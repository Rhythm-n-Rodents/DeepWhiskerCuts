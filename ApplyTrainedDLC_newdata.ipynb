{
 "cells": [
  {
   "cell_type": "markdown",
   "metadata": {
    "colab_type": "text",
    "id": "RK255E7YoEIt"
   },
   "source": [
    "# Arash SC create a project for head position\n",
    "\n",
    "\n",
    "\n",
    "This notebook demonstrates the necessary steps to use python and DeepLabCut for creating and analysins videos from orientation \n",
    "experiment \n",
    "\n",
    "This notebook illustrates how to:\n",
    " \n",
    "- make a movie from images \n",
    "- create a project\n",
    "- extract training frames\n",
    "- label the frames\n",
    "- plot the labeled images (optional)\n",
    "- create a training set\n",
    "- train a network\n",
    "- evaluate a network\n",
    "- analyze a novel video\n",
    "- create an automatically labeled video (optional)\n",
    "- Go to Matlab \n",
    "\n"
   ]
  },
  {
   "cell_type": "markdown",
   "metadata": {
    "colab_type": "text",
    "id": "9Uoz9mdPoEIy"
   },
   "source": [
    "## Create a new project\n",
    "\n",
    "It is always good idea to keep the projects seperate. This function creates a new project with subdirectories and a basic configuration file in the user defined directory otherwise the project is created in the current working directory.\n",
    "\n",
    "You can always add new videos to the project at any stage of the project. "
   ]
  },
  {
   "cell_type": "code",
   "execution_count": 1,
   "metadata": {
    "colab": {},
    "colab_type": "code",
    "id": "jqLZhp7EoEI0"
   },
   "outputs": [],
   "source": [
    "import deeplabcut\n",
    "## https://github.com/AlexEMG/DeepLabCut"
   ]
  },
  {
   "cell_type": "markdown",
   "metadata": {},
   "source": [
    "## define the config path and load deeplabcut\n"
   ]
  },
  {
   "cell_type": "code",
   "execution_count": 2,
   "metadata": {},
   "outputs": [],
   "source": [
    "# write the Path config file path\n",
    "path_config_file = 'E:\\\\movies\\\\ar2breathing\\\\10_08_19\\\\ar2breathing_10_08_19LR_R-Arash-2020-04-30\\\\config.yaml';\n",
    "path_config_file = 'D:\\\\videos\\\\ar21\\\\2020-07-06\\\\ar21_07_06_20Face2-Arash-2020-07-07\\\\config.yaml';\n",
    "path_config_file = 'D:\\\\Dropbox\\\\Notebook\\\\ar19_09_15_20Face3-Arash-2020-09-16\\\\config.yaml';\n",
    "path_config_file = 'D:\\\\Dropbox\\\\Notebook\\\\ar32_10_09_20Face3-Arash-2020-10-10\\\\config.yaml';\n",
    "path_config_file = 'D:\\\\videos\\\\ar32\\\\2020_10_09\\\\ar32_10_09_20Face3-Arash-2020-10-10\\\\config.yaml';\n",
    "#path_config_file = 'D:\\\\videos\\\\ar19\\\\2020_10_12\\\\ar19_10_12_20LR_whisker-Arash-2020-10-14\\\\config.yaml';\n",
    "path_config_file = 'D:\\\\videos\\\\ar30\\\\2020_11_04\\\\ar30_11_05_20whiskers-Arash-2020-11-08\\\\config.yaml'\n",
    "\n",
    "# the best for the head tracking\n",
    "path_config_file = 'D:\\\\videos\\\\ar32\\\\ar32_10_11_24-Arash-2020-11-25\\\\config.yaml';\n",
    "#path_config_file = 'D:\\\\videos\\\\ar30\\\\2020_11_04\\\\ar30_11_05_20whiskers-Arash-2020-11-08\\\\config.yaml'\n"
   ]
  },
  {
   "cell_type": "markdown",
   "metadata": {
    "colab_type": "text",
    "id": "OVFLSKKfoEJk"
   },
   "source": [
    "## Start Analyzing videos\n",
    "This function analyzes the new video. The user can choose the best model from the evaluation results and specify the correct snapshot index for the variable **snapshotindex** in the **config.yaml** file. Otherwise, by default the most recent snapshot is used to analyse the video.\n",
    "\n",
    "The results are stored in hd5 file in the same directory where the video resides. "
   ]
  },
  {
   "cell_type": "code",
   "execution_count": 16,
   "metadata": {
    "colab": {},
    "colab_type": "code",
    "id": "Y_LZiS_0oEJl",
    "scrolled": false
   },
   "outputs": [
    {
     "name": "stdout",
     "output_type": "stream",
     "text": [
      "D:\\videos\\ar32\\2020_11_24\\90.avi\n",
      "Using snapshot-334000 for model D:\\videos\\ar32\\ar32_10_11_24-Arash-2020-11-25\\dlc-models\\iteration-0\\ar32_10_11_24Nov25-trainset95shuffle1\n",
      "Initializing ResNet\n",
      "Starting to analyze %  D:\\videos\\ar32\\2020_11_24\\90.avi\n",
      "D:\\videos\\ar32\\2020_11_24  already exists!\n",
      "The videos are analyzed. Now your research can truly start! \n",
      " You can create labeled videos with 'create_labeled_video'\n",
      "If the tracking is not satisfactory for some videos, consider expanding the training set. You can use the function 'extract_outlier_frames' to extract a few representative outlier frames.\n",
      "Filtering with median model D:\\videos\\ar32\\2020_11_24\\90.avi\n",
      "Data from 90 were already filtered. Skipping...\n"
     ]
    }
   ],
   "source": [
    "\n",
    "#path_config_file = 'D:\\\\Dropbox\\\\Notebook\\\\ar19_09_15_20Face3-Arash-2020-09-16\\\\config.yaml';\n",
    "path_config_file = 'D:\\\\videos\\\\ar32\\\\ar32_10_11_24-Arash-2020-11-25\\\\config.yaml';\n",
    "path_config_file = 'D:\\\\videos\\\\ar30\\\\2020_11_04\\\\ar30_11_05_20whiskers-Arash-2020-11-08\\\\config.yaml'\n",
    "path_config_file = 'D:\\\\videos\\\\ar32\\\\ar32_10_11_24-Arash-2020-11-25\\\\config.yaml';\n",
    "\n",
    "import os\n",
    "Mainfolder = 'D:\\\\videos\\\\ar32\\\\2020_11_24'\n",
    "text_files = [os.path.join(Mainfolder,f) for f in os.listdir(Mainfolder) if f.endswith('.avi') and not f.endswith('L.avi') and not f.endswith('R.avi') and not f.endswith('videopoints.avi') and not f.endswith('videopoints.avi')]\n",
    "print(text_files[-10])\n",
    "#deeplabcut.analyze_videos(path_config_file,text_files[1:len(text_files)],shuffle=1, save_as_csv=True)\n",
    "#deeplabcut.analyze_videos(path_config_file,text_files[3],shuffle=1, save_as_csv=True)\n",
    "deeplabcut.analyze_videos(path_config_file,text_files[-10],shuffle=1, save_as_csv=True)\n",
    "deeplabcut.filterpredictions(path_config_file,text_files[-10])\n"
   ]
  },
  {
   "cell_type": "code",
   "execution_count": null,
   "metadata": {},
   "outputs": [],
   "source": [
    "deeplabcut.filterpredictions(path_config_file,text_files[2:])\n"
   ]
  },
  {
   "cell_type": "code",
   "execution_count": 18,
   "metadata": {},
   "outputs": [
    {
     "name": "stdout",
     "output_type": "stream",
     "text": [
      "['D:\\\\videos\\\\ar30\\\\2020_12_08\\\\Mask100L.avi', 'D:\\\\videos\\\\ar30\\\\2020_12_08\\\\Mask101L.avi', 'D:\\\\videos\\\\ar30\\\\2020_12_08\\\\Mask102L.avi', 'D:\\\\videos\\\\ar30\\\\2020_12_08\\\\Mask103L.avi', 'D:\\\\videos\\\\ar30\\\\2020_12_08\\\\Mask104L.avi', 'D:\\\\videos\\\\ar30\\\\2020_12_08\\\\Mask105L.avi', 'D:\\\\videos\\\\ar30\\\\2020_12_08\\\\Mask106L.avi', 'D:\\\\videos\\\\ar30\\\\2020_12_08\\\\Mask107L.avi', 'D:\\\\videos\\\\ar30\\\\2020_12_08\\\\Mask108L.avi', 'D:\\\\videos\\\\ar30\\\\2020_12_08\\\\Mask109L.avi', 'D:\\\\videos\\\\ar30\\\\2020_12_08\\\\Mask10L.avi', 'D:\\\\videos\\\\ar30\\\\2020_12_08\\\\Mask110L.avi', 'D:\\\\videos\\\\ar30\\\\2020_12_08\\\\Mask111L.avi', 'D:\\\\videos\\\\ar30\\\\2020_12_08\\\\Mask112L.avi', 'D:\\\\videos\\\\ar30\\\\2020_12_08\\\\Mask113L.avi', 'D:\\\\videos\\\\ar30\\\\2020_12_08\\\\Mask114L.avi', 'D:\\\\videos\\\\ar30\\\\2020_12_08\\\\Mask115L.avi', 'D:\\\\videos\\\\ar30\\\\2020_12_08\\\\Mask116L.avi', 'D:\\\\videos\\\\ar30\\\\2020_12_08\\\\Mask117L.avi', 'D:\\\\videos\\\\ar30\\\\2020_12_08\\\\Mask118L.avi', 'D:\\\\videos\\\\ar30\\\\2020_12_08\\\\Mask119L.avi', 'D:\\\\videos\\\\ar30\\\\2020_12_08\\\\Mask11L.avi', 'D:\\\\videos\\\\ar30\\\\2020_12_08\\\\Mask120L.avi', 'D:\\\\videos\\\\ar30\\\\2020_12_08\\\\Mask121L.avi', 'D:\\\\videos\\\\ar30\\\\2020_12_08\\\\Mask122L.avi', 'D:\\\\videos\\\\ar30\\\\2020_12_08\\\\Mask123L.avi', 'D:\\\\videos\\\\ar30\\\\2020_12_08\\\\Mask124L.avi', 'D:\\\\videos\\\\ar30\\\\2020_12_08\\\\Mask125L.avi', 'D:\\\\videos\\\\ar30\\\\2020_12_08\\\\Mask126L.avi', 'D:\\\\videos\\\\ar30\\\\2020_12_08\\\\Mask127L.avi', 'D:\\\\videos\\\\ar30\\\\2020_12_08\\\\Mask128L.avi', 'D:\\\\videos\\\\ar30\\\\2020_12_08\\\\Mask129L.avi', 'D:\\\\videos\\\\ar30\\\\2020_12_08\\\\Mask12L.avi', 'D:\\\\videos\\\\ar30\\\\2020_12_08\\\\Mask130L.avi', 'D:\\\\videos\\\\ar30\\\\2020_12_08\\\\Mask131L.avi', 'D:\\\\videos\\\\ar30\\\\2020_12_08\\\\Mask132L.avi', 'D:\\\\videos\\\\ar30\\\\2020_12_08\\\\Mask133L.avi', 'D:\\\\videos\\\\ar30\\\\2020_12_08\\\\Mask134L.avi', 'D:\\\\videos\\\\ar30\\\\2020_12_08\\\\Mask135L.avi', 'D:\\\\videos\\\\ar30\\\\2020_12_08\\\\Mask136L.avi', 'D:\\\\videos\\\\ar30\\\\2020_12_08\\\\Mask137L.avi', 'D:\\\\videos\\\\ar30\\\\2020_12_08\\\\Mask138L.avi', 'D:\\\\videos\\\\ar30\\\\2020_12_08\\\\Mask139L.avi', 'D:\\\\videos\\\\ar30\\\\2020_12_08\\\\Mask13L.avi', 'D:\\\\videos\\\\ar30\\\\2020_12_08\\\\Mask140L.avi', 'D:\\\\videos\\\\ar30\\\\2020_12_08\\\\Mask141L.avi', 'D:\\\\videos\\\\ar30\\\\2020_12_08\\\\Mask142L.avi', 'D:\\\\videos\\\\ar30\\\\2020_12_08\\\\Mask143L.avi', 'D:\\\\videos\\\\ar30\\\\2020_12_08\\\\Mask144L.avi', 'D:\\\\videos\\\\ar30\\\\2020_12_08\\\\Mask145L.avi', 'D:\\\\videos\\\\ar30\\\\2020_12_08\\\\Mask146L.avi', 'D:\\\\videos\\\\ar30\\\\2020_12_08\\\\Mask148L.avi', 'D:\\\\videos\\\\ar30\\\\2020_12_08\\\\Mask149L.avi', 'D:\\\\videos\\\\ar30\\\\2020_12_08\\\\Mask14L.avi', 'D:\\\\videos\\\\ar30\\\\2020_12_08\\\\Mask150L.avi', 'D:\\\\videos\\\\ar30\\\\2020_12_08\\\\Mask151L.avi', 'D:\\\\videos\\\\ar30\\\\2020_12_08\\\\Mask152L.avi', 'D:\\\\videos\\\\ar30\\\\2020_12_08\\\\Mask153L.avi', 'D:\\\\videos\\\\ar30\\\\2020_12_08\\\\Mask154L.avi', 'D:\\\\videos\\\\ar30\\\\2020_12_08\\\\Mask155L.avi', 'D:\\\\videos\\\\ar30\\\\2020_12_08\\\\Mask156L.avi', 'D:\\\\videos\\\\ar30\\\\2020_12_08\\\\Mask157L.avi', 'D:\\\\videos\\\\ar30\\\\2020_12_08\\\\Mask158L.avi', 'D:\\\\videos\\\\ar30\\\\2020_12_08\\\\Mask159L.avi', 'D:\\\\videos\\\\ar30\\\\2020_12_08\\\\Mask15L.avi', 'D:\\\\videos\\\\ar30\\\\2020_12_08\\\\Mask160L.avi', 'D:\\\\videos\\\\ar30\\\\2020_12_08\\\\Mask161L.avi', 'D:\\\\videos\\\\ar30\\\\2020_12_08\\\\Mask162L.avi', 'D:\\\\videos\\\\ar30\\\\2020_12_08\\\\Mask163L.avi', 'D:\\\\videos\\\\ar30\\\\2020_12_08\\\\Mask164L.avi', 'D:\\\\videos\\\\ar30\\\\2020_12_08\\\\Mask165L.avi', 'D:\\\\videos\\\\ar30\\\\2020_12_08\\\\Mask166L.avi', 'D:\\\\videos\\\\ar30\\\\2020_12_08\\\\Mask167L.avi', 'D:\\\\videos\\\\ar30\\\\2020_12_08\\\\Mask168L.avi', 'D:\\\\videos\\\\ar30\\\\2020_12_08\\\\Mask169L.avi', 'D:\\\\videos\\\\ar30\\\\2020_12_08\\\\Mask16L.avi', 'D:\\\\videos\\\\ar30\\\\2020_12_08\\\\Mask170L.avi', 'D:\\\\videos\\\\ar30\\\\2020_12_08\\\\Mask171L.avi', 'D:\\\\videos\\\\ar30\\\\2020_12_08\\\\Mask172L.avi', 'D:\\\\videos\\\\ar30\\\\2020_12_08\\\\Mask173L.avi', 'D:\\\\videos\\\\ar30\\\\2020_12_08\\\\Mask174L.avi', 'D:\\\\videos\\\\ar30\\\\2020_12_08\\\\Mask175L.avi', 'D:\\\\videos\\\\ar30\\\\2020_12_08\\\\Mask176L.avi', 'D:\\\\videos\\\\ar30\\\\2020_12_08\\\\Mask177L.avi', 'D:\\\\videos\\\\ar30\\\\2020_12_08\\\\Mask178L.avi', 'D:\\\\videos\\\\ar30\\\\2020_12_08\\\\Mask179L.avi', 'D:\\\\videos\\\\ar30\\\\2020_12_08\\\\Mask17L.avi', 'D:\\\\videos\\\\ar30\\\\2020_12_08\\\\Mask180L.avi', 'D:\\\\videos\\\\ar30\\\\2020_12_08\\\\Mask181L.avi', 'D:\\\\videos\\\\ar30\\\\2020_12_08\\\\Mask182L.avi', 'D:\\\\videos\\\\ar30\\\\2020_12_08\\\\Mask183L.avi', 'D:\\\\videos\\\\ar30\\\\2020_12_08\\\\Mask184L.avi', 'D:\\\\videos\\\\ar30\\\\2020_12_08\\\\Mask185L.avi', 'D:\\\\videos\\\\ar30\\\\2020_12_08\\\\Mask186L.avi', 'D:\\\\videos\\\\ar30\\\\2020_12_08\\\\Mask187L.avi', 'D:\\\\videos\\\\ar30\\\\2020_12_08\\\\Mask188L.avi', 'D:\\\\videos\\\\ar30\\\\2020_12_08\\\\Mask189L.avi', 'D:\\\\videos\\\\ar30\\\\2020_12_08\\\\Mask18L.avi', 'D:\\\\videos\\\\ar30\\\\2020_12_08\\\\Mask190L.avi', 'D:\\\\videos\\\\ar30\\\\2020_12_08\\\\Mask191L.avi', 'D:\\\\videos\\\\ar30\\\\2020_12_08\\\\Mask192L.avi', 'D:\\\\videos\\\\ar30\\\\2020_12_08\\\\Mask193L.avi', 'D:\\\\videos\\\\ar30\\\\2020_12_08\\\\Mask194L.avi', 'D:\\\\videos\\\\ar30\\\\2020_12_08\\\\Mask195L.avi', 'D:\\\\videos\\\\ar30\\\\2020_12_08\\\\Mask196L.avi', 'D:\\\\videos\\\\ar30\\\\2020_12_08\\\\Mask19L.avi', 'D:\\\\videos\\\\ar30\\\\2020_12_08\\\\Mask1L.avi', 'D:\\\\videos\\\\ar30\\\\2020_12_08\\\\Mask205L.avi', 'D:\\\\videos\\\\ar30\\\\2020_12_08\\\\Mask206L.avi', 'D:\\\\videos\\\\ar30\\\\2020_12_08\\\\Mask207L.avi', 'D:\\\\videos\\\\ar30\\\\2020_12_08\\\\Mask208L.avi', 'D:\\\\videos\\\\ar30\\\\2020_12_08\\\\Mask209L.avi', 'D:\\\\videos\\\\ar30\\\\2020_12_08\\\\Mask20L.avi', 'D:\\\\videos\\\\ar30\\\\2020_12_08\\\\Mask210L.avi', 'D:\\\\videos\\\\ar30\\\\2020_12_08\\\\Mask211L.avi', 'D:\\\\videos\\\\ar30\\\\2020_12_08\\\\Mask212L.avi', 'D:\\\\videos\\\\ar30\\\\2020_12_08\\\\Mask213L.avi', 'D:\\\\videos\\\\ar30\\\\2020_12_08\\\\Mask214L.avi', 'D:\\\\videos\\\\ar30\\\\2020_12_08\\\\Mask215L.avi', 'D:\\\\videos\\\\ar30\\\\2020_12_08\\\\Mask219L.avi', 'D:\\\\videos\\\\ar30\\\\2020_12_08\\\\Mask21L.avi', 'D:\\\\videos\\\\ar30\\\\2020_12_08\\\\Mask220L.avi', 'D:\\\\videos\\\\ar30\\\\2020_12_08\\\\Mask221L.avi', 'D:\\\\videos\\\\ar30\\\\2020_12_08\\\\Mask222L.avi', 'D:\\\\videos\\\\ar30\\\\2020_12_08\\\\Mask223L.avi', 'D:\\\\videos\\\\ar30\\\\2020_12_08\\\\Mask224L.avi', 'D:\\\\videos\\\\ar30\\\\2020_12_08\\\\Mask225L.avi', 'D:\\\\videos\\\\ar30\\\\2020_12_08\\\\Mask226L.avi', 'D:\\\\videos\\\\ar30\\\\2020_12_08\\\\Mask227L.avi', 'D:\\\\videos\\\\ar30\\\\2020_12_08\\\\Mask228L.avi', 'D:\\\\videos\\\\ar30\\\\2020_12_08\\\\Mask229L.avi', 'D:\\\\videos\\\\ar30\\\\2020_12_08\\\\Mask22L.avi', 'D:\\\\videos\\\\ar30\\\\2020_12_08\\\\Mask230L.avi', 'D:\\\\videos\\\\ar30\\\\2020_12_08\\\\Mask231L.avi', 'D:\\\\videos\\\\ar30\\\\2020_12_08\\\\Mask232L.avi', 'D:\\\\videos\\\\ar30\\\\2020_12_08\\\\Mask233L.avi', 'D:\\\\videos\\\\ar30\\\\2020_12_08\\\\Mask234L.avi', 'D:\\\\videos\\\\ar30\\\\2020_12_08\\\\Mask235L.avi', 'D:\\\\videos\\\\ar30\\\\2020_12_08\\\\Mask236L.avi', 'D:\\\\videos\\\\ar30\\\\2020_12_08\\\\Mask237L.avi', 'D:\\\\videos\\\\ar30\\\\2020_12_08\\\\Mask238L.avi', 'D:\\\\videos\\\\ar30\\\\2020_12_08\\\\Mask239L.avi', 'D:\\\\videos\\\\ar30\\\\2020_12_08\\\\Mask23L.avi', 'D:\\\\videos\\\\ar30\\\\2020_12_08\\\\Mask240L.avi', 'D:\\\\videos\\\\ar30\\\\2020_12_08\\\\Mask241L.avi', 'D:\\\\videos\\\\ar30\\\\2020_12_08\\\\Mask242L.avi', 'D:\\\\videos\\\\ar30\\\\2020_12_08\\\\Mask243L.avi', 'D:\\\\videos\\\\ar30\\\\2020_12_08\\\\Mask244L.avi', 'D:\\\\videos\\\\ar30\\\\2020_12_08\\\\Mask245L.avi', 'D:\\\\videos\\\\ar30\\\\2020_12_08\\\\Mask246L.avi', 'D:\\\\videos\\\\ar30\\\\2020_12_08\\\\Mask247L.avi', 'D:\\\\videos\\\\ar30\\\\2020_12_08\\\\Mask248L.avi', 'D:\\\\videos\\\\ar30\\\\2020_12_08\\\\Mask249L.avi', 'D:\\\\videos\\\\ar30\\\\2020_12_08\\\\Mask250L.avi', 'D:\\\\videos\\\\ar30\\\\2020_12_08\\\\Mask251L.avi', 'D:\\\\videos\\\\ar30\\\\2020_12_08\\\\Mask252L.avi', 'D:\\\\videos\\\\ar30\\\\2020_12_08\\\\Mask253L.avi', 'D:\\\\videos\\\\ar30\\\\2020_12_08\\\\Mask254L.avi', 'D:\\\\videos\\\\ar30\\\\2020_12_08\\\\Mask25L.avi', 'D:\\\\videos\\\\ar30\\\\2020_12_08\\\\Mask26L.avi', 'D:\\\\videos\\\\ar30\\\\2020_12_08\\\\Mask27L.avi', 'D:\\\\videos\\\\ar30\\\\2020_12_08\\\\Mask28L.avi', 'D:\\\\videos\\\\ar30\\\\2020_12_08\\\\Mask29L.avi', 'D:\\\\videos\\\\ar30\\\\2020_12_08\\\\Mask2L.avi', 'D:\\\\videos\\\\ar30\\\\2020_12_08\\\\Mask30L.avi', 'D:\\\\videos\\\\ar30\\\\2020_12_08\\\\Mask31L.avi', 'D:\\\\videos\\\\ar30\\\\2020_12_08\\\\Mask32L.avi', 'D:\\\\videos\\\\ar30\\\\2020_12_08\\\\Mask33L.avi', 'D:\\\\videos\\\\ar30\\\\2020_12_08\\\\Mask34L.avi', 'D:\\\\videos\\\\ar30\\\\2020_12_08\\\\Mask35L.avi', 'D:\\\\videos\\\\ar30\\\\2020_12_08\\\\Mask36L.avi', 'D:\\\\videos\\\\ar30\\\\2020_12_08\\\\Mask37L.avi', 'D:\\\\videos\\\\ar30\\\\2020_12_08\\\\Mask38L.avi', 'D:\\\\videos\\\\ar30\\\\2020_12_08\\\\Mask39L.avi', 'D:\\\\videos\\\\ar30\\\\2020_12_08\\\\Mask3L.avi', 'D:\\\\videos\\\\ar30\\\\2020_12_08\\\\Mask40L.avi', 'D:\\\\videos\\\\ar30\\\\2020_12_08\\\\Mask41L.avi', 'D:\\\\videos\\\\ar30\\\\2020_12_08\\\\Mask42L.avi', 'D:\\\\videos\\\\ar30\\\\2020_12_08\\\\Mask43L.avi', 'D:\\\\videos\\\\ar30\\\\2020_12_08\\\\Mask44L.avi', 'D:\\\\videos\\\\ar30\\\\2020_12_08\\\\Mask45L.avi', 'D:\\\\videos\\\\ar30\\\\2020_12_08\\\\Mask46L.avi', 'D:\\\\videos\\\\ar30\\\\2020_12_08\\\\Mask47L.avi', 'D:\\\\videos\\\\ar30\\\\2020_12_08\\\\Mask48L.avi', 'D:\\\\videos\\\\ar30\\\\2020_12_08\\\\Mask49L.avi', 'D:\\\\videos\\\\ar30\\\\2020_12_08\\\\Mask4L.avi', 'D:\\\\videos\\\\ar30\\\\2020_12_08\\\\Mask50L.avi', 'D:\\\\videos\\\\ar30\\\\2020_12_08\\\\Mask51L.avi', 'D:\\\\videos\\\\ar30\\\\2020_12_08\\\\Mask52L.avi', 'D:\\\\videos\\\\ar30\\\\2020_12_08\\\\Mask53L.avi', 'D:\\\\videos\\\\ar30\\\\2020_12_08\\\\Mask54L.avi', 'D:\\\\videos\\\\ar30\\\\2020_12_08\\\\Mask55L.avi', 'D:\\\\videos\\\\ar30\\\\2020_12_08\\\\Mask56L.avi', 'D:\\\\videos\\\\ar30\\\\2020_12_08\\\\Mask57L.avi', 'D:\\\\videos\\\\ar30\\\\2020_12_08\\\\Mask58L.avi', 'D:\\\\videos\\\\ar30\\\\2020_12_08\\\\Mask59L.avi', 'D:\\\\videos\\\\ar30\\\\2020_12_08\\\\Mask5L.avi', 'D:\\\\videos\\\\ar30\\\\2020_12_08\\\\Mask60L.avi', 'D:\\\\videos\\\\ar30\\\\2020_12_08\\\\Mask61L.avi', 'D:\\\\videos\\\\ar30\\\\2020_12_08\\\\Mask62L.avi', 'D:\\\\videos\\\\ar30\\\\2020_12_08\\\\Mask63L.avi', 'D:\\\\videos\\\\ar30\\\\2020_12_08\\\\Mask64L.avi', 'D:\\\\videos\\\\ar30\\\\2020_12_08\\\\Mask65L.avi', 'D:\\\\videos\\\\ar30\\\\2020_12_08\\\\Mask66L.avi', 'D:\\\\videos\\\\ar30\\\\2020_12_08\\\\Mask67L.avi', 'D:\\\\videos\\\\ar30\\\\2020_12_08\\\\Mask68L.avi', 'D:\\\\videos\\\\ar30\\\\2020_12_08\\\\Mask69L.avi', 'D:\\\\videos\\\\ar30\\\\2020_12_08\\\\Mask6L.avi', 'D:\\\\videos\\\\ar30\\\\2020_12_08\\\\Mask70L.avi', 'D:\\\\videos\\\\ar30\\\\2020_12_08\\\\Mask71L.avi', 'D:\\\\videos\\\\ar30\\\\2020_12_08\\\\Mask72L.avi', 'D:\\\\videos\\\\ar30\\\\2020_12_08\\\\Mask73L.avi', 'D:\\\\videos\\\\ar30\\\\2020_12_08\\\\Mask74L.avi', 'D:\\\\videos\\\\ar30\\\\2020_12_08\\\\Mask75L.avi', 'D:\\\\videos\\\\ar30\\\\2020_12_08\\\\Mask76L.avi', 'D:\\\\videos\\\\ar30\\\\2020_12_08\\\\Mask77L.avi', 'D:\\\\videos\\\\ar30\\\\2020_12_08\\\\Mask78L.avi', 'D:\\\\videos\\\\ar30\\\\2020_12_08\\\\Mask79L.avi', 'D:\\\\videos\\\\ar30\\\\2020_12_08\\\\Mask7L.avi', 'D:\\\\videos\\\\ar30\\\\2020_12_08\\\\Mask80L.avi', 'D:\\\\videos\\\\ar30\\\\2020_12_08\\\\Mask81L.avi', 'D:\\\\videos\\\\ar30\\\\2020_12_08\\\\Mask82L.avi', 'D:\\\\videos\\\\ar30\\\\2020_12_08\\\\Mask84L.avi', 'D:\\\\videos\\\\ar30\\\\2020_12_08\\\\Mask85L.avi', 'D:\\\\videos\\\\ar30\\\\2020_12_08\\\\Mask86L.avi', 'D:\\\\videos\\\\ar30\\\\2020_12_08\\\\Mask87L.avi', 'D:\\\\videos\\\\ar30\\\\2020_12_08\\\\Mask88L.avi', 'D:\\\\videos\\\\ar30\\\\2020_12_08\\\\Mask89L.avi', 'D:\\\\videos\\\\ar30\\\\2020_12_08\\\\Mask8L.avi', 'D:\\\\videos\\\\ar30\\\\2020_12_08\\\\Mask90L.avi', 'D:\\\\videos\\\\ar30\\\\2020_12_08\\\\Mask91L.avi', 'D:\\\\videos\\\\ar30\\\\2020_12_08\\\\Mask92L.avi', 'D:\\\\videos\\\\ar30\\\\2020_12_08\\\\Mask93L.avi', 'D:\\\\videos\\\\ar30\\\\2020_12_08\\\\Mask94L.avi', 'D:\\\\videos\\\\ar30\\\\2020_12_08\\\\Mask95L.avi', 'D:\\\\videos\\\\ar30\\\\2020_12_08\\\\Mask96L.avi', 'D:\\\\videos\\\\ar30\\\\2020_12_08\\\\Mask97L.avi', 'D:\\\\videos\\\\ar30\\\\2020_12_08\\\\Mask98L.avi', 'D:\\\\videos\\\\ar30\\\\2020_12_08\\\\Mask99L.avi', 'D:\\\\videos\\\\ar30\\\\2020_12_08\\\\Mask9L.avi']"
     ]
    },
    {
     "name": "stdout",
     "output_type": "stream",
     "text": [
      "\n",
      "Using snapshot-185000 for model D:\\videos\\ar30\\2020_11_04\\ar30_11_05_20whiskers-Arash-2020-11-08\\dlc-models\\iteration-0\\ar30_11_05_20whiskersNov8-trainset95shuffle1\n",
      "Initializing ResNet\n",
      "Starting to analyze %  D:\\videos\\ar30\\2020_12_08\\Mirror100R.avi\n",
      "D:\\videos\\ar30\\2020_12_08  already exists!\n",
      "Starting to analyze %  D:\\videos\\ar30\\2020_12_08\\Mirror101R.avi\n",
      "D:\\videos\\ar30\\2020_12_08  already exists!\n",
      "Starting to analyze %  D:\\videos\\ar30\\2020_12_08\\Mirror102R.avi\n",
      "D:\\videos\\ar30\\2020_12_08  already exists!\n",
      "Starting to analyze %  D:\\videos\\ar30\\2020_12_08\\Mirror103R.avi\n",
      "D:\\videos\\ar30\\2020_12_08  already exists!\n",
      "Starting to analyze %  D:\\videos\\ar30\\2020_12_08\\Mirror104R.avi\n",
      "D:\\videos\\ar30\\2020_12_08  already exists!\n",
      "Starting to analyze %  D:\\videos\\ar30\\2020_12_08\\Mirror105R.avi\n",
      "D:\\videos\\ar30\\2020_12_08  already exists!\n",
      "Starting to analyze %  D:\\videos\\ar30\\2020_12_08\\Mirror106R.avi\n",
      "D:\\videos\\ar30\\2020_12_08  already exists!\n",
      "Starting to analyze %  D:\\videos\\ar30\\2020_12_08\\Mirror107R.avi\n",
      "D:\\videos\\ar30\\2020_12_08  already exists!\n",
      "Starting to analyze %  D:\\videos\\ar30\\2020_12_08\\Mirror108R.avi\n",
      "D:\\videos\\ar30\\2020_12_08  already exists!\n",
      "Starting to analyze %  D:\\videos\\ar30\\2020_12_08\\Mirror109R.avi\n",
      "D:\\videos\\ar30\\2020_12_08  already exists!\n",
      "Starting to analyze %  D:\\videos\\ar30\\2020_12_08\\Mirror10R.avi\n",
      "D:\\videos\\ar30\\2020_12_08  already exists!\n",
      "Starting to analyze %  D:\\videos\\ar30\\2020_12_08\\Mirror110R.avi\n",
      "D:\\videos\\ar30\\2020_12_08  already exists!\n",
      "Starting to analyze %  D:\\videos\\ar30\\2020_12_08\\Mirror111R.avi\n",
      "D:\\videos\\ar30\\2020_12_08  already exists!\n",
      "Starting to analyze %  D:\\videos\\ar30\\2020_12_08\\Mirror112R.avi\n",
      "D:\\videos\\ar30\\2020_12_08  already exists!\n",
      "Starting to analyze %  D:\\videos\\ar30\\2020_12_08\\Mirror113R.avi\n",
      "D:\\videos\\ar30\\2020_12_08  already exists!\n",
      "Starting to analyze %  D:\\videos\\ar30\\2020_12_08\\Mirror114R.avi\n",
      "D:\\videos\\ar30\\2020_12_08  already exists!\n",
      "Starting to analyze %  D:\\videos\\ar30\\2020_12_08\\Mirror115R.avi\n",
      "D:\\videos\\ar30\\2020_12_08  already exists!\n",
      "Starting to analyze %  D:\\videos\\ar30\\2020_12_08\\Mirror116R.avi\n",
      "D:\\videos\\ar30\\2020_12_08  already exists!\n",
      "Starting to analyze %  D:\\videos\\ar30\\2020_12_08\\Mirror117R.avi\n",
      "D:\\videos\\ar30\\2020_12_08  already exists!\n",
      "Starting to analyze %  D:\\videos\\ar30\\2020_12_08\\Mirror118R.avi\n",
      "D:\\videos\\ar30\\2020_12_08  already exists!\n",
      "Starting to analyze %  D:\\videos\\ar30\\2020_12_08\\Mirror119R.avi\n",
      "D:\\videos\\ar30\\2020_12_08  already exists!\n",
      "Starting to analyze %  D:\\videos\\ar30\\2020_12_08\\Mirror11R.avi\n",
      "D:\\videos\\ar30\\2020_12_08  already exists!\n",
      "Starting to analyze %  D:\\videos\\ar30\\2020_12_08\\Mirror120R.avi\n",
      "D:\\videos\\ar30\\2020_12_08  already exists!\n",
      "Starting to analyze %  D:\\videos\\ar30\\2020_12_08\\Mirror121R.avi\n",
      "D:\\videos\\ar30\\2020_12_08  already exists!\n",
      "Starting to analyze %  D:\\videos\\ar30\\2020_12_08\\Mirror122R.avi\n",
      "D:\\videos\\ar30\\2020_12_08  already exists!\n",
      "Starting to analyze %  D:\\videos\\ar30\\2020_12_08\\Mirror123R.avi\n",
      "D:\\videos\\ar30\\2020_12_08  already exists!\n",
      "Starting to analyze %  D:\\videos\\ar30\\2020_12_08\\Mirror124R.avi\n",
      "D:\\videos\\ar30\\2020_12_08  already exists!\n",
      "Starting to analyze %  D:\\videos\\ar30\\2020_12_08\\Mirror125R.avi\n",
      "D:\\videos\\ar30\\2020_12_08  already exists!\n",
      "Starting to analyze %  D:\\videos\\ar30\\2020_12_08\\Mirror126R.avi\n",
      "D:\\videos\\ar30\\2020_12_08  already exists!\n",
      "Starting to analyze %  D:\\videos\\ar30\\2020_12_08\\Mirror127R.avi\n",
      "D:\\videos\\ar30\\2020_12_08  already exists!\n",
      "Starting to analyze %  D:\\videos\\ar30\\2020_12_08\\Mirror128R.avi\n",
      "D:\\videos\\ar30\\2020_12_08  already exists!\n",
      "Starting to analyze %  D:\\videos\\ar30\\2020_12_08\\Mirror129R.avi\n",
      "D:\\videos\\ar30\\2020_12_08  already exists!\n",
      "Starting to analyze %  D:\\videos\\ar30\\2020_12_08\\Mirror12R.avi\n",
      "D:\\videos\\ar30\\2020_12_08  already exists!\n",
      "Starting to analyze %  D:\\videos\\ar30\\2020_12_08\\Mirror130R.avi\n",
      "D:\\videos\\ar30\\2020_12_08  already exists!\n",
      "Starting to analyze %  D:\\videos\\ar30\\2020_12_08\\Mirror131R.avi\n",
      "D:\\videos\\ar30\\2020_12_08  already exists!\n",
      "Starting to analyze %  D:\\videos\\ar30\\2020_12_08\\Mirror132R.avi\n",
      "D:\\videos\\ar30\\2020_12_08  already exists!\n",
      "Starting to analyze %  D:\\videos\\ar30\\2020_12_08\\Mirror133R.avi\n",
      "D:\\videos\\ar30\\2020_12_08  already exists!\n",
      "Starting to analyze %  D:\\videos\\ar30\\2020_12_08\\Mirror134R.avi\n",
      "D:\\videos\\ar30\\2020_12_08  already exists!\n",
      "Starting to analyze %  D:\\videos\\ar30\\2020_12_08\\Mirror135R.avi\n",
      "D:\\videos\\ar30\\2020_12_08  already exists!\n",
      "Starting to analyze %  D:\\videos\\ar30\\2020_12_08\\Mirror136R.avi\n",
      "D:\\videos\\ar30\\2020_12_08  already exists!\n",
      "Starting to analyze %  D:\\videos\\ar30\\2020_12_08\\Mirror137R.avi\n",
      "D:\\videos\\ar30\\2020_12_08  already exists!\n",
      "Starting to analyze %  D:\\videos\\ar30\\2020_12_08\\Mirror138R.avi\n",
      "D:\\videos\\ar30\\2020_12_08  already exists!\n",
      "Starting to analyze %  D:\\videos\\ar30\\2020_12_08\\Mirror139R.avi\n",
      "D:\\videos\\ar30\\2020_12_08  already exists!\n",
      "Starting to analyze %  D:\\videos\\ar30\\2020_12_08\\Mirror13R.avi\n",
      "D:\\videos\\ar30\\2020_12_08  already exists!\n",
      "Starting to analyze %  D:\\videos\\ar30\\2020_12_08\\Mirror140R.avi\n",
      "D:\\videos\\ar30\\2020_12_08  already exists!\n",
      "Starting to analyze %  D:\\videos\\ar30\\2020_12_08\\Mirror141R.avi\n",
      "D:\\videos\\ar30\\2020_12_08  already exists!\n",
      "Starting to analyze %  D:\\videos\\ar30\\2020_12_08\\Mirror142R.avi\n",
      "D:\\videos\\ar30\\2020_12_08  already exists!\n",
      "Starting to analyze %  D:\\videos\\ar30\\2020_12_08\\Mirror143R.avi\n",
      "D:\\videos\\ar30\\2020_12_08  already exists!\n",
      "Starting to analyze %  D:\\videos\\ar30\\2020_12_08\\Mirror144R.avi\n",
      "D:\\videos\\ar30\\2020_12_08  already exists!\n",
      "Starting to analyze %  D:\\videos\\ar30\\2020_12_08\\Mirror145R.avi\n",
      "D:\\videos\\ar30\\2020_12_08  already exists!\n",
      "Starting to analyze %  D:\\videos\\ar30\\2020_12_08\\Mirror146R.avi\n",
      "D:\\videos\\ar30\\2020_12_08  already exists!\n",
      "Starting to analyze %  D:\\videos\\ar30\\2020_12_08\\Mirror148R.avi\n",
      "D:\\videos\\ar30\\2020_12_08  already exists!\n",
      "Starting to analyze %  D:\\videos\\ar30\\2020_12_08\\Mirror149R.avi\n",
      "D:\\videos\\ar30\\2020_12_08  already exists!\n",
      "Starting to analyze %  D:\\videos\\ar30\\2020_12_08\\Mirror14R.avi\n",
      "D:\\videos\\ar30\\2020_12_08  already exists!\n",
      "Starting to analyze %  D:\\videos\\ar30\\2020_12_08\\Mirror150R.avi\n",
      "D:\\videos\\ar30\\2020_12_08  already exists!\n",
      "Starting to analyze %  D:\\videos\\ar30\\2020_12_08\\Mirror151R.avi\n",
      "D:\\videos\\ar30\\2020_12_08  already exists!\n",
      "Starting to analyze %  D:\\videos\\ar30\\2020_12_08\\Mirror152R.avi\n",
      "D:\\videos\\ar30\\2020_12_08  already exists!\n",
      "Starting to analyze %  D:\\videos\\ar30\\2020_12_08\\Mirror153R.avi\n",
      "D:\\videos\\ar30\\2020_12_08  already exists!\n",
      "Starting to analyze %  D:\\videos\\ar30\\2020_12_08\\Mirror154R.avi\n",
      "D:\\videos\\ar30\\2020_12_08  already exists!\n",
      "Starting to analyze %  D:\\videos\\ar30\\2020_12_08\\Mirror155R.avi\n",
      "D:\\videos\\ar30\\2020_12_08  already exists!\n",
      "Starting to analyze %  D:\\videos\\ar30\\2020_12_08\\Mirror156R.avi\n",
      "D:\\videos\\ar30\\2020_12_08  already exists!\n",
      "Starting to analyze %  D:\\videos\\ar30\\2020_12_08\\Mirror157R.avi\n",
      "D:\\videos\\ar30\\2020_12_08  already exists!\n",
      "Starting to analyze %  D:\\videos\\ar30\\2020_12_08\\Mirror158R.avi\n",
      "D:\\videos\\ar30\\2020_12_08  already exists!\n",
      "Starting to analyze %  D:\\videos\\ar30\\2020_12_08\\Mirror159R.avi\n",
      "D:\\videos\\ar30\\2020_12_08  already exists!\n",
      "Starting to analyze %  D:\\videos\\ar30\\2020_12_08\\Mirror15R.avi\n",
      "D:\\videos\\ar30\\2020_12_08  already exists!\n",
      "Starting to analyze %  D:\\videos\\ar30\\2020_12_08\\Mirror160R.avi\n",
      "D:\\videos\\ar30\\2020_12_08  already exists!\n",
      "Starting to analyze %  D:\\videos\\ar30\\2020_12_08\\Mirror161R.avi\n",
      "D:\\videos\\ar30\\2020_12_08  already exists!\n",
      "Starting to analyze %  D:\\videos\\ar30\\2020_12_08\\Mirror162R.avi\n",
      "D:\\videos\\ar30\\2020_12_08  already exists!\n",
      "Starting to analyze %  D:\\videos\\ar30\\2020_12_08\\Mirror163R.avi\n",
      "D:\\videos\\ar30\\2020_12_08  already exists!\n",
      "Starting to analyze %  D:\\videos\\ar30\\2020_12_08\\Mirror164R.avi\n",
      "D:\\videos\\ar30\\2020_12_08  already exists!\n",
      "Starting to analyze %  D:\\videos\\ar30\\2020_12_08\\Mirror165R.avi\n",
      "D:\\videos\\ar30\\2020_12_08  already exists!\n",
      "Starting to analyze %  D:\\videos\\ar30\\2020_12_08\\Mirror166R.avi\n",
      "D:\\videos\\ar30\\2020_12_08  already exists!\n",
      "Starting to analyze %  D:\\videos\\ar30\\2020_12_08\\Mirror167R.avi\n",
      "D:\\videos\\ar30\\2020_12_08  already exists!\n",
      "Starting to analyze %  D:\\videos\\ar30\\2020_12_08\\Mirror168R.avi\n",
      "D:\\videos\\ar30\\2020_12_08  already exists!\n",
      "Starting to analyze %  D:\\videos\\ar30\\2020_12_08\\Mirror169R.avi\n",
      "D:\\videos\\ar30\\2020_12_08  already exists!\n",
      "Starting to analyze %  D:\\videos\\ar30\\2020_12_08\\Mirror16R.avi\n",
      "D:\\videos\\ar30\\2020_12_08  already exists!\n",
      "Starting to analyze %  D:\\videos\\ar30\\2020_12_08\\Mirror170R.avi\n",
      "D:\\videos\\ar30\\2020_12_08  already exists!\n",
      "Starting to analyze %  D:\\videos\\ar30\\2020_12_08\\Mirror171R.avi\n",
      "D:\\videos\\ar30\\2020_12_08  already exists!\n",
      "Starting to analyze %  D:\\videos\\ar30\\2020_12_08\\Mirror172R.avi\n",
      "D:\\videos\\ar30\\2020_12_08  already exists!\n",
      "Starting to analyze %  D:\\videos\\ar30\\2020_12_08\\Mirror173R.avi\n",
      "D:\\videos\\ar30\\2020_12_08  already exists!\n",
      "Starting to analyze %  D:\\videos\\ar30\\2020_12_08\\Mirror174R.avi\n",
      "D:\\videos\\ar30\\2020_12_08  already exists!\n",
      "Starting to analyze %  D:\\videos\\ar30\\2020_12_08\\Mirror175R.avi\n",
      "D:\\videos\\ar30\\2020_12_08  already exists!\n",
      "Starting to analyze %  D:\\videos\\ar30\\2020_12_08\\Mirror176R.avi\n",
      "D:\\videos\\ar30\\2020_12_08  already exists!\n",
      "Starting to analyze %  D:\\videos\\ar30\\2020_12_08\\Mirror177R.avi\n",
      "D:\\videos\\ar30\\2020_12_08  already exists!\n",
      "Starting to analyze %  D:\\videos\\ar30\\2020_12_08\\Mirror178R.avi\n",
      "D:\\videos\\ar30\\2020_12_08  already exists!\n",
      "Starting to analyze %  D:\\videos\\ar30\\2020_12_08\\Mirror179R.avi\n",
      "D:\\videos\\ar30\\2020_12_08  already exists!\n",
      "Starting to analyze %  D:\\videos\\ar30\\2020_12_08\\Mirror17R.avi\n",
      "D:\\videos\\ar30\\2020_12_08  already exists!\n",
      "Starting to analyze %  D:\\videos\\ar30\\2020_12_08\\Mirror180R.avi\n",
      "D:\\videos\\ar30\\2020_12_08  already exists!\n",
      "Starting to analyze %  D:\\videos\\ar30\\2020_12_08\\Mirror181R.avi\n",
      "D:\\videos\\ar30\\2020_12_08  already exists!\n",
      "Starting to analyze %  D:\\videos\\ar30\\2020_12_08\\Mirror182R.avi\n",
      "D:\\videos\\ar30\\2020_12_08  already exists!\n",
      "Starting to analyze %  D:\\videos\\ar30\\2020_12_08\\Mirror183R.avi\n",
      "D:\\videos\\ar30\\2020_12_08  already exists!\n",
      "Starting to analyze %  D:\\videos\\ar30\\2020_12_08\\Mirror184R.avi\n",
      "D:\\videos\\ar30\\2020_12_08  already exists!\n",
      "Starting to analyze %  D:\\videos\\ar30\\2020_12_08\\Mirror185R.avi\n",
      "D:\\videos\\ar30\\2020_12_08  already exists!\n",
      "Starting to analyze %  D:\\videos\\ar30\\2020_12_08\\Mirror186R.avi\n",
      "D:\\videos\\ar30\\2020_12_08  already exists!\n",
      "Starting to analyze %  D:\\videos\\ar30\\2020_12_08\\Mirror187R.avi\n",
      "D:\\videos\\ar30\\2020_12_08  already exists!\n",
      "Starting to analyze %  D:\\videos\\ar30\\2020_12_08\\Mirror188R.avi\n",
      "D:\\videos\\ar30\\2020_12_08  already exists!\n",
      "Starting to analyze %  D:\\videos\\ar30\\2020_12_08\\Mirror189R.avi\n",
      "D:\\videos\\ar30\\2020_12_08  already exists!\n",
      "Starting to analyze %  D:\\videos\\ar30\\2020_12_08\\Mirror18R.avi\n",
      "D:\\videos\\ar30\\2020_12_08  already exists!\n",
      "Starting to analyze %  D:\\videos\\ar30\\2020_12_08\\Mirror190R.avi\n",
      "D:\\videos\\ar30\\2020_12_08  already exists!\n",
      "Starting to analyze %  D:\\videos\\ar30\\2020_12_08\\Mirror191R.avi\n",
      "D:\\videos\\ar30\\2020_12_08  already exists!\n",
      "Starting to analyze %  D:\\videos\\ar30\\2020_12_08\\Mirror192R.avi\n",
      "D:\\videos\\ar30\\2020_12_08  already exists!\n",
      "Starting to analyze %  D:\\videos\\ar30\\2020_12_08\\Mirror193R.avi\n",
      "D:\\videos\\ar30\\2020_12_08  already exists!\n",
      "Starting to analyze %  D:\\videos\\ar30\\2020_12_08\\Mirror194R.avi\n",
      "D:\\videos\\ar30\\2020_12_08  already exists!\n",
      "Starting to analyze %  D:\\videos\\ar30\\2020_12_08\\Mirror195R.avi\n",
      "D:\\videos\\ar30\\2020_12_08  already exists!\n",
      "Starting to analyze %  D:\\videos\\ar30\\2020_12_08\\Mirror196R.avi\n",
      "D:\\videos\\ar30\\2020_12_08  already exists!\n",
      "Starting to analyze %  D:\\videos\\ar30\\2020_12_08\\Mirror19R.avi\n",
      "D:\\videos\\ar30\\2020_12_08  already exists!\n",
      "Starting to analyze %  D:\\videos\\ar30\\2020_12_08\\Mirror1R.avi\n",
      "D:\\videos\\ar30\\2020_12_08  already exists!\n",
      "Starting to analyze %  D:\\videos\\ar30\\2020_12_08\\Mirror205R.avi\n",
      "D:\\videos\\ar30\\2020_12_08  already exists!\n",
      "Starting to analyze %  D:\\videos\\ar30\\2020_12_08\\Mirror206R.avi\n",
      "D:\\videos\\ar30\\2020_12_08  already exists!\n",
      "Starting to analyze %  D:\\videos\\ar30\\2020_12_08\\Mirror207R.avi\n",
      "D:\\videos\\ar30\\2020_12_08  already exists!\n",
      "Starting to analyze %  D:\\videos\\ar30\\2020_12_08\\Mirror208R.avi\n",
      "D:\\videos\\ar30\\2020_12_08  already exists!\n",
      "Starting to analyze %  D:\\videos\\ar30\\2020_12_08\\Mirror209R.avi\n",
      "D:\\videos\\ar30\\2020_12_08  already exists!\n",
      "Starting to analyze %  D:\\videos\\ar30\\2020_12_08\\Mirror20R.avi\n",
      "D:\\videos\\ar30\\2020_12_08  already exists!\n",
      "Starting to analyze %  D:\\videos\\ar30\\2020_12_08\\Mirror210R.avi\n",
      "D:\\videos\\ar30\\2020_12_08  already exists!\n",
      "Starting to analyze %  D:\\videos\\ar30\\2020_12_08\\Mirror211R.avi\n",
      "D:\\videos\\ar30\\2020_12_08  already exists!\n",
      "Starting to analyze %  D:\\videos\\ar30\\2020_12_08\\Mirror212R.avi\n",
      "D:\\videos\\ar30\\2020_12_08  already exists!\n",
      "Starting to analyze %  D:\\videos\\ar30\\2020_12_08\\Mirror213R.avi\n",
      "D:\\videos\\ar30\\2020_12_08  already exists!\n",
      "Starting to analyze %  D:\\videos\\ar30\\2020_12_08\\Mirror214R.avi\n",
      "D:\\videos\\ar30\\2020_12_08  already exists!\n",
      "Starting to analyze %  D:\\videos\\ar30\\2020_12_08\\Mirror215R.avi\n",
      "D:\\videos\\ar30\\2020_12_08  already exists!\n",
      "Starting to analyze %  D:\\videos\\ar30\\2020_12_08\\Mirror219R.avi\n",
      "D:\\videos\\ar30\\2020_12_08  already exists!\n",
      "Starting to analyze %  D:\\videos\\ar30\\2020_12_08\\Mirror21R.avi\n",
      "D:\\videos\\ar30\\2020_12_08  already exists!\n",
      "Starting to analyze %  D:\\videos\\ar30\\2020_12_08\\Mirror220R.avi\n",
      "D:\\videos\\ar30\\2020_12_08  already exists!\n",
      "Starting to analyze %  D:\\videos\\ar30\\2020_12_08\\Mirror221R.avi\n",
      "D:\\videos\\ar30\\2020_12_08  already exists!\n",
      "Starting to analyze %  D:\\videos\\ar30\\2020_12_08\\Mirror222R.avi\n",
      "D:\\videos\\ar30\\2020_12_08  already exists!\n",
      "Starting to analyze %  D:\\videos\\ar30\\2020_12_08\\Mirror223R.avi\n",
      "D:\\videos\\ar30\\2020_12_08  already exists!\n",
      "Starting to analyze %  D:\\videos\\ar30\\2020_12_08\\Mirror224R.avi\n",
      "D:\\videos\\ar30\\2020_12_08  already exists!\n",
      "Starting to analyze %  D:\\videos\\ar30\\2020_12_08\\Mirror225R.avi\n",
      "D:\\videos\\ar30\\2020_12_08  already exists!\n",
      "Starting to analyze %  D:\\videos\\ar30\\2020_12_08\\Mirror226R.avi\n",
      "D:\\videos\\ar30\\2020_12_08  already exists!\n",
      "Starting to analyze %  D:\\videos\\ar30\\2020_12_08\\Mirror227R.avi\n",
      "D:\\videos\\ar30\\2020_12_08  already exists!\n",
      "Starting to analyze %  D:\\videos\\ar30\\2020_12_08\\Mirror228R.avi\n",
      "D:\\videos\\ar30\\2020_12_08  already exists!\n",
      "Starting to analyze %  D:\\videos\\ar30\\2020_12_08\\Mirror229R.avi\n",
      "D:\\videos\\ar30\\2020_12_08  already exists!\n",
      "Starting to analyze %  D:\\videos\\ar30\\2020_12_08\\Mirror22R.avi\n",
      "D:\\videos\\ar30\\2020_12_08  already exists!\n",
      "Starting to analyze %  D:\\videos\\ar30\\2020_12_08\\Mirror230R.avi\n",
      "D:\\videos\\ar30\\2020_12_08  already exists!\n",
      "Starting to analyze %  D:\\videos\\ar30\\2020_12_08\\Mirror231R.avi\n",
      "D:\\videos\\ar30\\2020_12_08  already exists!\n",
      "Starting to analyze %  D:\\videos\\ar30\\2020_12_08\\Mirror232R.avi\n",
      "D:\\videos\\ar30\\2020_12_08  already exists!\n",
      "Starting to analyze %  D:\\videos\\ar30\\2020_12_08\\Mirror233R.avi\n",
      "D:\\videos\\ar30\\2020_12_08  already exists!\n",
      "Starting to analyze %  D:\\videos\\ar30\\2020_12_08\\Mirror234R.avi\n",
      "D:\\videos\\ar30\\2020_12_08  already exists!\n",
      "Starting to analyze %  D:\\videos\\ar30\\2020_12_08\\Mirror235R.avi\n",
      "D:\\videos\\ar30\\2020_12_08  already exists!\n",
      "Starting to analyze %  D:\\videos\\ar30\\2020_12_08\\Mirror236R.avi\n",
      "D:\\videos\\ar30\\2020_12_08  already exists!\n",
      "Starting to analyze %  D:\\videos\\ar30\\2020_12_08\\Mirror237R.avi\n",
      "D:\\videos\\ar30\\2020_12_08  already exists!\n",
      "Starting to analyze %  D:\\videos\\ar30\\2020_12_08\\Mirror238R.avi\n",
      "D:\\videos\\ar30\\2020_12_08  already exists!\n",
      "Starting to analyze %  D:\\videos\\ar30\\2020_12_08\\Mirror239R.avi\n",
      "D:\\videos\\ar30\\2020_12_08  already exists!\n",
      "Starting to analyze %  D:\\videos\\ar30\\2020_12_08\\Mirror23R.avi\n",
      "D:\\videos\\ar30\\2020_12_08  already exists!\n",
      "Starting to analyze %  D:\\videos\\ar30\\2020_12_08\\Mirror240R.avi\n",
      "D:\\videos\\ar30\\2020_12_08  already exists!\n",
      "Starting to analyze %  D:\\videos\\ar30\\2020_12_08\\Mirror241R.avi\n",
      "D:\\videos\\ar30\\2020_12_08  already exists!\n",
      "Starting to analyze %  D:\\videos\\ar30\\2020_12_08\\Mirror242R.avi\n",
      "D:\\videos\\ar30\\2020_12_08  already exists!\n",
      "Starting to analyze %  D:\\videos\\ar30\\2020_12_08\\Mirror243R.avi\n",
      "D:\\videos\\ar30\\2020_12_08  already exists!\n",
      "Starting to analyze %  D:\\videos\\ar30\\2020_12_08\\Mirror244R.avi\n",
      "D:\\videos\\ar30\\2020_12_08  already exists!\n",
      "Starting to analyze %  D:\\videos\\ar30\\2020_12_08\\Mirror245R.avi\n",
      "D:\\videos\\ar30\\2020_12_08  already exists!\n",
      "Starting to analyze %  D:\\videos\\ar30\\2020_12_08\\Mirror246R.avi\n",
      "D:\\videos\\ar30\\2020_12_08  already exists!\n",
      "Starting to analyze %  D:\\videos\\ar30\\2020_12_08\\Mirror247R.avi\n",
      "D:\\videos\\ar30\\2020_12_08  already exists!\n"
     ]
    },
    {
     "name": "stdout",
     "output_type": "stream",
     "text": [
      "Starting to analyze %  D:\\videos\\ar30\\2020_12_08\\Mirror248R.avi\n",
      "D:\\videos\\ar30\\2020_12_08  already exists!\n",
      "Starting to analyze %  D:\\videos\\ar30\\2020_12_08\\Mirror249R.avi\n",
      "D:\\videos\\ar30\\2020_12_08  already exists!\n",
      "Starting to analyze %  D:\\videos\\ar30\\2020_12_08\\Mirror250R.avi\n",
      "D:\\videos\\ar30\\2020_12_08  already exists!\n",
      "Starting to analyze %  D:\\videos\\ar30\\2020_12_08\\Mirror251R.avi\n",
      "D:\\videos\\ar30\\2020_12_08  already exists!\n",
      "Starting to analyze %  D:\\videos\\ar30\\2020_12_08\\Mirror252R.avi\n",
      "D:\\videos\\ar30\\2020_12_08  already exists!\n",
      "Starting to analyze %  D:\\videos\\ar30\\2020_12_08\\Mirror253R.avi\n",
      "D:\\videos\\ar30\\2020_12_08  already exists!\n",
      "Starting to analyze %  D:\\videos\\ar30\\2020_12_08\\Mirror254R.avi\n",
      "D:\\videos\\ar30\\2020_12_08  already exists!\n",
      "Starting to analyze %  D:\\videos\\ar30\\2020_12_08\\Mirror25R.avi\n",
      "D:\\videos\\ar30\\2020_12_08  already exists!\n",
      "Starting to analyze %  D:\\videos\\ar30\\2020_12_08\\Mirror26R.avi\n",
      "D:\\videos\\ar30\\2020_12_08  already exists!\n",
      "Starting to analyze %  D:\\videos\\ar30\\2020_12_08\\Mirror27R.avi\n",
      "D:\\videos\\ar30\\2020_12_08  already exists!\n",
      "Starting to analyze %  D:\\videos\\ar30\\2020_12_08\\Mirror28R.avi\n",
      "D:\\videos\\ar30\\2020_12_08  already exists!\n",
      "Starting to analyze %  D:\\videos\\ar30\\2020_12_08\\Mirror29R.avi\n",
      "D:\\videos\\ar30\\2020_12_08  already exists!\n",
      "Starting to analyze %  D:\\videos\\ar30\\2020_12_08\\Mirror2R.avi\n",
      "D:\\videos\\ar30\\2020_12_08  already exists!\n",
      "Starting to analyze %  D:\\videos\\ar30\\2020_12_08\\Mirror30R.avi\n",
      "D:\\videos\\ar30\\2020_12_08  already exists!\n",
      "Starting to analyze %  D:\\videos\\ar30\\2020_12_08\\Mirror31R.avi\n",
      "D:\\videos\\ar30\\2020_12_08  already exists!\n",
      "Starting to analyze %  D:\\videos\\ar30\\2020_12_08\\Mirror32R.avi\n",
      "D:\\videos\\ar30\\2020_12_08  already exists!\n",
      "Starting to analyze %  D:\\videos\\ar30\\2020_12_08\\Mirror33R.avi\n",
      "D:\\videos\\ar30\\2020_12_08  already exists!\n",
      "Starting to analyze %  D:\\videos\\ar30\\2020_12_08\\Mirror34R.avi\n",
      "D:\\videos\\ar30\\2020_12_08  already exists!\n",
      "Starting to analyze %  D:\\videos\\ar30\\2020_12_08\\Mirror35R.avi\n",
      "D:\\videos\\ar30\\2020_12_08  already exists!\n",
      "Starting to analyze %  D:\\videos\\ar30\\2020_12_08\\Mirror36R.avi\n",
      "D:\\videos\\ar30\\2020_12_08  already exists!\n",
      "Starting to analyze %  D:\\videos\\ar30\\2020_12_08\\Mirror37R.avi\n",
      "D:\\videos\\ar30\\2020_12_08  already exists!\n",
      "Starting to analyze %  D:\\videos\\ar30\\2020_12_08\\Mirror38R.avi\n",
      "D:\\videos\\ar30\\2020_12_08  already exists!\n",
      "Starting to analyze %  D:\\videos\\ar30\\2020_12_08\\Mirror39R.avi\n",
      "D:\\videos\\ar30\\2020_12_08  already exists!\n",
      "Starting to analyze %  D:\\videos\\ar30\\2020_12_08\\Mirror3R.avi\n",
      "D:\\videos\\ar30\\2020_12_08  already exists!\n",
      "Starting to analyze %  D:\\videos\\ar30\\2020_12_08\\Mirror40R.avi\n",
      "D:\\videos\\ar30\\2020_12_08  already exists!\n",
      "Starting to analyze %  D:\\videos\\ar30\\2020_12_08\\Mirror41R.avi\n",
      "D:\\videos\\ar30\\2020_12_08  already exists!\n",
      "Starting to analyze %  D:\\videos\\ar30\\2020_12_08\\Mirror42R.avi\n",
      "D:\\videos\\ar30\\2020_12_08  already exists!\n",
      "Starting to analyze %  D:\\videos\\ar30\\2020_12_08\\Mirror43R.avi\n",
      "D:\\videos\\ar30\\2020_12_08  already exists!\n",
      "Starting to analyze %  D:\\videos\\ar30\\2020_12_08\\Mirror44R.avi\n",
      "D:\\videos\\ar30\\2020_12_08  already exists!\n",
      "Starting to analyze %  D:\\videos\\ar30\\2020_12_08\\Mirror45R.avi\n",
      "D:\\videos\\ar30\\2020_12_08  already exists!\n",
      "Starting to analyze %  D:\\videos\\ar30\\2020_12_08\\Mirror46R.avi\n",
      "D:\\videos\\ar30\\2020_12_08  already exists!\n",
      "Starting to analyze %  D:\\videos\\ar30\\2020_12_08\\Mirror47R.avi\n",
      "D:\\videos\\ar30\\2020_12_08  already exists!\n",
      "Starting to analyze %  D:\\videos\\ar30\\2020_12_08\\Mirror48R.avi\n",
      "D:\\videos\\ar30\\2020_12_08  already exists!\n",
      "Starting to analyze %  D:\\videos\\ar30\\2020_12_08\\Mirror49R.avi\n",
      "D:\\videos\\ar30\\2020_12_08  already exists!\n",
      "Starting to analyze %  D:\\videos\\ar30\\2020_12_08\\Mirror4R.avi\n",
      "D:\\videos\\ar30\\2020_12_08  already exists!\n",
      "Starting to analyze %  D:\\videos\\ar30\\2020_12_08\\Mirror50R.avi\n",
      "D:\\videos\\ar30\\2020_12_08  already exists!\n",
      "Starting to analyze %  D:\\videos\\ar30\\2020_12_08\\Mirror51R.avi\n",
      "D:\\videos\\ar30\\2020_12_08  already exists!\n",
      "Starting to analyze %  D:\\videos\\ar30\\2020_12_08\\Mirror52R.avi\n",
      "D:\\videos\\ar30\\2020_12_08  already exists!\n",
      "Starting to analyze %  D:\\videos\\ar30\\2020_12_08\\Mirror53R.avi\n",
      "D:\\videos\\ar30\\2020_12_08  already exists!\n",
      "Starting to analyze %  D:\\videos\\ar30\\2020_12_08\\Mirror54R.avi\n",
      "D:\\videos\\ar30\\2020_12_08  already exists!\n",
      "Starting to analyze %  D:\\videos\\ar30\\2020_12_08\\Mirror55R.avi\n",
      "D:\\videos\\ar30\\2020_12_08  already exists!\n",
      "Starting to analyze %  D:\\videos\\ar30\\2020_12_08\\Mirror56R.avi\n",
      "D:\\videos\\ar30\\2020_12_08  already exists!\n",
      "Starting to analyze %  D:\\videos\\ar30\\2020_12_08\\Mirror57R.avi\n",
      "D:\\videos\\ar30\\2020_12_08  already exists!\n",
      "Starting to analyze %  D:\\videos\\ar30\\2020_12_08\\Mirror58R.avi\n",
      "D:\\videos\\ar30\\2020_12_08  already exists!\n",
      "Starting to analyze %  D:\\videos\\ar30\\2020_12_08\\Mirror59R.avi\n",
      "D:\\videos\\ar30\\2020_12_08  already exists!\n",
      "Starting to analyze %  D:\\videos\\ar30\\2020_12_08\\Mirror5R.avi\n",
      "D:\\videos\\ar30\\2020_12_08  already exists!\n",
      "Starting to analyze %  D:\\videos\\ar30\\2020_12_08\\Mirror60R.avi\n",
      "D:\\videos\\ar30\\2020_12_08  already exists!\n",
      "Starting to analyze %  D:\\videos\\ar30\\2020_12_08\\Mirror61R.avi\n",
      "D:\\videos\\ar30\\2020_12_08  already exists!\n",
      "Starting to analyze %  D:\\videos\\ar30\\2020_12_08\\Mirror62R.avi\n",
      "D:\\videos\\ar30\\2020_12_08  already exists!\n",
      "Starting to analyze %  D:\\videos\\ar30\\2020_12_08\\Mirror63R.avi\n",
      "D:\\videos\\ar30\\2020_12_08  already exists!\n",
      "Starting to analyze %  D:\\videos\\ar30\\2020_12_08\\Mirror64R.avi\n",
      "D:\\videos\\ar30\\2020_12_08  already exists!\n",
      "Starting to analyze %  D:\\videos\\ar30\\2020_12_08\\Mirror65R.avi\n",
      "D:\\videos\\ar30\\2020_12_08  already exists!\n",
      "Starting to analyze %  D:\\videos\\ar30\\2020_12_08\\Mirror66R.avi\n",
      "D:\\videos\\ar30\\2020_12_08  already exists!\n",
      "Starting to analyze %  D:\\videos\\ar30\\2020_12_08\\Mirror67R.avi\n",
      "D:\\videos\\ar30\\2020_12_08  already exists!\n",
      "Starting to analyze %  D:\\videos\\ar30\\2020_12_08\\Mirror68R.avi\n",
      "D:\\videos\\ar30\\2020_12_08  already exists!\n",
      "Starting to analyze %  D:\\videos\\ar30\\2020_12_08\\Mirror69R.avi\n",
      "D:\\videos\\ar30\\2020_12_08  already exists!\n",
      "Starting to analyze %  D:\\videos\\ar30\\2020_12_08\\Mirror6R.avi\n",
      "D:\\videos\\ar30\\2020_12_08  already exists!\n",
      "Starting to analyze %  D:\\videos\\ar30\\2020_12_08\\Mirror70R.avi\n",
      "D:\\videos\\ar30\\2020_12_08  already exists!\n",
      "Starting to analyze %  D:\\videos\\ar30\\2020_12_08\\Mirror71R.avi\n",
      "D:\\videos\\ar30\\2020_12_08  already exists!\n",
      "Starting to analyze %  D:\\videos\\ar30\\2020_12_08\\Mirror72R.avi\n",
      "D:\\videos\\ar30\\2020_12_08  already exists!\n",
      "Starting to analyze %  D:\\videos\\ar30\\2020_12_08\\Mirror73R.avi\n",
      "D:\\videos\\ar30\\2020_12_08  already exists!\n",
      "Starting to analyze %  D:\\videos\\ar30\\2020_12_08\\Mirror74R.avi\n",
      "D:\\videos\\ar30\\2020_12_08  already exists!\n",
      "Starting to analyze %  D:\\videos\\ar30\\2020_12_08\\Mirror75R.avi\n",
      "D:\\videos\\ar30\\2020_12_08  already exists!\n",
      "Starting to analyze %  D:\\videos\\ar30\\2020_12_08\\Mirror76R.avi\n",
      "D:\\videos\\ar30\\2020_12_08  already exists!\n",
      "Starting to analyze %  D:\\videos\\ar30\\2020_12_08\\Mirror77R.avi\n",
      "D:\\videos\\ar30\\2020_12_08  already exists!\n",
      "Starting to analyze %  D:\\videos\\ar30\\2020_12_08\\Mirror78R.avi\n",
      "D:\\videos\\ar30\\2020_12_08  already exists!\n",
      "Starting to analyze %  D:\\videos\\ar30\\2020_12_08\\Mirror79R.avi\n",
      "D:\\videos\\ar30\\2020_12_08  already exists!\n",
      "Starting to analyze %  D:\\videos\\ar30\\2020_12_08\\Mirror7R.avi\n",
      "D:\\videos\\ar30\\2020_12_08  already exists!\n",
      "Starting to analyze %  D:\\videos\\ar30\\2020_12_08\\Mirror80R.avi\n",
      "D:\\videos\\ar30\\2020_12_08  already exists!\n",
      "Starting to analyze %  D:\\videos\\ar30\\2020_12_08\\Mirror81R.avi\n",
      "D:\\videos\\ar30\\2020_12_08  already exists!\n",
      "Starting to analyze %  D:\\videos\\ar30\\2020_12_08\\Mirror82R.avi\n",
      "D:\\videos\\ar30\\2020_12_08  already exists!\n",
      "Starting to analyze %  D:\\videos\\ar30\\2020_12_08\\Mirror84R.avi\n",
      "D:\\videos\\ar30\\2020_12_08  already exists!\n",
      "Starting to analyze %  D:\\videos\\ar30\\2020_12_08\\Mirror85R.avi\n",
      "D:\\videos\\ar30\\2020_12_08  already exists!\n",
      "Starting to analyze %  D:\\videos\\ar30\\2020_12_08\\Mirror86R.avi\n",
      "D:\\videos\\ar30\\2020_12_08  already exists!\n",
      "Starting to analyze %  D:\\videos\\ar30\\2020_12_08\\Mirror87R.avi\n",
      "D:\\videos\\ar30\\2020_12_08  already exists!\n",
      "Starting to analyze %  D:\\videos\\ar30\\2020_12_08\\Mirror88R.avi\n",
      "D:\\videos\\ar30\\2020_12_08  already exists!\n",
      "Starting to analyze %  D:\\videos\\ar30\\2020_12_08\\Mirror89R.avi\n",
      "D:\\videos\\ar30\\2020_12_08  already exists!\n",
      "Starting to analyze %  D:\\videos\\ar30\\2020_12_08\\Mirror8R.avi\n",
      "D:\\videos\\ar30\\2020_12_08  already exists!\n",
      "Starting to analyze %  D:\\videos\\ar30\\2020_12_08\\Mirror90R.avi\n",
      "D:\\videos\\ar30\\2020_12_08  already exists!\n",
      "Starting to analyze %  D:\\videos\\ar30\\2020_12_08\\Mirror91R.avi\n",
      "D:\\videos\\ar30\\2020_12_08  already exists!\n",
      "Starting to analyze %  D:\\videos\\ar30\\2020_12_08\\Mirror92R.avi\n",
      "D:\\videos\\ar30\\2020_12_08  already exists!\n",
      "Starting to analyze %  D:\\videos\\ar30\\2020_12_08\\Mirror93R.avi\n",
      "D:\\videos\\ar30\\2020_12_08  already exists!\n",
      "Starting to analyze %  D:\\videos\\ar30\\2020_12_08\\Mirror94R.avi\n",
      "D:\\videos\\ar30\\2020_12_08  already exists!\n",
      "Starting to analyze %  D:\\videos\\ar30\\2020_12_08\\Mirror95R.avi\n",
      "D:\\videos\\ar30\\2020_12_08  already exists!\n",
      "Starting to analyze %  D:\\videos\\ar30\\2020_12_08\\Mirror96R.avi\n",
      "D:\\videos\\ar30\\2020_12_08  already exists!\n",
      "Starting to analyze %  D:\\videos\\ar30\\2020_12_08\\Mirror97R.avi\n",
      "D:\\videos\\ar30\\2020_12_08  already exists!\n",
      "Starting to analyze %  D:\\videos\\ar30\\2020_12_08\\Mirror98R.avi\n",
      "D:\\videos\\ar30\\2020_12_08  already exists!\n",
      "Starting to analyze %  D:\\videos\\ar30\\2020_12_08\\Mirror99R.avi\n",
      "D:\\videos\\ar30\\2020_12_08  already exists!\n",
      "Starting to analyze %  D:\\videos\\ar30\\2020_12_08\\Mirror9R.avi\n",
      "D:\\videos\\ar30\\2020_12_08  already exists!\n",
      "The videos are analyzed. Now your research can truly start! \n",
      " You can create labeled videos with 'create_labeled_video'\n",
      "If the tracking is not satisfactory for some videos, consider expanding the training set. You can use the function 'extract_outlier_frames' to extract a few representative outlier frames.\n",
      "DLC_resnet50_ar30_11_05_20whiskersNov8shuffle1_185000\n",
      "Filtering with median model D:\\videos\\ar30\\2020_12_08\\Mirror100R.avi\n",
      "Data from Mirror100R were already filtered. Skipping...\n",
      "Filtering with median model D:\\videos\\ar30\\2020_12_08\\Mirror101R.avi\n",
      "Data from Mirror101R were already filtered. Skipping...\n",
      "Filtering with median model D:\\videos\\ar30\\2020_12_08\\Mirror102R.avi\n",
      "Data from Mirror102R were already filtered. Skipping...\n",
      "Filtering with median model D:\\videos\\ar30\\2020_12_08\\Mirror103R.avi\n",
      "Data from Mirror103R were already filtered. Skipping...\n",
      "Filtering with median model D:\\videos\\ar30\\2020_12_08\\Mirror104R.avi\n",
      "Data from Mirror104R were already filtered. Skipping...\n",
      "Filtering with median model D:\\videos\\ar30\\2020_12_08\\Mirror105R.avi\n",
      "Data from Mirror105R were already filtered. Skipping...\n",
      "Filtering with median model D:\\videos\\ar30\\2020_12_08\\Mirror106R.avi\n",
      "Data from Mirror106R were already filtered. Skipping...\n",
      "Filtering with median model D:\\videos\\ar30\\2020_12_08\\Mirror107R.avi\n",
      "Data from Mirror107R were already filtered. Skipping...\n",
      "Filtering with median model D:\\videos\\ar30\\2020_12_08\\Mirror108R.avi\n",
      "Data from Mirror108R were already filtered. Skipping...\n",
      "Filtering with median model D:\\videos\\ar30\\2020_12_08\\Mirror109R.avi\n",
      "Data from Mirror109R were already filtered. Skipping...\n",
      "Filtering with median model D:\\videos\\ar30\\2020_12_08\\Mirror10R.avi\n",
      "Data from Mirror10R were already filtered. Skipping...\n",
      "Filtering with median model D:\\videos\\ar30\\2020_12_08\\Mirror110R.avi\n",
      "Data from Mirror110R were already filtered. Skipping...\n",
      "Filtering with median model D:\\videos\\ar30\\2020_12_08\\Mirror111R.avi\n",
      "Data from Mirror111R were already filtered. Skipping...\n",
      "Filtering with median model D:\\videos\\ar30\\2020_12_08\\Mirror112R.avi\n",
      "Data from Mirror112R were already filtered. Skipping...\n",
      "Filtering with median model D:\\videos\\ar30\\2020_12_08\\Mirror113R.avi\n",
      "Data from Mirror113R were already filtered. Skipping...\n",
      "Filtering with median model D:\\videos\\ar30\\2020_12_08\\Mirror114R.avi\n",
      "Data from Mirror114R were already filtered. Skipping...\n",
      "Filtering with median model D:\\videos\\ar30\\2020_12_08\\Mirror115R.avi\n",
      "Data from Mirror115R were already filtered. Skipping...\n",
      "Filtering with median model D:\\videos\\ar30\\2020_12_08\\Mirror116R.avi\n",
      "Data from Mirror116R were already filtered. Skipping...\n",
      "Filtering with median model D:\\videos\\ar30\\2020_12_08\\Mirror117R.avi\n",
      "Data from Mirror117R were already filtered. Skipping...\n",
      "Filtering with median model D:\\videos\\ar30\\2020_12_08\\Mirror118R.avi\n",
      "Data from Mirror118R were already filtered. Skipping...\n",
      "Filtering with median model D:\\videos\\ar30\\2020_12_08\\Mirror119R.avi\n",
      "Data from Mirror119R were already filtered. Skipping...\n",
      "Filtering with median model D:\\videos\\ar30\\2020_12_08\\Mirror11R.avi\n",
      "Data from Mirror11R were already filtered. Skipping...\n",
      "Filtering with median model D:\\videos\\ar30\\2020_12_08\\Mirror120R.avi\n",
      "Data from Mirror120R were already filtered. Skipping...\n",
      "Filtering with median model D:\\videos\\ar30\\2020_12_08\\Mirror121R.avi\n",
      "Data from Mirror121R were already filtered. Skipping...\n",
      "Filtering with median model D:\\videos\\ar30\\2020_12_08\\Mirror122R.avi\n",
      "Data from Mirror122R were already filtered. Skipping...\n",
      "Filtering with median model D:\\videos\\ar30\\2020_12_08\\Mirror123R.avi\n",
      "Data from Mirror123R were already filtered. Skipping...\n",
      "Filtering with median model D:\\videos\\ar30\\2020_12_08\\Mirror124R.avi\n",
      "Data from Mirror124R were already filtered. Skipping...\n",
      "Filtering with median model D:\\videos\\ar30\\2020_12_08\\Mirror125R.avi\n",
      "Data from Mirror125R were already filtered. Skipping...\n",
      "Filtering with median model D:\\videos\\ar30\\2020_12_08\\Mirror126R.avi\n",
      "Data from Mirror126R were already filtered. Skipping...\n",
      "Filtering with median model D:\\videos\\ar30\\2020_12_08\\Mirror127R.avi\n",
      "Data from Mirror127R were already filtered. Skipping...\n",
      "Filtering with median model D:\\videos\\ar30\\2020_12_08\\Mirror128R.avi\n",
      "Data from Mirror128R were already filtered. Skipping...\n",
      "Filtering with median model D:\\videos\\ar30\\2020_12_08\\Mirror129R.avi\n",
      "Data from Mirror129R were already filtered. Skipping...\n",
      "Filtering with median model D:\\videos\\ar30\\2020_12_08\\Mirror12R.avi\n",
      "Data from Mirror12R were already filtered. Skipping...\n",
      "Filtering with median model D:\\videos\\ar30\\2020_12_08\\Mirror130R.avi\n",
      "Data from Mirror130R were already filtered. Skipping...\n",
      "Filtering with median model D:\\videos\\ar30\\2020_12_08\\Mirror131R.avi\n",
      "Data from Mirror131R were already filtered. Skipping...\n",
      "Filtering with median model D:\\videos\\ar30\\2020_12_08\\Mirror132R.avi\n",
      "Data from Mirror132R were already filtered. Skipping...\n",
      "Filtering with median model D:\\videos\\ar30\\2020_12_08\\Mirror133R.avi\n",
      "Data from Mirror133R were already filtered. Skipping...\n",
      "Filtering with median model D:\\videos\\ar30\\2020_12_08\\Mirror134R.avi\n",
      "Data from Mirror134R were already filtered. Skipping...\n",
      "Filtering with median model D:\\videos\\ar30\\2020_12_08\\Mirror135R.avi\n",
      "Data from Mirror135R were already filtered. Skipping...\n",
      "Filtering with median model D:\\videos\\ar30\\2020_12_08\\Mirror136R.avi\n",
      "Data from Mirror136R were already filtered. Skipping...\n",
      "Filtering with median model D:\\videos\\ar30\\2020_12_08\\Mirror137R.avi\n",
      "Data from Mirror137R were already filtered. Skipping...\n",
      "Filtering with median model D:\\videos\\ar30\\2020_12_08\\Mirror138R.avi\n",
      "Data from Mirror138R were already filtered. Skipping...\n",
      "Filtering with median model D:\\videos\\ar30\\2020_12_08\\Mirror139R.avi\n",
      "Data from Mirror139R were already filtered. Skipping...\n",
      "Filtering with median model D:\\videos\\ar30\\2020_12_08\\Mirror13R.avi\n",
      "Data from Mirror13R were already filtered. Skipping...\n",
      "Filtering with median model D:\\videos\\ar30\\2020_12_08\\Mirror140R.avi\n",
      "Data from Mirror140R were already filtered. Skipping...\n",
      "Filtering with median model D:\\videos\\ar30\\2020_12_08\\Mirror141R.avi\n",
      "Data from Mirror141R were already filtered. Skipping...\n",
      "Filtering with median model D:\\videos\\ar30\\2020_12_08\\Mirror142R.avi\n",
      "Data from Mirror142R were already filtered. Skipping...\n",
      "Filtering with median model D:\\videos\\ar30\\2020_12_08\\Mirror143R.avi\n",
      "Data from Mirror143R were already filtered. Skipping...\n",
      "Filtering with median model D:\\videos\\ar30\\2020_12_08\\Mirror144R.avi\n",
      "Data from Mirror144R were already filtered. Skipping...\n",
      "Filtering with median model D:\\videos\\ar30\\2020_12_08\\Mirror145R.avi\n",
      "Data from Mirror145R were already filtered. Skipping...\n",
      "Filtering with median model D:\\videos\\ar30\\2020_12_08\\Mirror146R.avi\n",
      "Data from Mirror146R were already filtered. Skipping...\n",
      "Filtering with median model D:\\videos\\ar30\\2020_12_08\\Mirror148R.avi\n",
      "Data from Mirror148R were already filtered. Skipping...\n",
      "Filtering with median model D:\\videos\\ar30\\2020_12_08\\Mirror149R.avi\n"
     ]
    },
    {
     "name": "stdout",
     "output_type": "stream",
     "text": [
      "Data from Mirror149R were already filtered. Skipping...\n",
      "Filtering with median model D:\\videos\\ar30\\2020_12_08\\Mirror14R.avi\n",
      "Data from Mirror14R were already filtered. Skipping...\n",
      "Filtering with median model D:\\videos\\ar30\\2020_12_08\\Mirror150R.avi\n",
      "Data from Mirror150R were already filtered. Skipping...\n",
      "Filtering with median model D:\\videos\\ar30\\2020_12_08\\Mirror151R.avi\n",
      "Data from Mirror151R were already filtered. Skipping...\n",
      "Filtering with median model D:\\videos\\ar30\\2020_12_08\\Mirror152R.avi\n",
      "Data from Mirror152R were already filtered. Skipping...\n",
      "Filtering with median model D:\\videos\\ar30\\2020_12_08\\Mirror153R.avi\n",
      "Data from Mirror153R were already filtered. Skipping...\n",
      "Filtering with median model D:\\videos\\ar30\\2020_12_08\\Mirror154R.avi\n",
      "Data from Mirror154R were already filtered. Skipping...\n",
      "Filtering with median model D:\\videos\\ar30\\2020_12_08\\Mirror155R.avi\n",
      "Data from Mirror155R were already filtered. Skipping...\n",
      "Filtering with median model D:\\videos\\ar30\\2020_12_08\\Mirror156R.avi\n",
      "Data from Mirror156R were already filtered. Skipping...\n",
      "Filtering with median model D:\\videos\\ar30\\2020_12_08\\Mirror157R.avi\n",
      "Data from Mirror157R were already filtered. Skipping...\n",
      "Filtering with median model D:\\videos\\ar30\\2020_12_08\\Mirror158R.avi\n",
      "Data from Mirror158R were already filtered. Skipping...\n",
      "Filtering with median model D:\\videos\\ar30\\2020_12_08\\Mirror159R.avi\n",
      "Data from Mirror159R were already filtered. Skipping...\n",
      "Filtering with median model D:\\videos\\ar30\\2020_12_08\\Mirror15R.avi\n",
      "Data from Mirror15R were already filtered. Skipping...\n",
      "Filtering with median model D:\\videos\\ar30\\2020_12_08\\Mirror160R.avi\n",
      "Data from Mirror160R were already filtered. Skipping...\n",
      "Filtering with median model D:\\videos\\ar30\\2020_12_08\\Mirror161R.avi\n",
      "Data from Mirror161R were already filtered. Skipping...\n",
      "Filtering with median model D:\\videos\\ar30\\2020_12_08\\Mirror162R.avi\n",
      "Data from Mirror162R were already filtered. Skipping...\n",
      "Filtering with median model D:\\videos\\ar30\\2020_12_08\\Mirror163R.avi\n",
      "Data from Mirror163R were already filtered. Skipping...\n",
      "Filtering with median model D:\\videos\\ar30\\2020_12_08\\Mirror164R.avi\n",
      "Data from Mirror164R were already filtered. Skipping...\n",
      "Filtering with median model D:\\videos\\ar30\\2020_12_08\\Mirror165R.avi\n",
      "Data from Mirror165R were already filtered. Skipping...\n",
      "Filtering with median model D:\\videos\\ar30\\2020_12_08\\Mirror166R.avi\n",
      "Data from Mirror166R were already filtered. Skipping...\n",
      "Filtering with median model D:\\videos\\ar30\\2020_12_08\\Mirror167R.avi\n",
      "Data from Mirror167R were already filtered. Skipping...\n",
      "Filtering with median model D:\\videos\\ar30\\2020_12_08\\Mirror168R.avi\n",
      "Data from Mirror168R were already filtered. Skipping...\n",
      "Filtering with median model D:\\videos\\ar30\\2020_12_08\\Mirror169R.avi\n",
      "Data from Mirror169R were already filtered. Skipping...\n",
      "Filtering with median model D:\\videos\\ar30\\2020_12_08\\Mirror16R.avi\n",
      "Data from Mirror16R were already filtered. Skipping...\n",
      "Filtering with median model D:\\videos\\ar30\\2020_12_08\\Mirror170R.avi\n",
      "Data from Mirror170R were already filtered. Skipping...\n",
      "Filtering with median model D:\\videos\\ar30\\2020_12_08\\Mirror171R.avi\n",
      "Data from Mirror171R were already filtered. Skipping...\n",
      "Filtering with median model D:\\videos\\ar30\\2020_12_08\\Mirror172R.avi\n",
      "Data from Mirror172R were already filtered. Skipping...\n",
      "Filtering with median model D:\\videos\\ar30\\2020_12_08\\Mirror173R.avi\n",
      "Data from Mirror173R were already filtered. Skipping...\n",
      "Filtering with median model D:\\videos\\ar30\\2020_12_08\\Mirror174R.avi\n",
      "Data from Mirror174R were already filtered. Skipping...\n",
      "Filtering with median model D:\\videos\\ar30\\2020_12_08\\Mirror175R.avi\n",
      "Data from Mirror175R were already filtered. Skipping...\n",
      "Filtering with median model D:\\videos\\ar30\\2020_12_08\\Mirror176R.avi\n",
      "Data from Mirror176R were already filtered. Skipping...\n",
      "Filtering with median model D:\\videos\\ar30\\2020_12_08\\Mirror177R.avi\n",
      "Data from Mirror177R were already filtered. Skipping...\n",
      "Filtering with median model D:\\videos\\ar30\\2020_12_08\\Mirror178R.avi\n",
      "Data from Mirror178R were already filtered. Skipping...\n",
      "Filtering with median model D:\\videos\\ar30\\2020_12_08\\Mirror179R.avi\n",
      "Data from Mirror179R were already filtered. Skipping...\n",
      "Filtering with median model D:\\videos\\ar30\\2020_12_08\\Mirror17R.avi\n",
      "Data from Mirror17R were already filtered. Skipping...\n",
      "Filtering with median model D:\\videos\\ar30\\2020_12_08\\Mirror180R.avi\n",
      "Data from Mirror180R were already filtered. Skipping...\n",
      "Filtering with median model D:\\videos\\ar30\\2020_12_08\\Mirror181R.avi\n",
      "Data from Mirror181R were already filtered. Skipping...\n",
      "Filtering with median model D:\\videos\\ar30\\2020_12_08\\Mirror182R.avi\n",
      "Data from Mirror182R were already filtered. Skipping...\n",
      "Filtering with median model D:\\videos\\ar30\\2020_12_08\\Mirror183R.avi\n",
      "Data from Mirror183R were already filtered. Skipping...\n",
      "Filtering with median model D:\\videos\\ar30\\2020_12_08\\Mirror184R.avi\n",
      "Data from Mirror184R were already filtered. Skipping...\n",
      "Filtering with median model D:\\videos\\ar30\\2020_12_08\\Mirror185R.avi\n",
      "Data from Mirror185R were already filtered. Skipping...\n",
      "Filtering with median model D:\\videos\\ar30\\2020_12_08\\Mirror186R.avi\n",
      "Data from Mirror186R were already filtered. Skipping...\n",
      "Filtering with median model D:\\videos\\ar30\\2020_12_08\\Mirror187R.avi\n",
      "Data from Mirror187R were already filtered. Skipping...\n",
      "Filtering with median model D:\\videos\\ar30\\2020_12_08\\Mirror188R.avi\n",
      "Data from Mirror188R were already filtered. Skipping...\n",
      "Filtering with median model D:\\videos\\ar30\\2020_12_08\\Mirror189R.avi\n",
      "Data from Mirror189R were already filtered. Skipping...\n",
      "Filtering with median model D:\\videos\\ar30\\2020_12_08\\Mirror18R.avi\n",
      "Data from Mirror18R were already filtered. Skipping...\n",
      "Filtering with median model D:\\videos\\ar30\\2020_12_08\\Mirror190R.avi\n",
      "Data from Mirror190R were already filtered. Skipping...\n",
      "Filtering with median model D:\\videos\\ar30\\2020_12_08\\Mirror191R.avi\n",
      "Data from Mirror191R were already filtered. Skipping...\n",
      "Filtering with median model D:\\videos\\ar30\\2020_12_08\\Mirror192R.avi\n",
      "Data from Mirror192R were already filtered. Skipping...\n",
      "Filtering with median model D:\\videos\\ar30\\2020_12_08\\Mirror193R.avi\n",
      "Data from Mirror193R were already filtered. Skipping...\n",
      "Filtering with median model D:\\videos\\ar30\\2020_12_08\\Mirror194R.avi\n",
      "Data from Mirror194R were already filtered. Skipping...\n",
      "Filtering with median model D:\\videos\\ar30\\2020_12_08\\Mirror195R.avi\n",
      "Data from Mirror195R were already filtered. Skipping...\n",
      "Filtering with median model D:\\videos\\ar30\\2020_12_08\\Mirror196R.avi\n",
      "Data from Mirror196R were already filtered. Skipping...\n",
      "Filtering with median model D:\\videos\\ar30\\2020_12_08\\Mirror19R.avi\n",
      "Data from Mirror19R were already filtered. Skipping...\n",
      "Filtering with median model D:\\videos\\ar30\\2020_12_08\\Mirror1R.avi\n",
      "Data from Mirror1R were already filtered. Skipping...\n",
      "Filtering with median model D:\\videos\\ar30\\2020_12_08\\Mirror205R.avi\n",
      "Data from Mirror205R were already filtered. Skipping...\n",
      "Filtering with median model D:\\videos\\ar30\\2020_12_08\\Mirror206R.avi\n",
      "Data from Mirror206R were already filtered. Skipping...\n",
      "Filtering with median model D:\\videos\\ar30\\2020_12_08\\Mirror207R.avi\n",
      "Data from Mirror207R were already filtered. Skipping...\n",
      "Filtering with median model D:\\videos\\ar30\\2020_12_08\\Mirror208R.avi\n",
      "Data from Mirror208R were already filtered. Skipping...\n",
      "Filtering with median model D:\\videos\\ar30\\2020_12_08\\Mirror209R.avi\n",
      "Data from Mirror209R were already filtered. Skipping...\n",
      "Filtering with median model D:\\videos\\ar30\\2020_12_08\\Mirror20R.avi\n",
      "Data from Mirror20R were already filtered. Skipping...\n",
      "Filtering with median model D:\\videos\\ar30\\2020_12_08\\Mirror210R.avi\n",
      "Data from Mirror210R were already filtered. Skipping...\n",
      "Filtering with median model D:\\videos\\ar30\\2020_12_08\\Mirror211R.avi\n",
      "Data from Mirror211R were already filtered. Skipping...\n",
      "Filtering with median model D:\\videos\\ar30\\2020_12_08\\Mirror212R.avi\n",
      "Data from Mirror212R were already filtered. Skipping...\n",
      "Filtering with median model D:\\videos\\ar30\\2020_12_08\\Mirror213R.avi\n",
      "Data from Mirror213R were already filtered. Skipping...\n",
      "Filtering with median model D:\\videos\\ar30\\2020_12_08\\Mirror214R.avi\n",
      "Data from Mirror214R were already filtered. Skipping...\n",
      "Filtering with median model D:\\videos\\ar30\\2020_12_08\\Mirror215R.avi\n",
      "Data from Mirror215R were already filtered. Skipping...\n",
      "Filtering with median model D:\\videos\\ar30\\2020_12_08\\Mirror219R.avi\n",
      "Data from Mirror219R were already filtered. Skipping...\n",
      "Filtering with median model D:\\videos\\ar30\\2020_12_08\\Mirror21R.avi\n",
      "Data from Mirror21R were already filtered. Skipping...\n",
      "Filtering with median model D:\\videos\\ar30\\2020_12_08\\Mirror220R.avi\n",
      "Data from Mirror220R were already filtered. Skipping...\n",
      "Filtering with median model D:\\videos\\ar30\\2020_12_08\\Mirror221R.avi\n",
      "Data from Mirror221R were already filtered. Skipping...\n",
      "Filtering with median model D:\\videos\\ar30\\2020_12_08\\Mirror222R.avi\n",
      "Data from Mirror222R were already filtered. Skipping...\n",
      "Filtering with median model D:\\videos\\ar30\\2020_12_08\\Mirror223R.avi\n",
      "Data from Mirror223R were already filtered. Skipping...\n",
      "Filtering with median model D:\\videos\\ar30\\2020_12_08\\Mirror224R.avi\n",
      "Data from Mirror224R were already filtered. Skipping...\n",
      "Filtering with median model D:\\videos\\ar30\\2020_12_08\\Mirror225R.avi\n",
      "Data from Mirror225R were already filtered. Skipping...\n",
      "Filtering with median model D:\\videos\\ar30\\2020_12_08\\Mirror226R.avi\n",
      "Data from Mirror226R were already filtered. Skipping...\n",
      "Filtering with median model D:\\videos\\ar30\\2020_12_08\\Mirror227R.avi\n",
      "Data from Mirror227R were already filtered. Skipping...\n",
      "Filtering with median model D:\\videos\\ar30\\2020_12_08\\Mirror228R.avi\n",
      "Data from Mirror228R were already filtered. Skipping...\n",
      "Filtering with median model D:\\videos\\ar30\\2020_12_08\\Mirror229R.avi\n",
      "Data from Mirror229R were already filtered. Skipping...\n",
      "Filtering with median model D:\\videos\\ar30\\2020_12_08\\Mirror22R.avi\n",
      "Data from Mirror22R were already filtered. Skipping...\n",
      "Filtering with median model D:\\videos\\ar30\\2020_12_08\\Mirror230R.avi\n",
      "Data from Mirror230R were already filtered. Skipping...\n",
      "Filtering with median model D:\\videos\\ar30\\2020_12_08\\Mirror231R.avi\n",
      "Data from Mirror231R were already filtered. Skipping...\n",
      "Filtering with median model D:\\videos\\ar30\\2020_12_08\\Mirror232R.avi\n",
      "Data from Mirror232R were already filtered. Skipping...\n",
      "Filtering with median model D:\\videos\\ar30\\2020_12_08\\Mirror233R.avi\n",
      "Data from Mirror233R were already filtered. Skipping...\n",
      "Filtering with median model D:\\videos\\ar30\\2020_12_08\\Mirror234R.avi\n",
      "Data from Mirror234R were already filtered. Skipping...\n",
      "Filtering with median model D:\\videos\\ar30\\2020_12_08\\Mirror235R.avi\n",
      "Data from Mirror235R were already filtered. Skipping...\n",
      "Filtering with median model D:\\videos\\ar30\\2020_12_08\\Mirror236R.avi\n",
      "Data from Mirror236R were already filtered. Skipping...\n",
      "Filtering with median model D:\\videos\\ar30\\2020_12_08\\Mirror237R.avi\n",
      "Data from Mirror237R were already filtered. Skipping...\n",
      "Filtering with median model D:\\videos\\ar30\\2020_12_08\\Mirror238R.avi\n",
      "Data from Mirror238R were already filtered. Skipping...\n",
      "Filtering with median model D:\\videos\\ar30\\2020_12_08\\Mirror239R.avi\n",
      "Data from Mirror239R were already filtered. Skipping...\n",
      "Filtering with median model D:\\videos\\ar30\\2020_12_08\\Mirror23R.avi\n",
      "Data from Mirror23R were already filtered. Skipping...\n",
      "Filtering with median model D:\\videos\\ar30\\2020_12_08\\Mirror240R.avi\n",
      "Data from Mirror240R were already filtered. Skipping...\n",
      "Filtering with median model D:\\videos\\ar30\\2020_12_08\\Mirror241R.avi\n",
      "Data from Mirror241R were already filtered. Skipping...\n",
      "Filtering with median model D:\\videos\\ar30\\2020_12_08\\Mirror242R.avi\n",
      "Data from Mirror242R were already filtered. Skipping...\n",
      "Filtering with median model D:\\videos\\ar30\\2020_12_08\\Mirror243R.avi\n",
      "Data from Mirror243R were already filtered. Skipping...\n",
      "Filtering with median model D:\\videos\\ar30\\2020_12_08\\Mirror244R.avi\n",
      "Data from Mirror244R were already filtered. Skipping...\n",
      "Filtering with median model D:\\videos\\ar30\\2020_12_08\\Mirror245R.avi\n",
      "Data from Mirror245R were already filtered. Skipping...\n",
      "Filtering with median model D:\\videos\\ar30\\2020_12_08\\Mirror246R.avi\n",
      "Data from Mirror246R were already filtered. Skipping...\n",
      "Filtering with median model D:\\videos\\ar30\\2020_12_08\\Mirror247R.avi\n",
      "Data from Mirror247R were already filtered. Skipping...\n",
      "Filtering with median model D:\\videos\\ar30\\2020_12_08\\Mirror248R.avi\n",
      "Data from Mirror248R were already filtered. Skipping...\n",
      "Filtering with median model D:\\videos\\ar30\\2020_12_08\\Mirror249R.avi\n",
      "Data from Mirror249R were already filtered. Skipping...\n",
      "Filtering with median model D:\\videos\\ar30\\2020_12_08\\Mirror250R.avi\n",
      "Data from Mirror250R were already filtered. Skipping...\n",
      "Filtering with median model D:\\videos\\ar30\\2020_12_08\\Mirror251R.avi\n",
      "Data from Mirror251R were already filtered. Skipping...\n",
      "Filtering with median model D:\\videos\\ar30\\2020_12_08\\Mirror252R.avi\n",
      "Data from Mirror252R were already filtered. Skipping...\n",
      "Filtering with median model D:\\videos\\ar30\\2020_12_08\\Mirror253R.avi\n",
      "Data from Mirror253R were already filtered. Skipping...\n",
      "Filtering with median model D:\\videos\\ar30\\2020_12_08\\Mirror254R.avi\n",
      "Data from Mirror254R were already filtered. Skipping...\n",
      "Filtering with median model D:\\videos\\ar30\\2020_12_08\\Mirror25R.avi\n",
      "Data from Mirror25R were already filtered. Skipping...\n",
      "Filtering with median model D:\\videos\\ar30\\2020_12_08\\Mirror26R.avi\n",
      "Data from Mirror26R were already filtered. Skipping...\n",
      "Filtering with median model D:\\videos\\ar30\\2020_12_08\\Mirror27R.avi\n",
      "Data from Mirror27R were already filtered. Skipping...\n",
      "Filtering with median model D:\\videos\\ar30\\2020_12_08\\Mirror28R.avi\n",
      "Data from Mirror28R were already filtered. Skipping...\n",
      "Filtering with median model D:\\videos\\ar30\\2020_12_08\\Mirror29R.avi\n",
      "Data from Mirror29R were already filtered. Skipping...\n",
      "Filtering with median model D:\\videos\\ar30\\2020_12_08\\Mirror2R.avi\n",
      "Data from Mirror2R were already filtered. Skipping...\n",
      "Filtering with median model D:\\videos\\ar30\\2020_12_08\\Mirror30R.avi\n",
      "Data from Mirror30R were already filtered. Skipping...\n",
      "Filtering with median model D:\\videos\\ar30\\2020_12_08\\Mirror31R.avi\n",
      "Data from Mirror31R were already filtered. Skipping...\n",
      "Filtering with median model D:\\videos\\ar30\\2020_12_08\\Mirror32R.avi\n",
      "Data from Mirror32R were already filtered. Skipping...\n",
      "Filtering with median model D:\\videos\\ar30\\2020_12_08\\Mirror33R.avi\n",
      "Data from Mirror33R were already filtered. Skipping...\n",
      "Filtering with median model D:\\videos\\ar30\\2020_12_08\\Mirror34R.avi\n",
      "Data from Mirror34R were already filtered. Skipping...\n",
      "Filtering with median model D:\\videos\\ar30\\2020_12_08\\Mirror35R.avi\n",
      "Data from Mirror35R were already filtered. Skipping...\n",
      "Filtering with median model D:\\videos\\ar30\\2020_12_08\\Mirror36R.avi\n",
      "Data from Mirror36R were already filtered. Skipping...\n",
      "Filtering with median model D:\\videos\\ar30\\2020_12_08\\Mirror37R.avi\n",
      "Data from Mirror37R were already filtered. Skipping...\n",
      "Filtering with median model D:\\videos\\ar30\\2020_12_08\\Mirror38R.avi\n",
      "Data from Mirror38R were already filtered. Skipping...\n",
      "Filtering with median model D:\\videos\\ar30\\2020_12_08\\Mirror39R.avi\n",
      "Data from Mirror39R were already filtered. Skipping...\n",
      "Filtering with median model D:\\videos\\ar30\\2020_12_08\\Mirror3R.avi\n",
      "Data from Mirror3R were already filtered. Skipping...\n",
      "Filtering with median model D:\\videos\\ar30\\2020_12_08\\Mirror40R.avi\n",
      "Data from Mirror40R were already filtered. Skipping...\n",
      "Filtering with median model D:\\videos\\ar30\\2020_12_08\\Mirror41R.avi\n",
      "Data from Mirror41R were already filtered. Skipping...\n",
      "Filtering with median model D:\\videos\\ar30\\2020_12_08\\Mirror42R.avi\n",
      "Data from Mirror42R were already filtered. Skipping...\n",
      "Filtering with median model D:\\videos\\ar30\\2020_12_08\\Mirror43R.avi\n",
      "Data from Mirror43R were already filtered. Skipping...\n",
      "Filtering with median model D:\\videos\\ar30\\2020_12_08\\Mirror44R.avi\n",
      "Data from Mirror44R were already filtered. Skipping...\n",
      "Filtering with median model D:\\videos\\ar30\\2020_12_08\\Mirror45R.avi\n",
      "Data from Mirror45R were already filtered. Skipping...\n",
      "Filtering with median model D:\\videos\\ar30\\2020_12_08\\Mirror46R.avi\n",
      "Data from Mirror46R were already filtered. Skipping...\n",
      "Filtering with median model D:\\videos\\ar30\\2020_12_08\\Mirror47R.avi\n",
      "Data from Mirror47R were already filtered. Skipping...\n",
      "Filtering with median model D:\\videos\\ar30\\2020_12_08\\Mirror48R.avi\n",
      "Data from Mirror48R were already filtered. Skipping...\n"
     ]
    },
    {
     "name": "stdout",
     "output_type": "stream",
     "text": [
      "Filtering with median model D:\\videos\\ar30\\2020_12_08\\Mirror49R.avi\n",
      "Data from Mirror49R were already filtered. Skipping...\n",
      "Filtering with median model D:\\videos\\ar30\\2020_12_08\\Mirror4R.avi\n",
      "Data from Mirror4R were already filtered. Skipping...\n",
      "Filtering with median model D:\\videos\\ar30\\2020_12_08\\Mirror50R.avi\n",
      "Data from Mirror50R were already filtered. Skipping...\n",
      "Filtering with median model D:\\videos\\ar30\\2020_12_08\\Mirror51R.avi\n",
      "Data from Mirror51R were already filtered. Skipping...\n",
      "Filtering with median model D:\\videos\\ar30\\2020_12_08\\Mirror52R.avi\n",
      "Data from Mirror52R were already filtered. Skipping...\n",
      "Filtering with median model D:\\videos\\ar30\\2020_12_08\\Mirror53R.avi\n",
      "Data from Mirror53R were already filtered. Skipping...\n",
      "Filtering with median model D:\\videos\\ar30\\2020_12_08\\Mirror54R.avi\n",
      "Data from Mirror54R were already filtered. Skipping...\n",
      "Filtering with median model D:\\videos\\ar30\\2020_12_08\\Mirror55R.avi\n",
      "Data from Mirror55R were already filtered. Skipping...\n",
      "Filtering with median model D:\\videos\\ar30\\2020_12_08\\Mirror56R.avi\n",
      "Data from Mirror56R were already filtered. Skipping...\n",
      "Filtering with median model D:\\videos\\ar30\\2020_12_08\\Mirror57R.avi\n",
      "Data from Mirror57R were already filtered. Skipping...\n",
      "Filtering with median model D:\\videos\\ar30\\2020_12_08\\Mirror58R.avi\n",
      "Data from Mirror58R were already filtered. Skipping...\n",
      "Filtering with median model D:\\videos\\ar30\\2020_12_08\\Mirror59R.avi\n",
      "Data from Mirror59R were already filtered. Skipping...\n",
      "Filtering with median model D:\\videos\\ar30\\2020_12_08\\Mirror5R.avi\n",
      "Data from Mirror5R were already filtered. Skipping...\n",
      "Filtering with median model D:\\videos\\ar30\\2020_12_08\\Mirror60R.avi\n",
      "Data from Mirror60R were already filtered. Skipping...\n",
      "Filtering with median model D:\\videos\\ar30\\2020_12_08\\Mirror61R.avi\n",
      "Data from Mirror61R were already filtered. Skipping...\n",
      "Filtering with median model D:\\videos\\ar30\\2020_12_08\\Mirror62R.avi\n",
      "Data from Mirror62R were already filtered. Skipping...\n",
      "Filtering with median model D:\\videos\\ar30\\2020_12_08\\Mirror63R.avi\n",
      "Data from Mirror63R were already filtered. Skipping...\n",
      "Filtering with median model D:\\videos\\ar30\\2020_12_08\\Mirror64R.avi\n",
      "Data from Mirror64R were already filtered. Skipping...\n",
      "Filtering with median model D:\\videos\\ar30\\2020_12_08\\Mirror65R.avi\n",
      "Data from Mirror65R were already filtered. Skipping...\n",
      "Filtering with median model D:\\videos\\ar30\\2020_12_08\\Mirror66R.avi\n",
      "Data from Mirror66R were already filtered. Skipping...\n",
      "Filtering with median model D:\\videos\\ar30\\2020_12_08\\Mirror67R.avi\n",
      "Data from Mirror67R were already filtered. Skipping...\n",
      "Filtering with median model D:\\videos\\ar30\\2020_12_08\\Mirror68R.avi\n",
      "Data from Mirror68R were already filtered. Skipping...\n",
      "Filtering with median model D:\\videos\\ar30\\2020_12_08\\Mirror69R.avi\n",
      "Data from Mirror69R were already filtered. Skipping...\n",
      "Filtering with median model D:\\videos\\ar30\\2020_12_08\\Mirror6R.avi\n",
      "Data from Mirror6R were already filtered. Skipping...\n",
      "Filtering with median model D:\\videos\\ar30\\2020_12_08\\Mirror70R.avi\n",
      "Data from Mirror70R were already filtered. Skipping...\n",
      "Filtering with median model D:\\videos\\ar30\\2020_12_08\\Mirror71R.avi\n",
      "Data from Mirror71R were already filtered. Skipping...\n",
      "Filtering with median model D:\\videos\\ar30\\2020_12_08\\Mirror72R.avi\n",
      "Data from Mirror72R were already filtered. Skipping...\n",
      "Filtering with median model D:\\videos\\ar30\\2020_12_08\\Mirror73R.avi\n",
      "Data from Mirror73R were already filtered. Skipping...\n",
      "Filtering with median model D:\\videos\\ar30\\2020_12_08\\Mirror74R.avi\n",
      "Data from Mirror74R were already filtered. Skipping...\n",
      "Filtering with median model D:\\videos\\ar30\\2020_12_08\\Mirror75R.avi\n",
      "Data from Mirror75R were already filtered. Skipping...\n",
      "Filtering with median model D:\\videos\\ar30\\2020_12_08\\Mirror76R.avi\n",
      "Data from Mirror76R were already filtered. Skipping...\n",
      "Filtering with median model D:\\videos\\ar30\\2020_12_08\\Mirror77R.avi\n",
      "Data from Mirror77R were already filtered. Skipping...\n",
      "Filtering with median model D:\\videos\\ar30\\2020_12_08\\Mirror78R.avi\n",
      "Data from Mirror78R were already filtered. Skipping...\n",
      "Filtering with median model D:\\videos\\ar30\\2020_12_08\\Mirror79R.avi\n",
      "Data from Mirror79R were already filtered. Skipping...\n",
      "Filtering with median model D:\\videos\\ar30\\2020_12_08\\Mirror7R.avi\n",
      "Data from Mirror7R were already filtered. Skipping...\n",
      "Filtering with median model D:\\videos\\ar30\\2020_12_08\\Mirror80R.avi\n",
      "Data from Mirror80R were already filtered. Skipping...\n",
      "Filtering with median model D:\\videos\\ar30\\2020_12_08\\Mirror81R.avi\n",
      "Data from Mirror81R were already filtered. Skipping...\n",
      "Filtering with median model D:\\videos\\ar30\\2020_12_08\\Mirror82R.avi\n",
      "Data from Mirror82R were already filtered. Skipping...\n",
      "Filtering with median model D:\\videos\\ar30\\2020_12_08\\Mirror84R.avi\n",
      "Data from Mirror84R were already filtered. Skipping...\n",
      "Filtering with median model D:\\videos\\ar30\\2020_12_08\\Mirror85R.avi\n",
      "Data from Mirror85R were already filtered. Skipping...\n",
      "Filtering with median model D:\\videos\\ar30\\2020_12_08\\Mirror86R.avi\n",
      "Data from Mirror86R were already filtered. Skipping...\n",
      "Filtering with median model D:\\videos\\ar30\\2020_12_08\\Mirror87R.avi\n",
      "Data from Mirror87R were already filtered. Skipping...\n",
      "Filtering with median model D:\\videos\\ar30\\2020_12_08\\Mirror88R.avi\n",
      "Data from Mirror88R were already filtered. Skipping...\n",
      "Filtering with median model D:\\videos\\ar30\\2020_12_08\\Mirror89R.avi\n",
      "Data from Mirror89R were already filtered. Skipping...\n",
      "Filtering with median model D:\\videos\\ar30\\2020_12_08\\Mirror8R.avi\n",
      "Data from Mirror8R were already filtered. Skipping...\n",
      "Filtering with median model D:\\videos\\ar30\\2020_12_08\\Mirror90R.avi\n",
      "Data from Mirror90R were already filtered. Skipping...\n",
      "Filtering with median model D:\\videos\\ar30\\2020_12_08\\Mirror91R.avi\n",
      "Data from Mirror91R were already filtered. Skipping...\n",
      "Filtering with median model D:\\videos\\ar30\\2020_12_08\\Mirror92R.avi\n",
      "Data from Mirror92R were already filtered. Skipping...\n",
      "Filtering with median model D:\\videos\\ar30\\2020_12_08\\Mirror93R.avi\n",
      "Data from Mirror93R were already filtered. Skipping...\n",
      "Filtering with median model D:\\videos\\ar30\\2020_12_08\\Mirror94R.avi\n",
      "Data from Mirror94R were already filtered. Skipping...\n",
      "Filtering with median model D:\\videos\\ar30\\2020_12_08\\Mirror95R.avi\n",
      "Data from Mirror95R were already filtered. Skipping...\n",
      "Filtering with median model D:\\videos\\ar30\\2020_12_08\\Mirror96R.avi\n",
      "Data from Mirror96R were already filtered. Skipping...\n",
      "Filtering with median model D:\\videos\\ar30\\2020_12_08\\Mirror97R.avi\n",
      "Data from Mirror97R were already filtered. Skipping...\n",
      "Filtering with median model D:\\videos\\ar30\\2020_12_08\\Mirror98R.avi\n",
      "Data from Mirror98R were already filtered. Skipping...\n",
      "Filtering with median model D:\\videos\\ar30\\2020_12_08\\Mirror99R.avi\n",
      "Data from Mirror99R were already filtered. Skipping...\n",
      "Filtering with median model D:\\videos\\ar30\\2020_12_08\\Mirror9R.avi\n",
      "Data from Mirror9R were already filtered. Skipping...\n",
      "Using snapshot-185000 for model D:\\videos\\ar30\\2020_11_04\\ar30_11_05_20whiskers-Arash-2020-11-08\\dlc-models\\iteration-0\\ar30_11_05_20whiskersNov8-trainset95shuffle1\n",
      "Initializing ResNet\n",
      "Starting to analyze %  D:\\videos\\ar30\\2020_12_08\\Mask100L.avi\n",
      "D:\\videos\\ar30\\2020_12_08  already exists!\n",
      "Starting to analyze %  D:\\videos\\ar30\\2020_12_08\\Mask101L.avi\n",
      "D:\\videos\\ar30\\2020_12_08  already exists!\n",
      "Starting to analyze %  D:\\videos\\ar30\\2020_12_08\\Mask102L.avi\n",
      "D:\\videos\\ar30\\2020_12_08  already exists!\n",
      "Starting to analyze %  D:\\videos\\ar30\\2020_12_08\\Mask103L.avi\n",
      "D:\\videos\\ar30\\2020_12_08  already exists!\n",
      "Starting to analyze %  D:\\videos\\ar30\\2020_12_08\\Mask104L.avi\n",
      "D:\\videos\\ar30\\2020_12_08  already exists!\n",
      "Starting to analyze %  D:\\videos\\ar30\\2020_12_08\\Mask105L.avi\n",
      "D:\\videos\\ar30\\2020_12_08  already exists!\n",
      "Starting to analyze %  D:\\videos\\ar30\\2020_12_08\\Mask106L.avi\n",
      "D:\\videos\\ar30\\2020_12_08  already exists!\n",
      "Starting to analyze %  D:\\videos\\ar30\\2020_12_08\\Mask107L.avi\n",
      "D:\\videos\\ar30\\2020_12_08  already exists!\n",
      "Starting to analyze %  D:\\videos\\ar30\\2020_12_08\\Mask108L.avi\n",
      "D:\\videos\\ar30\\2020_12_08  already exists!\n",
      "Starting to analyze %  D:\\videos\\ar30\\2020_12_08\\Mask109L.avi\n",
      "D:\\videos\\ar30\\2020_12_08  already exists!\n",
      "Starting to analyze %  D:\\videos\\ar30\\2020_12_08\\Mask10L.avi\n",
      "D:\\videos\\ar30\\2020_12_08  already exists!\n",
      "Starting to analyze %  D:\\videos\\ar30\\2020_12_08\\Mask110L.avi\n",
      "D:\\videos\\ar30\\2020_12_08  already exists!\n",
      "Starting to analyze %  D:\\videos\\ar30\\2020_12_08\\Mask111L.avi\n",
      "D:\\videos\\ar30\\2020_12_08  already exists!\n",
      "Starting to analyze %  D:\\videos\\ar30\\2020_12_08\\Mask112L.avi\n",
      "D:\\videos\\ar30\\2020_12_08  already exists!\n",
      "Starting to analyze %  D:\\videos\\ar30\\2020_12_08\\Mask113L.avi\n",
      "D:\\videos\\ar30\\2020_12_08  already exists!\n",
      "Starting to analyze %  D:\\videos\\ar30\\2020_12_08\\Mask114L.avi\n",
      "D:\\videos\\ar30\\2020_12_08  already exists!\n",
      "Starting to analyze %  D:\\videos\\ar30\\2020_12_08\\Mask115L.avi\n",
      "D:\\videos\\ar30\\2020_12_08  already exists!\n",
      "Starting to analyze %  D:\\videos\\ar30\\2020_12_08\\Mask116L.avi\n",
      "D:\\videos\\ar30\\2020_12_08  already exists!\n",
      "Starting to analyze %  D:\\videos\\ar30\\2020_12_08\\Mask117L.avi\n",
      "D:\\videos\\ar30\\2020_12_08  already exists!\n",
      "Starting to analyze %  D:\\videos\\ar30\\2020_12_08\\Mask118L.avi\n",
      "D:\\videos\\ar30\\2020_12_08  already exists!\n",
      "Starting to analyze %  D:\\videos\\ar30\\2020_12_08\\Mask119L.avi\n",
      "D:\\videos\\ar30\\2020_12_08  already exists!\n",
      "Starting to analyze %  D:\\videos\\ar30\\2020_12_08\\Mask11L.avi\n",
      "D:\\videos\\ar30\\2020_12_08  already exists!\n",
      "Starting to analyze %  D:\\videos\\ar30\\2020_12_08\\Mask120L.avi\n",
      "D:\\videos\\ar30\\2020_12_08  already exists!\n",
      "Starting to analyze %  D:\\videos\\ar30\\2020_12_08\\Mask121L.avi\n",
      "D:\\videos\\ar30\\2020_12_08  already exists!\n",
      "Starting to analyze %  D:\\videos\\ar30\\2020_12_08\\Mask122L.avi\n",
      "D:\\videos\\ar30\\2020_12_08  already exists!\n",
      "Starting to analyze %  D:\\videos\\ar30\\2020_12_08\\Mask123L.avi\n",
      "D:\\videos\\ar30\\2020_12_08  already exists!\n",
      "Starting to analyze %  D:\\videos\\ar30\\2020_12_08\\Mask124L.avi\n",
      "D:\\videos\\ar30\\2020_12_08  already exists!\n",
      "Starting to analyze %  D:\\videos\\ar30\\2020_12_08\\Mask125L.avi\n",
      "D:\\videos\\ar30\\2020_12_08  already exists!\n",
      "Starting to analyze %  D:\\videos\\ar30\\2020_12_08\\Mask126L.avi\n",
      "D:\\videos\\ar30\\2020_12_08  already exists!\n",
      "Starting to analyze %  D:\\videos\\ar30\\2020_12_08\\Mask127L.avi\n",
      "D:\\videos\\ar30\\2020_12_08  already exists!\n",
      "Starting to analyze %  D:\\videos\\ar30\\2020_12_08\\Mask128L.avi\n",
      "D:\\videos\\ar30\\2020_12_08  already exists!\n",
      "Starting to analyze %  D:\\videos\\ar30\\2020_12_08\\Mask129L.avi\n",
      "D:\\videos\\ar30\\2020_12_08  already exists!\n",
      "Starting to analyze %  D:\\videos\\ar30\\2020_12_08\\Mask12L.avi\n",
      "D:\\videos\\ar30\\2020_12_08  already exists!\n",
      "Starting to analyze %  D:\\videos\\ar30\\2020_12_08\\Mask130L.avi\n",
      "D:\\videos\\ar30\\2020_12_08  already exists!\n",
      "Starting to analyze %  D:\\videos\\ar30\\2020_12_08\\Mask131L.avi\n",
      "D:\\videos\\ar30\\2020_12_08  already exists!\n",
      "Starting to analyze %  D:\\videos\\ar30\\2020_12_08\\Mask132L.avi\n",
      "D:\\videos\\ar30\\2020_12_08  already exists!\n",
      "Starting to analyze %  D:\\videos\\ar30\\2020_12_08\\Mask133L.avi\n",
      "D:\\videos\\ar30\\2020_12_08  already exists!\n",
      "Starting to analyze %  D:\\videos\\ar30\\2020_12_08\\Mask134L.avi\n",
      "D:\\videos\\ar30\\2020_12_08  already exists!\n",
      "Starting to analyze %  D:\\videos\\ar30\\2020_12_08\\Mask135L.avi\n",
      "D:\\videos\\ar30\\2020_12_08  already exists!\n",
      "Starting to analyze %  D:\\videos\\ar30\\2020_12_08\\Mask136L.avi\n",
      "D:\\videos\\ar30\\2020_12_08  already exists!\n",
      "Starting to analyze %  D:\\videos\\ar30\\2020_12_08\\Mask137L.avi\n",
      "D:\\videos\\ar30\\2020_12_08  already exists!\n",
      "Starting to analyze %  D:\\videos\\ar30\\2020_12_08\\Mask138L.avi\n",
      "D:\\videos\\ar30\\2020_12_08  already exists!\n",
      "Starting to analyze %  D:\\videos\\ar30\\2020_12_08\\Mask139L.avi\n",
      "D:\\videos\\ar30\\2020_12_08  already exists!\n",
      "Starting to analyze %  D:\\videos\\ar30\\2020_12_08\\Mask13L.avi\n",
      "D:\\videos\\ar30\\2020_12_08  already exists!\n",
      "Starting to analyze %  D:\\videos\\ar30\\2020_12_08\\Mask140L.avi\n",
      "D:\\videos\\ar30\\2020_12_08  already exists!\n",
      "Starting to analyze %  D:\\videos\\ar30\\2020_12_08\\Mask141L.avi\n",
      "D:\\videos\\ar30\\2020_12_08  already exists!\n",
      "Starting to analyze %  D:\\videos\\ar30\\2020_12_08\\Mask142L.avi\n",
      "D:\\videos\\ar30\\2020_12_08  already exists!\n",
      "Starting to analyze %  D:\\videos\\ar30\\2020_12_08\\Mask143L.avi\n",
      "D:\\videos\\ar30\\2020_12_08  already exists!\n",
      "Starting to analyze %  D:\\videos\\ar30\\2020_12_08\\Mask144L.avi\n",
      "D:\\videos\\ar30\\2020_12_08  already exists!\n",
      "Starting to analyze %  D:\\videos\\ar30\\2020_12_08\\Mask145L.avi\n",
      "D:\\videos\\ar30\\2020_12_08  already exists!\n",
      "Starting to analyze %  D:\\videos\\ar30\\2020_12_08\\Mask146L.avi\n",
      "D:\\videos\\ar30\\2020_12_08  already exists!\n",
      "Starting to analyze %  D:\\videos\\ar30\\2020_12_08\\Mask148L.avi\n",
      "D:\\videos\\ar30\\2020_12_08  already exists!\n",
      "Starting to analyze %  D:\\videos\\ar30\\2020_12_08\\Mask149L.avi\n",
      "D:\\videos\\ar30\\2020_12_08  already exists!\n",
      "Starting to analyze %  D:\\videos\\ar30\\2020_12_08\\Mask14L.avi\n",
      "D:\\videos\\ar30\\2020_12_08  already exists!\n",
      "Starting to analyze %  D:\\videos\\ar30\\2020_12_08\\Mask150L.avi\n",
      "D:\\videos\\ar30\\2020_12_08  already exists!\n",
      "Starting to analyze %  D:\\videos\\ar30\\2020_12_08\\Mask151L.avi\n",
      "D:\\videos\\ar30\\2020_12_08  already exists!\n",
      "Starting to analyze %  D:\\videos\\ar30\\2020_12_08\\Mask152L.avi\n",
      "D:\\videos\\ar30\\2020_12_08  already exists!\n",
      "Starting to analyze %  D:\\videos\\ar30\\2020_12_08\\Mask153L.avi\n",
      "D:\\videos\\ar30\\2020_12_08  already exists!\n",
      "Starting to analyze %  D:\\videos\\ar30\\2020_12_08\\Mask154L.avi\n",
      "D:\\videos\\ar30\\2020_12_08  already exists!\n",
      "Starting to analyze %  D:\\videos\\ar30\\2020_12_08\\Mask155L.avi\n",
      "D:\\videos\\ar30\\2020_12_08  already exists!\n",
      "Starting to analyze %  D:\\videos\\ar30\\2020_12_08\\Mask156L.avi\n",
      "D:\\videos\\ar30\\2020_12_08  already exists!\n",
      "Starting to analyze %  D:\\videos\\ar30\\2020_12_08\\Mask157L.avi\n",
      "D:\\videos\\ar30\\2020_12_08  already exists!\n",
      "Starting to analyze %  D:\\videos\\ar30\\2020_12_08\\Mask158L.avi\n",
      "D:\\videos\\ar30\\2020_12_08  already exists!\n",
      "Starting to analyze %  D:\\videos\\ar30\\2020_12_08\\Mask159L.avi\n",
      "D:\\videos\\ar30\\2020_12_08  already exists!\n",
      "Starting to analyze %  D:\\videos\\ar30\\2020_12_08\\Mask15L.avi\n",
      "D:\\videos\\ar30\\2020_12_08  already exists!\n",
      "Starting to analyze %  D:\\videos\\ar30\\2020_12_08\\Mask160L.avi\n",
      "D:\\videos\\ar30\\2020_12_08  already exists!\n",
      "Starting to analyze %  D:\\videos\\ar30\\2020_12_08\\Mask161L.avi\n",
      "D:\\videos\\ar30\\2020_12_08  already exists!\n",
      "Starting to analyze %  D:\\videos\\ar30\\2020_12_08\\Mask162L.avi\n",
      "D:\\videos\\ar30\\2020_12_08  already exists!\n",
      "Starting to analyze %  D:\\videos\\ar30\\2020_12_08\\Mask163L.avi\n",
      "D:\\videos\\ar30\\2020_12_08  already exists!\n",
      "Starting to analyze %  D:\\videos\\ar30\\2020_12_08\\Mask164L.avi\n",
      "D:\\videos\\ar30\\2020_12_08  already exists!\n",
      "Starting to analyze %  D:\\videos\\ar30\\2020_12_08\\Mask165L.avi\n",
      "D:\\videos\\ar30\\2020_12_08  already exists!\n",
      "Starting to analyze %  D:\\videos\\ar30\\2020_12_08\\Mask166L.avi\n",
      "D:\\videos\\ar30\\2020_12_08  already exists!\n",
      "Starting to analyze %  D:\\videos\\ar30\\2020_12_08\\Mask167L.avi\n",
      "D:\\videos\\ar30\\2020_12_08  already exists!\n",
      "Starting to analyze %  D:\\videos\\ar30\\2020_12_08\\Mask168L.avi\n",
      "D:\\videos\\ar30\\2020_12_08  already exists!\n",
      "Starting to analyze %  D:\\videos\\ar30\\2020_12_08\\Mask169L.avi\n",
      "D:\\videos\\ar30\\2020_12_08  already exists!\n",
      "Starting to analyze %  D:\\videos\\ar30\\2020_12_08\\Mask16L.avi\n",
      "D:\\videos\\ar30\\2020_12_08  already exists!\n",
      "Starting to analyze %  D:\\videos\\ar30\\2020_12_08\\Mask170L.avi\n",
      "D:\\videos\\ar30\\2020_12_08  already exists!\n",
      "Starting to analyze %  D:\\videos\\ar30\\2020_12_08\\Mask171L.avi\n",
      "D:\\videos\\ar30\\2020_12_08  already exists!\n",
      "Starting to analyze %  D:\\videos\\ar30\\2020_12_08\\Mask172L.avi\n",
      "D:\\videos\\ar30\\2020_12_08  already exists!\n",
      "Starting to analyze %  D:\\videos\\ar30\\2020_12_08\\Mask173L.avi\n",
      "D:\\videos\\ar30\\2020_12_08  already exists!\n",
      "Starting to analyze %  D:\\videos\\ar30\\2020_12_08\\Mask174L.avi\n",
      "D:\\videos\\ar30\\2020_12_08  already exists!\n",
      "Starting to analyze %  D:\\videos\\ar30\\2020_12_08\\Mask175L.avi\n",
      "D:\\videos\\ar30\\2020_12_08  already exists!\n",
      "Starting to analyze %  D:\\videos\\ar30\\2020_12_08\\Mask176L.avi\n",
      "D:\\videos\\ar30\\2020_12_08  already exists!\n",
      "Starting to analyze %  D:\\videos\\ar30\\2020_12_08\\Mask177L.avi\n",
      "D:\\videos\\ar30\\2020_12_08  already exists!\n",
      "Starting to analyze %  D:\\videos\\ar30\\2020_12_08\\Mask178L.avi\n",
      "D:\\videos\\ar30\\2020_12_08  already exists!\n",
      "Starting to analyze %  D:\\videos\\ar30\\2020_12_08\\Mask179L.avi\n",
      "D:\\videos\\ar30\\2020_12_08  already exists!\n",
      "Starting to analyze %  D:\\videos\\ar30\\2020_12_08\\Mask17L.avi\n",
      "D:\\videos\\ar30\\2020_12_08  already exists!\n",
      "Starting to analyze %  D:\\videos\\ar30\\2020_12_08\\Mask180L.avi\n",
      "D:\\videos\\ar30\\2020_12_08  already exists!\n",
      "Starting to analyze %  D:\\videos\\ar30\\2020_12_08\\Mask181L.avi\n"
     ]
    },
    {
     "name": "stdout",
     "output_type": "stream",
     "text": [
      "D:\\videos\\ar30\\2020_12_08  already exists!\n",
      "Starting to analyze %  D:\\videos\\ar30\\2020_12_08\\Mask182L.avi\n",
      "D:\\videos\\ar30\\2020_12_08  already exists!\n",
      "Starting to analyze %  D:\\videos\\ar30\\2020_12_08\\Mask183L.avi\n",
      "D:\\videos\\ar30\\2020_12_08  already exists!\n",
      "Starting to analyze %  D:\\videos\\ar30\\2020_12_08\\Mask184L.avi\n",
      "D:\\videos\\ar30\\2020_12_08  already exists!\n",
      "Starting to analyze %  D:\\videos\\ar30\\2020_12_08\\Mask185L.avi\n",
      "D:\\videos\\ar30\\2020_12_08  already exists!\n",
      "Starting to analyze %  D:\\videos\\ar30\\2020_12_08\\Mask186L.avi\n",
      "D:\\videos\\ar30\\2020_12_08  already exists!\n",
      "Starting to analyze %  D:\\videos\\ar30\\2020_12_08\\Mask187L.avi\n",
      "D:\\videos\\ar30\\2020_12_08  already exists!\n",
      "Starting to analyze %  D:\\videos\\ar30\\2020_12_08\\Mask188L.avi\n",
      "D:\\videos\\ar30\\2020_12_08  already exists!\n",
      "Starting to analyze %  D:\\videos\\ar30\\2020_12_08\\Mask189L.avi\n",
      "D:\\videos\\ar30\\2020_12_08  already exists!\n",
      "Starting to analyze %  D:\\videos\\ar30\\2020_12_08\\Mask18L.avi\n",
      "D:\\videos\\ar30\\2020_12_08  already exists!\n",
      "Starting to analyze %  D:\\videos\\ar30\\2020_12_08\\Mask190L.avi\n",
      "D:\\videos\\ar30\\2020_12_08  already exists!\n",
      "Starting to analyze %  D:\\videos\\ar30\\2020_12_08\\Mask191L.avi\n",
      "D:\\videos\\ar30\\2020_12_08  already exists!\n",
      "Starting to analyze %  D:\\videos\\ar30\\2020_12_08\\Mask192L.avi\n",
      "D:\\videos\\ar30\\2020_12_08  already exists!\n",
      "Starting to analyze %  D:\\videos\\ar30\\2020_12_08\\Mask193L.avi\n",
      "D:\\videos\\ar30\\2020_12_08  already exists!\n",
      "Starting to analyze %  D:\\videos\\ar30\\2020_12_08\\Mask194L.avi\n",
      "D:\\videos\\ar30\\2020_12_08  already exists!\n",
      "Starting to analyze %  D:\\videos\\ar30\\2020_12_08\\Mask195L.avi\n",
      "D:\\videos\\ar30\\2020_12_08  already exists!\n",
      "Starting to analyze %  D:\\videos\\ar30\\2020_12_08\\Mask196L.avi\n",
      "D:\\videos\\ar30\\2020_12_08  already exists!\n",
      "Starting to analyze %  D:\\videos\\ar30\\2020_12_08\\Mask19L.avi\n",
      "D:\\videos\\ar30\\2020_12_08  already exists!\n",
      "Starting to analyze %  D:\\videos\\ar30\\2020_12_08\\Mask1L.avi\n",
      "D:\\videos\\ar30\\2020_12_08  already exists!\n",
      "Starting to analyze %  D:\\videos\\ar30\\2020_12_08\\Mask205L.avi\n",
      "D:\\videos\\ar30\\2020_12_08  already exists!\n",
      "Starting to analyze %  D:\\videos\\ar30\\2020_12_08\\Mask206L.avi\n",
      "D:\\videos\\ar30\\2020_12_08  already exists!\n",
      "Starting to analyze %  D:\\videos\\ar30\\2020_12_08\\Mask207L.avi\n",
      "D:\\videos\\ar30\\2020_12_08  already exists!\n",
      "Starting to analyze %  D:\\videos\\ar30\\2020_12_08\\Mask208L.avi\n",
      "D:\\videos\\ar30\\2020_12_08  already exists!\n",
      "Starting to analyze %  D:\\videos\\ar30\\2020_12_08\\Mask209L.avi\n",
      "D:\\videos\\ar30\\2020_12_08  already exists!\n",
      "Starting to analyze %  D:\\videos\\ar30\\2020_12_08\\Mask20L.avi\n",
      "D:\\videos\\ar30\\2020_12_08  already exists!\n",
      "Starting to analyze %  D:\\videos\\ar30\\2020_12_08\\Mask210L.avi\n",
      "D:\\videos\\ar30\\2020_12_08  already exists!\n",
      "Starting to analyze %  D:\\videos\\ar30\\2020_12_08\\Mask211L.avi\n",
      "D:\\videos\\ar30\\2020_12_08  already exists!\n",
      "Starting to analyze %  D:\\videos\\ar30\\2020_12_08\\Mask212L.avi\n",
      "D:\\videos\\ar30\\2020_12_08  already exists!\n",
      "Starting to analyze %  D:\\videos\\ar30\\2020_12_08\\Mask213L.avi\n",
      "D:\\videos\\ar30\\2020_12_08  already exists!\n",
      "Starting to analyze %  D:\\videos\\ar30\\2020_12_08\\Mask214L.avi\n",
      "D:\\videos\\ar30\\2020_12_08  already exists!\n",
      "Starting to analyze %  D:\\videos\\ar30\\2020_12_08\\Mask215L.avi\n",
      "D:\\videos\\ar30\\2020_12_08  already exists!\n",
      "Starting to analyze %  D:\\videos\\ar30\\2020_12_08\\Mask219L.avi\n",
      "D:\\videos\\ar30\\2020_12_08  already exists!\n",
      "Starting to analyze %  D:\\videos\\ar30\\2020_12_08\\Mask21L.avi\n",
      "D:\\videos\\ar30\\2020_12_08  already exists!\n",
      "Starting to analyze %  D:\\videos\\ar30\\2020_12_08\\Mask220L.avi\n",
      "D:\\videos\\ar30\\2020_12_08  already exists!\n",
      "Starting to analyze %  D:\\videos\\ar30\\2020_12_08\\Mask221L.avi\n",
      "D:\\videos\\ar30\\2020_12_08  already exists!\n",
      "Starting to analyze %  D:\\videos\\ar30\\2020_12_08\\Mask222L.avi\n",
      "D:\\videos\\ar30\\2020_12_08  already exists!\n",
      "Starting to analyze %  D:\\videos\\ar30\\2020_12_08\\Mask223L.avi\n",
      "D:\\videos\\ar30\\2020_12_08  already exists!\n",
      "Starting to analyze %  D:\\videos\\ar30\\2020_12_08\\Mask224L.avi\n",
      "D:\\videos\\ar30\\2020_12_08  already exists!\n",
      "Starting to analyze %  D:\\videos\\ar30\\2020_12_08\\Mask225L.avi\n",
      "D:\\videos\\ar30\\2020_12_08  already exists!\n",
      "Starting to analyze %  D:\\videos\\ar30\\2020_12_08\\Mask226L.avi\n",
      "D:\\videos\\ar30\\2020_12_08  already exists!\n",
      "Starting to analyze %  D:\\videos\\ar30\\2020_12_08\\Mask227L.avi\n",
      "D:\\videos\\ar30\\2020_12_08  already exists!\n",
      "Starting to analyze %  D:\\videos\\ar30\\2020_12_08\\Mask228L.avi\n",
      "D:\\videos\\ar30\\2020_12_08  already exists!\n",
      "Starting to analyze %  D:\\videos\\ar30\\2020_12_08\\Mask229L.avi\n",
      "D:\\videos\\ar30\\2020_12_08  already exists!\n",
      "Starting to analyze %  D:\\videos\\ar30\\2020_12_08\\Mask22L.avi\n",
      "D:\\videos\\ar30\\2020_12_08  already exists!\n",
      "Starting to analyze %  D:\\videos\\ar30\\2020_12_08\\Mask230L.avi\n",
      "D:\\videos\\ar30\\2020_12_08  already exists!\n",
      "Starting to analyze %  D:\\videos\\ar30\\2020_12_08\\Mask231L.avi\n",
      "D:\\videos\\ar30\\2020_12_08  already exists!\n",
      "Starting to analyze %  D:\\videos\\ar30\\2020_12_08\\Mask232L.avi\n",
      "D:\\videos\\ar30\\2020_12_08  already exists!\n",
      "Starting to analyze %  D:\\videos\\ar30\\2020_12_08\\Mask233L.avi\n",
      "D:\\videos\\ar30\\2020_12_08  already exists!\n",
      "Starting to analyze %  D:\\videos\\ar30\\2020_12_08\\Mask234L.avi\n",
      "D:\\videos\\ar30\\2020_12_08  already exists!\n",
      "Starting to analyze %  D:\\videos\\ar30\\2020_12_08\\Mask235L.avi\n",
      "D:\\videos\\ar30\\2020_12_08  already exists!\n",
      "Starting to analyze %  D:\\videos\\ar30\\2020_12_08\\Mask236L.avi\n",
      "D:\\videos\\ar30\\2020_12_08  already exists!\n",
      "Starting to analyze %  D:\\videos\\ar30\\2020_12_08\\Mask237L.avi\n",
      "D:\\videos\\ar30\\2020_12_08  already exists!\n",
      "Starting to analyze %  D:\\videos\\ar30\\2020_12_08\\Mask238L.avi\n",
      "D:\\videos\\ar30\\2020_12_08  already exists!\n",
      "Starting to analyze %  D:\\videos\\ar30\\2020_12_08\\Mask239L.avi\n",
      "D:\\videos\\ar30\\2020_12_08  already exists!\n",
      "Starting to analyze %  D:\\videos\\ar30\\2020_12_08\\Mask23L.avi\n",
      "D:\\videos\\ar30\\2020_12_08  already exists!\n",
      "Starting to analyze %  D:\\videos\\ar30\\2020_12_08\\Mask240L.avi\n",
      "D:\\videos\\ar30\\2020_12_08  already exists!\n",
      "Starting to analyze %  D:\\videos\\ar30\\2020_12_08\\Mask241L.avi\n",
      "D:\\videos\\ar30\\2020_12_08  already exists!\n",
      "Starting to analyze %  D:\\videos\\ar30\\2020_12_08\\Mask242L.avi\n",
      "D:\\videos\\ar30\\2020_12_08  already exists!\n",
      "Starting to analyze %  D:\\videos\\ar30\\2020_12_08\\Mask243L.avi\n",
      "D:\\videos\\ar30\\2020_12_08  already exists!\n",
      "Starting to analyze %  D:\\videos\\ar30\\2020_12_08\\Mask244L.avi\n",
      "D:\\videos\\ar30\\2020_12_08  already exists!\n",
      "Starting to analyze %  D:\\videos\\ar30\\2020_12_08\\Mask245L.avi\n",
      "D:\\videos\\ar30\\2020_12_08  already exists!\n",
      "Starting to analyze %  D:\\videos\\ar30\\2020_12_08\\Mask246L.avi\n",
      "D:\\videos\\ar30\\2020_12_08  already exists!\n",
      "Starting to analyze %  D:\\videos\\ar30\\2020_12_08\\Mask247L.avi\n",
      "D:\\videos\\ar30\\2020_12_08  already exists!\n",
      "Starting to analyze %  D:\\videos\\ar30\\2020_12_08\\Mask248L.avi\n",
      "D:\\videos\\ar30\\2020_12_08  already exists!\n",
      "Starting to analyze %  D:\\videos\\ar30\\2020_12_08\\Mask249L.avi\n",
      "D:\\videos\\ar30\\2020_12_08  already exists!\n",
      "Starting to analyze %  D:\\videos\\ar30\\2020_12_08\\Mask250L.avi\n",
      "D:\\videos\\ar30\\2020_12_08  already exists!\n",
      "Starting to analyze %  D:\\videos\\ar30\\2020_12_08\\Mask251L.avi\n",
      "D:\\videos\\ar30\\2020_12_08  already exists!\n",
      "Starting to analyze %  D:\\videos\\ar30\\2020_12_08\\Mask252L.avi\n",
      "D:\\videos\\ar30\\2020_12_08  already exists!\n",
      "Starting to analyze %  D:\\videos\\ar30\\2020_12_08\\Mask253L.avi\n",
      "D:\\videos\\ar30\\2020_12_08  already exists!\n",
      "Starting to analyze %  D:\\videos\\ar30\\2020_12_08\\Mask254L.avi\n",
      "D:\\videos\\ar30\\2020_12_08  already exists!\n",
      "Starting to analyze %  D:\\videos\\ar30\\2020_12_08\\Mask25L.avi\n",
      "D:\\videos\\ar30\\2020_12_08  already exists!\n",
      "Starting to analyze %  D:\\videos\\ar30\\2020_12_08\\Mask26L.avi\n",
      "D:\\videos\\ar30\\2020_12_08  already exists!\n",
      "Starting to analyze %  D:\\videos\\ar30\\2020_12_08\\Mask27L.avi\n",
      "D:\\videos\\ar30\\2020_12_08  already exists!\n",
      "Starting to analyze %  D:\\videos\\ar30\\2020_12_08\\Mask28L.avi\n",
      "D:\\videos\\ar30\\2020_12_08  already exists!\n",
      "Starting to analyze %  D:\\videos\\ar30\\2020_12_08\\Mask29L.avi\n",
      "D:\\videos\\ar30\\2020_12_08  already exists!\n",
      "Starting to analyze %  D:\\videos\\ar30\\2020_12_08\\Mask2L.avi\n",
      "D:\\videos\\ar30\\2020_12_08  already exists!\n",
      "Starting to analyze %  D:\\videos\\ar30\\2020_12_08\\Mask30L.avi\n",
      "D:\\videos\\ar30\\2020_12_08  already exists!\n",
      "Starting to analyze %  D:\\videos\\ar30\\2020_12_08\\Mask31L.avi\n",
      "D:\\videos\\ar30\\2020_12_08  already exists!\n",
      "Starting to analyze %  D:\\videos\\ar30\\2020_12_08\\Mask32L.avi\n",
      "D:\\videos\\ar30\\2020_12_08  already exists!\n",
      "Starting to analyze %  D:\\videos\\ar30\\2020_12_08\\Mask33L.avi\n",
      "D:\\videos\\ar30\\2020_12_08  already exists!\n",
      "Starting to analyze %  D:\\videos\\ar30\\2020_12_08\\Mask34L.avi\n",
      "D:\\videos\\ar30\\2020_12_08  already exists!\n",
      "Starting to analyze %  D:\\videos\\ar30\\2020_12_08\\Mask35L.avi\n",
      "D:\\videos\\ar30\\2020_12_08  already exists!\n",
      "Starting to analyze %  D:\\videos\\ar30\\2020_12_08\\Mask36L.avi\n",
      "D:\\videos\\ar30\\2020_12_08  already exists!\n",
      "Starting to analyze %  D:\\videos\\ar30\\2020_12_08\\Mask37L.avi\n",
      "D:\\videos\\ar30\\2020_12_08  already exists!\n",
      "Starting to analyze %  D:\\videos\\ar30\\2020_12_08\\Mask38L.avi\n",
      "D:\\videos\\ar30\\2020_12_08  already exists!\n",
      "Starting to analyze %  D:\\videos\\ar30\\2020_12_08\\Mask39L.avi\n",
      "D:\\videos\\ar30\\2020_12_08  already exists!\n",
      "Starting to analyze %  D:\\videos\\ar30\\2020_12_08\\Mask3L.avi\n",
      "D:\\videos\\ar30\\2020_12_08  already exists!\n",
      "Starting to analyze %  D:\\videos\\ar30\\2020_12_08\\Mask40L.avi\n",
      "D:\\videos\\ar30\\2020_12_08  already exists!\n",
      "Starting to analyze %  D:\\videos\\ar30\\2020_12_08\\Mask41L.avi\n",
      "D:\\videos\\ar30\\2020_12_08  already exists!\n",
      "Starting to analyze %  D:\\videos\\ar30\\2020_12_08\\Mask42L.avi\n",
      "D:\\videos\\ar30\\2020_12_08  already exists!\n",
      "Starting to analyze %  D:\\videos\\ar30\\2020_12_08\\Mask43L.avi\n",
      "D:\\videos\\ar30\\2020_12_08  already exists!\n",
      "Starting to analyze %  D:\\videos\\ar30\\2020_12_08\\Mask44L.avi\n",
      "D:\\videos\\ar30\\2020_12_08  already exists!\n",
      "Starting to analyze %  D:\\videos\\ar30\\2020_12_08\\Mask45L.avi\n",
      "D:\\videos\\ar30\\2020_12_08  already exists!\n",
      "Starting to analyze %  D:\\videos\\ar30\\2020_12_08\\Mask46L.avi\n",
      "D:\\videos\\ar30\\2020_12_08  already exists!\n",
      "Starting to analyze %  D:\\videos\\ar30\\2020_12_08\\Mask47L.avi\n",
      "D:\\videos\\ar30\\2020_12_08  already exists!\n",
      "Starting to analyze %  D:\\videos\\ar30\\2020_12_08\\Mask48L.avi\n",
      "D:\\videos\\ar30\\2020_12_08  already exists!\n",
      "Starting to analyze %  D:\\videos\\ar30\\2020_12_08\\Mask49L.avi\n",
      "D:\\videos\\ar30\\2020_12_08  already exists!\n",
      "Starting to analyze %  D:\\videos\\ar30\\2020_12_08\\Mask4L.avi\n",
      "D:\\videos\\ar30\\2020_12_08  already exists!\n",
      "Starting to analyze %  D:\\videos\\ar30\\2020_12_08\\Mask50L.avi\n",
      "D:\\videos\\ar30\\2020_12_08  already exists!\n",
      "Starting to analyze %  D:\\videos\\ar30\\2020_12_08\\Mask51L.avi\n",
      "D:\\videos\\ar30\\2020_12_08  already exists!\n",
      "Starting to analyze %  D:\\videos\\ar30\\2020_12_08\\Mask52L.avi\n",
      "D:\\videos\\ar30\\2020_12_08  already exists!\n",
      "Starting to analyze %  D:\\videos\\ar30\\2020_12_08\\Mask53L.avi\n",
      "D:\\videos\\ar30\\2020_12_08  already exists!\n",
      "Starting to analyze %  D:\\videos\\ar30\\2020_12_08\\Mask54L.avi\n",
      "D:\\videos\\ar30\\2020_12_08  already exists!\n",
      "Starting to analyze %  D:\\videos\\ar30\\2020_12_08\\Mask55L.avi\n",
      "D:\\videos\\ar30\\2020_12_08  already exists!\n",
      "Starting to analyze %  D:\\videos\\ar30\\2020_12_08\\Mask56L.avi\n",
      "D:\\videos\\ar30\\2020_12_08  already exists!\n",
      "Starting to analyze %  D:\\videos\\ar30\\2020_12_08\\Mask57L.avi\n",
      "D:\\videos\\ar30\\2020_12_08  already exists!\n",
      "Starting to analyze %  D:\\videos\\ar30\\2020_12_08\\Mask58L.avi\n",
      "D:\\videos\\ar30\\2020_12_08  already exists!\n",
      "Starting to analyze %  D:\\videos\\ar30\\2020_12_08\\Mask59L.avi\n",
      "D:\\videos\\ar30\\2020_12_08  already exists!\n",
      "Starting to analyze %  D:\\videos\\ar30\\2020_12_08\\Mask5L.avi\n",
      "D:\\videos\\ar30\\2020_12_08  already exists!\n",
      "Starting to analyze %  D:\\videos\\ar30\\2020_12_08\\Mask60L.avi\n",
      "D:\\videos\\ar30\\2020_12_08  already exists!\n",
      "Starting to analyze %  D:\\videos\\ar30\\2020_12_08\\Mask61L.avi\n",
      "D:\\videos\\ar30\\2020_12_08  already exists!\n",
      "Starting to analyze %  D:\\videos\\ar30\\2020_12_08\\Mask62L.avi\n",
      "D:\\videos\\ar30\\2020_12_08  already exists!\n",
      "Starting to analyze %  D:\\videos\\ar30\\2020_12_08\\Mask63L.avi\n",
      "D:\\videos\\ar30\\2020_12_08  already exists!\n",
      "Starting to analyze %  D:\\videos\\ar30\\2020_12_08\\Mask64L.avi\n",
      "D:\\videos\\ar30\\2020_12_08  already exists!\n",
      "Loading  D:\\videos\\ar30\\2020_12_08\\Mask64L.avi\n",
      "Duration of video [s]:  12.45 , recorded with  40.0 fps!\n",
      "Overall # of frames:  498  found with (before cropping) frame dimensions:  250 300\n",
      "Starting to extract posture\n"
     ]
    },
    {
     "name": "stderr",
     "output_type": "stream",
     "text": [
      " 98%|█████████████████████████████████████████████████████████████████████████████▋ | 490/498 [00:02<00:00, 193.73it/s]"
     ]
    },
    {
     "name": "stdout",
     "output_type": "stream",
     "text": [
      "Detected frames:  498\n"
     ]
    },
    {
     "name": "stderr",
     "output_type": "stream",
     "text": [
      "500it [00:02, 168.97it/s]                                                                                              \n"
     ]
    },
    {
     "name": "stdout",
     "output_type": "stream",
     "text": [
      "Saving results in D:\\videos\\ar30\\2020_12_08...\n",
      "Saving csv poses!\n",
      "Starting to analyze %  D:\\videos\\ar30\\2020_12_08\\Mask65L.avi\n",
      "D:\\videos\\ar30\\2020_12_08  already exists!\n",
      "Loading  D:\\videos\\ar30\\2020_12_08\\Mask65L.avi\n",
      "Duration of video [s]:  12.45 , recorded with  40.0 fps!\n",
      "Overall # of frames:  498  found with (before cropping) frame dimensions:  250 300\n",
      "Starting to extract posture\n"
     ]
    },
    {
     "name": "stderr",
     "output_type": "stream",
     "text": [
      "500it [00:02, 177.08it/s]                                                                                              "
     ]
    },
    {
     "name": "stdout",
     "output_type": "stream",
     "text": [
      "Detected frames:  498\n"
     ]
    },
    {
     "name": "stderr",
     "output_type": "stream",
     "text": [
      "500it [00:02, 176.78it/s]\n"
     ]
    },
    {
     "name": "stdout",
     "output_type": "stream",
     "text": [
      "Saving results in D:\\videos\\ar30\\2020_12_08...\n",
      "Saving csv poses!\n",
      "Starting to analyze %  D:\\videos\\ar30\\2020_12_08\\Mask66L.avi\n",
      "D:\\videos\\ar30\\2020_12_08  already exists!\n",
      "Loading  D:\\videos\\ar30\\2020_12_08\\Mask66L.avi\n",
      "Duration of video [s]:  12.45 , recorded with  40.0 fps!\n",
      "Overall # of frames:  498  found with (before cropping) frame dimensions:  250 300\n",
      "Starting to extract posture\n"
     ]
    },
    {
     "name": "stderr",
     "output_type": "stream",
     "text": [
      "500it [00:02, 164.74it/s]                                                                                              "
     ]
    },
    {
     "name": "stdout",
     "output_type": "stream",
     "text": [
      "Detected frames:  498\n"
     ]
    },
    {
     "name": "stderr",
     "output_type": "stream",
     "text": [
      "500it [00:03, 165.83it/s]\n"
     ]
    },
    {
     "name": "stdout",
     "output_type": "stream",
     "text": [
      "Saving results in D:\\videos\\ar30\\2020_12_08...\n",
      "Saving csv poses!\n",
      "Starting to analyze %  D:\\videos\\ar30\\2020_12_08\\Mask67L.avi\n",
      "D:\\videos\\ar30\\2020_12_08  already exists!\n",
      "Loading  D:\\videos\\ar30\\2020_12_08\\Mask67L.avi\n",
      "Duration of video [s]:  12.45 , recorded with  40.0 fps!\n",
      "Overall # of frames:  498  found with (before cropping) frame dimensions:  250 300\n",
      "Starting to extract posture\n"
     ]
    },
    {
     "name": "stderr",
     "output_type": "stream",
     "text": [
      "500it [00:03, 113.83it/s]                                                                                              "
     ]
    },
    {
     "name": "stdout",
     "output_type": "stream",
     "text": [
      "Detected frames:  498\n"
     ]
    },
    {
     "name": "stderr",
     "output_type": "stream",
     "text": [
      "500it [00:03, 136.65it/s]\n"
     ]
    },
    {
     "name": "stdout",
     "output_type": "stream",
     "text": [
      "Saving results in D:\\videos\\ar30\\2020_12_08...\n",
      "Saving csv poses!\n",
      "Starting to analyze %  D:\\videos\\ar30\\2020_12_08\\Mask68L.avi\n",
      "D:\\videos\\ar30\\2020_12_08  already exists!\n",
      "Loading  D:\\videos\\ar30\\2020_12_08\\Mask68L.avi\n",
      "Duration of video [s]:  12.45 , recorded with  40.0 fps!\n",
      "Overall # of frames:  498  found with (before cropping) frame dimensions:  250 300\n",
      "Starting to extract posture\n"
     ]
    },
    {
     "name": "stderr",
     "output_type": "stream",
     "text": [
      " 98%|██████████████████████████████████████████████████████████████████████████████▋ | 490/498 [00:03<00:00, 46.22it/s]"
     ]
    },
    {
     "name": "stdout",
     "output_type": "stream",
     "text": [
      "Detected frames:  498\n"
     ]
    },
    {
     "name": "stderr",
     "output_type": "stream",
     "text": [
      "500it [00:03, 125.64it/s]                                                                                              \n"
     ]
    },
    {
     "name": "stdout",
     "output_type": "stream",
     "text": [
      "Saving results in D:\\videos\\ar30\\2020_12_08...\n",
      "Saving csv poses!\n",
      "Starting to analyze %  D:\\videos\\ar30\\2020_12_08\\Mask69L.avi\n",
      "D:\\videos\\ar30\\2020_12_08  already exists!\n",
      "Loading  D:\\videos\\ar30\\2020_12_08\\Mask69L.avi\n",
      "Duration of video [s]:  12.45 , recorded with  40.0 fps!\n",
      "Overall # of frames:  498  found with (before cropping) frame dimensions:  250 300\n",
      "Starting to extract posture\n"
     ]
    },
    {
     "name": "stderr",
     "output_type": "stream",
     "text": [
      " 98%|█████████████████████████████████████████████████████████████████████████████▋ | 490/498 [00:05<00:00, 186.93it/s]"
     ]
    },
    {
     "name": "stdout",
     "output_type": "stream",
     "text": [
      "Detected frames:  498\n"
     ]
    },
    {
     "name": "stderr",
     "output_type": "stream",
     "text": [
      "500it [00:06, 82.70it/s]                                                                                               \n"
     ]
    },
    {
     "name": "stdout",
     "output_type": "stream",
     "text": [
      "Saving results in D:\\videos\\ar30\\2020_12_08...\n",
      "Saving csv poses!\n",
      "Starting to analyze %  D:\\videos\\ar30\\2020_12_08\\Mask6L.avi\n",
      "D:\\videos\\ar30\\2020_12_08  already exists!\n",
      "Loading  D:\\videos\\ar30\\2020_12_08\\Mask6L.avi\n",
      "Duration of video [s]:  9.7 , recorded with  40.0 fps!\n",
      "Overall # of frames:  388  found with (before cropping) frame dimensions:  250 300\n",
      "Starting to extract posture\n"
     ]
    },
    {
     "name": "stderr",
     "output_type": "stream",
     "text": [
      " 95%|███████████████████████████████████████████████████████████████████████████▎   | 370/388 [00:01<00:00, 186.09it/s]"
     ]
    },
    {
     "name": "stdout",
     "output_type": "stream",
     "text": [
      "Detected frames:  388\n"
     ]
    },
    {
     "name": "stderr",
     "output_type": "stream",
     "text": [
      "390it [00:02, 191.12it/s]                                                                                              \n"
     ]
    },
    {
     "name": "stdout",
     "output_type": "stream",
     "text": [
      "Saving results in D:\\videos\\ar30\\2020_12_08...\n",
      "Saving csv poses!\n",
      "Starting to analyze %  D:\\videos\\ar30\\2020_12_08\\Mask70L.avi\n",
      "D:\\videos\\ar30\\2020_12_08  already exists!\n",
      "Loading  D:\\videos\\ar30\\2020_12_08\\Mask70L.avi\n",
      "Duration of video [s]:  12.45 , recorded with  40.0 fps!\n",
      "Overall # of frames:  498  found with (before cropping) frame dimensions:  250 300\n",
      "Starting to extract posture\n"
     ]
    },
    {
     "name": "stderr",
     "output_type": "stream",
     "text": [
      " 96%|████████████████████████████████████████████████████████████████████████████▏  | 480/498 [00:02<00:00, 200.98it/s]"
     ]
    },
    {
     "name": "stdout",
     "output_type": "stream",
     "text": [
      "Detected frames:  498\n"
     ]
    },
    {
     "name": "stderr",
     "output_type": "stream",
     "text": [
      "500it [00:02, 189.83it/s]                                                                                              \n"
     ]
    },
    {
     "name": "stdout",
     "output_type": "stream",
     "text": [
      "Saving results in D:\\videos\\ar30\\2020_12_08...\n",
      "Saving csv poses!\n",
      "Starting to analyze %  D:\\videos\\ar30\\2020_12_08\\Mask71L.avi\n",
      "D:\\videos\\ar30\\2020_12_08  already exists!\n",
      "Loading  D:\\videos\\ar30\\2020_12_08\\Mask71L.avi\n",
      "Duration of video [s]:  12.45 , recorded with  40.0 fps!\n",
      "Overall # of frames:  498  found with (before cropping) frame dimensions:  250 300\n",
      "Starting to extract posture\n"
     ]
    },
    {
     "name": "stderr",
     "output_type": "stream",
     "text": [
      "500it [00:03, 154.12it/s]                                                                                              "
     ]
    },
    {
     "name": "stdout",
     "output_type": "stream",
     "text": [
      "Detected frames:  498\n"
     ]
    },
    {
     "name": "stderr",
     "output_type": "stream",
     "text": [
      "500it [00:03, 156.03it/s]\n"
     ]
    },
    {
     "name": "stdout",
     "output_type": "stream",
     "text": [
      "Saving results in D:\\videos\\ar30\\2020_12_08...\n",
      "Saving csv poses!\n",
      "Starting to analyze %  D:\\videos\\ar30\\2020_12_08\\Mask72L.avi\n",
      "D:\\videos\\ar30\\2020_12_08  already exists!\n",
      "Loading  D:\\videos\\ar30\\2020_12_08\\Mask72L.avi\n",
      "Duration of video [s]:  12.45 , recorded with  40.0 fps!\n",
      "Overall # of frames:  498  found with (before cropping) frame dimensions:  250 300\n",
      "Starting to extract posture\n"
     ]
    },
    {
     "name": "stderr",
     "output_type": "stream",
     "text": [
      " 96%|████████████████████████████████████████████████████████████████████████████▏  | 480/498 [00:02<00:00, 198.02it/s]"
     ]
    },
    {
     "name": "stdout",
     "output_type": "stream",
     "text": [
      "Detected frames:  498\n"
     ]
    },
    {
     "name": "stderr",
     "output_type": "stream",
     "text": [
      "500it [00:02, 188.19it/s]                                                                                              \n"
     ]
    },
    {
     "name": "stdout",
     "output_type": "stream",
     "text": [
      "Saving results in D:\\videos\\ar30\\2020_12_08...\n",
      "Saving csv poses!\n",
      "Starting to analyze %  D:\\videos\\ar30\\2020_12_08\\Mask73L.avi\n",
      "D:\\videos\\ar30\\2020_12_08  already exists!\n",
      "Loading  D:\\videos\\ar30\\2020_12_08\\Mask73L.avi\n",
      "Duration of video [s]:  10.62 , recorded with  40.0 fps!\n",
      "Overall # of frames:  425  found with (before cropping) frame dimensions:  250 300\n",
      "Starting to extract posture\n"
     ]
    },
    {
     "name": "stderr",
     "output_type": "stream",
     "text": [
      " 96%|████████████████████████████████████████████████████████████████████████████▏  | 410/425 [00:02<00:00, 186.37it/s]"
     ]
    },
    {
     "name": "stdout",
     "output_type": "stream",
     "text": [
      "Detected frames:  425\n"
     ]
    },
    {
     "name": "stderr",
     "output_type": "stream",
     "text": [
      "430it [00:02, 185.09it/s]                                                                                              \n"
     ]
    },
    {
     "name": "stdout",
     "output_type": "stream",
     "text": [
      "Saving results in D:\\videos\\ar30\\2020_12_08...\n",
      "Saving csv poses!\n",
      "Starting to analyze %  D:\\videos\\ar30\\2020_12_08\\Mask74L.avi\n",
      "D:\\videos\\ar30\\2020_12_08  already exists!\n",
      "Loading  D:\\videos\\ar30\\2020_12_08\\Mask74L.avi\n",
      "Duration of video [s]:  12.45 , recorded with  40.0 fps!\n",
      "Overall # of frames:  498  found with (before cropping) frame dimensions:  250 300\n",
      "Starting to extract posture\n"
     ]
    },
    {
     "name": "stderr",
     "output_type": "stream",
     "text": [
      " 96%|████████████████████████████████████████████████████████████████████████████▏  | 480/498 [00:02<00:00, 198.04it/s]"
     ]
    },
    {
     "name": "stdout",
     "output_type": "stream",
     "text": [
      "Detected frames:  498\n"
     ]
    },
    {
     "name": "stderr",
     "output_type": "stream",
     "text": [
      "500it [00:02, 184.99it/s]                                                                                              \n"
     ]
    },
    {
     "name": "stdout",
     "output_type": "stream",
     "text": [
      "Saving results in D:\\videos\\ar30\\2020_12_08...\n",
      "Saving csv poses!\n",
      "Starting to analyze %  D:\\videos\\ar30\\2020_12_08\\Mask75L.avi\n",
      "D:\\videos\\ar30\\2020_12_08  already exists!\n",
      "Loading  D:\\videos\\ar30\\2020_12_08\\Mask75L.avi\n",
      "Duration of video [s]:  9.85 , recorded with  40.0 fps!\n",
      "Overall # of frames:  394  found with (before cropping) frame dimensions:  250 300\n",
      "Starting to extract posture\n"
     ]
    },
    {
     "name": "stderr",
     "output_type": "stream",
     "text": [
      " 96%|████████████████████████████████████████████████████████████████████████████▏  | 380/394 [00:01<00:00, 182.82it/s]"
     ]
    },
    {
     "name": "stdout",
     "output_type": "stream",
     "text": [
      "Detected frames:  394\n"
     ]
    },
    {
     "name": "stderr",
     "output_type": "stream",
     "text": [
      "400it [00:02, 186.49it/s]                                                                                              \n"
     ]
    },
    {
     "name": "stdout",
     "output_type": "stream",
     "text": [
      "Saving results in D:\\videos\\ar30\\2020_12_08...\n",
      "Saving csv poses!\n",
      "Starting to analyze %  D:\\videos\\ar30\\2020_12_08\\Mask76L.avi\n",
      "D:\\videos\\ar30\\2020_12_08  already exists!\n",
      "Loading  D:\\videos\\ar30\\2020_12_08\\Mask76L.avi\n",
      "Duration of video [s]:  12.45 , recorded with  40.0 fps!\n",
      "Overall # of frames:  498  found with (before cropping) frame dimensions:  250 300\n",
      "Starting to extract posture\n"
     ]
    },
    {
     "name": "stderr",
     "output_type": "stream",
     "text": [
      " 98%|█████████████████████████████████████████████████████████████████████████████▋ | 490/498 [00:02<00:00, 184.52it/s]"
     ]
    },
    {
     "name": "stdout",
     "output_type": "stream",
     "text": [
      "Detected frames:  498\n"
     ]
    },
    {
     "name": "stderr",
     "output_type": "stream",
     "text": [
      "500it [00:02, 185.98it/s]                                                                                              \n"
     ]
    },
    {
     "name": "stdout",
     "output_type": "stream",
     "text": [
      "Saving results in D:\\videos\\ar30\\2020_12_08...\n",
      "Saving csv poses!\n",
      "Starting to analyze %  D:\\videos\\ar30\\2020_12_08\\Mask77L.avi\n",
      "D:\\videos\\ar30\\2020_12_08  already exists!\n",
      "Loading  D:\\videos\\ar30\\2020_12_08\\Mask77L.avi\n",
      "Duration of video [s]:  9.05 , recorded with  40.0 fps!\n",
      "Overall # of frames:  362  found with (before cropping) frame dimensions:  250 300\n",
      "Starting to extract posture\n"
     ]
    },
    {
     "name": "stderr",
     "output_type": "stream",
     "text": [
      "370it [00:01, 183.01it/s]                                                                                              "
     ]
    },
    {
     "name": "stdout",
     "output_type": "stream",
     "text": [
      "Detected frames:  362\n"
     ]
    },
    {
     "name": "stderr",
     "output_type": "stream",
     "text": [
      "370it [00:02, 182.35it/s]\n"
     ]
    },
    {
     "name": "stdout",
     "output_type": "stream",
     "text": [
      "Saving results in D:\\videos\\ar30\\2020_12_08...\n",
      "Saving csv poses!\n",
      "Starting to analyze %  D:\\videos\\ar30\\2020_12_08\\Mask78L.avi\n",
      "D:\\videos\\ar30\\2020_12_08  already exists!\n",
      "Loading  D:\\videos\\ar30\\2020_12_08\\Mask78L.avi\n",
      "Duration of video [s]:  12.45 , recorded with  40.0 fps!\n",
      "Overall # of frames:  498  found with (before cropping) frame dimensions:  250 300\n",
      "Starting to extract posture\n"
     ]
    },
    {
     "name": "stderr",
     "output_type": "stream",
     "text": [
      "500it [00:02, 180.62it/s]                                                                                              "
     ]
    },
    {
     "name": "stdout",
     "output_type": "stream",
     "text": [
      "Detected frames:  498\n"
     ]
    },
    {
     "name": "stderr",
     "output_type": "stream",
     "text": [
      "500it [00:02, 182.70it/s]\n"
     ]
    },
    {
     "name": "stdout",
     "output_type": "stream",
     "text": [
      "Saving results in D:\\videos\\ar30\\2020_12_08...\n",
      "Saving csv poses!\n",
      "Starting to analyze %  D:\\videos\\ar30\\2020_12_08\\Mask79L.avi\n",
      "D:\\videos\\ar30\\2020_12_08  already exists!\n",
      "Loading  D:\\videos\\ar30\\2020_12_08\\Mask79L.avi\n",
      "Duration of video [s]:  12.45 , recorded with  40.0 fps!\n",
      "Overall # of frames:  498  found with (before cropping) frame dimensions:  250 300\n",
      "Starting to extract posture\n"
     ]
    },
    {
     "name": "stderr",
     "output_type": "stream",
     "text": [
      " 98%|█████████████████████████████████████████████████████████████████████████████▋ | 490/498 [00:02<00:00, 183.33it/s]"
     ]
    },
    {
     "name": "stdout",
     "output_type": "stream",
     "text": [
      "Detected frames:  498\n"
     ]
    },
    {
     "name": "stderr",
     "output_type": "stream",
     "text": [
      "500it [00:02, 181.99it/s]                                                                                              \n"
     ]
    },
    {
     "name": "stdout",
     "output_type": "stream",
     "text": [
      "Saving results in D:\\videos\\ar30\\2020_12_08...\n",
      "Saving csv poses!\n",
      "Starting to analyze %  D:\\videos\\ar30\\2020_12_08\\Mask7L.avi\n",
      "D:\\videos\\ar30\\2020_12_08  already exists!\n",
      "Loading  D:\\videos\\ar30\\2020_12_08\\Mask7L.avi\n",
      "Duration of video [s]:  10.93 , recorded with  40.0 fps!\n",
      "Overall # of frames:  437  found with (before cropping) frame dimensions:  250 300\n",
      "Starting to extract posture\n"
     ]
    },
    {
     "name": "stderr",
     "output_type": "stream",
     "text": [
      "440it [00:02, 196.58it/s]                                                                                              "
     ]
    },
    {
     "name": "stdout",
     "output_type": "stream",
     "text": [
      "Detected frames:  437\n"
     ]
    },
    {
     "name": "stderr",
     "output_type": "stream",
     "text": [
      "440it [00:02, 186.78it/s]\n"
     ]
    },
    {
     "name": "stdout",
     "output_type": "stream",
     "text": [
      "Saving results in D:\\videos\\ar30\\2020_12_08...\n",
      "Saving csv poses!\n",
      "Starting to analyze %  D:\\videos\\ar30\\2020_12_08\\Mask80L.avi\n",
      "D:\\videos\\ar30\\2020_12_08  already exists!\n",
      "Loading  D:\\videos\\ar30\\2020_12_08\\Mask80L.avi\n",
      "Duration of video [s]:  12.45 , recorded with  40.0 fps!\n",
      "Overall # of frames:  498  found with (before cropping) frame dimensions:  250 300\n",
      "Starting to extract posture\n"
     ]
    },
    {
     "name": "stderr",
     "output_type": "stream",
     "text": [
      "500it [00:02, 169.26it/s]                                                                                              "
     ]
    },
    {
     "name": "stdout",
     "output_type": "stream",
     "text": [
      "Detected frames:  498\n"
     ]
    },
    {
     "name": "stderr",
     "output_type": "stream",
     "text": [
      "500it [00:02, 167.41it/s]\n"
     ]
    },
    {
     "name": "stdout",
     "output_type": "stream",
     "text": [
      "Saving results in D:\\videos\\ar30\\2020_12_08...\n",
      "Saving csv poses!\n",
      "Starting to analyze %  D:\\videos\\ar30\\2020_12_08\\Mask81L.avi\n",
      "D:\\videos\\ar30\\2020_12_08  already exists!\n",
      "Loading  D:\\videos\\ar30\\2020_12_08\\Mask81L.avi\n",
      "Duration of video [s]:  12.07 , recorded with  40.0 fps!\n",
      "Overall # of frames:  483  found with (before cropping) frame dimensions:  250 300\n",
      "Starting to extract posture\n"
     ]
    },
    {
     "name": "stderr",
     "output_type": "stream",
     "text": [
      "490it [00:02, 169.79it/s]                                                                                              "
     ]
    },
    {
     "name": "stdout",
     "output_type": "stream",
     "text": [
      "Detected frames:  483\n"
     ]
    },
    {
     "name": "stderr",
     "output_type": "stream",
     "text": [
      "490it [00:02, 173.42it/s]\n"
     ]
    },
    {
     "name": "stdout",
     "output_type": "stream",
     "text": [
      "Saving results in D:\\videos\\ar30\\2020_12_08...\n",
      "Saving csv poses!\n",
      "Starting to analyze %  D:\\videos\\ar30\\2020_12_08\\Mask82L.avi\n",
      "D:\\videos\\ar30\\2020_12_08  already exists!\n",
      "Loading  D:\\videos\\ar30\\2020_12_08\\Mask82L.avi\n",
      "Duration of video [s]:  12.45 , recorded with  40.0 fps!\n",
      "Overall # of frames:  498  found with (before cropping) frame dimensions:  250 300\n",
      "Starting to extract posture\n"
     ]
    },
    {
     "name": "stderr",
     "output_type": "stream",
     "text": [
      " 98%|█████████████████████████████████████████████████████████████████████████████▋ | 490/498 [00:02<00:00, 163.28it/s]"
     ]
    },
    {
     "name": "stdout",
     "output_type": "stream",
     "text": [
      "Detected frames:  498\n"
     ]
    },
    {
     "name": "stderr",
     "output_type": "stream",
     "text": [
      "500it [00:02, 170.88it/s]                                                                                              \n"
     ]
    },
    {
     "name": "stdout",
     "output_type": "stream",
     "text": [
      "Saving results in D:\\videos\\ar30\\2020_12_08...\n",
      "Saving csv poses!\n",
      "Starting to analyze %  D:\\videos\\ar30\\2020_12_08\\Mask84L.avi\n",
      "D:\\videos\\ar30\\2020_12_08  already exists!\n",
      "Loading  D:\\videos\\ar30\\2020_12_08\\Mask84L.avi\n",
      "Duration of video [s]:  12.28 , recorded with  40.0 fps!\n",
      "Overall # of frames:  491  found with (before cropping) frame dimensions:  250 300\n",
      "Starting to extract posture\n"
     ]
    },
    {
     "name": "stderr",
     "output_type": "stream",
     "text": [
      "500it [00:02, 153.03it/s]                                                                                              "
     ]
    },
    {
     "name": "stdout",
     "output_type": "stream",
     "text": [
      "Detected frames:  491\n"
     ]
    },
    {
     "name": "stderr",
     "output_type": "stream",
     "text": [
      "500it [00:02, 174.89it/s]\n"
     ]
    },
    {
     "name": "stdout",
     "output_type": "stream",
     "text": [
      "Saving results in D:\\videos\\ar30\\2020_12_08...\n",
      "Saving csv poses!\n",
      "Starting to analyze %  D:\\videos\\ar30\\2020_12_08\\Mask85L.avi\n",
      "D:\\videos\\ar30\\2020_12_08  already exists!\n",
      "Loading  D:\\videos\\ar30\\2020_12_08\\Mask85L.avi\n",
      "Duration of video [s]:  12.45 , recorded with  40.0 fps!\n",
      "Overall # of frames:  498  found with (before cropping) frame dimensions:  250 300\n",
      "Starting to extract posture\n"
     ]
    },
    {
     "name": "stderr",
     "output_type": "stream",
     "text": [
      " 98%|█████████████████████████████████████████████████████████████████████████████▋ | 490/498 [00:02<00:00, 172.62it/s]"
     ]
    },
    {
     "name": "stdout",
     "output_type": "stream",
     "text": [
      "Detected frames:  498\n"
     ]
    },
    {
     "name": "stderr",
     "output_type": "stream",
     "text": [
      "500it [00:02, 178.79it/s]                                                                                              \n"
     ]
    },
    {
     "name": "stdout",
     "output_type": "stream",
     "text": [
      "Saving results in D:\\videos\\ar30\\2020_12_08...\n",
      "Saving csv poses!\n",
      "Starting to analyze %  D:\\videos\\ar30\\2020_12_08\\Mask86L.avi\n",
      "D:\\videos\\ar30\\2020_12_08  already exists!\n",
      "Loading  D:\\videos\\ar30\\2020_12_08\\Mask86L.avi\n",
      "Duration of video [s]:  12.45 , recorded with  40.0 fps!\n",
      "Overall # of frames:  498  found with (before cropping) frame dimensions:  250 300\n",
      "Starting to extract posture\n"
     ]
    },
    {
     "name": "stderr",
     "output_type": "stream",
     "text": [
      "500it [00:07, 148.84it/s]                                                                                              "
     ]
    },
    {
     "name": "stdout",
     "output_type": "stream",
     "text": [
      "Detected frames:  498\n"
     ]
    },
    {
     "name": "stderr",
     "output_type": "stream",
     "text": [
      "500it [00:07, 65.70it/s] \n"
     ]
    },
    {
     "name": "stdout",
     "output_type": "stream",
     "text": [
      "Saving results in D:\\videos\\ar30\\2020_12_08...\n",
      "Saving csv poses!\n",
      "Starting to analyze %  D:\\videos\\ar30\\2020_12_08\\Mask87L.avi\n",
      "D:\\videos\\ar30\\2020_12_08  already exists!\n",
      "Loading  D:\\videos\\ar30\\2020_12_08\\Mask87L.avi\n",
      "Duration of video [s]:  12.45 , recorded with  40.0 fps!\n",
      "Overall # of frames:  498  found with (before cropping) frame dimensions:  250 300\n",
      "Starting to extract posture\n"
     ]
    },
    {
     "name": "stderr",
     "output_type": "stream",
     "text": [
      " 96%|████████████████████████████████████████████████████████████████████████████▏  | 480/498 [00:02<00:00, 200.03it/s]"
     ]
    },
    {
     "name": "stdout",
     "output_type": "stream",
     "text": [
      "Detected frames:  498\n"
     ]
    },
    {
     "name": "stderr",
     "output_type": "stream",
     "text": [
      "500it [00:02, 187.13it/s]                                                                                              \n"
     ]
    },
    {
     "name": "stdout",
     "output_type": "stream",
     "text": [
      "Saving results in D:\\videos\\ar30\\2020_12_08...\n",
      "Saving csv poses!\n",
      "Starting to analyze %  D:\\videos\\ar30\\2020_12_08\\Mask88L.avi\n",
      "D:\\videos\\ar30\\2020_12_08  already exists!\n",
      "Loading  D:\\videos\\ar30\\2020_12_08\\Mask88L.avi\n",
      "Duration of video [s]:  12.45 , recorded with  40.0 fps!\n",
      "Overall # of frames:  498  found with (before cropping) frame dimensions:  250 300\n",
      "Starting to extract posture\n"
     ]
    },
    {
     "name": "stderr",
     "output_type": "stream",
     "text": [
      " 98%|██████████████████████████████████████████████████████████████████████████████▋ | 490/498 [00:03<00:00, 97.76it/s]"
     ]
    },
    {
     "name": "stdout",
     "output_type": "stream",
     "text": [
      "Detected frames:  498\n"
     ]
    },
    {
     "name": "stderr",
     "output_type": "stream",
     "text": [
      "500it [00:03, 139.92it/s]                                                                                              \n"
     ]
    },
    {
     "name": "stdout",
     "output_type": "stream",
     "text": [
      "Saving results in D:\\videos\\ar30\\2020_12_08...\n",
      "Saving csv poses!\n",
      "Starting to analyze %  D:\\videos\\ar30\\2020_12_08\\Mask89L.avi\n",
      "D:\\videos\\ar30\\2020_12_08  already exists!\n",
      "Loading  D:\\videos\\ar30\\2020_12_08\\Mask89L.avi\n",
      "Duration of video [s]:  8.53 , recorded with  40.0 fps!\n",
      "Overall # of frames:  341  found with (before cropping) frame dimensions:  250 300\n",
      "Starting to extract posture\n"
     ]
    },
    {
     "name": "stderr",
     "output_type": "stream",
     "text": [
      " 97%|████████████████████████████████████████████████████████████████████████████▍  | 330/341 [00:01<00:00, 168.20it/s]"
     ]
    },
    {
     "name": "stdout",
     "output_type": "stream",
     "text": [
      "Detected frames:  341\n"
     ]
    },
    {
     "name": "stderr",
     "output_type": "stream",
     "text": [
      "350it [00:01, 178.68it/s]                                                                                              \n"
     ]
    },
    {
     "name": "stdout",
     "output_type": "stream",
     "text": [
      "Saving results in D:\\videos\\ar30\\2020_12_08...\n",
      "Saving csv poses!\n",
      "Starting to analyze %  D:\\videos\\ar30\\2020_12_08\\Mask8L.avi\n",
      "D:\\videos\\ar30\\2020_12_08  already exists!\n",
      "Loading  D:\\videos\\ar30\\2020_12_08\\Mask8L.avi\n",
      "Duration of video [s]:  12.45 , recorded with  40.0 fps!\n",
      "Overall # of frames:  498  found with (before cropping) frame dimensions:  250 300\n",
      "Starting to extract posture\n"
     ]
    },
    {
     "name": "stderr",
     "output_type": "stream",
     "text": [
      " 98%|█████████████████████████████████████████████████████████████████████████████▋ | 490/498 [00:02<00:00, 180.29it/s]"
     ]
    },
    {
     "name": "stdout",
     "output_type": "stream",
     "text": [
      "Detected frames:  498\n"
     ]
    },
    {
     "name": "stderr",
     "output_type": "stream",
     "text": [
      "500it [00:02, 185.54it/s]                                                                                              \n"
     ]
    },
    {
     "name": "stdout",
     "output_type": "stream",
     "text": [
      "Saving results in D:\\videos\\ar30\\2020_12_08...\n",
      "Saving csv poses!\n",
      "Starting to analyze %  D:\\videos\\ar30\\2020_12_08\\Mask90L.avi\n",
      "D:\\videos\\ar30\\2020_12_08  already exists!\n",
      "Loading  D:\\videos\\ar30\\2020_12_08\\Mask90L.avi\n",
      "Duration of video [s]:  12.45 , recorded with  40.0 fps!\n",
      "Overall # of frames:  498  found with (before cropping) frame dimensions:  250 300\n",
      "Starting to extract posture\n"
     ]
    },
    {
     "name": "stderr",
     "output_type": "stream",
     "text": [
      " 98%|█████████████████████████████████████████████████████████████████████████████▋ | 490/498 [00:02<00:00, 181.07it/s]"
     ]
    },
    {
     "name": "stdout",
     "output_type": "stream",
     "text": [
      "Detected frames:  498\n"
     ]
    },
    {
     "name": "stderr",
     "output_type": "stream",
     "text": [
      "500it [00:02, 180.30it/s]                                                                                              \n"
     ]
    },
    {
     "name": "stdout",
     "output_type": "stream",
     "text": [
      "Saving results in D:\\videos\\ar30\\2020_12_08...\n",
      "Saving csv poses!\n",
      "Starting to analyze %  D:\\videos\\ar30\\2020_12_08\\Mask91L.avi\n",
      "D:\\videos\\ar30\\2020_12_08  already exists!\n",
      "Loading  D:\\videos\\ar30\\2020_12_08\\Mask91L.avi\n",
      "Duration of video [s]:  12.45 , recorded with  40.0 fps!\n",
      "Overall # of frames:  498  found with (before cropping) frame dimensions:  250 300\n",
      "Starting to extract posture\n"
     ]
    },
    {
     "name": "stderr",
     "output_type": "stream",
     "text": [
      " 96%|████████████████████████████████████████████████████████████████████████████▏  | 480/498 [00:02<00:00, 197.18it/s]"
     ]
    },
    {
     "name": "stdout",
     "output_type": "stream",
     "text": [
      "Detected frames:  498\n"
     ]
    },
    {
     "name": "stderr",
     "output_type": "stream",
     "text": [
      "500it [00:02, 170.82it/s]                                                                                              \n"
     ]
    },
    {
     "name": "stdout",
     "output_type": "stream",
     "text": [
      "Saving results in D:\\videos\\ar30\\2020_12_08...\n",
      "Saving csv poses!\n",
      "Starting to analyze %  D:\\videos\\ar30\\2020_12_08\\Mask92L.avi\n",
      "D:\\videos\\ar30\\2020_12_08  already exists!\n",
      "Loading  D:\\videos\\ar30\\2020_12_08\\Mask92L.avi\n",
      "Duration of video [s]:  12.45 , recorded with  40.0 fps!\n",
      "Overall # of frames:  498  found with (before cropping) frame dimensions:  250 300\n",
      "Starting to extract posture\n"
     ]
    },
    {
     "name": "stderr",
     "output_type": "stream",
     "text": [
      " 98%|█████████████████████████████████████████████████████████████████████████████▋ | 490/498 [00:02<00:00, 180.86it/s]"
     ]
    },
    {
     "name": "stdout",
     "output_type": "stream",
     "text": [
      "Detected frames:  498\n"
     ]
    },
    {
     "name": "stderr",
     "output_type": "stream",
     "text": [
      "500it [00:02, 186.37it/s]                                                                                              \n"
     ]
    },
    {
     "name": "stdout",
     "output_type": "stream",
     "text": [
      "Saving results in D:\\videos\\ar30\\2020_12_08...\n",
      "Saving csv poses!\n",
      "Starting to analyze %  D:\\videos\\ar30\\2020_12_08\\Mask93L.avi\n",
      "D:\\videos\\ar30\\2020_12_08  already exists!\n",
      "Loading  D:\\videos\\ar30\\2020_12_08\\Mask93L.avi\n",
      "Duration of video [s]:  12.45 , recorded with  40.0 fps!\n",
      "Overall # of frames:  498  found with (before cropping) frame dimensions:  250 300\n",
      "Starting to extract posture\n"
     ]
    },
    {
     "name": "stderr",
     "output_type": "stream",
     "text": [
      " 98%|█████████████████████████████████████████████████████████████████████████████▋ | 490/498 [00:02<00:00, 181.31it/s]"
     ]
    },
    {
     "name": "stdout",
     "output_type": "stream",
     "text": [
      "Detected frames:  498\n"
     ]
    },
    {
     "name": "stderr",
     "output_type": "stream",
     "text": [
      "500it [00:02, 186.29it/s]                                                                                              \n"
     ]
    },
    {
     "name": "stdout",
     "output_type": "stream",
     "text": [
      "Saving results in D:\\videos\\ar30\\2020_12_08...\n",
      "Saving csv poses!\n",
      "Starting to analyze %  D:\\videos\\ar30\\2020_12_08\\Mask94L.avi\n",
      "D:\\videos\\ar30\\2020_12_08  already exists!\n",
      "Loading  D:\\videos\\ar30\\2020_12_08\\Mask94L.avi\n",
      "Duration of video [s]:  12.45 , recorded with  40.0 fps!\n",
      "Overall # of frames:  498  found with (before cropping) frame dimensions:  250 300\n",
      "Starting to extract posture\n"
     ]
    },
    {
     "name": "stderr",
     "output_type": "stream",
     "text": [
      " 98%|█████████████████████████████████████████████████████████████████████████████▋ | 490/498 [00:02<00:00, 180.92it/s]"
     ]
    },
    {
     "name": "stdout",
     "output_type": "stream",
     "text": [
      "Detected frames:  498\n"
     ]
    },
    {
     "name": "stderr",
     "output_type": "stream",
     "text": [
      "500it [00:02, 188.19it/s]                                                                                              \n"
     ]
    },
    {
     "name": "stdout",
     "output_type": "stream",
     "text": [
      "Saving results in D:\\videos\\ar30\\2020_12_08...\n",
      "Saving csv poses!\n",
      "Starting to analyze %  D:\\videos\\ar30\\2020_12_08\\Mask95L.avi\n",
      "D:\\videos\\ar30\\2020_12_08  already exists!\n",
      "Loading  D:\\videos\\ar30\\2020_12_08\\Mask95L.avi\n",
      "Duration of video [s]:  11.97 , recorded with  40.0 fps!\n",
      "Overall # of frames:  479  found with (before cropping) frame dimensions:  250 300\n",
      "Starting to extract posture\n"
     ]
    },
    {
     "name": "stderr",
     "output_type": "stream",
     "text": [
      " 96%|███████████████████████████████████████████████████████████████████████████▊   | 460/479 [00:02<00:00, 181.46it/s]"
     ]
    },
    {
     "name": "stdout",
     "output_type": "stream",
     "text": [
      "Detected frames:  479\n"
     ]
    },
    {
     "name": "stderr",
     "output_type": "stream",
     "text": [
      "480it [00:02, 185.07it/s]                                                                                              \n"
     ]
    },
    {
     "name": "stdout",
     "output_type": "stream",
     "text": [
      "Saving results in D:\\videos\\ar30\\2020_12_08...\n",
      "Saving csv poses!\n",
      "Starting to analyze %  D:\\videos\\ar30\\2020_12_08\\Mask96L.avi\n",
      "D:\\videos\\ar30\\2020_12_08  already exists!\n",
      "Loading  D:\\videos\\ar30\\2020_12_08\\Mask96L.avi\n",
      "Duration of video [s]:  12.45 , recorded with  40.0 fps!\n",
      "Overall # of frames:  498  found with (before cropping) frame dimensions:  250 300\n",
      "Starting to extract posture\n"
     ]
    },
    {
     "name": "stderr",
     "output_type": "stream",
     "text": [
      " 98%|█████████████████████████████████████████████████████████████████████████████▋ | 490/498 [00:02<00:00, 181.52it/s]"
     ]
    },
    {
     "name": "stdout",
     "output_type": "stream",
     "text": [
      "Detected frames:  498\n"
     ]
    },
    {
     "name": "stderr",
     "output_type": "stream",
     "text": [
      "500it [00:02, 186.27it/s]                                                                                              \n"
     ]
    },
    {
     "name": "stdout",
     "output_type": "stream",
     "text": [
      "Saving results in D:\\videos\\ar30\\2020_12_08...\n",
      "Saving csv poses!\n",
      "Starting to analyze %  D:\\videos\\ar30\\2020_12_08\\Mask97L.avi\n",
      "D:\\videos\\ar30\\2020_12_08  already exists!\n",
      "Loading  D:\\videos\\ar30\\2020_12_08\\Mask97L.avi\n",
      "Duration of video [s]:  12.45 , recorded with  40.0 fps!\n",
      "Overall # of frames:  498  found with (before cropping) frame dimensions:  250 300\n",
      "Starting to extract posture\n"
     ]
    },
    {
     "name": "stderr",
     "output_type": "stream",
     "text": [
      " 98%|█████████████████████████████████████████████████████████████████████████████▋ | 490/498 [00:02<00:00, 181.66it/s]"
     ]
    },
    {
     "name": "stdout",
     "output_type": "stream",
     "text": [
      "Detected frames:  498\n"
     ]
    },
    {
     "name": "stderr",
     "output_type": "stream",
     "text": [
      "500it [00:02, 187.20it/s]                                                                                              \n"
     ]
    },
    {
     "name": "stdout",
     "output_type": "stream",
     "text": [
      "Saving results in D:\\videos\\ar30\\2020_12_08...\n",
      "Saving csv poses!\n",
      "Starting to analyze %  D:\\videos\\ar30\\2020_12_08\\Mask98L.avi\n",
      "D:\\videos\\ar30\\2020_12_08  already exists!\n",
      "Loading  D:\\videos\\ar30\\2020_12_08\\Mask98L.avi\n",
      "Duration of video [s]:  12.1 , recorded with  40.0 fps!\n",
      "Overall # of frames:  484  found with (before cropping) frame dimensions:  250 300\n",
      "Starting to extract posture\n"
     ]
    },
    {
     "name": "stderr",
     "output_type": "stream",
     "text": [
      "490it [00:02, 183.10it/s]                                                                                              "
     ]
    },
    {
     "name": "stdout",
     "output_type": "stream",
     "text": [
      "Detected frames:  484\n"
     ]
    },
    {
     "name": "stderr",
     "output_type": "stream",
     "text": [
      "490it [00:02, 191.02it/s]\n"
     ]
    },
    {
     "name": "stdout",
     "output_type": "stream",
     "text": [
      "Saving results in D:\\videos\\ar30\\2020_12_08...\n",
      "Saving csv poses!\n",
      "Starting to analyze %  D:\\videos\\ar30\\2020_12_08\\Mask99L.avi\n",
      "D:\\videos\\ar30\\2020_12_08  already exists!\n",
      "Loading  D:\\videos\\ar30\\2020_12_08\\Mask99L.avi\n",
      "Duration of video [s]:  11.62 , recorded with  40.0 fps!\n",
      "Overall # of frames:  465  found with (before cropping) frame dimensions:  250 300\n",
      "Starting to extract posture\n"
     ]
    },
    {
     "name": "stderr",
     "output_type": "stream",
     "text": [
      "470it [00:02, 191.35it/s]                                                                                              "
     ]
    },
    {
     "name": "stdout",
     "output_type": "stream",
     "text": [
      "Detected frames:  465\n"
     ]
    },
    {
     "name": "stderr",
     "output_type": "stream",
     "text": [
      "470it [00:02, 188.81it/s]\n"
     ]
    },
    {
     "name": "stdout",
     "output_type": "stream",
     "text": [
      "Saving results in D:\\videos\\ar30\\2020_12_08...\n",
      "Saving csv poses!\n",
      "Starting to analyze %  D:\\videos\\ar30\\2020_12_08\\Mask9L.avi\n",
      "D:\\videos\\ar30\\2020_12_08  already exists!\n",
      "Loading  D:\\videos\\ar30\\2020_12_08\\Mask9L.avi\n",
      "Duration of video [s]:  12.45 , recorded with  40.0 fps!\n",
      "Overall # of frames:  498  found with (before cropping) frame dimensions:  250 300\n",
      "Starting to extract posture\n"
     ]
    },
    {
     "name": "stderr",
     "output_type": "stream",
     "text": [
      " 98%|█████████████████████████████████████████████████████████████████████████████▋ | 490/498 [00:02<00:00, 181.22it/s]"
     ]
    },
    {
     "name": "stdout",
     "output_type": "stream",
     "text": [
      "Detected frames:  498\n"
     ]
    },
    {
     "name": "stderr",
     "output_type": "stream",
     "text": [
      "500it [00:02, 188.43it/s]                                                                                              \n"
     ]
    },
    {
     "name": "stdout",
     "output_type": "stream",
     "text": [
      "Saving results in D:\\videos\\ar30\\2020_12_08...\n",
      "Saving csv poses!\n",
      "The videos are analyzed. Now your research can truly start! \n",
      " You can create labeled videos with 'create_labeled_video'\n",
      "If the tracking is not satisfactory for some videos, consider expanding the training set. You can use the function 'extract_outlier_frames' to extract a few representative outlier frames.\n",
      "DLC_resnet50_ar30_11_05_20whiskersNov8shuffle1_185000\n",
      "Filtering with median model D:\\videos\\ar30\\2020_12_08\\Mask100L.avi\n",
      "Data from Mask100L were already filtered. Skipping...\n",
      "Filtering with median model D:\\videos\\ar30\\2020_12_08\\Mask101L.avi\n",
      "Data from Mask101L were already filtered. Skipping...\n",
      "Filtering with median model D:\\videos\\ar30\\2020_12_08\\Mask102L.avi\n",
      "Data from Mask102L were already filtered. Skipping...\n",
      "Filtering with median model D:\\videos\\ar30\\2020_12_08\\Mask103L.avi\n",
      "Data from Mask103L were already filtered. Skipping...\n",
      "Filtering with median model D:\\videos\\ar30\\2020_12_08\\Mask104L.avi\n",
      "Data from Mask104L were already filtered. Skipping...\n",
      "Filtering with median model D:\\videos\\ar30\\2020_12_08\\Mask105L.avi\n",
      "Data from Mask105L were already filtered. Skipping...\n",
      "Filtering with median model D:\\videos\\ar30\\2020_12_08\\Mask106L.avi\n",
      "Data from Mask106L were already filtered. Skipping...\n",
      "Filtering with median model D:\\videos\\ar30\\2020_12_08\\Mask107L.avi\n",
      "Data from Mask107L were already filtered. Skipping...\n",
      "Filtering with median model D:\\videos\\ar30\\2020_12_08\\Mask108L.avi\n",
      "Data from Mask108L were already filtered. Skipping...\n",
      "Filtering with median model D:\\videos\\ar30\\2020_12_08\\Mask109L.avi\n",
      "Data from Mask109L were already filtered. Skipping...\n",
      "Filtering with median model D:\\videos\\ar30\\2020_12_08\\Mask10L.avi\n",
      "Data from Mask10L were already filtered. Skipping...\n",
      "Filtering with median model D:\\videos\\ar30\\2020_12_08\\Mask110L.avi\n",
      "Data from Mask110L were already filtered. Skipping...\n",
      "Filtering with median model D:\\videos\\ar30\\2020_12_08\\Mask111L.avi\n",
      "Data from Mask111L were already filtered. Skipping...\n",
      "Filtering with median model D:\\videos\\ar30\\2020_12_08\\Mask112L.avi\n",
      "Data from Mask112L were already filtered. Skipping...\n",
      "Filtering with median model D:\\videos\\ar30\\2020_12_08\\Mask113L.avi\n",
      "Data from Mask113L were already filtered. Skipping...\n",
      "Filtering with median model D:\\videos\\ar30\\2020_12_08\\Mask114L.avi\n",
      "Data from Mask114L were already filtered. Skipping...\n",
      "Filtering with median model D:\\videos\\ar30\\2020_12_08\\Mask115L.avi\n",
      "Data from Mask115L were already filtered. Skipping...\n",
      "Filtering with median model D:\\videos\\ar30\\2020_12_08\\Mask116L.avi\n",
      "Data from Mask116L were already filtered. Skipping...\n",
      "Filtering with median model D:\\videos\\ar30\\2020_12_08\\Mask117L.avi\n",
      "Data from Mask117L were already filtered. Skipping...\n",
      "Filtering with median model D:\\videos\\ar30\\2020_12_08\\Mask118L.avi\n",
      "Data from Mask118L were already filtered. Skipping...\n",
      "Filtering with median model D:\\videos\\ar30\\2020_12_08\\Mask119L.avi\n",
      "Data from Mask119L were already filtered. Skipping...\n",
      "Filtering with median model D:\\videos\\ar30\\2020_12_08\\Mask11L.avi\n",
      "Data from Mask11L were already filtered. Skipping...\n",
      "Filtering with median model D:\\videos\\ar30\\2020_12_08\\Mask120L.avi\n",
      "Data from Mask120L were already filtered. Skipping...\n",
      "Filtering with median model D:\\videos\\ar30\\2020_12_08\\Mask121L.avi\n",
      "Data from Mask121L were already filtered. Skipping...\n",
      "Filtering with median model D:\\videos\\ar30\\2020_12_08\\Mask122L.avi\n",
      "Data from Mask122L were already filtered. Skipping...\n",
      "Filtering with median model D:\\videos\\ar30\\2020_12_08\\Mask123L.avi\n",
      "Data from Mask123L were already filtered. Skipping...\n",
      "Filtering with median model D:\\videos\\ar30\\2020_12_08\\Mask124L.avi\n",
      "Data from Mask124L were already filtered. Skipping...\n",
      "Filtering with median model D:\\videos\\ar30\\2020_12_08\\Mask125L.avi\n",
      "Data from Mask125L were already filtered. Skipping...\n",
      "Filtering with median model D:\\videos\\ar30\\2020_12_08\\Mask126L.avi\n",
      "Data from Mask126L were already filtered. Skipping...\n",
      "Filtering with median model D:\\videos\\ar30\\2020_12_08\\Mask127L.avi\n",
      "Data from Mask127L were already filtered. Skipping...\n",
      "Filtering with median model D:\\videos\\ar30\\2020_12_08\\Mask128L.avi\n",
      "Data from Mask128L were already filtered. Skipping...\n",
      "Filtering with median model D:\\videos\\ar30\\2020_12_08\\Mask129L.avi\n",
      "Data from Mask129L were already filtered. Skipping...\n",
      "Filtering with median model D:\\videos\\ar30\\2020_12_08\\Mask12L.avi\n",
      "Data from Mask12L were already filtered. Skipping...\n",
      "Filtering with median model D:\\videos\\ar30\\2020_12_08\\Mask130L.avi\n",
      "Data from Mask130L were already filtered. Skipping...\n",
      "Filtering with median model D:\\videos\\ar30\\2020_12_08\\Mask131L.avi\n",
      "Data from Mask131L were already filtered. Skipping...\n",
      "Filtering with median model D:\\videos\\ar30\\2020_12_08\\Mask132L.avi\n",
      "Data from Mask132L were already filtered. Skipping...\n",
      "Filtering with median model D:\\videos\\ar30\\2020_12_08\\Mask133L.avi\n",
      "Data from Mask133L were already filtered. Skipping...\n",
      "Filtering with median model D:\\videos\\ar30\\2020_12_08\\Mask134L.avi\n",
      "Data from Mask134L were already filtered. Skipping...\n",
      "Filtering with median model D:\\videos\\ar30\\2020_12_08\\Mask135L.avi\n",
      "Data from Mask135L were already filtered. Skipping...\n",
      "Filtering with median model D:\\videos\\ar30\\2020_12_08\\Mask136L.avi\n",
      "Data from Mask136L were already filtered. Skipping...\n",
      "Filtering with median model D:\\videos\\ar30\\2020_12_08\\Mask137L.avi\n",
      "Data from Mask137L were already filtered. Skipping...\n",
      "Filtering with median model D:\\videos\\ar30\\2020_12_08\\Mask138L.avi\n",
      "Data from Mask138L were already filtered. Skipping...\n",
      "Filtering with median model D:\\videos\\ar30\\2020_12_08\\Mask139L.avi\n",
      "Data from Mask139L were already filtered. Skipping...\n",
      "Filtering with median model D:\\videos\\ar30\\2020_12_08\\Mask13L.avi\n",
      "Data from Mask13L were already filtered. Skipping...\n",
      "Filtering with median model D:\\videos\\ar30\\2020_12_08\\Mask140L.avi\n",
      "Data from Mask140L were already filtered. Skipping...\n",
      "Filtering with median model D:\\videos\\ar30\\2020_12_08\\Mask141L.avi\n",
      "Data from Mask141L were already filtered. Skipping...\n",
      "Filtering with median model D:\\videos\\ar30\\2020_12_08\\Mask142L.avi\n",
      "Data from Mask142L were already filtered. Skipping...\n",
      "Filtering with median model D:\\videos\\ar30\\2020_12_08\\Mask143L.avi\n",
      "Data from Mask143L were already filtered. Skipping...\n",
      "Filtering with median model D:\\videos\\ar30\\2020_12_08\\Mask144L.avi\n",
      "Data from Mask144L were already filtered. Skipping...\n",
      "Filtering with median model D:\\videos\\ar30\\2020_12_08\\Mask145L.avi\n",
      "Data from Mask145L were already filtered. Skipping...\n",
      "Filtering with median model D:\\videos\\ar30\\2020_12_08\\Mask146L.avi\n",
      "Data from Mask146L were already filtered. Skipping...\n",
      "Filtering with median model D:\\videos\\ar30\\2020_12_08\\Mask148L.avi\n",
      "Data from Mask148L were already filtered. Skipping...\n",
      "Filtering with median model D:\\videos\\ar30\\2020_12_08\\Mask149L.avi\n",
      "Data from Mask149L were already filtered. Skipping...\n",
      "Filtering with median model D:\\videos\\ar30\\2020_12_08\\Mask14L.avi\n",
      "Data from Mask14L were already filtered. Skipping...\n",
      "Filtering with median model D:\\videos\\ar30\\2020_12_08\\Mask150L.avi\n",
      "Data from Mask150L were already filtered. Skipping...\n",
      "Filtering with median model D:\\videos\\ar30\\2020_12_08\\Mask151L.avi\n",
      "Data from Mask151L were already filtered. Skipping...\n",
      "Filtering with median model D:\\videos\\ar30\\2020_12_08\\Mask152L.avi\n",
      "Data from Mask152L were already filtered. Skipping...\n",
      "Filtering with median model D:\\videos\\ar30\\2020_12_08\\Mask153L.avi\n",
      "Data from Mask153L were already filtered. Skipping...\n",
      "Filtering with median model D:\\videos\\ar30\\2020_12_08\\Mask154L.avi\n",
      "Data from Mask154L were already filtered. Skipping...\n",
      "Filtering with median model D:\\videos\\ar30\\2020_12_08\\Mask155L.avi\n",
      "Data from Mask155L were already filtered. Skipping...\n",
      "Filtering with median model D:\\videos\\ar30\\2020_12_08\\Mask156L.avi\n",
      "Data from Mask156L were already filtered. Skipping...\n",
      "Filtering with median model D:\\videos\\ar30\\2020_12_08\\Mask157L.avi\n",
      "Data from Mask157L were already filtered. Skipping...\n",
      "Filtering with median model D:\\videos\\ar30\\2020_12_08\\Mask158L.avi\n",
      "Data from Mask158L were already filtered. Skipping...\n",
      "Filtering with median model D:\\videos\\ar30\\2020_12_08\\Mask159L.avi\n",
      "Data from Mask159L were already filtered. Skipping...\n",
      "Filtering with median model D:\\videos\\ar30\\2020_12_08\\Mask15L.avi\n",
      "Data from Mask15L were already filtered. Skipping...\n",
      "Filtering with median model D:\\videos\\ar30\\2020_12_08\\Mask160L.avi\n",
      "Data from Mask160L were already filtered. Skipping...\n",
      "Filtering with median model D:\\videos\\ar30\\2020_12_08\\Mask161L.avi\n",
      "Data from Mask161L were already filtered. Skipping...\n",
      "Filtering with median model D:\\videos\\ar30\\2020_12_08\\Mask162L.avi\n",
      "Data from Mask162L were already filtered. Skipping...\n",
      "Filtering with median model D:\\videos\\ar30\\2020_12_08\\Mask163L.avi\n",
      "Data from Mask163L were already filtered. Skipping...\n",
      "Filtering with median model D:\\videos\\ar30\\2020_12_08\\Mask164L.avi\n",
      "Data from Mask164L were already filtered. Skipping...\n",
      "Filtering with median model D:\\videos\\ar30\\2020_12_08\\Mask165L.avi\n",
      "Data from Mask165L were already filtered. Skipping...\n",
      "Filtering with median model D:\\videos\\ar30\\2020_12_08\\Mask166L.avi\n",
      "Data from Mask166L were already filtered. Skipping...\n",
      "Filtering with median model D:\\videos\\ar30\\2020_12_08\\Mask167L.avi\n",
      "Data from Mask167L were already filtered. Skipping...\n",
      "Filtering with median model D:\\videos\\ar30\\2020_12_08\\Mask168L.avi\n",
      "Data from Mask168L were already filtered. Skipping...\n",
      "Filtering with median model D:\\videos\\ar30\\2020_12_08\\Mask169L.avi\n",
      "Data from Mask169L were already filtered. Skipping...\n",
      "Filtering with median model D:\\videos\\ar30\\2020_12_08\\Mask16L.avi\n",
      "Data from Mask16L were already filtered. Skipping...\n",
      "Filtering with median model D:\\videos\\ar30\\2020_12_08\\Mask170L.avi\n",
      "Data from Mask170L were already filtered. Skipping...\n",
      "Filtering with median model D:\\videos\\ar30\\2020_12_08\\Mask171L.avi\n",
      "Data from Mask171L were already filtered. Skipping...\n",
      "Filtering with median model D:\\videos\\ar30\\2020_12_08\\Mask172L.avi\n",
      "Data from Mask172L were already filtered. Skipping...\n",
      "Filtering with median model D:\\videos\\ar30\\2020_12_08\\Mask173L.avi\n",
      "Data from Mask173L were already filtered. Skipping...\n",
      "Filtering with median model D:\\videos\\ar30\\2020_12_08\\Mask174L.avi\n",
      "Data from Mask174L were already filtered. Skipping...\n",
      "Filtering with median model D:\\videos\\ar30\\2020_12_08\\Mask175L.avi\n",
      "Data from Mask175L were already filtered. Skipping...\n",
      "Filtering with median model D:\\videos\\ar30\\2020_12_08\\Mask176L.avi\n",
      "Data from Mask176L were already filtered. Skipping...\n",
      "Filtering with median model D:\\videos\\ar30\\2020_12_08\\Mask177L.avi\n",
      "Data from Mask177L were already filtered. Skipping...\n",
      "Filtering with median model D:\\videos\\ar30\\2020_12_08\\Mask178L.avi\n",
      "Data from Mask178L were already filtered. Skipping...\n",
      "Filtering with median model D:\\videos\\ar30\\2020_12_08\\Mask179L.avi\n",
      "Data from Mask179L were already filtered. Skipping...\n",
      "Filtering with median model D:\\videos\\ar30\\2020_12_08\\Mask17L.avi\n",
      "Data from Mask17L were already filtered. Skipping...\n",
      "Filtering with median model D:\\videos\\ar30\\2020_12_08\\Mask180L.avi\n",
      "Data from Mask180L were already filtered. Skipping...\n",
      "Filtering with median model D:\\videos\\ar30\\2020_12_08\\Mask181L.avi\n",
      "Data from Mask181L were already filtered. Skipping...\n",
      "Filtering with median model D:\\videos\\ar30\\2020_12_08\\Mask182L.avi\n",
      "Data from Mask182L were already filtered. Skipping...\n",
      "Filtering with median model D:\\videos\\ar30\\2020_12_08\\Mask183L.avi\n",
      "Data from Mask183L were already filtered. Skipping...\n",
      "Filtering with median model D:\\videos\\ar30\\2020_12_08\\Mask184L.avi\n",
      "Data from Mask184L were already filtered. Skipping...\n",
      "Filtering with median model D:\\videos\\ar30\\2020_12_08\\Mask185L.avi\n",
      "Data from Mask185L were already filtered. Skipping...\n",
      "Filtering with median model D:\\videos\\ar30\\2020_12_08\\Mask186L.avi\n",
      "Data from Mask186L were already filtered. Skipping...\n",
      "Filtering with median model D:\\videos\\ar30\\2020_12_08\\Mask187L.avi\n",
      "Data from Mask187L were already filtered. Skipping...\n",
      "Filtering with median model D:\\videos\\ar30\\2020_12_08\\Mask188L.avi\n",
      "Data from Mask188L were already filtered. Skipping...\n",
      "Filtering with median model D:\\videos\\ar30\\2020_12_08\\Mask189L.avi\n",
      "Data from Mask189L were already filtered. Skipping...\n",
      "Filtering with median model D:\\videos\\ar30\\2020_12_08\\Mask18L.avi\n",
      "Data from Mask18L were already filtered. Skipping...\n",
      "Filtering with median model D:\\videos\\ar30\\2020_12_08\\Mask190L.avi\n",
      "Data from Mask190L were already filtered. Skipping...\n",
      "Filtering with median model D:\\videos\\ar30\\2020_12_08\\Mask191L.avi\n",
      "Data from Mask191L were already filtered. Skipping...\n",
      "Filtering with median model D:\\videos\\ar30\\2020_12_08\\Mask192L.avi\n",
      "Data from Mask192L were already filtered. Skipping...\n",
      "Filtering with median model D:\\videos\\ar30\\2020_12_08\\Mask193L.avi\n",
      "Data from Mask193L were already filtered. Skipping...\n",
      "Filtering with median model D:\\videos\\ar30\\2020_12_08\\Mask194L.avi\n",
      "Data from Mask194L were already filtered. Skipping...\n",
      "Filtering with median model D:\\videos\\ar30\\2020_12_08\\Mask195L.avi\n",
      "Data from Mask195L were already filtered. Skipping...\n",
      "Filtering with median model D:\\videos\\ar30\\2020_12_08\\Mask196L.avi\n",
      "Data from Mask196L were already filtered. Skipping...\n",
      "Filtering with median model D:\\videos\\ar30\\2020_12_08\\Mask19L.avi\n",
      "Data from Mask19L were already filtered. Skipping...\n",
      "Filtering with median model D:\\videos\\ar30\\2020_12_08\\Mask1L.avi\n",
      "Data from Mask1L were already filtered. Skipping...\n",
      "Filtering with median model D:\\videos\\ar30\\2020_12_08\\Mask205L.avi\n",
      "Data from Mask205L were already filtered. Skipping...\n",
      "Filtering with median model D:\\videos\\ar30\\2020_12_08\\Mask206L.avi\n",
      "Data from Mask206L were already filtered. Skipping...\n",
      "Filtering with median model D:\\videos\\ar30\\2020_12_08\\Mask207L.avi\n",
      "Data from Mask207L were already filtered. Skipping...\n",
      "Filtering with median model D:\\videos\\ar30\\2020_12_08\\Mask208L.avi\n",
      "Data from Mask208L were already filtered. Skipping...\n",
      "Filtering with median model D:\\videos\\ar30\\2020_12_08\\Mask209L.avi\n",
      "Data from Mask209L were already filtered. Skipping...\n",
      "Filtering with median model D:\\videos\\ar30\\2020_12_08\\Mask20L.avi\n",
      "Data from Mask20L were already filtered. Skipping...\n",
      "Filtering with median model D:\\videos\\ar30\\2020_12_08\\Mask210L.avi\n",
      "Data from Mask210L were already filtered. Skipping...\n",
      "Filtering with median model D:\\videos\\ar30\\2020_12_08\\Mask211L.avi\n",
      "Data from Mask211L were already filtered. Skipping...\n",
      "Filtering with median model D:\\videos\\ar30\\2020_12_08\\Mask212L.avi\n",
      "Data from Mask212L were already filtered. Skipping...\n",
      "Filtering with median model D:\\videos\\ar30\\2020_12_08\\Mask213L.avi\n",
      "Data from Mask213L were already filtered. Skipping...\n",
      "Filtering with median model D:\\videos\\ar30\\2020_12_08\\Mask214L.avi\n",
      "Data from Mask214L were already filtered. Skipping...\n",
      "Filtering with median model D:\\videos\\ar30\\2020_12_08\\Mask215L.avi\n",
      "Data from Mask215L were already filtered. Skipping...\n",
      "Filtering with median model D:\\videos\\ar30\\2020_12_08\\Mask219L.avi\n",
      "Data from Mask219L were already filtered. Skipping...\n",
      "Filtering with median model D:\\videos\\ar30\\2020_12_08\\Mask21L.avi\n",
      "Data from Mask21L were already filtered. Skipping...\n",
      "Filtering with median model D:\\videos\\ar30\\2020_12_08\\Mask220L.avi\n",
      "Data from Mask220L were already filtered. Skipping...\n",
      "Filtering with median model D:\\videos\\ar30\\2020_12_08\\Mask221L.avi\n",
      "Data from Mask221L were already filtered. Skipping...\n",
      "Filtering with median model D:\\videos\\ar30\\2020_12_08\\Mask222L.avi\n",
      "Data from Mask222L were already filtered. Skipping...\n",
      "Filtering with median model D:\\videos\\ar30\\2020_12_08\\Mask223L.avi\n",
      "Data from Mask223L were already filtered. Skipping...\n",
      "Filtering with median model D:\\videos\\ar30\\2020_12_08\\Mask224L.avi\n",
      "Data from Mask224L were already filtered. Skipping...\n",
      "Filtering with median model D:\\videos\\ar30\\2020_12_08\\Mask225L.avi\n",
      "Data from Mask225L were already filtered. Skipping...\n",
      "Filtering with median model D:\\videos\\ar30\\2020_12_08\\Mask226L.avi\n",
      "Data from Mask226L were already filtered. Skipping...\n",
      "Filtering with median model D:\\videos\\ar30\\2020_12_08\\Mask227L.avi\n",
      "Data from Mask227L were already filtered. Skipping...\n",
      "Filtering with median model D:\\videos\\ar30\\2020_12_08\\Mask228L.avi\n",
      "Data from Mask228L were already filtered. Skipping...\n",
      "Filtering with median model D:\\videos\\ar30\\2020_12_08\\Mask229L.avi\n",
      "Data from Mask229L were already filtered. Skipping...\n",
      "Filtering with median model D:\\videos\\ar30\\2020_12_08\\Mask22L.avi\n"
     ]
    },
    {
     "name": "stdout",
     "output_type": "stream",
     "text": [
      "Data from Mask22L were already filtered. Skipping...\n",
      "Filtering with median model D:\\videos\\ar30\\2020_12_08\\Mask230L.avi\n",
      "Data from Mask230L were already filtered. Skipping...\n",
      "Filtering with median model D:\\videos\\ar30\\2020_12_08\\Mask231L.avi\n",
      "Data from Mask231L were already filtered. Skipping...\n",
      "Filtering with median model D:\\videos\\ar30\\2020_12_08\\Mask232L.avi\n",
      "Data from Mask232L were already filtered. Skipping...\n",
      "Filtering with median model D:\\videos\\ar30\\2020_12_08\\Mask233L.avi\n",
      "Data from Mask233L were already filtered. Skipping...\n",
      "Filtering with median model D:\\videos\\ar30\\2020_12_08\\Mask234L.avi\n",
      "Data from Mask234L were already filtered. Skipping...\n",
      "Filtering with median model D:\\videos\\ar30\\2020_12_08\\Mask235L.avi\n",
      "Data from Mask235L were already filtered. Skipping...\n",
      "Filtering with median model D:\\videos\\ar30\\2020_12_08\\Mask236L.avi\n",
      "Data from Mask236L were already filtered. Skipping...\n",
      "Filtering with median model D:\\videos\\ar30\\2020_12_08\\Mask237L.avi\n",
      "Data from Mask237L were already filtered. Skipping...\n",
      "Filtering with median model D:\\videos\\ar30\\2020_12_08\\Mask238L.avi\n",
      "Data from Mask238L were already filtered. Skipping...\n",
      "Filtering with median model D:\\videos\\ar30\\2020_12_08\\Mask239L.avi\n",
      "Data from Mask239L were already filtered. Skipping...\n",
      "Filtering with median model D:\\videos\\ar30\\2020_12_08\\Mask23L.avi\n",
      "Data from Mask23L were already filtered. Skipping...\n",
      "Filtering with median model D:\\videos\\ar30\\2020_12_08\\Mask240L.avi\n",
      "Data from Mask240L were already filtered. Skipping...\n",
      "Filtering with median model D:\\videos\\ar30\\2020_12_08\\Mask241L.avi\n",
      "Data from Mask241L were already filtered. Skipping...\n",
      "Filtering with median model D:\\videos\\ar30\\2020_12_08\\Mask242L.avi\n",
      "Data from Mask242L were already filtered. Skipping...\n",
      "Filtering with median model D:\\videos\\ar30\\2020_12_08\\Mask243L.avi\n",
      "Data from Mask243L were already filtered. Skipping...\n",
      "Filtering with median model D:\\videos\\ar30\\2020_12_08\\Mask244L.avi\n",
      "Data from Mask244L were already filtered. Skipping...\n",
      "Filtering with median model D:\\videos\\ar30\\2020_12_08\\Mask245L.avi\n",
      "Data from Mask245L were already filtered. Skipping...\n",
      "Filtering with median model D:\\videos\\ar30\\2020_12_08\\Mask246L.avi\n",
      "Data from Mask246L were already filtered. Skipping...\n",
      "Filtering with median model D:\\videos\\ar30\\2020_12_08\\Mask247L.avi\n",
      "Data from Mask247L were already filtered. Skipping...\n",
      "Filtering with median model D:\\videos\\ar30\\2020_12_08\\Mask248L.avi\n",
      "Data from Mask248L were already filtered. Skipping...\n",
      "Filtering with median model D:\\videos\\ar30\\2020_12_08\\Mask249L.avi\n",
      "Data from Mask249L were already filtered. Skipping...\n",
      "Filtering with median model D:\\videos\\ar30\\2020_12_08\\Mask250L.avi\n",
      "Data from Mask250L were already filtered. Skipping...\n",
      "Filtering with median model D:\\videos\\ar30\\2020_12_08\\Mask251L.avi\n",
      "Data from Mask251L were already filtered. Skipping...\n",
      "Filtering with median model D:\\videos\\ar30\\2020_12_08\\Mask252L.avi\n",
      "Data from Mask252L were already filtered. Skipping...\n",
      "Filtering with median model D:\\videos\\ar30\\2020_12_08\\Mask253L.avi\n",
      "Data from Mask253L were already filtered. Skipping...\n",
      "Filtering with median model D:\\videos\\ar30\\2020_12_08\\Mask254L.avi\n",
      "Data from Mask254L were already filtered. Skipping...\n",
      "Filtering with median model D:\\videos\\ar30\\2020_12_08\\Mask25L.avi\n",
      "Data from Mask25L were already filtered. Skipping...\n",
      "Filtering with median model D:\\videos\\ar30\\2020_12_08\\Mask26L.avi\n",
      "Data from Mask26L were already filtered. Skipping...\n",
      "Filtering with median model D:\\videos\\ar30\\2020_12_08\\Mask27L.avi\n",
      "Data from Mask27L were already filtered. Skipping...\n",
      "Filtering with median model D:\\videos\\ar30\\2020_12_08\\Mask28L.avi\n",
      "Data from Mask28L were already filtered. Skipping...\n",
      "Filtering with median model D:\\videos\\ar30\\2020_12_08\\Mask29L.avi\n",
      "Data from Mask29L were already filtered. Skipping...\n",
      "Filtering with median model D:\\videos\\ar30\\2020_12_08\\Mask2L.avi\n",
      "Data from Mask2L were already filtered. Skipping...\n",
      "Filtering with median model D:\\videos\\ar30\\2020_12_08\\Mask30L.avi\n",
      "Data from Mask30L were already filtered. Skipping...\n",
      "Filtering with median model D:\\videos\\ar30\\2020_12_08\\Mask31L.avi\n",
      "Data from Mask31L were already filtered. Skipping...\n",
      "Filtering with median model D:\\videos\\ar30\\2020_12_08\\Mask32L.avi\n",
      "Data from Mask32L were already filtered. Skipping...\n",
      "Filtering with median model D:\\videos\\ar30\\2020_12_08\\Mask33L.avi\n",
      "Data from Mask33L were already filtered. Skipping...\n",
      "Filtering with median model D:\\videos\\ar30\\2020_12_08\\Mask34L.avi\n",
      "Data from Mask34L were already filtered. Skipping...\n",
      "Filtering with median model D:\\videos\\ar30\\2020_12_08\\Mask35L.avi\n",
      "Data from Mask35L were already filtered. Skipping...\n",
      "Filtering with median model D:\\videos\\ar30\\2020_12_08\\Mask36L.avi\n",
      "Data from Mask36L were already filtered. Skipping...\n",
      "Filtering with median model D:\\videos\\ar30\\2020_12_08\\Mask37L.avi\n",
      "Data from Mask37L were already filtered. Skipping...\n",
      "Filtering with median model D:\\videos\\ar30\\2020_12_08\\Mask38L.avi\n",
      "Data from Mask38L were already filtered. Skipping...\n",
      "Filtering with median model D:\\videos\\ar30\\2020_12_08\\Mask39L.avi\n",
      "Data from Mask39L were already filtered. Skipping...\n",
      "Filtering with median model D:\\videos\\ar30\\2020_12_08\\Mask3L.avi\n",
      "Data from Mask3L were already filtered. Skipping...\n",
      "Filtering with median model D:\\videos\\ar30\\2020_12_08\\Mask40L.avi\n",
      "Data from Mask40L were already filtered. Skipping...\n",
      "Filtering with median model D:\\videos\\ar30\\2020_12_08\\Mask41L.avi\n",
      "Data from Mask41L were already filtered. Skipping...\n",
      "Filtering with median model D:\\videos\\ar30\\2020_12_08\\Mask42L.avi\n",
      "Data from Mask42L were already filtered. Skipping...\n",
      "Filtering with median model D:\\videos\\ar30\\2020_12_08\\Mask43L.avi\n",
      "Data from Mask43L were already filtered. Skipping...\n",
      "Filtering with median model D:\\videos\\ar30\\2020_12_08\\Mask44L.avi\n",
      "Data from Mask44L were already filtered. Skipping...\n",
      "Filtering with median model D:\\videos\\ar30\\2020_12_08\\Mask45L.avi\n",
      "Data from Mask45L were already filtered. Skipping...\n",
      "Filtering with median model D:\\videos\\ar30\\2020_12_08\\Mask46L.avi\n",
      "Data from Mask46L were already filtered. Skipping...\n",
      "Filtering with median model D:\\videos\\ar30\\2020_12_08\\Mask47L.avi\n",
      "Data from Mask47L were already filtered. Skipping...\n",
      "Filtering with median model D:\\videos\\ar30\\2020_12_08\\Mask48L.avi\n",
      "Data from Mask48L were already filtered. Skipping...\n",
      "Filtering with median model D:\\videos\\ar30\\2020_12_08\\Mask49L.avi\n",
      "Data from Mask49L were already filtered. Skipping...\n",
      "Filtering with median model D:\\videos\\ar30\\2020_12_08\\Mask4L.avi\n",
      "Data from Mask4L were already filtered. Skipping...\n",
      "Filtering with median model D:\\videos\\ar30\\2020_12_08\\Mask50L.avi\n",
      "Data from Mask50L were already filtered. Skipping...\n",
      "Filtering with median model D:\\videos\\ar30\\2020_12_08\\Mask51L.avi\n",
      "Data from Mask51L were already filtered. Skipping...\n",
      "Filtering with median model D:\\videos\\ar30\\2020_12_08\\Mask52L.avi\n",
      "Data from Mask52L were already filtered. Skipping...\n",
      "Filtering with median model D:\\videos\\ar30\\2020_12_08\\Mask53L.avi\n",
      "Data from Mask53L were already filtered. Skipping...\n",
      "Filtering with median model D:\\videos\\ar30\\2020_12_08\\Mask54L.avi\n",
      "Data from Mask54L were already filtered. Skipping...\n",
      "Filtering with median model D:\\videos\\ar30\\2020_12_08\\Mask55L.avi\n",
      "Data from Mask55L were already filtered. Skipping...\n",
      "Filtering with median model D:\\videos\\ar30\\2020_12_08\\Mask56L.avi\n",
      "Data from Mask56L were already filtered. Skipping...\n",
      "Filtering with median model D:\\videos\\ar30\\2020_12_08\\Mask57L.avi\n",
      "Data from Mask57L were already filtered. Skipping...\n",
      "Filtering with median model D:\\videos\\ar30\\2020_12_08\\Mask58L.avi\n",
      "Data from Mask58L were already filtered. Skipping...\n",
      "Filtering with median model D:\\videos\\ar30\\2020_12_08\\Mask59L.avi\n",
      "Data from Mask59L were already filtered. Skipping...\n",
      "Filtering with median model D:\\videos\\ar30\\2020_12_08\\Mask5L.avi\n",
      "Data from Mask5L were already filtered. Skipping...\n",
      "Filtering with median model D:\\videos\\ar30\\2020_12_08\\Mask60L.avi\n",
      "Data from Mask60L were already filtered. Skipping...\n",
      "Filtering with median model D:\\videos\\ar30\\2020_12_08\\Mask61L.avi\n",
      "Data from Mask61L were already filtered. Skipping...\n",
      "Filtering with median model D:\\videos\\ar30\\2020_12_08\\Mask62L.avi\n",
      "Data from Mask62L were already filtered. Skipping...\n",
      "Filtering with median model D:\\videos\\ar30\\2020_12_08\\Mask63L.avi\n",
      "Data from Mask63L were already filtered. Skipping...\n",
      "Filtering with median model D:\\videos\\ar30\\2020_12_08\\Mask64L.avi\n",
      "Saving filtered csv poses!\n",
      "Filtering with median model D:\\videos\\ar30\\2020_12_08\\Mask65L.avi\n",
      "Saving filtered csv poses!\n",
      "Filtering with median model D:\\videos\\ar30\\2020_12_08\\Mask66L.avi\n",
      "Saving filtered csv poses!\n",
      "Filtering with median model D:\\videos\\ar30\\2020_12_08\\Mask67L.avi\n",
      "Saving filtered csv poses!\n",
      "Filtering with median model D:\\videos\\ar30\\2020_12_08\\Mask68L.avi\n",
      "Saving filtered csv poses!\n",
      "Filtering with median model D:\\videos\\ar30\\2020_12_08\\Mask69L.avi\n",
      "Saving filtered csv poses!\n",
      "Filtering with median model D:\\videos\\ar30\\2020_12_08\\Mask6L.avi\n",
      "Saving filtered csv poses!\n",
      "Filtering with median model D:\\videos\\ar30\\2020_12_08\\Mask70L.avi\n",
      "Saving filtered csv poses!\n",
      "Filtering with median model D:\\videos\\ar30\\2020_12_08\\Mask71L.avi\n",
      "Saving filtered csv poses!\n",
      "Filtering with median model D:\\videos\\ar30\\2020_12_08\\Mask72L.avi\n",
      "Saving filtered csv poses!\n",
      "Filtering with median model D:\\videos\\ar30\\2020_12_08\\Mask73L.avi\n",
      "Saving filtered csv poses!\n",
      "Filtering with median model D:\\videos\\ar30\\2020_12_08\\Mask74L.avi\n",
      "Saving filtered csv poses!\n",
      "Filtering with median model D:\\videos\\ar30\\2020_12_08\\Mask75L.avi\n",
      "Saving filtered csv poses!\n",
      "Filtering with median model D:\\videos\\ar30\\2020_12_08\\Mask76L.avi\n",
      "Saving filtered csv poses!\n",
      "Filtering with median model D:\\videos\\ar30\\2020_12_08\\Mask77L.avi\n",
      "Saving filtered csv poses!\n",
      "Filtering with median model D:\\videos\\ar30\\2020_12_08\\Mask78L.avi\n",
      "Saving filtered csv poses!\n",
      "Filtering with median model D:\\videos\\ar30\\2020_12_08\\Mask79L.avi\n",
      "Saving filtered csv poses!\n",
      "Filtering with median model D:\\videos\\ar30\\2020_12_08\\Mask7L.avi\n",
      "Saving filtered csv poses!\n",
      "Filtering with median model D:\\videos\\ar30\\2020_12_08\\Mask80L.avi\n",
      "Saving filtered csv poses!\n",
      "Filtering with median model D:\\videos\\ar30\\2020_12_08\\Mask81L.avi\n",
      "Saving filtered csv poses!\n",
      "Filtering with median model D:\\videos\\ar30\\2020_12_08\\Mask82L.avi\n",
      "Saving filtered csv poses!\n",
      "Filtering with median model D:\\videos\\ar30\\2020_12_08\\Mask84L.avi\n",
      "Saving filtered csv poses!\n",
      "Filtering with median model D:\\videos\\ar30\\2020_12_08\\Mask85L.avi\n",
      "Saving filtered csv poses!\n",
      "Filtering with median model D:\\videos\\ar30\\2020_12_08\\Mask86L.avi\n",
      "Saving filtered csv poses!\n",
      "Filtering with median model D:\\videos\\ar30\\2020_12_08\\Mask87L.avi\n",
      "Saving filtered csv poses!\n",
      "Filtering with median model D:\\videos\\ar30\\2020_12_08\\Mask88L.avi\n",
      "Saving filtered csv poses!\n",
      "Filtering with median model D:\\videos\\ar30\\2020_12_08\\Mask89L.avi\n",
      "Saving filtered csv poses!\n",
      "Filtering with median model D:\\videos\\ar30\\2020_12_08\\Mask8L.avi\n",
      "Saving filtered csv poses!\n",
      "Filtering with median model D:\\videos\\ar30\\2020_12_08\\Mask90L.avi\n",
      "Saving filtered csv poses!\n",
      "Filtering with median model D:\\videos\\ar30\\2020_12_08\\Mask91L.avi\n",
      "Saving filtered csv poses!\n",
      "Filtering with median model D:\\videos\\ar30\\2020_12_08\\Mask92L.avi\n",
      "Saving filtered csv poses!\n",
      "Filtering with median model D:\\videos\\ar30\\2020_12_08\\Mask93L.avi\n",
      "Saving filtered csv poses!\n",
      "Filtering with median model D:\\videos\\ar30\\2020_12_08\\Mask94L.avi\n",
      "Saving filtered csv poses!\n",
      "Filtering with median model D:\\videos\\ar30\\2020_12_08\\Mask95L.avi\n",
      "Saving filtered csv poses!\n",
      "Filtering with median model D:\\videos\\ar30\\2020_12_08\\Mask96L.avi\n",
      "Saving filtered csv poses!\n",
      "Filtering with median model D:\\videos\\ar30\\2020_12_08\\Mask97L.avi\n",
      "Saving filtered csv poses!\n",
      "Filtering with median model D:\\videos\\ar30\\2020_12_08\\Mask98L.avi\n",
      "Saving filtered csv poses!\n",
      "Filtering with median model D:\\videos\\ar30\\2020_12_08\\Mask99L.avi\n",
      "Saving filtered csv poses!\n",
      "Filtering with median model D:\\videos\\ar30\\2020_12_08\\Mask9L.avi\n",
      "Saving filtered csv poses!\n"
     ]
    }
   ],
   "source": [
    "Mainfolder = 'D:\\\\videos\\\\ar19\\\\2020_09_16'\n",
    "Mainfolder = 'D:\\\\videos\\\\ar32\\\\2020_10_12'\n",
    "Mainfolder = 'D:\\\\videos\\\\ar19\\\\2020_10_12'\n",
    "Mainfolder = 'D:\\\\videos\\\\ar30\\\\2020_12_08'\n",
    "\n",
    "#path_config_file = 'D:\\\\videos\\\\ar32\\\\2020_10_09\\\\ar32_10_09_20LRwhiskers_4-Arash-2020-10-12\\\\config.yaml';\n",
    "\n",
    "from pathlib import Path\n",
    "import os\n",
    "\n",
    "\n",
    "Xfiles = [os.path.join(Mainfolder,f) for f in os.listdir(Mainfolder) if f.endswith('L.avi') and not f.startswith('Mask') and not f.startswith('Mirror') ] # find all files with R.avi as file name\n",
    "Xfiles2 = [Path(f) for f in Xfiles] # make each file name path to extract the parents and anme\n",
    "Xfiles4 = [os.path.join(f.parents[0],'Mask'+f.name) for f in Xfiles2] # creat a same as files but with Mirror added to the file names\n",
    "Mainfolders =  [os.path.join(f.parents[0],f.stem[:-1]) for f in Xfiles2]\n",
    "Xfiles = [os.path.join(Mainfolder,f) for f in os.listdir(Mainfolder) if f.endswith('R.avi') and not f.startswith('Mask') and not f.startswith('Mirror') ] # find all files with R.avi as file name\n",
    "Xfiles2 = [Path(f) for f in Xfiles] # make each file name path to extract the parents and anme\n",
    "Xfiles3 = [os.path.join(f.parents[0],'Mirror'+f.name) for f in Xfiles2] # creat a same as files but with Mirror added to the file names\n",
    "Mainfolders =  [os.path.join(f.parents[0],f.stem[:-1]) for f in Xfiles2]\n",
    "print(Xfiles4)\n",
    "\n",
    "text_files = Xfiles3;\n",
    "scorername=deeplabcut.analyze_videos(path_config_file,text_files,shuffle=1, save_as_csv=True)\n",
    "print(scorername)\n",
    "deeplabcut.filterpredictions(path_config_file,text_files,shuffle=1)\n",
    "text_files = Xfiles4;\n",
    "scorername=deeplabcut.analyze_videos(path_config_file,text_files,shuffle=1, save_as_csv=True)\n",
    "print(scorername)\n",
    "deeplabcut.filterpredictions(path_config_file,text_files,shuffle=1)"
   ]
  },
  {
   "cell_type": "markdown",
   "metadata": {},
   "source": [
    "# filter the results using median model\n"
   ]
  },
  {
   "cell_type": "code",
   "execution_count": 17,
   "metadata": {
    "scrolled": true
   },
   "outputs": [
    {
     "name": "stdout",
     "output_type": "stream",
     "text": [
      "['D:\\\\videos\\\\ar30\\\\2020_12_08\\\\Mask100L.avi', 'D:\\\\videos\\\\ar30\\\\2020_12_08\\\\Mask101L.avi', 'D:\\\\videos\\\\ar30\\\\2020_12_08\\\\Mask102L.avi', 'D:\\\\videos\\\\ar30\\\\2020_12_08\\\\Mask103L.avi', 'D:\\\\videos\\\\ar30\\\\2020_12_08\\\\Mask104L.avi', 'D:\\\\videos\\\\ar30\\\\2020_12_08\\\\Mask105L.avi', 'D:\\\\videos\\\\ar30\\\\2020_12_08\\\\Mask106L.avi', 'D:\\\\videos\\\\ar30\\\\2020_12_08\\\\Mask107L.avi', 'D:\\\\videos\\\\ar30\\\\2020_12_08\\\\Mask108L.avi', 'D:\\\\videos\\\\ar30\\\\2020_12_08\\\\Mask109L.avi', 'D:\\\\videos\\\\ar30\\\\2020_12_08\\\\Mask10L.avi', 'D:\\\\videos\\\\ar30\\\\2020_12_08\\\\Mask110L.avi', 'D:\\\\videos\\\\ar30\\\\2020_12_08\\\\Mask111L.avi', 'D:\\\\videos\\\\ar30\\\\2020_12_08\\\\Mask112L.avi', 'D:\\\\videos\\\\ar30\\\\2020_12_08\\\\Mask113L.avi', 'D:\\\\videos\\\\ar30\\\\2020_12_08\\\\Mask114L.avi', 'D:\\\\videos\\\\ar30\\\\2020_12_08\\\\Mask115L.avi', 'D:\\\\videos\\\\ar30\\\\2020_12_08\\\\Mask116L.avi', 'D:\\\\videos\\\\ar30\\\\2020_12_08\\\\Mask117L.avi', 'D:\\\\videos\\\\ar30\\\\2020_12_08\\\\Mask118L.avi', 'D:\\\\videos\\\\ar30\\\\2020_12_08\\\\Mask119L.avi', 'D:\\\\videos\\\\ar30\\\\2020_12_08\\\\Mask11L.avi', 'D:\\\\videos\\\\ar30\\\\2020_12_08\\\\Mask120L.avi', 'D:\\\\videos\\\\ar30\\\\2020_12_08\\\\Mask121L.avi', 'D:\\\\videos\\\\ar30\\\\2020_12_08\\\\Mask122L.avi', 'D:\\\\videos\\\\ar30\\\\2020_12_08\\\\Mask123L.avi', 'D:\\\\videos\\\\ar30\\\\2020_12_08\\\\Mask124L.avi', 'D:\\\\videos\\\\ar30\\\\2020_12_08\\\\Mask125L.avi', 'D:\\\\videos\\\\ar30\\\\2020_12_08\\\\Mask126L.avi', 'D:\\\\videos\\\\ar30\\\\2020_12_08\\\\Mask127L.avi', 'D:\\\\videos\\\\ar30\\\\2020_12_08\\\\Mask128L.avi', 'D:\\\\videos\\\\ar30\\\\2020_12_08\\\\Mask129L.avi', 'D:\\\\videos\\\\ar30\\\\2020_12_08\\\\Mask12L.avi', 'D:\\\\videos\\\\ar30\\\\2020_12_08\\\\Mask130L.avi', 'D:\\\\videos\\\\ar30\\\\2020_12_08\\\\Mask131L.avi', 'D:\\\\videos\\\\ar30\\\\2020_12_08\\\\Mask132L.avi', 'D:\\\\videos\\\\ar30\\\\2020_12_08\\\\Mask133L.avi', 'D:\\\\videos\\\\ar30\\\\2020_12_08\\\\Mask134L.avi', 'D:\\\\videos\\\\ar30\\\\2020_12_08\\\\Mask135L.avi', 'D:\\\\videos\\\\ar30\\\\2020_12_08\\\\Mask136L.avi', 'D:\\\\videos\\\\ar30\\\\2020_12_08\\\\Mask137L.avi', 'D:\\\\videos\\\\ar30\\\\2020_12_08\\\\Mask138L.avi', 'D:\\\\videos\\\\ar30\\\\2020_12_08\\\\Mask139L.avi', 'D:\\\\videos\\\\ar30\\\\2020_12_08\\\\Mask13L.avi', 'D:\\\\videos\\\\ar30\\\\2020_12_08\\\\Mask140L.avi', 'D:\\\\videos\\\\ar30\\\\2020_12_08\\\\Mask141L.avi', 'D:\\\\videos\\\\ar30\\\\2020_12_08\\\\Mask142L.avi', 'D:\\\\videos\\\\ar30\\\\2020_12_08\\\\Mask143L.avi', 'D:\\\\videos\\\\ar30\\\\2020_12_08\\\\Mask144L.avi', 'D:\\\\videos\\\\ar30\\\\2020_12_08\\\\Mask145L.avi', 'D:\\\\videos\\\\ar30\\\\2020_12_08\\\\Mask146L.avi', 'D:\\\\videos\\\\ar30\\\\2020_12_08\\\\Mask148L.avi', 'D:\\\\videos\\\\ar30\\\\2020_12_08\\\\Mask149L.avi', 'D:\\\\videos\\\\ar30\\\\2020_12_08\\\\Mask14L.avi', 'D:\\\\videos\\\\ar30\\\\2020_12_08\\\\Mask150L.avi', 'D:\\\\videos\\\\ar30\\\\2020_12_08\\\\Mask151L.avi', 'D:\\\\videos\\\\ar30\\\\2020_12_08\\\\Mask152L.avi', 'D:\\\\videos\\\\ar30\\\\2020_12_08\\\\Mask153L.avi', 'D:\\\\videos\\\\ar30\\\\2020_12_08\\\\Mask154L.avi', 'D:\\\\videos\\\\ar30\\\\2020_12_08\\\\Mask155L.avi', 'D:\\\\videos\\\\ar30\\\\2020_12_08\\\\Mask156L.avi', 'D:\\\\videos\\\\ar30\\\\2020_12_08\\\\Mask157L.avi', 'D:\\\\videos\\\\ar30\\\\2020_12_08\\\\Mask158L.avi', 'D:\\\\videos\\\\ar30\\\\2020_12_08\\\\Mask159L.avi', 'D:\\\\videos\\\\ar30\\\\2020_12_08\\\\Mask15L.avi', 'D:\\\\videos\\\\ar30\\\\2020_12_08\\\\Mask160L.avi', 'D:\\\\videos\\\\ar30\\\\2020_12_08\\\\Mask161L.avi', 'D:\\\\videos\\\\ar30\\\\2020_12_08\\\\Mask162L.avi', 'D:\\\\videos\\\\ar30\\\\2020_12_08\\\\Mask163L.avi', 'D:\\\\videos\\\\ar30\\\\2020_12_08\\\\Mask164L.avi', 'D:\\\\videos\\\\ar30\\\\2020_12_08\\\\Mask165L.avi', 'D:\\\\videos\\\\ar30\\\\2020_12_08\\\\Mask166L.avi', 'D:\\\\videos\\\\ar30\\\\2020_12_08\\\\Mask167L.avi', 'D:\\\\videos\\\\ar30\\\\2020_12_08\\\\Mask168L.avi', 'D:\\\\videos\\\\ar30\\\\2020_12_08\\\\Mask169L.avi', 'D:\\\\videos\\\\ar30\\\\2020_12_08\\\\Mask16L.avi', 'D:\\\\videos\\\\ar30\\\\2020_12_08\\\\Mask170L.avi', 'D:\\\\videos\\\\ar30\\\\2020_12_08\\\\Mask171L.avi', 'D:\\\\videos\\\\ar30\\\\2020_12_08\\\\Mask172L.avi', 'D:\\\\videos\\\\ar30\\\\2020_12_08\\\\Mask173L.avi', 'D:\\\\videos\\\\ar30\\\\2020_12_08\\\\Mask174L.avi', 'D:\\\\videos\\\\ar30\\\\2020_12_08\\\\Mask175L.avi', 'D:\\\\videos\\\\ar30\\\\2020_12_08\\\\Mask176L.avi', 'D:\\\\videos\\\\ar30\\\\2020_12_08\\\\Mask177L.avi', 'D:\\\\videos\\\\ar30\\\\2020_12_08\\\\Mask178L.avi', 'D:\\\\videos\\\\ar30\\\\2020_12_08\\\\Mask179L.avi', 'D:\\\\videos\\\\ar30\\\\2020_12_08\\\\Mask17L.avi', 'D:\\\\videos\\\\ar30\\\\2020_12_08\\\\Mask180L.avi', 'D:\\\\videos\\\\ar30\\\\2020_12_08\\\\Mask181L.avi', 'D:\\\\videos\\\\ar30\\\\2020_12_08\\\\Mask182L.avi', 'D:\\\\videos\\\\ar30\\\\2020_12_08\\\\Mask183L.avi', 'D:\\\\videos\\\\ar30\\\\2020_12_08\\\\Mask184L.avi', 'D:\\\\videos\\\\ar30\\\\2020_12_08\\\\Mask185L.avi', 'D:\\\\videos\\\\ar30\\\\2020_12_08\\\\Mask186L.avi', 'D:\\\\videos\\\\ar30\\\\2020_12_08\\\\Mask187L.avi', 'D:\\\\videos\\\\ar30\\\\2020_12_08\\\\Mask188L.avi', 'D:\\\\videos\\\\ar30\\\\2020_12_08\\\\Mask189L.avi', 'D:\\\\videos\\\\ar30\\\\2020_12_08\\\\Mask18L.avi', 'D:\\\\videos\\\\ar30\\\\2020_12_08\\\\Mask190L.avi', 'D:\\\\videos\\\\ar30\\\\2020_12_08\\\\Mask191L.avi', 'D:\\\\videos\\\\ar30\\\\2020_12_08\\\\Mask192L.avi', 'D:\\\\videos\\\\ar30\\\\2020_12_08\\\\Mask193L.avi', 'D:\\\\videos\\\\ar30\\\\2020_12_08\\\\Mask194L.avi', 'D:\\\\videos\\\\ar30\\\\2020_12_08\\\\Mask195L.avi', 'D:\\\\videos\\\\ar30\\\\2020_12_08\\\\Mask196L.avi', 'D:\\\\videos\\\\ar30\\\\2020_12_08\\\\Mask19L.avi', 'D:\\\\videos\\\\ar30\\\\2020_12_08\\\\Mask1L.avi', 'D:\\\\videos\\\\ar30\\\\2020_12_08\\\\Mask205L.avi', 'D:\\\\videos\\\\ar30\\\\2020_12_08\\\\Mask206L.avi', 'D:\\\\videos\\\\ar30\\\\2020_12_08\\\\Mask207L.avi', 'D:\\\\videos\\\\ar30\\\\2020_12_08\\\\Mask208L.avi', 'D:\\\\videos\\\\ar30\\\\2020_12_08\\\\Mask209L.avi', 'D:\\\\videos\\\\ar30\\\\2020_12_08\\\\Mask20L.avi', 'D:\\\\videos\\\\ar30\\\\2020_12_08\\\\Mask210L.avi', 'D:\\\\videos\\\\ar30\\\\2020_12_08\\\\Mask211L.avi', 'D:\\\\videos\\\\ar30\\\\2020_12_08\\\\Mask212L.avi', 'D:\\\\videos\\\\ar30\\\\2020_12_08\\\\Mask213L.avi', 'D:\\\\videos\\\\ar30\\\\2020_12_08\\\\Mask214L.avi', 'D:\\\\videos\\\\ar30\\\\2020_12_08\\\\Mask215L.avi', 'D:\\\\videos\\\\ar30\\\\2020_12_08\\\\Mask219L.avi', 'D:\\\\videos\\\\ar30\\\\2020_12_08\\\\Mask21L.avi', 'D:\\\\videos\\\\ar30\\\\2020_12_08\\\\Mask220L.avi', 'D:\\\\videos\\\\ar30\\\\2020_12_08\\\\Mask221L.avi', 'D:\\\\videos\\\\ar30\\\\2020_12_08\\\\Mask222L.avi', 'D:\\\\videos\\\\ar30\\\\2020_12_08\\\\Mask223L.avi', 'D:\\\\videos\\\\ar30\\\\2020_12_08\\\\Mask224L.avi', 'D:\\\\videos\\\\ar30\\\\2020_12_08\\\\Mask225L.avi', 'D:\\\\videos\\\\ar30\\\\2020_12_08\\\\Mask226L.avi', 'D:\\\\videos\\\\ar30\\\\2020_12_08\\\\Mask227L.avi', 'D:\\\\videos\\\\ar30\\\\2020_12_08\\\\Mask228L.avi', 'D:\\\\videos\\\\ar30\\\\2020_12_08\\\\Mask229L.avi', 'D:\\\\videos\\\\ar30\\\\2020_12_08\\\\Mask22L.avi', 'D:\\\\videos\\\\ar30\\\\2020_12_08\\\\Mask230L.avi', 'D:\\\\videos\\\\ar30\\\\2020_12_08\\\\Mask231L.avi', 'D:\\\\videos\\\\ar30\\\\2020_12_08\\\\Mask232L.avi', 'D:\\\\videos\\\\ar30\\\\2020_12_08\\\\Mask233L.avi', 'D:\\\\videos\\\\ar30\\\\2020_12_08\\\\Mask234L.avi', 'D:\\\\videos\\\\ar30\\\\2020_12_08\\\\Mask235L.avi', 'D:\\\\videos\\\\ar30\\\\2020_12_08\\\\Mask236L.avi', 'D:\\\\videos\\\\ar30\\\\2020_12_08\\\\Mask237L.avi', 'D:\\\\videos\\\\ar30\\\\2020_12_08\\\\Mask238L.avi', 'D:\\\\videos\\\\ar30\\\\2020_12_08\\\\Mask239L.avi', 'D:\\\\videos\\\\ar30\\\\2020_12_08\\\\Mask23L.avi', 'D:\\\\videos\\\\ar30\\\\2020_12_08\\\\Mask240L.avi', 'D:\\\\videos\\\\ar30\\\\2020_12_08\\\\Mask241L.avi', 'D:\\\\videos\\\\ar30\\\\2020_12_08\\\\Mask242L.avi', 'D:\\\\videos\\\\ar30\\\\2020_12_08\\\\Mask243L.avi', 'D:\\\\videos\\\\ar30\\\\2020_12_08\\\\Mask244L.avi', 'D:\\\\videos\\\\ar30\\\\2020_12_08\\\\Mask245L.avi', 'D:\\\\videos\\\\ar30\\\\2020_12_08\\\\Mask246L.avi', 'D:\\\\videos\\\\ar30\\\\2020_12_08\\\\Mask247L.avi', 'D:\\\\videos\\\\ar30\\\\2020_12_08\\\\Mask248L.avi', 'D:\\\\videos\\\\ar30\\\\2020_12_08\\\\Mask249L.avi', 'D:\\\\videos\\\\ar30\\\\2020_12_08\\\\Mask250L.avi', 'D:\\\\videos\\\\ar30\\\\2020_12_08\\\\Mask251L.avi', 'D:\\\\videos\\\\ar30\\\\2020_12_08\\\\Mask252L.avi', 'D:\\\\videos\\\\ar30\\\\2020_12_08\\\\Mask253L.avi', 'D:\\\\videos\\\\ar30\\\\2020_12_08\\\\Mask254L.avi', 'D:\\\\videos\\\\ar30\\\\2020_12_08\\\\Mask25L.avi', 'D:\\\\videos\\\\ar30\\\\2020_12_08\\\\Mask26L.avi', 'D:\\\\videos\\\\ar30\\\\2020_12_08\\\\Mask27L.avi', 'D:\\\\videos\\\\ar30\\\\2020_12_08\\\\Mask28L.avi', 'D:\\\\videos\\\\ar30\\\\2020_12_08\\\\Mask29L.avi', 'D:\\\\videos\\\\ar30\\\\2020_12_08\\\\Mask2L.avi', 'D:\\\\videos\\\\ar30\\\\2020_12_08\\\\Mask30L.avi', 'D:\\\\videos\\\\ar30\\\\2020_12_08\\\\Mask31L.avi', 'D:\\\\videos\\\\ar30\\\\2020_12_08\\\\Mask32L.avi', 'D:\\\\videos\\\\ar30\\\\2020_12_08\\\\Mask33L.avi', 'D:\\\\videos\\\\ar30\\\\2020_12_08\\\\Mask34L.avi', 'D:\\\\videos\\\\ar30\\\\2020_12_08\\\\Mask35L.avi', 'D:\\\\videos\\\\ar30\\\\2020_12_08\\\\Mask36L.avi', 'D:\\\\videos\\\\ar30\\\\2020_12_08\\\\Mask37L.avi', 'D:\\\\videos\\\\ar30\\\\2020_12_08\\\\Mask38L.avi', 'D:\\\\videos\\\\ar30\\\\2020_12_08\\\\Mask39L.avi', 'D:\\\\videos\\\\ar30\\\\2020_12_08\\\\Mask3L.avi', 'D:\\\\videos\\\\ar30\\\\2020_12_08\\\\Mask40L.avi', 'D:\\\\videos\\\\ar30\\\\2020_12_08\\\\Mask41L.avi', 'D:\\\\videos\\\\ar30\\\\2020_12_08\\\\Mask42L.avi', 'D:\\\\videos\\\\ar30\\\\2020_12_08\\\\Mask43L.avi', 'D:\\\\videos\\\\ar30\\\\2020_12_08\\\\Mask44L.avi', 'D:\\\\videos\\\\ar30\\\\2020_12_08\\\\Mask45L.avi', 'D:\\\\videos\\\\ar30\\\\2020_12_08\\\\Mask46L.avi', 'D:\\\\videos\\\\ar30\\\\2020_12_08\\\\Mask47L.avi', 'D:\\\\videos\\\\ar30\\\\2020_12_08\\\\Mask48L.avi', 'D:\\\\videos\\\\ar30\\\\2020_12_08\\\\Mask49L.avi', 'D:\\\\videos\\\\ar30\\\\2020_12_08\\\\Mask4L.avi', 'D:\\\\videos\\\\ar30\\\\2020_12_08\\\\Mask50L.avi', 'D:\\\\videos\\\\ar30\\\\2020_12_08\\\\Mask51L.avi', 'D:\\\\videos\\\\ar30\\\\2020_12_08\\\\Mask52L.avi', 'D:\\\\videos\\\\ar30\\\\2020_12_08\\\\Mask53L.avi', 'D:\\\\videos\\\\ar30\\\\2020_12_08\\\\Mask54L.avi', 'D:\\\\videos\\\\ar30\\\\2020_12_08\\\\Mask55L.avi', 'D:\\\\videos\\\\ar30\\\\2020_12_08\\\\Mask56L.avi', 'D:\\\\videos\\\\ar30\\\\2020_12_08\\\\Mask57L.avi', 'D:\\\\videos\\\\ar30\\\\2020_12_08\\\\Mask58L.avi', 'D:\\\\videos\\\\ar30\\\\2020_12_08\\\\Mask59L.avi', 'D:\\\\videos\\\\ar30\\\\2020_12_08\\\\Mask5L.avi', 'D:\\\\videos\\\\ar30\\\\2020_12_08\\\\Mask60L.avi', 'D:\\\\videos\\\\ar30\\\\2020_12_08\\\\Mask61L.avi', 'D:\\\\videos\\\\ar30\\\\2020_12_08\\\\Mask62L.avi', 'D:\\\\videos\\\\ar30\\\\2020_12_08\\\\Mask63L.avi', 'D:\\\\videos\\\\ar30\\\\2020_12_08\\\\Mask64L.avi', 'D:\\\\videos\\\\ar30\\\\2020_12_08\\\\Mask65L.avi', 'D:\\\\videos\\\\ar30\\\\2020_12_08\\\\Mask66L.avi', 'D:\\\\videos\\\\ar30\\\\2020_12_08\\\\Mask67L.avi', 'D:\\\\videos\\\\ar30\\\\2020_12_08\\\\Mask68L.avi', 'D:\\\\videos\\\\ar30\\\\2020_12_08\\\\Mask69L.avi', 'D:\\\\videos\\\\ar30\\\\2020_12_08\\\\Mask6L.avi', 'D:\\\\videos\\\\ar30\\\\2020_12_08\\\\Mask70L.avi', 'D:\\\\videos\\\\ar30\\\\2020_12_08\\\\Mask71L.avi', 'D:\\\\videos\\\\ar30\\\\2020_12_08\\\\Mask72L.avi', 'D:\\\\videos\\\\ar30\\\\2020_12_08\\\\Mask73L.avi', 'D:\\\\videos\\\\ar30\\\\2020_12_08\\\\Mask74L.avi', 'D:\\\\videos\\\\ar30\\\\2020_12_08\\\\Mask75L.avi', 'D:\\\\videos\\\\ar30\\\\2020_12_08\\\\Mask76L.avi', 'D:\\\\videos\\\\ar30\\\\2020_12_08\\\\Mask77L.avi', 'D:\\\\videos\\\\ar30\\\\2020_12_08\\\\Mask78L.avi', 'D:\\\\videos\\\\ar30\\\\2020_12_08\\\\Mask79L.avi', 'D:\\\\videos\\\\ar30\\\\2020_12_08\\\\Mask7L.avi', 'D:\\\\videos\\\\ar30\\\\2020_12_08\\\\Mask80L.avi', 'D:\\\\videos\\\\ar30\\\\2020_12_08\\\\Mask81L.avi', 'D:\\\\videos\\\\ar30\\\\2020_12_08\\\\Mask82L.avi', 'D:\\\\videos\\\\ar30\\\\2020_12_08\\\\Mask84L.avi', 'D:\\\\videos\\\\ar30\\\\2020_12_08\\\\Mask85L.avi', 'D:\\\\videos\\\\ar30\\\\2020_12_08\\\\Mask86L.avi', 'D:\\\\videos\\\\ar30\\\\2020_12_08\\\\Mask87L.avi', 'D:\\\\videos\\\\ar30\\\\2020_12_08\\\\Mask88L.avi', 'D:\\\\videos\\\\ar30\\\\2020_12_08\\\\Mask89L.avi', 'D:\\\\videos\\\\ar30\\\\2020_12_08\\\\Mask8L.avi', 'D:\\\\videos\\\\ar30\\\\2020_12_08\\\\Mask90L.avi', 'D:\\\\videos\\\\ar30\\\\2020_12_08\\\\Mask91L.avi', 'D:\\\\videos\\\\ar30\\\\2020_12_08\\\\Mask92L.avi', 'D:\\\\videos\\\\ar30\\\\2020_12_08\\\\Mask93L.avi', 'D:\\\\videos\\\\ar30\\\\2020_12_08\\\\Mask94L.avi', 'D:\\\\videos\\\\ar30\\\\2020_12_08\\\\Mask95L.avi', 'D:\\\\videos\\\\ar30\\\\2020_12_08\\\\Mask96L.avi', 'D:\\\\videos\\\\ar30\\\\2020_12_08\\\\Mask97L.avi', 'D:\\\\videos\\\\ar30\\\\2020_12_08\\\\Mask98L.avi', 'D:\\\\videos\\\\ar30\\\\2020_12_08\\\\Mask99L.avi', 'D:\\\\videos\\\\ar30\\\\2020_12_08\\\\Mask9L.avi']"
     ]
    },
    {
     "name": "stdout",
     "output_type": "stream",
     "text": [
      "\n"
     ]
    }
   ],
   "source": [
    "Mainfolder = 'D:\\\\videos\\\\ar19\\\\2020_09_16'\n",
    "Mainfolder = 'D:\\\\videos\\\\ar32\\\\2020_10_12'\n",
    "Mainfolder = 'D:\\\\videos\\\\ar19\\\\2020_10_12'\n",
    "Mainfolder = 'D:\\\\videos\\\\ar30\\\\2020_12_08'\n",
    "\n",
    "#path_config_file = 'D:\\\\videos\\\\ar32\\\\2020_10_09\\\\ar32_10_09_20LRwhiskers_4-Arash-2020-10-12\\\\config.yaml';\n",
    "\n",
    "from pathlib import Path\n",
    "import os\n",
    "\n",
    "\n",
    "Xfiles = [os.path.join(Mainfolder,f) for f in os.listdir(Mainfolder) if f.endswith('L.avi') and not f.startswith('Mask') and not f.startswith('Mirror') ] # find all files with R.avi as file name\n",
    "Xfiles2 = [Path(f) for f in Xfiles] # make each file name path to extract the parents and anme\n",
    "Xfiles4 = [os.path.join(f.parents[0],'Mask'+f.name) for f in Xfiles2] # creat a same as files but with Mirror added to the file names\n",
    "Mainfolders =  [os.path.join(f.parents[0],f.stem[:-1]) for f in Xfiles2]\n",
    "Xfiles = [os.path.join(Mainfolder,f) for f in os.listdir(Mainfolder) if f.endswith('R.avi') and not f.startswith('Mask') and not f.startswith('Mirror') ] # find all files with R.avi as file name\n",
    "Xfiles2 = [Path(f) for f in Xfiles] # make each file name path to extract the parents and anme\n",
    "Xfiles3 = [os.path.join(f.parents[0],'Mirror'+f.name) for f in Xfiles2] # creat a same as files but with Mirror added to the file names\n",
    "Mainfolders =  [os.path.join(f.parents[0],f.stem[:-1]) for f in Xfiles2]\n",
    "print(Xfiles4)"
   ]
  },
  {
   "cell_type": "code",
   "execution_count": null,
   "metadata": {},
   "outputs": [],
   "source": [
    "video = text_files[12]\n",
    "deeplabcut.extract_outlier_frames(path_config_file,video,outlieralgorithm='uncertain',p_bound=.9)\n"
   ]
  },
  {
   "cell_type": "code",
   "execution_count": null,
   "metadata": {},
   "outputs": [],
   "source": [
    "deeplabcut.plot_trajectories(path_config_file,text_files,filtered = True, destfolder= Mainfolder)"
   ]
  },
  {
   "cell_type": "code",
   "execution_count": null,
   "metadata": {},
   "outputs": [],
   "source": [
    "Mainfolder = 'D:\\\\videos\\\\ar19\\\\2020_10_02\\\\'\n",
    "from pathlib import Path\n",
    "import os\n",
    "\n",
    "Xfiles = [os.path.join(Mainfolder,f) for f in os.listdir(Mainfolder) if f.endswith('R.avi') and not f.startswith('Mirror')] # find all files with R.avi as file name\n",
    "Xfiles2 = [Path(f) for f in Xfiles] # make each file name path to extract the parents and anme\n",
    "Xfiles3 = [os.path.join(f.parents[0],'Mirror'+f.name) for f in Xfiles2] # creat a same as files but with Mirror added to the file names\n",
    "Mainfolders =  [os.path.join(f.parents[0],f.stem[:-1]) for f in Xfiles2]\n",
    "print(Xfiles3)\n",
    "\n",
    "XfilesL = [os.path.join(Mainfolder,f) for f in os.listdir(Mainfolder) if f.endswith('L.avi') and not f.startswith('Mirror')] # find all files with R.avi as file name\n",
    "Xfiles2 = [Path(f) for f in XfilesL] # make each file name path to extract the parents and anme\n",
    "Xfiles4 = [os.path.join(f.parents[0],'Mask'+f.name) for f in Xfiles2] # creat a same as files but with Mirror added to the file names\n",
    "print(Xfiles4)\n"
   ]
  },
  {
   "cell_type": "code",
   "execution_count": null,
   "metadata": {},
   "outputs": [],
   "source": [
    "Mainfolder = 'D:\\\\videos\\\\ar19\\\\2020_10_12\\\\'\n",
    "from pathlib import Path\n",
    "import os\n",
    "\n",
    "Xfiles = [os.path.join(Mainfolder,f) for f in os.listdir(Mainfolder) if f.endswith('R.avi') and not f.startswith('Mirror')] # find all files with R.avi as file name\n",
    "Xfiles2 = [Path(f) for f in Xfiles] # make each file name path to extract the parents and anme\n",
    "Xfiles3 = [os.path.join(f.parents[0],'Mirror'+f.name) for f in Xfiles2] # creat a same as files but with Mirror added to the file names\n",
    "Mainfolders =  [os.path.join(f.parents[0],f.stem[:-1]) for f in Xfiles2]\n",
    "print(Xfiles3)\n",
    "\n",
    "XfilesL = [os.path.join(Mainfolder,f) for f in os.listdir(Mainfolder) if f.endswith('L.avi') and not f.startswith('Mirror')] # find all files with R.avi as file name\n",
    "Xfiles2 = [Path(f) for f in XfilesL] # make each file name path to extract the parents and anme\n",
    "Xfiles4 = [os.path.join(f.parents[0],'Mask'+f.name) for f in Xfiles2] # creat a same as files but with Mirror added to the file names\n",
    "print(Xfiles4)\n"
   ]
  },
  {
   "cell_type": "code",
   "execution_count": null,
   "metadata": {
    "colab": {},
    "colab_type": "code",
    "id": "Y_LZiS_0oEJl"
   },
   "outputs": [],
   "source": [
    "\n",
    "\n",
    "path_config_file = 'D:\\\\videos\\\\ar19\\\\2020_09_16\\\\ar19_2020_09_16_LR_LandR_twopoints-Arash-2020-09-17\\\\config.yaml';\n",
    "import os\n",
    "Mainfolder = 'D:\\\\videos\\\\ar19\\\\2020_10_12\\\\'\n",
    "text_files=Xfiles3\n",
    "print(text_files)\n",
    "#deeplabcut.analyze_videos(path_config_file,text_files[1:len(text_files)],shuffle=1, save_as_csv=True)\n",
    "#deeplabcut.analyze_videos(path_config_file,text_files[3],shuffle=1, save_as_csv=True)\n",
    "deeplabcut.analyze_videos(path_config_file,text_files,shuffle=1, save_as_csv=True)\n",
    "deeplabcut.filterpredictions(path_config_file,text_files)\n"
   ]
  },
  {
   "cell_type": "markdown",
   "metadata": {},
   "source": [
    "# filter the results using median model\n"
   ]
  },
  {
   "cell_type": "code",
   "execution_count": 28,
   "metadata": {
    "scrolled": true
   },
   "outputs": [
    {
     "name": "stdout",
     "output_type": "stream",
     "text": [
      "D:\\videos\\ar32\\2020_11_24\\1.avi\n",
      "Method  uncertain  found  500  putative outlier frames.\n",
      "Do you want to proceed with extracting  20  of those?\n",
      "If this list is very large, perhaps consider changing the parameters (start, stop, p_bound, comparisonbodyparts) or use a different method.\n",
      "yes/noNO\n",
      "Nothing extracted, please change the parameters and start again...\n"
     ]
    }
   ],
   "source": [
    " #deeplabcut.create_labeled_video(path_config_file,Xfiles[2],save_frames=False)\n",
    "Mainfolder = 'D:\\\\videos\\\\ar19\\\\2020_10_02\\\\'\n",
    "from pathlib import Path\n",
    "import os\n",
    "Mainfolder = 'D:\\\\videos\\\\ar32\\\\2020_11_24'\n",
    " \n",
    "Xfiles = [os.path.join(Mainfolder,f) for f in os.listdir(Mainfolder) if f.endswith('.avi') and not f.endswith('R.avi') and not f.startswith('Mirror') and not f.endswith('L.avi') and not f.startswith('Mask')] # find all files with R.avi as file name\n",
    "print(Xfiles[1])\n",
    "deeplabcut.extract_outlier_frames(path_config_file,Xfiles[1],comparisonbodyparts=\"Nose\",outlieralgorithm='uncertain',p_bound=.4,shuffle=1)\n"
   ]
  },
  {
   "cell_type": "code",
   "execution_count": null,
   "metadata": {},
   "outputs": [
    {
     "name": "stdout",
     "output_type": "stream",
     "text": [
      "Checking labels if they are outside the image\n",
      "Found Snout outside the image labeled-data\\10\\img368.png.Setting it to NaN\n",
      "Found Leye outside the image labeled-data\\10\\img368.png.Setting it to NaN\n",
      "Found Reye outside the image labeled-data\\10\\img368.png.Setting it to NaN\n",
      "Found Snout outside the image labeled-data\\10\\img389.png.Setting it to NaN\n",
      "Found Leye outside the image labeled-data\\10\\img389.png.Setting it to NaN\n",
      "Found Reye outside the image labeled-data\\10\\img389.png.Setting it to NaN\n",
      "Found Nose outside the image labeled-data\\10\\img403.png.Setting it to NaN\n",
      "Found Snout outside the image labeled-data\\10\\img403.png.Setting it to NaN\n",
      "Found Leye outside the image labeled-data\\10\\img403.png.Setting it to NaN\n",
      "Found Reye outside the image labeled-data\\10\\img403.png.Setting it to NaN\n",
      "Found Snout outside the image labeled-data\\10\\img420.png.Setting it to NaN\n",
      "Found Leye outside the image labeled-data\\10\\img420.png.Setting it to NaN\n",
      "Found Leye outside the image labeled-data\\10\\img430.png.Setting it to NaN\n",
      "Found Nose outside the image labeled-data\\10\\img439.png.Setting it to NaN\n",
      "Found Leye outside the image labeled-data\\10\\img439.png.Setting it to NaN\n",
      "Found Nose outside the image labeled-data\\10\\img455.png.Setting it to NaN\n",
      "Found Leye outside the image labeled-data\\10\\img455.png.Setting it to NaN\n",
      "Found Reye outside the image labeled-data\\10\\img455.png.Setting it to NaN\n",
      "Found Leye outside the image labeled-data\\10\\img470.png.Setting it to NaN\n"
     ]
    },
    {
     "ename": "RuntimeError",
     "evalue": "wrapped C/C++ object of type FileDialog has been deleted",
     "output_type": "error",
     "traceback": [
      "\u001b[1;31m---------------------------------------------------------------------------\u001b[0m",
      "\u001b[1;31mRuntimeError\u001b[0m                              Traceback (most recent call last)",
      "\u001b[1;32m~\\Anaconda3\\envs\\dlc-windowsGPU\\lib\\site-packages\\deeplabcut\\refine_training_dataset\\refinement.py\u001b[0m in \u001b[0;36msaveDataSet\u001b[1;34m(self, event)\u001b[0m\n\u001b[0;32m    908\u001b[0m             \u001b[0mself\u001b[0m\u001b[1;33m.\u001b[0m\u001b[0mchoiceBox\u001b[0m\u001b[1;33m.\u001b[0m\u001b[0mClear\u001b[0m\u001b[1;33m(\u001b[0m\u001b[1;32mTrue\u001b[0m\u001b[1;33m)\u001b[0m\u001b[1;33m\u001b[0m\u001b[1;33m\u001b[0m\u001b[0m\n\u001b[0;32m    909\u001b[0m             \u001b[0mMainFrame\u001b[0m\u001b[1;33m.\u001b[0m\u001b[0mupdateZoomPan\u001b[0m\u001b[1;33m(\u001b[0m\u001b[0mself\u001b[0m\u001b[1;33m)\u001b[0m\u001b[1;33m\u001b[0m\u001b[1;33m\u001b[0m\u001b[0m\n\u001b[1;32m--> 910\u001b[1;33m             \u001b[0mMainFrame\u001b[0m\u001b[1;33m.\u001b[0m\u001b[0mbrowseDir\u001b[0m\u001b[1;33m(\u001b[0m\u001b[0mself\u001b[0m\u001b[1;33m,\u001b[0m \u001b[0mevent\u001b[0m\u001b[1;33m)\u001b[0m\u001b[1;33m\u001b[0m\u001b[1;33m\u001b[0m\u001b[0m\n\u001b[0m\u001b[0;32m    911\u001b[0m \u001b[1;33m\u001b[0m\u001b[0m\n\u001b[0;32m    912\u001b[0m     \u001b[1;31m# ###########################################################################\u001b[0m\u001b[1;33m\u001b[0m\u001b[1;33m\u001b[0m\u001b[1;33m\u001b[0m\u001b[0m\n",
      "\u001b[1;32m~\\Anaconda3\\envs\\dlc-windowsGPU\\lib\\site-packages\\deeplabcut\\refine_training_dataset\\refinement.py\u001b[0m in \u001b[0;36mbrowseDir\u001b[1;34m(self, event)\u001b[0m\n\u001b[0;32m    493\u001b[0m             \u001b[0mdlg\u001b[0m\u001b[1;33m.\u001b[0m\u001b[0mDestroy\u001b[0m\u001b[1;33m(\u001b[0m\u001b[1;33m)\u001b[0m\u001b[1;33m\u001b[0m\u001b[1;33m\u001b[0m\u001b[0m\n\u001b[0;32m    494\u001b[0m             \u001b[0mself\u001b[0m\u001b[1;33m.\u001b[0m\u001b[0mDestroy\u001b[0m\u001b[1;33m(\u001b[0m\u001b[1;33m)\u001b[0m\u001b[1;33m\u001b[0m\u001b[1;33m\u001b[0m\u001b[0m\n\u001b[1;32m--> 495\u001b[1;33m         \u001b[0mdlg\u001b[0m\u001b[1;33m.\u001b[0m\u001b[0mDestroy\u001b[0m\u001b[1;33m(\u001b[0m\u001b[1;33m)\u001b[0m\u001b[1;33m\u001b[0m\u001b[1;33m\u001b[0m\u001b[0m\n\u001b[0m\u001b[0;32m    496\u001b[0m \u001b[1;33m\u001b[0m\u001b[0m\n\u001b[0;32m    497\u001b[0m         \u001b[1;32mtry\u001b[0m\u001b[1;33m:\u001b[0m\u001b[1;33m\u001b[0m\u001b[1;33m\u001b[0m\u001b[0m\n",
      "\u001b[1;31mRuntimeError\u001b[0m: wrapped C/C++ object of type FileDialog has been deleted"
     ]
    }
   ],
   "source": [
    "deeplabcut.refine_labels(path_config_file)"
   ]
  }
 ],
 "metadata": {
  "accelerator": "GPU",
  "colab": {
   "name": "Demo-yourowndata.ipynb",
   "provenance": [],
   "version": "0.3.2"
  },
  "kernelspec": {
   "display_name": "Python 3",
   "language": "python",
   "name": "python3"
  },
  "language_info": {
   "codemirror_mode": {
    "name": "ipython",
    "version": 3
   },
   "file_extension": ".py",
   "mimetype": "text/x-python",
   "name": "python",
   "nbconvert_exporter": "python",
   "pygments_lexer": "ipython3",
   "version": "3.6.9"
  },
  "varInspector": {
   "cols": {
    "lenName": 16,
    "lenType": 16,
    "lenVar": 40
   },
   "kernels_config": {
    "python": {
     "delete_cmd_postfix": "",
     "delete_cmd_prefix": "del ",
     "library": "var_list.py",
     "varRefreshCmd": "print(var_dic_list())"
    },
    "r": {
     "delete_cmd_postfix": ") ",
     "delete_cmd_prefix": "rm(",
     "library": "var_list.r",
     "varRefreshCmd": "cat(var_dic_list()) "
    }
   },
   "types_to_exclude": [
    "module",
    "function",
    "builtin_function_or_method",
    "instance",
    "_Feature"
   ],
   "window_display": false
  }
 },
 "nbformat": 4,
 "nbformat_minor": 1
}
