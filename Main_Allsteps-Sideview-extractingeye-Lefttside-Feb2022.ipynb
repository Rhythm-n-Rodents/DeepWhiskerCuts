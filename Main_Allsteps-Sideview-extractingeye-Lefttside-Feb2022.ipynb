{
 "cells": [
  {
   "cell_type": "markdown",
   "metadata": {},
   "source": [
    "## first step is to make movies and lighttime out of single images "
   ]
  },
  {
   "cell_type": "code",
   "execution_count": 1,
   "metadata": {},
   "outputs": [],
   "source": [
    "# enter the folder name \n",
    "Mainfolder = 'D:\\\\Sidevideos\\\\ar34motor\\\\2022_02_03'\n",
    "import main\n"
   ]
  },
  {
   "cell_type": "code",
   "execution_count": 2,
   "metadata": {
    "scrolled": true
   },
   "outputs": [
    {
     "name": "stdout",
     "output_type": "stream",
     "text": [
      "0\n",
      "1\n",
      "2\n",
      "3\n",
      "4\n",
      "5\n",
      "6\n",
      "7\n",
      "8\n",
      "9\n",
      "10\n",
      "11\n",
      "12\n",
      "13\n",
      "14\n",
      "15\n",
      "16\n",
      "17\n",
      "18\n",
      "19\n",
      "20\n",
      "21\n",
      "22\n",
      "23\n",
      "24\n",
      "25\n",
      "26\n",
      "27\n",
      "28\n",
      "29\n",
      "30\n",
      "31\n",
      "32\n",
      "33\n",
      "34\n",
      "35\n",
      "36\n",
      "37\n",
      "38\n",
      "39\n",
      "40\n",
      "41\n",
      "42\n",
      "43\n",
      "44\n",
      "45\n",
      "46\n",
      "47\n",
      "48\n",
      "49\n",
      "50\n",
      "51\n",
      "52\n",
      "53\n",
      "54\n",
      "55\n",
      "56\n",
      "57\n",
      "58\n",
      "59\n",
      "60\n",
      "61\n",
      "62\n",
      "63\n",
      "64\n",
      "65\n",
      "66\n",
      "67\n",
      "68\n",
      "69\n",
      "70\n",
      "71\n",
      "72\n",
      "73\n",
      "74\n",
      "75\n",
      "76\n",
      "77\n",
      "78\n",
      "79\n",
      "80\n",
      "81\n",
      "82\n",
      "83\n",
      "84\n",
      "85\n",
      "86\n",
      "87\n",
      "88\n",
      "89\n",
      "90\n",
      "91\n",
      "92\n",
      "93\n",
      "94\n",
      "95\n",
      "96\n",
      "97\n",
      "98\n",
      "99\n",
      "100\n",
      "101\n",
      "102\n",
      "103\n",
      "104\n",
      "105\n",
      "106\n",
      "107\n",
      "108\n",
      "109\n",
      "110\n",
      "111\n",
      "112\n",
      "113\n",
      "114\n",
      "115\n",
      "116\n",
      "117\n",
      "118\n",
      "119\n",
      "120\n",
      "121\n",
      "122\n",
      "123\n",
      "124\n",
      "125\n",
      "126\n",
      "127\n",
      "128\n",
      "129\n",
      "130\n",
      "131\n",
      "132\n",
      "133\n",
      "134\n",
      "135\n",
      "136\n",
      "137\n",
      "138\n",
      "139\n",
      "140\n",
      "141\n",
      "142\n",
      "143\n",
      "['0', '1', '10', '100', '101', '102', '103', '105', '106', '107', '108', '109', '11', '110', '111', '112', '113', '114', '115', '116', '117', '119', '12', '120', '122', '123', '124', '125', '127', '128', '129', '13', '131', '132', '133', '134', '135', '136', '137', '138', '139', '14', '140', '141', '142', '143', '144', '145', '146', '147', '148', '149', '15', '150', '151', '152', '153', '154', '155', '156', '157', '158', '16', '17', '18', '19', '2', '20', '21', '22', '23', '24', '25', '26', '27', '29', '3', '30', '31', '32', '33', '34', '35', '36', '38', '39', '4', '40', '41', '42', '43', '44', '45', '46', '47', '48', '49', '5', '50', '51', '52', '53', '54', '55', '56', '57', '59', '60', '61', '62', '64', '65', '66', '67', '68', '69', '7', '70', '71', '72', '73', '75', '77', '78', '79', '8', '80', '82', '83', '84', '85', '86', '87', '88', '9', '90', '91', '92', '93', '95', '96', '97', '98', '99']\n"
     ]
    }
   ],
   "source": [
    "#main.make_movie_only(Mainfolder)\n",
    "main.makemovieandLightfile(Mainfolder)\n",
    "main.save_trial_n(Mainfolder)"
   ]
  },
  {
   "cell_type": "code",
   "execution_count": 3,
   "metadata": {},
   "outputs": [
    {
     "name": "stderr",
     "output_type": "stream",
     "text": [
      "C:\\Users\\DKLAb\\Anaconda3\\envs\\dlc-windowsGPU\\lib\\site-packages\\tensorflow\\python\\framework\\dtypes.py:523: FutureWarning: Passing (type, 1) or '1type' as a synonym of type is deprecated; in a future version of numpy, it will be understood as (type, (1,)) / '(1,)type'.\n",
      "  _np_qint8 = np.dtype([(\"qint8\", np.int8, 1)])\n",
      "C:\\Users\\DKLAb\\Anaconda3\\envs\\dlc-windowsGPU\\lib\\site-packages\\tensorflow\\python\\framework\\dtypes.py:524: FutureWarning: Passing (type, 1) or '1type' as a synonym of type is deprecated; in a future version of numpy, it will be understood as (type, (1,)) / '(1,)type'.\n",
      "  _np_quint8 = np.dtype([(\"quint8\", np.uint8, 1)])\n",
      "C:\\Users\\DKLAb\\Anaconda3\\envs\\dlc-windowsGPU\\lib\\site-packages\\tensorflow\\python\\framework\\dtypes.py:525: FutureWarning: Passing (type, 1) or '1type' as a synonym of type is deprecated; in a future version of numpy, it will be understood as (type, (1,)) / '(1,)type'.\n",
      "  _np_qint16 = np.dtype([(\"qint16\", np.int16, 1)])\n",
      "C:\\Users\\DKLAb\\Anaconda3\\envs\\dlc-windowsGPU\\lib\\site-packages\\tensorflow\\python\\framework\\dtypes.py:526: FutureWarning: Passing (type, 1) or '1type' as a synonym of type is deprecated; in a future version of numpy, it will be understood as (type, (1,)) / '(1,)type'.\n",
      "  _np_quint16 = np.dtype([(\"quint16\", np.uint16, 1)])\n",
      "C:\\Users\\DKLAb\\Anaconda3\\envs\\dlc-windowsGPU\\lib\\site-packages\\tensorflow\\python\\framework\\dtypes.py:527: FutureWarning: Passing (type, 1) or '1type' as a synonym of type is deprecated; in a future version of numpy, it will be understood as (type, (1,)) / '(1,)type'.\n",
      "  _np_qint32 = np.dtype([(\"qint32\", np.int32, 1)])\n",
      "C:\\Users\\DKLAb\\Anaconda3\\envs\\dlc-windowsGPU\\lib\\site-packages\\tensorflow\\python\\framework\\dtypes.py:532: FutureWarning: Passing (type, 1) or '1type' as a synonym of type is deprecated; in a future version of numpy, it will be understood as (type, (1,)) / '(1,)type'.\n",
      "  np_resource = np.dtype([(\"resource\", np.ubyte, 1)])\n",
      "C:\\Users\\DKLAb\\Anaconda3\\envs\\dlc-windowsGPU\\lib\\site-packages\\dask\\dataframe\\utils.py:15: FutureWarning: pandas.util.testing is deprecated. Use the functions in the public API at pandas.testing instead.\n",
      "  import pandas.util.testing as tm\n"
     ]
    }
   ],
   "source": [
    "import deeplabcut\n",
    "## https://github.com/AlexEMG/DeepLabCut"
   ]
  },
  {
   "cell_type": "code",
   "execution_count": 4,
   "metadata": {},
   "outputs": [
    {
     "name": "stdout",
     "output_type": "stream",
     "text": [
      "D:\\Sidevideos\\ar34motor\\2022_02_03\\1.avi\n",
      "Using snapshot-109000 for model C:\\Users\\dklab\\Dropbox\\Notebook\\DLC\\Sideview_Aug-Arash-2021-08-04\\dlc-models\\iteration-0\\Sideview_AugAug4-trainset95shuffle1\n",
      "Initializing ResNet\n",
      "Starting to analyze %  D:\\Sidevideos\\ar34motor\\2022_02_03\\0.avi\n",
      "D:\\Sidevideos\\ar34motor\\2022_02_03  already exists!\n",
      "Loading  D:\\Sidevideos\\ar34motor\\2022_02_03\\0.avi\n",
      "Duration of video [s]:  10.0 , recorded with  40.0 fps!\n",
      "Overall # of frames:  400  found with (before cropping) frame dimensions:  800 550\n",
      "Starting to extract posture\n"
     ]
    },
    {
     "name": "stderr",
     "output_type": "stream",
     "text": [
      "\r",
      "  0%|                                                                                          | 0/400 [00:00<?, ?it/s]"
     ]
    },
    {
     "name": "stdout",
     "output_type": "stream",
     "text": [
      "Starting to analyze %  D:\\Sidevideos\\ar34motor\\2022_02_03\\1.avi\n",
      "D:\\Sidevideos\\ar34motor\\2022_02_03  already exists!\n",
      "Loading  D:\\Sidevideos\\ar34motor\\2022_02_03\\1.avi\n",
      "Duration of video [s]:  10.0 , recorded with  40.0 fps!\n",
      "Overall # of frames:  400  found with (before cropping) frame dimensions:  800 550\n",
      "Starting to extract posture\n"
     ]
    },
    {
     "name": "stderr",
     "output_type": "stream",
     "text": [
      "\n",
      "  2%|██                                                                               | 10/400 [00:06<04:09,  1.56it/s]\u001b[A"
     ]
    },
    {
     "name": "stdout",
     "output_type": "stream",
     "text": [
      "Starting to analyze %  D:\\Sidevideos\\ar34motor\\2022_02_03\\10.avi\n",
      "D:\\Sidevideos\\ar34motor\\2022_02_03  already exists!\n",
      "Loading  D:\\Sidevideos\\ar34motor\\2022_02_03\\10.avi\n",
      "Duration of video [s]:  "
     ]
    },
    {
     "name": "stderr",
     "output_type": "stream",
     "text": [
      "\n"
     ]
    },
    {
     "name": "stdout",
     "output_type": "stream",
     "text": [
      "10.0 , recorded with  40.0 fps!\n",
      "Overall # of frames:  400  found with (before cropping) frame dimensions:  800 550\n",
      "Starting to extract posture\n"
     ]
    },
    {
     "name": "stderr",
     "output_type": "stream",
     "text": [
      "\r",
      "  0%|                                                                                          | 0/400 [00:00<?, ?it/s]"
     ]
    },
    {
     "name": "stdout",
     "output_type": "stream",
     "text": [
      "Starting to analyze %  D:\\Sidevideos\\ar34motor\\2022_02_03\\100.avi\n",
      "D:\\Sidevideos\\ar34motor\\2022_02_03  already exists!\n",
      "Loading  D:\\Sidevideos\\ar34motor\\2022_02_03\\100.avi\n",
      "Duration of video [s]:  10.0 , recorded with  40.0 fps!\n",
      "Overall # of frames:  400  found with (before cropping) frame dimensions:  800 550\n",
      "Starting to extract posture\n"
     ]
    },
    {
     "name": "stderr",
     "output_type": "stream",
     "text": [
      "\n",
      "\n",
      "  0%|                                                                                          | 0/400 [00:00<?, ?it/s]\u001b[A\u001b[A"
     ]
    },
    {
     "name": "stdout",
     "output_type": "stream",
     "text": [
      "Starting to analyze %  D:\\Sidevideos\\ar34motor\\2022_02_03\\101.avi\n",
      "D:\\Sidevideos\\ar34motor\\2022_02_03  already exists!\n",
      "Loading  D:\\Sidevideos\\ar34motor\\2022_02_03\\101.avi\n",
      "Duration of video [s]:  10.0 , recorded with  40.0 fps!\n",
      "Overall # of frames:  400  found with (before cropping) frame dimensions:  800 550\n",
      "Starting to extract posture\n"
     ]
    },
    {
     "name": "stderr",
     "output_type": "stream",
     "text": [
      "\n",
      "\n",
      "\n",
      "  0%|                                                                                          | 0/400 [00:00<?, ?it/s]\u001b[A\u001b[A\u001b[A"
     ]
    },
    {
     "name": "stdout",
     "output_type": "stream",
     "text": [
      "Starting to analyze %  D:\\Sidevideos\\ar34motor\\2022_02_03\\102.avi\n",
      "D:\\Sidevideos\\ar34motor\\2022_02_03  already exists!\n",
      "Loading  D:\\Sidevideos\\ar34motor\\2022_02_03\\102.avi\n",
      "Duration of video [s]:  10.0 , recorded with  40.0 fps!\n",
      "Overall # of frames:  400  found with (before cropping) frame dimensions:  800 550\n",
      "Starting to extract posture\n"
     ]
    },
    {
     "name": "stderr",
     "output_type": "stream",
     "text": [
      "\n",
      "\n",
      "\n",
      "\n",
      "  0%|                                                                                          | 0/400 [00:00<?, ?it/s]\u001b[A\u001b[A\u001b[A\u001b[A"
     ]
    },
    {
     "name": "stdout",
     "output_type": "stream",
     "text": [
      "Starting to analyze %  D:\\Sidevideos\\ar34motor\\2022_02_03\\103.avi\n",
      "D:\\Sidevideos\\ar34motor\\2022_02_03  already exists!\n",
      "Loading  D:\\Sidevideos\\ar34motor\\2022_02_03\\103.avi\n",
      "Duration of video [s]:  10.0 , recorded with  40.0 fps!\n",
      "Overall # of frames:  400  found with (before cropping) frame dimensions:  800 550\n",
      "Starting to extract posture\n"
     ]
    },
    {
     "name": "stderr",
     "output_type": "stream",
     "text": [
      "\n",
      "\n",
      "\n",
      "\n",
      "\n",
      "  0%|                                                                                          | 0/400 [00:00<?, ?it/s]\u001b[A\u001b[A\u001b[A\u001b[A\u001b[A"
     ]
    },
    {
     "name": "stdout",
     "output_type": "stream",
     "text": [
      "Starting to analyze %  D:\\Sidevideos\\ar34motor\\2022_02_03\\105.avi\n",
      "D:\\Sidevideos\\ar34motor\\2022_02_03  already exists!\n",
      "Loading  D:\\Sidevideos\\ar34motor\\2022_02_03\\105.avi\n",
      "Duration of video [s]:  10.0 , recorded with  40.0 fps!\n",
      "Overall # of frames:  400  found with (before cropping) frame dimensions:  800 550\n",
      "Starting to extract posture\n"
     ]
    },
    {
     "name": "stderr",
     "output_type": "stream",
     "text": [
      "\n",
      "\n",
      "\n",
      "\n",
      "\n",
      "\n",
      "  0%|                                                                                          | 0/400 [00:00<?, ?it/s]\u001b[A\u001b[A\u001b[A\u001b[A\u001b[A\u001b[A"
     ]
    },
    {
     "name": "stdout",
     "output_type": "stream",
     "text": [
      "Starting to analyze %  D:\\Sidevideos\\ar34motor\\2022_02_03\\106.avi\n",
      "D:\\Sidevideos\\ar34motor\\2022_02_03  already exists!\n",
      "Loading  D:\\Sidevideos\\ar34motor\\2022_02_03\\106.avi\n",
      "Duration of video [s]:  10.0 , recorded with  40.0 fps!\n",
      "Overall # of frames:  400  found with (before cropping) frame dimensions:  800 550\n",
      "Starting to extract posture\n"
     ]
    },
    {
     "name": "stderr",
     "output_type": "stream",
     "text": [
      "\n",
      "\n",
      "\n",
      "\n",
      "\n",
      "\n",
      "\n",
      "  0%|                                                                                          | 0/400 [00:00<?, ?it/s]\u001b[A\u001b[A\u001b[A\u001b[A\u001b[A\u001b[A\u001b[A"
     ]
    },
    {
     "name": "stdout",
     "output_type": "stream",
     "text": [
      "Starting to analyze %  D:\\Sidevideos\\ar34motor\\2022_02_03\\107.avi\n",
      "D:\\Sidevideos\\ar34motor\\2022_02_03  already exists!\n",
      "Loading  D:\\Sidevideos\\ar34motor\\2022_02_03\\107.avi\n",
      "Duration of video [s]:  10.0 , recorded with  40.0 fps!\n",
      "Overall # of frames:  400  found with (before cropping) frame dimensions:  800 550\n",
      "Starting to extract posture\n"
     ]
    },
    {
     "name": "stderr",
     "output_type": "stream",
     "text": [
      "\n",
      "\n",
      "\n",
      "\n",
      "\n",
      "\n",
      "\n",
      "\n",
      "  0%|                                                                                          | 0/400 [00:00<?, ?it/s]\u001b[A\u001b[A\u001b[A\u001b[A\u001b[A\u001b[A\u001b[A\u001b[A"
     ]
    },
    {
     "name": "stdout",
     "output_type": "stream",
     "text": [
      "Starting to analyze %  D:\\Sidevideos\\ar34motor\\2022_02_03\\108.avi\n",
      "D:\\Sidevideos\\ar34motor\\2022_02_03  already exists!\n",
      "Loading  D:\\Sidevideos\\ar34motor\\2022_02_03\\108.avi\n",
      "Duration of video [s]:  10.0 , recorded with  40.0 fps!\n",
      "Overall # of frames:  400  found with (before cropping) frame dimensions:  800 550\n",
      "Starting to extract posture\n"
     ]
    },
    {
     "name": "stderr",
     "output_type": "stream",
     "text": [
      "\n",
      "\n",
      "\n",
      "\n",
      "\n",
      "\n",
      "\n",
      "\n",
      "\n",
      "  0%|                                                                                          | 0/400 [00:00<?, ?it/s]\u001b[A\u001b[A\u001b[A\u001b[A\u001b[A\u001b[A\u001b[A\u001b[A\u001b[A"
     ]
    },
    {
     "name": "stdout",
     "output_type": "stream",
     "text": [
      "Starting to analyze %  D:\\Sidevideos\\ar34motor\\2022_02_03\\109.avi\n",
      "D:\\Sidevideos\\ar34motor\\2022_02_03  already exists!\n",
      "Loading  D:\\Sidevideos\\ar34motor\\2022_02_03\\109.avi\n",
      "Duration of video [s]:  10.0 , recorded with  40.0 fps!\n",
      "Overall # of frames:  400  found with (before cropping) frame dimensions:  800 550\n",
      "Starting to extract posture\n"
     ]
    },
    {
     "name": "stderr",
     "output_type": "stream",
     "text": [
      "\n",
      "\n",
      "\n",
      "\n",
      "\n",
      "\n",
      "\n",
      "\n",
      "\n",
      "\n",
      "  0%|                                                                                          | 0/400 [00:00<?, ?it/s]\u001b[A\u001b[A\u001b[A\u001b[A\u001b[A\u001b[A\u001b[A\u001b[A\u001b[A\u001b[A"
     ]
    },
    {
     "name": "stdout",
     "output_type": "stream",
     "text": [
      "Starting to analyze %  D:\\Sidevideos\\ar34motor\\2022_02_03\\11.avi\n",
      "D:\\Sidevideos\\ar34motor\\2022_02_03  already exists!\n",
      "Loading  D:\\Sidevideos\\ar34motor\\2022_02_03\\11.avi\n",
      "Duration of video [s]:  10.0 , recorded with  40.0 fps!\n",
      "Overall # of frames:  400  found with (before cropping) frame dimensions:  800 550\n",
      "Starting to extract posture\n"
     ]
    },
    {
     "name": "stderr",
     "output_type": "stream",
     "text": [
      "\n",
      "\n",
      "\n",
      "\n",
      "\n",
      "\n",
      "\n",
      "\n",
      "\n",
      "\n",
      "\n",
      "  0%|                                                                                          | 0/400 [00:00<?, ?it/s]\u001b[A\u001b[A\u001b[A\u001b[A\u001b[A\u001b[A\u001b[A\u001b[A\u001b[A\u001b[A\u001b[A"
     ]
    },
    {
     "name": "stdout",
     "output_type": "stream",
     "text": [
      "Starting to analyze %  D:\\Sidevideos\\ar34motor\\2022_02_03\\110.avi\n",
      "D:\\Sidevideos\\ar34motor\\2022_02_03  already exists!\n",
      "Loading  D:\\Sidevideos\\ar34motor\\2022_02_03\\110.avi\n",
      "Duration of video [s]:  10.0 , recorded with  40.0 fps!\n",
      "Overall # of frames:  400  found with (before cropping) frame dimensions:  800 550\n",
      "Starting to extract posture\n"
     ]
    },
    {
     "name": "stderr",
     "output_type": "stream",
     "text": [
      "\n",
      "\n",
      "\n",
      "\n",
      "\n",
      "\n",
      "\n",
      "\n",
      "\n",
      "\n",
      "\n",
      "\n",
      "  0%|                                                                                          | 0/400 [00:00<?, ?it/s]\u001b[A\u001b[A\u001b[A\u001b[A\u001b[A\u001b[A\u001b[A\u001b[A\u001b[A\u001b[A\u001b[A\u001b[A"
     ]
    },
    {
     "name": "stdout",
     "output_type": "stream",
     "text": [
      "Starting to analyze %  D:\\Sidevideos\\ar34motor\\2022_02_03\\111.avi\n",
      "D:\\Sidevideos\\ar34motor\\2022_02_03  already exists!\n",
      "Loading  D:\\Sidevideos\\ar34motor\\2022_02_03\\111.avi\n",
      "Duration of video [s]:  10.0 , recorded with  40.0 fps!\n",
      "Overall # of frames:  400  found with (before cropping) frame dimensions:  800 550\n",
      "Starting to extract posture\n"
     ]
    },
    {
     "name": "stderr",
     "output_type": "stream",
     "text": [
      "\n",
      "\n",
      "\n",
      "\n",
      "\n",
      "\n",
      "\n",
      "\n",
      "\n",
      "\n",
      "\n",
      "\n",
      "\n",
      "  0%|                                                                                          | 0/400 [00:00<?, ?it/s]\u001b[A\u001b[A\u001b[A\u001b[A\u001b[A\u001b[A\u001b[A\u001b[A\u001b[A\u001b[A\u001b[A\u001b[A\u001b[A"
     ]
    },
    {
     "name": "stdout",
     "output_type": "stream",
     "text": [
      "Starting to analyze %  D:\\Sidevideos\\ar34motor\\2022_02_03\\112.avi\n",
      "D:\\Sidevideos\\ar34motor\\2022_02_03  already exists!\n",
      "Loading  D:\\Sidevideos\\ar34motor\\2022_02_03\\112.avi\n",
      "Duration of video [s]:  10.0 , recorded with  40.0 fps!\n",
      "Overall # of frames:  400  found with (before cropping) frame dimensions:  800 550\n",
      "Starting to extract posture\n"
     ]
    },
    {
     "name": "stderr",
     "output_type": "stream",
     "text": [
      "\n",
      "\n",
      "\n",
      "\n",
      "\n",
      "\n",
      "\n",
      "\n",
      "\n",
      "\n",
      "\n",
      "\n",
      "\n",
      "\n",
      "  0%|                                                                                          | 0/400 [00:00<?, ?it/s]\u001b[A\u001b[A\u001b[A\u001b[A\u001b[A\u001b[A\u001b[A\u001b[A\u001b[A\u001b[A\u001b[A\u001b[A\u001b[A\u001b[A"
     ]
    },
    {
     "name": "stdout",
     "output_type": "stream",
     "text": [
      "Starting to analyze %  D:\\Sidevideos\\ar34motor\\2022_02_03\\113.avi\n",
      "D:\\Sidevideos\\ar34motor\\2022_02_03  already exists!\n",
      "Loading  D:\\Sidevideos\\ar34motor\\2022_02_03\\113.avi\n",
      "Duration of video [s]:  10.0 , recorded with  40.0 fps!\n",
      "Overall # of frames:  400  found with (before cropping) frame dimensions:  800 550\n",
      "Starting to extract posture\n"
     ]
    },
    {
     "name": "stderr",
     "output_type": "stream",
     "text": [
      "\n",
      "\n",
      "\n",
      "\n",
      "\n",
      "\n",
      "\n",
      "\n",
      "\n",
      "\n",
      "\n",
      "\n",
      "\n",
      "\n",
      "\n",
      "  0%|                                                                                          | 0/400 [00:00<?, ?it/s]\u001b[A\u001b[A\u001b[A\u001b[A\u001b[A\u001b[A\u001b[A\u001b[A\u001b[A\u001b[A\u001b[A\u001b[A\u001b[A\u001b[A\u001b[A"
     ]
    },
    {
     "name": "stdout",
     "output_type": "stream",
     "text": [
      "Starting to analyze %  D:\\Sidevideos\\ar34motor\\2022_02_03\\114.avi\n",
      "D:\\Sidevideos\\ar34motor\\2022_02_03  already exists!\n",
      "Loading  D:\\Sidevideos\\ar34motor\\2022_02_03\\114.avi\n",
      "Duration of video [s]:  10.0 , recorded with  40.0 fps!\n",
      "Overall # of frames:  400  found with (before cropping) frame dimensions:  800 550\n",
      "Starting to extract posture\n"
     ]
    },
    {
     "name": "stderr",
     "output_type": "stream",
     "text": [
      "\n",
      "\n",
      "\n",
      "\n",
      "\n",
      "\n",
      "\n",
      "\n",
      "\n",
      "\n",
      "\n",
      "\n",
      "\n",
      "\n",
      "\n",
      "\n",
      "  0%|                                                                                          | 0/400 [00:00<?, ?it/s]\u001b[A\u001b[A\u001b[A\u001b[A\u001b[A\u001b[A\u001b[A\u001b[A\u001b[A\u001b[A\u001b[A\u001b[A\u001b[A\u001b[A\u001b[A\u001b[A"
     ]
    },
    {
     "name": "stdout",
     "output_type": "stream",
     "text": [
      "Starting to analyze %  D:\\Sidevideos\\ar34motor\\2022_02_03\\115.avi\n",
      "D:\\Sidevideos\\ar34motor\\2022_02_03  already exists!\n",
      "Loading  D:\\Sidevideos\\ar34motor\\2022_02_03\\115.avi\n",
      "Duration of video [s]:  10.0 , recorded with  40.0 fps!\n",
      "Overall # of frames:  400  found with (before cropping) frame dimensions:  800 550\n",
      "Starting to extract posture\n"
     ]
    },
    {
     "name": "stderr",
     "output_type": "stream",
     "text": [
      "\n",
      "\n",
      "\n",
      "\n",
      "\n",
      "\n",
      "\n",
      "\n",
      "\n",
      "\n",
      "\n",
      "\n",
      "\n",
      "\n",
      "\n",
      "\n",
      "\n",
      "  0%|                                                                                          | 0/400 [00:00<?, ?it/s]\u001b[A\u001b[A\u001b[A\u001b[A\u001b[A\u001b[A\u001b[A\u001b[A\u001b[A\u001b[A\u001b[A\u001b[A\u001b[A\u001b[A\u001b[A\u001b[A\u001b[A"
     ]
    },
    {
     "name": "stdout",
     "output_type": "stream",
     "text": [
      "Starting to analyze %  D:\\Sidevideos\\ar34motor\\2022_02_03\\116.avi\n",
      "D:\\Sidevideos\\ar34motor\\2022_02_03  already exists!\n",
      "Loading  D:\\Sidevideos\\ar34motor\\2022_02_03\\116.avi\n",
      "Duration of video [s]:  10.0 , recorded with  40.0 fps!\n",
      "Overall # of frames:  400  found with (before cropping) frame dimensions:  800 550\n",
      "Starting to extract posture\n"
     ]
    },
    {
     "name": "stderr",
     "output_type": "stream",
     "text": [
      "\n",
      "\n",
      "\n",
      "\n",
      "\n",
      "\n",
      "\n",
      "\n",
      "\n",
      "\n",
      "\n",
      "\n",
      "\n",
      "\n",
      "\n",
      "\n",
      "\n",
      "\n",
      "  0%|                                                                                          | 0/400 [00:00<?, ?it/s]\u001b[A\u001b[A\u001b[A\u001b[A\u001b[A\u001b[A\u001b[A\u001b[A\u001b[A\u001b[A\u001b[A\u001b[A\u001b[A\u001b[A\u001b[A\u001b[A\u001b[A\u001b[A"
     ]
    },
    {
     "name": "stdout",
     "output_type": "stream",
     "text": [
      "Starting to analyze %  D:\\Sidevideos\\ar34motor\\2022_02_03\\117.avi\n",
      "D:\\Sidevideos\\ar34motor\\2022_02_03  already exists!\n",
      "Loading  D:\\Sidevideos\\ar34motor\\2022_02_03\\117.avi\n",
      "Duration of video [s]:  10.0 , recorded with  40.0 fps!\n",
      "Overall # of frames:  400  found with (before cropping) frame dimensions:  800 550\n",
      "Starting to extract posture\n"
     ]
    },
    {
     "name": "stderr",
     "output_type": "stream",
     "text": [
      "\n",
      "\n",
      "\n",
      "\n",
      "\n",
      "\n",
      "\n",
      "\n",
      "\n",
      "\n",
      "\n",
      "\n",
      "\n",
      "\n",
      "\n",
      "\n",
      "\n",
      "\n",
      "\n",
      "  0%|                                                                                          | 0/400 [00:00<?, ?it/s]\u001b[A\u001b[A\u001b[A\u001b[A\u001b[A\u001b[A\u001b[A\u001b[A\u001b[A\u001b[A\u001b[A\u001b[A\u001b[A\u001b[A\u001b[A\u001b[A\u001b[A\u001b[A\u001b[A"
     ]
    },
    {
     "name": "stdout",
     "output_type": "stream",
     "text": [
      "Starting to analyze %  D:\\Sidevideos\\ar34motor\\2022_02_03\\119.avi\n",
      "D:\\Sidevideos\\ar34motor\\2022_02_03  already exists!\n",
      "Loading  D:\\Sidevideos\\ar34motor\\2022_02_03\\119.avi\n",
      "Duration of video [s]:  10.0 , recorded with  40.0 fps!\n",
      "Overall # of frames:  400  found with (before cropping) frame dimensions:  800 550\n",
      "Starting to extract posture\n"
     ]
    },
    {
     "name": "stderr",
     "output_type": "stream",
     "text": [
      "\n",
      "\n",
      "\n",
      "\n",
      "\n",
      "\n",
      "\n",
      "\n",
      "\n",
      "\n",
      "\n",
      "\n",
      "\n",
      "\n",
      "\n",
      "\n",
      "\n",
      "\n",
      "\n",
      "\n",
      "  0%|                                                                                          | 0/400 [00:00<?, ?it/s]\u001b[A\u001b[A\u001b[A\u001b[A\u001b[A\u001b[A\u001b[A\u001b[A\u001b[A\u001b[A\u001b[A\u001b[A\u001b[A\u001b[A\u001b[A\u001b[A\u001b[A\u001b[A\u001b[A\u001b[A"
     ]
    },
    {
     "name": "stdout",
     "output_type": "stream",
     "text": [
      "Starting to analyze %  D:\\Sidevideos\\ar34motor\\2022_02_03\\12.avi\n",
      "D:\\Sidevideos\\ar34motor\\2022_02_03  already exists!\n",
      "Loading  D:\\Sidevideos\\ar34motor\\2022_02_03\\12.avi\n",
      "Duration of video [s]:  10.0 , recorded with  40.0 fps!\n",
      "Overall # of frames:  400  found with (before cropping) frame dimensions:  800 550\n",
      "Starting to extract posture\n"
     ]
    },
    {
     "name": "stderr",
     "output_type": "stream",
     "text": [
      "\n",
      "\n",
      "\n",
      "\n",
      "\n",
      "\n",
      "\n",
      "\n",
      "\n",
      "\n",
      "\n",
      "\n",
      "\n",
      "\n",
      "\n",
      "\n",
      "\n",
      "\n",
      "\n",
      "\n",
      "\n",
      "  0%|                                                                                          | 0/400 [00:00<?, ?it/s]\u001b[A\u001b[A\u001b[A\u001b[A\u001b[A\u001b[A\u001b[A\u001b[A\u001b[A\u001b[A\u001b[A\u001b[A\u001b[A\u001b[A\u001b[A\u001b[A\u001b[A\u001b[A\u001b[A\u001b[A\u001b[A"
     ]
    },
    {
     "name": "stdout",
     "output_type": "stream",
     "text": [
      "Starting to analyze %  D:\\Sidevideos\\ar34motor\\2022_02_03\\120.avi\n",
      "D:\\Sidevideos\\ar34motor\\2022_02_03  already exists!\n",
      "Loading  D:\\Sidevideos\\ar34motor\\2022_02_03\\120.avi\n",
      "Duration of video [s]:  10.0 , recorded with  40.0 fps!\n",
      "Overall # of frames:  400  found with (before cropping) frame dimensions:  800 550\n",
      "Starting to extract posture\n"
     ]
    },
    {
     "name": "stderr",
     "output_type": "stream",
     "text": [
      "\n",
      "\n",
      "\n",
      "\n",
      "\n",
      "\n",
      "\n",
      "\n",
      "\n",
      "\n",
      "\n",
      "\n",
      "\n",
      "\n",
      "\n",
      "\n",
      "\n",
      "\n",
      "\n",
      "\n",
      "\n",
      "\n",
      "  0%|                                                                                          | 0/400 [00:00<?, ?it/s]\u001b[A\u001b[A\u001b[A\u001b[A\u001b[A\u001b[A\u001b[A\u001b[A\u001b[A\u001b[A\u001b[A\u001b[A\u001b[A\u001b[A\u001b[A\u001b[A\u001b[A\u001b[A\u001b[A\u001b[A\u001b[A\u001b[A"
     ]
    },
    {
     "name": "stdout",
     "output_type": "stream",
     "text": [
      "Starting to analyze %  D:\\Sidevideos\\ar34motor\\2022_02_03\\122.avi\n",
      "D:\\Sidevideos\\ar34motor\\2022_02_03  already exists!\n",
      "Loading  D:\\Sidevideos\\ar34motor\\2022_02_03\\122.avi\n",
      "Duration of video [s]:  10.0 , recorded with  40.0 fps!\n",
      "Overall # of frames:  400  found with (before cropping) frame dimensions:  800 550\n",
      "Starting to extract posture\n"
     ]
    },
    {
     "name": "stderr",
     "output_type": "stream",
     "text": [
      "\n",
      "\n",
      "\n",
      "\n",
      "\n",
      "\n",
      "\n",
      "\n",
      "\n",
      "\n",
      "\n",
      "\n",
      "\n",
      "\n",
      "\n",
      "\n",
      "\n",
      "\n",
      "\n",
      "\n",
      "\n",
      "\n",
      "\n",
      "  0%|                                                                                          | 0/400 [00:00<?, ?it/s]\u001b[A\u001b[A\u001b[A\u001b[A\u001b[A\u001b[A\u001b[A\u001b[A\u001b[A\u001b[A\u001b[A\u001b[A\u001b[A\u001b[A\u001b[A\u001b[A\u001b[A\u001b[A\u001b[A\u001b[A\u001b[A\u001b[A\u001b[A"
     ]
    },
    {
     "name": "stdout",
     "output_type": "stream",
     "text": [
      "Starting to analyze %  D:\\Sidevideos\\ar34motor\\2022_02_03\\123.avi\n",
      "D:\\Sidevideos\\ar34motor\\2022_02_03  already exists!\n",
      "Loading  D:\\Sidevideos\\ar34motor\\2022_02_03\\123.avi\n",
      "Duration of video [s]:  10.0 , recorded with  40.0 fps!\n",
      "Overall # of frames:  400  found with (before cropping) frame dimensions:  800 550\n",
      "Starting to extract posture\n"
     ]
    },
    {
     "name": "stderr",
     "output_type": "stream",
     "text": [
      "\n",
      "\n",
      "\n",
      "\n",
      "\n",
      "\n",
      "\n",
      "\n",
      "\n",
      "\n",
      "\n",
      "\n",
      "\n",
      "\n",
      "\n",
      "\n",
      "\n",
      "\n",
      "\n",
      "\n",
      "\n",
      "\n",
      "\n",
      "\n",
      "  2%|██                                                                               | 10/400 [00:02<01:27,  4.44it/s]\u001b[A\u001b[A\u001b[A\u001b[A\u001b[A\u001b[A\u001b[A\u001b[A\u001b[A\u001b[A\u001b[A\u001b[A\u001b[A\u001b[A\u001b[A\u001b[A\u001b[A\u001b[A\u001b[A\u001b[A\u001b[A\u001b[A\u001b[A\u001b[A\n",
      "  2%|██                                                                               | 10/400 [00:02<01:23,  4.67it/s]\n",
      "  2%|██                                                                               | 10/400 [00:02<01:19,  4.91it/s]\n",
      "  2%|██                                                                               | 10/400 [00:01<01:16,  5.13it/s]\n",
      "  2%|██                                                                               | 10/400 [00:01<01:12,  5.39it/s]\n",
      "  2%|██                                                                               | 10/400 [00:01<01:08,  5.68it/s]\n",
      "  2%|██                                                                               | 10/400 [00:01<01:04,  6.00it/s]\n",
      "  2%|██                                                                               | 10/400 [00:01<01:01,  6.35it/s]\n",
      "  2%|██                                                                               | 10/400 [00:01<00:58,  6.72it/s]\n",
      "  2%|██                                                                               | 10/400 [00:01<00:54,  7.22it/s]\n",
      "  2%|██                                                                               | 10/400 [00:01<00:50,  7.76it/s]\n",
      "  2%|██                                                                               | 10/400 [00:01<00:46,  8.35it/s]\n",
      "  2%|██                                                                               | 10/400 [00:01<00:43,  9.04it/s]\n",
      "  2%|██                                                                               | 10/400 [00:01<00:39,  9.90it/s]\n",
      "  2%|██                                                                               | 10/400 [00:00<00:35, 10.92it/s]\n",
      "  2%|██                                                                               | 10/400 [00:00<00:32, 12.07it/s]\n",
      "  2%|██                                                                               | 10/400 [00:00<00:28, 13.61it/s]\n",
      "  2%|██                                                                               | 10/400 [00:00<00:25, 15.50it/s]\n",
      "  2%|██                                                                               | 10/400 [00:00<00:21, 18.00it/s]\n",
      "  2%|██                                                                               | 10/400 [00:00<00:18, 21.51it/s]\n",
      "  2%|██                                                                               | 10/400 [00:00<00:14, 26.44it/s]\n",
      "  2%|██                                                                               | 10/400 [00:00<00:11, 34.88it/s]\n",
      "  2%|██                                                                               | 10/400 [00:00<00:07, 54.59it/s]\n"
     ]
    },
    {
     "name": "stdout",
     "output_type": "stream",
     "text": [
      "Starting to analyze %  D:\\Sidevideos\\ar34motor\\2022_02_03\\124.avi\n",
      "D:\\Sidevideos\\ar34motor\\2022_02_03  already exists!\n",
      "Loading  D:\\Sidevideos\\ar34motor\\2022_02_03\\124.avi\n",
      "Duration of video [s]:  10.0 , recorded with  40.0 fps!\n",
      "Overall # of frames:  400  found with (before cropping) frame dimensions:  800 550\n",
      "Starting to extract posture\n"
     ]
    },
    {
     "name": "stderr",
     "output_type": "stream",
     "text": [
      "\r",
      "  0%|                                                                                          | 0/400 [00:00<?, ?it/s]"
     ]
    },
    {
     "name": "stdout",
     "output_type": "stream",
     "text": [
      "Starting to analyze %  D:\\Sidevideos\\ar34motor\\2022_02_03\\125.avi\n",
      "D:\\Sidevideos\\ar34motor\\2022_02_03  already exists!\n",
      "Loading  D:\\Sidevideos\\ar34motor\\2022_02_03\\125.avi\n",
      "Duration of video [s]:  10.0 , recorded with  40.0 fps!\n",
      "Overall # of frames:  400  found with (before cropping) frame dimensions:  800 550\n",
      "Starting to extract posture\n"
     ]
    },
    {
     "name": "stderr",
     "output_type": "stream",
     "text": [
      "\n",
      "\n",
      "  0%|                                                                                          | 0/400 [00:00<?, ?it/s]\u001b[A\u001b[A"
     ]
    },
    {
     "name": "stdout",
     "output_type": "stream",
     "text": [
      "Starting to analyze %  D:\\Sidevideos\\ar34motor\\2022_02_03\\127.avi\n",
      "D:\\Sidevideos\\ar34motor\\2022_02_03  already exists!\n",
      "Loading  D:\\Sidevideos\\ar34motor\\2022_02_03\\127.avi\n",
      "Duration of video [s]:  10.0 , recorded with  40.0 fps!\n",
      "Overall # of frames:  400  found with (before cropping) frame dimensions:  800 550\n",
      "Starting to extract posture\n"
     ]
    },
    {
     "name": "stderr",
     "output_type": "stream",
     "text": [
      "\n",
      "\n",
      "\n",
      "  0%|                                                                                          | 0/400 [00:00<?, ?it/s]\u001b[A\u001b[A\u001b[A"
     ]
    },
    {
     "name": "stdout",
     "output_type": "stream",
     "text": [
      "Starting to analyze %  D:\\Sidevideos\\ar34motor\\2022_02_03\\128.avi\n",
      "D:\\Sidevideos\\ar34motor\\2022_02_03  already exists!\n",
      "Loading  D:\\Sidevideos\\ar34motor\\2022_02_03\\128.avi\n",
      "Duration of video [s]:  10.0 , recorded with  40.0 fps!\n",
      "Overall # of frames:  400  found with (before cropping) frame dimensions:  800 550\n",
      "Starting to extract posture\n"
     ]
    },
    {
     "name": "stderr",
     "output_type": "stream",
     "text": [
      "\n",
      "\n",
      "\n",
      "\n",
      "  0%|                                                                                          | 0/400 [00:00<?, ?it/s]\u001b[A\u001b[A\u001b[A\u001b[A"
     ]
    },
    {
     "name": "stdout",
     "output_type": "stream",
     "text": [
      "Starting to analyze %  D:\\Sidevideos\\ar34motor\\2022_02_03\\129.avi\n",
      "D:\\Sidevideos\\ar34motor\\2022_02_03  already exists!\n",
      "Loading  D:\\Sidevideos\\ar34motor\\2022_02_03\\129.avi\n",
      "Duration of video [s]:  10.0 , recorded with  40.0 fps!\n",
      "Overall # of frames:  400  found with (before cropping) frame dimensions:  800 550\n",
      "Starting to extract posture\n"
     ]
    },
    {
     "name": "stderr",
     "output_type": "stream",
     "text": [
      "\n",
      "\n",
      "\n",
      "\n",
      "\n",
      "  0%|                                                                                          | 0/400 [00:00<?, ?it/s]\u001b[A\u001b[A\u001b[A\u001b[A\u001b[A"
     ]
    },
    {
     "name": "stdout",
     "output_type": "stream",
     "text": [
      "Starting to analyze %  D:\\Sidevideos\\ar34motor\\2022_02_03\\13.avi\n",
      "D:\\Sidevideos\\ar34motor\\2022_02_03  already exists!\n",
      "Loading  D:\\Sidevideos\\ar34motor\\2022_02_03\\13.avi\n",
      "Duration of video [s]:  10.0 , recorded with  40.0 fps!\n",
      "Overall # of frames:  400  found with (before cropping) frame dimensions:  800 550\n",
      "Starting to extract posture\n"
     ]
    },
    {
     "name": "stderr",
     "output_type": "stream",
     "text": [
      "\n",
      "\n",
      "\n",
      "\n",
      "\n",
      "\n",
      "  0%|                                                                                          | 0/400 [00:00<?, ?it/s]\u001b[A\u001b[A\u001b[A\u001b[A\u001b[A\u001b[A"
     ]
    },
    {
     "name": "stdout",
     "output_type": "stream",
     "text": [
      "Starting to analyze %  D:\\Sidevideos\\ar34motor\\2022_02_03\\131.avi\n",
      "D:\\Sidevideos\\ar34motor\\2022_02_03  already exists!\n",
      "Loading  D:\\Sidevideos\\ar34motor\\2022_02_03\\131.avi\n",
      "Duration of video [s]:  10.0 , recorded with  40.0 fps!\n",
      "Overall # of frames:  400  found with (before cropping) frame dimensions:  800 550\n",
      "Starting to extract posture\n"
     ]
    },
    {
     "name": "stderr",
     "output_type": "stream",
     "text": [
      "\n",
      "\n",
      "\n",
      "\n",
      "\n",
      "\n",
      "\n",
      "  0%|                                                                                          | 0/400 [00:00<?, ?it/s]\u001b[A\u001b[A\u001b[A\u001b[A\u001b[A\u001b[A\u001b[A"
     ]
    },
    {
     "name": "stdout",
     "output_type": "stream",
     "text": [
      "Starting to analyze %  D:\\Sidevideos\\ar34motor\\2022_02_03\\132.avi\n",
      "D:\\Sidevideos\\ar34motor\\2022_02_03  already exists!\n",
      "Loading  D:\\Sidevideos\\ar34motor\\2022_02_03\\132.avi\n",
      "Duration of video [s]:  10.0 , recorded with  40.0 fps!\n",
      "Overall # of frames:  400  found with (before cropping) frame dimensions:  800 550\n",
      "Starting to extract posture\n"
     ]
    },
    {
     "name": "stderr",
     "output_type": "stream",
     "text": [
      "\n",
      "\n",
      "\n",
      "\n",
      "\n",
      "\n",
      "\n",
      "\n",
      "  0%|                                                                                          | 0/400 [00:00<?, ?it/s]\u001b[A\u001b[A\u001b[A\u001b[A\u001b[A\u001b[A\u001b[A\u001b[A"
     ]
    },
    {
     "name": "stdout",
     "output_type": "stream",
     "text": [
      "Starting to analyze %  D:\\Sidevideos\\ar34motor\\2022_02_03\\133.avi\n",
      "D:\\Sidevideos\\ar34motor\\2022_02_03  already exists!\n",
      "Loading  D:\\Sidevideos\\ar34motor\\2022_02_03\\133.avi\n",
      "Duration of video [s]:  10.0 , recorded with  40.0 fps!\n",
      "Overall # of frames:  400  found with (before cropping) frame dimensions:  800 550\n",
      "Starting to extract posture\n"
     ]
    },
    {
     "name": "stderr",
     "output_type": "stream",
     "text": [
      "\n",
      "\n",
      "\n",
      "\n",
      "\n",
      "\n",
      "\n",
      "\n",
      "\n",
      "  0%|                                                                                          | 0/400 [00:00<?, ?it/s]\u001b[A\u001b[A\u001b[A\u001b[A\u001b[A\u001b[A\u001b[A\u001b[A\u001b[A"
     ]
    },
    {
     "name": "stdout",
     "output_type": "stream",
     "text": [
      "Starting to analyze %  D:\\Sidevideos\\ar34motor\\2022_02_03\\134.avi\n",
      "D:\\Sidevideos\\ar34motor\\2022_02_03  already exists!\n",
      "Loading  D:\\Sidevideos\\ar34motor\\2022_02_03\\134.avi\n",
      "Duration of video [s]:  10.0 , recorded with  40.0 fps!\n",
      "Overall # of frames:  400  found with (before cropping) frame dimensions:  800 550\n",
      "Starting to extract posture\n"
     ]
    },
    {
     "name": "stderr",
     "output_type": "stream",
     "text": [
      "\n",
      "\n",
      "\n",
      "\n",
      "\n",
      "\n",
      "\n",
      "\n",
      "\n",
      "\n",
      "  0%|                                                                                          | 0/400 [00:00<?, ?it/s]\u001b[A\u001b[A\u001b[A\u001b[A\u001b[A\u001b[A\u001b[A\u001b[A\u001b[A\u001b[A"
     ]
    },
    {
     "name": "stdout",
     "output_type": "stream",
     "text": [
      "Starting to analyze %  D:\\Sidevideos\\ar34motor\\2022_02_03\\135.avi\n",
      "D:\\Sidevideos\\ar34motor\\2022_02_03  already exists!\n",
      "Loading  D:\\Sidevideos\\ar34motor\\2022_02_03\\135.avi\n",
      "Duration of video [s]:  10.0 , recorded with  40.0 fps!\n",
      "Overall # of frames:  400  found with (before cropping) frame dimensions:  800 550\n",
      "Starting to extract posture\n"
     ]
    },
    {
     "name": "stderr",
     "output_type": "stream",
     "text": [
      "\n",
      "\n",
      "\n",
      "\n",
      "\n",
      "\n",
      "\n",
      "\n",
      "\n",
      "\n",
      "\n",
      "  0%|                                                                                          | 0/400 [00:00<?, ?it/s]\u001b[A\u001b[A\u001b[A\u001b[A\u001b[A\u001b[A\u001b[A\u001b[A\u001b[A\u001b[A\u001b[A"
     ]
    },
    {
     "name": "stdout",
     "output_type": "stream",
     "text": [
      "Starting to analyze %  D:\\Sidevideos\\ar34motor\\2022_02_03\\136.avi\n",
      "D:\\Sidevideos\\ar34motor\\2022_02_03  already exists!\n",
      "Loading  D:\\Sidevideos\\ar34motor\\2022_02_03\\136.avi\n",
      "Duration of video [s]:  10.0 , recorded with  40.0 fps!\n",
      "Overall # of frames:  400  found with (before cropping) frame dimensions:  800 550\n",
      "Starting to extract posture\n"
     ]
    },
    {
     "name": "stderr",
     "output_type": "stream",
     "text": [
      "\n",
      "\n",
      "\n",
      "\n",
      "\n",
      "\n",
      "\n",
      "\n",
      "\n",
      "\n",
      "\n",
      "\n",
      "  0%|                                                                                          | 0/400 [00:00<?, ?it/s]\u001b[A\u001b[A\u001b[A\u001b[A\u001b[A\u001b[A\u001b[A\u001b[A\u001b[A\u001b[A\u001b[A\u001b[A"
     ]
    },
    {
     "name": "stdout",
     "output_type": "stream",
     "text": [
      "Starting to analyze %  D:\\Sidevideos\\ar34motor\\2022_02_03\\137.avi\n",
      "D:\\Sidevideos\\ar34motor\\2022_02_03  already exists!\n",
      "Loading  D:\\Sidevideos\\ar34motor\\2022_02_03\\137.avi\n",
      "Duration of video [s]:  10.0 , recorded with  40.0 fps!\n",
      "Overall # of frames:  400  found with (before cropping) frame dimensions:  800 550\n",
      "Starting to extract posture\n"
     ]
    },
    {
     "name": "stderr",
     "output_type": "stream",
     "text": [
      "\n",
      "\n",
      "\n",
      "\n",
      "\n",
      "\n",
      "\n",
      "\n",
      "\n",
      "\n",
      "\n",
      "\n",
      "\n",
      "  0%|                                                                                          | 0/400 [00:00<?, ?it/s]\u001b[A\u001b[A\u001b[A\u001b[A\u001b[A\u001b[A\u001b[A\u001b[A\u001b[A\u001b[A\u001b[A\u001b[A\u001b[A"
     ]
    },
    {
     "name": "stdout",
     "output_type": "stream",
     "text": [
      "Starting to analyze %  D:\\Sidevideos\\ar34motor\\2022_02_03\\138.avi\n",
      "D:\\Sidevideos\\ar34motor\\2022_02_03  already exists!\n",
      "Loading  D:\\Sidevideos\\ar34motor\\2022_02_03\\138.avi\n",
      "Duration of video [s]:  10.0 , recorded with  40.0 fps!\n",
      "Overall # of frames:  400  found with (before cropping) frame dimensions:  800 550\n",
      "Starting to extract posture\n"
     ]
    },
    {
     "name": "stderr",
     "output_type": "stream",
     "text": [
      "\n",
      "\n",
      "\n",
      "\n",
      "\n",
      "\n",
      "\n",
      "\n",
      "\n",
      "\n",
      "\n",
      "\n",
      "\n",
      "\n",
      "  0%|                                                                                          | 0/400 [00:00<?, ?it/s]\u001b[A\u001b[A\u001b[A\u001b[A\u001b[A\u001b[A\u001b[A\u001b[A\u001b[A\u001b[A\u001b[A\u001b[A\u001b[A\u001b[A"
     ]
    },
    {
     "name": "stdout",
     "output_type": "stream",
     "text": [
      "Starting to analyze %  D:\\Sidevideos\\ar34motor\\2022_02_03\\139.avi\n",
      "D:\\Sidevideos\\ar34motor\\2022_02_03  already exists!\n",
      "Loading  D:\\Sidevideos\\ar34motor\\2022_02_03\\139.avi\n",
      "Duration of video [s]:  10.0 , recorded with  40.0 fps!\n",
      "Overall # of frames:  400  found with (before cropping) frame dimensions:  800 550\n",
      "Starting to extract posture\n"
     ]
    },
    {
     "name": "stderr",
     "output_type": "stream",
     "text": [
      "\n",
      "\n",
      "\n",
      "\n",
      "\n",
      "\n",
      "\n",
      "\n",
      "\n",
      "\n",
      "\n",
      "\n",
      "\n",
      "\n",
      "\n",
      "  0%|                                                                                          | 0/400 [00:00<?, ?it/s]\u001b[A\u001b[A\u001b[A\u001b[A\u001b[A\u001b[A\u001b[A\u001b[A\u001b[A\u001b[A\u001b[A\u001b[A\u001b[A\u001b[A\u001b[A"
     ]
    },
    {
     "name": "stdout",
     "output_type": "stream",
     "text": [
      "Starting to analyze %  D:\\Sidevideos\\ar34motor\\2022_02_03\\14.avi\n",
      "D:\\Sidevideos\\ar34motor\\2022_02_03  already exists!\n",
      "Loading  D:\\Sidevideos\\ar34motor\\2022_02_03\\14.avi\n",
      "Duration of video [s]:  10.0 , recorded with  40.0 fps!\n",
      "Overall # of frames:  400  found with (before cropping) frame dimensions:  800 550\n",
      "Starting to extract posture\n"
     ]
    },
    {
     "name": "stderr",
     "output_type": "stream",
     "text": [
      "\n",
      "\n",
      "\n",
      "\n",
      "\n",
      "\n",
      "\n",
      "\n",
      "\n",
      "\n",
      "\n",
      "\n",
      "\n",
      "\n",
      "\n",
      "\n",
      "  0%|                                                                                          | 0/400 [00:00<?, ?it/s]\u001b[A\u001b[A\u001b[A\u001b[A\u001b[A\u001b[A\u001b[A\u001b[A\u001b[A\u001b[A\u001b[A\u001b[A\u001b[A\u001b[A\u001b[A\u001b[A"
     ]
    },
    {
     "name": "stdout",
     "output_type": "stream",
     "text": [
      "Starting to analyze %  D:\\Sidevideos\\ar34motor\\2022_02_03\\140.avi\n",
      "D:\\Sidevideos\\ar34motor\\2022_02_03  already exists!\n",
      "Loading  D:\\Sidevideos\\ar34motor\\2022_02_03\\140.avi\n",
      "Duration of video [s]:  10.0 , recorded with  40.0 fps!\n",
      "Overall # of frames:  400  found with (before cropping) frame dimensions:  800 550\n",
      "Starting to extract posture\n"
     ]
    },
    {
     "name": "stderr",
     "output_type": "stream",
     "text": [
      "\n",
      "\n",
      "\n",
      "\n",
      "\n",
      "\n",
      "\n",
      "\n",
      "\n",
      "\n",
      "\n",
      "\n",
      "\n",
      "\n",
      "\n",
      "\n",
      "\n",
      "  0%|                                                                                          | 0/400 [00:00<?, ?it/s]\u001b[A\u001b[A\u001b[A\u001b[A\u001b[A\u001b[A\u001b[A\u001b[A\u001b[A\u001b[A\u001b[A\u001b[A\u001b[A\u001b[A\u001b[A\u001b[A\u001b[A"
     ]
    },
    {
     "name": "stdout",
     "output_type": "stream",
     "text": [
      "Starting to analyze %  D:\\Sidevideos\\ar34motor\\2022_02_03\\141.avi\n",
      "D:\\Sidevideos\\ar34motor\\2022_02_03  already exists!\n",
      "Loading  D:\\Sidevideos\\ar34motor\\2022_02_03\\141.avi\n",
      "Duration of video [s]:  10.0 , recorded with  40.0 fps!\n",
      "Overall # of frames:  400  found with (before cropping) frame dimensions:  800 550\n",
      "Starting to extract posture\n"
     ]
    },
    {
     "name": "stderr",
     "output_type": "stream",
     "text": [
      "\n",
      "\n",
      "\n",
      "\n",
      "\n",
      "\n",
      "\n",
      "\n",
      "\n",
      "\n",
      "\n",
      "\n",
      "\n",
      "\n",
      "\n",
      "\n",
      "\n",
      "\n",
      "  0%|                                                                                          | 0/400 [00:00<?, ?it/s]\u001b[A\u001b[A\u001b[A\u001b[A\u001b[A\u001b[A\u001b[A\u001b[A\u001b[A\u001b[A\u001b[A\u001b[A\u001b[A\u001b[A\u001b[A\u001b[A\u001b[A\u001b[A"
     ]
    },
    {
     "name": "stdout",
     "output_type": "stream",
     "text": [
      "Starting to analyze %  D:\\Sidevideos\\ar34motor\\2022_02_03\\142.avi\n",
      "D:\\Sidevideos\\ar34motor\\2022_02_03  already exists!\n",
      "Loading  D:\\Sidevideos\\ar34motor\\2022_02_03\\142.avi\n",
      "Duration of video [s]:  10.0 , recorded with  40.0 fps!\n",
      "Overall # of frames:  400  found with (before cropping) frame dimensions:  800 550\n",
      "Starting to extract posture\n"
     ]
    },
    {
     "name": "stderr",
     "output_type": "stream",
     "text": [
      "\n",
      "\n",
      "\n",
      "\n",
      "\n",
      "\n",
      "\n",
      "\n",
      "\n",
      "\n",
      "\n",
      "\n",
      "\n",
      "\n",
      "\n",
      "\n",
      "\n",
      "\n",
      "\n",
      "  0%|                                                                                          | 0/400 [00:00<?, ?it/s]\u001b[A\u001b[A\u001b[A\u001b[A\u001b[A\u001b[A\u001b[A\u001b[A\u001b[A\u001b[A\u001b[A\u001b[A\u001b[A\u001b[A\u001b[A\u001b[A\u001b[A\u001b[A\u001b[A"
     ]
    },
    {
     "name": "stdout",
     "output_type": "stream",
     "text": [
      "Starting to analyze %  D:\\Sidevideos\\ar34motor\\2022_02_03\\143.avi\n",
      "D:\\Sidevideos\\ar34motor\\2022_02_03  already exists!\n",
      "Loading  D:\\Sidevideos\\ar34motor\\2022_02_03\\143.avi\n",
      "Duration of video [s]:  10.0 , recorded with  40.0 fps!\n",
      "Overall # of frames:  400  found with (before cropping) frame dimensions:  800 550\n",
      "Starting to extract posture\n"
     ]
    },
    {
     "name": "stderr",
     "output_type": "stream",
     "text": [
      "\n",
      "\n",
      "\n",
      "\n",
      "\n",
      "\n",
      "\n",
      "\n",
      "\n",
      "\n",
      "\n",
      "\n",
      "\n",
      "\n",
      "\n",
      "\n",
      "\n",
      "\n",
      "\n",
      "\n",
      "  0%|                                                                                          | 0/400 [00:00<?, ?it/s]\u001b[A\u001b[A\u001b[A\u001b[A\u001b[A\u001b[A\u001b[A\u001b[A\u001b[A\u001b[A\u001b[A\u001b[A\u001b[A\u001b[A\u001b[A\u001b[A\u001b[A\u001b[A\u001b[A\u001b[A"
     ]
    },
    {
     "name": "stdout",
     "output_type": "stream",
     "text": [
      "Starting to analyze %  D:\\Sidevideos\\ar34motor\\2022_02_03\\144.avi\n",
      "D:\\Sidevideos\\ar34motor\\2022_02_03  already exists!\n",
      "Loading  D:\\Sidevideos\\ar34motor\\2022_02_03\\144.avi\n",
      "Duration of video [s]:  10.0 , recorded with  40.0 fps!\n",
      "Overall # of frames:  400  found with (before cropping) frame dimensions:  800 550\n",
      "Starting to extract posture\n"
     ]
    },
    {
     "name": "stderr",
     "output_type": "stream",
     "text": [
      "\n",
      "\n",
      "\n",
      "\n",
      "\n",
      "\n",
      "\n",
      "\n",
      "\n",
      "\n",
      "\n",
      "\n",
      "\n",
      "\n",
      "\n",
      "\n",
      "\n",
      "\n",
      "\n",
      "\n",
      "\n",
      "  0%|                                                                                          | 0/400 [00:00<?, ?it/s]\u001b[A\u001b[A\u001b[A\u001b[A\u001b[A\u001b[A\u001b[A\u001b[A\u001b[A\u001b[A\u001b[A\u001b[A\u001b[A\u001b[A\u001b[A\u001b[A\u001b[A\u001b[A\u001b[A\u001b[A\u001b[A"
     ]
    },
    {
     "name": "stdout",
     "output_type": "stream",
     "text": [
      "Starting to analyze %  D:\\Sidevideos\\ar34motor\\2022_02_03\\145.avi\n",
      "D:\\Sidevideos\\ar34motor\\2022_02_03  already exists!\n",
      "Loading  D:\\Sidevideos\\ar34motor\\2022_02_03\\145.avi\n",
      "Duration of video [s]:  10.0 , recorded with  40.0 fps!\n",
      "Overall # of frames:  400  found with (before cropping) frame dimensions:  800 550\n",
      "Starting to extract posture\n"
     ]
    },
    {
     "name": "stderr",
     "output_type": "stream",
     "text": [
      "\n",
      "\n",
      "\n",
      "\n",
      "\n",
      "\n",
      "\n",
      "\n",
      "\n",
      "\n",
      "\n",
      "\n",
      "\n",
      "\n",
      "\n",
      "\n",
      "\n",
      "\n",
      "\n",
      "\n",
      "\n",
      "\n",
      "  0%|                                                                                          | 0/400 [00:00<?, ?it/s]\u001b[A\u001b[A\u001b[A\u001b[A\u001b[A\u001b[A\u001b[A\u001b[A\u001b[A\u001b[A\u001b[A\u001b[A\u001b[A\u001b[A\u001b[A\u001b[A\u001b[A\u001b[A\u001b[A\u001b[A\u001b[A\u001b[A"
     ]
    },
    {
     "name": "stdout",
     "output_type": "stream",
     "text": [
      "Starting to analyze %  D:\\Sidevideos\\ar34motor\\2022_02_03\\146.avi\n",
      "D:\\Sidevideos\\ar34motor\\2022_02_03  already exists!\n",
      "Loading  D:\\Sidevideos\\ar34motor\\2022_02_03\\146.avi\n",
      "Duration of video [s]:  10.0 , recorded with  40.0 fps!\n",
      "Overall # of frames:  400  found with (before cropping) frame dimensions:  800 550\n",
      "Starting to extract posture\n"
     ]
    },
    {
     "name": "stderr",
     "output_type": "stream",
     "text": [
      "\n",
      "\n",
      "\n",
      "\n",
      "\n",
      "\n",
      "\n",
      "\n",
      "\n",
      "\n",
      "\n",
      "\n",
      "\n",
      "\n",
      "\n",
      "\n",
      "\n",
      "\n",
      "\n",
      "\n",
      "\n",
      "\n",
      "\n",
      "  0%|                                                                                          | 0/400 [00:00<?, ?it/s]\u001b[A\u001b[A\u001b[A\u001b[A\u001b[A\u001b[A\u001b[A\u001b[A\u001b[A\u001b[A\u001b[A\u001b[A\u001b[A\u001b[A\u001b[A\u001b[A\u001b[A\u001b[A\u001b[A\u001b[A\u001b[A\u001b[A\u001b[A"
     ]
    },
    {
     "name": "stdout",
     "output_type": "stream",
     "text": [
      "Starting to analyze %  D:\\Sidevideos\\ar34motor\\2022_02_03\\147.avi\n",
      "D:\\Sidevideos\\ar34motor\\2022_02_03  already exists!\n",
      "Loading  D:\\Sidevideos\\ar34motor\\2022_02_03\\147.avi\n",
      "Duration of video [s]:  10.0 , recorded with  40.0 fps!\n",
      "Overall # of frames:  400  found with (before cropping) frame dimensions:  800 550\n",
      "Starting to extract posture\n"
     ]
    },
    {
     "name": "stderr",
     "output_type": "stream",
     "text": [
      "\n",
      "\n",
      "\n",
      "\n",
      "\n",
      "\n",
      "\n",
      "\n",
      "\n",
      "\n",
      "\n",
      "\n",
      "\n",
      "\n",
      "\n",
      "\n",
      "\n",
      "\n",
      "\n",
      "\n",
      "\n",
      "\n",
      "\n",
      "\n",
      "\n",
      "  0%|                                                                                          | 0/400 [00:00<?, ?it/s]\u001b[A\u001b[A\u001b[A\u001b[A\u001b[A\u001b[A\u001b[A\u001b[A\u001b[A\u001b[A\u001b[A\u001b[A\u001b[A\u001b[A\u001b[A\u001b[A\u001b[A\u001b[A\u001b[A\u001b[A\u001b[A\u001b[A\u001b[A\u001b[A\u001b[A"
     ]
    },
    {
     "name": "stdout",
     "output_type": "stream",
     "text": [
      "Starting to analyze %  D:\\Sidevideos\\ar34motor\\2022_02_03\\148.avi\n",
      "D:\\Sidevideos\\ar34motor\\2022_02_03  already exists!\n",
      "Loading  D:\\Sidevideos\\ar34motor\\2022_02_03\\148.avi\n",
      "Duration of video [s]:  10.0 , recorded with  40.0 fps!\n",
      "Overall # of frames:  400  found with (before cropping) frame dimensions:  800 550\n",
      "Starting to extract posture\n"
     ]
    },
    {
     "name": "stderr",
     "output_type": "stream",
     "text": [
      "\n",
      "\n",
      "\n",
      "\n",
      "\n",
      "\n",
      "\n",
      "\n",
      "\n",
      "\n",
      "\n",
      "\n",
      "\n",
      "\n",
      "\n",
      "\n",
      "\n",
      "\n",
      "\n",
      "\n",
      "\n",
      "\n",
      "\n",
      "\n",
      "\n",
      "\n",
      "  0%|                                                                                          | 0/400 [00:00<?, ?it/s]\u001b[A\u001b[A\u001b[A\u001b[A\u001b[A\u001b[A\u001b[A\u001b[A\u001b[A\u001b[A\u001b[A\u001b[A\u001b[A\u001b[A\u001b[A\u001b[A\u001b[A\u001b[A\u001b[A\u001b[A\u001b[A\u001b[A\u001b[A\u001b[A\u001b[A\u001b[A"
     ]
    },
    {
     "name": "stdout",
     "output_type": "stream",
     "text": [
      "Starting to analyze %  D:\\Sidevideos\\ar34motor\\2022_02_03\\149.avi\n",
      "D:\\Sidevideos\\ar34motor\\2022_02_03  already exists!\n",
      "Loading  D:\\Sidevideos\\ar34motor\\2022_02_03\\149.avi\n",
      "Duration of video [s]:  10.0 , recorded with  40.0 fps!\n",
      "Overall # of frames:  400  found with (before cropping) frame dimensions:  800 550\n",
      "Starting to extract posture\n"
     ]
    },
    {
     "name": "stderr",
     "output_type": "stream",
     "text": [
      "\n",
      "\n",
      "\n",
      "\n",
      "\n",
      "\n",
      "\n",
      "\n",
      "\n",
      "\n",
      "\n",
      "\n",
      "\n",
      "\n",
      "\n",
      "\n",
      "\n",
      "\n",
      "\n",
      "\n",
      "\n",
      "\n",
      "\n",
      "\n",
      "\n",
      "\n",
      "\n",
      "  0%|                                                                                          | 0/400 [00:00<?, ?it/s]\u001b[A\u001b[A\u001b[A\u001b[A\u001b[A\u001b[A\u001b[A\u001b[A\u001b[A\u001b[A\u001b[A\u001b[A\u001b[A\u001b[A\u001b[A\u001b[A\u001b[A\u001b[A\u001b[A\u001b[A\u001b[A\u001b[A\u001b[A\u001b[A\u001b[A\u001b[A\u001b[A"
     ]
    },
    {
     "name": "stdout",
     "output_type": "stream",
     "text": [
      "Starting to analyze %  D:\\Sidevideos\\ar34motor\\2022_02_03\\15.avi\n",
      "D:\\Sidevideos\\ar34motor\\2022_02_03  already exists!\n",
      "Loading  D:\\Sidevideos\\ar34motor\\2022_02_03\\15.avi\n",
      "Duration of video [s]:  10.0 , recorded with  40.0 fps!\n",
      "Overall # of frames:  400  found with (before cropping) frame dimensions:  800 550\n",
      "Starting to extract posture\n"
     ]
    },
    {
     "name": "stderr",
     "output_type": "stream",
     "text": [
      "\n",
      "\n",
      "\n",
      "\n",
      "\n",
      "\n",
      "\n",
      "\n",
      "\n",
      "\n",
      "\n",
      "\n",
      "\n",
      "\n",
      "\n",
      "\n",
      "\n",
      "\n",
      "\n",
      "\n",
      "\n",
      "\n",
      "\n",
      "\n",
      "\n",
      "\n",
      "\n",
      "\n",
      " ... (more hidden) ...\u001b[A\u001b[A\u001b[A\u001b[A\u001b[A\u001b[A\u001b[A\u001b[A\u001b[A\u001b[A\u001b[A\u001b[A\u001b[A\u001b[A\u001b[A\u001b[A\u001b[A\u001b[A\u001b[A\u001b[A\u001b[A\u001b[A\u001b[A\u001b[A\u001b[A\u001b[A\u001b[A\u001b[A\n",
      "\n",
      "\n",
      "\n",
      "\n",
      "\n",
      "\n",
      "\n",
      "\n",
      "\n",
      "\n",
      "\n",
      "\n",
      "\n",
      "\n",
      "\n",
      "\n",
      "\n",
      "\n",
      "\n",
      "\n",
      "\n",
      "\n",
      "\n",
      "\n",
      "\n",
      "\n",
      "\n",
      "  2%|██                                                                               | 10/400 [00:02<01:39,  3.91it/s]\n",
      "  2%|██                                                                               | 10/400 [00:02<01:36,  4.06it/s]\n",
      "  2%|██                                                                               | 10/400 [00:02<01:32,  4.23it/s]\n",
      "  2%|██                                                                               | 10/400 [00:02<01:28,  4.40it/s]\n",
      "  2%|██                                                                               | 10/400 [00:02<01:24,  4.60it/s]\n",
      "  2%|██                                                                               | 10/400 [00:02<01:20,  4.82it/s]\n",
      "  2%|██                                                                               | 10/400 [00:01<01:17,  5.04it/s]\n",
      "  2%|██                                                                               | 10/400 [00:01<01:13,  5.30it/s]\n",
      "  2%|██                                                                               | 10/400 [00:01<01:09,  5.59it/s]\n",
      "  2%|██                                                                               | 10/400 [00:01<01:06,  5.90it/s]\n",
      "  2%|██                                                                               | 10/400 [00:01<01:02,  6.24it/s]\n",
      "  2%|██                                                                               | 10/400 [00:01<00:59,  6.57it/s]\n",
      "  2%|██                                                                               | 10/400 [00:01<00:55,  7.01it/s]\n",
      "  2%|██                                                                               | 10/400 [00:01<00:52,  7.48it/s]\n",
      "  2%|██                                                                               | 10/400 [00:01<00:48,  8.11it/s]\n",
      "  2%|██                                                                               | 10/400 [00:01<00:44,  8.75it/s]\n",
      "  2%|██                                                                               | 10/400 [00:01<00:41,  9.51it/s]\n",
      "  2%|██                                                                               | 10/400 [00:00<00:37, 10.43it/s]\n",
      "  2%|██                                                                               | 10/400 [00:00<00:33, 11.56it/s]\n",
      "  2%|██                                                                               | 10/400 [00:00<00:30, 13.00it/s]\n",
      "  2%|██                                                                               | 10/400 [00:00<00:25, 15.02it/s]\n",
      "  2%|██                                                                               | 10/400 [00:00<00:22, 17.30it/s]\n",
      "  2%|██                                                                               | 10/400 [00:00<00:18, 20.67it/s]\n",
      "  2%|██                                                                               | 10/400 [00:00<00:15, 25.95it/s]\n",
      "  2%|██                                                                               | 10/400 [00:00<00:11, 34.16it/s]\n",
      "  2%|██                                                                               | 10/400 [00:00<00:07, 50.47it/s]\n"
     ]
    },
    {
     "name": "stdout",
     "output_type": "stream",
     "text": [
      "Starting to analyze %  D:\\Sidevideos\\ar34motor\\2022_02_03\\150.avi\n",
      "D:\\Sidevideos\\ar34motor\\2022_02_03  already exists!\n",
      "Loading  D:\\Sidevideos\\ar34motor\\2022_02_03\\150.avi\n",
      "Duration of video [s]:  10.0 , recorded with  40.0 fps!\n",
      "Overall # of frames:  400  found with (before cropping) frame dimensions:  800 550\n",
      "Starting to extract posture\n"
     ]
    },
    {
     "name": "stderr",
     "output_type": "stream",
     "text": [
      "\n",
      "\n",
      "  0%|                                                                                          | 0/400 [00:00<?, ?it/s]\u001b[A\u001b[A"
     ]
    },
    {
     "name": "stdout",
     "output_type": "stream",
     "text": [
      "Starting to analyze %  D:\\Sidevideos\\ar34motor\\2022_02_03\\151.avi\n",
      "D:\\Sidevideos\\ar34motor\\2022_02_03  already exists!\n",
      "Loading  D:\\Sidevideos\\ar34motor\\2022_02_03\\151.avi\n",
      "Duration of video [s]:  10.0 , recorded with  40.0 fps!\n",
      "Overall # of frames:  400  found with (before cropping) frame dimensions:  800 550\n",
      "Starting to extract posture\n"
     ]
    },
    {
     "name": "stderr",
     "output_type": "stream",
     "text": [
      "\n",
      "\n",
      "\n",
      "  0%|                                                                                          | 0/400 [00:00<?, ?it/s]\u001b[A\u001b[A\u001b[A"
     ]
    },
    {
     "name": "stdout",
     "output_type": "stream",
     "text": [
      "Starting to analyze %  D:\\Sidevideos\\ar34motor\\2022_02_03\\152.avi\n",
      "D:\\Sidevideos\\ar34motor\\2022_02_03  already exists!\n",
      "Loading  D:\\Sidevideos\\ar34motor\\2022_02_03\\152.avi\n",
      "Duration of video [s]:  10.0 , recorded with  40.0 fps!\n",
      "Overall # of frames:  400  found with (before cropping) frame dimensions:  800 550\n",
      "Starting to extract posture\n"
     ]
    },
    {
     "name": "stderr",
     "output_type": "stream",
     "text": [
      "\n",
      "\n",
      "\n",
      "\n",
      "  0%|                                                                                          | 0/400 [00:00<?, ?it/s]\u001b[A\u001b[A\u001b[A\u001b[A"
     ]
    },
    {
     "name": "stdout",
     "output_type": "stream",
     "text": [
      "Starting to analyze %  D:\\Sidevideos\\ar34motor\\2022_02_03\\153.avi\n",
      "D:\\Sidevideos\\ar34motor\\2022_02_03  already exists!\n",
      "Loading  D:\\Sidevideos\\ar34motor\\2022_02_03\\153.avi\n",
      "Duration of video [s]:  10.0 , recorded with  40.0 fps!\n",
      "Overall # of frames:  400  found with (before cropping) frame dimensions:  800 550\n",
      "Starting to extract posture\n"
     ]
    },
    {
     "name": "stderr",
     "output_type": "stream",
     "text": [
      "\n",
      "\n",
      "\n",
      "\n",
      "\n",
      "  0%|                                                                                          | 0/400 [00:00<?, ?it/s]\u001b[A\u001b[A\u001b[A\u001b[A\u001b[A"
     ]
    },
    {
     "name": "stdout",
     "output_type": "stream",
     "text": [
      "Starting to analyze %  D:\\Sidevideos\\ar34motor\\2022_02_03\\154.avi\n",
      "D:\\Sidevideos\\ar34motor\\2022_02_03  already exists!\n",
      "Loading  D:\\Sidevideos\\ar34motor\\2022_02_03\\154.avi\n",
      "Duration of video [s]:  10.0 , recorded with  40.0 fps!\n",
      "Overall # of frames:  400  found with (before cropping) frame dimensions:  800 550\n",
      "Starting to extract posture\n"
     ]
    },
    {
     "name": "stderr",
     "output_type": "stream",
     "text": [
      "\n",
      "\n",
      "\n",
      "\n",
      "\n",
      "\n",
      "  0%|                                                                                          | 0/400 [00:00<?, ?it/s]\u001b[A\u001b[A\u001b[A\u001b[A\u001b[A\u001b[A"
     ]
    },
    {
     "name": "stdout",
     "output_type": "stream",
     "text": [
      "Starting to analyze %  D:\\Sidevideos\\ar34motor\\2022_02_03\\155.avi\n",
      "D:\\Sidevideos\\ar34motor\\2022_02_03  already exists!\n",
      "Loading  D:\\Sidevideos\\ar34motor\\2022_02_03\\155.avi\n",
      "Duration of video [s]:  10.0 , recorded with  40.0 fps!\n",
      "Overall # of frames:  400  found with (before cropping) frame dimensions:  800 550\n",
      "Starting to extract posture\n"
     ]
    },
    {
     "name": "stderr",
     "output_type": "stream",
     "text": [
      "\n",
      "\n",
      "\n",
      "\n",
      "\n",
      "\n",
      "\n",
      "  0%|                                                                                          | 0/400 [00:00<?, ?it/s]\u001b[A\u001b[A\u001b[A\u001b[A\u001b[A\u001b[A\u001b[A"
     ]
    },
    {
     "name": "stdout",
     "output_type": "stream",
     "text": [
      "Starting to analyze %  D:\\Sidevideos\\ar34motor\\2022_02_03\\156.avi\n",
      "D:\\Sidevideos\\ar34motor\\2022_02_03  already exists!\n",
      "Loading  D:\\Sidevideos\\ar34motor\\2022_02_03\\156.avi\n",
      "Duration of video [s]:  10.0 , recorded with  40.0 fps!\n",
      "Overall # of frames:  400  found with (before cropping) frame dimensions:  800 550\n",
      "Starting to extract posture\n"
     ]
    },
    {
     "name": "stderr",
     "output_type": "stream",
     "text": [
      "\n",
      "\n",
      "\n",
      "\n",
      "\n",
      "\n",
      "\n",
      "\n",
      "  0%|                                                                                          | 0/400 [00:00<?, ?it/s]\u001b[A\u001b[A\u001b[A\u001b[A\u001b[A\u001b[A\u001b[A\u001b[A"
     ]
    },
    {
     "name": "stdout",
     "output_type": "stream",
     "text": [
      "Starting to analyze %  D:\\Sidevideos\\ar34motor\\2022_02_03\\157.avi\n",
      "D:\\Sidevideos\\ar34motor\\2022_02_03  already exists!\n",
      "Loading  D:\\Sidevideos\\ar34motor\\2022_02_03\\157.avi\n",
      "Duration of video [s]:  10.0 , recorded with  40.0 fps!\n",
      "Overall # of frames:  400  found with (before cropping) frame dimensions:  800 550\n",
      "Starting to extract posture\n"
     ]
    },
    {
     "name": "stderr",
     "output_type": "stream",
     "text": [
      "\n",
      "\n",
      "\n",
      "\n",
      "\n",
      "\n",
      "\n",
      "\n",
      "\n",
      "  0%|                                                                                          | 0/400 [00:00<?, ?it/s]\u001b[A\u001b[A\u001b[A\u001b[A\u001b[A\u001b[A\u001b[A\u001b[A\u001b[A"
     ]
    },
    {
     "name": "stdout",
     "output_type": "stream",
     "text": [
      "Starting to analyze %  D:\\Sidevideos\\ar34motor\\2022_02_03\\158.avi\n",
      "D:\\Sidevideos\\ar34motor\\2022_02_03  already exists!\n",
      "Loading  D:\\Sidevideos\\ar34motor\\2022_02_03\\158.avi\n",
      "Duration of video [s]:  10.0 , recorded with  40.0 fps!\n",
      "Overall # of frames:  400  found with (before cropping) frame dimensions:  800 550\n",
      "Starting to extract posture\n"
     ]
    },
    {
     "name": "stderr",
     "output_type": "stream",
     "text": [
      "\n",
      "\n",
      "\n",
      "\n",
      "\n",
      "\n",
      "\n",
      "\n",
      "\n",
      "\n",
      "  0%|                                                                                          | 0/400 [00:00<?, ?it/s]\u001b[A\u001b[A\u001b[A\u001b[A\u001b[A\u001b[A\u001b[A\u001b[A\u001b[A\u001b[A"
     ]
    },
    {
     "name": "stdout",
     "output_type": "stream",
     "text": [
      "Starting to analyze %  D:\\Sidevideos\\ar34motor\\2022_02_03\\16.avi\n",
      "D:\\Sidevideos\\ar34motor\\2022_02_03  already exists!\n",
      "Loading  D:\\Sidevideos\\ar34motor\\2022_02_03\\16.avi\n",
      "Duration of video [s]:  10.0 , recorded with  40.0 fps!\n",
      "Overall # of frames:  400  found with (before cropping) frame dimensions:  800 550\n",
      "Starting to extract posture\n"
     ]
    },
    {
     "name": "stderr",
     "output_type": "stream",
     "text": [
      "\n",
      "\n",
      "\n",
      "\n",
      "\n",
      "\n",
      "\n",
      "\n",
      "\n",
      "\n",
      "\n",
      "  0%|                                                                                          | 0/400 [00:00<?, ?it/s]\u001b[A\u001b[A\u001b[A\u001b[A\u001b[A\u001b[A\u001b[A\u001b[A\u001b[A\u001b[A\u001b[A"
     ]
    },
    {
     "name": "stdout",
     "output_type": "stream",
     "text": [
      "Starting to analyze %  D:\\Sidevideos\\ar34motor\\2022_02_03\\17.avi\n",
      "D:\\Sidevideos\\ar34motor\\2022_02_03  already exists!\n",
      "Loading  D:\\Sidevideos\\ar34motor\\2022_02_03\\17.avi\n",
      "Duration of video [s]:  10.0 , recorded with  40.0 fps!\n",
      "Overall # of frames:  400  found with (before cropping) frame dimensions:  800 550\n",
      "Starting to extract posture\n"
     ]
    },
    {
     "name": "stderr",
     "output_type": "stream",
     "text": [
      "\n",
      "\n",
      "\n",
      "\n",
      "\n",
      "\n",
      "\n",
      "\n",
      "\n",
      "\n",
      "\n",
      "\n",
      "  0%|                                                                                          | 0/400 [00:00<?, ?it/s]\u001b[A\u001b[A\u001b[A\u001b[A\u001b[A\u001b[A\u001b[A\u001b[A\u001b[A\u001b[A\u001b[A\u001b[A"
     ]
    },
    {
     "name": "stdout",
     "output_type": "stream",
     "text": [
      "Starting to analyze %  D:\\Sidevideos\\ar34motor\\2022_02_03\\18.avi\n",
      "D:\\Sidevideos\\ar34motor\\2022_02_03  already exists!\n",
      "Loading  D:\\Sidevideos\\ar34motor\\2022_02_03\\18.avi\n",
      "Duration of video [s]:  10.0 , recorded with  40.0 fps!\n",
      "Overall # of frames:  400  found with (before cropping) frame dimensions:  800 550\n",
      "Starting to extract posture\n"
     ]
    },
    {
     "name": "stderr",
     "output_type": "stream",
     "text": [
      "\n",
      "\n",
      "\n",
      "\n",
      "\n",
      "\n",
      "\n",
      "\n",
      "\n",
      "\n",
      "\n",
      "\n",
      "\n",
      "  0%|                                                                                          | 0/400 [00:00<?, ?it/s]\u001b[A\u001b[A\u001b[A\u001b[A\u001b[A\u001b[A\u001b[A\u001b[A\u001b[A\u001b[A\u001b[A\u001b[A\u001b[A"
     ]
    },
    {
     "name": "stdout",
     "output_type": "stream",
     "text": [
      "Starting to analyze %  D:\\Sidevideos\\ar34motor\\2022_02_03\\19.avi\n",
      "D:\\Sidevideos\\ar34motor\\2022_02_03  already exists!\n",
      "Loading  D:\\Sidevideos\\ar34motor\\2022_02_03\\19.avi\n",
      "Duration of video [s]:  10.0 , recorded with  40.0 fps!\n",
      "Overall # of frames:  400  found with (before cropping) frame dimensions:  800 550\n",
      "Starting to extract posture\n"
     ]
    },
    {
     "name": "stderr",
     "output_type": "stream",
     "text": [
      "\n",
      "\n",
      "\n",
      "\n",
      "\n",
      "\n",
      "\n",
      "\n",
      "\n",
      "\n",
      "\n",
      "\n",
      "\n",
      "\n",
      "  0%|                                                                                          | 0/400 [00:00<?, ?it/s]\u001b[A\u001b[A\u001b[A\u001b[A\u001b[A\u001b[A\u001b[A\u001b[A\u001b[A\u001b[A\u001b[A\u001b[A\u001b[A\u001b[A"
     ]
    },
    {
     "name": "stdout",
     "output_type": "stream",
     "text": [
      "Starting to analyze %  D:\\Sidevideos\\ar34motor\\2022_02_03\\2.avi\n",
      "D:\\Sidevideos\\ar34motor\\2022_02_03  already exists!\n",
      "Loading  D:\\Sidevideos\\ar34motor\\2022_02_03\\2.avi\n",
      "Duration of video [s]:  10.0 , recorded with  40.0 fps!\n",
      "Overall # of frames:  400  found with (before cropping) frame dimensions:  800 550\n",
      "Starting to extract posture\n"
     ]
    },
    {
     "name": "stderr",
     "output_type": "stream",
     "text": [
      "\n",
      "\n",
      "\n",
      "\n",
      "\n",
      "\n",
      "\n",
      "\n",
      "\n",
      "\n",
      "\n",
      "\n",
      "\n",
      "\n",
      "\n",
      "  0%|                                                                                          | 0/400 [00:00<?, ?it/s]\u001b[A\u001b[A\u001b[A\u001b[A\u001b[A\u001b[A\u001b[A\u001b[A\u001b[A\u001b[A\u001b[A\u001b[A\u001b[A\u001b[A\u001b[A"
     ]
    },
    {
     "name": "stdout",
     "output_type": "stream",
     "text": [
      "Starting to analyze %  D:\\Sidevideos\\ar34motor\\2022_02_03\\20.avi\n",
      "D:\\Sidevideos\\ar34motor\\2022_02_03  already exists!\n",
      "Loading  D:\\Sidevideos\\ar34motor\\2022_02_03\\20.avi\n",
      "Duration of video [s]:  10.0 , recorded with  40.0 fps!\n",
      "Overall # of frames:  400  found with (before cropping) frame dimensions:  800 550\n",
      "Starting to extract posture\n"
     ]
    },
    {
     "name": "stderr",
     "output_type": "stream",
     "text": [
      "\n",
      "\n",
      "\n",
      "\n",
      "\n",
      "\n",
      "\n",
      "\n",
      "\n",
      "\n",
      "\n",
      "\n",
      "\n",
      "\n",
      "\n",
      "\n",
      "  0%|                                                                                          | 0/400 [00:00<?, ?it/s]\u001b[A\u001b[A\u001b[A\u001b[A\u001b[A\u001b[A\u001b[A\u001b[A\u001b[A\u001b[A\u001b[A\u001b[A\u001b[A\u001b[A\u001b[A\u001b[A"
     ]
    },
    {
     "name": "stdout",
     "output_type": "stream",
     "text": [
      "Starting to analyze %  D:\\Sidevideos\\ar34motor\\2022_02_03\\21.avi\n",
      "D:\\Sidevideos\\ar34motor\\2022_02_03  already exists!\n",
      "Loading  D:\\Sidevideos\\ar34motor\\2022_02_03\\21.avi\n",
      "Duration of video [s]:  10.0 , recorded with  40.0 fps!\n",
      "Overall # of frames:  400  found with (before cropping) frame dimensions:  800 550\n",
      "Starting to extract posture\n"
     ]
    },
    {
     "name": "stderr",
     "output_type": "stream",
     "text": [
      "\n",
      "\n",
      "\n",
      "\n",
      "\n",
      "\n",
      "\n",
      "\n",
      "\n",
      "\n",
      "\n",
      "\n",
      "\n",
      "\n",
      "\n",
      "\n",
      "\n",
      "  0%|                                                                                          | 0/400 [00:00<?, ?it/s]\u001b[A\u001b[A\u001b[A\u001b[A\u001b[A\u001b[A\u001b[A\u001b[A\u001b[A\u001b[A\u001b[A\u001b[A\u001b[A\u001b[A\u001b[A\u001b[A\u001b[A"
     ]
    },
    {
     "name": "stdout",
     "output_type": "stream",
     "text": [
      "Starting to analyze %  D:\\Sidevideos\\ar34motor\\2022_02_03\\22.avi\n",
      "D:\\Sidevideos\\ar34motor\\2022_02_03  already exists!\n",
      "Loading  D:\\Sidevideos\\ar34motor\\2022_02_03\\22.avi\n",
      "Duration of video [s]:  10.0 , recorded with  40.0 fps!\n",
      "Overall # of frames:  400  found with (before cropping) frame dimensions:  800 550\n",
      "Starting to extract posture\n"
     ]
    },
    {
     "name": "stderr",
     "output_type": "stream",
     "text": [
      "\n",
      "\n",
      "\n",
      "\n",
      "\n",
      "\n",
      "\n",
      "\n",
      "\n",
      "\n",
      "\n",
      "\n",
      "\n",
      "\n",
      "\n",
      "\n",
      "\n",
      "\n",
      "  0%|                                                                                          | 0/400 [00:00<?, ?it/s]\u001b[A\u001b[A\u001b[A\u001b[A\u001b[A\u001b[A\u001b[A\u001b[A\u001b[A\u001b[A\u001b[A\u001b[A\u001b[A\u001b[A\u001b[A\u001b[A\u001b[A\u001b[A"
     ]
    },
    {
     "name": "stdout",
     "output_type": "stream",
     "text": [
      "Starting to analyze %  D:\\Sidevideos\\ar34motor\\2022_02_03\\23.avi\n",
      "D:\\Sidevideos\\ar34motor\\2022_02_03  already exists!\n",
      "Loading  D:\\Sidevideos\\ar34motor\\2022_02_03\\23.avi\n",
      "Duration of video [s]:  10.0 , recorded with  40.0 fps!\n",
      "Overall # of frames:  400  found with (before cropping) frame dimensions:  800 550\n",
      "Starting to extract posture\n"
     ]
    },
    {
     "name": "stderr",
     "output_type": "stream",
     "text": [
      "\n",
      "\n",
      "\n",
      "\n",
      "\n",
      "\n",
      "\n",
      "\n",
      "\n",
      "\n",
      "\n",
      "\n",
      "\n",
      "\n",
      "\n",
      "\n",
      "\n",
      "\n",
      "\n",
      "  0%|                                                                                          | 0/400 [00:00<?, ?it/s]\u001b[A\u001b[A\u001b[A\u001b[A\u001b[A\u001b[A\u001b[A\u001b[A\u001b[A\u001b[A\u001b[A\u001b[A\u001b[A\u001b[A\u001b[A\u001b[A\u001b[A\u001b[A\u001b[A"
     ]
    },
    {
     "name": "stdout",
     "output_type": "stream",
     "text": [
      "Starting to analyze %  D:\\Sidevideos\\ar34motor\\2022_02_03\\24.avi\n",
      "D:\\Sidevideos\\ar34motor\\2022_02_03  already exists!\n",
      "Loading  D:\\Sidevideos\\ar34motor\\2022_02_03\\24.avi\n",
      "Duration of video [s]:  10.0 , recorded with  40.0 fps!\n",
      "Overall # of frames:  400  found with (before cropping) frame dimensions:  800 550\n",
      "Starting to extract posture\n"
     ]
    },
    {
     "name": "stderr",
     "output_type": "stream",
     "text": [
      "\n",
      "\n",
      "\n",
      "\n",
      "\n",
      "\n",
      "\n",
      "\n",
      "\n",
      "\n",
      "\n",
      "\n",
      "\n",
      "\n",
      "\n",
      "\n",
      "\n",
      "\n",
      "\n",
      "\n",
      "  0%|                                                                                          | 0/400 [00:00<?, ?it/s]\u001b[A\u001b[A\u001b[A\u001b[A\u001b[A\u001b[A\u001b[A\u001b[A\u001b[A\u001b[A\u001b[A\u001b[A\u001b[A\u001b[A\u001b[A\u001b[A\u001b[A\u001b[A\u001b[A\u001b[A"
     ]
    },
    {
     "name": "stdout",
     "output_type": "stream",
     "text": [
      "Starting to analyze %  D:\\Sidevideos\\ar34motor\\2022_02_03\\25.avi\n",
      "D:\\Sidevideos\\ar34motor\\2022_02_03  already exists!\n",
      "Loading  D:\\Sidevideos\\ar34motor\\2022_02_03\\25.avi\n",
      "Duration of video [s]:  10.0 , recorded with  40.0 fps!\n",
      "Overall # of frames:  400  found with (before cropping) frame dimensions:  800 550\n",
      "Starting to extract posture\n"
     ]
    },
    {
     "name": "stderr",
     "output_type": "stream",
     "text": [
      "\n",
      "\n",
      "\n",
      "\n",
      "\n",
      "\n",
      "\n",
      "\n",
      "\n",
      "\n",
      "\n",
      "\n",
      "\n",
      "\n",
      "\n",
      "\n",
      "\n",
      "\n",
      "\n",
      "\n",
      "\n",
      "  0%|                                                                                          | 0/400 [00:00<?, ?it/s]\u001b[A\u001b[A\u001b[A\u001b[A\u001b[A\u001b[A\u001b[A\u001b[A\u001b[A\u001b[A\u001b[A\u001b[A\u001b[A\u001b[A\u001b[A\u001b[A\u001b[A\u001b[A\u001b[A\u001b[A\u001b[A"
     ]
    },
    {
     "name": "stdout",
     "output_type": "stream",
     "text": [
      "Starting to analyze %  D:\\Sidevideos\\ar34motor\\2022_02_03\\26.avi\n",
      "D:\\Sidevideos\\ar34motor\\2022_02_03  already exists!\n",
      "Loading  D:\\Sidevideos\\ar34motor\\2022_02_03\\26.avi\n",
      "Duration of video [s]:  10.0 , recorded with  40.0 fps!\n",
      "Overall # of frames:  400  found with (before cropping) frame dimensions:  800 550\n",
      "Starting to extract posture\n"
     ]
    },
    {
     "name": "stderr",
     "output_type": "stream",
     "text": [
      "\n",
      "\n",
      "\n",
      "\n",
      "\n",
      "\n",
      "\n",
      "\n",
      "\n",
      "\n",
      "\n",
      "\n",
      "\n",
      "\n",
      "\n",
      "\n",
      "\n",
      "\n",
      "\n",
      "\n",
      "\n",
      "\n",
      "  0%|                                                                                          | 0/400 [00:00<?, ?it/s]\u001b[A\u001b[A\u001b[A\u001b[A\u001b[A\u001b[A\u001b[A\u001b[A\u001b[A\u001b[A\u001b[A\u001b[A\u001b[A\u001b[A\u001b[A\u001b[A\u001b[A\u001b[A\u001b[A\u001b[A\u001b[A\u001b[A"
     ]
    },
    {
     "name": "stdout",
     "output_type": "stream",
     "text": [
      "Starting to analyze %  D:\\Sidevideos\\ar34motor\\2022_02_03\\27.avi\n",
      "D:\\Sidevideos\\ar34motor\\2022_02_03  already exists!\n",
      "Loading  D:\\Sidevideos\\ar34motor\\2022_02_03\\27.avi\n",
      "Duration of video [s]:  10.0 , recorded with  40.0 fps!\n",
      "Overall # of frames:  400  found with (before cropping) frame dimensions:  800 550\n",
      "Starting to extract posture\n"
     ]
    },
    {
     "name": "stderr",
     "output_type": "stream",
     "text": [
      "\n",
      "\n",
      "\n",
      "\n",
      "\n",
      "\n",
      "\n",
      "\n",
      "\n",
      "\n",
      "\n",
      "\n",
      "\n",
      "\n",
      "\n",
      "\n",
      "\n",
      "\n",
      "\n",
      "\n",
      "\n",
      "\n",
      "\n",
      "  0%|                                                                                          | 0/400 [00:00<?, ?it/s]\u001b[A\u001b[A\u001b[A\u001b[A\u001b[A\u001b[A\u001b[A\u001b[A\u001b[A\u001b[A\u001b[A\u001b[A\u001b[A\u001b[A\u001b[A\u001b[A\u001b[A\u001b[A\u001b[A\u001b[A\u001b[A\u001b[A\u001b[A"
     ]
    },
    {
     "name": "stdout",
     "output_type": "stream",
     "text": [
      "Starting to analyze %  D:\\Sidevideos\\ar34motor\\2022_02_03\\29.avi\n",
      "D:\\Sidevideos\\ar34motor\\2022_02_03  already exists!\n",
      "Loading  D:\\Sidevideos\\ar34motor\\2022_02_03\\29.avi\n",
      "Duration of video [s]:  10.0 , recorded with  40.0 fps!\n",
      "Overall # of frames:  400  found with (before cropping) frame dimensions:  800 550\n",
      "Starting to extract posture\n"
     ]
    },
    {
     "name": "stderr",
     "output_type": "stream",
     "text": [
      "\n",
      "\n",
      "\n",
      "\n",
      "\n",
      "\n",
      "\n",
      "\n",
      "\n",
      "\n",
      "\n",
      "\n",
      "\n",
      "\n",
      "\n",
      "\n",
      "\n",
      "\n",
      "\n",
      "\n",
      "\n",
      "\n",
      "\n",
      "\n",
      "\n",
      "  0%|                                                                                          | 0/400 [00:00<?, ?it/s]\u001b[A\u001b[A\u001b[A\u001b[A\u001b[A\u001b[A\u001b[A\u001b[A\u001b[A\u001b[A\u001b[A\u001b[A\u001b[A\u001b[A\u001b[A\u001b[A\u001b[A\u001b[A\u001b[A\u001b[A\u001b[A\u001b[A\u001b[A\u001b[A\u001b[A"
     ]
    },
    {
     "name": "stdout",
     "output_type": "stream",
     "text": [
      "Starting to analyze %  D:\\Sidevideos\\ar34motor\\2022_02_03\\3.avi\n",
      "D:\\Sidevideos\\ar34motor\\2022_02_03  already exists!\n",
      "Loading  D:\\Sidevideos\\ar34motor\\2022_02_03\\3.avi\n",
      "Duration of video [s]:  10.0 , recorded with  40.0 fps!\n",
      "Overall # of frames:  400  found with (before cropping) frame dimensions:  800 550\n",
      "Starting to extract posture\n"
     ]
    },
    {
     "name": "stderr",
     "output_type": "stream",
     "text": [
      "\n",
      "\n",
      "\n",
      "\n",
      "\n",
      "\n",
      "\n",
      "\n",
      "\n",
      "\n",
      "\n",
      "\n",
      "\n",
      "\n",
      "\n",
      "\n",
      "\n",
      "\n",
      "\n",
      "\n",
      "\n",
      "\n",
      "\n",
      "\n",
      "\n",
      "\n",
      "  0%|                                                                                          | 0/400 [00:00<?, ?it/s]\u001b[A\u001b[A\u001b[A\u001b[A\u001b[A\u001b[A\u001b[A\u001b[A\u001b[A\u001b[A\u001b[A\u001b[A\u001b[A\u001b[A\u001b[A\u001b[A\u001b[A\u001b[A\u001b[A\u001b[A\u001b[A\u001b[A\u001b[A\u001b[A\u001b[A\u001b[A"
     ]
    },
    {
     "name": "stdout",
     "output_type": "stream",
     "text": [
      "Starting to analyze %  D:\\Sidevideos\\ar34motor\\2022_02_03\\30.avi\n",
      "D:\\Sidevideos\\ar34motor\\2022_02_03  already exists!\n",
      "Loading  D:\\Sidevideos\\ar34motor\\2022_02_03\\30.avi\n",
      "Duration of video [s]:  10.0 , recorded with  40.0 fps!\n",
      "Overall # of frames:  400  found with (before cropping) frame dimensions:  800 550\n",
      "Starting to extract posture\n"
     ]
    },
    {
     "name": "stderr",
     "output_type": "stream",
     "text": [
      "\n",
      "\n",
      "\n",
      "\n",
      "\n",
      "\n",
      "\n",
      "\n",
      "\n",
      "\n",
      "\n",
      "\n",
      "\n",
      "\n",
      "\n",
      "\n",
      "\n",
      "\n",
      "\n",
      "\n",
      "\n",
      "\n",
      "\n",
      "\n",
      "\n",
      "\n",
      "\n",
      "  0%|                                                                                          | 0/400 [00:00<?, ?it/s]\u001b[A\u001b[A\u001b[A\u001b[A\u001b[A\u001b[A\u001b[A\u001b[A\u001b[A\u001b[A\u001b[A\u001b[A\u001b[A\u001b[A\u001b[A\u001b[A\u001b[A\u001b[A\u001b[A\u001b[A\u001b[A\u001b[A\u001b[A\u001b[A\u001b[A\u001b[A\u001b[A"
     ]
    },
    {
     "name": "stdout",
     "output_type": "stream",
     "text": [
      "Starting to analyze %  D:\\Sidevideos\\ar34motor\\2022_02_03\\31.avi\n",
      "D:\\Sidevideos\\ar34motor\\2022_02_03  already exists!\n",
      "Loading  D:\\Sidevideos\\ar34motor\\2022_02_03\\31.avi\n",
      "Duration of video [s]:  10.0 , recorded with  40.0 fps!\n",
      "Overall # of frames:  400  found with (before cropping) frame dimensions:  800 550\n",
      "Starting to extract posture\n"
     ]
    },
    {
     "name": "stderr",
     "output_type": "stream",
     "text": [
      "\n",
      "\n",
      "\n",
      "\n",
      "\n",
      "\n",
      "\n",
      "\n",
      "\n",
      "\n",
      "\n",
      "\n",
      "\n",
      "\n",
      "\n",
      "\n",
      "\n",
      "\n",
      "\n",
      "\n",
      "\n",
      "\n",
      "\n",
      "\n",
      "\n",
      "\n",
      "\n",
      "\n",
      " ... (more hidden) ...\u001b[A\u001b[A\u001b[A\u001b[A\u001b[A\u001b[A\u001b[A\u001b[A\u001b[A\u001b[A\u001b[A\u001b[A\u001b[A\u001b[A\u001b[A\u001b[A\u001b[A\u001b[A\u001b[A\u001b[A\u001b[A\u001b[A\u001b[A\u001b[A\u001b[A\u001b[A\u001b[A\u001b[A"
     ]
    },
    {
     "name": "stdout",
     "output_type": "stream",
     "text": [
      "Starting to analyze %  D:\\Sidevideos\\ar34motor\\2022_02_03\\32.avi\n",
      "D:\\Sidevideos\\ar34motor\\2022_02_03  already exists!\n",
      "Loading  D:\\Sidevideos\\ar34motor\\2022_02_03\\32.avi\n",
      "Duration of video [s]:  10.0 , recorded with  40.0 fps!\n",
      "Overall # of frames:  400  found with (before cropping) frame dimensions:  800 550\n",
      "Starting to extract posture\n",
      "Starting to analyze %  D:\\Sidevideos\\ar34motor\\2022_02_03\\33.avi\n",
      "D:\\Sidevideos\\ar34motor\\2022_02_03  already exists!\n",
      "Loading  D:\\Sidevideos\\ar34motor\\2022_02_03\\33.avi\n",
      "Duration of video [s]:  10.0 , recorded with  40.0 fps!\n",
      "Overall # of frames:  400  found with (before cropping) frame dimensions:  800 550\n",
      "Starting to extract posture\n",
      "Starting to analyze %  D:\\Sidevideos\\ar34motor\\2022_02_03\\34.avi\n",
      "D:\\Sidevideos\\ar34motor\\2022_02_03  already exists!\n",
      "Loading  D:\\Sidevideos\\ar34motor\\2022_02_03\\34.avi\n",
      "Duration of video [s]:  10.0 , recorded with  40.0 fps!\n",
      "Overall # of frames:  400  found with (before cropping) frame dimensions:  800 550\n",
      "Starting to extract posture\n"
     ]
    },
    {
     "name": "stderr",
     "output_type": "stream",
     "text": [
      "  2%|██                                                                               | 10/400 [00:02<01:51,  3.50it/s]\n",
      "  2%|██                                                                               | 10/400 [00:02<01:47,  3.62it/s]\n",
      "  2%|██                                                                               | 10/400 [00:02<01:44,  3.74it/s]\n",
      "  2%|██                                                                               | 10/400 [00:02<01:40,  3.88it/s]\n",
      "  2%|██                                                                               | 10/400 [00:02<01:36,  4.03it/s]\n",
      "  2%|██                                                                               | 10/400 [00:02<01:33,  4.18it/s]\n",
      "  2%|██                                                                               | 10/400 [00:02<01:28,  4.38it/s]\n",
      "  2%|██                                                                               | 10/400 [00:02<01:25,  4.59it/s]\n",
      "  2%|██                                                                               | 10/400 [00:02<01:20,  4.82it/s]\n",
      "  2%|██                                                                               | 10/400 [00:01<01:17,  5.04it/s]\n",
      "  2%|██                                                                               | 10/400 [00:01<01:13,  5.31it/s]\n",
      "  2%|██                                                                               | 10/400 [00:01<01:09,  5.60it/s]\n",
      "  2%|██                                                                               | 10/400 [00:01<01:05,  5.96it/s]\n",
      "  2%|██                                                                               | 10/400 [00:01<01:01,  6.30it/s]\n",
      "  2%|██                                                                               | 10/400 [00:01<00:58,  6.70it/s]\n",
      "  2%|██                                                                               | 10/400 [00:01<00:54,  7.15it/s]\n",
      "  2%|██                                                                               | 10/400 [00:01<00:50,  7.68it/s]\n",
      "  2%|██                                                                               | 10/400 [00:01<00:46,  8.35it/s]\n",
      "  2%|██                                                                               | 10/400 [00:01<00:42,  9.15it/s]\n",
      "  2%|██                                                                               | 10/400 [00:00<00:38, 10.07it/s]\n",
      "  2%|██                                                                               | 10/400 [00:00<00:35, 11.06it/s]\n",
      "  2%|██                                                                               | 10/400 [00:00<00:30, 12.78it/s]\n",
      "  2%|██                                                                               | 10/400 [00:00<00:26, 14.57it/s]\n",
      "  2%|██                                                                               | 10/400 [00:00<00:22, 17.34it/s]\n",
      "  2%|██                                                                               | 10/400 [00:00<00:19, 20.33it/s]\n",
      "  2%|██                                                                               | 10/400 [00:00<00:15, 24.96it/s]\n",
      "  2%|██                                                                               | 10/400 [00:00<00:12, 32.27it/s]\n",
      "  2%|██                                                                               | 10/400 [00:00<00:07, 49.24it/s]\n"
     ]
    },
    {
     "name": "stdout",
     "output_type": "stream",
     "text": [
      "Starting to analyze %  D:\\Sidevideos\\ar34motor\\2022_02_03\\35.avi\n",
      "D:\\Sidevideos\\ar34motor\\2022_02_03  already exists!\n",
      "Loading  D:\\Sidevideos\\ar34motor\\2022_02_03\\35.avi\n",
      "Duration of video [s]:  10.0 , recorded with  40.0 fps!\n",
      "Overall # of frames:  400  found with (before cropping) frame dimensions:  800 550\n",
      "Starting to extract posture\n"
     ]
    },
    {
     "name": "stderr",
     "output_type": "stream",
     "text": [
      "\n",
      "\n",
      "\n",
      "  0%|                                                                                          | 0/400 [00:00<?, ?it/s]\u001b[A\u001b[A\u001b[A"
     ]
    },
    {
     "name": "stdout",
     "output_type": "stream",
     "text": [
      "Starting to analyze %  D:\\Sidevideos\\ar34motor\\2022_02_03\\36.avi\n",
      "D:\\Sidevideos\\ar34motor\\2022_02_03  already exists!\n",
      "Loading  D:\\Sidevideos\\ar34motor\\2022_02_03\\36.avi\n",
      "Duration of video [s]:  10.0 , recorded with  40.0 fps!\n",
      "Overall # of frames:  400  found with (before cropping) frame dimensions:  800 550\n",
      "Starting to extract posture\n"
     ]
    },
    {
     "name": "stderr",
     "output_type": "stream",
     "text": [
      "\n",
      "\n",
      "\n",
      "\n",
      "  0%|                                                                                          | 0/400 [00:00<?, ?it/s]\u001b[A\u001b[A\u001b[A\u001b[A"
     ]
    },
    {
     "name": "stdout",
     "output_type": "stream",
     "text": [
      "Starting to analyze %  D:\\Sidevideos\\ar34motor\\2022_02_03\\38.avi\n",
      "D:\\Sidevideos\\ar34motor\\2022_02_03  already exists!\n",
      "Loading  D:\\Sidevideos\\ar34motor\\2022_02_03\\38.avi\n",
      "Duration of video [s]:  10.0 , recorded with  40.0 fps!\n",
      "Overall # of frames:  400  found with (before cropping) frame dimensions:  800 550\n",
      "Starting to extract posture\n"
     ]
    },
    {
     "name": "stderr",
     "output_type": "stream",
     "text": [
      "\n",
      "\n",
      "\n",
      "\n",
      "\n",
      "  0%|                                                                                          | 0/400 [00:00<?, ?it/s]\u001b[A\u001b[A\u001b[A\u001b[A\u001b[A"
     ]
    },
    {
     "name": "stdout",
     "output_type": "stream",
     "text": [
      "Starting to analyze %  D:\\Sidevideos\\ar34motor\\2022_02_03\\39.avi\n",
      "D:\\Sidevideos\\ar34motor\\2022_02_03  already exists!\n",
      "Loading  D:\\Sidevideos\\ar34motor\\2022_02_03\\39.avi\n",
      "Duration of video [s]:  10.0 , recorded with  40.0 fps!\n",
      "Overall # of frames:  400  found with (before cropping) frame dimensions:  800 550\n",
      "Starting to extract posture\n"
     ]
    },
    {
     "name": "stderr",
     "output_type": "stream",
     "text": [
      "\n",
      "\n",
      "\n",
      "\n",
      "\n",
      "\n",
      "  0%|                                                                                          | 0/400 [00:00<?, ?it/s]\u001b[A\u001b[A\u001b[A\u001b[A\u001b[A\u001b[A"
     ]
    },
    {
     "name": "stdout",
     "output_type": "stream",
     "text": [
      "Starting to analyze %  D:\\Sidevideos\\ar34motor\\2022_02_03\\4.avi\n",
      "D:\\Sidevideos\\ar34motor\\2022_02_03  already exists!\n",
      "Loading  D:\\Sidevideos\\ar34motor\\2022_02_03\\4.avi\n",
      "Duration of video [s]:  10.0 , recorded with  40.0 fps!\n",
      "Overall # of frames:  400  found with (before cropping) frame dimensions:  800 550\n",
      "Starting to extract posture\n"
     ]
    },
    {
     "name": "stderr",
     "output_type": "stream",
     "text": [
      "\n",
      "\n",
      "\n",
      "\n",
      "\n",
      "\n",
      "\n",
      "  0%|                                                                                          | 0/400 [00:00<?, ?it/s]\u001b[A\u001b[A\u001b[A\u001b[A\u001b[A\u001b[A\u001b[A"
     ]
    },
    {
     "name": "stdout",
     "output_type": "stream",
     "text": [
      "Starting to analyze %  D:\\Sidevideos\\ar34motor\\2022_02_03\\40.avi\n",
      "D:\\Sidevideos\\ar34motor\\2022_02_03  already exists!\n",
      "Loading  D:\\Sidevideos\\ar34motor\\2022_02_03\\40.avi\n",
      "Duration of video [s]:  10.0 , recorded with  40.0 fps!\n",
      "Overall # of frames:  400  found with (before cropping) frame dimensions:  800 550\n",
      "Starting to extract posture\n"
     ]
    },
    {
     "name": "stderr",
     "output_type": "stream",
     "text": [
      "\n",
      "\n",
      "\n",
      "\n",
      "\n",
      "\n",
      "\n",
      "\n",
      "  0%|                                                                                          | 0/400 [00:00<?, ?it/s]\u001b[A\u001b[A\u001b[A\u001b[A\u001b[A\u001b[A\u001b[A\u001b[A"
     ]
    },
    {
     "name": "stdout",
     "output_type": "stream",
     "text": [
      "Starting to analyze %  D:\\Sidevideos\\ar34motor\\2022_02_03\\41.avi\n",
      "D:\\Sidevideos\\ar34motor\\2022_02_03  already exists!\n",
      "Loading  D:\\Sidevideos\\ar34motor\\2022_02_03\\41.avi\n",
      "Duration of video [s]:  10.0 , recorded with  40.0 fps!\n",
      "Overall # of frames:  400  found with (before cropping) frame dimensions:  800 550\n",
      "Starting to extract posture\n"
     ]
    },
    {
     "name": "stderr",
     "output_type": "stream",
     "text": [
      "\n",
      "\n",
      "\n",
      "\n",
      "\n",
      "\n",
      "\n",
      "\n",
      "\n",
      "  0%|                                                                                          | 0/400 [00:00<?, ?it/s]\u001b[A\u001b[A\u001b[A\u001b[A\u001b[A\u001b[A\u001b[A\u001b[A\u001b[A"
     ]
    },
    {
     "name": "stdout",
     "output_type": "stream",
     "text": [
      "Starting to analyze %  D:\\Sidevideos\\ar34motor\\2022_02_03\\42.avi\n",
      "D:\\Sidevideos\\ar34motor\\2022_02_03  already exists!\n",
      "Loading  D:\\Sidevideos\\ar34motor\\2022_02_03\\42.avi\n",
      "Duration of video [s]:  10.0 , recorded with  40.0 fps!\n",
      "Overall # of frames:  400  found with (before cropping) frame dimensions:  800 550\n",
      "Starting to extract posture\n"
     ]
    },
    {
     "name": "stderr",
     "output_type": "stream",
     "text": [
      "\n",
      "\n",
      "\n",
      "\n",
      "\n",
      "\n",
      "\n",
      "\n",
      "\n",
      "\n",
      "  0%|                                                                                          | 0/400 [00:00<?, ?it/s]\u001b[A\u001b[A\u001b[A\u001b[A\u001b[A\u001b[A\u001b[A\u001b[A\u001b[A\u001b[A"
     ]
    },
    {
     "name": "stdout",
     "output_type": "stream",
     "text": [
      "Starting to analyze %  D:\\Sidevideos\\ar34motor\\2022_02_03\\43.avi\n",
      "D:\\Sidevideos\\ar34motor\\2022_02_03  already exists!\n",
      "Loading  D:\\Sidevideos\\ar34motor\\2022_02_03\\43.avi\n",
      "Duration of video [s]:  10.0 , recorded with  40.0 fps!\n",
      "Overall # of frames:  400  found with (before cropping) frame dimensions:  800 550\n",
      "Starting to extract posture\n"
     ]
    },
    {
     "name": "stderr",
     "output_type": "stream",
     "text": [
      "\n",
      "\n",
      "\n",
      "\n",
      "\n",
      "\n",
      "\n",
      "\n",
      "\n",
      "\n",
      "\n",
      "  0%|                                                                                          | 0/400 [00:00<?, ?it/s]\u001b[A\u001b[A\u001b[A\u001b[A\u001b[A\u001b[A\u001b[A\u001b[A\u001b[A\u001b[A\u001b[A"
     ]
    },
    {
     "name": "stdout",
     "output_type": "stream",
     "text": [
      "Starting to analyze %  D:\\Sidevideos\\ar34motor\\2022_02_03\\44.avi\n",
      "D:\\Sidevideos\\ar34motor\\2022_02_03  already exists!\n",
      "Loading  D:\\Sidevideos\\ar34motor\\2022_02_03\\44.avi\n",
      "Duration of video [s]:  10.0 , recorded with  40.0 fps!\n",
      "Overall # of frames:  400  found with (before cropping) frame dimensions:  800 550\n",
      "Starting to extract posture\n"
     ]
    },
    {
     "name": "stderr",
     "output_type": "stream",
     "text": [
      "\n",
      "\n",
      "\n",
      "\n",
      "\n",
      "\n",
      "\n",
      "\n",
      "\n",
      "\n",
      "\n",
      "\n",
      "  0%|                                                                                          | 0/400 [00:00<?, ?it/s]\u001b[A\u001b[A\u001b[A\u001b[A\u001b[A\u001b[A\u001b[A\u001b[A\u001b[A\u001b[A\u001b[A\u001b[A"
     ]
    },
    {
     "name": "stdout",
     "output_type": "stream",
     "text": [
      "Starting to analyze %  D:\\Sidevideos\\ar34motor\\2022_02_03\\45.avi\n",
      "D:\\Sidevideos\\ar34motor\\2022_02_03  already exists!\n",
      "Loading  D:\\Sidevideos\\ar34motor\\2022_02_03\\45.avi\n",
      "Duration of video [s]:  10.0 , recorded with  40.0 fps!\n",
      "Overall # of frames:  400  found with (before cropping) frame dimensions:  800 550\n",
      "Starting to extract posture\n"
     ]
    },
    {
     "name": "stderr",
     "output_type": "stream",
     "text": [
      "\n",
      "\n",
      "\n",
      "\n",
      "\n",
      "\n",
      "\n",
      "\n",
      "\n",
      "\n",
      "\n",
      "\n",
      "\n",
      "  0%|                                                                                          | 0/400 [00:00<?, ?it/s]\u001b[A\u001b[A\u001b[A\u001b[A\u001b[A\u001b[A\u001b[A\u001b[A\u001b[A\u001b[A\u001b[A\u001b[A\u001b[A"
     ]
    },
    {
     "name": "stdout",
     "output_type": "stream",
     "text": [
      "Starting to analyze %  D:\\Sidevideos\\ar34motor\\2022_02_03\\46.avi\n",
      "D:\\Sidevideos\\ar34motor\\2022_02_03  already exists!\n",
      "Loading  D:\\Sidevideos\\ar34motor\\2022_02_03\\46.avi\n",
      "Duration of video [s]:  10.0 , recorded with  40.0 fps!\n",
      "Overall # of frames:  400  found with (before cropping) frame dimensions:  800 550\n",
      "Starting to extract posture\n"
     ]
    },
    {
     "name": "stderr",
     "output_type": "stream",
     "text": [
      "\n",
      "\n",
      "\n",
      "\n",
      "\n",
      "\n",
      "\n",
      "\n",
      "\n",
      "\n",
      "\n",
      "\n",
      "\n",
      "\n",
      "  0%|                                                                                          | 0/400 [00:00<?, ?it/s]\u001b[A\u001b[A\u001b[A\u001b[A\u001b[A\u001b[A\u001b[A\u001b[A\u001b[A\u001b[A\u001b[A\u001b[A\u001b[A\u001b[A"
     ]
    },
    {
     "name": "stdout",
     "output_type": "stream",
     "text": [
      "Starting to analyze %  D:\\Sidevideos\\ar34motor\\2022_02_03\\47.avi\n",
      "D:\\Sidevideos\\ar34motor\\2022_02_03  already exists!\n",
      "Loading  D:\\Sidevideos\\ar34motor\\2022_02_03\\47.avi\n",
      "Duration of video [s]:  10.0 , recorded with  40.0 fps!\n",
      "Overall # of frames:  400  found with (before cropping) frame dimensions:  800 550\n",
      "Starting to extract posture\n"
     ]
    },
    {
     "name": "stderr",
     "output_type": "stream",
     "text": [
      "\n",
      "\n",
      "\n",
      "\n",
      "\n",
      "\n",
      "\n",
      "\n",
      "\n",
      "\n",
      "\n",
      "\n",
      "\n",
      "\n",
      "\n",
      "  0%|                                                                                          | 0/400 [00:00<?, ?it/s]\u001b[A\u001b[A\u001b[A\u001b[A\u001b[A\u001b[A\u001b[A\u001b[A\u001b[A\u001b[A\u001b[A\u001b[A\u001b[A\u001b[A\u001b[A"
     ]
    },
    {
     "name": "stdout",
     "output_type": "stream",
     "text": [
      "Starting to analyze %  D:\\Sidevideos\\ar34motor\\2022_02_03\\48.avi\n",
      "D:\\Sidevideos\\ar34motor\\2022_02_03  already exists!\n",
      "Loading  D:\\Sidevideos\\ar34motor\\2022_02_03\\48.avi\n",
      "Duration of video [s]:  10.0 , recorded with  40.0 fps!\n",
      "Overall # of frames:  400  found with (before cropping) frame dimensions:  800 550\n",
      "Starting to extract posture\n"
     ]
    },
    {
     "name": "stderr",
     "output_type": "stream",
     "text": [
      "\n",
      "\n",
      "\n",
      "\n",
      "\n",
      "\n",
      "\n",
      "\n",
      "\n",
      "\n",
      "\n",
      "\n",
      "\n",
      "\n",
      "\n",
      "\n",
      "  0%|                                                                                          | 0/400 [00:00<?, ?it/s]\u001b[A\u001b[A\u001b[A\u001b[A\u001b[A\u001b[A\u001b[A\u001b[A\u001b[A\u001b[A\u001b[A\u001b[A\u001b[A\u001b[A\u001b[A\u001b[A"
     ]
    },
    {
     "name": "stdout",
     "output_type": "stream",
     "text": [
      "Starting to analyze %  D:\\Sidevideos\\ar34motor\\2022_02_03\\49.avi\n",
      "D:\\Sidevideos\\ar34motor\\2022_02_03  already exists!\n",
      "Loading  D:\\Sidevideos\\ar34motor\\2022_02_03\\49.avi\n",
      "Duration of video [s]:  10.0 , recorded with  40.0 fps!\n",
      "Overall # of frames:  400  found with (before cropping) frame dimensions:  800 550\n",
      "Starting to extract posture\n"
     ]
    },
    {
     "name": "stderr",
     "output_type": "stream",
     "text": [
      "\n",
      "\n",
      "\n",
      "\n",
      "\n",
      "\n",
      "\n",
      "\n",
      "\n",
      "\n",
      "\n",
      "\n",
      "\n",
      "\n",
      "\n",
      "\n",
      "\n",
      "  0%|                                                                                          | 0/400 [00:00<?, ?it/s]\u001b[A\u001b[A\u001b[A\u001b[A\u001b[A\u001b[A\u001b[A\u001b[A\u001b[A\u001b[A\u001b[A\u001b[A\u001b[A\u001b[A\u001b[A\u001b[A\u001b[A"
     ]
    },
    {
     "name": "stdout",
     "output_type": "stream",
     "text": [
      "Starting to analyze %  D:\\Sidevideos\\ar34motor\\2022_02_03\\5.avi\n",
      "D:\\Sidevideos\\ar34motor\\2022_02_03  already exists!\n",
      "Loading  D:\\Sidevideos\\ar34motor\\2022_02_03\\5.avi\n",
      "Duration of video [s]:  10.0 , recorded with  40.0 fps!\n",
      "Overall # of frames:  400  found with (before cropping) frame dimensions:  800 550\n",
      "Starting to extract posture\n"
     ]
    },
    {
     "name": "stderr",
     "output_type": "stream",
     "text": [
      "\n",
      "\n",
      "\n",
      "\n",
      "\n",
      "\n",
      "\n",
      "\n",
      "\n",
      "\n",
      "\n",
      "\n",
      "\n",
      "\n",
      "\n",
      "\n",
      "\n",
      "\n",
      "  0%|                                                                                          | 0/400 [00:00<?, ?it/s]\u001b[A\u001b[A\u001b[A\u001b[A\u001b[A\u001b[A\u001b[A\u001b[A\u001b[A\u001b[A\u001b[A\u001b[A\u001b[A\u001b[A\u001b[A\u001b[A\u001b[A\u001b[A"
     ]
    },
    {
     "name": "stdout",
     "output_type": "stream",
     "text": [
      "Starting to analyze %  D:\\Sidevideos\\ar34motor\\2022_02_03\\50.avi\n",
      "D:\\Sidevideos\\ar34motor\\2022_02_03  already exists!\n",
      "Loading  D:\\Sidevideos\\ar34motor\\2022_02_03\\50.avi\n",
      "Duration of video [s]:  10.0 , recorded with  40.0 fps!\n",
      "Overall # of frames:  400  found with (before cropping) frame dimensions:  800 550\n",
      "Starting to extract posture\n"
     ]
    },
    {
     "name": "stderr",
     "output_type": "stream",
     "text": [
      "\n",
      "\n",
      "\n",
      "\n",
      "\n",
      "\n",
      "\n",
      "\n",
      "\n",
      "\n",
      "\n",
      "\n",
      "\n",
      "\n",
      "\n",
      "\n",
      "\n",
      "\n",
      "\n",
      "  0%|                                                                                          | 0/400 [00:00<?, ?it/s]\u001b[A\u001b[A\u001b[A\u001b[A\u001b[A\u001b[A\u001b[A\u001b[A\u001b[A\u001b[A\u001b[A\u001b[A\u001b[A\u001b[A\u001b[A\u001b[A\u001b[A\u001b[A\u001b[A"
     ]
    },
    {
     "name": "stdout",
     "output_type": "stream",
     "text": [
      "Starting to analyze %  D:\\Sidevideos\\ar34motor\\2022_02_03\\51.avi\n",
      "D:\\Sidevideos\\ar34motor\\2022_02_03  already exists!\n",
      "Loading  D:\\Sidevideos\\ar34motor\\2022_02_03\\51.avi\n",
      "Duration of video [s]:  10.0 , recorded with  40.0 fps!\n",
      "Overall # of frames:  400  found with (before cropping) frame dimensions:  800 550\n",
      "Starting to extract posture\n"
     ]
    },
    {
     "name": "stderr",
     "output_type": "stream",
     "text": [
      "\n",
      "\n",
      "\n",
      "\n",
      "\n",
      "\n",
      "\n",
      "\n",
      "\n",
      "\n",
      "\n",
      "\n",
      "\n",
      "\n",
      "\n",
      "\n",
      "\n",
      "\n",
      "\n",
      "\n",
      "  0%|                                                                                          | 0/400 [00:00<?, ?it/s]\u001b[A\u001b[A\u001b[A\u001b[A\u001b[A\u001b[A\u001b[A\u001b[A\u001b[A\u001b[A\u001b[A\u001b[A\u001b[A\u001b[A\u001b[A\u001b[A\u001b[A\u001b[A\u001b[A\u001b[A"
     ]
    },
    {
     "name": "stdout",
     "output_type": "stream",
     "text": [
      "Starting to analyze %  D:\\Sidevideos\\ar34motor\\2022_02_03\\52.avi\n",
      "D:\\Sidevideos\\ar34motor\\2022_02_03  already exists!\n",
      "Loading  D:\\Sidevideos\\ar34motor\\2022_02_03\\52.avi\n",
      "Duration of video [s]:  0.0 , recorded with  40.0 fps!\n",
      "Overall # of frames:  0  found with (before cropping) frame dimensions:  800 550\n",
      "Starting to extract posture\n"
     ]
    },
    {
     "name": "stderr",
     "output_type": "stream",
     "text": [
      "\n",
      "\n",
      "\n",
      "\n",
      "\n",
      "\n",
      "\n",
      "\n",
      "\n",
      "\n",
      "\n",
      "\n",
      "\n",
      "\n",
      "\n",
      "\n",
      "\n",
      "\n",
      "\n",
      "\n",
      "\n",
      "0it [00:00, ?it/s]\u001b[A\u001b[A\u001b[A\u001b[A\u001b[A\u001b[A\u001b[A\u001b[A\u001b[A\u001b[A\u001b[A\u001b[A\u001b[A\u001b[A\u001b[A\u001b[A\u001b[A\u001b[A\u001b[A\u001b[A\u001b[A"
     ]
    },
    {
     "name": "stdout",
     "output_type": "stream",
     "text": [
      "Starting to analyze %  D:\\Sidevideos\\ar34motor\\2022_02_03\\53.avi\n",
      "D:\\Sidevideos\\ar34motor\\2022_02_03  already exists!\n",
      "Loading  D:\\Sidevideos\\ar34motor\\2022_02_03\\53.avi\n",
      "Duration of video [s]:  0.0 , recorded with  40.0 fps!\n",
      "Overall # of frames:  0  found with (before cropping) frame dimensions:  800 550\n",
      "Starting to extract posture\n"
     ]
    },
    {
     "name": "stderr",
     "output_type": "stream",
     "text": [
      "\n",
      "\n",
      "\n",
      "\n",
      "\n",
      "\n",
      "\n",
      "\n",
      "\n",
      "\n",
      "\n",
      "\n",
      "\n",
      "\n",
      "\n",
      "\n",
      "\n",
      "\n",
      "\n",
      "\n",
      "\n",
      "\n",
      "0it [00:00, ?it/s]\u001b[A\u001b[A\u001b[A\u001b[A\u001b[A\u001b[A\u001b[A\u001b[A\u001b[A\u001b[A\u001b[A\u001b[A\u001b[A\u001b[A\u001b[A\u001b[A\u001b[A\u001b[A\u001b[A\u001b[A\u001b[A\u001b[A"
     ]
    },
    {
     "name": "stdout",
     "output_type": "stream",
     "text": [
      "Starting to analyze %  D:\\Sidevideos\\ar34motor\\2022_02_03\\54.avi\n",
      "D:\\Sidevideos\\ar34motor\\2022_02_03  already exists!\n",
      "Loading  D:\\Sidevideos\\ar34motor\\2022_02_03\\54.avi\n",
      "Duration of video [s]:  0.0 , recorded with  40.0 fps!\n",
      "Overall # of frames:  0  found with (before cropping) frame dimensions:  800 550\n",
      "Starting to extract posture\n"
     ]
    },
    {
     "name": "stderr",
     "output_type": "stream",
     "text": [
      "\n",
      "\n",
      "\n",
      "\n",
      "\n",
      "\n",
      "\n",
      "\n",
      "\n",
      "\n",
      "\n",
      "\n",
      "\n",
      "\n",
      "\n",
      "\n",
      "\n",
      "\n",
      "\n",
      "\n",
      "\n",
      "\n",
      "\n",
      "0it [00:00, ?it/s]\u001b[A\u001b[A\u001b[A\u001b[A\u001b[A\u001b[A\u001b[A\u001b[A\u001b[A\u001b[A\u001b[A\u001b[A\u001b[A\u001b[A\u001b[A\u001b[A\u001b[A\u001b[A\u001b[A\u001b[A\u001b[A\u001b[A\u001b[A"
     ]
    },
    {
     "name": "stdout",
     "output_type": "stream",
     "text": [
      "Starting to analyze %  D:\\Sidevideos\\ar34motor\\2022_02_03\\55.avi\n",
      "D:\\Sidevideos\\ar34motor\\2022_02_03  already exists!\n",
      "Loading  D:\\Sidevideos\\ar34motor\\2022_02_03\\55.avi\n",
      "Duration of video [s]:  0.0 , recorded with  40.0 fps!\n",
      "Overall # of frames:  0  found with (before cropping) frame dimensions:  800 550\n",
      "Starting to extract posture\n"
     ]
    },
    {
     "name": "stderr",
     "output_type": "stream",
     "text": [
      "\n",
      "\n",
      "\n",
      "\n",
      "\n",
      "\n",
      "\n",
      "\n",
      "\n",
      "\n",
      "\n",
      "\n",
      "\n",
      "\n",
      "\n",
      "\n",
      "\n",
      "\n",
      "\n",
      "\n",
      "\n",
      "\n",
      "\n",
      "\n",
      "\n",
      "0it [00:00, ?it/s]\u001b[A\u001b[A\u001b[A\u001b[A\u001b[A\u001b[A\u001b[A\u001b[A\u001b[A\u001b[A\u001b[A\u001b[A\u001b[A\u001b[A\u001b[A\u001b[A\u001b[A\u001b[A\u001b[A\u001b[A\u001b[A\u001b[A\u001b[A\u001b[A\u001b[A"
     ]
    },
    {
     "name": "stdout",
     "output_type": "stream",
     "text": [
      "Starting to analyze %  D:\\Sidevideos\\ar34motor\\2022_02_03\\56.avi\n",
      "D:\\Sidevideos\\ar34motor\\2022_02_03  already exists!\n",
      "Loading  D:\\Sidevideos\\ar34motor\\2022_02_03\\56.avi\n",
      "Duration of video [s]:  0.0 , recorded with  40.0 fps!\n",
      "Overall # of frames:  0  found with (before cropping) frame dimensions:  800 550\n",
      "Starting to extract posture\n"
     ]
    },
    {
     "name": "stderr",
     "output_type": "stream",
     "text": [
      "\n",
      "\n",
      "\n",
      "\n",
      "\n",
      "\n",
      "\n",
      "\n",
      "\n",
      "\n",
      "\n",
      "\n",
      "\n",
      "\n",
      "\n",
      "\n",
      "\n",
      "\n",
      "\n",
      "\n",
      "\n",
      "\n",
      "\n",
      "\n",
      "\n",
      "\n",
      "0it [00:00, ?it/s]\u001b[A\u001b[A\u001b[A\u001b[A\u001b[A\u001b[A\u001b[A\u001b[A\u001b[A\u001b[A\u001b[A\u001b[A\u001b[A\u001b[A\u001b[A\u001b[A\u001b[A\u001b[A\u001b[A\u001b[A\u001b[A\u001b[A\u001b[A\u001b[A\u001b[A\u001b[A"
     ]
    },
    {
     "name": "stdout",
     "output_type": "stream",
     "text": [
      "Starting to analyze %  D:\\Sidevideos\\ar34motor\\2022_02_03\\57.avi\n",
      "D:\\Sidevideos\\ar34motor\\2022_02_03  already exists!\n",
      "Loading  D:\\Sidevideos\\ar34motor\\2022_02_03\\57.avi\n",
      "Duration of video [s]:  0.0 , recorded with  40.0 fps!\n",
      "Overall # of frames:  0  found with (before cropping) frame dimensions:  800 550\n",
      "Starting to extract posture\n"
     ]
    },
    {
     "name": "stderr",
     "output_type": "stream",
     "text": [
      "\n",
      "\n",
      "\n",
      "\n",
      "\n",
      "\n",
      "\n",
      "\n",
      "\n",
      "\n",
      "\n",
      "\n",
      "\n",
      "\n",
      "\n",
      "\n",
      "\n",
      "\n",
      "\n",
      "\n",
      "\n",
      "\n",
      "\n",
      "\n",
      "\n",
      "\n",
      "\n",
      "0it [00:00, ?it/s]\u001b[A\u001b[A\u001b[A\u001b[A\u001b[A\u001b[A\u001b[A\u001b[A\u001b[A\u001b[A\u001b[A\u001b[A\u001b[A\u001b[A\u001b[A\u001b[A\u001b[A\u001b[A\u001b[A\u001b[A\u001b[A\u001b[A\u001b[A\u001b[A\u001b[A\u001b[A\u001b[A"
     ]
    },
    {
     "name": "stdout",
     "output_type": "stream",
     "text": [
      "Starting to analyze %  D:\\Sidevideos\\ar34motor\\2022_02_03\\59.avi\n",
      "D:\\Sidevideos\\ar34motor\\2022_02_03  already exists!\n",
      "Loading  D:\\Sidevideos\\ar34motor\\2022_02_03\\59.avi\n",
      "Duration of video [s]:  0.0 , recorded with  40.0 fps!\n",
      "Overall # of frames:  0  found with (before cropping) frame dimensions:  800 550\n",
      "Starting to extract posture\n"
     ]
    },
    {
     "name": "stderr",
     "output_type": "stream",
     "text": [
      "\n",
      "\n",
      "\n",
      "\n",
      "\n",
      "\n",
      "\n",
      "\n",
      "\n",
      "\n",
      "\n",
      "\n",
      "\n",
      "\n",
      "\n",
      "\n",
      "\n",
      "\n",
      "\n",
      "\n",
      "\n",
      "\n",
      "\n",
      "\n",
      "\n",
      "\n",
      "\n",
      "\n",
      " ... (more hidden) ...\u001b[A\u001b[A\u001b[A\u001b[A\u001b[A\u001b[A\u001b[A\u001b[A\u001b[A\u001b[A\u001b[A\u001b[A\u001b[A\u001b[A\u001b[A\u001b[A\u001b[A\u001b[A\u001b[A\u001b[A\u001b[A\u001b[A\u001b[A\u001b[A\u001b[A\u001b[A\u001b[A\u001b[A"
     ]
    },
    {
     "name": "stdout",
     "output_type": "stream",
     "text": [
      "Starting to analyze %  D:\\Sidevideos\\ar34motor\\2022_02_03\\60.avi\n",
      "D:\\Sidevideos\\ar34motor\\2022_02_03  already exists!\n",
      "Loading  D:\\Sidevideos\\ar34motor\\2022_02_03\\60.avi\n",
      "Duration of video [s]:  0.0 , recorded with  40.0 fps!\n",
      "Overall # of frames:  0  found with (before cropping) frame dimensions:  800 550\n",
      "Starting to extract posture\n",
      "Starting to analyze %  D:\\Sidevideos\\ar34motor\\2022_02_03\\61.avi\n",
      "D:\\Sidevideos\\ar34motor\\2022_02_03  already exists!\n",
      "Loading  D:\\Sidevideos\\ar34motor\\2022_02_03\\61.avi\n",
      "Duration of video [s]:  0.0 , recorded with  40.0 fps!\n",
      "Overall # of frames:  0  found with (before cropping) frame dimensions:  800 550\n",
      "Starting to extract posture\n",
      "Starting to analyze %  D:\\Sidevideos\\ar34motor\\2022_02_03\\62.avi\n",
      "D:\\Sidevideos\\ar34motor\\2022_02_03  already exists!\n",
      "Loading  D:\\Sidevideos\\ar34motor\\2022_02_03\\62.avi\n",
      "Duration of video [s]:  0.0 , recorded with  40.0 fps!\n",
      "Overall # of frames:  0  found with (before cropping) frame dimensions:  800 550\n",
      "Starting to extract posture\n",
      "Starting to analyze %  D:\\Sidevideos\\ar34motor\\2022_02_03\\64.avi\n",
      "D:\\Sidevideos\\ar34motor\\2022_02_03  already exists!\n",
      "Loading  D:\\Sidevideos\\ar34motor\\2022_02_03\\64.avi\n",
      "Duration of video [s]:  0.0 , recorded with  40.0 fps!\n",
      "Overall # of frames:  0  found with (before cropping) frame dimensions:  800 550\n",
      "Starting to extract posture\n"
     ]
    },
    {
     "name": "stderr",
     "output_type": "stream",
     "text": [
      "  2%|██                                                                               | 10/400 [00:02<01:51,  3.50it/s]\n",
      "  2%|██                                                                               | 10/400 [00:02<01:47,  3.62it/s]\n",
      "  2%|██                                                                               | 10/400 [00:02<01:43,  3.75it/s]\n",
      "  2%|██                                                                               | 10/400 [00:02<01:39,  3.91it/s]\n",
      "  2%|██                                                                               | 10/400 [00:02<01:35,  4.06it/s]\n",
      "  2%|██                                                                               | 10/400 [00:02<01:32,  4.24it/s]\n",
      "  2%|██                                                                               | 10/400 [00:02<01:28,  4.41it/s]\n",
      "  2%|██                                                                               | 10/400 [00:02<01:24,  4.60it/s]\n",
      "  2%|██                                                                               | 10/400 [00:02<01:21,  4.81it/s]\n",
      "  2%|██                                                                               | 10/400 [00:01<01:17,  5.05it/s]\n",
      "  2%|██                                                                               | 10/400 [00:01<01:13,  5.34it/s]\n",
      "  2%|██                                                                               | 10/400 [00:01<01:08,  5.67it/s]\n",
      "  2%|██                                                                               | 10/400 [00:01<01:05,  5.99it/s]\n",
      "  2%|██                                                                               | 10/400 [00:01<01:01,  6.37it/s]\n",
      "  2%|██                                                                               | 10/400 [00:01<00:57,  6.79it/s]\n",
      "  2%|██                                                                               | 10/400 [00:01<00:53,  7.24it/s]\n",
      "  2%|██                                                                               | 10/400 [00:01<00:50,  7.79it/s]\n",
      "  2%|██                                                                               | 10/400 [00:01<00:46,  8.47it/s]\n",
      "10it [00:01,  9.34it/s]\n",
      "10it [00:00, 10.46it/s]\n",
      "10it [00:00, 11.58it/s]\n",
      "10it [00:00, 13.03it/s]\n",
      "10it [00:00, 15.00it/s]\n",
      "10it [00:00, 17.57it/s]\n",
      "10it [00:00, 20.94it/s]\n",
      "10it [00:00, 25.25it/s]\n",
      "10it [00:00, 33.29it/s]\n",
      "10it [00:00, 50.54it/s]\n"
     ]
    },
    {
     "name": "stdout",
     "output_type": "stream",
     "text": [
      "Starting to analyze %  D:\\Sidevideos\\ar34motor\\2022_02_03\\65.avi\n",
      "D:\\Sidevideos\\ar34motor\\2022_02_03  already exists!\n",
      "Loading  D:\\Sidevideos\\ar34motor\\2022_02_03\\65.avi\n",
      "Duration of video [s]:  0.0 , recorded with  40.0 fps!\n",
      "Overall # of frames:  0  found with (before cropping) frame dimensions:  800 550\n",
      "Starting to extract posture\n"
     ]
    },
    {
     "name": "stderr",
     "output_type": "stream",
     "text": [
      "\n",
      "\n",
      "\n",
      "\n",
      "0it [00:00, ?it/s]\u001b[A\u001b[A\u001b[A\u001b[A"
     ]
    },
    {
     "name": "stdout",
     "output_type": "stream",
     "text": [
      "Starting to analyze %  D:\\Sidevideos\\ar34motor\\2022_02_03\\66.avi\n",
      "D:\\Sidevideos\\ar34motor\\2022_02_03  already exists!\n",
      "Loading  D:\\Sidevideos\\ar34motor\\2022_02_03\\66.avi\n",
      "Duration of video [s]:  0.0 , recorded with  40.0 fps!\n",
      "Overall # of frames:  0  found with (before cropping) frame dimensions:  800 550\n",
      "Starting to extract posture\n"
     ]
    },
    {
     "name": "stderr",
     "output_type": "stream",
     "text": [
      "\n",
      "\n",
      "\n",
      "\n",
      "\n",
      "0it [00:00, ?it/s]\u001b[A\u001b[A\u001b[A\u001b[A\u001b[A"
     ]
    },
    {
     "name": "stdout",
     "output_type": "stream",
     "text": [
      "Starting to analyze %  D:\\Sidevideos\\ar34motor\\2022_02_03\\67.avi\n",
      "D:\\Sidevideos\\ar34motor\\2022_02_03  already exists!\n",
      "Loading  D:\\Sidevideos\\ar34motor\\2022_02_03\\67.avi\n",
      "Duration of video [s]:  0.0 , recorded with  40.0 fps!\n",
      "Overall # of frames:  0  found with (before cropping) frame dimensions:  800 550\n",
      "Starting to extract posture\n"
     ]
    },
    {
     "name": "stderr",
     "output_type": "stream",
     "text": [
      "\n",
      "\n",
      "\n",
      "\n",
      "\n",
      "\n",
      "0it [00:00, ?it/s]\u001b[A\u001b[A\u001b[A\u001b[A\u001b[A\u001b[A"
     ]
    },
    {
     "name": "stdout",
     "output_type": "stream",
     "text": [
      "Starting to analyze %  D:\\Sidevideos\\ar34motor\\2022_02_03\\68.avi\n",
      "D:\\Sidevideos\\ar34motor\\2022_02_03  already exists!\n",
      "Loading  D:\\Sidevideos\\ar34motor\\2022_02_03\\68.avi\n",
      "Duration of video [s]:  0.0 , recorded with  40.0 fps!\n",
      "Overall # of frames:  0  found with (before cropping) frame dimensions:  800 550\n",
      "Starting to extract posture\n"
     ]
    },
    {
     "name": "stderr",
     "output_type": "stream",
     "text": [
      "\n",
      "\n",
      "\n",
      "\n",
      "\n",
      "\n",
      "\n",
      "0it [00:00, ?it/s]\u001b[A\u001b[A\u001b[A\u001b[A\u001b[A\u001b[A\u001b[A"
     ]
    },
    {
     "name": "stdout",
     "output_type": "stream",
     "text": [
      "Starting to analyze %  D:\\Sidevideos\\ar34motor\\2022_02_03\\69.avi\n",
      "D:\\Sidevideos\\ar34motor\\2022_02_03  already exists!\n",
      "Loading  D:\\Sidevideos\\ar34motor\\2022_02_03\\69.avi\n",
      "Duration of video [s]:  0.0 , recorded with  40.0 fps!\n",
      "Overall # of frames:  0  found with (before cropping) frame dimensions:  800 550\n",
      "Starting to extract posture\n"
     ]
    },
    {
     "name": "stderr",
     "output_type": "stream",
     "text": [
      "\n",
      "\n",
      "\n",
      "\n",
      "\n",
      "\n",
      "\n",
      "\n",
      "0it [00:00, ?it/s]\u001b[A\u001b[A\u001b[A\u001b[A\u001b[A\u001b[A\u001b[A\u001b[A"
     ]
    },
    {
     "name": "stdout",
     "output_type": "stream",
     "text": [
      "Starting to analyze %  D:\\Sidevideos\\ar34motor\\2022_02_03\\7.avi\n",
      "D:\\Sidevideos\\ar34motor\\2022_02_03  already exists!\n",
      "Loading  D:\\Sidevideos\\ar34motor\\2022_02_03\\7.avi\n",
      "Duration of video [s]:  0.0 , recorded with  40.0 fps!\n",
      "Overall # of frames:  0  found with (before cropping) frame dimensions:  800 550\n",
      "Starting to extract posture\n"
     ]
    },
    {
     "name": "stderr",
     "output_type": "stream",
     "text": [
      "\n",
      "\n",
      "\n",
      "\n",
      "\n",
      "\n",
      "\n",
      "\n",
      "\n",
      "0it [00:00, ?it/s]\u001b[A\u001b[A\u001b[A\u001b[A\u001b[A\u001b[A\u001b[A\u001b[A\u001b[A"
     ]
    },
    {
     "name": "stdout",
     "output_type": "stream",
     "text": [
      "Starting to analyze %  D:\\Sidevideos\\ar34motor\\2022_02_03\\70.avi\n",
      "D:\\Sidevideos\\ar34motor\\2022_02_03  already exists!\n",
      "Loading  D:\\Sidevideos\\ar34motor\\2022_02_03\\70.avi\n",
      "Duration of video [s]:  0.0 , recorded with  40.0 fps!\n",
      "Overall # of frames:  0  found with (before cropping) frame dimensions:  800 550\n",
      "Starting to extract posture\n"
     ]
    },
    {
     "name": "stderr",
     "output_type": "stream",
     "text": [
      "\n",
      "\n",
      "\n",
      "\n",
      "\n",
      "\n",
      "\n",
      "\n",
      "\n",
      "\n",
      "0it [00:00, ?it/s]\u001b[A\u001b[A\u001b[A\u001b[A\u001b[A\u001b[A\u001b[A\u001b[A\u001b[A\u001b[A"
     ]
    },
    {
     "name": "stdout",
     "output_type": "stream",
     "text": [
      "Starting to analyze %  D:\\Sidevideos\\ar34motor\\2022_02_03\\71.avi\n",
      "D:\\Sidevideos\\ar34motor\\2022_02_03  already exists!\n",
      "Loading  D:\\Sidevideos\\ar34motor\\2022_02_03\\71.avi\n",
      "Duration of video [s]:  0.0 , recorded with  40.0 fps!\n",
      "Overall # of frames:  0  found with (before cropping) frame dimensions:  800 550\n",
      "Starting to extract posture\n"
     ]
    },
    {
     "name": "stderr",
     "output_type": "stream",
     "text": [
      "\n",
      "\n",
      "\n",
      "\n",
      "\n",
      "\n",
      "\n",
      "\n",
      "\n",
      "\n",
      "\n",
      "0it [00:00, ?it/s]\u001b[A\u001b[A\u001b[A\u001b[A\u001b[A\u001b[A\u001b[A\u001b[A\u001b[A\u001b[A\u001b[A"
     ]
    },
    {
     "name": "stdout",
     "output_type": "stream",
     "text": [
      "Starting to analyze %  D:\\Sidevideos\\ar34motor\\2022_02_03\\72.avi\n",
      "D:\\Sidevideos\\ar34motor\\2022_02_03  already exists!\n",
      "Loading  D:\\Sidevideos\\ar34motor\\2022_02_03\\72.avi\n",
      "Duration of video [s]:  0.0 , recorded with  40.0 fps!\n",
      "Overall # of frames:  0  found with (before cropping) frame dimensions:  800 550\n",
      "Starting to extract posture\n"
     ]
    },
    {
     "name": "stderr",
     "output_type": "stream",
     "text": [
      "\n",
      "\n",
      "\n",
      "\n",
      "\n",
      "\n",
      "\n",
      "\n",
      "\n",
      "\n",
      "\n",
      "\n",
      "0it [00:00, ?it/s]\u001b[A\u001b[A\u001b[A\u001b[A\u001b[A\u001b[A\u001b[A\u001b[A\u001b[A\u001b[A\u001b[A\u001b[A"
     ]
    },
    {
     "name": "stdout",
     "output_type": "stream",
     "text": [
      "Starting to analyze %  D:\\Sidevideos\\ar34motor\\2022_02_03\\73.avi\n",
      "D:\\Sidevideos\\ar34motor\\2022_02_03  already exists!\n",
      "Loading  D:\\Sidevideos\\ar34motor\\2022_02_03\\73.avi\n",
      "Duration of video [s]:  0.0 , recorded with  40.0 fps!\n",
      "Overall # of frames:  0  found with (before cropping) frame dimensions:  800 550\n",
      "Starting to extract posture\n"
     ]
    },
    {
     "name": "stderr",
     "output_type": "stream",
     "text": [
      "\n",
      "\n",
      "\n",
      "\n",
      "\n",
      "\n",
      "\n",
      "\n",
      "\n",
      "\n",
      "\n",
      "\n",
      "\n",
      "0it [00:00, ?it/s]\u001b[A\u001b[A\u001b[A\u001b[A\u001b[A\u001b[A\u001b[A\u001b[A\u001b[A\u001b[A\u001b[A\u001b[A\u001b[A"
     ]
    },
    {
     "name": "stdout",
     "output_type": "stream",
     "text": [
      "Starting to analyze %  D:\\Sidevideos\\ar34motor\\2022_02_03\\75.avi\n",
      "D:\\Sidevideos\\ar34motor\\2022_02_03  already exists!\n",
      "Loading  D:\\Sidevideos\\ar34motor\\2022_02_03\\75.avi\n",
      "Duration of video [s]:  0.0 , recorded with  40.0 fps!\n",
      "Overall # of frames:  0  found with (before cropping) frame dimensions:  800 550\n",
      "Starting to extract posture\n"
     ]
    },
    {
     "name": "stderr",
     "output_type": "stream",
     "text": [
      "\n",
      "\n",
      "\n",
      "\n",
      "\n",
      "\n",
      "\n",
      "\n",
      "\n",
      "\n",
      "\n",
      "\n",
      "\n",
      "\n",
      "0it [00:00, ?it/s]\u001b[A\u001b[A\u001b[A\u001b[A\u001b[A\u001b[A\u001b[A\u001b[A\u001b[A\u001b[A\u001b[A\u001b[A\u001b[A\u001b[A"
     ]
    },
    {
     "name": "stdout",
     "output_type": "stream",
     "text": [
      "Starting to analyze %  D:\\Sidevideos\\ar34motor\\2022_02_03\\77.avi\n",
      "D:\\Sidevideos\\ar34motor\\2022_02_03  already exists!\n",
      "Loading  D:\\Sidevideos\\ar34motor\\2022_02_03\\77.avi\n",
      "Duration of video [s]:  0.0 , recorded with  40.0 fps!\n",
      "Overall # of frames:  0  found with (before cropping) frame dimensions:  800 550\n",
      "Starting to extract posture\n"
     ]
    },
    {
     "name": "stderr",
     "output_type": "stream",
     "text": [
      "\n",
      "\n",
      "\n",
      "\n",
      "\n",
      "\n",
      "\n",
      "\n",
      "\n",
      "\n",
      "\n",
      "\n",
      "\n",
      "\n",
      "\n",
      "0it [00:00, ?it/s]\u001b[A\u001b[A\u001b[A\u001b[A\u001b[A\u001b[A\u001b[A\u001b[A\u001b[A\u001b[A\u001b[A\u001b[A\u001b[A\u001b[A\u001b[A"
     ]
    },
    {
     "name": "stdout",
     "output_type": "stream",
     "text": [
      "Starting to analyze %  D:\\Sidevideos\\ar34motor\\2022_02_03\\78.avi\n",
      "D:\\Sidevideos\\ar34motor\\2022_02_03  already exists!\n",
      "Loading  D:\\Sidevideos\\ar34motor\\2022_02_03\\78.avi\n",
      "Duration of video [s]:  0.0 , recorded with  40.0 fps!\n",
      "Overall # of frames:  0  found with (before cropping) frame dimensions:  800 550\n",
      "Starting to extract posture\n"
     ]
    },
    {
     "name": "stderr",
     "output_type": "stream",
     "text": [
      "\n",
      "\n",
      "\n",
      "\n",
      "\n",
      "\n",
      "\n",
      "\n",
      "\n",
      "\n",
      "\n",
      "\n",
      "\n",
      "\n",
      "\n",
      "\n",
      "0it [00:00, ?it/s]\u001b[A\u001b[A\u001b[A\u001b[A\u001b[A\u001b[A\u001b[A\u001b[A\u001b[A\u001b[A\u001b[A\u001b[A\u001b[A\u001b[A\u001b[A\u001b[A"
     ]
    },
    {
     "name": "stdout",
     "output_type": "stream",
     "text": [
      "Starting to analyze %  D:\\Sidevideos\\ar34motor\\2022_02_03\\79.avi\n",
      "D:\\Sidevideos\\ar34motor\\2022_02_03  already exists!\n",
      "Loading  D:\\Sidevideos\\ar34motor\\2022_02_03\\79.avi\n",
      "Duration of video [s]:  0.0 , recorded with  40.0 fps!\n",
      "Overall # of frames:  0  found with (before cropping) frame dimensions:  800 550\n",
      "Starting to extract posture\n"
     ]
    },
    {
     "name": "stderr",
     "output_type": "stream",
     "text": [
      "\n",
      "\n",
      "\n",
      "\n",
      "\n",
      "\n",
      "\n",
      "\n",
      "\n",
      "\n",
      "\n",
      "\n",
      "\n",
      "\n",
      "\n",
      "\n",
      "\n",
      "0it [00:00, ?it/s]\u001b[A\u001b[A\u001b[A\u001b[A\u001b[A\u001b[A\u001b[A\u001b[A\u001b[A\u001b[A\u001b[A\u001b[A\u001b[A\u001b[A\u001b[A\u001b[A\u001b[A"
     ]
    },
    {
     "name": "stdout",
     "output_type": "stream",
     "text": [
      "Starting to analyze %  D:\\Sidevideos\\ar34motor\\2022_02_03\\8.avi\n",
      "D:\\Sidevideos\\ar34motor\\2022_02_03  already exists!\n",
      "Loading  D:\\Sidevideos\\ar34motor\\2022_02_03\\8.avi\n",
      "Duration of video [s]:  0.0 , recorded with  40.0 fps!\n",
      "Overall # of frames:  0  found with (before cropping) frame dimensions:  800 550\n",
      "Starting to extract posture\n"
     ]
    },
    {
     "name": "stderr",
     "output_type": "stream",
     "text": [
      "\n",
      "\n",
      "\n",
      "\n",
      "\n",
      "\n",
      "\n",
      "\n",
      "\n",
      "\n",
      "\n",
      "\n",
      "\n",
      "\n",
      "\n",
      "\n",
      "\n",
      "\n",
      "0it [00:00, ?it/s]\u001b[A\u001b[A\u001b[A\u001b[A\u001b[A\u001b[A\u001b[A\u001b[A\u001b[A\u001b[A\u001b[A\u001b[A\u001b[A\u001b[A\u001b[A\u001b[A\u001b[A\u001b[A"
     ]
    },
    {
     "name": "stdout",
     "output_type": "stream",
     "text": [
      "Starting to analyze %  D:\\Sidevideos\\ar34motor\\2022_02_03\\80.avi\n",
      "D:\\Sidevideos\\ar34motor\\2022_02_03  already exists!\n",
      "Loading  D:\\Sidevideos\\ar34motor\\2022_02_03\\80.avi\n",
      "Duration of video [s]:  0.0 , recorded with  40.0 fps!\n",
      "Overall # of frames:  0  found with (before cropping) frame dimensions:  800 550\n",
      "Starting to extract posture\n"
     ]
    },
    {
     "name": "stderr",
     "output_type": "stream",
     "text": [
      "\n",
      "\n",
      "\n",
      "\n",
      "\n",
      "\n",
      "\n",
      "\n",
      "\n",
      "\n",
      "\n",
      "\n",
      "\n",
      "\n",
      "\n",
      "\n",
      "\n",
      "\n",
      "\n",
      "0it [00:00, ?it/s]\u001b[A\u001b[A\u001b[A\u001b[A\u001b[A\u001b[A\u001b[A\u001b[A\u001b[A\u001b[A\u001b[A\u001b[A\u001b[A\u001b[A\u001b[A\u001b[A\u001b[A\u001b[A\u001b[A"
     ]
    },
    {
     "name": "stdout",
     "output_type": "stream",
     "text": [
      "Starting to analyze %  D:\\Sidevideos\\ar34motor\\2022_02_03\\82.avi\n",
      "D:\\Sidevideos\\ar34motor\\2022_02_03  already exists!\n",
      "Loading  D:\\Sidevideos\\ar34motor\\2022_02_03\\82.avi\n",
      "Duration of video [s]:  0.0 , recorded with  40.0 fps!\n",
      "Overall # of frames:  0  found with (before cropping) frame dimensions:  800 550\n",
      "Starting to extract posture\n"
     ]
    },
    {
     "name": "stderr",
     "output_type": "stream",
     "text": [
      "\n",
      "\n",
      "\n",
      "\n",
      "\n",
      "\n",
      "\n",
      "\n",
      "\n",
      "\n",
      "\n",
      "\n",
      "\n",
      "\n",
      "\n",
      "\n",
      "\n",
      "\n",
      "\n",
      "\n",
      "0it [00:00, ?it/s]\u001b[A\u001b[A\u001b[A\u001b[A\u001b[A\u001b[A\u001b[A\u001b[A\u001b[A\u001b[A\u001b[A\u001b[A\u001b[A\u001b[A\u001b[A\u001b[A\u001b[A\u001b[A\u001b[A\u001b[A"
     ]
    },
    {
     "name": "stdout",
     "output_type": "stream",
     "text": [
      "Starting to analyze %  D:\\Sidevideos\\ar34motor\\2022_02_03\\83.avi\n",
      "D:\\Sidevideos\\ar34motor\\2022_02_03  already exists!\n",
      "Loading  D:\\Sidevideos\\ar34motor\\2022_02_03\\83.avi\n",
      "Duration of video [s]:  0.0 , recorded with  40.0 fps!\n",
      "Overall # of frames:  0  found with (before cropping) frame dimensions:  800 550\n",
      "Starting to extract posture\n"
     ]
    },
    {
     "name": "stderr",
     "output_type": "stream",
     "text": [
      "\n",
      "\n",
      "\n",
      "\n",
      "\n",
      "\n",
      "\n",
      "\n",
      "\n",
      "\n",
      "\n",
      "\n",
      "\n",
      "\n",
      "\n",
      "\n",
      "\n",
      "\n",
      "\n",
      "\n",
      "\n",
      "0it [00:00, ?it/s]\u001b[A\u001b[A\u001b[A\u001b[A\u001b[A\u001b[A\u001b[A\u001b[A\u001b[A\u001b[A\u001b[A\u001b[A\u001b[A\u001b[A\u001b[A\u001b[A\u001b[A\u001b[A\u001b[A\u001b[A\u001b[A"
     ]
    },
    {
     "name": "stdout",
     "output_type": "stream",
     "text": [
      "Starting to analyze %  D:\\Sidevideos\\ar34motor\\2022_02_03\\84.avi\n",
      "D:\\Sidevideos\\ar34motor\\2022_02_03  already exists!\n",
      "Loading  D:\\Sidevideos\\ar34motor\\2022_02_03\\84.avi\n",
      "Duration of video [s]:  0.0 , recorded with  40.0 fps!\n",
      "Overall # of frames:  0  found with (before cropping) frame dimensions:  800 550\n",
      "Starting to extract posture\n"
     ]
    },
    {
     "name": "stderr",
     "output_type": "stream",
     "text": [
      "\n",
      "\n",
      "\n",
      "\n",
      "\n",
      "\n",
      "\n",
      "\n",
      "\n",
      "\n",
      "\n",
      "\n",
      "\n",
      "\n",
      "\n",
      "\n",
      "\n",
      "\n",
      "\n",
      "\n",
      "\n",
      "\n",
      "0it [00:00, ?it/s]\u001b[A\u001b[A\u001b[A\u001b[A\u001b[A\u001b[A\u001b[A\u001b[A\u001b[A\u001b[A\u001b[A\u001b[A\u001b[A\u001b[A\u001b[A\u001b[A\u001b[A\u001b[A\u001b[A\u001b[A\u001b[A\u001b[A"
     ]
    },
    {
     "name": "stdout",
     "output_type": "stream",
     "text": [
      "Starting to analyze %  D:\\Sidevideos\\ar34motor\\2022_02_03\\85.avi\n",
      "D:\\Sidevideos\\ar34motor\\2022_02_03  already exists!\n",
      "Loading  D:\\Sidevideos\\ar34motor\\2022_02_03\\85.avi\n",
      "Duration of video [s]:  0.0 , recorded with  40.0 fps!\n",
      "Overall # of frames:  0  found with (before cropping) frame dimensions:  800 550\n",
      "Starting to extract posture\n"
     ]
    },
    {
     "name": "stderr",
     "output_type": "stream",
     "text": [
      "\n",
      "\n",
      "\n",
      "\n",
      "\n",
      "\n",
      "\n",
      "\n",
      "\n",
      "\n",
      "\n",
      "\n",
      "\n",
      "\n",
      "\n",
      "\n",
      "\n",
      "\n",
      "\n",
      "\n",
      "\n",
      "\n",
      "\n",
      "0it [00:00, ?it/s]\u001b[A\u001b[A\u001b[A\u001b[A\u001b[A\u001b[A\u001b[A\u001b[A\u001b[A\u001b[A\u001b[A\u001b[A\u001b[A\u001b[A\u001b[A\u001b[A\u001b[A\u001b[A\u001b[A\u001b[A\u001b[A\u001b[A\u001b[A"
     ]
    },
    {
     "name": "stdout",
     "output_type": "stream",
     "text": [
      "Starting to analyze %  D:\\Sidevideos\\ar34motor\\2022_02_03\\86.avi\n",
      "D:\\Sidevideos\\ar34motor\\2022_02_03  already exists!\n",
      "Loading  D:\\Sidevideos\\ar34motor\\2022_02_03\\86.avi\n",
      "Duration of video [s]:  0.0 , recorded with  40.0 fps!\n",
      "Overall # of frames:  0  found with (before cropping) frame dimensions:  800 550\n",
      "Starting to extract posture\n"
     ]
    },
    {
     "name": "stderr",
     "output_type": "stream",
     "text": [
      "\n",
      "\n",
      "\n",
      "\n",
      "\n",
      "\n",
      "\n",
      "\n",
      "\n",
      "\n",
      "\n",
      "\n",
      "\n",
      "\n",
      "\n",
      "\n",
      "\n",
      "\n",
      "\n",
      "\n",
      "\n",
      "\n",
      "\n",
      "\n",
      "\n",
      "0it [00:00, ?it/s]\u001b[A\u001b[A\u001b[A\u001b[A\u001b[A\u001b[A\u001b[A\u001b[A\u001b[A\u001b[A\u001b[A\u001b[A\u001b[A\u001b[A\u001b[A\u001b[A\u001b[A\u001b[A\u001b[A\u001b[A\u001b[A\u001b[A\u001b[A\u001b[A\u001b[A"
     ]
    },
    {
     "name": "stdout",
     "output_type": "stream",
     "text": [
      "Starting to analyze %  D:\\Sidevideos\\ar34motor\\2022_02_03\\87.avi\n",
      "D:\\Sidevideos\\ar34motor\\2022_02_03  already exists!\n",
      "Loading  D:\\Sidevideos\\ar34motor\\2022_02_03\\87.avi\n",
      "Duration of video [s]:  0.0 , recorded with  40.0 fps!\n",
      "Overall # of frames:  0  found with (before cropping) frame dimensions:  800 550\n",
      "Starting to extract posture\n"
     ]
    },
    {
     "name": "stderr",
     "output_type": "stream",
     "text": [
      "\n",
      "\n",
      "\n",
      "\n",
      "\n",
      "\n",
      "\n",
      "\n",
      "\n",
      "\n",
      "\n",
      "\n",
      "\n",
      "\n",
      "\n",
      "\n",
      "\n",
      "\n",
      "\n",
      "\n",
      "\n",
      "\n",
      "\n",
      "\n",
      "\n",
      "\n",
      "0it [00:00, ?it/s]\u001b[A\u001b[A\u001b[A\u001b[A\u001b[A\u001b[A\u001b[A\u001b[A\u001b[A\u001b[A\u001b[A\u001b[A\u001b[A\u001b[A\u001b[A\u001b[A\u001b[A\u001b[A\u001b[A\u001b[A\u001b[A\u001b[A\u001b[A\u001b[A\u001b[A\u001b[A"
     ]
    },
    {
     "name": "stdout",
     "output_type": "stream",
     "text": [
      "Starting to analyze %  D:\\Sidevideos\\ar34motor\\2022_02_03\\88.avi\n",
      "D:\\Sidevideos\\ar34motor\\2022_02_03  already exists!\n",
      "Loading  D:\\Sidevideos\\ar34motor\\2022_02_03\\88.avi\n",
      "Duration of video [s]:  0.0 , recorded with  40.0 fps!\n",
      "Overall # of frames:  0  found with (before cropping) frame dimensions:  800 550\n",
      "Starting to extract posture\n"
     ]
    },
    {
     "name": "stderr",
     "output_type": "stream",
     "text": [
      "\n",
      "\n",
      "\n",
      "\n",
      "\n",
      "\n",
      "\n",
      "\n",
      "\n",
      "\n",
      "\n",
      "\n",
      "\n",
      "\n",
      "\n",
      "\n",
      "\n",
      "\n",
      "\n",
      "\n",
      "\n",
      "\n",
      "\n",
      "\n",
      "\n",
      "\n",
      "\n",
      "0it [00:00, ?it/s]\u001b[A\u001b[A\u001b[A\u001b[A\u001b[A\u001b[A\u001b[A\u001b[A\u001b[A\u001b[A\u001b[A\u001b[A\u001b[A\u001b[A\u001b[A\u001b[A\u001b[A\u001b[A\u001b[A\u001b[A\u001b[A\u001b[A\u001b[A\u001b[A\u001b[A\u001b[A\u001b[A"
     ]
    },
    {
     "name": "stdout",
     "output_type": "stream",
     "text": [
      "Starting to analyze %  D:\\Sidevideos\\ar34motor\\2022_02_03\\9.avi\n",
      "D:\\Sidevideos\\ar34motor\\2022_02_03  already exists!\n",
      "Loading  D:\\Sidevideos\\ar34motor\\2022_02_03\\9.avi\n",
      "Duration of video [s]:  0.0 , recorded with  40.0 fps!\n",
      "Overall # of frames:  0  found with (before cropping) frame dimensions:  800 550\n",
      "Starting to extract posture\n"
     ]
    },
    {
     "name": "stderr",
     "output_type": "stream",
     "text": [
      "\n",
      "\n",
      "\n",
      "\n",
      "\n",
      "\n",
      "\n",
      "\n",
      "\n",
      "\n",
      "\n",
      "\n",
      "\n",
      "\n",
      "\n",
      "\n",
      "\n",
      "\n",
      "\n",
      "\n",
      "\n",
      "\n",
      "\n",
      "\n",
      "\n",
      "\n",
      "\n",
      "\n",
      " ... (more hidden) ...\u001b[A\u001b[A\u001b[A\u001b[A\u001b[A\u001b[A\u001b[A\u001b[A\u001b[A\u001b[A\u001b[A\u001b[A\u001b[A\u001b[A\u001b[A\u001b[A\u001b[A\u001b[A\u001b[A\u001b[A\u001b[A\u001b[A\u001b[A\u001b[A\u001b[A\u001b[A\u001b[A\u001b[A"
     ]
    },
    {
     "name": "stdout",
     "output_type": "stream",
     "text": [
      "Starting to analyze %  D:\\Sidevideos\\ar34motor\\2022_02_03\\90.avi\n",
      "D:\\Sidevideos\\ar34motor\\2022_02_03  already exists!\n",
      "Loading  D:\\Sidevideos\\ar34motor\\2022_02_03\\90.avi\n",
      "Duration of video [s]:  0.0 , recorded with  40.0 fps!\n",
      "Overall # of frames:  0  found with (before cropping) frame dimensions:  800 550\n",
      "Starting to extract posture\n",
      "Starting to analyze %  D:\\Sidevideos\\ar34motor\\2022_02_03\\91.avi\n",
      "D:\\Sidevideos\\ar34motor\\2022_02_03  already exists!\n",
      "Loading  D:\\Sidevideos\\ar34motor\\2022_02_03\\91.avi\n",
      "Duration of video [s]:  0.0 , recorded with  40.0 fps!\n",
      "Overall # of frames:  0  found with (before cropping) frame dimensions:  800 550\n",
      "Starting to extract posture\n",
      "Starting to analyze %  D:\\Sidevideos\\ar34motor\\2022_02_03\\92.avi\n",
      "D:\\Sidevideos\\ar34motor\\2022_02_03  already exists!\n",
      "Loading  D:\\Sidevideos\\ar34motor\\2022_02_03\\92.avi\n",
      "Duration of video [s]:  0.0 , recorded with  40.0 fps!\n",
      "Overall # of frames:  0  found with (before cropping) frame dimensions:  800 550\n",
      "Starting to extract posture\n",
      "Starting to analyze %  D:\\Sidevideos\\ar34motor\\2022_02_03\\93.avi\n",
      "D:\\Sidevideos\\ar34motor\\2022_02_03  already exists!\n",
      "Loading  D:\\Sidevideos\\ar34motor\\2022_02_03\\93.avi\n",
      "Duration of video [s]:  0.0 , recorded with  40.0 fps!\n",
      "Overall # of frames:  0  found with (before cropping) frame dimensions:  800 550\n",
      "Starting to extract posture\n",
      "Starting to analyze %  D:\\Sidevideos\\ar34motor\\2022_02_03\\95.avi\n",
      "D:\\Sidevideos\\ar34motor\\2022_02_03  already exists!\n",
      "Loading  D:\\Sidevideos\\ar34motor\\2022_02_03\\95.avi\n",
      "Duration of video [s]:  0.0 , recorded with  40.0 fps!\n",
      "Overall # of frames:  0  found with (before cropping) frame dimensions:  800 550\n",
      "Starting to extract posture\n"
     ]
    },
    {
     "name": "stderr",
     "output_type": "stream",
     "text": [
      "10it [00:02,  3.57it/s]\n",
      "10it [00:02,  3.69it/s]\n",
      "10it [00:02,  3.82it/s]\n",
      "10it [00:02,  3.97it/s]\n",
      "10it [00:02,  4.13it/s]\n",
      "10it [00:02,  4.32it/s]\n",
      "10it [00:02,  4.61it/s]\n",
      "10it [00:02,  4.80it/s]\n",
      "10it [00:01,  5.05it/s]\n",
      "10it [00:01,  5.29it/s]\n",
      "10it [00:01,  5.58it/s]\n",
      "10it [00:01,  5.89it/s]\n",
      "10it [00:01,  6.24it/s]\n",
      "10it [00:01,  6.62it/s]\n",
      "10it [00:01,  7.03it/s]\n",
      "10it [00:01,  7.53it/s]\n",
      "10it [00:01,  8.08it/s]\n",
      "10it [00:01,  8.68it/s]\n",
      "10it [00:01,  9.51it/s]\n",
      "10it [00:00, 10.40it/s]\n",
      "10it [00:00, 11.52it/s]\n",
      "10it [00:00, 12.93it/s]\n",
      "10it [00:00, 15.02it/s]\n",
      "10it [00:00, 17.54it/s]\n",
      "10it [00:00, 20.94it/s]\n",
      "10it [00:00, 25.98it/s]\n",
      "10it [00:00, 34.09it/s]\n",
      "10it [00:00, 48.61it/s]\n"
     ]
    },
    {
     "name": "stdout",
     "output_type": "stream",
     "text": [
      "Starting to analyze %  D:\\Sidevideos\\ar34motor\\2022_02_03\\96.avi\n",
      "D:\\Sidevideos\\ar34motor\\2022_02_03  already exists!\n",
      "Loading  D:\\Sidevideos\\ar34motor\\2022_02_03\\96.avi\n",
      "Duration of video [s]:  0.0 , recorded with  40.0 fps!\n",
      "Overall # of frames:  0  found with (before cropping) frame dimensions:  800 550\n",
      "Starting to extract posture\n"
     ]
    },
    {
     "name": "stderr",
     "output_type": "stream",
     "text": [
      "\n",
      "\n",
      "\n",
      "\n",
      "\n",
      "0it [00:00, ?it/s]\u001b[A\u001b[A\u001b[A\u001b[A\u001b[A"
     ]
    },
    {
     "name": "stdout",
     "output_type": "stream",
     "text": [
      "Starting to analyze %  D:\\Sidevideos\\ar34motor\\2022_02_03\\97.avi\n",
      "D:\\Sidevideos\\ar34motor\\2022_02_03  already exists!\n",
      "Loading  D:\\Sidevideos\\ar34motor\\2022_02_03\\97.avi\n",
      "Duration of video [s]:  0.0 , recorded with  40.0 fps!\n",
      "Overall # of frames:  0  found with (before cropping) frame dimensions:  800 550\n",
      "Starting to extract posture\n"
     ]
    },
    {
     "name": "stderr",
     "output_type": "stream",
     "text": [
      "\n",
      "\n",
      "\n",
      "\n",
      "\n",
      "\n",
      "0it [00:00, ?it/s]\u001b[A\u001b[A\u001b[A\u001b[A\u001b[A\u001b[A"
     ]
    },
    {
     "name": "stdout",
     "output_type": "stream",
     "text": [
      "Starting to analyze %  D:\\Sidevideos\\ar34motor\\2022_02_03\\98.avi\n",
      "D:\\Sidevideos\\ar34motor\\2022_02_03  already exists!\n",
      "Loading  D:\\Sidevideos\\ar34motor\\2022_02_03\\98.avi\n",
      "Duration of video [s]:  0.0 , recorded with  40.0 fps!\n",
      "Overall # of frames:  0  found with (before cropping) frame dimensions:  800 550\n",
      "Starting to extract posture\n"
     ]
    },
    {
     "name": "stderr",
     "output_type": "stream",
     "text": [
      "\n",
      "\n",
      "\n",
      "\n",
      "\n",
      "\n",
      "\n",
      "0it [00:00, ?it/s]\u001b[A\u001b[A\u001b[A\u001b[A\u001b[A\u001b[A\u001b[A"
     ]
    },
    {
     "name": "stdout",
     "output_type": "stream",
     "text": [
      "Starting to analyze %  D:\\Sidevideos\\ar34motor\\2022_02_03\\99.avi\n",
      "D:\\Sidevideos\\ar34motor\\2022_02_03  already exists!\n",
      "Loading  D:\\Sidevideos\\ar34motor\\2022_02_03\\99.avi\n",
      "Duration of video [s]:  0.0 , recorded with  40.0 fps!\n",
      "Overall # of frames:  0  found with (before cropping) frame dimensions:  800 550\n",
      "Starting to extract posture\n"
     ]
    },
    {
     "name": "stderr",
     "output_type": "stream",
     "text": [
      "\n",
      "\n",
      "\n",
      "\n",
      "\n",
      "\n",
      "\n",
      "\n",
      "0it [00:00, ?it/s]\u001b[A\u001b[A\u001b[A\u001b[A\u001b[A\u001b[A\u001b[A\u001b[A"
     ]
    },
    {
     "name": "stdout",
     "output_type": "stream",
     "text": [
      "The videos are analyzed. Now your research can truly start! \n",
      " You can create labeled videos with 'create_labeled_video'\n",
      "If the tracking is not satisfactory for some videos, consider expanding the training set. You can use the function 'extract_outlier_frames' to extract a few representative outlier frames.\n",
      "Filtering with median model D:\\Sidevideos\\ar34motor\\2022_02_03\\0.avi\n",
      "No unfiltered data file found in D:\\Sidevideos\\ar34motor\\2022_02_03 for video 0 and scorer DLC_resnet50_Sideview_AugAug4shuffle1_109000.\n",
      "Filtering with median model D:\\Sidevideos\\ar34motor\\2022_02_03\\1.avi\n",
      "No unfiltered data file found in D:\\Sidevideos\\ar34motor\\2022_02_03 for video 1 and scorer DLC_resnet50_Sideview_AugAug4shuffle1_109000.\n",
      "Filtering with median model D:\\Sidevideos\\ar34motor\\2022_02_03\\10.avi\n",
      "No unfiltered data file found in D:\\Sidevideos\\ar34motor\\2022_02_03 for video 10 and scorer DLC_resnet50_Sideview_AugAug4shuffle1_109000.\n",
      "Filtering with median model D:\\Sidevideos\\ar34motor\\2022_02_03\\100.avi\n",
      "No unfiltered data file found in D:\\Sidevideos\\ar34motor\\2022_02_03 for video 100 and scorer DLC_resnet50_Sideview_AugAug4shuffle1_109000.\n",
      "Filtering with median model D:\\Sidevideos\\ar34motor\\2022_02_03\\101.avi\n",
      "No unfiltered data file found in D:\\Sidevideos\\ar34motor\\2022_02_03 for video 101 and scorer DLC_resnet50_Sideview_AugAug4shuffle1_109000.\n",
      "Filtering with median model D:\\Sidevideos\\ar34motor\\2022_02_03\\102.avi\n",
      "No unfiltered data file found in D:\\Sidevideos\\ar34motor\\2022_02_03 for video 102 and scorer DLC_resnet50_Sideview_AugAug4shuffle1_109000.\n",
      "Filtering with median model D:\\Sidevideos\\ar34motor\\2022_02_03\\103.avi\n",
      "No unfiltered data file found in D:\\Sidevideos\\ar34motor\\2022_02_03 for video 103 and scorer DLC_resnet50_Sideview_AugAug4shuffle1_109000.\n",
      "Filtering with median model D:\\Sidevideos\\ar34motor\\2022_02_03\\105.avi\n",
      "No unfiltered data file found in D:\\Sidevideos\\ar34motor\\2022_02_03 for video 105 and scorer DLC_resnet50_Sideview_AugAug4shuffle1_109000.\n",
      "Filtering with median model D:\\Sidevideos\\ar34motor\\2022_02_03\\106.avi\n",
      "No unfiltered data file found in D:\\Sidevideos\\ar34motor\\2022_02_03 for video 106 and scorer DLC_resnet50_Sideview_AugAug4shuffle1_109000.\n",
      "Filtering with median model D:\\Sidevideos\\ar34motor\\2022_02_03\\107.avi\n",
      "No unfiltered data file found in D:\\Sidevideos\\ar34motor\\2022_02_03 for video 107 and scorer DLC_resnet50_Sideview_AugAug4shuffle1_109000.\n",
      "Filtering with median model D:\\Sidevideos\\ar34motor\\2022_02_03\\108.avi\n",
      "No unfiltered data file found in D:\\Sidevideos\\ar34motor\\2022_02_03 for video 108 and scorer DLC_resnet50_Sideview_AugAug4shuffle1_109000.\n",
      "Filtering with median model D:\\Sidevideos\\ar34motor\\2022_02_03\\109.avi\n",
      "No unfiltered data file found in D:\\Sidevideos\\ar34motor\\2022_02_03 for video 109 and scorer DLC_resnet50_Sideview_AugAug4shuffle1_109000.\n",
      "Filtering with median model D:\\Sidevideos\\ar34motor\\2022_02_03\\11.avi\n",
      "No unfiltered data file found in D:\\Sidevideos\\ar34motor\\2022_02_03 for video 11 and scorer DLC_resnet50_Sideview_AugAug4shuffle1_109000.\n",
      "Filtering with median model D:\\Sidevideos\\ar34motor\\2022_02_03\\110.avi\n",
      "No unfiltered data file found in D:\\Sidevideos\\ar34motor\\2022_02_03 for video 110 and scorer DLC_resnet50_Sideview_AugAug4shuffle1_109000.\n",
      "Filtering with median model D:\\Sidevideos\\ar34motor\\2022_02_03\\111.avi\n",
      "No unfiltered data file found in D:\\Sidevideos\\ar34motor\\2022_02_03 for video 111 and scorer DLC_resnet50_Sideview_AugAug4shuffle1_109000.\n",
      "Filtering with median model D:\\Sidevideos\\ar34motor\\2022_02_03\\112.avi\n",
      "No unfiltered data file found in D:\\Sidevideos\\ar34motor\\2022_02_03 for video 112 and scorer DLC_resnet50_Sideview_AugAug4shuffle1_109000.\n",
      "Filtering with median model D:\\Sidevideos\\ar34motor\\2022_02_03\\113.avi\n",
      "No unfiltered data file found in D:\\Sidevideos\\ar34motor\\2022_02_03 for video 113 and scorer DLC_resnet50_Sideview_AugAug4shuffle1_109000.\n",
      "Filtering with median model D:\\Sidevideos\\ar34motor\\2022_02_03\\114.avi\n",
      "No unfiltered data file found in D:\\Sidevideos\\ar34motor\\2022_02_03 for video 114 and scorer DLC_resnet50_Sideview_AugAug4shuffle1_109000.\n",
      "Filtering with median model D:\\Sidevideos\\ar34motor\\2022_02_03\\115.avi\n",
      "No unfiltered data file found in D:\\Sidevideos\\ar34motor\\2022_02_03 for video 115 and scorer DLC_resnet50_Sideview_AugAug4shuffle1_109000.\n",
      "Filtering with median model D:\\Sidevideos\\ar34motor\\2022_02_03\\116.avi\n",
      "No unfiltered data file found in D:\\Sidevideos\\ar34motor\\2022_02_03 for video 116 and scorer DLC_resnet50_Sideview_AugAug4shuffle1_109000.\n",
      "Filtering with median model D:\\Sidevideos\\ar34motor\\2022_02_03\\117.avi\n",
      "No unfiltered data file found in D:\\Sidevideos\\ar34motor\\2022_02_03 for video 117 and scorer DLC_resnet50_Sideview_AugAug4shuffle1_109000.\n",
      "Filtering with median model D:\\Sidevideos\\ar34motor\\2022_02_03\\119.avi\n",
      "No unfiltered data file found in D:\\Sidevideos\\ar34motor\\2022_02_03 for video 119 and scorer DLC_resnet50_Sideview_AugAug4shuffle1_109000.\n",
      "Filtering with median model D:\\Sidevideos\\ar34motor\\2022_02_03\\12.avi\n",
      "No unfiltered data file found in D:\\Sidevideos\\ar34motor\\2022_02_03 for video 12 and scorer DLC_resnet50_Sideview_AugAug4shuffle1_109000.\n",
      "Filtering with median model D:\\Sidevideos\\ar34motor\\2022_02_03\\120.avi\n",
      "No unfiltered data file found in D:\\Sidevideos\\ar34motor\\2022_02_03 for video 120 and scorer DLC_resnet50_Sideview_AugAug4shuffle1_109000.\n",
      "Filtering with median model D:\\Sidevideos\\ar34motor\\2022_02_03\\122.avi\n",
      "No unfiltered data file found in D:\\Sidevideos\\ar34motor\\2022_02_03 for video 122 and scorer DLC_resnet50_Sideview_AugAug4shuffle1_109000.\n",
      "Filtering with median model D:\\Sidevideos\\ar34motor\\2022_02_03\\123.avi\n",
      "No unfiltered data file found in D:\\Sidevideos\\ar34motor\\2022_02_03 for video 123 and scorer DLC_resnet50_Sideview_AugAug4shuffle1_109000.\n",
      "Filtering with median model D:\\Sidevideos\\ar34motor\\2022_02_03\\124.avi\n",
      "No unfiltered data file found in D:\\Sidevideos\\ar34motor\\2022_02_03 for video 124 and scorer DLC_resnet50_Sideview_AugAug4shuffle1_109000.\n",
      "Filtering with median model D:\\Sidevideos\\ar34motor\\2022_02_03\\125.avi\n",
      "No unfiltered data file found in D:\\Sidevideos\\ar34motor\\2022_02_03 for video 125 and scorer DLC_resnet50_Sideview_AugAug4shuffle1_109000.\n",
      "Filtering with median model D:\\Sidevideos\\ar34motor\\2022_02_03\\127.avi\n",
      "No unfiltered data file found in D:\\Sidevideos\\ar34motor\\2022_02_03 for video 127 and scorer DLC_resnet50_Sideview_AugAug4shuffle1_109000.\n",
      "Filtering with median model D:\\Sidevideos\\ar34motor\\2022_02_03\\128.avi\n",
      "No unfiltered data file found in D:\\Sidevideos\\ar34motor\\2022_02_03 for video 128 and scorer DLC_resnet50_Sideview_AugAug4shuffle1_109000.\n",
      "Filtering with median model D:\\Sidevideos\\ar34motor\\2022_02_03\\129.avi\n",
      "No unfiltered data file found in D:\\Sidevideos\\ar34motor\\2022_02_03 for video 129 and scorer DLC_resnet50_Sideview_AugAug4shuffle1_109000.\n",
      "Filtering with median model D:\\Sidevideos\\ar34motor\\2022_02_03\\13.avi\n",
      "No unfiltered data file found in D:\\Sidevideos\\ar34motor\\2022_02_03 for video 13 and scorer DLC_resnet50_Sideview_AugAug4shuffle1_109000.\n",
      "Filtering with median model D:\\Sidevideos\\ar34motor\\2022_02_03\\131.avi\n",
      "No unfiltered data file found in D:\\Sidevideos\\ar34motor\\2022_02_03 for video 131 and scorer DLC_resnet50_Sideview_AugAug4shuffle1_109000.\n",
      "Filtering with median model D:\\Sidevideos\\ar34motor\\2022_02_03\\132.avi\n",
      "No unfiltered data file found in D:\\Sidevideos\\ar34motor\\2022_02_03 for video 132 and scorer DLC_resnet50_Sideview_AugAug4shuffle1_109000.\n",
      "Filtering with median model D:\\Sidevideos\\ar34motor\\2022_02_03\\133.avi\n",
      "No unfiltered data file found in D:\\Sidevideos\\ar34motor\\2022_02_03 for video 133 and scorer DLC_resnet50_Sideview_AugAug4shuffle1_109000.\n",
      "Filtering with median model D:\\Sidevideos\\ar34motor\\2022_02_03\\134.avi\n",
      "No unfiltered data file found in D:\\Sidevideos\\ar34motor\\2022_02_03 for video 134 and scorer DLC_resnet50_Sideview_AugAug4shuffle1_109000.\n",
      "Filtering with median model D:\\Sidevideos\\ar34motor\\2022_02_03\\135.avi\n",
      "No unfiltered data file found in D:\\Sidevideos\\ar34motor\\2022_02_03 for video 135 and scorer DLC_resnet50_Sideview_AugAug4shuffle1_109000.\n",
      "Filtering with median model D:\\Sidevideos\\ar34motor\\2022_02_03\\136.avi\n",
      "No unfiltered data file found in D:\\Sidevideos\\ar34motor\\2022_02_03 for video 136 and scorer DLC_resnet50_Sideview_AugAug4shuffle1_109000.\n",
      "Filtering with median model D:\\Sidevideos\\ar34motor\\2022_02_03\\137.avi\n",
      "No unfiltered data file found in D:\\Sidevideos\\ar34motor\\2022_02_03 for video 137 and scorer DLC_resnet50_Sideview_AugAug4shuffle1_109000.\n",
      "Filtering with median model D:\\Sidevideos\\ar34motor\\2022_02_03\\138.avi\n",
      "No unfiltered data file found in D:\\Sidevideos\\ar34motor\\2022_02_03 for video 138 and scorer DLC_resnet50_Sideview_AugAug4shuffle1_109000.\n",
      "Filtering with median model D:\\Sidevideos\\ar34motor\\2022_02_03\\139.avi\n",
      "No unfiltered data file found in D:\\Sidevideos\\ar34motor\\2022_02_03 for video 139 and scorer DLC_resnet50_Sideview_AugAug4shuffle1_109000.\n",
      "Filtering with median model D:\\Sidevideos\\ar34motor\\2022_02_03\\14.avi\n",
      "No unfiltered data file found in D:\\Sidevideos\\ar34motor\\2022_02_03 for video 14 and scorer DLC_resnet50_Sideview_AugAug4shuffle1_109000.\n",
      "Filtering with median model D:\\Sidevideos\\ar34motor\\2022_02_03\\140.avi\n",
      "No unfiltered data file found in D:\\Sidevideos\\ar34motor\\2022_02_03 for video 140 and scorer DLC_resnet50_Sideview_AugAug4shuffle1_109000.\n",
      "Filtering with median model D:\\Sidevideos\\ar34motor\\2022_02_03\\141.avi\n",
      "No unfiltered data file found in D:\\Sidevideos\\ar34motor\\2022_02_03 for video 141 and scorer DLC_resnet50_Sideview_AugAug4shuffle1_109000.\n",
      "Filtering with median model D:\\Sidevideos\\ar34motor\\2022_02_03\\142.avi\n",
      "No unfiltered data file found in D:\\Sidevideos\\ar34motor\\2022_02_03 for video 142 and scorer DLC_resnet50_Sideview_AugAug4shuffle1_109000.\n",
      "Filtering with median model D:\\Sidevideos\\ar34motor\\2022_02_03\\143.avi\n",
      "No unfiltered data file found in D:\\Sidevideos\\ar34motor\\2022_02_03 for video 143 and scorer DLC_resnet50_Sideview_AugAug4shuffle1_109000.\n",
      "Filtering with median model D:\\Sidevideos\\ar34motor\\2022_02_03\\144.avi\n",
      "No unfiltered data file found in D:\\Sidevideos\\ar34motor\\2022_02_03 for video 144 and scorer DLC_resnet50_Sideview_AugAug4shuffle1_109000.\n",
      "Filtering with median model D:\\Sidevideos\\ar34motor\\2022_02_03\\145.avi\n",
      "No unfiltered data file found in D:\\Sidevideos\\ar34motor\\2022_02_03 for video 145 and scorer DLC_resnet50_Sideview_AugAug4shuffle1_109000.\n",
      "Filtering with median model D:\\Sidevideos\\ar34motor\\2022_02_03\\146.avi\n",
      "No unfiltered data file found in D:\\Sidevideos\\ar34motor\\2022_02_03 for video 146 and scorer DLC_resnet50_Sideview_AugAug4shuffle1_109000.\n",
      "Filtering with median model D:\\Sidevideos\\ar34motor\\2022_02_03\\147.avi\n",
      "No unfiltered data file found in D:\\Sidevideos\\ar34motor\\2022_02_03 for video 147 and scorer DLC_resnet50_Sideview_AugAug4shuffle1_109000.\n",
      "Filtering with median model D:\\Sidevideos\\ar34motor\\2022_02_03\\148.avi\n",
      "No unfiltered data file found in D:\\Sidevideos\\ar34motor\\2022_02_03 for video 148 and scorer DLC_resnet50_Sideview_AugAug4shuffle1_109000.\n",
      "Filtering with median model D:\\Sidevideos\\ar34motor\\2022_02_03\\149.avi\n",
      "No unfiltered data file found in D:\\Sidevideos\\ar34motor\\2022_02_03 for video 149 and scorer DLC_resnet50_Sideview_AugAug4shuffle1_109000.\n",
      "Filtering with median model D:\\Sidevideos\\ar34motor\\2022_02_03\\15.avi\n",
      "No unfiltered data file found in D:\\Sidevideos\\ar34motor\\2022_02_03 for video 15 and scorer DLC_resnet50_Sideview_AugAug4shuffle1_109000.\n",
      "Filtering with median model D:\\Sidevideos\\ar34motor\\2022_02_03\\150.avi\n",
      "No unfiltered data file found in D:\\Sidevideos\\ar34motor\\2022_02_03 for video 150 and scorer DLC_resnet50_Sideview_AugAug4shuffle1_109000.\n",
      "Filtering with median model D:\\Sidevideos\\ar34motor\\2022_02_03\\151.avi\n",
      "No unfiltered data file found in D:\\Sidevideos\\ar34motor\\2022_02_03 for video 151 and scorer DLC_resnet50_Sideview_AugAug4shuffle1_109000.\n",
      "Filtering with median model D:\\Sidevideos\\ar34motor\\2022_02_03\\152.avi\n",
      "No unfiltered data file found in D:\\Sidevideos\\ar34motor\\2022_02_03 for video 152 and scorer DLC_resnet50_Sideview_AugAug4shuffle1_109000.\n",
      "Filtering with median model D:\\Sidevideos\\ar34motor\\2022_02_03\\153.avi\n",
      "No unfiltered data file found in D:\\Sidevideos\\ar34motor\\2022_02_03 for video 153 and scorer DLC_resnet50_Sideview_AugAug4shuffle1_109000.\n",
      "Filtering with median model D:\\Sidevideos\\ar34motor\\2022_02_03\\154.avi\n",
      "No unfiltered data file found in D:\\Sidevideos\\ar34motor\\2022_02_03 for video 154 and scorer DLC_resnet50_Sideview_AugAug4shuffle1_109000.\n",
      "Filtering with median model D:\\Sidevideos\\ar34motor\\2022_02_03\\155.avi\n",
      "No unfiltered data file found in D:\\Sidevideos\\ar34motor\\2022_02_03 for video 155 and scorer DLC_resnet50_Sideview_AugAug4shuffle1_109000.\n",
      "Filtering with median model D:\\Sidevideos\\ar34motor\\2022_02_03\\156.avi\n",
      "No unfiltered data file found in D:\\Sidevideos\\ar34motor\\2022_02_03 for video 156 and scorer DLC_resnet50_Sideview_AugAug4shuffle1_109000.\n",
      "Filtering with median model D:\\Sidevideos\\ar34motor\\2022_02_03\\157.avi\n",
      "No unfiltered data file found in D:\\Sidevideos\\ar34motor\\2022_02_03 for video 157 and scorer DLC_resnet50_Sideview_AugAug4shuffle1_109000.\n",
      "Filtering with median model D:\\Sidevideos\\ar34motor\\2022_02_03\\158.avi\n",
      "No unfiltered data file found in D:\\Sidevideos\\ar34motor\\2022_02_03 for video 158 and scorer DLC_resnet50_Sideview_AugAug4shuffle1_109000.\n",
      "Filtering with median model D:\\Sidevideos\\ar34motor\\2022_02_03\\16.avi\n",
      "No unfiltered data file found in D:\\Sidevideos\\ar34motor\\2022_02_03 for video 16 and scorer DLC_resnet50_Sideview_AugAug4shuffle1_109000.\n",
      "Filtering with median model D:\\Sidevideos\\ar34motor\\2022_02_03\\17.avi\n",
      "No unfiltered data file found in D:\\Sidevideos\\ar34motor\\2022_02_03 for video 17 and scorer DLC_resnet50_Sideview_AugAug4shuffle1_109000.\n",
      "Filtering with median model D:\\Sidevideos\\ar34motor\\2022_02_03\\18.avi\n",
      "No unfiltered data file found in D:\\Sidevideos\\ar34motor\\2022_02_03 for video 18 and scorer DLC_resnet50_Sideview_AugAug4shuffle1_109000.\n",
      "Filtering with median model D:\\Sidevideos\\ar34motor\\2022_02_03\\19.avi\n",
      "No unfiltered data file found in D:\\Sidevideos\\ar34motor\\2022_02_03 for video 19 and scorer DLC_resnet50_Sideview_AugAug4shuffle1_109000.\n",
      "Filtering with median model D:\\Sidevideos\\ar34motor\\2022_02_03\\2.avi\n",
      "No unfiltered data file found in D:\\Sidevideos\\ar34motor\\2022_02_03 for video 2 and scorer DLC_resnet50_Sideview_AugAug4shuffle1_109000.\n",
      "Filtering with median model D:\\Sidevideos\\ar34motor\\2022_02_03\\20.avi\n",
      "No unfiltered data file found in D:\\Sidevideos\\ar34motor\\2022_02_03 for video 20 and scorer DLC_resnet50_Sideview_AugAug4shuffle1_109000.\n",
      "Filtering with median model D:\\Sidevideos\\ar34motor\\2022_02_03\\21.avi\n",
      "No unfiltered data file found in D:\\Sidevideos\\ar34motor\\2022_02_03 for video 21 and scorer DLC_resnet50_Sideview_AugAug4shuffle1_109000.\n",
      "Filtering with median model D:\\Sidevideos\\ar34motor\\2022_02_03\\22.avi\n",
      "No unfiltered data file found in D:\\Sidevideos\\ar34motor\\2022_02_03 for video 22 and scorer DLC_resnet50_Sideview_AugAug4shuffle1_109000.\n",
      "Filtering with median model D:\\Sidevideos\\ar34motor\\2022_02_03\\23.avi\n",
      "No unfiltered data file found in D:\\Sidevideos\\ar34motor\\2022_02_03 for video 23 and scorer DLC_resnet50_Sideview_AugAug4shuffle1_109000.\n",
      "Filtering with median model D:\\Sidevideos\\ar34motor\\2022_02_03\\24.avi\n",
      "No unfiltered data file found in D:\\Sidevideos\\ar34motor\\2022_02_03 for video 24 and scorer DLC_resnet50_Sideview_AugAug4shuffle1_109000.\n",
      "Filtering with median model D:\\Sidevideos\\ar34motor\\2022_02_03\\25.avi\n",
      "No unfiltered data file found in D:\\Sidevideos\\ar34motor\\2022_02_03 for video 25 and scorer DLC_resnet50_Sideview_AugAug4shuffle1_109000.\n",
      "Filtering with median model D:\\Sidevideos\\ar34motor\\2022_02_03\\26.avi\n",
      "No unfiltered data file found in D:\\Sidevideos\\ar34motor\\2022_02_03 for video 26 and scorer DLC_resnet50_Sideview_AugAug4shuffle1_109000.\n",
      "Filtering with median model D:\\Sidevideos\\ar34motor\\2022_02_03\\27.avi\n",
      "No unfiltered data file found in D:\\Sidevideos\\ar34motor\\2022_02_03 for video 27 and scorer DLC_resnet50_Sideview_AugAug4shuffle1_109000.\n",
      "Filtering with median model D:\\Sidevideos\\ar34motor\\2022_02_03\\29.avi\n",
      "No unfiltered data file found in D:\\Sidevideos\\ar34motor\\2022_02_03 for video 29 and scorer DLC_resnet50_Sideview_AugAug4shuffle1_109000.\n",
      "Filtering with median model D:\\Sidevideos\\ar34motor\\2022_02_03\\3.avi\n",
      "No unfiltered data file found in D:\\Sidevideos\\ar34motor\\2022_02_03 for video 3 and scorer DLC_resnet50_Sideview_AugAug4shuffle1_109000.\n",
      "Filtering with median model D:\\Sidevideos\\ar34motor\\2022_02_03\\30.avi\n",
      "No unfiltered data file found in D:\\Sidevideos\\ar34motor\\2022_02_03 for video 30 and scorer DLC_resnet50_Sideview_AugAug4shuffle1_109000.\n",
      "Filtering with median model D:\\Sidevideos\\ar34motor\\2022_02_03\\31.avi\n",
      "No unfiltered data file found in D:\\Sidevideos\\ar34motor\\2022_02_03 for video 31 and scorer DLC_resnet50_Sideview_AugAug4shuffle1_109000.\n",
      "Filtering with median model D:\\Sidevideos\\ar34motor\\2022_02_03\\32.avi\n",
      "No unfiltered data file found in D:\\Sidevideos\\ar34motor\\2022_02_03 for video 32 and scorer DLC_resnet50_Sideview_AugAug4shuffle1_109000.\n",
      "Filtering with median model D:\\Sidevideos\\ar34motor\\2022_02_03\\33.avi\n",
      "No unfiltered data file found in D:\\Sidevideos\\ar34motor\\2022_02_03 for video 33 and scorer DLC_resnet50_Sideview_AugAug4shuffle1_109000.\n",
      "Filtering with median model D:\\Sidevideos\\ar34motor\\2022_02_03\\34.avi\n",
      "No unfiltered data file found in D:\\Sidevideos\\ar34motor\\2022_02_03 for video 34 and scorer DLC_resnet50_Sideview_AugAug4shuffle1_109000.\n",
      "Filtering with median model D:\\Sidevideos\\ar34motor\\2022_02_03\\35.avi\n",
      "No unfiltered data file found in D:\\Sidevideos\\ar34motor\\2022_02_03 for video 35 and scorer DLC_resnet50_Sideview_AugAug4shuffle1_109000.\n",
      "Filtering with median model D:\\Sidevideos\\ar34motor\\2022_02_03\\36.avi\n",
      "No unfiltered data file found in D:\\Sidevideos\\ar34motor\\2022_02_03 for video 36 and scorer DLC_resnet50_Sideview_AugAug4shuffle1_109000.\n",
      "Filtering with median model D:\\Sidevideos\\ar34motor\\2022_02_03\\38.avi\n",
      "No unfiltered data file found in D:\\Sidevideos\\ar34motor\\2022_02_03 for video 38 and scorer DLC_resnet50_Sideview_AugAug4shuffle1_109000.\n",
      "Filtering with median model D:\\Sidevideos\\ar34motor\\2022_02_03\\39.avi\n",
      "No unfiltered data file found in D:\\Sidevideos\\ar34motor\\2022_02_03 for video 39 and scorer DLC_resnet50_Sideview_AugAug4shuffle1_109000.\n",
      "Filtering with median model D:\\Sidevideos\\ar34motor\\2022_02_03\\4.avi\n",
      "No unfiltered data file found in D:\\Sidevideos\\ar34motor\\2022_02_03 for video 4 and scorer DLC_resnet50_Sideview_AugAug4shuffle1_109000.\n",
      "Filtering with median model D:\\Sidevideos\\ar34motor\\2022_02_03\\40.avi\n",
      "No unfiltered data file found in D:\\Sidevideos\\ar34motor\\2022_02_03 for video 40 and scorer DLC_resnet50_Sideview_AugAug4shuffle1_109000.\n",
      "Filtering with median model D:\\Sidevideos\\ar34motor\\2022_02_03\\41.avi\n",
      "No unfiltered data file found in D:\\Sidevideos\\ar34motor\\2022_02_03 for video 41 and scorer DLC_resnet50_Sideview_AugAug4shuffle1_109000.\n",
      "Filtering with median model D:\\Sidevideos\\ar34motor\\2022_02_03\\42.avi\n",
      "No unfiltered data file found in D:\\Sidevideos\\ar34motor\\2022_02_03 for video 42 and scorer DLC_resnet50_Sideview_AugAug4shuffle1_109000.\n",
      "Filtering with median model D:\\Sidevideos\\ar34motor\\2022_02_03\\43.avi\n",
      "No unfiltered data file found in D:\\Sidevideos\\ar34motor\\2022_02_03 for video 43 and scorer DLC_resnet50_Sideview_AugAug4shuffle1_109000.\n",
      "Filtering with median model D:\\Sidevideos\\ar34motor\\2022_02_03\\44.avi\n",
      "No unfiltered data file found in D:\\Sidevideos\\ar34motor\\2022_02_03 for video 44 and scorer DLC_resnet50_Sideview_AugAug4shuffle1_109000.\n",
      "Filtering with median model D:\\Sidevideos\\ar34motor\\2022_02_03\\45.avi\n",
      "No unfiltered data file found in D:\\Sidevideos\\ar34motor\\2022_02_03 for video 45 and scorer DLC_resnet50_Sideview_AugAug4shuffle1_109000.\n",
      "Filtering with median model D:\\Sidevideos\\ar34motor\\2022_02_03\\46.avi\n",
      "No unfiltered data file found in D:\\Sidevideos\\ar34motor\\2022_02_03 for video 46 and scorer DLC_resnet50_Sideview_AugAug4shuffle1_109000.\n",
      "Filtering with median model D:\\Sidevideos\\ar34motor\\2022_02_03\\47.avi\n",
      "No unfiltered data file found in D:\\Sidevideos\\ar34motor\\2022_02_03 for video 47 and scorer DLC_resnet50_Sideview_AugAug4shuffle1_109000.\n",
      "Filtering with median model D:\\Sidevideos\\ar34motor\\2022_02_03\\48.avi\n",
      "No unfiltered data file found in D:\\Sidevideos\\ar34motor\\2022_02_03 for video 48 and scorer DLC_resnet50_Sideview_AugAug4shuffle1_109000.\n",
      "Filtering with median model D:\\Sidevideos\\ar34motor\\2022_02_03\\49.avi\n",
      "No unfiltered data file found in D:\\Sidevideos\\ar34motor\\2022_02_03 for video 49 and scorer DLC_resnet50_Sideview_AugAug4shuffle1_109000.\n",
      "Filtering with median model D:\\Sidevideos\\ar34motor\\2022_02_03\\5.avi\n",
      "No unfiltered data file found in D:\\Sidevideos\\ar34motor\\2022_02_03 for video 5 and scorer DLC_resnet50_Sideview_AugAug4shuffle1_109000.\n",
      "Filtering with median model D:\\Sidevideos\\ar34motor\\2022_02_03\\50.avi\n",
      "No unfiltered data file found in D:\\Sidevideos\\ar34motor\\2022_02_03 for video 50 and scorer DLC_resnet50_Sideview_AugAug4shuffle1_109000.\n",
      "Filtering with median model D:\\Sidevideos\\ar34motor\\2022_02_03\\51.avi\n",
      "No unfiltered data file found in D:\\Sidevideos\\ar34motor\\2022_02_03 for video 51 and scorer DLC_resnet50_Sideview_AugAug4shuffle1_109000.\n",
      "Filtering with median model D:\\Sidevideos\\ar34motor\\2022_02_03\\52.avi\n",
      "No unfiltered data file found in D:\\Sidevideos\\ar34motor\\2022_02_03 for video 52 and scorer DLC_resnet50_Sideview_AugAug4shuffle1_109000.\n",
      "Filtering with median model D:\\Sidevideos\\ar34motor\\2022_02_03\\53.avi\n",
      "No unfiltered data file found in D:\\Sidevideos\\ar34motor\\2022_02_03 for video 53 and scorer DLC_resnet50_Sideview_AugAug4shuffle1_109000.\n",
      "Filtering with median model D:\\Sidevideos\\ar34motor\\2022_02_03\\54.avi\n",
      "No unfiltered data file found in D:\\Sidevideos\\ar34motor\\2022_02_03 for video 54 and scorer DLC_resnet50_Sideview_AugAug4shuffle1_109000.\n",
      "Filtering with median model D:\\Sidevideos\\ar34motor\\2022_02_03\\55.avi\n",
      "No unfiltered data file found in D:\\Sidevideos\\ar34motor\\2022_02_03 for video 55 and scorer DLC_resnet50_Sideview_AugAug4shuffle1_109000.\n",
      "Filtering with median model D:\\Sidevideos\\ar34motor\\2022_02_03\\56.avi\n",
      "No unfiltered data file found in D:\\Sidevideos\\ar34motor\\2022_02_03 for video 56 and scorer DLC_resnet50_Sideview_AugAug4shuffle1_109000.\n",
      "Filtering with median model D:\\Sidevideos\\ar34motor\\2022_02_03\\57.avi\n",
      "No unfiltered data file found in D:\\Sidevideos\\ar34motor\\2022_02_03 for video 57 and scorer DLC_resnet50_Sideview_AugAug4shuffle1_109000.\n",
      "Filtering with median model D:\\Sidevideos\\ar34motor\\2022_02_03\\59.avi\n",
      "No unfiltered data file found in D:\\Sidevideos\\ar34motor\\2022_02_03 for video 59 and scorer DLC_resnet50_Sideview_AugAug4shuffle1_109000.\n",
      "Filtering with median model D:\\Sidevideos\\ar34motor\\2022_02_03\\60.avi\n",
      "No unfiltered data file found in D:\\Sidevideos\\ar34motor\\2022_02_03 for video 60 and scorer DLC_resnet50_Sideview_AugAug4shuffle1_109000.\n",
      "Filtering with median model D:\\Sidevideos\\ar34motor\\2022_02_03\\61.avi\n",
      "No unfiltered data file found in D:\\Sidevideos\\ar34motor\\2022_02_03 for video 61 and scorer DLC_resnet50_Sideview_AugAug4shuffle1_109000.\n",
      "Filtering with median model D:\\Sidevideos\\ar34motor\\2022_02_03\\62.avi\n",
      "No unfiltered data file found in D:\\Sidevideos\\ar34motor\\2022_02_03 for video 62 and scorer DLC_resnet50_Sideview_AugAug4shuffle1_109000.\n",
      "Filtering with median model D:\\Sidevideos\\ar34motor\\2022_02_03\\64.avi\n",
      "No unfiltered data file found in D:\\Sidevideos\\ar34motor\\2022_02_03 for video 64 and scorer DLC_resnet50_Sideview_AugAug4shuffle1_109000.\n",
      "Filtering with median model D:\\Sidevideos\\ar34motor\\2022_02_03\\65.avi\n",
      "No unfiltered data file found in D:\\Sidevideos\\ar34motor\\2022_02_03 for video 65 and scorer DLC_resnet50_Sideview_AugAug4shuffle1_109000.\n",
      "Filtering with median model D:\\Sidevideos\\ar34motor\\2022_02_03\\66.avi\n",
      "No unfiltered data file found in D:\\Sidevideos\\ar34motor\\2022_02_03 for video 66 and scorer DLC_resnet50_Sideview_AugAug4shuffle1_109000.\n",
      "Filtering with median model D:\\Sidevideos\\ar34motor\\2022_02_03\\67.avi\n"
     ]
    },
    {
     "name": "stdout",
     "output_type": "stream",
     "text": [
      "No unfiltered data file found in D:\\Sidevideos\\ar34motor\\2022_02_03 for video 67 and scorer DLC_resnet50_Sideview_AugAug4shuffle1_109000.\n",
      "Filtering with median model D:\\Sidevideos\\ar34motor\\2022_02_03\\68.avi\n",
      "No unfiltered data file found in D:\\Sidevideos\\ar34motor\\2022_02_03 for video 68 and scorer DLC_resnet50_Sideview_AugAug4shuffle1_109000.\n",
      "Filtering with median model D:\\Sidevideos\\ar34motor\\2022_02_03\\69.avi\n",
      "No unfiltered data file found in D:\\Sidevideos\\ar34motor\\2022_02_03 for video 69 and scorer DLC_resnet50_Sideview_AugAug4shuffle1_109000.\n",
      "Filtering with median model D:\\Sidevideos\\ar34motor\\2022_02_03\\7.avi\n",
      "No unfiltered data file found in D:\\Sidevideos\\ar34motor\\2022_02_03 for video 7 and scorer DLC_resnet50_Sideview_AugAug4shuffle1_109000.\n",
      "Filtering with median model D:\\Sidevideos\\ar34motor\\2022_02_03\\70.avi\n",
      "No unfiltered data file found in D:\\Sidevideos\\ar34motor\\2022_02_03 for video 70 and scorer DLC_resnet50_Sideview_AugAug4shuffle1_109000.\n",
      "Filtering with median model D:\\Sidevideos\\ar34motor\\2022_02_03\\71.avi\n",
      "No unfiltered data file found in D:\\Sidevideos\\ar34motor\\2022_02_03 for video 71 and scorer DLC_resnet50_Sideview_AugAug4shuffle1_109000.\n",
      "Filtering with median model D:\\Sidevideos\\ar34motor\\2022_02_03\\72.avi\n",
      "No unfiltered data file found in D:\\Sidevideos\\ar34motor\\2022_02_03 for video 72 and scorer DLC_resnet50_Sideview_AugAug4shuffle1_109000.\n",
      "Filtering with median model D:\\Sidevideos\\ar34motor\\2022_02_03\\73.avi\n",
      "No unfiltered data file found in D:\\Sidevideos\\ar34motor\\2022_02_03 for video 73 and scorer DLC_resnet50_Sideview_AugAug4shuffle1_109000.\n",
      "Filtering with median model D:\\Sidevideos\\ar34motor\\2022_02_03\\75.avi\n",
      "No unfiltered data file found in D:\\Sidevideos\\ar34motor\\2022_02_03 for video 75 and scorer DLC_resnet50_Sideview_AugAug4shuffle1_109000.\n",
      "Filtering with median model D:\\Sidevideos\\ar34motor\\2022_02_03\\77.avi\n",
      "No unfiltered data file found in D:\\Sidevideos\\ar34motor\\2022_02_03 for video 77 and scorer DLC_resnet50_Sideview_AugAug4shuffle1_109000.\n",
      "Filtering with median model D:\\Sidevideos\\ar34motor\\2022_02_03\\78.avi\n",
      "No unfiltered data file found in D:\\Sidevideos\\ar34motor\\2022_02_03 for video 78 and scorer DLC_resnet50_Sideview_AugAug4shuffle1_109000.\n",
      "Filtering with median model D:\\Sidevideos\\ar34motor\\2022_02_03\\79.avi\n",
      "No unfiltered data file found in D:\\Sidevideos\\ar34motor\\2022_02_03 for video 79 and scorer DLC_resnet50_Sideview_AugAug4shuffle1_109000.\n",
      "Filtering with median model D:\\Sidevideos\\ar34motor\\2022_02_03\\8.avi\n",
      "No unfiltered data file found in D:\\Sidevideos\\ar34motor\\2022_02_03 for video 8 and scorer DLC_resnet50_Sideview_AugAug4shuffle1_109000.\n",
      "Filtering with median model D:\\Sidevideos\\ar34motor\\2022_02_03\\80.avi\n",
      "No unfiltered data file found in D:\\Sidevideos\\ar34motor\\2022_02_03 for video 80 and scorer DLC_resnet50_Sideview_AugAug4shuffle1_109000.\n",
      "Filtering with median model D:\\Sidevideos\\ar34motor\\2022_02_03\\82.avi\n",
      "No unfiltered data file found in D:\\Sidevideos\\ar34motor\\2022_02_03 for video 82 and scorer DLC_resnet50_Sideview_AugAug4shuffle1_109000.\n",
      "Filtering with median model D:\\Sidevideos\\ar34motor\\2022_02_03\\83.avi\n",
      "No unfiltered data file found in D:\\Sidevideos\\ar34motor\\2022_02_03 for video 83 and scorer DLC_resnet50_Sideview_AugAug4shuffle1_109000.\n",
      "Filtering with median model D:\\Sidevideos\\ar34motor\\2022_02_03\\84.avi\n",
      "No unfiltered data file found in D:\\Sidevideos\\ar34motor\\2022_02_03 for video 84 and scorer DLC_resnet50_Sideview_AugAug4shuffle1_109000.\n",
      "Filtering with median model D:\\Sidevideos\\ar34motor\\2022_02_03\\85.avi\n",
      "No unfiltered data file found in D:\\Sidevideos\\ar34motor\\2022_02_03 for video 85 and scorer DLC_resnet50_Sideview_AugAug4shuffle1_109000.\n",
      "Filtering with median model D:\\Sidevideos\\ar34motor\\2022_02_03\\86.avi\n",
      "No unfiltered data file found in D:\\Sidevideos\\ar34motor\\2022_02_03 for video 86 and scorer DLC_resnet50_Sideview_AugAug4shuffle1_109000.\n",
      "Filtering with median model D:\\Sidevideos\\ar34motor\\2022_02_03\\87.avi\n",
      "No unfiltered data file found in D:\\Sidevideos\\ar34motor\\2022_02_03 for video 87 and scorer DLC_resnet50_Sideview_AugAug4shuffle1_109000.\n",
      "Filtering with median model D:\\Sidevideos\\ar34motor\\2022_02_03\\88.avi\n",
      "No unfiltered data file found in D:\\Sidevideos\\ar34motor\\2022_02_03 for video 88 and scorer DLC_resnet50_Sideview_AugAug4shuffle1_109000.\n",
      "Filtering with median model D:\\Sidevideos\\ar34motor\\2022_02_03\\9.avi\n",
      "No unfiltered data file found in D:\\Sidevideos\\ar34motor\\2022_02_03 for video 9 and scorer DLC_resnet50_Sideview_AugAug4shuffle1_109000.\n",
      "Filtering with median model D:\\Sidevideos\\ar34motor\\2022_02_03\\90.avi\n",
      "No unfiltered data file found in D:\\Sidevideos\\ar34motor\\2022_02_03 for video 90 and scorer DLC_resnet50_Sideview_AugAug4shuffle1_109000.\n",
      "Filtering with median model D:\\Sidevideos\\ar34motor\\2022_02_03\\91.avi\n",
      "No unfiltered data file found in D:\\Sidevideos\\ar34motor\\2022_02_03 for video 91 and scorer DLC_resnet50_Sideview_AugAug4shuffle1_109000.\n",
      "Filtering with median model D:\\Sidevideos\\ar34motor\\2022_02_03\\92.avi\n",
      "No unfiltered data file found in D:\\Sidevideos\\ar34motor\\2022_02_03 for video 92 and scorer DLC_resnet50_Sideview_AugAug4shuffle1_109000.\n",
      "Filtering with median model D:\\Sidevideos\\ar34motor\\2022_02_03\\93.avi\n",
      "No unfiltered data file found in D:\\Sidevideos\\ar34motor\\2022_02_03 for video 93 and scorer DLC_resnet50_Sideview_AugAug4shuffle1_109000.\n",
      "Filtering with median model D:\\Sidevideos\\ar34motor\\2022_02_03\\95.avi\n",
      "No unfiltered data file found in D:\\Sidevideos\\ar34motor\\2022_02_03 for video 95 and scorer DLC_resnet50_Sideview_AugAug4shuffle1_109000.\n",
      "Filtering with median model D:\\Sidevideos\\ar34motor\\2022_02_03\\96.avi\n",
      "No unfiltered data file found in D:\\Sidevideos\\ar34motor\\2022_02_03 for video 96 and scorer DLC_resnet50_Sideview_AugAug4shuffle1_109000.\n",
      "Filtering with median model D:\\Sidevideos\\ar34motor\\2022_02_03\\97.avi\n",
      "No unfiltered data file found in D:\\Sidevideos\\ar34motor\\2022_02_03 for video 97 and scorer DLC_resnet50_Sideview_AugAug4shuffle1_109000.\n",
      "Filtering with median model D:\\Sidevideos\\ar34motor\\2022_02_03\\98.avi\n",
      "No unfiltered data file found in D:\\Sidevideos\\ar34motor\\2022_02_03 for video 98 and scorer DLC_resnet50_Sideview_AugAug4shuffle1_109000.\n",
      "Filtering with median model D:\\Sidevideos\\ar34motor\\2022_02_03\\99.avi\n",
      "No unfiltered data file found in D:\\Sidevideos\\ar34motor\\2022_02_03 for video 99 and scorer DLC_resnet50_Sideview_AugAug4shuffle1_109000.\n"
     ]
    }
   ],
   "source": [
    "\n",
    "path_config_file ='C:\\\\Users\\\\dklab\\\\Dropbox\\\\Notebook\\\\DLC\\\\Sideview_Aug-Arash-2021-08-04\\\\config.yaml';\n",
    "import os\n",
    "text_files = [os.path.join(Mainfolder,f) for f in os.listdir(Mainfolder) if f.endswith('.avi') and not f.endswith('L.avi') and not f.endswith('R.avi') and not f.endswith('videopoints.avi') and not f.endswith('videopoints.avi')]\n",
    "print(text_files[1])\n",
    "temp1=deeplabcut.analyze_videos(path_config_file,text_files,shuffle=1, save_as_csv=True )\n",
    "temp=deeplabcut.filterpredictions(path_config_file,text_files)"
   ]
  },
  {
   "cell_type": "code",
   "execution_count": 5,
   "metadata": {},
   "outputs": [
    {
     "name": "stderr",
     "output_type": "stream",
     "text": [
      "10it [00:00, 13.14it/s]\n",
      "10it [00:00, 15.01it/s]\n",
      "10it [00:00, 17.40it/s]\n",
      "10it [00:00, 20.81it/s]\n",
      "  2%|██                                                                               | 10/400 [00:14<09:23,  1.45s/it]\n",
      "  2%|██                                                                               | 10/400 [00:12<07:53,  1.22s/it]\n",
      "  2%|██                                                                               | 10/400 [00:09<06:12,  1.05it/s]\n",
      "  2%|██                                                                               | 10/400 [00:06<04:19,  1.50it/s]\n",
      "10it [00:03,  2.68it/s]\n",
      "10it [00:00, 11.17it/s]\n"
     ]
    },
    {
     "ename": "ModuleNotFoundError",
     "evalue": "No module named 'extract_eye_imagesion'",
     "output_type": "error",
     "traceback": [
      "\u001b[1;31m---------------------------------------------------------------------------\u001b[0m",
      "\u001b[1;31mModuleNotFoundError\u001b[0m                       Traceback (most recent call last)",
      "\u001b[1;32m<ipython-input-5-f4c956463f7b>\u001b[0m in \u001b[0;36m<module>\u001b[1;34m\u001b[0m\n\u001b[1;32m----> 1\u001b[1;33m \u001b[1;32mimport\u001b[0m \u001b[0mextract_eye_imagesion\u001b[0m\u001b[1;33m\u001b[0m\u001b[0m\n\u001b[0m\u001b[0;32m      2\u001b[0m \u001b[0mextract_eye_imagesion\u001b[0m\u001b[1;33m.\u001b[0m\u001b[0mextract_eye_images\u001b[0m\u001b[1;33m(\u001b[0m\u001b[0mMainfolder\u001b[0m\u001b[1;33m)\u001b[0m\u001b[1;33m\u001b[0m\u001b[0m\n",
      "\u001b[1;31mModuleNotFoundError\u001b[0m: No module named 'extract_eye_imagesion'"
     ]
    }
   ],
   "source": [
    "import extract_eye_imagesion\n",
    "extract_eye_imagesion.extract_eye_videos(Mainfolder)"
   ]
  },
  {
   "cell_type": "markdown",
   "metadata": {},
   "source": [
    "## this step is to load analze eye data"
   ]
  },
  {
   "cell_type": "code",
   "execution_count": 2,
   "metadata": {},
   "outputs": [
    {
     "name": "stderr",
     "output_type": "stream",
     "text": [
      "C:\\Users\\DKLAb\\Anaconda3\\envs\\dlc-windowsGPU\\lib\\site-packages\\tensorflow\\python\\framework\\dtypes.py:523: FutureWarning: Passing (type, 1) or '1type' as a synonym of type is deprecated; in a future version of numpy, it will be understood as (type, (1,)) / '(1,)type'.\n",
      "  _np_qint8 = np.dtype([(\"qint8\", np.int8, 1)])\n",
      "C:\\Users\\DKLAb\\Anaconda3\\envs\\dlc-windowsGPU\\lib\\site-packages\\tensorflow\\python\\framework\\dtypes.py:524: FutureWarning: Passing (type, 1) or '1type' as a synonym of type is deprecated; in a future version of numpy, it will be understood as (type, (1,)) / '(1,)type'.\n",
      "  _np_quint8 = np.dtype([(\"quint8\", np.uint8, 1)])\n",
      "C:\\Users\\DKLAb\\Anaconda3\\envs\\dlc-windowsGPU\\lib\\site-packages\\tensorflow\\python\\framework\\dtypes.py:525: FutureWarning: Passing (type, 1) or '1type' as a synonym of type is deprecated; in a future version of numpy, it will be understood as (type, (1,)) / '(1,)type'.\n",
      "  _np_qint16 = np.dtype([(\"qint16\", np.int16, 1)])\n",
      "C:\\Users\\DKLAb\\Anaconda3\\envs\\dlc-windowsGPU\\lib\\site-packages\\tensorflow\\python\\framework\\dtypes.py:526: FutureWarning: Passing (type, 1) or '1type' as a synonym of type is deprecated; in a future version of numpy, it will be understood as (type, (1,)) / '(1,)type'.\n",
      "  _np_quint16 = np.dtype([(\"quint16\", np.uint16, 1)])\n",
      "C:\\Users\\DKLAb\\Anaconda3\\envs\\dlc-windowsGPU\\lib\\site-packages\\tensorflow\\python\\framework\\dtypes.py:527: FutureWarning: Passing (type, 1) or '1type' as a synonym of type is deprecated; in a future version of numpy, it will be understood as (type, (1,)) / '(1,)type'.\n",
      "  _np_qint32 = np.dtype([(\"qint32\", np.int32, 1)])\n",
      "C:\\Users\\DKLAb\\Anaconda3\\envs\\dlc-windowsGPU\\lib\\site-packages\\tensorflow\\python\\framework\\dtypes.py:532: FutureWarning: Passing (type, 1) or '1type' as a synonym of type is deprecated; in a future version of numpy, it will be understood as (type, (1,)) / '(1,)type'.\n",
      "  np_resource = np.dtype([(\"resource\", np.ubyte, 1)])\n",
      "C:\\Users\\DKLAb\\Anaconda3\\envs\\dlc-windowsGPU\\lib\\site-packages\\dask\\dataframe\\utils.py:15: FutureWarning: pandas.util.testing is deprecated. Use the functions in the public API at pandas.testing instead.\n",
      "  import pandas.util.testing as tm\n"
     ]
    }
   ],
   "source": [
    "import deeplabcut\n",
    "## https://github.com/AlexEMG/DeepLabCut"
   ]
  },
  {
   "cell_type": "code",
   "execution_count": null,
   "metadata": {},
   "outputs": [],
   "source": [
    "path_config_file = 'D:\\\\Sidevideos\\\\DLC\\\\Sideview4-Arash-2021-07-18\\\\config.yaml';\n",
    "#Mainfolder = 'D:\\\\videos\\\\ar32\\\\2020_12_18';\n",
    "path_config_file ='D:\\\\Sidevideos\\\\DLC\\\\Sideview_Aug-Arash-2021-08-04\\\\config.yaml';\n",
    "#Mainfolder = 'D:\\\\videos\\\\ar32\\\\2020_12_18';\n",
    "import os\n",
    "text_files = [os.path.join(Mainfolder,f) for f in os.listdir(Mainfolder) if f.endswith('.avi') and not f.endswith('L.avi') and not f.endswith('R.avi') and not f.endswith('videopoints.avi') and not f.endswith('videopoints.avi')]\n",
    "print(text_files[1])\n",
    "#text_files='C:\\\\videos\\\\ar30motor\\\\2021_04_25\\\\9.avi'\n",
    "temp1=deeplabcut.analyze_videos(path_config_file,text_files,shuffle=1, save_as_csv=True )\n",
    "temp=deeplabcut.filterpredictions(path_config_file,text_files)"
   ]
  },
  {
   "cell_type": "code",
   "execution_count": 12,
   "metadata": {},
   "outputs": [
    {
     "name": "stdout",
     "output_type": "stream",
     "text": [
      "D:\\Sidevideos\\ar34motor\\2022_01_27\\10EYE.avi\n",
      "Using snapshot-436000 for model C:\\Users\\DKLAb\\Dropbox\\Notebook\\DLC\\Eyedata4-Arash-2022-02-02\\dlc-models\\iteration-0\\Eyedata4Feb2-trainset95shuffle1\n",
      "Initializing ResNet\n",
      "Starting to analyze %  D:\\Sidevideos\\ar34motor\\2022_01_27\\0EYE.avi\n",
      "D:\\Sidevideos\\ar34motor\\2022_01_27  already exists!\n",
      "Loading  D:\\Sidevideos\\ar34motor\\2022_01_27\\0EYE.avi\n",
      "Duration of video [s]:  11.95 , recorded with  40.0 fps!\n",
      "Overall # of frames:  478  found with (before cropping) frame dimensions:  200 200\n",
      "Starting to extract posture\n",
      "Cropping based on the x1 = 60 x2 = 150 y1 = 60 y2 = 150. You can adjust the cropping coordinates in the config.yaml file.\n"
     ]
    },
    {
     "name": "stderr",
     "output_type": "stream",
     "text": [
      "480it [00:02, 161.57it/s]                                                                                              \n"
     ]
    },
    {
     "name": "stdout",
     "output_type": "stream",
     "text": [
      "Saving results in D:\\Sidevideos\\ar34motor\\2022_01_27...\n",
      "Saving csv poses!\n",
      "Starting to analyze %  D:\\Sidevideos\\ar34motor\\2022_01_27\\10EYE.avi\n",
      "D:\\Sidevideos\\ar34motor\\2022_01_27  already exists!\n",
      "Loading  D:\\Sidevideos\\ar34motor\\2022_01_27\\10EYE.avi\n",
      "Duration of video [s]:  11.38 , recorded with  40.0 fps!\n",
      "Overall # of frames:  455  found with (before cropping) frame dimensions:  200 200\n",
      "Starting to extract posture\n",
      "Cropping based on the x1 = 60 x2 = 150 y1 = 60 y2 = 150. You can adjust the cropping coordinates in the config.yaml file.\n"
     ]
    },
    {
     "name": "stderr",
     "output_type": "stream",
     "text": [
      "460it [00:02, 210.20it/s]                                                                                              \n"
     ]
    },
    {
     "name": "stdout",
     "output_type": "stream",
     "text": [
      "Saving results in D:\\Sidevideos\\ar34motor\\2022_01_27...\n",
      "Saving csv poses!\n",
      "Starting to analyze %  D:\\Sidevideos\\ar34motor\\2022_01_27\\11EYE.avi\n",
      "D:\\Sidevideos\\ar34motor\\2022_01_27  already exists!\n",
      "Loading  D:\\Sidevideos\\ar34motor\\2022_01_27\\11EYE.avi\n",
      "Duration of video [s]:  11.28 , recorded with  40.0 fps!\n",
      "Overall # of frames:  451  found with (before cropping) frame dimensions:  200 200\n",
      "Starting to extract posture\n",
      "Cropping based on the x1 = 60 x2 = 150 y1 = 60 y2 = 150. You can adjust the cropping coordinates in the config.yaml file.\n"
     ]
    },
    {
     "name": "stderr",
     "output_type": "stream",
     "text": [
      "460it [00:02, 213.80it/s]                                                                                              \n"
     ]
    },
    {
     "name": "stdout",
     "output_type": "stream",
     "text": [
      "Saving results in D:\\Sidevideos\\ar34motor\\2022_01_27...\n",
      "Saving csv poses!\n",
      "Starting to analyze %  D:\\Sidevideos\\ar34motor\\2022_01_27\\12EYE.avi\n",
      "D:\\Sidevideos\\ar34motor\\2022_01_27  already exists!\n",
      "Loading  D:\\Sidevideos\\ar34motor\\2022_01_27\\12EYE.avi\n",
      "Duration of video [s]:  11.47 , recorded with  40.0 fps!\n",
      "Overall # of frames:  459  found with (before cropping) frame dimensions:  200 200\n",
      "Starting to extract posture\n",
      "Cropping based on the x1 = 60 x2 = 150 y1 = 60 y2 = 150. You can adjust the cropping coordinates in the config.yaml file.\n"
     ]
    },
    {
     "name": "stderr",
     "output_type": "stream",
     "text": [
      "460it [00:02, 210.68it/s]                                                                                              \n"
     ]
    },
    {
     "name": "stdout",
     "output_type": "stream",
     "text": [
      "Saving results in D:\\Sidevideos\\ar34motor\\2022_01_27...\n",
      "Saving csv poses!\n",
      "Starting to analyze %  D:\\Sidevideos\\ar34motor\\2022_01_27\\13EYE.avi\n",
      "D:\\Sidevideos\\ar34motor\\2022_01_27  already exists!\n",
      "Loading  D:\\Sidevideos\\ar34motor\\2022_01_27\\13EYE.avi\n",
      "Duration of video [s]:  11.53 , recorded with  40.0 fps!\n",
      "Overall # of frames:  461  found with (before cropping) frame dimensions:  200 200\n",
      "Starting to extract posture\n",
      "Cropping based on the x1 = 60 x2 = 150 y1 = 60 y2 = 150. You can adjust the cropping coordinates in the config.yaml file.\n"
     ]
    },
    {
     "name": "stderr",
     "output_type": "stream",
     "text": [
      "470it [00:02, 212.64it/s]                                                                                              \n"
     ]
    },
    {
     "name": "stdout",
     "output_type": "stream",
     "text": [
      "Saving results in D:\\Sidevideos\\ar34motor\\2022_01_27...\n",
      "Saving csv poses!\n",
      "Starting to analyze %  D:\\Sidevideos\\ar34motor\\2022_01_27\\14EYE.avi\n",
      "D:\\Sidevideos\\ar34motor\\2022_01_27  already exists!\n",
      "Loading  D:\\Sidevideos\\ar34motor\\2022_01_27\\14EYE.avi\n",
      "Duration of video [s]:  10.8 , recorded with  40.0 fps!\n",
      "Overall # of frames:  432  found with (before cropping) frame dimensions:  200 200\n",
      "Starting to extract posture\n",
      "Cropping based on the x1 = 60 x2 = 150 y1 = 60 y2 = 150. You can adjust the cropping coordinates in the config.yaml file.\n"
     ]
    },
    {
     "name": "stderr",
     "output_type": "stream",
     "text": [
      "440it [00:02, 216.21it/s]                                                                                              \n"
     ]
    },
    {
     "name": "stdout",
     "output_type": "stream",
     "text": [
      "Saving results in D:\\Sidevideos\\ar34motor\\2022_01_27...\n",
      "Saving csv poses!\n",
      "Starting to analyze %  D:\\Sidevideos\\ar34motor\\2022_01_27\\15EYE.avi\n",
      "D:\\Sidevideos\\ar34motor\\2022_01_27  already exists!\n",
      "Loading  D:\\Sidevideos\\ar34motor\\2022_01_27\\15EYE.avi\n",
      "Duration of video [s]:  11.4 , recorded with  40.0 fps!\n",
      "Overall # of frames:  456  found with (before cropping) frame dimensions:  200 200\n",
      "Starting to extract posture\n",
      "Cropping based on the x1 = 60 x2 = 150 y1 = 60 y2 = 150. You can adjust the cropping coordinates in the config.yaml file.\n"
     ]
    },
    {
     "name": "stderr",
     "output_type": "stream",
     "text": [
      "460it [00:02, 215.20it/s]                                                                                              \n"
     ]
    },
    {
     "name": "stdout",
     "output_type": "stream",
     "text": [
      "Saving results in D:\\Sidevideos\\ar34motor\\2022_01_27...\n",
      "Saving csv poses!\n",
      "Starting to analyze %  D:\\Sidevideos\\ar34motor\\2022_01_27\\16EYE.avi\n",
      "D:\\Sidevideos\\ar34motor\\2022_01_27  already exists!\n",
      "Loading  D:\\Sidevideos\\ar34motor\\2022_01_27\\16EYE.avi\n",
      "Duration of video [s]:  12.5 , recorded with  40.0 fps!\n",
      "Overall # of frames:  500  found with (before cropping) frame dimensions:  200 200\n",
      "Starting to extract posture\n",
      "Cropping based on the x1 = 60 x2 = 150 y1 = 60 y2 = 150. You can adjust the cropping coordinates in the config.yaml file.\n"
     ]
    },
    {
     "name": "stderr",
     "output_type": "stream",
     "text": [
      "510it [00:02, 217.33it/s]                                                                                              \n"
     ]
    },
    {
     "name": "stdout",
     "output_type": "stream",
     "text": [
      "Saving results in D:\\Sidevideos\\ar34motor\\2022_01_27...\n",
      "Saving csv poses!\n",
      "Starting to analyze %  D:\\Sidevideos\\ar34motor\\2022_01_27\\17EYE.avi\n",
      "D:\\Sidevideos\\ar34motor\\2022_01_27  already exists!\n",
      "Loading  D:\\Sidevideos\\ar34motor\\2022_01_27\\17EYE.avi\n",
      "Duration of video [s]:  11.9 , recorded with  40.0 fps!\n",
      "Overall # of frames:  476  found with (before cropping) frame dimensions:  200 200\n",
      "Starting to extract posture\n",
      "Cropping based on the x1 = 60 x2 = 150 y1 = 60 y2 = 150. You can adjust the cropping coordinates in the config.yaml file.\n"
     ]
    },
    {
     "name": "stderr",
     "output_type": "stream",
     "text": [
      "480it [00:02, 214.75it/s]                                                                                              \n"
     ]
    },
    {
     "name": "stdout",
     "output_type": "stream",
     "text": [
      "Saving results in D:\\Sidevideos\\ar34motor\\2022_01_27...\n",
      "Saving csv poses!\n",
      "Starting to analyze %  D:\\Sidevideos\\ar34motor\\2022_01_27\\19EYE.avi\n",
      "D:\\Sidevideos\\ar34motor\\2022_01_27  already exists!\n",
      "Loading  D:\\Sidevideos\\ar34motor\\2022_01_27\\19EYE.avi\n",
      "Duration of video [s]:  12.5 , recorded with  40.0 fps!\n",
      "Overall # of frames:  500  found with (before cropping) frame dimensions:  200 200\n",
      "Starting to extract posture\n",
      "Cropping based on the x1 = 60 x2 = 150 y1 = 60 y2 = 150. You can adjust the cropping coordinates in the config.yaml file.\n"
     ]
    },
    {
     "name": "stderr",
     "output_type": "stream",
     "text": [
      "510it [00:02, 215.96it/s]                                                                                              \n"
     ]
    },
    {
     "name": "stdout",
     "output_type": "stream",
     "text": [
      "Saving results in D:\\Sidevideos\\ar34motor\\2022_01_27...\n",
      "Saving csv poses!\n",
      "Starting to analyze %  D:\\Sidevideos\\ar34motor\\2022_01_27\\1EYE.avi\n",
      "D:\\Sidevideos\\ar34motor\\2022_01_27  already exists!\n",
      "Loading  D:\\Sidevideos\\ar34motor\\2022_01_27\\1EYE.avi\n",
      "Duration of video [s]:  12.5 , recorded with  40.0 fps!\n",
      "Overall # of frames:  500  found with (before cropping) frame dimensions:  200 200\n",
      "Starting to extract posture\n",
      "Cropping based on the x1 = 60 x2 = 150 y1 = 60 y2 = 150. You can adjust the cropping coordinates in the config.yaml file.\n"
     ]
    },
    {
     "name": "stderr",
     "output_type": "stream",
     "text": [
      "510it [00:02, 216.50it/s]                                                                                              \n"
     ]
    },
    {
     "name": "stdout",
     "output_type": "stream",
     "text": [
      "Saving results in D:\\Sidevideos\\ar34motor\\2022_01_27...\n",
      "Saving csv poses!\n",
      "Starting to analyze %  D:\\Sidevideos\\ar34motor\\2022_01_27\\20EYE.avi\n",
      "D:\\Sidevideos\\ar34motor\\2022_01_27  already exists!\n",
      "Loading  D:\\Sidevideos\\ar34motor\\2022_01_27\\20EYE.avi\n",
      "Duration of video [s]:  12.5 , recorded with  40.0 fps!\n",
      "Overall # of frames:  500  found with (before cropping) frame dimensions:  200 200\n",
      "Starting to extract posture\n",
      "Cropping based on the x1 = 60 x2 = 150 y1 = 60 y2 = 150. You can adjust the cropping coordinates in the config.yaml file.\n"
     ]
    },
    {
     "name": "stderr",
     "output_type": "stream",
     "text": [
      "510it [00:02, 217.15it/s]                                                                                              \n"
     ]
    },
    {
     "name": "stdout",
     "output_type": "stream",
     "text": [
      "Saving results in D:\\Sidevideos\\ar34motor\\2022_01_27...\n",
      "Saving csv poses!\n",
      "Starting to analyze %  D:\\Sidevideos\\ar34motor\\2022_01_27\\21EYE.avi\n",
      "D:\\Sidevideos\\ar34motor\\2022_01_27  already exists!\n",
      "Loading  D:\\Sidevideos\\ar34motor\\2022_01_27\\21EYE.avi\n",
      "Duration of video [s]:  12.5 , recorded with  40.0 fps!\n",
      "Overall # of frames:  500  found with (before cropping) frame dimensions:  200 200\n",
      "Starting to extract posture\n",
      "Cropping based on the x1 = 60 x2 = 150 y1 = 60 y2 = 150. You can adjust the cropping coordinates in the config.yaml file.\n"
     ]
    },
    {
     "name": "stderr",
     "output_type": "stream",
     "text": [
      "510it [00:02, 215.96it/s]                                                                                              \n"
     ]
    },
    {
     "name": "stdout",
     "output_type": "stream",
     "text": [
      "Saving results in D:\\Sidevideos\\ar34motor\\2022_01_27...\n",
      "Saving csv poses!\n",
      "Starting to analyze %  D:\\Sidevideos\\ar34motor\\2022_01_27\\22EYE.avi\n",
      "D:\\Sidevideos\\ar34motor\\2022_01_27  already exists!\n",
      "Loading  D:\\Sidevideos\\ar34motor\\2022_01_27\\22EYE.avi\n",
      "Duration of video [s]:  12.5 , recorded with  40.0 fps!\n",
      "Overall # of frames:  500  found with (before cropping) frame dimensions:  200 200\n",
      "Starting to extract posture\n",
      "Cropping based on the x1 = 60 x2 = 150 y1 = 60 y2 = 150. You can adjust the cropping coordinates in the config.yaml file.\n"
     ]
    },
    {
     "name": "stderr",
     "output_type": "stream",
     "text": [
      "510it [00:02, 215.23it/s]                                                                                              \n"
     ]
    },
    {
     "name": "stdout",
     "output_type": "stream",
     "text": [
      "Saving results in D:\\Sidevideos\\ar34motor\\2022_01_27...\n",
      "Saving csv poses!\n",
      "Starting to analyze %  D:\\Sidevideos\\ar34motor\\2022_01_27\\23EYE.avi\n",
      "D:\\Sidevideos\\ar34motor\\2022_01_27  already exists!\n",
      "Loading  D:\\Sidevideos\\ar34motor\\2022_01_27\\23EYE.avi\n",
      "Duration of video [s]:  12.5 , recorded with  40.0 fps!\n",
      "Overall # of frames:  500  found with (before cropping) frame dimensions:  200 200\n",
      "Starting to extract posture\n",
      "Cropping based on the x1 = 60 x2 = 150 y1 = 60 y2 = 150. You can adjust the cropping coordinates in the config.yaml file.\n"
     ]
    },
    {
     "name": "stderr",
     "output_type": "stream",
     "text": [
      "510it [00:02, 216.59it/s]                                                                                              \n"
     ]
    },
    {
     "name": "stdout",
     "output_type": "stream",
     "text": [
      "Saving results in D:\\Sidevideos\\ar34motor\\2022_01_27...\n",
      "Saving csv poses!\n",
      "Starting to analyze %  D:\\Sidevideos\\ar34motor\\2022_01_27\\24EYE.avi\n",
      "D:\\Sidevideos\\ar34motor\\2022_01_27  already exists!\n",
      "Loading  D:\\Sidevideos\\ar34motor\\2022_01_27\\24EYE.avi\n",
      "Duration of video [s]:  12.5 , recorded with  40.0 fps!\n",
      "Overall # of frames:  500  found with (before cropping) frame dimensions:  200 200\n",
      "Starting to extract posture\n",
      "Cropping based on the x1 = 60 x2 = 150 y1 = 60 y2 = 150. You can adjust the cropping coordinates in the config.yaml file.\n"
     ]
    },
    {
     "name": "stderr",
     "output_type": "stream",
     "text": [
      "510it [00:02, 214.24it/s]                                                                                              \n"
     ]
    },
    {
     "name": "stdout",
     "output_type": "stream",
     "text": [
      "Saving results in D:\\Sidevideos\\ar34motor\\2022_01_27...\n",
      "Saving csv poses!\n",
      "Starting to analyze %  D:\\Sidevideos\\ar34motor\\2022_01_27\\25EYE.avi\n",
      "D:\\Sidevideos\\ar34motor\\2022_01_27  already exists!\n",
      "Loading  D:\\Sidevideos\\ar34motor\\2022_01_27\\25EYE.avi\n",
      "Duration of video [s]:  12.5 , recorded with  40.0 fps!\n",
      "Overall # of frames:  500  found with (before cropping) frame dimensions:  200 200\n",
      "Starting to extract posture\n",
      "Cropping based on the x1 = 60 x2 = 150 y1 = 60 y2 = 150. You can adjust the cropping coordinates in the config.yaml file.\n"
     ]
    },
    {
     "name": "stderr",
     "output_type": "stream",
     "text": [
      "510it [00:02, 214.60it/s]                                                                                              \n"
     ]
    },
    {
     "name": "stdout",
     "output_type": "stream",
     "text": [
      "Saving results in D:\\Sidevideos\\ar34motor\\2022_01_27...\n",
      "Saving csv poses!\n",
      "Starting to analyze %  D:\\Sidevideos\\ar34motor\\2022_01_27\\26EYE.avi\n",
      "D:\\Sidevideos\\ar34motor\\2022_01_27  already exists!\n",
      "Loading  D:\\Sidevideos\\ar34motor\\2022_01_27\\26EYE.avi\n",
      "Duration of video [s]:  12.5 , recorded with  40.0 fps!\n",
      "Overall # of frames:  500  found with (before cropping) frame dimensions:  200 200\n",
      "Starting to extract posture\n",
      "Cropping based on the x1 = 60 x2 = 150 y1 = 60 y2 = 150. You can adjust the cropping coordinates in the config.yaml file.\n"
     ]
    },
    {
     "name": "stderr",
     "output_type": "stream",
     "text": [
      "510it [00:02, 215.05it/s]                                                                                              \n"
     ]
    },
    {
     "name": "stdout",
     "output_type": "stream",
     "text": [
      "Saving results in D:\\Sidevideos\\ar34motor\\2022_01_27...\n",
      "Saving csv poses!\n",
      "Starting to analyze %  D:\\Sidevideos\\ar34motor\\2022_01_27\\27EYE.avi\n",
      "D:\\Sidevideos\\ar34motor\\2022_01_27  already exists!\n",
      "Loading  D:\\Sidevideos\\ar34motor\\2022_01_27\\27EYE.avi\n",
      "Duration of video [s]:  12.5 , recorded with  40.0 fps!\n",
      "Overall # of frames:  500  found with (before cropping) frame dimensions:  200 200\n",
      "Starting to extract posture\n",
      "Cropping based on the x1 = 60 x2 = 150 y1 = 60 y2 = 150. You can adjust the cropping coordinates in the config.yaml file.\n"
     ]
    },
    {
     "name": "stderr",
     "output_type": "stream",
     "text": [
      "510it [00:02, 212.99it/s]                                                                                              \n"
     ]
    },
    {
     "name": "stdout",
     "output_type": "stream",
     "text": [
      "Saving results in D:\\Sidevideos\\ar34motor\\2022_01_27...\n",
      "Saving csv poses!\n",
      "Starting to analyze %  D:\\Sidevideos\\ar34motor\\2022_01_27\\28EYE.avi\n",
      "D:\\Sidevideos\\ar34motor\\2022_01_27  already exists!\n",
      "Loading  D:\\Sidevideos\\ar34motor\\2022_01_27\\28EYE.avi\n",
      "Duration of video [s]:  12.5 , recorded with  40.0 fps!\n",
      "Overall # of frames:  500  found with (before cropping) frame dimensions:  200 200\n",
      "Starting to extract posture\n",
      "Cropping based on the x1 = 60 x2 = 150 y1 = 60 y2 = 150. You can adjust the cropping coordinates in the config.yaml file.\n"
     ]
    },
    {
     "name": "stderr",
     "output_type": "stream",
     "text": [
      "510it [00:02, 213.79it/s]                                                                                              \n"
     ]
    },
    {
     "name": "stdout",
     "output_type": "stream",
     "text": [
      "Saving results in D:\\Sidevideos\\ar34motor\\2022_01_27...\n",
      "Saving csv poses!\n",
      "Starting to analyze %  D:\\Sidevideos\\ar34motor\\2022_01_27\\29EYE.avi\n",
      "D:\\Sidevideos\\ar34motor\\2022_01_27  already exists!\n",
      "Loading  D:\\Sidevideos\\ar34motor\\2022_01_27\\29EYE.avi\n",
      "Duration of video [s]:  12.35 , recorded with  40.0 fps!\n",
      "Overall # of frames:  494  found with (before cropping) frame dimensions:  200 200\n",
      "Starting to extract posture\n",
      "Cropping based on the x1 = 60 x2 = 150 y1 = 60 y2 = 150. You can adjust the cropping coordinates in the config.yaml file.\n"
     ]
    },
    {
     "name": "stderr",
     "output_type": "stream",
     "text": [
      "500it [00:02, 212.71it/s]                                                                                              \n"
     ]
    },
    {
     "name": "stdout",
     "output_type": "stream",
     "text": [
      "Saving results in D:\\Sidevideos\\ar34motor\\2022_01_27...\n",
      "Saving csv poses!\n",
      "Starting to analyze %  D:\\Sidevideos\\ar34motor\\2022_01_27\\2EYE.avi\n",
      "D:\\Sidevideos\\ar34motor\\2022_01_27  already exists!\n",
      "Loading  D:\\Sidevideos\\ar34motor\\2022_01_27\\2EYE.avi\n",
      "Duration of video [s]:  9.85 , recorded with  40.0 fps!\n",
      "Overall # of frames:  394  found with (before cropping) frame dimensions:  200 200\n",
      "Starting to extract posture\n",
      "Cropping based on the x1 = 60 x2 = 150 y1 = 60 y2 = 150. You can adjust the cropping coordinates in the config.yaml file.\n"
     ]
    },
    {
     "name": "stderr",
     "output_type": "stream",
     "text": [
      "400it [00:01, 208.71it/s]                                                                                              \n"
     ]
    },
    {
     "name": "stdout",
     "output_type": "stream",
     "text": [
      "Saving results in D:\\Sidevideos\\ar34motor\\2022_01_27...\n",
      "Saving csv poses!\n",
      "Starting to analyze %  D:\\Sidevideos\\ar34motor\\2022_01_27\\30EYE.avi\n",
      "D:\\Sidevideos\\ar34motor\\2022_01_27  already exists!\n",
      "Loading  D:\\Sidevideos\\ar34motor\\2022_01_27\\30EYE.avi\n",
      "Duration of video [s]:  12.47 , recorded with  40.0 fps!\n",
      "Overall # of frames:  499  found with (before cropping) frame dimensions:  200 200\n",
      "Starting to extract posture\n",
      "Cropping based on the x1 = 60 x2 = 150 y1 = 60 y2 = 150. You can adjust the cropping coordinates in the config.yaml file.\n"
     ]
    },
    {
     "name": "stderr",
     "output_type": "stream",
     "text": [
      "500it [00:02, 208.38it/s]                                                                                              \n"
     ]
    },
    {
     "name": "stdout",
     "output_type": "stream",
     "text": [
      "Saving results in D:\\Sidevideos\\ar34motor\\2022_01_27...\n",
      "Saving csv poses!\n",
      "Starting to analyze %  D:\\Sidevideos\\ar34motor\\2022_01_27\\31EYE.avi\n",
      "D:\\Sidevideos\\ar34motor\\2022_01_27  already exists!\n",
      "Loading  D:\\Sidevideos\\ar34motor\\2022_01_27\\31EYE.avi\n",
      "Duration of video [s]:  12.4 , recorded with  40.0 fps!\n",
      "Overall # of frames:  496  found with (before cropping) frame dimensions:  200 200\n",
      "Starting to extract posture\n",
      "Cropping based on the x1 = 60 x2 = 150 y1 = 60 y2 = 150. You can adjust the cropping coordinates in the config.yaml file.\n"
     ]
    },
    {
     "name": "stderr",
     "output_type": "stream",
     "text": [
      "500it [00:02, 211.08it/s]                                                                                              \n"
     ]
    },
    {
     "name": "stdout",
     "output_type": "stream",
     "text": [
      "Saving results in D:\\Sidevideos\\ar34motor\\2022_01_27...\n",
      "Saving csv poses!\n",
      "Starting to analyze %  D:\\Sidevideos\\ar34motor\\2022_01_27\\32EYE.avi\n",
      "D:\\Sidevideos\\ar34motor\\2022_01_27  already exists!\n",
      "Loading  D:\\Sidevideos\\ar34motor\\2022_01_27\\32EYE.avi\n",
      "Duration of video [s]:  12.5 , recorded with  40.0 fps!\n",
      "Overall # of frames:  500  found with (before cropping) frame dimensions:  200 200\n",
      "Starting to extract posture\n",
      "Cropping based on the x1 = 60 x2 = 150 y1 = 60 y2 = 150. You can adjust the cropping coordinates in the config.yaml file.\n"
     ]
    },
    {
     "name": "stderr",
     "output_type": "stream",
     "text": [
      "510it [00:02, 213.26it/s]                                                                                              \n"
     ]
    },
    {
     "name": "stdout",
     "output_type": "stream",
     "text": [
      "Saving results in D:\\Sidevideos\\ar34motor\\2022_01_27...\n",
      "Saving csv poses!\n",
      "Starting to analyze %  D:\\Sidevideos\\ar34motor\\2022_01_27\\33EYE.avi\n",
      "D:\\Sidevideos\\ar34motor\\2022_01_27  already exists!\n",
      "Loading  D:\\Sidevideos\\ar34motor\\2022_01_27\\33EYE.avi\n",
      "Duration of video [s]:  12.5 , recorded with  40.0 fps!\n",
      "Overall # of frames:  500  found with (before cropping) frame dimensions:  200 200\n",
      "Starting to extract posture\n",
      "Cropping based on the x1 = 60 x2 = 150 y1 = 60 y2 = 150. You can adjust the cropping coordinates in the config.yaml file.\n"
     ]
    },
    {
     "name": "stderr",
     "output_type": "stream",
     "text": [
      "510it [00:02, 213.26it/s]                                                                                              \n"
     ]
    },
    {
     "name": "stdout",
     "output_type": "stream",
     "text": [
      "Saving results in D:\\Sidevideos\\ar34motor\\2022_01_27...\n",
      "Saving csv poses!\n",
      "Starting to analyze %  D:\\Sidevideos\\ar34motor\\2022_01_27\\34EYE.avi\n",
      "D:\\Sidevideos\\ar34motor\\2022_01_27  already exists!\n",
      "Loading  D:\\Sidevideos\\ar34motor\\2022_01_27\\34EYE.avi\n",
      "Duration of video [s]:  12.5 , recorded with  40.0 fps!\n",
      "Overall # of frames:  500  found with (before cropping) frame dimensions:  200 200\n",
      "Starting to extract posture\n",
      "Cropping based on the x1 = 60 x2 = 150 y1 = 60 y2 = 150. You can adjust the cropping coordinates in the config.yaml file.\n"
     ]
    },
    {
     "name": "stderr",
     "output_type": "stream",
     "text": [
      "510it [00:02, 214.15it/s]                                                                                              \n"
     ]
    },
    {
     "name": "stdout",
     "output_type": "stream",
     "text": [
      "Saving results in D:\\Sidevideos\\ar34motor\\2022_01_27...\n",
      "Saving csv poses!\n",
      "Starting to analyze %  D:\\Sidevideos\\ar34motor\\2022_01_27\\35EYE.avi\n",
      "D:\\Sidevideos\\ar34motor\\2022_01_27  already exists!\n",
      "Loading  D:\\Sidevideos\\ar34motor\\2022_01_27\\35EYE.avi\n",
      "Duration of video [s]:  12.35 , recorded with  40.0 fps!\n",
      "Overall # of frames:  494  found with (before cropping) frame dimensions:  200 200\n",
      "Starting to extract posture\n",
      "Cropping based on the x1 = 60 x2 = 150 y1 = 60 y2 = 150. You can adjust the cropping coordinates in the config.yaml file.\n"
     ]
    },
    {
     "name": "stderr",
     "output_type": "stream",
     "text": [
      "500it [00:02, 214.71it/s]                                                                                              \n"
     ]
    },
    {
     "name": "stdout",
     "output_type": "stream",
     "text": [
      "Saving results in D:\\Sidevideos\\ar34motor\\2022_01_27...\n",
      "Saving csv poses!\n",
      "Starting to analyze %  D:\\Sidevideos\\ar34motor\\2022_01_27\\36EYE.avi\n",
      "D:\\Sidevideos\\ar34motor\\2022_01_27  already exists!\n",
      "Loading  D:\\Sidevideos\\ar34motor\\2022_01_27\\36EYE.avi\n",
      "Duration of video [s]:  12.5 , recorded with  40.0 fps!\n",
      "Overall # of frames:  500  found with (before cropping) frame dimensions:  200 200\n",
      "Starting to extract posture\n",
      "Cropping based on the x1 = 60 x2 = 150 y1 = 60 y2 = 150. You can adjust the cropping coordinates in the config.yaml file.\n"
     ]
    },
    {
     "name": "stderr",
     "output_type": "stream",
     "text": [
      "510it [00:02, 214.15it/s]                                                                                              \n"
     ]
    },
    {
     "name": "stdout",
     "output_type": "stream",
     "text": [
      "Saving results in D:\\Sidevideos\\ar34motor\\2022_01_27...\n",
      "Saving csv poses!\n",
      "Starting to analyze %  D:\\Sidevideos\\ar34motor\\2022_01_27\\37EYE.avi\n",
      "D:\\Sidevideos\\ar34motor\\2022_01_27  already exists!\n",
      "Loading  D:\\Sidevideos\\ar34motor\\2022_01_27\\37EYE.avi\n",
      "Duration of video [s]:  12.5 , recorded with  40.0 fps!\n",
      "Overall # of frames:  500  found with (before cropping) frame dimensions:  200 200\n",
      "Starting to extract posture\n",
      "Cropping based on the x1 = 60 x2 = 150 y1 = 60 y2 = 150. You can adjust the cropping coordinates in the config.yaml file.\n"
     ]
    },
    {
     "name": "stderr",
     "output_type": "stream",
     "text": [
      "510it [00:02, 214.87it/s]                                                                                              \n"
     ]
    },
    {
     "name": "stdout",
     "output_type": "stream",
     "text": [
      "Saving results in D:\\Sidevideos\\ar34motor\\2022_01_27...\n",
      "Saving csv poses!\n",
      "Starting to analyze %  D:\\Sidevideos\\ar34motor\\2022_01_27\\38EYE.avi\n",
      "D:\\Sidevideos\\ar34motor\\2022_01_27  already exists!\n",
      "Loading  D:\\Sidevideos\\ar34motor\\2022_01_27\\38EYE.avi\n",
      "Duration of video [s]:  12.5 , recorded with  40.0 fps!\n",
      "Overall # of frames:  500  found with (before cropping) frame dimensions:  200 200\n",
      "Starting to extract posture\n",
      "Cropping based on the x1 = 60 x2 = 150 y1 = 60 y2 = 150. You can adjust the cropping coordinates in the config.yaml file.\n"
     ]
    },
    {
     "name": "stderr",
     "output_type": "stream",
     "text": [
      "510it [00:02, 215.68it/s]                                                                                              \n"
     ]
    },
    {
     "name": "stdout",
     "output_type": "stream",
     "text": [
      "Saving results in D:\\Sidevideos\\ar34motor\\2022_01_27...\n",
      "Saving csv poses!\n",
      "Starting to analyze %  D:\\Sidevideos\\ar34motor\\2022_01_27\\39EYE.avi\n",
      "D:\\Sidevideos\\ar34motor\\2022_01_27  already exists!\n",
      "Loading  D:\\Sidevideos\\ar34motor\\2022_01_27\\39EYE.avi\n",
      "Duration of video [s]:  12.05 , recorded with  40.0 fps!\n",
      "Overall # of frames:  482  found with (before cropping) frame dimensions:  200 200\n",
      "Starting to extract posture\n",
      "Cropping based on the x1 = 60 x2 = 150 y1 = 60 y2 = 150. You can adjust the cropping coordinates in the config.yaml file.\n"
     ]
    },
    {
     "name": "stderr",
     "output_type": "stream",
     "text": [
      "490it [00:02, 215.29it/s]                                                                                              \n"
     ]
    },
    {
     "name": "stdout",
     "output_type": "stream",
     "text": [
      "Saving results in D:\\Sidevideos\\ar34motor\\2022_01_27...\n",
      "Saving csv poses!\n",
      "Starting to analyze %  D:\\Sidevideos\\ar34motor\\2022_01_27\\3EYE.avi\n",
      "D:\\Sidevideos\\ar34motor\\2022_01_27  already exists!\n",
      "Loading  D:\\Sidevideos\\ar34motor\\2022_01_27\\3EYE.avi\n",
      "Duration of video [s]:  11.88 , recorded with  40.0 fps!\n",
      "Overall # of frames:  475  found with (before cropping) frame dimensions:  200 200\n",
      "Starting to extract posture\n",
      "Cropping based on the x1 = 60 x2 = 150 y1 = 60 y2 = 150. You can adjust the cropping coordinates in the config.yaml file.\n"
     ]
    },
    {
     "name": "stderr",
     "output_type": "stream",
     "text": [
      "480it [00:02, 213.80it/s]                                                                                              \n"
     ]
    },
    {
     "name": "stdout",
     "output_type": "stream",
     "text": [
      "Saving results in D:\\Sidevideos\\ar34motor\\2022_01_27...\n",
      "Saving csv poses!\n",
      "Starting to analyze %  D:\\Sidevideos\\ar34motor\\2022_01_27\\40EYE.avi\n",
      "D:\\Sidevideos\\ar34motor\\2022_01_27  already exists!\n",
      "Loading  D:\\Sidevideos\\ar34motor\\2022_01_27\\40EYE.avi\n",
      "Duration of video [s]:  12.5 , recorded with  40.0 fps!\n",
      "Overall # of frames:  500  found with (before cropping) frame dimensions:  200 200\n",
      "Starting to extract posture\n",
      "Cropping based on the x1 = 60 x2 = 150 y1 = 60 y2 = 150. You can adjust the cropping coordinates in the config.yaml file.\n"
     ]
    },
    {
     "name": "stderr",
     "output_type": "stream",
     "text": [
      "510it [00:02, 216.69it/s]                                                                                              \n"
     ]
    },
    {
     "name": "stdout",
     "output_type": "stream",
     "text": [
      "Saving results in D:\\Sidevideos\\ar34motor\\2022_01_27...\n",
      "Saving csv poses!\n",
      "Starting to analyze %  D:\\Sidevideos\\ar34motor\\2022_01_27\\41EYE.avi\n",
      "D:\\Sidevideos\\ar34motor\\2022_01_27  already exists!\n",
      "Loading  D:\\Sidevideos\\ar34motor\\2022_01_27\\41EYE.avi\n",
      "Duration of video [s]:  12.15 , recorded with  40.0 fps!\n",
      "Overall # of frames:  486  found with (before cropping) frame dimensions:  200 200\n",
      "Starting to extract posture\n",
      "Cropping based on the x1 = 60 x2 = 150 y1 = 60 y2 = 150. You can adjust the cropping coordinates in the config.yaml file.\n"
     ]
    },
    {
     "name": "stderr",
     "output_type": "stream",
     "text": [
      "490it [00:02, 214.45it/s]                                                                                              \n"
     ]
    },
    {
     "name": "stdout",
     "output_type": "stream",
     "text": [
      "Saving results in D:\\Sidevideos\\ar34motor\\2022_01_27...\n",
      "Saving csv poses!\n",
      "Starting to analyze %  D:\\Sidevideos\\ar34motor\\2022_01_27\\42EYE.avi\n",
      "D:\\Sidevideos\\ar34motor\\2022_01_27  already exists!\n",
      "Loading  D:\\Sidevideos\\ar34motor\\2022_01_27\\42EYE.avi\n",
      "Duration of video [s]:  12.5 , recorded with  40.0 fps!\n",
      "Overall # of frames:  500  found with (before cropping) frame dimensions:  200 200\n",
      "Starting to extract posture\n",
      "Cropping based on the x1 = 60 x2 = 150 y1 = 60 y2 = 150. You can adjust the cropping coordinates in the config.yaml file.\n"
     ]
    },
    {
     "name": "stderr",
     "output_type": "stream",
     "text": [
      "510it [00:02, 216.50it/s]                                                                                              \n"
     ]
    },
    {
     "name": "stdout",
     "output_type": "stream",
     "text": [
      "Saving results in D:\\Sidevideos\\ar34motor\\2022_01_27...\n",
      "Saving csv poses!\n",
      "Starting to analyze %  D:\\Sidevideos\\ar34motor\\2022_01_27\\43EYE.avi\n",
      "D:\\Sidevideos\\ar34motor\\2022_01_27  already exists!\n",
      "Loading  D:\\Sidevideos\\ar34motor\\2022_01_27\\43EYE.avi\n",
      "Duration of video [s]:  12.5 , recorded with  40.0 fps!\n",
      "Overall # of frames:  500  found with (before cropping) frame dimensions:  200 200\n",
      "Starting to extract posture\n",
      "Cropping based on the x1 = 60 x2 = 150 y1 = 60 y2 = 150. You can adjust the cropping coordinates in the config.yaml file.\n"
     ]
    },
    {
     "name": "stderr",
     "output_type": "stream",
     "text": [
      "510it [00:02, 215.68it/s]                                                                                              \n"
     ]
    },
    {
     "name": "stdout",
     "output_type": "stream",
     "text": [
      "Saving results in D:\\Sidevideos\\ar34motor\\2022_01_27...\n",
      "Saving csv poses!\n",
      "Starting to analyze %  D:\\Sidevideos\\ar34motor\\2022_01_27\\44EYE.avi\n",
      "D:\\Sidevideos\\ar34motor\\2022_01_27  already exists!\n",
      "Loading  D:\\Sidevideos\\ar34motor\\2022_01_27\\44EYE.avi\n",
      "Duration of video [s]:  12.5 , recorded with  40.0 fps!\n",
      "Overall # of frames:  500  found with (before cropping) frame dimensions:  200 200\n",
      "Starting to extract posture\n",
      "Cropping based on the x1 = 60 x2 = 150 y1 = 60 y2 = 150. You can adjust the cropping coordinates in the config.yaml file.\n"
     ]
    },
    {
     "name": "stderr",
     "output_type": "stream",
     "text": [
      "510it [00:02, 216.96it/s]                                                                                              \n"
     ]
    },
    {
     "name": "stdout",
     "output_type": "stream",
     "text": [
      "Saving results in D:\\Sidevideos\\ar34motor\\2022_01_27...\n",
      "Saving csv poses!\n",
      "Starting to analyze %  D:\\Sidevideos\\ar34motor\\2022_01_27\\45EYE.avi\n",
      "D:\\Sidevideos\\ar34motor\\2022_01_27  already exists!\n",
      "Loading  D:\\Sidevideos\\ar34motor\\2022_01_27\\45EYE.avi\n",
      "Duration of video [s]:  12.35 , recorded with  40.0 fps!\n",
      "Overall # of frames:  494  found with (before cropping) frame dimensions:  200 200\n",
      "Starting to extract posture\n",
      "Cropping based on the x1 = 60 x2 = 150 y1 = 60 y2 = 150. You can adjust the cropping coordinates in the config.yaml file.\n"
     ]
    },
    {
     "name": "stderr",
     "output_type": "stream",
     "text": [
      "500it [00:02, 216.56it/s]                                                                                              \n"
     ]
    },
    {
     "name": "stdout",
     "output_type": "stream",
     "text": [
      "Saving results in D:\\Sidevideos\\ar34motor\\2022_01_27...\n",
      "Saving csv poses!\n",
      "Starting to analyze %  D:\\Sidevideos\\ar34motor\\2022_01_27\\46EYE.avi\n",
      "D:\\Sidevideos\\ar34motor\\2022_01_27  already exists!\n",
      "Loading  D:\\Sidevideos\\ar34motor\\2022_01_27\\46EYE.avi\n",
      "Duration of video [s]:  12.5 , recorded with  40.0 fps!\n",
      "Overall # of frames:  500  found with (before cropping) frame dimensions:  200 200\n",
      "Starting to extract posture\n",
      "Cropping based on the x1 = 60 x2 = 150 y1 = 60 y2 = 150. You can adjust the cropping coordinates in the config.yaml file.\n"
     ]
    },
    {
     "name": "stderr",
     "output_type": "stream",
     "text": [
      "510it [00:02, 213.97it/s]                                                                                              \n"
     ]
    },
    {
     "name": "stdout",
     "output_type": "stream",
     "text": [
      "Saving results in D:\\Sidevideos\\ar34motor\\2022_01_27...\n",
      "Saving csv poses!\n",
      "Starting to analyze %  D:\\Sidevideos\\ar34motor\\2022_01_27\\47EYE.avi\n",
      "D:\\Sidevideos\\ar34motor\\2022_01_27  already exists!\n",
      "Loading  D:\\Sidevideos\\ar34motor\\2022_01_27\\47EYE.avi\n",
      "Duration of video [s]:  12.5 , recorded with  40.0 fps!\n",
      "Overall # of frames:  500  found with (before cropping) frame dimensions:  200 200\n",
      "Starting to extract posture\n",
      "Cropping based on the x1 = 60 x2 = 150 y1 = 60 y2 = 150. You can adjust the cropping coordinates in the config.yaml file.\n"
     ]
    },
    {
     "name": "stderr",
     "output_type": "stream",
     "text": [
      "510it [00:02, 214.06it/s]                                                                                              \n"
     ]
    },
    {
     "name": "stdout",
     "output_type": "stream",
     "text": [
      "Saving results in D:\\Sidevideos\\ar34motor\\2022_01_27...\n",
      "Saving csv poses!\n",
      "Starting to analyze %  D:\\Sidevideos\\ar34motor\\2022_01_27\\48EYE.avi\n",
      "D:\\Sidevideos\\ar34motor\\2022_01_27  already exists!\n",
      "Loading  D:\\Sidevideos\\ar34motor\\2022_01_27\\48EYE.avi\n",
      "Duration of video [s]:  12.5 , recorded with  40.0 fps!\n",
      "Overall # of frames:  500  found with (before cropping) frame dimensions:  200 200\n",
      "Starting to extract posture\n",
      "Cropping based on the x1 = 60 x2 = 150 y1 = 60 y2 = 150. You can adjust the cropping coordinates in the config.yaml file.\n"
     ]
    },
    {
     "name": "stderr",
     "output_type": "stream",
     "text": [
      "510it [00:02, 212.90it/s]                                                                                              \n"
     ]
    },
    {
     "name": "stdout",
     "output_type": "stream",
     "text": [
      "Saving results in D:\\Sidevideos\\ar34motor\\2022_01_27...\n",
      "Saving csv poses!\n",
      "Starting to analyze %  D:\\Sidevideos\\ar34motor\\2022_01_27\\49EYE.avi\n",
      "D:\\Sidevideos\\ar34motor\\2022_01_27  already exists!\n",
      "Loading  D:\\Sidevideos\\ar34motor\\2022_01_27\\49EYE.avi\n",
      "Duration of video [s]:  12.5 , recorded with  40.0 fps!\n",
      "Overall # of frames:  500  found with (before cropping) frame dimensions:  200 200\n",
      "Starting to extract posture\n",
      "Cropping based on the x1 = 60 x2 = 150 y1 = 60 y2 = 150. You can adjust the cropping coordinates in the config.yaml file.\n"
     ]
    },
    {
     "name": "stderr",
     "output_type": "stream",
     "text": [
      "510it [00:02, 214.69it/s]                                                                                              \n"
     ]
    },
    {
     "name": "stdout",
     "output_type": "stream",
     "text": [
      "Saving results in D:\\Sidevideos\\ar34motor\\2022_01_27...\n",
      "Saving csv poses!\n",
      "Starting to analyze %  D:\\Sidevideos\\ar34motor\\2022_01_27\\4EYE.avi\n",
      "D:\\Sidevideos\\ar34motor\\2022_01_27  already exists!\n",
      "Loading  D:\\Sidevideos\\ar34motor\\2022_01_27\\4EYE.avi\n",
      "Duration of video [s]:  12.43 , recorded with  40.0 fps!\n",
      "Overall # of frames:  497  found with (before cropping) frame dimensions:  200 200\n",
      "Starting to extract posture\n",
      "Cropping based on the x1 = 60 x2 = 150 y1 = 60 y2 = 150. You can adjust the cropping coordinates in the config.yaml file.\n"
     ]
    },
    {
     "name": "stderr",
     "output_type": "stream",
     "text": [
      "500it [00:02, 211.19it/s]                                                                                              \n"
     ]
    },
    {
     "name": "stdout",
     "output_type": "stream",
     "text": [
      "Saving results in D:\\Sidevideos\\ar34motor\\2022_01_27...\n",
      "Saving csv poses!\n",
      "Starting to analyze %  D:\\Sidevideos\\ar34motor\\2022_01_27\\50EYE.avi\n",
      "D:\\Sidevideos\\ar34motor\\2022_01_27  already exists!\n",
      "Loading  D:\\Sidevideos\\ar34motor\\2022_01_27\\50EYE.avi\n",
      "Duration of video [s]:  12.5 , recorded with  40.0 fps!\n",
      "Overall # of frames:  500  found with (before cropping) frame dimensions:  200 200\n",
      "Starting to extract posture\n",
      "Cropping based on the x1 = 60 x2 = 150 y1 = 60 y2 = 150. You can adjust the cropping coordinates in the config.yaml file.\n"
     ]
    },
    {
     "name": "stderr",
     "output_type": "stream",
     "text": [
      "510it [00:02, 214.06it/s]                                                                                              \n"
     ]
    },
    {
     "name": "stdout",
     "output_type": "stream",
     "text": [
      "Saving results in D:\\Sidevideos\\ar34motor\\2022_01_27...\n",
      "Saving csv poses!\n",
      "Starting to analyze %  D:\\Sidevideos\\ar34motor\\2022_01_27\\51EYE.avi\n",
      "D:\\Sidevideos\\ar34motor\\2022_01_27  already exists!\n",
      "Loading  D:\\Sidevideos\\ar34motor\\2022_01_27\\51EYE.avi\n",
      "Duration of video [s]:  12.5 , recorded with  40.0 fps!\n",
      "Overall # of frames:  500  found with (before cropping) frame dimensions:  200 200\n",
      "Starting to extract posture\n",
      "Cropping based on the x1 = 60 x2 = 150 y1 = 60 y2 = 150. You can adjust the cropping coordinates in the config.yaml file.\n"
     ]
    },
    {
     "name": "stderr",
     "output_type": "stream",
     "text": [
      "510it [00:02, 214.42it/s]                                                                                              \n"
     ]
    },
    {
     "name": "stdout",
     "output_type": "stream",
     "text": [
      "Saving results in D:\\Sidevideos\\ar34motor\\2022_01_27...\n",
      "Saving csv poses!\n",
      "Starting to analyze %  D:\\Sidevideos\\ar34motor\\2022_01_27\\52EYE.avi\n",
      "D:\\Sidevideos\\ar34motor\\2022_01_27  already exists!\n",
      "Loading  D:\\Sidevideos\\ar34motor\\2022_01_27\\52EYE.avi\n",
      "Duration of video [s]:  12.5 , recorded with  40.0 fps!\n",
      "Overall # of frames:  500  found with (before cropping) frame dimensions:  200 200\n",
      "Starting to extract posture\n",
      "Cropping based on the x1 = 60 x2 = 150 y1 = 60 y2 = 150. You can adjust the cropping coordinates in the config.yaml file.\n"
     ]
    },
    {
     "name": "stderr",
     "output_type": "stream",
     "text": [
      "510it [00:02, 214.78it/s]                                                                                              \n"
     ]
    },
    {
     "name": "stdout",
     "output_type": "stream",
     "text": [
      "Saving results in D:\\Sidevideos\\ar34motor\\2022_01_27...\n",
      "Saving csv poses!\n",
      "Starting to analyze %  D:\\Sidevideos\\ar34motor\\2022_01_27\\53EYE.avi\n",
      "D:\\Sidevideos\\ar34motor\\2022_01_27  already exists!\n",
      "Loading  D:\\Sidevideos\\ar34motor\\2022_01_27\\53EYE.avi\n",
      "Duration of video [s]:  12.5 , recorded with  40.0 fps!\n",
      "Overall # of frames:  500  found with (before cropping) frame dimensions:  200 200\n",
      "Starting to extract posture\n",
      "Cropping based on the x1 = 60 x2 = 150 y1 = 60 y2 = 150. You can adjust the cropping coordinates in the config.yaml file.\n"
     ]
    },
    {
     "name": "stderr",
     "output_type": "stream",
     "text": [
      "510it [00:02, 214.87it/s]                                                                                              \n"
     ]
    },
    {
     "name": "stdout",
     "output_type": "stream",
     "text": [
      "Saving results in D:\\Sidevideos\\ar34motor\\2022_01_27...\n",
      "Saving csv poses!\n",
      "Starting to analyze %  D:\\Sidevideos\\ar34motor\\2022_01_27\\54EYE.avi\n",
      "D:\\Sidevideos\\ar34motor\\2022_01_27  already exists!\n",
      "Loading  D:\\Sidevideos\\ar34motor\\2022_01_27\\54EYE.avi\n",
      "Duration of video [s]:  12.5 , recorded with  40.0 fps!\n",
      "Overall # of frames:  500  found with (before cropping) frame dimensions:  200 200\n",
      "Starting to extract posture\n",
      "Cropping based on the x1 = 60 x2 = 150 y1 = 60 y2 = 150. You can adjust the cropping coordinates in the config.yaml file.\n"
     ]
    },
    {
     "name": "stderr",
     "output_type": "stream",
     "text": [
      "510it [00:02, 212.55it/s]                                                                                              \n"
     ]
    },
    {
     "name": "stdout",
     "output_type": "stream",
     "text": [
      "Saving results in D:\\Sidevideos\\ar34motor\\2022_01_27...\n",
      "Saving csv poses!\n",
      "Starting to analyze %  D:\\Sidevideos\\ar34motor\\2022_01_27\\55EYE.avi\n",
      "D:\\Sidevideos\\ar34motor\\2022_01_27  already exists!\n",
      "Loading  D:\\Sidevideos\\ar34motor\\2022_01_27\\55EYE.avi\n",
      "Duration of video [s]:  12.5 , recorded with  40.0 fps!\n",
      "Overall # of frames:  500  found with (before cropping) frame dimensions:  200 200\n",
      "Starting to extract posture\n",
      "Cropping based on the x1 = 60 x2 = 150 y1 = 60 y2 = 150. You can adjust the cropping coordinates in the config.yaml file.\n"
     ]
    },
    {
     "name": "stderr",
     "output_type": "stream",
     "text": [
      "510it [00:02, 210.80it/s]                                                                                              \n"
     ]
    },
    {
     "name": "stdout",
     "output_type": "stream",
     "text": [
      "Saving results in D:\\Sidevideos\\ar34motor\\2022_01_27...\n",
      "Saving csv poses!\n",
      "Starting to analyze %  D:\\Sidevideos\\ar34motor\\2022_01_27\\56EYE.avi\n",
      "D:\\Sidevideos\\ar34motor\\2022_01_27  already exists!\n",
      "Loading  D:\\Sidevideos\\ar34motor\\2022_01_27\\56EYE.avi\n",
      "Duration of video [s]:  12.5 , recorded with  40.0 fps!\n",
      "Overall # of frames:  500  found with (before cropping) frame dimensions:  200 200\n",
      "Starting to extract posture\n",
      "Cropping based on the x1 = 60 x2 = 150 y1 = 60 y2 = 150. You can adjust the cropping coordinates in the config.yaml file.\n"
     ]
    },
    {
     "name": "stderr",
     "output_type": "stream",
     "text": [
      "510it [00:02, 213.53it/s]                                                                                              \n"
     ]
    },
    {
     "name": "stdout",
     "output_type": "stream",
     "text": [
      "Saving results in D:\\Sidevideos\\ar34motor\\2022_01_27...\n",
      "Saving csv poses!\n",
      "Starting to analyze %  D:\\Sidevideos\\ar34motor\\2022_01_27\\57EYE.avi\n",
      "D:\\Sidevideos\\ar34motor\\2022_01_27  already exists!\n",
      "Loading  D:\\Sidevideos\\ar34motor\\2022_01_27\\57EYE.avi\n",
      "Duration of video [s]:  12.5 , recorded with  40.0 fps!\n",
      "Overall # of frames:  500  found with (before cropping) frame dimensions:  200 200\n",
      "Starting to extract posture\n",
      "Cropping based on the x1 = 60 x2 = 150 y1 = 60 y2 = 150. You can adjust the cropping coordinates in the config.yaml file.\n"
     ]
    },
    {
     "name": "stderr",
     "output_type": "stream",
     "text": [
      "510it [00:02, 209.17it/s]                                                                                              \n"
     ]
    },
    {
     "name": "stdout",
     "output_type": "stream",
     "text": [
      "Saving results in D:\\Sidevideos\\ar34motor\\2022_01_27...\n",
      "Saving csv poses!\n",
      "Starting to analyze %  D:\\Sidevideos\\ar34motor\\2022_01_27\\58EYE.avi\n",
      "D:\\Sidevideos\\ar34motor\\2022_01_27  already exists!\n",
      "Loading  D:\\Sidevideos\\ar34motor\\2022_01_27\\58EYE.avi\n",
      "Duration of video [s]:  12.5 , recorded with  40.0 fps!\n",
      "Overall # of frames:  500  found with (before cropping) frame dimensions:  200 200\n",
      "Starting to extract posture\n",
      "Cropping based on the x1 = 60 x2 = 150 y1 = 60 y2 = 150. You can adjust the cropping coordinates in the config.yaml file.\n"
     ]
    },
    {
     "name": "stderr",
     "output_type": "stream",
     "text": [
      "510it [00:02, 212.82it/s]                                                                                              \n"
     ]
    },
    {
     "name": "stdout",
     "output_type": "stream",
     "text": [
      "Saving results in D:\\Sidevideos\\ar34motor\\2022_01_27...\n",
      "Saving csv poses!\n",
      "Starting to analyze %  D:\\Sidevideos\\ar34motor\\2022_01_27\\59EYE.avi\n",
      "D:\\Sidevideos\\ar34motor\\2022_01_27  already exists!\n",
      "Loading  D:\\Sidevideos\\ar34motor\\2022_01_27\\59EYE.avi\n",
      "Duration of video [s]:  12.5 , recorded with  40.0 fps!\n",
      "Overall # of frames:  500  found with (before cropping) frame dimensions:  200 200\n",
      "Starting to extract posture\n",
      "Cropping based on the x1 = 60 x2 = 150 y1 = 60 y2 = 150. You can adjust the cropping coordinates in the config.yaml file.\n"
     ]
    },
    {
     "name": "stderr",
     "output_type": "stream",
     "text": [
      "510it [00:02, 207.22it/s]                                                                                              \n"
     ]
    },
    {
     "name": "stdout",
     "output_type": "stream",
     "text": [
      "Saving results in D:\\Sidevideos\\ar34motor\\2022_01_27...\n",
      "Saving csv poses!\n",
      "Starting to analyze %  D:\\Sidevideos\\ar34motor\\2022_01_27\\5EYE.avi\n",
      "D:\\Sidevideos\\ar34motor\\2022_01_27  already exists!\n",
      "Loading  D:\\Sidevideos\\ar34motor\\2022_01_27\\5EYE.avi\n",
      "Duration of video [s]:  11.88 , recorded with  40.0 fps!\n",
      "Overall # of frames:  475  found with (before cropping) frame dimensions:  200 200\n",
      "Starting to extract posture\n",
      "Cropping based on the x1 = 60 x2 = 150 y1 = 60 y2 = 150. You can adjust the cropping coordinates in the config.yaml file.\n"
     ]
    },
    {
     "name": "stderr",
     "output_type": "stream",
     "text": [
      "480it [00:02, 212.39it/s]                                                                                              \n"
     ]
    },
    {
     "name": "stdout",
     "output_type": "stream",
     "text": [
      "Saving results in D:\\Sidevideos\\ar34motor\\2022_01_27...\n",
      "Saving csv poses!\n",
      "Starting to analyze %  D:\\Sidevideos\\ar34motor\\2022_01_27\\60EYE.avi\n",
      "D:\\Sidevideos\\ar34motor\\2022_01_27  already exists!\n",
      "Loading  D:\\Sidevideos\\ar34motor\\2022_01_27\\60EYE.avi\n",
      "Duration of video [s]:  12.4 , recorded with  40.0 fps!\n",
      "Overall # of frames:  496  found with (before cropping) frame dimensions:  200 200\n",
      "Starting to extract posture\n",
      "Cropping based on the x1 = 60 x2 = 150 y1 = 60 y2 = 150. You can adjust the cropping coordinates in the config.yaml file.\n"
     ]
    },
    {
     "name": "stderr",
     "output_type": "stream",
     "text": [
      "500it [00:02, 211.45it/s]                                                                                              \n"
     ]
    },
    {
     "name": "stdout",
     "output_type": "stream",
     "text": [
      "Saving results in D:\\Sidevideos\\ar34motor\\2022_01_27...\n",
      "Saving csv poses!\n",
      "Starting to analyze %  D:\\Sidevideos\\ar34motor\\2022_01_27\\61EYE.avi\n",
      "D:\\Sidevideos\\ar34motor\\2022_01_27  already exists!\n",
      "Loading  D:\\Sidevideos\\ar34motor\\2022_01_27\\61EYE.avi\n",
      "Duration of video [s]:  12.43 , recorded with  40.0 fps!\n",
      "Overall # of frames:  497  found with (before cropping) frame dimensions:  200 200\n",
      "Starting to extract posture\n",
      "Cropping based on the x1 = 60 x2 = 150 y1 = 60 y2 = 150. You can adjust the cropping coordinates in the config.yaml file.\n"
     ]
    },
    {
     "name": "stderr",
     "output_type": "stream",
     "text": [
      "500it [00:02, 213.43it/s]                                                                                              \n"
     ]
    },
    {
     "name": "stdout",
     "output_type": "stream",
     "text": [
      "Saving results in D:\\Sidevideos\\ar34motor\\2022_01_27...\n",
      "Saving csv poses!\n",
      "Starting to analyze %  D:\\Sidevideos\\ar34motor\\2022_01_27\\62EYE.avi\n",
      "D:\\Sidevideos\\ar34motor\\2022_01_27  already exists!\n",
      "Loading  D:\\Sidevideos\\ar34motor\\2022_01_27\\62EYE.avi\n",
      "Duration of video [s]:  12.5 , recorded with  40.0 fps!\n",
      "Overall # of frames:  500  found with (before cropping) frame dimensions:  200 200\n",
      "Starting to extract posture\n",
      "Cropping based on the x1 = 60 x2 = 150 y1 = 60 y2 = 150. You can adjust the cropping coordinates in the config.yaml file.\n"
     ]
    },
    {
     "name": "stderr",
     "output_type": "stream",
     "text": [
      "510it [00:02, 213.35it/s]                                                                                              \n"
     ]
    },
    {
     "name": "stdout",
     "output_type": "stream",
     "text": [
      "Saving results in D:\\Sidevideos\\ar34motor\\2022_01_27...\n",
      "Saving csv poses!\n",
      "Starting to analyze %  D:\\Sidevideos\\ar34motor\\2022_01_27\\63EYE.avi\n",
      "D:\\Sidevideos\\ar34motor\\2022_01_27  already exists!\n",
      "Loading  D:\\Sidevideos\\ar34motor\\2022_01_27\\63EYE.avi\n",
      "Duration of video [s]:  12.4 , recorded with  40.0 fps!\n",
      "Overall # of frames:  496  found with (before cropping) frame dimensions:  200 200\n",
      "Starting to extract posture\n",
      "Cropping based on the x1 = 60 x2 = 150 y1 = 60 y2 = 150. You can adjust the cropping coordinates in the config.yaml file.\n"
     ]
    },
    {
     "name": "stderr",
     "output_type": "stream",
     "text": [
      "500it [00:02, 215.35it/s]                                                                                              \n"
     ]
    },
    {
     "name": "stdout",
     "output_type": "stream",
     "text": [
      "Saving results in D:\\Sidevideos\\ar34motor\\2022_01_27...\n",
      "Saving csv poses!\n",
      "Starting to analyze %  D:\\Sidevideos\\ar34motor\\2022_01_27\\64EYE.avi\n",
      "D:\\Sidevideos\\ar34motor\\2022_01_27  already exists!\n",
      "Loading  D:\\Sidevideos\\ar34motor\\2022_01_27\\64EYE.avi\n",
      "Duration of video [s]:  12.43 , recorded with  40.0 fps!\n",
      "Overall # of frames:  497  found with (before cropping) frame dimensions:  200 200\n",
      "Starting to extract posture\n",
      "Cropping based on the x1 = 60 x2 = 150 y1 = 60 y2 = 150. You can adjust the cropping coordinates in the config.yaml file.\n"
     ]
    },
    {
     "name": "stderr",
     "output_type": "stream",
     "text": [
      "500it [00:02, 212.53it/s]                                                                                              \n"
     ]
    },
    {
     "name": "stdout",
     "output_type": "stream",
     "text": [
      "Saving results in D:\\Sidevideos\\ar34motor\\2022_01_27...\n",
      "Saving csv poses!\n",
      "Starting to analyze %  D:\\Sidevideos\\ar34motor\\2022_01_27\\65EYE.avi\n",
      "D:\\Sidevideos\\ar34motor\\2022_01_27  already exists!\n",
      "Loading  D:\\Sidevideos\\ar34motor\\2022_01_27\\65EYE.avi\n",
      "Duration of video [s]:  12.5 , recorded with  40.0 fps!\n",
      "Overall # of frames:  500  found with (before cropping) frame dimensions:  200 200\n",
      "Starting to extract posture\n",
      "Cropping based on the x1 = 60 x2 = 150 y1 = 60 y2 = 150. You can adjust the cropping coordinates in the config.yaml file.\n"
     ]
    },
    {
     "name": "stderr",
     "output_type": "stream",
     "text": [
      "510it [00:02, 216.23it/s]                                                                                              \n"
     ]
    },
    {
     "name": "stdout",
     "output_type": "stream",
     "text": [
      "Saving results in D:\\Sidevideos\\ar34motor\\2022_01_27...\n",
      "Saving csv poses!\n",
      "Starting to analyze %  D:\\Sidevideos\\ar34motor\\2022_01_27\\66EYE.avi\n",
      "D:\\Sidevideos\\ar34motor\\2022_01_27  already exists!\n",
      "Loading  D:\\Sidevideos\\ar34motor\\2022_01_27\\66EYE.avi\n",
      "Duration of video [s]:  12.32 , recorded with  40.0 fps!\n",
      "Overall # of frames:  493  found with (before cropping) frame dimensions:  200 200\n",
      "Starting to extract posture\n",
      "Cropping based on the x1 = 60 x2 = 150 y1 = 60 y2 = 150. You can adjust the cropping coordinates in the config.yaml file.\n"
     ]
    },
    {
     "name": "stderr",
     "output_type": "stream",
     "text": [
      "500it [00:02, 213.89it/s]                                                                                              \n"
     ]
    },
    {
     "name": "stdout",
     "output_type": "stream",
     "text": [
      "Saving results in D:\\Sidevideos\\ar34motor\\2022_01_27...\n",
      "Saving csv poses!\n",
      "Starting to analyze %  D:\\Sidevideos\\ar34motor\\2022_01_27\\67EYE.avi\n",
      "D:\\Sidevideos\\ar34motor\\2022_01_27  already exists!\n",
      "Loading  D:\\Sidevideos\\ar34motor\\2022_01_27\\67EYE.avi\n",
      "Duration of video [s]:  12.5 , recorded with  40.0 fps!\n",
      "Overall # of frames:  500  found with (before cropping) frame dimensions:  200 200\n",
      "Starting to extract posture\n",
      "Cropping based on the x1 = 60 x2 = 150 y1 = 60 y2 = 150. You can adjust the cropping coordinates in the config.yaml file.\n"
     ]
    },
    {
     "name": "stderr",
     "output_type": "stream",
     "text": [
      "510it [00:02, 215.59it/s]                                                                                              \n"
     ]
    },
    {
     "name": "stdout",
     "output_type": "stream",
     "text": [
      "Saving results in D:\\Sidevideos\\ar34motor\\2022_01_27...\n",
      "Saving csv poses!\n",
      "Starting to analyze %  D:\\Sidevideos\\ar34motor\\2022_01_27\\68EYE.avi\n",
      "D:\\Sidevideos\\ar34motor\\2022_01_27  already exists!\n",
      "Loading  D:\\Sidevideos\\ar34motor\\2022_01_27\\68EYE.avi\n",
      "Duration of video [s]:  12.5 , recorded with  40.0 fps!\n",
      "Overall # of frames:  500  found with (before cropping) frame dimensions:  200 200\n",
      "Starting to extract posture\n",
      "Cropping based on the x1 = 60 x2 = 150 y1 = 60 y2 = 150. You can adjust the cropping coordinates in the config.yaml file.\n"
     ]
    },
    {
     "name": "stderr",
     "output_type": "stream",
     "text": [
      "510it [00:02, 209.65it/s]                                                                                              \n"
     ]
    },
    {
     "name": "stdout",
     "output_type": "stream",
     "text": [
      "Saving results in D:\\Sidevideos\\ar34motor\\2022_01_27...\n",
      "Saving csv poses!\n",
      "Starting to analyze %  D:\\Sidevideos\\ar34motor\\2022_01_27\\69EYE.avi\n",
      "D:\\Sidevideos\\ar34motor\\2022_01_27  already exists!\n",
      "Loading  D:\\Sidevideos\\ar34motor\\2022_01_27\\69EYE.avi\n",
      "Duration of video [s]:  12.5 , recorded with  40.0 fps!\n",
      "Overall # of frames:  500  found with (before cropping) frame dimensions:  200 200\n",
      "Starting to extract posture\n",
      "Cropping based on the x1 = 60 x2 = 150 y1 = 60 y2 = 150. You can adjust the cropping coordinates in the config.yaml file.\n"
     ]
    },
    {
     "name": "stderr",
     "output_type": "stream",
     "text": [
      "510it [00:02, 212.90it/s]                                                                                              \n"
     ]
    },
    {
     "name": "stdout",
     "output_type": "stream",
     "text": [
      "Saving results in D:\\Sidevideos\\ar34motor\\2022_01_27...\n",
      "Saving csv poses!\n",
      "Starting to analyze %  D:\\Sidevideos\\ar34motor\\2022_01_27\\6EYE.avi\n",
      "D:\\Sidevideos\\ar34motor\\2022_01_27  already exists!\n",
      "Loading  D:\\Sidevideos\\ar34motor\\2022_01_27\\6EYE.avi\n",
      "Duration of video [s]:  11.93 , recorded with  40.0 fps!\n",
      "Overall # of frames:  477  found with (before cropping) frame dimensions:  200 200\n",
      "Starting to extract posture\n",
      "Cropping based on the x1 = 60 x2 = 150 y1 = 60 y2 = 150. You can adjust the cropping coordinates in the config.yaml file.\n"
     ]
    },
    {
     "name": "stderr",
     "output_type": "stream",
     "text": [
      "480it [00:02, 206.10it/s]                                                                                              \n"
     ]
    },
    {
     "name": "stdout",
     "output_type": "stream",
     "text": [
      "Saving results in D:\\Sidevideos\\ar34motor\\2022_01_27...\n",
      "Saving csv poses!\n",
      "Starting to analyze %  D:\\Sidevideos\\ar34motor\\2022_01_27\\70EYE.avi\n",
      "D:\\Sidevideos\\ar34motor\\2022_01_27  already exists!\n",
      "Loading  D:\\Sidevideos\\ar34motor\\2022_01_27\\70EYE.avi\n",
      "Duration of video [s]:  12.5 , recorded with  40.0 fps!\n",
      "Overall # of frames:  500  found with (before cropping) frame dimensions:  200 200\n",
      "Starting to extract posture\n",
      "Cropping based on the x1 = 60 x2 = 150 y1 = 60 y2 = 150. You can adjust the cropping coordinates in the config.yaml file.\n"
     ]
    },
    {
     "name": "stderr",
     "output_type": "stream",
     "text": [
      "510it [00:02, 214.06it/s]                                                                                              \n"
     ]
    },
    {
     "name": "stdout",
     "output_type": "stream",
     "text": [
      "Saving results in D:\\Sidevideos\\ar34motor\\2022_01_27...\n",
      "Saving csv poses!\n",
      "Starting to analyze %  D:\\Sidevideos\\ar34motor\\2022_01_27\\71EYE.avi\n",
      "D:\\Sidevideos\\ar34motor\\2022_01_27  already exists!\n",
      "Loading  D:\\Sidevideos\\ar34motor\\2022_01_27\\71EYE.avi\n",
      "Duration of video [s]:  11.03 , recorded with  40.0 fps!\n",
      "Overall # of frames:  441  found with (before cropping) frame dimensions:  200 200\n",
      "Starting to extract posture\n",
      "Cropping based on the x1 = 60 x2 = 150 y1 = 60 y2 = 150. You can adjust the cropping coordinates in the config.yaml file.\n"
     ]
    },
    {
     "name": "stderr",
     "output_type": "stream",
     "text": [
      "450it [00:02, 205.98it/s]                                                                                              \n"
     ]
    },
    {
     "name": "stdout",
     "output_type": "stream",
     "text": [
      "Saving results in D:\\Sidevideos\\ar34motor\\2022_01_27...\n",
      "Saving csv poses!\n",
      "Starting to analyze %  D:\\Sidevideos\\ar34motor\\2022_01_27\\72EYE.avi\n",
      "D:\\Sidevideos\\ar34motor\\2022_01_27  already exists!\n",
      "Loading  D:\\Sidevideos\\ar34motor\\2022_01_27\\72EYE.avi\n",
      "Duration of video [s]:  11.68 , recorded with  40.0 fps!\n",
      "Overall # of frames:  467  found with (before cropping) frame dimensions:  200 200\n",
      "Starting to extract posture\n",
      "Cropping based on the x1 = 60 x2 = 150 y1 = 60 y2 = 150. You can adjust the cropping coordinates in the config.yaml file.\n"
     ]
    },
    {
     "name": "stderr",
     "output_type": "stream",
     "text": [
      "470it [00:02, 210.65it/s]                                                                                              \n"
     ]
    },
    {
     "name": "stdout",
     "output_type": "stream",
     "text": [
      "Saving results in D:\\Sidevideos\\ar34motor\\2022_01_27...\n",
      "Saving csv poses!\n",
      "Starting to analyze %  D:\\Sidevideos\\ar34motor\\2022_01_27\\73EYE.avi\n",
      "D:\\Sidevideos\\ar34motor\\2022_01_27  already exists!\n",
      "Loading  D:\\Sidevideos\\ar34motor\\2022_01_27\\73EYE.avi\n",
      "Duration of video [s]:  8.38 , recorded with  40.0 fps!\n",
      "Overall # of frames:  335  found with (before cropping) frame dimensions:  200 200\n",
      "Starting to extract posture\n",
      "Cropping based on the x1 = 60 x2 = 150 y1 = 60 y2 = 150. You can adjust the cropping coordinates in the config.yaml file.\n"
     ]
    },
    {
     "name": "stderr",
     "output_type": "stream",
     "text": [
      "340it [00:01, 216.55it/s]                                                                                              \n"
     ]
    },
    {
     "name": "stdout",
     "output_type": "stream",
     "text": [
      "Saving results in D:\\Sidevideos\\ar34motor\\2022_01_27...\n",
      "Saving csv poses!\n",
      "Starting to analyze %  D:\\Sidevideos\\ar34motor\\2022_01_27\\74EYE.avi\n",
      "D:\\Sidevideos\\ar34motor\\2022_01_27  already exists!\n",
      "Loading  D:\\Sidevideos\\ar34motor\\2022_01_27\\74EYE.avi\n",
      "Duration of video [s]:  11.57 , recorded with  40.0 fps!\n",
      "Overall # of frames:  463  found with (before cropping) frame dimensions:  200 200\n",
      "Starting to extract posture\n",
      "Cropping based on the x1 = 60 x2 = 150 y1 = 60 y2 = 150. You can adjust the cropping coordinates in the config.yaml file.\n"
     ]
    },
    {
     "name": "stderr",
     "output_type": "stream",
     "text": [
      "470it [00:02, 214.58it/s]                                                                                              \n"
     ]
    },
    {
     "name": "stdout",
     "output_type": "stream",
     "text": [
      "Saving results in D:\\Sidevideos\\ar34motor\\2022_01_27...\n",
      "Saving csv poses!\n",
      "Starting to analyze %  D:\\Sidevideos\\ar34motor\\2022_01_27\\75EYE.avi\n",
      "D:\\Sidevideos\\ar34motor\\2022_01_27  already exists!\n",
      "Loading  D:\\Sidevideos\\ar34motor\\2022_01_27\\75EYE.avi\n",
      "Duration of video [s]:  10.43 , recorded with  40.0 fps!\n",
      "Overall # of frames:  417  found with (before cropping) frame dimensions:  200 200\n",
      "Starting to extract posture\n",
      "Cropping based on the x1 = 60 x2 = 150 y1 = 60 y2 = 150. You can adjust the cropping coordinates in the config.yaml file.\n"
     ]
    },
    {
     "name": "stderr",
     "output_type": "stream",
     "text": [
      "420it [00:02, 208.73it/s]                                                                                              \n"
     ]
    },
    {
     "name": "stdout",
     "output_type": "stream",
     "text": [
      "Saving results in D:\\Sidevideos\\ar34motor\\2022_01_27...\n",
      "Saving csv poses!\n",
      "Starting to analyze %  D:\\Sidevideos\\ar34motor\\2022_01_27\\76EYE.avi\n",
      "D:\\Sidevideos\\ar34motor\\2022_01_27  already exists!\n",
      "Loading  D:\\Sidevideos\\ar34motor\\2022_01_27\\76EYE.avi\n",
      "Duration of video [s]:  9.55 , recorded with  40.0 fps!\n",
      "Overall # of frames:  382  found with (before cropping) frame dimensions:  200 200\n",
      "Starting to extract posture\n",
      "Cropping based on the x1 = 60 x2 = 150 y1 = 60 y2 = 150. You can adjust the cropping coordinates in the config.yaml file.\n"
     ]
    },
    {
     "name": "stderr",
     "output_type": "stream",
     "text": [
      "390it [00:01, 209.92it/s]                                                                                              \n"
     ]
    },
    {
     "name": "stdout",
     "output_type": "stream",
     "text": [
      "Saving results in D:\\Sidevideos\\ar34motor\\2022_01_27...\n",
      "Saving csv poses!\n",
      "Starting to analyze %  D:\\Sidevideos\\ar34motor\\2022_01_27\\77EYE.avi\n",
      "D:\\Sidevideos\\ar34motor\\2022_01_27  already exists!\n",
      "Loading  D:\\Sidevideos\\ar34motor\\2022_01_27\\77EYE.avi\n",
      "Duration of video [s]:  11.22 , recorded with  40.0 fps!\n",
      "Overall # of frames:  449  found with (before cropping) frame dimensions:  200 200\n",
      "Starting to extract posture\n",
      "Cropping based on the x1 = 60 x2 = 150 y1 = 60 y2 = 150. You can adjust the cropping coordinates in the config.yaml file.\n"
     ]
    },
    {
     "name": "stderr",
     "output_type": "stream",
     "text": [
      "450it [00:02, 208.19it/s]                                                                                              \n"
     ]
    },
    {
     "name": "stdout",
     "output_type": "stream",
     "text": [
      "Saving results in D:\\Sidevideos\\ar34motor\\2022_01_27...\n",
      "Saving csv poses!\n",
      "Starting to analyze %  D:\\Sidevideos\\ar34motor\\2022_01_27\\78EYE.avi\n",
      "D:\\Sidevideos\\ar34motor\\2022_01_27  already exists!\n",
      "Loading  D:\\Sidevideos\\ar34motor\\2022_01_27\\78EYE.avi\n",
      "Duration of video [s]:  11.4 , recorded with  40.0 fps!\n",
      "Overall # of frames:  456  found with (before cropping) frame dimensions:  200 200\n",
      "Starting to extract posture\n",
      "Cropping based on the x1 = 60 x2 = 150 y1 = 60 y2 = 150. You can adjust the cropping coordinates in the config.yaml file.\n"
     ]
    },
    {
     "name": "stderr",
     "output_type": "stream",
     "text": [
      "460it [00:02, 214.30it/s]                                                                                              \n"
     ]
    },
    {
     "name": "stdout",
     "output_type": "stream",
     "text": [
      "Saving results in D:\\Sidevideos\\ar34motor\\2022_01_27...\n",
      "Saving csv poses!\n",
      "Starting to analyze %  D:\\Sidevideos\\ar34motor\\2022_01_27\\79EYE.avi\n",
      "D:\\Sidevideos\\ar34motor\\2022_01_27  already exists!\n",
      "Loading  D:\\Sidevideos\\ar34motor\\2022_01_27\\79EYE.avi\n",
      "Duration of video [s]:  12.5 , recorded with  40.0 fps!\n",
      "Overall # of frames:  500  found with (before cropping) frame dimensions:  200 200\n",
      "Starting to extract posture\n",
      "Cropping based on the x1 = 60 x2 = 150 y1 = 60 y2 = 150. You can adjust the cropping coordinates in the config.yaml file.\n"
     ]
    },
    {
     "name": "stderr",
     "output_type": "stream",
     "text": [
      "510it [00:02, 210.28it/s]                                                                                              \n"
     ]
    },
    {
     "name": "stdout",
     "output_type": "stream",
     "text": [
      "Saving results in D:\\Sidevideos\\ar34motor\\2022_01_27...\n",
      "Saving csv poses!\n",
      "Starting to analyze %  D:\\Sidevideos\\ar34motor\\2022_01_27\\7EYE.avi\n",
      "D:\\Sidevideos\\ar34motor\\2022_01_27  already exists!\n",
      "Loading  D:\\Sidevideos\\ar34motor\\2022_01_27\\7EYE.avi\n",
      "Duration of video [s]:  10.3 , recorded with  40.0 fps!\n",
      "Overall # of frames:  412  found with (before cropping) frame dimensions:  200 200\n",
      "Starting to extract posture\n",
      "Cropping based on the x1 = 60 x2 = 150 y1 = 60 y2 = 150. You can adjust the cropping coordinates in the config.yaml file.\n"
     ]
    },
    {
     "name": "stderr",
     "output_type": "stream",
     "text": [
      "420it [00:01, 213.70it/s]                                                                                              \n"
     ]
    },
    {
     "name": "stdout",
     "output_type": "stream",
     "text": [
      "Saving results in D:\\Sidevideos\\ar34motor\\2022_01_27...\n",
      "Saving csv poses!\n",
      "Starting to analyze %  D:\\Sidevideos\\ar34motor\\2022_01_27\\80EYE.avi\n",
      "D:\\Sidevideos\\ar34motor\\2022_01_27  already exists!\n",
      "Loading  D:\\Sidevideos\\ar34motor\\2022_01_27\\80EYE.avi\n",
      "Duration of video [s]:  12.5 , recorded with  40.0 fps!\n",
      "Overall # of frames:  500  found with (before cropping) frame dimensions:  200 200\n",
      "Starting to extract posture\n",
      "Cropping based on the x1 = 60 x2 = 150 y1 = 60 y2 = 150. You can adjust the cropping coordinates in the config.yaml file.\n"
     ]
    },
    {
     "name": "stderr",
     "output_type": "stream",
     "text": [
      "510it [00:02, 212.28it/s]                                                                                              \n"
     ]
    },
    {
     "name": "stdout",
     "output_type": "stream",
     "text": [
      "Saving results in D:\\Sidevideos\\ar34motor\\2022_01_27...\n",
      "Saving csv poses!\n",
      "Starting to analyze %  D:\\Sidevideos\\ar34motor\\2022_01_27\\8EYE.avi\n",
      "D:\\Sidevideos\\ar34motor\\2022_01_27  already exists!\n",
      "Loading  D:\\Sidevideos\\ar34motor\\2022_01_27\\8EYE.avi\n",
      "Duration of video [s]:  11.53 , recorded with  40.0 fps!\n",
      "Overall # of frames:  461  found with (before cropping) frame dimensions:  200 200\n",
      "Starting to extract posture\n",
      "Cropping based on the x1 = 60 x2 = 150 y1 = 60 y2 = 150. You can adjust the cropping coordinates in the config.yaml file.\n"
     ]
    },
    {
     "name": "stderr",
     "output_type": "stream",
     "text": [
      "470it [00:02, 214.97it/s]                                                                                              \n"
     ]
    },
    {
     "name": "stdout",
     "output_type": "stream",
     "text": [
      "Saving results in D:\\Sidevideos\\ar34motor\\2022_01_27...\n",
      "Saving csv poses!\n",
      "Starting to analyze %  D:\\Sidevideos\\ar34motor\\2022_01_27\\9EYE.avi\n",
      "D:\\Sidevideos\\ar34motor\\2022_01_27  already exists!\n",
      "Loading  D:\\Sidevideos\\ar34motor\\2022_01_27\\9EYE.avi\n",
      "Duration of video [s]:  11.03 , recorded with  40.0 fps!\n",
      "Overall # of frames:  441  found with (before cropping) frame dimensions:  200 200\n",
      "Starting to extract posture\n",
      "Cropping based on the x1 = 60 x2 = 150 y1 = 60 y2 = 150. You can adjust the cropping coordinates in the config.yaml file.\n"
     ]
    },
    {
     "name": "stderr",
     "output_type": "stream",
     "text": [
      "450it [00:02, 207.05it/s]                                                                                              \n"
     ]
    },
    {
     "name": "stdout",
     "output_type": "stream",
     "text": [
      "Saving results in D:\\Sidevideos\\ar34motor\\2022_01_27...\n",
      "Saving csv poses!\n",
      "The videos are analyzed. Now your research can truly start! \n",
      " You can create labeled videos with 'create_labeled_video'\n",
      "If the tracking is not satisfactory for some videos, consider expanding the training set. You can use the function 'extract_outlier_frames' to extract a few representative outlier frames.\n",
      "Filtering with median model D:\\Sidevideos\\ar34motor\\2022_01_27\\0EYE.avi\n",
      "Saving filtered csv poses!\n",
      "Filtering with median model D:\\Sidevideos\\ar34motor\\2022_01_27\\10EYE.avi\n",
      "Saving filtered csv poses!\n",
      "Filtering with median model D:\\Sidevideos\\ar34motor\\2022_01_27\\11EYE.avi\n",
      "Saving filtered csv poses!\n",
      "Filtering with median model D:\\Sidevideos\\ar34motor\\2022_01_27\\12EYE.avi\n",
      "Saving filtered csv poses!\n",
      "Filtering with median model D:\\Sidevideos\\ar34motor\\2022_01_27\\13EYE.avi\n",
      "Saving filtered csv poses!\n",
      "Filtering with median model D:\\Sidevideos\\ar34motor\\2022_01_27\\14EYE.avi\n",
      "Saving filtered csv poses!\n",
      "Filtering with median model D:\\Sidevideos\\ar34motor\\2022_01_27\\15EYE.avi\n",
      "Saving filtered csv poses!\n",
      "Filtering with median model D:\\Sidevideos\\ar34motor\\2022_01_27\\16EYE.avi\n",
      "Saving filtered csv poses!\n",
      "Filtering with median model D:\\Sidevideos\\ar34motor\\2022_01_27\\17EYE.avi\n",
      "Saving filtered csv poses!\n",
      "Filtering with median model D:\\Sidevideos\\ar34motor\\2022_01_27\\19EYE.avi\n",
      "Saving filtered csv poses!\n",
      "Filtering with median model D:\\Sidevideos\\ar34motor\\2022_01_27\\1EYE.avi\n",
      "Saving filtered csv poses!\n",
      "Filtering with median model D:\\Sidevideos\\ar34motor\\2022_01_27\\20EYE.avi\n",
      "Saving filtered csv poses!\n",
      "Filtering with median model D:\\Sidevideos\\ar34motor\\2022_01_27\\21EYE.avi\n",
      "Saving filtered csv poses!\n",
      "Filtering with median model D:\\Sidevideos\\ar34motor\\2022_01_27\\22EYE.avi\n",
      "Saving filtered csv poses!\n",
      "Filtering with median model D:\\Sidevideos\\ar34motor\\2022_01_27\\23EYE.avi\n",
      "Saving filtered csv poses!\n",
      "Filtering with median model D:\\Sidevideos\\ar34motor\\2022_01_27\\24EYE.avi\n",
      "Saving filtered csv poses!\n",
      "Filtering with median model D:\\Sidevideos\\ar34motor\\2022_01_27\\25EYE.avi\n",
      "Saving filtered csv poses!\n",
      "Filtering with median model D:\\Sidevideos\\ar34motor\\2022_01_27\\26EYE.avi\n",
      "Saving filtered csv poses!\n",
      "Filtering with median model D:\\Sidevideos\\ar34motor\\2022_01_27\\27EYE.avi\n",
      "Saving filtered csv poses!\n",
      "Filtering with median model D:\\Sidevideos\\ar34motor\\2022_01_27\\28EYE.avi\n",
      "Saving filtered csv poses!\n",
      "Filtering with median model D:\\Sidevideos\\ar34motor\\2022_01_27\\29EYE.avi\n",
      "Saving filtered csv poses!\n",
      "Filtering with median model D:\\Sidevideos\\ar34motor\\2022_01_27\\2EYE.avi\n",
      "Saving filtered csv poses!\n",
      "Filtering with median model D:\\Sidevideos\\ar34motor\\2022_01_27\\30EYE.avi\n",
      "Saving filtered csv poses!\n",
      "Filtering with median model D:\\Sidevideos\\ar34motor\\2022_01_27\\31EYE.avi\n",
      "Saving filtered csv poses!\n",
      "Filtering with median model D:\\Sidevideos\\ar34motor\\2022_01_27\\32EYE.avi\n",
      "Saving filtered csv poses!\n",
      "Filtering with median model D:\\Sidevideos\\ar34motor\\2022_01_27\\33EYE.avi\n",
      "Saving filtered csv poses!\n",
      "Filtering with median model D:\\Sidevideos\\ar34motor\\2022_01_27\\34EYE.avi\n",
      "Saving filtered csv poses!\n",
      "Filtering with median model D:\\Sidevideos\\ar34motor\\2022_01_27\\35EYE.avi\n",
      "Saving filtered csv poses!\n",
      "Filtering with median model D:\\Sidevideos\\ar34motor\\2022_01_27\\36EYE.avi\n",
      "Saving filtered csv poses!\n",
      "Filtering with median model D:\\Sidevideos\\ar34motor\\2022_01_27\\37EYE.avi\n",
      "Saving filtered csv poses!\n",
      "Filtering with median model D:\\Sidevideos\\ar34motor\\2022_01_27\\38EYE.avi\n",
      "Saving filtered csv poses!\n",
      "Filtering with median model D:\\Sidevideos\\ar34motor\\2022_01_27\\39EYE.avi\n",
      "Saving filtered csv poses!\n",
      "Filtering with median model D:\\Sidevideos\\ar34motor\\2022_01_27\\3EYE.avi\n",
      "Saving filtered csv poses!\n",
      "Filtering with median model D:\\Sidevideos\\ar34motor\\2022_01_27\\40EYE.avi\n",
      "Saving filtered csv poses!\n",
      "Filtering with median model D:\\Sidevideos\\ar34motor\\2022_01_27\\41EYE.avi\n",
      "Saving filtered csv poses!\n",
      "Filtering with median model D:\\Sidevideos\\ar34motor\\2022_01_27\\42EYE.avi\n",
      "Saving filtered csv poses!\n",
      "Filtering with median model D:\\Sidevideos\\ar34motor\\2022_01_27\\43EYE.avi\n",
      "Saving filtered csv poses!\n",
      "Filtering with median model D:\\Sidevideos\\ar34motor\\2022_01_27\\44EYE.avi\n",
      "Saving filtered csv poses!\n",
      "Filtering with median model D:\\Sidevideos\\ar34motor\\2022_01_27\\45EYE.avi\n",
      "Saving filtered csv poses!\n",
      "Filtering with median model D:\\Sidevideos\\ar34motor\\2022_01_27\\46EYE.avi\n",
      "Saving filtered csv poses!\n",
      "Filtering with median model D:\\Sidevideos\\ar34motor\\2022_01_27\\47EYE.avi\n",
      "Saving filtered csv poses!\n",
      "Filtering with median model D:\\Sidevideos\\ar34motor\\2022_01_27\\48EYE.avi\n",
      "Saving filtered csv poses!\n",
      "Filtering with median model D:\\Sidevideos\\ar34motor\\2022_01_27\\49EYE.avi\n",
      "Saving filtered csv poses!\n",
      "Filtering with median model D:\\Sidevideos\\ar34motor\\2022_01_27\\4EYE.avi\n",
      "Saving filtered csv poses!\n",
      "Filtering with median model D:\\Sidevideos\\ar34motor\\2022_01_27\\50EYE.avi\n",
      "Saving filtered csv poses!\n",
      "Filtering with median model D:\\Sidevideos\\ar34motor\\2022_01_27\\51EYE.avi\n",
      "Saving filtered csv poses!\n",
      "Filtering with median model D:\\Sidevideos\\ar34motor\\2022_01_27\\52EYE.avi\n",
      "Saving filtered csv poses!\n",
      "Filtering with median model D:\\Sidevideos\\ar34motor\\2022_01_27\\53EYE.avi\n",
      "Saving filtered csv poses!\n",
      "Filtering with median model D:\\Sidevideos\\ar34motor\\2022_01_27\\54EYE.avi\n",
      "Saving filtered csv poses!\n",
      "Filtering with median model D:\\Sidevideos\\ar34motor\\2022_01_27\\55EYE.avi\n",
      "Saving filtered csv poses!\n",
      "Filtering with median model D:\\Sidevideos\\ar34motor\\2022_01_27\\56EYE.avi\n",
      "Saving filtered csv poses!\n",
      "Filtering with median model D:\\Sidevideos\\ar34motor\\2022_01_27\\57EYE.avi\n",
      "Saving filtered csv poses!\n",
      "Filtering with median model D:\\Sidevideos\\ar34motor\\2022_01_27\\58EYE.avi\n",
      "Saving filtered csv poses!\n",
      "Filtering with median model D:\\Sidevideos\\ar34motor\\2022_01_27\\59EYE.avi\n",
      "Saving filtered csv poses!\n",
      "Filtering with median model D:\\Sidevideos\\ar34motor\\2022_01_27\\5EYE.avi\n",
      "Saving filtered csv poses!\n",
      "Filtering with median model D:\\Sidevideos\\ar34motor\\2022_01_27\\60EYE.avi\n",
      "Saving filtered csv poses!\n",
      "Filtering with median model D:\\Sidevideos\\ar34motor\\2022_01_27\\61EYE.avi\n",
      "Saving filtered csv poses!\n",
      "Filtering with median model D:\\Sidevideos\\ar34motor\\2022_01_27\\62EYE.avi\n",
      "Saving filtered csv poses!\n",
      "Filtering with median model D:\\Sidevideos\\ar34motor\\2022_01_27\\63EYE.avi\n",
      "Saving filtered csv poses!\n",
      "Filtering with median model D:\\Sidevideos\\ar34motor\\2022_01_27\\64EYE.avi\n",
      "Saving filtered csv poses!\n",
      "Filtering with median model D:\\Sidevideos\\ar34motor\\2022_01_27\\65EYE.avi\n",
      "Saving filtered csv poses!\n",
      "Filtering with median model D:\\Sidevideos\\ar34motor\\2022_01_27\\66EYE.avi\n",
      "Saving filtered csv poses!\n",
      "Filtering with median model D:\\Sidevideos\\ar34motor\\2022_01_27\\67EYE.avi\n",
      "Saving filtered csv poses!\n",
      "Filtering with median model D:\\Sidevideos\\ar34motor\\2022_01_27\\68EYE.avi\n",
      "Saving filtered csv poses!\n",
      "Filtering with median model D:\\Sidevideos\\ar34motor\\2022_01_27\\69EYE.avi\n",
      "Saving filtered csv poses!\n",
      "Filtering with median model D:\\Sidevideos\\ar34motor\\2022_01_27\\6EYE.avi\n",
      "Saving filtered csv poses!\n",
      "Filtering with median model D:\\Sidevideos\\ar34motor\\2022_01_27\\70EYE.avi\n",
      "Saving filtered csv poses!\n",
      "Filtering with median model D:\\Sidevideos\\ar34motor\\2022_01_27\\71EYE.avi\n",
      "Saving filtered csv poses!\n",
      "Filtering with median model D:\\Sidevideos\\ar34motor\\2022_01_27\\72EYE.avi\n",
      "Saving filtered csv poses!\n",
      "Filtering with median model D:\\Sidevideos\\ar34motor\\2022_01_27\\73EYE.avi\n",
      "Saving filtered csv poses!\n",
      "Filtering with median model D:\\Sidevideos\\ar34motor\\2022_01_27\\74EYE.avi\n",
      "Saving filtered csv poses!\n",
      "Filtering with median model D:\\Sidevideos\\ar34motor\\2022_01_27\\75EYE.avi\n",
      "Saving filtered csv poses!\n",
      "Filtering with median model D:\\Sidevideos\\ar34motor\\2022_01_27\\76EYE.avi\n",
      "Saving filtered csv poses!\n",
      "Filtering with median model D:\\Sidevideos\\ar34motor\\2022_01_27\\77EYE.avi\n",
      "Saving filtered csv poses!\n",
      "Filtering with median model D:\\Sidevideos\\ar34motor\\2022_01_27\\78EYE.avi\n",
      "Saving filtered csv poses!\n",
      "Filtering with median model D:\\Sidevideos\\ar34motor\\2022_01_27\\79EYE.avi\n",
      "Saving filtered csv poses!\n",
      "Filtering with median model D:\\Sidevideos\\ar34motor\\2022_01_27\\7EYE.avi\n",
      "Saving filtered csv poses!\n",
      "Filtering with median model D:\\Sidevideos\\ar34motor\\2022_01_27\\80EYE.avi\n",
      "Saving filtered csv poses!\n",
      "Filtering with median model D:\\Sidevideos\\ar34motor\\2022_01_27\\8EYE.avi\n",
      "Saving filtered csv poses!\n",
      "Filtering with median model D:\\Sidevideos\\ar34motor\\2022_01_27\\9EYE.avi\n"
     ]
    },
    {
     "name": "stdout",
     "output_type": "stream",
     "text": [
      "Saving filtered csv poses!\n"
     ]
    }
   ],
   "source": [
    "path_config_file = 'D:\\\\Sidevideos\\\\DLC\\\\Sideview4-Arash-2021-07-18\\\\config.yaml';\n",
    "#Mainfolder = 'D:\\\\videos\\\\ar32\\\\2020_12_18';\n",
    "path_config_file ='C:\\\\Users\\\\DKLAb\\\\Dropbox\\\\Notebook\\\\DLC\\\\Eyedata4-Arash-2022-02-02\\\\config.yaml';\n",
    "#Mainfolder = 'D:\\\\videos\\\\ar32\\\\2020_12_18';\n",
    "import os\n",
    "text_files = [os.path.join(Mainfolder,f) for f in os.listdir(Mainfolder) if f.endswith('EYE.avi') and not f.endswith('L.avi') and not f.endswith('R.avi') and not f.endswith('videopoints.avi') and not f.endswith('videopoints.avi')]\n",
    "print(text_files[1])\n",
    "#text_files='C:\\\\videos\\\\ar30motor\\\\2021_04_25\\\\9.avi'\n",
    "temp1=deeplabcut.analyze_videos(path_config_file,text_files,shuffle=1, save_as_csv=True )\n",
    "temp=deeplabcut.filterpredictions(path_config_file,text_files)"
   ]
  },
  {
   "cell_type": "markdown",
   "metadata": {},
   "source": [
    "# this step should take the filtered DLC output (Nose and Snout)\n",
    "and create the L and R movies\n",
    "then using another function to convert L and R (R is left face and L is right face) files into Mask and Mirror files( Mask only adds mask to the Right side of the face and Mirror. \n"
   ]
  },
  {
   "cell_type": "markdown",
   "metadata": {},
   "source": [
    "# copy tracked files into the server (with mp4 movies)"
   ]
  },
  {
   "cell_type": "code",
   "execution_count": null,
   "metadata": {},
   "outputs": [],
   "source": [
    "# the code to run matlab here\n",
    "#Mainfolder = 'C:\\\\videos\\\\ar344thday\\\\2021_07_26'\n",
    "# copy tracked files into the server (with mp4 movies)\n",
    "Mainfolder = 'D:\\\\Sidevideos\\\\ar32motor\\\\2021_08_02'\n",
    "\n",
    "#Mainfolder = 'D:\\\\Sidevideos\\\\ar344thday\\\\2021_07_26'\n",
    "#destination = ''\n",
    "destination='//dk-server.dk.ucsd.edu/afassihizakeri/SC_Movies/ar32motor/2021_08_02/Side'\n",
    "import shutil\n",
    "shutil.copytree( Mainfolder,destination, ignore=shutil.ignore_patterns('*.avi'),copy_function = shutil.copy)\n",
    "#copytree(Mainfolder, destination, ignore=ignore_patterns('*.avi'))\n",
    "\n",
    "\n"
   ]
  },
  {
   "cell_type": "markdown",
   "metadata": {},
   "source": [
    "this step makes Mirror Mask files"
   ]
  },
  {
   "cell_type": "markdown",
   "metadata": {},
   "source": [
    "# copy tracked data"
   ]
  },
  {
   "cell_type": "code",
   "execution_count": null,
   "metadata": {},
   "outputs": [],
   "source": [
    "import os  # this is to get folder information and creat files\n",
    "import cv2  # this is important and is reading and writing images and video\n",
    "import shutil\n",
    "destination='//dk-server.dk.ucsd.edu/afassihizakeri/SC_Movies/ar34training/4thdayside'\n",
    "D:\\Sidevideos\\ar34motor\\2022_01_27D:\\Sidevideos\\ar34motor\\2022_01_27\n",
    "All_Folders=[ name for name in os.listdir(Mainfolder) if not os.path.isdir(os.path.join(Mainfolder, name)) ]\n",
    "#print(All_Folders)\n",
    "for num in range(0,len(All_Folders)): \n",
    "    thisdestination = os.path.join(destination+'/', All_Folders[num])\n",
    "    thissource = os.path.join(Mainfolder+os.sep, All_Folders[num])\n",
    "    shutil.copy( thissource,destination)\n",
    "    print(thisdestination)\n"
   ]
  },
  {
   "cell_type": "markdown",
   "metadata": {},
   "source": [
    "# create labled videos"
   ]
  },
  {
   "cell_type": "code",
   "execution_count": 13,
   "metadata": {},
   "outputs": [],
   "source": [
    "# first we create a vector of destination file names\n",
    "import os \n",
    "\n",
    "dirname = os.path.dirname(text_files[1]) \n",
    "\n",
    "thesenames= [os.path.basename(f)  for f in text_files] \n",
    "text_files2 = [os.path.join( os.path.join(os.path.dirname(text_files[1]),'labled'),f) for f in thesenames ]  \n",
    "\n",
    "#os.mkdir\n",
    "#if not (os.path.isdir(os.path.join(os.path.dirname(text_files[1]),'labled'))):\n",
    "# os.mkdir(os.path.join(os.path.dirname(text_files[1]),'labled'))\n",
    "# Print the directory name   \n",
    "#print(text_files2[1]) \n",
    "#for f in text_files:\n",
    "\n",
    "#deeplabcut.create_labeled_video(path_config_file,videofile,save_frames=True) # my_new_list was created in prevouse cell as all videos in the folder \n",
    "deeplabcut.create_labeled_video(path_config_file,[text_files[2]],save_frames=True)\n",
    "  "
   ]
  }
 ],
 "metadata": {
  "kernelspec": {
   "display_name": "Python 3",
   "language": "python",
   "name": "python3"
  },
  "language_info": {
   "codemirror_mode": {
    "name": "ipython",
    "version": 3
   },
   "file_extension": ".py",
   "mimetype": "text/x-python",
   "name": "python",
   "nbconvert_exporter": "python",
   "pygments_lexer": "ipython3",
   "version": "3.6.6"
  }
 },
 "nbformat": 4,
 "nbformat_minor": 2
}
