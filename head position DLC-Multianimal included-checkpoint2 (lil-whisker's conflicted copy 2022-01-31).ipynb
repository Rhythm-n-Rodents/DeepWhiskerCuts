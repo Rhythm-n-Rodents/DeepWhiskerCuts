{
 "cells": [
  {
   "cell_type": "markdown",
   "metadata": {
    "colab_type": "text",
    "id": "RK255E7YoEIt"
   },
   "source": [
    "# Arash SC create a project for head position\n",
    "\n",
    "\n",
    "\n",
    "This notebook demonstrates the necessary steps to use python and DeepLabCut for creating and analysins videos from orientation \n",
    "experiment \n",
    "\n",
    "This notebook illustrates how to:\n",
    " \n",
    "- make a movie from images \n",
    "- create a project\n",
    "- extract training frames\n",
    "- label the frames\n",
    "- plot the labeled images (optional)\n",
    "- create a training set\n",
    "- train a network\n",
    "- evaluate a network\n",
    "- analyze a novel video\n",
    "- create an automatically labeled video (optional)\n",
    "- Go to Matlab \n",
    "\n"
   ]
  },
  {
   "cell_type": "markdown",
   "metadata": {
    "colab_type": "text",
    "id": "9Uoz9mdPoEIy"
   },
   "source": [
    "## Create a new project\n",
    "\n",
    "It is always good idea to keep the projects seperate. This function creates a new project with subdirectories and a basic configuration file in the user defined directory otherwise the project is created in the current working directory.\n",
    "\n",
    "You can always add new videos to the project at any stage of the project. "
   ]
  },
  {
   "cell_type": "code",
   "execution_count": 1,
   "metadata": {
    "colab": {},
    "colab_type": "code",
    "id": "jqLZhp7EoEI0"
   },
   "outputs": [],
   "source": [
    "import deeplabcut\n",
    "## https://github.com/AlexEMG/DeepLabCut"
   ]
  },
  {
   "cell_type": "code",
   "execution_count": 3,
   "metadata": {
    "colab": {},
    "colab_type": "code",
    "id": "c9DjG55FoEI7",
    "scrolled": true
   },
   "outputs": [
    {
     "name": "stdout",
     "output_type": "stream",
     "text": [
      "['F:\\\\ar343rdday\\\\2021_07_16\\\\154.avi', 'F:\\\\ar343rdday\\\\2021_07_16\\\\98.avi', 'F:\\\\ar343rdday\\\\2021_07_16\\\\57.avi', 'F:\\\\ar353rdday\\\\2021_07_16\\\\7.avi', 'F:\\\\ar353rdday\\\\2021_07_16\\\\33.avi', 'F:\\\\ar353rdday\\\\2021_07_16\\\\38.avi', 'F:\\\\ar30motor\\\\2021_07_09\\\\113.avi', 'F:\\\\ar30motor\\\\2021_07_09\\\\123.avi', 'F:\\\\ar32motor\\\\2021_07_09\\\\88.avi', 'F:\\\\ar32motor\\\\2021_07_09\\\\89.avi']\n",
      "Created \"F:\\DLC\\Topview3435-Arash-2021-07-28\\videos\"\n",
      "Created \"F:\\DLC\\Topview3435-Arash-2021-07-28\\labeled-data\"\n",
      "Created \"F:\\DLC\\Topview3435-Arash-2021-07-28\\training-datasets\"\n",
      "Created \"F:\\DLC\\Topview3435-Arash-2021-07-28\\dlc-models\"\n",
      "Copying the videos\n",
      "F:\\DLC\\Topview3435-Arash-2021-07-28\\videos\\154.avi\n",
      "F:\\DLC\\Topview3435-Arash-2021-07-28\\videos\\98.avi\n",
      "F:\\DLC\\Topview3435-Arash-2021-07-28\\videos\\57.avi\n",
      "F:\\DLC\\Topview3435-Arash-2021-07-28\\videos\\7.avi\n",
      "F:\\DLC\\Topview3435-Arash-2021-07-28\\videos\\33.avi\n",
      "F:\\DLC\\Topview3435-Arash-2021-07-28\\videos\\38.avi\n",
      "F:\\DLC\\Topview3435-Arash-2021-07-28\\videos\\113.avi\n",
      "F:\\DLC\\Topview3435-Arash-2021-07-28\\videos\\123.avi\n",
      "F:\\DLC\\Topview3435-Arash-2021-07-28\\videos\\88.avi\n",
      "F:\\DLC\\Topview3435-Arash-2021-07-28\\videos\\89.avi\n",
      "Generated \"F:\\DLC\\Topview3435-Arash-2021-07-28\\config.yaml\"\n",
      "\n",
      "A new project with name Topview3435-Arash-2021-07-28 is created at F:\\DLC and a configurable file (config.yaml) is stored there. Change the parameters in this file to adapt to your project's needs.\n",
      " Once you have changed the configuration file, use the function 'extract_frames' to select frames for labeling.\n",
      ". [OPTIONAL] Use the function 'add_new_videos' to add new videos to your project (at any stage).\n"
     ]
    },
    {
     "data": {
      "text/plain": [
       "'F:\\\\DLC\\\\Topview3435-Arash-2021-07-28\\\\config.yaml'"
      ]
     },
     "execution_count": 3,
     "metadata": {},
     "output_type": "execute_result"
    }
   ],
   "source": [
    "task='ar21_07_06_20LR_R' # Enter the name of your experiment Task\n",
    "task='Topview3435' \n",
    "\n",
    "experimenter='Arash' # Enter the name of the experimenter\n",
    "Mainfolder =  'D:\\\\videos\\\\AR19distance\\\\2020_09_14_ 215321'; # Enter the name of the folder with images folders inside \n",
    "Mainfolder = 'F:\\\\ar343rdday\\\\2021_07_16\\\\';\n",
    "filenames = ['154.avi','98.avi','57.avi']; # Enter the name of the files you want to train\n",
    "video = [str(Mainfolder)+str(f) for f in filenames]; # add path to each file\n",
    "Mainfolder2 = 'F:\\\\ar353rdday\\\\2021_07_16\\\\';\n",
    "filenames2 = ['7.avi','33.avi','38.avi']; # Enter the name of the files you want to train\n",
    "video2 = [str(Mainfolder2)+str(f) for f in filenames2]; # add path to each file\n",
    "video = video+video2\n",
    "Mainfolder3 = 'F:\\\\ar30motor\\\\2021_07_09\\\\';\n",
    "filenames2 = ['113.avi','123.avi']; # Enter the name of the files you want to train\n",
    "video2 = [str(Mainfolder3)+str(f) for f in filenames2]; # add path to each file\n",
    "video = video+video2\n",
    "Mainfolder4 = 'F:\\\\ar32motor\\\\2021_07_09\\\\';\n",
    "filenames2 = ['88.avi','89.avi']; # Enter the name of the files you want to train\n",
    "video2 = [str(Mainfolder4)+str(f) for f in filenames2]; # add path to each file\n",
    "video = video+video2\n",
    "\n",
    "\n",
    "print(video)\n",
    "#deeplabcut.create_new_project(task,experimenter,video, working_directory=Mainfolder,copy_videos=False) #change the working directory to where you want the folders created.\n",
    "deeplabcut.create_new_project(task,experimenter, video, working_directory='F:\\\\DLC',copy_videos=True, multianimal=False)\n",
    "#deeplabcut.create_new_project(task,experimenter, video,copy_videos=True)"
   ]
  },
  {
   "cell_type": "markdown",
   "metadata": {
    "colab_type": "text",
    "id": "0yXW0bx1oEJA"
   },
   "source": [
    "## Extract frames from videos \n",
    "A key point for a successful feature detector is to select diverse frames, which are typical for the behavior you study that should be labeled.\n",
    "\n",
    "This function selects N frames either uniformly sampled from a particular video (or folder) (algo=='uniform'). Note: this might not yield diverse frames, if the behavior is sparsely distributed (consider using kmeans), and/or select frames manually etc.\n",
    "\n",
    "Also make sure to get select data from different (behavioral) sessions and different animals if those vary substantially (to train an invariant feature detector).\n",
    "\n",
    "Individual images should not be too big (i.e. < 850 x 850 pixel). Although this can be taken care of later as well, it is advisable to crop the frames, to remove unnecessary parts of the frame as much as possible.\n",
    "\n",
    "Always check the output of cropping. If you are happy with the results proceed to labeling."
   ]
  },
  {
   "cell_type": "code",
   "execution_count": 2,
   "metadata": {
    "colab": {},
    "colab_type": "code",
    "collapsed": true,
    "id": "t1ulumCuoEJC"
   },
   "outputs": [
    {
     "name": "stdout",
     "output_type": "stream",
     "text": [
      "Config file read successfully.\n",
      "Do you want to extract (perhaps additional) frames for video: F:\\DLC\\Topview3435-Arash-2021-07-28\\videos\\154.avi ?\n",
      "yes/nono\n",
      "Do you want to extract (perhaps additional) frames for video: F:\\DLC\\Topview3435-Arash-2021-07-28\\videos\\98.avi ?\n",
      "yes/nono\n",
      "Do you want to extract (perhaps additional) frames for video: F:\\DLC\\Topview3435-Arash-2021-07-28\\videos\\57.avi ?\n",
      "yes/nono\n",
      "Do you want to extract (perhaps additional) frames for video: F:\\DLC\\Topview3435-Arash-2021-07-28\\videos\\7.avi ?\n",
      "yes/nono\n",
      "Do you want to extract (perhaps additional) frames for video: F:\\DLC\\Topview3435-Arash-2021-07-28\\videos\\33.avi ?\n",
      "yes/nono\n",
      "Do you want to extract (perhaps additional) frames for video: F:\\DLC\\Topview3435-Arash-2021-07-28\\videos\\38.avi ?\n",
      "yes/nono\n",
      "Do you want to extract (perhaps additional) frames for video: F:\\DLC\\Topview3435-Arash-2021-07-28\\videos\\113.avi ?\n",
      "yes/nono\n",
      "Do you want to extract (perhaps additional) frames for video: F:\\DLC\\Topview3435-Arash-2021-07-28\\videos\\123.avi ?\n",
      "yes/nono\n",
      "Do you want to extract (perhaps additional) frames for video: F:\\DLC\\Topview3435-Arash-2021-07-28\\videos\\88.avi ?\n",
      "yes/nono\n",
      "Do you want to extract (perhaps additional) frames for video: F:\\DLC\\Topview3435-Arash-2021-07-28\\videos\\89.avi ?\n",
      "yes/nono\n",
      "Frame extraction failed. Video files must be corrupted.\n"
     ]
    }
   ],
   "source": [
    "%matplotlib inline\n",
    "path_config_file = 'D:\\\\Dropbox\\\\Notebook\\\\ar19_09_15_20Face2-Arash-2020-09-15\\\\config.yaml';\n",
    "path_config_file = 'D:\\\\Dropbox\\\\Notebook\\\\ar32_10_09_20Face3-Arash-2020-10-10\\\\config.yaml';\n",
    "path_config_file = 'D:\\\\Dropbox\\\\Notebook\\\\ar30_10_10_14spouts-Arash-2020-10-24\\\\config.yaml';\n",
    "path_config_file = 'D:\\\\videos\\\\ar32\\\\ar32_10_11_12-Arash-2020-11-14\\\\config.yaml';\n",
    "path_config_file = 'D:\\\\videos\\\\ar32\\\\ar302_10_11_14-Arash-2020-11-16\\\\config.yaml';\n",
    "path_config_file = 'D:\\\\videos\\\\ar32\\\\ar32_10_11_24-Arash-2020-11-25\\\\config.yaml';\n",
    "path_config_file = 'D:\\\\Sidevideos\\\\DLC\\\\Sideview4-Arash-2021-07-18\\\\config.yaml'\n",
    "path_config_file = 'F:\\\\DLC\\\\Topview3435-Arash-2021-07-28\\\\config.yaml';\n",
    "\n",
    "#Enter the path of the config file that was just created from the above step (check the folder)\n",
    "deeplabcut.extract_frames(path_config_file,'automatic','uniform',crop=True) #there are other ways to grab frames, such as by clustering 'kmeans'; please see the paper. \n",
    "#deeplabcut.extract_frames(path_config_file,'automatic','uniform',crop=True, checkcropping=True) #there are other ways to grab frames, such as by clustering 'kmeans'; please see the paper. \n",
    "#You can change the cropping to false, then delete the checkcropping part!"
   ]
  },
  {
   "cell_type": "markdown",
   "metadata": {},
   "source": [
    "## define the config path and load deeplabcut\n"
   ]
  },
  {
   "cell_type": "code",
   "execution_count": null,
   "metadata": {},
   "outputs": [],
   "source": []
  },
  {
   "cell_type": "code",
   "execution_count": 3,
   "metadata": {},
   "outputs": [],
   "source": [
    "# write the Path config file path\n",
    "path_config_file = 'E:\\\\movies\\\\ar2breathing\\\\10_08_19\\\\ar2breathing_10_08_19LR_R-Arash-2020-04-30\\\\config.yaml';\n",
    "path_config_file = 'D:\\\\videos\\\\ar21\\\\2020-07-06\\\\ar21_07_06_20Face2-Arash-2020-07-07\\\\config.yaml';\n",
    "path_config_file = 'D:\\\\Dropbox\\\\Notebook\\\\ar19_09_15_20Face3-Arash-2020-09-16\\\\config.yaml';\n",
    "path_config_file = 'D:\\\\videos\\\\ar32\\\\2020_10_09\\\\ar32_10_09_20Face3-Arash-2020-10-10\\\\config.yaml';\n",
    "path_config_file = 'D:\\\\notebook\\\\ar30_10_10_14spouts-Arash-2020-10-24\\\\config.yaml';\n",
    "path_config_file = 'D:\\\\videos\\\\ar30\\\\ar30_10_11_04-Arash-2020-11-05\\\\config.yaml';\n",
    "path_config_file = 'D:\\\\videos\\\\ar32\\\\ar32_10_11_12-Arash-2020-11-14\\\\config.yaml';\n",
    "path_config_file = 'D:\\\\videos\\\\ar32\\\\ar302_10_11_14-Arash-2020-11-16\\\\config.yaml';\n",
    "path_config_file = 'D:\\\\videos\\\\ar32\\\\ar32_10_11_24-Arash-2020-11-25\\\\config.yaml';\n",
    "path_config_file = 'D:\\\\videos\\\\ar32\\\\ar32_10_11_24-Arash-2020-11-25\\\\config.yaml';\n",
    "path_config_file = 'D:\\\\Dropbox\\\\Notebook\\\\Sideview4-Arash-2021-07-18\\\\config.yaml'\n",
    "path_config_file = 'D:\\\\Sidevideos\\\\DLC\\\\Sideview4-Arash-2021-07-18\\\\config.yaml'\n",
    "\n"
   ]
  },
  {
   "cell_type": "markdown",
   "metadata": {},
   "source": [
    "## add videos from other folders and rats"
   ]
  },
  {
   "cell_type": "code",
   "execution_count": null,
   "metadata": {},
   "outputs": [],
   "source": [
    "Mainfolder =  'D:\\\\videos\\\\ar21\\\\2020_07_08\\\\'; # Enter the name of the folder with images folders inside \n",
    "filenames = ['20L.avi','21L.avi']; # Enter the name of the files you want to train\n",
    "#filenames = ['6L.avi']; # Enter the name of the files you want to train\n",
    "video = [str(Mainfolder)+str(f) for f in filenames]; # add path to each file\n",
    "Mainfolder2 = 'D:\\\\videos\\\\ar30\\\\2020_11_18\\\\';\n",
    "filenames2 = ['217.avi','218.avi']; # Enter the name of the files you want to train\n",
    "video2 = [str(Mainfolder2)+str(f) for f in filenames2]; # add path to each file\n",
    "video = video+video2\n",
    "deeplabcut.add_new_videos(path_config_file, video2, copy_videos=True)"
   ]
  },
  {
   "cell_type": "markdown",
   "metadata": {
    "colab_type": "text",
    "id": "Gjn6ZDonoEJH"
   },
   "source": [
    "## Label the extracted frames\n",
    "Only videos in the config file can be used to extract the frames. Extracted labels for each video are stored in the project directory under the subdirectory **'labeled-data'**. Each subdirectory is named after the name of the video. The toolbox has a labeling toolbox which could be used for labeling. "
   ]
  },
  {
   "cell_type": "code",
   "execution_count": null,
   "metadata": {
    "colab": {},
    "colab_type": "code",
    "id": "iyROSOiEoEJI"
   },
   "outputs": [
    {
     "ename": "wxAssertionError",
     "evalue": "C++ assertion \"IsValid(N)\" failed at ..\\..\\src\\msw\\radiobox.cpp(417) in wxRadioBox::SetSelection(): invalid radiobox index",
     "output_type": "error",
     "traceback": [
      "\u001b[1;31m---------------------------------------------------------------------------\u001b[0m",
      "\u001b[1;31mwxAssertionError\u001b[0m                          Traceback (most recent call last)",
      "\u001b[1;32m~\\Anaconda3\\envs\\dlc-windowsGPU\\lib\\site-packages\\deeplabcut\\generate_training_dataset\\labeling_toolbox.py\u001b[0m in \u001b[0;36mOnKeyPressed\u001b[1;34m(self, event)\u001b[0m\n\u001b[0;32m    291\u001b[0m             \u001b[0mself\u001b[0m\u001b[1;33m.\u001b[0m\u001b[0mnextLabel\u001b[0m\u001b[1;33m(\u001b[0m\u001b[0mevent\u001b[0m\u001b[1;33m=\u001b[0m\u001b[1;32mNone\u001b[0m\u001b[1;33m)\u001b[0m\u001b[1;33m\u001b[0m\u001b[1;33m\u001b[0m\u001b[0m\n\u001b[0;32m    292\u001b[0m         \u001b[1;32melif\u001b[0m \u001b[0mevent\u001b[0m\u001b[1;33m.\u001b[0m\u001b[0mGetKeyCode\u001b[0m\u001b[1;33m(\u001b[0m\u001b[1;33m)\u001b[0m \u001b[1;33m==\u001b[0m \u001b[0mwx\u001b[0m\u001b[1;33m.\u001b[0m\u001b[0mWXK_UP\u001b[0m\u001b[1;33m:\u001b[0m\u001b[1;33m\u001b[0m\u001b[1;33m\u001b[0m\u001b[0m\n\u001b[1;32m--> 293\u001b[1;33m             \u001b[0mself\u001b[0m\u001b[1;33m.\u001b[0m\u001b[0mpreviousLabel\u001b[0m\u001b[1;33m(\u001b[0m\u001b[0mevent\u001b[0m\u001b[1;33m=\u001b[0m\u001b[1;32mNone\u001b[0m\u001b[1;33m)\u001b[0m\u001b[1;33m\u001b[0m\u001b[1;33m\u001b[0m\u001b[0m\n\u001b[0m\u001b[0;32m    294\u001b[0m         \u001b[1;32melif\u001b[0m \u001b[0mevent\u001b[0m\u001b[1;33m.\u001b[0m\u001b[0mGetKeyCode\u001b[0m\u001b[1;33m(\u001b[0m\u001b[1;33m)\u001b[0m \u001b[1;33m==\u001b[0m \u001b[0mwx\u001b[0m\u001b[1;33m.\u001b[0m\u001b[0mWXK_BACK\u001b[0m\u001b[1;33m:\u001b[0m\u001b[1;33m\u001b[0m\u001b[1;33m\u001b[0m\u001b[0m\n\u001b[0;32m    295\u001b[0m             \u001b[0mpos_abs\u001b[0m \u001b[1;33m=\u001b[0m \u001b[0mevent\u001b[0m\u001b[1;33m.\u001b[0m\u001b[0mGetPosition\u001b[0m\u001b[1;33m(\u001b[0m\u001b[1;33m)\u001b[0m\u001b[1;33m\u001b[0m\u001b[1;33m\u001b[0m\u001b[0m\n",
      "\u001b[1;32m~\\Anaconda3\\envs\\dlc-windowsGPU\\lib\\site-packages\\deeplabcut\\generate_training_dataset\\labeling_toolbox.py\u001b[0m in \u001b[0;36mpreviousLabel\u001b[1;34m(self, event)\u001b[0m\n\u001b[0;32m    507\u001b[0m         \"\"\"\n\u001b[0;32m    508\u001b[0m         \u001b[1;32mif\u001b[0m \u001b[0mself\u001b[0m\u001b[1;33m.\u001b[0m\u001b[0mrdb\u001b[0m\u001b[1;33m.\u001b[0m\u001b[0mGetSelection\u001b[0m\u001b[1;33m(\u001b[0m\u001b[1;33m)\u001b[0m \u001b[1;33m<\u001b[0m \u001b[0mlen\u001b[0m\u001b[1;33m(\u001b[0m\u001b[0mself\u001b[0m\u001b[1;33m.\u001b[0m\u001b[0mbodyparts\u001b[0m\u001b[1;33m)\u001b[0m \u001b[1;33m-\u001b[0m \u001b[1;36m1\u001b[0m\u001b[1;33m:\u001b[0m\u001b[1;33m\u001b[0m\u001b[1;33m\u001b[0m\u001b[0m\n\u001b[1;32m--> 509\u001b[1;33m             \u001b[0mself\u001b[0m\u001b[1;33m.\u001b[0m\u001b[0mrdb\u001b[0m\u001b[1;33m.\u001b[0m\u001b[0mSetSelection\u001b[0m\u001b[1;33m(\u001b[0m\u001b[0mself\u001b[0m\u001b[1;33m.\u001b[0m\u001b[0mrdb\u001b[0m\u001b[1;33m.\u001b[0m\u001b[0mGetSelection\u001b[0m\u001b[1;33m(\u001b[0m\u001b[1;33m)\u001b[0m \u001b[1;33m-\u001b[0m \u001b[1;36m1\u001b[0m\u001b[1;33m)\u001b[0m\u001b[1;33m\u001b[0m\u001b[1;33m\u001b[0m\u001b[0m\n\u001b[0m\u001b[0;32m    510\u001b[0m \u001b[1;33m\u001b[0m\u001b[0m\n\u001b[0;32m    511\u001b[0m     \u001b[1;32mdef\u001b[0m \u001b[0mbrowseDir\u001b[0m\u001b[1;33m(\u001b[0m\u001b[0mself\u001b[0m\u001b[1;33m,\u001b[0m \u001b[0mevent\u001b[0m\u001b[1;33m)\u001b[0m\u001b[1;33m:\u001b[0m\u001b[1;33m\u001b[0m\u001b[1;33m\u001b[0m\u001b[0m\n",
      "\u001b[1;31mwxAssertionError\u001b[0m: C++ assertion \"IsValid(N)\" failed at ..\\..\\src\\msw\\radiobox.cpp(417) in wxRadioBox::SetSelection(): invalid radiobox index"
     ]
    }
   ],
   "source": [
    "%gui wx\n",
    "\n",
    "deeplabcut.label_frames(path_config_file)"
   ]
  },
  {
   "cell_type": "markdown",
   "metadata": {
    "colab_type": "text",
    "id": "vim95ZvkPSeN"
   },
   "source": [
    "**Check the labels**\n",
    "\n",
    "Checking if the labels were created and stored correctly is beneficial for training, since labeling is one of the most critical parts for creating the training dataset. The DeepLabCut toolbox provides a function `check\\_labels'  to do so. It is used as follows:"
   ]
  },
  {
   "cell_type": "code",
   "execution_count": 3,
   "metadata": {
    "colab": {},
    "colab_type": "code",
    "id": "NwvgPJouPP2O"
   },
   "outputs": [
    {
     "name": "stdout",
     "output_type": "stream",
     "text": [
      "Creating images with labels by Arash.\n"
     ]
    },
    {
     "name": "stderr",
     "output_type": "stream",
     "text": [
      "100%|██████████████████████████████████████████████████████████████████████████████████| 15/15 [00:01<00:00,  9.06it/s]\n",
      "100%|██████████████████████████████████████████████████████████████████████████████████| 15/15 [00:01<00:00,  9.29it/s]\n",
      "100%|██████████████████████████████████████████████████████████████████████████████████| 15/15 [00:01<00:00,  9.33it/s]\n",
      "100%|██████████████████████████████████████████████████████████████████████████████████| 15/15 [00:01<00:00,  9.43it/s]\n",
      "100%|██████████████████████████████████████████████████████████████████████████████████| 15/15 [00:01<00:00,  9.37it/s]\n",
      "100%|██████████████████████████████████████████████████████████████████████████████████| 15/15 [00:01<00:00,  9.38it/s]\n",
      "100%|██████████████████████████████████████████████████████████████████████████████████| 15/15 [00:01<00:00,  9.59it/s]\n",
      "100%|██████████████████████████████████████████████████████████████████████████████████| 15/15 [00:01<00:00,  9.59it/s]\n",
      "100%|██████████████████████████████████████████████████████████████████████████████████| 15/15 [00:01<00:00,  9.55it/s]\n",
      "100%|██████████████████████████████████████████████████████████████████████████████████| 15/15 [00:01<00:00,  9.54it/s]\n"
     ]
    },
    {
     "name": "stdout",
     "output_type": "stream",
     "text": [
      "If all the labels are ok, then use the function 'create_training_dataset' to create the training dataset!\n"
     ]
    }
   ],
   "source": [
    "\n",
    "deeplabcut.check_labels(path_config_file) #this creates a subdirectory with the frames + your labels"
   ]
  },
  {
   "cell_type": "markdown",
   "metadata": {},
   "source": [
    "## add_new_videos"
   ]
  },
  {
   "cell_type": "code",
   "execution_count": null,
   "metadata": {},
   "outputs": [],
   "source": [
    "Mainfolder =  'D:\\\\videos\\\\ar32\\\\2020_11_12\\\\'; # Enter the name of the folder with images folders inside \n",
    "filenames = ['158.avi','160.avi']; # Enter the name of the files you want to train\n",
    "#filenames = ['6L.avi']; # Enter the name of the files you want to train\n",
    "video = [str(Mainfolder)+str(f) for f in filenames]; # add path to each file\n",
    "deeplabcut.add_new_videos(path_config_file, video, copy_videos=True)"
   ]
  },
  {
   "cell_type": "markdown",
   "metadata": {},
   "source": [
    "## Reminder: Build your skeleton connections before you create a training set!\n"
   ]
  },
  {
   "cell_type": "code",
   "execution_count": 6,
   "metadata": {},
   "outputs": [
    {
     "data": {
      "image/png": "[encoded data removed]",
      "text/plain": [
       "<Figure size 432x288 with 3 Axes>"
      ]
     },
     "metadata": {
      "needs_background": "light"
     },
     "output_type": "display_data"
    },
    {
     "data": {
      "text/plain": [
       "<deeplabcut.utils.skeleton.SkeletonBuilder at 0x22dbe829320>"
      ]
     },
     "execution_count": 6,
     "metadata": {},
     "output_type": "execute_result"
    }
   ],
   "source": [
    "deeplabcut.SkeletonBuilder(path_config_file)"
   ]
  },
  {
   "cell_type": "markdown",
   "metadata": {
    "colab_type": "text",
    "id": "of87fOjgPqzH"
   },
   "source": [
    "If the labels need adjusted, you can use the refinement GUI to move them around! Check that out below."
   ]
  },
  {
   "cell_type": "markdown",
   "metadata": {
    "colab_type": "text",
    "id": "xNi9s1dboEJN"
   },
   "source": [
    "## Create a training dataset\n",
    "This function generates the training data information for DeepCut (which requires a mat file) based on the pandas dataframes that hold label information. The user can set the fraction of the training set size (from all labeled image in the hd5 file) in the config.yaml file. While creating the dataset, the user can create multiple shuffles. \n",
    "\n",
    "After running this script the training dataset is created and saved in the project directory under the subdirectory **'training-datasets'**\n",
    "\n",
    "This function also creates new subdirectories under **dlc-models** and appends the project config.yaml file with the correct path to the training and testing pose configuration file. These files hold the parameters for training the network. Such an example file is provided with the toolbox and named as **pose_cfg.yaml**.\n",
    "\n",
    "Now it is the time to start training the network!"
   ]
  },
  {
   "cell_type": "code",
   "execution_count": null,
   "metadata": {
    "colab": {},
    "colab_type": "code",
    "id": "eMeUwgxPoEJP",
    "scrolled": true
   },
   "outputs": [],
   "source": [
    "deeplabcut.create_training_dataset(path_config_file)"
   ]
  },
  {
   "cell_type": "code",
   "execution_count": 7,
   "metadata": {},
   "outputs": [
    {
     "name": "stdout",
     "output_type": "stream",
     "text": [
      "F:\\DLC\\Topview3435-Arash-2021-07-28\\training-datasets\\iteration-0\\UnaugmentedDataSet_Topview3435Jul28  already exists!\n",
      "You passed a split with the following fraction: 95%\n",
      "The training dataset is successfully created. Use the function 'train_network' to start training. Happy training!\n",
      "F:\\DLC\\Topview3435-Arash-2021-07-28\\training-datasets\\iteration-0\\UnaugmentedDataSet_Topview3435Jul28  already exists!\n",
      "You passed a split with the following fraction: 95%\n",
      "The training dataset is successfully created. Use the function 'train_network' to start training. Happy training!\n"
     ]
    }
   ],
   "source": [
    "deeplabcut.create_training_model_comparison(path_config_file, num_shuffles=1, net_types=['resnet_50'], augmenter_types=['default', 'imgaug'] )\n"
   ]
  },
  {
   "cell_type": "markdown",
   "metadata": {
    "colab_type": "text",
    "id": "c4FczXGDoEJU"
   },
   "source": [
    "## Start training  \n",
    "### If yu want to use your GPU, you need to exit here and either work from the Docker container, your own TensorFlow installation in an Anaconda env\n",
    "\n",
    "This function trains the network for a specific shuffle of the training dataset. "
   ]
  },
  {
   "cell_type": "code",
   "execution_count": 8,
   "metadata": {
    "colab": {},
    "colab_type": "code",
    "id": "_pOvDq_2oEJW",
    "scrolled": false
   },
   "outputs": [
    {
     "name": "stdout",
     "output_type": "stream",
     "text": [
      "Selecting single-animal trainer\n"
     ]
    },
    {
     "name": "stderr",
     "output_type": "stream",
     "text": [
      "Config:\n",
      "{'all_joints': [[0], [1], [2], [3]],\n",
      " 'all_joints_names': ['Nose', 'Snout', 'Leye', 'Reye'],\n",
      " 'batch_size': 1,\n",
      " 'bottomheight': 400,\n",
      " 'crop': True,\n",
      " 'crop_pad': 0,\n",
      " 'cropratio': 0.4,\n",
      " 'dataset': 'training-datasets\\\\iteration-0\\\\UnaugmentedDataSet_Topview3435Jul28\\\\Topview3435_Arash95shuffle1.mat',\n",
      " 'dataset_type': 'imgaug',\n",
      " 'deterministic': False,\n",
      " 'display_iters': 1000,\n",
      " 'fg_fraction': 0.25,\n",
      " 'global_scale': 0.8,\n",
      " 'init_weights': 'C:\\\\Users\\\\Tennessee\\\\Anaconda3\\\\envs\\\\dlc-windowsGPU\\\\lib\\\\site-packages\\\\deeplabcut\\\\pose_estimation_tensorflow\\\\models\\\\pretrained\\\\resnet_v1_50.ckpt',\n",
      " 'intermediate_supervision': False,\n",
      " 'intermediate_supervision_layer': 12,\n",
      " 'leftwidth': 400,\n",
      " 'location_refinement': True,\n",
      " 'locref_huber_loss': True,\n",
      " 'locref_loss_weight': 0.05,\n",
      " 'locref_stdev': 7.2801,\n",
      " 'log_dir': 'log',\n",
      " 'max_input_size': 1500,\n",
      " 'mean_pixel': [123.68, 116.779, 103.939],\n",
      " 'metadataset': 'training-datasets\\\\iteration-0\\\\UnaugmentedDataSet_Topview3435Jul28\\\\Documentation_data-Topview3435_95shuffle1.pickle',\n",
      " 'min_input_size': 64,\n",
      " 'minsize': 100,\n",
      " 'mirror': False,\n",
      " 'multi_step': [[0.005, 10000],\n",
      "                [0.02, 430000],\n",
      "                [0.002, 730000],\n",
      "                [0.001, 1030000]],\n",
      " 'net_type': 'resnet_50',\n",
      " 'num_joints': 4,\n",
      " 'optimizer': 'sgd',\n",
      " 'pairwise_huber_loss': False,\n",
      " 'pairwise_predict': False,\n",
      " 'partaffinityfield_predict': False,\n",
      " 'pos_dist_thresh': 17,\n",
      " 'project_path': 'F:\\\\DLC\\\\Topview3435-Arash-2021-07-28',\n",
      " 'regularize': False,\n",
      " 'rightwidth': 400,\n",
      " 'save_iters': 50000,\n",
      " 'scale_jitter_lo': 0.5,\n",
      " 'scale_jitter_up': 1.25,\n",
      " 'scoremap_dir': 'test',\n",
      " 'shuffle': True,\n",
      " 'snapshot_prefix': 'F:\\\\DLC\\\\Topview3435-Arash-2021-07-28\\\\dlc-models\\\\iteration-0\\\\Topview3435Jul28-trainset95shuffle1\\\\train\\\\snapshot',\n",
      " 'stride': 8.0,\n",
      " 'topheight': 400,\n",
      " 'weigh_negatives': False,\n",
      " 'weigh_only_present_joints': False,\n",
      " 'weigh_part_predictions': False,\n",
      " 'weight_decay': 0.0001}\n"
     ]
    },
    {
     "name": "stdout",
     "output_type": "stream",
     "text": [
      "Starting with imgaug pose-dataset loader.\n",
      "Batch Size is 1\n",
      "Initializing ResNet\n",
      "Loading ImageNet-pretrained resnet_50\n",
      "Display_iters overwritten as 1000\n",
      "Save_iters overwritten as 1000\n",
      "Training parameter:\n",
      "{'stride': 8.0, 'weigh_part_predictions': False, 'weigh_negatives': False, 'fg_fraction': 0.25, 'mean_pixel': [123.68, 116.779, 103.939], 'shuffle': True, 'snapshot_prefix': 'F:\\\\DLC\\\\Topview3435-Arash-2021-07-28\\\\dlc-models\\\\iteration-0\\\\Topview3435Jul28-trainset95shuffle1\\\\train\\\\snapshot', 'log_dir': 'log', 'global_scale': 0.8, 'location_refinement': True, 'locref_stdev': 7.2801, 'locref_loss_weight': 0.05, 'locref_huber_loss': True, 'optimizer': 'sgd', 'intermediate_supervision': False, 'intermediate_supervision_layer': 12, 'regularize': False, 'weight_decay': 0.0001, 'mirror': False, 'crop_pad': 0, 'scoremap_dir': 'test', 'batch_size': 1, 'dataset_type': 'imgaug', 'deterministic': False, 'weigh_only_present_joints': False, 'pairwise_huber_loss': False, 'partaffinityfield_predict': False, 'pairwise_predict': False, 'crop': True, 'cropratio': 0.4, 'minsize': 100, 'leftwidth': 400, 'rightwidth': 400, 'topheight': 400, 'bottomheight': 400, 'all_joints': [[0], [1], [2], [3]], 'all_joints_names': ['Nose', 'Snout', 'Leye', 'Reye'], 'dataset': 'training-datasets\\\\iteration-0\\\\UnaugmentedDataSet_Topview3435Jul28\\\\Topview3435_Arash95shuffle1.mat', 'display_iters': 1000, 'init_weights': 'C:\\\\Users\\\\Tennessee\\\\Anaconda3\\\\envs\\\\dlc-windowsGPU\\\\lib\\\\site-packages\\\\deeplabcut\\\\pose_estimation_tensorflow\\\\models\\\\pretrained\\\\resnet_v1_50.ckpt', 'max_input_size': 1500, 'metadataset': 'training-datasets\\\\iteration-0\\\\UnaugmentedDataSet_Topview3435Jul28\\\\Documentation_data-Topview3435_95shuffle1.pickle', 'min_input_size': 64, 'multi_step': [[0.005, 10000], [0.02, 430000], [0.002, 730000], [0.001, 1030000]], 'net_type': 'resnet_50', 'num_joints': 4, 'pos_dist_thresh': 17, 'project_path': 'F:\\\\DLC\\\\Topview3435-Arash-2021-07-28', 'save_iters': 50000, 'scale_jitter_lo': 0.5, 'scale_jitter_up': 1.25}\n",
      "Starting training....\n"
     ]
    },
    {
     "name": "stderr",
     "output_type": "stream",
     "text": [
      "iteration: 1000 loss: 0.0236 lr: 0.005\n",
      "iteration: 2000 loss: 0.0126 lr: 0.005\n",
      "iteration: 3000 loss: 0.0106 lr: 0.005\n",
      "iteration: 4000 loss: 0.0093 lr: 0.005\n",
      "iteration: 5000 loss: 0.0088 lr: 0.005\n",
      "iteration: 6000 loss: 0.0082 lr: 0.005\n",
      "iteration: 7000 loss: 0.0076 lr: 0.005\n",
      "iteration: 8000 loss: 0.0072 lr: 0.005\n",
      "iteration: 9000 loss: 0.0069 lr: 0.005\n",
      "iteration: 10000 loss: 0.0065 lr: 0.005\n",
      "iteration: 11000 loss: 0.0092 lr: 0.02\n",
      "iteration: 12000 loss: 0.0075 lr: 0.02\n",
      "iteration: 13000 loss: 0.0070 lr: 0.02\n",
      "iteration: 14000 loss: 0.0064 lr: 0.02\n",
      "iteration: 15000 loss: 0.0061 lr: 0.02\n",
      "iteration: 16000 loss: 0.0057 lr: 0.02\n",
      "iteration: 17000 loss: 0.0055 lr: 0.02\n",
      "iteration: 18000 loss: 0.0054 lr: 0.02\n",
      "iteration: 19000 loss: 0.0050 lr: 0.02\n",
      "iteration: 20000 loss: 0.0050 lr: 0.02\n",
      "iteration: 21000 loss: 0.0049 lr: 0.02\n",
      "iteration: 22000 loss: 0.0047 lr: 0.02\n",
      "iteration: 23000 loss: 0.0047 lr: 0.02\n",
      "iteration: 24000 loss: 0.0046 lr: 0.02\n",
      "iteration: 25000 loss: 0.0044 lr: 0.02\n",
      "iteration: 26000 loss: 0.0044 lr: 0.02\n",
      "iteration: 27000 loss: 0.0043 lr: 0.02\n",
      "iteration: 28000 loss: 0.0043 lr: 0.02\n",
      "iteration: 29000 loss: 0.0041 lr: 0.02\n",
      "iteration: 30000 loss: 0.0040 lr: 0.02\n",
      "iteration: 31000 loss: 0.0039 lr: 0.02\n",
      "iteration: 32000 loss: 0.0040 lr: 0.02\n",
      "iteration: 33000 loss: 0.0039 lr: 0.02\n",
      "iteration: 34000 loss: 0.0038 lr: 0.02\n",
      "iteration: 35000 loss: 0.0038 lr: 0.02\n",
      "iteration: 36000 loss: 0.0036 lr: 0.02\n",
      "iteration: 37000 loss: 0.0036 lr: 0.02\n",
      "iteration: 38000 loss: 0.0035 lr: 0.02\n",
      "iteration: 39000 loss: 0.0036 lr: 0.02\n",
      "iteration: 40000 loss: 0.0035 lr: 0.02\n",
      "iteration: 41000 loss: 0.0035 lr: 0.02\n",
      "iteration: 42000 loss: 0.0034 lr: 0.02\n",
      "iteration: 43000 loss: 0.0034 lr: 0.02\n",
      "iteration: 44000 loss: 0.0033 lr: 0.02\n",
      "iteration: 45000 loss: 0.0032 lr: 0.02\n",
      "iteration: 46000 loss: 0.0033 lr: 0.02\n",
      "iteration: 47000 loss: 0.0032 lr: 0.02\n",
      "iteration: 48000 loss: 0.0032 lr: 0.02\n",
      "iteration: 49000 loss: 0.0030 lr: 0.02\n",
      "iteration: 50000 loss: 0.0031 lr: 0.02\n",
      "iteration: 51000 loss: 0.0029 lr: 0.02\n",
      "iteration: 52000 loss: 0.0030 lr: 0.02\n",
      "iteration: 53000 loss: 0.0029 lr: 0.02\n",
      "iteration: 54000 loss: 0.0029 lr: 0.02\n",
      "iteration: 55000 loss: 0.0029 lr: 0.02\n",
      "iteration: 56000 loss: 0.0029 lr: 0.02\n",
      "iteration: 57000 loss: 0.0028 lr: 0.02\n",
      "iteration: 58000 loss: 0.0028 lr: 0.02\n",
      "iteration: 59000 loss: 0.0029 lr: 0.02\n",
      "iteration: 60000 loss: 0.0027 lr: 0.02\n",
      "iteration: 61000 loss: 0.0027 lr: 0.02\n",
      "iteration: 62000 loss: 0.0026 lr: 0.02\n",
      "iteration: 63000 loss: 0.0026 lr: 0.02\n",
      "iteration: 64000 loss: 0.0027 lr: 0.02\n",
      "iteration: 65000 loss: 0.0026 lr: 0.02\n",
      "iteration: 66000 loss: 0.0025 lr: 0.02\n",
      "iteration: 67000 loss: 0.0025 lr: 0.02\n",
      "iteration: 68000 loss: 0.0025 lr: 0.02\n",
      "iteration: 69000 loss: 0.0024 lr: 0.02\n",
      "iteration: 70000 loss: 0.0025 lr: 0.02\n",
      "iteration: 71000 loss: 0.0024 lr: 0.02\n",
      "iteration: 72000 loss: 0.0024 lr: 0.02\n",
      "iteration: 73000 loss: 0.0025 lr: 0.02\n",
      "iteration: 74000 loss: 0.0024 lr: 0.02\n",
      "iteration: 75000 loss: 0.0024 lr: 0.02\n",
      "iteration: 76000 loss: 0.0024 lr: 0.02\n",
      "iteration: 77000 loss: 0.0023 lr: 0.02\n",
      "iteration: 78000 loss: 0.0023 lr: 0.02\n",
      "iteration: 79000 loss: 0.0024 lr: 0.02\n",
      "iteration: 80000 loss: 0.0024 lr: 0.02\n",
      "iteration: 81000 loss: 0.0022 lr: 0.02\n",
      "iteration: 82000 loss: 0.0022 lr: 0.02\n",
      "iteration: 83000 loss: 0.0022 lr: 0.02\n",
      "iteration: 84000 loss: 0.0022 lr: 0.02\n",
      "iteration: 85000 loss: 0.0022 lr: 0.02\n",
      "iteration: 86000 loss: 0.0022 lr: 0.02\n",
      "iteration: 87000 loss: 0.0022 lr: 0.02\n",
      "iteration: 88000 loss: 0.0021 lr: 0.02\n",
      "iteration: 89000 loss: 0.0022 lr: 0.02\n",
      "iteration: 90000 loss: 0.0022 lr: 0.02\n",
      "iteration: 91000 loss: 0.0021 lr: 0.02\n",
      "iteration: 92000 loss: 0.0022 lr: 0.02\n",
      "iteration: 93000 loss: 0.0021 lr: 0.02\n",
      "iteration: 94000 loss: 0.0021 lr: 0.02\n",
      "iteration: 95000 loss: 0.0020 lr: 0.02\n",
      "iteration: 96000 loss: 0.0021 lr: 0.02\n",
      "iteration: 97000 loss: 0.0021 lr: 0.02\n",
      "iteration: 98000 loss: 0.0021 lr: 0.02\n",
      "iteration: 99000 loss: 0.0020 lr: 0.02\n",
      "iteration: 100000 loss: 0.0020 lr: 0.02\n",
      "iteration: 101000 loss: 0.0020 lr: 0.02\n",
      "iteration: 102000 loss: 0.0020 lr: 0.02\n",
      "iteration: 103000 loss: 0.0019 lr: 0.02\n",
      "iteration: 104000 loss: 0.0019 lr: 0.02\n",
      "iteration: 105000 loss: 0.0021 lr: 0.02\n",
      "iteration: 106000 loss: 0.0020 lr: 0.02\n",
      "iteration: 107000 loss: 0.0019 lr: 0.02\n",
      "iteration: 108000 loss: 0.0020 lr: 0.02\n",
      "iteration: 109000 loss: 0.0019 lr: 0.02\n",
      "iteration: 110000 loss: 0.0019 lr: 0.02\n"
     ]
    },
    {
     "ename": "KeyboardInterrupt",
     "evalue": "",
     "output_type": "error",
     "traceback": [
      "\u001b[1;31m---------------------------------------------------------------------------\u001b[0m",
      "\u001b[1;31mKeyboardInterrupt\u001b[0m                         Traceback (most recent call last)",
      "\u001b[1;32m<ipython-input-8-8253cc711f6c>\u001b[0m in \u001b[0;36m<module>\u001b[1;34m\u001b[0m\n\u001b[1;32m----> 1\u001b[1;33m \u001b[0mdeeplabcut\u001b[0m\u001b[1;33m.\u001b[0m\u001b[0mtrain_network\u001b[0m\u001b[1;33m(\u001b[0m\u001b[0mpath_config_file\u001b[0m\u001b[1;33m,\u001b[0m\u001b[0mshuffle\u001b[0m\u001b[1;33m=\u001b[0m\u001b[1;36m1\u001b[0m\u001b[1;33m,\u001b[0m\u001b[0mdisplayiters\u001b[0m\u001b[1;33m=\u001b[0m\u001b[1;36m1000\u001b[0m\u001b[1;33m,\u001b[0m\u001b[0msaveiters\u001b[0m\u001b[1;33m=\u001b[0m\u001b[1;36m1000\u001b[0m\u001b[1;33m)\u001b[0m\u001b[1;33m\u001b[0m\u001b[1;33m\u001b[0m\u001b[0m\n\u001b[0m",
      "\u001b[1;32m~\\Anaconda3\\envs\\dlc-windowsGPU\\lib\\site-packages\\deeplabcut\\pose_estimation_tensorflow\\training.py\u001b[0m in \u001b[0;36mtrain_network\u001b[1;34m(config, shuffle, trainingsetindex, max_snapshots_to_keep, displayiters, saveiters, maxiters, allow_growth, gputouse, autotune, keepdeconvweights, modelprefix)\u001b[0m\n\u001b[0;32m    191\u001b[0m \u001b[1;33m\u001b[0m\u001b[0m\n\u001b[0;32m    192\u001b[0m     \u001b[1;32mexcept\u001b[0m \u001b[0mBaseException\u001b[0m \u001b[1;32mas\u001b[0m \u001b[0me\u001b[0m\u001b[1;33m:\u001b[0m\u001b[1;33m\u001b[0m\u001b[1;33m\u001b[0m\u001b[0m\n\u001b[1;32m--> 193\u001b[1;33m         \u001b[1;32mraise\u001b[0m \u001b[0me\u001b[0m\u001b[1;33m\u001b[0m\u001b[1;33m\u001b[0m\u001b[0m\n\u001b[0m\u001b[0;32m    194\u001b[0m     \u001b[1;32mfinally\u001b[0m\u001b[1;33m:\u001b[0m\u001b[1;33m\u001b[0m\u001b[1;33m\u001b[0m\u001b[0m\n\u001b[0;32m    195\u001b[0m         \u001b[0mos\u001b[0m\u001b[1;33m.\u001b[0m\u001b[0mchdir\u001b[0m\u001b[1;33m(\u001b[0m\u001b[0mstr\u001b[0m\u001b[1;33m(\u001b[0m\u001b[0mstart_path\u001b[0m\u001b[1;33m)\u001b[0m\u001b[1;33m)\u001b[0m\u001b[1;33m\u001b[0m\u001b[1;33m\u001b[0m\u001b[0m\n",
      "\u001b[1;32m~\\Anaconda3\\envs\\dlc-windowsGPU\\lib\\site-packages\\deeplabcut\\pose_estimation_tensorflow\\training.py\u001b[0m in \u001b[0;36mtrain_network\u001b[1;34m(config, shuffle, trainingsetindex, max_snapshots_to_keep, displayiters, saveiters, maxiters, allow_growth, gputouse, autotune, keepdeconvweights, modelprefix)\u001b[0m\n\u001b[0;32m    187\u001b[0m                 \u001b[0mmax_to_keep\u001b[0m\u001b[1;33m=\u001b[0m\u001b[0mmax_snapshots_to_keep\u001b[0m\u001b[1;33m,\u001b[0m\u001b[1;33m\u001b[0m\u001b[1;33m\u001b[0m\u001b[0m\n\u001b[0;32m    188\u001b[0m                 \u001b[0mkeepdeconvweights\u001b[0m\u001b[1;33m=\u001b[0m\u001b[0mkeepdeconvweights\u001b[0m\u001b[1;33m,\u001b[0m\u001b[1;33m\u001b[0m\u001b[1;33m\u001b[0m\u001b[0m\n\u001b[1;32m--> 189\u001b[1;33m                 \u001b[0mallow_growth\u001b[0m\u001b[1;33m=\u001b[0m\u001b[0mallow_growth\u001b[0m\u001b[1;33m,\u001b[0m\u001b[1;33m\u001b[0m\u001b[1;33m\u001b[0m\u001b[0m\n\u001b[0m\u001b[0;32m    190\u001b[0m             )  # pass on path and file name for pose_cfg.yaml!\n\u001b[0;32m    191\u001b[0m \u001b[1;33m\u001b[0m\u001b[0m\n",
      "\u001b[1;32m~\\Anaconda3\\envs\\dlc-windowsGPU\\lib\\site-packages\\deeplabcut\\pose_estimation_tensorflow\\train.py\u001b[0m in \u001b[0;36mtrain\u001b[1;34m(config_yaml, displayiters, saveiters, maxiters, max_to_keep, keepdeconvweights, allow_growth)\u001b[0m\n\u001b[0;32m    252\u001b[0m         [_, loss_val, summary] = sess.run(\n\u001b[0;32m    253\u001b[0m             \u001b[1;33m[\u001b[0m\u001b[0mtrain_op\u001b[0m\u001b[1;33m,\u001b[0m \u001b[0mtotal_loss\u001b[0m\u001b[1;33m,\u001b[0m \u001b[0mmerged_summaries\u001b[0m\u001b[1;33m]\u001b[0m\u001b[1;33m,\u001b[0m\u001b[1;33m\u001b[0m\u001b[1;33m\u001b[0m\u001b[0m\n\u001b[1;32m--> 254\u001b[1;33m             \u001b[0mfeed_dict\u001b[0m\u001b[1;33m=\u001b[0m\u001b[1;33m{\u001b[0m\u001b[0mlearning_rate\u001b[0m\u001b[1;33m:\u001b[0m \u001b[0mcurrent_lr\u001b[0m\u001b[1;33m}\u001b[0m\u001b[1;33m,\u001b[0m\u001b[1;33m\u001b[0m\u001b[1;33m\u001b[0m\u001b[0m\n\u001b[0m\u001b[0;32m    255\u001b[0m         )\n\u001b[0;32m    256\u001b[0m         \u001b[0mcum_loss\u001b[0m \u001b[1;33m+=\u001b[0m \u001b[0mloss_val\u001b[0m\u001b[1;33m\u001b[0m\u001b[1;33m\u001b[0m\u001b[0m\n",
      "\u001b[1;32m~\\Anaconda3\\envs\\dlc-windowsGPU\\lib\\site-packages\\tensorflow\\python\\client\\session.py\u001b[0m in \u001b[0;36mrun\u001b[1;34m(self, fetches, feed_dict, options, run_metadata)\u001b[0m\n\u001b[0;32m    927\u001b[0m     \u001b[1;32mtry\u001b[0m\u001b[1;33m:\u001b[0m\u001b[1;33m\u001b[0m\u001b[1;33m\u001b[0m\u001b[0m\n\u001b[0;32m    928\u001b[0m       result = self._run(None, fetches, feed_dict, options_ptr,\n\u001b[1;32m--> 929\u001b[1;33m                          run_metadata_ptr)\n\u001b[0m\u001b[0;32m    930\u001b[0m       \u001b[1;32mif\u001b[0m \u001b[0mrun_metadata\u001b[0m\u001b[1;33m:\u001b[0m\u001b[1;33m\u001b[0m\u001b[1;33m\u001b[0m\u001b[0m\n\u001b[0;32m    931\u001b[0m         \u001b[0mproto_data\u001b[0m \u001b[1;33m=\u001b[0m \u001b[0mtf_session\u001b[0m\u001b[1;33m.\u001b[0m\u001b[0mTF_GetBuffer\u001b[0m\u001b[1;33m(\u001b[0m\u001b[0mrun_metadata_ptr\u001b[0m\u001b[1;33m)\u001b[0m\u001b[1;33m\u001b[0m\u001b[1;33m\u001b[0m\u001b[0m\n",
      "\u001b[1;32m~\\Anaconda3\\envs\\dlc-windowsGPU\\lib\\site-packages\\tensorflow\\python\\client\\session.py\u001b[0m in \u001b[0;36m_run\u001b[1;34m(self, handle, fetches, feed_dict, options, run_metadata)\u001b[0m\n\u001b[0;32m   1150\u001b[0m     \u001b[1;32mif\u001b[0m \u001b[0mfinal_fetches\u001b[0m \u001b[1;32mor\u001b[0m \u001b[0mfinal_targets\u001b[0m \u001b[1;32mor\u001b[0m \u001b[1;33m(\u001b[0m\u001b[0mhandle\u001b[0m \u001b[1;32mand\u001b[0m \u001b[0mfeed_dict_tensor\u001b[0m\u001b[1;33m)\u001b[0m\u001b[1;33m:\u001b[0m\u001b[1;33m\u001b[0m\u001b[1;33m\u001b[0m\u001b[0m\n\u001b[0;32m   1151\u001b[0m       results = self._do_run(handle, final_targets, final_fetches,\n\u001b[1;32m-> 1152\u001b[1;33m                              feed_dict_tensor, options, run_metadata)\n\u001b[0m\u001b[0;32m   1153\u001b[0m     \u001b[1;32melse\u001b[0m\u001b[1;33m:\u001b[0m\u001b[1;33m\u001b[0m\u001b[1;33m\u001b[0m\u001b[0m\n\u001b[0;32m   1154\u001b[0m       \u001b[0mresults\u001b[0m \u001b[1;33m=\u001b[0m \u001b[1;33m[\u001b[0m\u001b[1;33m]\u001b[0m\u001b[1;33m\u001b[0m\u001b[1;33m\u001b[0m\u001b[0m\n",
      "\u001b[1;32m~\\Anaconda3\\envs\\dlc-windowsGPU\\lib\\site-packages\\tensorflow\\python\\client\\session.py\u001b[0m in \u001b[0;36m_do_run\u001b[1;34m(self, handle, target_list, fetch_list, feed_dict, options, run_metadata)\u001b[0m\n\u001b[0;32m   1326\u001b[0m     \u001b[1;32mif\u001b[0m \u001b[0mhandle\u001b[0m \u001b[1;32mis\u001b[0m \u001b[1;32mNone\u001b[0m\u001b[1;33m:\u001b[0m\u001b[1;33m\u001b[0m\u001b[1;33m\u001b[0m\u001b[0m\n\u001b[0;32m   1327\u001b[0m       return self._do_call(_run_fn, feeds, fetches, targets, options,\n\u001b[1;32m-> 1328\u001b[1;33m                            run_metadata)\n\u001b[0m\u001b[0;32m   1329\u001b[0m     \u001b[1;32melse\u001b[0m\u001b[1;33m:\u001b[0m\u001b[1;33m\u001b[0m\u001b[1;33m\u001b[0m\u001b[0m\n\u001b[0;32m   1330\u001b[0m       \u001b[1;32mreturn\u001b[0m \u001b[0mself\u001b[0m\u001b[1;33m.\u001b[0m\u001b[0m_do_call\u001b[0m\u001b[1;33m(\u001b[0m\u001b[0m_prun_fn\u001b[0m\u001b[1;33m,\u001b[0m \u001b[0mhandle\u001b[0m\u001b[1;33m,\u001b[0m \u001b[0mfeeds\u001b[0m\u001b[1;33m,\u001b[0m \u001b[0mfetches\u001b[0m\u001b[1;33m)\u001b[0m\u001b[1;33m\u001b[0m\u001b[1;33m\u001b[0m\u001b[0m\n",
      "\u001b[1;32m~\\Anaconda3\\envs\\dlc-windowsGPU\\lib\\site-packages\\tensorflow\\python\\client\\session.py\u001b[0m in \u001b[0;36m_do_call\u001b[1;34m(self, fn, *args)\u001b[0m\n\u001b[0;32m   1332\u001b[0m   \u001b[1;32mdef\u001b[0m \u001b[0m_do_call\u001b[0m\u001b[1;33m(\u001b[0m\u001b[0mself\u001b[0m\u001b[1;33m,\u001b[0m \u001b[0mfn\u001b[0m\u001b[1;33m,\u001b[0m \u001b[1;33m*\u001b[0m\u001b[0margs\u001b[0m\u001b[1;33m)\u001b[0m\u001b[1;33m:\u001b[0m\u001b[1;33m\u001b[0m\u001b[1;33m\u001b[0m\u001b[0m\n\u001b[0;32m   1333\u001b[0m     \u001b[1;32mtry\u001b[0m\u001b[1;33m:\u001b[0m\u001b[1;33m\u001b[0m\u001b[1;33m\u001b[0m\u001b[0m\n\u001b[1;32m-> 1334\u001b[1;33m       \u001b[1;32mreturn\u001b[0m \u001b[0mfn\u001b[0m\u001b[1;33m(\u001b[0m\u001b[1;33m*\u001b[0m\u001b[0margs\u001b[0m\u001b[1;33m)\u001b[0m\u001b[1;33m\u001b[0m\u001b[1;33m\u001b[0m\u001b[0m\n\u001b[0m\u001b[0;32m   1335\u001b[0m     \u001b[1;32mexcept\u001b[0m \u001b[0merrors\u001b[0m\u001b[1;33m.\u001b[0m\u001b[0mOpError\u001b[0m \u001b[1;32mas\u001b[0m \u001b[0me\u001b[0m\u001b[1;33m:\u001b[0m\u001b[1;33m\u001b[0m\u001b[1;33m\u001b[0m\u001b[0m\n\u001b[0;32m   1336\u001b[0m       \u001b[0mmessage\u001b[0m \u001b[1;33m=\u001b[0m \u001b[0mcompat\u001b[0m\u001b[1;33m.\u001b[0m\u001b[0mas_text\u001b[0m\u001b[1;33m(\u001b[0m\u001b[0me\u001b[0m\u001b[1;33m.\u001b[0m\u001b[0mmessage\u001b[0m\u001b[1;33m)\u001b[0m\u001b[1;33m\u001b[0m\u001b[1;33m\u001b[0m\u001b[0m\n",
      "\u001b[1;32m~\\Anaconda3\\envs\\dlc-windowsGPU\\lib\\site-packages\\tensorflow\\python\\client\\session.py\u001b[0m in \u001b[0;36m_run_fn\u001b[1;34m(feed_dict, fetch_list, target_list, options, run_metadata)\u001b[0m\n\u001b[0;32m   1317\u001b[0m       \u001b[0mself\u001b[0m\u001b[1;33m.\u001b[0m\u001b[0m_extend_graph\u001b[0m\u001b[1;33m(\u001b[0m\u001b[1;33m)\u001b[0m\u001b[1;33m\u001b[0m\u001b[1;33m\u001b[0m\u001b[0m\n\u001b[0;32m   1318\u001b[0m       return self._call_tf_sessionrun(\n\u001b[1;32m-> 1319\u001b[1;33m           options, feed_dict, fetch_list, target_list, run_metadata)\n\u001b[0m\u001b[0;32m   1320\u001b[0m \u001b[1;33m\u001b[0m\u001b[0m\n\u001b[0;32m   1321\u001b[0m     \u001b[1;32mdef\u001b[0m \u001b[0m_prun_fn\u001b[0m\u001b[1;33m(\u001b[0m\u001b[0mhandle\u001b[0m\u001b[1;33m,\u001b[0m \u001b[0mfeed_dict\u001b[0m\u001b[1;33m,\u001b[0m \u001b[0mfetch_list\u001b[0m\u001b[1;33m)\u001b[0m\u001b[1;33m:\u001b[0m\u001b[1;33m\u001b[0m\u001b[1;33m\u001b[0m\u001b[0m\n",
      "\u001b[1;32m~\\Anaconda3\\envs\\dlc-windowsGPU\\lib\\site-packages\\tensorflow\\python\\client\\session.py\u001b[0m in \u001b[0;36m_call_tf_sessionrun\u001b[1;34m(self, options, feed_dict, fetch_list, target_list, run_metadata)\u001b[0m\n\u001b[0;32m   1405\u001b[0m     return tf_session.TF_SessionRun_wrapper(\n\u001b[0;32m   1406\u001b[0m         \u001b[0mself\u001b[0m\u001b[1;33m.\u001b[0m\u001b[0m_session\u001b[0m\u001b[1;33m,\u001b[0m \u001b[0moptions\u001b[0m\u001b[1;33m,\u001b[0m \u001b[0mfeed_dict\u001b[0m\u001b[1;33m,\u001b[0m \u001b[0mfetch_list\u001b[0m\u001b[1;33m,\u001b[0m \u001b[0mtarget_list\u001b[0m\u001b[1;33m,\u001b[0m\u001b[1;33m\u001b[0m\u001b[1;33m\u001b[0m\u001b[0m\n\u001b[1;32m-> 1407\u001b[1;33m         run_metadata)\n\u001b[0m\u001b[0;32m   1408\u001b[0m \u001b[1;33m\u001b[0m\u001b[0m\n\u001b[0;32m   1409\u001b[0m   \u001b[1;32mdef\u001b[0m \u001b[0m_call_tf_sessionprun\u001b[0m\u001b[1;33m(\u001b[0m\u001b[0mself\u001b[0m\u001b[1;33m,\u001b[0m \u001b[0mhandle\u001b[0m\u001b[1;33m,\u001b[0m \u001b[0mfeed_dict\u001b[0m\u001b[1;33m,\u001b[0m \u001b[0mfetch_list\u001b[0m\u001b[1;33m)\u001b[0m\u001b[1;33m:\u001b[0m\u001b[1;33m\u001b[0m\u001b[1;33m\u001b[0m\u001b[0m\n",
      "\u001b[1;31mKeyboardInterrupt\u001b[0m: "
     ]
    }
   ],
   "source": [
    "deeplabcut.train_network(path_config_file,shuffle=1,displayiters=1000,saveiters=1000)"
   ]
  },
  {
   "cell_type": "markdown",
   "metadata": {
    "colab_type": "text",
    "id": "xZygsb2DoEJc"
   },
   "source": [
    "## Start evaluating\n",
    "This funtion evaluates a trained model for a specific shuffle/shuffles at a particular state or all the states on the data set (images)\n",
    "and stores the results as .csv file in a subdirectory under **evaluation-results**"
   ]
  },
  {
   "cell_type": "code",
   "execution_count": 9,
   "metadata": {
    "colab": {},
    "colab_type": "code",
    "id": "nv4zlbrnoEJg",
    "scrolled": true
   },
   "outputs": [
    {
     "name": "stderr",
     "output_type": "stream",
     "text": [
      "Config:\n",
      "{'all_joints': [[0], [1], [2], [3]],\n",
      " 'all_joints_names': ['Nose', 'Snout', 'Leye', 'Reye'],\n",
      " 'batch_size': 1,\n",
      " 'bottomheight': 400,\n",
      " 'crop': True,\n",
      " 'crop_pad': 0,\n",
      " 'cropratio': 0.4,\n",
      " 'dataset': 'training-datasets\\\\iteration-0\\\\UnaugmentedDataSet_Topview3435Jul28\\\\Topview3435_Arash95shuffle1.mat',\n",
      " 'dataset_type': 'imgaug',\n",
      " 'deterministic': False,\n",
      " 'display_iters': 1000,\n",
      " 'fg_fraction': 0.25,\n",
      " 'global_scale': 0.8,\n",
      " 'init_weights': 'C:\\\\Users\\\\Tennessee\\\\Anaconda3\\\\envs\\\\dlc-windowsGPU\\\\lib\\\\site-packages\\\\deeplabcut\\\\pose_estimation_tensorflow\\\\models\\\\pretrained\\\\resnet_v1_50.ckpt',\n",
      " 'intermediate_supervision': False,\n",
      " 'intermediate_supervision_layer': 12,\n",
      " 'leftwidth': 400,\n",
      " 'location_refinement': True,\n",
      " 'locref_huber_loss': True,\n",
      " 'locref_loss_weight': 0.05,\n",
      " 'locref_stdev': 7.2801,\n",
      " 'log_dir': 'log',\n",
      " 'max_input_size': 1500,\n",
      " 'mean_pixel': [123.68, 116.779, 103.939],\n",
      " 'metadataset': 'training-datasets\\\\iteration-0\\\\UnaugmentedDataSet_Topview3435Jul28\\\\Documentation_data-Topview3435_95shuffle1.pickle',\n",
      " 'min_input_size': 64,\n",
      " 'minsize': 100,\n",
      " 'mirror': False,\n",
      " 'multi_step': [[0.005, 10000],\n",
      "                [0.02, 430000],\n",
      "                [0.002, 730000],\n",
      "                [0.001, 1030000]],\n",
      " 'net_type': 'resnet_50',\n",
      " 'num_joints': 4,\n",
      " 'optimizer': 'sgd',\n",
      " 'pairwise_huber_loss': False,\n",
      " 'pairwise_predict': False,\n",
      " 'partaffinityfield_predict': False,\n",
      " 'pos_dist_thresh': 17,\n",
      " 'project_path': 'F:\\\\DLC\\\\Topview3435-Arash-2021-07-28',\n",
      " 'regularize': False,\n",
      " 'rightwidth': 400,\n",
      " 'save_iters': 50000,\n",
      " 'scale_jitter_lo': 0.5,\n",
      " 'scale_jitter_up': 1.25,\n",
      " 'scoremap_dir': 'test',\n",
      " 'shuffle': True,\n",
      " 'snapshot_prefix': 'F:\\\\DLC\\\\Topview3435-Arash-2021-07-28\\\\dlc-models\\\\iteration-0\\\\Topview3435Jul28-trainset95shuffle1\\\\test\\\\snapshot',\n",
      " 'stride': 8.0,\n",
      " 'topheight': 400,\n",
      " 'weigh_negatives': False,\n",
      " 'weigh_only_present_joints': False,\n",
      " 'weigh_part_predictions': False,\n",
      " 'weight_decay': 0.0001}\n"
     ]
    },
    {
     "name": "stdout",
     "output_type": "stream",
     "text": [
      "Running  DLC_resnet50_Topview3435Jul28shuffle1_110000  with # of trainingiterations: 110000\n",
      "Initializing ResNet\n",
      "Analyzing data...\n"
     ]
    },
    {
     "name": "stderr",
     "output_type": "stream",
     "text": [
      "150it [00:08, 17.14it/s]\n"
     ]
    },
    {
     "name": "stdout",
     "output_type": "stream",
     "text": [
      "Done and results stored for snapshot:  snapshot-110000\n",
      "Results for 110000  training iterations: 95 1 train error: 2.35 pixels. Test error: 5.25  pixels.\n",
      "With pcutoff of 0.6  train error: 2.35 pixels. Test error: 5.25 pixels\n",
      "Thereby, the errors are given by the average distances between the labels by DLC and the scorer.\n",
      "The network is evaluated and the results are stored in the subdirectory 'evaluation_results'.\n",
      "If it generalizes well, choose the best model for prediction and update the config file with the appropriate index for the 'snapshotindex'.\n",
      "Use the function 'analyze_video' to make predictions on new videos.\n",
      "Otherwise consider retraining the network (see DeepLabCut workflow Fig 2)\n"
     ]
    }
   ],
   "source": [
    "deeplabcut.evaluate_network(path_config_file,Shuffles=[1], plotting=False)"
   ]
  },
  {
   "cell_type": "markdown",
   "metadata": {
    "colab_type": "text",
    "id": "OVFLSKKfoEJk"
   },
   "source": [
    "## Start Analyzing videos\n",
    "This function analyzes the new video. The user can choose the best model from the evaluation results and specify the correct snapshot index for the variable **snapshotindex** in the **config.yaml** file. Otherwise, by default the most recent snapshot is used to analyse the video.\n",
    "\n",
    "The results are stored in hd5 file in the same directory where the video resides. "
   ]
  },
  {
   "cell_type": "code",
   "execution_count": 10,
   "metadata": {
    "colab": {},
    "colab_type": "code",
    "id": "Y_LZiS_0oEJl"
   },
   "outputs": [
    {
     "name": "stdout",
     "output_type": "stream",
     "text": [
      "['F:\\\\ar353rdday\\\\2021_07_16\\\\0.avi', 'F:\\\\ar353rdday\\\\2021_07_16\\\\1.avi', 'F:\\\\ar353rdday\\\\2021_07_16\\\\10.avi', 'F:\\\\ar353rdday\\\\2021_07_16\\\\100.avi', 'F:\\\\ar353rdday\\\\2021_07_16\\\\101.avi', 'F:\\\\ar353rdday\\\\2021_07_16\\\\102.avi', 'F:\\\\ar353rdday\\\\2021_07_16\\\\103.avi', 'F:\\\\ar353rdday\\\\2021_07_16\\\\104.avi', 'F:\\\\ar353rdday\\\\2021_07_16\\\\105.avi', 'F:\\\\ar353rdday\\\\2021_07_16\\\\106.avi', 'F:\\\\ar353rdday\\\\2021_07_16\\\\107.avi', 'F:\\\\ar353rdday\\\\2021_07_16\\\\108.avi', 'F:\\\\ar353rdday\\\\2021_07_16\\\\109.avi', 'F:\\\\ar353rdday\\\\2021_07_16\\\\11.avi', 'F:\\\\ar353rdday\\\\2021_07_16\\\\110.avi', 'F:\\\\ar353rdday\\\\2021_07_16\\\\111.avi', 'F:\\\\ar353rdday\\\\2021_07_16\\\\112.avi', 'F:\\\\ar353rdday\\\\2021_07_16\\\\113.avi', 'F:\\\\ar353rdday\\\\2021_07_16\\\\114.avi', 'F:\\\\ar353rdday\\\\2021_07_16\\\\115.avi', 'F:\\\\ar353rdday\\\\2021_07_16\\\\116.avi', 'F:\\\\ar353rdday\\\\2021_07_16\\\\117.avi', 'F:\\\\ar353rdday\\\\2021_07_16\\\\118.avi', 'F:\\\\ar353rdday\\\\2021_07_16\\\\119.avi', 'F:\\\\ar353rdday\\\\2021_07_16\\\\12.avi', 'F:\\\\ar353rdday\\\\2021_07_16\\\\120.avi', 'F:\\\\ar353rdday\\\\2021_07_16\\\\121.avi', 'F:\\\\ar353rdday\\\\2021_07_16\\\\122.avi', 'F:\\\\ar353rdday\\\\2021_07_16\\\\123.avi', 'F:\\\\ar353rdday\\\\2021_07_16\\\\124.avi', 'F:\\\\ar353rdday\\\\2021_07_16\\\\125.avi', 'F:\\\\ar353rdday\\\\2021_07_16\\\\126.avi', 'F:\\\\ar353rdday\\\\2021_07_16\\\\127.avi', 'F:\\\\ar353rdday\\\\2021_07_16\\\\128.avi', 'F:\\\\ar353rdday\\\\2021_07_16\\\\129.avi', 'F:\\\\ar353rdday\\\\2021_07_16\\\\13.avi', 'F:\\\\ar353rdday\\\\2021_07_16\\\\130.avi', 'F:\\\\ar353rdday\\\\2021_07_16\\\\131.avi', 'F:\\\\ar353rdday\\\\2021_07_16\\\\132.avi', 'F:\\\\ar353rdday\\\\2021_07_16\\\\133.avi', 'F:\\\\ar353rdday\\\\2021_07_16\\\\134.avi', 'F:\\\\ar353rdday\\\\2021_07_16\\\\135.avi', 'F:\\\\ar353rdday\\\\2021_07_16\\\\136.avi', 'F:\\\\ar353rdday\\\\2021_07_16\\\\137.avi', 'F:\\\\ar353rdday\\\\2021_07_16\\\\138.avi', 'F:\\\\ar353rdday\\\\2021_07_16\\\\139.avi', 'F:\\\\ar353rdday\\\\2021_07_16\\\\14.avi', 'F:\\\\ar353rdday\\\\2021_07_16\\\\140.avi', 'F:\\\\ar353rdday\\\\2021_07_16\\\\141.avi', 'F:\\\\ar353rdday\\\\2021_07_16\\\\142.avi', 'F:\\\\ar353rdday\\\\2021_07_16\\\\143.avi', 'F:\\\\ar353rdday\\\\2021_07_16\\\\144.avi', 'F:\\\\ar353rdday\\\\2021_07_16\\\\145.avi', 'F:\\\\ar353rdday\\\\2021_07_16\\\\146.avi', 'F:\\\\ar353rdday\\\\2021_07_16\\\\147.avi', 'F:\\\\ar353rdday\\\\2021_07_16\\\\148.avi', 'F:\\\\ar353rdday\\\\2021_07_16\\\\149.avi', 'F:\\\\ar353rdday\\\\2021_07_16\\\\15.avi', 'F:\\\\ar353rdday\\\\2021_07_16\\\\150.avi', 'F:\\\\ar353rdday\\\\2021_07_16\\\\151.avi', 'F:\\\\ar353rdday\\\\2021_07_16\\\\152.avi', 'F:\\\\ar353rdday\\\\2021_07_16\\\\153.avi', 'F:\\\\ar353rdday\\\\2021_07_16\\\\154.avi', 'F:\\\\ar353rdday\\\\2021_07_16\\\\155.avi', 'F:\\\\ar353rdday\\\\2021_07_16\\\\156.avi', 'F:\\\\ar353rdday\\\\2021_07_16\\\\157.avi', 'F:\\\\ar353rdday\\\\2021_07_16\\\\158.avi', 'F:\\\\ar353rdday\\\\2021_07_16\\\\159.avi', 'F:\\\\ar353rdday\\\\2021_07_16\\\\16.avi', 'F:\\\\ar353rdday\\\\2021_07_16\\\\160.avi', 'F:\\\\ar353rdday\\\\2021_07_16\\\\161.avi', 'F:\\\\ar353rdday\\\\2021_07_16\\\\162.avi', 'F:\\\\ar353rdday\\\\2021_07_16\\\\163.avi', 'F:\\\\ar353rdday\\\\2021_07_16\\\\164.avi', 'F:\\\\ar353rdday\\\\2021_07_16\\\\165.avi', 'F:\\\\ar353rdday\\\\2021_07_16\\\\166.avi', 'F:\\\\ar353rdday\\\\2021_07_16\\\\167.avi', 'F:\\\\ar353rdday\\\\2021_07_16\\\\168.avi', 'F:\\\\ar353rdday\\\\2021_07_16\\\\169.avi', 'F:\\\\ar353rdday\\\\2021_07_16\\\\17.avi', 'F:\\\\ar353rdday\\\\2021_07_16\\\\170.avi', 'F:\\\\ar353rdday\\\\2021_07_16\\\\171.avi', 'F:\\\\ar353rdday\\\\2021_07_16\\\\172.avi', 'F:\\\\ar353rdday\\\\2021_07_16\\\\173.avi', 'F:\\\\ar353rdday\\\\2021_07_16\\\\174.avi', 'F:\\\\ar353rdday\\\\2021_07_16\\\\175.avi', 'F:\\\\ar353rdday\\\\2021_07_16\\\\176.avi', 'F:\\\\ar353rdday\\\\2021_07_16\\\\177.avi', 'F:\\\\ar353rdday\\\\2021_07_16\\\\178.avi', 'F:\\\\ar353rdday\\\\2021_07_16\\\\179.avi', 'F:\\\\ar353rdday\\\\2021_07_16\\\\18.avi', 'F:\\\\ar353rdday\\\\2021_07_16\\\\180.avi', 'F:\\\\ar353rdday\\\\2021_07_16\\\\181.avi', 'F:\\\\ar353rdday\\\\2021_07_16\\\\182.avi', 'F:\\\\ar353rdday\\\\2021_07_16\\\\183.avi', 'F:\\\\ar353rdday\\\\2021_07_16\\\\184.avi', 'F:\\\\ar353rdday\\\\2021_07_16\\\\185.avi', 'F:\\\\ar353rdday\\\\2021_07_16\\\\186.avi', 'F:\\\\ar353rdday\\\\2021_07_16\\\\187.avi', 'F:\\\\ar353rdday\\\\2021_07_16\\\\188.avi', 'F:\\\\ar353rdday\\\\2021_07_16\\\\189.avi', 'F:\\\\ar353rdday\\\\2021_07_16\\\\19.avi', 'F:\\\\ar353rdday\\\\2021_07_16\\\\190.avi', 'F:\\\\ar353rdday\\\\2021_07_16\\\\191.avi', 'F:\\\\ar353rdday\\\\2021_07_16\\\\192.avi', 'F:\\\\ar353rdday\\\\2021_07_16\\\\193.avi', 'F:\\\\ar353rdday\\\\2021_07_16\\\\194.avi', 'F:\\\\ar353rdday\\\\2021_07_16\\\\195.avi', 'F:\\\\ar353rdday\\\\2021_07_16\\\\196.avi', 'F:\\\\ar353rdday\\\\2021_07_16\\\\197.avi', 'F:\\\\ar353rdday\\\\2021_07_16\\\\198.avi', 'F:\\\\ar353rdday\\\\2021_07_16\\\\199.avi', 'F:\\\\ar353rdday\\\\2021_07_16\\\\2.avi', 'F:\\\\ar353rdday\\\\2021_07_16\\\\20.avi', 'F:\\\\ar353rdday\\\\2021_07_16\\\\200.avi', 'F:\\\\ar353rdday\\\\2021_07_16\\\\201.avi', 'F:\\\\ar353rdday\\\\2021_07_16\\\\202.avi', 'F:\\\\ar353rdday\\\\2021_07_16\\\\203.avi', 'F:\\\\ar353rdday\\\\2021_07_16\\\\204.avi', 'F:\\\\ar353rdday\\\\2021_07_16\\\\205.avi', 'F:\\\\ar353rdday\\\\2021_07_16\\\\206.avi', 'F:\\\\ar353rdday\\\\2021_07_16\\\\207.avi', 'F:\\\\ar353rdday\\\\2021_07_16\\\\208.avi', 'F:\\\\ar353rdday\\\\2021_07_16\\\\209.avi', 'F:\\\\ar353rdday\\\\2021_07_16\\\\21.avi', 'F:\\\\ar353rdday\\\\2021_07_16\\\\210.avi', 'F:\\\\ar353rdday\\\\2021_07_16\\\\211.avi', 'F:\\\\ar353rdday\\\\2021_07_16\\\\212.avi', 'F:\\\\ar353rdday\\\\2021_07_16\\\\213.avi', 'F:\\\\ar353rdday\\\\2021_07_16\\\\214.avi', 'F:\\\\ar353rdday\\\\2021_07_16\\\\215.avi', 'F:\\\\ar353rdday\\\\2021_07_16\\\\216.avi', 'F:\\\\ar353rdday\\\\2021_07_16\\\\217.avi', 'F:\\\\ar353rdday\\\\2021_07_16\\\\218.avi', 'F:\\\\ar353rdday\\\\2021_07_16\\\\219.avi', 'F:\\\\ar353rdday\\\\2021_07_16\\\\22.avi', 'F:\\\\ar353rdday\\\\2021_07_16\\\\220.avi', 'F:\\\\ar353rdday\\\\2021_07_16\\\\221.avi', 'F:\\\\ar353rdday\\\\2021_07_16\\\\222.avi', 'F:\\\\ar353rdday\\\\2021_07_16\\\\223.avi', 'F:\\\\ar353rdday\\\\2021_07_16\\\\224.avi', 'F:\\\\ar353rdday\\\\2021_07_16\\\\225.avi', 'F:\\\\ar353rdday\\\\2021_07_16\\\\226.avi', 'F:\\\\ar353rdday\\\\2021_07_16\\\\227.avi', 'F:\\\\ar353rdday\\\\2021_07_16\\\\228.avi', 'F:\\\\ar353rdday\\\\2021_07_16\\\\229.avi', 'F:\\\\ar353rdday\\\\2021_07_16\\\\23.avi', 'F:\\\\ar353rdday\\\\2021_07_16\\\\230.avi', 'F:\\\\ar353rdday\\\\2021_07_16\\\\231.avi', 'F:\\\\ar353rdday\\\\2021_07_16\\\\232.avi', 'F:\\\\ar353rdday\\\\2021_07_16\\\\233.avi', 'F:\\\\ar353rdday\\\\2021_07_16\\\\234.avi', 'F:\\\\ar353rdday\\\\2021_07_16\\\\235.avi', 'F:\\\\ar353rdday\\\\2021_07_16\\\\236.avi', 'F:\\\\ar353rdday\\\\2021_07_16\\\\237.avi', 'F:\\\\ar353rdday\\\\2021_07_16\\\\238.avi', 'F:\\\\ar353rdday\\\\2021_07_16\\\\239.avi', 'F:\\\\ar353rdday\\\\2021_07_16\\\\24.avi', 'F:\\\\ar353rdday\\\\2021_07_16\\\\240.avi', 'F:\\\\ar353rdday\\\\2021_07_16\\\\241.avi', 'F:\\\\ar353rdday\\\\2021_07_16\\\\242.avi', 'F:\\\\ar353rdday\\\\2021_07_16\\\\243.avi', 'F:\\\\ar353rdday\\\\2021_07_16\\\\244.avi', 'F:\\\\ar353rdday\\\\2021_07_16\\\\245.avi', 'F:\\\\ar353rdday\\\\2021_07_16\\\\246.avi', 'F:\\\\ar353rdday\\\\2021_07_16\\\\247.avi', 'F:\\\\ar353rdday\\\\2021_07_16\\\\248.avi', 'F:\\\\ar353rdday\\\\2021_07_16\\\\249.avi', 'F:\\\\ar353rdday\\\\2021_07_16\\\\25.avi', 'F:\\\\ar353rdday\\\\2021_07_16\\\\250.avi', 'F:\\\\ar353rdday\\\\2021_07_16\\\\251.avi', 'F:\\\\ar353rdday\\\\2021_07_16\\\\252.avi', 'F:\\\\ar353rdday\\\\2021_07_16\\\\253.avi', 'F:\\\\ar353rdday\\\\2021_07_16\\\\254.avi', 'F:\\\\ar353rdday\\\\2021_07_16\\\\255.avi', 'F:\\\\ar353rdday\\\\2021_07_16\\\\256.avi', 'F:\\\\ar353rdday\\\\2021_07_16\\\\257.avi', 'F:\\\\ar353rdday\\\\2021_07_16\\\\258.avi', 'F:\\\\ar353rdday\\\\2021_07_16\\\\259.avi', 'F:\\\\ar353rdday\\\\2021_07_16\\\\26.avi', 'F:\\\\ar353rdday\\\\2021_07_16\\\\260.avi', 'F:\\\\ar353rdday\\\\2021_07_16\\\\261.avi', 'F:\\\\ar353rdday\\\\2021_07_16\\\\262.avi', 'F:\\\\ar353rdday\\\\2021_07_16\\\\263.avi', 'F:\\\\ar353rdday\\\\2021_07_16\\\\264.avi', 'F:\\\\ar353rdday\\\\2021_07_16\\\\265.avi', 'F:\\\\ar353rdday\\\\2021_07_16\\\\266.avi', 'F:\\\\ar353rdday\\\\2021_07_16\\\\267.avi', 'F:\\\\ar353rdday\\\\2021_07_16\\\\268.avi', 'F:\\\\ar353rdday\\\\2021_07_16\\\\269.avi', 'F:\\\\ar353rdday\\\\2021_07_16\\\\27.avi', 'F:\\\\ar353rdday\\\\2021_07_16\\\\270.avi', 'F:\\\\ar353rdday\\\\2021_07_16\\\\271.avi', 'F:\\\\ar353rdday\\\\2021_07_16\\\\272.avi', 'F:\\\\ar353rdday\\\\2021_07_16\\\\273.avi', 'F:\\\\ar353rdday\\\\2021_07_16\\\\274.avi', 'F:\\\\ar353rdday\\\\2021_07_16\\\\275.avi', 'F:\\\\ar353rdday\\\\2021_07_16\\\\276.avi', 'F:\\\\ar353rdday\\\\2021_07_16\\\\277.avi', 'F:\\\\ar353rdday\\\\2021_07_16\\\\278.avi', 'F:\\\\ar353rdday\\\\2021_07_16\\\\279.avi', 'F:\\\\ar353rdday\\\\2021_07_16\\\\28.avi', 'F:\\\\ar353rdday\\\\2021_07_16\\\\280.avi', 'F:\\\\ar353rdday\\\\2021_07_16\\\\281.avi', 'F:\\\\ar353rdday\\\\2021_07_16\\\\282.avi', 'F:\\\\ar353rdday\\\\2021_07_16\\\\283.avi', 'F:\\\\ar353rdday\\\\2021_07_16\\\\284.avi', 'F:\\\\ar353rdday\\\\2021_07_16\\\\285.avi', 'F:\\\\ar353rdday\\\\2021_07_16\\\\29.avi', 'F:\\\\ar353rdday\\\\2021_07_16\\\\3.avi', 'F:\\\\ar353rdday\\\\2021_07_16\\\\30.avi', 'F:\\\\ar353rdday\\\\2021_07_16\\\\31.avi', 'F:\\\\ar353rdday\\\\2021_07_16\\\\32.avi', 'F:\\\\ar353rdday\\\\2021_07_16\\\\33.avi', 'F:\\\\ar353rdday\\\\2021_07_16\\\\34.avi', 'F:\\\\ar353rdday\\\\2021_07_16\\\\35.avi', 'F:\\\\ar353rdday\\\\2021_07_16\\\\36.avi', 'F:\\\\ar353rdday\\\\2021_07_16\\\\37.avi', 'F:\\\\ar353rdday\\\\2021_07_16\\\\38.avi', 'F:\\\\ar353rdday\\\\2021_07_16\\\\39.avi', 'F:\\\\ar353rdday\\\\2021_07_16\\\\4.avi', 'F:\\\\ar353rdday\\\\2021_07_16\\\\40.avi', 'F:\\\\ar353rdday\\\\2021_07_16\\\\41.avi', 'F:\\\\ar353rdday\\\\2021_07_16\\\\42.avi', 'F:\\\\ar353rdday\\\\2021_07_16\\\\43.avi', 'F:\\\\ar353rdday\\\\2021_07_16\\\\44.avi', 'F:\\\\ar353rdday\\\\2021_07_16\\\\45.avi', 'F:\\\\ar353rdday\\\\2021_07_16\\\\46.avi', 'F:\\\\ar353rdday\\\\2021_07_16\\\\47.avi', 'F:\\\\ar353rdday\\\\2021_07_16\\\\48.avi', 'F:\\\\ar353rdday\\\\2021_07_16\\\\49.avi', 'F:\\\\ar353rdday\\\\2021_07_16\\\\5.avi', 'F:\\\\ar353rdday\\\\2021_07_16\\\\50.avi', 'F:\\\\ar353rdday\\\\2021_07_16\\\\51.avi', 'F:\\\\ar353rdday\\\\2021_07_16\\\\52.avi', 'F:\\\\ar353rdday\\\\2021_07_16\\\\53.avi', 'F:\\\\ar353rdday\\\\2021_07_16\\\\54.avi', 'F:\\\\ar353rdday\\\\2021_07_16\\\\55.avi', 'F:\\\\ar353rdday\\\\2021_07_16\\\\56.avi', 'F:\\\\ar353rdday\\\\2021_07_16\\\\57.avi', 'F:\\\\ar353rdday\\\\2021_07_16\\\\58.avi', 'F:\\\\ar353rdday\\\\2021_07_16\\\\59.avi', 'F:\\\\ar353rdday\\\\2021_07_16\\\\6.avi', 'F:\\\\ar353rdday\\\\2021_07_16\\\\60.avi', 'F:\\\\ar353rdday\\\\2021_07_16\\\\61.avi', 'F:\\\\ar353rdday\\\\2021_07_16\\\\62.avi', 'F:\\\\ar353rdday\\\\2021_07_16\\\\63.avi', 'F:\\\\ar353rdday\\\\2021_07_16\\\\64.avi', 'F:\\\\ar353rdday\\\\2021_07_16\\\\65.avi', 'F:\\\\ar353rdday\\\\2021_07_16\\\\66.avi', 'F:\\\\ar353rdday\\\\2021_07_16\\\\67.avi', 'F:\\\\ar353rdday\\\\2021_07_16\\\\68.avi', 'F:\\\\ar353rdday\\\\2021_07_16\\\\69.avi', 'F:\\\\ar353rdday\\\\2021_07_16\\\\7.avi', 'F:\\\\ar353rdday\\\\2021_07_16\\\\70.avi', 'F:\\\\ar353rdday\\\\2021_07_16\\\\71.avi', 'F:\\\\ar353rdday\\\\2021_07_16\\\\72.avi', 'F:\\\\ar353rdday\\\\2021_07_16\\\\73.avi', 'F:\\\\ar353rdday\\\\2021_07_16\\\\74.avi', 'F:\\\\ar353rdday\\\\2021_07_16\\\\75.avi', 'F:\\\\ar353rdday\\\\2021_07_16\\\\76.avi', 'F:\\\\ar353rdday\\\\2021_07_16\\\\77.avi', 'F:\\\\ar353rdday\\\\2021_07_16\\\\78.avi', 'F:\\\\ar353rdday\\\\2021_07_16\\\\79.avi', 'F:\\\\ar353rdday\\\\2021_07_16\\\\8.avi', 'F:\\\\ar353rdday\\\\2021_07_16\\\\80.avi', 'F:\\\\ar353rdday\\\\2021_07_16\\\\81.avi', 'F:\\\\ar353rdday\\\\2021_07_16\\\\82.avi', 'F:\\\\ar353rdday\\\\2021_07_16\\\\83.avi', 'F:\\\\ar353rdday\\\\2021_07_16\\\\84.avi', 'F:\\\\ar353rdday\\\\2021_07_16\\\\85.avi', 'F:\\\\ar353rdday\\\\2021_07_16\\\\86.avi', 'F:\\\\ar353rdday\\\\2021_07_16\\\\87.avi', 'F:\\\\ar353rdday\\\\2021_07_16\\\\88.avi', 'F:\\\\ar353rdday\\\\2021_07_16\\\\89.avi', 'F:\\\\ar353rdday\\\\2021_07_16\\\\9.avi', 'F:\\\\ar353rdday\\\\2021_07_16\\\\90.avi', 'F:\\\\ar353rdday\\\\2021_07_16\\\\91.avi', 'F:\\\\ar353rdday\\\\2021_07_16\\\\92.avi', 'F:\\\\ar353rdday\\\\2021_07_16\\\\93.avi', 'F:\\\\ar353rdday\\\\2021_07_16\\\\94.avi', 'F:\\\\ar353rdday\\\\2021_07_16\\\\95.avi', 'F:\\\\ar353rdday\\\\2021_07_16\\\\96.avi', 'F:\\\\ar353rdday\\\\2021_07_16\\\\97.avi', 'F:\\\\ar353rdday\\\\2021_07_16\\\\98.avi', 'F:\\\\ar353rdday\\\\2021_07_16\\\\99.avi']"
     ]
    },
    {
     "name": "stdout",
     "output_type": "stream",
     "text": [
      "\n"
     ]
    },
    {
     "name": "stderr",
     "output_type": "stream",
     "text": [
      "Config:\n",
      "{'all_joints': [[0], [1], [2], [3]],\n",
      " 'all_joints_names': ['Nose', 'Snout', 'Leye', 'Reye'],\n",
      " 'batch_size': 1,\n",
      " 'bottomheight': 400,\n",
      " 'crop': True,\n",
      " 'crop_pad': 0,\n",
      " 'cropratio': 0.4,\n",
      " 'dataset': 'training-datasets\\\\iteration-0\\\\UnaugmentedDataSet_Topview3435Jul28\\\\Topview3435_Arash95shuffle1.mat',\n",
      " 'dataset_type': 'imgaug',\n",
      " 'deterministic': False,\n",
      " 'display_iters': 1000,\n",
      " 'fg_fraction': 0.25,\n",
      " 'global_scale': 0.8,\n",
      " 'init_weights': 'C:\\\\Users\\\\Tennessee\\\\Anaconda3\\\\envs\\\\dlc-windowsGPU\\\\lib\\\\site-packages\\\\deeplabcut\\\\pose_estimation_tensorflow\\\\models\\\\pretrained\\\\resnet_v1_50.ckpt',\n",
      " 'intermediate_supervision': False,\n",
      " 'intermediate_supervision_layer': 12,\n",
      " 'leftwidth': 400,\n",
      " 'location_refinement': True,\n",
      " 'locref_huber_loss': True,\n",
      " 'locref_loss_weight': 0.05,\n",
      " 'locref_stdev': 7.2801,\n",
      " 'log_dir': 'log',\n",
      " 'max_input_size': 1500,\n",
      " 'mean_pixel': [123.68, 116.779, 103.939],\n",
      " 'metadataset': 'training-datasets\\\\iteration-0\\\\UnaugmentedDataSet_Topview3435Jul28\\\\Documentation_data-Topview3435_95shuffle1.pickle',\n",
      " 'min_input_size': 64,\n",
      " 'minsize': 100,\n",
      " 'mirror': False,\n",
      " 'multi_step': [[0.005, 10000],\n",
      "                [0.02, 430000],\n",
      "                [0.002, 730000],\n",
      "                [0.001, 1030000]],\n",
      " 'net_type': 'resnet_50',\n",
      " 'num_joints': 4,\n",
      " 'optimizer': 'sgd',\n",
      " 'pairwise_huber_loss': False,\n",
      " 'pairwise_predict': False,\n",
      " 'partaffinityfield_predict': False,\n",
      " 'pos_dist_thresh': 17,\n",
      " 'project_path': 'F:\\\\DLC\\\\Topview3435-Arash-2021-07-28',\n",
      " 'regularize': False,\n",
      " 'rightwidth': 400,\n",
      " 'save_iters': 50000,\n",
      " 'scale_jitter_lo': 0.5,\n",
      " 'scale_jitter_up': 1.25,\n",
      " 'scoremap_dir': 'test',\n",
      " 'shuffle': True,\n",
      " 'snapshot_prefix': 'F:\\\\DLC\\\\Topview3435-Arash-2021-07-28\\\\dlc-models\\\\iteration-0\\\\Topview3435Jul28-trainset95shuffle1\\\\test\\\\snapshot',\n",
      " 'stride': 8.0,\n",
      " 'topheight': 400,\n",
      " 'weigh_negatives': False,\n",
      " 'weigh_only_present_joints': False,\n",
      " 'weigh_part_predictions': False,\n",
      " 'weight_decay': 0.0001}\n"
     ]
    },
    {
     "name": "stdout",
     "output_type": "stream",
     "text": [
      "Using snapshot-110000 for model F:\\DLC\\Topview3435-Arash-2021-07-28\\dlc-models\\iteration-0\\Topview3435Jul28-trainset95shuffle1\n",
      "Initializing ResNet\n",
      "Starting to analyze %  F:\\ar353rdday\\2021_07_16\\0.avi\n",
      "F:\\ar353rdday\\2021_07_16  already exists!\n",
      "Loading  F:\\ar353rdday\\2021_07_16\\0.avi\n",
      "Duration of video [s]:  12.5 , recorded with  40.0 fps!\n",
      "Overall # of frames:  500  found with (before cropping) frame dimensions:  1440 484\n",
      "Starting to extract posture\n"
     ]
    },
    {
     "name": "stderr",
     "output_type": "stream",
     "text": [
      "510it [00:22, 23.89it/s]                                                                                               "
     ]
    },
    {
     "name": "stdout",
     "output_type": "stream",
     "text": [
      "Detected frames:  500\n"
     ]
    },
    {
     "name": "stderr",
     "output_type": "stream",
     "text": [
      "510it [00:23, 21.88it/s]\n"
     ]
    },
    {
     "name": "stdout",
     "output_type": "stream",
     "text": [
      "Saving results in F:\\ar353rdday\\2021_07_16...\n",
      "Saving csv poses!\n",
      "Starting to analyze %  F:\\ar353rdday\\2021_07_16\\1.avi\n",
      "F:\\ar353rdday\\2021_07_16  already exists!\n",
      "Loading  F:\\ar353rdday\\2021_07_16\\1.avi\n",
      "Duration of video [s]:  12.5 , recorded with  40.0 fps!\n",
      "Overall # of frames:  500  found with (before cropping) frame dimensions:  1440 484\n",
      "Starting to extract posture\n"
     ]
    },
    {
     "name": "stderr",
     "output_type": "stream",
     "text": [
      "510it [00:21, 23.56it/s]                                                                                               "
     ]
    },
    {
     "name": "stdout",
     "output_type": "stream",
     "text": [
      "Detected frames:  500\n"
     ]
    },
    {
     "name": "stderr",
     "output_type": "stream",
     "text": [
      "510it [00:22, 23.04it/s]\n"
     ]
    },
    {
     "name": "stdout",
     "output_type": "stream",
     "text": [
      "Saving results in F:\\ar353rdday\\2021_07_16...\n",
      "Saving csv poses!\n",
      "Starting to analyze %  F:\\ar353rdday\\2021_07_16\\10.avi\n",
      "F:\\ar353rdday\\2021_07_16  already exists!\n",
      "Loading  F:\\ar353rdday\\2021_07_16\\10.avi\n",
      "Duration of video [s]:  12.5 , recorded with  40.0 fps!\n",
      "Overall # of frames:  500  found with (before cropping) frame dimensions:  1440 484\n",
      "Starting to extract posture\n"
     ]
    },
    {
     "name": "stderr",
     "output_type": "stream",
     "text": [
      "510it [00:22, 23.62it/s]                                                                                               "
     ]
    },
    {
     "name": "stdout",
     "output_type": "stream",
     "text": [
      "Detected frames:  500\n"
     ]
    },
    {
     "name": "stderr",
     "output_type": "stream",
     "text": [
      "510it [00:22, 22.79it/s]\n"
     ]
    },
    {
     "name": "stdout",
     "output_type": "stream",
     "text": [
      "Saving results in F:\\ar353rdday\\2021_07_16...\n",
      "Saving csv poses!\n",
      "Starting to analyze %  F:\\ar353rdday\\2021_07_16\\100.avi\n",
      "F:\\ar353rdday\\2021_07_16  already exists!\n",
      "Loading  F:\\ar353rdday\\2021_07_16\\100.avi\n",
      "Duration of video [s]:  12.5 , recorded with  40.0 fps!\n",
      "Overall # of frames:  500  found with (before cropping) frame dimensions:  1440 484\n",
      "Starting to extract posture\n"
     ]
    },
    {
     "name": "stderr",
     "output_type": "stream",
     "text": [
      "510it [00:22, 22.17it/s]                                                                                               "
     ]
    },
    {
     "name": "stdout",
     "output_type": "stream",
     "text": [
      "Detected frames:  500\n"
     ]
    },
    {
     "name": "stderr",
     "output_type": "stream",
     "text": [
      "510it [00:22, 22.34it/s]\n"
     ]
    },
    {
     "name": "stdout",
     "output_type": "stream",
     "text": [
      "Saving results in F:\\ar353rdday\\2021_07_16...\n",
      "Saving csv poses!\n",
      "Starting to analyze %  F:\\ar353rdday\\2021_07_16\\101.avi\n",
      "F:\\ar353rdday\\2021_07_16  already exists!\n",
      "Loading  F:\\ar353rdday\\2021_07_16\\101.avi\n",
      "Duration of video [s]:  12.5 , recorded with  40.0 fps!\n",
      "Overall # of frames:  500  found with (before cropping) frame dimensions:  1440 484\n",
      "Starting to extract posture\n"
     ]
    },
    {
     "name": "stderr",
     "output_type": "stream",
     "text": [
      "510it [00:22, 23.23it/s]                                                                                               "
     ]
    },
    {
     "name": "stdout",
     "output_type": "stream",
     "text": [
      "Detected frames:  500\n"
     ]
    },
    {
     "name": "stderr",
     "output_type": "stream",
     "text": [
      "510it [00:22, 22.61it/s]\n"
     ]
    },
    {
     "name": "stdout",
     "output_type": "stream",
     "text": [
      "Saving results in F:\\ar353rdday\\2021_07_16...\n",
      "Saving csv poses!\n",
      "Starting to analyze %  F:\\ar353rdday\\2021_07_16\\102.avi\n",
      "F:\\ar353rdday\\2021_07_16  already exists!\n",
      "Loading  F:\\ar353rdday\\2021_07_16\\102.avi\n",
      "Duration of video [s]:  12.5 , recorded with  40.0 fps!\n",
      "Overall # of frames:  500  found with (before cropping) frame dimensions:  1440 484\n",
      "Starting to extract posture\n"
     ]
    },
    {
     "name": "stderr",
     "output_type": "stream",
     "text": [
      "510it [00:22, 22.95it/s]                                                                                               "
     ]
    },
    {
     "name": "stdout",
     "output_type": "stream",
     "text": [
      "Detected frames:  500\n"
     ]
    },
    {
     "name": "stderr",
     "output_type": "stream",
     "text": [
      "510it [00:22, 22.55it/s]\n"
     ]
    },
    {
     "name": "stdout",
     "output_type": "stream",
     "text": [
      "Saving results in F:\\ar353rdday\\2021_07_16...\n",
      "Saving csv poses!\n",
      "Starting to analyze %  F:\\ar353rdday\\2021_07_16\\103.avi\n",
      "F:\\ar353rdday\\2021_07_16  already exists!\n",
      "Loading  F:\\ar353rdday\\2021_07_16\\103.avi\n",
      "Duration of video [s]:  12.5 , recorded with  40.0 fps!\n",
      "Overall # of frames:  500  found with (before cropping) frame dimensions:  1440 484\n",
      "Starting to extract posture\n"
     ]
    },
    {
     "name": "stderr",
     "output_type": "stream",
     "text": [
      "510it [00:22, 22.96it/s]                                                                                               "
     ]
    },
    {
     "name": "stdout",
     "output_type": "stream",
     "text": [
      "Detected frames:  500\n"
     ]
    },
    {
     "name": "stderr",
     "output_type": "stream",
     "text": [
      "510it [00:22, 22.45it/s]\n"
     ]
    },
    {
     "name": "stdout",
     "output_type": "stream",
     "text": [
      "Saving results in F:\\ar353rdday\\2021_07_16...\n",
      "Saving csv poses!\n",
      "Starting to analyze %  F:\\ar353rdday\\2021_07_16\\104.avi\n",
      "F:\\ar353rdday\\2021_07_16  already exists!\n",
      "Loading  F:\\ar353rdday\\2021_07_16\\104.avi\n",
      "Duration of video [s]:  12.5 , recorded with  40.0 fps!\n",
      "Overall # of frames:  500  found with (before cropping) frame dimensions:  1440 484\n",
      "Starting to extract posture\n"
     ]
    },
    {
     "name": "stderr",
     "output_type": "stream",
     "text": [
      "510it [00:22, 22.88it/s]                                                                                               "
     ]
    },
    {
     "name": "stdout",
     "output_type": "stream",
     "text": [
      "Detected frames:  500\n"
     ]
    },
    {
     "name": "stderr",
     "output_type": "stream",
     "text": [
      "510it [00:22, 22.29it/s]\n"
     ]
    },
    {
     "name": "stdout",
     "output_type": "stream",
     "text": [
      "Saving results in F:\\ar353rdday\\2021_07_16...\n",
      "Saving csv poses!\n",
      "Starting to analyze %  F:\\ar353rdday\\2021_07_16\\105.avi\n",
      "F:\\ar353rdday\\2021_07_16  already exists!\n",
      "Loading  F:\\ar353rdday\\2021_07_16\\105.avi\n",
      "Duration of video [s]:  12.5 , recorded with  40.0 fps!\n",
      "Overall # of frames:  500  found with (before cropping) frame dimensions:  1440 484\n",
      "Starting to extract posture\n"
     ]
    },
    {
     "name": "stderr",
     "output_type": "stream",
     "text": [
      "510it [00:22, 22.91it/s]                                                                                               "
     ]
    },
    {
     "name": "stdout",
     "output_type": "stream",
     "text": [
      "Detected frames:  500\n"
     ]
    },
    {
     "name": "stderr",
     "output_type": "stream",
     "text": [
      "510it [00:22, 22.32it/s]\n"
     ]
    },
    {
     "name": "stdout",
     "output_type": "stream",
     "text": [
      "Saving results in F:\\ar353rdday\\2021_07_16...\n",
      "Saving csv poses!\n",
      "Starting to analyze %  F:\\ar353rdday\\2021_07_16\\106.avi\n",
      "F:\\ar353rdday\\2021_07_16  already exists!\n",
      "Loading  F:\\ar353rdday\\2021_07_16\\106.avi\n",
      "Duration of video [s]:  12.5 , recorded with  40.0 fps!\n",
      "Overall # of frames:  500  found with (before cropping) frame dimensions:  1440 484\n",
      "Starting to extract posture\n"
     ]
    },
    {
     "name": "stderr",
     "output_type": "stream",
     "text": [
      "510it [00:22, 22.64it/s]                                                                                               "
     ]
    },
    {
     "name": "stdout",
     "output_type": "stream",
     "text": [
      "Detected frames:  500\n"
     ]
    },
    {
     "name": "stderr",
     "output_type": "stream",
     "text": [
      "510it [00:22, 22.24it/s]\n"
     ]
    },
    {
     "name": "stdout",
     "output_type": "stream",
     "text": [
      "Saving results in F:\\ar353rdday\\2021_07_16...\n",
      "Saving csv poses!\n",
      "Starting to analyze %  F:\\ar353rdday\\2021_07_16\\107.avi\n",
      "F:\\ar353rdday\\2021_07_16  already exists!\n",
      "Loading  F:\\ar353rdday\\2021_07_16\\107.avi\n",
      "Duration of video [s]:  12.5 , recorded with  40.0 fps!\n",
      "Overall # of frames:  500  found with (before cropping) frame dimensions:  1440 484\n",
      "Starting to extract posture\n"
     ]
    },
    {
     "name": "stderr",
     "output_type": "stream",
     "text": [
      "510it [00:22, 23.42it/s]                                                                                               "
     ]
    },
    {
     "name": "stdout",
     "output_type": "stream",
     "text": [
      "Detected frames:  500\n"
     ]
    },
    {
     "name": "stderr",
     "output_type": "stream",
     "text": [
      "510it [00:22, 22.36it/s]\n"
     ]
    },
    {
     "name": "stdout",
     "output_type": "stream",
     "text": [
      "Saving results in F:\\ar353rdday\\2021_07_16...\n",
      "Saving csv poses!\n",
      "Starting to analyze %  F:\\ar353rdday\\2021_07_16\\108.avi\n",
      "F:\\ar353rdday\\2021_07_16  already exists!\n",
      "Loading  F:\\ar353rdday\\2021_07_16\\108.avi\n",
      "Duration of video [s]:  12.5 , recorded with  40.0 fps!\n",
      "Overall # of frames:  500  found with (before cropping) frame dimensions:  1440 484\n",
      "Starting to extract posture\n"
     ]
    },
    {
     "name": "stderr",
     "output_type": "stream",
     "text": [
      "510it [00:22, 23.52it/s]                                                                                               "
     ]
    },
    {
     "name": "stdout",
     "output_type": "stream",
     "text": [
      "Detected frames:  500\n"
     ]
    },
    {
     "name": "stderr",
     "output_type": "stream",
     "text": [
      "510it [00:22, 22.74it/s]\n"
     ]
    },
    {
     "name": "stdout",
     "output_type": "stream",
     "text": [
      "Saving results in F:\\ar353rdday\\2021_07_16...\n",
      "Saving csv poses!\n",
      "Starting to analyze %  F:\\ar353rdday\\2021_07_16\\109.avi\n",
      "F:\\ar353rdday\\2021_07_16  already exists!\n",
      "Loading  F:\\ar353rdday\\2021_07_16\\109.avi\n",
      "Duration of video [s]:  12.5 , recorded with  40.0 fps!\n",
      "Overall # of frames:  500  found with (before cropping) frame dimensions:  1440 484\n",
      "Starting to extract posture\n"
     ]
    },
    {
     "name": "stderr",
     "output_type": "stream",
     "text": [
      "510it [00:22, 23.62it/s]                                                                                               "
     ]
    },
    {
     "name": "stdout",
     "output_type": "stream",
     "text": [
      "Detected frames:  500\n"
     ]
    },
    {
     "name": "stderr",
     "output_type": "stream",
     "text": [
      "510it [00:22, 22.71it/s]\n"
     ]
    },
    {
     "name": "stdout",
     "output_type": "stream",
     "text": [
      "Saving results in F:\\ar353rdday\\2021_07_16...\n",
      "Saving csv poses!\n",
      "Starting to analyze %  F:\\ar353rdday\\2021_07_16\\11.avi\n",
      "F:\\ar353rdday\\2021_07_16  already exists!\n",
      "Loading  F:\\ar353rdday\\2021_07_16\\11.avi\n",
      "Duration of video [s]:  12.5 , recorded with  40.0 fps!\n",
      "Overall # of frames:  500  found with (before cropping) frame dimensions:  1440 484\n",
      "Starting to extract posture\n"
     ]
    },
    {
     "name": "stderr",
     "output_type": "stream",
     "text": [
      "510it [00:22, 23.53it/s]                                                                                               "
     ]
    },
    {
     "name": "stdout",
     "output_type": "stream",
     "text": [
      "Detected frames:  500\n"
     ]
    },
    {
     "name": "stderr",
     "output_type": "stream",
     "text": [
      "510it [00:22, 22.68it/s]\n"
     ]
    },
    {
     "name": "stdout",
     "output_type": "stream",
     "text": [
      "Saving results in F:\\ar353rdday\\2021_07_16...\n",
      "Saving csv poses!\n",
      "Starting to analyze %  F:\\ar353rdday\\2021_07_16\\110.avi\n",
      "F:\\ar353rdday\\2021_07_16  already exists!\n",
      "Loading  F:\\ar353rdday\\2021_07_16\\110.avi\n",
      "Duration of video [s]:  12.5 , recorded with  40.0 fps!\n",
      "Overall # of frames:  500  found with (before cropping) frame dimensions:  1440 484\n",
      "Starting to extract posture\n"
     ]
    },
    {
     "name": "stderr",
     "output_type": "stream",
     "text": [
      "510it [00:22, 23.52it/s]                                                                                               "
     ]
    },
    {
     "name": "stdout",
     "output_type": "stream",
     "text": [
      "Detected frames:  500\n"
     ]
    },
    {
     "name": "stderr",
     "output_type": "stream",
     "text": [
      "510it [00:22, 22.72it/s]\n"
     ]
    },
    {
     "name": "stdout",
     "output_type": "stream",
     "text": [
      "Saving results in F:\\ar353rdday\\2021_07_16...\n",
      "Saving csv poses!\n",
      "Starting to analyze %  F:\\ar353rdday\\2021_07_16\\111.avi\n",
      "F:\\ar353rdday\\2021_07_16  already exists!\n",
      "Loading  F:\\ar353rdday\\2021_07_16\\111.avi\n",
      "Duration of video [s]:  12.5 , recorded with  40.0 fps!\n",
      "Overall # of frames:  500  found with (before cropping) frame dimensions:  1440 484\n",
      "Starting to extract posture\n"
     ]
    },
    {
     "name": "stderr",
     "output_type": "stream",
     "text": [
      "510it [00:22, 22.37it/s]                                                                                               "
     ]
    },
    {
     "name": "stdout",
     "output_type": "stream",
     "text": [
      "Detected frames:  500\n"
     ]
    },
    {
     "name": "stderr",
     "output_type": "stream",
     "text": [
      "510it [00:22, 22.21it/s]\n"
     ]
    },
    {
     "name": "stdout",
     "output_type": "stream",
     "text": [
      "Saving results in F:\\ar353rdday\\2021_07_16...\n",
      "Saving csv poses!\n",
      "Starting to analyze %  F:\\ar353rdday\\2021_07_16\\112.avi\n",
      "F:\\ar353rdday\\2021_07_16  already exists!\n",
      "Loading  F:\\ar353rdday\\2021_07_16\\112.avi\n",
      "Duration of video [s]:  12.5 , recorded with  40.0 fps!\n",
      "Overall # of frames:  500  found with (before cropping) frame dimensions:  1440 484\n",
      "Starting to extract posture\n"
     ]
    },
    {
     "name": "stderr",
     "output_type": "stream",
     "text": [
      "510it [00:23, 22.08it/s]                                                                                               "
     ]
    },
    {
     "name": "stdout",
     "output_type": "stream",
     "text": [
      "Detected frames:  500\n"
     ]
    },
    {
     "name": "stderr",
     "output_type": "stream",
     "text": [
      "510it [00:24, 21.12it/s]\n"
     ]
    },
    {
     "name": "stdout",
     "output_type": "stream",
     "text": [
      "Saving results in F:\\ar353rdday\\2021_07_16...\n",
      "Saving csv poses!\n",
      "Starting to analyze %  F:\\ar353rdday\\2021_07_16\\113.avi\n",
      "F:\\ar353rdday\\2021_07_16  already exists!\n",
      "Loading  F:\\ar353rdday\\2021_07_16\\113.avi\n",
      "Duration of video [s]:  12.5 , recorded with  40.0 fps!\n",
      "Overall # of frames:  500  found with (before cropping) frame dimensions:  1440 484\n",
      "Starting to extract posture\n"
     ]
    },
    {
     "name": "stderr",
     "output_type": "stream",
     "text": [
      "510it [00:23, 20.86it/s]                                                                                               "
     ]
    },
    {
     "name": "stdout",
     "output_type": "stream",
     "text": [
      "Detected frames:  500\n"
     ]
    },
    {
     "name": "stderr",
     "output_type": "stream",
     "text": [
      "510it [00:23, 21.27it/s]\n"
     ]
    },
    {
     "name": "stdout",
     "output_type": "stream",
     "text": [
      "Saving results in F:\\ar353rdday\\2021_07_16...\n",
      "Saving csv poses!\n",
      "Starting to analyze %  F:\\ar353rdday\\2021_07_16\\114.avi\n",
      "F:\\ar353rdday\\2021_07_16  already exists!\n",
      "Loading  F:\\ar353rdday\\2021_07_16\\114.avi\n",
      "Duration of video [s]:  12.5 , recorded with  40.0 fps!\n",
      "Overall # of frames:  500  found with (before cropping) frame dimensions:  1440 484\n",
      "Starting to extract posture\n"
     ]
    },
    {
     "name": "stderr",
     "output_type": "stream",
     "text": [
      "510it [00:23, 22.25it/s]                                                                                               "
     ]
    },
    {
     "name": "stdout",
     "output_type": "stream",
     "text": [
      "Detected frames:  500\n"
     ]
    },
    {
     "name": "stderr",
     "output_type": "stream",
     "text": [
      "510it [00:23, 21.83it/s]\n"
     ]
    },
    {
     "name": "stdout",
     "output_type": "stream",
     "text": [
      "Saving results in F:\\ar353rdday\\2021_07_16...\n",
      "Saving csv poses!\n",
      "Starting to analyze %  F:\\ar353rdday\\2021_07_16\\115.avi\n",
      "F:\\ar353rdday\\2021_07_16  already exists!\n",
      "Loading  F:\\ar353rdday\\2021_07_16\\115.avi\n",
      "Duration of video [s]:  12.5 , recorded with  40.0 fps!\n",
      "Overall # of frames:  500  found with (before cropping) frame dimensions:  1440 484\n",
      "Starting to extract posture\n"
     ]
    },
    {
     "name": "stderr",
     "output_type": "stream",
     "text": [
      "510it [00:23, 20.52it/s]                                                                                               "
     ]
    },
    {
     "name": "stdout",
     "output_type": "stream",
     "text": [
      "Detected frames:  500\n"
     ]
    },
    {
     "name": "stderr",
     "output_type": "stream",
     "text": [
      "510it [00:24, 21.24it/s]\n"
     ]
    },
    {
     "name": "stdout",
     "output_type": "stream",
     "text": [
      "Saving results in F:\\ar353rdday\\2021_07_16...\n",
      "Saving csv poses!\n",
      "Starting to analyze %  F:\\ar353rdday\\2021_07_16\\116.avi\n",
      "F:\\ar353rdday\\2021_07_16  already exists!\n",
      "Loading  F:\\ar353rdday\\2021_07_16\\116.avi\n",
      "Duration of video [s]:  12.5 , recorded with  40.0 fps!\n",
      "Overall # of frames:  500  found with (before cropping) frame dimensions:  1440 484\n",
      "Starting to extract posture\n"
     ]
    },
    {
     "name": "stderr",
     "output_type": "stream",
     "text": [
      "510it [00:24, 22.15it/s]                                                                                               "
     ]
    },
    {
     "name": "stdout",
     "output_type": "stream",
     "text": [
      "Detected frames:  500\n"
     ]
    },
    {
     "name": "stderr",
     "output_type": "stream",
     "text": [
      "510it [00:24, 20.88it/s]\n"
     ]
    },
    {
     "name": "stdout",
     "output_type": "stream",
     "text": [
      "Saving results in F:\\ar353rdday\\2021_07_16...\n",
      "Saving csv poses!\n",
      "Starting to analyze %  F:\\ar353rdday\\2021_07_16\\117.avi\n",
      "F:\\ar353rdday\\2021_07_16  already exists!\n",
      "Loading  F:\\ar353rdday\\2021_07_16\\117.avi\n",
      "Duration of video [s]:  12.5 , recorded with  40.0 fps!\n",
      "Overall # of frames:  500  found with (before cropping) frame dimensions:  1440 484\n",
      "Starting to extract posture\n"
     ]
    },
    {
     "name": "stderr",
     "output_type": "stream",
     "text": [
      "510it [00:23, 21.95it/s]                                                                                               "
     ]
    },
    {
     "name": "stdout",
     "output_type": "stream",
     "text": [
      "Detected frames:  500\n"
     ]
    },
    {
     "name": "stderr",
     "output_type": "stream",
     "text": [
      "510it [00:23, 21.78it/s]\n"
     ]
    },
    {
     "name": "stdout",
     "output_type": "stream",
     "text": [
      "Saving results in F:\\ar353rdday\\2021_07_16...\n",
      "Saving csv poses!\n",
      "Starting to analyze %  F:\\ar353rdday\\2021_07_16\\118.avi\n",
      "F:\\ar353rdday\\2021_07_16  already exists!\n",
      "Loading  F:\\ar353rdday\\2021_07_16\\118.avi\n",
      "Duration of video [s]:  12.5 , recorded with  40.0 fps!\n",
      "Overall # of frames:  500  found with (before cropping) frame dimensions:  1440 484\n",
      "Starting to extract posture\n"
     ]
    },
    {
     "name": "stderr",
     "output_type": "stream",
     "text": [
      "510it [00:23, 22.76it/s]                                                                                               "
     ]
    },
    {
     "name": "stdout",
     "output_type": "stream",
     "text": [
      "Detected frames:  500\n"
     ]
    },
    {
     "name": "stderr",
     "output_type": "stream",
     "text": [
      "510it [00:24, 21.19it/s]\n"
     ]
    },
    {
     "name": "stdout",
     "output_type": "stream",
     "text": [
      "Saving results in F:\\ar353rdday\\2021_07_16...\n",
      "Saving csv poses!\n",
      "Starting to analyze %  F:\\ar353rdday\\2021_07_16\\119.avi\n",
      "F:\\ar353rdday\\2021_07_16  already exists!\n",
      "Loading  F:\\ar353rdday\\2021_07_16\\119.avi\n",
      "Duration of video [s]:  12.5 , recorded with  40.0 fps!\n",
      "Overall # of frames:  500  found with (before cropping) frame dimensions:  1440 484\n",
      "Starting to extract posture\n"
     ]
    },
    {
     "name": "stderr",
     "output_type": "stream",
     "text": [
      "510it [00:23, 22.33it/s]                                                                                               "
     ]
    },
    {
     "name": "stdout",
     "output_type": "stream",
     "text": [
      "Detected frames:  500\n"
     ]
    },
    {
     "name": "stderr",
     "output_type": "stream",
     "text": [
      "510it [00:23, 21.83it/s]\n"
     ]
    },
    {
     "name": "stdout",
     "output_type": "stream",
     "text": [
      "Saving results in F:\\ar353rdday\\2021_07_16...\n",
      "Saving csv poses!\n",
      "Starting to analyze %  F:\\ar353rdday\\2021_07_16\\12.avi\n",
      "F:\\ar353rdday\\2021_07_16  already exists!\n",
      "Loading  F:\\ar353rdday\\2021_07_16\\12.avi\n",
      "Duration of video [s]:  12.5 , recorded with  40.0 fps!\n",
      "Overall # of frames:  500  found with (before cropping) frame dimensions:  1440 484\n",
      "Starting to extract posture\n"
     ]
    },
    {
     "name": "stderr",
     "output_type": "stream",
     "text": [
      "510it [00:23, 22.32it/s]                                                                                               "
     ]
    },
    {
     "name": "stdout",
     "output_type": "stream",
     "text": [
      "Detected frames:  500\n"
     ]
    },
    {
     "name": "stderr",
     "output_type": "stream",
     "text": [
      "510it [00:23, 21.75it/s]\n"
     ]
    },
    {
     "name": "stdout",
     "output_type": "stream",
     "text": [
      "Saving results in F:\\ar353rdday\\2021_07_16...\n",
      "Saving csv poses!\n",
      "Starting to analyze %  F:\\ar353rdday\\2021_07_16\\120.avi\n",
      "F:\\ar353rdday\\2021_07_16  already exists!\n",
      "Loading  F:\\ar353rdday\\2021_07_16\\120.avi\n",
      "Duration of video [s]:  12.5 , recorded with  40.0 fps!\n",
      "Overall # of frames:  500  found with (before cropping) frame dimensions:  1440 484\n",
      "Starting to extract posture\n"
     ]
    },
    {
     "name": "stderr",
     "output_type": "stream",
     "text": [
      "510it [00:23, 22.23it/s]                                                                                               "
     ]
    },
    {
     "name": "stdout",
     "output_type": "stream",
     "text": [
      "Detected frames:  500\n"
     ]
    },
    {
     "name": "stderr",
     "output_type": "stream",
     "text": [
      "510it [00:23, 21.62it/s]\n"
     ]
    },
    {
     "name": "stdout",
     "output_type": "stream",
     "text": [
      "Saving results in F:\\ar353rdday\\2021_07_16...\n",
      "Saving csv poses!\n",
      "Starting to analyze %  F:\\ar353rdday\\2021_07_16\\121.avi\n",
      "F:\\ar353rdday\\2021_07_16  already exists!\n",
      "Loading  F:\\ar353rdday\\2021_07_16\\121.avi\n",
      "Duration of video [s]:  12.5 , recorded with  40.0 fps!\n",
      "Overall # of frames:  500  found with (before cropping) frame dimensions:  1440 484\n",
      "Starting to extract posture\n"
     ]
    },
    {
     "name": "stderr",
     "output_type": "stream",
     "text": [
      "510it [00:23, 22.16it/s]                                                                                               "
     ]
    },
    {
     "name": "stdout",
     "output_type": "stream",
     "text": [
      "Detected frames:  500\n"
     ]
    },
    {
     "name": "stderr",
     "output_type": "stream",
     "text": [
      "510it [00:23, 21.61it/s]\n"
     ]
    },
    {
     "name": "stdout",
     "output_type": "stream",
     "text": [
      "Saving results in F:\\ar353rdday\\2021_07_16...\n",
      "Saving csv poses!\n",
      "Starting to analyze %  F:\\ar353rdday\\2021_07_16\\122.avi\n",
      "F:\\ar353rdday\\2021_07_16  already exists!\n",
      "Loading  F:\\ar353rdday\\2021_07_16\\122.avi\n",
      "Duration of video [s]:  12.5 , recorded with  40.0 fps!\n",
      "Overall # of frames:  500  found with (before cropping) frame dimensions:  1440 484\n",
      "Starting to extract posture\n"
     ]
    },
    {
     "name": "stderr",
     "output_type": "stream",
     "text": [
      "510it [00:23, 22.11it/s]                                                                                               "
     ]
    },
    {
     "name": "stdout",
     "output_type": "stream",
     "text": [
      "Detected frames:  500\n"
     ]
    },
    {
     "name": "stderr",
     "output_type": "stream",
     "text": [
      "510it [00:23, 21.58it/s]\n"
     ]
    },
    {
     "name": "stdout",
     "output_type": "stream",
     "text": [
      "Saving results in F:\\ar353rdday\\2021_07_16...\n",
      "Saving csv poses!\n",
      "Starting to analyze %  F:\\ar353rdday\\2021_07_16\\123.avi\n",
      "F:\\ar353rdday\\2021_07_16  already exists!\n",
      "Loading  F:\\ar353rdday\\2021_07_16\\123.avi\n",
      "Duration of video [s]:  12.5 , recorded with  40.0 fps!\n",
      "Overall # of frames:  500  found with (before cropping) frame dimensions:  1440 484\n",
      "Starting to extract posture\n"
     ]
    },
    {
     "name": "stderr",
     "output_type": "stream",
     "text": [
      "510it [00:23, 22.55it/s]                                                                                               "
     ]
    },
    {
     "name": "stdout",
     "output_type": "stream",
     "text": [
      "Detected frames:  500\n"
     ]
    },
    {
     "name": "stderr",
     "output_type": "stream",
     "text": [
      "510it [00:23, 21.58it/s]\n"
     ]
    },
    {
     "name": "stdout",
     "output_type": "stream",
     "text": [
      "Saving results in F:\\ar353rdday\\2021_07_16...\n",
      "Saving csv poses!\n",
      "Starting to analyze %  F:\\ar353rdday\\2021_07_16\\124.avi\n",
      "F:\\ar353rdday\\2021_07_16  already exists!\n",
      "Loading  F:\\ar353rdday\\2021_07_16\\124.avi\n",
      "Duration of video [s]:  12.5 , recorded with  40.0 fps!\n",
      "Overall # of frames:  500  found with (before cropping) frame dimensions:  1440 484\n",
      "Starting to extract posture\n"
     ]
    },
    {
     "name": "stderr",
     "output_type": "stream",
     "text": [
      "510it [00:23, 22.93it/s]                                                                                               "
     ]
    },
    {
     "name": "stdout",
     "output_type": "stream",
     "text": [
      "Detected frames:  500\n"
     ]
    },
    {
     "name": "stderr",
     "output_type": "stream",
     "text": [
      "510it [00:23, 21.53it/s]\n"
     ]
    },
    {
     "name": "stdout",
     "output_type": "stream",
     "text": [
      "Saving results in F:\\ar353rdday\\2021_07_16...\n",
      "Saving csv poses!\n",
      "Starting to analyze %  F:\\ar353rdday\\2021_07_16\\125.avi\n",
      "F:\\ar353rdday\\2021_07_16  already exists!\n",
      "Loading  F:\\ar353rdday\\2021_07_16\\125.avi\n",
      "Duration of video [s]:  12.5 , recorded with  40.0 fps!\n",
      "Overall # of frames:  500  found with (before cropping) frame dimensions:  1440 484\n",
      "Starting to extract posture\n"
     ]
    },
    {
     "name": "stderr",
     "output_type": "stream",
     "text": [
      "510it [00:23, 22.77it/s]                                                                                               "
     ]
    },
    {
     "name": "stdout",
     "output_type": "stream",
     "text": [
      "Detected frames:  500\n"
     ]
    },
    {
     "name": "stderr",
     "output_type": "stream",
     "text": [
      "510it [00:23, 21.59it/s]\n"
     ]
    },
    {
     "name": "stdout",
     "output_type": "stream",
     "text": [
      "Saving results in F:\\ar353rdday\\2021_07_16...\n",
      "Saving csv poses!\n",
      "Starting to analyze %  F:\\ar353rdday\\2021_07_16\\126.avi\n",
      "F:\\ar353rdday\\2021_07_16  already exists!\n",
      "Loading  F:\\ar353rdday\\2021_07_16\\126.avi\n",
      "Duration of video [s]:  12.5 , recorded with  40.0 fps!\n",
      "Overall # of frames:  500  found with (before cropping) frame dimensions:  1440 484\n",
      "Starting to extract posture\n"
     ]
    },
    {
     "name": "stderr",
     "output_type": "stream",
     "text": [
      "510it [00:23, 22.34it/s]                                                                                               "
     ]
    },
    {
     "name": "stdout",
     "output_type": "stream",
     "text": [
      "Detected frames:  500\n"
     ]
    },
    {
     "name": "stderr",
     "output_type": "stream",
     "text": [
      "510it [00:23, 21.79it/s]\n"
     ]
    },
    {
     "name": "stdout",
     "output_type": "stream",
     "text": [
      "Saving results in F:\\ar353rdday\\2021_07_16...\n",
      "Saving csv poses!\n",
      "Starting to analyze %  F:\\ar353rdday\\2021_07_16\\127.avi\n",
      "F:\\ar353rdday\\2021_07_16  already exists!\n",
      "Loading  F:\\ar353rdday\\2021_07_16\\127.avi\n",
      "Duration of video [s]:  12.5 , recorded with  40.0 fps!\n",
      "Overall # of frames:  500  found with (before cropping) frame dimensions:  1440 484\n",
      "Starting to extract posture\n"
     ]
    },
    {
     "name": "stderr",
     "output_type": "stream",
     "text": [
      "510it [00:23, 22.40it/s]                                                                                               "
     ]
    },
    {
     "name": "stdout",
     "output_type": "stream",
     "text": [
      "Detected frames:  500\n"
     ]
    },
    {
     "name": "stderr",
     "output_type": "stream",
     "text": [
      "510it [00:23, 21.77it/s]\n"
     ]
    },
    {
     "name": "stdout",
     "output_type": "stream",
     "text": [
      "Saving results in F:\\ar353rdday\\2021_07_16...\n",
      "Saving csv poses!\n",
      "Starting to analyze %  F:\\ar353rdday\\2021_07_16\\128.avi\n",
      "F:\\ar353rdday\\2021_07_16  already exists!\n",
      "Loading  F:\\ar353rdday\\2021_07_16\\128.avi\n",
      "Duration of video [s]:  12.5 , recorded with  40.0 fps!\n",
      "Overall # of frames:  500  found with (before cropping) frame dimensions:  1440 484\n",
      "Starting to extract posture\n"
     ]
    },
    {
     "name": "stderr",
     "output_type": "stream",
     "text": [
      "510it [00:23, 21.93it/s]                                                                                               "
     ]
    },
    {
     "name": "stdout",
     "output_type": "stream",
     "text": [
      "Detected frames:  500\n"
     ]
    },
    {
     "name": "stderr",
     "output_type": "stream",
     "text": [
      "510it [00:23, 21.69it/s]\n"
     ]
    },
    {
     "name": "stdout",
     "output_type": "stream",
     "text": [
      "Saving results in F:\\ar353rdday\\2021_07_16...\n",
      "Saving csv poses!\n",
      "Starting to analyze %  F:\\ar353rdday\\2021_07_16\\129.avi\n",
      "F:\\ar353rdday\\2021_07_16  already exists!\n",
      "Loading  F:\\ar353rdday\\2021_07_16\\129.avi\n",
      "Duration of video [s]:  12.5 , recorded with  40.0 fps!\n",
      "Overall # of frames:  500  found with (before cropping) frame dimensions:  1440 484\n",
      "Starting to extract posture\n"
     ]
    },
    {
     "name": "stderr",
     "output_type": "stream",
     "text": [
      "510it [00:23, 22.14it/s]                                                                                               "
     ]
    },
    {
     "name": "stdout",
     "output_type": "stream",
     "text": [
      "Detected frames:  500\n"
     ]
    },
    {
     "name": "stderr",
     "output_type": "stream",
     "text": [
      "510it [00:23, 21.52it/s]\n"
     ]
    },
    {
     "name": "stdout",
     "output_type": "stream",
     "text": [
      "Saving results in F:\\ar353rdday\\2021_07_16...\n",
      "Saving csv poses!\n",
      "Starting to analyze %  F:\\ar353rdday\\2021_07_16\\13.avi\n",
      "F:\\ar353rdday\\2021_07_16  already exists!\n",
      "Loading  F:\\ar353rdday\\2021_07_16\\13.avi\n",
      "Duration of video [s]:  12.5 , recorded with  40.0 fps!\n",
      "Overall # of frames:  500  found with (before cropping) frame dimensions:  1440 484\n",
      "Starting to extract posture\n"
     ]
    },
    {
     "name": "stderr",
     "output_type": "stream",
     "text": [
      "510it [00:23, 21.89it/s]                                                                                               "
     ]
    },
    {
     "name": "stdout",
     "output_type": "stream",
     "text": [
      "Detected frames:  500\n"
     ]
    },
    {
     "name": "stderr",
     "output_type": "stream",
     "text": [
      "510it [00:23, 21.33it/s]\n"
     ]
    },
    {
     "name": "stdout",
     "output_type": "stream",
     "text": [
      "Saving results in F:\\ar353rdday\\2021_07_16...\n",
      "Saving csv poses!\n",
      "Starting to analyze %  F:\\ar353rdday\\2021_07_16\\130.avi\n",
      "F:\\ar353rdday\\2021_07_16  already exists!\n",
      "Loading  F:\\ar353rdday\\2021_07_16\\130.avi\n",
      "Duration of video [s]:  12.5 , recorded with  40.0 fps!\n",
      "Overall # of frames:  500  found with (before cropping) frame dimensions:  1440 484\n",
      "Starting to extract posture\n"
     ]
    },
    {
     "name": "stderr",
     "output_type": "stream",
     "text": [
      "510it [00:23, 21.97it/s]                                                                                               "
     ]
    },
    {
     "name": "stdout",
     "output_type": "stream",
     "text": [
      "Detected frames:  500\n"
     ]
    },
    {
     "name": "stderr",
     "output_type": "stream",
     "text": [
      "510it [00:23, 21.37it/s]\n"
     ]
    },
    {
     "name": "stdout",
     "output_type": "stream",
     "text": [
      "Saving results in F:\\ar353rdday\\2021_07_16...\n",
      "Saving csv poses!\n",
      "Starting to analyze %  F:\\ar353rdday\\2021_07_16\\131.avi\n",
      "F:\\ar353rdday\\2021_07_16  already exists!\n",
      "Loading  F:\\ar353rdday\\2021_07_16\\131.avi\n",
      "Duration of video [s]:  12.5 , recorded with  40.0 fps!\n",
      "Overall # of frames:  500  found with (before cropping) frame dimensions:  1440 484\n",
      "Starting to extract posture\n"
     ]
    },
    {
     "name": "stderr",
     "output_type": "stream",
     "text": [
      "510it [00:23, 22.30it/s]                                                                                               "
     ]
    },
    {
     "name": "stdout",
     "output_type": "stream",
     "text": [
      "Detected frames:  500\n"
     ]
    },
    {
     "name": "stderr",
     "output_type": "stream",
     "text": [
      "510it [00:23, 21.56it/s]\n"
     ]
    },
    {
     "name": "stdout",
     "output_type": "stream",
     "text": [
      "Saving results in F:\\ar353rdday\\2021_07_16...\n",
      "Saving csv poses!\n",
      "Starting to analyze %  F:\\ar353rdday\\2021_07_16\\132.avi\n",
      "F:\\ar353rdday\\2021_07_16  already exists!\n",
      "Loading  F:\\ar353rdday\\2021_07_16\\132.avi\n",
      "Duration of video [s]:  12.5 , recorded with  40.0 fps!\n",
      "Overall # of frames:  500  found with (before cropping) frame dimensions:  1440 484\n",
      "Starting to extract posture\n"
     ]
    },
    {
     "name": "stderr",
     "output_type": "stream",
     "text": [
      "510it [00:23, 22.51it/s]                                                                                               "
     ]
    },
    {
     "name": "stdout",
     "output_type": "stream",
     "text": [
      "Detected frames:  500\n"
     ]
    },
    {
     "name": "stderr",
     "output_type": "stream",
     "text": [
      "510it [00:23, 21.70it/s]\n"
     ]
    },
    {
     "name": "stdout",
     "output_type": "stream",
     "text": [
      "Saving results in F:\\ar353rdday\\2021_07_16...\n",
      "Saving csv poses!\n",
      "Starting to analyze %  F:\\ar353rdday\\2021_07_16\\133.avi\n",
      "F:\\ar353rdday\\2021_07_16  already exists!\n",
      "Loading  F:\\ar353rdday\\2021_07_16\\133.avi\n",
      "Duration of video [s]:  12.5 , recorded with  40.0 fps!\n",
      "Overall # of frames:  500  found with (before cropping) frame dimensions:  1440 484\n",
      "Starting to extract posture\n"
     ]
    },
    {
     "name": "stderr",
     "output_type": "stream",
     "text": [
      "510it [00:23, 22.22it/s]                                                                                               "
     ]
    },
    {
     "name": "stdout",
     "output_type": "stream",
     "text": [
      "Detected frames:  500\n"
     ]
    },
    {
     "name": "stderr",
     "output_type": "stream",
     "text": [
      "510it [00:23, 21.63it/s]\n"
     ]
    },
    {
     "name": "stdout",
     "output_type": "stream",
     "text": [
      "Saving results in F:\\ar353rdday\\2021_07_16...\n",
      "Saving csv poses!\n",
      "Starting to analyze %  F:\\ar353rdday\\2021_07_16\\134.avi\n",
      "F:\\ar353rdday\\2021_07_16  already exists!\n",
      "Loading  F:\\ar353rdday\\2021_07_16\\134.avi\n",
      "Duration of video [s]:  12.5 , recorded with  40.0 fps!\n",
      "Overall # of frames:  500  found with (before cropping) frame dimensions:  1440 484\n",
      "Starting to extract posture\n"
     ]
    },
    {
     "name": "stderr",
     "output_type": "stream",
     "text": [
      "510it [00:23, 22.07it/s]                                                                                               "
     ]
    },
    {
     "name": "stdout",
     "output_type": "stream",
     "text": [
      "Detected frames:  500\n"
     ]
    },
    {
     "name": "stderr",
     "output_type": "stream",
     "text": [
      "510it [00:23, 21.60it/s]\n"
     ]
    },
    {
     "name": "stdout",
     "output_type": "stream",
     "text": [
      "Saving results in F:\\ar353rdday\\2021_07_16...\n",
      "Saving csv poses!\n",
      "Starting to analyze %  F:\\ar353rdday\\2021_07_16\\135.avi\n",
      "F:\\ar353rdday\\2021_07_16  already exists!\n",
      "Loading  F:\\ar353rdday\\2021_07_16\\135.avi\n",
      "Duration of video [s]:  12.5 , recorded with  40.0 fps!\n",
      "Overall # of frames:  500  found with (before cropping) frame dimensions:  1440 484\n",
      "Starting to extract posture\n"
     ]
    },
    {
     "name": "stderr",
     "output_type": "stream",
     "text": [
      "510it [00:23, 22.14it/s]                                                                                               "
     ]
    },
    {
     "name": "stdout",
     "output_type": "stream",
     "text": [
      "Detected frames:  500\n"
     ]
    },
    {
     "name": "stderr",
     "output_type": "stream",
     "text": [
      "510it [00:23, 21.43it/s]\n"
     ]
    },
    {
     "name": "stdout",
     "output_type": "stream",
     "text": [
      "Saving results in F:\\ar353rdday\\2021_07_16...\n",
      "Saving csv poses!\n",
      "Starting to analyze %  F:\\ar353rdday\\2021_07_16\\136.avi\n",
      "F:\\ar353rdday\\2021_07_16  already exists!\n",
      "Loading  F:\\ar353rdday\\2021_07_16\\136.avi\n",
      "Duration of video [s]:  12.5 , recorded with  40.0 fps!\n",
      "Overall # of frames:  500  found with (before cropping) frame dimensions:  1440 484\n",
      "Starting to extract posture\n"
     ]
    },
    {
     "name": "stderr",
     "output_type": "stream",
     "text": [
      "510it [00:23, 22.15it/s]                                                                                               "
     ]
    },
    {
     "name": "stdout",
     "output_type": "stream",
     "text": [
      "Detected frames:  500\n"
     ]
    },
    {
     "name": "stderr",
     "output_type": "stream",
     "text": [
      "510it [00:23, 21.62it/s]\n"
     ]
    },
    {
     "name": "stdout",
     "output_type": "stream",
     "text": [
      "Saving results in F:\\ar353rdday\\2021_07_16...\n",
      "Saving csv poses!\n",
      "Starting to analyze %  F:\\ar353rdday\\2021_07_16\\137.avi\n",
      "F:\\ar353rdday\\2021_07_16  already exists!\n",
      "Loading  F:\\ar353rdday\\2021_07_16\\137.avi\n",
      "Duration of video [s]:  12.5 , recorded with  40.0 fps!\n",
      "Overall # of frames:  500  found with (before cropping) frame dimensions:  1440 484\n",
      "Starting to extract posture\n"
     ]
    },
    {
     "name": "stderr",
     "output_type": "stream",
     "text": [
      "510it [00:24, 22.24it/s]                                                                                               "
     ]
    },
    {
     "name": "stdout",
     "output_type": "stream",
     "text": [
      "Detected frames:  500\n"
     ]
    },
    {
     "name": "stderr",
     "output_type": "stream",
     "text": [
      "510it [00:24, 20.63it/s]\n"
     ]
    },
    {
     "name": "stdout",
     "output_type": "stream",
     "text": [
      "Saving results in F:\\ar353rdday\\2021_07_16...\n",
      "Saving csv poses!\n",
      "Starting to analyze %  F:\\ar353rdday\\2021_07_16\\138.avi\n",
      "F:\\ar353rdday\\2021_07_16  already exists!\n",
      "Loading  F:\\ar353rdday\\2021_07_16\\138.avi\n",
      "Duration of video [s]:  12.5 , recorded with  40.0 fps!\n",
      "Overall # of frames:  500  found with (before cropping) frame dimensions:  1440 484\n",
      "Starting to extract posture\n"
     ]
    },
    {
     "name": "stderr",
     "output_type": "stream",
     "text": [
      "510it [00:23, 22.18it/s]                                                                                               "
     ]
    },
    {
     "name": "stdout",
     "output_type": "stream",
     "text": [
      "Detected frames:  500\n"
     ]
    },
    {
     "name": "stderr",
     "output_type": "stream",
     "text": [
      "510it [00:23, 21.68it/s]\n"
     ]
    },
    {
     "name": "stdout",
     "output_type": "stream",
     "text": [
      "Saving results in F:\\ar353rdday\\2021_07_16...\n",
      "Saving csv poses!\n",
      "Starting to analyze %  F:\\ar353rdday\\2021_07_16\\139.avi\n",
      "F:\\ar353rdday\\2021_07_16  already exists!\n",
      "Loading  F:\\ar353rdday\\2021_07_16\\139.avi\n",
      "Duration of video [s]:  12.5 , recorded with  40.0 fps!\n",
      "Overall # of frames:  500  found with (before cropping) frame dimensions:  1440 484\n",
      "Starting to extract posture\n"
     ]
    },
    {
     "name": "stderr",
     "output_type": "stream",
     "text": [
      "510it [00:23, 22.03it/s]                                                                                               "
     ]
    },
    {
     "name": "stdout",
     "output_type": "stream",
     "text": [
      "Detected frames:  500\n"
     ]
    },
    {
     "name": "stderr",
     "output_type": "stream",
     "text": [
      "510it [00:23, 21.49it/s]\n"
     ]
    },
    {
     "name": "stdout",
     "output_type": "stream",
     "text": [
      "Saving results in F:\\ar353rdday\\2021_07_16...\n",
      "Saving csv poses!\n",
      "Starting to analyze %  F:\\ar353rdday\\2021_07_16\\14.avi\n",
      "F:\\ar353rdday\\2021_07_16  already exists!\n",
      "Loading  F:\\ar353rdday\\2021_07_16\\14.avi\n",
      "Duration of video [s]:  12.5 , recorded with  40.0 fps!\n",
      "Overall # of frames:  500  found with (before cropping) frame dimensions:  1440 484\n",
      "Starting to extract posture\n"
     ]
    },
    {
     "name": "stderr",
     "output_type": "stream",
     "text": [
      "510it [00:23, 22.27it/s]                                                                                               "
     ]
    },
    {
     "name": "stdout",
     "output_type": "stream",
     "text": [
      "Detected frames:  500\n"
     ]
    },
    {
     "name": "stderr",
     "output_type": "stream",
     "text": [
      "510it [00:23, 21.52it/s]\n"
     ]
    },
    {
     "name": "stdout",
     "output_type": "stream",
     "text": [
      "Saving results in F:\\ar353rdday\\2021_07_16...\n",
      "Saving csv poses!\n",
      "Starting to analyze %  F:\\ar353rdday\\2021_07_16\\140.avi\n",
      "F:\\ar353rdday\\2021_07_16  already exists!\n",
      "Loading  F:\\ar353rdday\\2021_07_16\\140.avi\n",
      "Duration of video [s]:  12.5 , recorded with  40.0 fps!\n",
      "Overall # of frames:  500  found with (before cropping) frame dimensions:  1440 484\n",
      "Starting to extract posture\n"
     ]
    },
    {
     "name": "stderr",
     "output_type": "stream",
     "text": [
      "510it [00:23, 22.03it/s]                                                                                               "
     ]
    },
    {
     "name": "stdout",
     "output_type": "stream",
     "text": [
      "Detected frames:  500\n"
     ]
    },
    {
     "name": "stderr",
     "output_type": "stream",
     "text": [
      "510it [00:23, 21.38it/s]\n"
     ]
    },
    {
     "name": "stdout",
     "output_type": "stream",
     "text": [
      "Saving results in F:\\ar353rdday\\2021_07_16...\n",
      "Saving csv poses!\n",
      "Starting to analyze %  F:\\ar353rdday\\2021_07_16\\141.avi\n",
      "F:\\ar353rdday\\2021_07_16  already exists!\n",
      "Loading  F:\\ar353rdday\\2021_07_16\\141.avi\n",
      "Duration of video [s]:  12.5 , recorded with  40.0 fps!\n",
      "Overall # of frames:  500  found with (before cropping) frame dimensions:  1440 484\n",
      "Starting to extract posture\n"
     ]
    },
    {
     "name": "stderr",
     "output_type": "stream",
     "text": [
      "510it [00:23, 22.41it/s]                                                                                               "
     ]
    },
    {
     "name": "stdout",
     "output_type": "stream",
     "text": [
      "Detected frames:  500\n"
     ]
    },
    {
     "name": "stderr",
     "output_type": "stream",
     "text": [
      "510it [00:23, 21.56it/s]\n"
     ]
    },
    {
     "name": "stdout",
     "output_type": "stream",
     "text": [
      "Saving results in F:\\ar353rdday\\2021_07_16...\n",
      "Saving csv poses!\n",
      "Starting to analyze %  F:\\ar353rdday\\2021_07_16\\142.avi\n",
      "F:\\ar353rdday\\2021_07_16  already exists!\n",
      "Loading  F:\\ar353rdday\\2021_07_16\\142.avi\n",
      "Duration of video [s]:  12.5 , recorded with  40.0 fps!\n",
      "Overall # of frames:  500  found with (before cropping) frame dimensions:  1440 484\n",
      "Starting to extract posture\n"
     ]
    },
    {
     "name": "stderr",
     "output_type": "stream",
     "text": [
      "510it [00:23, 22.54it/s]                                                                                               "
     ]
    },
    {
     "name": "stdout",
     "output_type": "stream",
     "text": [
      "Detected frames:  500\n"
     ]
    },
    {
     "name": "stderr",
     "output_type": "stream",
     "text": [
      "510it [00:23, 21.84it/s]\n"
     ]
    },
    {
     "name": "stdout",
     "output_type": "stream",
     "text": [
      "Saving results in F:\\ar353rdday\\2021_07_16...\n",
      "Saving csv poses!\n",
      "Starting to analyze %  F:\\ar353rdday\\2021_07_16\\143.avi\n",
      "F:\\ar353rdday\\2021_07_16  already exists!\n",
      "Loading  F:\\ar353rdday\\2021_07_16\\143.avi\n",
      "Duration of video [s]:  12.5 , recorded with  40.0 fps!\n",
      "Overall # of frames:  500  found with (before cropping) frame dimensions:  1440 484\n",
      "Starting to extract posture\n"
     ]
    },
    {
     "name": "stderr",
     "output_type": "stream",
     "text": [
      "510it [00:23, 21.88it/s]                                                                                               "
     ]
    },
    {
     "name": "stdout",
     "output_type": "stream",
     "text": [
      "Detected frames:  500\n"
     ]
    },
    {
     "name": "stderr",
     "output_type": "stream",
     "text": [
      "510it [00:23, 21.58it/s]\n"
     ]
    },
    {
     "name": "stdout",
     "output_type": "stream",
     "text": [
      "Saving results in F:\\ar353rdday\\2021_07_16...\n",
      "Saving csv poses!\n",
      "Starting to analyze %  F:\\ar353rdday\\2021_07_16\\144.avi\n",
      "F:\\ar353rdday\\2021_07_16  already exists!\n",
      "Loading  F:\\ar353rdday\\2021_07_16\\144.avi\n",
      "Duration of video [s]:  12.5 , recorded with  40.0 fps!\n",
      "Overall # of frames:  500  found with (before cropping) frame dimensions:  1440 484\n",
      "Starting to extract posture\n"
     ]
    },
    {
     "name": "stderr",
     "output_type": "stream",
     "text": [
      "510it [00:23, 22.19it/s]                                                                                               "
     ]
    },
    {
     "name": "stdout",
     "output_type": "stream",
     "text": [
      "Detected frames:  500\n"
     ]
    },
    {
     "name": "stderr",
     "output_type": "stream",
     "text": [
      "510it [00:23, 21.80it/s]\n"
     ]
    },
    {
     "name": "stdout",
     "output_type": "stream",
     "text": [
      "Saving results in F:\\ar353rdday\\2021_07_16...\n",
      "Saving csv poses!\n",
      "Starting to analyze %  F:\\ar353rdday\\2021_07_16\\145.avi\n",
      "F:\\ar353rdday\\2021_07_16  already exists!\n",
      "Loading  F:\\ar353rdday\\2021_07_16\\145.avi\n",
      "Duration of video [s]:  12.5 , recorded with  40.0 fps!\n",
      "Overall # of frames:  500  found with (before cropping) frame dimensions:  1440 484\n",
      "Starting to extract posture\n"
     ]
    },
    {
     "name": "stderr",
     "output_type": "stream",
     "text": [
      "510it [00:23, 22.72it/s]                                                                                               "
     ]
    },
    {
     "name": "stdout",
     "output_type": "stream",
     "text": [
      "Detected frames:  500\n"
     ]
    },
    {
     "name": "stderr",
     "output_type": "stream",
     "text": [
      "510it [00:23, 21.67it/s]\n"
     ]
    },
    {
     "name": "stdout",
     "output_type": "stream",
     "text": [
      "Saving results in F:\\ar353rdday\\2021_07_16...\n",
      "Saving csv poses!\n",
      "Starting to analyze %  F:\\ar353rdday\\2021_07_16\\146.avi\n",
      "F:\\ar353rdday\\2021_07_16  already exists!\n",
      "Loading  F:\\ar353rdday\\2021_07_16\\146.avi\n",
      "Duration of video [s]:  12.5 , recorded with  40.0 fps!\n",
      "Overall # of frames:  500  found with (before cropping) frame dimensions:  1440 484\n",
      "Starting to extract posture\n"
     ]
    },
    {
     "name": "stderr",
     "output_type": "stream",
     "text": [
      "510it [00:23, 22.04it/s]                                                                                               "
     ]
    },
    {
     "name": "stdout",
     "output_type": "stream",
     "text": [
      "Detected frames:  500\n"
     ]
    },
    {
     "name": "stderr",
     "output_type": "stream",
     "text": [
      "510it [00:23, 21.74it/s]\n"
     ]
    },
    {
     "name": "stdout",
     "output_type": "stream",
     "text": [
      "Saving results in F:\\ar353rdday\\2021_07_16...\n",
      "Saving csv poses!\n",
      "Starting to analyze %  F:\\ar353rdday\\2021_07_16\\147.avi\n",
      "F:\\ar353rdday\\2021_07_16  already exists!\n",
      "Loading  F:\\ar353rdday\\2021_07_16\\147.avi\n",
      "Duration of video [s]:  12.5 , recorded with  40.0 fps!\n",
      "Overall # of frames:  500  found with (before cropping) frame dimensions:  1440 484\n",
      "Starting to extract posture\n"
     ]
    },
    {
     "name": "stderr",
     "output_type": "stream",
     "text": [
      "510it [00:23, 21.46it/s]                                                                                               "
     ]
    },
    {
     "name": "stdout",
     "output_type": "stream",
     "text": [
      "Detected frames:  500\n"
     ]
    },
    {
     "name": "stderr",
     "output_type": "stream",
     "text": [
      "510it [00:23, 21.49it/s]\n"
     ]
    },
    {
     "name": "stdout",
     "output_type": "stream",
     "text": [
      "Saving results in F:\\ar353rdday\\2021_07_16...\n",
      "Saving csv poses!\n",
      "Starting to analyze %  F:\\ar353rdday\\2021_07_16\\148.avi\n",
      "F:\\ar353rdday\\2021_07_16  already exists!\n",
      "Loading  F:\\ar353rdday\\2021_07_16\\148.avi\n",
      "Duration of video [s]:  12.5 , recorded with  40.0 fps!\n",
      "Overall # of frames:  500  found with (before cropping) frame dimensions:  1440 484\n",
      "Starting to extract posture\n"
     ]
    },
    {
     "name": "stderr",
     "output_type": "stream",
     "text": [
      "510it [00:22, 22.70it/s]                                                                                               "
     ]
    },
    {
     "name": "stdout",
     "output_type": "stream",
     "text": [
      "Detected frames:  500\n"
     ]
    },
    {
     "name": "stderr",
     "output_type": "stream",
     "text": [
      "510it [00:23, 21.84it/s]\n"
     ]
    },
    {
     "name": "stdout",
     "output_type": "stream",
     "text": [
      "Saving results in F:\\ar353rdday\\2021_07_16...\n",
      "Saving csv poses!\n",
      "Starting to analyze %  F:\\ar353rdday\\2021_07_16\\149.avi\n",
      "F:\\ar353rdday\\2021_07_16  already exists!\n",
      "Loading  F:\\ar353rdday\\2021_07_16\\149.avi\n",
      "Duration of video [s]:  12.5 , recorded with  40.0 fps!\n",
      "Overall # of frames:  500  found with (before cropping) frame dimensions:  1440 484\n",
      "Starting to extract posture\n"
     ]
    },
    {
     "name": "stderr",
     "output_type": "stream",
     "text": [
      "510it [00:23, 22.29it/s]                                                                                               "
     ]
    },
    {
     "name": "stdout",
     "output_type": "stream",
     "text": [
      "Detected frames:  500\n"
     ]
    },
    {
     "name": "stderr",
     "output_type": "stream",
     "text": [
      "510it [00:23, 21.70it/s]\n"
     ]
    },
    {
     "name": "stdout",
     "output_type": "stream",
     "text": [
      "Saving results in F:\\ar353rdday\\2021_07_16...\n",
      "Saving csv poses!\n",
      "Starting to analyze %  F:\\ar353rdday\\2021_07_16\\15.avi\n",
      "F:\\ar353rdday\\2021_07_16  already exists!\n",
      "Loading  F:\\ar353rdday\\2021_07_16\\15.avi\n",
      "Duration of video [s]:  12.5 , recorded with  40.0 fps!\n",
      "Overall # of frames:  500  found with (before cropping) frame dimensions:  1440 484\n",
      "Starting to extract posture\n"
     ]
    },
    {
     "name": "stderr",
     "output_type": "stream",
     "text": [
      "510it [00:24, 21.01it/s]                                                                                               "
     ]
    },
    {
     "name": "stdout",
     "output_type": "stream",
     "text": [
      "Detected frames:  500\n"
     ]
    },
    {
     "name": "stderr",
     "output_type": "stream",
     "text": [
      "510it [00:24, 20.52it/s]\n"
     ]
    },
    {
     "name": "stdout",
     "output_type": "stream",
     "text": [
      "Saving results in F:\\ar353rdday\\2021_07_16...\n",
      "Saving csv poses!\n",
      "Starting to analyze %  F:\\ar353rdday\\2021_07_16\\150.avi\n",
      "F:\\ar353rdday\\2021_07_16  already exists!\n",
      "Loading  F:\\ar353rdday\\2021_07_16\\150.avi\n",
      "Duration of video [s]:  12.5 , recorded with  40.0 fps!\n",
      "Overall # of frames:  500  found with (before cropping) frame dimensions:  1440 484\n",
      "Starting to extract posture\n"
     ]
    },
    {
     "name": "stderr",
     "output_type": "stream",
     "text": [
      "510it [00:22, 22.60it/s]                                                                                               "
     ]
    },
    {
     "name": "stdout",
     "output_type": "stream",
     "text": [
      "Detected frames:  500\n"
     ]
    },
    {
     "name": "stderr",
     "output_type": "stream",
     "text": [
      "510it [00:23, 22.03it/s]\n"
     ]
    },
    {
     "name": "stdout",
     "output_type": "stream",
     "text": [
      "Saving results in F:\\ar353rdday\\2021_07_16...\n",
      "Saving csv poses!\n",
      "Starting to analyze %  F:\\ar353rdday\\2021_07_16\\151.avi\n",
      "F:\\ar353rdday\\2021_07_16  already exists!\n",
      "Loading  F:\\ar353rdday\\2021_07_16\\151.avi\n",
      "Duration of video [s]:  12.5 , recorded with  40.0 fps!\n",
      "Overall # of frames:  500  found with (before cropping) frame dimensions:  1440 484\n",
      "Starting to extract posture\n"
     ]
    },
    {
     "name": "stderr",
     "output_type": "stream",
     "text": [
      "510it [00:23, 22.40it/s]                                                                                               "
     ]
    },
    {
     "name": "stdout",
     "output_type": "stream",
     "text": [
      "Detected frames:  500\n"
     ]
    },
    {
     "name": "stderr",
     "output_type": "stream",
     "text": [
      "510it [00:23, 21.83it/s]\n"
     ]
    },
    {
     "name": "stdout",
     "output_type": "stream",
     "text": [
      "Saving results in F:\\ar353rdday\\2021_07_16...\n",
      "Saving csv poses!\n",
      "Starting to analyze %  F:\\ar353rdday\\2021_07_16\\152.avi\n",
      "F:\\ar353rdday\\2021_07_16  already exists!\n",
      "Loading  F:\\ar353rdday\\2021_07_16\\152.avi\n",
      "Duration of video [s]:  12.5 , recorded with  40.0 fps!\n",
      "Overall # of frames:  500  found with (before cropping) frame dimensions:  1440 484\n",
      "Starting to extract posture\n"
     ]
    },
    {
     "name": "stderr",
     "output_type": "stream",
     "text": [
      "510it [00:23, 22.45it/s]                                                                                               "
     ]
    },
    {
     "name": "stdout",
     "output_type": "stream",
     "text": [
      "Detected frames:  500\n"
     ]
    },
    {
     "name": "stderr",
     "output_type": "stream",
     "text": [
      "510it [00:23, 21.68it/s]\n"
     ]
    },
    {
     "name": "stdout",
     "output_type": "stream",
     "text": [
      "Saving results in F:\\ar353rdday\\2021_07_16...\n",
      "Saving csv poses!\n",
      "Starting to analyze %  F:\\ar353rdday\\2021_07_16\\153.avi\n",
      "F:\\ar353rdday\\2021_07_16  already exists!\n",
      "Loading  F:\\ar353rdday\\2021_07_16\\153.avi\n",
      "Duration of video [s]:  12.5 , recorded with  40.0 fps!\n",
      "Overall # of frames:  500  found with (before cropping) frame dimensions:  1440 484\n",
      "Starting to extract posture\n"
     ]
    },
    {
     "name": "stderr",
     "output_type": "stream",
     "text": [
      "510it [00:23, 22.42it/s]                                                                                               "
     ]
    },
    {
     "name": "stdout",
     "output_type": "stream",
     "text": [
      "Detected frames:  500\n"
     ]
    },
    {
     "name": "stderr",
     "output_type": "stream",
     "text": [
      "510it [00:23, 21.73it/s]\n"
     ]
    },
    {
     "name": "stdout",
     "output_type": "stream",
     "text": [
      "Saving results in F:\\ar353rdday\\2021_07_16...\n",
      "Saving csv poses!\n",
      "Starting to analyze %  F:\\ar353rdday\\2021_07_16\\154.avi\n",
      "F:\\ar353rdday\\2021_07_16  already exists!\n",
      "Loading  F:\\ar353rdday\\2021_07_16\\154.avi\n",
      "Duration of video [s]:  12.5 , recorded with  40.0 fps!\n",
      "Overall # of frames:  500  found with (before cropping) frame dimensions:  1440 484\n",
      "Starting to extract posture\n"
     ]
    },
    {
     "name": "stderr",
     "output_type": "stream",
     "text": [
      "510it [00:23, 22.27it/s]                                                                                               "
     ]
    },
    {
     "name": "stdout",
     "output_type": "stream",
     "text": [
      "Detected frames:  500\n"
     ]
    },
    {
     "name": "stderr",
     "output_type": "stream",
     "text": [
      "510it [00:23, 21.65it/s]\n"
     ]
    },
    {
     "name": "stdout",
     "output_type": "stream",
     "text": [
      "Saving results in F:\\ar353rdday\\2021_07_16...\n",
      "Saving csv poses!\n",
      "Starting to analyze %  F:\\ar353rdday\\2021_07_16\\155.avi\n",
      "F:\\ar353rdday\\2021_07_16  already exists!\n",
      "Loading  F:\\ar353rdday\\2021_07_16\\155.avi\n",
      "Duration of video [s]:  12.5 , recorded with  40.0 fps!\n",
      "Overall # of frames:  500  found with (before cropping) frame dimensions:  1440 484\n",
      "Starting to extract posture\n"
     ]
    },
    {
     "name": "stderr",
     "output_type": "stream",
     "text": [
      "510it [00:23, 21.93it/s]                                                                                               "
     ]
    },
    {
     "name": "stdout",
     "output_type": "stream",
     "text": [
      "Detected frames:  500\n"
     ]
    },
    {
     "name": "stderr",
     "output_type": "stream",
     "text": [
      "510it [00:23, 21.63it/s]\n"
     ]
    },
    {
     "name": "stdout",
     "output_type": "stream",
     "text": [
      "Saving results in F:\\ar353rdday\\2021_07_16...\n",
      "Saving csv poses!\n",
      "Starting to analyze %  F:\\ar353rdday\\2021_07_16\\156.avi\n",
      "F:\\ar353rdday\\2021_07_16  already exists!\n",
      "Loading  F:\\ar353rdday\\2021_07_16\\156.avi\n",
      "Duration of video [s]:  12.5 , recorded with  40.0 fps!\n",
      "Overall # of frames:  500  found with (before cropping) frame dimensions:  1440 484\n",
      "Starting to extract posture\n"
     ]
    },
    {
     "name": "stderr",
     "output_type": "stream",
     "text": [
      "510it [00:24, 22.69it/s]                                                                                               "
     ]
    },
    {
     "name": "stdout",
     "output_type": "stream",
     "text": [
      "Detected frames:  500\n"
     ]
    },
    {
     "name": "stderr",
     "output_type": "stream",
     "text": [
      "510it [00:24, 20.92it/s]\n"
     ]
    },
    {
     "name": "stdout",
     "output_type": "stream",
     "text": [
      "Saving results in F:\\ar353rdday\\2021_07_16...\n",
      "Saving csv poses!\n",
      "Starting to analyze %  F:\\ar353rdday\\2021_07_16\\157.avi\n",
      "F:\\ar353rdday\\2021_07_16  already exists!\n",
      "Loading  F:\\ar353rdday\\2021_07_16\\157.avi\n",
      "Duration of video [s]:  12.5 , recorded with  40.0 fps!\n",
      "Overall # of frames:  500  found with (before cropping) frame dimensions:  1440 484\n",
      "Starting to extract posture\n"
     ]
    },
    {
     "name": "stderr",
     "output_type": "stream",
     "text": [
      "510it [00:22, 22.37it/s]                                                                                               "
     ]
    },
    {
     "name": "stdout",
     "output_type": "stream",
     "text": [
      "Detected frames:  500\n"
     ]
    },
    {
     "name": "stderr",
     "output_type": "stream",
     "text": [
      "510it [00:23, 21.99it/s]\n"
     ]
    },
    {
     "name": "stdout",
     "output_type": "stream",
     "text": [
      "Saving results in F:\\ar353rdday\\2021_07_16...\n",
      "Saving csv poses!\n",
      "Starting to analyze %  F:\\ar353rdday\\2021_07_16\\158.avi\n",
      "F:\\ar353rdday\\2021_07_16  already exists!\n",
      "Loading  F:\\ar353rdday\\2021_07_16\\158.avi\n",
      "Duration of video [s]:  12.5 , recorded with  40.0 fps!\n",
      "Overall # of frames:  500  found with (before cropping) frame dimensions:  1440 484\n",
      "Starting to extract posture\n"
     ]
    },
    {
     "name": "stderr",
     "output_type": "stream",
     "text": [
      "510it [00:23, 22.22it/s]                                                                                               "
     ]
    },
    {
     "name": "stdout",
     "output_type": "stream",
     "text": [
      "Detected frames:  500\n"
     ]
    },
    {
     "name": "stderr",
     "output_type": "stream",
     "text": [
      "510it [00:23, 21.70it/s]\n"
     ]
    },
    {
     "name": "stdout",
     "output_type": "stream",
     "text": [
      "Saving results in F:\\ar353rdday\\2021_07_16...\n",
      "Saving csv poses!\n",
      "Starting to analyze %  F:\\ar353rdday\\2021_07_16\\159.avi\n",
      "F:\\ar353rdday\\2021_07_16  already exists!\n",
      "Loading  F:\\ar353rdday\\2021_07_16\\159.avi\n",
      "Duration of video [s]:  12.5 , recorded with  40.0 fps!\n",
      "Overall # of frames:  500  found with (before cropping) frame dimensions:  1440 484\n",
      "Starting to extract posture\n"
     ]
    },
    {
     "name": "stderr",
     "output_type": "stream",
     "text": [
      "510it [00:23, 22.43it/s]                                                                                               "
     ]
    },
    {
     "name": "stdout",
     "output_type": "stream",
     "text": [
      "Detected frames:  500\n"
     ]
    },
    {
     "name": "stderr",
     "output_type": "stream",
     "text": [
      "510it [00:23, 21.62it/s]\n"
     ]
    },
    {
     "name": "stdout",
     "output_type": "stream",
     "text": [
      "Saving results in F:\\ar353rdday\\2021_07_16...\n",
      "Saving csv poses!\n",
      "Starting to analyze %  F:\\ar353rdday\\2021_07_16\\16.avi\n",
      "F:\\ar353rdday\\2021_07_16  already exists!\n",
      "Loading  F:\\ar353rdday\\2021_07_16\\16.avi\n",
      "Duration of video [s]:  12.5 , recorded with  40.0 fps!\n",
      "Overall # of frames:  500  found with (before cropping) frame dimensions:  1440 484\n",
      "Starting to extract posture\n"
     ]
    },
    {
     "name": "stderr",
     "output_type": "stream",
     "text": [
      "510it [00:23, 22.13it/s]                                                                                               "
     ]
    },
    {
     "name": "stdout",
     "output_type": "stream",
     "text": [
      "Detected frames:  500\n"
     ]
    },
    {
     "name": "stderr",
     "output_type": "stream",
     "text": [
      "510it [00:23, 21.62it/s]\n"
     ]
    },
    {
     "name": "stdout",
     "output_type": "stream",
     "text": [
      "Saving results in F:\\ar353rdday\\2021_07_16...\n",
      "Saving csv poses!\n",
      "Starting to analyze %  F:\\ar353rdday\\2021_07_16\\160.avi\n",
      "F:\\ar353rdday\\2021_07_16  already exists!\n",
      "Loading  F:\\ar353rdday\\2021_07_16\\160.avi\n",
      "Duration of video [s]:  12.5 , recorded with  40.0 fps!\n",
      "Overall # of frames:  500  found with (before cropping) frame dimensions:  1440 484\n",
      "Starting to extract posture\n"
     ]
    },
    {
     "name": "stderr",
     "output_type": "stream",
     "text": [
      "510it [00:23, 22.34it/s]                                                                                               "
     ]
    },
    {
     "name": "stdout",
     "output_type": "stream",
     "text": [
      "Detected frames:  500\n"
     ]
    },
    {
     "name": "stderr",
     "output_type": "stream",
     "text": [
      "510it [00:23, 21.65it/s]\n"
     ]
    },
    {
     "name": "stdout",
     "output_type": "stream",
     "text": [
      "Saving results in F:\\ar353rdday\\2021_07_16...\n",
      "Saving csv poses!\n",
      "Starting to analyze %  F:\\ar353rdday\\2021_07_16\\161.avi\n",
      "F:\\ar353rdday\\2021_07_16  already exists!\n",
      "Loading  F:\\ar353rdday\\2021_07_16\\161.avi\n",
      "Duration of video [s]:  12.5 , recorded with  40.0 fps!\n",
      "Overall # of frames:  500  found with (before cropping) frame dimensions:  1440 484\n",
      "Starting to extract posture\n"
     ]
    },
    {
     "name": "stderr",
     "output_type": "stream",
     "text": [
      "510it [00:23, 22.63it/s]                                                                                               "
     ]
    },
    {
     "name": "stdout",
     "output_type": "stream",
     "text": [
      "Detected frames:  500\n"
     ]
    },
    {
     "name": "stderr",
     "output_type": "stream",
     "text": [
      "510it [00:23, 21.71it/s]\n"
     ]
    },
    {
     "name": "stdout",
     "output_type": "stream",
     "text": [
      "Saving results in F:\\ar353rdday\\2021_07_16...\n",
      "Saving csv poses!\n",
      "Starting to analyze %  F:\\ar353rdday\\2021_07_16\\162.avi\n",
      "F:\\ar353rdday\\2021_07_16  already exists!\n",
      "Loading  F:\\ar353rdday\\2021_07_16\\162.avi\n",
      "Duration of video [s]:  12.5 , recorded with  40.0 fps!\n",
      "Overall # of frames:  500  found with (before cropping) frame dimensions:  1440 484\n",
      "Starting to extract posture\n"
     ]
    },
    {
     "name": "stderr",
     "output_type": "stream",
     "text": [
      "510it [00:23, 22.44it/s]                                                                                               "
     ]
    },
    {
     "name": "stdout",
     "output_type": "stream",
     "text": [
      "Detected frames:  500\n"
     ]
    },
    {
     "name": "stderr",
     "output_type": "stream",
     "text": [
      "510it [00:23, 21.59it/s]\n"
     ]
    },
    {
     "name": "stdout",
     "output_type": "stream",
     "text": [
      "Saving results in F:\\ar353rdday\\2021_07_16...\n",
      "Saving csv poses!\n",
      "Starting to analyze %  F:\\ar353rdday\\2021_07_16\\163.avi\n",
      "F:\\ar353rdday\\2021_07_16  already exists!\n",
      "Loading  F:\\ar353rdday\\2021_07_16\\163.avi\n",
      "Duration of video [s]:  12.5 , recorded with  40.0 fps!\n",
      "Overall # of frames:  500  found with (before cropping) frame dimensions:  1440 484\n",
      "Starting to extract posture\n"
     ]
    },
    {
     "name": "stderr",
     "output_type": "stream",
     "text": [
      "510it [00:23, 22.17it/s]                                                                                               "
     ]
    },
    {
     "name": "stdout",
     "output_type": "stream",
     "text": [
      "Detected frames:  500\n"
     ]
    },
    {
     "name": "stderr",
     "output_type": "stream",
     "text": [
      "510it [00:23, 21.64it/s]\n"
     ]
    },
    {
     "name": "stdout",
     "output_type": "stream",
     "text": [
      "Saving results in F:\\ar353rdday\\2021_07_16...\n",
      "Saving csv poses!\n",
      "Starting to analyze %  F:\\ar353rdday\\2021_07_16\\164.avi\n",
      "F:\\ar353rdday\\2021_07_16  already exists!\n",
      "Loading  F:\\ar353rdday\\2021_07_16\\164.avi\n",
      "Duration of video [s]:  12.5 , recorded with  40.0 fps!\n",
      "Overall # of frames:  500  found with (before cropping) frame dimensions:  1440 484\n",
      "Starting to extract posture\n"
     ]
    },
    {
     "name": "stderr",
     "output_type": "stream",
     "text": [
      "510it [00:23, 22.29it/s]                                                                                               "
     ]
    },
    {
     "name": "stdout",
     "output_type": "stream",
     "text": [
      "Detected frames:  500\n"
     ]
    },
    {
     "name": "stderr",
     "output_type": "stream",
     "text": [
      "510it [00:23, 21.60it/s]\n"
     ]
    },
    {
     "name": "stdout",
     "output_type": "stream",
     "text": [
      "Saving results in F:\\ar353rdday\\2021_07_16...\n",
      "Saving csv poses!\n",
      "Starting to analyze %  F:\\ar353rdday\\2021_07_16\\165.avi\n",
      "F:\\ar353rdday\\2021_07_16  already exists!\n",
      "Loading  F:\\ar353rdday\\2021_07_16\\165.avi\n",
      "Duration of video [s]:  12.5 , recorded with  40.0 fps!\n",
      "Overall # of frames:  500  found with (before cropping) frame dimensions:  1440 484\n",
      "Starting to extract posture\n"
     ]
    },
    {
     "name": "stderr",
     "output_type": "stream",
     "text": [
      "510it [00:23, 22.26it/s]                                                                                               "
     ]
    },
    {
     "name": "stdout",
     "output_type": "stream",
     "text": [
      "Detected frames:  500\n"
     ]
    },
    {
     "name": "stderr",
     "output_type": "stream",
     "text": [
      "510it [00:23, 21.62it/s]\n"
     ]
    },
    {
     "name": "stdout",
     "output_type": "stream",
     "text": [
      "Saving results in F:\\ar353rdday\\2021_07_16...\n",
      "Saving csv poses!\n",
      "Starting to analyze %  F:\\ar353rdday\\2021_07_16\\166.avi\n",
      "F:\\ar353rdday\\2021_07_16  already exists!\n",
      "Loading  F:\\ar353rdday\\2021_07_16\\166.avi\n",
      "Duration of video [s]:  12.5 , recorded with  40.0 fps!\n",
      "Overall # of frames:  500  found with (before cropping) frame dimensions:  1440 484\n",
      "Starting to extract posture\n"
     ]
    },
    {
     "name": "stderr",
     "output_type": "stream",
     "text": [
      "510it [00:23, 22.33it/s]                                                                                               "
     ]
    },
    {
     "name": "stdout",
     "output_type": "stream",
     "text": [
      "Detected frames:  500\n"
     ]
    },
    {
     "name": "stderr",
     "output_type": "stream",
     "text": [
      "510it [00:23, 21.63it/s]\n"
     ]
    },
    {
     "name": "stdout",
     "output_type": "stream",
     "text": [
      "Saving results in F:\\ar353rdday\\2021_07_16...\n",
      "Saving csv poses!\n",
      "Starting to analyze %  F:\\ar353rdday\\2021_07_16\\167.avi\n",
      "F:\\ar353rdday\\2021_07_16  already exists!\n",
      "Loading  F:\\ar353rdday\\2021_07_16\\167.avi\n",
      "Duration of video [s]:  12.5 , recorded with  40.0 fps!\n",
      "Overall # of frames:  500  found with (before cropping) frame dimensions:  1440 484\n",
      "Starting to extract posture\n"
     ]
    },
    {
     "name": "stderr",
     "output_type": "stream",
     "text": [
      "510it [00:22, 22.37it/s]                                                                                               "
     ]
    },
    {
     "name": "stdout",
     "output_type": "stream",
     "text": [
      "Detected frames:  500\n"
     ]
    },
    {
     "name": "stderr",
     "output_type": "stream",
     "text": [
      "510it [00:23, 21.91it/s]\n"
     ]
    },
    {
     "name": "stdout",
     "output_type": "stream",
     "text": [
      "Saving results in F:\\ar353rdday\\2021_07_16...\n",
      "Saving csv poses!\n",
      "Starting to analyze %  F:\\ar353rdday\\2021_07_16\\168.avi\n",
      "F:\\ar353rdday\\2021_07_16  already exists!\n",
      "Loading  F:\\ar353rdday\\2021_07_16\\168.avi\n",
      "Duration of video [s]:  12.5 , recorded with  40.0 fps!\n",
      "Overall # of frames:  500  found with (before cropping) frame dimensions:  1440 484\n",
      "Starting to extract posture\n"
     ]
    },
    {
     "name": "stderr",
     "output_type": "stream",
     "text": [
      "510it [00:23, 22.48it/s]                                                                                               "
     ]
    },
    {
     "name": "stdout",
     "output_type": "stream",
     "text": [
      "Detected frames:  500\n"
     ]
    },
    {
     "name": "stderr",
     "output_type": "stream",
     "text": [
      "510it [00:23, 21.71it/s]\n"
     ]
    },
    {
     "name": "stdout",
     "output_type": "stream",
     "text": [
      "Saving results in F:\\ar353rdday\\2021_07_16...\n",
      "Saving csv poses!\n",
      "Starting to analyze %  F:\\ar353rdday\\2021_07_16\\169.avi\n",
      "F:\\ar353rdday\\2021_07_16  already exists!\n",
      "Loading  F:\\ar353rdday\\2021_07_16\\169.avi\n",
      "Duration of video [s]:  12.5 , recorded with  40.0 fps!\n",
      "Overall # of frames:  500  found with (before cropping) frame dimensions:  1440 484\n",
      "Starting to extract posture\n"
     ]
    },
    {
     "name": "stderr",
     "output_type": "stream",
     "text": [
      "510it [00:23, 22.02it/s]                                                                                               "
     ]
    },
    {
     "name": "stdout",
     "output_type": "stream",
     "text": [
      "Detected frames:  500\n"
     ]
    },
    {
     "name": "stderr",
     "output_type": "stream",
     "text": [
      "510it [00:23, 21.58it/s]\n"
     ]
    },
    {
     "name": "stdout",
     "output_type": "stream",
     "text": [
      "Saving results in F:\\ar353rdday\\2021_07_16...\n",
      "Saving csv poses!\n",
      "Starting to analyze %  F:\\ar353rdday\\2021_07_16\\17.avi\n",
      "F:\\ar353rdday\\2021_07_16  already exists!\n",
      "Loading  F:\\ar353rdday\\2021_07_16\\17.avi\n",
      "Duration of video [s]:  12.5 , recorded with  40.0 fps!\n",
      "Overall # of frames:  500  found with (before cropping) frame dimensions:  1440 484\n",
      "Starting to extract posture\n"
     ]
    },
    {
     "name": "stderr",
     "output_type": "stream",
     "text": [
      "510it [00:23, 22.43it/s]                                                                                               "
     ]
    },
    {
     "name": "stdout",
     "output_type": "stream",
     "text": [
      "Detected frames:  500\n"
     ]
    },
    {
     "name": "stderr",
     "output_type": "stream",
     "text": [
      "510it [00:23, 21.66it/s]\n"
     ]
    },
    {
     "name": "stdout",
     "output_type": "stream",
     "text": [
      "Saving results in F:\\ar353rdday\\2021_07_16...\n",
      "Saving csv poses!\n",
      "Starting to analyze %  F:\\ar353rdday\\2021_07_16\\170.avi\n",
      "F:\\ar353rdday\\2021_07_16  already exists!\n",
      "Loading  F:\\ar353rdday\\2021_07_16\\170.avi\n",
      "Duration of video [s]:  12.5 , recorded with  40.0 fps!\n",
      "Overall # of frames:  500  found with (before cropping) frame dimensions:  1440 484\n",
      "Starting to extract posture\n"
     ]
    },
    {
     "name": "stderr",
     "output_type": "stream",
     "text": [
      "510it [00:23, 22.33it/s]                                                                                               "
     ]
    },
    {
     "name": "stdout",
     "output_type": "stream",
     "text": [
      "Detected frames:  500\n"
     ]
    },
    {
     "name": "stderr",
     "output_type": "stream",
     "text": [
      "510it [00:23, 21.63it/s]\n"
     ]
    },
    {
     "name": "stdout",
     "output_type": "stream",
     "text": [
      "Saving results in F:\\ar353rdday\\2021_07_16...\n",
      "Saving csv poses!\n",
      "Starting to analyze %  F:\\ar353rdday\\2021_07_16\\171.avi\n",
      "F:\\ar353rdday\\2021_07_16  already exists!\n",
      "Loading  F:\\ar353rdday\\2021_07_16\\171.avi\n",
      "Duration of video [s]:  12.5 , recorded with  40.0 fps!\n",
      "Overall # of frames:  500  found with (before cropping) frame dimensions:  1440 484\n",
      "Starting to extract posture\n"
     ]
    },
    {
     "name": "stderr",
     "output_type": "stream",
     "text": [
      "510it [00:23, 22.40it/s]                                                                                               "
     ]
    },
    {
     "name": "stdout",
     "output_type": "stream",
     "text": [
      "Detected frames:  500\n"
     ]
    },
    {
     "name": "stderr",
     "output_type": "stream",
     "text": [
      "510it [00:23, 21.78it/s]\n"
     ]
    },
    {
     "name": "stdout",
     "output_type": "stream",
     "text": [
      "Saving results in F:\\ar353rdday\\2021_07_16...\n",
      "Saving csv poses!\n",
      "Starting to analyze %  F:\\ar353rdday\\2021_07_16\\172.avi\n",
      "F:\\ar353rdday\\2021_07_16  already exists!\n",
      "Loading  F:\\ar353rdday\\2021_07_16\\172.avi\n",
      "Duration of video [s]:  12.5 , recorded with  40.0 fps!\n",
      "Overall # of frames:  500  found with (before cropping) frame dimensions:  1440 484\n",
      "Starting to extract posture\n"
     ]
    },
    {
     "name": "stderr",
     "output_type": "stream",
     "text": [
      "510it [00:24, 20.62it/s]                                                                                               "
     ]
    },
    {
     "name": "stdout",
     "output_type": "stream",
     "text": [
      "Detected frames:  500\n"
     ]
    },
    {
     "name": "stderr",
     "output_type": "stream",
     "text": [
      "510it [00:24, 20.85it/s]\n"
     ]
    },
    {
     "name": "stdout",
     "output_type": "stream",
     "text": [
      "Saving results in F:\\ar353rdday\\2021_07_16...\n",
      "Saving csv poses!\n",
      "Starting to analyze %  F:\\ar353rdday\\2021_07_16\\173.avi\n",
      "F:\\ar353rdday\\2021_07_16  already exists!\n",
      "Loading  F:\\ar353rdday\\2021_07_16\\173.avi\n",
      "Duration of video [s]:  12.5 , recorded with  40.0 fps!\n",
      "Overall # of frames:  500  found with (before cropping) frame dimensions:  1440 484\n",
      "Starting to extract posture\n"
     ]
    },
    {
     "name": "stderr",
     "output_type": "stream",
     "text": [
      "510it [00:22, 22.67it/s]                                                                                               "
     ]
    },
    {
     "name": "stdout",
     "output_type": "stream",
     "text": [
      "Detected frames:  500\n"
     ]
    },
    {
     "name": "stderr",
     "output_type": "stream",
     "text": [
      "510it [00:23, 21.89it/s]\n"
     ]
    },
    {
     "name": "stdout",
     "output_type": "stream",
     "text": [
      "Saving results in F:\\ar353rdday\\2021_07_16...\n",
      "Saving csv poses!\n",
      "Starting to analyze %  F:\\ar353rdday\\2021_07_16\\174.avi\n",
      "F:\\ar353rdday\\2021_07_16  already exists!\n",
      "Loading  F:\\ar353rdday\\2021_07_16\\174.avi\n",
      "Duration of video [s]:  12.5 , recorded with  40.0 fps!\n",
      "Overall # of frames:  500  found with (before cropping) frame dimensions:  1440 484\n",
      "Starting to extract posture\n"
     ]
    },
    {
     "name": "stderr",
     "output_type": "stream",
     "text": [
      "510it [00:23, 22.30it/s]                                                                                               "
     ]
    },
    {
     "name": "stdout",
     "output_type": "stream",
     "text": [
      "Detected frames:  500\n"
     ]
    },
    {
     "name": "stderr",
     "output_type": "stream",
     "text": [
      "510it [00:23, 21.72it/s]\n"
     ]
    },
    {
     "name": "stdout",
     "output_type": "stream",
     "text": [
      "Saving results in F:\\ar353rdday\\2021_07_16...\n",
      "Saving csv poses!\n",
      "Starting to analyze %  F:\\ar353rdday\\2021_07_16\\175.avi\n",
      "F:\\ar353rdday\\2021_07_16  already exists!\n",
      "Loading  F:\\ar353rdday\\2021_07_16\\175.avi\n",
      "Duration of video [s]:  12.5 , recorded with  40.0 fps!\n",
      "Overall # of frames:  500  found with (before cropping) frame dimensions:  1440 484\n",
      "Starting to extract posture\n"
     ]
    },
    {
     "name": "stderr",
     "output_type": "stream",
     "text": [
      "510it [00:23, 22.37it/s]                                                                                               "
     ]
    },
    {
     "name": "stdout",
     "output_type": "stream",
     "text": [
      "Detected frames:  500\n"
     ]
    },
    {
     "name": "stderr",
     "output_type": "stream",
     "text": [
      "510it [00:23, 21.66it/s]\n"
     ]
    },
    {
     "name": "stdout",
     "output_type": "stream",
     "text": [
      "Saving results in F:\\ar353rdday\\2021_07_16...\n",
      "Saving csv poses!\n",
      "Starting to analyze %  F:\\ar353rdday\\2021_07_16\\176.avi\n",
      "F:\\ar353rdday\\2021_07_16  already exists!\n",
      "Loading  F:\\ar353rdday\\2021_07_16\\176.avi\n",
      "Duration of video [s]:  12.5 , recorded with  40.0 fps!\n",
      "Overall # of frames:  500  found with (before cropping) frame dimensions:  1440 484\n",
      "Starting to extract posture\n"
     ]
    },
    {
     "name": "stderr",
     "output_type": "stream",
     "text": [
      "510it [00:23, 22.62it/s]                                                                                               "
     ]
    },
    {
     "name": "stdout",
     "output_type": "stream",
     "text": [
      "Detected frames:  500\n"
     ]
    },
    {
     "name": "stderr",
     "output_type": "stream",
     "text": [
      "510it [00:23, 21.55it/s]\n"
     ]
    },
    {
     "name": "stdout",
     "output_type": "stream",
     "text": [
      "Saving results in F:\\ar353rdday\\2021_07_16...\n",
      "Saving csv poses!\n",
      "Starting to analyze %  F:\\ar353rdday\\2021_07_16\\177.avi\n",
      "F:\\ar353rdday\\2021_07_16  already exists!\n",
      "Loading  F:\\ar353rdday\\2021_07_16\\177.avi\n",
      "Duration of video [s]:  12.5 , recorded with  40.0 fps!\n",
      "Overall # of frames:  500  found with (before cropping) frame dimensions:  1440 484\n",
      "Starting to extract posture\n"
     ]
    },
    {
     "name": "stderr",
     "output_type": "stream",
     "text": [
      "510it [00:23, 22.39it/s]                                                                                               "
     ]
    },
    {
     "name": "stdout",
     "output_type": "stream",
     "text": [
      "Detected frames:  500\n"
     ]
    },
    {
     "name": "stderr",
     "output_type": "stream",
     "text": [
      "510it [00:23, 21.69it/s]\n"
     ]
    },
    {
     "name": "stdout",
     "output_type": "stream",
     "text": [
      "Saving results in F:\\ar353rdday\\2021_07_16...\n",
      "Saving csv poses!\n",
      "Starting to analyze %  F:\\ar353rdday\\2021_07_16\\178.avi\n",
      "F:\\ar353rdday\\2021_07_16  already exists!\n",
      "Loading  F:\\ar353rdday\\2021_07_16\\178.avi\n",
      "Duration of video [s]:  12.5 , recorded with  40.0 fps!\n",
      "Overall # of frames:  500  found with (before cropping) frame dimensions:  1440 484\n",
      "Starting to extract posture\n"
     ]
    },
    {
     "name": "stderr",
     "output_type": "stream",
     "text": [
      "510it [00:23, 22.14it/s]                                                                                               "
     ]
    },
    {
     "name": "stdout",
     "output_type": "stream",
     "text": [
      "Detected frames:  500\n"
     ]
    },
    {
     "name": "stderr",
     "output_type": "stream",
     "text": [
      "510it [00:23, 21.54it/s]\n"
     ]
    },
    {
     "name": "stdout",
     "output_type": "stream",
     "text": [
      "Saving results in F:\\ar353rdday\\2021_07_16...\n",
      "Saving csv poses!\n",
      "Starting to analyze %  F:\\ar353rdday\\2021_07_16\\179.avi\n",
      "F:\\ar353rdday\\2021_07_16  already exists!\n",
      "Loading  F:\\ar353rdday\\2021_07_16\\179.avi\n",
      "Duration of video [s]:  12.5 , recorded with  40.0 fps!\n",
      "Overall # of frames:  500  found with (before cropping) frame dimensions:  1440 484\n",
      "Starting to extract posture\n"
     ]
    },
    {
     "name": "stderr",
     "output_type": "stream",
     "text": [
      "510it [00:23, 22.74it/s]                                                                                               "
     ]
    },
    {
     "name": "stdout",
     "output_type": "stream",
     "text": [
      "Detected frames:  500\n"
     ]
    },
    {
     "name": "stderr",
     "output_type": "stream",
     "text": [
      "510it [00:23, 21.52it/s]\n"
     ]
    },
    {
     "name": "stdout",
     "output_type": "stream",
     "text": [
      "Saving results in F:\\ar353rdday\\2021_07_16...\n",
      "Saving csv poses!\n",
      "Starting to analyze %  F:\\ar353rdday\\2021_07_16\\18.avi\n",
      "F:\\ar353rdday\\2021_07_16  already exists!\n",
      "Loading  F:\\ar353rdday\\2021_07_16\\18.avi\n",
      "Duration of video [s]:  12.5 , recorded with  40.0 fps!\n",
      "Overall # of frames:  500  found with (before cropping) frame dimensions:  1440 484\n",
      "Starting to extract posture\n"
     ]
    },
    {
     "name": "stderr",
     "output_type": "stream",
     "text": [
      "510it [00:23, 22.30it/s]                                                                                               "
     ]
    },
    {
     "name": "stdout",
     "output_type": "stream",
     "text": [
      "Detected frames:  500\n"
     ]
    },
    {
     "name": "stderr",
     "output_type": "stream",
     "text": [
      "510it [00:23, 21.77it/s]\n"
     ]
    },
    {
     "name": "stdout",
     "output_type": "stream",
     "text": [
      "Saving results in F:\\ar353rdday\\2021_07_16...\n",
      "Saving csv poses!\n",
      "Starting to analyze %  F:\\ar353rdday\\2021_07_16\\180.avi\n",
      "F:\\ar353rdday\\2021_07_16  already exists!\n",
      "Loading  F:\\ar353rdday\\2021_07_16\\180.avi\n",
      "Duration of video [s]:  12.5 , recorded with  40.0 fps!\n",
      "Overall # of frames:  500  found with (before cropping) frame dimensions:  1440 484\n",
      "Starting to extract posture\n"
     ]
    },
    {
     "name": "stderr",
     "output_type": "stream",
     "text": [
      "510it [00:23, 22.17it/s]                                                                                               "
     ]
    },
    {
     "name": "stdout",
     "output_type": "stream",
     "text": [
      "Detected frames:  500\n"
     ]
    },
    {
     "name": "stderr",
     "output_type": "stream",
     "text": [
      "510it [00:23, 21.63it/s]\n"
     ]
    },
    {
     "name": "stdout",
     "output_type": "stream",
     "text": [
      "Saving results in F:\\ar353rdday\\2021_07_16...\n",
      "Saving csv poses!\n",
      "Starting to analyze %  F:\\ar353rdday\\2021_07_16\\181.avi\n",
      "F:\\ar353rdday\\2021_07_16  already exists!\n",
      "Loading  F:\\ar353rdday\\2021_07_16\\181.avi\n",
      "Duration of video [s]:  12.5 , recorded with  40.0 fps!\n",
      "Overall # of frames:  500  found with (before cropping) frame dimensions:  1440 484\n",
      "Starting to extract posture\n"
     ]
    },
    {
     "name": "stderr",
     "output_type": "stream",
     "text": [
      "510it [00:23, 22.16it/s]                                                                                               "
     ]
    },
    {
     "name": "stdout",
     "output_type": "stream",
     "text": [
      "Detected frames:  500\n"
     ]
    },
    {
     "name": "stderr",
     "output_type": "stream",
     "text": [
      "510it [00:23, 21.61it/s]\n"
     ]
    },
    {
     "name": "stdout",
     "output_type": "stream",
     "text": [
      "Saving results in F:\\ar353rdday\\2021_07_16...\n",
      "Saving csv poses!\n",
      "Starting to analyze %  F:\\ar353rdday\\2021_07_16\\182.avi\n",
      "F:\\ar353rdday\\2021_07_16  already exists!\n",
      "Loading  F:\\ar353rdday\\2021_07_16\\182.avi\n",
      "Duration of video [s]:  12.5 , recorded with  40.0 fps!\n",
      "Overall # of frames:  500  found with (before cropping) frame dimensions:  1440 484\n",
      "Starting to extract posture\n"
     ]
    },
    {
     "name": "stderr",
     "output_type": "stream",
     "text": [
      "510it [00:23, 22.39it/s]                                                                                               "
     ]
    },
    {
     "name": "stdout",
     "output_type": "stream",
     "text": [
      "Detected frames:  500\n"
     ]
    },
    {
     "name": "stderr",
     "output_type": "stream",
     "text": [
      "510it [00:23, 21.63it/s]\n"
     ]
    },
    {
     "name": "stdout",
     "output_type": "stream",
     "text": [
      "Saving results in F:\\ar353rdday\\2021_07_16...\n",
      "Saving csv poses!\n",
      "Starting to analyze %  F:\\ar353rdday\\2021_07_16\\183.avi\n",
      "F:\\ar353rdday\\2021_07_16  already exists!\n",
      "Loading  F:\\ar353rdday\\2021_07_16\\183.avi\n",
      "Duration of video [s]:  12.5 , recorded with  40.0 fps!\n",
      "Overall # of frames:  500  found with (before cropping) frame dimensions:  1440 484\n",
      "Starting to extract posture\n"
     ]
    },
    {
     "name": "stderr",
     "output_type": "stream",
     "text": [
      "510it [00:23, 22.57it/s]                                                                                               "
     ]
    },
    {
     "name": "stdout",
     "output_type": "stream",
     "text": [
      "Detected frames:  500\n"
     ]
    },
    {
     "name": "stderr",
     "output_type": "stream",
     "text": [
      "510it [00:23, 21.57it/s]\n"
     ]
    },
    {
     "name": "stdout",
     "output_type": "stream",
     "text": [
      "Saving results in F:\\ar353rdday\\2021_07_16...\n",
      "Saving csv poses!\n",
      "Starting to analyze %  F:\\ar353rdday\\2021_07_16\\184.avi\n",
      "F:\\ar353rdday\\2021_07_16  already exists!\n",
      "Loading  F:\\ar353rdday\\2021_07_16\\184.avi\n",
      "Duration of video [s]:  12.5 , recorded with  40.0 fps!\n",
      "Overall # of frames:  500  found with (before cropping) frame dimensions:  1440 484\n",
      "Starting to extract posture\n"
     ]
    },
    {
     "name": "stderr",
     "output_type": "stream",
     "text": [
      "510it [00:23, 22.58it/s]                                                                                               "
     ]
    },
    {
     "name": "stdout",
     "output_type": "stream",
     "text": [
      "Detected frames:  500\n"
     ]
    },
    {
     "name": "stderr",
     "output_type": "stream",
     "text": [
      "510it [00:23, 21.68it/s]\n"
     ]
    },
    {
     "name": "stdout",
     "output_type": "stream",
     "text": [
      "Saving results in F:\\ar353rdday\\2021_07_16...\n",
      "Saving csv poses!\n",
      "Starting to analyze %  F:\\ar353rdday\\2021_07_16\\185.avi\n",
      "F:\\ar353rdday\\2021_07_16  already exists!\n",
      "Loading  F:\\ar353rdday\\2021_07_16\\185.avi\n",
      "Duration of video [s]:  12.5 , recorded with  40.0 fps!\n",
      "Overall # of frames:  500  found with (before cropping) frame dimensions:  1440 484\n",
      "Starting to extract posture\n"
     ]
    },
    {
     "name": "stderr",
     "output_type": "stream",
     "text": [
      "510it [00:23, 22.18it/s]                                                                                               "
     ]
    },
    {
     "name": "stdout",
     "output_type": "stream",
     "text": [
      "Detected frames:  500\n"
     ]
    },
    {
     "name": "stderr",
     "output_type": "stream",
     "text": [
      "510it [00:23, 21.62it/s]\n"
     ]
    },
    {
     "name": "stdout",
     "output_type": "stream",
     "text": [
      "Saving results in F:\\ar353rdday\\2021_07_16...\n",
      "Saving csv poses!\n",
      "Starting to analyze %  F:\\ar353rdday\\2021_07_16\\186.avi\n",
      "F:\\ar353rdday\\2021_07_16  already exists!\n",
      "Loading  F:\\ar353rdday\\2021_07_16\\186.avi\n",
      "Duration of video [s]:  12.5 , recorded with  40.0 fps!\n",
      "Overall # of frames:  500  found with (before cropping) frame dimensions:  1440 484\n",
      "Starting to extract posture\n"
     ]
    },
    {
     "name": "stderr",
     "output_type": "stream",
     "text": [
      "510it [00:23, 21.51it/s]                                                                                               "
     ]
    },
    {
     "name": "stdout",
     "output_type": "stream",
     "text": [
      "Detected frames:  500\n"
     ]
    },
    {
     "name": "stderr",
     "output_type": "stream",
     "text": [
      "510it [00:23, 21.48it/s]\n"
     ]
    },
    {
     "name": "stdout",
     "output_type": "stream",
     "text": [
      "Saving results in F:\\ar353rdday\\2021_07_16...\n",
      "Saving csv poses!\n",
      "Starting to analyze %  F:\\ar353rdday\\2021_07_16\\187.avi\n",
      "F:\\ar353rdday\\2021_07_16  already exists!\n",
      "Loading  F:\\ar353rdday\\2021_07_16\\187.avi\n",
      "Duration of video [s]:  12.5 , recorded with  40.0 fps!\n",
      "Overall # of frames:  500  found with (before cropping) frame dimensions:  1440 484\n",
      "Starting to extract posture\n"
     ]
    },
    {
     "name": "stderr",
     "output_type": "stream",
     "text": [
      "510it [00:23, 22.21it/s]                                                                                               "
     ]
    },
    {
     "name": "stdout",
     "output_type": "stream",
     "text": [
      "Detected frames:  500\n"
     ]
    },
    {
     "name": "stderr",
     "output_type": "stream",
     "text": [
      "510it [00:23, 21.53it/s]\n"
     ]
    },
    {
     "name": "stdout",
     "output_type": "stream",
     "text": [
      "Saving results in F:\\ar353rdday\\2021_07_16...\n",
      "Saving csv poses!\n",
      "Starting to analyze %  F:\\ar353rdday\\2021_07_16\\188.avi\n",
      "F:\\ar353rdday\\2021_07_16  already exists!\n",
      "Loading  F:\\ar353rdday\\2021_07_16\\188.avi\n",
      "Duration of video [s]:  12.5 , recorded with  40.0 fps!\n",
      "Overall # of frames:  500  found with (before cropping) frame dimensions:  1440 484\n",
      "Starting to extract posture\n"
     ]
    },
    {
     "name": "stderr",
     "output_type": "stream",
     "text": [
      "510it [00:23, 22.27it/s]                                                                                               "
     ]
    },
    {
     "name": "stdout",
     "output_type": "stream",
     "text": [
      "Detected frames:  500\n"
     ]
    },
    {
     "name": "stderr",
     "output_type": "stream",
     "text": [
      "510it [00:23, 21.59it/s]\n"
     ]
    },
    {
     "name": "stdout",
     "output_type": "stream",
     "text": [
      "Saving results in F:\\ar353rdday\\2021_07_16...\n",
      "Saving csv poses!\n",
      "Starting to analyze %  F:\\ar353rdday\\2021_07_16\\189.avi\n",
      "F:\\ar353rdday\\2021_07_16  already exists!\n",
      "Loading  F:\\ar353rdday\\2021_07_16\\189.avi\n",
      "Duration of video [s]:  12.5 , recorded with  40.0 fps!\n",
      "Overall # of frames:  500  found with (before cropping) frame dimensions:  1440 484\n",
      "Starting to extract posture\n"
     ]
    },
    {
     "name": "stderr",
     "output_type": "stream",
     "text": [
      "510it [00:23, 22.31it/s]                                                                                               "
     ]
    },
    {
     "name": "stdout",
     "output_type": "stream",
     "text": [
      "Detected frames:  500\n"
     ]
    },
    {
     "name": "stderr",
     "output_type": "stream",
     "text": [
      "510it [00:23, 21.59it/s]\n"
     ]
    },
    {
     "name": "stdout",
     "output_type": "stream",
     "text": [
      "Saving results in F:\\ar353rdday\\2021_07_16...\n",
      "Saving csv poses!\n",
      "Starting to analyze %  F:\\ar353rdday\\2021_07_16\\19.avi\n",
      "F:\\ar353rdday\\2021_07_16  already exists!\n",
      "Loading  F:\\ar353rdday\\2021_07_16\\19.avi\n",
      "Duration of video [s]:  12.5 , recorded with  40.0 fps!\n",
      "Overall # of frames:  500  found with (before cropping) frame dimensions:  1440 484\n",
      "Starting to extract posture\n"
     ]
    },
    {
     "name": "stderr",
     "output_type": "stream",
     "text": [
      "510it [00:23, 22.19it/s]                                                                                               "
     ]
    },
    {
     "name": "stdout",
     "output_type": "stream",
     "text": [
      "Detected frames:  500\n"
     ]
    },
    {
     "name": "stderr",
     "output_type": "stream",
     "text": [
      "510it [00:23, 21.44it/s]\n"
     ]
    },
    {
     "name": "stdout",
     "output_type": "stream",
     "text": [
      "Saving results in F:\\ar353rdday\\2021_07_16...\n",
      "Saving csv poses!\n",
      "Starting to analyze %  F:\\ar353rdday\\2021_07_16\\190.avi\n",
      "F:\\ar353rdday\\2021_07_16  already exists!\n",
      "Loading  F:\\ar353rdday\\2021_07_16\\190.avi\n",
      "Duration of video [s]:  12.5 , recorded with  40.0 fps!\n",
      "Overall # of frames:  500  found with (before cropping) frame dimensions:  1440 484\n",
      "Starting to extract posture\n"
     ]
    },
    {
     "name": "stderr",
     "output_type": "stream",
     "text": [
      "510it [00:23, 22.19it/s]                                                                                               "
     ]
    },
    {
     "name": "stdout",
     "output_type": "stream",
     "text": [
      "Detected frames:  500\n"
     ]
    },
    {
     "name": "stderr",
     "output_type": "stream",
     "text": [
      "510it [00:23, 21.52it/s]\n"
     ]
    },
    {
     "name": "stdout",
     "output_type": "stream",
     "text": [
      "Saving results in F:\\ar353rdday\\2021_07_16...\n",
      "Saving csv poses!\n",
      "Starting to analyze %  F:\\ar353rdday\\2021_07_16\\191.avi\n",
      "F:\\ar353rdday\\2021_07_16  already exists!\n",
      "Loading  F:\\ar353rdday\\2021_07_16\\191.avi\n",
      "Duration of video [s]:  12.5 , recorded with  40.0 fps!\n",
      "Overall # of frames:  500  found with (before cropping) frame dimensions:  1440 484\n",
      "Starting to extract posture\n"
     ]
    },
    {
     "name": "stderr",
     "output_type": "stream",
     "text": [
      "510it [00:23, 22.18it/s]                                                                                               "
     ]
    },
    {
     "name": "stdout",
     "output_type": "stream",
     "text": [
      "Detected frames:  500\n"
     ]
    },
    {
     "name": "stderr",
     "output_type": "stream",
     "text": [
      "510it [00:23, 21.47it/s]\n"
     ]
    },
    {
     "name": "stdout",
     "output_type": "stream",
     "text": [
      "Saving results in F:\\ar353rdday\\2021_07_16...\n",
      "Saving csv poses!\n",
      "Starting to analyze %  F:\\ar353rdday\\2021_07_16\\192.avi\n",
      "F:\\ar353rdday\\2021_07_16  already exists!\n",
      "Loading  F:\\ar353rdday\\2021_07_16\\192.avi\n",
      "Duration of video [s]:  12.5 , recorded with  40.0 fps!\n",
      "Overall # of frames:  500  found with (before cropping) frame dimensions:  1440 484\n",
      "Starting to extract posture\n"
     ]
    },
    {
     "name": "stderr",
     "output_type": "stream",
     "text": [
      "510it [00:23, 22.14it/s]                                                                                               "
     ]
    },
    {
     "name": "stdout",
     "output_type": "stream",
     "text": [
      "Detected frames:  500\n"
     ]
    },
    {
     "name": "stderr",
     "output_type": "stream",
     "text": [
      "510it [00:23, 21.55it/s]\n"
     ]
    },
    {
     "name": "stdout",
     "output_type": "stream",
     "text": [
      "Saving results in F:\\ar353rdday\\2021_07_16...\n",
      "Saving csv poses!\n",
      "Starting to analyze %  F:\\ar353rdday\\2021_07_16\\193.avi\n",
      "F:\\ar353rdday\\2021_07_16  already exists!\n",
      "Loading  F:\\ar353rdday\\2021_07_16\\193.avi\n",
      "Duration of video [s]:  12.5 , recorded with  40.0 fps!\n",
      "Overall # of frames:  500  found with (before cropping) frame dimensions:  1440 484\n",
      "Starting to extract posture\n"
     ]
    },
    {
     "name": "stderr",
     "output_type": "stream",
     "text": [
      "510it [00:23, 22.57it/s]                                                                                               "
     ]
    },
    {
     "name": "stdout",
     "output_type": "stream",
     "text": [
      "Detected frames:  500\n"
     ]
    },
    {
     "name": "stderr",
     "output_type": "stream",
     "text": [
      "510it [00:23, 21.54it/s]\n"
     ]
    },
    {
     "name": "stdout",
     "output_type": "stream",
     "text": [
      "Saving results in F:\\ar353rdday\\2021_07_16...\n",
      "Saving csv poses!\n",
      "Starting to analyze %  F:\\ar353rdday\\2021_07_16\\194.avi\n",
      "F:\\ar353rdday\\2021_07_16  already exists!\n",
      "Loading  F:\\ar353rdday\\2021_07_16\\194.avi\n",
      "Duration of video [s]:  12.5 , recorded with  40.0 fps!\n",
      "Overall # of frames:  500  found with (before cropping) frame dimensions:  1440 484\n",
      "Starting to extract posture\n"
     ]
    },
    {
     "name": "stderr",
     "output_type": "stream",
     "text": [
      "510it [00:23, 22.29it/s]                                                                                               "
     ]
    },
    {
     "name": "stdout",
     "output_type": "stream",
     "text": [
      "Detected frames:  500\n"
     ]
    },
    {
     "name": "stderr",
     "output_type": "stream",
     "text": [
      "510it [00:23, 21.58it/s]\n"
     ]
    },
    {
     "name": "stdout",
     "output_type": "stream",
     "text": [
      "Saving results in F:\\ar353rdday\\2021_07_16...\n",
      "Saving csv poses!\n",
      "Starting to analyze %  F:\\ar353rdday\\2021_07_16\\195.avi\n",
      "F:\\ar353rdday\\2021_07_16  already exists!\n",
      "Loading  F:\\ar353rdday\\2021_07_16\\195.avi\n",
      "Duration of video [s]:  12.5 , recorded with  40.0 fps!\n",
      "Overall # of frames:  500  found with (before cropping) frame dimensions:  1440 484\n",
      "Starting to extract posture\n"
     ]
    },
    {
     "name": "stderr",
     "output_type": "stream",
     "text": [
      "510it [00:23, 22.22it/s]                                                                                               "
     ]
    },
    {
     "name": "stdout",
     "output_type": "stream",
     "text": [
      "Detected frames:  500\n"
     ]
    },
    {
     "name": "stderr",
     "output_type": "stream",
     "text": [
      "510it [00:23, 21.47it/s]\n"
     ]
    },
    {
     "name": "stdout",
     "output_type": "stream",
     "text": [
      "Saving results in F:\\ar353rdday\\2021_07_16...\n",
      "Saving csv poses!\n",
      "Starting to analyze %  F:\\ar353rdday\\2021_07_16\\196.avi\n",
      "F:\\ar353rdday\\2021_07_16  already exists!\n",
      "Loading  F:\\ar353rdday\\2021_07_16\\196.avi\n",
      "Duration of video [s]:  12.5 , recorded with  40.0 fps!\n",
      "Overall # of frames:  500  found with (before cropping) frame dimensions:  1440 484\n",
      "Starting to extract posture\n"
     ]
    },
    {
     "name": "stderr",
     "output_type": "stream",
     "text": [
      "510it [00:23, 22.09it/s]                                                                                               "
     ]
    },
    {
     "name": "stdout",
     "output_type": "stream",
     "text": [
      "Detected frames:  500\n"
     ]
    },
    {
     "name": "stderr",
     "output_type": "stream",
     "text": [
      "510it [00:23, 21.45it/s]\n"
     ]
    },
    {
     "name": "stdout",
     "output_type": "stream",
     "text": [
      "Saving results in F:\\ar353rdday\\2021_07_16...\n",
      "Saving csv poses!\n",
      "Starting to analyze %  F:\\ar353rdday\\2021_07_16\\197.avi\n",
      "F:\\ar353rdday\\2021_07_16  already exists!\n",
      "Loading  F:\\ar353rdday\\2021_07_16\\197.avi\n",
      "Duration of video [s]:  12.5 , recorded with  40.0 fps!\n",
      "Overall # of frames:  500  found with (before cropping) frame dimensions:  1440 484\n",
      "Starting to extract posture\n"
     ]
    },
    {
     "name": "stderr",
     "output_type": "stream",
     "text": [
      "510it [00:23, 22.49it/s]                                                                                               "
     ]
    },
    {
     "name": "stdout",
     "output_type": "stream",
     "text": [
      "Detected frames:  500\n"
     ]
    },
    {
     "name": "stderr",
     "output_type": "stream",
     "text": [
      "510it [00:23, 21.79it/s]\n"
     ]
    },
    {
     "name": "stdout",
     "output_type": "stream",
     "text": [
      "Saving results in F:\\ar353rdday\\2021_07_16...\n",
      "Saving csv poses!\n",
      "Starting to analyze %  F:\\ar353rdday\\2021_07_16\\198.avi\n",
      "F:\\ar353rdday\\2021_07_16  already exists!\n",
      "Loading  F:\\ar353rdday\\2021_07_16\\198.avi\n",
      "Duration of video [s]:  12.5 , recorded with  40.0 fps!\n",
      "Overall # of frames:  500  found with (before cropping) frame dimensions:  1440 484\n",
      "Starting to extract posture\n"
     ]
    },
    {
     "name": "stderr",
     "output_type": "stream",
     "text": [
      "510it [00:23, 22.37it/s]                                                                                               "
     ]
    },
    {
     "name": "stdout",
     "output_type": "stream",
     "text": [
      "Detected frames:  500\n"
     ]
    },
    {
     "name": "stderr",
     "output_type": "stream",
     "text": [
      "510it [00:23, 21.62it/s]\n"
     ]
    },
    {
     "name": "stdout",
     "output_type": "stream",
     "text": [
      "Saving results in F:\\ar353rdday\\2021_07_16...\n",
      "Saving csv poses!\n",
      "Starting to analyze %  F:\\ar353rdday\\2021_07_16\\199.avi\n",
      "F:\\ar353rdday\\2021_07_16  already exists!\n",
      "Loading  F:\\ar353rdday\\2021_07_16\\199.avi\n",
      "Duration of video [s]:  12.5 , recorded with  40.0 fps!\n",
      "Overall # of frames:  500  found with (before cropping) frame dimensions:  1440 484\n",
      "Starting to extract posture\n"
     ]
    },
    {
     "name": "stderr",
     "output_type": "stream",
     "text": [
      "510it [00:23, 22.45it/s]                                                                                               "
     ]
    },
    {
     "name": "stdout",
     "output_type": "stream",
     "text": [
      "Detected frames:  500\n"
     ]
    },
    {
     "name": "stderr",
     "output_type": "stream",
     "text": [
      "510it [00:23, 21.71it/s]\n"
     ]
    },
    {
     "name": "stdout",
     "output_type": "stream",
     "text": [
      "Saving results in F:\\ar353rdday\\2021_07_16...\n",
      "Saving csv poses!\n",
      "Starting to analyze %  F:\\ar353rdday\\2021_07_16\\2.avi\n",
      "F:\\ar353rdday\\2021_07_16  already exists!\n",
      "Loading  F:\\ar353rdday\\2021_07_16\\2.avi\n",
      "Duration of video [s]:  12.5 , recorded with  40.0 fps!\n",
      "Overall # of frames:  500  found with (before cropping) frame dimensions:  1440 484\n",
      "Starting to extract posture\n"
     ]
    },
    {
     "name": "stderr",
     "output_type": "stream",
     "text": [
      "510it [00:23, 22.21it/s]                                                                                               "
     ]
    },
    {
     "name": "stdout",
     "output_type": "stream",
     "text": [
      "Detected frames:  500\n"
     ]
    },
    {
     "name": "stderr",
     "output_type": "stream",
     "text": [
      "510it [00:23, 21.63it/s]\n"
     ]
    },
    {
     "name": "stdout",
     "output_type": "stream",
     "text": [
      "Saving results in F:\\ar353rdday\\2021_07_16...\n",
      "Saving csv poses!\n",
      "Starting to analyze %  F:\\ar353rdday\\2021_07_16\\20.avi\n",
      "F:\\ar353rdday\\2021_07_16  already exists!\n",
      "Loading  F:\\ar353rdday\\2021_07_16\\20.avi\n",
      "Duration of video [s]:  12.5 , recorded with  40.0 fps!\n",
      "Overall # of frames:  500  found with (before cropping) frame dimensions:  1440 484\n",
      "Starting to extract posture\n"
     ]
    },
    {
     "name": "stderr",
     "output_type": "stream",
     "text": [
      "510it [00:23, 22.14it/s]                                                                                               "
     ]
    },
    {
     "name": "stdout",
     "output_type": "stream",
     "text": [
      "Detected frames:  500\n"
     ]
    },
    {
     "name": "stderr",
     "output_type": "stream",
     "text": [
      "510it [00:23, 21.62it/s]\n"
     ]
    },
    {
     "name": "stdout",
     "output_type": "stream",
     "text": [
      "Saving results in F:\\ar353rdday\\2021_07_16...\n",
      "Saving csv poses!\n",
      "Starting to analyze %  F:\\ar353rdday\\2021_07_16\\200.avi\n",
      "F:\\ar353rdday\\2021_07_16  already exists!\n",
      "Loading  F:\\ar353rdday\\2021_07_16\\200.avi\n",
      "Duration of video [s]:  12.5 , recorded with  40.0 fps!\n",
      "Overall # of frames:  500  found with (before cropping) frame dimensions:  1440 484\n",
      "Starting to extract posture\n"
     ]
    },
    {
     "name": "stderr",
     "output_type": "stream",
     "text": [
      "510it [00:23, 22.44it/s]                                                                                               "
     ]
    },
    {
     "name": "stdout",
     "output_type": "stream",
     "text": [
      "Detected frames:  500\n"
     ]
    },
    {
     "name": "stderr",
     "output_type": "stream",
     "text": [
      "510it [00:23, 21.56it/s]\n"
     ]
    },
    {
     "name": "stdout",
     "output_type": "stream",
     "text": [
      "Saving results in F:\\ar353rdday\\2021_07_16...\n",
      "Saving csv poses!\n",
      "Starting to analyze %  F:\\ar353rdday\\2021_07_16\\201.avi\n",
      "F:\\ar353rdday\\2021_07_16  already exists!\n",
      "Loading  F:\\ar353rdday\\2021_07_16\\201.avi\n",
      "Duration of video [s]:  12.5 , recorded with  40.0 fps!\n",
      "Overall # of frames:  500  found with (before cropping) frame dimensions:  1440 484\n",
      "Starting to extract posture\n"
     ]
    },
    {
     "name": "stderr",
     "output_type": "stream",
     "text": [
      "510it [00:23, 22.31it/s]                                                                                               "
     ]
    },
    {
     "name": "stdout",
     "output_type": "stream",
     "text": [
      "Detected frames:  500\n"
     ]
    },
    {
     "name": "stderr",
     "output_type": "stream",
     "text": [
      "510it [00:23, 21.69it/s]\n"
     ]
    },
    {
     "name": "stdout",
     "output_type": "stream",
     "text": [
      "Saving results in F:\\ar353rdday\\2021_07_16...\n",
      "Saving csv poses!\n",
      "Starting to analyze %  F:\\ar353rdday\\2021_07_16\\202.avi\n",
      "F:\\ar353rdday\\2021_07_16  already exists!\n",
      "Loading  F:\\ar353rdday\\2021_07_16\\202.avi\n",
      "Duration of video [s]:  12.5 , recorded with  40.0 fps!\n",
      "Overall # of frames:  500  found with (before cropping) frame dimensions:  1440 484\n",
      "Starting to extract posture\n"
     ]
    },
    {
     "name": "stderr",
     "output_type": "stream",
     "text": [
      "510it [00:23, 22.46it/s]                                                                                               "
     ]
    },
    {
     "name": "stdout",
     "output_type": "stream",
     "text": [
      "Detected frames:  500\n"
     ]
    },
    {
     "name": "stderr",
     "output_type": "stream",
     "text": [
      "510it [00:23, 21.73it/s]\n"
     ]
    },
    {
     "name": "stdout",
     "output_type": "stream",
     "text": [
      "Saving results in F:\\ar353rdday\\2021_07_16...\n",
      "Saving csv poses!\n",
      "Starting to analyze %  F:\\ar353rdday\\2021_07_16\\203.avi\n",
      "F:\\ar353rdday\\2021_07_16  already exists!\n",
      "Loading  F:\\ar353rdday\\2021_07_16\\203.avi\n",
      "Duration of video [s]:  12.5 , recorded with  40.0 fps!\n",
      "Overall # of frames:  500  found with (before cropping) frame dimensions:  1440 484\n",
      "Starting to extract posture\n"
     ]
    },
    {
     "name": "stderr",
     "output_type": "stream",
     "text": [
      "510it [00:23, 22.11it/s]                                                                                               "
     ]
    },
    {
     "name": "stdout",
     "output_type": "stream",
     "text": [
      "Detected frames:  500\n"
     ]
    },
    {
     "name": "stderr",
     "output_type": "stream",
     "text": [
      "510it [00:23, 21.52it/s]\n"
     ]
    },
    {
     "name": "stdout",
     "output_type": "stream",
     "text": [
      "Saving results in F:\\ar353rdday\\2021_07_16...\n",
      "Saving csv poses!\n",
      "Starting to analyze %  F:\\ar353rdday\\2021_07_16\\204.avi\n",
      "F:\\ar353rdday\\2021_07_16  already exists!\n",
      "Loading  F:\\ar353rdday\\2021_07_16\\204.avi\n",
      "Duration of video [s]:  12.5 , recorded with  40.0 fps!\n",
      "Overall # of frames:  500  found with (before cropping) frame dimensions:  1440 484\n",
      "Starting to extract posture\n"
     ]
    },
    {
     "name": "stderr",
     "output_type": "stream",
     "text": [
      "510it [00:23, 22.17it/s]                                                                                               "
     ]
    },
    {
     "name": "stdout",
     "output_type": "stream",
     "text": [
      "Detected frames:  500\n"
     ]
    },
    {
     "name": "stderr",
     "output_type": "stream",
     "text": [
      "510it [00:23, 21.59it/s]\n"
     ]
    },
    {
     "name": "stdout",
     "output_type": "stream",
     "text": [
      "Saving results in F:\\ar353rdday\\2021_07_16...\n",
      "Saving csv poses!\n",
      "Starting to analyze %  F:\\ar353rdday\\2021_07_16\\205.avi\n",
      "F:\\ar353rdday\\2021_07_16  already exists!\n",
      "Loading  F:\\ar353rdday\\2021_07_16\\205.avi\n",
      "Duration of video [s]:  12.5 , recorded with  40.0 fps!\n",
      "Overall # of frames:  500  found with (before cropping) frame dimensions:  1440 484\n",
      "Starting to extract posture\n"
     ]
    },
    {
     "name": "stderr",
     "output_type": "stream",
     "text": [
      "510it [00:23, 22.08it/s]                                                                                               "
     ]
    },
    {
     "name": "stdout",
     "output_type": "stream",
     "text": [
      "Detected frames:  500\n"
     ]
    },
    {
     "name": "stderr",
     "output_type": "stream",
     "text": [
      "510it [00:23, 21.60it/s]\n"
     ]
    },
    {
     "name": "stdout",
     "output_type": "stream",
     "text": [
      "Saving results in F:\\ar353rdday\\2021_07_16...\n",
      "Saving csv poses!\n",
      "Starting to analyze %  F:\\ar353rdday\\2021_07_16\\206.avi\n",
      "F:\\ar353rdday\\2021_07_16  already exists!\n",
      "Loading  F:\\ar353rdday\\2021_07_16\\206.avi\n",
      "Duration of video [s]:  12.5 , recorded with  40.0 fps!\n",
      "Overall # of frames:  500  found with (before cropping) frame dimensions:  1440 484\n",
      "Starting to extract posture\n"
     ]
    },
    {
     "name": "stderr",
     "output_type": "stream",
     "text": [
      "510it [00:23, 22.51it/s]                                                                                               "
     ]
    },
    {
     "name": "stdout",
     "output_type": "stream",
     "text": [
      "Detected frames:  500\n"
     ]
    },
    {
     "name": "stderr",
     "output_type": "stream",
     "text": [
      "510it [00:23, 21.59it/s]\n"
     ]
    },
    {
     "name": "stdout",
     "output_type": "stream",
     "text": [
      "Saving results in F:\\ar353rdday\\2021_07_16...\n",
      "Saving csv poses!\n",
      "Starting to analyze %  F:\\ar353rdday\\2021_07_16\\207.avi\n",
      "F:\\ar353rdday\\2021_07_16  already exists!\n",
      "Loading  F:\\ar353rdday\\2021_07_16\\207.avi\n",
      "Duration of video [s]:  12.5 , recorded with  40.0 fps!\n",
      "Overall # of frames:  500  found with (before cropping) frame dimensions:  1440 484\n",
      "Starting to extract posture\n"
     ]
    },
    {
     "name": "stderr",
     "output_type": "stream",
     "text": [
      "510it [00:23, 22.14it/s]                                                                                               "
     ]
    },
    {
     "name": "stdout",
     "output_type": "stream",
     "text": [
      "Detected frames:  500\n"
     ]
    },
    {
     "name": "stderr",
     "output_type": "stream",
     "text": [
      "510it [00:23, 21.63it/s]\n"
     ]
    },
    {
     "name": "stdout",
     "output_type": "stream",
     "text": [
      "Saving results in F:\\ar353rdday\\2021_07_16...\n",
      "Saving csv poses!\n",
      "Starting to analyze %  F:\\ar353rdday\\2021_07_16\\208.avi\n",
      "F:\\ar353rdday\\2021_07_16  already exists!\n",
      "Loading  F:\\ar353rdday\\2021_07_16\\208.avi\n",
      "Duration of video [s]:  12.5 , recorded with  40.0 fps!\n",
      "Overall # of frames:  500  found with (before cropping) frame dimensions:  1440 484\n",
      "Starting to extract posture\n"
     ]
    },
    {
     "name": "stderr",
     "output_type": "stream",
     "text": [
      "510it [00:23, 22.02it/s]                                                                                               "
     ]
    },
    {
     "name": "stdout",
     "output_type": "stream",
     "text": [
      "Detected frames:  500\n"
     ]
    },
    {
     "name": "stderr",
     "output_type": "stream",
     "text": [
      "510it [00:23, 21.51it/s]\n"
     ]
    },
    {
     "name": "stdout",
     "output_type": "stream",
     "text": [
      "Saving results in F:\\ar353rdday\\2021_07_16...\n",
      "Saving csv poses!\n",
      "Starting to analyze %  F:\\ar353rdday\\2021_07_16\\209.avi\n",
      "F:\\ar353rdday\\2021_07_16  already exists!\n",
      "Loading  F:\\ar353rdday\\2021_07_16\\209.avi\n",
      "Duration of video [s]:  12.5 , recorded with  40.0 fps!\n",
      "Overall # of frames:  500  found with (before cropping) frame dimensions:  1440 484\n",
      "Starting to extract posture\n"
     ]
    },
    {
     "name": "stderr",
     "output_type": "stream",
     "text": [
      "510it [00:23, 22.42it/s]                                                                                               "
     ]
    },
    {
     "name": "stdout",
     "output_type": "stream",
     "text": [
      "Detected frames:  500\n"
     ]
    },
    {
     "name": "stderr",
     "output_type": "stream",
     "text": [
      "510it [00:23, 21.52it/s]\n"
     ]
    },
    {
     "name": "stdout",
     "output_type": "stream",
     "text": [
      "Saving results in F:\\ar353rdday\\2021_07_16...\n",
      "Saving csv poses!\n",
      "Starting to analyze %  F:\\ar353rdday\\2021_07_16\\21.avi\n",
      "F:\\ar353rdday\\2021_07_16  already exists!\n",
      "Loading  F:\\ar353rdday\\2021_07_16\\21.avi\n",
      "Duration of video [s]:  12.5 , recorded with  40.0 fps!\n",
      "Overall # of frames:  500  found with (before cropping) frame dimensions:  1440 484\n",
      "Starting to extract posture\n"
     ]
    },
    {
     "name": "stderr",
     "output_type": "stream",
     "text": [
      "510it [00:23, 22.59it/s]                                                                                               "
     ]
    },
    {
     "name": "stdout",
     "output_type": "stream",
     "text": [
      "Detected frames:  500\n"
     ]
    },
    {
     "name": "stderr",
     "output_type": "stream",
     "text": [
      "510it [00:23, 21.84it/s]\n"
     ]
    },
    {
     "name": "stdout",
     "output_type": "stream",
     "text": [
      "Saving results in F:\\ar353rdday\\2021_07_16...\n",
      "Saving csv poses!\n",
      "Starting to analyze %  F:\\ar353rdday\\2021_07_16\\210.avi\n",
      "F:\\ar353rdday\\2021_07_16  already exists!\n",
      "Loading  F:\\ar353rdday\\2021_07_16\\210.avi\n",
      "Duration of video [s]:  12.5 , recorded with  40.0 fps!\n",
      "Overall # of frames:  500  found with (before cropping) frame dimensions:  1440 484\n",
      "Starting to extract posture\n"
     ]
    },
    {
     "name": "stderr",
     "output_type": "stream",
     "text": [
      "510it [00:23, 22.12it/s]                                                                                               "
     ]
    },
    {
     "name": "stdout",
     "output_type": "stream",
     "text": [
      "Detected frames:  500\n"
     ]
    },
    {
     "name": "stderr",
     "output_type": "stream",
     "text": [
      "510it [00:23, 21.63it/s]\n"
     ]
    },
    {
     "name": "stdout",
     "output_type": "stream",
     "text": [
      "Saving results in F:\\ar353rdday\\2021_07_16...\n",
      "Saving csv poses!\n",
      "Starting to analyze %  F:\\ar353rdday\\2021_07_16\\211.avi\n",
      "F:\\ar353rdday\\2021_07_16  already exists!\n",
      "Loading  F:\\ar353rdday\\2021_07_16\\211.avi\n",
      "Duration of video [s]:  12.5 , recorded with  40.0 fps!\n",
      "Overall # of frames:  500  found with (before cropping) frame dimensions:  1440 484\n",
      "Starting to extract posture\n"
     ]
    },
    {
     "name": "stderr",
     "output_type": "stream",
     "text": [
      "510it [00:23, 21.85it/s]                                                                                               "
     ]
    },
    {
     "name": "stdout",
     "output_type": "stream",
     "text": [
      "Detected frames:  500\n"
     ]
    },
    {
     "name": "stderr",
     "output_type": "stream",
     "text": [
      "510it [00:23, 21.61it/s]\n"
     ]
    },
    {
     "name": "stdout",
     "output_type": "stream",
     "text": [
      "Saving results in F:\\ar353rdday\\2021_07_16...\n",
      "Saving csv poses!\n",
      "Starting to analyze %  F:\\ar353rdday\\2021_07_16\\212.avi\n",
      "F:\\ar353rdday\\2021_07_16  already exists!\n",
      "Loading  F:\\ar353rdday\\2021_07_16\\212.avi\n",
      "Duration of video [s]:  12.5 , recorded with  40.0 fps!\n",
      "Overall # of frames:  500  found with (before cropping) frame dimensions:  1440 484\n",
      "Starting to extract posture\n"
     ]
    },
    {
     "name": "stderr",
     "output_type": "stream",
     "text": [
      "510it [00:23, 22.67it/s]                                                                                               "
     ]
    },
    {
     "name": "stdout",
     "output_type": "stream",
     "text": [
      "Detected frames:  500\n"
     ]
    },
    {
     "name": "stderr",
     "output_type": "stream",
     "text": [
      "510it [00:23, 21.81it/s]\n"
     ]
    },
    {
     "name": "stdout",
     "output_type": "stream",
     "text": [
      "Saving results in F:\\ar353rdday\\2021_07_16...\n",
      "Saving csv poses!\n",
      "Starting to analyze %  F:\\ar353rdday\\2021_07_16\\213.avi\n",
      "F:\\ar353rdday\\2021_07_16  already exists!\n",
      "Loading  F:\\ar353rdday\\2021_07_16\\213.avi\n",
      "Duration of video [s]:  12.5 , recorded with  40.0 fps!\n",
      "Overall # of frames:  500  found with (before cropping) frame dimensions:  1440 484\n",
      "Starting to extract posture\n"
     ]
    },
    {
     "name": "stderr",
     "output_type": "stream",
     "text": [
      "510it [00:23, 22.62it/s]                                                                                               "
     ]
    },
    {
     "name": "stdout",
     "output_type": "stream",
     "text": [
      "Detected frames:  500\n"
     ]
    },
    {
     "name": "stderr",
     "output_type": "stream",
     "text": [
      "510it [00:23, 21.82it/s]\n"
     ]
    },
    {
     "name": "stdout",
     "output_type": "stream",
     "text": [
      "Saving results in F:\\ar353rdday\\2021_07_16...\n",
      "Saving csv poses!\n",
      "Starting to analyze %  F:\\ar353rdday\\2021_07_16\\214.avi\n",
      "F:\\ar353rdday\\2021_07_16  already exists!\n",
      "Loading  F:\\ar353rdday\\2021_07_16\\214.avi\n",
      "Duration of video [s]:  12.5 , recorded with  40.0 fps!\n",
      "Overall # of frames:  500  found with (before cropping) frame dimensions:  1440 484\n",
      "Starting to extract posture\n"
     ]
    },
    {
     "name": "stderr",
     "output_type": "stream",
     "text": [
      "510it [00:23, 22.37it/s]                                                                                               "
     ]
    },
    {
     "name": "stdout",
     "output_type": "stream",
     "text": [
      "Detected frames:  500\n"
     ]
    },
    {
     "name": "stderr",
     "output_type": "stream",
     "text": [
      "510it [00:23, 21.78it/s]\n"
     ]
    },
    {
     "name": "stdout",
     "output_type": "stream",
     "text": [
      "Saving results in F:\\ar353rdday\\2021_07_16...\n",
      "Saving csv poses!\n",
      "Starting to analyze %  F:\\ar353rdday\\2021_07_16\\215.avi\n",
      "F:\\ar353rdday\\2021_07_16  already exists!\n",
      "Loading  F:\\ar353rdday\\2021_07_16\\215.avi\n",
      "Duration of video [s]:  12.5 , recorded with  40.0 fps!\n",
      "Overall # of frames:  500  found with (before cropping) frame dimensions:  1440 484\n",
      "Starting to extract posture\n"
     ]
    },
    {
     "name": "stderr",
     "output_type": "stream",
     "text": [
      "510it [00:23, 22.37it/s]                                                                                               "
     ]
    },
    {
     "name": "stdout",
     "output_type": "stream",
     "text": [
      "Detected frames:  500\n"
     ]
    },
    {
     "name": "stderr",
     "output_type": "stream",
     "text": [
      "510it [00:23, 21.67it/s]\n"
     ]
    },
    {
     "name": "stdout",
     "output_type": "stream",
     "text": [
      "Saving results in F:\\ar353rdday\\2021_07_16...\n",
      "Saving csv poses!\n",
      "Starting to analyze %  F:\\ar353rdday\\2021_07_16\\216.avi\n",
      "F:\\ar353rdday\\2021_07_16  already exists!\n",
      "Loading  F:\\ar353rdday\\2021_07_16\\216.avi\n",
      "Duration of video [s]:  12.5 , recorded with  40.0 fps!\n",
      "Overall # of frames:  500  found with (before cropping) frame dimensions:  1440 484\n",
      "Starting to extract posture\n"
     ]
    },
    {
     "name": "stderr",
     "output_type": "stream",
     "text": [
      "510it [00:23, 22.05it/s]                                                                                               "
     ]
    },
    {
     "name": "stdout",
     "output_type": "stream",
     "text": [
      "Detected frames:  500\n"
     ]
    },
    {
     "name": "stderr",
     "output_type": "stream",
     "text": [
      "510it [00:23, 21.54it/s]\n"
     ]
    },
    {
     "name": "stdout",
     "output_type": "stream",
     "text": [
      "Saving results in F:\\ar353rdday\\2021_07_16...\n",
      "Saving csv poses!\n",
      "Starting to analyze %  F:\\ar353rdday\\2021_07_16\\217.avi\n",
      "F:\\ar353rdday\\2021_07_16  already exists!\n",
      "Loading  F:\\ar353rdday\\2021_07_16\\217.avi\n",
      "Duration of video [s]:  12.5 , recorded with  40.0 fps!\n",
      "Overall # of frames:  500  found with (before cropping) frame dimensions:  1440 484\n",
      "Starting to extract posture\n"
     ]
    },
    {
     "name": "stderr",
     "output_type": "stream",
     "text": [
      "510it [00:23, 22.21it/s]                                                                                               "
     ]
    },
    {
     "name": "stdout",
     "output_type": "stream",
     "text": [
      "Detected frames:  500\n"
     ]
    },
    {
     "name": "stderr",
     "output_type": "stream",
     "text": [
      "510it [00:23, 21.57it/s]\n"
     ]
    },
    {
     "name": "stdout",
     "output_type": "stream",
     "text": [
      "Saving results in F:\\ar353rdday\\2021_07_16...\n",
      "Saving csv poses!\n",
      "Starting to analyze %  F:\\ar353rdday\\2021_07_16\\218.avi\n",
      "F:\\ar353rdday\\2021_07_16  already exists!\n",
      "Loading  F:\\ar353rdday\\2021_07_16\\218.avi\n",
      "Duration of video [s]:  12.5 , recorded with  40.0 fps!\n",
      "Overall # of frames:  500  found with (before cropping) frame dimensions:  1440 484\n",
      "Starting to extract posture\n"
     ]
    },
    {
     "name": "stderr",
     "output_type": "stream",
     "text": [
      "510it [00:23, 22.18it/s]                                                                                               "
     ]
    },
    {
     "name": "stdout",
     "output_type": "stream",
     "text": [
      "Detected frames:  500\n"
     ]
    },
    {
     "name": "stderr",
     "output_type": "stream",
     "text": [
      "510it [00:23, 21.51it/s]\n"
     ]
    },
    {
     "name": "stdout",
     "output_type": "stream",
     "text": [
      "Saving results in F:\\ar353rdday\\2021_07_16...\n",
      "Saving csv poses!\n",
      "Starting to analyze %  F:\\ar353rdday\\2021_07_16\\219.avi\n",
      "F:\\ar353rdday\\2021_07_16  already exists!\n",
      "Loading  F:\\ar353rdday\\2021_07_16\\219.avi\n",
      "Duration of video [s]:  12.5 , recorded with  40.0 fps!\n",
      "Overall # of frames:  500  found with (before cropping) frame dimensions:  1440 484\n",
      "Starting to extract posture\n"
     ]
    },
    {
     "name": "stderr",
     "output_type": "stream",
     "text": [
      "510it [00:23, 22.42it/s]                                                                                               "
     ]
    },
    {
     "name": "stdout",
     "output_type": "stream",
     "text": [
      "Detected frames:  500\n"
     ]
    },
    {
     "name": "stderr",
     "output_type": "stream",
     "text": [
      "510it [00:23, 21.54it/s]\n"
     ]
    },
    {
     "name": "stdout",
     "output_type": "stream",
     "text": [
      "Saving results in F:\\ar353rdday\\2021_07_16...\n",
      "Saving csv poses!\n",
      "Starting to analyze %  F:\\ar353rdday\\2021_07_16\\22.avi\n",
      "F:\\ar353rdday\\2021_07_16  already exists!\n",
      "Loading  F:\\ar353rdday\\2021_07_16\\22.avi\n",
      "Duration of video [s]:  12.5 , recorded with  40.0 fps!\n",
      "Overall # of frames:  500  found with (before cropping) frame dimensions:  1440 484\n",
      "Starting to extract posture\n"
     ]
    },
    {
     "name": "stderr",
     "output_type": "stream",
     "text": [
      "510it [00:23, 22.79it/s]                                                                                               "
     ]
    },
    {
     "name": "stdout",
     "output_type": "stream",
     "text": [
      "Detected frames:  500\n"
     ]
    },
    {
     "name": "stderr",
     "output_type": "stream",
     "text": [
      "510it [00:23, 21.74it/s]\n"
     ]
    },
    {
     "name": "stdout",
     "output_type": "stream",
     "text": [
      "Saving results in F:\\ar353rdday\\2021_07_16...\n",
      "Saving csv poses!\n",
      "Starting to analyze %  F:\\ar353rdday\\2021_07_16\\220.avi\n",
      "F:\\ar353rdday\\2021_07_16  already exists!\n",
      "Loading  F:\\ar353rdday\\2021_07_16\\220.avi\n",
      "Duration of video [s]:  12.5 , recorded with  40.0 fps!\n",
      "Overall # of frames:  500  found with (before cropping) frame dimensions:  1440 484\n",
      "Starting to extract posture\n"
     ]
    },
    {
     "name": "stderr",
     "output_type": "stream",
     "text": [
      "510it [00:23, 22.49it/s]                                                                                               "
     ]
    },
    {
     "name": "stdout",
     "output_type": "stream",
     "text": [
      "Detected frames:  500\n"
     ]
    },
    {
     "name": "stderr",
     "output_type": "stream",
     "text": [
      "510it [00:23, 21.62it/s]\n"
     ]
    },
    {
     "name": "stdout",
     "output_type": "stream",
     "text": [
      "Saving results in F:\\ar353rdday\\2021_07_16...\n",
      "Saving csv poses!\n",
      "Starting to analyze %  F:\\ar353rdday\\2021_07_16\\221.avi\n",
      "F:\\ar353rdday\\2021_07_16  already exists!\n",
      "Loading  F:\\ar353rdday\\2021_07_16\\221.avi\n",
      "Duration of video [s]:  12.5 , recorded with  40.0 fps!\n",
      "Overall # of frames:  500  found with (before cropping) frame dimensions:  1440 484\n",
      "Starting to extract posture\n"
     ]
    },
    {
     "name": "stderr",
     "output_type": "stream",
     "text": [
      "510it [00:23, 22.18it/s]                                                                                               "
     ]
    },
    {
     "name": "stdout",
     "output_type": "stream",
     "text": [
      "Detected frames:  500\n"
     ]
    },
    {
     "name": "stderr",
     "output_type": "stream",
     "text": [
      "510it [00:23, 21.63it/s]\n"
     ]
    },
    {
     "name": "stdout",
     "output_type": "stream",
     "text": [
      "Saving results in F:\\ar353rdday\\2021_07_16...\n",
      "Saving csv poses!\n",
      "Starting to analyze %  F:\\ar353rdday\\2021_07_16\\222.avi\n",
      "F:\\ar353rdday\\2021_07_16  already exists!\n",
      "Loading  F:\\ar353rdday\\2021_07_16\\222.avi\n",
      "Duration of video [s]:  12.5 , recorded with  40.0 fps!\n",
      "Overall # of frames:  500  found with (before cropping) frame dimensions:  1440 484\n",
      "Starting to extract posture\n"
     ]
    },
    {
     "name": "stderr",
     "output_type": "stream",
     "text": [
      "510it [00:23, 22.45it/s]                                                                                               "
     ]
    },
    {
     "name": "stdout",
     "output_type": "stream",
     "text": [
      "Detected frames:  500\n"
     ]
    },
    {
     "name": "stderr",
     "output_type": "stream",
     "text": [
      "510it [00:23, 21.62it/s]\n"
     ]
    },
    {
     "name": "stdout",
     "output_type": "stream",
     "text": [
      "Saving results in F:\\ar353rdday\\2021_07_16...\n",
      "Saving csv poses!\n",
      "Starting to analyze %  F:\\ar353rdday\\2021_07_16\\223.avi\n",
      "F:\\ar353rdday\\2021_07_16  already exists!\n",
      "Loading  F:\\ar353rdday\\2021_07_16\\223.avi\n",
      "Duration of video [s]:  12.5 , recorded with  40.0 fps!\n",
      "Overall # of frames:  500  found with (before cropping) frame dimensions:  1440 484\n",
      "Starting to extract posture\n"
     ]
    },
    {
     "name": "stderr",
     "output_type": "stream",
     "text": [
      "510it [00:23, 22.35it/s]                                                                                               "
     ]
    },
    {
     "name": "stdout",
     "output_type": "stream",
     "text": [
      "Detected frames:  500\n"
     ]
    },
    {
     "name": "stderr",
     "output_type": "stream",
     "text": [
      "510it [00:23, 21.55it/s]\n"
     ]
    },
    {
     "name": "stdout",
     "output_type": "stream",
     "text": [
      "Saving results in F:\\ar353rdday\\2021_07_16...\n",
      "Saving csv poses!\n",
      "Starting to analyze %  F:\\ar353rdday\\2021_07_16\\224.avi\n",
      "F:\\ar353rdday\\2021_07_16  already exists!\n",
      "Loading  F:\\ar353rdday\\2021_07_16\\224.avi\n",
      "Duration of video [s]:  12.5 , recorded with  40.0 fps!\n",
      "Overall # of frames:  500  found with (before cropping) frame dimensions:  1440 484\n",
      "Starting to extract posture\n"
     ]
    },
    {
     "name": "stderr",
     "output_type": "stream",
     "text": [
      "510it [00:23, 22.53it/s]                                                                                               "
     ]
    },
    {
     "name": "stdout",
     "output_type": "stream",
     "text": [
      "Detected frames:  500\n"
     ]
    },
    {
     "name": "stderr",
     "output_type": "stream",
     "text": [
      "510it [00:23, 21.64it/s]\n"
     ]
    },
    {
     "name": "stdout",
     "output_type": "stream",
     "text": [
      "Saving results in F:\\ar353rdday\\2021_07_16...\n",
      "Saving csv poses!\n",
      "Starting to analyze %  F:\\ar353rdday\\2021_07_16\\225.avi\n",
      "F:\\ar353rdday\\2021_07_16  already exists!\n",
      "Loading  F:\\ar353rdday\\2021_07_16\\225.avi\n",
      "Duration of video [s]:  12.5 , recorded with  40.0 fps!\n",
      "Overall # of frames:  500  found with (before cropping) frame dimensions:  1440 484\n",
      "Starting to extract posture\n"
     ]
    },
    {
     "name": "stderr",
     "output_type": "stream",
     "text": [
      "510it [00:23, 22.38it/s]                                                                                               "
     ]
    },
    {
     "name": "stdout",
     "output_type": "stream",
     "text": [
      "Detected frames:  500\n"
     ]
    },
    {
     "name": "stderr",
     "output_type": "stream",
     "text": [
      "510it [00:23, 21.73it/s]\n"
     ]
    },
    {
     "name": "stdout",
     "output_type": "stream",
     "text": [
      "Saving results in F:\\ar353rdday\\2021_07_16...\n",
      "Saving csv poses!\n",
      "Starting to analyze %  F:\\ar353rdday\\2021_07_16\\226.avi\n",
      "F:\\ar353rdday\\2021_07_16  already exists!\n",
      "Loading  F:\\ar353rdday\\2021_07_16\\226.avi\n",
      "Duration of video [s]:  12.5 , recorded with  40.0 fps!\n",
      "Overall # of frames:  500  found with (before cropping) frame dimensions:  1440 484\n",
      "Starting to extract posture\n"
     ]
    },
    {
     "name": "stderr",
     "output_type": "stream",
     "text": [
      "510it [00:23, 22.39it/s]                                                                                               "
     ]
    },
    {
     "name": "stdout",
     "output_type": "stream",
     "text": [
      "Detected frames:  500\n"
     ]
    },
    {
     "name": "stderr",
     "output_type": "stream",
     "text": [
      "510it [00:23, 21.61it/s]\n"
     ]
    },
    {
     "name": "stdout",
     "output_type": "stream",
     "text": [
      "Saving results in F:\\ar353rdday\\2021_07_16...\n",
      "Saving csv poses!\n",
      "Starting to analyze %  F:\\ar353rdday\\2021_07_16\\227.avi\n",
      "F:\\ar353rdday\\2021_07_16  already exists!\n",
      "Loading  F:\\ar353rdday\\2021_07_16\\227.avi\n",
      "Duration of video [s]:  12.5 , recorded with  40.0 fps!\n",
      "Overall # of frames:  500  found with (before cropping) frame dimensions:  1440 484\n",
      "Starting to extract posture\n"
     ]
    },
    {
     "name": "stderr",
     "output_type": "stream",
     "text": [
      "510it [00:23, 22.20it/s]                                                                                               "
     ]
    },
    {
     "name": "stdout",
     "output_type": "stream",
     "text": [
      "Detected frames:  500\n"
     ]
    },
    {
     "name": "stderr",
     "output_type": "stream",
     "text": [
      "510it [00:23, 21.66it/s]\n"
     ]
    },
    {
     "name": "stdout",
     "output_type": "stream",
     "text": [
      "Saving results in F:\\ar353rdday\\2021_07_16...\n",
      "Saving csv poses!\n",
      "Starting to analyze %  F:\\ar353rdday\\2021_07_16\\228.avi\n",
      "F:\\ar353rdday\\2021_07_16  already exists!\n",
      "Loading  F:\\ar353rdday\\2021_07_16\\228.avi\n",
      "Duration of video [s]:  12.5 , recorded with  40.0 fps!\n",
      "Overall # of frames:  500  found with (before cropping) frame dimensions:  1440 484\n",
      "Starting to extract posture\n"
     ]
    },
    {
     "name": "stderr",
     "output_type": "stream",
     "text": [
      "510it [00:23, 22.30it/s]                                                                                               "
     ]
    },
    {
     "name": "stdout",
     "output_type": "stream",
     "text": [
      "Detected frames:  500\n"
     ]
    },
    {
     "name": "stderr",
     "output_type": "stream",
     "text": [
      "510it [00:23, 21.60it/s]\n"
     ]
    },
    {
     "name": "stdout",
     "output_type": "stream",
     "text": [
      "Saving results in F:\\ar353rdday\\2021_07_16...\n",
      "Saving csv poses!\n",
      "Starting to analyze %  F:\\ar353rdday\\2021_07_16\\229.avi\n",
      "F:\\ar353rdday\\2021_07_16  already exists!\n",
      "Loading  F:\\ar353rdday\\2021_07_16\\229.avi\n",
      "Duration of video [s]:  12.5 , recorded with  40.0 fps!\n",
      "Overall # of frames:  500  found with (before cropping) frame dimensions:  1440 484\n",
      "Starting to extract posture\n"
     ]
    },
    {
     "name": "stderr",
     "output_type": "stream",
     "text": [
      "510it [00:23, 22.49it/s]                                                                                               "
     ]
    },
    {
     "name": "stdout",
     "output_type": "stream",
     "text": [
      "Detected frames:  500\n"
     ]
    },
    {
     "name": "stderr",
     "output_type": "stream",
     "text": [
      "510it [00:23, 21.54it/s]\n"
     ]
    },
    {
     "name": "stdout",
     "output_type": "stream",
     "text": [
      "Saving results in F:\\ar353rdday\\2021_07_16...\n",
      "Saving csv poses!\n",
      "Starting to analyze %  F:\\ar353rdday\\2021_07_16\\23.avi\n",
      "F:\\ar353rdday\\2021_07_16  already exists!\n",
      "Loading  F:\\ar353rdday\\2021_07_16\\23.avi\n",
      "Duration of video [s]:  12.5 , recorded with  40.0 fps!\n",
      "Overall # of frames:  500  found with (before cropping) frame dimensions:  1440 484\n",
      "Starting to extract posture\n"
     ]
    },
    {
     "name": "stderr",
     "output_type": "stream",
     "text": [
      "510it [00:22, 22.66it/s]                                                                                               "
     ]
    },
    {
     "name": "stdout",
     "output_type": "stream",
     "text": [
      "Detected frames:  500\n"
     ]
    },
    {
     "name": "stderr",
     "output_type": "stream",
     "text": [
      "510it [00:23, 21.89it/s]\n"
     ]
    },
    {
     "name": "stdout",
     "output_type": "stream",
     "text": [
      "Saving results in F:\\ar353rdday\\2021_07_16...\n",
      "Saving csv poses!\n",
      "Starting to analyze %  F:\\ar353rdday\\2021_07_16\\230.avi\n",
      "F:\\ar353rdday\\2021_07_16  already exists!\n",
      "Loading  F:\\ar353rdday\\2021_07_16\\230.avi\n",
      "Duration of video [s]:  12.5 , recorded with  40.0 fps!\n",
      "Overall # of frames:  500  found with (before cropping) frame dimensions:  1440 484\n",
      "Starting to extract posture\n"
     ]
    },
    {
     "name": "stderr",
     "output_type": "stream",
     "text": [
      "510it [00:22, 22.51it/s]                                                                                               "
     ]
    },
    {
     "name": "stdout",
     "output_type": "stream",
     "text": [
      "Detected frames:  500\n"
     ]
    },
    {
     "name": "stderr",
     "output_type": "stream",
     "text": [
      "510it [00:23, 21.93it/s]\n"
     ]
    },
    {
     "name": "stdout",
     "output_type": "stream",
     "text": [
      "Saving results in F:\\ar353rdday\\2021_07_16...\n",
      "Saving csv poses!\n",
      "Starting to analyze %  F:\\ar353rdday\\2021_07_16\\231.avi\n",
      "F:\\ar353rdday\\2021_07_16  already exists!\n",
      "Loading  F:\\ar353rdday\\2021_07_16\\231.avi\n",
      "Duration of video [s]:  12.5 , recorded with  40.0 fps!\n",
      "Overall # of frames:  500  found with (before cropping) frame dimensions:  1440 484\n",
      "Starting to extract posture\n"
     ]
    },
    {
     "name": "stderr",
     "output_type": "stream",
     "text": [
      "510it [00:22, 22.62it/s]                                                                                               "
     ]
    },
    {
     "name": "stdout",
     "output_type": "stream",
     "text": [
      "Detected frames:  500\n"
     ]
    },
    {
     "name": "stderr",
     "output_type": "stream",
     "text": [
      "510it [00:23, 21.88it/s]\n"
     ]
    },
    {
     "name": "stdout",
     "output_type": "stream",
     "text": [
      "Saving results in F:\\ar353rdday\\2021_07_16...\n",
      "Saving csv poses!\n",
      "Starting to analyze %  F:\\ar353rdday\\2021_07_16\\232.avi\n",
      "F:\\ar353rdday\\2021_07_16  already exists!\n",
      "Loading  F:\\ar353rdday\\2021_07_16\\232.avi\n",
      "Duration of video [s]:  12.5 , recorded with  40.0 fps!\n",
      "Overall # of frames:  500  found with (before cropping) frame dimensions:  1440 484\n",
      "Starting to extract posture\n"
     ]
    },
    {
     "name": "stderr",
     "output_type": "stream",
     "text": [
      "510it [00:23, 22.35it/s]                                                                                               "
     ]
    },
    {
     "name": "stdout",
     "output_type": "stream",
     "text": [
      "Detected frames:  500\n"
     ]
    },
    {
     "name": "stderr",
     "output_type": "stream",
     "text": [
      "510it [00:23, 21.79it/s]\n"
     ]
    },
    {
     "name": "stdout",
     "output_type": "stream",
     "text": [
      "Saving results in F:\\ar353rdday\\2021_07_16...\n",
      "Saving csv poses!\n",
      "Starting to analyze %  F:\\ar353rdday\\2021_07_16\\233.avi\n",
      "F:\\ar353rdday\\2021_07_16  already exists!\n",
      "Loading  F:\\ar353rdday\\2021_07_16\\233.avi\n",
      "Duration of video [s]:  12.5 , recorded with  40.0 fps!\n",
      "Overall # of frames:  500  found with (before cropping) frame dimensions:  1440 484\n",
      "Starting to extract posture\n"
     ]
    },
    {
     "name": "stderr",
     "output_type": "stream",
     "text": [
      "510it [00:23, 22.67it/s]                                                                                               "
     ]
    },
    {
     "name": "stdout",
     "output_type": "stream",
     "text": [
      "Detected frames:  500\n"
     ]
    },
    {
     "name": "stderr",
     "output_type": "stream",
     "text": [
      "510it [00:23, 21.81it/s]\n"
     ]
    },
    {
     "name": "stdout",
     "output_type": "stream",
     "text": [
      "Saving results in F:\\ar353rdday\\2021_07_16...\n",
      "Saving csv poses!\n",
      "Starting to analyze %  F:\\ar353rdday\\2021_07_16\\234.avi\n",
      "F:\\ar353rdday\\2021_07_16  already exists!\n",
      "Loading  F:\\ar353rdday\\2021_07_16\\234.avi\n",
      "Duration of video [s]:  12.5 , recorded with  40.0 fps!\n",
      "Overall # of frames:  500  found with (before cropping) frame dimensions:  1440 484\n",
      "Starting to extract posture\n"
     ]
    },
    {
     "name": "stderr",
     "output_type": "stream",
     "text": [
      "510it [00:22, 22.57it/s]                                                                                               "
     ]
    },
    {
     "name": "stdout",
     "output_type": "stream",
     "text": [
      "Detected frames:  500\n"
     ]
    },
    {
     "name": "stderr",
     "output_type": "stream",
     "text": [
      "510it [00:23, 21.87it/s]\n"
     ]
    },
    {
     "name": "stdout",
     "output_type": "stream",
     "text": [
      "Saving results in F:\\ar353rdday\\2021_07_16...\n",
      "Saving csv poses!\n",
      "Starting to analyze %  F:\\ar353rdday\\2021_07_16\\235.avi\n",
      "F:\\ar353rdday\\2021_07_16  already exists!\n",
      "Loading  F:\\ar353rdday\\2021_07_16\\235.avi\n",
      "Duration of video [s]:  12.5 , recorded with  40.0 fps!\n",
      "Overall # of frames:  500  found with (before cropping) frame dimensions:  1440 484\n",
      "Starting to extract posture\n"
     ]
    },
    {
     "name": "stderr",
     "output_type": "stream",
     "text": [
      "510it [00:22, 22.55it/s]                                                                                               "
     ]
    },
    {
     "name": "stdout",
     "output_type": "stream",
     "text": [
      "Detected frames:  500\n"
     ]
    },
    {
     "name": "stderr",
     "output_type": "stream",
     "text": [
      "510it [00:23, 21.87it/s]\n"
     ]
    },
    {
     "name": "stdout",
     "output_type": "stream",
     "text": [
      "Saving results in F:\\ar353rdday\\2021_07_16...\n",
      "Saving csv poses!\n",
      "Starting to analyze %  F:\\ar353rdday\\2021_07_16\\236.avi\n",
      "F:\\ar353rdday\\2021_07_16  already exists!\n",
      "Loading  F:\\ar353rdday\\2021_07_16\\236.avi\n",
      "Duration of video [s]:  12.5 , recorded with  40.0 fps!\n",
      "Overall # of frames:  500  found with (before cropping) frame dimensions:  1440 484\n",
      "Starting to extract posture\n"
     ]
    },
    {
     "name": "stderr",
     "output_type": "stream",
     "text": [
      "510it [00:23, 22.51it/s]                                                                                               "
     ]
    },
    {
     "name": "stdout",
     "output_type": "stream",
     "text": [
      "Detected frames:  500\n"
     ]
    },
    {
     "name": "stderr",
     "output_type": "stream",
     "text": [
      "510it [00:23, 21.73it/s]\n"
     ]
    },
    {
     "name": "stdout",
     "output_type": "stream",
     "text": [
      "Saving results in F:\\ar353rdday\\2021_07_16...\n",
      "Saving csv poses!\n",
      "Starting to analyze %  F:\\ar353rdday\\2021_07_16\\237.avi\n",
      "F:\\ar353rdday\\2021_07_16  already exists!\n",
      "Loading  F:\\ar353rdday\\2021_07_16\\237.avi\n",
      "Duration of video [s]:  12.5 , recorded with  40.0 fps!\n",
      "Overall # of frames:  500  found with (before cropping) frame dimensions:  1440 484\n",
      "Starting to extract posture\n"
     ]
    },
    {
     "name": "stderr",
     "output_type": "stream",
     "text": [
      "510it [00:22, 22.37it/s]                                                                                               "
     ]
    },
    {
     "name": "stdout",
     "output_type": "stream",
     "text": [
      "Detected frames:  500\n"
     ]
    },
    {
     "name": "stderr",
     "output_type": "stream",
     "text": [
      "510it [00:23, 21.85it/s]\n"
     ]
    },
    {
     "name": "stdout",
     "output_type": "stream",
     "text": [
      "Saving results in F:\\ar353rdday\\2021_07_16...\n",
      "Saving csv poses!\n",
      "Starting to analyze %  F:\\ar353rdday\\2021_07_16\\238.avi\n",
      "F:\\ar353rdday\\2021_07_16  already exists!\n",
      "Loading  F:\\ar353rdday\\2021_07_16\\238.avi\n",
      "Duration of video [s]:  12.5 , recorded with  40.0 fps!\n",
      "Overall # of frames:  500  found with (before cropping) frame dimensions:  1440 484\n",
      "Starting to extract posture\n"
     ]
    },
    {
     "name": "stderr",
     "output_type": "stream",
     "text": [
      "510it [00:23, 22.07it/s]                                                                                               "
     ]
    },
    {
     "name": "stdout",
     "output_type": "stream",
     "text": [
      "Detected frames:  500\n"
     ]
    },
    {
     "name": "stderr",
     "output_type": "stream",
     "text": [
      "510it [00:23, 21.84it/s]\n"
     ]
    },
    {
     "name": "stdout",
     "output_type": "stream",
     "text": [
      "Saving results in F:\\ar353rdday\\2021_07_16...\n",
      "Saving csv poses!\n",
      "Starting to analyze %  F:\\ar353rdday\\2021_07_16\\239.avi\n",
      "F:\\ar353rdday\\2021_07_16  already exists!\n",
      "Loading  F:\\ar353rdday\\2021_07_16\\239.avi\n",
      "Duration of video [s]:  12.5 , recorded with  40.0 fps!\n",
      "Overall # of frames:  500  found with (before cropping) frame dimensions:  1440 484\n",
      "Starting to extract posture\n"
     ]
    },
    {
     "name": "stderr",
     "output_type": "stream",
     "text": [
      "510it [00:22, 22.61it/s]                                                                                               "
     ]
    },
    {
     "name": "stdout",
     "output_type": "stream",
     "text": [
      "Detected frames:  500\n"
     ]
    },
    {
     "name": "stderr",
     "output_type": "stream",
     "text": [
      "510it [00:23, 21.91it/s]\n"
     ]
    },
    {
     "name": "stdout",
     "output_type": "stream",
     "text": [
      "Saving results in F:\\ar353rdday\\2021_07_16...\n",
      "Saving csv poses!\n",
      "Starting to analyze %  F:\\ar353rdday\\2021_07_16\\24.avi\n",
      "F:\\ar353rdday\\2021_07_16  already exists!\n",
      "Loading  F:\\ar353rdday\\2021_07_16\\24.avi\n",
      "Duration of video [s]:  12.5 , recorded with  40.0 fps!\n",
      "Overall # of frames:  500  found with (before cropping) frame dimensions:  1440 484\n",
      "Starting to extract posture\n"
     ]
    },
    {
     "name": "stderr",
     "output_type": "stream",
     "text": [
      "510it [00:22, 22.65it/s]                                                                                               "
     ]
    },
    {
     "name": "stdout",
     "output_type": "stream",
     "text": [
      "Detected frames:  500\n"
     ]
    },
    {
     "name": "stderr",
     "output_type": "stream",
     "text": [
      "510it [00:23, 21.91it/s]\n"
     ]
    },
    {
     "name": "stdout",
     "output_type": "stream",
     "text": [
      "Saving results in F:\\ar353rdday\\2021_07_16...\n",
      "Saving csv poses!\n",
      "Starting to analyze %  F:\\ar353rdday\\2021_07_16\\240.avi\n",
      "F:\\ar353rdday\\2021_07_16  already exists!\n",
      "Loading  F:\\ar353rdday\\2021_07_16\\240.avi\n",
      "Duration of video [s]:  12.5 , recorded with  40.0 fps!\n",
      "Overall # of frames:  500  found with (before cropping) frame dimensions:  1440 484\n",
      "Starting to extract posture\n"
     ]
    },
    {
     "name": "stderr",
     "output_type": "stream",
     "text": [
      "510it [00:23, 22.67it/s]                                                                                               "
     ]
    },
    {
     "name": "stdout",
     "output_type": "stream",
     "text": [
      "Detected frames:  500\n"
     ]
    },
    {
     "name": "stderr",
     "output_type": "stream",
     "text": [
      "510it [00:23, 21.79it/s]\n"
     ]
    },
    {
     "name": "stdout",
     "output_type": "stream",
     "text": [
      "Saving results in F:\\ar353rdday\\2021_07_16...\n",
      "Saving csv poses!\n",
      "Starting to analyze %  F:\\ar353rdday\\2021_07_16\\241.avi\n",
      "F:\\ar353rdday\\2021_07_16  already exists!\n",
      "Loading  F:\\ar353rdday\\2021_07_16\\241.avi\n",
      "Duration of video [s]:  12.5 , recorded with  40.0 fps!\n",
      "Overall # of frames:  500  found with (before cropping) frame dimensions:  1440 484\n",
      "Starting to extract posture\n"
     ]
    },
    {
     "name": "stderr",
     "output_type": "stream",
     "text": [
      "510it [00:22, 22.79it/s]                                                                                               "
     ]
    },
    {
     "name": "stdout",
     "output_type": "stream",
     "text": [
      "Detected frames:  500\n"
     ]
    },
    {
     "name": "stderr",
     "output_type": "stream",
     "text": [
      "510it [00:23, 21.86it/s]\n"
     ]
    },
    {
     "name": "stdout",
     "output_type": "stream",
     "text": [
      "Saving results in F:\\ar353rdday\\2021_07_16...\n",
      "Saving csv poses!\n",
      "Starting to analyze %  F:\\ar353rdday\\2021_07_16\\242.avi\n",
      "F:\\ar353rdday\\2021_07_16  already exists!\n",
      "Loading  F:\\ar353rdday\\2021_07_16\\242.avi\n",
      "Duration of video [s]:  12.5 , recorded with  40.0 fps!\n",
      "Overall # of frames:  500  found with (before cropping) frame dimensions:  1440 484\n",
      "Starting to extract posture\n"
     ]
    },
    {
     "name": "stderr",
     "output_type": "stream",
     "text": [
      "510it [00:23, 22.85it/s]                                                                                               "
     ]
    },
    {
     "name": "stdout",
     "output_type": "stream",
     "text": [
      "Detected frames:  500\n"
     ]
    },
    {
     "name": "stderr",
     "output_type": "stream",
     "text": [
      "510it [00:23, 21.60it/s]\n"
     ]
    },
    {
     "name": "stdout",
     "output_type": "stream",
     "text": [
      "Saving results in F:\\ar353rdday\\2021_07_16...\n",
      "Saving csv poses!\n",
      "Starting to analyze %  F:\\ar353rdday\\2021_07_16\\243.avi\n",
      "F:\\ar353rdday\\2021_07_16  already exists!\n",
      "Loading  F:\\ar353rdday\\2021_07_16\\243.avi\n",
      "Duration of video [s]:  12.5 , recorded with  40.0 fps!\n",
      "Overall # of frames:  500  found with (before cropping) frame dimensions:  1440 484\n",
      "Starting to extract posture\n"
     ]
    },
    {
     "name": "stderr",
     "output_type": "stream",
     "text": [
      "510it [00:22, 22.45it/s]                                                                                               "
     ]
    },
    {
     "name": "stdout",
     "output_type": "stream",
     "text": [
      "Detected frames:  500\n"
     ]
    },
    {
     "name": "stderr",
     "output_type": "stream",
     "text": [
      "510it [00:23, 21.88it/s]\n"
     ]
    },
    {
     "name": "stdout",
     "output_type": "stream",
     "text": [
      "Saving results in F:\\ar353rdday\\2021_07_16...\n",
      "Saving csv poses!\n",
      "Starting to analyze %  F:\\ar353rdday\\2021_07_16\\244.avi\n",
      "F:\\ar353rdday\\2021_07_16  already exists!\n",
      "Loading  F:\\ar353rdday\\2021_07_16\\244.avi\n",
      "Duration of video [s]:  12.5 , recorded with  40.0 fps!\n",
      "Overall # of frames:  500  found with (before cropping) frame dimensions:  1440 484\n",
      "Starting to extract posture\n"
     ]
    },
    {
     "name": "stderr",
     "output_type": "stream",
     "text": [
      "510it [00:22, 22.67it/s]                                                                                               "
     ]
    },
    {
     "name": "stdout",
     "output_type": "stream",
     "text": [
      "Detected frames:  500\n"
     ]
    },
    {
     "name": "stderr",
     "output_type": "stream",
     "text": [
      "510it [00:23, 21.93it/s]\n"
     ]
    },
    {
     "name": "stdout",
     "output_type": "stream",
     "text": [
      "Saving results in F:\\ar353rdday\\2021_07_16...\n",
      "Saving csv poses!\n",
      "Starting to analyze %  F:\\ar353rdday\\2021_07_16\\245.avi\n",
      "F:\\ar353rdday\\2021_07_16  already exists!\n",
      "Loading  F:\\ar353rdday\\2021_07_16\\245.avi\n",
      "Duration of video [s]:  12.5 , recorded with  40.0 fps!\n",
      "Overall # of frames:  500  found with (before cropping) frame dimensions:  1440 484\n",
      "Starting to extract posture\n"
     ]
    },
    {
     "name": "stderr",
     "output_type": "stream",
     "text": [
      "510it [00:22, 22.36it/s]                                                                                               "
     ]
    },
    {
     "name": "stdout",
     "output_type": "stream",
     "text": [
      "Detected frames:  500\n"
     ]
    },
    {
     "name": "stderr",
     "output_type": "stream",
     "text": [
      "510it [00:23, 21.87it/s]\n"
     ]
    },
    {
     "name": "stdout",
     "output_type": "stream",
     "text": [
      "Saving results in F:\\ar353rdday\\2021_07_16...\n",
      "Saving csv poses!\n",
      "Starting to analyze %  F:\\ar353rdday\\2021_07_16\\246.avi\n",
      "F:\\ar353rdday\\2021_07_16  already exists!\n",
      "Loading  F:\\ar353rdday\\2021_07_16\\246.avi\n",
      "Duration of video [s]:  12.5 , recorded with  40.0 fps!\n",
      "Overall # of frames:  500  found with (before cropping) frame dimensions:  1440 484\n",
      "Starting to extract posture\n"
     ]
    },
    {
     "name": "stderr",
     "output_type": "stream",
     "text": [
      "510it [00:23, 22.54it/s]                                                                                               "
     ]
    },
    {
     "name": "stdout",
     "output_type": "stream",
     "text": [
      "Detected frames:  500\n"
     ]
    },
    {
     "name": "stderr",
     "output_type": "stream",
     "text": [
      "510it [00:23, 21.72it/s]\n"
     ]
    },
    {
     "name": "stdout",
     "output_type": "stream",
     "text": [
      "Saving results in F:\\ar353rdday\\2021_07_16...\n",
      "Saving csv poses!\n",
      "Starting to analyze %  F:\\ar353rdday\\2021_07_16\\247.avi\n",
      "F:\\ar353rdday\\2021_07_16  already exists!\n",
      "Loading  F:\\ar353rdday\\2021_07_16\\247.avi\n",
      "Duration of video [s]:  12.5 , recorded with  40.0 fps!\n",
      "Overall # of frames:  500  found with (before cropping) frame dimensions:  1440 484\n",
      "Starting to extract posture\n"
     ]
    },
    {
     "name": "stderr",
     "output_type": "stream",
     "text": [
      "510it [00:22, 22.38it/s]                                                                                               "
     ]
    },
    {
     "name": "stdout",
     "output_type": "stream",
     "text": [
      "Detected frames:  500\n"
     ]
    },
    {
     "name": "stderr",
     "output_type": "stream",
     "text": [
      "510it [00:23, 21.95it/s]\n"
     ]
    },
    {
     "name": "stdout",
     "output_type": "stream",
     "text": [
      "Saving results in F:\\ar353rdday\\2021_07_16...\n",
      "Saving csv poses!\n",
      "Starting to analyze %  F:\\ar353rdday\\2021_07_16\\248.avi\n",
      "F:\\ar353rdday\\2021_07_16  already exists!\n",
      "Loading  F:\\ar353rdday\\2021_07_16\\248.avi\n",
      "Duration of video [s]:  12.5 , recorded with  40.0 fps!\n",
      "Overall # of frames:  500  found with (before cropping) frame dimensions:  1440 484\n",
      "Starting to extract posture\n"
     ]
    },
    {
     "name": "stderr",
     "output_type": "stream",
     "text": [
      "510it [00:23, 22.60it/s]                                                                                               "
     ]
    },
    {
     "name": "stdout",
     "output_type": "stream",
     "text": [
      "Detected frames:  500\n"
     ]
    },
    {
     "name": "stderr",
     "output_type": "stream",
     "text": [
      "510it [00:23, 21.80it/s]\n"
     ]
    },
    {
     "name": "stdout",
     "output_type": "stream",
     "text": [
      "Saving results in F:\\ar353rdday\\2021_07_16...\n",
      "Saving csv poses!\n",
      "Starting to analyze %  F:\\ar353rdday\\2021_07_16\\249.avi\n",
      "F:\\ar353rdday\\2021_07_16  already exists!\n",
      "Loading  F:\\ar353rdday\\2021_07_16\\249.avi\n",
      "Duration of video [s]:  12.5 , recorded with  40.0 fps!\n",
      "Overall # of frames:  500  found with (before cropping) frame dimensions:  1440 484\n",
      "Starting to extract posture\n"
     ]
    },
    {
     "name": "stderr",
     "output_type": "stream",
     "text": [
      "510it [00:23, 22.53it/s]                                                                                               "
     ]
    },
    {
     "name": "stdout",
     "output_type": "stream",
     "text": [
      "Detected frames:  500\n"
     ]
    },
    {
     "name": "stderr",
     "output_type": "stream",
     "text": [
      "510it [00:23, 21.70it/s]\n"
     ]
    },
    {
     "name": "stdout",
     "output_type": "stream",
     "text": [
      "Saving results in F:\\ar353rdday\\2021_07_16...\n",
      "Saving csv poses!\n",
      "Starting to analyze %  F:\\ar353rdday\\2021_07_16\\25.avi\n",
      "F:\\ar353rdday\\2021_07_16  already exists!\n",
      "Loading  F:\\ar353rdday\\2021_07_16\\25.avi\n",
      "Duration of video [s]:  12.5 , recorded with  40.0 fps!\n",
      "Overall # of frames:  500  found with (before cropping) frame dimensions:  1440 484\n",
      "Starting to extract posture\n"
     ]
    },
    {
     "name": "stderr",
     "output_type": "stream",
     "text": [
      "510it [00:23, 22.38it/s]                                                                                               "
     ]
    },
    {
     "name": "stdout",
     "output_type": "stream",
     "text": [
      "Detected frames:  500\n"
     ]
    },
    {
     "name": "stderr",
     "output_type": "stream",
     "text": [
      "510it [00:23, 21.68it/s]\n"
     ]
    },
    {
     "name": "stdout",
     "output_type": "stream",
     "text": [
      "Saving results in F:\\ar353rdday\\2021_07_16...\n",
      "Saving csv poses!\n",
      "Starting to analyze %  F:\\ar353rdday\\2021_07_16\\250.avi\n",
      "F:\\ar353rdday\\2021_07_16  already exists!\n",
      "Loading  F:\\ar353rdday\\2021_07_16\\250.avi\n",
      "Duration of video [s]:  12.5 , recorded with  40.0 fps!\n",
      "Overall # of frames:  500  found with (before cropping) frame dimensions:  1440 484\n",
      "Starting to extract posture\n"
     ]
    },
    {
     "name": "stderr",
     "output_type": "stream",
     "text": [
      "510it [00:23, 22.20it/s]                                                                                               "
     ]
    },
    {
     "name": "stdout",
     "output_type": "stream",
     "text": [
      "Detected frames:  500\n"
     ]
    },
    {
     "name": "stderr",
     "output_type": "stream",
     "text": [
      "510it [00:23, 21.77it/s]\n"
     ]
    },
    {
     "name": "stdout",
     "output_type": "stream",
     "text": [
      "Saving results in F:\\ar353rdday\\2021_07_16...\n",
      "Saving csv poses!\n",
      "Starting to analyze %  F:\\ar353rdday\\2021_07_16\\251.avi\n",
      "F:\\ar353rdday\\2021_07_16  already exists!\n",
      "Loading  F:\\ar353rdday\\2021_07_16\\251.avi\n",
      "Duration of video [s]:  12.5 , recorded with  40.0 fps!\n",
      "Overall # of frames:  500  found with (before cropping) frame dimensions:  1440 484\n",
      "Starting to extract posture\n"
     ]
    },
    {
     "name": "stderr",
     "output_type": "stream",
     "text": [
      "510it [00:23, 22.18it/s]                                                                                               "
     ]
    },
    {
     "name": "stdout",
     "output_type": "stream",
     "text": [
      "Detected frames:  500\n"
     ]
    },
    {
     "name": "stderr",
     "output_type": "stream",
     "text": [
      "510it [00:23, 21.63it/s]\n"
     ]
    },
    {
     "name": "stdout",
     "output_type": "stream",
     "text": [
      "Saving results in F:\\ar353rdday\\2021_07_16...\n",
      "Saving csv poses!\n",
      "Starting to analyze %  F:\\ar353rdday\\2021_07_16\\252.avi\n",
      "F:\\ar353rdday\\2021_07_16  already exists!\n",
      "Loading  F:\\ar353rdday\\2021_07_16\\252.avi\n",
      "Duration of video [s]:  12.5 , recorded with  40.0 fps!\n",
      "Overall # of frames:  500  found with (before cropping) frame dimensions:  1440 484\n",
      "Starting to extract posture\n"
     ]
    },
    {
     "name": "stderr",
     "output_type": "stream",
     "text": [
      "510it [00:23, 22.33it/s]                                                                                               "
     ]
    },
    {
     "name": "stdout",
     "output_type": "stream",
     "text": [
      "Detected frames:  500\n"
     ]
    },
    {
     "name": "stderr",
     "output_type": "stream",
     "text": [
      "510it [00:23, 21.74it/s]\n"
     ]
    },
    {
     "name": "stdout",
     "output_type": "stream",
     "text": [
      "Saving results in F:\\ar353rdday\\2021_07_16...\n",
      "Saving csv poses!\n",
      "Starting to analyze %  F:\\ar353rdday\\2021_07_16\\253.avi\n",
      "F:\\ar353rdday\\2021_07_16  already exists!\n",
      "Loading  F:\\ar353rdday\\2021_07_16\\253.avi\n",
      "Duration of video [s]:  12.5 , recorded with  40.0 fps!\n",
      "Overall # of frames:  500  found with (before cropping) frame dimensions:  1440 484\n",
      "Starting to extract posture\n"
     ]
    },
    {
     "name": "stderr",
     "output_type": "stream",
     "text": [
      "510it [00:23, 22.43it/s]                                                                                               "
     ]
    },
    {
     "name": "stdout",
     "output_type": "stream",
     "text": [
      "Detected frames:  500\n"
     ]
    },
    {
     "name": "stderr",
     "output_type": "stream",
     "text": [
      "510it [00:23, 21.68it/s]\n"
     ]
    },
    {
     "name": "stdout",
     "output_type": "stream",
     "text": [
      "Saving results in F:\\ar353rdday\\2021_07_16...\n",
      "Saving csv poses!\n",
      "Starting to analyze %  F:\\ar353rdday\\2021_07_16\\254.avi\n",
      "F:\\ar353rdday\\2021_07_16  already exists!\n",
      "Loading  F:\\ar353rdday\\2021_07_16\\254.avi\n",
      "Duration of video [s]:  12.5 , recorded with  40.0 fps!\n",
      "Overall # of frames:  500  found with (before cropping) frame dimensions:  1440 484\n",
      "Starting to extract posture\n"
     ]
    },
    {
     "name": "stderr",
     "output_type": "stream",
     "text": [
      "510it [00:23, 22.24it/s]                                                                                               "
     ]
    },
    {
     "name": "stdout",
     "output_type": "stream",
     "text": [
      "Detected frames:  500\n"
     ]
    },
    {
     "name": "stderr",
     "output_type": "stream",
     "text": [
      "510it [00:23, 21.71it/s]\n"
     ]
    },
    {
     "name": "stdout",
     "output_type": "stream",
     "text": [
      "Saving results in F:\\ar353rdday\\2021_07_16...\n",
      "Saving csv poses!\n",
      "Starting to analyze %  F:\\ar353rdday\\2021_07_16\\255.avi\n",
      "F:\\ar353rdday\\2021_07_16  already exists!\n",
      "Loading  F:\\ar353rdday\\2021_07_16\\255.avi\n",
      "Duration of video [s]:  12.5 , recorded with  40.0 fps!\n",
      "Overall # of frames:  500  found with (before cropping) frame dimensions:  1440 484\n",
      "Starting to extract posture\n"
     ]
    },
    {
     "name": "stderr",
     "output_type": "stream",
     "text": [
      "510it [00:23, 22.48it/s]                                                                                               "
     ]
    },
    {
     "name": "stdout",
     "output_type": "stream",
     "text": [
      "Detected frames:  500\n"
     ]
    },
    {
     "name": "stderr",
     "output_type": "stream",
     "text": [
      "510it [00:23, 21.80it/s]\n"
     ]
    },
    {
     "name": "stdout",
     "output_type": "stream",
     "text": [
      "Saving results in F:\\ar353rdday\\2021_07_16...\n",
      "Saving csv poses!\n",
      "Starting to analyze %  F:\\ar353rdday\\2021_07_16\\256.avi\n",
      "F:\\ar353rdday\\2021_07_16  already exists!\n",
      "Loading  F:\\ar353rdday\\2021_07_16\\256.avi\n",
      "Duration of video [s]:  12.5 , recorded with  40.0 fps!\n",
      "Overall # of frames:  500  found with (before cropping) frame dimensions:  1440 484\n",
      "Starting to extract posture\n"
     ]
    },
    {
     "name": "stderr",
     "output_type": "stream",
     "text": [
      "510it [00:23, 22.50it/s]                                                                                               "
     ]
    },
    {
     "name": "stdout",
     "output_type": "stream",
     "text": [
      "Detected frames:  500\n"
     ]
    },
    {
     "name": "stderr",
     "output_type": "stream",
     "text": [
      "510it [00:23, 21.82it/s]\n"
     ]
    },
    {
     "name": "stdout",
     "output_type": "stream",
     "text": [
      "Saving results in F:\\ar353rdday\\2021_07_16...\n",
      "Saving csv poses!\n",
      "Starting to analyze %  F:\\ar353rdday\\2021_07_16\\257.avi\n",
      "F:\\ar353rdday\\2021_07_16  already exists!\n",
      "Loading  F:\\ar353rdday\\2021_07_16\\257.avi\n",
      "Duration of video [s]:  12.5 , recorded with  40.0 fps!\n",
      "Overall # of frames:  500  found with (before cropping) frame dimensions:  1440 484\n",
      "Starting to extract posture\n"
     ]
    },
    {
     "name": "stderr",
     "output_type": "stream",
     "text": [
      "510it [00:23, 22.34it/s]                                                                                               "
     ]
    },
    {
     "name": "stdout",
     "output_type": "stream",
     "text": [
      "Detected frames:  500\n"
     ]
    },
    {
     "name": "stderr",
     "output_type": "stream",
     "text": [
      "510it [00:23, 21.84it/s]\n"
     ]
    },
    {
     "name": "stdout",
     "output_type": "stream",
     "text": [
      "Saving results in F:\\ar353rdday\\2021_07_16...\n",
      "Saving csv poses!\n",
      "Starting to analyze %  F:\\ar353rdday\\2021_07_16\\258.avi\n",
      "F:\\ar353rdday\\2021_07_16  already exists!\n",
      "Loading  F:\\ar353rdday\\2021_07_16\\258.avi\n",
      "Duration of video [s]:  12.5 , recorded with  40.0 fps!\n",
      "Overall # of frames:  500  found with (before cropping) frame dimensions:  1440 484\n",
      "Starting to extract posture\n"
     ]
    },
    {
     "name": "stderr",
     "output_type": "stream",
     "text": [
      "510it [00:22, 22.51it/s]                                                                                               "
     ]
    },
    {
     "name": "stdout",
     "output_type": "stream",
     "text": [
      "Detected frames:  500\n"
     ]
    },
    {
     "name": "stderr",
     "output_type": "stream",
     "text": [
      "510it [00:23, 21.97it/s]\n"
     ]
    },
    {
     "name": "stdout",
     "output_type": "stream",
     "text": [
      "Saving results in F:\\ar353rdday\\2021_07_16...\n",
      "Saving csv poses!\n",
      "Starting to analyze %  F:\\ar353rdday\\2021_07_16\\259.avi\n",
      "F:\\ar353rdday\\2021_07_16  already exists!\n",
      "Loading  F:\\ar353rdday\\2021_07_16\\259.avi\n",
      "Duration of video [s]:  12.5 , recorded with  40.0 fps!\n",
      "Overall # of frames:  500  found with (before cropping) frame dimensions:  1440 484\n",
      "Starting to extract posture\n"
     ]
    },
    {
     "name": "stderr",
     "output_type": "stream",
     "text": [
      "510it [00:23, 20.24it/s]                                                                                               "
     ]
    },
    {
     "name": "stdout",
     "output_type": "stream",
     "text": [
      "Detected frames:  500\n"
     ]
    },
    {
     "name": "stderr",
     "output_type": "stream",
     "text": [
      "510it [00:23, 21.64it/s]\n"
     ]
    },
    {
     "name": "stdout",
     "output_type": "stream",
     "text": [
      "Saving results in F:\\ar353rdday\\2021_07_16...\n",
      "Saving csv poses!\n",
      "Starting to analyze %  F:\\ar353rdday\\2021_07_16\\26.avi\n",
      "F:\\ar353rdday\\2021_07_16  already exists!\n",
      "Loading  F:\\ar353rdday\\2021_07_16\\26.avi\n",
      "Duration of video [s]:  12.5 , recorded with  40.0 fps!\n",
      "Overall # of frames:  500  found with (before cropping) frame dimensions:  1440 484\n",
      "Starting to extract posture\n"
     ]
    },
    {
     "name": "stderr",
     "output_type": "stream",
     "text": [
      "510it [00:23, 22.30it/s]                                                                                               "
     ]
    },
    {
     "name": "stdout",
     "output_type": "stream",
     "text": [
      "Detected frames:  500\n"
     ]
    },
    {
     "name": "stderr",
     "output_type": "stream",
     "text": [
      "510it [00:23, 21.65it/s]\n"
     ]
    },
    {
     "name": "stdout",
     "output_type": "stream",
     "text": [
      "Saving results in F:\\ar353rdday\\2021_07_16...\n",
      "Saving csv poses!\n",
      "Starting to analyze %  F:\\ar353rdday\\2021_07_16\\260.avi\n",
      "F:\\ar353rdday\\2021_07_16  already exists!\n",
      "Loading  F:\\ar353rdday\\2021_07_16\\260.avi\n",
      "Duration of video [s]:  12.5 , recorded with  40.0 fps!\n",
      "Overall # of frames:  500  found with (before cropping) frame dimensions:  1440 484\n",
      "Starting to extract posture\n"
     ]
    },
    {
     "name": "stderr",
     "output_type": "stream",
     "text": [
      "510it [00:23, 22.67it/s]                                                                                               "
     ]
    },
    {
     "name": "stdout",
     "output_type": "stream",
     "text": [
      "Detected frames:  500\n"
     ]
    },
    {
     "name": "stderr",
     "output_type": "stream",
     "text": [
      "510it [00:23, 21.81it/s]\n"
     ]
    },
    {
     "name": "stdout",
     "output_type": "stream",
     "text": [
      "Saving results in F:\\ar353rdday\\2021_07_16...\n",
      "Saving csv poses!\n",
      "Starting to analyze %  F:\\ar353rdday\\2021_07_16\\261.avi\n",
      "F:\\ar353rdday\\2021_07_16  already exists!\n",
      "Loading  F:\\ar353rdday\\2021_07_16\\261.avi\n",
      "Duration of video [s]:  12.5 , recorded with  40.0 fps!\n",
      "Overall # of frames:  500  found with (before cropping) frame dimensions:  1440 484\n",
      "Starting to extract posture\n"
     ]
    },
    {
     "name": "stderr",
     "output_type": "stream",
     "text": [
      "510it [00:23, 22.85it/s]                                                                                               "
     ]
    },
    {
     "name": "stdout",
     "output_type": "stream",
     "text": [
      "Detected frames:  500\n"
     ]
    },
    {
     "name": "stderr",
     "output_type": "stream",
     "text": [
      "510it [00:23, 21.84it/s]\n"
     ]
    },
    {
     "name": "stdout",
     "output_type": "stream",
     "text": [
      "Saving results in F:\\ar353rdday\\2021_07_16...\n",
      "Saving csv poses!\n",
      "Starting to analyze %  F:\\ar353rdday\\2021_07_16\\262.avi\n",
      "F:\\ar353rdday\\2021_07_16  already exists!\n",
      "Loading  F:\\ar353rdday\\2021_07_16\\262.avi\n",
      "Duration of video [s]:  12.5 , recorded with  40.0 fps!\n",
      "Overall # of frames:  500  found with (before cropping) frame dimensions:  1440 484\n",
      "Starting to extract posture\n"
     ]
    },
    {
     "name": "stderr",
     "output_type": "stream",
     "text": [
      "510it [00:22, 22.62it/s]                                                                                               "
     ]
    },
    {
     "name": "stdout",
     "output_type": "stream",
     "text": [
      "Detected frames:  500\n"
     ]
    },
    {
     "name": "stderr",
     "output_type": "stream",
     "text": [
      "510it [00:23, 21.93it/s]\n"
     ]
    },
    {
     "name": "stdout",
     "output_type": "stream",
     "text": [
      "Saving results in F:\\ar353rdday\\2021_07_16...\n",
      "Saving csv poses!\n",
      "Starting to analyze %  F:\\ar353rdday\\2021_07_16\\263.avi\n",
      "F:\\ar353rdday\\2021_07_16  already exists!\n",
      "Loading  F:\\ar353rdday\\2021_07_16\\263.avi\n",
      "Duration of video [s]:  12.5 , recorded with  40.0 fps!\n",
      "Overall # of frames:  500  found with (before cropping) frame dimensions:  1440 484\n",
      "Starting to extract posture\n"
     ]
    },
    {
     "name": "stderr",
     "output_type": "stream",
     "text": [
      "510it [00:23, 22.52it/s]                                                                                               "
     ]
    },
    {
     "name": "stdout",
     "output_type": "stream",
     "text": [
      "Detected frames:  500\n"
     ]
    },
    {
     "name": "stderr",
     "output_type": "stream",
     "text": [
      "510it [00:23, 21.80it/s]\n"
     ]
    },
    {
     "name": "stdout",
     "output_type": "stream",
     "text": [
      "Saving results in F:\\ar353rdday\\2021_07_16...\n",
      "Saving csv poses!\n",
      "Starting to analyze %  F:\\ar353rdday\\2021_07_16\\264.avi\n",
      "F:\\ar353rdday\\2021_07_16  already exists!\n",
      "Loading  F:\\ar353rdday\\2021_07_16\\264.avi\n",
      "Duration of video [s]:  12.5 , recorded with  40.0 fps!\n",
      "Overall # of frames:  500  found with (before cropping) frame dimensions:  1440 484\n",
      "Starting to extract posture\n"
     ]
    },
    {
     "name": "stderr",
     "output_type": "stream",
     "text": [
      "510it [00:23, 22.49it/s]                                                                                               "
     ]
    },
    {
     "name": "stdout",
     "output_type": "stream",
     "text": [
      "Detected frames:  500\n"
     ]
    },
    {
     "name": "stderr",
     "output_type": "stream",
     "text": [
      "510it [00:23, 21.71it/s]\n"
     ]
    },
    {
     "name": "stdout",
     "output_type": "stream",
     "text": [
      "Saving results in F:\\ar353rdday\\2021_07_16...\n",
      "Saving csv poses!\n",
      "Starting to analyze %  F:\\ar353rdday\\2021_07_16\\265.avi\n",
      "F:\\ar353rdday\\2021_07_16  already exists!\n",
      "Loading  F:\\ar353rdday\\2021_07_16\\265.avi\n",
      "Duration of video [s]:  12.5 , recorded with  40.0 fps!\n",
      "Overall # of frames:  500  found with (before cropping) frame dimensions:  1440 484\n",
      "Starting to extract posture\n"
     ]
    },
    {
     "name": "stderr",
     "output_type": "stream",
     "text": [
      "510it [00:23, 21.93it/s]                                                                                               "
     ]
    },
    {
     "name": "stdout",
     "output_type": "stream",
     "text": [
      "Detected frames:  500\n"
     ]
    },
    {
     "name": "stderr",
     "output_type": "stream",
     "text": [
      "510it [00:23, 21.63it/s]\n"
     ]
    },
    {
     "name": "stdout",
     "output_type": "stream",
     "text": [
      "Saving results in F:\\ar353rdday\\2021_07_16...\n",
      "Saving csv poses!\n",
      "Starting to analyze %  F:\\ar353rdday\\2021_07_16\\266.avi\n",
      "F:\\ar353rdday\\2021_07_16  already exists!\n",
      "Loading  F:\\ar353rdday\\2021_07_16\\266.avi\n",
      "Duration of video [s]:  12.5 , recorded with  40.0 fps!\n",
      "Overall # of frames:  500  found with (before cropping) frame dimensions:  1440 484\n",
      "Starting to extract posture\n"
     ]
    },
    {
     "name": "stderr",
     "output_type": "stream",
     "text": [
      "510it [00:23, 22.25it/s]                                                                                               "
     ]
    },
    {
     "name": "stdout",
     "output_type": "stream",
     "text": [
      "Detected frames:  500\n"
     ]
    },
    {
     "name": "stderr",
     "output_type": "stream",
     "text": [
      "510it [00:23, 21.58it/s]\n"
     ]
    },
    {
     "name": "stdout",
     "output_type": "stream",
     "text": [
      "Saving results in F:\\ar353rdday\\2021_07_16...\n",
      "Saving csv poses!\n",
      "Starting to analyze %  F:\\ar353rdday\\2021_07_16\\267.avi\n",
      "F:\\ar353rdday\\2021_07_16  already exists!\n",
      "Loading  F:\\ar353rdday\\2021_07_16\\267.avi\n",
      "Duration of video [s]:  12.5 , recorded with  40.0 fps!\n",
      "Overall # of frames:  500  found with (before cropping) frame dimensions:  1440 484\n",
      "Starting to extract posture\n"
     ]
    },
    {
     "name": "stderr",
     "output_type": "stream",
     "text": [
      "510it [00:23, 22.20it/s]                                                                                               "
     ]
    },
    {
     "name": "stdout",
     "output_type": "stream",
     "text": [
      "Detected frames:  500\n"
     ]
    },
    {
     "name": "stderr",
     "output_type": "stream",
     "text": [
      "510it [00:23, 21.44it/s]\n"
     ]
    },
    {
     "name": "stdout",
     "output_type": "stream",
     "text": [
      "Saving results in F:\\ar353rdday\\2021_07_16...\n",
      "Saving csv poses!\n",
      "Starting to analyze %  F:\\ar353rdday\\2021_07_16\\268.avi\n",
      "F:\\ar353rdday\\2021_07_16  already exists!\n",
      "Loading  F:\\ar353rdday\\2021_07_16\\268.avi\n",
      "Duration of video [s]:  12.5 , recorded with  40.0 fps!\n",
      "Overall # of frames:  500  found with (before cropping) frame dimensions:  1440 484\n",
      "Starting to extract posture\n"
     ]
    },
    {
     "name": "stderr",
     "output_type": "stream",
     "text": [
      "510it [00:23, 22.28it/s]                                                                                               "
     ]
    },
    {
     "name": "stdout",
     "output_type": "stream",
     "text": [
      "Detected frames:  500\n"
     ]
    },
    {
     "name": "stderr",
     "output_type": "stream",
     "text": [
      "510it [00:23, 21.42it/s]\n"
     ]
    },
    {
     "name": "stdout",
     "output_type": "stream",
     "text": [
      "Saving results in F:\\ar353rdday\\2021_07_16...\n",
      "Saving csv poses!\n",
      "Starting to analyze %  F:\\ar353rdday\\2021_07_16\\269.avi\n",
      "F:\\ar353rdday\\2021_07_16  already exists!\n",
      "Loading  F:\\ar353rdday\\2021_07_16\\269.avi\n",
      "Duration of video [s]:  12.5 , recorded with  40.0 fps!\n",
      "Overall # of frames:  500  found with (before cropping) frame dimensions:  1440 484\n",
      "Starting to extract posture\n"
     ]
    },
    {
     "name": "stderr",
     "output_type": "stream",
     "text": [
      "510it [00:23, 22.06it/s]                                                                                               "
     ]
    },
    {
     "name": "stdout",
     "output_type": "stream",
     "text": [
      "Detected frames:  500\n"
     ]
    },
    {
     "name": "stderr",
     "output_type": "stream",
     "text": [
      "510it [00:23, 21.51it/s]\n"
     ]
    },
    {
     "name": "stdout",
     "output_type": "stream",
     "text": [
      "Saving results in F:\\ar353rdday\\2021_07_16...\n",
      "Saving csv poses!\n",
      "Starting to analyze %  F:\\ar353rdday\\2021_07_16\\27.avi\n",
      "F:\\ar353rdday\\2021_07_16  already exists!\n",
      "Loading  F:\\ar353rdday\\2021_07_16\\27.avi\n",
      "Duration of video [s]:  12.5 , recorded with  40.0 fps!\n",
      "Overall # of frames:  500  found with (before cropping) frame dimensions:  1440 484\n",
      "Starting to extract posture\n"
     ]
    },
    {
     "name": "stderr",
     "output_type": "stream",
     "text": [
      "510it [00:23, 22.10it/s]                                                                                               "
     ]
    },
    {
     "name": "stdout",
     "output_type": "stream",
     "text": [
      "Detected frames:  500\n"
     ]
    },
    {
     "name": "stderr",
     "output_type": "stream",
     "text": [
      "510it [00:23, 21.52it/s]\n"
     ]
    },
    {
     "name": "stdout",
     "output_type": "stream",
     "text": [
      "Saving results in F:\\ar353rdday\\2021_07_16...\n",
      "Saving csv poses!\n",
      "Starting to analyze %  F:\\ar353rdday\\2021_07_16\\270.avi\n",
      "F:\\ar353rdday\\2021_07_16  already exists!\n",
      "Loading  F:\\ar353rdday\\2021_07_16\\270.avi\n",
      "Duration of video [s]:  12.5 , recorded with  40.0 fps!\n",
      "Overall # of frames:  500  found with (before cropping) frame dimensions:  1440 484\n",
      "Starting to extract posture\n"
     ]
    },
    {
     "name": "stderr",
     "output_type": "stream",
     "text": [
      "510it [00:23, 22.03it/s]                                                                                               "
     ]
    },
    {
     "name": "stdout",
     "output_type": "stream",
     "text": [
      "Detected frames:  500\n"
     ]
    },
    {
     "name": "stderr",
     "output_type": "stream",
     "text": [
      "510it [00:23, 21.49it/s]\n"
     ]
    },
    {
     "name": "stdout",
     "output_type": "stream",
     "text": [
      "Saving results in F:\\ar353rdday\\2021_07_16...\n",
      "Saving csv poses!\n",
      "Starting to analyze %  F:\\ar353rdday\\2021_07_16\\271.avi\n",
      "F:\\ar353rdday\\2021_07_16  already exists!\n",
      "Loading  F:\\ar353rdday\\2021_07_16\\271.avi\n",
      "Duration of video [s]:  12.5 , recorded with  40.0 fps!\n",
      "Overall # of frames:  500  found with (before cropping) frame dimensions:  1440 484\n",
      "Starting to extract posture\n"
     ]
    },
    {
     "name": "stderr",
     "output_type": "stream",
     "text": [
      "510it [00:23, 22.07it/s]                                                                                               "
     ]
    },
    {
     "name": "stdout",
     "output_type": "stream",
     "text": [
      "Detected frames:  500\n"
     ]
    },
    {
     "name": "stderr",
     "output_type": "stream",
     "text": [
      "510it [00:23, 21.48it/s]\n"
     ]
    },
    {
     "name": "stdout",
     "output_type": "stream",
     "text": [
      "Saving results in F:\\ar353rdday\\2021_07_16...\n",
      "Saving csv poses!\n",
      "Starting to analyze %  F:\\ar353rdday\\2021_07_16\\272.avi\n",
      "F:\\ar353rdday\\2021_07_16  already exists!\n",
      "Loading  F:\\ar353rdday\\2021_07_16\\272.avi\n",
      "Duration of video [s]:  12.5 , recorded with  40.0 fps!\n",
      "Overall # of frames:  500  found with (before cropping) frame dimensions:  1440 484\n",
      "Starting to extract posture\n"
     ]
    },
    {
     "name": "stderr",
     "output_type": "stream",
     "text": [
      "510it [00:23, 22.33it/s]                                                                                               "
     ]
    },
    {
     "name": "stdout",
     "output_type": "stream",
     "text": [
      "Detected frames:  500\n"
     ]
    },
    {
     "name": "stderr",
     "output_type": "stream",
     "text": [
      "510it [00:23, 21.51it/s]\n"
     ]
    },
    {
     "name": "stdout",
     "output_type": "stream",
     "text": [
      "Saving results in F:\\ar353rdday\\2021_07_16...\n",
      "Saving csv poses!\n",
      "Starting to analyze %  F:\\ar353rdday\\2021_07_16\\273.avi\n",
      "F:\\ar353rdday\\2021_07_16  already exists!\n",
      "Loading  F:\\ar353rdday\\2021_07_16\\273.avi\n",
      "Duration of video [s]:  12.5 , recorded with  40.0 fps!\n",
      "Overall # of frames:  500  found with (before cropping) frame dimensions:  1440 484\n",
      "Starting to extract posture\n"
     ]
    },
    {
     "name": "stderr",
     "output_type": "stream",
     "text": [
      "510it [00:23, 22.14it/s]                                                                                               "
     ]
    },
    {
     "name": "stdout",
     "output_type": "stream",
     "text": [
      "Detected frames:  500\n"
     ]
    },
    {
     "name": "stderr",
     "output_type": "stream",
     "text": [
      "510it [00:23, 21.54it/s]\n"
     ]
    },
    {
     "name": "stdout",
     "output_type": "stream",
     "text": [
      "Saving results in F:\\ar353rdday\\2021_07_16...\n",
      "Saving csv poses!\n",
      "Starting to analyze %  F:\\ar353rdday\\2021_07_16\\274.avi\n",
      "F:\\ar353rdday\\2021_07_16  already exists!\n",
      "Loading  F:\\ar353rdday\\2021_07_16\\274.avi\n",
      "Duration of video [s]:  12.5 , recorded with  40.0 fps!\n",
      "Overall # of frames:  500  found with (before cropping) frame dimensions:  1440 484\n",
      "Starting to extract posture\n"
     ]
    },
    {
     "name": "stderr",
     "output_type": "stream",
     "text": [
      "510it [00:23, 22.02it/s]                                                                                               "
     ]
    },
    {
     "name": "stdout",
     "output_type": "stream",
     "text": [
      "Detected frames:  500\n"
     ]
    },
    {
     "name": "stderr",
     "output_type": "stream",
     "text": [
      "510it [00:23, 21.42it/s]\n"
     ]
    },
    {
     "name": "stdout",
     "output_type": "stream",
     "text": [
      "Saving results in F:\\ar353rdday\\2021_07_16...\n",
      "Saving csv poses!\n",
      "Starting to analyze %  F:\\ar353rdday\\2021_07_16\\275.avi\n",
      "F:\\ar353rdday\\2021_07_16  already exists!\n",
      "Loading  F:\\ar353rdday\\2021_07_16\\275.avi\n",
      "Duration of video [s]:  12.5 , recorded with  40.0 fps!\n",
      "Overall # of frames:  500  found with (before cropping) frame dimensions:  1440 484\n",
      "Starting to extract posture\n"
     ]
    },
    {
     "name": "stderr",
     "output_type": "stream",
     "text": [
      "510it [00:23, 22.15it/s]                                                                                               "
     ]
    },
    {
     "name": "stdout",
     "output_type": "stream",
     "text": [
      "Detected frames:  500\n"
     ]
    },
    {
     "name": "stderr",
     "output_type": "stream",
     "text": [
      "510it [00:23, 21.53it/s]\n"
     ]
    },
    {
     "name": "stdout",
     "output_type": "stream",
     "text": [
      "Saving results in F:\\ar353rdday\\2021_07_16...\n",
      "Saving csv poses!\n",
      "Starting to analyze %  F:\\ar353rdday\\2021_07_16\\276.avi\n",
      "F:\\ar353rdday\\2021_07_16  already exists!\n",
      "Loading  F:\\ar353rdday\\2021_07_16\\276.avi\n",
      "Duration of video [s]:  12.5 , recorded with  40.0 fps!\n",
      "Overall # of frames:  500  found with (before cropping) frame dimensions:  1440 484\n",
      "Starting to extract posture\n"
     ]
    },
    {
     "name": "stderr",
     "output_type": "stream",
     "text": [
      "510it [00:23, 22.48it/s]                                                                                               "
     ]
    },
    {
     "name": "stdout",
     "output_type": "stream",
     "text": [
      "Detected frames:  500\n"
     ]
    },
    {
     "name": "stderr",
     "output_type": "stream",
     "text": [
      "510it [00:23, 21.57it/s]\n"
     ]
    },
    {
     "name": "stdout",
     "output_type": "stream",
     "text": [
      "Saving results in F:\\ar353rdday\\2021_07_16...\n",
      "Saving csv poses!\n",
      "Starting to analyze %  F:\\ar353rdday\\2021_07_16\\277.avi\n",
      "F:\\ar353rdday\\2021_07_16  already exists!\n",
      "Loading  F:\\ar353rdday\\2021_07_16\\277.avi\n",
      "Duration of video [s]:  12.5 , recorded with  40.0 fps!\n",
      "Overall # of frames:  500  found with (before cropping) frame dimensions:  1440 484\n",
      "Starting to extract posture\n"
     ]
    },
    {
     "name": "stderr",
     "output_type": "stream",
     "text": [
      "510it [00:23, 22.41it/s]                                                                                               "
     ]
    },
    {
     "name": "stdout",
     "output_type": "stream",
     "text": [
      "Detected frames:  500\n"
     ]
    },
    {
     "name": "stderr",
     "output_type": "stream",
     "text": [
      "510it [00:23, 21.77it/s]\n"
     ]
    },
    {
     "name": "stdout",
     "output_type": "stream",
     "text": [
      "Saving results in F:\\ar353rdday\\2021_07_16...\n",
      "Saving csv poses!\n",
      "Starting to analyze %  F:\\ar353rdday\\2021_07_16\\278.avi\n",
      "F:\\ar353rdday\\2021_07_16  already exists!\n",
      "Loading  F:\\ar353rdday\\2021_07_16\\278.avi\n",
      "Duration of video [s]:  12.5 , recorded with  40.0 fps!\n",
      "Overall # of frames:  500  found with (before cropping) frame dimensions:  1440 484\n",
      "Starting to extract posture\n"
     ]
    },
    {
     "name": "stderr",
     "output_type": "stream",
     "text": [
      "510it [00:23, 22.18it/s]                                                                                               "
     ]
    },
    {
     "name": "stdout",
     "output_type": "stream",
     "text": [
      "Detected frames:  500\n"
     ]
    },
    {
     "name": "stderr",
     "output_type": "stream",
     "text": [
      "510it [00:23, 21.68it/s]\n"
     ]
    },
    {
     "name": "stdout",
     "output_type": "stream",
     "text": [
      "Saving results in F:\\ar353rdday\\2021_07_16...\n",
      "Saving csv poses!\n",
      "Starting to analyze %  F:\\ar353rdday\\2021_07_16\\279.avi\n",
      "F:\\ar353rdday\\2021_07_16  already exists!\n",
      "Loading  F:\\ar353rdday\\2021_07_16\\279.avi\n",
      "Duration of video [s]:  12.5 , recorded with  40.0 fps!\n",
      "Overall # of frames:  500  found with (before cropping) frame dimensions:  1440 484\n",
      "Starting to extract posture\n"
     ]
    },
    {
     "name": "stderr",
     "output_type": "stream",
     "text": [
      "510it [00:23, 22.51it/s]                                                                                               "
     ]
    },
    {
     "name": "stdout",
     "output_type": "stream",
     "text": [
      "Detected frames:  500\n"
     ]
    },
    {
     "name": "stderr",
     "output_type": "stream",
     "text": [
      "510it [00:23, 21.64it/s]\n"
     ]
    },
    {
     "name": "stdout",
     "output_type": "stream",
     "text": [
      "Saving results in F:\\ar353rdday\\2021_07_16...\n",
      "Saving csv poses!\n",
      "Starting to analyze %  F:\\ar353rdday\\2021_07_16\\28.avi\n",
      "F:\\ar353rdday\\2021_07_16  already exists!\n",
      "Loading  F:\\ar353rdday\\2021_07_16\\28.avi\n",
      "Duration of video [s]:  12.5 , recorded with  40.0 fps!\n",
      "Overall # of frames:  500  found with (before cropping) frame dimensions:  1440 484\n",
      "Starting to extract posture\n"
     ]
    },
    {
     "name": "stderr",
     "output_type": "stream",
     "text": [
      "510it [00:23, 22.62it/s]                                                                                               "
     ]
    },
    {
     "name": "stdout",
     "output_type": "stream",
     "text": [
      "Detected frames:  500\n"
     ]
    },
    {
     "name": "stderr",
     "output_type": "stream",
     "text": [
      "510it [00:23, 21.65it/s]\n"
     ]
    },
    {
     "name": "stdout",
     "output_type": "stream",
     "text": [
      "Saving results in F:\\ar353rdday\\2021_07_16...\n",
      "Saving csv poses!\n",
      "Starting to analyze %  F:\\ar353rdday\\2021_07_16\\280.avi\n",
      "F:\\ar353rdday\\2021_07_16  already exists!\n",
      "Loading  F:\\ar353rdday\\2021_07_16\\280.avi\n",
      "Duration of video [s]:  12.5 , recorded with  40.0 fps!\n",
      "Overall # of frames:  500  found with (before cropping) frame dimensions:  1440 484\n",
      "Starting to extract posture\n"
     ]
    },
    {
     "name": "stderr",
     "output_type": "stream",
     "text": [
      "510it [00:23, 22.30it/s]                                                                                               "
     ]
    },
    {
     "name": "stdout",
     "output_type": "stream",
     "text": [
      "Detected frames:  500\n"
     ]
    },
    {
     "name": "stderr",
     "output_type": "stream",
     "text": [
      "510it [00:23, 21.71it/s]\n"
     ]
    },
    {
     "name": "stdout",
     "output_type": "stream",
     "text": [
      "Saving results in F:\\ar353rdday\\2021_07_16...\n",
      "Saving csv poses!\n",
      "Starting to analyze %  F:\\ar353rdday\\2021_07_16\\281.avi\n",
      "F:\\ar353rdday\\2021_07_16  already exists!\n",
      "Loading  F:\\ar353rdday\\2021_07_16\\281.avi\n",
      "Duration of video [s]:  12.5 , recorded with  40.0 fps!\n",
      "Overall # of frames:  500  found with (before cropping) frame dimensions:  1440 484\n",
      "Starting to extract posture\n"
     ]
    },
    {
     "name": "stderr",
     "output_type": "stream",
     "text": [
      "510it [00:23, 22.00it/s]                                                                                               "
     ]
    },
    {
     "name": "stdout",
     "output_type": "stream",
     "text": [
      "Detected frames:  500\n"
     ]
    },
    {
     "name": "stderr",
     "output_type": "stream",
     "text": [
      "510it [00:23, 21.58it/s]\n"
     ]
    },
    {
     "name": "stdout",
     "output_type": "stream",
     "text": [
      "Saving results in F:\\ar353rdday\\2021_07_16...\n",
      "Saving csv poses!\n",
      "Starting to analyze %  F:\\ar353rdday\\2021_07_16\\282.avi\n",
      "F:\\ar353rdday\\2021_07_16  already exists!\n",
      "Loading  F:\\ar353rdday\\2021_07_16\\282.avi\n",
      "Duration of video [s]:  12.5 , recorded with  40.0 fps!\n",
      "Overall # of frames:  500  found with (before cropping) frame dimensions:  1440 484\n",
      "Starting to extract posture\n"
     ]
    },
    {
     "name": "stderr",
     "output_type": "stream",
     "text": [
      "510it [00:23, 22.05it/s]                                                                                               "
     ]
    },
    {
     "name": "stdout",
     "output_type": "stream",
     "text": [
      "Detected frames:  500\n"
     ]
    },
    {
     "name": "stderr",
     "output_type": "stream",
     "text": [
      "510it [00:23, 21.63it/s]\n"
     ]
    },
    {
     "name": "stdout",
     "output_type": "stream",
     "text": [
      "Saving results in F:\\ar353rdday\\2021_07_16...\n",
      "Saving csv poses!\n",
      "Starting to analyze %  F:\\ar353rdday\\2021_07_16\\283.avi\n",
      "F:\\ar353rdday\\2021_07_16  already exists!\n",
      "Loading  F:\\ar353rdday\\2021_07_16\\283.avi\n",
      "Duration of video [s]:  12.5 , recorded with  40.0 fps!\n",
      "Overall # of frames:  500  found with (before cropping) frame dimensions:  1440 484\n",
      "Starting to extract posture\n"
     ]
    },
    {
     "name": "stderr",
     "output_type": "stream",
     "text": [
      "510it [00:23, 22.57it/s]                                                                                               "
     ]
    },
    {
     "name": "stdout",
     "output_type": "stream",
     "text": [
      "Detected frames:  500\n"
     ]
    },
    {
     "name": "stderr",
     "output_type": "stream",
     "text": [
      "510it [00:23, 21.60it/s]\n"
     ]
    },
    {
     "name": "stdout",
     "output_type": "stream",
     "text": [
      "Saving results in F:\\ar353rdday\\2021_07_16...\n",
      "Saving csv poses!\n",
      "Starting to analyze %  F:\\ar353rdday\\2021_07_16\\284.avi\n",
      "F:\\ar353rdday\\2021_07_16  already exists!\n",
      "Loading  F:\\ar353rdday\\2021_07_16\\284.avi\n",
      "Duration of video [s]:  12.5 , recorded with  40.0 fps!\n",
      "Overall # of frames:  500  found with (before cropping) frame dimensions:  1440 484\n",
      "Starting to extract posture\n"
     ]
    },
    {
     "name": "stderr",
     "output_type": "stream",
     "text": [
      "510it [00:23, 22.60it/s]                                                                                               "
     ]
    },
    {
     "name": "stdout",
     "output_type": "stream",
     "text": [
      "Detected frames:  500\n"
     ]
    },
    {
     "name": "stderr",
     "output_type": "stream",
     "text": [
      "510it [00:23, 21.64it/s]\n"
     ]
    },
    {
     "name": "stdout",
     "output_type": "stream",
     "text": [
      "Saving results in F:\\ar353rdday\\2021_07_16...\n",
      "Saving csv poses!\n",
      "Starting to analyze %  F:\\ar353rdday\\2021_07_16\\285.avi\n",
      "F:\\ar353rdday\\2021_07_16  already exists!\n",
      "Loading  F:\\ar353rdday\\2021_07_16\\285.avi\n",
      "Duration of video [s]:  12.5 , recorded with  40.0 fps!\n",
      "Overall # of frames:  500  found with (before cropping) frame dimensions:  1440 484\n",
      "Starting to extract posture\n"
     ]
    },
    {
     "name": "stderr",
     "output_type": "stream",
     "text": [
      "510it [00:23, 22.22it/s]                                                                                               "
     ]
    },
    {
     "name": "stdout",
     "output_type": "stream",
     "text": [
      "Detected frames:  500\n"
     ]
    },
    {
     "name": "stderr",
     "output_type": "stream",
     "text": [
      "510it [00:23, 21.59it/s]\n"
     ]
    },
    {
     "name": "stdout",
     "output_type": "stream",
     "text": [
      "Saving results in F:\\ar353rdday\\2021_07_16...\n",
      "Saving csv poses!\n",
      "Starting to analyze %  F:\\ar353rdday\\2021_07_16\\29.avi\n",
      "F:\\ar353rdday\\2021_07_16  already exists!\n",
      "Loading  F:\\ar353rdday\\2021_07_16\\29.avi\n",
      "Duration of video [s]:  12.5 , recorded with  40.0 fps!\n",
      "Overall # of frames:  500  found with (before cropping) frame dimensions:  1440 484\n",
      "Starting to extract posture\n"
     ]
    },
    {
     "name": "stderr",
     "output_type": "stream",
     "text": [
      "510it [00:23, 22.31it/s]                                                                                               "
     ]
    },
    {
     "name": "stdout",
     "output_type": "stream",
     "text": [
      "Detected frames:  500\n"
     ]
    },
    {
     "name": "stderr",
     "output_type": "stream",
     "text": [
      "510it [00:23, 21.74it/s]\n"
     ]
    },
    {
     "name": "stdout",
     "output_type": "stream",
     "text": [
      "Saving results in F:\\ar353rdday\\2021_07_16...\n",
      "Saving csv poses!\n",
      "Starting to analyze %  F:\\ar353rdday\\2021_07_16\\3.avi\n",
      "F:\\ar353rdday\\2021_07_16  already exists!\n",
      "Loading  F:\\ar353rdday\\2021_07_16\\3.avi\n",
      "Duration of video [s]:  12.5 , recorded with  40.0 fps!\n",
      "Overall # of frames:  500  found with (before cropping) frame dimensions:  1440 484\n",
      "Starting to extract posture\n"
     ]
    },
    {
     "name": "stderr",
     "output_type": "stream",
     "text": [
      "510it [00:23, 22.34it/s]                                                                                               "
     ]
    },
    {
     "name": "stdout",
     "output_type": "stream",
     "text": [
      "Detected frames:  500\n"
     ]
    },
    {
     "name": "stderr",
     "output_type": "stream",
     "text": [
      "510it [00:23, 21.69it/s]\n"
     ]
    },
    {
     "name": "stdout",
     "output_type": "stream",
     "text": [
      "Saving results in F:\\ar353rdday\\2021_07_16...\n",
      "Saving csv poses!\n",
      "Starting to analyze %  F:\\ar353rdday\\2021_07_16\\30.avi\n",
      "F:\\ar353rdday\\2021_07_16  already exists!\n",
      "Loading  F:\\ar353rdday\\2021_07_16\\30.avi\n",
      "Duration of video [s]:  12.5 , recorded with  40.0 fps!\n",
      "Overall # of frames:  500  found with (before cropping) frame dimensions:  1440 484\n",
      "Starting to extract posture\n"
     ]
    },
    {
     "name": "stderr",
     "output_type": "stream",
     "text": [
      "510it [00:23, 21.92it/s]                                                                                               "
     ]
    },
    {
     "name": "stdout",
     "output_type": "stream",
     "text": [
      "Detected frames:  500\n"
     ]
    },
    {
     "name": "stderr",
     "output_type": "stream",
     "text": [
      "510it [00:23, 21.58it/s]\n"
     ]
    },
    {
     "name": "stdout",
     "output_type": "stream",
     "text": [
      "Saving results in F:\\ar353rdday\\2021_07_16...\n",
      "Saving csv poses!\n",
      "Starting to analyze %  F:\\ar353rdday\\2021_07_16\\31.avi\n",
      "F:\\ar353rdday\\2021_07_16  already exists!\n",
      "Loading  F:\\ar353rdday\\2021_07_16\\31.avi\n",
      "Duration of video [s]:  12.5 , recorded with  40.0 fps!\n",
      "Overall # of frames:  500  found with (before cropping) frame dimensions:  1440 484\n",
      "Starting to extract posture\n"
     ]
    },
    {
     "name": "stderr",
     "output_type": "stream",
     "text": [
      "510it [00:23, 22.35it/s]                                                                                               "
     ]
    },
    {
     "name": "stdout",
     "output_type": "stream",
     "text": [
      "Detected frames:  500\n"
     ]
    },
    {
     "name": "stderr",
     "output_type": "stream",
     "text": [
      "510it [00:23, 21.65it/s]\n"
     ]
    },
    {
     "name": "stdout",
     "output_type": "stream",
     "text": [
      "Saving results in F:\\ar353rdday\\2021_07_16...\n",
      "Saving csv poses!\n",
      "Starting to analyze %  F:\\ar353rdday\\2021_07_16\\32.avi\n",
      "F:\\ar353rdday\\2021_07_16  already exists!\n",
      "Loading  F:\\ar353rdday\\2021_07_16\\32.avi\n",
      "Duration of video [s]:  12.5 , recorded with  40.0 fps!\n",
      "Overall # of frames:  500  found with (before cropping) frame dimensions:  1440 484\n",
      "Starting to extract posture\n"
     ]
    },
    {
     "name": "stderr",
     "output_type": "stream",
     "text": [
      "510it [00:23, 22.29it/s]                                                                                               "
     ]
    },
    {
     "name": "stdout",
     "output_type": "stream",
     "text": [
      "Detected frames:  500\n"
     ]
    },
    {
     "name": "stderr",
     "output_type": "stream",
     "text": [
      "510it [00:23, 21.63it/s]\n"
     ]
    },
    {
     "name": "stdout",
     "output_type": "stream",
     "text": [
      "Saving results in F:\\ar353rdday\\2021_07_16...\n",
      "Saving csv poses!\n",
      "Starting to analyze %  F:\\ar353rdday\\2021_07_16\\33.avi\n",
      "F:\\ar353rdday\\2021_07_16  already exists!\n",
      "Loading  F:\\ar353rdday\\2021_07_16\\33.avi\n",
      "Duration of video [s]:  12.5 , recorded with  40.0 fps!\n",
      "Overall # of frames:  500  found with (before cropping) frame dimensions:  1440 484\n",
      "Starting to extract posture\n"
     ]
    },
    {
     "name": "stderr",
     "output_type": "stream",
     "text": [
      "510it [00:23, 22.43it/s]                                                                                               "
     ]
    },
    {
     "name": "stdout",
     "output_type": "stream",
     "text": [
      "Detected frames:  500\n"
     ]
    },
    {
     "name": "stderr",
     "output_type": "stream",
     "text": [
      "510it [00:23, 21.73it/s]\n"
     ]
    },
    {
     "name": "stdout",
     "output_type": "stream",
     "text": [
      "Saving results in F:\\ar353rdday\\2021_07_16...\n",
      "Saving csv poses!\n",
      "Starting to analyze %  F:\\ar353rdday\\2021_07_16\\34.avi\n",
      "F:\\ar353rdday\\2021_07_16  already exists!\n",
      "Loading  F:\\ar353rdday\\2021_07_16\\34.avi\n",
      "Duration of video [s]:  12.5 , recorded with  40.0 fps!\n",
      "Overall # of frames:  500  found with (before cropping) frame dimensions:  1440 484\n",
      "Starting to extract posture\n"
     ]
    },
    {
     "name": "stderr",
     "output_type": "stream",
     "text": [
      "510it [00:23, 22.26it/s]                                                                                               "
     ]
    },
    {
     "name": "stdout",
     "output_type": "stream",
     "text": [
      "Detected frames:  500\n"
     ]
    },
    {
     "name": "stderr",
     "output_type": "stream",
     "text": [
      "510it [00:23, 21.64it/s]\n"
     ]
    },
    {
     "name": "stdout",
     "output_type": "stream",
     "text": [
      "Saving results in F:\\ar353rdday\\2021_07_16...\n",
      "Saving csv poses!\n",
      "Starting to analyze %  F:\\ar353rdday\\2021_07_16\\35.avi\n",
      "F:\\ar353rdday\\2021_07_16  already exists!\n",
      "Loading  F:\\ar353rdday\\2021_07_16\\35.avi\n",
      "Duration of video [s]:  12.5 , recorded with  40.0 fps!\n",
      "Overall # of frames:  500  found with (before cropping) frame dimensions:  1440 484\n",
      "Starting to extract posture\n"
     ]
    },
    {
     "name": "stderr",
     "output_type": "stream",
     "text": [
      "510it [00:23, 22.21it/s]                                                                                               "
     ]
    },
    {
     "name": "stdout",
     "output_type": "stream",
     "text": [
      "Detected frames:  500\n"
     ]
    },
    {
     "name": "stderr",
     "output_type": "stream",
     "text": [
      "510it [00:23, 21.58it/s]\n"
     ]
    },
    {
     "name": "stdout",
     "output_type": "stream",
     "text": [
      "Saving results in F:\\ar353rdday\\2021_07_16...\n",
      "Saving csv poses!\n",
      "Starting to analyze %  F:\\ar353rdday\\2021_07_16\\36.avi\n",
      "F:\\ar353rdday\\2021_07_16  already exists!\n",
      "Loading  F:\\ar353rdday\\2021_07_16\\36.avi\n",
      "Duration of video [s]:  12.5 , recorded with  40.0 fps!\n",
      "Overall # of frames:  500  found with (before cropping) frame dimensions:  1440 484\n",
      "Starting to extract posture\n"
     ]
    },
    {
     "name": "stderr",
     "output_type": "stream",
     "text": [
      "510it [00:23, 22.27it/s]                                                                                               "
     ]
    },
    {
     "name": "stdout",
     "output_type": "stream",
     "text": [
      "Detected frames:  500\n"
     ]
    },
    {
     "name": "stderr",
     "output_type": "stream",
     "text": [
      "510it [00:23, 21.54it/s]\n"
     ]
    },
    {
     "name": "stdout",
     "output_type": "stream",
     "text": [
      "Saving results in F:\\ar353rdday\\2021_07_16...\n",
      "Saving csv poses!\n",
      "Starting to analyze %  F:\\ar353rdday\\2021_07_16\\37.avi\n",
      "F:\\ar353rdday\\2021_07_16  already exists!\n",
      "Loading  F:\\ar353rdday\\2021_07_16\\37.avi\n",
      "Duration of video [s]:  12.5 , recorded with  40.0 fps!\n",
      "Overall # of frames:  500  found with (before cropping) frame dimensions:  1440 484\n",
      "Starting to extract posture\n"
     ]
    },
    {
     "name": "stderr",
     "output_type": "stream",
     "text": [
      "510it [00:23, 22.40it/s]                                                                                               "
     ]
    },
    {
     "name": "stdout",
     "output_type": "stream",
     "text": [
      "Detected frames:  500\n"
     ]
    },
    {
     "name": "stderr",
     "output_type": "stream",
     "text": [
      "510it [00:23, 21.81it/s]\n"
     ]
    },
    {
     "name": "stdout",
     "output_type": "stream",
     "text": [
      "Saving results in F:\\ar353rdday\\2021_07_16...\n",
      "Saving csv poses!\n",
      "Starting to analyze %  F:\\ar353rdday\\2021_07_16\\38.avi\n",
      "F:\\ar353rdday\\2021_07_16  already exists!\n",
      "Loading  F:\\ar353rdday\\2021_07_16\\38.avi\n",
      "Duration of video [s]:  12.5 , recorded with  40.0 fps!\n",
      "Overall # of frames:  500  found with (before cropping) frame dimensions:  1440 484\n",
      "Starting to extract posture\n"
     ]
    },
    {
     "name": "stderr",
     "output_type": "stream",
     "text": [
      "510it [00:23, 22.36it/s]                                                                                               "
     ]
    },
    {
     "name": "stdout",
     "output_type": "stream",
     "text": [
      "Detected frames:  500\n"
     ]
    },
    {
     "name": "stderr",
     "output_type": "stream",
     "text": [
      "510it [00:23, 21.74it/s]\n"
     ]
    },
    {
     "name": "stdout",
     "output_type": "stream",
     "text": [
      "Saving results in F:\\ar353rdday\\2021_07_16...\n",
      "Saving csv poses!\n",
      "Starting to analyze %  F:\\ar353rdday\\2021_07_16\\39.avi\n",
      "F:\\ar353rdday\\2021_07_16  already exists!\n",
      "Loading  F:\\ar353rdday\\2021_07_16\\39.avi\n",
      "Duration of video [s]:  12.5 , recorded with  40.0 fps!\n",
      "Overall # of frames:  500  found with (before cropping) frame dimensions:  1440 484\n",
      "Starting to extract posture\n"
     ]
    },
    {
     "name": "stderr",
     "output_type": "stream",
     "text": [
      "510it [00:23, 22.54it/s]                                                                                               "
     ]
    },
    {
     "name": "stdout",
     "output_type": "stream",
     "text": [
      "Detected frames:  500\n"
     ]
    },
    {
     "name": "stderr",
     "output_type": "stream",
     "text": [
      "510it [00:23, 21.70it/s]\n"
     ]
    },
    {
     "name": "stdout",
     "output_type": "stream",
     "text": [
      "Saving results in F:\\ar353rdday\\2021_07_16...\n",
      "Saving csv poses!\n",
      "Starting to analyze %  F:\\ar353rdday\\2021_07_16\\4.avi\n",
      "F:\\ar353rdday\\2021_07_16  already exists!\n",
      "Loading  F:\\ar353rdday\\2021_07_16\\4.avi\n",
      "Duration of video [s]:  12.5 , recorded with  40.0 fps!\n",
      "Overall # of frames:  500  found with (before cropping) frame dimensions:  1440 484\n",
      "Starting to extract posture\n"
     ]
    },
    {
     "name": "stderr",
     "output_type": "stream",
     "text": [
      "510it [00:23, 22.32it/s]                                                                                               "
     ]
    },
    {
     "name": "stdout",
     "output_type": "stream",
     "text": [
      "Detected frames:  500\n"
     ]
    },
    {
     "name": "stderr",
     "output_type": "stream",
     "text": [
      "510it [00:23, 21.61it/s]\n"
     ]
    },
    {
     "name": "stdout",
     "output_type": "stream",
     "text": [
      "Saving results in F:\\ar353rdday\\2021_07_16...\n",
      "Saving csv poses!\n",
      "Starting to analyze %  F:\\ar353rdday\\2021_07_16\\40.avi\n",
      "F:\\ar353rdday\\2021_07_16  already exists!\n",
      "Loading  F:\\ar353rdday\\2021_07_16\\40.avi\n",
      "Duration of video [s]:  12.5 , recorded with  40.0 fps!\n",
      "Overall # of frames:  500  found with (before cropping) frame dimensions:  1440 484\n",
      "Starting to extract posture\n"
     ]
    },
    {
     "name": "stderr",
     "output_type": "stream",
     "text": [
      "510it [00:23, 22.23it/s]                                                                                               "
     ]
    },
    {
     "name": "stdout",
     "output_type": "stream",
     "text": [
      "Detected frames:  500\n"
     ]
    },
    {
     "name": "stderr",
     "output_type": "stream",
     "text": [
      "510it [00:23, 21.78it/s]\n"
     ]
    },
    {
     "name": "stdout",
     "output_type": "stream",
     "text": [
      "Saving results in F:\\ar353rdday\\2021_07_16...\n",
      "Saving csv poses!\n",
      "Starting to analyze %  F:\\ar353rdday\\2021_07_16\\41.avi\n",
      "F:\\ar353rdday\\2021_07_16  already exists!\n",
      "Loading  F:\\ar353rdday\\2021_07_16\\41.avi\n",
      "Duration of video [s]:  12.5 , recorded with  40.0 fps!\n",
      "Overall # of frames:  500  found with (before cropping) frame dimensions:  1440 484\n",
      "Starting to extract posture\n"
     ]
    },
    {
     "name": "stderr",
     "output_type": "stream",
     "text": [
      "510it [00:23, 22.58it/s]                                                                                               "
     ]
    },
    {
     "name": "stdout",
     "output_type": "stream",
     "text": [
      "Detected frames:  500\n"
     ]
    },
    {
     "name": "stderr",
     "output_type": "stream",
     "text": [
      "510it [00:23, 21.72it/s]\n"
     ]
    },
    {
     "name": "stdout",
     "output_type": "stream",
     "text": [
      "Saving results in F:\\ar353rdday\\2021_07_16...\n",
      "Saving csv poses!\n",
      "Starting to analyze %  F:\\ar353rdday\\2021_07_16\\42.avi\n",
      "F:\\ar353rdday\\2021_07_16  already exists!\n",
      "Loading  F:\\ar353rdday\\2021_07_16\\42.avi\n",
      "Duration of video [s]:  12.5 , recorded with  40.0 fps!\n",
      "Overall # of frames:  500  found with (before cropping) frame dimensions:  1440 484\n",
      "Starting to extract posture\n"
     ]
    },
    {
     "name": "stderr",
     "output_type": "stream",
     "text": [
      "510it [00:23, 22.13it/s]                                                                                               "
     ]
    },
    {
     "name": "stdout",
     "output_type": "stream",
     "text": [
      "Detected frames:  500\n"
     ]
    },
    {
     "name": "stderr",
     "output_type": "stream",
     "text": [
      "510it [00:23, 21.63it/s]\n"
     ]
    },
    {
     "name": "stdout",
     "output_type": "stream",
     "text": [
      "Saving results in F:\\ar353rdday\\2021_07_16...\n",
      "Saving csv poses!\n",
      "Starting to analyze %  F:\\ar353rdday\\2021_07_16\\43.avi\n",
      "F:\\ar353rdday\\2021_07_16  already exists!\n",
      "Loading  F:\\ar353rdday\\2021_07_16\\43.avi\n",
      "Duration of video [s]:  12.5 , recorded with  40.0 fps!\n",
      "Overall # of frames:  500  found with (before cropping) frame dimensions:  1440 484\n",
      "Starting to extract posture\n"
     ]
    },
    {
     "name": "stderr",
     "output_type": "stream",
     "text": [
      "510it [00:23, 22.48it/s]                                                                                               "
     ]
    },
    {
     "name": "stdout",
     "output_type": "stream",
     "text": [
      "Detected frames:  500\n"
     ]
    },
    {
     "name": "stderr",
     "output_type": "stream",
     "text": [
      "510it [00:23, 21.60it/s]\n"
     ]
    },
    {
     "name": "stdout",
     "output_type": "stream",
     "text": [
      "Saving results in F:\\ar353rdday\\2021_07_16...\n",
      "Saving csv poses!\n",
      "Starting to analyze %  F:\\ar353rdday\\2021_07_16\\44.avi\n",
      "F:\\ar353rdday\\2021_07_16  already exists!\n",
      "Loading  F:\\ar353rdday\\2021_07_16\\44.avi\n",
      "Duration of video [s]:  12.5 , recorded with  40.0 fps!\n",
      "Overall # of frames:  500  found with (before cropping) frame dimensions:  1440 484\n",
      "Starting to extract posture\n"
     ]
    },
    {
     "name": "stderr",
     "output_type": "stream",
     "text": [
      "510it [00:23, 22.16it/s]                                                                                               "
     ]
    },
    {
     "name": "stdout",
     "output_type": "stream",
     "text": [
      "Detected frames:  500\n"
     ]
    },
    {
     "name": "stderr",
     "output_type": "stream",
     "text": [
      "510it [00:23, 21.63it/s]\n"
     ]
    },
    {
     "name": "stdout",
     "output_type": "stream",
     "text": [
      "Saving results in F:\\ar353rdday\\2021_07_16...\n",
      "Saving csv poses!\n",
      "Starting to analyze %  F:\\ar353rdday\\2021_07_16\\45.avi\n",
      "F:\\ar353rdday\\2021_07_16  already exists!\n",
      "Loading  F:\\ar353rdday\\2021_07_16\\45.avi\n",
      "Duration of video [s]:  12.5 , recorded with  40.0 fps!\n",
      "Overall # of frames:  500  found with (before cropping) frame dimensions:  1440 484\n",
      "Starting to extract posture\n"
     ]
    },
    {
     "name": "stderr",
     "output_type": "stream",
     "text": [
      "510it [00:23, 22.61it/s]                                                                                               "
     ]
    },
    {
     "name": "stdout",
     "output_type": "stream",
     "text": [
      "Detected frames:  500\n"
     ]
    },
    {
     "name": "stderr",
     "output_type": "stream",
     "text": [
      "510it [00:23, 21.51it/s]\n"
     ]
    },
    {
     "name": "stdout",
     "output_type": "stream",
     "text": [
      "Saving results in F:\\ar353rdday\\2021_07_16...\n",
      "Saving csv poses!\n",
      "Starting to analyze %  F:\\ar353rdday\\2021_07_16\\46.avi\n",
      "F:\\ar353rdday\\2021_07_16  already exists!\n",
      "Loading  F:\\ar353rdday\\2021_07_16\\46.avi\n",
      "Duration of video [s]:  12.5 , recorded with  40.0 fps!\n",
      "Overall # of frames:  500  found with (before cropping) frame dimensions:  1440 484\n",
      "Starting to extract posture\n"
     ]
    },
    {
     "name": "stderr",
     "output_type": "stream",
     "text": [
      "510it [00:23, 22.17it/s]                                                                                               "
     ]
    },
    {
     "name": "stdout",
     "output_type": "stream",
     "text": [
      "Detected frames:  500\n"
     ]
    },
    {
     "name": "stderr",
     "output_type": "stream",
     "text": [
      "510it [00:23, 21.64it/s]\n"
     ]
    },
    {
     "name": "stdout",
     "output_type": "stream",
     "text": [
      "Saving results in F:\\ar353rdday\\2021_07_16...\n",
      "Saving csv poses!\n",
      "Starting to analyze %  F:\\ar353rdday\\2021_07_16\\47.avi\n",
      "F:\\ar353rdday\\2021_07_16  already exists!\n",
      "Loading  F:\\ar353rdday\\2021_07_16\\47.avi\n",
      "Duration of video [s]:  12.5 , recorded with  40.0 fps!\n",
      "Overall # of frames:  500  found with (before cropping) frame dimensions:  1440 484\n",
      "Starting to extract posture\n"
     ]
    },
    {
     "name": "stderr",
     "output_type": "stream",
     "text": [
      "510it [00:23, 22.54it/s]                                                                                               "
     ]
    },
    {
     "name": "stdout",
     "output_type": "stream",
     "text": [
      "Detected frames:  500\n"
     ]
    },
    {
     "name": "stderr",
     "output_type": "stream",
     "text": [
      "510it [00:23, 21.59it/s]\n"
     ]
    },
    {
     "name": "stdout",
     "output_type": "stream",
     "text": [
      "Saving results in F:\\ar353rdday\\2021_07_16...\n",
      "Saving csv poses!\n",
      "Starting to analyze %  F:\\ar353rdday\\2021_07_16\\48.avi\n",
      "F:\\ar353rdday\\2021_07_16  already exists!\n",
      "Loading  F:\\ar353rdday\\2021_07_16\\48.avi\n",
      "Duration of video [s]:  12.5 , recorded with  40.0 fps!\n",
      "Overall # of frames:  500  found with (before cropping) frame dimensions:  1440 484\n",
      "Starting to extract posture\n"
     ]
    },
    {
     "name": "stderr",
     "output_type": "stream",
     "text": [
      "510it [00:23, 22.34it/s]                                                                                               "
     ]
    },
    {
     "name": "stdout",
     "output_type": "stream",
     "text": [
      "Detected frames:  500\n"
     ]
    },
    {
     "name": "stderr",
     "output_type": "stream",
     "text": [
      "510it [00:23, 21.73it/s]\n"
     ]
    },
    {
     "name": "stdout",
     "output_type": "stream",
     "text": [
      "Saving results in F:\\ar353rdday\\2021_07_16...\n",
      "Saving csv poses!\n",
      "Starting to analyze %  F:\\ar353rdday\\2021_07_16\\49.avi\n",
      "F:\\ar353rdday\\2021_07_16  already exists!\n",
      "Loading  F:\\ar353rdday\\2021_07_16\\49.avi\n",
      "Duration of video [s]:  12.5 , recorded with  40.0 fps!\n",
      "Overall # of frames:  500  found with (before cropping) frame dimensions:  1440 484\n",
      "Starting to extract posture\n"
     ]
    },
    {
     "name": "stderr",
     "output_type": "stream",
     "text": [
      "510it [00:24, 20.87it/s]                                                                                               "
     ]
    },
    {
     "name": "stdout",
     "output_type": "stream",
     "text": [
      "Detected frames:  500\n"
     ]
    },
    {
     "name": "stderr",
     "output_type": "stream",
     "text": [
      "510it [00:24, 20.79it/s]\n"
     ]
    },
    {
     "name": "stdout",
     "output_type": "stream",
     "text": [
      "Saving results in F:\\ar353rdday\\2021_07_16...\n",
      "Saving csv poses!\n",
      "Starting to analyze %  F:\\ar353rdday\\2021_07_16\\5.avi\n",
      "F:\\ar353rdday\\2021_07_16  already exists!\n",
      "Loading  F:\\ar353rdday\\2021_07_16\\5.avi\n",
      "Duration of video [s]:  12.5 , recorded with  40.0 fps!\n",
      "Overall # of frames:  500  found with (before cropping) frame dimensions:  1440 484\n",
      "Starting to extract posture\n"
     ]
    },
    {
     "name": "stderr",
     "output_type": "stream",
     "text": [
      "510it [00:22, 22.58it/s]                                                                                               "
     ]
    },
    {
     "name": "stdout",
     "output_type": "stream",
     "text": [
      "Detected frames:  500\n"
     ]
    },
    {
     "name": "stderr",
     "output_type": "stream",
     "text": [
      "510it [00:23, 21.92it/s]\n"
     ]
    },
    {
     "name": "stdout",
     "output_type": "stream",
     "text": [
      "Saving results in F:\\ar353rdday\\2021_07_16...\n",
      "Saving csv poses!\n",
      "Starting to analyze %  F:\\ar353rdday\\2021_07_16\\50.avi\n",
      "F:\\ar353rdday\\2021_07_16  already exists!\n",
      "Loading  F:\\ar353rdday\\2021_07_16\\50.avi\n",
      "Duration of video [s]:  12.5 , recorded with  40.0 fps!\n",
      "Overall # of frames:  500  found with (before cropping) frame dimensions:  1440 484\n",
      "Starting to extract posture\n"
     ]
    },
    {
     "name": "stderr",
     "output_type": "stream",
     "text": [
      "510it [00:23, 22.29it/s]                                                                                               "
     ]
    },
    {
     "name": "stdout",
     "output_type": "stream",
     "text": [
      "Detected frames:  500\n"
     ]
    },
    {
     "name": "stderr",
     "output_type": "stream",
     "text": [
      "510it [00:23, 21.73it/s]\n"
     ]
    },
    {
     "name": "stdout",
     "output_type": "stream",
     "text": [
      "Saving results in F:\\ar353rdday\\2021_07_16...\n",
      "Saving csv poses!\n",
      "Starting to analyze %  F:\\ar353rdday\\2021_07_16\\51.avi\n",
      "F:\\ar353rdday\\2021_07_16  already exists!\n",
      "Loading  F:\\ar353rdday\\2021_07_16\\51.avi\n",
      "Duration of video [s]:  12.5 , recorded with  40.0 fps!\n",
      "Overall # of frames:  500  found with (before cropping) frame dimensions:  1440 484\n",
      "Starting to extract posture\n"
     ]
    },
    {
     "name": "stderr",
     "output_type": "stream",
     "text": [
      "510it [00:23, 22.06it/s]                                                                                               "
     ]
    },
    {
     "name": "stdout",
     "output_type": "stream",
     "text": [
      "Detected frames:  500\n"
     ]
    },
    {
     "name": "stderr",
     "output_type": "stream",
     "text": [
      "510it [00:23, 21.55it/s]\n"
     ]
    },
    {
     "name": "stdout",
     "output_type": "stream",
     "text": [
      "Saving results in F:\\ar353rdday\\2021_07_16...\n",
      "Saving csv poses!\n",
      "Starting to analyze %  F:\\ar353rdday\\2021_07_16\\52.avi\n",
      "F:\\ar353rdday\\2021_07_16  already exists!\n",
      "Loading  F:\\ar353rdday\\2021_07_16\\52.avi\n",
      "Duration of video [s]:  12.5 , recorded with  40.0 fps!\n",
      "Overall # of frames:  500  found with (before cropping) frame dimensions:  1440 484\n",
      "Starting to extract posture\n"
     ]
    },
    {
     "name": "stderr",
     "output_type": "stream",
     "text": [
      "510it [00:23, 22.24it/s]                                                                                               "
     ]
    },
    {
     "name": "stdout",
     "output_type": "stream",
     "text": [
      "Detected frames:  500\n"
     ]
    },
    {
     "name": "stderr",
     "output_type": "stream",
     "text": [
      "510it [00:23, 21.58it/s]\n"
     ]
    },
    {
     "name": "stdout",
     "output_type": "stream",
     "text": [
      "Saving results in F:\\ar353rdday\\2021_07_16...\n",
      "Saving csv poses!\n",
      "Starting to analyze %  F:\\ar353rdday\\2021_07_16\\53.avi\n",
      "F:\\ar353rdday\\2021_07_16  already exists!\n",
      "Loading  F:\\ar353rdday\\2021_07_16\\53.avi\n",
      "Duration of video [s]:  12.5 , recorded with  40.0 fps!\n",
      "Overall # of frames:  500  found with (before cropping) frame dimensions:  1440 484\n",
      "Starting to extract posture\n"
     ]
    },
    {
     "name": "stderr",
     "output_type": "stream",
     "text": [
      "510it [00:23, 22.12it/s]                                                                                               "
     ]
    },
    {
     "name": "stdout",
     "output_type": "stream",
     "text": [
      "Detected frames:  500\n"
     ]
    },
    {
     "name": "stderr",
     "output_type": "stream",
     "text": [
      "510it [00:23, 21.54it/s]\n"
     ]
    },
    {
     "name": "stdout",
     "output_type": "stream",
     "text": [
      "Saving results in F:\\ar353rdday\\2021_07_16...\n",
      "Saving csv poses!\n",
      "Starting to analyze %  F:\\ar353rdday\\2021_07_16\\54.avi\n",
      "F:\\ar353rdday\\2021_07_16  already exists!\n",
      "Loading  F:\\ar353rdday\\2021_07_16\\54.avi\n",
      "Duration of video [s]:  12.5 , recorded with  40.0 fps!\n",
      "Overall # of frames:  500  found with (before cropping) frame dimensions:  1440 484\n",
      "Starting to extract posture\n"
     ]
    },
    {
     "name": "stderr",
     "output_type": "stream",
     "text": [
      "510it [00:23, 22.46it/s]                                                                                               "
     ]
    },
    {
     "name": "stdout",
     "output_type": "stream",
     "text": [
      "Detected frames:  500\n"
     ]
    },
    {
     "name": "stderr",
     "output_type": "stream",
     "text": [
      "510it [00:23, 21.51it/s]\n"
     ]
    },
    {
     "name": "stdout",
     "output_type": "stream",
     "text": [
      "Saving results in F:\\ar353rdday\\2021_07_16...\n",
      "Saving csv poses!\n",
      "Starting to analyze %  F:\\ar353rdday\\2021_07_16\\55.avi\n",
      "F:\\ar353rdday\\2021_07_16  already exists!\n",
      "Loading  F:\\ar353rdday\\2021_07_16\\55.avi\n",
      "Duration of video [s]:  12.5 , recorded with  40.0 fps!\n",
      "Overall # of frames:  500  found with (before cropping) frame dimensions:  1440 484\n",
      "Starting to extract posture\n"
     ]
    },
    {
     "name": "stderr",
     "output_type": "stream",
     "text": [
      "510it [00:23, 21.94it/s]                                                                                               "
     ]
    },
    {
     "name": "stdout",
     "output_type": "stream",
     "text": [
      "Detected frames:  500\n"
     ]
    },
    {
     "name": "stderr",
     "output_type": "stream",
     "text": [
      "510it [00:23, 21.47it/s]\n"
     ]
    },
    {
     "name": "stdout",
     "output_type": "stream",
     "text": [
      "Saving results in F:\\ar353rdday\\2021_07_16...\n",
      "Saving csv poses!\n",
      "Starting to analyze %  F:\\ar353rdday\\2021_07_16\\56.avi\n",
      "F:\\ar353rdday\\2021_07_16  already exists!\n",
      "Loading  F:\\ar353rdday\\2021_07_16\\56.avi\n",
      "Duration of video [s]:  12.5 , recorded with  40.0 fps!\n",
      "Overall # of frames:  500  found with (before cropping) frame dimensions:  1440 484\n",
      "Starting to extract posture\n"
     ]
    },
    {
     "name": "stderr",
     "output_type": "stream",
     "text": [
      "510it [00:23, 22.40it/s]                                                                                               "
     ]
    },
    {
     "name": "stdout",
     "output_type": "stream",
     "text": [
      "Detected frames:  500\n"
     ]
    },
    {
     "name": "stderr",
     "output_type": "stream",
     "text": [
      "510it [00:23, 21.50it/s]\n"
     ]
    },
    {
     "name": "stdout",
     "output_type": "stream",
     "text": [
      "Saving results in F:\\ar353rdday\\2021_07_16...\n",
      "Saving csv poses!\n",
      "Starting to analyze %  F:\\ar353rdday\\2021_07_16\\57.avi\n",
      "F:\\ar353rdday\\2021_07_16  already exists!\n",
      "Loading  F:\\ar353rdday\\2021_07_16\\57.avi\n",
      "Duration of video [s]:  12.5 , recorded with  40.0 fps!\n",
      "Overall # of frames:  500  found with (before cropping) frame dimensions:  1440 484\n",
      "Starting to extract posture\n"
     ]
    },
    {
     "name": "stderr",
     "output_type": "stream",
     "text": [
      "510it [00:23, 22.07it/s]                                                                                               "
     ]
    },
    {
     "name": "stdout",
     "output_type": "stream",
     "text": [
      "Detected frames:  500\n"
     ]
    },
    {
     "name": "stderr",
     "output_type": "stream",
     "text": [
      "510it [00:23, 21.46it/s]\n"
     ]
    },
    {
     "name": "stdout",
     "output_type": "stream",
     "text": [
      "Saving results in F:\\ar353rdday\\2021_07_16...\n",
      "Saving csv poses!\n",
      "Starting to analyze %  F:\\ar353rdday\\2021_07_16\\58.avi\n",
      "F:\\ar353rdday\\2021_07_16  already exists!\n",
      "Loading  F:\\ar353rdday\\2021_07_16\\58.avi\n",
      "Duration of video [s]:  12.5 , recorded with  40.0 fps!\n",
      "Overall # of frames:  500  found with (before cropping) frame dimensions:  1440 484\n",
      "Starting to extract posture\n"
     ]
    },
    {
     "name": "stderr",
     "output_type": "stream",
     "text": [
      "510it [00:23, 22.45it/s]                                                                                               "
     ]
    },
    {
     "name": "stdout",
     "output_type": "stream",
     "text": [
      "Detected frames:  500\n"
     ]
    },
    {
     "name": "stderr",
     "output_type": "stream",
     "text": [
      "510it [00:23, 21.46it/s]\n"
     ]
    },
    {
     "name": "stdout",
     "output_type": "stream",
     "text": [
      "Saving results in F:\\ar353rdday\\2021_07_16...\n",
      "Saving csv poses!\n",
      "Starting to analyze %  F:\\ar353rdday\\2021_07_16\\59.avi\n",
      "F:\\ar353rdday\\2021_07_16  already exists!\n",
      "Loading  F:\\ar353rdday\\2021_07_16\\59.avi\n",
      "Duration of video [s]:  12.5 , recorded with  40.0 fps!\n",
      "Overall # of frames:  500  found with (before cropping) frame dimensions:  1440 484\n",
      "Starting to extract posture\n"
     ]
    },
    {
     "name": "stderr",
     "output_type": "stream",
     "text": [
      "510it [00:23, 22.31it/s]                                                                                               "
     ]
    },
    {
     "name": "stdout",
     "output_type": "stream",
     "text": [
      "Detected frames:  500\n"
     ]
    },
    {
     "name": "stderr",
     "output_type": "stream",
     "text": [
      "510it [00:23, 21.61it/s]\n"
     ]
    },
    {
     "name": "stdout",
     "output_type": "stream",
     "text": [
      "Saving results in F:\\ar353rdday\\2021_07_16...\n",
      "Saving csv poses!\n",
      "Starting to analyze %  F:\\ar353rdday\\2021_07_16\\6.avi\n",
      "F:\\ar353rdday\\2021_07_16  already exists!\n",
      "Loading  F:\\ar353rdday\\2021_07_16\\6.avi\n",
      "Duration of video [s]:  12.5 , recorded with  40.0 fps!\n",
      "Overall # of frames:  500  found with (before cropping) frame dimensions:  1440 484\n",
      "Starting to extract posture\n"
     ]
    },
    {
     "name": "stderr",
     "output_type": "stream",
     "text": [
      "510it [00:23, 22.38it/s]                                                                                               "
     ]
    },
    {
     "name": "stdout",
     "output_type": "stream",
     "text": [
      "Detected frames:  500\n"
     ]
    },
    {
     "name": "stderr",
     "output_type": "stream",
     "text": [
      "510it [00:23, 21.56it/s]\n"
     ]
    },
    {
     "name": "stdout",
     "output_type": "stream",
     "text": [
      "Saving results in F:\\ar353rdday\\2021_07_16...\n",
      "Saving csv poses!\n",
      "Starting to analyze %  F:\\ar353rdday\\2021_07_16\\60.avi\n",
      "F:\\ar353rdday\\2021_07_16  already exists!\n",
      "Loading  F:\\ar353rdday\\2021_07_16\\60.avi\n",
      "Duration of video [s]:  12.5 , recorded with  40.0 fps!\n",
      "Overall # of frames:  500  found with (before cropping) frame dimensions:  1440 484\n",
      "Starting to extract posture\n"
     ]
    },
    {
     "name": "stderr",
     "output_type": "stream",
     "text": [
      "510it [00:23, 22.22it/s]                                                                                               "
     ]
    },
    {
     "name": "stdout",
     "output_type": "stream",
     "text": [
      "Detected frames:  500\n"
     ]
    },
    {
     "name": "stderr",
     "output_type": "stream",
     "text": [
      "510it [00:23, 21.49it/s]\n"
     ]
    },
    {
     "name": "stdout",
     "output_type": "stream",
     "text": [
      "Saving results in F:\\ar353rdday\\2021_07_16...\n",
      "Saving csv poses!\n",
      "Starting to analyze %  F:\\ar353rdday\\2021_07_16\\61.avi\n",
      "F:\\ar353rdday\\2021_07_16  already exists!\n",
      "Loading  F:\\ar353rdday\\2021_07_16\\61.avi\n",
      "Duration of video [s]:  12.5 , recorded with  40.0 fps!\n",
      "Overall # of frames:  500  found with (before cropping) frame dimensions:  1440 484\n",
      "Starting to extract posture\n"
     ]
    },
    {
     "name": "stderr",
     "output_type": "stream",
     "text": [
      "510it [00:23, 22.15it/s]                                                                                               "
     ]
    },
    {
     "name": "stdout",
     "output_type": "stream",
     "text": [
      "Detected frames:  500\n"
     ]
    },
    {
     "name": "stderr",
     "output_type": "stream",
     "text": [
      "510it [00:23, 21.61it/s]\n"
     ]
    },
    {
     "name": "stdout",
     "output_type": "stream",
     "text": [
      "Saving results in F:\\ar353rdday\\2021_07_16...\n",
      "Saving csv poses!\n",
      "Starting to analyze %  F:\\ar353rdday\\2021_07_16\\62.avi\n",
      "F:\\ar353rdday\\2021_07_16  already exists!\n",
      "Loading  F:\\ar353rdday\\2021_07_16\\62.avi\n",
      "Duration of video [s]:  12.5 , recorded with  40.0 fps!\n",
      "Overall # of frames:  500  found with (before cropping) frame dimensions:  1440 484\n",
      "Starting to extract posture\n"
     ]
    },
    {
     "name": "stderr",
     "output_type": "stream",
     "text": [
      "510it [00:23, 22.31it/s]                                                                                               "
     ]
    },
    {
     "name": "stdout",
     "output_type": "stream",
     "text": [
      "Detected frames:  500\n"
     ]
    },
    {
     "name": "stderr",
     "output_type": "stream",
     "text": [
      "510it [00:23, 21.68it/s]\n"
     ]
    },
    {
     "name": "stdout",
     "output_type": "stream",
     "text": [
      "Saving results in F:\\ar353rdday\\2021_07_16...\n",
      "Saving csv poses!\n",
      "Starting to analyze %  F:\\ar353rdday\\2021_07_16\\63.avi\n",
      "F:\\ar353rdday\\2021_07_16  already exists!\n",
      "Loading  F:\\ar353rdday\\2021_07_16\\63.avi\n",
      "Duration of video [s]:  12.5 , recorded with  40.0 fps!\n",
      "Overall # of frames:  500  found with (before cropping) frame dimensions:  1440 484\n",
      "Starting to extract posture\n"
     ]
    },
    {
     "name": "stderr",
     "output_type": "stream",
     "text": [
      "510it [00:23, 22.34it/s]                                                                                               "
     ]
    },
    {
     "name": "stdout",
     "output_type": "stream",
     "text": [
      "Detected frames:  500\n"
     ]
    },
    {
     "name": "stderr",
     "output_type": "stream",
     "text": [
      "510it [00:23, 21.57it/s]\n"
     ]
    },
    {
     "name": "stdout",
     "output_type": "stream",
     "text": [
      "Saving results in F:\\ar353rdday\\2021_07_16...\n",
      "Saving csv poses!\n",
      "Starting to analyze %  F:\\ar353rdday\\2021_07_16\\64.avi\n",
      "F:\\ar353rdday\\2021_07_16  already exists!\n",
      "Loading  F:\\ar353rdday\\2021_07_16\\64.avi\n",
      "Duration of video [s]:  12.5 , recorded with  40.0 fps!\n",
      "Overall # of frames:  500  found with (before cropping) frame dimensions:  1440 484\n",
      "Starting to extract posture\n"
     ]
    },
    {
     "name": "stderr",
     "output_type": "stream",
     "text": [
      "510it [00:23, 22.19it/s]                                                                                               "
     ]
    },
    {
     "name": "stdout",
     "output_type": "stream",
     "text": [
      "Detected frames:  500\n"
     ]
    },
    {
     "name": "stderr",
     "output_type": "stream",
     "text": [
      "510it [00:23, 21.51it/s]\n"
     ]
    },
    {
     "name": "stdout",
     "output_type": "stream",
     "text": [
      "Saving results in F:\\ar353rdday\\2021_07_16...\n",
      "Saving csv poses!\n",
      "Starting to analyze %  F:\\ar353rdday\\2021_07_16\\65.avi\n",
      "F:\\ar353rdday\\2021_07_16  already exists!\n",
      "Loading  F:\\ar353rdday\\2021_07_16\\65.avi\n",
      "Duration of video [s]:  12.5 , recorded with  40.0 fps!\n",
      "Overall # of frames:  500  found with (before cropping) frame dimensions:  1440 484\n",
      "Starting to extract posture\n"
     ]
    },
    {
     "name": "stderr",
     "output_type": "stream",
     "text": [
      "510it [00:23, 22.14it/s]                                                                                               "
     ]
    },
    {
     "name": "stdout",
     "output_type": "stream",
     "text": [
      "Detected frames:  500\n"
     ]
    },
    {
     "name": "stderr",
     "output_type": "stream",
     "text": [
      "510it [00:23, 21.52it/s]\n"
     ]
    },
    {
     "name": "stdout",
     "output_type": "stream",
     "text": [
      "Saving results in F:\\ar353rdday\\2021_07_16...\n",
      "Saving csv poses!\n",
      "Starting to analyze %  F:\\ar353rdday\\2021_07_16\\66.avi\n",
      "F:\\ar353rdday\\2021_07_16  already exists!\n",
      "Loading  F:\\ar353rdday\\2021_07_16\\66.avi\n",
      "Duration of video [s]:  12.5 , recorded with  40.0 fps!\n",
      "Overall # of frames:  500  found with (before cropping) frame dimensions:  1440 484\n",
      "Starting to extract posture\n"
     ]
    },
    {
     "name": "stderr",
     "output_type": "stream",
     "text": [
      "510it [00:23, 22.25it/s]                                                                                               "
     ]
    },
    {
     "name": "stdout",
     "output_type": "stream",
     "text": [
      "Detected frames:  500\n"
     ]
    },
    {
     "name": "stderr",
     "output_type": "stream",
     "text": [
      "510it [00:23, 21.49it/s]\n"
     ]
    },
    {
     "name": "stdout",
     "output_type": "stream",
     "text": [
      "Saving results in F:\\ar353rdday\\2021_07_16...\n",
      "Saving csv poses!\n",
      "Starting to analyze %  F:\\ar353rdday\\2021_07_16\\67.avi\n",
      "F:\\ar353rdday\\2021_07_16  already exists!\n",
      "Loading  F:\\ar353rdday\\2021_07_16\\67.avi\n",
      "Duration of video [s]:  12.5 , recorded with  40.0 fps!\n",
      "Overall # of frames:  500  found with (before cropping) frame dimensions:  1440 484\n",
      "Starting to extract posture\n"
     ]
    },
    {
     "name": "stderr",
     "output_type": "stream",
     "text": [
      "510it [00:23, 22.24it/s]                                                                                               "
     ]
    },
    {
     "name": "stdout",
     "output_type": "stream",
     "text": [
      "Detected frames:  500\n"
     ]
    },
    {
     "name": "stderr",
     "output_type": "stream",
     "text": [
      "510it [00:23, 21.59it/s]\n"
     ]
    },
    {
     "name": "stdout",
     "output_type": "stream",
     "text": [
      "Saving results in F:\\ar353rdday\\2021_07_16...\n",
      "Saving csv poses!\n",
      "Starting to analyze %  F:\\ar353rdday\\2021_07_16\\68.avi\n",
      "F:\\ar353rdday\\2021_07_16  already exists!\n",
      "Loading  F:\\ar353rdday\\2021_07_16\\68.avi\n",
      "Duration of video [s]:  12.5 , recorded with  40.0 fps!\n",
      "Overall # of frames:  500  found with (before cropping) frame dimensions:  1440 484\n",
      "Starting to extract posture\n"
     ]
    },
    {
     "name": "stderr",
     "output_type": "stream",
     "text": [
      "510it [00:23, 22.25it/s]                                                                                               "
     ]
    },
    {
     "name": "stdout",
     "output_type": "stream",
     "text": [
      "Detected frames:  500\n"
     ]
    },
    {
     "name": "stderr",
     "output_type": "stream",
     "text": [
      "510it [00:23, 21.54it/s]\n"
     ]
    },
    {
     "name": "stdout",
     "output_type": "stream",
     "text": [
      "Saving results in F:\\ar353rdday\\2021_07_16...\n",
      "Saving csv poses!\n",
      "Starting to analyze %  F:\\ar353rdday\\2021_07_16\\69.avi\n",
      "F:\\ar353rdday\\2021_07_16  already exists!\n",
      "Loading  F:\\ar353rdday\\2021_07_16\\69.avi\n",
      "Duration of video [s]:  12.5 , recorded with  40.0 fps!\n",
      "Overall # of frames:  500  found with (before cropping) frame dimensions:  1440 484\n",
      "Starting to extract posture\n"
     ]
    },
    {
     "name": "stderr",
     "output_type": "stream",
     "text": [
      "510it [00:23, 21.42it/s]                                                                                               "
     ]
    },
    {
     "name": "stdout",
     "output_type": "stream",
     "text": [
      "Detected frames:  500\n"
     ]
    },
    {
     "name": "stderr",
     "output_type": "stream",
     "text": [
      "510it [00:23, 21.49it/s]\n"
     ]
    },
    {
     "name": "stdout",
     "output_type": "stream",
     "text": [
      "Saving results in F:\\ar353rdday\\2021_07_16...\n",
      "Saving csv poses!\n",
      "Starting to analyze %  F:\\ar353rdday\\2021_07_16\\7.avi\n",
      "F:\\ar353rdday\\2021_07_16  already exists!\n",
      "Loading  F:\\ar353rdday\\2021_07_16\\7.avi\n",
      "Duration of video [s]:  12.5 , recorded with  40.0 fps!\n",
      "Overall # of frames:  500  found with (before cropping) frame dimensions:  1440 484\n",
      "Starting to extract posture\n"
     ]
    },
    {
     "name": "stderr",
     "output_type": "stream",
     "text": [
      "510it [00:23, 22.37it/s]                                                                                               "
     ]
    },
    {
     "name": "stdout",
     "output_type": "stream",
     "text": [
      "Detected frames:  500\n"
     ]
    },
    {
     "name": "stderr",
     "output_type": "stream",
     "text": [
      "510it [00:23, 21.57it/s]\n"
     ]
    },
    {
     "name": "stdout",
     "output_type": "stream",
     "text": [
      "Saving results in F:\\ar353rdday\\2021_07_16...\n",
      "Saving csv poses!\n",
      "Starting to analyze %  F:\\ar353rdday\\2021_07_16\\70.avi\n",
      "F:\\ar353rdday\\2021_07_16  already exists!\n",
      "Loading  F:\\ar353rdday\\2021_07_16\\70.avi\n",
      "Duration of video [s]:  12.5 , recorded with  40.0 fps!\n",
      "Overall # of frames:  500  found with (before cropping) frame dimensions:  1440 484\n",
      "Starting to extract posture\n"
     ]
    },
    {
     "name": "stderr",
     "output_type": "stream",
     "text": [
      "510it [00:23, 22.34it/s]                                                                                               "
     ]
    },
    {
     "name": "stdout",
     "output_type": "stream",
     "text": [
      "Detected frames:  500\n"
     ]
    },
    {
     "name": "stderr",
     "output_type": "stream",
     "text": [
      "510it [00:23, 21.52it/s]\n"
     ]
    },
    {
     "name": "stdout",
     "output_type": "stream",
     "text": [
      "Saving results in F:\\ar353rdday\\2021_07_16...\n",
      "Saving csv poses!\n",
      "Starting to analyze %  F:\\ar353rdday\\2021_07_16\\71.avi\n",
      "F:\\ar353rdday\\2021_07_16  already exists!\n",
      "Loading  F:\\ar353rdday\\2021_07_16\\71.avi\n",
      "Duration of video [s]:  12.5 , recorded with  40.0 fps!\n",
      "Overall # of frames:  500  found with (before cropping) frame dimensions:  1440 484\n",
      "Starting to extract posture\n"
     ]
    },
    {
     "name": "stderr",
     "output_type": "stream",
     "text": [
      "510it [00:23, 22.05it/s]                                                                                               "
     ]
    },
    {
     "name": "stdout",
     "output_type": "stream",
     "text": [
      "Detected frames:  500\n"
     ]
    },
    {
     "name": "stderr",
     "output_type": "stream",
     "text": [
      "510it [00:23, 21.43it/s]\n"
     ]
    },
    {
     "name": "stdout",
     "output_type": "stream",
     "text": [
      "Saving results in F:\\ar353rdday\\2021_07_16...\n",
      "Saving csv poses!\n",
      "Starting to analyze %  F:\\ar353rdday\\2021_07_16\\72.avi\n",
      "F:\\ar353rdday\\2021_07_16  already exists!\n",
      "Loading  F:\\ar353rdday\\2021_07_16\\72.avi\n",
      "Duration of video [s]:  12.5 , recorded with  40.0 fps!\n",
      "Overall # of frames:  500  found with (before cropping) frame dimensions:  1440 484\n",
      "Starting to extract posture\n"
     ]
    },
    {
     "name": "stderr",
     "output_type": "stream",
     "text": [
      "510it [00:23, 22.13it/s]                                                                                               "
     ]
    },
    {
     "name": "stdout",
     "output_type": "stream",
     "text": [
      "Detected frames:  500\n"
     ]
    },
    {
     "name": "stderr",
     "output_type": "stream",
     "text": [
      "510it [00:23, 21.51it/s]\n"
     ]
    },
    {
     "name": "stdout",
     "output_type": "stream",
     "text": [
      "Saving results in F:\\ar353rdday\\2021_07_16...\n",
      "Saving csv poses!\n",
      "Starting to analyze %  F:\\ar353rdday\\2021_07_16\\73.avi\n",
      "F:\\ar353rdday\\2021_07_16  already exists!\n",
      "Loading  F:\\ar353rdday\\2021_07_16\\73.avi\n",
      "Duration of video [s]:  12.5 , recorded with  40.0 fps!\n",
      "Overall # of frames:  500  found with (before cropping) frame dimensions:  1440 484\n",
      "Starting to extract posture\n"
     ]
    },
    {
     "name": "stderr",
     "output_type": "stream",
     "text": [
      "510it [00:23, 22.10it/s]                                                                                               "
     ]
    },
    {
     "name": "stdout",
     "output_type": "stream",
     "text": [
      "Detected frames:  500\n"
     ]
    },
    {
     "name": "stderr",
     "output_type": "stream",
     "text": [
      "510it [00:23, 21.54it/s]\n"
     ]
    },
    {
     "name": "stdout",
     "output_type": "stream",
     "text": [
      "Saving results in F:\\ar353rdday\\2021_07_16...\n",
      "Saving csv poses!\n",
      "Starting to analyze %  F:\\ar353rdday\\2021_07_16\\74.avi\n",
      "F:\\ar353rdday\\2021_07_16  already exists!\n",
      "Loading  F:\\ar353rdday\\2021_07_16\\74.avi\n",
      "Duration of video [s]:  12.5 , recorded with  40.0 fps!\n",
      "Overall # of frames:  500  found with (before cropping) frame dimensions:  1440 484\n",
      "Starting to extract posture\n"
     ]
    },
    {
     "name": "stderr",
     "output_type": "stream",
     "text": [
      "510it [00:23, 22.69it/s]                                                                                               "
     ]
    },
    {
     "name": "stdout",
     "output_type": "stream",
     "text": [
      "Detected frames:  500\n"
     ]
    },
    {
     "name": "stderr",
     "output_type": "stream",
     "text": [
      "510it [00:23, 21.32it/s]\n"
     ]
    },
    {
     "name": "stdout",
     "output_type": "stream",
     "text": [
      "Saving results in F:\\ar353rdday\\2021_07_16...\n",
      "Saving csv poses!\n",
      "Starting to analyze %  F:\\ar353rdday\\2021_07_16\\75.avi\n",
      "F:\\ar353rdday\\2021_07_16  already exists!\n",
      "Loading  F:\\ar353rdday\\2021_07_16\\75.avi\n",
      "Duration of video [s]:  12.5 , recorded with  40.0 fps!\n",
      "Overall # of frames:  500  found with (before cropping) frame dimensions:  1440 484\n",
      "Starting to extract posture\n"
     ]
    },
    {
     "name": "stderr",
     "output_type": "stream",
     "text": [
      "510it [00:23, 22.39it/s]                                                                                               "
     ]
    },
    {
     "name": "stdout",
     "output_type": "stream",
     "text": [
      "Detected frames:  500\n"
     ]
    },
    {
     "name": "stderr",
     "output_type": "stream",
     "text": [
      "510it [00:23, 21.78it/s]\n"
     ]
    },
    {
     "name": "stdout",
     "output_type": "stream",
     "text": [
      "Saving results in F:\\ar353rdday\\2021_07_16...\n",
      "Saving csv poses!\n",
      "Starting to analyze %  F:\\ar353rdday\\2021_07_16\\76.avi\n",
      "F:\\ar353rdday\\2021_07_16  already exists!\n",
      "Loading  F:\\ar353rdday\\2021_07_16\\76.avi\n",
      "Duration of video [s]:  12.5 , recorded with  40.0 fps!\n",
      "Overall # of frames:  500  found with (before cropping) frame dimensions:  1440 484\n",
      "Starting to extract posture\n"
     ]
    },
    {
     "name": "stderr",
     "output_type": "stream",
     "text": [
      "510it [00:23, 22.25it/s]                                                                                               "
     ]
    },
    {
     "name": "stdout",
     "output_type": "stream",
     "text": [
      "Detected frames:  500\n"
     ]
    },
    {
     "name": "stderr",
     "output_type": "stream",
     "text": [
      "510it [00:23, 21.59it/s]\n"
     ]
    },
    {
     "name": "stdout",
     "output_type": "stream",
     "text": [
      "Saving results in F:\\ar353rdday\\2021_07_16...\n",
      "Saving csv poses!\n",
      "Starting to analyze %  F:\\ar353rdday\\2021_07_16\\77.avi\n",
      "F:\\ar353rdday\\2021_07_16  already exists!\n",
      "Loading  F:\\ar353rdday\\2021_07_16\\77.avi\n",
      "Duration of video [s]:  12.5 , recorded with  40.0 fps!\n",
      "Overall # of frames:  500  found with (before cropping) frame dimensions:  1440 484\n",
      "Starting to extract posture\n"
     ]
    },
    {
     "name": "stderr",
     "output_type": "stream",
     "text": [
      "510it [00:23, 22.49it/s]                                                                                               "
     ]
    },
    {
     "name": "stdout",
     "output_type": "stream",
     "text": [
      "Detected frames:  500\n"
     ]
    },
    {
     "name": "stderr",
     "output_type": "stream",
     "text": [
      "510it [00:23, 21.60it/s]\n"
     ]
    },
    {
     "name": "stdout",
     "output_type": "stream",
     "text": [
      "Saving results in F:\\ar353rdday\\2021_07_16...\n",
      "Saving csv poses!\n",
      "Starting to analyze %  F:\\ar353rdday\\2021_07_16\\78.avi\n",
      "F:\\ar353rdday\\2021_07_16  already exists!\n",
      "Loading  F:\\ar353rdday\\2021_07_16\\78.avi\n",
      "Duration of video [s]:  12.5 , recorded with  40.0 fps!\n",
      "Overall # of frames:  500  found with (before cropping) frame dimensions:  1440 484\n",
      "Starting to extract posture\n"
     ]
    },
    {
     "name": "stderr",
     "output_type": "stream",
     "text": [
      "510it [00:23, 22.23it/s]                                                                                               "
     ]
    },
    {
     "name": "stdout",
     "output_type": "stream",
     "text": [
      "Detected frames:  500\n"
     ]
    },
    {
     "name": "stderr",
     "output_type": "stream",
     "text": [
      "510it [00:23, 21.66it/s]\n"
     ]
    },
    {
     "name": "stdout",
     "output_type": "stream",
     "text": [
      "Saving results in F:\\ar353rdday\\2021_07_16...\n",
      "Saving csv poses!\n",
      "Starting to analyze %  F:\\ar353rdday\\2021_07_16\\79.avi\n",
      "F:\\ar353rdday\\2021_07_16  already exists!\n",
      "Loading  F:\\ar353rdday\\2021_07_16\\79.avi\n",
      "Duration of video [s]:  12.5 , recorded with  40.0 fps!\n",
      "Overall # of frames:  500  found with (before cropping) frame dimensions:  1440 484\n",
      "Starting to extract posture\n"
     ]
    },
    {
     "name": "stderr",
     "output_type": "stream",
     "text": [
      "510it [00:23, 22.11it/s]                                                                                               "
     ]
    },
    {
     "name": "stdout",
     "output_type": "stream",
     "text": [
      "Detected frames:  500\n"
     ]
    },
    {
     "name": "stderr",
     "output_type": "stream",
     "text": [
      "510it [00:23, 21.58it/s]\n"
     ]
    },
    {
     "name": "stdout",
     "output_type": "stream",
     "text": [
      "Saving results in F:\\ar353rdday\\2021_07_16...\n",
      "Saving csv poses!\n",
      "Starting to analyze %  F:\\ar353rdday\\2021_07_16\\8.avi\n",
      "F:\\ar353rdday\\2021_07_16  already exists!\n",
      "Loading  F:\\ar353rdday\\2021_07_16\\8.avi\n",
      "Duration of video [s]:  12.5 , recorded with  40.0 fps!\n",
      "Overall # of frames:  500  found with (before cropping) frame dimensions:  1440 484\n",
      "Starting to extract posture\n"
     ]
    },
    {
     "name": "stderr",
     "output_type": "stream",
     "text": [
      "510it [00:23, 22.21it/s]                                                                                               "
     ]
    },
    {
     "name": "stdout",
     "output_type": "stream",
     "text": [
      "Detected frames:  500\n"
     ]
    },
    {
     "name": "stderr",
     "output_type": "stream",
     "text": [
      "510it [00:23, 21.61it/s]\n"
     ]
    },
    {
     "name": "stdout",
     "output_type": "stream",
     "text": [
      "Saving results in F:\\ar353rdday\\2021_07_16...\n",
      "Saving csv poses!\n",
      "Starting to analyze %  F:\\ar353rdday\\2021_07_16\\80.avi\n",
      "F:\\ar353rdday\\2021_07_16  already exists!\n",
      "Loading  F:\\ar353rdday\\2021_07_16\\80.avi\n",
      "Duration of video [s]:  12.5 , recorded with  40.0 fps!\n",
      "Overall # of frames:  500  found with (before cropping) frame dimensions:  1440 484\n",
      "Starting to extract posture\n"
     ]
    },
    {
     "name": "stderr",
     "output_type": "stream",
     "text": [
      "510it [00:23, 22.34it/s]                                                                                               "
     ]
    },
    {
     "name": "stdout",
     "output_type": "stream",
     "text": [
      "Detected frames:  500\n"
     ]
    },
    {
     "name": "stderr",
     "output_type": "stream",
     "text": [
      "510it [00:23, 21.56it/s]\n"
     ]
    },
    {
     "name": "stdout",
     "output_type": "stream",
     "text": [
      "Saving results in F:\\ar353rdday\\2021_07_16...\n",
      "Saving csv poses!\n",
      "Starting to analyze %  F:\\ar353rdday\\2021_07_16\\81.avi\n",
      "F:\\ar353rdday\\2021_07_16  already exists!\n",
      "Loading  F:\\ar353rdday\\2021_07_16\\81.avi\n",
      "Duration of video [s]:  12.5 , recorded with  40.0 fps!\n",
      "Overall # of frames:  500  found with (before cropping) frame dimensions:  1440 484\n",
      "Starting to extract posture\n"
     ]
    },
    {
     "name": "stderr",
     "output_type": "stream",
     "text": [
      "510it [00:23, 22.36it/s]                                                                                               "
     ]
    },
    {
     "name": "stdout",
     "output_type": "stream",
     "text": [
      "Detected frames:  500\n"
     ]
    },
    {
     "name": "stderr",
     "output_type": "stream",
     "text": [
      "510it [00:23, 21.65it/s]\n"
     ]
    },
    {
     "name": "stdout",
     "output_type": "stream",
     "text": [
      "Saving results in F:\\ar353rdday\\2021_07_16...\n",
      "Saving csv poses!\n",
      "Starting to analyze %  F:\\ar353rdday\\2021_07_16\\82.avi\n",
      "F:\\ar353rdday\\2021_07_16  already exists!\n",
      "Loading  F:\\ar353rdday\\2021_07_16\\82.avi\n",
      "Duration of video [s]:  12.5 , recorded with  40.0 fps!\n",
      "Overall # of frames:  500  found with (before cropping) frame dimensions:  1440 484\n",
      "Starting to extract posture\n"
     ]
    },
    {
     "name": "stderr",
     "output_type": "stream",
     "text": [
      "510it [00:23, 22.42it/s]                                                                                               "
     ]
    },
    {
     "name": "stdout",
     "output_type": "stream",
     "text": [
      "Detected frames:  500\n"
     ]
    },
    {
     "name": "stderr",
     "output_type": "stream",
     "text": [
      "510it [00:23, 21.66it/s]\n"
     ]
    },
    {
     "name": "stdout",
     "output_type": "stream",
     "text": [
      "Saving results in F:\\ar353rdday\\2021_07_16...\n",
      "Saving csv poses!\n",
      "Starting to analyze %  F:\\ar353rdday\\2021_07_16\\83.avi\n",
      "F:\\ar353rdday\\2021_07_16  already exists!\n",
      "Loading  F:\\ar353rdday\\2021_07_16\\83.avi\n",
      "Duration of video [s]:  12.5 , recorded with  40.0 fps!\n",
      "Overall # of frames:  500  found with (before cropping) frame dimensions:  1440 484\n",
      "Starting to extract posture\n"
     ]
    },
    {
     "name": "stderr",
     "output_type": "stream",
     "text": [
      "510it [00:23, 22.74it/s]                                                                                               "
     ]
    },
    {
     "name": "stdout",
     "output_type": "stream",
     "text": [
      "Detected frames:  500\n"
     ]
    },
    {
     "name": "stderr",
     "output_type": "stream",
     "text": [
      "510it [00:23, 21.66it/s]\n"
     ]
    },
    {
     "name": "stdout",
     "output_type": "stream",
     "text": [
      "Saving results in F:\\ar353rdday\\2021_07_16...\n",
      "Saving csv poses!\n",
      "Starting to analyze %  F:\\ar353rdday\\2021_07_16\\84.avi\n",
      "F:\\ar353rdday\\2021_07_16  already exists!\n",
      "Loading  F:\\ar353rdday\\2021_07_16\\84.avi\n",
      "Duration of video [s]:  12.5 , recorded with  40.0 fps!\n",
      "Overall # of frames:  500  found with (before cropping) frame dimensions:  1440 484\n",
      "Starting to extract posture\n"
     ]
    },
    {
     "name": "stderr",
     "output_type": "stream",
     "text": [
      "510it [00:23, 22.53it/s]                                                                                               "
     ]
    },
    {
     "name": "stdout",
     "output_type": "stream",
     "text": [
      "Detected frames:  500\n"
     ]
    },
    {
     "name": "stderr",
     "output_type": "stream",
     "text": [
      "510it [00:23, 21.77it/s]\n"
     ]
    },
    {
     "name": "stdout",
     "output_type": "stream",
     "text": [
      "Saving results in F:\\ar353rdday\\2021_07_16...\n",
      "Saving csv poses!\n",
      "Starting to analyze %  F:\\ar353rdday\\2021_07_16\\85.avi\n",
      "F:\\ar353rdday\\2021_07_16  already exists!\n",
      "Loading  F:\\ar353rdday\\2021_07_16\\85.avi\n",
      "Duration of video [s]:  12.5 , recorded with  40.0 fps!\n",
      "Overall # of frames:  500  found with (before cropping) frame dimensions:  1440 484\n",
      "Starting to extract posture\n"
     ]
    },
    {
     "name": "stderr",
     "output_type": "stream",
     "text": [
      "510it [00:23, 22.31it/s]                                                                                               "
     ]
    },
    {
     "name": "stdout",
     "output_type": "stream",
     "text": [
      "Detected frames:  500\n"
     ]
    },
    {
     "name": "stderr",
     "output_type": "stream",
     "text": [
      "510it [00:23, 21.55it/s]\n"
     ]
    },
    {
     "name": "stdout",
     "output_type": "stream",
     "text": [
      "Saving results in F:\\ar353rdday\\2021_07_16...\n",
      "Saving csv poses!\n",
      "Starting to analyze %  F:\\ar353rdday\\2021_07_16\\86.avi\n",
      "F:\\ar353rdday\\2021_07_16  already exists!\n",
      "Loading  F:\\ar353rdday\\2021_07_16\\86.avi\n",
      "Duration of video [s]:  12.5 , recorded with  40.0 fps!\n",
      "Overall # of frames:  500  found with (before cropping) frame dimensions:  1440 484\n",
      "Starting to extract posture\n"
     ]
    },
    {
     "name": "stderr",
     "output_type": "stream",
     "text": [
      "510it [00:23, 22.48it/s]                                                                                               "
     ]
    },
    {
     "name": "stdout",
     "output_type": "stream",
     "text": [
      "Detected frames:  500\n"
     ]
    },
    {
     "name": "stderr",
     "output_type": "stream",
     "text": [
      "510it [00:23, 21.62it/s]\n"
     ]
    },
    {
     "name": "stdout",
     "output_type": "stream",
     "text": [
      "Saving results in F:\\ar353rdday\\2021_07_16...\n",
      "Saving csv poses!\n",
      "Starting to analyze %  F:\\ar353rdday\\2021_07_16\\87.avi\n",
      "F:\\ar353rdday\\2021_07_16  already exists!\n",
      "Loading  F:\\ar353rdday\\2021_07_16\\87.avi\n",
      "Duration of video [s]:  12.5 , recorded with  40.0 fps!\n",
      "Overall # of frames:  500  found with (before cropping) frame dimensions:  1440 484\n",
      "Starting to extract posture\n"
     ]
    },
    {
     "name": "stderr",
     "output_type": "stream",
     "text": [
      "510it [00:23, 22.32it/s]                                                                                               "
     ]
    },
    {
     "name": "stdout",
     "output_type": "stream",
     "text": [
      "Detected frames:  500\n"
     ]
    },
    {
     "name": "stderr",
     "output_type": "stream",
     "text": [
      "510it [00:23, 21.63it/s]\n"
     ]
    },
    {
     "name": "stdout",
     "output_type": "stream",
     "text": [
      "Saving results in F:\\ar353rdday\\2021_07_16...\n",
      "Saving csv poses!\n",
      "Starting to analyze %  F:\\ar353rdday\\2021_07_16\\88.avi\n",
      "F:\\ar353rdday\\2021_07_16  already exists!\n",
      "Loading  F:\\ar353rdday\\2021_07_16\\88.avi\n",
      "Duration of video [s]:  12.5 , recorded with  40.0 fps!\n",
      "Overall # of frames:  500  found with (before cropping) frame dimensions:  1440 484\n",
      "Starting to extract posture\n"
     ]
    },
    {
     "name": "stderr",
     "output_type": "stream",
     "text": [
      "510it [00:23, 22.35it/s]                                                                                               "
     ]
    },
    {
     "name": "stdout",
     "output_type": "stream",
     "text": [
      "Detected frames:  500\n"
     ]
    },
    {
     "name": "stderr",
     "output_type": "stream",
     "text": [
      "510it [00:23, 21.57it/s]\n"
     ]
    },
    {
     "name": "stdout",
     "output_type": "stream",
     "text": [
      "Saving results in F:\\ar353rdday\\2021_07_16...\n",
      "Saving csv poses!\n",
      "Starting to analyze %  F:\\ar353rdday\\2021_07_16\\89.avi\n",
      "F:\\ar353rdday\\2021_07_16  already exists!\n",
      "Loading  F:\\ar353rdday\\2021_07_16\\89.avi\n",
      "Duration of video [s]:  12.5 , recorded with  40.0 fps!\n",
      "Overall # of frames:  500  found with (before cropping) frame dimensions:  1440 484\n",
      "Starting to extract posture\n"
     ]
    },
    {
     "name": "stderr",
     "output_type": "stream",
     "text": [
      "510it [00:23, 22.50it/s]                                                                                               "
     ]
    },
    {
     "name": "stdout",
     "output_type": "stream",
     "text": [
      "Detected frames:  500\n"
     ]
    },
    {
     "name": "stderr",
     "output_type": "stream",
     "text": [
      "510it [00:23, 21.59it/s]\n"
     ]
    },
    {
     "name": "stdout",
     "output_type": "stream",
     "text": [
      "Saving results in F:\\ar353rdday\\2021_07_16...\n",
      "Saving csv poses!\n",
      "Starting to analyze %  F:\\ar353rdday\\2021_07_16\\9.avi\n",
      "F:\\ar353rdday\\2021_07_16  already exists!\n",
      "Loading  F:\\ar353rdday\\2021_07_16\\9.avi\n",
      "Duration of video [s]:  12.5 , recorded with  40.0 fps!\n",
      "Overall # of frames:  500  found with (before cropping) frame dimensions:  1440 484\n",
      "Starting to extract posture\n"
     ]
    },
    {
     "name": "stderr",
     "output_type": "stream",
     "text": [
      "510it [00:23, 22.47it/s]                                                                                               "
     ]
    },
    {
     "name": "stdout",
     "output_type": "stream",
     "text": [
      "Detected frames:  500\n"
     ]
    },
    {
     "name": "stderr",
     "output_type": "stream",
     "text": [
      "510it [00:23, 21.64it/s]\n"
     ]
    },
    {
     "name": "stdout",
     "output_type": "stream",
     "text": [
      "Saving results in F:\\ar353rdday\\2021_07_16...\n",
      "Saving csv poses!\n",
      "Starting to analyze %  F:\\ar353rdday\\2021_07_16\\90.avi\n",
      "F:\\ar353rdday\\2021_07_16  already exists!\n",
      "Loading  F:\\ar353rdday\\2021_07_16\\90.avi\n",
      "Duration of video [s]:  12.5 , recorded with  40.0 fps!\n",
      "Overall # of frames:  500  found with (before cropping) frame dimensions:  1440 484\n",
      "Starting to extract posture\n"
     ]
    },
    {
     "name": "stderr",
     "output_type": "stream",
     "text": [
      "510it [00:23, 22.13it/s]                                                                                               "
     ]
    },
    {
     "name": "stdout",
     "output_type": "stream",
     "text": [
      "Detected frames:  500\n"
     ]
    },
    {
     "name": "stderr",
     "output_type": "stream",
     "text": [
      "510it [00:23, 21.61it/s]\n"
     ]
    },
    {
     "name": "stdout",
     "output_type": "stream",
     "text": [
      "Saving results in F:\\ar353rdday\\2021_07_16...\n",
      "Saving csv poses!\n",
      "Starting to analyze %  F:\\ar353rdday\\2021_07_16\\91.avi\n",
      "F:\\ar353rdday\\2021_07_16  already exists!\n",
      "Loading  F:\\ar353rdday\\2021_07_16\\91.avi\n",
      "Duration of video [s]:  12.5 , recorded with  40.0 fps!\n",
      "Overall # of frames:  500  found with (before cropping) frame dimensions:  1440 484\n",
      "Starting to extract posture\n"
     ]
    },
    {
     "name": "stderr",
     "output_type": "stream",
     "text": [
      "510it [00:23, 22.36it/s]                                                                                               "
     ]
    },
    {
     "name": "stdout",
     "output_type": "stream",
     "text": [
      "Detected frames:  500\n"
     ]
    },
    {
     "name": "stderr",
     "output_type": "stream",
     "text": [
      "510it [00:23, 21.70it/s]\n"
     ]
    },
    {
     "name": "stdout",
     "output_type": "stream",
     "text": [
      "Saving results in F:\\ar353rdday\\2021_07_16...\n",
      "Saving csv poses!\n",
      "Starting to analyze %  F:\\ar353rdday\\2021_07_16\\92.avi\n",
      "F:\\ar353rdday\\2021_07_16  already exists!\n",
      "Loading  F:\\ar353rdday\\2021_07_16\\92.avi\n",
      "Duration of video [s]:  12.5 , recorded with  40.0 fps!\n",
      "Overall # of frames:  500  found with (before cropping) frame dimensions:  1440 484\n",
      "Starting to extract posture\n"
     ]
    },
    {
     "name": "stderr",
     "output_type": "stream",
     "text": [
      "510it [00:23, 22.26it/s]                                                                                               "
     ]
    },
    {
     "name": "stdout",
     "output_type": "stream",
     "text": [
      "Detected frames:  500\n"
     ]
    },
    {
     "name": "stderr",
     "output_type": "stream",
     "text": [
      "510it [00:23, 21.65it/s]\n"
     ]
    },
    {
     "name": "stdout",
     "output_type": "stream",
     "text": [
      "Saving results in F:\\ar353rdday\\2021_07_16...\n",
      "Saving csv poses!\n",
      "Starting to analyze %  F:\\ar353rdday\\2021_07_16\\93.avi\n",
      "F:\\ar353rdday\\2021_07_16  already exists!\n",
      "Loading  F:\\ar353rdday\\2021_07_16\\93.avi\n",
      "Duration of video [s]:  12.5 , recorded with  40.0 fps!\n",
      "Overall # of frames:  500  found with (before cropping) frame dimensions:  1440 484\n",
      "Starting to extract posture\n"
     ]
    },
    {
     "name": "stderr",
     "output_type": "stream",
     "text": [
      "510it [00:23, 22.44it/s]                                                                                               "
     ]
    },
    {
     "name": "stdout",
     "output_type": "stream",
     "text": [
      "Detected frames:  500\n"
     ]
    },
    {
     "name": "stderr",
     "output_type": "stream",
     "text": [
      "510it [00:23, 21.51it/s]\n"
     ]
    },
    {
     "name": "stdout",
     "output_type": "stream",
     "text": [
      "Saving results in F:\\ar353rdday\\2021_07_16...\n",
      "Saving csv poses!\n",
      "Starting to analyze %  F:\\ar353rdday\\2021_07_16\\94.avi\n",
      "F:\\ar353rdday\\2021_07_16  already exists!\n",
      "Loading  F:\\ar353rdday\\2021_07_16\\94.avi\n",
      "Duration of video [s]:  12.5 , recorded with  40.0 fps!\n",
      "Overall # of frames:  500  found with (before cropping) frame dimensions:  1440 484\n",
      "Starting to extract posture\n"
     ]
    },
    {
     "name": "stderr",
     "output_type": "stream",
     "text": [
      "510it [00:23, 22.27it/s]                                                                                               "
     ]
    },
    {
     "name": "stdout",
     "output_type": "stream",
     "text": [
      "Detected frames:  500\n"
     ]
    },
    {
     "name": "stderr",
     "output_type": "stream",
     "text": [
      "510it [00:23, 21.69it/s]\n"
     ]
    },
    {
     "name": "stdout",
     "output_type": "stream",
     "text": [
      "Saving results in F:\\ar353rdday\\2021_07_16...\n",
      "Saving csv poses!\n",
      "Starting to analyze %  F:\\ar353rdday\\2021_07_16\\95.avi\n",
      "F:\\ar353rdday\\2021_07_16  already exists!\n",
      "Loading  F:\\ar353rdday\\2021_07_16\\95.avi\n",
      "Duration of video [s]:  12.5 , recorded with  40.0 fps!\n",
      "Overall # of frames:  500  found with (before cropping) frame dimensions:  1440 484\n",
      "Starting to extract posture\n"
     ]
    },
    {
     "name": "stderr",
     "output_type": "stream",
     "text": [
      "510it [00:23, 22.39it/s]                                                                                               "
     ]
    },
    {
     "name": "stdout",
     "output_type": "stream",
     "text": [
      "Detected frames:  500\n"
     ]
    },
    {
     "name": "stderr",
     "output_type": "stream",
     "text": [
      "510it [00:23, 21.55it/s]\n"
     ]
    },
    {
     "name": "stdout",
     "output_type": "stream",
     "text": [
      "Saving results in F:\\ar353rdday\\2021_07_16...\n",
      "Saving csv poses!\n",
      "Starting to analyze %  F:\\ar353rdday\\2021_07_16\\96.avi\n",
      "F:\\ar353rdday\\2021_07_16  already exists!\n",
      "Loading  F:\\ar353rdday\\2021_07_16\\96.avi\n",
      "Duration of video [s]:  12.5 , recorded with  40.0 fps!\n",
      "Overall # of frames:  500  found with (before cropping) frame dimensions:  1440 484\n",
      "Starting to extract posture\n"
     ]
    },
    {
     "name": "stderr",
     "output_type": "stream",
     "text": [
      "510it [00:23, 21.85it/s]                                                                                               "
     ]
    },
    {
     "name": "stdout",
     "output_type": "stream",
     "text": [
      "Detected frames:  500\n"
     ]
    },
    {
     "name": "stderr",
     "output_type": "stream",
     "text": [
      "510it [00:23, 21.53it/s]\n"
     ]
    },
    {
     "name": "stdout",
     "output_type": "stream",
     "text": [
      "Saving results in F:\\ar353rdday\\2021_07_16...\n",
      "Saving csv poses!\n",
      "Starting to analyze %  F:\\ar353rdday\\2021_07_16\\97.avi\n",
      "F:\\ar353rdday\\2021_07_16  already exists!\n",
      "Loading  F:\\ar353rdday\\2021_07_16\\97.avi\n",
      "Duration of video [s]:  12.5 , recorded with  40.0 fps!\n",
      "Overall # of frames:  500  found with (before cropping) frame dimensions:  1440 484\n",
      "Starting to extract posture\n"
     ]
    },
    {
     "name": "stderr",
     "output_type": "stream",
     "text": [
      "510it [00:23, 22.08it/s]                                                                                               "
     ]
    },
    {
     "name": "stdout",
     "output_type": "stream",
     "text": [
      "Detected frames:  500\n"
     ]
    },
    {
     "name": "stderr",
     "output_type": "stream",
     "text": [
      "510it [00:23, 21.61it/s]\n"
     ]
    },
    {
     "name": "stdout",
     "output_type": "stream",
     "text": [
      "Saving results in F:\\ar353rdday\\2021_07_16...\n",
      "Saving csv poses!\n",
      "Starting to analyze %  F:\\ar353rdday\\2021_07_16\\98.avi\n",
      "F:\\ar353rdday\\2021_07_16  already exists!\n",
      "Loading  F:\\ar353rdday\\2021_07_16\\98.avi\n",
      "Duration of video [s]:  12.5 , recorded with  40.0 fps!\n",
      "Overall # of frames:  500  found with (before cropping) frame dimensions:  1440 484\n",
      "Starting to extract posture\n"
     ]
    },
    {
     "name": "stderr",
     "output_type": "stream",
     "text": [
      "510it [00:23, 22.38it/s]                                                                                               "
     ]
    },
    {
     "name": "stdout",
     "output_type": "stream",
     "text": [
      "Detected frames:  500\n"
     ]
    },
    {
     "name": "stderr",
     "output_type": "stream",
     "text": [
      "510it [00:23, 21.71it/s]\n"
     ]
    },
    {
     "name": "stdout",
     "output_type": "stream",
     "text": [
      "Saving results in F:\\ar353rdday\\2021_07_16...\n",
      "Saving csv poses!\n",
      "Starting to analyze %  F:\\ar353rdday\\2021_07_16\\99.avi\n",
      "F:\\ar353rdday\\2021_07_16  already exists!\n",
      "Loading  F:\\ar353rdday\\2021_07_16\\99.avi\n",
      "Duration of video [s]:  12.5 , recorded with  40.0 fps!\n",
      "Overall # of frames:  500  found with (before cropping) frame dimensions:  1440 484\n",
      "Starting to extract posture\n"
     ]
    },
    {
     "name": "stderr",
     "output_type": "stream",
     "text": [
      "510it [00:23, 22.09it/s]                                                                                               "
     ]
    },
    {
     "name": "stdout",
     "output_type": "stream",
     "text": [
      "Detected frames:  500\n"
     ]
    },
    {
     "name": "stderr",
     "output_type": "stream",
     "text": [
      "510it [00:23, 21.51it/s]\n"
     ]
    },
    {
     "name": "stdout",
     "output_type": "stream",
     "text": [
      "Saving results in F:\\ar353rdday\\2021_07_16...\n",
      "Saving csv poses!\n",
      "The videos are analyzed. Now your research can truly start! \n",
      " You can create labeled videos with 'create_labeled_video'\n",
      "If the tracking is not satisfactory for some videos, consider expanding the training set. You can use the function 'extract_outlier_frames' to extract a few representative outlier frames.\n",
      "Filtering with median model F:\\ar353rdday\\2021_07_16\\0.avi\n",
      "Saving filtered csv poses!\n",
      "Filtering with median model F:\\ar353rdday\\2021_07_16\\1.avi\n",
      "Saving filtered csv poses!\n",
      "Filtering with median model F:\\ar353rdday\\2021_07_16\\10.avi\n",
      "Saving filtered csv poses!\n",
      "Filtering with median model F:\\ar353rdday\\2021_07_16\\100.avi\n",
      "Saving filtered csv poses!\n",
      "Filtering with median model F:\\ar353rdday\\2021_07_16\\101.avi\n",
      "Saving filtered csv poses!\n",
      "Filtering with median model F:\\ar353rdday\\2021_07_16\\102.avi\n",
      "Saving filtered csv poses!\n",
      "Filtering with median model F:\\ar353rdday\\2021_07_16\\103.avi\n",
      "Saving filtered csv poses!\n",
      "Filtering with median model F:\\ar353rdday\\2021_07_16\\104.avi\n",
      "Saving filtered csv poses!\n",
      "Filtering with median model F:\\ar353rdday\\2021_07_16\\105.avi\n",
      "Saving filtered csv poses!\n",
      "Filtering with median model F:\\ar353rdday\\2021_07_16\\106.avi\n",
      "Saving filtered csv poses!\n",
      "Filtering with median model F:\\ar353rdday\\2021_07_16\\107.avi\n",
      "Saving filtered csv poses!\n",
      "Filtering with median model F:\\ar353rdday\\2021_07_16\\108.avi\n",
      "Saving filtered csv poses!\n",
      "Filtering with median model F:\\ar353rdday\\2021_07_16\\109.avi\n",
      "Saving filtered csv poses!\n",
      "Filtering with median model F:\\ar353rdday\\2021_07_16\\11.avi\n",
      "Saving filtered csv poses!\n",
      "Filtering with median model F:\\ar353rdday\\2021_07_16\\110.avi\n",
      "Saving filtered csv poses!\n",
      "Filtering with median model F:\\ar353rdday\\2021_07_16\\111.avi\n",
      "Saving filtered csv poses!\n",
      "Filtering with median model F:\\ar353rdday\\2021_07_16\\112.avi\n",
      "Saving filtered csv poses!\n",
      "Filtering with median model F:\\ar353rdday\\2021_07_16\\113.avi\n",
      "Saving filtered csv poses!\n",
      "Filtering with median model F:\\ar353rdday\\2021_07_16\\114.avi\n",
      "Saving filtered csv poses!\n",
      "Filtering with median model F:\\ar353rdday\\2021_07_16\\115.avi\n",
      "Saving filtered csv poses!\n",
      "Filtering with median model F:\\ar353rdday\\2021_07_16\\116.avi\n",
      "Saving filtered csv poses!\n",
      "Filtering with median model F:\\ar353rdday\\2021_07_16\\117.avi\n",
      "Saving filtered csv poses!\n",
      "Filtering with median model F:\\ar353rdday\\2021_07_16\\118.avi\n",
      "Saving filtered csv poses!\n",
      "Filtering with median model F:\\ar353rdday\\2021_07_16\\119.avi\n",
      "Saving filtered csv poses!\n",
      "Filtering with median model F:\\ar353rdday\\2021_07_16\\12.avi\n",
      "Saving filtered csv poses!\n",
      "Filtering with median model F:\\ar353rdday\\2021_07_16\\120.avi\n",
      "Saving filtered csv poses!\n",
      "Filtering with median model F:\\ar353rdday\\2021_07_16\\121.avi\n",
      "Saving filtered csv poses!\n",
      "Filtering with median model F:\\ar353rdday\\2021_07_16\\122.avi\n",
      "Saving filtered csv poses!\n",
      "Filtering with median model F:\\ar353rdday\\2021_07_16\\123.avi\n",
      "Saving filtered csv poses!\n",
      "Filtering with median model F:\\ar353rdday\\2021_07_16\\124.avi\n",
      "Saving filtered csv poses!\n",
      "Filtering with median model F:\\ar353rdday\\2021_07_16\\125.avi\n",
      "Saving filtered csv poses!\n",
      "Filtering with median model F:\\ar353rdday\\2021_07_16\\126.avi\n",
      "Saving filtered csv poses!\n",
      "Filtering with median model F:\\ar353rdday\\2021_07_16\\127.avi\n",
      "Saving filtered csv poses!\n",
      "Filtering with median model F:\\ar353rdday\\2021_07_16\\128.avi\n",
      "Saving filtered csv poses!\n",
      "Filtering with median model F:\\ar353rdday\\2021_07_16\\129.avi\n",
      "Saving filtered csv poses!\n",
      "Filtering with median model F:\\ar353rdday\\2021_07_16\\13.avi\n",
      "Saving filtered csv poses!\n",
      "Filtering with median model F:\\ar353rdday\\2021_07_16\\130.avi\n",
      "Saving filtered csv poses!\n",
      "Filtering with median model F:\\ar353rdday\\2021_07_16\\131.avi\n",
      "Saving filtered csv poses!\n",
      "Filtering with median model F:\\ar353rdday\\2021_07_16\\132.avi\n",
      "Saving filtered csv poses!\n",
      "Filtering with median model F:\\ar353rdday\\2021_07_16\\133.avi\n",
      "Saving filtered csv poses!\n",
      "Filtering with median model F:\\ar353rdday\\2021_07_16\\134.avi\n",
      "Saving filtered csv poses!\n",
      "Filtering with median model F:\\ar353rdday\\2021_07_16\\135.avi\n",
      "Saving filtered csv poses!\n",
      "Filtering with median model F:\\ar353rdday\\2021_07_16\\136.avi\n",
      "Saving filtered csv poses!\n",
      "Filtering with median model F:\\ar353rdday\\2021_07_16\\137.avi\n",
      "Saving filtered csv poses!\n",
      "Filtering with median model F:\\ar353rdday\\2021_07_16\\138.avi\n",
      "Saving filtered csv poses!\n",
      "Filtering with median model F:\\ar353rdday\\2021_07_16\\139.avi\n",
      "Saving filtered csv poses!\n",
      "Filtering with median model F:\\ar353rdday\\2021_07_16\\14.avi\n",
      "Saving filtered csv poses!\n",
      "Filtering with median model F:\\ar353rdday\\2021_07_16\\140.avi\n",
      "Saving filtered csv poses!\n",
      "Filtering with median model F:\\ar353rdday\\2021_07_16\\141.avi\n",
      "Saving filtered csv poses!\n",
      "Filtering with median model F:\\ar353rdday\\2021_07_16\\142.avi\n",
      "Saving filtered csv poses!\n",
      "Filtering with median model F:\\ar353rdday\\2021_07_16\\143.avi\n",
      "Saving filtered csv poses!\n",
      "Filtering with median model F:\\ar353rdday\\2021_07_16\\144.avi\n",
      "Saving filtered csv poses!\n",
      "Filtering with median model F:\\ar353rdday\\2021_07_16\\145.avi\n",
      "Saving filtered csv poses!\n",
      "Filtering with median model F:\\ar353rdday\\2021_07_16\\146.avi\n",
      "Saving filtered csv poses!\n",
      "Filtering with median model F:\\ar353rdday\\2021_07_16\\147.avi\n",
      "Saving filtered csv poses!\n",
      "Filtering with median model F:\\ar353rdday\\2021_07_16\\148.avi\n",
      "Saving filtered csv poses!\n",
      "Filtering with median model F:\\ar353rdday\\2021_07_16\\149.avi\n",
      "Saving filtered csv poses!\n",
      "Filtering with median model F:\\ar353rdday\\2021_07_16\\15.avi\n",
      "Saving filtered csv poses!\n",
      "Filtering with median model F:\\ar353rdday\\2021_07_16\\150.avi\n",
      "Saving filtered csv poses!\n",
      "Filtering with median model F:\\ar353rdday\\2021_07_16\\151.avi\n",
      "Saving filtered csv poses!\n",
      "Filtering with median model F:\\ar353rdday\\2021_07_16\\152.avi\n",
      "Saving filtered csv poses!\n",
      "Filtering with median model F:\\ar353rdday\\2021_07_16\\153.avi\n",
      "Saving filtered csv poses!\n",
      "Filtering with median model F:\\ar353rdday\\2021_07_16\\154.avi\n",
      "Saving filtered csv poses!\n",
      "Filtering with median model F:\\ar353rdday\\2021_07_16\\155.avi\n",
      "Saving filtered csv poses!\n",
      "Filtering with median model F:\\ar353rdday\\2021_07_16\\156.avi\n",
      "Saving filtered csv poses!\n",
      "Filtering with median model F:\\ar353rdday\\2021_07_16\\157.avi\n",
      "Saving filtered csv poses!\n",
      "Filtering with median model F:\\ar353rdday\\2021_07_16\\158.avi\n",
      "Saving filtered csv poses!\n",
      "Filtering with median model F:\\ar353rdday\\2021_07_16\\159.avi\n",
      "Saving filtered csv poses!\n",
      "Filtering with median model F:\\ar353rdday\\2021_07_16\\16.avi\n",
      "Saving filtered csv poses!\n",
      "Filtering with median model F:\\ar353rdday\\2021_07_16\\160.avi\n",
      "Saving filtered csv poses!\n",
      "Filtering with median model F:\\ar353rdday\\2021_07_16\\161.avi\n",
      "Saving filtered csv poses!\n",
      "Filtering with median model F:\\ar353rdday\\2021_07_16\\162.avi\n",
      "Saving filtered csv poses!\n",
      "Filtering with median model F:\\ar353rdday\\2021_07_16\\163.avi\n",
      "Saving filtered csv poses!\n",
      "Filtering with median model F:\\ar353rdday\\2021_07_16\\164.avi\n",
      "Saving filtered csv poses!\n",
      "Filtering with median model F:\\ar353rdday\\2021_07_16\\165.avi\n",
      "Saving filtered csv poses!\n",
      "Filtering with median model F:\\ar353rdday\\2021_07_16\\166.avi\n",
      "Saving filtered csv poses!\n",
      "Filtering with median model F:\\ar353rdday\\2021_07_16\\167.avi\n",
      "Saving filtered csv poses!\n",
      "Filtering with median model F:\\ar353rdday\\2021_07_16\\168.avi\n",
      "Saving filtered csv poses!\n",
      "Filtering with median model F:\\ar353rdday\\2021_07_16\\169.avi\n",
      "Saving filtered csv poses!\n",
      "Filtering with median model F:\\ar353rdday\\2021_07_16\\17.avi\n",
      "Saving filtered csv poses!\n",
      "Filtering with median model F:\\ar353rdday\\2021_07_16\\170.avi\n",
      "Saving filtered csv poses!\n",
      "Filtering with median model F:\\ar353rdday\\2021_07_16\\171.avi\n",
      "Saving filtered csv poses!\n",
      "Filtering with median model F:\\ar353rdday\\2021_07_16\\172.avi\n",
      "Saving filtered csv poses!\n",
      "Filtering with median model F:\\ar353rdday\\2021_07_16\\173.avi\n",
      "Saving filtered csv poses!\n",
      "Filtering with median model F:\\ar353rdday\\2021_07_16\\174.avi\n",
      "Saving filtered csv poses!\n",
      "Filtering with median model F:\\ar353rdday\\2021_07_16\\175.avi\n",
      "Saving filtered csv poses!\n",
      "Filtering with median model F:\\ar353rdday\\2021_07_16\\176.avi\n",
      "Saving filtered csv poses!\n",
      "Filtering with median model F:\\ar353rdday\\2021_07_16\\177.avi\n",
      "Saving filtered csv poses!\n",
      "Filtering with median model F:\\ar353rdday\\2021_07_16\\178.avi\n",
      "Saving filtered csv poses!\n",
      "Filtering with median model F:\\ar353rdday\\2021_07_16\\179.avi\n",
      "Saving filtered csv poses!\n",
      "Filtering with median model F:\\ar353rdday\\2021_07_16\\18.avi\n",
      "Saving filtered csv poses!\n",
      "Filtering with median model F:\\ar353rdday\\2021_07_16\\180.avi\n",
      "Saving filtered csv poses!\n",
      "Filtering with median model F:\\ar353rdday\\2021_07_16\\181.avi\n",
      "Saving filtered csv poses!\n",
      "Filtering with median model F:\\ar353rdday\\2021_07_16\\182.avi\n",
      "Saving filtered csv poses!\n",
      "Filtering with median model F:\\ar353rdday\\2021_07_16\\183.avi\n",
      "Saving filtered csv poses!\n",
      "Filtering with median model F:\\ar353rdday\\2021_07_16\\184.avi\n",
      "Saving filtered csv poses!\n",
      "Filtering with median model F:\\ar353rdday\\2021_07_16\\185.avi\n",
      "Saving filtered csv poses!\n",
      "Filtering with median model F:\\ar353rdday\\2021_07_16\\186.avi\n",
      "Saving filtered csv poses!\n",
      "Filtering with median model F:\\ar353rdday\\2021_07_16\\187.avi\n",
      "Saving filtered csv poses!\n",
      "Filtering with median model F:\\ar353rdday\\2021_07_16\\188.avi\n",
      "Saving filtered csv poses!\n",
      "Filtering with median model F:\\ar353rdday\\2021_07_16\\189.avi\n",
      "Saving filtered csv poses!\n",
      "Filtering with median model F:\\ar353rdday\\2021_07_16\\19.avi\n",
      "Saving filtered csv poses!\n",
      "Filtering with median model F:\\ar353rdday\\2021_07_16\\190.avi\n",
      "Saving filtered csv poses!\n",
      "Filtering with median model F:\\ar353rdday\\2021_07_16\\191.avi\n",
      "Saving filtered csv poses!\n",
      "Filtering with median model F:\\ar353rdday\\2021_07_16\\192.avi\n",
      "Saving filtered csv poses!\n",
      "Filtering with median model F:\\ar353rdday\\2021_07_16\\193.avi\n",
      "Saving filtered csv poses!\n",
      "Filtering with median model F:\\ar353rdday\\2021_07_16\\194.avi\n",
      "Saving filtered csv poses!\n",
      "Filtering with median model F:\\ar353rdday\\2021_07_16\\195.avi\n",
      "Saving filtered csv poses!\n",
      "Filtering with median model F:\\ar353rdday\\2021_07_16\\196.avi\n",
      "Saving filtered csv poses!\n",
      "Filtering with median model F:\\ar353rdday\\2021_07_16\\197.avi\n",
      "Saving filtered csv poses!\n",
      "Filtering with median model F:\\ar353rdday\\2021_07_16\\198.avi\n",
      "Saving filtered csv poses!\n",
      "Filtering with median model F:\\ar353rdday\\2021_07_16\\199.avi\n",
      "Saving filtered csv poses!\n",
      "Filtering with median model F:\\ar353rdday\\2021_07_16\\2.avi\n",
      "Saving filtered csv poses!\n",
      "Filtering with median model F:\\ar353rdday\\2021_07_16\\20.avi\n",
      "Saving filtered csv poses!\n",
      "Filtering with median model F:\\ar353rdday\\2021_07_16\\200.avi\n",
      "Saving filtered csv poses!\n",
      "Filtering with median model F:\\ar353rdday\\2021_07_16\\201.avi\n",
      "Saving filtered csv poses!\n",
      "Filtering with median model F:\\ar353rdday\\2021_07_16\\202.avi\n",
      "Saving filtered csv poses!\n",
      "Filtering with median model F:\\ar353rdday\\2021_07_16\\203.avi\n",
      "Saving filtered csv poses!\n",
      "Filtering with median model F:\\ar353rdday\\2021_07_16\\204.avi\n",
      "Saving filtered csv poses!\n",
      "Filtering with median model F:\\ar353rdday\\2021_07_16\\205.avi\n",
      "Saving filtered csv poses!\n",
      "Filtering with median model F:\\ar353rdday\\2021_07_16\\206.avi\n",
      "Saving filtered csv poses!\n",
      "Filtering with median model F:\\ar353rdday\\2021_07_16\\207.avi\n",
      "Saving filtered csv poses!\n",
      "Filtering with median model F:\\ar353rdday\\2021_07_16\\208.avi\n",
      "Saving filtered csv poses!\n",
      "Filtering with median model F:\\ar353rdday\\2021_07_16\\209.avi\n",
      "Saving filtered csv poses!\n",
      "Filtering with median model F:\\ar353rdday\\2021_07_16\\21.avi\n",
      "Saving filtered csv poses!\n",
      "Filtering with median model F:\\ar353rdday\\2021_07_16\\210.avi\n",
      "Saving filtered csv poses!\n",
      "Filtering with median model F:\\ar353rdday\\2021_07_16\\211.avi\n",
      "Saving filtered csv poses!\n",
      "Filtering with median model F:\\ar353rdday\\2021_07_16\\212.avi\n",
      "Saving filtered csv poses!\n",
      "Filtering with median model F:\\ar353rdday\\2021_07_16\\213.avi\n",
      "Saving filtered csv poses!\n",
      "Filtering with median model F:\\ar353rdday\\2021_07_16\\214.avi\n",
      "Saving filtered csv poses!\n",
      "Filtering with median model F:\\ar353rdday\\2021_07_16\\215.avi\n",
      "Saving filtered csv poses!\n",
      "Filtering with median model F:\\ar353rdday\\2021_07_16\\216.avi\n",
      "Saving filtered csv poses!\n",
      "Filtering with median model F:\\ar353rdday\\2021_07_16\\217.avi\n",
      "Saving filtered csv poses!\n",
      "Filtering with median model F:\\ar353rdday\\2021_07_16\\218.avi\n",
      "Saving filtered csv poses!\n",
      "Filtering with median model F:\\ar353rdday\\2021_07_16\\219.avi\n",
      "Saving filtered csv poses!\n",
      "Filtering with median model F:\\ar353rdday\\2021_07_16\\22.avi\n",
      "Saving filtered csv poses!\n",
      "Filtering with median model F:\\ar353rdday\\2021_07_16\\220.avi\n",
      "Saving filtered csv poses!\n",
      "Filtering with median model F:\\ar353rdday\\2021_07_16\\221.avi\n",
      "Saving filtered csv poses!\n",
      "Filtering with median model F:\\ar353rdday\\2021_07_16\\222.avi\n",
      "Saving filtered csv poses!\n",
      "Filtering with median model F:\\ar353rdday\\2021_07_16\\223.avi\n",
      "Saving filtered csv poses!\n",
      "Filtering with median model F:\\ar353rdday\\2021_07_16\\224.avi\n",
      "Saving filtered csv poses!\n",
      "Filtering with median model F:\\ar353rdday\\2021_07_16\\225.avi\n",
      "Saving filtered csv poses!\n",
      "Filtering with median model F:\\ar353rdday\\2021_07_16\\226.avi\n",
      "Saving filtered csv poses!\n",
      "Filtering with median model F:\\ar353rdday\\2021_07_16\\227.avi\n",
      "Saving filtered csv poses!\n",
      "Filtering with median model F:\\ar353rdday\\2021_07_16\\228.avi\n",
      "Saving filtered csv poses!\n",
      "Filtering with median model F:\\ar353rdday\\2021_07_16\\229.avi\n",
      "Saving filtered csv poses!\n",
      "Filtering with median model F:\\ar353rdday\\2021_07_16\\23.avi\n",
      "Saving filtered csv poses!\n",
      "Filtering with median model F:\\ar353rdday\\2021_07_16\\230.avi\n",
      "Saving filtered csv poses!\n",
      "Filtering with median model F:\\ar353rdday\\2021_07_16\\231.avi\n",
      "Saving filtered csv poses!\n",
      "Filtering with median model F:\\ar353rdday\\2021_07_16\\232.avi\n",
      "Saving filtered csv poses!\n",
      "Filtering with median model F:\\ar353rdday\\2021_07_16\\233.avi\n",
      "Saving filtered csv poses!\n",
      "Filtering with median model F:\\ar353rdday\\2021_07_16\\234.avi\n",
      "Saving filtered csv poses!\n",
      "Filtering with median model F:\\ar353rdday\\2021_07_16\\235.avi\n",
      "Saving filtered csv poses!\n",
      "Filtering with median model F:\\ar353rdday\\2021_07_16\\236.avi\n",
      "Saving filtered csv poses!\n",
      "Filtering with median model F:\\ar353rdday\\2021_07_16\\237.avi\n",
      "Saving filtered csv poses!\n",
      "Filtering with median model F:\\ar353rdday\\2021_07_16\\238.avi\n",
      "Saving filtered csv poses!\n",
      "Filtering with median model F:\\ar353rdday\\2021_07_16\\239.avi\n",
      "Saving filtered csv poses!\n",
      "Filtering with median model F:\\ar353rdday\\2021_07_16\\24.avi\n",
      "Saving filtered csv poses!\n",
      "Filtering with median model F:\\ar353rdday\\2021_07_16\\240.avi\n",
      "Saving filtered csv poses!\n",
      "Filtering with median model F:\\ar353rdday\\2021_07_16\\241.avi\n",
      "Saving filtered csv poses!\n",
      "Filtering with median model F:\\ar353rdday\\2021_07_16\\242.avi\n",
      "Saving filtered csv poses!\n",
      "Filtering with median model F:\\ar353rdday\\2021_07_16\\243.avi\n",
      "Saving filtered csv poses!\n",
      "Filtering with median model F:\\ar353rdday\\2021_07_16\\244.avi\n",
      "Saving filtered csv poses!\n",
      "Filtering with median model F:\\ar353rdday\\2021_07_16\\245.avi\n",
      "Saving filtered csv poses!\n",
      "Filtering with median model F:\\ar353rdday\\2021_07_16\\246.avi\n",
      "Saving filtered csv poses!\n",
      "Filtering with median model F:\\ar353rdday\\2021_07_16\\247.avi\n",
      "Saving filtered csv poses!\n",
      "Filtering with median model F:\\ar353rdday\\2021_07_16\\248.avi\n",
      "Saving filtered csv poses!\n",
      "Filtering with median model F:\\ar353rdday\\2021_07_16\\249.avi\n",
      "Saving filtered csv poses!\n",
      "Filtering with median model F:\\ar353rdday\\2021_07_16\\25.avi\n",
      "Saving filtered csv poses!\n",
      "Filtering with median model F:\\ar353rdday\\2021_07_16\\250.avi\n",
      "Saving filtered csv poses!\n",
      "Filtering with median model F:\\ar353rdday\\2021_07_16\\251.avi\n",
      "Saving filtered csv poses!\n",
      "Filtering with median model F:\\ar353rdday\\2021_07_16\\252.avi\n",
      "Saving filtered csv poses!\n",
      "Filtering with median model F:\\ar353rdday\\2021_07_16\\253.avi\n",
      "Saving filtered csv poses!\n",
      "Filtering with median model F:\\ar353rdday\\2021_07_16\\254.avi\n",
      "Saving filtered csv poses!\n",
      "Filtering with median model F:\\ar353rdday\\2021_07_16\\255.avi\n",
      "Saving filtered csv poses!\n",
      "Filtering with median model F:\\ar353rdday\\2021_07_16\\256.avi\n",
      "Saving filtered csv poses!\n",
      "Filtering with median model F:\\ar353rdday\\2021_07_16\\257.avi\n",
      "Saving filtered csv poses!\n",
      "Filtering with median model F:\\ar353rdday\\2021_07_16\\258.avi\n",
      "Saving filtered csv poses!\n",
      "Filtering with median model F:\\ar353rdday\\2021_07_16\\259.avi\n",
      "Saving filtered csv poses!\n",
      "Filtering with median model F:\\ar353rdday\\2021_07_16\\26.avi\n",
      "Saving filtered csv poses!\n",
      "Filtering with median model F:\\ar353rdday\\2021_07_16\\260.avi\n",
      "Saving filtered csv poses!\n",
      "Filtering with median model F:\\ar353rdday\\2021_07_16\\261.avi\n",
      "Saving filtered csv poses!\n"
     ]
    },
    {
     "name": "stdout",
     "output_type": "stream",
     "text": [
      "Filtering with median model F:\\ar353rdday\\2021_07_16\\262.avi\n",
      "Saving filtered csv poses!\n",
      "Filtering with median model F:\\ar353rdday\\2021_07_16\\263.avi\n",
      "Saving filtered csv poses!\n",
      "Filtering with median model F:\\ar353rdday\\2021_07_16\\264.avi\n",
      "Saving filtered csv poses!\n",
      "Filtering with median model F:\\ar353rdday\\2021_07_16\\265.avi\n",
      "Saving filtered csv poses!\n",
      "Filtering with median model F:\\ar353rdday\\2021_07_16\\266.avi\n",
      "Saving filtered csv poses!\n",
      "Filtering with median model F:\\ar353rdday\\2021_07_16\\267.avi\n",
      "Saving filtered csv poses!\n",
      "Filtering with median model F:\\ar353rdday\\2021_07_16\\268.avi\n",
      "Saving filtered csv poses!\n",
      "Filtering with median model F:\\ar353rdday\\2021_07_16\\269.avi\n",
      "Saving filtered csv poses!\n",
      "Filtering with median model F:\\ar353rdday\\2021_07_16\\27.avi\n",
      "Saving filtered csv poses!\n",
      "Filtering with median model F:\\ar353rdday\\2021_07_16\\270.avi\n",
      "Saving filtered csv poses!\n",
      "Filtering with median model F:\\ar353rdday\\2021_07_16\\271.avi\n",
      "Saving filtered csv poses!\n",
      "Filtering with median model F:\\ar353rdday\\2021_07_16\\272.avi\n",
      "Saving filtered csv poses!\n",
      "Filtering with median model F:\\ar353rdday\\2021_07_16\\273.avi\n",
      "Saving filtered csv poses!\n",
      "Filtering with median model F:\\ar353rdday\\2021_07_16\\274.avi\n",
      "Saving filtered csv poses!\n",
      "Filtering with median model F:\\ar353rdday\\2021_07_16\\275.avi\n",
      "Saving filtered csv poses!\n",
      "Filtering with median model F:\\ar353rdday\\2021_07_16\\276.avi\n",
      "Saving filtered csv poses!\n",
      "Filtering with median model F:\\ar353rdday\\2021_07_16\\277.avi\n",
      "Saving filtered csv poses!\n",
      "Filtering with median model F:\\ar353rdday\\2021_07_16\\278.avi\n",
      "Saving filtered csv poses!\n",
      "Filtering with median model F:\\ar353rdday\\2021_07_16\\279.avi\n",
      "Saving filtered csv poses!\n",
      "Filtering with median model F:\\ar353rdday\\2021_07_16\\28.avi\n",
      "Saving filtered csv poses!\n",
      "Filtering with median model F:\\ar353rdday\\2021_07_16\\280.avi\n",
      "Saving filtered csv poses!\n",
      "Filtering with median model F:\\ar353rdday\\2021_07_16\\281.avi\n",
      "Saving filtered csv poses!\n",
      "Filtering with median model F:\\ar353rdday\\2021_07_16\\282.avi\n",
      "Saving filtered csv poses!\n",
      "Filtering with median model F:\\ar353rdday\\2021_07_16\\283.avi\n",
      "Saving filtered csv poses!\n",
      "Filtering with median model F:\\ar353rdday\\2021_07_16\\284.avi\n",
      "Saving filtered csv poses!\n",
      "Filtering with median model F:\\ar353rdday\\2021_07_16\\285.avi\n",
      "Saving filtered csv poses!\n",
      "Filtering with median model F:\\ar353rdday\\2021_07_16\\29.avi\n",
      "Saving filtered csv poses!\n",
      "Filtering with median model F:\\ar353rdday\\2021_07_16\\3.avi\n",
      "Saving filtered csv poses!\n",
      "Filtering with median model F:\\ar353rdday\\2021_07_16\\30.avi\n",
      "Saving filtered csv poses!\n",
      "Filtering with median model F:\\ar353rdday\\2021_07_16\\31.avi\n",
      "Saving filtered csv poses!\n",
      "Filtering with median model F:\\ar353rdday\\2021_07_16\\32.avi\n",
      "Saving filtered csv poses!\n",
      "Filtering with median model F:\\ar353rdday\\2021_07_16\\33.avi\n",
      "Saving filtered csv poses!\n",
      "Filtering with median model F:\\ar353rdday\\2021_07_16\\34.avi\n",
      "Saving filtered csv poses!\n",
      "Filtering with median model F:\\ar353rdday\\2021_07_16\\35.avi\n",
      "Saving filtered csv poses!\n",
      "Filtering with median model F:\\ar353rdday\\2021_07_16\\36.avi\n",
      "Saving filtered csv poses!\n",
      "Filtering with median model F:\\ar353rdday\\2021_07_16\\37.avi\n",
      "Saving filtered csv poses!\n",
      "Filtering with median model F:\\ar353rdday\\2021_07_16\\38.avi\n",
      "Saving filtered csv poses!\n",
      "Filtering with median model F:\\ar353rdday\\2021_07_16\\39.avi\n",
      "Saving filtered csv poses!\n",
      "Filtering with median model F:\\ar353rdday\\2021_07_16\\4.avi\n",
      "Saving filtered csv poses!\n",
      "Filtering with median model F:\\ar353rdday\\2021_07_16\\40.avi\n",
      "Saving filtered csv poses!\n",
      "Filtering with median model F:\\ar353rdday\\2021_07_16\\41.avi\n",
      "Saving filtered csv poses!\n",
      "Filtering with median model F:\\ar353rdday\\2021_07_16\\42.avi\n",
      "Saving filtered csv poses!\n",
      "Filtering with median model F:\\ar353rdday\\2021_07_16\\43.avi\n",
      "Saving filtered csv poses!\n",
      "Filtering with median model F:\\ar353rdday\\2021_07_16\\44.avi\n",
      "Saving filtered csv poses!\n",
      "Filtering with median model F:\\ar353rdday\\2021_07_16\\45.avi\n",
      "Saving filtered csv poses!\n",
      "Filtering with median model F:\\ar353rdday\\2021_07_16\\46.avi\n",
      "Saving filtered csv poses!\n",
      "Filtering with median model F:\\ar353rdday\\2021_07_16\\47.avi\n",
      "Saving filtered csv poses!\n",
      "Filtering with median model F:\\ar353rdday\\2021_07_16\\48.avi\n",
      "Saving filtered csv poses!\n",
      "Filtering with median model F:\\ar353rdday\\2021_07_16\\49.avi\n",
      "Saving filtered csv poses!\n",
      "Filtering with median model F:\\ar353rdday\\2021_07_16\\5.avi\n",
      "Saving filtered csv poses!\n",
      "Filtering with median model F:\\ar353rdday\\2021_07_16\\50.avi\n",
      "Saving filtered csv poses!\n",
      "Filtering with median model F:\\ar353rdday\\2021_07_16\\51.avi\n",
      "Saving filtered csv poses!\n",
      "Filtering with median model F:\\ar353rdday\\2021_07_16\\52.avi\n",
      "Saving filtered csv poses!\n",
      "Filtering with median model F:\\ar353rdday\\2021_07_16\\53.avi\n",
      "Saving filtered csv poses!\n",
      "Filtering with median model F:\\ar353rdday\\2021_07_16\\54.avi\n",
      "Saving filtered csv poses!\n",
      "Filtering with median model F:\\ar353rdday\\2021_07_16\\55.avi\n",
      "Saving filtered csv poses!\n",
      "Filtering with median model F:\\ar353rdday\\2021_07_16\\56.avi\n",
      "Saving filtered csv poses!\n",
      "Filtering with median model F:\\ar353rdday\\2021_07_16\\57.avi\n",
      "Saving filtered csv poses!\n",
      "Filtering with median model F:\\ar353rdday\\2021_07_16\\58.avi\n",
      "Saving filtered csv poses!\n",
      "Filtering with median model F:\\ar353rdday\\2021_07_16\\59.avi\n",
      "Saving filtered csv poses!\n",
      "Filtering with median model F:\\ar353rdday\\2021_07_16\\6.avi\n",
      "Saving filtered csv poses!\n",
      "Filtering with median model F:\\ar353rdday\\2021_07_16\\60.avi\n",
      "Saving filtered csv poses!\n",
      "Filtering with median model F:\\ar353rdday\\2021_07_16\\61.avi\n",
      "Saving filtered csv poses!\n",
      "Filtering with median model F:\\ar353rdday\\2021_07_16\\62.avi\n",
      "Saving filtered csv poses!\n",
      "Filtering with median model F:\\ar353rdday\\2021_07_16\\63.avi\n",
      "Saving filtered csv poses!\n",
      "Filtering with median model F:\\ar353rdday\\2021_07_16\\64.avi\n",
      "Saving filtered csv poses!\n",
      "Filtering with median model F:\\ar353rdday\\2021_07_16\\65.avi\n",
      "Saving filtered csv poses!\n",
      "Filtering with median model F:\\ar353rdday\\2021_07_16\\66.avi\n",
      "Saving filtered csv poses!\n",
      "Filtering with median model F:\\ar353rdday\\2021_07_16\\67.avi\n",
      "Saving filtered csv poses!\n",
      "Filtering with median model F:\\ar353rdday\\2021_07_16\\68.avi\n",
      "Saving filtered csv poses!\n",
      "Filtering with median model F:\\ar353rdday\\2021_07_16\\69.avi\n",
      "Saving filtered csv poses!\n",
      "Filtering with median model F:\\ar353rdday\\2021_07_16\\7.avi\n",
      "Saving filtered csv poses!\n",
      "Filtering with median model F:\\ar353rdday\\2021_07_16\\70.avi\n",
      "Saving filtered csv poses!\n",
      "Filtering with median model F:\\ar353rdday\\2021_07_16\\71.avi\n",
      "Saving filtered csv poses!\n",
      "Filtering with median model F:\\ar353rdday\\2021_07_16\\72.avi\n",
      "Saving filtered csv poses!\n",
      "Filtering with median model F:\\ar353rdday\\2021_07_16\\73.avi\n",
      "Saving filtered csv poses!\n",
      "Filtering with median model F:\\ar353rdday\\2021_07_16\\74.avi\n",
      "Saving filtered csv poses!\n",
      "Filtering with median model F:\\ar353rdday\\2021_07_16\\75.avi\n",
      "Saving filtered csv poses!\n",
      "Filtering with median model F:\\ar353rdday\\2021_07_16\\76.avi\n",
      "Saving filtered csv poses!\n",
      "Filtering with median model F:\\ar353rdday\\2021_07_16\\77.avi\n",
      "Saving filtered csv poses!\n",
      "Filtering with median model F:\\ar353rdday\\2021_07_16\\78.avi\n",
      "Saving filtered csv poses!\n",
      "Filtering with median model F:\\ar353rdday\\2021_07_16\\79.avi\n",
      "Saving filtered csv poses!\n",
      "Filtering with median model F:\\ar353rdday\\2021_07_16\\8.avi\n",
      "Saving filtered csv poses!\n",
      "Filtering with median model F:\\ar353rdday\\2021_07_16\\80.avi\n",
      "Saving filtered csv poses!\n",
      "Filtering with median model F:\\ar353rdday\\2021_07_16\\81.avi\n",
      "Saving filtered csv poses!\n",
      "Filtering with median model F:\\ar353rdday\\2021_07_16\\82.avi\n",
      "Saving filtered csv poses!\n",
      "Filtering with median model F:\\ar353rdday\\2021_07_16\\83.avi\n",
      "Saving filtered csv poses!\n",
      "Filtering with median model F:\\ar353rdday\\2021_07_16\\84.avi\n",
      "Saving filtered csv poses!\n",
      "Filtering with median model F:\\ar353rdday\\2021_07_16\\85.avi\n",
      "Saving filtered csv poses!\n",
      "Filtering with median model F:\\ar353rdday\\2021_07_16\\86.avi\n",
      "Saving filtered csv poses!\n",
      "Filtering with median model F:\\ar353rdday\\2021_07_16\\87.avi\n",
      "Saving filtered csv poses!\n",
      "Filtering with median model F:\\ar353rdday\\2021_07_16\\88.avi\n",
      "Saving filtered csv poses!\n",
      "Filtering with median model F:\\ar353rdday\\2021_07_16\\89.avi\n",
      "Saving filtered csv poses!\n",
      "Filtering with median model F:\\ar353rdday\\2021_07_16\\9.avi\n",
      "Saving filtered csv poses!\n",
      "Filtering with median model F:\\ar353rdday\\2021_07_16\\90.avi\n",
      "Saving filtered csv poses!\n",
      "Filtering with median model F:\\ar353rdday\\2021_07_16\\91.avi\n",
      "Saving filtered csv poses!\n",
      "Filtering with median model F:\\ar353rdday\\2021_07_16\\92.avi\n",
      "Saving filtered csv poses!\n",
      "Filtering with median model F:\\ar353rdday\\2021_07_16\\93.avi\n",
      "Saving filtered csv poses!\n",
      "Filtering with median model F:\\ar353rdday\\2021_07_16\\94.avi\n",
      "Saving filtered csv poses!\n",
      "Filtering with median model F:\\ar353rdday\\2021_07_16\\95.avi\n",
      "Saving filtered csv poses!\n",
      "Filtering with median model F:\\ar353rdday\\2021_07_16\\96.avi\n",
      "Saving filtered csv poses!\n",
      "Filtering with median model F:\\ar353rdday\\2021_07_16\\97.avi\n",
      "Saving filtered csv poses!\n",
      "Filtering with median model F:\\ar353rdday\\2021_07_16\\98.avi\n",
      "Saving filtered csv poses!\n",
      "Filtering with median model F:\\ar353rdday\\2021_07_16\\99.avi\n",
      "Saving filtered csv poses!\n"
     ]
    }
   ],
   "source": [
    "\n",
    "#path_config_file = 'D:\\\\rat_movies_SC\\\\ar19muscimol\\\\10_10_2019\\\\ar19muscimol10-10-19_LR_R-Arash-2020-02-28\\\\config.yaml';\n",
    "#path_config_file = 'D:\\\\rat_movies_SC\\\\ar19muscimol\\\\10_10_2019\\\\ar19muscimol10-10-19_LR_L-Arash-2020-03-01\\\\config.yaml';\n",
    "#path_config_file = 'E:\\\\movies\\\\ar2breathing\\\\10_08_19\\\\ar2breathing_10_08_19-Arash-2020-03-26\\\\config.yaml'\n",
    "#path_config_file = 'E:\\\\movies\\\\ar2breathing\\\\10_08_19\\\\ar2breathing_10_08_19LR_R-Arash-2020-04-30\\\\config.yaml'\n",
    "#path_config_file = 'D:\\\\videos\\\\ar21\\\\2020-07-06\\\\ar21_07_06_20Face2-Arash-2020-07-07\\\\config.yaml';\n",
    "#path_config_file = 'D:\\\\Dropbox\\\\Notebook\\\\ar19_09_15_20Face3-Arash-2020-09-16\\\\config.yaml';\n",
    "#path_config_file = 'D:\\\\Dropbox\\\\Notebook\\\\ar19_09_15_20Face3-Arash-2020-09-16\\\\config.yaml';\n",
    "#path_config_file = 'D:\\\\videos\\\\ar32\\\\2020_10_09\\\\ar32_10_09_20Face3-Arash-2020-10-10\\\\config.yaml';\n",
    "#path_config_file = 'D:\\\\videos\\\\ar30\\\\ar30_10_11_04-Arash-2020-11-05\\\\config.yaml';\n",
    "#path_config_file = 'D:\\\\videos\\\\ar32\\\\ar32_10_11_24-Arash-2020-11-25\\\\config.yaml';\n",
    "\n",
    "import os\n",
    "#path_config_file = 'D:\\\\notebook\\\\ar30_10_10_14spouts-Arash-2020-10-24\\\\config.yaml';\n",
    "Mainfolder = 'E:\\\\movies\\\\ar2breathing\\\\10_06_19'\n",
    "Mainfolder = 'D:\\\\rat_movies_SC\\\\ar19muscimol\\\\10_10_2019'\n",
    "Mainfolder = 'D:\\\\rat_movies_SC\\\\ar19tear19salin\\\\10_08_19'\n",
    "Mainfolder = 'E:\\\\movies\\\\MUSCIMOL\\\\ar19tear19salin\\\\10_08_19'\n",
    "Mainfolder = 'D:\\\\videos\\\\ar32\\\\2020_11_24'\n",
    "Mainfolder = 'D:\\\\Sidevideos\\\\ar30motor\\\\2021_07_09'\n",
    "Mainfolder = 'D:\\\\Sidevideos\\\\ar343rdday\\\\2021_07_16'\n",
    "Mainfolder = 'D:\\\\Sidevideos\\\\ar343rdday\\\\2021_07_16'\n",
    "Mainfolder = 'F:\\\\ar353rdday\\\\2021_07_16\\\\';\n",
    "\n",
    "\n",
    "text_files = [os.path.join(Mainfolder,f) for f in os.listdir(Mainfolder) if f.endswith('.avi') and not f.endswith('L.avi') and not f.endswith('R.avi') and not f.endswith('videopoints.avi') and not f.endswith('videopoints.avi')]\n",
    "#text_files = [os.path.join(Mainfolder,f) for f in os.listdir(Mainfolder) if f.endswith('R.avi') and not f.endswith('L.avi') and not f.endswith('videopoints.avi') and not f.endswith('videopoints.avi')]\n",
    "#text_files = [os.path.join(Mainfolder,f) for f in os.listdir(Mainfolder) if f.endswith('L.avi') and not f.endswith('R.avi') and not f.endswith('videopoints.avi') and not f.endswith('videopoints.avi')]\n",
    "\n",
    "#text_files = [os.path.join(Mainfolder,f) for f in os.listdir(Mainfolder) if f.endswith('.mp4') and not f.endswith('L.avi') and not f.endswith('R.avi') and not f.endswith('videopoints.avi') and not f.endswith('videopoints.avi')]\n",
    "\n",
    "#path_config_file = 'F:\\\\ar19muscimol500ug500nlrightside\\\\10_10_19\\\\ar19_10102019-Fassihi-2019-11-12\\\\config.yaml';\n",
    "\n",
    "\n",
    "#path_config_file = 'D:\\\\rat_movies_SC\\\\ar19muscimol\\\\10_10_2019\\\\ar19muscimol10-10-19_LR_L-Arash-2020-03-01\\\\config.yaml'\n",
    "##text_files = ['']\n",
    "#text_files = 'E:\\\\movies\\\\ar2breathing\\\\10_08_19\\\\20-18-27.avi'\n",
    "\n",
    "print(text_files)\n",
    "#deeplabcut.analyze_videos(path_config_file,text_files[1:len(text_files)],shuffle=1, save_as_csv=True)\n",
    "#deeplabcut.analyze_videos(path_config_file,text_files[3],shuffle=1, save_as_csv=True)\n",
    "deeplabcut.analyze_videos(path_config_file,text_files,shuffle=1, save_as_csv=True)\n",
    "deeplabcut.filterpredictions(path_config_file,text_files)\n"
   ]
  },
  {
   "cell_type": "markdown",
   "metadata": {},
   "source": [
    "## Track non tracked files\n"
   ]
  },
  {
   "cell_type": "code",
   "execution_count": null,
   "metadata": {},
   "outputs": [],
   "source": [
    "# Track non tracked files \n",
    "import os\n",
    "path_config_file = 'F:\\\\ar2breathing\\\\10_06_19\\\\ar2_10062019_ii-Fassihi-2019-10-07\\\\config.yaml';\n",
    "\n",
    "Mainfolder = 'Y:\\\\movies_Rat_SC_project\\\\ar2breathing\\\\10_06_19'\n",
    "text_files = [os.path.join(Mainfolder,f) for f in os.listdir(Mainfolder) if f.endswith('.avi') and not f.endswith('L.avi') and not f.endswith('R.avi') and not f.endswith('videopoints.avi') and not f.endswith('breathing.avi')]\n",
    "text_files2 = [os.path.join(Mainfolder,f) for f in os.listdir(Mainfolder) if f.endswith('L.avi') ]\n",
    "#print(text_files)\n",
    "#%whos\n",
    "\n",
    "text_files3 = [f.replace(\"L.\", \".\") for f in text_files2 ]\n",
    "one_not_two = set(text_files) - set(text_files3)\n",
    "one_not_two = 'Y:\\\\movies_Rat_SC_project\\\\ar2breathing\\\\10_06_19\\\\22-25-05.avi'\n",
    "print(one_not_two)\n",
    "deeplabcut.analyze_videos(path_config_file,one_not_two,shuffle=1, save_as_csv=True)"
   ]
  },
  {
   "cell_type": "markdown",
   "metadata": {},
   "source": [
    "# Track Tracklets and then filter for multiple animals (maybe whiskers)"
   ]
  },
  {
   "cell_type": "code",
   "execution_count": null,
   "metadata": {},
   "outputs": [],
   "source": [
    "Mainfolder = 'D:\\\\videos\\\\ar21\\\\2020_07_08\\\\'\n",
    "import os\n",
    "\n",
    "text_files = [os.path.join(Mainfolder,f) for f in os.listdir(Mainfolder) if f.endswith('.avi') and not f.endswith('L.avi') and not f.endswith('R.avi') and not f.endswith('videopoints.avi') and not f.endswith('videopoints.avi')]\n",
    "print(text_files)\n",
    "deeplabcut.convert_detections2tracklets(path_config_file, text_files, videotype='avi',\n",
    "                                                    shuffle=1, trainingsetindex=0, track_method='skeleton')\n"
   ]
  },
  {
   "cell_type": "code",
   "execution_count": null,
   "metadata": {},
   "outputs": [],
   "source": [
    "deeplabcut.refine_tracklets(path_config_file, pickle_or_h5_file, videofile_path, min_swap_len=2, min_tracklet_len=2, trail_len=50)\n"
   ]
  },
  {
   "cell_type": "markdown",
   "metadata": {},
   "source": [
    "# filter the results using median model\n"
   ]
  },
  {
   "cell_type": "raw",
   "metadata": {},
   "source": [
    "deeplabcut.filterpredictions(path_config_file,text_files)\n"
   ]
  },
  {
   "cell_type": "markdown",
   "metadata": {},
   "source": [
    "# plot trajectories"
   ]
  },
  {
   "cell_type": "code",
   "execution_count": 11,
   "metadata": {},
   "outputs": [
    {
     "name": "stdout",
     "output_type": "stream",
     "text": [
      "['F:\\\\ar353rdday\\\\2021_07_16\\\\0.avi', 'F:\\\\ar353rdday\\\\2021_07_16\\\\1.avi', 'F:\\\\ar353rdday\\\\2021_07_16\\\\10.avi', 'F:\\\\ar353rdday\\\\2021_07_16\\\\100.avi', 'F:\\\\ar353rdday\\\\2021_07_16\\\\101.avi', 'F:\\\\ar353rdday\\\\2021_07_16\\\\102.avi', 'F:\\\\ar353rdday\\\\2021_07_16\\\\103.avi', 'F:\\\\ar353rdday\\\\2021_07_16\\\\104.avi', 'F:\\\\ar353rdday\\\\2021_07_16\\\\105.avi', 'F:\\\\ar353rdday\\\\2021_07_16\\\\106.avi', 'F:\\\\ar353rdday\\\\2021_07_16\\\\107.avi', 'F:\\\\ar353rdday\\\\2021_07_16\\\\108.avi', 'F:\\\\ar353rdday\\\\2021_07_16\\\\109.avi', 'F:\\\\ar353rdday\\\\2021_07_16\\\\11.avi', 'F:\\\\ar353rdday\\\\2021_07_16\\\\110.avi', 'F:\\\\ar353rdday\\\\2021_07_16\\\\111.avi', 'F:\\\\ar353rdday\\\\2021_07_16\\\\112.avi', 'F:\\\\ar353rdday\\\\2021_07_16\\\\113.avi', 'F:\\\\ar353rdday\\\\2021_07_16\\\\114.avi', 'F:\\\\ar353rdday\\\\2021_07_16\\\\115.avi', 'F:\\\\ar353rdday\\\\2021_07_16\\\\116.avi', 'F:\\\\ar353rdday\\\\2021_07_16\\\\117.avi', 'F:\\\\ar353rdday\\\\2021_07_16\\\\118.avi', 'F:\\\\ar353rdday\\\\2021_07_16\\\\119.avi', 'F:\\\\ar353rdday\\\\2021_07_16\\\\12.avi', 'F:\\\\ar353rdday\\\\2021_07_16\\\\120.avi', 'F:\\\\ar353rdday\\\\2021_07_16\\\\121.avi', 'F:\\\\ar353rdday\\\\2021_07_16\\\\122.avi', 'F:\\\\ar353rdday\\\\2021_07_16\\\\123.avi', 'F:\\\\ar353rdday\\\\2021_07_16\\\\124.avi', 'F:\\\\ar353rdday\\\\2021_07_16\\\\125.avi', 'F:\\\\ar353rdday\\\\2021_07_16\\\\126.avi', 'F:\\\\ar353rdday\\\\2021_07_16\\\\127.avi', 'F:\\\\ar353rdday\\\\2021_07_16\\\\128.avi', 'F:\\\\ar353rdday\\\\2021_07_16\\\\129.avi', 'F:\\\\ar353rdday\\\\2021_07_16\\\\13.avi', 'F:\\\\ar353rdday\\\\2021_07_16\\\\130.avi', 'F:\\\\ar353rdday\\\\2021_07_16\\\\131.avi', 'F:\\\\ar353rdday\\\\2021_07_16\\\\132.avi', 'F:\\\\ar353rdday\\\\2021_07_16\\\\133.avi', 'F:\\\\ar353rdday\\\\2021_07_16\\\\134.avi', 'F:\\\\ar353rdday\\\\2021_07_16\\\\135.avi', 'F:\\\\ar353rdday\\\\2021_07_16\\\\136.avi', 'F:\\\\ar353rdday\\\\2021_07_16\\\\137.avi', 'F:\\\\ar353rdday\\\\2021_07_16\\\\138.avi', 'F:\\\\ar353rdday\\\\2021_07_16\\\\139.avi', 'F:\\\\ar353rdday\\\\2021_07_16\\\\14.avi', 'F:\\\\ar353rdday\\\\2021_07_16\\\\140.avi', 'F:\\\\ar353rdday\\\\2021_07_16\\\\141.avi', 'F:\\\\ar353rdday\\\\2021_07_16\\\\142.avi', 'F:\\\\ar353rdday\\\\2021_07_16\\\\143.avi', 'F:\\\\ar353rdday\\\\2021_07_16\\\\144.avi', 'F:\\\\ar353rdday\\\\2021_07_16\\\\145.avi', 'F:\\\\ar353rdday\\\\2021_07_16\\\\146.avi', 'F:\\\\ar353rdday\\\\2021_07_16\\\\147.avi', 'F:\\\\ar353rdday\\\\2021_07_16\\\\148.avi', 'F:\\\\ar353rdday\\\\2021_07_16\\\\149.avi', 'F:\\\\ar353rdday\\\\2021_07_16\\\\15.avi', 'F:\\\\ar353rdday\\\\2021_07_16\\\\150.avi', 'F:\\\\ar353rdday\\\\2021_07_16\\\\151.avi', 'F:\\\\ar353rdday\\\\2021_07_16\\\\152.avi', 'F:\\\\ar353rdday\\\\2021_07_16\\\\153.avi', 'F:\\\\ar353rdday\\\\2021_07_16\\\\154.avi', 'F:\\\\ar353rdday\\\\2021_07_16\\\\155.avi', 'F:\\\\ar353rdday\\\\2021_07_16\\\\156.avi', 'F:\\\\ar353rdday\\\\2021_07_16\\\\157.avi', 'F:\\\\ar353rdday\\\\2021_07_16\\\\158.avi', 'F:\\\\ar353rdday\\\\2021_07_16\\\\159.avi', 'F:\\\\ar353rdday\\\\2021_07_16\\\\16.avi', 'F:\\\\ar353rdday\\\\2021_07_16\\\\160.avi', 'F:\\\\ar353rdday\\\\2021_07_16\\\\161.avi', 'F:\\\\ar353rdday\\\\2021_07_16\\\\162.avi', 'F:\\\\ar353rdday\\\\2021_07_16\\\\163.avi', 'F:\\\\ar353rdday\\\\2021_07_16\\\\164.avi', 'F:\\\\ar353rdday\\\\2021_07_16\\\\165.avi', 'F:\\\\ar353rdday\\\\2021_07_16\\\\166.avi', 'F:\\\\ar353rdday\\\\2021_07_16\\\\167.avi', 'F:\\\\ar353rdday\\\\2021_07_16\\\\168.avi', 'F:\\\\ar353rdday\\\\2021_07_16\\\\169.avi', 'F:\\\\ar353rdday\\\\2021_07_16\\\\17.avi', 'F:\\\\ar353rdday\\\\2021_07_16\\\\170.avi', 'F:\\\\ar353rdday\\\\2021_07_16\\\\171.avi', 'F:\\\\ar353rdday\\\\2021_07_16\\\\172.avi', 'F:\\\\ar353rdday\\\\2021_07_16\\\\173.avi', 'F:\\\\ar353rdday\\\\2021_07_16\\\\174.avi', 'F:\\\\ar353rdday\\\\2021_07_16\\\\175.avi', 'F:\\\\ar353rdday\\\\2021_07_16\\\\176.avi', 'F:\\\\ar353rdday\\\\2021_07_16\\\\177.avi', 'F:\\\\ar353rdday\\\\2021_07_16\\\\178.avi', 'F:\\\\ar353rdday\\\\2021_07_16\\\\179.avi', 'F:\\\\ar353rdday\\\\2021_07_16\\\\18.avi', 'F:\\\\ar353rdday\\\\2021_07_16\\\\180.avi', 'F:\\\\ar353rdday\\\\2021_07_16\\\\181.avi', 'F:\\\\ar353rdday\\\\2021_07_16\\\\182.avi', 'F:\\\\ar353rdday\\\\2021_07_16\\\\183.avi', 'F:\\\\ar353rdday\\\\2021_07_16\\\\184.avi', 'F:\\\\ar353rdday\\\\2021_07_16\\\\185.avi', 'F:\\\\ar353rdday\\\\2021_07_16\\\\186.avi', 'F:\\\\ar353rdday\\\\2021_07_16\\\\187.avi', 'F:\\\\ar353rdday\\\\2021_07_16\\\\188.avi', 'F:\\\\ar353rdday\\\\2021_07_16\\\\189.avi', 'F:\\\\ar353rdday\\\\2021_07_16\\\\19.avi', 'F:\\\\ar353rdday\\\\2021_07_16\\\\190.avi', 'F:\\\\ar353rdday\\\\2021_07_16\\\\191.avi', 'F:\\\\ar353rdday\\\\2021_07_16\\\\192.avi', 'F:\\\\ar353rdday\\\\2021_07_16\\\\193.avi', 'F:\\\\ar353rdday\\\\2021_07_16\\\\194.avi', 'F:\\\\ar353rdday\\\\2021_07_16\\\\195.avi', 'F:\\\\ar353rdday\\\\2021_07_16\\\\196.avi', 'F:\\\\ar353rdday\\\\2021_07_16\\\\197.avi', 'F:\\\\ar353rdday\\\\2021_07_16\\\\198.avi', 'F:\\\\ar353rdday\\\\2021_07_16\\\\199.avi', 'F:\\\\ar353rdday\\\\2021_07_16\\\\2.avi', 'F:\\\\ar353rdday\\\\2021_07_16\\\\20.avi', 'F:\\\\ar353rdday\\\\2021_07_16\\\\200.avi', 'F:\\\\ar353rdday\\\\2021_07_16\\\\201.avi', 'F:\\\\ar353rdday\\\\2021_07_16\\\\202.avi', 'F:\\\\ar353rdday\\\\2021_07_16\\\\203.avi', 'F:\\\\ar353rdday\\\\2021_07_16\\\\204.avi', 'F:\\\\ar353rdday\\\\2021_07_16\\\\205.avi', 'F:\\\\ar353rdday\\\\2021_07_16\\\\206.avi', 'F:\\\\ar353rdday\\\\2021_07_16\\\\207.avi', 'F:\\\\ar353rdday\\\\2021_07_16\\\\208.avi', 'F:\\\\ar353rdday\\\\2021_07_16\\\\209.avi', 'F:\\\\ar353rdday\\\\2021_07_16\\\\21.avi', 'F:\\\\ar353rdday\\\\2021_07_16\\\\210.avi', 'F:\\\\ar353rdday\\\\2021_07_16\\\\211.avi', 'F:\\\\ar353rdday\\\\2021_07_16\\\\212.avi', 'F:\\\\ar353rdday\\\\2021_07_16\\\\213.avi', 'F:\\\\ar353rdday\\\\2021_07_16\\\\214.avi', 'F:\\\\ar353rdday\\\\2021_07_16\\\\215.avi', 'F:\\\\ar353rdday\\\\2021_07_16\\\\216.avi', 'F:\\\\ar353rdday\\\\2021_07_16\\\\217.avi', 'F:\\\\ar353rdday\\\\2021_07_16\\\\218.avi', 'F:\\\\ar353rdday\\\\2021_07_16\\\\219.avi', 'F:\\\\ar353rdday\\\\2021_07_16\\\\22.avi', 'F:\\\\ar353rdday\\\\2021_07_16\\\\220.avi', 'F:\\\\ar353rdday\\\\2021_07_16\\\\221.avi', 'F:\\\\ar353rdday\\\\2021_07_16\\\\222.avi', 'F:\\\\ar353rdday\\\\2021_07_16\\\\223.avi', 'F:\\\\ar353rdday\\\\2021_07_16\\\\224.avi', 'F:\\\\ar353rdday\\\\2021_07_16\\\\225.avi', 'F:\\\\ar353rdday\\\\2021_07_16\\\\226.avi', 'F:\\\\ar353rdday\\\\2021_07_16\\\\227.avi', 'F:\\\\ar353rdday\\\\2021_07_16\\\\228.avi', 'F:\\\\ar353rdday\\\\2021_07_16\\\\229.avi', 'F:\\\\ar353rdday\\\\2021_07_16\\\\23.avi', 'F:\\\\ar353rdday\\\\2021_07_16\\\\230.avi', 'F:\\\\ar353rdday\\\\2021_07_16\\\\231.avi', 'F:\\\\ar353rdday\\\\2021_07_16\\\\232.avi', 'F:\\\\ar353rdday\\\\2021_07_16\\\\233.avi', 'F:\\\\ar353rdday\\\\2021_07_16\\\\234.avi', 'F:\\\\ar353rdday\\\\2021_07_16\\\\235.avi', 'F:\\\\ar353rdday\\\\2021_07_16\\\\236.avi', 'F:\\\\ar353rdday\\\\2021_07_16\\\\237.avi', 'F:\\\\ar353rdday\\\\2021_07_16\\\\238.avi', 'F:\\\\ar353rdday\\\\2021_07_16\\\\239.avi', 'F:\\\\ar353rdday\\\\2021_07_16\\\\24.avi', 'F:\\\\ar353rdday\\\\2021_07_16\\\\240.avi', 'F:\\\\ar353rdday\\\\2021_07_16\\\\241.avi', 'F:\\\\ar353rdday\\\\2021_07_16\\\\242.avi', 'F:\\\\ar353rdday\\\\2021_07_16\\\\243.avi', 'F:\\\\ar353rdday\\\\2021_07_16\\\\244.avi', 'F:\\\\ar353rdday\\\\2021_07_16\\\\245.avi', 'F:\\\\ar353rdday\\\\2021_07_16\\\\246.avi', 'F:\\\\ar353rdday\\\\2021_07_16\\\\247.avi', 'F:\\\\ar353rdday\\\\2021_07_16\\\\248.avi', 'F:\\\\ar353rdday\\\\2021_07_16\\\\249.avi', 'F:\\\\ar353rdday\\\\2021_07_16\\\\25.avi', 'F:\\\\ar353rdday\\\\2021_07_16\\\\250.avi', 'F:\\\\ar353rdday\\\\2021_07_16\\\\251.avi', 'F:\\\\ar353rdday\\\\2021_07_16\\\\252.avi', 'F:\\\\ar353rdday\\\\2021_07_16\\\\253.avi', 'F:\\\\ar353rdday\\\\2021_07_16\\\\254.avi', 'F:\\\\ar353rdday\\\\2021_07_16\\\\255.avi', 'F:\\\\ar353rdday\\\\2021_07_16\\\\256.avi', 'F:\\\\ar353rdday\\\\2021_07_16\\\\257.avi', 'F:\\\\ar353rdday\\\\2021_07_16\\\\258.avi', 'F:\\\\ar353rdday\\\\2021_07_16\\\\259.avi', 'F:\\\\ar353rdday\\\\2021_07_16\\\\26.avi', 'F:\\\\ar353rdday\\\\2021_07_16\\\\260.avi', 'F:\\\\ar353rdday\\\\2021_07_16\\\\261.avi', 'F:\\\\ar353rdday\\\\2021_07_16\\\\262.avi', 'F:\\\\ar353rdday\\\\2021_07_16\\\\263.avi', 'F:\\\\ar353rdday\\\\2021_07_16\\\\264.avi', 'F:\\\\ar353rdday\\\\2021_07_16\\\\265.avi', 'F:\\\\ar353rdday\\\\2021_07_16\\\\266.avi', 'F:\\\\ar353rdday\\\\2021_07_16\\\\267.avi', 'F:\\\\ar353rdday\\\\2021_07_16\\\\268.avi', 'F:\\\\ar353rdday\\\\2021_07_16\\\\269.avi', 'F:\\\\ar353rdday\\\\2021_07_16\\\\27.avi', 'F:\\\\ar353rdday\\\\2021_07_16\\\\270.avi', 'F:\\\\ar353rdday\\\\2021_07_16\\\\271.avi', 'F:\\\\ar353rdday\\\\2021_07_16\\\\272.avi', 'F:\\\\ar353rdday\\\\2021_07_16\\\\273.avi', 'F:\\\\ar353rdday\\\\2021_07_16\\\\274.avi', 'F:\\\\ar353rdday\\\\2021_07_16\\\\275.avi', 'F:\\\\ar353rdday\\\\2021_07_16\\\\276.avi', 'F:\\\\ar353rdday\\\\2021_07_16\\\\277.avi', 'F:\\\\ar353rdday\\\\2021_07_16\\\\278.avi', 'F:\\\\ar353rdday\\\\2021_07_16\\\\279.avi', 'F:\\\\ar353rdday\\\\2021_07_16\\\\28.avi', 'F:\\\\ar353rdday\\\\2021_07_16\\\\280.avi', 'F:\\\\ar353rdday\\\\2021_07_16\\\\281.avi', 'F:\\\\ar353rdday\\\\2021_07_16\\\\282.avi', 'F:\\\\ar353rdday\\\\2021_07_16\\\\283.avi', 'F:\\\\ar353rdday\\\\2021_07_16\\\\284.avi', 'F:\\\\ar353rdday\\\\2021_07_16\\\\285.avi', 'F:\\\\ar353rdday\\\\2021_07_16\\\\29.avi', 'F:\\\\ar353rdday\\\\2021_07_16\\\\3.avi', 'F:\\\\ar353rdday\\\\2021_07_16\\\\30.avi', 'F:\\\\ar353rdday\\\\2021_07_16\\\\31.avi', 'F:\\\\ar353rdday\\\\2021_07_16\\\\32.avi', 'F:\\\\ar353rdday\\\\2021_07_16\\\\33.avi', 'F:\\\\ar353rdday\\\\2021_07_16\\\\34.avi', 'F:\\\\ar353rdday\\\\2021_07_16\\\\35.avi', 'F:\\\\ar353rdday\\\\2021_07_16\\\\36.avi', 'F:\\\\ar353rdday\\\\2021_07_16\\\\37.avi', 'F:\\\\ar353rdday\\\\2021_07_16\\\\38.avi', 'F:\\\\ar353rdday\\\\2021_07_16\\\\39.avi', 'F:\\\\ar353rdday\\\\2021_07_16\\\\4.avi', 'F:\\\\ar353rdday\\\\2021_07_16\\\\40.avi', 'F:\\\\ar353rdday\\\\2021_07_16\\\\41.avi', 'F:\\\\ar353rdday\\\\2021_07_16\\\\42.avi', 'F:\\\\ar353rdday\\\\2021_07_16\\\\43.avi', 'F:\\\\ar353rdday\\\\2021_07_16\\\\44.avi', 'F:\\\\ar353rdday\\\\2021_07_16\\\\45.avi', 'F:\\\\ar353rdday\\\\2021_07_16\\\\46.avi', 'F:\\\\ar353rdday\\\\2021_07_16\\\\47.avi', 'F:\\\\ar353rdday\\\\2021_07_16\\\\48.avi', 'F:\\\\ar353rdday\\\\2021_07_16\\\\49.avi', 'F:\\\\ar353rdday\\\\2021_07_16\\\\5.avi', 'F:\\\\ar353rdday\\\\2021_07_16\\\\50.avi', 'F:\\\\ar353rdday\\\\2021_07_16\\\\51.avi', 'F:\\\\ar353rdday\\\\2021_07_16\\\\52.avi', 'F:\\\\ar353rdday\\\\2021_07_16\\\\53.avi', 'F:\\\\ar353rdday\\\\2021_07_16\\\\54.avi', 'F:\\\\ar353rdday\\\\2021_07_16\\\\55.avi', 'F:\\\\ar353rdday\\\\2021_07_16\\\\56.avi', 'F:\\\\ar353rdday\\\\2021_07_16\\\\57.avi', 'F:\\\\ar353rdday\\\\2021_07_16\\\\58.avi', 'F:\\\\ar353rdday\\\\2021_07_16\\\\59.avi', 'F:\\\\ar353rdday\\\\2021_07_16\\\\6.avi', 'F:\\\\ar353rdday\\\\2021_07_16\\\\60.avi', 'F:\\\\ar353rdday\\\\2021_07_16\\\\61.avi', 'F:\\\\ar353rdday\\\\2021_07_16\\\\62.avi', 'F:\\\\ar353rdday\\\\2021_07_16\\\\63.avi', 'F:\\\\ar353rdday\\\\2021_07_16\\\\64.avi', 'F:\\\\ar353rdday\\\\2021_07_16\\\\65.avi', 'F:\\\\ar353rdday\\\\2021_07_16\\\\66.avi', 'F:\\\\ar353rdday\\\\2021_07_16\\\\67.avi', 'F:\\\\ar353rdday\\\\2021_07_16\\\\68.avi', 'F:\\\\ar353rdday\\\\2021_07_16\\\\69.avi', 'F:\\\\ar353rdday\\\\2021_07_16\\\\7.avi', 'F:\\\\ar353rdday\\\\2021_07_16\\\\70.avi', 'F:\\\\ar353rdday\\\\2021_07_16\\\\71.avi', 'F:\\\\ar353rdday\\\\2021_07_16\\\\72.avi', 'F:\\\\ar353rdday\\\\2021_07_16\\\\73.avi', 'F:\\\\ar353rdday\\\\2021_07_16\\\\74.avi', 'F:\\\\ar353rdday\\\\2021_07_16\\\\75.avi', 'F:\\\\ar353rdday\\\\2021_07_16\\\\76.avi', 'F:\\\\ar353rdday\\\\2021_07_16\\\\77.avi', 'F:\\\\ar353rdday\\\\2021_07_16\\\\78.avi', 'F:\\\\ar353rdday\\\\2021_07_16\\\\79.avi', 'F:\\\\ar353rdday\\\\2021_07_16\\\\8.avi', 'F:\\\\ar353rdday\\\\2021_07_16\\\\80.avi', 'F:\\\\ar353rdday\\\\2021_07_16\\\\81.avi', 'F:\\\\ar353rdday\\\\2021_07_16\\\\82.avi', 'F:\\\\ar353rdday\\\\2021_07_16\\\\83.avi', 'F:\\\\ar353rdday\\\\2021_07_16\\\\84.avi', 'F:\\\\ar353rdday\\\\2021_07_16\\\\85.avi', 'F:\\\\ar353rdday\\\\2021_07_16\\\\86.avi', 'F:\\\\ar353rdday\\\\2021_07_16\\\\87.avi', 'F:\\\\ar353rdday\\\\2021_07_16\\\\88.avi', 'F:\\\\ar353rdday\\\\2021_07_16\\\\89.avi', 'F:\\\\ar353rdday\\\\2021_07_16\\\\9.avi', 'F:\\\\ar353rdday\\\\2021_07_16\\\\90.avi', 'F:\\\\ar353rdday\\\\2021_07_16\\\\91.avi', 'F:\\\\ar353rdday\\\\2021_07_16\\\\92.avi', 'F:\\\\ar353rdday\\\\2021_07_16\\\\93.avi', 'F:\\\\ar353rdday\\\\2021_07_16\\\\94.avi', 'F:\\\\ar353rdday\\\\2021_07_16\\\\95.avi', 'F:\\\\ar353rdday\\\\2021_07_16\\\\96.avi', 'F:\\\\ar353rdday\\\\2021_07_16\\\\97.avi', 'F:\\\\ar353rdday\\\\2021_07_16\\\\98.avi', 'F:\\\\ar353rdday\\\\2021_07_16\\\\99.avi']"
     ]
    },
    {
     "name": "stdout",
     "output_type": "stream",
     "text": [
      "\n",
      "Loading  F:\\ar353rdday\\2021_07_16\\1.avi and data.\n",
      "Loading  F:\\ar353rdday\\2021_07_16\\10.avi and data.\n",
      "Loading  F:\\ar353rdday\\2021_07_16\\100.avi and data.\n",
      "Loading  F:\\ar353rdday\\2021_07_16\\101.avi and data.\n",
      "Loading  F:\\ar353rdday\\2021_07_16\\102.avi and data.\n",
      "Loading  F:\\ar353rdday\\2021_07_16\\103.avi and data.\n",
      "Loading  F:\\ar353rdday\\2021_07_16\\104.avi and data.\n",
      "Loading  F:\\ar353rdday\\2021_07_16\\105.avi and data.\n",
      "Loading  F:\\ar353rdday\\2021_07_16\\106.avi and data.\n",
      "Loading  F:\\ar353rdday\\2021_07_16\\107.avi and data.\n",
      "Loading  F:\\ar353rdday\\2021_07_16\\108.avi and data.\n",
      "Loading  F:\\ar353rdday\\2021_07_16\\109.avi and data.\n",
      "Loading  F:\\ar353rdday\\2021_07_16\\11.avi and data.\n",
      "Loading  F:\\ar353rdday\\2021_07_16\\110.avi and data.\n",
      "Loading  F:\\ar353rdday\\2021_07_16\\111.avi and data.\n",
      "Loading  F:\\ar353rdday\\2021_07_16\\112.avi and data.\n",
      "Loading  F:\\ar353rdday\\2021_07_16\\113.avi and data.\n",
      "Loading  F:\\ar353rdday\\2021_07_16\\114.avi and data.\n",
      "Loading  F:\\ar353rdday\\2021_07_16\\115.avi and data.\n",
      "Loading  F:\\ar353rdday\\2021_07_16\\116.avi and data.\n",
      "Loading  F:\\ar353rdday\\2021_07_16\\117.avi and data.\n",
      "Loading  F:\\ar353rdday\\2021_07_16\\118.avi and data.\n",
      "Loading  F:\\ar353rdday\\2021_07_16\\119.avi and data.\n",
      "Loading  F:\\ar353rdday\\2021_07_16\\12.avi and data.\n",
      "Loading  F:\\ar353rdday\\2021_07_16\\120.avi and data.\n",
      "Loading  F:\\ar353rdday\\2021_07_16\\121.avi and data.\n",
      "Loading  F:\\ar353rdday\\2021_07_16\\122.avi and data.\n",
      "Loading  F:\\ar353rdday\\2021_07_16\\123.avi and data.\n",
      "Loading  F:\\ar353rdday\\2021_07_16\\124.avi and data.\n",
      "Loading  F:\\ar353rdday\\2021_07_16\\125.avi and data.\n",
      "Loading  F:\\ar353rdday\\2021_07_16\\126.avi and data.\n",
      "Loading  F:\\ar353rdday\\2021_07_16\\127.avi and data.\n",
      "Loading  F:\\ar353rdday\\2021_07_16\\128.avi and data.\n",
      "Loading  F:\\ar353rdday\\2021_07_16\\129.avi and data.\n",
      "Loading  F:\\ar353rdday\\2021_07_16\\13.avi and data.\n",
      "Loading  F:\\ar353rdday\\2021_07_16\\130.avi and data.\n",
      "Loading  F:\\ar353rdday\\2021_07_16\\131.avi and data.\n",
      "Loading  F:\\ar353rdday\\2021_07_16\\132.avi and data.\n",
      "Loading  F:\\ar353rdday\\2021_07_16\\133.avi and data.\n",
      "Loading  F:\\ar353rdday\\2021_07_16\\134.avi and data.\n",
      "Loading  F:\\ar353rdday\\2021_07_16\\135.avi and data.\n",
      "Loading  F:\\ar353rdday\\2021_07_16\\136.avi and data.\n",
      "Loading  F:\\ar353rdday\\2021_07_16\\137.avi and data.\n",
      "Loading  F:\\ar353rdday\\2021_07_16\\138.avi and data.\n",
      "Loading  F:\\ar353rdday\\2021_07_16\\139.avi and data.\n",
      "Loading  F:\\ar353rdday\\2021_07_16\\14.avi and data.\n",
      "Loading  F:\\ar353rdday\\2021_07_16\\140.avi and data.\n",
      "Loading  F:\\ar353rdday\\2021_07_16\\141.avi and data.\n",
      "Loading  F:\\ar353rdday\\2021_07_16\\142.avi and data.\n",
      "Loading  F:\\ar353rdday\\2021_07_16\\143.avi and data.\n",
      "Loading  F:\\ar353rdday\\2021_07_16\\144.avi and data.\n",
      "Loading  F:\\ar353rdday\\2021_07_16\\145.avi and data.\n",
      "Loading  F:\\ar353rdday\\2021_07_16\\146.avi and data.\n",
      "Loading  F:\\ar353rdday\\2021_07_16\\147.avi and data.\n",
      "Loading  F:\\ar353rdday\\2021_07_16\\148.avi and data.\n",
      "Loading  F:\\ar353rdday\\2021_07_16\\149.avi and data.\n",
      "Loading  F:\\ar353rdday\\2021_07_16\\15.avi and data.\n",
      "Loading  F:\\ar353rdday\\2021_07_16\\150.avi and data.\n",
      "Loading  F:\\ar353rdday\\2021_07_16\\151.avi and data.\n",
      "Loading  F:\\ar353rdday\\2021_07_16\\152.avi and data.\n",
      "Loading  F:\\ar353rdday\\2021_07_16\\153.avi and data.\n",
      "Loading  F:\\ar353rdday\\2021_07_16\\154.avi and data.\n",
      "Loading  F:\\ar353rdday\\2021_07_16\\155.avi and data.\n",
      "Loading  F:\\ar353rdday\\2021_07_16\\156.avi and data.\n",
      "Loading  F:\\ar353rdday\\2021_07_16\\157.avi and data.\n",
      "Loading  F:\\ar353rdday\\2021_07_16\\158.avi and data.\n",
      "Loading  F:\\ar353rdday\\2021_07_16\\159.avi and data.\n",
      "Loading  F:\\ar353rdday\\2021_07_16\\16.avi and data.\n",
      "Loading  F:\\ar353rdday\\2021_07_16\\160.avi and data.\n",
      "Loading  F:\\ar353rdday\\2021_07_16\\161.avi and data.\n",
      "Loading  F:\\ar353rdday\\2021_07_16\\162.avi and data.\n",
      "Loading  F:\\ar353rdday\\2021_07_16\\163.avi and data.\n",
      "Loading  F:\\ar353rdday\\2021_07_16\\164.avi and data.\n",
      "Loading  F:\\ar353rdday\\2021_07_16\\165.avi and data.\n",
      "Loading  F:\\ar353rdday\\2021_07_16\\166.avi and data.\n",
      "Loading  F:\\ar353rdday\\2021_07_16\\167.avi and data.\n",
      "Loading  F:\\ar353rdday\\2021_07_16\\168.avi and data.\n",
      "Loading  F:\\ar353rdday\\2021_07_16\\169.avi and data.\n",
      "Loading  F:\\ar353rdday\\2021_07_16\\17.avi and data.\n",
      "Loading  F:\\ar353rdday\\2021_07_16\\170.avi and data.\n",
      "Loading  F:\\ar353rdday\\2021_07_16\\171.avi and data.\n",
      "Loading  F:\\ar353rdday\\2021_07_16\\172.avi and data.\n",
      "Loading  F:\\ar353rdday\\2021_07_16\\173.avi and data.\n",
      "Loading  F:\\ar353rdday\\2021_07_16\\174.avi and data.\n",
      "Loading  F:\\ar353rdday\\2021_07_16\\175.avi and data.\n",
      "Loading  F:\\ar353rdday\\2021_07_16\\176.avi and data.\n",
      "Loading  F:\\ar353rdday\\2021_07_16\\177.avi and data.\n",
      "Loading  F:\\ar353rdday\\2021_07_16\\178.avi and data.\n",
      "Loading  F:\\ar353rdday\\2021_07_16\\179.avi and data.\n",
      "Loading  F:\\ar353rdday\\2021_07_16\\18.avi and data.\n",
      "Loading  F:\\ar353rdday\\2021_07_16\\180.avi and data.\n",
      "Loading  F:\\ar353rdday\\2021_07_16\\181.avi and data.\n",
      "Loading  F:\\ar353rdday\\2021_07_16\\182.avi and data.\n",
      "Loading  F:\\ar353rdday\\2021_07_16\\183.avi and data.\n",
      "Loading  F:\\ar353rdday\\2021_07_16\\184.avi and data.\n",
      "Loading  F:\\ar353rdday\\2021_07_16\\185.avi and data.\n",
      "Loading  F:\\ar353rdday\\2021_07_16\\186.avi and data.\n",
      "Loading  F:\\ar353rdday\\2021_07_16\\187.avi and data.\n",
      "Loading  F:\\ar353rdday\\2021_07_16\\188.avi and data.\n",
      "Loading  F:\\ar353rdday\\2021_07_16\\189.avi and data.\n",
      "Loading  F:\\ar353rdday\\2021_07_16\\19.avi and data.\n",
      "Loading  F:\\ar353rdday\\2021_07_16\\190.avi and data.\n",
      "Loading  F:\\ar353rdday\\2021_07_16\\191.avi and data.\n",
      "Loading  F:\\ar353rdday\\2021_07_16\\192.avi and data.\n",
      "Loading  F:\\ar353rdday\\2021_07_16\\193.avi and data.\n",
      "Loading  F:\\ar353rdday\\2021_07_16\\194.avi and data.\n",
      "Loading  F:\\ar353rdday\\2021_07_16\\195.avi and data.\n",
      "Loading  F:\\ar353rdday\\2021_07_16\\196.avi and data.\n",
      "Loading  F:\\ar353rdday\\2021_07_16\\197.avi and data.\n",
      "Loading  F:\\ar353rdday\\2021_07_16\\198.avi and data.\n",
      "Loading  F:\\ar353rdday\\2021_07_16\\199.avi and data.\n",
      "Loading  F:\\ar353rdday\\2021_07_16\\2.avi and data.\n",
      "Loading  F:\\ar353rdday\\2021_07_16\\20.avi and data.\n",
      "Loading  F:\\ar353rdday\\2021_07_16\\200.avi and data.\n",
      "Loading  F:\\ar353rdday\\2021_07_16\\201.avi and data.\n",
      "Loading  F:\\ar353rdday\\2021_07_16\\202.avi and data.\n",
      "Loading  F:\\ar353rdday\\2021_07_16\\203.avi and data.\n",
      "Loading  F:\\ar353rdday\\2021_07_16\\204.avi and data.\n",
      "Loading  F:\\ar353rdday\\2021_07_16\\205.avi and data.\n",
      "Loading  F:\\ar353rdday\\2021_07_16\\206.avi and data.\n",
      "Loading  F:\\ar353rdday\\2021_07_16\\207.avi and data.\n",
      "Loading  F:\\ar353rdday\\2021_07_16\\208.avi and data.\n",
      "Loading  F:\\ar353rdday\\2021_07_16\\209.avi and data.\n",
      "Loading  F:\\ar353rdday\\2021_07_16\\21.avi and data.\n",
      "Loading  F:\\ar353rdday\\2021_07_16\\210.avi and data.\n",
      "Loading  F:\\ar353rdday\\2021_07_16\\211.avi and data.\n",
      "Loading  F:\\ar353rdday\\2021_07_16\\212.avi and data.\n",
      "Loading  F:\\ar353rdday\\2021_07_16\\213.avi and data.\n",
      "Loading  F:\\ar353rdday\\2021_07_16\\214.avi and data.\n",
      "Loading  F:\\ar353rdday\\2021_07_16\\215.avi and data.\n",
      "Loading  F:\\ar353rdday\\2021_07_16\\216.avi and data.\n",
      "Loading  F:\\ar353rdday\\2021_07_16\\217.avi and data.\n",
      "Loading  F:\\ar353rdday\\2021_07_16\\218.avi and data.\n",
      "Loading  F:\\ar353rdday\\2021_07_16\\219.avi and data.\n",
      "Loading  F:\\ar353rdday\\2021_07_16\\22.avi and data.\n",
      "Loading  F:\\ar353rdday\\2021_07_16\\220.avi and data.\n",
      "Loading  F:\\ar353rdday\\2021_07_16\\221.avi and data.\n",
      "Loading  F:\\ar353rdday\\2021_07_16\\222.avi and data.\n",
      "Loading  F:\\ar353rdday\\2021_07_16\\223.avi and data.\n",
      "Loading  F:\\ar353rdday\\2021_07_16\\224.avi and data.\n",
      "Loading  F:\\ar353rdday\\2021_07_16\\225.avi and data.\n",
      "Loading  F:\\ar353rdday\\2021_07_16\\226.avi and data.\n",
      "Loading  F:\\ar353rdday\\2021_07_16\\227.avi and data.\n",
      "Loading  F:\\ar353rdday\\2021_07_16\\228.avi and data.\n",
      "Loading  F:\\ar353rdday\\2021_07_16\\229.avi and data.\n",
      "Loading  F:\\ar353rdday\\2021_07_16\\23.avi and data.\n",
      "Loading  F:\\ar353rdday\\2021_07_16\\230.avi and data.\n",
      "Loading  F:\\ar353rdday\\2021_07_16\\231.avi and data.\n",
      "Loading  F:\\ar353rdday\\2021_07_16\\232.avi and data.\n",
      "Loading  F:\\ar353rdday\\2021_07_16\\233.avi and data.\n",
      "Loading  F:\\ar353rdday\\2021_07_16\\234.avi and data.\n",
      "Loading  F:\\ar353rdday\\2021_07_16\\235.avi and data.\n",
      "Loading  F:\\ar353rdday\\2021_07_16\\236.avi and data.\n",
      "Loading  F:\\ar353rdday\\2021_07_16\\237.avi and data.\n",
      "Loading  F:\\ar353rdday\\2021_07_16\\238.avi and data.\n",
      "Loading  F:\\ar353rdday\\2021_07_16\\239.avi and data.\n",
      "Loading  F:\\ar353rdday\\2021_07_16\\24.avi and data.\n",
      "Loading  F:\\ar353rdday\\2021_07_16\\240.avi and data.\n",
      "Loading  F:\\ar353rdday\\2021_07_16\\241.avi and data.\n",
      "Loading  F:\\ar353rdday\\2021_07_16\\242.avi and data.\n",
      "Loading  F:\\ar353rdday\\2021_07_16\\243.avi and data.\n",
      "Loading  F:\\ar353rdday\\2021_07_16\\244.avi and data.\n",
      "Loading  F:\\ar353rdday\\2021_07_16\\245.avi and data.\n",
      "Loading  F:\\ar353rdday\\2021_07_16\\246.avi and data.\n",
      "Loading  F:\\ar353rdday\\2021_07_16\\247.avi and data.\n",
      "Loading  F:\\ar353rdday\\2021_07_16\\248.avi and data.\n",
      "Loading  F:\\ar353rdday\\2021_07_16\\249.avi and data.\n",
      "Loading  F:\\ar353rdday\\2021_07_16\\25.avi and data.\n",
      "Loading  F:\\ar353rdday\\2021_07_16\\250.avi and data.\n",
      "Loading  F:\\ar353rdday\\2021_07_16\\251.avi and data.\n",
      "Loading  F:\\ar353rdday\\2021_07_16\\252.avi and data.\n",
      "Loading  F:\\ar353rdday\\2021_07_16\\253.avi and data.\n",
      "Loading  F:\\ar353rdday\\2021_07_16\\254.avi and data.\n",
      "Loading  F:\\ar353rdday\\2021_07_16\\255.avi and data.\n",
      "Loading  F:\\ar353rdday\\2021_07_16\\256.avi and data.\n",
      "Loading  F:\\ar353rdday\\2021_07_16\\257.avi and data.\n",
      "Loading  F:\\ar353rdday\\2021_07_16\\258.avi and data.\n",
      "Loading  F:\\ar353rdday\\2021_07_16\\259.avi and data.\n",
      "Loading  F:\\ar353rdday\\2021_07_16\\26.avi and data.\n",
      "Loading  F:\\ar353rdday\\2021_07_16\\260.avi and data.\n",
      "Loading  F:\\ar353rdday\\2021_07_16\\261.avi and data.\n",
      "Loading  F:\\ar353rdday\\2021_07_16\\262.avi and data.\n",
      "Loading  F:\\ar353rdday\\2021_07_16\\263.avi and data.\n",
      "Loading  F:\\ar353rdday\\2021_07_16\\264.avi and data.\n",
      "Loading  F:\\ar353rdday\\2021_07_16\\265.avi and data.\n",
      "Loading  F:\\ar353rdday\\2021_07_16\\266.avi and data.\n",
      "Loading  F:\\ar353rdday\\2021_07_16\\267.avi and data.\n",
      "Loading  F:\\ar353rdday\\2021_07_16\\268.avi and data.\n",
      "Loading  F:\\ar353rdday\\2021_07_16\\269.avi and data.\n",
      "Loading  F:\\ar353rdday\\2021_07_16\\27.avi and data.\n",
      "Loading  F:\\ar353rdday\\2021_07_16\\270.avi and data.\n",
      "Loading  F:\\ar353rdday\\2021_07_16\\271.avi and data.\n",
      "Loading  F:\\ar353rdday\\2021_07_16\\272.avi and data.\n",
      "Loading  F:\\ar353rdday\\2021_07_16\\273.avi and data.\n",
      "Loading  F:\\ar353rdday\\2021_07_16\\274.avi and data.\n",
      "Loading  F:\\ar353rdday\\2021_07_16\\275.avi and data.\n",
      "Loading  F:\\ar353rdday\\2021_07_16\\276.avi and data.\n",
      "Loading  F:\\ar353rdday\\2021_07_16\\277.avi and data.\n",
      "Loading  F:\\ar353rdday\\2021_07_16\\278.avi and data.\n",
      "Loading  F:\\ar353rdday\\2021_07_16\\279.avi and data.\n",
      "Loading  F:\\ar353rdday\\2021_07_16\\28.avi and data.\n",
      "Loading  F:\\ar353rdday\\2021_07_16\\280.avi and data.\n",
      "Loading  F:\\ar353rdday\\2021_07_16\\281.avi and data.\n",
      "Loading  F:\\ar353rdday\\2021_07_16\\282.avi and data.\n",
      "Loading  F:\\ar353rdday\\2021_07_16\\283.avi and data.\n",
      "Loading  F:\\ar353rdday\\2021_07_16\\284.avi and data.\n",
      "Loading  F:\\ar353rdday\\2021_07_16\\285.avi and data.\n",
      "Loading  F:\\ar353rdday\\2021_07_16\\29.avi and data.\n",
      "Loading  F:\\ar353rdday\\2021_07_16\\3.avi and data.\n",
      "Loading  F:\\ar353rdday\\2021_07_16\\30.avi and data.\n",
      "Loading  F:\\ar353rdday\\2021_07_16\\31.avi and data.\n",
      "Loading  F:\\ar353rdday\\2021_07_16\\32.avi and data.\n",
      "Loading  F:\\ar353rdday\\2021_07_16\\33.avi and data.\n",
      "Loading  F:\\ar353rdday\\2021_07_16\\34.avi and data.\n",
      "Loading  F:\\ar353rdday\\2021_07_16\\35.avi and data.\n",
      "Loading  F:\\ar353rdday\\2021_07_16\\36.avi and data.\n",
      "Loading  F:\\ar353rdday\\2021_07_16\\37.avi and data.\n",
      "Loading  F:\\ar353rdday\\2021_07_16\\38.avi and data.\n",
      "Loading  F:\\ar353rdday\\2021_07_16\\39.avi and data.\n",
      "Loading  F:\\ar353rdday\\2021_07_16\\4.avi and data.\n",
      "Loading  F:\\ar353rdday\\2021_07_16\\40.avi and data.\n",
      "Loading  F:\\ar353rdday\\2021_07_16\\41.avi and data.\n",
      "Loading  F:\\ar353rdday\\2021_07_16\\42.avi and data.\n",
      "Loading  F:\\ar353rdday\\2021_07_16\\43.avi and data.\n",
      "Loading  F:\\ar353rdday\\2021_07_16\\44.avi and data.\n",
      "Loading  F:\\ar353rdday\\2021_07_16\\45.avi and data.\n",
      "Loading  F:\\ar353rdday\\2021_07_16\\46.avi and data.\n",
      "Loading  F:\\ar353rdday\\2021_07_16\\47.avi and data.\n",
      "Loading  F:\\ar353rdday\\2021_07_16\\48.avi and data.\n",
      "Loading  F:\\ar353rdday\\2021_07_16\\49.avi and data.\n",
      "Loading  F:\\ar353rdday\\2021_07_16\\5.avi and data.\n",
      "Loading  F:\\ar353rdday\\2021_07_16\\50.avi and data.\n",
      "Loading  F:\\ar353rdday\\2021_07_16\\51.avi and data.\n",
      "Loading  F:\\ar353rdday\\2021_07_16\\52.avi and data.\n",
      "Loading  F:\\ar353rdday\\2021_07_16\\53.avi and data.\n",
      "Loading  F:\\ar353rdday\\2021_07_16\\54.avi and data.\n",
      "Loading  F:\\ar353rdday\\2021_07_16\\55.avi and data.\n",
      "Loading  F:\\ar353rdday\\2021_07_16\\56.avi and data.\n",
      "Loading  F:\\ar353rdday\\2021_07_16\\57.avi and data.\n",
      "Loading  F:\\ar353rdday\\2021_07_16\\58.avi and data.\n",
      "Loading  F:\\ar353rdday\\2021_07_16\\59.avi and data.\n",
      "Loading  F:\\ar353rdday\\2021_07_16\\6.avi and data.\n",
      "Loading  F:\\ar353rdday\\2021_07_16\\60.avi and data.\n",
      "Loading  F:\\ar353rdday\\2021_07_16\\61.avi and data.\n",
      "Loading  F:\\ar353rdday\\2021_07_16\\62.avi and data.\n",
      "Loading  F:\\ar353rdday\\2021_07_16\\63.avi and data.\n",
      "Loading  F:\\ar353rdday\\2021_07_16\\64.avi and data.\n",
      "Loading  F:\\ar353rdday\\2021_07_16\\65.avi and data.\n",
      "Loading  F:\\ar353rdday\\2021_07_16\\66.avi and data.\n",
      "Loading  F:\\ar353rdday\\2021_07_16\\67.avi and data.\n",
      "Loading  F:\\ar353rdday\\2021_07_16\\68.avi and data.\n",
      "Loading  F:\\ar353rdday\\2021_07_16\\69.avi and data.\n",
      "Loading  F:\\ar353rdday\\2021_07_16\\7.avi and data.\n",
      "Loading  F:\\ar353rdday\\2021_07_16\\70.avi and data.\n",
      "Loading  F:\\ar353rdday\\2021_07_16\\71.avi and data.\n",
      "Loading  F:\\ar353rdday\\2021_07_16\\72.avi and data.\n",
      "Loading  F:\\ar353rdday\\2021_07_16\\73.avi and data.\n",
      "Loading  F:\\ar353rdday\\2021_07_16\\74.avi and data.\n",
      "Loading  F:\\ar353rdday\\2021_07_16\\75.avi and data.\n",
      "Loading  F:\\ar353rdday\\2021_07_16\\76.avi and data.\n",
      "Loading  F:\\ar353rdday\\2021_07_16\\77.avi and data.\n",
      "Loading  F:\\ar353rdday\\2021_07_16\\78.avi and data.\n",
      "Loading  F:\\ar353rdday\\2021_07_16\\79.avi and data.\n",
      "Loading  F:\\ar353rdday\\2021_07_16\\8.avi and data.\n",
      "Loading  F:\\ar353rdday\\2021_07_16\\80.avi and data.\n",
      "Loading  F:\\ar353rdday\\2021_07_16\\81.avi and data.\n",
      "Loading  F:\\ar353rdday\\2021_07_16\\82.avi and data.\n",
      "Loading  F:\\ar353rdday\\2021_07_16\\83.avi and data.\n",
      "Loading  F:\\ar353rdday\\2021_07_16\\84.avi and data.\n",
      "Loading  F:\\ar353rdday\\2021_07_16\\85.avi and data.\n",
      "Loading  F:\\ar353rdday\\2021_07_16\\86.avi and data.\n",
      "Loading  F:\\ar353rdday\\2021_07_16\\87.avi and data.\n",
      "Loading  F:\\ar353rdday\\2021_07_16\\88.avi and data.\n",
      "Loading  F:\\ar353rdday\\2021_07_16\\89.avi and data.\n",
      "Loading  F:\\ar353rdday\\2021_07_16\\9.avi and data.\n",
      "Loading  F:\\ar353rdday\\2021_07_16\\90.avi and data.\n",
      "Loading  F:\\ar353rdday\\2021_07_16\\91.avi and data.\n",
      "Loading  F:\\ar353rdday\\2021_07_16\\92.avi and data.\n",
      "Loading  F:\\ar353rdday\\2021_07_16\\93.avi and data.\n",
      "Loading  F:\\ar353rdday\\2021_07_16\\94.avi and data.\n",
      "Loading  F:\\ar353rdday\\2021_07_16\\95.avi and data.\n",
      "Loading  F:\\ar353rdday\\2021_07_16\\96.avi and data.\n",
      "Loading  F:\\ar353rdday\\2021_07_16\\97.avi and data.\n",
      "Loading  F:\\ar353rdday\\2021_07_16\\98.avi and data.\n",
      "Loading  F:\\ar353rdday\\2021_07_16\\99.avi and data.\n",
      "Plots created! Please check the directory \"plot-poses\" within the video directory\n"
     ]
    }
   ],
   "source": [
    "#path_config_file = 'D:\\\\videos\\\\ar32\\\\ar32_10_11_24-Arash-2020-11-25\\\\config.yaml';\n",
    "#Mainfolder = 'D:\\\\videos\\\\ar30\\\\2021_01_09';\n",
    "\n",
    "import os\n",
    "text_files = [os.path.join(Mainfolder,f) for f in os.listdir(Mainfolder) if f.endswith('.avi') and not f.endswith('Tracked.avi') and not f.endswith('L.avi') and not f.endswith('R.avi') and not f.endswith('videopoints.avi') and not f.endswith('videopoints.avi')]\n",
    "videofile = os.path.join(Mainfolder,'119.avi')\n",
    "print(text_files)\n",
    "del text_files[0]\n",
    "deeplabcut.plot_trajectories(path_config_file,text_files,filtered = True)\n",
    "deeplabcut.create_labeled_video(path_config_file,text_files,save_frames=False)"
   ]
  },
  {
   "cell_type": "markdown",
   "metadata": {
    "colab_type": "text",
    "id": "pCrUvQIvoEKD"
   },
   "source": [
    "## Create labeled video\n",
    "This funtion is for visualiztion purpose and can be used to create a video in .mp4 format with labels predicted by the network. This video is saved in the same directory where the original video resides. "
   ]
  },
  {
   "cell_type": "code",
   "execution_count": null,
   "metadata": {
    "colab": {},
    "colab_type": "code",
    "id": "6aDF7Q7KoEKE",
    "scrolled": true
   },
   "outputs": [],
   "source": [
    "# first we create a vector of destination file names\n",
    "import os \n",
    "\n",
    "dirname = os.path.dirname(text_files[1]) \n",
    "\n",
    "thesenames= [os.path.basename(f)  for f in text_files] \n",
    "text_files2 = [os.path.join( os.path.join(os.path.dirname(text_files[1]),'labled'),f) for f in thesenames ]  \n",
    "\n",
    "#os.mkdir\n",
    "if not (os.path.isdir(os.path.join(os.path.dirname(text_files[1]),'labled'))):\n",
    " os.mkdir(os.path.join(os.path.dirname(text_files[1]),'labled'))\n",
    "# Print the directory name   \n",
    "print(text_files2[1]) \n",
    "for f in text_files:\n",
    "\n",
    "#deeplabcut.create_labeled_video(path_config_file,videofile,save_frames=True) # my_new_list was created in prevouse cell as all videos in the folder \n",
    "#deeplabcut.create_labeled_video(path_config_file,[text_files[0],text_files2[0]],save_frames=True)\n",
    "  "
   ]
  },
  {
   "cell_type": "markdown",
   "metadata": {
    "colab_type": "text",
    "id": "iGu_PdTWoEJr"
   },
   "source": [
    "## Extract outlier frames [This is important step actually]\n",
    "This is an optional step and is used only when the evaluation results are poor i.e. the labels are incorrectly predicted. In such a case, the user can use the following function to extract frames where the labels are incorrectly predicted. Make sure to provide the correct value of the \"iterations\" as it will be used to create the unique directory where the extracted frames will be saved."
   ]
  },
  {
   "cell_type": "code",
   "execution_count": 5,
   "metadata": {},
   "outputs": [
    {
     "name": "stdout",
     "output_type": "stream",
     "text": [
      "F:\\DLC\\Topview3435-Arash-2021-07-28\\config.yaml\n",
      "No unfiltered data file found in F:\\videos\\ar32motor\\2021_08_02 for video 0 and scorer DLC_resnet50_Topview3435Jul28shuffle1_110000.\n",
      "It seems the video has not been analyzed yet, or the video is not found! You can only refine the labels after the a video is analyzed. Please run 'analyze_video' first. Or, please double check your video file path\n",
      "No unfiltered data file found in F:\\videos\\ar32motor\\2021_08_02 for video 1 and scorer DLC_resnet50_Topview3435Jul28shuffle1_110000.\n",
      "It seems the video has not been analyzed yet, or the video is not found! You can only refine the labels after the a video is analyzed. Please run 'analyze_video' first. Or, please double check your video file path\n",
      "No unfiltered data file found in F:\\videos\\ar32motor\\2021_08_02 for video 100 and scorer DLC_resnet50_Topview3435Jul28shuffle1_110000.\n",
      "It seems the video has not been analyzed yet, or the video is not found! You can only refine the labels after the a video is analyzed. Please run 'analyze_video' first. Or, please double check your video file path\n",
      "No unfiltered data file found in F:\\videos\\ar32motor\\2021_08_02 for video 101 and scorer DLC_resnet50_Topview3435Jul28shuffle1_110000.\n",
      "It seems the video has not been analyzed yet, or the video is not found! You can only refine the labels after the a video is analyzed. Please run 'analyze_video' first. Or, please double check your video file path\n"
     ]
    }
   ],
   "source": [
    "#video=['D:\\\\rat_movies_SC\\\\ar17record\\\\02_27_19\\\\analyzed\\\\18-37-27.avi']\n",
    "#video=['D:\\\\rat_movies_SC\\\\ar15record\\\\02_27_19\\\\17-33-50video.mp4']\n",
    "#video=['D:\\\\Dropbox\\\\ar17\\\\02_25_19\\\\22-37-23.avi']\n",
    "video = ['D:\\\\movies_Rat_SC_project\\\\ar1\\\\05_24_19\\\\11-09-14.avi']\n",
    "video = ['D:\\\\movies_Rat_SC_project\\\\ar20\\\\06_20_19\\\\17-19-45.avi','D:\\\\movies_Rat_SC_project\\\\ar20\\\\06_20_19\\\\17-31-05.avi','D:\\\\movies_Rat_SC_project\\\\ar20\\\\06_20_19\\\\17-30-40.avi']\n",
    "#15-17-08v\n",
    "video = ['D:\\\\rat_movies_SC\\\\ar19tear19salin\\\\10_08_19\\\\00-27-18.avi','D:\\\\rat_movies_SC\\\\ar19tear19salin\\\\10_08_19\\\\00-24-47.avi']\n",
    "video = ['D:\\\\rat_movies_SC\\\\ar19tear19salin\\\\10_08_19\\\\00-24-26video.mp4']\n",
    "video = ['E:\\\\movies\\\\ar2breathing\\\\10_06_19\\\\21-57-55L.avi']\n",
    "#video = text_files[0]\n",
    "Mainfolder4 = 'F:\\\\videos\\\\ar32motor\\\\2021_08_02\\\\';\n",
    "filenames2 = ['0.avi','1.avi','100.avi','101.avi']; # Enter the name of the files you want to train\n",
    "#path_config_file = 'D:\\\\rat_movies_SC\\\\ar19muscimol\\\\10_10_2019\\\\ar19muscimol10-10-19_LR_L-Arash-2020-03-01\\\\config.yaml';\n",
    "path_config_file = 'F:\\\\DLC\\\\Topview3435-Arash-2021-07-28\\\\config.yaml'\n",
    "video = [str(Mainfolder4)+str(f) for f in filenames2]; # add path to each file\n",
    "\n",
    "#path_config_file = 'D:\\\\rat_movies_SC\\\\ar17record\\\\02_27_19\\\\sc_ar17record_02272019_3-Fassihi-2019-04-28\\\\config.yaml'\n",
    "#path_config_file = 'D:\\\\rat_movies_SC\\\\ar15record\\\\02_27_19\\\\sc_ar15record_02272019-Fassihi-2019-03-12\\\\config.yaml'\n",
    "#path_config_file = 'D:\\\\movies_Rat_SC_project\\\\ar1\\\\05_24_19\\\\sc_aa1_05242019-Fassihi-2019-05-30\\\\config.yaml' #Enter the path of the config file that was just created from the above step (check the folder)\n",
    "#path_config_file = 'D:\\\\movies_Rat_SC_project\\\\ar3\\\\06_07_19\\\\sc_aa3_06072019-Fassihi-2019-06-10\\\\config.yaml' #Enter the path of the config file that was just created from the above step (check the folder)\n",
    "#path_config_file = 'D:\\\\movies_Rat_SC_project\\\\ar14\\\\06_18_19\\\\sc_ar14_06182019-Fassihi-2019-06-19\\\\config.yaml' #Enter the path of the config file that was just created from the above step (check the folder)\n",
    "print(path_config_file)\n",
    "#video = []\n",
    "#deeplabcut.extract_outlier_frames(path_config_file,video,outlieralgorithm='uncertain',p_bound=.6)\n",
    "#deeplabcut.extract_outlier_frames(path_config_file,video,outlieralgorithm='uncertain',comparisonbodyparts =  ['nose','snout'],p_bound=.6)\n",
    "deeplabcut.extract_outlier_frames(path_config_file,video,outlieralgorithm='uncertain',p_bound=.9)\n",
    "\n"
   ]
  },
  {
   "cell_type": "code",
   "execution_count": null,
   "metadata": {},
   "outputs": [],
   "source": [
    "print(video[2])\n"
   ]
  },
  {
   "cell_type": "code",
   "execution_count": null,
   "metadata": {
    "colab": {},
    "colab_type": "code",
    "id": "gkbaBOJVoEJs"
   },
   "outputs": [],
   "source": [
    "\n",
    "path_config_file = 'D:\\\\rat_movies_SC\\\\ar19\\\\02_07_19\\\\sc_ar19_02072019-Fassihi4-2019-02-13\\\\config.yaml' #Enter the path of the config file that was just created from the above step (check the folder)\n",
    "\n",
    "import os\n",
    "Mainfolder = 'D:\\\\rat_movies_SC\\\\ar19\\\\02_07_19'\n",
    "\n",
    "\n",
    "f = os.listdir(Mainfolder)\n",
    "text_files = [f for f in os.listdir(Mainfolder) if f.endswith('.avi')]\n",
    "\n",
    "\n",
    "my_list = text_files\n",
    "thisApen = Mainfolder+'kir'\n",
    "thisApen = thisApen.replace(\"kir\", \"\\\\\")\n",
    "string = thisApen\n",
    "my_new_list = [ string + x for x in my_list]\n",
    "\n",
    "deeplabcut.extract_outlier_frames(path_config_file,my_new_list)"
   ]
  },
  {
   "cell_type": "markdown",
   "metadata": {
    "colab_type": "text",
    "id": "8ib0uvhaoEJx"
   },
   "source": [
    "## Refine Labels [optional step]\n",
    "Following the extraction of outlier frames, the user can use the following function to move the predicted labels to the correct location. Thus augmenting the training dataset."
   ]
  },
  {
   "cell_type": "code",
   "execution_count": null,
   "metadata": {
    "colab": {},
    "colab_type": "code",
    "id": "n_FpEXtyoEJy"
   },
   "outputs": [],
   "source": [
    "#path_config_file = 'D:\\\\movies_Rat_SC_project\\\\ar1\\\\05_24_19\\\\sc_aa1_05242019-Fassihi-2019-05-30\\\\config.yaml' #Enter the path of the config file that was just created from the above step (check the folder)\n",
    "#path_config_file = 'D:\\\\movies_Rat_SC_project\\\\ar3\\\\06_07_19\\\\sc_aa3_06072019-Fassihi-2019-06-10\\\\config.yaml' #Enter the path of the config file that was just created from the above step (check the folder)\n",
    "\n",
    "#import matplotlib\n",
    "#print(matplotlib.__version__)\n",
    "%gui wx\n",
    "#path_config_file = 'D:\\\\rat_movies_SC\\\\ar15record\\\\02_27_19\\\\sc_ar15record_02272019-Fassihi-2019-03-12\\\\config.yaml'\n",
    "#print(path_config_file)\n",
    "deeplabcut.refine_labels(path_config_file)"
   ]
  },
  {
   "cell_type": "code",
   "execution_count": null,
   "metadata": {
    "colab": {},
    "colab_type": "code",
    "id": "CHzstWr8oEJ2"
   },
   "outputs": [],
   "source": [
    "#Once all folders are relabeled, check them and advance. See how to check labels, above!\n",
    "#path_config_file = 'D:\\\\movies_Rat_SC_project\\\\ar1\\\\05_24_19\\\\sc_aa1_05242019-Fassihi-2019-05-30\\\\config.yaml' #Enter the path of the config file that was just created from the above step (check the folder)\n",
    "#path_config_file = 'D:\\\\movies_Rat_SC_project\\\\ar3\\\\06_07_19\\\\sc_aa3_06072019-Fassihi-2019-06-10\\\\config.yaml' #Enter the path of the config file that was just created from the above step (check the folder)\n",
    "\n",
    "deeplabcut.merge_datasets(path_config_file)"
   ]
  },
  {
   "cell_type": "markdown",
   "metadata": {
    "colab_type": "text",
    "id": "QCHj7qyboEJ6"
   },
   "source": [
    "## Create a new iteration of training dataset [optional step]\n",
    "Following the refine labels, append these frames to the original dataset to create a new iteration of training dataset."
   ]
  },
  {
   "cell_type": "code",
   "execution_count": null,
   "metadata": {
    "colab": {},
    "colab_type": "code",
    "id": "ytQoxIldoEJ7",
    "scrolled": true
   },
   "outputs": [],
   "source": [
    "list_of_ints = list(range(2))\n",
    "print(list_of_ints)\n",
    "deeplabcut.create_training_dataset(path_config_file,Shuffles= list_of_ints) ;"
   ]
  },
  {
   "cell_type": "markdown",
   "metadata": {
    "colab_type": "text",
    "id": "8GTiuJESoEKH"
   },
   "source": [
    "## Plot the trajectories of the analyzed videos (optional)\n",
    "This function plots the trajectories of all the body parts across the entire video. Each body part is identified by a unique color."
   ]
  },
  {
   "cell_type": "code",
   "execution_count": null,
   "metadata": {
    "colab": {},
    "colab_type": "code",
    "id": "gX21zZbXoEKJ"
   },
   "outputs": [],
   "source": [
    "%matplotlib notebook #for making interactive plots.\n",
    "deeplabcut.plot_trajectories(path_config_file,my_new_list)\n",
    "\n"
   ]
  }
 ],
 "metadata": {
  "accelerator": "GPU",
  "colab": {
   "name": "Demo-yourowndata.ipynb",
   "provenance": [],
   "version": "0.3.2"
  },
  "kernelspec": {
   "display_name": "Python 3",
   "language": "python",
   "name": "python3"
  },
  "language_info": {
   "codemirror_mode": {
    "name": "ipython",
    "version": 3
   },
   "file_extension": ".py",
   "mimetype": "text/x-python",
   "name": "python",
   "nbconvert_exporter": "python",
   "pygments_lexer": "ipython3",
   "version": "3.6.9"
  },
  "varInspector": {
   "cols": {
    "lenName": 16,
    "lenType": 16,
    "lenVar": 40
   },
   "kernels_config": {
    "python": {
     "delete_cmd_postfix": "",
     "delete_cmd_prefix": "del ",
     "library": "var_list.py",
     "varRefreshCmd": "print(var_dic_list())"
    },
    "r": {
     "delete_cmd_postfix": ") ",
     "delete_cmd_prefix": "rm(",
     "library": "var_list.r",
     "varRefreshCmd": "cat(var_dic_list()) "
    }
   },
   "types_to_exclude": [
    "module",
    "function",
    "builtin_function_or_method",
    "instance",
    "_Feature"
   ],
   "window_display": false
  }
 },
 "nbformat": 4,
 "nbformat_minor": 1
}
