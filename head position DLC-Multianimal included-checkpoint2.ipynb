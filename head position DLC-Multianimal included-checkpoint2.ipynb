{
 "cells": [
  {
   "cell_type": "markdown",
   "metadata": {
    "colab_type": "text",
    "id": "RK255E7YoEIt"
   },
   "source": [
    "# Arash SC create a project for head position\n",
    "\n",
    "\n",
    "\n",
    "This notebook demonstrates the necessary steps to use python and DeepLabCut for creating and analysins videos from orientation \n",
    "experiment \n",
    "\n",
    "This notebook illustrates how to:\n",
    " \n",
    "- make a movie from images \n",
    "- create a project\n",
    "- extract training frames\n",
    "- label the frames\n",
    "- plot the labeled images (optional)\n",
    "- create a training set\n",
    "- train a network\n",
    "- evaluate a network\n",
    "- analyze a novel video\n",
    "- create an automatically labeled video (optional)\n",
    "- Go to Matlab \n",
    "\n"
   ]
  },
  {
   "cell_type": "markdown",
   "metadata": {
    "colab_type": "text",
    "id": "9Uoz9mdPoEIy"
   },
   "source": [
    "## Create a new project\n",
    "\n",
    "It is always good idea to keep the projects seperate. This function creates a new project with subdirectories and a basic configuration file in the user defined directory otherwise the project is created in the current working directory.\n",
    "\n",
    "You can always add new videos to the project at any stage of the project. "
   ]
  },
  {
   "cell_type": "code",
   "execution_count": 1,
   "metadata": {
    "colab": {},
    "colab_type": "code",
    "id": "jqLZhp7EoEI0"
   },
   "outputs": [
    {
     "name": "stderr",
     "output_type": "stream",
     "text": [
      "C:\\Users\\dklab\\anaconda3\\envs\\DEEPLABCUT\\lib\\site-packages\\statsmodels\\compat\\pandas.py:65: FutureWarning: pandas.Int64Index is deprecated and will be removed from pandas in a future version. Use pandas.Index with the appropriate dtype instead.\n",
      "  from pandas import Int64Index as NumericIndex\n"
     ]
    }
   ],
   "source": [
    "import deeplabcut\n",
    "## https://github.com/AlexEMG/DeepLabCut"
   ]
  },
  {
   "cell_type": "code",
   "execution_count": 5,
   "metadata": {
    "colab": {},
    "colab_type": "code",
    "id": "c9DjG55FoEI7",
    "scrolled": true
   },
   "outputs": [
    {
     "name": "stdout",
     "output_type": "stream",
     "text": [
      "['D:\\\\Sidevideos\\\\ar32motor\\\\2021_08_02\\\\88.avi', 'D:\\\\Sidevideos\\\\ar32motor\\\\2021_08_02\\\\59.avi', 'D:\\\\Sidevideos\\\\ar32motor\\\\2021_08_02\\\\69.avi', 'D:\\\\Sidevideos\\\\ar34Lightduration\\\\2021_08_03\\\\39.avi', 'D:\\\\Sidevideos\\\\ar34Lightduration\\\\2021_08_03\\\\49.avi', 'D:\\\\Sidevideos\\\\ar34Lightduration\\\\2021_08_03\\\\89.avi']\n",
      "Created \"D:\\Sidevideos\\DLC\\Sideview_Aug-Arash-2021-08-04\\videos\"\n",
      "Created \"D:\\Sidevideos\\DLC\\Sideview_Aug-Arash-2021-08-04\\labeled-data\"\n",
      "Created \"D:\\Sidevideos\\DLC\\Sideview_Aug-Arash-2021-08-04\\training-datasets\"\n",
      "Created \"D:\\Sidevideos\\DLC\\Sideview_Aug-Arash-2021-08-04\\dlc-models\"\n",
      "Copying the videos\n",
      "D:\\Sidevideos\\DLC\\Sideview_Aug-Arash-2021-08-04\\videos\\88.avi\n",
      "D:\\Sidevideos\\DLC\\Sideview_Aug-Arash-2021-08-04\\videos\\59.avi\n",
      "D:\\Sidevideos\\DLC\\Sideview_Aug-Arash-2021-08-04\\videos\\69.avi\n",
      "D:\\Sidevideos\\DLC\\Sideview_Aug-Arash-2021-08-04\\videos\\39.avi\n",
      "D:\\Sidevideos\\DLC\\Sideview_Aug-Arash-2021-08-04\\videos\\49.avi\n",
      "D:\\Sidevideos\\DLC\\Sideview_Aug-Arash-2021-08-04\\videos\\89.avi\n",
      "Generated \"D:\\Sidevideos\\DLC\\Sideview_Aug-Arash-2021-08-04\\config.yaml\"\n",
      "\n",
      "A new project with name Sideview_Aug-Arash-2021-08-04 is created at D:\\Sidevideos\\DLC and a configurable file (config.yaml) is stored there. Change the parameters in this file to adapt to your project's needs.\n",
      " Once you have changed the configuration file, use the function 'extract_frames' to select frames for labeling.\n",
      ". [OPTIONAL] Use the function 'add_new_videos' to add new videos to your project (at any stage).\n"
     ]
    },
    {
     "data": {
      "text/plain": [
       "'D:\\\\Sidevideos\\\\DLC\\\\Sideview_Aug-Arash-2021-08-04\\\\config.yaml'"
      ]
     },
     "execution_count": 5,
     "metadata": {},
     "output_type": "execute_result"
    }
   ],
   "source": [
    "task='ar21_07_06_20LR_R' # Enter the name of your experiment Task\n",
    "task='Sideview_Aug' \n",
    "task='Eyedata' \n",
    "\n",
    "experimenter='Arash' # Enter the name of the experimenter\n",
    "Mainfolder =  'D:\\\\\\videos\\\\AR19distance\\\\2020_09_14_ 215321'; # Enter the name of the folder with images folders inside \n",
    "Mainfolder = 'D:\\\\Sidevideos\\\\ar32motor\\\\2021_08_02\\\\';\n",
    "filenames = ['88.avi','59.avi','69.avi']; # Enter the name of the files you want to train\n",
    "video = [str(Mainfolder)+str(f) for f in filenames]; # add path to each file\n",
    "Mainfolder2 = 'D:\\\\Sidevideos\\\\ar34Lightduration\\\\2021_08_03\\\\';\n",
    "filenames2 = ['39.avi','49.avi','89.avi']; # Enter the name of the files you want to train\n",
    "video2 = [str(Mainfolder2)+str(f) for f in filenames2]; # add path to each file\n",
    "video = video+video2\n",
    "Mainfolder3 = 'D:\\\\Sidevideos\\\\ar343rdday\\\\2021_07_16\\\\';\n",
    "\n",
    "filenames2 = ['22.avi','24.avi','25.avi']; # Enter the name of the files you want to train\n",
    "video2 = [str(Mainfolder3)+str(f) for f in filenames2]; # add path to each file\n",
    "#video = video+video2\n",
    "\n",
    "print(video)\n",
    "#deeplabcut.create_new_project(task,experimenter,video, working_directory=Mainfolder,copy_videos=False) #change the working directory to where you want the folders created.\n",
    "deeplabcut.create_new_project(task,experimenter, video, working_directory='D:\\\\Sidevideos\\\\DLC',copy_videos=True, multianimal=False)\n",
    "#deeplabcut.create_new_project(task,experimenter, video,copy_videos=True)"
   ]
  },
  {
   "cell_type": "markdown",
   "metadata": {
    "colab_type": "text",
    "id": "0yXW0bx1oEJA"
   },
   "source": [
    "## Extract frames from videos \n",
    "A key point for a successful feature detector is to select diverse frames, which are typical for the behavior you study that should be labeled.\n",
    "\n",
    "This function selects N frames either uniformly sampled from a particular video (or folder) (algo=='uniform'). Note: this might not yield diverse frames, if the behavior is sparsely distributed (consider using kmeans), and/or select frames manually etc.\n",
    "\n",
    "Also make sure to get select data from different (behavioral) sessions and different animals if those vary substantially (to train an invariant feature detector).\n",
    "\n",
    "Individual images should not be too big (i.e. < 850 x 850 pixel). Although this can be taken care of later as well, it is advisable to crop the frames, to remove unnecessary parts of the frame as much as possible.\n",
    "\n",
    "Always check the output of cropping. If you are happy with the results proceed to labeling."
   ]
  },
  {
   "cell_type": "code",
   "execution_count": 11,
   "metadata": {
    "colab": {},
    "colab_type": "code",
    "id": "t1ulumCuoEJC"
   },
   "outputs": [
    {
     "name": "stderr",
     "output_type": "stream",
     "text": [
      "Traceback (most recent call last):\n",
      "  File \"C:\\Users\\dklab\\anaconda3\\envs\\DEEPLABCUT\\lib\\site-packages\\matplotlib\\cbook\\__init__.py\", line 287, in process\n",
      "    func(*args, **kwargs)\n",
      "TypeError: 'RectangleSelector' object is not callable\n"
     ]
    },
    {
     "name": "stdout",
     "output_type": "stream",
     "text": [
      "Quitting for now!\n"
     ]
    }
   ],
   "source": [
    "%matplotlib inline\n",
    "path_config_file = 'D:\\\\Dropbox\\\\Notebook\\\\ar19_09_15_20Face2-Arash-2020-09-15\\\\config.yaml';\n",
    "path_config_file = 'D:\\\\Dropbox\\\\Notebook\\\\ar32_10_09_20Face3-Arash-2020-10-10\\\\config.yaml';\n",
    "path_config_file = 'D:\\\\Dropbox\\\\Notebook\\\\ar30_10_10_14spouts-Arash-2020-10-24\\\\config.yaml';\n",
    "path_config_file = 'D:\\\\videos\\\\ar32\\\\ar32_10_11_12-Arash-2020-11-14\\\\config.yaml';\n",
    "path_config_file = 'D:\\\\videos\\\\ar32\\\\ar302_10_11_14-Arash-2020-11-16\\\\config.yaml';\n",
    "path_config_file = 'D:\\\\videos\\\\ar32\\\\ar32_10_11_24-Arash-2020-11-25\\\\config.yaml';\n",
    "path_config_file = 'D:\\\\Sidevideos\\\\DLC\\\\Eyedata6-Arash-2022-02-06\\\\config.yaml';\n",
    "\n",
    "#Enter the path of the config file that was just created from the above step (check the folder)\n",
    "#deeplabcut.extract_frames(path_config_file,'automatic','uniform',crop=True) #there are other ways to grab frames, such as by clustering 'kmeans'; please see the paper. \n",
    "deeplabcut.extract_frames(path_config_file, 'manual')\n",
    "#deeplabcut.extract_frames(path_config_file,'automatic','uniform',crop=True, checkcropping=True) #there are other ways to grab frames, such as by clustering 'kmeans'; please see the paper. \n",
    "#You can change the cropping to false, then delete the checkcropping part!"
   ]
  },
  {
   "cell_type": "markdown",
   "metadata": {},
   "source": [
    "## define the config path and load deeplabcut\n"
   ]
  },
  {
   "cell_type": "code",
   "execution_count": 2,
   "metadata": {},
   "outputs": [],
   "source": [
    "# write the Path config file path\n",
    "path_config_file = 'E:\\\\movies\\\\ar2breathing\\\\10_08_19\\\\ar2breathing_10_08_19LR_R-Arash-2020-04-30\\\\config.yaml';\n",
    "path_config_file = 'D:\\\\videos\\\\ar21\\\\2020-07-06\\\\ar21_07_06_20Face2-Arash-2020-07-07\\\\config.yaml';\n",
    "path_config_file = 'D:\\\\Dropbox\\\\Notebook\\\\ar19_09_15_20Face3-Arash-2020-09-16\\\\config.yaml';\n",
    "path_config_file = 'D:\\\\videos\\\\ar32\\\\2020_10_09\\\\ar32_10_09_20Face3-Arash-2020-10-10\\\\config.yaml';\n",
    "path_config_file = 'D:\\\\notebook\\\\ar30_10_10_14spouts-Arash-2020-10-24\\\\config.yaml';\n",
    "path_config_file = 'D:\\\\videos\\\\ar30\\\\ar30_10_11_04-Arash-2020-11-05\\\\config.yaml';\n",
    "path_config_file = 'D:\\\\videos\\\\ar32\\\\ar32_10_11_12-Arash-2020-11-14\\\\config.yaml';\n",
    "path_config_file = 'D:\\\\videos\\\\ar32\\\\ar302_10_11_14-Arash-2020-11-16\\\\config.yaml';\n",
    "path_config_file = 'D:\\\\videos\\\\ar32\\\\ar32_10_11_24-Arash-2020-11-25\\\\config.yaml';\n",
    "path_config_file = 'D:\\\\videos\\\\ar32\\\\ar32_10_11_24-Arash-2020-11-25\\\\config.yaml';\n",
    "path_config_file = 'D:\\\\Dropbox\\\\Notebook\\\\Sideview4-Arash-2021-07-18\\\\config.yaml'\n",
    "path_config_file = 'D:\\\\Sidevideos\\\\DLC\\\\Sideview4-Arash-2021-07-18\\\\config.yaml'\n",
    "\n",
    "path_config_file ='D:\\\\Sidevideos\\\\DLC\\\\Sideview_Aug-Arash-2021-08-04\\\\config.yaml';\n",
    "path_config_file = 'D:\\\\Sidevideos\\\\DLC\\\\Eyedata6-Arash-2022-02-06\\\\config.yaml';\n"
   ]
  },
  {
   "cell_type": "markdown",
   "metadata": {},
   "source": [
    "## add videos from other folders and rats"
   ]
  },
  {
   "cell_type": "code",
   "execution_count": 5,
   "metadata": {},
   "outputs": [
    {
     "name": "stdout",
     "output_type": "stream",
     "text": [
      "Copying the videos\n",
      "Copying the videos\n",
      "New video was added to the project! Use the function 'extract_frames' to select frames for labeling.\n"
     ]
    }
   ],
   "source": [
    "Mainfolder =  'D:\\\\Sidevideos\\\\AR34MOTOR\\\\2022_02_04\\\\'; # Enter the name of the folder with images folders inside \n",
    "filenames = ['167eye.avi','161EYE.avi']; # Enter the name of the files you want to train\n",
    "#filenames = ['6L.avi']; # Enter the name of the files you want to train\n",
    "video = [str(Mainfolder)+str(f) for f in filenames]; # add path to each file\n",
    "Mainfolder2 = 'D:\\\\Sidevideos\\\\AR35MOTOR\\\\2022_02_04\\\\';\n",
    "filenames2 = ['91eye.avi','94EYE.avi']; # Enter the name of the files you want to train\n",
    "video2 = [str(Mainfolder2)+str(f) for f in filenames2]; # add path to each file\n",
    "video = video+video2\n",
    "deeplabcut.add_new_videos(path_config_file, video2, copy_videos=True)"
   ]
  },
  {
   "cell_type": "markdown",
   "metadata": {
    "colab_type": "text",
    "id": "Gjn6ZDonoEJH"
   },
   "source": [
    "## Label the extracted frames\n",
    "Only videos in the config file can be used to extract the frames. Extracted labels for each video are stored in the project directory under the subdirectory **'labeled-data'**. Each subdirectory is named after the name of the video. The toolbox has a labeling toolbox which could be used for labeling. "
   ]
  },
  {
   "cell_type": "code",
   "execution_count": null,
   "metadata": {
    "colab": {},
    "colab_type": "code",
    "id": "iyROSOiEoEJI"
   },
   "outputs": [
    {
     "name": "stderr",
     "output_type": "stream",
     "text": [
      "ERROR:root:Invalid GUI request 'wxccc', valid ones are:dict_keys(['inline', 'nbagg', 'notebook', 'ipympl', 'widget', None, 'qt4', 'qt', 'qt5', 'wx', 'tk', 'gtk', 'gtk3', 'osx', 'asyncio'])\n"
     ]
    }
   ],
   "source": [
    "%gui wxccc\n",
    "\n",
    "deeplabcut.label_frames(path_config_file)"
   ]
  },
  {
   "cell_type": "markdown",
   "metadata": {
    "colab_type": "text",
    "id": "vim95ZvkPSeN"
   },
   "source": [
    "**Check the labels**\n",
    "\n",
    "Checking if the labels were created and stored correctly is beneficial for training, since labeling is one of the most critical parts for creating the training dataset. The DeepLabCut toolbox provides a function `check\\_labels'  to do so. It is used as follows:"
   ]
  },
  {
   "cell_type": "code",
   "execution_count": 3,
   "metadata": {
    "colab": {},
    "colab_type": "code",
    "id": "NwvgPJouPP2O"
   },
   "outputs": [
    {
     "name": "stdout",
     "output_type": "stream",
     "text": [
      "Creating images with labels by Arash.\n"
     ]
    },
    {
     "name": "stderr",
     "output_type": "stream",
     "text": [
      "100%|██████████████████████████████████████████████████████████████████████████████████| 15/15 [00:00<00:00, 76.41it/s]\n",
      "100%|██████████████████████████████████████████████████████████████████████████████████| 20/20 [00:00<00:00, 29.43it/s]\n",
      "100%|██████████████████████████████████████████████████████████████████████████████████| 17/17 [00:00<00:00, 84.37it/s]\n",
      "100%|██████████████████████████████████████████████████████████████████████████████████| 12/12 [00:00<00:00, 18.69it/s]\n",
      "100%|██████████████████████████████████████████████████████████████████████████████████| 10/10 [00:00<00:00, 73.19it/s]\n",
      "100%|██████████████████████████████████████████████████████████████████████████████████| 10/10 [00:00<00:00, 46.82it/s]\n",
      "100%|██████████████████████████████████████████████████████████████████████████████████| 15/15 [00:00<00:00, 23.09it/s]\n",
      "100%|██████████████████████████████████████████████████████████████████████████████████| 15/15 [00:00<00:00, 65.69it/s]\n",
      "100%|██████████████████████████████████████████████████████████████████████████████████| 15/15 [00:00<00:00, 62.93it/s]\n",
      "100%|██████████████████████████████████████████████████████████████████████████████████| 15/15 [00:00<00:00, 80.84it/s]\n",
      "100%|██████████████████████████████████████████████████████████████████████████████████| 11/11 [00:00<00:00, 18.24it/s]"
     ]
    },
    {
     "name": "stdout",
     "output_type": "stream",
     "text": [
      "If all the labels are ok, then use the function 'create_training_dataset' to create the training dataset!\n"
     ]
    },
    {
     "name": "stderr",
     "output_type": "stream",
     "text": [
      "\n"
     ]
    }
   ],
   "source": [
    "\n",
    "deeplabcut.check_labels(path_config_file) #this creates a subdirectory with the frames + your labels"
   ]
  },
  {
   "cell_type": "markdown",
   "metadata": {},
   "source": [
    "## add_new_videos"
   ]
  },
  {
   "cell_type": "code",
   "execution_count": null,
   "metadata": {},
   "outputs": [],
   "source": [
    "Mainfolder =  'D:\\\\videos\\\\ar32\\\\2020_11_12\\\\'; # Enter the name of the folder with images folders inside \n",
    "filenames = ['158.avi','160.avi']; # Enter the name of the files you want to train\n",
    "#filenames = ['6L.avi']; # Enter the name of the files you want to train\n",
    "video = [str(Mainfolder)+str(f) for f in filenames]; # add path to each file\n",
    "deeplabcut.add_new_videos(path_config_file, video, copy_videos=True)"
   ]
  },
  {
   "cell_type": "markdown",
   "metadata": {},
   "source": [
    "## Reminder: Build your skeleton connections before you create a training set!\n"
   ]
  },
  {
   "cell_type": "code",
   "execution_count": 10,
   "metadata": {},
   "outputs": [
    {
     "ename": "ValueError",
     "evalue": "too many values to unpack (expected 2)",
     "output_type": "error",
     "traceback": [
      "\u001b[1;31m---------------------------------------------------------------------------\u001b[0m",
      "\u001b[1;31mValueError\u001b[0m                                Traceback (most recent call last)",
      "Input \u001b[1;32mIn [10]\u001b[0m, in \u001b[0;36m<module>\u001b[1;34m\u001b[0m\n\u001b[1;32m----> 1\u001b[0m \u001b[43mdeeplabcut\u001b[49m\u001b[38;5;241;43m.\u001b[39;49m\u001b[43mSkeletonBuilder\u001b[49m\u001b[43m(\u001b[49m\u001b[43mpath_config_file\u001b[49m\u001b[43m)\u001b[49m\n",
      "File \u001b[1;32m~\\anaconda3\\envs\\DEEPLABCUT\\lib\\site-packages\\deeplabcut\\utils\\skeleton.py:56\u001b[0m, in \u001b[0;36mSkeletonBuilder.__init__\u001b[1;34m(self, config_path)\u001b[0m\n\u001b[0;32m     50\u001b[0m \u001b[38;5;28;01mif\u001b[39;00m os\u001b[38;5;241m.\u001b[39mpath\u001b[38;5;241m.\u001b[39misdir(folder) \u001b[38;5;129;01mand\u001b[39;00m \u001b[38;5;129;01mnot\u001b[39;00m \u001b[38;5;28many\u001b[39m(\n\u001b[0;32m     51\u001b[0m     folder\u001b[38;5;241m.\u001b[39mendswith(s) \u001b[38;5;28;01mfor\u001b[39;00m s \u001b[38;5;129;01min\u001b[39;00m (\u001b[38;5;124m\"\u001b[39m\u001b[38;5;124mcropped\u001b[39m\u001b[38;5;124m\"\u001b[39m, \u001b[38;5;124m\"\u001b[39m\u001b[38;5;124mlabeled\u001b[39m\u001b[38;5;124m\"\u001b[39m)\n\u001b[0;32m     52\u001b[0m ):\n\u001b[0;32m     53\u001b[0m     \u001b[38;5;28mself\u001b[39m\u001b[38;5;241m.\u001b[39mdf \u001b[38;5;241m=\u001b[39m pd\u001b[38;5;241m.\u001b[39mread_hdf(\n\u001b[0;32m     54\u001b[0m         os\u001b[38;5;241m.\u001b[39mpath\u001b[38;5;241m.\u001b[39mjoin(folder, \u001b[38;5;124mf\u001b[39m\u001b[38;5;124m'\u001b[39m\u001b[38;5;124mCollectedData_\u001b[39m\u001b[38;5;132;01m{\u001b[39;00m\u001b[38;5;28mself\u001b[39m\u001b[38;5;241m.\u001b[39mcfg[\u001b[38;5;124m\"\u001b[39m\u001b[38;5;124mscorer\u001b[39m\u001b[38;5;124m\"\u001b[39m]\u001b[38;5;132;01m}\u001b[39;00m\u001b[38;5;124m.h5\u001b[39m\u001b[38;5;124m'\u001b[39m)\n\u001b[0;32m     55\u001b[0m     )\n\u001b[1;32m---> 56\u001b[0m     row, col \u001b[38;5;241m=\u001b[39m \u001b[38;5;28;43mself\u001b[39;49m\u001b[38;5;241;43m.\u001b[39;49m\u001b[43mpick_labeled_frame\u001b[49m\u001b[43m(\u001b[49m\u001b[43m)\u001b[49m\n\u001b[0;32m     57\u001b[0m     \u001b[38;5;28;01mif\u001b[39;00m \u001b[38;5;124m\"\u001b[39m\u001b[38;5;124mindividuals\u001b[39m\u001b[38;5;124m\"\u001b[39m \u001b[38;5;129;01min\u001b[39;00m \u001b[38;5;28mself\u001b[39m\u001b[38;5;241m.\u001b[39mdf\u001b[38;5;241m.\u001b[39mcolumns\u001b[38;5;241m.\u001b[39mnames:\n\u001b[0;32m     58\u001b[0m         \u001b[38;5;28mself\u001b[39m\u001b[38;5;241m.\u001b[39mdf \u001b[38;5;241m=\u001b[39m \u001b[38;5;28mself\u001b[39m\u001b[38;5;241m.\u001b[39mdf\u001b[38;5;241m.\u001b[39mxs(col, axis\u001b[38;5;241m=\u001b[39m\u001b[38;5;241m1\u001b[39m, level\u001b[38;5;241m=\u001b[39m\u001b[38;5;124m\"\u001b[39m\u001b[38;5;124mindividuals\u001b[39m\u001b[38;5;124m\"\u001b[39m)\n",
      "File \u001b[1;32m~\\anaconda3\\envs\\DEEPLABCUT\\lib\\site-packages\\deeplabcut\\utils\\skeleton.py:108\u001b[0m, in \u001b[0;36mSkeletonBuilder.pick_labeled_frame\u001b[1;34m(self)\u001b[0m\n\u001b[0;32m    106\u001b[0m kept \u001b[38;5;241m=\u001b[39m mask\u001b[38;5;241m.\u001b[39mstack()\u001b[38;5;241m.\u001b[39mindex\u001b[38;5;241m.\u001b[39mto_list()\n\u001b[0;32m    107\u001b[0m np\u001b[38;5;241m.\u001b[39mrandom\u001b[38;5;241m.\u001b[39mshuffle(kept)\n\u001b[1;32m--> 108\u001b[0m row, col \u001b[38;5;241m=\u001b[39m kept\u001b[38;5;241m.\u001b[39mpop()\n\u001b[0;32m    109\u001b[0m \u001b[38;5;28;01mreturn\u001b[39;00m row, col\n",
      "\u001b[1;31mValueError\u001b[0m: too many values to unpack (expected 2)"
     ]
    }
   ],
   "source": [
    "deeplabcut.SkeletonBuilder(path_config_file)"
   ]
  },
  {
   "cell_type": "code",
   "execution_count": null,
   "metadata": {},
   "outputs": [],
   "source": []
  },
  {
   "cell_type": "markdown",
   "metadata": {
    "colab_type": "text",
    "id": "of87fOjgPqzH"
   },
   "source": [
    "If the labels need adjusted, you can use the refinement GUI to move them around! Check that out below."
   ]
  },
  {
   "cell_type": "markdown",
   "metadata": {
    "colab_type": "text",
    "id": "xNi9s1dboEJN"
   },
   "source": [
    "## Create a training dataset\n",
    "This function generates the training data information for DeepCut (which requires a mat file) based on the pandas dataframes that hold label information. The user can set the fraction of the training set size (from all labeled image in the hd5 file) in the config.yaml file. While creating the dataset, the user can create multiple shuffles. \n",
    "\n",
    "After running this script the training dataset is created and saved in the project directory under the subdirectory **'training-datasets'**\n",
    "\n",
    "This function also creates new subdirectories under **dlc-models** and appends the project config.yaml file with the correct path to the training and testing pose configuration file. These files hold the parameters for training the network. Such an example file is provided with the toolbox and named as **pose_cfg.yaml**.\n",
    "\n",
    "Now it is the time to start training the network!"
   ]
  },
  {
   "cell_type": "code",
   "execution_count": null,
   "metadata": {
    "colab": {},
    "colab_type": "code",
    "id": "eMeUwgxPoEJP",
    "scrolled": true
   },
   "outputs": [],
   "source": [
    "deeplabcut.create_training_dataset(path_config_file)"
   ]
  },
  {
   "cell_type": "code",
   "execution_count": 5,
   "metadata": {},
   "outputs": [
    {
     "name": "stdout",
     "output_type": "stream",
     "text": [
      "D:\\Sidevideos\\DLC\\Sideview_Aug-Arash-2021-08-04\\training-datasets\\iteration-0\\UnaugmentedDataSet_Sideview_AugAug4  already exists!\n",
      "You passed a split with the following fraction: 95%\n",
      "The training dataset is successfully created. Use the function 'train_network' to start training. Happy training!\n",
      "D:\\Sidevideos\\DLC\\Sideview_Aug-Arash-2021-08-04\\training-datasets\\iteration-0\\UnaugmentedDataSet_Sideview_AugAug4  already exists!\n",
      "You passed a split with the following fraction: 95%\n",
      "The training dataset is successfully created. Use the function 'train_network' to start training. Happy training!\n"
     ]
    }
   ],
   "source": [
    "deeplabcut.create_training_model_comparison(path_config_file, num_shuffles=1, net_types=['resnet_50'], augmenter_types=['default', 'imgaug'] )\n"
   ]
  },
  {
   "cell_type": "markdown",
   "metadata": {
    "colab_type": "text",
    "id": "c4FczXGDoEJU"
   },
   "source": [
    "## Start training  \n",
    "### If yu want to use your GPU, you need to exit here and either work from the Docker container, your own TensorFlow installation in an Anaconda env\n",
    "\n",
    "This function trains the network for a specific shuffle of the training dataset. "
   ]
  },
  {
   "cell_type": "code",
   "execution_count": 3,
   "metadata": {
    "colab": {},
    "colab_type": "code",
    "id": "_pOvDq_2oEJW",
    "scrolled": false
   },
   "outputs": [
    {
     "name": "stderr",
     "output_type": "stream",
     "text": [
      "Config:\n",
      "{'all_joints': [[0], [1], [2]],\n",
      " 'all_joints_names': ['Nose', 'Snout', 'Leye'],\n",
      " 'alpha_r': 0.02,\n",
      " 'batch_size': 1,\n",
      " 'clahe': True,\n",
      " 'claheratio': 0.1,\n",
      " 'crop_pad': 0,\n",
      " 'cropratio': 0.4,\n",
      " 'dataset': 'training-datasets\\\\iteration-0\\\\UnaugmentedDataSet_Sideview_AugAug4\\\\Sideview_Aug_Arash95shuffle1.mat',\n",
      " 'dataset_type': 'imgaug',\n",
      " 'decay_steps': 30000,\n",
      " 'deterministic': False,\n",
      " 'display_iters': 1000,\n",
      " 'edge': False,\n",
      " 'emboss': {'alpha': [0.0, 1.0], 'embossratio': 0.1, 'strength': [0.5, 1.5]},\n",
      " 'fg_fraction': 0.25,\n",
      " 'global_scale': 0.8,\n",
      " 'histeq': True,\n",
      " 'histeqratio': 0.1,\n",
      " 'init_weights': 'C:\\\\Users\\\\DKLAb\\\\Anaconda3\\\\envs\\\\dlc-windowsGPU\\\\lib\\\\site-packages\\\\deeplabcut\\\\pose_estimation_tensorflow\\\\models\\\\pretrained\\\\resnet_v1_50.ckpt',\n",
      " 'intermediate_supervision': False,\n",
      " 'intermediate_supervision_layer': 12,\n",
      " 'location_refinement': True,\n",
      " 'locref_huber_loss': True,\n",
      " 'locref_loss_weight': 0.05,\n",
      " 'locref_stdev': 7.2801,\n",
      " 'log_dir': 'log',\n",
      " 'lr_init': 0.0005,\n",
      " 'max_input_size': 1500,\n",
      " 'mean_pixel': [123.68, 116.779, 103.939],\n",
      " 'metadataset': 'training-datasets\\\\iteration-0\\\\UnaugmentedDataSet_Sideview_AugAug4\\\\Documentation_data-Sideview_Aug_95shuffle1.pickle',\n",
      " 'min_input_size': 64,\n",
      " 'mirror': False,\n",
      " 'multi_step': [[0.005, 10000],\n",
      "                [0.02, 430000],\n",
      "                [0.002, 730000],\n",
      "                [0.001, 1030000]],\n",
      " 'net_type': 'resnet_50',\n",
      " 'num_joints': 3,\n",
      " 'optimizer': 'sgd',\n",
      " 'pairwise_huber_loss': False,\n",
      " 'pairwise_predict': False,\n",
      " 'partaffinityfield_predict': False,\n",
      " 'pos_dist_thresh': 17,\n",
      " 'project_path': 'D:\\\\Sidevideos\\\\DLC\\\\Sideview_Aug-Arash-2021-08-04',\n",
      " 'regularize': False,\n",
      " 'rotation': 25,\n",
      " 'rotratio': 0.4,\n",
      " 'save_iters': 50000,\n",
      " 'scale_jitter_lo': 0.5,\n",
      " 'scale_jitter_up': 1.25,\n",
      " 'scoremap_dir': 'test',\n",
      " 'sharpen': False,\n",
      " 'sharpenratio': 0.3,\n",
      " 'shuffle': True,\n",
      " 'snapshot_prefix': 'D:\\\\Sidevideos\\\\DLC\\\\Sideview_Aug-Arash-2021-08-04\\\\dlc-models\\\\iteration-0\\\\Sideview_AugAug4-trainset95shuffle1\\\\train\\\\snapshot',\n",
      " 'stride': 8.0,\n",
      " 'weigh_negatives': False,\n",
      " 'weigh_only_present_joints': False,\n",
      " 'weigh_part_predictions': False,\n",
      " 'weight_decay': 0.0001}\n"
     ]
    },
    {
     "name": "stdout",
     "output_type": "stream",
     "text": [
      "Selecting single-animal trainer\n",
      "Starting with imgaug pose-dataset loader (=default).\n",
      "Batch Size is 1\n",
      "Initializing ResNet\n",
      "Loading ImageNet-pretrained resnet_50\n",
      "Display_iters overwritten as 1000\n",
      "Save_iters overwritten as 1000\n",
      "Training parameter:\n",
      "{'stride': 8.0, 'weigh_part_predictions': False, 'weigh_negatives': False, 'fg_fraction': 0.25, 'mean_pixel': [123.68, 116.779, 103.939], 'shuffle': True, 'snapshot_prefix': 'D:\\\\Sidevideos\\\\DLC\\\\Sideview_Aug-Arash-2021-08-04\\\\dlc-models\\\\iteration-0\\\\Sideview_AugAug4-trainset95shuffle1\\\\train\\\\snapshot', 'log_dir': 'log', 'global_scale': 0.8, 'location_refinement': True, 'locref_stdev': 7.2801, 'locref_loss_weight': 0.05, 'locref_huber_loss': True, 'optimizer': 'sgd', 'intermediate_supervision': False, 'intermediate_supervision_layer': 12, 'regularize': False, 'weight_decay': 0.0001, 'crop_pad': 0, 'scoremap_dir': 'test', 'batch_size': 1, 'dataset_type': 'imgaug', 'deterministic': False, 'mirror': False, 'pairwise_huber_loss': False, 'weigh_only_present_joints': False, 'partaffinityfield_predict': False, 'pairwise_predict': False, 'all_joints': [[0], [1], [2]], 'all_joints_names': ['Nose', 'Snout', 'Leye'], 'alpha_r': 0.02, 'clahe': True, 'claheratio': 0.1, 'cropratio': 0.4, 'dataset': 'training-datasets\\\\iteration-0\\\\UnaugmentedDataSet_Sideview_AugAug4\\\\Sideview_Aug_Arash95shuffle1.mat', 'decay_steps': 30000, 'display_iters': 1000, 'edge': False, 'emboss': {'alpha': [0.0, 1.0], 'embossratio': 0.1, 'strength': [0.5, 1.5]}, 'histeq': True, 'histeqratio': 0.1, 'init_weights': 'C:\\\\Users\\\\DKLAb\\\\Anaconda3\\\\envs\\\\dlc-windowsGPU\\\\lib\\\\site-packages\\\\deeplabcut\\\\pose_estimation_tensorflow\\\\models\\\\pretrained\\\\resnet_v1_50.ckpt', 'lr_init': 0.0005, 'max_input_size': 1500, 'metadataset': 'training-datasets\\\\iteration-0\\\\UnaugmentedDataSet_Sideview_AugAug4\\\\Documentation_data-Sideview_Aug_95shuffle1.pickle', 'min_input_size': 64, 'multi_step': [[0.005, 10000], [0.02, 430000], [0.002, 730000], [0.001, 1030000]], 'net_type': 'resnet_50', 'num_joints': 3, 'pos_dist_thresh': 17, 'project_path': 'D:\\\\Sidevideos\\\\DLC\\\\Sideview_Aug-Arash-2021-08-04', 'rotation': 25, 'rotratio': 0.4, 'save_iters': 50000, 'scale_jitter_lo': 0.5, 'scale_jitter_up': 1.25, 'sharpen': False, 'sharpenratio': 0.3, 'covering': True, 'elastic_transform': True, 'motion_blur': True, 'motion_blur_params': {'k': 7, 'angle': (-90, 90)}}\n",
      "Starting training....\n"
     ]
    },
    {
     "name": "stderr",
     "output_type": "stream",
     "text": [
      "iteration: 1000 loss: 0.0177 lr: 0.005\n",
      "iteration: 2000 loss: 0.0084 lr: 0.005\n",
      "iteration: 3000 loss: 0.0068 lr: 0.005\n",
      "iteration: 4000 loss: 0.0061 lr: 0.005\n",
      "iteration: 5000 loss: 0.0057 lr: 0.005\n",
      "iteration: 6000 loss: 0.0053 lr: 0.005\n",
      "iteration: 7000 loss: 0.0049 lr: 0.005\n",
      "iteration: 8000 loss: 0.0047 lr: 0.005\n",
      "iteration: 9000 loss: 0.0047 lr: 0.005\n",
      "iteration: 10000 loss: 0.0045 lr: 0.005\n",
      "iteration: 11000 loss: 0.0063 lr: 0.02\n",
      "iteration: 12000 loss: 0.0055 lr: 0.02\n",
      "iteration: 13000 loss: 0.0049 lr: 0.02\n",
      "iteration: 14000 loss: 0.0044 lr: 0.02\n",
      "iteration: 15000 loss: 0.0046 lr: 0.02\n",
      "iteration: 16000 loss: 0.0043 lr: 0.02\n",
      "iteration: 17000 loss: 0.0041 lr: 0.02\n",
      "iteration: 18000 loss: 0.0041 lr: 0.02\n",
      "iteration: 19000 loss: 0.0039 lr: 0.02\n",
      "iteration: 20000 loss: 0.0036 lr: 0.02\n",
      "iteration: 21000 loss: 0.0039 lr: 0.02\n",
      "iteration: 22000 loss: 0.0035 lr: 0.02\n",
      "iteration: 23000 loss: 0.0036 lr: 0.02\n",
      "iteration: 24000 loss: 0.0035 lr: 0.02\n",
      "iteration: 25000 loss: 0.0035 lr: 0.02\n",
      "iteration: 26000 loss: 0.0034 lr: 0.02\n",
      "iteration: 27000 loss: 0.0034 lr: 0.02\n",
      "iteration: 28000 loss: 0.0031 lr: 0.02\n",
      "iteration: 29000 loss: 0.0032 lr: 0.02\n",
      "iteration: 30000 loss: 0.0032 lr: 0.02\n",
      "iteration: 31000 loss: 0.0033 lr: 0.02\n",
      "iteration: 32000 loss: 0.0031 lr: 0.02\n",
      "iteration: 33000 loss: 0.0031 lr: 0.02\n",
      "iteration: 34000 loss: 0.0030 lr: 0.02\n",
      "iteration: 35000 loss: 0.0029 lr: 0.02\n",
      "iteration: 36000 loss: 0.0029 lr: 0.02\n",
      "iteration: 37000 loss: 0.0031 lr: 0.02\n",
      "iteration: 38000 loss: 0.0030 lr: 0.02\n",
      "iteration: 39000 loss: 0.0029 lr: 0.02\n",
      "iteration: 40000 loss: 0.0028 lr: 0.02\n",
      "iteration: 41000 loss: 0.0031 lr: 0.02\n",
      "iteration: 42000 loss: 0.0029 lr: 0.02\n",
      "iteration: 43000 loss: 0.0028 lr: 0.02\n",
      "iteration: 44000 loss: 0.0028 lr: 0.02\n",
      "iteration: 45000 loss: 0.0029 lr: 0.02\n",
      "iteration: 46000 loss: 0.0028 lr: 0.02\n",
      "iteration: 47000 loss: 0.0027 lr: 0.02\n",
      "iteration: 48000 loss: 0.0028 lr: 0.02\n",
      "iteration: 49000 loss: 0.0028 lr: 0.02\n",
      "iteration: 50000 loss: 0.0026 lr: 0.02\n",
      "iteration: 51000 loss: 0.0027 lr: 0.02\n",
      "iteration: 52000 loss: 0.0027 lr: 0.02\n",
      "iteration: 53000 loss: 0.0026 lr: 0.02\n",
      "iteration: 54000 loss: 0.0027 lr: 0.02\n",
      "iteration: 55000 loss: 0.0026 lr: 0.02\n",
      "iteration: 56000 loss: 0.0026 lr: 0.02\n",
      "iteration: 57000 loss: 0.0026 lr: 0.02\n",
      "iteration: 58000 loss: 0.0025 lr: 0.02\n",
      "iteration: 59000 loss: 0.0025 lr: 0.02\n",
      "iteration: 60000 loss: 0.0026 lr: 0.02\n",
      "iteration: 61000 loss: 0.0026 lr: 0.02\n",
      "iteration: 62000 loss: 0.0025 lr: 0.02\n",
      "iteration: 63000 loss: 0.0024 lr: 0.02\n",
      "iteration: 64000 loss: 0.0024 lr: 0.02\n",
      "iteration: 65000 loss: 0.0025 lr: 0.02\n",
      "iteration: 66000 loss: 0.0024 lr: 0.02\n",
      "iteration: 67000 loss: 0.0025 lr: 0.02\n",
      "iteration: 68000 loss: 0.0024 lr: 0.02\n",
      "iteration: 69000 loss: 0.0024 lr: 0.02\n",
      "iteration: 70000 loss: 0.0025 lr: 0.02\n",
      "iteration: 71000 loss: 0.0024 lr: 0.02\n",
      "iteration: 72000 loss: 0.0023 lr: 0.02\n",
      "iteration: 73000 loss: 0.0023 lr: 0.02\n",
      "iteration: 74000 loss: 0.0025 lr: 0.02\n",
      "iteration: 75000 loss: 0.0023 lr: 0.02\n",
      "iteration: 76000 loss: 0.0024 lr: 0.02\n",
      "iteration: 77000 loss: 0.0022 lr: 0.02\n",
      "iteration: 78000 loss: 0.0024 lr: 0.02\n",
      "iteration: 79000 loss: 0.0023 lr: 0.02\n",
      "iteration: 80000 loss: 0.0023 lr: 0.02\n",
      "iteration: 81000 loss: 0.0022 lr: 0.02\n",
      "iteration: 82000 loss: 0.0022 lr: 0.02\n",
      "iteration: 83000 loss: 0.0023 lr: 0.02\n",
      "iteration: 84000 loss: 0.0024 lr: 0.02\n",
      "iteration: 85000 loss: 0.0023 lr: 0.02\n",
      "iteration: 86000 loss: 0.0024 lr: 0.02\n",
      "iteration: 87000 loss: 0.0022 lr: 0.02\n",
      "iteration: 88000 loss: 0.0022 lr: 0.02\n",
      "iteration: 89000 loss: 0.0022 lr: 0.02\n",
      "iteration: 90000 loss: 0.0022 lr: 0.02\n",
      "iteration: 91000 loss: 0.0021 lr: 0.02\n",
      "iteration: 92000 loss: 0.0022 lr: 0.02\n",
      "iteration: 93000 loss: 0.0021 lr: 0.02\n",
      "iteration: 94000 loss: 0.0022 lr: 0.02\n",
      "iteration: 95000 loss: 0.0021 lr: 0.02\n",
      "iteration: 96000 loss: 0.0022 lr: 0.02\n",
      "iteration: 97000 loss: 0.0023 lr: 0.02\n",
      "iteration: 98000 loss: 0.0023 lr: 0.02\n",
      "iteration: 99000 loss: 0.0022 lr: 0.02\n",
      "iteration: 100000 loss: 0.0020 lr: 0.02\n",
      "iteration: 101000 loss: 0.0021 lr: 0.02\n",
      "iteration: 102000 loss: 0.0021 lr: 0.02\n",
      "iteration: 103000 loss: 0.0021 lr: 0.02\n",
      "iteration: 104000 loss: 0.0021 lr: 0.02\n",
      "iteration: 105000 loss: 0.0019 lr: 0.02\n",
      "iteration: 106000 loss: 0.0020 lr: 0.02\n",
      "iteration: 107000 loss: 0.0020 lr: 0.02\n",
      "iteration: 108000 loss: 0.0021 lr: 0.02\n",
      "iteration: 109000 loss: 0.0022 lr: 0.02\n"
     ]
    },
    {
     "ename": "KeyboardInterrupt",
     "evalue": "",
     "output_type": "error",
     "traceback": [
      "\u001b[1;31m---------------------------------------------------------------------------\u001b[0m",
      "\u001b[1;31mKeyboardInterrupt\u001b[0m                         Traceback (most recent call last)",
      "\u001b[1;32m<ipython-input-3-8253cc711f6c>\u001b[0m in \u001b[0;36m<module>\u001b[1;34m\u001b[0m\n\u001b[1;32m----> 1\u001b[1;33m \u001b[0mdeeplabcut\u001b[0m\u001b[1;33m.\u001b[0m\u001b[0mtrain_network\u001b[0m\u001b[1;33m(\u001b[0m\u001b[0mpath_config_file\u001b[0m\u001b[1;33m,\u001b[0m\u001b[0mshuffle\u001b[0m\u001b[1;33m=\u001b[0m\u001b[1;36m1\u001b[0m\u001b[1;33m,\u001b[0m\u001b[0mdisplayiters\u001b[0m\u001b[1;33m=\u001b[0m\u001b[1;36m1000\u001b[0m\u001b[1;33m,\u001b[0m\u001b[0msaveiters\u001b[0m\u001b[1;33m=\u001b[0m\u001b[1;36m1000\u001b[0m\u001b[1;33m)\u001b[0m\u001b[1;33m\u001b[0m\u001b[0m\n\u001b[0m",
      "\u001b[1;32m~\\Anaconda3\\envs\\dlc-windowsGPU\\lib\\site-packages\\deeplabcut\\pose_estimation_tensorflow\\training.py\u001b[0m in \u001b[0;36mtrain_network\u001b[1;34m(config, shuffle, trainingsetindex, max_snapshots_to_keep, displayiters, saveiters, maxiters, allow_growth, gputouse, autotune, keepdeconvweights, modelprefix)\u001b[0m\n\u001b[0;32m    191\u001b[0m \u001b[1;33m\u001b[0m\u001b[0m\n\u001b[0;32m    192\u001b[0m     \u001b[1;32mexcept\u001b[0m \u001b[0mBaseException\u001b[0m \u001b[1;32mas\u001b[0m \u001b[0me\u001b[0m\u001b[1;33m:\u001b[0m\u001b[1;33m\u001b[0m\u001b[0m\n\u001b[1;32m--> 193\u001b[1;33m         \u001b[1;32mraise\u001b[0m \u001b[0me\u001b[0m\u001b[1;33m\u001b[0m\u001b[0m\n\u001b[0m\u001b[0;32m    194\u001b[0m     \u001b[1;32mfinally\u001b[0m\u001b[1;33m:\u001b[0m\u001b[1;33m\u001b[0m\u001b[0m\n\u001b[0;32m    195\u001b[0m         \u001b[0mos\u001b[0m\u001b[1;33m.\u001b[0m\u001b[0mchdir\u001b[0m\u001b[1;33m(\u001b[0m\u001b[0mstr\u001b[0m\u001b[1;33m(\u001b[0m\u001b[0mstart_path\u001b[0m\u001b[1;33m)\u001b[0m\u001b[1;33m)\u001b[0m\u001b[1;33m\u001b[0m\u001b[0m\n",
      "\u001b[1;32m~\\Anaconda3\\envs\\dlc-windowsGPU\\lib\\site-packages\\deeplabcut\\pose_estimation_tensorflow\\training.py\u001b[0m in \u001b[0;36mtrain_network\u001b[1;34m(config, shuffle, trainingsetindex, max_snapshots_to_keep, displayiters, saveiters, maxiters, allow_growth, gputouse, autotune, keepdeconvweights, modelprefix)\u001b[0m\n\u001b[0;32m    187\u001b[0m                 \u001b[0mmax_to_keep\u001b[0m\u001b[1;33m=\u001b[0m\u001b[0mmax_snapshots_to_keep\u001b[0m\u001b[1;33m,\u001b[0m\u001b[1;33m\u001b[0m\u001b[0m\n\u001b[0;32m    188\u001b[0m                 \u001b[0mkeepdeconvweights\u001b[0m\u001b[1;33m=\u001b[0m\u001b[0mkeepdeconvweights\u001b[0m\u001b[1;33m,\u001b[0m\u001b[1;33m\u001b[0m\u001b[0m\n\u001b[1;32m--> 189\u001b[1;33m                 \u001b[0mallow_growth\u001b[0m\u001b[1;33m=\u001b[0m\u001b[0mallow_growth\u001b[0m\u001b[1;33m,\u001b[0m\u001b[1;33m\u001b[0m\u001b[0m\n\u001b[0m\u001b[0;32m    190\u001b[0m             )  # pass on path and file name for pose_cfg.yaml!\n\u001b[0;32m    191\u001b[0m \u001b[1;33m\u001b[0m\u001b[0m\n",
      "\u001b[1;32m~\\Anaconda3\\envs\\dlc-windowsGPU\\lib\\site-packages\\deeplabcut\\pose_estimation_tensorflow\\train.py\u001b[0m in \u001b[0;36mtrain\u001b[1;34m(config_yaml, displayiters, saveiters, maxiters, max_to_keep, keepdeconvweights, allow_growth)\u001b[0m\n\u001b[0;32m    275\u001b[0m \u001b[1;33m\u001b[0m\u001b[0m\n\u001b[0;32m    276\u001b[0m         [_, loss_val, summary] = sess.run(\n\u001b[1;32m--> 277\u001b[1;33m             \u001b[1;33m[\u001b[0m\u001b[0mtrain_op\u001b[0m\u001b[1;33m,\u001b[0m \u001b[0mtotal_loss\u001b[0m\u001b[1;33m,\u001b[0m \u001b[0mmerged_summaries\u001b[0m\u001b[1;33m]\u001b[0m\u001b[1;33m,\u001b[0m \u001b[0mfeed_dict\u001b[0m\u001b[1;33m=\u001b[0m\u001b[0mdict\u001b[0m\u001b[1;33m\u001b[0m\u001b[0m\n\u001b[0m\u001b[0;32m    278\u001b[0m         )\n\u001b[0;32m    279\u001b[0m         \u001b[0mcum_loss\u001b[0m \u001b[1;33m+=\u001b[0m \u001b[0mloss_val\u001b[0m\u001b[1;33m\u001b[0m\u001b[0m\n",
      "\u001b[1;32m~\\Anaconda3\\envs\\dlc-windowsGPU\\lib\\site-packages\\tensorflow\\python\\client\\session.py\u001b[0m in \u001b[0;36mrun\u001b[1;34m(self, fetches, feed_dict, options, run_metadata)\u001b[0m\n\u001b[0;32m    927\u001b[0m     \u001b[1;32mtry\u001b[0m\u001b[1;33m:\u001b[0m\u001b[1;33m\u001b[0m\u001b[0m\n\u001b[0;32m    928\u001b[0m       result = self._run(None, fetches, feed_dict, options_ptr,\n\u001b[1;32m--> 929\u001b[1;33m                          run_metadata_ptr)\n\u001b[0m\u001b[0;32m    930\u001b[0m       \u001b[1;32mif\u001b[0m \u001b[0mrun_metadata\u001b[0m\u001b[1;33m:\u001b[0m\u001b[1;33m\u001b[0m\u001b[0m\n\u001b[0;32m    931\u001b[0m         \u001b[0mproto_data\u001b[0m \u001b[1;33m=\u001b[0m \u001b[0mtf_session\u001b[0m\u001b[1;33m.\u001b[0m\u001b[0mTF_GetBuffer\u001b[0m\u001b[1;33m(\u001b[0m\u001b[0mrun_metadata_ptr\u001b[0m\u001b[1;33m)\u001b[0m\u001b[1;33m\u001b[0m\u001b[0m\n",
      "\u001b[1;32m~\\Anaconda3\\envs\\dlc-windowsGPU\\lib\\site-packages\\tensorflow\\python\\client\\session.py\u001b[0m in \u001b[0;36m_run\u001b[1;34m(self, handle, fetches, feed_dict, options, run_metadata)\u001b[0m\n\u001b[0;32m   1150\u001b[0m     \u001b[1;32mif\u001b[0m \u001b[0mfinal_fetches\u001b[0m \u001b[1;32mor\u001b[0m \u001b[0mfinal_targets\u001b[0m \u001b[1;32mor\u001b[0m \u001b[1;33m(\u001b[0m\u001b[0mhandle\u001b[0m \u001b[1;32mand\u001b[0m \u001b[0mfeed_dict_tensor\u001b[0m\u001b[1;33m)\u001b[0m\u001b[1;33m:\u001b[0m\u001b[1;33m\u001b[0m\u001b[0m\n\u001b[0;32m   1151\u001b[0m       results = self._do_run(handle, final_targets, final_fetches,\n\u001b[1;32m-> 1152\u001b[1;33m                              feed_dict_tensor, options, run_metadata)\n\u001b[0m\u001b[0;32m   1153\u001b[0m     \u001b[1;32melse\u001b[0m\u001b[1;33m:\u001b[0m\u001b[1;33m\u001b[0m\u001b[0m\n\u001b[0;32m   1154\u001b[0m       \u001b[0mresults\u001b[0m \u001b[1;33m=\u001b[0m \u001b[1;33m[\u001b[0m\u001b[1;33m]\u001b[0m\u001b[1;33m\u001b[0m\u001b[0m\n",
      "\u001b[1;32m~\\Anaconda3\\envs\\dlc-windowsGPU\\lib\\site-packages\\tensorflow\\python\\client\\session.py\u001b[0m in \u001b[0;36m_do_run\u001b[1;34m(self, handle, target_list, fetch_list, feed_dict, options, run_metadata)\u001b[0m\n\u001b[0;32m   1326\u001b[0m     \u001b[1;32mif\u001b[0m \u001b[0mhandle\u001b[0m \u001b[1;32mis\u001b[0m \u001b[1;32mNone\u001b[0m\u001b[1;33m:\u001b[0m\u001b[1;33m\u001b[0m\u001b[0m\n\u001b[0;32m   1327\u001b[0m       return self._do_call(_run_fn, feeds, fetches, targets, options,\n\u001b[1;32m-> 1328\u001b[1;33m                            run_metadata)\n\u001b[0m\u001b[0;32m   1329\u001b[0m     \u001b[1;32melse\u001b[0m\u001b[1;33m:\u001b[0m\u001b[1;33m\u001b[0m\u001b[0m\n\u001b[0;32m   1330\u001b[0m       \u001b[1;32mreturn\u001b[0m \u001b[0mself\u001b[0m\u001b[1;33m.\u001b[0m\u001b[0m_do_call\u001b[0m\u001b[1;33m(\u001b[0m\u001b[0m_prun_fn\u001b[0m\u001b[1;33m,\u001b[0m \u001b[0mhandle\u001b[0m\u001b[1;33m,\u001b[0m \u001b[0mfeeds\u001b[0m\u001b[1;33m,\u001b[0m \u001b[0mfetches\u001b[0m\u001b[1;33m)\u001b[0m\u001b[1;33m\u001b[0m\u001b[0m\n",
      "\u001b[1;32m~\\Anaconda3\\envs\\dlc-windowsGPU\\lib\\site-packages\\tensorflow\\python\\client\\session.py\u001b[0m in \u001b[0;36m_do_call\u001b[1;34m(self, fn, *args)\u001b[0m\n\u001b[0;32m   1332\u001b[0m   \u001b[1;32mdef\u001b[0m \u001b[0m_do_call\u001b[0m\u001b[1;33m(\u001b[0m\u001b[0mself\u001b[0m\u001b[1;33m,\u001b[0m \u001b[0mfn\u001b[0m\u001b[1;33m,\u001b[0m \u001b[1;33m*\u001b[0m\u001b[0margs\u001b[0m\u001b[1;33m)\u001b[0m\u001b[1;33m:\u001b[0m\u001b[1;33m\u001b[0m\u001b[0m\n\u001b[0;32m   1333\u001b[0m     \u001b[1;32mtry\u001b[0m\u001b[1;33m:\u001b[0m\u001b[1;33m\u001b[0m\u001b[0m\n\u001b[1;32m-> 1334\u001b[1;33m       \u001b[1;32mreturn\u001b[0m \u001b[0mfn\u001b[0m\u001b[1;33m(\u001b[0m\u001b[1;33m*\u001b[0m\u001b[0margs\u001b[0m\u001b[1;33m)\u001b[0m\u001b[1;33m\u001b[0m\u001b[0m\n\u001b[0m\u001b[0;32m   1335\u001b[0m     \u001b[1;32mexcept\u001b[0m \u001b[0merrors\u001b[0m\u001b[1;33m.\u001b[0m\u001b[0mOpError\u001b[0m \u001b[1;32mas\u001b[0m \u001b[0me\u001b[0m\u001b[1;33m:\u001b[0m\u001b[1;33m\u001b[0m\u001b[0m\n\u001b[0;32m   1336\u001b[0m       \u001b[0mmessage\u001b[0m \u001b[1;33m=\u001b[0m \u001b[0mcompat\u001b[0m\u001b[1;33m.\u001b[0m\u001b[0mas_text\u001b[0m\u001b[1;33m(\u001b[0m\u001b[0me\u001b[0m\u001b[1;33m.\u001b[0m\u001b[0mmessage\u001b[0m\u001b[1;33m)\u001b[0m\u001b[1;33m\u001b[0m\u001b[0m\n",
      "\u001b[1;32m~\\Anaconda3\\envs\\dlc-windowsGPU\\lib\\site-packages\\tensorflow\\python\\client\\session.py\u001b[0m in \u001b[0;36m_run_fn\u001b[1;34m(feed_dict, fetch_list, target_list, options, run_metadata)\u001b[0m\n\u001b[0;32m   1317\u001b[0m       \u001b[0mself\u001b[0m\u001b[1;33m.\u001b[0m\u001b[0m_extend_graph\u001b[0m\u001b[1;33m(\u001b[0m\u001b[1;33m)\u001b[0m\u001b[1;33m\u001b[0m\u001b[0m\n\u001b[0;32m   1318\u001b[0m       return self._call_tf_sessionrun(\n\u001b[1;32m-> 1319\u001b[1;33m           options, feed_dict, fetch_list, target_list, run_metadata)\n\u001b[0m\u001b[0;32m   1320\u001b[0m \u001b[1;33m\u001b[0m\u001b[0m\n\u001b[0;32m   1321\u001b[0m     \u001b[1;32mdef\u001b[0m \u001b[0m_prun_fn\u001b[0m\u001b[1;33m(\u001b[0m\u001b[0mhandle\u001b[0m\u001b[1;33m,\u001b[0m \u001b[0mfeed_dict\u001b[0m\u001b[1;33m,\u001b[0m \u001b[0mfetch_list\u001b[0m\u001b[1;33m)\u001b[0m\u001b[1;33m:\u001b[0m\u001b[1;33m\u001b[0m\u001b[0m\n",
      "\u001b[1;32m~\\Anaconda3\\envs\\dlc-windowsGPU\\lib\\site-packages\\tensorflow\\python\\client\\session.py\u001b[0m in \u001b[0;36m_call_tf_sessionrun\u001b[1;34m(self, options, feed_dict, fetch_list, target_list, run_metadata)\u001b[0m\n\u001b[0;32m   1405\u001b[0m     return tf_session.TF_SessionRun_wrapper(\n\u001b[0;32m   1406\u001b[0m         \u001b[0mself\u001b[0m\u001b[1;33m.\u001b[0m\u001b[0m_session\u001b[0m\u001b[1;33m,\u001b[0m \u001b[0moptions\u001b[0m\u001b[1;33m,\u001b[0m \u001b[0mfeed_dict\u001b[0m\u001b[1;33m,\u001b[0m \u001b[0mfetch_list\u001b[0m\u001b[1;33m,\u001b[0m \u001b[0mtarget_list\u001b[0m\u001b[1;33m,\u001b[0m\u001b[1;33m\u001b[0m\u001b[0m\n\u001b[1;32m-> 1407\u001b[1;33m         run_metadata)\n\u001b[0m\u001b[0;32m   1408\u001b[0m \u001b[1;33m\u001b[0m\u001b[0m\n\u001b[0;32m   1409\u001b[0m   \u001b[1;32mdef\u001b[0m \u001b[0m_call_tf_sessionprun\u001b[0m\u001b[1;33m(\u001b[0m\u001b[0mself\u001b[0m\u001b[1;33m,\u001b[0m \u001b[0mhandle\u001b[0m\u001b[1;33m,\u001b[0m \u001b[0mfeed_dict\u001b[0m\u001b[1;33m,\u001b[0m \u001b[0mfetch_list\u001b[0m\u001b[1;33m)\u001b[0m\u001b[1;33m:\u001b[0m\u001b[1;33m\u001b[0m\u001b[0m\n",
      "\u001b[1;31mKeyboardInterrupt\u001b[0m: "
     ]
    }
   ],
   "source": [
    "deeplabcut.train_network(path_config_file,shuffle=1,displayiters=1000,saveiters=1000)"
   ]
  },
  {
   "cell_type": "markdown",
   "metadata": {
    "colab_type": "text",
    "id": "xZygsb2DoEJc"
   },
   "source": [
    "## Start evaluating\n",
    "This funtion evaluates a trained model for a specific shuffle/shuffles at a particular state or all the states on the data set (images)\n",
    "and stores the results as .csv file in a subdirectory under **evaluation-results**"
   ]
  },
  {
   "cell_type": "code",
   "execution_count": 4,
   "metadata": {
    "colab": {},
    "colab_type": "code",
    "id": "nv4zlbrnoEJg",
    "scrolled": true
   },
   "outputs": [
    {
     "name": "stderr",
     "output_type": "stream",
     "text": [
      "Config:\n",
      "{'all_joints': [[0], [1], [2]],\n",
      " 'all_joints_names': ['Nose', 'Snout', 'Leye'],\n",
      " 'batch_size': 1,\n",
      " 'crop_pad': 0,\n",
      " 'dataset': 'training-datasets\\\\iteration-0\\\\UnaugmentedDataSet_Sideview_AugAug4\\\\Sideview_Aug_Arash95shuffle1.mat',\n",
      " 'dataset_type': 'imgaug',\n",
      " 'deterministic': False,\n",
      " 'fg_fraction': 0.25,\n",
      " 'global_scale': 0.8,\n",
      " 'init_weights': 'C:\\\\Users\\\\DKLAb\\\\Anaconda3\\\\envs\\\\dlc-windowsGPU\\\\lib\\\\site-packages\\\\deeplabcut\\\\pose_estimation_tensorflow\\\\models\\\\pretrained\\\\resnet_v1_50.ckpt',\n",
      " 'intermediate_supervision': False,\n",
      " 'intermediate_supervision_layer': 12,\n",
      " 'location_refinement': True,\n",
      " 'locref_huber_loss': True,\n",
      " 'locref_loss_weight': 1.0,\n",
      " 'locref_stdev': 7.2801,\n",
      " 'log_dir': 'log',\n",
      " 'mean_pixel': [123.68, 116.779, 103.939],\n",
      " 'mirror': False,\n",
      " 'net_type': 'resnet_50',\n",
      " 'num_joints': 3,\n",
      " 'optimizer': 'sgd',\n",
      " 'pairwise_huber_loss': True,\n",
      " 'pairwise_predict': False,\n",
      " 'partaffinityfield_predict': False,\n",
      " 'regularize': False,\n",
      " 'scoremap_dir': 'test',\n",
      " 'shuffle': True,\n",
      " 'snapshot_prefix': 'D:\\\\Sidevideos\\\\DLC\\\\Sideview_Aug-Arash-2021-08-04\\\\dlc-models\\\\iteration-0\\\\Sideview_AugAug4-trainset95shuffle1\\\\test\\\\snapshot',\n",
      " 'stride': 8.0,\n",
      " 'weigh_negatives': False,\n",
      " 'weigh_only_present_joints': False,\n",
      " 'weigh_part_predictions': False,\n",
      " 'weight_decay': 0.0001}\n"
     ]
    },
    {
     "name": "stdout",
     "output_type": "stream",
     "text": [
      "Running  DLC_resnet50_Sideview_AugAug4shuffle1_109000  with # of trainingiterations: 109000\n",
      "Initializing ResNet\n",
      "Analyzing data...\n"
     ]
    },
    {
     "name": "stderr",
     "output_type": "stream",
     "text": [
      "120it [00:19,  6.25it/s]\n"
     ]
    },
    {
     "name": "stdout",
     "output_type": "stream",
     "text": [
      "Done and results stored for snapshot:  snapshot-109000\n",
      "Results for 109000  training iterations: 95 1 train error: 3.5 pixels. Test error: 5.23  pixels.\n",
      "With pcutoff of 0.6  train error: 3.5 pixels. Test error: 5.23 pixels\n",
      "Thereby, the errors are given by the average distances between the labels by DLC and the scorer.\n",
      "The network is evaluated and the results are stored in the subdirectory 'evaluation_results'.\n",
      "If it generalizes well, choose the best model for prediction and update the config file with the appropriate index for the 'snapshotindex'.\n",
      "Use the function 'analyze_video' to make predictions on new videos.\n",
      "Otherwise consider retraining the network (see DeepLabCut workflow Fig 2)\n"
     ]
    }
   ],
   "source": [
    "deeplabcut.evaluate_network(path_config_file,Shuffles=[1], plotting=False)"
   ]
  },
  {
   "cell_type": "markdown",
   "metadata": {
    "colab_type": "text",
    "id": "OVFLSKKfoEJk"
   },
   "source": [
    "## Start Analyzing videos\n",
    "This function analyzes the new video. The user can choose the best model from the evaluation results and specify the correct snapshot index for the variable **snapshotindex** in the **config.yaml** file. Otherwise, by default the most recent snapshot is used to analyse the video.\n",
    "\n",
    "The results are stored in hd5 file in the same directory where the video resides. "
   ]
  },
  {
   "cell_type": "code",
   "execution_count": 5,
   "metadata": {
    "colab": {},
    "colab_type": "code",
    "id": "Y_LZiS_0oEJl"
   },
   "outputs": [
    {
     "name": "stderr",
     "output_type": "stream",
     "text": [
      "Config:\n",
      "{'all_joints': [[0], [1], [2]],\n",
      " 'all_joints_names': ['Nose', 'Snout', 'Leye'],\n",
      " 'batch_size': 1,\n",
      " 'crop_pad': 0,\n",
      " 'dataset': 'training-datasets\\\\iteration-0\\\\UnaugmentedDataSet_Sideview_AugAug4\\\\Sideview_Aug_Arash95shuffle1.mat',\n",
      " 'dataset_type': 'imgaug',\n",
      " 'deterministic': False,\n",
      " 'fg_fraction': 0.25,\n",
      " 'global_scale': 0.8,\n",
      " 'init_weights': 'C:\\\\Users\\\\DKLAb\\\\Anaconda3\\\\envs\\\\dlc-windowsGPU\\\\lib\\\\site-packages\\\\deeplabcut\\\\pose_estimation_tensorflow\\\\models\\\\pretrained\\\\resnet_v1_50.ckpt',\n",
      " 'intermediate_supervision': False,\n",
      " 'intermediate_supervision_layer': 12,\n",
      " 'location_refinement': True,\n",
      " 'locref_huber_loss': True,\n",
      " 'locref_loss_weight': 1.0,\n",
      " 'locref_stdev': 7.2801,\n",
      " 'log_dir': 'log',\n",
      " 'mean_pixel': [123.68, 116.779, 103.939],\n",
      " 'mirror': False,\n",
      " 'net_type': 'resnet_50',\n",
      " 'num_joints': 3,\n",
      " 'optimizer': 'sgd',\n",
      " 'pairwise_huber_loss': True,\n",
      " 'pairwise_predict': False,\n",
      " 'partaffinityfield_predict': False,\n",
      " 'regularize': False,\n",
      " 'scoremap_dir': 'test',\n",
      " 'shuffle': True,\n",
      " 'snapshot_prefix': 'D:\\\\Sidevideos\\\\DLC\\\\Sideview_Aug-Arash-2021-08-04\\\\dlc-models\\\\iteration-0\\\\Sideview_AugAug4-trainset95shuffle1\\\\test\\\\snapshot',\n",
      " 'stride': 8.0,\n",
      " 'weigh_negatives': False,\n",
      " 'weigh_only_present_joints': False,\n",
      " 'weigh_part_predictions': False,\n",
      " 'weight_decay': 0.0001}\n"
     ]
    },
    {
     "name": "stdout",
     "output_type": "stream",
     "text": [
      "['D:\\\\Sidevideos\\\\ar32motor\\\\2021_08_02\\\\0.avi', 'D:\\\\Sidevideos\\\\ar32motor\\\\2021_08_02\\\\1.avi', 'D:\\\\Sidevideos\\\\ar32motor\\\\2021_08_02\\\\10.avi', 'D:\\\\Sidevideos\\\\ar32motor\\\\2021_08_02\\\\100.avi', 'D:\\\\Sidevideos\\\\ar32motor\\\\2021_08_02\\\\101.avi', 'D:\\\\Sidevideos\\\\ar32motor\\\\2021_08_02\\\\102.avi', 'D:\\\\Sidevideos\\\\ar32motor\\\\2021_08_02\\\\103.avi', 'D:\\\\Sidevideos\\\\ar32motor\\\\2021_08_02\\\\104.avi', 'D:\\\\Sidevideos\\\\ar32motor\\\\2021_08_02\\\\105.avi', 'D:\\\\Sidevideos\\\\ar32motor\\\\2021_08_02\\\\106.avi', 'D:\\\\Sidevideos\\\\ar32motor\\\\2021_08_02\\\\107.avi', 'D:\\\\Sidevideos\\\\ar32motor\\\\2021_08_02\\\\108.avi', 'D:\\\\Sidevideos\\\\ar32motor\\\\2021_08_02\\\\109.avi', 'D:\\\\Sidevideos\\\\ar32motor\\\\2021_08_02\\\\11.avi', 'D:\\\\Sidevideos\\\\ar32motor\\\\2021_08_02\\\\110.avi', 'D:\\\\Sidevideos\\\\ar32motor\\\\2021_08_02\\\\111.avi', 'D:\\\\Sidevideos\\\\ar32motor\\\\2021_08_02\\\\112.avi', 'D:\\\\Sidevideos\\\\ar32motor\\\\2021_08_02\\\\113.avi', 'D:\\\\Sidevideos\\\\ar32motor\\\\2021_08_02\\\\114.avi', 'D:\\\\Sidevideos\\\\ar32motor\\\\2021_08_02\\\\115.avi', 'D:\\\\Sidevideos\\\\ar32motor\\\\2021_08_02\\\\116.avi', 'D:\\\\Sidevideos\\\\ar32motor\\\\2021_08_02\\\\117.avi', 'D:\\\\Sidevideos\\\\ar32motor\\\\2021_08_02\\\\118.avi', 'D:\\\\Sidevideos\\\\ar32motor\\\\2021_08_02\\\\119.avi', 'D:\\\\Sidevideos\\\\ar32motor\\\\2021_08_02\\\\12.avi', 'D:\\\\Sidevideos\\\\ar32motor\\\\2021_08_02\\\\120.avi', 'D:\\\\Sidevideos\\\\ar32motor\\\\2021_08_02\\\\121.avi', 'D:\\\\Sidevideos\\\\ar32motor\\\\2021_08_02\\\\122.avi', 'D:\\\\Sidevideos\\\\ar32motor\\\\2021_08_02\\\\123.avi', 'D:\\\\Sidevideos\\\\ar32motor\\\\2021_08_02\\\\124.avi', 'D:\\\\Sidevideos\\\\ar32motor\\\\2021_08_02\\\\125.avi', 'D:\\\\Sidevideos\\\\ar32motor\\\\2021_08_02\\\\126.avi', 'D:\\\\Sidevideos\\\\ar32motor\\\\2021_08_02\\\\127.avi', 'D:\\\\Sidevideos\\\\ar32motor\\\\2021_08_02\\\\128.avi', 'D:\\\\Sidevideos\\\\ar32motor\\\\2021_08_02\\\\129.avi', 'D:\\\\Sidevideos\\\\ar32motor\\\\2021_08_02\\\\13.avi', 'D:\\\\Sidevideos\\\\ar32motor\\\\2021_08_02\\\\130.avi', 'D:\\\\Sidevideos\\\\ar32motor\\\\2021_08_02\\\\131.avi', 'D:\\\\Sidevideos\\\\ar32motor\\\\2021_08_02\\\\132.avi', 'D:\\\\Sidevideos\\\\ar32motor\\\\2021_08_02\\\\133.avi', 'D:\\\\Sidevideos\\\\ar32motor\\\\2021_08_02\\\\134.avi', 'D:\\\\Sidevideos\\\\ar32motor\\\\2021_08_02\\\\135.avi', 'D:\\\\Sidevideos\\\\ar32motor\\\\2021_08_02\\\\136.avi', 'D:\\\\Sidevideos\\\\ar32motor\\\\2021_08_02\\\\137.avi', 'D:\\\\Sidevideos\\\\ar32motor\\\\2021_08_02\\\\138.avi', 'D:\\\\Sidevideos\\\\ar32motor\\\\2021_08_02\\\\139.avi', 'D:\\\\Sidevideos\\\\ar32motor\\\\2021_08_02\\\\14.avi', 'D:\\\\Sidevideos\\\\ar32motor\\\\2021_08_02\\\\140.avi', 'D:\\\\Sidevideos\\\\ar32motor\\\\2021_08_02\\\\141.avi', 'D:\\\\Sidevideos\\\\ar32motor\\\\2021_08_02\\\\142.avi', 'D:\\\\Sidevideos\\\\ar32motor\\\\2021_08_02\\\\143.avi', 'D:\\\\Sidevideos\\\\ar32motor\\\\2021_08_02\\\\144.avi', 'D:\\\\Sidevideos\\\\ar32motor\\\\2021_08_02\\\\145.avi', 'D:\\\\Sidevideos\\\\ar32motor\\\\2021_08_02\\\\146.avi', 'D:\\\\Sidevideos\\\\ar32motor\\\\2021_08_02\\\\147.avi', 'D:\\\\Sidevideos\\\\ar32motor\\\\2021_08_02\\\\148.avi', 'D:\\\\Sidevideos\\\\ar32motor\\\\2021_08_02\\\\149.avi', 'D:\\\\Sidevideos\\\\ar32motor\\\\2021_08_02\\\\15.avi', 'D:\\\\Sidevideos\\\\ar32motor\\\\2021_08_02\\\\150.avi', 'D:\\\\Sidevideos\\\\ar32motor\\\\2021_08_02\\\\151.avi', 'D:\\\\Sidevideos\\\\ar32motor\\\\2021_08_02\\\\152.avi', 'D:\\\\Sidevideos\\\\ar32motor\\\\2021_08_02\\\\153.avi', 'D:\\\\Sidevideos\\\\ar32motor\\\\2021_08_02\\\\154.avi', 'D:\\\\Sidevideos\\\\ar32motor\\\\2021_08_02\\\\155.avi', 'D:\\\\Sidevideos\\\\ar32motor\\\\2021_08_02\\\\156.avi', 'D:\\\\Sidevideos\\\\ar32motor\\\\2021_08_02\\\\157.avi', 'D:\\\\Sidevideos\\\\ar32motor\\\\2021_08_02\\\\158.avi', 'D:\\\\Sidevideos\\\\ar32motor\\\\2021_08_02\\\\159.avi', 'D:\\\\Sidevideos\\\\ar32motor\\\\2021_08_02\\\\16.avi', 'D:\\\\Sidevideos\\\\ar32motor\\\\2021_08_02\\\\160.avi', 'D:\\\\Sidevideos\\\\ar32motor\\\\2021_08_02\\\\161.avi', 'D:\\\\Sidevideos\\\\ar32motor\\\\2021_08_02\\\\162.avi', 'D:\\\\Sidevideos\\\\ar32motor\\\\2021_08_02\\\\163.avi', 'D:\\\\Sidevideos\\\\ar32motor\\\\2021_08_02\\\\164.avi', 'D:\\\\Sidevideos\\\\ar32motor\\\\2021_08_02\\\\165.avi', 'D:\\\\Sidevideos\\\\ar32motor\\\\2021_08_02\\\\166.avi', 'D:\\\\Sidevideos\\\\ar32motor\\\\2021_08_02\\\\167.avi', 'D:\\\\Sidevideos\\\\ar32motor\\\\2021_08_02\\\\168.avi', 'D:\\\\Sidevideos\\\\ar32motor\\\\2021_08_02\\\\169.avi', 'D:\\\\Sidevideos\\\\ar32motor\\\\2021_08_02\\\\17.avi', 'D:\\\\Sidevideos\\\\ar32motor\\\\2021_08_02\\\\170.avi', 'D:\\\\Sidevideos\\\\ar32motor\\\\2021_08_02\\\\171.avi', 'D:\\\\Sidevideos\\\\ar32motor\\\\2021_08_02\\\\172.avi', 'D:\\\\Sidevideos\\\\ar32motor\\\\2021_08_02\\\\173.avi', 'D:\\\\Sidevideos\\\\ar32motor\\\\2021_08_02\\\\174.avi', 'D:\\\\Sidevideos\\\\ar32motor\\\\2021_08_02\\\\175.avi', 'D:\\\\Sidevideos\\\\ar32motor\\\\2021_08_02\\\\176.avi', 'D:\\\\Sidevideos\\\\ar32motor\\\\2021_08_02\\\\177.avi', 'D:\\\\Sidevideos\\\\ar32motor\\\\2021_08_02\\\\178.avi', 'D:\\\\Sidevideos\\\\ar32motor\\\\2021_08_02\\\\179.avi', 'D:\\\\Sidevideos\\\\ar32motor\\\\2021_08_02\\\\18.avi', 'D:\\\\Sidevideos\\\\ar32motor\\\\2021_08_02\\\\180.avi', 'D:\\\\Sidevideos\\\\ar32motor\\\\2021_08_02\\\\181.avi', 'D:\\\\Sidevideos\\\\ar32motor\\\\2021_08_02\\\\182.avi', 'D:\\\\Sidevideos\\\\ar32motor\\\\2021_08_02\\\\183.avi', 'D:\\\\Sidevideos\\\\ar32motor\\\\2021_08_02\\\\184.avi', 'D:\\\\Sidevideos\\\\ar32motor\\\\2021_08_02\\\\185.avi', 'D:\\\\Sidevideos\\\\ar32motor\\\\2021_08_02\\\\186.avi', 'D:\\\\Sidevideos\\\\ar32motor\\\\2021_08_02\\\\187.avi', 'D:\\\\Sidevideos\\\\ar32motor\\\\2021_08_02\\\\188.avi', 'D:\\\\Sidevideos\\\\ar32motor\\\\2021_08_02\\\\189.avi', 'D:\\\\Sidevideos\\\\ar32motor\\\\2021_08_02\\\\19.avi', 'D:\\\\Sidevideos\\\\ar32motor\\\\2021_08_02\\\\190.avi', 'D:\\\\Sidevideos\\\\ar32motor\\\\2021_08_02\\\\191.avi', 'D:\\\\Sidevideos\\\\ar32motor\\\\2021_08_02\\\\192.avi', 'D:\\\\Sidevideos\\\\ar32motor\\\\2021_08_02\\\\193.avi', 'D:\\\\Sidevideos\\\\ar32motor\\\\2021_08_02\\\\194.avi', 'D:\\\\Sidevideos\\\\ar32motor\\\\2021_08_02\\\\195.avi', 'D:\\\\Sidevideos\\\\ar32motor\\\\2021_08_02\\\\196.avi', 'D:\\\\Sidevideos\\\\ar32motor\\\\2021_08_02\\\\197.avi', 'D:\\\\Sidevideos\\\\ar32motor\\\\2021_08_02\\\\198.avi', 'D:\\\\Sidevideos\\\\ar32motor\\\\2021_08_02\\\\199.avi', 'D:\\\\Sidevideos\\\\ar32motor\\\\2021_08_02\\\\2.avi', 'D:\\\\Sidevideos\\\\ar32motor\\\\2021_08_02\\\\20.avi', 'D:\\\\Sidevideos\\\\ar32motor\\\\2021_08_02\\\\200.avi', 'D:\\\\Sidevideos\\\\ar32motor\\\\2021_08_02\\\\201.avi', 'D:\\\\Sidevideos\\\\ar32motor\\\\2021_08_02\\\\202.avi', 'D:\\\\Sidevideos\\\\ar32motor\\\\2021_08_02\\\\203.avi', 'D:\\\\Sidevideos\\\\ar32motor\\\\2021_08_02\\\\204.avi', 'D:\\\\Sidevideos\\\\ar32motor\\\\2021_08_02\\\\205.avi', 'D:\\\\Sidevideos\\\\ar32motor\\\\2021_08_02\\\\206.avi', 'D:\\\\Sidevideos\\\\ar32motor\\\\2021_08_02\\\\207.avi', 'D:\\\\Sidevideos\\\\ar32motor\\\\2021_08_02\\\\208.avi', 'D:\\\\Sidevideos\\\\ar32motor\\\\2021_08_02\\\\209.avi', 'D:\\\\Sidevideos\\\\ar32motor\\\\2021_08_02\\\\21.avi', 'D:\\\\Sidevideos\\\\ar32motor\\\\2021_08_02\\\\210.avi', 'D:\\\\Sidevideos\\\\ar32motor\\\\2021_08_02\\\\211.avi', 'D:\\\\Sidevideos\\\\ar32motor\\\\2021_08_02\\\\212.avi', 'D:\\\\Sidevideos\\\\ar32motor\\\\2021_08_02\\\\213.avi', 'D:\\\\Sidevideos\\\\ar32motor\\\\2021_08_02\\\\214.avi', 'D:\\\\Sidevideos\\\\ar32motor\\\\2021_08_02\\\\215.avi', 'D:\\\\Sidevideos\\\\ar32motor\\\\2021_08_02\\\\216.avi', 'D:\\\\Sidevideos\\\\ar32motor\\\\2021_08_02\\\\217.avi', 'D:\\\\Sidevideos\\\\ar32motor\\\\2021_08_02\\\\218.avi', 'D:\\\\Sidevideos\\\\ar32motor\\\\2021_08_02\\\\219.avi', 'D:\\\\Sidevideos\\\\ar32motor\\\\2021_08_02\\\\22.avi', 'D:\\\\Sidevideos\\\\ar32motor\\\\2021_08_02\\\\220.avi', 'D:\\\\Sidevideos\\\\ar32motor\\\\2021_08_02\\\\221.avi', 'D:\\\\Sidevideos\\\\ar32motor\\\\2021_08_02\\\\222.avi', 'D:\\\\Sidevideos\\\\ar32motor\\\\2021_08_02\\\\223.avi', 'D:\\\\Sidevideos\\\\ar32motor\\\\2021_08_02\\\\224.avi', 'D:\\\\Sidevideos\\\\ar32motor\\\\2021_08_02\\\\225.avi', 'D:\\\\Sidevideos\\\\ar32motor\\\\2021_08_02\\\\226.avi', 'D:\\\\Sidevideos\\\\ar32motor\\\\2021_08_02\\\\227.avi', 'D:\\\\Sidevideos\\\\ar32motor\\\\2021_08_02\\\\228.avi', 'D:\\\\Sidevideos\\\\ar32motor\\\\2021_08_02\\\\229.avi', 'D:\\\\Sidevideos\\\\ar32motor\\\\2021_08_02\\\\23.avi', 'D:\\\\Sidevideos\\\\ar32motor\\\\2021_08_02\\\\230.avi', 'D:\\\\Sidevideos\\\\ar32motor\\\\2021_08_02\\\\231.avi', 'D:\\\\Sidevideos\\\\ar32motor\\\\2021_08_02\\\\232.avi', 'D:\\\\Sidevideos\\\\ar32motor\\\\2021_08_02\\\\24.avi', 'D:\\\\Sidevideos\\\\ar32motor\\\\2021_08_02\\\\25.avi', 'D:\\\\Sidevideos\\\\ar32motor\\\\2021_08_02\\\\26.avi', 'D:\\\\Sidevideos\\\\ar32motor\\\\2021_08_02\\\\27.avi', 'D:\\\\Sidevideos\\\\ar32motor\\\\2021_08_02\\\\28.avi', 'D:\\\\Sidevideos\\\\ar32motor\\\\2021_08_02\\\\29.avi', 'D:\\\\Sidevideos\\\\ar32motor\\\\2021_08_02\\\\3.avi', 'D:\\\\Sidevideos\\\\ar32motor\\\\2021_08_02\\\\30.avi', 'D:\\\\Sidevideos\\\\ar32motor\\\\2021_08_02\\\\31.avi', 'D:\\\\Sidevideos\\\\ar32motor\\\\2021_08_02\\\\32.avi', 'D:\\\\Sidevideos\\\\ar32motor\\\\2021_08_02\\\\33.avi', 'D:\\\\Sidevideos\\\\ar32motor\\\\2021_08_02\\\\34.avi', 'D:\\\\Sidevideos\\\\ar32motor\\\\2021_08_02\\\\35.avi', 'D:\\\\Sidevideos\\\\ar32motor\\\\2021_08_02\\\\36.avi', 'D:\\\\Sidevideos\\\\ar32motor\\\\2021_08_02\\\\37.avi', 'D:\\\\Sidevideos\\\\ar32motor\\\\2021_08_02\\\\38.avi', 'D:\\\\Sidevideos\\\\ar32motor\\\\2021_08_02\\\\39.avi', 'D:\\\\Sidevideos\\\\ar32motor\\\\2021_08_02\\\\4.avi', 'D:\\\\Sidevideos\\\\ar32motor\\\\2021_08_02\\\\40.avi', 'D:\\\\Sidevideos\\\\ar32motor\\\\2021_08_02\\\\41.avi', 'D:\\\\Sidevideos\\\\ar32motor\\\\2021_08_02\\\\42.avi', 'D:\\\\Sidevideos\\\\ar32motor\\\\2021_08_02\\\\43.avi', 'D:\\\\Sidevideos\\\\ar32motor\\\\2021_08_02\\\\44.avi', 'D:\\\\Sidevideos\\\\ar32motor\\\\2021_08_02\\\\45.avi', 'D:\\\\Sidevideos\\\\ar32motor\\\\2021_08_02\\\\46.avi', 'D:\\\\Sidevideos\\\\ar32motor\\\\2021_08_02\\\\47.avi', 'D:\\\\Sidevideos\\\\ar32motor\\\\2021_08_02\\\\48.avi', 'D:\\\\Sidevideos\\\\ar32motor\\\\2021_08_02\\\\49.avi', 'D:\\\\Sidevideos\\\\ar32motor\\\\2021_08_02\\\\5.avi', 'D:\\\\Sidevideos\\\\ar32motor\\\\2021_08_02\\\\50.avi', 'D:\\\\Sidevideos\\\\ar32motor\\\\2021_08_02\\\\51.avi', 'D:\\\\Sidevideos\\\\ar32motor\\\\2021_08_02\\\\52.avi', 'D:\\\\Sidevideos\\\\ar32motor\\\\2021_08_02\\\\53.avi', 'D:\\\\Sidevideos\\\\ar32motor\\\\2021_08_02\\\\54.avi', 'D:\\\\Sidevideos\\\\ar32motor\\\\2021_08_02\\\\55.avi', 'D:\\\\Sidevideos\\\\ar32motor\\\\2021_08_02\\\\56.avi', 'D:\\\\Sidevideos\\\\ar32motor\\\\2021_08_02\\\\57.avi', 'D:\\\\Sidevideos\\\\ar32motor\\\\2021_08_02\\\\58.avi', 'D:\\\\Sidevideos\\\\ar32motor\\\\2021_08_02\\\\59.avi', 'D:\\\\Sidevideos\\\\ar32motor\\\\2021_08_02\\\\6.avi', 'D:\\\\Sidevideos\\\\ar32motor\\\\2021_08_02\\\\60.avi', 'D:\\\\Sidevideos\\\\ar32motor\\\\2021_08_02\\\\61.avi', 'D:\\\\Sidevideos\\\\ar32motor\\\\2021_08_02\\\\62.avi', 'D:\\\\Sidevideos\\\\ar32motor\\\\2021_08_02\\\\63.avi', 'D:\\\\Sidevideos\\\\ar32motor\\\\2021_08_02\\\\64.avi', 'D:\\\\Sidevideos\\\\ar32motor\\\\2021_08_02\\\\65.avi', 'D:\\\\Sidevideos\\\\ar32motor\\\\2021_08_02\\\\66.avi', 'D:\\\\Sidevideos\\\\ar32motor\\\\2021_08_02\\\\67.avi', 'D:\\\\Sidevideos\\\\ar32motor\\\\2021_08_02\\\\68.avi', 'D:\\\\Sidevideos\\\\ar32motor\\\\2021_08_02\\\\69.avi', 'D:\\\\Sidevideos\\\\ar32motor\\\\2021_08_02\\\\7.avi', 'D:\\\\Sidevideos\\\\ar32motor\\\\2021_08_02\\\\70.avi', 'D:\\\\Sidevideos\\\\ar32motor\\\\2021_08_02\\\\71.avi', 'D:\\\\Sidevideos\\\\ar32motor\\\\2021_08_02\\\\72.avi', 'D:\\\\Sidevideos\\\\ar32motor\\\\2021_08_02\\\\73.avi', 'D:\\\\Sidevideos\\\\ar32motor\\\\2021_08_02\\\\74.avi', 'D:\\\\Sidevideos\\\\ar32motor\\\\2021_08_02\\\\75.avi', 'D:\\\\Sidevideos\\\\ar32motor\\\\2021_08_02\\\\76.avi', 'D:\\\\Sidevideos\\\\ar32motor\\\\2021_08_02\\\\77.avi', 'D:\\\\Sidevideos\\\\ar32motor\\\\2021_08_02\\\\78.avi', 'D:\\\\Sidevideos\\\\ar32motor\\\\2021_08_02\\\\79.avi', 'D:\\\\Sidevideos\\\\ar32motor\\\\2021_08_02\\\\8.avi', 'D:\\\\Sidevideos\\\\ar32motor\\\\2021_08_02\\\\80.avi', 'D:\\\\Sidevideos\\\\ar32motor\\\\2021_08_02\\\\81.avi', 'D:\\\\Sidevideos\\\\ar32motor\\\\2021_08_02\\\\82.avi', 'D:\\\\Sidevideos\\\\ar32motor\\\\2021_08_02\\\\83.avi', 'D:\\\\Sidevideos\\\\ar32motor\\\\2021_08_02\\\\84.avi', 'D:\\\\Sidevideos\\\\ar32motor\\\\2021_08_02\\\\85.avi', 'D:\\\\Sidevideos\\\\ar32motor\\\\2021_08_02\\\\86.avi', 'D:\\\\Sidevideos\\\\ar32motor\\\\2021_08_02\\\\87.avi', 'D:\\\\Sidevideos\\\\ar32motor\\\\2021_08_02\\\\88.avi', 'D:\\\\Sidevideos\\\\ar32motor\\\\2021_08_02\\\\89.avi', 'D:\\\\Sidevideos\\\\ar32motor\\\\2021_08_02\\\\9.avi', 'D:\\\\Sidevideos\\\\ar32motor\\\\2021_08_02\\\\90.avi', 'D:\\\\Sidevideos\\\\ar32motor\\\\2021_08_02\\\\91.avi', 'D:\\\\Sidevideos\\\\ar32motor\\\\2021_08_02\\\\92.avi', 'D:\\\\Sidevideos\\\\ar32motor\\\\2021_08_02\\\\93.avi', 'D:\\\\Sidevideos\\\\ar32motor\\\\2021_08_02\\\\94.avi', 'D:\\\\Sidevideos\\\\ar32motor\\\\2021_08_02\\\\95.avi', 'D:\\\\Sidevideos\\\\ar32motor\\\\2021_08_02\\\\96.avi', 'D:\\\\Sidevideos\\\\ar32motor\\\\2021_08_02\\\\97.avi', 'D:\\\\Sidevideos\\\\ar32motor\\\\2021_08_02\\\\98.avi', 'D:\\\\Sidevideos\\\\ar32motor\\\\2021_08_02\\\\99.avi']\n",
      "Using snapshot-109000 for model D:\\Sidevideos\\DLC\\Sideview_Aug-Arash-2021-08-04\\dlc-models\\iteration-0\\Sideview_AugAug4-trainset95shuffle1\n",
      "Initializing ResNet\n"
     ]
    },
    {
     "name": "stdout",
     "output_type": "stream",
     "text": [
      "Starting to analyze %  D:\\Sidevideos\\ar32motor\\2021_08_02\\0.avi\n",
      "D:\\Sidevideos\\ar32motor\\2021_08_02  already exists!\n",
      "Loading  D:\\Sidevideos\\ar32motor\\2021_08_02\\0.avi\n",
      "Duration of video [s]:  10.0 , recorded with  40.0 fps!\n",
      "Overall # of frames:  400  found with (before cropping) frame dimensions:  800 550\n",
      "Starting to extract posture\n"
     ]
    },
    {
     "name": "stderr",
     "output_type": "stream",
     "text": [
      "410it [00:44,  9.30it/s]                                                                                               \n"
     ]
    },
    {
     "name": "stdout",
     "output_type": "stream",
     "text": [
      "Saving results in D:\\Sidevideos\\ar32motor\\2021_08_02...\n",
      "Saving csv poses!\n",
      "Starting to analyze %  D:\\Sidevideos\\ar32motor\\2021_08_02\\1.avi\n",
      "D:\\Sidevideos\\ar32motor\\2021_08_02  already exists!\n",
      "Loading  D:\\Sidevideos\\ar32motor\\2021_08_02\\1.avi\n",
      "Duration of video [s]:  10.0 , recorded with  40.0 fps!\n",
      "Overall # of frames:  400  found with (before cropping) frame dimensions:  800 550\n",
      "Starting to extract posture\n"
     ]
    },
    {
     "name": "stderr",
     "output_type": "stream",
     "text": [
      "410it [00:40, 10.01it/s]                                                                                               \n"
     ]
    },
    {
     "name": "stdout",
     "output_type": "stream",
     "text": [
      "Saving results in D:\\Sidevideos\\ar32motor\\2021_08_02...\n",
      "Saving csv poses!\n",
      "Starting to analyze %  D:\\Sidevideos\\ar32motor\\2021_08_02\\10.avi\n",
      "D:\\Sidevideos\\ar32motor\\2021_08_02  already exists!\n",
      "Loading  D:\\Sidevideos\\ar32motor\\2021_08_02\\10.avi\n",
      "Duration of video [s]:  10.0 , recorded with  40.0 fps!\n",
      "Overall # of frames:  400  found with (before cropping) frame dimensions:  800 550\n",
      "Starting to extract posture\n"
     ]
    },
    {
     "name": "stderr",
     "output_type": "stream",
     "text": [
      "410it [00:41,  9.87it/s]                                                                                               \n"
     ]
    },
    {
     "name": "stdout",
     "output_type": "stream",
     "text": [
      "Saving results in D:\\Sidevideos\\ar32motor\\2021_08_02...\n",
      "Saving csv poses!\n",
      "Starting to analyze %  D:\\Sidevideos\\ar32motor\\2021_08_02\\100.avi\n",
      "D:\\Sidevideos\\ar32motor\\2021_08_02  already exists!\n",
      "Loading  D:\\Sidevideos\\ar32motor\\2021_08_02\\100.avi\n",
      "Duration of video [s]:  10.0 , recorded with  40.0 fps!\n",
      "Overall # of frames:  400  found with (before cropping) frame dimensions:  800 550\n",
      "Starting to extract posture\n"
     ]
    },
    {
     "name": "stderr",
     "output_type": "stream",
     "text": [
      "410it [00:41,  9.85it/s]                                                                                               \n"
     ]
    },
    {
     "name": "stdout",
     "output_type": "stream",
     "text": [
      "Saving results in D:\\Sidevideos\\ar32motor\\2021_08_02...\n",
      "Saving csv poses!\n",
      "Starting to analyze %  D:\\Sidevideos\\ar32motor\\2021_08_02\\101.avi\n",
      "D:\\Sidevideos\\ar32motor\\2021_08_02  already exists!\n",
      "Loading  D:\\Sidevideos\\ar32motor\\2021_08_02\\101.avi\n",
      "Duration of video [s]:  6.72 , recorded with  40.0 fps!\n",
      "Overall # of frames:  269  found with (before cropping) frame dimensions:  800 550\n",
      "Starting to extract posture\n"
     ]
    },
    {
     "name": "stderr",
     "output_type": "stream",
     "text": [
      "270it [00:28,  9.56it/s]                                                                                               \n"
     ]
    },
    {
     "name": "stdout",
     "output_type": "stream",
     "text": [
      "Saving results in D:\\Sidevideos\\ar32motor\\2021_08_02...\n",
      "Saving csv poses!\n",
      "Starting to analyze %  D:\\Sidevideos\\ar32motor\\2021_08_02\\102.avi\n",
      "D:\\Sidevideos\\ar32motor\\2021_08_02  already exists!\n",
      "Loading  D:\\Sidevideos\\ar32motor\\2021_08_02\\102.avi\n",
      "Duration of video [s]:  5.9 , recorded with  40.0 fps!\n",
      "Overall # of frames:  236  found with (before cropping) frame dimensions:  800 550\n",
      "Starting to extract posture\n"
     ]
    },
    {
     "name": "stderr",
     "output_type": "stream",
     "text": [
      "240it [00:24,  9.67it/s]                                                                                               \n"
     ]
    },
    {
     "name": "stdout",
     "output_type": "stream",
     "text": [
      "Saving results in D:\\Sidevideos\\ar32motor\\2021_08_02...\n",
      "Saving csv poses!\n",
      "Starting to analyze %  D:\\Sidevideos\\ar32motor\\2021_08_02\\103.avi\n",
      "D:\\Sidevideos\\ar32motor\\2021_08_02  already exists!\n",
      "Loading  D:\\Sidevideos\\ar32motor\\2021_08_02\\103.avi\n",
      "Duration of video [s]:  10.0 , recorded with  40.0 fps!\n",
      "Overall # of frames:  400  found with (before cropping) frame dimensions:  800 550\n",
      "Starting to extract posture\n"
     ]
    },
    {
     "name": "stderr",
     "output_type": "stream",
     "text": [
      "410it [00:41,  9.88it/s]                                                                                               \n"
     ]
    },
    {
     "name": "stdout",
     "output_type": "stream",
     "text": [
      "Saving results in D:\\Sidevideos\\ar32motor\\2021_08_02...\n",
      "Saving csv poses!\n",
      "Starting to analyze %  D:\\Sidevideos\\ar32motor\\2021_08_02\\104.avi\n",
      "D:\\Sidevideos\\ar32motor\\2021_08_02  already exists!\n",
      "Loading  D:\\Sidevideos\\ar32motor\\2021_08_02\\104.avi\n",
      "Duration of video [s]:  10.0 , recorded with  40.0 fps!\n",
      "Overall # of frames:  400  found with (before cropping) frame dimensions:  800 550\n",
      "Starting to extract posture\n"
     ]
    },
    {
     "name": "stderr",
     "output_type": "stream",
     "text": [
      "410it [00:41,  9.89it/s]                                                                                               \n"
     ]
    },
    {
     "name": "stdout",
     "output_type": "stream",
     "text": [
      "Saving results in D:\\Sidevideos\\ar32motor\\2021_08_02...\n",
      "Saving csv poses!\n",
      "Starting to analyze %  D:\\Sidevideos\\ar32motor\\2021_08_02\\105.avi\n",
      "D:\\Sidevideos\\ar32motor\\2021_08_02  already exists!\n",
      "Loading  D:\\Sidevideos\\ar32motor\\2021_08_02\\105.avi\n",
      "Duration of video [s]:  10.0 , recorded with  40.0 fps!\n",
      "Overall # of frames:  400  found with (before cropping) frame dimensions:  800 550\n",
      "Starting to extract posture\n"
     ]
    },
    {
     "name": "stderr",
     "output_type": "stream",
     "text": [
      "410it [00:41,  9.88it/s]                                                                                               \n"
     ]
    },
    {
     "name": "stdout",
     "output_type": "stream",
     "text": [
      "Saving results in D:\\Sidevideos\\ar32motor\\2021_08_02...\n",
      "Saving csv poses!\n",
      "Starting to analyze %  D:\\Sidevideos\\ar32motor\\2021_08_02\\106.avi\n",
      "D:\\Sidevideos\\ar32motor\\2021_08_02  already exists!\n",
      "Loading  D:\\Sidevideos\\ar32motor\\2021_08_02\\106.avi\n",
      "Duration of video [s]:  10.0 , recorded with  40.0 fps!\n",
      "Overall # of frames:  400  found with (before cropping) frame dimensions:  800 550\n",
      "Starting to extract posture\n"
     ]
    },
    {
     "name": "stderr",
     "output_type": "stream",
     "text": [
      "410it [00:40, 10.02it/s]                                                                                               \n"
     ]
    },
    {
     "name": "stdout",
     "output_type": "stream",
     "text": [
      "Saving results in D:\\Sidevideos\\ar32motor\\2021_08_02...\n",
      "Saving csv poses!\n",
      "Starting to analyze %  D:\\Sidevideos\\ar32motor\\2021_08_02\\107.avi\n",
      "D:\\Sidevideos\\ar32motor\\2021_08_02  already exists!\n",
      "Loading  D:\\Sidevideos\\ar32motor\\2021_08_02\\107.avi\n",
      "Duration of video [s]:  10.0 , recorded with  40.0 fps!\n",
      "Overall # of frames:  400  found with (before cropping) frame dimensions:  800 550\n",
      "Starting to extract posture\n"
     ]
    },
    {
     "name": "stderr",
     "output_type": "stream",
     "text": [
      "410it [00:40, 10.04it/s]                                                                                               \n"
     ]
    },
    {
     "name": "stdout",
     "output_type": "stream",
     "text": [
      "Saving results in D:\\Sidevideos\\ar32motor\\2021_08_02...\n",
      "Saving csv poses!\n",
      "Starting to analyze %  D:\\Sidevideos\\ar32motor\\2021_08_02\\108.avi\n",
      "D:\\Sidevideos\\ar32motor\\2021_08_02  already exists!\n",
      "Loading  D:\\Sidevideos\\ar32motor\\2021_08_02\\108.avi\n",
      "Duration of video [s]:  8.95 , recorded with  40.0 fps!\n",
      "Overall # of frames:  358  found with (before cropping) frame dimensions:  800 550\n",
      "Starting to extract posture\n"
     ]
    },
    {
     "name": "stderr",
     "output_type": "stream",
     "text": [
      "360it [00:36,  9.76it/s]                                                                                               \n"
     ]
    },
    {
     "name": "stdout",
     "output_type": "stream",
     "text": [
      "Saving results in D:\\Sidevideos\\ar32motor\\2021_08_02...\n",
      "Saving csv poses!\n",
      "Starting to analyze %  D:\\Sidevideos\\ar32motor\\2021_08_02\\109.avi\n",
      "D:\\Sidevideos\\ar32motor\\2021_08_02  already exists!\n",
      "Loading  D:\\Sidevideos\\ar32motor\\2021_08_02\\109.avi\n",
      "Duration of video [s]:  3.77 , recorded with  40.0 fps!\n",
      "Overall # of frames:  151  found with (before cropping) frame dimensions:  800 550\n",
      "Starting to extract posture\n"
     ]
    },
    {
     "name": "stderr",
     "output_type": "stream",
     "text": [
      "160it [00:15, 10.34it/s]                                                                                               \n"
     ]
    },
    {
     "name": "stdout",
     "output_type": "stream",
     "text": [
      "Saving results in D:\\Sidevideos\\ar32motor\\2021_08_02...\n",
      "Saving csv poses!\n",
      "Starting to analyze %  D:\\Sidevideos\\ar32motor\\2021_08_02\\11.avi\n",
      "D:\\Sidevideos\\ar32motor\\2021_08_02  already exists!\n",
      "Loading  D:\\Sidevideos\\ar32motor\\2021_08_02\\11.avi\n",
      "Duration of video [s]:  10.0 , recorded with  40.0 fps!\n",
      "Overall # of frames:  400  found with (before cropping) frame dimensions:  800 550\n",
      "Starting to extract posture\n"
     ]
    },
    {
     "name": "stderr",
     "output_type": "stream",
     "text": [
      "410it [00:40, 10.01it/s]                                                                                               \n"
     ]
    },
    {
     "name": "stdout",
     "output_type": "stream",
     "text": [
      "Saving results in D:\\Sidevideos\\ar32motor\\2021_08_02...\n",
      "Saving csv poses!\n",
      "Starting to analyze %  D:\\Sidevideos\\ar32motor\\2021_08_02\\110.avi\n",
      "D:\\Sidevideos\\ar32motor\\2021_08_02  already exists!\n",
      "Loading  D:\\Sidevideos\\ar32motor\\2021_08_02\\110.avi\n",
      "Duration of video [s]:  5.67 , recorded with  40.0 fps!\n",
      "Overall # of frames:  227  found with (before cropping) frame dimensions:  800 550\n",
      "Starting to extract posture\n"
     ]
    },
    {
     "name": "stderr",
     "output_type": "stream",
     "text": [
      "230it [00:23,  9.70it/s]                                                                                               \n"
     ]
    },
    {
     "name": "stdout",
     "output_type": "stream",
     "text": [
      "Saving results in D:\\Sidevideos\\ar32motor\\2021_08_02...\n",
      "Saving csv poses!\n",
      "Starting to analyze %  D:\\Sidevideos\\ar32motor\\2021_08_02\\111.avi\n",
      "D:\\Sidevideos\\ar32motor\\2021_08_02  already exists!\n",
      "Loading  D:\\Sidevideos\\ar32motor\\2021_08_02\\111.avi\n",
      "Duration of video [s]:  3.08 , recorded with  40.0 fps!\n",
      "Overall # of frames:  123  found with (before cropping) frame dimensions:  800 550\n",
      "Starting to extract posture\n"
     ]
    },
    {
     "name": "stderr",
     "output_type": "stream",
     "text": [
      "130it [00:12, 10.02it/s]                                                                                               \n"
     ]
    },
    {
     "name": "stdout",
     "output_type": "stream",
     "text": [
      "Saving results in D:\\Sidevideos\\ar32motor\\2021_08_02...\n",
      "Saving csv poses!\n",
      "Starting to analyze %  D:\\Sidevideos\\ar32motor\\2021_08_02\\112.avi\n",
      "D:\\Sidevideos\\ar32motor\\2021_08_02  already exists!\n",
      "Loading  D:\\Sidevideos\\ar32motor\\2021_08_02\\112.avi\n",
      "Duration of video [s]:  4.17 , recorded with  40.0 fps!\n",
      "Overall # of frames:  167  found with (before cropping) frame dimensions:  800 550\n",
      "Starting to extract posture\n"
     ]
    },
    {
     "name": "stderr",
     "output_type": "stream",
     "text": [
      "170it [00:17,  9.88it/s]                                                                                               \n"
     ]
    },
    {
     "name": "stdout",
     "output_type": "stream",
     "text": [
      "Saving results in D:\\Sidevideos\\ar32motor\\2021_08_02...\n",
      "Saving csv poses!\n",
      "Starting to analyze %  D:\\Sidevideos\\ar32motor\\2021_08_02\\113.avi\n",
      "D:\\Sidevideos\\ar32motor\\2021_08_02  already exists!\n",
      "Loading  D:\\Sidevideos\\ar32motor\\2021_08_02\\113.avi\n",
      "Duration of video [s]:  4.7 , recorded with  40.0 fps!\n",
      "Overall # of frames:  188  found with (before cropping) frame dimensions:  800 550\n",
      "Starting to extract posture\n"
     ]
    },
    {
     "name": "stderr",
     "output_type": "stream",
     "text": [
      "190it [00:19,  9.65it/s]                                                                                               \n"
     ]
    },
    {
     "name": "stdout",
     "output_type": "stream",
     "text": [
      "Saving results in D:\\Sidevideos\\ar32motor\\2021_08_02...\n",
      "Saving csv poses!\n",
      "Starting to analyze %  D:\\Sidevideos\\ar32motor\\2021_08_02\\114.avi\n",
      "D:\\Sidevideos\\ar32motor\\2021_08_02  already exists!\n",
      "Loading  D:\\Sidevideos\\ar32motor\\2021_08_02\\114.avi\n",
      "Duration of video [s]:  3.1 , recorded with  40.0 fps!\n",
      "Overall # of frames:  124  found with (before cropping) frame dimensions:  800 550\n",
      "Starting to extract posture\n"
     ]
    },
    {
     "name": "stderr",
     "output_type": "stream",
     "text": [
      "130it [00:13,  9.96it/s]                                                                                               \n"
     ]
    },
    {
     "name": "stdout",
     "output_type": "stream",
     "text": [
      "Saving results in D:\\Sidevideos\\ar32motor\\2021_08_02...\n",
      "Saving csv poses!\n",
      "Starting to analyze %  D:\\Sidevideos\\ar32motor\\2021_08_02\\115.avi\n",
      "D:\\Sidevideos\\ar32motor\\2021_08_02  already exists!\n",
      "Loading  D:\\Sidevideos\\ar32motor\\2021_08_02\\115.avi\n",
      "Duration of video [s]:  2.6 , recorded with  40.0 fps!\n",
      "Overall # of frames:  104  found with (before cropping) frame dimensions:  800 550\n",
      "Starting to extract posture\n"
     ]
    },
    {
     "name": "stderr",
     "output_type": "stream",
     "text": [
      "110it [00:10, 10.37it/s]                                                                                               \n"
     ]
    },
    {
     "name": "stdout",
     "output_type": "stream",
     "text": [
      "Saving results in D:\\Sidevideos\\ar32motor\\2021_08_02...\n",
      "Saving csv poses!\n",
      "Starting to analyze %  D:\\Sidevideos\\ar32motor\\2021_08_02\\116.avi\n",
      "D:\\Sidevideos\\ar32motor\\2021_08_02  already exists!\n",
      "Loading  D:\\Sidevideos\\ar32motor\\2021_08_02\\116.avi\n",
      "Duration of video [s]:  2.85 , recorded with  40.0 fps!\n",
      "Overall # of frames:  114  found with (before cropping) frame dimensions:  800 550\n",
      "Starting to extract posture\n"
     ]
    },
    {
     "name": "stderr",
     "output_type": "stream",
     "text": [
      "120it [00:12,  9.79it/s]                                                                                               \n"
     ]
    },
    {
     "name": "stdout",
     "output_type": "stream",
     "text": [
      "Saving results in D:\\Sidevideos\\ar32motor\\2021_08_02...\n",
      "Saving csv poses!\n",
      "Starting to analyze %  D:\\Sidevideos\\ar32motor\\2021_08_02\\117.avi\n",
      "D:\\Sidevideos\\ar32motor\\2021_08_02  already exists!\n",
      "Loading  D:\\Sidevideos\\ar32motor\\2021_08_02\\117.avi\n",
      "Duration of video [s]:  3.38 , recorded with  40.0 fps!\n",
      "Overall # of frames:  135  found with (before cropping) frame dimensions:  800 550\n",
      "Starting to extract posture\n"
     ]
    },
    {
     "name": "stderr",
     "output_type": "stream",
     "text": [
      "140it [00:13, 10.04it/s]                                                                                               \n"
     ]
    },
    {
     "name": "stdout",
     "output_type": "stream",
     "text": [
      "Saving results in D:\\Sidevideos\\ar32motor\\2021_08_02...\n",
      "Saving csv poses!\n",
      "Starting to analyze %  D:\\Sidevideos\\ar32motor\\2021_08_02\\118.avi\n",
      "D:\\Sidevideos\\ar32motor\\2021_08_02  already exists!\n",
      "Loading  D:\\Sidevideos\\ar32motor\\2021_08_02\\118.avi\n",
      "Duration of video [s]:  3.48 , recorded with  40.0 fps!\n",
      "Overall # of frames:  139  found with (before cropping) frame dimensions:  800 550\n",
      "Starting to extract posture\n"
     ]
    },
    {
     "name": "stderr",
     "output_type": "stream",
     "text": [
      "140it [00:14,  9.52it/s]                                                                                               \n"
     ]
    },
    {
     "name": "stdout",
     "output_type": "stream",
     "text": [
      "Saving results in D:\\Sidevideos\\ar32motor\\2021_08_02...\n",
      "Saving csv poses!\n",
      "Starting to analyze %  D:\\Sidevideos\\ar32motor\\2021_08_02\\119.avi\n",
      "D:\\Sidevideos\\ar32motor\\2021_08_02  already exists!\n",
      "Loading  D:\\Sidevideos\\ar32motor\\2021_08_02\\119.avi\n",
      "Duration of video [s]:  3.35 , recorded with  40.0 fps!\n",
      "Overall # of frames:  134  found with (before cropping) frame dimensions:  800 550\n",
      "Starting to extract posture\n"
     ]
    },
    {
     "name": "stderr",
     "output_type": "stream",
     "text": [
      "140it [00:13, 10.09it/s]                                                                                               \n"
     ]
    },
    {
     "name": "stdout",
     "output_type": "stream",
     "text": [
      "Saving results in D:\\Sidevideos\\ar32motor\\2021_08_02...\n",
      "Saving csv poses!\n",
      "Starting to analyze %  D:\\Sidevideos\\ar32motor\\2021_08_02\\12.avi\n",
      "D:\\Sidevideos\\ar32motor\\2021_08_02  already exists!\n",
      "Loading  D:\\Sidevideos\\ar32motor\\2021_08_02\\12.avi\n",
      "Duration of video [s]:  10.0 , recorded with  40.0 fps!\n",
      "Overall # of frames:  400  found with (before cropping) frame dimensions:  800 550\n",
      "Starting to extract posture\n"
     ]
    },
    {
     "name": "stderr",
     "output_type": "stream",
     "text": [
      "410it [00:40, 10.02it/s]                                                                                               \n"
     ]
    },
    {
     "name": "stdout",
     "output_type": "stream",
     "text": [
      "Saving results in D:\\Sidevideos\\ar32motor\\2021_08_02...\n",
      "Saving csv poses!\n",
      "Starting to analyze %  D:\\Sidevideos\\ar32motor\\2021_08_02\\120.avi\n",
      "D:\\Sidevideos\\ar32motor\\2021_08_02  already exists!\n",
      "Loading  D:\\Sidevideos\\ar32motor\\2021_08_02\\120.avi\n",
      "Duration of video [s]:  4.88 , recorded with  40.0 fps!\n",
      "Overall # of frames:  195  found with (before cropping) frame dimensions:  800 550\n",
      "Starting to extract posture\n"
     ]
    },
    {
     "name": "stderr",
     "output_type": "stream",
     "text": [
      "200it [00:20,  9.79it/s]                                                                                               \n"
     ]
    },
    {
     "name": "stdout",
     "output_type": "stream",
     "text": [
      "Saving results in D:\\Sidevideos\\ar32motor\\2021_08_02...\n",
      "Saving csv poses!\n",
      "Starting to analyze %  D:\\Sidevideos\\ar32motor\\2021_08_02\\121.avi\n",
      "D:\\Sidevideos\\ar32motor\\2021_08_02  already exists!\n",
      "Loading  D:\\Sidevideos\\ar32motor\\2021_08_02\\121.avi\n",
      "Duration of video [s]:  3.33 , recorded with  40.0 fps!\n",
      "Overall # of frames:  133  found with (before cropping) frame dimensions:  800 550\n",
      "Starting to extract posture\n"
     ]
    },
    {
     "name": "stderr",
     "output_type": "stream",
     "text": [
      "140it [00:13, 10.12it/s]                                                                                               \n"
     ]
    },
    {
     "name": "stdout",
     "output_type": "stream",
     "text": [
      "Saving results in D:\\Sidevideos\\ar32motor\\2021_08_02...\n",
      "Saving csv poses!\n",
      "Starting to analyze %  D:\\Sidevideos\\ar32motor\\2021_08_02\\122.avi\n",
      "D:\\Sidevideos\\ar32motor\\2021_08_02  already exists!\n",
      "Loading  D:\\Sidevideos\\ar32motor\\2021_08_02\\122.avi\n",
      "Duration of video [s]:  3.77 , recorded with  40.0 fps!\n",
      "Overall # of frames:  151  found with (before cropping) frame dimensions:  800 550\n",
      "Starting to extract posture\n"
     ]
    },
    {
     "name": "stderr",
     "output_type": "stream",
     "text": [
      "160it [00:15, 10.32it/s]                                                                                               \n"
     ]
    },
    {
     "name": "stdout",
     "output_type": "stream",
     "text": [
      "Saving results in D:\\Sidevideos\\ar32motor\\2021_08_02...\n",
      "Saving csv poses!\n",
      "Starting to analyze %  D:\\Sidevideos\\ar32motor\\2021_08_02\\123.avi\n",
      "D:\\Sidevideos\\ar32motor\\2021_08_02  already exists!\n",
      "Loading  D:\\Sidevideos\\ar32motor\\2021_08_02\\123.avi\n",
      "Duration of video [s]:  3.2 , recorded with  40.0 fps!\n",
      "Overall # of frames:  128  found with (before cropping) frame dimensions:  800 550\n",
      "Starting to extract posture\n"
     ]
    },
    {
     "name": "stderr",
     "output_type": "stream",
     "text": [
      "130it [00:13,  9.99it/s]                                                                                               \n"
     ]
    },
    {
     "name": "stdout",
     "output_type": "stream",
     "text": [
      "Saving results in D:\\Sidevideos\\ar32motor\\2021_08_02...\n",
      "Saving csv poses!\n",
      "Starting to analyze %  D:\\Sidevideos\\ar32motor\\2021_08_02\\124.avi\n",
      "D:\\Sidevideos\\ar32motor\\2021_08_02  already exists!\n",
      "Loading  D:\\Sidevideos\\ar32motor\\2021_08_02\\124.avi\n",
      "Duration of video [s]:  2.6 , recorded with  40.0 fps!\n",
      "Overall # of frames:  104  found with (before cropping) frame dimensions:  800 550\n",
      "Starting to extract posture\n"
     ]
    },
    {
     "name": "stderr",
     "output_type": "stream",
     "text": [
      "110it [00:10, 10.38it/s]                                                                                               \n"
     ]
    },
    {
     "name": "stdout",
     "output_type": "stream",
     "text": [
      "Saving results in D:\\Sidevideos\\ar32motor\\2021_08_02...\n",
      "Saving csv poses!\n",
      "Starting to analyze %  D:\\Sidevideos\\ar32motor\\2021_08_02\\125.avi\n",
      "D:\\Sidevideos\\ar32motor\\2021_08_02  already exists!\n",
      "Loading  D:\\Sidevideos\\ar32motor\\2021_08_02\\125.avi\n",
      "Duration of video [s]:  3.2 , recorded with  40.0 fps!\n",
      "Overall # of frames:  128  found with (before cropping) frame dimensions:  800 550\n",
      "Starting to extract posture\n"
     ]
    },
    {
     "name": "stderr",
     "output_type": "stream",
     "text": [
      "130it [00:13,  9.96it/s]                                                                                               \n"
     ]
    },
    {
     "name": "stdout",
     "output_type": "stream",
     "text": [
      "Saving results in D:\\Sidevideos\\ar32motor\\2021_08_02...\n",
      "Saving csv poses!\n",
      "Starting to analyze %  D:\\Sidevideos\\ar32motor\\2021_08_02\\126.avi\n",
      "D:\\Sidevideos\\ar32motor\\2021_08_02  already exists!\n",
      "Loading  D:\\Sidevideos\\ar32motor\\2021_08_02\\126.avi\n",
      "Duration of video [s]:  3.4 , recorded with  40.0 fps!\n",
      "Overall # of frames:  136  found with (before cropping) frame dimensions:  800 550\n",
      "Starting to extract posture\n"
     ]
    },
    {
     "name": "stderr",
     "output_type": "stream",
     "text": [
      "140it [00:13, 10.11it/s]                                                                                               \n"
     ]
    },
    {
     "name": "stdout",
     "output_type": "stream",
     "text": [
      "Saving results in D:\\Sidevideos\\ar32motor\\2021_08_02...\n",
      "Saving csv poses!\n",
      "Starting to analyze %  D:\\Sidevideos\\ar32motor\\2021_08_02\\127.avi\n",
      "D:\\Sidevideos\\ar32motor\\2021_08_02  already exists!\n",
      "Loading  D:\\Sidevideos\\ar32motor\\2021_08_02\\127.avi\n",
      "Duration of video [s]:  2.83 , recorded with  40.0 fps!\n",
      "Overall # of frames:  113  found with (before cropping) frame dimensions:  800 550\n",
      "Starting to extract posture\n"
     ]
    },
    {
     "name": "stderr",
     "output_type": "stream",
     "text": [
      "120it [00:12,  9.85it/s]                                                                                               \n"
     ]
    },
    {
     "name": "stdout",
     "output_type": "stream",
     "text": [
      "Saving results in D:\\Sidevideos\\ar32motor\\2021_08_02...\n",
      "Saving csv poses!\n",
      "Starting to analyze %  D:\\Sidevideos\\ar32motor\\2021_08_02\\128.avi\n",
      "D:\\Sidevideos\\ar32motor\\2021_08_02  already exists!\n",
      "Loading  D:\\Sidevideos\\ar32motor\\2021_08_02\\128.avi\n",
      "Duration of video [s]:  2.85 , recorded with  40.0 fps!\n",
      "Overall # of frames:  114  found with (before cropping) frame dimensions:  800 550\n",
      "Starting to extract posture\n"
     ]
    },
    {
     "name": "stderr",
     "output_type": "stream",
     "text": [
      "120it [00:12,  9.81it/s]                                                                                               \n"
     ]
    },
    {
     "name": "stdout",
     "output_type": "stream",
     "text": [
      "Saving results in D:\\Sidevideos\\ar32motor\\2021_08_02...\n",
      "Saving csv poses!\n",
      "Starting to analyze %  D:\\Sidevideos\\ar32motor\\2021_08_02\\129.avi\n",
      "D:\\Sidevideos\\ar32motor\\2021_08_02  already exists!\n",
      "Loading  D:\\Sidevideos\\ar32motor\\2021_08_02\\129.avi\n",
      "Duration of video [s]:  2.83 , recorded with  40.0 fps!\n",
      "Overall # of frames:  113  found with (before cropping) frame dimensions:  800 550\n",
      "Starting to extract posture\n"
     ]
    },
    {
     "name": "stderr",
     "output_type": "stream",
     "text": [
      "120it [00:12,  9.83it/s]                                                                                               \n"
     ]
    },
    {
     "name": "stdout",
     "output_type": "stream",
     "text": [
      "Saving results in D:\\Sidevideos\\ar32motor\\2021_08_02...\n",
      "Saving csv poses!\n",
      "Starting to analyze %  D:\\Sidevideos\\ar32motor\\2021_08_02\\13.avi\n",
      "D:\\Sidevideos\\ar32motor\\2021_08_02  already exists!\n",
      "Loading  D:\\Sidevideos\\ar32motor\\2021_08_02\\13.avi\n",
      "Duration of video [s]:  10.0 , recorded with  40.0 fps!\n",
      "Overall # of frames:  400  found with (before cropping) frame dimensions:  800 550\n",
      "Starting to extract posture\n"
     ]
    },
    {
     "name": "stderr",
     "output_type": "stream",
     "text": [
      "410it [00:40, 10.05it/s]                                                                                               \n"
     ]
    },
    {
     "name": "stdout",
     "output_type": "stream",
     "text": [
      "Saving results in D:\\Sidevideos\\ar32motor\\2021_08_02...\n",
      "Saving csv poses!\n",
      "Starting to analyze %  D:\\Sidevideos\\ar32motor\\2021_08_02\\130.avi\n",
      "D:\\Sidevideos\\ar32motor\\2021_08_02  already exists!\n",
      "Loading  D:\\Sidevideos\\ar32motor\\2021_08_02\\130.avi\n",
      "Duration of video [s]:  4.1 , recorded with  40.0 fps!\n",
      "Overall # of frames:  164  found with (before cropping) frame dimensions:  800 550\n",
      "Starting to extract posture\n"
     ]
    },
    {
     "name": "stderr",
     "output_type": "stream",
     "text": [
      "170it [00:17,  9.95it/s]                                                                                               \n"
     ]
    },
    {
     "name": "stdout",
     "output_type": "stream",
     "text": [
      "Saving results in D:\\Sidevideos\\ar32motor\\2021_08_02...\n",
      "Saving csv poses!\n",
      "Starting to analyze %  D:\\Sidevideos\\ar32motor\\2021_08_02\\131.avi\n",
      "D:\\Sidevideos\\ar32motor\\2021_08_02  already exists!\n",
      "Loading  D:\\Sidevideos\\ar32motor\\2021_08_02\\131.avi\n",
      "Duration of video [s]:  7.67 , recorded with  40.0 fps!\n",
      "Overall # of frames:  307  found with (before cropping) frame dimensions:  800 550\n",
      "Starting to extract posture\n"
     ]
    },
    {
     "name": "stderr",
     "output_type": "stream",
     "text": [
      "310it [00:31,  9.74it/s]                                                                                               \n"
     ]
    },
    {
     "name": "stdout",
     "output_type": "stream",
     "text": [
      "Saving results in D:\\Sidevideos\\ar32motor\\2021_08_02...\n",
      "Saving csv poses!\n",
      "Starting to analyze %  D:\\Sidevideos\\ar32motor\\2021_08_02\\132.avi\n",
      "D:\\Sidevideos\\ar32motor\\2021_08_02  already exists!\n",
      "Loading  D:\\Sidevideos\\ar32motor\\2021_08_02\\132.avi\n",
      "Duration of video [s]:  10.0 , recorded with  40.0 fps!\n",
      "Overall # of frames:  400  found with (before cropping) frame dimensions:  800 550\n",
      "Starting to extract posture\n"
     ]
    },
    {
     "name": "stderr",
     "output_type": "stream",
     "text": [
      "410it [00:41,  9.96it/s]                                                                                               \n"
     ]
    },
    {
     "name": "stdout",
     "output_type": "stream",
     "text": [
      "Saving results in D:\\Sidevideos\\ar32motor\\2021_08_02...\n",
      "Saving csv poses!\n",
      "Starting to analyze %  D:\\Sidevideos\\ar32motor\\2021_08_02\\133.avi\n",
      "D:\\Sidevideos\\ar32motor\\2021_08_02  already exists!\n",
      "Loading  D:\\Sidevideos\\ar32motor\\2021_08_02\\133.avi\n",
      "Duration of video [s]:  10.0 , recorded with  40.0 fps!\n",
      "Overall # of frames:  400  found with (before cropping) frame dimensions:  800 550\n",
      "Starting to extract posture\n"
     ]
    },
    {
     "name": "stderr",
     "output_type": "stream",
     "text": [
      "410it [00:41,  9.93it/s]                                                                                               \n"
     ]
    },
    {
     "name": "stdout",
     "output_type": "stream",
     "text": [
      "Saving results in D:\\Sidevideos\\ar32motor\\2021_08_02...\n",
      "Saving csv poses!\n",
      "Starting to analyze %  D:\\Sidevideos\\ar32motor\\2021_08_02\\134.avi\n",
      "D:\\Sidevideos\\ar32motor\\2021_08_02  already exists!\n",
      "Loading  D:\\Sidevideos\\ar32motor\\2021_08_02\\134.avi\n",
      "Duration of video [s]:  10.0 , recorded with  40.0 fps!\n",
      "Overall # of frames:  400  found with (before cropping) frame dimensions:  800 550\n",
      "Starting to extract posture\n"
     ]
    },
    {
     "name": "stderr",
     "output_type": "stream",
     "text": [
      "410it [00:41,  9.90it/s]                                                                                               \n"
     ]
    },
    {
     "name": "stdout",
     "output_type": "stream",
     "text": [
      "Saving results in D:\\Sidevideos\\ar32motor\\2021_08_02...\n",
      "Saving csv poses!\n",
      "Starting to analyze %  D:\\Sidevideos\\ar32motor\\2021_08_02\\135.avi\n",
      "D:\\Sidevideos\\ar32motor\\2021_08_02  already exists!\n",
      "Loading  D:\\Sidevideos\\ar32motor\\2021_08_02\\135.avi\n",
      "Duration of video [s]:  10.0 , recorded with  40.0 fps!\n",
      "Overall # of frames:  400  found with (before cropping) frame dimensions:  800 550\n",
      "Starting to extract posture\n"
     ]
    },
    {
     "name": "stderr",
     "output_type": "stream",
     "text": [
      "410it [00:41,  9.89it/s]                                                                                               \n"
     ]
    },
    {
     "name": "stdout",
     "output_type": "stream",
     "text": [
      "Saving results in D:\\Sidevideos\\ar32motor\\2021_08_02...\n",
      "Saving csv poses!\n",
      "Starting to analyze %  D:\\Sidevideos\\ar32motor\\2021_08_02\\136.avi\n",
      "D:\\Sidevideos\\ar32motor\\2021_08_02  already exists!\n",
      "Loading  D:\\Sidevideos\\ar32motor\\2021_08_02\\136.avi\n",
      "Duration of video [s]:  10.0 , recorded with  40.0 fps!\n",
      "Overall # of frames:  400  found with (before cropping) frame dimensions:  800 550\n",
      "Starting to extract posture\n"
     ]
    },
    {
     "name": "stderr",
     "output_type": "stream",
     "text": [
      "410it [00:41,  9.93it/s]                                                                                               \n"
     ]
    },
    {
     "name": "stdout",
     "output_type": "stream",
     "text": [
      "Saving results in D:\\Sidevideos\\ar32motor\\2021_08_02...\n",
      "Saving csv poses!\n",
      "Starting to analyze %  D:\\Sidevideos\\ar32motor\\2021_08_02\\137.avi\n",
      "D:\\Sidevideos\\ar32motor\\2021_08_02  already exists!\n",
      "Loading  D:\\Sidevideos\\ar32motor\\2021_08_02\\137.avi\n",
      "Duration of video [s]:  10.0 , recorded with  40.0 fps!\n",
      "Overall # of frames:  400  found with (before cropping) frame dimensions:  800 550\n",
      "Starting to extract posture\n"
     ]
    },
    {
     "name": "stderr",
     "output_type": "stream",
     "text": [
      "410it [00:41,  9.89it/s]                                                                                               \n"
     ]
    },
    {
     "name": "stdout",
     "output_type": "stream",
     "text": [
      "Saving results in D:\\Sidevideos\\ar32motor\\2021_08_02...\n",
      "Saving csv poses!\n",
      "Starting to analyze %  D:\\Sidevideos\\ar32motor\\2021_08_02\\138.avi\n",
      "D:\\Sidevideos\\ar32motor\\2021_08_02  already exists!\n",
      "Loading  D:\\Sidevideos\\ar32motor\\2021_08_02\\138.avi\n",
      "Duration of video [s]:  10.0 , recorded with  40.0 fps!\n",
      "Overall # of frames:  400  found with (before cropping) frame dimensions:  800 550\n",
      "Starting to extract posture\n"
     ]
    },
    {
     "name": "stderr",
     "output_type": "stream",
     "text": [
      "410it [00:41,  9.91it/s]                                                                                               \n"
     ]
    },
    {
     "name": "stdout",
     "output_type": "stream",
     "text": [
      "Saving results in D:\\Sidevideos\\ar32motor\\2021_08_02...\n",
      "Saving csv poses!\n",
      "Starting to analyze %  D:\\Sidevideos\\ar32motor\\2021_08_02\\139.avi\n",
      "D:\\Sidevideos\\ar32motor\\2021_08_02  already exists!\n",
      "Loading  D:\\Sidevideos\\ar32motor\\2021_08_02\\139.avi\n",
      "Duration of video [s]:  10.0 , recorded with  40.0 fps!\n",
      "Overall # of frames:  400  found with (before cropping) frame dimensions:  800 550\n",
      "Starting to extract posture\n"
     ]
    },
    {
     "name": "stderr",
     "output_type": "stream",
     "text": [
      "410it [00:41,  9.98it/s]                                                                                               \n"
     ]
    },
    {
     "name": "stdout",
     "output_type": "stream",
     "text": [
      "Saving results in D:\\Sidevideos\\ar32motor\\2021_08_02...\n",
      "Saving csv poses!\n",
      "Starting to analyze %  D:\\Sidevideos\\ar32motor\\2021_08_02\\14.avi\n",
      "D:\\Sidevideos\\ar32motor\\2021_08_02  already exists!\n",
      "Loading  D:\\Sidevideos\\ar32motor\\2021_08_02\\14.avi\n",
      "Duration of video [s]:  10.0 , recorded with  40.0 fps!\n",
      "Overall # of frames:  400  found with (before cropping) frame dimensions:  800 550\n",
      "Starting to extract posture\n"
     ]
    },
    {
     "name": "stderr",
     "output_type": "stream",
     "text": [
      "410it [00:40, 10.03it/s]                                                                                               \n"
     ]
    },
    {
     "name": "stdout",
     "output_type": "stream",
     "text": [
      "Saving results in D:\\Sidevideos\\ar32motor\\2021_08_02...\n",
      "Saving csv poses!\n",
      "Starting to analyze %  D:\\Sidevideos\\ar32motor\\2021_08_02\\140.avi\n",
      "D:\\Sidevideos\\ar32motor\\2021_08_02  already exists!\n",
      "Loading  D:\\Sidevideos\\ar32motor\\2021_08_02\\140.avi\n",
      "Duration of video [s]:  10.0 , recorded with  40.0 fps!\n",
      "Overall # of frames:  400  found with (before cropping) frame dimensions:  800 550\n",
      "Starting to extract posture\n"
     ]
    },
    {
     "name": "stderr",
     "output_type": "stream",
     "text": [
      "410it [00:40, 10.01it/s]                                                                                               \n"
     ]
    },
    {
     "name": "stdout",
     "output_type": "stream",
     "text": [
      "Saving results in D:\\Sidevideos\\ar32motor\\2021_08_02...\n",
      "Saving csv poses!\n",
      "Starting to analyze %  D:\\Sidevideos\\ar32motor\\2021_08_02\\141.avi\n",
      "D:\\Sidevideos\\ar32motor\\2021_08_02  already exists!\n",
      "Loading  D:\\Sidevideos\\ar32motor\\2021_08_02\\141.avi\n",
      "Duration of video [s]:  10.0 , recorded with  40.0 fps!\n",
      "Overall # of frames:  400  found with (before cropping) frame dimensions:  800 550\n",
      "Starting to extract posture\n"
     ]
    },
    {
     "name": "stderr",
     "output_type": "stream",
     "text": [
      "410it [00:41, 10.00it/s]                                                                                               \n"
     ]
    },
    {
     "name": "stdout",
     "output_type": "stream",
     "text": [
      "Saving results in D:\\Sidevideos\\ar32motor\\2021_08_02...\n",
      "Saving csv poses!\n",
      "Starting to analyze %  D:\\Sidevideos\\ar32motor\\2021_08_02\\142.avi\n",
      "D:\\Sidevideos\\ar32motor\\2021_08_02  already exists!\n",
      "Loading  D:\\Sidevideos\\ar32motor\\2021_08_02\\142.avi\n",
      "Duration of video [s]:  10.0 , recorded with  40.0 fps!\n",
      "Overall # of frames:  400  found with (before cropping) frame dimensions:  800 550\n",
      "Starting to extract posture\n"
     ]
    },
    {
     "name": "stderr",
     "output_type": "stream",
     "text": [
      "410it [00:40, 10.02it/s]                                                                                               \n"
     ]
    },
    {
     "name": "stdout",
     "output_type": "stream",
     "text": [
      "Saving results in D:\\Sidevideos\\ar32motor\\2021_08_02...\n",
      "Saving csv poses!\n",
      "Starting to analyze %  D:\\Sidevideos\\ar32motor\\2021_08_02\\143.avi\n",
      "D:\\Sidevideos\\ar32motor\\2021_08_02  already exists!\n",
      "Loading  D:\\Sidevideos\\ar32motor\\2021_08_02\\143.avi\n",
      "Duration of video [s]:  10.0 , recorded with  40.0 fps!\n",
      "Overall # of frames:  400  found with (before cropping) frame dimensions:  800 550\n",
      "Starting to extract posture\n"
     ]
    },
    {
     "name": "stderr",
     "output_type": "stream",
     "text": [
      "410it [00:41,  9.99it/s]                                                                                               \n"
     ]
    },
    {
     "name": "stdout",
     "output_type": "stream",
     "text": [
      "Saving results in D:\\Sidevideos\\ar32motor\\2021_08_02...\n",
      "Saving csv poses!\n",
      "Starting to analyze %  D:\\Sidevideos\\ar32motor\\2021_08_02\\144.avi\n",
      "D:\\Sidevideos\\ar32motor\\2021_08_02  already exists!\n",
      "Loading  D:\\Sidevideos\\ar32motor\\2021_08_02\\144.avi\n",
      "Duration of video [s]:  10.0 , recorded with  40.0 fps!\n",
      "Overall # of frames:  400  found with (before cropping) frame dimensions:  800 550\n",
      "Starting to extract posture\n"
     ]
    },
    {
     "name": "stderr",
     "output_type": "stream",
     "text": [
      "410it [00:40, 10.04it/s]                                                                                               \n"
     ]
    },
    {
     "name": "stdout",
     "output_type": "stream",
     "text": [
      "Saving results in D:\\Sidevideos\\ar32motor\\2021_08_02...\n",
      "Saving csv poses!\n",
      "Starting to analyze %  D:\\Sidevideos\\ar32motor\\2021_08_02\\145.avi\n",
      "D:\\Sidevideos\\ar32motor\\2021_08_02  already exists!\n",
      "Loading  D:\\Sidevideos\\ar32motor\\2021_08_02\\145.avi\n",
      "Duration of video [s]:  10.0 , recorded with  40.0 fps!\n",
      "Overall # of frames:  400  found with (before cropping) frame dimensions:  800 550\n",
      "Starting to extract posture\n"
     ]
    },
    {
     "name": "stderr",
     "output_type": "stream",
     "text": [
      "410it [00:40, 10.02it/s]                                                                                               \n"
     ]
    },
    {
     "name": "stdout",
     "output_type": "stream",
     "text": [
      "Saving results in D:\\Sidevideos\\ar32motor\\2021_08_02...\n",
      "Saving csv poses!\n",
      "Starting to analyze %  D:\\Sidevideos\\ar32motor\\2021_08_02\\146.avi\n",
      "D:\\Sidevideos\\ar32motor\\2021_08_02  already exists!\n",
      "Loading  D:\\Sidevideos\\ar32motor\\2021_08_02\\146.avi\n",
      "Duration of video [s]:  10.0 , recorded with  40.0 fps!\n",
      "Overall # of frames:  400  found with (before cropping) frame dimensions:  800 550\n",
      "Starting to extract posture\n"
     ]
    },
    {
     "name": "stderr",
     "output_type": "stream",
     "text": [
      "410it [00:40, 10.03it/s]                                                                                               \n"
     ]
    },
    {
     "name": "stdout",
     "output_type": "stream",
     "text": [
      "Saving results in D:\\Sidevideos\\ar32motor\\2021_08_02...\n",
      "Saving csv poses!\n",
      "Starting to analyze %  D:\\Sidevideos\\ar32motor\\2021_08_02\\147.avi\n",
      "D:\\Sidevideos\\ar32motor\\2021_08_02  already exists!\n",
      "Loading  D:\\Sidevideos\\ar32motor\\2021_08_02\\147.avi\n",
      "Duration of video [s]:  10.0 , recorded with  40.0 fps!\n",
      "Overall # of frames:  400  found with (before cropping) frame dimensions:  800 550\n",
      "Starting to extract posture\n"
     ]
    },
    {
     "name": "stderr",
     "output_type": "stream",
     "text": [
      "410it [00:40, 10.04it/s]                                                                                               \n"
     ]
    },
    {
     "name": "stdout",
     "output_type": "stream",
     "text": [
      "Saving results in D:\\Sidevideos\\ar32motor\\2021_08_02...\n",
      "Saving csv poses!\n",
      "Starting to analyze %  D:\\Sidevideos\\ar32motor\\2021_08_02\\148.avi\n",
      "D:\\Sidevideos\\ar32motor\\2021_08_02  already exists!\n",
      "Loading  D:\\Sidevideos\\ar32motor\\2021_08_02\\148.avi\n",
      "Duration of video [s]:  10.0 , recorded with  40.0 fps!\n",
      "Overall # of frames:  400  found with (before cropping) frame dimensions:  800 550\n",
      "Starting to extract posture\n"
     ]
    },
    {
     "name": "stderr",
     "output_type": "stream",
     "text": [
      "410it [00:40, 10.02it/s]                                                                                               \n"
     ]
    },
    {
     "name": "stdout",
     "output_type": "stream",
     "text": [
      "Saving results in D:\\Sidevideos\\ar32motor\\2021_08_02...\n",
      "Saving csv poses!\n",
      "Starting to analyze %  D:\\Sidevideos\\ar32motor\\2021_08_02\\149.avi\n",
      "D:\\Sidevideos\\ar32motor\\2021_08_02  already exists!\n",
      "Loading  D:\\Sidevideos\\ar32motor\\2021_08_02\\149.avi\n",
      "Duration of video [s]:  10.0 , recorded with  40.0 fps!\n",
      "Overall # of frames:  400  found with (before cropping) frame dimensions:  800 550\n",
      "Starting to extract posture\n"
     ]
    },
    {
     "name": "stderr",
     "output_type": "stream",
     "text": [
      "410it [00:40, 10.01it/s]                                                                                               \n"
     ]
    },
    {
     "name": "stdout",
     "output_type": "stream",
     "text": [
      "Saving results in D:\\Sidevideos\\ar32motor\\2021_08_02...\n",
      "Saving csv poses!\n",
      "Starting to analyze %  D:\\Sidevideos\\ar32motor\\2021_08_02\\15.avi\n",
      "D:\\Sidevideos\\ar32motor\\2021_08_02  already exists!\n",
      "Loading  D:\\Sidevideos\\ar32motor\\2021_08_02\\15.avi\n",
      "Duration of video [s]:  10.0 , recorded with  40.0 fps!\n",
      "Overall # of frames:  400  found with (before cropping) frame dimensions:  800 550\n",
      "Starting to extract posture\n"
     ]
    },
    {
     "name": "stderr",
     "output_type": "stream",
     "text": [
      "410it [00:40, 10.03it/s]                                                                                               \n"
     ]
    },
    {
     "name": "stdout",
     "output_type": "stream",
     "text": [
      "Saving results in D:\\Sidevideos\\ar32motor\\2021_08_02...\n",
      "Saving csv poses!\n",
      "Starting to analyze %  D:\\Sidevideos\\ar32motor\\2021_08_02\\150.avi\n",
      "D:\\Sidevideos\\ar32motor\\2021_08_02  already exists!\n",
      "Loading  D:\\Sidevideos\\ar32motor\\2021_08_02\\150.avi\n",
      "Duration of video [s]:  10.0 , recorded with  40.0 fps!\n",
      "Overall # of frames:  400  found with (before cropping) frame dimensions:  800 550\n",
      "Starting to extract posture\n"
     ]
    },
    {
     "name": "stderr",
     "output_type": "stream",
     "text": [
      "410it [00:40, 10.05it/s]                                                                                               \n"
     ]
    },
    {
     "name": "stdout",
     "output_type": "stream",
     "text": [
      "Saving results in D:\\Sidevideos\\ar32motor\\2021_08_02...\n",
      "Saving csv poses!\n",
      "Starting to analyze %  D:\\Sidevideos\\ar32motor\\2021_08_02\\151.avi\n",
      "D:\\Sidevideos\\ar32motor\\2021_08_02  already exists!\n",
      "Loading  D:\\Sidevideos\\ar32motor\\2021_08_02\\151.avi\n",
      "Duration of video [s]:  10.0 , recorded with  40.0 fps!\n",
      "Overall # of frames:  400  found with (before cropping) frame dimensions:  800 550\n",
      "Starting to extract posture\n"
     ]
    },
    {
     "name": "stderr",
     "output_type": "stream",
     "text": [
      "410it [00:41,  9.99it/s]                                                                                               \n"
     ]
    },
    {
     "name": "stdout",
     "output_type": "stream",
     "text": [
      "Saving results in D:\\Sidevideos\\ar32motor\\2021_08_02...\n",
      "Saving csv poses!\n",
      "Starting to analyze %  D:\\Sidevideos\\ar32motor\\2021_08_02\\152.avi\n",
      "D:\\Sidevideos\\ar32motor\\2021_08_02  already exists!\n",
      "Loading  D:\\Sidevideos\\ar32motor\\2021_08_02\\152.avi\n",
      "Duration of video [s]:  10.0 , recorded with  40.0 fps!\n",
      "Overall # of frames:  400  found with (before cropping) frame dimensions:  800 550\n",
      "Starting to extract posture\n"
     ]
    },
    {
     "name": "stderr",
     "output_type": "stream",
     "text": [
      "410it [00:41,  9.90it/s]                                                                                               \n"
     ]
    },
    {
     "name": "stdout",
     "output_type": "stream",
     "text": [
      "Saving results in D:\\Sidevideos\\ar32motor\\2021_08_02...\n",
      "Saving csv poses!\n",
      "Starting to analyze %  D:\\Sidevideos\\ar32motor\\2021_08_02\\153.avi\n",
      "D:\\Sidevideos\\ar32motor\\2021_08_02  already exists!\n",
      "Loading  D:\\Sidevideos\\ar32motor\\2021_08_02\\153.avi\n",
      "Duration of video [s]:  10.0 , recorded with  40.0 fps!\n",
      "Overall # of frames:  400  found with (before cropping) frame dimensions:  800 550\n",
      "Starting to extract posture\n"
     ]
    },
    {
     "name": "stderr",
     "output_type": "stream",
     "text": [
      "410it [00:41,  9.91it/s]                                                                                               \n"
     ]
    },
    {
     "name": "stdout",
     "output_type": "stream",
     "text": [
      "Saving results in D:\\Sidevideos\\ar32motor\\2021_08_02...\n",
      "Saving csv poses!\n",
      "Starting to analyze %  D:\\Sidevideos\\ar32motor\\2021_08_02\\154.avi\n",
      "D:\\Sidevideos\\ar32motor\\2021_08_02  already exists!\n",
      "Loading  D:\\Sidevideos\\ar32motor\\2021_08_02\\154.avi\n",
      "Duration of video [s]:  10.0 , recorded with  40.0 fps!\n",
      "Overall # of frames:  400  found with (before cropping) frame dimensions:  800 550\n",
      "Starting to extract posture\n"
     ]
    },
    {
     "name": "stderr",
     "output_type": "stream",
     "text": [
      "410it [00:41,  9.90it/s]                                                                                               \n"
     ]
    },
    {
     "name": "stdout",
     "output_type": "stream",
     "text": [
      "Saving results in D:\\Sidevideos\\ar32motor\\2021_08_02...\n",
      "Saving csv poses!\n",
      "Starting to analyze %  D:\\Sidevideos\\ar32motor\\2021_08_02\\155.avi\n",
      "D:\\Sidevideos\\ar32motor\\2021_08_02  already exists!\n",
      "Loading  D:\\Sidevideos\\ar32motor\\2021_08_02\\155.avi\n",
      "Duration of video [s]:  10.0 , recorded with  40.0 fps!\n",
      "Overall # of frames:  400  found with (before cropping) frame dimensions:  800 550\n",
      "Starting to extract posture\n"
     ]
    },
    {
     "name": "stderr",
     "output_type": "stream",
     "text": [
      "410it [00:41,  9.88it/s]                                                                                               \n"
     ]
    },
    {
     "name": "stdout",
     "output_type": "stream",
     "text": [
      "Saving results in D:\\Sidevideos\\ar32motor\\2021_08_02...\n",
      "Saving csv poses!\n",
      "Starting to analyze %  D:\\Sidevideos\\ar32motor\\2021_08_02\\156.avi\n",
      "D:\\Sidevideos\\ar32motor\\2021_08_02  already exists!\n",
      "Loading  D:\\Sidevideos\\ar32motor\\2021_08_02\\156.avi\n",
      "Duration of video [s]:  10.0 , recorded with  40.0 fps!\n",
      "Overall # of frames:  400  found with (before cropping) frame dimensions:  800 550\n",
      "Starting to extract posture\n"
     ]
    },
    {
     "name": "stderr",
     "output_type": "stream",
     "text": [
      "410it [00:41,  9.91it/s]                                                                                               \n"
     ]
    },
    {
     "name": "stdout",
     "output_type": "stream",
     "text": [
      "Saving results in D:\\Sidevideos\\ar32motor\\2021_08_02...\n",
      "Saving csv poses!\n",
      "Starting to analyze %  D:\\Sidevideos\\ar32motor\\2021_08_02\\157.avi\n",
      "D:\\Sidevideos\\ar32motor\\2021_08_02  already exists!\n",
      "Loading  D:\\Sidevideos\\ar32motor\\2021_08_02\\157.avi\n",
      "Duration of video [s]:  10.0 , recorded with  40.0 fps!\n",
      "Overall # of frames:  400  found with (before cropping) frame dimensions:  800 550\n",
      "Starting to extract posture\n"
     ]
    },
    {
     "name": "stderr",
     "output_type": "stream",
     "text": [
      "410it [00:41,  9.90it/s]                                                                                               \n"
     ]
    },
    {
     "name": "stdout",
     "output_type": "stream",
     "text": [
      "Saving results in D:\\Sidevideos\\ar32motor\\2021_08_02...\n",
      "Saving csv poses!\n",
      "Starting to analyze %  D:\\Sidevideos\\ar32motor\\2021_08_02\\158.avi\n",
      "D:\\Sidevideos\\ar32motor\\2021_08_02  already exists!\n",
      "Loading  D:\\Sidevideos\\ar32motor\\2021_08_02\\158.avi\n",
      "Duration of video [s]:  10.0 , recorded with  40.0 fps!\n",
      "Overall # of frames:  400  found with (before cropping) frame dimensions:  800 550\n",
      "Starting to extract posture\n"
     ]
    },
    {
     "name": "stderr",
     "output_type": "stream",
     "text": [
      "410it [00:41,  9.90it/s]                                                                                               \n"
     ]
    },
    {
     "name": "stdout",
     "output_type": "stream",
     "text": [
      "Saving results in D:\\Sidevideos\\ar32motor\\2021_08_02...\n",
      "Saving csv poses!\n",
      "Starting to analyze %  D:\\Sidevideos\\ar32motor\\2021_08_02\\159.avi\n",
      "D:\\Sidevideos\\ar32motor\\2021_08_02  already exists!\n",
      "Loading  D:\\Sidevideos\\ar32motor\\2021_08_02\\159.avi\n",
      "Duration of video [s]:  10.0 , recorded with  40.0 fps!\n",
      "Overall # of frames:  400  found with (before cropping) frame dimensions:  800 550\n",
      "Starting to extract posture\n"
     ]
    },
    {
     "name": "stderr",
     "output_type": "stream",
     "text": [
      "410it [00:41,  9.97it/s]                                                                                               \n"
     ]
    },
    {
     "name": "stdout",
     "output_type": "stream",
     "text": [
      "Saving results in D:\\Sidevideos\\ar32motor\\2021_08_02...\n",
      "Saving csv poses!\n",
      "Starting to analyze %  D:\\Sidevideos\\ar32motor\\2021_08_02\\16.avi\n",
      "D:\\Sidevideos\\ar32motor\\2021_08_02  already exists!\n",
      "Loading  D:\\Sidevideos\\ar32motor\\2021_08_02\\16.avi\n",
      "Duration of video [s]:  10.0 , recorded with  40.0 fps!\n",
      "Overall # of frames:  400  found with (before cropping) frame dimensions:  800 550\n",
      "Starting to extract posture\n"
     ]
    },
    {
     "name": "stderr",
     "output_type": "stream",
     "text": [
      "410it [00:40, 10.01it/s]                                                                                               \n"
     ]
    },
    {
     "name": "stdout",
     "output_type": "stream",
     "text": [
      "Saving results in D:\\Sidevideos\\ar32motor\\2021_08_02...\n",
      "Saving csv poses!\n",
      "Starting to analyze %  D:\\Sidevideos\\ar32motor\\2021_08_02\\160.avi\n",
      "D:\\Sidevideos\\ar32motor\\2021_08_02  already exists!\n",
      "Loading  D:\\Sidevideos\\ar32motor\\2021_08_02\\160.avi\n",
      "Duration of video [s]:  10.0 , recorded with  40.0 fps!\n",
      "Overall # of frames:  400  found with (before cropping) frame dimensions:  800 550\n",
      "Starting to extract posture\n"
     ]
    },
    {
     "name": "stderr",
     "output_type": "stream",
     "text": [
      "410it [00:40, 10.03it/s]                                                                                               \n"
     ]
    },
    {
     "name": "stdout",
     "output_type": "stream",
     "text": [
      "Saving results in D:\\Sidevideos\\ar32motor\\2021_08_02...\n",
      "Saving csv poses!\n",
      "Starting to analyze %  D:\\Sidevideos\\ar32motor\\2021_08_02\\161.avi\n",
      "D:\\Sidevideos\\ar32motor\\2021_08_02  already exists!\n",
      "Loading  D:\\Sidevideos\\ar32motor\\2021_08_02\\161.avi\n",
      "Duration of video [s]:  10.0 , recorded with  40.0 fps!\n",
      "Overall # of frames:  400  found with (before cropping) frame dimensions:  800 550\n",
      "Starting to extract posture\n"
     ]
    },
    {
     "name": "stderr",
     "output_type": "stream",
     "text": [
      "410it [00:40, 10.03it/s]                                                                                               \n"
     ]
    },
    {
     "name": "stdout",
     "output_type": "stream",
     "text": [
      "Saving results in D:\\Sidevideos\\ar32motor\\2021_08_02...\n",
      "Saving csv poses!\n",
      "Starting to analyze %  D:\\Sidevideos\\ar32motor\\2021_08_02\\162.avi\n",
      "D:\\Sidevideos\\ar32motor\\2021_08_02  already exists!\n",
      "Loading  D:\\Sidevideos\\ar32motor\\2021_08_02\\162.avi\n",
      "Duration of video [s]:  10.0 , recorded with  40.0 fps!\n",
      "Overall # of frames:  400  found with (before cropping) frame dimensions:  800 550\n",
      "Starting to extract posture\n"
     ]
    },
    {
     "name": "stderr",
     "output_type": "stream",
     "text": [
      "410it [00:40, 10.02it/s]                                                                                               \n"
     ]
    },
    {
     "name": "stdout",
     "output_type": "stream",
     "text": [
      "Saving results in D:\\Sidevideos\\ar32motor\\2021_08_02...\n",
      "Saving csv poses!\n",
      "Starting to analyze %  D:\\Sidevideos\\ar32motor\\2021_08_02\\163.avi\n",
      "D:\\Sidevideos\\ar32motor\\2021_08_02  already exists!\n",
      "Loading  D:\\Sidevideos\\ar32motor\\2021_08_02\\163.avi\n",
      "Duration of video [s]:  10.0 , recorded with  40.0 fps!\n",
      "Overall # of frames:  400  found with (before cropping) frame dimensions:  800 550\n",
      "Starting to extract posture\n"
     ]
    },
    {
     "name": "stderr",
     "output_type": "stream",
     "text": [
      "410it [00:40, 10.02it/s]                                                                                               \n"
     ]
    },
    {
     "name": "stdout",
     "output_type": "stream",
     "text": [
      "Saving results in D:\\Sidevideos\\ar32motor\\2021_08_02...\n",
      "Saving csv poses!\n",
      "Starting to analyze %  D:\\Sidevideos\\ar32motor\\2021_08_02\\164.avi\n",
      "D:\\Sidevideos\\ar32motor\\2021_08_02  already exists!\n",
      "Loading  D:\\Sidevideos\\ar32motor\\2021_08_02\\164.avi\n",
      "Duration of video [s]:  10.0 , recorded with  40.0 fps!\n",
      "Overall # of frames:  400  found with (before cropping) frame dimensions:  800 550\n",
      "Starting to extract posture\n"
     ]
    },
    {
     "name": "stderr",
     "output_type": "stream",
     "text": [
      "410it [00:40, 10.01it/s]                                                                                               \n"
     ]
    },
    {
     "name": "stdout",
     "output_type": "stream",
     "text": [
      "Saving results in D:\\Sidevideos\\ar32motor\\2021_08_02...\n",
      "Saving csv poses!\n",
      "Starting to analyze %  D:\\Sidevideos\\ar32motor\\2021_08_02\\165.avi\n",
      "D:\\Sidevideos\\ar32motor\\2021_08_02  already exists!\n",
      "Loading  D:\\Sidevideos\\ar32motor\\2021_08_02\\165.avi\n",
      "Duration of video [s]:  10.0 , recorded with  40.0 fps!\n",
      "Overall # of frames:  400  found with (before cropping) frame dimensions:  800 550\n",
      "Starting to extract posture\n"
     ]
    },
    {
     "name": "stderr",
     "output_type": "stream",
     "text": [
      "410it [00:40, 10.02it/s]                                                                                               \n"
     ]
    },
    {
     "name": "stdout",
     "output_type": "stream",
     "text": [
      "Saving results in D:\\Sidevideos\\ar32motor\\2021_08_02...\n",
      "Saving csv poses!\n",
      "Starting to analyze %  D:\\Sidevideos\\ar32motor\\2021_08_02\\166.avi\n",
      "D:\\Sidevideos\\ar32motor\\2021_08_02  already exists!\n",
      "Loading  D:\\Sidevideos\\ar32motor\\2021_08_02\\166.avi\n",
      "Duration of video [s]:  10.0 , recorded with  40.0 fps!\n",
      "Overall # of frames:  400  found with (before cropping) frame dimensions:  800 550\n",
      "Starting to extract posture\n"
     ]
    },
    {
     "name": "stderr",
     "output_type": "stream",
     "text": [
      "410it [00:40, 10.03it/s]                                                                                               \n"
     ]
    },
    {
     "name": "stdout",
     "output_type": "stream",
     "text": [
      "Saving results in D:\\Sidevideos\\ar32motor\\2021_08_02...\n",
      "Saving csv poses!\n",
      "Starting to analyze %  D:\\Sidevideos\\ar32motor\\2021_08_02\\167.avi\n",
      "D:\\Sidevideos\\ar32motor\\2021_08_02  already exists!\n",
      "Loading  D:\\Sidevideos\\ar32motor\\2021_08_02\\167.avi\n",
      "Duration of video [s]:  10.0 , recorded with  40.0 fps!\n",
      "Overall # of frames:  400  found with (before cropping) frame dimensions:  800 550\n",
      "Starting to extract posture\n"
     ]
    },
    {
     "name": "stderr",
     "output_type": "stream",
     "text": [
      "410it [00:40, 10.07it/s]                                                                                               \n"
     ]
    },
    {
     "name": "stdout",
     "output_type": "stream",
     "text": [
      "Saving results in D:\\Sidevideos\\ar32motor\\2021_08_02...\n",
      "Saving csv poses!\n",
      "Starting to analyze %  D:\\Sidevideos\\ar32motor\\2021_08_02\\168.avi\n",
      "D:\\Sidevideos\\ar32motor\\2021_08_02  already exists!\n",
      "Loading  D:\\Sidevideos\\ar32motor\\2021_08_02\\168.avi\n",
      "Duration of video [s]:  10.0 , recorded with  40.0 fps!\n",
      "Overall # of frames:  400  found with (before cropping) frame dimensions:  800 550\n",
      "Starting to extract posture\n"
     ]
    },
    {
     "name": "stderr",
     "output_type": "stream",
     "text": [
      "410it [00:40, 10.09it/s]                                                                                               \n"
     ]
    },
    {
     "name": "stdout",
     "output_type": "stream",
     "text": [
      "Saving results in D:\\Sidevideos\\ar32motor\\2021_08_02...\n",
      "Saving csv poses!\n",
      "Starting to analyze %  D:\\Sidevideos\\ar32motor\\2021_08_02\\169.avi\n",
      "D:\\Sidevideos\\ar32motor\\2021_08_02  already exists!\n",
      "Loading  D:\\Sidevideos\\ar32motor\\2021_08_02\\169.avi\n",
      "Duration of video [s]:  10.0 , recorded with  40.0 fps!\n",
      "Overall # of frames:  400  found with (before cropping) frame dimensions:  800 550\n",
      "Starting to extract posture\n"
     ]
    },
    {
     "name": "stderr",
     "output_type": "stream",
     "text": [
      "410it [00:40, 10.06it/s]                                                                                               \n"
     ]
    },
    {
     "name": "stdout",
     "output_type": "stream",
     "text": [
      "Saving results in D:\\Sidevideos\\ar32motor\\2021_08_02...\n",
      "Saving csv poses!\n",
      "Starting to analyze %  D:\\Sidevideos\\ar32motor\\2021_08_02\\17.avi\n",
      "D:\\Sidevideos\\ar32motor\\2021_08_02  already exists!\n",
      "Loading  D:\\Sidevideos\\ar32motor\\2021_08_02\\17.avi\n",
      "Duration of video [s]:  10.0 , recorded with  40.0 fps!\n",
      "Overall # of frames:  400  found with (before cropping) frame dimensions:  800 550\n",
      "Starting to extract posture\n"
     ]
    },
    {
     "name": "stderr",
     "output_type": "stream",
     "text": [
      "410it [00:40, 10.05it/s]                                                                                               \n"
     ]
    },
    {
     "name": "stdout",
     "output_type": "stream",
     "text": [
      "Saving results in D:\\Sidevideos\\ar32motor\\2021_08_02...\n",
      "Saving csv poses!\n",
      "Starting to analyze %  D:\\Sidevideos\\ar32motor\\2021_08_02\\170.avi\n",
      "D:\\Sidevideos\\ar32motor\\2021_08_02  already exists!\n",
      "Loading  D:\\Sidevideos\\ar32motor\\2021_08_02\\170.avi\n",
      "Duration of video [s]:  10.0 , recorded with  40.0 fps!\n",
      "Overall # of frames:  400  found with (before cropping) frame dimensions:  800 550\n",
      "Starting to extract posture\n"
     ]
    },
    {
     "name": "stderr",
     "output_type": "stream",
     "text": [
      "410it [00:40, 10.06it/s]                                                                                               \n"
     ]
    },
    {
     "name": "stdout",
     "output_type": "stream",
     "text": [
      "Saving results in D:\\Sidevideos\\ar32motor\\2021_08_02...\n",
      "Saving csv poses!\n",
      "Starting to analyze %  D:\\Sidevideos\\ar32motor\\2021_08_02\\171.avi\n",
      "D:\\Sidevideos\\ar32motor\\2021_08_02  already exists!\n",
      "Loading  D:\\Sidevideos\\ar32motor\\2021_08_02\\171.avi\n",
      "Duration of video [s]:  10.0 , recorded with  40.0 fps!\n",
      "Overall # of frames:  400  found with (before cropping) frame dimensions:  800 550\n",
      "Starting to extract posture\n"
     ]
    },
    {
     "name": "stderr",
     "output_type": "stream",
     "text": [
      "410it [00:40, 10.02it/s]                                                                                               \n"
     ]
    },
    {
     "name": "stdout",
     "output_type": "stream",
     "text": [
      "Saving results in D:\\Sidevideos\\ar32motor\\2021_08_02...\n",
      "Saving csv poses!\n",
      "Starting to analyze %  D:\\Sidevideos\\ar32motor\\2021_08_02\\172.avi\n",
      "D:\\Sidevideos\\ar32motor\\2021_08_02  already exists!\n",
      "Loading  D:\\Sidevideos\\ar32motor\\2021_08_02\\172.avi\n",
      "Duration of video [s]:  10.0 , recorded with  40.0 fps!\n",
      "Overall # of frames:  400  found with (before cropping) frame dimensions:  800 550\n",
      "Starting to extract posture\n"
     ]
    },
    {
     "name": "stderr",
     "output_type": "stream",
     "text": [
      "410it [00:40, 10.02it/s]                                                                                               \n"
     ]
    },
    {
     "name": "stdout",
     "output_type": "stream",
     "text": [
      "Saving results in D:\\Sidevideos\\ar32motor\\2021_08_02...\n",
      "Saving csv poses!\n",
      "Starting to analyze %  D:\\Sidevideos\\ar32motor\\2021_08_02\\173.avi\n",
      "D:\\Sidevideos\\ar32motor\\2021_08_02  already exists!\n",
      "Loading  D:\\Sidevideos\\ar32motor\\2021_08_02\\173.avi\n",
      "Duration of video [s]:  10.0 , recorded with  40.0 fps!\n",
      "Overall # of frames:  400  found with (before cropping) frame dimensions:  800 550\n",
      "Starting to extract posture\n"
     ]
    },
    {
     "name": "stderr",
     "output_type": "stream",
     "text": [
      "410it [00:40, 10.04it/s]                                                                                               \n"
     ]
    },
    {
     "name": "stdout",
     "output_type": "stream",
     "text": [
      "Saving results in D:\\Sidevideos\\ar32motor\\2021_08_02...\n",
      "Saving csv poses!\n",
      "Starting to analyze %  D:\\Sidevideos\\ar32motor\\2021_08_02\\174.avi\n",
      "D:\\Sidevideos\\ar32motor\\2021_08_02  already exists!\n",
      "Loading  D:\\Sidevideos\\ar32motor\\2021_08_02\\174.avi\n",
      "Duration of video [s]:  10.0 , recorded with  40.0 fps!\n",
      "Overall # of frames:  400  found with (before cropping) frame dimensions:  800 550\n",
      "Starting to extract posture\n"
     ]
    },
    {
     "name": "stderr",
     "output_type": "stream",
     "text": [
      "410it [00:40, 10.04it/s]                                                                                               \n"
     ]
    },
    {
     "name": "stdout",
     "output_type": "stream",
     "text": [
      "Saving results in D:\\Sidevideos\\ar32motor\\2021_08_02...\n",
      "Saving csv poses!\n",
      "Starting to analyze %  D:\\Sidevideos\\ar32motor\\2021_08_02\\175.avi\n",
      "D:\\Sidevideos\\ar32motor\\2021_08_02  already exists!\n",
      "Loading  D:\\Sidevideos\\ar32motor\\2021_08_02\\175.avi\n",
      "Duration of video [s]:  10.0 , recorded with  40.0 fps!\n",
      "Overall # of frames:  400  found with (before cropping) frame dimensions:  800 550\n",
      "Starting to extract posture\n"
     ]
    },
    {
     "name": "stderr",
     "output_type": "stream",
     "text": [
      "410it [00:40, 10.04it/s]                                                                                               \n"
     ]
    },
    {
     "name": "stdout",
     "output_type": "stream",
     "text": [
      "Saving results in D:\\Sidevideos\\ar32motor\\2021_08_02...\n",
      "Saving csv poses!\n",
      "Starting to analyze %  D:\\Sidevideos\\ar32motor\\2021_08_02\\176.avi\n",
      "D:\\Sidevideos\\ar32motor\\2021_08_02  already exists!\n",
      "Loading  D:\\Sidevideos\\ar32motor\\2021_08_02\\176.avi\n",
      "Duration of video [s]:  10.0 , recorded with  40.0 fps!\n",
      "Overall # of frames:  400  found with (before cropping) frame dimensions:  800 550\n",
      "Starting to extract posture\n"
     ]
    },
    {
     "name": "stderr",
     "output_type": "stream",
     "text": [
      "410it [00:40, 10.05it/s]                                                                                               \n"
     ]
    },
    {
     "name": "stdout",
     "output_type": "stream",
     "text": [
      "Saving results in D:\\Sidevideos\\ar32motor\\2021_08_02...\n",
      "Saving csv poses!\n",
      "Starting to analyze %  D:\\Sidevideos\\ar32motor\\2021_08_02\\177.avi\n",
      "D:\\Sidevideos\\ar32motor\\2021_08_02  already exists!\n",
      "Loading  D:\\Sidevideos\\ar32motor\\2021_08_02\\177.avi\n",
      "Duration of video [s]:  10.0 , recorded with  40.0 fps!\n",
      "Overall # of frames:  400  found with (before cropping) frame dimensions:  800 550\n",
      "Starting to extract posture\n"
     ]
    },
    {
     "name": "stderr",
     "output_type": "stream",
     "text": [
      "410it [00:40, 10.06it/s]                                                                                               \n"
     ]
    },
    {
     "name": "stdout",
     "output_type": "stream",
     "text": [
      "Saving results in D:\\Sidevideos\\ar32motor\\2021_08_02...\n",
      "Saving csv poses!\n",
      "Starting to analyze %  D:\\Sidevideos\\ar32motor\\2021_08_02\\178.avi\n",
      "D:\\Sidevideos\\ar32motor\\2021_08_02  already exists!\n",
      "Loading  D:\\Sidevideos\\ar32motor\\2021_08_02\\178.avi\n",
      "Duration of video [s]:  10.0 , recorded with  40.0 fps!\n",
      "Overall # of frames:  400  found with (before cropping) frame dimensions:  800 550\n",
      "Starting to extract posture\n"
     ]
    },
    {
     "name": "stderr",
     "output_type": "stream",
     "text": [
      "410it [00:40, 10.07it/s]                                                                                               \n"
     ]
    },
    {
     "name": "stdout",
     "output_type": "stream",
     "text": [
      "Saving results in D:\\Sidevideos\\ar32motor\\2021_08_02...\n",
      "Saving csv poses!\n",
      "Starting to analyze %  D:\\Sidevideos\\ar32motor\\2021_08_02\\179.avi\n",
      "D:\\Sidevideos\\ar32motor\\2021_08_02  already exists!\n",
      "Loading  D:\\Sidevideos\\ar32motor\\2021_08_02\\179.avi\n",
      "Duration of video [s]:  10.0 , recorded with  40.0 fps!\n",
      "Overall # of frames:  400  found with (before cropping) frame dimensions:  800 550\n",
      "Starting to extract posture\n"
     ]
    },
    {
     "name": "stderr",
     "output_type": "stream",
     "text": [
      "410it [00:40, 10.04it/s]                                                                                               \n"
     ]
    },
    {
     "name": "stdout",
     "output_type": "stream",
     "text": [
      "Saving results in D:\\Sidevideos\\ar32motor\\2021_08_02...\n",
      "Saving csv poses!\n",
      "Starting to analyze %  D:\\Sidevideos\\ar32motor\\2021_08_02\\18.avi\n",
      "D:\\Sidevideos\\ar32motor\\2021_08_02  already exists!\n",
      "Loading  D:\\Sidevideos\\ar32motor\\2021_08_02\\18.avi\n",
      "Duration of video [s]:  10.0 , recorded with  40.0 fps!\n",
      "Overall # of frames:  400  found with (before cropping) frame dimensions:  800 550\n",
      "Starting to extract posture\n"
     ]
    },
    {
     "name": "stderr",
     "output_type": "stream",
     "text": [
      "410it [00:41,  9.93it/s]                                                                                               \n"
     ]
    },
    {
     "name": "stdout",
     "output_type": "stream",
     "text": [
      "Saving results in D:\\Sidevideos\\ar32motor\\2021_08_02...\n",
      "Saving csv poses!\n",
      "Starting to analyze %  D:\\Sidevideos\\ar32motor\\2021_08_02\\180.avi\n",
      "D:\\Sidevideos\\ar32motor\\2021_08_02  already exists!\n",
      "Loading  D:\\Sidevideos\\ar32motor\\2021_08_02\\180.avi\n",
      "Duration of video [s]:  10.0 , recorded with  40.0 fps!\n",
      "Overall # of frames:  400  found with (before cropping) frame dimensions:  800 550\n",
      "Starting to extract posture\n"
     ]
    },
    {
     "name": "stderr",
     "output_type": "stream",
     "text": [
      "410it [00:41,  9.90it/s]                                                                                               \n"
     ]
    },
    {
     "name": "stdout",
     "output_type": "stream",
     "text": [
      "Saving results in D:\\Sidevideos\\ar32motor\\2021_08_02...\n",
      "Saving csv poses!\n",
      "Starting to analyze %  D:\\Sidevideos\\ar32motor\\2021_08_02\\181.avi\n",
      "D:\\Sidevideos\\ar32motor\\2021_08_02  already exists!\n",
      "Loading  D:\\Sidevideos\\ar32motor\\2021_08_02\\181.avi\n",
      "Duration of video [s]:  10.0 , recorded with  40.0 fps!\n",
      "Overall # of frames:  400  found with (before cropping) frame dimensions:  800 550\n",
      "Starting to extract posture\n"
     ]
    },
    {
     "name": "stderr",
     "output_type": "stream",
     "text": [
      "410it [00:41,  9.89it/s]                                                                                               \n"
     ]
    },
    {
     "name": "stdout",
     "output_type": "stream",
     "text": [
      "Saving results in D:\\Sidevideos\\ar32motor\\2021_08_02...\n",
      "Saving csv poses!\n",
      "Starting to analyze %  D:\\Sidevideos\\ar32motor\\2021_08_02\\182.avi\n",
      "D:\\Sidevideos\\ar32motor\\2021_08_02  already exists!\n",
      "Loading  D:\\Sidevideos\\ar32motor\\2021_08_02\\182.avi\n",
      "Duration of video [s]:  10.0 , recorded with  40.0 fps!\n",
      "Overall # of frames:  400  found with (before cropping) frame dimensions:  800 550\n",
      "Starting to extract posture\n"
     ]
    },
    {
     "name": "stderr",
     "output_type": "stream",
     "text": [
      "410it [00:41,  9.91it/s]                                                                                               \n"
     ]
    },
    {
     "name": "stdout",
     "output_type": "stream",
     "text": [
      "Saving results in D:\\Sidevideos\\ar32motor\\2021_08_02...\n",
      "Saving csv poses!\n",
      "Starting to analyze %  D:\\Sidevideos\\ar32motor\\2021_08_02\\183.avi\n",
      "D:\\Sidevideos\\ar32motor\\2021_08_02  already exists!\n",
      "Loading  D:\\Sidevideos\\ar32motor\\2021_08_02\\183.avi\n",
      "Duration of video [s]:  10.0 , recorded with  40.0 fps!\n",
      "Overall # of frames:  400  found with (before cropping) frame dimensions:  800 550\n",
      "Starting to extract posture\n"
     ]
    },
    {
     "name": "stderr",
     "output_type": "stream",
     "text": [
      "410it [00:41,  9.89it/s]                                                                                               \n"
     ]
    },
    {
     "name": "stdout",
     "output_type": "stream",
     "text": [
      "Saving results in D:\\Sidevideos\\ar32motor\\2021_08_02...\n",
      "Saving csv poses!\n",
      "Starting to analyze %  D:\\Sidevideos\\ar32motor\\2021_08_02\\184.avi\n",
      "D:\\Sidevideos\\ar32motor\\2021_08_02  already exists!\n",
      "Loading  D:\\Sidevideos\\ar32motor\\2021_08_02\\184.avi\n",
      "Duration of video [s]:  10.0 , recorded with  40.0 fps!\n",
      "Overall # of frames:  400  found with (before cropping) frame dimensions:  800 550\n",
      "Starting to extract posture\n"
     ]
    },
    {
     "name": "stderr",
     "output_type": "stream",
     "text": [
      "410it [00:41,  9.94it/s]                                                                                               \n"
     ]
    },
    {
     "name": "stdout",
     "output_type": "stream",
     "text": [
      "Saving results in D:\\Sidevideos\\ar32motor\\2021_08_02...\n",
      "Saving csv poses!\n",
      "Starting to analyze %  D:\\Sidevideos\\ar32motor\\2021_08_02\\185.avi\n",
      "D:\\Sidevideos\\ar32motor\\2021_08_02  already exists!\n",
      "Loading  D:\\Sidevideos\\ar32motor\\2021_08_02\\185.avi\n",
      "Duration of video [s]:  10.0 , recorded with  40.0 fps!\n",
      "Overall # of frames:  400  found with (before cropping) frame dimensions:  800 550\n",
      "Starting to extract posture\n"
     ]
    },
    {
     "name": "stderr",
     "output_type": "stream",
     "text": [
      "410it [00:41,  9.89it/s]                                                                                               \n"
     ]
    },
    {
     "name": "stdout",
     "output_type": "stream",
     "text": [
      "Saving results in D:\\Sidevideos\\ar32motor\\2021_08_02...\n",
      "Saving csv poses!\n",
      "Starting to analyze %  D:\\Sidevideos\\ar32motor\\2021_08_02\\186.avi\n",
      "D:\\Sidevideos\\ar32motor\\2021_08_02  already exists!\n",
      "Loading  D:\\Sidevideos\\ar32motor\\2021_08_02\\186.avi\n",
      "Duration of video [s]:  10.0 , recorded with  40.0 fps!\n",
      "Overall # of frames:  400  found with (before cropping) frame dimensions:  800 550\n",
      "Starting to extract posture\n"
     ]
    },
    {
     "name": "stderr",
     "output_type": "stream",
     "text": [
      "410it [00:41,  9.89it/s]                                                                                               \n"
     ]
    },
    {
     "name": "stdout",
     "output_type": "stream",
     "text": [
      "Saving results in D:\\Sidevideos\\ar32motor\\2021_08_02...\n",
      "Saving csv poses!\n",
      "Starting to analyze %  D:\\Sidevideos\\ar32motor\\2021_08_02\\187.avi\n",
      "D:\\Sidevideos\\ar32motor\\2021_08_02  already exists!\n",
      "Loading  D:\\Sidevideos\\ar32motor\\2021_08_02\\187.avi\n",
      "Duration of video [s]:  10.0 , recorded with  40.0 fps!\n",
      "Overall # of frames:  400  found with (before cropping) frame dimensions:  800 550\n",
      "Starting to extract posture\n"
     ]
    },
    {
     "name": "stderr",
     "output_type": "stream",
     "text": [
      "410it [00:41,  9.90it/s]                                                                                               \n"
     ]
    },
    {
     "name": "stdout",
     "output_type": "stream",
     "text": [
      "Saving results in D:\\Sidevideos\\ar32motor\\2021_08_02...\n",
      "Saving csv poses!\n",
      "Starting to analyze %  D:\\Sidevideos\\ar32motor\\2021_08_02\\188.avi\n",
      "D:\\Sidevideos\\ar32motor\\2021_08_02  already exists!\n",
      "Loading  D:\\Sidevideos\\ar32motor\\2021_08_02\\188.avi\n",
      "Duration of video [s]:  10.0 , recorded with  40.0 fps!\n",
      "Overall # of frames:  400  found with (before cropping) frame dimensions:  800 550\n",
      "Starting to extract posture\n"
     ]
    },
    {
     "name": "stderr",
     "output_type": "stream",
     "text": [
      "410it [00:41,  9.88it/s]                                                                                               \n"
     ]
    },
    {
     "name": "stdout",
     "output_type": "stream",
     "text": [
      "Saving results in D:\\Sidevideos\\ar32motor\\2021_08_02...\n",
      "Saving csv poses!\n",
      "Starting to analyze %  D:\\Sidevideos\\ar32motor\\2021_08_02\\189.avi\n",
      "D:\\Sidevideos\\ar32motor\\2021_08_02  already exists!\n",
      "Loading  D:\\Sidevideos\\ar32motor\\2021_08_02\\189.avi\n",
      "Duration of video [s]:  10.0 , recorded with  40.0 fps!\n",
      "Overall # of frames:  400  found with (before cropping) frame dimensions:  800 550\n",
      "Starting to extract posture\n"
     ]
    },
    {
     "name": "stderr",
     "output_type": "stream",
     "text": [
      "410it [00:41,  9.88it/s]                                                                                               \n"
     ]
    },
    {
     "name": "stdout",
     "output_type": "stream",
     "text": [
      "Saving results in D:\\Sidevideos\\ar32motor\\2021_08_02...\n",
      "Saving csv poses!\n",
      "Starting to analyze %  D:\\Sidevideos\\ar32motor\\2021_08_02\\19.avi\n",
      "D:\\Sidevideos\\ar32motor\\2021_08_02  already exists!\n",
      "Loading  D:\\Sidevideos\\ar32motor\\2021_08_02\\19.avi\n",
      "Duration of video [s]:  10.0 , recorded with  40.0 fps!\n",
      "Overall # of frames:  400  found with (before cropping) frame dimensions:  800 550\n",
      "Starting to extract posture\n"
     ]
    },
    {
     "name": "stderr",
     "output_type": "stream",
     "text": [
      "410it [00:41,  9.90it/s]                                                                                               \n"
     ]
    },
    {
     "name": "stdout",
     "output_type": "stream",
     "text": [
      "Saving results in D:\\Sidevideos\\ar32motor\\2021_08_02...\n",
      "Saving csv poses!\n",
      "Starting to analyze %  D:\\Sidevideos\\ar32motor\\2021_08_02\\190.avi\n",
      "D:\\Sidevideos\\ar32motor\\2021_08_02  already exists!\n",
      "Loading  D:\\Sidevideos\\ar32motor\\2021_08_02\\190.avi\n",
      "Duration of video [s]:  10.0 , recorded with  40.0 fps!\n",
      "Overall # of frames:  400  found with (before cropping) frame dimensions:  800 550\n",
      "Starting to extract posture\n"
     ]
    },
    {
     "name": "stderr",
     "output_type": "stream",
     "text": [
      "410it [00:40, 10.02it/s]                                                                                               \n"
     ]
    },
    {
     "name": "stdout",
     "output_type": "stream",
     "text": [
      "Saving results in D:\\Sidevideos\\ar32motor\\2021_08_02...\n",
      "Saving csv poses!\n",
      "Starting to analyze %  D:\\Sidevideos\\ar32motor\\2021_08_02\\191.avi\n",
      "D:\\Sidevideos\\ar32motor\\2021_08_02  already exists!\n",
      "Loading  D:\\Sidevideos\\ar32motor\\2021_08_02\\191.avi\n",
      "Duration of video [s]:  10.0 , recorded with  40.0 fps!\n",
      "Overall # of frames:  400  found with (before cropping) frame dimensions:  800 550\n",
      "Starting to extract posture\n"
     ]
    },
    {
     "name": "stderr",
     "output_type": "stream",
     "text": [
      "410it [00:41,  9.98it/s]                                                                                               \n"
     ]
    },
    {
     "name": "stdout",
     "output_type": "stream",
     "text": [
      "Saving results in D:\\Sidevideos\\ar32motor\\2021_08_02...\n",
      "Saving csv poses!\n",
      "Starting to analyze %  D:\\Sidevideos\\ar32motor\\2021_08_02\\192.avi\n",
      "D:\\Sidevideos\\ar32motor\\2021_08_02  already exists!\n",
      "Loading  D:\\Sidevideos\\ar32motor\\2021_08_02\\192.avi\n",
      "Duration of video [s]:  10.0 , recorded with  40.0 fps!\n",
      "Overall # of frames:  400  found with (before cropping) frame dimensions:  800 550\n",
      "Starting to extract posture\n"
     ]
    },
    {
     "name": "stderr",
     "output_type": "stream",
     "text": [
      "410it [00:41,  9.96it/s]                                                                                               \n"
     ]
    },
    {
     "name": "stdout",
     "output_type": "stream",
     "text": [
      "Saving results in D:\\Sidevideos\\ar32motor\\2021_08_02...\n",
      "Saving csv poses!\n",
      "Starting to analyze %  D:\\Sidevideos\\ar32motor\\2021_08_02\\193.avi\n",
      "D:\\Sidevideos\\ar32motor\\2021_08_02  already exists!\n",
      "Loading  D:\\Sidevideos\\ar32motor\\2021_08_02\\193.avi\n",
      "Duration of video [s]:  10.0 , recorded with  40.0 fps!\n",
      "Overall # of frames:  400  found with (before cropping) frame dimensions:  800 550\n",
      "Starting to extract posture\n"
     ]
    },
    {
     "name": "stderr",
     "output_type": "stream",
     "text": [
      "410it [00:41,  9.94it/s]                                                                                               \n"
     ]
    },
    {
     "name": "stdout",
     "output_type": "stream",
     "text": [
      "Saving results in D:\\Sidevideos\\ar32motor\\2021_08_02...\n",
      "Saving csv poses!\n",
      "Starting to analyze %  D:\\Sidevideos\\ar32motor\\2021_08_02\\194.avi\n",
      "D:\\Sidevideos\\ar32motor\\2021_08_02  already exists!\n",
      "Loading  D:\\Sidevideos\\ar32motor\\2021_08_02\\194.avi\n",
      "Duration of video [s]:  10.0 , recorded with  40.0 fps!\n",
      "Overall # of frames:  400  found with (before cropping) frame dimensions:  800 550\n",
      "Starting to extract posture\n"
     ]
    },
    {
     "name": "stderr",
     "output_type": "stream",
     "text": [
      "410it [00:41,  9.95it/s]                                                                                               \n"
     ]
    },
    {
     "name": "stdout",
     "output_type": "stream",
     "text": [
      "Saving results in D:\\Sidevideos\\ar32motor\\2021_08_02...\n",
      "Saving csv poses!\n",
      "Starting to analyze %  D:\\Sidevideos\\ar32motor\\2021_08_02\\195.avi\n",
      "D:\\Sidevideos\\ar32motor\\2021_08_02  already exists!\n",
      "Loading  D:\\Sidevideos\\ar32motor\\2021_08_02\\195.avi\n",
      "Duration of video [s]:  10.0 , recorded with  40.0 fps!\n",
      "Overall # of frames:  400  found with (before cropping) frame dimensions:  800 550\n",
      "Starting to extract posture\n"
     ]
    },
    {
     "name": "stderr",
     "output_type": "stream",
     "text": [
      "410it [00:41,  9.98it/s]                                                                                               \n"
     ]
    },
    {
     "name": "stdout",
     "output_type": "stream",
     "text": [
      "Saving results in D:\\Sidevideos\\ar32motor\\2021_08_02...\n",
      "Saving csv poses!\n",
      "Starting to analyze %  D:\\Sidevideos\\ar32motor\\2021_08_02\\196.avi\n",
      "D:\\Sidevideos\\ar32motor\\2021_08_02  already exists!\n",
      "Loading  D:\\Sidevideos\\ar32motor\\2021_08_02\\196.avi\n",
      "Duration of video [s]:  10.0 , recorded with  40.0 fps!\n",
      "Overall # of frames:  400  found with (before cropping) frame dimensions:  800 550\n",
      "Starting to extract posture\n"
     ]
    },
    {
     "name": "stderr",
     "output_type": "stream",
     "text": [
      "410it [00:41,  9.94it/s]                                                                                               \n"
     ]
    },
    {
     "name": "stdout",
     "output_type": "stream",
     "text": [
      "Saving results in D:\\Sidevideos\\ar32motor\\2021_08_02...\n",
      "Saving csv poses!\n",
      "Starting to analyze %  D:\\Sidevideos\\ar32motor\\2021_08_02\\197.avi\n",
      "D:\\Sidevideos\\ar32motor\\2021_08_02  already exists!\n",
      "Loading  D:\\Sidevideos\\ar32motor\\2021_08_02\\197.avi\n",
      "Duration of video [s]:  10.0 , recorded with  40.0 fps!\n",
      "Overall # of frames:  400  found with (before cropping) frame dimensions:  800 550\n",
      "Starting to extract posture\n"
     ]
    },
    {
     "name": "stderr",
     "output_type": "stream",
     "text": [
      "410it [00:41,  9.94it/s]                                                                                               \n"
     ]
    },
    {
     "name": "stdout",
     "output_type": "stream",
     "text": [
      "Saving results in D:\\Sidevideos\\ar32motor\\2021_08_02...\n",
      "Saving csv poses!\n",
      "Starting to analyze %  D:\\Sidevideos\\ar32motor\\2021_08_02\\198.avi\n",
      "D:\\Sidevideos\\ar32motor\\2021_08_02  already exists!\n",
      "Loading  D:\\Sidevideos\\ar32motor\\2021_08_02\\198.avi\n",
      "Duration of video [s]:  10.0 , recorded with  40.0 fps!\n",
      "Overall # of frames:  400  found with (before cropping) frame dimensions:  800 550\n",
      "Starting to extract posture\n"
     ]
    },
    {
     "name": "stderr",
     "output_type": "stream",
     "text": [
      "410it [00:41,  9.97it/s]                                                                                               \n"
     ]
    },
    {
     "name": "stdout",
     "output_type": "stream",
     "text": [
      "Saving results in D:\\Sidevideos\\ar32motor\\2021_08_02...\n",
      "Saving csv poses!\n",
      "Starting to analyze %  D:\\Sidevideos\\ar32motor\\2021_08_02\\199.avi\n",
      "D:\\Sidevideos\\ar32motor\\2021_08_02  already exists!\n",
      "Loading  D:\\Sidevideos\\ar32motor\\2021_08_02\\199.avi\n",
      "Duration of video [s]:  10.0 , recorded with  40.0 fps!\n",
      "Overall # of frames:  400  found with (before cropping) frame dimensions:  800 550\n",
      "Starting to extract posture\n"
     ]
    },
    {
     "name": "stderr",
     "output_type": "stream",
     "text": [
      "410it [00:40, 10.07it/s]                                                                                               \n"
     ]
    },
    {
     "name": "stdout",
     "output_type": "stream",
     "text": [
      "Saving results in D:\\Sidevideos\\ar32motor\\2021_08_02...\n",
      "Saving csv poses!\n",
      "Starting to analyze %  D:\\Sidevideos\\ar32motor\\2021_08_02\\2.avi\n",
      "D:\\Sidevideos\\ar32motor\\2021_08_02  already exists!\n",
      "Loading  D:\\Sidevideos\\ar32motor\\2021_08_02\\2.avi\n",
      "Duration of video [s]:  10.0 , recorded with  40.0 fps!\n",
      "Overall # of frames:  400  found with (before cropping) frame dimensions:  800 550\n",
      "Starting to extract posture\n"
     ]
    },
    {
     "name": "stderr",
     "output_type": "stream",
     "text": [
      "410it [00:40, 10.09it/s]                                                                                               \n"
     ]
    },
    {
     "name": "stdout",
     "output_type": "stream",
     "text": [
      "Saving results in D:\\Sidevideos\\ar32motor\\2021_08_02...\n",
      "Saving csv poses!\n",
      "Starting to analyze %  D:\\Sidevideos\\ar32motor\\2021_08_02\\20.avi\n",
      "D:\\Sidevideos\\ar32motor\\2021_08_02  already exists!\n",
      "Loading  D:\\Sidevideos\\ar32motor\\2021_08_02\\20.avi\n",
      "Duration of video [s]:  10.0 , recorded with  40.0 fps!\n",
      "Overall # of frames:  400  found with (before cropping) frame dimensions:  800 550\n",
      "Starting to extract posture\n"
     ]
    },
    {
     "name": "stderr",
     "output_type": "stream",
     "text": [
      "410it [00:40, 10.11it/s]                                                                                               \n"
     ]
    },
    {
     "name": "stdout",
     "output_type": "stream",
     "text": [
      "Saving results in D:\\Sidevideos\\ar32motor\\2021_08_02...\n",
      "Saving csv poses!\n",
      "Starting to analyze %  D:\\Sidevideos\\ar32motor\\2021_08_02\\200.avi\n",
      "D:\\Sidevideos\\ar32motor\\2021_08_02  already exists!\n",
      "Loading  D:\\Sidevideos\\ar32motor\\2021_08_02\\200.avi\n",
      "Duration of video [s]:  10.0 , recorded with  40.0 fps!\n",
      "Overall # of frames:  400  found with (before cropping) frame dimensions:  800 550\n",
      "Starting to extract posture\n"
     ]
    },
    {
     "name": "stderr",
     "output_type": "stream",
     "text": [
      "410it [00:40, 10.07it/s]                                                                                               \n"
     ]
    },
    {
     "name": "stdout",
     "output_type": "stream",
     "text": [
      "Saving results in D:\\Sidevideos\\ar32motor\\2021_08_02...\n",
      "Saving csv poses!\n",
      "Starting to analyze %  D:\\Sidevideos\\ar32motor\\2021_08_02\\201.avi\n",
      "D:\\Sidevideos\\ar32motor\\2021_08_02  already exists!\n",
      "Loading  D:\\Sidevideos\\ar32motor\\2021_08_02\\201.avi\n",
      "Duration of video [s]:  10.0 , recorded with  40.0 fps!\n",
      "Overall # of frames:  400  found with (before cropping) frame dimensions:  800 550\n",
      "Starting to extract posture\n"
     ]
    },
    {
     "name": "stderr",
     "output_type": "stream",
     "text": [
      "410it [00:40, 10.11it/s]                                                                                               \n"
     ]
    },
    {
     "name": "stdout",
     "output_type": "stream",
     "text": [
      "Saving results in D:\\Sidevideos\\ar32motor\\2021_08_02...\n",
      "Saving csv poses!\n",
      "Starting to analyze %  D:\\Sidevideos\\ar32motor\\2021_08_02\\202.avi\n",
      "D:\\Sidevideos\\ar32motor\\2021_08_02  already exists!\n",
      "Loading  D:\\Sidevideos\\ar32motor\\2021_08_02\\202.avi\n",
      "Duration of video [s]:  10.0 , recorded with  40.0 fps!\n",
      "Overall # of frames:  400  found with (before cropping) frame dimensions:  800 550\n",
      "Starting to extract posture\n"
     ]
    },
    {
     "name": "stderr",
     "output_type": "stream",
     "text": [
      "410it [00:40, 10.10it/s]                                                                                               \n"
     ]
    },
    {
     "name": "stdout",
     "output_type": "stream",
     "text": [
      "Saving results in D:\\Sidevideos\\ar32motor\\2021_08_02...\n",
      "Saving csv poses!\n",
      "Starting to analyze %  D:\\Sidevideos\\ar32motor\\2021_08_02\\203.avi\n",
      "D:\\Sidevideos\\ar32motor\\2021_08_02  already exists!\n",
      "Loading  D:\\Sidevideos\\ar32motor\\2021_08_02\\203.avi\n",
      "Duration of video [s]:  10.0 , recorded with  40.0 fps!\n",
      "Overall # of frames:  400  found with (before cropping) frame dimensions:  800 550\n",
      "Starting to extract posture\n"
     ]
    },
    {
     "name": "stderr",
     "output_type": "stream",
     "text": [
      "410it [00:40, 10.10it/s]                                                                                               \n"
     ]
    },
    {
     "name": "stdout",
     "output_type": "stream",
     "text": [
      "Saving results in D:\\Sidevideos\\ar32motor\\2021_08_02...\n",
      "Saving csv poses!\n",
      "Starting to analyze %  D:\\Sidevideos\\ar32motor\\2021_08_02\\204.avi\n",
      "D:\\Sidevideos\\ar32motor\\2021_08_02  already exists!\n",
      "Loading  D:\\Sidevideos\\ar32motor\\2021_08_02\\204.avi\n",
      "Duration of video [s]:  10.0 , recorded with  40.0 fps!\n",
      "Overall # of frames:  400  found with (before cropping) frame dimensions:  800 550\n",
      "Starting to extract posture\n"
     ]
    },
    {
     "name": "stderr",
     "output_type": "stream",
     "text": [
      "410it [00:40, 10.08it/s]                                                                                               \n"
     ]
    },
    {
     "name": "stdout",
     "output_type": "stream",
     "text": [
      "Saving results in D:\\Sidevideos\\ar32motor\\2021_08_02...\n",
      "Saving csv poses!\n",
      "Starting to analyze %  D:\\Sidevideos\\ar32motor\\2021_08_02\\205.avi\n",
      "D:\\Sidevideos\\ar32motor\\2021_08_02  already exists!\n",
      "Loading  D:\\Sidevideos\\ar32motor\\2021_08_02\\205.avi\n",
      "Duration of video [s]:  10.0 , recorded with  40.0 fps!\n",
      "Overall # of frames:  400  found with (before cropping) frame dimensions:  800 550\n",
      "Starting to extract posture\n"
     ]
    },
    {
     "name": "stderr",
     "output_type": "stream",
     "text": [
      "410it [00:40, 10.11it/s]                                                                                               \n"
     ]
    },
    {
     "name": "stdout",
     "output_type": "stream",
     "text": [
      "Saving results in D:\\Sidevideos\\ar32motor\\2021_08_02...\n",
      "Saving csv poses!\n",
      "Starting to analyze %  D:\\Sidevideos\\ar32motor\\2021_08_02\\206.avi\n",
      "D:\\Sidevideos\\ar32motor\\2021_08_02  already exists!\n",
      "Loading  D:\\Sidevideos\\ar32motor\\2021_08_02\\206.avi\n",
      "Duration of video [s]:  10.0 , recorded with  40.0 fps!\n",
      "Overall # of frames:  400  found with (before cropping) frame dimensions:  800 550\n",
      "Starting to extract posture\n"
     ]
    },
    {
     "name": "stderr",
     "output_type": "stream",
     "text": [
      "410it [00:40, 10.06it/s]                                                                                               \n"
     ]
    },
    {
     "name": "stdout",
     "output_type": "stream",
     "text": [
      "Saving results in D:\\Sidevideos\\ar32motor\\2021_08_02...\n",
      "Saving csv poses!\n",
      "Starting to analyze %  D:\\Sidevideos\\ar32motor\\2021_08_02\\207.avi\n",
      "D:\\Sidevideos\\ar32motor\\2021_08_02  already exists!\n",
      "Loading  D:\\Sidevideos\\ar32motor\\2021_08_02\\207.avi\n",
      "Duration of video [s]:  10.0 , recorded with  40.0 fps!\n",
      "Overall # of frames:  400  found with (before cropping) frame dimensions:  800 550\n",
      "Starting to extract posture\n"
     ]
    },
    {
     "name": "stderr",
     "output_type": "stream",
     "text": [
      "410it [00:40, 10.10it/s]                                                                                               \n"
     ]
    },
    {
     "name": "stdout",
     "output_type": "stream",
     "text": [
      "Saving results in D:\\Sidevideos\\ar32motor\\2021_08_02...\n",
      "Saving csv poses!\n",
      "Starting to analyze %  D:\\Sidevideos\\ar32motor\\2021_08_02\\208.avi\n",
      "D:\\Sidevideos\\ar32motor\\2021_08_02  already exists!\n",
      "Loading  D:\\Sidevideos\\ar32motor\\2021_08_02\\208.avi\n",
      "Duration of video [s]:  10.0 , recorded with  40.0 fps!\n",
      "Overall # of frames:  400  found with (before cropping) frame dimensions:  800 550\n",
      "Starting to extract posture\n"
     ]
    },
    {
     "name": "stderr",
     "output_type": "stream",
     "text": [
      "410it [00:40, 10.13it/s]                                                                                               \n"
     ]
    },
    {
     "name": "stdout",
     "output_type": "stream",
     "text": [
      "Saving results in D:\\Sidevideos\\ar32motor\\2021_08_02...\n",
      "Saving csv poses!\n",
      "Starting to analyze %  D:\\Sidevideos\\ar32motor\\2021_08_02\\209.avi\n",
      "D:\\Sidevideos\\ar32motor\\2021_08_02  already exists!\n",
      "Loading  D:\\Sidevideos\\ar32motor\\2021_08_02\\209.avi\n",
      "Duration of video [s]:  10.0 , recorded with  40.0 fps!\n",
      "Overall # of frames:  400  found with (before cropping) frame dimensions:  800 550\n",
      "Starting to extract posture\n"
     ]
    },
    {
     "name": "stderr",
     "output_type": "stream",
     "text": [
      "410it [00:40, 10.10it/s]                                                                                               \n"
     ]
    },
    {
     "name": "stdout",
     "output_type": "stream",
     "text": [
      "Saving results in D:\\Sidevideos\\ar32motor\\2021_08_02...\n",
      "Saving csv poses!\n",
      "Starting to analyze %  D:\\Sidevideos\\ar32motor\\2021_08_02\\21.avi\n",
      "D:\\Sidevideos\\ar32motor\\2021_08_02  already exists!\n",
      "Loading  D:\\Sidevideos\\ar32motor\\2021_08_02\\21.avi\n",
      "Duration of video [s]:  10.0 , recorded with  40.0 fps!\n",
      "Overall # of frames:  400  found with (before cropping) frame dimensions:  800 550\n",
      "Starting to extract posture\n"
     ]
    },
    {
     "name": "stderr",
     "output_type": "stream",
     "text": [
      "410it [00:40, 10.11it/s]                                                                                               \n"
     ]
    },
    {
     "name": "stdout",
     "output_type": "stream",
     "text": [
      "Saving results in D:\\Sidevideos\\ar32motor\\2021_08_02...\n",
      "Saving csv poses!\n",
      "Starting to analyze %  D:\\Sidevideos\\ar32motor\\2021_08_02\\210.avi\n",
      "D:\\Sidevideos\\ar32motor\\2021_08_02  already exists!\n",
      "Loading  D:\\Sidevideos\\ar32motor\\2021_08_02\\210.avi\n",
      "Duration of video [s]:  10.0 , recorded with  40.0 fps!\n",
      "Overall # of frames:  400  found with (before cropping) frame dimensions:  800 550\n",
      "Starting to extract posture\n"
     ]
    },
    {
     "name": "stderr",
     "output_type": "stream",
     "text": [
      "410it [00:40, 10.08it/s]                                                                                               \n"
     ]
    },
    {
     "name": "stdout",
     "output_type": "stream",
     "text": [
      "Saving results in D:\\Sidevideos\\ar32motor\\2021_08_02...\n",
      "Saving csv poses!\n",
      "Starting to analyze %  D:\\Sidevideos\\ar32motor\\2021_08_02\\211.avi\n",
      "D:\\Sidevideos\\ar32motor\\2021_08_02  already exists!\n",
      "Loading  D:\\Sidevideos\\ar32motor\\2021_08_02\\211.avi\n",
      "Duration of video [s]:  10.0 , recorded with  40.0 fps!\n",
      "Overall # of frames:  400  found with (before cropping) frame dimensions:  800 550\n",
      "Starting to extract posture\n"
     ]
    },
    {
     "name": "stderr",
     "output_type": "stream",
     "text": [
      "410it [00:41,  9.92it/s]                                                                                               \n"
     ]
    },
    {
     "name": "stdout",
     "output_type": "stream",
     "text": [
      "Saving results in D:\\Sidevideos\\ar32motor\\2021_08_02...\n",
      "Saving csv poses!\n",
      "Starting to analyze %  D:\\Sidevideos\\ar32motor\\2021_08_02\\212.avi\n",
      "D:\\Sidevideos\\ar32motor\\2021_08_02  already exists!\n",
      "Loading  D:\\Sidevideos\\ar32motor\\2021_08_02\\212.avi\n",
      "Duration of video [s]:  10.0 , recorded with  40.0 fps!\n",
      "Overall # of frames:  400  found with (before cropping) frame dimensions:  800 550\n",
      "Starting to extract posture\n"
     ]
    },
    {
     "name": "stderr",
     "output_type": "stream",
     "text": [
      "410it [00:41,  9.93it/s]                                                                                               \n"
     ]
    },
    {
     "name": "stdout",
     "output_type": "stream",
     "text": [
      "Saving results in D:\\Sidevideos\\ar32motor\\2021_08_02...\n",
      "Saving csv poses!\n",
      "Starting to analyze %  D:\\Sidevideos\\ar32motor\\2021_08_02\\213.avi\n",
      "D:\\Sidevideos\\ar32motor\\2021_08_02  already exists!\n",
      "Loading  D:\\Sidevideos\\ar32motor\\2021_08_02\\213.avi\n",
      "Duration of video [s]:  10.0 , recorded with  40.0 fps!\n",
      "Overall # of frames:  400  found with (before cropping) frame dimensions:  800 550\n",
      "Starting to extract posture\n"
     ]
    },
    {
     "name": "stderr",
     "output_type": "stream",
     "text": [
      "410it [00:41,  9.92it/s]                                                                                               \n"
     ]
    },
    {
     "name": "stdout",
     "output_type": "stream",
     "text": [
      "Saving results in D:\\Sidevideos\\ar32motor\\2021_08_02...\n",
      "Saving csv poses!\n",
      "Starting to analyze %  D:\\Sidevideos\\ar32motor\\2021_08_02\\214.avi\n",
      "D:\\Sidevideos\\ar32motor\\2021_08_02  already exists!\n",
      "Loading  D:\\Sidevideos\\ar32motor\\2021_08_02\\214.avi\n",
      "Duration of video [s]:  10.0 , recorded with  40.0 fps!\n",
      "Overall # of frames:  400  found with (before cropping) frame dimensions:  800 550\n",
      "Starting to extract posture\n"
     ]
    },
    {
     "name": "stderr",
     "output_type": "stream",
     "text": [
      "410it [00:41,  9.92it/s]                                                                                               \n"
     ]
    },
    {
     "name": "stdout",
     "output_type": "stream",
     "text": [
      "Saving results in D:\\Sidevideos\\ar32motor\\2021_08_02...\n",
      "Saving csv poses!\n",
      "Starting to analyze %  D:\\Sidevideos\\ar32motor\\2021_08_02\\215.avi\n",
      "D:\\Sidevideos\\ar32motor\\2021_08_02  already exists!\n",
      "Loading  D:\\Sidevideos\\ar32motor\\2021_08_02\\215.avi\n",
      "Duration of video [s]:  10.0 , recorded with  40.0 fps!\n",
      "Overall # of frames:  400  found with (before cropping) frame dimensions:  800 550\n",
      "Starting to extract posture\n"
     ]
    },
    {
     "name": "stderr",
     "output_type": "stream",
     "text": [
      "410it [00:41,  9.99it/s]                                                                                               \n"
     ]
    },
    {
     "name": "stdout",
     "output_type": "stream",
     "text": [
      "Saving results in D:\\Sidevideos\\ar32motor\\2021_08_02...\n",
      "Saving csv poses!\n",
      "Starting to analyze %  D:\\Sidevideos\\ar32motor\\2021_08_02\\216.avi\n",
      "D:\\Sidevideos\\ar32motor\\2021_08_02  already exists!\n",
      "Loading  D:\\Sidevideos\\ar32motor\\2021_08_02\\216.avi\n",
      "Duration of video [s]:  10.0 , recorded with  40.0 fps!\n",
      "Overall # of frames:  400  found with (before cropping) frame dimensions:  800 550\n",
      "Starting to extract posture\n"
     ]
    },
    {
     "name": "stderr",
     "output_type": "stream",
     "text": [
      "410it [00:40, 10.13it/s]                                                                                               \n"
     ]
    },
    {
     "name": "stdout",
     "output_type": "stream",
     "text": [
      "Saving results in D:\\Sidevideos\\ar32motor\\2021_08_02...\n",
      "Saving csv poses!\n",
      "Starting to analyze %  D:\\Sidevideos\\ar32motor\\2021_08_02\\217.avi\n",
      "D:\\Sidevideos\\ar32motor\\2021_08_02  already exists!\n",
      "Loading  D:\\Sidevideos\\ar32motor\\2021_08_02\\217.avi\n",
      "Duration of video [s]:  10.0 , recorded with  40.0 fps!\n",
      "Overall # of frames:  400  found with (before cropping) frame dimensions:  800 550\n",
      "Starting to extract posture\n"
     ]
    },
    {
     "name": "stderr",
     "output_type": "stream",
     "text": [
      "410it [00:40, 10.09it/s]                                                                                               \n"
     ]
    },
    {
     "name": "stdout",
     "output_type": "stream",
     "text": [
      "Saving results in D:\\Sidevideos\\ar32motor\\2021_08_02...\n",
      "Saving csv poses!\n",
      "Starting to analyze %  D:\\Sidevideos\\ar32motor\\2021_08_02\\218.avi\n",
      "D:\\Sidevideos\\ar32motor\\2021_08_02  already exists!\n",
      "Loading  D:\\Sidevideos\\ar32motor\\2021_08_02\\218.avi\n",
      "Duration of video [s]:  10.0 , recorded with  40.0 fps!\n",
      "Overall # of frames:  400  found with (before cropping) frame dimensions:  800 550\n",
      "Starting to extract posture\n"
     ]
    },
    {
     "name": "stderr",
     "output_type": "stream",
     "text": [
      "410it [00:40, 10.14it/s]                                                                                               \n"
     ]
    },
    {
     "name": "stdout",
     "output_type": "stream",
     "text": [
      "Saving results in D:\\Sidevideos\\ar32motor\\2021_08_02...\n",
      "Saving csv poses!\n",
      "Starting to analyze %  D:\\Sidevideos\\ar32motor\\2021_08_02\\219.avi\n",
      "D:\\Sidevideos\\ar32motor\\2021_08_02  already exists!\n",
      "Loading  D:\\Sidevideos\\ar32motor\\2021_08_02\\219.avi\n",
      "Duration of video [s]:  10.0 , recorded with  40.0 fps!\n",
      "Overall # of frames:  400  found with (before cropping) frame dimensions:  800 550\n",
      "Starting to extract posture\n"
     ]
    },
    {
     "name": "stderr",
     "output_type": "stream",
     "text": [
      "410it [00:40, 10.14it/s]                                                                                               \n"
     ]
    },
    {
     "name": "stdout",
     "output_type": "stream",
     "text": [
      "Saving results in D:\\Sidevideos\\ar32motor\\2021_08_02...\n",
      "Saving csv poses!\n",
      "Starting to analyze %  D:\\Sidevideos\\ar32motor\\2021_08_02\\22.avi\n",
      "D:\\Sidevideos\\ar32motor\\2021_08_02  already exists!\n",
      "Loading  D:\\Sidevideos\\ar32motor\\2021_08_02\\22.avi\n",
      "Duration of video [s]:  10.0 , recorded with  40.0 fps!\n",
      "Overall # of frames:  400  found with (before cropping) frame dimensions:  800 550\n",
      "Starting to extract posture\n"
     ]
    },
    {
     "name": "stderr",
     "output_type": "stream",
     "text": [
      "410it [00:40, 10.05it/s]                                                                                               \n"
     ]
    },
    {
     "name": "stdout",
     "output_type": "stream",
     "text": [
      "Saving results in D:\\Sidevideos\\ar32motor\\2021_08_02...\n",
      "Saving csv poses!\n",
      "Starting to analyze %  D:\\Sidevideos\\ar32motor\\2021_08_02\\220.avi\n",
      "D:\\Sidevideos\\ar32motor\\2021_08_02  already exists!\n",
      "Loading  D:\\Sidevideos\\ar32motor\\2021_08_02\\220.avi\n",
      "Duration of video [s]:  10.0 , recorded with  40.0 fps!\n",
      "Overall # of frames:  400  found with (before cropping) frame dimensions:  800 550\n",
      "Starting to extract posture\n"
     ]
    },
    {
     "name": "stderr",
     "output_type": "stream",
     "text": [
      "410it [00:40, 10.05it/s]                                                                                               \n"
     ]
    },
    {
     "name": "stdout",
     "output_type": "stream",
     "text": [
      "Saving results in D:\\Sidevideos\\ar32motor\\2021_08_02...\n",
      "Saving csv poses!\n",
      "Starting to analyze %  D:\\Sidevideos\\ar32motor\\2021_08_02\\221.avi\n",
      "D:\\Sidevideos\\ar32motor\\2021_08_02  already exists!\n",
      "Loading  D:\\Sidevideos\\ar32motor\\2021_08_02\\221.avi\n",
      "Duration of video [s]:  10.0 , recorded with  40.0 fps!\n",
      "Overall # of frames:  400  found with (before cropping) frame dimensions:  800 550\n",
      "Starting to extract posture\n"
     ]
    },
    {
     "name": "stderr",
     "output_type": "stream",
     "text": [
      "410it [00:40, 10.07it/s]                                                                                               \n"
     ]
    },
    {
     "name": "stdout",
     "output_type": "stream",
     "text": [
      "Saving results in D:\\Sidevideos\\ar32motor\\2021_08_02...\n",
      "Saving csv poses!\n",
      "Starting to analyze %  D:\\Sidevideos\\ar32motor\\2021_08_02\\222.avi\n",
      "D:\\Sidevideos\\ar32motor\\2021_08_02  already exists!\n",
      "Loading  D:\\Sidevideos\\ar32motor\\2021_08_02\\222.avi\n",
      "Duration of video [s]:  10.0 , recorded with  40.0 fps!\n",
      "Overall # of frames:  400  found with (before cropping) frame dimensions:  800 550\n",
      "Starting to extract posture\n"
     ]
    },
    {
     "name": "stderr",
     "output_type": "stream",
     "text": [
      "410it [00:40, 10.08it/s]                                                                                               \n"
     ]
    },
    {
     "name": "stdout",
     "output_type": "stream",
     "text": [
      "Saving results in D:\\Sidevideos\\ar32motor\\2021_08_02...\n",
      "Saving csv poses!\n",
      "Starting to analyze %  D:\\Sidevideos\\ar32motor\\2021_08_02\\223.avi\n",
      "D:\\Sidevideos\\ar32motor\\2021_08_02  already exists!\n",
      "Loading  D:\\Sidevideos\\ar32motor\\2021_08_02\\223.avi\n",
      "Duration of video [s]:  10.0 , recorded with  40.0 fps!\n",
      "Overall # of frames:  400  found with (before cropping) frame dimensions:  800 550\n",
      "Starting to extract posture\n"
     ]
    },
    {
     "name": "stderr",
     "output_type": "stream",
     "text": [
      "410it [00:40, 10.11it/s]                                                                                               \n"
     ]
    },
    {
     "name": "stdout",
     "output_type": "stream",
     "text": [
      "Saving results in D:\\Sidevideos\\ar32motor\\2021_08_02...\n",
      "Saving csv poses!\n",
      "Starting to analyze %  D:\\Sidevideos\\ar32motor\\2021_08_02\\224.avi\n",
      "D:\\Sidevideos\\ar32motor\\2021_08_02  already exists!\n",
      "Loading  D:\\Sidevideos\\ar32motor\\2021_08_02\\224.avi\n",
      "Duration of video [s]:  10.0 , recorded with  40.0 fps!\n",
      "Overall # of frames:  400  found with (before cropping) frame dimensions:  800 550\n",
      "Starting to extract posture\n"
     ]
    },
    {
     "name": "stderr",
     "output_type": "stream",
     "text": [
      "410it [00:40, 10.08it/s]                                                                                               \n"
     ]
    },
    {
     "name": "stdout",
     "output_type": "stream",
     "text": [
      "Saving results in D:\\Sidevideos\\ar32motor\\2021_08_02...\n",
      "Saving csv poses!\n",
      "Starting to analyze %  D:\\Sidevideos\\ar32motor\\2021_08_02\\225.avi\n",
      "D:\\Sidevideos\\ar32motor\\2021_08_02  already exists!\n",
      "Loading  D:\\Sidevideos\\ar32motor\\2021_08_02\\225.avi\n",
      "Duration of video [s]:  10.0 , recorded with  40.0 fps!\n",
      "Overall # of frames:  400  found with (before cropping) frame dimensions:  800 550\n",
      "Starting to extract posture\n"
     ]
    },
    {
     "name": "stderr",
     "output_type": "stream",
     "text": [
      "410it [00:40, 10.05it/s]                                                                                               \n"
     ]
    },
    {
     "name": "stdout",
     "output_type": "stream",
     "text": [
      "Saving results in D:\\Sidevideos\\ar32motor\\2021_08_02...\n",
      "Saving csv poses!\n",
      "Starting to analyze %  D:\\Sidevideos\\ar32motor\\2021_08_02\\226.avi\n",
      "D:\\Sidevideos\\ar32motor\\2021_08_02  already exists!\n",
      "Loading  D:\\Sidevideos\\ar32motor\\2021_08_02\\226.avi\n",
      "Duration of video [s]:  10.0 , recorded with  40.0 fps!\n",
      "Overall # of frames:  400  found with (before cropping) frame dimensions:  800 550\n",
      "Starting to extract posture\n"
     ]
    },
    {
     "name": "stderr",
     "output_type": "stream",
     "text": [
      "410it [00:40, 10.05it/s]                                                                                               \n"
     ]
    },
    {
     "name": "stdout",
     "output_type": "stream",
     "text": [
      "Saving results in D:\\Sidevideos\\ar32motor\\2021_08_02...\n",
      "Saving csv poses!\n",
      "Starting to analyze %  D:\\Sidevideos\\ar32motor\\2021_08_02\\227.avi\n",
      "D:\\Sidevideos\\ar32motor\\2021_08_02  already exists!\n",
      "Loading  D:\\Sidevideos\\ar32motor\\2021_08_02\\227.avi\n",
      "Duration of video [s]:  10.0 , recorded with  40.0 fps!\n",
      "Overall # of frames:  400  found with (before cropping) frame dimensions:  800 550\n",
      "Starting to extract posture\n"
     ]
    },
    {
     "name": "stderr",
     "output_type": "stream",
     "text": [
      "410it [00:40, 10.07it/s]                                                                                               \n"
     ]
    },
    {
     "name": "stdout",
     "output_type": "stream",
     "text": [
      "Saving results in D:\\Sidevideos\\ar32motor\\2021_08_02...\n",
      "Saving csv poses!\n",
      "Starting to analyze %  D:\\Sidevideos\\ar32motor\\2021_08_02\\228.avi\n",
      "D:\\Sidevideos\\ar32motor\\2021_08_02  already exists!\n",
      "Loading  D:\\Sidevideos\\ar32motor\\2021_08_02\\228.avi\n",
      "Duration of video [s]:  10.0 , recorded with  40.0 fps!\n",
      "Overall # of frames:  400  found with (before cropping) frame dimensions:  800 550\n",
      "Starting to extract posture\n"
     ]
    },
    {
     "name": "stderr",
     "output_type": "stream",
     "text": [
      "410it [00:40, 10.06it/s]                                                                                               \n"
     ]
    },
    {
     "name": "stdout",
     "output_type": "stream",
     "text": [
      "Saving results in D:\\Sidevideos\\ar32motor\\2021_08_02...\n",
      "Saving csv poses!\n",
      "Starting to analyze %  D:\\Sidevideos\\ar32motor\\2021_08_02\\229.avi\n",
      "D:\\Sidevideos\\ar32motor\\2021_08_02  already exists!\n",
      "Loading  D:\\Sidevideos\\ar32motor\\2021_08_02\\229.avi\n",
      "Duration of video [s]:  10.0 , recorded with  40.0 fps!\n",
      "Overall # of frames:  400  found with (before cropping) frame dimensions:  800 550\n",
      "Starting to extract posture\n"
     ]
    },
    {
     "name": "stderr",
     "output_type": "stream",
     "text": [
      "410it [00:40, 10.08it/s]                                                                                               \n"
     ]
    },
    {
     "name": "stdout",
     "output_type": "stream",
     "text": [
      "Saving results in D:\\Sidevideos\\ar32motor\\2021_08_02...\n",
      "Saving csv poses!\n",
      "Starting to analyze %  D:\\Sidevideos\\ar32motor\\2021_08_02\\23.avi\n",
      "D:\\Sidevideos\\ar32motor\\2021_08_02  already exists!\n",
      "Loading  D:\\Sidevideos\\ar32motor\\2021_08_02\\23.avi\n",
      "Duration of video [s]:  10.0 , recorded with  40.0 fps!\n",
      "Overall # of frames:  400  found with (before cropping) frame dimensions:  800 550\n",
      "Starting to extract posture\n"
     ]
    },
    {
     "name": "stderr",
     "output_type": "stream",
     "text": [
      "410it [00:40, 10.05it/s]                                                                                               \n"
     ]
    },
    {
     "name": "stdout",
     "output_type": "stream",
     "text": [
      "Saving results in D:\\Sidevideos\\ar32motor\\2021_08_02...\n",
      "Saving csv poses!\n",
      "Starting to analyze %  D:\\Sidevideos\\ar32motor\\2021_08_02\\230.avi\n",
      "D:\\Sidevideos\\ar32motor\\2021_08_02  already exists!\n",
      "Loading  D:\\Sidevideos\\ar32motor\\2021_08_02\\230.avi\n",
      "Duration of video [s]:  10.0 , recorded with  40.0 fps!\n",
      "Overall # of frames:  400  found with (before cropping) frame dimensions:  800 550\n",
      "Starting to extract posture\n"
     ]
    },
    {
     "name": "stderr",
     "output_type": "stream",
     "text": [
      "410it [00:40, 10.05it/s]                                                                                               \n"
     ]
    },
    {
     "name": "stdout",
     "output_type": "stream",
     "text": [
      "Saving results in D:\\Sidevideos\\ar32motor\\2021_08_02...\n",
      "Saving csv poses!\n",
      "Starting to analyze %  D:\\Sidevideos\\ar32motor\\2021_08_02\\231.avi\n",
      "D:\\Sidevideos\\ar32motor\\2021_08_02  already exists!\n",
      "Loading  D:\\Sidevideos\\ar32motor\\2021_08_02\\231.avi\n",
      "Duration of video [s]:  10.0 , recorded with  40.0 fps!\n",
      "Overall # of frames:  400  found with (before cropping) frame dimensions:  800 550\n",
      "Starting to extract posture\n"
     ]
    },
    {
     "name": "stderr",
     "output_type": "stream",
     "text": [
      "410it [00:41,  9.95it/s]                                                                                               \n"
     ]
    },
    {
     "name": "stdout",
     "output_type": "stream",
     "text": [
      "Saving results in D:\\Sidevideos\\ar32motor\\2021_08_02...\n",
      "Saving csv poses!\n",
      "Starting to analyze %  D:\\Sidevideos\\ar32motor\\2021_08_02\\232.avi\n",
      "D:\\Sidevideos\\ar32motor\\2021_08_02  already exists!\n",
      "Loading  D:\\Sidevideos\\ar32motor\\2021_08_02\\232.avi\n",
      "Duration of video [s]:  10.0 , recorded with  40.0 fps!\n",
      "Overall # of frames:  400  found with (before cropping) frame dimensions:  800 550\n",
      "Starting to extract posture\n"
     ]
    },
    {
     "name": "stderr",
     "output_type": "stream",
     "text": [
      "410it [00:41,  9.92it/s]                                                                                               \n"
     ]
    },
    {
     "name": "stdout",
     "output_type": "stream",
     "text": [
      "Saving results in D:\\Sidevideos\\ar32motor\\2021_08_02...\n",
      "Saving csv poses!\n",
      "Starting to analyze %  D:\\Sidevideos\\ar32motor\\2021_08_02\\24.avi\n",
      "D:\\Sidevideos\\ar32motor\\2021_08_02  already exists!\n",
      "Loading  D:\\Sidevideos\\ar32motor\\2021_08_02\\24.avi\n",
      "Duration of video [s]:  10.0 , recorded with  40.0 fps!\n",
      "Overall # of frames:  400  found with (before cropping) frame dimensions:  800 550\n",
      "Starting to extract posture\n"
     ]
    },
    {
     "name": "stderr",
     "output_type": "stream",
     "text": [
      "410it [00:41,  9.94it/s]                                                                                               \n"
     ]
    },
    {
     "name": "stdout",
     "output_type": "stream",
     "text": [
      "Saving results in D:\\Sidevideos\\ar32motor\\2021_08_02...\n",
      "Saving csv poses!\n",
      "Starting to analyze %  D:\\Sidevideos\\ar32motor\\2021_08_02\\25.avi\n",
      "D:\\Sidevideos\\ar32motor\\2021_08_02  already exists!\n",
      "Loading  D:\\Sidevideos\\ar32motor\\2021_08_02\\25.avi\n",
      "Duration of video [s]:  10.0 , recorded with  40.0 fps!\n",
      "Overall # of frames:  400  found with (before cropping) frame dimensions:  800 550\n",
      "Starting to extract posture\n"
     ]
    },
    {
     "name": "stderr",
     "output_type": "stream",
     "text": [
      "410it [00:41,  9.93it/s]                                                                                               \n"
     ]
    },
    {
     "name": "stdout",
     "output_type": "stream",
     "text": [
      "Saving results in D:\\Sidevideos\\ar32motor\\2021_08_02...\n",
      "Saving csv poses!\n",
      "Starting to analyze %  D:\\Sidevideos\\ar32motor\\2021_08_02\\26.avi\n",
      "D:\\Sidevideos\\ar32motor\\2021_08_02  already exists!\n",
      "Loading  D:\\Sidevideos\\ar32motor\\2021_08_02\\26.avi\n",
      "Duration of video [s]:  10.0 , recorded with  40.0 fps!\n",
      "Overall # of frames:  400  found with (before cropping) frame dimensions:  800 550\n",
      "Starting to extract posture\n"
     ]
    },
    {
     "name": "stderr",
     "output_type": "stream",
     "text": [
      "410it [00:41,  9.94it/s]                                                                                               \n"
     ]
    },
    {
     "name": "stdout",
     "output_type": "stream",
     "text": [
      "Saving results in D:\\Sidevideos\\ar32motor\\2021_08_02...\n",
      "Saving csv poses!\n",
      "Starting to analyze %  D:\\Sidevideos\\ar32motor\\2021_08_02\\27.avi\n",
      "D:\\Sidevideos\\ar32motor\\2021_08_02  already exists!\n",
      "Loading  D:\\Sidevideos\\ar32motor\\2021_08_02\\27.avi\n",
      "Duration of video [s]:  10.0 , recorded with  40.0 fps!\n",
      "Overall # of frames:  400  found with (before cropping) frame dimensions:  800 550\n",
      "Starting to extract posture\n"
     ]
    },
    {
     "name": "stderr",
     "output_type": "stream",
     "text": [
      "410it [00:41,  9.93it/s]                                                                                               \n"
     ]
    },
    {
     "name": "stdout",
     "output_type": "stream",
     "text": [
      "Saving results in D:\\Sidevideos\\ar32motor\\2021_08_02...\n",
      "Saving csv poses!\n",
      "Starting to analyze %  D:\\Sidevideos\\ar32motor\\2021_08_02\\28.avi\n",
      "D:\\Sidevideos\\ar32motor\\2021_08_02  already exists!\n",
      "Loading  D:\\Sidevideos\\ar32motor\\2021_08_02\\28.avi\n",
      "Duration of video [s]:  10.0 , recorded with  40.0 fps!\n",
      "Overall # of frames:  400  found with (before cropping) frame dimensions:  800 550\n",
      "Starting to extract posture\n"
     ]
    },
    {
     "name": "stderr",
     "output_type": "stream",
     "text": [
      "410it [00:41,  9.95it/s]                                                                                               \n"
     ]
    },
    {
     "name": "stdout",
     "output_type": "stream",
     "text": [
      "Saving results in D:\\Sidevideos\\ar32motor\\2021_08_02...\n",
      "Saving csv poses!\n",
      "Starting to analyze %  D:\\Sidevideos\\ar32motor\\2021_08_02\\29.avi\n",
      "D:\\Sidevideos\\ar32motor\\2021_08_02  already exists!\n",
      "Loading  D:\\Sidevideos\\ar32motor\\2021_08_02\\29.avi\n",
      "Duration of video [s]:  10.0 , recorded with  40.0 fps!\n",
      "Overall # of frames:  400  found with (before cropping) frame dimensions:  800 550\n",
      "Starting to extract posture\n"
     ]
    },
    {
     "name": "stderr",
     "output_type": "stream",
     "text": [
      "410it [00:40, 10.03it/s]                                                                                               \n"
     ]
    },
    {
     "name": "stdout",
     "output_type": "stream",
     "text": [
      "Saving results in D:\\Sidevideos\\ar32motor\\2021_08_02...\n",
      "Saving csv poses!\n",
      "Starting to analyze %  D:\\Sidevideos\\ar32motor\\2021_08_02\\3.avi\n",
      "D:\\Sidevideos\\ar32motor\\2021_08_02  already exists!\n",
      "Loading  D:\\Sidevideos\\ar32motor\\2021_08_02\\3.avi\n",
      "Duration of video [s]:  10.0 , recorded with  40.0 fps!\n",
      "Overall # of frames:  400  found with (before cropping) frame dimensions:  800 550\n",
      "Starting to extract posture\n"
     ]
    },
    {
     "name": "stderr",
     "output_type": "stream",
     "text": [
      "410it [00:40, 10.06it/s]                                                                                               \n"
     ]
    },
    {
     "name": "stdout",
     "output_type": "stream",
     "text": [
      "Saving results in D:\\Sidevideos\\ar32motor\\2021_08_02...\n",
      "Saving csv poses!\n",
      "Starting to analyze %  D:\\Sidevideos\\ar32motor\\2021_08_02\\30.avi\n",
      "D:\\Sidevideos\\ar32motor\\2021_08_02  already exists!\n",
      "Loading  D:\\Sidevideos\\ar32motor\\2021_08_02\\30.avi\n",
      "Duration of video [s]:  10.0 , recorded with  40.0 fps!\n",
      "Overall # of frames:  400  found with (before cropping) frame dimensions:  800 550\n",
      "Starting to extract posture\n"
     ]
    },
    {
     "name": "stderr",
     "output_type": "stream",
     "text": [
      "410it [00:40, 10.06it/s]                                                                                               \n"
     ]
    },
    {
     "name": "stdout",
     "output_type": "stream",
     "text": [
      "Saving results in D:\\Sidevideos\\ar32motor\\2021_08_02...\n",
      "Saving csv poses!\n",
      "Starting to analyze %  D:\\Sidevideos\\ar32motor\\2021_08_02\\31.avi\n",
      "D:\\Sidevideos\\ar32motor\\2021_08_02  already exists!\n",
      "Loading  D:\\Sidevideos\\ar32motor\\2021_08_02\\31.avi\n",
      "Duration of video [s]:  10.0 , recorded with  40.0 fps!\n",
      "Overall # of frames:  400  found with (before cropping) frame dimensions:  800 550\n",
      "Starting to extract posture\n"
     ]
    },
    {
     "name": "stderr",
     "output_type": "stream",
     "text": [
      "410it [00:40, 10.05it/s]                                                                                               \n"
     ]
    },
    {
     "name": "stdout",
     "output_type": "stream",
     "text": [
      "Saving results in D:\\Sidevideos\\ar32motor\\2021_08_02...\n",
      "Saving csv poses!\n",
      "Starting to analyze %  D:\\Sidevideos\\ar32motor\\2021_08_02\\32.avi\n",
      "D:\\Sidevideos\\ar32motor\\2021_08_02  already exists!\n",
      "Loading  D:\\Sidevideos\\ar32motor\\2021_08_02\\32.avi\n",
      "Duration of video [s]:  10.0 , recorded with  40.0 fps!\n",
      "Overall # of frames:  400  found with (before cropping) frame dimensions:  800 550\n",
      "Starting to extract posture\n"
     ]
    },
    {
     "name": "stderr",
     "output_type": "stream",
     "text": [
      "410it [00:40, 10.07it/s]                                                                                               \n"
     ]
    },
    {
     "name": "stdout",
     "output_type": "stream",
     "text": [
      "Saving results in D:\\Sidevideos\\ar32motor\\2021_08_02...\n",
      "Saving csv poses!\n",
      "Starting to analyze %  D:\\Sidevideos\\ar32motor\\2021_08_02\\33.avi\n",
      "D:\\Sidevideos\\ar32motor\\2021_08_02  already exists!\n",
      "Loading  D:\\Sidevideos\\ar32motor\\2021_08_02\\33.avi\n",
      "Duration of video [s]:  10.0 , recorded with  40.0 fps!\n",
      "Overall # of frames:  400  found with (before cropping) frame dimensions:  800 550\n",
      "Starting to extract posture\n"
     ]
    },
    {
     "name": "stderr",
     "output_type": "stream",
     "text": [
      "410it [00:40, 10.06it/s]                                                                                               \n"
     ]
    },
    {
     "name": "stdout",
     "output_type": "stream",
     "text": [
      "Saving results in D:\\Sidevideos\\ar32motor\\2021_08_02...\n",
      "Saving csv poses!\n",
      "Starting to analyze %  D:\\Sidevideos\\ar32motor\\2021_08_02\\34.avi\n",
      "D:\\Sidevideos\\ar32motor\\2021_08_02  already exists!\n",
      "Loading  D:\\Sidevideos\\ar32motor\\2021_08_02\\34.avi\n",
      "Duration of video [s]:  10.0 , recorded with  40.0 fps!\n",
      "Overall # of frames:  400  found with (before cropping) frame dimensions:  800 550\n",
      "Starting to extract posture\n"
     ]
    },
    {
     "name": "stderr",
     "output_type": "stream",
     "text": [
      "410it [00:40, 10.04it/s]                                                                                               \n"
     ]
    },
    {
     "name": "stdout",
     "output_type": "stream",
     "text": [
      "Saving results in D:\\Sidevideos\\ar32motor\\2021_08_02...\n",
      "Saving csv poses!\n",
      "Starting to analyze %  D:\\Sidevideos\\ar32motor\\2021_08_02\\35.avi\n",
      "D:\\Sidevideos\\ar32motor\\2021_08_02  already exists!\n",
      "Loading  D:\\Sidevideos\\ar32motor\\2021_08_02\\35.avi\n",
      "Duration of video [s]:  10.0 , recorded with  40.0 fps!\n",
      "Overall # of frames:  400  found with (before cropping) frame dimensions:  800 550\n",
      "Starting to extract posture\n"
     ]
    },
    {
     "name": "stderr",
     "output_type": "stream",
     "text": [
      "410it [00:40, 10.03it/s]                                                                                               \n"
     ]
    },
    {
     "name": "stdout",
     "output_type": "stream",
     "text": [
      "Saving results in D:\\Sidevideos\\ar32motor\\2021_08_02...\n",
      "Saving csv poses!\n",
      "Starting to analyze %  D:\\Sidevideos\\ar32motor\\2021_08_02\\36.avi\n",
      "D:\\Sidevideos\\ar32motor\\2021_08_02  already exists!\n",
      "Loading  D:\\Sidevideos\\ar32motor\\2021_08_02\\36.avi\n",
      "Duration of video [s]:  10.0 , recorded with  40.0 fps!\n",
      "Overall # of frames:  400  found with (before cropping) frame dimensions:  800 550\n",
      "Starting to extract posture\n"
     ]
    },
    {
     "name": "stderr",
     "output_type": "stream",
     "text": [
      "410it [00:40, 10.04it/s]                                                                                               \n"
     ]
    },
    {
     "name": "stdout",
     "output_type": "stream",
     "text": [
      "Saving results in D:\\Sidevideos\\ar32motor\\2021_08_02...\n",
      "Saving csv poses!\n",
      "Starting to analyze %  D:\\Sidevideos\\ar32motor\\2021_08_02\\37.avi\n",
      "D:\\Sidevideos\\ar32motor\\2021_08_02  already exists!\n",
      "Loading  D:\\Sidevideos\\ar32motor\\2021_08_02\\37.avi\n",
      "Duration of video [s]:  10.0 , recorded with  40.0 fps!\n",
      "Overall # of frames:  400  found with (before cropping) frame dimensions:  800 550\n",
      "Starting to extract posture\n"
     ]
    },
    {
     "name": "stderr",
     "output_type": "stream",
     "text": [
      "410it [00:40, 10.04it/s]                                                                                               \n"
     ]
    },
    {
     "name": "stdout",
     "output_type": "stream",
     "text": [
      "Saving results in D:\\Sidevideos\\ar32motor\\2021_08_02...\n",
      "Saving csv poses!\n",
      "Starting to analyze %  D:\\Sidevideos\\ar32motor\\2021_08_02\\38.avi\n",
      "D:\\Sidevideos\\ar32motor\\2021_08_02  already exists!\n",
      "Loading  D:\\Sidevideos\\ar32motor\\2021_08_02\\38.avi\n",
      "Duration of video [s]:  10.0 , recorded with  40.0 fps!\n",
      "Overall # of frames:  400  found with (before cropping) frame dimensions:  800 550\n",
      "Starting to extract posture\n"
     ]
    },
    {
     "name": "stderr",
     "output_type": "stream",
     "text": [
      "410it [00:40, 10.04it/s]                                                                                               \n"
     ]
    },
    {
     "name": "stdout",
     "output_type": "stream",
     "text": [
      "Saving results in D:\\Sidevideos\\ar32motor\\2021_08_02...\n",
      "Saving csv poses!\n",
      "Starting to analyze %  D:\\Sidevideos\\ar32motor\\2021_08_02\\39.avi\n",
      "D:\\Sidevideos\\ar32motor\\2021_08_02  already exists!\n",
      "Loading  D:\\Sidevideos\\ar32motor\\2021_08_02\\39.avi\n",
      "Duration of video [s]:  10.0 , recorded with  40.0 fps!\n",
      "Overall # of frames:  400  found with (before cropping) frame dimensions:  800 550\n",
      "Starting to extract posture\n"
     ]
    },
    {
     "name": "stderr",
     "output_type": "stream",
     "text": [
      "410it [00:40, 10.06it/s]                                                                                               \n"
     ]
    },
    {
     "name": "stdout",
     "output_type": "stream",
     "text": [
      "Saving results in D:\\Sidevideos\\ar32motor\\2021_08_02...\n",
      "Saving csv poses!\n",
      "Starting to analyze %  D:\\Sidevideos\\ar32motor\\2021_08_02\\4.avi\n",
      "D:\\Sidevideos\\ar32motor\\2021_08_02  already exists!\n",
      "Loading  D:\\Sidevideos\\ar32motor\\2021_08_02\\4.avi\n",
      "Duration of video [s]:  10.0 , recorded with  40.0 fps!\n",
      "Overall # of frames:  400  found with (before cropping) frame dimensions:  800 550\n",
      "Starting to extract posture\n"
     ]
    },
    {
     "name": "stderr",
     "output_type": "stream",
     "text": [
      "410it [00:40, 10.05it/s]                                                                                               \n"
     ]
    },
    {
     "name": "stdout",
     "output_type": "stream",
     "text": [
      "Saving results in D:\\Sidevideos\\ar32motor\\2021_08_02...\n",
      "Saving csv poses!\n",
      "Starting to analyze %  D:\\Sidevideos\\ar32motor\\2021_08_02\\40.avi\n",
      "D:\\Sidevideos\\ar32motor\\2021_08_02  already exists!\n",
      "Loading  D:\\Sidevideos\\ar32motor\\2021_08_02\\40.avi\n",
      "Duration of video [s]:  10.0 , recorded with  40.0 fps!\n",
      "Overall # of frames:  400  found with (before cropping) frame dimensions:  800 550\n",
      "Starting to extract posture\n"
     ]
    },
    {
     "name": "stderr",
     "output_type": "stream",
     "text": [
      "410it [00:40, 10.08it/s]                                                                                               \n"
     ]
    },
    {
     "name": "stdout",
     "output_type": "stream",
     "text": [
      "Saving results in D:\\Sidevideos\\ar32motor\\2021_08_02...\n",
      "Saving csv poses!\n",
      "Starting to analyze %  D:\\Sidevideos\\ar32motor\\2021_08_02\\41.avi\n",
      "D:\\Sidevideos\\ar32motor\\2021_08_02  already exists!\n",
      "Loading  D:\\Sidevideos\\ar32motor\\2021_08_02\\41.avi\n",
      "Duration of video [s]:  10.0 , recorded with  40.0 fps!\n",
      "Overall # of frames:  400  found with (before cropping) frame dimensions:  800 550\n",
      "Starting to extract posture\n"
     ]
    },
    {
     "name": "stderr",
     "output_type": "stream",
     "text": [
      "410it [00:40, 10.03it/s]                                                                                               \n"
     ]
    },
    {
     "name": "stdout",
     "output_type": "stream",
     "text": [
      "Saving results in D:\\Sidevideos\\ar32motor\\2021_08_02...\n",
      "Saving csv poses!\n",
      "Starting to analyze %  D:\\Sidevideos\\ar32motor\\2021_08_02\\42.avi\n",
      "D:\\Sidevideos\\ar32motor\\2021_08_02  already exists!\n",
      "Loading  D:\\Sidevideos\\ar32motor\\2021_08_02\\42.avi\n",
      "Duration of video [s]:  10.0 , recorded with  40.0 fps!\n",
      "Overall # of frames:  400  found with (before cropping) frame dimensions:  800 550\n",
      "Starting to extract posture\n"
     ]
    },
    {
     "name": "stderr",
     "output_type": "stream",
     "text": [
      "410it [00:41,  9.88it/s]                                                                                               \n"
     ]
    },
    {
     "name": "stdout",
     "output_type": "stream",
     "text": [
      "Saving results in D:\\Sidevideos\\ar32motor\\2021_08_02...\n",
      "Saving csv poses!\n",
      "Starting to analyze %  D:\\Sidevideos\\ar32motor\\2021_08_02\\43.avi\n",
      "D:\\Sidevideos\\ar32motor\\2021_08_02  already exists!\n",
      "Loading  D:\\Sidevideos\\ar32motor\\2021_08_02\\43.avi\n",
      "Duration of video [s]:  10.0 , recorded with  40.0 fps!\n",
      "Overall # of frames:  400  found with (before cropping) frame dimensions:  800 550\n",
      "Starting to extract posture\n"
     ]
    },
    {
     "name": "stderr",
     "output_type": "stream",
     "text": [
      "410it [00:41,  9.96it/s]                                                                                               \n"
     ]
    },
    {
     "name": "stdout",
     "output_type": "stream",
     "text": [
      "Saving results in D:\\Sidevideos\\ar32motor\\2021_08_02...\n",
      "Saving csv poses!\n",
      "Starting to analyze %  D:\\Sidevideos\\ar32motor\\2021_08_02\\44.avi\n",
      "D:\\Sidevideos\\ar32motor\\2021_08_02  already exists!\n",
      "Loading  D:\\Sidevideos\\ar32motor\\2021_08_02\\44.avi\n",
      "Duration of video [s]:  10.0 , recorded with  40.0 fps!\n",
      "Overall # of frames:  400  found with (before cropping) frame dimensions:  800 550\n",
      "Starting to extract posture\n"
     ]
    },
    {
     "name": "stderr",
     "output_type": "stream",
     "text": [
      "410it [00:41,  9.94it/s]                                                                                               \n"
     ]
    },
    {
     "name": "stdout",
     "output_type": "stream",
     "text": [
      "Saving results in D:\\Sidevideos\\ar32motor\\2021_08_02...\n",
      "Saving csv poses!\n",
      "Starting to analyze %  D:\\Sidevideos\\ar32motor\\2021_08_02\\45.avi\n",
      "D:\\Sidevideos\\ar32motor\\2021_08_02  already exists!\n",
      "Loading  D:\\Sidevideos\\ar32motor\\2021_08_02\\45.avi\n",
      "Duration of video [s]:  10.0 , recorded with  40.0 fps!\n",
      "Overall # of frames:  400  found with (before cropping) frame dimensions:  800 550\n",
      "Starting to extract posture\n"
     ]
    },
    {
     "name": "stderr",
     "output_type": "stream",
     "text": [
      "410it [00:41,  9.95it/s]                                                                                               \n"
     ]
    },
    {
     "name": "stdout",
     "output_type": "stream",
     "text": [
      "Saving results in D:\\Sidevideos\\ar32motor\\2021_08_02...\n",
      "Saving csv poses!\n",
      "Starting to analyze %  D:\\Sidevideos\\ar32motor\\2021_08_02\\46.avi\n",
      "D:\\Sidevideos\\ar32motor\\2021_08_02  already exists!\n",
      "Loading  D:\\Sidevideos\\ar32motor\\2021_08_02\\46.avi\n",
      "Duration of video [s]:  10.0 , recorded with  40.0 fps!\n",
      "Overall # of frames:  400  found with (before cropping) frame dimensions:  800 550\n",
      "Starting to extract posture\n"
     ]
    },
    {
     "name": "stderr",
     "output_type": "stream",
     "text": [
      "410it [00:41,  9.93it/s]                                                                                               \n"
     ]
    },
    {
     "name": "stdout",
     "output_type": "stream",
     "text": [
      "Saving results in D:\\Sidevideos\\ar32motor\\2021_08_02...\n",
      "Saving csv poses!\n",
      "Starting to analyze %  D:\\Sidevideos\\ar32motor\\2021_08_02\\47.avi\n",
      "D:\\Sidevideos\\ar32motor\\2021_08_02  already exists!\n",
      "Loading  D:\\Sidevideos\\ar32motor\\2021_08_02\\47.avi\n",
      "Duration of video [s]:  10.0 , recorded with  40.0 fps!\n",
      "Overall # of frames:  400  found with (before cropping) frame dimensions:  800 550\n",
      "Starting to extract posture\n"
     ]
    },
    {
     "name": "stderr",
     "output_type": "stream",
     "text": [
      "410it [00:41,  9.95it/s]                                                                                               \n"
     ]
    },
    {
     "name": "stdout",
     "output_type": "stream",
     "text": [
      "Saving results in D:\\Sidevideos\\ar32motor\\2021_08_02...\n",
      "Saving csv poses!\n",
      "Starting to analyze %  D:\\Sidevideos\\ar32motor\\2021_08_02\\48.avi\n",
      "D:\\Sidevideos\\ar32motor\\2021_08_02  already exists!\n",
      "Loading  D:\\Sidevideos\\ar32motor\\2021_08_02\\48.avi\n",
      "Duration of video [s]:  10.0 , recorded with  40.0 fps!\n",
      "Overall # of frames:  400  found with (before cropping) frame dimensions:  800 550\n",
      "Starting to extract posture\n"
     ]
    },
    {
     "name": "stderr",
     "output_type": "stream",
     "text": [
      "410it [00:41,  9.94it/s]                                                                                               \n"
     ]
    },
    {
     "name": "stdout",
     "output_type": "stream",
     "text": [
      "Saving results in D:\\Sidevideos\\ar32motor\\2021_08_02...\n",
      "Saving csv poses!\n",
      "Starting to analyze %  D:\\Sidevideos\\ar32motor\\2021_08_02\\49.avi\n",
      "D:\\Sidevideos\\ar32motor\\2021_08_02  already exists!\n",
      "Loading  D:\\Sidevideos\\ar32motor\\2021_08_02\\49.avi\n",
      "Duration of video [s]:  10.0 , recorded with  40.0 fps!\n",
      "Overall # of frames:  400  found with (before cropping) frame dimensions:  800 550\n",
      "Starting to extract posture\n"
     ]
    },
    {
     "name": "stderr",
     "output_type": "stream",
     "text": [
      "410it [00:40, 10.05it/s]                                                                                               \n"
     ]
    },
    {
     "name": "stdout",
     "output_type": "stream",
     "text": [
      "Saving results in D:\\Sidevideos\\ar32motor\\2021_08_02...\n",
      "Saving csv poses!\n",
      "Starting to analyze %  D:\\Sidevideos\\ar32motor\\2021_08_02\\5.avi\n",
      "D:\\Sidevideos\\ar32motor\\2021_08_02  already exists!\n",
      "Loading  D:\\Sidevideos\\ar32motor\\2021_08_02\\5.avi\n",
      "Duration of video [s]:  10.0 , recorded with  40.0 fps!\n",
      "Overall # of frames:  400  found with (before cropping) frame dimensions:  800 550\n",
      "Starting to extract posture\n"
     ]
    },
    {
     "name": "stderr",
     "output_type": "stream",
     "text": [
      "410it [00:40, 10.08it/s]                                                                                               \n"
     ]
    },
    {
     "name": "stdout",
     "output_type": "stream",
     "text": [
      "Saving results in D:\\Sidevideos\\ar32motor\\2021_08_02...\n",
      "Saving csv poses!\n",
      "Starting to analyze %  D:\\Sidevideos\\ar32motor\\2021_08_02\\50.avi\n",
      "D:\\Sidevideos\\ar32motor\\2021_08_02  already exists!\n",
      "Loading  D:\\Sidevideos\\ar32motor\\2021_08_02\\50.avi\n",
      "Duration of video [s]:  10.0 , recorded with  40.0 fps!\n",
      "Overall # of frames:  400  found with (before cropping) frame dimensions:  800 550\n",
      "Starting to extract posture\n"
     ]
    },
    {
     "name": "stderr",
     "output_type": "stream",
     "text": [
      "410it [00:40, 10.08it/s]                                                                                               \n"
     ]
    },
    {
     "name": "stdout",
     "output_type": "stream",
     "text": [
      "Saving results in D:\\Sidevideos\\ar32motor\\2021_08_02...\n",
      "Saving csv poses!\n",
      "Starting to analyze %  D:\\Sidevideos\\ar32motor\\2021_08_02\\51.avi\n",
      "D:\\Sidevideos\\ar32motor\\2021_08_02  already exists!\n",
      "Loading  D:\\Sidevideos\\ar32motor\\2021_08_02\\51.avi\n",
      "Duration of video [s]:  10.0 , recorded with  40.0 fps!\n",
      "Overall # of frames:  400  found with (before cropping) frame dimensions:  800 550\n",
      "Starting to extract posture\n"
     ]
    },
    {
     "name": "stderr",
     "output_type": "stream",
     "text": [
      "410it [00:40, 10.08it/s]                                                                                               \n"
     ]
    },
    {
     "name": "stdout",
     "output_type": "stream",
     "text": [
      "Saving results in D:\\Sidevideos\\ar32motor\\2021_08_02...\n",
      "Saving csv poses!\n",
      "Starting to analyze %  D:\\Sidevideos\\ar32motor\\2021_08_02\\52.avi\n",
      "D:\\Sidevideos\\ar32motor\\2021_08_02  already exists!\n",
      "Loading  D:\\Sidevideos\\ar32motor\\2021_08_02\\52.avi\n",
      "Duration of video [s]:  10.0 , recorded with  40.0 fps!\n",
      "Overall # of frames:  400  found with (before cropping) frame dimensions:  800 550\n",
      "Starting to extract posture\n"
     ]
    },
    {
     "name": "stderr",
     "output_type": "stream",
     "text": [
      "410it [00:40, 10.12it/s]                                                                                               \n"
     ]
    },
    {
     "name": "stdout",
     "output_type": "stream",
     "text": [
      "Saving results in D:\\Sidevideos\\ar32motor\\2021_08_02...\n",
      "Saving csv poses!\n",
      "Starting to analyze %  D:\\Sidevideos\\ar32motor\\2021_08_02\\53.avi\n",
      "D:\\Sidevideos\\ar32motor\\2021_08_02  already exists!\n",
      "Loading  D:\\Sidevideos\\ar32motor\\2021_08_02\\53.avi\n",
      "Duration of video [s]:  10.0 , recorded with  40.0 fps!\n",
      "Overall # of frames:  400  found with (before cropping) frame dimensions:  800 550\n",
      "Starting to extract posture\n"
     ]
    },
    {
     "name": "stderr",
     "output_type": "stream",
     "text": [
      "410it [00:40, 10.07it/s]                                                                                               \n"
     ]
    },
    {
     "name": "stdout",
     "output_type": "stream",
     "text": [
      "Saving results in D:\\Sidevideos\\ar32motor\\2021_08_02...\n",
      "Saving csv poses!\n",
      "Starting to analyze %  D:\\Sidevideos\\ar32motor\\2021_08_02\\54.avi\n",
      "D:\\Sidevideos\\ar32motor\\2021_08_02  already exists!\n",
      "Loading  D:\\Sidevideos\\ar32motor\\2021_08_02\\54.avi\n",
      "Duration of video [s]:  10.0 , recorded with  40.0 fps!\n",
      "Overall # of frames:  400  found with (before cropping) frame dimensions:  800 550\n",
      "Starting to extract posture\n"
     ]
    },
    {
     "name": "stderr",
     "output_type": "stream",
     "text": [
      "410it [00:40, 10.10it/s]                                                                                               \n"
     ]
    },
    {
     "name": "stdout",
     "output_type": "stream",
     "text": [
      "Saving results in D:\\Sidevideos\\ar32motor\\2021_08_02...\n",
      "Saving csv poses!\n",
      "Starting to analyze %  D:\\Sidevideos\\ar32motor\\2021_08_02\\55.avi\n",
      "D:\\Sidevideos\\ar32motor\\2021_08_02  already exists!\n",
      "Loading  D:\\Sidevideos\\ar32motor\\2021_08_02\\55.avi\n",
      "Duration of video [s]:  10.0 , recorded with  40.0 fps!\n",
      "Overall # of frames:  400  found with (before cropping) frame dimensions:  800 550\n",
      "Starting to extract posture\n"
     ]
    },
    {
     "name": "stderr",
     "output_type": "stream",
     "text": [
      "410it [00:40, 10.07it/s]                                                                                               \n"
     ]
    },
    {
     "name": "stdout",
     "output_type": "stream",
     "text": [
      "Saving results in D:\\Sidevideos\\ar32motor\\2021_08_02...\n",
      "Saving csv poses!\n",
      "Starting to analyze %  D:\\Sidevideos\\ar32motor\\2021_08_02\\56.avi\n",
      "D:\\Sidevideos\\ar32motor\\2021_08_02  already exists!\n",
      "Loading  D:\\Sidevideos\\ar32motor\\2021_08_02\\56.avi\n",
      "Duration of video [s]:  10.0 , recorded with  40.0 fps!\n",
      "Overall # of frames:  400  found with (before cropping) frame dimensions:  800 550\n",
      "Starting to extract posture\n"
     ]
    },
    {
     "name": "stderr",
     "output_type": "stream",
     "text": [
      "410it [00:40, 10.08it/s]                                                                                               \n"
     ]
    },
    {
     "name": "stdout",
     "output_type": "stream",
     "text": [
      "Saving results in D:\\Sidevideos\\ar32motor\\2021_08_02...\n",
      "Saving csv poses!\n",
      "Starting to analyze %  D:\\Sidevideos\\ar32motor\\2021_08_02\\57.avi\n",
      "D:\\Sidevideos\\ar32motor\\2021_08_02  already exists!\n",
      "Loading  D:\\Sidevideos\\ar32motor\\2021_08_02\\57.avi\n",
      "Duration of video [s]:  10.0 , recorded with  40.0 fps!\n",
      "Overall # of frames:  400  found with (before cropping) frame dimensions:  800 550\n",
      "Starting to extract posture\n"
     ]
    },
    {
     "name": "stderr",
     "output_type": "stream",
     "text": [
      "410it [00:40, 10.05it/s]                                                                                               \n"
     ]
    },
    {
     "name": "stdout",
     "output_type": "stream",
     "text": [
      "Saving results in D:\\Sidevideos\\ar32motor\\2021_08_02...\n",
      "Saving csv poses!\n",
      "Starting to analyze %  D:\\Sidevideos\\ar32motor\\2021_08_02\\58.avi\n",
      "D:\\Sidevideos\\ar32motor\\2021_08_02  already exists!\n",
      "Loading  D:\\Sidevideos\\ar32motor\\2021_08_02\\58.avi\n",
      "Duration of video [s]:  10.0 , recorded with  40.0 fps!\n",
      "Overall # of frames:  400  found with (before cropping) frame dimensions:  800 550\n",
      "Starting to extract posture\n"
     ]
    },
    {
     "name": "stderr",
     "output_type": "stream",
     "text": [
      "410it [00:40, 10.04it/s]                                                                                               \n"
     ]
    },
    {
     "name": "stdout",
     "output_type": "stream",
     "text": [
      "Saving results in D:\\Sidevideos\\ar32motor\\2021_08_02...\n",
      "Saving csv poses!\n",
      "Starting to analyze %  D:\\Sidevideos\\ar32motor\\2021_08_02\\59.avi\n",
      "D:\\Sidevideos\\ar32motor\\2021_08_02  already exists!\n",
      "Loading  D:\\Sidevideos\\ar32motor\\2021_08_02\\59.avi\n",
      "Duration of video [s]:  10.0 , recorded with  40.0 fps!\n",
      "Overall # of frames:  400  found with (before cropping) frame dimensions:  800 550\n",
      "Starting to extract posture\n"
     ]
    },
    {
     "name": "stderr",
     "output_type": "stream",
     "text": [
      "410it [00:40, 10.05it/s]                                                                                               \n"
     ]
    },
    {
     "name": "stdout",
     "output_type": "stream",
     "text": [
      "Saving results in D:\\Sidevideos\\ar32motor\\2021_08_02...\n",
      "Saving csv poses!\n",
      "Starting to analyze %  D:\\Sidevideos\\ar32motor\\2021_08_02\\6.avi\n",
      "D:\\Sidevideos\\ar32motor\\2021_08_02  already exists!\n",
      "Loading  D:\\Sidevideos\\ar32motor\\2021_08_02\\6.avi\n",
      "Duration of video [s]:  10.0 , recorded with  40.0 fps!\n",
      "Overall # of frames:  400  found with (before cropping) frame dimensions:  800 550\n",
      "Starting to extract posture\n"
     ]
    },
    {
     "name": "stderr",
     "output_type": "stream",
     "text": [
      "410it [00:40, 10.05it/s]                                                                                               \n"
     ]
    },
    {
     "name": "stdout",
     "output_type": "stream",
     "text": [
      "Saving results in D:\\Sidevideos\\ar32motor\\2021_08_02...\n",
      "Saving csv poses!\n",
      "Starting to analyze %  D:\\Sidevideos\\ar32motor\\2021_08_02\\60.avi\n",
      "D:\\Sidevideos\\ar32motor\\2021_08_02  already exists!\n",
      "Loading  D:\\Sidevideos\\ar32motor\\2021_08_02\\60.avi\n",
      "Duration of video [s]:  10.0 , recorded with  40.0 fps!\n",
      "Overall # of frames:  400  found with (before cropping) frame dimensions:  800 550\n",
      "Starting to extract posture\n"
     ]
    },
    {
     "name": "stderr",
     "output_type": "stream",
     "text": [
      "410it [00:40, 10.09it/s]                                                                                               \n"
     ]
    },
    {
     "name": "stdout",
     "output_type": "stream",
     "text": [
      "Saving results in D:\\Sidevideos\\ar32motor\\2021_08_02...\n",
      "Saving csv poses!\n",
      "Starting to analyze %  D:\\Sidevideos\\ar32motor\\2021_08_02\\61.avi\n",
      "D:\\Sidevideos\\ar32motor\\2021_08_02  already exists!\n",
      "Loading  D:\\Sidevideos\\ar32motor\\2021_08_02\\61.avi\n",
      "Duration of video [s]:  10.0 , recorded with  40.0 fps!\n",
      "Overall # of frames:  400  found with (before cropping) frame dimensions:  800 550\n",
      "Starting to extract posture\n"
     ]
    },
    {
     "name": "stderr",
     "output_type": "stream",
     "text": [
      "410it [00:40, 10.06it/s]                                                                                               \n"
     ]
    },
    {
     "name": "stdout",
     "output_type": "stream",
     "text": [
      "Saving results in D:\\Sidevideos\\ar32motor\\2021_08_02...\n",
      "Saving csv poses!\n",
      "Starting to analyze %  D:\\Sidevideos\\ar32motor\\2021_08_02\\62.avi\n",
      "D:\\Sidevideos\\ar32motor\\2021_08_02  already exists!\n",
      "Loading  D:\\Sidevideos\\ar32motor\\2021_08_02\\62.avi\n",
      "Duration of video [s]:  10.0 , recorded with  40.0 fps!\n",
      "Overall # of frames:  400  found with (before cropping) frame dimensions:  800 550\n",
      "Starting to extract posture\n"
     ]
    },
    {
     "name": "stderr",
     "output_type": "stream",
     "text": [
      "410it [00:41,  9.97it/s]                                                                                               \n"
     ]
    },
    {
     "name": "stdout",
     "output_type": "stream",
     "text": [
      "Saving results in D:\\Sidevideos\\ar32motor\\2021_08_02...\n",
      "Saving csv poses!\n",
      "Starting to analyze %  D:\\Sidevideos\\ar32motor\\2021_08_02\\63.avi\n",
      "D:\\Sidevideos\\ar32motor\\2021_08_02  already exists!\n",
      "Loading  D:\\Sidevideos\\ar32motor\\2021_08_02\\63.avi\n",
      "Duration of video [s]:  10.0 , recorded with  40.0 fps!\n",
      "Overall # of frames:  400  found with (before cropping) frame dimensions:  800 550\n",
      "Starting to extract posture\n"
     ]
    },
    {
     "name": "stderr",
     "output_type": "stream",
     "text": [
      "410it [00:41,  9.94it/s]                                                                                               \n"
     ]
    },
    {
     "name": "stdout",
     "output_type": "stream",
     "text": [
      "Saving results in D:\\Sidevideos\\ar32motor\\2021_08_02...\n",
      "Saving csv poses!\n",
      "Starting to analyze %  D:\\Sidevideos\\ar32motor\\2021_08_02\\64.avi\n",
      "D:\\Sidevideos\\ar32motor\\2021_08_02  already exists!\n",
      "Loading  D:\\Sidevideos\\ar32motor\\2021_08_02\\64.avi\n",
      "Duration of video [s]:  10.0 , recorded with  40.0 fps!\n",
      "Overall # of frames:  400  found with (before cropping) frame dimensions:  800 550\n",
      "Starting to extract posture\n"
     ]
    },
    {
     "name": "stderr",
     "output_type": "stream",
     "text": [
      "410it [00:41,  9.96it/s]                                                                                               \n"
     ]
    },
    {
     "name": "stdout",
     "output_type": "stream",
     "text": [
      "Saving results in D:\\Sidevideos\\ar32motor\\2021_08_02...\n",
      "Saving csv poses!\n",
      "Starting to analyze %  D:\\Sidevideos\\ar32motor\\2021_08_02\\65.avi\n",
      "D:\\Sidevideos\\ar32motor\\2021_08_02  already exists!\n",
      "Loading  D:\\Sidevideos\\ar32motor\\2021_08_02\\65.avi\n",
      "Duration of video [s]:  10.0 , recorded with  40.0 fps!\n",
      "Overall # of frames:  400  found with (before cropping) frame dimensions:  800 550\n",
      "Starting to extract posture\n"
     ]
    },
    {
     "name": "stderr",
     "output_type": "stream",
     "text": [
      "410it [00:41,  9.94it/s]                                                                                               \n"
     ]
    },
    {
     "name": "stdout",
     "output_type": "stream",
     "text": [
      "Saving results in D:\\Sidevideos\\ar32motor\\2021_08_02...\n",
      "Saving csv poses!\n",
      "Starting to analyze %  D:\\Sidevideos\\ar32motor\\2021_08_02\\66.avi\n",
      "D:\\Sidevideos\\ar32motor\\2021_08_02  already exists!\n",
      "Loading  D:\\Sidevideos\\ar32motor\\2021_08_02\\66.avi\n",
      "Duration of video [s]:  10.0 , recorded with  40.0 fps!\n",
      "Overall # of frames:  400  found with (before cropping) frame dimensions:  800 550\n",
      "Starting to extract posture\n"
     ]
    },
    {
     "name": "stderr",
     "output_type": "stream",
     "text": [
      "410it [00:41,  9.94it/s]                                                                                               \n"
     ]
    },
    {
     "name": "stdout",
     "output_type": "stream",
     "text": [
      "Saving results in D:\\Sidevideos\\ar32motor\\2021_08_02...\n",
      "Saving csv poses!\n",
      "Starting to analyze %  D:\\Sidevideos\\ar32motor\\2021_08_02\\67.avi\n",
      "D:\\Sidevideos\\ar32motor\\2021_08_02  already exists!\n",
      "Loading  D:\\Sidevideos\\ar32motor\\2021_08_02\\67.avi\n",
      "Duration of video [s]:  10.0 , recorded with  40.0 fps!\n",
      "Overall # of frames:  400  found with (before cropping) frame dimensions:  800 550\n",
      "Starting to extract posture\n"
     ]
    },
    {
     "name": "stderr",
     "output_type": "stream",
     "text": [
      "410it [00:41,  9.99it/s]                                                                                               \n"
     ]
    },
    {
     "name": "stdout",
     "output_type": "stream",
     "text": [
      "Saving results in D:\\Sidevideos\\ar32motor\\2021_08_02...\n",
      "Saving csv poses!\n",
      "Starting to analyze %  D:\\Sidevideos\\ar32motor\\2021_08_02\\68.avi\n",
      "D:\\Sidevideos\\ar32motor\\2021_08_02  already exists!\n",
      "Loading  D:\\Sidevideos\\ar32motor\\2021_08_02\\68.avi\n",
      "Duration of video [s]:  10.0 , recorded with  40.0 fps!\n",
      "Overall # of frames:  400  found with (before cropping) frame dimensions:  800 550\n",
      "Starting to extract posture\n"
     ]
    },
    {
     "name": "stderr",
     "output_type": "stream",
     "text": [
      "410it [00:41,  9.99it/s]                                                                                               \n"
     ]
    },
    {
     "name": "stdout",
     "output_type": "stream",
     "text": [
      "Saving results in D:\\Sidevideos\\ar32motor\\2021_08_02...\n",
      "Saving csv poses!\n",
      "Starting to analyze %  D:\\Sidevideos\\ar32motor\\2021_08_02\\69.avi\n",
      "D:\\Sidevideos\\ar32motor\\2021_08_02  already exists!\n",
      "Loading  D:\\Sidevideos\\ar32motor\\2021_08_02\\69.avi\n",
      "Duration of video [s]:  10.0 , recorded with  40.0 fps!\n",
      "Overall # of frames:  400  found with (before cropping) frame dimensions:  800 550\n",
      "Starting to extract posture\n"
     ]
    },
    {
     "name": "stderr",
     "output_type": "stream",
     "text": [
      "410it [00:40, 10.05it/s]                                                                                               \n"
     ]
    },
    {
     "name": "stdout",
     "output_type": "stream",
     "text": [
      "Saving results in D:\\Sidevideos\\ar32motor\\2021_08_02...\n",
      "Saving csv poses!\n",
      "Starting to analyze %  D:\\Sidevideos\\ar32motor\\2021_08_02\\7.avi\n",
      "D:\\Sidevideos\\ar32motor\\2021_08_02  already exists!\n",
      "Loading  D:\\Sidevideos\\ar32motor\\2021_08_02\\7.avi\n",
      "Duration of video [s]:  10.0 , recorded with  40.0 fps!\n",
      "Overall # of frames:  400  found with (before cropping) frame dimensions:  800 550\n",
      "Starting to extract posture\n"
     ]
    },
    {
     "name": "stderr",
     "output_type": "stream",
     "text": [
      "410it [00:40, 10.08it/s]                                                                                               \n"
     ]
    },
    {
     "name": "stdout",
     "output_type": "stream",
     "text": [
      "Saving results in D:\\Sidevideos\\ar32motor\\2021_08_02...\n",
      "Saving csv poses!\n",
      "Starting to analyze %  D:\\Sidevideos\\ar32motor\\2021_08_02\\70.avi\n",
      "D:\\Sidevideos\\ar32motor\\2021_08_02  already exists!\n",
      "Loading  D:\\Sidevideos\\ar32motor\\2021_08_02\\70.avi\n",
      "Duration of video [s]:  10.0 , recorded with  40.0 fps!\n",
      "Overall # of frames:  400  found with (before cropping) frame dimensions:  800 550\n",
      "Starting to extract posture\n"
     ]
    },
    {
     "name": "stderr",
     "output_type": "stream",
     "text": [
      "410it [00:40, 10.07it/s]                                                                                               \n"
     ]
    },
    {
     "name": "stdout",
     "output_type": "stream",
     "text": [
      "Saving results in D:\\Sidevideos\\ar32motor\\2021_08_02...\n",
      "Saving csv poses!\n",
      "Starting to analyze %  D:\\Sidevideos\\ar32motor\\2021_08_02\\71.avi\n",
      "D:\\Sidevideos\\ar32motor\\2021_08_02  already exists!\n",
      "Loading  D:\\Sidevideos\\ar32motor\\2021_08_02\\71.avi\n",
      "Duration of video [s]:  10.0 , recorded with  40.0 fps!\n",
      "Overall # of frames:  400  found with (before cropping) frame dimensions:  800 550\n",
      "Starting to extract posture\n"
     ]
    },
    {
     "name": "stderr",
     "output_type": "stream",
     "text": [
      "410it [00:40, 10.07it/s]                                                                                               \n"
     ]
    },
    {
     "name": "stdout",
     "output_type": "stream",
     "text": [
      "Saving results in D:\\Sidevideos\\ar32motor\\2021_08_02...\n",
      "Saving csv poses!\n",
      "Starting to analyze %  D:\\Sidevideos\\ar32motor\\2021_08_02\\72.avi\n",
      "D:\\Sidevideos\\ar32motor\\2021_08_02  already exists!\n",
      "Loading  D:\\Sidevideos\\ar32motor\\2021_08_02\\72.avi\n",
      "Duration of video [s]:  10.0 , recorded with  40.0 fps!\n",
      "Overall # of frames:  400  found with (before cropping) frame dimensions:  800 550\n",
      "Starting to extract posture\n"
     ]
    },
    {
     "name": "stderr",
     "output_type": "stream",
     "text": [
      "410it [00:40, 10.09it/s]                                                                                               \n"
     ]
    },
    {
     "name": "stdout",
     "output_type": "stream",
     "text": [
      "Saving results in D:\\Sidevideos\\ar32motor\\2021_08_02...\n",
      "Saving csv poses!\n",
      "Starting to analyze %  D:\\Sidevideos\\ar32motor\\2021_08_02\\73.avi\n",
      "D:\\Sidevideos\\ar32motor\\2021_08_02  already exists!\n",
      "Loading  D:\\Sidevideos\\ar32motor\\2021_08_02\\73.avi\n",
      "Duration of video [s]:  10.0 , recorded with  40.0 fps!\n",
      "Overall # of frames:  400  found with (before cropping) frame dimensions:  800 550\n",
      "Starting to extract posture\n"
     ]
    },
    {
     "name": "stderr",
     "output_type": "stream",
     "text": [
      "410it [00:40, 10.09it/s]                                                                                               \n"
     ]
    },
    {
     "name": "stdout",
     "output_type": "stream",
     "text": [
      "Saving results in D:\\Sidevideos\\ar32motor\\2021_08_02...\n",
      "Saving csv poses!\n",
      "Starting to analyze %  D:\\Sidevideos\\ar32motor\\2021_08_02\\74.avi\n",
      "D:\\Sidevideos\\ar32motor\\2021_08_02  already exists!\n",
      "Loading  D:\\Sidevideos\\ar32motor\\2021_08_02\\74.avi\n",
      "Duration of video [s]:  10.0 , recorded with  40.0 fps!\n",
      "Overall # of frames:  400  found with (before cropping) frame dimensions:  800 550\n",
      "Starting to extract posture\n"
     ]
    },
    {
     "name": "stderr",
     "output_type": "stream",
     "text": [
      "410it [00:40, 10.08it/s]                                                                                               \n"
     ]
    },
    {
     "name": "stdout",
     "output_type": "stream",
     "text": [
      "Saving results in D:\\Sidevideos\\ar32motor\\2021_08_02...\n",
      "Saving csv poses!\n",
      "Starting to analyze %  D:\\Sidevideos\\ar32motor\\2021_08_02\\75.avi\n",
      "D:\\Sidevideos\\ar32motor\\2021_08_02  already exists!\n",
      "Loading  D:\\Sidevideos\\ar32motor\\2021_08_02\\75.avi\n",
      "Duration of video [s]:  10.0 , recorded with  40.0 fps!\n",
      "Overall # of frames:  400  found with (before cropping) frame dimensions:  800 550\n",
      "Starting to extract posture\n"
     ]
    },
    {
     "name": "stderr",
     "output_type": "stream",
     "text": [
      "410it [00:40, 10.10it/s]                                                                                               \n"
     ]
    },
    {
     "name": "stdout",
     "output_type": "stream",
     "text": [
      "Saving results in D:\\Sidevideos\\ar32motor\\2021_08_02...\n",
      "Saving csv poses!\n",
      "Starting to analyze %  D:\\Sidevideos\\ar32motor\\2021_08_02\\76.avi\n",
      "D:\\Sidevideos\\ar32motor\\2021_08_02  already exists!\n",
      "Loading  D:\\Sidevideos\\ar32motor\\2021_08_02\\76.avi\n",
      "Duration of video [s]:  10.0 , recorded with  40.0 fps!\n",
      "Overall # of frames:  400  found with (before cropping) frame dimensions:  800 550\n",
      "Starting to extract posture\n"
     ]
    },
    {
     "name": "stderr",
     "output_type": "stream",
     "text": [
      "410it [00:40, 10.07it/s]                                                                                               \n"
     ]
    },
    {
     "name": "stdout",
     "output_type": "stream",
     "text": [
      "Saving results in D:\\Sidevideos\\ar32motor\\2021_08_02...\n",
      "Saving csv poses!\n",
      "Starting to analyze %  D:\\Sidevideos\\ar32motor\\2021_08_02\\77.avi\n",
      "D:\\Sidevideos\\ar32motor\\2021_08_02  already exists!\n",
      "Loading  D:\\Sidevideos\\ar32motor\\2021_08_02\\77.avi\n",
      "Duration of video [s]:  10.0 , recorded with  40.0 fps!\n",
      "Overall # of frames:  400  found with (before cropping) frame dimensions:  800 550\n",
      "Starting to extract posture\n"
     ]
    },
    {
     "name": "stderr",
     "output_type": "stream",
     "text": [
      "410it [00:40, 10.06it/s]                                                                                               \n"
     ]
    },
    {
     "name": "stdout",
     "output_type": "stream",
     "text": [
      "Saving results in D:\\Sidevideos\\ar32motor\\2021_08_02...\n",
      "Saving csv poses!\n",
      "Starting to analyze %  D:\\Sidevideos\\ar32motor\\2021_08_02\\78.avi\n",
      "D:\\Sidevideos\\ar32motor\\2021_08_02  already exists!\n",
      "Loading  D:\\Sidevideos\\ar32motor\\2021_08_02\\78.avi\n",
      "Duration of video [s]:  10.0 , recorded with  40.0 fps!\n",
      "Overall # of frames:  400  found with (before cropping) frame dimensions:  800 550\n",
      "Starting to extract posture\n"
     ]
    },
    {
     "name": "stderr",
     "output_type": "stream",
     "text": [
      "410it [00:40, 10.10it/s]                                                                                               \n"
     ]
    },
    {
     "name": "stdout",
     "output_type": "stream",
     "text": [
      "Saving results in D:\\Sidevideos\\ar32motor\\2021_08_02...\n",
      "Saving csv poses!\n",
      "Starting to analyze %  D:\\Sidevideos\\ar32motor\\2021_08_02\\79.avi\n",
      "D:\\Sidevideos\\ar32motor\\2021_08_02  already exists!\n",
      "Loading  D:\\Sidevideos\\ar32motor\\2021_08_02\\79.avi\n",
      "Duration of video [s]:  10.0 , recorded with  40.0 fps!\n",
      "Overall # of frames:  400  found with (before cropping) frame dimensions:  800 550\n",
      "Starting to extract posture\n"
     ]
    },
    {
     "name": "stderr",
     "output_type": "stream",
     "text": [
      "410it [00:40, 10.07it/s]                                                                                               \n"
     ]
    },
    {
     "name": "stdout",
     "output_type": "stream",
     "text": [
      "Saving results in D:\\Sidevideos\\ar32motor\\2021_08_02...\n",
      "Saving csv poses!\n",
      "Starting to analyze %  D:\\Sidevideos\\ar32motor\\2021_08_02\\8.avi\n",
      "D:\\Sidevideos\\ar32motor\\2021_08_02  already exists!\n",
      "Loading  D:\\Sidevideos\\ar32motor\\2021_08_02\\8.avi\n",
      "Duration of video [s]:  10.0 , recorded with  40.0 fps!\n",
      "Overall # of frames:  400  found with (before cropping) frame dimensions:  800 550\n",
      "Starting to extract posture\n"
     ]
    },
    {
     "name": "stderr",
     "output_type": "stream",
     "text": [
      "410it [00:40, 10.09it/s]                                                                                               \n"
     ]
    },
    {
     "name": "stdout",
     "output_type": "stream",
     "text": [
      "Saving results in D:\\Sidevideos\\ar32motor\\2021_08_02...\n",
      "Saving csv poses!\n",
      "Starting to analyze %  D:\\Sidevideos\\ar32motor\\2021_08_02\\80.avi\n",
      "D:\\Sidevideos\\ar32motor\\2021_08_02  already exists!\n",
      "Loading  D:\\Sidevideos\\ar32motor\\2021_08_02\\80.avi\n",
      "Duration of video [s]:  10.0 , recorded with  40.0 fps!\n",
      "Overall # of frames:  400  found with (before cropping) frame dimensions:  800 550\n",
      "Starting to extract posture\n"
     ]
    },
    {
     "name": "stderr",
     "output_type": "stream",
     "text": [
      "410it [00:40, 10.09it/s]                                                                                               \n"
     ]
    },
    {
     "name": "stdout",
     "output_type": "stream",
     "text": [
      "Saving results in D:\\Sidevideos\\ar32motor\\2021_08_02...\n",
      "Saving csv poses!\n",
      "Starting to analyze %  D:\\Sidevideos\\ar32motor\\2021_08_02\\81.avi\n",
      "D:\\Sidevideos\\ar32motor\\2021_08_02  already exists!\n",
      "Loading  D:\\Sidevideos\\ar32motor\\2021_08_02\\81.avi\n",
      "Duration of video [s]:  10.0 , recorded with  40.0 fps!\n",
      "Overall # of frames:  400  found with (before cropping) frame dimensions:  800 550\n",
      "Starting to extract posture\n"
     ]
    },
    {
     "name": "stderr",
     "output_type": "stream",
     "text": [
      "410it [00:40, 10.06it/s]                                                                                               \n"
     ]
    },
    {
     "name": "stdout",
     "output_type": "stream",
     "text": [
      "Saving results in D:\\Sidevideos\\ar32motor\\2021_08_02...\n",
      "Saving csv poses!\n",
      "Starting to analyze %  D:\\Sidevideos\\ar32motor\\2021_08_02\\82.avi\n",
      "D:\\Sidevideos\\ar32motor\\2021_08_02  already exists!\n",
      "Loading  D:\\Sidevideos\\ar32motor\\2021_08_02\\82.avi\n",
      "Duration of video [s]:  10.0 , recorded with  40.0 fps!\n",
      "Overall # of frames:  400  found with (before cropping) frame dimensions:  800 550\n",
      "Starting to extract posture\n"
     ]
    },
    {
     "name": "stderr",
     "output_type": "stream",
     "text": [
      "410it [00:41,  9.95it/s]                                                                                               \n"
     ]
    },
    {
     "name": "stdout",
     "output_type": "stream",
     "text": [
      "Saving results in D:\\Sidevideos\\ar32motor\\2021_08_02...\n",
      "Saving csv poses!\n",
      "Starting to analyze %  D:\\Sidevideos\\ar32motor\\2021_08_02\\83.avi\n",
      "D:\\Sidevideos\\ar32motor\\2021_08_02  already exists!\n",
      "Loading  D:\\Sidevideos\\ar32motor\\2021_08_02\\83.avi\n",
      "Duration of video [s]:  10.0 , recorded with  40.0 fps!\n",
      "Overall # of frames:  400  found with (before cropping) frame dimensions:  800 550\n",
      "Starting to extract posture\n"
     ]
    },
    {
     "name": "stderr",
     "output_type": "stream",
     "text": [
      "410it [00:41,  9.94it/s]                                                                                               \n"
     ]
    },
    {
     "name": "stdout",
     "output_type": "stream",
     "text": [
      "Saving results in D:\\Sidevideos\\ar32motor\\2021_08_02...\n",
      "Saving csv poses!\n",
      "Starting to analyze %  D:\\Sidevideos\\ar32motor\\2021_08_02\\84.avi\n",
      "D:\\Sidevideos\\ar32motor\\2021_08_02  already exists!\n",
      "Loading  D:\\Sidevideos\\ar32motor\\2021_08_02\\84.avi\n",
      "Duration of video [s]:  10.0 , recorded with  40.0 fps!\n",
      "Overall # of frames:  400  found with (before cropping) frame dimensions:  800 550\n",
      "Starting to extract posture\n"
     ]
    },
    {
     "name": "stderr",
     "output_type": "stream",
     "text": [
      "410it [00:41,  9.93it/s]                                                                                               \n"
     ]
    },
    {
     "name": "stdout",
     "output_type": "stream",
     "text": [
      "Saving results in D:\\Sidevideos\\ar32motor\\2021_08_02...\n",
      "Saving csv poses!\n",
      "Starting to analyze %  D:\\Sidevideos\\ar32motor\\2021_08_02\\85.avi\n",
      "D:\\Sidevideos\\ar32motor\\2021_08_02  already exists!\n",
      "Loading  D:\\Sidevideos\\ar32motor\\2021_08_02\\85.avi\n",
      "Duration of video [s]:  10.0 , recorded with  40.0 fps!\n",
      "Overall # of frames:  400  found with (before cropping) frame dimensions:  800 550\n",
      "Starting to extract posture\n"
     ]
    },
    {
     "name": "stderr",
     "output_type": "stream",
     "text": [
      "410it [00:41,  9.94it/s]                                                                                               \n"
     ]
    },
    {
     "name": "stdout",
     "output_type": "stream",
     "text": [
      "Saving results in D:\\Sidevideos\\ar32motor\\2021_08_02...\n",
      "Saving csv poses!\n",
      "Starting to analyze %  D:\\Sidevideos\\ar32motor\\2021_08_02\\86.avi\n",
      "D:\\Sidevideos\\ar32motor\\2021_08_02  already exists!\n",
      "Loading  D:\\Sidevideos\\ar32motor\\2021_08_02\\86.avi\n",
      "Duration of video [s]:  10.0 , recorded with  40.0 fps!\n",
      "Overall # of frames:  400  found with (before cropping) frame dimensions:  800 550\n",
      "Starting to extract posture\n"
     ]
    },
    {
     "name": "stderr",
     "output_type": "stream",
     "text": [
      "410it [00:41,  9.94it/s]                                                                                               \n"
     ]
    },
    {
     "name": "stdout",
     "output_type": "stream",
     "text": [
      "Saving results in D:\\Sidevideos\\ar32motor\\2021_08_02...\n",
      "Saving csv poses!\n",
      "Starting to analyze %  D:\\Sidevideos\\ar32motor\\2021_08_02\\87.avi\n",
      "D:\\Sidevideos\\ar32motor\\2021_08_02  already exists!\n",
      "Loading  D:\\Sidevideos\\ar32motor\\2021_08_02\\87.avi\n",
      "Duration of video [s]:  10.0 , recorded with  40.0 fps!\n",
      "Overall # of frames:  400  found with (before cropping) frame dimensions:  800 550\n",
      "Starting to extract posture\n"
     ]
    },
    {
     "name": "stderr",
     "output_type": "stream",
     "text": [
      "410it [00:41,  9.94it/s]                                                                                               \n"
     ]
    },
    {
     "name": "stdout",
     "output_type": "stream",
     "text": [
      "Saving results in D:\\Sidevideos\\ar32motor\\2021_08_02...\n",
      "Saving csv poses!\n",
      "Starting to analyze %  D:\\Sidevideos\\ar32motor\\2021_08_02\\88.avi\n",
      "D:\\Sidevideos\\ar32motor\\2021_08_02  already exists!\n",
      "Loading  D:\\Sidevideos\\ar32motor\\2021_08_02\\88.avi\n",
      "Duration of video [s]:  10.0 , recorded with  40.0 fps!\n",
      "Overall # of frames:  400  found with (before cropping) frame dimensions:  800 550\n",
      "Starting to extract posture\n"
     ]
    },
    {
     "name": "stderr",
     "output_type": "stream",
     "text": [
      "410it [00:41,  9.95it/s]                                                                                               \n"
     ]
    },
    {
     "name": "stdout",
     "output_type": "stream",
     "text": [
      "Saving results in D:\\Sidevideos\\ar32motor\\2021_08_02...\n",
      "Saving csv poses!\n",
      "Starting to analyze %  D:\\Sidevideos\\ar32motor\\2021_08_02\\89.avi\n",
      "D:\\Sidevideos\\ar32motor\\2021_08_02  already exists!\n",
      "Loading  D:\\Sidevideos\\ar32motor\\2021_08_02\\89.avi\n",
      "Duration of video [s]:  10.0 , recorded with  40.0 fps!\n",
      "Overall # of frames:  400  found with (before cropping) frame dimensions:  800 550\n",
      "Starting to extract posture\n"
     ]
    },
    {
     "name": "stderr",
     "output_type": "stream",
     "text": [
      "410it [00:40, 10.07it/s]                                                                                               \n"
     ]
    },
    {
     "name": "stdout",
     "output_type": "stream",
     "text": [
      "Saving results in D:\\Sidevideos\\ar32motor\\2021_08_02...\n",
      "Saving csv poses!\n",
      "Starting to analyze %  D:\\Sidevideos\\ar32motor\\2021_08_02\\9.avi\n",
      "D:\\Sidevideos\\ar32motor\\2021_08_02  already exists!\n",
      "Loading  D:\\Sidevideos\\ar32motor\\2021_08_02\\9.avi\n",
      "Duration of video [s]:  10.0 , recorded with  40.0 fps!\n",
      "Overall # of frames:  400  found with (before cropping) frame dimensions:  800 550\n",
      "Starting to extract posture\n"
     ]
    },
    {
     "name": "stderr",
     "output_type": "stream",
     "text": [
      "410it [00:40, 10.05it/s]                                                                                               \n"
     ]
    },
    {
     "name": "stdout",
     "output_type": "stream",
     "text": [
      "Saving results in D:\\Sidevideos\\ar32motor\\2021_08_02...\n",
      "Saving csv poses!\n",
      "Starting to analyze %  D:\\Sidevideos\\ar32motor\\2021_08_02\\90.avi\n",
      "D:\\Sidevideos\\ar32motor\\2021_08_02  already exists!\n",
      "Loading  D:\\Sidevideos\\ar32motor\\2021_08_02\\90.avi\n",
      "Duration of video [s]:  10.0 , recorded with  40.0 fps!\n",
      "Overall # of frames:  400  found with (before cropping) frame dimensions:  800 550\n",
      "Starting to extract posture\n"
     ]
    },
    {
     "name": "stderr",
     "output_type": "stream",
     "text": [
      "410it [00:40, 10.05it/s]                                                                                               \n"
     ]
    },
    {
     "name": "stdout",
     "output_type": "stream",
     "text": [
      "Saving results in D:\\Sidevideos\\ar32motor\\2021_08_02...\n",
      "Saving csv poses!\n",
      "Starting to analyze %  D:\\Sidevideos\\ar32motor\\2021_08_02\\91.avi\n",
      "D:\\Sidevideos\\ar32motor\\2021_08_02  already exists!\n",
      "Loading  D:\\Sidevideos\\ar32motor\\2021_08_02\\91.avi\n",
      "Duration of video [s]:  6.08 , recorded with  40.0 fps!\n",
      "Overall # of frames:  243  found with (before cropping) frame dimensions:  800 550\n",
      "Starting to extract posture\n"
     ]
    },
    {
     "name": "stderr",
     "output_type": "stream",
     "text": [
      "250it [00:25,  9.89it/s]                                                                                               \n"
     ]
    },
    {
     "name": "stdout",
     "output_type": "stream",
     "text": [
      "Saving results in D:\\Sidevideos\\ar32motor\\2021_08_02...\n",
      "Saving csv poses!\n",
      "Starting to analyze %  D:\\Sidevideos\\ar32motor\\2021_08_02\\92.avi\n",
      "D:\\Sidevideos\\ar32motor\\2021_08_02  already exists!\n",
      "Loading  D:\\Sidevideos\\ar32motor\\2021_08_02\\92.avi\n",
      "Duration of video [s]:  3.67 , recorded with  40.0 fps!\n",
      "Overall # of frames:  147  found with (before cropping) frame dimensions:  800 550\n",
      "Starting to extract posture\n"
     ]
    },
    {
     "name": "stderr",
     "output_type": "stream",
     "text": [
      "150it [00:15,  9.71it/s]                                                                                               \n"
     ]
    },
    {
     "name": "stdout",
     "output_type": "stream",
     "text": [
      "Saving results in D:\\Sidevideos\\ar32motor\\2021_08_02...\n",
      "Saving csv poses!\n",
      "Starting to analyze %  D:\\Sidevideos\\ar32motor\\2021_08_02\\93.avi\n",
      "D:\\Sidevideos\\ar32motor\\2021_08_02  already exists!\n",
      "Loading  D:\\Sidevideos\\ar32motor\\2021_08_02\\93.avi\n",
      "Duration of video [s]:  3.15 , recorded with  40.0 fps!\n",
      "Overall # of frames:  126  found with (before cropping) frame dimensions:  800 550\n",
      "Starting to extract posture\n"
     ]
    },
    {
     "name": "stderr",
     "output_type": "stream",
     "text": [
      "130it [00:13,  9.97it/s]                                                                                               \n"
     ]
    },
    {
     "name": "stdout",
     "output_type": "stream",
     "text": [
      "Saving results in D:\\Sidevideos\\ar32motor\\2021_08_02...\n",
      "Saving csv poses!\n",
      "Starting to analyze %  D:\\Sidevideos\\ar32motor\\2021_08_02\\94.avi\n",
      "D:\\Sidevideos\\ar32motor\\2021_08_02  already exists!\n",
      "Loading  D:\\Sidevideos\\ar32motor\\2021_08_02\\94.avi\n",
      "Duration of video [s]:  2.67 , recorded with  40.0 fps!\n",
      "Overall # of frames:  107  found with (before cropping) frame dimensions:  800 550\n",
      "Starting to extract posture\n"
     ]
    },
    {
     "name": "stderr",
     "output_type": "stream",
     "text": [
      "110it [00:11,  9.66it/s]                                                                                               \n"
     ]
    },
    {
     "name": "stdout",
     "output_type": "stream",
     "text": [
      "Saving results in D:\\Sidevideos\\ar32motor\\2021_08_02...\n",
      "Saving csv poses!\n",
      "Starting to analyze %  D:\\Sidevideos\\ar32motor\\2021_08_02\\95.avi\n",
      "D:\\Sidevideos\\ar32motor\\2021_08_02  already exists!\n",
      "Loading  D:\\Sidevideos\\ar32motor\\2021_08_02\\95.avi\n",
      "Duration of video [s]:  4.97 , recorded with  40.0 fps!\n",
      "Overall # of frames:  199  found with (before cropping) frame dimensions:  800 550\n",
      "Starting to extract posture\n"
     ]
    },
    {
     "name": "stderr",
     "output_type": "stream",
     "text": [
      "200it [00:20,  9.80it/s]                                                                                               \n"
     ]
    },
    {
     "name": "stdout",
     "output_type": "stream",
     "text": [
      "Saving results in D:\\Sidevideos\\ar32motor\\2021_08_02...\n",
      "Saving csv poses!\n",
      "Starting to analyze %  D:\\Sidevideos\\ar32motor\\2021_08_02\\96.avi\n",
      "D:\\Sidevideos\\ar32motor\\2021_08_02  already exists!\n",
      "Loading  D:\\Sidevideos\\ar32motor\\2021_08_02\\96.avi\n",
      "Duration of video [s]:  3.2 , recorded with  40.0 fps!\n",
      "Overall # of frames:  128  found with (before cropping) frame dimensions:  800 550\n",
      "Starting to extract posture\n"
     ]
    },
    {
     "name": "stderr",
     "output_type": "stream",
     "text": [
      "130it [00:13,  9.97it/s]                                                                                               \n"
     ]
    },
    {
     "name": "stdout",
     "output_type": "stream",
     "text": [
      "Saving results in D:\\Sidevideos\\ar32motor\\2021_08_02...\n",
      "Saving csv poses!\n",
      "Starting to analyze %  D:\\Sidevideos\\ar32motor\\2021_08_02\\97.avi\n",
      "D:\\Sidevideos\\ar32motor\\2021_08_02  already exists!\n",
      "Loading  D:\\Sidevideos\\ar32motor\\2021_08_02\\97.avi\n",
      "Duration of video [s]:  3.25 , recorded with  40.0 fps!\n",
      "Overall # of frames:  130  found with (before cropping) frame dimensions:  800 550\n",
      "Starting to extract posture\n"
     ]
    },
    {
     "name": "stderr",
     "output_type": "stream",
     "text": [
      "140it [00:13, 10.16it/s]                                                                                               \n"
     ]
    },
    {
     "name": "stdout",
     "output_type": "stream",
     "text": [
      "Saving results in D:\\Sidevideos\\ar32motor\\2021_08_02...\n",
      "Saving csv poses!\n",
      "Starting to analyze %  D:\\Sidevideos\\ar32motor\\2021_08_02\\98.avi\n",
      "D:\\Sidevideos\\ar32motor\\2021_08_02  already exists!\n",
      "Loading  D:\\Sidevideos\\ar32motor\\2021_08_02\\98.avi\n",
      "Duration of video [s]:  3.15 , recorded with  40.0 fps!\n",
      "Overall # of frames:  126  found with (before cropping) frame dimensions:  800 550\n",
      "Starting to extract posture\n"
     ]
    },
    {
     "name": "stderr",
     "output_type": "stream",
     "text": [
      "130it [00:12, 10.03it/s]                                                                                               \n"
     ]
    },
    {
     "name": "stdout",
     "output_type": "stream",
     "text": [
      "Saving results in D:\\Sidevideos\\ar32motor\\2021_08_02...\n",
      "Saving csv poses!\n",
      "Starting to analyze %  D:\\Sidevideos\\ar32motor\\2021_08_02\\99.avi\n",
      "D:\\Sidevideos\\ar32motor\\2021_08_02  already exists!\n",
      "Loading  D:\\Sidevideos\\ar32motor\\2021_08_02\\99.avi\n",
      "Duration of video [s]:  10.0 , recorded with  40.0 fps!\n",
      "Overall # of frames:  400  found with (before cropping) frame dimensions:  800 550\n",
      "Starting to extract posture\n"
     ]
    },
    {
     "name": "stderr",
     "output_type": "stream",
     "text": [
      "410it [00:40, 10.07it/s]                                                                                               \n"
     ]
    },
    {
     "name": "stdout",
     "output_type": "stream",
     "text": [
      "Saving results in D:\\Sidevideos\\ar32motor\\2021_08_02...\n",
      "Saving csv poses!\n",
      "The videos are analyzed. Now your research can truly start! \n",
      " You can create labeled videos with 'create_labeled_video'\n",
      "If the tracking is not satisfactory for some videos, consider expanding the training set. You can use the function 'extract_outlier_frames' to extract a few representative outlier frames.\n",
      "Filtering with median model D:\\Sidevideos\\ar32motor\\2021_08_02\\0.avi\n",
      "Saving filtered csv poses!\n",
      "Filtering with median model D:\\Sidevideos\\ar32motor\\2021_08_02\\1.avi\n",
      "Saving filtered csv poses!\n",
      "Filtering with median model D:\\Sidevideos\\ar32motor\\2021_08_02\\10.avi\n",
      "Saving filtered csv poses!\n",
      "Filtering with median model D:\\Sidevideos\\ar32motor\\2021_08_02\\100.avi\n",
      "Saving filtered csv poses!\n",
      "Filtering with median model D:\\Sidevideos\\ar32motor\\2021_08_02\\101.avi\n",
      "Saving filtered csv poses!\n",
      "Filtering with median model D:\\Sidevideos\\ar32motor\\2021_08_02\\102.avi\n",
      "Saving filtered csv poses!\n",
      "Filtering with median model D:\\Sidevideos\\ar32motor\\2021_08_02\\103.avi\n",
      "Saving filtered csv poses!\n",
      "Filtering with median model D:\\Sidevideos\\ar32motor\\2021_08_02\\104.avi\n",
      "Saving filtered csv poses!\n",
      "Filtering with median model D:\\Sidevideos\\ar32motor\\2021_08_02\\105.avi\n",
      "Saving filtered csv poses!\n",
      "Filtering with median model D:\\Sidevideos\\ar32motor\\2021_08_02\\106.avi\n",
      "Saving filtered csv poses!\n",
      "Filtering with median model D:\\Sidevideos\\ar32motor\\2021_08_02\\107.avi\n",
      "Saving filtered csv poses!\n",
      "Filtering with median model D:\\Sidevideos\\ar32motor\\2021_08_02\\108.avi\n",
      "Saving filtered csv poses!\n",
      "Filtering with median model D:\\Sidevideos\\ar32motor\\2021_08_02\\109.avi\n",
      "Saving filtered csv poses!\n",
      "Filtering with median model D:\\Sidevideos\\ar32motor\\2021_08_02\\11.avi\n",
      "Saving filtered csv poses!\n",
      "Filtering with median model D:\\Sidevideos\\ar32motor\\2021_08_02\\110.avi\n",
      "Saving filtered csv poses!\n",
      "Filtering with median model D:\\Sidevideos\\ar32motor\\2021_08_02\\111.avi\n",
      "Saving filtered csv poses!\n",
      "Filtering with median model D:\\Sidevideos\\ar32motor\\2021_08_02\\112.avi\n",
      "Saving filtered csv poses!\n",
      "Filtering with median model D:\\Sidevideos\\ar32motor\\2021_08_02\\113.avi\n",
      "Saving filtered csv poses!\n",
      "Filtering with median model D:\\Sidevideos\\ar32motor\\2021_08_02\\114.avi\n",
      "Saving filtered csv poses!\n",
      "Filtering with median model D:\\Sidevideos\\ar32motor\\2021_08_02\\115.avi\n",
      "Saving filtered csv poses!\n",
      "Filtering with median model D:\\Sidevideos\\ar32motor\\2021_08_02\\116.avi\n",
      "Saving filtered csv poses!\n",
      "Filtering with median model D:\\Sidevideos\\ar32motor\\2021_08_02\\117.avi\n",
      "Saving filtered csv poses!\n",
      "Filtering with median model D:\\Sidevideos\\ar32motor\\2021_08_02\\118.avi\n",
      "Saving filtered csv poses!\n",
      "Filtering with median model D:\\Sidevideos\\ar32motor\\2021_08_02\\119.avi\n",
      "Saving filtered csv poses!\n",
      "Filtering with median model D:\\Sidevideos\\ar32motor\\2021_08_02\\12.avi\n",
      "Saving filtered csv poses!\n",
      "Filtering with median model D:\\Sidevideos\\ar32motor\\2021_08_02\\120.avi\n",
      "Saving filtered csv poses!\n",
      "Filtering with median model D:\\Sidevideos\\ar32motor\\2021_08_02\\121.avi\n",
      "Saving filtered csv poses!\n",
      "Filtering with median model D:\\Sidevideos\\ar32motor\\2021_08_02\\122.avi\n",
      "Saving filtered csv poses!\n",
      "Filtering with median model D:\\Sidevideos\\ar32motor\\2021_08_02\\123.avi\n",
      "Saving filtered csv poses!\n",
      "Filtering with median model D:\\Sidevideos\\ar32motor\\2021_08_02\\124.avi\n",
      "Saving filtered csv poses!\n",
      "Filtering with median model D:\\Sidevideos\\ar32motor\\2021_08_02\\125.avi\n",
      "Saving filtered csv poses!\n",
      "Filtering with median model D:\\Sidevideos\\ar32motor\\2021_08_02\\126.avi\n",
      "Saving filtered csv poses!\n",
      "Filtering with median model D:\\Sidevideos\\ar32motor\\2021_08_02\\127.avi\n",
      "Saving filtered csv poses!\n",
      "Filtering with median model D:\\Sidevideos\\ar32motor\\2021_08_02\\128.avi\n",
      "Saving filtered csv poses!\n",
      "Filtering with median model D:\\Sidevideos\\ar32motor\\2021_08_02\\129.avi\n",
      "Saving filtered csv poses!\n",
      "Filtering with median model D:\\Sidevideos\\ar32motor\\2021_08_02\\13.avi\n",
      "Saving filtered csv poses!\n",
      "Filtering with median model D:\\Sidevideos\\ar32motor\\2021_08_02\\130.avi\n",
      "Saving filtered csv poses!\n",
      "Filtering with median model D:\\Sidevideos\\ar32motor\\2021_08_02\\131.avi\n",
      "Saving filtered csv poses!\n",
      "Filtering with median model D:\\Sidevideos\\ar32motor\\2021_08_02\\132.avi\n",
      "Saving filtered csv poses!\n",
      "Filtering with median model D:\\Sidevideos\\ar32motor\\2021_08_02\\133.avi\n",
      "Saving filtered csv poses!\n",
      "Filtering with median model D:\\Sidevideos\\ar32motor\\2021_08_02\\134.avi\n",
      "Saving filtered csv poses!\n",
      "Filtering with median model D:\\Sidevideos\\ar32motor\\2021_08_02\\135.avi\n",
      "Saving filtered csv poses!\n",
      "Filtering with median model D:\\Sidevideos\\ar32motor\\2021_08_02\\136.avi\n",
      "Saving filtered csv poses!\n",
      "Filtering with median model D:\\Sidevideos\\ar32motor\\2021_08_02\\137.avi\n",
      "Saving filtered csv poses!\n",
      "Filtering with median model D:\\Sidevideos\\ar32motor\\2021_08_02\\138.avi\n",
      "Saving filtered csv poses!\n",
      "Filtering with median model D:\\Sidevideos\\ar32motor\\2021_08_02\\139.avi\n",
      "Saving filtered csv poses!\n",
      "Filtering with median model D:\\Sidevideos\\ar32motor\\2021_08_02\\14.avi\n",
      "Saving filtered csv poses!\n",
      "Filtering with median model D:\\Sidevideos\\ar32motor\\2021_08_02\\140.avi\n",
      "Saving filtered csv poses!\n",
      "Filtering with median model D:\\Sidevideos\\ar32motor\\2021_08_02\\141.avi\n",
      "Saving filtered csv poses!\n",
      "Filtering with median model D:\\Sidevideos\\ar32motor\\2021_08_02\\142.avi\n",
      "Saving filtered csv poses!\n",
      "Filtering with median model D:\\Sidevideos\\ar32motor\\2021_08_02\\143.avi\n",
      "Saving filtered csv poses!\n",
      "Filtering with median model D:\\Sidevideos\\ar32motor\\2021_08_02\\144.avi\n",
      "Saving filtered csv poses!\n",
      "Filtering with median model D:\\Sidevideos\\ar32motor\\2021_08_02\\145.avi\n",
      "Saving filtered csv poses!\n",
      "Filtering with median model D:\\Sidevideos\\ar32motor\\2021_08_02\\146.avi\n",
      "Saving filtered csv poses!\n",
      "Filtering with median model D:\\Sidevideos\\ar32motor\\2021_08_02\\147.avi\n",
      "Saving filtered csv poses!\n",
      "Filtering with median model D:\\Sidevideos\\ar32motor\\2021_08_02\\148.avi\n",
      "Saving filtered csv poses!\n",
      "Filtering with median model D:\\Sidevideos\\ar32motor\\2021_08_02\\149.avi\n",
      "Saving filtered csv poses!\n",
      "Filtering with median model D:\\Sidevideos\\ar32motor\\2021_08_02\\15.avi\n",
      "Saving filtered csv poses!\n",
      "Filtering with median model D:\\Sidevideos\\ar32motor\\2021_08_02\\150.avi\n",
      "Saving filtered csv poses!\n",
      "Filtering with median model D:\\Sidevideos\\ar32motor\\2021_08_02\\151.avi\n",
      "Saving filtered csv poses!\n",
      "Filtering with median model D:\\Sidevideos\\ar32motor\\2021_08_02\\152.avi\n",
      "Saving filtered csv poses!\n",
      "Filtering with median model D:\\Sidevideos\\ar32motor\\2021_08_02\\153.avi\n",
      "Saving filtered csv poses!\n",
      "Filtering with median model D:\\Sidevideos\\ar32motor\\2021_08_02\\154.avi\n",
      "Saving filtered csv poses!\n",
      "Filtering with median model D:\\Sidevideos\\ar32motor\\2021_08_02\\155.avi\n",
      "Saving filtered csv poses!\n",
      "Filtering with median model D:\\Sidevideos\\ar32motor\\2021_08_02\\156.avi\n",
      "Saving filtered csv poses!\n",
      "Filtering with median model D:\\Sidevideos\\ar32motor\\2021_08_02\\157.avi\n",
      "Saving filtered csv poses!\n",
      "Filtering with median model D:\\Sidevideos\\ar32motor\\2021_08_02\\158.avi\n",
      "Saving filtered csv poses!\n",
      "Filtering with median model D:\\Sidevideos\\ar32motor\\2021_08_02\\159.avi\n",
      "Saving filtered csv poses!\n",
      "Filtering with median model D:\\Sidevideos\\ar32motor\\2021_08_02\\16.avi\n",
      "Saving filtered csv poses!\n",
      "Filtering with median model D:\\Sidevideos\\ar32motor\\2021_08_02\\160.avi\n",
      "Saving filtered csv poses!\n",
      "Filtering with median model D:\\Sidevideos\\ar32motor\\2021_08_02\\161.avi\n",
      "Saving filtered csv poses!\n",
      "Filtering with median model D:\\Sidevideos\\ar32motor\\2021_08_02\\162.avi\n",
      "Saving filtered csv poses!\n",
      "Filtering with median model D:\\Sidevideos\\ar32motor\\2021_08_02\\163.avi\n",
      "Saving filtered csv poses!\n",
      "Filtering with median model D:\\Sidevideos\\ar32motor\\2021_08_02\\164.avi\n",
      "Saving filtered csv poses!\n",
      "Filtering with median model D:\\Sidevideos\\ar32motor\\2021_08_02\\165.avi\n",
      "Saving filtered csv poses!\n",
      "Filtering with median model D:\\Sidevideos\\ar32motor\\2021_08_02\\166.avi\n",
      "Saving filtered csv poses!\n",
      "Filtering with median model D:\\Sidevideos\\ar32motor\\2021_08_02\\167.avi\n",
      "Saving filtered csv poses!\n",
      "Filtering with median model D:\\Sidevideos\\ar32motor\\2021_08_02\\168.avi\n",
      "Saving filtered csv poses!\n",
      "Filtering with median model D:\\Sidevideos\\ar32motor\\2021_08_02\\169.avi\n",
      "Saving filtered csv poses!\n",
      "Filtering with median model D:\\Sidevideos\\ar32motor\\2021_08_02\\17.avi\n",
      "Saving filtered csv poses!\n"
     ]
    },
    {
     "name": "stdout",
     "output_type": "stream",
     "text": [
      "Filtering with median model D:\\Sidevideos\\ar32motor\\2021_08_02\\170.avi\n",
      "Saving filtered csv poses!\n",
      "Filtering with median model D:\\Sidevideos\\ar32motor\\2021_08_02\\171.avi\n",
      "Saving filtered csv poses!\n",
      "Filtering with median model D:\\Sidevideos\\ar32motor\\2021_08_02\\172.avi\n",
      "Saving filtered csv poses!\n",
      "Filtering with median model D:\\Sidevideos\\ar32motor\\2021_08_02\\173.avi\n",
      "Saving filtered csv poses!\n",
      "Filtering with median model D:\\Sidevideos\\ar32motor\\2021_08_02\\174.avi\n",
      "Saving filtered csv poses!\n",
      "Filtering with median model D:\\Sidevideos\\ar32motor\\2021_08_02\\175.avi\n",
      "Saving filtered csv poses!\n",
      "Filtering with median model D:\\Sidevideos\\ar32motor\\2021_08_02\\176.avi\n",
      "Saving filtered csv poses!\n",
      "Filtering with median model D:\\Sidevideos\\ar32motor\\2021_08_02\\177.avi\n",
      "Saving filtered csv poses!\n",
      "Filtering with median model D:\\Sidevideos\\ar32motor\\2021_08_02\\178.avi\n",
      "Saving filtered csv poses!\n",
      "Filtering with median model D:\\Sidevideos\\ar32motor\\2021_08_02\\179.avi\n",
      "Saving filtered csv poses!\n",
      "Filtering with median model D:\\Sidevideos\\ar32motor\\2021_08_02\\18.avi\n",
      "Saving filtered csv poses!\n",
      "Filtering with median model D:\\Sidevideos\\ar32motor\\2021_08_02\\180.avi\n",
      "Saving filtered csv poses!\n",
      "Filtering with median model D:\\Sidevideos\\ar32motor\\2021_08_02\\181.avi\n",
      "Saving filtered csv poses!\n",
      "Filtering with median model D:\\Sidevideos\\ar32motor\\2021_08_02\\182.avi\n",
      "Saving filtered csv poses!\n",
      "Filtering with median model D:\\Sidevideos\\ar32motor\\2021_08_02\\183.avi\n",
      "Saving filtered csv poses!\n",
      "Filtering with median model D:\\Sidevideos\\ar32motor\\2021_08_02\\184.avi\n",
      "Saving filtered csv poses!\n",
      "Filtering with median model D:\\Sidevideos\\ar32motor\\2021_08_02\\185.avi\n",
      "Saving filtered csv poses!\n",
      "Filtering with median model D:\\Sidevideos\\ar32motor\\2021_08_02\\186.avi\n",
      "Saving filtered csv poses!\n",
      "Filtering with median model D:\\Sidevideos\\ar32motor\\2021_08_02\\187.avi\n",
      "Saving filtered csv poses!\n",
      "Filtering with median model D:\\Sidevideos\\ar32motor\\2021_08_02\\188.avi\n",
      "Saving filtered csv poses!\n",
      "Filtering with median model D:\\Sidevideos\\ar32motor\\2021_08_02\\189.avi\n",
      "Saving filtered csv poses!\n",
      "Filtering with median model D:\\Sidevideos\\ar32motor\\2021_08_02\\19.avi\n",
      "Saving filtered csv poses!\n",
      "Filtering with median model D:\\Sidevideos\\ar32motor\\2021_08_02\\190.avi\n",
      "Saving filtered csv poses!\n",
      "Filtering with median model D:\\Sidevideos\\ar32motor\\2021_08_02\\191.avi\n",
      "Saving filtered csv poses!\n",
      "Filtering with median model D:\\Sidevideos\\ar32motor\\2021_08_02\\192.avi\n",
      "Saving filtered csv poses!\n",
      "Filtering with median model D:\\Sidevideos\\ar32motor\\2021_08_02\\193.avi\n",
      "Saving filtered csv poses!\n",
      "Filtering with median model D:\\Sidevideos\\ar32motor\\2021_08_02\\194.avi\n",
      "Saving filtered csv poses!\n",
      "Filtering with median model D:\\Sidevideos\\ar32motor\\2021_08_02\\195.avi\n",
      "Saving filtered csv poses!\n",
      "Filtering with median model D:\\Sidevideos\\ar32motor\\2021_08_02\\196.avi\n",
      "Saving filtered csv poses!\n",
      "Filtering with median model D:\\Sidevideos\\ar32motor\\2021_08_02\\197.avi\n",
      "Saving filtered csv poses!\n",
      "Filtering with median model D:\\Sidevideos\\ar32motor\\2021_08_02\\198.avi\n",
      "Saving filtered csv poses!\n",
      "Filtering with median model D:\\Sidevideos\\ar32motor\\2021_08_02\\199.avi\n",
      "Saving filtered csv poses!\n",
      "Filtering with median model D:\\Sidevideos\\ar32motor\\2021_08_02\\2.avi\n",
      "Saving filtered csv poses!\n",
      "Filtering with median model D:\\Sidevideos\\ar32motor\\2021_08_02\\20.avi\n",
      "Saving filtered csv poses!\n",
      "Filtering with median model D:\\Sidevideos\\ar32motor\\2021_08_02\\200.avi\n",
      "Saving filtered csv poses!\n",
      "Filtering with median model D:\\Sidevideos\\ar32motor\\2021_08_02\\201.avi\n",
      "Saving filtered csv poses!\n",
      "Filtering with median model D:\\Sidevideos\\ar32motor\\2021_08_02\\202.avi\n",
      "Saving filtered csv poses!\n",
      "Filtering with median model D:\\Sidevideos\\ar32motor\\2021_08_02\\203.avi\n",
      "Saving filtered csv poses!\n",
      "Filtering with median model D:\\Sidevideos\\ar32motor\\2021_08_02\\204.avi\n",
      "Saving filtered csv poses!\n",
      "Filtering with median model D:\\Sidevideos\\ar32motor\\2021_08_02\\205.avi\n",
      "Saving filtered csv poses!\n",
      "Filtering with median model D:\\Sidevideos\\ar32motor\\2021_08_02\\206.avi\n",
      "Saving filtered csv poses!\n",
      "Filtering with median model D:\\Sidevideos\\ar32motor\\2021_08_02\\207.avi\n",
      "Saving filtered csv poses!\n",
      "Filtering with median model D:\\Sidevideos\\ar32motor\\2021_08_02\\208.avi\n",
      "Saving filtered csv poses!\n",
      "Filtering with median model D:\\Sidevideos\\ar32motor\\2021_08_02\\209.avi\n",
      "Saving filtered csv poses!\n",
      "Filtering with median model D:\\Sidevideos\\ar32motor\\2021_08_02\\21.avi\n",
      "Saving filtered csv poses!\n",
      "Filtering with median model D:\\Sidevideos\\ar32motor\\2021_08_02\\210.avi\n",
      "Saving filtered csv poses!\n",
      "Filtering with median model D:\\Sidevideos\\ar32motor\\2021_08_02\\211.avi\n",
      "Saving filtered csv poses!\n",
      "Filtering with median model D:\\Sidevideos\\ar32motor\\2021_08_02\\212.avi\n",
      "Saving filtered csv poses!\n",
      "Filtering with median model D:\\Sidevideos\\ar32motor\\2021_08_02\\213.avi\n",
      "Saving filtered csv poses!\n",
      "Filtering with median model D:\\Sidevideos\\ar32motor\\2021_08_02\\214.avi\n",
      "Saving filtered csv poses!\n",
      "Filtering with median model D:\\Sidevideos\\ar32motor\\2021_08_02\\215.avi\n",
      "Saving filtered csv poses!\n",
      "Filtering with median model D:\\Sidevideos\\ar32motor\\2021_08_02\\216.avi\n",
      "Saving filtered csv poses!\n",
      "Filtering with median model D:\\Sidevideos\\ar32motor\\2021_08_02\\217.avi\n",
      "Saving filtered csv poses!\n",
      "Filtering with median model D:\\Sidevideos\\ar32motor\\2021_08_02\\218.avi\n",
      "Saving filtered csv poses!\n",
      "Filtering with median model D:\\Sidevideos\\ar32motor\\2021_08_02\\219.avi\n",
      "Saving filtered csv poses!\n",
      "Filtering with median model D:\\Sidevideos\\ar32motor\\2021_08_02\\22.avi\n",
      "Saving filtered csv poses!\n",
      "Filtering with median model D:\\Sidevideos\\ar32motor\\2021_08_02\\220.avi\n",
      "Saving filtered csv poses!\n",
      "Filtering with median model D:\\Sidevideos\\ar32motor\\2021_08_02\\221.avi\n",
      "Saving filtered csv poses!\n",
      "Filtering with median model D:\\Sidevideos\\ar32motor\\2021_08_02\\222.avi\n",
      "Saving filtered csv poses!\n",
      "Filtering with median model D:\\Sidevideos\\ar32motor\\2021_08_02\\223.avi\n",
      "Saving filtered csv poses!\n",
      "Filtering with median model D:\\Sidevideos\\ar32motor\\2021_08_02\\224.avi\n",
      "Saving filtered csv poses!\n",
      "Filtering with median model D:\\Sidevideos\\ar32motor\\2021_08_02\\225.avi\n",
      "Saving filtered csv poses!\n",
      "Filtering with median model D:\\Sidevideos\\ar32motor\\2021_08_02\\226.avi\n",
      "Saving filtered csv poses!\n",
      "Filtering with median model D:\\Sidevideos\\ar32motor\\2021_08_02\\227.avi\n",
      "Saving filtered csv poses!\n",
      "Filtering with median model D:\\Sidevideos\\ar32motor\\2021_08_02\\228.avi\n",
      "Saving filtered csv poses!\n",
      "Filtering with median model D:\\Sidevideos\\ar32motor\\2021_08_02\\229.avi\n",
      "Saving filtered csv poses!\n",
      "Filtering with median model D:\\Sidevideos\\ar32motor\\2021_08_02\\23.avi\n",
      "Saving filtered csv poses!\n",
      "Filtering with median model D:\\Sidevideos\\ar32motor\\2021_08_02\\230.avi\n",
      "Saving filtered csv poses!\n",
      "Filtering with median model D:\\Sidevideos\\ar32motor\\2021_08_02\\231.avi\n",
      "Saving filtered csv poses!\n",
      "Filtering with median model D:\\Sidevideos\\ar32motor\\2021_08_02\\232.avi\n",
      "Saving filtered csv poses!\n",
      "Filtering with median model D:\\Sidevideos\\ar32motor\\2021_08_02\\24.avi\n",
      "Saving filtered csv poses!\n",
      "Filtering with median model D:\\Sidevideos\\ar32motor\\2021_08_02\\25.avi\n",
      "Saving filtered csv poses!\n",
      "Filtering with median model D:\\Sidevideos\\ar32motor\\2021_08_02\\26.avi\n",
      "Saving filtered csv poses!\n",
      "Filtering with median model D:\\Sidevideos\\ar32motor\\2021_08_02\\27.avi\n",
      "Saving filtered csv poses!\n",
      "Filtering with median model D:\\Sidevideos\\ar32motor\\2021_08_02\\28.avi\n",
      "Saving filtered csv poses!\n",
      "Filtering with median model D:\\Sidevideos\\ar32motor\\2021_08_02\\29.avi\n",
      "Saving filtered csv poses!\n",
      "Filtering with median model D:\\Sidevideos\\ar32motor\\2021_08_02\\3.avi\n",
      "Saving filtered csv poses!\n",
      "Filtering with median model D:\\Sidevideos\\ar32motor\\2021_08_02\\30.avi\n",
      "Saving filtered csv poses!\n",
      "Filtering with median model D:\\Sidevideos\\ar32motor\\2021_08_02\\31.avi\n",
      "Saving filtered csv poses!\n",
      "Filtering with median model D:\\Sidevideos\\ar32motor\\2021_08_02\\32.avi\n",
      "Saving filtered csv poses!\n",
      "Filtering with median model D:\\Sidevideos\\ar32motor\\2021_08_02\\33.avi\n",
      "Saving filtered csv poses!\n",
      "Filtering with median model D:\\Sidevideos\\ar32motor\\2021_08_02\\34.avi\n",
      "Saving filtered csv poses!\n",
      "Filtering with median model D:\\Sidevideos\\ar32motor\\2021_08_02\\35.avi\n",
      "Saving filtered csv poses!\n",
      "Filtering with median model D:\\Sidevideos\\ar32motor\\2021_08_02\\36.avi\n",
      "Saving filtered csv poses!\n"
     ]
    },
    {
     "name": "stdout",
     "output_type": "stream",
     "text": [
      "Filtering with median model D:\\Sidevideos\\ar32motor\\2021_08_02\\37.avi\n",
      "Saving filtered csv poses!\n",
      "Filtering with median model D:\\Sidevideos\\ar32motor\\2021_08_02\\38.avi\n",
      "Saving filtered csv poses!\n",
      "Filtering with median model D:\\Sidevideos\\ar32motor\\2021_08_02\\39.avi\n",
      "Saving filtered csv poses!\n",
      "Filtering with median model D:\\Sidevideos\\ar32motor\\2021_08_02\\4.avi\n",
      "Saving filtered csv poses!\n",
      "Filtering with median model D:\\Sidevideos\\ar32motor\\2021_08_02\\40.avi\n",
      "Saving filtered csv poses!\n",
      "Filtering with median model D:\\Sidevideos\\ar32motor\\2021_08_02\\41.avi\n",
      "Saving filtered csv poses!\n",
      "Filtering with median model D:\\Sidevideos\\ar32motor\\2021_08_02\\42.avi\n",
      "Saving filtered csv poses!\n",
      "Filtering with median model D:\\Sidevideos\\ar32motor\\2021_08_02\\43.avi\n",
      "Saving filtered csv poses!\n",
      "Filtering with median model D:\\Sidevideos\\ar32motor\\2021_08_02\\44.avi\n",
      "Saving filtered csv poses!\n",
      "Filtering with median model D:\\Sidevideos\\ar32motor\\2021_08_02\\45.avi\n",
      "Saving filtered csv poses!\n",
      "Filtering with median model D:\\Sidevideos\\ar32motor\\2021_08_02\\46.avi\n",
      "Saving filtered csv poses!\n",
      "Filtering with median model D:\\Sidevideos\\ar32motor\\2021_08_02\\47.avi\n",
      "Saving filtered csv poses!\n",
      "Filtering with median model D:\\Sidevideos\\ar32motor\\2021_08_02\\48.avi\n",
      "Saving filtered csv poses!\n",
      "Filtering with median model D:\\Sidevideos\\ar32motor\\2021_08_02\\49.avi\n",
      "Saving filtered csv poses!\n",
      "Filtering with median model D:\\Sidevideos\\ar32motor\\2021_08_02\\5.avi\n",
      "Saving filtered csv poses!\n",
      "Filtering with median model D:\\Sidevideos\\ar32motor\\2021_08_02\\50.avi\n",
      "Saving filtered csv poses!\n",
      "Filtering with median model D:\\Sidevideos\\ar32motor\\2021_08_02\\51.avi\n",
      "Saving filtered csv poses!\n",
      "Filtering with median model D:\\Sidevideos\\ar32motor\\2021_08_02\\52.avi\n",
      "Saving filtered csv poses!\n",
      "Filtering with median model D:\\Sidevideos\\ar32motor\\2021_08_02\\53.avi\n",
      "Saving filtered csv poses!\n",
      "Filtering with median model D:\\Sidevideos\\ar32motor\\2021_08_02\\54.avi\n",
      "Saving filtered csv poses!\n",
      "Filtering with median model D:\\Sidevideos\\ar32motor\\2021_08_02\\55.avi\n",
      "Saving filtered csv poses!\n",
      "Filtering with median model D:\\Sidevideos\\ar32motor\\2021_08_02\\56.avi\n",
      "Saving filtered csv poses!\n",
      "Filtering with median model D:\\Sidevideos\\ar32motor\\2021_08_02\\57.avi\n",
      "Saving filtered csv poses!\n",
      "Filtering with median model D:\\Sidevideos\\ar32motor\\2021_08_02\\58.avi\n",
      "Saving filtered csv poses!\n",
      "Filtering with median model D:\\Sidevideos\\ar32motor\\2021_08_02\\59.avi\n",
      "Saving filtered csv poses!\n",
      "Filtering with median model D:\\Sidevideos\\ar32motor\\2021_08_02\\6.avi\n",
      "Saving filtered csv poses!\n",
      "Filtering with median model D:\\Sidevideos\\ar32motor\\2021_08_02\\60.avi\n",
      "Saving filtered csv poses!\n",
      "Filtering with median model D:\\Sidevideos\\ar32motor\\2021_08_02\\61.avi\n",
      "Saving filtered csv poses!\n",
      "Filtering with median model D:\\Sidevideos\\ar32motor\\2021_08_02\\62.avi\n",
      "Saving filtered csv poses!\n",
      "Filtering with median model D:\\Sidevideos\\ar32motor\\2021_08_02\\63.avi\n",
      "Saving filtered csv poses!\n",
      "Filtering with median model D:\\Sidevideos\\ar32motor\\2021_08_02\\64.avi\n",
      "Saving filtered csv poses!\n",
      "Filtering with median model D:\\Sidevideos\\ar32motor\\2021_08_02\\65.avi\n",
      "Saving filtered csv poses!\n",
      "Filtering with median model D:\\Sidevideos\\ar32motor\\2021_08_02\\66.avi\n",
      "Saving filtered csv poses!\n",
      "Filtering with median model D:\\Sidevideos\\ar32motor\\2021_08_02\\67.avi\n",
      "Saving filtered csv poses!\n",
      "Filtering with median model D:\\Sidevideos\\ar32motor\\2021_08_02\\68.avi\n",
      "Saving filtered csv poses!\n",
      "Filtering with median model D:\\Sidevideos\\ar32motor\\2021_08_02\\69.avi\n",
      "Saving filtered csv poses!\n",
      "Filtering with median model D:\\Sidevideos\\ar32motor\\2021_08_02\\7.avi\n",
      "Saving filtered csv poses!\n",
      "Filtering with median model D:\\Sidevideos\\ar32motor\\2021_08_02\\70.avi\n",
      "Saving filtered csv poses!\n",
      "Filtering with median model D:\\Sidevideos\\ar32motor\\2021_08_02\\71.avi\n",
      "Saving filtered csv poses!\n",
      "Filtering with median model D:\\Sidevideos\\ar32motor\\2021_08_02\\72.avi\n",
      "Saving filtered csv poses!\n",
      "Filtering with median model D:\\Sidevideos\\ar32motor\\2021_08_02\\73.avi\n",
      "Saving filtered csv poses!\n",
      "Filtering with median model D:\\Sidevideos\\ar32motor\\2021_08_02\\74.avi\n",
      "Saving filtered csv poses!\n",
      "Filtering with median model D:\\Sidevideos\\ar32motor\\2021_08_02\\75.avi\n",
      "Saving filtered csv poses!\n",
      "Filtering with median model D:\\Sidevideos\\ar32motor\\2021_08_02\\76.avi\n",
      "Saving filtered csv poses!\n",
      "Filtering with median model D:\\Sidevideos\\ar32motor\\2021_08_02\\77.avi\n",
      "Saving filtered csv poses!\n",
      "Filtering with median model D:\\Sidevideos\\ar32motor\\2021_08_02\\78.avi\n",
      "Saving filtered csv poses!\n",
      "Filtering with median model D:\\Sidevideos\\ar32motor\\2021_08_02\\79.avi\n",
      "Saving filtered csv poses!\n",
      "Filtering with median model D:\\Sidevideos\\ar32motor\\2021_08_02\\8.avi\n",
      "Saving filtered csv poses!\n",
      "Filtering with median model D:\\Sidevideos\\ar32motor\\2021_08_02\\80.avi\n",
      "Saving filtered csv poses!\n",
      "Filtering with median model D:\\Sidevideos\\ar32motor\\2021_08_02\\81.avi\n",
      "Saving filtered csv poses!\n",
      "Filtering with median model D:\\Sidevideos\\ar32motor\\2021_08_02\\82.avi\n",
      "Saving filtered csv poses!\n",
      "Filtering with median model D:\\Sidevideos\\ar32motor\\2021_08_02\\83.avi\n",
      "Saving filtered csv poses!\n",
      "Filtering with median model D:\\Sidevideos\\ar32motor\\2021_08_02\\84.avi\n",
      "Saving filtered csv poses!\n",
      "Filtering with median model D:\\Sidevideos\\ar32motor\\2021_08_02\\85.avi\n",
      "Saving filtered csv poses!\n",
      "Filtering with median model D:\\Sidevideos\\ar32motor\\2021_08_02\\86.avi\n",
      "Saving filtered csv poses!\n",
      "Filtering with median model D:\\Sidevideos\\ar32motor\\2021_08_02\\87.avi\n",
      "Saving filtered csv poses!\n",
      "Filtering with median model D:\\Sidevideos\\ar32motor\\2021_08_02\\88.avi\n",
      "Saving filtered csv poses!\n",
      "Filtering with median model D:\\Sidevideos\\ar32motor\\2021_08_02\\89.avi\n",
      "Saving filtered csv poses!\n",
      "Filtering with median model D:\\Sidevideos\\ar32motor\\2021_08_02\\9.avi\n",
      "Saving filtered csv poses!\n",
      "Filtering with median model D:\\Sidevideos\\ar32motor\\2021_08_02\\90.avi\n",
      "Saving filtered csv poses!\n",
      "Filtering with median model D:\\Sidevideos\\ar32motor\\2021_08_02\\91.avi\n",
      "Saving filtered csv poses!\n",
      "Filtering with median model D:\\Sidevideos\\ar32motor\\2021_08_02\\92.avi\n",
      "Saving filtered csv poses!\n",
      "Filtering with median model D:\\Sidevideos\\ar32motor\\2021_08_02\\93.avi\n",
      "Saving filtered csv poses!\n",
      "Filtering with median model D:\\Sidevideos\\ar32motor\\2021_08_02\\94.avi\n",
      "Saving filtered csv poses!\n",
      "Filtering with median model D:\\Sidevideos\\ar32motor\\2021_08_02\\95.avi\n",
      "Saving filtered csv poses!\n",
      "Filtering with median model D:\\Sidevideos\\ar32motor\\2021_08_02\\96.avi\n",
      "Saving filtered csv poses!\n",
      "Filtering with median model D:\\Sidevideos\\ar32motor\\2021_08_02\\97.avi\n",
      "Saving filtered csv poses!\n",
      "Filtering with median model D:\\Sidevideos\\ar32motor\\2021_08_02\\98.avi\n",
      "Saving filtered csv poses!\n",
      "Filtering with median model D:\\Sidevideos\\ar32motor\\2021_08_02\\99.avi\n",
      "Saving filtered csv poses!\n"
     ]
    }
   ],
   "source": [
    "\n",
    "#path_config_file = 'D:\\\\rat_movies_SC\\\\ar19muscimol\\\\10_10_2019\\\\ar19muscimol10-10-19_LR_R-Arash-2020-02-28\\\\config.yaml';\n",
    "#path_config_file = 'D:\\\\rat_movies_SC\\\\ar19muscimol\\\\10_10_2019\\\\ar19muscimol10-10-19_LR_L-Arash-2020-03-01\\\\config.yaml';\n",
    "#path_config_file = 'E:\\\\movies\\\\ar2breathing\\\\10_08_19\\\\ar2breathing_10_08_19-Arash-2020-03-26\\\\config.yaml'\n",
    "#path_config_file = 'E:\\\\movies\\\\ar2breathing\\\\10_08_19\\\\ar2breathing_10_08_19LR_R-Arash-2020-04-30\\\\config.yaml'\n",
    "#path_config_file = 'D:\\\\videos\\\\ar21\\\\2020-07-06\\\\ar21_07_06_20Face2-Arash-2020-07-07\\\\config.yaml';\n",
    "#path_config_file = 'D:\\\\Dropbox\\\\Notebook\\\\ar19_09_15_20Face3-Arash-2020-09-16\\\\config.yaml';\n",
    "#path_config_file = 'D:\\\\Dropbox\\\\Notebook\\\\ar19_09_15_20Face3-Arash-2020-09-16\\\\config.yaml';\n",
    "#path_config_file = 'D:\\\\videos\\\\ar32\\\\2020_10_09\\\\ar32_10_09_20Face3-Arash-2020-10-10\\\\config.yaml';\n",
    "#path_config_file = 'D:\\\\videos\\\\ar30\\\\ar30_10_11_04-Arash-2020-11-05\\\\config.yaml';\n",
    "#path_config_file = 'D:\\\\videos\\\\ar32\\\\ar32_10_11_24-Arash-2020-11-25\\\\config.yaml';\n",
    "\n",
    "import os\n",
    "#path_config_file = 'D:\\\\notebook\\\\ar30_10_10_14spouts-Arash-2020-10-24\\\\config.yaml';\n",
    "Mainfolder = 'E:\\\\movies\\\\ar2breathing\\\\10_06_19'\n",
    "Mainfolder = 'D:\\\\rat_movies_SC\\\\ar19muscimol\\\\10_10_2019'\n",
    "Mainfolder = 'D:\\\\rat_movies_SC\\\\ar19tear19salin\\\\10_08_19'\n",
    "Mainfolder = 'E:\\\\movies\\\\MUSCIMOL\\\\ar19tear19salin\\\\10_08_19'\n",
    "Mainfolder = 'D:\\\\videos\\\\ar32\\\\2020_11_24'\n",
    "Mainfolder = 'D:\\\\Sidevideos\\\\ar30motor\\\\2021_07_09'\n",
    "Mainfolder = 'D:\\\\Sidevideos\\\\ar32motor\\\\2021_08_02'\n",
    "\n",
    "\n",
    "text_files = [os.path.join(Mainfolder,f) for f in os.listdir(Mainfolder) if f.endswith('.avi') and not f.endswith('L.avi') and not f.endswith('R.avi') and not f.endswith('videopoints.avi') and not f.endswith('videopoints.avi')]\n",
    "#text_files = [os.path.join(Mainfolder,f) for f in os.listdir(Mainfolder) if f.endswith('R.avi') and not f.endswith('L.avi') and not f.endswith('videopoints.avi') and not f.endswith('videopoints.avi')]\n",
    "#text_files = [os.path.join(Mainfolder,f) for f in os.listdir(Mainfolder) if f.endswith('L.avi') and not f.endswith('R.avi') and not f.endswith('videopoints.avi') and not f.endswith('videopoints.avi')]\n",
    "\n",
    "#text_files = [os.path.join(Mainfolder,f) for f in os.listdir(Mainfolder) if f.endswith('.mp4') and not f.endswith('L.avi') and not f.endswith('R.avi') and not f.endswith('videopoints.avi') and not f.endswith('videopoints.avi')]\n",
    "\n",
    "#path_config_file = 'F:\\\\ar19muscimol500ug500nlrightside\\\\10_10_19\\\\ar19_10102019-Fassihi-2019-11-12\\\\config.yaml';\n",
    "\n",
    "\n",
    "#path_config_file = 'D:\\\\rat_movies_SC\\\\ar19muscimol\\\\10_10_2019\\\\ar19muscimol10-10-19_LR_L-Arash-2020-03-01\\\\config.yaml'\n",
    "##text_files = ['']\n",
    "#text_files = 'E:\\\\movies\\\\ar2breathing\\\\10_08_19\\\\20-18-27.avi'\n",
    "\n",
    "print(text_files)\n",
    "#deeplabcut.analyze_videos(path_config_file,text_files[1:len(text_files)],shuffle=1, save_as_csv=True)\n",
    "#deeplabcut.analyze_videos(path_config_file,text_files[3],shuffle=1, save_as_csv=True)\n",
    "deeplabcut.analyze_videos(path_config_file,text_files,shuffle=1, save_as_csv=True)\n",
    "deeplabcut.filterpredictions(path_config_file,text_files)\n"
   ]
  },
  {
   "cell_type": "markdown",
   "metadata": {},
   "source": [
    "## Track non tracked files\n"
   ]
  },
  {
   "cell_type": "code",
   "execution_count": null,
   "metadata": {},
   "outputs": [],
   "source": [
    "# Track non tracked files \n",
    "import os\n",
    "path_config_file = 'F:\\\\ar2breathing\\\\10_06_19\\\\ar2_10062019_ii-Fassihi-2019-10-07\\\\config.yaml';\n",
    "\n",
    "Mainfolder = 'Y:\\\\movies_Rat_SC_project\\\\ar2breathing\\\\10_06_19'\n",
    "text_files = [os.path.join(Mainfolder,f) for f in os.listdir(Mainfolder) if f.endswith('.avi') and not f.endswith('L.avi') and not f.endswith('R.avi') and not f.endswith('videopoints.avi') and not f.endswith('breathing.avi')]\n",
    "text_files2 = [os.path.join(Mainfolder,f) for f in os.listdir(Mainfolder) if f.endswith('L.avi') ]\n",
    "#print(text_files)\n",
    "#%whos\n",
    "\n",
    "text_files3 = [f.replace(\"L.\", \".\") for f in text_files2 ]\n",
    "one_not_two = set(text_files) - set(text_files3)\n",
    "one_not_two = 'Y:\\\\movies_Rat_SC_project\\\\ar2breathing\\\\10_06_19\\\\22-25-05.avi'\n",
    "print(one_not_two)\n",
    "deeplabcut.analyze_videos(path_config_file,one_not_two,shuffle=1, save_as_csv=True)"
   ]
  },
  {
   "cell_type": "markdown",
   "metadata": {},
   "source": [
    "# Track Tracklets and then filter for multiple animals (maybe whiskers)"
   ]
  },
  {
   "cell_type": "code",
   "execution_count": null,
   "metadata": {},
   "outputs": [],
   "source": [
    "Mainfolder = 'D:\\\\videos\\\\ar21\\\\2020_07_08\\\\'\n",
    "import os\n",
    "\n",
    "text_files = [os.path.join(Mainfolder,f) for f in os.listdir(Mainfolder) if f.endswith('.avi') and not f.endswith('L.avi') and not f.endswith('R.avi') and not f.endswith('videopoints.avi') and not f.endswith('videopoints.avi')]\n",
    "print(text_files)\n",
    "deeplabcut.convert_detections2tracklets(path_config_file, text_files, videotype='avi',\n",
    "                                                    shuffle=1, trainingsetindex=0, track_method='skeleton')\n"
   ]
  },
  {
   "cell_type": "code",
   "execution_count": null,
   "metadata": {},
   "outputs": [],
   "source": [
    "deeplabcut.refine_tracklets(path_config_file, pickle_or_h5_file, videofile_path, min_swap_len=2, min_tracklet_len=2, trail_len=50)\n"
   ]
  },
  {
   "cell_type": "markdown",
   "metadata": {},
   "source": [
    "# filter the results using median model\n"
   ]
  },
  {
   "cell_type": "raw",
   "metadata": {},
   "source": [
    "deeplabcut.filterpredictions(path_config_file,text_files)\n"
   ]
  },
  {
   "cell_type": "markdown",
   "metadata": {},
   "source": [
    "# plot trajectories"
   ]
  },
  {
   "cell_type": "code",
   "execution_count": null,
   "metadata": {},
   "outputs": [],
   "source": [
    "deeplabcut.plot_trajectories(path_config_file,text_files,filtered = True)\n"
   ]
  },
  {
   "cell_type": "markdown",
   "metadata": {
    "colab_type": "text",
    "id": "pCrUvQIvoEKD"
   },
   "source": [
    "## Create labeled video\n",
    "This funtion is for visualiztion purpose and can be used to create a video in .mp4 format with labels predicted by the network. This video is saved in the same directory where the original video resides. "
   ]
  },
  {
   "cell_type": "code",
   "execution_count": null,
   "metadata": {
    "colab": {},
    "colab_type": "code",
    "id": "6aDF7Q7KoEKE",
    "scrolled": true
   },
   "outputs": [],
   "source": [
    "# first we create a vector of destination file names\n",
    "import os \n",
    "\n",
    "dirname = os.path.dirname(text_files[1]) \n",
    "\n",
    "thesenames= [os.path.basename(f)  for f in text_files] \n",
    "text_files2 = [os.path.join( os.path.join(os.path.dirname(text_files[1]),'labled'),f) for f in thesenames ]  \n",
    "\n",
    "#os.mkdir\n",
    "if not (os.path.isdir(os.path.join(os.path.dirname(text_files[1]),'labled'))):\n",
    " os.mkdir(os.path.join(os.path.dirname(text_files[1]),'labled'))\n",
    "# Print the directory name   \n",
    "print(text_files2[1]) \n",
    "for f in text_files:\n",
    "\n",
    "#deeplabcut.create_labeled_video(path_config_file,videofile,save_frames=True) # my_new_list was created in prevouse cell as all videos in the folder \n",
    "#deeplabcut.create_labeled_video(path_config_file,[text_files[0],text_files2[0]],save_frames=True)\n",
    "  "
   ]
  },
  {
   "cell_type": "markdown",
   "metadata": {
    "colab_type": "text",
    "id": "iGu_PdTWoEJr"
   },
   "source": [
    "## Extract outlier frames [This is important step actually]\n",
    "This is an optional step and is used only when the evaluation results are poor i.e. the labels are incorrectly predicted. In such a case, the user can use the following function to extract frames where the labels are incorrectly predicted. Make sure to provide the correct value of the \"iterations\" as it will be used to create the unique directory where the extracted frames will be saved."
   ]
  },
  {
   "cell_type": "code",
   "execution_count": null,
   "metadata": {},
   "outputs": [],
   "source": [
    "#video=['D:\\\\rat_movies_SC\\\\ar17record\\\\02_27_19\\\\analyzed\\\\18-37-27.avi']\n",
    "#video=['D:\\\\rat_movies_SC\\\\ar15record\\\\02_27_19\\\\17-33-50video.mp4']\n",
    "#video=['D:\\\\Dropbox\\\\ar17\\\\02_25_19\\\\22-37-23.avi']\n",
    "video = ['D:\\\\movies_Rat_SC_project\\\\ar1\\\\05_24_19\\\\11-09-14.avi']\n",
    "video = ['D:\\\\movies_Rat_SC_project\\\\ar20\\\\06_20_19\\\\17-19-45.avi','D:\\\\movies_Rat_SC_project\\\\ar20\\\\06_20_19\\\\17-31-05.avi','D:\\\\movies_Rat_SC_project\\\\ar20\\\\06_20_19\\\\17-30-40.avi']\n",
    "#15-17-08v\n",
    "video = ['D:\\\\rat_movies_SC\\\\ar19tear19salin\\\\10_08_19\\\\00-27-18.avi','D:\\\\rat_movies_SC\\\\ar19tear19salin\\\\10_08_19\\\\00-24-47.avi']\n",
    "video = ['D:\\\\rat_movies_SC\\\\ar19tear19salin\\\\10_08_19\\\\00-24-26video.mp4']\n",
    "video = ['E:\\\\movies\\\\ar2breathing\\\\10_06_19\\\\21-57-55L.avi']\n",
    "video = text_files[0]\n",
    "\n",
    "#path_config_file = 'D:\\\\rat_movies_SC\\\\ar19muscimol\\\\10_10_2019\\\\ar19muscimol10-10-19_LR_L-Arash-2020-03-01\\\\config.yaml';\n",
    "\n",
    "#path_config_file = 'D:\\\\rat_movies_SC\\\\ar17record\\\\02_27_19\\\\sc_ar17record_02272019_3-Fassihi-2019-04-28\\\\config.yaml'\n",
    "#path_config_file = 'D:\\\\rat_movies_SC\\\\ar15record\\\\02_27_19\\\\sc_ar15record_02272019-Fassihi-2019-03-12\\\\config.yaml'\n",
    "#path_config_file = 'D:\\\\movies_Rat_SC_project\\\\ar1\\\\05_24_19\\\\sc_aa1_05242019-Fassihi-2019-05-30\\\\config.yaml' #Enter the path of the config file that was just created from the above step (check the folder)\n",
    "#path_config_file = 'D:\\\\movies_Rat_SC_project\\\\ar3\\\\06_07_19\\\\sc_aa3_06072019-Fassihi-2019-06-10\\\\config.yaml' #Enter the path of the config file that was just created from the above step (check the folder)\n",
    "#path_config_file = 'D:\\\\movies_Rat_SC_project\\\\ar14\\\\06_18_19\\\\sc_ar14_06182019-Fassihi-2019-06-19\\\\config.yaml' #Enter the path of the config file that was just created from the above step (check the folder)\n",
    "print(path_config_file)\n",
    "\n",
    "#deeplabcut.extract_outlier_frames(path_config_file,video,outlieralgorithm='uncertain',p_bound=.6)\n",
    "#deeplabcut.extract_outlier_frames(path_config_file,video,outlieralgorithm='uncertain',comparisonbodyparts =  ['nose','snout'],p_bound=.6)\n",
    "deeplabcut.extract_outlier_frames(path_config_file,video,outlieralgorithm='uncertain',p_bound=.9)\n",
    "\n"
   ]
  },
  {
   "cell_type": "code",
   "execution_count": null,
   "metadata": {},
   "outputs": [],
   "source": [
    "print(video[2])\n"
   ]
  },
  {
   "cell_type": "code",
   "execution_count": null,
   "metadata": {
    "colab": {},
    "colab_type": "code",
    "id": "gkbaBOJVoEJs"
   },
   "outputs": [],
   "source": [
    "\n",
    "path_config_file = 'D:\\\\rat_movies_SC\\\\ar19\\\\02_07_19\\\\sc_ar19_02072019-Fassihi4-2019-02-13\\\\config.yaml' #Enter the path of the config file that was just created from the above step (check the folder)\n",
    "\n",
    "import os\n",
    "Mainfolder = 'D:\\\\rat_movies_SC\\\\ar19\\\\02_07_19'\n",
    "\n",
    "\n",
    "f = os.listdir(Mainfolder)\n",
    "text_files = [f for f in os.listdir(Mainfolder) if f.endswith('.avi')]\n",
    "\n",
    "\n",
    "my_list = text_files\n",
    "thisApen = Mainfolder+'kir'\n",
    "thisApen = thisApen.replace(\"kir\", \"\\\\\")\n",
    "string = thisApen\n",
    "my_new_list = [ string + x for x in my_list]\n",
    "\n",
    "deeplabcut.extract_outlier_frames(path_config_file,my_new_list)"
   ]
  },
  {
   "cell_type": "markdown",
   "metadata": {
    "colab_type": "text",
    "id": "8ib0uvhaoEJx"
   },
   "source": [
    "## Refine Labels [optional step]\n",
    "Following the extraction of outlier frames, the user can use the following function to move the predicted labels to the correct location. Thus augmenting the training dataset."
   ]
  },
  {
   "cell_type": "code",
   "execution_count": null,
   "metadata": {
    "colab": {},
    "colab_type": "code",
    "id": "n_FpEXtyoEJy"
   },
   "outputs": [],
   "source": [
    "#path_config_file = 'D:\\\\movies_Rat_SC_project\\\\ar1\\\\05_24_19\\\\sc_aa1_05242019-Fassihi-2019-05-30\\\\config.yaml' #Enter the path of the config file that was just created from the above step (check the folder)\n",
    "#path_config_file = 'D:\\\\movies_Rat_SC_project\\\\ar3\\\\06_07_19\\\\sc_aa3_06072019-Fassihi-2019-06-10\\\\config.yaml' #Enter the path of the config file that was just created from the above step (check the folder)\n",
    "\n",
    "#import matplotlib\n",
    "#print(matplotlib.__version__)\n",
    "%gui wx\n",
    "#path_config_file = 'D:\\\\rat_movies_SC\\\\ar15record\\\\02_27_19\\\\sc_ar15record_02272019-Fassihi-2019-03-12\\\\config.yaml'\n",
    "#print(path_config_file)\n",
    "deeplabcut.refine_labels(path_config_file)"
   ]
  },
  {
   "cell_type": "code",
   "execution_count": null,
   "metadata": {
    "colab": {},
    "colab_type": "code",
    "id": "CHzstWr8oEJ2"
   },
   "outputs": [],
   "source": [
    "#Once all folders are relabeled, check them and advance. See how to check labels, above!\n",
    "#path_config_file = 'D:\\\\movies_Rat_SC_project\\\\ar1\\\\05_24_19\\\\sc_aa1_05242019-Fassihi-2019-05-30\\\\config.yaml' #Enter the path of the config file that was just created from the above step (check the folder)\n",
    "#path_config_file = 'D:\\\\movies_Rat_SC_project\\\\ar3\\\\06_07_19\\\\sc_aa3_06072019-Fassihi-2019-06-10\\\\config.yaml' #Enter the path of the config file that was just created from the above step (check the folder)\n",
    "\n",
    "deeplabcut.merge_datasets(path_config_file)"
   ]
  },
  {
   "cell_type": "markdown",
   "metadata": {
    "colab_type": "text",
    "id": "QCHj7qyboEJ6"
   },
   "source": [
    "## Create a new iteration of training dataset [optional step]\n",
    "Following the refine labels, append these frames to the original dataset to create a new iteration of training dataset."
   ]
  },
  {
   "cell_type": "code",
   "execution_count": null,
   "metadata": {
    "colab": {},
    "colab_type": "code",
    "id": "ytQoxIldoEJ7",
    "scrolled": true
   },
   "outputs": [],
   "source": [
    "list_of_ints = list(range(2))\n",
    "print(list_of_ints)\n",
    "deeplabcut.create_training_dataset(path_config_file,Shuffles= list_of_ints) ;"
   ]
  },
  {
   "cell_type": "markdown",
   "metadata": {
    "colab_type": "text",
    "id": "8GTiuJESoEKH"
   },
   "source": [
    "## Plot the trajectories of the analyzed videos (optional)\n",
    "This function plots the trajectories of all the body parts across the entire video. Each body part is identified by a unique color."
   ]
  },
  {
   "cell_type": "code",
   "execution_count": null,
   "metadata": {
    "colab": {},
    "colab_type": "code",
    "id": "gX21zZbXoEKJ"
   },
   "outputs": [],
   "source": [
    "%matplotlib notebook #for making interactive plots.\n",
    "deeplabcut.plot_trajectories(path_config_file,my_new_list)\n",
    "\n"
   ]
  }
 ],
 "metadata": {
  "accelerator": "GPU",
  "colab": {
   "name": "Demo-yourowndata.ipynb",
   "provenance": [],
   "version": "0.3.2"
  },
  "kernelspec": {
   "display_name": "Python 3 (ipykernel)",
   "language": "python",
   "name": "python3"
  },
  "language_info": {
   "codemirror_mode": {
    "name": "ipython",
    "version": 3
   },
   "file_extension": ".py",
   "mimetype": "text/x-python",
   "name": "python",
   "nbconvert_exporter": "python",
   "pygments_lexer": "ipython3",
   "version": "3.8.12"
  },
  "varInspector": {
   "cols": {
    "lenName": 16,
    "lenType": 16,
    "lenVar": 40
   },
   "kernels_config": {
    "python": {
     "delete_cmd_postfix": "",
     "delete_cmd_prefix": "del ",
     "library": "var_list.py",
     "varRefreshCmd": "print(var_dic_list())"
    },
    "r": {
     "delete_cmd_postfix": ") ",
     "delete_cmd_prefix": "rm(",
     "library": "var_list.r",
     "varRefreshCmd": "cat(var_dic_list()) "
    }
   },
   "types_to_exclude": [
    "module",
    "function",
    "builtin_function_or_method",
    "instance",
    "_Feature"
   ],
   "window_display": false
  }
 },
 "nbformat": 4,
 "nbformat_minor": 1
}
