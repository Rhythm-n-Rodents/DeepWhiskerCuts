{
 "cells": [
  {
   "cell_type": "markdown",
   "metadata": {},
   "source": [
    "## first step is to make movies and lighttime out of single images "
   ]
  },
  {
   "cell_type": "code",
   "execution_count": 1,
   "metadata": {},
   "outputs": [],
   "source": [
    "# enter the folder name \n",
    "Mainfolder = 'C:\\\\videos\\\\ar30motor\\\\2021_07_09';\n",
    "#C:\\videos\\ar32motor\\2021_06_11#Mainfolder = 'C:\\\\videos\\\\ar32motor\\\\2021_04_25';\n",
    "\n",
    "Mainfolder = 'D:\\\\Sidevideos\\\\ar30motor\\\\2021_07_09'\n",
    "Mainfolder = 'D:\\\\Sidevideos\\\\ar34secondday\\\\2021_07_15'\n",
    "Mainfolder = 'D:\\\\Sidevideos\\\\AR35MOTOR\\\\2022_01_27'\n",
    "#D:\\Sidevideos\\AR35MOTOR\\2022_01_27\n",
    "#Mainfolder =  'D:\\\\Sidevideos\\\\ar34Lightduration\\\\2021_08_03'\n",
    "import main\n",
    "\n"
   ]
  },
  {
   "cell_type": "code",
   "execution_count": 3,
   "metadata": {
    "scrolled": true
   },
   "outputs": [
    {
     "name": "stdout",
     "output_type": "stream",
     "text": [
      "0\n",
      "1\n",
      "2\n",
      "3\n",
      "4\n",
      "5\n",
      "6\n",
      "7\n",
      "8\n",
      "9\n",
      "10\n",
      "11\n",
      "12\n",
      "13\n",
      "14\n",
      "15\n",
      "16\n",
      "17\n",
      "18\n",
      "19\n",
      "20\n",
      "21\n",
      "22\n",
      "23\n",
      "24\n",
      "25\n",
      "26\n",
      "27\n",
      "28\n",
      "29\n",
      "30\n",
      "31\n",
      "32\n",
      "33\n",
      "34\n",
      "35\n",
      "36\n",
      "37\n",
      "38\n",
      "39\n",
      "40\n",
      "41\n",
      "42\n",
      "43\n",
      "44\n",
      "45\n",
      "46\n",
      "47\n",
      "48\n",
      "49\n",
      "50\n",
      "51\n",
      "52\n",
      "53\n",
      "54\n",
      "55\n",
      "56\n",
      "57\n",
      "58\n",
      "59\n",
      "60\n",
      "61\n",
      "62\n",
      "63\n",
      "64\n",
      "65\n",
      "66\n",
      "67\n",
      "68\n",
      "69\n",
      "70\n",
      "71\n",
      "72\n",
      "73\n",
      "74\n",
      "75\n",
      "76\n",
      "77\n",
      "78\n",
      "79\n",
      "80\n",
      "81\n",
      "82\n",
      "83\n",
      "84\n",
      "85\n",
      "86\n",
      "87\n",
      "88\n",
      "89\n",
      "90\n",
      "91\n",
      "92\n",
      "93\n",
      "94\n",
      "95\n",
      "96\n",
      "97\n",
      "98\n",
      "99\n",
      "100\n",
      "101\n",
      "102\n",
      "103\n",
      "104\n",
      "105\n",
      "106\n",
      "107\n",
      "108\n",
      "109\n",
      "110\n",
      "111\n",
      "112\n",
      "113\n",
      "114\n",
      "115\n",
      "116\n",
      "117\n",
      "118\n",
      "119\n",
      "120\n",
      "121\n",
      "122\n",
      "123\n",
      "124\n",
      "125\n",
      "126\n",
      "127\n",
      "128\n",
      "129\n",
      "130\n",
      "131\n",
      "132\n",
      "133\n",
      "134\n",
      "135\n",
      "136\n",
      "137\n",
      "138\n",
      "139\n",
      "140\n",
      "141\n",
      "142\n",
      "143\n",
      "144\n",
      "145\n",
      "146\n",
      "147\n",
      "148\n",
      "149\n",
      "150\n",
      "151\n",
      "152\n",
      "153\n",
      "154\n",
      "155\n",
      "156\n",
      "157\n",
      "158\n",
      "159\n",
      "160\n",
      "161\n",
      "162\n",
      "163\n",
      "164\n",
      "165\n",
      "166\n",
      "167\n",
      "168\n",
      "169\n",
      "170\n",
      "171\n",
      "172\n",
      "173\n",
      "174\n",
      "175\n",
      "176\n",
      "177\n",
      "178\n",
      "179\n",
      "180\n",
      "181\n",
      "182\n",
      "183\n",
      "184\n",
      "185\n",
      "186\n",
      "187\n",
      "188\n",
      "189\n",
      "190\n",
      "191\n",
      "192\n",
      "193\n",
      "194\n",
      "195\n",
      "196\n",
      "197\n",
      "198\n",
      "199\n",
      "200\n",
      "201\n",
      "202\n",
      "203\n",
      "204\n",
      "205\n",
      "206\n",
      "207\n",
      "208\n",
      "209\n",
      "210\n",
      "211\n",
      "212\n",
      "213\n",
      "214\n",
      "215\n",
      "216\n",
      "217\n",
      "218\n",
      "219\n",
      "220\n",
      "221\n",
      "222\n",
      "223\n",
      "224\n",
      "225\n",
      "226\n",
      "227\n",
      "228\n",
      "229\n",
      "230\n",
      "231\n",
      "232\n",
      "233\n",
      "234\n",
      "235\n",
      "236\n",
      "237\n",
      "238\n",
      "239\n",
      "240\n",
      "241\n",
      "242\n",
      "243\n",
      "244\n",
      "245\n",
      "246\n",
      "247\n",
      "248\n",
      "249\n",
      "250\n",
      "251\n",
      "252\n",
      "253\n",
      "254\n",
      "255\n",
      "256\n",
      "257\n",
      "258\n",
      "259\n",
      "260\n",
      "261\n",
      "262\n",
      "263\n",
      "264\n",
      "265\n",
      "266\n",
      "267\n",
      "268\n",
      "269\n",
      "270\n",
      "271\n",
      "272\n",
      "273\n",
      "274\n",
      "275\n",
      "276\n",
      "277\n",
      "278\n",
      "279\n",
      "280\n",
      "281\n",
      "282\n",
      "283\n",
      "284\n",
      "285\n",
      "286\n",
      "287\n",
      "288\n",
      "289\n",
      "290\n",
      "291\n",
      "292\n",
      "293\n",
      "294\n",
      "295\n",
      "296\n",
      "297\n",
      "298\n",
      "299\n",
      "300\n",
      "301\n",
      "302\n",
      "303\n",
      "304\n",
      "305\n",
      "306\n",
      "307\n",
      "308\n",
      "309\n",
      "310\n",
      "311\n",
      "312\n",
      "313\n",
      "314\n",
      "315\n",
      "316\n",
      "317\n",
      "318\n",
      "319\n",
      "320\n",
      "321\n",
      "322\n",
      "323\n",
      "324\n",
      "325\n",
      "326\n",
      "327\n",
      "328\n",
      "329\n",
      "330\n",
      "331\n",
      "332\n",
      "333\n",
      "334\n",
      "335\n",
      "336\n",
      "337\n",
      "338\n",
      "339\n",
      "340\n",
      "341\n",
      "342\n",
      "343\n",
      "344\n",
      "345\n",
      "346\n",
      "347\n",
      "348\n",
      "349\n",
      "350\n",
      "351\n",
      "352\n",
      "353\n",
      "354\n",
      "355\n",
      "356\n",
      "357\n",
      "358\n",
      "359\n",
      "360\n",
      "361\n",
      "362\n",
      "363\n",
      "364\n",
      "365\n",
      "366\n",
      "367\n",
      "368\n",
      "369\n",
      "370\n",
      "371\n",
      "372\n",
      "373\n",
      "374\n",
      "375\n",
      "376\n",
      "377\n",
      "378\n",
      "379\n",
      "380\n",
      "381\n",
      "382\n",
      "383\n",
      "384\n",
      "385\n",
      "386\n",
      "387\n",
      "388\n",
      "389\n",
      "390\n",
      "391\n",
      "392\n",
      "393\n",
      "394\n",
      "395\n",
      "396\n",
      "397\n",
      "398\n",
      "399\n",
      "400\n",
      "401\n",
      "402\n",
      "403\n",
      "404\n",
      "405\n",
      "406\n",
      "407\n",
      "408\n",
      "409\n",
      "410\n",
      "411\n",
      "412\n",
      "413\n",
      "414\n",
      "415\n",
      "416\n",
      "417\n",
      "418\n",
      "419\n",
      "420\n",
      "421\n",
      "422\n",
      "423\n",
      "424\n",
      "425\n",
      "426\n",
      "427\n",
      "428\n",
      "['0', '1', '10', '100', '101', '102', '103', '104', '105', '106', '107', '108', '109', '11', '110', '111', '112', '113', '114', '115', '116', '117', '118', '119', '12', '120', '121', '122', '123', '124', '125', '126', '127', '128', '129', '13', '130', '131', '132', '133', '134', '135', '136', '137', '138', '139', '14', '140', '141', '142', '143', '144', '145', '146', '147', '148', '149', '15', '150', '151', '152', '153', '154', '155', '156', '157', '158', '159', '16', '160', '161', '162', '163', '164', '165', '166', '167', '168', '169', '17', '170', '171', '172', '173', '174', '175', '176', '177', '178', '179', '18', '180', '181', '182', '183', '184', '185', '186', '187', '188', '189', '19', '190', '191', '192', '193', '194', '195', '196', '197', '198', '199', '2', '20', '200', '201', '202', '203', '204', '205', '206', '207', '208', '209', '21', '210', '211', '212', '213', '214', '215', '216', '217', '218', '219', '22', '220', '221', '222', '223', '224', '225', '226', '227', '228', '229', '23', '230', '231', '232', '233', '234', '235', '236', '237', '238', '239', '24', '240', '241', '242', '243', '244', '245', '246', '247', '248', '249', '25', '250', '251', '252', '253', '254', '255', '256', '257', '258', '259', '26', '260', '261', '262', '263', '264', '265', '266', '267', '268', '269', '27', '270', '271', '272', '273', '274', '275', '276', '277', '278', '279', '28', '280', '281', '282', '283', '284', '285', '286', '287', '288', '289', '29', '290', '291', '292', '293', '294', '295', '296', '297', '298', '299', '3', '30', '300', '301', '302', '303', '304', '305', '306', '307', '308', '309', '31', '310', '311', '312', '313', '314', '315', '316', '317', '318', '319', '32', '320', '321', '322', '323', '324', '325', '326', '327', '328', '329', '33', '330', '331', '332', '333', '334', '335', '336', '337', '338', '339', '34', '340', '341', '342', '343', '344', '345', '346', '347', '348', '349', '35', '350', '351', '352', '353', '354', '355', '356', '357', '358', '359', '36', '360', '361', '362', '363', '364', '365', '366', '367', '368', '369', '37', '370', '371', '372', '373', '374', '375', '376', '377', '378', '379', '38', '380', '381', '382', '383', '384', '385', '386', '387', '388', '389', '39', '390', '391', '392', '393', '394', '395', '396', '397', '398', '399', '4', '40', '400', '401', '402', '403', '404', '405', '406', '407', '408', '409', '41', '410', '411', '412', '413', '414', '415', '416', '417', '418', '419', '42', '420', '421', '422', '423', '424', '425', '426', '427', '428', '43', '44', '45', '46', '47', '48', '49', '5', '50', '51', '52', '53', '54', '55', '56', '57', '58', '59', '6', '60', '61', '62', '63', '64', '65', '66', '67', '68', '69', '7', '70', '71', '72', '73', '74', '75', '76', '77', '78', '79', '8', '80', '81', '82', '83', '84', '85', '86', '87', '88', '89', '9', '90', '91', '92', '93', '94', '95', '96', '97', '98', '99']\n"
     ]
    }
   ],
   "source": [
    "#main.make_movie_only(Mainfolder)\n",
    "main.makemovieandLightfile(Mainfolder)\n",
    "main.save_trial_n(Mainfolder)"
   ]
  },
  {
   "cell_type": "code",
   "execution_count": 4,
   "metadata": {},
   "outputs": [
    {
     "name": "stderr",
     "output_type": "stream",
     "text": [
      "C:\\Users\\dklab\\anaconda3\\envs\\DEEPLABCUT\\lib\\site-packages\\statsmodels\\compat\\pandas.py:65: FutureWarning: pandas.Int64Index is deprecated and will be removed from pandas in a future version. Use pandas.Index with the appropriate dtype instead.\n",
      "  from pandas import Int64Index as NumericIndex\n"
     ]
    }
   ],
   "source": [
    "import deeplabcut\n",
    "## https://github.com/AlexEMG/DeepLabCut"
   ]
  },
  {
   "cell_type": "code",
   "execution_count": 5,
   "metadata": {},
   "outputs": [
    {
     "name": "stdout",
     "output_type": "stream",
     "text": [
      "D:\\Sidevideos\\AR35MOTOR\\2022_01_27\\1.avi\n",
      "Using snapshot-109000 for model C:\\Users\\dklab\\Dropbox\\Notebook\\DLC\\Sideview_Aug-Arash-2021-08-04\\dlc-models\\iteration-0\\Sideview_AugAug4-trainset95shuffle1\n"
     ]
    },
    {
     "name": "stderr",
     "output_type": "stream",
     "text": [
      "C:\\Users\\dklab\\anaconda3\\envs\\DEEPLABCUT\\lib\\site-packages\\tensorflow\\python\\keras\\engine\\base_layer_v1.py:1694: UserWarning: `layer.apply` is deprecated and will be removed in a future version. Please use `layer.__call__` method instead.\n",
      "  warnings.warn('`layer.apply` is deprecated and '\n"
     ]
    },
    {
     "name": "stdout",
     "output_type": "stream",
     "text": [
      "Starting to analyze %  D:\\Sidevideos\\AR35MOTOR\\2022_01_27\\0.avi\n",
      "Loading  D:\\Sidevideos\\AR35MOTOR\\2022_01_27\\0.avi\n",
      "Duration of video [s]:  12.5 , recorded with  40.0 fps!\n",
      "Overall # of frames:  500  found with (before cropping) frame dimensions:  800 480\n",
      "Starting to extract posture\n"
     ]
    },
    {
     "name": "stderr",
     "output_type": "stream",
     "text": [
      "510it [00:47, 10.65it/s]                                                                                               \n"
     ]
    },
    {
     "name": "stdout",
     "output_type": "stream",
     "text": [
      "Saving results in D:\\Sidevideos\\AR35MOTOR\\2022_01_27...\n",
      "Saving csv poses!\n",
      "Starting to analyze %  D:\\Sidevideos\\AR35MOTOR\\2022_01_27\\1.avi\n",
      "Loading  D:\\Sidevideos\\AR35MOTOR\\2022_01_27\\1.avi\n",
      "Duration of video [s]:  12.5 , recorded with  40.0 fps!\n",
      "Overall # of frames:  500  found with (before cropping) frame dimensions:  800 480\n",
      "Starting to extract posture\n"
     ]
    },
    {
     "name": "stderr",
     "output_type": "stream",
     "text": [
      "510it [00:32, 15.57it/s]                                                                                               \n"
     ]
    },
    {
     "name": "stdout",
     "output_type": "stream",
     "text": [
      "Saving results in D:\\Sidevideos\\AR35MOTOR\\2022_01_27...\n",
      "Saving csv poses!\n",
      "Starting to analyze %  D:\\Sidevideos\\AR35MOTOR\\2022_01_27\\10.avi\n",
      "Loading  D:\\Sidevideos\\AR35MOTOR\\2022_01_27\\10.avi\n",
      "Duration of video [s]:  12.5 , recorded with  40.0 fps!\n",
      "Overall # of frames:  500  found with (before cropping) frame dimensions:  800 480\n",
      "Starting to extract posture\n"
     ]
    },
    {
     "name": "stderr",
     "output_type": "stream",
     "text": [
      "510it [00:32, 15.50it/s]                                                                                               \n"
     ]
    },
    {
     "name": "stdout",
     "output_type": "stream",
     "text": [
      "Saving results in D:\\Sidevideos\\AR35MOTOR\\2022_01_27...\n",
      "Saving csv poses!\n",
      "Starting to analyze %  D:\\Sidevideos\\AR35MOTOR\\2022_01_27\\100.avi\n",
      "Loading  D:\\Sidevideos\\AR35MOTOR\\2022_01_27\\100.avi\n",
      "Duration of video [s]:  12.5 , recorded with  40.0 fps!\n",
      "Overall # of frames:  500  found with (before cropping) frame dimensions:  800 480\n",
      "Starting to extract posture\n"
     ]
    },
    {
     "name": "stderr",
     "output_type": "stream",
     "text": [
      "510it [00:32, 15.49it/s]                                                                                               \n"
     ]
    },
    {
     "name": "stdout",
     "output_type": "stream",
     "text": [
      "Saving results in D:\\Sidevideos\\AR35MOTOR\\2022_01_27...\n",
      "Saving csv poses!\n",
      "Starting to analyze %  D:\\Sidevideos\\AR35MOTOR\\2022_01_27\\101.avi\n",
      "Loading  D:\\Sidevideos\\AR35MOTOR\\2022_01_27\\101.avi\n",
      "Duration of video [s]:  12.5 , recorded with  40.0 fps!\n",
      "Overall # of frames:  500  found with (before cropping) frame dimensions:  800 480\n",
      "Starting to extract posture\n"
     ]
    },
    {
     "name": "stderr",
     "output_type": "stream",
     "text": [
      "510it [00:32, 15.54it/s]                                                                                               \n"
     ]
    },
    {
     "name": "stdout",
     "output_type": "stream",
     "text": [
      "Saving results in D:\\Sidevideos\\AR35MOTOR\\2022_01_27...\n",
      "Saving csv poses!\n",
      "Starting to analyze %  D:\\Sidevideos\\AR35MOTOR\\2022_01_27\\102.avi\n",
      "Loading  D:\\Sidevideos\\AR35MOTOR\\2022_01_27\\102.avi\n",
      "Duration of video [s]:  12.5 , recorded with  40.0 fps!\n",
      "Overall # of frames:  500  found with (before cropping) frame dimensions:  800 480\n",
      "Starting to extract posture\n"
     ]
    },
    {
     "name": "stderr",
     "output_type": "stream",
     "text": [
      "510it [00:33, 15.42it/s]                                                                                               \n"
     ]
    },
    {
     "name": "stdout",
     "output_type": "stream",
     "text": [
      "Saving results in D:\\Sidevideos\\AR35MOTOR\\2022_01_27...\n",
      "Saving csv poses!\n",
      "Starting to analyze %  D:\\Sidevideos\\AR35MOTOR\\2022_01_27\\103.avi\n",
      "Loading  D:\\Sidevideos\\AR35MOTOR\\2022_01_27\\103.avi\n",
      "Duration of video [s]:  12.5 , recorded with  40.0 fps!\n",
      "Overall # of frames:  500  found with (before cropping) frame dimensions:  800 480\n",
      "Starting to extract posture\n"
     ]
    },
    {
     "name": "stderr",
     "output_type": "stream",
     "text": [
      "510it [00:32, 15.49it/s]                                                                                               \n"
     ]
    },
    {
     "name": "stdout",
     "output_type": "stream",
     "text": [
      "Saving results in D:\\Sidevideos\\AR35MOTOR\\2022_01_27...\n",
      "Saving csv poses!\n",
      "Starting to analyze %  D:\\Sidevideos\\AR35MOTOR\\2022_01_27\\104.avi\n",
      "Loading  D:\\Sidevideos\\AR35MOTOR\\2022_01_27\\104.avi\n",
      "Duration of video [s]:  12.5 , recorded with  40.0 fps!\n",
      "Overall # of frames:  500  found with (before cropping) frame dimensions:  800 480\n",
      "Starting to extract posture\n"
     ]
    },
    {
     "name": "stderr",
     "output_type": "stream",
     "text": [
      "510it [00:32, 15.56it/s]                                                                                               \n"
     ]
    },
    {
     "name": "stdout",
     "output_type": "stream",
     "text": [
      "Saving results in D:\\Sidevideos\\AR35MOTOR\\2022_01_27...\n",
      "Saving csv poses!\n",
      "Starting to analyze %  D:\\Sidevideos\\AR35MOTOR\\2022_01_27\\105.avi\n",
      "Loading  D:\\Sidevideos\\AR35MOTOR\\2022_01_27\\105.avi\n",
      "Duration of video [s]:  12.5 , recorded with  40.0 fps!\n",
      "Overall # of frames:  500  found with (before cropping) frame dimensions:  800 480\n",
      "Starting to extract posture\n"
     ]
    },
    {
     "name": "stderr",
     "output_type": "stream",
     "text": [
      "510it [00:32, 15.52it/s]                                                                                               \n"
     ]
    },
    {
     "name": "stdout",
     "output_type": "stream",
     "text": [
      "Saving results in D:\\Sidevideos\\AR35MOTOR\\2022_01_27...\n",
      "Saving csv poses!\n",
      "Starting to analyze %  D:\\Sidevideos\\AR35MOTOR\\2022_01_27\\106.avi\n",
      "Loading  D:\\Sidevideos\\AR35MOTOR\\2022_01_27\\106.avi\n",
      "Duration of video [s]:  12.5 , recorded with  40.0 fps!\n",
      "Overall # of frames:  500  found with (before cropping) frame dimensions:  800 480\n",
      "Starting to extract posture\n"
     ]
    },
    {
     "name": "stderr",
     "output_type": "stream",
     "text": [
      "510it [00:33, 15.31it/s]                                                                                               \n"
     ]
    },
    {
     "name": "stdout",
     "output_type": "stream",
     "text": [
      "Saving results in D:\\Sidevideos\\AR35MOTOR\\2022_01_27...\n",
      "Saving csv poses!\n",
      "Starting to analyze %  D:\\Sidevideos\\AR35MOTOR\\2022_01_27\\107.avi\n",
      "Loading  D:\\Sidevideos\\AR35MOTOR\\2022_01_27\\107.avi\n",
      "Duration of video [s]:  12.5 , recorded with  40.0 fps!\n",
      "Overall # of frames:  500  found with (before cropping) frame dimensions:  800 480\n",
      "Starting to extract posture\n"
     ]
    },
    {
     "name": "stderr",
     "output_type": "stream",
     "text": [
      "510it [00:33, 15.34it/s]                                                                                               \n"
     ]
    },
    {
     "name": "stdout",
     "output_type": "stream",
     "text": [
      "Saving results in D:\\Sidevideos\\AR35MOTOR\\2022_01_27...\n",
      "Saving csv poses!\n",
      "Starting to analyze %  D:\\Sidevideos\\AR35MOTOR\\2022_01_27\\108.avi\n",
      "Loading  D:\\Sidevideos\\AR35MOTOR\\2022_01_27\\108.avi\n",
      "Duration of video [s]:  12.5 , recorded with  40.0 fps!\n",
      "Overall # of frames:  500  found with (before cropping) frame dimensions:  800 480\n",
      "Starting to extract posture\n"
     ]
    },
    {
     "name": "stderr",
     "output_type": "stream",
     "text": [
      "510it [00:33, 15.39it/s]                                                                                               \n"
     ]
    },
    {
     "name": "stdout",
     "output_type": "stream",
     "text": [
      "Saving results in D:\\Sidevideos\\AR35MOTOR\\2022_01_27...\n",
      "Saving csv poses!\n",
      "Starting to analyze %  D:\\Sidevideos\\AR35MOTOR\\2022_01_27\\109.avi\n",
      "Loading  D:\\Sidevideos\\AR35MOTOR\\2022_01_27\\109.avi\n",
      "Duration of video [s]:  12.5 , recorded with  40.0 fps!\n",
      "Overall # of frames:  500  found with (before cropping) frame dimensions:  800 480\n",
      "Starting to extract posture\n"
     ]
    },
    {
     "name": "stderr",
     "output_type": "stream",
     "text": [
      "510it [00:32, 15.59it/s]                                                                                               \n"
     ]
    },
    {
     "name": "stdout",
     "output_type": "stream",
     "text": [
      "Saving results in D:\\Sidevideos\\AR35MOTOR\\2022_01_27...\n",
      "Saving csv poses!\n",
      "Starting to analyze %  D:\\Sidevideos\\AR35MOTOR\\2022_01_27\\11.avi\n",
      "Loading  D:\\Sidevideos\\AR35MOTOR\\2022_01_27\\11.avi\n",
      "Duration of video [s]:  12.5 , recorded with  40.0 fps!\n",
      "Overall # of frames:  500  found with (before cropping) frame dimensions:  800 480\n",
      "Starting to extract posture\n"
     ]
    },
    {
     "name": "stderr",
     "output_type": "stream",
     "text": [
      "510it [00:32, 15.55it/s]                                                                                               \n"
     ]
    },
    {
     "name": "stdout",
     "output_type": "stream",
     "text": [
      "Saving results in D:\\Sidevideos\\AR35MOTOR\\2022_01_27...\n",
      "Saving csv poses!\n",
      "Starting to analyze %  D:\\Sidevideos\\AR35MOTOR\\2022_01_27\\110.avi\n",
      "Loading  D:\\Sidevideos\\AR35MOTOR\\2022_01_27\\110.avi\n",
      "Duration of video [s]:  12.5 , recorded with  40.0 fps!\n",
      "Overall # of frames:  500  found with (before cropping) frame dimensions:  800 480\n",
      "Starting to extract posture\n"
     ]
    },
    {
     "name": "stderr",
     "output_type": "stream",
     "text": [
      "510it [00:32, 15.51it/s]                                                                                               \n"
     ]
    },
    {
     "name": "stdout",
     "output_type": "stream",
     "text": [
      "Saving results in D:\\Sidevideos\\AR35MOTOR\\2022_01_27...\n",
      "Saving csv poses!\n",
      "Starting to analyze %  D:\\Sidevideos\\AR35MOTOR\\2022_01_27\\111.avi\n",
      "Loading  D:\\Sidevideos\\AR35MOTOR\\2022_01_27\\111.avi\n",
      "Duration of video [s]:  12.5 , recorded with  40.0 fps!\n",
      "Overall # of frames:  500  found with (before cropping) frame dimensions:  800 480\n",
      "Starting to extract posture\n"
     ]
    },
    {
     "name": "stderr",
     "output_type": "stream",
     "text": [
      "510it [00:32, 15.55it/s]                                                                                               \n"
     ]
    },
    {
     "name": "stdout",
     "output_type": "stream",
     "text": [
      "Saving results in D:\\Sidevideos\\AR35MOTOR\\2022_01_27...\n",
      "Saving csv poses!\n",
      "Starting to analyze %  D:\\Sidevideos\\AR35MOTOR\\2022_01_27\\112.avi\n",
      "Loading  D:\\Sidevideos\\AR35MOTOR\\2022_01_27\\112.avi\n",
      "Duration of video [s]:  12.5 , recorded with  40.0 fps!\n",
      "Overall # of frames:  500  found with (before cropping) frame dimensions:  800 480\n",
      "Starting to extract posture\n"
     ]
    },
    {
     "name": "stderr",
     "output_type": "stream",
     "text": [
      "510it [00:32, 15.55it/s]                                                                                               \n"
     ]
    },
    {
     "name": "stdout",
     "output_type": "stream",
     "text": [
      "Saving results in D:\\Sidevideos\\AR35MOTOR\\2022_01_27...\n",
      "Saving csv poses!\n",
      "Starting to analyze %  D:\\Sidevideos\\AR35MOTOR\\2022_01_27\\113.avi\n",
      "Loading  D:\\Sidevideos\\AR35MOTOR\\2022_01_27\\113.avi\n",
      "Duration of video [s]:  12.5 , recorded with  40.0 fps!\n",
      "Overall # of frames:  500  found with (before cropping) frame dimensions:  800 480\n",
      "Starting to extract posture\n"
     ]
    },
    {
     "name": "stderr",
     "output_type": "stream",
     "text": [
      "510it [00:32, 15.52it/s]                                                                                               \n"
     ]
    },
    {
     "name": "stdout",
     "output_type": "stream",
     "text": [
      "Saving results in D:\\Sidevideos\\AR35MOTOR\\2022_01_27...\n",
      "Saving csv poses!\n",
      "Starting to analyze %  D:\\Sidevideos\\AR35MOTOR\\2022_01_27\\114.avi\n",
      "Loading  D:\\Sidevideos\\AR35MOTOR\\2022_01_27\\114.avi\n",
      "Duration of video [s]:  12.5 , recorded with  40.0 fps!\n",
      "Overall # of frames:  500  found with (before cropping) frame dimensions:  800 480\n",
      "Starting to extract posture\n"
     ]
    },
    {
     "name": "stderr",
     "output_type": "stream",
     "text": [
      "510it [00:33, 15.36it/s]                                                                                               \n"
     ]
    },
    {
     "name": "stdout",
     "output_type": "stream",
     "text": [
      "Saving results in D:\\Sidevideos\\AR35MOTOR\\2022_01_27...\n",
      "Saving csv poses!\n",
      "Starting to analyze %  D:\\Sidevideos\\AR35MOTOR\\2022_01_27\\115.avi\n",
      "Loading  D:\\Sidevideos\\AR35MOTOR\\2022_01_27\\115.avi\n",
      "Duration of video [s]:  12.5 , recorded with  40.0 fps!\n",
      "Overall # of frames:  500  found with (before cropping) frame dimensions:  800 480\n",
      "Starting to extract posture\n"
     ]
    },
    {
     "name": "stderr",
     "output_type": "stream",
     "text": [
      "510it [00:32, 15.57it/s]                                                                                               \n"
     ]
    },
    {
     "name": "stdout",
     "output_type": "stream",
     "text": [
      "Saving results in D:\\Sidevideos\\AR35MOTOR\\2022_01_27...\n",
      "Saving csv poses!\n",
      "Starting to analyze %  D:\\Sidevideos\\AR35MOTOR\\2022_01_27\\116.avi\n",
      "Loading  D:\\Sidevideos\\AR35MOTOR\\2022_01_27\\116.avi\n",
      "Duration of video [s]:  12.5 , recorded with  40.0 fps!\n",
      "Overall # of frames:  500  found with (before cropping) frame dimensions:  800 480\n",
      "Starting to extract posture\n"
     ]
    },
    {
     "name": "stderr",
     "output_type": "stream",
     "text": [
      "510it [00:33, 15.29it/s]                                                                                               \n"
     ]
    },
    {
     "name": "stdout",
     "output_type": "stream",
     "text": [
      "Saving results in D:\\Sidevideos\\AR35MOTOR\\2022_01_27...\n",
      "Saving csv poses!\n",
      "Starting to analyze %  D:\\Sidevideos\\AR35MOTOR\\2022_01_27\\117.avi\n",
      "Loading  D:\\Sidevideos\\AR35MOTOR\\2022_01_27\\117.avi\n",
      "Duration of video [s]:  12.5 , recorded with  40.0 fps!\n",
      "Overall # of frames:  500  found with (before cropping) frame dimensions:  800 480\n",
      "Starting to extract posture\n"
     ]
    },
    {
     "name": "stderr",
     "output_type": "stream",
     "text": [
      "510it [00:32, 15.58it/s]                                                                                               \n"
     ]
    },
    {
     "name": "stdout",
     "output_type": "stream",
     "text": [
      "Saving results in D:\\Sidevideos\\AR35MOTOR\\2022_01_27...\n",
      "Saving csv poses!\n",
      "Starting to analyze %  D:\\Sidevideos\\AR35MOTOR\\2022_01_27\\118.avi\n",
      "Loading  D:\\Sidevideos\\AR35MOTOR\\2022_01_27\\118.avi\n",
      "Duration of video [s]:  12.5 , recorded with  40.0 fps!\n",
      "Overall # of frames:  500  found with (before cropping) frame dimensions:  800 480\n",
      "Starting to extract posture\n"
     ]
    },
    {
     "name": "stderr",
     "output_type": "stream",
     "text": [
      "510it [00:32, 15.54it/s]                                                                                               \n"
     ]
    },
    {
     "name": "stdout",
     "output_type": "stream",
     "text": [
      "Saving results in D:\\Sidevideos\\AR35MOTOR\\2022_01_27...\n",
      "Saving csv poses!\n",
      "Starting to analyze %  D:\\Sidevideos\\AR35MOTOR\\2022_01_27\\119.avi\n",
      "Loading  D:\\Sidevideos\\AR35MOTOR\\2022_01_27\\119.avi\n",
      "Duration of video [s]:  12.5 , recorded with  40.0 fps!\n",
      "Overall # of frames:  500  found with (before cropping) frame dimensions:  800 480\n",
      "Starting to extract posture\n"
     ]
    },
    {
     "name": "stderr",
     "output_type": "stream",
     "text": [
      "510it [00:32, 15.52it/s]                                                                                               \n"
     ]
    },
    {
     "name": "stdout",
     "output_type": "stream",
     "text": [
      "Saving results in D:\\Sidevideos\\AR35MOTOR\\2022_01_27...\n",
      "Saving csv poses!\n",
      "Starting to analyze %  D:\\Sidevideos\\AR35MOTOR\\2022_01_27\\12.avi\n",
      "Loading  D:\\Sidevideos\\AR35MOTOR\\2022_01_27\\12.avi\n",
      "Duration of video [s]:  12.5 , recorded with  40.0 fps!\n",
      "Overall # of frames:  500  found with (before cropping) frame dimensions:  800 480\n",
      "Starting to extract posture\n"
     ]
    },
    {
     "name": "stderr",
     "output_type": "stream",
     "text": [
      "510it [00:32, 15.56it/s]                                                                                               \n"
     ]
    },
    {
     "name": "stdout",
     "output_type": "stream",
     "text": [
      "Saving results in D:\\Sidevideos\\AR35MOTOR\\2022_01_27...\n",
      "Saving csv poses!\n",
      "Starting to analyze %  D:\\Sidevideos\\AR35MOTOR\\2022_01_27\\120.avi\n",
      "Loading  D:\\Sidevideos\\AR35MOTOR\\2022_01_27\\120.avi\n",
      "Duration of video [s]:  12.5 , recorded with  40.0 fps!\n",
      "Overall # of frames:  500  found with (before cropping) frame dimensions:  800 480\n",
      "Starting to extract posture\n"
     ]
    },
    {
     "name": "stderr",
     "output_type": "stream",
     "text": [
      "510it [00:32, 15.54it/s]                                                                                               \n"
     ]
    },
    {
     "name": "stdout",
     "output_type": "stream",
     "text": [
      "Saving results in D:\\Sidevideos\\AR35MOTOR\\2022_01_27...\n",
      "Saving csv poses!\n",
      "Starting to analyze %  D:\\Sidevideos\\AR35MOTOR\\2022_01_27\\121.avi\n",
      "Loading  D:\\Sidevideos\\AR35MOTOR\\2022_01_27\\121.avi\n",
      "Duration of video [s]:  12.5 , recorded with  40.0 fps!\n",
      "Overall # of frames:  500  found with (before cropping) frame dimensions:  800 480\n",
      "Starting to extract posture\n"
     ]
    },
    {
     "name": "stderr",
     "output_type": "stream",
     "text": [
      "510it [00:32, 15.55it/s]                                                                                               \n"
     ]
    },
    {
     "name": "stdout",
     "output_type": "stream",
     "text": [
      "Saving results in D:\\Sidevideos\\AR35MOTOR\\2022_01_27...\n",
      "Saving csv poses!\n",
      "Starting to analyze %  D:\\Sidevideos\\AR35MOTOR\\2022_01_27\\122.avi\n",
      "Loading  D:\\Sidevideos\\AR35MOTOR\\2022_01_27\\122.avi\n",
      "Duration of video [s]:  12.5 , recorded with  40.0 fps!\n",
      "Overall # of frames:  500  found with (before cropping) frame dimensions:  800 480\n",
      "Starting to extract posture\n"
     ]
    },
    {
     "name": "stderr",
     "output_type": "stream",
     "text": [
      "510it [00:32, 15.48it/s]                                                                                               \n"
     ]
    },
    {
     "name": "stdout",
     "output_type": "stream",
     "text": [
      "Saving results in D:\\Sidevideos\\AR35MOTOR\\2022_01_27...\n",
      "Saving csv poses!\n",
      "Starting to analyze %  D:\\Sidevideos\\AR35MOTOR\\2022_01_27\\123.avi\n",
      "Loading  D:\\Sidevideos\\AR35MOTOR\\2022_01_27\\123.avi\n",
      "Duration of video [s]:  12.5 , recorded with  40.0 fps!\n",
      "Overall # of frames:  500  found with (before cropping) frame dimensions:  800 480\n",
      "Starting to extract posture\n"
     ]
    },
    {
     "name": "stderr",
     "output_type": "stream",
     "text": [
      "510it [00:33, 15.35it/s]                                                                                               \n"
     ]
    },
    {
     "name": "stdout",
     "output_type": "stream",
     "text": [
      "Saving results in D:\\Sidevideos\\AR35MOTOR\\2022_01_27...\n",
      "Saving csv poses!\n",
      "Starting to analyze %  D:\\Sidevideos\\AR35MOTOR\\2022_01_27\\124.avi\n",
      "Loading  D:\\Sidevideos\\AR35MOTOR\\2022_01_27\\124.avi\n",
      "Duration of video [s]:  12.5 , recorded with  40.0 fps!\n",
      "Overall # of frames:  500  found with (before cropping) frame dimensions:  800 480\n",
      "Starting to extract posture\n"
     ]
    },
    {
     "name": "stderr",
     "output_type": "stream",
     "text": [
      "510it [00:33, 15.29it/s]                                                                                               \n"
     ]
    },
    {
     "name": "stdout",
     "output_type": "stream",
     "text": [
      "Saving results in D:\\Sidevideos\\AR35MOTOR\\2022_01_27...\n",
      "Saving csv poses!\n",
      "Starting to analyze %  D:\\Sidevideos\\AR35MOTOR\\2022_01_27\\125.avi\n",
      "Loading  D:\\Sidevideos\\AR35MOTOR\\2022_01_27\\125.avi\n",
      "Duration of video [s]:  12.5 , recorded with  40.0 fps!\n",
      "Overall # of frames:  500  found with (before cropping) frame dimensions:  800 480\n",
      "Starting to extract posture\n"
     ]
    },
    {
     "name": "stderr",
     "output_type": "stream",
     "text": [
      "510it [00:32, 15.53it/s]                                                                                               \n"
     ]
    },
    {
     "name": "stdout",
     "output_type": "stream",
     "text": [
      "Saving results in D:\\Sidevideos\\AR35MOTOR\\2022_01_27...\n",
      "Saving csv poses!\n",
      "Starting to analyze %  D:\\Sidevideos\\AR35MOTOR\\2022_01_27\\126.avi\n",
      "Loading  D:\\Sidevideos\\AR35MOTOR\\2022_01_27\\126.avi\n",
      "Duration of video [s]:  12.5 , recorded with  40.0 fps!\n",
      "Overall # of frames:  500  found with (before cropping) frame dimensions:  800 480\n",
      "Starting to extract posture\n"
     ]
    },
    {
     "name": "stderr",
     "output_type": "stream",
     "text": [
      "510it [00:32, 15.49it/s]                                                                                               \n"
     ]
    },
    {
     "name": "stdout",
     "output_type": "stream",
     "text": [
      "Saving results in D:\\Sidevideos\\AR35MOTOR\\2022_01_27...\n",
      "Saving csv poses!\n",
      "Starting to analyze %  D:\\Sidevideos\\AR35MOTOR\\2022_01_27\\127.avi\n",
      "Loading  D:\\Sidevideos\\AR35MOTOR\\2022_01_27\\127.avi\n",
      "Duration of video [s]:  12.5 , recorded with  40.0 fps!\n",
      "Overall # of frames:  500  found with (before cropping) frame dimensions:  800 480\n",
      "Starting to extract posture\n"
     ]
    },
    {
     "name": "stderr",
     "output_type": "stream",
     "text": [
      "510it [00:32, 15.50it/s]                                                                                               \n"
     ]
    },
    {
     "name": "stdout",
     "output_type": "stream",
     "text": [
      "Saving results in D:\\Sidevideos\\AR35MOTOR\\2022_01_27...\n",
      "Saving csv poses!\n",
      "Starting to analyze %  D:\\Sidevideos\\AR35MOTOR\\2022_01_27\\128.avi\n",
      "Loading  D:\\Sidevideos\\AR35MOTOR\\2022_01_27\\128.avi\n",
      "Duration of video [s]:  12.5 , recorded with  40.0 fps!\n",
      "Overall # of frames:  500  found with (before cropping) frame dimensions:  800 480\n",
      "Starting to extract posture\n"
     ]
    },
    {
     "name": "stderr",
     "output_type": "stream",
     "text": [
      "510it [00:32, 15.49it/s]                                                                                               \n"
     ]
    },
    {
     "name": "stdout",
     "output_type": "stream",
     "text": [
      "Saving results in D:\\Sidevideos\\AR35MOTOR\\2022_01_27...\n",
      "Saving csv poses!\n",
      "Starting to analyze %  D:\\Sidevideos\\AR35MOTOR\\2022_01_27\\129.avi\n",
      "Loading  D:\\Sidevideos\\AR35MOTOR\\2022_01_27\\129.avi\n",
      "Duration of video [s]:  12.5 , recorded with  40.0 fps!\n",
      "Overall # of frames:  500  found with (before cropping) frame dimensions:  800 480\n",
      "Starting to extract posture\n"
     ]
    },
    {
     "name": "stderr",
     "output_type": "stream",
     "text": [
      "510it [00:32, 15.56it/s]                                                                                               \n"
     ]
    },
    {
     "name": "stdout",
     "output_type": "stream",
     "text": [
      "Saving results in D:\\Sidevideos\\AR35MOTOR\\2022_01_27...\n",
      "Saving csv poses!\n",
      "Starting to analyze %  D:\\Sidevideos\\AR35MOTOR\\2022_01_27\\13.avi\n",
      "Loading  D:\\Sidevideos\\AR35MOTOR\\2022_01_27\\13.avi\n",
      "Duration of video [s]:  12.5 , recorded with  40.0 fps!\n",
      "Overall # of frames:  500  found with (before cropping) frame dimensions:  800 480\n",
      "Starting to extract posture\n"
     ]
    },
    {
     "name": "stderr",
     "output_type": "stream",
     "text": [
      "510it [00:33, 15.41it/s]                                                                                               \n"
     ]
    },
    {
     "name": "stdout",
     "output_type": "stream",
     "text": [
      "Saving results in D:\\Sidevideos\\AR35MOTOR\\2022_01_27...\n",
      "Saving csv poses!\n",
      "Starting to analyze %  D:\\Sidevideos\\AR35MOTOR\\2022_01_27\\130.avi\n",
      "Loading  D:\\Sidevideos\\AR35MOTOR\\2022_01_27\\130.avi\n",
      "Duration of video [s]:  12.5 , recorded with  40.0 fps!\n",
      "Overall # of frames:  500  found with (before cropping) frame dimensions:  800 480\n",
      "Starting to extract posture\n"
     ]
    },
    {
     "name": "stderr",
     "output_type": "stream",
     "text": [
      "510it [00:32, 15.56it/s]                                                                                               \n"
     ]
    },
    {
     "name": "stdout",
     "output_type": "stream",
     "text": [
      "Saving results in D:\\Sidevideos\\AR35MOTOR\\2022_01_27...\n",
      "Saving csv poses!\n",
      "Starting to analyze %  D:\\Sidevideos\\AR35MOTOR\\2022_01_27\\131.avi\n",
      "Loading  D:\\Sidevideos\\AR35MOTOR\\2022_01_27\\131.avi\n",
      "Duration of video [s]:  12.5 , recorded with  40.0 fps!\n",
      "Overall # of frames:  500  found with (before cropping) frame dimensions:  800 480\n",
      "Starting to extract posture\n"
     ]
    },
    {
     "name": "stderr",
     "output_type": "stream",
     "text": [
      "510it [00:32, 15.46it/s]                                                                                               \n"
     ]
    },
    {
     "name": "stdout",
     "output_type": "stream",
     "text": [
      "Saving results in D:\\Sidevideos\\AR35MOTOR\\2022_01_27...\n",
      "Saving csv poses!\n",
      "Starting to analyze %  D:\\Sidevideos\\AR35MOTOR\\2022_01_27\\132.avi\n",
      "Loading  D:\\Sidevideos\\AR35MOTOR\\2022_01_27\\132.avi\n",
      "Duration of video [s]:  12.5 , recorded with  40.0 fps!\n",
      "Overall # of frames:  500  found with (before cropping) frame dimensions:  800 480\n",
      "Starting to extract posture\n"
     ]
    },
    {
     "name": "stderr",
     "output_type": "stream",
     "text": [
      "510it [00:33, 15.39it/s]                                                                                               \n"
     ]
    },
    {
     "name": "stdout",
     "output_type": "stream",
     "text": [
      "Saving results in D:\\Sidevideos\\AR35MOTOR\\2022_01_27...\n",
      "Saving csv poses!\n",
      "Starting to analyze %  D:\\Sidevideos\\AR35MOTOR\\2022_01_27\\133.avi\n",
      "Loading  D:\\Sidevideos\\AR35MOTOR\\2022_01_27\\133.avi\n",
      "Duration of video [s]:  12.5 , recorded with  40.0 fps!\n",
      "Overall # of frames:  500  found with (before cropping) frame dimensions:  800 480\n",
      "Starting to extract posture\n"
     ]
    },
    {
     "name": "stderr",
     "output_type": "stream",
     "text": [
      "510it [00:33, 15.38it/s]                                                                                               \n"
     ]
    },
    {
     "name": "stdout",
     "output_type": "stream",
     "text": [
      "Saving results in D:\\Sidevideos\\AR35MOTOR\\2022_01_27...\n",
      "Saving csv poses!\n",
      "Starting to analyze %  D:\\Sidevideos\\AR35MOTOR\\2022_01_27\\134.avi\n",
      "Loading  D:\\Sidevideos\\AR35MOTOR\\2022_01_27\\134.avi\n",
      "Duration of video [s]:  12.5 , recorded with  40.0 fps!\n",
      "Overall # of frames:  500  found with (before cropping) frame dimensions:  800 480\n",
      "Starting to extract posture\n"
     ]
    },
    {
     "name": "stderr",
     "output_type": "stream",
     "text": [
      "510it [00:33, 15.31it/s]                                                                                               \n"
     ]
    },
    {
     "name": "stdout",
     "output_type": "stream",
     "text": [
      "Saving results in D:\\Sidevideos\\AR35MOTOR\\2022_01_27...\n",
      "Saving csv poses!\n",
      "Starting to analyze %  D:\\Sidevideos\\AR35MOTOR\\2022_01_27\\135.avi\n",
      "Loading  D:\\Sidevideos\\AR35MOTOR\\2022_01_27\\135.avi\n",
      "Duration of video [s]:  12.5 , recorded with  40.0 fps!\n",
      "Overall # of frames:  500  found with (before cropping) frame dimensions:  800 480\n",
      "Starting to extract posture\n"
     ]
    },
    {
     "name": "stderr",
     "output_type": "stream",
     "text": [
      "510it [00:33, 15.29it/s]                                                                                               \n"
     ]
    },
    {
     "name": "stdout",
     "output_type": "stream",
     "text": [
      "Saving results in D:\\Sidevideos\\AR35MOTOR\\2022_01_27...\n",
      "Saving csv poses!\n",
      "Starting to analyze %  D:\\Sidevideos\\AR35MOTOR\\2022_01_27\\136.avi\n",
      "Loading  D:\\Sidevideos\\AR35MOTOR\\2022_01_27\\136.avi\n",
      "Duration of video [s]:  12.5 , recorded with  40.0 fps!\n",
      "Overall # of frames:  500  found with (before cropping) frame dimensions:  800 480\n",
      "Starting to extract posture\n"
     ]
    },
    {
     "name": "stderr",
     "output_type": "stream",
     "text": [
      "510it [00:33, 15.36it/s]                                                                                               \n"
     ]
    },
    {
     "name": "stdout",
     "output_type": "stream",
     "text": [
      "Saving results in D:\\Sidevideos\\AR35MOTOR\\2022_01_27...\n",
      "Saving csv poses!\n",
      "Starting to analyze %  D:\\Sidevideos\\AR35MOTOR\\2022_01_27\\137.avi\n",
      "Loading  D:\\Sidevideos\\AR35MOTOR\\2022_01_27\\137.avi\n",
      "Duration of video [s]:  12.5 , recorded with  40.0 fps!\n",
      "Overall # of frames:  500  found with (before cropping) frame dimensions:  800 480\n",
      "Starting to extract posture\n"
     ]
    },
    {
     "name": "stderr",
     "output_type": "stream",
     "text": [
      "510it [00:33, 15.33it/s]                                                                                               \n"
     ]
    },
    {
     "name": "stdout",
     "output_type": "stream",
     "text": [
      "Saving results in D:\\Sidevideos\\AR35MOTOR\\2022_01_27...\n",
      "Saving csv poses!\n",
      "Starting to analyze %  D:\\Sidevideos\\AR35MOTOR\\2022_01_27\\138.avi\n",
      "Loading  D:\\Sidevideos\\AR35MOTOR\\2022_01_27\\138.avi\n",
      "Duration of video [s]:  12.5 , recorded with  40.0 fps!\n",
      "Overall # of frames:  500  found with (before cropping) frame dimensions:  800 480\n",
      "Starting to extract posture\n"
     ]
    },
    {
     "name": "stderr",
     "output_type": "stream",
     "text": [
      "510it [00:33, 15.40it/s]                                                                                               \n"
     ]
    },
    {
     "name": "stdout",
     "output_type": "stream",
     "text": [
      "Saving results in D:\\Sidevideos\\AR35MOTOR\\2022_01_27...\n",
      "Saving csv poses!\n",
      "Starting to analyze %  D:\\Sidevideos\\AR35MOTOR\\2022_01_27\\139.avi\n",
      "Loading  D:\\Sidevideos\\AR35MOTOR\\2022_01_27\\139.avi\n",
      "Duration of video [s]:  12.5 , recorded with  40.0 fps!\n",
      "Overall # of frames:  500  found with (before cropping) frame dimensions:  800 480\n",
      "Starting to extract posture\n"
     ]
    },
    {
     "name": "stderr",
     "output_type": "stream",
     "text": [
      "510it [00:33, 15.33it/s]                                                                                               \n"
     ]
    },
    {
     "name": "stdout",
     "output_type": "stream",
     "text": [
      "Saving results in D:\\Sidevideos\\AR35MOTOR\\2022_01_27...\n",
      "Saving csv poses!\n",
      "Starting to analyze %  D:\\Sidevideos\\AR35MOTOR\\2022_01_27\\14.avi\n",
      "Loading  D:\\Sidevideos\\AR35MOTOR\\2022_01_27\\14.avi\n",
      "Duration of video [s]:  12.5 , recorded with  40.0 fps!\n",
      "Overall # of frames:  500  found with (before cropping) frame dimensions:  800 480\n",
      "Starting to extract posture\n"
     ]
    },
    {
     "name": "stderr",
     "output_type": "stream",
     "text": [
      "510it [00:33, 15.38it/s]                                                                                               \n"
     ]
    },
    {
     "name": "stdout",
     "output_type": "stream",
     "text": [
      "Saving results in D:\\Sidevideos\\AR35MOTOR\\2022_01_27...\n",
      "Saving csv poses!\n",
      "Starting to analyze %  D:\\Sidevideos\\AR35MOTOR\\2022_01_27\\140.avi\n",
      "Loading  D:\\Sidevideos\\AR35MOTOR\\2022_01_27\\140.avi\n",
      "Duration of video [s]:  12.5 , recorded with  40.0 fps!\n",
      "Overall # of frames:  500  found with (before cropping) frame dimensions:  800 480\n",
      "Starting to extract posture\n"
     ]
    },
    {
     "name": "stderr",
     "output_type": "stream",
     "text": [
      "510it [00:33, 15.33it/s]                                                                                               \n"
     ]
    },
    {
     "name": "stdout",
     "output_type": "stream",
     "text": [
      "Saving results in D:\\Sidevideos\\AR35MOTOR\\2022_01_27...\n",
      "Saving csv poses!\n",
      "Starting to analyze %  D:\\Sidevideos\\AR35MOTOR\\2022_01_27\\141.avi\n",
      "Loading  D:\\Sidevideos\\AR35MOTOR\\2022_01_27\\141.avi\n",
      "Duration of video [s]:  12.5 , recorded with  40.0 fps!\n",
      "Overall # of frames:  500  found with (before cropping) frame dimensions:  800 480\n",
      "Starting to extract posture\n"
     ]
    },
    {
     "name": "stderr",
     "output_type": "stream",
     "text": [
      "510it [00:33, 15.38it/s]                                                                                               \n"
     ]
    },
    {
     "name": "stdout",
     "output_type": "stream",
     "text": [
      "Saving results in D:\\Sidevideos\\AR35MOTOR\\2022_01_27...\n",
      "Saving csv poses!\n",
      "Starting to analyze %  D:\\Sidevideos\\AR35MOTOR\\2022_01_27\\142.avi\n",
      "Loading  D:\\Sidevideos\\AR35MOTOR\\2022_01_27\\142.avi\n",
      "Duration of video [s]:  12.5 , recorded with  40.0 fps!\n",
      "Overall # of frames:  500  found with (before cropping) frame dimensions:  800 480\n",
      "Starting to extract posture\n"
     ]
    },
    {
     "name": "stderr",
     "output_type": "stream",
     "text": [
      "510it [00:33, 15.33it/s]                                                                                               \n"
     ]
    },
    {
     "name": "stdout",
     "output_type": "stream",
     "text": [
      "Saving results in D:\\Sidevideos\\AR35MOTOR\\2022_01_27...\n",
      "Saving csv poses!\n",
      "Starting to analyze %  D:\\Sidevideos\\AR35MOTOR\\2022_01_27\\143.avi\n",
      "Loading  D:\\Sidevideos\\AR35MOTOR\\2022_01_27\\143.avi\n",
      "Duration of video [s]:  12.5 , recorded with  40.0 fps!\n",
      "Overall # of frames:  500  found with (before cropping) frame dimensions:  800 480\n",
      "Starting to extract posture\n"
     ]
    },
    {
     "name": "stderr",
     "output_type": "stream",
     "text": [
      "510it [00:33, 15.30it/s]                                                                                               \n"
     ]
    },
    {
     "name": "stdout",
     "output_type": "stream",
     "text": [
      "Saving results in D:\\Sidevideos\\AR35MOTOR\\2022_01_27...\n",
      "Saving csv poses!\n",
      "Starting to analyze %  D:\\Sidevideos\\AR35MOTOR\\2022_01_27\\144.avi\n",
      "Loading  D:\\Sidevideos\\AR35MOTOR\\2022_01_27\\144.avi\n",
      "Duration of video [s]:  12.5 , recorded with  40.0 fps!\n",
      "Overall # of frames:  500  found with (before cropping) frame dimensions:  800 480\n",
      "Starting to extract posture\n"
     ]
    },
    {
     "name": "stderr",
     "output_type": "stream",
     "text": [
      "510it [00:33, 15.33it/s]                                                                                               \n"
     ]
    },
    {
     "name": "stdout",
     "output_type": "stream",
     "text": [
      "Saving results in D:\\Sidevideos\\AR35MOTOR\\2022_01_27...\n",
      "Saving csv poses!\n",
      "Starting to analyze %  D:\\Sidevideos\\AR35MOTOR\\2022_01_27\\145.avi\n",
      "Loading  D:\\Sidevideos\\AR35MOTOR\\2022_01_27\\145.avi\n",
      "Duration of video [s]:  12.5 , recorded with  40.0 fps!\n",
      "Overall # of frames:  500  found with (before cropping) frame dimensions:  800 480\n",
      "Starting to extract posture\n"
     ]
    },
    {
     "name": "stderr",
     "output_type": "stream",
     "text": [
      "510it [00:33, 15.36it/s]                                                                                               \n"
     ]
    },
    {
     "name": "stdout",
     "output_type": "stream",
     "text": [
      "Saving results in D:\\Sidevideos\\AR35MOTOR\\2022_01_27...\n",
      "Saving csv poses!\n",
      "Starting to analyze %  D:\\Sidevideos\\AR35MOTOR\\2022_01_27\\146.avi\n",
      "Loading  D:\\Sidevideos\\AR35MOTOR\\2022_01_27\\146.avi\n",
      "Duration of video [s]:  12.5 , recorded with  40.0 fps!\n",
      "Overall # of frames:  500  found with (before cropping) frame dimensions:  800 480\n",
      "Starting to extract posture\n"
     ]
    },
    {
     "name": "stderr",
     "output_type": "stream",
     "text": [
      "510it [00:32, 15.47it/s]                                                                                               \n"
     ]
    },
    {
     "name": "stdout",
     "output_type": "stream",
     "text": [
      "Saving results in D:\\Sidevideos\\AR35MOTOR\\2022_01_27...\n",
      "Saving csv poses!\n",
      "Starting to analyze %  D:\\Sidevideos\\AR35MOTOR\\2022_01_27\\147.avi\n",
      "Loading  D:\\Sidevideos\\AR35MOTOR\\2022_01_27\\147.avi\n",
      "Duration of video [s]:  12.5 , recorded with  40.0 fps!\n",
      "Overall # of frames:  500  found with (before cropping) frame dimensions:  800 480\n",
      "Starting to extract posture\n"
     ]
    },
    {
     "name": "stderr",
     "output_type": "stream",
     "text": [
      "510it [00:33, 15.35it/s]                                                                                               \n"
     ]
    },
    {
     "name": "stdout",
     "output_type": "stream",
     "text": [
      "Saving results in D:\\Sidevideos\\AR35MOTOR\\2022_01_27...\n",
      "Saving csv poses!\n",
      "Starting to analyze %  D:\\Sidevideos\\AR35MOTOR\\2022_01_27\\148.avi\n",
      "Loading  D:\\Sidevideos\\AR35MOTOR\\2022_01_27\\148.avi\n",
      "Duration of video [s]:  12.5 , recorded with  40.0 fps!\n",
      "Overall # of frames:  500  found with (before cropping) frame dimensions:  800 480\n",
      "Starting to extract posture\n"
     ]
    },
    {
     "name": "stderr",
     "output_type": "stream",
     "text": [
      "510it [00:33, 15.38it/s]                                                                                               \n"
     ]
    },
    {
     "name": "stdout",
     "output_type": "stream",
     "text": [
      "Saving results in D:\\Sidevideos\\AR35MOTOR\\2022_01_27...\n",
      "Saving csv poses!\n",
      "Starting to analyze %  D:\\Sidevideos\\AR35MOTOR\\2022_01_27\\149.avi\n",
      "Loading  D:\\Sidevideos\\AR35MOTOR\\2022_01_27\\149.avi\n",
      "Duration of video [s]:  12.5 , recorded with  40.0 fps!\n",
      "Overall # of frames:  500  found with (before cropping) frame dimensions:  800 480\n",
      "Starting to extract posture\n"
     ]
    },
    {
     "name": "stderr",
     "output_type": "stream",
     "text": [
      "510it [00:33, 15.35it/s]                                                                                               \n"
     ]
    },
    {
     "name": "stdout",
     "output_type": "stream",
     "text": [
      "Saving results in D:\\Sidevideos\\AR35MOTOR\\2022_01_27...\n",
      "Saving csv poses!\n",
      "Starting to analyze %  D:\\Sidevideos\\AR35MOTOR\\2022_01_27\\15.avi\n",
      "Loading  D:\\Sidevideos\\AR35MOTOR\\2022_01_27\\15.avi\n",
      "Duration of video [s]:  12.5 , recorded with  40.0 fps!\n",
      "Overall # of frames:  500  found with (before cropping) frame dimensions:  800 480\n",
      "Starting to extract posture\n"
     ]
    },
    {
     "name": "stderr",
     "output_type": "stream",
     "text": [
      "510it [00:33, 15.40it/s]                                                                                               \n"
     ]
    },
    {
     "name": "stdout",
     "output_type": "stream",
     "text": [
      "Saving results in D:\\Sidevideos\\AR35MOTOR\\2022_01_27...\n",
      "Saving csv poses!\n",
      "Starting to analyze %  D:\\Sidevideos\\AR35MOTOR\\2022_01_27\\150.avi\n",
      "Loading  D:\\Sidevideos\\AR35MOTOR\\2022_01_27\\150.avi\n",
      "Duration of video [s]:  12.5 , recorded with  40.0 fps!\n",
      "Overall # of frames:  500  found with (before cropping) frame dimensions:  800 480\n",
      "Starting to extract posture\n"
     ]
    },
    {
     "name": "stderr",
     "output_type": "stream",
     "text": [
      "510it [00:33, 15.31it/s]                                                                                               \n"
     ]
    },
    {
     "name": "stdout",
     "output_type": "stream",
     "text": [
      "Saving results in D:\\Sidevideos\\AR35MOTOR\\2022_01_27...\n",
      "Saving csv poses!\n",
      "Starting to analyze %  D:\\Sidevideos\\AR35MOTOR\\2022_01_27\\151.avi\n",
      "Loading  D:\\Sidevideos\\AR35MOTOR\\2022_01_27\\151.avi\n",
      "Duration of video [s]:  12.5 , recorded with  40.0 fps!\n",
      "Overall # of frames:  500  found with (before cropping) frame dimensions:  800 480\n",
      "Starting to extract posture\n"
     ]
    },
    {
     "name": "stderr",
     "output_type": "stream",
     "text": [
      "510it [00:33, 15.39it/s]                                                                                               \n"
     ]
    },
    {
     "name": "stdout",
     "output_type": "stream",
     "text": [
      "Saving results in D:\\Sidevideos\\AR35MOTOR\\2022_01_27...\n",
      "Saving csv poses!\n",
      "Starting to analyze %  D:\\Sidevideos\\AR35MOTOR\\2022_01_27\\152.avi\n",
      "Loading  D:\\Sidevideos\\AR35MOTOR\\2022_01_27\\152.avi\n",
      "Duration of video [s]:  12.5 , recorded with  40.0 fps!\n",
      "Overall # of frames:  500  found with (before cropping) frame dimensions:  800 480\n",
      "Starting to extract posture\n"
     ]
    },
    {
     "name": "stderr",
     "output_type": "stream",
     "text": [
      "510it [00:33, 15.36it/s]                                                                                               \n"
     ]
    },
    {
     "name": "stdout",
     "output_type": "stream",
     "text": [
      "Saving results in D:\\Sidevideos\\AR35MOTOR\\2022_01_27...\n",
      "Saving csv poses!\n",
      "Starting to analyze %  D:\\Sidevideos\\AR35MOTOR\\2022_01_27\\153.avi\n",
      "Loading  D:\\Sidevideos\\AR35MOTOR\\2022_01_27\\153.avi\n",
      "Duration of video [s]:  12.5 , recorded with  40.0 fps!\n",
      "Overall # of frames:  500  found with (before cropping) frame dimensions:  800 480\n",
      "Starting to extract posture\n"
     ]
    },
    {
     "name": "stderr",
     "output_type": "stream",
     "text": [
      "510it [00:33, 15.34it/s]                                                                                               \n"
     ]
    },
    {
     "name": "stdout",
     "output_type": "stream",
     "text": [
      "Saving results in D:\\Sidevideos\\AR35MOTOR\\2022_01_27...\n",
      "Saving csv poses!\n",
      "Starting to analyze %  D:\\Sidevideos\\AR35MOTOR\\2022_01_27\\154.avi\n",
      "Loading  D:\\Sidevideos\\AR35MOTOR\\2022_01_27\\154.avi\n",
      "Duration of video [s]:  12.5 , recorded with  40.0 fps!\n",
      "Overall # of frames:  500  found with (before cropping) frame dimensions:  800 480\n",
      "Starting to extract posture\n"
     ]
    },
    {
     "name": "stderr",
     "output_type": "stream",
     "text": [
      "510it [00:33, 15.38it/s]                                                                                               \n"
     ]
    },
    {
     "name": "stdout",
     "output_type": "stream",
     "text": [
      "Saving results in D:\\Sidevideos\\AR35MOTOR\\2022_01_27...\n",
      "Saving csv poses!\n",
      "Starting to analyze %  D:\\Sidevideos\\AR35MOTOR\\2022_01_27\\155.avi\n",
      "Loading  D:\\Sidevideos\\AR35MOTOR\\2022_01_27\\155.avi\n",
      "Duration of video [s]:  12.5 , recorded with  40.0 fps!\n",
      "Overall # of frames:  500  found with (before cropping) frame dimensions:  800 480\n",
      "Starting to extract posture\n"
     ]
    },
    {
     "name": "stderr",
     "output_type": "stream",
     "text": [
      "510it [00:33, 15.37it/s]                                                                                               \n"
     ]
    },
    {
     "name": "stdout",
     "output_type": "stream",
     "text": [
      "Saving results in D:\\Sidevideos\\AR35MOTOR\\2022_01_27...\n",
      "Saving csv poses!\n",
      "Starting to analyze %  D:\\Sidevideos\\AR35MOTOR\\2022_01_27\\156.avi\n",
      "Loading  D:\\Sidevideos\\AR35MOTOR\\2022_01_27\\156.avi\n",
      "Duration of video [s]:  12.5 , recorded with  40.0 fps!\n",
      "Overall # of frames:  500  found with (before cropping) frame dimensions:  800 480\n",
      "Starting to extract posture\n"
     ]
    },
    {
     "name": "stderr",
     "output_type": "stream",
     "text": [
      "510it [00:33, 15.31it/s]                                                                                               \n"
     ]
    },
    {
     "name": "stdout",
     "output_type": "stream",
     "text": [
      "Saving results in D:\\Sidevideos\\AR35MOTOR\\2022_01_27...\n",
      "Saving csv poses!\n",
      "Starting to analyze %  D:\\Sidevideos\\AR35MOTOR\\2022_01_27\\157.avi\n",
      "Loading  D:\\Sidevideos\\AR35MOTOR\\2022_01_27\\157.avi\n",
      "Duration of video [s]:  12.5 , recorded with  40.0 fps!\n",
      "Overall # of frames:  500  found with (before cropping) frame dimensions:  800 480\n",
      "Starting to extract posture\n"
     ]
    },
    {
     "name": "stderr",
     "output_type": "stream",
     "text": [
      "510it [00:33, 15.35it/s]                                                                                               \n"
     ]
    },
    {
     "name": "stdout",
     "output_type": "stream",
     "text": [
      "Saving results in D:\\Sidevideos\\AR35MOTOR\\2022_01_27...\n",
      "Saving csv poses!\n",
      "Starting to analyze %  D:\\Sidevideos\\AR35MOTOR\\2022_01_27\\158.avi\n",
      "Loading  D:\\Sidevideos\\AR35MOTOR\\2022_01_27\\158.avi\n",
      "Duration of video [s]:  12.5 , recorded with  40.0 fps!\n",
      "Overall # of frames:  500  found with (before cropping) frame dimensions:  800 480\n",
      "Starting to extract posture\n"
     ]
    },
    {
     "name": "stderr",
     "output_type": "stream",
     "text": [
      "510it [00:33, 15.30it/s]                                                                                               \n"
     ]
    },
    {
     "name": "stdout",
     "output_type": "stream",
     "text": [
      "Saving results in D:\\Sidevideos\\AR35MOTOR\\2022_01_27...\n",
      "Saving csv poses!\n",
      "Starting to analyze %  D:\\Sidevideos\\AR35MOTOR\\2022_01_27\\159.avi\n",
      "Loading  D:\\Sidevideos\\AR35MOTOR\\2022_01_27\\159.avi\n",
      "Duration of video [s]:  12.5 , recorded with  40.0 fps!\n",
      "Overall # of frames:  500  found with (before cropping) frame dimensions:  800 480\n",
      "Starting to extract posture\n"
     ]
    },
    {
     "name": "stderr",
     "output_type": "stream",
     "text": [
      "510it [00:33, 15.31it/s]                                                                                               \n"
     ]
    },
    {
     "name": "stdout",
     "output_type": "stream",
     "text": [
      "Saving results in D:\\Sidevideos\\AR35MOTOR\\2022_01_27...\n",
      "Saving csv poses!\n",
      "Starting to analyze %  D:\\Sidevideos\\AR35MOTOR\\2022_01_27\\16.avi\n",
      "Loading  D:\\Sidevideos\\AR35MOTOR\\2022_01_27\\16.avi\n",
      "Duration of video [s]:  12.5 , recorded with  40.0 fps!\n",
      "Overall # of frames:  500  found with (before cropping) frame dimensions:  800 480\n",
      "Starting to extract posture\n"
     ]
    },
    {
     "name": "stderr",
     "output_type": "stream",
     "text": [
      "510it [00:33, 15.37it/s]                                                                                               \n"
     ]
    },
    {
     "name": "stdout",
     "output_type": "stream",
     "text": [
      "Saving results in D:\\Sidevideos\\AR35MOTOR\\2022_01_27...\n",
      "Saving csv poses!\n",
      "Starting to analyze %  D:\\Sidevideos\\AR35MOTOR\\2022_01_27\\160.avi\n",
      "Loading  D:\\Sidevideos\\AR35MOTOR\\2022_01_27\\160.avi\n",
      "Duration of video [s]:  12.5 , recorded with  40.0 fps!\n",
      "Overall # of frames:  500  found with (before cropping) frame dimensions:  800 480\n",
      "Starting to extract posture\n"
     ]
    },
    {
     "name": "stderr",
     "output_type": "stream",
     "text": [
      "510it [00:33, 15.33it/s]                                                                                               \n"
     ]
    },
    {
     "name": "stdout",
     "output_type": "stream",
     "text": [
      "Saving results in D:\\Sidevideos\\AR35MOTOR\\2022_01_27...\n",
      "Saving csv poses!\n",
      "Starting to analyze %  D:\\Sidevideos\\AR35MOTOR\\2022_01_27\\161.avi\n",
      "Loading  D:\\Sidevideos\\AR35MOTOR\\2022_01_27\\161.avi\n",
      "Duration of video [s]:  12.5 , recorded with  40.0 fps!\n",
      "Overall # of frames:  500  found with (before cropping) frame dimensions:  800 480\n",
      "Starting to extract posture\n"
     ]
    },
    {
     "name": "stderr",
     "output_type": "stream",
     "text": [
      "510it [00:33, 15.30it/s]                                                                                               \n"
     ]
    },
    {
     "name": "stdout",
     "output_type": "stream",
     "text": [
      "Saving results in D:\\Sidevideos\\AR35MOTOR\\2022_01_27...\n",
      "Saving csv poses!\n",
      "Starting to analyze %  D:\\Sidevideos\\AR35MOTOR\\2022_01_27\\162.avi\n",
      "Loading  D:\\Sidevideos\\AR35MOTOR\\2022_01_27\\162.avi\n",
      "Duration of video [s]:  12.5 , recorded with  40.0 fps!\n",
      "Overall # of frames:  500  found with (before cropping) frame dimensions:  800 480\n",
      "Starting to extract posture\n"
     ]
    },
    {
     "name": "stderr",
     "output_type": "stream",
     "text": [
      "510it [00:33, 15.28it/s]                                                                                               \n"
     ]
    },
    {
     "name": "stdout",
     "output_type": "stream",
     "text": [
      "Saving results in D:\\Sidevideos\\AR35MOTOR\\2022_01_27...\n",
      "Saving csv poses!\n",
      "Starting to analyze %  D:\\Sidevideos\\AR35MOTOR\\2022_01_27\\163.avi\n",
      "Loading  D:\\Sidevideos\\AR35MOTOR\\2022_01_27\\163.avi\n",
      "Duration of video [s]:  12.5 , recorded with  40.0 fps!\n",
      "Overall # of frames:  500  found with (before cropping) frame dimensions:  800 480\n",
      "Starting to extract posture\n"
     ]
    },
    {
     "name": "stderr",
     "output_type": "stream",
     "text": [
      "510it [00:33, 15.38it/s]                                                                                               \n"
     ]
    },
    {
     "name": "stdout",
     "output_type": "stream",
     "text": [
      "Saving results in D:\\Sidevideos\\AR35MOTOR\\2022_01_27...\n",
      "Saving csv poses!\n",
      "Starting to analyze %  D:\\Sidevideos\\AR35MOTOR\\2022_01_27\\164.avi\n",
      "Loading  D:\\Sidevideos\\AR35MOTOR\\2022_01_27\\164.avi\n",
      "Duration of video [s]:  12.5 , recorded with  40.0 fps!\n",
      "Overall # of frames:  500  found with (before cropping) frame dimensions:  800 480\n",
      "Starting to extract posture\n"
     ]
    },
    {
     "name": "stderr",
     "output_type": "stream",
     "text": [
      "510it [00:33, 15.37it/s]                                                                                               \n"
     ]
    },
    {
     "name": "stdout",
     "output_type": "stream",
     "text": [
      "Saving results in D:\\Sidevideos\\AR35MOTOR\\2022_01_27...\n",
      "Saving csv poses!\n",
      "Starting to analyze %  D:\\Sidevideos\\AR35MOTOR\\2022_01_27\\165.avi\n",
      "Loading  D:\\Sidevideos\\AR35MOTOR\\2022_01_27\\165.avi\n",
      "Duration of video [s]:  12.5 , recorded with  40.0 fps!\n",
      "Overall # of frames:  500  found with (before cropping) frame dimensions:  800 480\n",
      "Starting to extract posture\n"
     ]
    },
    {
     "name": "stderr",
     "output_type": "stream",
     "text": [
      "510it [00:33, 15.35it/s]                                                                                               \n"
     ]
    },
    {
     "name": "stdout",
     "output_type": "stream",
     "text": [
      "Saving results in D:\\Sidevideos\\AR35MOTOR\\2022_01_27...\n",
      "Saving csv poses!\n",
      "Starting to analyze %  D:\\Sidevideos\\AR35MOTOR\\2022_01_27\\166.avi\n",
      "Loading  D:\\Sidevideos\\AR35MOTOR\\2022_01_27\\166.avi\n",
      "Duration of video [s]:  12.5 , recorded with  40.0 fps!\n",
      "Overall # of frames:  500  found with (before cropping) frame dimensions:  800 480\n",
      "Starting to extract posture\n"
     ]
    },
    {
     "name": "stderr",
     "output_type": "stream",
     "text": [
      "510it [00:33, 15.37it/s]                                                                                               \n"
     ]
    },
    {
     "name": "stdout",
     "output_type": "stream",
     "text": [
      "Saving results in D:\\Sidevideos\\AR35MOTOR\\2022_01_27...\n",
      "Saving csv poses!\n",
      "Starting to analyze %  D:\\Sidevideos\\AR35MOTOR\\2022_01_27\\167.avi\n",
      "Loading  D:\\Sidevideos\\AR35MOTOR\\2022_01_27\\167.avi\n",
      "Duration of video [s]:  12.5 , recorded with  40.0 fps!\n",
      "Overall # of frames:  500  found with (before cropping) frame dimensions:  800 480\n",
      "Starting to extract posture\n"
     ]
    },
    {
     "name": "stderr",
     "output_type": "stream",
     "text": [
      "510it [00:32, 15.46it/s]                                                                                               \n"
     ]
    },
    {
     "name": "stdout",
     "output_type": "stream",
     "text": [
      "Saving results in D:\\Sidevideos\\AR35MOTOR\\2022_01_27...\n",
      "Saving csv poses!\n",
      "Starting to analyze %  D:\\Sidevideos\\AR35MOTOR\\2022_01_27\\168.avi\n",
      "Loading  D:\\Sidevideos\\AR35MOTOR\\2022_01_27\\168.avi\n",
      "Duration of video [s]:  12.5 , recorded with  40.0 fps!\n",
      "Overall # of frames:  500  found with (before cropping) frame dimensions:  800 480\n",
      "Starting to extract posture\n"
     ]
    },
    {
     "name": "stderr",
     "output_type": "stream",
     "text": [
      "510it [00:33, 15.41it/s]                                                                                               \n"
     ]
    },
    {
     "name": "stdout",
     "output_type": "stream",
     "text": [
      "Saving results in D:\\Sidevideos\\AR35MOTOR\\2022_01_27...\n",
      "Saving csv poses!\n",
      "Starting to analyze %  D:\\Sidevideos\\AR35MOTOR\\2022_01_27\\169.avi\n",
      "Loading  D:\\Sidevideos\\AR35MOTOR\\2022_01_27\\169.avi\n",
      "Duration of video [s]:  12.5 , recorded with  40.0 fps!\n",
      "Overall # of frames:  500  found with (before cropping) frame dimensions:  800 480\n",
      "Starting to extract posture\n"
     ]
    },
    {
     "name": "stderr",
     "output_type": "stream",
     "text": [
      "510it [00:33, 15.38it/s]                                                                                               \n"
     ]
    },
    {
     "name": "stdout",
     "output_type": "stream",
     "text": [
      "Saving results in D:\\Sidevideos\\AR35MOTOR\\2022_01_27...\n",
      "Saving csv poses!\n",
      "Starting to analyze %  D:\\Sidevideos\\AR35MOTOR\\2022_01_27\\17.avi\n",
      "Loading  D:\\Sidevideos\\AR35MOTOR\\2022_01_27\\17.avi\n",
      "Duration of video [s]:  12.5 , recorded with  40.0 fps!\n",
      "Overall # of frames:  500  found with (before cropping) frame dimensions:  800 480\n",
      "Starting to extract posture\n"
     ]
    },
    {
     "name": "stderr",
     "output_type": "stream",
     "text": [
      "510it [00:32, 15.48it/s]                                                                                               \n"
     ]
    },
    {
     "name": "stdout",
     "output_type": "stream",
     "text": [
      "Saving results in D:\\Sidevideos\\AR35MOTOR\\2022_01_27...\n",
      "Saving csv poses!\n",
      "Starting to analyze %  D:\\Sidevideos\\AR35MOTOR\\2022_01_27\\170.avi\n",
      "Loading  D:\\Sidevideos\\AR35MOTOR\\2022_01_27\\170.avi\n",
      "Duration of video [s]:  12.5 , recorded with  40.0 fps!\n",
      "Overall # of frames:  500  found with (before cropping) frame dimensions:  800 480\n",
      "Starting to extract posture\n"
     ]
    },
    {
     "name": "stderr",
     "output_type": "stream",
     "text": [
      "510it [00:33, 15.34it/s]                                                                                               \n"
     ]
    },
    {
     "name": "stdout",
     "output_type": "stream",
     "text": [
      "Saving results in D:\\Sidevideos\\AR35MOTOR\\2022_01_27...\n",
      "Saving csv poses!\n",
      "Starting to analyze %  D:\\Sidevideos\\AR35MOTOR\\2022_01_27\\171.avi\n",
      "Loading  D:\\Sidevideos\\AR35MOTOR\\2022_01_27\\171.avi\n",
      "Duration of video [s]:  12.5 , recorded with  40.0 fps!\n",
      "Overall # of frames:  500  found with (before cropping) frame dimensions:  800 480\n",
      "Starting to extract posture\n"
     ]
    },
    {
     "name": "stderr",
     "output_type": "stream",
     "text": [
      "510it [00:33, 15.40it/s]                                                                                               \n"
     ]
    },
    {
     "name": "stdout",
     "output_type": "stream",
     "text": [
      "Saving results in D:\\Sidevideos\\AR35MOTOR\\2022_01_27...\n",
      "Saving csv poses!\n",
      "Starting to analyze %  D:\\Sidevideos\\AR35MOTOR\\2022_01_27\\172.avi\n",
      "Loading  D:\\Sidevideos\\AR35MOTOR\\2022_01_27\\172.avi\n",
      "Duration of video [s]:  12.5 , recorded with  40.0 fps!\n",
      "Overall # of frames:  500  found with (before cropping) frame dimensions:  800 480\n",
      "Starting to extract posture\n"
     ]
    },
    {
     "name": "stderr",
     "output_type": "stream",
     "text": [
      "510it [00:33, 15.42it/s]                                                                                               \n"
     ]
    },
    {
     "name": "stdout",
     "output_type": "stream",
     "text": [
      "Saving results in D:\\Sidevideos\\AR35MOTOR\\2022_01_27...\n",
      "Saving csv poses!\n",
      "Starting to analyze %  D:\\Sidevideos\\AR35MOTOR\\2022_01_27\\173.avi\n",
      "Loading  D:\\Sidevideos\\AR35MOTOR\\2022_01_27\\173.avi\n",
      "Duration of video [s]:  12.5 , recorded with  40.0 fps!\n",
      "Overall # of frames:  500  found with (before cropping) frame dimensions:  800 480\n",
      "Starting to extract posture\n"
     ]
    },
    {
     "name": "stderr",
     "output_type": "stream",
     "text": [
      "510it [00:33, 15.36it/s]                                                                                               \n"
     ]
    },
    {
     "name": "stdout",
     "output_type": "stream",
     "text": [
      "Saving results in D:\\Sidevideos\\AR35MOTOR\\2022_01_27...\n",
      "Saving csv poses!\n",
      "Starting to analyze %  D:\\Sidevideos\\AR35MOTOR\\2022_01_27\\174.avi\n",
      "Loading  D:\\Sidevideos\\AR35MOTOR\\2022_01_27\\174.avi\n",
      "Duration of video [s]:  12.5 , recorded with  40.0 fps!\n",
      "Overall # of frames:  500  found with (before cropping) frame dimensions:  800 480\n",
      "Starting to extract posture\n"
     ]
    },
    {
     "name": "stderr",
     "output_type": "stream",
     "text": [
      "510it [00:32, 15.47it/s]                                                                                               \n"
     ]
    },
    {
     "name": "stdout",
     "output_type": "stream",
     "text": [
      "Saving results in D:\\Sidevideos\\AR35MOTOR\\2022_01_27...\n",
      "Saving csv poses!\n",
      "Starting to analyze %  D:\\Sidevideos\\AR35MOTOR\\2022_01_27\\175.avi\n",
      "Loading  D:\\Sidevideos\\AR35MOTOR\\2022_01_27\\175.avi\n",
      "Duration of video [s]:  12.5 , recorded with  40.0 fps!\n",
      "Overall # of frames:  500  found with (before cropping) frame dimensions:  800 480\n",
      "Starting to extract posture\n"
     ]
    },
    {
     "name": "stderr",
     "output_type": "stream",
     "text": [
      "510it [00:32, 15.49it/s]                                                                                               \n"
     ]
    },
    {
     "name": "stdout",
     "output_type": "stream",
     "text": [
      "Saving results in D:\\Sidevideos\\AR35MOTOR\\2022_01_27...\n",
      "Saving csv poses!\n",
      "Starting to analyze %  D:\\Sidevideos\\AR35MOTOR\\2022_01_27\\176.avi\n",
      "Loading  D:\\Sidevideos\\AR35MOTOR\\2022_01_27\\176.avi\n",
      "Duration of video [s]:  12.5 , recorded with  40.0 fps!\n",
      "Overall # of frames:  500  found with (before cropping) frame dimensions:  800 480\n",
      "Starting to extract posture\n"
     ]
    },
    {
     "name": "stderr",
     "output_type": "stream",
     "text": [
      "510it [00:33, 15.33it/s]                                                                                               \n"
     ]
    },
    {
     "name": "stdout",
     "output_type": "stream",
     "text": [
      "Saving results in D:\\Sidevideos\\AR35MOTOR\\2022_01_27...\n",
      "Saving csv poses!\n",
      "Starting to analyze %  D:\\Sidevideos\\AR35MOTOR\\2022_01_27\\177.avi\n",
      "Loading  D:\\Sidevideos\\AR35MOTOR\\2022_01_27\\177.avi\n",
      "Duration of video [s]:  12.5 , recorded with  40.0 fps!\n",
      "Overall # of frames:  500  found with (before cropping) frame dimensions:  800 480\n",
      "Starting to extract posture\n"
     ]
    },
    {
     "name": "stderr",
     "output_type": "stream",
     "text": [
      "510it [00:33, 15.38it/s]                                                                                               \n"
     ]
    },
    {
     "name": "stdout",
     "output_type": "stream",
     "text": [
      "Saving results in D:\\Sidevideos\\AR35MOTOR\\2022_01_27...\n",
      "Saving csv poses!\n",
      "Starting to analyze %  D:\\Sidevideos\\AR35MOTOR\\2022_01_27\\178.avi\n",
      "Loading  D:\\Sidevideos\\AR35MOTOR\\2022_01_27\\178.avi\n",
      "Duration of video [s]:  12.5 , recorded with  40.0 fps!\n",
      "Overall # of frames:  500  found with (before cropping) frame dimensions:  800 480\n",
      "Starting to extract posture\n"
     ]
    },
    {
     "name": "stderr",
     "output_type": "stream",
     "text": [
      "510it [00:33, 15.36it/s]                                                                                               \n"
     ]
    },
    {
     "name": "stdout",
     "output_type": "stream",
     "text": [
      "Saving results in D:\\Sidevideos\\AR35MOTOR\\2022_01_27...\n",
      "Saving csv poses!\n",
      "Starting to analyze %  D:\\Sidevideos\\AR35MOTOR\\2022_01_27\\179.avi\n",
      "Loading  D:\\Sidevideos\\AR35MOTOR\\2022_01_27\\179.avi\n",
      "Duration of video [s]:  12.5 , recorded with  40.0 fps!\n",
      "Overall # of frames:  500  found with (before cropping) frame dimensions:  800 480\n",
      "Starting to extract posture\n"
     ]
    },
    {
     "name": "stderr",
     "output_type": "stream",
     "text": [
      "510it [00:33, 15.36it/s]                                                                                               \n"
     ]
    },
    {
     "name": "stdout",
     "output_type": "stream",
     "text": [
      "Saving results in D:\\Sidevideos\\AR35MOTOR\\2022_01_27...\n",
      "Saving csv poses!\n",
      "Starting to analyze %  D:\\Sidevideos\\AR35MOTOR\\2022_01_27\\18.avi\n",
      "Loading  D:\\Sidevideos\\AR35MOTOR\\2022_01_27\\18.avi\n",
      "Duration of video [s]:  12.5 , recorded with  40.0 fps!\n",
      "Overall # of frames:  500  found with (before cropping) frame dimensions:  800 480\n",
      "Starting to extract posture\n"
     ]
    },
    {
     "name": "stderr",
     "output_type": "stream",
     "text": [
      "510it [00:33, 15.39it/s]                                                                                               \n"
     ]
    },
    {
     "name": "stdout",
     "output_type": "stream",
     "text": [
      "Saving results in D:\\Sidevideos\\AR35MOTOR\\2022_01_27...\n",
      "Saving csv poses!\n",
      "Starting to analyze %  D:\\Sidevideos\\AR35MOTOR\\2022_01_27\\180.avi\n",
      "Loading  D:\\Sidevideos\\AR35MOTOR\\2022_01_27\\180.avi\n",
      "Duration of video [s]:  12.5 , recorded with  40.0 fps!\n",
      "Overall # of frames:  500  found with (before cropping) frame dimensions:  800 480\n",
      "Starting to extract posture\n"
     ]
    },
    {
     "name": "stderr",
     "output_type": "stream",
     "text": [
      "510it [00:32, 15.47it/s]                                                                                               \n"
     ]
    },
    {
     "name": "stdout",
     "output_type": "stream",
     "text": [
      "Saving results in D:\\Sidevideos\\AR35MOTOR\\2022_01_27...\n",
      "Saving csv poses!\n",
      "Starting to analyze %  D:\\Sidevideos\\AR35MOTOR\\2022_01_27\\181.avi\n",
      "Loading  D:\\Sidevideos\\AR35MOTOR\\2022_01_27\\181.avi\n",
      "Duration of video [s]:  12.5 , recorded with  40.0 fps!\n",
      "Overall # of frames:  500  found with (before cropping) frame dimensions:  800 480\n",
      "Starting to extract posture\n"
     ]
    },
    {
     "name": "stderr",
     "output_type": "stream",
     "text": [
      "510it [00:33, 15.43it/s]                                                                                               \n"
     ]
    },
    {
     "name": "stdout",
     "output_type": "stream",
     "text": [
      "Saving results in D:\\Sidevideos\\AR35MOTOR\\2022_01_27...\n",
      "Saving csv poses!\n",
      "Starting to analyze %  D:\\Sidevideos\\AR35MOTOR\\2022_01_27\\182.avi\n",
      "Loading  D:\\Sidevideos\\AR35MOTOR\\2022_01_27\\182.avi\n",
      "Duration of video [s]:  12.5 , recorded with  40.0 fps!\n",
      "Overall # of frames:  500  found with (before cropping) frame dimensions:  800 480\n",
      "Starting to extract posture\n"
     ]
    },
    {
     "name": "stderr",
     "output_type": "stream",
     "text": [
      "510it [00:33, 15.40it/s]                                                                                               \n"
     ]
    },
    {
     "name": "stdout",
     "output_type": "stream",
     "text": [
      "Saving results in D:\\Sidevideos\\AR35MOTOR\\2022_01_27...\n",
      "Saving csv poses!\n",
      "Starting to analyze %  D:\\Sidevideos\\AR35MOTOR\\2022_01_27\\183.avi\n",
      "Loading  D:\\Sidevideos\\AR35MOTOR\\2022_01_27\\183.avi\n",
      "Duration of video [s]:  12.5 , recorded with  40.0 fps!\n",
      "Overall # of frames:  500  found with (before cropping) frame dimensions:  800 480\n",
      "Starting to extract posture\n"
     ]
    },
    {
     "name": "stderr",
     "output_type": "stream",
     "text": [
      "510it [00:33, 15.41it/s]                                                                                               \n"
     ]
    },
    {
     "name": "stdout",
     "output_type": "stream",
     "text": [
      "Saving results in D:\\Sidevideos\\AR35MOTOR\\2022_01_27...\n",
      "Saving csv poses!\n",
      "Starting to analyze %  D:\\Sidevideos\\AR35MOTOR\\2022_01_27\\184.avi\n",
      "Loading  D:\\Sidevideos\\AR35MOTOR\\2022_01_27\\184.avi\n",
      "Duration of video [s]:  12.5 , recorded with  40.0 fps!\n",
      "Overall # of frames:  500  found with (before cropping) frame dimensions:  800 480\n",
      "Starting to extract posture\n"
     ]
    },
    {
     "name": "stderr",
     "output_type": "stream",
     "text": [
      "510it [00:33, 15.35it/s]                                                                                               \n"
     ]
    },
    {
     "name": "stdout",
     "output_type": "stream",
     "text": [
      "Saving results in D:\\Sidevideos\\AR35MOTOR\\2022_01_27...\n",
      "Saving csv poses!\n",
      "Starting to analyze %  D:\\Sidevideos\\AR35MOTOR\\2022_01_27\\185.avi\n",
      "Loading  D:\\Sidevideos\\AR35MOTOR\\2022_01_27\\185.avi\n",
      "Duration of video [s]:  12.5 , recorded with  40.0 fps!\n",
      "Overall # of frames:  500  found with (before cropping) frame dimensions:  800 480\n",
      "Starting to extract posture\n"
     ]
    },
    {
     "name": "stderr",
     "output_type": "stream",
     "text": [
      "510it [00:29, 17.50it/s]                                                                                               \n"
     ]
    },
    {
     "name": "stdout",
     "output_type": "stream",
     "text": [
      "Saving results in D:\\Sidevideos\\AR35MOTOR\\2022_01_27...\n",
      "Saving csv poses!\n",
      "Starting to analyze %  D:\\Sidevideos\\AR35MOTOR\\2022_01_27\\186.avi\n",
      "Loading  D:\\Sidevideos\\AR35MOTOR\\2022_01_27\\186.avi\n",
      "Duration of video [s]:  12.5 , recorded with  40.0 fps!\n",
      "Overall # of frames:  500  found with (before cropping) frame dimensions:  800 480\n",
      "Starting to extract posture\n"
     ]
    },
    {
     "name": "stderr",
     "output_type": "stream",
     "text": [
      "510it [00:26, 19.20it/s]                                                                                               \n"
     ]
    },
    {
     "name": "stdout",
     "output_type": "stream",
     "text": [
      "Saving results in D:\\Sidevideos\\AR35MOTOR\\2022_01_27...\n",
      "Saving csv poses!\n",
      "Starting to analyze %  D:\\Sidevideos\\AR35MOTOR\\2022_01_27\\187.avi\n",
      "Loading  D:\\Sidevideos\\AR35MOTOR\\2022_01_27\\187.avi\n",
      "Duration of video [s]:  12.5 , recorded with  40.0 fps!\n",
      "Overall # of frames:  500  found with (before cropping) frame dimensions:  800 480\n",
      "Starting to extract posture\n"
     ]
    },
    {
     "name": "stderr",
     "output_type": "stream",
     "text": [
      "510it [00:26, 19.25it/s]                                                                                               \n"
     ]
    },
    {
     "name": "stdout",
     "output_type": "stream",
     "text": [
      "Saving results in D:\\Sidevideos\\AR35MOTOR\\2022_01_27...\n",
      "Saving csv poses!\n",
      "Starting to analyze %  D:\\Sidevideos\\AR35MOTOR\\2022_01_27\\188.avi\n",
      "Loading  D:\\Sidevideos\\AR35MOTOR\\2022_01_27\\188.avi\n",
      "Duration of video [s]:  12.5 , recorded with  40.0 fps!\n",
      "Overall # of frames:  500  found with (before cropping) frame dimensions:  800 480\n",
      "Starting to extract posture\n"
     ]
    },
    {
     "name": "stderr",
     "output_type": "stream",
     "text": [
      "510it [00:26, 19.19it/s]                                                                                               \n"
     ]
    },
    {
     "name": "stdout",
     "output_type": "stream",
     "text": [
      "Saving results in D:\\Sidevideos\\AR35MOTOR\\2022_01_27...\n",
      "Saving csv poses!\n",
      "Starting to analyze %  D:\\Sidevideos\\AR35MOTOR\\2022_01_27\\189.avi\n",
      "Loading  D:\\Sidevideos\\AR35MOTOR\\2022_01_27\\189.avi\n",
      "Duration of video [s]:  12.5 , recorded with  40.0 fps!\n",
      "Overall # of frames:  500  found with (before cropping) frame dimensions:  800 480\n",
      "Starting to extract posture\n"
     ]
    },
    {
     "name": "stderr",
     "output_type": "stream",
     "text": [
      "510it [00:26, 19.17it/s]                                                                                               \n"
     ]
    },
    {
     "name": "stdout",
     "output_type": "stream",
     "text": [
      "Saving results in D:\\Sidevideos\\AR35MOTOR\\2022_01_27...\n",
      "Saving csv poses!\n",
      "Starting to analyze %  D:\\Sidevideos\\AR35MOTOR\\2022_01_27\\19.avi\n",
      "Loading  D:\\Sidevideos\\AR35MOTOR\\2022_01_27\\19.avi\n",
      "Duration of video [s]:  12.5 , recorded with  40.0 fps!\n",
      "Overall # of frames:  500  found with (before cropping) frame dimensions:  800 480\n",
      "Starting to extract posture\n"
     ]
    },
    {
     "name": "stderr",
     "output_type": "stream",
     "text": [
      "510it [00:26, 19.22it/s]                                                                                               \n"
     ]
    },
    {
     "name": "stdout",
     "output_type": "stream",
     "text": [
      "Saving results in D:\\Sidevideos\\AR35MOTOR\\2022_01_27...\n",
      "Saving csv poses!\n",
      "Starting to analyze %  D:\\Sidevideos\\AR35MOTOR\\2022_01_27\\190.avi\n",
      "Loading  D:\\Sidevideos\\AR35MOTOR\\2022_01_27\\190.avi\n",
      "Duration of video [s]:  12.5 , recorded with  40.0 fps!\n",
      "Overall # of frames:  500  found with (before cropping) frame dimensions:  800 480\n",
      "Starting to extract posture\n"
     ]
    },
    {
     "name": "stderr",
     "output_type": "stream",
     "text": [
      "510it [00:26, 19.22it/s]                                                                                               \n"
     ]
    },
    {
     "name": "stdout",
     "output_type": "stream",
     "text": [
      "Saving results in D:\\Sidevideos\\AR35MOTOR\\2022_01_27...\n",
      "Saving csv poses!\n",
      "Starting to analyze %  D:\\Sidevideos\\AR35MOTOR\\2022_01_27\\191.avi\n",
      "Loading  D:\\Sidevideos\\AR35MOTOR\\2022_01_27\\191.avi\n",
      "Duration of video [s]:  12.5 , recorded with  40.0 fps!\n",
      "Overall # of frames:  500  found with (before cropping) frame dimensions:  800 480\n",
      "Starting to extract posture\n"
     ]
    },
    {
     "name": "stderr",
     "output_type": "stream",
     "text": [
      "510it [00:26, 19.14it/s]                                                                                               \n"
     ]
    },
    {
     "name": "stdout",
     "output_type": "stream",
     "text": [
      "Saving results in D:\\Sidevideos\\AR35MOTOR\\2022_01_27...\n",
      "Saving csv poses!\n",
      "Starting to analyze %  D:\\Sidevideos\\AR35MOTOR\\2022_01_27\\192.avi\n",
      "Loading  D:\\Sidevideos\\AR35MOTOR\\2022_01_27\\192.avi\n",
      "Duration of video [s]:  12.5 , recorded with  40.0 fps!\n",
      "Overall # of frames:  500  found with (before cropping) frame dimensions:  800 480\n",
      "Starting to extract posture\n"
     ]
    },
    {
     "name": "stderr",
     "output_type": "stream",
     "text": [
      "510it [00:26, 19.24it/s]                                                                                               \n"
     ]
    },
    {
     "name": "stdout",
     "output_type": "stream",
     "text": [
      "Saving results in D:\\Sidevideos\\AR35MOTOR\\2022_01_27...\n",
      "Saving csv poses!\n",
      "Starting to analyze %  D:\\Sidevideos\\AR35MOTOR\\2022_01_27\\193.avi\n",
      "Loading  D:\\Sidevideos\\AR35MOTOR\\2022_01_27\\193.avi\n",
      "Duration of video [s]:  12.5 , recorded with  40.0 fps!\n",
      "Overall # of frames:  500  found with (before cropping) frame dimensions:  800 480\n",
      "Starting to extract posture\n"
     ]
    },
    {
     "name": "stderr",
     "output_type": "stream",
     "text": [
      "510it [00:26, 19.15it/s]                                                                                               \n"
     ]
    },
    {
     "name": "stdout",
     "output_type": "stream",
     "text": [
      "Saving results in D:\\Sidevideos\\AR35MOTOR\\2022_01_27...\n",
      "Saving csv poses!\n",
      "Starting to analyze %  D:\\Sidevideos\\AR35MOTOR\\2022_01_27\\194.avi\n",
      "Loading  D:\\Sidevideos\\AR35MOTOR\\2022_01_27\\194.avi\n",
      "Duration of video [s]:  12.5 , recorded with  40.0 fps!\n",
      "Overall # of frames:  500  found with (before cropping) frame dimensions:  800 480\n",
      "Starting to extract posture\n"
     ]
    },
    {
     "name": "stderr",
     "output_type": "stream",
     "text": [
      "510it [00:26, 19.22it/s]                                                                                               \n"
     ]
    },
    {
     "name": "stdout",
     "output_type": "stream",
     "text": [
      "Saving results in D:\\Sidevideos\\AR35MOTOR\\2022_01_27...\n",
      "Saving csv poses!\n",
      "Starting to analyze %  D:\\Sidevideos\\AR35MOTOR\\2022_01_27\\195.avi\n",
      "Loading  D:\\Sidevideos\\AR35MOTOR\\2022_01_27\\195.avi\n",
      "Duration of video [s]:  12.5 , recorded with  40.0 fps!\n",
      "Overall # of frames:  500  found with (before cropping) frame dimensions:  800 480\n",
      "Starting to extract posture\n"
     ]
    },
    {
     "name": "stderr",
     "output_type": "stream",
     "text": [
      "510it [00:26, 19.25it/s]                                                                                               \n"
     ]
    },
    {
     "name": "stdout",
     "output_type": "stream",
     "text": [
      "Saving results in D:\\Sidevideos\\AR35MOTOR\\2022_01_27...\n",
      "Saving csv poses!\n",
      "Starting to analyze %  D:\\Sidevideos\\AR35MOTOR\\2022_01_27\\196.avi\n",
      "Loading  D:\\Sidevideos\\AR35MOTOR\\2022_01_27\\196.avi\n",
      "Duration of video [s]:  12.5 , recorded with  40.0 fps!\n",
      "Overall # of frames:  500  found with (before cropping) frame dimensions:  800 480\n",
      "Starting to extract posture\n"
     ]
    },
    {
     "name": "stderr",
     "output_type": "stream",
     "text": [
      "510it [00:26, 19.17it/s]                                                                                               \n"
     ]
    },
    {
     "name": "stdout",
     "output_type": "stream",
     "text": [
      "Saving results in D:\\Sidevideos\\AR35MOTOR\\2022_01_27...\n",
      "Saving csv poses!\n",
      "Starting to analyze %  D:\\Sidevideos\\AR35MOTOR\\2022_01_27\\197.avi\n",
      "Loading  D:\\Sidevideos\\AR35MOTOR\\2022_01_27\\197.avi\n",
      "Duration of video [s]:  12.5 , recorded with  40.0 fps!\n",
      "Overall # of frames:  500  found with (before cropping) frame dimensions:  800 480\n",
      "Starting to extract posture\n"
     ]
    },
    {
     "name": "stderr",
     "output_type": "stream",
     "text": [
      "510it [00:26, 19.15it/s]                                                                                               \n"
     ]
    },
    {
     "name": "stdout",
     "output_type": "stream",
     "text": [
      "Saving results in D:\\Sidevideos\\AR35MOTOR\\2022_01_27...\n",
      "Saving csv poses!\n",
      "Starting to analyze %  D:\\Sidevideos\\AR35MOTOR\\2022_01_27\\198.avi\n",
      "Loading  D:\\Sidevideos\\AR35MOTOR\\2022_01_27\\198.avi\n",
      "Duration of video [s]:  12.5 , recorded with  40.0 fps!\n",
      "Overall # of frames:  500  found with (before cropping) frame dimensions:  800 480\n",
      "Starting to extract posture\n"
     ]
    },
    {
     "name": "stderr",
     "output_type": "stream",
     "text": [
      "510it [00:26, 19.18it/s]                                                                                               \n"
     ]
    },
    {
     "name": "stdout",
     "output_type": "stream",
     "text": [
      "Saving results in D:\\Sidevideos\\AR35MOTOR\\2022_01_27...\n",
      "Saving csv poses!\n",
      "Starting to analyze %  D:\\Sidevideos\\AR35MOTOR\\2022_01_27\\199.avi\n",
      "Loading  D:\\Sidevideos\\AR35MOTOR\\2022_01_27\\199.avi\n",
      "Duration of video [s]:  12.5 , recorded with  40.0 fps!\n",
      "Overall # of frames:  500  found with (before cropping) frame dimensions:  800 480\n",
      "Starting to extract posture\n"
     ]
    },
    {
     "name": "stderr",
     "output_type": "stream",
     "text": [
      "510it [00:26, 19.21it/s]                                                                                               \n"
     ]
    },
    {
     "name": "stdout",
     "output_type": "stream",
     "text": [
      "Saving results in D:\\Sidevideos\\AR35MOTOR\\2022_01_27...\n",
      "Saving csv poses!\n",
      "Starting to analyze %  D:\\Sidevideos\\AR35MOTOR\\2022_01_27\\2.avi\n",
      "Loading  D:\\Sidevideos\\AR35MOTOR\\2022_01_27\\2.avi\n",
      "Duration of video [s]:  12.5 , recorded with  40.0 fps!\n",
      "Overall # of frames:  500  found with (before cropping) frame dimensions:  800 480\n",
      "Starting to extract posture\n"
     ]
    },
    {
     "name": "stderr",
     "output_type": "stream",
     "text": [
      "510it [00:26, 19.15it/s]                                                                                               \n"
     ]
    },
    {
     "name": "stdout",
     "output_type": "stream",
     "text": [
      "Saving results in D:\\Sidevideos\\AR35MOTOR\\2022_01_27...\n",
      "Saving csv poses!\n",
      "Starting to analyze %  D:\\Sidevideos\\AR35MOTOR\\2022_01_27\\20.avi\n",
      "Loading  D:\\Sidevideos\\AR35MOTOR\\2022_01_27\\20.avi\n",
      "Duration of video [s]:  12.5 , recorded with  40.0 fps!\n",
      "Overall # of frames:  500  found with (before cropping) frame dimensions:  800 480\n",
      "Starting to extract posture\n"
     ]
    },
    {
     "name": "stderr",
     "output_type": "stream",
     "text": [
      "510it [00:26, 19.21it/s]                                                                                               \n"
     ]
    },
    {
     "name": "stdout",
     "output_type": "stream",
     "text": [
      "Saving results in D:\\Sidevideos\\AR35MOTOR\\2022_01_27...\n",
      "Saving csv poses!\n",
      "Starting to analyze %  D:\\Sidevideos\\AR35MOTOR\\2022_01_27\\200.avi\n",
      "Loading  D:\\Sidevideos\\AR35MOTOR\\2022_01_27\\200.avi\n",
      "Duration of video [s]:  12.5 , recorded with  40.0 fps!\n",
      "Overall # of frames:  500  found with (before cropping) frame dimensions:  800 480\n",
      "Starting to extract posture\n"
     ]
    },
    {
     "name": "stderr",
     "output_type": "stream",
     "text": [
      "510it [00:26, 19.19it/s]                                                                                               \n"
     ]
    },
    {
     "name": "stdout",
     "output_type": "stream",
     "text": [
      "Saving results in D:\\Sidevideos\\AR35MOTOR\\2022_01_27...\n",
      "Saving csv poses!\n",
      "Starting to analyze %  D:\\Sidevideos\\AR35MOTOR\\2022_01_27\\201.avi\n",
      "Loading  D:\\Sidevideos\\AR35MOTOR\\2022_01_27\\201.avi\n",
      "Duration of video [s]:  12.5 , recorded with  40.0 fps!\n",
      "Overall # of frames:  500  found with (before cropping) frame dimensions:  800 480\n",
      "Starting to extract posture\n"
     ]
    },
    {
     "name": "stderr",
     "output_type": "stream",
     "text": [
      "510it [00:26, 19.17it/s]                                                                                               \n"
     ]
    },
    {
     "name": "stdout",
     "output_type": "stream",
     "text": [
      "Saving results in D:\\Sidevideos\\AR35MOTOR\\2022_01_27...\n",
      "Saving csv poses!\n",
      "Starting to analyze %  D:\\Sidevideos\\AR35MOTOR\\2022_01_27\\202.avi\n",
      "Loading  D:\\Sidevideos\\AR35MOTOR\\2022_01_27\\202.avi\n",
      "Duration of video [s]:  12.5 , recorded with  40.0 fps!\n",
      "Overall # of frames:  500  found with (before cropping) frame dimensions:  800 480\n",
      "Starting to extract posture\n"
     ]
    },
    {
     "name": "stderr",
     "output_type": "stream",
     "text": [
      "510it [00:26, 19.14it/s]                                                                                               \n"
     ]
    },
    {
     "name": "stdout",
     "output_type": "stream",
     "text": [
      "Saving results in D:\\Sidevideos\\AR35MOTOR\\2022_01_27...\n",
      "Saving csv poses!\n",
      "Starting to analyze %  D:\\Sidevideos\\AR35MOTOR\\2022_01_27\\203.avi\n",
      "Loading  D:\\Sidevideos\\AR35MOTOR\\2022_01_27\\203.avi\n",
      "Duration of video [s]:  12.5 , recorded with  40.0 fps!\n",
      "Overall # of frames:  500  found with (before cropping) frame dimensions:  800 480\n",
      "Starting to extract posture\n"
     ]
    },
    {
     "name": "stderr",
     "output_type": "stream",
     "text": [
      "510it [00:26, 19.26it/s]                                                                                               \n"
     ]
    },
    {
     "name": "stdout",
     "output_type": "stream",
     "text": [
      "Saving results in D:\\Sidevideos\\AR35MOTOR\\2022_01_27...\n",
      "Saving csv poses!\n",
      "Starting to analyze %  D:\\Sidevideos\\AR35MOTOR\\2022_01_27\\204.avi\n",
      "Loading  D:\\Sidevideos\\AR35MOTOR\\2022_01_27\\204.avi\n",
      "Duration of video [s]:  12.5 , recorded with  40.0 fps!\n",
      "Overall # of frames:  500  found with (before cropping) frame dimensions:  800 480\n",
      "Starting to extract posture\n"
     ]
    },
    {
     "name": "stderr",
     "output_type": "stream",
     "text": [
      "510it [00:26, 19.04it/s]                                                                                               \n"
     ]
    },
    {
     "name": "stdout",
     "output_type": "stream",
     "text": [
      "Saving results in D:\\Sidevideos\\AR35MOTOR\\2022_01_27...\n",
      "Saving csv poses!\n",
      "Starting to analyze %  D:\\Sidevideos\\AR35MOTOR\\2022_01_27\\205.avi\n",
      "Loading  D:\\Sidevideos\\AR35MOTOR\\2022_01_27\\205.avi\n",
      "Duration of video [s]:  12.5 , recorded with  40.0 fps!\n",
      "Overall # of frames:  500  found with (before cropping) frame dimensions:  800 480\n",
      "Starting to extract posture\n"
     ]
    },
    {
     "name": "stderr",
     "output_type": "stream",
     "text": [
      "510it [00:26, 19.18it/s]                                                                                               \n"
     ]
    },
    {
     "name": "stdout",
     "output_type": "stream",
     "text": [
      "Saving results in D:\\Sidevideos\\AR35MOTOR\\2022_01_27...\n",
      "Saving csv poses!\n",
      "Starting to analyze %  D:\\Sidevideos\\AR35MOTOR\\2022_01_27\\206.avi\n",
      "Loading  D:\\Sidevideos\\AR35MOTOR\\2022_01_27\\206.avi\n",
      "Duration of video [s]:  12.5 , recorded with  40.0 fps!\n",
      "Overall # of frames:  500  found with (before cropping) frame dimensions:  800 480\n",
      "Starting to extract posture\n"
     ]
    },
    {
     "name": "stderr",
     "output_type": "stream",
     "text": [
      "510it [00:26, 19.17it/s]                                                                                               \n"
     ]
    },
    {
     "name": "stdout",
     "output_type": "stream",
     "text": [
      "Saving results in D:\\Sidevideos\\AR35MOTOR\\2022_01_27...\n",
      "Saving csv poses!\n",
      "Starting to analyze %  D:\\Sidevideos\\AR35MOTOR\\2022_01_27\\207.avi\n",
      "Loading  D:\\Sidevideos\\AR35MOTOR\\2022_01_27\\207.avi\n",
      "Duration of video [s]:  12.5 , recorded with  40.0 fps!\n",
      "Overall # of frames:  500  found with (before cropping) frame dimensions:  800 480\n",
      "Starting to extract posture\n"
     ]
    },
    {
     "name": "stderr",
     "output_type": "stream",
     "text": [
      "510it [00:26, 19.18it/s]                                                                                               \n"
     ]
    },
    {
     "name": "stdout",
     "output_type": "stream",
     "text": [
      "Saving results in D:\\Sidevideos\\AR35MOTOR\\2022_01_27...\n",
      "Saving csv poses!\n",
      "Starting to analyze %  D:\\Sidevideos\\AR35MOTOR\\2022_01_27\\208.avi\n",
      "Loading  D:\\Sidevideos\\AR35MOTOR\\2022_01_27\\208.avi\n",
      "Duration of video [s]:  12.5 , recorded with  40.0 fps!\n",
      "Overall # of frames:  500  found with (before cropping) frame dimensions:  800 480\n",
      "Starting to extract posture\n"
     ]
    },
    {
     "name": "stderr",
     "output_type": "stream",
     "text": [
      "510it [00:26, 19.25it/s]                                                                                               \n"
     ]
    },
    {
     "name": "stdout",
     "output_type": "stream",
     "text": [
      "Saving results in D:\\Sidevideos\\AR35MOTOR\\2022_01_27...\n",
      "Saving csv poses!\n",
      "Starting to analyze %  D:\\Sidevideos\\AR35MOTOR\\2022_01_27\\209.avi\n",
      "Loading  D:\\Sidevideos\\AR35MOTOR\\2022_01_27\\209.avi\n",
      "Duration of video [s]:  12.5 , recorded with  40.0 fps!\n",
      "Overall # of frames:  500  found with (before cropping) frame dimensions:  800 480\n",
      "Starting to extract posture\n"
     ]
    },
    {
     "name": "stderr",
     "output_type": "stream",
     "text": [
      "510it [00:26, 19.20it/s]                                                                                               \n"
     ]
    },
    {
     "name": "stdout",
     "output_type": "stream",
     "text": [
      "Saving results in D:\\Sidevideos\\AR35MOTOR\\2022_01_27...\n",
      "Saving csv poses!\n",
      "Starting to analyze %  D:\\Sidevideos\\AR35MOTOR\\2022_01_27\\21.avi\n",
      "Loading  D:\\Sidevideos\\AR35MOTOR\\2022_01_27\\21.avi\n",
      "Duration of video [s]:  12.5 , recorded with  40.0 fps!\n",
      "Overall # of frames:  500  found with (before cropping) frame dimensions:  800 480\n",
      "Starting to extract posture\n"
     ]
    },
    {
     "name": "stderr",
     "output_type": "stream",
     "text": [
      "510it [00:26, 19.20it/s]                                                                                               \n"
     ]
    },
    {
     "name": "stdout",
     "output_type": "stream",
     "text": [
      "Saving results in D:\\Sidevideos\\AR35MOTOR\\2022_01_27...\n",
      "Saving csv poses!\n",
      "Starting to analyze %  D:\\Sidevideos\\AR35MOTOR\\2022_01_27\\210.avi\n",
      "Loading  D:\\Sidevideos\\AR35MOTOR\\2022_01_27\\210.avi\n",
      "Duration of video [s]:  12.5 , recorded with  40.0 fps!\n",
      "Overall # of frames:  500  found with (before cropping) frame dimensions:  800 480\n",
      "Starting to extract posture\n"
     ]
    },
    {
     "name": "stderr",
     "output_type": "stream",
     "text": [
      "510it [00:26, 19.19it/s]                                                                                               \n"
     ]
    },
    {
     "name": "stdout",
     "output_type": "stream",
     "text": [
      "Saving results in D:\\Sidevideos\\AR35MOTOR\\2022_01_27...\n",
      "Saving csv poses!\n",
      "Starting to analyze %  D:\\Sidevideos\\AR35MOTOR\\2022_01_27\\211.avi\n",
      "Loading  D:\\Sidevideos\\AR35MOTOR\\2022_01_27\\211.avi\n",
      "Duration of video [s]:  12.5 , recorded with  40.0 fps!\n",
      "Overall # of frames:  500  found with (before cropping) frame dimensions:  800 480\n",
      "Starting to extract posture\n"
     ]
    },
    {
     "name": "stderr",
     "output_type": "stream",
     "text": [
      "510it [00:26, 19.18it/s]                                                                                               \n"
     ]
    },
    {
     "name": "stdout",
     "output_type": "stream",
     "text": [
      "Saving results in D:\\Sidevideos\\AR35MOTOR\\2022_01_27...\n",
      "Saving csv poses!\n",
      "Starting to analyze %  D:\\Sidevideos\\AR35MOTOR\\2022_01_27\\212.avi\n",
      "Loading  D:\\Sidevideos\\AR35MOTOR\\2022_01_27\\212.avi\n",
      "Duration of video [s]:  12.5 , recorded with  40.0 fps!\n",
      "Overall # of frames:  500  found with (before cropping) frame dimensions:  800 480\n",
      "Starting to extract posture\n"
     ]
    },
    {
     "name": "stderr",
     "output_type": "stream",
     "text": [
      "510it [00:26, 19.11it/s]                                                                                               \n"
     ]
    },
    {
     "name": "stdout",
     "output_type": "stream",
     "text": [
      "Saving results in D:\\Sidevideos\\AR35MOTOR\\2022_01_27...\n",
      "Saving csv poses!\n",
      "Starting to analyze %  D:\\Sidevideos\\AR35MOTOR\\2022_01_27\\213.avi\n",
      "Loading  D:\\Sidevideos\\AR35MOTOR\\2022_01_27\\213.avi\n",
      "Duration of video [s]:  12.5 , recorded with  40.0 fps!\n",
      "Overall # of frames:  500  found with (before cropping) frame dimensions:  800 480\n",
      "Starting to extract posture\n"
     ]
    },
    {
     "name": "stderr",
     "output_type": "stream",
     "text": [
      "510it [00:26, 19.23it/s]                                                                                               \n"
     ]
    },
    {
     "name": "stdout",
     "output_type": "stream",
     "text": [
      "Saving results in D:\\Sidevideos\\AR35MOTOR\\2022_01_27...\n",
      "Saving csv poses!\n",
      "Starting to analyze %  D:\\Sidevideos\\AR35MOTOR\\2022_01_27\\214.avi\n",
      "Loading  D:\\Sidevideos\\AR35MOTOR\\2022_01_27\\214.avi\n",
      "Duration of video [s]:  12.5 , recorded with  40.0 fps!\n",
      "Overall # of frames:  500  found with (before cropping) frame dimensions:  800 480\n",
      "Starting to extract posture\n"
     ]
    },
    {
     "name": "stderr",
     "output_type": "stream",
     "text": [
      "510it [00:26, 19.21it/s]                                                                                               \n"
     ]
    },
    {
     "name": "stdout",
     "output_type": "stream",
     "text": [
      "Saving results in D:\\Sidevideos\\AR35MOTOR\\2022_01_27...\n",
      "Saving csv poses!\n",
      "Starting to analyze %  D:\\Sidevideos\\AR35MOTOR\\2022_01_27\\215.avi\n",
      "Loading  D:\\Sidevideos\\AR35MOTOR\\2022_01_27\\215.avi\n",
      "Duration of video [s]:  12.5 , recorded with  40.0 fps!\n",
      "Overall # of frames:  500  found with (before cropping) frame dimensions:  800 480\n",
      "Starting to extract posture\n"
     ]
    },
    {
     "name": "stderr",
     "output_type": "stream",
     "text": [
      "510it [00:26, 19.19it/s]                                                                                               \n"
     ]
    },
    {
     "name": "stdout",
     "output_type": "stream",
     "text": [
      "Saving results in D:\\Sidevideos\\AR35MOTOR\\2022_01_27...\n",
      "Saving csv poses!\n",
      "Starting to analyze %  D:\\Sidevideos\\AR35MOTOR\\2022_01_27\\216.avi\n",
      "Loading  D:\\Sidevideos\\AR35MOTOR\\2022_01_27\\216.avi\n",
      "Duration of video [s]:  12.5 , recorded with  40.0 fps!\n",
      "Overall # of frames:  500  found with (before cropping) frame dimensions:  800 480\n",
      "Starting to extract posture\n"
     ]
    },
    {
     "name": "stderr",
     "output_type": "stream",
     "text": [
      "510it [00:26, 19.15it/s]                                                                                               \n"
     ]
    },
    {
     "name": "stdout",
     "output_type": "stream",
     "text": [
      "Saving results in D:\\Sidevideos\\AR35MOTOR\\2022_01_27...\n",
      "Saving csv poses!\n",
      "Starting to analyze %  D:\\Sidevideos\\AR35MOTOR\\2022_01_27\\217.avi\n",
      "Loading  D:\\Sidevideos\\AR35MOTOR\\2022_01_27\\217.avi\n",
      "Duration of video [s]:  12.5 , recorded with  40.0 fps!\n",
      "Overall # of frames:  500  found with (before cropping) frame dimensions:  800 480\n",
      "Starting to extract posture\n"
     ]
    },
    {
     "name": "stderr",
     "output_type": "stream",
     "text": [
      "510it [00:26, 19.21it/s]                                                                                               \n"
     ]
    },
    {
     "name": "stdout",
     "output_type": "stream",
     "text": [
      "Saving results in D:\\Sidevideos\\AR35MOTOR\\2022_01_27...\n",
      "Saving csv poses!\n",
      "Starting to analyze %  D:\\Sidevideos\\AR35MOTOR\\2022_01_27\\218.avi\n",
      "Loading  D:\\Sidevideos\\AR35MOTOR\\2022_01_27\\218.avi\n",
      "Duration of video [s]:  12.5 , recorded with  40.0 fps!\n",
      "Overall # of frames:  500  found with (before cropping) frame dimensions:  800 480\n",
      "Starting to extract posture\n"
     ]
    },
    {
     "name": "stderr",
     "output_type": "stream",
     "text": [
      "510it [00:26, 19.16it/s]                                                                                               \n"
     ]
    },
    {
     "name": "stdout",
     "output_type": "stream",
     "text": [
      "Saving results in D:\\Sidevideos\\AR35MOTOR\\2022_01_27...\n",
      "Saving csv poses!\n",
      "Starting to analyze %  D:\\Sidevideos\\AR35MOTOR\\2022_01_27\\219.avi\n",
      "Loading  D:\\Sidevideos\\AR35MOTOR\\2022_01_27\\219.avi\n",
      "Duration of video [s]:  12.5 , recorded with  40.0 fps!\n",
      "Overall # of frames:  500  found with (before cropping) frame dimensions:  800 480\n",
      "Starting to extract posture\n"
     ]
    },
    {
     "name": "stderr",
     "output_type": "stream",
     "text": [
      "510it [00:26, 19.19it/s]                                                                                               \n"
     ]
    },
    {
     "name": "stdout",
     "output_type": "stream",
     "text": [
      "Saving results in D:\\Sidevideos\\AR35MOTOR\\2022_01_27...\n",
      "Saving csv poses!\n",
      "Starting to analyze %  D:\\Sidevideos\\AR35MOTOR\\2022_01_27\\22.avi\n",
      "Loading  D:\\Sidevideos\\AR35MOTOR\\2022_01_27\\22.avi\n",
      "Duration of video [s]:  12.5 , recorded with  40.0 fps!\n",
      "Overall # of frames:  500  found with (before cropping) frame dimensions:  800 480\n",
      "Starting to extract posture\n"
     ]
    },
    {
     "name": "stderr",
     "output_type": "stream",
     "text": [
      "510it [00:26, 19.17it/s]                                                                                               \n"
     ]
    },
    {
     "name": "stdout",
     "output_type": "stream",
     "text": [
      "Saving results in D:\\Sidevideos\\AR35MOTOR\\2022_01_27...\n",
      "Saving csv poses!\n",
      "Starting to analyze %  D:\\Sidevideos\\AR35MOTOR\\2022_01_27\\220.avi\n",
      "Loading  D:\\Sidevideos\\AR35MOTOR\\2022_01_27\\220.avi\n",
      "Duration of video [s]:  12.5 , recorded with  40.0 fps!\n",
      "Overall # of frames:  500  found with (before cropping) frame dimensions:  800 480\n",
      "Starting to extract posture\n"
     ]
    },
    {
     "name": "stderr",
     "output_type": "stream",
     "text": [
      "510it [00:26, 19.20it/s]                                                                                               \n"
     ]
    },
    {
     "name": "stdout",
     "output_type": "stream",
     "text": [
      "Saving results in D:\\Sidevideos\\AR35MOTOR\\2022_01_27...\n",
      "Saving csv poses!\n",
      "Starting to analyze %  D:\\Sidevideos\\AR35MOTOR\\2022_01_27\\221.avi\n",
      "Loading  D:\\Sidevideos\\AR35MOTOR\\2022_01_27\\221.avi\n",
      "Duration of video [s]:  12.5 , recorded with  40.0 fps!\n",
      "Overall # of frames:  500  found with (before cropping) frame dimensions:  800 480\n",
      "Starting to extract posture\n"
     ]
    },
    {
     "name": "stderr",
     "output_type": "stream",
     "text": [
      "510it [00:26, 19.20it/s]                                                                                               \n"
     ]
    },
    {
     "name": "stdout",
     "output_type": "stream",
     "text": [
      "Saving results in D:\\Sidevideos\\AR35MOTOR\\2022_01_27...\n",
      "Saving csv poses!\n",
      "Starting to analyze %  D:\\Sidevideos\\AR35MOTOR\\2022_01_27\\222.avi\n",
      "Loading  D:\\Sidevideos\\AR35MOTOR\\2022_01_27\\222.avi\n",
      "Duration of video [s]:  12.5 , recorded with  40.0 fps!\n",
      "Overall # of frames:  500  found with (before cropping) frame dimensions:  800 480\n",
      "Starting to extract posture\n"
     ]
    },
    {
     "name": "stderr",
     "output_type": "stream",
     "text": [
      "510it [00:26, 19.20it/s]                                                                                               \n"
     ]
    },
    {
     "name": "stdout",
     "output_type": "stream",
     "text": [
      "Saving results in D:\\Sidevideos\\AR35MOTOR\\2022_01_27...\n",
      "Saving csv poses!\n",
      "Starting to analyze %  D:\\Sidevideos\\AR35MOTOR\\2022_01_27\\223.avi\n",
      "Loading  D:\\Sidevideos\\AR35MOTOR\\2022_01_27\\223.avi\n",
      "Duration of video [s]:  12.5 , recorded with  40.0 fps!\n",
      "Overall # of frames:  500  found with (before cropping) frame dimensions:  800 480\n",
      "Starting to extract posture\n"
     ]
    },
    {
     "name": "stderr",
     "output_type": "stream",
     "text": [
      "510it [00:26, 19.25it/s]                                                                                               \n"
     ]
    },
    {
     "name": "stdout",
     "output_type": "stream",
     "text": [
      "Saving results in D:\\Sidevideos\\AR35MOTOR\\2022_01_27...\n",
      "Saving csv poses!\n",
      "Starting to analyze %  D:\\Sidevideos\\AR35MOTOR\\2022_01_27\\224.avi\n",
      "Loading  D:\\Sidevideos\\AR35MOTOR\\2022_01_27\\224.avi\n",
      "Duration of video [s]:  12.5 , recorded with  40.0 fps!\n",
      "Overall # of frames:  500  found with (before cropping) frame dimensions:  800 480\n",
      "Starting to extract posture\n"
     ]
    },
    {
     "name": "stderr",
     "output_type": "stream",
     "text": [
      "510it [00:26, 19.15it/s]                                                                                               \n"
     ]
    },
    {
     "name": "stdout",
     "output_type": "stream",
     "text": [
      "Saving results in D:\\Sidevideos\\AR35MOTOR\\2022_01_27...\n",
      "Saving csv poses!\n",
      "Starting to analyze %  D:\\Sidevideos\\AR35MOTOR\\2022_01_27\\225.avi\n",
      "Loading  D:\\Sidevideos\\AR35MOTOR\\2022_01_27\\225.avi\n",
      "Duration of video [s]:  12.5 , recorded with  40.0 fps!\n",
      "Overall # of frames:  500  found with (before cropping) frame dimensions:  800 480\n",
      "Starting to extract posture\n"
     ]
    },
    {
     "name": "stderr",
     "output_type": "stream",
     "text": [
      "510it [00:26, 19.07it/s]                                                                                               \n"
     ]
    },
    {
     "name": "stdout",
     "output_type": "stream",
     "text": [
      "Saving results in D:\\Sidevideos\\AR35MOTOR\\2022_01_27...\n",
      "Saving csv poses!\n",
      "Starting to analyze %  D:\\Sidevideos\\AR35MOTOR\\2022_01_27\\226.avi\n",
      "Loading  D:\\Sidevideos\\AR35MOTOR\\2022_01_27\\226.avi\n",
      "Duration of video [s]:  12.5 , recorded with  40.0 fps!\n",
      "Overall # of frames:  500  found with (before cropping) frame dimensions:  800 480\n",
      "Starting to extract posture\n"
     ]
    },
    {
     "name": "stderr",
     "output_type": "stream",
     "text": [
      "510it [00:26, 19.17it/s]                                                                                               \n"
     ]
    },
    {
     "name": "stdout",
     "output_type": "stream",
     "text": [
      "Saving results in D:\\Sidevideos\\AR35MOTOR\\2022_01_27...\n",
      "Saving csv poses!\n",
      "Starting to analyze %  D:\\Sidevideos\\AR35MOTOR\\2022_01_27\\227.avi\n",
      "Loading  D:\\Sidevideos\\AR35MOTOR\\2022_01_27\\227.avi\n",
      "Duration of video [s]:  12.5 , recorded with  40.0 fps!\n",
      "Overall # of frames:  500  found with (before cropping) frame dimensions:  800 480\n",
      "Starting to extract posture\n"
     ]
    },
    {
     "name": "stderr",
     "output_type": "stream",
     "text": [
      "510it [00:26, 19.19it/s]                                                                                               \n"
     ]
    },
    {
     "name": "stdout",
     "output_type": "stream",
     "text": [
      "Saving results in D:\\Sidevideos\\AR35MOTOR\\2022_01_27...\n",
      "Saving csv poses!\n",
      "Starting to analyze %  D:\\Sidevideos\\AR35MOTOR\\2022_01_27\\228.avi\n",
      "Loading  D:\\Sidevideos\\AR35MOTOR\\2022_01_27\\228.avi\n",
      "Duration of video [s]:  12.5 , recorded with  40.0 fps!\n",
      "Overall # of frames:  500  found with (before cropping) frame dimensions:  800 480\n",
      "Starting to extract posture\n"
     ]
    },
    {
     "name": "stderr",
     "output_type": "stream",
     "text": [
      "510it [00:26, 19.18it/s]                                                                                               \n"
     ]
    },
    {
     "name": "stdout",
     "output_type": "stream",
     "text": [
      "Saving results in D:\\Sidevideos\\AR35MOTOR\\2022_01_27...\n",
      "Saving csv poses!\n",
      "Starting to analyze %  D:\\Sidevideos\\AR35MOTOR\\2022_01_27\\229.avi\n",
      "Loading  D:\\Sidevideos\\AR35MOTOR\\2022_01_27\\229.avi\n",
      "Duration of video [s]:  12.5 , recorded with  40.0 fps!\n",
      "Overall # of frames:  500  found with (before cropping) frame dimensions:  800 480\n",
      "Starting to extract posture\n"
     ]
    },
    {
     "name": "stderr",
     "output_type": "stream",
     "text": [
      "510it [00:26, 19.21it/s]                                                                                               \n"
     ]
    },
    {
     "name": "stdout",
     "output_type": "stream",
     "text": [
      "Saving results in D:\\Sidevideos\\AR35MOTOR\\2022_01_27...\n",
      "Saving csv poses!\n",
      "Starting to analyze %  D:\\Sidevideos\\AR35MOTOR\\2022_01_27\\23.avi\n",
      "Loading  D:\\Sidevideos\\AR35MOTOR\\2022_01_27\\23.avi\n",
      "Duration of video [s]:  12.5 , recorded with  40.0 fps!\n",
      "Overall # of frames:  500  found with (before cropping) frame dimensions:  800 480\n",
      "Starting to extract posture\n"
     ]
    },
    {
     "name": "stderr",
     "output_type": "stream",
     "text": [
      "510it [00:26, 19.20it/s]                                                                                               \n"
     ]
    },
    {
     "name": "stdout",
     "output_type": "stream",
     "text": [
      "Saving results in D:\\Sidevideos\\AR35MOTOR\\2022_01_27...\n",
      "Saving csv poses!\n",
      "Starting to analyze %  D:\\Sidevideos\\AR35MOTOR\\2022_01_27\\230.avi\n",
      "Loading  D:\\Sidevideos\\AR35MOTOR\\2022_01_27\\230.avi\n",
      "Duration of video [s]:  12.5 , recorded with  40.0 fps!\n",
      "Overall # of frames:  500  found with (before cropping) frame dimensions:  800 480\n",
      "Starting to extract posture\n"
     ]
    },
    {
     "name": "stderr",
     "output_type": "stream",
     "text": [
      "510it [00:26, 19.12it/s]                                                                                               \n"
     ]
    },
    {
     "name": "stdout",
     "output_type": "stream",
     "text": [
      "Saving results in D:\\Sidevideos\\AR35MOTOR\\2022_01_27...\n",
      "Saving csv poses!\n",
      "Starting to analyze %  D:\\Sidevideos\\AR35MOTOR\\2022_01_27\\231.avi\n",
      "Loading  D:\\Sidevideos\\AR35MOTOR\\2022_01_27\\231.avi\n",
      "Duration of video [s]:  12.5 , recorded with  40.0 fps!\n",
      "Overall # of frames:  500  found with (before cropping) frame dimensions:  800 480\n",
      "Starting to extract posture\n"
     ]
    },
    {
     "name": "stderr",
     "output_type": "stream",
     "text": [
      "510it [00:26, 19.25it/s]                                                                                               \n"
     ]
    },
    {
     "name": "stdout",
     "output_type": "stream",
     "text": [
      "Saving results in D:\\Sidevideos\\AR35MOTOR\\2022_01_27...\n",
      "Saving csv poses!\n",
      "Starting to analyze %  D:\\Sidevideos\\AR35MOTOR\\2022_01_27\\232.avi\n",
      "Loading  D:\\Sidevideos\\AR35MOTOR\\2022_01_27\\232.avi\n",
      "Duration of video [s]:  12.5 , recorded with  40.0 fps!\n",
      "Overall # of frames:  500  found with (before cropping) frame dimensions:  800 480\n",
      "Starting to extract posture\n"
     ]
    },
    {
     "name": "stderr",
     "output_type": "stream",
     "text": [
      "510it [00:26, 19.23it/s]                                                                                               \n"
     ]
    },
    {
     "name": "stdout",
     "output_type": "stream",
     "text": [
      "Saving results in D:\\Sidevideos\\AR35MOTOR\\2022_01_27...\n",
      "Saving csv poses!\n",
      "Starting to analyze %  D:\\Sidevideos\\AR35MOTOR\\2022_01_27\\233.avi\n",
      "Loading  D:\\Sidevideos\\AR35MOTOR\\2022_01_27\\233.avi\n",
      "Duration of video [s]:  12.5 , recorded with  40.0 fps!\n",
      "Overall # of frames:  500  found with (before cropping) frame dimensions:  800 480\n",
      "Starting to extract posture\n"
     ]
    },
    {
     "name": "stderr",
     "output_type": "stream",
     "text": [
      "510it [00:26, 19.12it/s]                                                                                               \n"
     ]
    },
    {
     "name": "stdout",
     "output_type": "stream",
     "text": [
      "Saving results in D:\\Sidevideos\\AR35MOTOR\\2022_01_27...\n",
      "Saving csv poses!\n",
      "Starting to analyze %  D:\\Sidevideos\\AR35MOTOR\\2022_01_27\\234.avi\n",
      "Loading  D:\\Sidevideos\\AR35MOTOR\\2022_01_27\\234.avi\n",
      "Duration of video [s]:  12.5 , recorded with  40.0 fps!\n",
      "Overall # of frames:  500  found with (before cropping) frame dimensions:  800 480\n",
      "Starting to extract posture\n"
     ]
    },
    {
     "name": "stderr",
     "output_type": "stream",
     "text": [
      "510it [00:26, 19.21it/s]                                                                                               \n"
     ]
    },
    {
     "name": "stdout",
     "output_type": "stream",
     "text": [
      "Saving results in D:\\Sidevideos\\AR35MOTOR\\2022_01_27...\n",
      "Saving csv poses!\n",
      "Starting to analyze %  D:\\Sidevideos\\AR35MOTOR\\2022_01_27\\235.avi\n",
      "Loading  D:\\Sidevideos\\AR35MOTOR\\2022_01_27\\235.avi\n",
      "Duration of video [s]:  12.5 , recorded with  40.0 fps!\n",
      "Overall # of frames:  500  found with (before cropping) frame dimensions:  800 480\n",
      "Starting to extract posture\n"
     ]
    },
    {
     "name": "stderr",
     "output_type": "stream",
     "text": [
      "510it [00:26, 19.20it/s]                                                                                               \n"
     ]
    },
    {
     "name": "stdout",
     "output_type": "stream",
     "text": [
      "Saving results in D:\\Sidevideos\\AR35MOTOR\\2022_01_27...\n",
      "Saving csv poses!\n",
      "Starting to analyze %  D:\\Sidevideos\\AR35MOTOR\\2022_01_27\\236.avi\n",
      "Loading  D:\\Sidevideos\\AR35MOTOR\\2022_01_27\\236.avi\n",
      "Duration of video [s]:  12.5 , recorded with  40.0 fps!\n",
      "Overall # of frames:  500  found with (before cropping) frame dimensions:  800 480\n",
      "Starting to extract posture\n"
     ]
    },
    {
     "name": "stderr",
     "output_type": "stream",
     "text": [
      "510it [00:26, 19.15it/s]                                                                                               \n"
     ]
    },
    {
     "name": "stdout",
     "output_type": "stream",
     "text": [
      "Saving results in D:\\Sidevideos\\AR35MOTOR\\2022_01_27...\n",
      "Saving csv poses!\n",
      "Starting to analyze %  D:\\Sidevideos\\AR35MOTOR\\2022_01_27\\237.avi\n",
      "Loading  D:\\Sidevideos\\AR35MOTOR\\2022_01_27\\237.avi\n",
      "Duration of video [s]:  12.5 , recorded with  40.0 fps!\n",
      "Overall # of frames:  500  found with (before cropping) frame dimensions:  800 480\n",
      "Starting to extract posture\n"
     ]
    },
    {
     "name": "stderr",
     "output_type": "stream",
     "text": [
      "510it [00:26, 19.19it/s]                                                                                               \n"
     ]
    },
    {
     "name": "stdout",
     "output_type": "stream",
     "text": [
      "Saving results in D:\\Sidevideos\\AR35MOTOR\\2022_01_27...\n",
      "Saving csv poses!\n",
      "Starting to analyze %  D:\\Sidevideos\\AR35MOTOR\\2022_01_27\\238.avi\n",
      "Loading  D:\\Sidevideos\\AR35MOTOR\\2022_01_27\\238.avi\n",
      "Duration of video [s]:  12.5 , recorded with  40.0 fps!\n",
      "Overall # of frames:  500  found with (before cropping) frame dimensions:  800 480\n",
      "Starting to extract posture\n"
     ]
    },
    {
     "name": "stderr",
     "output_type": "stream",
     "text": [
      "510it [00:26, 19.20it/s]                                                                                               \n"
     ]
    },
    {
     "name": "stdout",
     "output_type": "stream",
     "text": [
      "Saving results in D:\\Sidevideos\\AR35MOTOR\\2022_01_27...\n",
      "Saving csv poses!\n",
      "Starting to analyze %  D:\\Sidevideos\\AR35MOTOR\\2022_01_27\\239.avi\n",
      "Loading  D:\\Sidevideos\\AR35MOTOR\\2022_01_27\\239.avi\n",
      "Duration of video [s]:  12.5 , recorded with  40.0 fps!\n",
      "Overall # of frames:  500  found with (before cropping) frame dimensions:  800 480\n",
      "Starting to extract posture\n"
     ]
    },
    {
     "name": "stderr",
     "output_type": "stream",
     "text": [
      "510it [00:26, 19.21it/s]                                                                                               \n"
     ]
    },
    {
     "name": "stdout",
     "output_type": "stream",
     "text": [
      "Saving results in D:\\Sidevideos\\AR35MOTOR\\2022_01_27...\n",
      "Saving csv poses!\n",
      "Starting to analyze %  D:\\Sidevideos\\AR35MOTOR\\2022_01_27\\24.avi\n",
      "Loading  D:\\Sidevideos\\AR35MOTOR\\2022_01_27\\24.avi\n",
      "Duration of video [s]:  12.5 , recorded with  40.0 fps!\n",
      "Overall # of frames:  500  found with (before cropping) frame dimensions:  800 480\n",
      "Starting to extract posture\n"
     ]
    },
    {
     "name": "stderr",
     "output_type": "stream",
     "text": [
      "510it [00:26, 19.11it/s]                                                                                               \n"
     ]
    },
    {
     "name": "stdout",
     "output_type": "stream",
     "text": [
      "Saving results in D:\\Sidevideos\\AR35MOTOR\\2022_01_27...\n",
      "Saving csv poses!\n",
      "Starting to analyze %  D:\\Sidevideos\\AR35MOTOR\\2022_01_27\\240.avi\n",
      "Loading  D:\\Sidevideos\\AR35MOTOR\\2022_01_27\\240.avi\n",
      "Duration of video [s]:  12.5 , recorded with  40.0 fps!\n",
      "Overall # of frames:  500  found with (before cropping) frame dimensions:  800 480\n",
      "Starting to extract posture\n"
     ]
    },
    {
     "name": "stderr",
     "output_type": "stream",
     "text": [
      "510it [00:26, 19.21it/s]                                                                                               \n"
     ]
    },
    {
     "name": "stdout",
     "output_type": "stream",
     "text": [
      "Saving results in D:\\Sidevideos\\AR35MOTOR\\2022_01_27...\n",
      "Saving csv poses!\n",
      "Starting to analyze %  D:\\Sidevideos\\AR35MOTOR\\2022_01_27\\241.avi\n",
      "Loading  D:\\Sidevideos\\AR35MOTOR\\2022_01_27\\241.avi\n",
      "Duration of video [s]:  12.5 , recorded with  40.0 fps!\n",
      "Overall # of frames:  500  found with (before cropping) frame dimensions:  800 480\n",
      "Starting to extract posture\n"
     ]
    },
    {
     "name": "stderr",
     "output_type": "stream",
     "text": [
      "510it [00:26, 19.14it/s]                                                                                               \n"
     ]
    },
    {
     "name": "stdout",
     "output_type": "stream",
     "text": [
      "Saving results in D:\\Sidevideos\\AR35MOTOR\\2022_01_27...\n",
      "Saving csv poses!\n",
      "Starting to analyze %  D:\\Sidevideos\\AR35MOTOR\\2022_01_27\\242.avi\n",
      "Loading  D:\\Sidevideos\\AR35MOTOR\\2022_01_27\\242.avi\n",
      "Duration of video [s]:  12.5 , recorded with  40.0 fps!\n",
      "Overall # of frames:  500  found with (before cropping) frame dimensions:  800 480\n",
      "Starting to extract posture\n"
     ]
    },
    {
     "name": "stderr",
     "output_type": "stream",
     "text": [
      "510it [00:26, 19.18it/s]                                                                                               \n"
     ]
    },
    {
     "name": "stdout",
     "output_type": "stream",
     "text": [
      "Saving results in D:\\Sidevideos\\AR35MOTOR\\2022_01_27...\n",
      "Saving csv poses!\n",
      "Starting to analyze %  D:\\Sidevideos\\AR35MOTOR\\2022_01_27\\243.avi\n",
      "Loading  D:\\Sidevideos\\AR35MOTOR\\2022_01_27\\243.avi\n",
      "Duration of video [s]:  12.5 , recorded with  40.0 fps!\n",
      "Overall # of frames:  500  found with (before cropping) frame dimensions:  800 480\n",
      "Starting to extract posture\n"
     ]
    },
    {
     "name": "stderr",
     "output_type": "stream",
     "text": [
      "510it [00:26, 19.15it/s]                                                                                               \n"
     ]
    },
    {
     "name": "stdout",
     "output_type": "stream",
     "text": [
      "Saving results in D:\\Sidevideos\\AR35MOTOR\\2022_01_27...\n",
      "Saving csv poses!\n",
      "Starting to analyze %  D:\\Sidevideos\\AR35MOTOR\\2022_01_27\\244.avi\n",
      "Loading  D:\\Sidevideos\\AR35MOTOR\\2022_01_27\\244.avi\n",
      "Duration of video [s]:  12.5 , recorded with  40.0 fps!\n",
      "Overall # of frames:  500  found with (before cropping) frame dimensions:  800 480\n",
      "Starting to extract posture\n"
     ]
    },
    {
     "name": "stderr",
     "output_type": "stream",
     "text": [
      "510it [00:26, 19.15it/s]                                                                                               \n"
     ]
    },
    {
     "name": "stdout",
     "output_type": "stream",
     "text": [
      "Saving results in D:\\Sidevideos\\AR35MOTOR\\2022_01_27...\n",
      "Saving csv poses!\n",
      "Starting to analyze %  D:\\Sidevideos\\AR35MOTOR\\2022_01_27\\245.avi\n",
      "Loading  D:\\Sidevideos\\AR35MOTOR\\2022_01_27\\245.avi\n",
      "Duration of video [s]:  12.5 , recorded with  40.0 fps!\n",
      "Overall # of frames:  500  found with (before cropping) frame dimensions:  800 480\n",
      "Starting to extract posture\n"
     ]
    },
    {
     "name": "stderr",
     "output_type": "stream",
     "text": [
      "510it [00:26, 19.22it/s]                                                                                               \n"
     ]
    },
    {
     "name": "stdout",
     "output_type": "stream",
     "text": [
      "Saving results in D:\\Sidevideos\\AR35MOTOR\\2022_01_27...\n",
      "Saving csv poses!\n",
      "Starting to analyze %  D:\\Sidevideos\\AR35MOTOR\\2022_01_27\\246.avi\n",
      "Loading  D:\\Sidevideos\\AR35MOTOR\\2022_01_27\\246.avi\n",
      "Duration of video [s]:  12.5 , recorded with  40.0 fps!\n",
      "Overall # of frames:  500  found with (before cropping) frame dimensions:  800 480\n",
      "Starting to extract posture\n"
     ]
    },
    {
     "name": "stderr",
     "output_type": "stream",
     "text": [
      "510it [00:26, 19.18it/s]                                                                                               \n"
     ]
    },
    {
     "name": "stdout",
     "output_type": "stream",
     "text": [
      "Saving results in D:\\Sidevideos\\AR35MOTOR\\2022_01_27...\n",
      "Saving csv poses!\n",
      "Starting to analyze %  D:\\Sidevideos\\AR35MOTOR\\2022_01_27\\247.avi\n",
      "Loading  D:\\Sidevideos\\AR35MOTOR\\2022_01_27\\247.avi\n",
      "Duration of video [s]:  12.5 , recorded with  40.0 fps!\n",
      "Overall # of frames:  500  found with (before cropping) frame dimensions:  800 480\n",
      "Starting to extract posture\n"
     ]
    },
    {
     "name": "stderr",
     "output_type": "stream",
     "text": [
      "510it [00:26, 19.14it/s]                                                                                               \n"
     ]
    },
    {
     "name": "stdout",
     "output_type": "stream",
     "text": [
      "Saving results in D:\\Sidevideos\\AR35MOTOR\\2022_01_27...\n",
      "Saving csv poses!\n",
      "Starting to analyze %  D:\\Sidevideos\\AR35MOTOR\\2022_01_27\\248.avi\n",
      "Loading  D:\\Sidevideos\\AR35MOTOR\\2022_01_27\\248.avi\n",
      "Duration of video [s]:  12.5 , recorded with  40.0 fps!\n",
      "Overall # of frames:  500  found with (before cropping) frame dimensions:  800 480\n",
      "Starting to extract posture\n"
     ]
    },
    {
     "name": "stderr",
     "output_type": "stream",
     "text": [
      "510it [00:26, 19.18it/s]                                                                                               \n"
     ]
    },
    {
     "name": "stdout",
     "output_type": "stream",
     "text": [
      "Saving results in D:\\Sidevideos\\AR35MOTOR\\2022_01_27...\n",
      "Saving csv poses!\n",
      "Starting to analyze %  D:\\Sidevideos\\AR35MOTOR\\2022_01_27\\249.avi\n",
      "Loading  D:\\Sidevideos\\AR35MOTOR\\2022_01_27\\249.avi\n",
      "Duration of video [s]:  12.5 , recorded with  40.0 fps!\n",
      "Overall # of frames:  500  found with (before cropping) frame dimensions:  800 480\n",
      "Starting to extract posture\n"
     ]
    },
    {
     "name": "stderr",
     "output_type": "stream",
     "text": [
      "510it [00:26, 19.15it/s]                                                                                               \n"
     ]
    },
    {
     "name": "stdout",
     "output_type": "stream",
     "text": [
      "Saving results in D:\\Sidevideos\\AR35MOTOR\\2022_01_27...\n",
      "Saving csv poses!\n",
      "Starting to analyze %  D:\\Sidevideos\\AR35MOTOR\\2022_01_27\\25.avi\n",
      "Loading  D:\\Sidevideos\\AR35MOTOR\\2022_01_27\\25.avi\n",
      "Duration of video [s]:  12.5 , recorded with  40.0 fps!\n",
      "Overall # of frames:  500  found with (before cropping) frame dimensions:  800 480\n",
      "Starting to extract posture\n"
     ]
    },
    {
     "name": "stderr",
     "output_type": "stream",
     "text": [
      "510it [00:26, 19.21it/s]                                                                                               \n"
     ]
    },
    {
     "name": "stdout",
     "output_type": "stream",
     "text": [
      "Saving results in D:\\Sidevideos\\AR35MOTOR\\2022_01_27...\n",
      "Saving csv poses!\n",
      "Starting to analyze %  D:\\Sidevideos\\AR35MOTOR\\2022_01_27\\250.avi\n",
      "Loading  D:\\Sidevideos\\AR35MOTOR\\2022_01_27\\250.avi\n",
      "Duration of video [s]:  12.5 , recorded with  40.0 fps!\n",
      "Overall # of frames:  500  found with (before cropping) frame dimensions:  800 480\n",
      "Starting to extract posture\n"
     ]
    },
    {
     "name": "stderr",
     "output_type": "stream",
     "text": [
      "510it [00:26, 19.15it/s]                                                                                               \n"
     ]
    },
    {
     "name": "stdout",
     "output_type": "stream",
     "text": [
      "Saving results in D:\\Sidevideos\\AR35MOTOR\\2022_01_27...\n",
      "Saving csv poses!\n",
      "Starting to analyze %  D:\\Sidevideos\\AR35MOTOR\\2022_01_27\\251.avi\n",
      "Loading  D:\\Sidevideos\\AR35MOTOR\\2022_01_27\\251.avi\n",
      "Duration of video [s]:  12.5 , recorded with  40.0 fps!\n",
      "Overall # of frames:  500  found with (before cropping) frame dimensions:  800 480\n",
      "Starting to extract posture\n"
     ]
    },
    {
     "name": "stderr",
     "output_type": "stream",
     "text": [
      "510it [00:26, 19.18it/s]                                                                                               \n"
     ]
    },
    {
     "name": "stdout",
     "output_type": "stream",
     "text": [
      "Saving results in D:\\Sidevideos\\AR35MOTOR\\2022_01_27...\n",
      "Saving csv poses!\n",
      "Starting to analyze %  D:\\Sidevideos\\AR35MOTOR\\2022_01_27\\252.avi\n",
      "Loading  D:\\Sidevideos\\AR35MOTOR\\2022_01_27\\252.avi\n",
      "Duration of video [s]:  12.5 , recorded with  40.0 fps!\n",
      "Overall # of frames:  500  found with (before cropping) frame dimensions:  800 480\n",
      "Starting to extract posture\n"
     ]
    },
    {
     "name": "stderr",
     "output_type": "stream",
     "text": [
      "510it [00:26, 19.18it/s]                                                                                               \n"
     ]
    },
    {
     "name": "stdout",
     "output_type": "stream",
     "text": [
      "Saving results in D:\\Sidevideos\\AR35MOTOR\\2022_01_27...\n",
      "Saving csv poses!\n",
      "Starting to analyze %  D:\\Sidevideos\\AR35MOTOR\\2022_01_27\\253.avi\n",
      "Loading  D:\\Sidevideos\\AR35MOTOR\\2022_01_27\\253.avi\n",
      "Duration of video [s]:  12.5 , recorded with  40.0 fps!\n",
      "Overall # of frames:  500  found with (before cropping) frame dimensions:  800 480\n",
      "Starting to extract posture\n"
     ]
    },
    {
     "name": "stderr",
     "output_type": "stream",
     "text": [
      "510it [00:26, 19.18it/s]                                                                                               \n"
     ]
    },
    {
     "name": "stdout",
     "output_type": "stream",
     "text": [
      "Saving results in D:\\Sidevideos\\AR35MOTOR\\2022_01_27...\n",
      "Saving csv poses!\n",
      "Starting to analyze %  D:\\Sidevideos\\AR35MOTOR\\2022_01_27\\254.avi\n",
      "Loading  D:\\Sidevideos\\AR35MOTOR\\2022_01_27\\254.avi\n",
      "Duration of video [s]:  12.5 , recorded with  40.0 fps!\n",
      "Overall # of frames:  500  found with (before cropping) frame dimensions:  800 480\n",
      "Starting to extract posture\n"
     ]
    },
    {
     "name": "stderr",
     "output_type": "stream",
     "text": [
      "510it [00:26, 19.19it/s]                                                                                               \n"
     ]
    },
    {
     "name": "stdout",
     "output_type": "stream",
     "text": [
      "Saving results in D:\\Sidevideos\\AR35MOTOR\\2022_01_27...\n",
      "Saving csv poses!\n",
      "Starting to analyze %  D:\\Sidevideos\\AR35MOTOR\\2022_01_27\\255.avi\n",
      "Loading  D:\\Sidevideos\\AR35MOTOR\\2022_01_27\\255.avi\n",
      "Duration of video [s]:  12.5 , recorded with  40.0 fps!\n",
      "Overall # of frames:  500  found with (before cropping) frame dimensions:  800 480\n",
      "Starting to extract posture\n"
     ]
    },
    {
     "name": "stderr",
     "output_type": "stream",
     "text": [
      "510it [00:26, 19.10it/s]                                                                                               \n"
     ]
    },
    {
     "name": "stdout",
     "output_type": "stream",
     "text": [
      "Saving results in D:\\Sidevideos\\AR35MOTOR\\2022_01_27...\n",
      "Saving csv poses!\n",
      "Starting to analyze %  D:\\Sidevideos\\AR35MOTOR\\2022_01_27\\256.avi\n",
      "Loading  D:\\Sidevideos\\AR35MOTOR\\2022_01_27\\256.avi\n",
      "Duration of video [s]:  12.5 , recorded with  40.0 fps!\n",
      "Overall # of frames:  500  found with (before cropping) frame dimensions:  800 480\n",
      "Starting to extract posture\n"
     ]
    },
    {
     "name": "stderr",
     "output_type": "stream",
     "text": [
      "510it [00:26, 19.13it/s]                                                                                               \n"
     ]
    },
    {
     "name": "stdout",
     "output_type": "stream",
     "text": [
      "Saving results in D:\\Sidevideos\\AR35MOTOR\\2022_01_27...\n",
      "Saving csv poses!\n",
      "Starting to analyze %  D:\\Sidevideos\\AR35MOTOR\\2022_01_27\\257.avi\n",
      "Loading  D:\\Sidevideos\\AR35MOTOR\\2022_01_27\\257.avi\n",
      "Duration of video [s]:  12.5 , recorded with  40.0 fps!\n",
      "Overall # of frames:  500  found with (before cropping) frame dimensions:  800 480\n",
      "Starting to extract posture\n"
     ]
    },
    {
     "name": "stderr",
     "output_type": "stream",
     "text": [
      "510it [00:26, 19.25it/s]                                                                                               \n"
     ]
    },
    {
     "name": "stdout",
     "output_type": "stream",
     "text": [
      "Saving results in D:\\Sidevideos\\AR35MOTOR\\2022_01_27...\n",
      "Saving csv poses!\n",
      "Starting to analyze %  D:\\Sidevideos\\AR35MOTOR\\2022_01_27\\258.avi\n",
      "Loading  D:\\Sidevideos\\AR35MOTOR\\2022_01_27\\258.avi\n",
      "Duration of video [s]:  12.5 , recorded with  40.0 fps!\n",
      "Overall # of frames:  500  found with (before cropping) frame dimensions:  800 480\n",
      "Starting to extract posture\n"
     ]
    },
    {
     "name": "stderr",
     "output_type": "stream",
     "text": [
      "510it [00:26, 19.19it/s]                                                                                               \n"
     ]
    },
    {
     "name": "stdout",
     "output_type": "stream",
     "text": [
      "Saving results in D:\\Sidevideos\\AR35MOTOR\\2022_01_27...\n",
      "Saving csv poses!\n",
      "Starting to analyze %  D:\\Sidevideos\\AR35MOTOR\\2022_01_27\\259.avi\n",
      "Loading  D:\\Sidevideos\\AR35MOTOR\\2022_01_27\\259.avi\n",
      "Duration of video [s]:  12.5 , recorded with  40.0 fps!\n",
      "Overall # of frames:  500  found with (before cropping) frame dimensions:  800 480\n",
      "Starting to extract posture\n"
     ]
    },
    {
     "name": "stderr",
     "output_type": "stream",
     "text": [
      "510it [00:26, 19.04it/s]                                                                                               \n"
     ]
    },
    {
     "name": "stdout",
     "output_type": "stream",
     "text": [
      "Saving results in D:\\Sidevideos\\AR35MOTOR\\2022_01_27...\n",
      "Saving csv poses!\n",
      "Starting to analyze %  D:\\Sidevideos\\AR35MOTOR\\2022_01_27\\26.avi\n",
      "Loading  D:\\Sidevideos\\AR35MOTOR\\2022_01_27\\26.avi\n",
      "Duration of video [s]:  12.5 , recorded with  40.0 fps!\n",
      "Overall # of frames:  500  found with (before cropping) frame dimensions:  800 480\n",
      "Starting to extract posture\n"
     ]
    },
    {
     "name": "stderr",
     "output_type": "stream",
     "text": [
      "510it [00:26, 19.14it/s]                                                                                               \n"
     ]
    },
    {
     "name": "stdout",
     "output_type": "stream",
     "text": [
      "Saving results in D:\\Sidevideos\\AR35MOTOR\\2022_01_27...\n",
      "Saving csv poses!\n",
      "Starting to analyze %  D:\\Sidevideos\\AR35MOTOR\\2022_01_27\\260.avi\n",
      "Loading  D:\\Sidevideos\\AR35MOTOR\\2022_01_27\\260.avi\n",
      "Duration of video [s]:  12.5 , recorded with  40.0 fps!\n",
      "Overall # of frames:  500  found with (before cropping) frame dimensions:  800 480\n",
      "Starting to extract posture\n"
     ]
    },
    {
     "name": "stderr",
     "output_type": "stream",
     "text": [
      "510it [00:26, 19.12it/s]                                                                                               \n"
     ]
    },
    {
     "name": "stdout",
     "output_type": "stream",
     "text": [
      "Saving results in D:\\Sidevideos\\AR35MOTOR\\2022_01_27...\n",
      "Saving csv poses!\n",
      "Starting to analyze %  D:\\Sidevideos\\AR35MOTOR\\2022_01_27\\261.avi\n",
      "Loading  D:\\Sidevideos\\AR35MOTOR\\2022_01_27\\261.avi\n",
      "Duration of video [s]:  12.5 , recorded with  40.0 fps!\n",
      "Overall # of frames:  500  found with (before cropping) frame dimensions:  800 480\n",
      "Starting to extract posture\n"
     ]
    },
    {
     "name": "stderr",
     "output_type": "stream",
     "text": [
      "510it [00:26, 19.17it/s]                                                                                               \n"
     ]
    },
    {
     "name": "stdout",
     "output_type": "stream",
     "text": [
      "Saving results in D:\\Sidevideos\\AR35MOTOR\\2022_01_27...\n",
      "Saving csv poses!\n",
      "Starting to analyze %  D:\\Sidevideos\\AR35MOTOR\\2022_01_27\\262.avi\n",
      "Loading  D:\\Sidevideos\\AR35MOTOR\\2022_01_27\\262.avi\n",
      "Duration of video [s]:  12.5 , recorded with  40.0 fps!\n",
      "Overall # of frames:  500  found with (before cropping) frame dimensions:  800 480\n",
      "Starting to extract posture\n"
     ]
    },
    {
     "name": "stderr",
     "output_type": "stream",
     "text": [
      "510it [00:26, 19.18it/s]                                                                                               \n"
     ]
    },
    {
     "name": "stdout",
     "output_type": "stream",
     "text": [
      "Saving results in D:\\Sidevideos\\AR35MOTOR\\2022_01_27...\n",
      "Saving csv poses!\n",
      "Starting to analyze %  D:\\Sidevideos\\AR35MOTOR\\2022_01_27\\263.avi\n",
      "Loading  D:\\Sidevideos\\AR35MOTOR\\2022_01_27\\263.avi\n",
      "Duration of video [s]:  12.5 , recorded with  40.0 fps!\n",
      "Overall # of frames:  500  found with (before cropping) frame dimensions:  800 480\n",
      "Starting to extract posture\n"
     ]
    },
    {
     "name": "stderr",
     "output_type": "stream",
     "text": [
      "510it [00:26, 19.19it/s]                                                                                               \n"
     ]
    },
    {
     "name": "stdout",
     "output_type": "stream",
     "text": [
      "Saving results in D:\\Sidevideos\\AR35MOTOR\\2022_01_27...\n",
      "Saving csv poses!\n",
      "Starting to analyze %  D:\\Sidevideos\\AR35MOTOR\\2022_01_27\\264.avi\n",
      "Loading  D:\\Sidevideos\\AR35MOTOR\\2022_01_27\\264.avi\n",
      "Duration of video [s]:  12.5 , recorded with  40.0 fps!\n",
      "Overall # of frames:  500  found with (before cropping) frame dimensions:  800 480\n",
      "Starting to extract posture\n"
     ]
    },
    {
     "name": "stderr",
     "output_type": "stream",
     "text": [
      "510it [00:26, 19.18it/s]                                                                                               \n"
     ]
    },
    {
     "name": "stdout",
     "output_type": "stream",
     "text": [
      "Saving results in D:\\Sidevideos\\AR35MOTOR\\2022_01_27...\n",
      "Saving csv poses!\n",
      "Starting to analyze %  D:\\Sidevideos\\AR35MOTOR\\2022_01_27\\265.avi\n",
      "Loading  D:\\Sidevideos\\AR35MOTOR\\2022_01_27\\265.avi\n",
      "Duration of video [s]:  12.5 , recorded with  40.0 fps!\n",
      "Overall # of frames:  500  found with (before cropping) frame dimensions:  800 480\n",
      "Starting to extract posture\n"
     ]
    },
    {
     "name": "stderr",
     "output_type": "stream",
     "text": [
      "510it [00:26, 19.22it/s]                                                                                               \n"
     ]
    },
    {
     "name": "stdout",
     "output_type": "stream",
     "text": [
      "Saving results in D:\\Sidevideos\\AR35MOTOR\\2022_01_27...\n",
      "Saving csv poses!\n",
      "Starting to analyze %  D:\\Sidevideos\\AR35MOTOR\\2022_01_27\\266.avi\n",
      "Loading  D:\\Sidevideos\\AR35MOTOR\\2022_01_27\\266.avi\n",
      "Duration of video [s]:  12.5 , recorded with  40.0 fps!\n",
      "Overall # of frames:  500  found with (before cropping) frame dimensions:  800 480\n",
      "Starting to extract posture\n"
     ]
    },
    {
     "name": "stderr",
     "output_type": "stream",
     "text": [
      "510it [00:26, 19.09it/s]                                                                                               \n"
     ]
    },
    {
     "name": "stdout",
     "output_type": "stream",
     "text": [
      "Saving results in D:\\Sidevideos\\AR35MOTOR\\2022_01_27...\n",
      "Saving csv poses!\n",
      "Starting to analyze %  D:\\Sidevideos\\AR35MOTOR\\2022_01_27\\267.avi\n",
      "Loading  D:\\Sidevideos\\AR35MOTOR\\2022_01_27\\267.avi\n",
      "Duration of video [s]:  12.5 , recorded with  40.0 fps!\n",
      "Overall # of frames:  500  found with (before cropping) frame dimensions:  800 480\n",
      "Starting to extract posture\n"
     ]
    },
    {
     "name": "stderr",
     "output_type": "stream",
     "text": [
      "510it [00:26, 19.13it/s]                                                                                               \n"
     ]
    },
    {
     "name": "stdout",
     "output_type": "stream",
     "text": [
      "Saving results in D:\\Sidevideos\\AR35MOTOR\\2022_01_27...\n",
      "Saving csv poses!\n",
      "Starting to analyze %  D:\\Sidevideos\\AR35MOTOR\\2022_01_27\\268.avi\n",
      "Loading  D:\\Sidevideos\\AR35MOTOR\\2022_01_27\\268.avi\n",
      "Duration of video [s]:  12.5 , recorded with  40.0 fps!\n",
      "Overall # of frames:  500  found with (before cropping) frame dimensions:  800 480\n",
      "Starting to extract posture\n"
     ]
    },
    {
     "name": "stderr",
     "output_type": "stream",
     "text": [
      "510it [00:26, 19.17it/s]                                                                                               \n"
     ]
    },
    {
     "name": "stdout",
     "output_type": "stream",
     "text": [
      "Saving results in D:\\Sidevideos\\AR35MOTOR\\2022_01_27...\n",
      "Saving csv poses!\n",
      "Starting to analyze %  D:\\Sidevideos\\AR35MOTOR\\2022_01_27\\269.avi\n",
      "Loading  D:\\Sidevideos\\AR35MOTOR\\2022_01_27\\269.avi\n",
      "Duration of video [s]:  12.5 , recorded with  40.0 fps!\n",
      "Overall # of frames:  500  found with (before cropping) frame dimensions:  800 480\n",
      "Starting to extract posture\n"
     ]
    },
    {
     "name": "stderr",
     "output_type": "stream",
     "text": [
      "510it [00:26, 19.11it/s]                                                                                               \n"
     ]
    },
    {
     "name": "stdout",
     "output_type": "stream",
     "text": [
      "Saving results in D:\\Sidevideos\\AR35MOTOR\\2022_01_27...\n",
      "Saving csv poses!\n",
      "Starting to analyze %  D:\\Sidevideos\\AR35MOTOR\\2022_01_27\\27.avi\n",
      "Loading  D:\\Sidevideos\\AR35MOTOR\\2022_01_27\\27.avi\n",
      "Duration of video [s]:  12.5 , recorded with  40.0 fps!\n",
      "Overall # of frames:  500  found with (before cropping) frame dimensions:  800 480\n",
      "Starting to extract posture\n"
     ]
    },
    {
     "name": "stderr",
     "output_type": "stream",
     "text": [
      "510it [00:26, 19.16it/s]                                                                                               \n"
     ]
    },
    {
     "name": "stdout",
     "output_type": "stream",
     "text": [
      "Saving results in D:\\Sidevideos\\AR35MOTOR\\2022_01_27...\n",
      "Saving csv poses!\n",
      "Starting to analyze %  D:\\Sidevideos\\AR35MOTOR\\2022_01_27\\270.avi\n",
      "Loading  D:\\Sidevideos\\AR35MOTOR\\2022_01_27\\270.avi\n",
      "Duration of video [s]:  12.5 , recorded with  40.0 fps!\n",
      "Overall # of frames:  500  found with (before cropping) frame dimensions:  800 480\n",
      "Starting to extract posture\n"
     ]
    },
    {
     "name": "stderr",
     "output_type": "stream",
     "text": [
      "510it [00:26, 19.15it/s]                                                                                               \n"
     ]
    },
    {
     "name": "stdout",
     "output_type": "stream",
     "text": [
      "Saving results in D:\\Sidevideos\\AR35MOTOR\\2022_01_27...\n",
      "Saving csv poses!\n",
      "Starting to analyze %  D:\\Sidevideos\\AR35MOTOR\\2022_01_27\\271.avi\n",
      "Loading  D:\\Sidevideos\\AR35MOTOR\\2022_01_27\\271.avi\n",
      "Duration of video [s]:  12.5 , recorded with  40.0 fps!\n",
      "Overall # of frames:  500  found with (before cropping) frame dimensions:  800 480\n",
      "Starting to extract posture\n"
     ]
    },
    {
     "name": "stderr",
     "output_type": "stream",
     "text": [
      "510it [00:26, 19.17it/s]                                                                                               \n"
     ]
    },
    {
     "name": "stdout",
     "output_type": "stream",
     "text": [
      "Saving results in D:\\Sidevideos\\AR35MOTOR\\2022_01_27...\n",
      "Saving csv poses!\n",
      "Starting to analyze %  D:\\Sidevideos\\AR35MOTOR\\2022_01_27\\272.avi\n",
      "Loading  D:\\Sidevideos\\AR35MOTOR\\2022_01_27\\272.avi\n",
      "Duration of video [s]:  12.5 , recorded with  40.0 fps!\n",
      "Overall # of frames:  500  found with (before cropping) frame dimensions:  800 480\n",
      "Starting to extract posture\n"
     ]
    },
    {
     "name": "stderr",
     "output_type": "stream",
     "text": [
      "510it [00:26, 19.11it/s]                                                                                               \n"
     ]
    },
    {
     "name": "stdout",
     "output_type": "stream",
     "text": [
      "Saving results in D:\\Sidevideos\\AR35MOTOR\\2022_01_27...\n",
      "Saving csv poses!\n",
      "Starting to analyze %  D:\\Sidevideos\\AR35MOTOR\\2022_01_27\\273.avi\n",
      "Loading  D:\\Sidevideos\\AR35MOTOR\\2022_01_27\\273.avi\n",
      "Duration of video [s]:  12.5 , recorded with  40.0 fps!\n",
      "Overall # of frames:  500  found with (before cropping) frame dimensions:  800 480\n",
      "Starting to extract posture\n"
     ]
    },
    {
     "name": "stderr",
     "output_type": "stream",
     "text": [
      "510it [00:26, 19.15it/s]                                                                                               \n"
     ]
    },
    {
     "name": "stdout",
     "output_type": "stream",
     "text": [
      "Saving results in D:\\Sidevideos\\AR35MOTOR\\2022_01_27...\n",
      "Saving csv poses!\n",
      "Starting to analyze %  D:\\Sidevideos\\AR35MOTOR\\2022_01_27\\274.avi\n",
      "Loading  D:\\Sidevideos\\AR35MOTOR\\2022_01_27\\274.avi\n",
      "Duration of video [s]:  12.5 , recorded with  40.0 fps!\n",
      "Overall # of frames:  500  found with (before cropping) frame dimensions:  800 480\n",
      "Starting to extract posture\n"
     ]
    },
    {
     "name": "stderr",
     "output_type": "stream",
     "text": [
      "510it [00:26, 19.13it/s]                                                                                               \n"
     ]
    },
    {
     "name": "stdout",
     "output_type": "stream",
     "text": [
      "Saving results in D:\\Sidevideos\\AR35MOTOR\\2022_01_27...\n",
      "Saving csv poses!\n",
      "Starting to analyze %  D:\\Sidevideos\\AR35MOTOR\\2022_01_27\\275.avi\n",
      "Loading  D:\\Sidevideos\\AR35MOTOR\\2022_01_27\\275.avi\n",
      "Duration of video [s]:  12.5 , recorded with  40.0 fps!\n",
      "Overall # of frames:  500  found with (before cropping) frame dimensions:  800 480\n",
      "Starting to extract posture\n"
     ]
    },
    {
     "name": "stderr",
     "output_type": "stream",
     "text": [
      "510it [00:26, 19.24it/s]                                                                                               \n"
     ]
    },
    {
     "name": "stdout",
     "output_type": "stream",
     "text": [
      "Saving results in D:\\Sidevideos\\AR35MOTOR\\2022_01_27...\n",
      "Saving csv poses!\n",
      "Starting to analyze %  D:\\Sidevideos\\AR35MOTOR\\2022_01_27\\276.avi\n",
      "Loading  D:\\Sidevideos\\AR35MOTOR\\2022_01_27\\276.avi\n",
      "Duration of video [s]:  12.5 , recorded with  40.0 fps!\n",
      "Overall # of frames:  500  found with (before cropping) frame dimensions:  800 480\n",
      "Starting to extract posture\n"
     ]
    },
    {
     "name": "stderr",
     "output_type": "stream",
     "text": [
      "510it [00:26, 19.12it/s]                                                                                               \n"
     ]
    },
    {
     "name": "stdout",
     "output_type": "stream",
     "text": [
      "Saving results in D:\\Sidevideos\\AR35MOTOR\\2022_01_27...\n",
      "Saving csv poses!\n",
      "Starting to analyze %  D:\\Sidevideos\\AR35MOTOR\\2022_01_27\\277.avi\n",
      "Loading  D:\\Sidevideos\\AR35MOTOR\\2022_01_27\\277.avi\n",
      "Duration of video [s]:  12.5 , recorded with  40.0 fps!\n",
      "Overall # of frames:  500  found with (before cropping) frame dimensions:  800 480\n",
      "Starting to extract posture\n"
     ]
    },
    {
     "name": "stderr",
     "output_type": "stream",
     "text": [
      "510it [00:26, 19.26it/s]                                                                                               \n"
     ]
    },
    {
     "name": "stdout",
     "output_type": "stream",
     "text": [
      "Saving results in D:\\Sidevideos\\AR35MOTOR\\2022_01_27...\n",
      "Saving csv poses!\n",
      "Starting to analyze %  D:\\Sidevideos\\AR35MOTOR\\2022_01_27\\278.avi\n",
      "Loading  D:\\Sidevideos\\AR35MOTOR\\2022_01_27\\278.avi\n",
      "Duration of video [s]:  12.5 , recorded with  40.0 fps!\n",
      "Overall # of frames:  500  found with (before cropping) frame dimensions:  800 480\n",
      "Starting to extract posture\n"
     ]
    },
    {
     "name": "stderr",
     "output_type": "stream",
     "text": [
      "510it [00:26, 19.23it/s]                                                                                               \n"
     ]
    },
    {
     "name": "stdout",
     "output_type": "stream",
     "text": [
      "Saving results in D:\\Sidevideos\\AR35MOTOR\\2022_01_27...\n",
      "Saving csv poses!\n",
      "Starting to analyze %  D:\\Sidevideos\\AR35MOTOR\\2022_01_27\\279.avi\n",
      "Loading  D:\\Sidevideos\\AR35MOTOR\\2022_01_27\\279.avi\n",
      "Duration of video [s]:  12.5 , recorded with  40.0 fps!\n",
      "Overall # of frames:  500  found with (before cropping) frame dimensions:  800 480\n",
      "Starting to extract posture\n"
     ]
    },
    {
     "name": "stderr",
     "output_type": "stream",
     "text": [
      "510it [00:26, 19.19it/s]                                                                                               \n"
     ]
    },
    {
     "name": "stdout",
     "output_type": "stream",
     "text": [
      "Saving results in D:\\Sidevideos\\AR35MOTOR\\2022_01_27...\n",
      "Saving csv poses!\n",
      "Starting to analyze %  D:\\Sidevideos\\AR35MOTOR\\2022_01_27\\28.avi\n",
      "Loading  D:\\Sidevideos\\AR35MOTOR\\2022_01_27\\28.avi\n",
      "Duration of video [s]:  12.5 , recorded with  40.0 fps!\n",
      "Overall # of frames:  500  found with (before cropping) frame dimensions:  800 480\n",
      "Starting to extract posture\n"
     ]
    },
    {
     "name": "stderr",
     "output_type": "stream",
     "text": [
      "510it [00:26, 19.19it/s]                                                                                               \n"
     ]
    },
    {
     "name": "stdout",
     "output_type": "stream",
     "text": [
      "Saving results in D:\\Sidevideos\\AR35MOTOR\\2022_01_27...\n",
      "Saving csv poses!\n",
      "Starting to analyze %  D:\\Sidevideos\\AR35MOTOR\\2022_01_27\\280.avi\n",
      "Loading  D:\\Sidevideos\\AR35MOTOR\\2022_01_27\\280.avi\n",
      "Duration of video [s]:  12.5 , recorded with  40.0 fps!\n",
      "Overall # of frames:  500  found with (before cropping) frame dimensions:  800 480\n",
      "Starting to extract posture\n"
     ]
    },
    {
     "name": "stderr",
     "output_type": "stream",
     "text": [
      "510it [00:26, 19.21it/s]                                                                                               \n"
     ]
    },
    {
     "name": "stdout",
     "output_type": "stream",
     "text": [
      "Saving results in D:\\Sidevideos\\AR35MOTOR\\2022_01_27...\n",
      "Saving csv poses!\n",
      "Starting to analyze %  D:\\Sidevideos\\AR35MOTOR\\2022_01_27\\281.avi\n",
      "Loading  D:\\Sidevideos\\AR35MOTOR\\2022_01_27\\281.avi\n",
      "Duration of video [s]:  12.5 , recorded with  40.0 fps!\n",
      "Overall # of frames:  500  found with (before cropping) frame dimensions:  800 480\n",
      "Starting to extract posture\n"
     ]
    },
    {
     "name": "stderr",
     "output_type": "stream",
     "text": [
      "510it [00:26, 19.18it/s]                                                                                               \n"
     ]
    },
    {
     "name": "stdout",
     "output_type": "stream",
     "text": [
      "Saving results in D:\\Sidevideos\\AR35MOTOR\\2022_01_27...\n",
      "Saving csv poses!\n",
      "Starting to analyze %  D:\\Sidevideos\\AR35MOTOR\\2022_01_27\\282.avi\n",
      "Loading  D:\\Sidevideos\\AR35MOTOR\\2022_01_27\\282.avi\n",
      "Duration of video [s]:  12.5 , recorded with  40.0 fps!\n",
      "Overall # of frames:  500  found with (before cropping) frame dimensions:  800 480\n",
      "Starting to extract posture\n"
     ]
    },
    {
     "name": "stderr",
     "output_type": "stream",
     "text": [
      "510it [00:26, 19.16it/s]                                                                                               \n"
     ]
    },
    {
     "name": "stdout",
     "output_type": "stream",
     "text": [
      "Saving results in D:\\Sidevideos\\AR35MOTOR\\2022_01_27...\n",
      "Saving csv poses!\n",
      "Starting to analyze %  D:\\Sidevideos\\AR35MOTOR\\2022_01_27\\283.avi\n",
      "Loading  D:\\Sidevideos\\AR35MOTOR\\2022_01_27\\283.avi\n",
      "Duration of video [s]:  12.5 , recorded with  40.0 fps!\n",
      "Overall # of frames:  500  found with (before cropping) frame dimensions:  800 480\n",
      "Starting to extract posture\n"
     ]
    },
    {
     "name": "stderr",
     "output_type": "stream",
     "text": [
      "510it [00:26, 19.19it/s]                                                                                               \n"
     ]
    },
    {
     "name": "stdout",
     "output_type": "stream",
     "text": [
      "Saving results in D:\\Sidevideos\\AR35MOTOR\\2022_01_27...\n",
      "Saving csv poses!\n",
      "Starting to analyze %  D:\\Sidevideos\\AR35MOTOR\\2022_01_27\\284.avi\n",
      "Loading  D:\\Sidevideos\\AR35MOTOR\\2022_01_27\\284.avi\n",
      "Duration of video [s]:  12.5 , recorded with  40.0 fps!\n",
      "Overall # of frames:  500  found with (before cropping) frame dimensions:  800 480\n",
      "Starting to extract posture\n"
     ]
    },
    {
     "name": "stderr",
     "output_type": "stream",
     "text": [
      "510it [00:26, 19.22it/s]                                                                                               \n"
     ]
    },
    {
     "name": "stdout",
     "output_type": "stream",
     "text": [
      "Saving results in D:\\Sidevideos\\AR35MOTOR\\2022_01_27...\n",
      "Saving csv poses!\n",
      "Starting to analyze %  D:\\Sidevideos\\AR35MOTOR\\2022_01_27\\285.avi\n",
      "Loading  D:\\Sidevideos\\AR35MOTOR\\2022_01_27\\285.avi\n",
      "Duration of video [s]:  12.5 , recorded with  40.0 fps!\n",
      "Overall # of frames:  500  found with (before cropping) frame dimensions:  800 480\n",
      "Starting to extract posture\n"
     ]
    },
    {
     "name": "stderr",
     "output_type": "stream",
     "text": [
      "510it [00:26, 19.25it/s]                                                                                               \n"
     ]
    },
    {
     "name": "stdout",
     "output_type": "stream",
     "text": [
      "Saving results in D:\\Sidevideos\\AR35MOTOR\\2022_01_27...\n",
      "Saving csv poses!\n",
      "Starting to analyze %  D:\\Sidevideos\\AR35MOTOR\\2022_01_27\\286.avi\n",
      "Loading  D:\\Sidevideos\\AR35MOTOR\\2022_01_27\\286.avi\n",
      "Duration of video [s]:  12.5 , recorded with  40.0 fps!\n",
      "Overall # of frames:  500  found with (before cropping) frame dimensions:  800 480\n",
      "Starting to extract posture\n"
     ]
    },
    {
     "name": "stderr",
     "output_type": "stream",
     "text": [
      "510it [00:26, 19.29it/s]                                                                                               \n"
     ]
    },
    {
     "name": "stdout",
     "output_type": "stream",
     "text": [
      "Saving results in D:\\Sidevideos\\AR35MOTOR\\2022_01_27...\n",
      "Saving csv poses!\n",
      "Starting to analyze %  D:\\Sidevideos\\AR35MOTOR\\2022_01_27\\287.avi\n",
      "Loading  D:\\Sidevideos\\AR35MOTOR\\2022_01_27\\287.avi\n",
      "Duration of video [s]:  12.5 , recorded with  40.0 fps!\n",
      "Overall # of frames:  500  found with (before cropping) frame dimensions:  800 480\n",
      "Starting to extract posture\n"
     ]
    },
    {
     "name": "stderr",
     "output_type": "stream",
     "text": [
      "510it [00:26, 19.20it/s]                                                                                               \n"
     ]
    },
    {
     "name": "stdout",
     "output_type": "stream",
     "text": [
      "Saving results in D:\\Sidevideos\\AR35MOTOR\\2022_01_27...\n",
      "Saving csv poses!\n",
      "Starting to analyze %  D:\\Sidevideos\\AR35MOTOR\\2022_01_27\\288.avi\n",
      "Loading  D:\\Sidevideos\\AR35MOTOR\\2022_01_27\\288.avi\n",
      "Duration of video [s]:  12.5 , recorded with  40.0 fps!\n",
      "Overall # of frames:  500  found with (before cropping) frame dimensions:  800 480\n",
      "Starting to extract posture\n"
     ]
    },
    {
     "name": "stderr",
     "output_type": "stream",
     "text": [
      "510it [00:26, 19.18it/s]                                                                                               \n"
     ]
    },
    {
     "name": "stdout",
     "output_type": "stream",
     "text": [
      "Saving results in D:\\Sidevideos\\AR35MOTOR\\2022_01_27...\n",
      "Saving csv poses!\n",
      "Starting to analyze %  D:\\Sidevideos\\AR35MOTOR\\2022_01_27\\289.avi\n",
      "Loading  D:\\Sidevideos\\AR35MOTOR\\2022_01_27\\289.avi\n",
      "Duration of video [s]:  12.5 , recorded with  40.0 fps!\n",
      "Overall # of frames:  500  found with (before cropping) frame dimensions:  800 480\n",
      "Starting to extract posture\n"
     ]
    },
    {
     "name": "stderr",
     "output_type": "stream",
     "text": [
      "510it [00:26, 19.25it/s]                                                                                               \n"
     ]
    },
    {
     "name": "stdout",
     "output_type": "stream",
     "text": [
      "Saving results in D:\\Sidevideos\\AR35MOTOR\\2022_01_27...\n",
      "Saving csv poses!\n",
      "Starting to analyze %  D:\\Sidevideos\\AR35MOTOR\\2022_01_27\\29.avi\n",
      "Loading  D:\\Sidevideos\\AR35MOTOR\\2022_01_27\\29.avi\n",
      "Duration of video [s]:  12.5 , recorded with  40.0 fps!\n",
      "Overall # of frames:  500  found with (before cropping) frame dimensions:  800 480\n",
      "Starting to extract posture\n"
     ]
    },
    {
     "name": "stderr",
     "output_type": "stream",
     "text": [
      "510it [00:26, 19.15it/s]                                                                                               \n"
     ]
    },
    {
     "name": "stdout",
     "output_type": "stream",
     "text": [
      "Saving results in D:\\Sidevideos\\AR35MOTOR\\2022_01_27...\n",
      "Saving csv poses!\n",
      "Starting to analyze %  D:\\Sidevideos\\AR35MOTOR\\2022_01_27\\290.avi\n",
      "Loading  D:\\Sidevideos\\AR35MOTOR\\2022_01_27\\290.avi\n",
      "Duration of video [s]:  12.5 , recorded with  40.0 fps!\n",
      "Overall # of frames:  500  found with (before cropping) frame dimensions:  800 480\n",
      "Starting to extract posture\n"
     ]
    },
    {
     "name": "stderr",
     "output_type": "stream",
     "text": [
      "510it [00:26, 19.15it/s]                                                                                               \n"
     ]
    },
    {
     "name": "stdout",
     "output_type": "stream",
     "text": [
      "Saving results in D:\\Sidevideos\\AR35MOTOR\\2022_01_27...\n",
      "Saving csv poses!\n",
      "Starting to analyze %  D:\\Sidevideos\\AR35MOTOR\\2022_01_27\\291.avi\n",
      "Loading  D:\\Sidevideos\\AR35MOTOR\\2022_01_27\\291.avi\n",
      "Duration of video [s]:  12.5 , recorded with  40.0 fps!\n",
      "Overall # of frames:  500  found with (before cropping) frame dimensions:  800 480\n",
      "Starting to extract posture\n"
     ]
    },
    {
     "name": "stderr",
     "output_type": "stream",
     "text": [
      "510it [00:26, 19.19it/s]                                                                                               \n"
     ]
    },
    {
     "name": "stdout",
     "output_type": "stream",
     "text": [
      "Saving results in D:\\Sidevideos\\AR35MOTOR\\2022_01_27...\n",
      "Saving csv poses!\n",
      "Starting to analyze %  D:\\Sidevideos\\AR35MOTOR\\2022_01_27\\292.avi\n",
      "Loading  D:\\Sidevideos\\AR35MOTOR\\2022_01_27\\292.avi\n",
      "Duration of video [s]:  12.5 , recorded with  40.0 fps!\n",
      "Overall # of frames:  500  found with (before cropping) frame dimensions:  800 480\n",
      "Starting to extract posture\n"
     ]
    },
    {
     "name": "stderr",
     "output_type": "stream",
     "text": [
      "510it [00:26, 19.20it/s]                                                                                               \n"
     ]
    },
    {
     "name": "stdout",
     "output_type": "stream",
     "text": [
      "Saving results in D:\\Sidevideos\\AR35MOTOR\\2022_01_27...\n",
      "Saving csv poses!\n",
      "Starting to analyze %  D:\\Sidevideos\\AR35MOTOR\\2022_01_27\\293.avi\n",
      "Loading  D:\\Sidevideos\\AR35MOTOR\\2022_01_27\\293.avi\n",
      "Duration of video [s]:  12.5 , recorded with  40.0 fps!\n",
      "Overall # of frames:  500  found with (before cropping) frame dimensions:  800 480\n",
      "Starting to extract posture\n"
     ]
    },
    {
     "name": "stderr",
     "output_type": "stream",
     "text": [
      "510it [00:26, 19.21it/s]                                                                                               \n"
     ]
    },
    {
     "name": "stdout",
     "output_type": "stream",
     "text": [
      "Saving results in D:\\Sidevideos\\AR35MOTOR\\2022_01_27...\n",
      "Saving csv poses!\n",
      "Starting to analyze %  D:\\Sidevideos\\AR35MOTOR\\2022_01_27\\294.avi\n",
      "Loading  D:\\Sidevideos\\AR35MOTOR\\2022_01_27\\294.avi\n",
      "Duration of video [s]:  12.5 , recorded with  40.0 fps!\n",
      "Overall # of frames:  500  found with (before cropping) frame dimensions:  800 480\n",
      "Starting to extract posture\n"
     ]
    },
    {
     "name": "stderr",
     "output_type": "stream",
     "text": [
      "510it [00:26, 19.23it/s]                                                                                               \n"
     ]
    },
    {
     "name": "stdout",
     "output_type": "stream",
     "text": [
      "Saving results in D:\\Sidevideos\\AR35MOTOR\\2022_01_27...\n",
      "Saving csv poses!\n",
      "Starting to analyze %  D:\\Sidevideos\\AR35MOTOR\\2022_01_27\\295.avi\n",
      "Loading  D:\\Sidevideos\\AR35MOTOR\\2022_01_27\\295.avi\n",
      "Duration of video [s]:  12.5 , recorded with  40.0 fps!\n",
      "Overall # of frames:  500  found with (before cropping) frame dimensions:  800 480\n",
      "Starting to extract posture\n"
     ]
    },
    {
     "name": "stderr",
     "output_type": "stream",
     "text": [
      "510it [00:26, 19.11it/s]                                                                                               \n"
     ]
    },
    {
     "name": "stdout",
     "output_type": "stream",
     "text": [
      "Saving results in D:\\Sidevideos\\AR35MOTOR\\2022_01_27...\n",
      "Saving csv poses!\n",
      "Starting to analyze %  D:\\Sidevideos\\AR35MOTOR\\2022_01_27\\296.avi\n",
      "Loading  D:\\Sidevideos\\AR35MOTOR\\2022_01_27\\296.avi\n",
      "Duration of video [s]:  12.5 , recorded with  40.0 fps!\n",
      "Overall # of frames:  500  found with (before cropping) frame dimensions:  800 480\n",
      "Starting to extract posture\n"
     ]
    },
    {
     "name": "stderr",
     "output_type": "stream",
     "text": [
      "510it [00:26, 19.22it/s]                                                                                               \n"
     ]
    },
    {
     "name": "stdout",
     "output_type": "stream",
     "text": [
      "Saving results in D:\\Sidevideos\\AR35MOTOR\\2022_01_27...\n",
      "Saving csv poses!\n",
      "Starting to analyze %  D:\\Sidevideos\\AR35MOTOR\\2022_01_27\\297.avi\n",
      "Loading  D:\\Sidevideos\\AR35MOTOR\\2022_01_27\\297.avi\n",
      "Duration of video [s]:  12.5 , recorded with  40.0 fps!\n",
      "Overall # of frames:  500  found with (before cropping) frame dimensions:  800 480\n",
      "Starting to extract posture\n"
     ]
    },
    {
     "name": "stderr",
     "output_type": "stream",
     "text": [
      "510it [00:26, 19.12it/s]                                                                                               \n"
     ]
    },
    {
     "name": "stdout",
     "output_type": "stream",
     "text": [
      "Saving results in D:\\Sidevideos\\AR35MOTOR\\2022_01_27...\n",
      "Saving csv poses!\n",
      "Starting to analyze %  D:\\Sidevideos\\AR35MOTOR\\2022_01_27\\298.avi\n",
      "Loading  D:\\Sidevideos\\AR35MOTOR\\2022_01_27\\298.avi\n",
      "Duration of video [s]:  12.5 , recorded with  40.0 fps!\n",
      "Overall # of frames:  500  found with (before cropping) frame dimensions:  800 480\n",
      "Starting to extract posture\n"
     ]
    },
    {
     "name": "stderr",
     "output_type": "stream",
     "text": [
      "510it [00:26, 19.11it/s]                                                                                               \n"
     ]
    },
    {
     "name": "stdout",
     "output_type": "stream",
     "text": [
      "Saving results in D:\\Sidevideos\\AR35MOTOR\\2022_01_27...\n",
      "Saving csv poses!\n",
      "Starting to analyze %  D:\\Sidevideos\\AR35MOTOR\\2022_01_27\\299.avi\n",
      "Loading  D:\\Sidevideos\\AR35MOTOR\\2022_01_27\\299.avi\n",
      "Duration of video [s]:  12.5 , recorded with  40.0 fps!\n",
      "Overall # of frames:  500  found with (before cropping) frame dimensions:  800 480\n",
      "Starting to extract posture\n"
     ]
    },
    {
     "name": "stderr",
     "output_type": "stream",
     "text": [
      "510it [00:26, 19.25it/s]                                                                                               \n"
     ]
    },
    {
     "name": "stdout",
     "output_type": "stream",
     "text": [
      "Saving results in D:\\Sidevideos\\AR35MOTOR\\2022_01_27...\n",
      "Saving csv poses!\n",
      "Starting to analyze %  D:\\Sidevideos\\AR35MOTOR\\2022_01_27\\3.avi\n",
      "Loading  D:\\Sidevideos\\AR35MOTOR\\2022_01_27\\3.avi\n",
      "Duration of video [s]:  12.5 , recorded with  40.0 fps!\n",
      "Overall # of frames:  500  found with (before cropping) frame dimensions:  800 480\n",
      "Starting to extract posture\n"
     ]
    },
    {
     "name": "stderr",
     "output_type": "stream",
     "text": [
      "510it [00:26, 19.18it/s]                                                                                               \n"
     ]
    },
    {
     "name": "stdout",
     "output_type": "stream",
     "text": [
      "Saving results in D:\\Sidevideos\\AR35MOTOR\\2022_01_27...\n",
      "Saving csv poses!\n",
      "Starting to analyze %  D:\\Sidevideos\\AR35MOTOR\\2022_01_27\\30.avi\n",
      "Loading  D:\\Sidevideos\\AR35MOTOR\\2022_01_27\\30.avi\n",
      "Duration of video [s]:  12.5 , recorded with  40.0 fps!\n",
      "Overall # of frames:  500  found with (before cropping) frame dimensions:  800 480\n",
      "Starting to extract posture\n"
     ]
    },
    {
     "name": "stderr",
     "output_type": "stream",
     "text": [
      "510it [00:26, 19.18it/s]                                                                                               \n"
     ]
    },
    {
     "name": "stdout",
     "output_type": "stream",
     "text": [
      "Saving results in D:\\Sidevideos\\AR35MOTOR\\2022_01_27...\n",
      "Saving csv poses!\n",
      "Starting to analyze %  D:\\Sidevideos\\AR35MOTOR\\2022_01_27\\300.avi\n",
      "Loading  D:\\Sidevideos\\AR35MOTOR\\2022_01_27\\300.avi\n",
      "Duration of video [s]:  12.5 , recorded with  40.0 fps!\n",
      "Overall # of frames:  500  found with (before cropping) frame dimensions:  800 480\n",
      "Starting to extract posture\n"
     ]
    },
    {
     "name": "stderr",
     "output_type": "stream",
     "text": [
      "510it [00:26, 19.19it/s]                                                                                               \n"
     ]
    },
    {
     "name": "stdout",
     "output_type": "stream",
     "text": [
      "Saving results in D:\\Sidevideos\\AR35MOTOR\\2022_01_27...\n",
      "Saving csv poses!\n",
      "Starting to analyze %  D:\\Sidevideos\\AR35MOTOR\\2022_01_27\\301.avi\n",
      "Loading  D:\\Sidevideos\\AR35MOTOR\\2022_01_27\\301.avi\n",
      "Duration of video [s]:  12.5 , recorded with  40.0 fps!\n",
      "Overall # of frames:  500  found with (before cropping) frame dimensions:  800 480\n",
      "Starting to extract posture\n"
     ]
    },
    {
     "name": "stderr",
     "output_type": "stream",
     "text": [
      "510it [00:26, 19.23it/s]                                                                                               \n"
     ]
    },
    {
     "name": "stdout",
     "output_type": "stream",
     "text": [
      "Saving results in D:\\Sidevideos\\AR35MOTOR\\2022_01_27...\n",
      "Saving csv poses!\n",
      "Starting to analyze %  D:\\Sidevideos\\AR35MOTOR\\2022_01_27\\302.avi\n",
      "Loading  D:\\Sidevideos\\AR35MOTOR\\2022_01_27\\302.avi\n",
      "Duration of video [s]:  12.5 , recorded with  40.0 fps!\n",
      "Overall # of frames:  500  found with (before cropping) frame dimensions:  800 480\n",
      "Starting to extract posture\n"
     ]
    },
    {
     "name": "stderr",
     "output_type": "stream",
     "text": [
      "510it [00:26, 19.21it/s]                                                                                               \n"
     ]
    },
    {
     "name": "stdout",
     "output_type": "stream",
     "text": [
      "Saving results in D:\\Sidevideos\\AR35MOTOR\\2022_01_27...\n",
      "Saving csv poses!\n",
      "Starting to analyze %  D:\\Sidevideos\\AR35MOTOR\\2022_01_27\\303.avi\n",
      "Loading  D:\\Sidevideos\\AR35MOTOR\\2022_01_27\\303.avi\n",
      "Duration of video [s]:  12.5 , recorded with  40.0 fps!\n",
      "Overall # of frames:  500  found with (before cropping) frame dimensions:  800 480\n",
      "Starting to extract posture\n"
     ]
    },
    {
     "name": "stderr",
     "output_type": "stream",
     "text": [
      "510it [00:26, 19.21it/s]                                                                                               \n"
     ]
    },
    {
     "name": "stdout",
     "output_type": "stream",
     "text": [
      "Saving results in D:\\Sidevideos\\AR35MOTOR\\2022_01_27...\n",
      "Saving csv poses!\n",
      "Starting to analyze %  D:\\Sidevideos\\AR35MOTOR\\2022_01_27\\304.avi\n",
      "Loading  D:\\Sidevideos\\AR35MOTOR\\2022_01_27\\304.avi\n",
      "Duration of video [s]:  12.5 , recorded with  40.0 fps!\n",
      "Overall # of frames:  500  found with (before cropping) frame dimensions:  800 480\n",
      "Starting to extract posture\n"
     ]
    },
    {
     "name": "stderr",
     "output_type": "stream",
     "text": [
      "510it [00:26, 19.22it/s]                                                                                               \n"
     ]
    },
    {
     "name": "stdout",
     "output_type": "stream",
     "text": [
      "Saving results in D:\\Sidevideos\\AR35MOTOR\\2022_01_27...\n",
      "Saving csv poses!\n",
      "Starting to analyze %  D:\\Sidevideos\\AR35MOTOR\\2022_01_27\\305.avi\n",
      "Loading  D:\\Sidevideos\\AR35MOTOR\\2022_01_27\\305.avi\n",
      "Duration of video [s]:  12.5 , recorded with  40.0 fps!\n",
      "Overall # of frames:  500  found with (before cropping) frame dimensions:  800 480\n",
      "Starting to extract posture\n"
     ]
    },
    {
     "name": "stderr",
     "output_type": "stream",
     "text": [
      "510it [00:26, 19.17it/s]                                                                                               \n"
     ]
    },
    {
     "name": "stdout",
     "output_type": "stream",
     "text": [
      "Saving results in D:\\Sidevideos\\AR35MOTOR\\2022_01_27...\n",
      "Saving csv poses!\n",
      "Starting to analyze %  D:\\Sidevideos\\AR35MOTOR\\2022_01_27\\306.avi\n",
      "Loading  D:\\Sidevideos\\AR35MOTOR\\2022_01_27\\306.avi\n",
      "Duration of video [s]:  12.5 , recorded with  40.0 fps!\n",
      "Overall # of frames:  500  found with (before cropping) frame dimensions:  800 480\n",
      "Starting to extract posture\n"
     ]
    },
    {
     "name": "stderr",
     "output_type": "stream",
     "text": [
      "510it [00:26, 19.15it/s]                                                                                               \n"
     ]
    },
    {
     "name": "stdout",
     "output_type": "stream",
     "text": [
      "Saving results in D:\\Sidevideos\\AR35MOTOR\\2022_01_27...\n",
      "Saving csv poses!\n",
      "Starting to analyze %  D:\\Sidevideos\\AR35MOTOR\\2022_01_27\\307.avi\n",
      "Loading  D:\\Sidevideos\\AR35MOTOR\\2022_01_27\\307.avi\n",
      "Duration of video [s]:  12.5 , recorded with  40.0 fps!\n",
      "Overall # of frames:  500  found with (before cropping) frame dimensions:  800 480\n",
      "Starting to extract posture\n"
     ]
    },
    {
     "name": "stderr",
     "output_type": "stream",
     "text": [
      "510it [00:26, 19.17it/s]                                                                                               \n"
     ]
    },
    {
     "name": "stdout",
     "output_type": "stream",
     "text": [
      "Saving results in D:\\Sidevideos\\AR35MOTOR\\2022_01_27...\n",
      "Saving csv poses!\n",
      "Starting to analyze %  D:\\Sidevideos\\AR35MOTOR\\2022_01_27\\308.avi\n",
      "Loading  D:\\Sidevideos\\AR35MOTOR\\2022_01_27\\308.avi\n",
      "Duration of video [s]:  12.5 , recorded with  40.0 fps!\n",
      "Overall # of frames:  500  found with (before cropping) frame dimensions:  800 480\n",
      "Starting to extract posture\n"
     ]
    },
    {
     "name": "stderr",
     "output_type": "stream",
     "text": [
      "510it [00:26, 19.21it/s]                                                                                               \n"
     ]
    },
    {
     "name": "stdout",
     "output_type": "stream",
     "text": [
      "Saving results in D:\\Sidevideos\\AR35MOTOR\\2022_01_27...\n",
      "Saving csv poses!\n",
      "Starting to analyze %  D:\\Sidevideos\\AR35MOTOR\\2022_01_27\\309.avi\n",
      "Loading  D:\\Sidevideos\\AR35MOTOR\\2022_01_27\\309.avi\n",
      "Duration of video [s]:  12.5 , recorded with  40.0 fps!\n",
      "Overall # of frames:  500  found with (before cropping) frame dimensions:  800 480\n",
      "Starting to extract posture\n"
     ]
    },
    {
     "name": "stderr",
     "output_type": "stream",
     "text": [
      "510it [00:26, 19.13it/s]                                                                                               \n"
     ]
    },
    {
     "name": "stdout",
     "output_type": "stream",
     "text": [
      "Saving results in D:\\Sidevideos\\AR35MOTOR\\2022_01_27...\n",
      "Saving csv poses!\n",
      "Starting to analyze %  D:\\Sidevideos\\AR35MOTOR\\2022_01_27\\31.avi\n",
      "Loading  D:\\Sidevideos\\AR35MOTOR\\2022_01_27\\31.avi\n",
      "Duration of video [s]:  12.5 , recorded with  40.0 fps!\n",
      "Overall # of frames:  500  found with (before cropping) frame dimensions:  800 480\n",
      "Starting to extract posture\n"
     ]
    },
    {
     "name": "stderr",
     "output_type": "stream",
     "text": [
      "510it [00:26, 19.21it/s]                                                                                               \n"
     ]
    },
    {
     "name": "stdout",
     "output_type": "stream",
     "text": [
      "Saving results in D:\\Sidevideos\\AR35MOTOR\\2022_01_27...\n",
      "Saving csv poses!\n",
      "Starting to analyze %  D:\\Sidevideos\\AR35MOTOR\\2022_01_27\\310.avi\n",
      "Loading  D:\\Sidevideos\\AR35MOTOR\\2022_01_27\\310.avi\n",
      "Duration of video [s]:  12.5 , recorded with  40.0 fps!\n",
      "Overall # of frames:  500  found with (before cropping) frame dimensions:  800 480\n",
      "Starting to extract posture\n"
     ]
    },
    {
     "name": "stderr",
     "output_type": "stream",
     "text": [
      "510it [00:26, 19.17it/s]                                                                                               \n"
     ]
    },
    {
     "name": "stdout",
     "output_type": "stream",
     "text": [
      "Saving results in D:\\Sidevideos\\AR35MOTOR\\2022_01_27...\n",
      "Saving csv poses!\n",
      "Starting to analyze %  D:\\Sidevideos\\AR35MOTOR\\2022_01_27\\311.avi\n",
      "Loading  D:\\Sidevideos\\AR35MOTOR\\2022_01_27\\311.avi\n",
      "Duration of video [s]:  12.5 , recorded with  40.0 fps!\n",
      "Overall # of frames:  500  found with (before cropping) frame dimensions:  800 480\n",
      "Starting to extract posture\n"
     ]
    },
    {
     "name": "stderr",
     "output_type": "stream",
     "text": [
      "510it [00:26, 19.15it/s]                                                                                               \n"
     ]
    },
    {
     "name": "stdout",
     "output_type": "stream",
     "text": [
      "Saving results in D:\\Sidevideos\\AR35MOTOR\\2022_01_27...\n",
      "Saving csv poses!\n",
      "Starting to analyze %  D:\\Sidevideos\\AR35MOTOR\\2022_01_27\\312.avi\n",
      "Loading  D:\\Sidevideos\\AR35MOTOR\\2022_01_27\\312.avi\n",
      "Duration of video [s]:  12.5 , recorded with  40.0 fps!\n",
      "Overall # of frames:  500  found with (before cropping) frame dimensions:  800 480\n",
      "Starting to extract posture\n"
     ]
    },
    {
     "name": "stderr",
     "output_type": "stream",
     "text": [
      "510it [00:26, 19.14it/s]                                                                                               \n"
     ]
    },
    {
     "name": "stdout",
     "output_type": "stream",
     "text": [
      "Saving results in D:\\Sidevideos\\AR35MOTOR\\2022_01_27...\n",
      "Saving csv poses!\n",
      "Starting to analyze %  D:\\Sidevideos\\AR35MOTOR\\2022_01_27\\313.avi\n",
      "Loading  D:\\Sidevideos\\AR35MOTOR\\2022_01_27\\313.avi\n",
      "Duration of video [s]:  12.5 , recorded with  40.0 fps!\n",
      "Overall # of frames:  500  found with (before cropping) frame dimensions:  800 480\n",
      "Starting to extract posture\n"
     ]
    },
    {
     "name": "stderr",
     "output_type": "stream",
     "text": [
      "510it [00:26, 19.16it/s]                                                                                               \n"
     ]
    },
    {
     "name": "stdout",
     "output_type": "stream",
     "text": [
      "Saving results in D:\\Sidevideos\\AR35MOTOR\\2022_01_27...\n",
      "Saving csv poses!\n",
      "Starting to analyze %  D:\\Sidevideos\\AR35MOTOR\\2022_01_27\\314.avi\n",
      "Loading  D:\\Sidevideos\\AR35MOTOR\\2022_01_27\\314.avi\n",
      "Duration of video [s]:  12.5 , recorded with  40.0 fps!\n",
      "Overall # of frames:  500  found with (before cropping) frame dimensions:  800 480\n",
      "Starting to extract posture\n"
     ]
    },
    {
     "name": "stderr",
     "output_type": "stream",
     "text": [
      "510it [00:26, 19.19it/s]                                                                                               \n"
     ]
    },
    {
     "name": "stdout",
     "output_type": "stream",
     "text": [
      "Saving results in D:\\Sidevideos\\AR35MOTOR\\2022_01_27...\n",
      "Saving csv poses!\n",
      "Starting to analyze %  D:\\Sidevideos\\AR35MOTOR\\2022_01_27\\315.avi\n",
      "Loading  D:\\Sidevideos\\AR35MOTOR\\2022_01_27\\315.avi\n",
      "Duration of video [s]:  12.5 , recorded with  40.0 fps!\n",
      "Overall # of frames:  500  found with (before cropping) frame dimensions:  800 480\n",
      "Starting to extract posture\n"
     ]
    },
    {
     "name": "stderr",
     "output_type": "stream",
     "text": [
      "510it [00:26, 19.19it/s]                                                                                               \n"
     ]
    },
    {
     "name": "stdout",
     "output_type": "stream",
     "text": [
      "Saving results in D:\\Sidevideos\\AR35MOTOR\\2022_01_27...\n",
      "Saving csv poses!\n",
      "Starting to analyze %  D:\\Sidevideos\\AR35MOTOR\\2022_01_27\\316.avi\n",
      "Loading  D:\\Sidevideos\\AR35MOTOR\\2022_01_27\\316.avi\n",
      "Duration of video [s]:  12.5 , recorded with  40.0 fps!\n",
      "Overall # of frames:  500  found with (before cropping) frame dimensions:  800 480\n",
      "Starting to extract posture\n"
     ]
    },
    {
     "name": "stderr",
     "output_type": "stream",
     "text": [
      "510it [00:26, 19.20it/s]                                                                                               \n"
     ]
    },
    {
     "name": "stdout",
     "output_type": "stream",
     "text": [
      "Saving results in D:\\Sidevideos\\AR35MOTOR\\2022_01_27...\n",
      "Saving csv poses!\n",
      "Starting to analyze %  D:\\Sidevideos\\AR35MOTOR\\2022_01_27\\317.avi\n",
      "Loading  D:\\Sidevideos\\AR35MOTOR\\2022_01_27\\317.avi\n",
      "Duration of video [s]:  12.5 , recorded with  40.0 fps!\n",
      "Overall # of frames:  500  found with (before cropping) frame dimensions:  800 480\n",
      "Starting to extract posture\n"
     ]
    },
    {
     "name": "stderr",
     "output_type": "stream",
     "text": [
      "510it [00:26, 19.21it/s]                                                                                               \n"
     ]
    },
    {
     "name": "stdout",
     "output_type": "stream",
     "text": [
      "Saving results in D:\\Sidevideos\\AR35MOTOR\\2022_01_27...\n",
      "Saving csv poses!\n",
      "Starting to analyze %  D:\\Sidevideos\\AR35MOTOR\\2022_01_27\\318.avi\n",
      "Loading  D:\\Sidevideos\\AR35MOTOR\\2022_01_27\\318.avi\n",
      "Duration of video [s]:  12.5 , recorded with  40.0 fps!\n",
      "Overall # of frames:  500  found with (before cropping) frame dimensions:  800 480\n",
      "Starting to extract posture\n"
     ]
    },
    {
     "name": "stderr",
     "output_type": "stream",
     "text": [
      "510it [00:26, 19.14it/s]                                                                                               \n"
     ]
    },
    {
     "name": "stdout",
     "output_type": "stream",
     "text": [
      "Saving results in D:\\Sidevideos\\AR35MOTOR\\2022_01_27...\n",
      "Saving csv poses!\n",
      "Starting to analyze %  D:\\Sidevideos\\AR35MOTOR\\2022_01_27\\319.avi\n",
      "Loading  D:\\Sidevideos\\AR35MOTOR\\2022_01_27\\319.avi\n",
      "Duration of video [s]:  12.5 , recorded with  40.0 fps!\n",
      "Overall # of frames:  500  found with (before cropping) frame dimensions:  800 480\n",
      "Starting to extract posture\n"
     ]
    },
    {
     "name": "stderr",
     "output_type": "stream",
     "text": [
      "510it [00:26, 19.14it/s]                                                                                               \n"
     ]
    },
    {
     "name": "stdout",
     "output_type": "stream",
     "text": [
      "Saving results in D:\\Sidevideos\\AR35MOTOR\\2022_01_27...\n",
      "Saving csv poses!\n",
      "Starting to analyze %  D:\\Sidevideos\\AR35MOTOR\\2022_01_27\\32.avi\n",
      "Loading  D:\\Sidevideos\\AR35MOTOR\\2022_01_27\\32.avi\n",
      "Duration of video [s]:  12.5 , recorded with  40.0 fps!\n",
      "Overall # of frames:  500  found with (before cropping) frame dimensions:  800 480\n",
      "Starting to extract posture\n"
     ]
    },
    {
     "name": "stderr",
     "output_type": "stream",
     "text": [
      "510it [00:26, 19.17it/s]                                                                                               \n"
     ]
    },
    {
     "name": "stdout",
     "output_type": "stream",
     "text": [
      "Saving results in D:\\Sidevideos\\AR35MOTOR\\2022_01_27...\n",
      "Saving csv poses!\n",
      "Starting to analyze %  D:\\Sidevideos\\AR35MOTOR\\2022_01_27\\320.avi\n",
      "Loading  D:\\Sidevideos\\AR35MOTOR\\2022_01_27\\320.avi\n",
      "Duration of video [s]:  12.5 , recorded with  40.0 fps!\n",
      "Overall # of frames:  500  found with (before cropping) frame dimensions:  800 480\n",
      "Starting to extract posture\n"
     ]
    },
    {
     "name": "stderr",
     "output_type": "stream",
     "text": [
      "510it [00:26, 19.17it/s]                                                                                               \n"
     ]
    },
    {
     "name": "stdout",
     "output_type": "stream",
     "text": [
      "Saving results in D:\\Sidevideos\\AR35MOTOR\\2022_01_27...\n",
      "Saving csv poses!\n",
      "Starting to analyze %  D:\\Sidevideos\\AR35MOTOR\\2022_01_27\\321.avi\n",
      "Loading  D:\\Sidevideos\\AR35MOTOR\\2022_01_27\\321.avi\n",
      "Duration of video [s]:  12.5 , recorded with  40.0 fps!\n",
      "Overall # of frames:  500  found with (before cropping) frame dimensions:  800 480\n",
      "Starting to extract posture\n"
     ]
    },
    {
     "name": "stderr",
     "output_type": "stream",
     "text": [
      "510it [00:26, 19.22it/s]                                                                                               \n"
     ]
    },
    {
     "name": "stdout",
     "output_type": "stream",
     "text": [
      "Saving results in D:\\Sidevideos\\AR35MOTOR\\2022_01_27...\n",
      "Saving csv poses!\n",
      "Starting to analyze %  D:\\Sidevideos\\AR35MOTOR\\2022_01_27\\322.avi\n",
      "Loading  D:\\Sidevideos\\AR35MOTOR\\2022_01_27\\322.avi\n",
      "Duration of video [s]:  12.5 , recorded with  40.0 fps!\n",
      "Overall # of frames:  500  found with (before cropping) frame dimensions:  800 480\n",
      "Starting to extract posture\n"
     ]
    },
    {
     "name": "stderr",
     "output_type": "stream",
     "text": [
      "510it [00:26, 19.20it/s]                                                                                               \n"
     ]
    },
    {
     "name": "stdout",
     "output_type": "stream",
     "text": [
      "Saving results in D:\\Sidevideos\\AR35MOTOR\\2022_01_27...\n",
      "Saving csv poses!\n",
      "Starting to analyze %  D:\\Sidevideos\\AR35MOTOR\\2022_01_27\\323.avi\n",
      "Loading  D:\\Sidevideos\\AR35MOTOR\\2022_01_27\\323.avi\n",
      "Duration of video [s]:  12.5 , recorded with  40.0 fps!\n",
      "Overall # of frames:  500  found with (before cropping) frame dimensions:  800 480\n",
      "Starting to extract posture\n"
     ]
    },
    {
     "name": "stderr",
     "output_type": "stream",
     "text": [
      "510it [00:26, 19.23it/s]                                                                                               \n"
     ]
    },
    {
     "name": "stdout",
     "output_type": "stream",
     "text": [
      "Saving results in D:\\Sidevideos\\AR35MOTOR\\2022_01_27...\n",
      "Saving csv poses!\n",
      "Starting to analyze %  D:\\Sidevideos\\AR35MOTOR\\2022_01_27\\324.avi\n",
      "Loading  D:\\Sidevideos\\AR35MOTOR\\2022_01_27\\324.avi\n",
      "Duration of video [s]:  12.5 , recorded with  40.0 fps!\n",
      "Overall # of frames:  500  found with (before cropping) frame dimensions:  800 480\n",
      "Starting to extract posture\n"
     ]
    },
    {
     "name": "stderr",
     "output_type": "stream",
     "text": [
      "510it [00:26, 19.16it/s]                                                                                               \n"
     ]
    },
    {
     "name": "stdout",
     "output_type": "stream",
     "text": [
      "Saving results in D:\\Sidevideos\\AR35MOTOR\\2022_01_27...\n",
      "Saving csv poses!\n",
      "Starting to analyze %  D:\\Sidevideos\\AR35MOTOR\\2022_01_27\\325.avi\n",
      "Loading  D:\\Sidevideos\\AR35MOTOR\\2022_01_27\\325.avi\n",
      "Duration of video [s]:  12.5 , recorded with  40.0 fps!\n",
      "Overall # of frames:  500  found with (before cropping) frame dimensions:  800 480\n",
      "Starting to extract posture\n"
     ]
    },
    {
     "name": "stderr",
     "output_type": "stream",
     "text": [
      "510it [00:26, 19.17it/s]                                                                                               \n"
     ]
    },
    {
     "name": "stdout",
     "output_type": "stream",
     "text": [
      "Saving results in D:\\Sidevideos\\AR35MOTOR\\2022_01_27...\n",
      "Saving csv poses!\n",
      "Starting to analyze %  D:\\Sidevideos\\AR35MOTOR\\2022_01_27\\326.avi\n",
      "Loading  D:\\Sidevideos\\AR35MOTOR\\2022_01_27\\326.avi\n",
      "Duration of video [s]:  12.5 , recorded with  40.0 fps!\n",
      "Overall # of frames:  500  found with (before cropping) frame dimensions:  800 480\n",
      "Starting to extract posture\n"
     ]
    },
    {
     "name": "stderr",
     "output_type": "stream",
     "text": [
      "510it [00:26, 19.22it/s]                                                                                               \n"
     ]
    },
    {
     "name": "stdout",
     "output_type": "stream",
     "text": [
      "Saving results in D:\\Sidevideos\\AR35MOTOR\\2022_01_27...\n",
      "Saving csv poses!\n",
      "Starting to analyze %  D:\\Sidevideos\\AR35MOTOR\\2022_01_27\\327.avi\n",
      "Loading  D:\\Sidevideos\\AR35MOTOR\\2022_01_27\\327.avi\n",
      "Duration of video [s]:  12.5 , recorded with  40.0 fps!\n",
      "Overall # of frames:  500  found with (before cropping) frame dimensions:  800 480\n",
      "Starting to extract posture\n"
     ]
    },
    {
     "name": "stderr",
     "output_type": "stream",
     "text": [
      "510it [00:26, 19.21it/s]                                                                                               \n"
     ]
    },
    {
     "name": "stdout",
     "output_type": "stream",
     "text": [
      "Saving results in D:\\Sidevideos\\AR35MOTOR\\2022_01_27...\n",
      "Saving csv poses!\n",
      "Starting to analyze %  D:\\Sidevideos\\AR35MOTOR\\2022_01_27\\328.avi\n",
      "Loading  D:\\Sidevideos\\AR35MOTOR\\2022_01_27\\328.avi\n",
      "Duration of video [s]:  12.5 , recorded with  40.0 fps!\n",
      "Overall # of frames:  500  found with (before cropping) frame dimensions:  800 480\n",
      "Starting to extract posture\n"
     ]
    },
    {
     "name": "stderr",
     "output_type": "stream",
     "text": [
      "510it [00:26, 19.23it/s]                                                                                               \n"
     ]
    },
    {
     "name": "stdout",
     "output_type": "stream",
     "text": [
      "Saving results in D:\\Sidevideos\\AR35MOTOR\\2022_01_27...\n",
      "Saving csv poses!\n",
      "Starting to analyze %  D:\\Sidevideos\\AR35MOTOR\\2022_01_27\\329.avi\n",
      "Loading  D:\\Sidevideos\\AR35MOTOR\\2022_01_27\\329.avi\n",
      "Duration of video [s]:  12.5 , recorded with  40.0 fps!\n",
      "Overall # of frames:  500  found with (before cropping) frame dimensions:  800 480\n",
      "Starting to extract posture\n"
     ]
    },
    {
     "name": "stderr",
     "output_type": "stream",
     "text": [
      "510it [00:26, 19.12it/s]                                                                                               \n"
     ]
    },
    {
     "name": "stdout",
     "output_type": "stream",
     "text": [
      "Saving results in D:\\Sidevideos\\AR35MOTOR\\2022_01_27...\n",
      "Saving csv poses!\n",
      "Starting to analyze %  D:\\Sidevideos\\AR35MOTOR\\2022_01_27\\33.avi\n",
      "Loading  D:\\Sidevideos\\AR35MOTOR\\2022_01_27\\33.avi\n",
      "Duration of video [s]:  12.5 , recorded with  40.0 fps!\n",
      "Overall # of frames:  500  found with (before cropping) frame dimensions:  800 480\n",
      "Starting to extract posture\n"
     ]
    },
    {
     "name": "stderr",
     "output_type": "stream",
     "text": [
      "510it [00:26, 19.21it/s]                                                                                               \n"
     ]
    },
    {
     "name": "stdout",
     "output_type": "stream",
     "text": [
      "Saving results in D:\\Sidevideos\\AR35MOTOR\\2022_01_27...\n",
      "Saving csv poses!\n",
      "Starting to analyze %  D:\\Sidevideos\\AR35MOTOR\\2022_01_27\\330.avi\n",
      "Loading  D:\\Sidevideos\\AR35MOTOR\\2022_01_27\\330.avi\n",
      "Duration of video [s]:  12.5 , recorded with  40.0 fps!\n",
      "Overall # of frames:  500  found with (before cropping) frame dimensions:  800 480\n",
      "Starting to extract posture\n"
     ]
    },
    {
     "name": "stderr",
     "output_type": "stream",
     "text": [
      "510it [00:26, 19.20it/s]                                                                                               \n"
     ]
    },
    {
     "name": "stdout",
     "output_type": "stream",
     "text": [
      "Saving results in D:\\Sidevideos\\AR35MOTOR\\2022_01_27...\n",
      "Saving csv poses!\n",
      "Starting to analyze %  D:\\Sidevideos\\AR35MOTOR\\2022_01_27\\331.avi\n",
      "Loading  D:\\Sidevideos\\AR35MOTOR\\2022_01_27\\331.avi\n",
      "Duration of video [s]:  12.5 , recorded with  40.0 fps!\n",
      "Overall # of frames:  500  found with (before cropping) frame dimensions:  800 480\n",
      "Starting to extract posture\n"
     ]
    },
    {
     "name": "stderr",
     "output_type": "stream",
     "text": [
      "510it [00:26, 19.14it/s]                                                                                               \n"
     ]
    },
    {
     "name": "stdout",
     "output_type": "stream",
     "text": [
      "Saving results in D:\\Sidevideos\\AR35MOTOR\\2022_01_27...\n",
      "Saving csv poses!\n",
      "Starting to analyze %  D:\\Sidevideos\\AR35MOTOR\\2022_01_27\\332.avi\n",
      "Loading  D:\\Sidevideos\\AR35MOTOR\\2022_01_27\\332.avi\n",
      "Duration of video [s]:  12.5 , recorded with  40.0 fps!\n",
      "Overall # of frames:  500  found with (before cropping) frame dimensions:  800 480\n",
      "Starting to extract posture\n"
     ]
    },
    {
     "name": "stderr",
     "output_type": "stream",
     "text": [
      "510it [00:26, 19.25it/s]                                                                                               \n"
     ]
    },
    {
     "name": "stdout",
     "output_type": "stream",
     "text": [
      "Saving results in D:\\Sidevideos\\AR35MOTOR\\2022_01_27...\n",
      "Saving csv poses!\n",
      "Starting to analyze %  D:\\Sidevideos\\AR35MOTOR\\2022_01_27\\333.avi\n",
      "Loading  D:\\Sidevideos\\AR35MOTOR\\2022_01_27\\333.avi\n",
      "Duration of video [s]:  12.5 , recorded with  40.0 fps!\n",
      "Overall # of frames:  500  found with (before cropping) frame dimensions:  800 480\n",
      "Starting to extract posture\n"
     ]
    },
    {
     "name": "stderr",
     "output_type": "stream",
     "text": [
      "510it [00:26, 19.12it/s]                                                                                               \n"
     ]
    },
    {
     "name": "stdout",
     "output_type": "stream",
     "text": [
      "Saving results in D:\\Sidevideos\\AR35MOTOR\\2022_01_27...\n",
      "Saving csv poses!\n",
      "Starting to analyze %  D:\\Sidevideos\\AR35MOTOR\\2022_01_27\\334.avi\n",
      "Loading  D:\\Sidevideos\\AR35MOTOR\\2022_01_27\\334.avi\n",
      "Duration of video [s]:  12.5 , recorded with  40.0 fps!\n",
      "Overall # of frames:  500  found with (before cropping) frame dimensions:  800 480\n",
      "Starting to extract posture\n"
     ]
    },
    {
     "name": "stderr",
     "output_type": "stream",
     "text": [
      "510it [00:26, 19.21it/s]                                                                                               \n"
     ]
    },
    {
     "name": "stdout",
     "output_type": "stream",
     "text": [
      "Saving results in D:\\Sidevideos\\AR35MOTOR\\2022_01_27...\n",
      "Saving csv poses!\n",
      "Starting to analyze %  D:\\Sidevideos\\AR35MOTOR\\2022_01_27\\335.avi\n",
      "Loading  D:\\Sidevideos\\AR35MOTOR\\2022_01_27\\335.avi\n",
      "Duration of video [s]:  12.5 , recorded with  40.0 fps!\n",
      "Overall # of frames:  500  found with (before cropping) frame dimensions:  800 480\n",
      "Starting to extract posture\n"
     ]
    },
    {
     "name": "stderr",
     "output_type": "stream",
     "text": [
      "510it [00:26, 19.20it/s]                                                                                               \n"
     ]
    },
    {
     "name": "stdout",
     "output_type": "stream",
     "text": [
      "Saving results in D:\\Sidevideos\\AR35MOTOR\\2022_01_27...\n",
      "Saving csv poses!\n",
      "Starting to analyze %  D:\\Sidevideos\\AR35MOTOR\\2022_01_27\\336.avi\n",
      "Loading  D:\\Sidevideos\\AR35MOTOR\\2022_01_27\\336.avi\n",
      "Duration of video [s]:  12.5 , recorded with  40.0 fps!\n",
      "Overall # of frames:  500  found with (before cropping) frame dimensions:  800 480\n",
      "Starting to extract posture\n"
     ]
    },
    {
     "name": "stderr",
     "output_type": "stream",
     "text": [
      "510it [00:26, 19.14it/s]                                                                                               \n"
     ]
    },
    {
     "name": "stdout",
     "output_type": "stream",
     "text": [
      "Saving results in D:\\Sidevideos\\AR35MOTOR\\2022_01_27...\n",
      "Saving csv poses!\n",
      "Starting to analyze %  D:\\Sidevideos\\AR35MOTOR\\2022_01_27\\337.avi\n",
      "Loading  D:\\Sidevideos\\AR35MOTOR\\2022_01_27\\337.avi\n",
      "Duration of video [s]:  12.5 , recorded with  40.0 fps!\n",
      "Overall # of frames:  500  found with (before cropping) frame dimensions:  800 480\n",
      "Starting to extract posture\n"
     ]
    },
    {
     "name": "stderr",
     "output_type": "stream",
     "text": [
      "510it [00:26, 19.22it/s]                                                                                               \n"
     ]
    },
    {
     "name": "stdout",
     "output_type": "stream",
     "text": [
      "Saving results in D:\\Sidevideos\\AR35MOTOR\\2022_01_27...\n",
      "Saving csv poses!\n",
      "Starting to analyze %  D:\\Sidevideos\\AR35MOTOR\\2022_01_27\\338.avi\n",
      "Loading  D:\\Sidevideos\\AR35MOTOR\\2022_01_27\\338.avi\n",
      "Duration of video [s]:  12.5 , recorded with  40.0 fps!\n",
      "Overall # of frames:  500  found with (before cropping) frame dimensions:  800 480\n",
      "Starting to extract posture\n"
     ]
    },
    {
     "name": "stderr",
     "output_type": "stream",
     "text": [
      "510it [00:26, 19.18it/s]                                                                                               \n"
     ]
    },
    {
     "name": "stdout",
     "output_type": "stream",
     "text": [
      "Saving results in D:\\Sidevideos\\AR35MOTOR\\2022_01_27...\n",
      "Saving csv poses!\n",
      "Starting to analyze %  D:\\Sidevideos\\AR35MOTOR\\2022_01_27\\339.avi\n",
      "Loading  D:\\Sidevideos\\AR35MOTOR\\2022_01_27\\339.avi\n",
      "Duration of video [s]:  12.5 , recorded with  40.0 fps!\n",
      "Overall # of frames:  500  found with (before cropping) frame dimensions:  800 480\n",
      "Starting to extract posture\n"
     ]
    },
    {
     "name": "stderr",
     "output_type": "stream",
     "text": [
      "510it [00:26, 19.19it/s]                                                                                               \n"
     ]
    },
    {
     "name": "stdout",
     "output_type": "stream",
     "text": [
      "Saving results in D:\\Sidevideos\\AR35MOTOR\\2022_01_27...\n",
      "Saving csv poses!\n",
      "Starting to analyze %  D:\\Sidevideos\\AR35MOTOR\\2022_01_27\\34.avi\n",
      "Loading  D:\\Sidevideos\\AR35MOTOR\\2022_01_27\\34.avi\n",
      "Duration of video [s]:  12.5 , recorded with  40.0 fps!\n",
      "Overall # of frames:  500  found with (before cropping) frame dimensions:  800 480\n",
      "Starting to extract posture\n"
     ]
    },
    {
     "name": "stderr",
     "output_type": "stream",
     "text": [
      "510it [00:26, 19.12it/s]                                                                                               \n"
     ]
    },
    {
     "name": "stdout",
     "output_type": "stream",
     "text": [
      "Saving results in D:\\Sidevideos\\AR35MOTOR\\2022_01_27...\n",
      "Saving csv poses!\n",
      "Starting to analyze %  D:\\Sidevideos\\AR35MOTOR\\2022_01_27\\340.avi\n",
      "Loading  D:\\Sidevideos\\AR35MOTOR\\2022_01_27\\340.avi\n",
      "Duration of video [s]:  12.5 , recorded with  40.0 fps!\n",
      "Overall # of frames:  500  found with (before cropping) frame dimensions:  800 480\n",
      "Starting to extract posture\n"
     ]
    },
    {
     "name": "stderr",
     "output_type": "stream",
     "text": [
      "510it [00:26, 19.19it/s]                                                                                               \n"
     ]
    },
    {
     "name": "stdout",
     "output_type": "stream",
     "text": [
      "Saving results in D:\\Sidevideos\\AR35MOTOR\\2022_01_27...\n",
      "Saving csv poses!\n",
      "Starting to analyze %  D:\\Sidevideos\\AR35MOTOR\\2022_01_27\\341.avi\n",
      "Loading  D:\\Sidevideos\\AR35MOTOR\\2022_01_27\\341.avi\n",
      "Duration of video [s]:  12.5 , recorded with  40.0 fps!\n",
      "Overall # of frames:  500  found with (before cropping) frame dimensions:  800 480\n",
      "Starting to extract posture\n"
     ]
    },
    {
     "name": "stderr",
     "output_type": "stream",
     "text": [
      "510it [00:26, 19.17it/s]                                                                                               \n"
     ]
    },
    {
     "name": "stdout",
     "output_type": "stream",
     "text": [
      "Saving results in D:\\Sidevideos\\AR35MOTOR\\2022_01_27...\n",
      "Saving csv poses!\n",
      "Starting to analyze %  D:\\Sidevideos\\AR35MOTOR\\2022_01_27\\342.avi\n",
      "Loading  D:\\Sidevideos\\AR35MOTOR\\2022_01_27\\342.avi\n",
      "Duration of video [s]:  12.5 , recorded with  40.0 fps!\n",
      "Overall # of frames:  500  found with (before cropping) frame dimensions:  800 480\n",
      "Starting to extract posture\n"
     ]
    },
    {
     "name": "stderr",
     "output_type": "stream",
     "text": [
      "510it [00:26, 19.14it/s]                                                                                               \n"
     ]
    },
    {
     "name": "stdout",
     "output_type": "stream",
     "text": [
      "Saving results in D:\\Sidevideos\\AR35MOTOR\\2022_01_27...\n",
      "Saving csv poses!\n",
      "Starting to analyze %  D:\\Sidevideos\\AR35MOTOR\\2022_01_27\\343.avi\n",
      "Loading  D:\\Sidevideos\\AR35MOTOR\\2022_01_27\\343.avi\n",
      "Duration of video [s]:  12.5 , recorded with  40.0 fps!\n",
      "Overall # of frames:  500  found with (before cropping) frame dimensions:  800 480\n",
      "Starting to extract posture\n"
     ]
    },
    {
     "name": "stderr",
     "output_type": "stream",
     "text": [
      "510it [00:26, 19.13it/s]                                                                                               \n"
     ]
    },
    {
     "name": "stdout",
     "output_type": "stream",
     "text": [
      "Saving results in D:\\Sidevideos\\AR35MOTOR\\2022_01_27...\n",
      "Saving csv poses!\n",
      "Starting to analyze %  D:\\Sidevideos\\AR35MOTOR\\2022_01_27\\344.avi\n",
      "Loading  D:\\Sidevideos\\AR35MOTOR\\2022_01_27\\344.avi\n",
      "Duration of video [s]:  12.5 , recorded with  40.0 fps!\n",
      "Overall # of frames:  500  found with (before cropping) frame dimensions:  800 480\n",
      "Starting to extract posture\n"
     ]
    },
    {
     "name": "stderr",
     "output_type": "stream",
     "text": [
      "510it [00:26, 19.20it/s]                                                                                               \n"
     ]
    },
    {
     "name": "stdout",
     "output_type": "stream",
     "text": [
      "Saving results in D:\\Sidevideos\\AR35MOTOR\\2022_01_27...\n",
      "Saving csv poses!\n",
      "Starting to analyze %  D:\\Sidevideos\\AR35MOTOR\\2022_01_27\\345.avi\n",
      "Loading  D:\\Sidevideos\\AR35MOTOR\\2022_01_27\\345.avi\n",
      "Duration of video [s]:  12.5 , recorded with  40.0 fps!\n",
      "Overall # of frames:  500  found with (before cropping) frame dimensions:  800 480\n",
      "Starting to extract posture\n"
     ]
    },
    {
     "name": "stderr",
     "output_type": "stream",
     "text": [
      "510it [00:26, 19.24it/s]                                                                                               \n"
     ]
    },
    {
     "name": "stdout",
     "output_type": "stream",
     "text": [
      "Saving results in D:\\Sidevideos\\AR35MOTOR\\2022_01_27...\n",
      "Saving csv poses!\n",
      "Starting to analyze %  D:\\Sidevideos\\AR35MOTOR\\2022_01_27\\346.avi\n",
      "Loading  D:\\Sidevideos\\AR35MOTOR\\2022_01_27\\346.avi\n",
      "Duration of video [s]:  12.5 , recorded with  40.0 fps!\n",
      "Overall # of frames:  500  found with (before cropping) frame dimensions:  800 480\n",
      "Starting to extract posture\n"
     ]
    },
    {
     "name": "stderr",
     "output_type": "stream",
     "text": [
      "510it [00:26, 19.18it/s]                                                                                               \n"
     ]
    },
    {
     "name": "stdout",
     "output_type": "stream",
     "text": [
      "Saving results in D:\\Sidevideos\\AR35MOTOR\\2022_01_27...\n",
      "Saving csv poses!\n",
      "Starting to analyze %  D:\\Sidevideos\\AR35MOTOR\\2022_01_27\\347.avi\n",
      "Loading  D:\\Sidevideos\\AR35MOTOR\\2022_01_27\\347.avi\n",
      "Duration of video [s]:  12.5 , recorded with  40.0 fps!\n",
      "Overall # of frames:  500  found with (before cropping) frame dimensions:  800 480\n",
      "Starting to extract posture\n"
     ]
    },
    {
     "name": "stderr",
     "output_type": "stream",
     "text": [
      "510it [00:26, 19.14it/s]                                                                                               \n"
     ]
    },
    {
     "name": "stdout",
     "output_type": "stream",
     "text": [
      "Saving results in D:\\Sidevideos\\AR35MOTOR\\2022_01_27...\n",
      "Saving csv poses!\n",
      "Starting to analyze %  D:\\Sidevideos\\AR35MOTOR\\2022_01_27\\348.avi\n",
      "Loading  D:\\Sidevideos\\AR35MOTOR\\2022_01_27\\348.avi\n",
      "Duration of video [s]:  12.5 , recorded with  40.0 fps!\n",
      "Overall # of frames:  500  found with (before cropping) frame dimensions:  800 480\n",
      "Starting to extract posture\n"
     ]
    },
    {
     "name": "stderr",
     "output_type": "stream",
     "text": [
      "510it [00:26, 19.15it/s]                                                                                               \n"
     ]
    },
    {
     "name": "stdout",
     "output_type": "stream",
     "text": [
      "Saving results in D:\\Sidevideos\\AR35MOTOR\\2022_01_27...\n",
      "Saving csv poses!\n",
      "Starting to analyze %  D:\\Sidevideos\\AR35MOTOR\\2022_01_27\\349.avi\n",
      "Loading  D:\\Sidevideos\\AR35MOTOR\\2022_01_27\\349.avi\n",
      "Duration of video [s]:  12.5 , recorded with  40.0 fps!\n",
      "Overall # of frames:  500  found with (before cropping) frame dimensions:  800 480\n",
      "Starting to extract posture\n"
     ]
    },
    {
     "name": "stderr",
     "output_type": "stream",
     "text": [
      "510it [00:26, 19.18it/s]                                                                                               \n"
     ]
    },
    {
     "name": "stdout",
     "output_type": "stream",
     "text": [
      "Saving results in D:\\Sidevideos\\AR35MOTOR\\2022_01_27...\n",
      "Saving csv poses!\n",
      "Starting to analyze %  D:\\Sidevideos\\AR35MOTOR\\2022_01_27\\35.avi\n",
      "Loading  D:\\Sidevideos\\AR35MOTOR\\2022_01_27\\35.avi\n",
      "Duration of video [s]:  12.5 , recorded with  40.0 fps!\n",
      "Overall # of frames:  500  found with (before cropping) frame dimensions:  800 480\n",
      "Starting to extract posture\n"
     ]
    },
    {
     "name": "stderr",
     "output_type": "stream",
     "text": [
      "510it [00:26, 19.17it/s]                                                                                               \n"
     ]
    },
    {
     "name": "stdout",
     "output_type": "stream",
     "text": [
      "Saving results in D:\\Sidevideos\\AR35MOTOR\\2022_01_27...\n",
      "Saving csv poses!\n",
      "Starting to analyze %  D:\\Sidevideos\\AR35MOTOR\\2022_01_27\\350.avi\n",
      "Loading  D:\\Sidevideos\\AR35MOTOR\\2022_01_27\\350.avi\n",
      "Duration of video [s]:  12.5 , recorded with  40.0 fps!\n",
      "Overall # of frames:  500  found with (before cropping) frame dimensions:  800 480\n",
      "Starting to extract posture\n"
     ]
    },
    {
     "name": "stderr",
     "output_type": "stream",
     "text": [
      "510it [00:26, 19.12it/s]                                                                                               \n"
     ]
    },
    {
     "name": "stdout",
     "output_type": "stream",
     "text": [
      "Saving results in D:\\Sidevideos\\AR35MOTOR\\2022_01_27...\n",
      "Saving csv poses!\n",
      "Starting to analyze %  D:\\Sidevideos\\AR35MOTOR\\2022_01_27\\351.avi\n",
      "Loading  D:\\Sidevideos\\AR35MOTOR\\2022_01_27\\351.avi\n",
      "Duration of video [s]:  12.5 , recorded with  40.0 fps!\n",
      "Overall # of frames:  500  found with (before cropping) frame dimensions:  800 480\n",
      "Starting to extract posture\n"
     ]
    },
    {
     "name": "stderr",
     "output_type": "stream",
     "text": [
      "510it [00:26, 19.18it/s]                                                                                               \n"
     ]
    },
    {
     "name": "stdout",
     "output_type": "stream",
     "text": [
      "Saving results in D:\\Sidevideos\\AR35MOTOR\\2022_01_27...\n",
      "Saving csv poses!\n",
      "Starting to analyze %  D:\\Sidevideos\\AR35MOTOR\\2022_01_27\\352.avi\n",
      "Loading  D:\\Sidevideos\\AR35MOTOR\\2022_01_27\\352.avi\n",
      "Duration of video [s]:  12.5 , recorded with  40.0 fps!\n",
      "Overall # of frames:  500  found with (before cropping) frame dimensions:  800 480\n",
      "Starting to extract posture\n"
     ]
    },
    {
     "name": "stderr",
     "output_type": "stream",
     "text": [
      "510it [00:26, 19.11it/s]                                                                                               \n"
     ]
    },
    {
     "name": "stdout",
     "output_type": "stream",
     "text": [
      "Saving results in D:\\Sidevideos\\AR35MOTOR\\2022_01_27...\n",
      "Saving csv poses!\n",
      "Starting to analyze %  D:\\Sidevideos\\AR35MOTOR\\2022_01_27\\353.avi\n",
      "Loading  D:\\Sidevideos\\AR35MOTOR\\2022_01_27\\353.avi\n",
      "Duration of video [s]:  12.5 , recorded with  40.0 fps!\n",
      "Overall # of frames:  500  found with (before cropping) frame dimensions:  800 480\n",
      "Starting to extract posture\n"
     ]
    },
    {
     "name": "stderr",
     "output_type": "stream",
     "text": [
      "510it [00:26, 19.20it/s]                                                                                               \n"
     ]
    },
    {
     "name": "stdout",
     "output_type": "stream",
     "text": [
      "Saving results in D:\\Sidevideos\\AR35MOTOR\\2022_01_27...\n",
      "Saving csv poses!\n",
      "Starting to analyze %  D:\\Sidevideos\\AR35MOTOR\\2022_01_27\\354.avi\n",
      "Loading  D:\\Sidevideos\\AR35MOTOR\\2022_01_27\\354.avi\n",
      "Duration of video [s]:  12.5 , recorded with  40.0 fps!\n",
      "Overall # of frames:  500  found with (before cropping) frame dimensions:  800 480\n",
      "Starting to extract posture\n"
     ]
    },
    {
     "name": "stderr",
     "output_type": "stream",
     "text": [
      "510it [00:26, 19.18it/s]                                                                                               \n"
     ]
    },
    {
     "name": "stdout",
     "output_type": "stream",
     "text": [
      "Saving results in D:\\Sidevideos\\AR35MOTOR\\2022_01_27...\n",
      "Saving csv poses!\n",
      "Starting to analyze %  D:\\Sidevideos\\AR35MOTOR\\2022_01_27\\355.avi\n",
      "Loading  D:\\Sidevideos\\AR35MOTOR\\2022_01_27\\355.avi\n",
      "Duration of video [s]:  12.5 , recorded with  40.0 fps!\n",
      "Overall # of frames:  500  found with (before cropping) frame dimensions:  800 480\n",
      "Starting to extract posture\n"
     ]
    },
    {
     "name": "stderr",
     "output_type": "stream",
     "text": [
      "510it [00:26, 19.18it/s]                                                                                               \n"
     ]
    },
    {
     "name": "stdout",
     "output_type": "stream",
     "text": [
      "Saving results in D:\\Sidevideos\\AR35MOTOR\\2022_01_27...\n",
      "Saving csv poses!\n",
      "Starting to analyze %  D:\\Sidevideos\\AR35MOTOR\\2022_01_27\\356.avi\n",
      "Loading  D:\\Sidevideos\\AR35MOTOR\\2022_01_27\\356.avi\n",
      "Duration of video [s]:  12.5 , recorded with  40.0 fps!\n",
      "Overall # of frames:  500  found with (before cropping) frame dimensions:  800 480\n",
      "Starting to extract posture\n"
     ]
    },
    {
     "name": "stderr",
     "output_type": "stream",
     "text": [
      "510it [00:26, 19.13it/s]                                                                                               \n"
     ]
    },
    {
     "name": "stdout",
     "output_type": "stream",
     "text": [
      "Saving results in D:\\Sidevideos\\AR35MOTOR\\2022_01_27...\n",
      "Saving csv poses!\n",
      "Starting to analyze %  D:\\Sidevideos\\AR35MOTOR\\2022_01_27\\357.avi\n",
      "Loading  D:\\Sidevideos\\AR35MOTOR\\2022_01_27\\357.avi\n",
      "Duration of video [s]:  12.5 , recorded with  40.0 fps!\n",
      "Overall # of frames:  500  found with (before cropping) frame dimensions:  800 480\n",
      "Starting to extract posture\n"
     ]
    },
    {
     "name": "stderr",
     "output_type": "stream",
     "text": [
      "510it [00:26, 19.17it/s]                                                                                               \n"
     ]
    },
    {
     "name": "stdout",
     "output_type": "stream",
     "text": [
      "Saving results in D:\\Sidevideos\\AR35MOTOR\\2022_01_27...\n",
      "Saving csv poses!\n",
      "Starting to analyze %  D:\\Sidevideos\\AR35MOTOR\\2022_01_27\\358.avi\n",
      "Loading  D:\\Sidevideos\\AR35MOTOR\\2022_01_27\\358.avi\n",
      "Duration of video [s]:  12.5 , recorded with  40.0 fps!\n",
      "Overall # of frames:  500  found with (before cropping) frame dimensions:  800 480\n",
      "Starting to extract posture\n"
     ]
    },
    {
     "name": "stderr",
     "output_type": "stream",
     "text": [
      "510it [00:26, 19.26it/s]                                                                                               \n"
     ]
    },
    {
     "name": "stdout",
     "output_type": "stream",
     "text": [
      "Saving results in D:\\Sidevideos\\AR35MOTOR\\2022_01_27...\n",
      "Saving csv poses!\n",
      "Starting to analyze %  D:\\Sidevideos\\AR35MOTOR\\2022_01_27\\359.avi\n",
      "Loading  D:\\Sidevideos\\AR35MOTOR\\2022_01_27\\359.avi\n",
      "Duration of video [s]:  12.5 , recorded with  40.0 fps!\n",
      "Overall # of frames:  500  found with (before cropping) frame dimensions:  800 480\n",
      "Starting to extract posture\n"
     ]
    },
    {
     "name": "stderr",
     "output_type": "stream",
     "text": [
      "510it [00:26, 19.17it/s]                                                                                               \n"
     ]
    },
    {
     "name": "stdout",
     "output_type": "stream",
     "text": [
      "Saving results in D:\\Sidevideos\\AR35MOTOR\\2022_01_27...\n",
      "Saving csv poses!\n",
      "Starting to analyze %  D:\\Sidevideos\\AR35MOTOR\\2022_01_27\\36.avi\n",
      "Loading  D:\\Sidevideos\\AR35MOTOR\\2022_01_27\\36.avi\n",
      "Duration of video [s]:  12.5 , recorded with  40.0 fps!\n",
      "Overall # of frames:  500  found with (before cropping) frame dimensions:  800 480\n",
      "Starting to extract posture\n"
     ]
    },
    {
     "name": "stderr",
     "output_type": "stream",
     "text": [
      "510it [00:26, 19.17it/s]                                                                                               \n"
     ]
    },
    {
     "name": "stdout",
     "output_type": "stream",
     "text": [
      "Saving results in D:\\Sidevideos\\AR35MOTOR\\2022_01_27...\n",
      "Saving csv poses!\n",
      "Starting to analyze %  D:\\Sidevideos\\AR35MOTOR\\2022_01_27\\360.avi\n",
      "Loading  D:\\Sidevideos\\AR35MOTOR\\2022_01_27\\360.avi\n",
      "Duration of video [s]:  12.5 , recorded with  40.0 fps!\n",
      "Overall # of frames:  500  found with (before cropping) frame dimensions:  800 480\n",
      "Starting to extract posture\n"
     ]
    },
    {
     "name": "stderr",
     "output_type": "stream",
     "text": [
      "510it [00:26, 19.11it/s]                                                                                               \n"
     ]
    },
    {
     "name": "stdout",
     "output_type": "stream",
     "text": [
      "Saving results in D:\\Sidevideos\\AR35MOTOR\\2022_01_27...\n",
      "Saving csv poses!\n",
      "Starting to analyze %  D:\\Sidevideos\\AR35MOTOR\\2022_01_27\\361.avi\n",
      "Loading  D:\\Sidevideos\\AR35MOTOR\\2022_01_27\\361.avi\n",
      "Duration of video [s]:  12.5 , recorded with  40.0 fps!\n",
      "Overall # of frames:  500  found with (before cropping) frame dimensions:  800 480\n",
      "Starting to extract posture\n"
     ]
    },
    {
     "name": "stderr",
     "output_type": "stream",
     "text": [
      "510it [00:26, 19.23it/s]                                                                                               \n"
     ]
    },
    {
     "name": "stdout",
     "output_type": "stream",
     "text": [
      "Saving results in D:\\Sidevideos\\AR35MOTOR\\2022_01_27...\n",
      "Saving csv poses!\n",
      "Starting to analyze %  D:\\Sidevideos\\AR35MOTOR\\2022_01_27\\362.avi\n",
      "Loading  D:\\Sidevideos\\AR35MOTOR\\2022_01_27\\362.avi\n",
      "Duration of video [s]:  12.5 , recorded with  40.0 fps!\n",
      "Overall # of frames:  500  found with (before cropping) frame dimensions:  800 480\n",
      "Starting to extract posture\n"
     ]
    },
    {
     "name": "stderr",
     "output_type": "stream",
     "text": [
      "510it [00:26, 19.20it/s]                                                                                               \n"
     ]
    },
    {
     "name": "stdout",
     "output_type": "stream",
     "text": [
      "Saving results in D:\\Sidevideos\\AR35MOTOR\\2022_01_27...\n",
      "Saving csv poses!\n",
      "Starting to analyze %  D:\\Sidevideos\\AR35MOTOR\\2022_01_27\\363.avi\n",
      "Loading  D:\\Sidevideos\\AR35MOTOR\\2022_01_27\\363.avi\n",
      "Duration of video [s]:  12.5 , recorded with  40.0 fps!\n",
      "Overall # of frames:  500  found with (before cropping) frame dimensions:  800 480\n",
      "Starting to extract posture\n"
     ]
    },
    {
     "name": "stderr",
     "output_type": "stream",
     "text": [
      "510it [00:26, 19.24it/s]                                                                                               \n"
     ]
    },
    {
     "name": "stdout",
     "output_type": "stream",
     "text": [
      "Saving results in D:\\Sidevideos\\AR35MOTOR\\2022_01_27...\n",
      "Saving csv poses!\n",
      "Starting to analyze %  D:\\Sidevideos\\AR35MOTOR\\2022_01_27\\364.avi\n",
      "Loading  D:\\Sidevideos\\AR35MOTOR\\2022_01_27\\364.avi\n",
      "Duration of video [s]:  12.5 , recorded with  40.0 fps!\n",
      "Overall # of frames:  500  found with (before cropping) frame dimensions:  800 480\n",
      "Starting to extract posture\n"
     ]
    },
    {
     "name": "stderr",
     "output_type": "stream",
     "text": [
      "510it [00:26, 19.07it/s]                                                                                               \n"
     ]
    },
    {
     "name": "stdout",
     "output_type": "stream",
     "text": [
      "Saving results in D:\\Sidevideos\\AR35MOTOR\\2022_01_27...\n",
      "Saving csv poses!\n",
      "Starting to analyze %  D:\\Sidevideos\\AR35MOTOR\\2022_01_27\\365.avi\n",
      "Loading  D:\\Sidevideos\\AR35MOTOR\\2022_01_27\\365.avi\n",
      "Duration of video [s]:  12.5 , recorded with  40.0 fps!\n",
      "Overall # of frames:  500  found with (before cropping) frame dimensions:  800 480\n",
      "Starting to extract posture\n"
     ]
    },
    {
     "name": "stderr",
     "output_type": "stream",
     "text": [
      "510it [00:26, 19.17it/s]                                                                                               \n"
     ]
    },
    {
     "name": "stdout",
     "output_type": "stream",
     "text": [
      "Saving results in D:\\Sidevideos\\AR35MOTOR\\2022_01_27...\n",
      "Saving csv poses!\n",
      "Starting to analyze %  D:\\Sidevideos\\AR35MOTOR\\2022_01_27\\366.avi\n",
      "Loading  D:\\Sidevideos\\AR35MOTOR\\2022_01_27\\366.avi\n",
      "Duration of video [s]:  12.5 , recorded with  40.0 fps!\n",
      "Overall # of frames:  500  found with (before cropping) frame dimensions:  800 480\n",
      "Starting to extract posture\n"
     ]
    },
    {
     "name": "stderr",
     "output_type": "stream",
     "text": [
      "510it [00:26, 19.19it/s]                                                                                               \n"
     ]
    },
    {
     "name": "stdout",
     "output_type": "stream",
     "text": [
      "Saving results in D:\\Sidevideos\\AR35MOTOR\\2022_01_27...\n",
      "Saving csv poses!\n",
      "Starting to analyze %  D:\\Sidevideos\\AR35MOTOR\\2022_01_27\\367.avi\n",
      "Loading  D:\\Sidevideos\\AR35MOTOR\\2022_01_27\\367.avi\n",
      "Duration of video [s]:  12.5 , recorded with  40.0 fps!\n",
      "Overall # of frames:  500  found with (before cropping) frame dimensions:  800 480\n",
      "Starting to extract posture\n"
     ]
    },
    {
     "name": "stderr",
     "output_type": "stream",
     "text": [
      "510it [00:26, 19.19it/s]                                                                                               \n"
     ]
    },
    {
     "name": "stdout",
     "output_type": "stream",
     "text": [
      "Saving results in D:\\Sidevideos\\AR35MOTOR\\2022_01_27...\n",
      "Saving csv poses!\n",
      "Starting to analyze %  D:\\Sidevideos\\AR35MOTOR\\2022_01_27\\368.avi\n",
      "Loading  D:\\Sidevideos\\AR35MOTOR\\2022_01_27\\368.avi\n",
      "Duration of video [s]:  12.5 , recorded with  40.0 fps!\n",
      "Overall # of frames:  500  found with (before cropping) frame dimensions:  800 480\n",
      "Starting to extract posture\n"
     ]
    },
    {
     "name": "stderr",
     "output_type": "stream",
     "text": [
      "510it [00:26, 19.17it/s]                                                                                               \n"
     ]
    },
    {
     "name": "stdout",
     "output_type": "stream",
     "text": [
      "Saving results in D:\\Sidevideos\\AR35MOTOR\\2022_01_27...\n",
      "Saving csv poses!\n",
      "Starting to analyze %  D:\\Sidevideos\\AR35MOTOR\\2022_01_27\\369.avi\n",
      "Loading  D:\\Sidevideos\\AR35MOTOR\\2022_01_27\\369.avi\n",
      "Duration of video [s]:  12.5 , recorded with  40.0 fps!\n",
      "Overall # of frames:  500  found with (before cropping) frame dimensions:  800 480\n",
      "Starting to extract posture\n"
     ]
    },
    {
     "name": "stderr",
     "output_type": "stream",
     "text": [
      "510it [00:26, 19.18it/s]                                                                                               \n"
     ]
    },
    {
     "name": "stdout",
     "output_type": "stream",
     "text": [
      "Saving results in D:\\Sidevideos\\AR35MOTOR\\2022_01_27...\n",
      "Saving csv poses!\n",
      "Starting to analyze %  D:\\Sidevideos\\AR35MOTOR\\2022_01_27\\37.avi\n",
      "Loading  D:\\Sidevideos\\AR35MOTOR\\2022_01_27\\37.avi\n",
      "Duration of video [s]:  12.5 , recorded with  40.0 fps!\n",
      "Overall # of frames:  500  found with (before cropping) frame dimensions:  800 480\n",
      "Starting to extract posture\n"
     ]
    },
    {
     "name": "stderr",
     "output_type": "stream",
     "text": [
      "510it [00:26, 19.20it/s]                                                                                               \n"
     ]
    },
    {
     "name": "stdout",
     "output_type": "stream",
     "text": [
      "Saving results in D:\\Sidevideos\\AR35MOTOR\\2022_01_27...\n",
      "Saving csv poses!\n",
      "Starting to analyze %  D:\\Sidevideos\\AR35MOTOR\\2022_01_27\\370.avi\n",
      "Loading  D:\\Sidevideos\\AR35MOTOR\\2022_01_27\\370.avi\n",
      "Duration of video [s]:  12.5 , recorded with  40.0 fps!\n",
      "Overall # of frames:  500  found with (before cropping) frame dimensions:  800 480\n",
      "Starting to extract posture\n"
     ]
    },
    {
     "name": "stderr",
     "output_type": "stream",
     "text": [
      "510it [00:26, 19.06it/s]                                                                                               \n"
     ]
    },
    {
     "name": "stdout",
     "output_type": "stream",
     "text": [
      "Saving results in D:\\Sidevideos\\AR35MOTOR\\2022_01_27...\n",
      "Saving csv poses!\n",
      "Starting to analyze %  D:\\Sidevideos\\AR35MOTOR\\2022_01_27\\371.avi\n",
      "Loading  D:\\Sidevideos\\AR35MOTOR\\2022_01_27\\371.avi\n",
      "Duration of video [s]:  12.5 , recorded with  40.0 fps!\n",
      "Overall # of frames:  500  found with (before cropping) frame dimensions:  800 480\n",
      "Starting to extract posture\n"
     ]
    },
    {
     "name": "stderr",
     "output_type": "stream",
     "text": [
      "510it [00:26, 19.19it/s]                                                                                               \n"
     ]
    },
    {
     "name": "stdout",
     "output_type": "stream",
     "text": [
      "Saving results in D:\\Sidevideos\\AR35MOTOR\\2022_01_27...\n",
      "Saving csv poses!\n",
      "Starting to analyze %  D:\\Sidevideos\\AR35MOTOR\\2022_01_27\\372.avi\n",
      "Loading  D:\\Sidevideos\\AR35MOTOR\\2022_01_27\\372.avi\n",
      "Duration of video [s]:  12.5 , recorded with  40.0 fps!\n",
      "Overall # of frames:  500  found with (before cropping) frame dimensions:  800 480\n",
      "Starting to extract posture\n"
     ]
    },
    {
     "name": "stderr",
     "output_type": "stream",
     "text": [
      "510it [00:26, 19.18it/s]                                                                                               \n"
     ]
    },
    {
     "name": "stdout",
     "output_type": "stream",
     "text": [
      "Saving results in D:\\Sidevideos\\AR35MOTOR\\2022_01_27...\n",
      "Saving csv poses!\n",
      "Starting to analyze %  D:\\Sidevideos\\AR35MOTOR\\2022_01_27\\373.avi\n",
      "Loading  D:\\Sidevideos\\AR35MOTOR\\2022_01_27\\373.avi\n",
      "Duration of video [s]:  12.5 , recorded with  40.0 fps!\n",
      "Overall # of frames:  500  found with (before cropping) frame dimensions:  800 480\n",
      "Starting to extract posture\n"
     ]
    },
    {
     "name": "stderr",
     "output_type": "stream",
     "text": [
      "510it [00:26, 19.19it/s]                                                                                               \n"
     ]
    },
    {
     "name": "stdout",
     "output_type": "stream",
     "text": [
      "Saving results in D:\\Sidevideos\\AR35MOTOR\\2022_01_27...\n",
      "Saving csv poses!\n",
      "Starting to analyze %  D:\\Sidevideos\\AR35MOTOR\\2022_01_27\\374.avi\n",
      "Loading  D:\\Sidevideos\\AR35MOTOR\\2022_01_27\\374.avi\n",
      "Duration of video [s]:  12.5 , recorded with  40.0 fps!\n",
      "Overall # of frames:  500  found with (before cropping) frame dimensions:  800 480\n",
      "Starting to extract posture\n"
     ]
    },
    {
     "name": "stderr",
     "output_type": "stream",
     "text": [
      "510it [00:26, 19.14it/s]                                                                                               \n"
     ]
    },
    {
     "name": "stdout",
     "output_type": "stream",
     "text": [
      "Saving results in D:\\Sidevideos\\AR35MOTOR\\2022_01_27...\n",
      "Saving csv poses!\n",
      "Starting to analyze %  D:\\Sidevideos\\AR35MOTOR\\2022_01_27\\375.avi\n",
      "Loading  D:\\Sidevideos\\AR35MOTOR\\2022_01_27\\375.avi\n",
      "Duration of video [s]:  12.5 , recorded with  40.0 fps!\n",
      "Overall # of frames:  500  found with (before cropping) frame dimensions:  800 480\n",
      "Starting to extract posture\n"
     ]
    },
    {
     "name": "stderr",
     "output_type": "stream",
     "text": [
      "510it [00:26, 19.20it/s]                                                                                               \n"
     ]
    },
    {
     "name": "stdout",
     "output_type": "stream",
     "text": [
      "Saving results in D:\\Sidevideos\\AR35MOTOR\\2022_01_27...\n",
      "Saving csv poses!\n",
      "Starting to analyze %  D:\\Sidevideos\\AR35MOTOR\\2022_01_27\\376.avi\n",
      "Loading  D:\\Sidevideos\\AR35MOTOR\\2022_01_27\\376.avi\n",
      "Duration of video [s]:  12.5 , recorded with  40.0 fps!\n",
      "Overall # of frames:  500  found with (before cropping) frame dimensions:  800 480\n",
      "Starting to extract posture\n"
     ]
    },
    {
     "name": "stderr",
     "output_type": "stream",
     "text": [
      "510it [00:26, 19.19it/s]                                                                                               \n"
     ]
    },
    {
     "name": "stdout",
     "output_type": "stream",
     "text": [
      "Saving results in D:\\Sidevideos\\AR35MOTOR\\2022_01_27...\n",
      "Saving csv poses!\n",
      "Starting to analyze %  D:\\Sidevideos\\AR35MOTOR\\2022_01_27\\377.avi\n",
      "Loading  D:\\Sidevideos\\AR35MOTOR\\2022_01_27\\377.avi\n",
      "Duration of video [s]:  12.5 , recorded with  40.0 fps!\n",
      "Overall # of frames:  500  found with (before cropping) frame dimensions:  800 480\n",
      "Starting to extract posture\n"
     ]
    },
    {
     "name": "stderr",
     "output_type": "stream",
     "text": [
      "510it [00:26, 19.16it/s]                                                                                               \n"
     ]
    },
    {
     "name": "stdout",
     "output_type": "stream",
     "text": [
      "Saving results in D:\\Sidevideos\\AR35MOTOR\\2022_01_27...\n",
      "Saving csv poses!\n",
      "Starting to analyze %  D:\\Sidevideos\\AR35MOTOR\\2022_01_27\\378.avi\n",
      "Loading  D:\\Sidevideos\\AR35MOTOR\\2022_01_27\\378.avi\n",
      "Duration of video [s]:  12.5 , recorded with  40.0 fps!\n",
      "Overall # of frames:  500  found with (before cropping) frame dimensions:  800 480\n",
      "Starting to extract posture\n"
     ]
    },
    {
     "name": "stderr",
     "output_type": "stream",
     "text": [
      "510it [00:26, 19.16it/s]                                                                                               \n"
     ]
    },
    {
     "name": "stdout",
     "output_type": "stream",
     "text": [
      "Saving results in D:\\Sidevideos\\AR35MOTOR\\2022_01_27...\n",
      "Saving csv poses!\n",
      "Starting to analyze %  D:\\Sidevideos\\AR35MOTOR\\2022_01_27\\379.avi\n",
      "Loading  D:\\Sidevideos\\AR35MOTOR\\2022_01_27\\379.avi\n",
      "Duration of video [s]:  12.5 , recorded with  40.0 fps!\n",
      "Overall # of frames:  500  found with (before cropping) frame dimensions:  800 480\n",
      "Starting to extract posture\n"
     ]
    },
    {
     "name": "stderr",
     "output_type": "stream",
     "text": [
      "510it [00:26, 19.18it/s]                                                                                               \n"
     ]
    },
    {
     "name": "stdout",
     "output_type": "stream",
     "text": [
      "Saving results in D:\\Sidevideos\\AR35MOTOR\\2022_01_27...\n",
      "Saving csv poses!\n",
      "Starting to analyze %  D:\\Sidevideos\\AR35MOTOR\\2022_01_27\\38.avi\n",
      "Loading  D:\\Sidevideos\\AR35MOTOR\\2022_01_27\\38.avi\n",
      "Duration of video [s]:  12.5 , recorded with  40.0 fps!\n",
      "Overall # of frames:  500  found with (before cropping) frame dimensions:  800 480\n",
      "Starting to extract posture\n"
     ]
    },
    {
     "name": "stderr",
     "output_type": "stream",
     "text": [
      "510it [00:26, 19.11it/s]                                                                                               \n"
     ]
    },
    {
     "name": "stdout",
     "output_type": "stream",
     "text": [
      "Saving results in D:\\Sidevideos\\AR35MOTOR\\2022_01_27...\n",
      "Saving csv poses!\n",
      "Starting to analyze %  D:\\Sidevideos\\AR35MOTOR\\2022_01_27\\380.avi\n",
      "Loading  D:\\Sidevideos\\AR35MOTOR\\2022_01_27\\380.avi\n",
      "Duration of video [s]:  12.5 , recorded with  40.0 fps!\n",
      "Overall # of frames:  500  found with (before cropping) frame dimensions:  800 480\n",
      "Starting to extract posture\n"
     ]
    },
    {
     "name": "stderr",
     "output_type": "stream",
     "text": [
      "510it [00:26, 19.13it/s]                                                                                               \n"
     ]
    },
    {
     "name": "stdout",
     "output_type": "stream",
     "text": [
      "Saving results in D:\\Sidevideos\\AR35MOTOR\\2022_01_27...\n",
      "Saving csv poses!\n",
      "Starting to analyze %  D:\\Sidevideos\\AR35MOTOR\\2022_01_27\\381.avi\n",
      "Loading  D:\\Sidevideos\\AR35MOTOR\\2022_01_27\\381.avi\n",
      "Duration of video [s]:  12.5 , recorded with  40.0 fps!\n",
      "Overall # of frames:  500  found with (before cropping) frame dimensions:  800 480\n",
      "Starting to extract posture\n"
     ]
    },
    {
     "name": "stderr",
     "output_type": "stream",
     "text": [
      "510it [00:26, 19.22it/s]                                                                                               \n"
     ]
    },
    {
     "name": "stdout",
     "output_type": "stream",
     "text": [
      "Saving results in D:\\Sidevideos\\AR35MOTOR\\2022_01_27...\n",
      "Saving csv poses!\n",
      "Starting to analyze %  D:\\Sidevideos\\AR35MOTOR\\2022_01_27\\382.avi\n",
      "Loading  D:\\Sidevideos\\AR35MOTOR\\2022_01_27\\382.avi\n",
      "Duration of video [s]:  12.5 , recorded with  40.0 fps!\n",
      "Overall # of frames:  500  found with (before cropping) frame dimensions:  800 480\n",
      "Starting to extract posture\n"
     ]
    },
    {
     "name": "stderr",
     "output_type": "stream",
     "text": [
      "510it [00:26, 19.19it/s]                                                                                               \n"
     ]
    },
    {
     "name": "stdout",
     "output_type": "stream",
     "text": [
      "Saving results in D:\\Sidevideos\\AR35MOTOR\\2022_01_27...\n",
      "Saving csv poses!\n",
      "Starting to analyze %  D:\\Sidevideos\\AR35MOTOR\\2022_01_27\\383.avi\n",
      "Loading  D:\\Sidevideos\\AR35MOTOR\\2022_01_27\\383.avi\n",
      "Duration of video [s]:  12.5 , recorded with  40.0 fps!\n",
      "Overall # of frames:  500  found with (before cropping) frame dimensions:  800 480\n",
      "Starting to extract posture\n"
     ]
    },
    {
     "name": "stderr",
     "output_type": "stream",
     "text": [
      "510it [00:26, 19.22it/s]                                                                                               \n"
     ]
    },
    {
     "name": "stdout",
     "output_type": "stream",
     "text": [
      "Saving results in D:\\Sidevideos\\AR35MOTOR\\2022_01_27...\n",
      "Saving csv poses!\n",
      "Starting to analyze %  D:\\Sidevideos\\AR35MOTOR\\2022_01_27\\384.avi\n",
      "Loading  D:\\Sidevideos\\AR35MOTOR\\2022_01_27\\384.avi\n",
      "Duration of video [s]:  12.5 , recorded with  40.0 fps!\n",
      "Overall # of frames:  500  found with (before cropping) frame dimensions:  800 480\n",
      "Starting to extract posture\n"
     ]
    },
    {
     "name": "stderr",
     "output_type": "stream",
     "text": [
      "510it [00:26, 19.17it/s]                                                                                               \n"
     ]
    },
    {
     "name": "stdout",
     "output_type": "stream",
     "text": [
      "Saving results in D:\\Sidevideos\\AR35MOTOR\\2022_01_27...\n",
      "Saving csv poses!\n",
      "Starting to analyze %  D:\\Sidevideos\\AR35MOTOR\\2022_01_27\\385.avi\n",
      "Loading  D:\\Sidevideos\\AR35MOTOR\\2022_01_27\\385.avi\n",
      "Duration of video [s]:  12.5 , recorded with  40.0 fps!\n",
      "Overall # of frames:  500  found with (before cropping) frame dimensions:  800 480\n",
      "Starting to extract posture\n"
     ]
    },
    {
     "name": "stderr",
     "output_type": "stream",
     "text": [
      "510it [00:26, 19.13it/s]                                                                                               \n"
     ]
    },
    {
     "name": "stdout",
     "output_type": "stream",
     "text": [
      "Saving results in D:\\Sidevideos\\AR35MOTOR\\2022_01_27...\n",
      "Saving csv poses!\n",
      "Starting to analyze %  D:\\Sidevideos\\AR35MOTOR\\2022_01_27\\386.avi\n",
      "Loading  D:\\Sidevideos\\AR35MOTOR\\2022_01_27\\386.avi\n",
      "Duration of video [s]:  12.5 , recorded with  40.0 fps!\n",
      "Overall # of frames:  500  found with (before cropping) frame dimensions:  800 480\n",
      "Starting to extract posture\n"
     ]
    },
    {
     "name": "stderr",
     "output_type": "stream",
     "text": [
      "510it [00:26, 19.14it/s]                                                                                               \n"
     ]
    },
    {
     "name": "stdout",
     "output_type": "stream",
     "text": [
      "Saving results in D:\\Sidevideos\\AR35MOTOR\\2022_01_27...\n",
      "Saving csv poses!\n",
      "Starting to analyze %  D:\\Sidevideos\\AR35MOTOR\\2022_01_27\\387.avi\n",
      "Loading  D:\\Sidevideos\\AR35MOTOR\\2022_01_27\\387.avi\n",
      "Duration of video [s]:  12.5 , recorded with  40.0 fps!\n",
      "Overall # of frames:  500  found with (before cropping) frame dimensions:  800 480\n",
      "Starting to extract posture\n"
     ]
    },
    {
     "name": "stderr",
     "output_type": "stream",
     "text": [
      "510it [00:26, 19.14it/s]                                                                                               \n"
     ]
    },
    {
     "name": "stdout",
     "output_type": "stream",
     "text": [
      "Saving results in D:\\Sidevideos\\AR35MOTOR\\2022_01_27...\n",
      "Saving csv poses!\n",
      "Starting to analyze %  D:\\Sidevideos\\AR35MOTOR\\2022_01_27\\388.avi\n",
      "Loading  D:\\Sidevideos\\AR35MOTOR\\2022_01_27\\388.avi\n",
      "Duration of video [s]:  12.5 , recorded with  40.0 fps!\n",
      "Overall # of frames:  500  found with (before cropping) frame dimensions:  800 480\n",
      "Starting to extract posture\n"
     ]
    },
    {
     "name": "stderr",
     "output_type": "stream",
     "text": [
      "510it [00:26, 19.17it/s]                                                                                               \n"
     ]
    },
    {
     "name": "stdout",
     "output_type": "stream",
     "text": [
      "Saving results in D:\\Sidevideos\\AR35MOTOR\\2022_01_27...\n",
      "Saving csv poses!\n",
      "Starting to analyze %  D:\\Sidevideos\\AR35MOTOR\\2022_01_27\\389.avi\n",
      "Loading  D:\\Sidevideos\\AR35MOTOR\\2022_01_27\\389.avi\n",
      "Duration of video [s]:  12.5 , recorded with  40.0 fps!\n",
      "Overall # of frames:  500  found with (before cropping) frame dimensions:  800 480\n",
      "Starting to extract posture\n"
     ]
    },
    {
     "name": "stderr",
     "output_type": "stream",
     "text": [
      "510it [00:26, 19.16it/s]                                                                                               \n"
     ]
    },
    {
     "name": "stdout",
     "output_type": "stream",
     "text": [
      "Saving results in D:\\Sidevideos\\AR35MOTOR\\2022_01_27...\n",
      "Saving csv poses!\n",
      "Starting to analyze %  D:\\Sidevideos\\AR35MOTOR\\2022_01_27\\39.avi\n",
      "Loading  D:\\Sidevideos\\AR35MOTOR\\2022_01_27\\39.avi\n",
      "Duration of video [s]:  12.5 , recorded with  40.0 fps!\n",
      "Overall # of frames:  500  found with (before cropping) frame dimensions:  800 480\n",
      "Starting to extract posture\n"
     ]
    },
    {
     "name": "stderr",
     "output_type": "stream",
     "text": [
      "510it [00:26, 19.20it/s]                                                                                               \n"
     ]
    },
    {
     "name": "stdout",
     "output_type": "stream",
     "text": [
      "Saving results in D:\\Sidevideos\\AR35MOTOR\\2022_01_27...\n",
      "Saving csv poses!\n",
      "Starting to analyze %  D:\\Sidevideos\\AR35MOTOR\\2022_01_27\\390.avi\n",
      "Loading  D:\\Sidevideos\\AR35MOTOR\\2022_01_27\\390.avi\n",
      "Duration of video [s]:  12.5 , recorded with  40.0 fps!\n",
      "Overall # of frames:  500  found with (before cropping) frame dimensions:  800 480\n",
      "Starting to extract posture\n"
     ]
    },
    {
     "name": "stderr",
     "output_type": "stream",
     "text": [
      "510it [00:26, 19.19it/s]                                                                                               \n"
     ]
    },
    {
     "name": "stdout",
     "output_type": "stream",
     "text": [
      "Saving results in D:\\Sidevideos\\AR35MOTOR\\2022_01_27...\n",
      "Saving csv poses!\n",
      "Starting to analyze %  D:\\Sidevideos\\AR35MOTOR\\2022_01_27\\391.avi\n",
      "Loading  D:\\Sidevideos\\AR35MOTOR\\2022_01_27\\391.avi\n",
      "Duration of video [s]:  12.5 , recorded with  40.0 fps!\n",
      "Overall # of frames:  500  found with (before cropping) frame dimensions:  800 480\n",
      "Starting to extract posture\n"
     ]
    },
    {
     "name": "stderr",
     "output_type": "stream",
     "text": [
      "510it [00:26, 19.21it/s]                                                                                               \n"
     ]
    },
    {
     "name": "stdout",
     "output_type": "stream",
     "text": [
      "Saving results in D:\\Sidevideos\\AR35MOTOR\\2022_01_27...\n",
      "Saving csv poses!\n",
      "Starting to analyze %  D:\\Sidevideos\\AR35MOTOR\\2022_01_27\\392.avi\n",
      "Loading  D:\\Sidevideos\\AR35MOTOR\\2022_01_27\\392.avi\n",
      "Duration of video [s]:  12.5 , recorded with  40.0 fps!\n",
      "Overall # of frames:  500  found with (before cropping) frame dimensions:  800 480\n",
      "Starting to extract posture\n"
     ]
    },
    {
     "name": "stderr",
     "output_type": "stream",
     "text": [
      "510it [00:26, 19.13it/s]                                                                                               \n"
     ]
    },
    {
     "name": "stdout",
     "output_type": "stream",
     "text": [
      "Saving results in D:\\Sidevideos\\AR35MOTOR\\2022_01_27...\n",
      "Saving csv poses!\n",
      "Starting to analyze %  D:\\Sidevideos\\AR35MOTOR\\2022_01_27\\393.avi\n",
      "Loading  D:\\Sidevideos\\AR35MOTOR\\2022_01_27\\393.avi\n",
      "Duration of video [s]:  12.5 , recorded with  40.0 fps!\n",
      "Overall # of frames:  500  found with (before cropping) frame dimensions:  800 480\n",
      "Starting to extract posture\n"
     ]
    },
    {
     "name": "stderr",
     "output_type": "stream",
     "text": [
      "510it [00:26, 19.15it/s]                                                                                               \n"
     ]
    },
    {
     "name": "stdout",
     "output_type": "stream",
     "text": [
      "Saving results in D:\\Sidevideos\\AR35MOTOR\\2022_01_27...\n",
      "Saving csv poses!\n",
      "Starting to analyze %  D:\\Sidevideos\\AR35MOTOR\\2022_01_27\\394.avi\n",
      "Loading  D:\\Sidevideos\\AR35MOTOR\\2022_01_27\\394.avi\n",
      "Duration of video [s]:  12.5 , recorded with  40.0 fps!\n",
      "Overall # of frames:  500  found with (before cropping) frame dimensions:  800 480\n",
      "Starting to extract posture\n"
     ]
    },
    {
     "name": "stderr",
     "output_type": "stream",
     "text": [
      "510it [00:26, 19.16it/s]                                                                                               \n"
     ]
    },
    {
     "name": "stdout",
     "output_type": "stream",
     "text": [
      "Saving results in D:\\Sidevideos\\AR35MOTOR\\2022_01_27...\n",
      "Saving csv poses!\n",
      "Starting to analyze %  D:\\Sidevideos\\AR35MOTOR\\2022_01_27\\395.avi\n",
      "Loading  D:\\Sidevideos\\AR35MOTOR\\2022_01_27\\395.avi\n",
      "Duration of video [s]:  12.5 , recorded with  40.0 fps!\n",
      "Overall # of frames:  500  found with (before cropping) frame dimensions:  800 480\n",
      "Starting to extract posture\n"
     ]
    },
    {
     "name": "stderr",
     "output_type": "stream",
     "text": [
      "510it [00:26, 19.19it/s]                                                                                               \n"
     ]
    },
    {
     "name": "stdout",
     "output_type": "stream",
     "text": [
      "Saving results in D:\\Sidevideos\\AR35MOTOR\\2022_01_27...\n",
      "Saving csv poses!\n",
      "Starting to analyze %  D:\\Sidevideos\\AR35MOTOR\\2022_01_27\\396.avi\n",
      "Loading  D:\\Sidevideos\\AR35MOTOR\\2022_01_27\\396.avi\n",
      "Duration of video [s]:  12.5 , recorded with  40.0 fps!\n",
      "Overall # of frames:  500  found with (before cropping) frame dimensions:  800 480\n",
      "Starting to extract posture\n"
     ]
    },
    {
     "name": "stderr",
     "output_type": "stream",
     "text": [
      "510it [00:26, 19.21it/s]                                                                                               \n"
     ]
    },
    {
     "name": "stdout",
     "output_type": "stream",
     "text": [
      "Saving results in D:\\Sidevideos\\AR35MOTOR\\2022_01_27...\n",
      "Saving csv poses!\n",
      "Starting to analyze %  D:\\Sidevideos\\AR35MOTOR\\2022_01_27\\397.avi\n",
      "Loading  D:\\Sidevideos\\AR35MOTOR\\2022_01_27\\397.avi\n",
      "Duration of video [s]:  12.5 , recorded with  40.0 fps!\n",
      "Overall # of frames:  500  found with (before cropping) frame dimensions:  800 480\n",
      "Starting to extract posture\n"
     ]
    },
    {
     "name": "stderr",
     "output_type": "stream",
     "text": [
      "510it [00:26, 19.22it/s]                                                                                               \n"
     ]
    },
    {
     "name": "stdout",
     "output_type": "stream",
     "text": [
      "Saving results in D:\\Sidevideos\\AR35MOTOR\\2022_01_27...\n",
      "Saving csv poses!\n",
      "Starting to analyze %  D:\\Sidevideos\\AR35MOTOR\\2022_01_27\\398.avi\n",
      "Loading  D:\\Sidevideos\\AR35MOTOR\\2022_01_27\\398.avi\n",
      "Duration of video [s]:  12.5 , recorded with  40.0 fps!\n",
      "Overall # of frames:  500  found with (before cropping) frame dimensions:  800 480\n",
      "Starting to extract posture\n"
     ]
    },
    {
     "name": "stderr",
     "output_type": "stream",
     "text": [
      "510it [00:26, 19.14it/s]                                                                                               \n"
     ]
    },
    {
     "name": "stdout",
     "output_type": "stream",
     "text": [
      "Saving results in D:\\Sidevideos\\AR35MOTOR\\2022_01_27...\n",
      "Saving csv poses!\n",
      "Starting to analyze %  D:\\Sidevideos\\AR35MOTOR\\2022_01_27\\399.avi\n",
      "Loading  D:\\Sidevideos\\AR35MOTOR\\2022_01_27\\399.avi\n",
      "Duration of video [s]:  12.5 , recorded with  40.0 fps!\n",
      "Overall # of frames:  500  found with (before cropping) frame dimensions:  800 480\n",
      "Starting to extract posture\n"
     ]
    },
    {
     "name": "stderr",
     "output_type": "stream",
     "text": [
      "510it [00:26, 19.21it/s]                                                                                               \n"
     ]
    },
    {
     "name": "stdout",
     "output_type": "stream",
     "text": [
      "Saving results in D:\\Sidevideos\\AR35MOTOR\\2022_01_27...\n",
      "Saving csv poses!\n",
      "Starting to analyze %  D:\\Sidevideos\\AR35MOTOR\\2022_01_27\\4.avi\n",
      "Loading  D:\\Sidevideos\\AR35MOTOR\\2022_01_27\\4.avi\n",
      "Duration of video [s]:  12.5 , recorded with  40.0 fps!\n",
      "Overall # of frames:  500  found with (before cropping) frame dimensions:  800 480\n",
      "Starting to extract posture\n"
     ]
    },
    {
     "name": "stderr",
     "output_type": "stream",
     "text": [
      "510it [00:26, 19.18it/s]                                                                                               \n"
     ]
    },
    {
     "name": "stdout",
     "output_type": "stream",
     "text": [
      "Saving results in D:\\Sidevideos\\AR35MOTOR\\2022_01_27...\n",
      "Saving csv poses!\n",
      "Starting to analyze %  D:\\Sidevideos\\AR35MOTOR\\2022_01_27\\40.avi\n",
      "Loading  D:\\Sidevideos\\AR35MOTOR\\2022_01_27\\40.avi\n",
      "Duration of video [s]:  12.5 , recorded with  40.0 fps!\n",
      "Overall # of frames:  500  found with (before cropping) frame dimensions:  800 480\n",
      "Starting to extract posture\n"
     ]
    },
    {
     "name": "stderr",
     "output_type": "stream",
     "text": [
      "510it [00:26, 19.21it/s]                                                                                               \n"
     ]
    },
    {
     "name": "stdout",
     "output_type": "stream",
     "text": [
      "Saving results in D:\\Sidevideos\\AR35MOTOR\\2022_01_27...\n",
      "Saving csv poses!\n",
      "Starting to analyze %  D:\\Sidevideos\\AR35MOTOR\\2022_01_27\\400.avi\n",
      "Loading  D:\\Sidevideos\\AR35MOTOR\\2022_01_27\\400.avi\n",
      "Duration of video [s]:  12.5 , recorded with  40.0 fps!\n",
      "Overall # of frames:  500  found with (before cropping) frame dimensions:  800 480\n",
      "Starting to extract posture\n"
     ]
    },
    {
     "name": "stderr",
     "output_type": "stream",
     "text": [
      "510it [00:26, 19.13it/s]                                                                                               \n"
     ]
    },
    {
     "name": "stdout",
     "output_type": "stream",
     "text": [
      "Saving results in D:\\Sidevideos\\AR35MOTOR\\2022_01_27...\n",
      "Saving csv poses!\n",
      "Starting to analyze %  D:\\Sidevideos\\AR35MOTOR\\2022_01_27\\401.avi\n",
      "Loading  D:\\Sidevideos\\AR35MOTOR\\2022_01_27\\401.avi\n",
      "Duration of video [s]:  12.5 , recorded with  40.0 fps!\n",
      "Overall # of frames:  500  found with (before cropping) frame dimensions:  800 480\n",
      "Starting to extract posture\n"
     ]
    },
    {
     "name": "stderr",
     "output_type": "stream",
     "text": [
      "510it [00:26, 19.10it/s]                                                                                               \n"
     ]
    },
    {
     "name": "stdout",
     "output_type": "stream",
     "text": [
      "Saving results in D:\\Sidevideos\\AR35MOTOR\\2022_01_27...\n",
      "Saving csv poses!\n",
      "Starting to analyze %  D:\\Sidevideos\\AR35MOTOR\\2022_01_27\\402.avi\n",
      "Loading  D:\\Sidevideos\\AR35MOTOR\\2022_01_27\\402.avi\n",
      "Duration of video [s]:  12.5 , recorded with  40.0 fps!\n",
      "Overall # of frames:  500  found with (before cropping) frame dimensions:  800 480\n",
      "Starting to extract posture\n"
     ]
    },
    {
     "name": "stderr",
     "output_type": "stream",
     "text": [
      "510it [00:26, 19.21it/s]                                                                                               \n"
     ]
    },
    {
     "name": "stdout",
     "output_type": "stream",
     "text": [
      "Saving results in D:\\Sidevideos\\AR35MOTOR\\2022_01_27...\n",
      "Saving csv poses!\n",
      "Starting to analyze %  D:\\Sidevideos\\AR35MOTOR\\2022_01_27\\403.avi\n",
      "Loading  D:\\Sidevideos\\AR35MOTOR\\2022_01_27\\403.avi\n",
      "Duration of video [s]:  12.5 , recorded with  40.0 fps!\n",
      "Overall # of frames:  500  found with (before cropping) frame dimensions:  800 480\n",
      "Starting to extract posture\n"
     ]
    },
    {
     "name": "stderr",
     "output_type": "stream",
     "text": [
      "510it [00:26, 19.15it/s]                                                                                               \n"
     ]
    },
    {
     "name": "stdout",
     "output_type": "stream",
     "text": [
      "Saving results in D:\\Sidevideos\\AR35MOTOR\\2022_01_27...\n",
      "Saving csv poses!\n",
      "Starting to analyze %  D:\\Sidevideos\\AR35MOTOR\\2022_01_27\\404.avi\n",
      "Loading  D:\\Sidevideos\\AR35MOTOR\\2022_01_27\\404.avi\n",
      "Duration of video [s]:  12.5 , recorded with  40.0 fps!\n",
      "Overall # of frames:  500  found with (before cropping) frame dimensions:  800 480\n",
      "Starting to extract posture\n"
     ]
    },
    {
     "name": "stderr",
     "output_type": "stream",
     "text": [
      "510it [00:26, 19.20it/s]                                                                                               \n"
     ]
    },
    {
     "name": "stdout",
     "output_type": "stream",
     "text": [
      "Saving results in D:\\Sidevideos\\AR35MOTOR\\2022_01_27...\n",
      "Saving csv poses!\n",
      "Starting to analyze %  D:\\Sidevideos\\AR35MOTOR\\2022_01_27\\405.avi\n",
      "Loading  D:\\Sidevideos\\AR35MOTOR\\2022_01_27\\405.avi\n",
      "Duration of video [s]:  12.5 , recorded with  40.0 fps!\n",
      "Overall # of frames:  500  found with (before cropping) frame dimensions:  800 480\n",
      "Starting to extract posture\n"
     ]
    },
    {
     "name": "stderr",
     "output_type": "stream",
     "text": [
      "510it [00:26, 19.19it/s]                                                                                               \n"
     ]
    },
    {
     "name": "stdout",
     "output_type": "stream",
     "text": [
      "Saving results in D:\\Sidevideos\\AR35MOTOR\\2022_01_27...\n",
      "Saving csv poses!\n",
      "Starting to analyze %  D:\\Sidevideos\\AR35MOTOR\\2022_01_27\\406.avi\n",
      "Loading  D:\\Sidevideos\\AR35MOTOR\\2022_01_27\\406.avi\n",
      "Duration of video [s]:  12.5 , recorded with  40.0 fps!\n",
      "Overall # of frames:  500  found with (before cropping) frame dimensions:  800 480\n",
      "Starting to extract posture\n"
     ]
    },
    {
     "name": "stderr",
     "output_type": "stream",
     "text": [
      "510it [00:26, 19.16it/s]                                                                                               \n"
     ]
    },
    {
     "name": "stdout",
     "output_type": "stream",
     "text": [
      "Saving results in D:\\Sidevideos\\AR35MOTOR\\2022_01_27...\n",
      "Saving csv poses!\n",
      "Starting to analyze %  D:\\Sidevideos\\AR35MOTOR\\2022_01_27\\407.avi\n",
      "Loading  D:\\Sidevideos\\AR35MOTOR\\2022_01_27\\407.avi\n",
      "Duration of video [s]:  12.5 , recorded with  40.0 fps!\n",
      "Overall # of frames:  500  found with (before cropping) frame dimensions:  800 480\n",
      "Starting to extract posture\n"
     ]
    },
    {
     "name": "stderr",
     "output_type": "stream",
     "text": [
      "510it [00:26, 19.21it/s]                                                                                               \n"
     ]
    },
    {
     "name": "stdout",
     "output_type": "stream",
     "text": [
      "Saving results in D:\\Sidevideos\\AR35MOTOR\\2022_01_27...\n",
      "Saving csv poses!\n",
      "Starting to analyze %  D:\\Sidevideos\\AR35MOTOR\\2022_01_27\\408.avi\n",
      "Loading  D:\\Sidevideos\\AR35MOTOR\\2022_01_27\\408.avi\n",
      "Duration of video [s]:  12.5 , recorded with  40.0 fps!\n",
      "Overall # of frames:  500  found with (before cropping) frame dimensions:  800 480\n",
      "Starting to extract posture\n"
     ]
    },
    {
     "name": "stderr",
     "output_type": "stream",
     "text": [
      "510it [00:26, 19.18it/s]                                                                                               \n"
     ]
    },
    {
     "name": "stdout",
     "output_type": "stream",
     "text": [
      "Saving results in D:\\Sidevideos\\AR35MOTOR\\2022_01_27...\n",
      "Saving csv poses!\n",
      "Starting to analyze %  D:\\Sidevideos\\AR35MOTOR\\2022_01_27\\409.avi\n",
      "Loading  D:\\Sidevideos\\AR35MOTOR\\2022_01_27\\409.avi\n",
      "Duration of video [s]:  12.5 , recorded with  40.0 fps!\n",
      "Overall # of frames:  500  found with (before cropping) frame dimensions:  800 480\n",
      "Starting to extract posture\n"
     ]
    },
    {
     "name": "stderr",
     "output_type": "stream",
     "text": [
      "510it [00:26, 19.14it/s]                                                                                               \n"
     ]
    },
    {
     "name": "stdout",
     "output_type": "stream",
     "text": [
      "Saving results in D:\\Sidevideos\\AR35MOTOR\\2022_01_27...\n",
      "Saving csv poses!\n",
      "Starting to analyze %  D:\\Sidevideos\\AR35MOTOR\\2022_01_27\\41.avi\n",
      "Loading  D:\\Sidevideos\\AR35MOTOR\\2022_01_27\\41.avi\n",
      "Duration of video [s]:  12.5 , recorded with  40.0 fps!\n",
      "Overall # of frames:  500  found with (before cropping) frame dimensions:  800 480\n",
      "Starting to extract posture\n"
     ]
    },
    {
     "name": "stderr",
     "output_type": "stream",
     "text": [
      "510it [00:26, 19.24it/s]                                                                                               \n"
     ]
    },
    {
     "name": "stdout",
     "output_type": "stream",
     "text": [
      "Saving results in D:\\Sidevideos\\AR35MOTOR\\2022_01_27...\n",
      "Saving csv poses!\n",
      "Starting to analyze %  D:\\Sidevideos\\AR35MOTOR\\2022_01_27\\410.avi\n",
      "Loading  D:\\Sidevideos\\AR35MOTOR\\2022_01_27\\410.avi\n",
      "Duration of video [s]:  12.5 , recorded with  40.0 fps!\n",
      "Overall # of frames:  500  found with (before cropping) frame dimensions:  800 480\n",
      "Starting to extract posture\n"
     ]
    },
    {
     "name": "stderr",
     "output_type": "stream",
     "text": [
      "510it [00:26, 19.19it/s]                                                                                               \n"
     ]
    },
    {
     "name": "stdout",
     "output_type": "stream",
     "text": [
      "Saving results in D:\\Sidevideos\\AR35MOTOR\\2022_01_27...\n",
      "Saving csv poses!\n",
      "Starting to analyze %  D:\\Sidevideos\\AR35MOTOR\\2022_01_27\\411.avi\n",
      "Loading  D:\\Sidevideos\\AR35MOTOR\\2022_01_27\\411.avi\n",
      "Duration of video [s]:  12.5 , recorded with  40.0 fps!\n",
      "Overall # of frames:  500  found with (before cropping) frame dimensions:  800 480\n",
      "Starting to extract posture\n"
     ]
    },
    {
     "name": "stderr",
     "output_type": "stream",
     "text": [
      "510it [00:26, 19.14it/s]                                                                                               \n"
     ]
    },
    {
     "name": "stdout",
     "output_type": "stream",
     "text": [
      "Saving results in D:\\Sidevideos\\AR35MOTOR\\2022_01_27...\n",
      "Saving csv poses!\n",
      "Starting to analyze %  D:\\Sidevideos\\AR35MOTOR\\2022_01_27\\412.avi\n",
      "Loading  D:\\Sidevideos\\AR35MOTOR\\2022_01_27\\412.avi\n",
      "Duration of video [s]:  12.5 , recorded with  40.0 fps!\n",
      "Overall # of frames:  500  found with (before cropping) frame dimensions:  800 480\n",
      "Starting to extract posture\n"
     ]
    },
    {
     "name": "stderr",
     "output_type": "stream",
     "text": [
      "510it [00:26, 19.17it/s]                                                                                               \n"
     ]
    },
    {
     "name": "stdout",
     "output_type": "stream",
     "text": [
      "Saving results in D:\\Sidevideos\\AR35MOTOR\\2022_01_27...\n",
      "Saving csv poses!\n",
      "Starting to analyze %  D:\\Sidevideos\\AR35MOTOR\\2022_01_27\\413.avi\n",
      "Loading  D:\\Sidevideos\\AR35MOTOR\\2022_01_27\\413.avi\n",
      "Duration of video [s]:  12.5 , recorded with  40.0 fps!\n",
      "Overall # of frames:  500  found with (before cropping) frame dimensions:  800 480\n",
      "Starting to extract posture\n"
     ]
    },
    {
     "name": "stderr",
     "output_type": "stream",
     "text": [
      "510it [00:26, 19.18it/s]                                                                                               \n"
     ]
    },
    {
     "name": "stdout",
     "output_type": "stream",
     "text": [
      "Saving results in D:\\Sidevideos\\AR35MOTOR\\2022_01_27...\n",
      "Saving csv poses!\n",
      "Starting to analyze %  D:\\Sidevideos\\AR35MOTOR\\2022_01_27\\414.avi\n",
      "Loading  D:\\Sidevideos\\AR35MOTOR\\2022_01_27\\414.avi\n",
      "Duration of video [s]:  12.5 , recorded with  40.0 fps!\n",
      "Overall # of frames:  500  found with (before cropping) frame dimensions:  800 480\n",
      "Starting to extract posture\n"
     ]
    },
    {
     "name": "stderr",
     "output_type": "stream",
     "text": [
      "510it [00:26, 19.17it/s]                                                                                               \n"
     ]
    },
    {
     "name": "stdout",
     "output_type": "stream",
     "text": [
      "Saving results in D:\\Sidevideos\\AR35MOTOR\\2022_01_27...\n",
      "Saving csv poses!\n",
      "Starting to analyze %  D:\\Sidevideos\\AR35MOTOR\\2022_01_27\\415.avi\n",
      "Loading  D:\\Sidevideos\\AR35MOTOR\\2022_01_27\\415.avi\n",
      "Duration of video [s]:  12.5 , recorded with  40.0 fps!\n",
      "Overall # of frames:  500  found with (before cropping) frame dimensions:  800 480\n",
      "Starting to extract posture\n"
     ]
    },
    {
     "name": "stderr",
     "output_type": "stream",
     "text": [
      "510it [00:26, 19.19it/s]                                                                                               \n"
     ]
    },
    {
     "name": "stdout",
     "output_type": "stream",
     "text": [
      "Saving results in D:\\Sidevideos\\AR35MOTOR\\2022_01_27...\n",
      "Saving csv poses!\n",
      "Starting to analyze %  D:\\Sidevideos\\AR35MOTOR\\2022_01_27\\416.avi\n",
      "Loading  D:\\Sidevideos\\AR35MOTOR\\2022_01_27\\416.avi\n",
      "Duration of video [s]:  12.5 , recorded with  40.0 fps!\n",
      "Overall # of frames:  500  found with (before cropping) frame dimensions:  800 480\n",
      "Starting to extract posture\n"
     ]
    },
    {
     "name": "stderr",
     "output_type": "stream",
     "text": [
      "510it [00:26, 19.17it/s]                                                                                               \n"
     ]
    },
    {
     "name": "stdout",
     "output_type": "stream",
     "text": [
      "Saving results in D:\\Sidevideos\\AR35MOTOR\\2022_01_27...\n",
      "Saving csv poses!\n",
      "Starting to analyze %  D:\\Sidevideos\\AR35MOTOR\\2022_01_27\\417.avi\n",
      "Loading  D:\\Sidevideos\\AR35MOTOR\\2022_01_27\\417.avi\n",
      "Duration of video [s]:  12.5 , recorded with  40.0 fps!\n",
      "Overall # of frames:  500  found with (before cropping) frame dimensions:  800 480\n",
      "Starting to extract posture\n"
     ]
    },
    {
     "name": "stderr",
     "output_type": "stream",
     "text": [
      "510it [00:26, 19.11it/s]                                                                                               \n"
     ]
    },
    {
     "name": "stdout",
     "output_type": "stream",
     "text": [
      "Saving results in D:\\Sidevideos\\AR35MOTOR\\2022_01_27...\n",
      "Saving csv poses!\n",
      "Starting to analyze %  D:\\Sidevideos\\AR35MOTOR\\2022_01_27\\418.avi\n",
      "Loading  D:\\Sidevideos\\AR35MOTOR\\2022_01_27\\418.avi\n",
      "Duration of video [s]:  12.5 , recorded with  40.0 fps!\n",
      "Overall # of frames:  500  found with (before cropping) frame dimensions:  800 480\n",
      "Starting to extract posture\n"
     ]
    },
    {
     "name": "stderr",
     "output_type": "stream",
     "text": [
      "510it [00:26, 19.24it/s]                                                                                               \n"
     ]
    },
    {
     "name": "stdout",
     "output_type": "stream",
     "text": [
      "Saving results in D:\\Sidevideos\\AR35MOTOR\\2022_01_27...\n",
      "Saving csv poses!\n",
      "Starting to analyze %  D:\\Sidevideos\\AR35MOTOR\\2022_01_27\\419.avi\n",
      "Loading  D:\\Sidevideos\\AR35MOTOR\\2022_01_27\\419.avi\n",
      "Duration of video [s]:  12.5 , recorded with  40.0 fps!\n",
      "Overall # of frames:  500  found with (before cropping) frame dimensions:  800 480\n",
      "Starting to extract posture\n"
     ]
    },
    {
     "name": "stderr",
     "output_type": "stream",
     "text": [
      "510it [00:26, 19.20it/s]                                                                                               \n"
     ]
    },
    {
     "name": "stdout",
     "output_type": "stream",
     "text": [
      "Saving results in D:\\Sidevideos\\AR35MOTOR\\2022_01_27...\n",
      "Saving csv poses!\n",
      "Starting to analyze %  D:\\Sidevideos\\AR35MOTOR\\2022_01_27\\42.avi\n",
      "Loading  D:\\Sidevideos\\AR35MOTOR\\2022_01_27\\42.avi\n",
      "Duration of video [s]:  12.5 , recorded with  40.0 fps!\n",
      "Overall # of frames:  500  found with (before cropping) frame dimensions:  800 480\n",
      "Starting to extract posture\n"
     ]
    },
    {
     "name": "stderr",
     "output_type": "stream",
     "text": [
      "510it [00:26, 19.18it/s]                                                                                               \n"
     ]
    },
    {
     "name": "stdout",
     "output_type": "stream",
     "text": [
      "Saving results in D:\\Sidevideos\\AR35MOTOR\\2022_01_27...\n",
      "Saving csv poses!\n",
      "Starting to analyze %  D:\\Sidevideos\\AR35MOTOR\\2022_01_27\\420.avi\n",
      "Loading  D:\\Sidevideos\\AR35MOTOR\\2022_01_27\\420.avi\n",
      "Duration of video [s]:  12.5 , recorded with  40.0 fps!\n",
      "Overall # of frames:  500  found with (before cropping) frame dimensions:  800 480\n",
      "Starting to extract posture\n"
     ]
    },
    {
     "name": "stderr",
     "output_type": "stream",
     "text": [
      "510it [00:26, 19.18it/s]                                                                                               \n"
     ]
    },
    {
     "name": "stdout",
     "output_type": "stream",
     "text": [
      "Saving results in D:\\Sidevideos\\AR35MOTOR\\2022_01_27...\n",
      "Saving csv poses!\n",
      "Starting to analyze %  D:\\Sidevideos\\AR35MOTOR\\2022_01_27\\421.avi\n",
      "Loading  D:\\Sidevideos\\AR35MOTOR\\2022_01_27\\421.avi\n",
      "Duration of video [s]:  12.5 , recorded with  40.0 fps!\n",
      "Overall # of frames:  500  found with (before cropping) frame dimensions:  800 480\n",
      "Starting to extract posture\n"
     ]
    },
    {
     "name": "stderr",
     "output_type": "stream",
     "text": [
      "510it [00:26, 19.15it/s]                                                                                               \n"
     ]
    },
    {
     "name": "stdout",
     "output_type": "stream",
     "text": [
      "Saving results in D:\\Sidevideos\\AR35MOTOR\\2022_01_27...\n",
      "Saving csv poses!\n",
      "Starting to analyze %  D:\\Sidevideos\\AR35MOTOR\\2022_01_27\\422.avi\n",
      "Loading  D:\\Sidevideos\\AR35MOTOR\\2022_01_27\\422.avi\n",
      "Duration of video [s]:  12.5 , recorded with  40.0 fps!\n",
      "Overall # of frames:  500  found with (before cropping) frame dimensions:  800 480\n",
      "Starting to extract posture\n"
     ]
    },
    {
     "name": "stderr",
     "output_type": "stream",
     "text": [
      "510it [00:26, 19.13it/s]                                                                                               \n"
     ]
    },
    {
     "name": "stdout",
     "output_type": "stream",
     "text": [
      "Saving results in D:\\Sidevideos\\AR35MOTOR\\2022_01_27...\n",
      "Saving csv poses!\n",
      "Starting to analyze %  D:\\Sidevideos\\AR35MOTOR\\2022_01_27\\423.avi\n",
      "Loading  D:\\Sidevideos\\AR35MOTOR\\2022_01_27\\423.avi\n",
      "Duration of video [s]:  12.5 , recorded with  40.0 fps!\n",
      "Overall # of frames:  500  found with (before cropping) frame dimensions:  800 480\n",
      "Starting to extract posture\n"
     ]
    },
    {
     "name": "stderr",
     "output_type": "stream",
     "text": [
      "510it [00:26, 19.12it/s]                                                                                               \n"
     ]
    },
    {
     "name": "stdout",
     "output_type": "stream",
     "text": [
      "Saving results in D:\\Sidevideos\\AR35MOTOR\\2022_01_27...\n",
      "Saving csv poses!\n",
      "Starting to analyze %  D:\\Sidevideos\\AR35MOTOR\\2022_01_27\\424.avi\n",
      "Loading  D:\\Sidevideos\\AR35MOTOR\\2022_01_27\\424.avi\n",
      "Duration of video [s]:  12.5 , recorded with  40.0 fps!\n",
      "Overall # of frames:  500  found with (before cropping) frame dimensions:  800 480\n",
      "Starting to extract posture\n"
     ]
    },
    {
     "name": "stderr",
     "output_type": "stream",
     "text": [
      "510it [00:26, 19.20it/s]                                                                                               \n"
     ]
    },
    {
     "name": "stdout",
     "output_type": "stream",
     "text": [
      "Saving results in D:\\Sidevideos\\AR35MOTOR\\2022_01_27...\n",
      "Saving csv poses!\n",
      "Starting to analyze %  D:\\Sidevideos\\AR35MOTOR\\2022_01_27\\425.avi\n",
      "Loading  D:\\Sidevideos\\AR35MOTOR\\2022_01_27\\425.avi\n",
      "Duration of video [s]:  12.5 , recorded with  40.0 fps!\n",
      "Overall # of frames:  500  found with (before cropping) frame dimensions:  800 480\n",
      "Starting to extract posture\n"
     ]
    },
    {
     "name": "stderr",
     "output_type": "stream",
     "text": [
      "510it [00:26, 19.17it/s]                                                                                               \n"
     ]
    },
    {
     "name": "stdout",
     "output_type": "stream",
     "text": [
      "Saving results in D:\\Sidevideos\\AR35MOTOR\\2022_01_27...\n",
      "Saving csv poses!\n",
      "Starting to analyze %  D:\\Sidevideos\\AR35MOTOR\\2022_01_27\\426.avi\n",
      "Loading  D:\\Sidevideos\\AR35MOTOR\\2022_01_27\\426.avi\n",
      "Duration of video [s]:  12.5 , recorded with  40.0 fps!\n",
      "Overall # of frames:  500  found with (before cropping) frame dimensions:  800 480\n",
      "Starting to extract posture\n"
     ]
    },
    {
     "name": "stderr",
     "output_type": "stream",
     "text": [
      "510it [00:26, 19.18it/s]                                                                                               \n"
     ]
    },
    {
     "name": "stdout",
     "output_type": "stream",
     "text": [
      "Saving results in D:\\Sidevideos\\AR35MOTOR\\2022_01_27...\n",
      "Saving csv poses!\n",
      "Starting to analyze %  D:\\Sidevideos\\AR35MOTOR\\2022_01_27\\427.avi\n",
      "Loading  D:\\Sidevideos\\AR35MOTOR\\2022_01_27\\427.avi\n",
      "Duration of video [s]:  12.5 , recorded with  40.0 fps!\n",
      "Overall # of frames:  500  found with (before cropping) frame dimensions:  800 480\n",
      "Starting to extract posture\n"
     ]
    },
    {
     "name": "stderr",
     "output_type": "stream",
     "text": [
      "510it [00:26, 19.18it/s]                                                                                               \n"
     ]
    },
    {
     "name": "stdout",
     "output_type": "stream",
     "text": [
      "Saving results in D:\\Sidevideos\\AR35MOTOR\\2022_01_27...\n",
      "Saving csv poses!\n",
      "Starting to analyze %  D:\\Sidevideos\\AR35MOTOR\\2022_01_27\\428.avi\n",
      "Loading  D:\\Sidevideos\\AR35MOTOR\\2022_01_27\\428.avi\n",
      "Duration of video [s]:  12.5 , recorded with  40.0 fps!\n",
      "Overall # of frames:  500  found with (before cropping) frame dimensions:  800 480\n",
      "Starting to extract posture\n"
     ]
    },
    {
     "name": "stderr",
     "output_type": "stream",
     "text": [
      "510it [00:26, 19.19it/s]                                                                                               \n"
     ]
    },
    {
     "name": "stdout",
     "output_type": "stream",
     "text": [
      "Saving results in D:\\Sidevideos\\AR35MOTOR\\2022_01_27...\n",
      "Saving csv poses!\n",
      "Starting to analyze %  D:\\Sidevideos\\AR35MOTOR\\2022_01_27\\43.avi\n",
      "Loading  D:\\Sidevideos\\AR35MOTOR\\2022_01_27\\43.avi\n",
      "Duration of video [s]:  12.5 , recorded with  40.0 fps!\n",
      "Overall # of frames:  500  found with (before cropping) frame dimensions:  800 480\n",
      "Starting to extract posture\n"
     ]
    },
    {
     "name": "stderr",
     "output_type": "stream",
     "text": [
      "510it [00:26, 19.12it/s]                                                                                               \n"
     ]
    },
    {
     "name": "stdout",
     "output_type": "stream",
     "text": [
      "Saving results in D:\\Sidevideos\\AR35MOTOR\\2022_01_27...\n",
      "Saving csv poses!\n",
      "Starting to analyze %  D:\\Sidevideos\\AR35MOTOR\\2022_01_27\\44.avi\n",
      "Loading  D:\\Sidevideos\\AR35MOTOR\\2022_01_27\\44.avi\n",
      "Duration of video [s]:  12.5 , recorded with  40.0 fps!\n",
      "Overall # of frames:  500  found with (before cropping) frame dimensions:  800 480\n",
      "Starting to extract posture\n"
     ]
    },
    {
     "name": "stderr",
     "output_type": "stream",
     "text": [
      "510it [00:26, 19.15it/s]                                                                                               \n"
     ]
    },
    {
     "name": "stdout",
     "output_type": "stream",
     "text": [
      "Saving results in D:\\Sidevideos\\AR35MOTOR\\2022_01_27...\n",
      "Saving csv poses!\n",
      "Starting to analyze %  D:\\Sidevideos\\AR35MOTOR\\2022_01_27\\45.avi\n",
      "Loading  D:\\Sidevideos\\AR35MOTOR\\2022_01_27\\45.avi\n",
      "Duration of video [s]:  12.5 , recorded with  40.0 fps!\n",
      "Overall # of frames:  500  found with (before cropping) frame dimensions:  800 480\n",
      "Starting to extract posture\n"
     ]
    },
    {
     "name": "stderr",
     "output_type": "stream",
     "text": [
      "510it [00:26, 19.20it/s]                                                                                               \n"
     ]
    },
    {
     "name": "stdout",
     "output_type": "stream",
     "text": [
      "Saving results in D:\\Sidevideos\\AR35MOTOR\\2022_01_27...\n",
      "Saving csv poses!\n",
      "Starting to analyze %  D:\\Sidevideos\\AR35MOTOR\\2022_01_27\\46.avi\n",
      "Loading  D:\\Sidevideos\\AR35MOTOR\\2022_01_27\\46.avi\n",
      "Duration of video [s]:  12.5 , recorded with  40.0 fps!\n",
      "Overall # of frames:  500  found with (before cropping) frame dimensions:  800 480\n",
      "Starting to extract posture\n"
     ]
    },
    {
     "name": "stderr",
     "output_type": "stream",
     "text": [
      "510it [00:26, 19.15it/s]                                                                                               \n"
     ]
    },
    {
     "name": "stdout",
     "output_type": "stream",
     "text": [
      "Saving results in D:\\Sidevideos\\AR35MOTOR\\2022_01_27...\n",
      "Saving csv poses!\n",
      "Starting to analyze %  D:\\Sidevideos\\AR35MOTOR\\2022_01_27\\47.avi\n",
      "Loading  D:\\Sidevideos\\AR35MOTOR\\2022_01_27\\47.avi\n",
      "Duration of video [s]:  12.5 , recorded with  40.0 fps!\n",
      "Overall # of frames:  500  found with (before cropping) frame dimensions:  800 480\n",
      "Starting to extract posture\n"
     ]
    },
    {
     "name": "stderr",
     "output_type": "stream",
     "text": [
      "510it [00:26, 19.21it/s]                                                                                               \n"
     ]
    },
    {
     "name": "stdout",
     "output_type": "stream",
     "text": [
      "Saving results in D:\\Sidevideos\\AR35MOTOR\\2022_01_27...\n",
      "Saving csv poses!\n",
      "Starting to analyze %  D:\\Sidevideos\\AR35MOTOR\\2022_01_27\\48.avi\n",
      "Loading  D:\\Sidevideos\\AR35MOTOR\\2022_01_27\\48.avi\n",
      "Duration of video [s]:  12.5 , recorded with  40.0 fps!\n",
      "Overall # of frames:  500  found with (before cropping) frame dimensions:  800 480\n",
      "Starting to extract posture\n"
     ]
    },
    {
     "name": "stderr",
     "output_type": "stream",
     "text": [
      "510it [00:26, 19.15it/s]                                                                                               \n"
     ]
    },
    {
     "name": "stdout",
     "output_type": "stream",
     "text": [
      "Saving results in D:\\Sidevideos\\AR35MOTOR\\2022_01_27...\n",
      "Saving csv poses!\n",
      "Starting to analyze %  D:\\Sidevideos\\AR35MOTOR\\2022_01_27\\49.avi\n",
      "Loading  D:\\Sidevideos\\AR35MOTOR\\2022_01_27\\49.avi\n",
      "Duration of video [s]:  12.5 , recorded with  40.0 fps!\n",
      "Overall # of frames:  500  found with (before cropping) frame dimensions:  800 480\n",
      "Starting to extract posture\n"
     ]
    },
    {
     "name": "stderr",
     "output_type": "stream",
     "text": [
      "510it [00:26, 19.12it/s]                                                                                               \n"
     ]
    },
    {
     "name": "stdout",
     "output_type": "stream",
     "text": [
      "Saving results in D:\\Sidevideos\\AR35MOTOR\\2022_01_27...\n",
      "Saving csv poses!\n",
      "Starting to analyze %  D:\\Sidevideos\\AR35MOTOR\\2022_01_27\\5.avi\n",
      "Loading  D:\\Sidevideos\\AR35MOTOR\\2022_01_27\\5.avi\n",
      "Duration of video [s]:  12.5 , recorded with  40.0 fps!\n",
      "Overall # of frames:  500  found with (before cropping) frame dimensions:  800 480\n",
      "Starting to extract posture\n"
     ]
    },
    {
     "name": "stderr",
     "output_type": "stream",
     "text": [
      "510it [00:26, 19.16it/s]                                                                                               \n"
     ]
    },
    {
     "name": "stdout",
     "output_type": "stream",
     "text": [
      "Saving results in D:\\Sidevideos\\AR35MOTOR\\2022_01_27...\n",
      "Saving csv poses!\n",
      "Starting to analyze %  D:\\Sidevideos\\AR35MOTOR\\2022_01_27\\50.avi\n",
      "Loading  D:\\Sidevideos\\AR35MOTOR\\2022_01_27\\50.avi\n",
      "Duration of video [s]:  12.5 , recorded with  40.0 fps!\n",
      "Overall # of frames:  500  found with (before cropping) frame dimensions:  800 480\n",
      "Starting to extract posture\n"
     ]
    },
    {
     "name": "stderr",
     "output_type": "stream",
     "text": [
      "510it [00:26, 19.10it/s]                                                                                               \n"
     ]
    },
    {
     "name": "stdout",
     "output_type": "stream",
     "text": [
      "Saving results in D:\\Sidevideos\\AR35MOTOR\\2022_01_27...\n",
      "Saving csv poses!\n",
      "Starting to analyze %  D:\\Sidevideos\\AR35MOTOR\\2022_01_27\\51.avi\n",
      "Loading  D:\\Sidevideos\\AR35MOTOR\\2022_01_27\\51.avi\n",
      "Duration of video [s]:  12.5 , recorded with  40.0 fps!\n",
      "Overall # of frames:  500  found with (before cropping) frame dimensions:  800 480\n",
      "Starting to extract posture\n"
     ]
    },
    {
     "name": "stderr",
     "output_type": "stream",
     "text": [
      "510it [00:26, 19.17it/s]                                                                                               \n"
     ]
    },
    {
     "name": "stdout",
     "output_type": "stream",
     "text": [
      "Saving results in D:\\Sidevideos\\AR35MOTOR\\2022_01_27...\n",
      "Saving csv poses!\n",
      "Starting to analyze %  D:\\Sidevideos\\AR35MOTOR\\2022_01_27\\52.avi\n",
      "Loading  D:\\Sidevideos\\AR35MOTOR\\2022_01_27\\52.avi\n",
      "Duration of video [s]:  12.5 , recorded with  40.0 fps!\n",
      "Overall # of frames:  500  found with (before cropping) frame dimensions:  800 480\n",
      "Starting to extract posture\n"
     ]
    },
    {
     "name": "stderr",
     "output_type": "stream",
     "text": [
      "510it [00:26, 19.20it/s]                                                                                               \n"
     ]
    },
    {
     "name": "stdout",
     "output_type": "stream",
     "text": [
      "Saving results in D:\\Sidevideos\\AR35MOTOR\\2022_01_27...\n",
      "Saving csv poses!\n",
      "Starting to analyze %  D:\\Sidevideos\\AR35MOTOR\\2022_01_27\\53.avi\n",
      "Loading  D:\\Sidevideos\\AR35MOTOR\\2022_01_27\\53.avi\n",
      "Duration of video [s]:  12.5 , recorded with  40.0 fps!\n",
      "Overall # of frames:  500  found with (before cropping) frame dimensions:  800 480\n",
      "Starting to extract posture\n"
     ]
    },
    {
     "name": "stderr",
     "output_type": "stream",
     "text": [
      "510it [00:26, 19.21it/s]                                                                                               \n"
     ]
    },
    {
     "name": "stdout",
     "output_type": "stream",
     "text": [
      "Saving results in D:\\Sidevideos\\AR35MOTOR\\2022_01_27...\n",
      "Saving csv poses!\n",
      "Starting to analyze %  D:\\Sidevideos\\AR35MOTOR\\2022_01_27\\54.avi\n",
      "Loading  D:\\Sidevideos\\AR35MOTOR\\2022_01_27\\54.avi\n",
      "Duration of video [s]:  12.5 , recorded with  40.0 fps!\n",
      "Overall # of frames:  500  found with (before cropping) frame dimensions:  800 480\n",
      "Starting to extract posture\n"
     ]
    },
    {
     "name": "stderr",
     "output_type": "stream",
     "text": [
      "510it [00:24, 20.74it/s]                                                                                               \n"
     ]
    },
    {
     "name": "stdout",
     "output_type": "stream",
     "text": [
      "Saving results in D:\\Sidevideos\\AR35MOTOR\\2022_01_27...\n",
      "Saving csv poses!\n",
      "Starting to analyze %  D:\\Sidevideos\\AR35MOTOR\\2022_01_27\\55.avi\n",
      "Loading  D:\\Sidevideos\\AR35MOTOR\\2022_01_27\\55.avi\n",
      "Duration of video [s]:  12.5 , recorded with  40.0 fps!\n",
      "Overall # of frames:  500  found with (before cropping) frame dimensions:  800 480\n",
      "Starting to extract posture\n"
     ]
    },
    {
     "name": "stderr",
     "output_type": "stream",
     "text": [
      "510it [00:23, 21.38it/s]                                                                                               \n"
     ]
    },
    {
     "name": "stdout",
     "output_type": "stream",
     "text": [
      "Saving results in D:\\Sidevideos\\AR35MOTOR\\2022_01_27...\n",
      "Saving csv poses!\n",
      "Starting to analyze %  D:\\Sidevideos\\AR35MOTOR\\2022_01_27\\56.avi\n",
      "Loading  D:\\Sidevideos\\AR35MOTOR\\2022_01_27\\56.avi\n",
      "Duration of video [s]:  12.5 , recorded with  40.0 fps!\n",
      "Overall # of frames:  500  found with (before cropping) frame dimensions:  800 480\n",
      "Starting to extract posture\n"
     ]
    },
    {
     "name": "stderr",
     "output_type": "stream",
     "text": [
      "510it [00:23, 21.38it/s]                                                                                               \n"
     ]
    },
    {
     "name": "stdout",
     "output_type": "stream",
     "text": [
      "Saving results in D:\\Sidevideos\\AR35MOTOR\\2022_01_27...\n",
      "Saving csv poses!\n",
      "Starting to analyze %  D:\\Sidevideos\\AR35MOTOR\\2022_01_27\\57.avi\n",
      "Loading  D:\\Sidevideos\\AR35MOTOR\\2022_01_27\\57.avi\n",
      "Duration of video [s]:  12.5 , recorded with  40.0 fps!\n",
      "Overall # of frames:  500  found with (before cropping) frame dimensions:  800 480\n",
      "Starting to extract posture\n"
     ]
    },
    {
     "name": "stderr",
     "output_type": "stream",
     "text": [
      "510it [00:23, 21.33it/s]                                                                                               \n"
     ]
    },
    {
     "name": "stdout",
     "output_type": "stream",
     "text": [
      "Saving results in D:\\Sidevideos\\AR35MOTOR\\2022_01_27...\n",
      "Saving csv poses!\n",
      "Starting to analyze %  D:\\Sidevideos\\AR35MOTOR\\2022_01_27\\58.avi\n",
      "Loading  D:\\Sidevideos\\AR35MOTOR\\2022_01_27\\58.avi\n",
      "Duration of video [s]:  12.5 , recorded with  40.0 fps!\n",
      "Overall # of frames:  500  found with (before cropping) frame dimensions:  800 480\n",
      "Starting to extract posture\n"
     ]
    },
    {
     "name": "stderr",
     "output_type": "stream",
     "text": [
      "510it [00:23, 21.41it/s]                                                                                               \n"
     ]
    },
    {
     "name": "stdout",
     "output_type": "stream",
     "text": [
      "Saving results in D:\\Sidevideos\\AR35MOTOR\\2022_01_27...\n",
      "Saving csv poses!\n",
      "Starting to analyze %  D:\\Sidevideos\\AR35MOTOR\\2022_01_27\\59.avi\n",
      "Loading  D:\\Sidevideos\\AR35MOTOR\\2022_01_27\\59.avi\n",
      "Duration of video [s]:  12.5 , recorded with  40.0 fps!\n",
      "Overall # of frames:  500  found with (before cropping) frame dimensions:  800 480\n",
      "Starting to extract posture\n"
     ]
    },
    {
     "name": "stderr",
     "output_type": "stream",
     "text": [
      "510it [00:23, 21.34it/s]                                                                                               \n"
     ]
    },
    {
     "name": "stdout",
     "output_type": "stream",
     "text": [
      "Saving results in D:\\Sidevideos\\AR35MOTOR\\2022_01_27...\n",
      "Saving csv poses!\n",
      "Starting to analyze %  D:\\Sidevideos\\AR35MOTOR\\2022_01_27\\6.avi\n",
      "Loading  D:\\Sidevideos\\AR35MOTOR\\2022_01_27\\6.avi\n",
      "Duration of video [s]:  12.5 , recorded with  40.0 fps!\n",
      "Overall # of frames:  500  found with (before cropping) frame dimensions:  800 480\n",
      "Starting to extract posture\n"
     ]
    },
    {
     "name": "stderr",
     "output_type": "stream",
     "text": [
      "510it [00:23, 21.38it/s]                                                                                               \n"
     ]
    },
    {
     "name": "stdout",
     "output_type": "stream",
     "text": [
      "Saving results in D:\\Sidevideos\\AR35MOTOR\\2022_01_27...\n",
      "Saving csv poses!\n",
      "Starting to analyze %  D:\\Sidevideos\\AR35MOTOR\\2022_01_27\\60.avi\n",
      "Loading  D:\\Sidevideos\\AR35MOTOR\\2022_01_27\\60.avi\n",
      "Duration of video [s]:  12.5 , recorded with  40.0 fps!\n",
      "Overall # of frames:  500  found with (before cropping) frame dimensions:  800 480\n",
      "Starting to extract posture\n"
     ]
    },
    {
     "name": "stderr",
     "output_type": "stream",
     "text": [
      "510it [00:23, 21.30it/s]                                                                                               \n"
     ]
    },
    {
     "name": "stdout",
     "output_type": "stream",
     "text": [
      "Saving results in D:\\Sidevideos\\AR35MOTOR\\2022_01_27...\n",
      "Saving csv poses!\n",
      "Starting to analyze %  D:\\Sidevideos\\AR35MOTOR\\2022_01_27\\61.avi\n",
      "Loading  D:\\Sidevideos\\AR35MOTOR\\2022_01_27\\61.avi\n",
      "Duration of video [s]:  12.5 , recorded with  40.0 fps!\n",
      "Overall # of frames:  500  found with (before cropping) frame dimensions:  800 480\n",
      "Starting to extract posture\n"
     ]
    },
    {
     "name": "stderr",
     "output_type": "stream",
     "text": [
      "510it [00:23, 21.31it/s]                                                                                               \n"
     ]
    },
    {
     "name": "stdout",
     "output_type": "stream",
     "text": [
      "Saving results in D:\\Sidevideos\\AR35MOTOR\\2022_01_27...\n",
      "Saving csv poses!\n",
      "Starting to analyze %  D:\\Sidevideos\\AR35MOTOR\\2022_01_27\\62.avi\n",
      "Loading  D:\\Sidevideos\\AR35MOTOR\\2022_01_27\\62.avi\n",
      "Duration of video [s]:  12.5 , recorded with  40.0 fps!\n",
      "Overall # of frames:  500  found with (before cropping) frame dimensions:  800 480\n",
      "Starting to extract posture\n"
     ]
    },
    {
     "name": "stderr",
     "output_type": "stream",
     "text": [
      "510it [00:23, 21.40it/s]                                                                                               \n"
     ]
    },
    {
     "name": "stdout",
     "output_type": "stream",
     "text": [
      "Saving results in D:\\Sidevideos\\AR35MOTOR\\2022_01_27...\n",
      "Saving csv poses!\n",
      "Starting to analyze %  D:\\Sidevideos\\AR35MOTOR\\2022_01_27\\63.avi\n",
      "Loading  D:\\Sidevideos\\AR35MOTOR\\2022_01_27\\63.avi\n",
      "Duration of video [s]:  12.5 , recorded with  40.0 fps!\n",
      "Overall # of frames:  500  found with (before cropping) frame dimensions:  800 480\n",
      "Starting to extract posture\n"
     ]
    },
    {
     "name": "stderr",
     "output_type": "stream",
     "text": [
      "510it [00:23, 21.39it/s]                                                                                               \n"
     ]
    },
    {
     "name": "stdout",
     "output_type": "stream",
     "text": [
      "Saving results in D:\\Sidevideos\\AR35MOTOR\\2022_01_27...\n",
      "Saving csv poses!\n",
      "Starting to analyze %  D:\\Sidevideos\\AR35MOTOR\\2022_01_27\\64.avi\n",
      "Loading  D:\\Sidevideos\\AR35MOTOR\\2022_01_27\\64.avi\n",
      "Duration of video [s]:  12.5 , recorded with  40.0 fps!\n",
      "Overall # of frames:  500  found with (before cropping) frame dimensions:  800 480\n",
      "Starting to extract posture\n"
     ]
    },
    {
     "name": "stderr",
     "output_type": "stream",
     "text": [
      "510it [00:23, 21.33it/s]                                                                                               \n"
     ]
    },
    {
     "name": "stdout",
     "output_type": "stream",
     "text": [
      "Saving results in D:\\Sidevideos\\AR35MOTOR\\2022_01_27...\n",
      "Saving csv poses!\n",
      "Starting to analyze %  D:\\Sidevideos\\AR35MOTOR\\2022_01_27\\65.avi\n",
      "Loading  D:\\Sidevideos\\AR35MOTOR\\2022_01_27\\65.avi\n",
      "Duration of video [s]:  12.5 , recorded with  40.0 fps!\n",
      "Overall # of frames:  500  found with (before cropping) frame dimensions:  800 480\n",
      "Starting to extract posture\n"
     ]
    },
    {
     "name": "stderr",
     "output_type": "stream",
     "text": [
      "510it [00:23, 21.35it/s]                                                                                               \n"
     ]
    },
    {
     "name": "stdout",
     "output_type": "stream",
     "text": [
      "Saving results in D:\\Sidevideos\\AR35MOTOR\\2022_01_27...\n",
      "Saving csv poses!\n",
      "Starting to analyze %  D:\\Sidevideos\\AR35MOTOR\\2022_01_27\\66.avi\n",
      "Loading  D:\\Sidevideos\\AR35MOTOR\\2022_01_27\\66.avi\n",
      "Duration of video [s]:  12.5 , recorded with  40.0 fps!\n",
      "Overall # of frames:  500  found with (before cropping) frame dimensions:  800 480\n",
      "Starting to extract posture\n"
     ]
    },
    {
     "name": "stderr",
     "output_type": "stream",
     "text": [
      "510it [00:23, 21.35it/s]                                                                                               \n"
     ]
    },
    {
     "name": "stdout",
     "output_type": "stream",
     "text": [
      "Saving results in D:\\Sidevideos\\AR35MOTOR\\2022_01_27...\n",
      "Saving csv poses!\n",
      "Starting to analyze %  D:\\Sidevideos\\AR35MOTOR\\2022_01_27\\67.avi\n",
      "Loading  D:\\Sidevideos\\AR35MOTOR\\2022_01_27\\67.avi\n",
      "Duration of video [s]:  12.5 , recorded with  40.0 fps!\n",
      "Overall # of frames:  500  found with (before cropping) frame dimensions:  800 480\n",
      "Starting to extract posture\n"
     ]
    },
    {
     "name": "stderr",
     "output_type": "stream",
     "text": [
      "510it [00:23, 21.33it/s]                                                                                               \n"
     ]
    },
    {
     "name": "stdout",
     "output_type": "stream",
     "text": [
      "Saving results in D:\\Sidevideos\\AR35MOTOR\\2022_01_27...\n",
      "Saving csv poses!\n",
      "Starting to analyze %  D:\\Sidevideos\\AR35MOTOR\\2022_01_27\\68.avi\n",
      "Loading  D:\\Sidevideos\\AR35MOTOR\\2022_01_27\\68.avi\n",
      "Duration of video [s]:  12.5 , recorded with  40.0 fps!\n",
      "Overall # of frames:  500  found with (before cropping) frame dimensions:  800 480\n",
      "Starting to extract posture\n"
     ]
    },
    {
     "name": "stderr",
     "output_type": "stream",
     "text": [
      "510it [00:23, 21.30it/s]                                                                                               \n"
     ]
    },
    {
     "name": "stdout",
     "output_type": "stream",
     "text": [
      "Saving results in D:\\Sidevideos\\AR35MOTOR\\2022_01_27...\n",
      "Saving csv poses!\n",
      "Starting to analyze %  D:\\Sidevideos\\AR35MOTOR\\2022_01_27\\69.avi\n",
      "Loading  D:\\Sidevideos\\AR35MOTOR\\2022_01_27\\69.avi\n",
      "Duration of video [s]:  12.5 , recorded with  40.0 fps!\n",
      "Overall # of frames:  500  found with (before cropping) frame dimensions:  800 480\n",
      "Starting to extract posture\n"
     ]
    },
    {
     "name": "stderr",
     "output_type": "stream",
     "text": [
      "510it [00:23, 21.32it/s]                                                                                               \n"
     ]
    },
    {
     "name": "stdout",
     "output_type": "stream",
     "text": [
      "Saving results in D:\\Sidevideos\\AR35MOTOR\\2022_01_27...\n",
      "Saving csv poses!\n",
      "Starting to analyze %  D:\\Sidevideos\\AR35MOTOR\\2022_01_27\\7.avi\n",
      "Loading  D:\\Sidevideos\\AR35MOTOR\\2022_01_27\\7.avi\n",
      "Duration of video [s]:  12.5 , recorded with  40.0 fps!\n",
      "Overall # of frames:  500  found with (before cropping) frame dimensions:  800 480\n",
      "Starting to extract posture\n"
     ]
    },
    {
     "name": "stderr",
     "output_type": "stream",
     "text": [
      "510it [00:23, 21.37it/s]                                                                                               \n"
     ]
    },
    {
     "name": "stdout",
     "output_type": "stream",
     "text": [
      "Saving results in D:\\Sidevideos\\AR35MOTOR\\2022_01_27...\n",
      "Saving csv poses!\n",
      "Starting to analyze %  D:\\Sidevideos\\AR35MOTOR\\2022_01_27\\70.avi\n",
      "Loading  D:\\Sidevideos\\AR35MOTOR\\2022_01_27\\70.avi\n",
      "Duration of video [s]:  12.5 , recorded with  40.0 fps!\n",
      "Overall # of frames:  500  found with (before cropping) frame dimensions:  800 480\n",
      "Starting to extract posture\n"
     ]
    },
    {
     "name": "stderr",
     "output_type": "stream",
     "text": [
      "510it [00:23, 21.27it/s]                                                                                               \n"
     ]
    },
    {
     "name": "stdout",
     "output_type": "stream",
     "text": [
      "Saving results in D:\\Sidevideos\\AR35MOTOR\\2022_01_27...\n",
      "Saving csv poses!\n",
      "Starting to analyze %  D:\\Sidevideos\\AR35MOTOR\\2022_01_27\\71.avi\n",
      "Loading  D:\\Sidevideos\\AR35MOTOR\\2022_01_27\\71.avi\n",
      "Duration of video [s]:  12.5 , recorded with  40.0 fps!\n",
      "Overall # of frames:  500  found with (before cropping) frame dimensions:  800 480\n",
      "Starting to extract posture\n"
     ]
    },
    {
     "name": "stderr",
     "output_type": "stream",
     "text": [
      "510it [00:23, 21.38it/s]                                                                                               \n"
     ]
    },
    {
     "name": "stdout",
     "output_type": "stream",
     "text": [
      "Saving results in D:\\Sidevideos\\AR35MOTOR\\2022_01_27...\n",
      "Saving csv poses!\n",
      "Starting to analyze %  D:\\Sidevideos\\AR35MOTOR\\2022_01_27\\72.avi\n",
      "Loading  D:\\Sidevideos\\AR35MOTOR\\2022_01_27\\72.avi\n",
      "Duration of video [s]:  12.5 , recorded with  40.0 fps!\n",
      "Overall # of frames:  500  found with (before cropping) frame dimensions:  800 480\n",
      "Starting to extract posture\n"
     ]
    },
    {
     "name": "stderr",
     "output_type": "stream",
     "text": [
      "510it [00:23, 21.31it/s]                                                                                               \n"
     ]
    },
    {
     "name": "stdout",
     "output_type": "stream",
     "text": [
      "Saving results in D:\\Sidevideos\\AR35MOTOR\\2022_01_27...\n",
      "Saving csv poses!\n",
      "Starting to analyze %  D:\\Sidevideos\\AR35MOTOR\\2022_01_27\\73.avi\n",
      "Loading  D:\\Sidevideos\\AR35MOTOR\\2022_01_27\\73.avi\n",
      "Duration of video [s]:  12.5 , recorded with  40.0 fps!\n",
      "Overall # of frames:  500  found with (before cropping) frame dimensions:  800 480\n",
      "Starting to extract posture\n"
     ]
    },
    {
     "name": "stderr",
     "output_type": "stream",
     "text": [
      "510it [00:23, 21.32it/s]                                                                                               \n"
     ]
    },
    {
     "name": "stdout",
     "output_type": "stream",
     "text": [
      "Saving results in D:\\Sidevideos\\AR35MOTOR\\2022_01_27...\n",
      "Saving csv poses!\n",
      "Starting to analyze %  D:\\Sidevideos\\AR35MOTOR\\2022_01_27\\74.avi\n",
      "Loading  D:\\Sidevideos\\AR35MOTOR\\2022_01_27\\74.avi\n",
      "Duration of video [s]:  12.5 , recorded with  40.0 fps!\n",
      "Overall # of frames:  500  found with (before cropping) frame dimensions:  800 480\n",
      "Starting to extract posture\n"
     ]
    },
    {
     "name": "stderr",
     "output_type": "stream",
     "text": [
      "510it [00:23, 21.36it/s]                                                                                               \n"
     ]
    },
    {
     "name": "stdout",
     "output_type": "stream",
     "text": [
      "Saving results in D:\\Sidevideos\\AR35MOTOR\\2022_01_27...\n",
      "Saving csv poses!\n",
      "Starting to analyze %  D:\\Sidevideos\\AR35MOTOR\\2022_01_27\\75.avi\n",
      "Loading  D:\\Sidevideos\\AR35MOTOR\\2022_01_27\\75.avi\n",
      "Duration of video [s]:  12.5 , recorded with  40.0 fps!\n",
      "Overall # of frames:  500  found with (before cropping) frame dimensions:  800 480\n",
      "Starting to extract posture\n"
     ]
    },
    {
     "name": "stderr",
     "output_type": "stream",
     "text": [
      "510it [00:23, 21.44it/s]                                                                                               \n"
     ]
    },
    {
     "name": "stdout",
     "output_type": "stream",
     "text": [
      "Saving results in D:\\Sidevideos\\AR35MOTOR\\2022_01_27...\n",
      "Saving csv poses!\n",
      "Starting to analyze %  D:\\Sidevideos\\AR35MOTOR\\2022_01_27\\76.avi\n",
      "Loading  D:\\Sidevideos\\AR35MOTOR\\2022_01_27\\76.avi\n",
      "Duration of video [s]:  12.5 , recorded with  40.0 fps!\n",
      "Overall # of frames:  500  found with (before cropping) frame dimensions:  800 480\n",
      "Starting to extract posture\n"
     ]
    },
    {
     "name": "stderr",
     "output_type": "stream",
     "text": [
      "510it [00:23, 21.44it/s]                                                                                               \n"
     ]
    },
    {
     "name": "stdout",
     "output_type": "stream",
     "text": [
      "Saving results in D:\\Sidevideos\\AR35MOTOR\\2022_01_27...\n",
      "Saving csv poses!\n",
      "Starting to analyze %  D:\\Sidevideos\\AR35MOTOR\\2022_01_27\\77.avi\n",
      "Loading  D:\\Sidevideos\\AR35MOTOR\\2022_01_27\\77.avi\n",
      "Duration of video [s]:  12.5 , recorded with  40.0 fps!\n",
      "Overall # of frames:  500  found with (before cropping) frame dimensions:  800 480\n",
      "Starting to extract posture\n"
     ]
    },
    {
     "name": "stderr",
     "output_type": "stream",
     "text": [
      "510it [00:23, 21.35it/s]                                                                                               \n"
     ]
    },
    {
     "name": "stdout",
     "output_type": "stream",
     "text": [
      "Saving results in D:\\Sidevideos\\AR35MOTOR\\2022_01_27...\n",
      "Saving csv poses!\n",
      "Starting to analyze %  D:\\Sidevideos\\AR35MOTOR\\2022_01_27\\78.avi\n",
      "Loading  D:\\Sidevideos\\AR35MOTOR\\2022_01_27\\78.avi\n",
      "Duration of video [s]:  12.5 , recorded with  40.0 fps!\n",
      "Overall # of frames:  500  found with (before cropping) frame dimensions:  800 480\n",
      "Starting to extract posture\n"
     ]
    },
    {
     "name": "stderr",
     "output_type": "stream",
     "text": [
      "510it [00:23, 21.40it/s]                                                                                               \n"
     ]
    },
    {
     "name": "stdout",
     "output_type": "stream",
     "text": [
      "Saving results in D:\\Sidevideos\\AR35MOTOR\\2022_01_27...\n",
      "Saving csv poses!\n",
      "Starting to analyze %  D:\\Sidevideos\\AR35MOTOR\\2022_01_27\\79.avi\n",
      "Loading  D:\\Sidevideos\\AR35MOTOR\\2022_01_27\\79.avi\n",
      "Duration of video [s]:  12.5 , recorded with  40.0 fps!\n",
      "Overall # of frames:  500  found with (before cropping) frame dimensions:  800 480\n",
      "Starting to extract posture\n"
     ]
    },
    {
     "name": "stderr",
     "output_type": "stream",
     "text": [
      "510it [00:23, 21.43it/s]                                                                                               \n"
     ]
    },
    {
     "name": "stdout",
     "output_type": "stream",
     "text": [
      "Saving results in D:\\Sidevideos\\AR35MOTOR\\2022_01_27...\n",
      "Saving csv poses!\n",
      "Starting to analyze %  D:\\Sidevideos\\AR35MOTOR\\2022_01_27\\8.avi\n",
      "Loading  D:\\Sidevideos\\AR35MOTOR\\2022_01_27\\8.avi\n",
      "Duration of video [s]:  12.5 , recorded with  40.0 fps!\n",
      "Overall # of frames:  500  found with (before cropping) frame dimensions:  800 480\n",
      "Starting to extract posture\n"
     ]
    },
    {
     "name": "stderr",
     "output_type": "stream",
     "text": [
      "510it [00:23, 21.35it/s]                                                                                               \n"
     ]
    },
    {
     "name": "stdout",
     "output_type": "stream",
     "text": [
      "Saving results in D:\\Sidevideos\\AR35MOTOR\\2022_01_27...\n",
      "Saving csv poses!\n",
      "Starting to analyze %  D:\\Sidevideos\\AR35MOTOR\\2022_01_27\\80.avi\n",
      "Loading  D:\\Sidevideos\\AR35MOTOR\\2022_01_27\\80.avi\n",
      "Duration of video [s]:  12.5 , recorded with  40.0 fps!\n",
      "Overall # of frames:  500  found with (before cropping) frame dimensions:  800 480\n",
      "Starting to extract posture\n"
     ]
    },
    {
     "name": "stderr",
     "output_type": "stream",
     "text": [
      "510it [00:23, 21.41it/s]                                                                                               \n"
     ]
    },
    {
     "name": "stdout",
     "output_type": "stream",
     "text": [
      "Saving results in D:\\Sidevideos\\AR35MOTOR\\2022_01_27...\n",
      "Saving csv poses!\n",
      "Starting to analyze %  D:\\Sidevideos\\AR35MOTOR\\2022_01_27\\81.avi\n",
      "Loading  D:\\Sidevideos\\AR35MOTOR\\2022_01_27\\81.avi\n",
      "Duration of video [s]:  12.5 , recorded with  40.0 fps!\n",
      "Overall # of frames:  500  found with (before cropping) frame dimensions:  800 480\n",
      "Starting to extract posture\n"
     ]
    },
    {
     "name": "stderr",
     "output_type": "stream",
     "text": [
      "510it [00:23, 21.25it/s]                                                                                               \n"
     ]
    },
    {
     "name": "stdout",
     "output_type": "stream",
     "text": [
      "Saving results in D:\\Sidevideos\\AR35MOTOR\\2022_01_27...\n",
      "Saving csv poses!\n",
      "Starting to analyze %  D:\\Sidevideos\\AR35MOTOR\\2022_01_27\\82.avi\n",
      "Loading  D:\\Sidevideos\\AR35MOTOR\\2022_01_27\\82.avi\n",
      "Duration of video [s]:  12.5 , recorded with  40.0 fps!\n",
      "Overall # of frames:  500  found with (before cropping) frame dimensions:  800 480\n",
      "Starting to extract posture\n"
     ]
    },
    {
     "name": "stderr",
     "output_type": "stream",
     "text": [
      "510it [00:24, 21.21it/s]                                                                                               \n"
     ]
    },
    {
     "name": "stdout",
     "output_type": "stream",
     "text": [
      "Saving results in D:\\Sidevideos\\AR35MOTOR\\2022_01_27...\n",
      "Saving csv poses!\n",
      "Starting to analyze %  D:\\Sidevideos\\AR35MOTOR\\2022_01_27\\83.avi\n",
      "Loading  D:\\Sidevideos\\AR35MOTOR\\2022_01_27\\83.avi\n",
      "Duration of video [s]:  12.5 , recorded with  40.0 fps!\n",
      "Overall # of frames:  500  found with (before cropping) frame dimensions:  800 480\n",
      "Starting to extract posture\n"
     ]
    },
    {
     "name": "stderr",
     "output_type": "stream",
     "text": [
      "510it [00:24, 21.15it/s]                                                                                               \n"
     ]
    },
    {
     "name": "stdout",
     "output_type": "stream",
     "text": [
      "Saving results in D:\\Sidevideos\\AR35MOTOR\\2022_01_27...\n",
      "Saving csv poses!\n",
      "Starting to analyze %  D:\\Sidevideos\\AR35MOTOR\\2022_01_27\\84.avi\n",
      "Loading  D:\\Sidevideos\\AR35MOTOR\\2022_01_27\\84.avi\n",
      "Duration of video [s]:  12.5 , recorded with  40.0 fps!\n",
      "Overall # of frames:  500  found with (before cropping) frame dimensions:  800 480\n",
      "Starting to extract posture\n"
     ]
    },
    {
     "name": "stderr",
     "output_type": "stream",
     "text": [
      "510it [00:24, 21.14it/s]                                                                                               \n"
     ]
    },
    {
     "name": "stdout",
     "output_type": "stream",
     "text": [
      "Saving results in D:\\Sidevideos\\AR35MOTOR\\2022_01_27...\n",
      "Saving csv poses!\n",
      "Starting to analyze %  D:\\Sidevideos\\AR35MOTOR\\2022_01_27\\85.avi\n",
      "Loading  D:\\Sidevideos\\AR35MOTOR\\2022_01_27\\85.avi\n",
      "Duration of video [s]:  12.5 , recorded with  40.0 fps!\n",
      "Overall # of frames:  500  found with (before cropping) frame dimensions:  800 480\n",
      "Starting to extract posture\n"
     ]
    },
    {
     "name": "stderr",
     "output_type": "stream",
     "text": [
      "510it [00:24, 20.55it/s]                                                                                               \n"
     ]
    },
    {
     "name": "stdout",
     "output_type": "stream",
     "text": [
      "Saving results in D:\\Sidevideos\\AR35MOTOR\\2022_01_27...\n",
      "Saving csv poses!\n",
      "Starting to analyze %  D:\\Sidevideos\\AR35MOTOR\\2022_01_27\\86.avi\n",
      "Loading  D:\\Sidevideos\\AR35MOTOR\\2022_01_27\\86.avi\n",
      "Duration of video [s]:  12.5 , recorded with  40.0 fps!\n",
      "Overall # of frames:  500  found with (before cropping) frame dimensions:  800 480\n",
      "Starting to extract posture\n"
     ]
    },
    {
     "name": "stderr",
     "output_type": "stream",
     "text": [
      "510it [00:24, 20.89it/s]                                                                                               \n"
     ]
    },
    {
     "name": "stdout",
     "output_type": "stream",
     "text": [
      "Saving results in D:\\Sidevideos\\AR35MOTOR\\2022_01_27...\n",
      "Saving csv poses!\n",
      "Starting to analyze %  D:\\Sidevideos\\AR35MOTOR\\2022_01_27\\87.avi\n",
      "Loading  D:\\Sidevideos\\AR35MOTOR\\2022_01_27\\87.avi\n",
      "Duration of video [s]:  12.5 , recorded with  40.0 fps!\n",
      "Overall # of frames:  500  found with (before cropping) frame dimensions:  800 480\n",
      "Starting to extract posture\n"
     ]
    },
    {
     "name": "stderr",
     "output_type": "stream",
     "text": [
      "510it [00:23, 21.49it/s]                                                                                               \n"
     ]
    },
    {
     "name": "stdout",
     "output_type": "stream",
     "text": [
      "Saving results in D:\\Sidevideos\\AR35MOTOR\\2022_01_27...\n",
      "Saving csv poses!\n",
      "Starting to analyze %  D:\\Sidevideos\\AR35MOTOR\\2022_01_27\\88.avi\n",
      "Loading  D:\\Sidevideos\\AR35MOTOR\\2022_01_27\\88.avi\n",
      "Duration of video [s]:  12.5 , recorded with  40.0 fps!\n",
      "Overall # of frames:  500  found with (before cropping) frame dimensions:  800 480\n",
      "Starting to extract posture\n"
     ]
    },
    {
     "name": "stderr",
     "output_type": "stream",
     "text": [
      "510it [00:23, 21.41it/s]                                                                                               \n"
     ]
    },
    {
     "name": "stdout",
     "output_type": "stream",
     "text": [
      "Saving results in D:\\Sidevideos\\AR35MOTOR\\2022_01_27...\n",
      "Saving csv poses!\n",
      "Starting to analyze %  D:\\Sidevideos\\AR35MOTOR\\2022_01_27\\89.avi\n",
      "Loading  D:\\Sidevideos\\AR35MOTOR\\2022_01_27\\89.avi\n",
      "Duration of video [s]:  12.5 , recorded with  40.0 fps!\n",
      "Overall # of frames:  500  found with (before cropping) frame dimensions:  800 480\n",
      "Starting to extract posture\n"
     ]
    },
    {
     "name": "stderr",
     "output_type": "stream",
     "text": [
      "510it [00:24, 20.88it/s]                                                                                               \n"
     ]
    },
    {
     "name": "stdout",
     "output_type": "stream",
     "text": [
      "Saving results in D:\\Sidevideos\\AR35MOTOR\\2022_01_27...\n",
      "Saving csv poses!\n",
      "Starting to analyze %  D:\\Sidevideos\\AR35MOTOR\\2022_01_27\\9.avi\n",
      "Loading  D:\\Sidevideos\\AR35MOTOR\\2022_01_27\\9.avi\n",
      "Duration of video [s]:  12.5 , recorded with  40.0 fps!\n",
      "Overall # of frames:  500  found with (before cropping) frame dimensions:  800 480\n",
      "Starting to extract posture\n"
     ]
    },
    {
     "name": "stderr",
     "output_type": "stream",
     "text": [
      "510it [00:24, 21.10it/s]                                                                                               \n"
     ]
    },
    {
     "name": "stdout",
     "output_type": "stream",
     "text": [
      "Saving results in D:\\Sidevideos\\AR35MOTOR\\2022_01_27...\n",
      "Saving csv poses!\n",
      "Starting to analyze %  D:\\Sidevideos\\AR35MOTOR\\2022_01_27\\90.avi\n",
      "Loading  D:\\Sidevideos\\AR35MOTOR\\2022_01_27\\90.avi\n",
      "Duration of video [s]:  12.5 , recorded with  40.0 fps!\n",
      "Overall # of frames:  500  found with (before cropping) frame dimensions:  800 480\n",
      "Starting to extract posture\n"
     ]
    },
    {
     "name": "stderr",
     "output_type": "stream",
     "text": [
      "510it [00:23, 21.30it/s]                                                                                               \n"
     ]
    },
    {
     "name": "stdout",
     "output_type": "stream",
     "text": [
      "Saving results in D:\\Sidevideos\\AR35MOTOR\\2022_01_27...\n",
      "Saving csv poses!\n",
      "Starting to analyze %  D:\\Sidevideos\\AR35MOTOR\\2022_01_27\\91.avi\n",
      "Loading  D:\\Sidevideos\\AR35MOTOR\\2022_01_27\\91.avi\n",
      "Duration of video [s]:  12.5 , recorded with  40.0 fps!\n",
      "Overall # of frames:  500  found with (before cropping) frame dimensions:  800 480\n",
      "Starting to extract posture\n"
     ]
    },
    {
     "name": "stderr",
     "output_type": "stream",
     "text": [
      "510it [00:23, 21.35it/s]                                                                                               \n"
     ]
    },
    {
     "name": "stdout",
     "output_type": "stream",
     "text": [
      "Saving results in D:\\Sidevideos\\AR35MOTOR\\2022_01_27...\n",
      "Saving csv poses!\n",
      "Starting to analyze %  D:\\Sidevideos\\AR35MOTOR\\2022_01_27\\92.avi\n",
      "Loading  D:\\Sidevideos\\AR35MOTOR\\2022_01_27\\92.avi\n",
      "Duration of video [s]:  12.5 , recorded with  40.0 fps!\n",
      "Overall # of frames:  500  found with (before cropping) frame dimensions:  800 480\n",
      "Starting to extract posture\n"
     ]
    },
    {
     "name": "stderr",
     "output_type": "stream",
     "text": [
      "510it [00:23, 21.26it/s]                                                                                               \n"
     ]
    },
    {
     "name": "stdout",
     "output_type": "stream",
     "text": [
      "Saving results in D:\\Sidevideos\\AR35MOTOR\\2022_01_27...\n",
      "Saving csv poses!\n",
      "Starting to analyze %  D:\\Sidevideos\\AR35MOTOR\\2022_01_27\\93.avi\n",
      "Loading  D:\\Sidevideos\\AR35MOTOR\\2022_01_27\\93.avi\n",
      "Duration of video [s]:  12.5 , recorded with  40.0 fps!\n",
      "Overall # of frames:  500  found with (before cropping) frame dimensions:  800 480\n",
      "Starting to extract posture\n"
     ]
    },
    {
     "name": "stderr",
     "output_type": "stream",
     "text": [
      "510it [00:23, 21.42it/s]                                                                                               \n"
     ]
    },
    {
     "name": "stdout",
     "output_type": "stream",
     "text": [
      "Saving results in D:\\Sidevideos\\AR35MOTOR\\2022_01_27...\n",
      "Saving csv poses!\n",
      "Starting to analyze %  D:\\Sidevideos\\AR35MOTOR\\2022_01_27\\94.avi\n",
      "Loading  D:\\Sidevideos\\AR35MOTOR\\2022_01_27\\94.avi\n",
      "Duration of video [s]:  12.5 , recorded with  40.0 fps!\n",
      "Overall # of frames:  500  found with (before cropping) frame dimensions:  800 480\n",
      "Starting to extract posture\n"
     ]
    },
    {
     "name": "stderr",
     "output_type": "stream",
     "text": [
      "510it [00:23, 21.34it/s]                                                                                               \n"
     ]
    },
    {
     "name": "stdout",
     "output_type": "stream",
     "text": [
      "Saving results in D:\\Sidevideos\\AR35MOTOR\\2022_01_27...\n",
      "Saving csv poses!\n",
      "Starting to analyze %  D:\\Sidevideos\\AR35MOTOR\\2022_01_27\\95.avi\n",
      "Loading  D:\\Sidevideos\\AR35MOTOR\\2022_01_27\\95.avi\n",
      "Duration of video [s]:  12.5 , recorded with  40.0 fps!\n",
      "Overall # of frames:  500  found with (before cropping) frame dimensions:  800 480\n",
      "Starting to extract posture\n"
     ]
    },
    {
     "name": "stderr",
     "output_type": "stream",
     "text": [
      "510it [00:24, 21.15it/s]                                                                                               \n"
     ]
    },
    {
     "name": "stdout",
     "output_type": "stream",
     "text": [
      "Saving results in D:\\Sidevideos\\AR35MOTOR\\2022_01_27...\n",
      "Saving csv poses!\n",
      "Starting to analyze %  D:\\Sidevideos\\AR35MOTOR\\2022_01_27\\96.avi\n",
      "Loading  D:\\Sidevideos\\AR35MOTOR\\2022_01_27\\96.avi\n",
      "Duration of video [s]:  12.5 , recorded with  40.0 fps!\n",
      "Overall # of frames:  500  found with (before cropping) frame dimensions:  800 480\n",
      "Starting to extract posture\n"
     ]
    },
    {
     "name": "stderr",
     "output_type": "stream",
     "text": [
      "510it [00:23, 21.26it/s]                                                                                               \n"
     ]
    },
    {
     "name": "stdout",
     "output_type": "stream",
     "text": [
      "Saving results in D:\\Sidevideos\\AR35MOTOR\\2022_01_27...\n",
      "Saving csv poses!\n",
      "Starting to analyze %  D:\\Sidevideos\\AR35MOTOR\\2022_01_27\\97.avi\n",
      "Loading  D:\\Sidevideos\\AR35MOTOR\\2022_01_27\\97.avi\n",
      "Duration of video [s]:  12.5 , recorded with  40.0 fps!\n",
      "Overall # of frames:  500  found with (before cropping) frame dimensions:  800 480\n",
      "Starting to extract posture\n"
     ]
    },
    {
     "name": "stderr",
     "output_type": "stream",
     "text": [
      "510it [00:24, 21.23it/s]                                                                                               \n"
     ]
    },
    {
     "name": "stdout",
     "output_type": "stream",
     "text": [
      "Saving results in D:\\Sidevideos\\AR35MOTOR\\2022_01_27...\n",
      "Saving csv poses!\n",
      "Starting to analyze %  D:\\Sidevideos\\AR35MOTOR\\2022_01_27\\98.avi\n",
      "Loading  D:\\Sidevideos\\AR35MOTOR\\2022_01_27\\98.avi\n",
      "Duration of video [s]:  12.5 , recorded with  40.0 fps!\n",
      "Overall # of frames:  500  found with (before cropping) frame dimensions:  800 480\n",
      "Starting to extract posture\n"
     ]
    },
    {
     "name": "stderr",
     "output_type": "stream",
     "text": [
      "510it [00:23, 21.27it/s]                                                                                               \n"
     ]
    },
    {
     "name": "stdout",
     "output_type": "stream",
     "text": [
      "Saving results in D:\\Sidevideos\\AR35MOTOR\\2022_01_27...\n",
      "Saving csv poses!\n",
      "Starting to analyze %  D:\\Sidevideos\\AR35MOTOR\\2022_01_27\\99.avi\n",
      "Loading  D:\\Sidevideos\\AR35MOTOR\\2022_01_27\\99.avi\n",
      "Duration of video [s]:  12.5 , recorded with  40.0 fps!\n",
      "Overall # of frames:  500  found with (before cropping) frame dimensions:  800 480\n",
      "Starting to extract posture\n"
     ]
    },
    {
     "name": "stderr",
     "output_type": "stream",
     "text": [
      "510it [00:23, 21.35it/s]                                                                                               \n"
     ]
    },
    {
     "name": "stdout",
     "output_type": "stream",
     "text": [
      "Saving results in D:\\Sidevideos\\AR35MOTOR\\2022_01_27...\n",
      "Saving csv poses!\n",
      "The videos are analyzed. Now your research can truly start! \n",
      " You can create labeled videos with 'create_labeled_video'\n",
      "If the tracking is not satisfactory for some videos, consider expanding the training set. You can use the function 'extract_outlier_frames' to extract a few representative outlier frames.\n",
      "Filtering with median model D:\\Sidevideos\\AR35MOTOR\\2022_01_27\\0.avi\n",
      "Saving filtered csv poses!\n",
      "Filtering with median model D:\\Sidevideos\\AR35MOTOR\\2022_01_27\\1.avi\n",
      "Saving filtered csv poses!\n",
      "Filtering with median model D:\\Sidevideos\\AR35MOTOR\\2022_01_27\\10.avi\n",
      "Saving filtered csv poses!\n",
      "Filtering with median model D:\\Sidevideos\\AR35MOTOR\\2022_01_27\\100.avi\n",
      "Saving filtered csv poses!\n",
      "Filtering with median model D:\\Sidevideos\\AR35MOTOR\\2022_01_27\\101.avi\n",
      "Saving filtered csv poses!\n",
      "Filtering with median model D:\\Sidevideos\\AR35MOTOR\\2022_01_27\\102.avi\n",
      "Saving filtered csv poses!\n",
      "Filtering with median model D:\\Sidevideos\\AR35MOTOR\\2022_01_27\\103.avi\n",
      "Saving filtered csv poses!\n",
      "Filtering with median model D:\\Sidevideos\\AR35MOTOR\\2022_01_27\\104.avi\n",
      "Saving filtered csv poses!\n",
      "Filtering with median model D:\\Sidevideos\\AR35MOTOR\\2022_01_27\\105.avi\n",
      "Saving filtered csv poses!\n",
      "Filtering with median model D:\\Sidevideos\\AR35MOTOR\\2022_01_27\\106.avi\n",
      "Saving filtered csv poses!\n",
      "Filtering with median model D:\\Sidevideos\\AR35MOTOR\\2022_01_27\\107.avi\n",
      "Saving filtered csv poses!\n",
      "Filtering with median model D:\\Sidevideos\\AR35MOTOR\\2022_01_27\\108.avi\n",
      "Saving filtered csv poses!\n",
      "Filtering with median model D:\\Sidevideos\\AR35MOTOR\\2022_01_27\\109.avi\n",
      "Saving filtered csv poses!\n",
      "Filtering with median model D:\\Sidevideos\\AR35MOTOR\\2022_01_27\\11.avi\n",
      "Saving filtered csv poses!\n",
      "Filtering with median model D:\\Sidevideos\\AR35MOTOR\\2022_01_27\\110.avi\n",
      "Saving filtered csv poses!\n",
      "Filtering with median model D:\\Sidevideos\\AR35MOTOR\\2022_01_27\\111.avi\n",
      "Saving filtered csv poses!\n",
      "Filtering with median model D:\\Sidevideos\\AR35MOTOR\\2022_01_27\\112.avi\n",
      "Saving filtered csv poses!\n",
      "Filtering with median model D:\\Sidevideos\\AR35MOTOR\\2022_01_27\\113.avi\n",
      "Saving filtered csv poses!\n",
      "Filtering with median model D:\\Sidevideos\\AR35MOTOR\\2022_01_27\\114.avi\n",
      "Saving filtered csv poses!\n",
      "Filtering with median model D:\\Sidevideos\\AR35MOTOR\\2022_01_27\\115.avi\n",
      "Saving filtered csv poses!\n",
      "Filtering with median model D:\\Sidevideos\\AR35MOTOR\\2022_01_27\\116.avi\n",
      "Saving filtered csv poses!\n",
      "Filtering with median model D:\\Sidevideos\\AR35MOTOR\\2022_01_27\\117.avi\n",
      "Saving filtered csv poses!\n",
      "Filtering with median model D:\\Sidevideos\\AR35MOTOR\\2022_01_27\\118.avi\n",
      "Saving filtered csv poses!\n",
      "Filtering with median model D:\\Sidevideos\\AR35MOTOR\\2022_01_27\\119.avi\n",
      "Saving filtered csv poses!\n",
      "Filtering with median model D:\\Sidevideos\\AR35MOTOR\\2022_01_27\\12.avi\n",
      "Saving filtered csv poses!\n",
      "Filtering with median model D:\\Sidevideos\\AR35MOTOR\\2022_01_27\\120.avi\n",
      "Saving filtered csv poses!\n",
      "Filtering with median model D:\\Sidevideos\\AR35MOTOR\\2022_01_27\\121.avi\n",
      "Saving filtered csv poses!\n",
      "Filtering with median model D:\\Sidevideos\\AR35MOTOR\\2022_01_27\\122.avi\n",
      "Saving filtered csv poses!\n",
      "Filtering with median model D:\\Sidevideos\\AR35MOTOR\\2022_01_27\\123.avi\n",
      "Saving filtered csv poses!\n",
      "Filtering with median model D:\\Sidevideos\\AR35MOTOR\\2022_01_27\\124.avi\n",
      "Saving filtered csv poses!\n",
      "Filtering with median model D:\\Sidevideos\\AR35MOTOR\\2022_01_27\\125.avi\n",
      "Saving filtered csv poses!\n",
      "Filtering with median model D:\\Sidevideos\\AR35MOTOR\\2022_01_27\\126.avi\n",
      "Saving filtered csv poses!\n",
      "Filtering with median model D:\\Sidevideos\\AR35MOTOR\\2022_01_27\\127.avi\n",
      "Saving filtered csv poses!\n",
      "Filtering with median model D:\\Sidevideos\\AR35MOTOR\\2022_01_27\\128.avi\n",
      "Saving filtered csv poses!\n",
      "Filtering with median model D:\\Sidevideos\\AR35MOTOR\\2022_01_27\\129.avi\n",
      "Saving filtered csv poses!\n",
      "Filtering with median model D:\\Sidevideos\\AR35MOTOR\\2022_01_27\\13.avi\n",
      "Saving filtered csv poses!\n",
      "Filtering with median model D:\\Sidevideos\\AR35MOTOR\\2022_01_27\\130.avi\n",
      "Saving filtered csv poses!\n",
      "Filtering with median model D:\\Sidevideos\\AR35MOTOR\\2022_01_27\\131.avi\n",
      "Saving filtered csv poses!\n",
      "Filtering with median model D:\\Sidevideos\\AR35MOTOR\\2022_01_27\\132.avi\n",
      "Saving filtered csv poses!\n",
      "Filtering with median model D:\\Sidevideos\\AR35MOTOR\\2022_01_27\\133.avi\n",
      "Saving filtered csv poses!\n",
      "Filtering with median model D:\\Sidevideos\\AR35MOTOR\\2022_01_27\\134.avi\n",
      "Saving filtered csv poses!\n",
      "Filtering with median model D:\\Sidevideos\\AR35MOTOR\\2022_01_27\\135.avi\n",
      "Saving filtered csv poses!\n",
      "Filtering with median model D:\\Sidevideos\\AR35MOTOR\\2022_01_27\\136.avi\n",
      "Saving filtered csv poses!\n",
      "Filtering with median model D:\\Sidevideos\\AR35MOTOR\\2022_01_27\\137.avi\n",
      "Saving filtered csv poses!\n",
      "Filtering with median model D:\\Sidevideos\\AR35MOTOR\\2022_01_27\\138.avi\n",
      "Saving filtered csv poses!\n",
      "Filtering with median model D:\\Sidevideos\\AR35MOTOR\\2022_01_27\\139.avi\n",
      "Saving filtered csv poses!\n",
      "Filtering with median model D:\\Sidevideos\\AR35MOTOR\\2022_01_27\\14.avi\n",
      "Saving filtered csv poses!\n",
      "Filtering with median model D:\\Sidevideos\\AR35MOTOR\\2022_01_27\\140.avi\n",
      "Saving filtered csv poses!\n",
      "Filtering with median model D:\\Sidevideos\\AR35MOTOR\\2022_01_27\\141.avi\n",
      "Saving filtered csv poses!\n",
      "Filtering with median model D:\\Sidevideos\\AR35MOTOR\\2022_01_27\\142.avi\n",
      "Saving filtered csv poses!\n",
      "Filtering with median model D:\\Sidevideos\\AR35MOTOR\\2022_01_27\\143.avi\n",
      "Saving filtered csv poses!\n",
      "Filtering with median model D:\\Sidevideos\\AR35MOTOR\\2022_01_27\\144.avi\n",
      "Saving filtered csv poses!\n",
      "Filtering with median model D:\\Sidevideos\\AR35MOTOR\\2022_01_27\\145.avi\n",
      "Saving filtered csv poses!\n",
      "Filtering with median model D:\\Sidevideos\\AR35MOTOR\\2022_01_27\\146.avi\n",
      "Saving filtered csv poses!\n",
      "Filtering with median model D:\\Sidevideos\\AR35MOTOR\\2022_01_27\\147.avi\n",
      "Saving filtered csv poses!\n",
      "Filtering with median model D:\\Sidevideos\\AR35MOTOR\\2022_01_27\\148.avi\n",
      "Saving filtered csv poses!\n",
      "Filtering with median model D:\\Sidevideos\\AR35MOTOR\\2022_01_27\\149.avi\n",
      "Saving filtered csv poses!\n",
      "Filtering with median model D:\\Sidevideos\\AR35MOTOR\\2022_01_27\\15.avi\n",
      "Saving filtered csv poses!\n",
      "Filtering with median model D:\\Sidevideos\\AR35MOTOR\\2022_01_27\\150.avi\n",
      "Saving filtered csv poses!\n",
      "Filtering with median model D:\\Sidevideos\\AR35MOTOR\\2022_01_27\\151.avi\n",
      "Saving filtered csv poses!\n",
      "Filtering with median model D:\\Sidevideos\\AR35MOTOR\\2022_01_27\\152.avi\n",
      "Saving filtered csv poses!\n",
      "Filtering with median model D:\\Sidevideos\\AR35MOTOR\\2022_01_27\\153.avi\n",
      "Saving filtered csv poses!\n",
      "Filtering with median model D:\\Sidevideos\\AR35MOTOR\\2022_01_27\\154.avi\n",
      "Saving filtered csv poses!\n",
      "Filtering with median model D:\\Sidevideos\\AR35MOTOR\\2022_01_27\\155.avi\n",
      "Saving filtered csv poses!\n",
      "Filtering with median model D:\\Sidevideos\\AR35MOTOR\\2022_01_27\\156.avi\n",
      "Saving filtered csv poses!\n",
      "Filtering with median model D:\\Sidevideos\\AR35MOTOR\\2022_01_27\\157.avi\n",
      "Saving filtered csv poses!\n",
      "Filtering with median model D:\\Sidevideos\\AR35MOTOR\\2022_01_27\\158.avi\n",
      "Saving filtered csv poses!\n",
      "Filtering with median model D:\\Sidevideos\\AR35MOTOR\\2022_01_27\\159.avi\n",
      "Saving filtered csv poses!\n",
      "Filtering with median model D:\\Sidevideos\\AR35MOTOR\\2022_01_27\\16.avi\n",
      "Saving filtered csv poses!\n",
      "Filtering with median model D:\\Sidevideos\\AR35MOTOR\\2022_01_27\\160.avi\n",
      "Saving filtered csv poses!\n",
      "Filtering with median model D:\\Sidevideos\\AR35MOTOR\\2022_01_27\\161.avi\n",
      "Saving filtered csv poses!\n",
      "Filtering with median model D:\\Sidevideos\\AR35MOTOR\\2022_01_27\\162.avi\n",
      "Saving filtered csv poses!\n",
      "Filtering with median model D:\\Sidevideos\\AR35MOTOR\\2022_01_27\\163.avi\n",
      "Saving filtered csv poses!\n",
      "Filtering with median model D:\\Sidevideos\\AR35MOTOR\\2022_01_27\\164.avi\n",
      "Saving filtered csv poses!\n",
      "Filtering with median model D:\\Sidevideos\\AR35MOTOR\\2022_01_27\\165.avi\n",
      "Saving filtered csv poses!\n",
      "Filtering with median model D:\\Sidevideos\\AR35MOTOR\\2022_01_27\\166.avi\n",
      "Saving filtered csv poses!\n",
      "Filtering with median model D:\\Sidevideos\\AR35MOTOR\\2022_01_27\\167.avi\n",
      "Saving filtered csv poses!\n",
      "Filtering with median model D:\\Sidevideos\\AR35MOTOR\\2022_01_27\\168.avi\n",
      "Saving filtered csv poses!\n",
      "Filtering with median model D:\\Sidevideos\\AR35MOTOR\\2022_01_27\\169.avi\n",
      "Saving filtered csv poses!\n",
      "Filtering with median model D:\\Sidevideos\\AR35MOTOR\\2022_01_27\\17.avi\n",
      "Saving filtered csv poses!\n",
      "Filtering with median model D:\\Sidevideos\\AR35MOTOR\\2022_01_27\\170.avi\n",
      "Saving filtered csv poses!\n",
      "Filtering with median model D:\\Sidevideos\\AR35MOTOR\\2022_01_27\\171.avi\n",
      "Saving filtered csv poses!\n",
      "Filtering with median model D:\\Sidevideos\\AR35MOTOR\\2022_01_27\\172.avi\n",
      "Saving filtered csv poses!\n"
     ]
    },
    {
     "name": "stdout",
     "output_type": "stream",
     "text": [
      "Filtering with median model D:\\Sidevideos\\AR35MOTOR\\2022_01_27\\173.avi\n",
      "Saving filtered csv poses!\n",
      "Filtering with median model D:\\Sidevideos\\AR35MOTOR\\2022_01_27\\174.avi\n",
      "Saving filtered csv poses!\n",
      "Filtering with median model D:\\Sidevideos\\AR35MOTOR\\2022_01_27\\175.avi\n",
      "Saving filtered csv poses!\n",
      "Filtering with median model D:\\Sidevideos\\AR35MOTOR\\2022_01_27\\176.avi\n",
      "Saving filtered csv poses!\n",
      "Filtering with median model D:\\Sidevideos\\AR35MOTOR\\2022_01_27\\177.avi\n",
      "Saving filtered csv poses!\n",
      "Filtering with median model D:\\Sidevideos\\AR35MOTOR\\2022_01_27\\178.avi\n",
      "Saving filtered csv poses!\n",
      "Filtering with median model D:\\Sidevideos\\AR35MOTOR\\2022_01_27\\179.avi\n",
      "Saving filtered csv poses!\n",
      "Filtering with median model D:\\Sidevideos\\AR35MOTOR\\2022_01_27\\18.avi\n",
      "Saving filtered csv poses!\n",
      "Filtering with median model D:\\Sidevideos\\AR35MOTOR\\2022_01_27\\180.avi\n",
      "Saving filtered csv poses!\n",
      "Filtering with median model D:\\Sidevideos\\AR35MOTOR\\2022_01_27\\181.avi\n",
      "Saving filtered csv poses!\n",
      "Filtering with median model D:\\Sidevideos\\AR35MOTOR\\2022_01_27\\182.avi\n",
      "Saving filtered csv poses!\n",
      "Filtering with median model D:\\Sidevideos\\AR35MOTOR\\2022_01_27\\183.avi\n",
      "Saving filtered csv poses!\n",
      "Filtering with median model D:\\Sidevideos\\AR35MOTOR\\2022_01_27\\184.avi\n",
      "Saving filtered csv poses!\n",
      "Filtering with median model D:\\Sidevideos\\AR35MOTOR\\2022_01_27\\185.avi\n",
      "Saving filtered csv poses!\n",
      "Filtering with median model D:\\Sidevideos\\AR35MOTOR\\2022_01_27\\186.avi\n",
      "Saving filtered csv poses!\n",
      "Filtering with median model D:\\Sidevideos\\AR35MOTOR\\2022_01_27\\187.avi\n",
      "Saving filtered csv poses!\n",
      "Filtering with median model D:\\Sidevideos\\AR35MOTOR\\2022_01_27\\188.avi\n",
      "Saving filtered csv poses!\n",
      "Filtering with median model D:\\Sidevideos\\AR35MOTOR\\2022_01_27\\189.avi\n",
      "Saving filtered csv poses!\n",
      "Filtering with median model D:\\Sidevideos\\AR35MOTOR\\2022_01_27\\19.avi\n",
      "Saving filtered csv poses!\n",
      "Filtering with median model D:\\Sidevideos\\AR35MOTOR\\2022_01_27\\190.avi\n",
      "Saving filtered csv poses!\n",
      "Filtering with median model D:\\Sidevideos\\AR35MOTOR\\2022_01_27\\191.avi\n",
      "Saving filtered csv poses!\n",
      "Filtering with median model D:\\Sidevideos\\AR35MOTOR\\2022_01_27\\192.avi\n",
      "Saving filtered csv poses!\n",
      "Filtering with median model D:\\Sidevideos\\AR35MOTOR\\2022_01_27\\193.avi\n",
      "Saving filtered csv poses!\n",
      "Filtering with median model D:\\Sidevideos\\AR35MOTOR\\2022_01_27\\194.avi\n",
      "Saving filtered csv poses!\n",
      "Filtering with median model D:\\Sidevideos\\AR35MOTOR\\2022_01_27\\195.avi\n",
      "Saving filtered csv poses!\n",
      "Filtering with median model D:\\Sidevideos\\AR35MOTOR\\2022_01_27\\196.avi\n",
      "Saving filtered csv poses!\n",
      "Filtering with median model D:\\Sidevideos\\AR35MOTOR\\2022_01_27\\197.avi\n",
      "Saving filtered csv poses!\n",
      "Filtering with median model D:\\Sidevideos\\AR35MOTOR\\2022_01_27\\198.avi\n",
      "Saving filtered csv poses!\n",
      "Filtering with median model D:\\Sidevideos\\AR35MOTOR\\2022_01_27\\199.avi\n",
      "Saving filtered csv poses!\n",
      "Filtering with median model D:\\Sidevideos\\AR35MOTOR\\2022_01_27\\2.avi\n",
      "Saving filtered csv poses!\n",
      "Filtering with median model D:\\Sidevideos\\AR35MOTOR\\2022_01_27\\20.avi\n",
      "Saving filtered csv poses!\n",
      "Filtering with median model D:\\Sidevideos\\AR35MOTOR\\2022_01_27\\200.avi\n",
      "Saving filtered csv poses!\n",
      "Filtering with median model D:\\Sidevideos\\AR35MOTOR\\2022_01_27\\201.avi\n",
      "Saving filtered csv poses!\n",
      "Filtering with median model D:\\Sidevideos\\AR35MOTOR\\2022_01_27\\202.avi\n",
      "Saving filtered csv poses!\n",
      "Filtering with median model D:\\Sidevideos\\AR35MOTOR\\2022_01_27\\203.avi\n",
      "Saving filtered csv poses!\n",
      "Filtering with median model D:\\Sidevideos\\AR35MOTOR\\2022_01_27\\204.avi\n",
      "Saving filtered csv poses!\n",
      "Filtering with median model D:\\Sidevideos\\AR35MOTOR\\2022_01_27\\205.avi\n",
      "Saving filtered csv poses!\n",
      "Filtering with median model D:\\Sidevideos\\AR35MOTOR\\2022_01_27\\206.avi\n",
      "Saving filtered csv poses!\n",
      "Filtering with median model D:\\Sidevideos\\AR35MOTOR\\2022_01_27\\207.avi\n",
      "Saving filtered csv poses!\n",
      "Filtering with median model D:\\Sidevideos\\AR35MOTOR\\2022_01_27\\208.avi\n",
      "Saving filtered csv poses!\n",
      "Filtering with median model D:\\Sidevideos\\AR35MOTOR\\2022_01_27\\209.avi\n",
      "Saving filtered csv poses!\n",
      "Filtering with median model D:\\Sidevideos\\AR35MOTOR\\2022_01_27\\21.avi\n",
      "Saving filtered csv poses!\n",
      "Filtering with median model D:\\Sidevideos\\AR35MOTOR\\2022_01_27\\210.avi\n",
      "Saving filtered csv poses!\n",
      "Filtering with median model D:\\Sidevideos\\AR35MOTOR\\2022_01_27\\211.avi\n",
      "Saving filtered csv poses!\n",
      "Filtering with median model D:\\Sidevideos\\AR35MOTOR\\2022_01_27\\212.avi\n",
      "Saving filtered csv poses!\n",
      "Filtering with median model D:\\Sidevideos\\AR35MOTOR\\2022_01_27\\213.avi\n",
      "Saving filtered csv poses!\n",
      "Filtering with median model D:\\Sidevideos\\AR35MOTOR\\2022_01_27\\214.avi\n",
      "Saving filtered csv poses!\n",
      "Filtering with median model D:\\Sidevideos\\AR35MOTOR\\2022_01_27\\215.avi\n",
      "Saving filtered csv poses!\n",
      "Filtering with median model D:\\Sidevideos\\AR35MOTOR\\2022_01_27\\216.avi\n",
      "Saving filtered csv poses!\n",
      "Filtering with median model D:\\Sidevideos\\AR35MOTOR\\2022_01_27\\217.avi\n",
      "Saving filtered csv poses!\n",
      "Filtering with median model D:\\Sidevideos\\AR35MOTOR\\2022_01_27\\218.avi\n",
      "Saving filtered csv poses!\n",
      "Filtering with median model D:\\Sidevideos\\AR35MOTOR\\2022_01_27\\219.avi\n",
      "Saving filtered csv poses!\n",
      "Filtering with median model D:\\Sidevideos\\AR35MOTOR\\2022_01_27\\22.avi\n",
      "Saving filtered csv poses!\n",
      "Filtering with median model D:\\Sidevideos\\AR35MOTOR\\2022_01_27\\220.avi\n",
      "Saving filtered csv poses!\n",
      "Filtering with median model D:\\Sidevideos\\AR35MOTOR\\2022_01_27\\221.avi\n",
      "Saving filtered csv poses!\n",
      "Filtering with median model D:\\Sidevideos\\AR35MOTOR\\2022_01_27\\222.avi\n",
      "Saving filtered csv poses!\n",
      "Filtering with median model D:\\Sidevideos\\AR35MOTOR\\2022_01_27\\223.avi\n",
      "Saving filtered csv poses!\n",
      "Filtering with median model D:\\Sidevideos\\AR35MOTOR\\2022_01_27\\224.avi\n",
      "Saving filtered csv poses!\n",
      "Filtering with median model D:\\Sidevideos\\AR35MOTOR\\2022_01_27\\225.avi\n",
      "Saving filtered csv poses!\n",
      "Filtering with median model D:\\Sidevideos\\AR35MOTOR\\2022_01_27\\226.avi\n",
      "Saving filtered csv poses!\n",
      "Filtering with median model D:\\Sidevideos\\AR35MOTOR\\2022_01_27\\227.avi\n",
      "Saving filtered csv poses!\n",
      "Filtering with median model D:\\Sidevideos\\AR35MOTOR\\2022_01_27\\228.avi\n",
      "Saving filtered csv poses!\n",
      "Filtering with median model D:\\Sidevideos\\AR35MOTOR\\2022_01_27\\229.avi\n",
      "Saving filtered csv poses!\n",
      "Filtering with median model D:\\Sidevideos\\AR35MOTOR\\2022_01_27\\23.avi\n",
      "Saving filtered csv poses!\n",
      "Filtering with median model D:\\Sidevideos\\AR35MOTOR\\2022_01_27\\230.avi\n",
      "Saving filtered csv poses!\n",
      "Filtering with median model D:\\Sidevideos\\AR35MOTOR\\2022_01_27\\231.avi\n",
      "Saving filtered csv poses!\n",
      "Filtering with median model D:\\Sidevideos\\AR35MOTOR\\2022_01_27\\232.avi\n",
      "Saving filtered csv poses!\n",
      "Filtering with median model D:\\Sidevideos\\AR35MOTOR\\2022_01_27\\233.avi\n",
      "Saving filtered csv poses!\n",
      "Filtering with median model D:\\Sidevideos\\AR35MOTOR\\2022_01_27\\234.avi\n",
      "Saving filtered csv poses!\n",
      "Filtering with median model D:\\Sidevideos\\AR35MOTOR\\2022_01_27\\235.avi\n",
      "Saving filtered csv poses!\n",
      "Filtering with median model D:\\Sidevideos\\AR35MOTOR\\2022_01_27\\236.avi\n",
      "Saving filtered csv poses!\n",
      "Filtering with median model D:\\Sidevideos\\AR35MOTOR\\2022_01_27\\237.avi\n",
      "Saving filtered csv poses!\n",
      "Filtering with median model D:\\Sidevideos\\AR35MOTOR\\2022_01_27\\238.avi\n",
      "Saving filtered csv poses!\n",
      "Filtering with median model D:\\Sidevideos\\AR35MOTOR\\2022_01_27\\239.avi\n",
      "Saving filtered csv poses!\n",
      "Filtering with median model D:\\Sidevideos\\AR35MOTOR\\2022_01_27\\24.avi\n",
      "Saving filtered csv poses!\n",
      "Filtering with median model D:\\Sidevideos\\AR35MOTOR\\2022_01_27\\240.avi\n",
      "Saving filtered csv poses!\n",
      "Filtering with median model D:\\Sidevideos\\AR35MOTOR\\2022_01_27\\241.avi\n",
      "Saving filtered csv poses!\n",
      "Filtering with median model D:\\Sidevideos\\AR35MOTOR\\2022_01_27\\242.avi\n",
      "Saving filtered csv poses!\n",
      "Filtering with median model D:\\Sidevideos\\AR35MOTOR\\2022_01_27\\243.avi\n",
      "Saving filtered csv poses!\n",
      "Filtering with median model D:\\Sidevideos\\AR35MOTOR\\2022_01_27\\244.avi\n",
      "Saving filtered csv poses!\n",
      "Filtering with median model D:\\Sidevideos\\AR35MOTOR\\2022_01_27\\245.avi\n",
      "Saving filtered csv poses!\n",
      "Filtering with median model D:\\Sidevideos\\AR35MOTOR\\2022_01_27\\246.avi\n",
      "Saving filtered csv poses!\n",
      "Filtering with median model D:\\Sidevideos\\AR35MOTOR\\2022_01_27\\247.avi\n",
      "Saving filtered csv poses!\n",
      "Filtering with median model D:\\Sidevideos\\AR35MOTOR\\2022_01_27\\248.avi\n",
      "Saving filtered csv poses!\n",
      "Filtering with median model D:\\Sidevideos\\AR35MOTOR\\2022_01_27\\249.avi\n",
      "Saving filtered csv poses!\n",
      "Filtering with median model D:\\Sidevideos\\AR35MOTOR\\2022_01_27\\25.avi\n",
      "Saving filtered csv poses!\n"
     ]
    },
    {
     "name": "stdout",
     "output_type": "stream",
     "text": [
      "Filtering with median model D:\\Sidevideos\\AR35MOTOR\\2022_01_27\\250.avi\n",
      "Saving filtered csv poses!\n",
      "Filtering with median model D:\\Sidevideos\\AR35MOTOR\\2022_01_27\\251.avi\n",
      "Saving filtered csv poses!\n",
      "Filtering with median model D:\\Sidevideos\\AR35MOTOR\\2022_01_27\\252.avi\n",
      "Saving filtered csv poses!\n",
      "Filtering with median model D:\\Sidevideos\\AR35MOTOR\\2022_01_27\\253.avi\n",
      "Saving filtered csv poses!\n",
      "Filtering with median model D:\\Sidevideos\\AR35MOTOR\\2022_01_27\\254.avi\n",
      "Saving filtered csv poses!\n",
      "Filtering with median model D:\\Sidevideos\\AR35MOTOR\\2022_01_27\\255.avi\n",
      "Saving filtered csv poses!\n",
      "Filtering with median model D:\\Sidevideos\\AR35MOTOR\\2022_01_27\\256.avi\n",
      "Saving filtered csv poses!\n",
      "Filtering with median model D:\\Sidevideos\\AR35MOTOR\\2022_01_27\\257.avi\n",
      "Saving filtered csv poses!\n",
      "Filtering with median model D:\\Sidevideos\\AR35MOTOR\\2022_01_27\\258.avi\n",
      "Saving filtered csv poses!\n",
      "Filtering with median model D:\\Sidevideos\\AR35MOTOR\\2022_01_27\\259.avi\n",
      "Saving filtered csv poses!\n",
      "Filtering with median model D:\\Sidevideos\\AR35MOTOR\\2022_01_27\\26.avi\n",
      "Saving filtered csv poses!\n",
      "Filtering with median model D:\\Sidevideos\\AR35MOTOR\\2022_01_27\\260.avi\n",
      "Saving filtered csv poses!\n",
      "Filtering with median model D:\\Sidevideos\\AR35MOTOR\\2022_01_27\\261.avi\n",
      "Saving filtered csv poses!\n",
      "Filtering with median model D:\\Sidevideos\\AR35MOTOR\\2022_01_27\\262.avi\n",
      "Saving filtered csv poses!\n",
      "Filtering with median model D:\\Sidevideos\\AR35MOTOR\\2022_01_27\\263.avi\n",
      "Saving filtered csv poses!\n",
      "Filtering with median model D:\\Sidevideos\\AR35MOTOR\\2022_01_27\\264.avi\n",
      "Saving filtered csv poses!\n",
      "Filtering with median model D:\\Sidevideos\\AR35MOTOR\\2022_01_27\\265.avi\n",
      "Saving filtered csv poses!\n",
      "Filtering with median model D:\\Sidevideos\\AR35MOTOR\\2022_01_27\\266.avi\n",
      "Saving filtered csv poses!\n",
      "Filtering with median model D:\\Sidevideos\\AR35MOTOR\\2022_01_27\\267.avi\n",
      "Saving filtered csv poses!\n",
      "Filtering with median model D:\\Sidevideos\\AR35MOTOR\\2022_01_27\\268.avi\n",
      "Saving filtered csv poses!\n",
      "Filtering with median model D:\\Sidevideos\\AR35MOTOR\\2022_01_27\\269.avi\n",
      "Saving filtered csv poses!\n",
      "Filtering with median model D:\\Sidevideos\\AR35MOTOR\\2022_01_27\\27.avi\n",
      "Saving filtered csv poses!\n",
      "Filtering with median model D:\\Sidevideos\\AR35MOTOR\\2022_01_27\\270.avi\n",
      "Saving filtered csv poses!\n",
      "Filtering with median model D:\\Sidevideos\\AR35MOTOR\\2022_01_27\\271.avi\n",
      "Saving filtered csv poses!\n",
      "Filtering with median model D:\\Sidevideos\\AR35MOTOR\\2022_01_27\\272.avi\n",
      "Saving filtered csv poses!\n",
      "Filtering with median model D:\\Sidevideos\\AR35MOTOR\\2022_01_27\\273.avi\n",
      "Saving filtered csv poses!\n",
      "Filtering with median model D:\\Sidevideos\\AR35MOTOR\\2022_01_27\\274.avi\n",
      "Saving filtered csv poses!\n",
      "Filtering with median model D:\\Sidevideos\\AR35MOTOR\\2022_01_27\\275.avi\n",
      "Saving filtered csv poses!\n",
      "Filtering with median model D:\\Sidevideos\\AR35MOTOR\\2022_01_27\\276.avi\n",
      "Saving filtered csv poses!\n",
      "Filtering with median model D:\\Sidevideos\\AR35MOTOR\\2022_01_27\\277.avi\n",
      "Saving filtered csv poses!\n",
      "Filtering with median model D:\\Sidevideos\\AR35MOTOR\\2022_01_27\\278.avi\n",
      "Saving filtered csv poses!\n",
      "Filtering with median model D:\\Sidevideos\\AR35MOTOR\\2022_01_27\\279.avi\n",
      "Saving filtered csv poses!\n",
      "Filtering with median model D:\\Sidevideos\\AR35MOTOR\\2022_01_27\\28.avi\n",
      "Saving filtered csv poses!\n",
      "Filtering with median model D:\\Sidevideos\\AR35MOTOR\\2022_01_27\\280.avi\n",
      "Saving filtered csv poses!\n",
      "Filtering with median model D:\\Sidevideos\\AR35MOTOR\\2022_01_27\\281.avi\n",
      "Saving filtered csv poses!\n",
      "Filtering with median model D:\\Sidevideos\\AR35MOTOR\\2022_01_27\\282.avi\n",
      "Saving filtered csv poses!\n",
      "Filtering with median model D:\\Sidevideos\\AR35MOTOR\\2022_01_27\\283.avi\n",
      "Saving filtered csv poses!\n",
      "Filtering with median model D:\\Sidevideos\\AR35MOTOR\\2022_01_27\\284.avi\n",
      "Saving filtered csv poses!\n",
      "Filtering with median model D:\\Sidevideos\\AR35MOTOR\\2022_01_27\\285.avi\n",
      "Saving filtered csv poses!\n",
      "Filtering with median model D:\\Sidevideos\\AR35MOTOR\\2022_01_27\\286.avi\n",
      "Saving filtered csv poses!\n",
      "Filtering with median model D:\\Sidevideos\\AR35MOTOR\\2022_01_27\\287.avi\n",
      "Saving filtered csv poses!\n",
      "Filtering with median model D:\\Sidevideos\\AR35MOTOR\\2022_01_27\\288.avi\n",
      "Saving filtered csv poses!\n",
      "Filtering with median model D:\\Sidevideos\\AR35MOTOR\\2022_01_27\\289.avi\n",
      "Saving filtered csv poses!\n",
      "Filtering with median model D:\\Sidevideos\\AR35MOTOR\\2022_01_27\\29.avi\n",
      "Saving filtered csv poses!\n",
      "Filtering with median model D:\\Sidevideos\\AR35MOTOR\\2022_01_27\\290.avi\n",
      "Saving filtered csv poses!\n",
      "Filtering with median model D:\\Sidevideos\\AR35MOTOR\\2022_01_27\\291.avi\n",
      "Saving filtered csv poses!\n",
      "Filtering with median model D:\\Sidevideos\\AR35MOTOR\\2022_01_27\\292.avi\n",
      "Saving filtered csv poses!\n",
      "Filtering with median model D:\\Sidevideos\\AR35MOTOR\\2022_01_27\\293.avi\n",
      "Saving filtered csv poses!\n",
      "Filtering with median model D:\\Sidevideos\\AR35MOTOR\\2022_01_27\\294.avi\n",
      "Saving filtered csv poses!\n",
      "Filtering with median model D:\\Sidevideos\\AR35MOTOR\\2022_01_27\\295.avi\n",
      "Saving filtered csv poses!\n",
      "Filtering with median model D:\\Sidevideos\\AR35MOTOR\\2022_01_27\\296.avi\n",
      "Saving filtered csv poses!\n",
      "Filtering with median model D:\\Sidevideos\\AR35MOTOR\\2022_01_27\\297.avi\n",
      "Saving filtered csv poses!\n",
      "Filtering with median model D:\\Sidevideos\\AR35MOTOR\\2022_01_27\\298.avi\n",
      "Saving filtered csv poses!\n",
      "Filtering with median model D:\\Sidevideos\\AR35MOTOR\\2022_01_27\\299.avi\n",
      "Saving filtered csv poses!\n",
      "Filtering with median model D:\\Sidevideos\\AR35MOTOR\\2022_01_27\\3.avi\n",
      "Saving filtered csv poses!\n",
      "Filtering with median model D:\\Sidevideos\\AR35MOTOR\\2022_01_27\\30.avi\n",
      "Saving filtered csv poses!\n",
      "Filtering with median model D:\\Sidevideos\\AR35MOTOR\\2022_01_27\\300.avi\n",
      "Saving filtered csv poses!\n",
      "Filtering with median model D:\\Sidevideos\\AR35MOTOR\\2022_01_27\\301.avi\n",
      "Saving filtered csv poses!\n",
      "Filtering with median model D:\\Sidevideos\\AR35MOTOR\\2022_01_27\\302.avi\n",
      "Saving filtered csv poses!\n",
      "Filtering with median model D:\\Sidevideos\\AR35MOTOR\\2022_01_27\\303.avi\n",
      "Saving filtered csv poses!\n",
      "Filtering with median model D:\\Sidevideos\\AR35MOTOR\\2022_01_27\\304.avi\n",
      "Saving filtered csv poses!\n",
      "Filtering with median model D:\\Sidevideos\\AR35MOTOR\\2022_01_27\\305.avi\n",
      "Saving filtered csv poses!\n",
      "Filtering with median model D:\\Sidevideos\\AR35MOTOR\\2022_01_27\\306.avi\n",
      "Saving filtered csv poses!\n",
      "Filtering with median model D:\\Sidevideos\\AR35MOTOR\\2022_01_27\\307.avi\n",
      "Saving filtered csv poses!\n",
      "Filtering with median model D:\\Sidevideos\\AR35MOTOR\\2022_01_27\\308.avi\n",
      "Saving filtered csv poses!\n",
      "Filtering with median model D:\\Sidevideos\\AR35MOTOR\\2022_01_27\\309.avi\n",
      "Saving filtered csv poses!\n",
      "Filtering with median model D:\\Sidevideos\\AR35MOTOR\\2022_01_27\\31.avi\n",
      "Saving filtered csv poses!\n",
      "Filtering with median model D:\\Sidevideos\\AR35MOTOR\\2022_01_27\\310.avi\n",
      "Saving filtered csv poses!\n",
      "Filtering with median model D:\\Sidevideos\\AR35MOTOR\\2022_01_27\\311.avi\n",
      "Saving filtered csv poses!\n",
      "Filtering with median model D:\\Sidevideos\\AR35MOTOR\\2022_01_27\\312.avi\n",
      "Saving filtered csv poses!\n",
      "Filtering with median model D:\\Sidevideos\\AR35MOTOR\\2022_01_27\\313.avi\n",
      "Saving filtered csv poses!\n",
      "Filtering with median model D:\\Sidevideos\\AR35MOTOR\\2022_01_27\\314.avi\n",
      "Saving filtered csv poses!\n",
      "Filtering with median model D:\\Sidevideos\\AR35MOTOR\\2022_01_27\\315.avi\n",
      "Saving filtered csv poses!\n",
      "Filtering with median model D:\\Sidevideos\\AR35MOTOR\\2022_01_27\\316.avi\n",
      "Saving filtered csv poses!\n",
      "Filtering with median model D:\\Sidevideos\\AR35MOTOR\\2022_01_27\\317.avi\n",
      "Saving filtered csv poses!\n",
      "Filtering with median model D:\\Sidevideos\\AR35MOTOR\\2022_01_27\\318.avi\n",
      "Saving filtered csv poses!\n",
      "Filtering with median model D:\\Sidevideos\\AR35MOTOR\\2022_01_27\\319.avi\n",
      "Saving filtered csv poses!\n",
      "Filtering with median model D:\\Sidevideos\\AR35MOTOR\\2022_01_27\\32.avi\n",
      "Saving filtered csv poses!\n",
      "Filtering with median model D:\\Sidevideos\\AR35MOTOR\\2022_01_27\\320.avi\n",
      "Saving filtered csv poses!\n",
      "Filtering with median model D:\\Sidevideos\\AR35MOTOR\\2022_01_27\\321.avi\n",
      "Saving filtered csv poses!\n",
      "Filtering with median model D:\\Sidevideos\\AR35MOTOR\\2022_01_27\\322.avi\n",
      "Saving filtered csv poses!\n",
      "Filtering with median model D:\\Sidevideos\\AR35MOTOR\\2022_01_27\\323.avi\n",
      "Saving filtered csv poses!\n",
      "Filtering with median model D:\\Sidevideos\\AR35MOTOR\\2022_01_27\\324.avi\n",
      "Saving filtered csv poses!\n",
      "Filtering with median model D:\\Sidevideos\\AR35MOTOR\\2022_01_27\\325.avi\n",
      "Saving filtered csv poses!\n",
      "Filtering with median model D:\\Sidevideos\\AR35MOTOR\\2022_01_27\\326.avi\n",
      "Saving filtered csv poses!\n"
     ]
    },
    {
     "name": "stdout",
     "output_type": "stream",
     "text": [
      "Filtering with median model D:\\Sidevideos\\AR35MOTOR\\2022_01_27\\327.avi\n",
      "Saving filtered csv poses!\n",
      "Filtering with median model D:\\Sidevideos\\AR35MOTOR\\2022_01_27\\328.avi\n",
      "Saving filtered csv poses!\n",
      "Filtering with median model D:\\Sidevideos\\AR35MOTOR\\2022_01_27\\329.avi\n",
      "Saving filtered csv poses!\n",
      "Filtering with median model D:\\Sidevideos\\AR35MOTOR\\2022_01_27\\33.avi\n",
      "Saving filtered csv poses!\n",
      "Filtering with median model D:\\Sidevideos\\AR35MOTOR\\2022_01_27\\330.avi\n",
      "Saving filtered csv poses!\n",
      "Filtering with median model D:\\Sidevideos\\AR35MOTOR\\2022_01_27\\331.avi\n",
      "Saving filtered csv poses!\n",
      "Filtering with median model D:\\Sidevideos\\AR35MOTOR\\2022_01_27\\332.avi\n",
      "Saving filtered csv poses!\n",
      "Filtering with median model D:\\Sidevideos\\AR35MOTOR\\2022_01_27\\333.avi\n",
      "Saving filtered csv poses!\n",
      "Filtering with median model D:\\Sidevideos\\AR35MOTOR\\2022_01_27\\334.avi\n",
      "Saving filtered csv poses!\n",
      "Filtering with median model D:\\Sidevideos\\AR35MOTOR\\2022_01_27\\335.avi\n",
      "Saving filtered csv poses!\n",
      "Filtering with median model D:\\Sidevideos\\AR35MOTOR\\2022_01_27\\336.avi\n",
      "Saving filtered csv poses!\n",
      "Filtering with median model D:\\Sidevideos\\AR35MOTOR\\2022_01_27\\337.avi\n",
      "Saving filtered csv poses!\n",
      "Filtering with median model D:\\Sidevideos\\AR35MOTOR\\2022_01_27\\338.avi\n",
      "Saving filtered csv poses!\n",
      "Filtering with median model D:\\Sidevideos\\AR35MOTOR\\2022_01_27\\339.avi\n",
      "Saving filtered csv poses!\n",
      "Filtering with median model D:\\Sidevideos\\AR35MOTOR\\2022_01_27\\34.avi\n",
      "Saving filtered csv poses!\n",
      "Filtering with median model D:\\Sidevideos\\AR35MOTOR\\2022_01_27\\340.avi\n",
      "Saving filtered csv poses!\n",
      "Filtering with median model D:\\Sidevideos\\AR35MOTOR\\2022_01_27\\341.avi\n",
      "Saving filtered csv poses!\n",
      "Filtering with median model D:\\Sidevideos\\AR35MOTOR\\2022_01_27\\342.avi\n",
      "Saving filtered csv poses!\n",
      "Filtering with median model D:\\Sidevideos\\AR35MOTOR\\2022_01_27\\343.avi\n",
      "Saving filtered csv poses!\n",
      "Filtering with median model D:\\Sidevideos\\AR35MOTOR\\2022_01_27\\344.avi\n",
      "Saving filtered csv poses!\n",
      "Filtering with median model D:\\Sidevideos\\AR35MOTOR\\2022_01_27\\345.avi\n",
      "Saving filtered csv poses!\n",
      "Filtering with median model D:\\Sidevideos\\AR35MOTOR\\2022_01_27\\346.avi\n",
      "Saving filtered csv poses!\n",
      "Filtering with median model D:\\Sidevideos\\AR35MOTOR\\2022_01_27\\347.avi\n",
      "Saving filtered csv poses!\n",
      "Filtering with median model D:\\Sidevideos\\AR35MOTOR\\2022_01_27\\348.avi\n",
      "Saving filtered csv poses!\n",
      "Filtering with median model D:\\Sidevideos\\AR35MOTOR\\2022_01_27\\349.avi\n",
      "Saving filtered csv poses!\n",
      "Filtering with median model D:\\Sidevideos\\AR35MOTOR\\2022_01_27\\35.avi\n",
      "Saving filtered csv poses!\n",
      "Filtering with median model D:\\Sidevideos\\AR35MOTOR\\2022_01_27\\350.avi\n",
      "Saving filtered csv poses!\n",
      "Filtering with median model D:\\Sidevideos\\AR35MOTOR\\2022_01_27\\351.avi\n",
      "Saving filtered csv poses!\n",
      "Filtering with median model D:\\Sidevideos\\AR35MOTOR\\2022_01_27\\352.avi\n",
      "Saving filtered csv poses!\n",
      "Filtering with median model D:\\Sidevideos\\AR35MOTOR\\2022_01_27\\353.avi\n",
      "Saving filtered csv poses!\n",
      "Filtering with median model D:\\Sidevideos\\AR35MOTOR\\2022_01_27\\354.avi\n",
      "Saving filtered csv poses!\n",
      "Filtering with median model D:\\Sidevideos\\AR35MOTOR\\2022_01_27\\355.avi\n",
      "Saving filtered csv poses!\n",
      "Filtering with median model D:\\Sidevideos\\AR35MOTOR\\2022_01_27\\356.avi\n",
      "Saving filtered csv poses!\n",
      "Filtering with median model D:\\Sidevideos\\AR35MOTOR\\2022_01_27\\357.avi\n",
      "Saving filtered csv poses!\n",
      "Filtering with median model D:\\Sidevideos\\AR35MOTOR\\2022_01_27\\358.avi\n",
      "Saving filtered csv poses!\n",
      "Filtering with median model D:\\Sidevideos\\AR35MOTOR\\2022_01_27\\359.avi\n",
      "Saving filtered csv poses!\n",
      "Filtering with median model D:\\Sidevideos\\AR35MOTOR\\2022_01_27\\36.avi\n",
      "Saving filtered csv poses!\n",
      "Filtering with median model D:\\Sidevideos\\AR35MOTOR\\2022_01_27\\360.avi\n",
      "Saving filtered csv poses!\n",
      "Filtering with median model D:\\Sidevideos\\AR35MOTOR\\2022_01_27\\361.avi\n",
      "Saving filtered csv poses!\n",
      "Filtering with median model D:\\Sidevideos\\AR35MOTOR\\2022_01_27\\362.avi\n",
      "Saving filtered csv poses!\n",
      "Filtering with median model D:\\Sidevideos\\AR35MOTOR\\2022_01_27\\363.avi\n",
      "Saving filtered csv poses!\n",
      "Filtering with median model D:\\Sidevideos\\AR35MOTOR\\2022_01_27\\364.avi\n",
      "Saving filtered csv poses!\n",
      "Filtering with median model D:\\Sidevideos\\AR35MOTOR\\2022_01_27\\365.avi\n",
      "Saving filtered csv poses!\n",
      "Filtering with median model D:\\Sidevideos\\AR35MOTOR\\2022_01_27\\366.avi\n",
      "Saving filtered csv poses!\n",
      "Filtering with median model D:\\Sidevideos\\AR35MOTOR\\2022_01_27\\367.avi\n",
      "Saving filtered csv poses!\n",
      "Filtering with median model D:\\Sidevideos\\AR35MOTOR\\2022_01_27\\368.avi\n",
      "Saving filtered csv poses!\n",
      "Filtering with median model D:\\Sidevideos\\AR35MOTOR\\2022_01_27\\369.avi\n",
      "Saving filtered csv poses!\n",
      "Filtering with median model D:\\Sidevideos\\AR35MOTOR\\2022_01_27\\37.avi\n",
      "Saving filtered csv poses!\n",
      "Filtering with median model D:\\Sidevideos\\AR35MOTOR\\2022_01_27\\370.avi\n",
      "Saving filtered csv poses!\n",
      "Filtering with median model D:\\Sidevideos\\AR35MOTOR\\2022_01_27\\371.avi\n",
      "Saving filtered csv poses!\n",
      "Filtering with median model D:\\Sidevideos\\AR35MOTOR\\2022_01_27\\372.avi\n",
      "Saving filtered csv poses!\n",
      "Filtering with median model D:\\Sidevideos\\AR35MOTOR\\2022_01_27\\373.avi\n",
      "Saving filtered csv poses!\n",
      "Filtering with median model D:\\Sidevideos\\AR35MOTOR\\2022_01_27\\374.avi\n",
      "Saving filtered csv poses!\n",
      "Filtering with median model D:\\Sidevideos\\AR35MOTOR\\2022_01_27\\375.avi\n",
      "Saving filtered csv poses!\n",
      "Filtering with median model D:\\Sidevideos\\AR35MOTOR\\2022_01_27\\376.avi\n",
      "Saving filtered csv poses!\n",
      "Filtering with median model D:\\Sidevideos\\AR35MOTOR\\2022_01_27\\377.avi\n",
      "Saving filtered csv poses!\n",
      "Filtering with median model D:\\Sidevideos\\AR35MOTOR\\2022_01_27\\378.avi\n",
      "Saving filtered csv poses!\n",
      "Filtering with median model D:\\Sidevideos\\AR35MOTOR\\2022_01_27\\379.avi\n",
      "Saving filtered csv poses!\n",
      "Filtering with median model D:\\Sidevideos\\AR35MOTOR\\2022_01_27\\38.avi\n",
      "Saving filtered csv poses!\n",
      "Filtering with median model D:\\Sidevideos\\AR35MOTOR\\2022_01_27\\380.avi\n",
      "Saving filtered csv poses!\n",
      "Filtering with median model D:\\Sidevideos\\AR35MOTOR\\2022_01_27\\381.avi\n",
      "Saving filtered csv poses!\n",
      "Filtering with median model D:\\Sidevideos\\AR35MOTOR\\2022_01_27\\382.avi\n",
      "Saving filtered csv poses!\n",
      "Filtering with median model D:\\Sidevideos\\AR35MOTOR\\2022_01_27\\383.avi\n",
      "Saving filtered csv poses!\n",
      "Filtering with median model D:\\Sidevideos\\AR35MOTOR\\2022_01_27\\384.avi\n",
      "Saving filtered csv poses!\n",
      "Filtering with median model D:\\Sidevideos\\AR35MOTOR\\2022_01_27\\385.avi\n",
      "Saving filtered csv poses!\n",
      "Filtering with median model D:\\Sidevideos\\AR35MOTOR\\2022_01_27\\386.avi\n",
      "Saving filtered csv poses!\n",
      "Filtering with median model D:\\Sidevideos\\AR35MOTOR\\2022_01_27\\387.avi\n",
      "Saving filtered csv poses!\n",
      "Filtering with median model D:\\Sidevideos\\AR35MOTOR\\2022_01_27\\388.avi\n",
      "Saving filtered csv poses!\n",
      "Filtering with median model D:\\Sidevideos\\AR35MOTOR\\2022_01_27\\389.avi\n",
      "Saving filtered csv poses!\n",
      "Filtering with median model D:\\Sidevideos\\AR35MOTOR\\2022_01_27\\39.avi\n",
      "Saving filtered csv poses!\n",
      "Filtering with median model D:\\Sidevideos\\AR35MOTOR\\2022_01_27\\390.avi\n",
      "Saving filtered csv poses!\n",
      "Filtering with median model D:\\Sidevideos\\AR35MOTOR\\2022_01_27\\391.avi\n",
      "Saving filtered csv poses!\n",
      "Filtering with median model D:\\Sidevideos\\AR35MOTOR\\2022_01_27\\392.avi\n",
      "Saving filtered csv poses!\n",
      "Filtering with median model D:\\Sidevideos\\AR35MOTOR\\2022_01_27\\393.avi\n",
      "Saving filtered csv poses!\n",
      "Filtering with median model D:\\Sidevideos\\AR35MOTOR\\2022_01_27\\394.avi\n",
      "Saving filtered csv poses!\n",
      "Filtering with median model D:\\Sidevideos\\AR35MOTOR\\2022_01_27\\395.avi\n",
      "Saving filtered csv poses!\n",
      "Filtering with median model D:\\Sidevideos\\AR35MOTOR\\2022_01_27\\396.avi\n",
      "Saving filtered csv poses!\n",
      "Filtering with median model D:\\Sidevideos\\AR35MOTOR\\2022_01_27\\397.avi\n",
      "Saving filtered csv poses!\n",
      "Filtering with median model D:\\Sidevideos\\AR35MOTOR\\2022_01_27\\398.avi\n",
      "Saving filtered csv poses!\n",
      "Filtering with median model D:\\Sidevideos\\AR35MOTOR\\2022_01_27\\399.avi\n",
      "Saving filtered csv poses!\n",
      "Filtering with median model D:\\Sidevideos\\AR35MOTOR\\2022_01_27\\4.avi\n",
      "Saving filtered csv poses!\n",
      "Filtering with median model D:\\Sidevideos\\AR35MOTOR\\2022_01_27\\40.avi\n",
      "Saving filtered csv poses!\n",
      "Filtering with median model D:\\Sidevideos\\AR35MOTOR\\2022_01_27\\400.avi\n",
      "Saving filtered csv poses!\n",
      "Filtering with median model D:\\Sidevideos\\AR35MOTOR\\2022_01_27\\401.avi\n",
      "Saving filtered csv poses!\n"
     ]
    },
    {
     "name": "stdout",
     "output_type": "stream",
     "text": [
      "Filtering with median model D:\\Sidevideos\\AR35MOTOR\\2022_01_27\\402.avi\n",
      "Saving filtered csv poses!\n",
      "Filtering with median model D:\\Sidevideos\\AR35MOTOR\\2022_01_27\\403.avi\n",
      "Saving filtered csv poses!\n",
      "Filtering with median model D:\\Sidevideos\\AR35MOTOR\\2022_01_27\\404.avi\n",
      "Saving filtered csv poses!\n",
      "Filtering with median model D:\\Sidevideos\\AR35MOTOR\\2022_01_27\\405.avi\n",
      "Saving filtered csv poses!\n",
      "Filtering with median model D:\\Sidevideos\\AR35MOTOR\\2022_01_27\\406.avi\n",
      "Saving filtered csv poses!\n",
      "Filtering with median model D:\\Sidevideos\\AR35MOTOR\\2022_01_27\\407.avi\n",
      "Saving filtered csv poses!\n",
      "Filtering with median model D:\\Sidevideos\\AR35MOTOR\\2022_01_27\\408.avi\n",
      "Saving filtered csv poses!\n",
      "Filtering with median model D:\\Sidevideos\\AR35MOTOR\\2022_01_27\\409.avi\n",
      "Saving filtered csv poses!\n",
      "Filtering with median model D:\\Sidevideos\\AR35MOTOR\\2022_01_27\\41.avi\n",
      "Saving filtered csv poses!\n",
      "Filtering with median model D:\\Sidevideos\\AR35MOTOR\\2022_01_27\\410.avi\n",
      "Saving filtered csv poses!\n",
      "Filtering with median model D:\\Sidevideos\\AR35MOTOR\\2022_01_27\\411.avi\n",
      "Saving filtered csv poses!\n",
      "Filtering with median model D:\\Sidevideos\\AR35MOTOR\\2022_01_27\\412.avi\n",
      "Saving filtered csv poses!\n",
      "Filtering with median model D:\\Sidevideos\\AR35MOTOR\\2022_01_27\\413.avi\n",
      "Saving filtered csv poses!\n",
      "Filtering with median model D:\\Sidevideos\\AR35MOTOR\\2022_01_27\\414.avi\n",
      "Saving filtered csv poses!\n",
      "Filtering with median model D:\\Sidevideos\\AR35MOTOR\\2022_01_27\\415.avi\n",
      "Saving filtered csv poses!\n",
      "Filtering with median model D:\\Sidevideos\\AR35MOTOR\\2022_01_27\\416.avi\n",
      "Saving filtered csv poses!\n",
      "Filtering with median model D:\\Sidevideos\\AR35MOTOR\\2022_01_27\\417.avi\n",
      "Saving filtered csv poses!\n",
      "Filtering with median model D:\\Sidevideos\\AR35MOTOR\\2022_01_27\\418.avi\n",
      "Saving filtered csv poses!\n",
      "Filtering with median model D:\\Sidevideos\\AR35MOTOR\\2022_01_27\\419.avi\n",
      "Saving filtered csv poses!\n",
      "Filtering with median model D:\\Sidevideos\\AR35MOTOR\\2022_01_27\\42.avi\n",
      "Saving filtered csv poses!\n",
      "Filtering with median model D:\\Sidevideos\\AR35MOTOR\\2022_01_27\\420.avi\n",
      "Saving filtered csv poses!\n",
      "Filtering with median model D:\\Sidevideos\\AR35MOTOR\\2022_01_27\\421.avi\n",
      "Saving filtered csv poses!\n",
      "Filtering with median model D:\\Sidevideos\\AR35MOTOR\\2022_01_27\\422.avi\n",
      "Saving filtered csv poses!\n",
      "Filtering with median model D:\\Sidevideos\\AR35MOTOR\\2022_01_27\\423.avi\n",
      "Saving filtered csv poses!\n",
      "Filtering with median model D:\\Sidevideos\\AR35MOTOR\\2022_01_27\\424.avi\n",
      "Saving filtered csv poses!\n",
      "Filtering with median model D:\\Sidevideos\\AR35MOTOR\\2022_01_27\\425.avi\n",
      "Saving filtered csv poses!\n",
      "Filtering with median model D:\\Sidevideos\\AR35MOTOR\\2022_01_27\\426.avi\n",
      "Saving filtered csv poses!\n",
      "Filtering with median model D:\\Sidevideos\\AR35MOTOR\\2022_01_27\\427.avi\n",
      "Saving filtered csv poses!\n",
      "Filtering with median model D:\\Sidevideos\\AR35MOTOR\\2022_01_27\\428.avi\n",
      "Saving filtered csv poses!\n",
      "Filtering with median model D:\\Sidevideos\\AR35MOTOR\\2022_01_27\\43.avi\n",
      "Saving filtered csv poses!\n",
      "Filtering with median model D:\\Sidevideos\\AR35MOTOR\\2022_01_27\\44.avi\n",
      "Saving filtered csv poses!\n",
      "Filtering with median model D:\\Sidevideos\\AR35MOTOR\\2022_01_27\\45.avi\n",
      "Saving filtered csv poses!\n",
      "Filtering with median model D:\\Sidevideos\\AR35MOTOR\\2022_01_27\\46.avi\n",
      "Saving filtered csv poses!\n",
      "Filtering with median model D:\\Sidevideos\\AR35MOTOR\\2022_01_27\\47.avi\n",
      "Saving filtered csv poses!\n",
      "Filtering with median model D:\\Sidevideos\\AR35MOTOR\\2022_01_27\\48.avi\n",
      "Saving filtered csv poses!\n",
      "Filtering with median model D:\\Sidevideos\\AR35MOTOR\\2022_01_27\\49.avi\n",
      "Saving filtered csv poses!\n",
      "Filtering with median model D:\\Sidevideos\\AR35MOTOR\\2022_01_27\\5.avi\n",
      "Saving filtered csv poses!\n",
      "Filtering with median model D:\\Sidevideos\\AR35MOTOR\\2022_01_27\\50.avi\n",
      "Saving filtered csv poses!\n",
      "Filtering with median model D:\\Sidevideos\\AR35MOTOR\\2022_01_27\\51.avi\n",
      "Saving filtered csv poses!\n",
      "Filtering with median model D:\\Sidevideos\\AR35MOTOR\\2022_01_27\\52.avi\n",
      "Saving filtered csv poses!\n",
      "Filtering with median model D:\\Sidevideos\\AR35MOTOR\\2022_01_27\\53.avi\n",
      "Saving filtered csv poses!\n",
      "Filtering with median model D:\\Sidevideos\\AR35MOTOR\\2022_01_27\\54.avi\n",
      "Saving filtered csv poses!\n",
      "Filtering with median model D:\\Sidevideos\\AR35MOTOR\\2022_01_27\\55.avi\n",
      "Saving filtered csv poses!\n",
      "Filtering with median model D:\\Sidevideos\\AR35MOTOR\\2022_01_27\\56.avi\n",
      "Saving filtered csv poses!\n",
      "Filtering with median model D:\\Sidevideos\\AR35MOTOR\\2022_01_27\\57.avi\n",
      "Saving filtered csv poses!\n",
      "Filtering with median model D:\\Sidevideos\\AR35MOTOR\\2022_01_27\\58.avi\n",
      "Saving filtered csv poses!\n",
      "Filtering with median model D:\\Sidevideos\\AR35MOTOR\\2022_01_27\\59.avi\n",
      "Saving filtered csv poses!\n",
      "Filtering with median model D:\\Sidevideos\\AR35MOTOR\\2022_01_27\\6.avi\n",
      "Saving filtered csv poses!\n",
      "Filtering with median model D:\\Sidevideos\\AR35MOTOR\\2022_01_27\\60.avi\n",
      "Saving filtered csv poses!\n",
      "Filtering with median model D:\\Sidevideos\\AR35MOTOR\\2022_01_27\\61.avi\n",
      "Saving filtered csv poses!\n",
      "Filtering with median model D:\\Sidevideos\\AR35MOTOR\\2022_01_27\\62.avi\n",
      "Saving filtered csv poses!\n",
      "Filtering with median model D:\\Sidevideos\\AR35MOTOR\\2022_01_27\\63.avi\n",
      "Saving filtered csv poses!\n",
      "Filtering with median model D:\\Sidevideos\\AR35MOTOR\\2022_01_27\\64.avi\n",
      "Saving filtered csv poses!\n",
      "Filtering with median model D:\\Sidevideos\\AR35MOTOR\\2022_01_27\\65.avi\n",
      "Saving filtered csv poses!\n",
      "Filtering with median model D:\\Sidevideos\\AR35MOTOR\\2022_01_27\\66.avi\n",
      "Saving filtered csv poses!\n",
      "Filtering with median model D:\\Sidevideos\\AR35MOTOR\\2022_01_27\\67.avi\n",
      "Saving filtered csv poses!\n",
      "Filtering with median model D:\\Sidevideos\\AR35MOTOR\\2022_01_27\\68.avi\n",
      "Saving filtered csv poses!\n",
      "Filtering with median model D:\\Sidevideos\\AR35MOTOR\\2022_01_27\\69.avi\n",
      "Saving filtered csv poses!\n",
      "Filtering with median model D:\\Sidevideos\\AR35MOTOR\\2022_01_27\\7.avi\n",
      "Saving filtered csv poses!\n",
      "Filtering with median model D:\\Sidevideos\\AR35MOTOR\\2022_01_27\\70.avi\n",
      "Saving filtered csv poses!\n",
      "Filtering with median model D:\\Sidevideos\\AR35MOTOR\\2022_01_27\\71.avi\n",
      "Saving filtered csv poses!\n",
      "Filtering with median model D:\\Sidevideos\\AR35MOTOR\\2022_01_27\\72.avi\n",
      "Saving filtered csv poses!\n",
      "Filtering with median model D:\\Sidevideos\\AR35MOTOR\\2022_01_27\\73.avi\n",
      "Saving filtered csv poses!\n",
      "Filtering with median model D:\\Sidevideos\\AR35MOTOR\\2022_01_27\\74.avi\n",
      "Saving filtered csv poses!\n",
      "Filtering with median model D:\\Sidevideos\\AR35MOTOR\\2022_01_27\\75.avi\n",
      "Saving filtered csv poses!\n",
      "Filtering with median model D:\\Sidevideos\\AR35MOTOR\\2022_01_27\\76.avi\n",
      "Saving filtered csv poses!\n",
      "Filtering with median model D:\\Sidevideos\\AR35MOTOR\\2022_01_27\\77.avi\n",
      "Saving filtered csv poses!\n",
      "Filtering with median model D:\\Sidevideos\\AR35MOTOR\\2022_01_27\\78.avi\n",
      "Saving filtered csv poses!\n",
      "Filtering with median model D:\\Sidevideos\\AR35MOTOR\\2022_01_27\\79.avi\n",
      "Saving filtered csv poses!\n",
      "Filtering with median model D:\\Sidevideos\\AR35MOTOR\\2022_01_27\\8.avi\n",
      "Saving filtered csv poses!\n",
      "Filtering with median model D:\\Sidevideos\\AR35MOTOR\\2022_01_27\\80.avi\n",
      "Saving filtered csv poses!\n",
      "Filtering with median model D:\\Sidevideos\\AR35MOTOR\\2022_01_27\\81.avi\n",
      "Saving filtered csv poses!\n",
      "Filtering with median model D:\\Sidevideos\\AR35MOTOR\\2022_01_27\\82.avi\n",
      "Saving filtered csv poses!\n",
      "Filtering with median model D:\\Sidevideos\\AR35MOTOR\\2022_01_27\\83.avi\n",
      "Saving filtered csv poses!\n",
      "Filtering with median model D:\\Sidevideos\\AR35MOTOR\\2022_01_27\\84.avi\n",
      "Saving filtered csv poses!\n",
      "Filtering with median model D:\\Sidevideos\\AR35MOTOR\\2022_01_27\\85.avi\n",
      "Saving filtered csv poses!\n",
      "Filtering with median model D:\\Sidevideos\\AR35MOTOR\\2022_01_27\\86.avi\n",
      "Saving filtered csv poses!\n",
      "Filtering with median model D:\\Sidevideos\\AR35MOTOR\\2022_01_27\\87.avi\n",
      "Saving filtered csv poses!\n",
      "Filtering with median model D:\\Sidevideos\\AR35MOTOR\\2022_01_27\\88.avi\n",
      "Saving filtered csv poses!\n",
      "Filtering with median model D:\\Sidevideos\\AR35MOTOR\\2022_01_27\\89.avi\n",
      "Saving filtered csv poses!\n",
      "Filtering with median model D:\\Sidevideos\\AR35MOTOR\\2022_01_27\\9.avi\n",
      "Saving filtered csv poses!\n",
      "Filtering with median model D:\\Sidevideos\\AR35MOTOR\\2022_01_27\\90.avi\n",
      "Saving filtered csv poses!\n",
      "Filtering with median model D:\\Sidevideos\\AR35MOTOR\\2022_01_27\\91.avi\n",
      "Saving filtered csv poses!\n",
      "Filtering with median model D:\\Sidevideos\\AR35MOTOR\\2022_01_27\\92.avi\n",
      "Saving filtered csv poses!\n",
      "Filtering with median model D:\\Sidevideos\\AR35MOTOR\\2022_01_27\\93.avi\n",
      "Saving filtered csv poses!\n",
      "Filtering with median model D:\\Sidevideos\\AR35MOTOR\\2022_01_27\\94.avi\n",
      "Saving filtered csv poses!\n",
      "Filtering with median model D:\\Sidevideos\\AR35MOTOR\\2022_01_27\\95.avi\n"
     ]
    },
    {
     "name": "stdout",
     "output_type": "stream",
     "text": [
      "Saving filtered csv poses!\n",
      "Filtering with median model D:\\Sidevideos\\AR35MOTOR\\2022_01_27\\96.avi\n",
      "Saving filtered csv poses!\n",
      "Filtering with median model D:\\Sidevideos\\AR35MOTOR\\2022_01_27\\97.avi\n",
      "Saving filtered csv poses!\n",
      "Filtering with median model D:\\Sidevideos\\AR35MOTOR\\2022_01_27\\98.avi\n",
      "Saving filtered csv poses!\n",
      "Filtering with median model D:\\Sidevideos\\AR35MOTOR\\2022_01_27\\99.avi\n",
      "Saving filtered csv poses!\n"
     ]
    }
   ],
   "source": [
    "path_config_file = 'D:\\\\Sidevideos\\\\DLC\\\\Sideview4-Arash-2021-07-18\\\\config.yaml';\n",
    "#Mainfolder = 'D:\\\\videos\\\\ar32\\\\2020_12_18';\n",
    "path_config_file ='C:\\\\Users\\\\dklab\\\\Dropbox\\\\Notebook\\\\DLC\\\\Sideview_Aug-Arash-2021-08-04\\\\config.yaml';\n",
    "#Mainfolder = 'D:\\\\videos\\\\ar32\\\\2020_12_18';\n",
    "import os\n",
    "text_files = [os.path.join(Mainfolder,f) for f in os.listdir(Mainfolder) if f.endswith('.avi') and not f.endswith('L.avi') and not f.endswith('R.avi') and not f.endswith('videopoints.avi') and not f.endswith('videopoints.avi')]\n",
    "print(text_files[1])\n",
    "#text_files='C:\\\\videos\\\\ar30motor\\\\2021_04_25\\\\9.avi'\n",
    "temp1=deeplabcut.analyze_videos(path_config_file,text_files,shuffle=1, save_as_csv=True )\n",
    "temp=deeplabcut.filterpredictions(path_config_file,text_files)"
   ]
  },
  {
   "cell_type": "code",
   "execution_count": 6,
   "metadata": {},
   "outputs": [],
   "source": [
    "Mainfolder = 'D:\\\\Sidevideos\\\\ar34motor\\\\2021_12_16'\n",
    "Mainfolder = 'D:\\\\Sidevideos\\\\AR35MOTOR\\\\2022_01_27'\n",
    "import extract_eye_imagesion\n",
    "extract_eye_imagesion.extract_eye_videos(Mainfolder)"
   ]
  },
  {
   "cell_type": "markdown",
   "metadata": {},
   "source": [
    "## this step is to load analze eye data"
   ]
  },
  {
   "cell_type": "code",
   "execution_count": null,
   "metadata": {},
   "outputs": [],
   "source": [
    "import deeplabcut\n",
    "## https://github.com/AlexEMG/DeepLabCut"
   ]
  },
  {
   "cell_type": "code",
   "execution_count": null,
   "metadata": {},
   "outputs": [],
   "source": [
    "path_config_file = 'D:\\\\Sidevideos\\\\DLC\\\\Sideview4-Arash-2021-07-18\\\\config.yaml';\n",
    "#Mainfolder = 'D:\\\\videos\\\\ar32\\\\2020_12_18';\n",
    "path_config_file ='D:\\\\Sidevideos\\\\DLC\\\\Sideview_Aug-Arash-2021-08-04\\\\config.yaml';\n",
    "#Mainfolder = 'D:\\\\videos\\\\ar32\\\\2020_12_18';\n",
    "import os\n",
    "text_files = [os.path.join(Mainfolder,f) for f in os.listdir(Mainfolder) if f.endswith('.avi') and not f.endswith('L.avi') and not f.endswith('R.avi') and not f.endswith('videopoints.avi') and not f.endswith('videopoints.avi')]\n",
    "print(text_files[1])\n",
    "#text_files='C:\\\\videos\\\\ar30motor\\\\2021_04_25\\\\9.avi'\n",
    "temp1=deeplabcut.analyze_videos(path_config_file,text_files,shuffle=1, save_as_csv=True )\n",
    "temp=deeplabcut.filterpredictions(path_config_file,text_files)"
   ]
  },
  {
   "cell_type": "markdown",
   "metadata": {},
   "source": [
    "# this step should take the filtered DLC output (Nose and Snout)\n",
    "and create the L and R movies\n",
    "then using another function to convert L and R (R is left face and L is right face) files into Mask and Mirror files( Mask only adds mask to the Right side of the face and Mirror. \n"
   ]
  },
  {
   "cell_type": "markdown",
   "metadata": {},
   "source": [
    "# copy tracked files into the server (with mp4 movies)"
   ]
  },
  {
   "cell_type": "code",
   "execution_count": null,
   "metadata": {},
   "outputs": [],
   "source": [
    "# the code to run matlab here\n",
    "#Mainfolder = 'C:\\\\videos\\\\ar344thday\\\\2021_07_26'\n",
    "# copy tracked files into the server (with mp4 movies)\n",
    "Mainfolder = 'D:\\\\Sidevideos\\\\ar32motor\\\\2021_08_02'\n",
    "\n",
    "#Mainfolder = 'D:\\\\Sidevideos\\\\ar344thday\\\\2021_07_26'\n",
    "#destination = ''\n",
    "destination='//dk-server.dk.ucsd.edu/afassihizakeri/SC_Movies/ar32motor/2021_08_02/Side'\n",
    "import shutil\n",
    "shutil.copytree( Mainfolder,destination, ignore=shutil.ignore_patterns('*.avi'),copy_function = shutil.copy)\n",
    "#copytree(Mainfolder, destination, ignore=ignore_patterns('*.avi'))\n",
    "\n",
    "\n"
   ]
  },
  {
   "cell_type": "markdown",
   "metadata": {},
   "source": [
    "this step makes Mirror Mask files"
   ]
  },
  {
   "cell_type": "markdown",
   "metadata": {},
   "source": [
    "# copy tracked data"
   ]
  },
  {
   "cell_type": "code",
   "execution_count": null,
   "metadata": {},
   "outputs": [],
   "source": [
    "import os  # this is to get folder information and creat files\n",
    "import cv2  # this is important and is reading and writing images and video\n",
    "import shutil\n",
    "destination='//dk-server.dk.ucsd.edu/afassihizakeri/SC_Movies/ar34training/4thdayside'\n",
    "\n",
    "All_Folders=[ name for name in os.listdir(Mainfolder) if not os.path.isdir(os.path.join(Mainfolder, name)) ]\n",
    "#print(All_Folders)\n",
    "for num in range(0,len(All_Folders)): \n",
    "    thisdestination = os.path.join(destination+'/', All_Folders[num])\n",
    "    thissource = os.path.join(Mainfolder+os.sep, All_Folders[num])\n",
    "    shutil.copy( thissource,destination)\n",
    "    print(thisdestination)\n"
   ]
  }
 ],
 "metadata": {
  "kernelspec": {
   "display_name": "Python 3",
   "language": "python",
   "name": "python3"
  },
  "language_info": {
   "codemirror_mode": {
    "name": "ipython",
    "version": 3
   },
   "file_extension": ".py",
   "mimetype": "text/x-python",
   "name": "python",
   "nbconvert_exporter": "python",
   "pygments_lexer": "ipython3",
   "version": "3.6.6"
  }
 },
 "nbformat": 4,
 "nbformat_minor": 2
}
