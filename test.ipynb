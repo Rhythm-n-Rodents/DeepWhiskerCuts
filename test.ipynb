{
 "cells": [
  {
   "cell_type": "code",
   "execution_count": null,
   "metadata": {},
   "outputs": [
    {
     "ename": "",
     "evalue": "",
     "output_type": "error",
     "traceback": [
      "\u001b[1;31mRunning cells with 'Python 3.10.6 ('dlc')' requires ipykernel package.\n",
      "\u001b[1;31mRun the following command to install 'ipykernel' into the Python environment. \n",
      "\u001b[1;31mCommand: 'conda install -n dlc ipykernel --update-deps --force-reinstall'"
     ]
    }
   ],
   "source": [
    "import os\n",
    "from ProgressManager import ExperimentManager\n",
    "import numpy as np\n",
    "from MovieTools import make_movie_and_stimulus_file\n",
    "from pipeline import analyze_side_view_video,extract_eye_videos"
   ]
  },
  {
   "cell_type": "code",
   "execution_count": 7,
   "metadata": {},
   "outputs": [
    {
     "name": "stderr",
     "output_type": "stream",
     "text": [
      "processing videos: 100%|██████████| 196/196 [00:00<00:00, 652.89it/s]\n",
      "processing videos: 100%|██████████| 196/196 [17:09<00:00,  5.25s/it]\n"
     ]
    },
    {
     "name": "stdout",
     "output_type": "stream",
     "text": [
      "['0', '1', '10', '100', '101', '102', '103', '104', '105', '106', '107', '108', '109', '11', '110', '111', '112', '113', '114', '115', '116', '117', '118', '119', '12', '120', '121', '122', '123', '124', '125', '126', '127', '128', '129', '13', '130', '131', '132', '133', '134', '135', '136', '137', '138', '139', '14', '140', '141', '142', '143', '144', '145', '146', '147', '148', '149', '15', '150', '151', '152', '153', '154', '155', '156', '157', '158', '159', '16', '160', '161', '162', '163', '164', '165', '166', '167', '168', '169', '17', '170', '171', '172', '173', '174', '175', '176', '177', '178', '179', '18', '180', '181', '182', '183', '184', '185', '186', '187', '188', '189', '19', '190', '191', '192', '193', '194', '195', '2', '20', '21', '22', '23', '24', '25', '26', '27', '28', '29', '3', '30', '31', '32', '33', '34', '35', '36', '37', '38', '39', '4', '40', '41', '42', '43', '44', '45', '46', '47', '48', '49', '5', '50', '51', '52', '53', '54', '55', '56', '57', '58', '59', '6', '60', '61', '62', '63', '64', '65', '66', '67', '68', '69', '7', '70', '71', '72', '73', '74', '75', '76', '77', '78', '79', '8', '80', '81', '82', '83', '84', '85', '86', '87', '88', '89', '9', '90', '91', '92', '93', '94', '95', '96', '97', '98', '99']\n"
     ]
    }
   ],
   "source": [
    "dir = r'D:\\Sidevideos\\ar37motor\\2023_02_17_ 114921'\n",
    "os.listdir(dir)\n",
    "manager = ExperimentManager(dir,mode = 'side')"
   ]
  },
  {
   "cell_type": "code",
   "execution_count": null,
   "metadata": {},
   "outputs": [
    {
     "ename": "NameError",
     "evalue": "name 'tqdm' is not defined",
     "output_type": "error",
     "traceback": [
      "\u001b[1;31m---------------------------------------------------------------------------\u001b[0m",
      "\u001b[1;31mNameError\u001b[0m                                 Traceback (most recent call last)",
      "\u001b[1;32mc:\\Users\\dklab\\DeepWhiskerCuts\\test.ipynb Cell 3\u001b[0m in \u001b[0;36m<module>\u001b[1;34m\u001b[0m\n\u001b[1;32m----> <a href='vscode-notebook-cell:/c%3A/Users/dklab/DeepWhiskerCuts/test.ipynb#X13sZmlsZQ%3D%3D?line=0'>1</a>\u001b[0m analyze_side_view_video(\u001b[39mdir\u001b[39;49m)\n\u001b[0;32m      <a href='vscode-notebook-cell:/c%3A/Users/dklab/DeepWhiskerCuts/test.ipynb#X13sZmlsZQ%3D%3D?line=1'>2</a>\u001b[0m extract_eye_videos(\u001b[39mdir\u001b[39m,\u001b[39m'\u001b[39m\u001b[39mDLC_resnet50_SideviewLeft_Feb2022Feb8shuffle1_271000\u001b[39m\u001b[39m'\u001b[39m)\n",
      "File \u001b[1;32mc:\\Users\\dklab\\DeepWhiskerCuts\\pipeline.py:28\u001b[0m, in \u001b[0;36manalyze_side_view_video\u001b[1;34m(data_path)\u001b[0m\n\u001b[0;32m     26\u001b[0m     deeplabcut\u001b[39m.\u001b[39manalyze_videos(this_computer[\u001b[39m'\u001b[39m\u001b[39mside_view_config\u001b[39m\u001b[39m'\u001b[39m],[video],shuffle\u001b[39m=\u001b[39m\u001b[39m2\u001b[39m, save_as_csv\u001b[39m=\u001b[39m\u001b[39mTrue\u001b[39;00m )\n\u001b[0;32m     27\u001b[0m     deeplabcut\u001b[39m.\u001b[39mfilterpredictions(this_computer[\u001b[39m'\u001b[39m\u001b[39mside_view_config\u001b[39m\u001b[39m'\u001b[39m],[video],shuffle\u001b[39m=\u001b[39m\u001b[39m2\u001b[39m, save_as_csv\u001b[39m=\u001b[39m\u001b[39mTrue\u001b[39;00m )\n\u001b[1;32m---> 28\u001b[0m run_dlc_with_error_handling(videos,deeplabcut_function)\n",
      "File \u001b[1;32mc:\\Users\\dklab\\DeepWhiskerCuts\\pipeline.py:59\u001b[0m, in \u001b[0;36mrun_dlc_with_error_handling\u001b[1;34m(videos, deeplabcut_function)\u001b[0m\n\u001b[0;32m     58\u001b[0m \u001b[39mdef\u001b[39;00m \u001b[39mrun_dlc_with_error_handling\u001b[39m(videos,deeplabcut_function):\n\u001b[1;32m---> 59\u001b[0m     \u001b[39mfor\u001b[39;00m videoi \u001b[39min\u001b[39;00m tqdm(\u001b[39mrange\u001b[39m(videos),\u001b[39m'\u001b[39m\u001b[39mprocessing videos\u001b[39m\u001b[39m'\u001b[39m): \n\u001b[0;32m     60\u001b[0m         video \u001b[39m=\u001b[39m videos[videoi]\n\u001b[0;32m     61\u001b[0m         \u001b[39mtry\u001b[39;00m:\n",
      "\u001b[1;31mNameError\u001b[0m: name 'tqdm' is not defined"
     ]
    }
   ],
   "source": [
    "manager.copy_full_resolution_videos(r'\\\\dk-server.dk.ucsd.edu\\afassihizakeri\\eyemovies\\Leftcam1')"
   ]
  },
  {
   "cell_type": "code",
   "execution_count": null,
   "metadata": {},
   "outputs": [],
   "source": []
  }
 ],
 "metadata": {
  "kernelspec": {
   "display_name": "Python 3.10.6 ('dlc')",
   "language": "python",
   "name": "python3"
  },
  "language_info": {
   "codemirror_mode": {
    "name": "ipython",
    "version": 3
   },
   "file_extension": ".py",
   "mimetype": "text/x-python",
   "name": "python",
   "nbconvert_exporter": "python",
   "pygments_lexer": "ipython3",
   "version": "3.10.6"
  },
  "orig_nbformat": 4,
  "vscode": {
   "interpreter": {
    "hash": "35994ccafc3adaddb33ededac894718b3dc71e9a9cc51aec96e73fddff845f3b"
   }
  }
 },
 "nbformat": 4,
 "nbformat_minor": 2
}
