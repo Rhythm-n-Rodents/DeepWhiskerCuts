{
 "cells": [
  {
   "cell_type": "code",
   "execution_count": 1,
   "metadata": {},
   "outputs": [
    {
     "name": "stderr",
     "output_type": "stream",
     "text": [
      "2022-10-05 12:19:47.895265: I tensorflow/core/platform/cpu_feature_guard.cc:193] This TensorFlow binary is optimized with oneAPI Deep Neural Network Library (oneDNN) to use the following CPU instructions in performance-critical operations:  AVX2 AVX512F AVX512_VNNI FMA\n",
      "To enable them in other operations, rebuild TensorFlow with the appropriate compiler flags.\n",
      "2022-10-05 12:19:48.160914: I tensorflow/core/util/util.cc:169] oneDNN custom operations are on. You may see slightly different numerical results due to floating-point round-off errors from different computation orders. To turn them off, set the environment variable `TF_ENABLE_ONEDNN_OPTS=0`.\n",
      "2022-10-05 12:19:48.203182: W tensorflow/stream_executor/platform/default/dso_loader.cc:64] Could not load dynamic library 'libcudart.so.11.0'; dlerror: libcudart.so.11.0: cannot open shared object file: No such file or directory; LD_LIBRARY_PATH: /home/zhw272/.local/lib/python3.8/site-packages/cv2/../../lib64:\n",
      "2022-10-05 12:19:48.203219: I tensorflow/stream_executor/cuda/cudart_stub.cc:29] Ignore above cudart dlerror if you do not have a GPU set up on your machine.\n",
      "2022-10-05 12:19:48.264630: E tensorflow/stream_executor/cuda/cuda_blas.cc:2981] Unable to register cuBLAS factory: Attempting to register factory for plugin cuBLAS when one has already been registered\n",
      "2022-10-05 12:19:49.492561: W tensorflow/stream_executor/platform/default/dso_loader.cc:64] Could not load dynamic library 'libnvinfer.so.7'; dlerror: libnvinfer.so.7: cannot open shared object file: No such file or directory; LD_LIBRARY_PATH: /home/zhw272/.local/lib/python3.8/site-packages/cv2/../../lib64:\n",
      "2022-10-05 12:19:49.492704: W tensorflow/stream_executor/platform/default/dso_loader.cc:64] Could not load dynamic library 'libnvinfer_plugin.so.7'; dlerror: libnvinfer_plugin.so.7: cannot open shared object file: No such file or directory; LD_LIBRARY_PATH: /home/zhw272/.local/lib/python3.8/site-packages/cv2/../../lib64:\n",
      "2022-10-05 12:19:49.492715: W tensorflow/compiler/tf2tensorrt/utils/py_utils.cc:38] TF-TRT Warning: Cannot dlopen some TensorRT libraries. If you would like to use Nvidia GPU with TensorRT, please make sure the missing libraries mentioned above are installed properly.\n"
     ]
    },
    {
     "name": "stdout",
     "output_type": "stream",
     "text": [
      "Loading DLC 2.2.2...\n",
      "DLC loaded in light mode; you cannot use any GUI (labeling, relabeling and standalone GUI)\n"
     ]
    },
    {
     "name": "stderr",
     "output_type": "stream",
     "text": [
      "/home/zhw272/.local/lib/python3.8/site-packages/tqdm/auto.py:22: TqdmWarning: IProgress not found. Please update jupyter and ipywidgets. See https://ipywidgets.readthedocs.io/en/stable/user_install.html\n",
      "  from .autonotebook import tqdm as notebook_tqdm\n"
     ]
    }
   ],
   "source": [
    "from MovieTools import make_movie_and_stimulus_file,save_trial_n,extract_eye_videos\n",
    "import re\n",
    "import deeplabcut\n",
    "import os\n",
    "import shutil\n",
    "from glob import glob"
   ]
  },
  {
   "cell_type": "code",
   "execution_count": 2,
   "metadata": {},
   "outputs": [],
   "source": [
    "folders = glob(f'/net/dk-server/afassihizakeri/movies_Rat_SC_project/*/')"
   ]
  },
  {
   "cell_type": "code",
   "execution_count": 3,
   "metadata": {},
   "outputs": [],
   "source": [
    "subfolders = []\n",
    "for i in folders:\n",
    "    subfolders = subfolders +glob(f'{i}/*/')"
   ]
  },
  {
   "cell_type": "code",
   "execution_count": 4,
   "metadata": {},
   "outputs": [],
   "source": [
    "priority =[ #'/net/dk-server/afassihizakeri/movies_Rat_SC_project/ar19muscimol500ug500nlrightside/10_10_19/',\n",
    " '/net/dk-server/afassihizakeri/movies_Rat_SC_project/ar2muscimol500nl500igmlrightside/10_11_19/',\n",
    " '/net/dk-server/afassihizakeri/movies_Rat_SC_project/ar19Muscimolrightside500mg500nl/10_19_19/',\n",
    " '/net/dk-server/afassihizakeri/movies_Rat_SC_project/ar19Muscimolrightside500mg500nl/10_21_19/',]"
   ]
  },
  {
   "cell_type": "code",
   "execution_count": 5,
   "metadata": {},
   "outputs": [
    {
     "name": "stdout",
     "output_type": "stream",
     "text": [
      "/net/dk-server/afassihizakeri/movies_Rat_SC_project/ar19muscimol500ug500nlrightside/10_10_19/\n",
      "/net/dk-server/afassihizakeri/movies_Rat_SC_project/ar2muscimol500nl500igmlrightside/10_11_19/\n",
      "/net/dk-server/afassihizakeri/movies_Rat_SC_project/ar19Muscimolrightside500mg500nl/10_19_19/\n",
      "/net/dk-server/afassihizakeri/movies_Rat_SC_project/ar19Muscimolrightside500mg500nl/10_21_19/\n"
     ]
    }
   ],
   "source": [
    "error_list = []\n",
    "for data_path in priority:\n",
    "    print(data_path)\n",
    "    try:\n",
    "        make_movie_and_stimulus_file(data_path,parallel=True,ncores = 16)\n",
    "        save_trial_n(data_path)\n",
    "    except:\n",
    "        error_list.append(data_path)\n"
   ]
  },
  {
   "cell_type": "code",
   "execution_count": 6,
   "metadata": {},
   "outputs": [
    {
     "data": {
      "text/plain": [
       "['/net/dk-server/afassihizakeri/movies_Rat_SC_project/ar19muscimol500ug500nlrightside/10_10_19/',\n",
       " '/net/dk-server/afassihizakeri/movies_Rat_SC_project/ar2muscimol500nl500igmlrightside/10_11_19/',\n",
       " '/net/dk-server/afassihizakeri/movies_Rat_SC_project/ar19Muscimolrightside500mg500nl/10_19_19/',\n",
       " '/net/dk-server/afassihizakeri/movies_Rat_SC_project/ar19Muscimolrightside500mg500nl/10_21_19/']"
      ]
     },
     "execution_count": 6,
     "metadata": {},
     "output_type": "execute_result"
    }
   ],
   "source": [
    "error_list"
   ]
  },
  {
   "cell_type": "code",
   "execution_count": null,
   "metadata": {},
   "outputs": [],
   "source": []
  }
 ],
 "metadata": {
  "kernelspec": {
   "display_name": "Python 3.10.4 64-bit",
   "language": "python",
   "name": "python3"
  },
  "language_info": {
   "codemirror_mode": {
    "name": "ipython",
    "version": 3
   },
   "file_extension": ".py",
   "mimetype": "text/x-python",
   "name": "python",
   "nbconvert_exporter": "python",
   "pygments_lexer": "ipython3",
   "version": "3.8.10"
  },
  "orig_nbformat": 4,
  "vscode": {
   "interpreter": {
    "hash": "31f2aee4e71d21fbe5cf8b01ff0e069b9275f58929596ceb00d14d90e3e16cd6"
   }
  }
 },
 "nbformat": 4,
 "nbformat_minor": 2
}
