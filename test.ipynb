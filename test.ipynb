{
 "cells": [
  {
   "cell_type": "code",
   "execution_count": 1,
   "metadata": {},
   "outputs": [
    {
     "name": "stderr",
     "output_type": "stream",
     "text": [
      "c:\\Users\\dklab\\miniconda3\\envs\\DEEPLABCUT\\lib\\site-packages\\numpy\\_distributor_init.py:30: UserWarning: loaded more than 1 DLL from .libs:\n",
      "c:\\Users\\dklab\\miniconda3\\envs\\DEEPLABCUT\\lib\\site-packages\\numpy\\.libs\\libopenblas.GK7GX5KEQ4F6UYO3P26ULGBQYHGQO7J4.gfortran-win_amd64.dll\n",
      "c:\\Users\\dklab\\miniconda3\\envs\\DEEPLABCUT\\lib\\site-packages\\numpy\\.libs\\libopenblas.WCDJNK7YVMPZQ2ME2ZZHJJRJ3JIKNDB7.gfortran-win_amd64.dll\n",
      "  warnings.warn(\"loaded more than 1 DLL from .libs:\"\n"
     ]
    },
    {
     "name": "stdout",
     "output_type": "stream",
     "text": [
      "Loading DLC 2.2.2...\n"
     ]
    }
   ],
   "source": [
    "from MovieTools import make_movie_and_stimulus_file,save_trial_n,extract_eye_videos\n",
    "import re\n",
    "import deeplabcut\n",
    "import os\n",
    "import shutil\n",
    "from glob import glob"
   ]
  },
  {
   "cell_type": "code",
   "execution_count": 12,
   "metadata": {},
   "outputs": [],
   "source": [
    "#folders = glob(r'R:\\afassihizakeri\\movies_Rat_SC_project\\*\\\\')\n",
    "folders = glob(r'R:\\afassihizakeri\\movies_Rat_SC_project\\ar2muscimol500nl500igmar13muscimolleft5ul500nl\\*\\\\')"
   ]
  },
  {
   "cell_type": "code",
   "execution_count": 14,
   "metadata": {},
   "outputs": [],
   "source": [
    "subfolders = []\n",
    "for i in folders:\n",
    "    subfolders = subfolders +glob(f'{i}/*/')"
   ]
  },
  {
   "cell_type": "code",
   "execution_count": 15,
   "metadata": {},
   "outputs": [
    {
     "name": "stdout",
     "output_type": "stream",
     "text": [
      "R:\\afassihizakeri\\movies_Rat_SC_project\\ar2muscimol500nl500igmar13muscimolleft5ul500nl\\10_11_19\\\n"
     ]
    },
    {
     "name": "stderr",
     "output_type": "stream",
     "text": [
      "processing videos: 100%|██████████| 15/15 [00:02<00:00,  6.24it/s]\n"
     ]
    },
    {
     "name": "stdout",
     "output_type": "stream",
     "text": [
      "['02-28-51', '02-29-20', '02-29-47', '02-30-12', '02-32-06', '02-32-30', '02-32-54', '02-33-23', '02-33-47', '02-34-11', '02-34-39', '02-35-04', '02-35-30', '02-35-55', '02-36-19']\n"
     ]
    }
   ],
   "source": [
    "error_list = []\n",
    "for data_path in folders:\n",
    "    print(data_path)\n",
    "    try:\n",
    "        make_movie_and_stimulus_file(data_path,parallel=True,ncores = 16)\n",
    "        save_trial_n(data_path)\n",
    "    except:\n",
    "        error_list.append(data_path)\n"
   ]
  },
  {
   "cell_type": "code",
   "execution_count": 13,
   "metadata": {},
   "outputs": [
    {
     "data": {
      "text/plain": [
       "['R:\\\\afassihizakeri\\\\movies_Rat_SC_project\\\\ar2muscimol500nl500igmar13muscimolleft5ul500nl\\\\10_11_19\\\\']"
      ]
     },
     "execution_count": 13,
     "metadata": {},
     "output_type": "execute_result"
    }
   ],
   "source": [
    "folders"
   ]
  },
  {
   "cell_type": "code",
   "execution_count": null,
   "metadata": {},
   "outputs": [],
   "source": [
    "side_view_config_file = ''\n",
    "eye_config_file = ''"
   ]
  },
  {
   "cell_type": "code",
   "execution_count": null,
   "metadata": {},
   "outputs": [],
   "source": [
    "error_list = []\n",
    "for data_path in folders:\n",
    "    print(data_path)\n",
    "    try:\n",
    "        videos = text_files = [os.path.join(data_path,f) for f in os.listdir(data_path) if f.endswith('.avi') and not f.endswith('L.avi') and not f.endswith('R.avi') and not f.endswith('videopoints.avi') and not f.endswith('videopoints.avi')]\n",
    "        temp1=deeplabcut.analyze_videos(side_view_config_file,videos,shuffle=1, save_as_csv=True )\n",
    "        extract_eye_videos(data_path,'DLC_resnet50_SideviewLeft_Feb2022Feb8shuffle1_271000')\n",
    "        eye_videos = [os.path.join(data_path,f) for f in os.listdir(data_path) if f.endswith('EYE.avi') and not f.endswith('L.avi') and not f.endswith('R.avi') and not f.endswith('videopoints.avi') and not f.endswith('videopoints.avi')]\n",
    "        temp=deeplabcut.filterpredictions(eye_config_file,eye_videos,shuffle=2)\n",
    "    except:\n",
    "        error_list.append(data_path)"
   ]
  },
  {
   "cell_type": "code",
   "execution_count": null,
   "metadata": {},
   "outputs": [],
   "source": []
  }
 ],
 "metadata": {
  "kernelspec": {
   "display_name": "Python 3.8.13 ('DEEPLABCUT')",
   "language": "python",
   "name": "python3"
  },
  "language_info": {
   "codemirror_mode": {
    "name": "ipython",
    "version": 3
   },
   "file_extension": ".py",
   "mimetype": "text/x-python",
   "name": "python",
   "nbconvert_exporter": "python",
   "pygments_lexer": "ipython3",
   "version": "3.8.13"
  },
  "orig_nbformat": 4,
  "vscode": {
   "interpreter": {
    "hash": "1cd4db8194cf9c99159e3f5770dbaeb2f3754a119aa331ee2d0b6b0362daf823"
   }
  }
 },
 "nbformat": 4,
 "nbformat_minor": 2
}
