{
 "cells": [
  {
   "cell_type": "code",
   "execution_count": 1,
   "metadata": {},
   "outputs": [],
   "source": [
    "import os\n",
    "from ProgressManager import ExperimentManager\n",
    "import numpy as np"
   ]
  },
  {
   "cell_type": "code",
   "execution_count": 2,
   "metadata": {},
   "outputs": [],
   "source": [
    "dir = r'D:\\Sidevideos\\ar37motor\\2023_02_17_ 114921'\n",
    "os.listdir(dir)\n",
    "manager = ExperimentManager(dir,mode = 'side')"
   ]
  },
  {
   "cell_type": "code",
   "execution_count": 3,
   "metadata": {},
   "outputs": [
    {
     "ename": "KeyboardInterrupt",
     "evalue": "",
     "output_type": "error",
     "traceback": [
      "\u001b[1;31m---------------------------------------------------------------------------\u001b[0m",
      "\u001b[1;31mKeyboardInterrupt\u001b[0m                         Traceback (most recent call last)",
      "\u001b[1;32mc:\\Users\\dklab\\DeepWhiskerCuts\\test.ipynb Cell 3\u001b[0m in \u001b[0;36m<module>\u001b[1;34m\u001b[0m\n\u001b[1;32m----> <a href='vscode-notebook-cell:/c%3A/Users/dklab/DeepWhiskerCuts/test.ipynb#W5sZmlsZQ%3D%3D?line=0'>1</a>\u001b[0m manager\u001b[39m.\u001b[39;49mcopy_full_resolution_videos(\u001b[39mr\u001b[39;49m\u001b[39m'\u001b[39;49m\u001b[39m\\\\\u001b[39;49;00m\u001b[39mdk-server.dk.ucsd.edu\u001b[39;49m\u001b[39m\\\u001b[39;49m\u001b[39mafassihizakeri\u001b[39;49m\u001b[39m\\\u001b[39;49m\u001b[39meyemovies\u001b[39;49m\u001b[39m\\\u001b[39;49m\u001b[39mRightcam1\u001b[39;49m\u001b[39m'\u001b[39;49m)\n",
      "File \u001b[1;32mc:\\Users\\dklab\\DeepWhiskerCuts\\ProgressManager.py:198\u001b[0m, in \u001b[0;36mExperimentManager.copy_full_resolution_videos\u001b[1;34m(self, destination)\u001b[0m\n\u001b[0;32m    196\u001b[0m \u001b[39mdef\u001b[39;00m \u001b[39mcopy_full_resolution_videos\u001b[39m(\u001b[39mself\u001b[39m,destination):\n\u001b[0;32m    197\u001b[0m     videos \u001b[39m=\u001b[39m [i\u001b[39m.\u001b[39mget_files_containing_substring(\u001b[39m'\u001b[39m\u001b[39m.avi\u001b[39m\u001b[39m'\u001b[39m)[\u001b[39m0\u001b[39m] \u001b[39mfor\u001b[39;00m i \u001b[39min\u001b[39;00m \u001b[39mself\u001b[39m\u001b[39m.\u001b[39mtrials]\n\u001b[1;32m--> 198\u001b[0m     [shutil\u001b[39m.\u001b[39mcopyfile(os\u001b[39m.\u001b[39mpath\u001b[39m.\u001b[39mjoin(\u001b[39mself\u001b[39m\u001b[39m.\u001b[39mdir,i),os\u001b[39m.\u001b[39mpath\u001b[39m.\u001b[39mjoin(destination,i)) \u001b[39mfor\u001b[39;00m i \u001b[39min\u001b[39;00m videos]\n",
      "File \u001b[1;32mc:\\Users\\dklab\\DeepWhiskerCuts\\ProgressManager.py:198\u001b[0m, in \u001b[0;36m<listcomp>\u001b[1;34m(.0)\u001b[0m\n\u001b[0;32m    196\u001b[0m \u001b[39mdef\u001b[39;00m \u001b[39mcopy_full_resolution_videos\u001b[39m(\u001b[39mself\u001b[39m,destination):\n\u001b[0;32m    197\u001b[0m     videos \u001b[39m=\u001b[39m [i\u001b[39m.\u001b[39mget_files_containing_substring(\u001b[39m'\u001b[39m\u001b[39m.avi\u001b[39m\u001b[39m'\u001b[39m)[\u001b[39m0\u001b[39m] \u001b[39mfor\u001b[39;00m i \u001b[39min\u001b[39;00m \u001b[39mself\u001b[39m\u001b[39m.\u001b[39mtrials]\n\u001b[1;32m--> 198\u001b[0m     [shutil\u001b[39m.\u001b[39;49mcopyfile(os\u001b[39m.\u001b[39;49mpath\u001b[39m.\u001b[39;49mjoin(\u001b[39mself\u001b[39;49m\u001b[39m.\u001b[39;49mdir,i),os\u001b[39m.\u001b[39;49mpath\u001b[39m.\u001b[39;49mjoin(destination,i)) \u001b[39mfor\u001b[39;00m i \u001b[39min\u001b[39;00m videos]\n",
      "File \u001b[1;32mc:\\Users\\dklab\\anaconda3\\envs\\DEEPLABCUT\\lib\\shutil.py:282\u001b[0m, in \u001b[0;36mcopyfile\u001b[1;34m(src, dst, follow_symlinks)\u001b[0m\n\u001b[0;32m    279\u001b[0m \u001b[39m# Windows, see:\u001b[39;00m\n\u001b[0;32m    280\u001b[0m \u001b[39m# https://github.com/python/cpython/pull/7160#discussion_r195405230\u001b[39;00m\n\u001b[0;32m    281\u001b[0m \u001b[39melif\u001b[39;00m _WINDOWS \u001b[39mand\u001b[39;00m file_size \u001b[39m>\u001b[39m \u001b[39m0\u001b[39m:\n\u001b[1;32m--> 282\u001b[0m     _copyfileobj_readinto(fsrc, fdst, \u001b[39mmin\u001b[39;49m(file_size, COPY_BUFSIZE))\n\u001b[0;32m    283\u001b[0m     \u001b[39mreturn\u001b[39;00m dst\n\u001b[0;32m    285\u001b[0m copyfileobj(fsrc, fdst)\n",
      "File \u001b[1;32mc:\\Users\\dklab\\anaconda3\\envs\\DEEPLABCUT\\lib\\shutil.py:195\u001b[0m, in \u001b[0;36m_copyfileobj_readinto\u001b[1;34m(fsrc, fdst, length)\u001b[0m\n\u001b[0;32m    193\u001b[0m         fdst\u001b[39m.\u001b[39mwrite(smv)\n\u001b[0;32m    194\u001b[0m \u001b[39melse\u001b[39;00m:\n\u001b[1;32m--> 195\u001b[0m     fdst_write(mv)\n",
      "\u001b[1;31mKeyboardInterrupt\u001b[0m: "
     ]
    }
   ],
   "source": [
    "manager.copy_full_resolution_videos(r'\\\\dk-server.dk.ucsd.edu\\afassihizakeri\\eyemovies\\Leftcam1')"
   ]
  }
 ],
 "metadata": {
  "kernelspec": {
   "display_name": "Python 3.10.6 ('dlc')",
   "language": "python",
   "name": "python3"
  },
  "language_info": {
   "codemirror_mode": {
    "name": "ipython",
    "version": 3
   },
   "file_extension": ".py",
   "mimetype": "text/x-python",
   "name": "python",
   "nbconvert_exporter": "python",
   "pygments_lexer": "ipython3",
   "version": "3.10.6"
  },
  "orig_nbformat": 4,
  "vscode": {
   "interpreter": {
    "hash": "35994ccafc3adaddb33ededac894718b3dc71e9a9cc51aec96e73fddff845f3b"
   }
  }
 },
 "nbformat": 4,
 "nbformat_minor": 2
}
