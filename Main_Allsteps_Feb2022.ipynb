{
 "cells": [
  {
   "cell_type": "markdown",
   "metadata": {},
   "source": [
    "## Define the main folder"
   ]
  },
  {
   "cell_type": "code",
   "execution_count": null,
   "metadata": {},
   "outputs": [],
   "source": [
    "import main\n",
    "Mainfolder =  Mainfolder =  '\\\\\\\\dk-server.dk.ucsd.edu\\\\afassihizakeri\\\\Topviewmovies\\\\ar34motor\\\\2022_01_18\\\\';\n",
    "\n",
    "Mainfolder =  Mainfolder =   '\\\\\\\\dk-server.dk.ucsd.edu\\\\afassihizakeri\\\\Topviewmovies\\\\ar41motor\\\\2022_07_29\\\\';\n",
    "Mainfolder =  Mainfolder =   'F:\\\\videos\\\\ar41motor\\\\2022_07_29';\n",
    "\n",
    "# Enter the name of the folder with images folders inside \n",
    "import image_util"
   ]
  },
  {
   "cell_type": "markdown",
   "metadata": {},
   "source": [
    "# make movies and save trialnumber"
   ]
  },
  {
   "cell_type": "code",
   "execution_count": null,
   "metadata": {
    "scrolled": true
   },
   "outputs": [],
   "source": [
    "main.makemovieandLightfile(Mainfolder)\n",
    "main.save_trial_n(Mainfolder)\n"
   ]
  },
  {
   "cell_type": "markdown",
   "metadata": {},
   "source": [
    "# convert individual trials to MP4"
   ]
  },
  {
   "cell_type": "code",
   "execution_count": null,
   "metadata": {},
   "outputs": [],
   "source": [
    "\n",
    "\n",
    "main.convertvideotoMP4(mainfolder,Trial)"
   ]
  },
  {
   "cell_type": "markdown",
   "metadata": {},
   "source": [
    "# DLC on nose snout\n",
    "###### this step is to load deeplabcut and run already trained algorithm on new movies to track the nose and snout  (beads)"
   ]
  },
  {
   "cell_type": "code",
   "execution_count": 3,
   "metadata": {},
   "outputs": [],
   "source": [
    "import deeplabcut\n",
    "## https://github.com/AlexEMG/DeepLabCut"
   ]
  },
  {
   "cell_type": "code",
   "execution_count": null,
   "metadata": {
    "scrolled": true
   },
   "outputs": [],
   "source": [
    "path_config_file = 'F:\\\\DLC\\\\Topview3435-Arash-2021-07-28\\\\config.yaml'\n",
    "path_config_file ='\\\\\\\\dk-server.dk.ucsd.edu\\\\afassihizakeri\\\\DLC\\\\Topview3435-Arash-2021-07-28\\\\config.yaml';\n",
    "\n",
    "import os\n",
    "text_files = [os.path.join(Mainfolder,f) for f in os.listdir(Mainfolder) if f.endswith('video.mp4') and not f.endswith('L.avi') and not f.endswith('R.avi') and not f.endswith('videopoints.avi') and not f.endswith('videopoints.avi')]\n",
    "text_files = [os.path.join(Mainfolder,f) for f in os.listdir(Mainfolder) if f.endswith('.avi') and not f.endswith('L.avi') and not f.endswith('R.avi') and not f.endswith('videopoints.avi') and not f.endswith('videopoints.avi')]\n",
    "print(text_files[3])\n",
    "temp1=deeplabcut.analyze_videos(path_config_file,text_files,shuffle=1, save_as_csv=True )\n",
    "temp=deeplabcut.filterpredictions(path_config_file,text_files)"
   ]
  },
  {
   "cell_type": "markdown",
   "metadata": {},
   "source": [
    "# make left right movies out of DLC output\n",
    "this step should take the filtered DLC output (Nose and Snout) and create the L and R movies"
   ]
  },
  {
   "cell_type": "code",
   "execution_count": null,
   "metadata": {
    "scrolled": true
   },
   "outputs": [],
   "source": [
    "import time\n",
    "import numpy as np\n",
    "import os\n",
    "import LR_movie_maker_Main\n",
    "contrastfactor=1.05\n",
    "text_files = [os.path.join(Mainfolder,f) for f in os.listdir(Mainfolder) if f.endswith('.mp4') and not f.endswith('L.avi') and not f.endswith('R.avi') and not f.endswith('videopoints.avi') and not f.endswith('videopoints.avi')]\n",
    "print(len(text_files))\n",
    "for trial in range(len(text_files)):\n",
    "    t =time.time()\n",
    "    Tag = 'Topview'\n",
    "    df, Angle,Distance,movivename=LR_movie_maker_Main.readDLCfiles(Mainfolder,Tag,trial)\n",
    "    text = os.path.basename(movivename);\n",
    "    #%matplotlib notebook\n",
    "    Good_Frames =LR_movie_maker_Main.findgoodrames(0.8,50,150,df,Distance)\n",
    "    LR_movie_maker_Main.writeFrameData(Mainfolder,text,Good_Frames,df,Angle)\n",
    "    LR_movie_maker_Main.savemovies_LR(movivename,Angle,df,Good_Frames,\"\",contrastfactor) \n",
    "    elapsed = time.time() - t \n",
    "    video_name = (os.path.join(os.path.dirname(movivename),text.split('DLC')[0]+\".avi\"));\n",
    "    print('Trial=',video_name,'Elapsed',elapsed)"
   ]
  },
  {
   "cell_type": "code",
   "execution_count": null,
   "metadata": {},
   "outputs": [],
   "source": [
    "import time\n",
    "import numpy as np\n",
    "import os\n",
    "import LR_movie_maker_Main\n",
    "contrastfactor=1.05\n",
    "\n",
    "x = 'F:\\\\videos\\\\ar38motor\\\\2022_02_08\\\\0video.mp4'\n",
    "for thistrial in range(len(text_files)):\n",
    "   if x in text_files[thistrial]:\n",
    "    trial = (thistrial)\n",
    "t =time.time()\n",
    "Tag = 'Topview'\n",
    "df, Angle,Distance,movivename=LR_movie_maker_Main.readDLCfiles(Mainfolder,Tag,trial)\n",
    "text = os.path.basename(movivename);\n",
    "#%matplotlib notebook\n",
    "Good_Frames =LR_movie_maker_Main.findgoodrames(0.8,50,150,df,Distance)\n",
    "LR_movie_maker_Main.writeFrameData(Mainfolder,text,Good_Frames,df,Angle)\n",
    "LR_movie_maker_Main.savemovies_LR(movivename,Angle,df,Good_Frames,\".mp4\",contrastfactor) \n",
    "elapsed = time.time() - t \n",
    "video_name = (os.path.join(os.path.dirname(movivename),text.split('DLC')[0]+\".avi\"));\n",
    "print('Trial=',video_name,'Elapsed',elapsed)"
   ]
  },
  {
   "cell_type": "markdown",
   "metadata": {},
   "source": [
    "# now apply DLC already trained data on whiskers "
   ]
  },
  {
   "cell_type": "code",
   "execution_count": 4,
   "metadata": {},
   "outputs": [
    {
     "name": "stdout",
     "output_type": "stream",
     "text": [
      "Using snapshot-100000 for model \\\\dk-server.dk.ucsd.edu\\afassihizakeri\\DLC\\ar30shiwker-Arash-2021-09-13\\dlc-models\\iteration-0\\ar30shiwkerSep13-trainset95shuffle2\n",
      "Initializing ResNet\n",
      "Starting to analyze %  F:\\videos\\ar41motor\\2022_07_29\\Mask0L.avi\n",
      "F:\\videos\\ar41motor\\2022_07_29  already exists!\n",
      "Loading  F:\\videos\\ar41motor\\2022_07_29\\Mask0L.avi\n",
      "Duration of video [s]:  6.38 , recorded with  40.0 fps!\n",
      "Overall # of frames:  255  found with (before cropping) frame dimensions:  314 700\n",
      "Starting to extract posture\n"
     ]
    },
    {
     "name": "stderr",
     "output_type": "stream",
     "text": [
      "260it [00:13, 26.98it/s]                                                                                               "
     ]
    },
    {
     "name": "stdout",
     "output_type": "stream",
     "text": [
      "Detected frames:  255\n"
     ]
    },
    {
     "name": "stderr",
     "output_type": "stream",
     "text": [
      "260it [00:13, 18.59it/s]\n"
     ]
    },
    {
     "name": "stdout",
     "output_type": "stream",
     "text": [
      "Saving results in F:\\videos\\ar41motor\\2022_07_29...\n",
      "Saving csv poses!\n",
      "Starting to analyze %  F:\\videos\\ar41motor\\2022_07_29\\Mask100L.avi\n",
      "F:\\videos\\ar41motor\\2022_07_29  already exists!\n",
      "Loading  F:\\videos\\ar41motor\\2022_07_29\\Mask100L.avi\n",
      "Duration of video [s]:  11.55 , recorded with  40.0 fps!\n",
      "Overall # of frames:  462  found with (before cropping) frame dimensions:  314 700\n",
      "Starting to extract posture\n"
     ]
    },
    {
     "name": "stderr",
     "output_type": "stream",
     "text": [
      "470it [00:17, 27.32it/s]                                                                                               "
     ]
    },
    {
     "name": "stdout",
     "output_type": "stream",
     "text": [
      "Detected frames:  462\n"
     ]
    },
    {
     "name": "stderr",
     "output_type": "stream",
     "text": [
      "470it [00:17, 26.20it/s]\n"
     ]
    },
    {
     "name": "stdout",
     "output_type": "stream",
     "text": [
      "Saving results in F:\\videos\\ar41motor\\2022_07_29...\n",
      "Saving csv poses!\n",
      "Starting to analyze %  F:\\videos\\ar41motor\\2022_07_29\\Mask101L.avi\n",
      "F:\\videos\\ar41motor\\2022_07_29  already exists!\n",
      "Loading  F:\\videos\\ar41motor\\2022_07_29\\Mask101L.avi\n",
      "Duration of video [s]:  10.65 , recorded with  40.0 fps!\n",
      "Overall # of frames:  426  found with (before cropping) frame dimensions:  314 700\n",
      "Starting to extract posture\n"
     ]
    },
    {
     "name": "stderr",
     "output_type": "stream",
     "text": [
      "430it [00:16, 25.74it/s]                                                                                               "
     ]
    },
    {
     "name": "stdout",
     "output_type": "stream",
     "text": [
      "Detected frames:  426\n"
     ]
    },
    {
     "name": "stderr",
     "output_type": "stream",
     "text": [
      "430it [00:17, 25.04it/s]\n"
     ]
    },
    {
     "name": "stdout",
     "output_type": "stream",
     "text": [
      "Saving results in F:\\videos\\ar41motor\\2022_07_29...\n",
      "Saving csv poses!\n",
      "Starting to analyze %  F:\\videos\\ar41motor\\2022_07_29\\Mask102L.avi\n",
      "F:\\videos\\ar41motor\\2022_07_29  already exists!\n",
      "Loading  F:\\videos\\ar41motor\\2022_07_29\\Mask102L.avi\n",
      "Duration of video [s]:  12.5 , recorded with  40.0 fps!\n",
      "Overall # of frames:  500  found with (before cropping) frame dimensions:  314 700\n",
      "Starting to extract posture\n"
     ]
    },
    {
     "name": "stderr",
     "output_type": "stream",
     "text": [
      "510it [00:19, 27.08it/s]                                                                                               "
     ]
    },
    {
     "name": "stdout",
     "output_type": "stream",
     "text": [
      "Detected frames:  500\n"
     ]
    },
    {
     "name": "stderr",
     "output_type": "stream",
     "text": [
      "510it [00:19, 25.71it/s]\n"
     ]
    },
    {
     "name": "stdout",
     "output_type": "stream",
     "text": [
      "Saving results in F:\\videos\\ar41motor\\2022_07_29...\n",
      "Saving csv poses!\n",
      "Starting to analyze %  F:\\videos\\ar41motor\\2022_07_29\\Mask103L.avi\n",
      "F:\\videos\\ar41motor\\2022_07_29  already exists!\n",
      "Loading  F:\\videos\\ar41motor\\2022_07_29\\Mask103L.avi\n",
      "Duration of video [s]:  1.75 , recorded with  40.0 fps!\n",
      "Overall # of frames:  70  found with (before cropping) frame dimensions:  314 700\n",
      "Starting to extract posture\n"
     ]
    },
    {
     "name": "stderr",
     "output_type": "stream",
     "text": [
      "80it [00:02, 29.63it/s]                                                                                                "
     ]
    },
    {
     "name": "stdout",
     "output_type": "stream",
     "text": [
      "Detected frames:  70\n"
     ]
    },
    {
     "name": "stderr",
     "output_type": "stream",
     "text": [
      "80it [00:02, 26.92it/s]\n"
     ]
    },
    {
     "name": "stdout",
     "output_type": "stream",
     "text": [
      "Saving results in F:\\videos\\ar41motor\\2022_07_29...\n",
      "Saving csv poses!\n",
      "Starting to analyze %  F:\\videos\\ar41motor\\2022_07_29\\Mask104L.avi\n",
      "F:\\videos\\ar41motor\\2022_07_29  already exists!\n",
      "Loading  F:\\videos\\ar41motor\\2022_07_29\\Mask104L.avi\n",
      "Duration of video [s]:  12.5 , recorded with  40.0 fps!\n",
      "Overall # of frames:  500  found with (before cropping) frame dimensions:  314 700\n",
      "Starting to extract posture\n"
     ]
    },
    {
     "name": "stderr",
     "output_type": "stream",
     "text": [
      "510it [00:19, 26.36it/s]                                                                                               "
     ]
    },
    {
     "name": "stdout",
     "output_type": "stream",
     "text": [
      "Detected frames:  500\n"
     ]
    },
    {
     "name": "stderr",
     "output_type": "stream",
     "text": [
      "510it [00:19, 25.53it/s]\n"
     ]
    },
    {
     "name": "stdout",
     "output_type": "stream",
     "text": [
      "Saving results in F:\\videos\\ar41motor\\2022_07_29...\n",
      "Saving csv poses!\n",
      "Starting to analyze %  F:\\videos\\ar41motor\\2022_07_29\\Mask105L.avi\n",
      "F:\\videos\\ar41motor\\2022_07_29  already exists!\n",
      "Loading  F:\\videos\\ar41motor\\2022_07_29\\Mask105L.avi\n",
      "Duration of video [s]:  12.5 , recorded with  40.0 fps!\n",
      "Overall # of frames:  500  found with (before cropping) frame dimensions:  314 700\n",
      "Starting to extract posture\n"
     ]
    },
    {
     "name": "stderr",
     "output_type": "stream",
     "text": [
      "510it [00:19, 25.65it/s]                                                                                               "
     ]
    },
    {
     "name": "stdout",
     "output_type": "stream",
     "text": [
      "Detected frames:  500\n"
     ]
    },
    {
     "name": "stderr",
     "output_type": "stream",
     "text": [
      "510it [00:20, 25.44it/s]\n"
     ]
    },
    {
     "name": "stdout",
     "output_type": "stream",
     "text": [
      "Saving results in F:\\videos\\ar41motor\\2022_07_29...\n",
      "Saving csv poses!\n",
      "Starting to analyze %  F:\\videos\\ar41motor\\2022_07_29\\Mask106L.avi\n",
      "F:\\videos\\ar41motor\\2022_07_29  already exists!\n",
      "Loading  F:\\videos\\ar41motor\\2022_07_29\\Mask106L.avi\n",
      "Duration of video [s]:  12.5 , recorded with  40.0 fps!\n",
      "Overall # of frames:  500  found with (before cropping) frame dimensions:  314 700\n",
      "Starting to extract posture\n"
     ]
    },
    {
     "name": "stderr",
     "output_type": "stream",
     "text": [
      "510it [00:20, 25.70it/s]                                                                                               "
     ]
    },
    {
     "name": "stdout",
     "output_type": "stream",
     "text": [
      "Detected frames:  500\n"
     ]
    },
    {
     "name": "stderr",
     "output_type": "stream",
     "text": [
      "510it [00:20, 24.87it/s]\n"
     ]
    },
    {
     "name": "stdout",
     "output_type": "stream",
     "text": [
      "Saving results in F:\\videos\\ar41motor\\2022_07_29...\n",
      "Saving csv poses!\n",
      "Starting to analyze %  F:\\videos\\ar41motor\\2022_07_29\\Mask107L.avi\n",
      "F:\\videos\\ar41motor\\2022_07_29  already exists!\n",
      "Loading  F:\\videos\\ar41motor\\2022_07_29\\Mask107L.avi\n",
      "Duration of video [s]:  12.5 , recorded with  40.0 fps!\n",
      "Overall # of frames:  500  found with (before cropping) frame dimensions:  314 700\n",
      "Starting to extract posture\n"
     ]
    },
    {
     "name": "stderr",
     "output_type": "stream",
     "text": [
      "510it [00:20, 25.55it/s]                                                                                               "
     ]
    },
    {
     "name": "stdout",
     "output_type": "stream",
     "text": [
      "Detected frames:  500\n"
     ]
    },
    {
     "name": "stderr",
     "output_type": "stream",
     "text": [
      "510it [00:20, 24.83it/s]\n"
     ]
    },
    {
     "name": "stdout",
     "output_type": "stream",
     "text": [
      "Saving results in F:\\videos\\ar41motor\\2022_07_29...\n",
      "Saving csv poses!\n",
      "Starting to analyze %  F:\\videos\\ar41motor\\2022_07_29\\Mask108L.avi\n",
      "F:\\videos\\ar41motor\\2022_07_29  already exists!\n",
      "Loading  F:\\videos\\ar41motor\\2022_07_29\\Mask108L.avi\n",
      "Duration of video [s]:  12.5 , recorded with  40.0 fps!\n",
      "Overall # of frames:  500  found with (before cropping) frame dimensions:  314 700\n",
      "Starting to extract posture\n"
     ]
    },
    {
     "name": "stderr",
     "output_type": "stream",
     "text": [
      "510it [00:20, 26.35it/s]                                                                                               "
     ]
    },
    {
     "name": "stdout",
     "output_type": "stream",
     "text": [
      "Detected frames:  500\n"
     ]
    },
    {
     "name": "stderr",
     "output_type": "stream",
     "text": [
      "510it [00:20, 24.35it/s]\n"
     ]
    },
    {
     "name": "stdout",
     "output_type": "stream",
     "text": [
      "Saving results in F:\\videos\\ar41motor\\2022_07_29...\n",
      "Saving csv poses!\n",
      "Starting to analyze %  F:\\videos\\ar41motor\\2022_07_29\\Mask109L.avi\n",
      "F:\\videos\\ar41motor\\2022_07_29  already exists!\n",
      "Loading  F:\\videos\\ar41motor\\2022_07_29\\Mask109L.avi\n",
      "Duration of video [s]:  12.35 , recorded with  40.0 fps!\n",
      "Overall # of frames:  494  found with (before cropping) frame dimensions:  314 700\n",
      "Starting to extract posture\n"
     ]
    },
    {
     "name": "stderr",
     "output_type": "stream",
     "text": [
      "500it [00:19, 24.16it/s]                                                                                               "
     ]
    },
    {
     "name": "stdout",
     "output_type": "stream",
     "text": [
      "Detected frames:  494\n"
     ]
    },
    {
     "name": "stderr",
     "output_type": "stream",
     "text": [
      "500it [00:20, 24.67it/s]\n"
     ]
    },
    {
     "name": "stdout",
     "output_type": "stream",
     "text": [
      "Saving results in F:\\videos\\ar41motor\\2022_07_29...\n",
      "Saving csv poses!\n",
      "Starting to analyze %  F:\\videos\\ar41motor\\2022_07_29\\Mask10L.avi\n",
      "F:\\videos\\ar41motor\\2022_07_29  already exists!\n",
      "Loading  F:\\videos\\ar41motor\\2022_07_29\\Mask10L.avi\n",
      "Duration of video [s]:  5.05 , recorded with  40.0 fps!\n",
      "Overall # of frames:  202  found with (before cropping) frame dimensions:  314 700\n",
      "Starting to extract posture\n"
     ]
    },
    {
     "name": "stderr",
     "output_type": "stream",
     "text": [
      "210it [00:08, 22.37it/s]                                                                                               "
     ]
    },
    {
     "name": "stdout",
     "output_type": "stream",
     "text": [
      "Detected frames:  202\n"
     ]
    },
    {
     "name": "stderr",
     "output_type": "stream",
     "text": [
      "210it [00:08, 24.94it/s]\n"
     ]
    },
    {
     "name": "stdout",
     "output_type": "stream",
     "text": [
      "Saving results in F:\\videos\\ar41motor\\2022_07_29...\n",
      "Saving csv poses!\n",
      "Starting to analyze %  F:\\videos\\ar41motor\\2022_07_29\\Mask110L.avi\n",
      "F:\\videos\\ar41motor\\2022_07_29  already exists!\n",
      "Loading  F:\\videos\\ar41motor\\2022_07_29\\Mask110L.avi\n",
      "Duration of video [s]:  12.5 , recorded with  40.0 fps!\n",
      "Overall # of frames:  500  found with (before cropping) frame dimensions:  314 700\n",
      "Starting to extract posture\n"
     ]
    },
    {
     "name": "stderr",
     "output_type": "stream",
     "text": [
      "510it [00:20, 25.71it/s]                                                                                               "
     ]
    },
    {
     "name": "stdout",
     "output_type": "stream",
     "text": [
      "Detected frames:  500\n"
     ]
    },
    {
     "name": "stderr",
     "output_type": "stream",
     "text": [
      "510it [00:20, 24.82it/s]\n"
     ]
    },
    {
     "name": "stdout",
     "output_type": "stream",
     "text": [
      "Saving results in F:\\videos\\ar41motor\\2022_07_29...\n",
      "Saving csv poses!\n",
      "Starting to analyze %  F:\\videos\\ar41motor\\2022_07_29\\Mask111L.avi\n",
      "F:\\videos\\ar41motor\\2022_07_29  already exists!\n",
      "Loading  F:\\videos\\ar41motor\\2022_07_29\\Mask111L.avi\n",
      "Duration of video [s]:  3.42 , recorded with  40.0 fps!\n",
      "Overall # of frames:  137  found with (before cropping) frame dimensions:  314 700\n",
      "Starting to extract posture\n"
     ]
    },
    {
     "name": "stderr",
     "output_type": "stream",
     "text": [
      "140it [00:05, 24.15it/s]                                                                                               "
     ]
    },
    {
     "name": "stdout",
     "output_type": "stream",
     "text": [
      "Detected frames:  137\n"
     ]
    },
    {
     "name": "stderr",
     "output_type": "stream",
     "text": [
      "140it [00:05, 23.57it/s]\n"
     ]
    },
    {
     "name": "stdout",
     "output_type": "stream",
     "text": [
      "Saving results in F:\\videos\\ar41motor\\2022_07_29...\n",
      "Saving csv poses!\n",
      "Starting to analyze %  F:\\videos\\ar41motor\\2022_07_29\\Mask112L.avi\n",
      "F:\\videos\\ar41motor\\2022_07_29  already exists!\n",
      "Loading  F:\\videos\\ar41motor\\2022_07_29\\Mask112L.avi\n",
      "Duration of video [s]:  12.15 , recorded with  40.0 fps!\n",
      "Overall # of frames:  486  found with (before cropping) frame dimensions:  314 700\n",
      "Starting to extract posture\n"
     ]
    },
    {
     "name": "stderr",
     "output_type": "stream",
     "text": [
      "490it [00:20, 21.65it/s]                                                                                               "
     ]
    },
    {
     "name": "stdout",
     "output_type": "stream",
     "text": [
      "Detected frames:  486\n"
     ]
    },
    {
     "name": "stderr",
     "output_type": "stream",
     "text": [
      "490it [00:20, 24.03it/s]\n"
     ]
    },
    {
     "name": "stdout",
     "output_type": "stream",
     "text": [
      "Saving results in F:\\videos\\ar41motor\\2022_07_29...\n",
      "Saving csv poses!\n",
      "Starting to analyze %  F:\\videos\\ar41motor\\2022_07_29\\Mask113L.avi\n",
      "F:\\videos\\ar41motor\\2022_07_29  already exists!\n",
      "Loading  F:\\videos\\ar41motor\\2022_07_29\\Mask113L.avi\n",
      "Duration of video [s]:  12.43 , recorded with  40.0 fps!\n",
      "Overall # of frames:  497  found with (before cropping) frame dimensions:  314 700\n",
      "Starting to extract posture\n"
     ]
    },
    {
     "name": "stderr",
     "output_type": "stream",
     "text": [
      "500it [00:20, 22.85it/s]                                                                                               "
     ]
    },
    {
     "name": "stdout",
     "output_type": "stream",
     "text": [
      "Detected frames:  497\n"
     ]
    },
    {
     "name": "stderr",
     "output_type": "stream",
     "text": [
      "500it [00:21, 23.51it/s]\n"
     ]
    },
    {
     "name": "stdout",
     "output_type": "stream",
     "text": [
      "Saving results in F:\\videos\\ar41motor\\2022_07_29...\n",
      "Saving csv poses!\n",
      "Starting to analyze %  F:\\videos\\ar41motor\\2022_07_29\\Mask114L.avi\n",
      "F:\\videos\\ar41motor\\2022_07_29  already exists!\n",
      "Loading  F:\\videos\\ar41motor\\2022_07_29\\Mask114L.avi\n",
      "Duration of video [s]:  12.47 , recorded with  40.0 fps!\n",
      "Overall # of frames:  499  found with (before cropping) frame dimensions:  314 700\n",
      "Starting to extract posture\n"
     ]
    },
    {
     "name": "stderr",
     "output_type": "stream",
     "text": [
      "500it [00:20, 23.62it/s]                                                                                               "
     ]
    },
    {
     "name": "stdout",
     "output_type": "stream",
     "text": [
      "Detected frames:  499\n"
     ]
    },
    {
     "name": "stderr",
     "output_type": "stream",
     "text": [
      "500it [00:21, 23.28it/s]\n"
     ]
    },
    {
     "name": "stdout",
     "output_type": "stream",
     "text": [
      "Saving results in F:\\videos\\ar41motor\\2022_07_29...\n",
      "Saving csv poses!\n",
      "Starting to analyze %  F:\\videos\\ar41motor\\2022_07_29\\Mask115L.avi\n",
      "F:\\videos\\ar41motor\\2022_07_29  already exists!\n",
      "Loading  F:\\videos\\ar41motor\\2022_07_29\\Mask115L.avi\n",
      "Duration of video [s]:  11.15 , recorded with  40.0 fps!\n",
      "Overall # of frames:  446  found with (before cropping) frame dimensions:  314 700\n",
      "Starting to extract posture\n"
     ]
    },
    {
     "name": "stderr",
     "output_type": "stream",
     "text": [
      "450it [00:18, 21.87it/s]                                                                                               "
     ]
    },
    {
     "name": "stdout",
     "output_type": "stream",
     "text": [
      "Detected frames:  446\n"
     ]
    },
    {
     "name": "stderr",
     "output_type": "stream",
     "text": [
      "450it [00:19, 23.63it/s]\n"
     ]
    },
    {
     "name": "stdout",
     "output_type": "stream",
     "text": [
      "Saving results in F:\\videos\\ar41motor\\2022_07_29...\n",
      "Saving csv poses!\n",
      "Starting to analyze %  F:\\videos\\ar41motor\\2022_07_29\\Mask116L.avi\n",
      "F:\\videos\\ar41motor\\2022_07_29  already exists!\n",
      "Loading  F:\\videos\\ar41motor\\2022_07_29\\Mask116L.avi\n",
      "Duration of video [s]:  12.35 , recorded with  40.0 fps!\n",
      "Overall # of frames:  494  found with (before cropping) frame dimensions:  314 700\n",
      "Starting to extract posture\n"
     ]
    },
    {
     "name": "stderr",
     "output_type": "stream",
     "text": [
      "500it [00:20, 22.74it/s]                                                                                               "
     ]
    },
    {
     "name": "stdout",
     "output_type": "stream",
     "text": [
      "Detected frames:  494\n"
     ]
    },
    {
     "name": "stderr",
     "output_type": "stream",
     "text": [
      "500it [00:20, 24.07it/s]\n"
     ]
    },
    {
     "name": "stdout",
     "output_type": "stream",
     "text": [
      "Saving results in F:\\videos\\ar41motor\\2022_07_29...\n",
      "Saving csv poses!\n",
      "Starting to analyze %  F:\\videos\\ar41motor\\2022_07_29\\Mask117L.avi\n",
      "F:\\videos\\ar41motor\\2022_07_29  already exists!\n",
      "Loading  F:\\videos\\ar41motor\\2022_07_29\\Mask117L.avi\n",
      "Duration of video [s]:  12.5 , recorded with  40.0 fps!\n",
      "Overall # of frames:  500  found with (before cropping) frame dimensions:  314 700\n",
      "Starting to extract posture\n"
     ]
    },
    {
     "name": "stderr",
     "output_type": "stream",
     "text": [
      "510it [00:20, 25.09it/s]                                                                                               "
     ]
    },
    {
     "name": "stdout",
     "output_type": "stream",
     "text": [
      "Detected frames:  500\n"
     ]
    },
    {
     "name": "stderr",
     "output_type": "stream",
     "text": [
      "510it [00:21, 24.12it/s]\n"
     ]
    },
    {
     "name": "stdout",
     "output_type": "stream",
     "text": [
      "Saving results in F:\\videos\\ar41motor\\2022_07_29...\n",
      "Saving csv poses!\n",
      "Starting to analyze %  F:\\videos\\ar41motor\\2022_07_29\\Mask118L.avi\n",
      "F:\\videos\\ar41motor\\2022_07_29  already exists!\n",
      "Loading  F:\\videos\\ar41motor\\2022_07_29\\Mask118L.avi\n",
      "Duration of video [s]:  9.53 , recorded with  40.0 fps!\n",
      "Overall # of frames:  381  found with (before cropping) frame dimensions:  314 700\n",
      "Starting to extract posture\n"
     ]
    },
    {
     "name": "stderr",
     "output_type": "stream",
     "text": [
      "390it [00:15, 24.70it/s]                                                                                               "
     ]
    },
    {
     "name": "stdout",
     "output_type": "stream",
     "text": [
      "Detected frames:  381\n"
     ]
    },
    {
     "name": "stderr",
     "output_type": "stream",
     "text": [
      "390it [00:16, 24.09it/s]\n"
     ]
    },
    {
     "name": "stdout",
     "output_type": "stream",
     "text": [
      "Saving results in F:\\videos\\ar41motor\\2022_07_29...\n",
      "Saving csv poses!\n",
      "Starting to analyze %  F:\\videos\\ar41motor\\2022_07_29\\Mask119L.avi\n",
      "F:\\videos\\ar41motor\\2022_07_29  already exists!\n",
      "Loading  F:\\videos\\ar41motor\\2022_07_29\\Mask119L.avi\n",
      "Duration of video [s]:  12.5 , recorded with  40.0 fps!\n",
      "Overall # of frames:  500  found with (before cropping) frame dimensions:  314 700\n",
      "Starting to extract posture\n"
     ]
    },
    {
     "name": "stderr",
     "output_type": "stream",
     "text": [
      "510it [00:21, 24.02it/s]                                                                                               "
     ]
    },
    {
     "name": "stdout",
     "output_type": "stream",
     "text": [
      "Detected frames:  500\n"
     ]
    },
    {
     "name": "stderr",
     "output_type": "stream",
     "text": [
      "510it [00:21, 23.57it/s]\n"
     ]
    },
    {
     "name": "stdout",
     "output_type": "stream",
     "text": [
      "Saving results in F:\\videos\\ar41motor\\2022_07_29...\n",
      "Saving csv poses!\n",
      "Starting to analyze %  F:\\videos\\ar41motor\\2022_07_29\\Mask11L.avi\n",
      "F:\\videos\\ar41motor\\2022_07_29  already exists!\n",
      "Loading  F:\\videos\\ar41motor\\2022_07_29\\Mask11L.avi\n",
      "Duration of video [s]:  9.07 , recorded with  40.0 fps!\n",
      "Overall # of frames:  363  found with (before cropping) frame dimensions:  314 700\n",
      "Starting to extract posture\n"
     ]
    },
    {
     "name": "stderr",
     "output_type": "stream",
     "text": [
      "370it [00:15, 20.64it/s]                                                                                               "
     ]
    },
    {
     "name": "stdout",
     "output_type": "stream",
     "text": [
      "Detected frames:  363\n"
     ]
    },
    {
     "name": "stderr",
     "output_type": "stream",
     "text": [
      "370it [00:15, 23.42it/s]\n"
     ]
    },
    {
     "name": "stdout",
     "output_type": "stream",
     "text": [
      "Saving results in F:\\videos\\ar41motor\\2022_07_29...\n",
      "Saving csv poses!\n",
      "Starting to analyze %  F:\\videos\\ar41motor\\2022_07_29\\Mask120L.avi\n",
      "F:\\videos\\ar41motor\\2022_07_29  already exists!\n",
      "Loading  F:\\videos\\ar41motor\\2022_07_29\\Mask120L.avi\n",
      "Duration of video [s]:  12.47 , recorded with  40.0 fps!\n",
      "Overall # of frames:  499  found with (before cropping) frame dimensions:  314 700\n",
      "Starting to extract posture\n"
     ]
    },
    {
     "name": "stderr",
     "output_type": "stream",
     "text": [
      "500it [00:20, 23.79it/s]                                                                                               "
     ]
    },
    {
     "name": "stdout",
     "output_type": "stream",
     "text": [
      "Detected frames:  499\n"
     ]
    },
    {
     "name": "stderr",
     "output_type": "stream",
     "text": [
      "500it [00:21, 23.03it/s]\n"
     ]
    },
    {
     "name": "stdout",
     "output_type": "stream",
     "text": [
      "Saving results in F:\\videos\\ar41motor\\2022_07_29...\n",
      "Saving csv poses!\n",
      "Starting to analyze %  F:\\videos\\ar41motor\\2022_07_29\\Mask121L.avi\n",
      "F:\\videos\\ar41motor\\2022_07_29  already exists!\n",
      "Loading  F:\\videos\\ar41motor\\2022_07_29\\Mask121L.avi\n",
      "Duration of video [s]:  12.5 , recorded with  40.0 fps!\n",
      "Overall # of frames:  500  found with (before cropping) frame dimensions:  314 700\n",
      "Starting to extract posture\n"
     ]
    },
    {
     "name": "stderr",
     "output_type": "stream",
     "text": [
      "510it [00:24, 22.64it/s]                                                                                               "
     ]
    },
    {
     "name": "stdout",
     "output_type": "stream",
     "text": [
      "Detected frames:  500\n"
     ]
    },
    {
     "name": "stderr",
     "output_type": "stream",
     "text": [
      "510it [00:24, 20.90it/s]\n"
     ]
    },
    {
     "name": "stdout",
     "output_type": "stream",
     "text": [
      "Saving results in F:\\videos\\ar41motor\\2022_07_29...\n",
      "Saving csv poses!\n",
      "Starting to analyze %  F:\\videos\\ar41motor\\2022_07_29\\Mask122L.avi\n",
      "F:\\videos\\ar41motor\\2022_07_29  already exists!\n",
      "Loading  F:\\videos\\ar41motor\\2022_07_29\\Mask122L.avi\n",
      "Duration of video [s]:  12.5 , recorded with  40.0 fps!\n",
      "Overall # of frames:  500  found with (before cropping) frame dimensions:  314 700\n",
      "Starting to extract posture\n"
     ]
    },
    {
     "name": "stderr",
     "output_type": "stream",
     "text": [
      "510it [00:20, 24.88it/s]                                                                                               "
     ]
    },
    {
     "name": "stdout",
     "output_type": "stream",
     "text": [
      "Detected frames:  500\n"
     ]
    },
    {
     "name": "stderr",
     "output_type": "stream",
     "text": [
      "510it [00:21, 24.24it/s]\n"
     ]
    },
    {
     "name": "stdout",
     "output_type": "stream",
     "text": [
      "Saving results in F:\\videos\\ar41motor\\2022_07_29...\n",
      "Saving csv poses!\n",
      "Starting to analyze %  F:\\videos\\ar41motor\\2022_07_29\\Mask123L.avi\n",
      "F:\\videos\\ar41motor\\2022_07_29  already exists!\n",
      "Loading  F:\\videos\\ar41motor\\2022_07_29\\Mask123L.avi\n",
      "Duration of video [s]:  12.47 , recorded with  40.0 fps!\n",
      "Overall # of frames:  499  found with (before cropping) frame dimensions:  314 700\n",
      "Starting to extract posture\n"
     ]
    },
    {
     "name": "stderr",
     "output_type": "stream",
     "text": [
      "500it [00:23, 17.88it/s]                                                                                               "
     ]
    },
    {
     "name": "stdout",
     "output_type": "stream",
     "text": [
      "Detected frames:  499\n"
     ]
    },
    {
     "name": "stderr",
     "output_type": "stream",
     "text": [
      "500it [00:23, 21.06it/s]\n"
     ]
    },
    {
     "name": "stdout",
     "output_type": "stream",
     "text": [
      "Saving results in F:\\videos\\ar41motor\\2022_07_29...\n",
      "Saving csv poses!\n",
      "Starting to analyze %  F:\\videos\\ar41motor\\2022_07_29\\Mask124L.avi\n",
      "F:\\videos\\ar41motor\\2022_07_29  already exists!\n",
      "Loading  F:\\videos\\ar41motor\\2022_07_29\\Mask124L.avi\n",
      "Duration of video [s]:  4.3 , recorded with  40.0 fps!\n",
      "Overall # of frames:  172  found with (before cropping) frame dimensions:  314 700\n",
      "Starting to extract posture\n"
     ]
    },
    {
     "name": "stderr",
     "output_type": "stream",
     "text": [
      "180it [00:07, 23.11it/s]                                                                                               "
     ]
    },
    {
     "name": "stdout",
     "output_type": "stream",
     "text": [
      "Detected frames:  172\n"
     ]
    },
    {
     "name": "stderr",
     "output_type": "stream",
     "text": [
      "180it [00:07, 23.70it/s]\n"
     ]
    },
    {
     "name": "stdout",
     "output_type": "stream",
     "text": [
      "Saving results in F:\\videos\\ar41motor\\2022_07_29...\n",
      "Saving csv poses!\n",
      "Starting to analyze %  F:\\videos\\ar41motor\\2022_07_29\\Mask125L.avi\n",
      "F:\\videos\\ar41motor\\2022_07_29  already exists!\n",
      "Loading  F:\\videos\\ar41motor\\2022_07_29\\Mask125L.avi\n",
      "Duration of video [s]:  3.65 , recorded with  40.0 fps!\n",
      "Overall # of frames:  146  found with (before cropping) frame dimensions:  314 700\n",
      "Starting to extract posture\n"
     ]
    },
    {
     "name": "stderr",
     "output_type": "stream",
     "text": [
      "150it [00:05, 25.38it/s]                                                                                               "
     ]
    },
    {
     "name": "stdout",
     "output_type": "stream",
     "text": [
      "Detected frames:  146\n"
     ]
    },
    {
     "name": "stderr",
     "output_type": "stream",
     "text": [
      "150it [00:06, 23.63it/s]\n"
     ]
    },
    {
     "name": "stdout",
     "output_type": "stream",
     "text": [
      "Saving results in F:\\videos\\ar41motor\\2022_07_29...\n",
      "Saving csv poses!\n",
      "Starting to analyze %  F:\\videos\\ar41motor\\2022_07_29\\Mask126L.avi\n",
      "F:\\videos\\ar41motor\\2022_07_29  already exists!\n",
      "Loading  F:\\videos\\ar41motor\\2022_07_29\\Mask126L.avi\n",
      "Duration of video [s]:  12.38 , recorded with  40.0 fps!\n",
      "Overall # of frames:  495  found with (before cropping) frame dimensions:  314 700\n",
      "Starting to extract posture\n"
     ]
    },
    {
     "name": "stderr",
     "output_type": "stream",
     "text": [
      "500it [00:20, 22.77it/s]                                                                                               "
     ]
    },
    {
     "name": "stdout",
     "output_type": "stream",
     "text": [
      "Detected frames:  495\n"
     ]
    },
    {
     "name": "stderr",
     "output_type": "stream",
     "text": [
      "500it [00:21, 23.71it/s]\n"
     ]
    },
    {
     "name": "stdout",
     "output_type": "stream",
     "text": [
      "Saving results in F:\\videos\\ar41motor\\2022_07_29...\n",
      "Saving csv poses!\n",
      "Starting to analyze %  F:\\videos\\ar41motor\\2022_07_29\\Mask127L.avi\n",
      "F:\\videos\\ar41motor\\2022_07_29  already exists!\n",
      "Loading  F:\\videos\\ar41motor\\2022_07_29\\Mask127L.avi\n",
      "Duration of video [s]:  8.55 , recorded with  40.0 fps!\n",
      "Overall # of frames:  342  found with (before cropping) frame dimensions:  314 700\n",
      "Starting to extract posture\n"
     ]
    },
    {
     "name": "stderr",
     "output_type": "stream",
     "text": [
      "350it [00:14, 20.97it/s]                                                                                               "
     ]
    },
    {
     "name": "stdout",
     "output_type": "stream",
     "text": [
      "Detected frames:  342\n"
     ]
    },
    {
     "name": "stderr",
     "output_type": "stream",
     "text": [
      "350it [00:15, 23.28it/s]\n"
     ]
    },
    {
     "name": "stdout",
     "output_type": "stream",
     "text": [
      "Saving results in F:\\videos\\ar41motor\\2022_07_29...\n",
      "Saving csv poses!\n",
      "Starting to analyze %  F:\\videos\\ar41motor\\2022_07_29\\Mask128L.avi\n",
      "F:\\videos\\ar41motor\\2022_07_29  already exists!\n",
      "Loading  F:\\videos\\ar41motor\\2022_07_29\\Mask128L.avi\n",
      "Duration of video [s]:  9.38 , recorded with  40.0 fps!\n",
      "Overall # of frames:  375  found with (before cropping) frame dimensions:  314 700\n",
      "Starting to extract posture\n"
     ]
    },
    {
     "name": "stderr",
     "output_type": "stream",
     "text": [
      "380it [00:20, 19.25it/s]                                                                                               "
     ]
    },
    {
     "name": "stdout",
     "output_type": "stream",
     "text": [
      "Detected frames:  375\n"
     ]
    },
    {
     "name": "stderr",
     "output_type": "stream",
     "text": [
      "380it [00:20, 18.41it/s]\n"
     ]
    },
    {
     "name": "stdout",
     "output_type": "stream",
     "text": [
      "Saving results in F:\\videos\\ar41motor\\2022_07_29...\n",
      "Saving csv poses!\n",
      "Starting to analyze %  F:\\videos\\ar41motor\\2022_07_29\\Mask129L.avi\n",
      "F:\\videos\\ar41motor\\2022_07_29  already exists!\n",
      "Loading  F:\\videos\\ar41motor\\2022_07_29\\Mask129L.avi\n",
      "Duration of video [s]:  12.5 , recorded with  40.0 fps!\n",
      "Overall # of frames:  500  found with (before cropping) frame dimensions:  314 700\n",
      "Starting to extract posture\n"
     ]
    },
    {
     "name": "stderr",
     "output_type": "stream",
     "text": [
      "510it [00:23, 21.67it/s]                                                                                               "
     ]
    },
    {
     "name": "stdout",
     "output_type": "stream",
     "text": [
      "Detected frames:  500\n"
     ]
    },
    {
     "name": "stderr",
     "output_type": "stream",
     "text": [
      "510it [00:23, 21.31it/s]\n"
     ]
    },
    {
     "name": "stdout",
     "output_type": "stream",
     "text": [
      "Saving results in F:\\videos\\ar41motor\\2022_07_29...\n",
      "Saving csv poses!\n",
      "Starting to analyze %  F:\\videos\\ar41motor\\2022_07_29\\Mask12L.avi\n",
      "F:\\videos\\ar41motor\\2022_07_29  already exists!\n",
      "Loading  F:\\videos\\ar41motor\\2022_07_29\\Mask12L.avi\n",
      "Duration of video [s]:  6.67 , recorded with  40.0 fps!\n",
      "Overall # of frames:  267  found with (before cropping) frame dimensions:  314 700\n",
      "Starting to extract posture\n"
     ]
    },
    {
     "name": "stderr",
     "output_type": "stream",
     "text": [
      "270it [00:13, 21.86it/s]                                                                                               "
     ]
    },
    {
     "name": "stdout",
     "output_type": "stream",
     "text": [
      "Detected frames:  267\n"
     ]
    },
    {
     "name": "stderr",
     "output_type": "stream",
     "text": [
      "270it [00:14, 19.26it/s]\n"
     ]
    },
    {
     "name": "stdout",
     "output_type": "stream",
     "text": [
      "Saving results in F:\\videos\\ar41motor\\2022_07_29...\n",
      "Saving csv poses!\n",
      "Starting to analyze %  F:\\videos\\ar41motor\\2022_07_29\\Mask130L.avi\n",
      "F:\\videos\\ar41motor\\2022_07_29  already exists!\n",
      "Loading  F:\\videos\\ar41motor\\2022_07_29\\Mask130L.avi\n",
      "Duration of video [s]:  12.5 , recorded with  40.0 fps!\n",
      "Overall # of frames:  500  found with (before cropping) frame dimensions:  314 700\n",
      "Starting to extract posture\n"
     ]
    },
    {
     "name": "stderr",
     "output_type": "stream",
     "text": [
      "510it [00:25, 24.22it/s]                                                                                               "
     ]
    },
    {
     "name": "stdout",
     "output_type": "stream",
     "text": [
      "Detected frames:  500\n"
     ]
    },
    {
     "name": "stderr",
     "output_type": "stream",
     "text": [
      "510it [00:25, 19.74it/s]\n"
     ]
    },
    {
     "name": "stdout",
     "output_type": "stream",
     "text": [
      "Saving results in F:\\videos\\ar41motor\\2022_07_29...\n",
      "Saving csv poses!\n",
      "Starting to analyze %  F:\\videos\\ar41motor\\2022_07_29\\Mask131L.avi\n",
      "F:\\videos\\ar41motor\\2022_07_29  already exists!\n",
      "Loading  F:\\videos\\ar41motor\\2022_07_29\\Mask131L.avi\n",
      "Duration of video [s]:  9.28 , recorded with  40.0 fps!\n",
      "Overall # of frames:  371  found with (before cropping) frame dimensions:  314 700\n",
      "Starting to extract posture\n"
     ]
    },
    {
     "name": "stderr",
     "output_type": "stream",
     "text": [
      "380it [00:19, 18.35it/s]                                                                                               "
     ]
    },
    {
     "name": "stdout",
     "output_type": "stream",
     "text": [
      "Detected frames:  371\n"
     ]
    },
    {
     "name": "stderr",
     "output_type": "stream",
     "text": [
      "380it [00:19, 19.27it/s]\n"
     ]
    },
    {
     "name": "stdout",
     "output_type": "stream",
     "text": [
      "Saving results in F:\\videos\\ar41motor\\2022_07_29...\n",
      "Saving csv poses!\n",
      "Starting to analyze %  F:\\videos\\ar41motor\\2022_07_29\\Mask132L.avi\n",
      "F:\\videos\\ar41motor\\2022_07_29  already exists!\n",
      "Loading  F:\\videos\\ar41motor\\2022_07_29\\Mask132L.avi\n",
      "Duration of video [s]:  12.5 , recorded with  40.0 fps!\n",
      "Overall # of frames:  500  found with (before cropping) frame dimensions:  314 700\n",
      "Starting to extract posture\n"
     ]
    },
    {
     "name": "stderr",
     "output_type": "stream",
     "text": [
      "510it [00:23, 24.80it/s]                                                                                               "
     ]
    },
    {
     "name": "stdout",
     "output_type": "stream",
     "text": [
      "Detected frames:  500\n"
     ]
    },
    {
     "name": "stderr",
     "output_type": "stream",
     "text": [
      "510it [00:23, 21.73it/s]\n"
     ]
    },
    {
     "name": "stdout",
     "output_type": "stream",
     "text": [
      "Saving results in F:\\videos\\ar41motor\\2022_07_29...\n",
      "Saving csv poses!\n",
      "Starting to analyze %  F:\\videos\\ar41motor\\2022_07_29\\Mask133L.avi\n",
      "F:\\videos\\ar41motor\\2022_07_29  already exists!\n",
      "Loading  F:\\videos\\ar41motor\\2022_07_29\\Mask133L.avi\n",
      "Duration of video [s]:  12.38 , recorded with  40.0 fps!\n",
      "Overall # of frames:  495  found with (before cropping) frame dimensions:  314 700\n",
      "Starting to extract posture\n"
     ]
    },
    {
     "name": "stderr",
     "output_type": "stream",
     "text": [
      "500it [00:25, 21.74it/s]                                                                                               "
     ]
    },
    {
     "name": "stdout",
     "output_type": "stream",
     "text": [
      "Detected frames:  495\n"
     ]
    },
    {
     "name": "stderr",
     "output_type": "stream",
     "text": [
      "500it [00:26, 18.99it/s]\n"
     ]
    },
    {
     "name": "stdout",
     "output_type": "stream",
     "text": [
      "Saving results in F:\\videos\\ar41motor\\2022_07_29...\n",
      "Saving csv poses!\n",
      "Starting to analyze %  F:\\videos\\ar41motor\\2022_07_29\\Mask134L.avi\n",
      "F:\\videos\\ar41motor\\2022_07_29  already exists!\n",
      "Loading  F:\\videos\\ar41motor\\2022_07_29\\Mask134L.avi\n",
      "Duration of video [s]:  12.5 , recorded with  40.0 fps!\n",
      "Overall # of frames:  500  found with (before cropping) frame dimensions:  314 700\n",
      "Starting to extract posture\n"
     ]
    },
    {
     "name": "stderr",
     "output_type": "stream",
     "text": [
      "510it [00:25, 23.87it/s]                                                                                               "
     ]
    },
    {
     "name": "stdout",
     "output_type": "stream",
     "text": [
      "Detected frames:  500\n"
     ]
    },
    {
     "name": "stderr",
     "output_type": "stream",
     "text": [
      "510it [00:25, 19.85it/s]\n"
     ]
    },
    {
     "name": "stdout",
     "output_type": "stream",
     "text": [
      "Saving results in F:\\videos\\ar41motor\\2022_07_29...\n",
      "Saving csv poses!\n",
      "Starting to analyze %  F:\\videos\\ar41motor\\2022_07_29\\Mask135L.avi\n",
      "F:\\videos\\ar41motor\\2022_07_29  already exists!\n",
      "Loading  F:\\videos\\ar41motor\\2022_07_29\\Mask135L.avi\n",
      "Duration of video [s]:  12.5 , recorded with  40.0 fps!\n",
      "Overall # of frames:  500  found with (before cropping) frame dimensions:  314 700\n",
      "Starting to extract posture\n"
     ]
    },
    {
     "name": "stderr",
     "output_type": "stream",
     "text": [
      "510it [00:21, 24.23it/s]                                                                                               "
     ]
    },
    {
     "name": "stdout",
     "output_type": "stream",
     "text": [
      "Detected frames:  500\n"
     ]
    },
    {
     "name": "stderr",
     "output_type": "stream",
     "text": [
      "510it [00:21, 23.55it/s]\n"
     ]
    },
    {
     "name": "stdout",
     "output_type": "stream",
     "text": [
      "Saving results in F:\\videos\\ar41motor\\2022_07_29...\n",
      "Saving csv poses!\n",
      "Starting to analyze %  F:\\videos\\ar41motor\\2022_07_29\\Mask136L.avi\n",
      "F:\\videos\\ar41motor\\2022_07_29  already exists!\n",
      "Loading  F:\\videos\\ar41motor\\2022_07_29\\Mask136L.avi\n",
      "Duration of video [s]:  12.05 , recorded with  40.0 fps!\n",
      "Overall # of frames:  482  found with (before cropping) frame dimensions:  314 700\n",
      "Starting to extract posture\n"
     ]
    },
    {
     "name": "stderr",
     "output_type": "stream",
     "text": [
      "490it [00:20, 20.98it/s]                                                                                               "
     ]
    },
    {
     "name": "stdout",
     "output_type": "stream",
     "text": [
      "Detected frames:  482\n"
     ]
    },
    {
     "name": "stderr",
     "output_type": "stream",
     "text": [
      "490it [00:20, 23.67it/s]\n"
     ]
    },
    {
     "name": "stdout",
     "output_type": "stream",
     "text": [
      "Saving results in F:\\videos\\ar41motor\\2022_07_29...\n",
      "Saving csv poses!\n",
      "Starting to analyze %  F:\\videos\\ar41motor\\2022_07_29\\Mask137L.avi\n",
      "F:\\videos\\ar41motor\\2022_07_29  already exists!\n",
      "Loading  F:\\videos\\ar41motor\\2022_07_29\\Mask137L.avi\n",
      "Duration of video [s]:  12.5 , recorded with  40.0 fps!\n",
      "Overall # of frames:  500  found with (before cropping) frame dimensions:  314 700\n",
      "Starting to extract posture\n"
     ]
    },
    {
     "name": "stderr",
     "output_type": "stream",
     "text": [
      "510it [00:21, 25.07it/s]                                                                                               "
     ]
    },
    {
     "name": "stdout",
     "output_type": "stream",
     "text": [
      "Detected frames:  500\n"
     ]
    },
    {
     "name": "stderr",
     "output_type": "stream",
     "text": [
      "510it [00:21, 23.74it/s]\n"
     ]
    },
    {
     "name": "stdout",
     "output_type": "stream",
     "text": [
      "Saving results in F:\\videos\\ar41motor\\2022_07_29...\n",
      "Saving csv poses!\n",
      "Starting to analyze %  F:\\videos\\ar41motor\\2022_07_29\\Mask138L.avi\n",
      "F:\\videos\\ar41motor\\2022_07_29  already exists!\n",
      "Loading  F:\\videos\\ar41motor\\2022_07_29\\Mask138L.avi\n",
      "Duration of video [s]:  6.65 , recorded with  40.0 fps!\n",
      "Overall # of frames:  266  found with (before cropping) frame dimensions:  314 700\n",
      "Starting to extract posture\n"
     ]
    },
    {
     "name": "stderr",
     "output_type": "stream",
     "text": [
      "270it [00:11, 25.07it/s]                                                                                               "
     ]
    },
    {
     "name": "stdout",
     "output_type": "stream",
     "text": [
      "Detected frames:  266\n"
     ]
    },
    {
     "name": "stderr",
     "output_type": "stream",
     "text": [
      "270it [00:11, 22.98it/s]\n"
     ]
    },
    {
     "name": "stdout",
     "output_type": "stream",
     "text": [
      "Saving results in F:\\videos\\ar41motor\\2022_07_29...\n",
      "Saving csv poses!\n",
      "Starting to analyze %  F:\\videos\\ar41motor\\2022_07_29\\Mask139L.avi\n",
      "F:\\videos\\ar41motor\\2022_07_29  already exists!\n",
      "Loading  F:\\videos\\ar41motor\\2022_07_29\\Mask139L.avi\n",
      "Duration of video [s]:  11.97 , recorded with  40.0 fps!\n",
      "Overall # of frames:  479  found with (before cropping) frame dimensions:  314 700\n",
      "Starting to extract posture\n"
     ]
    },
    {
     "name": "stderr",
     "output_type": "stream",
     "text": [
      "480it [00:22, 24.89it/s]                                                                                               "
     ]
    },
    {
     "name": "stdout",
     "output_type": "stream",
     "text": [
      "Detected frames:  479\n"
     ]
    },
    {
     "name": "stderr",
     "output_type": "stream",
     "text": [
      "480it [00:23, 20.65it/s]\n"
     ]
    },
    {
     "name": "stdout",
     "output_type": "stream",
     "text": [
      "Saving results in F:\\videos\\ar41motor\\2022_07_29...\n",
      "Saving csv poses!\n",
      "Starting to analyze %  F:\\videos\\ar41motor\\2022_07_29\\Mask13L.avi\n",
      "F:\\videos\\ar41motor\\2022_07_29  already exists!\n",
      "Loading  F:\\videos\\ar41motor\\2022_07_29\\Mask13L.avi\n",
      "Duration of video [s]:  6.22 , recorded with  40.0 fps!\n",
      "Overall # of frames:  249  found with (before cropping) frame dimensions:  314 700\n",
      "Starting to extract posture\n"
     ]
    },
    {
     "name": "stderr",
     "output_type": "stream",
     "text": [
      "250it [00:10, 20.62it/s]                                                                                               "
     ]
    },
    {
     "name": "stdout",
     "output_type": "stream",
     "text": [
      "Detected frames:  249\n"
     ]
    },
    {
     "name": "stderr",
     "output_type": "stream",
     "text": [
      "250it [00:11, 22.68it/s]\n"
     ]
    },
    {
     "name": "stdout",
     "output_type": "stream",
     "text": [
      "Saving results in F:\\videos\\ar41motor\\2022_07_29...\n",
      "Saving csv poses!\n",
      "Starting to analyze %  F:\\videos\\ar41motor\\2022_07_29\\Mask140L.avi\n",
      "F:\\videos\\ar41motor\\2022_07_29  already exists!\n",
      "Loading  F:\\videos\\ar41motor\\2022_07_29\\Mask140L.avi\n",
      "Duration of video [s]:  8.68 , recorded with  40.0 fps!\n",
      "Overall # of frames:  347  found with (before cropping) frame dimensions:  314 700\n",
      "Starting to extract posture\n"
     ]
    },
    {
     "name": "stderr",
     "output_type": "stream",
     "text": [
      "350it [00:15, 24.13it/s]                                                                                               "
     ]
    },
    {
     "name": "stdout",
     "output_type": "stream",
     "text": [
      "Detected frames:  347\n"
     ]
    },
    {
     "name": "stderr",
     "output_type": "stream",
     "text": [
      "350it [00:15, 22.05it/s]\n"
     ]
    },
    {
     "name": "stdout",
     "output_type": "stream",
     "text": [
      "Saving results in F:\\videos\\ar41motor\\2022_07_29...\n",
      "Saving csv poses!\n",
      "Starting to analyze %  F:\\videos\\ar41motor\\2022_07_29\\Mask141L.avi\n",
      "F:\\videos\\ar41motor\\2022_07_29  already exists!\n",
      "Loading  F:\\videos\\ar41motor\\2022_07_29\\Mask141L.avi\n",
      "Duration of video [s]:  12.5 , recorded with  40.0 fps!\n",
      "Overall # of frames:  500  found with (before cropping) frame dimensions:  314 700\n",
      "Starting to extract posture\n"
     ]
    },
    {
     "name": "stderr",
     "output_type": "stream",
     "text": [
      "510it [00:21, 23.92it/s]                                                                                               "
     ]
    },
    {
     "name": "stdout",
     "output_type": "stream",
     "text": [
      "Detected frames:  500\n"
     ]
    },
    {
     "name": "stderr",
     "output_type": "stream",
     "text": [
      "510it [00:21, 23.43it/s]\n"
     ]
    },
    {
     "name": "stdout",
     "output_type": "stream",
     "text": [
      "Saving results in F:\\videos\\ar41motor\\2022_07_29...\n",
      "Saving csv poses!\n",
      "Starting to analyze %  F:\\videos\\ar41motor\\2022_07_29\\Mask142L.avi\n",
      "F:\\videos\\ar41motor\\2022_07_29  already exists!\n",
      "Loading  F:\\videos\\ar41motor\\2022_07_29\\Mask142L.avi\n",
      "Duration of video [s]:  12.5 , recorded with  40.0 fps!\n",
      "Overall # of frames:  500  found with (before cropping) frame dimensions:  314 700\n",
      "Starting to extract posture\n"
     ]
    },
    {
     "name": "stderr",
     "output_type": "stream",
     "text": [
      "510it [00:21, 23.34it/s]                                                                                               "
     ]
    },
    {
     "name": "stdout",
     "output_type": "stream",
     "text": [
      "Detected frames:  500\n"
     ]
    },
    {
     "name": "stderr",
     "output_type": "stream",
     "text": [
      "510it [00:21, 23.50it/s]\n"
     ]
    },
    {
     "name": "stdout",
     "output_type": "stream",
     "text": [
      "Saving results in F:\\videos\\ar41motor\\2022_07_29...\n",
      "Saving csv poses!\n",
      "Starting to analyze %  F:\\videos\\ar41motor\\2022_07_29\\Mask143L.avi\n",
      "F:\\videos\\ar41motor\\2022_07_29  already exists!\n",
      "Loading  F:\\videos\\ar41motor\\2022_07_29\\Mask143L.avi\n",
      "Duration of video [s]:  12.28 , recorded with  40.0 fps!\n",
      "Overall # of frames:  491  found with (before cropping) frame dimensions:  314 700\n",
      "Starting to extract posture\n"
     ]
    },
    {
     "name": "stderr",
     "output_type": "stream",
     "text": [
      "500it [00:21, 21.82it/s]                                                                                               "
     ]
    },
    {
     "name": "stdout",
     "output_type": "stream",
     "text": [
      "Detected frames:  491\n"
     ]
    },
    {
     "name": "stderr",
     "output_type": "stream",
     "text": [
      "500it [00:21, 23.26it/s]\n"
     ]
    },
    {
     "name": "stdout",
     "output_type": "stream",
     "text": [
      "Saving results in F:\\videos\\ar41motor\\2022_07_29...\n",
      "Saving csv poses!\n",
      "Starting to analyze %  F:\\videos\\ar41motor\\2022_07_29\\Mask144L.avi\n",
      "F:\\videos\\ar41motor\\2022_07_29  already exists!\n",
      "Loading  F:\\videos\\ar41motor\\2022_07_29\\Mask144L.avi\n",
      "Duration of video [s]:  9.65 , recorded with  40.0 fps!\n",
      "Overall # of frames:  386  found with (before cropping) frame dimensions:  314 700\n",
      "Starting to extract posture\n"
     ]
    },
    {
     "name": "stderr",
     "output_type": "stream",
     "text": [
      "390it [00:16, 24.51it/s]                                                                                               "
     ]
    },
    {
     "name": "stdout",
     "output_type": "stream",
     "text": [
      "Detected frames:  386\n"
     ]
    },
    {
     "name": "stderr",
     "output_type": "stream",
     "text": [
      "390it [00:16, 23.16it/s]\n"
     ]
    },
    {
     "name": "stdout",
     "output_type": "stream",
     "text": [
      "Saving results in F:\\videos\\ar41motor\\2022_07_29...\n",
      "Saving csv poses!\n",
      "Starting to analyze %  F:\\videos\\ar41motor\\2022_07_29\\Mask145L.avi\n",
      "F:\\videos\\ar41motor\\2022_07_29  already exists!\n",
      "Loading  F:\\videos\\ar41motor\\2022_07_29\\Mask145L.avi\n",
      "Duration of video [s]:  12.47 , recorded with  40.0 fps!\n",
      "Overall # of frames:  499  found with (before cropping) frame dimensions:  314 700\n",
      "Starting to extract posture\n"
     ]
    },
    {
     "name": "stderr",
     "output_type": "stream",
     "text": [
      "500it [00:21, 22.87it/s]                                                                                               "
     ]
    },
    {
     "name": "stdout",
     "output_type": "stream",
     "text": [
      "Detected frames:  499\n"
     ]
    },
    {
     "name": "stderr",
     "output_type": "stream",
     "text": [
      "500it [00:21, 22.89it/s]\n"
     ]
    },
    {
     "name": "stdout",
     "output_type": "stream",
     "text": [
      "Saving results in F:\\videos\\ar41motor\\2022_07_29...\n",
      "Saving csv poses!\n",
      "Starting to analyze %  F:\\videos\\ar41motor\\2022_07_29\\Mask146L.avi\n",
      "F:\\videos\\ar41motor\\2022_07_29  already exists!\n",
      "Loading  F:\\videos\\ar41motor\\2022_07_29\\Mask146L.avi\n",
      "Duration of video [s]:  5.65 , recorded with  40.0 fps!\n",
      "Overall # of frames:  226  found with (before cropping) frame dimensions:  314 700\n",
      "Starting to extract posture\n"
     ]
    },
    {
     "name": "stderr",
     "output_type": "stream",
     "text": [
      "230it [00:09, 24.84it/s]                                                                                               "
     ]
    },
    {
     "name": "stdout",
     "output_type": "stream",
     "text": [
      "Detected frames:  226\n"
     ]
    },
    {
     "name": "stderr",
     "output_type": "stream",
     "text": [
      "230it [00:09, 23.23it/s]\n"
     ]
    },
    {
     "name": "stdout",
     "output_type": "stream",
     "text": [
      "Saving results in F:\\videos\\ar41motor\\2022_07_29...\n",
      "Saving csv poses!\n",
      "Starting to analyze %  F:\\videos\\ar41motor\\2022_07_29\\Mask147L.avi\n",
      "F:\\videos\\ar41motor\\2022_07_29  already exists!\n",
      "Loading  F:\\videos\\ar41motor\\2022_07_29\\Mask147L.avi\n",
      "Duration of video [s]:  12.47 , recorded with  40.0 fps!\n",
      "Overall # of frames:  499  found with (before cropping) frame dimensions:  314 700\n",
      "Starting to extract posture\n"
     ]
    },
    {
     "name": "stderr",
     "output_type": "stream",
     "text": [
      "500it [00:21, 22.16it/s]                                                                                               "
     ]
    },
    {
     "name": "stdout",
     "output_type": "stream",
     "text": [
      "Detected frames:  499\n"
     ]
    },
    {
     "name": "stderr",
     "output_type": "stream",
     "text": [
      "500it [00:22, 22.43it/s]\n"
     ]
    },
    {
     "name": "stdout",
     "output_type": "stream",
     "text": [
      "Saving results in F:\\videos\\ar41motor\\2022_07_29...\n",
      "Saving csv poses!\n",
      "Starting to analyze %  F:\\videos\\ar41motor\\2022_07_29\\Mask148LDLC_resnet152_ar30shiwkerSep13shuffle2_100000.csv\n",
      "F:\\videos\\ar41motor\\2022_07_29  already exists!\n",
      "Loading  F:\\videos\\ar41motor\\2022_07_29\\Mask148LDLC_resnet152_ar30shiwkerSep13shuffle2_100000.csv\n",
      "Starting to analyze %  F:\\videos\\ar41motor\\2022_07_29\\Mask148LDLC_resnet152_ar30shiwkerSep13shuffle2_100000.h5\n",
      "F:\\videos\\ar41motor\\2022_07_29  already exists!\n",
      "Loading  F:\\videos\\ar41motor\\2022_07_29\\Mask148LDLC_resnet152_ar30shiwkerSep13shuffle2_100000.h5\n",
      "Starting to analyze %  F:\\videos\\ar41motor\\2022_07_29\\Mask148LDLC_resnet152_ar30shiwkerSep13shuffle2_100000_meta.pickle\n",
      "F:\\videos\\ar41motor\\2022_07_29  already exists!\n",
      "Loading  F:\\videos\\ar41motor\\2022_07_29\\Mask148LDLC_resnet152_ar30shiwkerSep13shuffle2_100000_meta.pickle\n",
      "Starting to analyze %  F:\\videos\\ar41motor\\2022_07_29\\Mask149LDLC_resnet152_ar30shiwkerSep13shuffle2_100000.csv\n",
      "F:\\videos\\ar41motor\\2022_07_29  already exists!\n",
      "Loading  F:\\videos\\ar41motor\\2022_07_29\\Mask149LDLC_resnet152_ar30shiwkerSep13shuffle2_100000.csv\n",
      "Starting to analyze %  F:\\videos\\ar41motor\\2022_07_29\\Mask149LDLC_resnet152_ar30shiwkerSep13shuffle2_100000.h5\n",
      "F:\\videos\\ar41motor\\2022_07_29  already exists!\n",
      "Loading  F:\\videos\\ar41motor\\2022_07_29\\Mask149LDLC_resnet152_ar30shiwkerSep13shuffle2_100000.h5\n",
      "Starting to analyze %  F:\\videos\\ar41motor\\2022_07_29\\Mask149LDLC_resnet152_ar30shiwkerSep13shuffle2_100000_meta.pickle\n",
      "F:\\videos\\ar41motor\\2022_07_29  already exists!\n",
      "Loading  F:\\videos\\ar41motor\\2022_07_29\\Mask149LDLC_resnet152_ar30shiwkerSep13shuffle2_100000_meta.pickle\n",
      "Starting to analyze %  F:\\videos\\ar41motor\\2022_07_29\\Mask14L.avi\n",
      "F:\\videos\\ar41motor\\2022_07_29  already exists!\n",
      "Loading  F:\\videos\\ar41motor\\2022_07_29\\Mask14L.avi\n",
      "Duration of video [s]:  5.92 , recorded with  40.0 fps!\n",
      "Overall # of frames:  237  found with (before cropping) frame dimensions:  314 700\n",
      "Starting to extract posture\n"
     ]
    },
    {
     "name": "stderr",
     "output_type": "stream",
     "text": [
      "240it [00:09, 25.51it/s]                                                                                               "
     ]
    },
    {
     "name": "stdout",
     "output_type": "stream",
     "text": [
      "Detected frames:  237\n"
     ]
    },
    {
     "name": "stderr",
     "output_type": "stream",
     "text": [
      "240it [00:10, 23.07it/s]\n"
     ]
    },
    {
     "name": "stdout",
     "output_type": "stream",
     "text": [
      "Saving results in F:\\videos\\ar41motor\\2022_07_29...\n",
      "Saving csv poses!\n",
      "Starting to analyze %  F:\\videos\\ar41motor\\2022_07_29\\Mask150LDLC_resnet152_ar30shiwkerSep13shuffle2_100000.csv\n",
      "F:\\videos\\ar41motor\\2022_07_29  already exists!\n",
      "Loading  F:\\videos\\ar41motor\\2022_07_29\\Mask150LDLC_resnet152_ar30shiwkerSep13shuffle2_100000.csv\n",
      "Starting to analyze %  F:\\videos\\ar41motor\\2022_07_29\\Mask150LDLC_resnet152_ar30shiwkerSep13shuffle2_100000.h5\n",
      "F:\\videos\\ar41motor\\2022_07_29  already exists!\n",
      "Loading  F:\\videos\\ar41motor\\2022_07_29\\Mask150LDLC_resnet152_ar30shiwkerSep13shuffle2_100000.h5\n",
      "Starting to analyze %  F:\\videos\\ar41motor\\2022_07_29\\Mask150LDLC_resnet152_ar30shiwkerSep13shuffle2_100000_meta.pickle\n",
      "F:\\videos\\ar41motor\\2022_07_29  already exists!\n",
      "Loading  F:\\videos\\ar41motor\\2022_07_29\\Mask150LDLC_resnet152_ar30shiwkerSep13shuffle2_100000_meta.pickle\n",
      "Starting to analyze %  F:\\videos\\ar41motor\\2022_07_29\\Mask15L.avi\n",
      "F:\\videos\\ar41motor\\2022_07_29  already exists!\n",
      "Loading  F:\\videos\\ar41motor\\2022_07_29\\Mask15L.avi\n",
      "Duration of video [s]:  6.38 , recorded with  40.0 fps!\n",
      "Overall # of frames:  255  found with (before cropping) frame dimensions:  314 700\n",
      "Starting to extract posture\n"
     ]
    },
    {
     "name": "stderr",
     "output_type": "stream",
     "text": [
      "260it [00:10, 22.67it/s]                                                                                               "
     ]
    },
    {
     "name": "stdout",
     "output_type": "stream",
     "text": [
      "Detected frames:  255\n"
     ]
    },
    {
     "name": "stderr",
     "output_type": "stream",
     "text": [
      "260it [00:11, 23.28it/s]\n"
     ]
    },
    {
     "name": "stdout",
     "output_type": "stream",
     "text": [
      "Saving results in F:\\videos\\ar41motor\\2022_07_29...\n",
      "Saving csv poses!\n",
      "Starting to analyze %  F:\\videos\\ar41motor\\2022_07_29\\Mask16L.avi\n",
      "F:\\videos\\ar41motor\\2022_07_29  already exists!\n",
      "Loading  F:\\videos\\ar41motor\\2022_07_29\\Mask16L.avi\n",
      "Duration of video [s]:  11.53 , recorded with  40.0 fps!\n",
      "Overall # of frames:  461  found with (before cropping) frame dimensions:  314 700\n",
      "Starting to extract posture\n"
     ]
    },
    {
     "name": "stderr",
     "output_type": "stream",
     "text": [
      "470it [00:19, 23.45it/s]                                                                                               "
     ]
    },
    {
     "name": "stdout",
     "output_type": "stream",
     "text": [
      "Detected frames:  461\n"
     ]
    },
    {
     "name": "stderr",
     "output_type": "stream",
     "text": [
      "470it [00:20, 23.34it/s]\n"
     ]
    },
    {
     "name": "stdout",
     "output_type": "stream",
     "text": [
      "Saving results in F:\\videos\\ar41motor\\2022_07_29...\n",
      "Saving csv poses!\n",
      "Starting to analyze %  F:\\videos\\ar41motor\\2022_07_29\\Mask17L.avi\n",
      "F:\\videos\\ar41motor\\2022_07_29  already exists!\n",
      "Loading  F:\\videos\\ar41motor\\2022_07_29\\Mask17L.avi\n",
      "Duration of video [s]:  7.85 , recorded with  40.0 fps!\n",
      "Overall # of frames:  314  found with (before cropping) frame dimensions:  314 700\n",
      "Starting to extract posture\n"
     ]
    },
    {
     "name": "stderr",
     "output_type": "stream",
     "text": [
      "320it [00:13, 24.98it/s]                                                                                               "
     ]
    },
    {
     "name": "stdout",
     "output_type": "stream",
     "text": [
      "Detected frames:  314\n"
     ]
    },
    {
     "name": "stderr",
     "output_type": "stream",
     "text": [
      "320it [00:13, 22.88it/s]\n"
     ]
    },
    {
     "name": "stdout",
     "output_type": "stream",
     "text": [
      "Saving results in F:\\videos\\ar41motor\\2022_07_29...\n",
      "Saving csv poses!\n",
      "Starting to analyze %  F:\\videos\\ar41motor\\2022_07_29\\Mask18L.avi\n",
      "F:\\videos\\ar41motor\\2022_07_29  already exists!\n",
      "Loading  F:\\videos\\ar41motor\\2022_07_29\\Mask18L.avi\n",
      "Duration of video [s]:  12.5 , recorded with  40.0 fps!\n",
      "Overall # of frames:  500  found with (before cropping) frame dimensions:  314 700\n",
      "Starting to extract posture\n"
     ]
    },
    {
     "name": "stderr",
     "output_type": "stream",
     "text": [
      "510it [00:21, 23.54it/s]                                                                                               "
     ]
    },
    {
     "name": "stdout",
     "output_type": "stream",
     "text": [
      "Detected frames:  500\n"
     ]
    },
    {
     "name": "stderr",
     "output_type": "stream",
     "text": [
      "510it [00:21, 23.33it/s]\n"
     ]
    },
    {
     "name": "stdout",
     "output_type": "stream",
     "text": [
      "Saving results in F:\\videos\\ar41motor\\2022_07_29...\n",
      "Saving csv poses!\n",
      "Starting to analyze %  F:\\videos\\ar41motor\\2022_07_29\\Mask19L.avi\n",
      "F:\\videos\\ar41motor\\2022_07_29  already exists!\n",
      "Loading  F:\\videos\\ar41motor\\2022_07_29\\Mask19L.avi\n",
      "Duration of video [s]:  5.92 , recorded with  40.0 fps!\n",
      "Overall # of frames:  237  found with (before cropping) frame dimensions:  314 700\n",
      "Starting to extract posture\n"
     ]
    },
    {
     "name": "stderr",
     "output_type": "stream",
     "text": [
      "240it [00:09, 25.26it/s]                                                                                               "
     ]
    },
    {
     "name": "stdout",
     "output_type": "stream",
     "text": [
      "Detected frames:  237\n"
     ]
    },
    {
     "name": "stderr",
     "output_type": "stream",
     "text": [
      "240it [00:10, 22.71it/s]\n"
     ]
    },
    {
     "name": "stdout",
     "output_type": "stream",
     "text": [
      "Saving results in F:\\videos\\ar41motor\\2022_07_29...\n",
      "Saving csv poses!\n",
      "Starting to analyze %  F:\\videos\\ar41motor\\2022_07_29\\Mask1L.avi\n",
      "F:\\videos\\ar41motor\\2022_07_29  already exists!\n",
      "Loading  F:\\videos\\ar41motor\\2022_07_29\\Mask1L.avi\n",
      "Duration of video [s]:  9.38 , recorded with  40.0 fps!\n",
      "Overall # of frames:  375  found with (before cropping) frame dimensions:  314 700\n",
      "Starting to extract posture\n"
     ]
    },
    {
     "name": "stderr",
     "output_type": "stream",
     "text": [
      "380it [00:16, 22.31it/s]                                                                                               "
     ]
    },
    {
     "name": "stdout",
     "output_type": "stream",
     "text": [
      "Detected frames:  375\n"
     ]
    },
    {
     "name": "stderr",
     "output_type": "stream",
     "text": [
      "380it [00:16, 23.09it/s]\n"
     ]
    },
    {
     "name": "stdout",
     "output_type": "stream",
     "text": [
      "Saving results in F:\\videos\\ar41motor\\2022_07_29...\n",
      "Saving csv poses!\n",
      "Starting to analyze %  F:\\videos\\ar41motor\\2022_07_29\\Mask20L.avi\n",
      "F:\\videos\\ar41motor\\2022_07_29  already exists!\n",
      "Loading  F:\\videos\\ar41motor\\2022_07_29\\Mask20L.avi\n",
      "Duration of video [s]:  6.97 , recorded with  40.0 fps!\n",
      "Overall # of frames:  279  found with (before cropping) frame dimensions:  314 700\n",
      "Starting to extract posture\n"
     ]
    },
    {
     "name": "stderr",
     "output_type": "stream",
     "text": [
      "280it [00:11, 25.63it/s]                                                                                               "
     ]
    },
    {
     "name": "stdout",
     "output_type": "stream",
     "text": [
      "Detected frames:  279\n"
     ]
    },
    {
     "name": "stderr",
     "output_type": "stream",
     "text": [
      "280it [00:12, 22.57it/s]\n"
     ]
    },
    {
     "name": "stdout",
     "output_type": "stream",
     "text": [
      "Saving results in F:\\videos\\ar41motor\\2022_07_29...\n",
      "Saving csv poses!\n",
      "Starting to analyze %  F:\\videos\\ar41motor\\2022_07_29\\Mask21L.avi\n",
      "F:\\videos\\ar41motor\\2022_07_29  already exists!\n",
      "Loading  F:\\videos\\ar41motor\\2022_07_29\\Mask21L.avi\n",
      "Duration of video [s]:  4.85 , recorded with  40.0 fps!\n",
      "Overall # of frames:  194  found with (before cropping) frame dimensions:  314 700\n",
      "Starting to extract posture\n"
     ]
    },
    {
     "name": "stderr",
     "output_type": "stream",
     "text": [
      "200it [00:07, 25.67it/s]                                                                                               "
     ]
    },
    {
     "name": "stdout",
     "output_type": "stream",
     "text": [
      "Detected frames:  194\n"
     ]
    },
    {
     "name": "stderr",
     "output_type": "stream",
     "text": [
      "200it [00:08, 23.30it/s]\n"
     ]
    },
    {
     "name": "stdout",
     "output_type": "stream",
     "text": [
      "Saving results in F:\\videos\\ar41motor\\2022_07_29...\n",
      "Saving csv poses!\n",
      "Starting to analyze %  F:\\videos\\ar41motor\\2022_07_29\\Mask22L.avi\n",
      "F:\\videos\\ar41motor\\2022_07_29  already exists!\n",
      "Loading  F:\\videos\\ar41motor\\2022_07_29\\Mask22L.avi\n",
      "Duration of video [s]:  12.2 , recorded with  40.0 fps!\n",
      "Overall # of frames:  488  found with (before cropping) frame dimensions:  314 700\n",
      "Starting to extract posture\n"
     ]
    },
    {
     "name": "stderr",
     "output_type": "stream",
     "text": [
      "490it [00:20, 20.73it/s]                                                                                               "
     ]
    },
    {
     "name": "stdout",
     "output_type": "stream",
     "text": [
      "Detected frames:  488\n"
     ]
    },
    {
     "name": "stderr",
     "output_type": "stream",
     "text": [
      "490it [00:21, 22.94it/s]\n"
     ]
    },
    {
     "name": "stdout",
     "output_type": "stream",
     "text": [
      "Saving results in F:\\videos\\ar41motor\\2022_07_29...\n",
      "Saving csv poses!\n",
      "Starting to analyze %  F:\\videos\\ar41motor\\2022_07_29\\Mask23L.avi\n",
      "F:\\videos\\ar41motor\\2022_07_29  already exists!\n",
      "Loading  F:\\videos\\ar41motor\\2022_07_29\\Mask23L.avi\n",
      "Duration of video [s]:  10.95 , recorded with  40.0 fps!\n",
      "Overall # of frames:  438  found with (before cropping) frame dimensions:  314 700\n",
      "Starting to extract posture\n"
     ]
    },
    {
     "name": "stderr",
     "output_type": "stream",
     "text": [
      "440it [00:18, 25.34it/s]                                                                                               "
     ]
    },
    {
     "name": "stdout",
     "output_type": "stream",
     "text": [
      "Detected frames:  438\n"
     ]
    },
    {
     "name": "stderr",
     "output_type": "stream",
     "text": [
      "440it [00:19, 22.95it/s]\n"
     ]
    },
    {
     "name": "stdout",
     "output_type": "stream",
     "text": [
      "Saving results in F:\\videos\\ar41motor\\2022_07_29...\n",
      "Saving csv poses!\n",
      "Starting to analyze %  F:\\videos\\ar41motor\\2022_07_29\\Mask24L.avi\n",
      "F:\\videos\\ar41motor\\2022_07_29  already exists!\n",
      "Loading  F:\\videos\\ar41motor\\2022_07_29\\Mask24L.avi\n",
      "Duration of video [s]:  8.43 , recorded with  40.0 fps!\n",
      "Overall # of frames:  337  found with (before cropping) frame dimensions:  314 700\n",
      "Starting to extract posture\n"
     ]
    },
    {
     "name": "stderr",
     "output_type": "stream",
     "text": [
      "340it [00:14, 21.90it/s]                                                                                               "
     ]
    },
    {
     "name": "stdout",
     "output_type": "stream",
     "text": [
      "Detected frames:  337\n"
     ]
    },
    {
     "name": "stderr",
     "output_type": "stream",
     "text": [
      "340it [00:15, 22.62it/s]\n"
     ]
    },
    {
     "name": "stdout",
     "output_type": "stream",
     "text": [
      "Saving results in F:\\videos\\ar41motor\\2022_07_29...\n",
      "Saving csv poses!\n",
      "Starting to analyze %  F:\\videos\\ar41motor\\2022_07_29\\Mask25L.avi\n",
      "F:\\videos\\ar41motor\\2022_07_29  already exists!\n",
      "Loading  F:\\videos\\ar41motor\\2022_07_29\\Mask25L.avi\n",
      "Duration of video [s]:  11.6 , recorded with  40.0 fps!\n",
      "Overall # of frames:  464  found with (before cropping) frame dimensions:  314 700\n",
      "Starting to extract posture\n"
     ]
    },
    {
     "name": "stderr",
     "output_type": "stream",
     "text": [
      "470it [00:19, 24.17it/s]                                                                                               "
     ]
    },
    {
     "name": "stdout",
     "output_type": "stream",
     "text": [
      "Detected frames:  464\n"
     ]
    },
    {
     "name": "stderr",
     "output_type": "stream",
     "text": [
      "470it [00:20, 23.24it/s]\n"
     ]
    },
    {
     "name": "stdout",
     "output_type": "stream",
     "text": [
      "Saving results in F:\\videos\\ar41motor\\2022_07_29...\n",
      "Saving csv poses!\n",
      "Starting to analyze %  F:\\videos\\ar41motor\\2022_07_29\\Mask26L.avi\n",
      "F:\\videos\\ar41motor\\2022_07_29  already exists!\n",
      "Loading  F:\\videos\\ar41motor\\2022_07_29\\Mask26L.avi\n",
      "Duration of video [s]:  9.75 , recorded with  40.0 fps!\n",
      "Overall # of frames:  390  found with (before cropping) frame dimensions:  314 700\n",
      "Starting to extract posture\n"
     ]
    },
    {
     "name": "stderr",
     "output_type": "stream",
     "text": [
      "400it [00:16, 24.29it/s]                                                                                               "
     ]
    },
    {
     "name": "stdout",
     "output_type": "stream",
     "text": [
      "Detected frames:  390\n"
     ]
    },
    {
     "name": "stderr",
     "output_type": "stream",
     "text": [
      "400it [00:17, 23.12it/s]\n"
     ]
    },
    {
     "name": "stdout",
     "output_type": "stream",
     "text": [
      "Saving results in F:\\videos\\ar41motor\\2022_07_29...\n",
      "Saving csv poses!\n",
      "Starting to analyze %  F:\\videos\\ar41motor\\2022_07_29\\Mask27L.avi\n",
      "F:\\videos\\ar41motor\\2022_07_29  already exists!\n",
      "Loading  F:\\videos\\ar41motor\\2022_07_29\\Mask27L.avi\n",
      "Duration of video [s]:  8.5 , recorded with  40.0 fps!\n",
      "Overall # of frames:  340  found with (before cropping) frame dimensions:  314 700\n",
      "Starting to extract posture\n"
     ]
    },
    {
     "name": "stderr",
     "output_type": "stream",
     "text": [
      "350it [00:15, 22.45it/s]                                                                                               "
     ]
    },
    {
     "name": "stdout",
     "output_type": "stream",
     "text": [
      "Detected frames:  340\n"
     ]
    },
    {
     "name": "stderr",
     "output_type": "stream",
     "text": [
      "350it [00:15, 22.68it/s]\n"
     ]
    },
    {
     "name": "stdout",
     "output_type": "stream",
     "text": [
      "Saving results in F:\\videos\\ar41motor\\2022_07_29...\n",
      "Saving csv poses!\n",
      "Starting to analyze %  F:\\videos\\ar41motor\\2022_07_29\\Mask28L.avi\n",
      "F:\\videos\\ar41motor\\2022_07_29  already exists!\n",
      "Loading  F:\\videos\\ar41motor\\2022_07_29\\Mask28L.avi\n",
      "Duration of video [s]:  9.3 , recorded with  40.0 fps!\n",
      "Overall # of frames:  372  found with (before cropping) frame dimensions:  314 700\n",
      "Starting to extract posture\n"
     ]
    },
    {
     "name": "stderr",
     "output_type": "stream",
     "text": [
      "380it [00:16, 22.70it/s]                                                                                               "
     ]
    },
    {
     "name": "stdout",
     "output_type": "stream",
     "text": [
      "Detected frames:  372\n"
     ]
    },
    {
     "name": "stderr",
     "output_type": "stream",
     "text": [
      "380it [00:16, 23.05it/s]\n"
     ]
    },
    {
     "name": "stdout",
     "output_type": "stream",
     "text": [
      "Saving results in F:\\videos\\ar41motor\\2022_07_29...\n",
      "Saving csv poses!\n",
      "Starting to analyze %  F:\\videos\\ar41motor\\2022_07_29\\Mask29L.avi\n",
      "F:\\videos\\ar41motor\\2022_07_29  already exists!\n",
      "Loading  F:\\videos\\ar41motor\\2022_07_29\\Mask29L.avi\n",
      "Duration of video [s]:  7.8 , recorded with  40.0 fps!\n",
      "Overall # of frames:  312  found with (before cropping) frame dimensions:  314 700\n",
      "Starting to extract posture\n"
     ]
    },
    {
     "name": "stderr",
     "output_type": "stream",
     "text": [
      "320it [00:13, 25.89it/s]                                                                                               "
     ]
    },
    {
     "name": "stdout",
     "output_type": "stream",
     "text": [
      "Detected frames:  312\n"
     ]
    },
    {
     "name": "stderr",
     "output_type": "stream",
     "text": [
      "320it [00:13, 23.65it/s]\n"
     ]
    },
    {
     "name": "stdout",
     "output_type": "stream",
     "text": [
      "Saving results in F:\\videos\\ar41motor\\2022_07_29...\n",
      "Saving csv poses!\n",
      "Starting to analyze %  F:\\videos\\ar41motor\\2022_07_29\\Mask2L.avi\n",
      "F:\\videos\\ar41motor\\2022_07_29  already exists!\n",
      "Loading  F:\\videos\\ar41motor\\2022_07_29\\Mask2L.avi\n",
      "Duration of video [s]:  5.83 , recorded with  40.0 fps!\n",
      "Overall # of frames:  233  found with (before cropping) frame dimensions:  314 700\n",
      "Starting to extract posture\n"
     ]
    },
    {
     "name": "stderr",
     "output_type": "stream",
     "text": [
      "240it [00:09, 25.53it/s]                                                                                               "
     ]
    },
    {
     "name": "stdout",
     "output_type": "stream",
     "text": [
      "Detected frames:  233\n"
     ]
    },
    {
     "name": "stderr",
     "output_type": "stream",
     "text": [
      "240it [00:10, 22.98it/s]\n"
     ]
    },
    {
     "name": "stdout",
     "output_type": "stream",
     "text": [
      "Saving results in F:\\videos\\ar41motor\\2022_07_29...\n",
      "Saving csv poses!\n",
      "Starting to analyze %  F:\\videos\\ar41motor\\2022_07_29\\Mask30L.avi\n",
      "F:\\videos\\ar41motor\\2022_07_29  already exists!\n",
      "Loading  F:\\videos\\ar41motor\\2022_07_29\\Mask30L.avi\n",
      "Duration of video [s]:  11.28 , recorded with  40.0 fps!\n",
      "Overall # of frames:  451  found with (before cropping) frame dimensions:  314 700\n",
      "Starting to extract posture\n"
     ]
    },
    {
     "name": "stderr",
     "output_type": "stream",
     "text": [
      "460it [00:19, 22.49it/s]                                                                                               "
     ]
    },
    {
     "name": "stdout",
     "output_type": "stream",
     "text": [
      "Detected frames:  451\n"
     ]
    },
    {
     "name": "stderr",
     "output_type": "stream",
     "text": [
      "460it [00:19, 23.02it/s]\n"
     ]
    },
    {
     "name": "stdout",
     "output_type": "stream",
     "text": [
      "Saving results in F:\\videos\\ar41motor\\2022_07_29...\n",
      "Saving csv poses!\n",
      "Starting to analyze %  F:\\videos\\ar41motor\\2022_07_29\\Mask31L.avi\n",
      "F:\\videos\\ar41motor\\2022_07_29  already exists!\n",
      "Loading  F:\\videos\\ar41motor\\2022_07_29\\Mask31L.avi\n",
      "Duration of video [s]:  11.72 , recorded with  40.0 fps!\n",
      "Overall # of frames:  469  found with (before cropping) frame dimensions:  314 700\n",
      "Starting to extract posture\n"
     ]
    },
    {
     "name": "stderr",
     "output_type": "stream",
     "text": [
      "470it [00:20, 23.32it/s]                                                                                               "
     ]
    },
    {
     "name": "stdout",
     "output_type": "stream",
     "text": [
      "Detected frames:  469\n"
     ]
    },
    {
     "name": "stderr",
     "output_type": "stream",
     "text": [
      "470it [00:20, 22.74it/s]\n"
     ]
    },
    {
     "name": "stdout",
     "output_type": "stream",
     "text": [
      "Saving results in F:\\videos\\ar41motor\\2022_07_29...\n",
      "Saving csv poses!\n",
      "Starting to analyze %  F:\\videos\\ar41motor\\2022_07_29\\Mask32L.avi\n",
      "F:\\videos\\ar41motor\\2022_07_29  already exists!\n",
      "Loading  F:\\videos\\ar41motor\\2022_07_29\\Mask32L.avi\n",
      "Duration of video [s]:  12.5 , recorded with  40.0 fps!\n",
      "Overall # of frames:  500  found with (before cropping) frame dimensions:  314 700\n",
      "Starting to extract posture\n"
     ]
    },
    {
     "name": "stderr",
     "output_type": "stream",
     "text": [
      "510it [00:21, 23.87it/s]                                                                                               "
     ]
    },
    {
     "name": "stdout",
     "output_type": "stream",
     "text": [
      "Detected frames:  500\n"
     ]
    },
    {
     "name": "stderr",
     "output_type": "stream",
     "text": [
      "510it [00:21, 23.33it/s]\n"
     ]
    },
    {
     "name": "stdout",
     "output_type": "stream",
     "text": [
      "Saving results in F:\\videos\\ar41motor\\2022_07_29...\n",
      "Saving csv poses!\n",
      "Starting to analyze %  F:\\videos\\ar41motor\\2022_07_29\\Mask33L.avi\n",
      "F:\\videos\\ar41motor\\2022_07_29  already exists!\n",
      "Loading  F:\\videos\\ar41motor\\2022_07_29\\Mask33L.avi\n",
      "Duration of video [s]:  11.38 , recorded with  40.0 fps!\n",
      "Overall # of frames:  455  found with (before cropping) frame dimensions:  314 700\n",
      "Starting to extract posture\n"
     ]
    },
    {
     "name": "stderr",
     "output_type": "stream",
     "text": [
      "460it [00:19, 22.42it/s]                                                                                               "
     ]
    },
    {
     "name": "stdout",
     "output_type": "stream",
     "text": [
      "Detected frames:  455\n"
     ]
    },
    {
     "name": "stderr",
     "output_type": "stream",
     "text": [
      "460it [00:20, 22.65it/s]\n"
     ]
    },
    {
     "name": "stdout",
     "output_type": "stream",
     "text": [
      "Saving results in F:\\videos\\ar41motor\\2022_07_29...\n",
      "Saving csv poses!\n",
      "Starting to analyze %  F:\\videos\\ar41motor\\2022_07_29\\Mask34L.avi\n",
      "F:\\videos\\ar41motor\\2022_07_29  already exists!\n",
      "Loading  F:\\videos\\ar41motor\\2022_07_29\\Mask34L.avi\n",
      "Duration of video [s]:  12.45 , recorded with  40.0 fps!\n",
      "Overall # of frames:  498  found with (before cropping) frame dimensions:  314 700\n",
      "Starting to extract posture\n"
     ]
    },
    {
     "name": "stderr",
     "output_type": "stream",
     "text": [
      "500it [00:21, 22.65it/s]                                                                                               "
     ]
    },
    {
     "name": "stdout",
     "output_type": "stream",
     "text": [
      "Detected frames:  498\n"
     ]
    },
    {
     "name": "stderr",
     "output_type": "stream",
     "text": [
      "500it [00:21, 22.81it/s]\n"
     ]
    },
    {
     "name": "stdout",
     "output_type": "stream",
     "text": [
      "Saving results in F:\\videos\\ar41motor\\2022_07_29...\n",
      "Saving csv poses!\n",
      "Starting to analyze %  F:\\videos\\ar41motor\\2022_07_29\\Mask35L.avi\n",
      "F:\\videos\\ar41motor\\2022_07_29  already exists!\n",
      "Loading  F:\\videos\\ar41motor\\2022_07_29\\Mask35L.avi\n",
      "Duration of video [s]:  11.25 , recorded with  40.0 fps!\n",
      "Overall # of frames:  450  found with (before cropping) frame dimensions:  314 700\n",
      "Starting to extract posture\n"
     ]
    },
    {
     "name": "stderr",
     "output_type": "stream",
     "text": [
      "460it [00:19, 22.73it/s]                                                                                               "
     ]
    },
    {
     "name": "stdout",
     "output_type": "stream",
     "text": [
      "Detected frames:  450\n"
     ]
    },
    {
     "name": "stderr",
     "output_type": "stream",
     "text": [
      "460it [00:19, 23.01it/s]\n"
     ]
    },
    {
     "name": "stdout",
     "output_type": "stream",
     "text": [
      "Saving results in F:\\videos\\ar41motor\\2022_07_29...\n",
      "Saving csv poses!\n",
      "Starting to analyze %  F:\\videos\\ar41motor\\2022_07_29\\Mask36L.avi\n",
      "F:\\videos\\ar41motor\\2022_07_29  already exists!\n",
      "Loading  F:\\videos\\ar41motor\\2022_07_29\\Mask36L.avi\n",
      "Duration of video [s]:  11.32 , recorded with  40.0 fps!\n",
      "Overall # of frames:  453  found with (before cropping) frame dimensions:  314 700\n",
      "Starting to extract posture\n"
     ]
    },
    {
     "name": "stderr",
     "output_type": "stream",
     "text": [
      "460it [00:19, 22.60it/s]                                                                                               "
     ]
    },
    {
     "name": "stdout",
     "output_type": "stream",
     "text": [
      "Detected frames:  453\n"
     ]
    },
    {
     "name": "stderr",
     "output_type": "stream",
     "text": [
      "460it [00:20, 22.98it/s]\n"
     ]
    },
    {
     "name": "stdout",
     "output_type": "stream",
     "text": [
      "Saving results in F:\\videos\\ar41motor\\2022_07_29...\n",
      "Saving csv poses!\n",
      "Starting to analyze %  F:\\videos\\ar41motor\\2022_07_29\\Mask37L.avi\n",
      "F:\\videos\\ar41motor\\2022_07_29  already exists!\n",
      "Loading  F:\\videos\\ar41motor\\2022_07_29\\Mask37L.avi\n",
      "Duration of video [s]:  12.5 , recorded with  40.0 fps!\n",
      "Overall # of frames:  500  found with (before cropping) frame dimensions:  314 700\n",
      "Starting to extract posture\n"
     ]
    },
    {
     "name": "stderr",
     "output_type": "stream",
     "text": [
      "510it [00:21, 24.20it/s]                                                                                               "
     ]
    },
    {
     "name": "stdout",
     "output_type": "stream",
     "text": [
      "Detected frames:  500\n"
     ]
    },
    {
     "name": "stderr",
     "output_type": "stream",
     "text": [
      "510it [00:22, 22.96it/s]\n"
     ]
    },
    {
     "name": "stdout",
     "output_type": "stream",
     "text": [
      "Saving results in F:\\videos\\ar41motor\\2022_07_29...\n",
      "Saving csv poses!\n",
      "Starting to analyze %  F:\\videos\\ar41motor\\2022_07_29\\Mask38L.avi\n",
      "F:\\videos\\ar41motor\\2022_07_29  already exists!\n",
      "Loading  F:\\videos\\ar41motor\\2022_07_29\\Mask38L.avi\n",
      "Duration of video [s]:  12.5 , recorded with  40.0 fps!\n",
      "Overall # of frames:  500  found with (before cropping) frame dimensions:  314 700\n",
      "Starting to extract posture\n"
     ]
    },
    {
     "name": "stderr",
     "output_type": "stream",
     "text": [
      "510it [00:21, 24.42it/s]                                                                                               "
     ]
    },
    {
     "name": "stdout",
     "output_type": "stream",
     "text": [
      "Detected frames:  500\n"
     ]
    },
    {
     "name": "stderr",
     "output_type": "stream",
     "text": [
      "510it [00:22, 23.12it/s]\n"
     ]
    },
    {
     "name": "stdout",
     "output_type": "stream",
     "text": [
      "Saving results in F:\\videos\\ar41motor\\2022_07_29...\n",
      "Saving csv poses!\n",
      "Starting to analyze %  F:\\videos\\ar41motor\\2022_07_29\\Mask39LDLC_resnet152_ar30shiwkerSep13shuffle2_100000.csv\n",
      "F:\\videos\\ar41motor\\2022_07_29  already exists!\n",
      "Loading  F:\\videos\\ar41motor\\2022_07_29\\Mask39LDLC_resnet152_ar30shiwkerSep13shuffle2_100000.csv\n",
      "Starting to analyze %  F:\\videos\\ar41motor\\2022_07_29\\Mask39LDLC_resnet152_ar30shiwkerSep13shuffle2_100000.h5\n",
      "F:\\videos\\ar41motor\\2022_07_29  already exists!\n",
      "Loading  F:\\videos\\ar41motor\\2022_07_29\\Mask39LDLC_resnet152_ar30shiwkerSep13shuffle2_100000.h5\n",
      "Starting to analyze %  F:\\videos\\ar41motor\\2022_07_29\\Mask39LDLC_resnet152_ar30shiwkerSep13shuffle2_100000_meta.pickle\n",
      "F:\\videos\\ar41motor\\2022_07_29  already exists!\n",
      "Loading  F:\\videos\\ar41motor\\2022_07_29\\Mask39LDLC_resnet152_ar30shiwkerSep13shuffle2_100000_meta.pickle\n",
      "Starting to analyze %  F:\\videos\\ar41motor\\2022_07_29\\Mask3L.avi\n",
      "F:\\videos\\ar41motor\\2022_07_29  already exists!\n",
      "Loading  F:\\videos\\ar41motor\\2022_07_29\\Mask3L.avi\n",
      "Duration of video [s]:  6.8 , recorded with  40.0 fps!\n",
      "Overall # of frames:  272  found with (before cropping) frame dimensions:  314 700\n",
      "Starting to extract posture\n"
     ]
    },
    {
     "name": "stderr",
     "output_type": "stream",
     "text": [
      "280it [00:11, 24.59it/s]                                                                                               "
     ]
    },
    {
     "name": "stdout",
     "output_type": "stream",
     "text": [
      "Detected frames:  272\n"
     ]
    },
    {
     "name": "stderr",
     "output_type": "stream",
     "text": [
      "280it [00:11, 23.43it/s]\n"
     ]
    },
    {
     "name": "stdout",
     "output_type": "stream",
     "text": [
      "Saving results in F:\\videos\\ar41motor\\2022_07_29...\n",
      "Saving csv poses!\n",
      "Starting to analyze %  F:\\videos\\ar41motor\\2022_07_29\\Mask40L.avi\n",
      "F:\\videos\\ar41motor\\2022_07_29  already exists!\n",
      "Loading  F:\\videos\\ar41motor\\2022_07_29\\Mask40L.avi\n",
      "Duration of video [s]:  12.5 , recorded with  40.0 fps!\n",
      "Overall # of frames:  500  found with (before cropping) frame dimensions:  314 700\n",
      "Starting to extract posture\n"
     ]
    },
    {
     "name": "stderr",
     "output_type": "stream",
     "text": [
      "510it [00:21, 23.72it/s]                                                                                               "
     ]
    },
    {
     "name": "stdout",
     "output_type": "stream",
     "text": [
      "Detected frames:  500\n"
     ]
    },
    {
     "name": "stderr",
     "output_type": "stream",
     "text": [
      "510it [00:21, 23.35it/s]\n"
     ]
    },
    {
     "name": "stdout",
     "output_type": "stream",
     "text": [
      "Saving results in F:\\videos\\ar41motor\\2022_07_29...\n",
      "Saving csv poses!\n",
      "Starting to analyze %  F:\\videos\\ar41motor\\2022_07_29\\Mask41L.avi\n",
      "F:\\videos\\ar41motor\\2022_07_29  already exists!\n",
      "Loading  F:\\videos\\ar41motor\\2022_07_29\\Mask41L.avi\n",
      "Duration of video [s]:  11.62 , recorded with  40.0 fps!\n",
      "Overall # of frames:  465  found with (before cropping) frame dimensions:  314 700\n",
      "Starting to extract posture\n"
     ]
    },
    {
     "name": "stderr",
     "output_type": "stream",
     "text": [
      "470it [00:19, 23.56it/s]                                                                                               "
     ]
    },
    {
     "name": "stdout",
     "output_type": "stream",
     "text": [
      "Detected frames:  465\n"
     ]
    },
    {
     "name": "stderr",
     "output_type": "stream",
     "text": [
      "470it [00:20, 23.00it/s]\n"
     ]
    },
    {
     "name": "stdout",
     "output_type": "stream",
     "text": [
      "Saving results in F:\\videos\\ar41motor\\2022_07_29...\n",
      "Saving csv poses!\n",
      "Starting to analyze %  F:\\videos\\ar41motor\\2022_07_29\\Mask42L.avi\n",
      "F:\\videos\\ar41motor\\2022_07_29  already exists!\n",
      "Loading  F:\\videos\\ar41motor\\2022_07_29\\Mask42L.avi\n",
      "Duration of video [s]:  9.38 , recorded with  40.0 fps!\n",
      "Overall # of frames:  375  found with (before cropping) frame dimensions:  314 700\n",
      "Starting to extract posture\n"
     ]
    },
    {
     "name": "stderr",
     "output_type": "stream",
     "text": [
      "380it [00:16, 22.26it/s]                                                                                               "
     ]
    },
    {
     "name": "stdout",
     "output_type": "stream",
     "text": [
      "Detected frames:  375\n"
     ]
    },
    {
     "name": "stderr",
     "output_type": "stream",
     "text": [
      "380it [00:16, 23.10it/s]\n"
     ]
    },
    {
     "name": "stdout",
     "output_type": "stream",
     "text": [
      "Saving results in F:\\videos\\ar41motor\\2022_07_29...\n",
      "Saving csv poses!\n",
      "Starting to analyze %  F:\\videos\\ar41motor\\2022_07_29\\Mask43L.avi\n",
      "F:\\videos\\ar41motor\\2022_07_29  already exists!\n",
      "Loading  F:\\videos\\ar41motor\\2022_07_29\\Mask43L.avi\n",
      "Duration of video [s]:  11.95 , recorded with  40.0 fps!\n",
      "Overall # of frames:  478  found with (before cropping) frame dimensions:  314 700\n",
      "Starting to extract posture\n"
     ]
    },
    {
     "name": "stderr",
     "output_type": "stream",
     "text": [
      "480it [00:20, 25.17it/s]                                                                                               "
     ]
    },
    {
     "name": "stdout",
     "output_type": "stream",
     "text": [
      "Detected frames:  478\n"
     ]
    },
    {
     "name": "stderr",
     "output_type": "stream",
     "text": [
      "480it [00:20, 22.91it/s]\n"
     ]
    },
    {
     "name": "stdout",
     "output_type": "stream",
     "text": [
      "Saving results in F:\\videos\\ar41motor\\2022_07_29...\n",
      "Saving csv poses!\n",
      "Starting to analyze %  F:\\videos\\ar41motor\\2022_07_29\\Mask44L.avi\n",
      "F:\\videos\\ar41motor\\2022_07_29  already exists!\n",
      "Loading  F:\\videos\\ar41motor\\2022_07_29\\Mask44L.avi\n",
      "Duration of video [s]:  12.5 , recorded with  40.0 fps!\n",
      "Overall # of frames:  500  found with (before cropping) frame dimensions:  314 700\n",
      "Starting to extract posture\n"
     ]
    },
    {
     "name": "stderr",
     "output_type": "stream",
     "text": [
      "510it [00:21, 24.01it/s]                                                                                               "
     ]
    },
    {
     "name": "stdout",
     "output_type": "stream",
     "text": [
      "Detected frames:  500\n"
     ]
    },
    {
     "name": "stderr",
     "output_type": "stream",
     "text": [
      "510it [00:22, 23.15it/s]\n"
     ]
    },
    {
     "name": "stdout",
     "output_type": "stream",
     "text": [
      "Saving results in F:\\videos\\ar41motor\\2022_07_29...\n",
      "Saving csv poses!\n",
      "Starting to analyze %  F:\\videos\\ar41motor\\2022_07_29\\Mask45L.avi\n",
      "F:\\videos\\ar41motor\\2022_07_29  already exists!\n",
      "Loading  F:\\videos\\ar41motor\\2022_07_29\\Mask45L.avi\n",
      "Duration of video [s]:  12.05 , recorded with  40.0 fps!\n",
      "Overall # of frames:  482  found with (before cropping) frame dimensions:  314 700\n",
      "Starting to extract posture\n"
     ]
    },
    {
     "name": "stderr",
     "output_type": "stream",
     "text": [
      "490it [00:21, 20.60it/s]                                                                                               "
     ]
    },
    {
     "name": "stdout",
     "output_type": "stream",
     "text": [
      "Detected frames:  482\n"
     ]
    },
    {
     "name": "stderr",
     "output_type": "stream",
     "text": [
      "490it [00:21, 22.33it/s]\n"
     ]
    },
    {
     "name": "stdout",
     "output_type": "stream",
     "text": [
      "Saving results in F:\\videos\\ar41motor\\2022_07_29...\n",
      "Saving csv poses!\n",
      "Starting to analyze %  F:\\videos\\ar41motor\\2022_07_29\\Mask46L.avi\n",
      "F:\\videos\\ar41motor\\2022_07_29  already exists!\n",
      "Loading  F:\\videos\\ar41motor\\2022_07_29\\Mask46L.avi\n",
      "Duration of video [s]:  9.32 , recorded with  40.0 fps!\n",
      "Overall # of frames:  373  found with (before cropping) frame dimensions:  314 700\n",
      "Starting to extract posture\n"
     ]
    },
    {
     "name": "stderr",
     "output_type": "stream",
     "text": [
      "380it [00:16, 22.29it/s]                                                                                               "
     ]
    },
    {
     "name": "stdout",
     "output_type": "stream",
     "text": [
      "Detected frames:  373\n"
     ]
    },
    {
     "name": "stderr",
     "output_type": "stream",
     "text": [
      "380it [00:16, 23.01it/s]\n"
     ]
    },
    {
     "name": "stdout",
     "output_type": "stream",
     "text": [
      "Saving results in F:\\videos\\ar41motor\\2022_07_29...\n",
      "Saving csv poses!\n",
      "Starting to analyze %  F:\\videos\\ar41motor\\2022_07_29\\Mask47L.avi\n",
      "F:\\videos\\ar41motor\\2022_07_29  already exists!\n",
      "Loading  F:\\videos\\ar41motor\\2022_07_29\\Mask47L.avi\n",
      "Duration of video [s]:  12.32 , recorded with  40.0 fps!\n",
      "Overall # of frames:  493  found with (before cropping) frame dimensions:  314 700\n",
      "Starting to extract posture\n"
     ]
    },
    {
     "name": "stderr",
     "output_type": "stream",
     "text": [
      "500it [00:21, 21.89it/s]                                                                                               "
     ]
    },
    {
     "name": "stdout",
     "output_type": "stream",
     "text": [
      "Detected frames:  493\n"
     ]
    },
    {
     "name": "stderr",
     "output_type": "stream",
     "text": [
      "500it [00:21, 22.92it/s]\n"
     ]
    },
    {
     "name": "stdout",
     "output_type": "stream",
     "text": [
      "Saving results in F:\\videos\\ar41motor\\2022_07_29...\n",
      "Saving csv poses!\n",
      "Starting to analyze %  F:\\videos\\ar41motor\\2022_07_29\\Mask48L.avi\n",
      "F:\\videos\\ar41motor\\2022_07_29  already exists!\n",
      "Loading  F:\\videos\\ar41motor\\2022_07_29\\Mask48L.avi\n",
      "Duration of video [s]:  5.05 , recorded with  40.0 fps!\n",
      "Overall # of frames:  202  found with (before cropping) frame dimensions:  314 700\n",
      "Starting to extract posture\n"
     ]
    },
    {
     "name": "stderr",
     "output_type": "stream",
     "text": [
      "210it [00:08, 20.61it/s]                                                                                               "
     ]
    },
    {
     "name": "stdout",
     "output_type": "stream",
     "text": [
      "Detected frames:  202\n"
     ]
    },
    {
     "name": "stderr",
     "output_type": "stream",
     "text": [
      "210it [00:09, 23.19it/s]\n"
     ]
    },
    {
     "name": "stdout",
     "output_type": "stream",
     "text": [
      "Saving results in F:\\videos\\ar41motor\\2022_07_29...\n",
      "Saving csv poses!\n",
      "Starting to analyze %  F:\\videos\\ar41motor\\2022_07_29\\Mask49L.avi\n",
      "F:\\videos\\ar41motor\\2022_07_29  already exists!\n",
      "Loading  F:\\videos\\ar41motor\\2022_07_29\\Mask49L.avi\n",
      "Duration of video [s]:  2.58 , recorded with  40.0 fps!\n",
      "Overall # of frames:  103  found with (before cropping) frame dimensions:  314 700\n",
      "Starting to extract posture\n"
     ]
    },
    {
     "name": "stderr",
     "output_type": "stream",
     "text": [
      "110it [00:04, 24.62it/s]                                                                                               "
     ]
    },
    {
     "name": "stdout",
     "output_type": "stream",
     "text": [
      "Detected frames:  103\n"
     ]
    },
    {
     "name": "stderr",
     "output_type": "stream",
     "text": [
      "110it [00:04, 24.20it/s]\n"
     ]
    },
    {
     "name": "stdout",
     "output_type": "stream",
     "text": [
      "Saving results in F:\\videos\\ar41motor\\2022_07_29...\n",
      "Saving csv poses!\n",
      "Starting to analyze %  F:\\videos\\ar41motor\\2022_07_29\\Mask4L.avi\n",
      "F:\\videos\\ar41motor\\2022_07_29  already exists!\n",
      "Loading  F:\\videos\\ar41motor\\2022_07_29\\Mask4L.avi\n",
      "Duration of video [s]:  10.57 , recorded with  40.0 fps!\n",
      "Overall # of frames:  423  found with (before cropping) frame dimensions:  314 700\n",
      "Starting to extract posture\n"
     ]
    },
    {
     "name": "stderr",
     "output_type": "stream",
     "text": [
      "430it [00:18, 23.66it/s]                                                                                               "
     ]
    },
    {
     "name": "stdout",
     "output_type": "stream",
     "text": [
      "Detected frames:  423\n"
     ]
    },
    {
     "name": "stderr",
     "output_type": "stream",
     "text": [
      "430it [00:19, 22.63it/s]\n"
     ]
    },
    {
     "name": "stdout",
     "output_type": "stream",
     "text": [
      "Saving results in F:\\videos\\ar41motor\\2022_07_29...\n",
      "Saving csv poses!\n",
      "Starting to analyze %  F:\\videos\\ar41motor\\2022_07_29\\Mask50L.avi\n",
      "F:\\videos\\ar41motor\\2022_07_29  already exists!\n",
      "Loading  F:\\videos\\ar41motor\\2022_07_29\\Mask50L.avi\n",
      "Duration of video [s]:  12.4 , recorded with  40.0 fps!\n",
      "Overall # of frames:  496  found with (before cropping) frame dimensions:  314 700\n",
      "Starting to extract posture\n"
     ]
    },
    {
     "name": "stderr",
     "output_type": "stream",
     "text": [
      "500it [00:21, 22.76it/s]                                                                                               "
     ]
    },
    {
     "name": "stdout",
     "output_type": "stream",
     "text": [
      "Detected frames:  496\n"
     ]
    },
    {
     "name": "stderr",
     "output_type": "stream",
     "text": [
      "500it [00:21, 23.23it/s]\n"
     ]
    },
    {
     "name": "stdout",
     "output_type": "stream",
     "text": [
      "Saving results in F:\\videos\\ar41motor\\2022_07_29...\n",
      "Saving csv poses!\n",
      "Starting to analyze %  F:\\videos\\ar41motor\\2022_07_29\\Mask51L.avi\n",
      "F:\\videos\\ar41motor\\2022_07_29  already exists!\n",
      "Loading  F:\\videos\\ar41motor\\2022_07_29\\Mask51L.avi\n",
      "Duration of video [s]:  11.22 , recorded with  40.0 fps!\n",
      "Overall # of frames:  449  found with (before cropping) frame dimensions:  314 700\n",
      "Starting to extract posture\n"
     ]
    },
    {
     "name": "stderr",
     "output_type": "stream",
     "text": [
      "450it [00:19, 17.79it/s]                                                                                               "
     ]
    },
    {
     "name": "stdout",
     "output_type": "stream",
     "text": [
      "Detected frames:  449\n"
     ]
    },
    {
     "name": "stderr",
     "output_type": "stream",
     "text": [
      "450it [00:20, 22.05it/s]\n"
     ]
    },
    {
     "name": "stdout",
     "output_type": "stream",
     "text": [
      "Saving results in F:\\videos\\ar41motor\\2022_07_29...\n",
      "Saving csv poses!\n",
      "Starting to analyze %  F:\\videos\\ar41motor\\2022_07_29\\Mask52L.avi\n",
      "F:\\videos\\ar41motor\\2022_07_29  already exists!\n",
      "Loading  F:\\videos\\ar41motor\\2022_07_29\\Mask52L.avi\n",
      "Duration of video [s]:  11.18 , recorded with  40.0 fps!\n",
      "Overall # of frames:  447  found with (before cropping) frame dimensions:  314 700\n",
      "Starting to extract posture\n"
     ]
    },
    {
     "name": "stderr",
     "output_type": "stream",
     "text": [
      "450it [00:19, 20.59it/s]                                                                                               "
     ]
    },
    {
     "name": "stdout",
     "output_type": "stream",
     "text": [
      "Detected frames:  447\n"
     ]
    },
    {
     "name": "stderr",
     "output_type": "stream",
     "text": [
      "450it [00:19, 23.14it/s]\n"
     ]
    },
    {
     "name": "stdout",
     "output_type": "stream",
     "text": [
      "Saving results in F:\\videos\\ar41motor\\2022_07_29...\n",
      "Saving csv poses!\n",
      "Starting to analyze %  F:\\videos\\ar41motor\\2022_07_29\\Mask53L.avi\n",
      "F:\\videos\\ar41motor\\2022_07_29  already exists!\n",
      "Loading  F:\\videos\\ar41motor\\2022_07_29\\Mask53L.avi\n",
      "Duration of video [s]:  12.5 , recorded with  40.0 fps!\n",
      "Overall # of frames:  500  found with (before cropping) frame dimensions:  314 700\n",
      "Starting to extract posture\n"
     ]
    },
    {
     "name": "stderr",
     "output_type": "stream",
     "text": [
      "510it [00:21, 23.52it/s]                                                                                               "
     ]
    },
    {
     "name": "stdout",
     "output_type": "stream",
     "text": [
      "Detected frames:  500\n"
     ]
    },
    {
     "name": "stderr",
     "output_type": "stream",
     "text": [
      "510it [00:22, 22.87it/s]\n"
     ]
    },
    {
     "name": "stdout",
     "output_type": "stream",
     "text": [
      "Saving results in F:\\videos\\ar41motor\\2022_07_29...\n",
      "Saving csv poses!\n",
      "Starting to analyze %  F:\\videos\\ar41motor\\2022_07_29\\Mask54L.avi\n",
      "F:\\videos\\ar41motor\\2022_07_29  already exists!\n",
      "Loading  F:\\videos\\ar41motor\\2022_07_29\\Mask54L.avi\n",
      "Duration of video [s]:  12.15 , recorded with  40.0 fps!\n",
      "Overall # of frames:  486  found with (before cropping) frame dimensions:  314 700\n",
      "Starting to extract posture\n"
     ]
    },
    {
     "name": "stderr",
     "output_type": "stream",
     "text": [
      "490it [00:21, 20.96it/s]                                                                                               "
     ]
    },
    {
     "name": "stdout",
     "output_type": "stream",
     "text": [
      "Detected frames:  486\n"
     ]
    },
    {
     "name": "stderr",
     "output_type": "stream",
     "text": [
      "490it [00:21, 22.75it/s]\n"
     ]
    },
    {
     "name": "stdout",
     "output_type": "stream",
     "text": [
      "Saving results in F:\\videos\\ar41motor\\2022_07_29...\n",
      "Saving csv poses!\n",
      "Starting to analyze %  F:\\videos\\ar41motor\\2022_07_29\\Mask55L.avi\n",
      "F:\\videos\\ar41motor\\2022_07_29  already exists!\n",
      "Loading  F:\\videos\\ar41motor\\2022_07_29\\Mask55L.avi\n",
      "Duration of video [s]:  5.15 , recorded with  40.0 fps!\n",
      "Overall # of frames:  206  found with (before cropping) frame dimensions:  314 700\n",
      "Starting to extract posture\n"
     ]
    },
    {
     "name": "stderr",
     "output_type": "stream",
     "text": [
      "210it [00:08, 20.42it/s]                                                                                               "
     ]
    },
    {
     "name": "stdout",
     "output_type": "stream",
     "text": [
      "Detected frames:  206\n"
     ]
    },
    {
     "name": "stderr",
     "output_type": "stream",
     "text": [
      "210it [00:09, 22.78it/s]\n"
     ]
    },
    {
     "name": "stdout",
     "output_type": "stream",
     "text": [
      "Saving results in F:\\videos\\ar41motor\\2022_07_29...\n",
      "Saving csv poses!\n",
      "Starting to analyze %  F:\\videos\\ar41motor\\2022_07_29\\Mask56L.avi\n",
      "F:\\videos\\ar41motor\\2022_07_29  already exists!\n",
      "Loading  F:\\videos\\ar41motor\\2022_07_29\\Mask56L.avi\n",
      "Duration of video [s]:  12.3 , recorded with  40.0 fps!\n",
      "Overall # of frames:  492  found with (before cropping) frame dimensions:  314 700\n",
      "Starting to extract posture\n"
     ]
    },
    {
     "name": "stderr",
     "output_type": "stream",
     "text": [
      "500it [00:21, 22.60it/s]                                                                                               "
     ]
    },
    {
     "name": "stdout",
     "output_type": "stream",
     "text": [
      "Detected frames:  492\n"
     ]
    },
    {
     "name": "stderr",
     "output_type": "stream",
     "text": [
      "500it [00:21, 23.06it/s]\n"
     ]
    },
    {
     "name": "stdout",
     "output_type": "stream",
     "text": [
      "Saving results in F:\\videos\\ar41motor\\2022_07_29...\n",
      "Saving csv poses!\n",
      "Starting to analyze %  F:\\videos\\ar41motor\\2022_07_29\\Mask57L.avi\n",
      "F:\\videos\\ar41motor\\2022_07_29  already exists!\n",
      "Loading  F:\\videos\\ar41motor\\2022_07_29\\Mask57L.avi\n",
      "Duration of video [s]:  3.75 , recorded with  40.0 fps!\n",
      "Overall # of frames:  150  found with (before cropping) frame dimensions:  314 700\n",
      "Starting to extract posture\n"
     ]
    },
    {
     "name": "stderr",
     "output_type": "stream",
     "text": [
      "160it [00:06, 25.53it/s]                                                                                               "
     ]
    },
    {
     "name": "stdout",
     "output_type": "stream",
     "text": [
      "Detected frames:  150\n"
     ]
    },
    {
     "name": "stderr",
     "output_type": "stream",
     "text": [
      "160it [00:06, 24.02it/s]\n"
     ]
    },
    {
     "name": "stdout",
     "output_type": "stream",
     "text": [
      "Saving results in F:\\videos\\ar41motor\\2022_07_29...\n",
      "Saving csv poses!\n",
      "Starting to analyze %  F:\\videos\\ar41motor\\2022_07_29\\Mask58L.avi\n",
      "F:\\videos\\ar41motor\\2022_07_29  already exists!\n",
      "Loading  F:\\videos\\ar41motor\\2022_07_29\\Mask58L.avi\n",
      "Duration of video [s]:  12.5 , recorded with  40.0 fps!\n",
      "Overall # of frames:  500  found with (before cropping) frame dimensions:  314 700\n",
      "Starting to extract posture\n"
     ]
    },
    {
     "name": "stderr",
     "output_type": "stream",
     "text": [
      "510it [00:21, 24.92it/s]                                                                                               "
     ]
    },
    {
     "name": "stdout",
     "output_type": "stream",
     "text": [
      "Detected frames:  500\n"
     ]
    },
    {
     "name": "stderr",
     "output_type": "stream",
     "text": [
      "510it [00:22, 22.97it/s]\n"
     ]
    },
    {
     "name": "stdout",
     "output_type": "stream",
     "text": [
      "Saving results in F:\\videos\\ar41motor\\2022_07_29...\n",
      "Saving csv poses!\n",
      "Starting to analyze %  F:\\videos\\ar41motor\\2022_07_29\\Mask59L.avi\n",
      "F:\\videos\\ar41motor\\2022_07_29  already exists!\n",
      "Loading  F:\\videos\\ar41motor\\2022_07_29\\Mask59L.avi\n",
      "Duration of video [s]:  12.5 , recorded with  40.0 fps!\n",
      "Overall # of frames:  500  found with (before cropping) frame dimensions:  314 700\n",
      "Starting to extract posture\n"
     ]
    },
    {
     "name": "stderr",
     "output_type": "stream",
     "text": [
      "510it [00:21, 23.67it/s]                                                                                               "
     ]
    },
    {
     "name": "stdout",
     "output_type": "stream",
     "text": [
      "Detected frames:  500\n"
     ]
    },
    {
     "name": "stderr",
     "output_type": "stream",
     "text": [
      "510it [00:22, 23.01it/s]\n"
     ]
    },
    {
     "name": "stdout",
     "output_type": "stream",
     "text": [
      "Saving results in F:\\videos\\ar41motor\\2022_07_29...\n",
      "Saving csv poses!\n",
      "Starting to analyze %  F:\\videos\\ar41motor\\2022_07_29\\Mask5L.avi\n",
      "F:\\videos\\ar41motor\\2022_07_29  already exists!\n",
      "Loading  F:\\videos\\ar41motor\\2022_07_29\\Mask5L.avi\n",
      "Duration of video [s]:  12.5 , recorded with  40.0 fps!\n",
      "Overall # of frames:  500  found with (before cropping) frame dimensions:  314 700\n",
      "Starting to extract posture\n"
     ]
    },
    {
     "name": "stderr",
     "output_type": "stream",
     "text": [
      "510it [00:21, 23.86it/s]                                                                                               "
     ]
    },
    {
     "name": "stdout",
     "output_type": "stream",
     "text": [
      "Detected frames:  500\n"
     ]
    },
    {
     "name": "stderr",
     "output_type": "stream",
     "text": [
      "510it [00:22, 23.13it/s]\n"
     ]
    },
    {
     "name": "stdout",
     "output_type": "stream",
     "text": [
      "Saving results in F:\\videos\\ar41motor\\2022_07_29...\n",
      "Saving csv poses!\n",
      "Starting to analyze %  F:\\videos\\ar41motor\\2022_07_29\\Mask60L.avi\n",
      "F:\\videos\\ar41motor\\2022_07_29  already exists!\n",
      "Loading  F:\\videos\\ar41motor\\2022_07_29\\Mask60L.avi\n",
      "Duration of video [s]:  12.18 , recorded with  40.0 fps!\n",
      "Overall # of frames:  487  found with (before cropping) frame dimensions:  314 700\n",
      "Starting to extract posture\n"
     ]
    },
    {
     "name": "stderr",
     "output_type": "stream",
     "text": [
      "490it [00:21, 20.58it/s]                                                                                               "
     ]
    },
    {
     "name": "stdout",
     "output_type": "stream",
     "text": [
      "Detected frames:  487\n"
     ]
    },
    {
     "name": "stderr",
     "output_type": "stream",
     "text": [
      "490it [00:21, 22.91it/s]\n"
     ]
    },
    {
     "name": "stdout",
     "output_type": "stream",
     "text": [
      "Saving results in F:\\videos\\ar41motor\\2022_07_29...\n",
      "Saving csv poses!\n",
      "Starting to analyze %  F:\\videos\\ar41motor\\2022_07_29\\Mask61L.avi\n",
      "F:\\videos\\ar41motor\\2022_07_29  already exists!\n",
      "Loading  F:\\videos\\ar41motor\\2022_07_29\\Mask61L.avi\n",
      "Duration of video [s]:  12.5 , recorded with  40.0 fps!\n",
      "Overall # of frames:  500  found with (before cropping) frame dimensions:  314 700\n",
      "Starting to extract posture\n"
     ]
    },
    {
     "name": "stderr",
     "output_type": "stream",
     "text": [
      "510it [00:21, 24.01it/s]                                                                                               "
     ]
    },
    {
     "name": "stdout",
     "output_type": "stream",
     "text": [
      "Detected frames:  500\n"
     ]
    },
    {
     "name": "stderr",
     "output_type": "stream",
     "text": [
      "510it [00:22, 22.93it/s]\n"
     ]
    },
    {
     "name": "stdout",
     "output_type": "stream",
     "text": [
      "Saving results in F:\\videos\\ar41motor\\2022_07_29...\n",
      "Saving csv poses!\n",
      "Starting to analyze %  F:\\videos\\ar41motor\\2022_07_29\\Mask62L.avi\n",
      "F:\\videos\\ar41motor\\2022_07_29  already exists!\n",
      "Loading  F:\\videos\\ar41motor\\2022_07_29\\Mask62L.avi\n",
      "Duration of video [s]:  12.5 , recorded with  40.0 fps!\n",
      "Overall # of frames:  500  found with (before cropping) frame dimensions:  314 700\n",
      "Starting to extract posture\n"
     ]
    },
    {
     "name": "stderr",
     "output_type": "stream",
     "text": [
      "510it [00:21, 23.30it/s]                                                                                               "
     ]
    },
    {
     "name": "stdout",
     "output_type": "stream",
     "text": [
      "Detected frames:  500\n"
     ]
    },
    {
     "name": "stderr",
     "output_type": "stream",
     "text": [
      "510it [00:22, 22.93it/s]\n"
     ]
    },
    {
     "name": "stdout",
     "output_type": "stream",
     "text": [
      "Saving results in F:\\videos\\ar41motor\\2022_07_29...\n",
      "Saving csv poses!\n",
      "Starting to analyze %  F:\\videos\\ar41motor\\2022_07_29\\Mask63L.avi\n",
      "F:\\videos\\ar41motor\\2022_07_29  already exists!\n",
      "Loading  F:\\videos\\ar41motor\\2022_07_29\\Mask63L.avi\n",
      "Duration of video [s]:  12.5 , recorded with  40.0 fps!\n",
      "Overall # of frames:  500  found with (before cropping) frame dimensions:  314 700\n",
      "Starting to extract posture\n"
     ]
    },
    {
     "name": "stderr",
     "output_type": "stream",
     "text": [
      "510it [00:22, 19.33it/s]                                                                                               "
     ]
    },
    {
     "name": "stdout",
     "output_type": "stream",
     "text": [
      "Detected frames:  500\n"
     ]
    },
    {
     "name": "stderr",
     "output_type": "stream",
     "text": [
      "510it [00:22, 22.47it/s]\n"
     ]
    },
    {
     "name": "stdout",
     "output_type": "stream",
     "text": [
      "Saving results in F:\\videos\\ar41motor\\2022_07_29...\n",
      "Saving csv poses!\n",
      "Starting to analyze %  F:\\videos\\ar41motor\\2022_07_29\\Mask64L.avi\n",
      "F:\\videos\\ar41motor\\2022_07_29  already exists!\n",
      "Loading  F:\\videos\\ar41motor\\2022_07_29\\Mask64L.avi\n",
      "Duration of video [s]:  10.85 , recorded with  40.0 fps!\n",
      "Overall # of frames:  434  found with (before cropping) frame dimensions:  314 700\n",
      "Starting to extract posture\n"
     ]
    },
    {
     "name": "stderr",
     "output_type": "stream",
     "text": [
      "440it [00:18, 24.88it/s]                                                                                               "
     ]
    },
    {
     "name": "stdout",
     "output_type": "stream",
     "text": [
      "Detected frames:  434\n"
     ]
    },
    {
     "name": "stderr",
     "output_type": "stream",
     "text": [
      "440it [00:19, 22.92it/s]\n"
     ]
    },
    {
     "name": "stdout",
     "output_type": "stream",
     "text": [
      "Saving results in F:\\videos\\ar41motor\\2022_07_29...\n",
      "Saving csv poses!\n",
      "Starting to analyze %  F:\\videos\\ar41motor\\2022_07_29\\Mask65L.avi\n",
      "F:\\videos\\ar41motor\\2022_07_29  already exists!\n",
      "Loading  F:\\videos\\ar41motor\\2022_07_29\\Mask65L.avi\n",
      "Duration of video [s]:  12.35 , recorded with  40.0 fps!\n",
      "Overall # of frames:  494  found with (before cropping) frame dimensions:  314 700\n",
      "Starting to extract posture\n"
     ]
    },
    {
     "name": "stderr",
     "output_type": "stream",
     "text": [
      "500it [00:21, 22.48it/s]                                                                                               "
     ]
    },
    {
     "name": "stdout",
     "output_type": "stream",
     "text": [
      "Detected frames:  494\n"
     ]
    },
    {
     "name": "stderr",
     "output_type": "stream",
     "text": [
      "500it [00:21, 23.15it/s]\n"
     ]
    },
    {
     "name": "stdout",
     "output_type": "stream",
     "text": [
      "Saving results in F:\\videos\\ar41motor\\2022_07_29...\n",
      "Saving csv poses!\n",
      "Starting to analyze %  F:\\videos\\ar41motor\\2022_07_29\\Mask66L.avi\n",
      "F:\\videos\\ar41motor\\2022_07_29  already exists!\n",
      "Loading  F:\\videos\\ar41motor\\2022_07_29\\Mask66L.avi\n",
      "Duration of video [s]:  12.5 , recorded with  40.0 fps!\n",
      "Overall # of frames:  500  found with (before cropping) frame dimensions:  314 700\n",
      "Starting to extract posture\n"
     ]
    },
    {
     "name": "stderr",
     "output_type": "stream",
     "text": [
      "510it [00:21, 23.24it/s]                                                                                               "
     ]
    },
    {
     "name": "stdout",
     "output_type": "stream",
     "text": [
      "Detected frames:  500\n"
     ]
    },
    {
     "name": "stderr",
     "output_type": "stream",
     "text": [
      "510it [00:22, 23.07it/s]\n"
     ]
    },
    {
     "name": "stdout",
     "output_type": "stream",
     "text": [
      "Saving results in F:\\videos\\ar41motor\\2022_07_29...\n",
      "Saving csv poses!\n",
      "Starting to analyze %  F:\\videos\\ar41motor\\2022_07_29\\Mask67L.avi\n",
      "F:\\videos\\ar41motor\\2022_07_29  already exists!\n",
      "Loading  F:\\videos\\ar41motor\\2022_07_29\\Mask67L.avi\n",
      "Duration of video [s]:  11.95 , recorded with  40.0 fps!\n",
      "Overall # of frames:  478  found with (before cropping) frame dimensions:  314 700\n",
      "Starting to extract posture\n"
     ]
    },
    {
     "name": "stderr",
     "output_type": "stream",
     "text": [
      "480it [00:20, 25.72it/s]                                                                                               "
     ]
    },
    {
     "name": "stdout",
     "output_type": "stream",
     "text": [
      "Detected frames:  478\n"
     ]
    },
    {
     "name": "stderr",
     "output_type": "stream",
     "text": [
      "480it [00:20, 22.86it/s]\n"
     ]
    },
    {
     "name": "stdout",
     "output_type": "stream",
     "text": [
      "Saving results in F:\\videos\\ar41motor\\2022_07_29...\n",
      "Saving csv poses!\n",
      "Starting to analyze %  F:\\videos\\ar41motor\\2022_07_29\\Mask68L.avi\n",
      "F:\\videos\\ar41motor\\2022_07_29  already exists!\n",
      "Loading  F:\\videos\\ar41motor\\2022_07_29\\Mask68L.avi\n",
      "Duration of video [s]:  12.5 , recorded with  40.0 fps!\n",
      "Overall # of frames:  500  found with (before cropping) frame dimensions:  314 700\n",
      "Starting to extract posture\n"
     ]
    },
    {
     "name": "stderr",
     "output_type": "stream",
     "text": [
      "510it [00:22, 23.37it/s]                                                                                               "
     ]
    },
    {
     "name": "stdout",
     "output_type": "stream",
     "text": [
      "Detected frames:  500\n"
     ]
    },
    {
     "name": "stderr",
     "output_type": "stream",
     "text": [
      "510it [00:22, 22.41it/s]\n"
     ]
    },
    {
     "name": "stdout",
     "output_type": "stream",
     "text": [
      "Saving results in F:\\videos\\ar41motor\\2022_07_29...\n",
      "Saving csv poses!\n",
      "Starting to analyze %  F:\\videos\\ar41motor\\2022_07_29\\Mask69L.avi\n",
      "F:\\videos\\ar41motor\\2022_07_29  already exists!\n",
      "Loading  F:\\videos\\ar41motor\\2022_07_29\\Mask69L.avi\n",
      "Duration of video [s]:  12.5 , recorded with  40.0 fps!\n",
      "Overall # of frames:  500  found with (before cropping) frame dimensions:  314 700\n",
      "Starting to extract posture\n"
     ]
    },
    {
     "name": "stderr",
     "output_type": "stream",
     "text": [
      "510it [00:21, 23.48it/s]                                                                                               "
     ]
    },
    {
     "name": "stdout",
     "output_type": "stream",
     "text": [
      "Detected frames:  500\n"
     ]
    },
    {
     "name": "stderr",
     "output_type": "stream",
     "text": [
      "510it [00:22, 23.12it/s]\n"
     ]
    },
    {
     "name": "stdout",
     "output_type": "stream",
     "text": [
      "Saving results in F:\\videos\\ar41motor\\2022_07_29...\n",
      "Saving csv poses!\n",
      "Starting to analyze %  F:\\videos\\ar41motor\\2022_07_29\\Mask6L.avi\n",
      "F:\\videos\\ar41motor\\2022_07_29  already exists!\n",
      "Loading  F:\\videos\\ar41motor\\2022_07_29\\Mask6L.avi\n",
      "Duration of video [s]:  10.78 , recorded with  40.0 fps!\n",
      "Overall # of frames:  431  found with (before cropping) frame dimensions:  314 700\n",
      "Starting to extract posture\n"
     ]
    },
    {
     "name": "stderr",
     "output_type": "stream",
     "text": [
      "440it [00:18, 24.62it/s]                                                                                               "
     ]
    },
    {
     "name": "stdout",
     "output_type": "stream",
     "text": [
      "Detected frames:  431\n"
     ]
    },
    {
     "name": "stderr",
     "output_type": "stream",
     "text": [
      "440it [00:19, 22.86it/s]\n"
     ]
    },
    {
     "name": "stdout",
     "output_type": "stream",
     "text": [
      "Saving results in F:\\videos\\ar41motor\\2022_07_29...\n",
      "Saving csv poses!\n",
      "Starting to analyze %  F:\\videos\\ar41motor\\2022_07_29\\Mask70L.avi\n",
      "F:\\videos\\ar41motor\\2022_07_29  already exists!\n",
      "Loading  F:\\videos\\ar41motor\\2022_07_29\\Mask70L.avi\n",
      "Duration of video [s]:  10.28 , recorded with  40.0 fps!\n",
      "Overall # of frames:  411  found with (before cropping) frame dimensions:  314 700\n",
      "Starting to extract posture\n"
     ]
    },
    {
     "name": "stderr",
     "output_type": "stream",
     "text": [
      "420it [00:17, 22.07it/s]                                                                                               "
     ]
    },
    {
     "name": "stdout",
     "output_type": "stream",
     "text": [
      "Detected frames:  411\n"
     ]
    },
    {
     "name": "stderr",
     "output_type": "stream",
     "text": [
      "420it [00:18, 22.91it/s]\n"
     ]
    },
    {
     "name": "stdout",
     "output_type": "stream",
     "text": [
      "Saving results in F:\\videos\\ar41motor\\2022_07_29...\n",
      "Saving csv poses!\n",
      "Starting to analyze %  F:\\videos\\ar41motor\\2022_07_29\\Mask71L.avi\n",
      "F:\\videos\\ar41motor\\2022_07_29  already exists!\n",
      "Loading  F:\\videos\\ar41motor\\2022_07_29\\Mask71L.avi\n",
      "Duration of video [s]:  12.5 , recorded with  40.0 fps!\n",
      "Overall # of frames:  500  found with (before cropping) frame dimensions:  314 700\n",
      "Starting to extract posture\n"
     ]
    },
    {
     "name": "stderr",
     "output_type": "stream",
     "text": [
      "510it [00:21, 24.07it/s]                                                                                               "
     ]
    },
    {
     "name": "stdout",
     "output_type": "stream",
     "text": [
      "Detected frames:  500\n"
     ]
    },
    {
     "name": "stderr",
     "output_type": "stream",
     "text": [
      "510it [00:22, 22.81it/s]\n"
     ]
    },
    {
     "name": "stdout",
     "output_type": "stream",
     "text": [
      "Saving results in F:\\videos\\ar41motor\\2022_07_29...\n",
      "Saving csv poses!\n",
      "Starting to analyze %  F:\\videos\\ar41motor\\2022_07_29\\Mask72L.avi\n",
      "F:\\videos\\ar41motor\\2022_07_29  already exists!\n",
      "Loading  F:\\videos\\ar41motor\\2022_07_29\\Mask72L.avi\n",
      "Duration of video [s]:  11.75 , recorded with  40.0 fps!\n",
      "Overall # of frames:  470  found with (before cropping) frame dimensions:  314 700\n",
      "Starting to extract posture\n"
     ]
    },
    {
     "name": "stderr",
     "output_type": "stream",
     "text": [
      "480it [00:20, 25.03it/s]                                                                                               "
     ]
    },
    {
     "name": "stdout",
     "output_type": "stream",
     "text": [
      "Detected frames:  470\n"
     ]
    },
    {
     "name": "stderr",
     "output_type": "stream",
     "text": [
      "480it [00:20, 23.43it/s]\n"
     ]
    },
    {
     "name": "stdout",
     "output_type": "stream",
     "text": [
      "Saving results in F:\\videos\\ar41motor\\2022_07_29...\n",
      "Saving csv poses!\n",
      "Starting to analyze %  F:\\videos\\ar41motor\\2022_07_29\\Mask73L.avi\n",
      "F:\\videos\\ar41motor\\2022_07_29  already exists!\n",
      "Loading  F:\\videos\\ar41motor\\2022_07_29\\Mask73L.avi\n",
      "Duration of video [s]:  11.68 , recorded with  40.0 fps!\n",
      "Overall # of frames:  467  found with (before cropping) frame dimensions:  314 700\n",
      "Starting to extract posture\n"
     ]
    },
    {
     "name": "stderr",
     "output_type": "stream",
     "text": [
      "470it [00:20, 21.78it/s]                                                                                               "
     ]
    },
    {
     "name": "stdout",
     "output_type": "stream",
     "text": [
      "Detected frames:  467\n"
     ]
    },
    {
     "name": "stderr",
     "output_type": "stream",
     "text": [
      "470it [00:21, 21.77it/s]\n"
     ]
    },
    {
     "name": "stdout",
     "output_type": "stream",
     "text": [
      "Saving results in F:\\videos\\ar41motor\\2022_07_29...\n",
      "Saving csv poses!\n",
      "Starting to analyze %  F:\\videos\\ar41motor\\2022_07_29\\Mask74L.avi\n",
      "F:\\videos\\ar41motor\\2022_07_29  already exists!\n",
      "Loading  F:\\videos\\ar41motor\\2022_07_29\\Mask74L.avi\n",
      "Duration of video [s]:  12.25 , recorded with  40.0 fps!\n",
      "Overall # of frames:  490  found with (before cropping) frame dimensions:  314 700\n",
      "Starting to extract posture\n"
     ]
    },
    {
     "name": "stderr",
     "output_type": "stream",
     "text": [
      "500it [00:21, 22.80it/s]                                                                                               "
     ]
    },
    {
     "name": "stdout",
     "output_type": "stream",
     "text": [
      "Detected frames:  490\n"
     ]
    },
    {
     "name": "stderr",
     "output_type": "stream",
     "text": [
      "500it [00:21, 22.74it/s]\n"
     ]
    },
    {
     "name": "stdout",
     "output_type": "stream",
     "text": [
      "Saving results in F:\\videos\\ar41motor\\2022_07_29...\n",
      "Saving csv poses!\n",
      "Starting to analyze %  F:\\videos\\ar41motor\\2022_07_29\\Mask75L.avi\n",
      "F:\\videos\\ar41motor\\2022_07_29  already exists!\n",
      "Loading  F:\\videos\\ar41motor\\2022_07_29\\Mask75L.avi\n",
      "Duration of video [s]:  8.7 , recorded with  40.0 fps!\n",
      "Overall # of frames:  348  found with (before cropping) frame dimensions:  314 700\n",
      "Starting to extract posture\n"
     ]
    },
    {
     "name": "stderr",
     "output_type": "stream",
     "text": [
      "350it [00:14, 24.18it/s]                                                                                               "
     ]
    },
    {
     "name": "stdout",
     "output_type": "stream",
     "text": [
      "Detected frames:  348\n"
     ]
    },
    {
     "name": "stderr",
     "output_type": "stream",
     "text": [
      "350it [00:15, 22.38it/s]\n"
     ]
    },
    {
     "name": "stdout",
     "output_type": "stream",
     "text": [
      "Saving results in F:\\videos\\ar41motor\\2022_07_29...\n",
      "Saving csv poses!\n",
      "Starting to analyze %  F:\\videos\\ar41motor\\2022_07_29\\Mask76L.avi\n",
      "F:\\videos\\ar41motor\\2022_07_29  already exists!\n",
      "Loading  F:\\videos\\ar41motor\\2022_07_29\\Mask76L.avi\n",
      "Duration of video [s]:  12.5 , recorded with  40.0 fps!\n",
      "Overall # of frames:  500  found with (before cropping) frame dimensions:  314 700\n",
      "Starting to extract posture\n"
     ]
    },
    {
     "name": "stderr",
     "output_type": "stream",
     "text": [
      "510it [00:21, 23.68it/s]                                                                                               "
     ]
    },
    {
     "name": "stdout",
     "output_type": "stream",
     "text": [
      "Detected frames:  500\n"
     ]
    },
    {
     "name": "stderr",
     "output_type": "stream",
     "text": [
      "510it [00:22, 22.97it/s]\n"
     ]
    },
    {
     "name": "stdout",
     "output_type": "stream",
     "text": [
      "Saving results in F:\\videos\\ar41motor\\2022_07_29...\n",
      "Saving csv poses!\n",
      "Starting to analyze %  F:\\videos\\ar41motor\\2022_07_29\\Mask77L.avi\n",
      "F:\\videos\\ar41motor\\2022_07_29  already exists!\n",
      "Loading  F:\\videos\\ar41motor\\2022_07_29\\Mask77L.avi\n",
      "Duration of video [s]:  12.38 , recorded with  40.0 fps!\n",
      "Overall # of frames:  495  found with (before cropping) frame dimensions:  314 700\n",
      "Starting to extract posture\n"
     ]
    },
    {
     "name": "stderr",
     "output_type": "stream",
     "text": [
      "500it [00:21, 22.66it/s]                                                                                               "
     ]
    },
    {
     "name": "stdout",
     "output_type": "stream",
     "text": [
      "Detected frames:  495\n"
     ]
    },
    {
     "name": "stderr",
     "output_type": "stream",
     "text": [
      "500it [00:21, 22.95it/s]\n"
     ]
    },
    {
     "name": "stdout",
     "output_type": "stream",
     "text": [
      "Saving results in F:\\videos\\ar41motor\\2022_07_29...\n",
      "Saving csv poses!\n",
      "Starting to analyze %  F:\\videos\\ar41motor\\2022_07_29\\Mask78L.avi\n",
      "F:\\videos\\ar41motor\\2022_07_29  already exists!\n",
      "Loading  F:\\videos\\ar41motor\\2022_07_29\\Mask78L.avi\n",
      "Duration of video [s]:  12.5 , recorded with  40.0 fps!\n",
      "Overall # of frames:  500  found with (before cropping) frame dimensions:  314 700\n",
      "Starting to extract posture\n"
     ]
    },
    {
     "name": "stderr",
     "output_type": "stream",
     "text": [
      "510it [00:21, 23.84it/s]                                                                                               "
     ]
    },
    {
     "name": "stdout",
     "output_type": "stream",
     "text": [
      "Detected frames:  500\n"
     ]
    },
    {
     "name": "stderr",
     "output_type": "stream",
     "text": [
      "510it [00:22, 22.81it/s]\n"
     ]
    },
    {
     "name": "stdout",
     "output_type": "stream",
     "text": [
      "Saving results in F:\\videos\\ar41motor\\2022_07_29...\n",
      "Saving csv poses!\n",
      "Starting to analyze %  F:\\videos\\ar41motor\\2022_07_29\\Mask79L.avi\n",
      "F:\\videos\\ar41motor\\2022_07_29  already exists!\n",
      "Loading  F:\\videos\\ar41motor\\2022_07_29\\Mask79L.avi\n",
      "Duration of video [s]:  11.55 , recorded with  40.0 fps!\n",
      "Overall # of frames:  462  found with (before cropping) frame dimensions:  314 700\n",
      "Starting to extract posture\n"
     ]
    },
    {
     "name": "stderr",
     "output_type": "stream",
     "text": [
      "470it [00:20, 23.31it/s]                                                                                               "
     ]
    },
    {
     "name": "stdout",
     "output_type": "stream",
     "text": [
      "Detected frames:  462\n"
     ]
    },
    {
     "name": "stderr",
     "output_type": "stream",
     "text": [
      "470it [00:20, 22.81it/s]\n"
     ]
    },
    {
     "name": "stdout",
     "output_type": "stream",
     "text": [
      "Saving results in F:\\videos\\ar41motor\\2022_07_29...\n",
      "Saving csv poses!\n",
      "Starting to analyze %  F:\\videos\\ar41motor\\2022_07_29\\Mask7L.avi\n",
      "F:\\videos\\ar41motor\\2022_07_29  already exists!\n",
      "Loading  F:\\videos\\ar41motor\\2022_07_29\\Mask7L.avi\n",
      "Duration of video [s]:  11.3 , recorded with  40.0 fps!\n",
      "Overall # of frames:  452  found with (before cropping) frame dimensions:  314 700\n",
      "Starting to extract posture\n"
     ]
    },
    {
     "name": "stderr",
     "output_type": "stream",
     "text": [
      "460it [00:19, 22.37it/s]                                                                                               "
     ]
    },
    {
     "name": "stdout",
     "output_type": "stream",
     "text": [
      "Detected frames:  452\n"
     ]
    },
    {
     "name": "stderr",
     "output_type": "stream",
     "text": [
      "460it [00:20, 22.95it/s]\n"
     ]
    },
    {
     "name": "stdout",
     "output_type": "stream",
     "text": [
      "Saving results in F:\\videos\\ar41motor\\2022_07_29...\n",
      "Saving csv poses!\n",
      "Starting to analyze %  F:\\videos\\ar41motor\\2022_07_29\\Mask80L.avi\n",
      "F:\\videos\\ar41motor\\2022_07_29  already exists!\n",
      "Loading  F:\\videos\\ar41motor\\2022_07_29\\Mask80L.avi\n",
      "Duration of video [s]:  12.45 , recorded with  40.0 fps!\n",
      "Overall # of frames:  498  found with (before cropping) frame dimensions:  314 700\n",
      "Starting to extract posture\n"
     ]
    },
    {
     "name": "stderr",
     "output_type": "stream",
     "text": [
      "500it [00:21, 21.73it/s]                                                                                               "
     ]
    },
    {
     "name": "stdout",
     "output_type": "stream",
     "text": [
      "Detected frames:  498\n"
     ]
    },
    {
     "name": "stderr",
     "output_type": "stream",
     "text": [
      "500it [00:22, 22.61it/s]\n"
     ]
    },
    {
     "name": "stdout",
     "output_type": "stream",
     "text": [
      "Saving results in F:\\videos\\ar41motor\\2022_07_29...\n",
      "Saving csv poses!\n",
      "Starting to analyze %  F:\\videos\\ar41motor\\2022_07_29\\Mask81L.avi\n",
      "F:\\videos\\ar41motor\\2022_07_29  already exists!\n",
      "Loading  F:\\videos\\ar41motor\\2022_07_29\\Mask81L.avi\n",
      "Duration of video [s]:  12.5 , recorded with  40.0 fps!\n",
      "Overall # of frames:  500  found with (before cropping) frame dimensions:  314 700\n",
      "Starting to extract posture\n"
     ]
    },
    {
     "name": "stderr",
     "output_type": "stream",
     "text": [
      "510it [00:21, 23.77it/s]                                                                                               "
     ]
    },
    {
     "name": "stdout",
     "output_type": "stream",
     "text": [
      "Detected frames:  500\n"
     ]
    },
    {
     "name": "stderr",
     "output_type": "stream",
     "text": [
      "510it [00:22, 23.05it/s]\n"
     ]
    },
    {
     "name": "stdout",
     "output_type": "stream",
     "text": [
      "Saving results in F:\\videos\\ar41motor\\2022_07_29...\n",
      "Saving csv poses!\n",
      "Starting to analyze %  F:\\videos\\ar41motor\\2022_07_29\\Mask82L.avi\n",
      "F:\\videos\\ar41motor\\2022_07_29  already exists!\n",
      "Loading  F:\\videos\\ar41motor\\2022_07_29\\Mask82L.avi\n",
      "Duration of video [s]:  8.9 , recorded with  40.0 fps!\n",
      "Overall # of frames:  356  found with (before cropping) frame dimensions:  314 700\n",
      "Starting to extract posture\n"
     ]
    },
    {
     "name": "stderr",
     "output_type": "stream",
     "text": [
      "360it [00:15, 24.59it/s]                                                                                               "
     ]
    },
    {
     "name": "stdout",
     "output_type": "stream",
     "text": [
      "Detected frames:  356\n"
     ]
    },
    {
     "name": "stderr",
     "output_type": "stream",
     "text": [
      "360it [00:15, 22.58it/s]\n"
     ]
    },
    {
     "name": "stdout",
     "output_type": "stream",
     "text": [
      "Saving results in F:\\videos\\ar41motor\\2022_07_29...\n",
      "Saving csv poses!\n",
      "Starting to analyze %  F:\\videos\\ar41motor\\2022_07_29\\Mask83L.avi\n",
      "F:\\videos\\ar41motor\\2022_07_29  already exists!\n",
      "Loading  F:\\videos\\ar41motor\\2022_07_29\\Mask83L.avi\n",
      "Duration of video [s]:  12.45 , recorded with  40.0 fps!\n",
      "Overall # of frames:  498  found with (before cropping) frame dimensions:  314 700\n",
      "Starting to extract posture\n"
     ]
    },
    {
     "name": "stderr",
     "output_type": "stream",
     "text": [
      "500it [00:21, 22.58it/s]                                                                                               "
     ]
    },
    {
     "name": "stdout",
     "output_type": "stream",
     "text": [
      "Detected frames:  498\n"
     ]
    },
    {
     "name": "stderr",
     "output_type": "stream",
     "text": [
      "500it [00:22, 22.49it/s]\n"
     ]
    },
    {
     "name": "stdout",
     "output_type": "stream",
     "text": [
      "Saving results in F:\\videos\\ar41motor\\2022_07_29...\n",
      "Saving csv poses!\n",
      "Starting to analyze %  F:\\videos\\ar41motor\\2022_07_29\\Mask84L.avi\n",
      "F:\\videos\\ar41motor\\2022_07_29  already exists!\n",
      "Loading  F:\\videos\\ar41motor\\2022_07_29\\Mask84L.avi\n",
      "Duration of video [s]:  6.05 , recorded with  40.0 fps!\n",
      "Overall # of frames:  242  found with (before cropping) frame dimensions:  314 700\n",
      "Starting to extract posture\n"
     ]
    },
    {
     "name": "stderr",
     "output_type": "stream",
     "text": [
      "250it [00:10, 20.92it/s]                                                                                               "
     ]
    },
    {
     "name": "stdout",
     "output_type": "stream",
     "text": [
      "Detected frames:  242\n"
     ]
    },
    {
     "name": "stderr",
     "output_type": "stream",
     "text": [
      "250it [00:11, 22.57it/s]\n"
     ]
    },
    {
     "name": "stdout",
     "output_type": "stream",
     "text": [
      "Saving results in F:\\videos\\ar41motor\\2022_07_29...\n",
      "Saving csv poses!\n",
      "Starting to analyze %  F:\\videos\\ar41motor\\2022_07_29\\Mask85L.avi\n",
      "F:\\videos\\ar41motor\\2022_07_29  already exists!\n",
      "Loading  F:\\videos\\ar41motor\\2022_07_29\\Mask85L.avi\n",
      "Duration of video [s]:  12.45 , recorded with  40.0 fps!\n",
      "Overall # of frames:  498  found with (before cropping) frame dimensions:  314 700\n",
      "Starting to extract posture\n"
     ]
    },
    {
     "name": "stderr",
     "output_type": "stream",
     "text": [
      "500it [00:21, 21.69it/s]                                                                                               "
     ]
    },
    {
     "name": "stdout",
     "output_type": "stream",
     "text": [
      "Detected frames:  498\n"
     ]
    },
    {
     "name": "stderr",
     "output_type": "stream",
     "text": [
      "500it [00:22, 22.21it/s]\n"
     ]
    },
    {
     "name": "stdout",
     "output_type": "stream",
     "text": [
      "Saving results in F:\\videos\\ar41motor\\2022_07_29...\n",
      "Saving csv poses!\n",
      "Starting to analyze %  F:\\videos\\ar41motor\\2022_07_29\\Mask86L.avi\n",
      "F:\\videos\\ar41motor\\2022_07_29  already exists!\n",
      "Loading  F:\\videos\\ar41motor\\2022_07_29\\Mask86L.avi\n",
      "Duration of video [s]:  12.3 , recorded with  40.0 fps!\n",
      "Overall # of frames:  492  found with (before cropping) frame dimensions:  314 700\n",
      "Starting to extract posture\n"
     ]
    },
    {
     "name": "stderr",
     "output_type": "stream",
     "text": [
      "500it [00:21, 22.82it/s]                                                                                               "
     ]
    },
    {
     "name": "stdout",
     "output_type": "stream",
     "text": [
      "Detected frames:  492\n"
     ]
    },
    {
     "name": "stderr",
     "output_type": "stream",
     "text": [
      "500it [00:22, 22.70it/s]\n"
     ]
    },
    {
     "name": "stdout",
     "output_type": "stream",
     "text": [
      "Saving results in F:\\videos\\ar41motor\\2022_07_29...\n",
      "Saving csv poses!\n",
      "Starting to analyze %  F:\\videos\\ar41motor\\2022_07_29\\Mask87L.avi\n",
      "F:\\videos\\ar41motor\\2022_07_29  already exists!\n",
      "Loading  F:\\videos\\ar41motor\\2022_07_29\\Mask87L.avi\n",
      "Duration of video [s]:  12.45 , recorded with  40.0 fps!\n",
      "Overall # of frames:  498  found with (before cropping) frame dimensions:  314 700\n",
      "Starting to extract posture\n"
     ]
    },
    {
     "name": "stderr",
     "output_type": "stream",
     "text": [
      "500it [00:21, 22.88it/s]                                                                                               "
     ]
    },
    {
     "name": "stdout",
     "output_type": "stream",
     "text": [
      "Detected frames:  498\n"
     ]
    },
    {
     "name": "stderr",
     "output_type": "stream",
     "text": [
      "500it [00:22, 22.15it/s]\n"
     ]
    },
    {
     "name": "stdout",
     "output_type": "stream",
     "text": [
      "Saving results in F:\\videos\\ar41motor\\2022_07_29...\n",
      "Saving csv poses!\n",
      "Starting to analyze %  F:\\videos\\ar41motor\\2022_07_29\\Mask88L.avi\n",
      "F:\\videos\\ar41motor\\2022_07_29  already exists!\n",
      "Loading  F:\\videos\\ar41motor\\2022_07_29\\Mask88L.avi\n",
      "Duration of video [s]:  11.55 , recorded with  40.0 fps!\n",
      "Overall # of frames:  462  found with (before cropping) frame dimensions:  314 700\n",
      "Starting to extract posture\n"
     ]
    },
    {
     "name": "stderr",
     "output_type": "stream",
     "text": [
      "470it [00:20, 23.22it/s]                                                                                               "
     ]
    },
    {
     "name": "stdout",
     "output_type": "stream",
     "text": [
      "Detected frames:  462\n"
     ]
    },
    {
     "name": "stderr",
     "output_type": "stream",
     "text": [
      "470it [00:20, 22.75it/s]\n"
     ]
    },
    {
     "name": "stdout",
     "output_type": "stream",
     "text": [
      "Saving results in F:\\videos\\ar41motor\\2022_07_29...\n",
      "Saving csv poses!\n",
      "Starting to analyze %  F:\\videos\\ar41motor\\2022_07_29\\Mask89L.avi\n",
      "F:\\videos\\ar41motor\\2022_07_29  already exists!\n",
      "Loading  F:\\videos\\ar41motor\\2022_07_29\\Mask89L.avi\n",
      "Duration of video [s]:  12.43 , recorded with  40.0 fps!\n",
      "Overall # of frames:  497  found with (before cropping) frame dimensions:  314 700\n",
      "Starting to extract posture\n"
     ]
    },
    {
     "name": "stderr",
     "output_type": "stream",
     "text": [
      "500it [00:21, 21.78it/s]                                                                                               "
     ]
    },
    {
     "name": "stdout",
     "output_type": "stream",
     "text": [
      "Detected frames:  497\n"
     ]
    },
    {
     "name": "stderr",
     "output_type": "stream",
     "text": [
      "500it [00:22, 22.54it/s]\n"
     ]
    },
    {
     "name": "stdout",
     "output_type": "stream",
     "text": [
      "Saving results in F:\\videos\\ar41motor\\2022_07_29...\n",
      "Saving csv poses!\n",
      "Starting to analyze %  F:\\videos\\ar41motor\\2022_07_29\\Mask8L.avi\n",
      "F:\\videos\\ar41motor\\2022_07_29  already exists!\n",
      "Loading  F:\\videos\\ar41motor\\2022_07_29\\Mask8L.avi\n",
      "Duration of video [s]:  7.4 , recorded with  40.0 fps!\n",
      "Overall # of frames:  296  found with (before cropping) frame dimensions:  314 700\n",
      "Starting to extract posture\n"
     ]
    },
    {
     "name": "stderr",
     "output_type": "stream",
     "text": [
      "300it [00:12, 22.77it/s]                                                                                               "
     ]
    },
    {
     "name": "stdout",
     "output_type": "stream",
     "text": [
      "Detected frames:  296\n"
     ]
    },
    {
     "name": "stderr",
     "output_type": "stream",
     "text": [
      "300it [00:13, 22.67it/s]\n"
     ]
    },
    {
     "name": "stdout",
     "output_type": "stream",
     "text": [
      "Saving results in F:\\videos\\ar41motor\\2022_07_29...\n",
      "Saving csv poses!\n",
      "Starting to analyze %  F:\\videos\\ar41motor\\2022_07_29\\Mask90L.avi\n",
      "F:\\videos\\ar41motor\\2022_07_29  already exists!\n",
      "Loading  F:\\videos\\ar41motor\\2022_07_29\\Mask90L.avi\n",
      "Duration of video [s]:  10.62 , recorded with  40.0 fps!\n",
      "Overall # of frames:  425  found with (before cropping) frame dimensions:  314 700\n",
      "Starting to extract posture\n"
     ]
    },
    {
     "name": "stderr",
     "output_type": "stream",
     "text": [
      "430it [00:18, 24.14it/s]                                                                                               "
     ]
    },
    {
     "name": "stdout",
     "output_type": "stream",
     "text": [
      "Detected frames:  425\n"
     ]
    },
    {
     "name": "stderr",
     "output_type": "stream",
     "text": [
      "430it [00:18, 22.80it/s]\n"
     ]
    },
    {
     "name": "stdout",
     "output_type": "stream",
     "text": [
      "Saving results in F:\\videos\\ar41motor\\2022_07_29...\n",
      "Saving csv poses!\n",
      "Starting to analyze %  F:\\videos\\ar41motor\\2022_07_29\\Mask91L.avi\n",
      "F:\\videos\\ar41motor\\2022_07_29  already exists!\n",
      "Loading  F:\\videos\\ar41motor\\2022_07_29\\Mask91L.avi\n",
      "Duration of video [s]:  11.62 , recorded with  40.0 fps!\n",
      "Overall # of frames:  465  found with (before cropping) frame dimensions:  314 700\n",
      "Starting to extract posture\n"
     ]
    },
    {
     "name": "stderr",
     "output_type": "stream",
     "text": [
      "470it [00:19, 24.39it/s]                                                                                               "
     ]
    },
    {
     "name": "stdout",
     "output_type": "stream",
     "text": [
      "Detected frames:  465\n"
     ]
    },
    {
     "name": "stderr",
     "output_type": "stream",
     "text": [
      "470it [00:20, 22.92it/s]\n"
     ]
    },
    {
     "name": "stdout",
     "output_type": "stream",
     "text": [
      "Saving results in F:\\videos\\ar41motor\\2022_07_29...\n",
      "Saving csv poses!\n",
      "Starting to analyze %  F:\\videos\\ar41motor\\2022_07_29\\Mask92L.avi\n",
      "F:\\videos\\ar41motor\\2022_07_29  already exists!\n",
      "Loading  F:\\videos\\ar41motor\\2022_07_29\\Mask92L.avi\n",
      "Duration of video [s]:  12.5 , recorded with  40.0 fps!\n",
      "Overall # of frames:  500  found with (before cropping) frame dimensions:  314 700\n",
      "Starting to extract posture\n"
     ]
    },
    {
     "name": "stderr",
     "output_type": "stream",
     "text": [
      "510it [00:21, 23.97it/s]                                                                                               "
     ]
    },
    {
     "name": "stdout",
     "output_type": "stream",
     "text": [
      "Detected frames:  500\n"
     ]
    },
    {
     "name": "stderr",
     "output_type": "stream",
     "text": [
      "510it [00:22, 23.13it/s]\n"
     ]
    },
    {
     "name": "stdout",
     "output_type": "stream",
     "text": [
      "Saving results in F:\\videos\\ar41motor\\2022_07_29...\n",
      "Saving csv poses!\n",
      "Starting to analyze %  F:\\videos\\ar41motor\\2022_07_29\\Mask93L.avi\n",
      "F:\\videos\\ar41motor\\2022_07_29  already exists!\n",
      "Loading  F:\\videos\\ar41motor\\2022_07_29\\Mask93L.avi\n",
      "Duration of video [s]:  12.47 , recorded with  40.0 fps!\n",
      "Overall # of frames:  499  found with (before cropping) frame dimensions:  314 700\n",
      "Starting to extract posture\n"
     ]
    },
    {
     "name": "stderr",
     "output_type": "stream",
     "text": [
      "500it [00:21, 22.41it/s]                                                                                               "
     ]
    },
    {
     "name": "stdout",
     "output_type": "stream",
     "text": [
      "Detected frames:  499\n"
     ]
    },
    {
     "name": "stderr",
     "output_type": "stream",
     "text": [
      "500it [00:22, 22.63it/s]\n"
     ]
    },
    {
     "name": "stdout",
     "output_type": "stream",
     "text": [
      "Saving results in F:\\videos\\ar41motor\\2022_07_29...\n",
      "Saving csv poses!\n",
      "Starting to analyze %  F:\\videos\\ar41motor\\2022_07_29\\Mask94L.avi\n",
      "F:\\videos\\ar41motor\\2022_07_29  already exists!\n",
      "Loading  F:\\videos\\ar41motor\\2022_07_29\\Mask94L.avi\n",
      "Duration of video [s]:  8.6 , recorded with  40.0 fps!\n",
      "Overall # of frames:  344  found with (before cropping) frame dimensions:  314 700\n",
      "Starting to extract posture\n"
     ]
    },
    {
     "name": "stderr",
     "output_type": "stream",
     "text": [
      "350it [00:14, 23.60it/s]                                                                                               "
     ]
    },
    {
     "name": "stdout",
     "output_type": "stream",
     "text": [
      "Detected frames:  344\n"
     ]
    },
    {
     "name": "stderr",
     "output_type": "stream",
     "text": [
      "350it [00:15, 22.95it/s]\n"
     ]
    },
    {
     "name": "stdout",
     "output_type": "stream",
     "text": [
      "Saving results in F:\\videos\\ar41motor\\2022_07_29...\n",
      "Saving csv poses!\n",
      "Starting to analyze %  F:\\videos\\ar41motor\\2022_07_29\\Mask95L.avi\n",
      "F:\\videos\\ar41motor\\2022_07_29  already exists!\n",
      "Loading  F:\\videos\\ar41motor\\2022_07_29\\Mask95L.avi\n",
      "Duration of video [s]:  11.07 , recorded with  40.0 fps!\n",
      "Overall # of frames:  443  found with (before cropping) frame dimensions:  314 700\n",
      "Starting to extract posture\n"
     ]
    },
    {
     "name": "stderr",
     "output_type": "stream",
     "text": [
      "450it [00:19, 21.09it/s]                                                                                               "
     ]
    },
    {
     "name": "stdout",
     "output_type": "stream",
     "text": [
      "Detected frames:  443\n"
     ]
    },
    {
     "name": "stderr",
     "output_type": "stream",
     "text": [
      "450it [00:19, 22.90it/s]\n"
     ]
    },
    {
     "name": "stdout",
     "output_type": "stream",
     "text": [
      "Saving results in F:\\videos\\ar41motor\\2022_07_29...\n",
      "Saving csv poses!\n",
      "Starting to analyze %  F:\\videos\\ar41motor\\2022_07_29\\Mask96L.avi\n",
      "F:\\videos\\ar41motor\\2022_07_29  already exists!\n",
      "Loading  F:\\videos\\ar41motor\\2022_07_29\\Mask96L.avi\n",
      "Duration of video [s]:  11.1 , recorded with  40.0 fps!\n",
      "Overall # of frames:  444  found with (before cropping) frame dimensions:  314 700\n",
      "Starting to extract posture\n"
     ]
    },
    {
     "name": "stderr",
     "output_type": "stream",
     "text": [
      "450it [00:19, 20.99it/s]                                                                                               "
     ]
    },
    {
     "name": "stdout",
     "output_type": "stream",
     "text": [
      "Detected frames:  444\n"
     ]
    },
    {
     "name": "stderr",
     "output_type": "stream",
     "text": [
      "450it [00:19, 22.88it/s]\n"
     ]
    },
    {
     "name": "stdout",
     "output_type": "stream",
     "text": [
      "Saving results in F:\\videos\\ar41motor\\2022_07_29...\n",
      "Saving csv poses!\n",
      "Starting to analyze %  F:\\videos\\ar41motor\\2022_07_29\\Mask97L.avi\n",
      "F:\\videos\\ar41motor\\2022_07_29  already exists!\n",
      "Loading  F:\\videos\\ar41motor\\2022_07_29\\Mask97L.avi\n",
      "Duration of video [s]:  12.5 , recorded with  40.0 fps!\n",
      "Overall # of frames:  500  found with (before cropping) frame dimensions:  314 700\n",
      "Starting to extract posture\n"
     ]
    },
    {
     "name": "stderr",
     "output_type": "stream",
     "text": [
      "510it [00:21, 23.99it/s]                                                                                               "
     ]
    },
    {
     "name": "stdout",
     "output_type": "stream",
     "text": [
      "Detected frames:  500\n"
     ]
    },
    {
     "name": "stderr",
     "output_type": "stream",
     "text": [
      "510it [00:22, 23.11it/s]\n"
     ]
    },
    {
     "name": "stdout",
     "output_type": "stream",
     "text": [
      "Saving results in F:\\videos\\ar41motor\\2022_07_29...\n",
      "Saving csv poses!\n",
      "Starting to analyze %  F:\\videos\\ar41motor\\2022_07_29\\Mask98L.avi\n",
      "F:\\videos\\ar41motor\\2022_07_29  already exists!\n",
      "Loading  F:\\videos\\ar41motor\\2022_07_29\\Mask98L.avi\n",
      "Duration of video [s]:  12.5 , recorded with  40.0 fps!\n",
      "Overall # of frames:  500  found with (before cropping) frame dimensions:  314 700\n",
      "Starting to extract posture\n"
     ]
    },
    {
     "name": "stderr",
     "output_type": "stream",
     "text": [
      "510it [00:21, 23.94it/s]                                                                                               "
     ]
    },
    {
     "name": "stdout",
     "output_type": "stream",
     "text": [
      "Detected frames:  500\n"
     ]
    },
    {
     "name": "stderr",
     "output_type": "stream",
     "text": [
      "510it [00:22, 22.87it/s]\n"
     ]
    },
    {
     "name": "stdout",
     "output_type": "stream",
     "text": [
      "Saving results in F:\\videos\\ar41motor\\2022_07_29...\n",
      "Saving csv poses!\n",
      "Starting to analyze %  F:\\videos\\ar41motor\\2022_07_29\\Mask99L.avi\n",
      "F:\\videos\\ar41motor\\2022_07_29  already exists!\n",
      "Loading  F:\\videos\\ar41motor\\2022_07_29\\Mask99L.avi\n",
      "Duration of video [s]:  12.5 , recorded with  40.0 fps!\n",
      "Overall # of frames:  500  found with (before cropping) frame dimensions:  314 700\n",
      "Starting to extract posture\n"
     ]
    },
    {
     "name": "stderr",
     "output_type": "stream",
     "text": [
      "510it [00:21, 23.96it/s]                                                                                               "
     ]
    },
    {
     "name": "stdout",
     "output_type": "stream",
     "text": [
      "Detected frames:  500\n"
     ]
    },
    {
     "name": "stderr",
     "output_type": "stream",
     "text": [
      "510it [00:22, 23.08it/s]\n"
     ]
    },
    {
     "name": "stdout",
     "output_type": "stream",
     "text": [
      "Saving results in F:\\videos\\ar41motor\\2022_07_29...\n",
      "Saving csv poses!\n",
      "Starting to analyze %  F:\\videos\\ar41motor\\2022_07_29\\Mask9L.avi\n",
      "F:\\videos\\ar41motor\\2022_07_29  already exists!\n",
      "Loading  F:\\videos\\ar41motor\\2022_07_29\\Mask9L.avi\n",
      "Duration of video [s]:  7.97 , recorded with  40.0 fps!\n",
      "Overall # of frames:  319  found with (before cropping) frame dimensions:  314 700\n",
      "Starting to extract posture\n"
     ]
    },
    {
     "name": "stderr",
     "output_type": "stream",
     "text": [
      "320it [00:13, 23.89it/s]                                                                                               "
     ]
    },
    {
     "name": "stdout",
     "output_type": "stream",
     "text": [
      "Detected frames:  319\n"
     ]
    },
    {
     "name": "stderr",
     "output_type": "stream",
     "text": [
      "320it [00:14, 22.68it/s]\n"
     ]
    },
    {
     "name": "stdout",
     "output_type": "stream",
     "text": [
      "Saving results in F:\\videos\\ar41motor\\2022_07_29...\n",
      "Saving csv poses!\n",
      "The videos are analyzed. Now your research can truly start! \n",
      " You can create labeled videos with 'create_labeled_video'\n",
      "If the tracking is not satisfactory for some videos, consider expanding the training set. You can use the function 'extract_outlier_frames' to extract a few representative outlier frames.\n",
      "Filtering with median model F:\\videos\\ar41motor\\2022_07_29\\Mask0L.avi\n",
      "Saving filtered csv poses!\n",
      "Filtering with median model F:\\videos\\ar41motor\\2022_07_29\\Mask100L.avi\n",
      "Saving filtered csv poses!\n",
      "Filtering with median model F:\\videos\\ar41motor\\2022_07_29\\Mask101L.avi\n",
      "Saving filtered csv poses!\n",
      "Filtering with median model F:\\videos\\ar41motor\\2022_07_29\\Mask102L.avi\n",
      "Saving filtered csv poses!\n",
      "Filtering with median model F:\\videos\\ar41motor\\2022_07_29\\Mask103L.avi\n",
      "Saving filtered csv poses!\n",
      "Filtering with median model F:\\videos\\ar41motor\\2022_07_29\\Mask104L.avi\n",
      "Saving filtered csv poses!\n",
      "Filtering with median model F:\\videos\\ar41motor\\2022_07_29\\Mask105L.avi\n",
      "Saving filtered csv poses!\n",
      "Filtering with median model F:\\videos\\ar41motor\\2022_07_29\\Mask106L.avi\n",
      "Saving filtered csv poses!\n",
      "Filtering with median model F:\\videos\\ar41motor\\2022_07_29\\Mask107L.avi\n",
      "Saving filtered csv poses!\n",
      "Filtering with median model F:\\videos\\ar41motor\\2022_07_29\\Mask108L.avi\n",
      "Saving filtered csv poses!\n",
      "Filtering with median model F:\\videos\\ar41motor\\2022_07_29\\Mask109L.avi\n",
      "Saving filtered csv poses!\n",
      "Filtering with median model F:\\videos\\ar41motor\\2022_07_29\\Mask10L.avi\n",
      "Saving filtered csv poses!\n",
      "Filtering with median model F:\\videos\\ar41motor\\2022_07_29\\Mask110L.avi\n",
      "Saving filtered csv poses!\n",
      "Filtering with median model F:\\videos\\ar41motor\\2022_07_29\\Mask111L.avi\n",
      "Saving filtered csv poses!\n",
      "Filtering with median model F:\\videos\\ar41motor\\2022_07_29\\Mask112L.avi\n",
      "Saving filtered csv poses!\n",
      "Filtering with median model F:\\videos\\ar41motor\\2022_07_29\\Mask113L.avi\n",
      "Saving filtered csv poses!\n",
      "Filtering with median model F:\\videos\\ar41motor\\2022_07_29\\Mask114L.avi\n",
      "Saving filtered csv poses!\n",
      "Filtering with median model F:\\videos\\ar41motor\\2022_07_29\\Mask115L.avi\n",
      "Saving filtered csv poses!\n",
      "Filtering with median model F:\\videos\\ar41motor\\2022_07_29\\Mask116L.avi\n",
      "Saving filtered csv poses!\n",
      "Filtering with median model F:\\videos\\ar41motor\\2022_07_29\\Mask117L.avi\n",
      "Saving filtered csv poses!\n",
      "Filtering with median model F:\\videos\\ar41motor\\2022_07_29\\Mask118L.avi\n",
      "Saving filtered csv poses!\n",
      "Filtering with median model F:\\videos\\ar41motor\\2022_07_29\\Mask119L.avi\n",
      "Saving filtered csv poses!\n",
      "Filtering with median model F:\\videos\\ar41motor\\2022_07_29\\Mask11L.avi\n",
      "Saving filtered csv poses!\n",
      "Filtering with median model F:\\videos\\ar41motor\\2022_07_29\\Mask120L.avi\n",
      "Saving filtered csv poses!\n",
      "Filtering with median model F:\\videos\\ar41motor\\2022_07_29\\Mask121L.avi\n",
      "Saving filtered csv poses!\n",
      "Filtering with median model F:\\videos\\ar41motor\\2022_07_29\\Mask122L.avi\n",
      "Saving filtered csv poses!\n",
      "Filtering with median model F:\\videos\\ar41motor\\2022_07_29\\Mask123L.avi\n",
      "Saving filtered csv poses!\n",
      "Filtering with median model F:\\videos\\ar41motor\\2022_07_29\\Mask124L.avi\n",
      "Saving filtered csv poses!\n",
      "Filtering with median model F:\\videos\\ar41motor\\2022_07_29\\Mask125L.avi\n",
      "Saving filtered csv poses!\n",
      "Filtering with median model F:\\videos\\ar41motor\\2022_07_29\\Mask126L.avi\n",
      "Saving filtered csv poses!\n",
      "Filtering with median model F:\\videos\\ar41motor\\2022_07_29\\Mask127L.avi\n",
      "Saving filtered csv poses!\n",
      "Filtering with median model F:\\videos\\ar41motor\\2022_07_29\\Mask128L.avi\n",
      "Saving filtered csv poses!\n",
      "Filtering with median model F:\\videos\\ar41motor\\2022_07_29\\Mask129L.avi\n",
      "Saving filtered csv poses!\n",
      "Filtering with median model F:\\videos\\ar41motor\\2022_07_29\\Mask12L.avi\n",
      "Saving filtered csv poses!\n",
      "Filtering with median model F:\\videos\\ar41motor\\2022_07_29\\Mask130L.avi\n",
      "Saving filtered csv poses!\n",
      "Filtering with median model F:\\videos\\ar41motor\\2022_07_29\\Mask131L.avi\n",
      "Saving filtered csv poses!\n",
      "Filtering with median model F:\\videos\\ar41motor\\2022_07_29\\Mask132L.avi\n",
      "Saving filtered csv poses!\n",
      "Filtering with median model F:\\videos\\ar41motor\\2022_07_29\\Mask133L.avi\n",
      "Saving filtered csv poses!\n",
      "Filtering with median model F:\\videos\\ar41motor\\2022_07_29\\Mask134L.avi\n",
      "Saving filtered csv poses!\n",
      "Filtering with median model F:\\videos\\ar41motor\\2022_07_29\\Mask135L.avi\n",
      "Saving filtered csv poses!\n",
      "Filtering with median model F:\\videos\\ar41motor\\2022_07_29\\Mask136L.avi\n",
      "Saving filtered csv poses!\n",
      "Filtering with median model F:\\videos\\ar41motor\\2022_07_29\\Mask137L.avi\n",
      "Saving filtered csv poses!\n",
      "Filtering with median model F:\\videos\\ar41motor\\2022_07_29\\Mask138L.avi\n",
      "Saving filtered csv poses!\n",
      "Filtering with median model F:\\videos\\ar41motor\\2022_07_29\\Mask139L.avi\n",
      "Saving filtered csv poses!\n",
      "Filtering with median model F:\\videos\\ar41motor\\2022_07_29\\Mask13L.avi\n",
      "Saving filtered csv poses!\n",
      "Filtering with median model F:\\videos\\ar41motor\\2022_07_29\\Mask140L.avi\n",
      "Saving filtered csv poses!\n",
      "Filtering with median model F:\\videos\\ar41motor\\2022_07_29\\Mask141L.avi\n",
      "Saving filtered csv poses!\n",
      "Filtering with median model F:\\videos\\ar41motor\\2022_07_29\\Mask142L.avi\n",
      "Saving filtered csv poses!\n",
      "Filtering with median model F:\\videos\\ar41motor\\2022_07_29\\Mask143L.avi\n",
      "Saving filtered csv poses!\n",
      "Filtering with median model F:\\videos\\ar41motor\\2022_07_29\\Mask144L.avi\n",
      "Saving filtered csv poses!\n",
      "Filtering with median model F:\\videos\\ar41motor\\2022_07_29\\Mask145L.avi\n",
      "Saving filtered csv poses!\n",
      "Filtering with median model F:\\videos\\ar41motor\\2022_07_29\\Mask146L.avi\n",
      "Saving filtered csv poses!\n",
      "Filtering with median model F:\\videos\\ar41motor\\2022_07_29\\Mask147L.avi\n",
      "Saving filtered csv poses!\n",
      "Filtering with median model F:\\videos\\ar41motor\\2022_07_29\\Mask148LDLC_resnet152_ar30shiwkerSep13shuffle2_100000.csv\n",
      "No unfiltered data file found in F:\\videos\\ar41motor\\2022_07_29 for video Mask148LDLC_resnet152_ar30shiwkerSep13shuffle2_100000 and scorer DLC_resnet152_ar30shiwkerSep13shuffle2_100000.\n",
      "Filtering with median model F:\\videos\\ar41motor\\2022_07_29\\Mask148LDLC_resnet152_ar30shiwkerSep13shuffle2_100000.h5\n",
      "No unfiltered data file found in F:\\videos\\ar41motor\\2022_07_29 for video Mask148LDLC_resnet152_ar30shiwkerSep13shuffle2_100000 and scorer DLC_resnet152_ar30shiwkerSep13shuffle2_100000.\n",
      "Filtering with median model F:\\videos\\ar41motor\\2022_07_29\\Mask148LDLC_resnet152_ar30shiwkerSep13shuffle2_100000_meta.pickle\n",
      "No unfiltered data file found in F:\\videos\\ar41motor\\2022_07_29 for video Mask148LDLC_resnet152_ar30shiwkerSep13shuffle2_100000_meta and scorer DLC_resnet152_ar30shiwkerSep13shuffle2_100000.\n",
      "Filtering with median model F:\\videos\\ar41motor\\2022_07_29\\Mask149LDLC_resnet152_ar30shiwkerSep13shuffle2_100000.csv\n",
      "No unfiltered data file found in F:\\videos\\ar41motor\\2022_07_29 for video Mask149LDLC_resnet152_ar30shiwkerSep13shuffle2_100000 and scorer DLC_resnet152_ar30shiwkerSep13shuffle2_100000.\n",
      "Filtering with median model F:\\videos\\ar41motor\\2022_07_29\\Mask149LDLC_resnet152_ar30shiwkerSep13shuffle2_100000.h5\n",
      "No unfiltered data file found in F:\\videos\\ar41motor\\2022_07_29 for video Mask149LDLC_resnet152_ar30shiwkerSep13shuffle2_100000 and scorer DLC_resnet152_ar30shiwkerSep13shuffle2_100000.\n",
      "Filtering with median model F:\\videos\\ar41motor\\2022_07_29\\Mask149LDLC_resnet152_ar30shiwkerSep13shuffle2_100000_meta.pickle\n",
      "No unfiltered data file found in F:\\videos\\ar41motor\\2022_07_29 for video Mask149LDLC_resnet152_ar30shiwkerSep13shuffle2_100000_meta and scorer DLC_resnet152_ar30shiwkerSep13shuffle2_100000.\n",
      "Filtering with median model F:\\videos\\ar41motor\\2022_07_29\\Mask14L.avi\n",
      "Saving filtered csv poses!\n",
      "Filtering with median model F:\\videos\\ar41motor\\2022_07_29\\Mask150LDLC_resnet152_ar30shiwkerSep13shuffle2_100000.csv\n",
      "No unfiltered data file found in F:\\videos\\ar41motor\\2022_07_29 for video Mask150LDLC_resnet152_ar30shiwkerSep13shuffle2_100000 and scorer DLC_resnet152_ar30shiwkerSep13shuffle2_100000.\n",
      "Filtering with median model F:\\videos\\ar41motor\\2022_07_29\\Mask150LDLC_resnet152_ar30shiwkerSep13shuffle2_100000.h5\n",
      "No unfiltered data file found in F:\\videos\\ar41motor\\2022_07_29 for video Mask150LDLC_resnet152_ar30shiwkerSep13shuffle2_100000 and scorer DLC_resnet152_ar30shiwkerSep13shuffle2_100000.\n"
     ]
    },
    {
     "name": "stdout",
     "output_type": "stream",
     "text": [
      "Filtering with median model F:\\videos\\ar41motor\\2022_07_29\\Mask150LDLC_resnet152_ar30shiwkerSep13shuffle2_100000_meta.pickle\n",
      "No unfiltered data file found in F:\\videos\\ar41motor\\2022_07_29 for video Mask150LDLC_resnet152_ar30shiwkerSep13shuffle2_100000_meta and scorer DLC_resnet152_ar30shiwkerSep13shuffle2_100000.\n",
      "Filtering with median model F:\\videos\\ar41motor\\2022_07_29\\Mask15L.avi\n",
      "Saving filtered csv poses!\n",
      "Filtering with median model F:\\videos\\ar41motor\\2022_07_29\\Mask16L.avi\n",
      "Saving filtered csv poses!\n",
      "Filtering with median model F:\\videos\\ar41motor\\2022_07_29\\Mask17L.avi\n",
      "Saving filtered csv poses!\n",
      "Filtering with median model F:\\videos\\ar41motor\\2022_07_29\\Mask18L.avi\n",
      "Saving filtered csv poses!\n",
      "Filtering with median model F:\\videos\\ar41motor\\2022_07_29\\Mask19L.avi\n",
      "Saving filtered csv poses!\n",
      "Filtering with median model F:\\videos\\ar41motor\\2022_07_29\\Mask1L.avi\n",
      "Saving filtered csv poses!\n",
      "Filtering with median model F:\\videos\\ar41motor\\2022_07_29\\Mask20L.avi\n",
      "Saving filtered csv poses!\n",
      "Filtering with median model F:\\videos\\ar41motor\\2022_07_29\\Mask21L.avi\n",
      "Saving filtered csv poses!\n",
      "Filtering with median model F:\\videos\\ar41motor\\2022_07_29\\Mask22L.avi\n",
      "Saving filtered csv poses!\n",
      "Filtering with median model F:\\videos\\ar41motor\\2022_07_29\\Mask23L.avi\n",
      "Saving filtered csv poses!\n",
      "Filtering with median model F:\\videos\\ar41motor\\2022_07_29\\Mask24L.avi\n",
      "Saving filtered csv poses!\n",
      "Filtering with median model F:\\videos\\ar41motor\\2022_07_29\\Mask25L.avi\n",
      "Saving filtered csv poses!\n",
      "Filtering with median model F:\\videos\\ar41motor\\2022_07_29\\Mask26L.avi\n",
      "Saving filtered csv poses!\n",
      "Filtering with median model F:\\videos\\ar41motor\\2022_07_29\\Mask27L.avi\n",
      "Saving filtered csv poses!\n",
      "Filtering with median model F:\\videos\\ar41motor\\2022_07_29\\Mask28L.avi\n",
      "Saving filtered csv poses!\n",
      "Filtering with median model F:\\videos\\ar41motor\\2022_07_29\\Mask29L.avi\n",
      "Saving filtered csv poses!\n",
      "Filtering with median model F:\\videos\\ar41motor\\2022_07_29\\Mask2L.avi\n",
      "Saving filtered csv poses!\n",
      "Filtering with median model F:\\videos\\ar41motor\\2022_07_29\\Mask30L.avi\n",
      "Saving filtered csv poses!\n",
      "Filtering with median model F:\\videos\\ar41motor\\2022_07_29\\Mask31L.avi\n",
      "Saving filtered csv poses!\n",
      "Filtering with median model F:\\videos\\ar41motor\\2022_07_29\\Mask32L.avi\n",
      "Saving filtered csv poses!\n",
      "Filtering with median model F:\\videos\\ar41motor\\2022_07_29\\Mask33L.avi\n",
      "Saving filtered csv poses!\n",
      "Filtering with median model F:\\videos\\ar41motor\\2022_07_29\\Mask34L.avi\n",
      "Saving filtered csv poses!\n",
      "Filtering with median model F:\\videos\\ar41motor\\2022_07_29\\Mask35L.avi\n",
      "Saving filtered csv poses!\n",
      "Filtering with median model F:\\videos\\ar41motor\\2022_07_29\\Mask36L.avi\n",
      "Saving filtered csv poses!\n",
      "Filtering with median model F:\\videos\\ar41motor\\2022_07_29\\Mask37L.avi\n",
      "Saving filtered csv poses!\n",
      "Filtering with median model F:\\videos\\ar41motor\\2022_07_29\\Mask38L.avi\n",
      "Saving filtered csv poses!\n",
      "Filtering with median model F:\\videos\\ar41motor\\2022_07_29\\Mask39LDLC_resnet152_ar30shiwkerSep13shuffle2_100000.csv\n",
      "No unfiltered data file found in F:\\videos\\ar41motor\\2022_07_29 for video Mask39LDLC_resnet152_ar30shiwkerSep13shuffle2_100000 and scorer DLC_resnet152_ar30shiwkerSep13shuffle2_100000.\n",
      "Filtering with median model F:\\videos\\ar41motor\\2022_07_29\\Mask39LDLC_resnet152_ar30shiwkerSep13shuffle2_100000.h5\n",
      "No unfiltered data file found in F:\\videos\\ar41motor\\2022_07_29 for video Mask39LDLC_resnet152_ar30shiwkerSep13shuffle2_100000 and scorer DLC_resnet152_ar30shiwkerSep13shuffle2_100000.\n",
      "Filtering with median model F:\\videos\\ar41motor\\2022_07_29\\Mask39LDLC_resnet152_ar30shiwkerSep13shuffle2_100000_meta.pickle\n",
      "No unfiltered data file found in F:\\videos\\ar41motor\\2022_07_29 for video Mask39LDLC_resnet152_ar30shiwkerSep13shuffle2_100000_meta and scorer DLC_resnet152_ar30shiwkerSep13shuffle2_100000.\n",
      "Filtering with median model F:\\videos\\ar41motor\\2022_07_29\\Mask3L.avi\n",
      "Saving filtered csv poses!\n",
      "Filtering with median model F:\\videos\\ar41motor\\2022_07_29\\Mask40L.avi\n",
      "Saving filtered csv poses!\n",
      "Filtering with median model F:\\videos\\ar41motor\\2022_07_29\\Mask41L.avi\n",
      "Saving filtered csv poses!\n",
      "Filtering with median model F:\\videos\\ar41motor\\2022_07_29\\Mask42L.avi\n",
      "Saving filtered csv poses!\n",
      "Filtering with median model F:\\videos\\ar41motor\\2022_07_29\\Mask43L.avi\n",
      "Saving filtered csv poses!\n",
      "Filtering with median model F:\\videos\\ar41motor\\2022_07_29\\Mask44L.avi\n",
      "Saving filtered csv poses!\n",
      "Filtering with median model F:\\videos\\ar41motor\\2022_07_29\\Mask45L.avi\n",
      "Saving filtered csv poses!\n",
      "Filtering with median model F:\\videos\\ar41motor\\2022_07_29\\Mask46L.avi\n",
      "Saving filtered csv poses!\n",
      "Filtering with median model F:\\videos\\ar41motor\\2022_07_29\\Mask47L.avi\n",
      "Saving filtered csv poses!\n",
      "Filtering with median model F:\\videos\\ar41motor\\2022_07_29\\Mask48L.avi\n",
      "Saving filtered csv poses!\n",
      "Filtering with median model F:\\videos\\ar41motor\\2022_07_29\\Mask49L.avi\n",
      "Saving filtered csv poses!\n",
      "Filtering with median model F:\\videos\\ar41motor\\2022_07_29\\Mask4L.avi\n",
      "Saving filtered csv poses!\n",
      "Filtering with median model F:\\videos\\ar41motor\\2022_07_29\\Mask50L.avi\n",
      "Saving filtered csv poses!\n",
      "Filtering with median model F:\\videos\\ar41motor\\2022_07_29\\Mask51L.avi\n",
      "Saving filtered csv poses!\n",
      "Filtering with median model F:\\videos\\ar41motor\\2022_07_29\\Mask52L.avi\n",
      "Saving filtered csv poses!\n",
      "Filtering with median model F:\\videos\\ar41motor\\2022_07_29\\Mask53L.avi\n",
      "Saving filtered csv poses!\n",
      "Filtering with median model F:\\videos\\ar41motor\\2022_07_29\\Mask54L.avi\n",
      "Saving filtered csv poses!\n",
      "Filtering with median model F:\\videos\\ar41motor\\2022_07_29\\Mask55L.avi\n",
      "Saving filtered csv poses!\n",
      "Filtering with median model F:\\videos\\ar41motor\\2022_07_29\\Mask56L.avi\n",
      "Saving filtered csv poses!\n",
      "Filtering with median model F:\\videos\\ar41motor\\2022_07_29\\Mask57L.avi\n",
      "Saving filtered csv poses!\n",
      "Filtering with median model F:\\videos\\ar41motor\\2022_07_29\\Mask58L.avi\n",
      "Saving filtered csv poses!\n",
      "Filtering with median model F:\\videos\\ar41motor\\2022_07_29\\Mask59L.avi\n",
      "Saving filtered csv poses!\n",
      "Filtering with median model F:\\videos\\ar41motor\\2022_07_29\\Mask5L.avi\n",
      "Saving filtered csv poses!\n",
      "Filtering with median model F:\\videos\\ar41motor\\2022_07_29\\Mask60L.avi\n",
      "Saving filtered csv poses!\n",
      "Filtering with median model F:\\videos\\ar41motor\\2022_07_29\\Mask61L.avi\n",
      "Saving filtered csv poses!\n",
      "Filtering with median model F:\\videos\\ar41motor\\2022_07_29\\Mask62L.avi\n",
      "Saving filtered csv poses!\n",
      "Filtering with median model F:\\videos\\ar41motor\\2022_07_29\\Mask63L.avi\n",
      "Saving filtered csv poses!\n",
      "Filtering with median model F:\\videos\\ar41motor\\2022_07_29\\Mask64L.avi\n",
      "Saving filtered csv poses!\n",
      "Filtering with median model F:\\videos\\ar41motor\\2022_07_29\\Mask65L.avi\n",
      "Saving filtered csv poses!\n",
      "Filtering with median model F:\\videos\\ar41motor\\2022_07_29\\Mask66L.avi\n",
      "Saving filtered csv poses!\n",
      "Filtering with median model F:\\videos\\ar41motor\\2022_07_29\\Mask67L.avi\n",
      "Saving filtered csv poses!\n",
      "Filtering with median model F:\\videos\\ar41motor\\2022_07_29\\Mask68L.avi\n",
      "Saving filtered csv poses!\n",
      "Filtering with median model F:\\videos\\ar41motor\\2022_07_29\\Mask69L.avi\n",
      "Saving filtered csv poses!\n",
      "Filtering with median model F:\\videos\\ar41motor\\2022_07_29\\Mask6L.avi\n",
      "Saving filtered csv poses!\n",
      "Filtering with median model F:\\videos\\ar41motor\\2022_07_29\\Mask70L.avi\n",
      "Saving filtered csv poses!\n",
      "Filtering with median model F:\\videos\\ar41motor\\2022_07_29\\Mask71L.avi\n",
      "Saving filtered csv poses!\n",
      "Filtering with median model F:\\videos\\ar41motor\\2022_07_29\\Mask72L.avi\n",
      "Saving filtered csv poses!\n",
      "Filtering with median model F:\\videos\\ar41motor\\2022_07_29\\Mask73L.avi\n",
      "Saving filtered csv poses!\n",
      "Filtering with median model F:\\videos\\ar41motor\\2022_07_29\\Mask74L.avi\n",
      "Saving filtered csv poses!\n",
      "Filtering with median model F:\\videos\\ar41motor\\2022_07_29\\Mask75L.avi\n",
      "Saving filtered csv poses!\n",
      "Filtering with median model F:\\videos\\ar41motor\\2022_07_29\\Mask76L.avi\n",
      "Saving filtered csv poses!\n",
      "Filtering with median model F:\\videos\\ar41motor\\2022_07_29\\Mask77L.avi\n",
      "Saving filtered csv poses!\n",
      "Filtering with median model F:\\videos\\ar41motor\\2022_07_29\\Mask78L.avi\n",
      "Saving filtered csv poses!\n",
      "Filtering with median model F:\\videos\\ar41motor\\2022_07_29\\Mask79L.avi\n",
      "Saving filtered csv poses!\n",
      "Filtering with median model F:\\videos\\ar41motor\\2022_07_29\\Mask7L.avi\n",
      "Saving filtered csv poses!\n"
     ]
    },
    {
     "name": "stdout",
     "output_type": "stream",
     "text": [
      "Filtering with median model F:\\videos\\ar41motor\\2022_07_29\\Mask80L.avi\n",
      "Saving filtered csv poses!\n",
      "Filtering with median model F:\\videos\\ar41motor\\2022_07_29\\Mask81L.avi\n",
      "Saving filtered csv poses!\n",
      "Filtering with median model F:\\videos\\ar41motor\\2022_07_29\\Mask82L.avi\n",
      "Saving filtered csv poses!\n",
      "Filtering with median model F:\\videos\\ar41motor\\2022_07_29\\Mask83L.avi\n",
      "Saving filtered csv poses!\n",
      "Filtering with median model F:\\videos\\ar41motor\\2022_07_29\\Mask84L.avi\n",
      "Saving filtered csv poses!\n",
      "Filtering with median model F:\\videos\\ar41motor\\2022_07_29\\Mask85L.avi\n",
      "Saving filtered csv poses!\n",
      "Filtering with median model F:\\videos\\ar41motor\\2022_07_29\\Mask86L.avi\n",
      "Saving filtered csv poses!\n",
      "Filtering with median model F:\\videos\\ar41motor\\2022_07_29\\Mask87L.avi\n",
      "Saving filtered csv poses!\n",
      "Filtering with median model F:\\videos\\ar41motor\\2022_07_29\\Mask88L.avi\n",
      "Saving filtered csv poses!\n",
      "Filtering with median model F:\\videos\\ar41motor\\2022_07_29\\Mask89L.avi\n",
      "Saving filtered csv poses!\n",
      "Filtering with median model F:\\videos\\ar41motor\\2022_07_29\\Mask8L.avi\n",
      "Saving filtered csv poses!\n",
      "Filtering with median model F:\\videos\\ar41motor\\2022_07_29\\Mask90L.avi\n",
      "Saving filtered csv poses!\n",
      "Filtering with median model F:\\videos\\ar41motor\\2022_07_29\\Mask91L.avi\n",
      "Saving filtered csv poses!\n",
      "Filtering with median model F:\\videos\\ar41motor\\2022_07_29\\Mask92L.avi\n",
      "Saving filtered csv poses!\n",
      "Filtering with median model F:\\videos\\ar41motor\\2022_07_29\\Mask93L.avi\n",
      "Saving filtered csv poses!\n",
      "Filtering with median model F:\\videos\\ar41motor\\2022_07_29\\Mask94L.avi\n",
      "Saving filtered csv poses!\n",
      "Filtering with median model F:\\videos\\ar41motor\\2022_07_29\\Mask95L.avi\n",
      "Saving filtered csv poses!\n",
      "Filtering with median model F:\\videos\\ar41motor\\2022_07_29\\Mask96L.avi\n",
      "Saving filtered csv poses!\n",
      "Filtering with median model F:\\videos\\ar41motor\\2022_07_29\\Mask97L.avi\n",
      "Saving filtered csv poses!\n",
      "Filtering with median model F:\\videos\\ar41motor\\2022_07_29\\Mask98L.avi\n",
      "Saving filtered csv poses!\n",
      "Filtering with median model F:\\videos\\ar41motor\\2022_07_29\\Mask99L.avi\n",
      "Saving filtered csv poses!\n",
      "Filtering with median model F:\\videos\\ar41motor\\2022_07_29\\Mask9L.avi\n",
      "Saving filtered csv poses!\n",
      "Using snapshot-100000 for model \\\\dk-server.dk.ucsd.edu\\afassihizakeri\\DLC\\ar30shiwker-Arash-2021-09-13\\dlc-models\\iteration-0\\ar30shiwkerSep13-trainset95shuffle2\n",
      "Initializing ResNet\n",
      "Starting to analyze %  F:\\videos\\ar41motor\\2022_07_29\\Mirror0R.avi\n",
      "F:\\videos\\ar41motor\\2022_07_29  already exists!\n",
      "Loading  F:\\videos\\ar41motor\\2022_07_29\\Mirror0R.avi\n",
      "Duration of video [s]:  6.38 , recorded with  40.0 fps!\n",
      "Overall # of frames:  255  found with (before cropping) frame dimensions:  314 700\n",
      "Starting to extract posture\n"
     ]
    },
    {
     "name": "stderr",
     "output_type": "stream",
     "text": [
      "260it [00:10, 23.76it/s]                                                                                               "
     ]
    },
    {
     "name": "stdout",
     "output_type": "stream",
     "text": [
      "Detected frames:  255\n"
     ]
    },
    {
     "name": "stderr",
     "output_type": "stream",
     "text": [
      "260it [00:11, 23.45it/s]\n"
     ]
    },
    {
     "name": "stdout",
     "output_type": "stream",
     "text": [
      "Saving results in F:\\videos\\ar41motor\\2022_07_29...\n",
      "Saving csv poses!\n",
      "Starting to analyze %  F:\\videos\\ar41motor\\2022_07_29\\Mirror100R.avi\n",
      "F:\\videos\\ar41motor\\2022_07_29  already exists!\n",
      "Loading  F:\\videos\\ar41motor\\2022_07_29\\Mirror100R.avi\n",
      "Duration of video [s]:  11.55 , recorded with  40.0 fps!\n",
      "Overall # of frames:  462  found with (before cropping) frame dimensions:  314 700\n",
      "Starting to extract posture\n"
     ]
    },
    {
     "name": "stderr",
     "output_type": "stream",
     "text": [
      "470it [00:19, 24.23it/s]                                                                                               "
     ]
    },
    {
     "name": "stdout",
     "output_type": "stream",
     "text": [
      "Detected frames:  462\n"
     ]
    },
    {
     "name": "stderr",
     "output_type": "stream",
     "text": [
      "470it [00:19, 23.86it/s]\n"
     ]
    },
    {
     "name": "stdout",
     "output_type": "stream",
     "text": [
      "Saving results in F:\\videos\\ar41motor\\2022_07_29...\n",
      "Saving csv poses!\n",
      "Starting to analyze %  F:\\videos\\ar41motor\\2022_07_29\\Mirror101R.avi\n",
      "F:\\videos\\ar41motor\\2022_07_29  already exists!\n",
      "Loading  F:\\videos\\ar41motor\\2022_07_29\\Mirror101R.avi\n",
      "Duration of video [s]:  10.65 , recorded with  40.0 fps!\n",
      "Overall # of frames:  426  found with (before cropping) frame dimensions:  314 700\n",
      "Starting to extract posture\n"
     ]
    },
    {
     "name": "stderr",
     "output_type": "stream",
     "text": [
      "430it [00:17, 24.41it/s]                                                                                               "
     ]
    },
    {
     "name": "stdout",
     "output_type": "stream",
     "text": [
      "Detected frames:  426\n"
     ]
    },
    {
     "name": "stderr",
     "output_type": "stream",
     "text": [
      "430it [00:18, 23.23it/s]\n"
     ]
    },
    {
     "name": "stdout",
     "output_type": "stream",
     "text": [
      "Saving results in F:\\videos\\ar41motor\\2022_07_29...\n",
      "Saving csv poses!\n",
      "Starting to analyze %  F:\\videos\\ar41motor\\2022_07_29\\Mirror102R.avi\n",
      "F:\\videos\\ar41motor\\2022_07_29  already exists!\n",
      "Loading  F:\\videos\\ar41motor\\2022_07_29\\Mirror102R.avi\n",
      "Duration of video [s]:  12.5 , recorded with  40.0 fps!\n",
      "Overall # of frames:  500  found with (before cropping) frame dimensions:  314 700\n",
      "Starting to extract posture\n"
     ]
    },
    {
     "name": "stderr",
     "output_type": "stream",
     "text": [
      "510it [00:21, 24.20it/s]                                                                                               "
     ]
    },
    {
     "name": "stdout",
     "output_type": "stream",
     "text": [
      "Detected frames:  500\n"
     ]
    },
    {
     "name": "stderr",
     "output_type": "stream",
     "text": [
      "510it [00:21, 23.37it/s]\n"
     ]
    },
    {
     "name": "stdout",
     "output_type": "stream",
     "text": [
      "Saving results in F:\\videos\\ar41motor\\2022_07_29...\n",
      "Saving csv poses!\n",
      "Starting to analyze %  F:\\videos\\ar41motor\\2022_07_29\\Mirror103R.avi\n",
      "F:\\videos\\ar41motor\\2022_07_29  already exists!\n",
      "Loading  F:\\videos\\ar41motor\\2022_07_29\\Mirror103R.avi\n",
      "Duration of video [s]:  1.75 , recorded with  40.0 fps!\n",
      "Overall # of frames:  70  found with (before cropping) frame dimensions:  314 700\n",
      "Starting to extract posture\n"
     ]
    },
    {
     "name": "stderr",
     "output_type": "stream",
     "text": [
      "80it [00:02, 26.98it/s]                                                                                                "
     ]
    },
    {
     "name": "stdout",
     "output_type": "stream",
     "text": [
      "Detected frames:  70\n"
     ]
    },
    {
     "name": "stderr",
     "output_type": "stream",
     "text": [
      "80it [00:03, 25.20it/s]\n"
     ]
    },
    {
     "name": "stdout",
     "output_type": "stream",
     "text": [
      "Saving results in F:\\videos\\ar41motor\\2022_07_29...\n",
      "Saving csv poses!\n",
      "Starting to analyze %  F:\\videos\\ar41motor\\2022_07_29\\Mirror104R.avi\n",
      "F:\\videos\\ar41motor\\2022_07_29  already exists!\n",
      "Loading  F:\\videos\\ar41motor\\2022_07_29\\Mirror104R.avi\n",
      "Duration of video [s]:  12.5 , recorded with  40.0 fps!\n",
      "Overall # of frames:  500  found with (before cropping) frame dimensions:  314 700\n",
      "Starting to extract posture\n"
     ]
    },
    {
     "name": "stderr",
     "output_type": "stream",
     "text": [
      "510it [00:21, 24.57it/s]                                                                                               "
     ]
    },
    {
     "name": "stdout",
     "output_type": "stream",
     "text": [
      "Detected frames:  500\n"
     ]
    },
    {
     "name": "stderr",
     "output_type": "stream",
     "text": [
      "510it [00:22, 23.15it/s]\n"
     ]
    },
    {
     "name": "stdout",
     "output_type": "stream",
     "text": [
      "Saving results in F:\\videos\\ar41motor\\2022_07_29...\n",
      "Saving csv poses!\n",
      "Starting to analyze %  F:\\videos\\ar41motor\\2022_07_29\\Mirror105R.avi\n",
      "F:\\videos\\ar41motor\\2022_07_29  already exists!\n",
      "Loading  F:\\videos\\ar41motor\\2022_07_29\\Mirror105R.avi\n",
      "Duration of video [s]:  12.5 , recorded with  40.0 fps!\n",
      "Overall # of frames:  500  found with (before cropping) frame dimensions:  314 700\n",
      "Starting to extract posture\n"
     ]
    },
    {
     "name": "stderr",
     "output_type": "stream",
     "text": [
      "510it [00:21, 23.63it/s]                                                                                               "
     ]
    },
    {
     "name": "stdout",
     "output_type": "stream",
     "text": [
      "Detected frames:  500\n"
     ]
    },
    {
     "name": "stderr",
     "output_type": "stream",
     "text": [
      "510it [00:21, 23.18it/s]\n"
     ]
    },
    {
     "name": "stdout",
     "output_type": "stream",
     "text": [
      "Saving results in F:\\videos\\ar41motor\\2022_07_29...\n",
      "Saving csv poses!\n",
      "Starting to analyze %  F:\\videos\\ar41motor\\2022_07_29\\Mirror106R.avi\n",
      "F:\\videos\\ar41motor\\2022_07_29  already exists!\n",
      "Loading  F:\\videos\\ar41motor\\2022_07_29\\Mirror106R.avi\n",
      "Duration of video [s]:  12.5 , recorded with  40.0 fps!\n",
      "Overall # of frames:  500  found with (before cropping) frame dimensions:  314 700\n",
      "Starting to extract posture\n"
     ]
    },
    {
     "name": "stderr",
     "output_type": "stream",
     "text": [
      "510it [00:21, 23.50it/s]                                                                                               "
     ]
    },
    {
     "name": "stdout",
     "output_type": "stream",
     "text": [
      "Detected frames:  500\n"
     ]
    },
    {
     "name": "stderr",
     "output_type": "stream",
     "text": [
      "510it [00:21, 23.34it/s]\n"
     ]
    },
    {
     "name": "stdout",
     "output_type": "stream",
     "text": [
      "Saving results in F:\\videos\\ar41motor\\2022_07_29...\n",
      "Saving csv poses!\n",
      "Starting to analyze %  F:\\videos\\ar41motor\\2022_07_29\\Mirror107R.avi\n",
      "F:\\videos\\ar41motor\\2022_07_29  already exists!\n",
      "Loading  F:\\videos\\ar41motor\\2022_07_29\\Mirror107R.avi\n",
      "Duration of video [s]:  12.5 , recorded with  40.0 fps!\n",
      "Overall # of frames:  500  found with (before cropping) frame dimensions:  314 700\n",
      "Starting to extract posture\n"
     ]
    },
    {
     "name": "stderr",
     "output_type": "stream",
     "text": [
      "510it [00:21, 23.66it/s]                                                                                               "
     ]
    },
    {
     "name": "stdout",
     "output_type": "stream",
     "text": [
      "Detected frames:  500\n"
     ]
    },
    {
     "name": "stderr",
     "output_type": "stream",
     "text": [
      "510it [00:21, 23.37it/s]\n"
     ]
    },
    {
     "name": "stdout",
     "output_type": "stream",
     "text": [
      "Saving results in F:\\videos\\ar41motor\\2022_07_29...\n",
      "Saving csv poses!\n",
      "Starting to analyze %  F:\\videos\\ar41motor\\2022_07_29\\Mirror108R.avi\n",
      "F:\\videos\\ar41motor\\2022_07_29  already exists!\n",
      "Loading  F:\\videos\\ar41motor\\2022_07_29\\Mirror108R.avi\n",
      "Duration of video [s]:  12.5 , recorded with  40.0 fps!\n",
      "Overall # of frames:  500  found with (before cropping) frame dimensions:  314 700\n",
      "Starting to extract posture\n"
     ]
    },
    {
     "name": "stderr",
     "output_type": "stream",
     "text": [
      "510it [00:21, 23.93it/s]                                                                                               "
     ]
    },
    {
     "name": "stdout",
     "output_type": "stream",
     "text": [
      "Detected frames:  500\n"
     ]
    },
    {
     "name": "stderr",
     "output_type": "stream",
     "text": [
      "510it [00:21, 23.36it/s]\n"
     ]
    },
    {
     "name": "stdout",
     "output_type": "stream",
     "text": [
      "Saving results in F:\\videos\\ar41motor\\2022_07_29...\n",
      "Saving csv poses!\n",
      "Starting to analyze %  F:\\videos\\ar41motor\\2022_07_29\\Mirror109R.avi\n",
      "F:\\videos\\ar41motor\\2022_07_29  already exists!\n",
      "Loading  F:\\videos\\ar41motor\\2022_07_29\\Mirror109R.avi\n",
      "Duration of video [s]:  12.35 , recorded with  40.0 fps!\n",
      "Overall # of frames:  494  found with (before cropping) frame dimensions:  314 700\n",
      "Starting to extract posture\n"
     ]
    },
    {
     "name": "stderr",
     "output_type": "stream",
     "text": [
      "500it [00:21, 22.94it/s]                                                                                               "
     ]
    },
    {
     "name": "stdout",
     "output_type": "stream",
     "text": [
      "Detected frames:  494\n"
     ]
    },
    {
     "name": "stderr",
     "output_type": "stream",
     "text": [
      "500it [00:21, 23.15it/s]\n"
     ]
    },
    {
     "name": "stdout",
     "output_type": "stream",
     "text": [
      "Saving results in F:\\videos\\ar41motor\\2022_07_29...\n",
      "Saving csv poses!\n",
      "Starting to analyze %  F:\\videos\\ar41motor\\2022_07_29\\Mirror10R.avi\n",
      "F:\\videos\\ar41motor\\2022_07_29  already exists!\n",
      "Loading  F:\\videos\\ar41motor\\2022_07_29\\Mirror10R.avi\n",
      "Duration of video [s]:  5.05 , recorded with  40.0 fps!\n",
      "Overall # of frames:  202  found with (before cropping) frame dimensions:  314 700\n",
      "Starting to extract posture\n"
     ]
    },
    {
     "name": "stderr",
     "output_type": "stream",
     "text": [
      "210it [00:08, 20.71it/s]                                                                                               "
     ]
    },
    {
     "name": "stdout",
     "output_type": "stream",
     "text": [
      "Detected frames:  202\n"
     ]
    },
    {
     "name": "stderr",
     "output_type": "stream",
     "text": [
      "210it [00:09, 23.07it/s]\n"
     ]
    },
    {
     "name": "stdout",
     "output_type": "stream",
     "text": [
      "Saving results in F:\\videos\\ar41motor\\2022_07_29...\n",
      "Saving csv poses!\n",
      "Starting to analyze %  F:\\videos\\ar41motor\\2022_07_29\\Mirror110R.avi\n",
      "F:\\videos\\ar41motor\\2022_07_29  already exists!\n",
      "Loading  F:\\videos\\ar41motor\\2022_07_29\\Mirror110R.avi\n",
      "Duration of video [s]:  12.5 , recorded with  40.0 fps!\n",
      "Overall # of frames:  500  found with (before cropping) frame dimensions:  314 700\n",
      "Starting to extract posture\n"
     ]
    },
    {
     "name": "stderr",
     "output_type": "stream",
     "text": [
      "510it [00:21, 23.97it/s]                                                                                               "
     ]
    },
    {
     "name": "stdout",
     "output_type": "stream",
     "text": [
      "Detected frames:  500\n"
     ]
    },
    {
     "name": "stderr",
     "output_type": "stream",
     "text": [
      "510it [00:22, 23.02it/s]\n"
     ]
    },
    {
     "name": "stdout",
     "output_type": "stream",
     "text": [
      "Saving results in F:\\videos\\ar41motor\\2022_07_29...\n",
      "Saving csv poses!\n",
      "Starting to analyze %  F:\\videos\\ar41motor\\2022_07_29\\Mirror111R.avi\n",
      "F:\\videos\\ar41motor\\2022_07_29  already exists!\n",
      "Loading  F:\\videos\\ar41motor\\2022_07_29\\Mirror111R.avi\n",
      "Duration of video [s]:  3.42 , recorded with  40.0 fps!\n",
      "Overall # of frames:  137  found with (before cropping) frame dimensions:  314 700\n",
      "Starting to extract posture\n"
     ]
    },
    {
     "name": "stderr",
     "output_type": "stream",
     "text": [
      "140it [00:05, 22.92it/s]                                                                                               "
     ]
    },
    {
     "name": "stdout",
     "output_type": "stream",
     "text": [
      "Detected frames:  137\n"
     ]
    },
    {
     "name": "stderr",
     "output_type": "stream",
     "text": [
      "140it [00:06, 22.33it/s]\n"
     ]
    },
    {
     "name": "stdout",
     "output_type": "stream",
     "text": [
      "Saving results in F:\\videos\\ar41motor\\2022_07_29...\n",
      "Saving csv poses!\n",
      "Starting to analyze %  F:\\videos\\ar41motor\\2022_07_29\\Mirror112R.avi\n",
      "F:\\videos\\ar41motor\\2022_07_29  already exists!\n",
      "Loading  F:\\videos\\ar41motor\\2022_07_29\\Mirror112R.avi\n",
      "Duration of video [s]:  12.15 , recorded with  40.0 fps!\n",
      "Overall # of frames:  486  found with (before cropping) frame dimensions:  314 700\n",
      "Starting to extract posture\n"
     ]
    },
    {
     "name": "stderr",
     "output_type": "stream",
     "text": [
      "490it [00:20, 20.50it/s]                                                                                               "
     ]
    },
    {
     "name": "stdout",
     "output_type": "stream",
     "text": [
      "Detected frames:  486\n"
     ]
    },
    {
     "name": "stderr",
     "output_type": "stream",
     "text": [
      "490it [00:21, 22.98it/s]\n"
     ]
    },
    {
     "name": "stdout",
     "output_type": "stream",
     "text": [
      "Saving results in F:\\videos\\ar41motor\\2022_07_29...\n",
      "Saving csv poses!\n",
      "Starting to analyze %  F:\\videos\\ar41motor\\2022_07_29\\Mirror113R.avi\n",
      "F:\\videos\\ar41motor\\2022_07_29  already exists!\n",
      "Loading  F:\\videos\\ar41motor\\2022_07_29\\Mirror113R.avi\n",
      "Duration of video [s]:  12.43 , recorded with  40.0 fps!\n",
      "Overall # of frames:  497  found with (before cropping) frame dimensions:  314 700\n",
      "Starting to extract posture\n"
     ]
    },
    {
     "name": "stderr",
     "output_type": "stream",
     "text": [
      "500it [00:22, 22.88it/s]                                                                                               "
     ]
    },
    {
     "name": "stdout",
     "output_type": "stream",
     "text": [
      "Detected frames:  497\n"
     ]
    },
    {
     "name": "stderr",
     "output_type": "stream",
     "text": [
      "500it [00:23, 21.19it/s]\n"
     ]
    },
    {
     "name": "stdout",
     "output_type": "stream",
     "text": [
      "Saving results in F:\\videos\\ar41motor\\2022_07_29...\n",
      "Saving csv poses!\n",
      "Starting to analyze %  F:\\videos\\ar41motor\\2022_07_29\\Mirror114R.avi\n",
      "F:\\videos\\ar41motor\\2022_07_29  already exists!\n",
      "Loading  F:\\videos\\ar41motor\\2022_07_29\\Mirror114R.avi\n",
      "Duration of video [s]:  12.47 , recorded with  40.0 fps!\n",
      "Overall # of frames:  499  found with (before cropping) frame dimensions:  314 700\n",
      "Starting to extract posture\n"
     ]
    },
    {
     "name": "stderr",
     "output_type": "stream",
     "text": [
      "500it [00:22, 21.98it/s]                                                                                               "
     ]
    },
    {
     "name": "stdout",
     "output_type": "stream",
     "text": [
      "Detected frames:  499\n"
     ]
    },
    {
     "name": "stderr",
     "output_type": "stream",
     "text": [
      "500it [00:23, 21.64it/s]\n"
     ]
    },
    {
     "name": "stdout",
     "output_type": "stream",
     "text": [
      "Saving results in F:\\videos\\ar41motor\\2022_07_29...\n",
      "Saving csv poses!\n",
      "Starting to analyze %  F:\\videos\\ar41motor\\2022_07_29\\Mirror115R.avi\n",
      "F:\\videos\\ar41motor\\2022_07_29  already exists!\n",
      "Loading  F:\\videos\\ar41motor\\2022_07_29\\Mirror115R.avi\n",
      "Duration of video [s]:  11.15 , recorded with  40.0 fps!\n",
      "Overall # of frames:  446  found with (before cropping) frame dimensions:  314 700\n",
      "Starting to extract posture\n"
     ]
    },
    {
     "name": "stderr",
     "output_type": "stream",
     "text": [
      "450it [00:19, 20.51it/s]                                                                                               "
     ]
    },
    {
     "name": "stdout",
     "output_type": "stream",
     "text": [
      "Detected frames:  446\n"
     ]
    },
    {
     "name": "stderr",
     "output_type": "stream",
     "text": [
      "450it [00:19, 22.93it/s]\n"
     ]
    },
    {
     "name": "stdout",
     "output_type": "stream",
     "text": [
      "Saving results in F:\\videos\\ar41motor\\2022_07_29...\n",
      "Saving csv poses!\n",
      "Starting to analyze %  F:\\videos\\ar41motor\\2022_07_29\\Mirror116R.avi\n",
      "F:\\videos\\ar41motor\\2022_07_29  already exists!\n",
      "Loading  F:\\videos\\ar41motor\\2022_07_29\\Mirror116R.avi\n",
      "Duration of video [s]:  12.35 , recorded with  40.0 fps!\n",
      "Overall # of frames:  494  found with (before cropping) frame dimensions:  314 700\n",
      "Starting to extract posture\n"
     ]
    },
    {
     "name": "stderr",
     "output_type": "stream",
     "text": [
      "500it [00:21, 21.90it/s]                                                                                               "
     ]
    },
    {
     "name": "stdout",
     "output_type": "stream",
     "text": [
      "Detected frames:  494\n"
     ]
    },
    {
     "name": "stderr",
     "output_type": "stream",
     "text": [
      "500it [00:21, 23.23it/s]\n"
     ]
    },
    {
     "name": "stdout",
     "output_type": "stream",
     "text": [
      "Saving results in F:\\videos\\ar41motor\\2022_07_29...\n",
      "Saving csv poses!\n",
      "Starting to analyze %  F:\\videos\\ar41motor\\2022_07_29\\Mirror117R.avi\n",
      "F:\\videos\\ar41motor\\2022_07_29  already exists!\n",
      "Loading  F:\\videos\\ar41motor\\2022_07_29\\Mirror117R.avi\n",
      "Duration of video [s]:  12.5 , recorded with  40.0 fps!\n",
      "Overall # of frames:  500  found with (before cropping) frame dimensions:  314 700\n",
      "Starting to extract posture\n"
     ]
    },
    {
     "name": "stderr",
     "output_type": "stream",
     "text": [
      "510it [00:21, 23.84it/s]                                                                                               "
     ]
    },
    {
     "name": "stdout",
     "output_type": "stream",
     "text": [
      "Detected frames:  500\n"
     ]
    },
    {
     "name": "stderr",
     "output_type": "stream",
     "text": [
      "510it [00:22, 22.82it/s]\n"
     ]
    },
    {
     "name": "stdout",
     "output_type": "stream",
     "text": [
      "Saving results in F:\\videos\\ar41motor\\2022_07_29...\n",
      "Saving csv poses!\n",
      "Starting to analyze %  F:\\videos\\ar41motor\\2022_07_29\\Mirror118R.avi\n",
      "F:\\videos\\ar41motor\\2022_07_29  already exists!\n",
      "Loading  F:\\videos\\ar41motor\\2022_07_29\\Mirror118R.avi\n",
      "Duration of video [s]:  9.53 , recorded with  40.0 fps!\n",
      "Overall # of frames:  381  found with (before cropping) frame dimensions:  314 700\n",
      "Starting to extract posture\n"
     ]
    },
    {
     "name": "stderr",
     "output_type": "stream",
     "text": [
      "390it [00:16, 23.28it/s]                                                                                               "
     ]
    },
    {
     "name": "stdout",
     "output_type": "stream",
     "text": [
      "Detected frames:  381\n"
     ]
    },
    {
     "name": "stderr",
     "output_type": "stream",
     "text": [
      "390it [00:16, 23.10it/s]\n"
     ]
    },
    {
     "name": "stdout",
     "output_type": "stream",
     "text": [
      "Saving results in F:\\videos\\ar41motor\\2022_07_29...\n",
      "Saving csv poses!\n",
      "Starting to analyze %  F:\\videos\\ar41motor\\2022_07_29\\Mirror119R.avi\n",
      "F:\\videos\\ar41motor\\2022_07_29  already exists!\n",
      "Loading  F:\\videos\\ar41motor\\2022_07_29\\Mirror119R.avi\n",
      "Duration of video [s]:  12.5 , recorded with  40.0 fps!\n",
      "Overall # of frames:  500  found with (before cropping) frame dimensions:  314 700\n",
      "Starting to extract posture\n"
     ]
    },
    {
     "name": "stderr",
     "output_type": "stream",
     "text": [
      "510it [00:21, 24.02it/s]                                                                                               "
     ]
    },
    {
     "name": "stdout",
     "output_type": "stream",
     "text": [
      "Detected frames:  500\n"
     ]
    },
    {
     "name": "stderr",
     "output_type": "stream",
     "text": [
      "510it [00:21, 23.32it/s]\n"
     ]
    },
    {
     "name": "stdout",
     "output_type": "stream",
     "text": [
      "Saving results in F:\\videos\\ar41motor\\2022_07_29...\n",
      "Saving csv poses!\n",
      "Starting to analyze %  F:\\videos\\ar41motor\\2022_07_29\\Mirror11R.avi\n",
      "F:\\videos\\ar41motor\\2022_07_29  already exists!\n",
      "Loading  F:\\videos\\ar41motor\\2022_07_29\\Mirror11R.avi\n",
      "Duration of video [s]:  9.07 , recorded with  40.0 fps!\n",
      "Overall # of frames:  363  found with (before cropping) frame dimensions:  314 700\n",
      "Starting to extract posture\n"
     ]
    },
    {
     "name": "stderr",
     "output_type": "stream",
     "text": [
      "370it [00:15, 19.55it/s]                                                                                               "
     ]
    },
    {
     "name": "stdout",
     "output_type": "stream",
     "text": [
      "Detected frames:  363\n"
     ]
    },
    {
     "name": "stderr",
     "output_type": "stream",
     "text": [
      "370it [00:16, 22.71it/s]\n"
     ]
    },
    {
     "name": "stdout",
     "output_type": "stream",
     "text": [
      "Saving results in F:\\videos\\ar41motor\\2022_07_29...\n",
      "Saving csv poses!\n",
      "Starting to analyze %  F:\\videos\\ar41motor\\2022_07_29\\Mirror120R.avi\n",
      "F:\\videos\\ar41motor\\2022_07_29  already exists!\n",
      "Loading  F:\\videos\\ar41motor\\2022_07_29\\Mirror120R.avi\n",
      "Duration of video [s]:  12.47 , recorded with  40.0 fps!\n",
      "Overall # of frames:  499  found with (before cropping) frame dimensions:  314 700\n",
      "Starting to extract posture\n"
     ]
    },
    {
     "name": "stderr",
     "output_type": "stream",
     "text": [
      "500it [00:21, 22.54it/s]                                                                                               "
     ]
    },
    {
     "name": "stdout",
     "output_type": "stream",
     "text": [
      "Detected frames:  499\n"
     ]
    },
    {
     "name": "stderr",
     "output_type": "stream",
     "text": [
      "500it [00:22, 22.26it/s]\n"
     ]
    },
    {
     "name": "stdout",
     "output_type": "stream",
     "text": [
      "Saving results in F:\\videos\\ar41motor\\2022_07_29...\n",
      "Saving csv poses!\n",
      "Starting to analyze %  F:\\videos\\ar41motor\\2022_07_29\\Mirror121R.avi\n",
      "F:\\videos\\ar41motor\\2022_07_29  already exists!\n",
      "Loading  F:\\videos\\ar41motor\\2022_07_29\\Mirror121R.avi\n",
      "Duration of video [s]:  12.5 , recorded with  40.0 fps!\n",
      "Overall # of frames:  500  found with (before cropping) frame dimensions:  314 700\n",
      "Starting to extract posture\n"
     ]
    },
    {
     "name": "stderr",
     "output_type": "stream",
     "text": [
      "510it [00:21, 23.62it/s]                                                                                               "
     ]
    },
    {
     "name": "stdout",
     "output_type": "stream",
     "text": [
      "Detected frames:  500\n"
     ]
    },
    {
     "name": "stderr",
     "output_type": "stream",
     "text": [
      "510it [00:22, 23.07it/s]\n"
     ]
    },
    {
     "name": "stdout",
     "output_type": "stream",
     "text": [
      "Saving results in F:\\videos\\ar41motor\\2022_07_29...\n",
      "Saving csv poses!\n",
      "Starting to analyze %  F:\\videos\\ar41motor\\2022_07_29\\Mirror122R.avi\n",
      "F:\\videos\\ar41motor\\2022_07_29  already exists!\n",
      "Loading  F:\\videos\\ar41motor\\2022_07_29\\Mirror122R.avi\n",
      "Duration of video [s]:  12.5 , recorded with  40.0 fps!\n",
      "Overall # of frames:  500  found with (before cropping) frame dimensions:  314 700\n",
      "Starting to extract posture\n"
     ]
    },
    {
     "name": "stderr",
     "output_type": "stream",
     "text": [
      "510it [00:22, 24.25it/s]                                                                                               "
     ]
    },
    {
     "name": "stdout",
     "output_type": "stream",
     "text": [
      "Detected frames:  500\n"
     ]
    },
    {
     "name": "stderr",
     "output_type": "stream",
     "text": [
      "510it [00:23, 21.90it/s]\n"
     ]
    },
    {
     "name": "stdout",
     "output_type": "stream",
     "text": [
      "Saving results in F:\\videos\\ar41motor\\2022_07_29...\n",
      "Saving csv poses!\n",
      "Starting to analyze %  F:\\videos\\ar41motor\\2022_07_29\\Mirror123R.avi\n",
      "F:\\videos\\ar41motor\\2022_07_29  already exists!\n",
      "Loading  F:\\videos\\ar41motor\\2022_07_29\\Mirror123R.avi\n",
      "Duration of video [s]:  12.47 , recorded with  40.0 fps!\n",
      "Overall # of frames:  499  found with (before cropping) frame dimensions:  314 700\n",
      "Starting to extract posture\n"
     ]
    },
    {
     "name": "stderr",
     "output_type": "stream",
     "text": [
      "500it [00:22, 22.09it/s]                                                                                               "
     ]
    },
    {
     "name": "stdout",
     "output_type": "stream",
     "text": [
      "Detected frames:  499\n"
     ]
    },
    {
     "name": "stderr",
     "output_type": "stream",
     "text": [
      "500it [00:22, 21.80it/s]\n"
     ]
    },
    {
     "name": "stdout",
     "output_type": "stream",
     "text": [
      "Saving results in F:\\videos\\ar41motor\\2022_07_29...\n",
      "Saving csv poses!\n",
      "Starting to analyze %  F:\\videos\\ar41motor\\2022_07_29\\Mirror124R.avi\n",
      "F:\\videos\\ar41motor\\2022_07_29  already exists!\n",
      "Loading  F:\\videos\\ar41motor\\2022_07_29\\Mirror124R.avi\n",
      "Duration of video [s]:  4.3 , recorded with  40.0 fps!\n",
      "Overall # of frames:  172  found with (before cropping) frame dimensions:  314 700\n",
      "Starting to extract posture\n"
     ]
    },
    {
     "name": "stderr",
     "output_type": "stream",
     "text": [
      "180it [00:07, 21.88it/s]                                                                                               "
     ]
    },
    {
     "name": "stdout",
     "output_type": "stream",
     "text": [
      "Detected frames:  172\n"
     ]
    },
    {
     "name": "stderr",
     "output_type": "stream",
     "text": [
      "180it [00:07, 23.21it/s]\n"
     ]
    },
    {
     "name": "stdout",
     "output_type": "stream",
     "text": [
      "Saving results in F:\\videos\\ar41motor\\2022_07_29...\n",
      "Saving csv poses!\n",
      "Starting to analyze %  F:\\videos\\ar41motor\\2022_07_29\\Mirror125R.avi\n",
      "F:\\videos\\ar41motor\\2022_07_29  already exists!\n",
      "Loading  F:\\videos\\ar41motor\\2022_07_29\\Mirror125R.avi\n",
      "Duration of video [s]:  3.65 , recorded with  40.0 fps!\n",
      "Overall # of frames:  146  found with (before cropping) frame dimensions:  314 700\n",
      "Starting to extract posture\n"
     ]
    },
    {
     "name": "stderr",
     "output_type": "stream",
     "text": [
      "150it [00:06, 23.82it/s]                                                                                               "
     ]
    },
    {
     "name": "stdout",
     "output_type": "stream",
     "text": [
      "Detected frames:  146\n"
     ]
    },
    {
     "name": "stderr",
     "output_type": "stream",
     "text": [
      "150it [00:06, 22.37it/s]\n"
     ]
    },
    {
     "name": "stdout",
     "output_type": "stream",
     "text": [
      "Saving results in F:\\videos\\ar41motor\\2022_07_29...\n",
      "Saving csv poses!\n",
      "Starting to analyze %  F:\\videos\\ar41motor\\2022_07_29\\Mirror126R.avi\n",
      "F:\\videos\\ar41motor\\2022_07_29  already exists!\n",
      "Loading  F:\\videos\\ar41motor\\2022_07_29\\Mirror126R.avi\n",
      "Duration of video [s]:  12.38 , recorded with  40.0 fps!\n",
      "Overall # of frames:  495  found with (before cropping) frame dimensions:  314 700\n",
      "Starting to extract posture\n"
     ]
    },
    {
     "name": "stderr",
     "output_type": "stream",
     "text": [
      "500it [00:21, 22.51it/s]                                                                                               "
     ]
    },
    {
     "name": "stdout",
     "output_type": "stream",
     "text": [
      "Detected frames:  495\n"
     ]
    },
    {
     "name": "stderr",
     "output_type": "stream",
     "text": [
      "500it [00:21, 23.31it/s]\n"
     ]
    },
    {
     "name": "stdout",
     "output_type": "stream",
     "text": [
      "Saving results in F:\\videos\\ar41motor\\2022_07_29...\n",
      "Saving csv poses!\n",
      "Starting to analyze %  F:\\videos\\ar41motor\\2022_07_29\\Mirror127R.avi\n",
      "F:\\videos\\ar41motor\\2022_07_29  already exists!\n",
      "Loading  F:\\videos\\ar41motor\\2022_07_29\\Mirror127R.avi\n",
      "Duration of video [s]:  8.55 , recorded with  40.0 fps!\n",
      "Overall # of frames:  342  found with (before cropping) frame dimensions:  314 700\n",
      "Starting to extract posture\n"
     ]
    },
    {
     "name": "stderr",
     "output_type": "stream",
     "text": [
      "350it [00:14, 23.17it/s]                                                                                               "
     ]
    },
    {
     "name": "stdout",
     "output_type": "stream",
     "text": [
      "Detected frames:  342\n"
     ]
    },
    {
     "name": "stderr",
     "output_type": "stream",
     "text": [
      "350it [00:15, 23.14it/s]\n"
     ]
    },
    {
     "name": "stdout",
     "output_type": "stream",
     "text": [
      "Saving results in F:\\videos\\ar41motor\\2022_07_29...\n",
      "Saving csv poses!\n",
      "Starting to analyze %  F:\\videos\\ar41motor\\2022_07_29\\Mirror128R.avi\n",
      "F:\\videos\\ar41motor\\2022_07_29  already exists!\n",
      "Loading  F:\\videos\\ar41motor\\2022_07_29\\Mirror128R.avi\n",
      "Duration of video [s]:  9.38 , recorded with  40.0 fps!\n",
      "Overall # of frames:  375  found with (before cropping) frame dimensions:  314 700\n",
      "Starting to extract posture\n"
     ]
    },
    {
     "name": "stderr",
     "output_type": "stream",
     "text": [
      "380it [00:16, 21.67it/s]                                                                                               "
     ]
    },
    {
     "name": "stdout",
     "output_type": "stream",
     "text": [
      "Detected frames:  375\n"
     ]
    },
    {
     "name": "stderr",
     "output_type": "stream",
     "text": [
      "380it [00:16, 23.04it/s]\n"
     ]
    },
    {
     "name": "stdout",
     "output_type": "stream",
     "text": [
      "Saving results in F:\\videos\\ar41motor\\2022_07_29...\n",
      "Saving csv poses!\n",
      "Starting to analyze %  F:\\videos\\ar41motor\\2022_07_29\\Mirror129R.avi\n",
      "F:\\videos\\ar41motor\\2022_07_29  already exists!\n",
      "Loading  F:\\videos\\ar41motor\\2022_07_29\\Mirror129R.avi\n",
      "Duration of video [s]:  12.5 , recorded with  40.0 fps!\n",
      "Overall # of frames:  500  found with (before cropping) frame dimensions:  314 700\n",
      "Starting to extract posture\n"
     ]
    },
    {
     "name": "stderr",
     "output_type": "stream",
     "text": [
      "510it [00:21, 24.21it/s]                                                                                               "
     ]
    },
    {
     "name": "stdout",
     "output_type": "stream",
     "text": [
      "Detected frames:  500\n"
     ]
    },
    {
     "name": "stderr",
     "output_type": "stream",
     "text": [
      "510it [00:22, 22.89it/s]\n"
     ]
    },
    {
     "name": "stdout",
     "output_type": "stream",
     "text": [
      "Saving results in F:\\videos\\ar41motor\\2022_07_29...\n",
      "Saving csv poses!\n",
      "Starting to analyze %  F:\\videos\\ar41motor\\2022_07_29\\Mirror12R.avi\n",
      "F:\\videos\\ar41motor\\2022_07_29  already exists!\n",
      "Loading  F:\\videos\\ar41motor\\2022_07_29\\Mirror12R.avi\n",
      "Duration of video [s]:  6.67 , recorded with  40.0 fps!\n",
      "Overall # of frames:  267  found with (before cropping) frame dimensions:  314 700\n",
      "Starting to extract posture\n"
     ]
    },
    {
     "name": "stderr",
     "output_type": "stream",
     "text": [
      "270it [00:11, 23.30it/s]                                                                                               "
     ]
    },
    {
     "name": "stdout",
     "output_type": "stream",
     "text": [
      "Detected frames:  267\n"
     ]
    },
    {
     "name": "stderr",
     "output_type": "stream",
     "text": [
      "270it [00:12, 22.31it/s]\n"
     ]
    },
    {
     "name": "stdout",
     "output_type": "stream",
     "text": [
      "Saving results in F:\\videos\\ar41motor\\2022_07_29...\n",
      "Saving csv poses!\n",
      "Starting to analyze %  F:\\videos\\ar41motor\\2022_07_29\\Mirror130R.avi\n",
      "F:\\videos\\ar41motor\\2022_07_29  already exists!\n",
      "Loading  F:\\videos\\ar41motor\\2022_07_29\\Mirror130R.avi\n",
      "Duration of video [s]:  12.5 , recorded with  40.0 fps!\n",
      "Overall # of frames:  500  found with (before cropping) frame dimensions:  314 700\n",
      "Starting to extract posture\n"
     ]
    },
    {
     "name": "stderr",
     "output_type": "stream",
     "text": [
      "510it [00:21, 22.88it/s]                                                                                               "
     ]
    },
    {
     "name": "stdout",
     "output_type": "stream",
     "text": [
      "Detected frames:  500\n"
     ]
    },
    {
     "name": "stderr",
     "output_type": "stream",
     "text": [
      "510it [00:22, 22.99it/s]\n"
     ]
    },
    {
     "name": "stdout",
     "output_type": "stream",
     "text": [
      "Saving results in F:\\videos\\ar41motor\\2022_07_29...\n",
      "Saving csv poses!\n",
      "Starting to analyze %  F:\\videos\\ar41motor\\2022_07_29\\Mirror131R.avi\n",
      "F:\\videos\\ar41motor\\2022_07_29  already exists!\n",
      "Loading  F:\\videos\\ar41motor\\2022_07_29\\Mirror131R.avi\n",
      "Duration of video [s]:  9.28 , recorded with  40.0 fps!\n",
      "Overall # of frames:  371  found with (before cropping) frame dimensions:  314 700\n",
      "Starting to extract posture\n"
     ]
    },
    {
     "name": "stderr",
     "output_type": "stream",
     "text": [
      "380it [00:16, 21.90it/s]                                                                                               "
     ]
    },
    {
     "name": "stdout",
     "output_type": "stream",
     "text": [
      "Detected frames:  371\n"
     ]
    },
    {
     "name": "stderr",
     "output_type": "stream",
     "text": [
      "380it [00:16, 23.13it/s]\n"
     ]
    },
    {
     "name": "stdout",
     "output_type": "stream",
     "text": [
      "Saving results in F:\\videos\\ar41motor\\2022_07_29...\n",
      "Saving csv poses!\n",
      "Starting to analyze %  F:\\videos\\ar41motor\\2022_07_29\\Mirror132R.avi\n",
      "F:\\videos\\ar41motor\\2022_07_29  already exists!\n",
      "Loading  F:\\videos\\ar41motor\\2022_07_29\\Mirror132R.avi\n",
      "Duration of video [s]:  12.5 , recorded with  40.0 fps!\n",
      "Overall # of frames:  500  found with (before cropping) frame dimensions:  314 700\n",
      "Starting to extract posture\n"
     ]
    },
    {
     "name": "stderr",
     "output_type": "stream",
     "text": [
      "510it [00:21, 24.08it/s]                                                                                               "
     ]
    },
    {
     "name": "stdout",
     "output_type": "stream",
     "text": [
      "Detected frames:  500\n"
     ]
    },
    {
     "name": "stderr",
     "output_type": "stream",
     "text": [
      "510it [00:22, 23.04it/s]\n"
     ]
    },
    {
     "name": "stdout",
     "output_type": "stream",
     "text": [
      "Saving results in F:\\videos\\ar41motor\\2022_07_29...\n",
      "Saving csv poses!\n",
      "Starting to analyze %  F:\\videos\\ar41motor\\2022_07_29\\Mirror133R.avi\n",
      "F:\\videos\\ar41motor\\2022_07_29  already exists!\n",
      "Loading  F:\\videos\\ar41motor\\2022_07_29\\Mirror133R.avi\n",
      "Duration of video [s]:  12.38 , recorded with  40.0 fps!\n",
      "Overall # of frames:  495  found with (before cropping) frame dimensions:  314 700\n",
      "Starting to extract posture\n"
     ]
    },
    {
     "name": "stderr",
     "output_type": "stream",
     "text": [
      "500it [00:21, 22.15it/s]                                                                                               "
     ]
    },
    {
     "name": "stdout",
     "output_type": "stream",
     "text": [
      "Detected frames:  495\n"
     ]
    },
    {
     "name": "stderr",
     "output_type": "stream",
     "text": [
      "500it [00:21, 23.13it/s]\n"
     ]
    },
    {
     "name": "stdout",
     "output_type": "stream",
     "text": [
      "Saving results in F:\\videos\\ar41motor\\2022_07_29...\n",
      "Saving csv poses!\n",
      "Starting to analyze %  F:\\videos\\ar41motor\\2022_07_29\\Mirror134R.avi\n",
      "F:\\videos\\ar41motor\\2022_07_29  already exists!\n",
      "Loading  F:\\videos\\ar41motor\\2022_07_29\\Mirror134R.avi\n",
      "Duration of video [s]:  12.5 , recorded with  40.0 fps!\n",
      "Overall # of frames:  500  found with (before cropping) frame dimensions:  314 700\n",
      "Starting to extract posture\n"
     ]
    },
    {
     "name": "stderr",
     "output_type": "stream",
     "text": [
      "510it [00:21, 24.47it/s]                                                                                               "
     ]
    },
    {
     "name": "stdout",
     "output_type": "stream",
     "text": [
      "Detected frames:  500\n"
     ]
    },
    {
     "name": "stderr",
     "output_type": "stream",
     "text": [
      "510it [00:21, 23.21it/s]\n"
     ]
    },
    {
     "name": "stdout",
     "output_type": "stream",
     "text": [
      "Saving results in F:\\videos\\ar41motor\\2022_07_29...\n",
      "Saving csv poses!\n",
      "Starting to analyze %  F:\\videos\\ar41motor\\2022_07_29\\Mirror135R.avi\n",
      "F:\\videos\\ar41motor\\2022_07_29  already exists!\n",
      "Loading  F:\\videos\\ar41motor\\2022_07_29\\Mirror135R.avi\n",
      "Duration of video [s]:  12.5 , recorded with  40.0 fps!\n",
      "Overall # of frames:  500  found with (before cropping) frame dimensions:  314 700\n",
      "Starting to extract posture\n"
     ]
    },
    {
     "name": "stderr",
     "output_type": "stream",
     "text": [
      "510it [00:21, 24.25it/s]                                                                                               "
     ]
    },
    {
     "name": "stdout",
     "output_type": "stream",
     "text": [
      "Detected frames:  500\n"
     ]
    },
    {
     "name": "stderr",
     "output_type": "stream",
     "text": [
      "510it [00:22, 22.84it/s]\n"
     ]
    },
    {
     "name": "stdout",
     "output_type": "stream",
     "text": [
      "Saving results in F:\\videos\\ar41motor\\2022_07_29...\n",
      "Saving csv poses!\n",
      "Starting to analyze %  F:\\videos\\ar41motor\\2022_07_29\\Mirror136R.avi\n",
      "F:\\videos\\ar41motor\\2022_07_29  already exists!\n",
      "Loading  F:\\videos\\ar41motor\\2022_07_29\\Mirror136R.avi\n",
      "Duration of video [s]:  12.05 , recorded with  40.0 fps!\n",
      "Overall # of frames:  482  found with (before cropping) frame dimensions:  314 700\n",
      "Starting to extract posture\n"
     ]
    },
    {
     "name": "stderr",
     "output_type": "stream",
     "text": [
      "490it [00:21, 20.40it/s]                                                                                               "
     ]
    },
    {
     "name": "stdout",
     "output_type": "stream",
     "text": [
      "Detected frames:  482\n"
     ]
    },
    {
     "name": "stderr",
     "output_type": "stream",
     "text": [
      "490it [00:21, 22.83it/s]\n"
     ]
    },
    {
     "name": "stdout",
     "output_type": "stream",
     "text": [
      "Saving results in F:\\videos\\ar41motor\\2022_07_29...\n",
      "Saving csv poses!\n",
      "Starting to analyze %  F:\\videos\\ar41motor\\2022_07_29\\Mirror137R.avi\n",
      "F:\\videos\\ar41motor\\2022_07_29  already exists!\n",
      "Loading  F:\\videos\\ar41motor\\2022_07_29\\Mirror137R.avi\n",
      "Duration of video [s]:  12.5 , recorded with  40.0 fps!\n",
      "Overall # of frames:  500  found with (before cropping) frame dimensions:  314 700\n",
      "Starting to extract posture\n"
     ]
    },
    {
     "name": "stderr",
     "output_type": "stream",
     "text": [
      "510it [00:21, 23.52it/s]                                                                                               "
     ]
    },
    {
     "name": "stdout",
     "output_type": "stream",
     "text": [
      "Detected frames:  500\n"
     ]
    },
    {
     "name": "stderr",
     "output_type": "stream",
     "text": [
      "510it [00:22, 23.11it/s]\n"
     ]
    },
    {
     "name": "stdout",
     "output_type": "stream",
     "text": [
      "Saving results in F:\\videos\\ar41motor\\2022_07_29...\n",
      "Saving csv poses!\n",
      "Starting to analyze %  F:\\videos\\ar41motor\\2022_07_29\\Mirror138R.avi\n",
      "F:\\videos\\ar41motor\\2022_07_29  already exists!\n",
      "Loading  F:\\videos\\ar41motor\\2022_07_29\\Mirror138R.avi\n",
      "Duration of video [s]:  6.65 , recorded with  40.0 fps!\n",
      "Overall # of frames:  266  found with (before cropping) frame dimensions:  314 700\n",
      "Starting to extract posture\n"
     ]
    },
    {
     "name": "stderr",
     "output_type": "stream",
     "text": [
      "270it [00:11, 23.19it/s]                                                                                               "
     ]
    },
    {
     "name": "stdout",
     "output_type": "stream",
     "text": [
      "Detected frames:  266\n"
     ]
    },
    {
     "name": "stderr",
     "output_type": "stream",
     "text": [
      "270it [00:11, 22.63it/s]\n"
     ]
    },
    {
     "name": "stdout",
     "output_type": "stream",
     "text": [
      "Saving results in F:\\videos\\ar41motor\\2022_07_29...\n",
      "Saving csv poses!\n",
      "Starting to analyze %  F:\\videos\\ar41motor\\2022_07_29\\Mirror139R.avi\n",
      "F:\\videos\\ar41motor\\2022_07_29  already exists!\n",
      "Loading  F:\\videos\\ar41motor\\2022_07_29\\Mirror139R.avi\n",
      "Duration of video [s]:  11.97 , recorded with  40.0 fps!\n",
      "Overall # of frames:  479  found with (before cropping) frame dimensions:  314 700\n",
      "Starting to extract posture\n"
     ]
    },
    {
     "name": "stderr",
     "output_type": "stream",
     "text": [
      "480it [00:20, 24.89it/s]                                                                                               "
     ]
    },
    {
     "name": "stdout",
     "output_type": "stream",
     "text": [
      "Detected frames:  479\n"
     ]
    },
    {
     "name": "stderr",
     "output_type": "stream",
     "text": [
      "480it [00:21, 22.77it/s]\n"
     ]
    },
    {
     "name": "stdout",
     "output_type": "stream",
     "text": [
      "Saving results in F:\\videos\\ar41motor\\2022_07_29...\n",
      "Saving csv poses!\n",
      "Starting to analyze %  F:\\videos\\ar41motor\\2022_07_29\\Mirror13R.avi\n",
      "F:\\videos\\ar41motor\\2022_07_29  already exists!\n",
      "Loading  F:\\videos\\ar41motor\\2022_07_29\\Mirror13R.avi\n",
      "Duration of video [s]:  6.22 , recorded with  40.0 fps!\n",
      "Overall # of frames:  249  found with (before cropping) frame dimensions:  314 700\n",
      "Starting to extract posture\n"
     ]
    },
    {
     "name": "stderr",
     "output_type": "stream",
     "text": [
      "250it [00:10, 20.22it/s]                                                                                               "
     ]
    },
    {
     "name": "stdout",
     "output_type": "stream",
     "text": [
      "Detected frames:  249\n"
     ]
    },
    {
     "name": "stderr",
     "output_type": "stream",
     "text": [
      "250it [00:11, 22.06it/s]\n"
     ]
    },
    {
     "name": "stdout",
     "output_type": "stream",
     "text": [
      "Saving results in F:\\videos\\ar41motor\\2022_07_29...\n",
      "Saving csv poses!\n",
      "Starting to analyze %  F:\\videos\\ar41motor\\2022_07_29\\Mirror140R.avi\n",
      "F:\\videos\\ar41motor\\2022_07_29  already exists!\n",
      "Loading  F:\\videos\\ar41motor\\2022_07_29\\Mirror140R.avi\n",
      "Duration of video [s]:  8.68 , recorded with  40.0 fps!\n",
      "Overall # of frames:  347  found with (before cropping) frame dimensions:  314 700\n",
      "Starting to extract posture\n"
     ]
    },
    {
     "name": "stderr",
     "output_type": "stream",
     "text": [
      "350it [00:14, 23.26it/s]                                                                                               "
     ]
    },
    {
     "name": "stdout",
     "output_type": "stream",
     "text": [
      "Detected frames:  347\n"
     ]
    },
    {
     "name": "stderr",
     "output_type": "stream",
     "text": [
      "350it [00:15, 22.69it/s]\n"
     ]
    },
    {
     "name": "stdout",
     "output_type": "stream",
     "text": [
      "Saving results in F:\\videos\\ar41motor\\2022_07_29...\n",
      "Saving csv poses!\n",
      "Starting to analyze %  F:\\videos\\ar41motor\\2022_07_29\\Mirror141R.avi\n",
      "F:\\videos\\ar41motor\\2022_07_29  already exists!\n",
      "Loading  F:\\videos\\ar41motor\\2022_07_29\\Mirror141R.avi\n",
      "Duration of video [s]:  12.5 , recorded with  40.0 fps!\n",
      "Overall # of frames:  500  found with (before cropping) frame dimensions:  314 700\n",
      "Starting to extract posture\n"
     ]
    },
    {
     "name": "stderr",
     "output_type": "stream",
     "text": [
      "510it [00:21, 23.44it/s]                                                                                               "
     ]
    },
    {
     "name": "stdout",
     "output_type": "stream",
     "text": [
      "Detected frames:  500\n"
     ]
    },
    {
     "name": "stderr",
     "output_type": "stream",
     "text": [
      "510it [00:21, 23.37it/s]\n"
     ]
    },
    {
     "name": "stdout",
     "output_type": "stream",
     "text": [
      "Saving results in F:\\videos\\ar41motor\\2022_07_29...\n",
      "Saving csv poses!\n",
      "Starting to analyze %  F:\\videos\\ar41motor\\2022_07_29\\Mirror142R.avi\n",
      "F:\\videos\\ar41motor\\2022_07_29  already exists!\n",
      "Loading  F:\\videos\\ar41motor\\2022_07_29\\Mirror142R.avi\n",
      "Duration of video [s]:  12.5 , recorded with  40.0 fps!\n",
      "Overall # of frames:  500  found with (before cropping) frame dimensions:  314 700\n",
      "Starting to extract posture\n"
     ]
    },
    {
     "name": "stderr",
     "output_type": "stream",
     "text": [
      "510it [00:21, 23.63it/s]                                                                                               "
     ]
    },
    {
     "name": "stdout",
     "output_type": "stream",
     "text": [
      "Detected frames:  500\n"
     ]
    },
    {
     "name": "stderr",
     "output_type": "stream",
     "text": [
      "510it [00:22, 22.94it/s]\n"
     ]
    },
    {
     "name": "stdout",
     "output_type": "stream",
     "text": [
      "Saving results in F:\\videos\\ar41motor\\2022_07_29...\n",
      "Saving csv poses!\n",
      "Starting to analyze %  F:\\videos\\ar41motor\\2022_07_29\\Mirror143R.avi\n",
      "F:\\videos\\ar41motor\\2022_07_29  already exists!\n",
      "Loading  F:\\videos\\ar41motor\\2022_07_29\\Mirror143R.avi\n",
      "Duration of video [s]:  12.28 , recorded with  40.0 fps!\n",
      "Overall # of frames:  491  found with (before cropping) frame dimensions:  314 700\n",
      "Starting to extract posture\n"
     ]
    },
    {
     "name": "stderr",
     "output_type": "stream",
     "text": [
      "500it [00:21, 22.45it/s]                                                                                               "
     ]
    },
    {
     "name": "stdout",
     "output_type": "stream",
     "text": [
      "Detected frames:  491\n"
     ]
    },
    {
     "name": "stderr",
     "output_type": "stream",
     "text": [
      "500it [00:21, 22.81it/s]\n"
     ]
    },
    {
     "name": "stdout",
     "output_type": "stream",
     "text": [
      "Saving results in F:\\videos\\ar41motor\\2022_07_29...\n",
      "Saving csv poses!\n",
      "Starting to analyze %  F:\\videos\\ar41motor\\2022_07_29\\Mirror144R.avi\n",
      "F:\\videos\\ar41motor\\2022_07_29  already exists!\n",
      "Loading  F:\\videos\\ar41motor\\2022_07_29\\Mirror144R.avi\n",
      "Duration of video [s]:  9.65 , recorded with  40.0 fps!\n",
      "Overall # of frames:  386  found with (before cropping) frame dimensions:  314 700\n",
      "Starting to extract posture\n"
     ]
    },
    {
     "name": "stderr",
     "output_type": "stream",
     "text": [
      "390it [00:16, 23.39it/s]                                                                                               "
     ]
    },
    {
     "name": "stdout",
     "output_type": "stream",
     "text": [
      "Detected frames:  386\n"
     ]
    },
    {
     "name": "stderr",
     "output_type": "stream",
     "text": [
      "390it [00:17, 22.62it/s]\n"
     ]
    },
    {
     "name": "stdout",
     "output_type": "stream",
     "text": [
      "Saving results in F:\\videos\\ar41motor\\2022_07_29...\n",
      "Saving csv poses!\n",
      "Starting to analyze %  F:\\videos\\ar41motor\\2022_07_29\\Mirror145R.avi\n",
      "F:\\videos\\ar41motor\\2022_07_29  already exists!\n",
      "Loading  F:\\videos\\ar41motor\\2022_07_29\\Mirror145R.avi\n",
      "Duration of video [s]:  12.47 , recorded with  40.0 fps!\n",
      "Overall # of frames:  499  found with (before cropping) frame dimensions:  314 700\n",
      "Starting to extract posture\n"
     ]
    },
    {
     "name": "stderr",
     "output_type": "stream",
     "text": [
      "500it [00:21, 22.32it/s]                                                                                               "
     ]
    },
    {
     "name": "stdout",
     "output_type": "stream",
     "text": [
      "Detected frames:  499\n"
     ]
    },
    {
     "name": "stderr",
     "output_type": "stream",
     "text": [
      "500it [00:22, 22.66it/s]\n"
     ]
    },
    {
     "name": "stdout",
     "output_type": "stream",
     "text": [
      "Saving results in F:\\videos\\ar41motor\\2022_07_29...\n",
      "Saving csv poses!\n",
      "Starting to analyze %  F:\\videos\\ar41motor\\2022_07_29\\Mirror146R.avi\n",
      "F:\\videos\\ar41motor\\2022_07_29  already exists!\n",
      "Loading  F:\\videos\\ar41motor\\2022_07_29\\Mirror146R.avi\n",
      "Duration of video [s]:  5.65 , recorded with  40.0 fps!\n",
      "Overall # of frames:  226  found with (before cropping) frame dimensions:  314 700\n",
      "Starting to extract posture\n"
     ]
    },
    {
     "name": "stderr",
     "output_type": "stream",
     "text": [
      "230it [00:09, 23.55it/s]                                                                                               "
     ]
    },
    {
     "name": "stdout",
     "output_type": "stream",
     "text": [
      "Detected frames:  226\n"
     ]
    },
    {
     "name": "stderr",
     "output_type": "stream",
     "text": [
      "230it [00:10, 22.72it/s]\n"
     ]
    },
    {
     "name": "stdout",
     "output_type": "stream",
     "text": [
      "Saving results in F:\\videos\\ar41motor\\2022_07_29...\n",
      "Saving csv poses!\n",
      "Starting to analyze %  F:\\videos\\ar41motor\\2022_07_29\\Mirror147R.avi\n",
      "F:\\videos\\ar41motor\\2022_07_29  already exists!\n",
      "Loading  F:\\videos\\ar41motor\\2022_07_29\\Mirror147R.avi\n",
      "Duration of video [s]:  12.47 , recorded with  40.0 fps!\n",
      "Overall # of frames:  499  found with (before cropping) frame dimensions:  314 700\n",
      "Starting to extract posture\n"
     ]
    },
    {
     "name": "stderr",
     "output_type": "stream",
     "text": [
      "500it [00:21, 22.84it/s]                                                                                               "
     ]
    },
    {
     "name": "stdout",
     "output_type": "stream",
     "text": [
      "Detected frames:  499\n"
     ]
    },
    {
     "name": "stderr",
     "output_type": "stream",
     "text": [
      "500it [00:22, 22.66it/s]\n"
     ]
    },
    {
     "name": "stdout",
     "output_type": "stream",
     "text": [
      "Saving results in F:\\videos\\ar41motor\\2022_07_29...\n",
      "Saving csv poses!\n",
      "Starting to analyze %  F:\\videos\\ar41motor\\2022_07_29\\Mirror148RDLC_resnet152_ar30shiwkerSep13shuffle2_100000.csv\n",
      "F:\\videos\\ar41motor\\2022_07_29  already exists!\n",
      "Loading  F:\\videos\\ar41motor\\2022_07_29\\Mirror148RDLC_resnet152_ar30shiwkerSep13shuffle2_100000.csv\n",
      "Starting to analyze %  F:\\videos\\ar41motor\\2022_07_29\\Mirror148RDLC_resnet152_ar30shiwkerSep13shuffle2_100000.h5\n",
      "F:\\videos\\ar41motor\\2022_07_29  already exists!\n",
      "Loading  F:\\videos\\ar41motor\\2022_07_29\\Mirror148RDLC_resnet152_ar30shiwkerSep13shuffle2_100000.h5\n",
      "Starting to analyze %  F:\\videos\\ar41motor\\2022_07_29\\Mirror148RDLC_resnet152_ar30shiwkerSep13shuffle2_100000_meta.pickle\n",
      "F:\\videos\\ar41motor\\2022_07_29  already exists!\n",
      "Loading  F:\\videos\\ar41motor\\2022_07_29\\Mirror148RDLC_resnet152_ar30shiwkerSep13shuffle2_100000_meta.pickle\n",
      "Starting to analyze %  F:\\videos\\ar41motor\\2022_07_29\\Mirror149RDLC_resnet152_ar30shiwkerSep13shuffle2_100000.csv\n",
      "F:\\videos\\ar41motor\\2022_07_29  already exists!\n",
      "Loading  F:\\videos\\ar41motor\\2022_07_29\\Mirror149RDLC_resnet152_ar30shiwkerSep13shuffle2_100000.csv\n",
      "Starting to analyze %  F:\\videos\\ar41motor\\2022_07_29\\Mirror149RDLC_resnet152_ar30shiwkerSep13shuffle2_100000.h5\n",
      "F:\\videos\\ar41motor\\2022_07_29  already exists!\n",
      "Loading  F:\\videos\\ar41motor\\2022_07_29\\Mirror149RDLC_resnet152_ar30shiwkerSep13shuffle2_100000.h5\n",
      "Starting to analyze %  F:\\videos\\ar41motor\\2022_07_29\\Mirror149RDLC_resnet152_ar30shiwkerSep13shuffle2_100000_meta.pickle\n",
      "F:\\videos\\ar41motor\\2022_07_29  already exists!\n",
      "Loading  F:\\videos\\ar41motor\\2022_07_29\\Mirror149RDLC_resnet152_ar30shiwkerSep13shuffle2_100000_meta.pickle\n",
      "Starting to analyze %  F:\\videos\\ar41motor\\2022_07_29\\Mirror14R.avi\n",
      "F:\\videos\\ar41motor\\2022_07_29  already exists!\n",
      "Loading  F:\\videos\\ar41motor\\2022_07_29\\Mirror14R.avi\n",
      "Duration of video [s]:  5.92 , recorded with  40.0 fps!\n",
      "Overall # of frames:  237  found with (before cropping) frame dimensions:  314 700\n",
      "Starting to extract posture\n"
     ]
    },
    {
     "name": "stderr",
     "output_type": "stream",
     "text": [
      "240it [00:09, 25.79it/s]                                                                                               "
     ]
    },
    {
     "name": "stdout",
     "output_type": "stream",
     "text": [
      "Detected frames:  237\n"
     ]
    },
    {
     "name": "stderr",
     "output_type": "stream",
     "text": [
      "240it [00:10, 23.21it/s]\n"
     ]
    },
    {
     "name": "stdout",
     "output_type": "stream",
     "text": [
      "Saving results in F:\\videos\\ar41motor\\2022_07_29...\n",
      "Saving csv poses!\n",
      "Starting to analyze %  F:\\videos\\ar41motor\\2022_07_29\\Mirror150RDLC_resnet152_ar30shiwkerSep13shuffle2_100000.csv\n",
      "F:\\videos\\ar41motor\\2022_07_29  already exists!\n",
      "Loading  F:\\videos\\ar41motor\\2022_07_29\\Mirror150RDLC_resnet152_ar30shiwkerSep13shuffle2_100000.csv\n",
      "Starting to analyze %  F:\\videos\\ar41motor\\2022_07_29\\Mirror150RDLC_resnet152_ar30shiwkerSep13shuffle2_100000.h5\n",
      "F:\\videos\\ar41motor\\2022_07_29  already exists!\n",
      "Loading  F:\\videos\\ar41motor\\2022_07_29\\Mirror150RDLC_resnet152_ar30shiwkerSep13shuffle2_100000.h5\n",
      "Starting to analyze %  F:\\videos\\ar41motor\\2022_07_29\\Mirror150RDLC_resnet152_ar30shiwkerSep13shuffle2_100000_meta.pickle\n",
      "F:\\videos\\ar41motor\\2022_07_29  already exists!\n",
      "Loading  F:\\videos\\ar41motor\\2022_07_29\\Mirror150RDLC_resnet152_ar30shiwkerSep13shuffle2_100000_meta.pickle\n",
      "Starting to analyze %  F:\\videos\\ar41motor\\2022_07_29\\Mirror15R.avi\n",
      "F:\\videos\\ar41motor\\2022_07_29  already exists!\n",
      "Loading  F:\\videos\\ar41motor\\2022_07_29\\Mirror15R.avi\n",
      "Duration of video [s]:  6.38 , recorded with  40.0 fps!\n",
      "Overall # of frames:  255  found with (before cropping) frame dimensions:  314 700\n",
      "Starting to extract posture\n"
     ]
    },
    {
     "name": "stderr",
     "output_type": "stream",
     "text": [
      "260it [00:10, 22.53it/s]                                                                                               "
     ]
    },
    {
     "name": "stdout",
     "output_type": "stream",
     "text": [
      "Detected frames:  255\n"
     ]
    },
    {
     "name": "stderr",
     "output_type": "stream",
     "text": [
      "260it [00:11, 23.47it/s]\n"
     ]
    },
    {
     "name": "stdout",
     "output_type": "stream",
     "text": [
      "Saving results in F:\\videos\\ar41motor\\2022_07_29...\n",
      "Saving csv poses!\n",
      "Starting to analyze %  F:\\videos\\ar41motor\\2022_07_29\\Mirror16R.avi\n",
      "F:\\videos\\ar41motor\\2022_07_29  already exists!\n",
      "Loading  F:\\videos\\ar41motor\\2022_07_29\\Mirror16R.avi\n",
      "Duration of video [s]:  11.53 , recorded with  40.0 fps!\n",
      "Overall # of frames:  461  found with (before cropping) frame dimensions:  314 700\n",
      "Starting to extract posture\n"
     ]
    },
    {
     "name": "stderr",
     "output_type": "stream",
     "text": [
      "470it [00:19, 23.93it/s]                                                                                               "
     ]
    },
    {
     "name": "stdout",
     "output_type": "stream",
     "text": [
      "Detected frames:  461\n"
     ]
    },
    {
     "name": "stderr",
     "output_type": "stream",
     "text": [
      "470it [00:20, 23.14it/s]\n"
     ]
    },
    {
     "name": "stdout",
     "output_type": "stream",
     "text": [
      "Saving results in F:\\videos\\ar41motor\\2022_07_29...\n",
      "Saving csv poses!\n",
      "Starting to analyze %  F:\\videos\\ar41motor\\2022_07_29\\Mirror17R.avi\n",
      "F:\\videos\\ar41motor\\2022_07_29  already exists!\n",
      "Loading  F:\\videos\\ar41motor\\2022_07_29\\Mirror17R.avi\n",
      "Duration of video [s]:  7.85 , recorded with  40.0 fps!\n",
      "Overall # of frames:  314  found with (before cropping) frame dimensions:  314 700\n",
      "Starting to extract posture\n"
     ]
    },
    {
     "name": "stderr",
     "output_type": "stream",
     "text": [
      "320it [00:13, 24.82it/s]                                                                                               "
     ]
    },
    {
     "name": "stdout",
     "output_type": "stream",
     "text": [
      "Detected frames:  314\n"
     ]
    },
    {
     "name": "stderr",
     "output_type": "stream",
     "text": [
      "320it [00:13, 22.89it/s]\n"
     ]
    },
    {
     "name": "stdout",
     "output_type": "stream",
     "text": [
      "Saving results in F:\\videos\\ar41motor\\2022_07_29...\n",
      "Saving csv poses!\n",
      "Starting to analyze %  F:\\videos\\ar41motor\\2022_07_29\\Mirror18R.avi\n",
      "F:\\videos\\ar41motor\\2022_07_29  already exists!\n",
      "Loading  F:\\videos\\ar41motor\\2022_07_29\\Mirror18R.avi\n",
      "Duration of video [s]:  12.5 , recorded with  40.0 fps!\n",
      "Overall # of frames:  500  found with (before cropping) frame dimensions:  314 700\n",
      "Starting to extract posture\n"
     ]
    },
    {
     "name": "stderr",
     "output_type": "stream",
     "text": [
      "510it [00:21, 24.00it/s]                                                                                               "
     ]
    },
    {
     "name": "stdout",
     "output_type": "stream",
     "text": [
      "Detected frames:  500\n"
     ]
    },
    {
     "name": "stderr",
     "output_type": "stream",
     "text": [
      "510it [00:22, 23.11it/s]\n"
     ]
    },
    {
     "name": "stdout",
     "output_type": "stream",
     "text": [
      "Saving results in F:\\videos\\ar41motor\\2022_07_29...\n",
      "Saving csv poses!\n",
      "Starting to analyze %  F:\\videos\\ar41motor\\2022_07_29\\Mirror19R.avi\n",
      "F:\\videos\\ar41motor\\2022_07_29  already exists!\n",
      "Loading  F:\\videos\\ar41motor\\2022_07_29\\Mirror19R.avi\n",
      "Duration of video [s]:  5.92 , recorded with  40.0 fps!\n",
      "Overall # of frames:  237  found with (before cropping) frame dimensions:  314 700\n",
      "Starting to extract posture\n"
     ]
    },
    {
     "name": "stderr",
     "output_type": "stream",
     "text": [
      "240it [00:09, 25.24it/s]                                                                                               "
     ]
    },
    {
     "name": "stdout",
     "output_type": "stream",
     "text": [
      "Detected frames:  237\n"
     ]
    },
    {
     "name": "stderr",
     "output_type": "stream",
     "text": [
      "240it [00:10, 22.85it/s]\n"
     ]
    },
    {
     "name": "stdout",
     "output_type": "stream",
     "text": [
      "Saving results in F:\\videos\\ar41motor\\2022_07_29...\n",
      "Saving csv poses!\n",
      "Starting to analyze %  F:\\videos\\ar41motor\\2022_07_29\\Mirror1R.avi\n",
      "F:\\videos\\ar41motor\\2022_07_29  already exists!\n",
      "Loading  F:\\videos\\ar41motor\\2022_07_29\\Mirror1R.avi\n",
      "Duration of video [s]:  9.38 , recorded with  40.0 fps!\n",
      "Overall # of frames:  375  found with (before cropping) frame dimensions:  314 700\n",
      "Starting to extract posture\n"
     ]
    },
    {
     "name": "stderr",
     "output_type": "stream",
     "text": [
      "380it [00:16, 23.08it/s]                                                                                               "
     ]
    },
    {
     "name": "stdout",
     "output_type": "stream",
     "text": [
      "Detected frames:  375\n"
     ]
    },
    {
     "name": "stderr",
     "output_type": "stream",
     "text": [
      "380it [00:16, 22.41it/s]\n"
     ]
    },
    {
     "name": "stdout",
     "output_type": "stream",
     "text": [
      "Saving results in F:\\videos\\ar41motor\\2022_07_29...\n",
      "Saving csv poses!\n",
      "Starting to analyze %  F:\\videos\\ar41motor\\2022_07_29\\Mirror20R.avi\n",
      "F:\\videos\\ar41motor\\2022_07_29  already exists!\n",
      "Loading  F:\\videos\\ar41motor\\2022_07_29\\Mirror20R.avi\n",
      "Duration of video [s]:  6.97 , recorded with  40.0 fps!\n",
      "Overall # of frames:  279  found with (before cropping) frame dimensions:  314 700\n",
      "Starting to extract posture\n"
     ]
    },
    {
     "name": "stderr",
     "output_type": "stream",
     "text": [
      "280it [00:11, 24.70it/s]                                                                                               "
     ]
    },
    {
     "name": "stdout",
     "output_type": "stream",
     "text": [
      "Detected frames:  279\n"
     ]
    },
    {
     "name": "stderr",
     "output_type": "stream",
     "text": [
      "280it [00:12, 22.74it/s]\n"
     ]
    },
    {
     "name": "stdout",
     "output_type": "stream",
     "text": [
      "Saving results in F:\\videos\\ar41motor\\2022_07_29...\n",
      "Saving csv poses!\n",
      "Starting to analyze %  F:\\videos\\ar41motor\\2022_07_29\\Mirror21R.avi\n",
      "F:\\videos\\ar41motor\\2022_07_29  already exists!\n",
      "Loading  F:\\videos\\ar41motor\\2022_07_29\\Mirror21R.avi\n",
      "Duration of video [s]:  4.85 , recorded with  40.0 fps!\n",
      "Overall # of frames:  194  found with (before cropping) frame dimensions:  314 700\n",
      "Starting to extract posture\n"
     ]
    },
    {
     "name": "stderr",
     "output_type": "stream",
     "text": [
      "200it [00:08, 24.61it/s]                                                                                               "
     ]
    },
    {
     "name": "stdout",
     "output_type": "stream",
     "text": [
      "Detected frames:  194\n"
     ]
    },
    {
     "name": "stderr",
     "output_type": "stream",
     "text": [
      "200it [00:09, 21.01it/s]\n"
     ]
    },
    {
     "name": "stdout",
     "output_type": "stream",
     "text": [
      "Saving results in F:\\videos\\ar41motor\\2022_07_29...\n",
      "Saving csv poses!\n",
      "Starting to analyze %  F:\\videos\\ar41motor\\2022_07_29\\Mirror22R.avi\n",
      "F:\\videos\\ar41motor\\2022_07_29  already exists!\n",
      "Loading  F:\\videos\\ar41motor\\2022_07_29\\Mirror22R.avi\n",
      "Duration of video [s]:  12.2 , recorded with  40.0 fps!\n",
      "Overall # of frames:  488  found with (before cropping) frame dimensions:  314 700\n",
      "Starting to extract posture\n"
     ]
    },
    {
     "name": "stderr",
     "output_type": "stream",
     "text": [
      "490it [00:20, 20.78it/s]                                                                                               "
     ]
    },
    {
     "name": "stdout",
     "output_type": "stream",
     "text": [
      "Detected frames:  488\n"
     ]
    },
    {
     "name": "stderr",
     "output_type": "stream",
     "text": [
      "490it [00:21, 23.20it/s]\n"
     ]
    },
    {
     "name": "stdout",
     "output_type": "stream",
     "text": [
      "Saving results in F:\\videos\\ar41motor\\2022_07_29...\n",
      "Saving csv poses!\n",
      "Starting to analyze %  F:\\videos\\ar41motor\\2022_07_29\\Mirror23R.avi\n",
      "F:\\videos\\ar41motor\\2022_07_29  already exists!\n",
      "Loading  F:\\videos\\ar41motor\\2022_07_29\\Mirror23R.avi\n",
      "Duration of video [s]:  10.95 , recorded with  40.0 fps!\n",
      "Overall # of frames:  438  found with (before cropping) frame dimensions:  314 700\n",
      "Starting to extract posture\n"
     ]
    },
    {
     "name": "stderr",
     "output_type": "stream",
     "text": [
      "440it [00:18, 25.34it/s]                                                                                               "
     ]
    },
    {
     "name": "stdout",
     "output_type": "stream",
     "text": [
      "Detected frames:  438\n"
     ]
    },
    {
     "name": "stderr",
     "output_type": "stream",
     "text": [
      "440it [00:19, 22.82it/s]\n"
     ]
    },
    {
     "name": "stdout",
     "output_type": "stream",
     "text": [
      "Saving results in F:\\videos\\ar41motor\\2022_07_29...\n",
      "Saving csv poses!\n",
      "Starting to analyze %  F:\\videos\\ar41motor\\2022_07_29\\Mirror24R.avi\n",
      "F:\\videos\\ar41motor\\2022_07_29  already exists!\n",
      "Loading  F:\\videos\\ar41motor\\2022_07_29\\Mirror24R.avi\n",
      "Duration of video [s]:  8.43 , recorded with  40.0 fps!\n",
      "Overall # of frames:  337  found with (before cropping) frame dimensions:  314 700\n",
      "Starting to extract posture\n"
     ]
    },
    {
     "name": "stderr",
     "output_type": "stream",
     "text": [
      "340it [00:14, 21.99it/s]                                                                                               "
     ]
    },
    {
     "name": "stdout",
     "output_type": "stream",
     "text": [
      "Detected frames:  337\n"
     ]
    },
    {
     "name": "stderr",
     "output_type": "stream",
     "text": [
      "340it [00:15, 22.62it/s]\n"
     ]
    },
    {
     "name": "stdout",
     "output_type": "stream",
     "text": [
      "Saving results in F:\\videos\\ar41motor\\2022_07_29...\n",
      "Saving csv poses!\n",
      "Starting to analyze %  F:\\videos\\ar41motor\\2022_07_29\\Mirror25R.avi\n",
      "F:\\videos\\ar41motor\\2022_07_29  already exists!\n",
      "Loading  F:\\videos\\ar41motor\\2022_07_29\\Mirror25R.avi\n",
      "Duration of video [s]:  11.6 , recorded with  40.0 fps!\n",
      "Overall # of frames:  464  found with (before cropping) frame dimensions:  314 700\n",
      "Starting to extract posture\n"
     ]
    },
    {
     "name": "stderr",
     "output_type": "stream",
     "text": [
      "470it [00:20, 23.87it/s]                                                                                               "
     ]
    },
    {
     "name": "stdout",
     "output_type": "stream",
     "text": [
      "Detected frames:  464\n"
     ]
    },
    {
     "name": "stderr",
     "output_type": "stream",
     "text": [
      "470it [00:20, 23.02it/s]\n"
     ]
    },
    {
     "name": "stdout",
     "output_type": "stream",
     "text": [
      "Saving results in F:\\videos\\ar41motor\\2022_07_29...\n",
      "Saving csv poses!\n",
      "Starting to analyze %  F:\\videos\\ar41motor\\2022_07_29\\Mirror26R.avi\n",
      "F:\\videos\\ar41motor\\2022_07_29  already exists!\n",
      "Loading  F:\\videos\\ar41motor\\2022_07_29\\Mirror26R.avi\n",
      "Duration of video [s]:  9.75 , recorded with  40.0 fps!\n",
      "Overall # of frames:  390  found with (before cropping) frame dimensions:  314 700\n",
      "Starting to extract posture\n"
     ]
    },
    {
     "name": "stderr",
     "output_type": "stream",
     "text": [
      "400it [00:16, 25.78it/s]                                                                                               "
     ]
    },
    {
     "name": "stdout",
     "output_type": "stream",
     "text": [
      "Detected frames:  390\n"
     ]
    },
    {
     "name": "stderr",
     "output_type": "stream",
     "text": [
      "400it [00:17, 23.39it/s]\n"
     ]
    },
    {
     "name": "stdout",
     "output_type": "stream",
     "text": [
      "Saving results in F:\\videos\\ar41motor\\2022_07_29...\n",
      "Saving csv poses!\n",
      "Starting to analyze %  F:\\videos\\ar41motor\\2022_07_29\\Mirror27R.avi\n",
      "F:\\videos\\ar41motor\\2022_07_29  already exists!\n",
      "Loading  F:\\videos\\ar41motor\\2022_07_29\\Mirror27R.avi\n",
      "Duration of video [s]:  8.5 , recorded with  40.0 fps!\n",
      "Overall # of frames:  340  found with (before cropping) frame dimensions:  314 700\n",
      "Starting to extract posture\n"
     ]
    },
    {
     "name": "stderr",
     "output_type": "stream",
     "text": [
      "350it [00:14, 23.11it/s]                                                                                               "
     ]
    },
    {
     "name": "stdout",
     "output_type": "stream",
     "text": [
      "Detected frames:  340\n"
     ]
    },
    {
     "name": "stderr",
     "output_type": "stream",
     "text": [
      "350it [00:15, 23.19it/s]\n"
     ]
    },
    {
     "name": "stdout",
     "output_type": "stream",
     "text": [
      "Saving results in F:\\videos\\ar41motor\\2022_07_29...\n",
      "Saving csv poses!\n",
      "Starting to analyze %  F:\\videos\\ar41motor\\2022_07_29\\Mirror28R.avi\n",
      "F:\\videos\\ar41motor\\2022_07_29  already exists!\n",
      "Loading  F:\\videos\\ar41motor\\2022_07_29\\Mirror28R.avi\n",
      "Duration of video [s]:  9.3 , recorded with  40.0 fps!\n",
      "Overall # of frames:  372  found with (before cropping) frame dimensions:  314 700\n",
      "Starting to extract posture\n"
     ]
    },
    {
     "name": "stderr",
     "output_type": "stream",
     "text": [
      "380it [00:16, 22.68it/s]                                                                                               "
     ]
    },
    {
     "name": "stdout",
     "output_type": "stream",
     "text": [
      "Detected frames:  372\n"
     ]
    },
    {
     "name": "stderr",
     "output_type": "stream",
     "text": [
      "380it [00:16, 23.12it/s]\n"
     ]
    },
    {
     "name": "stdout",
     "output_type": "stream",
     "text": [
      "Saving results in F:\\videos\\ar41motor\\2022_07_29...\n",
      "Saving csv poses!\n",
      "Starting to analyze %  F:\\videos\\ar41motor\\2022_07_29\\Mirror29R.avi\n",
      "F:\\videos\\ar41motor\\2022_07_29  already exists!\n",
      "Loading  F:\\videos\\ar41motor\\2022_07_29\\Mirror29R.avi\n",
      "Duration of video [s]:  7.8 , recorded with  40.0 fps!\n",
      "Overall # of frames:  312  found with (before cropping) frame dimensions:  314 700\n",
      "Starting to extract posture\n"
     ]
    },
    {
     "name": "stderr",
     "output_type": "stream",
     "text": [
      "320it [00:13, 25.42it/s]                                                                                               "
     ]
    },
    {
     "name": "stdout",
     "output_type": "stream",
     "text": [
      "Detected frames:  312\n"
     ]
    },
    {
     "name": "stderr",
     "output_type": "stream",
     "text": [
      "320it [00:13, 23.36it/s]\n"
     ]
    },
    {
     "name": "stdout",
     "output_type": "stream",
     "text": [
      "Saving results in F:\\videos\\ar41motor\\2022_07_29...\n",
      "Saving csv poses!\n",
      "Starting to analyze %  F:\\videos\\ar41motor\\2022_07_29\\Mirror2R.avi\n",
      "F:\\videos\\ar41motor\\2022_07_29  already exists!\n",
      "Loading  F:\\videos\\ar41motor\\2022_07_29\\Mirror2R.avi\n",
      "Duration of video [s]:  5.83 , recorded with  40.0 fps!\n",
      "Overall # of frames:  233  found with (before cropping) frame dimensions:  314 700\n",
      "Starting to extract posture\n"
     ]
    },
    {
     "name": "stderr",
     "output_type": "stream",
     "text": [
      "240it [00:09, 24.04it/s]                                                                                               "
     ]
    },
    {
     "name": "stdout",
     "output_type": "stream",
     "text": [
      "Detected frames:  233\n"
     ]
    },
    {
     "name": "stderr",
     "output_type": "stream",
     "text": [
      "240it [00:10, 22.57it/s]\n"
     ]
    },
    {
     "name": "stdout",
     "output_type": "stream",
     "text": [
      "Saving results in F:\\videos\\ar41motor\\2022_07_29...\n",
      "Saving csv poses!\n",
      "Starting to analyze %  F:\\videos\\ar41motor\\2022_07_29\\Mirror30R.avi\n",
      "F:\\videos\\ar41motor\\2022_07_29  already exists!\n",
      "Loading  F:\\videos\\ar41motor\\2022_07_29\\Mirror30R.avi\n",
      "Duration of video [s]:  11.28 , recorded with  40.0 fps!\n",
      "Overall # of frames:  451  found with (before cropping) frame dimensions:  314 700\n",
      "Starting to extract posture\n"
     ]
    },
    {
     "name": "stderr",
     "output_type": "stream",
     "text": [
      "460it [00:19, 22.91it/s]                                                                                               "
     ]
    },
    {
     "name": "stdout",
     "output_type": "stream",
     "text": [
      "Detected frames:  451\n"
     ]
    },
    {
     "name": "stderr",
     "output_type": "stream",
     "text": [
      "460it [00:20, 22.93it/s]\n"
     ]
    },
    {
     "name": "stdout",
     "output_type": "stream",
     "text": [
      "Saving results in F:\\videos\\ar41motor\\2022_07_29...\n",
      "Saving csv poses!\n",
      "Starting to analyze %  F:\\videos\\ar41motor\\2022_07_29\\Mirror31R.avi\n",
      "F:\\videos\\ar41motor\\2022_07_29  already exists!\n",
      "Loading  F:\\videos\\ar41motor\\2022_07_29\\Mirror31R.avi\n",
      "Duration of video [s]:  11.72 , recorded with  40.0 fps!\n",
      "Overall # of frames:  469  found with (before cropping) frame dimensions:  314 700\n",
      "Starting to extract posture\n"
     ]
    },
    {
     "name": "stderr",
     "output_type": "stream",
     "text": [
      "470it [00:20, 23.81it/s]                                                                                               "
     ]
    },
    {
     "name": "stdout",
     "output_type": "stream",
     "text": [
      "Detected frames:  469\n"
     ]
    },
    {
     "name": "stderr",
     "output_type": "stream",
     "text": [
      "470it [00:20, 22.63it/s]\n"
     ]
    },
    {
     "name": "stdout",
     "output_type": "stream",
     "text": [
      "Saving results in F:\\videos\\ar41motor\\2022_07_29...\n",
      "Saving csv poses!\n",
      "Starting to analyze %  F:\\videos\\ar41motor\\2022_07_29\\Mirror32R.avi\n",
      "F:\\videos\\ar41motor\\2022_07_29  already exists!\n",
      "Loading  F:\\videos\\ar41motor\\2022_07_29\\Mirror32R.avi\n",
      "Duration of video [s]:  12.5 , recorded with  40.0 fps!\n",
      "Overall # of frames:  500  found with (before cropping) frame dimensions:  314 700\n",
      "Starting to extract posture\n"
     ]
    },
    {
     "name": "stderr",
     "output_type": "stream",
     "text": [
      "510it [00:21, 24.47it/s]                                                                                               "
     ]
    },
    {
     "name": "stdout",
     "output_type": "stream",
     "text": [
      "Detected frames:  500\n"
     ]
    },
    {
     "name": "stderr",
     "output_type": "stream",
     "text": [
      "510it [00:22, 23.10it/s]\n"
     ]
    },
    {
     "name": "stdout",
     "output_type": "stream",
     "text": [
      "Saving results in F:\\videos\\ar41motor\\2022_07_29...\n",
      "Saving csv poses!\n",
      "Starting to analyze %  F:\\videos\\ar41motor\\2022_07_29\\Mirror33R.avi\n",
      "F:\\videos\\ar41motor\\2022_07_29  already exists!\n",
      "Loading  F:\\videos\\ar41motor\\2022_07_29\\Mirror33R.avi\n",
      "Duration of video [s]:  11.38 , recorded with  40.0 fps!\n",
      "Overall # of frames:  455  found with (before cropping) frame dimensions:  314 700\n",
      "Starting to extract posture\n"
     ]
    },
    {
     "name": "stderr",
     "output_type": "stream",
     "text": [
      "460it [00:19, 22.23it/s]                                                                                               "
     ]
    },
    {
     "name": "stdout",
     "output_type": "stream",
     "text": [
      "Detected frames:  455\n"
     ]
    },
    {
     "name": "stderr",
     "output_type": "stream",
     "text": [
      "460it [00:20, 22.73it/s]\n"
     ]
    },
    {
     "name": "stdout",
     "output_type": "stream",
     "text": [
      "Saving results in F:\\videos\\ar41motor\\2022_07_29...\n",
      "Saving csv poses!\n",
      "Starting to analyze %  F:\\videos\\ar41motor\\2022_07_29\\Mirror34R.avi\n",
      "F:\\videos\\ar41motor\\2022_07_29  already exists!\n",
      "Loading  F:\\videos\\ar41motor\\2022_07_29\\Mirror34R.avi\n",
      "Duration of video [s]:  12.45 , recorded with  40.0 fps!\n",
      "Overall # of frames:  498  found with (before cropping) frame dimensions:  314 700\n",
      "Starting to extract posture\n"
     ]
    },
    {
     "name": "stderr",
     "output_type": "stream",
     "text": [
      "500it [00:21, 22.44it/s]                                                                                               "
     ]
    },
    {
     "name": "stdout",
     "output_type": "stream",
     "text": [
      "Detected frames:  498\n"
     ]
    },
    {
     "name": "stderr",
     "output_type": "stream",
     "text": [
      "500it [00:22, 22.57it/s]\n"
     ]
    },
    {
     "name": "stdout",
     "output_type": "stream",
     "text": [
      "Saving results in F:\\videos\\ar41motor\\2022_07_29...\n",
      "Saving csv poses!\n",
      "Starting to analyze %  F:\\videos\\ar41motor\\2022_07_29\\Mirror35R.avi\n",
      "F:\\videos\\ar41motor\\2022_07_29  already exists!\n",
      "Loading  F:\\videos\\ar41motor\\2022_07_29\\Mirror35R.avi\n",
      "Duration of video [s]:  11.25 , recorded with  40.0 fps!\n",
      "Overall # of frames:  450  found with (before cropping) frame dimensions:  314 700\n",
      "Starting to extract posture\n"
     ]
    },
    {
     "name": "stderr",
     "output_type": "stream",
     "text": [
      "460it [00:19, 22.86it/s]                                                                                               "
     ]
    },
    {
     "name": "stdout",
     "output_type": "stream",
     "text": [
      "Detected frames:  450\n"
     ]
    },
    {
     "name": "stderr",
     "output_type": "stream",
     "text": [
      "460it [00:19, 23.12it/s]\n"
     ]
    },
    {
     "name": "stdout",
     "output_type": "stream",
     "text": [
      "Saving results in F:\\videos\\ar41motor\\2022_07_29...\n",
      "Saving csv poses!\n",
      "Starting to analyze %  F:\\videos\\ar41motor\\2022_07_29\\Mirror36R.avi\n",
      "F:\\videos\\ar41motor\\2022_07_29  already exists!\n",
      "Loading  F:\\videos\\ar41motor\\2022_07_29\\Mirror36R.avi\n",
      "Duration of video [s]:  11.32 , recorded with  40.0 fps!\n",
      "Overall # of frames:  453  found with (before cropping) frame dimensions:  314 700\n",
      "Starting to extract posture\n"
     ]
    },
    {
     "name": "stderr",
     "output_type": "stream",
     "text": [
      "460it [00:19, 22.16it/s]                                                                                               "
     ]
    },
    {
     "name": "stdout",
     "output_type": "stream",
     "text": [
      "Detected frames:  453\n"
     ]
    },
    {
     "name": "stderr",
     "output_type": "stream",
     "text": [
      "460it [00:20, 22.96it/s]\n"
     ]
    },
    {
     "name": "stdout",
     "output_type": "stream",
     "text": [
      "Saving results in F:\\videos\\ar41motor\\2022_07_29...\n",
      "Saving csv poses!\n",
      "Starting to analyze %  F:\\videos\\ar41motor\\2022_07_29\\Mirror37R.avi\n",
      "F:\\videos\\ar41motor\\2022_07_29  already exists!\n",
      "Loading  F:\\videos\\ar41motor\\2022_07_29\\Mirror37R.avi\n",
      "Duration of video [s]:  12.5 , recorded with  40.0 fps!\n",
      "Overall # of frames:  500  found with (before cropping) frame dimensions:  314 700\n",
      "Starting to extract posture\n"
     ]
    },
    {
     "name": "stderr",
     "output_type": "stream",
     "text": [
      "510it [00:21, 24.18it/s]                                                                                               "
     ]
    },
    {
     "name": "stdout",
     "output_type": "stream",
     "text": [
      "Detected frames:  500\n"
     ]
    },
    {
     "name": "stderr",
     "output_type": "stream",
     "text": [
      "510it [00:21, 23.35it/s]\n"
     ]
    },
    {
     "name": "stdout",
     "output_type": "stream",
     "text": [
      "Saving results in F:\\videos\\ar41motor\\2022_07_29...\n",
      "Saving csv poses!\n",
      "Starting to analyze %  F:\\videos\\ar41motor\\2022_07_29\\Mirror38R.avi\n",
      "F:\\videos\\ar41motor\\2022_07_29  already exists!\n",
      "Loading  F:\\videos\\ar41motor\\2022_07_29\\Mirror38R.avi\n",
      "Duration of video [s]:  12.5 , recorded with  40.0 fps!\n",
      "Overall # of frames:  500  found with (before cropping) frame dimensions:  314 700\n",
      "Starting to extract posture\n"
     ]
    },
    {
     "name": "stderr",
     "output_type": "stream",
     "text": [
      "510it [00:21, 24.04it/s]                                                                                               "
     ]
    },
    {
     "name": "stdout",
     "output_type": "stream",
     "text": [
      "Detected frames:  500\n"
     ]
    },
    {
     "name": "stderr",
     "output_type": "stream",
     "text": [
      "510it [00:22, 23.05it/s]\n"
     ]
    },
    {
     "name": "stdout",
     "output_type": "stream",
     "text": [
      "Saving results in F:\\videos\\ar41motor\\2022_07_29...\n",
      "Saving csv poses!\n",
      "Starting to analyze %  F:\\videos\\ar41motor\\2022_07_29\\Mirror39RDLC_resnet152_ar30shiwkerSep13shuffle2_100000.csv\n",
      "F:\\videos\\ar41motor\\2022_07_29  already exists!\n",
      "Loading  F:\\videos\\ar41motor\\2022_07_29\\Mirror39RDLC_resnet152_ar30shiwkerSep13shuffle2_100000.csv\n",
      "Starting to analyze %  F:\\videos\\ar41motor\\2022_07_29\\Mirror39RDLC_resnet152_ar30shiwkerSep13shuffle2_100000.h5\n",
      "F:\\videos\\ar41motor\\2022_07_29  already exists!\n",
      "Loading  F:\\videos\\ar41motor\\2022_07_29\\Mirror39RDLC_resnet152_ar30shiwkerSep13shuffle2_100000.h5\n",
      "Starting to analyze %  F:\\videos\\ar41motor\\2022_07_29\\Mirror39RDLC_resnet152_ar30shiwkerSep13shuffle2_100000_meta.pickle\n",
      "F:\\videos\\ar41motor\\2022_07_29  already exists!\n",
      "Loading  F:\\videos\\ar41motor\\2022_07_29\\Mirror39RDLC_resnet152_ar30shiwkerSep13shuffle2_100000_meta.pickle\n",
      "Starting to analyze %  F:\\videos\\ar41motor\\2022_07_29\\Mirror3R.avi\n",
      "F:\\videos\\ar41motor\\2022_07_29  already exists!\n",
      "Loading  F:\\videos\\ar41motor\\2022_07_29\\Mirror3R.avi\n",
      "Duration of video [s]:  6.8 , recorded with  40.0 fps!\n",
      "Overall # of frames:  272  found with (before cropping) frame dimensions:  314 700\n",
      "Starting to extract posture\n"
     ]
    },
    {
     "name": "stderr",
     "output_type": "stream",
     "text": [
      "280it [00:11, 25.73it/s]                                                                                               "
     ]
    },
    {
     "name": "stdout",
     "output_type": "stream",
     "text": [
      "Detected frames:  272\n"
     ]
    },
    {
     "name": "stderr",
     "output_type": "stream",
     "text": [
      "280it [00:11, 23.69it/s]\n"
     ]
    },
    {
     "name": "stdout",
     "output_type": "stream",
     "text": [
      "Saving results in F:\\videos\\ar41motor\\2022_07_29...\n",
      "Saving csv poses!\n",
      "Starting to analyze %  F:\\videos\\ar41motor\\2022_07_29\\Mirror40R.avi\n",
      "F:\\videos\\ar41motor\\2022_07_29  already exists!\n",
      "Loading  F:\\videos\\ar41motor\\2022_07_29\\Mirror40R.avi\n",
      "Duration of video [s]:  12.5 , recorded with  40.0 fps!\n",
      "Overall # of frames:  500  found with (before cropping) frame dimensions:  314 700\n",
      "Starting to extract posture\n"
     ]
    },
    {
     "name": "stderr",
     "output_type": "stream",
     "text": [
      "510it [00:21, 24.08it/s]                                                                                               "
     ]
    },
    {
     "name": "stdout",
     "output_type": "stream",
     "text": [
      "Detected frames:  500\n"
     ]
    },
    {
     "name": "stderr",
     "output_type": "stream",
     "text": [
      "510it [00:22, 23.15it/s]\n"
     ]
    },
    {
     "name": "stdout",
     "output_type": "stream",
     "text": [
      "Saving results in F:\\videos\\ar41motor\\2022_07_29...\n",
      "Saving csv poses!\n",
      "Starting to analyze %  F:\\videos\\ar41motor\\2022_07_29\\Mirror41R.avi\n",
      "F:\\videos\\ar41motor\\2022_07_29  already exists!\n",
      "Loading  F:\\videos\\ar41motor\\2022_07_29\\Mirror41R.avi\n",
      "Duration of video [s]:  11.62 , recorded with  40.0 fps!\n",
      "Overall # of frames:  465  found with (before cropping) frame dimensions:  314 700\n",
      "Starting to extract posture\n"
     ]
    },
    {
     "name": "stderr",
     "output_type": "stream",
     "text": [
      "470it [00:20, 23.76it/s]                                                                                               "
     ]
    },
    {
     "name": "stdout",
     "output_type": "stream",
     "text": [
      "Detected frames:  465\n"
     ]
    },
    {
     "name": "stderr",
     "output_type": "stream",
     "text": [
      "470it [00:20, 22.64it/s]\n"
     ]
    },
    {
     "name": "stdout",
     "output_type": "stream",
     "text": [
      "Saving results in F:\\videos\\ar41motor\\2022_07_29...\n",
      "Saving csv poses!\n",
      "Starting to analyze %  F:\\videos\\ar41motor\\2022_07_29\\Mirror42R.avi\n",
      "F:\\videos\\ar41motor\\2022_07_29  already exists!\n",
      "Loading  F:\\videos\\ar41motor\\2022_07_29\\Mirror42R.avi\n",
      "Duration of video [s]:  9.38 , recorded with  40.0 fps!\n",
      "Overall # of frames:  375  found with (before cropping) frame dimensions:  314 700\n",
      "Starting to extract posture\n"
     ]
    },
    {
     "name": "stderr",
     "output_type": "stream",
     "text": [
      "380it [00:15, 22.69it/s]                                                                                               "
     ]
    },
    {
     "name": "stdout",
     "output_type": "stream",
     "text": [
      "Detected frames:  375\n"
     ]
    },
    {
     "name": "stderr",
     "output_type": "stream",
     "text": [
      "380it [00:16, 23.37it/s]\n"
     ]
    },
    {
     "name": "stdout",
     "output_type": "stream",
     "text": [
      "Saving results in F:\\videos\\ar41motor\\2022_07_29...\n",
      "Saving csv poses!\n",
      "Starting to analyze %  F:\\videos\\ar41motor\\2022_07_29\\Mirror43R.avi\n",
      "F:\\videos\\ar41motor\\2022_07_29  already exists!\n",
      "Loading  F:\\videos\\ar41motor\\2022_07_29\\Mirror43R.avi\n",
      "Duration of video [s]:  11.95 , recorded with  40.0 fps!\n",
      "Overall # of frames:  478  found with (before cropping) frame dimensions:  314 700\n",
      "Starting to extract posture\n"
     ]
    },
    {
     "name": "stderr",
     "output_type": "stream",
     "text": [
      "480it [00:20, 24.95it/s]                                                                                               "
     ]
    },
    {
     "name": "stdout",
     "output_type": "stream",
     "text": [
      "Detected frames:  478\n"
     ]
    },
    {
     "name": "stderr",
     "output_type": "stream",
     "text": [
      "480it [00:21, 22.62it/s]\n"
     ]
    },
    {
     "name": "stdout",
     "output_type": "stream",
     "text": [
      "Saving results in F:\\videos\\ar41motor\\2022_07_29...\n",
      "Saving csv poses!\n",
      "Starting to analyze %  F:\\videos\\ar41motor\\2022_07_29\\Mirror44R.avi\n",
      "F:\\videos\\ar41motor\\2022_07_29  already exists!\n",
      "Loading  F:\\videos\\ar41motor\\2022_07_29\\Mirror44R.avi\n",
      "Duration of video [s]:  12.5 , recorded with  40.0 fps!\n",
      "Overall # of frames:  500  found with (before cropping) frame dimensions:  314 700\n",
      "Starting to extract posture\n"
     ]
    },
    {
     "name": "stderr",
     "output_type": "stream",
     "text": [
      "510it [00:21, 23.85it/s]                                                                                               "
     ]
    },
    {
     "name": "stdout",
     "output_type": "stream",
     "text": [
      "Detected frames:  500\n"
     ]
    },
    {
     "name": "stderr",
     "output_type": "stream",
     "text": [
      "510it [00:22, 22.97it/s]\n"
     ]
    },
    {
     "name": "stdout",
     "output_type": "stream",
     "text": [
      "Saving results in F:\\videos\\ar41motor\\2022_07_29...\n",
      "Saving csv poses!\n",
      "Starting to analyze %  F:\\videos\\ar41motor\\2022_07_29\\Mirror45R.avi\n",
      "F:\\videos\\ar41motor\\2022_07_29  already exists!\n",
      "Loading  F:\\videos\\ar41motor\\2022_07_29\\Mirror45R.avi\n",
      "Duration of video [s]:  12.05 , recorded with  40.0 fps!\n",
      "Overall # of frames:  482  found with (before cropping) frame dimensions:  314 700\n",
      "Starting to extract posture\n"
     ]
    },
    {
     "name": "stderr",
     "output_type": "stream",
     "text": [
      "490it [00:20, 20.99it/s]                                                                                               "
     ]
    },
    {
     "name": "stdout",
     "output_type": "stream",
     "text": [
      "Detected frames:  482\n"
     ]
    },
    {
     "name": "stderr",
     "output_type": "stream",
     "text": [
      "490it [00:21, 23.07it/s]\n"
     ]
    },
    {
     "name": "stdout",
     "output_type": "stream",
     "text": [
      "Saving results in F:\\videos\\ar41motor\\2022_07_29...\n",
      "Saving csv poses!\n",
      "Starting to analyze %  F:\\videos\\ar41motor\\2022_07_29\\Mirror46R.avi\n",
      "F:\\videos\\ar41motor\\2022_07_29  already exists!\n",
      "Loading  F:\\videos\\ar41motor\\2022_07_29\\Mirror46R.avi\n",
      "Duration of video [s]:  9.32 , recorded with  40.0 fps!\n",
      "Overall # of frames:  373  found with (before cropping) frame dimensions:  314 700\n",
      "Starting to extract posture\n"
     ]
    },
    {
     "name": "stderr",
     "output_type": "stream",
     "text": [
      "380it [00:16, 22.21it/s]                                                                                               "
     ]
    },
    {
     "name": "stdout",
     "output_type": "stream",
     "text": [
      "Detected frames:  373\n"
     ]
    },
    {
     "name": "stderr",
     "output_type": "stream",
     "text": [
      "380it [00:16, 22.97it/s]\n"
     ]
    },
    {
     "name": "stdout",
     "output_type": "stream",
     "text": [
      "Saving results in F:\\videos\\ar41motor\\2022_07_29...\n",
      "Saving csv poses!\n",
      "Starting to analyze %  F:\\videos\\ar41motor\\2022_07_29\\Mirror47R.avi\n",
      "F:\\videos\\ar41motor\\2022_07_29  already exists!\n",
      "Loading  F:\\videos\\ar41motor\\2022_07_29\\Mirror47R.avi\n",
      "Duration of video [s]:  12.32 , recorded with  40.0 fps!\n",
      "Overall # of frames:  493  found with (before cropping) frame dimensions:  314 700\n",
      "Starting to extract posture\n"
     ]
    },
    {
     "name": "stderr",
     "output_type": "stream",
     "text": [
      "500it [00:21, 21.72it/s]                                                                                               "
     ]
    },
    {
     "name": "stdout",
     "output_type": "stream",
     "text": [
      "Detected frames:  493\n"
     ]
    },
    {
     "name": "stderr",
     "output_type": "stream",
     "text": [
      "500it [00:21, 22.81it/s]\n"
     ]
    },
    {
     "name": "stdout",
     "output_type": "stream",
     "text": [
      "Saving results in F:\\videos\\ar41motor\\2022_07_29...\n",
      "Saving csv poses!\n",
      "Starting to analyze %  F:\\videos\\ar41motor\\2022_07_29\\Mirror48R.avi\n",
      "F:\\videos\\ar41motor\\2022_07_29  already exists!\n",
      "Loading  F:\\videos\\ar41motor\\2022_07_29\\Mirror48R.avi\n",
      "Duration of video [s]:  5.05 , recorded with  40.0 fps!\n",
      "Overall # of frames:  202  found with (before cropping) frame dimensions:  314 700\n",
      "Starting to extract posture\n"
     ]
    },
    {
     "name": "stderr",
     "output_type": "stream",
     "text": [
      "210it [00:08, 20.91it/s]                                                                                               "
     ]
    },
    {
     "name": "stdout",
     "output_type": "stream",
     "text": [
      "Detected frames:  202\n"
     ]
    },
    {
     "name": "stderr",
     "output_type": "stream",
     "text": [
      "210it [00:09, 23.14it/s]\n"
     ]
    },
    {
     "name": "stdout",
     "output_type": "stream",
     "text": [
      "Saving results in F:\\videos\\ar41motor\\2022_07_29...\n",
      "Saving csv poses!\n",
      "Starting to analyze %  F:\\videos\\ar41motor\\2022_07_29\\Mirror49R.avi\n",
      "F:\\videos\\ar41motor\\2022_07_29  already exists!\n",
      "Loading  F:\\videos\\ar41motor\\2022_07_29\\Mirror49R.avi\n",
      "Duration of video [s]:  2.58 , recorded with  40.0 fps!\n",
      "Overall # of frames:  103  found with (before cropping) frame dimensions:  314 700\n",
      "Starting to extract posture\n"
     ]
    },
    {
     "name": "stderr",
     "output_type": "stream",
     "text": [
      "110it [00:04, 24.94it/s]                                                                                               "
     ]
    },
    {
     "name": "stdout",
     "output_type": "stream",
     "text": [
      "Detected frames:  103\n"
     ]
    },
    {
     "name": "stderr",
     "output_type": "stream",
     "text": [
      "110it [00:04, 24.20it/s]\n"
     ]
    },
    {
     "name": "stdout",
     "output_type": "stream",
     "text": [
      "Saving results in F:\\videos\\ar41motor\\2022_07_29...\n",
      "Saving csv poses!\n",
      "Starting to analyze %  F:\\videos\\ar41motor\\2022_07_29\\Mirror4R.avi\n",
      "F:\\videos\\ar41motor\\2022_07_29  already exists!\n",
      "Loading  F:\\videos\\ar41motor\\2022_07_29\\Mirror4R.avi\n",
      "Duration of video [s]:  10.57 , recorded with  40.0 fps!\n",
      "Overall # of frames:  423  found with (before cropping) frame dimensions:  314 700\n",
      "Starting to extract posture\n"
     ]
    },
    {
     "name": "stderr",
     "output_type": "stream",
     "text": [
      "430it [00:18, 24.49it/s]                                                                                               "
     ]
    },
    {
     "name": "stdout",
     "output_type": "stream",
     "text": [
      "Detected frames:  423\n"
     ]
    },
    {
     "name": "stderr",
     "output_type": "stream",
     "text": [
      "430it [00:18, 23.05it/s]\n"
     ]
    },
    {
     "name": "stdout",
     "output_type": "stream",
     "text": [
      "Saving results in F:\\videos\\ar41motor\\2022_07_29...\n",
      "Saving csv poses!\n",
      "Starting to analyze %  F:\\videos\\ar41motor\\2022_07_29\\Mirror50R.avi\n",
      "F:\\videos\\ar41motor\\2022_07_29  already exists!\n",
      "Loading  F:\\videos\\ar41motor\\2022_07_29\\Mirror50R.avi\n",
      "Duration of video [s]:  12.4 , recorded with  40.0 fps!\n",
      "Overall # of frames:  496  found with (before cropping) frame dimensions:  314 700\n",
      "Starting to extract posture\n"
     ]
    },
    {
     "name": "stderr",
     "output_type": "stream",
     "text": [
      "500it [00:21, 22.85it/s]                                                                                               "
     ]
    },
    {
     "name": "stdout",
     "output_type": "stream",
     "text": [
      "Detected frames:  496\n"
     ]
    },
    {
     "name": "stderr",
     "output_type": "stream",
     "text": [
      "500it [00:21, 23.00it/s]\n"
     ]
    },
    {
     "name": "stdout",
     "output_type": "stream",
     "text": [
      "Saving results in F:\\videos\\ar41motor\\2022_07_29...\n",
      "Saving csv poses!\n",
      "Starting to analyze %  F:\\videos\\ar41motor\\2022_07_29\\Mirror51R.avi\n",
      "F:\\videos\\ar41motor\\2022_07_29  already exists!\n",
      "Loading  F:\\videos\\ar41motor\\2022_07_29\\Mirror51R.avi\n",
      "Duration of video [s]:  11.22 , recorded with  40.0 fps!\n",
      "Overall # of frames:  449  found with (before cropping) frame dimensions:  314 700\n",
      "Starting to extract posture\n"
     ]
    },
    {
     "name": "stderr",
     "output_type": "stream",
     "text": [
      "450it [00:20, 20.54it/s]                                                                                               "
     ]
    },
    {
     "name": "stdout",
     "output_type": "stream",
     "text": [
      "Detected frames:  449\n"
     ]
    },
    {
     "name": "stderr",
     "output_type": "stream",
     "text": [
      "450it [00:20, 21.62it/s]\n"
     ]
    },
    {
     "name": "stdout",
     "output_type": "stream",
     "text": [
      "Saving results in F:\\videos\\ar41motor\\2022_07_29...\n",
      "Saving csv poses!\n",
      "Starting to analyze %  F:\\videos\\ar41motor\\2022_07_29\\Mirror52R.avi\n",
      "F:\\videos\\ar41motor\\2022_07_29  already exists!\n",
      "Loading  F:\\videos\\ar41motor\\2022_07_29\\Mirror52R.avi\n",
      "Duration of video [s]:  11.18 , recorded with  40.0 fps!\n",
      "Overall # of frames:  447  found with (before cropping) frame dimensions:  314 700\n",
      "Starting to extract posture\n"
     ]
    },
    {
     "name": "stderr",
     "output_type": "stream",
     "text": [
      "450it [00:19, 21.18it/s]                                                                                               "
     ]
    },
    {
     "name": "stdout",
     "output_type": "stream",
     "text": [
      "Detected frames:  447\n"
     ]
    },
    {
     "name": "stderr",
     "output_type": "stream",
     "text": [
      "450it [00:19, 22.91it/s]\n"
     ]
    },
    {
     "name": "stdout",
     "output_type": "stream",
     "text": [
      "Saving results in F:\\videos\\ar41motor\\2022_07_29...\n",
      "Saving csv poses!\n",
      "Starting to analyze %  F:\\videos\\ar41motor\\2022_07_29\\Mirror53R.avi\n",
      "F:\\videos\\ar41motor\\2022_07_29  already exists!\n",
      "Loading  F:\\videos\\ar41motor\\2022_07_29\\Mirror53R.avi\n",
      "Duration of video [s]:  12.5 , recorded with  40.0 fps!\n",
      "Overall # of frames:  500  found with (before cropping) frame dimensions:  314 700\n",
      "Starting to extract posture\n"
     ]
    },
    {
     "name": "stderr",
     "output_type": "stream",
     "text": [
      "510it [00:21, 24.83it/s]                                                                                               "
     ]
    },
    {
     "name": "stdout",
     "output_type": "stream",
     "text": [
      "Detected frames:  500\n"
     ]
    },
    {
     "name": "stderr",
     "output_type": "stream",
     "text": [
      "510it [00:21, 23.24it/s]\n"
     ]
    },
    {
     "name": "stdout",
     "output_type": "stream",
     "text": [
      "Saving results in F:\\videos\\ar41motor\\2022_07_29...\n",
      "Saving csv poses!\n",
      "Starting to analyze %  F:\\videos\\ar41motor\\2022_07_29\\Mirror54R.avi\n",
      "F:\\videos\\ar41motor\\2022_07_29  already exists!\n",
      "Loading  F:\\videos\\ar41motor\\2022_07_29\\Mirror54R.avi\n",
      "Duration of video [s]:  12.15 , recorded with  40.0 fps!\n",
      "Overall # of frames:  486  found with (before cropping) frame dimensions:  314 700\n",
      "Starting to extract posture\n"
     ]
    },
    {
     "name": "stderr",
     "output_type": "stream",
     "text": [
      "490it [00:21, 20.40it/s]                                                                                               "
     ]
    },
    {
     "name": "stdout",
     "output_type": "stream",
     "text": [
      "Detected frames:  486\n"
     ]
    },
    {
     "name": "stderr",
     "output_type": "stream",
     "text": [
      "490it [00:21, 22.95it/s]\n"
     ]
    },
    {
     "name": "stdout",
     "output_type": "stream",
     "text": [
      "Saving results in F:\\videos\\ar41motor\\2022_07_29...\n",
      "Saving csv poses!\n",
      "Starting to analyze %  F:\\videos\\ar41motor\\2022_07_29\\Mirror55R.avi\n",
      "F:\\videos\\ar41motor\\2022_07_29  already exists!\n",
      "Loading  F:\\videos\\ar41motor\\2022_07_29\\Mirror55R.avi\n",
      "Duration of video [s]:  5.15 , recorded with  40.0 fps!\n",
      "Overall # of frames:  206  found with (before cropping) frame dimensions:  314 700\n",
      "Starting to extract posture\n"
     ]
    },
    {
     "name": "stderr",
     "output_type": "stream",
     "text": [
      "210it [00:08, 20.78it/s]                                                                                               "
     ]
    },
    {
     "name": "stdout",
     "output_type": "stream",
     "text": [
      "Detected frames:  206\n"
     ]
    },
    {
     "name": "stderr",
     "output_type": "stream",
     "text": [
      "210it [00:09, 23.15it/s]\n"
     ]
    },
    {
     "name": "stdout",
     "output_type": "stream",
     "text": [
      "Saving results in F:\\videos\\ar41motor\\2022_07_29...\n",
      "Saving csv poses!\n",
      "Starting to analyze %  F:\\videos\\ar41motor\\2022_07_29\\Mirror56R.avi\n",
      "F:\\videos\\ar41motor\\2022_07_29  already exists!\n",
      "Loading  F:\\videos\\ar41motor\\2022_07_29\\Mirror56R.avi\n",
      "Duration of video [s]:  12.3 , recorded with  40.0 fps!\n",
      "Overall # of frames:  492  found with (before cropping) frame dimensions:  314 700\n",
      "Starting to extract posture\n"
     ]
    },
    {
     "name": "stderr",
     "output_type": "stream",
     "text": [
      "500it [00:21, 22.67it/s]                                                                                               "
     ]
    },
    {
     "name": "stdout",
     "output_type": "stream",
     "text": [
      "Detected frames:  492\n"
     ]
    },
    {
     "name": "stderr",
     "output_type": "stream",
     "text": [
      "500it [00:21, 22.82it/s]\n"
     ]
    },
    {
     "name": "stdout",
     "output_type": "stream",
     "text": [
      "Saving results in F:\\videos\\ar41motor\\2022_07_29...\n",
      "Saving csv poses!\n",
      "Starting to analyze %  F:\\videos\\ar41motor\\2022_07_29\\Mirror57R.avi\n",
      "F:\\videos\\ar41motor\\2022_07_29  already exists!\n",
      "Loading  F:\\videos\\ar41motor\\2022_07_29\\Mirror57R.avi\n",
      "Duration of video [s]:  3.75 , recorded with  40.0 fps!\n",
      "Overall # of frames:  150  found with (before cropping) frame dimensions:  314 700\n",
      "Starting to extract posture\n"
     ]
    },
    {
     "name": "stderr",
     "output_type": "stream",
     "text": [
      "160it [00:06, 25.16it/s]                                                                                               "
     ]
    },
    {
     "name": "stdout",
     "output_type": "stream",
     "text": [
      "Detected frames:  150\n"
     ]
    },
    {
     "name": "stderr",
     "output_type": "stream",
     "text": [
      "160it [00:06, 24.06it/s]\n"
     ]
    },
    {
     "name": "stdout",
     "output_type": "stream",
     "text": [
      "Saving results in F:\\videos\\ar41motor\\2022_07_29...\n",
      "Saving csv poses!\n",
      "Starting to analyze %  F:\\videos\\ar41motor\\2022_07_29\\Mirror58R.avi\n",
      "F:\\videos\\ar41motor\\2022_07_29  already exists!\n",
      "Loading  F:\\videos\\ar41motor\\2022_07_29\\Mirror58R.avi\n",
      "Duration of video [s]:  12.5 , recorded with  40.0 fps!\n",
      "Overall # of frames:  500  found with (before cropping) frame dimensions:  314 700\n",
      "Starting to extract posture\n"
     ]
    },
    {
     "name": "stderr",
     "output_type": "stream",
     "text": [
      "510it [00:21, 24.03it/s]                                                                                               "
     ]
    },
    {
     "name": "stdout",
     "output_type": "stream",
     "text": [
      "Detected frames:  500\n"
     ]
    },
    {
     "name": "stderr",
     "output_type": "stream",
     "text": [
      "510it [00:21, 23.23it/s]\n"
     ]
    },
    {
     "name": "stdout",
     "output_type": "stream",
     "text": [
      "Saving results in F:\\videos\\ar41motor\\2022_07_29...\n",
      "Saving csv poses!\n",
      "Starting to analyze %  F:\\videos\\ar41motor\\2022_07_29\\Mirror59R.avi\n",
      "F:\\videos\\ar41motor\\2022_07_29  already exists!\n",
      "Loading  F:\\videos\\ar41motor\\2022_07_29\\Mirror59R.avi\n",
      "Duration of video [s]:  12.5 , recorded with  40.0 fps!\n",
      "Overall # of frames:  500  found with (before cropping) frame dimensions:  314 700\n",
      "Starting to extract posture\n"
     ]
    },
    {
     "name": "stderr",
     "output_type": "stream",
     "text": [
      "510it [00:21, 23.82it/s]                                                                                               "
     ]
    },
    {
     "name": "stdout",
     "output_type": "stream",
     "text": [
      "Detected frames:  500\n"
     ]
    },
    {
     "name": "stderr",
     "output_type": "stream",
     "text": [
      "510it [00:22, 23.06it/s]\n"
     ]
    },
    {
     "name": "stdout",
     "output_type": "stream",
     "text": [
      "Saving results in F:\\videos\\ar41motor\\2022_07_29...\n",
      "Saving csv poses!\n",
      "Starting to analyze %  F:\\videos\\ar41motor\\2022_07_29\\Mirror5R.avi\n",
      "F:\\videos\\ar41motor\\2022_07_29  already exists!\n",
      "Loading  F:\\videos\\ar41motor\\2022_07_29\\Mirror5R.avi\n",
      "Duration of video [s]:  12.5 , recorded with  40.0 fps!\n",
      "Overall # of frames:  500  found with (before cropping) frame dimensions:  314 700\n",
      "Starting to extract posture\n"
     ]
    },
    {
     "name": "stderr",
     "output_type": "stream",
     "text": [
      "510it [00:21, 24.55it/s]                                                                                               "
     ]
    },
    {
     "name": "stdout",
     "output_type": "stream",
     "text": [
      "Detected frames:  500\n"
     ]
    },
    {
     "name": "stderr",
     "output_type": "stream",
     "text": [
      "510it [00:22, 22.98it/s]\n"
     ]
    },
    {
     "name": "stdout",
     "output_type": "stream",
     "text": [
      "Saving results in F:\\videos\\ar41motor\\2022_07_29...\n",
      "Saving csv poses!\n",
      "Starting to analyze %  F:\\videos\\ar41motor\\2022_07_29\\Mirror60R.avi\n",
      "F:\\videos\\ar41motor\\2022_07_29  already exists!\n",
      "Loading  F:\\videos\\ar41motor\\2022_07_29\\Mirror60R.avi\n",
      "Duration of video [s]:  12.18 , recorded with  40.0 fps!\n",
      "Overall # of frames:  487  found with (before cropping) frame dimensions:  314 700\n",
      "Starting to extract posture\n"
     ]
    },
    {
     "name": "stderr",
     "output_type": "stream",
     "text": [
      "490it [00:21, 20.48it/s]                                                                                               "
     ]
    },
    {
     "name": "stdout",
     "output_type": "stream",
     "text": [
      "Detected frames:  487\n"
     ]
    },
    {
     "name": "stderr",
     "output_type": "stream",
     "text": [
      "490it [00:21, 22.92it/s]\n"
     ]
    },
    {
     "name": "stdout",
     "output_type": "stream",
     "text": [
      "Saving results in F:\\videos\\ar41motor\\2022_07_29...\n",
      "Saving csv poses!\n",
      "Starting to analyze %  F:\\videos\\ar41motor\\2022_07_29\\Mirror61R.avi\n",
      "F:\\videos\\ar41motor\\2022_07_29  already exists!\n",
      "Loading  F:\\videos\\ar41motor\\2022_07_29\\Mirror61R.avi\n",
      "Duration of video [s]:  12.5 , recorded with  40.0 fps!\n",
      "Overall # of frames:  500  found with (before cropping) frame dimensions:  314 700\n",
      "Starting to extract posture\n"
     ]
    },
    {
     "name": "stderr",
     "output_type": "stream",
     "text": [
      "510it [00:21, 23.89it/s]                                                                                               "
     ]
    },
    {
     "name": "stdout",
     "output_type": "stream",
     "text": [
      "Detected frames:  500\n"
     ]
    },
    {
     "name": "stderr",
     "output_type": "stream",
     "text": [
      "510it [00:22, 23.17it/s]\n"
     ]
    },
    {
     "name": "stdout",
     "output_type": "stream",
     "text": [
      "Saving results in F:\\videos\\ar41motor\\2022_07_29...\n",
      "Saving csv poses!\n",
      "Starting to analyze %  F:\\videos\\ar41motor\\2022_07_29\\Mirror62R.avi\n",
      "F:\\videos\\ar41motor\\2022_07_29  already exists!\n",
      "Loading  F:\\videos\\ar41motor\\2022_07_29\\Mirror62R.avi\n",
      "Duration of video [s]:  12.5 , recorded with  40.0 fps!\n",
      "Overall # of frames:  500  found with (before cropping) frame dimensions:  314 700\n",
      "Starting to extract posture\n"
     ]
    },
    {
     "name": "stderr",
     "output_type": "stream",
     "text": [
      "510it [00:21, 23.63it/s]                                                                                               "
     ]
    },
    {
     "name": "stdout",
     "output_type": "stream",
     "text": [
      "Detected frames:  500\n"
     ]
    },
    {
     "name": "stderr",
     "output_type": "stream",
     "text": [
      "510it [00:22, 22.92it/s]\n"
     ]
    },
    {
     "name": "stdout",
     "output_type": "stream",
     "text": [
      "Saving results in F:\\videos\\ar41motor\\2022_07_29...\n",
      "Saving csv poses!\n",
      "Starting to analyze %  F:\\videos\\ar41motor\\2022_07_29\\Mirror63R.avi\n",
      "F:\\videos\\ar41motor\\2022_07_29  already exists!\n",
      "Loading  F:\\videos\\ar41motor\\2022_07_29\\Mirror63R.avi\n",
      "Duration of video [s]:  12.5 , recorded with  40.0 fps!\n",
      "Overall # of frames:  500  found with (before cropping) frame dimensions:  314 700\n",
      "Starting to extract posture\n"
     ]
    },
    {
     "name": "stderr",
     "output_type": "stream",
     "text": [
      "510it [00:21, 23.48it/s]                                                                                               "
     ]
    },
    {
     "name": "stdout",
     "output_type": "stream",
     "text": [
      "Detected frames:  500\n"
     ]
    },
    {
     "name": "stderr",
     "output_type": "stream",
     "text": [
      "510it [00:22, 22.87it/s]\n"
     ]
    },
    {
     "name": "stdout",
     "output_type": "stream",
     "text": [
      "Saving results in F:\\videos\\ar41motor\\2022_07_29...\n",
      "Saving csv poses!\n",
      "Starting to analyze %  F:\\videos\\ar41motor\\2022_07_29\\Mirror64R.avi\n",
      "F:\\videos\\ar41motor\\2022_07_29  already exists!\n",
      "Loading  F:\\videos\\ar41motor\\2022_07_29\\Mirror64R.avi\n",
      "Duration of video [s]:  10.85 , recorded with  40.0 fps!\n",
      "Overall # of frames:  434  found with (before cropping) frame dimensions:  314 700\n",
      "Starting to extract posture\n"
     ]
    },
    {
     "name": "stderr",
     "output_type": "stream",
     "text": [
      "440it [00:18, 24.89it/s]                                                                                               "
     ]
    },
    {
     "name": "stdout",
     "output_type": "stream",
     "text": [
      "Detected frames:  434\n"
     ]
    },
    {
     "name": "stderr",
     "output_type": "stream",
     "text": [
      "440it [00:19, 22.85it/s]\n"
     ]
    },
    {
     "name": "stdout",
     "output_type": "stream",
     "text": [
      "Saving results in F:\\videos\\ar41motor\\2022_07_29...\n",
      "Saving csv poses!\n",
      "Starting to analyze %  F:\\videos\\ar41motor\\2022_07_29\\Mirror65R.avi\n",
      "F:\\videos\\ar41motor\\2022_07_29  already exists!\n",
      "Loading  F:\\videos\\ar41motor\\2022_07_29\\Mirror65R.avi\n",
      "Duration of video [s]:  12.35 , recorded with  40.0 fps!\n",
      "Overall # of frames:  494  found with (before cropping) frame dimensions:  314 700\n",
      "Starting to extract posture\n"
     ]
    },
    {
     "name": "stderr",
     "output_type": "stream",
     "text": [
      "500it [00:21, 22.38it/s]                                                                                               "
     ]
    },
    {
     "name": "stdout",
     "output_type": "stream",
     "text": [
      "Detected frames:  494\n"
     ]
    },
    {
     "name": "stderr",
     "output_type": "stream",
     "text": [
      "500it [00:21, 23.02it/s]\n"
     ]
    },
    {
     "name": "stdout",
     "output_type": "stream",
     "text": [
      "Saving results in F:\\videos\\ar41motor\\2022_07_29...\n",
      "Saving csv poses!\n",
      "Starting to analyze %  F:\\videos\\ar41motor\\2022_07_29\\Mirror66R.avi\n",
      "F:\\videos\\ar41motor\\2022_07_29  already exists!\n",
      "Loading  F:\\videos\\ar41motor\\2022_07_29\\Mirror66R.avi\n",
      "Duration of video [s]:  12.5 , recorded with  40.0 fps!\n",
      "Overall # of frames:  500  found with (before cropping) frame dimensions:  314 700\n",
      "Starting to extract posture\n"
     ]
    },
    {
     "name": "stderr",
     "output_type": "stream",
     "text": [
      "510it [00:21, 23.15it/s]                                                                                               "
     ]
    },
    {
     "name": "stdout",
     "output_type": "stream",
     "text": [
      "Detected frames:  500\n"
     ]
    },
    {
     "name": "stderr",
     "output_type": "stream",
     "text": [
      "510it [00:22, 23.10it/s]\n"
     ]
    },
    {
     "name": "stdout",
     "output_type": "stream",
     "text": [
      "Saving results in F:\\videos\\ar41motor\\2022_07_29...\n",
      "Saving csv poses!\n",
      "Starting to analyze %  F:\\videos\\ar41motor\\2022_07_29\\Mirror67R.avi\n",
      "F:\\videos\\ar41motor\\2022_07_29  already exists!\n",
      "Loading  F:\\videos\\ar41motor\\2022_07_29\\Mirror67R.avi\n",
      "Duration of video [s]:  11.95 , recorded with  40.0 fps!\n",
      "Overall # of frames:  478  found with (before cropping) frame dimensions:  314 700\n",
      "Starting to extract posture\n"
     ]
    },
    {
     "name": "stderr",
     "output_type": "stream",
     "text": [
      "480it [00:20, 25.17it/s]                                                                                               "
     ]
    },
    {
     "name": "stdout",
     "output_type": "stream",
     "text": [
      "Detected frames:  478\n"
     ]
    },
    {
     "name": "stderr",
     "output_type": "stream",
     "text": [
      "480it [00:21, 22.57it/s]\n"
     ]
    },
    {
     "name": "stdout",
     "output_type": "stream",
     "text": [
      "Saving results in F:\\videos\\ar41motor\\2022_07_29...\n",
      "Saving csv poses!\n",
      "Starting to analyze %  F:\\videos\\ar41motor\\2022_07_29\\Mirror68R.avi\n",
      "F:\\videos\\ar41motor\\2022_07_29  already exists!\n",
      "Loading  F:\\videos\\ar41motor\\2022_07_29\\Mirror68R.avi\n",
      "Duration of video [s]:  12.5 , recorded with  40.0 fps!\n",
      "Overall # of frames:  500  found with (before cropping) frame dimensions:  314 700\n",
      "Starting to extract posture\n"
     ]
    },
    {
     "name": "stderr",
     "output_type": "stream",
     "text": [
      "510it [00:21, 24.17it/s]                                                                                               "
     ]
    },
    {
     "name": "stdout",
     "output_type": "stream",
     "text": [
      "Detected frames:  500\n"
     ]
    },
    {
     "name": "stderr",
     "output_type": "stream",
     "text": [
      "510it [00:22, 23.09it/s]\n"
     ]
    },
    {
     "name": "stdout",
     "output_type": "stream",
     "text": [
      "Saving results in F:\\videos\\ar41motor\\2022_07_29...\n",
      "Saving csv poses!\n",
      "Starting to analyze %  F:\\videos\\ar41motor\\2022_07_29\\Mirror69R.avi\n",
      "F:\\videos\\ar41motor\\2022_07_29  already exists!\n",
      "Loading  F:\\videos\\ar41motor\\2022_07_29\\Mirror69R.avi\n",
      "Duration of video [s]:  12.5 , recorded with  40.0 fps!\n",
      "Overall # of frames:  500  found with (before cropping) frame dimensions:  314 700\n",
      "Starting to extract posture\n"
     ]
    },
    {
     "name": "stderr",
     "output_type": "stream",
     "text": [
      "510it [00:21, 23.80it/s]                                                                                               "
     ]
    },
    {
     "name": "stdout",
     "output_type": "stream",
     "text": [
      "Detected frames:  500\n"
     ]
    },
    {
     "name": "stderr",
     "output_type": "stream",
     "text": [
      "510it [00:22, 23.04it/s]\n"
     ]
    },
    {
     "name": "stdout",
     "output_type": "stream",
     "text": [
      "Saving results in F:\\videos\\ar41motor\\2022_07_29...\n",
      "Saving csv poses!\n",
      "Starting to analyze %  F:\\videos\\ar41motor\\2022_07_29\\Mirror6R.avi\n",
      "F:\\videos\\ar41motor\\2022_07_29  already exists!\n",
      "Loading  F:\\videos\\ar41motor\\2022_07_29\\Mirror6R.avi\n",
      "Duration of video [s]:  10.78 , recorded with  40.0 fps!\n",
      "Overall # of frames:  431  found with (before cropping) frame dimensions:  314 700\n",
      "Starting to extract posture\n"
     ]
    },
    {
     "name": "stderr",
     "output_type": "stream",
     "text": [
      "440it [00:18, 25.54it/s]                                                                                               "
     ]
    },
    {
     "name": "stdout",
     "output_type": "stream",
     "text": [
      "Detected frames:  431\n"
     ]
    },
    {
     "name": "stderr",
     "output_type": "stream",
     "text": [
      "440it [00:18, 23.32it/s]\n"
     ]
    },
    {
     "name": "stdout",
     "output_type": "stream",
     "text": [
      "Saving results in F:\\videos\\ar41motor\\2022_07_29...\n",
      "Saving csv poses!\n",
      "Starting to analyze %  F:\\videos\\ar41motor\\2022_07_29\\Mirror70R.avi\n",
      "F:\\videos\\ar41motor\\2022_07_29  already exists!\n",
      "Loading  F:\\videos\\ar41motor\\2022_07_29\\Mirror70R.avi\n",
      "Duration of video [s]:  10.28 , recorded with  40.0 fps!\n",
      "Overall # of frames:  411  found with (before cropping) frame dimensions:  314 700\n",
      "Starting to extract posture\n"
     ]
    },
    {
     "name": "stderr",
     "output_type": "stream",
     "text": [
      "420it [00:18, 21.73it/s]                                                                                               "
     ]
    },
    {
     "name": "stdout",
     "output_type": "stream",
     "text": [
      "Detected frames:  411\n"
     ]
    },
    {
     "name": "stderr",
     "output_type": "stream",
     "text": [
      "420it [00:18, 22.84it/s]\n"
     ]
    },
    {
     "name": "stdout",
     "output_type": "stream",
     "text": [
      "Saving results in F:\\videos\\ar41motor\\2022_07_29...\n",
      "Saving csv poses!\n",
      "Starting to analyze %  F:\\videos\\ar41motor\\2022_07_29\\Mirror71R.avi\n",
      "F:\\videos\\ar41motor\\2022_07_29  already exists!\n",
      "Loading  F:\\videos\\ar41motor\\2022_07_29\\Mirror71R.avi\n",
      "Duration of video [s]:  12.5 , recorded with  40.0 fps!\n",
      "Overall # of frames:  500  found with (before cropping) frame dimensions:  314 700\n",
      "Starting to extract posture\n"
     ]
    },
    {
     "name": "stderr",
     "output_type": "stream",
     "text": [
      "510it [00:21, 24.17it/s]                                                                                               "
     ]
    },
    {
     "name": "stdout",
     "output_type": "stream",
     "text": [
      "Detected frames:  500\n"
     ]
    },
    {
     "name": "stderr",
     "output_type": "stream",
     "text": [
      "510it [00:22, 23.10it/s]\n"
     ]
    },
    {
     "name": "stdout",
     "output_type": "stream",
     "text": [
      "Saving results in F:\\videos\\ar41motor\\2022_07_29...\n",
      "Saving csv poses!\n",
      "Starting to analyze %  F:\\videos\\ar41motor\\2022_07_29\\Mirror72R.avi\n",
      "F:\\videos\\ar41motor\\2022_07_29  already exists!\n",
      "Loading  F:\\videos\\ar41motor\\2022_07_29\\Mirror72R.avi\n",
      "Duration of video [s]:  11.75 , recorded with  40.0 fps!\n",
      "Overall # of frames:  470  found with (before cropping) frame dimensions:  314 700\n",
      "Starting to extract posture\n"
     ]
    },
    {
     "name": "stderr",
     "output_type": "stream",
     "text": [
      "480it [00:20, 24.98it/s]                                                                                               "
     ]
    },
    {
     "name": "stdout",
     "output_type": "stream",
     "text": [
      "Detected frames:  470\n"
     ]
    },
    {
     "name": "stderr",
     "output_type": "stream",
     "text": [
      "480it [00:20, 22.95it/s]\n"
     ]
    },
    {
     "name": "stdout",
     "output_type": "stream",
     "text": [
      "Saving results in F:\\videos\\ar41motor\\2022_07_29...\n",
      "Saving csv poses!\n",
      "Starting to analyze %  F:\\videos\\ar41motor\\2022_07_29\\Mirror73R.avi\n",
      "F:\\videos\\ar41motor\\2022_07_29  already exists!\n",
      "Loading  F:\\videos\\ar41motor\\2022_07_29\\Mirror73R.avi\n",
      "Duration of video [s]:  11.68 , recorded with  40.0 fps!\n",
      "Overall # of frames:  467  found with (before cropping) frame dimensions:  314 700\n",
      "Starting to extract posture\n"
     ]
    },
    {
     "name": "stderr",
     "output_type": "stream",
     "text": [
      "470it [00:20, 23.68it/s]                                                                                               "
     ]
    },
    {
     "name": "stdout",
     "output_type": "stream",
     "text": [
      "Detected frames:  467\n"
     ]
    },
    {
     "name": "stderr",
     "output_type": "stream",
     "text": [
      "470it [00:20, 22.70it/s]\n"
     ]
    },
    {
     "name": "stdout",
     "output_type": "stream",
     "text": [
      "Saving results in F:\\videos\\ar41motor\\2022_07_29...\n",
      "Saving csv poses!\n",
      "Starting to analyze %  F:\\videos\\ar41motor\\2022_07_29\\Mirror74R.avi\n",
      "F:\\videos\\ar41motor\\2022_07_29  already exists!\n",
      "Loading  F:\\videos\\ar41motor\\2022_07_29\\Mirror74R.avi\n",
      "Duration of video [s]:  12.25 , recorded with  40.0 fps!\n",
      "Overall # of frames:  490  found with (before cropping) frame dimensions:  314 700\n",
      "Starting to extract posture\n"
     ]
    },
    {
     "name": "stderr",
     "output_type": "stream",
     "text": [
      "500it [00:21, 22.45it/s]                                                                                               "
     ]
    },
    {
     "name": "stdout",
     "output_type": "stream",
     "text": [
      "Detected frames:  490\n"
     ]
    },
    {
     "name": "stderr",
     "output_type": "stream",
     "text": [
      "500it [00:21, 22.93it/s]\n"
     ]
    },
    {
     "name": "stdout",
     "output_type": "stream",
     "text": [
      "Saving results in F:\\videos\\ar41motor\\2022_07_29...\n",
      "Saving csv poses!\n",
      "Starting to analyze %  F:\\videos\\ar41motor\\2022_07_29\\Mirror75R.avi\n",
      "F:\\videos\\ar41motor\\2022_07_29  already exists!\n",
      "Loading  F:\\videos\\ar41motor\\2022_07_29\\Mirror75R.avi\n",
      "Duration of video [s]:  8.7 , recorded with  40.0 fps!\n",
      "Overall # of frames:  348  found with (before cropping) frame dimensions:  314 700\n",
      "Starting to extract posture\n"
     ]
    },
    {
     "name": "stderr",
     "output_type": "stream",
     "text": [
      "350it [00:14, 24.46it/s]                                                                                               "
     ]
    },
    {
     "name": "stdout",
     "output_type": "stream",
     "text": [
      "Detected frames:  348\n"
     ]
    },
    {
     "name": "stderr",
     "output_type": "stream",
     "text": [
      "350it [00:15, 22.91it/s]\n"
     ]
    },
    {
     "name": "stdout",
     "output_type": "stream",
     "text": [
      "Saving results in F:\\videos\\ar41motor\\2022_07_29...\n",
      "Saving csv poses!\n",
      "Starting to analyze %  F:\\videos\\ar41motor\\2022_07_29\\Mirror76R.avi\n",
      "F:\\videos\\ar41motor\\2022_07_29  already exists!\n",
      "Loading  F:\\videos\\ar41motor\\2022_07_29\\Mirror76R.avi\n",
      "Duration of video [s]:  12.5 , recorded with  40.0 fps!\n",
      "Overall # of frames:  500  found with (before cropping) frame dimensions:  314 700\n",
      "Starting to extract posture\n"
     ]
    },
    {
     "name": "stderr",
     "output_type": "stream",
     "text": [
      "510it [00:21, 24.40it/s]                                                                                               "
     ]
    },
    {
     "name": "stdout",
     "output_type": "stream",
     "text": [
      "Detected frames:  500\n"
     ]
    },
    {
     "name": "stderr",
     "output_type": "stream",
     "text": [
      "510it [00:22, 23.12it/s]\n"
     ]
    },
    {
     "name": "stdout",
     "output_type": "stream",
     "text": [
      "Saving results in F:\\videos\\ar41motor\\2022_07_29...\n",
      "Saving csv poses!\n",
      "Starting to analyze %  F:\\videos\\ar41motor\\2022_07_29\\Mirror77R.avi\n",
      "F:\\videos\\ar41motor\\2022_07_29  already exists!\n",
      "Loading  F:\\videos\\ar41motor\\2022_07_29\\Mirror77R.avi\n",
      "Duration of video [s]:  12.38 , recorded with  40.0 fps!\n",
      "Overall # of frames:  495  found with (before cropping) frame dimensions:  314 700\n",
      "Starting to extract posture\n"
     ]
    },
    {
     "name": "stderr",
     "output_type": "stream",
     "text": [
      "500it [00:21, 22.85it/s]                                                                                               "
     ]
    },
    {
     "name": "stdout",
     "output_type": "stream",
     "text": [
      "Detected frames:  495\n"
     ]
    },
    {
     "name": "stderr",
     "output_type": "stream",
     "text": [
      "500it [00:21, 22.90it/s]\n"
     ]
    },
    {
     "name": "stdout",
     "output_type": "stream",
     "text": [
      "Saving results in F:\\videos\\ar41motor\\2022_07_29...\n",
      "Saving csv poses!\n",
      "Starting to analyze %  F:\\videos\\ar41motor\\2022_07_29\\Mirror78R.avi\n",
      "F:\\videos\\ar41motor\\2022_07_29  already exists!\n",
      "Loading  F:\\videos\\ar41motor\\2022_07_29\\Mirror78R.avi\n",
      "Duration of video [s]:  12.5 , recorded with  40.0 fps!\n",
      "Overall # of frames:  500  found with (before cropping) frame dimensions:  314 700\n",
      "Starting to extract posture\n"
     ]
    },
    {
     "name": "stderr",
     "output_type": "stream",
     "text": [
      "510it [00:21, 23.88it/s]                                                                                               "
     ]
    },
    {
     "name": "stdout",
     "output_type": "stream",
     "text": [
      "Detected frames:  500\n"
     ]
    },
    {
     "name": "stderr",
     "output_type": "stream",
     "text": [
      "510it [00:22, 22.92it/s]\n"
     ]
    },
    {
     "name": "stdout",
     "output_type": "stream",
     "text": [
      "Saving results in F:\\videos\\ar41motor\\2022_07_29...\n",
      "Saving csv poses!\n",
      "Starting to analyze %  F:\\videos\\ar41motor\\2022_07_29\\Mirror79R.avi\n",
      "F:\\videos\\ar41motor\\2022_07_29  already exists!\n",
      "Loading  F:\\videos\\ar41motor\\2022_07_29\\Mirror79R.avi\n",
      "Duration of video [s]:  11.55 , recorded with  40.0 fps!\n",
      "Overall # of frames:  462  found with (before cropping) frame dimensions:  314 700\n",
      "Starting to extract posture\n"
     ]
    },
    {
     "name": "stderr",
     "output_type": "stream",
     "text": [
      "470it [00:19, 24.30it/s]                                                                                               "
     ]
    },
    {
     "name": "stdout",
     "output_type": "stream",
     "text": [
      "Detected frames:  462\n"
     ]
    },
    {
     "name": "stderr",
     "output_type": "stream",
     "text": [
      "470it [00:20, 23.21it/s]\n"
     ]
    },
    {
     "name": "stdout",
     "output_type": "stream",
     "text": [
      "Saving results in F:\\videos\\ar41motor\\2022_07_29...\n",
      "Saving csv poses!\n",
      "Starting to analyze %  F:\\videos\\ar41motor\\2022_07_29\\Mirror7R.avi\n",
      "F:\\videos\\ar41motor\\2022_07_29  already exists!\n",
      "Loading  F:\\videos\\ar41motor\\2022_07_29\\Mirror7R.avi\n",
      "Duration of video [s]:  11.3 , recorded with  40.0 fps!\n",
      "Overall # of frames:  452  found with (before cropping) frame dimensions:  314 700\n",
      "Starting to extract posture\n"
     ]
    },
    {
     "name": "stderr",
     "output_type": "stream",
     "text": [
      "460it [00:20, 21.66it/s]                                                                                               "
     ]
    },
    {
     "name": "stdout",
     "output_type": "stream",
     "text": [
      "Detected frames:  452\n"
     ]
    },
    {
     "name": "stderr",
     "output_type": "stream",
     "text": [
      "460it [00:20, 22.54it/s]\n"
     ]
    },
    {
     "name": "stdout",
     "output_type": "stream",
     "text": [
      "Saving results in F:\\videos\\ar41motor\\2022_07_29...\n",
      "Saving csv poses!\n",
      "Starting to analyze %  F:\\videos\\ar41motor\\2022_07_29\\Mirror80R.avi\n",
      "F:\\videos\\ar41motor\\2022_07_29  already exists!\n",
      "Loading  F:\\videos\\ar41motor\\2022_07_29\\Mirror80R.avi\n",
      "Duration of video [s]:  12.45 , recorded with  40.0 fps!\n",
      "Overall # of frames:  498  found with (before cropping) frame dimensions:  314 700\n",
      "Starting to extract posture\n"
     ]
    },
    {
     "name": "stderr",
     "output_type": "stream",
     "text": [
      "500it [00:21, 22.01it/s]                                                                                               "
     ]
    },
    {
     "name": "stdout",
     "output_type": "stream",
     "text": [
      "Detected frames:  498\n"
     ]
    },
    {
     "name": "stderr",
     "output_type": "stream",
     "text": [
      "500it [00:22, 22.55it/s]\n"
     ]
    },
    {
     "name": "stdout",
     "output_type": "stream",
     "text": [
      "Saving results in F:\\videos\\ar41motor\\2022_07_29...\n",
      "Saving csv poses!\n",
      "Starting to analyze %  F:\\videos\\ar41motor\\2022_07_29\\Mirror81R.avi\n",
      "F:\\videos\\ar41motor\\2022_07_29  already exists!\n",
      "Loading  F:\\videos\\ar41motor\\2022_07_29\\Mirror81R.avi\n",
      "Duration of video [s]:  12.5 , recorded with  40.0 fps!\n",
      "Overall # of frames:  500  found with (before cropping) frame dimensions:  314 700\n",
      "Starting to extract posture\n"
     ]
    },
    {
     "name": "stderr",
     "output_type": "stream",
     "text": [
      "510it [00:21, 23.50it/s]                                                                                               "
     ]
    },
    {
     "name": "stdout",
     "output_type": "stream",
     "text": [
      "Detected frames:  500\n"
     ]
    },
    {
     "name": "stderr",
     "output_type": "stream",
     "text": [
      "510it [00:22, 23.10it/s]\n"
     ]
    },
    {
     "name": "stdout",
     "output_type": "stream",
     "text": [
      "Saving results in F:\\videos\\ar41motor\\2022_07_29...\n",
      "Saving csv poses!\n",
      "Starting to analyze %  F:\\videos\\ar41motor\\2022_07_29\\Mirror82R.avi\n",
      "F:\\videos\\ar41motor\\2022_07_29  already exists!\n",
      "Loading  F:\\videos\\ar41motor\\2022_07_29\\Mirror82R.avi\n",
      "Duration of video [s]:  8.9 , recorded with  40.0 fps!\n",
      "Overall # of frames:  356  found with (before cropping) frame dimensions:  314 700\n",
      "Starting to extract posture\n"
     ]
    },
    {
     "name": "stderr",
     "output_type": "stream",
     "text": [
      "360it [00:15, 25.05it/s]                                                                                               "
     ]
    },
    {
     "name": "stdout",
     "output_type": "stream",
     "text": [
      "Detected frames:  356\n"
     ]
    },
    {
     "name": "stderr",
     "output_type": "stream",
     "text": [
      "360it [00:15, 22.95it/s]\n"
     ]
    },
    {
     "name": "stdout",
     "output_type": "stream",
     "text": [
      "Saving results in F:\\videos\\ar41motor\\2022_07_29...\n",
      "Saving csv poses!\n",
      "Starting to analyze %  F:\\videos\\ar41motor\\2022_07_29\\Mirror83R.avi\n",
      "F:\\videos\\ar41motor\\2022_07_29  already exists!\n",
      "Loading  F:\\videos\\ar41motor\\2022_07_29\\Mirror83R.avi\n",
      "Duration of video [s]:  12.45 , recorded with  40.0 fps!\n",
      "Overall # of frames:  498  found with (before cropping) frame dimensions:  314 700\n",
      "Starting to extract posture\n"
     ]
    },
    {
     "name": "stderr",
     "output_type": "stream",
     "text": [
      "500it [00:21, 23.21it/s]                                                                                               "
     ]
    },
    {
     "name": "stdout",
     "output_type": "stream",
     "text": [
      "Detected frames:  498\n"
     ]
    },
    {
     "name": "stderr",
     "output_type": "stream",
     "text": [
      "500it [00:21, 22.81it/s]\n"
     ]
    },
    {
     "name": "stdout",
     "output_type": "stream",
     "text": [
      "Saving results in F:\\videos\\ar41motor\\2022_07_29...\n",
      "Saving csv poses!\n",
      "Starting to analyze %  F:\\videos\\ar41motor\\2022_07_29\\Mirror84R.avi\n",
      "F:\\videos\\ar41motor\\2022_07_29  already exists!\n",
      "Loading  F:\\videos\\ar41motor\\2022_07_29\\Mirror84R.avi\n",
      "Duration of video [s]:  6.05 , recorded with  40.0 fps!\n",
      "Overall # of frames:  242  found with (before cropping) frame dimensions:  314 700\n",
      "Starting to extract posture\n"
     ]
    },
    {
     "name": "stderr",
     "output_type": "stream",
     "text": [
      "250it [00:10, 20.29it/s]                                                                                               "
     ]
    },
    {
     "name": "stdout",
     "output_type": "stream",
     "text": [
      "Detected frames:  242\n"
     ]
    },
    {
     "name": "stderr",
     "output_type": "stream",
     "text": [
      "250it [00:11, 22.72it/s]\n"
     ]
    },
    {
     "name": "stdout",
     "output_type": "stream",
     "text": [
      "Saving results in F:\\videos\\ar41motor\\2022_07_29...\n",
      "Saving csv poses!\n",
      "Starting to analyze %  F:\\videos\\ar41motor\\2022_07_29\\Mirror85R.avi\n",
      "F:\\videos\\ar41motor\\2022_07_29  already exists!\n",
      "Loading  F:\\videos\\ar41motor\\2022_07_29\\Mirror85R.avi\n",
      "Duration of video [s]:  12.45 , recorded with  40.0 fps!\n",
      "Overall # of frames:  498  found with (before cropping) frame dimensions:  314 700\n",
      "Starting to extract posture\n"
     ]
    },
    {
     "name": "stderr",
     "output_type": "stream",
     "text": [
      "500it [00:21, 22.47it/s]                                                                                               "
     ]
    },
    {
     "name": "stdout",
     "output_type": "stream",
     "text": [
      "Detected frames:  498\n"
     ]
    },
    {
     "name": "stderr",
     "output_type": "stream",
     "text": [
      "500it [00:22, 22.61it/s]\n"
     ]
    },
    {
     "name": "stdout",
     "output_type": "stream",
     "text": [
      "Saving results in F:\\videos\\ar41motor\\2022_07_29...\n",
      "Saving csv poses!\n",
      "Starting to analyze %  F:\\videos\\ar41motor\\2022_07_29\\Mirror86R.avi\n",
      "F:\\videos\\ar41motor\\2022_07_29  already exists!\n",
      "Loading  F:\\videos\\ar41motor\\2022_07_29\\Mirror86R.avi\n",
      "Duration of video [s]:  12.3 , recorded with  40.0 fps!\n",
      "Overall # of frames:  492  found with (before cropping) frame dimensions:  314 700\n",
      "Starting to extract posture\n"
     ]
    },
    {
     "name": "stderr",
     "output_type": "stream",
     "text": [
      "500it [00:21, 21.77it/s]                                                                                               "
     ]
    },
    {
     "name": "stdout",
     "output_type": "stream",
     "text": [
      "Detected frames:  492\n"
     ]
    },
    {
     "name": "stderr",
     "output_type": "stream",
     "text": [
      "500it [00:21, 22.86it/s]\n"
     ]
    },
    {
     "name": "stdout",
     "output_type": "stream",
     "text": [
      "Saving results in F:\\videos\\ar41motor\\2022_07_29...\n",
      "Saving csv poses!\n",
      "Starting to analyze %  F:\\videos\\ar41motor\\2022_07_29\\Mirror87R.avi\n",
      "F:\\videos\\ar41motor\\2022_07_29  already exists!\n",
      "Loading  F:\\videos\\ar41motor\\2022_07_29\\Mirror87R.avi\n",
      "Duration of video [s]:  12.45 , recorded with  40.0 fps!\n",
      "Overall # of frames:  498  found with (before cropping) frame dimensions:  314 700\n",
      "Starting to extract posture\n"
     ]
    },
    {
     "name": "stderr",
     "output_type": "stream",
     "text": [
      "500it [00:21, 22.24it/s]                                                                                               "
     ]
    },
    {
     "name": "stdout",
     "output_type": "stream",
     "text": [
      "Detected frames:  498\n"
     ]
    },
    {
     "name": "stderr",
     "output_type": "stream",
     "text": [
      "500it [00:22, 22.33it/s]\n"
     ]
    },
    {
     "name": "stdout",
     "output_type": "stream",
     "text": [
      "Saving results in F:\\videos\\ar41motor\\2022_07_29...\n",
      "Saving csv poses!\n",
      "Starting to analyze %  F:\\videos\\ar41motor\\2022_07_29\\Mirror88R.avi\n",
      "F:\\videos\\ar41motor\\2022_07_29  already exists!\n",
      "Loading  F:\\videos\\ar41motor\\2022_07_29\\Mirror88R.avi\n",
      "Duration of video [s]:  11.55 , recorded with  40.0 fps!\n",
      "Overall # of frames:  462  found with (before cropping) frame dimensions:  314 700\n",
      "Starting to extract posture\n"
     ]
    },
    {
     "name": "stderr",
     "output_type": "stream",
     "text": [
      "470it [00:19, 24.12it/s]                                                                                               "
     ]
    },
    {
     "name": "stdout",
     "output_type": "stream",
     "text": [
      "Detected frames:  462\n"
     ]
    },
    {
     "name": "stderr",
     "output_type": "stream",
     "text": [
      "470it [00:20, 23.21it/s]\n"
     ]
    },
    {
     "name": "stdout",
     "output_type": "stream",
     "text": [
      "Saving results in F:\\videos\\ar41motor\\2022_07_29...\n",
      "Saving csv poses!\n",
      "Starting to analyze %  F:\\videos\\ar41motor\\2022_07_29\\Mirror89R.avi\n",
      "F:\\videos\\ar41motor\\2022_07_29  already exists!\n",
      "Loading  F:\\videos\\ar41motor\\2022_07_29\\Mirror89R.avi\n",
      "Duration of video [s]:  12.43 , recorded with  40.0 fps!\n",
      "Overall # of frames:  497  found with (before cropping) frame dimensions:  314 700\n",
      "Starting to extract posture\n"
     ]
    },
    {
     "name": "stderr",
     "output_type": "stream",
     "text": [
      "500it [00:21, 22.19it/s]                                                                                               "
     ]
    },
    {
     "name": "stdout",
     "output_type": "stream",
     "text": [
      "Detected frames:  497\n"
     ]
    },
    {
     "name": "stderr",
     "output_type": "stream",
     "text": [
      "500it [00:22, 22.63it/s]\n"
     ]
    },
    {
     "name": "stdout",
     "output_type": "stream",
     "text": [
      "Saving results in F:\\videos\\ar41motor\\2022_07_29...\n",
      "Saving csv poses!\n",
      "Starting to analyze %  F:\\videos\\ar41motor\\2022_07_29\\Mirror8R.avi\n",
      "F:\\videos\\ar41motor\\2022_07_29  already exists!\n",
      "Loading  F:\\videos\\ar41motor\\2022_07_29\\Mirror8R.avi\n",
      "Duration of video [s]:  7.4 , recorded with  40.0 fps!\n",
      "Overall # of frames:  296  found with (before cropping) frame dimensions:  314 700\n",
      "Starting to extract posture\n"
     ]
    },
    {
     "name": "stderr",
     "output_type": "stream",
     "text": [
      "300it [00:12, 21.96it/s]                                                                                               "
     ]
    },
    {
     "name": "stdout",
     "output_type": "stream",
     "text": [
      "Detected frames:  296\n"
     ]
    },
    {
     "name": "stderr",
     "output_type": "stream",
     "text": [
      "300it [00:12, 23.11it/s]\n"
     ]
    },
    {
     "name": "stdout",
     "output_type": "stream",
     "text": [
      "Saving results in F:\\videos\\ar41motor\\2022_07_29...\n",
      "Saving csv poses!\n",
      "Starting to analyze %  F:\\videos\\ar41motor\\2022_07_29\\Mirror90R.avi\n",
      "F:\\videos\\ar41motor\\2022_07_29  already exists!\n",
      "Loading  F:\\videos\\ar41motor\\2022_07_29\\Mirror90R.avi\n",
      "Duration of video [s]:  10.62 , recorded with  40.0 fps!\n",
      "Overall # of frames:  425  found with (before cropping) frame dimensions:  314 700\n",
      "Starting to extract posture\n"
     ]
    },
    {
     "name": "stderr",
     "output_type": "stream",
     "text": [
      "430it [00:18, 23.85it/s]                                                                                               "
     ]
    },
    {
     "name": "stdout",
     "output_type": "stream",
     "text": [
      "Detected frames:  425\n"
     ]
    },
    {
     "name": "stderr",
     "output_type": "stream",
     "text": [
      "430it [00:18, 22.78it/s]\n"
     ]
    },
    {
     "name": "stdout",
     "output_type": "stream",
     "text": [
      "Saving results in F:\\videos\\ar41motor\\2022_07_29...\n",
      "Saving csv poses!\n",
      "Starting to analyze %  F:\\videos\\ar41motor\\2022_07_29\\Mirror91R.avi\n",
      "F:\\videos\\ar41motor\\2022_07_29  already exists!\n",
      "Loading  F:\\videos\\ar41motor\\2022_07_29\\Mirror91R.avi\n",
      "Duration of video [s]:  11.62 , recorded with  40.0 fps!\n",
      "Overall # of frames:  465  found with (before cropping) frame dimensions:  314 700\n",
      "Starting to extract posture\n"
     ]
    },
    {
     "name": "stderr",
     "output_type": "stream",
     "text": [
      "470it [00:19, 24.38it/s]                                                                                               "
     ]
    },
    {
     "name": "stdout",
     "output_type": "stream",
     "text": [
      "Detected frames:  465\n"
     ]
    },
    {
     "name": "stderr",
     "output_type": "stream",
     "text": [
      "470it [00:20, 22.80it/s]\n"
     ]
    },
    {
     "name": "stdout",
     "output_type": "stream",
     "text": [
      "Saving results in F:\\videos\\ar41motor\\2022_07_29...\n",
      "Saving csv poses!\n",
      "Starting to analyze %  F:\\videos\\ar41motor\\2022_07_29\\Mirror92R.avi\n",
      "F:\\videos\\ar41motor\\2022_07_29  already exists!\n",
      "Loading  F:\\videos\\ar41motor\\2022_07_29\\Mirror92R.avi\n",
      "Duration of video [s]:  12.5 , recorded with  40.0 fps!\n",
      "Overall # of frames:  500  found with (before cropping) frame dimensions:  314 700\n",
      "Starting to extract posture\n"
     ]
    },
    {
     "name": "stderr",
     "output_type": "stream",
     "text": [
      "510it [00:21, 24.76it/s]                                                                                               "
     ]
    },
    {
     "name": "stdout",
     "output_type": "stream",
     "text": [
      "Detected frames:  500\n"
     ]
    },
    {
     "name": "stderr",
     "output_type": "stream",
     "text": [
      "510it [00:21, 23.19it/s]\n"
     ]
    },
    {
     "name": "stdout",
     "output_type": "stream",
     "text": [
      "Saving results in F:\\videos\\ar41motor\\2022_07_29...\n",
      "Saving csv poses!\n",
      "Starting to analyze %  F:\\videos\\ar41motor\\2022_07_29\\Mirror93R.avi\n",
      "F:\\videos\\ar41motor\\2022_07_29  already exists!\n",
      "Loading  F:\\videos\\ar41motor\\2022_07_29\\Mirror93R.avi\n",
      "Duration of video [s]:  12.47 , recorded with  40.0 fps!\n",
      "Overall # of frames:  499  found with (before cropping) frame dimensions:  314 700\n",
      "Starting to extract posture\n"
     ]
    },
    {
     "name": "stderr",
     "output_type": "stream",
     "text": [
      "500it [00:21, 22.75it/s]                                                                                               "
     ]
    },
    {
     "name": "stdout",
     "output_type": "stream",
     "text": [
      "Detected frames:  499\n"
     ]
    },
    {
     "name": "stderr",
     "output_type": "stream",
     "text": [
      "500it [00:22, 22.59it/s]\n"
     ]
    },
    {
     "name": "stdout",
     "output_type": "stream",
     "text": [
      "Saving results in F:\\videos\\ar41motor\\2022_07_29...\n",
      "Saving csv poses!\n",
      "Starting to analyze %  F:\\videos\\ar41motor\\2022_07_29\\Mirror94R.avi\n",
      "F:\\videos\\ar41motor\\2022_07_29  already exists!\n",
      "Loading  F:\\videos\\ar41motor\\2022_07_29\\Mirror94R.avi\n",
      "Duration of video [s]:  8.6 , recorded with  40.0 fps!\n",
      "Overall # of frames:  344  found with (before cropping) frame dimensions:  314 700\n",
      "Starting to extract posture\n"
     ]
    },
    {
     "name": "stderr",
     "output_type": "stream",
     "text": [
      "350it [00:14, 24.17it/s]                                                                                               "
     ]
    },
    {
     "name": "stdout",
     "output_type": "stream",
     "text": [
      "Detected frames:  344\n"
     ]
    },
    {
     "name": "stderr",
     "output_type": "stream",
     "text": [
      "350it [00:15, 23.04it/s]\n"
     ]
    },
    {
     "name": "stdout",
     "output_type": "stream",
     "text": [
      "Saving results in F:\\videos\\ar41motor\\2022_07_29...\n",
      "Saving csv poses!\n",
      "Starting to analyze %  F:\\videos\\ar41motor\\2022_07_29\\Mirror95R.avi\n",
      "F:\\videos\\ar41motor\\2022_07_29  already exists!\n",
      "Loading  F:\\videos\\ar41motor\\2022_07_29\\Mirror95R.avi\n",
      "Duration of video [s]:  11.07 , recorded with  40.0 fps!\n",
      "Overall # of frames:  443  found with (before cropping) frame dimensions:  314 700\n",
      "Starting to extract posture\n"
     ]
    },
    {
     "name": "stderr",
     "output_type": "stream",
     "text": [
      "450it [00:19, 20.95it/s]                                                                                               "
     ]
    },
    {
     "name": "stdout",
     "output_type": "stream",
     "text": [
      "Detected frames:  443\n"
     ]
    },
    {
     "name": "stderr",
     "output_type": "stream",
     "text": [
      "450it [00:19, 22.82it/s]\n"
     ]
    },
    {
     "name": "stdout",
     "output_type": "stream",
     "text": [
      "Saving results in F:\\videos\\ar41motor\\2022_07_29...\n",
      "Saving csv poses!\n",
      "Starting to analyze %  F:\\videos\\ar41motor\\2022_07_29\\Mirror96R.avi\n",
      "F:\\videos\\ar41motor\\2022_07_29  already exists!\n",
      "Loading  F:\\videos\\ar41motor\\2022_07_29\\Mirror96R.avi\n",
      "Duration of video [s]:  11.1 , recorded with  40.0 fps!\n",
      "Overall # of frames:  444  found with (before cropping) frame dimensions:  314 700\n",
      "Starting to extract posture\n"
     ]
    },
    {
     "name": "stderr",
     "output_type": "stream",
     "text": [
      "450it [00:19, 20.34it/s]                                                                                               "
     ]
    },
    {
     "name": "stdout",
     "output_type": "stream",
     "text": [
      "Detected frames:  444\n"
     ]
    },
    {
     "name": "stderr",
     "output_type": "stream",
     "text": [
      "450it [00:19, 23.00it/s]\n"
     ]
    },
    {
     "name": "stdout",
     "output_type": "stream",
     "text": [
      "Saving results in F:\\videos\\ar41motor\\2022_07_29...\n",
      "Saving csv poses!\n",
      "Starting to analyze %  F:\\videos\\ar41motor\\2022_07_29\\Mirror97R.avi\n",
      "F:\\videos\\ar41motor\\2022_07_29  already exists!\n",
      "Loading  F:\\videos\\ar41motor\\2022_07_29\\Mirror97R.avi\n",
      "Duration of video [s]:  12.5 , recorded with  40.0 fps!\n",
      "Overall # of frames:  500  found with (before cropping) frame dimensions:  314 700\n",
      "Starting to extract posture\n"
     ]
    },
    {
     "name": "stderr",
     "output_type": "stream",
     "text": [
      "510it [00:21, 22.95it/s]                                                                                               "
     ]
    },
    {
     "name": "stdout",
     "output_type": "stream",
     "text": [
      "Detected frames:  500\n"
     ]
    },
    {
     "name": "stderr",
     "output_type": "stream",
     "text": [
      "510it [00:22, 23.09it/s]\n"
     ]
    },
    {
     "name": "stdout",
     "output_type": "stream",
     "text": [
      "Saving results in F:\\videos\\ar41motor\\2022_07_29...\n",
      "Saving csv poses!\n",
      "Starting to analyze %  F:\\videos\\ar41motor\\2022_07_29\\Mirror98R.avi\n",
      "F:\\videos\\ar41motor\\2022_07_29  already exists!\n",
      "Loading  F:\\videos\\ar41motor\\2022_07_29\\Mirror98R.avi\n",
      "Duration of video [s]:  12.5 , recorded with  40.0 fps!\n",
      "Overall # of frames:  500  found with (before cropping) frame dimensions:  314 700\n",
      "Starting to extract posture\n"
     ]
    },
    {
     "name": "stderr",
     "output_type": "stream",
     "text": [
      "510it [00:21, 23.38it/s]                                                                                               "
     ]
    },
    {
     "name": "stdout",
     "output_type": "stream",
     "text": [
      "Detected frames:  500\n"
     ]
    },
    {
     "name": "stderr",
     "output_type": "stream",
     "text": [
      "510it [00:21, 23.19it/s]\n"
     ]
    },
    {
     "name": "stdout",
     "output_type": "stream",
     "text": [
      "Saving results in F:\\videos\\ar41motor\\2022_07_29...\n",
      "Saving csv poses!\n",
      "Starting to analyze %  F:\\videos\\ar41motor\\2022_07_29\\Mirror99R.avi\n",
      "F:\\videos\\ar41motor\\2022_07_29  already exists!\n",
      "Loading  F:\\videos\\ar41motor\\2022_07_29\\Mirror99R.avi\n",
      "Duration of video [s]:  12.5 , recorded with  40.0 fps!\n",
      "Overall # of frames:  500  found with (before cropping) frame dimensions:  314 700\n",
      "Starting to extract posture\n"
     ]
    },
    {
     "name": "stderr",
     "output_type": "stream",
     "text": [
      "510it [00:21, 23.13it/s]                                                                                               "
     ]
    },
    {
     "name": "stdout",
     "output_type": "stream",
     "text": [
      "Detected frames:  500\n"
     ]
    },
    {
     "name": "stderr",
     "output_type": "stream",
     "text": [
      "510it [00:22, 23.10it/s]\n"
     ]
    },
    {
     "name": "stdout",
     "output_type": "stream",
     "text": [
      "Saving results in F:\\videos\\ar41motor\\2022_07_29...\n",
      "Saving csv poses!\n",
      "Starting to analyze %  F:\\videos\\ar41motor\\2022_07_29\\Mirror9R.avi\n",
      "F:\\videos\\ar41motor\\2022_07_29  already exists!\n",
      "Loading  F:\\videos\\ar41motor\\2022_07_29\\Mirror9R.avi\n",
      "Duration of video [s]:  7.97 , recorded with  40.0 fps!\n",
      "Overall # of frames:  319  found with (before cropping) frame dimensions:  314 700\n",
      "Starting to extract posture\n"
     ]
    },
    {
     "name": "stderr",
     "output_type": "stream",
     "text": [
      "320it [00:13, 23.77it/s]                                                                                               "
     ]
    },
    {
     "name": "stdout",
     "output_type": "stream",
     "text": [
      "Detected frames:  319\n"
     ]
    },
    {
     "name": "stderr",
     "output_type": "stream",
     "text": [
      "320it [00:14, 22.40it/s]\n"
     ]
    },
    {
     "name": "stdout",
     "output_type": "stream",
     "text": [
      "Saving results in F:\\videos\\ar41motor\\2022_07_29...\n",
      "Saving csv poses!\n",
      "The videos are analyzed. Now your research can truly start! \n",
      " You can create labeled videos with 'create_labeled_video'\n",
      "If the tracking is not satisfactory for some videos, consider expanding the training set. You can use the function 'extract_outlier_frames' to extract a few representative outlier frames.\n",
      "Filtering with median model F:\\videos\\ar41motor\\2022_07_29\\Mirror0R.avi\n",
      "Saving filtered csv poses!\n",
      "Filtering with median model F:\\videos\\ar41motor\\2022_07_29\\Mirror100R.avi\n",
      "Saving filtered csv poses!\n",
      "Filtering with median model F:\\videos\\ar41motor\\2022_07_29\\Mirror101R.avi\n",
      "Saving filtered csv poses!\n",
      "Filtering with median model F:\\videos\\ar41motor\\2022_07_29\\Mirror102R.avi\n",
      "Saving filtered csv poses!\n",
      "Filtering with median model F:\\videos\\ar41motor\\2022_07_29\\Mirror103R.avi\n",
      "Saving filtered csv poses!\n",
      "Filtering with median model F:\\videos\\ar41motor\\2022_07_29\\Mirror104R.avi\n",
      "Saving filtered csv poses!\n",
      "Filtering with median model F:\\videos\\ar41motor\\2022_07_29\\Mirror105R.avi\n",
      "Saving filtered csv poses!\n",
      "Filtering with median model F:\\videos\\ar41motor\\2022_07_29\\Mirror106R.avi\n",
      "Saving filtered csv poses!\n",
      "Filtering with median model F:\\videos\\ar41motor\\2022_07_29\\Mirror107R.avi\n",
      "Saving filtered csv poses!\n",
      "Filtering with median model F:\\videos\\ar41motor\\2022_07_29\\Mirror108R.avi\n",
      "Saving filtered csv poses!\n",
      "Filtering with median model F:\\videos\\ar41motor\\2022_07_29\\Mirror109R.avi\n",
      "Saving filtered csv poses!\n",
      "Filtering with median model F:\\videos\\ar41motor\\2022_07_29\\Mirror10R.avi\n",
      "Saving filtered csv poses!\n",
      "Filtering with median model F:\\videos\\ar41motor\\2022_07_29\\Mirror110R.avi\n",
      "Saving filtered csv poses!\n",
      "Filtering with median model F:\\videos\\ar41motor\\2022_07_29\\Mirror111R.avi\n",
      "Saving filtered csv poses!\n",
      "Filtering with median model F:\\videos\\ar41motor\\2022_07_29\\Mirror112R.avi\n",
      "Saving filtered csv poses!\n",
      "Filtering with median model F:\\videos\\ar41motor\\2022_07_29\\Mirror113R.avi\n",
      "Saving filtered csv poses!\n",
      "Filtering with median model F:\\videos\\ar41motor\\2022_07_29\\Mirror114R.avi\n",
      "Saving filtered csv poses!\n",
      "Filtering with median model F:\\videos\\ar41motor\\2022_07_29\\Mirror115R.avi\n",
      "Saving filtered csv poses!\n",
      "Filtering with median model F:\\videos\\ar41motor\\2022_07_29\\Mirror116R.avi\n",
      "Saving filtered csv poses!\n",
      "Filtering with median model F:\\videos\\ar41motor\\2022_07_29\\Mirror117R.avi\n",
      "Saving filtered csv poses!\n",
      "Filtering with median model F:\\videos\\ar41motor\\2022_07_29\\Mirror118R.avi\n",
      "Saving filtered csv poses!\n",
      "Filtering with median model F:\\videos\\ar41motor\\2022_07_29\\Mirror119R.avi\n",
      "Saving filtered csv poses!\n",
      "Filtering with median model F:\\videos\\ar41motor\\2022_07_29\\Mirror11R.avi\n",
      "Saving filtered csv poses!\n",
      "Filtering with median model F:\\videos\\ar41motor\\2022_07_29\\Mirror120R.avi\n",
      "Saving filtered csv poses!\n",
      "Filtering with median model F:\\videos\\ar41motor\\2022_07_29\\Mirror121R.avi\n",
      "Saving filtered csv poses!\n",
      "Filtering with median model F:\\videos\\ar41motor\\2022_07_29\\Mirror122R.avi\n",
      "Saving filtered csv poses!\n",
      "Filtering with median model F:\\videos\\ar41motor\\2022_07_29\\Mirror123R.avi\n",
      "Saving filtered csv poses!\n",
      "Filtering with median model F:\\videos\\ar41motor\\2022_07_29\\Mirror124R.avi\n",
      "Saving filtered csv poses!\n",
      "Filtering with median model F:\\videos\\ar41motor\\2022_07_29\\Mirror125R.avi\n",
      "Saving filtered csv poses!\n",
      "Filtering with median model F:\\videos\\ar41motor\\2022_07_29\\Mirror126R.avi\n",
      "Saving filtered csv poses!\n",
      "Filtering with median model F:\\videos\\ar41motor\\2022_07_29\\Mirror127R.avi\n",
      "Saving filtered csv poses!\n",
      "Filtering with median model F:\\videos\\ar41motor\\2022_07_29\\Mirror128R.avi\n",
      "Saving filtered csv poses!\n",
      "Filtering with median model F:\\videos\\ar41motor\\2022_07_29\\Mirror129R.avi\n",
      "Saving filtered csv poses!\n",
      "Filtering with median model F:\\videos\\ar41motor\\2022_07_29\\Mirror12R.avi\n",
      "Saving filtered csv poses!\n",
      "Filtering with median model F:\\videos\\ar41motor\\2022_07_29\\Mirror130R.avi\n",
      "Saving filtered csv poses!\n",
      "Filtering with median model F:\\videos\\ar41motor\\2022_07_29\\Mirror131R.avi\n",
      "Saving filtered csv poses!\n",
      "Filtering with median model F:\\videos\\ar41motor\\2022_07_29\\Mirror132R.avi\n",
      "Saving filtered csv poses!\n",
      "Filtering with median model F:\\videos\\ar41motor\\2022_07_29\\Mirror133R.avi\n",
      "Saving filtered csv poses!\n",
      "Filtering with median model F:\\videos\\ar41motor\\2022_07_29\\Mirror134R.avi\n",
      "Saving filtered csv poses!\n",
      "Filtering with median model F:\\videos\\ar41motor\\2022_07_29\\Mirror135R.avi\n",
      "Saving filtered csv poses!\n",
      "Filtering with median model F:\\videos\\ar41motor\\2022_07_29\\Mirror136R.avi\n",
      "Saving filtered csv poses!\n",
      "Filtering with median model F:\\videos\\ar41motor\\2022_07_29\\Mirror137R.avi\n",
      "Saving filtered csv poses!\n",
      "Filtering with median model F:\\videos\\ar41motor\\2022_07_29\\Mirror138R.avi\n",
      "Saving filtered csv poses!\n",
      "Filtering with median model F:\\videos\\ar41motor\\2022_07_29\\Mirror139R.avi\n",
      "Saving filtered csv poses!\n",
      "Filtering with median model F:\\videos\\ar41motor\\2022_07_29\\Mirror13R.avi\n",
      "Saving filtered csv poses!\n",
      "Filtering with median model F:\\videos\\ar41motor\\2022_07_29\\Mirror140R.avi\n",
      "Saving filtered csv poses!\n",
      "Filtering with median model F:\\videos\\ar41motor\\2022_07_29\\Mirror141R.avi\n",
      "Saving filtered csv poses!\n",
      "Filtering with median model F:\\videos\\ar41motor\\2022_07_29\\Mirror142R.avi\n",
      "Saving filtered csv poses!\n",
      "Filtering with median model F:\\videos\\ar41motor\\2022_07_29\\Mirror143R.avi\n",
      "Saving filtered csv poses!\n",
      "Filtering with median model F:\\videos\\ar41motor\\2022_07_29\\Mirror144R.avi\n",
      "Saving filtered csv poses!\n",
      "Filtering with median model F:\\videos\\ar41motor\\2022_07_29\\Mirror145R.avi\n",
      "Saving filtered csv poses!\n",
      "Filtering with median model F:\\videos\\ar41motor\\2022_07_29\\Mirror146R.avi\n",
      "Saving filtered csv poses!\n",
      "Filtering with median model F:\\videos\\ar41motor\\2022_07_29\\Mirror147R.avi\n",
      "Saving filtered csv poses!\n",
      "Filtering with median model F:\\videos\\ar41motor\\2022_07_29\\Mirror148RDLC_resnet152_ar30shiwkerSep13shuffle2_100000.csv\n",
      "No unfiltered data file found in F:\\videos\\ar41motor\\2022_07_29 for video Mirror148RDLC_resnet152_ar30shiwkerSep13shuffle2_100000 and scorer DLC_resnet152_ar30shiwkerSep13shuffle2_100000.\n",
      "Filtering with median model F:\\videos\\ar41motor\\2022_07_29\\Mirror148RDLC_resnet152_ar30shiwkerSep13shuffle2_100000.h5\n",
      "No unfiltered data file found in F:\\videos\\ar41motor\\2022_07_29 for video Mirror148RDLC_resnet152_ar30shiwkerSep13shuffle2_100000 and scorer DLC_resnet152_ar30shiwkerSep13shuffle2_100000.\n",
      "Filtering with median model F:\\videos\\ar41motor\\2022_07_29\\Mirror148RDLC_resnet152_ar30shiwkerSep13shuffle2_100000_meta.pickle\n",
      "No unfiltered data file found in F:\\videos\\ar41motor\\2022_07_29 for video Mirror148RDLC_resnet152_ar30shiwkerSep13shuffle2_100000_meta and scorer DLC_resnet152_ar30shiwkerSep13shuffle2_100000.\n",
      "Filtering with median model F:\\videos\\ar41motor\\2022_07_29\\Mirror149RDLC_resnet152_ar30shiwkerSep13shuffle2_100000.csv\n",
      "No unfiltered data file found in F:\\videos\\ar41motor\\2022_07_29 for video Mirror149RDLC_resnet152_ar30shiwkerSep13shuffle2_100000 and scorer DLC_resnet152_ar30shiwkerSep13shuffle2_100000.\n",
      "Filtering with median model F:\\videos\\ar41motor\\2022_07_29\\Mirror149RDLC_resnet152_ar30shiwkerSep13shuffle2_100000.h5\n",
      "No unfiltered data file found in F:\\videos\\ar41motor\\2022_07_29 for video Mirror149RDLC_resnet152_ar30shiwkerSep13shuffle2_100000 and scorer DLC_resnet152_ar30shiwkerSep13shuffle2_100000.\n",
      "Filtering with median model F:\\videos\\ar41motor\\2022_07_29\\Mirror149RDLC_resnet152_ar30shiwkerSep13shuffle2_100000_meta.pickle\n",
      "No unfiltered data file found in F:\\videos\\ar41motor\\2022_07_29 for video Mirror149RDLC_resnet152_ar30shiwkerSep13shuffle2_100000_meta and scorer DLC_resnet152_ar30shiwkerSep13shuffle2_100000.\n",
      "Filtering with median model F:\\videos\\ar41motor\\2022_07_29\\Mirror14R.avi\n",
      "Saving filtered csv poses!\n",
      "Filtering with median model F:\\videos\\ar41motor\\2022_07_29\\Mirror150RDLC_resnet152_ar30shiwkerSep13shuffle2_100000.csv\n",
      "No unfiltered data file found in F:\\videos\\ar41motor\\2022_07_29 for video Mirror150RDLC_resnet152_ar30shiwkerSep13shuffle2_100000 and scorer DLC_resnet152_ar30shiwkerSep13shuffle2_100000.\n",
      "Filtering with median model F:\\videos\\ar41motor\\2022_07_29\\Mirror150RDLC_resnet152_ar30shiwkerSep13shuffle2_100000.h5\n"
     ]
    },
    {
     "name": "stdout",
     "output_type": "stream",
     "text": [
      "No unfiltered data file found in F:\\videos\\ar41motor\\2022_07_29 for video Mirror150RDLC_resnet152_ar30shiwkerSep13shuffle2_100000 and scorer DLC_resnet152_ar30shiwkerSep13shuffle2_100000.\n",
      "Filtering with median model F:\\videos\\ar41motor\\2022_07_29\\Mirror150RDLC_resnet152_ar30shiwkerSep13shuffle2_100000_meta.pickle\n",
      "No unfiltered data file found in F:\\videos\\ar41motor\\2022_07_29 for video Mirror150RDLC_resnet152_ar30shiwkerSep13shuffle2_100000_meta and scorer DLC_resnet152_ar30shiwkerSep13shuffle2_100000.\n",
      "Filtering with median model F:\\videos\\ar41motor\\2022_07_29\\Mirror15R.avi\n",
      "Saving filtered csv poses!\n",
      "Filtering with median model F:\\videos\\ar41motor\\2022_07_29\\Mirror16R.avi\n",
      "Saving filtered csv poses!\n",
      "Filtering with median model F:\\videos\\ar41motor\\2022_07_29\\Mirror17R.avi\n",
      "Saving filtered csv poses!\n",
      "Filtering with median model F:\\videos\\ar41motor\\2022_07_29\\Mirror18R.avi\n",
      "Saving filtered csv poses!\n",
      "Filtering with median model F:\\videos\\ar41motor\\2022_07_29\\Mirror19R.avi\n",
      "Saving filtered csv poses!\n",
      "Filtering with median model F:\\videos\\ar41motor\\2022_07_29\\Mirror1R.avi\n",
      "Saving filtered csv poses!\n",
      "Filtering with median model F:\\videos\\ar41motor\\2022_07_29\\Mirror20R.avi\n",
      "Saving filtered csv poses!\n",
      "Filtering with median model F:\\videos\\ar41motor\\2022_07_29\\Mirror21R.avi\n",
      "Saving filtered csv poses!\n",
      "Filtering with median model F:\\videos\\ar41motor\\2022_07_29\\Mirror22R.avi\n",
      "Saving filtered csv poses!\n",
      "Filtering with median model F:\\videos\\ar41motor\\2022_07_29\\Mirror23R.avi\n",
      "Saving filtered csv poses!\n",
      "Filtering with median model F:\\videos\\ar41motor\\2022_07_29\\Mirror24R.avi\n",
      "Saving filtered csv poses!\n",
      "Filtering with median model F:\\videos\\ar41motor\\2022_07_29\\Mirror25R.avi\n",
      "Saving filtered csv poses!\n",
      "Filtering with median model F:\\videos\\ar41motor\\2022_07_29\\Mirror26R.avi\n",
      "Saving filtered csv poses!\n",
      "Filtering with median model F:\\videos\\ar41motor\\2022_07_29\\Mirror27R.avi\n",
      "Saving filtered csv poses!\n",
      "Filtering with median model F:\\videos\\ar41motor\\2022_07_29\\Mirror28R.avi\n",
      "Saving filtered csv poses!\n",
      "Filtering with median model F:\\videos\\ar41motor\\2022_07_29\\Mirror29R.avi\n",
      "Saving filtered csv poses!\n",
      "Filtering with median model F:\\videos\\ar41motor\\2022_07_29\\Mirror2R.avi\n",
      "Saving filtered csv poses!\n",
      "Filtering with median model F:\\videos\\ar41motor\\2022_07_29\\Mirror30R.avi\n",
      "Saving filtered csv poses!\n",
      "Filtering with median model F:\\videos\\ar41motor\\2022_07_29\\Mirror31R.avi\n",
      "Saving filtered csv poses!\n",
      "Filtering with median model F:\\videos\\ar41motor\\2022_07_29\\Mirror32R.avi\n",
      "Saving filtered csv poses!\n",
      "Filtering with median model F:\\videos\\ar41motor\\2022_07_29\\Mirror33R.avi\n",
      "Saving filtered csv poses!\n",
      "Filtering with median model F:\\videos\\ar41motor\\2022_07_29\\Mirror34R.avi\n",
      "Saving filtered csv poses!\n",
      "Filtering with median model F:\\videos\\ar41motor\\2022_07_29\\Mirror35R.avi\n",
      "Saving filtered csv poses!\n",
      "Filtering with median model F:\\videos\\ar41motor\\2022_07_29\\Mirror36R.avi\n",
      "Saving filtered csv poses!\n",
      "Filtering with median model F:\\videos\\ar41motor\\2022_07_29\\Mirror37R.avi\n",
      "Saving filtered csv poses!\n",
      "Filtering with median model F:\\videos\\ar41motor\\2022_07_29\\Mirror38R.avi\n",
      "Saving filtered csv poses!\n",
      "Filtering with median model F:\\videos\\ar41motor\\2022_07_29\\Mirror39RDLC_resnet152_ar30shiwkerSep13shuffle2_100000.csv\n",
      "No unfiltered data file found in F:\\videos\\ar41motor\\2022_07_29 for video Mirror39RDLC_resnet152_ar30shiwkerSep13shuffle2_100000 and scorer DLC_resnet152_ar30shiwkerSep13shuffle2_100000.\n",
      "Filtering with median model F:\\videos\\ar41motor\\2022_07_29\\Mirror39RDLC_resnet152_ar30shiwkerSep13shuffle2_100000.h5\n",
      "No unfiltered data file found in F:\\videos\\ar41motor\\2022_07_29 for video Mirror39RDLC_resnet152_ar30shiwkerSep13shuffle2_100000 and scorer DLC_resnet152_ar30shiwkerSep13shuffle2_100000.\n",
      "Filtering with median model F:\\videos\\ar41motor\\2022_07_29\\Mirror39RDLC_resnet152_ar30shiwkerSep13shuffle2_100000_meta.pickle\n",
      "No unfiltered data file found in F:\\videos\\ar41motor\\2022_07_29 for video Mirror39RDLC_resnet152_ar30shiwkerSep13shuffle2_100000_meta and scorer DLC_resnet152_ar30shiwkerSep13shuffle2_100000.\n",
      "Filtering with median model F:\\videos\\ar41motor\\2022_07_29\\Mirror3R.avi\n",
      "Saving filtered csv poses!\n",
      "Filtering with median model F:\\videos\\ar41motor\\2022_07_29\\Mirror40R.avi\n",
      "Saving filtered csv poses!\n",
      "Filtering with median model F:\\videos\\ar41motor\\2022_07_29\\Mirror41R.avi\n",
      "Saving filtered csv poses!\n",
      "Filtering with median model F:\\videos\\ar41motor\\2022_07_29\\Mirror42R.avi\n",
      "Saving filtered csv poses!\n",
      "Filtering with median model F:\\videos\\ar41motor\\2022_07_29\\Mirror43R.avi\n",
      "Saving filtered csv poses!\n",
      "Filtering with median model F:\\videos\\ar41motor\\2022_07_29\\Mirror44R.avi\n",
      "Saving filtered csv poses!\n",
      "Filtering with median model F:\\videos\\ar41motor\\2022_07_29\\Mirror45R.avi\n",
      "Saving filtered csv poses!\n",
      "Filtering with median model F:\\videos\\ar41motor\\2022_07_29\\Mirror46R.avi\n",
      "Saving filtered csv poses!\n",
      "Filtering with median model F:\\videos\\ar41motor\\2022_07_29\\Mirror47R.avi\n",
      "Saving filtered csv poses!\n",
      "Filtering with median model F:\\videos\\ar41motor\\2022_07_29\\Mirror48R.avi\n",
      "Saving filtered csv poses!\n",
      "Filtering with median model F:\\videos\\ar41motor\\2022_07_29\\Mirror49R.avi\n",
      "Saving filtered csv poses!\n",
      "Filtering with median model F:\\videos\\ar41motor\\2022_07_29\\Mirror4R.avi\n",
      "Saving filtered csv poses!\n",
      "Filtering with median model F:\\videos\\ar41motor\\2022_07_29\\Mirror50R.avi\n",
      "Saving filtered csv poses!\n",
      "Filtering with median model F:\\videos\\ar41motor\\2022_07_29\\Mirror51R.avi\n",
      "Saving filtered csv poses!\n",
      "Filtering with median model F:\\videos\\ar41motor\\2022_07_29\\Mirror52R.avi\n",
      "Saving filtered csv poses!\n",
      "Filtering with median model F:\\videos\\ar41motor\\2022_07_29\\Mirror53R.avi\n",
      "Saving filtered csv poses!\n",
      "Filtering with median model F:\\videos\\ar41motor\\2022_07_29\\Mirror54R.avi\n",
      "Saving filtered csv poses!\n",
      "Filtering with median model F:\\videos\\ar41motor\\2022_07_29\\Mirror55R.avi\n",
      "Saving filtered csv poses!\n",
      "Filtering with median model F:\\videos\\ar41motor\\2022_07_29\\Mirror56R.avi\n",
      "Saving filtered csv poses!\n",
      "Filtering with median model F:\\videos\\ar41motor\\2022_07_29\\Mirror57R.avi\n",
      "Saving filtered csv poses!\n",
      "Filtering with median model F:\\videos\\ar41motor\\2022_07_29\\Mirror58R.avi\n",
      "Saving filtered csv poses!\n",
      "Filtering with median model F:\\videos\\ar41motor\\2022_07_29\\Mirror59R.avi\n",
      "Saving filtered csv poses!\n",
      "Filtering with median model F:\\videos\\ar41motor\\2022_07_29\\Mirror5R.avi\n",
      "Saving filtered csv poses!\n",
      "Filtering with median model F:\\videos\\ar41motor\\2022_07_29\\Mirror60R.avi\n",
      "Saving filtered csv poses!\n",
      "Filtering with median model F:\\videos\\ar41motor\\2022_07_29\\Mirror61R.avi\n",
      "Saving filtered csv poses!\n",
      "Filtering with median model F:\\videos\\ar41motor\\2022_07_29\\Mirror62R.avi\n",
      "Saving filtered csv poses!\n",
      "Filtering with median model F:\\videos\\ar41motor\\2022_07_29\\Mirror63R.avi\n",
      "Saving filtered csv poses!\n",
      "Filtering with median model F:\\videos\\ar41motor\\2022_07_29\\Mirror64R.avi\n",
      "Saving filtered csv poses!\n",
      "Filtering with median model F:\\videos\\ar41motor\\2022_07_29\\Mirror65R.avi\n",
      "Saving filtered csv poses!\n",
      "Filtering with median model F:\\videos\\ar41motor\\2022_07_29\\Mirror66R.avi\n",
      "Saving filtered csv poses!\n",
      "Filtering with median model F:\\videos\\ar41motor\\2022_07_29\\Mirror67R.avi\n",
      "Saving filtered csv poses!\n",
      "Filtering with median model F:\\videos\\ar41motor\\2022_07_29\\Mirror68R.avi\n",
      "Saving filtered csv poses!\n",
      "Filtering with median model F:\\videos\\ar41motor\\2022_07_29\\Mirror69R.avi\n",
      "Saving filtered csv poses!\n",
      "Filtering with median model F:\\videos\\ar41motor\\2022_07_29\\Mirror6R.avi\n",
      "Saving filtered csv poses!\n",
      "Filtering with median model F:\\videos\\ar41motor\\2022_07_29\\Mirror70R.avi\n",
      "Saving filtered csv poses!\n",
      "Filtering with median model F:\\videos\\ar41motor\\2022_07_29\\Mirror71R.avi\n",
      "Saving filtered csv poses!\n",
      "Filtering with median model F:\\videos\\ar41motor\\2022_07_29\\Mirror72R.avi\n",
      "Saving filtered csv poses!\n",
      "Filtering with median model F:\\videos\\ar41motor\\2022_07_29\\Mirror73R.avi\n",
      "Saving filtered csv poses!\n",
      "Filtering with median model F:\\videos\\ar41motor\\2022_07_29\\Mirror74R.avi\n",
      "Saving filtered csv poses!\n",
      "Filtering with median model F:\\videos\\ar41motor\\2022_07_29\\Mirror75R.avi\n",
      "Saving filtered csv poses!\n",
      "Filtering with median model F:\\videos\\ar41motor\\2022_07_29\\Mirror76R.avi\n",
      "Saving filtered csv poses!\n"
     ]
    },
    {
     "name": "stdout",
     "output_type": "stream",
     "text": [
      "Filtering with median model F:\\videos\\ar41motor\\2022_07_29\\Mirror77R.avi\n",
      "Saving filtered csv poses!\n",
      "Filtering with median model F:\\videos\\ar41motor\\2022_07_29\\Mirror78R.avi\n",
      "Saving filtered csv poses!\n",
      "Filtering with median model F:\\videos\\ar41motor\\2022_07_29\\Mirror79R.avi\n",
      "Saving filtered csv poses!\n",
      "Filtering with median model F:\\videos\\ar41motor\\2022_07_29\\Mirror7R.avi\n",
      "Saving filtered csv poses!\n",
      "Filtering with median model F:\\videos\\ar41motor\\2022_07_29\\Mirror80R.avi\n",
      "Saving filtered csv poses!\n",
      "Filtering with median model F:\\videos\\ar41motor\\2022_07_29\\Mirror81R.avi\n",
      "Saving filtered csv poses!\n",
      "Filtering with median model F:\\videos\\ar41motor\\2022_07_29\\Mirror82R.avi\n",
      "Saving filtered csv poses!\n",
      "Filtering with median model F:\\videos\\ar41motor\\2022_07_29\\Mirror83R.avi\n",
      "Saving filtered csv poses!\n",
      "Filtering with median model F:\\videos\\ar41motor\\2022_07_29\\Mirror84R.avi\n",
      "Saving filtered csv poses!\n",
      "Filtering with median model F:\\videos\\ar41motor\\2022_07_29\\Mirror85R.avi\n",
      "Saving filtered csv poses!\n",
      "Filtering with median model F:\\videos\\ar41motor\\2022_07_29\\Mirror86R.avi\n",
      "Saving filtered csv poses!\n",
      "Filtering with median model F:\\videos\\ar41motor\\2022_07_29\\Mirror87R.avi\n",
      "Saving filtered csv poses!\n",
      "Filtering with median model F:\\videos\\ar41motor\\2022_07_29\\Mirror88R.avi\n",
      "Saving filtered csv poses!\n",
      "Filtering with median model F:\\videos\\ar41motor\\2022_07_29\\Mirror89R.avi\n",
      "Saving filtered csv poses!\n",
      "Filtering with median model F:\\videos\\ar41motor\\2022_07_29\\Mirror8R.avi\n",
      "Saving filtered csv poses!\n",
      "Filtering with median model F:\\videos\\ar41motor\\2022_07_29\\Mirror90R.avi\n",
      "Saving filtered csv poses!\n",
      "Filtering with median model F:\\videos\\ar41motor\\2022_07_29\\Mirror91R.avi\n",
      "Saving filtered csv poses!\n",
      "Filtering with median model F:\\videos\\ar41motor\\2022_07_29\\Mirror92R.avi\n",
      "Saving filtered csv poses!\n",
      "Filtering with median model F:\\videos\\ar41motor\\2022_07_29\\Mirror93R.avi\n",
      "Saving filtered csv poses!\n",
      "Filtering with median model F:\\videos\\ar41motor\\2022_07_29\\Mirror94R.avi\n",
      "Saving filtered csv poses!\n",
      "Filtering with median model F:\\videos\\ar41motor\\2022_07_29\\Mirror95R.avi\n",
      "Saving filtered csv poses!\n",
      "Filtering with median model F:\\videos\\ar41motor\\2022_07_29\\Mirror96R.avi\n",
      "Saving filtered csv poses!\n",
      "Filtering with median model F:\\videos\\ar41motor\\2022_07_29\\Mirror97R.avi\n",
      "Saving filtered csv poses!\n",
      "Filtering with median model F:\\videos\\ar41motor\\2022_07_29\\Mirror98R.avi\n",
      "Saving filtered csv poses!\n",
      "Filtering with median model F:\\videos\\ar41motor\\2022_07_29\\Mirror99R.avi\n",
      "Saving filtered csv poses!\n",
      "Filtering with median model F:\\videos\\ar41motor\\2022_07_29\\Mirror9R.avi\n",
      "Saving filtered csv poses!\n"
     ]
    }
   ],
   "source": [
    "#Mainfolder = 'F:\\\\videos\\\\ar34motor\\\\2022_01_27'\n",
    "import os\n",
    "import image_util\n",
    "path_config_file = '\\\\\\\\dk-server.dk.ucsd.edu\\\\afassihizakeri\\\\DLC\\\\ar30shiwker-Arash-2021-09-13\\\\config.yaml'\n",
    "XfilesL = [os.path.join(Mainfolder,f) for f in os.listdir(Mainfolder) if f.startswith('Mask')  ] # find all files with R.avi as file name\n",
    "XfilesR = [os.path.join(Mainfolder,f) for f in os.listdir(Mainfolder) if f.startswith('Mirror')  ] # find all files with R.avi as file name\n",
    "#print(XfilesL)\n",
    "scorernameL=deeplabcut.analyze_videos(path_config_file,XfilesL,shuffle=2, save_as_csv=True)\n",
    "#print(scorernameL)\n",
    "deeplabcut.filterpredictions(path_config_file,XfilesL,shuffle=2)\n",
    "scorernameR=deeplabcut.analyze_videos(path_config_file,XfilesR,shuffle=2, save_as_csv=True)\n",
    "#print(scorernameR)\n",
    "deeplabcut.filterpredictions(path_config_file,XfilesR,shuffle=2)"
   ]
  },
  {
   "cell_type": "code",
   "execution_count": null,
   "metadata": {},
   "outputs": [],
   "source": []
  },
  {
   "cell_type": "markdown",
   "metadata": {},
   "source": [
    "# copy tracked files into the server (with mp4 movies)"
   ]
  },
  {
   "cell_type": "code",
   "execution_count": null,
   "metadata": {},
   "outputs": [],
   "source": [
    "Mainfolder = 'F:\\\\videos\\\\ar32motor\\\\2021_08_02'\n",
    "destination = ''\n",
    "destination='//dk-server.dk.ucsd.edu/afassihizakeri/SC_Movies/ar32motor/2021_08_02/Side'\n",
    "import shutil\n",
    "shutil.copytree( Mainfolder,destination, ignore=shutil.ignore_patterns('*.avi'),copy_function = shutil.copy)\n",
    "#copytree(Mainfolder, destination, ignore=ignore_patterns('*.avi'))\n"
   ]
  },
  {
   "cell_type": "markdown",
   "metadata": {},
   "source": [
    "# save left right for a give trial"
   ]
  },
  {
   "cell_type": "code",
   "execution_count": null,
   "metadata": {},
   "outputs": [],
   "source": [
    "import time\n",
    "import numpy as np\n",
    "import os\n",
    "import LR_movie_maker_Main\n",
    "text_files = [os.path.join(Mainfolder,f) for f in os.listdir(Mainfolder) if f.endswith('video.mp4') and not f.endswith('L.avi') and not f.endswith('R.avi') and not f.endswith('videopoints.avi') and not f.endswith('videopoints.avi')]\n",
    "Trialname='100video.mp4'\n",
    "trial = [trial for trial in range(len(text_files)) if text_files[trial].endswith(Trialname)]\n",
    "trial = int(trial[0])\n",
    "t =time.time()\n",
    "Tag = 'Topview'\n",
    "df, Angle,Distance,movivename=LR_movie_maker_Main.readDLCfiles(Mainfolder,Tag,trial)\n",
    "text = os.path.basename(movivename);\n",
    "#%matplotlib notebook\n",
    "Good_Frames =LR_movie_maker_Main.findgoodrames(0.8,50,150,df,Distance)\n",
    "LR_movie_maker_Main.writeFrameData(Mainfolder,text,Good_Frames,df,Angle)\n",
    "LR_movie_maker_Main.savemovies_LR(movivename,Angle,df,Good_Frames,\".mp4\") \n",
    "#plt.plot(Angle[Good_Frames==1] ,'r--')\n",
    "#plt.title(os.path.basename(movivename))\n",
    "elapsed = time.time() - t \n",
    "video_name = (os.path.join(os.path.dirname(movivename),text.split('DLC')[0]+\".avi\"));\n",
    "print('Trial=',video_name,'Elapsed',elapsed)"
   ]
  }
 ],
 "metadata": {
  "kernelspec": {
   "display_name": "Python 3",
   "language": "python",
   "name": "python3"
  },
  "language_info": {
   "codemirror_mode": {
    "name": "ipython",
    "version": 3
   },
   "file_extension": ".py",
   "mimetype": "text/x-python",
   "name": "python",
   "nbconvert_exporter": "python",
   "pygments_lexer": "ipython3",
   "version": "3.6.9"
  }
 },
 "nbformat": 4,
 "nbformat_minor": 2
}
