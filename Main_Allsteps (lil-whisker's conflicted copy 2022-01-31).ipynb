{
 "cells": [
  {
   "cell_type": "markdown",
   "metadata": {},
   "source": [
    "## first step is to make movies and lighttime out of single images "
   ]
  },
  {
   "cell_type": "code",
   "execution_count": 3,
   "metadata": {},
   "outputs": [],
   "source": [
    "# enter the folder name \n",
    "Mainfolder = 'C:\\\\videos\\\\ar30motor\\\\2021_07_09';\n",
    "#C:\\videos\\ar32motor\\2021_06_11#Mainfolder = 'C:\\\\videos\\\\ar32motor\\\\2021_04_25';\n",
    "Mainfolder = 'D:\\\\Sidevideos\\\\ar30motor\\\\2021_07_09'\n",
    "#Mainfolder = 'C:\\\\videos\\\\ar343rdday\\\\2021_07_16'\n",
    "Mainfolder = 'D:\\\\videos\\\\ar34firstday\\\\2021_07_14_184603'\n",
    "#Mainfolder = 'F:\\\\videos\\\\ar34lightduration\\\\2021_08_03'\n",
    "Mainfolder = 'E:\\\\ar30motor\\\\2021_07_09'\n",
    "import main\n",
    "Mainfolder =  'F:\\\\videos\\\\ar32motor\\\\2021_08_02\\\\'; # Enter the name of the folder with images folders inside \n",
    "#Mainfolder =  'F:\\\\videos\\\\Ar30motor\\\\2021_08_03_184113'\n",
    "#Mainfolder =  'F:\\\\videos\\\\Ar30motor\\\\2021_08_03_183638'\n"
   ]
  },
  {
   "cell_type": "code",
   "execution_count": null,
   "metadata": {},
   "outputs": [],
   "source": [
    "main.makemovieandLightfile(Mainfolder)\n",
    "#main.make_movie_and_stimulus_file(Mainfolder)\n"
   ]
  },
  {
   "cell_type": "code",
   "execution_count": null,
   "metadata": {},
   "outputs": [],
   "source": [
    "\n",
    "#[9, 71,72]\n",
    "import mainsubdbn mgf\n",
    "KK = 'C:\\\\videos\\\\ar30motor\\\\2021_04_25\\\\71'\n",
    "video_name = (KK + '.avi');\n",
    "video_name2 =(KK+'video'+ '.mp4');\n",
    "image_util.convert_video(video_name, video_name2)"
   ]
  },
  {
   "cell_type": "code",
   "execution_count": null,
   "metadata": {},
   "outputs": [],
   "source": [
    "main.save_trial_n(Mainfolder)\n",
    "print(Mainfolder)"
   ]
  },
  {
   "cell_type": "markdown",
   "metadata": {},
   "source": [
    "## this step is to load deeplabcut and run already trained algorithm on new movies to track the face"
   ]
  },
  {
   "cell_type": "code",
   "execution_count": 1,
   "metadata": {},
   "outputs": [],
   "source": [
    "import deeplabcut\n",
    "## https://github.com/AlexEMG/DeepLabCut"
   ]
  },
  {
   "cell_type": "code",
   "execution_count": null,
   "metadata": {
    "scrolled": false
   },
   "outputs": [],
   "source": [
    "path_config_file = 'D:\\\\videos\\\\ar32\\\\ar32_10_11_24-Arash-2020-11-25\\\\config.yaml';\n",
    "#Mainfolder = 'D:\\\\videos\\\\ar32\\\\2020_12_18';\n",
    "path_config_file = 'F:\\\\DLC\\\\Topview3435-Arash-2021-07-28\\\\config.yaml'\n",
    "import os\n",
    "text_files = [os.path.join(Mainfolder,f) for f in os.listdir(Mainfolder) if f.endswith('.avi') and not f.endswith('L.avi') and not f.endswith('R.avi') and not f.endswith('videopoints.avi') and not f.endswith('videopoints.avi')]\n",
    "print(text_files[1])\n",
    "#text_files='C:\\\\videos\\\\ar30motor\\\\2021_04_25\\\\9.avi'\n",
    "temp1=deeplabcut.analyze_videos(path_config_file,text_files,shuffle=1, save_as_csv=True )\n",
    "temp=deeplabcut.filterpredictions(path_config_file,text_files)"
   ]
  },
  {
   "cell_type": "code",
   "execution_count": 6,
   "metadata": {},
   "outputs": [
    {
     "name": "stdout",
     "output_type": "stream",
     "text": [
      "Filtering with median model F:\\videos\\ar32motor\\2021_08_02\\1.avi\n",
      "Data from 1 were already filtered. Skipping...\n",
      "Filtering with median model F:\\videos\\ar32motor\\2021_08_02\\10.avi\n",
      "Data from 10 were already filtered. Skipping...\n",
      "Filtering with median model F:\\videos\\ar32motor\\2021_08_02\\100.avi\n",
      "Data from 100 were already filtered. Skipping...\n",
      "Filtering with median model F:\\videos\\ar32motor\\2021_08_02\\100Tracked.avi\n",
      "No unfiltered data file found in F:\\videos\\ar32motor\\2021_08_02 for video 100Tracked and scorer DLC_resnet50_Topview3435Jul28shuffle1_110000.\n",
      "Filtering with median model F:\\videos\\ar32motor\\2021_08_02\\101.avi\n",
      "Data from 101 were already filtered. Skipping...\n",
      "Filtering with median model F:\\videos\\ar32motor\\2021_08_02\\101Tracked.avi\n",
      "No unfiltered data file found in F:\\videos\\ar32motor\\2021_08_02 for video 101Tracked and scorer DLC_resnet50_Topview3435Jul28shuffle1_110000.\n",
      "Filtering with median model F:\\videos\\ar32motor\\2021_08_02\\102.avi\n",
      "Data from 102 were already filtered. Skipping...\n",
      "Filtering with median model F:\\videos\\ar32motor\\2021_08_02\\102Tracked.avi\n",
      "No unfiltered data file found in F:\\videos\\ar32motor\\2021_08_02 for video 102Tracked and scorer DLC_resnet50_Topview3435Jul28shuffle1_110000.\n",
      "Filtering with median model F:\\videos\\ar32motor\\2021_08_02\\103.avi\n",
      "Data from 103 were already filtered. Skipping...\n",
      "Filtering with median model F:\\videos\\ar32motor\\2021_08_02\\103Tracked.avi\n",
      "No unfiltered data file found in F:\\videos\\ar32motor\\2021_08_02 for video 103Tracked and scorer DLC_resnet50_Topview3435Jul28shuffle1_110000.\n",
      "Filtering with median model F:\\videos\\ar32motor\\2021_08_02\\104.avi\n",
      "Data from 104 were already filtered. Skipping...\n",
      "Filtering with median model F:\\videos\\ar32motor\\2021_08_02\\104Tracked.avi\n",
      "No unfiltered data file found in F:\\videos\\ar32motor\\2021_08_02 for video 104Tracked and scorer DLC_resnet50_Topview3435Jul28shuffle1_110000.\n",
      "Filtering with median model F:\\videos\\ar32motor\\2021_08_02\\105.avi\n",
      "Data from 105 were already filtered. Skipping...\n",
      "Filtering with median model F:\\videos\\ar32motor\\2021_08_02\\105Tracked.avi\n",
      "No unfiltered data file found in F:\\videos\\ar32motor\\2021_08_02 for video 105Tracked and scorer DLC_resnet50_Topview3435Jul28shuffle1_110000.\n",
      "Filtering with median model F:\\videos\\ar32motor\\2021_08_02\\106.avi\n",
      "Data from 106 were already filtered. Skipping...\n",
      "Filtering with median model F:\\videos\\ar32motor\\2021_08_02\\106Tracked.avi\n",
      "No unfiltered data file found in F:\\videos\\ar32motor\\2021_08_02 for video 106Tracked and scorer DLC_resnet50_Topview3435Jul28shuffle1_110000.\n",
      "Filtering with median model F:\\videos\\ar32motor\\2021_08_02\\107.avi\n",
      "Data from 107 were already filtered. Skipping...\n",
      "Filtering with median model F:\\videos\\ar32motor\\2021_08_02\\107Tracked.avi\n",
      "No unfiltered data file found in F:\\videos\\ar32motor\\2021_08_02 for video 107Tracked and scorer DLC_resnet50_Topview3435Jul28shuffle1_110000.\n",
      "Filtering with median model F:\\videos\\ar32motor\\2021_08_02\\108.avi\n",
      "Data from 108 were already filtered. Skipping...\n",
      "Filtering with median model F:\\videos\\ar32motor\\2021_08_02\\108Tracked.avi\n",
      "No unfiltered data file found in F:\\videos\\ar32motor\\2021_08_02 for video 108Tracked and scorer DLC_resnet50_Topview3435Jul28shuffle1_110000.\n",
      "Filtering with median model F:\\videos\\ar32motor\\2021_08_02\\109.avi\n",
      "Data from 109 were already filtered. Skipping...\n",
      "Filtering with median model F:\\videos\\ar32motor\\2021_08_02\\109Tracked.avi\n",
      "No unfiltered data file found in F:\\videos\\ar32motor\\2021_08_02 for video 109Tracked and scorer DLC_resnet50_Topview3435Jul28shuffle1_110000.\n",
      "Filtering with median model F:\\videos\\ar32motor\\2021_08_02\\11.avi\n",
      "Data from 11 were already filtered. Skipping...\n",
      "Filtering with median model F:\\videos\\ar32motor\\2021_08_02\\110.avi\n",
      "Data from 110 were already filtered. Skipping...\n",
      "Filtering with median model F:\\videos\\ar32motor\\2021_08_02\\110Tracked.avi\n",
      "No unfiltered data file found in F:\\videos\\ar32motor\\2021_08_02 for video 110Tracked and scorer DLC_resnet50_Topview3435Jul28shuffle1_110000.\n",
      "Filtering with median model F:\\videos\\ar32motor\\2021_08_02\\111.avi\n",
      "Data from 111 were already filtered. Skipping...\n",
      "Filtering with median model F:\\videos\\ar32motor\\2021_08_02\\111Tracked.avi\n",
      "No unfiltered data file found in F:\\videos\\ar32motor\\2021_08_02 for video 111Tracked and scorer DLC_resnet50_Topview3435Jul28shuffle1_110000.\n",
      "Filtering with median model F:\\videos\\ar32motor\\2021_08_02\\112.avi\n",
      "Data from 112 were already filtered. Skipping...\n",
      "Filtering with median model F:\\videos\\ar32motor\\2021_08_02\\112Tracked.avi\n",
      "No unfiltered data file found in F:\\videos\\ar32motor\\2021_08_02 for video 112Tracked and scorer DLC_resnet50_Topview3435Jul28shuffle1_110000.\n",
      "Filtering with median model F:\\videos\\ar32motor\\2021_08_02\\113.avi\n",
      "Data from 113 were already filtered. Skipping...\n",
      "Filtering with median model F:\\videos\\ar32motor\\2021_08_02\\113Tracked.avi\n",
      "No unfiltered data file found in F:\\videos\\ar32motor\\2021_08_02 for video 113Tracked and scorer DLC_resnet50_Topview3435Jul28shuffle1_110000.\n",
      "Filtering with median model F:\\videos\\ar32motor\\2021_08_02\\114.avi\n",
      "Data from 114 were already filtered. Skipping...\n",
      "Filtering with median model F:\\videos\\ar32motor\\2021_08_02\\114Tracked.avi\n",
      "No unfiltered data file found in F:\\videos\\ar32motor\\2021_08_02 for video 114Tracked and scorer DLC_resnet50_Topview3435Jul28shuffle1_110000.\n",
      "Filtering with median model F:\\videos\\ar32motor\\2021_08_02\\115.avi\n",
      "Data from 115 were already filtered. Skipping...\n",
      "Filtering with median model F:\\videos\\ar32motor\\2021_08_02\\115Tracked.avi\n",
      "No unfiltered data file found in F:\\videos\\ar32motor\\2021_08_02 for video 115Tracked and scorer DLC_resnet50_Topview3435Jul28shuffle1_110000.\n",
      "Filtering with median model F:\\videos\\ar32motor\\2021_08_02\\116.avi\n",
      "Data from 116 were already filtered. Skipping...\n",
      "Filtering with median model F:\\videos\\ar32motor\\2021_08_02\\116Tracked.avi\n",
      "No unfiltered data file found in F:\\videos\\ar32motor\\2021_08_02 for video 116Tracked and scorer DLC_resnet50_Topview3435Jul28shuffle1_110000.\n",
      "Filtering with median model F:\\videos\\ar32motor\\2021_08_02\\117.avi\n",
      "Data from 117 were already filtered. Skipping...\n",
      "Filtering with median model F:\\videos\\ar32motor\\2021_08_02\\117Tracked.avi\n",
      "No unfiltered data file found in F:\\videos\\ar32motor\\2021_08_02 for video 117Tracked and scorer DLC_resnet50_Topview3435Jul28shuffle1_110000.\n",
      "Filtering with median model F:\\videos\\ar32motor\\2021_08_02\\118.avi\n",
      "Data from 118 were already filtered. Skipping...\n",
      "Filtering with median model F:\\videos\\ar32motor\\2021_08_02\\119.avi\n",
      "Data from 119 were already filtered. Skipping...\n",
      "Filtering with median model F:\\videos\\ar32motor\\2021_08_02\\119Tracked.avi\n",
      "No unfiltered data file found in F:\\videos\\ar32motor\\2021_08_02 for video 119Tracked and scorer DLC_resnet50_Topview3435Jul28shuffle1_110000.\n",
      "Filtering with median model F:\\videos\\ar32motor\\2021_08_02\\12.avi\n",
      "Data from 12 were already filtered. Skipping...\n",
      "Filtering with median model F:\\videos\\ar32motor\\2021_08_02\\120.avi\n",
      "Data from 120 were already filtered. Skipping...\n",
      "Filtering with median model F:\\videos\\ar32motor\\2021_08_02\\120Tracked.avi\n",
      "No unfiltered data file found in F:\\videos\\ar32motor\\2021_08_02 for video 120Tracked and scorer DLC_resnet50_Topview3435Jul28shuffle1_110000.\n",
      "Filtering with median model F:\\videos\\ar32motor\\2021_08_02\\121.avi\n",
      "Data from 121 were already filtered. Skipping...\n",
      "Filtering with median model F:\\videos\\ar32motor\\2021_08_02\\121Tracked.avi\n",
      "No unfiltered data file found in F:\\videos\\ar32motor\\2021_08_02 for video 121Tracked and scorer DLC_resnet50_Topview3435Jul28shuffle1_110000.\n",
      "Filtering with median model F:\\videos\\ar32motor\\2021_08_02\\122.avi\n",
      "Data from 122 were already filtered. Skipping...\n",
      "Filtering with median model F:\\videos\\ar32motor\\2021_08_02\\122Tracked.avi\n",
      "No unfiltered data file found in F:\\videos\\ar32motor\\2021_08_02 for video 122Tracked and scorer DLC_resnet50_Topview3435Jul28shuffle1_110000.\n",
      "Filtering with median model F:\\videos\\ar32motor\\2021_08_02\\123.avi\n",
      "Data from 123 were already filtered. Skipping...\n",
      "Filtering with median model F:\\videos\\ar32motor\\2021_08_02\\123Tracked.avi\n"
     ]
    },
    {
     "name": "stdout",
     "output_type": "stream",
     "text": [
      "No unfiltered data file found in F:\\videos\\ar32motor\\2021_08_02 for video 123Tracked and scorer DLC_resnet50_Topview3435Jul28shuffle1_110000.\n",
      "Filtering with median model F:\\videos\\ar32motor\\2021_08_02\\124.avi\n",
      "Data from 124 were already filtered. Skipping...\n",
      "Filtering with median model F:\\videos\\ar32motor\\2021_08_02\\124Tracked.avi\n",
      "No unfiltered data file found in F:\\videos\\ar32motor\\2021_08_02 for video 124Tracked and scorer DLC_resnet50_Topview3435Jul28shuffle1_110000.\n",
      "Filtering with median model F:\\videos\\ar32motor\\2021_08_02\\125.avi\n",
      "Data from 125 were already filtered. Skipping...\n",
      "Filtering with median model F:\\videos\\ar32motor\\2021_08_02\\125Tracked.avi\n",
      "No unfiltered data file found in F:\\videos\\ar32motor\\2021_08_02 for video 125Tracked and scorer DLC_resnet50_Topview3435Jul28shuffle1_110000.\n",
      "Filtering with median model F:\\videos\\ar32motor\\2021_08_02\\126.avi\n",
      "Data from 126 were already filtered. Skipping...\n",
      "Filtering with median model F:\\videos\\ar32motor\\2021_08_02\\126Tracked.avi\n",
      "No unfiltered data file found in F:\\videos\\ar32motor\\2021_08_02 for video 126Tracked and scorer DLC_resnet50_Topview3435Jul28shuffle1_110000.\n",
      "Filtering with median model F:\\videos\\ar32motor\\2021_08_02\\127.avi\n",
      "Data from 127 were already filtered. Skipping...\n",
      "Filtering with median model F:\\videos\\ar32motor\\2021_08_02\\127Tracked.avi\n",
      "No unfiltered data file found in F:\\videos\\ar32motor\\2021_08_02 for video 127Tracked and scorer DLC_resnet50_Topview3435Jul28shuffle1_110000.\n",
      "Filtering with median model F:\\videos\\ar32motor\\2021_08_02\\128.avi\n",
      "Data from 128 were already filtered. Skipping...\n",
      "Filtering with median model F:\\videos\\ar32motor\\2021_08_02\\129.avi\n",
      "Data from 129 were already filtered. Skipping...\n",
      "Filtering with median model F:\\videos\\ar32motor\\2021_08_02\\129Tracked.avi\n",
      "No unfiltered data file found in F:\\videos\\ar32motor\\2021_08_02 for video 129Tracked and scorer DLC_resnet50_Topview3435Jul28shuffle1_110000.\n",
      "Filtering with median model F:\\videos\\ar32motor\\2021_08_02\\13.avi\n",
      "Data from 13 were already filtered. Skipping...\n",
      "Filtering with median model F:\\videos\\ar32motor\\2021_08_02\\130.avi\n",
      "Data from 130 were already filtered. Skipping...\n",
      "Filtering with median model F:\\videos\\ar32motor\\2021_08_02\\131.avi\n",
      "Data from 131 were already filtered. Skipping...\n",
      "Filtering with median model F:\\videos\\ar32motor\\2021_08_02\\131Tracked.avi\n",
      "No unfiltered data file found in F:\\videos\\ar32motor\\2021_08_02 for video 131Tracked and scorer DLC_resnet50_Topview3435Jul28shuffle1_110000.\n",
      "Filtering with median model F:\\videos\\ar32motor\\2021_08_02\\132.avi\n",
      "Data from 132 were already filtered. Skipping...\n",
      "Filtering with median model F:\\videos\\ar32motor\\2021_08_02\\132Tracked.avi\n",
      "No unfiltered data file found in F:\\videos\\ar32motor\\2021_08_02 for video 132Tracked and scorer DLC_resnet50_Topview3435Jul28shuffle1_110000.\n",
      "Filtering with median model F:\\videos\\ar32motor\\2021_08_02\\133.avi\n",
      "Data from 133 were already filtered. Skipping...\n",
      "Filtering with median model F:\\videos\\ar32motor\\2021_08_02\\133Tracked.avi\n",
      "No unfiltered data file found in F:\\videos\\ar32motor\\2021_08_02 for video 133Tracked and scorer DLC_resnet50_Topview3435Jul28shuffle1_110000.\n",
      "Filtering with median model F:\\videos\\ar32motor\\2021_08_02\\134.avi\n",
      "Data from 134 were already filtered. Skipping...\n",
      "Filtering with median model F:\\videos\\ar32motor\\2021_08_02\\134Tracked.avi\n",
      "No unfiltered data file found in F:\\videos\\ar32motor\\2021_08_02 for video 134Tracked and scorer DLC_resnet50_Topview3435Jul28shuffle1_110000.\n",
      "Filtering with median model F:\\videos\\ar32motor\\2021_08_02\\135.avi\n",
      "Data from 135 were already filtered. Skipping...\n",
      "Filtering with median model F:\\videos\\ar32motor\\2021_08_02\\135Tracked.avi\n",
      "No unfiltered data file found in F:\\videos\\ar32motor\\2021_08_02 for video 135Tracked and scorer DLC_resnet50_Topview3435Jul28shuffle1_110000.\n",
      "Filtering with median model F:\\videos\\ar32motor\\2021_08_02\\136.avi\n",
      "Data from 136 were already filtered. Skipping...\n",
      "Filtering with median model F:\\videos\\ar32motor\\2021_08_02\\136Tracked.avi\n",
      "No unfiltered data file found in F:\\videos\\ar32motor\\2021_08_02 for video 136Tracked and scorer DLC_resnet50_Topview3435Jul28shuffle1_110000.\n",
      "Filtering with median model F:\\videos\\ar32motor\\2021_08_02\\137.avi\n",
      "Data from 137 were already filtered. Skipping...\n",
      "Filtering with median model F:\\videos\\ar32motor\\2021_08_02\\137Tracked.avi\n",
      "No unfiltered data file found in F:\\videos\\ar32motor\\2021_08_02 for video 137Tracked and scorer DLC_resnet50_Topview3435Jul28shuffle1_110000.\n",
      "Filtering with median model F:\\videos\\ar32motor\\2021_08_02\\138.avi\n",
      "Data from 138 were already filtered. Skipping...\n",
      "Filtering with median model F:\\videos\\ar32motor\\2021_08_02\\138Tracked.avi\n",
      "No unfiltered data file found in F:\\videos\\ar32motor\\2021_08_02 for video 138Tracked and scorer DLC_resnet50_Topview3435Jul28shuffle1_110000.\n",
      "Filtering with median model F:\\videos\\ar32motor\\2021_08_02\\139.avi\n",
      "Data from 139 were already filtered. Skipping...\n",
      "Filtering with median model F:\\videos\\ar32motor\\2021_08_02\\139Tracked.avi\n",
      "No unfiltered data file found in F:\\videos\\ar32motor\\2021_08_02 for video 139Tracked and scorer DLC_resnet50_Topview3435Jul28shuffle1_110000.\n",
      "Filtering with median model F:\\videos\\ar32motor\\2021_08_02\\14.avi\n",
      "Data from 14 were already filtered. Skipping...\n",
      "Filtering with median model F:\\videos\\ar32motor\\2021_08_02\\140.avi\n",
      "Data from 140 were already filtered. Skipping...\n",
      "Filtering with median model F:\\videos\\ar32motor\\2021_08_02\\140Tracked.avi\n",
      "No unfiltered data file found in F:\\videos\\ar32motor\\2021_08_02 for video 140Tracked and scorer DLC_resnet50_Topview3435Jul28shuffle1_110000.\n",
      "Filtering with median model F:\\videos\\ar32motor\\2021_08_02\\141.avi\n",
      "Data from 141 were already filtered. Skipping...\n",
      "Filtering with median model F:\\videos\\ar32motor\\2021_08_02\\141Tracked.avi\n",
      "No unfiltered data file found in F:\\videos\\ar32motor\\2021_08_02 for video 141Tracked and scorer DLC_resnet50_Topview3435Jul28shuffle1_110000.\n",
      "Filtering with median model F:\\videos\\ar32motor\\2021_08_02\\142.avi\n",
      "Data from 142 were already filtered. Skipping...\n",
      "Filtering with median model F:\\videos\\ar32motor\\2021_08_02\\142Tracked.avi\n",
      "No unfiltered data file found in F:\\videos\\ar32motor\\2021_08_02 for video 142Tracked and scorer DLC_resnet50_Topview3435Jul28shuffle1_110000.\n",
      "Filtering with median model F:\\videos\\ar32motor\\2021_08_02\\143.avi\n",
      "Data from 143 were already filtered. Skipping...\n",
      "Filtering with median model F:\\videos\\ar32motor\\2021_08_02\\143Tracked.avi\n",
      "No unfiltered data file found in F:\\videos\\ar32motor\\2021_08_02 for video 143Tracked and scorer DLC_resnet50_Topview3435Jul28shuffle1_110000.\n",
      "Filtering with median model F:\\videos\\ar32motor\\2021_08_02\\144.avi\n",
      "Data from 144 were already filtered. Skipping...\n",
      "Filtering with median model F:\\videos\\ar32motor\\2021_08_02\\144Tracked.avi\n",
      "No unfiltered data file found in F:\\videos\\ar32motor\\2021_08_02 for video 144Tracked and scorer DLC_resnet50_Topview3435Jul28shuffle1_110000.\n",
      "Filtering with median model F:\\videos\\ar32motor\\2021_08_02\\145.avi\n",
      "Data from 145 were already filtered. Skipping...\n",
      "Filtering with median model F:\\videos\\ar32motor\\2021_08_02\\145Tracked.avi\n",
      "No unfiltered data file found in F:\\videos\\ar32motor\\2021_08_02 for video 145Tracked and scorer DLC_resnet50_Topview3435Jul28shuffle1_110000.\n",
      "Filtering with median model F:\\videos\\ar32motor\\2021_08_02\\146.avi\n",
      "Data from 146 were already filtered. Skipping...\n",
      "Filtering with median model F:\\videos\\ar32motor\\2021_08_02\\146Tracked.avi\n",
      "No unfiltered data file found in F:\\videos\\ar32motor\\2021_08_02 for video 146Tracked and scorer DLC_resnet50_Topview3435Jul28shuffle1_110000.\n",
      "Filtering with median model F:\\videos\\ar32motor\\2021_08_02\\147.avi\n",
      "Data from 147 were already filtered. Skipping...\n",
      "Filtering with median model F:\\videos\\ar32motor\\2021_08_02\\147Tracked.avi\n",
      "No unfiltered data file found in F:\\videos\\ar32motor\\2021_08_02 for video 147Tracked and scorer DLC_resnet50_Topview3435Jul28shuffle1_110000.\n",
      "Filtering with median model F:\\videos\\ar32motor\\2021_08_02\\148.avi\n",
      "Data from 148 were already filtered. Skipping...\n",
      "Filtering with median model F:\\videos\\ar32motor\\2021_08_02\\148Tracked.avi\n"
     ]
    },
    {
     "name": "stdout",
     "output_type": "stream",
     "text": [
      "No unfiltered data file found in F:\\videos\\ar32motor\\2021_08_02 for video 148Tracked and scorer DLC_resnet50_Topview3435Jul28shuffle1_110000.\n",
      "Filtering with median model F:\\videos\\ar32motor\\2021_08_02\\149.avi\n",
      "Data from 149 were already filtered. Skipping...\n",
      "Filtering with median model F:\\videos\\ar32motor\\2021_08_02\\149Tracked.avi\n",
      "No unfiltered data file found in F:\\videos\\ar32motor\\2021_08_02 for video 149Tracked and scorer DLC_resnet50_Topview3435Jul28shuffle1_110000.\n",
      "Filtering with median model F:\\videos\\ar32motor\\2021_08_02\\14Tracked.avi\n",
      "No unfiltered data file found in F:\\videos\\ar32motor\\2021_08_02 for video 14Tracked and scorer DLC_resnet50_Topview3435Jul28shuffle1_110000.\n",
      "Filtering with median model F:\\videos\\ar32motor\\2021_08_02\\15.avi\n",
      "Data from 15 were already filtered. Skipping...\n",
      "Filtering with median model F:\\videos\\ar32motor\\2021_08_02\\150.avi\n",
      "Data from 150 were already filtered. Skipping...\n",
      "Filtering with median model F:\\videos\\ar32motor\\2021_08_02\\151.avi\n",
      "Data from 151 were already filtered. Skipping...\n",
      "Filtering with median model F:\\videos\\ar32motor\\2021_08_02\\152.avi\n",
      "Data from 152 were already filtered. Skipping...\n",
      "Filtering with median model F:\\videos\\ar32motor\\2021_08_02\\153.avi\n",
      "Data from 153 were already filtered. Skipping...\n",
      "Filtering with median model F:\\videos\\ar32motor\\2021_08_02\\154.avi\n",
      "Data from 154 were already filtered. Skipping...\n",
      "Filtering with median model F:\\videos\\ar32motor\\2021_08_02\\155.avi\n",
      "Data from 155 were already filtered. Skipping...\n",
      "Filtering with median model F:\\videos\\ar32motor\\2021_08_02\\155Tracked.avi\n",
      "No unfiltered data file found in F:\\videos\\ar32motor\\2021_08_02 for video 155Tracked and scorer DLC_resnet50_Topview3435Jul28shuffle1_110000.\n",
      "Filtering with median model F:\\videos\\ar32motor\\2021_08_02\\156.avi\n",
      "Data from 156 were already filtered. Skipping...\n",
      "Filtering with median model F:\\videos\\ar32motor\\2021_08_02\\157.avi\n",
      "Data from 157 were already filtered. Skipping...\n",
      "Filtering with median model F:\\videos\\ar32motor\\2021_08_02\\158.avi\n",
      "Data from 158 were already filtered. Skipping...\n",
      "Filtering with median model F:\\videos\\ar32motor\\2021_08_02\\159.avi\n",
      "Data from 159 were already filtered. Skipping...\n",
      "Filtering with median model F:\\videos\\ar32motor\\2021_08_02\\16.avi\n",
      "Data from 16 were already filtered. Skipping...\n",
      "Filtering with median model F:\\videos\\ar32motor\\2021_08_02\\160.avi\n",
      "Data from 160 were already filtered. Skipping...\n",
      "Filtering with median model F:\\videos\\ar32motor\\2021_08_02\\161.avi\n",
      "Data from 161 were already filtered. Skipping...\n",
      "Filtering with median model F:\\videos\\ar32motor\\2021_08_02\\162.avi\n",
      "Data from 162 were already filtered. Skipping...\n",
      "Filtering with median model F:\\videos\\ar32motor\\2021_08_02\\163.avi\n",
      "Data from 163 were already filtered. Skipping...\n",
      "Filtering with median model F:\\videos\\ar32motor\\2021_08_02\\164.avi\n",
      "Data from 164 were already filtered. Skipping...\n",
      "Filtering with median model F:\\videos\\ar32motor\\2021_08_02\\165.avi\n",
      "Data from 165 were already filtered. Skipping...\n",
      "Filtering with median model F:\\videos\\ar32motor\\2021_08_02\\166.avi\n",
      "Data from 166 were already filtered. Skipping...\n",
      "Filtering with median model F:\\videos\\ar32motor\\2021_08_02\\167.avi\n",
      "Data from 167 were already filtered. Skipping...\n",
      "Filtering with median model F:\\videos\\ar32motor\\2021_08_02\\168.avi\n",
      "Data from 168 were already filtered. Skipping...\n",
      "Filtering with median model F:\\videos\\ar32motor\\2021_08_02\\169.avi\n",
      "Data from 169 were already filtered. Skipping...\n",
      "Filtering with median model F:\\videos\\ar32motor\\2021_08_02\\17.avi\n",
      "Data from 17 were already filtered. Skipping...\n",
      "Filtering with median model F:\\videos\\ar32motor\\2021_08_02\\170.avi\n",
      "Data from 170 were already filtered. Skipping...\n",
      "Filtering with median model F:\\videos\\ar32motor\\2021_08_02\\171.avi\n",
      "Data from 171 were already filtered. Skipping...\n",
      "Filtering with median model F:\\videos\\ar32motor\\2021_08_02\\172.avi\n",
      "Data from 172 were already filtered. Skipping...\n",
      "Filtering with median model F:\\videos\\ar32motor\\2021_08_02\\173.avi\n",
      "Data from 173 were already filtered. Skipping...\n",
      "Filtering with median model F:\\videos\\ar32motor\\2021_08_02\\174.avi\n",
      "Data from 174 were already filtered. Skipping...\n",
      "Filtering with median model F:\\videos\\ar32motor\\2021_08_02\\175.avi\n",
      "Data from 175 were already filtered. Skipping...\n",
      "Filtering with median model F:\\videos\\ar32motor\\2021_08_02\\176.avi\n",
      "Data from 176 were already filtered. Skipping...\n",
      "Filtering with median model F:\\videos\\ar32motor\\2021_08_02\\177.avi\n",
      "Data from 177 were already filtered. Skipping...\n",
      "Filtering with median model F:\\videos\\ar32motor\\2021_08_02\\178.avi\n",
      "Data from 178 were already filtered. Skipping...\n",
      "Filtering with median model F:\\videos\\ar32motor\\2021_08_02\\179.avi\n",
      "Data from 179 were already filtered. Skipping...\n",
      "Filtering with median model F:\\videos\\ar32motor\\2021_08_02\\18.avi\n",
      "Data from 18 were already filtered. Skipping...\n",
      "Filtering with median model F:\\videos\\ar32motor\\2021_08_02\\180.avi\n",
      "Data from 180 were already filtered. Skipping...\n",
      "Filtering with median model F:\\videos\\ar32motor\\2021_08_02\\181.avi\n",
      "Data from 181 were already filtered. Skipping...\n",
      "Filtering with median model F:\\videos\\ar32motor\\2021_08_02\\182.avi\n",
      "Data from 182 were already filtered. Skipping...\n",
      "Filtering with median model F:\\videos\\ar32motor\\2021_08_02\\183.avi\n",
      "Data from 183 were already filtered. Skipping...\n",
      "Filtering with median model F:\\videos\\ar32motor\\2021_08_02\\184.avi\n",
      "Data from 184 were already filtered. Skipping...\n",
      "Filtering with median model F:\\videos\\ar32motor\\2021_08_02\\185.avi\n",
      "Data from 185 were already filtered. Skipping...\n",
      "Filtering with median model F:\\videos\\ar32motor\\2021_08_02\\186.avi\n",
      "Data from 186 were already filtered. Skipping...\n",
      "Filtering with median model F:\\videos\\ar32motor\\2021_08_02\\187.avi\n",
      "Data from 187 were already filtered. Skipping...\n",
      "Filtering with median model F:\\videos\\ar32motor\\2021_08_02\\188.avi\n",
      "Data from 188 were already filtered. Skipping...\n",
      "Filtering with median model F:\\videos\\ar32motor\\2021_08_02\\189.avi\n",
      "Data from 189 were already filtered. Skipping...\n",
      "Filtering with median model F:\\videos\\ar32motor\\2021_08_02\\19.avi\n",
      "Data from 19 were already filtered. Skipping...\n",
      "Filtering with median model F:\\videos\\ar32motor\\2021_08_02\\190.avi\n",
      "Data from 190 were already filtered. Skipping...\n",
      "Filtering with median model F:\\videos\\ar32motor\\2021_08_02\\191.avi\n",
      "Data from 191 were already filtered. Skipping...\n",
      "Filtering with median model F:\\videos\\ar32motor\\2021_08_02\\192.avi\n",
      "Data from 192 were already filtered. Skipping...\n",
      "Filtering with median model F:\\videos\\ar32motor\\2021_08_02\\193.avi\n",
      "Data from 193 were already filtered. Skipping...\n",
      "Filtering with median model F:\\videos\\ar32motor\\2021_08_02\\194.avi\n",
      "Data from 194 were already filtered. Skipping...\n",
      "Filtering with median model F:\\videos\\ar32motor\\2021_08_02\\195.avi\n",
      "Data from 195 were already filtered. Skipping...\n",
      "Filtering with median model F:\\videos\\ar32motor\\2021_08_02\\196.avi\n",
      "Data from 196 were already filtered. Skipping...\n",
      "Filtering with median model F:\\videos\\ar32motor\\2021_08_02\\197.avi\n",
      "Data from 197 were already filtered. Skipping...\n",
      "Filtering with median model F:\\videos\\ar32motor\\2021_08_02\\198.avi\n",
      "Data from 198 were already filtered. Skipping...\n",
      "Filtering with median model F:\\videos\\ar32motor\\2021_08_02\\199.avi\n",
      "Data from 199 were already filtered. Skipping...\n",
      "Filtering with median model F:\\videos\\ar32motor\\2021_08_02\\2.avi\n",
      "Data from 2 were already filtered. Skipping...\n",
      "Filtering with median model F:\\videos\\ar32motor\\2021_08_02\\20.avi\n",
      "Data from 20 were already filtered. Skipping...\n",
      "Filtering with median model F:\\videos\\ar32motor\\2021_08_02\\200.avi\n",
      "Data from 200 were already filtered. Skipping...\n",
      "Filtering with median model F:\\videos\\ar32motor\\2021_08_02\\201.avi\n",
      "Data from 201 were already filtered. Skipping...\n",
      "Filtering with median model F:\\videos\\ar32motor\\2021_08_02\\202.avi\n",
      "Data from 202 were already filtered. Skipping...\n",
      "Filtering with median model F:\\videos\\ar32motor\\2021_08_02\\203.avi\n",
      "Data from 203 were already filtered. Skipping...\n",
      "Filtering with median model F:\\videos\\ar32motor\\2021_08_02\\204.avi\n",
      "Data from 204 were already filtered. Skipping...\n",
      "Filtering with median model F:\\videos\\ar32motor\\2021_08_02\\205.avi\n"
     ]
    },
    {
     "name": "stdout",
     "output_type": "stream",
     "text": [
      "Data from 205 were already filtered. Skipping...\n",
      "Filtering with median model F:\\videos\\ar32motor\\2021_08_02\\206.avi\n",
      "Data from 206 were already filtered. Skipping...\n",
      "Filtering with median model F:\\videos\\ar32motor\\2021_08_02\\207.avi\n",
      "Data from 207 were already filtered. Skipping...\n",
      "Filtering with median model F:\\videos\\ar32motor\\2021_08_02\\208.avi\n",
      "Data from 208 were already filtered. Skipping...\n",
      "Filtering with median model F:\\videos\\ar32motor\\2021_08_02\\209.avi\n",
      "Data from 209 were already filtered. Skipping...\n",
      "Filtering with median model F:\\videos\\ar32motor\\2021_08_02\\21.avi\n",
      "Data from 21 were already filtered. Skipping...\n",
      "Filtering with median model F:\\videos\\ar32motor\\2021_08_02\\210.avi\n",
      "Data from 210 were already filtered. Skipping...\n",
      "Filtering with median model F:\\videos\\ar32motor\\2021_08_02\\211.avi\n",
      "Data from 211 were already filtered. Skipping...\n",
      "Filtering with median model F:\\videos\\ar32motor\\2021_08_02\\212.avi\n",
      "Data from 212 were already filtered. Skipping...\n",
      "Filtering with median model F:\\videos\\ar32motor\\2021_08_02\\213.avi\n",
      "Data from 213 were already filtered. Skipping...\n",
      "Filtering with median model F:\\videos\\ar32motor\\2021_08_02\\214.avi\n",
      "Data from 214 were already filtered. Skipping...\n",
      "Filtering with median model F:\\videos\\ar32motor\\2021_08_02\\215.avi\n",
      "Data from 215 were already filtered. Skipping...\n",
      "Filtering with median model F:\\videos\\ar32motor\\2021_08_02\\216.avi\n",
      "Data from 216 were already filtered. Skipping...\n",
      "Filtering with median model F:\\videos\\ar32motor\\2021_08_02\\217.avi\n",
      "Data from 217 were already filtered. Skipping...\n",
      "Filtering with median model F:\\videos\\ar32motor\\2021_08_02\\218.avi\n",
      "Data from 218 were already filtered. Skipping...\n",
      "Filtering with median model F:\\videos\\ar32motor\\2021_08_02\\219.avi\n",
      "Data from 219 were already filtered. Skipping...\n",
      "Filtering with median model F:\\videos\\ar32motor\\2021_08_02\\22.avi\n",
      "Data from 22 were already filtered. Skipping...\n",
      "Filtering with median model F:\\videos\\ar32motor\\2021_08_02\\220.avi\n",
      "Data from 220 were already filtered. Skipping...\n",
      "Filtering with median model F:\\videos\\ar32motor\\2021_08_02\\221.avi\n",
      "Data from 221 were already filtered. Skipping...\n",
      "Filtering with median model F:\\videos\\ar32motor\\2021_08_02\\222.avi\n",
      "Data from 222 were already filtered. Skipping...\n",
      "Filtering with median model F:\\videos\\ar32motor\\2021_08_02\\223.avi\n",
      "Data from 223 were already filtered. Skipping...\n",
      "Filtering with median model F:\\videos\\ar32motor\\2021_08_02\\224.avi\n",
      "Data from 224 were already filtered. Skipping...\n",
      "Filtering with median model F:\\videos\\ar32motor\\2021_08_02\\225.avi\n",
      "Data from 225 were already filtered. Skipping...\n",
      "Filtering with median model F:\\videos\\ar32motor\\2021_08_02\\226.avi\n",
      "Data from 226 were already filtered. Skipping...\n",
      "Filtering with median model F:\\videos\\ar32motor\\2021_08_02\\227.avi\n",
      "Data from 227 were already filtered. Skipping...\n",
      "Filtering with median model F:\\videos\\ar32motor\\2021_08_02\\228.avi\n",
      "Data from 228 were already filtered. Skipping...\n",
      "Filtering with median model F:\\videos\\ar32motor\\2021_08_02\\229.avi\n",
      "Data from 229 were already filtered. Skipping...\n",
      "Filtering with median model F:\\videos\\ar32motor\\2021_08_02\\23.avi\n",
      "Data from 23 were already filtered. Skipping...\n",
      "Filtering with median model F:\\videos\\ar32motor\\2021_08_02\\230.avi\n",
      "Data from 230 were already filtered. Skipping...\n",
      "Filtering with median model F:\\videos\\ar32motor\\2021_08_02\\231.avi\n",
      "Data from 231 were already filtered. Skipping...\n",
      "Filtering with median model F:\\videos\\ar32motor\\2021_08_02\\232.avi\n",
      "Data from 232 were already filtered. Skipping...\n",
      "Filtering with median model F:\\videos\\ar32motor\\2021_08_02\\24.avi\n",
      "Data from 24 were already filtered. Skipping...\n",
      "Filtering with median model F:\\videos\\ar32motor\\2021_08_02\\25.avi\n",
      "Data from 25 were already filtered. Skipping...\n",
      "Filtering with median model F:\\videos\\ar32motor\\2021_08_02\\26.avi\n",
      "Data from 26 were already filtered. Skipping...\n",
      "Filtering with median model F:\\videos\\ar32motor\\2021_08_02\\27.avi\n",
      "Data from 27 were already filtered. Skipping...\n",
      "Filtering with median model F:\\videos\\ar32motor\\2021_08_02\\28.avi\n",
      "Data from 28 were already filtered. Skipping...\n",
      "Filtering with median model F:\\videos\\ar32motor\\2021_08_02\\29.avi\n",
      "Data from 29 were already filtered. Skipping...\n",
      "Filtering with median model F:\\videos\\ar32motor\\2021_08_02\\3.avi\n",
      "Data from 3 were already filtered. Skipping...\n",
      "Filtering with median model F:\\videos\\ar32motor\\2021_08_02\\30.avi\n",
      "Data from 30 were already filtered. Skipping...\n",
      "Filtering with median model F:\\videos\\ar32motor\\2021_08_02\\31.avi\n",
      "Data from 31 were already filtered. Skipping...\n",
      "Filtering with median model F:\\videos\\ar32motor\\2021_08_02\\32.avi\n",
      "Data from 32 were already filtered. Skipping...\n",
      "Filtering with median model F:\\videos\\ar32motor\\2021_08_02\\33.avi\n",
      "Data from 33 were already filtered. Skipping...\n",
      "Filtering with median model F:\\videos\\ar32motor\\2021_08_02\\34.avi\n",
      "Data from 34 were already filtered. Skipping...\n",
      "Filtering with median model F:\\videos\\ar32motor\\2021_08_02\\35.avi\n",
      "Data from 35 were already filtered. Skipping...\n",
      "Filtering with median model F:\\videos\\ar32motor\\2021_08_02\\36.avi\n",
      "Data from 36 were already filtered. Skipping...\n",
      "Filtering with median model F:\\videos\\ar32motor\\2021_08_02\\37.avi\n",
      "Data from 37 were already filtered. Skipping...\n",
      "Filtering with median model F:\\videos\\ar32motor\\2021_08_02\\38.avi\n",
      "Data from 38 were already filtered. Skipping...\n",
      "Filtering with median model F:\\videos\\ar32motor\\2021_08_02\\39.avi\n",
      "Data from 39 were already filtered. Skipping...\n",
      "Filtering with median model F:\\videos\\ar32motor\\2021_08_02\\4.avi\n",
      "Data from 4 were already filtered. Skipping...\n",
      "Filtering with median model F:\\videos\\ar32motor\\2021_08_02\\40.avi\n",
      "Data from 40 were already filtered. Skipping...\n",
      "Filtering with median model F:\\videos\\ar32motor\\2021_08_02\\41.avi\n",
      "Data from 41 were already filtered. Skipping...\n",
      "Filtering with median model F:\\videos\\ar32motor\\2021_08_02\\42.avi\n",
      "Data from 42 were already filtered. Skipping...\n",
      "Filtering with median model F:\\videos\\ar32motor\\2021_08_02\\43.avi\n",
      "Data from 43 were already filtered. Skipping...\n",
      "Filtering with median model F:\\videos\\ar32motor\\2021_08_02\\44.avi\n",
      "Data from 44 were already filtered. Skipping...\n",
      "Filtering with median model F:\\videos\\ar32motor\\2021_08_02\\45.avi\n",
      "Data from 45 were already filtered. Skipping...\n",
      "Filtering with median model F:\\videos\\ar32motor\\2021_08_02\\46.avi\n",
      "Data from 46 were already filtered. Skipping...\n",
      "Filtering with median model F:\\videos\\ar32motor\\2021_08_02\\47.avi\n",
      "Data from 47 were already filtered. Skipping...\n",
      "Filtering with median model F:\\videos\\ar32motor\\2021_08_02\\48.avi\n",
      "Data from 48 were already filtered. Skipping...\n",
      "Filtering with median model F:\\videos\\ar32motor\\2021_08_02\\49.avi\n",
      "Data from 49 were already filtered. Skipping...\n",
      "Filtering with median model F:\\videos\\ar32motor\\2021_08_02\\5.avi\n",
      "Data from 5 were already filtered. Skipping...\n",
      "Filtering with median model F:\\videos\\ar32motor\\2021_08_02\\50.avi\n",
      "Data from 50 were already filtered. Skipping...\n",
      "Filtering with median model F:\\videos\\ar32motor\\2021_08_02\\51.avi\n",
      "Data from 51 were already filtered. Skipping...\n",
      "Filtering with median model F:\\videos\\ar32motor\\2021_08_02\\52.avi\n",
      "Data from 52 were already filtered. Skipping...\n",
      "Filtering with median model F:\\videos\\ar32motor\\2021_08_02\\53.avi\n",
      "Data from 53 were already filtered. Skipping...\n",
      "Filtering with median model F:\\videos\\ar32motor\\2021_08_02\\54.avi\n",
      "Data from 54 were already filtered. Skipping...\n",
      "Filtering with median model F:\\videos\\ar32motor\\2021_08_02\\55.avi\n",
      "Data from 55 were already filtered. Skipping...\n",
      "Filtering with median model F:\\videos\\ar32motor\\2021_08_02\\56.avi\n",
      "Data from 56 were already filtered. Skipping...\n",
      "Filtering with median model F:\\videos\\ar32motor\\2021_08_02\\57.avi\n",
      "Data from 57 were already filtered. Skipping...\n",
      "Filtering with median model F:\\videos\\ar32motor\\2021_08_02\\58.avi\n",
      "Data from 58 were already filtered. Skipping...\n",
      "Filtering with median model F:\\videos\\ar32motor\\2021_08_02\\59.avi\n",
      "Data from 59 were already filtered. Skipping...\n",
      "Filtering with median model F:\\videos\\ar32motor\\2021_08_02\\6.avi\n",
      "Data from 6 were already filtered. Skipping...\n",
      "Filtering with median model F:\\videos\\ar32motor\\2021_08_02\\60.avi\n",
      "Data from 60 were already filtered. Skipping...\n"
     ]
    },
    {
     "name": "stdout",
     "output_type": "stream",
     "text": [
      "Filtering with median model F:\\videos\\ar32motor\\2021_08_02\\61.avi\n",
      "Data from 61 were already filtered. Skipping...\n",
      "Filtering with median model F:\\videos\\ar32motor\\2021_08_02\\62.avi\n",
      "Data from 62 were already filtered. Skipping...\n",
      "Filtering with median model F:\\videos\\ar32motor\\2021_08_02\\63.avi\n",
      "Data from 63 were already filtered. Skipping...\n",
      "Filtering with median model F:\\videos\\ar32motor\\2021_08_02\\64.avi\n",
      "Data from 64 were already filtered. Skipping...\n",
      "Filtering with median model F:\\videos\\ar32motor\\2021_08_02\\65.avi\n",
      "Data from 65 were already filtered. Skipping...\n",
      "Filtering with median model F:\\videos\\ar32motor\\2021_08_02\\66.avi\n",
      "Data from 66 were already filtered. Skipping...\n",
      "Filtering with median model F:\\videos\\ar32motor\\2021_08_02\\67.avi\n",
      "Data from 67 were already filtered. Skipping...\n",
      "Filtering with median model F:\\videos\\ar32motor\\2021_08_02\\68.avi\n",
      "Data from 68 were already filtered. Skipping...\n",
      "Filtering with median model F:\\videos\\ar32motor\\2021_08_02\\69.avi\n",
      "Data from 69 were already filtered. Skipping...\n",
      "Filtering with median model F:\\videos\\ar32motor\\2021_08_02\\7.avi\n",
      "Data from 7 were already filtered. Skipping...\n",
      "Filtering with median model F:\\videos\\ar32motor\\2021_08_02\\70.avi\n",
      "Data from 70 were already filtered. Skipping...\n",
      "Filtering with median model F:\\videos\\ar32motor\\2021_08_02\\71.avi\n",
      "Data from 71 were already filtered. Skipping...\n",
      "Filtering with median model F:\\videos\\ar32motor\\2021_08_02\\72.avi\n",
      "Data from 72 were already filtered. Skipping...\n",
      "Filtering with median model F:\\videos\\ar32motor\\2021_08_02\\73.avi\n",
      "Data from 73 were already filtered. Skipping...\n",
      "Filtering with median model F:\\videos\\ar32motor\\2021_08_02\\74.avi\n",
      "Data from 74 were already filtered. Skipping...\n",
      "Filtering with median model F:\\videos\\ar32motor\\2021_08_02\\75.avi\n",
      "Data from 75 were already filtered. Skipping...\n",
      "Filtering with median model F:\\videos\\ar32motor\\2021_08_02\\76.avi\n",
      "Data from 76 were already filtered. Skipping...\n",
      "Filtering with median model F:\\videos\\ar32motor\\2021_08_02\\77.avi\n",
      "Data from 77 were already filtered. Skipping...\n",
      "Filtering with median model F:\\videos\\ar32motor\\2021_08_02\\78.avi\n",
      "Data from 78 were already filtered. Skipping...\n",
      "Filtering with median model F:\\videos\\ar32motor\\2021_08_02\\79.avi\n",
      "Data from 79 were already filtered. Skipping...\n",
      "Filtering with median model F:\\videos\\ar32motor\\2021_08_02\\8.avi\n",
      "Data from 8 were already filtered. Skipping...\n",
      "Filtering with median model F:\\videos\\ar32motor\\2021_08_02\\80.avi\n",
      "Data from 80 were already filtered. Skipping...\n",
      "Filtering with median model F:\\videos\\ar32motor\\2021_08_02\\81.avi\n",
      "Data from 81 were already filtered. Skipping...\n",
      "Filtering with median model F:\\videos\\ar32motor\\2021_08_02\\82.avi\n",
      "Data from 82 were already filtered. Skipping...\n",
      "Filtering with median model F:\\videos\\ar32motor\\2021_08_02\\83.avi\n",
      "Data from 83 were already filtered. Skipping...\n",
      "Filtering with median model F:\\videos\\ar32motor\\2021_08_02\\84.avi\n",
      "Data from 84 were already filtered. Skipping...\n",
      "Filtering with median model F:\\videos\\ar32motor\\2021_08_02\\85.avi\n",
      "Data from 85 were already filtered. Skipping...\n",
      "Filtering with median model F:\\videos\\ar32motor\\2021_08_02\\86.avi\n",
      "Data from 86 were already filtered. Skipping...\n",
      "Filtering with median model F:\\videos\\ar32motor\\2021_08_02\\87.avi\n",
      "Data from 87 were already filtered. Skipping...\n",
      "Filtering with median model F:\\videos\\ar32motor\\2021_08_02\\88.avi\n",
      "Data from 88 were already filtered. Skipping...\n",
      "Filtering with median model F:\\videos\\ar32motor\\2021_08_02\\89.avi\n",
      "Data from 89 were already filtered. Skipping...\n",
      "Filtering with median model F:\\videos\\ar32motor\\2021_08_02\\9.avi\n",
      "Data from 9 were already filtered. Skipping...\n",
      "Filtering with median model F:\\videos\\ar32motor\\2021_08_02\\90.avi\n",
      "Data from 90 were already filtered. Skipping...\n",
      "Filtering with median model F:\\videos\\ar32motor\\2021_08_02\\91.avi\n",
      "Data from 91 were already filtered. Skipping...\n",
      "Filtering with median model F:\\videos\\ar32motor\\2021_08_02\\92.avi\n",
      "Data from 92 were already filtered. Skipping...\n",
      "Filtering with median model F:\\videos\\ar32motor\\2021_08_02\\93.avi\n",
      "Data from 93 were already filtered. Skipping...\n",
      "Filtering with median model F:\\videos\\ar32motor\\2021_08_02\\94.avi\n",
      "Data from 94 were already filtered. Skipping...\n",
      "Filtering with median model F:\\videos\\ar32motor\\2021_08_02\\95.avi\n",
      "Data from 95 were already filtered. Skipping...\n",
      "Filtering with median model F:\\videos\\ar32motor\\2021_08_02\\96.avi\n",
      "Data from 96 were already filtered. Skipping...\n",
      "Filtering with median model F:\\videos\\ar32motor\\2021_08_02\\97.avi\n",
      "Data from 97 were already filtered. Skipping...\n",
      "Filtering with median model F:\\videos\\ar32motor\\2021_08_02\\98.avi\n",
      "Data from 98 were already filtered. Skipping...\n",
      "Filtering with median model F:\\videos\\ar32motor\\2021_08_02\\99.avi\n",
      "Data from 99 were already filtered. Skipping...\n"
     ]
    }
   ],
   "source": [
    "import os\n",
    "path_config_file = 'F:\\\\DLC\\\\Topview3435-Arash-2021-07-28\\\\config.yaml'\n",
    "text_files = [os.path.join(Mainfolder,f) for f in os.listdir(Mainfolder) if f.endswith('.avi') and not f.endswith('L.avi') and not f.endswith('R.avi') and not f.endswith('videopoints.avi') and not f.endswith('videopoints.avi')]\n",
    "temp=deeplabcut.filterpredictions(path_config_file,text_files)"
   ]
  },
  {
   "cell_type": "code",
   "execution_count": 9,
   "metadata": {},
   "outputs": [],
   "source": [
    "deeplabcut.filterpredictions?"
   ]
  },
  {
   "cell_type": "markdown",
   "metadata": {},
   "source": [
    "# copy tracked files into the server (with mp4 movies)"
   ]
  },
  {
   "cell_type": "code",
   "execution_count": null,
   "metadata": {},
   "outputs": [],
   "source": [
    "Mainfolder = 'F:\\\\videos\\\\ar32motor\\\\2021_08_02'\n",
    "destination = ''\n",
    "destination='//dk-server.dk.ucsd.edu/afassihizakeri/SC_Movies/ar32motor/2021_08_02/Side'\n",
    "import shutil\n",
    "shutil.copytree( Mainfolder,destination, ignore=shutil.ignore_patterns('*.avi'),copy_function = shutil.copy)\n",
    "#copytree(Mainfolder, destination, ignore=ignore_patterns('*.avi'))\n"
   ]
  },
  {
   "cell_type": "markdown",
   "metadata": {},
   "source": [
    "# this step should take the filtered DLC output (Nose and Snout)\n",
    "and create the L and R movies\n",
    "then using another function to convert L and R (R is left face and L is right face) files into Mask and Mirror files( Mask only adds mask to the Right side of the face and Mirror. \n"
   ]
  },
  {
   "cell_type": "markdown",
   "metadata": {},
   "source": [
    "## this step makes Mirror Mask files"
   ]
  },
  {
   "cell_type": "code",
   "execution_count": null,
   "metadata": {},
   "outputs": [],
   "source": [
    "import Runmask_mirror\n",
    "Runmask_mirror.RunMask(Mainfolder,'False')"
   ]
  },
  {
   "cell_type": "code",
   "execution_count": null,
   "metadata": {},
   "outputs": [],
   "source": [
    "import Runmask_mirror\n",
    "\n",
    "[XfilesL,XfilesR]=Runmask_mirror.RunMaskTrial(Mainfolder,'88')"
   ]
  },
  {
   "cell_type": "code",
   "execution_count": null,
   "metadata": {},
   "outputs": [],
   "source": [
    "print(XfilesL)"
   ]
  },
  {
   "cell_type": "markdown",
   "metadata": {},
   "source": [
    "# now apply DLC already trained data on whiskers "
   ]
  },
  {
   "cell_type": "code",
   "execution_count": null,
   "metadata": {},
   "outputs": [
    {
     "name": "stdout",
     "output_type": "stream",
     "text": [
      "Using snapshot-207000 for model F:\\videos\\Ar30motor\\2021_08_03_184113\\ar30shiwker-Arash-2021-09-13\\dlc-models\\iteration-0\\ar30shiwkerSep13-trainset95shuffle1\n",
      "Initializing ResNet\n",
      "Starting to analyze %  F:\\videos\\Ar30motor\\2021_08_03_183638\\Mask10L.avi\n",
      "F:\\videos\\Ar30motor\\2021_08_03_183638  already exists!\n",
      "Loading  F:\\videos\\Ar30motor\\2021_08_03_183638\\Mask10L.avi\n",
      "Duration of video [s]:  9.97 , recorded with  40.0 fps!\n",
      "Overall # of frames:  399  found with (before cropping) frame dimensions:  350 420\n",
      "Starting to extract posture\n"
     ]
    },
    {
     "name": "stderr",
     "output_type": "stream",
     "text": [
      " 98%|█████████████████████████████████████████████████████████████████████████████▏ | 390/399 [00:05<00:00, 110.53it/s]"
     ]
    },
    {
     "name": "stdout",
     "output_type": "stream",
     "text": [
      "Detected frames:  399\n"
     ]
    },
    {
     "name": "stderr",
     "output_type": "stream",
     "text": [
      "400it [00:05, 70.50it/s]                                                                                               \n"
     ]
    },
    {
     "name": "stdout",
     "output_type": "stream",
     "text": [
      "Saving results in F:\\videos\\Ar30motor\\2021_08_03_183638...\n",
      "Saving csv poses!\n",
      "Starting to analyze %  F:\\videos\\Ar30motor\\2021_08_03_183638\\Mask11L.avi\n",
      "F:\\videos\\Ar30motor\\2021_08_03_183638  already exists!\n",
      "Loading  F:\\videos\\Ar30motor\\2021_08_03_183638\\Mask11L.avi\n",
      "Duration of video [s]:  9.97 , recorded with  40.0 fps!\n",
      "Overall # of frames:  399  found with (before cropping) frame dimensions:  350 420\n",
      "Starting to extract posture\n"
     ]
    },
    {
     "name": "stderr",
     "output_type": "stream",
     "text": [
      " 98%|█████████████████████████████████████████████████████████████████████████████▏ | 390/399 [00:03<00:00, 110.06it/s]"
     ]
    },
    {
     "name": "stdout",
     "output_type": "stream",
     "text": [
      "Detected frames:  399\n"
     ]
    },
    {
     "name": "stderr",
     "output_type": "stream",
     "text": [
      "400it [00:03, 105.88it/s]                                                                                              \n"
     ]
    },
    {
     "name": "stdout",
     "output_type": "stream",
     "text": [
      "Saving results in F:\\videos\\Ar30motor\\2021_08_03_183638...\n",
      "Saving csv poses!\n",
      "Starting to analyze %  F:\\videos\\Ar30motor\\2021_08_03_183638\\Mask12L.avi\n",
      "F:\\videos\\Ar30motor\\2021_08_03_183638  already exists!\n",
      "Loading  F:\\videos\\Ar30motor\\2021_08_03_183638\\Mask12L.avi\n",
      "Duration of video [s]:  9.97 , recorded with  40.0 fps!\n",
      "Overall # of frames:  399  found with (before cropping) frame dimensions:  350 420\n",
      "Starting to extract posture\n"
     ]
    },
    {
     "name": "stderr",
     "output_type": "stream",
     "text": [
      " 98%|█████████████████████████████████████████████████████████████████████████████▏ | 390/399 [00:03<00:00, 107.26it/s]"
     ]
    },
    {
     "name": "stdout",
     "output_type": "stream",
     "text": [
      "Detected frames:  399\n"
     ]
    },
    {
     "name": "stderr",
     "output_type": "stream",
     "text": [
      "400it [00:03, 105.21it/s]                                                                                              \n"
     ]
    },
    {
     "name": "stdout",
     "output_type": "stream",
     "text": [
      "Saving results in F:\\videos\\Ar30motor\\2021_08_03_183638...\n",
      "Saving csv poses!\n",
      "Starting to analyze %  F:\\videos\\Ar30motor\\2021_08_03_183638\\Mask13L.avi\n",
      "F:\\videos\\Ar30motor\\2021_08_03_183638  already exists!\n",
      "Loading  F:\\videos\\Ar30motor\\2021_08_03_183638\\Mask13L.avi\n",
      "Duration of video [s]:  9.2 , recorded with  40.0 fps!\n",
      "Overall # of frames:  368  found with (before cropping) frame dimensions:  350 420\n",
      "Starting to extract posture\n"
     ]
    },
    {
     "name": "stderr",
     "output_type": "stream",
     "text": [
      "370it [00:03, 102.84it/s]                                                                                              "
     ]
    },
    {
     "name": "stdout",
     "output_type": "stream",
     "text": [
      "Detected frames:  368\n"
     ]
    },
    {
     "name": "stderr",
     "output_type": "stream",
     "text": [
      "370it [00:03, 106.22it/s]\n"
     ]
    },
    {
     "name": "stdout",
     "output_type": "stream",
     "text": [
      "Saving results in F:\\videos\\Ar30motor\\2021_08_03_183638...\n",
      "Saving csv poses!\n",
      "Starting to analyze %  F:\\videos\\Ar30motor\\2021_08_03_183638\\Mask14L.avi\n",
      "F:\\videos\\Ar30motor\\2021_08_03_183638  already exists!\n",
      "Loading  F:\\videos\\Ar30motor\\2021_08_03_183638\\Mask14L.avi\n",
      "Duration of video [s]:  9.97 , recorded with  40.0 fps!\n",
      "Overall # of frames:  399  found with (before cropping) frame dimensions:  350 420\n",
      "Starting to extract posture\n"
     ]
    },
    {
     "name": "stderr",
     "output_type": "stream",
     "text": [
      " 98%|█████████████████████████████████████████████████████████████████████████████▏ | 390/399 [00:03<00:00, 109.93it/s]"
     ]
    },
    {
     "name": "stdout",
     "output_type": "stream",
     "text": [
      "Detected frames:  399\n"
     ]
    },
    {
     "name": "stderr",
     "output_type": "stream",
     "text": [
      "400it [00:03, 105.34it/s]                                                                                              \n"
     ]
    },
    {
     "name": "stdout",
     "output_type": "stream",
     "text": [
      "Saving results in F:\\videos\\Ar30motor\\2021_08_03_183638...\n",
      "Saving csv poses!\n",
      "Starting to analyze %  F:\\videos\\Ar30motor\\2021_08_03_183638\\Mask15L.avi\n",
      "F:\\videos\\Ar30motor\\2021_08_03_183638  already exists!\n",
      "Loading  F:\\videos\\Ar30motor\\2021_08_03_183638\\Mask15L.avi\n",
      "Duration of video [s]:  9.97 , recorded with  40.0 fps!\n",
      "Overall # of frames:  399  found with (before cropping) frame dimensions:  350 420\n",
      "Starting to extract posture\n"
     ]
    },
    {
     "name": "stderr",
     "output_type": "stream",
     "text": [
      " 98%|█████████████████████████████████████████████████████████████████████████████▏ | 390/399 [00:03<00:00, 109.71it/s]"
     ]
    },
    {
     "name": "stdout",
     "output_type": "stream",
     "text": [
      "Detected frames:  399\n"
     ]
    },
    {
     "name": "stderr",
     "output_type": "stream",
     "text": [
      "400it [00:03, 105.65it/s]                                                                                              \n"
     ]
    },
    {
     "name": "stdout",
     "output_type": "stream",
     "text": [
      "Saving results in F:\\videos\\Ar30motor\\2021_08_03_183638...\n",
      "Saving csv poses!\n",
      "Starting to analyze %  F:\\videos\\Ar30motor\\2021_08_03_183638\\Mask16L.avi\n",
      "F:\\videos\\Ar30motor\\2021_08_03_183638  already exists!\n",
      "Loading  F:\\videos\\Ar30motor\\2021_08_03_183638\\Mask16L.avi\n",
      "Duration of video [s]:  9.97 , recorded with  40.0 fps!\n",
      "Overall # of frames:  399  found with (before cropping) frame dimensions:  350 420\n",
      "Starting to extract posture\n"
     ]
    },
    {
     "name": "stderr",
     "output_type": "stream",
     "text": [
      " 98%|█████████████████████████████████████████████████████████████████████████████▏ | 390/399 [00:03<00:00, 108.62it/s]"
     ]
    },
    {
     "name": "stdout",
     "output_type": "stream",
     "text": [
      "Detected frames:  399\n"
     ]
    },
    {
     "name": "stderr",
     "output_type": "stream",
     "text": [
      "400it [00:03, 104.89it/s]                                                                                              \n"
     ]
    },
    {
     "name": "stdout",
     "output_type": "stream",
     "text": [
      "Saving results in F:\\videos\\Ar30motor\\2021_08_03_183638...\n",
      "Saving csv poses!\n",
      "Starting to analyze %  F:\\videos\\Ar30motor\\2021_08_03_183638\\Mask17L.avi\n",
      "F:\\videos\\Ar30motor\\2021_08_03_183638  already exists!\n",
      "Loading  F:\\videos\\Ar30motor\\2021_08_03_183638\\Mask17L.avi\n",
      "Duration of video [s]:  9.97 , recorded with  40.0 fps!\n",
      "Overall # of frames:  399  found with (before cropping) frame dimensions:  350 420\n",
      "Starting to extract posture\n"
     ]
    },
    {
     "name": "stderr",
     "output_type": "stream",
     "text": [
      " 98%|█████████████████████████████████████████████████████████████████████████████▏ | 390/399 [00:03<00:00, 108.92it/s]"
     ]
    },
    {
     "name": "stdout",
     "output_type": "stream",
     "text": [
      "Detected frames:  399\n"
     ]
    },
    {
     "name": "stderr",
     "output_type": "stream",
     "text": [
      "400it [00:03, 105.56it/s]                                                                                              \n"
     ]
    },
    {
     "name": "stdout",
     "output_type": "stream",
     "text": [
      "Saving results in F:\\videos\\Ar30motor\\2021_08_03_183638...\n",
      "Saving csv poses!\n",
      "Starting to analyze %  F:\\videos\\Ar30motor\\2021_08_03_183638\\Mask18L.avi\n",
      "F:\\videos\\Ar30motor\\2021_08_03_183638  already exists!\n",
      "Loading  F:\\videos\\Ar30motor\\2021_08_03_183638\\Mask18L.avi\n",
      "Duration of video [s]:  9.97 , recorded with  40.0 fps!\n",
      "Overall # of frames:  399  found with (before cropping) frame dimensions:  350 420\n",
      "Starting to extract posture\n"
     ]
    },
    {
     "name": "stderr",
     "output_type": "stream",
     "text": [
      " 98%|█████████████████████████████████████████████████████████████████████████████▏ | 390/399 [00:03<00:00, 107.26it/s]"
     ]
    },
    {
     "name": "stdout",
     "output_type": "stream",
     "text": [
      "Detected frames:  399\n"
     ]
    },
    {
     "name": "stderr",
     "output_type": "stream",
     "text": [
      "400it [00:03, 104.47it/s]                                                                                              \n"
     ]
    },
    {
     "name": "stdout",
     "output_type": "stream",
     "text": [
      "Saving results in F:\\videos\\Ar30motor\\2021_08_03_183638...\n",
      "Saving csv poses!\n",
      "Starting to analyze %  F:\\videos\\Ar30motor\\2021_08_03_183638\\Mask19L.avi\n",
      "F:\\videos\\Ar30motor\\2021_08_03_183638  already exists!\n",
      "Loading  F:\\videos\\Ar30motor\\2021_08_03_183638\\Mask19L.avi\n",
      "Duration of video [s]:  9.97 , recorded with  40.0 fps!\n",
      "Overall # of frames:  399  found with (before cropping) frame dimensions:  350 420\n",
      "Starting to extract posture\n"
     ]
    },
    {
     "name": "stderr",
     "output_type": "stream",
     "text": [
      " 98%|█████████████████████████████████████████████████████████████████████████████▏ | 390/399 [00:03<00:00, 108.48it/s]"
     ]
    },
    {
     "name": "stdout",
     "output_type": "stream",
     "text": [
      "Detected frames:  399\n"
     ]
    },
    {
     "name": "stderr",
     "output_type": "stream",
     "text": [
      "400it [00:03, 104.29it/s]                                                                                              \n"
     ]
    },
    {
     "name": "stdout",
     "output_type": "stream",
     "text": [
      "Saving results in F:\\videos\\Ar30motor\\2021_08_03_183638...\n",
      "Saving csv poses!\n",
      "Starting to analyze %  F:\\videos\\Ar30motor\\2021_08_03_183638\\Mask1L.avi\n",
      "F:\\videos\\Ar30motor\\2021_08_03_183638  already exists!\n",
      "Loading  F:\\videos\\Ar30motor\\2021_08_03_183638\\Mask1L.avi\n",
      "Duration of video [s]:  9.97 , recorded with  40.0 fps!\n",
      "Overall # of frames:  399  found with (before cropping) frame dimensions:  350 420\n",
      "Starting to extract posture\n"
     ]
    },
    {
     "name": "stderr",
     "output_type": "stream",
     "text": [
      " 98%|█████████████████████████████████████████████████████████████████████████████▏ | 390/399 [00:03<00:00, 106.50it/s]"
     ]
    },
    {
     "name": "stdout",
     "output_type": "stream",
     "text": [
      "Detected frames:  399\n"
     ]
    },
    {
     "name": "stderr",
     "output_type": "stream",
     "text": [
      "400it [00:03, 103.21it/s]                                                                                              \n"
     ]
    },
    {
     "name": "stdout",
     "output_type": "stream",
     "text": [
      "Saving results in F:\\videos\\Ar30motor\\2021_08_03_183638...\n",
      "Saving csv poses!\n",
      "Starting to analyze %  F:\\videos\\Ar30motor\\2021_08_03_183638\\Mask20L.avi\n",
      "F:\\videos\\Ar30motor\\2021_08_03_183638  already exists!\n",
      "Loading  F:\\videos\\Ar30motor\\2021_08_03_183638\\Mask20L.avi\n",
      "Duration of video [s]:  9.97 , recorded with  40.0 fps!\n",
      "Overall # of frames:  399  found with (before cropping) frame dimensions:  350 420\n",
      "Starting to extract posture\n"
     ]
    },
    {
     "name": "stderr",
     "output_type": "stream",
     "text": [
      " 98%|█████████████████████████████████████████████████████████████████████████████▏ | 390/399 [00:03<00:00, 107.66it/s]"
     ]
    },
    {
     "name": "stdout",
     "output_type": "stream",
     "text": [
      "Detected frames:  399\n"
     ]
    },
    {
     "name": "stderr",
     "output_type": "stream",
     "text": [
      "400it [00:03, 103.47it/s]                                                                                              \n"
     ]
    },
    {
     "name": "stdout",
     "output_type": "stream",
     "text": [
      "Saving results in F:\\videos\\Ar30motor\\2021_08_03_183638...\n",
      "Saving csv poses!\n",
      "Starting to analyze %  F:\\videos\\Ar30motor\\2021_08_03_183638\\Mask21L.avi\n",
      "F:\\videos\\Ar30motor\\2021_08_03_183638  already exists!\n",
      "Loading  F:\\videos\\Ar30motor\\2021_08_03_183638\\Mask21L.avi\n",
      "Duration of video [s]:  9.97 , recorded with  40.0 fps!\n",
      "Overall # of frames:  399  found with (before cropping) frame dimensions:  350 420\n",
      "Starting to extract posture\n"
     ]
    },
    {
     "name": "stderr",
     "output_type": "stream",
     "text": [
      " 98%|█████████████████████████████████████████████████████████████████████████████▏ | 390/399 [00:03<00:00, 107.16it/s]"
     ]
    },
    {
     "name": "stdout",
     "output_type": "stream",
     "text": [
      "Detected frames:  399\n"
     ]
    },
    {
     "name": "stderr",
     "output_type": "stream",
     "text": [
      "400it [00:03, 102.94it/s]                                                                                              \n"
     ]
    },
    {
     "name": "stdout",
     "output_type": "stream",
     "text": [
      "Saving results in F:\\videos\\Ar30motor\\2021_08_03_183638...\n",
      "Saving csv poses!\n",
      "Starting to analyze %  F:\\videos\\Ar30motor\\2021_08_03_183638\\Mask22L.avi\n",
      "F:\\videos\\Ar30motor\\2021_08_03_183638  already exists!\n",
      "Loading  F:\\videos\\Ar30motor\\2021_08_03_183638\\Mask22L.avi\n",
      "Duration of video [s]:  9.97 , recorded with  40.0 fps!\n",
      "Overall # of frames:  399  found with (before cropping) frame dimensions:  350 420\n",
      "Starting to extract posture\n"
     ]
    },
    {
     "name": "stderr",
     "output_type": "stream",
     "text": [
      " 98%|█████████████████████████████████████████████████████████████████████████████▏ | 390/399 [00:03<00:00, 106.75it/s]"
     ]
    },
    {
     "name": "stdout",
     "output_type": "stream",
     "text": [
      "Detected frames:  399\n"
     ]
    },
    {
     "name": "stderr",
     "output_type": "stream",
     "text": [
      "400it [00:03, 103.41it/s]                                                                                              \n"
     ]
    },
    {
     "name": "stdout",
     "output_type": "stream",
     "text": [
      "Saving results in F:\\videos\\Ar30motor\\2021_08_03_183638...\n",
      "Saving csv poses!\n",
      "Starting to analyze %  F:\\videos\\Ar30motor\\2021_08_03_183638\\Mask23L.avi\n",
      "F:\\videos\\Ar30motor\\2021_08_03_183638  already exists!\n",
      "Loading  F:\\videos\\Ar30motor\\2021_08_03_183638\\Mask23L.avi\n",
      "Duration of video [s]:  9.97 , recorded with  40.0 fps!\n",
      "Overall # of frames:  399  found with (before cropping) frame dimensions:  350 420\n",
      "Starting to extract posture\n"
     ]
    },
    {
     "name": "stderr",
     "output_type": "stream",
     "text": [
      " 98%|█████████████████████████████████████████████████████████████████████████████▏ | 390/399 [00:03<00:00, 107.41it/s]"
     ]
    },
    {
     "name": "stdout",
     "output_type": "stream",
     "text": [
      "Detected frames:  399\n"
     ]
    },
    {
     "name": "stderr",
     "output_type": "stream",
     "text": [
      "400it [00:03, 103.03it/s]                                                                                              \n"
     ]
    },
    {
     "name": "stdout",
     "output_type": "stream",
     "text": [
      "Saving results in F:\\videos\\Ar30motor\\2021_08_03_183638...\n",
      "Saving csv poses!\n",
      "Starting to analyze %  F:\\videos\\Ar30motor\\2021_08_03_183638\\Mask24L.avi\n",
      "F:\\videos\\Ar30motor\\2021_08_03_183638  already exists!\n",
      "Loading  F:\\videos\\Ar30motor\\2021_08_03_183638\\Mask24L.avi\n",
      "Duration of video [s]:  9.97 , recorded with  40.0 fps!\n",
      "Overall # of frames:  399  found with (before cropping) frame dimensions:  350 420\n",
      "Starting to extract posture\n"
     ]
    },
    {
     "name": "stderr",
     "output_type": "stream",
     "text": [
      " 98%|█████████████████████████████████████████████████████████████████████████████▏ | 390/399 [00:03<00:00, 106.48it/s]"
     ]
    },
    {
     "name": "stdout",
     "output_type": "stream",
     "text": [
      "Detected frames:  399\n"
     ]
    },
    {
     "name": "stderr",
     "output_type": "stream",
     "text": [
      "400it [00:03, 103.27it/s]                                                                                              \n"
     ]
    },
    {
     "name": "stdout",
     "output_type": "stream",
     "text": [
      "Saving results in F:\\videos\\Ar30motor\\2021_08_03_183638...\n",
      "Saving csv poses!\n",
      "Starting to analyze %  F:\\videos\\Ar30motor\\2021_08_03_183638\\Mask25L.avi\n",
      "F:\\videos\\Ar30motor\\2021_08_03_183638  already exists!\n",
      "Loading  F:\\videos\\Ar30motor\\2021_08_03_183638\\Mask25L.avi\n",
      "Duration of video [s]:  9.97 , recorded with  40.0 fps!\n",
      "Overall # of frames:  399  found with (before cropping) frame dimensions:  350 420\n",
      "Starting to extract posture\n"
     ]
    },
    {
     "name": "stderr",
     "output_type": "stream",
     "text": [
      "400it [00:05, 63.21it/s]                                                                                               "
     ]
    },
    {
     "name": "stdout",
     "output_type": "stream",
     "text": [
      "Detected frames:  399\n"
     ]
    },
    {
     "name": "stderr",
     "output_type": "stream",
     "text": [
      "400it [00:05, 70.02it/s]\n"
     ]
    },
    {
     "name": "stdout",
     "output_type": "stream",
     "text": [
      "Saving results in F:\\videos\\Ar30motor\\2021_08_03_183638...\n",
      "Saving csv poses!\n",
      "Starting to analyze %  F:\\videos\\Ar30motor\\2021_08_03_183638\\Mask26L.avi\n",
      "F:\\videos\\Ar30motor\\2021_08_03_183638  already exists!\n",
      "Loading  F:\\videos\\Ar30motor\\2021_08_03_183638\\Mask26L.avi\n",
      "Duration of video [s]:  9.97 , recorded with  40.0 fps!\n",
      "Overall # of frames:  399  found with (before cropping) frame dimensions:  350 420\n",
      "Starting to extract posture\n"
     ]
    },
    {
     "name": "stderr",
     "output_type": "stream",
     "text": [
      " 75%|████████████████████████████████████████████████████████████▏                   | 300/399 [00:05<00:01, 53.65it/s]"
     ]
    }
   ],
   "source": [
    "\n",
    "Mainfolder = 'C:\\\\videos\\\\ar344thday\\\\2021_07_26'\n",
    "import image_util\n",
    "path_config_file = 'D:\\\\videos\\\\ar30\\\\2020_11_04\\\\ar30_11_05_20whiskers-Arash-2020-11-08\\\\config.yaml'\n",
    "path_config_file = 'C:\\\\videos\\\\ar344thday\\\\2021_07_26\\\\ar34shiwker-Arash-2021-07-29\\\\config.yaml';\n",
    "path_config_file = 'F:\\\\videos\\\\ar32motor\\\\2021_08_02\\\\ar32shiwker-Arash-2021-09-01\\\\config.yaml';\n",
    "path_config_file = 'F:\\\\videos\\\\Ar30motor\\\\2021_08_03_184113\\\\ar30shiwker-Arash-2021-09-13\\\\config.yaml'\n",
    "#Mainfolder = 'F:\\\\videos\\\\ar32motor\\\\2021_08_02'\n",
    "#F:\\videos\\Ar30motor\\2021_08_03_183638\n",
    "Mainfolder =  'F:\\\\videos\\\\Ar30motor\\\\2021_08_03_183638'\n",
    "[XfilesL,XfilesR]=image_util.get_mask_mirror_names(Mainfolder) \n",
    "\n",
    "\n",
    "scorernameL=deeplabcut.analyze_videos(path_config_file,XfilesL,shuffle=1, save_as_csv=True)\n",
    "print(scorernameL)\n",
    "deeplabcut.filterpredictions(path_config_file,XfilesL,shuffle=1)\n",
    "scorernameR=deeplabcut.analyze_videos(path_config_file,XfilesR,shuffle=1, save_as_csv=True)\n",
    "print(scorernameR)\n",
    "deeplabcut.filterpredictions(path_config_file,XfilesR,shuffle=1)"
   ]
  },
  {
   "cell_type": "code",
   "execution_count": null,
   "metadata": {},
   "outputs": [],
   "source": []
  },
  {
   "cell_type": "code",
   "execution_count": null,
   "metadata": {},
   "outputs": [],
   "source": []
  },
  {
   "cell_type": "markdown",
   "metadata": {},
   "source": [
    "# make  movies and plot rajectories from the dlc data"
   ]
  },
  {
   "cell_type": "code",
   "execution_count": null,
   "metadata": {},
   "outputs": [],
   "source": [
    "#path_config_file = 'F:\\\\DLC\\\\Topview3435-Arash-2021-07-28\\\\config.yaml'\n",
    "#Mainfolder = 'F:\\\\videos\\\\ar32motor\\\\2021_08_02';\n",
    "\n",
    "import os\n",
    "text_files = [os.path.join(Mainfolder,f) for f in os.listdir(Mainfolder) if f.endswith('.avi') and not f.endswith('Tracked.avi') and not f.endswith('L.avi') and not f.endswith('R.avi') and not f.endswith('videopoints.avi') and not f.endswith('videopoints.avi')]\n",
    "videofile = os.path.join(Mainfolder,'119.avi')\n",
    "del text_files[0]\n",
    "text_files = [os.path.join(Mainfolder,f) for f in os.listdir(Mainfolder) if f.startswith('Mirror') and  f.endswith('.avi') and not f.endswith('Tracked.avi') and not f.endswith('videopoints.avi') and not f.endswith('videopoints.avi')]\n",
    "print(text_files)\n",
    "\n",
    "#deeplabcut.plot_trajectories(path_config_file,text_files,filtered = True)\n",
    "deeplabcut.create_labeled_video(path_config_file,text_files[1:10],save_frames=False)"
   ]
  },
  {
   "cell_type": "code",
   "execution_count": null,
   "metadata": {},
   "outputs": [],
   "source": [
    "print(text_files[0])\n",
    "type(text_files) "
   ]
  },
  {
   "cell_type": "markdown",
   "metadata": {},
   "source": [
    "# this part should take scorername L and R as an input to matlab \n",
    "import image_util"
   ]
  },
  {
   "cell_type": "code",
   "execution_count": null,
   "metadata": {},
   "outputs": [],
   "source": [
    "print(scorernameL)\n",
    "do matlab thing"
   ]
  },
  {
   "cell_type": "code",
   "execution_count": null,
   "metadata": {},
   "outputs": [],
   "source": [
    "Mainfolder = 'D:\\\\videos\\\\ar30\\\\2021_01_09\\\\'\n",
    "\n",
    "main.save_trial_n(Mainfolder)"
   ]
  },
  {
   "cell_type": "markdown",
   "metadata": {},
   "source": [
    "the last step is to check everything"
   ]
  }
 ],
 "metadata": {
  "kernelspec": {
   "display_name": "Python 3",
   "language": "python",
   "name": "python3"
  },
  "language_info": {
   "codemirror_mode": {
    "name": "ipython",
    "version": 3
   },
   "file_extension": ".py",
   "mimetype": "text/x-python",
   "name": "python",
   "nbconvert_exporter": "python",
   "pygments_lexer": "ipython3",
   "version": "3.6.9"
  }
 },
 "nbformat": 4,
 "nbformat_minor": 2
}
