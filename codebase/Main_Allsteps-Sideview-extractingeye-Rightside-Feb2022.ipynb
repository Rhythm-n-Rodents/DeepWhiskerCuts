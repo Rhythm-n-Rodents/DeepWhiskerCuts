{
 "cells": [
  {
   "cell_type": "markdown",
   "metadata": {},
   "source": [
    "## first step is to make movies and lighttime out of single images "
   ]
  },
  {
   "cell_type": "code",
   "execution_count": 5,
   "metadata": {},
   "outputs": [],
   "source": [
    "# enter the folder name \n",
    "Mainfolder = 'D:\\\\Sidevideos\\\\ar38motor\\\\2022_02_08'\n",
    "import main\n"
   ]
  },
  {
   "cell_type": "code",
   "execution_count": 6,
   "metadata": {
    "scrolled": true
   },
   "outputs": [
    {
     "name": "stdout",
     "output_type": "stream",
     "text": [
      "0\n",
      "1\n",
      "2\n",
      "3\n",
      "4\n",
      "5\n",
      "6\n",
      "7\n",
      "8\n",
      "9\n",
      "10\n",
      "11\n",
      "12\n",
      "13\n",
      "14\n",
      "15\n",
      "16\n",
      "17\n",
      "18\n",
      "19\n",
      "20\n",
      "21\n",
      "22\n",
      "23\n",
      "24\n",
      "25\n",
      "26\n",
      "27\n",
      "28\n",
      "29\n",
      "30\n",
      "31\n",
      "32\n",
      "33\n",
      "34\n",
      "35\n",
      "36\n",
      "37\n",
      "38\n",
      "39\n",
      "40\n",
      "41\n",
      "42\n",
      "43\n",
      "44\n",
      "45\n",
      "46\n",
      "47\n",
      "48\n",
      "49\n",
      "50\n",
      "51\n",
      "52\n",
      "53\n",
      "54\n",
      "55\n",
      "56\n",
      "57\n",
      "58\n",
      "59\n",
      "60\n",
      "61\n",
      "62\n",
      "63\n",
      "64\n",
      "65\n",
      "66\n",
      "67\n",
      "68\n",
      "69\n",
      "70\n",
      "71\n",
      "72\n",
      "73\n",
      "74\n",
      "75\n",
      "76\n",
      "77\n",
      "78\n",
      "79\n",
      "80\n",
      "81\n",
      "82\n",
      "83\n",
      "84\n",
      "85\n",
      "86\n",
      "87\n",
      "88\n",
      "89\n",
      "90\n",
      "91\n",
      "92\n",
      "93\n",
      "94\n",
      "95\n",
      "96\n",
      "97\n",
      "98\n",
      "99\n",
      "100\n",
      "101\n",
      "102\n",
      "103\n",
      "104\n",
      "105\n",
      "106\n",
      "107\n",
      "108\n",
      "109\n",
      "110\n",
      "111\n",
      "112\n",
      "113\n",
      "114\n",
      "115\n",
      "116\n",
      "117\n",
      "118\n",
      "119\n",
      "120\n",
      "121\n",
      "122\n",
      "123\n",
      "124\n",
      "125\n",
      "126\n",
      "127\n",
      "128\n",
      "129\n",
      "130\n",
      "131\n",
      "132\n",
      "133\n",
      "134\n",
      "135\n",
      "136\n",
      "137\n",
      "138\n",
      "139\n",
      "140\n",
      "141\n",
      "142\n",
      "143\n",
      "144\n",
      "145\n",
      "146\n",
      "147\n",
      "148\n",
      "149\n",
      "150\n",
      "151\n",
      "152\n",
      "153\n",
      "154\n",
      "155\n",
      "156\n",
      "157\n",
      "158\n",
      "159\n",
      "160\n",
      "161\n",
      "162\n",
      "163\n",
      "164\n",
      "165\n",
      "166\n",
      "167\n",
      "168\n",
      "169\n",
      "170\n",
      "171\n",
      "172\n",
      "173\n",
      "174\n",
      "175\n",
      "176\n",
      "177\n",
      "178\n",
      "179\n",
      "['0', '1', '10', '100', '101', '102', '103', '104', '105', '106', '107', '108', '109', '11', '110', '111', '112', '113', '114', '115', '116', '117', '118', '119', '12', '120', '121', '122', '123', '124', '125', '126', '127', '128', '129', '13', '130', '131', '132', '133', '134', '135', '136', '137', '138', '139', '14', '140', '141', '142', '143', '144', '145', '146', '147', '148', '149', '15', '150', '151', '152', '153', '154', '155', '156', '157', '158', '159', '16', '160', '161', '162', '163', '164', '165', '166', '167', '168', '169', '17', '170', '171', '172', '173', '174', '175', '176', '177', '178', '179', '18', '19', '2', '20', '21', '22', '23', '24', '25', '26', '27', '28', '29', '3', '30', '31', '32', '33', '34', '35', '36', '37', '38', '39', '4', '40', '41', '42', '43', '44', '45', '46', '47', '48', '49', '5', '50', '51', '52', '53', '54', '55', '56', '57', '58', '59', '6', '60', '61', '62', '63', '64', '65', '66', '67', '68', '69', '7', '70', '71', '72', '73', '74', '75', '76', '77', '78', '79', '8', '80', '81', '82', '83', '84', '85', '86', '87', '88', '89', '9', '90', '91', '92', '93', '94', '95', '96', '97', '98', '99']\n"
     ]
    }
   ],
   "source": [
    "#main.make_movie_only(Mainfolder)\n",
    "main.makemovieandLightfile(Mainfolder)\n",
    "main.save_trial_n(Mainfolder)"
   ]
  },
  {
   "cell_type": "code",
   "execution_count": 7,
   "metadata": {},
   "outputs": [
    {
     "name": "stderr",
     "output_type": "stream",
     "text": [
      "C:\\Users\\dklab\\anaconda3\\envs\\DEEPLABCUT\\lib\\site-packages\\statsmodels\\compat\\pandas.py:65: FutureWarning: pandas.Int64Index is deprecated and will be removed from pandas in a future version. Use pandas.Index with the appropriate dtype instead.\n",
      "  from pandas import Int64Index as NumericIndex\n"
     ]
    }
   ],
   "source": [
    "import deeplabcut\n",
    "## https://github.com/AlexEMG/DeepLabCut"
   ]
  },
  {
   "cell_type": "code",
   "execution_count": null,
   "metadata": {},
   "outputs": [
    {
     "name": "stdout",
     "output_type": "stream",
     "text": [
      "D:\\Sidevideos\\AR34MOTOR\\2022_02_04\\1.avi\n",
      "Using snapshot-109000 for model C:\\Users\\dklab\\Dropbox\\Notebook\\DLC\\Sideview_Aug-Arash-2021-08-04\\dlc-models\\iteration-0\\Sideview_AugAug4-trainset95shuffle1\n"
     ]
    },
    {
     "name": "stderr",
     "output_type": "stream",
     "text": [
      "C:\\Users\\dklab\\anaconda3\\envs\\DEEPLABCUT\\lib\\site-packages\\tensorflow\\python\\keras\\engine\\base_layer_v1.py:1694: UserWarning: `layer.apply` is deprecated and will be removed in a future version. Please use `layer.__call__` method instead.\n",
      "  warnings.warn('`layer.apply` is deprecated and '\n"
     ]
    },
    {
     "name": "stdout",
     "output_type": "stream",
     "text": [
      "Starting to analyze %  D:\\Sidevideos\\AR34MOTOR\\2022_02_04\\0.avi\n",
      "Loading  D:\\Sidevideos\\AR34MOTOR\\2022_02_04\\0.avi\n",
      "Duration of video [s]:  12.5 , recorded with  40.0 fps!\n",
      "Overall # of frames:  500  found with (before cropping) frame dimensions:  800 480\n",
      "Starting to extract posture\n"
     ]
    },
    {
     "name": "stderr",
     "output_type": "stream",
     "text": [
      "\r",
      "  0%|                                                                                          | 0/500 [00:00<?, ?it/s]"
     ]
    }
   ],
   "source": [
    "\n",
    "path_config_file ='C:\\\\Users\\\\dklab\\\\Dropbox\\\\Notebook\\\\DLC\\\\Sideview_Aug-Arash-2021-08-04\\\\config.yaml';\n",
    "import os\n",
    "text_files = [os.path.join(Mainfolder,f) for f in os.listdir(Mainfolder) if f.endswith('.avi') and not f.endswith('L.avi') and not f.endswith('R.avi') and not f.endswith('videopoints.avi') and not f.endswith('videopoints.avi')]\n",
    "print(text_files[1])\n",
    "temp1=deeplabcut.analyze_videos(path_config_file,text_files,shuffle=1, save_as_csv=True )\n",
    "temp=deeplabcut.filterpredictions(path_config_file,text_files)"
   ]
  },
  {
   "cell_type": "code",
   "execution_count": null,
   "metadata": {},
   "outputs": [],
   "source": [
    "import extract_eye_imagesion\n",
    "extract_eye_imagesion.extract_eye_videos(Mainfolder)"
   ]
  },
  {
   "cell_type": "markdown",
   "metadata": {},
   "source": [
    "## this step is to load analze eye data"
   ]
  },
  {
   "cell_type": "code",
   "execution_count": 2,
   "metadata": {},
   "outputs": [
    {
     "name": "stderr",
     "output_type": "stream",
     "text": [
      "C:\\Users\\dklab\\anaconda3\\envs\\DEEPLABCUT\\lib\\site-packages\\statsmodels\\compat\\pandas.py:65: FutureWarning: pandas.Int64Index is deprecated and will be removed from pandas in a future version. Use pandas.Index with the appropriate dtype instead.\n",
      "  from pandas import Int64Index as NumericIndex\n"
     ]
    }
   ],
   "source": [
    "import deeplabcut\n",
    "## https://github.com/AlexEMG/DeepLabCut"
   ]
  },
  {
   "cell_type": "code",
   "execution_count": 3,
   "metadata": {},
   "outputs": [
    {
     "name": "stdout",
     "output_type": "stream",
     "text": [
      "D:\\Sidevideos\\AR34MOTOR\\2022_02_04\\100EYE.avi\n",
      "Using snapshot-300000 for model D:\\Sidevideos\\DLC\\Eyedata6-Arash-2022-02-06\\dlc-models\\iteration-0\\Eyedata6Feb6-trainset95shuffle1\n"
     ]
    },
    {
     "name": "stderr",
     "output_type": "stream",
     "text": [
      "C:\\Users\\dklab\\anaconda3\\envs\\DEEPLABCUT\\lib\\site-packages\\tensorflow\\python\\keras\\engine\\base_layer_v1.py:1694: UserWarning: `layer.apply` is deprecated and will be removed in a future version. Please use `layer.__call__` method instead.\n",
      "  warnings.warn('`layer.apply` is deprecated and '\n"
     ]
    },
    {
     "name": "stdout",
     "output_type": "stream",
     "text": [
      "Starting to analyze %  D:\\Sidevideos\\AR34MOTOR\\2022_02_04\\0EYE.avi\n",
      "Loading  D:\\Sidevideos\\AR34MOTOR\\2022_02_04\\0EYE.avi\n",
      "Duration of video [s]:  12.5 , recorded with  40.0 fps!\n",
      "Overall # of frames:  500  found with (before cropping) frame dimensions:  200 200\n",
      "Starting to extract posture\n"
     ]
    },
    {
     "name": "stderr",
     "output_type": "stream",
     "text": [
      "510it [00:08, 57.59it/s]                                                                                               \n"
     ]
    },
    {
     "name": "stdout",
     "output_type": "stream",
     "text": [
      "Saving results in D:\\Sidevideos\\AR34MOTOR\\2022_02_04...\n",
      "Saving csv poses!\n",
      "Starting to analyze %  D:\\Sidevideos\\AR34MOTOR\\2022_02_04\\100EYE.avi\n",
      "Loading  D:\\Sidevideos\\AR34MOTOR\\2022_02_04\\100EYE.avi\n",
      "Duration of video [s]:  12.5 , recorded with  40.0 fps!\n",
      "Overall # of frames:  500  found with (before cropping) frame dimensions:  200 200\n",
      "Starting to extract posture\n"
     ]
    },
    {
     "name": "stderr",
     "output_type": "stream",
     "text": [
      "510it [00:03, 140.16it/s]                                                                                              \n"
     ]
    },
    {
     "name": "stdout",
     "output_type": "stream",
     "text": [
      "Saving results in D:\\Sidevideos\\AR34MOTOR\\2022_02_04...\n",
      "Saving csv poses!\n",
      "Starting to analyze %  D:\\Sidevideos\\AR34MOTOR\\2022_02_04\\101EYE.avi\n",
      "Loading  D:\\Sidevideos\\AR34MOTOR\\2022_02_04\\101EYE.avi\n",
      "Duration of video [s]:  12.22 , recorded with  40.0 fps!\n",
      "Overall # of frames:  489  found with (before cropping) frame dimensions:  200 200\n",
      "Starting to extract posture\n"
     ]
    },
    {
     "name": "stderr",
     "output_type": "stream",
     "text": [
      "490it [00:03, 135.25it/s]                                                                                              \n"
     ]
    },
    {
     "name": "stdout",
     "output_type": "stream",
     "text": [
      "Saving results in D:\\Sidevideos\\AR34MOTOR\\2022_02_04...\n",
      "Saving csv poses!\n",
      "Starting to analyze %  D:\\Sidevideos\\AR34MOTOR\\2022_02_04\\102EYE.avi\n",
      "Loading  D:\\Sidevideos\\AR34MOTOR\\2022_02_04\\102EYE.avi\n",
      "Duration of video [s]:  12.5 , recorded with  40.0 fps!\n",
      "Overall # of frames:  500  found with (before cropping) frame dimensions:  200 200\n",
      "Starting to extract posture\n"
     ]
    },
    {
     "name": "stderr",
     "output_type": "stream",
     "text": [
      "510it [00:03, 139.05it/s]                                                                                              \n"
     ]
    },
    {
     "name": "stdout",
     "output_type": "stream",
     "text": [
      "Saving results in D:\\Sidevideos\\AR34MOTOR\\2022_02_04...\n",
      "Saving csv poses!\n",
      "Starting to analyze %  D:\\Sidevideos\\AR34MOTOR\\2022_02_04\\103EYE.avi\n",
      "Loading  D:\\Sidevideos\\AR34MOTOR\\2022_02_04\\103EYE.avi\n",
      "Duration of video [s]:  12.5 , recorded with  40.0 fps!\n",
      "Overall # of frames:  500  found with (before cropping) frame dimensions:  200 200\n",
      "Starting to extract posture\n"
     ]
    },
    {
     "name": "stderr",
     "output_type": "stream",
     "text": [
      "510it [00:03, 139.08it/s]                                                                                              \n"
     ]
    },
    {
     "name": "stdout",
     "output_type": "stream",
     "text": [
      "Saving results in D:\\Sidevideos\\AR34MOTOR\\2022_02_04...\n",
      "Saving csv poses!\n",
      "Starting to analyze %  D:\\Sidevideos\\AR34MOTOR\\2022_02_04\\104EYE.avi\n",
      "Loading  D:\\Sidevideos\\AR34MOTOR\\2022_02_04\\104EYE.avi\n",
      "Duration of video [s]:  11.45 , recorded with  40.0 fps!\n",
      "Overall # of frames:  458  found with (before cropping) frame dimensions:  200 200\n",
      "Starting to extract posture\n"
     ]
    },
    {
     "name": "stderr",
     "output_type": "stream",
     "text": [
      "460it [00:03, 136.61it/s]                                                                                              \n"
     ]
    },
    {
     "name": "stdout",
     "output_type": "stream",
     "text": [
      "Saving results in D:\\Sidevideos\\AR34MOTOR\\2022_02_04...\n",
      "Saving csv poses!\n",
      "Starting to analyze %  D:\\Sidevideos\\AR34MOTOR\\2022_02_04\\105EYE.avi\n",
      "Loading  D:\\Sidevideos\\AR34MOTOR\\2022_02_04\\105EYE.avi\n",
      "Duration of video [s]:  12.5 , recorded with  40.0 fps!\n",
      "Overall # of frames:  500  found with (before cropping) frame dimensions:  200 200\n",
      "Starting to extract posture\n"
     ]
    },
    {
     "name": "stderr",
     "output_type": "stream",
     "text": [
      "510it [00:03, 140.62it/s]                                                                                              \n"
     ]
    },
    {
     "name": "stdout",
     "output_type": "stream",
     "text": [
      "Saving results in D:\\Sidevideos\\AR34MOTOR\\2022_02_04...\n",
      "Saving csv poses!\n",
      "Starting to analyze %  D:\\Sidevideos\\AR34MOTOR\\2022_02_04\\106EYE.avi\n",
      "Loading  D:\\Sidevideos\\AR34MOTOR\\2022_02_04\\106EYE.avi\n",
      "Duration of video [s]:  12.5 , recorded with  40.0 fps!\n",
      "Overall # of frames:  500  found with (before cropping) frame dimensions:  200 200\n",
      "Starting to extract posture\n"
     ]
    },
    {
     "name": "stderr",
     "output_type": "stream",
     "text": [
      "510it [00:03, 140.99it/s]                                                                                              \n"
     ]
    },
    {
     "name": "stdout",
     "output_type": "stream",
     "text": [
      "Saving results in D:\\Sidevideos\\AR34MOTOR\\2022_02_04...\n",
      "Saving csv poses!\n",
      "Starting to analyze %  D:\\Sidevideos\\AR34MOTOR\\2022_02_04\\107EYE.avi\n",
      "Loading  D:\\Sidevideos\\AR34MOTOR\\2022_02_04\\107EYE.avi\n",
      "Duration of video [s]:  12.5 , recorded with  40.0 fps!\n",
      "Overall # of frames:  500  found with (before cropping) frame dimensions:  200 200\n",
      "Starting to extract posture\n"
     ]
    },
    {
     "name": "stderr",
     "output_type": "stream",
     "text": [
      "510it [00:03, 140.99it/s]                                                                                              \n"
     ]
    },
    {
     "name": "stdout",
     "output_type": "stream",
     "text": [
      "Saving results in D:\\Sidevideos\\AR34MOTOR\\2022_02_04...\n",
      "Saving csv poses!\n",
      "Starting to analyze %  D:\\Sidevideos\\AR34MOTOR\\2022_02_04\\108EYE.avi\n",
      "Loading  D:\\Sidevideos\\AR34MOTOR\\2022_02_04\\108EYE.avi\n",
      "Duration of video [s]:  12.5 , recorded with  40.0 fps!\n",
      "Overall # of frames:  500  found with (before cropping) frame dimensions:  200 200\n",
      "Starting to extract posture\n"
     ]
    },
    {
     "name": "stderr",
     "output_type": "stream",
     "text": [
      "510it [00:03, 140.04it/s]                                                                                              \n"
     ]
    },
    {
     "name": "stdout",
     "output_type": "stream",
     "text": [
      "Saving results in D:\\Sidevideos\\AR34MOTOR\\2022_02_04...\n",
      "Saving csv poses!\n",
      "Starting to analyze %  D:\\Sidevideos\\AR34MOTOR\\2022_02_04\\109EYE.avi\n",
      "Loading  D:\\Sidevideos\\AR34MOTOR\\2022_02_04\\109EYE.avi\n",
      "Duration of video [s]:  12.5 , recorded with  40.0 fps!\n",
      "Overall # of frames:  500  found with (before cropping) frame dimensions:  200 200\n",
      "Starting to extract posture\n"
     ]
    },
    {
     "name": "stderr",
     "output_type": "stream",
     "text": [
      "510it [00:03, 139.73it/s]                                                                                              \n"
     ]
    },
    {
     "name": "stdout",
     "output_type": "stream",
     "text": [
      "Saving results in D:\\Sidevideos\\AR34MOTOR\\2022_02_04...\n",
      "Saving csv poses!\n",
      "Starting to analyze %  D:\\Sidevideos\\AR34MOTOR\\2022_02_04\\10EYE.avi\n",
      "Loading  D:\\Sidevideos\\AR34MOTOR\\2022_02_04\\10EYE.avi\n",
      "Duration of video [s]:  12.5 , recorded with  40.0 fps!\n",
      "Overall # of frames:  500  found with (before cropping) frame dimensions:  200 200\n",
      "Starting to extract posture\n"
     ]
    },
    {
     "name": "stderr",
     "output_type": "stream",
     "text": [
      "510it [00:03, 139.64it/s]                                                                                              \n"
     ]
    },
    {
     "name": "stdout",
     "output_type": "stream",
     "text": [
      "Saving results in D:\\Sidevideos\\AR34MOTOR\\2022_02_04...\n",
      "Saving csv poses!\n",
      "Starting to analyze %  D:\\Sidevideos\\AR34MOTOR\\2022_02_04\\110EYE.avi\n",
      "Loading  D:\\Sidevideos\\AR34MOTOR\\2022_02_04\\110EYE.avi\n",
      "Duration of video [s]:  12.5 , recorded with  40.0 fps!\n",
      "Overall # of frames:  500  found with (before cropping) frame dimensions:  200 200\n",
      "Starting to extract posture\n"
     ]
    },
    {
     "name": "stderr",
     "output_type": "stream",
     "text": [
      "510it [00:03, 140.68it/s]                                                                                              \n"
     ]
    },
    {
     "name": "stdout",
     "output_type": "stream",
     "text": [
      "Saving results in D:\\Sidevideos\\AR34MOTOR\\2022_02_04...\n",
      "Saving csv poses!\n",
      "Starting to analyze %  D:\\Sidevideos\\AR34MOTOR\\2022_02_04\\111EYE.avi\n",
      "Loading  D:\\Sidevideos\\AR34MOTOR\\2022_02_04\\111EYE.avi\n",
      "Duration of video [s]:  12.5 , recorded with  40.0 fps!\n",
      "Overall # of frames:  500  found with (before cropping) frame dimensions:  200 200\n",
      "Starting to extract posture\n"
     ]
    },
    {
     "name": "stderr",
     "output_type": "stream",
     "text": [
      "510it [00:03, 139.90it/s]                                                                                              \n"
     ]
    },
    {
     "name": "stdout",
     "output_type": "stream",
     "text": [
      "Saving results in D:\\Sidevideos\\AR34MOTOR\\2022_02_04...\n",
      "Saving csv poses!\n",
      "Starting to analyze %  D:\\Sidevideos\\AR34MOTOR\\2022_02_04\\112EYE.avi\n",
      "Loading  D:\\Sidevideos\\AR34MOTOR\\2022_02_04\\112EYE.avi\n",
      "Duration of video [s]:  12.5 , recorded with  40.0 fps!\n",
      "Overall # of frames:  500  found with (before cropping) frame dimensions:  200 200\n",
      "Starting to extract posture\n"
     ]
    },
    {
     "name": "stderr",
     "output_type": "stream",
     "text": [
      "510it [00:03, 142.13it/s]                                                                                              \n"
     ]
    },
    {
     "name": "stdout",
     "output_type": "stream",
     "text": [
      "Saving results in D:\\Sidevideos\\AR34MOTOR\\2022_02_04...\n",
      "Saving csv poses!\n",
      "Starting to analyze %  D:\\Sidevideos\\AR34MOTOR\\2022_02_04\\113EYE.avi\n",
      "Loading  D:\\Sidevideos\\AR34MOTOR\\2022_02_04\\113EYE.avi\n",
      "Duration of video [s]:  12.5 , recorded with  40.0 fps!\n",
      "Overall # of frames:  500  found with (before cropping) frame dimensions:  200 200\n",
      "Starting to extract posture\n"
     ]
    },
    {
     "name": "stderr",
     "output_type": "stream",
     "text": [
      "510it [00:03, 136.48it/s]                                                                                              \n"
     ]
    },
    {
     "name": "stdout",
     "output_type": "stream",
     "text": [
      "Saving results in D:\\Sidevideos\\AR34MOTOR\\2022_02_04...\n",
      "Saving csv poses!\n",
      "Starting to analyze %  D:\\Sidevideos\\AR34MOTOR\\2022_02_04\\114EYE.avi\n",
      "Loading  D:\\Sidevideos\\AR34MOTOR\\2022_02_04\\114EYE.avi\n",
      "Duration of video [s]:  12.5 , recorded with  40.0 fps!\n",
      "Overall # of frames:  500  found with (before cropping) frame dimensions:  200 200\n",
      "Starting to extract posture\n"
     ]
    },
    {
     "name": "stderr",
     "output_type": "stream",
     "text": [
      "510it [00:03, 137.82it/s]                                                                                              \n"
     ]
    },
    {
     "name": "stdout",
     "output_type": "stream",
     "text": [
      "Saving results in D:\\Sidevideos\\AR34MOTOR\\2022_02_04...\n",
      "Saving csv poses!\n",
      "Starting to analyze %  D:\\Sidevideos\\AR34MOTOR\\2022_02_04\\115EYE.avi\n",
      "Loading  D:\\Sidevideos\\AR34MOTOR\\2022_02_04\\115EYE.avi\n",
      "Duration of video [s]:  12.5 , recorded with  40.0 fps!\n",
      "Overall # of frames:  500  found with (before cropping) frame dimensions:  200 200\n",
      "Starting to extract posture\n"
     ]
    },
    {
     "name": "stderr",
     "output_type": "stream",
     "text": [
      "510it [00:03, 132.85it/s]                                                                                              \n"
     ]
    },
    {
     "name": "stdout",
     "output_type": "stream",
     "text": [
      "Saving results in D:\\Sidevideos\\AR34MOTOR\\2022_02_04...\n",
      "Saving csv poses!\n",
      "Starting to analyze %  D:\\Sidevideos\\AR34MOTOR\\2022_02_04\\116EYE.avi\n",
      "Loading  D:\\Sidevideos\\AR34MOTOR\\2022_02_04\\116EYE.avi\n",
      "Duration of video [s]:  12.5 , recorded with  40.0 fps!\n",
      "Overall # of frames:  500  found with (before cropping) frame dimensions:  200 200\n",
      "Starting to extract posture\n"
     ]
    },
    {
     "name": "stderr",
     "output_type": "stream",
     "text": [
      "510it [00:03, 139.21it/s]                                                                                              \n"
     ]
    },
    {
     "name": "stdout",
     "output_type": "stream",
     "text": [
      "Saving results in D:\\Sidevideos\\AR34MOTOR\\2022_02_04...\n",
      "Saving csv poses!\n",
      "Starting to analyze %  D:\\Sidevideos\\AR34MOTOR\\2022_02_04\\117EYE.avi\n",
      "Loading  D:\\Sidevideos\\AR34MOTOR\\2022_02_04\\117EYE.avi\n",
      "Duration of video [s]:  12.5 , recorded with  40.0 fps!\n",
      "Overall # of frames:  500  found with (before cropping) frame dimensions:  200 200\n",
      "Starting to extract posture\n"
     ]
    },
    {
     "name": "stderr",
     "output_type": "stream",
     "text": [
      "510it [00:03, 141.34it/s]                                                                                              \n"
     ]
    },
    {
     "name": "stdout",
     "output_type": "stream",
     "text": [
      "Saving results in D:\\Sidevideos\\AR34MOTOR\\2022_02_04...\n",
      "Saving csv poses!\n",
      "Starting to analyze %  D:\\Sidevideos\\AR34MOTOR\\2022_02_04\\118EYE.avi\n",
      "Loading  D:\\Sidevideos\\AR34MOTOR\\2022_02_04\\118EYE.avi\n",
      "Duration of video [s]:  12.5 , recorded with  40.0 fps!\n",
      "Overall # of frames:  500  found with (before cropping) frame dimensions:  200 200\n",
      "Starting to extract posture\n"
     ]
    },
    {
     "name": "stderr",
     "output_type": "stream",
     "text": [
      "510it [00:03, 140.51it/s]                                                                                              \n"
     ]
    },
    {
     "name": "stdout",
     "output_type": "stream",
     "text": [
      "Saving results in D:\\Sidevideos\\AR34MOTOR\\2022_02_04...\n",
      "Saving csv poses!\n",
      "Starting to analyze %  D:\\Sidevideos\\AR34MOTOR\\2022_02_04\\119EYE.avi\n",
      "Loading  D:\\Sidevideos\\AR34MOTOR\\2022_02_04\\119EYE.avi\n",
      "Duration of video [s]:  12.5 , recorded with  40.0 fps!\n",
      "Overall # of frames:  500  found with (before cropping) frame dimensions:  200 200\n",
      "Starting to extract posture\n"
     ]
    },
    {
     "name": "stderr",
     "output_type": "stream",
     "text": [
      "510it [00:03, 138.30it/s]                                                                                              \n"
     ]
    },
    {
     "name": "stdout",
     "output_type": "stream",
     "text": [
      "Saving results in D:\\Sidevideos\\AR34MOTOR\\2022_02_04...\n",
      "Saving csv poses!\n",
      "Starting to analyze %  D:\\Sidevideos\\AR34MOTOR\\2022_02_04\\11EYE.avi\n",
      "Loading  D:\\Sidevideos\\AR34MOTOR\\2022_02_04\\11EYE.avi\n",
      "Duration of video [s]:  12.5 , recorded with  40.0 fps!\n",
      "Overall # of frames:  500  found with (before cropping) frame dimensions:  200 200\n",
      "Starting to extract posture\n"
     ]
    },
    {
     "name": "stderr",
     "output_type": "stream",
     "text": [
      "510it [00:03, 141.83it/s]                                                                                              \n"
     ]
    },
    {
     "name": "stdout",
     "output_type": "stream",
     "text": [
      "Saving results in D:\\Sidevideos\\AR34MOTOR\\2022_02_04...\n",
      "Saving csv poses!\n",
      "Starting to analyze %  D:\\Sidevideos\\AR34MOTOR\\2022_02_04\\120EYE.avi\n",
      "Loading  D:\\Sidevideos\\AR34MOTOR\\2022_02_04\\120EYE.avi\n",
      "Duration of video [s]:  12.5 , recorded with  40.0 fps!\n",
      "Overall # of frames:  500  found with (before cropping) frame dimensions:  200 200\n",
      "Starting to extract posture\n"
     ]
    },
    {
     "name": "stderr",
     "output_type": "stream",
     "text": [
      "510it [00:03, 140.74it/s]                                                                                              \n"
     ]
    },
    {
     "name": "stdout",
     "output_type": "stream",
     "text": [
      "Saving results in D:\\Sidevideos\\AR34MOTOR\\2022_02_04...\n",
      "Saving csv poses!\n",
      "Starting to analyze %  D:\\Sidevideos\\AR34MOTOR\\2022_02_04\\121EYE.avi\n",
      "Loading  D:\\Sidevideos\\AR34MOTOR\\2022_02_04\\121EYE.avi\n",
      "Duration of video [s]:  12.5 , recorded with  40.0 fps!\n",
      "Overall # of frames:  500  found with (before cropping) frame dimensions:  200 200\n",
      "Starting to extract posture\n"
     ]
    },
    {
     "name": "stderr",
     "output_type": "stream",
     "text": [
      "510it [00:03, 139.61it/s]                                                                                              \n"
     ]
    },
    {
     "name": "stdout",
     "output_type": "stream",
     "text": [
      "Saving results in D:\\Sidevideos\\AR34MOTOR\\2022_02_04...\n",
      "Saving csv poses!\n",
      "Starting to analyze %  D:\\Sidevideos\\AR34MOTOR\\2022_02_04\\122EYE.avi\n",
      "Loading  D:\\Sidevideos\\AR34MOTOR\\2022_02_04\\122EYE.avi\n",
      "Duration of video [s]:  12.5 , recorded with  40.0 fps!\n",
      "Overall # of frames:  500  found with (before cropping) frame dimensions:  200 200\n",
      "Starting to extract posture\n"
     ]
    },
    {
     "name": "stderr",
     "output_type": "stream",
     "text": [
      "510it [00:03, 139.67it/s]                                                                                              \n"
     ]
    },
    {
     "name": "stdout",
     "output_type": "stream",
     "text": [
      "Saving results in D:\\Sidevideos\\AR34MOTOR\\2022_02_04...\n",
      "Saving csv poses!\n",
      "Starting to analyze %  D:\\Sidevideos\\AR34MOTOR\\2022_02_04\\123EYE.avi\n",
      "Loading  D:\\Sidevideos\\AR34MOTOR\\2022_02_04\\123EYE.avi\n",
      "Duration of video [s]:  12.5 , recorded with  40.0 fps!\n",
      "Overall # of frames:  500  found with (before cropping) frame dimensions:  200 200\n",
      "Starting to extract posture\n"
     ]
    },
    {
     "name": "stderr",
     "output_type": "stream",
     "text": [
      "510it [00:03, 137.12it/s]                                                                                              \n"
     ]
    },
    {
     "name": "stdout",
     "output_type": "stream",
     "text": [
      "Saving results in D:\\Sidevideos\\AR34MOTOR\\2022_02_04...\n",
      "Saving csv poses!\n",
      "Starting to analyze %  D:\\Sidevideos\\AR34MOTOR\\2022_02_04\\124EYE.avi\n",
      "Loading  D:\\Sidevideos\\AR34MOTOR\\2022_02_04\\124EYE.avi\n",
      "Duration of video [s]:  12.5 , recorded with  40.0 fps!\n",
      "Overall # of frames:  500  found with (before cropping) frame dimensions:  200 200\n",
      "Starting to extract posture\n"
     ]
    },
    {
     "name": "stderr",
     "output_type": "stream",
     "text": [
      "510it [00:03, 139.97it/s]                                                                                              \n"
     ]
    },
    {
     "name": "stdout",
     "output_type": "stream",
     "text": [
      "Saving results in D:\\Sidevideos\\AR34MOTOR\\2022_02_04...\n",
      "Saving csv poses!\n",
      "Starting to analyze %  D:\\Sidevideos\\AR34MOTOR\\2022_02_04\\125EYE.avi\n",
      "Loading  D:\\Sidevideos\\AR34MOTOR\\2022_02_04\\125EYE.avi\n",
      "Duration of video [s]:  12.5 , recorded with  40.0 fps!\n",
      "Overall # of frames:  500  found with (before cropping) frame dimensions:  200 200\n",
      "Starting to extract posture\n"
     ]
    },
    {
     "name": "stderr",
     "output_type": "stream",
     "text": [
      "510it [00:03, 138.69it/s]                                                                                              \n"
     ]
    },
    {
     "name": "stdout",
     "output_type": "stream",
     "text": [
      "Saving results in D:\\Sidevideos\\AR34MOTOR\\2022_02_04...\n",
      "Saving csv poses!\n",
      "Starting to analyze %  D:\\Sidevideos\\AR34MOTOR\\2022_02_04\\126EYE.avi\n",
      "Loading  D:\\Sidevideos\\AR34MOTOR\\2022_02_04\\126EYE.avi\n",
      "Duration of video [s]:  12.5 , recorded with  40.0 fps!\n",
      "Overall # of frames:  500  found with (before cropping) frame dimensions:  200 200\n",
      "Starting to extract posture\n"
     ]
    },
    {
     "name": "stderr",
     "output_type": "stream",
     "text": [
      "510it [00:03, 140.37it/s]                                                                                              \n"
     ]
    },
    {
     "name": "stdout",
     "output_type": "stream",
     "text": [
      "Saving results in D:\\Sidevideos\\AR34MOTOR\\2022_02_04...\n",
      "Saving csv poses!\n",
      "Starting to analyze %  D:\\Sidevideos\\AR34MOTOR\\2022_02_04\\127EYE.avi\n",
      "Loading  D:\\Sidevideos\\AR34MOTOR\\2022_02_04\\127EYE.avi\n",
      "Duration of video [s]:  12.5 , recorded with  40.0 fps!\n",
      "Overall # of frames:  500  found with (before cropping) frame dimensions:  200 200\n",
      "Starting to extract posture\n"
     ]
    },
    {
     "name": "stderr",
     "output_type": "stream",
     "text": [
      "510it [00:03, 140.33it/s]                                                                                              \n"
     ]
    },
    {
     "name": "stdout",
     "output_type": "stream",
     "text": [
      "Saving results in D:\\Sidevideos\\AR34MOTOR\\2022_02_04...\n",
      "Saving csv poses!\n",
      "Starting to analyze %  D:\\Sidevideos\\AR34MOTOR\\2022_02_04\\128EYE.avi\n",
      "Loading  D:\\Sidevideos\\AR34MOTOR\\2022_02_04\\128EYE.avi\n",
      "Duration of video [s]:  12.5 , recorded with  40.0 fps!\n",
      "Overall # of frames:  500  found with (before cropping) frame dimensions:  200 200\n",
      "Starting to extract posture\n"
     ]
    },
    {
     "name": "stderr",
     "output_type": "stream",
     "text": [
      "510it [00:03, 138.60it/s]                                                                                              \n"
     ]
    },
    {
     "name": "stdout",
     "output_type": "stream",
     "text": [
      "Saving results in D:\\Sidevideos\\AR34MOTOR\\2022_02_04...\n",
      "Saving csv poses!\n",
      "Starting to analyze %  D:\\Sidevideos\\AR34MOTOR\\2022_02_04\\129EYE.avi\n",
      "Loading  D:\\Sidevideos\\AR34MOTOR\\2022_02_04\\129EYE.avi\n",
      "Duration of video [s]:  11.28 , recorded with  40.0 fps!\n",
      "Overall # of frames:  451  found with (before cropping) frame dimensions:  200 200\n",
      "Starting to extract posture\n"
     ]
    },
    {
     "name": "stderr",
     "output_type": "stream",
     "text": [
      "460it [00:03, 139.84it/s]                                                                                              \n"
     ]
    },
    {
     "name": "stdout",
     "output_type": "stream",
     "text": [
      "Saving results in D:\\Sidevideos\\AR34MOTOR\\2022_02_04...\n",
      "Saving csv poses!\n",
      "Starting to analyze %  D:\\Sidevideos\\AR34MOTOR\\2022_02_04\\12EYE.avi\n",
      "Loading  D:\\Sidevideos\\AR34MOTOR\\2022_02_04\\12EYE.avi\n",
      "Duration of video [s]:  12.5 , recorded with  40.0 fps!\n",
      "Overall # of frames:  500  found with (before cropping) frame dimensions:  200 200\n",
      "Starting to extract posture\n"
     ]
    },
    {
     "name": "stderr",
     "output_type": "stream",
     "text": [
      "510it [00:03, 141.06it/s]                                                                                              \n"
     ]
    },
    {
     "name": "stdout",
     "output_type": "stream",
     "text": [
      "Saving results in D:\\Sidevideos\\AR34MOTOR\\2022_02_04...\n",
      "Saving csv poses!\n",
      "Starting to analyze %  D:\\Sidevideos\\AR34MOTOR\\2022_02_04\\130EYE.avi\n",
      "Loading  D:\\Sidevideos\\AR34MOTOR\\2022_02_04\\130EYE.avi\n",
      "Duration of video [s]:  12.22 , recorded with  40.0 fps!\n",
      "Overall # of frames:  489  found with (before cropping) frame dimensions:  200 200\n",
      "Starting to extract posture\n"
     ]
    },
    {
     "name": "stderr",
     "output_type": "stream",
     "text": [
      "490it [00:03, 134.09it/s]                                                                                              \n"
     ]
    },
    {
     "name": "stdout",
     "output_type": "stream",
     "text": [
      "Saving results in D:\\Sidevideos\\AR34MOTOR\\2022_02_04...\n",
      "Saving csv poses!\n",
      "Starting to analyze %  D:\\Sidevideos\\AR34MOTOR\\2022_02_04\\131EYE.avi\n",
      "Loading  D:\\Sidevideos\\AR34MOTOR\\2022_02_04\\131EYE.avi\n",
      "Duration of video [s]:  12.5 , recorded with  40.0 fps!\n",
      "Overall # of frames:  500  found with (before cropping) frame dimensions:  200 200\n",
      "Starting to extract posture\n"
     ]
    },
    {
     "name": "stderr",
     "output_type": "stream",
     "text": [
      "510it [00:03, 138.17it/s]                                                                                              \n"
     ]
    },
    {
     "name": "stdout",
     "output_type": "stream",
     "text": [
      "Saving results in D:\\Sidevideos\\AR34MOTOR\\2022_02_04...\n",
      "Saving csv poses!\n",
      "Starting to analyze %  D:\\Sidevideos\\AR34MOTOR\\2022_02_04\\132EYE.avi\n",
      "Loading  D:\\Sidevideos\\AR34MOTOR\\2022_02_04\\132EYE.avi\n",
      "Duration of video [s]:  12.5 , recorded with  40.0 fps!\n",
      "Overall # of frames:  500  found with (before cropping) frame dimensions:  200 200\n",
      "Starting to extract posture\n"
     ]
    },
    {
     "name": "stderr",
     "output_type": "stream",
     "text": [
      "510it [00:03, 141.22it/s]                                                                                              \n"
     ]
    },
    {
     "name": "stdout",
     "output_type": "stream",
     "text": [
      "Saving results in D:\\Sidevideos\\AR34MOTOR\\2022_02_04...\n",
      "Saving csv poses!\n",
      "Starting to analyze %  D:\\Sidevideos\\AR34MOTOR\\2022_02_04\\133EYE.avi\n",
      "Loading  D:\\Sidevideos\\AR34MOTOR\\2022_02_04\\133EYE.avi\n",
      "Duration of video [s]:  12.5 , recorded with  40.0 fps!\n",
      "Overall # of frames:  500  found with (before cropping) frame dimensions:  200 200\n",
      "Starting to extract posture\n"
     ]
    },
    {
     "name": "stderr",
     "output_type": "stream",
     "text": [
      "510it [00:03, 138.52it/s]                                                                                              \n"
     ]
    },
    {
     "name": "stdout",
     "output_type": "stream",
     "text": [
      "Saving results in D:\\Sidevideos\\AR34MOTOR\\2022_02_04...\n",
      "Saving csv poses!\n",
      "Starting to analyze %  D:\\Sidevideos\\AR34MOTOR\\2022_02_04\\134EYE.avi\n",
      "Loading  D:\\Sidevideos\\AR34MOTOR\\2022_02_04\\134EYE.avi\n",
      "Duration of video [s]:  12.2 , recorded with  40.0 fps!\n",
      "Overall # of frames:  488  found with (before cropping) frame dimensions:  200 200\n",
      "Starting to extract posture\n"
     ]
    },
    {
     "name": "stderr",
     "output_type": "stream",
     "text": [
      "490it [00:03, 138.33it/s]                                                                                              \n"
     ]
    },
    {
     "name": "stdout",
     "output_type": "stream",
     "text": [
      "Saving results in D:\\Sidevideos\\AR34MOTOR\\2022_02_04...\n",
      "Saving csv poses!\n",
      "Starting to analyze %  D:\\Sidevideos\\AR34MOTOR\\2022_02_04\\135EYE.avi\n",
      "Loading  D:\\Sidevideos\\AR34MOTOR\\2022_02_04\\135EYE.avi\n",
      "Duration of video [s]:  12.32 , recorded with  40.0 fps!\n",
      "Overall # of frames:  493  found with (before cropping) frame dimensions:  200 200\n",
      "Starting to extract posture\n"
     ]
    },
    {
     "name": "stderr",
     "output_type": "stream",
     "text": [
      "500it [00:03, 139.38it/s]                                                                                              \n"
     ]
    },
    {
     "name": "stdout",
     "output_type": "stream",
     "text": [
      "Saving results in D:\\Sidevideos\\AR34MOTOR\\2022_02_04...\n",
      "Saving csv poses!\n",
      "Starting to analyze %  D:\\Sidevideos\\AR34MOTOR\\2022_02_04\\136EYE.avi\n",
      "Loading  D:\\Sidevideos\\AR34MOTOR\\2022_02_04\\136EYE.avi\n",
      "Duration of video [s]:  12.2 , recorded with  40.0 fps!\n",
      "Overall # of frames:  488  found with (before cropping) frame dimensions:  200 200\n",
      "Starting to extract posture\n"
     ]
    },
    {
     "name": "stderr",
     "output_type": "stream",
     "text": [
      "490it [00:03, 138.25it/s]                                                                                              \n"
     ]
    },
    {
     "name": "stdout",
     "output_type": "stream",
     "text": [
      "Saving results in D:\\Sidevideos\\AR34MOTOR\\2022_02_04...\n",
      "Saving csv poses!\n",
      "Starting to analyze %  D:\\Sidevideos\\AR34MOTOR\\2022_02_04\\137EYE.avi\n",
      "Loading  D:\\Sidevideos\\AR34MOTOR\\2022_02_04\\137EYE.avi\n",
      "Duration of video [s]:  12.5 , recorded with  40.0 fps!\n",
      "Overall # of frames:  500  found with (before cropping) frame dimensions:  200 200\n",
      "Starting to extract posture\n"
     ]
    },
    {
     "name": "stderr",
     "output_type": "stream",
     "text": [
      "510it [00:03, 140.24it/s]                                                                                              \n"
     ]
    },
    {
     "name": "stdout",
     "output_type": "stream",
     "text": [
      "Saving results in D:\\Sidevideos\\AR34MOTOR\\2022_02_04...\n",
      "Saving csv poses!\n",
      "Starting to analyze %  D:\\Sidevideos\\AR34MOTOR\\2022_02_04\\138EYE.avi\n",
      "Loading  D:\\Sidevideos\\AR34MOTOR\\2022_02_04\\138EYE.avi\n",
      "Duration of video [s]:  12.5 , recorded with  40.0 fps!\n",
      "Overall # of frames:  500  found with (before cropping) frame dimensions:  200 200\n",
      "Starting to extract posture\n"
     ]
    },
    {
     "name": "stderr",
     "output_type": "stream",
     "text": [
      "510it [00:03, 139.83it/s]                                                                                              \n"
     ]
    },
    {
     "name": "stdout",
     "output_type": "stream",
     "text": [
      "Saving results in D:\\Sidevideos\\AR34MOTOR\\2022_02_04...\n",
      "Saving csv poses!\n",
      "Starting to analyze %  D:\\Sidevideos\\AR34MOTOR\\2022_02_04\\139EYE.avi\n",
      "Loading  D:\\Sidevideos\\AR34MOTOR\\2022_02_04\\139EYE.avi\n",
      "Duration of video [s]:  12.5 , recorded with  40.0 fps!\n",
      "Overall # of frames:  500  found with (before cropping) frame dimensions:  200 200\n",
      "Starting to extract posture\n"
     ]
    },
    {
     "name": "stderr",
     "output_type": "stream",
     "text": [
      "510it [00:03, 139.88it/s]                                                                                              \n"
     ]
    },
    {
     "name": "stdout",
     "output_type": "stream",
     "text": [
      "Saving results in D:\\Sidevideos\\AR34MOTOR\\2022_02_04...\n",
      "Saving csv poses!\n",
      "Starting to analyze %  D:\\Sidevideos\\AR34MOTOR\\2022_02_04\\13EYE.avi\n",
      "Loading  D:\\Sidevideos\\AR34MOTOR\\2022_02_04\\13EYE.avi\n",
      "Duration of video [s]:  12.5 , recorded with  40.0 fps!\n",
      "Overall # of frames:  500  found with (before cropping) frame dimensions:  200 200\n",
      "Starting to extract posture\n"
     ]
    },
    {
     "name": "stderr",
     "output_type": "stream",
     "text": [
      "510it [00:03, 141.47it/s]                                                                                              \n"
     ]
    },
    {
     "name": "stdout",
     "output_type": "stream",
     "text": [
      "Saving results in D:\\Sidevideos\\AR34MOTOR\\2022_02_04...\n",
      "Saving csv poses!\n",
      "Starting to analyze %  D:\\Sidevideos\\AR34MOTOR\\2022_02_04\\140EYE.avi\n",
      "Loading  D:\\Sidevideos\\AR34MOTOR\\2022_02_04\\140EYE.avi\n",
      "Duration of video [s]:  12.47 , recorded with  40.0 fps!\n",
      "Overall # of frames:  499  found with (before cropping) frame dimensions:  200 200\n",
      "Starting to extract posture\n"
     ]
    },
    {
     "name": "stderr",
     "output_type": "stream",
     "text": [
      "500it [00:03, 136.70it/s]                                                                                              \n"
     ]
    },
    {
     "name": "stdout",
     "output_type": "stream",
     "text": [
      "Saving results in D:\\Sidevideos\\AR34MOTOR\\2022_02_04...\n",
      "Saving csv poses!\n",
      "Starting to analyze %  D:\\Sidevideos\\AR34MOTOR\\2022_02_04\\141EYE.avi\n",
      "Loading  D:\\Sidevideos\\AR34MOTOR\\2022_02_04\\141EYE.avi\n",
      "Duration of video [s]:  12.5 , recorded with  40.0 fps!\n",
      "Overall # of frames:  500  found with (before cropping) frame dimensions:  200 200\n",
      "Starting to extract posture\n"
     ]
    },
    {
     "name": "stderr",
     "output_type": "stream",
     "text": [
      "510it [00:03, 140.13it/s]                                                                                              \n"
     ]
    },
    {
     "name": "stdout",
     "output_type": "stream",
     "text": [
      "Saving results in D:\\Sidevideos\\AR34MOTOR\\2022_02_04...\n",
      "Saving csv poses!\n",
      "Starting to analyze %  D:\\Sidevideos\\AR34MOTOR\\2022_02_04\\142EYE.avi\n",
      "Loading  D:\\Sidevideos\\AR34MOTOR\\2022_02_04\\142EYE.avi\n",
      "Duration of video [s]:  12.43 , recorded with  40.0 fps!\n",
      "Overall # of frames:  497  found with (before cropping) frame dimensions:  200 200\n",
      "Starting to extract posture\n"
     ]
    },
    {
     "name": "stderr",
     "output_type": "stream",
     "text": [
      "500it [00:03, 136.34it/s]                                                                                              \n"
     ]
    },
    {
     "name": "stdout",
     "output_type": "stream",
     "text": [
      "Saving results in D:\\Sidevideos\\AR34MOTOR\\2022_02_04...\n",
      "Saving csv poses!\n",
      "Starting to analyze %  D:\\Sidevideos\\AR34MOTOR\\2022_02_04\\143EYE.avi\n",
      "Loading  D:\\Sidevideos\\AR34MOTOR\\2022_02_04\\143EYE.avi\n",
      "Duration of video [s]:  12.5 , recorded with  40.0 fps!\n",
      "Overall # of frames:  500  found with (before cropping) frame dimensions:  200 200\n",
      "Starting to extract posture\n"
     ]
    },
    {
     "name": "stderr",
     "output_type": "stream",
     "text": [
      "510it [00:03, 138.95it/s]                                                                                              \n"
     ]
    },
    {
     "name": "stdout",
     "output_type": "stream",
     "text": [
      "Saving results in D:\\Sidevideos\\AR34MOTOR\\2022_02_04...\n",
      "Saving csv poses!\n",
      "Starting to analyze %  D:\\Sidevideos\\AR34MOTOR\\2022_02_04\\144EYE.avi\n",
      "Loading  D:\\Sidevideos\\AR34MOTOR\\2022_02_04\\144EYE.avi\n",
      "Duration of video [s]:  12.5 , recorded with  40.0 fps!\n",
      "Overall # of frames:  500  found with (before cropping) frame dimensions:  200 200\n",
      "Starting to extract posture\n"
     ]
    },
    {
     "name": "stderr",
     "output_type": "stream",
     "text": [
      "510it [00:03, 140.96it/s]                                                                                              \n"
     ]
    },
    {
     "name": "stdout",
     "output_type": "stream",
     "text": [
      "Saving results in D:\\Sidevideos\\AR34MOTOR\\2022_02_04...\n",
      "Saving csv poses!\n",
      "Starting to analyze %  D:\\Sidevideos\\AR34MOTOR\\2022_02_04\\145EYE.avi\n",
      "Loading  D:\\Sidevideos\\AR34MOTOR\\2022_02_04\\145EYE.avi\n",
      "Duration of video [s]:  11.88 , recorded with  40.0 fps!\n",
      "Overall # of frames:  475  found with (before cropping) frame dimensions:  200 200\n",
      "Starting to extract posture\n"
     ]
    },
    {
     "name": "stderr",
     "output_type": "stream",
     "text": [
      "480it [00:03, 137.87it/s]                                                                                              \n"
     ]
    },
    {
     "name": "stdout",
     "output_type": "stream",
     "text": [
      "Saving results in D:\\Sidevideos\\AR34MOTOR\\2022_02_04...\n",
      "Saving csv poses!\n",
      "Starting to analyze %  D:\\Sidevideos\\AR34MOTOR\\2022_02_04\\146EYE.avi\n",
      "Loading  D:\\Sidevideos\\AR34MOTOR\\2022_02_04\\146EYE.avi\n",
      "Duration of video [s]:  12.3 , recorded with  40.0 fps!\n",
      "Overall # of frames:  492  found with (before cropping) frame dimensions:  200 200\n",
      "Starting to extract posture\n"
     ]
    },
    {
     "name": "stderr",
     "output_type": "stream",
     "text": [
      "500it [00:03, 136.41it/s]                                                                                              \n"
     ]
    },
    {
     "name": "stdout",
     "output_type": "stream",
     "text": [
      "Saving results in D:\\Sidevideos\\AR34MOTOR\\2022_02_04...\n",
      "Saving csv poses!\n",
      "Starting to analyze %  D:\\Sidevideos\\AR34MOTOR\\2022_02_04\\147EYE.avi\n",
      "Loading  D:\\Sidevideos\\AR34MOTOR\\2022_02_04\\147EYE.avi\n",
      "Duration of video [s]:  12.5 , recorded with  40.0 fps!\n",
      "Overall # of frames:  500  found with (before cropping) frame dimensions:  200 200\n",
      "Starting to extract posture\n"
     ]
    },
    {
     "name": "stderr",
     "output_type": "stream",
     "text": [
      "510it [00:03, 140.52it/s]                                                                                              \n"
     ]
    },
    {
     "name": "stdout",
     "output_type": "stream",
     "text": [
      "Saving results in D:\\Sidevideos\\AR34MOTOR\\2022_02_04...\n",
      "Saving csv poses!\n",
      "Starting to analyze %  D:\\Sidevideos\\AR34MOTOR\\2022_02_04\\148EYE.avi\n",
      "Loading  D:\\Sidevideos\\AR34MOTOR\\2022_02_04\\148EYE.avi\n",
      "Duration of video [s]:  12.4 , recorded with  40.0 fps!\n",
      "Overall # of frames:  496  found with (before cropping) frame dimensions:  200 200\n",
      "Starting to extract posture\n"
     ]
    },
    {
     "name": "stderr",
     "output_type": "stream",
     "text": [
      "500it [00:03, 138.51it/s]                                                                                              \n"
     ]
    },
    {
     "name": "stdout",
     "output_type": "stream",
     "text": [
      "Saving results in D:\\Sidevideos\\AR34MOTOR\\2022_02_04...\n",
      "Saving csv poses!\n",
      "Starting to analyze %  D:\\Sidevideos\\AR34MOTOR\\2022_02_04\\149EYE.avi\n",
      "Loading  D:\\Sidevideos\\AR34MOTOR\\2022_02_04\\149EYE.avi\n",
      "Duration of video [s]:  11.78 , recorded with  40.0 fps!\n",
      "Overall # of frames:  471  found with (before cropping) frame dimensions:  200 200\n",
      "Starting to extract posture\n"
     ]
    },
    {
     "name": "stderr",
     "output_type": "stream",
     "text": [
      "480it [00:03, 141.94it/s]                                                                                              \n"
     ]
    },
    {
     "name": "stdout",
     "output_type": "stream",
     "text": [
      "Saving results in D:\\Sidevideos\\AR34MOTOR\\2022_02_04...\n",
      "Saving csv poses!\n",
      "Starting to analyze %  D:\\Sidevideos\\AR34MOTOR\\2022_02_04\\14EYE.avi\n",
      "Loading  D:\\Sidevideos\\AR34MOTOR\\2022_02_04\\14EYE.avi\n",
      "Duration of video [s]:  12.5 , recorded with  40.0 fps!\n",
      "Overall # of frames:  500  found with (before cropping) frame dimensions:  200 200\n",
      "Starting to extract posture\n"
     ]
    },
    {
     "name": "stderr",
     "output_type": "stream",
     "text": [
      "510it [00:03, 140.79it/s]                                                                                              \n"
     ]
    },
    {
     "name": "stdout",
     "output_type": "stream",
     "text": [
      "Saving results in D:\\Sidevideos\\AR34MOTOR\\2022_02_04...\n",
      "Saving csv poses!\n",
      "Starting to analyze %  D:\\Sidevideos\\AR34MOTOR\\2022_02_04\\150EYE.avi\n",
      "Loading  D:\\Sidevideos\\AR34MOTOR\\2022_02_04\\150EYE.avi\n",
      "Duration of video [s]:  12.5 , recorded with  40.0 fps!\n",
      "Overall # of frames:  500  found with (before cropping) frame dimensions:  200 200\n",
      "Starting to extract posture\n"
     ]
    },
    {
     "name": "stderr",
     "output_type": "stream",
     "text": [
      "510it [00:03, 140.45it/s]                                                                                              \n"
     ]
    },
    {
     "name": "stdout",
     "output_type": "stream",
     "text": [
      "Saving results in D:\\Sidevideos\\AR34MOTOR\\2022_02_04...\n",
      "Saving csv poses!\n",
      "Starting to analyze %  D:\\Sidevideos\\AR34MOTOR\\2022_02_04\\151EYE.avi\n",
      "Loading  D:\\Sidevideos\\AR34MOTOR\\2022_02_04\\151EYE.avi\n",
      "Duration of video [s]:  12.5 , recorded with  40.0 fps!\n",
      "Overall # of frames:  500  found with (before cropping) frame dimensions:  200 200\n",
      "Starting to extract posture\n"
     ]
    },
    {
     "name": "stderr",
     "output_type": "stream",
     "text": [
      "510it [00:03, 140.00it/s]                                                                                              \n"
     ]
    },
    {
     "name": "stdout",
     "output_type": "stream",
     "text": [
      "Saving results in D:\\Sidevideos\\AR34MOTOR\\2022_02_04...\n",
      "Saving csv poses!\n",
      "Starting to analyze %  D:\\Sidevideos\\AR34MOTOR\\2022_02_04\\152EYE.avi\n",
      "Loading  D:\\Sidevideos\\AR34MOTOR\\2022_02_04\\152EYE.avi\n",
      "Duration of video [s]:  12.5 , recorded with  40.0 fps!\n",
      "Overall # of frames:  500  found with (before cropping) frame dimensions:  200 200\n",
      "Starting to extract posture\n"
     ]
    },
    {
     "name": "stderr",
     "output_type": "stream",
     "text": [
      "510it [00:03, 136.86it/s]                                                                                              \n"
     ]
    },
    {
     "name": "stdout",
     "output_type": "stream",
     "text": [
      "Saving results in D:\\Sidevideos\\AR34MOTOR\\2022_02_04...\n",
      "Saving csv poses!\n",
      "Starting to analyze %  D:\\Sidevideos\\AR34MOTOR\\2022_02_04\\153EYE.avi\n",
      "Loading  D:\\Sidevideos\\AR34MOTOR\\2022_02_04\\153EYE.avi\n",
      "Duration of video [s]:  10.65 , recorded with  40.0 fps!\n",
      "Overall # of frames:  426  found with (before cropping) frame dimensions:  200 200\n",
      "Starting to extract posture\n"
     ]
    },
    {
     "name": "stderr",
     "output_type": "stream",
     "text": [
      "430it [00:03, 137.56it/s]                                                                                              \n"
     ]
    },
    {
     "name": "stdout",
     "output_type": "stream",
     "text": [
      "Saving results in D:\\Sidevideos\\AR34MOTOR\\2022_02_04...\n",
      "Saving csv poses!\n",
      "Starting to analyze %  D:\\Sidevideos\\AR34MOTOR\\2022_02_04\\154EYE.avi\n",
      "Loading  D:\\Sidevideos\\AR34MOTOR\\2022_02_04\\154EYE.avi\n",
      "Duration of video [s]:  12.5 , recorded with  40.0 fps!\n",
      "Overall # of frames:  500  found with (before cropping) frame dimensions:  200 200\n",
      "Starting to extract posture\n"
     ]
    },
    {
     "name": "stderr",
     "output_type": "stream",
     "text": [
      "510it [00:03, 138.78it/s]                                                                                              \n"
     ]
    },
    {
     "name": "stdout",
     "output_type": "stream",
     "text": [
      "Saving results in D:\\Sidevideos\\AR34MOTOR\\2022_02_04...\n",
      "Saving csv poses!\n",
      "Starting to analyze %  D:\\Sidevideos\\AR34MOTOR\\2022_02_04\\155EYE.avi\n",
      "Loading  D:\\Sidevideos\\AR34MOTOR\\2022_02_04\\155EYE.avi\n",
      "Duration of video [s]:  12.5 , recorded with  40.0 fps!\n",
      "Overall # of frames:  500  found with (before cropping) frame dimensions:  200 200\n",
      "Starting to extract posture\n"
     ]
    },
    {
     "name": "stderr",
     "output_type": "stream",
     "text": [
      "510it [00:03, 140.54it/s]                                                                                              \n"
     ]
    },
    {
     "name": "stdout",
     "output_type": "stream",
     "text": [
      "Saving results in D:\\Sidevideos\\AR34MOTOR\\2022_02_04...\n",
      "Saving csv poses!\n",
      "Starting to analyze %  D:\\Sidevideos\\AR34MOTOR\\2022_02_04\\156EYE.avi\n",
      "Loading  D:\\Sidevideos\\AR34MOTOR\\2022_02_04\\156EYE.avi\n",
      "Duration of video [s]:  12.5 , recorded with  40.0 fps!\n",
      "Overall # of frames:  500  found with (before cropping) frame dimensions:  200 200\n",
      "Starting to extract posture\n"
     ]
    },
    {
     "name": "stderr",
     "output_type": "stream",
     "text": [
      "510it [00:03, 138.96it/s]                                                                                              \n"
     ]
    },
    {
     "name": "stdout",
     "output_type": "stream",
     "text": [
      "Saving results in D:\\Sidevideos\\AR34MOTOR\\2022_02_04...\n",
      "Saving csv poses!\n",
      "Starting to analyze %  D:\\Sidevideos\\AR34MOTOR\\2022_02_04\\157EYE.avi\n",
      "Loading  D:\\Sidevideos\\AR34MOTOR\\2022_02_04\\157EYE.avi\n",
      "Duration of video [s]:  12.5 , recorded with  40.0 fps!\n",
      "Overall # of frames:  500  found with (before cropping) frame dimensions:  200 200\n",
      "Starting to extract posture\n"
     ]
    },
    {
     "name": "stderr",
     "output_type": "stream",
     "text": [
      "510it [00:03, 140.49it/s]                                                                                              \n"
     ]
    },
    {
     "name": "stdout",
     "output_type": "stream",
     "text": [
      "Saving results in D:\\Sidevideos\\AR34MOTOR\\2022_02_04...\n",
      "Saving csv poses!\n",
      "Starting to analyze %  D:\\Sidevideos\\AR34MOTOR\\2022_02_04\\158EYE.avi\n",
      "Loading  D:\\Sidevideos\\AR34MOTOR\\2022_02_04\\158EYE.avi\n",
      "Duration of video [s]:  12.5 , recorded with  40.0 fps!\n",
      "Overall # of frames:  500  found with (before cropping) frame dimensions:  200 200\n",
      "Starting to extract posture\n"
     ]
    },
    {
     "name": "stderr",
     "output_type": "stream",
     "text": [
      "510it [00:03, 139.80it/s]                                                                                              \n"
     ]
    },
    {
     "name": "stdout",
     "output_type": "stream",
     "text": [
      "Saving results in D:\\Sidevideos\\AR34MOTOR\\2022_02_04...\n",
      "Saving csv poses!\n",
      "Starting to analyze %  D:\\Sidevideos\\AR34MOTOR\\2022_02_04\\159EYE.avi\n",
      "Loading  D:\\Sidevideos\\AR34MOTOR\\2022_02_04\\159EYE.avi\n",
      "Duration of video [s]:  12.32 , recorded with  40.0 fps!\n",
      "Overall # of frames:  493  found with (before cropping) frame dimensions:  200 200\n",
      "Starting to extract posture\n"
     ]
    },
    {
     "name": "stderr",
     "output_type": "stream",
     "text": [
      "500it [00:03, 139.34it/s]                                                                                              \n"
     ]
    },
    {
     "name": "stdout",
     "output_type": "stream",
     "text": [
      "Saving results in D:\\Sidevideos\\AR34MOTOR\\2022_02_04...\n",
      "Saving csv poses!\n",
      "Starting to analyze %  D:\\Sidevideos\\AR34MOTOR\\2022_02_04\\15EYE.avi\n",
      "Loading  D:\\Sidevideos\\AR34MOTOR\\2022_02_04\\15EYE.avi\n",
      "Duration of video [s]:  12.5 , recorded with  40.0 fps!\n",
      "Overall # of frames:  500  found with (before cropping) frame dimensions:  200 200\n",
      "Starting to extract posture\n"
     ]
    },
    {
     "name": "stderr",
     "output_type": "stream",
     "text": [
      "510it [00:03, 141.29it/s]                                                                                              \n"
     ]
    },
    {
     "name": "stdout",
     "output_type": "stream",
     "text": [
      "Saving results in D:\\Sidevideos\\AR34MOTOR\\2022_02_04...\n",
      "Saving csv poses!\n",
      "Starting to analyze %  D:\\Sidevideos\\AR34MOTOR\\2022_02_04\\160EYE.avi\n",
      "Loading  D:\\Sidevideos\\AR34MOTOR\\2022_02_04\\160EYE.avi\n",
      "Duration of video [s]:  12.5 , recorded with  40.0 fps!\n",
      "Overall # of frames:  500  found with (before cropping) frame dimensions:  200 200\n",
      "Starting to extract posture\n"
     ]
    },
    {
     "name": "stderr",
     "output_type": "stream",
     "text": [
      "510it [00:03, 138.15it/s]                                                                                              \n"
     ]
    },
    {
     "name": "stdout",
     "output_type": "stream",
     "text": [
      "Saving results in D:\\Sidevideos\\AR34MOTOR\\2022_02_04...\n",
      "Saving csv poses!\n",
      "Starting to analyze %  D:\\Sidevideos\\AR34MOTOR\\2022_02_04\\161EYE.avi\n",
      "Loading  D:\\Sidevideos\\AR34MOTOR\\2022_02_04\\161EYE.avi\n",
      "Duration of video [s]:  12.5 , recorded with  40.0 fps!\n",
      "Overall # of frames:  500  found with (before cropping) frame dimensions:  200 200\n",
      "Starting to extract posture\n"
     ]
    },
    {
     "name": "stderr",
     "output_type": "stream",
     "text": [
      "510it [00:03, 139.13it/s]                                                                                              \n"
     ]
    },
    {
     "name": "stdout",
     "output_type": "stream",
     "text": [
      "Saving results in D:\\Sidevideos\\AR34MOTOR\\2022_02_04...\n",
      "Saving csv poses!\n",
      "Starting to analyze %  D:\\Sidevideos\\AR34MOTOR\\2022_02_04\\162EYE.avi\n",
      "Loading  D:\\Sidevideos\\AR34MOTOR\\2022_02_04\\162EYE.avi\n",
      "Duration of video [s]:  12.5 , recorded with  40.0 fps!\n",
      "Overall # of frames:  500  found with (before cropping) frame dimensions:  200 200\n",
      "Starting to extract posture\n"
     ]
    },
    {
     "name": "stderr",
     "output_type": "stream",
     "text": [
      "510it [00:03, 140.27it/s]                                                                                              \n"
     ]
    },
    {
     "name": "stdout",
     "output_type": "stream",
     "text": [
      "Saving results in D:\\Sidevideos\\AR34MOTOR\\2022_02_04...\n",
      "Saving csv poses!\n",
      "Starting to analyze %  D:\\Sidevideos\\AR34MOTOR\\2022_02_04\\163EYE.avi\n",
      "Loading  D:\\Sidevideos\\AR34MOTOR\\2022_02_04\\163EYE.avi\n",
      "Duration of video [s]:  10.78 , recorded with  40.0 fps!\n",
      "Overall # of frames:  431  found with (before cropping) frame dimensions:  200 200\n",
      "Starting to extract posture\n"
     ]
    },
    {
     "name": "stderr",
     "output_type": "stream",
     "text": [
      "440it [00:03, 139.88it/s]                                                                                              \n"
     ]
    },
    {
     "name": "stdout",
     "output_type": "stream",
     "text": [
      "Saving results in D:\\Sidevideos\\AR34MOTOR\\2022_02_04...\n",
      "Saving csv poses!\n",
      "Starting to analyze %  D:\\Sidevideos\\AR34MOTOR\\2022_02_04\\164EYE.avi\n",
      "Loading  D:\\Sidevideos\\AR34MOTOR\\2022_02_04\\164EYE.avi\n",
      "Duration of video [s]:  12.5 , recorded with  40.0 fps!\n",
      "Overall # of frames:  500  found with (before cropping) frame dimensions:  200 200\n",
      "Starting to extract posture\n"
     ]
    },
    {
     "name": "stderr",
     "output_type": "stream",
     "text": [
      "510it [00:03, 141.03it/s]                                                                                              \n"
     ]
    },
    {
     "name": "stdout",
     "output_type": "stream",
     "text": [
      "Saving results in D:\\Sidevideos\\AR34MOTOR\\2022_02_04...\n",
      "Saving csv poses!\n",
      "Starting to analyze %  D:\\Sidevideos\\AR34MOTOR\\2022_02_04\\165EYE.avi\n",
      "Loading  D:\\Sidevideos\\AR34MOTOR\\2022_02_04\\165EYE.avi\n",
      "Duration of video [s]:  12.5 , recorded with  40.0 fps!\n",
      "Overall # of frames:  500  found with (before cropping) frame dimensions:  200 200\n",
      "Starting to extract posture\n"
     ]
    },
    {
     "name": "stderr",
     "output_type": "stream",
     "text": [
      "510it [00:03, 140.21it/s]                                                                                              \n"
     ]
    },
    {
     "name": "stdout",
     "output_type": "stream",
     "text": [
      "Saving results in D:\\Sidevideos\\AR34MOTOR\\2022_02_04...\n",
      "Saving csv poses!\n",
      "Starting to analyze %  D:\\Sidevideos\\AR34MOTOR\\2022_02_04\\166EYE.avi\n",
      "Loading  D:\\Sidevideos\\AR34MOTOR\\2022_02_04\\166EYE.avi\n",
      "Duration of video [s]:  12.5 , recorded with  40.0 fps!\n",
      "Overall # of frames:  500  found with (before cropping) frame dimensions:  200 200\n",
      "Starting to extract posture\n"
     ]
    },
    {
     "name": "stderr",
     "output_type": "stream",
     "text": [
      "510it [00:03, 141.19it/s]                                                                                              \n"
     ]
    },
    {
     "name": "stdout",
     "output_type": "stream",
     "text": [
      "Saving results in D:\\Sidevideos\\AR34MOTOR\\2022_02_04...\n",
      "Saving csv poses!\n",
      "Starting to analyze %  D:\\Sidevideos\\AR34MOTOR\\2022_02_04\\167EYE.avi\n",
      "Loading  D:\\Sidevideos\\AR34MOTOR\\2022_02_04\\167EYE.avi\n",
      "Duration of video [s]:  12.5 , recorded with  40.0 fps!\n",
      "Overall # of frames:  500  found with (before cropping) frame dimensions:  200 200\n",
      "Starting to extract posture\n"
     ]
    },
    {
     "name": "stderr",
     "output_type": "stream",
     "text": [
      "510it [00:03, 141.16it/s]                                                                                              \n"
     ]
    },
    {
     "name": "stdout",
     "output_type": "stream",
     "text": [
      "Saving results in D:\\Sidevideos\\AR34MOTOR\\2022_02_04...\n",
      "Saving csv poses!\n",
      "Starting to analyze %  D:\\Sidevideos\\AR34MOTOR\\2022_02_04\\168EYE.avi\n",
      "Loading  D:\\Sidevideos\\AR34MOTOR\\2022_02_04\\168EYE.avi\n",
      "Duration of video [s]:  12.5 , recorded with  40.0 fps!\n",
      "Overall # of frames:  500  found with (before cropping) frame dimensions:  200 200\n",
      "Starting to extract posture\n"
     ]
    },
    {
     "name": "stderr",
     "output_type": "stream",
     "text": [
      "510it [00:03, 137.14it/s]                                                                                              \n"
     ]
    },
    {
     "name": "stdout",
     "output_type": "stream",
     "text": [
      "Saving results in D:\\Sidevideos\\AR34MOTOR\\2022_02_04...\n",
      "Saving csv poses!\n",
      "Starting to analyze %  D:\\Sidevideos\\AR34MOTOR\\2022_02_04\\169EYE.avi\n",
      "Loading  D:\\Sidevideos\\AR34MOTOR\\2022_02_04\\169EYE.avi\n",
      "Duration of video [s]:  12.47 , recorded with  40.0 fps!\n",
      "Overall # of frames:  499  found with (before cropping) frame dimensions:  200 200\n",
      "Starting to extract posture\n"
     ]
    },
    {
     "name": "stderr",
     "output_type": "stream",
     "text": [
      "500it [00:03, 137.13it/s]                                                                                              \n"
     ]
    },
    {
     "name": "stdout",
     "output_type": "stream",
     "text": [
      "Saving results in D:\\Sidevideos\\AR34MOTOR\\2022_02_04...\n",
      "Saving csv poses!\n",
      "Starting to analyze %  D:\\Sidevideos\\AR34MOTOR\\2022_02_04\\16EYE.avi\n",
      "Loading  D:\\Sidevideos\\AR34MOTOR\\2022_02_04\\16EYE.avi\n",
      "Duration of video [s]:  12.5 , recorded with  40.0 fps!\n",
      "Overall # of frames:  500  found with (before cropping) frame dimensions:  200 200\n",
      "Starting to extract posture\n"
     ]
    },
    {
     "name": "stderr",
     "output_type": "stream",
     "text": [
      "510it [00:03, 138.56it/s]                                                                                              \n"
     ]
    },
    {
     "name": "stdout",
     "output_type": "stream",
     "text": [
      "Saving results in D:\\Sidevideos\\AR34MOTOR\\2022_02_04...\n",
      "Saving csv poses!\n",
      "Starting to analyze %  D:\\Sidevideos\\AR34MOTOR\\2022_02_04\\170EYE.avi\n",
      "Loading  D:\\Sidevideos\\AR34MOTOR\\2022_02_04\\170EYE.avi\n",
      "Duration of video [s]:  12.5 , recorded with  40.0 fps!\n",
      "Overall # of frames:  500  found with (before cropping) frame dimensions:  200 200\n",
      "Starting to extract posture\n"
     ]
    },
    {
     "name": "stderr",
     "output_type": "stream",
     "text": [
      "510it [00:03, 139.83it/s]                                                                                              \n"
     ]
    },
    {
     "name": "stdout",
     "output_type": "stream",
     "text": [
      "Saving results in D:\\Sidevideos\\AR34MOTOR\\2022_02_04...\n",
      "Saving csv poses!\n",
      "Starting to analyze %  D:\\Sidevideos\\AR34MOTOR\\2022_02_04\\17EYE.avi\n",
      "Loading  D:\\Sidevideos\\AR34MOTOR\\2022_02_04\\17EYE.avi\n",
      "Duration of video [s]:  11.6 , recorded with  40.0 fps!\n",
      "Overall # of frames:  464  found with (before cropping) frame dimensions:  200 200\n",
      "Starting to extract posture\n"
     ]
    },
    {
     "name": "stderr",
     "output_type": "stream",
     "text": [
      "470it [00:03, 140.64it/s]                                                                                              \n"
     ]
    },
    {
     "name": "stdout",
     "output_type": "stream",
     "text": [
      "Saving results in D:\\Sidevideos\\AR34MOTOR\\2022_02_04...\n",
      "Saving csv poses!\n",
      "Starting to analyze %  D:\\Sidevideos\\AR34MOTOR\\2022_02_04\\18EYE.avi\n",
      "Loading  D:\\Sidevideos\\AR34MOTOR\\2022_02_04\\18EYE.avi\n",
      "Duration of video [s]:  10.95 , recorded with  40.0 fps!\n",
      "Overall # of frames:  438  found with (before cropping) frame dimensions:  200 200\n",
      "Starting to extract posture\n"
     ]
    },
    {
     "name": "stderr",
     "output_type": "stream",
     "text": [
      "440it [00:03, 138.40it/s]                                                                                              \n"
     ]
    },
    {
     "name": "stdout",
     "output_type": "stream",
     "text": [
      "Saving results in D:\\Sidevideos\\AR34MOTOR\\2022_02_04...\n",
      "Saving csv poses!\n",
      "Starting to analyze %  D:\\Sidevideos\\AR34MOTOR\\2022_02_04\\19EYE.avi\n",
      "Loading  D:\\Sidevideos\\AR34MOTOR\\2022_02_04\\19EYE.avi\n",
      "Duration of video [s]:  12.5 , recorded with  40.0 fps!\n",
      "Overall # of frames:  500  found with (before cropping) frame dimensions:  200 200\n",
      "Starting to extract posture\n"
     ]
    },
    {
     "name": "stderr",
     "output_type": "stream",
     "text": [
      "510it [00:03, 139.52it/s]                                                                                              \n"
     ]
    },
    {
     "name": "stdout",
     "output_type": "stream",
     "text": [
      "Saving results in D:\\Sidevideos\\AR34MOTOR\\2022_02_04...\n",
      "Saving csv poses!\n",
      "Starting to analyze %  D:\\Sidevideos\\AR34MOTOR\\2022_02_04\\1EYE.avi\n",
      "Loading  D:\\Sidevideos\\AR34MOTOR\\2022_02_04\\1EYE.avi\n",
      "Duration of video [s]:  12.5 , recorded with  40.0 fps!\n",
      "Overall # of frames:  500  found with (before cropping) frame dimensions:  200 200\n",
      "Starting to extract posture\n"
     ]
    },
    {
     "name": "stderr",
     "output_type": "stream",
     "text": [
      "510it [00:03, 139.93it/s]                                                                                              \n"
     ]
    },
    {
     "name": "stdout",
     "output_type": "stream",
     "text": [
      "Saving results in D:\\Sidevideos\\AR34MOTOR\\2022_02_04...\n",
      "Saving csv poses!\n",
      "Starting to analyze %  D:\\Sidevideos\\AR34MOTOR\\2022_02_04\\20EYE.avi\n",
      "Loading  D:\\Sidevideos\\AR34MOTOR\\2022_02_04\\20EYE.avi\n",
      "Duration of video [s]:  12.5 , recorded with  40.0 fps!\n",
      "Overall # of frames:  500  found with (before cropping) frame dimensions:  200 200\n",
      "Starting to extract posture\n"
     ]
    },
    {
     "name": "stderr",
     "output_type": "stream",
     "text": [
      "510it [00:03, 140.68it/s]                                                                                              \n"
     ]
    },
    {
     "name": "stdout",
     "output_type": "stream",
     "text": [
      "Saving results in D:\\Sidevideos\\AR34MOTOR\\2022_02_04...\n",
      "Saving csv poses!\n",
      "Starting to analyze %  D:\\Sidevideos\\AR34MOTOR\\2022_02_04\\21EYE.avi\n",
      "Loading  D:\\Sidevideos\\AR34MOTOR\\2022_02_04\\21EYE.avi\n",
      "Duration of video [s]:  12.5 , recorded with  40.0 fps!\n",
      "Overall # of frames:  500  found with (before cropping) frame dimensions:  200 200\n",
      "Starting to extract posture\n"
     ]
    },
    {
     "name": "stderr",
     "output_type": "stream",
     "text": [
      "510it [00:03, 138.58it/s]                                                                                              \n"
     ]
    },
    {
     "name": "stdout",
     "output_type": "stream",
     "text": [
      "Saving results in D:\\Sidevideos\\AR34MOTOR\\2022_02_04...\n",
      "Saving csv poses!\n",
      "Starting to analyze %  D:\\Sidevideos\\AR34MOTOR\\2022_02_04\\22EYE.avi\n",
      "Loading  D:\\Sidevideos\\AR34MOTOR\\2022_02_04\\22EYE.avi\n",
      "Duration of video [s]:  12.5 , recorded with  40.0 fps!\n",
      "Overall # of frames:  500  found with (before cropping) frame dimensions:  200 200\n",
      "Starting to extract posture\n"
     ]
    },
    {
     "name": "stderr",
     "output_type": "stream",
     "text": [
      "510it [00:03, 140.24it/s]                                                                                              \n"
     ]
    },
    {
     "name": "stdout",
     "output_type": "stream",
     "text": [
      "Saving results in D:\\Sidevideos\\AR34MOTOR\\2022_02_04...\n",
      "Saving csv poses!\n",
      "Starting to analyze %  D:\\Sidevideos\\AR34MOTOR\\2022_02_04\\23EYE.avi\n",
      "Loading  D:\\Sidevideos\\AR34MOTOR\\2022_02_04\\23EYE.avi\n",
      "Duration of video [s]:  12.5 , recorded with  40.0 fps!\n",
      "Overall # of frames:  500  found with (before cropping) frame dimensions:  200 200\n",
      "Starting to extract posture\n"
     ]
    },
    {
     "name": "stderr",
     "output_type": "stream",
     "text": [
      "510it [00:03, 141.68it/s]                                                                                              \n"
     ]
    },
    {
     "name": "stdout",
     "output_type": "stream",
     "text": [
      "Saving results in D:\\Sidevideos\\AR34MOTOR\\2022_02_04...\n",
      "Saving csv poses!\n",
      "Starting to analyze %  D:\\Sidevideos\\AR34MOTOR\\2022_02_04\\24EYE.avi\n",
      "Loading  D:\\Sidevideos\\AR34MOTOR\\2022_02_04\\24EYE.avi\n",
      "Duration of video [s]:  12.5 , recorded with  40.0 fps!\n",
      "Overall # of frames:  500  found with (before cropping) frame dimensions:  200 200\n",
      "Starting to extract posture\n"
     ]
    },
    {
     "name": "stderr",
     "output_type": "stream",
     "text": [
      "510it [00:03, 139.82it/s]                                                                                              \n"
     ]
    },
    {
     "name": "stdout",
     "output_type": "stream",
     "text": [
      "Saving results in D:\\Sidevideos\\AR34MOTOR\\2022_02_04...\n",
      "Saving csv poses!\n",
      "Starting to analyze %  D:\\Sidevideos\\AR34MOTOR\\2022_02_04\\25EYE.avi\n",
      "Loading  D:\\Sidevideos\\AR34MOTOR\\2022_02_04\\25EYE.avi\n",
      "Duration of video [s]:  12.5 , recorded with  40.0 fps!\n",
      "Overall # of frames:  500  found with (before cropping) frame dimensions:  200 200\n",
      "Starting to extract posture\n"
     ]
    },
    {
     "name": "stderr",
     "output_type": "stream",
     "text": [
      "510it [00:03, 139.40it/s]                                                                                              \n"
     ]
    },
    {
     "name": "stdout",
     "output_type": "stream",
     "text": [
      "Saving results in D:\\Sidevideos\\AR34MOTOR\\2022_02_04...\n",
      "Saving csv poses!\n",
      "Starting to analyze %  D:\\Sidevideos\\AR34MOTOR\\2022_02_04\\26EYE.avi\n",
      "Loading  D:\\Sidevideos\\AR34MOTOR\\2022_02_04\\26EYE.avi\n",
      "Duration of video [s]:  12.5 , recorded with  40.0 fps!\n",
      "Overall # of frames:  500  found with (before cropping) frame dimensions:  200 200\n",
      "Starting to extract posture\n"
     ]
    },
    {
     "name": "stderr",
     "output_type": "stream",
     "text": [
      "510it [00:03, 140.15it/s]                                                                                              \n"
     ]
    },
    {
     "name": "stdout",
     "output_type": "stream",
     "text": [
      "Saving results in D:\\Sidevideos\\AR34MOTOR\\2022_02_04...\n",
      "Saving csv poses!\n",
      "Starting to analyze %  D:\\Sidevideos\\AR34MOTOR\\2022_02_04\\27EYE.avi\n",
      "Loading  D:\\Sidevideos\\AR34MOTOR\\2022_02_04\\27EYE.avi\n",
      "Duration of video [s]:  11.95 , recorded with  40.0 fps!\n",
      "Overall # of frames:  478  found with (before cropping) frame dimensions:  200 200\n",
      "Starting to extract posture\n"
     ]
    },
    {
     "name": "stderr",
     "output_type": "stream",
     "text": [
      "480it [00:03, 139.37it/s]                                                                                              \n"
     ]
    },
    {
     "name": "stdout",
     "output_type": "stream",
     "text": [
      "Saving results in D:\\Sidevideos\\AR34MOTOR\\2022_02_04...\n",
      "Saving csv poses!\n",
      "Starting to analyze %  D:\\Sidevideos\\AR34MOTOR\\2022_02_04\\28EYE.avi\n",
      "Loading  D:\\Sidevideos\\AR34MOTOR\\2022_02_04\\28EYE.avi\n",
      "Duration of video [s]:  12.5 , recorded with  40.0 fps!\n",
      "Overall # of frames:  500  found with (before cropping) frame dimensions:  200 200\n",
      "Starting to extract posture\n"
     ]
    },
    {
     "name": "stderr",
     "output_type": "stream",
     "text": [
      "510it [00:03, 140.11it/s]                                                                                              \n"
     ]
    },
    {
     "name": "stdout",
     "output_type": "stream",
     "text": [
      "Saving results in D:\\Sidevideos\\AR34MOTOR\\2022_02_04...\n",
      "Saving csv poses!\n",
      "Starting to analyze %  D:\\Sidevideos\\AR34MOTOR\\2022_02_04\\29EYE.avi\n",
      "Loading  D:\\Sidevideos\\AR34MOTOR\\2022_02_04\\29EYE.avi\n",
      "Duration of video [s]:  12.0 , recorded with  40.0 fps!\n",
      "Overall # of frames:  480  found with (before cropping) frame dimensions:  200 200\n",
      "Starting to extract posture\n"
     ]
    },
    {
     "name": "stderr",
     "output_type": "stream",
     "text": [
      "490it [00:03, 140.51it/s]                                                                                              \n"
     ]
    },
    {
     "name": "stdout",
     "output_type": "stream",
     "text": [
      "Saving results in D:\\Sidevideos\\AR34MOTOR\\2022_02_04...\n",
      "Saving csv poses!\n",
      "Starting to analyze %  D:\\Sidevideos\\AR34MOTOR\\2022_02_04\\2EYE.avi\n",
      "Loading  D:\\Sidevideos\\AR34MOTOR\\2022_02_04\\2EYE.avi\n",
      "Duration of video [s]:  12.5 , recorded with  40.0 fps!\n",
      "Overall # of frames:  500  found with (before cropping) frame dimensions:  200 200\n",
      "Starting to extract posture\n"
     ]
    },
    {
     "name": "stderr",
     "output_type": "stream",
     "text": [
      "510it [00:03, 141.25it/s]                                                                                              \n"
     ]
    },
    {
     "name": "stdout",
     "output_type": "stream",
     "text": [
      "Saving results in D:\\Sidevideos\\AR34MOTOR\\2022_02_04...\n",
      "Saving csv poses!\n",
      "Starting to analyze %  D:\\Sidevideos\\AR34MOTOR\\2022_02_04\\30EYE.avi\n",
      "Loading  D:\\Sidevideos\\AR34MOTOR\\2022_02_04\\30EYE.avi\n",
      "Duration of video [s]:  12.5 , recorded with  40.0 fps!\n",
      "Overall # of frames:  500  found with (before cropping) frame dimensions:  200 200\n",
      "Starting to extract posture\n"
     ]
    },
    {
     "name": "stderr",
     "output_type": "stream",
     "text": [
      "510it [00:03, 140.95it/s]                                                                                              \n"
     ]
    },
    {
     "name": "stdout",
     "output_type": "stream",
     "text": [
      "Saving results in D:\\Sidevideos\\AR34MOTOR\\2022_02_04...\n",
      "Saving csv poses!\n",
      "Starting to analyze %  D:\\Sidevideos\\AR34MOTOR\\2022_02_04\\31EYE.avi\n",
      "Loading  D:\\Sidevideos\\AR34MOTOR\\2022_02_04\\31EYE.avi\n",
      "Duration of video [s]:  12.5 , recorded with  40.0 fps!\n",
      "Overall # of frames:  500  found with (before cropping) frame dimensions:  200 200\n",
      "Starting to extract posture\n"
     ]
    },
    {
     "name": "stderr",
     "output_type": "stream",
     "text": [
      "510it [00:03, 140.37it/s]                                                                                              \n"
     ]
    },
    {
     "name": "stdout",
     "output_type": "stream",
     "text": [
      "Saving results in D:\\Sidevideos\\AR34MOTOR\\2022_02_04...\n",
      "Saving csv poses!\n",
      "Starting to analyze %  D:\\Sidevideos\\AR34MOTOR\\2022_02_04\\32EYE.avi\n",
      "Loading  D:\\Sidevideos\\AR34MOTOR\\2022_02_04\\32EYE.avi\n",
      "Duration of video [s]:  12.5 , recorded with  40.0 fps!\n",
      "Overall # of frames:  500  found with (before cropping) frame dimensions:  200 200\n",
      "Starting to extract posture\n"
     ]
    },
    {
     "name": "stderr",
     "output_type": "stream",
     "text": [
      "510it [00:03, 139.13it/s]                                                                                              \n"
     ]
    },
    {
     "name": "stdout",
     "output_type": "stream",
     "text": [
      "Saving results in D:\\Sidevideos\\AR34MOTOR\\2022_02_04...\n",
      "Saving csv poses!\n",
      "Starting to analyze %  D:\\Sidevideos\\AR34MOTOR\\2022_02_04\\33EYE.avi\n",
      "Loading  D:\\Sidevideos\\AR34MOTOR\\2022_02_04\\33EYE.avi\n",
      "Duration of video [s]:  12.5 , recorded with  40.0 fps!\n",
      "Overall # of frames:  500  found with (before cropping) frame dimensions:  200 200\n",
      "Starting to extract posture\n"
     ]
    },
    {
     "name": "stderr",
     "output_type": "stream",
     "text": [
      "510it [00:03, 140.77it/s]                                                                                              \n"
     ]
    },
    {
     "name": "stdout",
     "output_type": "stream",
     "text": [
      "Saving results in D:\\Sidevideos\\AR34MOTOR\\2022_02_04...\n",
      "Saving csv poses!\n",
      "Starting to analyze %  D:\\Sidevideos\\AR34MOTOR\\2022_02_04\\34EYE.avi\n",
      "Loading  D:\\Sidevideos\\AR34MOTOR\\2022_02_04\\34EYE.avi\n",
      "Duration of video [s]:  12.1 , recorded with  40.0 fps!\n",
      "Overall # of frames:  484  found with (before cropping) frame dimensions:  200 200\n",
      "Starting to extract posture\n"
     ]
    },
    {
     "name": "stderr",
     "output_type": "stream",
     "text": [
      "490it [00:03, 138.34it/s]                                                                                              \n"
     ]
    },
    {
     "name": "stdout",
     "output_type": "stream",
     "text": [
      "Saving results in D:\\Sidevideos\\AR34MOTOR\\2022_02_04...\n",
      "Saving csv poses!\n",
      "Starting to analyze %  D:\\Sidevideos\\AR34MOTOR\\2022_02_04\\35EYE.avi\n",
      "Loading  D:\\Sidevideos\\AR34MOTOR\\2022_02_04\\35EYE.avi\n",
      "Duration of video [s]:  12.5 , recorded with  40.0 fps!\n",
      "Overall # of frames:  500  found with (before cropping) frame dimensions:  200 200\n",
      "Starting to extract posture\n"
     ]
    },
    {
     "name": "stderr",
     "output_type": "stream",
     "text": [
      "510it [00:03, 141.46it/s]                                                                                              \n"
     ]
    },
    {
     "name": "stdout",
     "output_type": "stream",
     "text": [
      "Saving results in D:\\Sidevideos\\AR34MOTOR\\2022_02_04...\n",
      "Saving csv poses!\n",
      "Starting to analyze %  D:\\Sidevideos\\AR34MOTOR\\2022_02_04\\36EYE.avi\n",
      "Loading  D:\\Sidevideos\\AR34MOTOR\\2022_02_04\\36EYE.avi\n",
      "Duration of video [s]:  12.5 , recorded with  40.0 fps!\n",
      "Overall # of frames:  500  found with (before cropping) frame dimensions:  200 200\n",
      "Starting to extract posture\n"
     ]
    },
    {
     "name": "stderr",
     "output_type": "stream",
     "text": [
      "510it [00:03, 140.36it/s]                                                                                              \n"
     ]
    },
    {
     "name": "stdout",
     "output_type": "stream",
     "text": [
      "Saving results in D:\\Sidevideos\\AR34MOTOR\\2022_02_04...\n",
      "Saving csv poses!\n",
      "Starting to analyze %  D:\\Sidevideos\\AR34MOTOR\\2022_02_04\\37EYE.avi\n",
      "Loading  D:\\Sidevideos\\AR34MOTOR\\2022_02_04\\37EYE.avi\n",
      "Duration of video [s]:  12.5 , recorded with  40.0 fps!\n",
      "Overall # of frames:  500  found with (before cropping) frame dimensions:  200 200\n",
      "Starting to extract posture\n"
     ]
    },
    {
     "name": "stderr",
     "output_type": "stream",
     "text": [
      "510it [00:03, 140.90it/s]                                                                                              \n"
     ]
    },
    {
     "name": "stdout",
     "output_type": "stream",
     "text": [
      "Saving results in D:\\Sidevideos\\AR34MOTOR\\2022_02_04...\n",
      "Saving csv poses!\n",
      "Starting to analyze %  D:\\Sidevideos\\AR34MOTOR\\2022_02_04\\38EYE.avi\n",
      "Loading  D:\\Sidevideos\\AR34MOTOR\\2022_02_04\\38EYE.avi\n",
      "Duration of video [s]:  12.5 , recorded with  40.0 fps!\n",
      "Overall # of frames:  500  found with (before cropping) frame dimensions:  200 200\n",
      "Starting to extract posture\n"
     ]
    },
    {
     "name": "stderr",
     "output_type": "stream",
     "text": [
      "510it [00:03, 139.15it/s]                                                                                              \n"
     ]
    },
    {
     "name": "stdout",
     "output_type": "stream",
     "text": [
      "Saving results in D:\\Sidevideos\\AR34MOTOR\\2022_02_04...\n",
      "Saving csv poses!\n",
      "Starting to analyze %  D:\\Sidevideos\\AR34MOTOR\\2022_02_04\\39EYE.avi\n",
      "Loading  D:\\Sidevideos\\AR34MOTOR\\2022_02_04\\39EYE.avi\n",
      "Duration of video [s]:  12.43 , recorded with  40.0 fps!\n",
      "Overall # of frames:  497  found with (before cropping) frame dimensions:  200 200\n",
      "Starting to extract posture\n"
     ]
    },
    {
     "name": "stderr",
     "output_type": "stream",
     "text": [
      "500it [00:03, 136.30it/s]                                                                                              \n"
     ]
    },
    {
     "name": "stdout",
     "output_type": "stream",
     "text": [
      "Saving results in D:\\Sidevideos\\AR34MOTOR\\2022_02_04...\n",
      "Saving csv poses!\n",
      "Starting to analyze %  D:\\Sidevideos\\AR34MOTOR\\2022_02_04\\3EYE.avi\n",
      "Loading  D:\\Sidevideos\\AR34MOTOR\\2022_02_04\\3EYE.avi\n",
      "Duration of video [s]:  12.5 , recorded with  40.0 fps!\n",
      "Overall # of frames:  500  found with (before cropping) frame dimensions:  200 200\n",
      "Starting to extract posture\n"
     ]
    },
    {
     "name": "stderr",
     "output_type": "stream",
     "text": [
      "510it [00:03, 139.01it/s]                                                                                              \n"
     ]
    },
    {
     "name": "stdout",
     "output_type": "stream",
     "text": [
      "Saving results in D:\\Sidevideos\\AR34MOTOR\\2022_02_04...\n",
      "Saving csv poses!\n",
      "Starting to analyze %  D:\\Sidevideos\\AR34MOTOR\\2022_02_04\\40EYE.avi\n",
      "Loading  D:\\Sidevideos\\AR34MOTOR\\2022_02_04\\40EYE.avi\n",
      "Duration of video [s]:  12.5 , recorded with  40.0 fps!\n",
      "Overall # of frames:  500  found with (before cropping) frame dimensions:  200 200\n",
      "Starting to extract posture\n"
     ]
    },
    {
     "name": "stderr",
     "output_type": "stream",
     "text": [
      "510it [00:03, 140.29it/s]                                                                                              \n"
     ]
    },
    {
     "name": "stdout",
     "output_type": "stream",
     "text": [
      "Saving results in D:\\Sidevideos\\AR34MOTOR\\2022_02_04...\n",
      "Saving csv poses!\n",
      "Starting to analyze %  D:\\Sidevideos\\AR34MOTOR\\2022_02_04\\41EYE.avi\n",
      "Loading  D:\\Sidevideos\\AR34MOTOR\\2022_02_04\\41EYE.avi\n",
      "Duration of video [s]:  12.5 , recorded with  40.0 fps!\n",
      "Overall # of frames:  500  found with (before cropping) frame dimensions:  200 200\n",
      "Starting to extract posture\n"
     ]
    },
    {
     "name": "stderr",
     "output_type": "stream",
     "text": [
      "510it [00:03, 140.97it/s]                                                                                              \n"
     ]
    },
    {
     "name": "stdout",
     "output_type": "stream",
     "text": [
      "Saving results in D:\\Sidevideos\\AR34MOTOR\\2022_02_04...\n",
      "Saving csv poses!\n",
      "Starting to analyze %  D:\\Sidevideos\\AR34MOTOR\\2022_02_04\\42EYE.avi\n",
      "Loading  D:\\Sidevideos\\AR34MOTOR\\2022_02_04\\42EYE.avi\n",
      "Duration of video [s]:  12.5 , recorded with  40.0 fps!\n",
      "Overall # of frames:  500  found with (before cropping) frame dimensions:  200 200\n",
      "Starting to extract posture\n"
     ]
    },
    {
     "name": "stderr",
     "output_type": "stream",
     "text": [
      "510it [00:03, 139.36it/s]                                                                                              \n"
     ]
    },
    {
     "name": "stdout",
     "output_type": "stream",
     "text": [
      "Saving results in D:\\Sidevideos\\AR34MOTOR\\2022_02_04...\n",
      "Saving csv poses!\n",
      "Starting to analyze %  D:\\Sidevideos\\AR34MOTOR\\2022_02_04\\43EYE.avi\n",
      "Loading  D:\\Sidevideos\\AR34MOTOR\\2022_02_04\\43EYE.avi\n",
      "Duration of video [s]:  12.07 , recorded with  40.0 fps!\n",
      "Overall # of frames:  483  found with (before cropping) frame dimensions:  200 200\n",
      "Starting to extract posture\n"
     ]
    },
    {
     "name": "stderr",
     "output_type": "stream",
     "text": [
      "490it [00:03, 139.13it/s]                                                                                              \n"
     ]
    },
    {
     "name": "stdout",
     "output_type": "stream",
     "text": [
      "Saving results in D:\\Sidevideos\\AR34MOTOR\\2022_02_04...\n",
      "Saving csv poses!\n",
      "Starting to analyze %  D:\\Sidevideos\\AR34MOTOR\\2022_02_04\\44EYE.avi\n",
      "Loading  D:\\Sidevideos\\AR34MOTOR\\2022_02_04\\44EYE.avi\n",
      "Duration of video [s]:  12.38 , recorded with  40.0 fps!\n",
      "Overall # of frames:  495  found with (before cropping) frame dimensions:  200 200\n",
      "Starting to extract posture\n"
     ]
    },
    {
     "name": "stderr",
     "output_type": "stream",
     "text": [
      "500it [00:03, 138.32it/s]                                                                                              \n"
     ]
    },
    {
     "name": "stdout",
     "output_type": "stream",
     "text": [
      "Saving results in D:\\Sidevideos\\AR34MOTOR\\2022_02_04...\n",
      "Saving csv poses!\n",
      "Starting to analyze %  D:\\Sidevideos\\AR34MOTOR\\2022_02_04\\45EYE.avi\n",
      "Loading  D:\\Sidevideos\\AR34MOTOR\\2022_02_04\\45EYE.avi\n",
      "Duration of video [s]:  12.1 , recorded with  40.0 fps!\n",
      "Overall # of frames:  484  found with (before cropping) frame dimensions:  200 200\n",
      "Starting to extract posture\n"
     ]
    },
    {
     "name": "stderr",
     "output_type": "stream",
     "text": [
      "490it [00:03, 140.62it/s]                                                                                              \n"
     ]
    },
    {
     "name": "stdout",
     "output_type": "stream",
     "text": [
      "Saving results in D:\\Sidevideos\\AR34MOTOR\\2022_02_04...\n",
      "Saving csv poses!\n",
      "Starting to analyze %  D:\\Sidevideos\\AR34MOTOR\\2022_02_04\\46EYE.avi\n",
      "Loading  D:\\Sidevideos\\AR34MOTOR\\2022_02_04\\46EYE.avi\n",
      "Duration of video [s]:  12.5 , recorded with  40.0 fps!\n",
      "Overall # of frames:  500  found with (before cropping) frame dimensions:  200 200\n",
      "Starting to extract posture\n"
     ]
    },
    {
     "name": "stderr",
     "output_type": "stream",
     "text": [
      "510it [00:03, 140.72it/s]                                                                                              \n"
     ]
    },
    {
     "name": "stdout",
     "output_type": "stream",
     "text": [
      "Saving results in D:\\Sidevideos\\AR34MOTOR\\2022_02_04...\n",
      "Saving csv poses!\n",
      "Starting to analyze %  D:\\Sidevideos\\AR34MOTOR\\2022_02_04\\47EYE.avi\n",
      "Loading  D:\\Sidevideos\\AR34MOTOR\\2022_02_04\\47EYE.avi\n",
      "Duration of video [s]:  12.5 , recorded with  40.0 fps!\n",
      "Overall # of frames:  500  found with (before cropping) frame dimensions:  200 200\n",
      "Starting to extract posture\n"
     ]
    },
    {
     "name": "stderr",
     "output_type": "stream",
     "text": [
      "510it [00:03, 140.49it/s]                                                                                              \n"
     ]
    },
    {
     "name": "stdout",
     "output_type": "stream",
     "text": [
      "Saving results in D:\\Sidevideos\\AR34MOTOR\\2022_02_04...\n",
      "Saving csv poses!\n",
      "Starting to analyze %  D:\\Sidevideos\\AR34MOTOR\\2022_02_04\\48EYE.avi\n",
      "Loading  D:\\Sidevideos\\AR34MOTOR\\2022_02_04\\48EYE.avi\n",
      "Duration of video [s]:  12.5 , recorded with  40.0 fps!\n",
      "Overall # of frames:  500  found with (before cropping) frame dimensions:  200 200\n",
      "Starting to extract posture\n"
     ]
    },
    {
     "name": "stderr",
     "output_type": "stream",
     "text": [
      "510it [00:03, 138.98it/s]                                                                                              \n"
     ]
    },
    {
     "name": "stdout",
     "output_type": "stream",
     "text": [
      "Saving results in D:\\Sidevideos\\AR34MOTOR\\2022_02_04...\n",
      "Saving csv poses!\n",
      "Starting to analyze %  D:\\Sidevideos\\AR34MOTOR\\2022_02_04\\49EYE.avi\n",
      "Loading  D:\\Sidevideos\\AR34MOTOR\\2022_02_04\\49EYE.avi\n",
      "Duration of video [s]:  12.5 , recorded with  40.0 fps!\n",
      "Overall # of frames:  500  found with (before cropping) frame dimensions:  200 200\n",
      "Starting to extract posture\n"
     ]
    },
    {
     "name": "stderr",
     "output_type": "stream",
     "text": [
      "510it [00:03, 139.72it/s]                                                                                              \n"
     ]
    },
    {
     "name": "stdout",
     "output_type": "stream",
     "text": [
      "Saving results in D:\\Sidevideos\\AR34MOTOR\\2022_02_04...\n",
      "Saving csv poses!\n",
      "Starting to analyze %  D:\\Sidevideos\\AR34MOTOR\\2022_02_04\\4EYE.avi\n",
      "Loading  D:\\Sidevideos\\AR34MOTOR\\2022_02_04\\4EYE.avi\n",
      "Duration of video [s]:  12.38 , recorded with  40.0 fps!\n",
      "Overall # of frames:  495  found with (before cropping) frame dimensions:  200 200\n",
      "Starting to extract posture\n"
     ]
    },
    {
     "name": "stderr",
     "output_type": "stream",
     "text": [
      "500it [00:03, 139.98it/s]                                                                                              \n"
     ]
    },
    {
     "name": "stdout",
     "output_type": "stream",
     "text": [
      "Saving results in D:\\Sidevideos\\AR34MOTOR\\2022_02_04...\n",
      "Saving csv poses!\n",
      "Starting to analyze %  D:\\Sidevideos\\AR34MOTOR\\2022_02_04\\50EYE.avi\n",
      "Loading  D:\\Sidevideos\\AR34MOTOR\\2022_02_04\\50EYE.avi\n",
      "Duration of video [s]:  12.5 , recorded with  40.0 fps!\n",
      "Overall # of frames:  500  found with (before cropping) frame dimensions:  200 200\n",
      "Starting to extract posture\n"
     ]
    },
    {
     "name": "stderr",
     "output_type": "stream",
     "text": [
      "510it [00:03, 139.41it/s]                                                                                              \n"
     ]
    },
    {
     "name": "stdout",
     "output_type": "stream",
     "text": [
      "Saving results in D:\\Sidevideos\\AR34MOTOR\\2022_02_04...\n",
      "Saving csv poses!\n",
      "Starting to analyze %  D:\\Sidevideos\\AR34MOTOR\\2022_02_04\\51EYE.avi\n",
      "Loading  D:\\Sidevideos\\AR34MOTOR\\2022_02_04\\51EYE.avi\n",
      "Duration of video [s]:  12.45 , recorded with  40.0 fps!\n",
      "Overall # of frames:  498  found with (before cropping) frame dimensions:  200 200\n",
      "Starting to extract posture\n"
     ]
    },
    {
     "name": "stderr",
     "output_type": "stream",
     "text": [
      "500it [00:03, 136.26it/s]                                                                                              \n"
     ]
    },
    {
     "name": "stdout",
     "output_type": "stream",
     "text": [
      "Saving results in D:\\Sidevideos\\AR34MOTOR\\2022_02_04...\n",
      "Saving csv poses!\n",
      "Starting to analyze %  D:\\Sidevideos\\AR34MOTOR\\2022_02_04\\52EYE.avi\n",
      "Loading  D:\\Sidevideos\\AR34MOTOR\\2022_02_04\\52EYE.avi\n",
      "Duration of video [s]:  12.05 , recorded with  40.0 fps!\n",
      "Overall # of frames:  482  found with (before cropping) frame dimensions:  200 200\n",
      "Starting to extract posture\n"
     ]
    },
    {
     "name": "stderr",
     "output_type": "stream",
     "text": [
      "490it [00:03, 138.12it/s]                                                                                              \n"
     ]
    },
    {
     "name": "stdout",
     "output_type": "stream",
     "text": [
      "Saving results in D:\\Sidevideos\\AR34MOTOR\\2022_02_04...\n",
      "Saving csv poses!\n",
      "Starting to analyze %  D:\\Sidevideos\\AR34MOTOR\\2022_02_04\\53EYE.avi\n",
      "Loading  D:\\Sidevideos\\AR34MOTOR\\2022_02_04\\53EYE.avi\n",
      "Duration of video [s]:  12.5 , recorded with  40.0 fps!\n",
      "Overall # of frames:  500  found with (before cropping) frame dimensions:  200 200\n",
      "Starting to extract posture\n"
     ]
    },
    {
     "name": "stderr",
     "output_type": "stream",
     "text": [
      "510it [00:03, 139.39it/s]                                                                                              \n"
     ]
    },
    {
     "name": "stdout",
     "output_type": "stream",
     "text": [
      "Saving results in D:\\Sidevideos\\AR34MOTOR\\2022_02_04...\n",
      "Saving csv poses!\n",
      "Starting to analyze %  D:\\Sidevideos\\AR34MOTOR\\2022_02_04\\54EYE.avi\n",
      "Loading  D:\\Sidevideos\\AR34MOTOR\\2022_02_04\\54EYE.avi\n",
      "Duration of video [s]:  12.5 , recorded with  40.0 fps!\n",
      "Overall # of frames:  500  found with (before cropping) frame dimensions:  200 200\n",
      "Starting to extract posture\n"
     ]
    },
    {
     "name": "stderr",
     "output_type": "stream",
     "text": [
      "510it [00:03, 139.70it/s]                                                                                              \n"
     ]
    },
    {
     "name": "stdout",
     "output_type": "stream",
     "text": [
      "Saving results in D:\\Sidevideos\\AR34MOTOR\\2022_02_04...\n",
      "Saving csv poses!\n",
      "Starting to analyze %  D:\\Sidevideos\\AR34MOTOR\\2022_02_04\\55EYE.avi\n",
      "Loading  D:\\Sidevideos\\AR34MOTOR\\2022_02_04\\55EYE.avi\n",
      "Duration of video [s]:  12.25 , recorded with  40.0 fps!\n",
      "Overall # of frames:  490  found with (before cropping) frame dimensions:  200 200\n",
      "Starting to extract posture\n"
     ]
    },
    {
     "name": "stderr",
     "output_type": "stream",
     "text": [
      "500it [00:03, 138.14it/s]                                                                                              \n"
     ]
    },
    {
     "name": "stdout",
     "output_type": "stream",
     "text": [
      "Saving results in D:\\Sidevideos\\AR34MOTOR\\2022_02_04...\n",
      "Saving csv poses!\n",
      "Starting to analyze %  D:\\Sidevideos\\AR34MOTOR\\2022_02_04\\56EYE.avi\n",
      "Loading  D:\\Sidevideos\\AR34MOTOR\\2022_02_04\\56EYE.avi\n",
      "Duration of video [s]:  12.5 , recorded with  40.0 fps!\n",
      "Overall # of frames:  500  found with (before cropping) frame dimensions:  200 200\n",
      "Starting to extract posture\n"
     ]
    },
    {
     "name": "stderr",
     "output_type": "stream",
     "text": [
      "510it [00:03, 139.25it/s]                                                                                              \n"
     ]
    },
    {
     "name": "stdout",
     "output_type": "stream",
     "text": [
      "Saving results in D:\\Sidevideos\\AR34MOTOR\\2022_02_04...\n",
      "Saving csv poses!\n",
      "Starting to analyze %  D:\\Sidevideos\\AR34MOTOR\\2022_02_04\\57EYE.avi\n",
      "Loading  D:\\Sidevideos\\AR34MOTOR\\2022_02_04\\57EYE.avi\n",
      "Duration of video [s]:  12.5 , recorded with  40.0 fps!\n",
      "Overall # of frames:  500  found with (before cropping) frame dimensions:  200 200\n",
      "Starting to extract posture\n"
     ]
    },
    {
     "name": "stderr",
     "output_type": "stream",
     "text": [
      "510it [00:03, 140.87it/s]                                                                                              \n"
     ]
    },
    {
     "name": "stdout",
     "output_type": "stream",
     "text": [
      "Saving results in D:\\Sidevideos\\AR34MOTOR\\2022_02_04...\n",
      "Saving csv poses!\n",
      "Starting to analyze %  D:\\Sidevideos\\AR34MOTOR\\2022_02_04\\58EYE.avi\n",
      "Loading  D:\\Sidevideos\\AR34MOTOR\\2022_02_04\\58EYE.avi\n",
      "Duration of video [s]:  11.68 , recorded with  40.0 fps!\n",
      "Overall # of frames:  467  found with (before cropping) frame dimensions:  200 200\n",
      "Starting to extract posture\n"
     ]
    },
    {
     "name": "stderr",
     "output_type": "stream",
     "text": [
      "470it [00:03, 136.89it/s]                                                                                              \n"
     ]
    },
    {
     "name": "stdout",
     "output_type": "stream",
     "text": [
      "Saving results in D:\\Sidevideos\\AR34MOTOR\\2022_02_04...\n",
      "Saving csv poses!\n",
      "Starting to analyze %  D:\\Sidevideos\\AR34MOTOR\\2022_02_04\\59EYE.avi\n",
      "Loading  D:\\Sidevideos\\AR34MOTOR\\2022_02_04\\59EYE.avi\n",
      "Duration of video [s]:  12.5 , recorded with  40.0 fps!\n",
      "Overall # of frames:  500  found with (before cropping) frame dimensions:  200 200\n",
      "Starting to extract posture\n"
     ]
    },
    {
     "name": "stderr",
     "output_type": "stream",
     "text": [
      "510it [00:03, 139.39it/s]                                                                                              \n"
     ]
    },
    {
     "name": "stdout",
     "output_type": "stream",
     "text": [
      "Saving results in D:\\Sidevideos\\AR34MOTOR\\2022_02_04...\n",
      "Saving csv poses!\n",
      "Starting to analyze %  D:\\Sidevideos\\AR34MOTOR\\2022_02_04\\5EYE.avi\n",
      "Loading  D:\\Sidevideos\\AR34MOTOR\\2022_02_04\\5EYE.avi\n",
      "Duration of video [s]:  12.5 , recorded with  40.0 fps!\n",
      "Overall # of frames:  500  found with (before cropping) frame dimensions:  200 200\n",
      "Starting to extract posture\n"
     ]
    },
    {
     "name": "stderr",
     "output_type": "stream",
     "text": [
      "510it [00:03, 141.03it/s]                                                                                              \n"
     ]
    },
    {
     "name": "stdout",
     "output_type": "stream",
     "text": [
      "Saving results in D:\\Sidevideos\\AR34MOTOR\\2022_02_04...\n",
      "Saving csv poses!\n",
      "Starting to analyze %  D:\\Sidevideos\\AR34MOTOR\\2022_02_04\\60EYE.avi\n",
      "Loading  D:\\Sidevideos\\AR34MOTOR\\2022_02_04\\60EYE.avi\n",
      "Duration of video [s]:  12.5 , recorded with  40.0 fps!\n",
      "Overall # of frames:  500  found with (before cropping) frame dimensions:  200 200\n",
      "Starting to extract posture\n"
     ]
    },
    {
     "name": "stderr",
     "output_type": "stream",
     "text": [
      "510it [00:03, 140.66it/s]                                                                                              \n"
     ]
    },
    {
     "name": "stdout",
     "output_type": "stream",
     "text": [
      "Saving results in D:\\Sidevideos\\AR34MOTOR\\2022_02_04...\n",
      "Saving csv poses!\n",
      "Starting to analyze %  D:\\Sidevideos\\AR34MOTOR\\2022_02_04\\61EYE.avi\n",
      "Loading  D:\\Sidevideos\\AR34MOTOR\\2022_02_04\\61EYE.avi\n",
      "Duration of video [s]:  12.5 , recorded with  40.0 fps!\n",
      "Overall # of frames:  500  found with (before cropping) frame dimensions:  200 200\n",
      "Starting to extract posture\n"
     ]
    },
    {
     "name": "stderr",
     "output_type": "stream",
     "text": [
      "510it [00:03, 137.55it/s]                                                                                              \n"
     ]
    },
    {
     "name": "stdout",
     "output_type": "stream",
     "text": [
      "Saving results in D:\\Sidevideos\\AR34MOTOR\\2022_02_04...\n",
      "Saving csv poses!\n",
      "Starting to analyze %  D:\\Sidevideos\\AR34MOTOR\\2022_02_04\\62EYE.avi\n",
      "Loading  D:\\Sidevideos\\AR34MOTOR\\2022_02_04\\62EYE.avi\n",
      "Duration of video [s]:  12.5 , recorded with  40.0 fps!\n",
      "Overall # of frames:  500  found with (before cropping) frame dimensions:  200 200\n",
      "Starting to extract posture\n"
     ]
    },
    {
     "name": "stderr",
     "output_type": "stream",
     "text": [
      "510it [00:03, 140.62it/s]                                                                                              \n"
     ]
    },
    {
     "name": "stdout",
     "output_type": "stream",
     "text": [
      "Saving results in D:\\Sidevideos\\AR34MOTOR\\2022_02_04...\n",
      "Saving csv poses!\n",
      "Starting to analyze %  D:\\Sidevideos\\AR34MOTOR\\2022_02_04\\63EYE.avi\n",
      "Loading  D:\\Sidevideos\\AR34MOTOR\\2022_02_04\\63EYE.avi\n",
      "Duration of video [s]:  12.5 , recorded with  40.0 fps!\n",
      "Overall # of frames:  500  found with (before cropping) frame dimensions:  200 200\n",
      "Starting to extract posture\n"
     ]
    },
    {
     "name": "stderr",
     "output_type": "stream",
     "text": [
      "510it [00:03, 140.60it/s]                                                                                              \n"
     ]
    },
    {
     "name": "stdout",
     "output_type": "stream",
     "text": [
      "Saving results in D:\\Sidevideos\\AR34MOTOR\\2022_02_04...\n",
      "Saving csv poses!\n",
      "Starting to analyze %  D:\\Sidevideos\\AR34MOTOR\\2022_02_04\\64EYE.avi\n",
      "Loading  D:\\Sidevideos\\AR34MOTOR\\2022_02_04\\64EYE.avi\n",
      "Duration of video [s]:  12.5 , recorded with  40.0 fps!\n",
      "Overall # of frames:  500  found with (before cropping) frame dimensions:  200 200\n",
      "Starting to extract posture\n"
     ]
    },
    {
     "name": "stderr",
     "output_type": "stream",
     "text": [
      "510it [00:03, 138.11it/s]                                                                                              \n"
     ]
    },
    {
     "name": "stdout",
     "output_type": "stream",
     "text": [
      "Saving results in D:\\Sidevideos\\AR34MOTOR\\2022_02_04...\n",
      "Saving csv poses!\n",
      "Starting to analyze %  D:\\Sidevideos\\AR34MOTOR\\2022_02_04\\65EYE.avi\n",
      "Loading  D:\\Sidevideos\\AR34MOTOR\\2022_02_04\\65EYE.avi\n",
      "Duration of video [s]:  12.5 , recorded with  40.0 fps!\n",
      "Overall # of frames:  500  found with (before cropping) frame dimensions:  200 200\n",
      "Starting to extract posture\n"
     ]
    },
    {
     "name": "stderr",
     "output_type": "stream",
     "text": [
      "510it [00:03, 138.62it/s]                                                                                              \n"
     ]
    },
    {
     "name": "stdout",
     "output_type": "stream",
     "text": [
      "Saving results in D:\\Sidevideos\\AR34MOTOR\\2022_02_04...\n",
      "Saving csv poses!\n",
      "Starting to analyze %  D:\\Sidevideos\\AR34MOTOR\\2022_02_04\\66EYE.avi\n",
      "Loading  D:\\Sidevideos\\AR34MOTOR\\2022_02_04\\66EYE.avi\n",
      "Duration of video [s]:  12.5 , recorded with  40.0 fps!\n",
      "Overall # of frames:  500  found with (before cropping) frame dimensions:  200 200\n",
      "Starting to extract posture\n"
     ]
    },
    {
     "name": "stderr",
     "output_type": "stream",
     "text": [
      "510it [00:03, 138.63it/s]                                                                                              \n"
     ]
    },
    {
     "name": "stdout",
     "output_type": "stream",
     "text": [
      "Saving results in D:\\Sidevideos\\AR34MOTOR\\2022_02_04...\n",
      "Saving csv poses!\n",
      "Starting to analyze %  D:\\Sidevideos\\AR34MOTOR\\2022_02_04\\67EYE.avi\n",
      "Loading  D:\\Sidevideos\\AR34MOTOR\\2022_02_04\\67EYE.avi\n",
      "Duration of video [s]:  12.5 , recorded with  40.0 fps!\n",
      "Overall # of frames:  500  found with (before cropping) frame dimensions:  200 200\n",
      "Starting to extract posture\n"
     ]
    },
    {
     "name": "stderr",
     "output_type": "stream",
     "text": [
      "510it [00:03, 140.40it/s]                                                                                              \n"
     ]
    },
    {
     "name": "stdout",
     "output_type": "stream",
     "text": [
      "Saving results in D:\\Sidevideos\\AR34MOTOR\\2022_02_04...\n",
      "Saving csv poses!\n",
      "Starting to analyze %  D:\\Sidevideos\\AR34MOTOR\\2022_02_04\\68EYE.avi\n",
      "Loading  D:\\Sidevideos\\AR34MOTOR\\2022_02_04\\68EYE.avi\n",
      "Duration of video [s]:  12.5 , recorded with  40.0 fps!\n",
      "Overall # of frames:  500  found with (before cropping) frame dimensions:  200 200\n",
      "Starting to extract posture\n"
     ]
    },
    {
     "name": "stderr",
     "output_type": "stream",
     "text": [
      "510it [00:03, 139.71it/s]                                                                                              \n"
     ]
    },
    {
     "name": "stdout",
     "output_type": "stream",
     "text": [
      "Saving results in D:\\Sidevideos\\AR34MOTOR\\2022_02_04...\n",
      "Saving csv poses!\n",
      "Starting to analyze %  D:\\Sidevideos\\AR34MOTOR\\2022_02_04\\69EYE.avi\n",
      "Loading  D:\\Sidevideos\\AR34MOTOR\\2022_02_04\\69EYE.avi\n",
      "Duration of video [s]:  12.5 , recorded with  40.0 fps!\n",
      "Overall # of frames:  500  found with (before cropping) frame dimensions:  200 200\n",
      "Starting to extract posture\n"
     ]
    },
    {
     "name": "stderr",
     "output_type": "stream",
     "text": [
      "510it [00:03, 139.58it/s]                                                                                              \n"
     ]
    },
    {
     "name": "stdout",
     "output_type": "stream",
     "text": [
      "Saving results in D:\\Sidevideos\\AR34MOTOR\\2022_02_04...\n",
      "Saving csv poses!\n",
      "Starting to analyze %  D:\\Sidevideos\\AR34MOTOR\\2022_02_04\\6EYE.avi\n",
      "Loading  D:\\Sidevideos\\AR34MOTOR\\2022_02_04\\6EYE.avi\n",
      "Duration of video [s]:  12.5 , recorded with  40.0 fps!\n",
      "Overall # of frames:  500  found with (before cropping) frame dimensions:  200 200\n",
      "Starting to extract posture\n"
     ]
    },
    {
     "name": "stderr",
     "output_type": "stream",
     "text": [
      "510it [00:03, 140.47it/s]                                                                                              \n"
     ]
    },
    {
     "name": "stdout",
     "output_type": "stream",
     "text": [
      "Saving results in D:\\Sidevideos\\AR34MOTOR\\2022_02_04...\n",
      "Saving csv poses!\n",
      "Starting to analyze %  D:\\Sidevideos\\AR34MOTOR\\2022_02_04\\70EYE.avi\n",
      "Loading  D:\\Sidevideos\\AR34MOTOR\\2022_02_04\\70EYE.avi\n",
      "Duration of video [s]:  12.5 , recorded with  40.0 fps!\n",
      "Overall # of frames:  500  found with (before cropping) frame dimensions:  200 200\n",
      "Starting to extract posture\n"
     ]
    },
    {
     "name": "stderr",
     "output_type": "stream",
     "text": [
      "510it [00:03, 139.61it/s]                                                                                              \n"
     ]
    },
    {
     "name": "stdout",
     "output_type": "stream",
     "text": [
      "Saving results in D:\\Sidevideos\\AR34MOTOR\\2022_02_04...\n",
      "Saving csv poses!\n",
      "Starting to analyze %  D:\\Sidevideos\\AR34MOTOR\\2022_02_04\\71EYE.avi\n",
      "Loading  D:\\Sidevideos\\AR34MOTOR\\2022_02_04\\71EYE.avi\n",
      "Duration of video [s]:  12.5 , recorded with  40.0 fps!\n",
      "Overall # of frames:  500  found with (before cropping) frame dimensions:  200 200\n",
      "Starting to extract posture\n"
     ]
    },
    {
     "name": "stderr",
     "output_type": "stream",
     "text": [
      "510it [00:03, 139.52it/s]                                                                                              \n"
     ]
    },
    {
     "name": "stdout",
     "output_type": "stream",
     "text": [
      "Saving results in D:\\Sidevideos\\AR34MOTOR\\2022_02_04...\n",
      "Saving csv poses!\n",
      "Starting to analyze %  D:\\Sidevideos\\AR34MOTOR\\2022_02_04\\72EYE.avi\n",
      "Loading  D:\\Sidevideos\\AR34MOTOR\\2022_02_04\\72EYE.avi\n",
      "Duration of video [s]:  12.5 , recorded with  40.0 fps!\n",
      "Overall # of frames:  500  found with (before cropping) frame dimensions:  200 200\n",
      "Starting to extract posture\n"
     ]
    },
    {
     "name": "stderr",
     "output_type": "stream",
     "text": [
      "510it [00:03, 138.85it/s]                                                                                              \n"
     ]
    },
    {
     "name": "stdout",
     "output_type": "stream",
     "text": [
      "Saving results in D:\\Sidevideos\\AR34MOTOR\\2022_02_04...\n",
      "Saving csv poses!\n",
      "Starting to analyze %  D:\\Sidevideos\\AR34MOTOR\\2022_02_04\\73EYE.avi\n",
      "Loading  D:\\Sidevideos\\AR34MOTOR\\2022_02_04\\73EYE.avi\n",
      "Duration of video [s]:  12.5 , recorded with  40.0 fps!\n",
      "Overall # of frames:  500  found with (before cropping) frame dimensions:  200 200\n",
      "Starting to extract posture\n"
     ]
    },
    {
     "name": "stderr",
     "output_type": "stream",
     "text": [
      "510it [00:03, 140.61it/s]                                                                                              \n"
     ]
    },
    {
     "name": "stdout",
     "output_type": "stream",
     "text": [
      "Saving results in D:\\Sidevideos\\AR34MOTOR\\2022_02_04...\n",
      "Saving csv poses!\n",
      "Starting to analyze %  D:\\Sidevideos\\AR34MOTOR\\2022_02_04\\74EYE.avi\n",
      "Loading  D:\\Sidevideos\\AR34MOTOR\\2022_02_04\\74EYE.avi\n",
      "Duration of video [s]:  12.5 , recorded with  40.0 fps!\n",
      "Overall # of frames:  500  found with (before cropping) frame dimensions:  200 200\n",
      "Starting to extract posture\n"
     ]
    },
    {
     "name": "stderr",
     "output_type": "stream",
     "text": [
      "510it [00:03, 139.81it/s]                                                                                              \n"
     ]
    },
    {
     "name": "stdout",
     "output_type": "stream",
     "text": [
      "Saving results in D:\\Sidevideos\\AR34MOTOR\\2022_02_04...\n",
      "Saving csv poses!\n",
      "Starting to analyze %  D:\\Sidevideos\\AR34MOTOR\\2022_02_04\\75EYE.avi\n",
      "Loading  D:\\Sidevideos\\AR34MOTOR\\2022_02_04\\75EYE.avi\n",
      "Duration of video [s]:  12.3 , recorded with  40.0 fps!\n",
      "Overall # of frames:  492  found with (before cropping) frame dimensions:  200 200\n",
      "Starting to extract posture\n"
     ]
    },
    {
     "name": "stderr",
     "output_type": "stream",
     "text": [
      "500it [00:03, 140.28it/s]                                                                                              \n"
     ]
    },
    {
     "name": "stdout",
     "output_type": "stream",
     "text": [
      "Saving results in D:\\Sidevideos\\AR34MOTOR\\2022_02_04...\n",
      "Saving csv poses!\n",
      "Starting to analyze %  D:\\Sidevideos\\AR34MOTOR\\2022_02_04\\76EYE.avi\n",
      "Loading  D:\\Sidevideos\\AR34MOTOR\\2022_02_04\\76EYE.avi\n",
      "Duration of video [s]:  12.1 , recorded with  40.0 fps!\n",
      "Overall # of frames:  484  found with (before cropping) frame dimensions:  200 200\n",
      "Starting to extract posture\n"
     ]
    },
    {
     "name": "stderr",
     "output_type": "stream",
     "text": [
      "490it [00:03, 137.66it/s]                                                                                              \n"
     ]
    },
    {
     "name": "stdout",
     "output_type": "stream",
     "text": [
      "Saving results in D:\\Sidevideos\\AR34MOTOR\\2022_02_04...\n",
      "Saving csv poses!\n",
      "Starting to analyze %  D:\\Sidevideos\\AR34MOTOR\\2022_02_04\\77EYE.avi\n",
      "Loading  D:\\Sidevideos\\AR34MOTOR\\2022_02_04\\77EYE.avi\n",
      "Duration of video [s]:  12.5 , recorded with  40.0 fps!\n",
      "Overall # of frames:  500  found with (before cropping) frame dimensions:  200 200\n",
      "Starting to extract posture\n"
     ]
    },
    {
     "name": "stderr",
     "output_type": "stream",
     "text": [
      "510it [00:03, 140.09it/s]                                                                                              \n"
     ]
    },
    {
     "name": "stdout",
     "output_type": "stream",
     "text": [
      "Saving results in D:\\Sidevideos\\AR34MOTOR\\2022_02_04...\n",
      "Saving csv poses!\n",
      "Starting to analyze %  D:\\Sidevideos\\AR34MOTOR\\2022_02_04\\78EYE.avi\n",
      "Loading  D:\\Sidevideos\\AR34MOTOR\\2022_02_04\\78EYE.avi\n",
      "Duration of video [s]:  12.15 , recorded with  40.0 fps!\n",
      "Overall # of frames:  486  found with (before cropping) frame dimensions:  200 200\n",
      "Starting to extract posture\n"
     ]
    },
    {
     "name": "stderr",
     "output_type": "stream",
     "text": [
      "490it [00:03, 139.13it/s]                                                                                              \n"
     ]
    },
    {
     "name": "stdout",
     "output_type": "stream",
     "text": [
      "Saving results in D:\\Sidevideos\\AR34MOTOR\\2022_02_04...\n",
      "Saving csv poses!\n",
      "Starting to analyze %  D:\\Sidevideos\\AR34MOTOR\\2022_02_04\\79EYE.avi\n",
      "Loading  D:\\Sidevideos\\AR34MOTOR\\2022_02_04\\79EYE.avi\n",
      "Duration of video [s]:  12.5 , recorded with  40.0 fps!\n",
      "Overall # of frames:  500  found with (before cropping) frame dimensions:  200 200\n",
      "Starting to extract posture\n"
     ]
    },
    {
     "name": "stderr",
     "output_type": "stream",
     "text": [
      "510it [00:03, 139.47it/s]                                                                                              \n"
     ]
    },
    {
     "name": "stdout",
     "output_type": "stream",
     "text": [
      "Saving results in D:\\Sidevideos\\AR34MOTOR\\2022_02_04...\n",
      "Saving csv poses!\n",
      "Starting to analyze %  D:\\Sidevideos\\AR34MOTOR\\2022_02_04\\7EYE.avi\n",
      "Loading  D:\\Sidevideos\\AR34MOTOR\\2022_02_04\\7EYE.avi\n",
      "Duration of video [s]:  12.5 , recorded with  40.0 fps!\n",
      "Overall # of frames:  500  found with (before cropping) frame dimensions:  200 200\n",
      "Starting to extract posture\n"
     ]
    },
    {
     "name": "stderr",
     "output_type": "stream",
     "text": [
      "510it [00:03, 139.14it/s]                                                                                              \n"
     ]
    },
    {
     "name": "stdout",
     "output_type": "stream",
     "text": [
      "Saving results in D:\\Sidevideos\\AR34MOTOR\\2022_02_04...\n",
      "Saving csv poses!\n",
      "Starting to analyze %  D:\\Sidevideos\\AR34MOTOR\\2022_02_04\\80EYE.avi\n",
      "Loading  D:\\Sidevideos\\AR34MOTOR\\2022_02_04\\80EYE.avi\n",
      "Duration of video [s]:  12.5 , recorded with  40.0 fps!\n",
      "Overall # of frames:  500  found with (before cropping) frame dimensions:  200 200\n",
      "Starting to extract posture\n"
     ]
    },
    {
     "name": "stderr",
     "output_type": "stream",
     "text": [
      "510it [00:03, 141.54it/s]                                                                                              \n"
     ]
    },
    {
     "name": "stdout",
     "output_type": "stream",
     "text": [
      "Saving results in D:\\Sidevideos\\AR34MOTOR\\2022_02_04...\n",
      "Saving csv poses!\n",
      "Starting to analyze %  D:\\Sidevideos\\AR34MOTOR\\2022_02_04\\81EYE.avi\n",
      "Loading  D:\\Sidevideos\\AR34MOTOR\\2022_02_04\\81EYE.avi\n",
      "Duration of video [s]:  12.5 , recorded with  40.0 fps!\n",
      "Overall # of frames:  500  found with (before cropping) frame dimensions:  200 200\n",
      "Starting to extract posture\n"
     ]
    },
    {
     "name": "stderr",
     "output_type": "stream",
     "text": [
      "510it [00:03, 140.65it/s]                                                                                              \n"
     ]
    },
    {
     "name": "stdout",
     "output_type": "stream",
     "text": [
      "Saving results in D:\\Sidevideos\\AR34MOTOR\\2022_02_04...\n",
      "Saving csv poses!\n",
      "Starting to analyze %  D:\\Sidevideos\\AR34MOTOR\\2022_02_04\\82EYE.avi\n",
      "Loading  D:\\Sidevideos\\AR34MOTOR\\2022_02_04\\82EYE.avi\n",
      "Duration of video [s]:  12.5 , recorded with  40.0 fps!\n",
      "Overall # of frames:  500  found with (before cropping) frame dimensions:  200 200\n",
      "Starting to extract posture\n"
     ]
    },
    {
     "name": "stderr",
     "output_type": "stream",
     "text": [
      "510it [00:03, 140.54it/s]                                                                                              \n"
     ]
    },
    {
     "name": "stdout",
     "output_type": "stream",
     "text": [
      "Saving results in D:\\Sidevideos\\AR34MOTOR\\2022_02_04...\n",
      "Saving csv poses!\n",
      "Starting to analyze %  D:\\Sidevideos\\AR34MOTOR\\2022_02_04\\83EYE.avi\n",
      "Loading  D:\\Sidevideos\\AR34MOTOR\\2022_02_04\\83EYE.avi\n",
      "Duration of video [s]:  12.5 , recorded with  40.0 fps!\n",
      "Overall # of frames:  500  found with (before cropping) frame dimensions:  200 200\n",
      "Starting to extract posture\n"
     ]
    },
    {
     "name": "stderr",
     "output_type": "stream",
     "text": [
      "510it [00:03, 139.15it/s]                                                                                              \n"
     ]
    },
    {
     "name": "stdout",
     "output_type": "stream",
     "text": [
      "Saving results in D:\\Sidevideos\\AR34MOTOR\\2022_02_04...\n",
      "Saving csv poses!\n",
      "Starting to analyze %  D:\\Sidevideos\\AR34MOTOR\\2022_02_04\\84EYE.avi\n",
      "Loading  D:\\Sidevideos\\AR34MOTOR\\2022_02_04\\84EYE.avi\n",
      "Duration of video [s]:  12.5 , recorded with  40.0 fps!\n",
      "Overall # of frames:  500  found with (before cropping) frame dimensions:  200 200\n",
      "Starting to extract posture\n"
     ]
    },
    {
     "name": "stderr",
     "output_type": "stream",
     "text": [
      "510it [00:03, 139.26it/s]                                                                                              \n"
     ]
    },
    {
     "name": "stdout",
     "output_type": "stream",
     "text": [
      "Saving results in D:\\Sidevideos\\AR34MOTOR\\2022_02_04...\n",
      "Saving csv poses!\n",
      "Starting to analyze %  D:\\Sidevideos\\AR34MOTOR\\2022_02_04\\85EYE.avi\n",
      "Loading  D:\\Sidevideos\\AR34MOTOR\\2022_02_04\\85EYE.avi\n",
      "Duration of video [s]:  12.5 , recorded with  40.0 fps!\n",
      "Overall # of frames:  500  found with (before cropping) frame dimensions:  200 200\n",
      "Starting to extract posture\n"
     ]
    },
    {
     "name": "stderr",
     "output_type": "stream",
     "text": [
      "510it [00:03, 139.45it/s]                                                                                              \n"
     ]
    },
    {
     "name": "stdout",
     "output_type": "stream",
     "text": [
      "Saving results in D:\\Sidevideos\\AR34MOTOR\\2022_02_04...\n",
      "Saving csv poses!\n",
      "Starting to analyze %  D:\\Sidevideos\\AR34MOTOR\\2022_02_04\\86EYE.avi\n",
      "Loading  D:\\Sidevideos\\AR34MOTOR\\2022_02_04\\86EYE.avi\n",
      "Duration of video [s]:  12.5 , recorded with  40.0 fps!\n",
      "Overall # of frames:  500  found with (before cropping) frame dimensions:  200 200\n",
      "Starting to extract posture\n"
     ]
    },
    {
     "name": "stderr",
     "output_type": "stream",
     "text": [
      "510it [00:03, 138.28it/s]                                                                                              \n"
     ]
    },
    {
     "name": "stdout",
     "output_type": "stream",
     "text": [
      "Saving results in D:\\Sidevideos\\AR34MOTOR\\2022_02_04...\n",
      "Saving csv poses!\n",
      "Starting to analyze %  D:\\Sidevideos\\AR34MOTOR\\2022_02_04\\87EYE.avi\n",
      "Loading  D:\\Sidevideos\\AR34MOTOR\\2022_02_04\\87EYE.avi\n",
      "Duration of video [s]:  12.5 , recorded with  40.0 fps!\n",
      "Overall # of frames:  500  found with (before cropping) frame dimensions:  200 200\n",
      "Starting to extract posture\n"
     ]
    },
    {
     "name": "stderr",
     "output_type": "stream",
     "text": [
      "510it [00:03, 141.26it/s]                                                                                              \n"
     ]
    },
    {
     "name": "stdout",
     "output_type": "stream",
     "text": [
      "Saving results in D:\\Sidevideos\\AR34MOTOR\\2022_02_04...\n",
      "Saving csv poses!\n",
      "Starting to analyze %  D:\\Sidevideos\\AR34MOTOR\\2022_02_04\\88EYE.avi\n",
      "Loading  D:\\Sidevideos\\AR34MOTOR\\2022_02_04\\88EYE.avi\n",
      "Duration of video [s]:  12.5 , recorded with  40.0 fps!\n",
      "Overall # of frames:  500  found with (before cropping) frame dimensions:  200 200\n",
      "Starting to extract posture\n"
     ]
    },
    {
     "name": "stderr",
     "output_type": "stream",
     "text": [
      "510it [00:03, 141.64it/s]                                                                                              \n"
     ]
    },
    {
     "name": "stdout",
     "output_type": "stream",
     "text": [
      "Saving results in D:\\Sidevideos\\AR34MOTOR\\2022_02_04...\n",
      "Saving csv poses!\n",
      "Starting to analyze %  D:\\Sidevideos\\AR34MOTOR\\2022_02_04\\89EYE.avi\n",
      "Loading  D:\\Sidevideos\\AR34MOTOR\\2022_02_04\\89EYE.avi\n",
      "Duration of video [s]:  12.5 , recorded with  40.0 fps!\n",
      "Overall # of frames:  500  found with (before cropping) frame dimensions:  200 200\n",
      "Starting to extract posture\n"
     ]
    },
    {
     "name": "stderr",
     "output_type": "stream",
     "text": [
      "510it [00:03, 140.44it/s]                                                                                              \n"
     ]
    },
    {
     "name": "stdout",
     "output_type": "stream",
     "text": [
      "Saving results in D:\\Sidevideos\\AR34MOTOR\\2022_02_04...\n",
      "Saving csv poses!\n",
      "Starting to analyze %  D:\\Sidevideos\\AR34MOTOR\\2022_02_04\\8EYE.avi\n",
      "Loading  D:\\Sidevideos\\AR34MOTOR\\2022_02_04\\8EYE.avi\n",
      "Duration of video [s]:  12.15 , recorded with  40.0 fps!\n",
      "Overall # of frames:  486  found with (before cropping) frame dimensions:  200 200\n",
      "Starting to extract posture\n"
     ]
    },
    {
     "name": "stderr",
     "output_type": "stream",
     "text": [
      "490it [00:03, 139.62it/s]                                                                                              \n"
     ]
    },
    {
     "name": "stdout",
     "output_type": "stream",
     "text": [
      "Saving results in D:\\Sidevideos\\AR34MOTOR\\2022_02_04...\n",
      "Saving csv poses!\n",
      "Starting to analyze %  D:\\Sidevideos\\AR34MOTOR\\2022_02_04\\90EYE.avi\n",
      "Loading  D:\\Sidevideos\\AR34MOTOR\\2022_02_04\\90EYE.avi\n",
      "Duration of video [s]:  12.5 , recorded with  40.0 fps!\n",
      "Overall # of frames:  500  found with (before cropping) frame dimensions:  200 200\n",
      "Starting to extract posture\n"
     ]
    },
    {
     "name": "stderr",
     "output_type": "stream",
     "text": [
      "510it [00:03, 141.52it/s]                                                                                              \n"
     ]
    },
    {
     "name": "stdout",
     "output_type": "stream",
     "text": [
      "Saving results in D:\\Sidevideos\\AR34MOTOR\\2022_02_04...\n",
      "Saving csv poses!\n",
      "Starting to analyze %  D:\\Sidevideos\\AR34MOTOR\\2022_02_04\\91EYE.avi\n",
      "Loading  D:\\Sidevideos\\AR34MOTOR\\2022_02_04\\91EYE.avi\n",
      "Duration of video [s]:  12.5 , recorded with  40.0 fps!\n",
      "Overall # of frames:  500  found with (before cropping) frame dimensions:  200 200\n",
      "Starting to extract posture\n"
     ]
    },
    {
     "name": "stderr",
     "output_type": "stream",
     "text": [
      "510it [00:03, 140.74it/s]                                                                                              \n"
     ]
    },
    {
     "name": "stdout",
     "output_type": "stream",
     "text": [
      "Saving results in D:\\Sidevideos\\AR34MOTOR\\2022_02_04...\n",
      "Saving csv poses!\n",
      "Starting to analyze %  D:\\Sidevideos\\AR34MOTOR\\2022_02_04\\92EYE.avi\n",
      "Loading  D:\\Sidevideos\\AR34MOTOR\\2022_02_04\\92EYE.avi\n",
      "Duration of video [s]:  12.5 , recorded with  40.0 fps!\n",
      "Overall # of frames:  500  found with (before cropping) frame dimensions:  200 200\n",
      "Starting to extract posture\n"
     ]
    },
    {
     "name": "stderr",
     "output_type": "stream",
     "text": [
      "510it [00:03, 142.00it/s]                                                                                              \n"
     ]
    },
    {
     "name": "stdout",
     "output_type": "stream",
     "text": [
      "Saving results in D:\\Sidevideos\\AR34MOTOR\\2022_02_04...\n",
      "Saving csv poses!\n",
      "Starting to analyze %  D:\\Sidevideos\\AR34MOTOR\\2022_02_04\\93EYE.avi\n",
      "Loading  D:\\Sidevideos\\AR34MOTOR\\2022_02_04\\93EYE.avi\n",
      "Duration of video [s]:  12.5 , recorded with  40.0 fps!\n",
      "Overall # of frames:  500  found with (before cropping) frame dimensions:  200 200\n",
      "Starting to extract posture\n"
     ]
    },
    {
     "name": "stderr",
     "output_type": "stream",
     "text": [
      "510it [00:03, 139.78it/s]                                                                                              \n"
     ]
    },
    {
     "name": "stdout",
     "output_type": "stream",
     "text": [
      "Saving results in D:\\Sidevideos\\AR34MOTOR\\2022_02_04...\n",
      "Saving csv poses!\n",
      "Starting to analyze %  D:\\Sidevideos\\AR34MOTOR\\2022_02_04\\94EYE.avi\n",
      "Loading  D:\\Sidevideos\\AR34MOTOR\\2022_02_04\\94EYE.avi\n",
      "Duration of video [s]:  12.5 , recorded with  40.0 fps!\n",
      "Overall # of frames:  500  found with (before cropping) frame dimensions:  200 200\n",
      "Starting to extract posture\n"
     ]
    },
    {
     "name": "stderr",
     "output_type": "stream",
     "text": [
      "510it [00:03, 140.18it/s]                                                                                              \n"
     ]
    },
    {
     "name": "stdout",
     "output_type": "stream",
     "text": [
      "Saving results in D:\\Sidevideos\\AR34MOTOR\\2022_02_04...\n",
      "Saving csv poses!\n",
      "Starting to analyze %  D:\\Sidevideos\\AR34MOTOR\\2022_02_04\\95EYE.avi\n",
      "Loading  D:\\Sidevideos\\AR34MOTOR\\2022_02_04\\95EYE.avi\n",
      "Duration of video [s]:  12.03 , recorded with  40.0 fps!\n",
      "Overall # of frames:  481  found with (before cropping) frame dimensions:  200 200\n",
      "Starting to extract posture\n"
     ]
    },
    {
     "name": "stderr",
     "output_type": "stream",
     "text": [
      "490it [00:03, 139.67it/s]                                                                                              \n"
     ]
    },
    {
     "name": "stdout",
     "output_type": "stream",
     "text": [
      "Saving results in D:\\Sidevideos\\AR34MOTOR\\2022_02_04...\n",
      "Saving csv poses!\n",
      "Starting to analyze %  D:\\Sidevideos\\AR34MOTOR\\2022_02_04\\96EYE.avi\n",
      "Loading  D:\\Sidevideos\\AR34MOTOR\\2022_02_04\\96EYE.avi\n",
      "Duration of video [s]:  12.5 , recorded with  40.0 fps!\n",
      "Overall # of frames:  500  found with (before cropping) frame dimensions:  200 200\n",
      "Starting to extract posture\n"
     ]
    },
    {
     "name": "stderr",
     "output_type": "stream",
     "text": [
      "510it [00:03, 140.05it/s]                                                                                              \n"
     ]
    },
    {
     "name": "stdout",
     "output_type": "stream",
     "text": [
      "Saving results in D:\\Sidevideos\\AR34MOTOR\\2022_02_04...\n",
      "Saving csv poses!\n",
      "Starting to analyze %  D:\\Sidevideos\\AR34MOTOR\\2022_02_04\\97EYE.avi\n",
      "Loading  D:\\Sidevideos\\AR34MOTOR\\2022_02_04\\97EYE.avi\n",
      "Duration of video [s]:  12.5 , recorded with  40.0 fps!\n",
      "Overall # of frames:  500  found with (before cropping) frame dimensions:  200 200\n",
      "Starting to extract posture\n"
     ]
    },
    {
     "name": "stderr",
     "output_type": "stream",
     "text": [
      "510it [00:03, 140.03it/s]                                                                                              \n"
     ]
    },
    {
     "name": "stdout",
     "output_type": "stream",
     "text": [
      "Saving results in D:\\Sidevideos\\AR34MOTOR\\2022_02_04...\n",
      "Saving csv poses!\n",
      "Starting to analyze %  D:\\Sidevideos\\AR34MOTOR\\2022_02_04\\98EYE.avi\n",
      "Loading  D:\\Sidevideos\\AR34MOTOR\\2022_02_04\\98EYE.avi\n",
      "Duration of video [s]:  12.5 , recorded with  40.0 fps!\n",
      "Overall # of frames:  500  found with (before cropping) frame dimensions:  200 200\n",
      "Starting to extract posture\n"
     ]
    },
    {
     "name": "stderr",
     "output_type": "stream",
     "text": [
      "510it [00:03, 139.80it/s]                                                                                              \n"
     ]
    },
    {
     "name": "stdout",
     "output_type": "stream",
     "text": [
      "Saving results in D:\\Sidevideos\\AR34MOTOR\\2022_02_04...\n",
      "Saving csv poses!\n",
      "Starting to analyze %  D:\\Sidevideos\\AR34MOTOR\\2022_02_04\\99EYE.avi\n",
      "Loading  D:\\Sidevideos\\AR34MOTOR\\2022_02_04\\99EYE.avi\n",
      "Duration of video [s]:  12.5 , recorded with  40.0 fps!\n",
      "Overall # of frames:  500  found with (before cropping) frame dimensions:  200 200\n",
      "Starting to extract posture\n"
     ]
    },
    {
     "name": "stderr",
     "output_type": "stream",
     "text": [
      "510it [00:03, 139.41it/s]                                                                                              \n"
     ]
    },
    {
     "name": "stdout",
     "output_type": "stream",
     "text": [
      "Saving results in D:\\Sidevideos\\AR34MOTOR\\2022_02_04...\n",
      "Saving csv poses!\n",
      "Starting to analyze %  D:\\Sidevideos\\AR34MOTOR\\2022_02_04\\9EYE.avi\n",
      "Loading  D:\\Sidevideos\\AR34MOTOR\\2022_02_04\\9EYE.avi\n",
      "Duration of video [s]:  12.5 , recorded with  40.0 fps!\n",
      "Overall # of frames:  500  found with (before cropping) frame dimensions:  200 200\n",
      "Starting to extract posture\n"
     ]
    },
    {
     "name": "stderr",
     "output_type": "stream",
     "text": [
      "510it [00:03, 138.45it/s]                                                                                              \n"
     ]
    },
    {
     "name": "stdout",
     "output_type": "stream",
     "text": [
      "Saving results in D:\\Sidevideos\\AR34MOTOR\\2022_02_04...\n",
      "Saving csv poses!\n",
      "The videos are analyzed. Now your research can truly start! \n",
      " You can create labeled videos with 'create_labeled_video'\n",
      "If the tracking is not satisfactory for some videos, consider expanding the training set. You can use the function 'extract_outlier_frames' to extract a few representative outlier frames.\n",
      "Filtering with median model D:\\Sidevideos\\AR34MOTOR\\2022_02_04\\0EYE.avi\n",
      "Saving filtered csv poses!\n",
      "Filtering with median model D:\\Sidevideos\\AR34MOTOR\\2022_02_04\\100EYE.avi\n",
      "Saving filtered csv poses!\n",
      "Filtering with median model D:\\Sidevideos\\AR34MOTOR\\2022_02_04\\101EYE.avi\n",
      "Saving filtered csv poses!\n",
      "Filtering with median model D:\\Sidevideos\\AR34MOTOR\\2022_02_04\\102EYE.avi\n",
      "Saving filtered csv poses!\n",
      "Filtering with median model D:\\Sidevideos\\AR34MOTOR\\2022_02_04\\103EYE.avi\n",
      "Saving filtered csv poses!\n",
      "Filtering with median model D:\\Sidevideos\\AR34MOTOR\\2022_02_04\\104EYE.avi\n",
      "Saving filtered csv poses!\n",
      "Filtering with median model D:\\Sidevideos\\AR34MOTOR\\2022_02_04\\105EYE.avi\n",
      "Saving filtered csv poses!\n",
      "Filtering with median model D:\\Sidevideos\\AR34MOTOR\\2022_02_04\\106EYE.avi\n",
      "Saving filtered csv poses!\n",
      "Filtering with median model D:\\Sidevideos\\AR34MOTOR\\2022_02_04\\107EYE.avi\n",
      "Saving filtered csv poses!\n",
      "Filtering with median model D:\\Sidevideos\\AR34MOTOR\\2022_02_04\\108EYE.avi\n",
      "Saving filtered csv poses!\n",
      "Filtering with median model D:\\Sidevideos\\AR34MOTOR\\2022_02_04\\109EYE.avi\n",
      "Saving filtered csv poses!\n",
      "Filtering with median model D:\\Sidevideos\\AR34MOTOR\\2022_02_04\\10EYE.avi\n",
      "Saving filtered csv poses!\n",
      "Filtering with median model D:\\Sidevideos\\AR34MOTOR\\2022_02_04\\110EYE.avi\n",
      "Saving filtered csv poses!\n",
      "Filtering with median model D:\\Sidevideos\\AR34MOTOR\\2022_02_04\\111EYE.avi\n",
      "Saving filtered csv poses!\n",
      "Filtering with median model D:\\Sidevideos\\AR34MOTOR\\2022_02_04\\112EYE.avi\n",
      "Saving filtered csv poses!\n",
      "Filtering with median model D:\\Sidevideos\\AR34MOTOR\\2022_02_04\\113EYE.avi\n",
      "Saving filtered csv poses!\n",
      "Filtering with median model D:\\Sidevideos\\AR34MOTOR\\2022_02_04\\114EYE.avi\n",
      "Saving filtered csv poses!\n",
      "Filtering with median model D:\\Sidevideos\\AR34MOTOR\\2022_02_04\\115EYE.avi\n",
      "Saving filtered csv poses!\n",
      "Filtering with median model D:\\Sidevideos\\AR34MOTOR\\2022_02_04\\116EYE.avi\n",
      "Saving filtered csv poses!\n",
      "Filtering with median model D:\\Sidevideos\\AR34MOTOR\\2022_02_04\\117EYE.avi\n",
      "Saving filtered csv poses!\n",
      "Filtering with median model D:\\Sidevideos\\AR34MOTOR\\2022_02_04\\118EYE.avi\n",
      "Saving filtered csv poses!\n",
      "Filtering with median model D:\\Sidevideos\\AR34MOTOR\\2022_02_04\\119EYE.avi\n",
      "Saving filtered csv poses!\n",
      "Filtering with median model D:\\Sidevideos\\AR34MOTOR\\2022_02_04\\11EYE.avi\n",
      "Saving filtered csv poses!\n",
      "Filtering with median model D:\\Sidevideos\\AR34MOTOR\\2022_02_04\\120EYE.avi\n",
      "Saving filtered csv poses!\n",
      "Filtering with median model D:\\Sidevideos\\AR34MOTOR\\2022_02_04\\121EYE.avi\n",
      "Saving filtered csv poses!\n",
      "Filtering with median model D:\\Sidevideos\\AR34MOTOR\\2022_02_04\\122EYE.avi\n",
      "Saving filtered csv poses!\n",
      "Filtering with median model D:\\Sidevideos\\AR34MOTOR\\2022_02_04\\123EYE.avi\n",
      "Saving filtered csv poses!\n",
      "Filtering with median model D:\\Sidevideos\\AR34MOTOR\\2022_02_04\\124EYE.avi\n",
      "Saving filtered csv poses!\n",
      "Filtering with median model D:\\Sidevideos\\AR34MOTOR\\2022_02_04\\125EYE.avi\n",
      "Saving filtered csv poses!\n",
      "Filtering with median model D:\\Sidevideos\\AR34MOTOR\\2022_02_04\\126EYE.avi\n",
      "Saving filtered csv poses!\n",
      "Filtering with median model D:\\Sidevideos\\AR34MOTOR\\2022_02_04\\127EYE.avi\n",
      "Saving filtered csv poses!\n",
      "Filtering with median model D:\\Sidevideos\\AR34MOTOR\\2022_02_04\\128EYE.avi\n",
      "Saving filtered csv poses!\n",
      "Filtering with median model D:\\Sidevideos\\AR34MOTOR\\2022_02_04\\129EYE.avi\n",
      "Saving filtered csv poses!\n",
      "Filtering with median model D:\\Sidevideos\\AR34MOTOR\\2022_02_04\\12EYE.avi\n",
      "Saving filtered csv poses!\n",
      "Filtering with median model D:\\Sidevideos\\AR34MOTOR\\2022_02_04\\130EYE.avi\n",
      "Saving filtered csv poses!\n",
      "Filtering with median model D:\\Sidevideos\\AR34MOTOR\\2022_02_04\\131EYE.avi\n",
      "Saving filtered csv poses!\n",
      "Filtering with median model D:\\Sidevideos\\AR34MOTOR\\2022_02_04\\132EYE.avi\n",
      "Saving filtered csv poses!\n",
      "Filtering with median model D:\\Sidevideos\\AR34MOTOR\\2022_02_04\\133EYE.avi\n",
      "Saving filtered csv poses!\n",
      "Filtering with median model D:\\Sidevideos\\AR34MOTOR\\2022_02_04\\134EYE.avi\n",
      "Saving filtered csv poses!\n",
      "Filtering with median model D:\\Sidevideos\\AR34MOTOR\\2022_02_04\\135EYE.avi\n",
      "Saving filtered csv poses!\n",
      "Filtering with median model D:\\Sidevideos\\AR34MOTOR\\2022_02_04\\136EYE.avi\n",
      "Saving filtered csv poses!\n",
      "Filtering with median model D:\\Sidevideos\\AR34MOTOR\\2022_02_04\\137EYE.avi\n",
      "Saving filtered csv poses!\n",
      "Filtering with median model D:\\Sidevideos\\AR34MOTOR\\2022_02_04\\138EYE.avi\n",
      "Saving filtered csv poses!\n",
      "Filtering with median model D:\\Sidevideos\\AR34MOTOR\\2022_02_04\\139EYE.avi\n",
      "Saving filtered csv poses!\n",
      "Filtering with median model D:\\Sidevideos\\AR34MOTOR\\2022_02_04\\13EYE.avi\n",
      "Saving filtered csv poses!\n",
      "Filtering with median model D:\\Sidevideos\\AR34MOTOR\\2022_02_04\\140EYE.avi\n",
      "Saving filtered csv poses!\n",
      "Filtering with median model D:\\Sidevideos\\AR34MOTOR\\2022_02_04\\141EYE.avi\n",
      "Saving filtered csv poses!\n",
      "Filtering with median model D:\\Sidevideos\\AR34MOTOR\\2022_02_04\\142EYE.avi\n",
      "Saving filtered csv poses!\n",
      "Filtering with median model D:\\Sidevideos\\AR34MOTOR\\2022_02_04\\143EYE.avi\n",
      "Saving filtered csv poses!\n",
      "Filtering with median model D:\\Sidevideos\\AR34MOTOR\\2022_02_04\\144EYE.avi\n",
      "Saving filtered csv poses!\n",
      "Filtering with median model D:\\Sidevideos\\AR34MOTOR\\2022_02_04\\145EYE.avi\n",
      "Saving filtered csv poses!\n",
      "Filtering with median model D:\\Sidevideos\\AR34MOTOR\\2022_02_04\\146EYE.avi\n",
      "Saving filtered csv poses!\n",
      "Filtering with median model D:\\Sidevideos\\AR34MOTOR\\2022_02_04\\147EYE.avi\n",
      "Saving filtered csv poses!\n",
      "Filtering with median model D:\\Sidevideos\\AR34MOTOR\\2022_02_04\\148EYE.avi\n",
      "Saving filtered csv poses!\n",
      "Filtering with median model D:\\Sidevideos\\AR34MOTOR\\2022_02_04\\149EYE.avi\n",
      "Saving filtered csv poses!\n",
      "Filtering with median model D:\\Sidevideos\\AR34MOTOR\\2022_02_04\\14EYE.avi\n",
      "Saving filtered csv poses!\n",
      "Filtering with median model D:\\Sidevideos\\AR34MOTOR\\2022_02_04\\150EYE.avi\n",
      "Saving filtered csv poses!\n",
      "Filtering with median model D:\\Sidevideos\\AR34MOTOR\\2022_02_04\\151EYE.avi\n",
      "Saving filtered csv poses!\n",
      "Filtering with median model D:\\Sidevideos\\AR34MOTOR\\2022_02_04\\152EYE.avi\n",
      "Saving filtered csv poses!\n",
      "Filtering with median model D:\\Sidevideos\\AR34MOTOR\\2022_02_04\\153EYE.avi\n",
      "Saving filtered csv poses!\n",
      "Filtering with median model D:\\Sidevideos\\AR34MOTOR\\2022_02_04\\154EYE.avi\n",
      "Saving filtered csv poses!\n",
      "Filtering with median model D:\\Sidevideos\\AR34MOTOR\\2022_02_04\\155EYE.avi\n",
      "Saving filtered csv poses!\n",
      "Filtering with median model D:\\Sidevideos\\AR34MOTOR\\2022_02_04\\156EYE.avi\n",
      "Saving filtered csv poses!\n",
      "Filtering with median model D:\\Sidevideos\\AR34MOTOR\\2022_02_04\\157EYE.avi\n",
      "Saving filtered csv poses!\n",
      "Filtering with median model D:\\Sidevideos\\AR34MOTOR\\2022_02_04\\158EYE.avi\n",
      "Saving filtered csv poses!\n",
      "Filtering with median model D:\\Sidevideos\\AR34MOTOR\\2022_02_04\\159EYE.avi\n",
      "Saving filtered csv poses!\n",
      "Filtering with median model D:\\Sidevideos\\AR34MOTOR\\2022_02_04\\15EYE.avi\n",
      "Saving filtered csv poses!\n",
      "Filtering with median model D:\\Sidevideos\\AR34MOTOR\\2022_02_04\\160EYE.avi\n",
      "Saving filtered csv poses!\n",
      "Filtering with median model D:\\Sidevideos\\AR34MOTOR\\2022_02_04\\161EYE.avi\n",
      "Saving filtered csv poses!\n",
      "Filtering with median model D:\\Sidevideos\\AR34MOTOR\\2022_02_04\\162EYE.avi\n",
      "Saving filtered csv poses!\n",
      "Filtering with median model D:\\Sidevideos\\AR34MOTOR\\2022_02_04\\163EYE.avi\n",
      "Saving filtered csv poses!\n",
      "Filtering with median model D:\\Sidevideos\\AR34MOTOR\\2022_02_04\\164EYE.avi\n",
      "Saving filtered csv poses!\n",
      "Filtering with median model D:\\Sidevideos\\AR34MOTOR\\2022_02_04\\165EYE.avi\n",
      "Saving filtered csv poses!\n",
      "Filtering with median model D:\\Sidevideos\\AR34MOTOR\\2022_02_04\\166EYE.avi\n",
      "Saving filtered csv poses!\n",
      "Filtering with median model D:\\Sidevideos\\AR34MOTOR\\2022_02_04\\167EYE.avi\n",
      "Saving filtered csv poses!\n",
      "Filtering with median model D:\\Sidevideos\\AR34MOTOR\\2022_02_04\\168EYE.avi\n",
      "Saving filtered csv poses!\n",
      "Filtering with median model D:\\Sidevideos\\AR34MOTOR\\2022_02_04\\169EYE.avi\n",
      "Saving filtered csv poses!\n",
      "Filtering with median model D:\\Sidevideos\\AR34MOTOR\\2022_02_04\\16EYE.avi\n",
      "Saving filtered csv poses!\n",
      "Filtering with median model D:\\Sidevideos\\AR34MOTOR\\2022_02_04\\170EYE.avi\n",
      "Saving filtered csv poses!\n"
     ]
    },
    {
     "name": "stdout",
     "output_type": "stream",
     "text": [
      "Filtering with median model D:\\Sidevideos\\AR34MOTOR\\2022_02_04\\17EYE.avi\n",
      "Saving filtered csv poses!\n",
      "Filtering with median model D:\\Sidevideos\\AR34MOTOR\\2022_02_04\\18EYE.avi\n",
      "Saving filtered csv poses!\n",
      "Filtering with median model D:\\Sidevideos\\AR34MOTOR\\2022_02_04\\19EYE.avi\n",
      "Saving filtered csv poses!\n",
      "Filtering with median model D:\\Sidevideos\\AR34MOTOR\\2022_02_04\\1EYE.avi\n",
      "Saving filtered csv poses!\n",
      "Filtering with median model D:\\Sidevideos\\AR34MOTOR\\2022_02_04\\20EYE.avi\n",
      "Saving filtered csv poses!\n",
      "Filtering with median model D:\\Sidevideos\\AR34MOTOR\\2022_02_04\\21EYE.avi\n",
      "Saving filtered csv poses!\n",
      "Filtering with median model D:\\Sidevideos\\AR34MOTOR\\2022_02_04\\22EYE.avi\n",
      "Saving filtered csv poses!\n",
      "Filtering with median model D:\\Sidevideos\\AR34MOTOR\\2022_02_04\\23EYE.avi\n",
      "Saving filtered csv poses!\n",
      "Filtering with median model D:\\Sidevideos\\AR34MOTOR\\2022_02_04\\24EYE.avi\n",
      "Saving filtered csv poses!\n",
      "Filtering with median model D:\\Sidevideos\\AR34MOTOR\\2022_02_04\\25EYE.avi\n",
      "Saving filtered csv poses!\n",
      "Filtering with median model D:\\Sidevideos\\AR34MOTOR\\2022_02_04\\26EYE.avi\n",
      "Saving filtered csv poses!\n",
      "Filtering with median model D:\\Sidevideos\\AR34MOTOR\\2022_02_04\\27EYE.avi\n",
      "Saving filtered csv poses!\n",
      "Filtering with median model D:\\Sidevideos\\AR34MOTOR\\2022_02_04\\28EYE.avi\n",
      "Saving filtered csv poses!\n",
      "Filtering with median model D:\\Sidevideos\\AR34MOTOR\\2022_02_04\\29EYE.avi\n",
      "Saving filtered csv poses!\n",
      "Filtering with median model D:\\Sidevideos\\AR34MOTOR\\2022_02_04\\2EYE.avi\n",
      "Saving filtered csv poses!\n",
      "Filtering with median model D:\\Sidevideos\\AR34MOTOR\\2022_02_04\\30EYE.avi\n",
      "Saving filtered csv poses!\n",
      "Filtering with median model D:\\Sidevideos\\AR34MOTOR\\2022_02_04\\31EYE.avi\n",
      "Saving filtered csv poses!\n",
      "Filtering with median model D:\\Sidevideos\\AR34MOTOR\\2022_02_04\\32EYE.avi\n",
      "Saving filtered csv poses!\n",
      "Filtering with median model D:\\Sidevideos\\AR34MOTOR\\2022_02_04\\33EYE.avi\n",
      "Saving filtered csv poses!\n",
      "Filtering with median model D:\\Sidevideos\\AR34MOTOR\\2022_02_04\\34EYE.avi\n",
      "Saving filtered csv poses!\n",
      "Filtering with median model D:\\Sidevideos\\AR34MOTOR\\2022_02_04\\35EYE.avi\n",
      "Saving filtered csv poses!\n",
      "Filtering with median model D:\\Sidevideos\\AR34MOTOR\\2022_02_04\\36EYE.avi\n",
      "Saving filtered csv poses!\n",
      "Filtering with median model D:\\Sidevideos\\AR34MOTOR\\2022_02_04\\37EYE.avi\n",
      "Saving filtered csv poses!\n",
      "Filtering with median model D:\\Sidevideos\\AR34MOTOR\\2022_02_04\\38EYE.avi\n",
      "Saving filtered csv poses!\n",
      "Filtering with median model D:\\Sidevideos\\AR34MOTOR\\2022_02_04\\39EYE.avi\n",
      "Saving filtered csv poses!\n",
      "Filtering with median model D:\\Sidevideos\\AR34MOTOR\\2022_02_04\\3EYE.avi\n",
      "Saving filtered csv poses!\n",
      "Filtering with median model D:\\Sidevideos\\AR34MOTOR\\2022_02_04\\40EYE.avi\n",
      "Saving filtered csv poses!\n",
      "Filtering with median model D:\\Sidevideos\\AR34MOTOR\\2022_02_04\\41EYE.avi\n",
      "Saving filtered csv poses!\n",
      "Filtering with median model D:\\Sidevideos\\AR34MOTOR\\2022_02_04\\42EYE.avi\n",
      "Saving filtered csv poses!\n",
      "Filtering with median model D:\\Sidevideos\\AR34MOTOR\\2022_02_04\\43EYE.avi\n",
      "Saving filtered csv poses!\n",
      "Filtering with median model D:\\Sidevideos\\AR34MOTOR\\2022_02_04\\44EYE.avi\n",
      "Saving filtered csv poses!\n",
      "Filtering with median model D:\\Sidevideos\\AR34MOTOR\\2022_02_04\\45EYE.avi\n",
      "Saving filtered csv poses!\n",
      "Filtering with median model D:\\Sidevideos\\AR34MOTOR\\2022_02_04\\46EYE.avi\n",
      "Saving filtered csv poses!\n",
      "Filtering with median model D:\\Sidevideos\\AR34MOTOR\\2022_02_04\\47EYE.avi\n",
      "Saving filtered csv poses!\n",
      "Filtering with median model D:\\Sidevideos\\AR34MOTOR\\2022_02_04\\48EYE.avi\n",
      "Saving filtered csv poses!\n",
      "Filtering with median model D:\\Sidevideos\\AR34MOTOR\\2022_02_04\\49EYE.avi\n",
      "Saving filtered csv poses!\n",
      "Filtering with median model D:\\Sidevideos\\AR34MOTOR\\2022_02_04\\4EYE.avi\n",
      "Saving filtered csv poses!\n",
      "Filtering with median model D:\\Sidevideos\\AR34MOTOR\\2022_02_04\\50EYE.avi\n",
      "Saving filtered csv poses!\n",
      "Filtering with median model D:\\Sidevideos\\AR34MOTOR\\2022_02_04\\51EYE.avi\n",
      "Saving filtered csv poses!\n",
      "Filtering with median model D:\\Sidevideos\\AR34MOTOR\\2022_02_04\\52EYE.avi\n",
      "Saving filtered csv poses!\n",
      "Filtering with median model D:\\Sidevideos\\AR34MOTOR\\2022_02_04\\53EYE.avi\n",
      "Saving filtered csv poses!\n",
      "Filtering with median model D:\\Sidevideos\\AR34MOTOR\\2022_02_04\\54EYE.avi\n",
      "Saving filtered csv poses!\n",
      "Filtering with median model D:\\Sidevideos\\AR34MOTOR\\2022_02_04\\55EYE.avi\n",
      "Saving filtered csv poses!\n",
      "Filtering with median model D:\\Sidevideos\\AR34MOTOR\\2022_02_04\\56EYE.avi\n",
      "Saving filtered csv poses!\n",
      "Filtering with median model D:\\Sidevideos\\AR34MOTOR\\2022_02_04\\57EYE.avi\n",
      "Saving filtered csv poses!\n",
      "Filtering with median model D:\\Sidevideos\\AR34MOTOR\\2022_02_04\\58EYE.avi\n",
      "Saving filtered csv poses!\n",
      "Filtering with median model D:\\Sidevideos\\AR34MOTOR\\2022_02_04\\59EYE.avi\n",
      "Saving filtered csv poses!\n",
      "Filtering with median model D:\\Sidevideos\\AR34MOTOR\\2022_02_04\\5EYE.avi\n",
      "Saving filtered csv poses!\n",
      "Filtering with median model D:\\Sidevideos\\AR34MOTOR\\2022_02_04\\60EYE.avi\n",
      "Saving filtered csv poses!\n",
      "Filtering with median model D:\\Sidevideos\\AR34MOTOR\\2022_02_04\\61EYE.avi\n",
      "Saving filtered csv poses!\n",
      "Filtering with median model D:\\Sidevideos\\AR34MOTOR\\2022_02_04\\62EYE.avi\n",
      "Saving filtered csv poses!\n",
      "Filtering with median model D:\\Sidevideos\\AR34MOTOR\\2022_02_04\\63EYE.avi\n",
      "Saving filtered csv poses!\n",
      "Filtering with median model D:\\Sidevideos\\AR34MOTOR\\2022_02_04\\64EYE.avi\n",
      "Saving filtered csv poses!\n",
      "Filtering with median model D:\\Sidevideos\\AR34MOTOR\\2022_02_04\\65EYE.avi\n",
      "Saving filtered csv poses!\n",
      "Filtering with median model D:\\Sidevideos\\AR34MOTOR\\2022_02_04\\66EYE.avi\n",
      "Saving filtered csv poses!\n",
      "Filtering with median model D:\\Sidevideos\\AR34MOTOR\\2022_02_04\\67EYE.avi\n",
      "Saving filtered csv poses!\n",
      "Filtering with median model D:\\Sidevideos\\AR34MOTOR\\2022_02_04\\68EYE.avi\n",
      "Saving filtered csv poses!\n",
      "Filtering with median model D:\\Sidevideos\\AR34MOTOR\\2022_02_04\\69EYE.avi\n",
      "Saving filtered csv poses!\n",
      "Filtering with median model D:\\Sidevideos\\AR34MOTOR\\2022_02_04\\6EYE.avi\n",
      "Saving filtered csv poses!\n",
      "Filtering with median model D:\\Sidevideos\\AR34MOTOR\\2022_02_04\\70EYE.avi\n",
      "Saving filtered csv poses!\n",
      "Filtering with median model D:\\Sidevideos\\AR34MOTOR\\2022_02_04\\71EYE.avi\n",
      "Saving filtered csv poses!\n",
      "Filtering with median model D:\\Sidevideos\\AR34MOTOR\\2022_02_04\\72EYE.avi\n",
      "Saving filtered csv poses!\n",
      "Filtering with median model D:\\Sidevideos\\AR34MOTOR\\2022_02_04\\73EYE.avi\n",
      "Saving filtered csv poses!\n",
      "Filtering with median model D:\\Sidevideos\\AR34MOTOR\\2022_02_04\\74EYE.avi\n",
      "Saving filtered csv poses!\n",
      "Filtering with median model D:\\Sidevideos\\AR34MOTOR\\2022_02_04\\75EYE.avi\n",
      "Saving filtered csv poses!\n",
      "Filtering with median model D:\\Sidevideos\\AR34MOTOR\\2022_02_04\\76EYE.avi\n",
      "Saving filtered csv poses!\n",
      "Filtering with median model D:\\Sidevideos\\AR34MOTOR\\2022_02_04\\77EYE.avi\n",
      "Saving filtered csv poses!\n",
      "Filtering with median model D:\\Sidevideos\\AR34MOTOR\\2022_02_04\\78EYE.avi\n",
      "Saving filtered csv poses!\n",
      "Filtering with median model D:\\Sidevideos\\AR34MOTOR\\2022_02_04\\79EYE.avi\n",
      "Saving filtered csv poses!\n",
      "Filtering with median model D:\\Sidevideos\\AR34MOTOR\\2022_02_04\\7EYE.avi\n",
      "Saving filtered csv poses!\n",
      "Filtering with median model D:\\Sidevideos\\AR34MOTOR\\2022_02_04\\80EYE.avi\n",
      "Saving filtered csv poses!\n",
      "Filtering with median model D:\\Sidevideos\\AR34MOTOR\\2022_02_04\\81EYE.avi\n",
      "Saving filtered csv poses!\n",
      "Filtering with median model D:\\Sidevideos\\AR34MOTOR\\2022_02_04\\82EYE.avi\n",
      "Saving filtered csv poses!\n",
      "Filtering with median model D:\\Sidevideos\\AR34MOTOR\\2022_02_04\\83EYE.avi\n",
      "Saving filtered csv poses!\n",
      "Filtering with median model D:\\Sidevideos\\AR34MOTOR\\2022_02_04\\84EYE.avi\n",
      "Saving filtered csv poses!\n",
      "Filtering with median model D:\\Sidevideos\\AR34MOTOR\\2022_02_04\\85EYE.avi\n",
      "Saving filtered csv poses!\n",
      "Filtering with median model D:\\Sidevideos\\AR34MOTOR\\2022_02_04\\86EYE.avi\n",
      "Saving filtered csv poses!\n",
      "Filtering with median model D:\\Sidevideos\\AR34MOTOR\\2022_02_04\\87EYE.avi\n",
      "Saving filtered csv poses!\n",
      "Filtering with median model D:\\Sidevideos\\AR34MOTOR\\2022_02_04\\88EYE.avi\n",
      "Saving filtered csv poses!\n",
      "Filtering with median model D:\\Sidevideos\\AR34MOTOR\\2022_02_04\\89EYE.avi\n",
      "Saving filtered csv poses!\n",
      "Filtering with median model D:\\Sidevideos\\AR34MOTOR\\2022_02_04\\8EYE.avi\n",
      "Saving filtered csv poses!\n",
      "Filtering with median model D:\\Sidevideos\\AR34MOTOR\\2022_02_04\\90EYE.avi\n",
      "Saving filtered csv poses!\n",
      "Filtering with median model D:\\Sidevideos\\AR34MOTOR\\2022_02_04\\91EYE.avi\n",
      "Saving filtered csv poses!\n",
      "Filtering with median model D:\\Sidevideos\\AR34MOTOR\\2022_02_04\\92EYE.avi\n"
     ]
    },
    {
     "name": "stdout",
     "output_type": "stream",
     "text": [
      "Saving filtered csv poses!\n",
      "Filtering with median model D:\\Sidevideos\\AR34MOTOR\\2022_02_04\\93EYE.avi\n",
      "Saving filtered csv poses!\n",
      "Filtering with median model D:\\Sidevideos\\AR34MOTOR\\2022_02_04\\94EYE.avi\n",
      "Saving filtered csv poses!\n",
      "Filtering with median model D:\\Sidevideos\\AR34MOTOR\\2022_02_04\\95EYE.avi\n",
      "Saving filtered csv poses!\n",
      "Filtering with median model D:\\Sidevideos\\AR34MOTOR\\2022_02_04\\96EYE.avi\n",
      "Saving filtered csv poses!\n",
      "Filtering with median model D:\\Sidevideos\\AR34MOTOR\\2022_02_04\\97EYE.avi\n",
      "Saving filtered csv poses!\n",
      "Filtering with median model D:\\Sidevideos\\AR34MOTOR\\2022_02_04\\98EYE.avi\n",
      "Saving filtered csv poses!\n",
      "Filtering with median model D:\\Sidevideos\\AR34MOTOR\\2022_02_04\\99EYE.avi\n",
      "Saving filtered csv poses!\n",
      "Filtering with median model D:\\Sidevideos\\AR34MOTOR\\2022_02_04\\9EYE.avi\n",
      "Saving filtered csv poses!\n"
     ]
    }
   ],
   "source": [
    "path_config_file = 'D:\\\\Sidevideos\\\\DLC\\\\Sideview4-Arash-2021-07-18\\\\config.yaml';\n",
    "#Mainfolder = 'D:\\\\videos\\\\ar32\\\\2020_12_18';\n",
    "path_config_file = 'D:\\\\Sidevideos\\\\DLC\\\\Eyedata6-Arash-2022-02-06\\\\config.yaml';\n",
    "\n",
    "#Mainfolder = 'D:\\\\videos\\\\ar32\\\\2020_12_18';\n",
    "import os\n",
    "text_files = [os.path.join(Mainfolder,f) for f in os.listdir(Mainfolder) if f.endswith('EYE.avi') and not f.endswith('L.avi') and not f.endswith('R.avi') and not f.endswith('videopoints.avi') and not f.endswith('videopoints.avi')]\n",
    "print(text_files[1])\n",
    "#text_files='C:\\\\videos\\\\ar30motor\\\\2021_04_25\\\\9.avi'\n",
    "temp1=deeplabcut.analyze_videos(path_config_file,text_files,shuffle=1, save_as_csv=True )\n",
    "temp=deeplabcut.filterpredictions(path_config_file,text_files)"
   ]
  },
  {
   "cell_type": "markdown",
   "metadata": {},
   "source": [
    "# this step should take the filtered DLC output (Nose and Snout)\n",
    "and create the L and R movies\n",
    "then using another function to convert L and R (R is left face and L is right face) files into Mask and Mirror files( Mask only adds mask to the Right side of the face and Mirror. \n"
   ]
  },
  {
   "cell_type": "markdown",
   "metadata": {},
   "source": [
    "# copy tracked files into the server (with mp4 movies)"
   ]
  },
  {
   "cell_type": "code",
   "execution_count": null,
   "metadata": {},
   "outputs": [],
   "source": [
    "# the code to run matlab here\n",
    "#Mainfolder = 'C:\\\\videos\\\\ar344thday\\\\2021_07_26'\n",
    "# copy tracked files into the server (with mp4 movies)\n",
    "Mainfolder = 'D:\\\\Sidevideos\\\\ar32motor\\\\2021_08_02'\n",
    "\n",
    "#Mainfolder = 'D:\\\\Sidevideos\\\\ar344thday\\\\2021_07_26'\n",
    "#destination = ''\n",
    "destination='//dk-server.dk.ucsd.edu/afassihizakeri/SC_Movies/ar32motor/2021_08_02/Side'\n",
    "import shutil\n",
    "shutil.copytree( Mainfolder,destination, ignore=shutil.ignore_patterns('*.avi'),copy_function = shutil.copy)\n",
    "#copytree(Mainfolder, destination, ignore=ignore_patterns('*.avi'))\n",
    "\n",
    "\n"
   ]
  },
  {
   "cell_type": "markdown",
   "metadata": {},
   "source": [
    "this step makes Mirror Mask files"
   ]
  },
  {
   "cell_type": "markdown",
   "metadata": {},
   "source": [
    "# copy tracked data"
   ]
  },
  {
   "cell_type": "code",
   "execution_count": null,
   "metadata": {},
   "outputs": [],
   "source": [
    "import os  # this is to get folder information and creat files\n",
    "import cv2  # this is important and is reading and writing images and video\n",
    "import shutil\n",
    "destination='//dk-server.dk.ucsd.edu/afassihizakeri/SC_Movies/ar34training/4thdayside'\n",
    "\n",
    "All_Folders=[ name for name in os.listdir(Mainfolder) if not os.path.isdir(os.path.join(Mainfolder, name)) ]\n",
    "#print(All_Folders)\n",
    "for num in range(0,len(All_Folders)): \n",
    "    thisdestination = os.path.join(destination+'/', All_Folders[num])\n",
    "    thissource = os.path.join(Mainfolder+os.sep, All_Folders[num])\n",
    "    shutil.copy( thissource,destination)\n",
    "    print(thisdestination)\n"
   ]
  }
 ],
 "metadata": {
  "kernelspec": {
   "display_name": "Python 3 (ipykernel)",
   "language": "python",
   "name": "python3"
  },
  "language_info": {
   "codemirror_mode": {
    "name": "ipython",
    "version": 3
   },
   "file_extension": ".py",
   "mimetype": "text/x-python",
   "name": "python",
   "nbconvert_exporter": "python",
   "pygments_lexer": "ipython3",
   "version": "3.8.12"
  }
 },
 "nbformat": 4,
 "nbformat_minor": 2
}
