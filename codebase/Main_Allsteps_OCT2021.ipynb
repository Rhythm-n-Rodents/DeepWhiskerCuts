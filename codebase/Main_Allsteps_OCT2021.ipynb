{
 "cells": [
  {
   "cell_type": "markdown",
   "metadata": {},
   "source": [
    "## Define the main folder"
   ]
  },
  {
   "cell_type": "code",
   "execution_count": null,
   "metadata": {},
   "outputs": [],
   "source": [
    "import main\n",
    "Mainfolder =  'F:\\\\videos\\\\ar32motor\\\\2021_08_02\\\\'; # Enter the name of the folder with images folders inside "
   ]
  },
  {
   "cell_type": "markdown",
   "metadata": {},
   "source": [
    "# make movies and save trialnumber"
   ]
  },
  {
   "cell_type": "code",
   "execution_count": null,
   "metadata": {},
   "outputs": [],
   "source": [
    "main.makemovieandLightfile(Mainfolder)\n",
    "main.save_trial_n(Mainfolder)\n"
   ]
  },
  {
   "cell_type": "markdown",
   "metadata": {},
   "source": [
    "# convert individual trials to MP4"
   ]
  },
  {
   "cell_type": "code",
   "execution_count": null,
   "metadata": {},
   "outputs": [],
   "source": [
    "\n",
    "\n",
    "main.convertvideotoMP4(mainfolder,Trial)"
   ]
  },
  {
   "cell_type": "markdown",
   "metadata": {},
   "source": [
    "# DLC on nose snout\n",
    "## this step is to load deeplabcut and run already trained algorithm on new movies to track the nose and snout  (beads)"
   ]
  },
  {
   "cell_type": "code",
   "execution_count": 6,
   "metadata": {},
   "outputs": [],
   "source": [
    "import deeplabcut\n",
    "## https://github.com/AlexEMG/DeepLabCut"
   ]
  },
  {
   "cell_type": "code",
   "execution_count": null,
   "metadata": {
    "scrolled": false
   },
   "outputs": [],
   "source": [
    "path_config_file = 'D:\\\\videos\\\\ar32\\\\ar32_10_11_24-Arash-2020-11-25\\\\config.yaml';\n",
    "#Mainfolder = 'D:\\\\videos\\\\ar32\\\\2020_12_18';\n",
    "path_config_file = 'F:\\\\DLC\\\\Topview3435-Arash-2021-07-28\\\\config.yaml'\n",
    "import os\n",
    "text_files = [os.path.join(Mainfolder,f) for f in os.listdir(Mainfolder) if f.endswith('.avi') and not f.endswith('L.avi') and not f.endswith('R.avi') and not f.endswith('videopoints.avi') and not f.endswith('videopoints.avi')]\n",
    "print(text_files[1])\n",
    "#text_files='C:\\\\videos\\\\ar30motor\\\\2021_04_25\\\\9.avi'\n",
    "temp1=deeplabcut.analyze_videos(path_config_file,text_files,shuffle=1, save_as_csv=True )\n",
    "temp=deeplabcut.filterpredictions(path_config_file,text_files)"
   ]
  },
  {
   "cell_type": "code",
   "execution_count": null,
   "metadata": {},
   "outputs": [],
   "source": [
    "import os\n",
    "path_config_file = 'F:\\\\DLC\\\\Topview3435-Arash-2021-07-28\\\\config.yaml'\n",
    "text_files = [os.path.join(Mainfolder,f) for f in os.listdir(Mainfolder) if f.endswith('.avi') and not f.endswith('L.avi') and not f.endswith('R.avi') and not f.endswith('videopoints.avi') and not f.endswith('videopoints.avi')]\n",
    "temp=deeplabcut.filterpredictions(path_config_file,text_files)"
   ]
  },
  {
   "cell_type": "markdown",
   "metadata": {},
   "source": [
    "# make left right movies out of DLC output\n",
    "this step should take the filtered DLC output (Nose and Snout) and create the L and R movies"
   ]
  },
  {
   "cell_type": "code",
   "execution_count": 1,
   "metadata": {},
   "outputs": [
    {
     "name": "stdout",
     "output_type": "stream",
     "text": [
      "206\n",
      "Trial= F:\\videos\\Ar30motor\\2021_07_09\\0.avi Elapsed 0.5684802532196045\n",
      "Trial= F:\\videos\\Ar30motor\\2021_07_09\\100.avi Elapsed 0.10272502899169922\n",
      "Trial= F:\\videos\\Ar30motor\\2021_07_09\\101.avi Elapsed 0.1047205924987793\n",
      "Trial= F:\\videos\\Ar30motor\\2021_07_09\\102.avi Elapsed 0.14461255073547363\n",
      "Trial= F:\\videos\\Ar30motor\\2021_07_09\\103.avi Elapsed 0.11672592163085938\n",
      "Trial= F:\\videos\\Ar30motor\\2021_07_09\\104.avi Elapsed 0.16655683517456055\n",
      "Trial= F:\\videos\\Ar30motor\\2021_07_09\\105.avi Elapsed 0.14461278915405273\n",
      "Trial= F:\\videos\\Ar30motor\\2021_07_09\\106.avi Elapsed 0.1466081142425537\n",
      "Trial= F:\\videos\\Ar30motor\\2021_07_09\\107.avi Elapsed 0.14760541915893555\n",
      "Trial= F:\\videos\\Ar30motor\\2021_07_09\\108.avi Elapsed 0.1466078758239746\n",
      "Trial= F:\\videos\\Ar30motor\\2021_07_09\\109.avi Elapsed 0.14560985565185547\n",
      "Trial= F:\\videos\\Ar30motor\\2021_07_09\\10.avi Elapsed 0.13563776016235352\n",
      "Trial= F:\\videos\\Ar30motor\\2021_07_09\\110.avi Elapsed 0.14959955215454102\n",
      "Trial= F:\\videos\\Ar30motor\\2021_07_09\\111.avi Elapsed 0.14860320091247559\n",
      "Trial= F:\\videos\\Ar30motor\\2021_07_09\\112.avi Elapsed 0.14560985565185547\n",
      "Trial= F:\\videos\\Ar30motor\\2021_07_09\\113.avi Elapsed 0.1466364860534668\n",
      "Trial= F:\\videos\\Ar30motor\\2021_07_09\\114.avi Elapsed 0.14757633209228516\n",
      "Trial= F:\\videos\\Ar30motor\\2021_07_09\\115.avi Elapsed 0.14860129356384277\n",
      "Trial= F:\\videos\\Ar30motor\\2021_07_09\\116.avi Elapsed 0.1436145305633545\n",
      "Trial= F:\\videos\\Ar30motor\\2021_07_09\\117.avi Elapsed 0.14960026741027832\n",
      "Trial= F:\\videos\\Ar30motor\\2021_07_09\\118.avi Elapsed 0.17253828048706055\n",
      "Trial= F:\\videos\\Ar30motor\\2021_07_09\\119.avi Elapsed 0.1466078758239746\n",
      "Trial= F:\\videos\\Ar30motor\\2021_07_09\\11.avi Elapsed 0.1386568546295166\n",
      "Trial= F:\\videos\\Ar30motor\\2021_07_09\\120.avi Elapsed 0.14757776260375977\n",
      "Trial= F:\\videos\\Ar30motor\\2021_07_09\\121.avi Elapsed 0.18949270248413086\n",
      "Trial= F:\\videos\\Ar30motor\\2021_07_09\\122.avi Elapsed 0.1625654697418213\n",
      "Trial= F:\\videos\\Ar30motor\\2021_07_09\\123.avi Elapsed 0.14760613441467285\n",
      "Trial= F:\\videos\\Ar30motor\\2021_07_09\\124.avi Elapsed 0.1216742992401123\n",
      "Trial= F:\\videos\\Ar30motor\\2021_07_09\\125.avi Elapsed 0.1515946388244629\n",
      "Trial= F:\\videos\\Ar30motor\\2021_07_09\\126.avi Elapsed 0.14162206649780273\n",
      "Trial= F:\\videos\\Ar30motor\\2021_07_09\\127.avi Elapsed 0.14461326599121094\n",
      "Trial= F:\\videos\\Ar30motor\\2021_07_09\\128.avi Elapsed 0.14560937881469727\n",
      "Trial= F:\\videos\\Ar30motor\\2021_07_09\\129.avi Elapsed 0.12566328048706055\n",
      "Trial= F:\\videos\\Ar30motor\\2021_07_09\\12.avi Elapsed 0.1466081142425537\n",
      "Trial= F:\\videos\\Ar30motor\\2021_07_09\\130.avi Elapsed 0.14561128616333008\n",
      "Trial= F:\\videos\\Ar30motor\\2021_07_09\\131.avi Elapsed 0.14861297607421875\n",
      "Trial= F:\\videos\\Ar30motor\\2021_07_09\\132.avi Elapsed 0.13065028190612793\n",
      "Trial= F:\\videos\\Ar30motor\\2021_07_09\\133.avi Elapsed 0.14264965057373047\n",
      "Trial= F:\\videos\\Ar30motor\\2021_07_09\\134.avi Elapsed 0.1465764045715332\n",
      "Trial= F:\\videos\\Ar30motor\\2021_07_09\\135.avi Elapsed 0.1466081142425537\n",
      "Trial= F:\\videos\\Ar30motor\\2021_07_09\\136.avi Elapsed 0.14461326599121094\n",
      "Trial= F:\\videos\\Ar30motor\\2021_07_09\\137.avi Elapsed 0.14261937141418457\n",
      "Trial= F:\\videos\\Ar30motor\\2021_07_09\\138.avi Elapsed 0.16957712173461914\n",
      "Trial= F:\\videos\\Ar30motor\\2021_07_09\\139.avi Elapsed 0.15256023406982422\n",
      "Trial= F:\\videos\\Ar30motor\\2021_07_09\\13.avi Elapsed 0.14461350440979004\n",
      "Trial= F:\\videos\\Ar30motor\\2021_07_09\\140.avi Elapsed 0.18450689315795898\n",
      "Trial= F:\\videos\\Ar30motor\\2021_07_09\\141.avi Elapsed 0.1737060546875\n",
      "Trial= F:\\videos\\Ar30motor\\2021_07_09\\142.avi Elapsed 0.1765275001525879\n",
      "Trial= F:\\videos\\Ar30motor\\2021_07_09\\143.avi Elapsed 0.14760494232177734\n",
      "Trial= F:\\videos\\Ar30motor\\2021_07_09\\144.avi Elapsed 0.14860296249389648\n",
      "Trial= F:\\videos\\Ar30motor\\2021_07_09\\145.avi Elapsed 0.16356253623962402\n",
      "Trial= F:\\videos\\Ar30motor\\2021_07_09\\146.avi Elapsed 0.16156816482543945\n",
      "Trial= F:\\videos\\Ar30motor\\2021_07_09\\147.avi Elapsed 0.15857481956481934\n",
      "Trial= F:\\videos\\Ar30motor\\2021_07_09\\148.avi Elapsed 0.15163922309875488\n",
      "Trial= F:\\videos\\Ar30motor\\2021_07_09\\149.avi Elapsed 0.14656472206115723\n",
      "Trial= F:\\videos\\Ar30motor\\2021_07_09\\14.avi Elapsed 0.1217184066772461\n",
      "Trial= F:\\videos\\Ar30motor\\2021_07_09\\150.avi Elapsed 0.15055227279663086\n",
      "Trial= F:\\videos\\Ar30motor\\2021_07_09\\151.avi Elapsed 0.14760494232177734\n",
      "Trial= F:\\videos\\Ar30motor\\2021_07_09\\152.avi Elapsed 0.14860320091247559\n",
      "Trial= F:\\videos\\Ar30motor\\2021_07_09\\153.avi Elapsed 0.18477725982666016\n",
      "Trial= F:\\videos\\Ar30motor\\2021_07_09\\154.avi Elapsed 0.14760541915893555\n",
      "Trial= F:\\videos\\Ar30motor\\2021_07_09\\155.avi Elapsed 0.15361428260803223\n",
      "Trial= F:\\videos\\Ar30motor\\2021_07_09\\156.avi Elapsed 0.15456128120422363\n",
      "Trial= F:\\videos\\Ar30motor\\2021_07_09\\157.avi Elapsed 0.15661239624023438\n",
      "Trial= F:\\videos\\Ar30motor\\2021_07_09\\158.avi Elapsed 0.15056705474853516\n",
      "Trial= F:\\videos\\Ar30motor\\2021_07_09\\159.avi Elapsed 0.14660882949829102\n",
      "Trial= F:\\videos\\Ar30motor\\2021_07_09\\15.avi Elapsed 0.1715402603149414\n",
      "Trial= F:\\videos\\Ar30motor\\2021_07_09\\160.avi Elapsed 0.1466078758239746\n",
      "Trial= F:\\videos\\Ar30motor\\2021_07_09\\161.avi Elapsed 0.18650150299072266\n",
      "Trial= F:\\videos\\Ar30motor\\2021_07_09\\162.avi Elapsed 0.15362000465393066\n",
      "Trial= F:\\videos\\Ar30motor\\2021_07_09\\163.avi Elapsed 0.15358924865722656\n",
      "Trial= F:\\videos\\Ar30motor\\2021_07_09\\164.avi Elapsed 0.09873652458190918\n",
      "Trial= F:\\videos\\Ar30motor\\2021_07_09\\165.avi Elapsed 0.0949244499206543\n",
      "Trial= F:\\videos\\Ar30motor\\2021_07_09\\166.avi Elapsed 0.13161587715148926\n",
      "Trial= F:\\videos\\Ar30motor\\2021_07_09\\167.avi Elapsed 0.1735365390777588\n",
      "Trial= F:\\videos\\Ar30motor\\2021_07_09\\168.avi Elapsed 0.13366103172302246\n",
      "Trial= F:\\videos\\Ar30motor\\2021_07_09\\169.avi Elapsed 0.12863802909851074\n",
      "Trial= F:\\videos\\Ar30motor\\2021_07_09\\16.avi Elapsed 0.1436152458190918\n",
      "Trial= F:\\videos\\Ar30motor\\2021_07_09\\170.avi Elapsed 0.11369657516479492\n",
      "Trial= F:\\videos\\Ar30motor\\2021_07_09\\171.avi Elapsed 0.1466360092163086\n",
      "Trial= F:\\videos\\Ar30motor\\2021_07_09\\172.avi Elapsed 0.1126704216003418\n",
      "Trial= F:\\videos\\Ar30motor\\2021_07_09\\173.avi Elapsed 0.11668729782104492\n",
      "Trial= F:\\videos\\Ar30motor\\2021_07_09\\174.avi Elapsed 0.1545870304107666\n",
      "Trial= F:\\videos\\Ar30motor\\2021_07_09\\175.avi Elapsed 0.1466071605682373\n",
      "Trial= F:\\videos\\Ar30motor\\2021_07_09\\176.avi Elapsed 0.1436169147491455\n",
      "Trial= F:\\videos\\Ar30motor\\2021_07_09\\177.avi Elapsed 0.1466076374053955\n",
      "Trial= F:\\videos\\Ar30motor\\2021_07_09\\178.avi Elapsed 0.12169885635375977\n",
      "Trial= F:\\videos\\Ar30motor\\2021_07_09\\179.avi Elapsed 0.14558649063110352\n",
      "Trial= F:\\videos\\Ar30motor\\2021_07_09\\17.avi Elapsed 0.14672470092773438\n",
      "Trial= F:\\videos\\Ar30motor\\2021_07_09\\180.avi Elapsed 0.16558527946472168\n",
      "Trial= F:\\videos\\Ar30motor\\2021_07_09\\181.avi Elapsed 0.15261149406433105\n",
      "Trial= F:\\videos\\Ar30motor\\2021_07_09\\182.avi Elapsed 0.1555631160736084\n",
      "Trial= F:\\videos\\Ar30motor\\2021_07_09\\183.avi Elapsed 0.1528463363647461\n",
      "Trial= F:\\videos\\Ar30motor\\2021_07_09\\184.avi Elapsed 0.15256190299987793\n",
      "Trial= F:\\videos\\Ar30motor\\2021_07_09\\185.avi Elapsed 0.15957069396972656\n",
      "Trial= F:\\videos\\Ar30motor\\2021_07_09\\186.avi Elapsed 0.1845076084136963\n",
      "Trial= F:\\videos\\Ar30motor\\2021_07_09\\187.avi Elapsed 0.15062880516052246\n",
      "Trial= F:\\videos\\Ar30motor\\2021_07_09\\188.avi Elapsed 0.157545804977417\n",
      "Trial= F:\\videos\\Ar30motor\\2021_07_09\\189.avi Elapsed 0.15361714363098145\n",
      "Trial= F:\\videos\\Ar30motor\\2021_07_09\\18.avi Elapsed 0.12763094902038574\n",
      "Trial= F:\\videos\\Ar30motor\\2021_07_09\\190.avi Elapsed 0.14263129234313965\n",
      "Trial= F:\\videos\\Ar30motor\\2021_07_09\\191.avi Elapsed 0.14562773704528809\n",
      "Trial= F:\\videos\\Ar30motor\\2021_07_09\\192.avi Elapsed 0.15059685707092285\n",
      "Trial= F:\\videos\\Ar30motor\\2021_07_09\\193.avi Elapsed 0.1476130485534668\n",
      "Trial= F:\\videos\\Ar30motor\\2021_07_09\\194.avi Elapsed 0.1436443328857422\n",
      "Trial= F:\\videos\\Ar30motor\\2021_07_09\\195.avi Elapsed 0.15851044654846191\n",
      "Trial= F:\\videos\\Ar30motor\\2021_07_09\\196.avi Elapsed 0.13364338874816895\n",
      "Trial= F:\\videos\\Ar30motor\\2021_07_09\\197.avi Elapsed 0.14860248565673828\n",
      "Trial= F:\\videos\\Ar30motor\\2021_07_09\\198.avi Elapsed 0.14162039756774902\n",
      "Trial= F:\\videos\\Ar30motor\\2021_07_09\\199.avi Elapsed 0.14960002899169922\n",
      "Trial= F:\\videos\\Ar30motor\\2021_07_09\\19.avi Elapsed 0.10970664024353027\n",
      "Trial= F:\\videos\\Ar30motor\\2021_07_09\\1.avi Elapsed 0.14261889457702637\n",
      "Trial= F:\\videos\\Ar30motor\\2021_07_09\\200.avi Elapsed 0.1466073989868164\n"
     ]
    },
    {
     "name": "stdout",
     "output_type": "stream",
     "text": [
      "Trial= F:\\videos\\Ar30motor\\2021_07_09\\201.avi Elapsed 0.1645646095275879\n",
      "Trial= F:\\videos\\Ar30motor\\2021_07_09\\202.avi Elapsed 0.14567327499389648\n",
      "Trial= F:\\videos\\Ar30motor\\2021_07_09\\20.avi Elapsed 0.11369609832763672\n",
      "Trial= F:\\videos\\Ar30motor\\2021_07_09\\2.avi Elapsed 0.15059685707092285\n"
     ]
    },
    {
     "ename": "IndexError",
     "evalue": "list index out of range",
     "output_type": "error",
     "traceback": [
      "\u001b[1;31m---------------------------------------------------------------------------\u001b[0m",
      "\u001b[1;31mIndexError\u001b[0m                                Traceback (most recent call last)",
      "\u001b[1;32m<ipython-input-1-64ad7931e0ea>\u001b[0m in \u001b[0;36m<module>\u001b[1;34m\u001b[0m\n\u001b[0;32m     14\u001b[0m     \u001b[0mt\u001b[0m \u001b[1;33m=\u001b[0m\u001b[0mtime\u001b[0m\u001b[1;33m.\u001b[0m\u001b[0mtime\u001b[0m\u001b[1;33m(\u001b[0m\u001b[1;33m)\u001b[0m\u001b[1;33m\u001b[0m\u001b[1;33m\u001b[0m\u001b[0m\n\u001b[0;32m     15\u001b[0m     \u001b[0mTag\u001b[0m \u001b[1;33m=\u001b[0m \u001b[1;34m'Topview'\u001b[0m\u001b[1;33m\u001b[0m\u001b[1;33m\u001b[0m\u001b[0m\n\u001b[1;32m---> 16\u001b[1;33m     \u001b[0mdf\u001b[0m\u001b[1;33m,\u001b[0m \u001b[0mAngle\u001b[0m\u001b[1;33m,\u001b[0m\u001b[0mDistance\u001b[0m\u001b[1;33m,\u001b[0m\u001b[0mmovivename\u001b[0m\u001b[1;33m=\u001b[0m\u001b[0mLR_movie_maker_Main\u001b[0m\u001b[1;33m.\u001b[0m\u001b[0mreadDLCfiles\u001b[0m\u001b[1;33m(\u001b[0m\u001b[0mMainfolder\u001b[0m\u001b[1;33m,\u001b[0m\u001b[0mTag\u001b[0m\u001b[1;33m,\u001b[0m\u001b[0mtrial\u001b[0m\u001b[1;33m)\u001b[0m\u001b[1;33m\u001b[0m\u001b[1;33m\u001b[0m\u001b[0m\n\u001b[0m\u001b[0;32m     17\u001b[0m     \u001b[0mtext\u001b[0m \u001b[1;33m=\u001b[0m \u001b[0mos\u001b[0m\u001b[1;33m.\u001b[0m\u001b[0mpath\u001b[0m\u001b[1;33m.\u001b[0m\u001b[0mbasename\u001b[0m\u001b[1;33m(\u001b[0m\u001b[0mmovivename\u001b[0m\u001b[1;33m)\u001b[0m\u001b[1;33m;\u001b[0m\u001b[1;33m\u001b[0m\u001b[1;33m\u001b[0m\u001b[0m\n\u001b[0;32m     18\u001b[0m \u001b[1;33m\u001b[0m\u001b[0m\n",
      "\u001b[1;32mD:\\Dropbox\\Notebook\\LR_movie_maker_Main.py\u001b[0m in \u001b[0;36mreadDLCfiles\u001b[1;34m(Mainfolder, Tag, trial)\u001b[0m\n\u001b[0;32m    109\u001b[0m     \u001b[0mXfiles\u001b[0m \u001b[1;33m=\u001b[0m \u001b[1;33m[\u001b[0m\u001b[0mos\u001b[0m\u001b[1;33m.\u001b[0m\u001b[0mpath\u001b[0m\u001b[1;33m.\u001b[0m\u001b[0mjoin\u001b[0m\u001b[1;33m(\u001b[0m\u001b[0mMainfolder\u001b[0m\u001b[1;33m,\u001b[0m\u001b[0mf\u001b[0m\u001b[1;33m)\u001b[0m \u001b[1;32mfor\u001b[0m \u001b[0mf\u001b[0m \u001b[1;32min\u001b[0m \u001b[0mos\u001b[0m\u001b[1;33m.\u001b[0m\u001b[0mlistdir\u001b[0m\u001b[1;33m(\u001b[0m\u001b[0mMainfolder\u001b[0m\u001b[1;33m)\u001b[0m \u001b[1;32mif\u001b[0m \u001b[0mf\u001b[0m\u001b[1;33m.\u001b[0m\u001b[0mendswith\u001b[0m\u001b[1;33m(\u001b[0m\u001b[1;34m'filtered.csv'\u001b[0m\u001b[1;33m)\u001b[0m \u001b[1;32mand\u001b[0m \u001b[0mTag\u001b[0m \u001b[1;32min\u001b[0m \u001b[0mf\u001b[0m\u001b[1;33m]\u001b[0m\u001b[1;33m\u001b[0m\u001b[1;33m\u001b[0m\u001b[0m\n\u001b[0;32m    110\u001b[0m     \u001b[1;31m# csv file name\u001b[0m\u001b[1;33m\u001b[0m\u001b[1;33m\u001b[0m\u001b[1;33m\u001b[0m\u001b[0m\n\u001b[1;32m--> 111\u001b[1;33m     \u001b[0mfilename\u001b[0m \u001b[1;33m=\u001b[0m \u001b[0mXfiles\u001b[0m\u001b[1;33m[\u001b[0m\u001b[0mtrial\u001b[0m\u001b[1;33m]\u001b[0m \u001b[1;31m# select the trial\u001b[0m\u001b[1;33m\u001b[0m\u001b[1;33m\u001b[0m\u001b[0m\n\u001b[0m\u001b[0;32m    112\u001b[0m     \u001b[0mdf\u001b[0m \u001b[1;33m=\u001b[0m \u001b[0mpd\u001b[0m\u001b[1;33m.\u001b[0m\u001b[0mread_csv\u001b[0m\u001b[1;33m(\u001b[0m\u001b[0mfilename\u001b[0m\u001b[1;33m,\u001b[0m \u001b[0mheader\u001b[0m\u001b[1;33m=\u001b[0m\u001b[1;36m2\u001b[0m \u001b[1;33m,\u001b[0m\u001b[0musecols\u001b[0m\u001b[1;33m=\u001b[0m\u001b[1;33m[\u001b[0m\u001b[1;34m'x'\u001b[0m\u001b[1;33m,\u001b[0m\u001b[1;34m'y'\u001b[0m\u001b[1;33m,\u001b[0m\u001b[1;34m'likelihood'\u001b[0m\u001b[1;33m,\u001b[0m\u001b[1;34m'x.1'\u001b[0m\u001b[1;33m,\u001b[0m\u001b[1;34m'y.1'\u001b[0m\u001b[1;33m,\u001b[0m\u001b[1;34m'likelihood.1'\u001b[0m\u001b[1;33m]\u001b[0m\u001b[1;33m)\u001b[0m\u001b[1;33m\u001b[0m\u001b[1;33m\u001b[0m\u001b[0m\n\u001b[0;32m    113\u001b[0m     \u001b[0mdf\u001b[0m\u001b[1;33m.\u001b[0m\u001b[0mcolumns\u001b[0m\u001b[1;33m=\u001b[0m  \u001b[1;33m[\u001b[0m\u001b[1;34m'Nosex'\u001b[0m\u001b[1;33m,\u001b[0m\u001b[1;34m'Nosey'\u001b[0m\u001b[1;33m,\u001b[0m\u001b[1;34m'Noselikelihood'\u001b[0m\u001b[1;33m,\u001b[0m\u001b[1;34m'Snoutx1'\u001b[0m\u001b[1;33m,\u001b[0m\u001b[1;34m'Snouty1'\u001b[0m\u001b[1;33m,\u001b[0m\u001b[1;34m'Snoutlikelihood'\u001b[0m\u001b[1;33m]\u001b[0m\u001b[1;33m\u001b[0m\u001b[1;33m\u001b[0m\u001b[0m\n",
      "\u001b[1;31mIndexError\u001b[0m: list index out of range"
     ]
    }
   ],
   "source": [
    "import time\n",
    "import numpy as np\n",
    "import os\n",
    "import LR_movie_maker_Main\n",
    "Mainfolder = 'F:\\\\videos\\\\Ar30motor\\\\2021_07_09'\n",
    "text_files = [os.path.join(Mainfolder,f) for f in os.listdir(Mainfolder) if f.endswith('.mp4') and not f.endswith('L.avi') and not f.endswith('R.avi') and not f.endswith('videopoints.avi') and not f.endswith('videopoints.avi')]\n",
    "print(len(text_files))\n",
    "\n",
    "\n",
    "\n",
    "for trial in range(len(text_files)):\n",
    "    t =time.time()\n",
    "    Tag = 'Topview'\n",
    "    df, Angle,Distance,movivename=LR_movie_maker_Main.readDLCfiles(Mainfolder,Tag,trial)\n",
    "    text = os.path.basename(movivename);\n",
    "    #%matplotlib notebook\n",
    "    Good_Frames =LR_movie_maker_Main.findgoodrames(0.8,50,150,df,Distance)\n",
    "    LR_movie_maker_Main.writeFrameData(Mainfolder,text,Good_Frames,df,Angle)\n",
    "    LR_movie_maker_Main.savemovies_LR(movivename,Angle,df,Good_Frames) \n",
    "    #plt.plot(Angle[Good_Frames==1] ,'r--')\n",
    "    #plt.title(os.path.basename(movivename))\n",
    "    elapsed = time.time() - t \n",
    "    video_name = (os.path.join(os.path.dirname(movivename),text.split('DLC')[0]+\".avi\"));\n",
    "    print('Trial=',video_name,'Elapsed',elapsed)"
   ]
  },
  {
   "cell_type": "code",
   "execution_count": null,
   "metadata": {},
   "outputs": [],
   "source": []
  },
  {
   "cell_type": "code",
   "execution_count": null,
   "metadata": {},
   "outputs": [],
   "source": []
  },
  {
   "cell_type": "code",
   "execution_count": 11,
   "metadata": {},
   "outputs": [
    {
     "name": "stdout",
     "output_type": "stream",
     "text": [
      "0DLC_resnet50_Topview3435Jul28shuffle1_110000_filtered.csv\n"
     ]
    }
   ],
   "source": [
    "print(os.path.basename(movivename))"
   ]
  },
  {
   "cell_type": "markdown",
   "metadata": {},
   "source": [
    "# now apply DLC already trained data on whiskers "
   ]
  },
  {
   "cell_type": "code",
   "execution_count": 12,
   "metadata": {},
   "outputs": [
    {
     "name": "stdout",
     "output_type": "stream",
     "text": [
      "Using snapshot-207000 for model F:\\videos\\Ar30motor\\2021_08_03_184113\\ar30shiwker-Arash-2021-09-13\\dlc-models\\iteration-0\\ar30shiwkerSep13-trainset95shuffle1\n",
      "Initializing ResNet\n",
      "Starting to analyze %  F:\\videos\\Ar30motor\\2021_07_09\\Mask0L.avi\n",
      "F:\\videos\\Ar30motor\\2021_07_09  already exists!\n",
      "Loading  F:\\videos\\Ar30motor\\2021_07_09\\Mask0L.avi\n",
      "Duration of video [s]:  10.0 , recorded with  40.0 fps!\n",
      "Overall # of frames:  400  found with (before cropping) frame dimensions:  314 700\n",
      "Starting to extract posture\n"
     ]
    },
    {
     "name": "stderr",
     "output_type": "stream",
     "text": [
      "410it [00:08, 69.06it/s]                                                                                               "
     ]
    },
    {
     "name": "stdout",
     "output_type": "stream",
     "text": [
      "Detected frames:  400\n"
     ]
    },
    {
     "name": "stderr",
     "output_type": "stream",
     "text": [
      "410it [00:08, 47.72it/s]\n"
     ]
    },
    {
     "name": "stdout",
     "output_type": "stream",
     "text": [
      "Saving results in F:\\videos\\Ar30motor\\2021_07_09...\n",
      "Saving csv poses!\n",
      "Starting to analyze %  F:\\videos\\Ar30motor\\2021_07_09\\Mask100L.avi\n",
      "F:\\videos\\Ar30motor\\2021_07_09  already exists!\n",
      "Loading  F:\\videos\\Ar30motor\\2021_07_09\\Mask100L.avi\n",
      "Duration of video [s]:  4.78 , recorded with  40.0 fps!\n",
      "Overall # of frames:  191  found with (before cropping) frame dimensions:  314 700\n",
      "Starting to extract posture\n"
     ]
    },
    {
     "name": "stderr",
     "output_type": "stream",
     "text": [
      "200it [00:02, 82.28it/s]                                                                                               "
     ]
    },
    {
     "name": "stdout",
     "output_type": "stream",
     "text": [
      "Detected frames:  191\n"
     ]
    },
    {
     "name": "stderr",
     "output_type": "stream",
     "text": [
      "200it [00:02, 78.29it/s]\n"
     ]
    },
    {
     "name": "stdout",
     "output_type": "stream",
     "text": [
      "Saving results in F:\\videos\\Ar30motor\\2021_07_09...\n",
      "Saving csv poses!\n",
      "Starting to analyze %  F:\\videos\\Ar30motor\\2021_07_09\\Mask101L.avi\n",
      "F:\\videos\\Ar30motor\\2021_07_09  already exists!\n",
      "Loading  F:\\videos\\Ar30motor\\2021_07_09\\Mask101L.avi\n",
      "Duration of video [s]:  5.42 , recorded with  40.0 fps!\n",
      "Overall # of frames:  217  found with (before cropping) frame dimensions:  314 700\n",
      "Starting to extract posture\n"
     ]
    },
    {
     "name": "stderr",
     "output_type": "stream",
     "text": [
      "220it [00:02, 70.81it/s]                                                                                               "
     ]
    },
    {
     "name": "stdout",
     "output_type": "stream",
     "text": [
      "Detected frames:  217\n"
     ]
    },
    {
     "name": "stderr",
     "output_type": "stream",
     "text": [
      "220it [00:03, 72.04it/s]\n"
     ]
    },
    {
     "name": "stdout",
     "output_type": "stream",
     "text": [
      "Saving results in F:\\videos\\Ar30motor\\2021_07_09...\n",
      "Saving csv poses!\n",
      "Starting to analyze %  F:\\videos\\Ar30motor\\2021_07_09\\Mask102L.avi\n",
      "F:\\videos\\Ar30motor\\2021_07_09  already exists!\n",
      "Loading  F:\\videos\\Ar30motor\\2021_07_09\\Mask102L.avi\n",
      "Duration of video [s]:  10.0 , recorded with  40.0 fps!\n",
      "Overall # of frames:  400  found with (before cropping) frame dimensions:  314 700\n",
      "Starting to extract posture\n"
     ]
    },
    {
     "name": "stderr",
     "output_type": "stream",
     "text": [
      "410it [00:05, 67.77it/s]                                                                                               "
     ]
    },
    {
     "name": "stdout",
     "output_type": "stream",
     "text": [
      "Detected frames:  400\n"
     ]
    },
    {
     "name": "stderr",
     "output_type": "stream",
     "text": [
      "410it [00:05, 77.32it/s]\n"
     ]
    },
    {
     "name": "stdout",
     "output_type": "stream",
     "text": [
      "Saving results in F:\\videos\\Ar30motor\\2021_07_09...\n",
      "Saving csv poses!\n",
      "Starting to analyze %  F:\\videos\\Ar30motor\\2021_07_09\\Mask103L.avi\n",
      "F:\\videos\\Ar30motor\\2021_07_09  already exists!\n",
      "Loading  F:\\videos\\Ar30motor\\2021_07_09\\Mask103L.avi\n",
      "Duration of video [s]:  6.5 , recorded with  40.0 fps!\n",
      "Overall # of frames:  260  found with (before cropping) frame dimensions:  314 700\n",
      "Starting to extract posture\n"
     ]
    },
    {
     "name": "stderr",
     "output_type": "stream",
     "text": [
      "270it [00:03, 79.74it/s]                                                                                               "
     ]
    },
    {
     "name": "stdout",
     "output_type": "stream",
     "text": [
      "Detected frames:  260\n"
     ]
    },
    {
     "name": "stderr",
     "output_type": "stream",
     "text": [
      "270it [00:03, 76.42it/s]\n"
     ]
    },
    {
     "name": "stdout",
     "output_type": "stream",
     "text": [
      "Saving results in F:\\videos\\Ar30motor\\2021_07_09...\n",
      "Saving csv poses!\n",
      "Starting to analyze %  F:\\videos\\Ar30motor\\2021_07_09\\Mask104L.avi\n",
      "F:\\videos\\Ar30motor\\2021_07_09  already exists!\n",
      "Loading  F:\\videos\\Ar30motor\\2021_07_09\\Mask104L.avi\n",
      "Duration of video [s]:  10.0 , recorded with  40.0 fps!\n",
      "Overall # of frames:  400  found with (before cropping) frame dimensions:  314 700\n",
      "Starting to extract posture\n"
     ]
    },
    {
     "name": "stderr",
     "output_type": "stream",
     "text": [
      "410it [00:05, 68.92it/s]                                                                                               "
     ]
    },
    {
     "name": "stdout",
     "output_type": "stream",
     "text": [
      "Detected frames:  400\n"
     ]
    },
    {
     "name": "stderr",
     "output_type": "stream",
     "text": [
      "410it [00:05, 77.65it/s]\n"
     ]
    },
    {
     "name": "stdout",
     "output_type": "stream",
     "text": [
      "Saving results in F:\\videos\\Ar30motor\\2021_07_09...\n",
      "Saving csv poses!\n",
      "Starting to analyze %  F:\\videos\\Ar30motor\\2021_07_09\\Mask105L.avi\n",
      "F:\\videos\\Ar30motor\\2021_07_09  already exists!\n",
      "Loading  F:\\videos\\Ar30motor\\2021_07_09\\Mask105L.avi\n",
      "Duration of video [s]:  10.0 , recorded with  40.0 fps!\n",
      "Overall # of frames:  400  found with (before cropping) frame dimensions:  314 700\n",
      "Starting to extract posture\n"
     ]
    },
    {
     "name": "stderr",
     "output_type": "stream",
     "text": [
      "410it [00:05, 61.21it/s]                                                                                               "
     ]
    },
    {
     "name": "stdout",
     "output_type": "stream",
     "text": [
      "Detected frames:  400\n"
     ]
    },
    {
     "name": "stderr",
     "output_type": "stream",
     "text": [
      "410it [00:05, 76.63it/s]\n"
     ]
    },
    {
     "name": "stdout",
     "output_type": "stream",
     "text": [
      "Saving results in F:\\videos\\Ar30motor\\2021_07_09...\n",
      "Saving csv poses!\n",
      "Starting to analyze %  F:\\videos\\Ar30motor\\2021_07_09\\Mask106L.avi\n",
      "F:\\videos\\Ar30motor\\2021_07_09  already exists!\n",
      "Loading  F:\\videos\\Ar30motor\\2021_07_09\\Mask106L.avi\n",
      "Duration of video [s]:  10.0 , recorded with  40.0 fps!\n",
      "Overall # of frames:  400  found with (before cropping) frame dimensions:  314 700\n",
      "Starting to extract posture\n"
     ]
    },
    {
     "name": "stderr",
     "output_type": "stream",
     "text": [
      "410it [00:05, 66.28it/s]                                                                                               "
     ]
    },
    {
     "name": "stdout",
     "output_type": "stream",
     "text": [
      "Detected frames:  400\n"
     ]
    },
    {
     "name": "stderr",
     "output_type": "stream",
     "text": [
      "410it [00:05, 75.92it/s]\n"
     ]
    },
    {
     "name": "stdout",
     "output_type": "stream",
     "text": [
      "Saving results in F:\\videos\\Ar30motor\\2021_07_09...\n",
      "Saving csv poses!\n",
      "Starting to analyze %  F:\\videos\\Ar30motor\\2021_07_09\\Mask107L.avi\n",
      "F:\\videos\\Ar30motor\\2021_07_09  already exists!\n",
      "Loading  F:\\videos\\Ar30motor\\2021_07_09\\Mask107L.avi\n",
      "Duration of video [s]:  10.0 , recorded with  40.0 fps!\n",
      "Overall # of frames:  400  found with (before cropping) frame dimensions:  314 700\n",
      "Starting to extract posture\n"
     ]
    },
    {
     "name": "stderr",
     "output_type": "stream",
     "text": [
      "410it [00:05, 65.11it/s]                                                                                               "
     ]
    },
    {
     "name": "stdout",
     "output_type": "stream",
     "text": [
      "Detected frames:  400\n"
     ]
    },
    {
     "name": "stderr",
     "output_type": "stream",
     "text": [
      "410it [00:05, 75.81it/s]\n"
     ]
    },
    {
     "name": "stdout",
     "output_type": "stream",
     "text": [
      "Saving results in F:\\videos\\Ar30motor\\2021_07_09...\n",
      "Saving csv poses!\n",
      "Starting to analyze %  F:\\videos\\Ar30motor\\2021_07_09\\Mask108L.avi\n",
      "F:\\videos\\Ar30motor\\2021_07_09  already exists!\n",
      "Loading  F:\\videos\\Ar30motor\\2021_07_09\\Mask108L.avi\n",
      "Duration of video [s]:  10.0 , recorded with  40.0 fps!\n",
      "Overall # of frames:  400  found with (before cropping) frame dimensions:  314 700\n",
      "Starting to extract posture\n"
     ]
    },
    {
     "name": "stderr",
     "output_type": "stream",
     "text": [
      "410it [00:05, 65.44it/s]                                                                                               "
     ]
    },
    {
     "name": "stdout",
     "output_type": "stream",
     "text": [
      "Detected frames:  400\n"
     ]
    },
    {
     "name": "stderr",
     "output_type": "stream",
     "text": [
      "410it [00:05, 74.06it/s]\n"
     ]
    },
    {
     "name": "stdout",
     "output_type": "stream",
     "text": [
      "Saving results in F:\\videos\\Ar30motor\\2021_07_09...\n",
      "Saving csv poses!\n",
      "Starting to analyze %  F:\\videos\\Ar30motor\\2021_07_09\\Mask109L.avi\n",
      "F:\\videos\\Ar30motor\\2021_07_09  already exists!\n",
      "Loading  F:\\videos\\Ar30motor\\2021_07_09\\Mask109L.avi\n",
      "Duration of video [s]:  10.0 , recorded with  40.0 fps!\n",
      "Overall # of frames:  400  found with (before cropping) frame dimensions:  314 700\n",
      "Starting to extract posture\n"
     ]
    },
    {
     "name": "stderr",
     "output_type": "stream",
     "text": [
      "410it [00:05, 65.06it/s]                                                                                               "
     ]
    },
    {
     "name": "stdout",
     "output_type": "stream",
     "text": [
      "Detected frames:  400\n"
     ]
    },
    {
     "name": "stderr",
     "output_type": "stream",
     "text": [
      "410it [00:05, 73.75it/s]\n"
     ]
    },
    {
     "name": "stdout",
     "output_type": "stream",
     "text": [
      "Saving results in F:\\videos\\Ar30motor\\2021_07_09...\n",
      "Saving csv poses!\n",
      "Starting to analyze %  F:\\videos\\Ar30motor\\2021_07_09\\Mask10L.avi\n",
      "F:\\videos\\Ar30motor\\2021_07_09  already exists!\n",
      "Loading  F:\\videos\\Ar30motor\\2021_07_09\\Mask10L.avi\n",
      "Duration of video [s]:  8.8 , recorded with  40.0 fps!\n",
      "Overall # of frames:  352  found with (before cropping) frame dimensions:  314 700\n",
      "Starting to extract posture\n"
     ]
    },
    {
     "name": "stderr",
     "output_type": "stream",
     "text": [
      "360it [00:04, 79.01it/s]                                                                                               "
     ]
    },
    {
     "name": "stdout",
     "output_type": "stream",
     "text": [
      "Detected frames:  352\n"
     ]
    },
    {
     "name": "stderr",
     "output_type": "stream",
     "text": [
      "360it [00:04, 73.76it/s]\n"
     ]
    },
    {
     "name": "stdout",
     "output_type": "stream",
     "text": [
      "Saving results in F:\\videos\\Ar30motor\\2021_07_09...\n",
      "Saving csv poses!\n",
      "Starting to analyze %  F:\\videos\\Ar30motor\\2021_07_09\\Mask110L.avi\n",
      "F:\\videos\\Ar30motor\\2021_07_09  already exists!\n",
      "Loading  F:\\videos\\Ar30motor\\2021_07_09\\Mask110L.avi\n",
      "Duration of video [s]:  10.0 , recorded with  40.0 fps!\n",
      "Overall # of frames:  400  found with (before cropping) frame dimensions:  314 700\n",
      "Starting to extract posture\n"
     ]
    },
    {
     "name": "stderr",
     "output_type": "stream",
     "text": [
      "410it [00:05, 64.81it/s]                                                                                               "
     ]
    },
    {
     "name": "stdout",
     "output_type": "stream",
     "text": [
      "Detected frames:  400\n"
     ]
    },
    {
     "name": "stderr",
     "output_type": "stream",
     "text": [
      "410it [00:05, 73.76it/s]\n"
     ]
    },
    {
     "name": "stdout",
     "output_type": "stream",
     "text": [
      "Saving results in F:\\videos\\Ar30motor\\2021_07_09...\n",
      "Saving csv poses!\n",
      "Starting to analyze %  F:\\videos\\Ar30motor\\2021_07_09\\Mask111L.avi\n",
      "F:\\videos\\Ar30motor\\2021_07_09  already exists!\n",
      "Loading  F:\\videos\\Ar30motor\\2021_07_09\\Mask111L.avi\n",
      "Duration of video [s]:  10.0 , recorded with  40.0 fps!\n",
      "Overall # of frames:  400  found with (before cropping) frame dimensions:  314 700\n",
      "Starting to extract posture\n"
     ]
    },
    {
     "name": "stderr",
     "output_type": "stream",
     "text": [
      "410it [00:05, 64.27it/s]                                                                                               "
     ]
    },
    {
     "name": "stdout",
     "output_type": "stream",
     "text": [
      "Detected frames:  400\n"
     ]
    },
    {
     "name": "stderr",
     "output_type": "stream",
     "text": [
      "410it [00:05, 73.63it/s]\n"
     ]
    },
    {
     "name": "stdout",
     "output_type": "stream",
     "text": [
      "Saving results in F:\\videos\\Ar30motor\\2021_07_09...\n",
      "Saving csv poses!\n",
      "Starting to analyze %  F:\\videos\\Ar30motor\\2021_07_09\\Mask112L.avi\n",
      "F:\\videos\\Ar30motor\\2021_07_09  already exists!\n",
      "Loading  F:\\videos\\Ar30motor\\2021_07_09\\Mask112L.avi\n",
      "Duration of video [s]:  10.0 , recorded with  40.0 fps!\n",
      "Overall # of frames:  400  found with (before cropping) frame dimensions:  314 700\n",
      "Starting to extract posture\n"
     ]
    },
    {
     "name": "stderr",
     "output_type": "stream",
     "text": [
      "410it [00:05, 64.74it/s]                                                                                               "
     ]
    },
    {
     "name": "stdout",
     "output_type": "stream",
     "text": [
      "Detected frames:  400\n"
     ]
    },
    {
     "name": "stderr",
     "output_type": "stream",
     "text": [
      "410it [00:05, 73.44it/s]\n"
     ]
    },
    {
     "name": "stdout",
     "output_type": "stream",
     "text": [
      "Saving results in F:\\videos\\Ar30motor\\2021_07_09...\n",
      "Saving csv poses!\n",
      "Starting to analyze %  F:\\videos\\Ar30motor\\2021_07_09\\Mask113L.avi\n",
      "F:\\videos\\Ar30motor\\2021_07_09  already exists!\n",
      "Loading  F:\\videos\\Ar30motor\\2021_07_09\\Mask113L.avi\n",
      "Duration of video [s]:  10.0 , recorded with  40.0 fps!\n",
      "Overall # of frames:  400  found with (before cropping) frame dimensions:  314 700\n",
      "Starting to extract posture\n"
     ]
    },
    {
     "name": "stderr",
     "output_type": "stream",
     "text": [
      "410it [00:05, 64.79it/s]                                                                                               "
     ]
    },
    {
     "name": "stdout",
     "output_type": "stream",
     "text": [
      "Detected frames:  400\n"
     ]
    },
    {
     "name": "stderr",
     "output_type": "stream",
     "text": [
      "410it [00:05, 73.10it/s]\n"
     ]
    },
    {
     "name": "stdout",
     "output_type": "stream",
     "text": [
      "Saving results in F:\\videos\\Ar30motor\\2021_07_09...\n",
      "Saving csv poses!\n",
      "Starting to analyze %  F:\\videos\\Ar30motor\\2021_07_09\\Mask114L.avi\n",
      "F:\\videos\\Ar30motor\\2021_07_09  already exists!\n",
      "Loading  F:\\videos\\Ar30motor\\2021_07_09\\Mask114L.avi\n",
      "Duration of video [s]:  10.0 , recorded with  40.0 fps!\n",
      "Overall # of frames:  400  found with (before cropping) frame dimensions:  314 700\n",
      "Starting to extract posture\n"
     ]
    },
    {
     "name": "stderr",
     "output_type": "stream",
     "text": [
      "410it [00:05, 63.76it/s]                                                                                               "
     ]
    },
    {
     "name": "stdout",
     "output_type": "stream",
     "text": [
      "Detected frames:  400\n"
     ]
    },
    {
     "name": "stderr",
     "output_type": "stream",
     "text": [
      "410it [00:05, 72.58it/s]\n"
     ]
    },
    {
     "name": "stdout",
     "output_type": "stream",
     "text": [
      "Saving results in F:\\videos\\Ar30motor\\2021_07_09...\n",
      "Saving csv poses!\n",
      "Starting to analyze %  F:\\videos\\Ar30motor\\2021_07_09\\Mask115L.avi\n",
      "F:\\videos\\Ar30motor\\2021_07_09  already exists!\n",
      "Loading  F:\\videos\\Ar30motor\\2021_07_09\\Mask115L.avi\n",
      "Duration of video [s]:  10.0 , recorded with  40.0 fps!\n",
      "Overall # of frames:  400  found with (before cropping) frame dimensions:  314 700\n",
      "Starting to extract posture\n"
     ]
    },
    {
     "name": "stderr",
     "output_type": "stream",
     "text": [
      "410it [00:05, 64.64it/s]                                                                                               "
     ]
    },
    {
     "name": "stdout",
     "output_type": "stream",
     "text": [
      "Detected frames:  400\n"
     ]
    },
    {
     "name": "stderr",
     "output_type": "stream",
     "text": [
      "410it [00:05, 73.17it/s]\n"
     ]
    },
    {
     "name": "stdout",
     "output_type": "stream",
     "text": [
      "Saving results in F:\\videos\\Ar30motor\\2021_07_09...\n",
      "Saving csv poses!\n",
      "Starting to analyze %  F:\\videos\\Ar30motor\\2021_07_09\\Mask116L.avi\n",
      "F:\\videos\\Ar30motor\\2021_07_09  already exists!\n",
      "Loading  F:\\videos\\Ar30motor\\2021_07_09\\Mask116L.avi\n",
      "Duration of video [s]:  10.0 , recorded with  40.0 fps!\n",
      "Overall # of frames:  400  found with (before cropping) frame dimensions:  314 700\n",
      "Starting to extract posture\n"
     ]
    },
    {
     "name": "stderr",
     "output_type": "stream",
     "text": [
      "410it [00:05, 64.67it/s]                                                                                               "
     ]
    },
    {
     "name": "stdout",
     "output_type": "stream",
     "text": [
      "Detected frames:  400\n"
     ]
    },
    {
     "name": "stderr",
     "output_type": "stream",
     "text": [
      "410it [00:05, 73.07it/s]\n"
     ]
    },
    {
     "name": "stdout",
     "output_type": "stream",
     "text": [
      "Saving results in F:\\videos\\Ar30motor\\2021_07_09...\n",
      "Saving csv poses!\n",
      "Starting to analyze %  F:\\videos\\Ar30motor\\2021_07_09\\Mask117L.avi\n",
      "F:\\videos\\Ar30motor\\2021_07_09  already exists!\n",
      "Loading  F:\\videos\\Ar30motor\\2021_07_09\\Mask117L.avi\n",
      "Duration of video [s]:  10.0 , recorded with  40.0 fps!\n",
      "Overall # of frames:  400  found with (before cropping) frame dimensions:  314 700\n",
      "Starting to extract posture\n"
     ]
    },
    {
     "name": "stderr",
     "output_type": "stream",
     "text": [
      "410it [00:05, 64.78it/s]                                                                                               "
     ]
    },
    {
     "name": "stdout",
     "output_type": "stream",
     "text": [
      "Detected frames:  400\n"
     ]
    },
    {
     "name": "stderr",
     "output_type": "stream",
     "text": [
      "410it [00:05, 73.23it/s]\n"
     ]
    },
    {
     "name": "stdout",
     "output_type": "stream",
     "text": [
      "Saving results in F:\\videos\\Ar30motor\\2021_07_09...\n",
      "Saving csv poses!\n",
      "Starting to analyze %  F:\\videos\\Ar30motor\\2021_07_09\\Mask118L.avi\n",
      "F:\\videos\\Ar30motor\\2021_07_09  already exists!\n",
      "Loading  F:\\videos\\Ar30motor\\2021_07_09\\Mask118L.avi\n",
      "Duration of video [s]:  10.0 , recorded with  40.0 fps!\n",
      "Overall # of frames:  400  found with (before cropping) frame dimensions:  314 700\n",
      "Starting to extract posture\n"
     ]
    },
    {
     "name": "stderr",
     "output_type": "stream",
     "text": [
      "410it [00:05, 65.10it/s]                                                                                               "
     ]
    },
    {
     "name": "stdout",
     "output_type": "stream",
     "text": [
      "Detected frames:  400\n"
     ]
    },
    {
     "name": "stderr",
     "output_type": "stream",
     "text": [
      "410it [00:05, 73.32it/s]\n"
     ]
    },
    {
     "name": "stdout",
     "output_type": "stream",
     "text": [
      "Saving results in F:\\videos\\Ar30motor\\2021_07_09...\n",
      "Saving csv poses!\n",
      "Starting to analyze %  F:\\videos\\Ar30motor\\2021_07_09\\Mask119L.avi\n",
      "F:\\videos\\Ar30motor\\2021_07_09  already exists!\n",
      "Loading  F:\\videos\\Ar30motor\\2021_07_09\\Mask119L.avi\n",
      "Duration of video [s]:  10.0 , recorded with  40.0 fps!\n",
      "Overall # of frames:  400  found with (before cropping) frame dimensions:  314 700\n",
      "Starting to extract posture\n"
     ]
    },
    {
     "name": "stderr",
     "output_type": "stream",
     "text": [
      "410it [00:05, 64.66it/s]                                                                                               "
     ]
    },
    {
     "name": "stdout",
     "output_type": "stream",
     "text": [
      "Detected frames:  400\n"
     ]
    },
    {
     "name": "stderr",
     "output_type": "stream",
     "text": [
      "410it [00:05, 73.27it/s]\n"
     ]
    },
    {
     "name": "stdout",
     "output_type": "stream",
     "text": [
      "Saving results in F:\\videos\\Ar30motor\\2021_07_09...\n",
      "Saving csv poses!\n",
      "Starting to analyze %  F:\\videos\\Ar30motor\\2021_07_09\\Mask11L.avi\n",
      "F:\\videos\\Ar30motor\\2021_07_09  already exists!\n",
      "Loading  F:\\videos\\Ar30motor\\2021_07_09\\Mask11L.avi\n",
      "Duration of video [s]:  5.67 , recorded with  40.0 fps!\n",
      "Overall # of frames:  227  found with (before cropping) frame dimensions:  314 700\n",
      "Starting to extract posture\n"
     ]
    },
    {
     "name": "stderr",
     "output_type": "stream",
     "text": [
      "230it [00:03, 75.06it/s]                                                                                               "
     ]
    },
    {
     "name": "stdout",
     "output_type": "stream",
     "text": [
      "Detected frames:  227\n"
     ]
    },
    {
     "name": "stderr",
     "output_type": "stream",
     "text": [
      "230it [00:03, 70.76it/s]\n"
     ]
    },
    {
     "name": "stdout",
     "output_type": "stream",
     "text": [
      "Saving results in F:\\videos\\Ar30motor\\2021_07_09...\n",
      "Saving csv poses!\n",
      "Starting to analyze %  F:\\videos\\Ar30motor\\2021_07_09\\Mask120L.avi\n",
      "F:\\videos\\Ar30motor\\2021_07_09  already exists!\n",
      "Loading  F:\\videos\\Ar30motor\\2021_07_09\\Mask120L.avi\n",
      "Duration of video [s]:  10.0 , recorded with  40.0 fps!\n",
      "Overall # of frames:  400  found with (before cropping) frame dimensions:  314 700\n",
      "Starting to extract posture\n"
     ]
    },
    {
     "name": "stderr",
     "output_type": "stream",
     "text": [
      "410it [00:05, 64.57it/s]                                                                                               "
     ]
    },
    {
     "name": "stdout",
     "output_type": "stream",
     "text": [
      "Detected frames:  400\n"
     ]
    },
    {
     "name": "stderr",
     "output_type": "stream",
     "text": [
      "410it [00:05, 72.89it/s]\n"
     ]
    },
    {
     "name": "stdout",
     "output_type": "stream",
     "text": [
      "Saving results in F:\\videos\\Ar30motor\\2021_07_09...\n",
      "Saving csv poses!\n",
      "Starting to analyze %  F:\\videos\\Ar30motor\\2021_07_09\\Mask121L.avi\n",
      "F:\\videos\\Ar30motor\\2021_07_09  already exists!\n",
      "Loading  F:\\videos\\Ar30motor\\2021_07_09\\Mask121L.avi\n",
      "Duration of video [s]:  10.0 , recorded with  40.0 fps!\n",
      "Overall # of frames:  400  found with (before cropping) frame dimensions:  314 700\n",
      "Starting to extract posture\n"
     ]
    },
    {
     "name": "stderr",
     "output_type": "stream",
     "text": [
      "410it [00:05, 65.29it/s]                                                                                               "
     ]
    },
    {
     "name": "stdout",
     "output_type": "stream",
     "text": [
      "Detected frames:  400\n"
     ]
    },
    {
     "name": "stderr",
     "output_type": "stream",
     "text": [
      "410it [00:05, 73.53it/s]\n"
     ]
    },
    {
     "name": "stdout",
     "output_type": "stream",
     "text": [
      "Saving results in F:\\videos\\Ar30motor\\2021_07_09...\n",
      "Saving csv poses!\n",
      "Starting to analyze %  F:\\videos\\Ar30motor\\2021_07_09\\Mask122L.avi\n",
      "F:\\videos\\Ar30motor\\2021_07_09  already exists!\n",
      "Loading  F:\\videos\\Ar30motor\\2021_07_09\\Mask122L.avi\n",
      "Duration of video [s]:  10.0 , recorded with  40.0 fps!\n",
      "Overall # of frames:  400  found with (before cropping) frame dimensions:  314 700\n",
      "Starting to extract posture\n"
     ]
    },
    {
     "name": "stderr",
     "output_type": "stream",
     "text": [
      "410it [00:05, 64.65it/s]                                                                                               "
     ]
    },
    {
     "name": "stdout",
     "output_type": "stream",
     "text": [
      "Detected frames:  400\n"
     ]
    },
    {
     "name": "stderr",
     "output_type": "stream",
     "text": [
      "410it [00:05, 73.19it/s]\n"
     ]
    },
    {
     "name": "stdout",
     "output_type": "stream",
     "text": [
      "Saving results in F:\\videos\\Ar30motor\\2021_07_09...\n",
      "Saving csv poses!\n",
      "Starting to analyze %  F:\\videos\\Ar30motor\\2021_07_09\\Mask123L.avi\n",
      "F:\\videos\\Ar30motor\\2021_07_09  already exists!\n",
      "Loading  F:\\videos\\Ar30motor\\2021_07_09\\Mask123L.avi\n",
      "Duration of video [s]:  10.0 , recorded with  40.0 fps!\n",
      "Overall # of frames:  400  found with (before cropping) frame dimensions:  314 700\n",
      "Starting to extract posture\n"
     ]
    },
    {
     "name": "stderr",
     "output_type": "stream",
     "text": [
      "410it [00:05, 64.47it/s]                                                                                               "
     ]
    },
    {
     "name": "stdout",
     "output_type": "stream",
     "text": [
      "Detected frames:  400\n"
     ]
    },
    {
     "name": "stderr",
     "output_type": "stream",
     "text": [
      "410it [00:05, 73.06it/s]\n"
     ]
    },
    {
     "name": "stdout",
     "output_type": "stream",
     "text": [
      "Saving results in F:\\videos\\Ar30motor\\2021_07_09...\n",
      "Saving csv poses!\n",
      "Starting to analyze %  F:\\videos\\Ar30motor\\2021_07_09\\Mask124L.avi\n",
      "F:\\videos\\Ar30motor\\2021_07_09  already exists!\n",
      "Loading  F:\\videos\\Ar30motor\\2021_07_09\\Mask124L.avi\n",
      "Duration of video [s]:  7.33 , recorded with  40.0 fps!\n",
      "Overall # of frames:  293  found with (before cropping) frame dimensions:  314 700\n",
      "Starting to extract posture\n"
     ]
    },
    {
     "name": "stderr",
     "output_type": "stream",
     "text": [
      "300it [00:04, 71.54it/s]                                                                                               "
     ]
    },
    {
     "name": "stdout",
     "output_type": "stream",
     "text": [
      "Detected frames:  293\n"
     ]
    },
    {
     "name": "stderr",
     "output_type": "stream",
     "text": [
      "300it [00:04, 72.61it/s]\n"
     ]
    },
    {
     "name": "stdout",
     "output_type": "stream",
     "text": [
      "Saving results in F:\\videos\\Ar30motor\\2021_07_09...\n",
      "Saving csv poses!\n",
      "Starting to analyze %  F:\\videos\\Ar30motor\\2021_07_09\\Mask125L.avi\n",
      "F:\\videos\\Ar30motor\\2021_07_09  already exists!\n",
      "Loading  F:\\videos\\Ar30motor\\2021_07_09\\Mask125L.avi\n",
      "Duration of video [s]:  10.0 , recorded with  40.0 fps!\n",
      "Overall # of frames:  400  found with (before cropping) frame dimensions:  314 700\n",
      "Starting to extract posture\n"
     ]
    },
    {
     "name": "stderr",
     "output_type": "stream",
     "text": [
      "410it [00:05, 64.47it/s]                                                                                               "
     ]
    },
    {
     "name": "stdout",
     "output_type": "stream",
     "text": [
      "Detected frames:  400\n"
     ]
    },
    {
     "name": "stderr",
     "output_type": "stream",
     "text": [
      "410it [00:05, 73.02it/s]\n"
     ]
    },
    {
     "name": "stdout",
     "output_type": "stream",
     "text": [
      "Saving results in F:\\videos\\Ar30motor\\2021_07_09...\n",
      "Saving csv poses!\n",
      "Starting to analyze %  F:\\videos\\Ar30motor\\2021_07_09\\Mask126L.avi\n",
      "F:\\videos\\Ar30motor\\2021_07_09  already exists!\n",
      "Loading  F:\\videos\\Ar30motor\\2021_07_09\\Mask126L.avi\n",
      "Duration of video [s]:  10.0 , recorded with  40.0 fps!\n",
      "Overall # of frames:  400  found with (before cropping) frame dimensions:  314 700\n",
      "Starting to extract posture\n"
     ]
    },
    {
     "name": "stderr",
     "output_type": "stream",
     "text": [
      "410it [00:05, 64.19it/s]                                                                                               "
     ]
    },
    {
     "name": "stdout",
     "output_type": "stream",
     "text": [
      "Detected frames:  400\n"
     ]
    },
    {
     "name": "stderr",
     "output_type": "stream",
     "text": [
      "410it [00:05, 72.84it/s]\n"
     ]
    },
    {
     "name": "stdout",
     "output_type": "stream",
     "text": [
      "Saving results in F:\\videos\\Ar30motor\\2021_07_09...\n",
      "Saving csv poses!\n",
      "Starting to analyze %  F:\\videos\\Ar30motor\\2021_07_09\\Mask127L.avi\n",
      "F:\\videos\\Ar30motor\\2021_07_09  already exists!\n",
      "Loading  F:\\videos\\Ar30motor\\2021_07_09\\Mask127L.avi\n",
      "Duration of video [s]:  10.0 , recorded with  40.0 fps!\n",
      "Overall # of frames:  400  found with (before cropping) frame dimensions:  314 700\n",
      "Starting to extract posture\n"
     ]
    },
    {
     "name": "stderr",
     "output_type": "stream",
     "text": [
      "410it [00:05, 64.59it/s]                                                                                               "
     ]
    },
    {
     "name": "stdout",
     "output_type": "stream",
     "text": [
      "Detected frames:  400\n"
     ]
    },
    {
     "name": "stderr",
     "output_type": "stream",
     "text": [
      "410it [00:05, 73.14it/s]\n"
     ]
    },
    {
     "name": "stdout",
     "output_type": "stream",
     "text": [
      "Saving results in F:\\videos\\Ar30motor\\2021_07_09...\n",
      "Saving csv poses!\n",
      "Starting to analyze %  F:\\videos\\Ar30motor\\2021_07_09\\Mask128L.avi\n",
      "F:\\videos\\Ar30motor\\2021_07_09  already exists!\n",
      "Loading  F:\\videos\\Ar30motor\\2021_07_09\\Mask128L.avi\n",
      "Duration of video [s]:  10.0 , recorded with  40.0 fps!\n",
      "Overall # of frames:  400  found with (before cropping) frame dimensions:  314 700\n",
      "Starting to extract posture\n"
     ]
    },
    {
     "name": "stderr",
     "output_type": "stream",
     "text": [
      "410it [00:05, 64.23it/s]                                                                                               "
     ]
    },
    {
     "name": "stdout",
     "output_type": "stream",
     "text": [
      "Detected frames:  400\n"
     ]
    },
    {
     "name": "stderr",
     "output_type": "stream",
     "text": [
      "410it [00:05, 72.87it/s]\n"
     ]
    },
    {
     "name": "stdout",
     "output_type": "stream",
     "text": [
      "Saving results in F:\\videos\\Ar30motor\\2021_07_09...\n",
      "Saving csv poses!\n",
      "Starting to analyze %  F:\\videos\\Ar30motor\\2021_07_09\\Mask129L.avi\n",
      "F:\\videos\\Ar30motor\\2021_07_09  already exists!\n",
      "Loading  F:\\videos\\Ar30motor\\2021_07_09\\Mask129L.avi\n",
      "Duration of video [s]:  7.72 , recorded with  40.0 fps!\n",
      "Overall # of frames:  309  found with (before cropping) frame dimensions:  314 700\n",
      "Starting to extract posture\n"
     ]
    },
    {
     "name": "stderr",
     "output_type": "stream",
     "text": [
      "310it [00:04, 74.35it/s]                                                                                               "
     ]
    },
    {
     "name": "stdout",
     "output_type": "stream",
     "text": [
      "Detected frames:  309\n"
     ]
    },
    {
     "name": "stderr",
     "output_type": "stream",
     "text": [
      "310it [00:04, 69.91it/s]\n"
     ]
    },
    {
     "name": "stdout",
     "output_type": "stream",
     "text": [
      "Saving results in F:\\videos\\Ar30motor\\2021_07_09...\n",
      "Saving csv poses!\n",
      "Starting to analyze %  F:\\videos\\Ar30motor\\2021_07_09\\Mask12L.avi\n",
      "F:\\videos\\Ar30motor\\2021_07_09  already exists!\n",
      "Loading  F:\\videos\\Ar30motor\\2021_07_09\\Mask12L.avi\n",
      "Duration of video [s]:  10.0 , recorded with  40.0 fps!\n",
      "Overall # of frames:  400  found with (before cropping) frame dimensions:  314 700\n",
      "Starting to extract posture\n"
     ]
    },
    {
     "name": "stderr",
     "output_type": "stream",
     "text": [
      "410it [00:05, 63.61it/s]                                                                                               "
     ]
    },
    {
     "name": "stdout",
     "output_type": "stream",
     "text": [
      "Detected frames:  400\n"
     ]
    },
    {
     "name": "stderr",
     "output_type": "stream",
     "text": [
      "410it [00:05, 72.32it/s]\n"
     ]
    },
    {
     "name": "stdout",
     "output_type": "stream",
     "text": [
      "Saving results in F:\\videos\\Ar30motor\\2021_07_09...\n",
      "Saving csv poses!\n",
      "Starting to analyze %  F:\\videos\\Ar30motor\\2021_07_09\\Mask130L.avi\n",
      "F:\\videos\\Ar30motor\\2021_07_09  already exists!\n",
      "Loading  F:\\videos\\Ar30motor\\2021_07_09\\Mask130L.avi\n",
      "Duration of video [s]:  10.0 , recorded with  40.0 fps!\n",
      "Overall # of frames:  400  found with (before cropping) frame dimensions:  314 700\n",
      "Starting to extract posture\n"
     ]
    },
    {
     "name": "stderr",
     "output_type": "stream",
     "text": [
      "410it [00:05, 63.83it/s]                                                                                               "
     ]
    },
    {
     "name": "stdout",
     "output_type": "stream",
     "text": [
      "Detected frames:  400\n"
     ]
    },
    {
     "name": "stderr",
     "output_type": "stream",
     "text": [
      "410it [00:05, 72.15it/s]\n"
     ]
    },
    {
     "name": "stdout",
     "output_type": "stream",
     "text": [
      "Saving results in F:\\videos\\Ar30motor\\2021_07_09...\n",
      "Saving csv poses!\n",
      "Starting to analyze %  F:\\videos\\Ar30motor\\2021_07_09\\Mask131L.avi\n",
      "F:\\videos\\Ar30motor\\2021_07_09  already exists!\n",
      "Loading  F:\\videos\\Ar30motor\\2021_07_09\\Mask131L.avi\n",
      "Duration of video [s]:  10.0 , recorded with  40.0 fps!\n",
      "Overall # of frames:  400  found with (before cropping) frame dimensions:  314 700\n",
      "Starting to extract posture\n"
     ]
    },
    {
     "name": "stderr",
     "output_type": "stream",
     "text": [
      "410it [00:05, 63.57it/s]                                                                                               "
     ]
    },
    {
     "name": "stdout",
     "output_type": "stream",
     "text": [
      "Detected frames:  400\n"
     ]
    },
    {
     "name": "stderr",
     "output_type": "stream",
     "text": [
      "410it [00:05, 71.96it/s]\n"
     ]
    },
    {
     "name": "stdout",
     "output_type": "stream",
     "text": [
      "Saving results in F:\\videos\\Ar30motor\\2021_07_09...\n",
      "Saving csv poses!\n",
      "Starting to analyze %  F:\\videos\\Ar30motor\\2021_07_09\\Mask132L.avi\n",
      "F:\\videos\\Ar30motor\\2021_07_09  already exists!\n",
      "Loading  F:\\videos\\Ar30motor\\2021_07_09\\Mask132L.avi\n",
      "Duration of video [s]:  8.65 , recorded with  40.0 fps!\n",
      "Overall # of frames:  346  found with (before cropping) frame dimensions:  314 700\n",
      "Starting to extract posture\n"
     ]
    },
    {
     "name": "stderr",
     "output_type": "stream",
     "text": [
      "350it [00:04, 73.48it/s]                                                                                               "
     ]
    },
    {
     "name": "stdout",
     "output_type": "stream",
     "text": [
      "Detected frames:  346\n"
     ]
    },
    {
     "name": "stderr",
     "output_type": "stream",
     "text": [
      "350it [00:04, 70.03it/s]\n"
     ]
    },
    {
     "name": "stdout",
     "output_type": "stream",
     "text": [
      "Saving results in F:\\videos\\Ar30motor\\2021_07_09...\n",
      "Saving csv poses!\n",
      "Starting to analyze %  F:\\videos\\Ar30motor\\2021_07_09\\Mask133L.avi\n",
      "F:\\videos\\Ar30motor\\2021_07_09  already exists!\n",
      "Loading  F:\\videos\\Ar30motor\\2021_07_09\\Mask133L.avi\n",
      "Duration of video [s]:  10.0 , recorded with  40.0 fps!\n",
      "Overall # of frames:  400  found with (before cropping) frame dimensions:  314 700\n",
      "Starting to extract posture\n"
     ]
    },
    {
     "name": "stderr",
     "output_type": "stream",
     "text": [
      "410it [00:05, 63.89it/s]                                                                                               "
     ]
    },
    {
     "name": "stdout",
     "output_type": "stream",
     "text": [
      "Detected frames:  400\n"
     ]
    },
    {
     "name": "stderr",
     "output_type": "stream",
     "text": [
      "410it [00:05, 72.15it/s]\n"
     ]
    },
    {
     "name": "stdout",
     "output_type": "stream",
     "text": [
      "Saving results in F:\\videos\\Ar30motor\\2021_07_09...\n",
      "Saving csv poses!\n",
      "Starting to analyze %  F:\\videos\\Ar30motor\\2021_07_09\\Mask134L.avi\n",
      "F:\\videos\\Ar30motor\\2021_07_09  already exists!\n",
      "Loading  F:\\videos\\Ar30motor\\2021_07_09\\Mask134L.avi\n",
      "Duration of video [s]:  10.0 , recorded with  40.0 fps!\n",
      "Overall # of frames:  400  found with (before cropping) frame dimensions:  314 700\n",
      "Starting to extract posture\n"
     ]
    },
    {
     "name": "stderr",
     "output_type": "stream",
     "text": [
      "410it [00:05, 63.13it/s]                                                                                               "
     ]
    },
    {
     "name": "stdout",
     "output_type": "stream",
     "text": [
      "Detected frames:  400\n"
     ]
    },
    {
     "name": "stderr",
     "output_type": "stream",
     "text": [
      "410it [00:05, 72.03it/s]\n"
     ]
    },
    {
     "name": "stdout",
     "output_type": "stream",
     "text": [
      "Saving results in F:\\videos\\Ar30motor\\2021_07_09...\n",
      "Saving csv poses!\n",
      "Starting to analyze %  F:\\videos\\Ar30motor\\2021_07_09\\Mask135L.avi\n",
      "F:\\videos\\Ar30motor\\2021_07_09  already exists!\n",
      "Loading  F:\\videos\\Ar30motor\\2021_07_09\\Mask135L.avi\n",
      "Duration of video [s]:  10.0 , recorded with  40.0 fps!\n",
      "Overall # of frames:  400  found with (before cropping) frame dimensions:  314 700\n",
      "Starting to extract posture\n"
     ]
    },
    {
     "name": "stderr",
     "output_type": "stream",
     "text": [
      "410it [00:05, 62.57it/s]                                                                                               "
     ]
    },
    {
     "name": "stdout",
     "output_type": "stream",
     "text": [
      "Detected frames:  400\n"
     ]
    },
    {
     "name": "stderr",
     "output_type": "stream",
     "text": [
      "410it [00:05, 71.55it/s]\n"
     ]
    },
    {
     "name": "stdout",
     "output_type": "stream",
     "text": [
      "Saving results in F:\\videos\\Ar30motor\\2021_07_09...\n",
      "Saving csv poses!\n",
      "Starting to analyze %  F:\\videos\\Ar30motor\\2021_07_09\\Mask136L.avi\n",
      "F:\\videos\\Ar30motor\\2021_07_09  already exists!\n",
      "Loading  F:\\videos\\Ar30motor\\2021_07_09\\Mask136L.avi\n",
      "Duration of video [s]:  10.0 , recorded with  40.0 fps!\n",
      "Overall # of frames:  400  found with (before cropping) frame dimensions:  314 700\n",
      "Starting to extract posture\n"
     ]
    },
    {
     "name": "stderr",
     "output_type": "stream",
     "text": [
      "410it [00:05, 63.13it/s]                                                                                               "
     ]
    },
    {
     "name": "stdout",
     "output_type": "stream",
     "text": [
      "Detected frames:  400\n"
     ]
    },
    {
     "name": "stderr",
     "output_type": "stream",
     "text": [
      "410it [00:05, 71.60it/s]\n"
     ]
    },
    {
     "name": "stdout",
     "output_type": "stream",
     "text": [
      "Saving results in F:\\videos\\Ar30motor\\2021_07_09...\n",
      "Saving csv poses!\n",
      "Starting to analyze %  F:\\videos\\Ar30motor\\2021_07_09\\Mask137L.avi\n",
      "F:\\videos\\Ar30motor\\2021_07_09  already exists!\n",
      "Loading  F:\\videos\\Ar30motor\\2021_07_09\\Mask137L.avi\n",
      "Duration of video [s]:  10.0 , recorded with  40.0 fps!\n",
      "Overall # of frames:  400  found with (before cropping) frame dimensions:  314 700\n",
      "Starting to extract posture\n"
     ]
    },
    {
     "name": "stderr",
     "output_type": "stream",
     "text": [
      "410it [00:05, 62.22it/s]                                                                                               "
     ]
    },
    {
     "name": "stdout",
     "output_type": "stream",
     "text": [
      "Detected frames:  400\n"
     ]
    },
    {
     "name": "stderr",
     "output_type": "stream",
     "text": [
      "410it [00:05, 71.41it/s]\n"
     ]
    },
    {
     "name": "stdout",
     "output_type": "stream",
     "text": [
      "Saving results in F:\\videos\\Ar30motor\\2021_07_09...\n",
      "Saving csv poses!\n",
      "Starting to analyze %  F:\\videos\\Ar30motor\\2021_07_09\\Mask138L.avi\n",
      "F:\\videos\\Ar30motor\\2021_07_09  already exists!\n",
      "Loading  F:\\videos\\Ar30motor\\2021_07_09\\Mask138L.avi\n",
      "Duration of video [s]:  10.0 , recorded with  40.0 fps!\n",
      "Overall # of frames:  400  found with (before cropping) frame dimensions:  314 700\n",
      "Starting to extract posture\n"
     ]
    },
    {
     "name": "stderr",
     "output_type": "stream",
     "text": [
      "410it [00:05, 61.51it/s]                                                                                               "
     ]
    },
    {
     "name": "stdout",
     "output_type": "stream",
     "text": [
      "Detected frames:  400\n"
     ]
    },
    {
     "name": "stderr",
     "output_type": "stream",
     "text": [
      "410it [00:05, 71.58it/s]\n"
     ]
    },
    {
     "name": "stdout",
     "output_type": "stream",
     "text": [
      "Saving results in F:\\videos\\Ar30motor\\2021_07_09...\n",
      "Saving csv poses!\n",
      "Starting to analyze %  F:\\videos\\Ar30motor\\2021_07_09\\Mask139L.avi\n",
      "F:\\videos\\Ar30motor\\2021_07_09  already exists!\n",
      "Loading  F:\\videos\\Ar30motor\\2021_07_09\\Mask139L.avi\n",
      "Duration of video [s]:  10.0 , recorded with  40.0 fps!\n",
      "Overall # of frames:  400  found with (before cropping) frame dimensions:  314 700\n",
      "Starting to extract posture\n"
     ]
    },
    {
     "name": "stderr",
     "output_type": "stream",
     "text": [
      "410it [00:05, 62.67it/s]                                                                                               "
     ]
    },
    {
     "name": "stdout",
     "output_type": "stream",
     "text": [
      "Detected frames:  400\n"
     ]
    },
    {
     "name": "stderr",
     "output_type": "stream",
     "text": [
      "410it [00:05, 70.39it/s]\n"
     ]
    },
    {
     "name": "stdout",
     "output_type": "stream",
     "text": [
      "Saving results in F:\\videos\\Ar30motor\\2021_07_09...\n",
      "Saving csv poses!\n",
      "Starting to analyze %  F:\\videos\\Ar30motor\\2021_07_09\\Mask13L.avi\n",
      "F:\\videos\\Ar30motor\\2021_07_09  already exists!\n",
      "Loading  F:\\videos\\Ar30motor\\2021_07_09\\Mask13L.avi\n",
      "Duration of video [s]:  10.0 , recorded with  40.0 fps!\n",
      "Overall # of frames:  400  found with (before cropping) frame dimensions:  314 700\n",
      "Starting to extract posture\n"
     ]
    },
    {
     "name": "stderr",
     "output_type": "stream",
     "text": [
      "410it [00:05, 64.26it/s]                                                                                               "
     ]
    },
    {
     "name": "stdout",
     "output_type": "stream",
     "text": [
      "Detected frames:  400\n"
     ]
    },
    {
     "name": "stderr",
     "output_type": "stream",
     "text": [
      "410it [00:05, 72.17it/s]\n"
     ]
    },
    {
     "name": "stdout",
     "output_type": "stream",
     "text": [
      "Saving results in F:\\videos\\Ar30motor\\2021_07_09...\n",
      "Saving csv poses!\n",
      "Starting to analyze %  F:\\videos\\Ar30motor\\2021_07_09\\Mask140L.avi\n",
      "F:\\videos\\Ar30motor\\2021_07_09  already exists!\n",
      "Loading  F:\\videos\\Ar30motor\\2021_07_09\\Mask140L.avi\n",
      "Duration of video [s]:  10.0 , recorded with  40.0 fps!\n",
      "Overall # of frames:  400  found with (before cropping) frame dimensions:  314 700\n",
      "Starting to extract posture\n"
     ]
    },
    {
     "name": "stderr",
     "output_type": "stream",
     "text": [
      "410it [00:05, 63.23it/s]                                                                                               "
     ]
    },
    {
     "name": "stdout",
     "output_type": "stream",
     "text": [
      "Detected frames:  400\n"
     ]
    },
    {
     "name": "stderr",
     "output_type": "stream",
     "text": [
      "410it [00:05, 72.01it/s]\n"
     ]
    },
    {
     "name": "stdout",
     "output_type": "stream",
     "text": [
      "Saving results in F:\\videos\\Ar30motor\\2021_07_09...\n",
      "Saving csv poses!\n",
      "Starting to analyze %  F:\\videos\\Ar30motor\\2021_07_09\\Mask141L.avi\n",
      "F:\\videos\\Ar30motor\\2021_07_09  already exists!\n",
      "Loading  F:\\videos\\Ar30motor\\2021_07_09\\Mask141L.avi\n",
      "Duration of video [s]:  10.0 , recorded with  40.0 fps!\n",
      "Overall # of frames:  400  found with (before cropping) frame dimensions:  314 700\n",
      "Starting to extract posture\n"
     ]
    },
    {
     "name": "stderr",
     "output_type": "stream",
     "text": [
      "410it [00:05, 63.20it/s]                                                                                               "
     ]
    },
    {
     "name": "stdout",
     "output_type": "stream",
     "text": [
      "Detected frames:  400\n"
     ]
    },
    {
     "name": "stderr",
     "output_type": "stream",
     "text": [
      "410it [00:05, 71.68it/s]\n"
     ]
    },
    {
     "name": "stdout",
     "output_type": "stream",
     "text": [
      "Saving results in F:\\videos\\Ar30motor\\2021_07_09...\n",
      "Saving csv poses!\n",
      "Starting to analyze %  F:\\videos\\Ar30motor\\2021_07_09\\Mask142L.avi\n",
      "F:\\videos\\Ar30motor\\2021_07_09  already exists!\n",
      "Loading  F:\\videos\\Ar30motor\\2021_07_09\\Mask142L.avi\n",
      "Duration of video [s]:  10.0 , recorded with  40.0 fps!\n",
      "Overall # of frames:  400  found with (before cropping) frame dimensions:  314 700\n",
      "Starting to extract posture\n"
     ]
    },
    {
     "name": "stderr",
     "output_type": "stream",
     "text": [
      "410it [00:05, 63.09it/s]                                                                                               "
     ]
    },
    {
     "name": "stdout",
     "output_type": "stream",
     "text": [
      "Detected frames:  400\n"
     ]
    },
    {
     "name": "stderr",
     "output_type": "stream",
     "text": [
      "410it [00:05, 71.37it/s]\n"
     ]
    },
    {
     "name": "stdout",
     "output_type": "stream",
     "text": [
      "Saving results in F:\\videos\\Ar30motor\\2021_07_09...\n",
      "Saving csv poses!\n",
      "Starting to analyze %  F:\\videos\\Ar30motor\\2021_07_09\\Mask143L.avi\n",
      "F:\\videos\\Ar30motor\\2021_07_09  already exists!\n",
      "Loading  F:\\videos\\Ar30motor\\2021_07_09\\Mask143L.avi\n",
      "Duration of video [s]:  10.0 , recorded with  40.0 fps!\n",
      "Overall # of frames:  400  found with (before cropping) frame dimensions:  314 700\n",
      "Starting to extract posture\n"
     ]
    },
    {
     "name": "stderr",
     "output_type": "stream",
     "text": [
      "410it [00:05, 56.64it/s]                                                                                               "
     ]
    },
    {
     "name": "stdout",
     "output_type": "stream",
     "text": [
      "Detected frames:  400\n"
     ]
    },
    {
     "name": "stderr",
     "output_type": "stream",
     "text": [
      "410it [00:05, 70.09it/s]\n"
     ]
    },
    {
     "name": "stdout",
     "output_type": "stream",
     "text": [
      "Saving results in F:\\videos\\Ar30motor\\2021_07_09...\n",
      "Saving csv poses!\n",
      "Starting to analyze %  F:\\videos\\Ar30motor\\2021_07_09\\Mask144L.avi\n",
      "F:\\videos\\Ar30motor\\2021_07_09  already exists!\n",
      "Loading  F:\\videos\\Ar30motor\\2021_07_09\\Mask144L.avi\n",
      "Duration of video [s]:  10.0 , recorded with  40.0 fps!\n",
      "Overall # of frames:  400  found with (before cropping) frame dimensions:  314 700\n",
      "Starting to extract posture\n"
     ]
    },
    {
     "name": "stderr",
     "output_type": "stream",
     "text": [
      "410it [00:06, 62.62it/s]                                                                                               "
     ]
    },
    {
     "name": "stdout",
     "output_type": "stream",
     "text": [
      "Detected frames:  400\n"
     ]
    },
    {
     "name": "stderr",
     "output_type": "stream",
     "text": [
      "410it [00:06, 65.57it/s]\n"
     ]
    },
    {
     "name": "stdout",
     "output_type": "stream",
     "text": [
      "Saving results in F:\\videos\\Ar30motor\\2021_07_09...\n",
      "Saving csv poses!\n",
      "Starting to analyze %  F:\\videos\\Ar30motor\\2021_07_09\\Mask145L.avi\n",
      "F:\\videos\\Ar30motor\\2021_07_09  already exists!\n",
      "Loading  F:\\videos\\Ar30motor\\2021_07_09\\Mask145L.avi\n",
      "Duration of video [s]:  10.0 , recorded with  40.0 fps!\n",
      "Overall # of frames:  400  found with (before cropping) frame dimensions:  314 700\n",
      "Starting to extract posture\n"
     ]
    },
    {
     "name": "stderr",
     "output_type": "stream",
     "text": [
      "410it [00:06, 63.96it/s]                                                                                               "
     ]
    },
    {
     "name": "stdout",
     "output_type": "stream",
     "text": [
      "Detected frames:  400\n"
     ]
    },
    {
     "name": "stderr",
     "output_type": "stream",
     "text": [
      "410it [00:06, 67.97it/s]\n"
     ]
    },
    {
     "name": "stdout",
     "output_type": "stream",
     "text": [
      "Saving results in F:\\videos\\Ar30motor\\2021_07_09...\n",
      "Saving csv poses!\n",
      "Starting to analyze %  F:\\videos\\Ar30motor\\2021_07_09\\Mask146L.avi\n",
      "F:\\videos\\Ar30motor\\2021_07_09  already exists!\n",
      "Loading  F:\\videos\\Ar30motor\\2021_07_09\\Mask146L.avi\n",
      "Duration of video [s]:  10.0 , recorded with  40.0 fps!\n",
      "Overall # of frames:  400  found with (before cropping) frame dimensions:  314 700\n",
      "Starting to extract posture\n"
     ]
    },
    {
     "name": "stderr",
     "output_type": "stream",
     "text": [
      "410it [00:05, 63.40it/s]                                                                                               "
     ]
    },
    {
     "name": "stdout",
     "output_type": "stream",
     "text": [
      "Detected frames:  400\n"
     ]
    },
    {
     "name": "stderr",
     "output_type": "stream",
     "text": [
      "410it [00:05, 72.16it/s]\n"
     ]
    },
    {
     "name": "stdout",
     "output_type": "stream",
     "text": [
      "Saving results in F:\\videos\\Ar30motor\\2021_07_09...\n",
      "Saving csv poses!\n",
      "Starting to analyze %  F:\\videos\\Ar30motor\\2021_07_09\\Mask147L.avi\n",
      "F:\\videos\\Ar30motor\\2021_07_09  already exists!\n",
      "Loading  F:\\videos\\Ar30motor\\2021_07_09\\Mask147L.avi\n",
      "Duration of video [s]:  10.0 , recorded with  40.0 fps!\n",
      "Overall # of frames:  400  found with (before cropping) frame dimensions:  314 700\n",
      "Starting to extract posture\n"
     ]
    },
    {
     "name": "stderr",
     "output_type": "stream",
     "text": [
      "410it [00:05, 64.03it/s]                                                                                               "
     ]
    },
    {
     "name": "stdout",
     "output_type": "stream",
     "text": [
      "Detected frames:  400\n"
     ]
    },
    {
     "name": "stderr",
     "output_type": "stream",
     "text": [
      "410it [00:05, 72.40it/s]\n"
     ]
    },
    {
     "name": "stdout",
     "output_type": "stream",
     "text": [
      "Saving results in F:\\videos\\Ar30motor\\2021_07_09...\n",
      "Saving csv poses!\n",
      "Starting to analyze %  F:\\videos\\Ar30motor\\2021_07_09\\Mask148L.avi\n",
      "F:\\videos\\Ar30motor\\2021_07_09  already exists!\n",
      "Loading  F:\\videos\\Ar30motor\\2021_07_09\\Mask148L.avi\n",
      "Duration of video [s]:  10.0 , recorded with  40.0 fps!\n",
      "Overall # of frames:  400  found with (before cropping) frame dimensions:  314 700\n",
      "Starting to extract posture\n"
     ]
    },
    {
     "name": "stderr",
     "output_type": "stream",
     "text": [
      "410it [00:05, 60.45it/s]                                                                                               "
     ]
    },
    {
     "name": "stdout",
     "output_type": "stream",
     "text": [
      "Detected frames:  400\n"
     ]
    },
    {
     "name": "stderr",
     "output_type": "stream",
     "text": [
      "410it [00:05, 69.31it/s]\n"
     ]
    },
    {
     "name": "stdout",
     "output_type": "stream",
     "text": [
      "Saving results in F:\\videos\\Ar30motor\\2021_07_09...\n",
      "Saving csv poses!\n",
      "Starting to analyze %  F:\\videos\\Ar30motor\\2021_07_09\\Mask149L.avi\n",
      "F:\\videos\\Ar30motor\\2021_07_09  already exists!\n",
      "Loading  F:\\videos\\Ar30motor\\2021_07_09\\Mask149L.avi\n",
      "Duration of video [s]:  10.0 , recorded with  40.0 fps!\n",
      "Overall # of frames:  400  found with (before cropping) frame dimensions:  314 700\n",
      "Starting to extract posture\n"
     ]
    },
    {
     "name": "stderr",
     "output_type": "stream",
     "text": [
      "410it [00:07, 53.40it/s]                                                                                               "
     ]
    },
    {
     "name": "stdout",
     "output_type": "stream",
     "text": [
      "Detected frames:  400\n"
     ]
    },
    {
     "name": "stderr",
     "output_type": "stream",
     "text": [
      "410it [00:07, 58.30it/s]\n"
     ]
    },
    {
     "name": "stdout",
     "output_type": "stream",
     "text": [
      "Saving results in F:\\videos\\Ar30motor\\2021_07_09...\n",
      "Saving csv poses!\n",
      "Starting to analyze %  F:\\videos\\Ar30motor\\2021_07_09\\Mask14L.avi\n",
      "F:\\videos\\Ar30motor\\2021_07_09  already exists!\n",
      "Loading  F:\\videos\\Ar30motor\\2021_07_09\\Mask14L.avi\n",
      "Duration of video [s]:  6.35 , recorded with  40.0 fps!\n",
      "Overall # of frames:  254  found with (before cropping) frame dimensions:  314 700\n",
      "Starting to extract posture\n"
     ]
    },
    {
     "name": "stderr",
     "output_type": "stream",
     "text": [
      "260it [00:04, 60.55it/s]                                                                                               "
     ]
    },
    {
     "name": "stdout",
     "output_type": "stream",
     "text": [
      "Detected frames:  254\n"
     ]
    },
    {
     "name": "stderr",
     "output_type": "stream",
     "text": [
      "260it [00:04, 62.01it/s]\n"
     ]
    },
    {
     "name": "stdout",
     "output_type": "stream",
     "text": [
      "Saving results in F:\\videos\\Ar30motor\\2021_07_09...\n",
      "Saving csv poses!\n",
      "Starting to analyze %  F:\\videos\\Ar30motor\\2021_07_09\\Mask150L.avi\n",
      "F:\\videos\\Ar30motor\\2021_07_09  already exists!\n",
      "Loading  F:\\videos\\Ar30motor\\2021_07_09\\Mask150L.avi\n",
      "Duration of video [s]:  10.0 , recorded with  40.0 fps!\n",
      "Overall # of frames:  400  found with (before cropping) frame dimensions:  314 700\n",
      "Starting to extract posture\n"
     ]
    },
    {
     "name": "stderr",
     "output_type": "stream",
     "text": [
      "410it [00:06, 62.60it/s]                                                                                               "
     ]
    },
    {
     "name": "stdout",
     "output_type": "stream",
     "text": [
      "Detected frames:  400\n"
     ]
    },
    {
     "name": "stderr",
     "output_type": "stream",
     "text": [
      "410it [00:06, 66.80it/s]\n"
     ]
    },
    {
     "name": "stdout",
     "output_type": "stream",
     "text": [
      "Saving results in F:\\videos\\Ar30motor\\2021_07_09...\n",
      "Saving csv poses!\n",
      "Starting to analyze %  F:\\videos\\Ar30motor\\2021_07_09\\Mask151L.avi\n",
      "F:\\videos\\Ar30motor\\2021_07_09  already exists!\n",
      "Loading  F:\\videos\\Ar30motor\\2021_07_09\\Mask151L.avi\n",
      "Duration of video [s]:  10.0 , recorded with  40.0 fps!\n",
      "Overall # of frames:  400  found with (before cropping) frame dimensions:  314 700\n",
      "Starting to extract posture\n"
     ]
    },
    {
     "name": "stderr",
     "output_type": "stream",
     "text": [
      "410it [00:05, 64.87it/s]                                                                                               "
     ]
    },
    {
     "name": "stdout",
     "output_type": "stream",
     "text": [
      "Detected frames:  400\n"
     ]
    },
    {
     "name": "stderr",
     "output_type": "stream",
     "text": [
      "410it [00:05, 72.73it/s]\n"
     ]
    },
    {
     "name": "stdout",
     "output_type": "stream",
     "text": [
      "Saving results in F:\\videos\\Ar30motor\\2021_07_09...\n",
      "Saving csv poses!\n",
      "Starting to analyze %  F:\\videos\\Ar30motor\\2021_07_09\\Mask152L.avi\n",
      "F:\\videos\\Ar30motor\\2021_07_09  already exists!\n",
      "Loading  F:\\videos\\Ar30motor\\2021_07_09\\Mask152L.avi\n",
      "Duration of video [s]:  10.0 , recorded with  40.0 fps!\n",
      "Overall # of frames:  400  found with (before cropping) frame dimensions:  314 700\n",
      "Starting to extract posture\n"
     ]
    },
    {
     "name": "stderr",
     "output_type": "stream",
     "text": [
      "410it [00:05, 61.69it/s]                                                                                               "
     ]
    },
    {
     "name": "stdout",
     "output_type": "stream",
     "text": [
      "Detected frames:  400\n"
     ]
    },
    {
     "name": "stderr",
     "output_type": "stream",
     "text": [
      "410it [00:05, 70.54it/s]\n"
     ]
    },
    {
     "name": "stdout",
     "output_type": "stream",
     "text": [
      "Saving results in F:\\videos\\Ar30motor\\2021_07_09...\n",
      "Saving csv poses!\n",
      "Starting to analyze %  F:\\videos\\Ar30motor\\2021_07_09\\Mask153L.avi\n",
      "F:\\videos\\Ar30motor\\2021_07_09  already exists!\n",
      "Loading  F:\\videos\\Ar30motor\\2021_07_09\\Mask153L.avi\n",
      "Duration of video [s]:  10.0 , recorded with  40.0 fps!\n",
      "Overall # of frames:  400  found with (before cropping) frame dimensions:  314 700\n",
      "Starting to extract posture\n"
     ]
    },
    {
     "name": "stderr",
     "output_type": "stream",
     "text": [
      "410it [00:05, 60.55it/s]                                                                                               "
     ]
    },
    {
     "name": "stdout",
     "output_type": "stream",
     "text": [
      "Detected frames:  400\n"
     ]
    },
    {
     "name": "stderr",
     "output_type": "stream",
     "text": [
      "410it [00:05, 70.83it/s]\n"
     ]
    },
    {
     "name": "stdout",
     "output_type": "stream",
     "text": [
      "Saving results in F:\\videos\\Ar30motor\\2021_07_09...\n",
      "Saving csv poses!\n",
      "Starting to analyze %  F:\\videos\\Ar30motor\\2021_07_09\\Mask154L.avi\n",
      "F:\\videos\\Ar30motor\\2021_07_09  already exists!\n",
      "Loading  F:\\videos\\Ar30motor\\2021_07_09\\Mask154L.avi\n",
      "Duration of video [s]:  10.0 , recorded with  40.0 fps!\n",
      "Overall # of frames:  400  found with (before cropping) frame dimensions:  314 700\n",
      "Starting to extract posture\n"
     ]
    },
    {
     "name": "stderr",
     "output_type": "stream",
     "text": [
      "410it [00:05, 61.22it/s]                                                                                               "
     ]
    },
    {
     "name": "stdout",
     "output_type": "stream",
     "text": [
      "Detected frames:  400\n"
     ]
    },
    {
     "name": "stderr",
     "output_type": "stream",
     "text": [
      "410it [00:05, 69.21it/s]\n"
     ]
    },
    {
     "name": "stdout",
     "output_type": "stream",
     "text": [
      "Saving results in F:\\videos\\Ar30motor\\2021_07_09...\n",
      "Saving csv poses!\n",
      "Starting to analyze %  F:\\videos\\Ar30motor\\2021_07_09\\Mask155L.avi\n",
      "F:\\videos\\Ar30motor\\2021_07_09  already exists!\n",
      "Loading  F:\\videos\\Ar30motor\\2021_07_09\\Mask155L.avi\n",
      "Duration of video [s]:  10.0 , recorded with  40.0 fps!\n",
      "Overall # of frames:  400  found with (before cropping) frame dimensions:  314 700\n",
      "Starting to extract posture\n"
     ]
    },
    {
     "name": "stderr",
     "output_type": "stream",
     "text": [
      "410it [00:05, 56.42it/s]                                                                                               "
     ]
    },
    {
     "name": "stdout",
     "output_type": "stream",
     "text": [
      "Detected frames:  400\n"
     ]
    },
    {
     "name": "stderr",
     "output_type": "stream",
     "text": [
      "410it [00:05, 68.68it/s]\n"
     ]
    },
    {
     "name": "stdout",
     "output_type": "stream",
     "text": [
      "Saving results in F:\\videos\\Ar30motor\\2021_07_09...\n",
      "Saving csv poses!\n",
      "Starting to analyze %  F:\\videos\\Ar30motor\\2021_07_09\\Mask156L.avi\n",
      "F:\\videos\\Ar30motor\\2021_07_09  already exists!\n",
      "Loading  F:\\videos\\Ar30motor\\2021_07_09\\Mask156L.avi\n",
      "Duration of video [s]:  10.0 , recorded with  40.0 fps!\n",
      "Overall # of frames:  400  found with (before cropping) frame dimensions:  314 700\n",
      "Starting to extract posture\n"
     ]
    },
    {
     "name": "stderr",
     "output_type": "stream",
     "text": [
      "410it [00:05, 62.98it/s]                                                                                               "
     ]
    },
    {
     "name": "stdout",
     "output_type": "stream",
     "text": [
      "Detected frames:  400\n"
     ]
    },
    {
     "name": "stderr",
     "output_type": "stream",
     "text": [
      "410it [00:05, 70.94it/s]\n"
     ]
    },
    {
     "name": "stdout",
     "output_type": "stream",
     "text": [
      "Saving results in F:\\videos\\Ar30motor\\2021_07_09...\n",
      "Saving csv poses!\n",
      "Starting to analyze %  F:\\videos\\Ar30motor\\2021_07_09\\Mask157L.avi\n",
      "F:\\videos\\Ar30motor\\2021_07_09  already exists!\n",
      "Loading  F:\\videos\\Ar30motor\\2021_07_09\\Mask157L.avi\n",
      "Duration of video [s]:  10.0 , recorded with  40.0 fps!\n",
      "Overall # of frames:  400  found with (before cropping) frame dimensions:  314 700\n",
      "Starting to extract posture\n"
     ]
    },
    {
     "name": "stderr",
     "output_type": "stream",
     "text": [
      "410it [00:05, 63.00it/s]                                                                                               "
     ]
    },
    {
     "name": "stdout",
     "output_type": "stream",
     "text": [
      "Detected frames:  400\n"
     ]
    },
    {
     "name": "stderr",
     "output_type": "stream",
     "text": [
      "410it [00:05, 71.06it/s]\n"
     ]
    },
    {
     "name": "stdout",
     "output_type": "stream",
     "text": [
      "Saving results in F:\\videos\\Ar30motor\\2021_07_09...\n",
      "Saving csv poses!\n",
      "Starting to analyze %  F:\\videos\\Ar30motor\\2021_07_09\\Mask158L.avi\n",
      "F:\\videos\\Ar30motor\\2021_07_09  already exists!\n",
      "Loading  F:\\videos\\Ar30motor\\2021_07_09\\Mask158L.avi\n",
      "Duration of video [s]:  10.0 , recorded with  40.0 fps!\n",
      "Overall # of frames:  400  found with (before cropping) frame dimensions:  314 700\n",
      "Starting to extract posture\n"
     ]
    },
    {
     "name": "stderr",
     "output_type": "stream",
     "text": [
      "410it [00:05, 62.06it/s]                                                                                               "
     ]
    },
    {
     "name": "stdout",
     "output_type": "stream",
     "text": [
      "Detected frames:  400\n"
     ]
    },
    {
     "name": "stderr",
     "output_type": "stream",
     "text": [
      "410it [00:05, 70.67it/s]\n"
     ]
    },
    {
     "name": "stdout",
     "output_type": "stream",
     "text": [
      "Saving results in F:\\videos\\Ar30motor\\2021_07_09...\n",
      "Saving csv poses!\n",
      "Starting to analyze %  F:\\videos\\Ar30motor\\2021_07_09\\Mask159L.avi\n",
      "F:\\videos\\Ar30motor\\2021_07_09  already exists!\n",
      "Loading  F:\\videos\\Ar30motor\\2021_07_09\\Mask159L.avi\n",
      "Duration of video [s]:  7.25 , recorded with  40.0 fps!\n",
      "Overall # of frames:  290  found with (before cropping) frame dimensions:  314 700\n",
      "Starting to extract posture\n"
     ]
    },
    {
     "name": "stderr",
     "output_type": "stream",
     "text": [
      "300it [00:04, 68.01it/s]                                                                                               "
     ]
    },
    {
     "name": "stdout",
     "output_type": "stream",
     "text": [
      "Detected frames:  290\n"
     ]
    },
    {
     "name": "stderr",
     "output_type": "stream",
     "text": [
      "300it [00:04, 69.20it/s]\n"
     ]
    },
    {
     "name": "stdout",
     "output_type": "stream",
     "text": [
      "Saving results in F:\\videos\\Ar30motor\\2021_07_09...\n",
      "Saving csv poses!\n",
      "Starting to analyze %  F:\\videos\\Ar30motor\\2021_07_09\\Mask15L.avi\n",
      "F:\\videos\\Ar30motor\\2021_07_09  already exists!\n",
      "Loading  F:\\videos\\Ar30motor\\2021_07_09\\Mask15L.avi\n",
      "Duration of video [s]:  10.0 , recorded with  40.0 fps!\n",
      "Overall # of frames:  400  found with (before cropping) frame dimensions:  314 700\n",
      "Starting to extract posture\n"
     ]
    },
    {
     "name": "stderr",
     "output_type": "stream",
     "text": [
      "410it [00:05, 59.76it/s]                                                                                               "
     ]
    },
    {
     "name": "stdout",
     "output_type": "stream",
     "text": [
      "Detected frames:  400\n"
     ]
    },
    {
     "name": "stderr",
     "output_type": "stream",
     "text": [
      "410it [00:05, 70.00it/s]\n"
     ]
    },
    {
     "name": "stdout",
     "output_type": "stream",
     "text": [
      "Saving results in F:\\videos\\Ar30motor\\2021_07_09...\n",
      "Saving csv poses!\n",
      "Starting to analyze %  F:\\videos\\Ar30motor\\2021_07_09\\Mask160L.avi\n",
      "F:\\videos\\Ar30motor\\2021_07_09  already exists!\n",
      "Loading  F:\\videos\\Ar30motor\\2021_07_09\\Mask160L.avi\n",
      "Duration of video [s]:  10.0 , recorded with  40.0 fps!\n",
      "Overall # of frames:  400  found with (before cropping) frame dimensions:  314 700\n",
      "Starting to extract posture\n"
     ]
    },
    {
     "name": "stderr",
     "output_type": "stream",
     "text": [
      "410it [00:05, 60.29it/s]                                                                                               "
     ]
    },
    {
     "name": "stdout",
     "output_type": "stream",
     "text": [
      "Detected frames:  400\n"
     ]
    },
    {
     "name": "stderr",
     "output_type": "stream",
     "text": [
      "410it [00:05, 68.43it/s]\n"
     ]
    },
    {
     "name": "stdout",
     "output_type": "stream",
     "text": [
      "Saving results in F:\\videos\\Ar30motor\\2021_07_09...\n",
      "Saving csv poses!\n",
      "Starting to analyze %  F:\\videos\\Ar30motor\\2021_07_09\\Mask161L.avi\n",
      "F:\\videos\\Ar30motor\\2021_07_09  already exists!\n",
      "Loading  F:\\videos\\Ar30motor\\2021_07_09\\Mask161L.avi\n",
      "Duration of video [s]:  10.0 , recorded with  40.0 fps!\n",
      "Overall # of frames:  400  found with (before cropping) frame dimensions:  314 700\n",
      "Starting to extract posture\n"
     ]
    },
    {
     "name": "stderr",
     "output_type": "stream",
     "text": [
      "410it [00:06, 54.07it/s]                                                                                               "
     ]
    },
    {
     "name": "stdout",
     "output_type": "stream",
     "text": [
      "Detected frames:  400\n"
     ]
    },
    {
     "name": "stderr",
     "output_type": "stream",
     "text": [
      "410it [00:06, 59.20it/s]\n"
     ]
    },
    {
     "name": "stdout",
     "output_type": "stream",
     "text": [
      "Saving results in F:\\videos\\Ar30motor\\2021_07_09...\n",
      "Saving csv poses!\n",
      "Starting to analyze %  F:\\videos\\Ar30motor\\2021_07_09\\Mask162L.avi\n",
      "F:\\videos\\Ar30motor\\2021_07_09  already exists!\n",
      "Loading  F:\\videos\\Ar30motor\\2021_07_09\\Mask162L.avi\n",
      "Duration of video [s]:  10.0 , recorded with  40.0 fps!\n",
      "Overall # of frames:  400  found with (before cropping) frame dimensions:  314 700\n",
      "Starting to extract posture\n"
     ]
    },
    {
     "name": "stderr",
     "output_type": "stream",
     "text": [
      "410it [00:06, 61.18it/s]                                                                                               "
     ]
    },
    {
     "name": "stdout",
     "output_type": "stream",
     "text": [
      "Detected frames:  400\n"
     ]
    },
    {
     "name": "stderr",
     "output_type": "stream",
     "text": [
      "410it [00:06, 66.78it/s]\n"
     ]
    },
    {
     "name": "stdout",
     "output_type": "stream",
     "text": [
      "Saving results in F:\\videos\\Ar30motor\\2021_07_09...\n",
      "Saving csv poses!\n",
      "Starting to analyze %  F:\\videos\\Ar30motor\\2021_07_09\\Mask163L.avi\n",
      "F:\\videos\\Ar30motor\\2021_07_09  already exists!\n",
      "Loading  F:\\videos\\Ar30motor\\2021_07_09\\Mask163L.avi\n",
      "Duration of video [s]:  10.0 , recorded with  40.0 fps!\n",
      "Overall # of frames:  400  found with (before cropping) frame dimensions:  314 700\n",
      "Starting to extract posture\n"
     ]
    },
    {
     "name": "stderr",
     "output_type": "stream",
     "text": [
      "410it [00:05, 63.31it/s]                                                                                               "
     ]
    },
    {
     "name": "stdout",
     "output_type": "stream",
     "text": [
      "Detected frames:  400\n"
     ]
    },
    {
     "name": "stderr",
     "output_type": "stream",
     "text": [
      "410it [00:05, 71.03it/s]\n"
     ]
    },
    {
     "name": "stdout",
     "output_type": "stream",
     "text": [
      "Saving results in F:\\videos\\Ar30motor\\2021_07_09...\n",
      "Saving csv poses!\n",
      "Starting to analyze %  F:\\videos\\Ar30motor\\2021_07_09\\Mask164L.avi\n",
      "F:\\videos\\Ar30motor\\2021_07_09  already exists!\n",
      "Loading  F:\\videos\\Ar30motor\\2021_07_09\\Mask164L.avi\n",
      "Duration of video [s]:  5.17 , recorded with  40.0 fps!\n",
      "Overall # of frames:  207  found with (before cropping) frame dimensions:  314 700\n",
      "Starting to extract posture\n"
     ]
    },
    {
     "name": "stderr",
     "output_type": "stream",
     "text": [
      "210it [00:02, 64.77it/s]                                                                                               "
     ]
    },
    {
     "name": "stdout",
     "output_type": "stream",
     "text": [
      "Detected frames:  207\n"
     ]
    },
    {
     "name": "stderr",
     "output_type": "stream",
     "text": [
      "210it [00:02, 71.71it/s]\n"
     ]
    },
    {
     "name": "stdout",
     "output_type": "stream",
     "text": [
      "Saving results in F:\\videos\\Ar30motor\\2021_07_09...\n",
      "Saving csv poses!\n",
      "Starting to analyze %  F:\\videos\\Ar30motor\\2021_07_09\\Mask165L.avi\n",
      "F:\\videos\\Ar30motor\\2021_07_09  already exists!\n",
      "Loading  F:\\videos\\Ar30motor\\2021_07_09\\Mask165L.avi\n",
      "Duration of video [s]:  4.4 , recorded with  40.0 fps!\n",
      "Overall # of frames:  176  found with (before cropping) frame dimensions:  314 700\n",
      "Starting to extract posture\n"
     ]
    },
    {
     "name": "stderr",
     "output_type": "stream",
     "text": [
      "180it [00:02, 67.87it/s]                                                                                               "
     ]
    },
    {
     "name": "stdout",
     "output_type": "stream",
     "text": [
      "Detected frames:  176\n"
     ]
    },
    {
     "name": "stderr",
     "output_type": "stream",
     "text": [
      "180it [00:02, 70.49it/s]\n"
     ]
    },
    {
     "name": "stdout",
     "output_type": "stream",
     "text": [
      "Saving results in F:\\videos\\Ar30motor\\2021_07_09...\n",
      "Saving csv poses!\n",
      "Starting to analyze %  F:\\videos\\Ar30motor\\2021_07_09\\Mask166L.avi\n",
      "F:\\videos\\Ar30motor\\2021_07_09  already exists!\n",
      "Loading  F:\\videos\\Ar30motor\\2021_07_09\\Mask166L.avi\n",
      "Duration of video [s]:  7.8 , recorded with  40.0 fps!\n",
      "Overall # of frames:  312  found with (before cropping) frame dimensions:  314 700\n",
      "Starting to extract posture\n"
     ]
    },
    {
     "name": "stderr",
     "output_type": "stream",
     "text": [
      "320it [00:04, 74.81it/s]                                                                                               "
     ]
    },
    {
     "name": "stdout",
     "output_type": "stream",
     "text": [
      "Detected frames:  312\n"
     ]
    },
    {
     "name": "stderr",
     "output_type": "stream",
     "text": [
      "320it [00:04, 69.73it/s]\n"
     ]
    },
    {
     "name": "stdout",
     "output_type": "stream",
     "text": [
      "Saving results in F:\\videos\\Ar30motor\\2021_07_09...\n",
      "Saving csv poses!\n",
      "Starting to analyze %  F:\\videos\\Ar30motor\\2021_07_09\\Mask167L.avi\n",
      "F:\\videos\\Ar30motor\\2021_07_09  already exists!\n",
      "Loading  F:\\videos\\Ar30motor\\2021_07_09\\Mask167L.avi\n",
      "Duration of video [s]:  10.0 , recorded with  40.0 fps!\n",
      "Overall # of frames:  400  found with (before cropping) frame dimensions:  314 700\n",
      "Starting to extract posture\n"
     ]
    },
    {
     "name": "stderr",
     "output_type": "stream",
     "text": [
      "410it [00:05, 60.22it/s]                                                                                               "
     ]
    },
    {
     "name": "stdout",
     "output_type": "stream",
     "text": [
      "Detected frames:  400\n"
     ]
    },
    {
     "name": "stderr",
     "output_type": "stream",
     "text": [
      "410it [00:05, 68.84it/s]\n"
     ]
    },
    {
     "name": "stdout",
     "output_type": "stream",
     "text": [
      "Saving results in F:\\videos\\Ar30motor\\2021_07_09...\n",
      "Saving csv poses!\n",
      "Starting to analyze %  F:\\videos\\Ar30motor\\2021_07_09\\Mask168L.avi\n",
      "F:\\videos\\Ar30motor\\2021_07_09  already exists!\n",
      "Loading  F:\\videos\\Ar30motor\\2021_07_09\\Mask168L.avi\n",
      "Duration of video [s]:  8.22 , recorded with  40.0 fps!\n",
      "Overall # of frames:  329  found with (before cropping) frame dimensions:  314 700\n",
      "Starting to extract posture\n"
     ]
    },
    {
     "name": "stderr",
     "output_type": "stream",
     "text": [
      "330it [00:04, 60.35it/s]                                                                                               "
     ]
    },
    {
     "name": "stdout",
     "output_type": "stream",
     "text": [
      "Detected frames:  329\n"
     ]
    },
    {
     "name": "stderr",
     "output_type": "stream",
     "text": [
      "330it [00:05, 65.82it/s]\n"
     ]
    },
    {
     "name": "stdout",
     "output_type": "stream",
     "text": [
      "Saving results in F:\\videos\\Ar30motor\\2021_07_09...\n",
      "Saving csv poses!\n",
      "Starting to analyze %  F:\\videos\\Ar30motor\\2021_07_09\\Mask169L.avi\n",
      "F:\\videos\\Ar30motor\\2021_07_09  already exists!\n",
      "Loading  F:\\videos\\Ar30motor\\2021_07_09\\Mask169L.avi\n",
      "Duration of video [s]:  7.85 , recorded with  40.0 fps!\n",
      "Overall # of frames:  314  found with (before cropping) frame dimensions:  314 700\n",
      "Starting to extract posture\n"
     ]
    },
    {
     "name": "stderr",
     "output_type": "stream",
     "text": [
      "320it [00:04, 76.71it/s]                                                                                               "
     ]
    },
    {
     "name": "stdout",
     "output_type": "stream",
     "text": [
      "Detected frames:  314\n"
     ]
    },
    {
     "name": "stderr",
     "output_type": "stream",
     "text": [
      "320it [00:04, 68.22it/s]\n"
     ]
    },
    {
     "name": "stdout",
     "output_type": "stream",
     "text": [
      "Saving results in F:\\videos\\Ar30motor\\2021_07_09...\n",
      "Saving csv poses!\n",
      "Starting to analyze %  F:\\videos\\Ar30motor\\2021_07_09\\Mask16L.avi\n",
      "F:\\videos\\Ar30motor\\2021_07_09  already exists!\n",
      "Loading  F:\\videos\\Ar30motor\\2021_07_09\\Mask16L.avi\n",
      "Duration of video [s]:  9.03 , recorded with  40.0 fps!\n",
      "Overall # of frames:  361  found with (before cropping) frame dimensions:  314 700\n",
      "Starting to extract posture\n"
     ]
    },
    {
     "name": "stderr",
     "output_type": "stream",
     "text": [
      "370it [00:05, 63.10it/s]                                                                                               "
     ]
    },
    {
     "name": "stdout",
     "output_type": "stream",
     "text": [
      "Detected frames:  361\n"
     ]
    },
    {
     "name": "stderr",
     "output_type": "stream",
     "text": [
      "370it [00:05, 69.81it/s]\n"
     ]
    },
    {
     "name": "stdout",
     "output_type": "stream",
     "text": [
      "Saving results in F:\\videos\\Ar30motor\\2021_07_09...\n",
      "Saving csv poses!\n",
      "Starting to analyze %  F:\\videos\\Ar30motor\\2021_07_09\\Mask170L.avi\n",
      "F:\\videos\\Ar30motor\\2021_07_09  already exists!\n",
      "Loading  F:\\videos\\Ar30motor\\2021_07_09\\Mask170L.avi\n",
      "Duration of video [s]:  5.47 , recorded with  40.0 fps!\n",
      "Overall # of frames:  219  found with (before cropping) frame dimensions:  314 700\n",
      "Starting to extract posture\n"
     ]
    },
    {
     "name": "stderr",
     "output_type": "stream",
     "text": [
      "220it [00:03, 68.40it/s]                                                                                               "
     ]
    },
    {
     "name": "stdout",
     "output_type": "stream",
     "text": [
      "Detected frames:  219\n"
     ]
    },
    {
     "name": "stderr",
     "output_type": "stream",
     "text": [
      "220it [00:03, 68.05it/s]\n"
     ]
    },
    {
     "name": "stdout",
     "output_type": "stream",
     "text": [
      "Saving results in F:\\videos\\Ar30motor\\2021_07_09...\n",
      "Saving csv poses!\n",
      "Starting to analyze %  F:\\videos\\Ar30motor\\2021_07_09\\Mask171L.avi\n",
      "F:\\videos\\Ar30motor\\2021_07_09  already exists!\n",
      "Loading  F:\\videos\\Ar30motor\\2021_07_09\\Mask171L.avi\n",
      "Duration of video [s]:  10.0 , recorded with  40.0 fps!\n",
      "Overall # of frames:  400  found with (before cropping) frame dimensions:  314 700\n",
      "Starting to extract posture\n"
     ]
    },
    {
     "name": "stderr",
     "output_type": "stream",
     "text": [
      "410it [00:05, 62.50it/s]                                                                                               "
     ]
    },
    {
     "name": "stdout",
     "output_type": "stream",
     "text": [
      "Detected frames:  400\n"
     ]
    },
    {
     "name": "stderr",
     "output_type": "stream",
     "text": [
      "410it [00:05, 70.88it/s]\n"
     ]
    },
    {
     "name": "stdout",
     "output_type": "stream",
     "text": [
      "Saving results in F:\\videos\\Ar30motor\\2021_07_09...\n",
      "Saving csv poses!\n",
      "Starting to analyze %  F:\\videos\\Ar30motor\\2021_07_09\\Mask172L.avi\n",
      "F:\\videos\\Ar30motor\\2021_07_09  already exists!\n",
      "Loading  F:\\videos\\Ar30motor\\2021_07_09\\Mask172L.avi\n",
      "Duration of video [s]:  6.55 , recorded with  40.0 fps!\n",
      "Overall # of frames:  262  found with (before cropping) frame dimensions:  314 700\n",
      "Starting to extract posture\n"
     ]
    },
    {
     "name": "stderr",
     "output_type": "stream",
     "text": [
      "270it [00:03, 72.78it/s]                                                                                               "
     ]
    },
    {
     "name": "stdout",
     "output_type": "stream",
     "text": [
      "Detected frames:  262\n"
     ]
    },
    {
     "name": "stderr",
     "output_type": "stream",
     "text": [
      "270it [00:03, 70.65it/s]\n"
     ]
    },
    {
     "name": "stdout",
     "output_type": "stream",
     "text": [
      "Saving results in F:\\videos\\Ar30motor\\2021_07_09...\n",
      "Saving csv poses!\n",
      "Starting to analyze %  F:\\videos\\Ar30motor\\2021_07_09\\Mask173L.avi\n",
      "F:\\videos\\Ar30motor\\2021_07_09  already exists!\n",
      "Loading  F:\\videos\\Ar30motor\\2021_07_09\\Mask173L.avi\n",
      "Duration of video [s]:  6.47 , recorded with  40.0 fps!\n",
      "Overall # of frames:  259  found with (before cropping) frame dimensions:  314 700\n",
      "Starting to extract posture\n"
     ]
    },
    {
     "name": "stderr",
     "output_type": "stream",
     "text": [
      "260it [00:03, 67.66it/s]                                                                                               "
     ]
    },
    {
     "name": "stdout",
     "output_type": "stream",
     "text": [
      "Detected frames:  259\n"
     ]
    },
    {
     "name": "stderr",
     "output_type": "stream",
     "text": [
      "260it [00:03, 67.96it/s]\n"
     ]
    },
    {
     "name": "stdout",
     "output_type": "stream",
     "text": [
      "Saving results in F:\\videos\\Ar30motor\\2021_07_09...\n",
      "Saving csv poses!\n",
      "Starting to analyze %  F:\\videos\\Ar30motor\\2021_07_09\\Mask174L.avi\n",
      "F:\\videos\\Ar30motor\\2021_07_09  already exists!\n",
      "Loading  F:\\videos\\Ar30motor\\2021_07_09\\Mask174L.avi\n",
      "Duration of video [s]:  10.0 , recorded with  40.0 fps!\n",
      "Overall # of frames:  400  found with (before cropping) frame dimensions:  314 700\n",
      "Starting to extract posture\n"
     ]
    },
    {
     "name": "stderr",
     "output_type": "stream",
     "text": [
      "410it [00:05, 61.83it/s]                                                                                               "
     ]
    },
    {
     "name": "stdout",
     "output_type": "stream",
     "text": [
      "Detected frames:  400\n"
     ]
    },
    {
     "name": "stderr",
     "output_type": "stream",
     "text": [
      "410it [00:05, 70.19it/s]\n"
     ]
    },
    {
     "name": "stdout",
     "output_type": "stream",
     "text": [
      "Saving results in F:\\videos\\Ar30motor\\2021_07_09...\n",
      "Saving csv poses!\n",
      "Starting to analyze %  F:\\videos\\Ar30motor\\2021_07_09\\Mask175L.avi\n",
      "F:\\videos\\Ar30motor\\2021_07_09  already exists!\n",
      "Loading  F:\\videos\\Ar30motor\\2021_07_09\\Mask175L.avi\n",
      "Duration of video [s]:  10.0 , recorded with  40.0 fps!\n",
      "Overall # of frames:  400  found with (before cropping) frame dimensions:  314 700\n",
      "Starting to extract posture\n"
     ]
    },
    {
     "name": "stderr",
     "output_type": "stream",
     "text": [
      "410it [00:05, 61.52it/s]                                                                                               "
     ]
    },
    {
     "name": "stdout",
     "output_type": "stream",
     "text": [
      "Detected frames:  400\n"
     ]
    },
    {
     "name": "stderr",
     "output_type": "stream",
     "text": [
      "410it [00:05, 70.33it/s]\n"
     ]
    },
    {
     "name": "stdout",
     "output_type": "stream",
     "text": [
      "Saving results in F:\\videos\\Ar30motor\\2021_07_09...\n",
      "Saving csv poses!\n",
      "Starting to analyze %  F:\\videos\\Ar30motor\\2021_07_09\\Mask176L.avi\n",
      "F:\\videos\\Ar30motor\\2021_07_09  already exists!\n",
      "Loading  F:\\videos\\Ar30motor\\2021_07_09\\Mask176L.avi\n",
      "Duration of video [s]:  10.0 , recorded with  40.0 fps!\n",
      "Overall # of frames:  400  found with (before cropping) frame dimensions:  314 700\n",
      "Starting to extract posture\n"
     ]
    },
    {
     "name": "stderr",
     "output_type": "stream",
     "text": [
      "410it [00:06, 62.27it/s]                                                                                               "
     ]
    },
    {
     "name": "stdout",
     "output_type": "stream",
     "text": [
      "Detected frames:  400\n"
     ]
    },
    {
     "name": "stderr",
     "output_type": "stream",
     "text": [
      "410it [00:06, 67.89it/s]\n"
     ]
    },
    {
     "name": "stdout",
     "output_type": "stream",
     "text": [
      "Saving results in F:\\videos\\Ar30motor\\2021_07_09...\n",
      "Saving csv poses!\n",
      "Starting to analyze %  F:\\videos\\Ar30motor\\2021_07_09\\Mask177L.avi\n",
      "F:\\videos\\Ar30motor\\2021_07_09  already exists!\n",
      "Loading  F:\\videos\\Ar30motor\\2021_07_09\\Mask177L.avi\n",
      "Duration of video [s]:  10.0 , recorded with  40.0 fps!\n",
      "Overall # of frames:  400  found with (before cropping) frame dimensions:  314 700\n",
      "Starting to extract posture\n"
     ]
    },
    {
     "name": "stderr",
     "output_type": "stream",
     "text": [
      "410it [00:05, 61.81it/s]                                                                                               "
     ]
    },
    {
     "name": "stdout",
     "output_type": "stream",
     "text": [
      "Detected frames:  400\n"
     ]
    },
    {
     "name": "stderr",
     "output_type": "stream",
     "text": [
      "410it [00:05, 70.33it/s]\n"
     ]
    },
    {
     "name": "stdout",
     "output_type": "stream",
     "text": [
      "Saving results in F:\\videos\\Ar30motor\\2021_07_09...\n",
      "Saving csv poses!\n",
      "Starting to analyze %  F:\\videos\\Ar30motor\\2021_07_09\\Mask178L.avi\n",
      "F:\\videos\\Ar30motor\\2021_07_09  already exists!\n",
      "Loading  F:\\videos\\Ar30motor\\2021_07_09\\Mask178L.avi\n",
      "Duration of video [s]:  7.38 , recorded with  40.0 fps!\n",
      "Overall # of frames:  295  found with (before cropping) frame dimensions:  314 700\n",
      "Starting to extract posture\n"
     ]
    },
    {
     "name": "stderr",
     "output_type": "stream",
     "text": [
      "300it [00:04, 66.80it/s]                                                                                               "
     ]
    },
    {
     "name": "stdout",
     "output_type": "stream",
     "text": [
      "Detected frames:  295\n"
     ]
    },
    {
     "name": "stderr",
     "output_type": "stream",
     "text": [
      "300it [00:04, 68.85it/s]\n"
     ]
    },
    {
     "name": "stdout",
     "output_type": "stream",
     "text": [
      "Saving results in F:\\videos\\Ar30motor\\2021_07_09...\n",
      "Saving csv poses!\n",
      "Starting to analyze %  F:\\videos\\Ar30motor\\2021_07_09\\Mask179L.avi\n",
      "F:\\videos\\Ar30motor\\2021_07_09  already exists!\n",
      "Loading  F:\\videos\\Ar30motor\\2021_07_09\\Mask179L.avi\n",
      "Duration of video [s]:  10.0 , recorded with  40.0 fps!\n",
      "Overall # of frames:  400  found with (before cropping) frame dimensions:  314 700\n",
      "Starting to extract posture\n"
     ]
    },
    {
     "name": "stderr",
     "output_type": "stream",
     "text": [
      "410it [00:05, 59.91it/s]                                                                                               "
     ]
    },
    {
     "name": "stdout",
     "output_type": "stream",
     "text": [
      "Detected frames:  400\n"
     ]
    },
    {
     "name": "stderr",
     "output_type": "stream",
     "text": [
      "410it [00:05, 69.56it/s]\n"
     ]
    },
    {
     "name": "stdout",
     "output_type": "stream",
     "text": [
      "Saving results in F:\\videos\\Ar30motor\\2021_07_09...\n",
      "Saving csv poses!\n",
      "Starting to analyze %  F:\\videos\\Ar30motor\\2021_07_09\\Mask17L.avi\n",
      "F:\\videos\\Ar30motor\\2021_07_09  already exists!\n",
      "Loading  F:\\videos\\Ar30motor\\2021_07_09\\Mask17L.avi\n",
      "Duration of video [s]:  10.0 , recorded with  40.0 fps!\n",
      "Overall # of frames:  400  found with (before cropping) frame dimensions:  314 700\n",
      "Starting to extract posture\n"
     ]
    },
    {
     "name": "stderr",
     "output_type": "stream",
     "text": [
      "410it [00:06, 58.29it/s]                                                                                               "
     ]
    },
    {
     "name": "stdout",
     "output_type": "stream",
     "text": [
      "Detected frames:  400\n"
     ]
    },
    {
     "name": "stderr",
     "output_type": "stream",
     "text": [
      "410it [00:06, 68.22it/s]\n"
     ]
    },
    {
     "name": "stdout",
     "output_type": "stream",
     "text": [
      "Saving results in F:\\videos\\Ar30motor\\2021_07_09...\n",
      "Saving csv poses!\n",
      "Starting to analyze %  F:\\videos\\Ar30motor\\2021_07_09\\Mask180L.avi\n",
      "F:\\videos\\Ar30motor\\2021_07_09  already exists!\n",
      "Loading  F:\\videos\\Ar30motor\\2021_07_09\\Mask180L.avi\n",
      "Duration of video [s]:  10.0 , recorded with  40.0 fps!\n",
      "Overall # of frames:  400  found with (before cropping) frame dimensions:  314 700\n",
      "Starting to extract posture\n"
     ]
    },
    {
     "name": "stderr",
     "output_type": "stream",
     "text": [
      "410it [00:05, 61.84it/s]                                                                                               "
     ]
    },
    {
     "name": "stdout",
     "output_type": "stream",
     "text": [
      "Detected frames:  400\n"
     ]
    },
    {
     "name": "stderr",
     "output_type": "stream",
     "text": [
      "410it [00:05, 69.53it/s]\n"
     ]
    },
    {
     "name": "stdout",
     "output_type": "stream",
     "text": [
      "Saving results in F:\\videos\\Ar30motor\\2021_07_09...\n",
      "Saving csv poses!\n",
      "Starting to analyze %  F:\\videos\\Ar30motor\\2021_07_09\\Mask181L.avi\n",
      "F:\\videos\\Ar30motor\\2021_07_09  already exists!\n",
      "Loading  F:\\videos\\Ar30motor\\2021_07_09\\Mask181L.avi\n",
      "Duration of video [s]:  10.0 , recorded with  40.0 fps!\n",
      "Overall # of frames:  400  found with (before cropping) frame dimensions:  314 700\n",
      "Starting to extract posture\n"
     ]
    },
    {
     "name": "stderr",
     "output_type": "stream",
     "text": [
      "410it [00:05, 60.95it/s]                                                                                               "
     ]
    },
    {
     "name": "stdout",
     "output_type": "stream",
     "text": [
      "Detected frames:  400\n"
     ]
    },
    {
     "name": "stderr",
     "output_type": "stream",
     "text": [
      "410it [00:05, 70.03it/s]\n"
     ]
    },
    {
     "name": "stdout",
     "output_type": "stream",
     "text": [
      "Saving results in F:\\videos\\Ar30motor\\2021_07_09...\n",
      "Saving csv poses!\n",
      "Starting to analyze %  F:\\videos\\Ar30motor\\2021_07_09\\Mask182L.avi\n",
      "F:\\videos\\Ar30motor\\2021_07_09  already exists!\n",
      "Loading  F:\\videos\\Ar30motor\\2021_07_09\\Mask182L.avi\n",
      "Duration of video [s]:  10.0 , recorded with  40.0 fps!\n",
      "Overall # of frames:  400  found with (before cropping) frame dimensions:  314 700\n",
      "Starting to extract posture\n"
     ]
    },
    {
     "name": "stderr",
     "output_type": "stream",
     "text": [
      "410it [00:05, 61.16it/s]                                                                                               "
     ]
    },
    {
     "name": "stdout",
     "output_type": "stream",
     "text": [
      "Detected frames:  400\n"
     ]
    },
    {
     "name": "stderr",
     "output_type": "stream",
     "text": [
      "410it [00:05, 69.40it/s]\n"
     ]
    },
    {
     "name": "stdout",
     "output_type": "stream",
     "text": [
      "Saving results in F:\\videos\\Ar30motor\\2021_07_09...\n",
      "Saving csv poses!\n",
      "Starting to analyze %  F:\\videos\\Ar30motor\\2021_07_09\\Mask183L.avi\n",
      "F:\\videos\\Ar30motor\\2021_07_09  already exists!\n",
      "Loading  F:\\videos\\Ar30motor\\2021_07_09\\Mask183L.avi\n",
      "Duration of video [s]:  10.0 , recorded with  40.0 fps!\n",
      "Overall # of frames:  400  found with (before cropping) frame dimensions:  314 700\n",
      "Starting to extract posture\n"
     ]
    },
    {
     "name": "stderr",
     "output_type": "stream",
     "text": [
      "410it [00:05, 61.09it/s]                                                                                               "
     ]
    },
    {
     "name": "stdout",
     "output_type": "stream",
     "text": [
      "Detected frames:  400\n"
     ]
    },
    {
     "name": "stderr",
     "output_type": "stream",
     "text": [
      "410it [00:05, 69.44it/s]\n"
     ]
    },
    {
     "name": "stdout",
     "output_type": "stream",
     "text": [
      "Saving results in F:\\videos\\Ar30motor\\2021_07_09...\n",
      "Saving csv poses!\n",
      "Starting to analyze %  F:\\videos\\Ar30motor\\2021_07_09\\Mask184L.avi\n",
      "F:\\videos\\Ar30motor\\2021_07_09  already exists!\n",
      "Loading  F:\\videos\\Ar30motor\\2021_07_09\\Mask184L.avi\n",
      "Duration of video [s]:  10.0 , recorded with  40.0 fps!\n",
      "Overall # of frames:  400  found with (before cropping) frame dimensions:  314 700\n",
      "Starting to extract posture\n"
     ]
    },
    {
     "name": "stderr",
     "output_type": "stream",
     "text": [
      "410it [00:06, 60.11it/s]                                                                                               "
     ]
    },
    {
     "name": "stdout",
     "output_type": "stream",
     "text": [
      "Detected frames:  400\n"
     ]
    },
    {
     "name": "stderr",
     "output_type": "stream",
     "text": [
      "410it [00:06, 66.73it/s]\n"
     ]
    },
    {
     "name": "stdout",
     "output_type": "stream",
     "text": [
      "Saving results in F:\\videos\\Ar30motor\\2021_07_09...\n",
      "Saving csv poses!\n",
      "Starting to analyze %  F:\\videos\\Ar30motor\\2021_07_09\\Mask185L.avi\n",
      "F:\\videos\\Ar30motor\\2021_07_09  already exists!\n",
      "Loading  F:\\videos\\Ar30motor\\2021_07_09\\Mask185L.avi\n",
      "Duration of video [s]:  10.0 , recorded with  40.0 fps!\n",
      "Overall # of frames:  400  found with (before cropping) frame dimensions:  314 700\n",
      "Starting to extract posture\n"
     ]
    },
    {
     "name": "stderr",
     "output_type": "stream",
     "text": [
      "410it [00:05, 61.88it/s]                                                                                               "
     ]
    },
    {
     "name": "stdout",
     "output_type": "stream",
     "text": [
      "Detected frames:  400\n"
     ]
    },
    {
     "name": "stderr",
     "output_type": "stream",
     "text": [
      "410it [00:05, 69.31it/s]\n"
     ]
    },
    {
     "name": "stdout",
     "output_type": "stream",
     "text": [
      "Saving results in F:\\videos\\Ar30motor\\2021_07_09...\n",
      "Saving csv poses!\n",
      "Starting to analyze %  F:\\videos\\Ar30motor\\2021_07_09\\Mask186L.avi\n",
      "F:\\videos\\Ar30motor\\2021_07_09  already exists!\n",
      "Loading  F:\\videos\\Ar30motor\\2021_07_09\\Mask186L.avi\n",
      "Duration of video [s]:  10.0 , recorded with  40.0 fps!\n",
      "Overall # of frames:  400  found with (before cropping) frame dimensions:  314 700\n",
      "Starting to extract posture\n"
     ]
    },
    {
     "name": "stderr",
     "output_type": "stream",
     "text": [
      "410it [00:05, 61.88it/s]                                                                                               "
     ]
    },
    {
     "name": "stdout",
     "output_type": "stream",
     "text": [
      "Detected frames:  400\n"
     ]
    },
    {
     "name": "stderr",
     "output_type": "stream",
     "text": [
      "410it [00:05, 69.84it/s]\n"
     ]
    },
    {
     "name": "stdout",
     "output_type": "stream",
     "text": [
      "Saving results in F:\\videos\\Ar30motor\\2021_07_09...\n",
      "Saving csv poses!\n",
      "Starting to analyze %  F:\\videos\\Ar30motor\\2021_07_09\\Mask187L.avi\n",
      "F:\\videos\\Ar30motor\\2021_07_09  already exists!\n",
      "Loading  F:\\videos\\Ar30motor\\2021_07_09\\Mask187L.avi\n",
      "Duration of video [s]:  10.0 , recorded with  40.0 fps!\n",
      "Overall # of frames:  400  found with (before cropping) frame dimensions:  314 700\n",
      "Starting to extract posture\n"
     ]
    },
    {
     "name": "stderr",
     "output_type": "stream",
     "text": [
      "410it [00:05, 61.04it/s]                                                                                               "
     ]
    },
    {
     "name": "stdout",
     "output_type": "stream",
     "text": [
      "Detected frames:  400\n"
     ]
    },
    {
     "name": "stderr",
     "output_type": "stream",
     "text": [
      "410it [00:05, 69.75it/s]\n"
     ]
    },
    {
     "name": "stdout",
     "output_type": "stream",
     "text": [
      "Saving results in F:\\videos\\Ar30motor\\2021_07_09...\n",
      "Saving csv poses!\n",
      "Starting to analyze %  F:\\videos\\Ar30motor\\2021_07_09\\Mask188L.avi\n",
      "F:\\videos\\Ar30motor\\2021_07_09  already exists!\n",
      "Loading  F:\\videos\\Ar30motor\\2021_07_09\\Mask188L.avi\n",
      "Duration of video [s]:  10.0 , recorded with  40.0 fps!\n",
      "Overall # of frames:  400  found with (before cropping) frame dimensions:  314 700\n",
      "Starting to extract posture\n"
     ]
    },
    {
     "name": "stderr",
     "output_type": "stream",
     "text": [
      "410it [00:05, 60.95it/s]                                                                                               "
     ]
    },
    {
     "name": "stdout",
     "output_type": "stream",
     "text": [
      "Detected frames:  400\n"
     ]
    },
    {
     "name": "stderr",
     "output_type": "stream",
     "text": [
      "410it [00:05, 69.45it/s]\n"
     ]
    },
    {
     "name": "stdout",
     "output_type": "stream",
     "text": [
      "Saving results in F:\\videos\\Ar30motor\\2021_07_09...\n",
      "Saving csv poses!\n",
      "Starting to analyze %  F:\\videos\\Ar30motor\\2021_07_09\\Mask189L.avi\n",
      "F:\\videos\\Ar30motor\\2021_07_09  already exists!\n",
      "Loading  F:\\videos\\Ar30motor\\2021_07_09\\Mask189L.avi\n",
      "Duration of video [s]:  10.0 , recorded with  40.0 fps!\n",
      "Overall # of frames:  400  found with (before cropping) frame dimensions:  314 700\n",
      "Starting to extract posture\n"
     ]
    },
    {
     "name": "stderr",
     "output_type": "stream",
     "text": [
      "410it [00:05, 60.24it/s]                                                                                               "
     ]
    },
    {
     "name": "stdout",
     "output_type": "stream",
     "text": [
      "Detected frames:  400\n"
     ]
    },
    {
     "name": "stderr",
     "output_type": "stream",
     "text": [
      "410it [00:05, 68.83it/s]\n"
     ]
    },
    {
     "name": "stdout",
     "output_type": "stream",
     "text": [
      "Saving results in F:\\videos\\Ar30motor\\2021_07_09...\n",
      "Saving csv poses!\n",
      "Starting to analyze %  F:\\videos\\Ar30motor\\2021_07_09\\Mask18L.avi\n",
      "F:\\videos\\Ar30motor\\2021_07_09  already exists!\n",
      "Loading  F:\\videos\\Ar30motor\\2021_07_09\\Mask18L.avi\n",
      "Duration of video [s]:  7.4 , recorded with  40.0 fps!\n",
      "Overall # of frames:  296  found with (before cropping) frame dimensions:  314 700\n",
      "Starting to extract posture\n"
     ]
    },
    {
     "name": "stderr",
     "output_type": "stream",
     "text": [
      "300it [00:04, 66.95it/s]                                                                                               "
     ]
    },
    {
     "name": "stdout",
     "output_type": "stream",
     "text": [
      "Detected frames:  296\n"
     ]
    },
    {
     "name": "stderr",
     "output_type": "stream",
     "text": [
      "300it [00:04, 68.58it/s]\n"
     ]
    },
    {
     "name": "stdout",
     "output_type": "stream",
     "text": [
      "Saving results in F:\\videos\\Ar30motor\\2021_07_09...\n",
      "Saving csv poses!\n",
      "Starting to analyze %  F:\\videos\\Ar30motor\\2021_07_09\\Mask190L.avi\n",
      "F:\\videos\\Ar30motor\\2021_07_09  already exists!\n",
      "Loading  F:\\videos\\Ar30motor\\2021_07_09\\Mask190L.avi\n",
      "Duration of video [s]:  9.35 , recorded with  40.0 fps!\n",
      "Overall # of frames:  374  found with (before cropping) frame dimensions:  314 700\n",
      "Starting to extract posture\n"
     ]
    },
    {
     "name": "stderr",
     "output_type": "stream",
     "text": [
      "380it [00:05, 67.16it/s]                                                                                               "
     ]
    },
    {
     "name": "stdout",
     "output_type": "stream",
     "text": [
      "Detected frames:  374\n"
     ]
    },
    {
     "name": "stderr",
     "output_type": "stream",
     "text": [
      "380it [00:05, 69.00it/s]\n"
     ]
    },
    {
     "name": "stdout",
     "output_type": "stream",
     "text": [
      "Saving results in F:\\videos\\Ar30motor\\2021_07_09...\n",
      "Saving csv poses!\n",
      "Starting to analyze %  F:\\videos\\Ar30motor\\2021_07_09\\Mask191L.avi\n",
      "F:\\videos\\Ar30motor\\2021_07_09  already exists!\n",
      "Loading  F:\\videos\\Ar30motor\\2021_07_09\\Mask191L.avi\n",
      "Duration of video [s]:  10.0 , recorded with  40.0 fps!\n",
      "Overall # of frames:  400  found with (before cropping) frame dimensions:  314 700\n",
      "Starting to extract posture\n"
     ]
    },
    {
     "name": "stderr",
     "output_type": "stream",
     "text": [
      "410it [00:05, 61.57it/s]                                                                                               "
     ]
    },
    {
     "name": "stdout",
     "output_type": "stream",
     "text": [
      "Detected frames:  400\n"
     ]
    },
    {
     "name": "stderr",
     "output_type": "stream",
     "text": [
      "410it [00:05, 69.75it/s]\n"
     ]
    },
    {
     "name": "stdout",
     "output_type": "stream",
     "text": [
      "Saving results in F:\\videos\\Ar30motor\\2021_07_09...\n",
      "Saving csv poses!\n",
      "Starting to analyze %  F:\\videos\\Ar30motor\\2021_07_09\\Mask192L.avi\n",
      "F:\\videos\\Ar30motor\\2021_07_09  already exists!\n",
      "Loading  F:\\videos\\Ar30motor\\2021_07_09\\Mask192L.avi\n",
      "Duration of video [s]:  10.0 , recorded with  40.0 fps!\n",
      "Overall # of frames:  400  found with (before cropping) frame dimensions:  314 700\n",
      "Starting to extract posture\n"
     ]
    },
    {
     "name": "stderr",
     "output_type": "stream",
     "text": [
      "410it [00:05, 61.31it/s]                                                                                               "
     ]
    },
    {
     "name": "stdout",
     "output_type": "stream",
     "text": [
      "Detected frames:  400\n"
     ]
    },
    {
     "name": "stderr",
     "output_type": "stream",
     "text": [
      "410it [00:05, 69.38it/s]\n"
     ]
    },
    {
     "name": "stdout",
     "output_type": "stream",
     "text": [
      "Saving results in F:\\videos\\Ar30motor\\2021_07_09...\n",
      "Saving csv poses!\n",
      "Starting to analyze %  F:\\videos\\Ar30motor\\2021_07_09\\Mask193L.avi\n",
      "F:\\videos\\Ar30motor\\2021_07_09  already exists!\n",
      "Loading  F:\\videos\\Ar30motor\\2021_07_09\\Mask193L.avi\n",
      "Duration of video [s]:  10.0 , recorded with  40.0 fps!\n",
      "Overall # of frames:  400  found with (before cropping) frame dimensions:  314 700\n",
      "Starting to extract posture\n"
     ]
    },
    {
     "name": "stderr",
     "output_type": "stream",
     "text": [
      "410it [00:05, 61.16it/s]                                                                                               "
     ]
    },
    {
     "name": "stdout",
     "output_type": "stream",
     "text": [
      "Detected frames:  400\n"
     ]
    },
    {
     "name": "stderr",
     "output_type": "stream",
     "text": [
      "410it [00:05, 69.26it/s]\n"
     ]
    },
    {
     "name": "stdout",
     "output_type": "stream",
     "text": [
      "Saving results in F:\\videos\\Ar30motor\\2021_07_09...\n",
      "Saving csv poses!\n",
      "Starting to analyze %  F:\\videos\\Ar30motor\\2021_07_09\\Mask194L.avi\n",
      "F:\\videos\\Ar30motor\\2021_07_09  already exists!\n",
      "Loading  F:\\videos\\Ar30motor\\2021_07_09\\Mask194L.avi\n",
      "Duration of video [s]:  9.62 , recorded with  40.0 fps!\n",
      "Overall # of frames:  385  found with (before cropping) frame dimensions:  314 700\n",
      "Starting to extract posture\n"
     ]
    },
    {
     "name": "stderr",
     "output_type": "stream",
     "text": [
      "390it [00:05, 71.61it/s]                                                                                               "
     ]
    },
    {
     "name": "stdout",
     "output_type": "stream",
     "text": [
      "Detected frames:  385\n"
     ]
    },
    {
     "name": "stderr",
     "output_type": "stream",
     "text": [
      "390it [00:05, 67.71it/s]\n"
     ]
    },
    {
     "name": "stdout",
     "output_type": "stream",
     "text": [
      "Saving results in F:\\videos\\Ar30motor\\2021_07_09...\n",
      "Saving csv poses!\n",
      "Starting to analyze %  F:\\videos\\Ar30motor\\2021_07_09\\Mask195L.avi\n",
      "F:\\videos\\Ar30motor\\2021_07_09  already exists!\n",
      "Loading  F:\\videos\\Ar30motor\\2021_07_09\\Mask195L.avi\n",
      "Duration of video [s]:  10.0 , recorded with  40.0 fps!\n",
      "Overall # of frames:  400  found with (before cropping) frame dimensions:  314 700\n",
      "Starting to extract posture\n"
     ]
    },
    {
     "name": "stderr",
     "output_type": "stream",
     "text": [
      "410it [00:05, 60.87it/s]                                                                                               "
     ]
    },
    {
     "name": "stdout",
     "output_type": "stream",
     "text": [
      "Detected frames:  400\n"
     ]
    },
    {
     "name": "stderr",
     "output_type": "stream",
     "text": [
      "410it [00:05, 69.52it/s]\n"
     ]
    },
    {
     "name": "stdout",
     "output_type": "stream",
     "text": [
      "Saving results in F:\\videos\\Ar30motor\\2021_07_09...\n",
      "Saving csv poses!\n",
      "Starting to analyze %  F:\\videos\\Ar30motor\\2021_07_09\\Mask196L.avi\n",
      "F:\\videos\\Ar30motor\\2021_07_09  already exists!\n",
      "Loading  F:\\videos\\Ar30motor\\2021_07_09\\Mask196L.avi\n",
      "Duration of video [s]:  8.53 , recorded with  40.0 fps!\n",
      "Overall # of frames:  341  found with (before cropping) frame dimensions:  314 700\n",
      "Starting to extract posture\n"
     ]
    },
    {
     "name": "stderr",
     "output_type": "stream",
     "text": [
      "350it [00:04, 71.22it/s]                                                                                               "
     ]
    },
    {
     "name": "stdout",
     "output_type": "stream",
     "text": [
      "Detected frames:  341\n"
     ]
    },
    {
     "name": "stderr",
     "output_type": "stream",
     "text": [
      "350it [00:05, 68.98it/s]\n"
     ]
    },
    {
     "name": "stdout",
     "output_type": "stream",
     "text": [
      "Saving results in F:\\videos\\Ar30motor\\2021_07_09...\n",
      "Saving csv poses!\n",
      "Starting to analyze %  F:\\videos\\Ar30motor\\2021_07_09\\Mask197L.avi\n",
      "F:\\videos\\Ar30motor\\2021_07_09  already exists!\n",
      "Loading  F:\\videos\\Ar30motor\\2021_07_09\\Mask197L.avi\n",
      "Duration of video [s]:  10.0 , recorded with  40.0 fps!\n",
      "Overall # of frames:  400  found with (before cropping) frame dimensions:  314 700\n",
      "Starting to extract posture\n"
     ]
    },
    {
     "name": "stderr",
     "output_type": "stream",
     "text": [
      "410it [00:05, 60.46it/s]                                                                                               "
     ]
    },
    {
     "name": "stdout",
     "output_type": "stream",
     "text": [
      "Detected frames:  400\n"
     ]
    },
    {
     "name": "stderr",
     "output_type": "stream",
     "text": [
      "410it [00:05, 69.13it/s]\n"
     ]
    },
    {
     "name": "stdout",
     "output_type": "stream",
     "text": [
      "Saving results in F:\\videos\\Ar30motor\\2021_07_09...\n",
      "Saving csv poses!\n",
      "Starting to analyze %  F:\\videos\\Ar30motor\\2021_07_09\\Mask198L.avi\n",
      "F:\\videos\\Ar30motor\\2021_07_09  already exists!\n",
      "Loading  F:\\videos\\Ar30motor\\2021_07_09\\Mask198L.avi\n",
      "Duration of video [s]:  9.12 , recorded with  40.0 fps!\n",
      "Overall # of frames:  365  found with (before cropping) frame dimensions:  314 700\n",
      "Starting to extract posture\n"
     ]
    },
    {
     "name": "stderr",
     "output_type": "stream",
     "text": [
      "370it [00:05, 61.36it/s]                                                                                               "
     ]
    },
    {
     "name": "stdout",
     "output_type": "stream",
     "text": [
      "Detected frames:  365\n"
     ]
    },
    {
     "name": "stderr",
     "output_type": "stream",
     "text": [
      "370it [00:05, 68.25it/s]\n"
     ]
    },
    {
     "name": "stdout",
     "output_type": "stream",
     "text": [
      "Saving results in F:\\videos\\Ar30motor\\2021_07_09...\n",
      "Saving csv poses!\n",
      "Starting to analyze %  F:\\videos\\Ar30motor\\2021_07_09\\Mask199L.avi\n",
      "F:\\videos\\Ar30motor\\2021_07_09  already exists!\n",
      "Loading  F:\\videos\\Ar30motor\\2021_07_09\\Mask199L.avi\n",
      "Duration of video [s]:  10.0 , recorded with  40.0 fps!\n",
      "Overall # of frames:  400  found with (before cropping) frame dimensions:  314 700\n",
      "Starting to extract posture\n"
     ]
    },
    {
     "name": "stderr",
     "output_type": "stream",
     "text": [
      "410it [00:05, 60.88it/s]                                                                                               "
     ]
    },
    {
     "name": "stdout",
     "output_type": "stream",
     "text": [
      "Detected frames:  400\n"
     ]
    },
    {
     "name": "stderr",
     "output_type": "stream",
     "text": [
      "410it [00:05, 69.22it/s]\n"
     ]
    },
    {
     "name": "stdout",
     "output_type": "stream",
     "text": [
      "Saving results in F:\\videos\\Ar30motor\\2021_07_09...\n",
      "Saving csv poses!\n",
      "Starting to analyze %  F:\\videos\\Ar30motor\\2021_07_09\\Mask19L.avi\n",
      "F:\\videos\\Ar30motor\\2021_07_09  already exists!\n",
      "Loading  F:\\videos\\Ar30motor\\2021_07_09\\Mask19L.avi\n",
      "Duration of video [s]:  6.12 , recorded with  40.0 fps!\n",
      "Overall # of frames:  245  found with (before cropping) frame dimensions:  314 700\n",
      "Starting to extract posture\n"
     ]
    },
    {
     "name": "stderr",
     "output_type": "stream",
     "text": [
      "250it [00:03, 61.03it/s]                                                                                               "
     ]
    },
    {
     "name": "stdout",
     "output_type": "stream",
     "text": [
      "Detected frames:  245\n"
     ]
    },
    {
     "name": "stderr",
     "output_type": "stream",
     "text": [
      "250it [00:03, 68.06it/s]\n"
     ]
    },
    {
     "name": "stdout",
     "output_type": "stream",
     "text": [
      "Saving results in F:\\videos\\Ar30motor\\2021_07_09...\n",
      "Saving csv poses!\n",
      "Starting to analyze %  F:\\videos\\Ar30motor\\2021_07_09\\Mask1L.avi\n",
      "F:\\videos\\Ar30motor\\2021_07_09  already exists!\n",
      "Loading  F:\\videos\\Ar30motor\\2021_07_09\\Mask1L.avi\n",
      "Duration of video [s]:  10.0 , recorded with  40.0 fps!\n",
      "Overall # of frames:  400  found with (before cropping) frame dimensions:  314 700\n",
      "Starting to extract posture\n"
     ]
    },
    {
     "name": "stderr",
     "output_type": "stream",
     "text": [
      "410it [00:06, 60.40it/s]                                                                                               "
     ]
    },
    {
     "name": "stdout",
     "output_type": "stream",
     "text": [
      "Detected frames:  400\n"
     ]
    },
    {
     "name": "stderr",
     "output_type": "stream",
     "text": [
      "410it [00:06, 67.55it/s]\n"
     ]
    },
    {
     "name": "stdout",
     "output_type": "stream",
     "text": [
      "Saving results in F:\\videos\\Ar30motor\\2021_07_09...\n",
      "Saving csv poses!\n",
      "Starting to analyze %  F:\\videos\\Ar30motor\\2021_07_09\\Mask200L.avi\n",
      "F:\\videos\\Ar30motor\\2021_07_09  already exists!\n",
      "Loading  F:\\videos\\Ar30motor\\2021_07_09\\Mask200L.avi\n",
      "Duration of video [s]:  10.0 , recorded with  40.0 fps!\n",
      "Overall # of frames:  400  found with (before cropping) frame dimensions:  314 700\n",
      "Starting to extract posture\n"
     ]
    },
    {
     "name": "stderr",
     "output_type": "stream",
     "text": [
      "410it [00:05, 61.32it/s]                                                                                               "
     ]
    },
    {
     "name": "stdout",
     "output_type": "stream",
     "text": [
      "Detected frames:  400\n"
     ]
    },
    {
     "name": "stderr",
     "output_type": "stream",
     "text": [
      "410it [00:05, 69.16it/s]\n"
     ]
    },
    {
     "name": "stdout",
     "output_type": "stream",
     "text": [
      "Saving results in F:\\videos\\Ar30motor\\2021_07_09...\n",
      "Saving csv poses!\n",
      "Starting to analyze %  F:\\videos\\Ar30motor\\2021_07_09\\Mask201L.avi\n",
      "F:\\videos\\Ar30motor\\2021_07_09  already exists!\n",
      "Loading  F:\\videos\\Ar30motor\\2021_07_09\\Mask201L.avi\n",
      "Duration of video [s]:  10.0 , recorded with  40.0 fps!\n",
      "Overall # of frames:  400  found with (before cropping) frame dimensions:  314 700\n",
      "Starting to extract posture\n"
     ]
    },
    {
     "name": "stderr",
     "output_type": "stream",
     "text": [
      "410it [00:05, 60.66it/s]                                                                                               "
     ]
    },
    {
     "name": "stdout",
     "output_type": "stream",
     "text": [
      "Detected frames:  400\n"
     ]
    },
    {
     "name": "stderr",
     "output_type": "stream",
     "text": [
      "410it [00:05, 69.00it/s]\n"
     ]
    },
    {
     "name": "stdout",
     "output_type": "stream",
     "text": [
      "Saving results in F:\\videos\\Ar30motor\\2021_07_09...\n",
      "Saving csv poses!\n",
      "Starting to analyze %  F:\\videos\\Ar30motor\\2021_07_09\\Mask202L.avi\n",
      "F:\\videos\\Ar30motor\\2021_07_09  already exists!\n",
      "Loading  F:\\videos\\Ar30motor\\2021_07_09\\Mask202L.avi\n",
      "Duration of video [s]:  10.0 , recorded with  40.0 fps!\n",
      "Overall # of frames:  400  found with (before cropping) frame dimensions:  314 700\n",
      "Starting to extract posture\n"
     ]
    },
    {
     "name": "stderr",
     "output_type": "stream",
     "text": [
      "410it [00:06, 60.85it/s]                                                                                               "
     ]
    },
    {
     "name": "stdout",
     "output_type": "stream",
     "text": [
      "Detected frames:  400\n"
     ]
    },
    {
     "name": "stderr",
     "output_type": "stream",
     "text": [
      "410it [00:06, 67.90it/s]\n"
     ]
    },
    {
     "name": "stdout",
     "output_type": "stream",
     "text": [
      "Saving results in F:\\videos\\Ar30motor\\2021_07_09...\n",
      "Saving csv poses!\n",
      "Starting to analyze %  F:\\videos\\Ar30motor\\2021_07_09\\Mask20L.avi\n",
      "F:\\videos\\Ar30motor\\2021_07_09  already exists!\n",
      "Loading  F:\\videos\\Ar30motor\\2021_07_09\\Mask20L.avi\n",
      "Duration of video [s]:  6.55 , recorded with  40.0 fps!\n",
      "Overall # of frames:  262  found with (before cropping) frame dimensions:  314 700\n",
      "Starting to extract posture\n"
     ]
    },
    {
     "name": "stderr",
     "output_type": "stream",
     "text": [
      "270it [00:03, 69.95it/s]                                                                                               "
     ]
    },
    {
     "name": "stdout",
     "output_type": "stream",
     "text": [
      "Detected frames:  262\n"
     ]
    },
    {
     "name": "stderr",
     "output_type": "stream",
     "text": [
      "270it [00:03, 68.92it/s]\n"
     ]
    },
    {
     "name": "stdout",
     "output_type": "stream",
     "text": [
      "Saving results in F:\\videos\\Ar30motor\\2021_07_09...\n",
      "Saving csv poses!\n",
      "Starting to analyze %  F:\\videos\\Ar30motor\\2021_07_09\\Mask2L.avi\n",
      "F:\\videos\\Ar30motor\\2021_07_09  already exists!\n",
      "Loading  F:\\videos\\Ar30motor\\2021_07_09\\Mask2L.avi\n",
      "Duration of video [s]:  9.32 , recorded with  40.0 fps!\n",
      "Overall # of frames:  373  found with (before cropping) frame dimensions:  314 700\n",
      "Starting to extract posture\n"
     ]
    },
    {
     "name": "stderr",
     "output_type": "stream",
     "text": [
      "380it [00:05, 66.06it/s]                                                                                               "
     ]
    },
    {
     "name": "stdout",
     "output_type": "stream",
     "text": [
      "Detected frames:  373\n"
     ]
    },
    {
     "name": "stderr",
     "output_type": "stream",
     "text": [
      "380it [00:05, 68.06it/s]\n"
     ]
    },
    {
     "name": "stdout",
     "output_type": "stream",
     "text": [
      "Saving results in F:\\videos\\Ar30motor\\2021_07_09...\n",
      "Saving csv poses!\n",
      "The videos are analyzed. Now your research can truly start! \n",
      " You can create labeled videos with 'create_labeled_video'\n",
      "If the tracking is not satisfactory for some videos, consider expanding the training set. You can use the function 'extract_outlier_frames' to extract a few representative outlier frames.\n",
      "DLC_resnet50_ar30shiwkerSep13shuffle1_207000\n",
      "Filtering with median model F:\\videos\\Ar30motor\\2021_07_09\\Mask0L.avi\n",
      "Saving filtered csv poses!\n",
      "Filtering with median model F:\\videos\\Ar30motor\\2021_07_09\\Mask100L.avi\n",
      "Saving filtered csv poses!\n",
      "Filtering with median model F:\\videos\\Ar30motor\\2021_07_09\\Mask101L.avi\n",
      "Saving filtered csv poses!\n",
      "Filtering with median model F:\\videos\\Ar30motor\\2021_07_09\\Mask102L.avi\n",
      "Saving filtered csv poses!\n",
      "Filtering with median model F:\\videos\\Ar30motor\\2021_07_09\\Mask103L.avi\n",
      "Saving filtered csv poses!\n",
      "Filtering with median model F:\\videos\\Ar30motor\\2021_07_09\\Mask104L.avi\n",
      "Saving filtered csv poses!\n",
      "Filtering with median model F:\\videos\\Ar30motor\\2021_07_09\\Mask105L.avi\n",
      "Saving filtered csv poses!\n",
      "Filtering with median model F:\\videos\\Ar30motor\\2021_07_09\\Mask106L.avi\n",
      "Saving filtered csv poses!\n",
      "Filtering with median model F:\\videos\\Ar30motor\\2021_07_09\\Mask107L.avi\n",
      "Saving filtered csv poses!\n",
      "Filtering with median model F:\\videos\\Ar30motor\\2021_07_09\\Mask108L.avi\n",
      "Saving filtered csv poses!\n",
      "Filtering with median model F:\\videos\\Ar30motor\\2021_07_09\\Mask109L.avi\n",
      "Saving filtered csv poses!\n",
      "Filtering with median model F:\\videos\\Ar30motor\\2021_07_09\\Mask10L.avi\n",
      "Saving filtered csv poses!\n",
      "Filtering with median model F:\\videos\\Ar30motor\\2021_07_09\\Mask110L.avi\n",
      "Saving filtered csv poses!\n",
      "Filtering with median model F:\\videos\\Ar30motor\\2021_07_09\\Mask111L.avi\n",
      "Saving filtered csv poses!\n",
      "Filtering with median model F:\\videos\\Ar30motor\\2021_07_09\\Mask112L.avi\n",
      "Saving filtered csv poses!\n",
      "Filtering with median model F:\\videos\\Ar30motor\\2021_07_09\\Mask113L.avi\n",
      "Saving filtered csv poses!\n",
      "Filtering with median model F:\\videos\\Ar30motor\\2021_07_09\\Mask114L.avi\n",
      "Saving filtered csv poses!\n",
      "Filtering with median model F:\\videos\\Ar30motor\\2021_07_09\\Mask115L.avi\n",
      "Saving filtered csv poses!\n",
      "Filtering with median model F:\\videos\\Ar30motor\\2021_07_09\\Mask116L.avi\n",
      "Saving filtered csv poses!\n",
      "Filtering with median model F:\\videos\\Ar30motor\\2021_07_09\\Mask117L.avi\n",
      "Saving filtered csv poses!\n",
      "Filtering with median model F:\\videos\\Ar30motor\\2021_07_09\\Mask118L.avi\n",
      "Saving filtered csv poses!\n",
      "Filtering with median model F:\\videos\\Ar30motor\\2021_07_09\\Mask119L.avi\n",
      "Saving filtered csv poses!\n",
      "Filtering with median model F:\\videos\\Ar30motor\\2021_07_09\\Mask11L.avi\n",
      "Saving filtered csv poses!\n",
      "Filtering with median model F:\\videos\\Ar30motor\\2021_07_09\\Mask120L.avi\n",
      "Saving filtered csv poses!\n",
      "Filtering with median model F:\\videos\\Ar30motor\\2021_07_09\\Mask121L.avi\n",
      "Saving filtered csv poses!\n",
      "Filtering with median model F:\\videos\\Ar30motor\\2021_07_09\\Mask122L.avi\n",
      "Saving filtered csv poses!\n",
      "Filtering with median model F:\\videos\\Ar30motor\\2021_07_09\\Mask123L.avi\n",
      "Saving filtered csv poses!\n",
      "Filtering with median model F:\\videos\\Ar30motor\\2021_07_09\\Mask124L.avi\n",
      "Saving filtered csv poses!\n",
      "Filtering with median model F:\\videos\\Ar30motor\\2021_07_09\\Mask125L.avi\n",
      "Saving filtered csv poses!\n",
      "Filtering with median model F:\\videos\\Ar30motor\\2021_07_09\\Mask126L.avi\n",
      "Saving filtered csv poses!\n",
      "Filtering with median model F:\\videos\\Ar30motor\\2021_07_09\\Mask127L.avi\n",
      "Saving filtered csv poses!\n",
      "Filtering with median model F:\\videos\\Ar30motor\\2021_07_09\\Mask128L.avi\n",
      "Saving filtered csv poses!\n",
      "Filtering with median model F:\\videos\\Ar30motor\\2021_07_09\\Mask129L.avi\n",
      "Saving filtered csv poses!\n",
      "Filtering with median model F:\\videos\\Ar30motor\\2021_07_09\\Mask12L.avi\n",
      "Saving filtered csv poses!\n",
      "Filtering with median model F:\\videos\\Ar30motor\\2021_07_09\\Mask130L.avi\n",
      "Saving filtered csv poses!\n",
      "Filtering with median model F:\\videos\\Ar30motor\\2021_07_09\\Mask131L.avi\n",
      "Saving filtered csv poses!\n",
      "Filtering with median model F:\\videos\\Ar30motor\\2021_07_09\\Mask132L.avi\n",
      "Saving filtered csv poses!\n",
      "Filtering with median model F:\\videos\\Ar30motor\\2021_07_09\\Mask133L.avi\n",
      "Saving filtered csv poses!\n",
      "Filtering with median model F:\\videos\\Ar30motor\\2021_07_09\\Mask134L.avi\n",
      "Saving filtered csv poses!\n",
      "Filtering with median model F:\\videos\\Ar30motor\\2021_07_09\\Mask135L.avi\n",
      "Saving filtered csv poses!\n",
      "Filtering with median model F:\\videos\\Ar30motor\\2021_07_09\\Mask136L.avi\n",
      "Saving filtered csv poses!\n",
      "Filtering with median model F:\\videos\\Ar30motor\\2021_07_09\\Mask137L.avi\n",
      "Saving filtered csv poses!\n",
      "Filtering with median model F:\\videos\\Ar30motor\\2021_07_09\\Mask138L.avi\n",
      "Saving filtered csv poses!\n",
      "Filtering with median model F:\\videos\\Ar30motor\\2021_07_09\\Mask139L.avi\n",
      "Saving filtered csv poses!\n",
      "Filtering with median model F:\\videos\\Ar30motor\\2021_07_09\\Mask13L.avi\n",
      "Saving filtered csv poses!\n",
      "Filtering with median model F:\\videos\\Ar30motor\\2021_07_09\\Mask140L.avi\n",
      "Saving filtered csv poses!\n",
      "Filtering with median model F:\\videos\\Ar30motor\\2021_07_09\\Mask141L.avi\n",
      "Saving filtered csv poses!\n",
      "Filtering with median model F:\\videos\\Ar30motor\\2021_07_09\\Mask142L.avi\n",
      "Saving filtered csv poses!\n",
      "Filtering with median model F:\\videos\\Ar30motor\\2021_07_09\\Mask143L.avi\n",
      "Saving filtered csv poses!\n",
      "Filtering with median model F:\\videos\\Ar30motor\\2021_07_09\\Mask144L.avi\n",
      "Saving filtered csv poses!\n",
      "Filtering with median model F:\\videos\\Ar30motor\\2021_07_09\\Mask145L.avi\n",
      "Saving filtered csv poses!\n",
      "Filtering with median model F:\\videos\\Ar30motor\\2021_07_09\\Mask146L.avi\n",
      "Saving filtered csv poses!\n",
      "Filtering with median model F:\\videos\\Ar30motor\\2021_07_09\\Mask147L.avi\n",
      "Saving filtered csv poses!\n",
      "Filtering with median model F:\\videos\\Ar30motor\\2021_07_09\\Mask148L.avi\n",
      "Saving filtered csv poses!\n",
      "Filtering with median model F:\\videos\\Ar30motor\\2021_07_09\\Mask149L.avi\n",
      "Saving filtered csv poses!\n",
      "Filtering with median model F:\\videos\\Ar30motor\\2021_07_09\\Mask14L.avi\n",
      "Saving filtered csv poses!\n",
      "Filtering with median model F:\\videos\\Ar30motor\\2021_07_09\\Mask150L.avi\n",
      "Saving filtered csv poses!\n",
      "Filtering with median model F:\\videos\\Ar30motor\\2021_07_09\\Mask151L.avi\n",
      "Saving filtered csv poses!\n",
      "Filtering with median model F:\\videos\\Ar30motor\\2021_07_09\\Mask152L.avi\n",
      "Saving filtered csv poses!\n",
      "Filtering with median model F:\\videos\\Ar30motor\\2021_07_09\\Mask153L.avi\n",
      "Saving filtered csv poses!\n",
      "Filtering with median model F:\\videos\\Ar30motor\\2021_07_09\\Mask154L.avi\n",
      "Saving filtered csv poses!\n",
      "Filtering with median model F:\\videos\\Ar30motor\\2021_07_09\\Mask155L.avi\n",
      "Saving filtered csv poses!\n",
      "Filtering with median model F:\\videos\\Ar30motor\\2021_07_09\\Mask156L.avi\n",
      "Saving filtered csv poses!\n",
      "Filtering with median model F:\\videos\\Ar30motor\\2021_07_09\\Mask157L.avi\n",
      "Saving filtered csv poses!\n",
      "Filtering with median model F:\\videos\\Ar30motor\\2021_07_09\\Mask158L.avi\n",
      "Saving filtered csv poses!\n",
      "Filtering with median model F:\\videos\\Ar30motor\\2021_07_09\\Mask159L.avi\n",
      "Saving filtered csv poses!\n",
      "Filtering with median model F:\\videos\\Ar30motor\\2021_07_09\\Mask15L.avi\n",
      "Saving filtered csv poses!\n",
      "Filtering with median model F:\\videos\\Ar30motor\\2021_07_09\\Mask160L.avi\n",
      "Saving filtered csv poses!\n",
      "Filtering with median model F:\\videos\\Ar30motor\\2021_07_09\\Mask161L.avi\n",
      "Saving filtered csv poses!\n",
      "Filtering with median model F:\\videos\\Ar30motor\\2021_07_09\\Mask162L.avi\n",
      "Saving filtered csv poses!\n",
      "Filtering with median model F:\\videos\\Ar30motor\\2021_07_09\\Mask163L.avi\n",
      "Saving filtered csv poses!\n",
      "Filtering with median model F:\\videos\\Ar30motor\\2021_07_09\\Mask164L.avi\n",
      "Saving filtered csv poses!\n",
      "Filtering with median model F:\\videos\\Ar30motor\\2021_07_09\\Mask165L.avi\n",
      "Saving filtered csv poses!\n",
      "Filtering with median model F:\\videos\\Ar30motor\\2021_07_09\\Mask166L.avi\n",
      "Saving filtered csv poses!\n",
      "Filtering with median model F:\\videos\\Ar30motor\\2021_07_09\\Mask167L.avi\n",
      "Saving filtered csv poses!\n",
      "Filtering with median model F:\\videos\\Ar30motor\\2021_07_09\\Mask168L.avi\n",
      "Saving filtered csv poses!\n",
      "Filtering with median model F:\\videos\\Ar30motor\\2021_07_09\\Mask169L.avi\n",
      "Saving filtered csv poses!\n",
      "Filtering with median model F:\\videos\\Ar30motor\\2021_07_09\\Mask16L.avi\n",
      "Saving filtered csv poses!\n",
      "Filtering with median model F:\\videos\\Ar30motor\\2021_07_09\\Mask170L.avi\n",
      "Saving filtered csv poses!\n",
      "Filtering with median model F:\\videos\\Ar30motor\\2021_07_09\\Mask171L.avi\n",
      "Saving filtered csv poses!\n",
      "Filtering with median model F:\\videos\\Ar30motor\\2021_07_09\\Mask172L.avi\n",
      "Saving filtered csv poses!\n",
      "Filtering with median model F:\\videos\\Ar30motor\\2021_07_09\\Mask173L.avi\n",
      "Saving filtered csv poses!\n",
      "Filtering with median model F:\\videos\\Ar30motor\\2021_07_09\\Mask174L.avi\n",
      "Saving filtered csv poses!\n",
      "Filtering with median model F:\\videos\\Ar30motor\\2021_07_09\\Mask175L.avi\n",
      "Saving filtered csv poses!\n",
      "Filtering with median model F:\\videos\\Ar30motor\\2021_07_09\\Mask176L.avi\n",
      "Saving filtered csv poses!\n",
      "Filtering with median model F:\\videos\\Ar30motor\\2021_07_09\\Mask177L.avi\n",
      "Saving filtered csv poses!\n",
      "Filtering with median model F:\\videos\\Ar30motor\\2021_07_09\\Mask178L.avi\n",
      "Saving filtered csv poses!\n",
      "Filtering with median model F:\\videos\\Ar30motor\\2021_07_09\\Mask179L.avi\n",
      "Saving filtered csv poses!\n",
      "Filtering with median model F:\\videos\\Ar30motor\\2021_07_09\\Mask17L.avi\n",
      "Saving filtered csv poses!\n",
      "Filtering with median model F:\\videos\\Ar30motor\\2021_07_09\\Mask180L.avi\n",
      "Saving filtered csv poses!\n",
      "Filtering with median model F:\\videos\\Ar30motor\\2021_07_09\\Mask181L.avi\n",
      "Saving filtered csv poses!\n",
      "Filtering with median model F:\\videos\\Ar30motor\\2021_07_09\\Mask182L.avi\n",
      "Saving filtered csv poses!\n",
      "Filtering with median model F:\\videos\\Ar30motor\\2021_07_09\\Mask183L.avi\n",
      "Saving filtered csv poses!\n",
      "Filtering with median model F:\\videos\\Ar30motor\\2021_07_09\\Mask184L.avi\n",
      "Saving filtered csv poses!\n",
      "Filtering with median model F:\\videos\\Ar30motor\\2021_07_09\\Mask185L.avi\n",
      "Saving filtered csv poses!\n",
      "Filtering with median model F:\\videos\\Ar30motor\\2021_07_09\\Mask186L.avi\n",
      "Saving filtered csv poses!\n",
      "Filtering with median model F:\\videos\\Ar30motor\\2021_07_09\\Mask187L.avi\n",
      "Saving filtered csv poses!\n",
      "Filtering with median model F:\\videos\\Ar30motor\\2021_07_09\\Mask188L.avi\n",
      "Saving filtered csv poses!\n",
      "Filtering with median model F:\\videos\\Ar30motor\\2021_07_09\\Mask189L.avi\n",
      "Saving filtered csv poses!\n",
      "Filtering with median model F:\\videos\\Ar30motor\\2021_07_09\\Mask18L.avi\n",
      "Saving filtered csv poses!\n",
      "Filtering with median model F:\\videos\\Ar30motor\\2021_07_09\\Mask190L.avi\n",
      "Saving filtered csv poses!\n",
      "Filtering with median model F:\\videos\\Ar30motor\\2021_07_09\\Mask191L.avi\n",
      "Saving filtered csv poses!\n",
      "Filtering with median model F:\\videos\\Ar30motor\\2021_07_09\\Mask192L.avi\n",
      "Saving filtered csv poses!\n",
      "Filtering with median model F:\\videos\\Ar30motor\\2021_07_09\\Mask193L.avi\n",
      "Saving filtered csv poses!\n",
      "Filtering with median model F:\\videos\\Ar30motor\\2021_07_09\\Mask194L.avi\n",
      "Saving filtered csv poses!\n",
      "Filtering with median model F:\\videos\\Ar30motor\\2021_07_09\\Mask195L.avi\n",
      "Saving filtered csv poses!\n",
      "Filtering with median model F:\\videos\\Ar30motor\\2021_07_09\\Mask196L.avi\n",
      "Saving filtered csv poses!\n",
      "Filtering with median model F:\\videos\\Ar30motor\\2021_07_09\\Mask197L.avi\n",
      "Saving filtered csv poses!\n",
      "Filtering with median model F:\\videos\\Ar30motor\\2021_07_09\\Mask198L.avi\n",
      "Saving filtered csv poses!\n",
      "Filtering with median model F:\\videos\\Ar30motor\\2021_07_09\\Mask199L.avi\n",
      "Saving filtered csv poses!\n",
      "Filtering with median model F:\\videos\\Ar30motor\\2021_07_09\\Mask19L.avi\n",
      "Saving filtered csv poses!\n",
      "Filtering with median model F:\\videos\\Ar30motor\\2021_07_09\\Mask1L.avi\n",
      "Saving filtered csv poses!\n",
      "Filtering with median model F:\\videos\\Ar30motor\\2021_07_09\\Mask200L.avi\n",
      "Saving filtered csv poses!\n",
      "Filtering with median model F:\\videos\\Ar30motor\\2021_07_09\\Mask201L.avi\n",
      "Saving filtered csv poses!\n",
      "Filtering with median model F:\\videos\\Ar30motor\\2021_07_09\\Mask202L.avi\n",
      "Saving filtered csv poses!\n",
      "Filtering with median model F:\\videos\\Ar30motor\\2021_07_09\\Mask20L.avi\n",
      "Saving filtered csv poses!\n",
      "Filtering with median model F:\\videos\\Ar30motor\\2021_07_09\\Mask2L.avi\n",
      "Saving filtered csv poses!\n",
      "Using snapshot-207000 for model F:\\videos\\Ar30motor\\2021_08_03_184113\\ar30shiwker-Arash-2021-09-13\\dlc-models\\iteration-0\\ar30shiwkerSep13-trainset95shuffle1\n",
      "Initializing ResNet\n",
      "Starting to analyze %  F:\\videos\\Ar30motor\\2021_07_09\\Mirror0R.avi\n",
      "F:\\videos\\Ar30motor\\2021_07_09  already exists!\n",
      "Loading  F:\\videos\\Ar30motor\\2021_07_09\\Mirror0R.avi\n",
      "Duration of video [s]:  10.0 , recorded with  40.0 fps!\n",
      "Overall # of frames:  400  found with (before cropping) frame dimensions:  314 700\n",
      "Starting to extract posture\n"
     ]
    },
    {
     "name": "stderr",
     "output_type": "stream",
     "text": [
      "410it [00:05, 65.10it/s]                                                                                               "
     ]
    },
    {
     "name": "stdout",
     "output_type": "stream",
     "text": [
      "Detected frames:  400\n"
     ]
    },
    {
     "name": "stderr",
     "output_type": "stream",
     "text": [
      "410it [00:05, 69.62it/s]\n"
     ]
    },
    {
     "name": "stdout",
     "output_type": "stream",
     "text": [
      "Saving results in F:\\videos\\Ar30motor\\2021_07_09...\n",
      "Saving csv poses!\n",
      "Starting to analyze %  F:\\videos\\Ar30motor\\2021_07_09\\Mirror100R.avi\n",
      "F:\\videos\\Ar30motor\\2021_07_09  already exists!\n",
      "Loading  F:\\videos\\Ar30motor\\2021_07_09\\Mirror100R.avi\n",
      "Duration of video [s]:  4.78 , recorded with  40.0 fps!\n",
      "Overall # of frames:  191  found with (before cropping) frame dimensions:  314 700\n",
      "Starting to extract posture\n"
     ]
    },
    {
     "name": "stderr",
     "output_type": "stream",
     "text": [
      "200it [00:02, 77.44it/s]                                                                                               "
     ]
    },
    {
     "name": "stdout",
     "output_type": "stream",
     "text": [
      "Detected frames:  191\n"
     ]
    },
    {
     "name": "stderr",
     "output_type": "stream",
     "text": [
      "200it [00:02, 73.39it/s]\n"
     ]
    },
    {
     "name": "stdout",
     "output_type": "stream",
     "text": [
      "Saving results in F:\\videos\\Ar30motor\\2021_07_09...\n",
      "Saving csv poses!\n",
      "Starting to analyze %  F:\\videos\\Ar30motor\\2021_07_09\\Mirror101R.avi\n",
      "F:\\videos\\Ar30motor\\2021_07_09  already exists!\n",
      "Loading  F:\\videos\\Ar30motor\\2021_07_09\\Mirror101R.avi\n",
      "Duration of video [s]:  5.42 , recorded with  40.0 fps!\n",
      "Overall # of frames:  217  found with (before cropping) frame dimensions:  314 700\n",
      "Starting to extract posture\n"
     ]
    },
    {
     "name": "stderr",
     "output_type": "stream",
     "text": [
      "220it [00:03, 67.57it/s]                                                                                               "
     ]
    },
    {
     "name": "stdout",
     "output_type": "stream",
     "text": [
      "Detected frames:  217\n"
     ]
    },
    {
     "name": "stderr",
     "output_type": "stream",
     "text": [
      "220it [00:03, 67.87it/s]\n"
     ]
    },
    {
     "name": "stdout",
     "output_type": "stream",
     "text": [
      "Saving results in F:\\videos\\Ar30motor\\2021_07_09...\n",
      "Saving csv poses!\n",
      "Starting to analyze %  F:\\videos\\Ar30motor\\2021_07_09\\Mirror102R.avi\n",
      "F:\\videos\\Ar30motor\\2021_07_09  already exists!\n",
      "Loading  F:\\videos\\Ar30motor\\2021_07_09\\Mirror102R.avi\n",
      "Duration of video [s]:  10.0 , recorded with  40.0 fps!\n",
      "Overall # of frames:  400  found with (before cropping) frame dimensions:  314 700\n",
      "Starting to extract posture\n"
     ]
    },
    {
     "name": "stderr",
     "output_type": "stream",
     "text": [
      "410it [00:05, 61.28it/s]                                                                                               "
     ]
    },
    {
     "name": "stdout",
     "output_type": "stream",
     "text": [
      "Detected frames:  400\n"
     ]
    },
    {
     "name": "stderr",
     "output_type": "stream",
     "text": [
      "410it [00:05, 70.14it/s]\n"
     ]
    },
    {
     "name": "stdout",
     "output_type": "stream",
     "text": [
      "Saving results in F:\\videos\\Ar30motor\\2021_07_09...\n",
      "Saving csv poses!\n",
      "Starting to analyze %  F:\\videos\\Ar30motor\\2021_07_09\\Mirror103R.avi\n",
      "F:\\videos\\Ar30motor\\2021_07_09  already exists!\n",
      "Loading  F:\\videos\\Ar30motor\\2021_07_09\\Mirror103R.avi\n",
      "Duration of video [s]:  6.5 , recorded with  40.0 fps!\n",
      "Overall # of frames:  260  found with (before cropping) frame dimensions:  314 700\n",
      "Starting to extract posture\n"
     ]
    },
    {
     "name": "stderr",
     "output_type": "stream",
     "text": [
      "270it [00:03, 71.20it/s]                                                                                               "
     ]
    },
    {
     "name": "stdout",
     "output_type": "stream",
     "text": [
      "Detected frames:  260\n"
     ]
    },
    {
     "name": "stderr",
     "output_type": "stream",
     "text": [
      "270it [00:03, 69.60it/s]\n"
     ]
    },
    {
     "name": "stdout",
     "output_type": "stream",
     "text": [
      "Saving results in F:\\videos\\Ar30motor\\2021_07_09...\n",
      "Saving csv poses!\n",
      "Starting to analyze %  F:\\videos\\Ar30motor\\2021_07_09\\Mirror104R.avi\n",
      "F:\\videos\\Ar30motor\\2021_07_09  already exists!\n",
      "Loading  F:\\videos\\Ar30motor\\2021_07_09\\Mirror104R.avi\n",
      "Duration of video [s]:  10.0 , recorded with  40.0 fps!\n",
      "Overall # of frames:  400  found with (before cropping) frame dimensions:  314 700\n",
      "Starting to extract posture\n"
     ]
    },
    {
     "name": "stderr",
     "output_type": "stream",
     "text": [
      "410it [00:05, 60.74it/s]                                                                                               "
     ]
    },
    {
     "name": "stdout",
     "output_type": "stream",
     "text": [
      "Detected frames:  400\n"
     ]
    },
    {
     "name": "stderr",
     "output_type": "stream",
     "text": [
      "410it [00:05, 69.17it/s]\n"
     ]
    },
    {
     "name": "stdout",
     "output_type": "stream",
     "text": [
      "Saving results in F:\\videos\\Ar30motor\\2021_07_09...\n",
      "Saving csv poses!\n",
      "Starting to analyze %  F:\\videos\\Ar30motor\\2021_07_09\\Mirror105R.avi\n",
      "F:\\videos\\Ar30motor\\2021_07_09  already exists!\n",
      "Loading  F:\\videos\\Ar30motor\\2021_07_09\\Mirror105R.avi\n",
      "Duration of video [s]:  10.0 , recorded with  40.0 fps!\n",
      "Overall # of frames:  400  found with (before cropping) frame dimensions:  314 700\n",
      "Starting to extract posture\n"
     ]
    },
    {
     "name": "stderr",
     "output_type": "stream",
     "text": [
      "410it [00:06, 57.16it/s]                                                                                               "
     ]
    },
    {
     "name": "stdout",
     "output_type": "stream",
     "text": [
      "Detected frames:  400\n"
     ]
    },
    {
     "name": "stderr",
     "output_type": "stream",
     "text": [
      "410it [00:06, 63.05it/s]\n"
     ]
    },
    {
     "name": "stdout",
     "output_type": "stream",
     "text": [
      "Saving results in F:\\videos\\Ar30motor\\2021_07_09...\n",
      "Saving csv poses!\n",
      "Starting to analyze %  F:\\videos\\Ar30motor\\2021_07_09\\Mirror106R.avi\n",
      "F:\\videos\\Ar30motor\\2021_07_09  already exists!\n",
      "Loading  F:\\videos\\Ar30motor\\2021_07_09\\Mirror106R.avi\n",
      "Duration of video [s]:  10.0 , recorded with  40.0 fps!\n",
      "Overall # of frames:  400  found with (before cropping) frame dimensions:  314 700\n",
      "Starting to extract posture\n"
     ]
    },
    {
     "name": "stderr",
     "output_type": "stream",
     "text": [
      "410it [00:06, 60.31it/s]                                                                                               "
     ]
    },
    {
     "name": "stdout",
     "output_type": "stream",
     "text": [
      "Detected frames:  400\n"
     ]
    },
    {
     "name": "stderr",
     "output_type": "stream",
     "text": [
      "410it [00:06, 67.10it/s]\n"
     ]
    },
    {
     "name": "stdout",
     "output_type": "stream",
     "text": [
      "Saving results in F:\\videos\\Ar30motor\\2021_07_09...\n",
      "Saving csv poses!\n",
      "Starting to analyze %  F:\\videos\\Ar30motor\\2021_07_09\\Mirror107R.avi\n",
      "F:\\videos\\Ar30motor\\2021_07_09  already exists!\n",
      "Loading  F:\\videos\\Ar30motor\\2021_07_09\\Mirror107R.avi\n",
      "Duration of video [s]:  10.0 , recorded with  40.0 fps!\n",
      "Overall # of frames:  400  found with (before cropping) frame dimensions:  314 700\n",
      "Starting to extract posture\n"
     ]
    },
    {
     "name": "stderr",
     "output_type": "stream",
     "text": [
      "410it [00:05, 62.56it/s]                                                                                               "
     ]
    },
    {
     "name": "stdout",
     "output_type": "stream",
     "text": [
      "Detected frames:  400\n"
     ]
    },
    {
     "name": "stderr",
     "output_type": "stream",
     "text": [
      "410it [00:05, 69.78it/s]\n"
     ]
    },
    {
     "name": "stdout",
     "output_type": "stream",
     "text": [
      "Saving results in F:\\videos\\Ar30motor\\2021_07_09...\n",
      "Saving csv poses!\n",
      "Starting to analyze %  F:\\videos\\Ar30motor\\2021_07_09\\Mirror108R.avi\n",
      "F:\\videos\\Ar30motor\\2021_07_09  already exists!\n",
      "Loading  F:\\videos\\Ar30motor\\2021_07_09\\Mirror108R.avi\n",
      "Duration of video [s]:  10.0 , recorded with  40.0 fps!\n",
      "Overall # of frames:  400  found with (before cropping) frame dimensions:  314 700\n",
      "Starting to extract posture\n"
     ]
    },
    {
     "name": "stderr",
     "output_type": "stream",
     "text": [
      "410it [00:05, 61.85it/s]                                                                                               "
     ]
    },
    {
     "name": "stdout",
     "output_type": "stream",
     "text": [
      "Detected frames:  400\n"
     ]
    },
    {
     "name": "stderr",
     "output_type": "stream",
     "text": [
      "410it [00:05, 70.08it/s]\n"
     ]
    },
    {
     "name": "stdout",
     "output_type": "stream",
     "text": [
      "Saving results in F:\\videos\\Ar30motor\\2021_07_09...\n",
      "Saving csv poses!\n",
      "Starting to analyze %  F:\\videos\\Ar30motor\\2021_07_09\\Mirror109R.avi\n",
      "F:\\videos\\Ar30motor\\2021_07_09  already exists!\n",
      "Loading  F:\\videos\\Ar30motor\\2021_07_09\\Mirror109R.avi\n",
      "Duration of video [s]:  10.0 , recorded with  40.0 fps!\n",
      "Overall # of frames:  400  found with (before cropping) frame dimensions:  314 700\n",
      "Starting to extract posture\n"
     ]
    },
    {
     "name": "stderr",
     "output_type": "stream",
     "text": [
      "410it [00:05, 61.27it/s]                                                                                               "
     ]
    },
    {
     "name": "stdout",
     "output_type": "stream",
     "text": [
      "Detected frames:  400\n"
     ]
    },
    {
     "name": "stderr",
     "output_type": "stream",
     "text": [
      "410it [00:05, 69.57it/s]\n"
     ]
    },
    {
     "name": "stdout",
     "output_type": "stream",
     "text": [
      "Saving results in F:\\videos\\Ar30motor\\2021_07_09...\n",
      "Saving csv poses!\n",
      "Starting to analyze %  F:\\videos\\Ar30motor\\2021_07_09\\Mirror10R.avi\n",
      "F:\\videos\\Ar30motor\\2021_07_09  already exists!\n",
      "Loading  F:\\videos\\Ar30motor\\2021_07_09\\Mirror10R.avi\n",
      "Duration of video [s]:  8.8 , recorded with  40.0 fps!\n",
      "Overall # of frames:  352  found with (before cropping) frame dimensions:  314 700\n",
      "Starting to extract posture\n"
     ]
    },
    {
     "name": "stderr",
     "output_type": "stream",
     "text": [
      "360it [00:09, 58.96it/s]                                                                                               "
     ]
    },
    {
     "name": "stdout",
     "output_type": "stream",
     "text": [
      "Detected frames:  352\n"
     ]
    },
    {
     "name": "stderr",
     "output_type": "stream",
     "text": [
      "360it [00:09, 37.83it/s]\n"
     ]
    },
    {
     "name": "stdout",
     "output_type": "stream",
     "text": [
      "Saving results in F:\\videos\\Ar30motor\\2021_07_09...\n",
      "Saving csv poses!\n",
      "Starting to analyze %  F:\\videos\\Ar30motor\\2021_07_09\\Mirror110R.avi\n",
      "F:\\videos\\Ar30motor\\2021_07_09  already exists!\n",
      "Loading  F:\\videos\\Ar30motor\\2021_07_09\\Mirror110R.avi\n",
      "Duration of video [s]:  10.0 , recorded with  40.0 fps!\n",
      "Overall # of frames:  400  found with (before cropping) frame dimensions:  314 700\n",
      "Starting to extract posture\n"
     ]
    },
    {
     "name": "stderr",
     "output_type": "stream",
     "text": [
      "410it [00:06, 58.10it/s]                                                                                               "
     ]
    },
    {
     "name": "stdout",
     "output_type": "stream",
     "text": [
      "Detected frames:  400\n"
     ]
    },
    {
     "name": "stderr",
     "output_type": "stream",
     "text": [
      "410it [00:06, 62.44it/s]\n"
     ]
    },
    {
     "name": "stdout",
     "output_type": "stream",
     "text": [
      "Saving results in F:\\videos\\Ar30motor\\2021_07_09...\n",
      "Saving csv poses!\n",
      "Starting to analyze %  F:\\videos\\Ar30motor\\2021_07_09\\Mirror111R.avi\n",
      "F:\\videos\\Ar30motor\\2021_07_09  already exists!\n",
      "Loading  F:\\videos\\Ar30motor\\2021_07_09\\Mirror111R.avi\n",
      "Duration of video [s]:  10.0 , recorded with  40.0 fps!\n",
      "Overall # of frames:  400  found with (before cropping) frame dimensions:  314 700\n",
      "Starting to extract posture\n"
     ]
    },
    {
     "name": "stderr",
     "output_type": "stream",
     "text": [
      "410it [00:06, 61.36it/s]                                                                                               "
     ]
    },
    {
     "name": "stdout",
     "output_type": "stream",
     "text": [
      "Detected frames:  400\n"
     ]
    },
    {
     "name": "stderr",
     "output_type": "stream",
     "text": [
      "410it [00:06, 68.19it/s]\n"
     ]
    },
    {
     "name": "stdout",
     "output_type": "stream",
     "text": [
      "Saving results in F:\\videos\\Ar30motor\\2021_07_09...\n",
      "Saving csv poses!\n",
      "Starting to analyze %  F:\\videos\\Ar30motor\\2021_07_09\\Mirror112R.avi\n",
      "F:\\videos\\Ar30motor\\2021_07_09  already exists!\n",
      "Loading  F:\\videos\\Ar30motor\\2021_07_09\\Mirror112R.avi\n",
      "Duration of video [s]:  10.0 , recorded with  40.0 fps!\n",
      "Overall # of frames:  400  found with (before cropping) frame dimensions:  314 700\n",
      "Starting to extract posture\n"
     ]
    },
    {
     "name": "stderr",
     "output_type": "stream",
     "text": [
      "410it [00:05, 62.98it/s]                                                                                               "
     ]
    },
    {
     "name": "stdout",
     "output_type": "stream",
     "text": [
      "Detected frames:  400\n"
     ]
    },
    {
     "name": "stderr",
     "output_type": "stream",
     "text": [
      "410it [00:05, 70.63it/s]\n"
     ]
    },
    {
     "name": "stdout",
     "output_type": "stream",
     "text": [
      "Saving results in F:\\videos\\Ar30motor\\2021_07_09...\n",
      "Saving csv poses!\n",
      "Starting to analyze %  F:\\videos\\Ar30motor\\2021_07_09\\Mirror113R.avi\n",
      "F:\\videos\\Ar30motor\\2021_07_09  already exists!\n",
      "Loading  F:\\videos\\Ar30motor\\2021_07_09\\Mirror113R.avi\n",
      "Duration of video [s]:  10.0 , recorded with  40.0 fps!\n",
      "Overall # of frames:  400  found with (before cropping) frame dimensions:  314 700\n",
      "Starting to extract posture\n"
     ]
    },
    {
     "name": "stderr",
     "output_type": "stream",
     "text": [
      "410it [00:05, 62.34it/s]                                                                                               "
     ]
    },
    {
     "name": "stdout",
     "output_type": "stream",
     "text": [
      "Detected frames:  400\n"
     ]
    },
    {
     "name": "stderr",
     "output_type": "stream",
     "text": [
      "410it [00:05, 71.65it/s]\n"
     ]
    },
    {
     "name": "stdout",
     "output_type": "stream",
     "text": [
      "Saving results in F:\\videos\\Ar30motor\\2021_07_09...\n",
      "Saving csv poses!\n",
      "Starting to analyze %  F:\\videos\\Ar30motor\\2021_07_09\\Mirror114R.avi\n",
      "F:\\videos\\Ar30motor\\2021_07_09  already exists!\n",
      "Loading  F:\\videos\\Ar30motor\\2021_07_09\\Mirror114R.avi\n",
      "Duration of video [s]:  10.0 , recorded with  40.0 fps!\n",
      "Overall # of frames:  400  found with (before cropping) frame dimensions:  314 700\n",
      "Starting to extract posture\n"
     ]
    },
    {
     "name": "stderr",
     "output_type": "stream",
     "text": [
      "410it [00:05, 62.40it/s]                                                                                               "
     ]
    },
    {
     "name": "stdout",
     "output_type": "stream",
     "text": [
      "Detected frames:  400\n"
     ]
    },
    {
     "name": "stderr",
     "output_type": "stream",
     "text": [
      "410it [00:05, 70.64it/s]\n"
     ]
    },
    {
     "name": "stdout",
     "output_type": "stream",
     "text": [
      "Saving results in F:\\videos\\Ar30motor\\2021_07_09...\n",
      "Saving csv poses!\n",
      "Starting to analyze %  F:\\videos\\Ar30motor\\2021_07_09\\Mirror115R.avi\n",
      "F:\\videos\\Ar30motor\\2021_07_09  already exists!\n",
      "Loading  F:\\videos\\Ar30motor\\2021_07_09\\Mirror115R.avi\n",
      "Duration of video [s]:  10.0 , recorded with  40.0 fps!\n",
      "Overall # of frames:  400  found with (before cropping) frame dimensions:  314 700\n",
      "Starting to extract posture\n"
     ]
    },
    {
     "name": "stderr",
     "output_type": "stream",
     "text": [
      "410it [00:05, 61.25it/s]                                                                                               "
     ]
    },
    {
     "name": "stdout",
     "output_type": "stream",
     "text": [
      "Detected frames:  400\n"
     ]
    },
    {
     "name": "stderr",
     "output_type": "stream",
     "text": [
      "410it [00:05, 69.66it/s]\n"
     ]
    },
    {
     "name": "stdout",
     "output_type": "stream",
     "text": [
      "Saving results in F:\\videos\\Ar30motor\\2021_07_09...\n",
      "Saving csv poses!\n",
      "Starting to analyze %  F:\\videos\\Ar30motor\\2021_07_09\\Mirror116R.avi\n",
      "F:\\videos\\Ar30motor\\2021_07_09  already exists!\n",
      "Loading  F:\\videos\\Ar30motor\\2021_07_09\\Mirror116R.avi\n",
      "Duration of video [s]:  10.0 , recorded with  40.0 fps!\n",
      "Overall # of frames:  400  found with (before cropping) frame dimensions:  314 700\n",
      "Starting to extract posture\n"
     ]
    },
    {
     "name": "stderr",
     "output_type": "stream",
     "text": [
      "410it [00:05, 61.88it/s]                                                                                               "
     ]
    },
    {
     "name": "stdout",
     "output_type": "stream",
     "text": [
      "Detected frames:  400\n"
     ]
    },
    {
     "name": "stderr",
     "output_type": "stream",
     "text": [
      "410it [00:05, 69.77it/s]\n"
     ]
    },
    {
     "name": "stdout",
     "output_type": "stream",
     "text": [
      "Saving results in F:\\videos\\Ar30motor\\2021_07_09...\n",
      "Saving csv poses!\n",
      "Starting to analyze %  F:\\videos\\Ar30motor\\2021_07_09\\Mirror117R.avi\n",
      "F:\\videos\\Ar30motor\\2021_07_09  already exists!\n",
      "Loading  F:\\videos\\Ar30motor\\2021_07_09\\Mirror117R.avi\n",
      "Duration of video [s]:  10.0 , recorded with  40.0 fps!\n",
      "Overall # of frames:  400  found with (before cropping) frame dimensions:  314 700\n",
      "Starting to extract posture\n"
     ]
    },
    {
     "name": "stderr",
     "output_type": "stream",
     "text": [
      "410it [00:05, 62.00it/s]                                                                                               "
     ]
    },
    {
     "name": "stdout",
     "output_type": "stream",
     "text": [
      "Detected frames:  400\n"
     ]
    },
    {
     "name": "stderr",
     "output_type": "stream",
     "text": [
      "410it [00:05, 69.24it/s]\n"
     ]
    },
    {
     "name": "stdout",
     "output_type": "stream",
     "text": [
      "Saving results in F:\\videos\\Ar30motor\\2021_07_09...\n",
      "Saving csv poses!\n",
      "Starting to analyze %  F:\\videos\\Ar30motor\\2021_07_09\\Mirror118R.avi\n",
      "F:\\videos\\Ar30motor\\2021_07_09  already exists!\n",
      "Loading  F:\\videos\\Ar30motor\\2021_07_09\\Mirror118R.avi\n",
      "Duration of video [s]:  10.0 , recorded with  40.0 fps!\n",
      "Overall # of frames:  400  found with (before cropping) frame dimensions:  314 700\n",
      "Starting to extract posture\n"
     ]
    },
    {
     "name": "stderr",
     "output_type": "stream",
     "text": [
      "410it [00:05, 60.70it/s]                                                                                               "
     ]
    },
    {
     "name": "stdout",
     "output_type": "stream",
     "text": [
      "Detected frames:  400\n"
     ]
    },
    {
     "name": "stderr",
     "output_type": "stream",
     "text": [
      "410it [00:05, 68.72it/s]\n"
     ]
    },
    {
     "name": "stdout",
     "output_type": "stream",
     "text": [
      "Saving results in F:\\videos\\Ar30motor\\2021_07_09...\n",
      "Saving csv poses!\n",
      "Starting to analyze %  F:\\videos\\Ar30motor\\2021_07_09\\Mirror119R.avi\n",
      "F:\\videos\\Ar30motor\\2021_07_09  already exists!\n",
      "Loading  F:\\videos\\Ar30motor\\2021_07_09\\Mirror119R.avi\n",
      "Duration of video [s]:  10.0 , recorded with  40.0 fps!\n",
      "Overall # of frames:  400  found with (before cropping) frame dimensions:  314 700\n",
      "Starting to extract posture\n"
     ]
    },
    {
     "name": "stderr",
     "output_type": "stream",
     "text": [
      "410it [00:05, 60.28it/s]                                                                                               "
     ]
    },
    {
     "name": "stdout",
     "output_type": "stream",
     "text": [
      "Detected frames:  400\n"
     ]
    },
    {
     "name": "stderr",
     "output_type": "stream",
     "text": [
      "410it [00:05, 68.69it/s]\n"
     ]
    },
    {
     "name": "stdout",
     "output_type": "stream",
     "text": [
      "Saving results in F:\\videos\\Ar30motor\\2021_07_09...\n",
      "Saving csv poses!\n",
      "Starting to analyze %  F:\\videos\\Ar30motor\\2021_07_09\\Mirror11R.avi\n",
      "F:\\videos\\Ar30motor\\2021_07_09  already exists!\n",
      "Loading  F:\\videos\\Ar30motor\\2021_07_09\\Mirror11R.avi\n",
      "Duration of video [s]:  5.67 , recorded with  40.0 fps!\n",
      "Overall # of frames:  227  found with (before cropping) frame dimensions:  314 700\n",
      "Starting to extract posture\n"
     ]
    },
    {
     "name": "stderr",
     "output_type": "stream",
     "text": [
      "230it [00:03, 71.01it/s]                                                                                               "
     ]
    },
    {
     "name": "stdout",
     "output_type": "stream",
     "text": [
      "Detected frames:  227\n"
     ]
    },
    {
     "name": "stderr",
     "output_type": "stream",
     "text": [
      "230it [00:03, 66.96it/s]\n"
     ]
    },
    {
     "name": "stdout",
     "output_type": "stream",
     "text": [
      "Saving results in F:\\videos\\Ar30motor\\2021_07_09...\n",
      "Saving csv poses!\n",
      "Starting to analyze %  F:\\videos\\Ar30motor\\2021_07_09\\Mirror120R.avi\n",
      "F:\\videos\\Ar30motor\\2021_07_09  already exists!\n",
      "Loading  F:\\videos\\Ar30motor\\2021_07_09\\Mirror120R.avi\n",
      "Duration of video [s]:  10.0 , recorded with  40.0 fps!\n",
      "Overall # of frames:  400  found with (before cropping) frame dimensions:  314 700\n",
      "Starting to extract posture\n"
     ]
    },
    {
     "name": "stderr",
     "output_type": "stream",
     "text": [
      "410it [00:06, 59.78it/s]                                                                                               "
     ]
    },
    {
     "name": "stdout",
     "output_type": "stream",
     "text": [
      "Detected frames:  400\n"
     ]
    },
    {
     "name": "stderr",
     "output_type": "stream",
     "text": [
      "410it [00:06, 67.57it/s]\n"
     ]
    },
    {
     "name": "stdout",
     "output_type": "stream",
     "text": [
      "Saving results in F:\\videos\\Ar30motor\\2021_07_09...\n",
      "Saving csv poses!\n",
      "Starting to analyze %  F:\\videos\\Ar30motor\\2021_07_09\\Mirror121R.avi\n",
      "F:\\videos\\Ar30motor\\2021_07_09  already exists!\n",
      "Loading  F:\\videos\\Ar30motor\\2021_07_09\\Mirror121R.avi\n",
      "Duration of video [s]:  10.0 , recorded with  40.0 fps!\n",
      "Overall # of frames:  400  found with (before cropping) frame dimensions:  314 700\n",
      "Starting to extract posture\n"
     ]
    },
    {
     "name": "stderr",
     "output_type": "stream",
     "text": [
      "410it [00:05, 61.19it/s]                                                                                               "
     ]
    },
    {
     "name": "stdout",
     "output_type": "stream",
     "text": [
      "Detected frames:  400\n"
     ]
    },
    {
     "name": "stderr",
     "output_type": "stream",
     "text": [
      "410it [00:05, 68.83it/s]\n"
     ]
    },
    {
     "name": "stdout",
     "output_type": "stream",
     "text": [
      "Saving results in F:\\videos\\Ar30motor\\2021_07_09...\n",
      "Saving csv poses!\n",
      "Starting to analyze %  F:\\videos\\Ar30motor\\2021_07_09\\Mirror122R.avi\n",
      "F:\\videos\\Ar30motor\\2021_07_09  already exists!\n",
      "Loading  F:\\videos\\Ar30motor\\2021_07_09\\Mirror122R.avi\n",
      "Duration of video [s]:  10.0 , recorded with  40.0 fps!\n",
      "Overall # of frames:  400  found with (before cropping) frame dimensions:  314 700\n",
      "Starting to extract posture\n"
     ]
    },
    {
     "name": "stderr",
     "output_type": "stream",
     "text": [
      "410it [00:05, 60.71it/s]                                                                                               "
     ]
    },
    {
     "name": "stdout",
     "output_type": "stream",
     "text": [
      "Detected frames:  400\n"
     ]
    },
    {
     "name": "stderr",
     "output_type": "stream",
     "text": [
      "410it [00:05, 69.08it/s]\n"
     ]
    },
    {
     "name": "stdout",
     "output_type": "stream",
     "text": [
      "Saving results in F:\\videos\\Ar30motor\\2021_07_09...\n",
      "Saving csv poses!\n",
      "Starting to analyze %  F:\\videos\\Ar30motor\\2021_07_09\\Mirror123R.avi\n",
      "F:\\videos\\Ar30motor\\2021_07_09  already exists!\n",
      "Loading  F:\\videos\\Ar30motor\\2021_07_09\\Mirror123R.avi\n",
      "Duration of video [s]:  10.0 , recorded with  40.0 fps!\n",
      "Overall # of frames:  400  found with (before cropping) frame dimensions:  314 700\n",
      "Starting to extract posture\n"
     ]
    },
    {
     "name": "stderr",
     "output_type": "stream",
     "text": [
      "410it [00:07, 53.52it/s]                                                                                               "
     ]
    },
    {
     "name": "stdout",
     "output_type": "stream",
     "text": [
      "Detected frames:  400\n"
     ]
    },
    {
     "name": "stderr",
     "output_type": "stream",
     "text": [
      "410it [00:07, 57.48it/s]\n"
     ]
    },
    {
     "name": "stdout",
     "output_type": "stream",
     "text": [
      "Saving results in F:\\videos\\Ar30motor\\2021_07_09...\n",
      "Saving csv poses!\n",
      "Starting to analyze %  F:\\videos\\Ar30motor\\2021_07_09\\Mirror124R.avi\n",
      "F:\\videos\\Ar30motor\\2021_07_09  already exists!\n",
      "Loading  F:\\videos\\Ar30motor\\2021_07_09\\Mirror124R.avi\n",
      "Duration of video [s]:  7.33 , recorded with  40.0 fps!\n",
      "Overall # of frames:  293  found with (before cropping) frame dimensions:  314 700\n",
      "Starting to extract posture\n"
     ]
    },
    {
     "name": "stderr",
     "output_type": "stream",
     "text": [
      "300it [00:04, 63.13it/s]                                                                                               "
     ]
    },
    {
     "name": "stdout",
     "output_type": "stream",
     "text": [
      "Detected frames:  293\n"
     ]
    },
    {
     "name": "stderr",
     "output_type": "stream",
     "text": [
      "300it [00:04, 63.58it/s]\n"
     ]
    },
    {
     "name": "stdout",
     "output_type": "stream",
     "text": [
      "Saving results in F:\\videos\\Ar30motor\\2021_07_09...\n",
      "Saving csv poses!\n",
      "Starting to analyze %  F:\\videos\\Ar30motor\\2021_07_09\\Mirror125R.avi\n",
      "F:\\videos\\Ar30motor\\2021_07_09  already exists!\n",
      "Loading  F:\\videos\\Ar30motor\\2021_07_09\\Mirror125R.avi\n",
      "Duration of video [s]:  10.0 , recorded with  40.0 fps!\n",
      "Overall # of frames:  400  found with (before cropping) frame dimensions:  314 700\n",
      "Starting to extract posture\n"
     ]
    },
    {
     "name": "stderr",
     "output_type": "stream",
     "text": [
      "410it [00:06, 62.26it/s]                                                                                               "
     ]
    },
    {
     "name": "stdout",
     "output_type": "stream",
     "text": [
      "Detected frames:  400\n"
     ]
    },
    {
     "name": "stderr",
     "output_type": "stream",
     "text": [
      "410it [00:06, 68.05it/s]\n"
     ]
    },
    {
     "name": "stdout",
     "output_type": "stream",
     "text": [
      "Saving results in F:\\videos\\Ar30motor\\2021_07_09...\n",
      "Saving csv poses!\n",
      "Starting to analyze %  F:\\videos\\Ar30motor\\2021_07_09\\Mirror126R.avi\n",
      "F:\\videos\\Ar30motor\\2021_07_09  already exists!\n",
      "Loading  F:\\videos\\Ar30motor\\2021_07_09\\Mirror126R.avi\n",
      "Duration of video [s]:  10.0 , recorded with  40.0 fps!\n",
      "Overall # of frames:  400  found with (before cropping) frame dimensions:  314 700\n",
      "Starting to extract posture\n"
     ]
    },
    {
     "name": "stderr",
     "output_type": "stream",
     "text": [
      "410it [00:05, 62.22it/s]                                                                                               "
     ]
    },
    {
     "name": "stdout",
     "output_type": "stream",
     "text": [
      "Detected frames:  400\n"
     ]
    },
    {
     "name": "stderr",
     "output_type": "stream",
     "text": [
      "410it [00:05, 70.10it/s]\n"
     ]
    },
    {
     "name": "stdout",
     "output_type": "stream",
     "text": [
      "Saving results in F:\\videos\\Ar30motor\\2021_07_09...\n",
      "Saving csv poses!\n",
      "Starting to analyze %  F:\\videos\\Ar30motor\\2021_07_09\\Mirror127R.avi\n",
      "F:\\videos\\Ar30motor\\2021_07_09  already exists!\n",
      "Loading  F:\\videos\\Ar30motor\\2021_07_09\\Mirror127R.avi\n",
      "Duration of video [s]:  10.0 , recorded with  40.0 fps!\n",
      "Overall # of frames:  400  found with (before cropping) frame dimensions:  314 700\n",
      "Starting to extract posture\n"
     ]
    },
    {
     "name": "stderr",
     "output_type": "stream",
     "text": [
      "410it [00:05, 61.70it/s]                                                                                               "
     ]
    },
    {
     "name": "stdout",
     "output_type": "stream",
     "text": [
      "Detected frames:  400\n"
     ]
    },
    {
     "name": "stderr",
     "output_type": "stream",
     "text": [
      "410it [00:05, 70.15it/s]\n"
     ]
    },
    {
     "name": "stdout",
     "output_type": "stream",
     "text": [
      "Saving results in F:\\videos\\Ar30motor\\2021_07_09...\n",
      "Saving csv poses!\n",
      "Starting to analyze %  F:\\videos\\Ar30motor\\2021_07_09\\Mirror128R.avi\n",
      "F:\\videos\\Ar30motor\\2021_07_09  already exists!\n",
      "Loading  F:\\videos\\Ar30motor\\2021_07_09\\Mirror128R.avi\n",
      "Duration of video [s]:  10.0 , recorded with  40.0 fps!\n",
      "Overall # of frames:  400  found with (before cropping) frame dimensions:  314 700\n",
      "Starting to extract posture\n"
     ]
    },
    {
     "name": "stderr",
     "output_type": "stream",
     "text": [
      "410it [00:05, 61.37it/s]                                                                                               "
     ]
    },
    {
     "name": "stdout",
     "output_type": "stream",
     "text": [
      "Detected frames:  400\n"
     ]
    },
    {
     "name": "stderr",
     "output_type": "stream",
     "text": [
      "410it [00:05, 69.55it/s]\n"
     ]
    },
    {
     "name": "stdout",
     "output_type": "stream",
     "text": [
      "Saving results in F:\\videos\\Ar30motor\\2021_07_09...\n",
      "Saving csv poses!\n",
      "Starting to analyze %  F:\\videos\\Ar30motor\\2021_07_09\\Mirror129R.avi\n",
      "F:\\videos\\Ar30motor\\2021_07_09  already exists!\n",
      "Loading  F:\\videos\\Ar30motor\\2021_07_09\\Mirror129R.avi\n",
      "Duration of video [s]:  7.72 , recorded with  40.0 fps!\n",
      "Overall # of frames:  309  found with (before cropping) frame dimensions:  314 700\n",
      "Starting to extract posture\n"
     ]
    },
    {
     "name": "stderr",
     "output_type": "stream",
     "text": [
      "310it [00:04, 70.42it/s]                                                                                               "
     ]
    },
    {
     "name": "stdout",
     "output_type": "stream",
     "text": [
      "Detected frames:  309\n"
     ]
    },
    {
     "name": "stderr",
     "output_type": "stream",
     "text": [
      "310it [00:04, 65.86it/s]\n"
     ]
    },
    {
     "name": "stdout",
     "output_type": "stream",
     "text": [
      "Saving results in F:\\videos\\Ar30motor\\2021_07_09...\n",
      "Saving csv poses!\n",
      "Starting to analyze %  F:\\videos\\Ar30motor\\2021_07_09\\Mirror12R.avi\n",
      "F:\\videos\\Ar30motor\\2021_07_09  already exists!\n",
      "Loading  F:\\videos\\Ar30motor\\2021_07_09\\Mirror12R.avi\n",
      "Duration of video [s]:  10.0 , recorded with  40.0 fps!\n",
      "Overall # of frames:  400  found with (before cropping) frame dimensions:  314 700\n",
      "Starting to extract posture\n"
     ]
    },
    {
     "name": "stderr",
     "output_type": "stream",
     "text": [
      "410it [00:05, 61.47it/s]                                                                                               "
     ]
    },
    {
     "name": "stdout",
     "output_type": "stream",
     "text": [
      "Detected frames:  400\n"
     ]
    },
    {
     "name": "stderr",
     "output_type": "stream",
     "text": [
      "410it [00:05, 69.81it/s]\n"
     ]
    },
    {
     "name": "stdout",
     "output_type": "stream",
     "text": [
      "Saving results in F:\\videos\\Ar30motor\\2021_07_09...\n",
      "Saving csv poses!\n",
      "Starting to analyze %  F:\\videos\\Ar30motor\\2021_07_09\\Mirror130R.avi\n",
      "F:\\videos\\Ar30motor\\2021_07_09  already exists!\n",
      "Loading  F:\\videos\\Ar30motor\\2021_07_09\\Mirror130R.avi\n",
      "Duration of video [s]:  10.0 , recorded with  40.0 fps!\n",
      "Overall # of frames:  400  found with (before cropping) frame dimensions:  314 700\n",
      "Starting to extract posture\n"
     ]
    },
    {
     "name": "stderr",
     "output_type": "stream",
     "text": [
      "410it [00:05, 61.66it/s]                                                                                               "
     ]
    },
    {
     "name": "stdout",
     "output_type": "stream",
     "text": [
      "Detected frames:  400\n"
     ]
    },
    {
     "name": "stderr",
     "output_type": "stream",
     "text": [
      "410it [00:05, 69.65it/s]\n"
     ]
    },
    {
     "name": "stdout",
     "output_type": "stream",
     "text": [
      "Saving results in F:\\videos\\Ar30motor\\2021_07_09...\n",
      "Saving csv poses!\n",
      "Starting to analyze %  F:\\videos\\Ar30motor\\2021_07_09\\Mirror131R.avi\n",
      "F:\\videos\\Ar30motor\\2021_07_09  already exists!\n",
      "Loading  F:\\videos\\Ar30motor\\2021_07_09\\Mirror131R.avi\n",
      "Duration of video [s]:  10.0 , recorded with  40.0 fps!\n",
      "Overall # of frames:  400  found with (before cropping) frame dimensions:  314 700\n",
      "Starting to extract posture\n"
     ]
    },
    {
     "name": "stderr",
     "output_type": "stream",
     "text": [
      "410it [00:05, 61.77it/s]                                                                                               "
     ]
    },
    {
     "name": "stdout",
     "output_type": "stream",
     "text": [
      "Detected frames:  400\n"
     ]
    },
    {
     "name": "stderr",
     "output_type": "stream",
     "text": [
      "410it [00:05, 69.89it/s]\n"
     ]
    },
    {
     "name": "stdout",
     "output_type": "stream",
     "text": [
      "Saving results in F:\\videos\\Ar30motor\\2021_07_09...\n",
      "Saving csv poses!\n",
      "Starting to analyze %  F:\\videos\\Ar30motor\\2021_07_09\\Mirror132R.avi\n",
      "F:\\videos\\Ar30motor\\2021_07_09  already exists!\n",
      "Loading  F:\\videos\\Ar30motor\\2021_07_09\\Mirror132R.avi\n",
      "Duration of video [s]:  8.65 , recorded with  40.0 fps!\n",
      "Overall # of frames:  346  found with (before cropping) frame dimensions:  314 700\n",
      "Starting to extract posture\n"
     ]
    },
    {
     "name": "stderr",
     "output_type": "stream",
     "text": [
      "350it [00:05, 62.47it/s]                                                                                               "
     ]
    },
    {
     "name": "stdout",
     "output_type": "stream",
     "text": [
      "Detected frames:  346\n"
     ]
    },
    {
     "name": "stderr",
     "output_type": "stream",
     "text": [
      "350it [00:05, 59.42it/s]\n"
     ]
    },
    {
     "name": "stdout",
     "output_type": "stream",
     "text": [
      "Saving results in F:\\videos\\Ar30motor\\2021_07_09...\n",
      "Saving csv poses!\n",
      "Starting to analyze %  F:\\videos\\Ar30motor\\2021_07_09\\Mirror133R.avi\n",
      "F:\\videos\\Ar30motor\\2021_07_09  already exists!\n",
      "Loading  F:\\videos\\Ar30motor\\2021_07_09\\Mirror133R.avi\n",
      "Duration of video [s]:  10.0 , recorded with  40.0 fps!\n",
      "Overall # of frames:  400  found with (before cropping) frame dimensions:  314 700\n",
      "Starting to extract posture\n"
     ]
    },
    {
     "name": "stderr",
     "output_type": "stream",
     "text": [
      "410it [00:06, 60.34it/s]                                                                                               "
     ]
    },
    {
     "name": "stdout",
     "output_type": "stream",
     "text": [
      "Detected frames:  400\n"
     ]
    },
    {
     "name": "stderr",
     "output_type": "stream",
     "text": [
      "410it [00:06, 66.08it/s]\n"
     ]
    },
    {
     "name": "stdout",
     "output_type": "stream",
     "text": [
      "Saving results in F:\\videos\\Ar30motor\\2021_07_09...\n",
      "Saving csv poses!\n",
      "Starting to analyze %  F:\\videos\\Ar30motor\\2021_07_09\\Mirror134R.avi\n",
      "F:\\videos\\Ar30motor\\2021_07_09  already exists!\n",
      "Loading  F:\\videos\\Ar30motor\\2021_07_09\\Mirror134R.avi\n",
      "Duration of video [s]:  10.0 , recorded with  40.0 fps!\n",
      "Overall # of frames:  400  found with (before cropping) frame dimensions:  314 700\n",
      "Starting to extract posture\n"
     ]
    },
    {
     "name": "stderr",
     "output_type": "stream",
     "text": [
      "410it [00:05, 62.33it/s]                                                                                               "
     ]
    },
    {
     "name": "stdout",
     "output_type": "stream",
     "text": [
      "Detected frames:  400\n"
     ]
    },
    {
     "name": "stderr",
     "output_type": "stream",
     "text": [
      "410it [00:05, 69.91it/s]\n"
     ]
    },
    {
     "name": "stdout",
     "output_type": "stream",
     "text": [
      "Saving results in F:\\videos\\Ar30motor\\2021_07_09...\n",
      "Saving csv poses!\n",
      "Starting to analyze %  F:\\videos\\Ar30motor\\2021_07_09\\Mirror135R.avi\n",
      "F:\\videos\\Ar30motor\\2021_07_09  already exists!\n",
      "Loading  F:\\videos\\Ar30motor\\2021_07_09\\Mirror135R.avi\n",
      "Duration of video [s]:  10.0 , recorded with  40.0 fps!\n",
      "Overall # of frames:  400  found with (before cropping) frame dimensions:  314 700\n",
      "Starting to extract posture\n"
     ]
    },
    {
     "name": "stderr",
     "output_type": "stream",
     "text": [
      "410it [00:05, 62.49it/s]                                                                                               "
     ]
    },
    {
     "name": "stdout",
     "output_type": "stream",
     "text": [
      "Detected frames:  400\n"
     ]
    },
    {
     "name": "stderr",
     "output_type": "stream",
     "text": [
      "410it [00:05, 71.03it/s]\n"
     ]
    },
    {
     "name": "stdout",
     "output_type": "stream",
     "text": [
      "Saving results in F:\\videos\\Ar30motor\\2021_07_09...\n",
      "Saving csv poses!\n",
      "Starting to analyze %  F:\\videos\\Ar30motor\\2021_07_09\\Mirror136R.avi\n",
      "F:\\videos\\Ar30motor\\2021_07_09  already exists!\n",
      "Loading  F:\\videos\\Ar30motor\\2021_07_09\\Mirror136R.avi\n",
      "Duration of video [s]:  10.0 , recorded with  40.0 fps!\n",
      "Overall # of frames:  400  found with (before cropping) frame dimensions:  314 700\n",
      "Starting to extract posture\n"
     ]
    },
    {
     "name": "stderr",
     "output_type": "stream",
     "text": [
      "410it [00:05, 62.24it/s]                                                                                               "
     ]
    },
    {
     "name": "stdout",
     "output_type": "stream",
     "text": [
      "Detected frames:  400\n"
     ]
    },
    {
     "name": "stderr",
     "output_type": "stream",
     "text": [
      "410it [00:05, 70.18it/s]\n"
     ]
    },
    {
     "name": "stdout",
     "output_type": "stream",
     "text": [
      "Saving results in F:\\videos\\Ar30motor\\2021_07_09...\n",
      "Saving csv poses!\n",
      "Starting to analyze %  F:\\videos\\Ar30motor\\2021_07_09\\Mirror137R.avi\n",
      "F:\\videos\\Ar30motor\\2021_07_09  already exists!\n",
      "Loading  F:\\videos\\Ar30motor\\2021_07_09\\Mirror137R.avi\n",
      "Duration of video [s]:  10.0 , recorded with  40.0 fps!\n",
      "Overall # of frames:  400  found with (before cropping) frame dimensions:  314 700\n",
      "Starting to extract posture\n"
     ]
    },
    {
     "name": "stderr",
     "output_type": "stream",
     "text": [
      "410it [00:06, 59.56it/s]                                                                                               "
     ]
    },
    {
     "name": "stdout",
     "output_type": "stream",
     "text": [
      "Detected frames:  400\n"
     ]
    },
    {
     "name": "stderr",
     "output_type": "stream",
     "text": [
      "410it [00:06, 65.91it/s]\n"
     ]
    },
    {
     "name": "stdout",
     "output_type": "stream",
     "text": [
      "Saving results in F:\\videos\\Ar30motor\\2021_07_09...\n",
      "Saving csv poses!\n",
      "Starting to analyze %  F:\\videos\\Ar30motor\\2021_07_09\\Mirror138R.avi\n",
      "F:\\videos\\Ar30motor\\2021_07_09  already exists!\n",
      "Loading  F:\\videos\\Ar30motor\\2021_07_09\\Mirror138R.avi\n",
      "Duration of video [s]:  10.0 , recorded with  40.0 fps!\n",
      "Overall # of frames:  400  found with (before cropping) frame dimensions:  314 700\n",
      "Starting to extract posture\n"
     ]
    },
    {
     "name": "stderr",
     "output_type": "stream",
     "text": [
      "410it [00:05, 62.09it/s]                                                                                               "
     ]
    },
    {
     "name": "stdout",
     "output_type": "stream",
     "text": [
      "Detected frames:  400\n"
     ]
    },
    {
     "name": "stderr",
     "output_type": "stream",
     "text": [
      "410it [00:05, 69.47it/s]\n"
     ]
    },
    {
     "name": "stdout",
     "output_type": "stream",
     "text": [
      "Saving results in F:\\videos\\Ar30motor\\2021_07_09...\n",
      "Saving csv poses!\n",
      "Starting to analyze %  F:\\videos\\Ar30motor\\2021_07_09\\Mirror139R.avi\n",
      "F:\\videos\\Ar30motor\\2021_07_09  already exists!\n",
      "Loading  F:\\videos\\Ar30motor\\2021_07_09\\Mirror139R.avi\n",
      "Duration of video [s]:  10.0 , recorded with  40.0 fps!\n",
      "Overall # of frames:  400  found with (before cropping) frame dimensions:  314 700\n",
      "Starting to extract posture\n"
     ]
    },
    {
     "name": "stderr",
     "output_type": "stream",
     "text": [
      "410it [00:05, 62.13it/s]                                                                                               "
     ]
    },
    {
     "name": "stdout",
     "output_type": "stream",
     "text": [
      "Detected frames:  400\n"
     ]
    },
    {
     "name": "stderr",
     "output_type": "stream",
     "text": [
      "410it [00:05, 70.44it/s]\n"
     ]
    },
    {
     "name": "stdout",
     "output_type": "stream",
     "text": [
      "Saving results in F:\\videos\\Ar30motor\\2021_07_09...\n",
      "Saving csv poses!\n",
      "Starting to analyze %  F:\\videos\\Ar30motor\\2021_07_09\\Mirror13R.avi\n",
      "F:\\videos\\Ar30motor\\2021_07_09  already exists!\n",
      "Loading  F:\\videos\\Ar30motor\\2021_07_09\\Mirror13R.avi\n",
      "Duration of video [s]:  10.0 , recorded with  40.0 fps!\n",
      "Overall # of frames:  400  found with (before cropping) frame dimensions:  314 700\n",
      "Starting to extract posture\n"
     ]
    },
    {
     "name": "stderr",
     "output_type": "stream",
     "text": [
      "410it [00:05, 60.84it/s]                                                                                               "
     ]
    },
    {
     "name": "stdout",
     "output_type": "stream",
     "text": [
      "Detected frames:  400\n"
     ]
    },
    {
     "name": "stderr",
     "output_type": "stream",
     "text": [
      "410it [00:05, 69.26it/s]\n"
     ]
    },
    {
     "name": "stdout",
     "output_type": "stream",
     "text": [
      "Saving results in F:\\videos\\Ar30motor\\2021_07_09...\n",
      "Saving csv poses!\n",
      "Starting to analyze %  F:\\videos\\Ar30motor\\2021_07_09\\Mirror140R.avi\n",
      "F:\\videos\\Ar30motor\\2021_07_09  already exists!\n",
      "Loading  F:\\videos\\Ar30motor\\2021_07_09\\Mirror140R.avi\n",
      "Duration of video [s]:  10.0 , recorded with  40.0 fps!\n",
      "Overall # of frames:  400  found with (before cropping) frame dimensions:  314 700\n",
      "Starting to extract posture\n"
     ]
    },
    {
     "name": "stderr",
     "output_type": "stream",
     "text": [
      "410it [00:05, 61.65it/s]                                                                                               "
     ]
    },
    {
     "name": "stdout",
     "output_type": "stream",
     "text": [
      "Detected frames:  400\n"
     ]
    },
    {
     "name": "stderr",
     "output_type": "stream",
     "text": [
      "410it [00:05, 69.69it/s]\n"
     ]
    },
    {
     "name": "stdout",
     "output_type": "stream",
     "text": [
      "Saving results in F:\\videos\\Ar30motor\\2021_07_09...\n",
      "Saving csv poses!\n",
      "Starting to analyze %  F:\\videos\\Ar30motor\\2021_07_09\\Mirror141R.avi\n",
      "F:\\videos\\Ar30motor\\2021_07_09  already exists!\n",
      "Loading  F:\\videos\\Ar30motor\\2021_07_09\\Mirror141R.avi\n",
      "Duration of video [s]:  10.0 , recorded with  40.0 fps!\n",
      "Overall # of frames:  400  found with (before cropping) frame dimensions:  314 700\n",
      "Starting to extract posture\n"
     ]
    },
    {
     "name": "stderr",
     "output_type": "stream",
     "text": [
      "410it [00:05, 59.99it/s]                                                                                               "
     ]
    },
    {
     "name": "stdout",
     "output_type": "stream",
     "text": [
      "Detected frames:  400\n"
     ]
    },
    {
     "name": "stderr",
     "output_type": "stream",
     "text": [
      "410it [00:05, 69.08it/s]\n"
     ]
    },
    {
     "name": "stdout",
     "output_type": "stream",
     "text": [
      "Saving results in F:\\videos\\Ar30motor\\2021_07_09...\n",
      "Saving csv poses!\n",
      "Starting to analyze %  F:\\videos\\Ar30motor\\2021_07_09\\Mirror142R.avi\n",
      "F:\\videos\\Ar30motor\\2021_07_09  already exists!\n",
      "Loading  F:\\videos\\Ar30motor\\2021_07_09\\Mirror142R.avi\n",
      "Duration of video [s]:  10.0 , recorded with  40.0 fps!\n",
      "Overall # of frames:  400  found with (before cropping) frame dimensions:  314 700\n",
      "Starting to extract posture\n"
     ]
    },
    {
     "name": "stderr",
     "output_type": "stream",
     "text": [
      "410it [00:05, 60.72it/s]                                                                                               "
     ]
    },
    {
     "name": "stdout",
     "output_type": "stream",
     "text": [
      "Detected frames:  400\n"
     ]
    },
    {
     "name": "stderr",
     "output_type": "stream",
     "text": [
      "410it [00:05, 68.89it/s]\n"
     ]
    },
    {
     "name": "stdout",
     "output_type": "stream",
     "text": [
      "Saving results in F:\\videos\\Ar30motor\\2021_07_09...\n",
      "Saving csv poses!\n",
      "Starting to analyze %  F:\\videos\\Ar30motor\\2021_07_09\\Mirror143R.avi\n",
      "F:\\videos\\Ar30motor\\2021_07_09  already exists!\n",
      "Loading  F:\\videos\\Ar30motor\\2021_07_09\\Mirror143R.avi\n",
      "Duration of video [s]:  10.0 , recorded with  40.0 fps!\n",
      "Overall # of frames:  400  found with (before cropping) frame dimensions:  314 700\n",
      "Starting to extract posture\n"
     ]
    },
    {
     "name": "stderr",
     "output_type": "stream",
     "text": [
      "410it [00:06, 54.68it/s]                                                                                               "
     ]
    },
    {
     "name": "stdout",
     "output_type": "stream",
     "text": [
      "Detected frames:  400\n"
     ]
    },
    {
     "name": "stderr",
     "output_type": "stream",
     "text": [
      "410it [00:06, 63.66it/s]\n"
     ]
    },
    {
     "name": "stdout",
     "output_type": "stream",
     "text": [
      "Saving results in F:\\videos\\Ar30motor\\2021_07_09...\n",
      "Saving csv poses!\n",
      "Starting to analyze %  F:\\videos\\Ar30motor\\2021_07_09\\Mirror144R.avi\n",
      "F:\\videos\\Ar30motor\\2021_07_09  already exists!\n",
      "Loading  F:\\videos\\Ar30motor\\2021_07_09\\Mirror144R.avi\n",
      "Duration of video [s]:  10.0 , recorded with  40.0 fps!\n",
      "Overall # of frames:  400  found with (before cropping) frame dimensions:  314 700\n",
      "Starting to extract posture\n"
     ]
    },
    {
     "name": "stderr",
     "output_type": "stream",
     "text": [
      "410it [00:06, 59.67it/s]                                                                                               "
     ]
    },
    {
     "name": "stdout",
     "output_type": "stream",
     "text": [
      "Detected frames:  400\n"
     ]
    },
    {
     "name": "stderr",
     "output_type": "stream",
     "text": [
      "410it [00:06, 65.70it/s]\n"
     ]
    },
    {
     "name": "stdout",
     "output_type": "stream",
     "text": [
      "Saving results in F:\\videos\\Ar30motor\\2021_07_09...\n",
      "Saving csv poses!\n",
      "Starting to analyze %  F:\\videos\\Ar30motor\\2021_07_09\\Mirror145R.avi\n",
      "F:\\videos\\Ar30motor\\2021_07_09  already exists!\n",
      "Loading  F:\\videos\\Ar30motor\\2021_07_09\\Mirror145R.avi\n",
      "Duration of video [s]:  10.0 , recorded with  40.0 fps!\n",
      "Overall # of frames:  400  found with (before cropping) frame dimensions:  314 700\n",
      "Starting to extract posture\n"
     ]
    },
    {
     "name": "stderr",
     "output_type": "stream",
     "text": [
      "410it [00:06, 60.23it/s]                                                                                               "
     ]
    },
    {
     "name": "stdout",
     "output_type": "stream",
     "text": [
      "Detected frames:  400\n"
     ]
    },
    {
     "name": "stderr",
     "output_type": "stream",
     "text": [
      "410it [00:06, 68.15it/s]\n"
     ]
    },
    {
     "name": "stdout",
     "output_type": "stream",
     "text": [
      "Saving results in F:\\videos\\Ar30motor\\2021_07_09...\n",
      "Saving csv poses!\n",
      "Starting to analyze %  F:\\videos\\Ar30motor\\2021_07_09\\Mirror146R.avi\n",
      "F:\\videos\\Ar30motor\\2021_07_09  already exists!\n",
      "Loading  F:\\videos\\Ar30motor\\2021_07_09\\Mirror146R.avi\n",
      "Duration of video [s]:  10.0 , recorded with  40.0 fps!\n",
      "Overall # of frames:  400  found with (before cropping) frame dimensions:  314 700\n",
      "Starting to extract posture\n"
     ]
    },
    {
     "name": "stderr",
     "output_type": "stream",
     "text": [
      "410it [00:06, 55.41it/s]                                                                                               "
     ]
    },
    {
     "name": "stdout",
     "output_type": "stream",
     "text": [
      "Detected frames:  400\n"
     ]
    },
    {
     "name": "stderr",
     "output_type": "stream",
     "text": [
      "410it [00:06, 65.51it/s]\n"
     ]
    },
    {
     "name": "stdout",
     "output_type": "stream",
     "text": [
      "Saving results in F:\\videos\\Ar30motor\\2021_07_09...\n",
      "Saving csv poses!\n",
      "Starting to analyze %  F:\\videos\\Ar30motor\\2021_07_09\\Mirror147R.avi\n",
      "F:\\videos\\Ar30motor\\2021_07_09  already exists!\n",
      "Loading  F:\\videos\\Ar30motor\\2021_07_09\\Mirror147R.avi\n",
      "Duration of video [s]:  10.0 , recorded with  40.0 fps!\n",
      "Overall # of frames:  400  found with (before cropping) frame dimensions:  314 700\n",
      "Starting to extract posture\n"
     ]
    },
    {
     "name": "stderr",
     "output_type": "stream",
     "text": [
      "410it [00:06, 59.55it/s]                                                                                               "
     ]
    },
    {
     "name": "stdout",
     "output_type": "stream",
     "text": [
      "Detected frames:  400\n"
     ]
    },
    {
     "name": "stderr",
     "output_type": "stream",
     "text": [
      "410it [00:06, 65.88it/s]\n"
     ]
    },
    {
     "name": "stdout",
     "output_type": "stream",
     "text": [
      "Saving results in F:\\videos\\Ar30motor\\2021_07_09...\n",
      "Saving csv poses!\n",
      "Starting to analyze %  F:\\videos\\Ar30motor\\2021_07_09\\Mirror148R.avi\n",
      "F:\\videos\\Ar30motor\\2021_07_09  already exists!\n",
      "Loading  F:\\videos\\Ar30motor\\2021_07_09\\Mirror148R.avi\n",
      "Duration of video [s]:  10.0 , recorded with  40.0 fps!\n",
      "Overall # of frames:  400  found with (before cropping) frame dimensions:  314 700\n",
      "Starting to extract posture\n"
     ]
    },
    {
     "name": "stderr",
     "output_type": "stream",
     "text": [
      "410it [00:05, 60.11it/s]                                                                                               "
     ]
    },
    {
     "name": "stdout",
     "output_type": "stream",
     "text": [
      "Detected frames:  400\n"
     ]
    },
    {
     "name": "stderr",
     "output_type": "stream",
     "text": [
      "410it [00:05, 68.49it/s]\n"
     ]
    },
    {
     "name": "stdout",
     "output_type": "stream",
     "text": [
      "Saving results in F:\\videos\\Ar30motor\\2021_07_09...\n",
      "Saving csv poses!\n",
      "Starting to analyze %  F:\\videos\\Ar30motor\\2021_07_09\\Mirror149R.avi\n",
      "F:\\videos\\Ar30motor\\2021_07_09  already exists!\n",
      "Loading  F:\\videos\\Ar30motor\\2021_07_09\\Mirror149R.avi\n",
      "Duration of video [s]:  10.0 , recorded with  40.0 fps!\n",
      "Overall # of frames:  400  found with (before cropping) frame dimensions:  314 700\n",
      "Starting to extract posture\n"
     ]
    },
    {
     "name": "stderr",
     "output_type": "stream",
     "text": [
      "410it [00:07, 29.42it/s]                                                                                               "
     ]
    },
    {
     "name": "stdout",
     "output_type": "stream",
     "text": [
      "Detected frames:  400\n"
     ]
    },
    {
     "name": "stderr",
     "output_type": "stream",
     "text": [
      "410it [00:07, 52.33it/s]\n"
     ]
    },
    {
     "name": "stdout",
     "output_type": "stream",
     "text": [
      "Saving results in F:\\videos\\Ar30motor\\2021_07_09...\n",
      "Saving csv poses!\n",
      "Starting to analyze %  F:\\videos\\Ar30motor\\2021_07_09\\Mirror14R.avi\n",
      "F:\\videos\\Ar30motor\\2021_07_09  already exists!\n",
      "Loading  F:\\videos\\Ar30motor\\2021_07_09\\Mirror14R.avi\n",
      "Duration of video [s]:  6.35 , recorded with  40.0 fps!\n",
      "Overall # of frames:  254  found with (before cropping) frame dimensions:  314 700\n",
      "Starting to extract posture\n"
     ]
    },
    {
     "name": "stderr",
     "output_type": "stream",
     "text": [
      "260it [00:04, 56.52it/s]                                                                                               "
     ]
    },
    {
     "name": "stdout",
     "output_type": "stream",
     "text": [
      "Detected frames:  254\n"
     ]
    },
    {
     "name": "stderr",
     "output_type": "stream",
     "text": [
      "260it [00:04, 54.25it/s]\n"
     ]
    },
    {
     "name": "stdout",
     "output_type": "stream",
     "text": [
      "Saving results in F:\\videos\\Ar30motor\\2021_07_09...\n",
      "Saving csv poses!\n",
      "Starting to analyze %  F:\\videos\\Ar30motor\\2021_07_09\\Mirror150R.avi\n",
      "F:\\videos\\Ar30motor\\2021_07_09  already exists!\n",
      "Loading  F:\\videos\\Ar30motor\\2021_07_09\\Mirror150R.avi\n",
      "Duration of video [s]:  10.0 , recorded with  40.0 fps!\n",
      "Overall # of frames:  400  found with (before cropping) frame dimensions:  314 700\n",
      "Starting to extract posture\n"
     ]
    },
    {
     "name": "stderr",
     "output_type": "stream",
     "text": [
      "410it [00:06, 59.39it/s]                                                                                               "
     ]
    },
    {
     "name": "stdout",
     "output_type": "stream",
     "text": [
      "Detected frames:  400\n"
     ]
    },
    {
     "name": "stderr",
     "output_type": "stream",
     "text": [
      "410it [00:06, 64.78it/s]\n"
     ]
    },
    {
     "name": "stdout",
     "output_type": "stream",
     "text": [
      "Saving results in F:\\videos\\Ar30motor\\2021_07_09...\n",
      "Saving csv poses!\n",
      "Starting to analyze %  F:\\videos\\Ar30motor\\2021_07_09\\Mirror151R.avi\n",
      "F:\\videos\\Ar30motor\\2021_07_09  already exists!\n",
      "Loading  F:\\videos\\Ar30motor\\2021_07_09\\Mirror151R.avi\n",
      "Duration of video [s]:  10.0 , recorded with  40.0 fps!\n",
      "Overall # of frames:  400  found with (before cropping) frame dimensions:  314 700\n",
      "Starting to extract posture\n"
     ]
    },
    {
     "name": "stderr",
     "output_type": "stream",
     "text": [
      "410it [00:05, 61.59it/s]                                                                                               "
     ]
    },
    {
     "name": "stdout",
     "output_type": "stream",
     "text": [
      "Detected frames:  400\n"
     ]
    },
    {
     "name": "stderr",
     "output_type": "stream",
     "text": [
      "410it [00:05, 68.86it/s]\n"
     ]
    },
    {
     "name": "stdout",
     "output_type": "stream",
     "text": [
      "Saving results in F:\\videos\\Ar30motor\\2021_07_09...\n",
      "Saving csv poses!\n",
      "Starting to analyze %  F:\\videos\\Ar30motor\\2021_07_09\\Mirror152R.avi\n",
      "F:\\videos\\Ar30motor\\2021_07_09  already exists!\n",
      "Loading  F:\\videos\\Ar30motor\\2021_07_09\\Mirror152R.avi\n",
      "Duration of video [s]:  10.0 , recorded with  40.0 fps!\n",
      "Overall # of frames:  400  found with (before cropping) frame dimensions:  314 700\n",
      "Starting to extract posture\n"
     ]
    },
    {
     "name": "stderr",
     "output_type": "stream",
     "text": [
      "410it [00:05, 62.53it/s]                                                                                               "
     ]
    },
    {
     "name": "stdout",
     "output_type": "stream",
     "text": [
      "Detected frames:  400\n"
     ]
    },
    {
     "name": "stderr",
     "output_type": "stream",
     "text": [
      "410it [00:05, 70.90it/s]\n"
     ]
    },
    {
     "name": "stdout",
     "output_type": "stream",
     "text": [
      "Saving results in F:\\videos\\Ar30motor\\2021_07_09...\n",
      "Saving csv poses!\n",
      "Starting to analyze %  F:\\videos\\Ar30motor\\2021_07_09\\Mirror153R.avi\n",
      "F:\\videos\\Ar30motor\\2021_07_09  already exists!\n",
      "Loading  F:\\videos\\Ar30motor\\2021_07_09\\Mirror153R.avi\n",
      "Duration of video [s]:  10.0 , recorded with  40.0 fps!\n",
      "Overall # of frames:  400  found with (before cropping) frame dimensions:  314 700\n",
      "Starting to extract posture\n"
     ]
    },
    {
     "name": "stderr",
     "output_type": "stream",
     "text": [
      "410it [00:05, 62.06it/s]                                                                                               "
     ]
    },
    {
     "name": "stdout",
     "output_type": "stream",
     "text": [
      "Detected frames:  400\n"
     ]
    },
    {
     "name": "stderr",
     "output_type": "stream",
     "text": [
      "410it [00:05, 70.31it/s]\n"
     ]
    },
    {
     "name": "stdout",
     "output_type": "stream",
     "text": [
      "Saving results in F:\\videos\\Ar30motor\\2021_07_09...\n",
      "Saving csv poses!\n",
      "Starting to analyze %  F:\\videos\\Ar30motor\\2021_07_09\\Mirror154R.avi\n",
      "F:\\videos\\Ar30motor\\2021_07_09  already exists!\n",
      "Loading  F:\\videos\\Ar30motor\\2021_07_09\\Mirror154R.avi\n",
      "Duration of video [s]:  10.0 , recorded with  40.0 fps!\n",
      "Overall # of frames:  400  found with (before cropping) frame dimensions:  314 700\n",
      "Starting to extract posture\n"
     ]
    },
    {
     "name": "stderr",
     "output_type": "stream",
     "text": [
      "410it [00:06, 60.03it/s]                                                                                               "
     ]
    },
    {
     "name": "stdout",
     "output_type": "stream",
     "text": [
      "Detected frames:  400\n"
     ]
    },
    {
     "name": "stderr",
     "output_type": "stream",
     "text": [
      "410it [00:06, 66.47it/s]\n"
     ]
    },
    {
     "name": "stdout",
     "output_type": "stream",
     "text": [
      "Saving results in F:\\videos\\Ar30motor\\2021_07_09...\n",
      "Saving csv poses!\n",
      "Starting to analyze %  F:\\videos\\Ar30motor\\2021_07_09\\Mirror155R.avi\n",
      "F:\\videos\\Ar30motor\\2021_07_09  already exists!\n",
      "Loading  F:\\videos\\Ar30motor\\2021_07_09\\Mirror155R.avi\n",
      "Duration of video [s]:  10.0 , recorded with  40.0 fps!\n",
      "Overall # of frames:  400  found with (before cropping) frame dimensions:  314 700\n",
      "Starting to extract posture\n"
     ]
    },
    {
     "name": "stderr",
     "output_type": "stream",
     "text": [
      "410it [00:05, 61.51it/s]                                                                                               "
     ]
    },
    {
     "name": "stdout",
     "output_type": "stream",
     "text": [
      "Detected frames:  400\n"
     ]
    },
    {
     "name": "stderr",
     "output_type": "stream",
     "text": [
      "410it [00:05, 69.50it/s]\n"
     ]
    },
    {
     "name": "stdout",
     "output_type": "stream",
     "text": [
      "Saving results in F:\\videos\\Ar30motor\\2021_07_09...\n",
      "Saving csv poses!\n",
      "Starting to analyze %  F:\\videos\\Ar30motor\\2021_07_09\\Mirror156R.avi\n",
      "F:\\videos\\Ar30motor\\2021_07_09  already exists!\n",
      "Loading  F:\\videos\\Ar30motor\\2021_07_09\\Mirror156R.avi\n",
      "Duration of video [s]:  10.0 , recorded with  40.0 fps!\n",
      "Overall # of frames:  400  found with (before cropping) frame dimensions:  314 700\n",
      "Starting to extract posture\n"
     ]
    },
    {
     "name": "stderr",
     "output_type": "stream",
     "text": [
      "410it [00:05, 61.14it/s]                                                                                               "
     ]
    },
    {
     "name": "stdout",
     "output_type": "stream",
     "text": [
      "Detected frames:  400\n"
     ]
    },
    {
     "name": "stderr",
     "output_type": "stream",
     "text": [
      "410it [00:05, 69.64it/s]\n"
     ]
    },
    {
     "name": "stdout",
     "output_type": "stream",
     "text": [
      "Saving results in F:\\videos\\Ar30motor\\2021_07_09...\n",
      "Saving csv poses!\n",
      "Starting to analyze %  F:\\videos\\Ar30motor\\2021_07_09\\Mirror157R.avi\n",
      "F:\\videos\\Ar30motor\\2021_07_09  already exists!\n",
      "Loading  F:\\videos\\Ar30motor\\2021_07_09\\Mirror157R.avi\n",
      "Duration of video [s]:  10.0 , recorded with  40.0 fps!\n",
      "Overall # of frames:  400  found with (before cropping) frame dimensions:  314 700\n",
      "Starting to extract posture\n"
     ]
    },
    {
     "name": "stderr",
     "output_type": "stream",
     "text": [
      "410it [00:08, 47.16it/s]                                                                                               "
     ]
    },
    {
     "name": "stdout",
     "output_type": "stream",
     "text": [
      "Detected frames:  400\n"
     ]
    },
    {
     "name": "stderr",
     "output_type": "stream",
     "text": [
      "410it [00:08, 49.20it/s]\n"
     ]
    },
    {
     "name": "stdout",
     "output_type": "stream",
     "text": [
      "Saving results in F:\\videos\\Ar30motor\\2021_07_09...\n",
      "Saving csv poses!\n",
      "Starting to analyze %  F:\\videos\\Ar30motor\\2021_07_09\\Mirror158R.avi\n",
      "F:\\videos\\Ar30motor\\2021_07_09  already exists!\n",
      "Loading  F:\\videos\\Ar30motor\\2021_07_09\\Mirror158R.avi\n",
      "Duration of video [s]:  10.0 , recorded with  40.0 fps!\n",
      "Overall # of frames:  400  found with (before cropping) frame dimensions:  314 700\n",
      "Starting to extract posture\n"
     ]
    },
    {
     "name": "stderr",
     "output_type": "stream",
     "text": [
      "410it [00:06, 57.79it/s]                                                                                               "
     ]
    },
    {
     "name": "stdout",
     "output_type": "stream",
     "text": [
      "Detected frames:  400\n"
     ]
    },
    {
     "name": "stderr",
     "output_type": "stream",
     "text": [
      "410it [00:06, 62.00it/s]\n"
     ]
    },
    {
     "name": "stdout",
     "output_type": "stream",
     "text": [
      "Saving results in F:\\videos\\Ar30motor\\2021_07_09...\n",
      "Saving csv poses!\n",
      "Starting to analyze %  F:\\videos\\Ar30motor\\2021_07_09\\Mirror159R.avi\n",
      "F:\\videos\\Ar30motor\\2021_07_09  already exists!\n",
      "Loading  F:\\videos\\Ar30motor\\2021_07_09\\Mirror159R.avi\n",
      "Duration of video [s]:  7.25 , recorded with  40.0 fps!\n",
      "Overall # of frames:  290  found with (before cropping) frame dimensions:  314 700\n",
      "Starting to extract posture\n"
     ]
    },
    {
     "name": "stderr",
     "output_type": "stream",
     "text": [
      "300it [00:04, 65.54it/s]                                                                                               "
     ]
    },
    {
     "name": "stdout",
     "output_type": "stream",
     "text": [
      "Detected frames:  290\n"
     ]
    },
    {
     "name": "stderr",
     "output_type": "stream",
     "text": [
      "300it [00:04, 66.82it/s]\n"
     ]
    },
    {
     "name": "stdout",
     "output_type": "stream",
     "text": [
      "Saving results in F:\\videos\\Ar30motor\\2021_07_09...\n",
      "Saving csv poses!\n",
      "Starting to analyze %  F:\\videos\\Ar30motor\\2021_07_09\\Mirror15R.avi\n",
      "F:\\videos\\Ar30motor\\2021_07_09  already exists!\n",
      "Loading  F:\\videos\\Ar30motor\\2021_07_09\\Mirror15R.avi\n",
      "Duration of video [s]:  10.0 , recorded with  40.0 fps!\n",
      "Overall # of frames:  400  found with (before cropping) frame dimensions:  314 700\n",
      "Starting to extract posture\n"
     ]
    },
    {
     "name": "stderr",
     "output_type": "stream",
     "text": [
      "410it [00:05, 62.61it/s]                                                                                               "
     ]
    },
    {
     "name": "stdout",
     "output_type": "stream",
     "text": [
      "Detected frames:  400\n"
     ]
    },
    {
     "name": "stderr",
     "output_type": "stream",
     "text": [
      "410it [00:05, 69.87it/s]\n"
     ]
    },
    {
     "name": "stdout",
     "output_type": "stream",
     "text": [
      "Saving results in F:\\videos\\Ar30motor\\2021_07_09...\n",
      "Saving csv poses!\n",
      "Starting to analyze %  F:\\videos\\Ar30motor\\2021_07_09\\Mirror160R.avi\n",
      "F:\\videos\\Ar30motor\\2021_07_09  already exists!\n",
      "Loading  F:\\videos\\Ar30motor\\2021_07_09\\Mirror160R.avi\n",
      "Duration of video [s]:  10.0 , recorded with  40.0 fps!\n",
      "Overall # of frames:  400  found with (before cropping) frame dimensions:  314 700\n",
      "Starting to extract posture\n"
     ]
    },
    {
     "name": "stderr",
     "output_type": "stream",
     "text": [
      "410it [00:05, 62.33it/s]                                                                                               "
     ]
    },
    {
     "name": "stdout",
     "output_type": "stream",
     "text": [
      "Detected frames:  400\n"
     ]
    },
    {
     "name": "stderr",
     "output_type": "stream",
     "text": [
      "410it [00:05, 70.89it/s]\n"
     ]
    },
    {
     "name": "stdout",
     "output_type": "stream",
     "text": [
      "Saving results in F:\\videos\\Ar30motor\\2021_07_09...\n",
      "Saving csv poses!\n",
      "Starting to analyze %  F:\\videos\\Ar30motor\\2021_07_09\\Mirror161R.avi\n",
      "F:\\videos\\Ar30motor\\2021_07_09  already exists!\n",
      "Loading  F:\\videos\\Ar30motor\\2021_07_09\\Mirror161R.avi\n",
      "Duration of video [s]:  10.0 , recorded with  40.0 fps!\n",
      "Overall # of frames:  400  found with (before cropping) frame dimensions:  314 700\n",
      "Starting to extract posture\n"
     ]
    },
    {
     "name": "stderr",
     "output_type": "stream",
     "text": [
      "410it [00:05, 61.91it/s]                                                                                               "
     ]
    },
    {
     "name": "stdout",
     "output_type": "stream",
     "text": [
      "Detected frames:  400\n"
     ]
    },
    {
     "name": "stderr",
     "output_type": "stream",
     "text": [
      "410it [00:05, 69.93it/s]\n"
     ]
    },
    {
     "name": "stdout",
     "output_type": "stream",
     "text": [
      "Saving results in F:\\videos\\Ar30motor\\2021_07_09...\n",
      "Saving csv poses!\n",
      "Starting to analyze %  F:\\videos\\Ar30motor\\2021_07_09\\Mirror162R.avi\n",
      "F:\\videos\\Ar30motor\\2021_07_09  already exists!\n",
      "Loading  F:\\videos\\Ar30motor\\2021_07_09\\Mirror162R.avi\n",
      "Duration of video [s]:  10.0 , recorded with  40.0 fps!\n",
      "Overall # of frames:  400  found with (before cropping) frame dimensions:  314 700\n",
      "Starting to extract posture\n"
     ]
    },
    {
     "name": "stderr",
     "output_type": "stream",
     "text": [
      "410it [00:06, 48.20it/s]                                                                                               "
     ]
    },
    {
     "name": "stdout",
     "output_type": "stream",
     "text": [
      "Detected frames:  400\n"
     ]
    },
    {
     "name": "stderr",
     "output_type": "stream",
     "text": [
      "410it [00:06, 67.70it/s]\n"
     ]
    },
    {
     "name": "stdout",
     "output_type": "stream",
     "text": [
      "Saving results in F:\\videos\\Ar30motor\\2021_07_09...\n",
      "Saving csv poses!\n",
      "Starting to analyze %  F:\\videos\\Ar30motor\\2021_07_09\\Mirror163R.avi\n",
      "F:\\videos\\Ar30motor\\2021_07_09  already exists!\n",
      "Loading  F:\\videos\\Ar30motor\\2021_07_09\\Mirror163R.avi\n",
      "Duration of video [s]:  10.0 , recorded with  40.0 fps!\n",
      "Overall # of frames:  400  found with (before cropping) frame dimensions:  314 700\n",
      "Starting to extract posture\n"
     ]
    },
    {
     "name": "stderr",
     "output_type": "stream",
     "text": [
      "410it [00:06, 57.71it/s]                                                                                               "
     ]
    },
    {
     "name": "stdout",
     "output_type": "stream",
     "text": [
      "Detected frames:  400\n"
     ]
    },
    {
     "name": "stderr",
     "output_type": "stream",
     "text": [
      "410it [00:06, 61.00it/s]\n"
     ]
    },
    {
     "name": "stdout",
     "output_type": "stream",
     "text": [
      "Saving results in F:\\videos\\Ar30motor\\2021_07_09...\n",
      "Saving csv poses!\n",
      "Starting to analyze %  F:\\videos\\Ar30motor\\2021_07_09\\Mirror164R.avi\n",
      "F:\\videos\\Ar30motor\\2021_07_09  already exists!\n",
      "Loading  F:\\videos\\Ar30motor\\2021_07_09\\Mirror164R.avi\n",
      "Duration of video [s]:  5.17 , recorded with  40.0 fps!\n",
      "Overall # of frames:  207  found with (before cropping) frame dimensions:  314 700\n",
      "Starting to extract posture\n"
     ]
    },
    {
     "name": "stderr",
     "output_type": "stream",
     "text": [
      "210it [00:03, 58.35it/s]                                                                                               "
     ]
    },
    {
     "name": "stdout",
     "output_type": "stream",
     "text": [
      "Detected frames:  207\n"
     ]
    },
    {
     "name": "stderr",
     "output_type": "stream",
     "text": [
      "210it [00:03, 65.70it/s]\n"
     ]
    },
    {
     "name": "stdout",
     "output_type": "stream",
     "text": [
      "Saving results in F:\\videos\\Ar30motor\\2021_07_09...\n",
      "Saving csv poses!\n",
      "Starting to analyze %  F:\\videos\\Ar30motor\\2021_07_09\\Mirror165R.avi\n",
      "F:\\videos\\Ar30motor\\2021_07_09  already exists!\n",
      "Loading  F:\\videos\\Ar30motor\\2021_07_09\\Mirror165R.avi\n",
      "Duration of video [s]:  4.4 , recorded with  40.0 fps!\n",
      "Overall # of frames:  176  found with (before cropping) frame dimensions:  314 700\n",
      "Starting to extract posture\n"
     ]
    },
    {
     "name": "stderr",
     "output_type": "stream",
     "text": [
      "180it [00:02, 66.24it/s]                                                                                               "
     ]
    },
    {
     "name": "stdout",
     "output_type": "stream",
     "text": [
      "Detected frames:  176\n"
     ]
    },
    {
     "name": "stderr",
     "output_type": "stream",
     "text": [
      "180it [00:02, 68.43it/s]\n"
     ]
    },
    {
     "name": "stdout",
     "output_type": "stream",
     "text": [
      "Saving results in F:\\videos\\Ar30motor\\2021_07_09...\n",
      "Saving csv poses!\n",
      "Starting to analyze %  F:\\videos\\Ar30motor\\2021_07_09\\Mirror166R.avi\n",
      "F:\\videos\\Ar30motor\\2021_07_09  already exists!\n",
      "Loading  F:\\videos\\Ar30motor\\2021_07_09\\Mirror166R.avi\n",
      "Duration of video [s]:  7.8 , recorded with  40.0 fps!\n",
      "Overall # of frames:  312  found with (before cropping) frame dimensions:  314 700\n",
      "Starting to extract posture\n"
     ]
    },
    {
     "name": "stderr",
     "output_type": "stream",
     "text": [
      "320it [00:04, 75.15it/s]                                                                                               "
     ]
    },
    {
     "name": "stdout",
     "output_type": "stream",
     "text": [
      "Detected frames:  312\n"
     ]
    },
    {
     "name": "stderr",
     "output_type": "stream",
     "text": [
      "320it [00:04, 69.98it/s]\n"
     ]
    },
    {
     "name": "stdout",
     "output_type": "stream",
     "text": [
      "Saving results in F:\\videos\\Ar30motor\\2021_07_09...\n",
      "Saving csv poses!\n",
      "Starting to analyze %  F:\\videos\\Ar30motor\\2021_07_09\\Mirror167R.avi\n",
      "F:\\videos\\Ar30motor\\2021_07_09  already exists!\n",
      "Loading  F:\\videos\\Ar30motor\\2021_07_09\\Mirror167R.avi\n",
      "Duration of video [s]:  10.0 , recorded with  40.0 fps!\n",
      "Overall # of frames:  400  found with (before cropping) frame dimensions:  314 700\n",
      "Starting to extract posture\n"
     ]
    },
    {
     "name": "stderr",
     "output_type": "stream",
     "text": [
      "410it [00:05, 61.42it/s]                                                                                               "
     ]
    },
    {
     "name": "stdout",
     "output_type": "stream",
     "text": [
      "Detected frames:  400\n"
     ]
    },
    {
     "name": "stderr",
     "output_type": "stream",
     "text": [
      "410it [00:05, 70.20it/s]\n"
     ]
    },
    {
     "name": "stdout",
     "output_type": "stream",
     "text": [
      "Saving results in F:\\videos\\Ar30motor\\2021_07_09...\n",
      "Saving csv poses!\n",
      "Starting to analyze %  F:\\videos\\Ar30motor\\2021_07_09\\Mirror168R.avi\n",
      "F:\\videos\\Ar30motor\\2021_07_09  already exists!\n",
      "Loading  F:\\videos\\Ar30motor\\2021_07_09\\Mirror168R.avi\n",
      "Duration of video [s]:  8.22 , recorded with  40.0 fps!\n",
      "Overall # of frames:  329  found with (before cropping) frame dimensions:  314 700\n",
      "Starting to extract posture\n"
     ]
    },
    {
     "name": "stderr",
     "output_type": "stream",
     "text": [
      "330it [00:04, 60.96it/s]                                                                                               "
     ]
    },
    {
     "name": "stdout",
     "output_type": "stream",
     "text": [
      "Detected frames:  329\n"
     ]
    },
    {
     "name": "stderr",
     "output_type": "stream",
     "text": [
      "330it [00:05, 65.40it/s]\n"
     ]
    },
    {
     "name": "stdout",
     "output_type": "stream",
     "text": [
      "Saving results in F:\\videos\\Ar30motor\\2021_07_09...\n",
      "Saving csv poses!\n",
      "Starting to analyze %  F:\\videos\\Ar30motor\\2021_07_09\\Mirror169R.avi\n",
      "F:\\videos\\Ar30motor\\2021_07_09  already exists!\n",
      "Loading  F:\\videos\\Ar30motor\\2021_07_09\\Mirror169R.avi\n",
      "Duration of video [s]:  7.85 , recorded with  40.0 fps!\n",
      "Overall # of frames:  314  found with (before cropping) frame dimensions:  314 700\n",
      "Starting to extract posture\n"
     ]
    },
    {
     "name": "stderr",
     "output_type": "stream",
     "text": [
      "320it [00:04, 74.37it/s]                                                                                               "
     ]
    },
    {
     "name": "stdout",
     "output_type": "stream",
     "text": [
      "Detected frames:  314\n"
     ]
    },
    {
     "name": "stderr",
     "output_type": "stream",
     "text": [
      "320it [00:04, 67.75it/s]\n"
     ]
    },
    {
     "name": "stdout",
     "output_type": "stream",
     "text": [
      "Saving results in F:\\videos\\Ar30motor\\2021_07_09...\n",
      "Saving csv poses!\n",
      "Starting to analyze %  F:\\videos\\Ar30motor\\2021_07_09\\Mirror16R.avi\n",
      "F:\\videos\\Ar30motor\\2021_07_09  already exists!\n",
      "Loading  F:\\videos\\Ar30motor\\2021_07_09\\Mirror16R.avi\n",
      "Duration of video [s]:  9.03 , recorded with  40.0 fps!\n",
      "Overall # of frames:  361  found with (before cropping) frame dimensions:  314 700\n",
      "Starting to extract posture\n"
     ]
    },
    {
     "name": "stderr",
     "output_type": "stream",
     "text": [
      "370it [00:06, 44.22it/s]                                                                                               "
     ]
    },
    {
     "name": "stdout",
     "output_type": "stream",
     "text": [
      "Detected frames:  361\n"
     ]
    },
    {
     "name": "stderr",
     "output_type": "stream",
     "text": [
      "370it [00:06, 56.36it/s]\n"
     ]
    },
    {
     "name": "stdout",
     "output_type": "stream",
     "text": [
      "Saving results in F:\\videos\\Ar30motor\\2021_07_09...\n",
      "Saving csv poses!\n",
      "Starting to analyze %  F:\\videos\\Ar30motor\\2021_07_09\\Mirror170R.avi\n",
      "F:\\videos\\Ar30motor\\2021_07_09  already exists!\n",
      "Loading  F:\\videos\\Ar30motor\\2021_07_09\\Mirror170R.avi\n",
      "Duration of video [s]:  5.47 , recorded with  40.0 fps!\n",
      "Overall # of frames:  219  found with (before cropping) frame dimensions:  314 700\n",
      "Starting to extract posture\n"
     ]
    },
    {
     "name": "stderr",
     "output_type": "stream",
     "text": [
      "220it [00:03, 58.29it/s]                                                                                               "
     ]
    },
    {
     "name": "stdout",
     "output_type": "stream",
     "text": [
      "Detected frames:  219\n"
     ]
    },
    {
     "name": "stderr",
     "output_type": "stream",
     "text": [
      "220it [00:03, 55.94it/s]\n"
     ]
    },
    {
     "name": "stdout",
     "output_type": "stream",
     "text": [
      "Saving results in F:\\videos\\Ar30motor\\2021_07_09...\n",
      "Saving csv poses!\n",
      "Starting to analyze %  F:\\videos\\Ar30motor\\2021_07_09\\Mirror171R.avi\n",
      "F:\\videos\\Ar30motor\\2021_07_09  already exists!\n",
      "Loading  F:\\videos\\Ar30motor\\2021_07_09\\Mirror171R.avi\n",
      "Duration of video [s]:  10.0 , recorded with  40.0 fps!\n",
      "Overall # of frames:  400  found with (before cropping) frame dimensions:  314 700\n",
      "Starting to extract posture\n"
     ]
    },
    {
     "name": "stderr",
     "output_type": "stream",
     "text": [
      "410it [00:06, 59.72it/s]                                                                                               "
     ]
    },
    {
     "name": "stdout",
     "output_type": "stream",
     "text": [
      "Detected frames:  400\n"
     ]
    },
    {
     "name": "stderr",
     "output_type": "stream",
     "text": [
      "410it [00:06, 65.63it/s]\n"
     ]
    },
    {
     "name": "stdout",
     "output_type": "stream",
     "text": [
      "Saving results in F:\\videos\\Ar30motor\\2021_07_09...\n",
      "Saving csv poses!\n",
      "Starting to analyze %  F:\\videos\\Ar30motor\\2021_07_09\\Mirror172R.avi\n",
      "F:\\videos\\Ar30motor\\2021_07_09  already exists!\n",
      "Loading  F:\\videos\\Ar30motor\\2021_07_09\\Mirror172R.avi\n",
      "Duration of video [s]:  6.55 , recorded with  40.0 fps!\n",
      "Overall # of frames:  262  found with (before cropping) frame dimensions:  314 700\n",
      "Starting to extract posture\n"
     ]
    },
    {
     "name": "stderr",
     "output_type": "stream",
     "text": [
      "270it [00:03, 70.51it/s]                                                                                               "
     ]
    },
    {
     "name": "stdout",
     "output_type": "stream",
     "text": [
      "Detected frames:  262\n"
     ]
    },
    {
     "name": "stderr",
     "output_type": "stream",
     "text": [
      "270it [00:03, 68.55it/s]\n"
     ]
    },
    {
     "name": "stdout",
     "output_type": "stream",
     "text": [
      "Saving results in F:\\videos\\Ar30motor\\2021_07_09...\n",
      "Saving csv poses!\n",
      "Starting to analyze %  F:\\videos\\Ar30motor\\2021_07_09\\Mirror173R.avi\n",
      "F:\\videos\\Ar30motor\\2021_07_09  already exists!\n",
      "Loading  F:\\videos\\Ar30motor\\2021_07_09\\Mirror173R.avi\n",
      "Duration of video [s]:  6.47 , recorded with  40.0 fps!\n",
      "Overall # of frames:  259  found with (before cropping) frame dimensions:  314 700\n",
      "Starting to extract posture\n"
     ]
    },
    {
     "name": "stderr",
     "output_type": "stream",
     "text": [
      "260it [00:03, 68.11it/s]                                                                                               "
     ]
    },
    {
     "name": "stdout",
     "output_type": "stream",
     "text": [
      "Detected frames:  259\n"
     ]
    },
    {
     "name": "stderr",
     "output_type": "stream",
     "text": [
      "260it [00:03, 67.82it/s]\n"
     ]
    },
    {
     "name": "stdout",
     "output_type": "stream",
     "text": [
      "Saving results in F:\\videos\\Ar30motor\\2021_07_09...\n",
      "Saving csv poses!\n",
      "Starting to analyze %  F:\\videos\\Ar30motor\\2021_07_09\\Mirror174R.avi\n",
      "F:\\videos\\Ar30motor\\2021_07_09  already exists!\n",
      "Loading  F:\\videos\\Ar30motor\\2021_07_09\\Mirror174R.avi\n",
      "Duration of video [s]:  10.0 , recorded with  40.0 fps!\n",
      "Overall # of frames:  400  found with (before cropping) frame dimensions:  314 700\n",
      "Starting to extract posture\n"
     ]
    },
    {
     "name": "stderr",
     "output_type": "stream",
     "text": [
      "410it [00:05, 62.04it/s]                                                                                               "
     ]
    },
    {
     "name": "stdout",
     "output_type": "stream",
     "text": [
      "Detected frames:  400\n"
     ]
    },
    {
     "name": "stderr",
     "output_type": "stream",
     "text": [
      "410it [00:05, 70.39it/s]\n"
     ]
    },
    {
     "name": "stdout",
     "output_type": "stream",
     "text": [
      "Saving results in F:\\videos\\Ar30motor\\2021_07_09...\n",
      "Saving csv poses!\n",
      "Starting to analyze %  F:\\videos\\Ar30motor\\2021_07_09\\Mirror175R.avi\n",
      "F:\\videos\\Ar30motor\\2021_07_09  already exists!\n",
      "Loading  F:\\videos\\Ar30motor\\2021_07_09\\Mirror175R.avi\n",
      "Duration of video [s]:  10.0 , recorded with  40.0 fps!\n",
      "Overall # of frames:  400  found with (before cropping) frame dimensions:  314 700\n",
      "Starting to extract posture\n"
     ]
    },
    {
     "name": "stderr",
     "output_type": "stream",
     "text": [
      "410it [00:05, 61.70it/s]                                                                                               "
     ]
    },
    {
     "name": "stdout",
     "output_type": "stream",
     "text": [
      "Detected frames:  400\n"
     ]
    },
    {
     "name": "stderr",
     "output_type": "stream",
     "text": [
      "410it [00:05, 69.74it/s]\n"
     ]
    },
    {
     "name": "stdout",
     "output_type": "stream",
     "text": [
      "Saving results in F:\\videos\\Ar30motor\\2021_07_09...\n",
      "Saving csv poses!\n",
      "Starting to analyze %  F:\\videos\\Ar30motor\\2021_07_09\\Mirror176R.avi\n",
      "F:\\videos\\Ar30motor\\2021_07_09  already exists!\n",
      "Loading  F:\\videos\\Ar30motor\\2021_07_09\\Mirror176R.avi\n",
      "Duration of video [s]:  10.0 , recorded with  40.0 fps!\n",
      "Overall # of frames:  400  found with (before cropping) frame dimensions:  314 700\n",
      "Starting to extract posture\n"
     ]
    },
    {
     "name": "stderr",
     "output_type": "stream",
     "text": [
      "410it [00:06, 60.87it/s]                                                                                               "
     ]
    },
    {
     "name": "stdout",
     "output_type": "stream",
     "text": [
      "Detected frames:  400\n"
     ]
    },
    {
     "name": "stderr",
     "output_type": "stream",
     "text": [
      "410it [00:06, 67.80it/s]\n"
     ]
    },
    {
     "name": "stdout",
     "output_type": "stream",
     "text": [
      "Saving results in F:\\videos\\Ar30motor\\2021_07_09...\n",
      "Saving csv poses!\n",
      "Starting to analyze %  F:\\videos\\Ar30motor\\2021_07_09\\Mirror177R.avi\n",
      "F:\\videos\\Ar30motor\\2021_07_09  already exists!\n",
      "Loading  F:\\videos\\Ar30motor\\2021_07_09\\Mirror177R.avi\n",
      "Duration of video [s]:  10.0 , recorded with  40.0 fps!\n",
      "Overall # of frames:  400  found with (before cropping) frame dimensions:  314 700\n",
      "Starting to extract posture\n"
     ]
    },
    {
     "name": "stderr",
     "output_type": "stream",
     "text": [
      "410it [00:05, 61.16it/s]                                                                                               "
     ]
    },
    {
     "name": "stdout",
     "output_type": "stream",
     "text": [
      "Detected frames:  400\n"
     ]
    },
    {
     "name": "stderr",
     "output_type": "stream",
     "text": [
      "410it [00:05, 69.33it/s]\n"
     ]
    },
    {
     "name": "stdout",
     "output_type": "stream",
     "text": [
      "Saving results in F:\\videos\\Ar30motor\\2021_07_09...\n",
      "Saving csv poses!\n",
      "Starting to analyze %  F:\\videos\\Ar30motor\\2021_07_09\\Mirror178R.avi\n",
      "F:\\videos\\Ar30motor\\2021_07_09  already exists!\n",
      "Loading  F:\\videos\\Ar30motor\\2021_07_09\\Mirror178R.avi\n",
      "Duration of video [s]:  7.38 , recorded with  40.0 fps!\n",
      "Overall # of frames:  295  found with (before cropping) frame dimensions:  314 700\n",
      "Starting to extract posture\n"
     ]
    },
    {
     "name": "stderr",
     "output_type": "stream",
     "text": [
      "300it [00:04, 61.08it/s]                                                                                               "
     ]
    },
    {
     "name": "stdout",
     "output_type": "stream",
     "text": [
      "Detected frames:  295\n"
     ]
    },
    {
     "name": "stderr",
     "output_type": "stream",
     "text": [
      "300it [00:04, 65.63it/s]\n"
     ]
    },
    {
     "name": "stdout",
     "output_type": "stream",
     "text": [
      "Saving results in F:\\videos\\Ar30motor\\2021_07_09...\n",
      "Saving csv poses!\n",
      "Starting to analyze %  F:\\videos\\Ar30motor\\2021_07_09\\Mirror179R.avi\n",
      "F:\\videos\\Ar30motor\\2021_07_09  already exists!\n",
      "Loading  F:\\videos\\Ar30motor\\2021_07_09\\Mirror179R.avi\n",
      "Duration of video [s]:  10.0 , recorded with  40.0 fps!\n",
      "Overall # of frames:  400  found with (before cropping) frame dimensions:  314 700\n",
      "Starting to extract posture\n"
     ]
    },
    {
     "name": "stderr",
     "output_type": "stream",
     "text": [
      "410it [00:06, 60.90it/s]                                                                                               "
     ]
    },
    {
     "name": "stdout",
     "output_type": "stream",
     "text": [
      "Detected frames:  400\n"
     ]
    },
    {
     "name": "stderr",
     "output_type": "stream",
     "text": [
      "410it [00:06, 67.48it/s]\n"
     ]
    },
    {
     "name": "stdout",
     "output_type": "stream",
     "text": [
      "Saving results in F:\\videos\\Ar30motor\\2021_07_09...\n",
      "Saving csv poses!\n",
      "Starting to analyze %  F:\\videos\\Ar30motor\\2021_07_09\\Mirror17R.avi\n",
      "F:\\videos\\Ar30motor\\2021_07_09  already exists!\n",
      "Loading  F:\\videos\\Ar30motor\\2021_07_09\\Mirror17R.avi\n",
      "Duration of video [s]:  10.0 , recorded with  40.0 fps!\n",
      "Overall # of frames:  400  found with (before cropping) frame dimensions:  314 700\n",
      "Starting to extract posture\n"
     ]
    },
    {
     "name": "stderr",
     "output_type": "stream",
     "text": [
      "410it [00:05, 61.37it/s]                                                                                               "
     ]
    },
    {
     "name": "stdout",
     "output_type": "stream",
     "text": [
      "Detected frames:  400\n"
     ]
    },
    {
     "name": "stderr",
     "output_type": "stream",
     "text": [
      "410it [00:05, 69.67it/s]\n"
     ]
    },
    {
     "name": "stdout",
     "output_type": "stream",
     "text": [
      "Saving results in F:\\videos\\Ar30motor\\2021_07_09...\n",
      "Saving csv poses!\n",
      "Starting to analyze %  F:\\videos\\Ar30motor\\2021_07_09\\Mirror180R.avi\n",
      "F:\\videos\\Ar30motor\\2021_07_09  already exists!\n",
      "Loading  F:\\videos\\Ar30motor\\2021_07_09\\Mirror180R.avi\n",
      "Duration of video [s]:  10.0 , recorded with  40.0 fps!\n",
      "Overall # of frames:  400  found with (before cropping) frame dimensions:  314 700\n",
      "Starting to extract posture\n"
     ]
    },
    {
     "name": "stderr",
     "output_type": "stream",
     "text": [
      "410it [00:05, 60.81it/s]                                                                                               "
     ]
    },
    {
     "name": "stdout",
     "output_type": "stream",
     "text": [
      "Detected frames:  400\n"
     ]
    },
    {
     "name": "stderr",
     "output_type": "stream",
     "text": [
      "410it [00:05, 69.31it/s]\n"
     ]
    },
    {
     "name": "stdout",
     "output_type": "stream",
     "text": [
      "Saving results in F:\\videos\\Ar30motor\\2021_07_09...\n",
      "Saving csv poses!\n",
      "Starting to analyze %  F:\\videos\\Ar30motor\\2021_07_09\\Mirror181R.avi\n",
      "F:\\videos\\Ar30motor\\2021_07_09  already exists!\n",
      "Loading  F:\\videos\\Ar30motor\\2021_07_09\\Mirror181R.avi\n",
      "Duration of video [s]:  10.0 , recorded with  40.0 fps!\n",
      "Overall # of frames:  400  found with (before cropping) frame dimensions:  314 700\n",
      "Starting to extract posture\n"
     ]
    },
    {
     "name": "stderr",
     "output_type": "stream",
     "text": [
      "410it [00:06, 47.08it/s]                                                                                               "
     ]
    },
    {
     "name": "stdout",
     "output_type": "stream",
     "text": [
      "Detected frames:  400\n"
     ]
    },
    {
     "name": "stderr",
     "output_type": "stream",
     "text": [
      "410it [00:06, 64.25it/s]\n"
     ]
    },
    {
     "name": "stdout",
     "output_type": "stream",
     "text": [
      "Saving results in F:\\videos\\Ar30motor\\2021_07_09...\n",
      "Saving csv poses!\n",
      "Starting to analyze %  F:\\videos\\Ar30motor\\2021_07_09\\Mirror182R.avi\n",
      "F:\\videos\\Ar30motor\\2021_07_09  already exists!\n",
      "Loading  F:\\videos\\Ar30motor\\2021_07_09\\Mirror182R.avi\n",
      "Duration of video [s]:  10.0 , recorded with  40.0 fps!\n",
      "Overall # of frames:  400  found with (before cropping) frame dimensions:  314 700\n",
      "Starting to extract posture\n"
     ]
    },
    {
     "name": "stderr",
     "output_type": "stream",
     "text": [
      "410it [00:06, 57.85it/s]                                                                                               "
     ]
    },
    {
     "name": "stdout",
     "output_type": "stream",
     "text": [
      "Detected frames:  400\n"
     ]
    },
    {
     "name": "stderr",
     "output_type": "stream",
     "text": [
      "410it [00:06, 62.35it/s]\n"
     ]
    },
    {
     "name": "stdout",
     "output_type": "stream",
     "text": [
      "Saving results in F:\\videos\\Ar30motor\\2021_07_09...\n",
      "Saving csv poses!\n",
      "Starting to analyze %  F:\\videos\\Ar30motor\\2021_07_09\\Mirror183R.avi\n",
      "F:\\videos\\Ar30motor\\2021_07_09  already exists!\n",
      "Loading  F:\\videos\\Ar30motor\\2021_07_09\\Mirror183R.avi\n",
      "Duration of video [s]:  10.0 , recorded with  40.0 fps!\n",
      "Overall # of frames:  400  found with (before cropping) frame dimensions:  314 700\n",
      "Starting to extract posture\n"
     ]
    },
    {
     "name": "stderr",
     "output_type": "stream",
     "text": [
      "410it [00:06, 61.26it/s]                                                                                               "
     ]
    },
    {
     "name": "stdout",
     "output_type": "stream",
     "text": [
      "Detected frames:  400\n"
     ]
    },
    {
     "name": "stderr",
     "output_type": "stream",
     "text": [
      "410it [00:06, 68.13it/s]\n"
     ]
    },
    {
     "name": "stdout",
     "output_type": "stream",
     "text": [
      "Saving results in F:\\videos\\Ar30motor\\2021_07_09...\n",
      "Saving csv poses!\n",
      "Starting to analyze %  F:\\videos\\Ar30motor\\2021_07_09\\Mirror184R.avi\n",
      "F:\\videos\\Ar30motor\\2021_07_09  already exists!\n",
      "Loading  F:\\videos\\Ar30motor\\2021_07_09\\Mirror184R.avi\n",
      "Duration of video [s]:  10.0 , recorded with  40.0 fps!\n",
      "Overall # of frames:  400  found with (before cropping) frame dimensions:  314 700\n",
      "Starting to extract posture\n"
     ]
    },
    {
     "name": "stderr",
     "output_type": "stream",
     "text": [
      "410it [00:05, 61.35it/s]                                                                                               "
     ]
    },
    {
     "name": "stdout",
     "output_type": "stream",
     "text": [
      "Detected frames:  400\n"
     ]
    },
    {
     "name": "stderr",
     "output_type": "stream",
     "text": [
      "410it [00:05, 70.07it/s]\n"
     ]
    },
    {
     "name": "stdout",
     "output_type": "stream",
     "text": [
      "Saving results in F:\\videos\\Ar30motor\\2021_07_09...\n",
      "Saving csv poses!\n",
      "Starting to analyze %  F:\\videos\\Ar30motor\\2021_07_09\\Mirror185R.avi\n",
      "F:\\videos\\Ar30motor\\2021_07_09  already exists!\n",
      "Loading  F:\\videos\\Ar30motor\\2021_07_09\\Mirror185R.avi\n",
      "Duration of video [s]:  10.0 , recorded with  40.0 fps!\n",
      "Overall # of frames:  400  found with (before cropping) frame dimensions:  314 700\n",
      "Starting to extract posture\n"
     ]
    },
    {
     "name": "stderr",
     "output_type": "stream",
     "text": [
      "410it [00:07, 42.66it/s]                                                                                               "
     ]
    },
    {
     "name": "stdout",
     "output_type": "stream",
     "text": [
      "Detected frames:  400\n"
     ]
    },
    {
     "name": "stderr",
     "output_type": "stream",
     "text": [
      "410it [00:07, 54.04it/s]\n"
     ]
    },
    {
     "name": "stdout",
     "output_type": "stream",
     "text": [
      "Saving results in F:\\videos\\Ar30motor\\2021_07_09...\n",
      "Saving csv poses!\n",
      "Starting to analyze %  F:\\videos\\Ar30motor\\2021_07_09\\Mirror186R.avi\n",
      "F:\\videos\\Ar30motor\\2021_07_09  already exists!\n",
      "Loading  F:\\videos\\Ar30motor\\2021_07_09\\Mirror186R.avi\n",
      "Duration of video [s]:  10.0 , recorded with  40.0 fps!\n",
      "Overall # of frames:  400  found with (before cropping) frame dimensions:  314 700\n",
      "Starting to extract posture\n"
     ]
    },
    {
     "name": "stderr",
     "output_type": "stream",
     "text": [
      "410it [00:06, 57.01it/s]                                                                                               "
     ]
    },
    {
     "name": "stdout",
     "output_type": "stream",
     "text": [
      "Detected frames:  400\n"
     ]
    },
    {
     "name": "stderr",
     "output_type": "stream",
     "text": [
      "410it [00:06, 59.56it/s]\n"
     ]
    },
    {
     "name": "stdout",
     "output_type": "stream",
     "text": [
      "Saving results in F:\\videos\\Ar30motor\\2021_07_09...\n",
      "Saving csv poses!\n",
      "Starting to analyze %  F:\\videos\\Ar30motor\\2021_07_09\\Mirror187R.avi\n",
      "F:\\videos\\Ar30motor\\2021_07_09  already exists!\n",
      "Loading  F:\\videos\\Ar30motor\\2021_07_09\\Mirror187R.avi\n",
      "Duration of video [s]:  10.0 , recorded with  40.0 fps!\n",
      "Overall # of frames:  400  found with (before cropping) frame dimensions:  314 700\n",
      "Starting to extract posture\n"
     ]
    },
    {
     "name": "stderr",
     "output_type": "stream",
     "text": [
      "410it [00:06, 60.72it/s]                                                                                               "
     ]
    },
    {
     "name": "stdout",
     "output_type": "stream",
     "text": [
      "Detected frames:  400\n"
     ]
    },
    {
     "name": "stderr",
     "output_type": "stream",
     "text": [
      "410it [00:06, 67.33it/s]\n"
     ]
    },
    {
     "name": "stdout",
     "output_type": "stream",
     "text": [
      "Saving results in F:\\videos\\Ar30motor\\2021_07_09...\n",
      "Saving csv poses!\n",
      "Starting to analyze %  F:\\videos\\Ar30motor\\2021_07_09\\Mirror188R.avi\n",
      "F:\\videos\\Ar30motor\\2021_07_09  already exists!\n",
      "Loading  F:\\videos\\Ar30motor\\2021_07_09\\Mirror188R.avi\n",
      "Duration of video [s]:  10.0 , recorded with  40.0 fps!\n",
      "Overall # of frames:  400  found with (before cropping) frame dimensions:  314 700\n",
      "Starting to extract posture\n"
     ]
    },
    {
     "name": "stderr",
     "output_type": "stream",
     "text": [
      "410it [00:05, 62.29it/s]                                                                                               "
     ]
    },
    {
     "name": "stdout",
     "output_type": "stream",
     "text": [
      "Detected frames:  400\n"
     ]
    },
    {
     "name": "stderr",
     "output_type": "stream",
     "text": [
      "410it [00:05, 70.29it/s]\n"
     ]
    },
    {
     "name": "stdout",
     "output_type": "stream",
     "text": [
      "Saving results in F:\\videos\\Ar30motor\\2021_07_09...\n",
      "Saving csv poses!\n",
      "Starting to analyze %  F:\\videos\\Ar30motor\\2021_07_09\\Mirror189R.avi\n",
      "F:\\videos\\Ar30motor\\2021_07_09  already exists!\n",
      "Loading  F:\\videos\\Ar30motor\\2021_07_09\\Mirror189R.avi\n",
      "Duration of video [s]:  10.0 , recorded with  40.0 fps!\n",
      "Overall # of frames:  400  found with (before cropping) frame dimensions:  314 700\n",
      "Starting to extract posture\n"
     ]
    },
    {
     "name": "stderr",
     "output_type": "stream",
     "text": [
      "410it [00:05, 62.19it/s]                                                                                               "
     ]
    },
    {
     "name": "stdout",
     "output_type": "stream",
     "text": [
      "Detected frames:  400\n"
     ]
    },
    {
     "name": "stderr",
     "output_type": "stream",
     "text": [
      "410it [00:05, 70.82it/s]\n"
     ]
    },
    {
     "name": "stdout",
     "output_type": "stream",
     "text": [
      "Saving results in F:\\videos\\Ar30motor\\2021_07_09...\n",
      "Saving csv poses!\n",
      "Starting to analyze %  F:\\videos\\Ar30motor\\2021_07_09\\Mirror18R.avi\n",
      "F:\\videos\\Ar30motor\\2021_07_09  already exists!\n",
      "Loading  F:\\videos\\Ar30motor\\2021_07_09\\Mirror18R.avi\n",
      "Duration of video [s]:  7.4 , recorded with  40.0 fps!\n",
      "Overall # of frames:  296  found with (before cropping) frame dimensions:  314 700\n",
      "Starting to extract posture\n"
     ]
    },
    {
     "name": "stderr",
     "output_type": "stream",
     "text": [
      "300it [00:04, 66.99it/s]                                                                                               "
     ]
    },
    {
     "name": "stdout",
     "output_type": "stream",
     "text": [
      "Detected frames:  296\n"
     ]
    },
    {
     "name": "stderr",
     "output_type": "stream",
     "text": [
      "300it [00:04, 69.11it/s]\n"
     ]
    },
    {
     "name": "stdout",
     "output_type": "stream",
     "text": [
      "Saving results in F:\\videos\\Ar30motor\\2021_07_09...\n",
      "Saving csv poses!\n",
      "Starting to analyze %  F:\\videos\\Ar30motor\\2021_07_09\\Mirror190R.avi\n",
      "F:\\videos\\Ar30motor\\2021_07_09  already exists!\n",
      "Loading  F:\\videos\\Ar30motor\\2021_07_09\\Mirror190R.avi\n",
      "Duration of video [s]:  9.35 , recorded with  40.0 fps!\n",
      "Overall # of frames:  374  found with (before cropping) frame dimensions:  314 700\n",
      "Starting to extract posture\n"
     ]
    },
    {
     "name": "stderr",
     "output_type": "stream",
     "text": [
      "380it [00:06, 39.30it/s]                                                                                               "
     ]
    },
    {
     "name": "stdout",
     "output_type": "stream",
     "text": [
      "Detected frames:  374\n"
     ]
    },
    {
     "name": "stderr",
     "output_type": "stream",
     "text": [
      "380it [00:07, 53.31it/s]\n"
     ]
    },
    {
     "name": "stdout",
     "output_type": "stream",
     "text": [
      "Saving results in F:\\videos\\Ar30motor\\2021_07_09...\n",
      "Saving csv poses!\n",
      "Starting to analyze %  F:\\videos\\Ar30motor\\2021_07_09\\Mirror191R.avi\n",
      "F:\\videos\\Ar30motor\\2021_07_09  already exists!\n",
      "Loading  F:\\videos\\Ar30motor\\2021_07_09\\Mirror191R.avi\n",
      "Duration of video [s]:  10.0 , recorded with  40.0 fps!\n",
      "Overall # of frames:  400  found with (before cropping) frame dimensions:  314 700\n",
      "Starting to extract posture\n"
     ]
    },
    {
     "name": "stderr",
     "output_type": "stream",
     "text": [
      "410it [00:07, 56.51it/s]                                                                                               "
     ]
    },
    {
     "name": "stdout",
     "output_type": "stream",
     "text": [
      "Detected frames:  400\n"
     ]
    },
    {
     "name": "stderr",
     "output_type": "stream",
     "text": [
      "410it [00:07, 58.19it/s]\n"
     ]
    },
    {
     "name": "stdout",
     "output_type": "stream",
     "text": [
      "Saving results in F:\\videos\\Ar30motor\\2021_07_09...\n",
      "Saving csv poses!\n",
      "Starting to analyze %  F:\\videos\\Ar30motor\\2021_07_09\\Mirror192R.avi\n",
      "F:\\videos\\Ar30motor\\2021_07_09  already exists!\n",
      "Loading  F:\\videos\\Ar30motor\\2021_07_09\\Mirror192R.avi\n",
      "Duration of video [s]:  10.0 , recorded with  40.0 fps!\n",
      "Overall # of frames:  400  found with (before cropping) frame dimensions:  314 700\n",
      "Starting to extract posture\n"
     ]
    },
    {
     "name": "stderr",
     "output_type": "stream",
     "text": [
      "410it [00:06, 60.42it/s]                                                                                               "
     ]
    },
    {
     "name": "stdout",
     "output_type": "stream",
     "text": [
      "Detected frames:  400\n"
     ]
    },
    {
     "name": "stderr",
     "output_type": "stream",
     "text": [
      "410it [00:06, 66.89it/s]\n"
     ]
    },
    {
     "name": "stdout",
     "output_type": "stream",
     "text": [
      "Saving results in F:\\videos\\Ar30motor\\2021_07_09...\n",
      "Saving csv poses!\n",
      "Starting to analyze %  F:\\videos\\Ar30motor\\2021_07_09\\Mirror193R.avi\n",
      "F:\\videos\\Ar30motor\\2021_07_09  already exists!\n",
      "Loading  F:\\videos\\Ar30motor\\2021_07_09\\Mirror193R.avi\n",
      "Duration of video [s]:  10.0 , recorded with  40.0 fps!\n",
      "Overall # of frames:  400  found with (before cropping) frame dimensions:  314 700\n",
      "Starting to extract posture\n"
     ]
    },
    {
     "name": "stderr",
     "output_type": "stream",
     "text": [
      "410it [00:05, 62.53it/s]                                                                                               "
     ]
    },
    {
     "name": "stdout",
     "output_type": "stream",
     "text": [
      "Detected frames:  400\n"
     ]
    },
    {
     "name": "stderr",
     "output_type": "stream",
     "text": [
      "410it [00:05, 69.93it/s]\n"
     ]
    },
    {
     "name": "stdout",
     "output_type": "stream",
     "text": [
      "Saving results in F:\\videos\\Ar30motor\\2021_07_09...\n",
      "Saving csv poses!\n",
      "Starting to analyze %  F:\\videos\\Ar30motor\\2021_07_09\\Mirror194R.avi\n",
      "F:\\videos\\Ar30motor\\2021_07_09  already exists!\n",
      "Loading  F:\\videos\\Ar30motor\\2021_07_09\\Mirror194R.avi\n",
      "Duration of video [s]:  9.62 , recorded with  40.0 fps!\n",
      "Overall # of frames:  385  found with (before cropping) frame dimensions:  314 700\n",
      "Starting to extract posture\n"
     ]
    },
    {
     "name": "stderr",
     "output_type": "stream",
     "text": [
      "390it [00:05, 71.68it/s]                                                                                               "
     ]
    },
    {
     "name": "stdout",
     "output_type": "stream",
     "text": [
      "Detected frames:  385\n"
     ]
    },
    {
     "name": "stderr",
     "output_type": "stream",
     "text": [
      "390it [00:05, 68.71it/s]\n"
     ]
    },
    {
     "name": "stdout",
     "output_type": "stream",
     "text": [
      "Saving results in F:\\videos\\Ar30motor\\2021_07_09...\n",
      "Saving csv poses!\n",
      "Starting to analyze %  F:\\videos\\Ar30motor\\2021_07_09\\Mirror195R.avi\n",
      "F:\\videos\\Ar30motor\\2021_07_09  already exists!\n",
      "Loading  F:\\videos\\Ar30motor\\2021_07_09\\Mirror195R.avi\n",
      "Duration of video [s]:  10.0 , recorded with  40.0 fps!\n",
      "Overall # of frames:  400  found with (before cropping) frame dimensions:  314 700\n",
      "Starting to extract posture\n"
     ]
    },
    {
     "name": "stderr",
     "output_type": "stream",
     "text": [
      "410it [00:05, 61.62it/s]                                                                                               "
     ]
    },
    {
     "name": "stdout",
     "output_type": "stream",
     "text": [
      "Detected frames:  400\n"
     ]
    },
    {
     "name": "stderr",
     "output_type": "stream",
     "text": [
      "410it [00:05, 69.91it/s]\n"
     ]
    },
    {
     "name": "stdout",
     "output_type": "stream",
     "text": [
      "Saving results in F:\\videos\\Ar30motor\\2021_07_09...\n",
      "Saving csv poses!\n",
      "Starting to analyze %  F:\\videos\\Ar30motor\\2021_07_09\\Mirror196R.avi\n",
      "F:\\videos\\Ar30motor\\2021_07_09  already exists!\n",
      "Loading  F:\\videos\\Ar30motor\\2021_07_09\\Mirror196R.avi\n",
      "Duration of video [s]:  8.53 , recorded with  40.0 fps!\n",
      "Overall # of frames:  341  found with (before cropping) frame dimensions:  314 700\n",
      "Starting to extract posture\n"
     ]
    },
    {
     "name": "stderr",
     "output_type": "stream",
     "text": [
      "350it [00:04, 68.91it/s]                                                                                               "
     ]
    },
    {
     "name": "stdout",
     "output_type": "stream",
     "text": [
      "Detected frames:  341\n"
     ]
    },
    {
     "name": "stderr",
     "output_type": "stream",
     "text": [
      "350it [00:05, 68.43it/s]\n"
     ]
    },
    {
     "name": "stdout",
     "output_type": "stream",
     "text": [
      "Saving results in F:\\videos\\Ar30motor\\2021_07_09...\n",
      "Saving csv poses!\n",
      "Starting to analyze %  F:\\videos\\Ar30motor\\2021_07_09\\Mirror197R.avi\n",
      "F:\\videos\\Ar30motor\\2021_07_09  already exists!\n",
      "Loading  F:\\videos\\Ar30motor\\2021_07_09\\Mirror197R.avi\n",
      "Duration of video [s]:  10.0 , recorded with  40.0 fps!\n",
      "Overall # of frames:  400  found with (before cropping) frame dimensions:  314 700\n",
      "Starting to extract posture\n"
     ]
    },
    {
     "name": "stderr",
     "output_type": "stream",
     "text": [
      "410it [00:05, 60.95it/s]                                                                                               "
     ]
    },
    {
     "name": "stdout",
     "output_type": "stream",
     "text": [
      "Detected frames:  400\n"
     ]
    },
    {
     "name": "stderr",
     "output_type": "stream",
     "text": [
      "410it [00:05, 68.43it/s]\n"
     ]
    },
    {
     "name": "stdout",
     "output_type": "stream",
     "text": [
      "Saving results in F:\\videos\\Ar30motor\\2021_07_09...\n",
      "Saving csv poses!\n",
      "Starting to analyze %  F:\\videos\\Ar30motor\\2021_07_09\\Mirror198R.avi\n",
      "F:\\videos\\Ar30motor\\2021_07_09  already exists!\n",
      "Loading  F:\\videos\\Ar30motor\\2021_07_09\\Mirror198R.avi\n",
      "Duration of video [s]:  9.12 , recorded with  40.0 fps!\n",
      "Overall # of frames:  365  found with (before cropping) frame dimensions:  314 700\n",
      "Starting to extract posture\n"
     ]
    },
    {
     "name": "stderr",
     "output_type": "stream",
     "text": [
      "370it [00:05, 60.93it/s]                                                                                               "
     ]
    },
    {
     "name": "stdout",
     "output_type": "stream",
     "text": [
      "Detected frames:  365\n"
     ]
    },
    {
     "name": "stderr",
     "output_type": "stream",
     "text": [
      "370it [00:05, 67.45it/s]\n"
     ]
    },
    {
     "name": "stdout",
     "output_type": "stream",
     "text": [
      "Saving results in F:\\videos\\Ar30motor\\2021_07_09...\n",
      "Saving csv poses!\n",
      "Starting to analyze %  F:\\videos\\Ar30motor\\2021_07_09\\Mirror199R.avi\n",
      "F:\\videos\\Ar30motor\\2021_07_09  already exists!\n",
      "Loading  F:\\videos\\Ar30motor\\2021_07_09\\Mirror199R.avi\n",
      "Duration of video [s]:  10.0 , recorded with  40.0 fps!\n",
      "Overall # of frames:  400  found with (before cropping) frame dimensions:  314 700\n",
      "Starting to extract posture\n"
     ]
    },
    {
     "name": "stderr",
     "output_type": "stream",
     "text": [
      "410it [00:06, 59.82it/s]                                                                                               "
     ]
    },
    {
     "name": "stdout",
     "output_type": "stream",
     "text": [
      "Detected frames:  400\n"
     ]
    },
    {
     "name": "stderr",
     "output_type": "stream",
     "text": [
      "410it [00:06, 67.87it/s]\n"
     ]
    },
    {
     "name": "stdout",
     "output_type": "stream",
     "text": [
      "Saving results in F:\\videos\\Ar30motor\\2021_07_09...\n",
      "Saving csv poses!\n",
      "Starting to analyze %  F:\\videos\\Ar30motor\\2021_07_09\\Mirror19R.avi\n",
      "F:\\videos\\Ar30motor\\2021_07_09  already exists!\n",
      "Loading  F:\\videos\\Ar30motor\\2021_07_09\\Mirror19R.avi\n",
      "Duration of video [s]:  6.12 , recorded with  40.0 fps!\n",
      "Overall # of frames:  245  found with (before cropping) frame dimensions:  314 700\n",
      "Starting to extract posture\n"
     ]
    },
    {
     "name": "stderr",
     "output_type": "stream",
     "text": [
      "250it [00:03, 60.69it/s]                                                                                               "
     ]
    },
    {
     "name": "stdout",
     "output_type": "stream",
     "text": [
      "Detected frames:  245\n"
     ]
    },
    {
     "name": "stderr",
     "output_type": "stream",
     "text": [
      "250it [00:03, 66.91it/s]\n"
     ]
    },
    {
     "name": "stdout",
     "output_type": "stream",
     "text": [
      "Saving results in F:\\videos\\Ar30motor\\2021_07_09...\n",
      "Saving csv poses!\n",
      "Starting to analyze %  F:\\videos\\Ar30motor\\2021_07_09\\Mirror1R.avi\n",
      "F:\\videos\\Ar30motor\\2021_07_09  already exists!\n",
      "Loading  F:\\videos\\Ar30motor\\2021_07_09\\Mirror1R.avi\n",
      "Duration of video [s]:  10.0 , recorded with  40.0 fps!\n",
      "Overall # of frames:  400  found with (before cropping) frame dimensions:  314 700\n",
      "Starting to extract posture\n"
     ]
    },
    {
     "name": "stderr",
     "output_type": "stream",
     "text": [
      "410it [00:05, 60.89it/s]                                                                                               "
     ]
    },
    {
     "name": "stdout",
     "output_type": "stream",
     "text": [
      "Detected frames:  400\n"
     ]
    },
    {
     "name": "stderr",
     "output_type": "stream",
     "text": [
      "410it [00:05, 68.55it/s]\n"
     ]
    },
    {
     "name": "stdout",
     "output_type": "stream",
     "text": [
      "Saving results in F:\\videos\\Ar30motor\\2021_07_09...\n",
      "Saving csv poses!\n",
      "Starting to analyze %  F:\\videos\\Ar30motor\\2021_07_09\\Mirror200R.avi\n",
      "F:\\videos\\Ar30motor\\2021_07_09  already exists!\n",
      "Loading  F:\\videos\\Ar30motor\\2021_07_09\\Mirror200R.avi\n",
      "Duration of video [s]:  10.0 , recorded with  40.0 fps!\n",
      "Overall # of frames:  400  found with (before cropping) frame dimensions:  314 700\n",
      "Starting to extract posture\n"
     ]
    },
    {
     "name": "stderr",
     "output_type": "stream",
     "text": [
      "410it [00:09, 50.79it/s]                                                                                               "
     ]
    },
    {
     "name": "stdout",
     "output_type": "stream",
     "text": [
      "Detected frames:  400\n"
     ]
    },
    {
     "name": "stderr",
     "output_type": "stream",
     "text": [
      "410it [00:09, 42.42it/s]\n"
     ]
    },
    {
     "name": "stdout",
     "output_type": "stream",
     "text": [
      "Saving results in F:\\videos\\Ar30motor\\2021_07_09...\n",
      "Saving csv poses!\n",
      "Starting to analyze %  F:\\videos\\Ar30motor\\2021_07_09\\Mirror201R.avi\n",
      "F:\\videos\\Ar30motor\\2021_07_09  already exists!\n",
      "Loading  F:\\videos\\Ar30motor\\2021_07_09\\Mirror201R.avi\n",
      "Duration of video [s]:  10.0 , recorded with  40.0 fps!\n",
      "Overall # of frames:  400  found with (before cropping) frame dimensions:  314 700\n",
      "Starting to extract posture\n"
     ]
    },
    {
     "name": "stderr",
     "output_type": "stream",
     "text": [
      "410it [00:06, 58.47it/s]                                                                                               "
     ]
    },
    {
     "name": "stdout",
     "output_type": "stream",
     "text": [
      "Detected frames:  400\n"
     ]
    },
    {
     "name": "stderr",
     "output_type": "stream",
     "text": [
      "410it [00:06, 63.60it/s]\n"
     ]
    },
    {
     "name": "stdout",
     "output_type": "stream",
     "text": [
      "Saving results in F:\\videos\\Ar30motor\\2021_07_09...\n",
      "Saving csv poses!\n",
      "Starting to analyze %  F:\\videos\\Ar30motor\\2021_07_09\\Mirror202R.avi\n",
      "F:\\videos\\Ar30motor\\2021_07_09  already exists!\n",
      "Loading  F:\\videos\\Ar30motor\\2021_07_09\\Mirror202R.avi\n",
      "Duration of video [s]:  10.0 , recorded with  40.0 fps!\n",
      "Overall # of frames:  400  found with (before cropping) frame dimensions:  314 700\n",
      "Starting to extract posture\n"
     ]
    },
    {
     "name": "stderr",
     "output_type": "stream",
     "text": [
      "410it [00:06, 60.93it/s]                                                                                               "
     ]
    },
    {
     "name": "stdout",
     "output_type": "stream",
     "text": [
      "Detected frames:  400\n"
     ]
    },
    {
     "name": "stderr",
     "output_type": "stream",
     "text": [
      "410it [00:06, 68.07it/s]\n"
     ]
    },
    {
     "name": "stdout",
     "output_type": "stream",
     "text": [
      "Saving results in F:\\videos\\Ar30motor\\2021_07_09...\n",
      "Saving csv poses!\n",
      "Starting to analyze %  F:\\videos\\Ar30motor\\2021_07_09\\Mirror20R.avi\n",
      "F:\\videos\\Ar30motor\\2021_07_09  already exists!\n",
      "Loading  F:\\videos\\Ar30motor\\2021_07_09\\Mirror20R.avi\n",
      "Duration of video [s]:  6.55 , recorded with  40.0 fps!\n",
      "Overall # of frames:  262  found with (before cropping) frame dimensions:  314 700\n",
      "Starting to extract posture\n"
     ]
    },
    {
     "name": "stderr",
     "output_type": "stream",
     "text": [
      "270it [00:03, 72.27it/s]                                                                                               "
     ]
    },
    {
     "name": "stdout",
     "output_type": "stream",
     "text": [
      "Detected frames:  262\n"
     ]
    },
    {
     "name": "stderr",
     "output_type": "stream",
     "text": [
      "270it [00:03, 69.82it/s]\n"
     ]
    },
    {
     "name": "stdout",
     "output_type": "stream",
     "text": [
      "Saving results in F:\\videos\\Ar30motor\\2021_07_09...\n",
      "Saving csv poses!\n",
      "Starting to analyze %  F:\\videos\\Ar30motor\\2021_07_09\\Mirror2R.avi\n",
      "F:\\videos\\Ar30motor\\2021_07_09  already exists!\n",
      "Loading  F:\\videos\\Ar30motor\\2021_07_09\\Mirror2R.avi\n",
      "Duration of video [s]:  9.32 , recorded with  40.0 fps!\n",
      "Overall # of frames:  373  found with (before cropping) frame dimensions:  314 700\n",
      "Starting to extract posture\n"
     ]
    },
    {
     "name": "stderr",
     "output_type": "stream",
     "text": [
      "380it [00:05, 65.09it/s]                                                                                               "
     ]
    },
    {
     "name": "stdout",
     "output_type": "stream",
     "text": [
      "Detected frames:  373\n"
     ]
    },
    {
     "name": "stderr",
     "output_type": "stream",
     "text": [
      "380it [00:05, 68.78it/s]\n"
     ]
    },
    {
     "name": "stdout",
     "output_type": "stream",
     "text": [
      "Saving results in F:\\videos\\Ar30motor\\2021_07_09...\n",
      "Saving csv poses!\n",
      "The videos are analyzed. Now your research can truly start! \n",
      " You can create labeled videos with 'create_labeled_video'\n",
      "If the tracking is not satisfactory for some videos, consider expanding the training set. You can use the function 'extract_outlier_frames' to extract a few representative outlier frames.\n",
      "DLC_resnet50_ar30shiwkerSep13shuffle1_207000\n",
      "Filtering with median model F:\\videos\\Ar30motor\\2021_07_09\\Mirror0R.avi\n",
      "Saving filtered csv poses!\n",
      "Filtering with median model F:\\videos\\Ar30motor\\2021_07_09\\Mirror100R.avi\n",
      "Saving filtered csv poses!\n",
      "Filtering with median model F:\\videos\\Ar30motor\\2021_07_09\\Mirror101R.avi\n",
      "Saving filtered csv poses!\n",
      "Filtering with median model F:\\videos\\Ar30motor\\2021_07_09\\Mirror102R.avi\n",
      "Saving filtered csv poses!\n",
      "Filtering with median model F:\\videos\\Ar30motor\\2021_07_09\\Mirror103R.avi\n",
      "Saving filtered csv poses!\n",
      "Filtering with median model F:\\videos\\Ar30motor\\2021_07_09\\Mirror104R.avi\n",
      "Saving filtered csv poses!\n",
      "Filtering with median model F:\\videos\\Ar30motor\\2021_07_09\\Mirror105R.avi\n",
      "Saving filtered csv poses!\n",
      "Filtering with median model F:\\videos\\Ar30motor\\2021_07_09\\Mirror106R.avi\n",
      "Saving filtered csv poses!\n",
      "Filtering with median model F:\\videos\\Ar30motor\\2021_07_09\\Mirror107R.avi\n",
      "Saving filtered csv poses!\n",
      "Filtering with median model F:\\videos\\Ar30motor\\2021_07_09\\Mirror108R.avi\n",
      "Saving filtered csv poses!\n",
      "Filtering with median model F:\\videos\\Ar30motor\\2021_07_09\\Mirror109R.avi\n",
      "Saving filtered csv poses!\n",
      "Filtering with median model F:\\videos\\Ar30motor\\2021_07_09\\Mirror10R.avi\n",
      "Saving filtered csv poses!\n",
      "Filtering with median model F:\\videos\\Ar30motor\\2021_07_09\\Mirror110R.avi\n",
      "Saving filtered csv poses!\n",
      "Filtering with median model F:\\videos\\Ar30motor\\2021_07_09\\Mirror111R.avi\n",
      "Saving filtered csv poses!\n",
      "Filtering with median model F:\\videos\\Ar30motor\\2021_07_09\\Mirror112R.avi\n",
      "Saving filtered csv poses!\n",
      "Filtering with median model F:\\videos\\Ar30motor\\2021_07_09\\Mirror113R.avi\n",
      "Saving filtered csv poses!\n",
      "Filtering with median model F:\\videos\\Ar30motor\\2021_07_09\\Mirror114R.avi\n",
      "Saving filtered csv poses!\n",
      "Filtering with median model F:\\videos\\Ar30motor\\2021_07_09\\Mirror115R.avi\n",
      "Saving filtered csv poses!\n",
      "Filtering with median model F:\\videos\\Ar30motor\\2021_07_09\\Mirror116R.avi\n",
      "Saving filtered csv poses!\n",
      "Filtering with median model F:\\videos\\Ar30motor\\2021_07_09\\Mirror117R.avi\n",
      "Saving filtered csv poses!\n",
      "Filtering with median model F:\\videos\\Ar30motor\\2021_07_09\\Mirror118R.avi\n",
      "Saving filtered csv poses!\n",
      "Filtering with median model F:\\videos\\Ar30motor\\2021_07_09\\Mirror119R.avi\n",
      "Saving filtered csv poses!\n",
      "Filtering with median model F:\\videos\\Ar30motor\\2021_07_09\\Mirror11R.avi\n",
      "Saving filtered csv poses!\n",
      "Filtering with median model F:\\videos\\Ar30motor\\2021_07_09\\Mirror120R.avi\n",
      "Saving filtered csv poses!\n",
      "Filtering with median model F:\\videos\\Ar30motor\\2021_07_09\\Mirror121R.avi\n",
      "Saving filtered csv poses!\n",
      "Filtering with median model F:\\videos\\Ar30motor\\2021_07_09\\Mirror122R.avi\n",
      "Saving filtered csv poses!\n",
      "Filtering with median model F:\\videos\\Ar30motor\\2021_07_09\\Mirror123R.avi\n",
      "Saving filtered csv poses!\n",
      "Filtering with median model F:\\videos\\Ar30motor\\2021_07_09\\Mirror124R.avi\n",
      "Saving filtered csv poses!\n",
      "Filtering with median model F:\\videos\\Ar30motor\\2021_07_09\\Mirror125R.avi\n",
      "Saving filtered csv poses!\n",
      "Filtering with median model F:\\videos\\Ar30motor\\2021_07_09\\Mirror126R.avi\n",
      "Saving filtered csv poses!\n",
      "Filtering with median model F:\\videos\\Ar30motor\\2021_07_09\\Mirror127R.avi\n",
      "Saving filtered csv poses!\n",
      "Filtering with median model F:\\videos\\Ar30motor\\2021_07_09\\Mirror128R.avi\n",
      "Saving filtered csv poses!\n",
      "Filtering with median model F:\\videos\\Ar30motor\\2021_07_09\\Mirror129R.avi\n",
      "Saving filtered csv poses!\n",
      "Filtering with median model F:\\videos\\Ar30motor\\2021_07_09\\Mirror12R.avi\n",
      "Saving filtered csv poses!\n",
      "Filtering with median model F:\\videos\\Ar30motor\\2021_07_09\\Mirror130R.avi\n",
      "Saving filtered csv poses!\n",
      "Filtering with median model F:\\videos\\Ar30motor\\2021_07_09\\Mirror131R.avi\n",
      "Saving filtered csv poses!\n",
      "Filtering with median model F:\\videos\\Ar30motor\\2021_07_09\\Mirror132R.avi\n",
      "Saving filtered csv poses!\n",
      "Filtering with median model F:\\videos\\Ar30motor\\2021_07_09\\Mirror133R.avi\n",
      "Saving filtered csv poses!\n",
      "Filtering with median model F:\\videos\\Ar30motor\\2021_07_09\\Mirror134R.avi\n",
      "Saving filtered csv poses!\n",
      "Filtering with median model F:\\videos\\Ar30motor\\2021_07_09\\Mirror135R.avi\n",
      "Saving filtered csv poses!\n",
      "Filtering with median model F:\\videos\\Ar30motor\\2021_07_09\\Mirror136R.avi\n",
      "Saving filtered csv poses!\n",
      "Filtering with median model F:\\videos\\Ar30motor\\2021_07_09\\Mirror137R.avi\n",
      "Saving filtered csv poses!\n",
      "Filtering with median model F:\\videos\\Ar30motor\\2021_07_09\\Mirror138R.avi\n",
      "Saving filtered csv poses!\n",
      "Filtering with median model F:\\videos\\Ar30motor\\2021_07_09\\Mirror139R.avi\n",
      "Saving filtered csv poses!\n",
      "Filtering with median model F:\\videos\\Ar30motor\\2021_07_09\\Mirror13R.avi\n",
      "Saving filtered csv poses!\n",
      "Filtering with median model F:\\videos\\Ar30motor\\2021_07_09\\Mirror140R.avi\n",
      "Saving filtered csv poses!\n",
      "Filtering with median model F:\\videos\\Ar30motor\\2021_07_09\\Mirror141R.avi\n",
      "Saving filtered csv poses!\n",
      "Filtering with median model F:\\videos\\Ar30motor\\2021_07_09\\Mirror142R.avi\n",
      "Saving filtered csv poses!\n",
      "Filtering with median model F:\\videos\\Ar30motor\\2021_07_09\\Mirror143R.avi\n",
      "Saving filtered csv poses!\n",
      "Filtering with median model F:\\videos\\Ar30motor\\2021_07_09\\Mirror144R.avi\n",
      "Saving filtered csv poses!\n",
      "Filtering with median model F:\\videos\\Ar30motor\\2021_07_09\\Mirror145R.avi\n",
      "Saving filtered csv poses!\n",
      "Filtering with median model F:\\videos\\Ar30motor\\2021_07_09\\Mirror146R.avi\n",
      "Saving filtered csv poses!\n",
      "Filtering with median model F:\\videos\\Ar30motor\\2021_07_09\\Mirror147R.avi\n",
      "Saving filtered csv poses!\n",
      "Filtering with median model F:\\videos\\Ar30motor\\2021_07_09\\Mirror148R.avi\n",
      "Saving filtered csv poses!\n",
      "Filtering with median model F:\\videos\\Ar30motor\\2021_07_09\\Mirror149R.avi\n",
      "Saving filtered csv poses!\n",
      "Filtering with median model F:\\videos\\Ar30motor\\2021_07_09\\Mirror14R.avi\n",
      "Saving filtered csv poses!\n",
      "Filtering with median model F:\\videos\\Ar30motor\\2021_07_09\\Mirror150R.avi\n",
      "Saving filtered csv poses!\n",
      "Filtering with median model F:\\videos\\Ar30motor\\2021_07_09\\Mirror151R.avi\n",
      "Saving filtered csv poses!\n",
      "Filtering with median model F:\\videos\\Ar30motor\\2021_07_09\\Mirror152R.avi\n",
      "Saving filtered csv poses!\n",
      "Filtering with median model F:\\videos\\Ar30motor\\2021_07_09\\Mirror153R.avi\n",
      "Saving filtered csv poses!\n",
      "Filtering with median model F:\\videos\\Ar30motor\\2021_07_09\\Mirror154R.avi\n",
      "Saving filtered csv poses!\n",
      "Filtering with median model F:\\videos\\Ar30motor\\2021_07_09\\Mirror155R.avi\n",
      "Saving filtered csv poses!\n",
      "Filtering with median model F:\\videos\\Ar30motor\\2021_07_09\\Mirror156R.avi\n",
      "Saving filtered csv poses!\n",
      "Filtering with median model F:\\videos\\Ar30motor\\2021_07_09\\Mirror157R.avi\n",
      "Saving filtered csv poses!\n",
      "Filtering with median model F:\\videos\\Ar30motor\\2021_07_09\\Mirror158R.avi\n",
      "Saving filtered csv poses!\n",
      "Filtering with median model F:\\videos\\Ar30motor\\2021_07_09\\Mirror159R.avi\n",
      "Saving filtered csv poses!\n",
      "Filtering with median model F:\\videos\\Ar30motor\\2021_07_09\\Mirror15R.avi\n",
      "Saving filtered csv poses!\n",
      "Filtering with median model F:\\videos\\Ar30motor\\2021_07_09\\Mirror160R.avi\n",
      "Saving filtered csv poses!\n",
      "Filtering with median model F:\\videos\\Ar30motor\\2021_07_09\\Mirror161R.avi\n",
      "Saving filtered csv poses!\n",
      "Filtering with median model F:\\videos\\Ar30motor\\2021_07_09\\Mirror162R.avi\n",
      "Saving filtered csv poses!\n",
      "Filtering with median model F:\\videos\\Ar30motor\\2021_07_09\\Mirror163R.avi\n",
      "Saving filtered csv poses!\n",
      "Filtering with median model F:\\videos\\Ar30motor\\2021_07_09\\Mirror164R.avi\n",
      "Saving filtered csv poses!\n",
      "Filtering with median model F:\\videos\\Ar30motor\\2021_07_09\\Mirror165R.avi\n",
      "Saving filtered csv poses!\n",
      "Filtering with median model F:\\videos\\Ar30motor\\2021_07_09\\Mirror166R.avi\n",
      "Saving filtered csv poses!\n",
      "Filtering with median model F:\\videos\\Ar30motor\\2021_07_09\\Mirror167R.avi\n",
      "Saving filtered csv poses!\n",
      "Filtering with median model F:\\videos\\Ar30motor\\2021_07_09\\Mirror168R.avi\n",
      "Saving filtered csv poses!\n",
      "Filtering with median model F:\\videos\\Ar30motor\\2021_07_09\\Mirror169R.avi\n",
      "Saving filtered csv poses!\n",
      "Filtering with median model F:\\videos\\Ar30motor\\2021_07_09\\Mirror16R.avi\n",
      "Saving filtered csv poses!\n",
      "Filtering with median model F:\\videos\\Ar30motor\\2021_07_09\\Mirror170R.avi\n",
      "Saving filtered csv poses!\n",
      "Filtering with median model F:\\videos\\Ar30motor\\2021_07_09\\Mirror171R.avi\n",
      "Saving filtered csv poses!\n",
      "Filtering with median model F:\\videos\\Ar30motor\\2021_07_09\\Mirror172R.avi\n",
      "Saving filtered csv poses!\n",
      "Filtering with median model F:\\videos\\Ar30motor\\2021_07_09\\Mirror173R.avi\n",
      "Saving filtered csv poses!\n",
      "Filtering with median model F:\\videos\\Ar30motor\\2021_07_09\\Mirror174R.avi\n",
      "Saving filtered csv poses!\n",
      "Filtering with median model F:\\videos\\Ar30motor\\2021_07_09\\Mirror175R.avi\n",
      "Saving filtered csv poses!\n",
      "Filtering with median model F:\\videos\\Ar30motor\\2021_07_09\\Mirror176R.avi\n",
      "Saving filtered csv poses!\n",
      "Filtering with median model F:\\videos\\Ar30motor\\2021_07_09\\Mirror177R.avi\n",
      "Saving filtered csv poses!\n",
      "Filtering with median model F:\\videos\\Ar30motor\\2021_07_09\\Mirror178R.avi\n",
      "Saving filtered csv poses!\n",
      "Filtering with median model F:\\videos\\Ar30motor\\2021_07_09\\Mirror179R.avi\n",
      "Saving filtered csv poses!\n",
      "Filtering with median model F:\\videos\\Ar30motor\\2021_07_09\\Mirror17R.avi\n",
      "Saving filtered csv poses!\n",
      "Filtering with median model F:\\videos\\Ar30motor\\2021_07_09\\Mirror180R.avi\n",
      "Saving filtered csv poses!\n",
      "Filtering with median model F:\\videos\\Ar30motor\\2021_07_09\\Mirror181R.avi\n",
      "Saving filtered csv poses!\n",
      "Filtering with median model F:\\videos\\Ar30motor\\2021_07_09\\Mirror182R.avi\n",
      "Saving filtered csv poses!\n",
      "Filtering with median model F:\\videos\\Ar30motor\\2021_07_09\\Mirror183R.avi\n",
      "Saving filtered csv poses!\n",
      "Filtering with median model F:\\videos\\Ar30motor\\2021_07_09\\Mirror184R.avi\n",
      "Saving filtered csv poses!\n",
      "Filtering with median model F:\\videos\\Ar30motor\\2021_07_09\\Mirror185R.avi\n",
      "Saving filtered csv poses!\n",
      "Filtering with median model F:\\videos\\Ar30motor\\2021_07_09\\Mirror186R.avi\n",
      "Saving filtered csv poses!\n",
      "Filtering with median model F:\\videos\\Ar30motor\\2021_07_09\\Mirror187R.avi\n",
      "Saving filtered csv poses!\n",
      "Filtering with median model F:\\videos\\Ar30motor\\2021_07_09\\Mirror188R.avi\n",
      "Saving filtered csv poses!\n",
      "Filtering with median model F:\\videos\\Ar30motor\\2021_07_09\\Mirror189R.avi\n",
      "Saving filtered csv poses!\n",
      "Filtering with median model F:\\videos\\Ar30motor\\2021_07_09\\Mirror18R.avi\n",
      "Saving filtered csv poses!\n",
      "Filtering with median model F:\\videos\\Ar30motor\\2021_07_09\\Mirror190R.avi\n",
      "Saving filtered csv poses!\n",
      "Filtering with median model F:\\videos\\Ar30motor\\2021_07_09\\Mirror191R.avi\n",
      "Saving filtered csv poses!\n",
      "Filtering with median model F:\\videos\\Ar30motor\\2021_07_09\\Mirror192R.avi\n",
      "Saving filtered csv poses!\n",
      "Filtering with median model F:\\videos\\Ar30motor\\2021_07_09\\Mirror193R.avi\n",
      "Saving filtered csv poses!\n",
      "Filtering with median model F:\\videos\\Ar30motor\\2021_07_09\\Mirror194R.avi\n",
      "Saving filtered csv poses!\n",
      "Filtering with median model F:\\videos\\Ar30motor\\2021_07_09\\Mirror195R.avi\n",
      "Saving filtered csv poses!\n",
      "Filtering with median model F:\\videos\\Ar30motor\\2021_07_09\\Mirror196R.avi\n",
      "Saving filtered csv poses!\n",
      "Filtering with median model F:\\videos\\Ar30motor\\2021_07_09\\Mirror197R.avi\n",
      "Saving filtered csv poses!\n",
      "Filtering with median model F:\\videos\\Ar30motor\\2021_07_09\\Mirror198R.avi\n",
      "Saving filtered csv poses!\n",
      "Filtering with median model F:\\videos\\Ar30motor\\2021_07_09\\Mirror199R.avi\n",
      "Saving filtered csv poses!\n",
      "Filtering with median model F:\\videos\\Ar30motor\\2021_07_09\\Mirror19R.avi\n",
      "Saving filtered csv poses!\n",
      "Filtering with median model F:\\videos\\Ar30motor\\2021_07_09\\Mirror1R.avi\n",
      "Saving filtered csv poses!\n",
      "Filtering with median model F:\\videos\\Ar30motor\\2021_07_09\\Mirror200R.avi\n",
      "Saving filtered csv poses!\n",
      "Filtering with median model F:\\videos\\Ar30motor\\2021_07_09\\Mirror201R.avi\n",
      "Saving filtered csv poses!\n",
      "Filtering with median model F:\\videos\\Ar30motor\\2021_07_09\\Mirror202R.avi\n",
      "Saving filtered csv poses!\n",
      "Filtering with median model F:\\videos\\Ar30motor\\2021_07_09\\Mirror20R.avi\n",
      "Saving filtered csv poses!\n",
      "Filtering with median model F:\\videos\\Ar30motor\\2021_07_09\\Mirror2R.avi\n",
      "Saving filtered csv poses!\n"
     ]
    }
   ],
   "source": [
    "\n",
    "Mainfolder = 'F:\\\\videos\\\\Ar30motor\\\\2021_07_09'\n",
    "import image_util\n",
    "#path_config_file = 'D:\\\\videos\\\\ar30\\\\2020_11_04\\\\ar30_11_05_20whiskers-Arash-2020-11-08\\\\config.yaml'\n",
    "#path_config_file = 'C:\\\\videos\\\\ar344thday\\\\2021_07_26\\\\ar34shiwker-Arash-2021-07-29\\\\config.yaml';\n",
    "#path_config_file = 'F:\\\\videos\\\\ar32motor\\\\2021_08_02\\\\ar32shiwker-Arash-2021-09-01\\\\config.yaml';\n",
    "path_config_file = 'F:\\\\videos\\\\Ar30motor\\\\2021_08_03_184113\\\\ar30shiwker-Arash-2021-09-13\\\\config.yaml'\n",
    "XfilesL = [os.path.join(Mainfolder,f) for f in os.listdir(Mainfolder) if f.startswith('Mask')  ] # find all files with R.avi as file name\n",
    "XfilesR = [os.path.join(Mainfolder,f) for f in os.listdir(Mainfolder) if f.startswith('Mirror')  ] # find all files with R.avi as file name\n",
    "\n",
    "scorernameL=deeplabcut.analyze_videos(path_config_file,XfilesL,shuffle=1, save_as_csv=True)\n",
    "print(scorernameL)\n",
    "deeplabcut.filterpredictions(path_config_file,XfilesL,shuffle=1)\n",
    "scorernameR=deeplabcut.analyze_videos(path_config_file,XfilesR,shuffle=1, save_as_csv=True)\n",
    "print(scorernameR)\n",
    "deeplabcut.filterpredictions(path_config_file,XfilesR,shuffle=1)"
   ]
  },
  {
   "cell_type": "code",
   "execution_count": 11,
   "metadata": {},
   "outputs": [
    {
     "name": "stdout",
     "output_type": "stream",
     "text": [
      "['F:\\\\videos\\\\Ar30motor\\\\2021_07_09\\\\Mask0L.avi', 'F:\\\\videos\\\\Ar30motor\\\\2021_07_09\\\\Mask100L.avi', 'F:\\\\videos\\\\Ar30motor\\\\2021_07_09\\\\Mask101L.avi', 'F:\\\\videos\\\\Ar30motor\\\\2021_07_09\\\\Mask102L.avi', 'F:\\\\videos\\\\Ar30motor\\\\2021_07_09\\\\Mask103L.avi', 'F:\\\\videos\\\\Ar30motor\\\\2021_07_09\\\\Mask104L.avi', 'F:\\\\videos\\\\Ar30motor\\\\2021_07_09\\\\Mask105L.avi', 'F:\\\\videos\\\\Ar30motor\\\\2021_07_09\\\\Mask106L.avi', 'F:\\\\videos\\\\Ar30motor\\\\2021_07_09\\\\Mask107L.avi', 'F:\\\\videos\\\\Ar30motor\\\\2021_07_09\\\\Mask108L.avi', 'F:\\\\videos\\\\Ar30motor\\\\2021_07_09\\\\Mask109L.avi', 'F:\\\\videos\\\\Ar30motor\\\\2021_07_09\\\\Mask10L.avi', 'F:\\\\videos\\\\Ar30motor\\\\2021_07_09\\\\Mask110L.avi', 'F:\\\\videos\\\\Ar30motor\\\\2021_07_09\\\\Mask111L.avi', 'F:\\\\videos\\\\Ar30motor\\\\2021_07_09\\\\Mask112L.avi', 'F:\\\\videos\\\\Ar30motor\\\\2021_07_09\\\\Mask113L.avi', 'F:\\\\videos\\\\Ar30motor\\\\2021_07_09\\\\Mask114L.avi', 'F:\\\\videos\\\\Ar30motor\\\\2021_07_09\\\\Mask115L.avi', 'F:\\\\videos\\\\Ar30motor\\\\2021_07_09\\\\Mask116L.avi', 'F:\\\\videos\\\\Ar30motor\\\\2021_07_09\\\\Mask117L.avi', 'F:\\\\videos\\\\Ar30motor\\\\2021_07_09\\\\Mask118L.avi', 'F:\\\\videos\\\\Ar30motor\\\\2021_07_09\\\\Mask119L.avi', 'F:\\\\videos\\\\Ar30motor\\\\2021_07_09\\\\Mask11L.avi', 'F:\\\\videos\\\\Ar30motor\\\\2021_07_09\\\\Mask120L.avi', 'F:\\\\videos\\\\Ar30motor\\\\2021_07_09\\\\Mask121L.avi', 'F:\\\\videos\\\\Ar30motor\\\\2021_07_09\\\\Mask122L.avi', 'F:\\\\videos\\\\Ar30motor\\\\2021_07_09\\\\Mask123L.avi', 'F:\\\\videos\\\\Ar30motor\\\\2021_07_09\\\\Mask124L.avi', 'F:\\\\videos\\\\Ar30motor\\\\2021_07_09\\\\Mask125L.avi', 'F:\\\\videos\\\\Ar30motor\\\\2021_07_09\\\\Mask126L.avi', 'F:\\\\videos\\\\Ar30motor\\\\2021_07_09\\\\Mask127L.avi', 'F:\\\\videos\\\\Ar30motor\\\\2021_07_09\\\\Mask128L.avi', 'F:\\\\videos\\\\Ar30motor\\\\2021_07_09\\\\Mask129L.avi', 'F:\\\\videos\\\\Ar30motor\\\\2021_07_09\\\\Mask12L.avi', 'F:\\\\videos\\\\Ar30motor\\\\2021_07_09\\\\Mask130L.avi', 'F:\\\\videos\\\\Ar30motor\\\\2021_07_09\\\\Mask131L.avi', 'F:\\\\videos\\\\Ar30motor\\\\2021_07_09\\\\Mask132L.avi', 'F:\\\\videos\\\\Ar30motor\\\\2021_07_09\\\\Mask133L.avi', 'F:\\\\videos\\\\Ar30motor\\\\2021_07_09\\\\Mask134L.avi', 'F:\\\\videos\\\\Ar30motor\\\\2021_07_09\\\\Mask135L.avi', 'F:\\\\videos\\\\Ar30motor\\\\2021_07_09\\\\Mask136L.avi', 'F:\\\\videos\\\\Ar30motor\\\\2021_07_09\\\\Mask137L.avi', 'F:\\\\videos\\\\Ar30motor\\\\2021_07_09\\\\Mask138L.avi', 'F:\\\\videos\\\\Ar30motor\\\\2021_07_09\\\\Mask139L.avi', 'F:\\\\videos\\\\Ar30motor\\\\2021_07_09\\\\Mask13L.avi', 'F:\\\\videos\\\\Ar30motor\\\\2021_07_09\\\\Mask140L.avi', 'F:\\\\videos\\\\Ar30motor\\\\2021_07_09\\\\Mask141L.avi', 'F:\\\\videos\\\\Ar30motor\\\\2021_07_09\\\\Mask142L.avi', 'F:\\\\videos\\\\Ar30motor\\\\2021_07_09\\\\Mask143L.avi', 'F:\\\\videos\\\\Ar30motor\\\\2021_07_09\\\\Mask144L.avi', 'F:\\\\videos\\\\Ar30motor\\\\2021_07_09\\\\Mask145L.avi', 'F:\\\\videos\\\\Ar30motor\\\\2021_07_09\\\\Mask146L.avi', 'F:\\\\videos\\\\Ar30motor\\\\2021_07_09\\\\Mask147L.avi', 'F:\\\\videos\\\\Ar30motor\\\\2021_07_09\\\\Mask148L.avi', 'F:\\\\videos\\\\Ar30motor\\\\2021_07_09\\\\Mask149L.avi', 'F:\\\\videos\\\\Ar30motor\\\\2021_07_09\\\\Mask14L.avi', 'F:\\\\videos\\\\Ar30motor\\\\2021_07_09\\\\Mask150L.avi', 'F:\\\\videos\\\\Ar30motor\\\\2021_07_09\\\\Mask151L.avi', 'F:\\\\videos\\\\Ar30motor\\\\2021_07_09\\\\Mask152L.avi', 'F:\\\\videos\\\\Ar30motor\\\\2021_07_09\\\\Mask153L.avi', 'F:\\\\videos\\\\Ar30motor\\\\2021_07_09\\\\Mask154L.avi', 'F:\\\\videos\\\\Ar30motor\\\\2021_07_09\\\\Mask155L.avi', 'F:\\\\videos\\\\Ar30motor\\\\2021_07_09\\\\Mask156L.avi', 'F:\\\\videos\\\\Ar30motor\\\\2021_07_09\\\\Mask157L.avi', 'F:\\\\videos\\\\Ar30motor\\\\2021_07_09\\\\Mask158L.avi', 'F:\\\\videos\\\\Ar30motor\\\\2021_07_09\\\\Mask159L.avi', 'F:\\\\videos\\\\Ar30motor\\\\2021_07_09\\\\Mask15L.avi', 'F:\\\\videos\\\\Ar30motor\\\\2021_07_09\\\\Mask160L.avi', 'F:\\\\videos\\\\Ar30motor\\\\2021_07_09\\\\Mask161L.avi', 'F:\\\\videos\\\\Ar30motor\\\\2021_07_09\\\\Mask162L.avi', 'F:\\\\videos\\\\Ar30motor\\\\2021_07_09\\\\Mask163L.avi', 'F:\\\\videos\\\\Ar30motor\\\\2021_07_09\\\\Mask164L.avi', 'F:\\\\videos\\\\Ar30motor\\\\2021_07_09\\\\Mask165L.avi', 'F:\\\\videos\\\\Ar30motor\\\\2021_07_09\\\\Mask166L.avi', 'F:\\\\videos\\\\Ar30motor\\\\2021_07_09\\\\Mask167L.avi', 'F:\\\\videos\\\\Ar30motor\\\\2021_07_09\\\\Mask168L.avi', 'F:\\\\videos\\\\Ar30motor\\\\2021_07_09\\\\Mask169L.avi', 'F:\\\\videos\\\\Ar30motor\\\\2021_07_09\\\\Mask16L.avi', 'F:\\\\videos\\\\Ar30motor\\\\2021_07_09\\\\Mask170L.avi', 'F:\\\\videos\\\\Ar30motor\\\\2021_07_09\\\\Mask171L.avi', 'F:\\\\videos\\\\Ar30motor\\\\2021_07_09\\\\Mask172L.avi', 'F:\\\\videos\\\\Ar30motor\\\\2021_07_09\\\\Mask173L.avi', 'F:\\\\videos\\\\Ar30motor\\\\2021_07_09\\\\Mask174L.avi', 'F:\\\\videos\\\\Ar30motor\\\\2021_07_09\\\\Mask175L.avi', 'F:\\\\videos\\\\Ar30motor\\\\2021_07_09\\\\Mask176L.avi', 'F:\\\\videos\\\\Ar30motor\\\\2021_07_09\\\\Mask177L.avi', 'F:\\\\videos\\\\Ar30motor\\\\2021_07_09\\\\Mask178L.avi', 'F:\\\\videos\\\\Ar30motor\\\\2021_07_09\\\\Mask179L.avi', 'F:\\\\videos\\\\Ar30motor\\\\2021_07_09\\\\Mask17L.avi', 'F:\\\\videos\\\\Ar30motor\\\\2021_07_09\\\\Mask180L.avi', 'F:\\\\videos\\\\Ar30motor\\\\2021_07_09\\\\Mask181L.avi', 'F:\\\\videos\\\\Ar30motor\\\\2021_07_09\\\\Mask182L.avi', 'F:\\\\videos\\\\Ar30motor\\\\2021_07_09\\\\Mask183L.avi', 'F:\\\\videos\\\\Ar30motor\\\\2021_07_09\\\\Mask184L.avi', 'F:\\\\videos\\\\Ar30motor\\\\2021_07_09\\\\Mask185L.avi', 'F:\\\\videos\\\\Ar30motor\\\\2021_07_09\\\\Mask186L.avi', 'F:\\\\videos\\\\Ar30motor\\\\2021_07_09\\\\Mask187L.avi', 'F:\\\\videos\\\\Ar30motor\\\\2021_07_09\\\\Mask188L.avi', 'F:\\\\videos\\\\Ar30motor\\\\2021_07_09\\\\Mask189L.avi', 'F:\\\\videos\\\\Ar30motor\\\\2021_07_09\\\\Mask18L.avi', 'F:\\\\videos\\\\Ar30motor\\\\2021_07_09\\\\Mask190L.avi', 'F:\\\\videos\\\\Ar30motor\\\\2021_07_09\\\\Mask191L.avi', 'F:\\\\videos\\\\Ar30motor\\\\2021_07_09\\\\Mask192L.avi', 'F:\\\\videos\\\\Ar30motor\\\\2021_07_09\\\\Mask193L.avi', 'F:\\\\videos\\\\Ar30motor\\\\2021_07_09\\\\Mask194L.avi', 'F:\\\\videos\\\\Ar30motor\\\\2021_07_09\\\\Mask195L.avi', 'F:\\\\videos\\\\Ar30motor\\\\2021_07_09\\\\Mask196L.avi', 'F:\\\\videos\\\\Ar30motor\\\\2021_07_09\\\\Mask197L.avi', 'F:\\\\videos\\\\Ar30motor\\\\2021_07_09\\\\Mask198L.avi', 'F:\\\\videos\\\\Ar30motor\\\\2021_07_09\\\\Mask199L.avi', 'F:\\\\videos\\\\Ar30motor\\\\2021_07_09\\\\Mask19L.avi', 'F:\\\\videos\\\\Ar30motor\\\\2021_07_09\\\\Mask1L.avi', 'F:\\\\videos\\\\Ar30motor\\\\2021_07_09\\\\Mask200L.avi', 'F:\\\\videos\\\\Ar30motor\\\\2021_07_09\\\\Mask201L.avi', 'F:\\\\videos\\\\Ar30motor\\\\2021_07_09\\\\Mask202L.avi', 'F:\\\\videos\\\\Ar30motor\\\\2021_07_09\\\\Mask20L.avi', 'F:\\\\videos\\\\Ar30motor\\\\2021_07_09\\\\Mask2L.avi']\n"
     ]
    }
   ],
   "source": [
    "XfilesL = [os.path.join(Mainfolder,f) for f in os.listdir(Mainfolder) if f.startswith('Mask')  ] # find all files with R.avi as file name\n",
    "\n",
    "print(XfilesL)"
   ]
  },
  {
   "cell_type": "code",
   "execution_count": 8,
   "metadata": {},
   "outputs": [
    {
     "name": "stdout",
     "output_type": "stream",
     "text": [
      "[]\n"
     ]
    }
   ],
   "source": [
    "print(XfilesL)"
   ]
  },
  {
   "cell_type": "markdown",
   "metadata": {},
   "source": [
    "# copy tracked files into the server (with mp4 movies)"
   ]
  },
  {
   "cell_type": "code",
   "execution_count": null,
   "metadata": {},
   "outputs": [],
   "source": [
    "Mainfolder = 'F:\\\\videos\\\\ar32motor\\\\2021_08_02'\n",
    "destination = ''\n",
    "destination='//dk-server.dk.ucsd.edu/afassihizakeri/SC_Movies/ar32motor/2021_08_02/Side'\n",
    "import shutil\n",
    "shutil.copytree( Mainfolder,destination, ignore=shutil.ignore_patterns('*.avi'),copy_function = shutil.copy)\n",
    "#copytree(Mainfolder, destination, ignore=ignore_patterns('*.avi'))\n"
   ]
  },
  {
   "cell_type": "markdown",
   "metadata": {},
   "source": [
    "# make  movies and plot rajectories from the dlc data"
   ]
  },
  {
   "cell_type": "code",
   "execution_count": null,
   "metadata": {},
   "outputs": [],
   "source": [
    "#path_config_file = 'F:\\\\DLC\\\\Topview3435-Arash-2021-07-28\\\\config.yaml'\n",
    "#Mainfolder = 'F:\\\\videos\\\\ar32motor\\\\2021_08_02';\n",
    "\n",
    "import os\n",
    "text_files = [os.path.join(Mainfolder,f) for f in os.listdir(Mainfolder) if f.endswith('.avi') and not f.endswith('Tracked.avi') and not f.endswith('L.avi') and not f.endswith('R.avi') and not f.endswith('videopoints.avi') and not f.endswith('videopoints.avi')]\n",
    "videofile = os.path.join(Mainfolder,'119.avi')\n",
    "del text_files[0]\n",
    "text_files = [os.path.join(Mainfolder,f) for f in os.listdir(Mainfolder) if f.startswith('Mirror') and  f.endswith('.avi') and not f.endswith('Tracked.avi') and not f.endswith('videopoints.avi') and not f.endswith('videopoints.avi')]\n",
    "print(text_files)\n",
    "\n",
    "#deeplabcut.plot_trajectories(path_config_file,text_files,filtered = True)\n",
    "deeplabcut.create_labeled_video(path_config_file,text_files[1:10],save_frames=False)"
   ]
  },
  {
   "cell_type": "code",
   "execution_count": null,
   "metadata": {},
   "outputs": [],
   "source": [
    "print(text_files[0])\n",
    "type(text_files) "
   ]
  },
  {
   "cell_type": "markdown",
   "metadata": {},
   "source": [
    "# this part should take scorername L and R as an input to matlab \n",
    "import image_util"
   ]
  },
  {
   "cell_type": "code",
   "execution_count": null,
   "metadata": {},
   "outputs": [],
   "source": [
    "print(scorernameL)\n",
    "do matlab thing"
   ]
  },
  {
   "cell_type": "code",
   "execution_count": null,
   "metadata": {},
   "outputs": [],
   "source": [
    "Mainfolder = 'D:\\\\videos\\\\ar30\\\\2021_01_09\\\\'\n",
    "main.save_trial_n(Mainfolder)"
   ]
  },
  {
   "cell_type": "markdown",
   "metadata": {},
   "source": [
    "the last step is to check everything"
   ]
  }
 ],
 "metadata": {
  "kernelspec": {
   "display_name": "Python 3",
   "language": "python",
   "name": "python3"
  },
  "language_info": {
   "codemirror_mode": {
    "name": "ipython",
    "version": 3
   },
   "file_extension": ".py",
   "mimetype": "text/x-python",
   "name": "python",
   "nbconvert_exporter": "python",
   "pygments_lexer": "ipython3",
   "version": "3.6.9"
  }
 },
 "nbformat": 4,
 "nbformat_minor": 2
}
