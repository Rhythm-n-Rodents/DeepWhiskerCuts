{
 "cells": [
  {
   "cell_type": "code",
   "execution_count": null,
   "metadata": {},
   "outputs": [],
   "source": [
    "    mainfolder = 'C:\\\\videos\\\\ar32\\\\2021_06_24';\n",
    "\n",
    "    # this function is to create movies out of images taken from the camera\n",
    "    # another fucntion of this script is to extract Mock LEDs locataion (marked by the user Left, center, right)\n",
    "    \n",
    "    import xlsxwriter  # this is to write xls files \n",
    "    import os # this is to get folder information and creat files \n",
    "    import cv2 # this is important and is reading and writing images and video \n",
    "    import shutil # to remove folder and subfolders\n",
    "    import image_util\n",
    "    from PIL import Image\n",
    "\n",
    "\n",
    "    \n",
    "    col = 0\n",
    "    All_Folders=[ name for name in os.listdir(mainfolder) if os.path.isdir(os.path.join(mainfolder, name)) ]\n",
    "    #All_Folders = All_Folders[1];\n",
    "    #print(All_Folders)\n",
    "    for num in range(0,len(All_Folders)): \n",
    "     KK = os.path.join(mainfolder+os.sep, All_Folders[num])\n",
    "   \n",
    "     if not os.path.isdir(KK):\n",
    "      continue\n",
    "     dirContents = os.listdir(KK)\n",
    "     if len(dirContents) == 0:\n",
    "      shutil.rmtree(KK, ignore_errors=False, onerror=None)\n",
    "      continue\n",
    "     col +=1\n",
    "     os.chdir(KK)\n",
    "     print(num)\n",
    "     images=image_util.get_image_names(All_Folders,num,KK)\n",
    "     #print(images[0]) \n",
    "    \n",
    " \n",
    "      frame = cv2.imread(os.path.join(mainfolder, images[0]))\n",
    "    \n",
    "\n",
    "\n",
    "    col = 0    \n",
    "    for num in range(0,len(All_Folders)): \n",
    "     KK = os.path.join(mainfolder+os.sep, All_Folders[num])\n",
    "     KKavi =  os.path.join(mainfolder+os.sep, All_Folders[num]+'.avi')\n",
    "     #if os.path.isfile(KKavi):\n",
    "      # continue\n",
    "     if not os.path.isdir(KK):\n",
    "      continue\n",
    "     dirContents = os.listdir(KK)\n",
    "     if len(dirContents) == 0:\n",
    "      shutil.rmtree(KK, ignore_errors=False, onerror=None)\n",
    "      continue\n",
    "     col +=1\n",
    "     os.chdir(KK)\n",
    "     print(num)\n",
    "     images=image_util.get_image_names(All_Folders,num,KK)\n",
    "     #print(images[0]) \n",
    "    \n",
    "     if num < 1:\n",
    "      frame = cv2.imread(os.path.join(mainfolder, images[0]))\n",
    "      (xL,yL,wL,hL) = cv2.selectROI('image', frame)\n",
    "\n"
   ]
  },
  {
   "cell_type": "code",
   "execution_count": 1,
   "metadata": {},
   "outputs": [
    {
     "data": {
      "text/plain": [
       "'4.3.0'"
      ]
     },
     "execution_count": 1,
     "metadata": {},
     "output_type": "execute_result"
    }
   ],
   "source": [
    "import cv2\n",
    "cv2.__version__"
   ]
  },
  {
   "cell_type": "code",
   "execution_count": 89,
   "metadata": {},
   "outputs": [],
   "source": [
    "mainfolder = 'C:\\\\videos\\\\ar32\\\\2021_06_24';\n",
    "\n",
    "import os, numpy, PIL\n",
    "from PIL import Image\n",
    "All_Folders=[ name for name in os.listdir(mainfolder) if os.path.isdir(os.path.join(mainfolder, name)) ]\n",
    "# Access all PNG files in directory\n",
    "for num in range(0,len(All_Folders)): \n",
    "    KK = os.path.join(mainfolder+os.sep, All_Folders[num])\n",
    "    allfiles=os.listdir(KK)\n",
    "    thisim = (os.path.join(mainfolder+os.sep, All_Folders[num],'50.jpeg'))\n",
    "\n",
    "    # Create a numpy array of floats to store the average (assume RGB images)\n",
    "    if  num < 1:  \n",
    "        w,h=Image.open(thisim).size\n",
    "        arr=numpy.zeros((h,w,3),numpy.float)\n",
    "        imlist= [thisim]  \n",
    "    imlist.append(thisim) \n",
    "\n",
    "    # Build up average pixel intensities, casting each image as an array of floats\n",
    "N=len(imlist)\n",
    "arr=numpy.zeros((h,w),numpy.float)\n",
    "for im in imlist:\n",
    "    imarr=numpy.array(Image.open(im),dtype=numpy.float)\n",
    "    arr=arr+imarr/N\n",
    "\n",
    "# Round values in array and cast as 8-bit integer\n",
    "arr=numpy.array(numpy.round(arr),dtype=numpy.uint8)\n",
    "\n",
    "# Generate, save and preview final image\n",
    "out=Image.fromarray(arr)\n",
    "out.show()"
   ]
  },
  {
   "cell_type": "code",
   "execution_count": 93,
   "metadata": {},
   "outputs": [],
   "source": [
    "import cv2 # this is important and is reading and writing images and video \n",
    "\n",
    "(xL,yL,wL,hL) = cv2.selectROI('image', arr)\n"
   ]
  },
  {
   "cell_type": "code",
   "execution_count": 90,
   "metadata": {},
   "outputs": [],
   "source": []
  },
  {
   "cell_type": "code",
   "execution_count": 86,
   "metadata": {},
   "outputs": [],
   "source": []
  }
 ],
 "metadata": {
  "kernelspec": {
   "display_name": "Python 3",
   "language": "python",
   "name": "python3"
  },
  "language_info": {
   "codemirror_mode": {
    "name": "ipython",
    "version": 3
   },
   "file_extension": ".py",
   "mimetype": "text/x-python",
   "name": "python",
   "nbconvert_exporter": "python",
   "pygments_lexer": "ipython3",
   "version": "3.6.9"
  }
 },
 "nbformat": 4,
 "nbformat_minor": 2
}
