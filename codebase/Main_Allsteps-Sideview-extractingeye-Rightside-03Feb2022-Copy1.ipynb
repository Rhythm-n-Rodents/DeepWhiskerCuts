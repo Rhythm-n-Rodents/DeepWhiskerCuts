{
 "cells": [
  {
   "cell_type": "markdown",
   "metadata": {},
   "source": [
    "## first step is to make movies and lighttime out of single images "
   ]
  },
  {
   "cell_type": "code",
   "execution_count": 1,
   "metadata": {},
   "outputs": [],
   "source": [
    "# enter the folder name \n",
    "Mainfolder = '\\\\\\\\dk-server.dk.ucsd.edu\\\\afassihizakeri\\\\Leftsidemovies\\\\ar41motor\\\\2022_07_28'\n",
    "Mainfolder = 'D:\\\\Sidevideos\\\\ar42licking\\\\2022_08_29'\n",
    "\n",
    "import main\n"
   ]
  },
  {
   "cell_type": "code",
   "execution_count": 3,
   "metadata": {
    "scrolled": true
   },
   "outputs": [
    {
     "name": "stdout",
     "output_type": "stream",
     "text": [
      "0\n",
      "1\n",
      "2\n",
      "3\n",
      "4\n",
      "5\n",
      "6\n",
      "7\n",
      "8\n",
      "9\n",
      "10\n",
      "11\n",
      "12\n",
      "13\n",
      "14\n",
      "15\n",
      "16\n",
      "17\n",
      "18\n",
      "19\n",
      "20\n",
      "21\n",
      "22\n",
      "23\n",
      "24\n",
      "25\n",
      "26\n",
      "27\n",
      "28\n",
      "29\n",
      "['0', '1', '10', '11', '12', '13', '14', '15', '16', '17', '18', '19', '2', '20', '21', '22', '23', '24', '25', '26', '27', '28', '29', '3', '4', '5', '6', '7', '8', '9']\n"
     ]
    }
   ],
   "source": [
    "#main.make_movie_only(Mainfolder)\n",
    "main.makemovieandLightfile(Mainfolder)\n",
    "main.save_trial_n(Mainfolder)"
   ]
  },
  {
   "cell_type": "code",
   "execution_count": 19,
   "metadata": {},
   "outputs": [],
   "source": [
    "import deeplabcut\n",
    "## https://github.com/AlexEMG/DeepLabCut"
   ]
  },
  {
   "cell_type": "code",
   "execution_count": 20,
   "metadata": {},
   "outputs": [
    {
     "name": "stdout",
     "output_type": "stream",
     "text": [
      "\\\\dk-server.dk.ucsd.edu\\afassihizakeri\\Leftsidemovies\\ar41motor\\2022_07_28\\90.avi\n",
      "Using snapshot-271000 for model \\\\dk-server.dk.ucsd.edu\\afassihizakeri\\DLC\\SideviewLeft_Feb2022-Arash-2022-02-08\\dlc-models\\iteration-0\\SideviewLeft_Feb2022Feb8-trainset95shuffle1\n"
     ]
    },
    {
     "name": "stderr",
     "output_type": "stream",
     "text": [
      "C:\\Users\\dklab\\anaconda3\\envs\\DEEPLABCUT\\lib\\site-packages\\tensorflow\\python\\keras\\engine\\base_layer_v1.py:1694: UserWarning: `layer.apply` is deprecated and will be removed in a future version. Please use `layer.__call__` method instead.\n",
      "  warnings.warn('`layer.apply` is deprecated and '\n"
     ]
    },
    {
     "name": "stdout",
     "output_type": "stream",
     "text": [
      "Starting to analyze %  \\\\dk-server.dk.ucsd.edu\\afassihizakeri\\Leftsidemovies\\ar41motor\\2022_07_28\\238.avi\n",
      "Loading  \\\\dk-server.dk.ucsd.edu\\afassihizakeri\\Leftsidemovies\\ar41motor\\2022_07_28\\238.avi\n",
      "Duration of video [s]:  10.0 , recorded with  40.0 fps!\n",
      "Overall # of frames:  400  found with (before cropping) frame dimensions:  800 550\n",
      "Starting to extract posture\n"
     ]
    },
    {
     "name": "stderr",
     "output_type": "stream",
     "text": [
      "410it [00:27, 15.03it/s]                                                                                               \n"
     ]
    },
    {
     "name": "stdout",
     "output_type": "stream",
     "text": [
      "Saving results in \\\\dk-server.dk.ucsd.edu\\afassihizakeri\\Leftsidemovies\\ar41motor\\2022_07_28...\n",
      "Saving csv poses!\n",
      "Starting to analyze %  \\\\dk-server.dk.ucsd.edu\\afassihizakeri\\Leftsidemovies\\ar41motor\\2022_07_28\\90.avi\n",
      "Loading  \\\\dk-server.dk.ucsd.edu\\afassihizakeri\\Leftsidemovies\\ar41motor\\2022_07_28\\90.avi\n",
      "Duration of video [s]:  10.0 , recorded with  40.0 fps!\n",
      "Overall # of frames:  400  found with (before cropping) frame dimensions:  800 550\n",
      "Starting to extract posture\n"
     ]
    },
    {
     "name": "stderr",
     "output_type": "stream",
     "text": [
      "410it [00:23, 17.63it/s]                                                                                               \n"
     ]
    },
    {
     "name": "stdout",
     "output_type": "stream",
     "text": [
      "Saving results in \\\\dk-server.dk.ucsd.edu\\afassihizakeri\\Leftsidemovies\\ar41motor\\2022_07_28...\n",
      "Saving csv poses!\n",
      "Starting to analyze %  \\\\dk-server.dk.ucsd.edu\\afassihizakeri\\Leftsidemovies\\ar41motor\\2022_07_28\\41.avi\n",
      "Loading  \\\\dk-server.dk.ucsd.edu\\afassihizakeri\\Leftsidemovies\\ar41motor\\2022_07_28\\41.avi\n",
      "Duration of video [s]:  10.0 , recorded with  40.0 fps!\n",
      "Overall # of frames:  400  found with (before cropping) frame dimensions:  800 550\n",
      "Starting to extract posture\n"
     ]
    },
    {
     "name": "stderr",
     "output_type": "stream",
     "text": [
      "410it [00:23, 17.57it/s]                                                                                               \n"
     ]
    },
    {
     "name": "stdout",
     "output_type": "stream",
     "text": [
      "Saving results in \\\\dk-server.dk.ucsd.edu\\afassihizakeri\\Leftsidemovies\\ar41motor\\2022_07_28...\n",
      "Saving csv poses!\n",
      "Starting to analyze %  \\\\dk-server.dk.ucsd.edu\\afassihizakeri\\Leftsidemovies\\ar41motor\\2022_07_28\\182.avi\n",
      "Loading  \\\\dk-server.dk.ucsd.edu\\afassihizakeri\\Leftsidemovies\\ar41motor\\2022_07_28\\182.avi\n",
      "Duration of video [s]:  10.0 , recorded with  40.0 fps!\n",
      "Overall # of frames:  400  found with (before cropping) frame dimensions:  800 550\n",
      "Starting to extract posture\n"
     ]
    },
    {
     "name": "stderr",
     "output_type": "stream",
     "text": [
      "410it [00:23, 17.57it/s]                                                                                               \n"
     ]
    },
    {
     "name": "stdout",
     "output_type": "stream",
     "text": [
      "Saving results in \\\\dk-server.dk.ucsd.edu\\afassihizakeri\\Leftsidemovies\\ar41motor\\2022_07_28...\n",
      "Saving csv poses!\n",
      "Starting to analyze %  \\\\dk-server.dk.ucsd.edu\\afassihizakeri\\Leftsidemovies\\ar41motor\\2022_07_28\\244.avi\n",
      "Loading  \\\\dk-server.dk.ucsd.edu\\afassihizakeri\\Leftsidemovies\\ar41motor\\2022_07_28\\244.avi\n",
      "Duration of video [s]:  10.0 , recorded with  40.0 fps!\n",
      "Overall # of frames:  400  found with (before cropping) frame dimensions:  800 550\n",
      "Starting to extract posture\n"
     ]
    },
    {
     "name": "stderr",
     "output_type": "stream",
     "text": [
      "410it [00:23, 17.59it/s]                                                                                               \n"
     ]
    },
    {
     "name": "stdout",
     "output_type": "stream",
     "text": [
      "Saving results in \\\\dk-server.dk.ucsd.edu\\afassihizakeri\\Leftsidemovies\\ar41motor\\2022_07_28...\n",
      "Saving csv poses!\n",
      "Starting to analyze %  \\\\dk-server.dk.ucsd.edu\\afassihizakeri\\Leftsidemovies\\ar41motor\\2022_07_28\\153.avi\n",
      "Loading  \\\\dk-server.dk.ucsd.edu\\afassihizakeri\\Leftsidemovies\\ar41motor\\2022_07_28\\153.avi\n",
      "Duration of video [s]:  10.0 , recorded with  40.0 fps!\n",
      "Overall # of frames:  400  found with (before cropping) frame dimensions:  800 550\n",
      "Starting to extract posture\n"
     ]
    },
    {
     "name": "stderr",
     "output_type": "stream",
     "text": [
      "410it [00:23, 17.61it/s]                                                                                               \n"
     ]
    },
    {
     "name": "stdout",
     "output_type": "stream",
     "text": [
      "Saving results in \\\\dk-server.dk.ucsd.edu\\afassihizakeri\\Leftsidemovies\\ar41motor\\2022_07_28...\n",
      "Saving csv poses!\n",
      "Starting to analyze %  \\\\dk-server.dk.ucsd.edu\\afassihizakeri\\Leftsidemovies\\ar41motor\\2022_07_28\\185.avi\n",
      "Loading  \\\\dk-server.dk.ucsd.edu\\afassihizakeri\\Leftsidemovies\\ar41motor\\2022_07_28\\185.avi\n",
      "Duration of video [s]:  10.0 , recorded with  40.0 fps!\n",
      "Overall # of frames:  400  found with (before cropping) frame dimensions:  800 550\n",
      "Starting to extract posture\n"
     ]
    },
    {
     "name": "stderr",
     "output_type": "stream",
     "text": [
      "410it [00:23, 17.61it/s]                                                                                               \n"
     ]
    },
    {
     "name": "stdout",
     "output_type": "stream",
     "text": [
      "Saving results in \\\\dk-server.dk.ucsd.edu\\afassihizakeri\\Leftsidemovies\\ar41motor\\2022_07_28...\n",
      "Saving csv poses!\n",
      "Starting to analyze %  \\\\dk-server.dk.ucsd.edu\\afassihizakeri\\Leftsidemovies\\ar41motor\\2022_07_28\\243.avi\n",
      "Loading  \\\\dk-server.dk.ucsd.edu\\afassihizakeri\\Leftsidemovies\\ar41motor\\2022_07_28\\243.avi\n",
      "Duration of video [s]:  10.0 , recorded with  40.0 fps!\n",
      "Overall # of frames:  400  found with (before cropping) frame dimensions:  800 550\n",
      "Starting to extract posture\n"
     ]
    },
    {
     "name": "stderr",
     "output_type": "stream",
     "text": [
      "410it [00:23, 17.57it/s]                                                                                               \n"
     ]
    },
    {
     "name": "stdout",
     "output_type": "stream",
     "text": [
      "Saving results in \\\\dk-server.dk.ucsd.edu\\afassihizakeri\\Leftsidemovies\\ar41motor\\2022_07_28...\n",
      "Saving csv poses!\n",
      "Starting to analyze %  \\\\dk-server.dk.ucsd.edu\\afassihizakeri\\Leftsidemovies\\ar41motor\\2022_07_28\\154.avi\n",
      "Loading  \\\\dk-server.dk.ucsd.edu\\afassihizakeri\\Leftsidemovies\\ar41motor\\2022_07_28\\154.avi\n",
      "Duration of video [s]:  10.0 , recorded with  40.0 fps!\n",
      "Overall # of frames:  400  found with (before cropping) frame dimensions:  800 550\n",
      "Starting to extract posture\n"
     ]
    },
    {
     "name": "stderr",
     "output_type": "stream",
     "text": [
      "410it [00:23, 17.55it/s]                                                                                               \n"
     ]
    },
    {
     "name": "stdout",
     "output_type": "stream",
     "text": [
      "Saving results in \\\\dk-server.dk.ucsd.edu\\afassihizakeri\\Leftsidemovies\\ar41motor\\2022_07_28...\n",
      "Saving csv poses!\n",
      "Starting to analyze %  \\\\dk-server.dk.ucsd.edu\\afassihizakeri\\Leftsidemovies\\ar41motor\\2022_07_28\\97.avi\n",
      "Loading  \\\\dk-server.dk.ucsd.edu\\afassihizakeri\\Leftsidemovies\\ar41motor\\2022_07_28\\97.avi\n",
      "Duration of video [s]:  10.0 , recorded with  40.0 fps!\n",
      "Overall # of frames:  400  found with (before cropping) frame dimensions:  800 550\n",
      "Starting to extract posture\n"
     ]
    },
    {
     "name": "stderr",
     "output_type": "stream",
     "text": [
      "410it [00:23, 17.59it/s]                                                                                               \n"
     ]
    },
    {
     "name": "stdout",
     "output_type": "stream",
     "text": [
      "Saving results in \\\\dk-server.dk.ucsd.edu\\afassihizakeri\\Leftsidemovies\\ar41motor\\2022_07_28...\n",
      "Saving csv poses!\n",
      "Starting to analyze %  \\\\dk-server.dk.ucsd.edu\\afassihizakeri\\Leftsidemovies\\ar41motor\\2022_07_28\\46.avi\n",
      "Loading  \\\\dk-server.dk.ucsd.edu\\afassihizakeri\\Leftsidemovies\\ar41motor\\2022_07_28\\46.avi\n",
      "Duration of video [s]:  10.0 , recorded with  40.0 fps!\n",
      "Overall # of frames:  400  found with (before cropping) frame dimensions:  800 550\n",
      "Starting to extract posture\n"
     ]
    },
    {
     "name": "stderr",
     "output_type": "stream",
     "text": [
      "410it [00:23, 17.58it/s]                                                                                               \n"
     ]
    },
    {
     "name": "stdout",
     "output_type": "stream",
     "text": [
      "Saving results in \\\\dk-server.dk.ucsd.edu\\afassihizakeri\\Leftsidemovies\\ar41motor\\2022_07_28...\n",
      "Saving csv poses!\n",
      "Starting to analyze %  \\\\dk-server.dk.ucsd.edu\\afassihizakeri\\Leftsidemovies\\ar41motor\\2022_07_28\\128.avi\n",
      "Loading  \\\\dk-server.dk.ucsd.edu\\afassihizakeri\\Leftsidemovies\\ar41motor\\2022_07_28\\128.avi\n",
      "Duration of video [s]:  10.0 , recorded with  40.0 fps!\n",
      "Overall # of frames:  400  found with (before cropping) frame dimensions:  800 550\n",
      "Starting to extract posture\n"
     ]
    },
    {
     "name": "stderr",
     "output_type": "stream",
     "text": [
      "410it [00:23, 17.58it/s]                                                                                               \n"
     ]
    },
    {
     "name": "stdout",
     "output_type": "stream",
     "text": [
      "Saving results in \\\\dk-server.dk.ucsd.edu\\afassihizakeri\\Leftsidemovies\\ar41motor\\2022_07_28...\n",
      "Saving csv poses!\n",
      "Starting to analyze %  \\\\dk-server.dk.ucsd.edu\\afassihizakeri\\Leftsidemovies\\ar41motor\\2022_07_28\\34.avi\n",
      "Loading  \\\\dk-server.dk.ucsd.edu\\afassihizakeri\\Leftsidemovies\\ar41motor\\2022_07_28\\34.avi\n",
      "Duration of video [s]:  10.0 , recorded with  40.0 fps!\n",
      "Overall # of frames:  400  found with (before cropping) frame dimensions:  800 550\n",
      "Starting to extract posture\n"
     ]
    },
    {
     "name": "stderr",
     "output_type": "stream",
     "text": [
      "410it [00:23, 17.59it/s]                                                                                               \n"
     ]
    },
    {
     "name": "stdout",
     "output_type": "stream",
     "text": [
      "Saving results in \\\\dk-server.dk.ucsd.edu\\afassihizakeri\\Leftsidemovies\\ar41motor\\2022_07_28...\n",
      "Saving csv poses!\n",
      "Starting to analyze %  \\\\dk-server.dk.ucsd.edu\\afassihizakeri\\Leftsidemovies\\ar41motor\\2022_07_28\\231.avi\n",
      "Loading  \\\\dk-server.dk.ucsd.edu\\afassihizakeri\\Leftsidemovies\\ar41motor\\2022_07_28\\231.avi\n",
      "Duration of video [s]:  10.0 , recorded with  40.0 fps!\n",
      "Overall # of frames:  400  found with (before cropping) frame dimensions:  800 550\n",
      "Starting to extract posture\n"
     ]
    },
    {
     "name": "stderr",
     "output_type": "stream",
     "text": [
      "410it [00:23, 17.55it/s]                                                                                               \n"
     ]
    },
    {
     "name": "stdout",
     "output_type": "stream",
     "text": [
      "Saving results in \\\\dk-server.dk.ucsd.edu\\afassihizakeri\\Leftsidemovies\\ar41motor\\2022_07_28...\n",
      "Saving csv poses!\n",
      "Starting to analyze %  \\\\dk-server.dk.ucsd.edu\\afassihizakeri\\Leftsidemovies\\ar41motor\\2022_07_28\\99.avi\n",
      "Loading  \\\\dk-server.dk.ucsd.edu\\afassihizakeri\\Leftsidemovies\\ar41motor\\2022_07_28\\99.avi\n",
      "Duration of video [s]:  10.0 , recorded with  40.0 fps!\n",
      "Overall # of frames:  400  found with (before cropping) frame dimensions:  800 550\n",
      "Starting to extract posture\n"
     ]
    },
    {
     "name": "stderr",
     "output_type": "stream",
     "text": [
      "410it [00:23, 17.60it/s]                                                                                               \n"
     ]
    },
    {
     "name": "stdout",
     "output_type": "stream",
     "text": [
      "Saving results in \\\\dk-server.dk.ucsd.edu\\afassihizakeri\\Leftsidemovies\\ar41motor\\2022_07_28...\n",
      "Saving csv poses!\n",
      "Starting to analyze %  \\\\dk-server.dk.ucsd.edu\\afassihizakeri\\Leftsidemovies\\ar41motor\\2022_07_28\\48.avi\n",
      "Loading  \\\\dk-server.dk.ucsd.edu\\afassihizakeri\\Leftsidemovies\\ar41motor\\2022_07_28\\48.avi\n",
      "Duration of video [s]:  10.0 , recorded with  40.0 fps!\n",
      "Overall # of frames:  400  found with (before cropping) frame dimensions:  800 550\n",
      "Starting to extract posture\n"
     ]
    },
    {
     "name": "stderr",
     "output_type": "stream",
     "text": [
      "410it [00:23, 17.56it/s]                                                                                               \n"
     ]
    },
    {
     "name": "stdout",
     "output_type": "stream",
     "text": [
      "Saving results in \\\\dk-server.dk.ucsd.edu\\afassihizakeri\\Leftsidemovies\\ar41motor\\2022_07_28...\n",
      "Saving csv poses!\n",
      "Starting to analyze %  \\\\dk-server.dk.ucsd.edu\\afassihizakeri\\Leftsidemovies\\ar41motor\\2022_07_28\\126.avi\n",
      "Loading  \\\\dk-server.dk.ucsd.edu\\afassihizakeri\\Leftsidemovies\\ar41motor\\2022_07_28\\126.avi\n",
      "Duration of video [s]:  10.0 , recorded with  40.0 fps!\n",
      "Overall # of frames:  400  found with (before cropping) frame dimensions:  800 550\n",
      "Starting to extract posture\n"
     ]
    },
    {
     "name": "stderr",
     "output_type": "stream",
     "text": [
      "410it [00:23, 17.60it/s]                                                                                               \n"
     ]
    },
    {
     "name": "stdout",
     "output_type": "stream",
     "text": [
      "Saving results in \\\\dk-server.dk.ucsd.edu\\afassihizakeri\\Leftsidemovies\\ar41motor\\2022_07_28...\n",
      "Saving csv poses!\n",
      "Starting to analyze %  \\\\dk-server.dk.ucsd.edu\\afassihizakeri\\Leftsidemovies\\ar41motor\\2022_07_28\\236.avi\n",
      "Loading  \\\\dk-server.dk.ucsd.edu\\afassihizakeri\\Leftsidemovies\\ar41motor\\2022_07_28\\236.avi\n",
      "Duration of video [s]:  10.0 , recorded with  40.0 fps!\n",
      "Overall # of frames:  400  found with (before cropping) frame dimensions:  800 550\n",
      "Starting to extract posture\n"
     ]
    },
    {
     "name": "stderr",
     "output_type": "stream",
     "text": [
      "410it [00:23, 17.60it/s]                                                                                               \n"
     ]
    },
    {
     "name": "stdout",
     "output_type": "stream",
     "text": [
      "Saving results in \\\\dk-server.dk.ucsd.edu\\afassihizakeri\\Leftsidemovies\\ar41motor\\2022_07_28...\n",
      "Saving csv poses!\n",
      "Starting to analyze %  \\\\dk-server.dk.ucsd.edu\\afassihizakeri\\Leftsidemovies\\ar41motor\\2022_07_28\\121.avi\n",
      "Loading  \\\\dk-server.dk.ucsd.edu\\afassihizakeri\\Leftsidemovies\\ar41motor\\2022_07_28\\121.avi\n",
      "Duration of video [s]:  10.0 , recorded with  40.0 fps!\n",
      "Overall # of frames:  400  found with (before cropping) frame dimensions:  800 550\n",
      "Starting to extract posture\n"
     ]
    },
    {
     "name": "stderr",
     "output_type": "stream",
     "text": [
      "410it [00:23, 17.53it/s]                                                                                               \n"
     ]
    },
    {
     "name": "stdout",
     "output_type": "stream",
     "text": [
      "Saving results in \\\\dk-server.dk.ucsd.edu\\afassihizakeri\\Leftsidemovies\\ar41motor\\2022_07_28...\n",
      "Saving csv poses!\n",
      "Starting to analyze %  \\\\dk-server.dk.ucsd.edu\\afassihizakeri\\Leftsidemovies\\ar41motor\\2022_07_28\\33.avi\n",
      "Loading  \\\\dk-server.dk.ucsd.edu\\afassihizakeri\\Leftsidemovies\\ar41motor\\2022_07_28\\33.avi\n",
      "Duration of video [s]:  10.0 , recorded with  40.0 fps!\n",
      "Overall # of frames:  400  found with (before cropping) frame dimensions:  800 550\n",
      "Starting to extract posture\n"
     ]
    },
    {
     "name": "stderr",
     "output_type": "stream",
     "text": [
      "410it [00:23, 17.60it/s]                                                                                               \n"
     ]
    },
    {
     "name": "stdout",
     "output_type": "stream",
     "text": [
      "Saving results in \\\\dk-server.dk.ucsd.edu\\afassihizakeri\\Leftsidemovies\\ar41motor\\2022_07_28...\n",
      "Saving csv poses!\n",
      "Starting to analyze %  \\\\dk-server.dk.ucsd.edu\\afassihizakeri\\Leftsidemovies\\ar41motor\\2022_07_28\\114.avi\n",
      "Loading  \\\\dk-server.dk.ucsd.edu\\afassihizakeri\\Leftsidemovies\\ar41motor\\2022_07_28\\114.avi\n",
      "Duration of video [s]:  10.0 , recorded with  40.0 fps!\n",
      "Overall # of frames:  400  found with (before cropping) frame dimensions:  800 550\n",
      "Starting to extract posture\n"
     ]
    },
    {
     "name": "stderr",
     "output_type": "stream",
     "text": [
      "410it [00:23, 17.56it/s]                                                                                               \n"
     ]
    },
    {
     "name": "stdout",
     "output_type": "stream",
     "text": [
      "Saving results in \\\\dk-server.dk.ucsd.edu\\afassihizakeri\\Leftsidemovies\\ar41motor\\2022_07_28...\n",
      "Saving csv poses!\n",
      "Starting to analyze %  \\\\dk-server.dk.ucsd.edu\\afassihizakeri\\Leftsidemovies\\ar41motor\\2022_07_28\\203.avi\n",
      "Loading  \\\\dk-server.dk.ucsd.edu\\afassihizakeri\\Leftsidemovies\\ar41motor\\2022_07_28\\203.avi\n",
      "Duration of video [s]:  10.0 , recorded with  40.0 fps!\n",
      "Overall # of frames:  400  found with (before cropping) frame dimensions:  800 550\n",
      "Starting to extract posture\n"
     ]
    },
    {
     "name": "stderr",
     "output_type": "stream",
     "text": [
      "410it [00:23, 17.60it/s]                                                                                               \n"
     ]
    },
    {
     "name": "stdout",
     "output_type": "stream",
     "text": [
      "Saving results in \\\\dk-server.dk.ucsd.edu\\afassihizakeri\\Leftsidemovies\\ar41motor\\2022_07_28...\n",
      "Saving csv poses!\n",
      "Starting to analyze %  \\\\dk-server.dk.ucsd.edu\\afassihizakeri\\Leftsidemovies\\ar41motor\\2022_07_28\\168.avi\n",
      "Loading  \\\\dk-server.dk.ucsd.edu\\afassihizakeri\\Leftsidemovies\\ar41motor\\2022_07_28\\168.avi\n",
      "Duration of video [s]:  10.0 , recorded with  40.0 fps!\n",
      "Overall # of frames:  400  found with (before cropping) frame dimensions:  800 550\n",
      "Starting to extract posture\n"
     ]
    },
    {
     "name": "stderr",
     "output_type": "stream",
     "text": [
      "410it [00:23, 17.30it/s]                                                                                               \n"
     ]
    },
    {
     "name": "stdout",
     "output_type": "stream",
     "text": [
      "Saving results in \\\\dk-server.dk.ucsd.edu\\afassihizakeri\\Leftsidemovies\\ar41motor\\2022_07_28...\n",
      "Saving csv poses!\n",
      "Starting to analyze %  \\\\dk-server.dk.ucsd.edu\\afassihizakeri\\Leftsidemovies\\ar41motor\\2022_07_28\\113.avi\n",
      "Loading  \\\\dk-server.dk.ucsd.edu\\afassihizakeri\\Leftsidemovies\\ar41motor\\2022_07_28\\113.avi\n",
      "Duration of video [s]:  10.0 , recorded with  40.0 fps!\n",
      "Overall # of frames:  400  found with (before cropping) frame dimensions:  800 550\n",
      "Starting to extract posture\n"
     ]
    },
    {
     "name": "stderr",
     "output_type": "stream",
     "text": [
      "410it [00:23, 17.54it/s]                                                                                               \n"
     ]
    },
    {
     "name": "stdout",
     "output_type": "stream",
     "text": [
      "Saving results in \\\\dk-server.dk.ucsd.edu\\afassihizakeri\\Leftsidemovies\\ar41motor\\2022_07_28...\n",
      "Saving csv poses!\n",
      "Starting to analyze %  \\\\dk-server.dk.ucsd.edu\\afassihizakeri\\Leftsidemovies\\ar41motor\\2022_07_28\\204.avi\n",
      "Loading  \\\\dk-server.dk.ucsd.edu\\afassihizakeri\\Leftsidemovies\\ar41motor\\2022_07_28\\204.avi\n",
      "Duration of video [s]:  10.0 , recorded with  40.0 fps!\n",
      "Overall # of frames:  400  found with (before cropping) frame dimensions:  800 550\n",
      "Starting to extract posture\n"
     ]
    },
    {
     "name": "stderr",
     "output_type": "stream",
     "text": [
      "410it [00:23, 17.59it/s]                                                                                               \n"
     ]
    },
    {
     "name": "stdout",
     "output_type": "stream",
     "text": [
      "Saving results in \\\\dk-server.dk.ucsd.edu\\afassihizakeri\\Leftsidemovies\\ar41motor\\2022_07_28...\n",
      "Saving csv poses!\n",
      "Starting to analyze %  \\\\dk-server.dk.ucsd.edu\\afassihizakeri\\Leftsidemovies\\ar41motor\\2022_07_28\\161.avi\n",
      "Loading  \\\\dk-server.dk.ucsd.edu\\afassihizakeri\\Leftsidemovies\\ar41motor\\2022_07_28\\161.avi\n",
      "Duration of video [s]:  10.0 , recorded with  40.0 fps!\n",
      "Overall # of frames:  400  found with (before cropping) frame dimensions:  800 550\n",
      "Starting to extract posture\n"
     ]
    },
    {
     "name": "stderr",
     "output_type": "stream",
     "text": [
      "410it [00:23, 17.58it/s]                                                                                               \n"
     ]
    },
    {
     "name": "stdout",
     "output_type": "stream",
     "text": [
      "Saving results in \\\\dk-server.dk.ucsd.edu\\afassihizakeri\\Leftsidemovies\\ar41motor\\2022_07_28...\n",
      "Saving csv poses!\n",
      "Starting to analyze %  \\\\dk-server.dk.ucsd.edu\\afassihizakeri\\Leftsidemovies\\ar41motor\\2022_07_28\\73.avi\n",
      "Loading  \\\\dk-server.dk.ucsd.edu\\afassihizakeri\\Leftsidemovies\\ar41motor\\2022_07_28\\73.avi\n",
      "Duration of video [s]:  10.0 , recorded with  40.0 fps!\n",
      "Overall # of frames:  400  found with (before cropping) frame dimensions:  800 550\n",
      "Starting to extract posture\n"
     ]
    },
    {
     "name": "stderr",
     "output_type": "stream",
     "text": [
      "410it [00:23, 17.59it/s]                                                                                               \n"
     ]
    },
    {
     "name": "stdout",
     "output_type": "stream",
     "text": [
      "Saving results in \\\\dk-server.dk.ucsd.edu\\afassihizakeri\\Leftsidemovies\\ar41motor\\2022_07_28...\n",
      "Saving csv poses!\n",
      "Starting to analyze %  \\\\dk-server.dk.ucsd.edu\\afassihizakeri\\Leftsidemovies\\ar41motor\\2022_07_28\\74.avi\n",
      "Loading  \\\\dk-server.dk.ucsd.edu\\afassihizakeri\\Leftsidemovies\\ar41motor\\2022_07_28\\74.avi\n",
      "Duration of video [s]:  10.0 , recorded with  40.0 fps!\n",
      "Overall # of frames:  400  found with (before cropping) frame dimensions:  800 550\n",
      "Starting to extract posture\n"
     ]
    },
    {
     "name": "stderr",
     "output_type": "stream",
     "text": [
      "410it [00:23, 17.55it/s]                                                                                               \n"
     ]
    },
    {
     "name": "stdout",
     "output_type": "stream",
     "text": [
      "Saving results in \\\\dk-server.dk.ucsd.edu\\afassihizakeri\\Leftsidemovies\\ar41motor\\2022_07_28...\n",
      "Saving csv poses!\n",
      "Starting to analyze %  \\\\dk-server.dk.ucsd.edu\\afassihizakeri\\Leftsidemovies\\ar41motor\\2022_07_28\\166.avi\n",
      "Loading  \\\\dk-server.dk.ucsd.edu\\afassihizakeri\\Leftsidemovies\\ar41motor\\2022_07_28\\166.avi\n",
      "Duration of video [s]:  10.0 , recorded with  40.0 fps!\n",
      "Overall # of frames:  400  found with (before cropping) frame dimensions:  800 550\n",
      "Starting to extract posture\n"
     ]
    },
    {
     "name": "stderr",
     "output_type": "stream",
     "text": [
      "410it [00:23, 17.52it/s]                                                                                               \n"
     ]
    },
    {
     "name": "stdout",
     "output_type": "stream",
     "text": [
      "Saving results in \\\\dk-server.dk.ucsd.edu\\afassihizakeri\\Leftsidemovies\\ar41motor\\2022_07_28...\n",
      "Saving csv poses!\n",
      "Starting to analyze %  \\\\dk-server.dk.ucsd.edu\\afassihizakeri\\Leftsidemovies\\ar41motor\\2022_07_28\\65.avi\n",
      "Loading  \\\\dk-server.dk.ucsd.edu\\afassihizakeri\\Leftsidemovies\\ar41motor\\2022_07_28\\65.avi\n",
      "Duration of video [s]:  10.0 , recorded with  40.0 fps!\n",
      "Overall # of frames:  400  found with (before cropping) frame dimensions:  800 550\n",
      "Starting to extract posture\n"
     ]
    },
    {
     "name": "stderr",
     "output_type": "stream",
     "text": [
      "410it [00:23, 17.55it/s]                                                                                               \n"
     ]
    },
    {
     "name": "stdout",
     "output_type": "stream",
     "text": [
      "Saving results in \\\\dk-server.dk.ucsd.edu\\afassihizakeri\\Leftsidemovies\\ar41motor\\2022_07_28...\n",
      "Saving csv poses!\n",
      "Starting to analyze %  \\\\dk-server.dk.ucsd.edu\\afassihizakeri\\Leftsidemovies\\ar41motor\\2022_07_28\\260.avi\n",
      "Loading  \\\\dk-server.dk.ucsd.edu\\afassihizakeri\\Leftsidemovies\\ar41motor\\2022_07_28\\260.avi\n",
      "Duration of video [s]:  10.0 , recorded with  40.0 fps!\n",
      "Overall # of frames:  400  found with (before cropping) frame dimensions:  800 550\n",
      "Starting to extract posture\n"
     ]
    },
    {
     "name": "stderr",
     "output_type": "stream",
     "text": [
      "410it [00:23, 17.52it/s]                                                                                               \n"
     ]
    },
    {
     "name": "stdout",
     "output_type": "stream",
     "text": [
      "Saving results in \\\\dk-server.dk.ucsd.edu\\afassihizakeri\\Leftsidemovies\\ar41motor\\2022_07_28...\n",
      "Saving csv poses!\n",
      "Starting to analyze %  \\\\dk-server.dk.ucsd.edu\\afassihizakeri\\Leftsidemovies\\ar41motor\\2022_07_28\\177.avi\n",
      "Loading  \\\\dk-server.dk.ucsd.edu\\afassihizakeri\\Leftsidemovies\\ar41motor\\2022_07_28\\177.avi\n",
      "Duration of video [s]:  10.0 , recorded with  40.0 fps!\n",
      "Overall # of frames:  400  found with (before cropping) frame dimensions:  800 550\n",
      "Starting to extract posture\n"
     ]
    },
    {
     "name": "stderr",
     "output_type": "stream",
     "text": [
      "410it [00:23, 17.56it/s]                                                                                               \n"
     ]
    },
    {
     "name": "stdout",
     "output_type": "stream",
     "text": [
      "Saving results in \\\\dk-server.dk.ucsd.edu\\afassihizakeri\\Leftsidemovies\\ar41motor\\2022_07_28...\n",
      "Saving csv poses!\n",
      "Starting to analyze %  \\\\dk-server.dk.ucsd.edu\\afassihizakeri\\Leftsidemovies\\ar41motor\\2022_07_28\\19.avi\n",
      "Loading  \\\\dk-server.dk.ucsd.edu\\afassihizakeri\\Leftsidemovies\\ar41motor\\2022_07_28\\19.avi\n",
      "Duration of video [s]:  10.0 , recorded with  40.0 fps!\n",
      "Overall # of frames:  400  found with (before cropping) frame dimensions:  800 550\n",
      "Starting to extract posture\n"
     ]
    },
    {
     "name": "stderr",
     "output_type": "stream",
     "text": [
      "410it [00:23, 17.58it/s]                                                                                               \n"
     ]
    },
    {
     "name": "stdout",
     "output_type": "stream",
     "text": [
      "Saving results in \\\\dk-server.dk.ucsd.edu\\afassihizakeri\\Leftsidemovies\\ar41motor\\2022_07_28...\n",
      "Saving csv poses!\n",
      "Starting to analyze %  \\\\dk-server.dk.ucsd.edu\\afassihizakeri\\Leftsidemovies\\ar41motor\\2022_07_28\\170.avi\n",
      "Loading  \\\\dk-server.dk.ucsd.edu\\afassihizakeri\\Leftsidemovies\\ar41motor\\2022_07_28\\170.avi\n",
      "Duration of video [s]:  10.0 , recorded with  40.0 fps!\n",
      "Overall # of frames:  400  found with (before cropping) frame dimensions:  800 550\n",
      "Starting to extract posture\n"
     ]
    },
    {
     "name": "stderr",
     "output_type": "stream",
     "text": [
      "410it [00:23, 17.56it/s]                                                                                               \n"
     ]
    },
    {
     "name": "stdout",
     "output_type": "stream",
     "text": [
      "Saving results in \\\\dk-server.dk.ucsd.edu\\afassihizakeri\\Leftsidemovies\\ar41motor\\2022_07_28...\n",
      "Saving csv poses!\n",
      "Starting to analyze %  \\\\dk-server.dk.ucsd.edu\\afassihizakeri\\Leftsidemovies\\ar41motor\\2022_07_28\\62.avi\n",
      "Loading  \\\\dk-server.dk.ucsd.edu\\afassihizakeri\\Leftsidemovies\\ar41motor\\2022_07_28\\62.avi\n",
      "Duration of video [s]:  10.0 , recorded with  40.0 fps!\n",
      "Overall # of frames:  400  found with (before cropping) frame dimensions:  800 550\n",
      "Starting to extract posture\n"
     ]
    },
    {
     "name": "stderr",
     "output_type": "stream",
     "text": [
      "410it [00:23, 17.58it/s]                                                                                               \n"
     ]
    },
    {
     "name": "stdout",
     "output_type": "stream",
     "text": [
      "Saving results in \\\\dk-server.dk.ucsd.edu\\afassihizakeri\\Leftsidemovies\\ar41motor\\2022_07_28...\n",
      "Saving csv poses!\n",
      "Starting to analyze %  \\\\dk-server.dk.ucsd.edu\\afassihizakeri\\Leftsidemovies\\ar41motor\\2022_07_28\\2.avi\n",
      "Loading  \\\\dk-server.dk.ucsd.edu\\afassihizakeri\\Leftsidemovies\\ar41motor\\2022_07_28\\2.avi\n",
      "Duration of video [s]:  10.0 , recorded with  40.0 fps!\n",
      "Overall # of frames:  400  found with (before cropping) frame dimensions:  800 550\n",
      "Starting to extract posture\n"
     ]
    },
    {
     "name": "stderr",
     "output_type": "stream",
     "text": [
      "410it [00:23, 17.57it/s]                                                                                               \n"
     ]
    },
    {
     "name": "stdout",
     "output_type": "stream",
     "text": [
      "Saving results in \\\\dk-server.dk.ucsd.edu\\afassihizakeri\\Leftsidemovies\\ar41motor\\2022_07_28...\n",
      "Saving csv poses!\n",
      "Starting to analyze %  \\\\dk-server.dk.ucsd.edu\\afassihizakeri\\Leftsidemovies\\ar41motor\\2022_07_28\\10.avi\n",
      "Loading  \\\\dk-server.dk.ucsd.edu\\afassihizakeri\\Leftsidemovies\\ar41motor\\2022_07_28\\10.avi\n",
      "Duration of video [s]:  10.0 , recorded with  40.0 fps!\n",
      "Overall # of frames:  400  found with (before cropping) frame dimensions:  800 550\n",
      "Starting to extract posture\n"
     ]
    },
    {
     "name": "stderr",
     "output_type": "stream",
     "text": [
      "410it [00:23, 17.55it/s]                                                                                               \n"
     ]
    },
    {
     "name": "stdout",
     "output_type": "stream",
     "text": [
      "Saving results in \\\\dk-server.dk.ucsd.edu\\afassihizakeri\\Leftsidemovies\\ar41motor\\2022_07_28...\n",
      "Saving csv poses!\n",
      "Starting to analyze %  \\\\dk-server.dk.ucsd.edu\\afassihizakeri\\Leftsidemovies\\ar41motor\\2022_07_28\\215.avi\n",
      "Loading  \\\\dk-server.dk.ucsd.edu\\afassihizakeri\\Leftsidemovies\\ar41motor\\2022_07_28\\215.avi\n",
      "Duration of video [s]:  10.0 , recorded with  40.0 fps!\n",
      "Overall # of frames:  400  found with (before cropping) frame dimensions:  800 550\n",
      "Starting to extract posture\n"
     ]
    },
    {
     "name": "stderr",
     "output_type": "stream",
     "text": [
      "410it [00:23, 17.57it/s]                                                                                               \n"
     ]
    },
    {
     "name": "stdout",
     "output_type": "stream",
     "text": [
      "Saving results in \\\\dk-server.dk.ucsd.edu\\afassihizakeri\\Leftsidemovies\\ar41motor\\2022_07_28...\n",
      "Saving csv poses!\n",
      "Starting to analyze %  \\\\dk-server.dk.ucsd.edu\\afassihizakeri\\Leftsidemovies\\ar41motor\\2022_07_28\\102.avi\n",
      "Loading  \\\\dk-server.dk.ucsd.edu\\afassihizakeri\\Leftsidemovies\\ar41motor\\2022_07_28\\102.avi\n",
      "Duration of video [s]:  10.0 , recorded with  40.0 fps!\n",
      "Overall # of frames:  400  found with (before cropping) frame dimensions:  800 550\n",
      "Starting to extract posture\n"
     ]
    },
    {
     "name": "stderr",
     "output_type": "stream",
     "text": [
      "410it [00:23, 17.56it/s]                                                                                               \n"
     ]
    },
    {
     "name": "stdout",
     "output_type": "stream",
     "text": [
      "Saving results in \\\\dk-server.dk.ucsd.edu\\afassihizakeri\\Leftsidemovies\\ar41motor\\2022_07_28...\n",
      "Saving csv poses!\n",
      "Starting to analyze %  \\\\dk-server.dk.ucsd.edu\\afassihizakeri\\Leftsidemovies\\ar41motor\\2022_07_28\\212.avi\n",
      "Loading  \\\\dk-server.dk.ucsd.edu\\afassihizakeri\\Leftsidemovies\\ar41motor\\2022_07_28\\212.avi\n",
      "Duration of video [s]:  10.0 , recorded with  40.0 fps!\n",
      "Overall # of frames:  400  found with (before cropping) frame dimensions:  800 550\n",
      "Starting to extract posture\n"
     ]
    },
    {
     "name": "stderr",
     "output_type": "stream",
     "text": [
      "410it [00:23, 17.55it/s]                                                                                               \n"
     ]
    },
    {
     "name": "stdout",
     "output_type": "stream",
     "text": [
      "Saving results in \\\\dk-server.dk.ucsd.edu\\afassihizakeri\\Leftsidemovies\\ar41motor\\2022_07_28...\n",
      "Saving csv poses!\n",
      "Starting to analyze %  \\\\dk-server.dk.ucsd.edu\\afassihizakeri\\Leftsidemovies\\ar41motor\\2022_07_28\\105.avi\n",
      "Loading  \\\\dk-server.dk.ucsd.edu\\afassihizakeri\\Leftsidemovies\\ar41motor\\2022_07_28\\105.avi\n",
      "Duration of video [s]:  10.0 , recorded with  40.0 fps!\n",
      "Overall # of frames:  400  found with (before cropping) frame dimensions:  800 550\n",
      "Starting to extract posture\n"
     ]
    },
    {
     "name": "stderr",
     "output_type": "stream",
     "text": [
      "410it [00:23, 17.54it/s]                                                                                               \n"
     ]
    },
    {
     "name": "stdout",
     "output_type": "stream",
     "text": [
      "Saving results in \\\\dk-server.dk.ucsd.edu\\afassihizakeri\\Leftsidemovies\\ar41motor\\2022_07_28...\n",
      "Saving csv poses!\n",
      "Starting to analyze %  \\\\dk-server.dk.ucsd.edu\\afassihizakeri\\Leftsidemovies\\ar41motor\\2022_07_28\\5.avi\n",
      "Loading  \\\\dk-server.dk.ucsd.edu\\afassihizakeri\\Leftsidemovies\\ar41motor\\2022_07_28\\5.avi\n",
      "Duration of video [s]:  10.0 , recorded with  40.0 fps!\n",
      "Overall # of frames:  400  found with (before cropping) frame dimensions:  800 550\n",
      "Starting to extract posture\n"
     ]
    },
    {
     "name": "stderr",
     "output_type": "stream",
     "text": [
      "410it [00:23, 17.57it/s]                                                                                               \n"
     ]
    },
    {
     "name": "stdout",
     "output_type": "stream",
     "text": [
      "Saving results in \\\\dk-server.dk.ucsd.edu\\afassihizakeri\\Leftsidemovies\\ar41motor\\2022_07_28...\n",
      "Saving csv poses!\n",
      "Starting to analyze %  \\\\dk-server.dk.ucsd.edu\\afassihizakeri\\Leftsidemovies\\ar41motor\\2022_07_28\\179.avi\n",
      "Loading  \\\\dk-server.dk.ucsd.edu\\afassihizakeri\\Leftsidemovies\\ar41motor\\2022_07_28\\179.avi\n",
      "Duration of video [s]:  10.0 , recorded with  40.0 fps!\n",
      "Overall # of frames:  400  found with (before cropping) frame dimensions:  800 550\n",
      "Starting to extract posture\n"
     ]
    },
    {
     "name": "stderr",
     "output_type": "stream",
     "text": [
      "410it [00:23, 17.55it/s]                                                                                               \n"
     ]
    },
    {
     "name": "stdout",
     "output_type": "stream",
     "text": [
      "Saving results in \\\\dk-server.dk.ucsd.edu\\afassihizakeri\\Leftsidemovies\\ar41motor\\2022_07_28...\n",
      "Saving csv poses!\n",
      "Starting to analyze %  \\\\dk-server.dk.ucsd.edu\\afassihizakeri\\Leftsidemovies\\ar41motor\\2022_07_28\\17.avi\n",
      "Loading  \\\\dk-server.dk.ucsd.edu\\afassihizakeri\\Leftsidemovies\\ar41motor\\2022_07_28\\17.avi\n",
      "Duration of video [s]:  10.0 , recorded with  40.0 fps!\n",
      "Overall # of frames:  400  found with (before cropping) frame dimensions:  800 550\n",
      "Starting to extract posture\n"
     ]
    },
    {
     "name": "stderr",
     "output_type": "stream",
     "text": [
      "410it [00:23, 17.55it/s]                                                                                               \n"
     ]
    },
    {
     "name": "stdout",
     "output_type": "stream",
     "text": [
      "Saving results in \\\\dk-server.dk.ucsd.edu\\afassihizakeri\\Leftsidemovies\\ar41motor\\2022_07_28...\n",
      "Saving csv poses!\n",
      "Starting to analyze %  \\\\dk-server.dk.ucsd.edu\\afassihizakeri\\Leftsidemovies\\ar41motor\\2022_07_28\\130.avi\n",
      "Loading  \\\\dk-server.dk.ucsd.edu\\afassihizakeri\\Leftsidemovies\\ar41motor\\2022_07_28\\130.avi\n",
      "Duration of video [s]:  10.0 , recorded with  40.0 fps!\n",
      "Overall # of frames:  400  found with (before cropping) frame dimensions:  800 550\n",
      "Starting to extract posture\n"
     ]
    },
    {
     "name": "stderr",
     "output_type": "stream",
     "text": [
      "410it [00:23, 17.58it/s]                                                                                               \n"
     ]
    },
    {
     "name": "stdout",
     "output_type": "stream",
     "text": [
      "Saving results in \\\\dk-server.dk.ucsd.edu\\afassihizakeri\\Leftsidemovies\\ar41motor\\2022_07_28...\n",
      "Saving csv poses!\n",
      "Starting to analyze %  \\\\dk-server.dk.ucsd.edu\\afassihizakeri\\Leftsidemovies\\ar41motor\\2022_07_28\\227.avi\n",
      "Loading  \\\\dk-server.dk.ucsd.edu\\afassihizakeri\\Leftsidemovies\\ar41motor\\2022_07_28\\227.avi\n",
      "Duration of video [s]:  10.0 , recorded with  40.0 fps!\n",
      "Overall # of frames:  400  found with (before cropping) frame dimensions:  800 550\n",
      "Starting to extract posture\n"
     ]
    },
    {
     "name": "stderr",
     "output_type": "stream",
     "text": [
      "410it [00:23, 17.54it/s]                                                                                               \n"
     ]
    },
    {
     "name": "stdout",
     "output_type": "stream",
     "text": [
      "Saving results in \\\\dk-server.dk.ucsd.edu\\afassihizakeri\\Leftsidemovies\\ar41motor\\2022_07_28...\n",
      "Saving csv poses!\n",
      "Starting to analyze %  \\\\dk-server.dk.ucsd.edu\\afassihizakeri\\Leftsidemovies\\ar41motor\\2022_07_28\\22.avi\n",
      "Loading  \\\\dk-server.dk.ucsd.edu\\afassihizakeri\\Leftsidemovies\\ar41motor\\2022_07_28\\22.avi\n",
      "Duration of video [s]:  10.0 , recorded with  40.0 fps!\n",
      "Overall # of frames:  400  found with (before cropping) frame dimensions:  800 550\n",
      "Starting to extract posture\n"
     ]
    },
    {
     "name": "stderr",
     "output_type": "stream",
     "text": [
      "410it [00:23, 17.59it/s]                                                                                               \n"
     ]
    },
    {
     "name": "stdout",
     "output_type": "stream",
     "text": [
      "Saving results in \\\\dk-server.dk.ucsd.edu\\afassihizakeri\\Leftsidemovies\\ar41motor\\2022_07_28...\n",
      "Saving csv poses!\n",
      "Starting to analyze %  \\\\dk-server.dk.ucsd.edu\\afassihizakeri\\Leftsidemovies\\ar41motor\\2022_07_28\\25.avi\n",
      "Loading  \\\\dk-server.dk.ucsd.edu\\afassihizakeri\\Leftsidemovies\\ar41motor\\2022_07_28\\25.avi\n",
      "Duration of video [s]:  10.0 , recorded with  40.0 fps!\n",
      "Overall # of frames:  400  found with (before cropping) frame dimensions:  800 550\n",
      "Starting to extract posture\n"
     ]
    },
    {
     "name": "stderr",
     "output_type": "stream",
     "text": [
      "410it [00:23, 17.58it/s]                                                                                               \n"
     ]
    },
    {
     "name": "stdout",
     "output_type": "stream",
     "text": [
      "Saving results in \\\\dk-server.dk.ucsd.edu\\afassihizakeri\\Leftsidemovies\\ar41motor\\2022_07_28...\n",
      "Saving csv poses!\n",
      "Starting to analyze %  \\\\dk-server.dk.ucsd.edu\\afassihizakeri\\Leftsidemovies\\ar41motor\\2022_07_28\\59.avi\n",
      "Loading  \\\\dk-server.dk.ucsd.edu\\afassihizakeri\\Leftsidemovies\\ar41motor\\2022_07_28\\59.avi\n",
      "Duration of video [s]:  10.0 , recorded with  40.0 fps!\n",
      "Overall # of frames:  400  found with (before cropping) frame dimensions:  800 550\n",
      "Starting to extract posture\n"
     ]
    },
    {
     "name": "stderr",
     "output_type": "stream",
     "text": [
      "410it [00:23, 17.54it/s]                                                                                               \n"
     ]
    },
    {
     "name": "stdout",
     "output_type": "stream",
     "text": [
      "Saving results in \\\\dk-server.dk.ucsd.edu\\afassihizakeri\\Leftsidemovies\\ar41motor\\2022_07_28...\n",
      "Saving csv poses!\n",
      "Starting to analyze %  \\\\dk-server.dk.ucsd.edu\\afassihizakeri\\Leftsidemovies\\ar41motor\\2022_07_28\\137.avi\n",
      "Loading  \\\\dk-server.dk.ucsd.edu\\afassihizakeri\\Leftsidemovies\\ar41motor\\2022_07_28\\137.avi\n",
      "Duration of video [s]:  10.0 , recorded with  40.0 fps!\n",
      "Overall # of frames:  400  found with (before cropping) frame dimensions:  800 550\n",
      "Starting to extract posture\n"
     ]
    },
    {
     "name": "stderr",
     "output_type": "stream",
     "text": [
      "410it [00:23, 17.58it/s]                                                                                               \n"
     ]
    },
    {
     "name": "stdout",
     "output_type": "stream",
     "text": [
      "Saving results in \\\\dk-server.dk.ucsd.edu\\afassihizakeri\\Leftsidemovies\\ar41motor\\2022_07_28...\n",
      "Saving csv poses!\n",
      "Starting to analyze %  \\\\dk-server.dk.ucsd.edu\\afassihizakeri\\Leftsidemovies\\ar41motor\\2022_07_28\\220.avi\n",
      "Loading  \\\\dk-server.dk.ucsd.edu\\afassihizakeri\\Leftsidemovies\\ar41motor\\2022_07_28\\220.avi\n",
      "Duration of video [s]:  10.0 , recorded with  40.0 fps!\n",
      "Overall # of frames:  400  found with (before cropping) frame dimensions:  800 550\n",
      "Starting to extract posture\n"
     ]
    },
    {
     "name": "stderr",
     "output_type": "stream",
     "text": [
      "410it [00:23, 17.58it/s]                                                                                               \n"
     ]
    },
    {
     "name": "stdout",
     "output_type": "stream",
     "text": [
      "Saving results in \\\\dk-server.dk.ucsd.edu\\afassihizakeri\\Leftsidemovies\\ar41motor\\2022_07_28...\n",
      "Saving csv poses!\n",
      "Starting to analyze %  \\\\dk-server.dk.ucsd.edu\\afassihizakeri\\Leftsidemovies\\ar41motor\\2022_07_28\\88.avi\n",
      "Loading  \\\\dk-server.dk.ucsd.edu\\afassihizakeri\\Leftsidemovies\\ar41motor\\2022_07_28\\88.avi\n",
      "Duration of video [s]:  10.0 , recorded with  40.0 fps!\n",
      "Overall # of frames:  400  found with (before cropping) frame dimensions:  800 550\n",
      "Starting to extract posture\n"
     ]
    },
    {
     "name": "stderr",
     "output_type": "stream",
     "text": [
      "410it [00:23, 17.57it/s]                                                                                               \n"
     ]
    },
    {
     "name": "stdout",
     "output_type": "stream",
     "text": [
      "Saving results in \\\\dk-server.dk.ucsd.edu\\afassihizakeri\\Leftsidemovies\\ar41motor\\2022_07_28...\n",
      "Saving csv poses!\n",
      "Starting to analyze %  \\\\dk-server.dk.ucsd.edu\\afassihizakeri\\Leftsidemovies\\ar41motor\\2022_07_28\\145.avi\n",
      "Loading  \\\\dk-server.dk.ucsd.edu\\afassihizakeri\\Leftsidemovies\\ar41motor\\2022_07_28\\145.avi\n",
      "Duration of video [s]:  10.0 , recorded with  40.0 fps!\n",
      "Overall # of frames:  400  found with (before cropping) frame dimensions:  800 550\n",
      "Starting to extract posture\n"
     ]
    },
    {
     "name": "stderr",
     "output_type": "stream",
     "text": [
      "410it [00:23, 17.55it/s]                                                                                               \n"
     ]
    },
    {
     "name": "stdout",
     "output_type": "stream",
     "text": [
      "Saving results in \\\\dk-server.dk.ucsd.edu\\afassihizakeri\\Leftsidemovies\\ar41motor\\2022_07_28...\n",
      "Saving csv poses!\n",
      "Starting to analyze %  \\\\dk-server.dk.ucsd.edu\\afassihizakeri\\Leftsidemovies\\ar41motor\\2022_07_28\\194.avi\n",
      "Loading  \\\\dk-server.dk.ucsd.edu\\afassihizakeri\\Leftsidemovies\\ar41motor\\2022_07_28\\194.avi\n",
      "Duration of video [s]:  10.0 , recorded with  40.0 fps!\n",
      "Overall # of frames:  400  found with (before cropping) frame dimensions:  800 550\n",
      "Starting to extract posture\n"
     ]
    },
    {
     "name": "stderr",
     "output_type": "stream",
     "text": [
      "410it [00:23, 17.54it/s]                                                                                               \n"
     ]
    },
    {
     "name": "stdout",
     "output_type": "stream",
     "text": [
      "Saving results in \\\\dk-server.dk.ucsd.edu\\afassihizakeri\\Leftsidemovies\\ar41motor\\2022_07_28...\n",
      "Saving csv poses!\n",
      "Starting to analyze %  \\\\dk-server.dk.ucsd.edu\\afassihizakeri\\Leftsidemovies\\ar41motor\\2022_07_28\\252.avi\n",
      "Loading  \\\\dk-server.dk.ucsd.edu\\afassihizakeri\\Leftsidemovies\\ar41motor\\2022_07_28\\252.avi\n",
      "Duration of video [s]:  10.0 , recorded with  40.0 fps!\n",
      "Overall # of frames:  400  found with (before cropping) frame dimensions:  800 550\n",
      "Starting to extract posture\n"
     ]
    },
    {
     "name": "stderr",
     "output_type": "stream",
     "text": [
      "410it [00:23, 17.59it/s]                                                                                               \n"
     ]
    },
    {
     "name": "stdout",
     "output_type": "stream",
     "text": [
      "Saving results in \\\\dk-server.dk.ucsd.edu\\afassihizakeri\\Leftsidemovies\\ar41motor\\2022_07_28...\n",
      "Saving csv poses!\n",
      "Starting to analyze %  \\\\dk-server.dk.ucsd.edu\\afassihizakeri\\Leftsidemovies\\ar41motor\\2022_07_28\\57.avi\n",
      "Loading  \\\\dk-server.dk.ucsd.edu\\afassihizakeri\\Leftsidemovies\\ar41motor\\2022_07_28\\57.avi\n",
      "Duration of video [s]:  10.0 , recorded with  40.0 fps!\n",
      "Overall # of frames:  400  found with (before cropping) frame dimensions:  800 550\n",
      "Starting to extract posture\n"
     ]
    },
    {
     "name": "stderr",
     "output_type": "stream",
     "text": [
      "410it [00:23, 17.58it/s]                                                                                               \n"
     ]
    },
    {
     "name": "stdout",
     "output_type": "stream",
     "text": [
      "Saving results in \\\\dk-server.dk.ucsd.edu\\afassihizakeri\\Leftsidemovies\\ar41motor\\2022_07_28...\n",
      "Saving csv poses!\n",
      "Starting to analyze %  \\\\dk-server.dk.ucsd.edu\\afassihizakeri\\Leftsidemovies\\ar41motor\\2022_07_28\\139.avi\n",
      "Loading  \\\\dk-server.dk.ucsd.edu\\afassihizakeri\\Leftsidemovies\\ar41motor\\2022_07_28\\139.avi\n",
      "Duration of video [s]:  10.0 , recorded with  40.0 fps!\n",
      "Overall # of frames:  400  found with (before cropping) frame dimensions:  800 550\n",
      "Starting to extract posture\n"
     ]
    },
    {
     "name": "stderr",
     "output_type": "stream",
     "text": [
      "410it [00:23, 17.56it/s]                                                                                               \n"
     ]
    },
    {
     "name": "stdout",
     "output_type": "stream",
     "text": [
      "Saving results in \\\\dk-server.dk.ucsd.edu\\afassihizakeri\\Leftsidemovies\\ar41motor\\2022_07_28...\n",
      "Saving csv poses!\n",
      "Starting to analyze %  \\\\dk-server.dk.ucsd.edu\\afassihizakeri\\Leftsidemovies\\ar41motor\\2022_07_28\\86.avi\n",
      "Loading  \\\\dk-server.dk.ucsd.edu\\afassihizakeri\\Leftsidemovies\\ar41motor\\2022_07_28\\86.avi\n",
      "Duration of video [s]:  10.0 , recorded with  40.0 fps!\n",
      "Overall # of frames:  400  found with (before cropping) frame dimensions:  800 550\n",
      "Starting to extract posture\n"
     ]
    },
    {
     "name": "stderr",
     "output_type": "stream",
     "text": [
      "410it [00:23, 17.57it/s]                                                                                               \n"
     ]
    },
    {
     "name": "stdout",
     "output_type": "stream",
     "text": [
      "Saving results in \\\\dk-server.dk.ucsd.edu\\afassihizakeri\\Leftsidemovies\\ar41motor\\2022_07_28...\n",
      "Saving csv poses!\n",
      "Starting to analyze %  \\\\dk-server.dk.ucsd.edu\\afassihizakeri\\Leftsidemovies\\ar41motor\\2022_07_28\\50.avi\n",
      "Loading  \\\\dk-server.dk.ucsd.edu\\afassihizakeri\\Leftsidemovies\\ar41motor\\2022_07_28\\50.avi\n",
      "Duration of video [s]:  10.0 , recorded with  40.0 fps!\n",
      "Overall # of frames:  400  found with (before cropping) frame dimensions:  800 550\n",
      "Starting to extract posture\n"
     ]
    },
    {
     "name": "stderr",
     "output_type": "stream",
     "text": [
      "410it [00:23, 17.57it/s]                                                                                               \n"
     ]
    },
    {
     "name": "stdout",
     "output_type": "stream",
     "text": [
      "Saving results in \\\\dk-server.dk.ucsd.edu\\afassihizakeri\\Leftsidemovies\\ar41motor\\2022_07_28...\n",
      "Saving csv poses!\n",
      "Starting to analyze %  \\\\dk-server.dk.ucsd.edu\\afassihizakeri\\Leftsidemovies\\ar41motor\\2022_07_28\\229.avi\n",
      "Loading  \\\\dk-server.dk.ucsd.edu\\afassihizakeri\\Leftsidemovies\\ar41motor\\2022_07_28\\229.avi\n",
      "Duration of video [s]:  10.0 , recorded with  40.0 fps!\n",
      "Overall # of frames:  400  found with (before cropping) frame dimensions:  800 550\n",
      "Starting to extract posture\n"
     ]
    },
    {
     "name": "stderr",
     "output_type": "stream",
     "text": [
      "410it [00:23, 17.56it/s]                                                                                               \n"
     ]
    },
    {
     "name": "stdout",
     "output_type": "stream",
     "text": [
      "Saving results in \\\\dk-server.dk.ucsd.edu\\afassihizakeri\\Leftsidemovies\\ar41motor\\2022_07_28...\n",
      "Saving csv poses!\n",
      "Starting to analyze %  \\\\dk-server.dk.ucsd.edu\\afassihizakeri\\Leftsidemovies\\ar41motor\\2022_07_28\\81.avi\n",
      "Loading  \\\\dk-server.dk.ucsd.edu\\afassihizakeri\\Leftsidemovies\\ar41motor\\2022_07_28\\81.avi\n",
      "Duration of video [s]:  10.0 , recorded with  40.0 fps!\n",
      "Overall # of frames:  400  found with (before cropping) frame dimensions:  800 550\n",
      "Starting to extract posture\n"
     ]
    },
    {
     "name": "stderr",
     "output_type": "stream",
     "text": [
      "410it [00:23, 17.55it/s]                                                                                               \n"
     ]
    },
    {
     "name": "stdout",
     "output_type": "stream",
     "text": [
      "Saving results in \\\\dk-server.dk.ucsd.edu\\afassihizakeri\\Leftsidemovies\\ar41motor\\2022_07_28...\n",
      "Saving csv poses!\n",
      "Starting to analyze %  \\\\dk-server.dk.ucsd.edu\\afassihizakeri\\Leftsidemovies\\ar41motor\\2022_07_28\\142.avi\n",
      "Loading  \\\\dk-server.dk.ucsd.edu\\afassihizakeri\\Leftsidemovies\\ar41motor\\2022_07_28\\142.avi\n",
      "Duration of video [s]:  10.0 , recorded with  40.0 fps!\n",
      "Overall # of frames:  400  found with (before cropping) frame dimensions:  800 550\n",
      "Starting to extract posture\n"
     ]
    },
    {
     "name": "stderr",
     "output_type": "stream",
     "text": [
      "410it [00:23, 17.55it/s]                                                                                               \n"
     ]
    },
    {
     "name": "stdout",
     "output_type": "stream",
     "text": [
      "Saving results in \\\\dk-server.dk.ucsd.edu\\afassihizakeri\\Leftsidemovies\\ar41motor\\2022_07_28...\n",
      "Saving csv poses!\n",
      "Starting to analyze %  \\\\dk-server.dk.ucsd.edu\\afassihizakeri\\Leftsidemovies\\ar41motor\\2022_07_28\\193.avi\n",
      "Loading  \\\\dk-server.dk.ucsd.edu\\afassihizakeri\\Leftsidemovies\\ar41motor\\2022_07_28\\193.avi\n",
      "Duration of video [s]:  10.0 , recorded with  40.0 fps!\n",
      "Overall # of frames:  400  found with (before cropping) frame dimensions:  800 550\n",
      "Starting to extract posture\n"
     ]
    },
    {
     "name": "stderr",
     "output_type": "stream",
     "text": [
      "410it [00:23, 17.56it/s]                                                                                               \n"
     ]
    },
    {
     "name": "stdout",
     "output_type": "stream",
     "text": [
      "Saving results in \\\\dk-server.dk.ucsd.edu\\afassihizakeri\\Leftsidemovies\\ar41motor\\2022_07_28...\n",
      "Saving csv poses!\n",
      "Starting to analyze %  \\\\dk-server.dk.ucsd.edu\\afassihizakeri\\Leftsidemovies\\ar41motor\\2022_07_28\\255.avi\n",
      "Loading  \\\\dk-server.dk.ucsd.edu\\afassihizakeri\\Leftsidemovies\\ar41motor\\2022_07_28\\255.avi\n",
      "Duration of video [s]:  10.0 , recorded with  40.0 fps!\n",
      "Overall # of frames:  400  found with (before cropping) frame dimensions:  800 550\n",
      "Starting to extract posture\n"
     ]
    },
    {
     "name": "stderr",
     "output_type": "stream",
     "text": [
      "410it [00:23, 17.54it/s]                                                                                               \n"
     ]
    },
    {
     "name": "stdout",
     "output_type": "stream",
     "text": [
      "Saving results in \\\\dk-server.dk.ucsd.edu\\afassihizakeri\\Leftsidemovies\\ar41motor\\2022_07_28...\n",
      "Saving csv poses!\n",
      "Starting to analyze %  \\\\dk-server.dk.ucsd.edu\\afassihizakeri\\Leftsidemovies\\ar41motor\\2022_07_28\\75.avi\n",
      "Loading  \\\\dk-server.dk.ucsd.edu\\afassihizakeri\\Leftsidemovies\\ar41motor\\2022_07_28\\75.avi\n",
      "Duration of video [s]:  10.0 , recorded with  40.0 fps!\n",
      "Overall # of frames:  400  found with (before cropping) frame dimensions:  800 550\n",
      "Starting to extract posture\n"
     ]
    },
    {
     "name": "stderr",
     "output_type": "stream",
     "text": [
      "410it [00:23, 17.57it/s]                                                                                               \n"
     ]
    },
    {
     "name": "stdout",
     "output_type": "stream",
     "text": [
      "Saving results in \\\\dk-server.dk.ucsd.edu\\afassihizakeri\\Leftsidemovies\\ar41motor\\2022_07_28...\n",
      "Saving csv poses!\n",
      "Starting to analyze %  \\\\dk-server.dk.ucsd.edu\\afassihizakeri\\Leftsidemovies\\ar41motor\\2022_07_28\\167.avi\n",
      "Loading  \\\\dk-server.dk.ucsd.edu\\afassihizakeri\\Leftsidemovies\\ar41motor\\2022_07_28\\167.avi\n",
      "Duration of video [s]:  10.0 , recorded with  40.0 fps!\n",
      "Overall # of frames:  400  found with (before cropping) frame dimensions:  800 550\n",
      "Starting to extract posture\n"
     ]
    },
    {
     "name": "stderr",
     "output_type": "stream",
     "text": [
      "410it [00:23, 17.57it/s]                                                                                               \n"
     ]
    },
    {
     "name": "stdout",
     "output_type": "stream",
     "text": [
      "Saving results in \\\\dk-server.dk.ucsd.edu\\afassihizakeri\\Leftsidemovies\\ar41motor\\2022_07_28...\n",
      "Saving csv poses!\n",
      "Starting to analyze %  \\\\dk-server.dk.ucsd.edu\\afassihizakeri\\Leftsidemovies\\ar41motor\\2022_07_28\\160.avi\n",
      "Loading  \\\\dk-server.dk.ucsd.edu\\afassihizakeri\\Leftsidemovies\\ar41motor\\2022_07_28\\160.avi\n",
      "Duration of video [s]:  10.0 , recorded with  40.0 fps!\n",
      "Overall # of frames:  400  found with (before cropping) frame dimensions:  800 550\n",
      "Starting to extract posture\n"
     ]
    },
    {
     "name": "stderr",
     "output_type": "stream",
     "text": [
      "410it [00:23, 17.56it/s]                                                                                               \n"
     ]
    },
    {
     "name": "stdout",
     "output_type": "stream",
     "text": [
      "Saving results in \\\\dk-server.dk.ucsd.edu\\afassihizakeri\\Leftsidemovies\\ar41motor\\2022_07_28...\n",
      "Saving csv poses!\n",
      "Starting to analyze %  \\\\dk-server.dk.ucsd.edu\\afassihizakeri\\Leftsidemovies\\ar41motor\\2022_07_28\\72.avi\n",
      "Loading  \\\\dk-server.dk.ucsd.edu\\afassihizakeri\\Leftsidemovies\\ar41motor\\2022_07_28\\72.avi\n",
      "Duration of video [s]:  10.0 , recorded with  40.0 fps!\n",
      "Overall # of frames:  400  found with (before cropping) frame dimensions:  800 550\n",
      "Starting to extract posture\n"
     ]
    },
    {
     "name": "stderr",
     "output_type": "stream",
     "text": [
      "410it [00:23, 17.55it/s]                                                                                               \n"
     ]
    },
    {
     "name": "stdout",
     "output_type": "stream",
     "text": [
      "Saving results in \\\\dk-server.dk.ucsd.edu\\afassihizakeri\\Leftsidemovies\\ar41motor\\2022_07_28...\n",
      "Saving csv poses!\n",
      "Starting to analyze %  \\\\dk-server.dk.ucsd.edu\\afassihizakeri\\Leftsidemovies\\ar41motor\\2022_07_28\\112.avi\n",
      "Loading  \\\\dk-server.dk.ucsd.edu\\afassihizakeri\\Leftsidemovies\\ar41motor\\2022_07_28\\112.avi\n",
      "Duration of video [s]:  10.0 , recorded with  40.0 fps!\n",
      "Overall # of frames:  400  found with (before cropping) frame dimensions:  800 550\n",
      "Starting to extract posture\n"
     ]
    },
    {
     "name": "stderr",
     "output_type": "stream",
     "text": [
      "410it [00:23, 17.58it/s]                                                                                               \n"
     ]
    },
    {
     "name": "stdout",
     "output_type": "stream",
     "text": [
      "Saving results in \\\\dk-server.dk.ucsd.edu\\afassihizakeri\\Leftsidemovies\\ar41motor\\2022_07_28...\n",
      "Saving csv poses!\n",
      "Starting to analyze %  \\\\dk-server.dk.ucsd.edu\\afassihizakeri\\Leftsidemovies\\ar41motor\\2022_07_28\\205.avi\n",
      "Loading  \\\\dk-server.dk.ucsd.edu\\afassihizakeri\\Leftsidemovies\\ar41motor\\2022_07_28\\205.avi\n",
      "Duration of video [s]:  10.0 , recorded with  40.0 fps!\n",
      "Overall # of frames:  400  found with (before cropping) frame dimensions:  800 550\n",
      "Starting to extract posture\n"
     ]
    },
    {
     "name": "stderr",
     "output_type": "stream",
     "text": [
      "410it [00:23, 17.53it/s]                                                                                               \n"
     ]
    },
    {
     "name": "stdout",
     "output_type": "stream",
     "text": [
      "Saving results in \\\\dk-server.dk.ucsd.edu\\afassihizakeri\\Leftsidemovies\\ar41motor\\2022_07_28...\n",
      "Saving csv poses!\n",
      "Starting to analyze %  \\\\dk-server.dk.ucsd.edu\\afassihizakeri\\Leftsidemovies\\ar41motor\\2022_07_28\\115.avi\n",
      "Loading  \\\\dk-server.dk.ucsd.edu\\afassihizakeri\\Leftsidemovies\\ar41motor\\2022_07_28\\115.avi\n",
      "Duration of video [s]:  10.0 , recorded with  40.0 fps!\n",
      "Overall # of frames:  400  found with (before cropping) frame dimensions:  800 550\n",
      "Starting to extract posture\n"
     ]
    },
    {
     "name": "stderr",
     "output_type": "stream",
     "text": [
      "410it [00:23, 17.53it/s]                                                                                               \n"
     ]
    },
    {
     "name": "stdout",
     "output_type": "stream",
     "text": [
      "Saving results in \\\\dk-server.dk.ucsd.edu\\afassihizakeri\\Leftsidemovies\\ar41motor\\2022_07_28...\n",
      "Saving csv poses!\n",
      "Starting to analyze %  \\\\dk-server.dk.ucsd.edu\\afassihizakeri\\Leftsidemovies\\ar41motor\\2022_07_28\\202.avi\n",
      "Loading  \\\\dk-server.dk.ucsd.edu\\afassihizakeri\\Leftsidemovies\\ar41motor\\2022_07_28\\202.avi\n",
      "Duration of video [s]:  10.0 , recorded with  40.0 fps!\n",
      "Overall # of frames:  400  found with (before cropping) frame dimensions:  800 550\n",
      "Starting to extract posture\n"
     ]
    },
    {
     "name": "stderr",
     "output_type": "stream",
     "text": [
      "410it [00:23, 17.54it/s]                                                                                               \n"
     ]
    },
    {
     "name": "stdout",
     "output_type": "stream",
     "text": [
      "Saving results in \\\\dk-server.dk.ucsd.edu\\afassihizakeri\\Leftsidemovies\\ar41motor\\2022_07_28...\n",
      "Saving csv poses!\n",
      "Starting to analyze %  \\\\dk-server.dk.ucsd.edu\\afassihizakeri\\Leftsidemovies\\ar41motor\\2022_07_28\\169.avi\n",
      "Loading  \\\\dk-server.dk.ucsd.edu\\afassihizakeri\\Leftsidemovies\\ar41motor\\2022_07_28\\169.avi\n",
      "Duration of video [s]:  10.0 , recorded with  40.0 fps!\n",
      "Overall # of frames:  400  found with (before cropping) frame dimensions:  800 550\n",
      "Starting to extract posture\n"
     ]
    },
    {
     "name": "stderr",
     "output_type": "stream",
     "text": [
      "410it [00:23, 17.57it/s]                                                                                               \n"
     ]
    },
    {
     "name": "stdout",
     "output_type": "stream",
     "text": [
      "Saving results in \\\\dk-server.dk.ucsd.edu\\afassihizakeri\\Leftsidemovies\\ar41motor\\2022_07_28...\n",
      "Saving csv poses!\n",
      "Starting to analyze %  \\\\dk-server.dk.ucsd.edu\\afassihizakeri\\Leftsidemovies\\ar41motor\\2022_07_28\\237.avi\n",
      "Loading  \\\\dk-server.dk.ucsd.edu\\afassihizakeri\\Leftsidemovies\\ar41motor\\2022_07_28\\237.avi\n",
      "Duration of video [s]:  10.0 , recorded with  40.0 fps!\n",
      "Overall # of frames:  400  found with (before cropping) frame dimensions:  800 550\n",
      "Starting to extract posture\n"
     ]
    },
    {
     "name": "stderr",
     "output_type": "stream",
     "text": [
      "410it [00:23, 17.56it/s]                                                                                               \n"
     ]
    },
    {
     "name": "stdout",
     "output_type": "stream",
     "text": [
      "Saving results in \\\\dk-server.dk.ucsd.edu\\afassihizakeri\\Leftsidemovies\\ar41motor\\2022_07_28...\n",
      "Saving csv poses!\n",
      "Starting to analyze %  \\\\dk-server.dk.ucsd.edu\\afassihizakeri\\Leftsidemovies\\ar41motor\\2022_07_28\\120.avi\n",
      "Loading  \\\\dk-server.dk.ucsd.edu\\afassihizakeri\\Leftsidemovies\\ar41motor\\2022_07_28\\120.avi\n",
      "Duration of video [s]:  10.0 , recorded with  40.0 fps!\n",
      "Overall # of frames:  400  found with (before cropping) frame dimensions:  800 550\n",
      "Starting to extract posture\n"
     ]
    },
    {
     "name": "stderr",
     "output_type": "stream",
     "text": [
      "410it [00:23, 17.48it/s]                                                                                               \n"
     ]
    },
    {
     "name": "stdout",
     "output_type": "stream",
     "text": [
      "Saving results in \\\\dk-server.dk.ucsd.edu\\afassihizakeri\\Leftsidemovies\\ar41motor\\2022_07_28...\n",
      "Saving csv poses!\n",
      "Starting to analyze %  \\\\dk-server.dk.ucsd.edu\\afassihizakeri\\Leftsidemovies\\ar41motor\\2022_07_28\\32.avi\n",
      "Loading  \\\\dk-server.dk.ucsd.edu\\afassihizakeri\\Leftsidemovies\\ar41motor\\2022_07_28\\32.avi\n",
      "Duration of video [s]:  10.0 , recorded with  40.0 fps!\n",
      "Overall # of frames:  400  found with (before cropping) frame dimensions:  800 550\n",
      "Starting to extract posture\n"
     ]
    },
    {
     "name": "stderr",
     "output_type": "stream",
     "text": [
      "410it [00:23, 17.57it/s]                                                                                               \n"
     ]
    },
    {
     "name": "stdout",
     "output_type": "stream",
     "text": [
      "Saving results in \\\\dk-server.dk.ucsd.edu\\afassihizakeri\\Leftsidemovies\\ar41motor\\2022_07_28...\n",
      "Saving csv poses!\n",
      "Starting to analyze %  \\\\dk-server.dk.ucsd.edu\\afassihizakeri\\Leftsidemovies\\ar41motor\\2022_07_28\\35.avi\n",
      "Loading  \\\\dk-server.dk.ucsd.edu\\afassihizakeri\\Leftsidemovies\\ar41motor\\2022_07_28\\35.avi\n",
      "Duration of video [s]:  10.0 , recorded with  40.0 fps!\n",
      "Overall # of frames:  400  found with (before cropping) frame dimensions:  800 550\n",
      "Starting to extract posture\n"
     ]
    },
    {
     "name": "stderr",
     "output_type": "stream",
     "text": [
      "410it [00:23, 17.56it/s]                                                                                               \n"
     ]
    },
    {
     "name": "stdout",
     "output_type": "stream",
     "text": [
      "Saving results in \\\\dk-server.dk.ucsd.edu\\afassihizakeri\\Leftsidemovies\\ar41motor\\2022_07_28...\n",
      "Saving csv poses!\n",
      "Starting to analyze %  \\\\dk-server.dk.ucsd.edu\\afassihizakeri\\Leftsidemovies\\ar41motor\\2022_07_28\\230.avi\n",
      "Loading  \\\\dk-server.dk.ucsd.edu\\afassihizakeri\\Leftsidemovies\\ar41motor\\2022_07_28\\230.avi\n",
      "Duration of video [s]:  10.0 , recorded with  40.0 fps!\n",
      "Overall # of frames:  400  found with (before cropping) frame dimensions:  800 550\n",
      "Starting to extract posture\n"
     ]
    },
    {
     "name": "stderr",
     "output_type": "stream",
     "text": [
      "410it [00:23, 17.56it/s]                                                                                               \n"
     ]
    },
    {
     "name": "stdout",
     "output_type": "stream",
     "text": [
      "Saving results in \\\\dk-server.dk.ucsd.edu\\afassihizakeri\\Leftsidemovies\\ar41motor\\2022_07_28...\n",
      "Saving csv poses!\n",
      "Starting to analyze %  \\\\dk-server.dk.ucsd.edu\\afassihizakeri\\Leftsidemovies\\ar41motor\\2022_07_28\\98.avi\n",
      "Loading  \\\\dk-server.dk.ucsd.edu\\afassihizakeri\\Leftsidemovies\\ar41motor\\2022_07_28\\98.avi\n",
      "Duration of video [s]:  10.0 , recorded with  40.0 fps!\n",
      "Overall # of frames:  400  found with (before cropping) frame dimensions:  800 550\n",
      "Starting to extract posture\n"
     ]
    },
    {
     "name": "stderr",
     "output_type": "stream",
     "text": [
      "410it [00:23, 17.58it/s]                                                                                               \n"
     ]
    },
    {
     "name": "stdout",
     "output_type": "stream",
     "text": [
      "Saving results in \\\\dk-server.dk.ucsd.edu\\afassihizakeri\\Leftsidemovies\\ar41motor\\2022_07_28...\n",
      "Saving csv poses!\n",
      "Starting to analyze %  \\\\dk-server.dk.ucsd.edu\\afassihizakeri\\Leftsidemovies\\ar41motor\\2022_07_28\\49.avi\n",
      "Loading  \\\\dk-server.dk.ucsd.edu\\afassihizakeri\\Leftsidemovies\\ar41motor\\2022_07_28\\49.avi\n",
      "Duration of video [s]:  10.0 , recorded with  40.0 fps!\n",
      "Overall # of frames:  400  found with (before cropping) frame dimensions:  800 550\n",
      "Starting to extract posture\n"
     ]
    },
    {
     "name": "stderr",
     "output_type": "stream",
     "text": [
      "410it [00:23, 17.53it/s]                                                                                               \n"
     ]
    },
    {
     "name": "stdout",
     "output_type": "stream",
     "text": [
      "Saving results in \\\\dk-server.dk.ucsd.edu\\afassihizakeri\\Leftsidemovies\\ar41motor\\2022_07_28...\n",
      "Saving csv poses!\n",
      "Starting to analyze %  \\\\dk-server.dk.ucsd.edu\\afassihizakeri\\Leftsidemovies\\ar41motor\\2022_07_28\\127.avi\n",
      "Loading  \\\\dk-server.dk.ucsd.edu\\afassihizakeri\\Leftsidemovies\\ar41motor\\2022_07_28\\127.avi\n",
      "Duration of video [s]:  10.0 , recorded with  40.0 fps!\n",
      "Overall # of frames:  400  found with (before cropping) frame dimensions:  800 550\n",
      "Starting to extract posture\n"
     ]
    },
    {
     "name": "stderr",
     "output_type": "stream",
     "text": [
      "410it [00:23, 17.56it/s]                                                                                               \n"
     ]
    },
    {
     "name": "stdout",
     "output_type": "stream",
     "text": [
      "Saving results in \\\\dk-server.dk.ucsd.edu\\afassihizakeri\\Leftsidemovies\\ar41motor\\2022_07_28...\n",
      "Saving csv poses!\n",
      "Starting to analyze %  \\\\dk-server.dk.ucsd.edu\\afassihizakeri\\Leftsidemovies\\ar41motor\\2022_07_28\\184.avi\n",
      "Loading  \\\\dk-server.dk.ucsd.edu\\afassihizakeri\\Leftsidemovies\\ar41motor\\2022_07_28\\184.avi\n",
      "Duration of video [s]:  10.0 , recorded with  40.0 fps!\n",
      "Overall # of frames:  400  found with (before cropping) frame dimensions:  800 550\n",
      "Starting to extract posture\n"
     ]
    },
    {
     "name": "stderr",
     "output_type": "stream",
     "text": [
      "410it [00:23, 17.55it/s]                                                                                               \n"
     ]
    },
    {
     "name": "stdout",
     "output_type": "stream",
     "text": [
      "Saving results in \\\\dk-server.dk.ucsd.edu\\afassihizakeri\\Leftsidemovies\\ar41motor\\2022_07_28...\n",
      "Saving csv poses!\n",
      "Starting to analyze %  \\\\dk-server.dk.ucsd.edu\\afassihizakeri\\Leftsidemovies\\ar41motor\\2022_07_28\\242.avi\n",
      "Loading  \\\\dk-server.dk.ucsd.edu\\afassihizakeri\\Leftsidemovies\\ar41motor\\2022_07_28\\242.avi\n",
      "Duration of video [s]:  10.0 , recorded with  40.0 fps!\n",
      "Overall # of frames:  400  found with (before cropping) frame dimensions:  800 550\n",
      "Starting to extract posture\n"
     ]
    },
    {
     "name": "stderr",
     "output_type": "stream",
     "text": [
      "410it [00:23, 17.53it/s]                                                                                               \n"
     ]
    },
    {
     "name": "stdout",
     "output_type": "stream",
     "text": [
      "Saving results in \\\\dk-server.dk.ucsd.edu\\afassihizakeri\\Leftsidemovies\\ar41motor\\2022_07_28...\n",
      "Saving csv poses!\n",
      "Starting to analyze %  \\\\dk-server.dk.ucsd.edu\\afassihizakeri\\Leftsidemovies\\ar41motor\\2022_07_28\\155.avi\n",
      "Loading  \\\\dk-server.dk.ucsd.edu\\afassihizakeri\\Leftsidemovies\\ar41motor\\2022_07_28\\155.avi\n",
      "Duration of video [s]:  10.0 , recorded with  40.0 fps!\n",
      "Overall # of frames:  400  found with (before cropping) frame dimensions:  800 550\n",
      "Starting to extract posture\n"
     ]
    },
    {
     "name": "stderr",
     "output_type": "stream",
     "text": [
      "410it [00:23, 17.54it/s]                                                                                               \n"
     ]
    },
    {
     "name": "stdout",
     "output_type": "stream",
     "text": [
      "Saving results in \\\\dk-server.dk.ucsd.edu\\afassihizakeri\\Leftsidemovies\\ar41motor\\2022_07_28...\n",
      "Saving csv poses!\n",
      "Starting to analyze %  \\\\dk-server.dk.ucsd.edu\\afassihizakeri\\Leftsidemovies\\ar41motor\\2022_07_28\\96.avi\n",
      "Loading  \\\\dk-server.dk.ucsd.edu\\afassihizakeri\\Leftsidemovies\\ar41motor\\2022_07_28\\96.avi\n",
      "Duration of video [s]:  10.0 , recorded with  40.0 fps!\n",
      "Overall # of frames:  400  found with (before cropping) frame dimensions:  800 550\n",
      "Starting to extract posture\n"
     ]
    },
    {
     "name": "stderr",
     "output_type": "stream",
     "text": [
      "410it [00:23, 17.55it/s]                                                                                               \n"
     ]
    },
    {
     "name": "stdout",
     "output_type": "stream",
     "text": [
      "Saving results in \\\\dk-server.dk.ucsd.edu\\afassihizakeri\\Leftsidemovies\\ar41motor\\2022_07_28...\n",
      "Saving csv poses!\n",
      "Starting to analyze %  \\\\dk-server.dk.ucsd.edu\\afassihizakeri\\Leftsidemovies\\ar41motor\\2022_07_28\\47.avi\n",
      "Loading  \\\\dk-server.dk.ucsd.edu\\afassihizakeri\\Leftsidemovies\\ar41motor\\2022_07_28\\47.avi\n",
      "Duration of video [s]:  10.0 , recorded with  40.0 fps!\n",
      "Overall # of frames:  400  found with (before cropping) frame dimensions:  800 550\n",
      "Starting to extract posture\n"
     ]
    },
    {
     "name": "stderr",
     "output_type": "stream",
     "text": [
      "410it [00:23, 17.55it/s]                                                                                               \n"
     ]
    },
    {
     "name": "stdout",
     "output_type": "stream",
     "text": [
      "Saving results in \\\\dk-server.dk.ucsd.edu\\afassihizakeri\\Leftsidemovies\\ar41motor\\2022_07_28...\n",
      "Saving csv poses!\n",
      "Starting to analyze %  \\\\dk-server.dk.ucsd.edu\\afassihizakeri\\Leftsidemovies\\ar41motor\\2022_07_28\\129.avi\n",
      "Loading  \\\\dk-server.dk.ucsd.edu\\afassihizakeri\\Leftsidemovies\\ar41motor\\2022_07_28\\129.avi\n",
      "Duration of video [s]:  10.0 , recorded with  40.0 fps!\n",
      "Overall # of frames:  400  found with (before cropping) frame dimensions:  800 550\n",
      "Starting to extract posture\n"
     ]
    },
    {
     "name": "stderr",
     "output_type": "stream",
     "text": [
      "410it [00:23, 17.52it/s]                                                                                               \n"
     ]
    },
    {
     "name": "stdout",
     "output_type": "stream",
     "text": [
      "Saving results in \\\\dk-server.dk.ucsd.edu\\afassihizakeri\\Leftsidemovies\\ar41motor\\2022_07_28...\n",
      "Saving csv poses!\n",
      "Starting to analyze %  \\\\dk-server.dk.ucsd.edu\\afassihizakeri\\Leftsidemovies\\ar41motor\\2022_07_28\\239.avi\n",
      "Loading  \\\\dk-server.dk.ucsd.edu\\afassihizakeri\\Leftsidemovies\\ar41motor\\2022_07_28\\239.avi\n",
      "Duration of video [s]:  10.0 , recorded with  40.0 fps!\n",
      "Overall # of frames:  400  found with (before cropping) frame dimensions:  800 550\n",
      "Starting to extract posture\n"
     ]
    },
    {
     "name": "stderr",
     "output_type": "stream",
     "text": [
      "410it [00:23, 17.55it/s]                                                                                               \n"
     ]
    },
    {
     "name": "stdout",
     "output_type": "stream",
     "text": [
      "Saving results in \\\\dk-server.dk.ucsd.edu\\afassihizakeri\\Leftsidemovies\\ar41motor\\2022_07_28...\n",
      "Saving csv poses!\n",
      "Starting to analyze %  \\\\dk-server.dk.ucsd.edu\\afassihizakeri\\Leftsidemovies\\ar41motor\\2022_07_28\\91.avi\n",
      "Loading  \\\\dk-server.dk.ucsd.edu\\afassihizakeri\\Leftsidemovies\\ar41motor\\2022_07_28\\91.avi\n",
      "Duration of video [s]:  10.0 , recorded with  40.0 fps!\n",
      "Overall # of frames:  400  found with (before cropping) frame dimensions:  800 550\n",
      "Starting to extract posture\n"
     ]
    },
    {
     "name": "stderr",
     "output_type": "stream",
     "text": [
      "410it [00:23, 17.56it/s]                                                                                               \n"
     ]
    },
    {
     "name": "stdout",
     "output_type": "stream",
     "text": [
      "Saving results in \\\\dk-server.dk.ucsd.edu\\afassihizakeri\\Leftsidemovies\\ar41motor\\2022_07_28...\n",
      "Saving csv poses!\n",
      "Starting to analyze %  \\\\dk-server.dk.ucsd.edu\\afassihizakeri\\Leftsidemovies\\ar41motor\\2022_07_28\\40.avi\n",
      "Loading  \\\\dk-server.dk.ucsd.edu\\afassihizakeri\\Leftsidemovies\\ar41motor\\2022_07_28\\40.avi\n",
      "Duration of video [s]:  10.0 , recorded with  40.0 fps!\n",
      "Overall # of frames:  400  found with (before cropping) frame dimensions:  800 550\n",
      "Starting to extract posture\n"
     ]
    },
    {
     "name": "stderr",
     "output_type": "stream",
     "text": [
      "410it [00:23, 17.52it/s]                                                                                               \n"
     ]
    },
    {
     "name": "stdout",
     "output_type": "stream",
     "text": [
      "Saving results in \\\\dk-server.dk.ucsd.edu\\afassihizakeri\\Leftsidemovies\\ar41motor\\2022_07_28...\n",
      "Saving csv poses!\n",
      "Starting to analyze %  \\\\dk-server.dk.ucsd.edu\\afassihizakeri\\Leftsidemovies\\ar41motor\\2022_07_28\\183.avi\n",
      "Loading  \\\\dk-server.dk.ucsd.edu\\afassihizakeri\\Leftsidemovies\\ar41motor\\2022_07_28\\183.avi\n",
      "Duration of video [s]:  10.0 , recorded with  40.0 fps!\n",
      "Overall # of frames:  400  found with (before cropping) frame dimensions:  800 550\n",
      "Starting to extract posture\n"
     ]
    },
    {
     "name": "stderr",
     "output_type": "stream",
     "text": [
      "410it [00:23, 17.52it/s]                                                                                               \n"
     ]
    },
    {
     "name": "stdout",
     "output_type": "stream",
     "text": [
      "Saving results in \\\\dk-server.dk.ucsd.edu\\afassihizakeri\\Leftsidemovies\\ar41motor\\2022_07_28...\n",
      "Saving csv poses!\n",
      "Starting to analyze %  \\\\dk-server.dk.ucsd.edu\\afassihizakeri\\Leftsidemovies\\ar41motor\\2022_07_28\\245.avi\n",
      "Loading  \\\\dk-server.dk.ucsd.edu\\afassihizakeri\\Leftsidemovies\\ar41motor\\2022_07_28\\245.avi\n",
      "Duration of video [s]:  10.0 , recorded with  40.0 fps!\n",
      "Overall # of frames:  400  found with (before cropping) frame dimensions:  800 550\n",
      "Starting to extract posture\n"
     ]
    },
    {
     "name": "stderr",
     "output_type": "stream",
     "text": [
      "410it [00:23, 17.50it/s]                                                                                               \n"
     ]
    },
    {
     "name": "stdout",
     "output_type": "stream",
     "text": [
      "Saving results in \\\\dk-server.dk.ucsd.edu\\afassihizakeri\\Leftsidemovies\\ar41motor\\2022_07_28...\n",
      "Saving csv poses!\n",
      "Starting to analyze %  \\\\dk-server.dk.ucsd.edu\\afassihizakeri\\Leftsidemovies\\ar41motor\\2022_07_28\\152.avi\n",
      "Loading  \\\\dk-server.dk.ucsd.edu\\afassihizakeri\\Leftsidemovies\\ar41motor\\2022_07_28\\152.avi\n",
      "Duration of video [s]:  10.0 , recorded with  40.0 fps!\n",
      "Overall # of frames:  400  found with (before cropping) frame dimensions:  800 550\n",
      "Starting to extract posture\n"
     ]
    },
    {
     "name": "stderr",
     "output_type": "stream",
     "text": [
      "410it [00:23, 17.50it/s]                                                                                               \n"
     ]
    },
    {
     "name": "stdout",
     "output_type": "stream",
     "text": [
      "Saving results in \\\\dk-server.dk.ucsd.edu\\afassihizakeri\\Leftsidemovies\\ar41motor\\2022_07_28...\n",
      "Saving csv poses!\n",
      "Starting to analyze %  \\\\dk-server.dk.ucsd.edu\\afassihizakeri\\Leftsidemovies\\ar41motor\\2022_07_28\\51.avi\n",
      "Loading  \\\\dk-server.dk.ucsd.edu\\afassihizakeri\\Leftsidemovies\\ar41motor\\2022_07_28\\51.avi\n",
      "Duration of video [s]:  10.0 , recorded with  40.0 fps!\n",
      "Overall # of frames:  400  found with (before cropping) frame dimensions:  800 550\n",
      "Starting to extract posture\n"
     ]
    },
    {
     "name": "stderr",
     "output_type": "stream",
     "text": [
      "410it [00:23, 17.56it/s]                                                                                               \n"
     ]
    },
    {
     "name": "stdout",
     "output_type": "stream",
     "text": [
      "Saving results in \\\\dk-server.dk.ucsd.edu\\afassihizakeri\\Leftsidemovies\\ar41motor\\2022_07_28...\n",
      "Saving csv poses!\n",
      "Starting to analyze %  \\\\dk-server.dk.ucsd.edu\\afassihizakeri\\Leftsidemovies\\ar41motor\\2022_07_28\\228.avi\n",
      "Loading  \\\\dk-server.dk.ucsd.edu\\afassihizakeri\\Leftsidemovies\\ar41motor\\2022_07_28\\228.avi\n",
      "Duration of video [s]:  10.0 , recorded with  40.0 fps!\n",
      "Overall # of frames:  400  found with (before cropping) frame dimensions:  800 550\n",
      "Starting to extract posture\n"
     ]
    },
    {
     "name": "stderr",
     "output_type": "stream",
     "text": [
      "410it [00:23, 17.54it/s]                                                                                               \n"
     ]
    },
    {
     "name": "stdout",
     "output_type": "stream",
     "text": [
      "Saving results in \\\\dk-server.dk.ucsd.edu\\afassihizakeri\\Leftsidemovies\\ar41motor\\2022_07_28...\n",
      "Saving csv poses!\n",
      "Starting to analyze %  \\\\dk-server.dk.ucsd.edu\\afassihizakeri\\Leftsidemovies\\ar41motor\\2022_07_28\\80.avi\n",
      "Loading  \\\\dk-server.dk.ucsd.edu\\afassihizakeri\\Leftsidemovies\\ar41motor\\2022_07_28\\80.avi\n",
      "Duration of video [s]:  10.0 , recorded with  40.0 fps!\n",
      "Overall # of frames:  400  found with (before cropping) frame dimensions:  800 550\n",
      "Starting to extract posture\n"
     ]
    },
    {
     "name": "stderr",
     "output_type": "stream",
     "text": [
      "410it [00:23, 17.54it/s]                                                                                               \n"
     ]
    },
    {
     "name": "stdout",
     "output_type": "stream",
     "text": [
      "Saving results in \\\\dk-server.dk.ucsd.edu\\afassihizakeri\\Leftsidemovies\\ar41motor\\2022_07_28...\n",
      "Saving csv poses!\n",
      "Starting to analyze %  \\\\dk-server.dk.ucsd.edu\\afassihizakeri\\Leftsidemovies\\ar41motor\\2022_07_28\\143.avi\n",
      "Loading  \\\\dk-server.dk.ucsd.edu\\afassihizakeri\\Leftsidemovies\\ar41motor\\2022_07_28\\143.avi\n",
      "Duration of video [s]:  10.0 , recorded with  40.0 fps!\n",
      "Overall # of frames:  400  found with (before cropping) frame dimensions:  800 550\n",
      "Starting to extract posture\n"
     ]
    },
    {
     "name": "stderr",
     "output_type": "stream",
     "text": [
      "410it [00:23, 17.57it/s]                                                                                               \n"
     ]
    },
    {
     "name": "stdout",
     "output_type": "stream",
     "text": [
      "Saving results in \\\\dk-server.dk.ucsd.edu\\afassihizakeri\\Leftsidemovies\\ar41motor\\2022_07_28...\n",
      "Saving csv poses!\n",
      "Starting to analyze %  \\\\dk-server.dk.ucsd.edu\\afassihizakeri\\Leftsidemovies\\ar41motor\\2022_07_28\\192.avi\n",
      "Loading  \\\\dk-server.dk.ucsd.edu\\afassihizakeri\\Leftsidemovies\\ar41motor\\2022_07_28\\192.avi\n",
      "Duration of video [s]:  10.0 , recorded with  40.0 fps!\n",
      "Overall # of frames:  400  found with (before cropping) frame dimensions:  800 550\n",
      "Starting to extract posture\n"
     ]
    },
    {
     "name": "stderr",
     "output_type": "stream",
     "text": [
      "410it [00:23, 17.48it/s]                                                                                               \n"
     ]
    },
    {
     "name": "stdout",
     "output_type": "stream",
     "text": [
      "Saving results in \\\\dk-server.dk.ucsd.edu\\afassihizakeri\\Leftsidemovies\\ar41motor\\2022_07_28...\n",
      "Saving csv poses!\n",
      "Starting to analyze %  \\\\dk-server.dk.ucsd.edu\\afassihizakeri\\Leftsidemovies\\ar41motor\\2022_07_28\\254.avi\n",
      "Loading  \\\\dk-server.dk.ucsd.edu\\afassihizakeri\\Leftsidemovies\\ar41motor\\2022_07_28\\254.avi\n",
      "Duration of video [s]:  10.0 , recorded with  40.0 fps!\n",
      "Overall # of frames:  400  found with (before cropping) frame dimensions:  800 550\n",
      "Starting to extract posture\n"
     ]
    },
    {
     "name": "stderr",
     "output_type": "stream",
     "text": [
      "410it [00:23, 17.53it/s]                                                                                               \n"
     ]
    },
    {
     "name": "stdout",
     "output_type": "stream",
     "text": [
      "Saving results in \\\\dk-server.dk.ucsd.edu\\afassihizakeri\\Leftsidemovies\\ar41motor\\2022_07_28...\n",
      "Saving csv poses!\n",
      "Starting to analyze %  \\\\dk-server.dk.ucsd.edu\\afassihizakeri\\Leftsidemovies\\ar41motor\\2022_07_28\\144.avi\n",
      "Loading  \\\\dk-server.dk.ucsd.edu\\afassihizakeri\\Leftsidemovies\\ar41motor\\2022_07_28\\144.avi\n",
      "Duration of video [s]:  10.0 , recorded with  40.0 fps!\n",
      "Overall # of frames:  400  found with (before cropping) frame dimensions:  800 550\n",
      "Starting to extract posture\n"
     ]
    },
    {
     "name": "stderr",
     "output_type": "stream",
     "text": [
      "410it [00:23, 17.51it/s]                                                                                               \n"
     ]
    },
    {
     "name": "stdout",
     "output_type": "stream",
     "text": [
      "Saving results in \\\\dk-server.dk.ucsd.edu\\afassihizakeri\\Leftsidemovies\\ar41motor\\2022_07_28...\n",
      "Saving csv poses!\n",
      "Starting to analyze %  \\\\dk-server.dk.ucsd.edu\\afassihizakeri\\Leftsidemovies\\ar41motor\\2022_07_28\\195.avi\n",
      "Loading  \\\\dk-server.dk.ucsd.edu\\afassihizakeri\\Leftsidemovies\\ar41motor\\2022_07_28\\195.avi\n",
      "Duration of video [s]:  10.0 , recorded with  40.0 fps!\n",
      "Overall # of frames:  400  found with (before cropping) frame dimensions:  800 550\n",
      "Starting to extract posture\n"
     ]
    },
    {
     "name": "stderr",
     "output_type": "stream",
     "text": [
      "410it [00:23, 17.52it/s]                                                                                               \n"
     ]
    },
    {
     "name": "stdout",
     "output_type": "stream",
     "text": [
      "Saving results in \\\\dk-server.dk.ucsd.edu\\afassihizakeri\\Leftsidemovies\\ar41motor\\2022_07_28...\n",
      "Saving csv poses!\n",
      "Starting to analyze %  \\\\dk-server.dk.ucsd.edu\\afassihizakeri\\Leftsidemovies\\ar41motor\\2022_07_28\\253.avi\n",
      "Loading  \\\\dk-server.dk.ucsd.edu\\afassihizakeri\\Leftsidemovies\\ar41motor\\2022_07_28\\253.avi\n",
      "Duration of video [s]:  10.0 , recorded with  40.0 fps!\n",
      "Overall # of frames:  400  found with (before cropping) frame dimensions:  800 550\n",
      "Starting to extract posture\n"
     ]
    },
    {
     "name": "stderr",
     "output_type": "stream",
     "text": [
      "410it [00:23, 17.57it/s]                                                                                               \n"
     ]
    },
    {
     "name": "stdout",
     "output_type": "stream",
     "text": [
      "Saving results in \\\\dk-server.dk.ucsd.edu\\afassihizakeri\\Leftsidemovies\\ar41motor\\2022_07_28...\n",
      "Saving csv poses!\n",
      "Starting to analyze %  \\\\dk-server.dk.ucsd.edu\\afassihizakeri\\Leftsidemovies\\ar41motor\\2022_07_28\\56.avi\n",
      "Loading  \\\\dk-server.dk.ucsd.edu\\afassihizakeri\\Leftsidemovies\\ar41motor\\2022_07_28\\56.avi\n",
      "Duration of video [s]:  10.0 , recorded with  40.0 fps!\n",
      "Overall # of frames:  400  found with (before cropping) frame dimensions:  800 550\n",
      "Starting to extract posture\n"
     ]
    },
    {
     "name": "stderr",
     "output_type": "stream",
     "text": [
      "410it [00:23, 17.54it/s]                                                                                               \n"
     ]
    },
    {
     "name": "stdout",
     "output_type": "stream",
     "text": [
      "Saving results in \\\\dk-server.dk.ucsd.edu\\afassihizakeri\\Leftsidemovies\\ar41motor\\2022_07_28...\n",
      "Saving csv poses!\n",
      "Starting to analyze %  \\\\dk-server.dk.ucsd.edu\\afassihizakeri\\Leftsidemovies\\ar41motor\\2022_07_28\\138.avi\n",
      "Loading  \\\\dk-server.dk.ucsd.edu\\afassihizakeri\\Leftsidemovies\\ar41motor\\2022_07_28\\138.avi\n",
      "Duration of video [s]:  10.0 , recorded with  40.0 fps!\n",
      "Overall # of frames:  400  found with (before cropping) frame dimensions:  800 550\n",
      "Starting to extract posture\n"
     ]
    },
    {
     "name": "stderr",
     "output_type": "stream",
     "text": [
      "410it [00:23, 17.55it/s]                                                                                               \n"
     ]
    },
    {
     "name": "stdout",
     "output_type": "stream",
     "text": [
      "Saving results in \\\\dk-server.dk.ucsd.edu\\afassihizakeri\\Leftsidemovies\\ar41motor\\2022_07_28...\n",
      "Saving csv poses!\n",
      "Starting to analyze %  \\\\dk-server.dk.ucsd.edu\\afassihizakeri\\Leftsidemovies\\ar41motor\\2022_07_28\\87.avi\n",
      "Loading  \\\\dk-server.dk.ucsd.edu\\afassihizakeri\\Leftsidemovies\\ar41motor\\2022_07_28\\87.avi\n",
      "Duration of video [s]:  10.0 , recorded with  40.0 fps!\n",
      "Overall # of frames:  400  found with (before cropping) frame dimensions:  800 550\n",
      "Starting to extract posture\n"
     ]
    },
    {
     "name": "stderr",
     "output_type": "stream",
     "text": [
      "410it [00:23, 17.54it/s]                                                                                               \n"
     ]
    },
    {
     "name": "stdout",
     "output_type": "stream",
     "text": [
      "Saving results in \\\\dk-server.dk.ucsd.edu\\afassihizakeri\\Leftsidemovies\\ar41motor\\2022_07_28...\n",
      "Saving csv poses!\n",
      "Starting to analyze %  \\\\dk-server.dk.ucsd.edu\\afassihizakeri\\Leftsidemovies\\ar41motor\\2022_07_28\\24.avi\n",
      "Loading  \\\\dk-server.dk.ucsd.edu\\afassihizakeri\\Leftsidemovies\\ar41motor\\2022_07_28\\24.avi\n",
      "Duration of video [s]:  10.0 , recorded with  40.0 fps!\n",
      "Overall # of frames:  400  found with (before cropping) frame dimensions:  800 550\n",
      "Starting to extract posture\n"
     ]
    },
    {
     "name": "stderr",
     "output_type": "stream",
     "text": [
      "410it [00:23, 17.53it/s]                                                                                               \n"
     ]
    },
    {
     "name": "stdout",
     "output_type": "stream",
     "text": [
      "Saving results in \\\\dk-server.dk.ucsd.edu\\afassihizakeri\\Leftsidemovies\\ar41motor\\2022_07_28...\n",
      "Saving csv poses!\n",
      "Starting to analyze %  \\\\dk-server.dk.ucsd.edu\\afassihizakeri\\Leftsidemovies\\ar41motor\\2022_07_28\\58.avi\n",
      "Loading  \\\\dk-server.dk.ucsd.edu\\afassihizakeri\\Leftsidemovies\\ar41motor\\2022_07_28\\58.avi\n",
      "Duration of video [s]:  10.0 , recorded with  40.0 fps!\n",
      "Overall # of frames:  400  found with (before cropping) frame dimensions:  800 550\n",
      "Starting to extract posture\n"
     ]
    },
    {
     "name": "stderr",
     "output_type": "stream",
     "text": [
      "410it [00:23, 17.55it/s]                                                                                               \n"
     ]
    },
    {
     "name": "stdout",
     "output_type": "stream",
     "text": [
      "Saving results in \\\\dk-server.dk.ucsd.edu\\afassihizakeri\\Leftsidemovies\\ar41motor\\2022_07_28...\n",
      "Saving csv poses!\n",
      "Starting to analyze %  \\\\dk-server.dk.ucsd.edu\\afassihizakeri\\Leftsidemovies\\ar41motor\\2022_07_28\\136.avi\n",
      "Loading  \\\\dk-server.dk.ucsd.edu\\afassihizakeri\\Leftsidemovies\\ar41motor\\2022_07_28\\136.avi\n",
      "Duration of video [s]:  10.0 , recorded with  40.0 fps!\n",
      "Overall # of frames:  400  found with (before cropping) frame dimensions:  800 550\n",
      "Starting to extract posture\n"
     ]
    },
    {
     "name": "stderr",
     "output_type": "stream",
     "text": [
      "410it [00:23, 17.53it/s]                                                                                               \n"
     ]
    },
    {
     "name": "stdout",
     "output_type": "stream",
     "text": [
      "Saving results in \\\\dk-server.dk.ucsd.edu\\afassihizakeri\\Leftsidemovies\\ar41motor\\2022_07_28...\n",
      "Saving csv poses!\n",
      "Starting to analyze %  \\\\dk-server.dk.ucsd.edu\\afassihizakeri\\Leftsidemovies\\ar41motor\\2022_07_28\\221.avi\n",
      "Loading  \\\\dk-server.dk.ucsd.edu\\afassihizakeri\\Leftsidemovies\\ar41motor\\2022_07_28\\221.avi\n",
      "Duration of video [s]:  10.0 , recorded with  40.0 fps!\n",
      "Overall # of frames:  400  found with (before cropping) frame dimensions:  800 550\n",
      "Starting to extract posture\n"
     ]
    },
    {
     "name": "stderr",
     "output_type": "stream",
     "text": [
      "410it [00:23, 17.55it/s]                                                                                               \n"
     ]
    },
    {
     "name": "stdout",
     "output_type": "stream",
     "text": [
      "Saving results in \\\\dk-server.dk.ucsd.edu\\afassihizakeri\\Leftsidemovies\\ar41motor\\2022_07_28...\n",
      "Saving csv poses!\n",
      "Starting to analyze %  \\\\dk-server.dk.ucsd.edu\\afassihizakeri\\Leftsidemovies\\ar41motor\\2022_07_28\\89.avi\n",
      "Loading  \\\\dk-server.dk.ucsd.edu\\afassihizakeri\\Leftsidemovies\\ar41motor\\2022_07_28\\89.avi\n",
      "Duration of video [s]:  10.0 , recorded with  40.0 fps!\n",
      "Overall # of frames:  400  found with (before cropping) frame dimensions:  800 550\n",
      "Starting to extract posture\n"
     ]
    },
    {
     "name": "stderr",
     "output_type": "stream",
     "text": [
      "410it [00:23, 17.54it/s]                                                                                               \n"
     ]
    },
    {
     "name": "stdout",
     "output_type": "stream",
     "text": [
      "Saving results in \\\\dk-server.dk.ucsd.edu\\afassihizakeri\\Leftsidemovies\\ar41motor\\2022_07_28...\n",
      "Saving csv poses!\n",
      "Starting to analyze %  \\\\dk-server.dk.ucsd.edu\\afassihizakeri\\Leftsidemovies\\ar41motor\\2022_07_28\\131.avi\n",
      "Loading  \\\\dk-server.dk.ucsd.edu\\afassihizakeri\\Leftsidemovies\\ar41motor\\2022_07_28\\131.avi\n",
      "Duration of video [s]:  10.0 , recorded with  40.0 fps!\n",
      "Overall # of frames:  400  found with (before cropping) frame dimensions:  800 550\n",
      "Starting to extract posture\n"
     ]
    },
    {
     "name": "stderr",
     "output_type": "stream",
     "text": [
      "410it [00:23, 17.55it/s]                                                                                               \n"
     ]
    },
    {
     "name": "stdout",
     "output_type": "stream",
     "text": [
      "Saving results in \\\\dk-server.dk.ucsd.edu\\afassihizakeri\\Leftsidemovies\\ar41motor\\2022_07_28...\n",
      "Saving csv poses!\n",
      "Starting to analyze %  \\\\dk-server.dk.ucsd.edu\\afassihizakeri\\Leftsidemovies\\ar41motor\\2022_07_28\\226.avi\n",
      "Loading  \\\\dk-server.dk.ucsd.edu\\afassihizakeri\\Leftsidemovies\\ar41motor\\2022_07_28\\226.avi\n",
      "Duration of video [s]:  10.0 , recorded with  40.0 fps!\n",
      "Overall # of frames:  400  found with (before cropping) frame dimensions:  800 550\n",
      "Starting to extract posture\n"
     ]
    },
    {
     "name": "stderr",
     "output_type": "stream",
     "text": [
      "410it [00:23, 17.57it/s]                                                                                               \n"
     ]
    },
    {
     "name": "stdout",
     "output_type": "stream",
     "text": [
      "Saving results in \\\\dk-server.dk.ucsd.edu\\afassihizakeri\\Leftsidemovies\\ar41motor\\2022_07_28...\n",
      "Saving csv poses!\n",
      "Starting to analyze %  \\\\dk-server.dk.ucsd.edu\\afassihizakeri\\Leftsidemovies\\ar41motor\\2022_07_28\\23.avi\n",
      "Loading  \\\\dk-server.dk.ucsd.edu\\afassihizakeri\\Leftsidemovies\\ar41motor\\2022_07_28\\23.avi\n",
      "Duration of video [s]:  10.0 , recorded with  40.0 fps!\n",
      "Overall # of frames:  400  found with (before cropping) frame dimensions:  800 550\n",
      "Starting to extract posture\n"
     ]
    },
    {
     "name": "stderr",
     "output_type": "stream",
     "text": [
      "410it [00:23, 17.55it/s]                                                                                               \n"
     ]
    },
    {
     "name": "stdout",
     "output_type": "stream",
     "text": [
      "Saving results in \\\\dk-server.dk.ucsd.edu\\afassihizakeri\\Leftsidemovies\\ar41motor\\2022_07_28...\n",
      "Saving csv poses!\n",
      "Starting to analyze %  \\\\dk-server.dk.ucsd.edu\\afassihizakeri\\Leftsidemovies\\ar41motor\\2022_07_28\\213.avi\n",
      "Loading  \\\\dk-server.dk.ucsd.edu\\afassihizakeri\\Leftsidemovies\\ar41motor\\2022_07_28\\213.avi\n",
      "Duration of video [s]:  10.0 , recorded with  40.0 fps!\n",
      "Overall # of frames:  400  found with (before cropping) frame dimensions:  800 550\n",
      "Starting to extract posture\n"
     ]
    },
    {
     "name": "stderr",
     "output_type": "stream",
     "text": [
      "410it [00:23, 17.57it/s]                                                                                               \n"
     ]
    },
    {
     "name": "stdout",
     "output_type": "stream",
     "text": [
      "Saving results in \\\\dk-server.dk.ucsd.edu\\afassihizakeri\\Leftsidemovies\\ar41motor\\2022_07_28...\n",
      "Saving csv poses!\n",
      "Starting to analyze %  \\\\dk-server.dk.ucsd.edu\\afassihizakeri\\Leftsidemovies\\ar41motor\\2022_07_28\\104.avi\n",
      "Loading  \\\\dk-server.dk.ucsd.edu\\afassihizakeri\\Leftsidemovies\\ar41motor\\2022_07_28\\104.avi\n",
      "Duration of video [s]:  10.0 , recorded with  40.0 fps!\n",
      "Overall # of frames:  400  found with (before cropping) frame dimensions:  800 550\n",
      "Starting to extract posture\n"
     ]
    },
    {
     "name": "stderr",
     "output_type": "stream",
     "text": [
      "410it [00:23, 17.50it/s]                                                                                               \n"
     ]
    },
    {
     "name": "stdout",
     "output_type": "stream",
     "text": [
      "Saving results in \\\\dk-server.dk.ucsd.edu\\afassihizakeri\\Leftsidemovies\\ar41motor\\2022_07_28...\n",
      "Saving csv poses!\n",
      "Starting to analyze %  \\\\dk-server.dk.ucsd.edu\\afassihizakeri\\Leftsidemovies\\ar41motor\\2022_07_28\\4.avi\n",
      "Loading  \\\\dk-server.dk.ucsd.edu\\afassihizakeri\\Leftsidemovies\\ar41motor\\2022_07_28\\4.avi\n",
      "Duration of video [s]:  10.0 , recorded with  40.0 fps!\n",
      "Overall # of frames:  400  found with (before cropping) frame dimensions:  800 550\n",
      "Starting to extract posture\n"
     ]
    },
    {
     "name": "stderr",
     "output_type": "stream",
     "text": [
      "410it [00:23, 17.53it/s]                                                                                               \n"
     ]
    },
    {
     "name": "stdout",
     "output_type": "stream",
     "text": [
      "Saving results in \\\\dk-server.dk.ucsd.edu\\afassihizakeri\\Leftsidemovies\\ar41motor\\2022_07_28...\n",
      "Saving csv poses!\n",
      "Starting to analyze %  \\\\dk-server.dk.ucsd.edu\\afassihizakeri\\Leftsidemovies\\ar41motor\\2022_07_28\\178.avi\n",
      "Loading  \\\\dk-server.dk.ucsd.edu\\afassihizakeri\\Leftsidemovies\\ar41motor\\2022_07_28\\178.avi\n",
      "Duration of video [s]:  10.0 , recorded with  40.0 fps!\n",
      "Overall # of frames:  400  found with (before cropping) frame dimensions:  800 550\n",
      "Starting to extract posture\n"
     ]
    },
    {
     "name": "stderr",
     "output_type": "stream",
     "text": [
      "410it [00:23, 17.32it/s]                                                                                               \n"
     ]
    },
    {
     "name": "stdout",
     "output_type": "stream",
     "text": [
      "Saving results in \\\\dk-server.dk.ucsd.edu\\afassihizakeri\\Leftsidemovies\\ar41motor\\2022_07_28...\n",
      "Saving csv poses!\n",
      "Starting to analyze %  \\\\dk-server.dk.ucsd.edu\\afassihizakeri\\Leftsidemovies\\ar41motor\\2022_07_28\\16.avi\n",
      "Loading  \\\\dk-server.dk.ucsd.edu\\afassihizakeri\\Leftsidemovies\\ar41motor\\2022_07_28\\16.avi\n",
      "Duration of video [s]:  10.0 , recorded with  40.0 fps!\n",
      "Overall # of frames:  400  found with (before cropping) frame dimensions:  800 550\n",
      "Starting to extract posture\n"
     ]
    },
    {
     "name": "stderr",
     "output_type": "stream",
     "text": [
      "410it [00:23, 17.52it/s]                                                                                               \n"
     ]
    },
    {
     "name": "stdout",
     "output_type": "stream",
     "text": [
      "Saving results in \\\\dk-server.dk.ucsd.edu\\afassihizakeri\\Leftsidemovies\\ar41motor\\2022_07_28...\n",
      "Saving csv poses!\n",
      "Starting to analyze %  \\\\dk-server.dk.ucsd.edu\\afassihizakeri\\Leftsidemovies\\ar41motor\\2022_07_28\\3.avi\n",
      "Loading  \\\\dk-server.dk.ucsd.edu\\afassihizakeri\\Leftsidemovies\\ar41motor\\2022_07_28\\3.avi\n",
      "Duration of video [s]:  10.0 , recorded with  40.0 fps!\n",
      "Overall # of frames:  400  found with (before cropping) frame dimensions:  800 550\n",
      "Starting to extract posture\n"
     ]
    },
    {
     "name": "stderr",
     "output_type": "stream",
     "text": [
      "410it [00:23, 17.52it/s]                                                                                               \n"
     ]
    },
    {
     "name": "stdout",
     "output_type": "stream",
     "text": [
      "Saving results in \\\\dk-server.dk.ucsd.edu\\afassihizakeri\\Leftsidemovies\\ar41motor\\2022_07_28...\n",
      "Saving csv poses!\n",
      "Starting to analyze %  \\\\dk-server.dk.ucsd.edu\\afassihizakeri\\Leftsidemovies\\ar41motor\\2022_07_28\\11.avi\n",
      "Loading  \\\\dk-server.dk.ucsd.edu\\afassihizakeri\\Leftsidemovies\\ar41motor\\2022_07_28\\11.avi\n",
      "Duration of video [s]:  10.0 , recorded with  40.0 fps!\n",
      "Overall # of frames:  400  found with (before cropping) frame dimensions:  800 550\n",
      "Starting to extract posture\n"
     ]
    },
    {
     "name": "stderr",
     "output_type": "stream",
     "text": [
      "410it [00:23, 17.52it/s]                                                                                               \n"
     ]
    },
    {
     "name": "stdout",
     "output_type": "stream",
     "text": [
      "Saving results in \\\\dk-server.dk.ucsd.edu\\afassihizakeri\\Leftsidemovies\\ar41motor\\2022_07_28...\n",
      "Saving csv poses!\n",
      "Starting to analyze %  \\\\dk-server.dk.ucsd.edu\\afassihizakeri\\Leftsidemovies\\ar41motor\\2022_07_28\\214.avi\n",
      "Loading  \\\\dk-server.dk.ucsd.edu\\afassihizakeri\\Leftsidemovies\\ar41motor\\2022_07_28\\214.avi\n",
      "Duration of video [s]:  10.0 , recorded with  40.0 fps!\n",
      "Overall # of frames:  400  found with (before cropping) frame dimensions:  800 550\n",
      "Starting to extract posture\n"
     ]
    },
    {
     "name": "stderr",
     "output_type": "stream",
     "text": [
      "410it [00:23, 17.54it/s]                                                                                               \n"
     ]
    },
    {
     "name": "stdout",
     "output_type": "stream",
     "text": [
      "Saving results in \\\\dk-server.dk.ucsd.edu\\afassihizakeri\\Leftsidemovies\\ar41motor\\2022_07_28...\n",
      "Saving csv poses!\n",
      "Starting to analyze %  \\\\dk-server.dk.ucsd.edu\\afassihizakeri\\Leftsidemovies\\ar41motor\\2022_07_28\\103.avi\n",
      "Loading  \\\\dk-server.dk.ucsd.edu\\afassihizakeri\\Leftsidemovies\\ar41motor\\2022_07_28\\103.avi\n",
      "Duration of video [s]:  10.0 , recorded with  40.0 fps!\n",
      "Overall # of frames:  400  found with (before cropping) frame dimensions:  800 550\n",
      "Starting to extract posture\n"
     ]
    },
    {
     "name": "stderr",
     "output_type": "stream",
     "text": [
      "410it [00:23, 17.55it/s]                                                                                               \n"
     ]
    },
    {
     "name": "stdout",
     "output_type": "stream",
     "text": [
      "Saving results in \\\\dk-server.dk.ucsd.edu\\afassihizakeri\\Leftsidemovies\\ar41motor\\2022_07_28...\n",
      "Saving csv poses!\n",
      "Starting to analyze %  \\\\dk-server.dk.ucsd.edu\\afassihizakeri\\Leftsidemovies\\ar41motor\\2022_07_28\\171.avi\n",
      "Loading  \\\\dk-server.dk.ucsd.edu\\afassihizakeri\\Leftsidemovies\\ar41motor\\2022_07_28\\171.avi\n",
      "Duration of video [s]:  10.0 , recorded with  40.0 fps!\n",
      "Overall # of frames:  400  found with (before cropping) frame dimensions:  800 550\n",
      "Starting to extract posture\n"
     ]
    },
    {
     "name": "stderr",
     "output_type": "stream",
     "text": [
      "410it [00:23, 17.53it/s]                                                                                               \n"
     ]
    },
    {
     "name": "stdout",
     "output_type": "stream",
     "text": [
      "Saving results in \\\\dk-server.dk.ucsd.edu\\afassihizakeri\\Leftsidemovies\\ar41motor\\2022_07_28...\n",
      "Saving csv poses!\n",
      "Starting to analyze %  \\\\dk-server.dk.ucsd.edu\\afassihizakeri\\Leftsidemovies\\ar41motor\\2022_07_28\\63.avi\n",
      "Loading  \\\\dk-server.dk.ucsd.edu\\afassihizakeri\\Leftsidemovies\\ar41motor\\2022_07_28\\63.avi\n",
      "Duration of video [s]:  10.0 , recorded with  40.0 fps!\n",
      "Overall # of frames:  400  found with (before cropping) frame dimensions:  800 550\n",
      "Starting to extract posture\n"
     ]
    },
    {
     "name": "stderr",
     "output_type": "stream",
     "text": [
      "410it [00:23, 17.58it/s]                                                                                               \n"
     ]
    },
    {
     "name": "stdout",
     "output_type": "stream",
     "text": [
      "Saving results in \\\\dk-server.dk.ucsd.edu\\afassihizakeri\\Leftsidemovies\\ar41motor\\2022_07_28...\n",
      "Saving csv poses!\n",
      "Starting to analyze %  \\\\dk-server.dk.ucsd.edu\\afassihizakeri\\Leftsidemovies\\ar41motor\\2022_07_28\\64.avi\n",
      "Loading  \\\\dk-server.dk.ucsd.edu\\afassihizakeri\\Leftsidemovies\\ar41motor\\2022_07_28\\64.avi\n",
      "Duration of video [s]:  10.0 , recorded with  40.0 fps!\n",
      "Overall # of frames:  400  found with (before cropping) frame dimensions:  800 550\n",
      "Starting to extract posture\n"
     ]
    },
    {
     "name": "stderr",
     "output_type": "stream",
     "text": [
      "410it [00:23, 17.55it/s]                                                                                               \n"
     ]
    },
    {
     "name": "stdout",
     "output_type": "stream",
     "text": [
      "Saving results in \\\\dk-server.dk.ucsd.edu\\afassihizakeri\\Leftsidemovies\\ar41motor\\2022_07_28...\n",
      "Saving csv poses!\n",
      "Starting to analyze %  \\\\dk-server.dk.ucsd.edu\\afassihizakeri\\Leftsidemovies\\ar41motor\\2022_07_28\\176.avi\n",
      "Loading  \\\\dk-server.dk.ucsd.edu\\afassihizakeri\\Leftsidemovies\\ar41motor\\2022_07_28\\176.avi\n",
      "Duration of video [s]:  10.0 , recorded with  40.0 fps!\n",
      "Overall # of frames:  400  found with (before cropping) frame dimensions:  800 550\n",
      "Starting to extract posture\n"
     ]
    },
    {
     "name": "stderr",
     "output_type": "stream",
     "text": [
      "410it [00:23, 17.51it/s]                                                                                               \n"
     ]
    },
    {
     "name": "stdout",
     "output_type": "stream",
     "text": [
      "Saving results in \\\\dk-server.dk.ucsd.edu\\afassihizakeri\\Leftsidemovies\\ar41motor\\2022_07_28...\n",
      "Saving csv poses!\n",
      "Starting to analyze %  \\\\dk-server.dk.ucsd.edu\\afassihizakeri\\Leftsidemovies\\ar41motor\\2022_07_28\\18.avi\n",
      "Loading  \\\\dk-server.dk.ucsd.edu\\afassihizakeri\\Leftsidemovies\\ar41motor\\2022_07_28\\18.avi\n",
      "Duration of video [s]:  10.0 , recorded with  40.0 fps!\n",
      "Overall # of frames:  400  found with (before cropping) frame dimensions:  800 550\n",
      "Starting to extract posture\n"
     ]
    },
    {
     "name": "stderr",
     "output_type": "stream",
     "text": [
      "410it [00:23, 17.59it/s]                                                                                               \n"
     ]
    },
    {
     "name": "stdout",
     "output_type": "stream",
     "text": [
      "Saving results in \\\\dk-server.dk.ucsd.edu\\afassihizakeri\\Leftsidemovies\\ar41motor\\2022_07_28...\n",
      "Saving csv poses!\n",
      "Starting to analyze %  \\\\dk-server.dk.ucsd.edu\\afassihizakeri\\Leftsidemovies\\ar41motor\\2022_07_28\\147.avi\n",
      "Loading  \\\\dk-server.dk.ucsd.edu\\afassihizakeri\\Leftsidemovies\\ar41motor\\2022_07_28\\147.avi\n",
      "Duration of video [s]:  10.0 , recorded with  40.0 fps!\n",
      "Overall # of frames:  400  found with (before cropping) frame dimensions:  800 550\n",
      "Starting to extract posture\n"
     ]
    },
    {
     "name": "stderr",
     "output_type": "stream",
     "text": [
      "410it [00:23, 17.54it/s]                                                                                               \n"
     ]
    },
    {
     "name": "stdout",
     "output_type": "stream",
     "text": [
      "Saving results in \\\\dk-server.dk.ucsd.edu\\afassihizakeri\\Leftsidemovies\\ar41motor\\2022_07_28...\n",
      "Saving csv poses!\n",
      "Starting to analyze %  \\\\dk-server.dk.ucsd.edu\\afassihizakeri\\Leftsidemovies\\ar41motor\\2022_07_28\\29.avi\n",
      "Loading  \\\\dk-server.dk.ucsd.edu\\afassihizakeri\\Leftsidemovies\\ar41motor\\2022_07_28\\29.avi\n",
      "Duration of video [s]:  10.0 , recorded with  40.0 fps!\n",
      "Overall # of frames:  400  found with (before cropping) frame dimensions:  800 550\n",
      "Starting to extract posture\n"
     ]
    },
    {
     "name": "stderr",
     "output_type": "stream",
     "text": [
      "410it [00:23, 17.58it/s]                                                                                               \n"
     ]
    },
    {
     "name": "stdout",
     "output_type": "stream",
     "text": [
      "Saving results in \\\\dk-server.dk.ucsd.edu\\afassihizakeri\\Leftsidemovies\\ar41motor\\2022_07_28...\n",
      "Saving csv poses!\n",
      "Starting to analyze %  \\\\dk-server.dk.ucsd.edu\\afassihizakeri\\Leftsidemovies\\ar41motor\\2022_07_28\\250.avi\n",
      "Loading  \\\\dk-server.dk.ucsd.edu\\afassihizakeri\\Leftsidemovies\\ar41motor\\2022_07_28\\250.avi\n",
      "Duration of video [s]:  10.0 , recorded with  40.0 fps!\n",
      "Overall # of frames:  400  found with (before cropping) frame dimensions:  800 550\n",
      "Starting to extract posture\n"
     ]
    },
    {
     "name": "stderr",
     "output_type": "stream",
     "text": [
      "410it [00:23, 17.53it/s]                                                                                               \n"
     ]
    },
    {
     "name": "stdout",
     "output_type": "stream",
     "text": [
      "Saving results in \\\\dk-server.dk.ucsd.edu\\afassihizakeri\\Leftsidemovies\\ar41motor\\2022_07_28...\n",
      "Saving csv poses!\n",
      "Starting to analyze %  \\\\dk-server.dk.ucsd.edu\\afassihizakeri\\Leftsidemovies\\ar41motor\\2022_07_28\\196.avi\n",
      "Loading  \\\\dk-server.dk.ucsd.edu\\afassihizakeri\\Leftsidemovies\\ar41motor\\2022_07_28\\196.avi\n",
      "Duration of video [s]:  10.0 , recorded with  40.0 fps!\n",
      "Overall # of frames:  400  found with (before cropping) frame dimensions:  800 550\n",
      "Starting to extract posture\n"
     ]
    },
    {
     "name": "stderr",
     "output_type": "stream",
     "text": [
      "410it [00:23, 17.57it/s]                                                                                               \n"
     ]
    },
    {
     "name": "stdout",
     "output_type": "stream",
     "text": [
      "Saving results in \\\\dk-server.dk.ucsd.edu\\afassihizakeri\\Leftsidemovies\\ar41motor\\2022_07_28...\n",
      "Saving csv poses!\n",
      "Starting to analyze %  \\\\dk-server.dk.ucsd.edu\\afassihizakeri\\Leftsidemovies\\ar41motor\\2022_07_28\\55.avi\n",
      "Loading  \\\\dk-server.dk.ucsd.edu\\afassihizakeri\\Leftsidemovies\\ar41motor\\2022_07_28\\55.avi\n",
      "Duration of video [s]:  10.0 , recorded with  40.0 fps!\n",
      "Overall # of frames:  400  found with (before cropping) frame dimensions:  800 550\n",
      "Starting to extract posture\n"
     ]
    },
    {
     "name": "stderr",
     "output_type": "stream",
     "text": [
      "410it [00:23, 17.53it/s]                                                                                               \n"
     ]
    },
    {
     "name": "stdout",
     "output_type": "stream",
     "text": [
      "Saving results in \\\\dk-server.dk.ucsd.edu\\afassihizakeri\\Leftsidemovies\\ar41motor\\2022_07_28...\n",
      "Saving csv poses!\n",
      "Starting to analyze %  \\\\dk-server.dk.ucsd.edu\\afassihizakeri\\Leftsidemovies\\ar41motor\\2022_07_28\\84.avi\n",
      "Loading  \\\\dk-server.dk.ucsd.edu\\afassihizakeri\\Leftsidemovies\\ar41motor\\2022_07_28\\84.avi\n",
      "Duration of video [s]:  10.0 , recorded with  40.0 fps!\n",
      "Overall # of frames:  400  found with (before cropping) frame dimensions:  800 550\n",
      "Starting to extract posture\n"
     ]
    },
    {
     "name": "stderr",
     "output_type": "stream",
     "text": [
      "410it [00:23, 17.54it/s]                                                                                               \n"
     ]
    },
    {
     "name": "stdout",
     "output_type": "stream",
     "text": [
      "Saving results in \\\\dk-server.dk.ucsd.edu\\afassihizakeri\\Leftsidemovies\\ar41motor\\2022_07_28...\n",
      "Saving csv poses!\n",
      "Starting to analyze %  \\\\dk-server.dk.ucsd.edu\\afassihizakeri\\Leftsidemovies\\ar41motor\\2022_07_28\\52.avi\n",
      "Loading  \\\\dk-server.dk.ucsd.edu\\afassihizakeri\\Leftsidemovies\\ar41motor\\2022_07_28\\52.avi\n",
      "Duration of video [s]:  10.0 , recorded with  40.0 fps!\n",
      "Overall # of frames:  400  found with (before cropping) frame dimensions:  800 550\n",
      "Starting to extract posture\n"
     ]
    },
    {
     "name": "stderr",
     "output_type": "stream",
     "text": [
      "410it [00:23, 17.55it/s]                                                                                               \n"
     ]
    },
    {
     "name": "stdout",
     "output_type": "stream",
     "text": [
      "Saving results in \\\\dk-server.dk.ucsd.edu\\afassihizakeri\\Leftsidemovies\\ar41motor\\2022_07_28...\n",
      "Saving csv poses!\n",
      "Starting to analyze %  \\\\dk-server.dk.ucsd.edu\\afassihizakeri\\Leftsidemovies\\ar41motor\\2022_07_28\\83.avi\n",
      "Loading  \\\\dk-server.dk.ucsd.edu\\afassihizakeri\\Leftsidemovies\\ar41motor\\2022_07_28\\83.avi\n",
      "Duration of video [s]:  10.0 , recorded with  40.0 fps!\n",
      "Overall # of frames:  400  found with (before cropping) frame dimensions:  800 550\n",
      "Starting to extract posture\n"
     ]
    },
    {
     "name": "stderr",
     "output_type": "stream",
     "text": [
      "410it [00:23, 17.55it/s]                                                                                               \n"
     ]
    },
    {
     "name": "stdout",
     "output_type": "stream",
     "text": [
      "Saving results in \\\\dk-server.dk.ucsd.edu\\afassihizakeri\\Leftsidemovies\\ar41motor\\2022_07_28...\n",
      "Saving csv poses!\n",
      "Starting to analyze %  \\\\dk-server.dk.ucsd.edu\\afassihizakeri\\Leftsidemovies\\ar41motor\\2022_07_28\\140.avi\n",
      "Loading  \\\\dk-server.dk.ucsd.edu\\afassihizakeri\\Leftsidemovies\\ar41motor\\2022_07_28\\140.avi\n",
      "Duration of video [s]:  10.0 , recorded with  40.0 fps!\n",
      "Overall # of frames:  400  found with (before cropping) frame dimensions:  800 550\n",
      "Starting to extract posture\n"
     ]
    },
    {
     "name": "stderr",
     "output_type": "stream",
     "text": [
      "410it [00:23, 17.56it/s]                                                                                               \n"
     ]
    },
    {
     "name": "stdout",
     "output_type": "stream",
     "text": [
      "Saving results in \\\\dk-server.dk.ucsd.edu\\afassihizakeri\\Leftsidemovies\\ar41motor\\2022_07_28...\n",
      "Saving csv poses!\n",
      "Starting to analyze %  \\\\dk-server.dk.ucsd.edu\\afassihizakeri\\Leftsidemovies\\ar41motor\\2022_07_28\\257.avi\n",
      "Loading  \\\\dk-server.dk.ucsd.edu\\afassihizakeri\\Leftsidemovies\\ar41motor\\2022_07_28\\257.avi\n",
      "Duration of video [s]:  10.0 , recorded with  40.0 fps!\n",
      "Overall # of frames:  400  found with (before cropping) frame dimensions:  800 550\n",
      "Starting to extract posture\n"
     ]
    },
    {
     "name": "stderr",
     "output_type": "stream",
     "text": [
      "410it [00:23, 17.56it/s]                                                                                               \n"
     ]
    },
    {
     "name": "stdout",
     "output_type": "stream",
     "text": [
      "Saving results in \\\\dk-server.dk.ucsd.edu\\afassihizakeri\\Leftsidemovies\\ar41motor\\2022_07_28...\n",
      "Saving csv poses!\n",
      "Starting to analyze %  \\\\dk-server.dk.ucsd.edu\\afassihizakeri\\Leftsidemovies\\ar41motor\\2022_07_28\\191.avi\n",
      "Loading  \\\\dk-server.dk.ucsd.edu\\afassihizakeri\\Leftsidemovies\\ar41motor\\2022_07_28\\191.avi\n",
      "Duration of video [s]:  10.0 , recorded with  40.0 fps!\n",
      "Overall # of frames:  400  found with (before cropping) frame dimensions:  800 550\n",
      "Starting to extract posture\n"
     ]
    },
    {
     "name": "stderr",
     "output_type": "stream",
     "text": [
      "410it [00:23, 17.52it/s]                                                                                               \n"
     ]
    },
    {
     "name": "stdout",
     "output_type": "stream",
     "text": [
      "Saving results in \\\\dk-server.dk.ucsd.edu\\afassihizakeri\\Leftsidemovies\\ar41motor\\2022_07_28...\n",
      "Saving csv poses!\n",
      "Starting to analyze %  \\\\dk-server.dk.ucsd.edu\\afassihizakeri\\Leftsidemovies\\ar41motor\\2022_07_28\\132.avi\n",
      "Loading  \\\\dk-server.dk.ucsd.edu\\afassihizakeri\\Leftsidemovies\\ar41motor\\2022_07_28\\132.avi\n",
      "Duration of video [s]:  10.0 , recorded with  40.0 fps!\n",
      "Overall # of frames:  400  found with (before cropping) frame dimensions:  800 550\n",
      "Starting to extract posture\n"
     ]
    },
    {
     "name": "stderr",
     "output_type": "stream",
     "text": [
      "410it [00:23, 17.55it/s]                                                                                               \n"
     ]
    },
    {
     "name": "stdout",
     "output_type": "stream",
     "text": [
      "Saving results in \\\\dk-server.dk.ucsd.edu\\afassihizakeri\\Leftsidemovies\\ar41motor\\2022_07_28...\n",
      "Saving csv poses!\n",
      "Starting to analyze %  \\\\dk-server.dk.ucsd.edu\\afassihizakeri\\Leftsidemovies\\ar41motor\\2022_07_28\\225.avi\n",
      "Loading  \\\\dk-server.dk.ucsd.edu\\afassihizakeri\\Leftsidemovies\\ar41motor\\2022_07_28\\225.avi\n",
      "Duration of video [s]:  10.0 , recorded with  40.0 fps!\n",
      "Overall # of frames:  400  found with (before cropping) frame dimensions:  800 550\n",
      "Starting to extract posture\n"
     ]
    },
    {
     "name": "stderr",
     "output_type": "stream",
     "text": [
      "410it [00:23, 17.56it/s]                                                                                               \n"
     ]
    },
    {
     "name": "stdout",
     "output_type": "stream",
     "text": [
      "Saving results in \\\\dk-server.dk.ucsd.edu\\afassihizakeri\\Leftsidemovies\\ar41motor\\2022_07_28...\n",
      "Saving csv poses!\n",
      "Starting to analyze %  \\\\dk-server.dk.ucsd.edu\\afassihizakeri\\Leftsidemovies\\ar41motor\\2022_07_28\\20.avi\n",
      "Loading  \\\\dk-server.dk.ucsd.edu\\afassihizakeri\\Leftsidemovies\\ar41motor\\2022_07_28\\20.avi\n",
      "Duration of video [s]:  10.0 , recorded with  40.0 fps!\n",
      "Overall # of frames:  400  found with (before cropping) frame dimensions:  800 550\n",
      "Starting to extract posture\n"
     ]
    },
    {
     "name": "stderr",
     "output_type": "stream",
     "text": [
      "410it [00:23, 17.52it/s]                                                                                               \n"
     ]
    },
    {
     "name": "stdout",
     "output_type": "stream",
     "text": [
      "Saving results in \\\\dk-server.dk.ucsd.edu\\afassihizakeri\\Leftsidemovies\\ar41motor\\2022_07_28...\n",
      "Saving csv poses!\n",
      "Starting to analyze %  \\\\dk-server.dk.ucsd.edu\\afassihizakeri\\Leftsidemovies\\ar41motor\\2022_07_28\\259.avi\n",
      "Loading  \\\\dk-server.dk.ucsd.edu\\afassihizakeri\\Leftsidemovies\\ar41motor\\2022_07_28\\259.avi\n",
      "Duration of video [s]:  10.0 , recorded with  40.0 fps!\n",
      "Overall # of frames:  400  found with (before cropping) frame dimensions:  800 550\n",
      "Starting to extract posture\n"
     ]
    },
    {
     "name": "stderr",
     "output_type": "stream",
     "text": [
      "410it [00:23, 17.57it/s]                                                                                               \n"
     ]
    },
    {
     "name": "stdout",
     "output_type": "stream",
     "text": [
      "Saving results in \\\\dk-server.dk.ucsd.edu\\afassihizakeri\\Leftsidemovies\\ar41motor\\2022_07_28...\n",
      "Saving csv poses!\n",
      "Starting to analyze %  \\\\dk-server.dk.ucsd.edu\\afassihizakeri\\Leftsidemovies\\ar41motor\\2022_07_28\\149.avi\n",
      "Loading  \\\\dk-server.dk.ucsd.edu\\afassihizakeri\\Leftsidemovies\\ar41motor\\2022_07_28\\149.avi\n",
      "Duration of video [s]:  10.0 , recorded with  40.0 fps!\n",
      "Overall # of frames:  400  found with (before cropping) frame dimensions:  800 550\n",
      "Starting to extract posture\n"
     ]
    },
    {
     "name": "stderr",
     "output_type": "stream",
     "text": [
      "410it [00:23, 17.55it/s]                                                                                               \n"
     ]
    },
    {
     "name": "stdout",
     "output_type": "stream",
     "text": [
      "Saving results in \\\\dk-server.dk.ucsd.edu\\afassihizakeri\\Leftsidemovies\\ar41motor\\2022_07_28...\n",
      "Saving csv poses!\n",
      "Starting to analyze %  \\\\dk-server.dk.ucsd.edu\\afassihizakeri\\Leftsidemovies\\ar41motor\\2022_07_28\\27.avi\n",
      "Loading  \\\\dk-server.dk.ucsd.edu\\afassihizakeri\\Leftsidemovies\\ar41motor\\2022_07_28\\27.avi\n",
      "Duration of video [s]:  10.0 , recorded with  40.0 fps!\n",
      "Overall # of frames:  400  found with (before cropping) frame dimensions:  800 550\n",
      "Starting to extract posture\n"
     ]
    },
    {
     "name": "stderr",
     "output_type": "stream",
     "text": [
      "410it [00:23, 17.54it/s]                                                                                               \n"
     ]
    },
    {
     "name": "stdout",
     "output_type": "stream",
     "text": [
      "Saving results in \\\\dk-server.dk.ucsd.edu\\afassihizakeri\\Leftsidemovies\\ar41motor\\2022_07_28...\n",
      "Saving csv poses!\n",
      "Starting to analyze %  \\\\dk-server.dk.ucsd.edu\\afassihizakeri\\Leftsidemovies\\ar41motor\\2022_07_28\\198.avi\n",
      "Loading  \\\\dk-server.dk.ucsd.edu\\afassihizakeri\\Leftsidemovies\\ar41motor\\2022_07_28\\198.avi\n",
      "Duration of video [s]:  10.0 , recorded with  40.0 fps!\n",
      "Overall # of frames:  400  found with (before cropping) frame dimensions:  800 550\n",
      "Starting to extract posture\n"
     ]
    },
    {
     "name": "stderr",
     "output_type": "stream",
     "text": [
      "410it [00:23, 17.55it/s]                                                                                               \n"
     ]
    },
    {
     "name": "stdout",
     "output_type": "stream",
     "text": [
      "Saving results in \\\\dk-server.dk.ucsd.edu\\afassihizakeri\\Leftsidemovies\\ar41motor\\2022_07_28...\n",
      "Saving csv poses!\n",
      "Starting to analyze %  \\\\dk-server.dk.ucsd.edu\\afassihizakeri\\Leftsidemovies\\ar41motor\\2022_07_28\\135.avi\n",
      "Loading  \\\\dk-server.dk.ucsd.edu\\afassihizakeri\\Leftsidemovies\\ar41motor\\2022_07_28\\135.avi\n",
      "Duration of video [s]:  10.0 , recorded with  40.0 fps!\n",
      "Overall # of frames:  400  found with (before cropping) frame dimensions:  800 550\n",
      "Starting to extract posture\n"
     ]
    },
    {
     "name": "stderr",
     "output_type": "stream",
     "text": [
      "410it [00:23, 17.53it/s]                                                                                               \n"
     ]
    },
    {
     "name": "stdout",
     "output_type": "stream",
     "text": [
      "Saving results in \\\\dk-server.dk.ucsd.edu\\afassihizakeri\\Leftsidemovies\\ar41motor\\2022_07_28...\n",
      "Saving csv poses!\n",
      "Starting to analyze %  \\\\dk-server.dk.ucsd.edu\\afassihizakeri\\Leftsidemovies\\ar41motor\\2022_07_28\\222.avi\n",
      "Loading  \\\\dk-server.dk.ucsd.edu\\afassihizakeri\\Leftsidemovies\\ar41motor\\2022_07_28\\222.avi\n",
      "Duration of video [s]:  10.0 , recorded with  40.0 fps!\n",
      "Overall # of frames:  400  found with (before cropping) frame dimensions:  800 550\n",
      "Starting to extract posture\n"
     ]
    },
    {
     "name": "stderr",
     "output_type": "stream",
     "text": [
      "410it [00:23, 17.56it/s]                                                                                               \n"
     ]
    },
    {
     "name": "stdout",
     "output_type": "stream",
     "text": [
      "Saving results in \\\\dk-server.dk.ucsd.edu\\afassihizakeri\\Leftsidemovies\\ar41motor\\2022_07_28...\n",
      "Saving csv poses!\n",
      "Starting to analyze %  \\\\dk-server.dk.ucsd.edu\\afassihizakeri\\Leftsidemovies\\ar41motor\\2022_07_28\\0.avi\n",
      "Loading  \\\\dk-server.dk.ucsd.edu\\afassihizakeri\\Leftsidemovies\\ar41motor\\2022_07_28\\0.avi\n",
      "Duration of video [s]:  10.0 , recorded with  40.0 fps!\n",
      "Overall # of frames:  400  found with (before cropping) frame dimensions:  800 550\n",
      "Starting to extract posture\n"
     ]
    },
    {
     "name": "stderr",
     "output_type": "stream",
     "text": [
      "410it [00:23, 17.55it/s]                                                                                               \n"
     ]
    },
    {
     "name": "stdout",
     "output_type": "stream",
     "text": [
      "Saving results in \\\\dk-server.dk.ucsd.edu\\afassihizakeri\\Leftsidemovies\\ar41motor\\2022_07_28...\n",
      "Saving csv poses!\n",
      "Starting to analyze %  \\\\dk-server.dk.ucsd.edu\\afassihizakeri\\Leftsidemovies\\ar41motor\\2022_07_28\\12.avi\n",
      "Loading  \\\\dk-server.dk.ucsd.edu\\afassihizakeri\\Leftsidemovies\\ar41motor\\2022_07_28\\12.avi\n",
      "Duration of video [s]:  10.0 , recorded with  40.0 fps!\n",
      "Overall # of frames:  400  found with (before cropping) frame dimensions:  800 550\n",
      "Starting to extract posture\n"
     ]
    },
    {
     "name": "stderr",
     "output_type": "stream",
     "text": [
      "410it [00:23, 17.56it/s]                                                                                               \n"
     ]
    },
    {
     "name": "stdout",
     "output_type": "stream",
     "text": [
      "Saving results in \\\\dk-server.dk.ucsd.edu\\afassihizakeri\\Leftsidemovies\\ar41motor\\2022_07_28...\n",
      "Saving csv poses!\n",
      "Starting to analyze %  \\\\dk-server.dk.ucsd.edu\\afassihizakeri\\Leftsidemovies\\ar41motor\\2022_07_28\\217.avi\n",
      "Loading  \\\\dk-server.dk.ucsd.edu\\afassihizakeri\\Leftsidemovies\\ar41motor\\2022_07_28\\217.avi\n",
      "Duration of video [s]:  10.0 , recorded with  40.0 fps!\n",
      "Overall # of frames:  400  found with (before cropping) frame dimensions:  800 550\n",
      "Starting to extract posture\n"
     ]
    },
    {
     "name": "stderr",
     "output_type": "stream",
     "text": [
      "410it [00:23, 17.57it/s]                                                                                               \n"
     ]
    },
    {
     "name": "stdout",
     "output_type": "stream",
     "text": [
      "Saving results in \\\\dk-server.dk.ucsd.edu\\afassihizakeri\\Leftsidemovies\\ar41motor\\2022_07_28...\n",
      "Saving csv poses!\n",
      "Starting to analyze %  \\\\dk-server.dk.ucsd.edu\\afassihizakeri\\Leftsidemovies\\ar41motor\\2022_07_28\\100.avi\n",
      "Loading  \\\\dk-server.dk.ucsd.edu\\afassihizakeri\\Leftsidemovies\\ar41motor\\2022_07_28\\100.avi\n",
      "Duration of video [s]:  10.0 , recorded with  40.0 fps!\n",
      "Overall # of frames:  400  found with (before cropping) frame dimensions:  800 550\n",
      "Starting to extract posture\n"
     ]
    },
    {
     "name": "stderr",
     "output_type": "stream",
     "text": [
      "410it [00:23, 17.50it/s]                                                                                               \n"
     ]
    },
    {
     "name": "stdout",
     "output_type": "stream",
     "text": [
      "Saving results in \\\\dk-server.dk.ucsd.edu\\afassihizakeri\\Leftsidemovies\\ar41motor\\2022_07_28...\n",
      "Saving csv poses!\n",
      "Starting to analyze %  \\\\dk-server.dk.ucsd.edu\\afassihizakeri\\Leftsidemovies\\ar41motor\\2022_07_28\\210.avi\n",
      "Loading  \\\\dk-server.dk.ucsd.edu\\afassihizakeri\\Leftsidemovies\\ar41motor\\2022_07_28\\210.avi\n",
      "Duration of video [s]:  10.0 , recorded with  40.0 fps!\n",
      "Overall # of frames:  400  found with (before cropping) frame dimensions:  800 550\n",
      "Starting to extract posture\n"
     ]
    },
    {
     "name": "stderr",
     "output_type": "stream",
     "text": [
      "410it [00:23, 17.59it/s]                                                                                               \n"
     ]
    },
    {
     "name": "stdout",
     "output_type": "stream",
     "text": [
      "Saving results in \\\\dk-server.dk.ucsd.edu\\afassihizakeri\\Leftsidemovies\\ar41motor\\2022_07_28...\n",
      "Saving csv poses!\n",
      "Starting to analyze %  \\\\dk-server.dk.ucsd.edu\\afassihizakeri\\Leftsidemovies\\ar41motor\\2022_07_28\\69.avi\n",
      "Loading  \\\\dk-server.dk.ucsd.edu\\afassihizakeri\\Leftsidemovies\\ar41motor\\2022_07_28\\69.avi\n",
      "Duration of video [s]:  10.0 , recorded with  40.0 fps!\n",
      "Overall # of frames:  400  found with (before cropping) frame dimensions:  800 550\n",
      "Starting to extract posture\n"
     ]
    },
    {
     "name": "stderr",
     "output_type": "stream",
     "text": [
      "410it [00:23, 17.58it/s]                                                                                               \n"
     ]
    },
    {
     "name": "stdout",
     "output_type": "stream",
     "text": [
      "Saving results in \\\\dk-server.dk.ucsd.edu\\afassihizakeri\\Leftsidemovies\\ar41motor\\2022_07_28...\n",
      "Saving csv poses!\n",
      "Starting to analyze %  \\\\dk-server.dk.ucsd.edu\\afassihizakeri\\Leftsidemovies\\ar41motor\\2022_07_28\\107.avi\n",
      "Loading  \\\\dk-server.dk.ucsd.edu\\afassihizakeri\\Leftsidemovies\\ar41motor\\2022_07_28\\107.avi\n",
      "Duration of video [s]:  10.0 , recorded with  40.0 fps!\n",
      "Overall # of frames:  400  found with (before cropping) frame dimensions:  800 550\n",
      "Starting to extract posture\n"
     ]
    },
    {
     "name": "stderr",
     "output_type": "stream",
     "text": [
      "410it [00:23, 17.54it/s]                                                                                               \n"
     ]
    },
    {
     "name": "stdout",
     "output_type": "stream",
     "text": [
      "Saving results in \\\\dk-server.dk.ucsd.edu\\afassihizakeri\\Leftsidemovies\\ar41motor\\2022_07_28...\n",
      "Saving csv poses!\n",
      "Starting to analyze %  \\\\dk-server.dk.ucsd.edu\\afassihizakeri\\Leftsidemovies\\ar41motor\\2022_07_28\\7.avi\n",
      "Loading  \\\\dk-server.dk.ucsd.edu\\afassihizakeri\\Leftsidemovies\\ar41motor\\2022_07_28\\7.avi\n",
      "Duration of video [s]:  10.0 , recorded with  40.0 fps!\n",
      "Overall # of frames:  400  found with (before cropping) frame dimensions:  800 550\n",
      "Starting to extract posture\n"
     ]
    },
    {
     "name": "stderr",
     "output_type": "stream",
     "text": [
      "410it [00:23, 17.52it/s]                                                                                               \n"
     ]
    },
    {
     "name": "stdout",
     "output_type": "stream",
     "text": [
      "Saving results in \\\\dk-server.dk.ucsd.edu\\afassihizakeri\\Leftsidemovies\\ar41motor\\2022_07_28...\n",
      "Saving csv poses!\n",
      "Starting to analyze %  \\\\dk-server.dk.ucsd.edu\\afassihizakeri\\Leftsidemovies\\ar41motor\\2022_07_28\\15.avi\n",
      "Loading  \\\\dk-server.dk.ucsd.edu\\afassihizakeri\\Leftsidemovies\\ar41motor\\2022_07_28\\15.avi\n",
      "Duration of video [s]:  10.0 , recorded with  40.0 fps!\n",
      "Overall # of frames:  400  found with (before cropping) frame dimensions:  800 550\n",
      "Starting to extract posture\n"
     ]
    },
    {
     "name": "stderr",
     "output_type": "stream",
     "text": [
      "410it [00:23, 17.52it/s]                                                                                               \n"
     ]
    },
    {
     "name": "stdout",
     "output_type": "stream",
     "text": [
      "Saving results in \\\\dk-server.dk.ucsd.edu\\afassihizakeri\\Leftsidemovies\\ar41motor\\2022_07_28...\n",
      "Saving csv poses!\n",
      "Starting to analyze %  \\\\dk-server.dk.ucsd.edu\\afassihizakeri\\Leftsidemovies\\ar41motor\\2022_07_28\\67.avi\n",
      "Loading  \\\\dk-server.dk.ucsd.edu\\afassihizakeri\\Leftsidemovies\\ar41motor\\2022_07_28\\67.avi\n",
      "Duration of video [s]:  10.0 , recorded with  40.0 fps!\n",
      "Overall # of frames:  400  found with (before cropping) frame dimensions:  800 550\n",
      "Starting to extract posture\n"
     ]
    },
    {
     "name": "stderr",
     "output_type": "stream",
     "text": [
      "410it [00:23, 17.55it/s]                                                                                               \n"
     ]
    },
    {
     "name": "stdout",
     "output_type": "stream",
     "text": [
      "Saving results in \\\\dk-server.dk.ucsd.edu\\afassihizakeri\\Leftsidemovies\\ar41motor\\2022_07_28...\n",
      "Saving csv poses!\n",
      "Starting to analyze %  \\\\dk-server.dk.ucsd.edu\\afassihizakeri\\Leftsidemovies\\ar41motor\\2022_07_28\\109.avi\n",
      "Loading  \\\\dk-server.dk.ucsd.edu\\afassihizakeri\\Leftsidemovies\\ar41motor\\2022_07_28\\109.avi\n",
      "Duration of video [s]:  10.0 , recorded with  40.0 fps!\n",
      "Overall # of frames:  400  found with (before cropping) frame dimensions:  800 550\n",
      "Starting to extract posture\n"
     ]
    },
    {
     "name": "stderr",
     "output_type": "stream",
     "text": [
      "410it [00:23, 17.53it/s]                                                                                               \n"
     ]
    },
    {
     "name": "stdout",
     "output_type": "stream",
     "text": [
      "Saving results in \\\\dk-server.dk.ucsd.edu\\afassihizakeri\\Leftsidemovies\\ar41motor\\2022_07_28...\n",
      "Saving csv poses!\n",
      "Starting to analyze %  \\\\dk-server.dk.ucsd.edu\\afassihizakeri\\Leftsidemovies\\ar41motor\\2022_07_28\\9.avi\n",
      "Loading  \\\\dk-server.dk.ucsd.edu\\afassihizakeri\\Leftsidemovies\\ar41motor\\2022_07_28\\9.avi\n",
      "Duration of video [s]:  10.0 , recorded with  40.0 fps!\n",
      "Overall # of frames:  400  found with (before cropping) frame dimensions:  800 550\n",
      "Starting to extract posture\n"
     ]
    },
    {
     "name": "stderr",
     "output_type": "stream",
     "text": [
      "410it [00:23, 17.57it/s]                                                                                               \n"
     ]
    },
    {
     "name": "stdout",
     "output_type": "stream",
     "text": [
      "Saving results in \\\\dk-server.dk.ucsd.edu\\afassihizakeri\\Leftsidemovies\\ar41motor\\2022_07_28...\n",
      "Saving csv poses!\n",
      "Starting to analyze %  \\\\dk-server.dk.ucsd.edu\\afassihizakeri\\Leftsidemovies\\ar41motor\\2022_07_28\\175.avi\n",
      "Loading  \\\\dk-server.dk.ucsd.edu\\afassihizakeri\\Leftsidemovies\\ar41motor\\2022_07_28\\175.avi\n",
      "Duration of video [s]:  10.0 , recorded with  40.0 fps!\n",
      "Overall # of frames:  400  found with (before cropping) frame dimensions:  800 550\n",
      "Starting to extract posture\n"
     ]
    },
    {
     "name": "stderr",
     "output_type": "stream",
     "text": [
      "410it [00:23, 17.54it/s]                                                                                               \n"
     ]
    },
    {
     "name": "stdout",
     "output_type": "stream",
     "text": [
      "Saving results in \\\\dk-server.dk.ucsd.edu\\afassihizakeri\\Leftsidemovies\\ar41motor\\2022_07_28...\n",
      "Saving csv poses!\n",
      "Starting to analyze %  \\\\dk-server.dk.ucsd.edu\\afassihizakeri\\Leftsidemovies\\ar41motor\\2022_07_28\\172.avi\n",
      "Loading  \\\\dk-server.dk.ucsd.edu\\afassihizakeri\\Leftsidemovies\\ar41motor\\2022_07_28\\172.avi\n",
      "Duration of video [s]:  10.0 , recorded with  40.0 fps!\n",
      "Overall # of frames:  400  found with (before cropping) frame dimensions:  800 550\n",
      "Starting to extract posture\n"
     ]
    },
    {
     "name": "stderr",
     "output_type": "stream",
     "text": [
      "410it [00:23, 17.54it/s]                                                                                               \n"
     ]
    },
    {
     "name": "stdout",
     "output_type": "stream",
     "text": [
      "Saving results in \\\\dk-server.dk.ucsd.edu\\afassihizakeri\\Leftsidemovies\\ar41motor\\2022_07_28...\n",
      "Saving csv poses!\n",
      "Starting to analyze %  \\\\dk-server.dk.ucsd.edu\\afassihizakeri\\Leftsidemovies\\ar41motor\\2022_07_28\\219.avi\n",
      "Loading  \\\\dk-server.dk.ucsd.edu\\afassihizakeri\\Leftsidemovies\\ar41motor\\2022_07_28\\219.avi\n",
      "Duration of video [s]:  10.0 , recorded with  40.0 fps!\n",
      "Overall # of frames:  400  found with (before cropping) frame dimensions:  800 550\n",
      "Starting to extract posture\n"
     ]
    },
    {
     "name": "stderr",
     "output_type": "stream",
     "text": [
      "410it [00:23, 17.59it/s]                                                                                               \n"
     ]
    },
    {
     "name": "stdout",
     "output_type": "stream",
     "text": [
      "Saving results in \\\\dk-server.dk.ucsd.edu\\afassihizakeri\\Leftsidemovies\\ar41motor\\2022_07_28...\n",
      "Saving csv poses!\n",
      "Starting to analyze %  \\\\dk-server.dk.ucsd.edu\\afassihizakeri\\Leftsidemovies\\ar41motor\\2022_07_28\\60.avi\n",
      "Loading  \\\\dk-server.dk.ucsd.edu\\afassihizakeri\\Leftsidemovies\\ar41motor\\2022_07_28\\60.avi\n",
      "Duration of video [s]:  10.0 , recorded with  40.0 fps!\n",
      "Overall # of frames:  400  found with (before cropping) frame dimensions:  800 550\n",
      "Starting to extract posture\n"
     ]
    },
    {
     "name": "stderr",
     "output_type": "stream",
     "text": [
      "410it [00:23, 17.56it/s]                                                                                               \n"
     ]
    },
    {
     "name": "stdout",
     "output_type": "stream",
     "text": [
      "Saving results in \\\\dk-server.dk.ucsd.edu\\afassihizakeri\\Leftsidemovies\\ar41motor\\2022_07_28...\n",
      "Saving csv poses!\n",
      "Starting to analyze %  \\\\dk-server.dk.ucsd.edu\\afassihizakeri\\Leftsidemovies\\ar41motor\\2022_07_28\\163.avi\n",
      "Loading  \\\\dk-server.dk.ucsd.edu\\afassihizakeri\\Leftsidemovies\\ar41motor\\2022_07_28\\163.avi\n",
      "Duration of video [s]:  10.0 , recorded with  40.0 fps!\n",
      "Overall # of frames:  400  found with (before cropping) frame dimensions:  800 550\n",
      "Starting to extract posture\n"
     ]
    },
    {
     "name": "stderr",
     "output_type": "stream",
     "text": [
      "410it [00:23, 17.57it/s]                                                                                               \n"
     ]
    },
    {
     "name": "stdout",
     "output_type": "stream",
     "text": [
      "Saving results in \\\\dk-server.dk.ucsd.edu\\afassihizakeri\\Leftsidemovies\\ar41motor\\2022_07_28...\n",
      "Saving csv poses!\n",
      "Starting to analyze %  \\\\dk-server.dk.ucsd.edu\\afassihizakeri\\Leftsidemovies\\ar41motor\\2022_07_28\\71.avi\n",
      "Loading  \\\\dk-server.dk.ucsd.edu\\afassihizakeri\\Leftsidemovies\\ar41motor\\2022_07_28\\71.avi\n",
      "Duration of video [s]:  10.0 , recorded with  40.0 fps!\n",
      "Overall # of frames:  400  found with (before cropping) frame dimensions:  800 550\n",
      "Starting to extract posture\n"
     ]
    },
    {
     "name": "stderr",
     "output_type": "stream",
     "text": [
      "410it [00:23, 17.56it/s]                                                                                               \n"
     ]
    },
    {
     "name": "stdout",
     "output_type": "stream",
     "text": [
      "Saving results in \\\\dk-server.dk.ucsd.edu\\afassihizakeri\\Leftsidemovies\\ar41motor\\2022_07_28...\n",
      "Saving csv poses!\n",
      "Starting to analyze %  \\\\dk-server.dk.ucsd.edu\\afassihizakeri\\Leftsidemovies\\ar41motor\\2022_07_28\\208.avi\n",
      "Loading  \\\\dk-server.dk.ucsd.edu\\afassihizakeri\\Leftsidemovies\\ar41motor\\2022_07_28\\208.avi\n",
      "Duration of video [s]:  10.0 , recorded with  40.0 fps!\n",
      "Overall # of frames:  400  found with (before cropping) frame dimensions:  800 550\n",
      "Starting to extract posture\n"
     ]
    },
    {
     "name": "stderr",
     "output_type": "stream",
     "text": [
      "410it [00:23, 17.54it/s]                                                                                               \n"
     ]
    },
    {
     "name": "stdout",
     "output_type": "stream",
     "text": [
      "Saving results in \\\\dk-server.dk.ucsd.edu\\afassihizakeri\\Leftsidemovies\\ar41motor\\2022_07_28...\n",
      "Saving csv poses!\n",
      "Starting to analyze %  \\\\dk-server.dk.ucsd.edu\\afassihizakeri\\Leftsidemovies\\ar41motor\\2022_07_28\\76.avi\n",
      "Loading  \\\\dk-server.dk.ucsd.edu\\afassihizakeri\\Leftsidemovies\\ar41motor\\2022_07_28\\76.avi\n",
      "Duration of video [s]:  10.0 , recorded with  40.0 fps!\n",
      "Overall # of frames:  400  found with (before cropping) frame dimensions:  800 550\n",
      "Starting to extract posture\n"
     ]
    },
    {
     "name": "stderr",
     "output_type": "stream",
     "text": [
      "410it [00:23, 17.56it/s]                                                                                               \n"
     ]
    },
    {
     "name": "stdout",
     "output_type": "stream",
     "text": [
      "Saving results in \\\\dk-server.dk.ucsd.edu\\afassihizakeri\\Leftsidemovies\\ar41motor\\2022_07_28...\n",
      "Saving csv poses!\n",
      "Starting to analyze %  \\\\dk-server.dk.ucsd.edu\\afassihizakeri\\Leftsidemovies\\ar41motor\\2022_07_28\\118.avi\n",
      "Loading  \\\\dk-server.dk.ucsd.edu\\afassihizakeri\\Leftsidemovies\\ar41motor\\2022_07_28\\118.avi\n",
      "Duration of video [s]:  10.0 , recorded with  40.0 fps!\n",
      "Overall # of frames:  400  found with (before cropping) frame dimensions:  800 550\n",
      "Starting to extract posture\n"
     ]
    },
    {
     "name": "stderr",
     "output_type": "stream",
     "text": [
      "410it [00:23, 17.55it/s]                                                                                               \n"
     ]
    },
    {
     "name": "stdout",
     "output_type": "stream",
     "text": [
      "Saving results in \\\\dk-server.dk.ucsd.edu\\afassihizakeri\\Leftsidemovies\\ar41motor\\2022_07_28...\n",
      "Saving csv poses!\n",
      "Starting to analyze %  \\\\dk-server.dk.ucsd.edu\\afassihizakeri\\Leftsidemovies\\ar41motor\\2022_07_28\\164.avi\n",
      "Loading  \\\\dk-server.dk.ucsd.edu\\afassihizakeri\\Leftsidemovies\\ar41motor\\2022_07_28\\164.avi\n",
      "Duration of video [s]:  10.0 , recorded with  40.0 fps!\n",
      "Overall # of frames:  400  found with (before cropping) frame dimensions:  800 550\n",
      "Starting to extract posture\n"
     ]
    },
    {
     "name": "stderr",
     "output_type": "stream",
     "text": [
      "410it [00:23, 17.54it/s]                                                                                               \n"
     ]
    },
    {
     "name": "stdout",
     "output_type": "stream",
     "text": [
      "Saving results in \\\\dk-server.dk.ucsd.edu\\afassihizakeri\\Leftsidemovies\\ar41motor\\2022_07_28...\n",
      "Saving csv poses!\n",
      "Starting to analyze %  \\\\dk-server.dk.ucsd.edu\\afassihizakeri\\Leftsidemovies\\ar41motor\\2022_07_28\\78.avi\n",
      "Loading  \\\\dk-server.dk.ucsd.edu\\afassihizakeri\\Leftsidemovies\\ar41motor\\2022_07_28\\78.avi\n",
      "Duration of video [s]:  10.0 , recorded with  40.0 fps!\n",
      "Overall # of frames:  400  found with (before cropping) frame dimensions:  800 550\n",
      "Starting to extract posture\n"
     ]
    },
    {
     "name": "stderr",
     "output_type": "stream",
     "text": [
      "410it [00:23, 17.56it/s]                                                                                               \n"
     ]
    },
    {
     "name": "stdout",
     "output_type": "stream",
     "text": [
      "Saving results in \\\\dk-server.dk.ucsd.edu\\afassihizakeri\\Leftsidemovies\\ar41motor\\2022_07_28...\n",
      "Saving csv poses!\n",
      "Starting to analyze %  \\\\dk-server.dk.ucsd.edu\\afassihizakeri\\Leftsidemovies\\ar41motor\\2022_07_28\\116.avi\n",
      "Loading  \\\\dk-server.dk.ucsd.edu\\afassihizakeri\\Leftsidemovies\\ar41motor\\2022_07_28\\116.avi\n",
      "Duration of video [s]:  10.0 , recorded with  40.0 fps!\n",
      "Overall # of frames:  400  found with (before cropping) frame dimensions:  800 550\n",
      "Starting to extract posture\n"
     ]
    },
    {
     "name": "stderr",
     "output_type": "stream",
     "text": [
      "410it [00:23, 17.50it/s]                                                                                               \n"
     ]
    },
    {
     "name": "stdout",
     "output_type": "stream",
     "text": [
      "Saving results in \\\\dk-server.dk.ucsd.edu\\afassihizakeri\\Leftsidemovies\\ar41motor\\2022_07_28...\n",
      "Saving csv poses!\n",
      "Starting to analyze %  \\\\dk-server.dk.ucsd.edu\\afassihizakeri\\Leftsidemovies\\ar41motor\\2022_07_28\\201.avi\n",
      "Loading  \\\\dk-server.dk.ucsd.edu\\afassihizakeri\\Leftsidemovies\\ar41motor\\2022_07_28\\201.avi\n",
      "Duration of video [s]:  10.0 , recorded with  40.0 fps!\n",
      "Overall # of frames:  400  found with (before cropping) frame dimensions:  800 550\n",
      "Starting to extract posture\n"
     ]
    },
    {
     "name": "stderr",
     "output_type": "stream",
     "text": [
      "410it [00:23, 17.55it/s]                                                                                               \n"
     ]
    },
    {
     "name": "stdout",
     "output_type": "stream",
     "text": [
      "Saving results in \\\\dk-server.dk.ucsd.edu\\afassihizakeri\\Leftsidemovies\\ar41motor\\2022_07_28...\n",
      "Saving csv poses!\n",
      "Starting to analyze %  \\\\dk-server.dk.ucsd.edu\\afassihizakeri\\Leftsidemovies\\ar41motor\\2022_07_28\\111.avi\n",
      "Loading  \\\\dk-server.dk.ucsd.edu\\afassihizakeri\\Leftsidemovies\\ar41motor\\2022_07_28\\111.avi\n",
      "Duration of video [s]:  10.0 , recorded with  40.0 fps!\n",
      "Overall # of frames:  400  found with (before cropping) frame dimensions:  800 550\n",
      "Starting to extract posture\n"
     ]
    },
    {
     "name": "stderr",
     "output_type": "stream",
     "text": [
      "410it [00:23, 17.54it/s]                                                                                               \n"
     ]
    },
    {
     "name": "stdout",
     "output_type": "stream",
     "text": [
      "Saving results in \\\\dk-server.dk.ucsd.edu\\afassihizakeri\\Leftsidemovies\\ar41motor\\2022_07_28...\n",
      "Saving csv poses!\n",
      "Starting to analyze %  \\\\dk-server.dk.ucsd.edu\\afassihizakeri\\Leftsidemovies\\ar41motor\\2022_07_28\\206.avi\n",
      "Loading  \\\\dk-server.dk.ucsd.edu\\afassihizakeri\\Leftsidemovies\\ar41motor\\2022_07_28\\206.avi\n",
      "Duration of video [s]:  10.0 , recorded with  40.0 fps!\n",
      "Overall # of frames:  400  found with (before cropping) frame dimensions:  800 550\n",
      "Starting to extract posture\n"
     ]
    },
    {
     "name": "stderr",
     "output_type": "stream",
     "text": [
      "410it [00:23, 17.57it/s]                                                                                               \n"
     ]
    },
    {
     "name": "stdout",
     "output_type": "stream",
     "text": [
      "Saving results in \\\\dk-server.dk.ucsd.edu\\afassihizakeri\\Leftsidemovies\\ar41motor\\2022_07_28...\n",
      "Saving csv poses!\n",
      "Starting to analyze %  \\\\dk-server.dk.ucsd.edu\\afassihizakeri\\Leftsidemovies\\ar41motor\\2022_07_28\\189.avi\n",
      "Loading  \\\\dk-server.dk.ucsd.edu\\afassihizakeri\\Leftsidemovies\\ar41motor\\2022_07_28\\189.avi\n",
      "Duration of video [s]:  10.0 , recorded with  40.0 fps!\n",
      "Overall # of frames:  400  found with (before cropping) frame dimensions:  800 550\n",
      "Starting to extract posture\n"
     ]
    },
    {
     "name": "stderr",
     "output_type": "stream",
     "text": [
      "410it [00:23, 17.56it/s]                                                                                               \n"
     ]
    },
    {
     "name": "stdout",
     "output_type": "stream",
     "text": [
      "Saving results in \\\\dk-server.dk.ucsd.edu\\afassihizakeri\\Leftsidemovies\\ar41motor\\2022_07_28...\n",
      "Saving csv poses!\n",
      "Starting to analyze %  \\\\dk-server.dk.ucsd.edu\\afassihizakeri\\Leftsidemovies\\ar41motor\\2022_07_28\\158.avi\n",
      "Loading  \\\\dk-server.dk.ucsd.edu\\afassihizakeri\\Leftsidemovies\\ar41motor\\2022_07_28\\158.avi\n",
      "Duration of video [s]:  10.0 , recorded with  40.0 fps!\n",
      "Overall # of frames:  400  found with (before cropping) frame dimensions:  800 550\n",
      "Starting to extract posture\n"
     ]
    },
    {
     "name": "stderr",
     "output_type": "stream",
     "text": [
      "410it [00:23, 17.51it/s]                                                                                               \n"
     ]
    },
    {
     "name": "stdout",
     "output_type": "stream",
     "text": [
      "Saving results in \\\\dk-server.dk.ucsd.edu\\afassihizakeri\\Leftsidemovies\\ar41motor\\2022_07_28...\n",
      "Saving csv poses!\n",
      "Starting to analyze %  \\\\dk-server.dk.ucsd.edu\\afassihizakeri\\Leftsidemovies\\ar41motor\\2022_07_28\\36.avi\n",
      "Loading  \\\\dk-server.dk.ucsd.edu\\afassihizakeri\\Leftsidemovies\\ar41motor\\2022_07_28\\36.avi\n",
      "Duration of video [s]:  10.0 , recorded with  40.0 fps!\n",
      "Overall # of frames:  400  found with (before cropping) frame dimensions:  800 550\n",
      "Starting to extract posture\n"
     ]
    },
    {
     "name": "stderr",
     "output_type": "stream",
     "text": [
      "410it [00:23, 17.54it/s]                                                                                               \n"
     ]
    },
    {
     "name": "stdout",
     "output_type": "stream",
     "text": [
      "Saving results in \\\\dk-server.dk.ucsd.edu\\afassihizakeri\\Leftsidemovies\\ar41motor\\2022_07_28...\n",
      "Saving csv poses!\n",
      "Starting to analyze %  \\\\dk-server.dk.ucsd.edu\\afassihizakeri\\Leftsidemovies\\ar41motor\\2022_07_28\\233.avi\n",
      "Loading  \\\\dk-server.dk.ucsd.edu\\afassihizakeri\\Leftsidemovies\\ar41motor\\2022_07_28\\233.avi\n",
      "Duration of video [s]:  10.0 , recorded with  40.0 fps!\n",
      "Overall # of frames:  400  found with (before cropping) frame dimensions:  800 550\n",
      "Starting to extract posture\n"
     ]
    },
    {
     "name": "stderr",
     "output_type": "stream",
     "text": [
      "410it [00:23, 17.53it/s]                                                                                               \n"
     ]
    },
    {
     "name": "stdout",
     "output_type": "stream",
     "text": [
      "Saving results in \\\\dk-server.dk.ucsd.edu\\afassihizakeri\\Leftsidemovies\\ar41motor\\2022_07_28...\n",
      "Saving csv poses!\n",
      "Starting to analyze %  \\\\dk-server.dk.ucsd.edu\\afassihizakeri\\Leftsidemovies\\ar41motor\\2022_07_28\\124.avi\n",
      "Loading  \\\\dk-server.dk.ucsd.edu\\afassihizakeri\\Leftsidemovies\\ar41motor\\2022_07_28\\124.avi\n",
      "Duration of video [s]:  10.0 , recorded with  40.0 fps!\n",
      "Overall # of frames:  400  found with (before cropping) frame dimensions:  800 550\n",
      "Starting to extract posture\n"
     ]
    },
    {
     "name": "stderr",
     "output_type": "stream",
     "text": [
      "410it [00:23, 17.51it/s]                                                                                               \n"
     ]
    },
    {
     "name": "stdout",
     "output_type": "stream",
     "text": [
      "Saving results in \\\\dk-server.dk.ucsd.edu\\afassihizakeri\\Leftsidemovies\\ar41motor\\2022_07_28...\n",
      "Saving csv poses!\n",
      "Starting to analyze %  \\\\dk-server.dk.ucsd.edu\\afassihizakeri\\Leftsidemovies\\ar41motor\\2022_07_28\\234.avi\n",
      "Loading  \\\\dk-server.dk.ucsd.edu\\afassihizakeri\\Leftsidemovies\\ar41motor\\2022_07_28\\234.avi\n",
      "Duration of video [s]:  10.0 , recorded with  40.0 fps!\n",
      "Overall # of frames:  400  found with (before cropping) frame dimensions:  800 550\n",
      "Starting to extract posture\n"
     ]
    },
    {
     "name": "stderr",
     "output_type": "stream",
     "text": [
      "410it [00:23, 17.54it/s]                                                                                               \n"
     ]
    },
    {
     "name": "stdout",
     "output_type": "stream",
     "text": [
      "Saving results in \\\\dk-server.dk.ucsd.edu\\afassihizakeri\\Leftsidemovies\\ar41motor\\2022_07_28...\n",
      "Saving csv poses!\n",
      "Starting to analyze %  \\\\dk-server.dk.ucsd.edu\\afassihizakeri\\Leftsidemovies\\ar41motor\\2022_07_28\\123.avi\n",
      "Loading  \\\\dk-server.dk.ucsd.edu\\afassihizakeri\\Leftsidemovies\\ar41motor\\2022_07_28\\123.avi\n",
      "Duration of video [s]:  10.0 , recorded with  40.0 fps!\n",
      "Overall # of frames:  400  found with (before cropping) frame dimensions:  800 550\n",
      "Starting to extract posture\n"
     ]
    },
    {
     "name": "stderr",
     "output_type": "stream",
     "text": [
      "410it [00:23, 17.54it/s]                                                                                               \n"
     ]
    },
    {
     "name": "stdout",
     "output_type": "stream",
     "text": [
      "Saving results in \\\\dk-server.dk.ucsd.edu\\afassihizakeri\\Leftsidemovies\\ar41motor\\2022_07_28...\n",
      "Saving csv poses!\n",
      "Starting to analyze %  \\\\dk-server.dk.ucsd.edu\\afassihizakeri\\Leftsidemovies\\ar41motor\\2022_07_28\\248.avi\n",
      "Loading  \\\\dk-server.dk.ucsd.edu\\afassihizakeri\\Leftsidemovies\\ar41motor\\2022_07_28\\248.avi\n",
      "Duration of video [s]:  10.0 , recorded with  40.0 fps!\n",
      "Overall # of frames:  400  found with (before cropping) frame dimensions:  800 550\n",
      "Starting to extract posture\n"
     ]
    },
    {
     "name": "stderr",
     "output_type": "stream",
     "text": [
      "410it [00:23, 17.50it/s]                                                                                               \n"
     ]
    },
    {
     "name": "stdout",
     "output_type": "stream",
     "text": [
      "Saving results in \\\\dk-server.dk.ucsd.edu\\afassihizakeri\\Leftsidemovies\\ar41motor\\2022_07_28...\n",
      "Saving csv poses!\n",
      "Starting to analyze %  \\\\dk-server.dk.ucsd.edu\\afassihizakeri\\Leftsidemovies\\ar41motor\\2022_07_28\\31.avi\n",
      "Loading  \\\\dk-server.dk.ucsd.edu\\afassihizakeri\\Leftsidemovies\\ar41motor\\2022_07_28\\31.avi\n",
      "Duration of video [s]:  10.0 , recorded with  40.0 fps!\n",
      "Overall # of frames:  400  found with (before cropping) frame dimensions:  800 550\n",
      "Starting to extract posture\n"
     ]
    },
    {
     "name": "stderr",
     "output_type": "stream",
     "text": [
      "410it [00:23, 17.41it/s]                                                                                               \n"
     ]
    },
    {
     "name": "stdout",
     "output_type": "stream",
     "text": [
      "Saving results in \\\\dk-server.dk.ucsd.edu\\afassihizakeri\\Leftsidemovies\\ar41motor\\2022_07_28...\n",
      "Saving csv poses!\n",
      "Starting to analyze %  \\\\dk-server.dk.ucsd.edu\\afassihizakeri\\Leftsidemovies\\ar41motor\\2022_07_28\\92.avi\n",
      "Loading  \\\\dk-server.dk.ucsd.edu\\afassihizakeri\\Leftsidemovies\\ar41motor\\2022_07_28\\92.avi\n",
      "Duration of video [s]:  10.0 , recorded with  40.0 fps!\n",
      "Overall # of frames:  400  found with (before cropping) frame dimensions:  800 550\n",
      "Starting to extract posture\n"
     ]
    },
    {
     "name": "stderr",
     "output_type": "stream",
     "text": [
      "410it [00:23, 17.47it/s]                                                                                               \n"
     ]
    },
    {
     "name": "stdout",
     "output_type": "stream",
     "text": [
      "Saving results in \\\\dk-server.dk.ucsd.edu\\afassihizakeri\\Leftsidemovies\\ar41motor\\2022_07_28...\n",
      "Saving csv poses!\n",
      "Starting to analyze %  \\\\dk-server.dk.ucsd.edu\\afassihizakeri\\Leftsidemovies\\ar41motor\\2022_07_28\\43.avi\n",
      "Loading  \\\\dk-server.dk.ucsd.edu\\afassihizakeri\\Leftsidemovies\\ar41motor\\2022_07_28\\43.avi\n",
      "Duration of video [s]:  10.0 , recorded with  40.0 fps!\n",
      "Overall # of frames:  400  found with (before cropping) frame dimensions:  800 550\n",
      "Starting to extract posture\n"
     ]
    },
    {
     "name": "stderr",
     "output_type": "stream",
     "text": [
      "410it [00:23, 17.55it/s]                                                                                               \n"
     ]
    },
    {
     "name": "stdout",
     "output_type": "stream",
     "text": [
      "Saving results in \\\\dk-server.dk.ucsd.edu\\afassihizakeri\\Leftsidemovies\\ar41motor\\2022_07_28...\n",
      "Saving csv poses!\n",
      "Starting to analyze %  \\\\dk-server.dk.ucsd.edu\\afassihizakeri\\Leftsidemovies\\ar41motor\\2022_07_28\\246.avi\n",
      "Loading  \\\\dk-server.dk.ucsd.edu\\afassihizakeri\\Leftsidemovies\\ar41motor\\2022_07_28\\246.avi\n",
      "Duration of video [s]:  10.0 , recorded with  40.0 fps!\n",
      "Overall # of frames:  400  found with (before cropping) frame dimensions:  800 550\n",
      "Starting to extract posture\n"
     ]
    },
    {
     "name": "stderr",
     "output_type": "stream",
     "text": [
      "410it [00:23, 17.51it/s]                                                                                               \n"
     ]
    },
    {
     "name": "stdout",
     "output_type": "stream",
     "text": [
      "Saving results in \\\\dk-server.dk.ucsd.edu\\afassihizakeri\\Leftsidemovies\\ar41motor\\2022_07_28...\n",
      "Saving csv poses!\n",
      "Starting to analyze %  \\\\dk-server.dk.ucsd.edu\\afassihizakeri\\Leftsidemovies\\ar41motor\\2022_07_28\\180.avi\n",
      "Loading  \\\\dk-server.dk.ucsd.edu\\afassihizakeri\\Leftsidemovies\\ar41motor\\2022_07_28\\180.avi\n",
      "Duration of video [s]:  10.0 , recorded with  40.0 fps!\n",
      "Overall # of frames:  400  found with (before cropping) frame dimensions:  800 550\n",
      "Starting to extract posture\n"
     ]
    },
    {
     "name": "stderr",
     "output_type": "stream",
     "text": [
      "410it [00:23, 17.55it/s]                                                                                               \n"
     ]
    },
    {
     "name": "stdout",
     "output_type": "stream",
     "text": [
      "Saving results in \\\\dk-server.dk.ucsd.edu\\afassihizakeri\\Leftsidemovies\\ar41motor\\2022_07_28...\n",
      "Saving csv poses!\n",
      "Starting to analyze %  \\\\dk-server.dk.ucsd.edu\\afassihizakeri\\Leftsidemovies\\ar41motor\\2022_07_28\\151.avi\n",
      "Loading  \\\\dk-server.dk.ucsd.edu\\afassihizakeri\\Leftsidemovies\\ar41motor\\2022_07_28\\151.avi\n",
      "Duration of video [s]:  10.0 , recorded with  40.0 fps!\n",
      "Overall # of frames:  400  found with (before cropping) frame dimensions:  800 550\n",
      "Starting to extract posture\n"
     ]
    },
    {
     "name": "stderr",
     "output_type": "stream",
     "text": [
      "410it [00:23, 17.55it/s]                                                                                               \n"
     ]
    },
    {
     "name": "stdout",
     "output_type": "stream",
     "text": [
      "Saving results in \\\\dk-server.dk.ucsd.edu\\afassihizakeri\\Leftsidemovies\\ar41motor\\2022_07_28...\n",
      "Saving csv poses!\n",
      "Starting to analyze %  \\\\dk-server.dk.ucsd.edu\\afassihizakeri\\Leftsidemovies\\ar41motor\\2022_07_28\\241.avi\n",
      "Loading  \\\\dk-server.dk.ucsd.edu\\afassihizakeri\\Leftsidemovies\\ar41motor\\2022_07_28\\241.avi\n",
      "Duration of video [s]:  10.0 , recorded with  40.0 fps!\n",
      "Overall # of frames:  400  found with (before cropping) frame dimensions:  800 550\n",
      "Starting to extract posture\n"
     ]
    },
    {
     "name": "stderr",
     "output_type": "stream",
     "text": [
      "410it [00:23, 17.51it/s]                                                                                               \n"
     ]
    },
    {
     "name": "stdout",
     "output_type": "stream",
     "text": [
      "Saving results in \\\\dk-server.dk.ucsd.edu\\afassihizakeri\\Leftsidemovies\\ar41motor\\2022_07_28...\n",
      "Saving csv poses!\n",
      "Starting to analyze %  \\\\dk-server.dk.ucsd.edu\\afassihizakeri\\Leftsidemovies\\ar41motor\\2022_07_28\\187.avi\n",
      "Loading  \\\\dk-server.dk.ucsd.edu\\afassihizakeri\\Leftsidemovies\\ar41motor\\2022_07_28\\187.avi\n",
      "Duration of video [s]:  10.0 , recorded with  40.0 fps!\n",
      "Overall # of frames:  400  found with (before cropping) frame dimensions:  800 550\n",
      "Starting to extract posture\n"
     ]
    },
    {
     "name": "stderr",
     "output_type": "stream",
     "text": [
      "410it [00:23, 17.55it/s]                                                                                               \n"
     ]
    },
    {
     "name": "stdout",
     "output_type": "stream",
     "text": [
      "Saving results in \\\\dk-server.dk.ucsd.edu\\afassihizakeri\\Leftsidemovies\\ar41motor\\2022_07_28...\n",
      "Saving csv poses!\n",
      "Starting to analyze %  \\\\dk-server.dk.ucsd.edu\\afassihizakeri\\Leftsidemovies\\ar41motor\\2022_07_28\\156.avi\n",
      "Loading  \\\\dk-server.dk.ucsd.edu\\afassihizakeri\\Leftsidemovies\\ar41motor\\2022_07_28\\156.avi\n",
      "Duration of video [s]:  10.0 , recorded with  40.0 fps!\n",
      "Overall # of frames:  400  found with (before cropping) frame dimensions:  800 550\n",
      "Starting to extract posture\n"
     ]
    },
    {
     "name": "stderr",
     "output_type": "stream",
     "text": [
      "410it [00:23, 17.55it/s]                                                                                               \n"
     ]
    },
    {
     "name": "stdout",
     "output_type": "stream",
     "text": [
      "Saving results in \\\\dk-server.dk.ucsd.edu\\afassihizakeri\\Leftsidemovies\\ar41motor\\2022_07_28...\n",
      "Saving csv poses!\n",
      "Starting to analyze %  \\\\dk-server.dk.ucsd.edu\\afassihizakeri\\Leftsidemovies\\ar41motor\\2022_07_28\\38.avi\n",
      "Loading  \\\\dk-server.dk.ucsd.edu\\afassihizakeri\\Leftsidemovies\\ar41motor\\2022_07_28\\38.avi\n",
      "Duration of video [s]:  10.0 , recorded with  40.0 fps!\n",
      "Overall # of frames:  400  found with (before cropping) frame dimensions:  800 550\n",
      "Starting to extract posture\n"
     ]
    },
    {
     "name": "stderr",
     "output_type": "stream",
     "text": [
      "410it [00:23, 17.55it/s]                                                                                               \n"
     ]
    },
    {
     "name": "stdout",
     "output_type": "stream",
     "text": [
      "Saving results in \\\\dk-server.dk.ucsd.edu\\afassihizakeri\\Leftsidemovies\\ar41motor\\2022_07_28...\n",
      "Saving csv poses!\n",
      "Starting to analyze %  \\\\dk-server.dk.ucsd.edu\\afassihizakeri\\Leftsidemovies\\ar41motor\\2022_07_28\\95.avi\n",
      "Loading  \\\\dk-server.dk.ucsd.edu\\afassihizakeri\\Leftsidemovies\\ar41motor\\2022_07_28\\95.avi\n",
      "Duration of video [s]:  10.0 , recorded with  40.0 fps!\n",
      "Overall # of frames:  400  found with (before cropping) frame dimensions:  800 550\n",
      "Starting to extract posture\n"
     ]
    },
    {
     "name": "stderr",
     "output_type": "stream",
     "text": [
      "410it [00:23, 17.51it/s]                                                                                               \n"
     ]
    },
    {
     "name": "stdout",
     "output_type": "stream",
     "text": [
      "Saving results in \\\\dk-server.dk.ucsd.edu\\afassihizakeri\\Leftsidemovies\\ar41motor\\2022_07_28...\n",
      "Saving csv poses!\n",
      "Starting to analyze %  \\\\dk-server.dk.ucsd.edu\\afassihizakeri\\Leftsidemovies\\ar41motor\\2022_07_28\\44.avi\n",
      "Loading  \\\\dk-server.dk.ucsd.edu\\afassihizakeri\\Leftsidemovies\\ar41motor\\2022_07_28\\44.avi\n",
      "Duration of video [s]:  10.0 , recorded with  40.0 fps!\n",
      "Overall # of frames:  400  found with (before cropping) frame dimensions:  800 550\n",
      "Starting to extract posture\n"
     ]
    },
    {
     "name": "stderr",
     "output_type": "stream",
     "text": [
      "410it [00:23, 17.54it/s]                                                                                               \n"
     ]
    },
    {
     "name": "stdout",
     "output_type": "stream",
     "text": [
      "Saving results in \\\\dk-server.dk.ucsd.edu\\afassihizakeri\\Leftsidemovies\\ar41motor\\2022_07_28...\n",
      "Saving csv poses!\n",
      "Starting to analyze %  \\\\dk-server.dk.ucsd.edu\\afassihizakeri\\Leftsidemovies\\ar41motor\\2022_07_28\\173.avi\n",
      "Loading  \\\\dk-server.dk.ucsd.edu\\afassihizakeri\\Leftsidemovies\\ar41motor\\2022_07_28\\173.avi\n",
      "Duration of video [s]:  10.0 , recorded with  40.0 fps!\n",
      "Overall # of frames:  400  found with (before cropping) frame dimensions:  800 550\n",
      "Starting to extract posture\n"
     ]
    },
    {
     "name": "stderr",
     "output_type": "stream",
     "text": [
      "410it [00:23, 17.57it/s]                                                                                               \n"
     ]
    },
    {
     "name": "stdout",
     "output_type": "stream",
     "text": [
      "Saving results in \\\\dk-server.dk.ucsd.edu\\afassihizakeri\\Leftsidemovies\\ar41motor\\2022_07_28...\n",
      "Saving csv poses!\n",
      "Starting to analyze %  \\\\dk-server.dk.ucsd.edu\\afassihizakeri\\Leftsidemovies\\ar41motor\\2022_07_28\\218.avi\n",
      "Loading  \\\\dk-server.dk.ucsd.edu\\afassihizakeri\\Leftsidemovies\\ar41motor\\2022_07_28\\218.avi\n",
      "Duration of video [s]:  10.0 , recorded with  40.0 fps!\n",
      "Overall # of frames:  400  found with (before cropping) frame dimensions:  800 550\n",
      "Starting to extract posture\n"
     ]
    },
    {
     "name": "stderr",
     "output_type": "stream",
     "text": [
      "410it [00:23, 17.51it/s]                                                                                               \n"
     ]
    },
    {
     "name": "stdout",
     "output_type": "stream",
     "text": [
      "Saving results in \\\\dk-server.dk.ucsd.edu\\afassihizakeri\\Leftsidemovies\\ar41motor\\2022_07_28...\n",
      "Saving csv poses!\n",
      "Starting to analyze %  \\\\dk-server.dk.ucsd.edu\\afassihizakeri\\Leftsidemovies\\ar41motor\\2022_07_28\\61.avi\n",
      "Loading  \\\\dk-server.dk.ucsd.edu\\afassihizakeri\\Leftsidemovies\\ar41motor\\2022_07_28\\61.avi\n",
      "Duration of video [s]:  10.0 , recorded with  40.0 fps!\n",
      "Overall # of frames:  400  found with (before cropping) frame dimensions:  800 550\n",
      "Starting to extract posture\n"
     ]
    },
    {
     "name": "stderr",
     "output_type": "stream",
     "text": [
      "410it [00:23, 17.51it/s]                                                                                               \n"
     ]
    },
    {
     "name": "stdout",
     "output_type": "stream",
     "text": [
      "Saving results in \\\\dk-server.dk.ucsd.edu\\afassihizakeri\\Leftsidemovies\\ar41motor\\2022_07_28...\n",
      "Saving csv poses!\n",
      "Starting to analyze %  \\\\dk-server.dk.ucsd.edu\\afassihizakeri\\Leftsidemovies\\ar41motor\\2022_07_28\\66.avi\n",
      "Loading  \\\\dk-server.dk.ucsd.edu\\afassihizakeri\\Leftsidemovies\\ar41motor\\2022_07_28\\66.avi\n",
      "Duration of video [s]:  10.0 , recorded with  40.0 fps!\n",
      "Overall # of frames:  400  found with (before cropping) frame dimensions:  800 550\n",
      "Starting to extract posture\n"
     ]
    },
    {
     "name": "stderr",
     "output_type": "stream",
     "text": [
      "410it [00:23, 17.54it/s]                                                                                               \n"
     ]
    },
    {
     "name": "stdout",
     "output_type": "stream",
     "text": [
      "Saving results in \\\\dk-server.dk.ucsd.edu\\afassihizakeri\\Leftsidemovies\\ar41motor\\2022_07_28...\n",
      "Saving csv poses!\n",
      "Starting to analyze %  \\\\dk-server.dk.ucsd.edu\\afassihizakeri\\Leftsidemovies\\ar41motor\\2022_07_28\\108.avi\n",
      "Loading  \\\\dk-server.dk.ucsd.edu\\afassihizakeri\\Leftsidemovies\\ar41motor\\2022_07_28\\108.avi\n",
      "Duration of video [s]:  10.0 , recorded with  40.0 fps!\n",
      "Overall # of frames:  400  found with (before cropping) frame dimensions:  800 550\n",
      "Starting to extract posture\n"
     ]
    },
    {
     "name": "stderr",
     "output_type": "stream",
     "text": [
      "410it [00:23, 17.53it/s]                                                                                               \n"
     ]
    },
    {
     "name": "stdout",
     "output_type": "stream",
     "text": [
      "Saving results in \\\\dk-server.dk.ucsd.edu\\afassihizakeri\\Leftsidemovies\\ar41motor\\2022_07_28...\n",
      "Saving csv poses!\n",
      "Starting to analyze %  \\\\dk-server.dk.ucsd.edu\\afassihizakeri\\Leftsidemovies\\ar41motor\\2022_07_28\\8.avi\n",
      "Loading  \\\\dk-server.dk.ucsd.edu\\afassihizakeri\\Leftsidemovies\\ar41motor\\2022_07_28\\8.avi\n",
      "Duration of video [s]:  10.0 , recorded with  40.0 fps!\n",
      "Overall # of frames:  400  found with (before cropping) frame dimensions:  800 550\n",
      "Starting to extract posture\n"
     ]
    },
    {
     "name": "stderr",
     "output_type": "stream",
     "text": [
      "410it [00:23, 17.55it/s]                                                                                               \n"
     ]
    },
    {
     "name": "stdout",
     "output_type": "stream",
     "text": [
      "Saving results in \\\\dk-server.dk.ucsd.edu\\afassihizakeri\\Leftsidemovies\\ar41motor\\2022_07_28...\n",
      "Saving csv poses!\n",
      "Starting to analyze %  \\\\dk-server.dk.ucsd.edu\\afassihizakeri\\Leftsidemovies\\ar41motor\\2022_07_28\\174.avi\n",
      "Loading  \\\\dk-server.dk.ucsd.edu\\afassihizakeri\\Leftsidemovies\\ar41motor\\2022_07_28\\174.avi\n",
      "Duration of video [s]:  10.0 , recorded with  40.0 fps!\n",
      "Overall # of frames:  400  found with (before cropping) frame dimensions:  800 550\n",
      "Starting to extract posture\n"
     ]
    },
    {
     "name": "stderr",
     "output_type": "stream",
     "text": [
      "410it [00:23, 17.55it/s]                                                                                               \n"
     ]
    },
    {
     "name": "stdout",
     "output_type": "stream",
     "text": [
      "Saving results in \\\\dk-server.dk.ucsd.edu\\afassihizakeri\\Leftsidemovies\\ar41motor\\2022_07_28...\n",
      "Saving csv poses!\n",
      "Starting to analyze %  \\\\dk-server.dk.ucsd.edu\\afassihizakeri\\Leftsidemovies\\ar41motor\\2022_07_28\\211.avi\n",
      "Loading  \\\\dk-server.dk.ucsd.edu\\afassihizakeri\\Leftsidemovies\\ar41motor\\2022_07_28\\211.avi\n",
      "Duration of video [s]:  10.0 , recorded with  40.0 fps!\n",
      "Overall # of frames:  400  found with (before cropping) frame dimensions:  800 550\n",
      "Starting to extract posture\n"
     ]
    },
    {
     "name": "stderr",
     "output_type": "stream",
     "text": [
      "410it [00:23, 17.51it/s]                                                                                               \n"
     ]
    },
    {
     "name": "stdout",
     "output_type": "stream",
     "text": [
      "Saving results in \\\\dk-server.dk.ucsd.edu\\afassihizakeri\\Leftsidemovies\\ar41motor\\2022_07_28...\n",
      "Saving csv poses!\n",
      "Starting to analyze %  \\\\dk-server.dk.ucsd.edu\\afassihizakeri\\Leftsidemovies\\ar41motor\\2022_07_28\\68.avi\n",
      "Loading  \\\\dk-server.dk.ucsd.edu\\afassihizakeri\\Leftsidemovies\\ar41motor\\2022_07_28\\68.avi\n",
      "Duration of video [s]:  10.0 , recorded with  40.0 fps!\n",
      "Overall # of frames:  400  found with (before cropping) frame dimensions:  800 550\n",
      "Starting to extract posture\n"
     ]
    },
    {
     "name": "stderr",
     "output_type": "stream",
     "text": [
      "410it [00:23, 17.55it/s]                                                                                               \n"
     ]
    },
    {
     "name": "stdout",
     "output_type": "stream",
     "text": [
      "Saving results in \\\\dk-server.dk.ucsd.edu\\afassihizakeri\\Leftsidemovies\\ar41motor\\2022_07_28...\n",
      "Saving csv poses!\n",
      "Starting to analyze %  \\\\dk-server.dk.ucsd.edu\\afassihizakeri\\Leftsidemovies\\ar41motor\\2022_07_28\\106.avi\n",
      "Loading  \\\\dk-server.dk.ucsd.edu\\afassihizakeri\\Leftsidemovies\\ar41motor\\2022_07_28\\106.avi\n",
      "Duration of video [s]:  10.0 , recorded with  40.0 fps!\n",
      "Overall # of frames:  400  found with (before cropping) frame dimensions:  800 550\n",
      "Starting to extract posture\n"
     ]
    },
    {
     "name": "stderr",
     "output_type": "stream",
     "text": [
      "410it [00:23, 17.56it/s]                                                                                               \n"
     ]
    },
    {
     "name": "stdout",
     "output_type": "stream",
     "text": [
      "Saving results in \\\\dk-server.dk.ucsd.edu\\afassihizakeri\\Leftsidemovies\\ar41motor\\2022_07_28...\n",
      "Saving csv poses!\n",
      "Starting to analyze %  \\\\dk-server.dk.ucsd.edu\\afassihizakeri\\Leftsidemovies\\ar41motor\\2022_07_28\\6.avi\n",
      "Loading  \\\\dk-server.dk.ucsd.edu\\afassihizakeri\\Leftsidemovies\\ar41motor\\2022_07_28\\6.avi\n",
      "Duration of video [s]:  10.0 , recorded with  40.0 fps!\n",
      "Overall # of frames:  400  found with (before cropping) frame dimensions:  800 550\n",
      "Starting to extract posture\n"
     ]
    },
    {
     "name": "stderr",
     "output_type": "stream",
     "text": [
      "410it [00:23, 17.56it/s]                                                                                               \n"
     ]
    },
    {
     "name": "stdout",
     "output_type": "stream",
     "text": [
      "Saving results in \\\\dk-server.dk.ucsd.edu\\afassihizakeri\\Leftsidemovies\\ar41motor\\2022_07_28...\n",
      "Saving csv poses!\n",
      "Starting to analyze %  \\\\dk-server.dk.ucsd.edu\\afassihizakeri\\Leftsidemovies\\ar41motor\\2022_07_28\\14.avi\n",
      "Loading  \\\\dk-server.dk.ucsd.edu\\afassihizakeri\\Leftsidemovies\\ar41motor\\2022_07_28\\14.avi\n",
      "Duration of video [s]:  10.0 , recorded with  40.0 fps!\n",
      "Overall # of frames:  400  found with (before cropping) frame dimensions:  800 550\n",
      "Starting to extract posture\n"
     ]
    },
    {
     "name": "stderr",
     "output_type": "stream",
     "text": [
      "410it [00:23, 17.52it/s]                                                                                               \n"
     ]
    },
    {
     "name": "stdout",
     "output_type": "stream",
     "text": [
      "Saving results in \\\\dk-server.dk.ucsd.edu\\afassihizakeri\\Leftsidemovies\\ar41motor\\2022_07_28...\n",
      "Saving csv poses!\n",
      "Starting to analyze %  \\\\dk-server.dk.ucsd.edu\\afassihizakeri\\Leftsidemovies\\ar41motor\\2022_07_28\\1.avi\n",
      "Loading  \\\\dk-server.dk.ucsd.edu\\afassihizakeri\\Leftsidemovies\\ar41motor\\2022_07_28\\1.avi\n",
      "Duration of video [s]:  10.0 , recorded with  40.0 fps!\n",
      "Overall # of frames:  400  found with (before cropping) frame dimensions:  800 550\n",
      "Starting to extract posture\n"
     ]
    },
    {
     "name": "stderr",
     "output_type": "stream",
     "text": [
      "410it [00:23, 17.53it/s]                                                                                               \n"
     ]
    },
    {
     "name": "stdout",
     "output_type": "stream",
     "text": [
      "Saving results in \\\\dk-server.dk.ucsd.edu\\afassihizakeri\\Leftsidemovies\\ar41motor\\2022_07_28...\n",
      "Saving csv poses!\n",
      "Starting to analyze %  \\\\dk-server.dk.ucsd.edu\\afassihizakeri\\Leftsidemovies\\ar41motor\\2022_07_28\\216.avi\n",
      "Loading  \\\\dk-server.dk.ucsd.edu\\afassihizakeri\\Leftsidemovies\\ar41motor\\2022_07_28\\216.avi\n",
      "Duration of video [s]:  10.0 , recorded with  40.0 fps!\n",
      "Overall # of frames:  400  found with (before cropping) frame dimensions:  800 550\n",
      "Starting to extract posture\n"
     ]
    },
    {
     "name": "stderr",
     "output_type": "stream",
     "text": [
      "410it [00:23, 17.53it/s]                                                                                               \n"
     ]
    },
    {
     "name": "stdout",
     "output_type": "stream",
     "text": [
      "Saving results in \\\\dk-server.dk.ucsd.edu\\afassihizakeri\\Leftsidemovies\\ar41motor\\2022_07_28...\n",
      "Saving csv poses!\n",
      "Starting to analyze %  \\\\dk-server.dk.ucsd.edu\\afassihizakeri\\Leftsidemovies\\ar41motor\\2022_07_28\\101.avi\n",
      "Loading  \\\\dk-server.dk.ucsd.edu\\afassihizakeri\\Leftsidemovies\\ar41motor\\2022_07_28\\101.avi\n",
      "Duration of video [s]:  10.0 , recorded with  40.0 fps!\n",
      "Overall # of frames:  400  found with (before cropping) frame dimensions:  800 550\n",
      "Starting to extract posture\n"
     ]
    },
    {
     "name": "stderr",
     "output_type": "stream",
     "text": [
      "410it [00:23, 17.53it/s]                                                                                               \n"
     ]
    },
    {
     "name": "stdout",
     "output_type": "stream",
     "text": [
      "Saving results in \\\\dk-server.dk.ucsd.edu\\afassihizakeri\\Leftsidemovies\\ar41motor\\2022_07_28...\n",
      "Saving csv poses!\n",
      "Starting to analyze %  \\\\dk-server.dk.ucsd.edu\\afassihizakeri\\Leftsidemovies\\ar41motor\\2022_07_28\\148.avi\n",
      "Loading  \\\\dk-server.dk.ucsd.edu\\afassihizakeri\\Leftsidemovies\\ar41motor\\2022_07_28\\148.avi\n",
      "Duration of video [s]:  10.0 , recorded with  40.0 fps!\n",
      "Overall # of frames:  400  found with (before cropping) frame dimensions:  800 550\n",
      "Starting to extract posture\n"
     ]
    },
    {
     "name": "stderr",
     "output_type": "stream",
     "text": [
      "410it [00:23, 17.55it/s]                                                                                               \n"
     ]
    },
    {
     "name": "stdout",
     "output_type": "stream",
     "text": [
      "Saving results in \\\\dk-server.dk.ucsd.edu\\afassihizakeri\\Leftsidemovies\\ar41motor\\2022_07_28...\n",
      "Saving csv poses!\n",
      "Starting to analyze %  \\\\dk-server.dk.ucsd.edu\\afassihizakeri\\Leftsidemovies\\ar41motor\\2022_07_28\\26.avi\n",
      "Loading  \\\\dk-server.dk.ucsd.edu\\afassihizakeri\\Leftsidemovies\\ar41motor\\2022_07_28\\26.avi\n",
      "Duration of video [s]:  10.0 , recorded with  40.0 fps!\n",
      "Overall # of frames:  400  found with (before cropping) frame dimensions:  800 550\n",
      "Starting to extract posture\n"
     ]
    },
    {
     "name": "stderr",
     "output_type": "stream",
     "text": [
      "410it [00:23, 17.54it/s]                                                                                               \n"
     ]
    },
    {
     "name": "stdout",
     "output_type": "stream",
     "text": [
      "Saving results in \\\\dk-server.dk.ucsd.edu\\afassihizakeri\\Leftsidemovies\\ar41motor\\2022_07_28...\n",
      "Saving csv poses!\n",
      "Starting to analyze %  \\\\dk-server.dk.ucsd.edu\\afassihizakeri\\Leftsidemovies\\ar41motor\\2022_07_28\\199.avi\n",
      "Loading  \\\\dk-server.dk.ucsd.edu\\afassihizakeri\\Leftsidemovies\\ar41motor\\2022_07_28\\199.avi\n",
      "Duration of video [s]:  10.0 , recorded with  40.0 fps!\n",
      "Overall # of frames:  400  found with (before cropping) frame dimensions:  800 550\n",
      "Starting to extract posture\n"
     ]
    },
    {
     "name": "stderr",
     "output_type": "stream",
     "text": [
      "410it [00:23, 17.52it/s]                                                                                               \n"
     ]
    },
    {
     "name": "stdout",
     "output_type": "stream",
     "text": [
      "Saving results in \\\\dk-server.dk.ucsd.edu\\afassihizakeri\\Leftsidemovies\\ar41motor\\2022_07_28...\n",
      "Saving csv poses!\n",
      "Starting to analyze %  \\\\dk-server.dk.ucsd.edu\\afassihizakeri\\Leftsidemovies\\ar41motor\\2022_07_28\\134.avi\n",
      "Loading  \\\\dk-server.dk.ucsd.edu\\afassihizakeri\\Leftsidemovies\\ar41motor\\2022_07_28\\134.avi\n",
      "Duration of video [s]:  10.0 , recorded with  40.0 fps!\n",
      "Overall # of frames:  400  found with (before cropping) frame dimensions:  800 550\n",
      "Starting to extract posture\n"
     ]
    },
    {
     "name": "stderr",
     "output_type": "stream",
     "text": [
      "410it [00:23, 17.55it/s]                                                                                               \n"
     ]
    },
    {
     "name": "stdout",
     "output_type": "stream",
     "text": [
      "Saving results in \\\\dk-server.dk.ucsd.edu\\afassihizakeri\\Leftsidemovies\\ar41motor\\2022_07_28...\n",
      "Saving csv poses!\n",
      "Starting to analyze %  \\\\dk-server.dk.ucsd.edu\\afassihizakeri\\Leftsidemovies\\ar41motor\\2022_07_28\\223.avi\n",
      "Loading  \\\\dk-server.dk.ucsd.edu\\afassihizakeri\\Leftsidemovies\\ar41motor\\2022_07_28\\223.avi\n",
      "Duration of video [s]:  10.0 , recorded with  40.0 fps!\n",
      "Overall # of frames:  400  found with (before cropping) frame dimensions:  800 550\n",
      "Starting to extract posture\n"
     ]
    },
    {
     "name": "stderr",
     "output_type": "stream",
     "text": [
      "410it [00:23, 17.53it/s]                                                                                               \n"
     ]
    },
    {
     "name": "stdout",
     "output_type": "stream",
     "text": [
      "Saving results in \\\\dk-server.dk.ucsd.edu\\afassihizakeri\\Leftsidemovies\\ar41motor\\2022_07_28...\n",
      "Saving csv poses!\n",
      "Starting to analyze %  \\\\dk-server.dk.ucsd.edu\\afassihizakeri\\Leftsidemovies\\ar41motor\\2022_07_28\\133.avi\n",
      "Loading  \\\\dk-server.dk.ucsd.edu\\afassihizakeri\\Leftsidemovies\\ar41motor\\2022_07_28\\133.avi\n",
      "Duration of video [s]:  10.0 , recorded with  40.0 fps!\n",
      "Overall # of frames:  400  found with (before cropping) frame dimensions:  800 550\n",
      "Starting to extract posture\n"
     ]
    },
    {
     "name": "stderr",
     "output_type": "stream",
     "text": [
      "410it [00:23, 17.53it/s]                                                                                               \n"
     ]
    },
    {
     "name": "stdout",
     "output_type": "stream",
     "text": [
      "Saving results in \\\\dk-server.dk.ucsd.edu\\afassihizakeri\\Leftsidemovies\\ar41motor\\2022_07_28...\n",
      "Saving csv poses!\n",
      "Starting to analyze %  \\\\dk-server.dk.ucsd.edu\\afassihizakeri\\Leftsidemovies\\ar41motor\\2022_07_28\\224.avi\n",
      "Loading  \\\\dk-server.dk.ucsd.edu\\afassihizakeri\\Leftsidemovies\\ar41motor\\2022_07_28\\224.avi\n",
      "Duration of video [s]:  10.0 , recorded with  40.0 fps!\n",
      "Overall # of frames:  400  found with (before cropping) frame dimensions:  800 550\n",
      "Starting to extract posture\n"
     ]
    },
    {
     "name": "stderr",
     "output_type": "stream",
     "text": [
      "410it [00:23, 17.56it/s]                                                                                               \n"
     ]
    },
    {
     "name": "stdout",
     "output_type": "stream",
     "text": [
      "Saving results in \\\\dk-server.dk.ucsd.edu\\afassihizakeri\\Leftsidemovies\\ar41motor\\2022_07_28...\n",
      "Saving csv poses!\n",
      "Starting to analyze %  \\\\dk-server.dk.ucsd.edu\\afassihizakeri\\Leftsidemovies\\ar41motor\\2022_07_28\\21.avi\n",
      "Loading  \\\\dk-server.dk.ucsd.edu\\afassihizakeri\\Leftsidemovies\\ar41motor\\2022_07_28\\21.avi\n",
      "Duration of video [s]:  10.0 , recorded with  40.0 fps!\n",
      "Overall # of frames:  400  found with (before cropping) frame dimensions:  800 550\n",
      "Starting to extract posture\n"
     ]
    },
    {
     "name": "stderr",
     "output_type": "stream",
     "text": [
      "410it [00:23, 17.52it/s]                                                                                               \n"
     ]
    },
    {
     "name": "stdout",
     "output_type": "stream",
     "text": [
      "Saving results in \\\\dk-server.dk.ucsd.edu\\afassihizakeri\\Leftsidemovies\\ar41motor\\2022_07_28...\n",
      "Saving csv poses!\n",
      "Starting to analyze %  \\\\dk-server.dk.ucsd.edu\\afassihizakeri\\Leftsidemovies\\ar41motor\\2022_07_28\\258.avi\n",
      "Loading  \\\\dk-server.dk.ucsd.edu\\afassihizakeri\\Leftsidemovies\\ar41motor\\2022_07_28\\258.avi\n",
      "Duration of video [s]:  10.0 , recorded with  40.0 fps!\n",
      "Overall # of frames:  400  found with (before cropping) frame dimensions:  800 550\n",
      "Starting to extract posture\n"
     ]
    },
    {
     "name": "stderr",
     "output_type": "stream",
     "text": [
      "410it [00:23, 17.56it/s]                                                                                               \n"
     ]
    },
    {
     "name": "stdout",
     "output_type": "stream",
     "text": [
      "Saving results in \\\\dk-server.dk.ucsd.edu\\afassihizakeri\\Leftsidemovies\\ar41motor\\2022_07_28...\n",
      "Saving csv poses!\n",
      "Starting to analyze %  \\\\dk-server.dk.ucsd.edu\\afassihizakeri\\Leftsidemovies\\ar41motor\\2022_07_28\\53.avi\n",
      "Loading  \\\\dk-server.dk.ucsd.edu\\afassihizakeri\\Leftsidemovies\\ar41motor\\2022_07_28\\53.avi\n",
      "Duration of video [s]:  10.0 , recorded with  40.0 fps!\n",
      "Overall # of frames:  400  found with (before cropping) frame dimensions:  800 550\n",
      "Starting to extract posture\n"
     ]
    },
    {
     "name": "stderr",
     "output_type": "stream",
     "text": [
      "410it [00:23, 17.54it/s]                                                                                               \n"
     ]
    },
    {
     "name": "stdout",
     "output_type": "stream",
     "text": [
      "Saving results in \\\\dk-server.dk.ucsd.edu\\afassihizakeri\\Leftsidemovies\\ar41motor\\2022_07_28...\n",
      "Saving csv poses!\n",
      "Starting to analyze %  \\\\dk-server.dk.ucsd.edu\\afassihizakeri\\Leftsidemovies\\ar41motor\\2022_07_28\\82.avi\n",
      "Loading  \\\\dk-server.dk.ucsd.edu\\afassihizakeri\\Leftsidemovies\\ar41motor\\2022_07_28\\82.avi\n",
      "Duration of video [s]:  10.0 , recorded with  40.0 fps!\n",
      "Overall # of frames:  400  found with (before cropping) frame dimensions:  800 550\n",
      "Starting to extract posture\n"
     ]
    },
    {
     "name": "stderr",
     "output_type": "stream",
     "text": [
      "410it [00:23, 17.53it/s]                                                                                               \n"
     ]
    },
    {
     "name": "stdout",
     "output_type": "stream",
     "text": [
      "Saving results in \\\\dk-server.dk.ucsd.edu\\afassihizakeri\\Leftsidemovies\\ar41motor\\2022_07_28...\n",
      "Saving csv poses!\n",
      "Starting to analyze %  \\\\dk-server.dk.ucsd.edu\\afassihizakeri\\Leftsidemovies\\ar41motor\\2022_07_28\\141.avi\n",
      "Loading  \\\\dk-server.dk.ucsd.edu\\afassihizakeri\\Leftsidemovies\\ar41motor\\2022_07_28\\141.avi\n",
      "Duration of video [s]:  10.0 , recorded with  40.0 fps!\n",
      "Overall # of frames:  400  found with (before cropping) frame dimensions:  800 550\n",
      "Starting to extract posture\n"
     ]
    },
    {
     "name": "stderr",
     "output_type": "stream",
     "text": [
      "410it [00:23, 17.53it/s]                                                                                               \n"
     ]
    },
    {
     "name": "stdout",
     "output_type": "stream",
     "text": [
      "Saving results in \\\\dk-server.dk.ucsd.edu\\afassihizakeri\\Leftsidemovies\\ar41motor\\2022_07_28...\n",
      "Saving csv poses!\n",
      "Starting to analyze %  \\\\dk-server.dk.ucsd.edu\\afassihizakeri\\Leftsidemovies\\ar41motor\\2022_07_28\\256.avi\n",
      "Loading  \\\\dk-server.dk.ucsd.edu\\afassihizakeri\\Leftsidemovies\\ar41motor\\2022_07_28\\256.avi\n",
      "Duration of video [s]:  10.0 , recorded with  40.0 fps!\n",
      "Overall # of frames:  400  found with (before cropping) frame dimensions:  800 550\n",
      "Starting to extract posture\n"
     ]
    },
    {
     "name": "stderr",
     "output_type": "stream",
     "text": [
      "410it [00:23, 17.49it/s]                                                                                               \n"
     ]
    },
    {
     "name": "stdout",
     "output_type": "stream",
     "text": [
      "Saving results in \\\\dk-server.dk.ucsd.edu\\afassihizakeri\\Leftsidemovies\\ar41motor\\2022_07_28...\n",
      "Saving csv poses!\n",
      "Starting to analyze %  \\\\dk-server.dk.ucsd.edu\\afassihizakeri\\Leftsidemovies\\ar41motor\\2022_07_28\\190.avi\n",
      "Loading  \\\\dk-server.dk.ucsd.edu\\afassihizakeri\\Leftsidemovies\\ar41motor\\2022_07_28\\190.avi\n",
      "Duration of video [s]:  10.0 , recorded with  40.0 fps!\n",
      "Overall # of frames:  400  found with (before cropping) frame dimensions:  800 550\n",
      "Starting to extract posture\n"
     ]
    },
    {
     "name": "stderr",
     "output_type": "stream",
     "text": [
      "410it [00:23, 17.55it/s]                                                                                               \n"
     ]
    },
    {
     "name": "stdout",
     "output_type": "stream",
     "text": [
      "Saving results in \\\\dk-server.dk.ucsd.edu\\afassihizakeri\\Leftsidemovies\\ar41motor\\2022_07_28...\n",
      "Saving csv poses!\n",
      "Starting to analyze %  \\\\dk-server.dk.ucsd.edu\\afassihizakeri\\Leftsidemovies\\ar41motor\\2022_07_28\\146.avi\n",
      "Loading  \\\\dk-server.dk.ucsd.edu\\afassihizakeri\\Leftsidemovies\\ar41motor\\2022_07_28\\146.avi\n",
      "Duration of video [s]:  10.0 , recorded with  40.0 fps!\n",
      "Overall # of frames:  400  found with (before cropping) frame dimensions:  800 550\n",
      "Starting to extract posture\n"
     ]
    },
    {
     "name": "stderr",
     "output_type": "stream",
     "text": [
      "410it [00:23, 17.50it/s]                                                                                               \n"
     ]
    },
    {
     "name": "stdout",
     "output_type": "stream",
     "text": [
      "Saving results in \\\\dk-server.dk.ucsd.edu\\afassihizakeri\\Leftsidemovies\\ar41motor\\2022_07_28...\n",
      "Saving csv poses!\n",
      "Starting to analyze %  \\\\dk-server.dk.ucsd.edu\\afassihizakeri\\Leftsidemovies\\ar41motor\\2022_07_28\\28.avi\n",
      "Loading  \\\\dk-server.dk.ucsd.edu\\afassihizakeri\\Leftsidemovies\\ar41motor\\2022_07_28\\28.avi\n",
      "Duration of video [s]:  10.0 , recorded with  40.0 fps!\n",
      "Overall # of frames:  400  found with (before cropping) frame dimensions:  800 550\n",
      "Starting to extract posture\n"
     ]
    },
    {
     "name": "stderr",
     "output_type": "stream",
     "text": [
      "410it [00:23, 17.56it/s]                                                                                               \n"
     ]
    },
    {
     "name": "stdout",
     "output_type": "stream",
     "text": [
      "Saving results in \\\\dk-server.dk.ucsd.edu\\afassihizakeri\\Leftsidemovies\\ar41motor\\2022_07_28...\n",
      "Saving csv poses!\n",
      "Starting to analyze %  \\\\dk-server.dk.ucsd.edu\\afassihizakeri\\Leftsidemovies\\ar41motor\\2022_07_28\\251.avi\n",
      "Loading  \\\\dk-server.dk.ucsd.edu\\afassihizakeri\\Leftsidemovies\\ar41motor\\2022_07_28\\251.avi\n",
      "Duration of video [s]:  10.0 , recorded with  40.0 fps!\n",
      "Overall # of frames:  400  found with (before cropping) frame dimensions:  800 550\n",
      "Starting to extract posture\n"
     ]
    },
    {
     "name": "stderr",
     "output_type": "stream",
     "text": [
      "410it [00:23, 17.54it/s]                                                                                               \n"
     ]
    },
    {
     "name": "stdout",
     "output_type": "stream",
     "text": [
      "Saving results in \\\\dk-server.dk.ucsd.edu\\afassihizakeri\\Leftsidemovies\\ar41motor\\2022_07_28...\n",
      "Saving csv poses!\n",
      "Starting to analyze %  \\\\dk-server.dk.ucsd.edu\\afassihizakeri\\Leftsidemovies\\ar41motor\\2022_07_28\\197.avi\n",
      "Loading  \\\\dk-server.dk.ucsd.edu\\afassihizakeri\\Leftsidemovies\\ar41motor\\2022_07_28\\197.avi\n",
      "Duration of video [s]:  10.0 , recorded with  40.0 fps!\n",
      "Overall # of frames:  400  found with (before cropping) frame dimensions:  800 550\n",
      "Starting to extract posture\n"
     ]
    },
    {
     "name": "stderr",
     "output_type": "stream",
     "text": [
      "410it [00:23, 17.52it/s]                                                                                               \n"
     ]
    },
    {
     "name": "stdout",
     "output_type": "stream",
     "text": [
      "Saving results in \\\\dk-server.dk.ucsd.edu\\afassihizakeri\\Leftsidemovies\\ar41motor\\2022_07_28...\n",
      "Saving csv poses!\n",
      "Starting to analyze %  \\\\dk-server.dk.ucsd.edu\\afassihizakeri\\Leftsidemovies\\ar41motor\\2022_07_28\\54.avi\n",
      "Loading  \\\\dk-server.dk.ucsd.edu\\afassihizakeri\\Leftsidemovies\\ar41motor\\2022_07_28\\54.avi\n",
      "Duration of video [s]:  10.0 , recorded with  40.0 fps!\n",
      "Overall # of frames:  400  found with (before cropping) frame dimensions:  800 550\n",
      "Starting to extract posture\n"
     ]
    },
    {
     "name": "stderr",
     "output_type": "stream",
     "text": [
      "410it [00:23, 17.56it/s]                                                                                               \n"
     ]
    },
    {
     "name": "stdout",
     "output_type": "stream",
     "text": [
      "Saving results in \\\\dk-server.dk.ucsd.edu\\afassihizakeri\\Leftsidemovies\\ar41motor\\2022_07_28...\n",
      "Saving csv poses!\n",
      "Starting to analyze %  \\\\dk-server.dk.ucsd.edu\\afassihizakeri\\Leftsidemovies\\ar41motor\\2022_07_28\\85.avi\n",
      "Loading  \\\\dk-server.dk.ucsd.edu\\afassihizakeri\\Leftsidemovies\\ar41motor\\2022_07_28\\85.avi\n",
      "Duration of video [s]:  10.0 , recorded with  40.0 fps!\n",
      "Overall # of frames:  400  found with (before cropping) frame dimensions:  800 550\n",
      "Starting to extract posture\n"
     ]
    },
    {
     "name": "stderr",
     "output_type": "stream",
     "text": [
      "410it [00:23, 17.53it/s]                                                                                               \n"
     ]
    },
    {
     "name": "stdout",
     "output_type": "stream",
     "text": [
      "Saving results in \\\\dk-server.dk.ucsd.edu\\afassihizakeri\\Leftsidemovies\\ar41motor\\2022_07_28...\n",
      "Saving csv poses!\n",
      "Starting to analyze %  \\\\dk-server.dk.ucsd.edu\\afassihizakeri\\Leftsidemovies\\ar41motor\\2022_07_28\\240.avi\n",
      "Loading  \\\\dk-server.dk.ucsd.edu\\afassihizakeri\\Leftsidemovies\\ar41motor\\2022_07_28\\240.avi\n",
      "Duration of video [s]:  10.0 , recorded with  40.0 fps!\n",
      "Overall # of frames:  400  found with (before cropping) frame dimensions:  800 550\n",
      "Starting to extract posture\n"
     ]
    },
    {
     "name": "stderr",
     "output_type": "stream",
     "text": [
      "410it [00:23, 17.54it/s]                                                                                               \n"
     ]
    },
    {
     "name": "stdout",
     "output_type": "stream",
     "text": [
      "Saving results in \\\\dk-server.dk.ucsd.edu\\afassihizakeri\\Leftsidemovies\\ar41motor\\2022_07_28...\n",
      "Saving csv poses!\n",
      "Starting to analyze %  \\\\dk-server.dk.ucsd.edu\\afassihizakeri\\Leftsidemovies\\ar41motor\\2022_07_28\\186.avi\n",
      "Loading  \\\\dk-server.dk.ucsd.edu\\afassihizakeri\\Leftsidemovies\\ar41motor\\2022_07_28\\186.avi\n",
      "Duration of video [s]:  10.0 , recorded with  40.0 fps!\n",
      "Overall # of frames:  400  found with (before cropping) frame dimensions:  800 550\n",
      "Starting to extract posture\n"
     ]
    },
    {
     "name": "stderr",
     "output_type": "stream",
     "text": [
      "410it [00:23, 17.54it/s]                                                                                               \n"
     ]
    },
    {
     "name": "stdout",
     "output_type": "stream",
     "text": [
      "Saving results in \\\\dk-server.dk.ucsd.edu\\afassihizakeri\\Leftsidemovies\\ar41motor\\2022_07_28...\n",
      "Saving csv poses!\n",
      "Starting to analyze %  \\\\dk-server.dk.ucsd.edu\\afassihizakeri\\Leftsidemovies\\ar41motor\\2022_07_28\\157.avi\n",
      "Loading  \\\\dk-server.dk.ucsd.edu\\afassihizakeri\\Leftsidemovies\\ar41motor\\2022_07_28\\157.avi\n",
      "Duration of video [s]:  10.0 , recorded with  40.0 fps!\n",
      "Overall # of frames:  400  found with (before cropping) frame dimensions:  800 550\n",
      "Starting to extract posture\n"
     ]
    },
    {
     "name": "stderr",
     "output_type": "stream",
     "text": [
      "410it [00:23, 17.51it/s]                                                                                               \n"
     ]
    },
    {
     "name": "stdout",
     "output_type": "stream",
     "text": [
      "Saving results in \\\\dk-server.dk.ucsd.edu\\afassihizakeri\\Leftsidemovies\\ar41motor\\2022_07_28...\n",
      "Saving csv poses!\n",
      "Starting to analyze %  \\\\dk-server.dk.ucsd.edu\\afassihizakeri\\Leftsidemovies\\ar41motor\\2022_07_28\\39.avi\n",
      "Loading  \\\\dk-server.dk.ucsd.edu\\afassihizakeri\\Leftsidemovies\\ar41motor\\2022_07_28\\39.avi\n",
      "Duration of video [s]:  10.0 , recorded with  40.0 fps!\n",
      "Overall # of frames:  400  found with (before cropping) frame dimensions:  800 550\n",
      "Starting to extract posture\n"
     ]
    },
    {
     "name": "stderr",
     "output_type": "stream",
     "text": [
      "410it [00:23, 17.53it/s]                                                                                               \n"
     ]
    },
    {
     "name": "stdout",
     "output_type": "stream",
     "text": [
      "Saving results in \\\\dk-server.dk.ucsd.edu\\afassihizakeri\\Leftsidemovies\\ar41motor\\2022_07_28...\n",
      "Saving csv poses!\n",
      "Starting to analyze %  \\\\dk-server.dk.ucsd.edu\\afassihizakeri\\Leftsidemovies\\ar41motor\\2022_07_28\\94.avi\n",
      "Loading  \\\\dk-server.dk.ucsd.edu\\afassihizakeri\\Leftsidemovies\\ar41motor\\2022_07_28\\94.avi\n",
      "Duration of video [s]:  10.0 , recorded with  40.0 fps!\n",
      "Overall # of frames:  400  found with (before cropping) frame dimensions:  800 550\n",
      "Starting to extract posture\n"
     ]
    },
    {
     "name": "stderr",
     "output_type": "stream",
     "text": [
      "410it [00:23, 17.55it/s]                                                                                               \n"
     ]
    },
    {
     "name": "stdout",
     "output_type": "stream",
     "text": [
      "Saving results in \\\\dk-server.dk.ucsd.edu\\afassihizakeri\\Leftsidemovies\\ar41motor\\2022_07_28...\n",
      "Saving csv poses!\n",
      "Starting to analyze %  \\\\dk-server.dk.ucsd.edu\\afassihizakeri\\Leftsidemovies\\ar41motor\\2022_07_28\\45.avi\n",
      "Loading  \\\\dk-server.dk.ucsd.edu\\afassihizakeri\\Leftsidemovies\\ar41motor\\2022_07_28\\45.avi\n",
      "Duration of video [s]:  10.0 , recorded with  40.0 fps!\n",
      "Overall # of frames:  400  found with (before cropping) frame dimensions:  800 550\n",
      "Starting to extract posture\n"
     ]
    },
    {
     "name": "stderr",
     "output_type": "stream",
     "text": [
      "410it [00:23, 17.56it/s]                                                                                               \n"
     ]
    },
    {
     "name": "stdout",
     "output_type": "stream",
     "text": [
      "Saving results in \\\\dk-server.dk.ucsd.edu\\afassihizakeri\\Leftsidemovies\\ar41motor\\2022_07_28...\n",
      "Saving csv poses!\n",
      "Starting to analyze %  \\\\dk-server.dk.ucsd.edu\\afassihizakeri\\Leftsidemovies\\ar41motor\\2022_07_28\\93.avi\n",
      "Loading  \\\\dk-server.dk.ucsd.edu\\afassihizakeri\\Leftsidemovies\\ar41motor\\2022_07_28\\93.avi\n",
      "Duration of video [s]:  10.0 , recorded with  40.0 fps!\n",
      "Overall # of frames:  400  found with (before cropping) frame dimensions:  800 550\n",
      "Starting to extract posture\n"
     ]
    },
    {
     "name": "stderr",
     "output_type": "stream",
     "text": [
      "410it [00:23, 17.56it/s]                                                                                               \n"
     ]
    },
    {
     "name": "stdout",
     "output_type": "stream",
     "text": [
      "Saving results in \\\\dk-server.dk.ucsd.edu\\afassihizakeri\\Leftsidemovies\\ar41motor\\2022_07_28...\n",
      "Saving csv poses!\n",
      "Starting to analyze %  \\\\dk-server.dk.ucsd.edu\\afassihizakeri\\Leftsidemovies\\ar41motor\\2022_07_28\\42.avi\n",
      "Loading  \\\\dk-server.dk.ucsd.edu\\afassihizakeri\\Leftsidemovies\\ar41motor\\2022_07_28\\42.avi\n",
      "Duration of video [s]:  10.0 , recorded with  40.0 fps!\n",
      "Overall # of frames:  400  found with (before cropping) frame dimensions:  800 550\n",
      "Starting to extract posture\n"
     ]
    },
    {
     "name": "stderr",
     "output_type": "stream",
     "text": [
      "410it [00:23, 17.51it/s]                                                                                               \n"
     ]
    },
    {
     "name": "stdout",
     "output_type": "stream",
     "text": [
      "Saving results in \\\\dk-server.dk.ucsd.edu\\afassihizakeri\\Leftsidemovies\\ar41motor\\2022_07_28...\n",
      "Saving csv poses!\n",
      "Starting to analyze %  \\\\dk-server.dk.ucsd.edu\\afassihizakeri\\Leftsidemovies\\ar41motor\\2022_07_28\\247.avi\n",
      "Loading  \\\\dk-server.dk.ucsd.edu\\afassihizakeri\\Leftsidemovies\\ar41motor\\2022_07_28\\247.avi\n",
      "Duration of video [s]:  10.0 , recorded with  40.0 fps!\n",
      "Overall # of frames:  400  found with (before cropping) frame dimensions:  800 550\n",
      "Starting to extract posture\n"
     ]
    },
    {
     "name": "stderr",
     "output_type": "stream",
     "text": [
      "410it [00:23, 17.55it/s]                                                                                               \n"
     ]
    },
    {
     "name": "stdout",
     "output_type": "stream",
     "text": [
      "Saving results in \\\\dk-server.dk.ucsd.edu\\afassihizakeri\\Leftsidemovies\\ar41motor\\2022_07_28...\n",
      "Saving csv poses!\n",
      "Starting to analyze %  \\\\dk-server.dk.ucsd.edu\\afassihizakeri\\Leftsidemovies\\ar41motor\\2022_07_28\\181.avi\n",
      "Loading  \\\\dk-server.dk.ucsd.edu\\afassihizakeri\\Leftsidemovies\\ar41motor\\2022_07_28\\181.avi\n",
      "Duration of video [s]:  10.0 , recorded with  40.0 fps!\n",
      "Overall # of frames:  400  found with (before cropping) frame dimensions:  800 550\n",
      "Starting to extract posture\n"
     ]
    },
    {
     "name": "stderr",
     "output_type": "stream",
     "text": [
      "410it [00:23, 17.53it/s]                                                                                               \n"
     ]
    },
    {
     "name": "stdout",
     "output_type": "stream",
     "text": [
      "Saving results in \\\\dk-server.dk.ucsd.edu\\afassihizakeri\\Leftsidemovies\\ar41motor\\2022_07_28...\n",
      "Saving csv poses!\n",
      "Starting to analyze %  \\\\dk-server.dk.ucsd.edu\\afassihizakeri\\Leftsidemovies\\ar41motor\\2022_07_28\\150.avi\n",
      "Loading  \\\\dk-server.dk.ucsd.edu\\afassihizakeri\\Leftsidemovies\\ar41motor\\2022_07_28\\150.avi\n",
      "Duration of video [s]:  10.0 , recorded with  40.0 fps!\n",
      "Overall # of frames:  400  found with (before cropping) frame dimensions:  800 550\n",
      "Starting to extract posture\n"
     ]
    },
    {
     "name": "stderr",
     "output_type": "stream",
     "text": [
      "410it [00:23, 17.53it/s]                                                                                               \n"
     ]
    },
    {
     "name": "stdout",
     "output_type": "stream",
     "text": [
      "Saving results in \\\\dk-server.dk.ucsd.edu\\afassihizakeri\\Leftsidemovies\\ar41motor\\2022_07_28...\n",
      "Saving csv poses!\n",
      "Starting to analyze %  \\\\dk-server.dk.ucsd.edu\\afassihizakeri\\Leftsidemovies\\ar41motor\\2022_07_28\\235.avi\n",
      "Loading  \\\\dk-server.dk.ucsd.edu\\afassihizakeri\\Leftsidemovies\\ar41motor\\2022_07_28\\235.avi\n",
      "Duration of video [s]:  10.0 , recorded with  40.0 fps!\n",
      "Overall # of frames:  400  found with (before cropping) frame dimensions:  800 550\n",
      "Starting to extract posture\n"
     ]
    },
    {
     "name": "stderr",
     "output_type": "stream",
     "text": [
      "410it [00:23, 17.53it/s]                                                                                               \n"
     ]
    },
    {
     "name": "stdout",
     "output_type": "stream",
     "text": [
      "Saving results in \\\\dk-server.dk.ucsd.edu\\afassihizakeri\\Leftsidemovies\\ar41motor\\2022_07_28...\n",
      "Saving csv poses!\n",
      "Starting to analyze %  \\\\dk-server.dk.ucsd.edu\\afassihizakeri\\Leftsidemovies\\ar41motor\\2022_07_28\\122.avi\n",
      "Loading  \\\\dk-server.dk.ucsd.edu\\afassihizakeri\\Leftsidemovies\\ar41motor\\2022_07_28\\122.avi\n",
      "Duration of video [s]:  10.0 , recorded with  40.0 fps!\n",
      "Overall # of frames:  400  found with (before cropping) frame dimensions:  800 550\n",
      "Starting to extract posture\n"
     ]
    },
    {
     "name": "stderr",
     "output_type": "stream",
     "text": [
      "410it [00:23, 17.53it/s]                                                                                               \n"
     ]
    },
    {
     "name": "stdout",
     "output_type": "stream",
     "text": [
      "Saving results in \\\\dk-server.dk.ucsd.edu\\afassihizakeri\\Leftsidemovies\\ar41motor\\2022_07_28...\n",
      "Saving csv poses!\n",
      "Starting to analyze %  \\\\dk-server.dk.ucsd.edu\\afassihizakeri\\Leftsidemovies\\ar41motor\\2022_07_28\\249.avi\n",
      "Loading  \\\\dk-server.dk.ucsd.edu\\afassihizakeri\\Leftsidemovies\\ar41motor\\2022_07_28\\249.avi\n",
      "Duration of video [s]:  10.0 , recorded with  40.0 fps!\n",
      "Overall # of frames:  400  found with (before cropping) frame dimensions:  800 550\n",
      "Starting to extract posture\n"
     ]
    },
    {
     "name": "stderr",
     "output_type": "stream",
     "text": [
      "410it [00:23, 17.53it/s]                                                                                               \n"
     ]
    },
    {
     "name": "stdout",
     "output_type": "stream",
     "text": [
      "Saving results in \\\\dk-server.dk.ucsd.edu\\afassihizakeri\\Leftsidemovies\\ar41motor\\2022_07_28...\n",
      "Saving csv poses!\n",
      "Starting to analyze %  \\\\dk-server.dk.ucsd.edu\\afassihizakeri\\Leftsidemovies\\ar41motor\\2022_07_28\\30.avi\n",
      "Loading  \\\\dk-server.dk.ucsd.edu\\afassihizakeri\\Leftsidemovies\\ar41motor\\2022_07_28\\30.avi\n",
      "Duration of video [s]:  10.0 , recorded with  40.0 fps!\n",
      "Overall # of frames:  400  found with (before cropping) frame dimensions:  800 550\n",
      "Starting to extract posture\n"
     ]
    },
    {
     "name": "stderr",
     "output_type": "stream",
     "text": [
      "410it [00:23, 17.53it/s]                                                                                               \n"
     ]
    },
    {
     "name": "stdout",
     "output_type": "stream",
     "text": [
      "Saving results in \\\\dk-server.dk.ucsd.edu\\afassihizakeri\\Leftsidemovies\\ar41motor\\2022_07_28...\n",
      "Saving csv poses!\n",
      "Starting to analyze %  \\\\dk-server.dk.ucsd.edu\\afassihizakeri\\Leftsidemovies\\ar41motor\\2022_07_28\\188.avi\n",
      "Loading  \\\\dk-server.dk.ucsd.edu\\afassihizakeri\\Leftsidemovies\\ar41motor\\2022_07_28\\188.avi\n",
      "Duration of video [s]:  10.0 , recorded with  40.0 fps!\n",
      "Overall # of frames:  400  found with (before cropping) frame dimensions:  800 550\n",
      "Starting to extract posture\n"
     ]
    },
    {
     "name": "stderr",
     "output_type": "stream",
     "text": [
      "410it [00:23, 17.56it/s]                                                                                               \n"
     ]
    },
    {
     "name": "stdout",
     "output_type": "stream",
     "text": [
      "Saving results in \\\\dk-server.dk.ucsd.edu\\afassihizakeri\\Leftsidemovies\\ar41motor\\2022_07_28...\n",
      "Saving csv poses!\n",
      "Starting to analyze %  \\\\dk-server.dk.ucsd.edu\\afassihizakeri\\Leftsidemovies\\ar41motor\\2022_07_28\\159.avi\n",
      "Loading  \\\\dk-server.dk.ucsd.edu\\afassihizakeri\\Leftsidemovies\\ar41motor\\2022_07_28\\159.avi\n",
      "Duration of video [s]:  10.0 , recorded with  40.0 fps!\n",
      "Overall # of frames:  400  found with (before cropping) frame dimensions:  800 550\n",
      "Starting to extract posture\n"
     ]
    },
    {
     "name": "stderr",
     "output_type": "stream",
     "text": [
      "410it [00:23, 17.57it/s]                                                                                               \n"
     ]
    },
    {
     "name": "stdout",
     "output_type": "stream",
     "text": [
      "Saving results in \\\\dk-server.dk.ucsd.edu\\afassihizakeri\\Leftsidemovies\\ar41motor\\2022_07_28...\n",
      "Saving csv poses!\n",
      "Starting to analyze %  \\\\dk-server.dk.ucsd.edu\\afassihizakeri\\Leftsidemovies\\ar41motor\\2022_07_28\\37.avi\n",
      "Loading  \\\\dk-server.dk.ucsd.edu\\afassihizakeri\\Leftsidemovies\\ar41motor\\2022_07_28\\37.avi\n",
      "Duration of video [s]:  10.0 , recorded with  40.0 fps!\n",
      "Overall # of frames:  400  found with (before cropping) frame dimensions:  800 550\n",
      "Starting to extract posture\n"
     ]
    },
    {
     "name": "stderr",
     "output_type": "stream",
     "text": [
      "410it [00:23, 17.53it/s]                                                                                               \n"
     ]
    },
    {
     "name": "stdout",
     "output_type": "stream",
     "text": [
      "Saving results in \\\\dk-server.dk.ucsd.edu\\afassihizakeri\\Leftsidemovies\\ar41motor\\2022_07_28...\n",
      "Saving csv poses!\n",
      "Starting to analyze %  \\\\dk-server.dk.ucsd.edu\\afassihizakeri\\Leftsidemovies\\ar41motor\\2022_07_28\\232.avi\n",
      "Loading  \\\\dk-server.dk.ucsd.edu\\afassihizakeri\\Leftsidemovies\\ar41motor\\2022_07_28\\232.avi\n",
      "Duration of video [s]:  10.0 , recorded with  40.0 fps!\n",
      "Overall # of frames:  400  found with (before cropping) frame dimensions:  800 550\n",
      "Starting to extract posture\n"
     ]
    },
    {
     "name": "stderr",
     "output_type": "stream",
     "text": [
      "410it [00:23, 17.55it/s]                                                                                               \n"
     ]
    },
    {
     "name": "stdout",
     "output_type": "stream",
     "text": [
      "Saving results in \\\\dk-server.dk.ucsd.edu\\afassihizakeri\\Leftsidemovies\\ar41motor\\2022_07_28...\n",
      "Saving csv poses!\n",
      "Starting to analyze %  \\\\dk-server.dk.ucsd.edu\\afassihizakeri\\Leftsidemovies\\ar41motor\\2022_07_28\\125.avi\n",
      "Loading  \\\\dk-server.dk.ucsd.edu\\afassihizakeri\\Leftsidemovies\\ar41motor\\2022_07_28\\125.avi\n",
      "Duration of video [s]:  10.0 , recorded with  40.0 fps!\n",
      "Overall # of frames:  400  found with (before cropping) frame dimensions:  800 550\n",
      "Starting to extract posture\n"
     ]
    },
    {
     "name": "stderr",
     "output_type": "stream",
     "text": [
      "410it [00:23, 17.55it/s]                                                                                               \n"
     ]
    },
    {
     "name": "stdout",
     "output_type": "stream",
     "text": [
      "Saving results in \\\\dk-server.dk.ucsd.edu\\afassihizakeri\\Leftsidemovies\\ar41motor\\2022_07_28...\n",
      "Saving csv poses!\n",
      "Starting to analyze %  \\\\dk-server.dk.ucsd.edu\\afassihizakeri\\Leftsidemovies\\ar41motor\\2022_07_28\\110.avi\n",
      "Loading  \\\\dk-server.dk.ucsd.edu\\afassihizakeri\\Leftsidemovies\\ar41motor\\2022_07_28\\110.avi\n",
      "Duration of video [s]:  10.0 , recorded with  40.0 fps!\n",
      "Overall # of frames:  400  found with (before cropping) frame dimensions:  800 550\n",
      "Starting to extract posture\n"
     ]
    },
    {
     "name": "stderr",
     "output_type": "stream",
     "text": [
      "410it [00:23, 17.55it/s]                                                                                               \n"
     ]
    },
    {
     "name": "stdout",
     "output_type": "stream",
     "text": [
      "Saving results in \\\\dk-server.dk.ucsd.edu\\afassihizakeri\\Leftsidemovies\\ar41motor\\2022_07_28...\n",
      "Saving csv poses!\n",
      "Starting to analyze %  \\\\dk-server.dk.ucsd.edu\\afassihizakeri\\Leftsidemovies\\ar41motor\\2022_07_28\\207.avi\n",
      "Loading  \\\\dk-server.dk.ucsd.edu\\afassihizakeri\\Leftsidemovies\\ar41motor\\2022_07_28\\207.avi\n",
      "Duration of video [s]:  10.0 , recorded with  40.0 fps!\n",
      "Overall # of frames:  400  found with (before cropping) frame dimensions:  800 550\n",
      "Starting to extract posture\n"
     ]
    },
    {
     "name": "stderr",
     "output_type": "stream",
     "text": [
      "410it [00:23, 17.56it/s]                                                                                               \n"
     ]
    },
    {
     "name": "stdout",
     "output_type": "stream",
     "text": [
      "Saving results in \\\\dk-server.dk.ucsd.edu\\afassihizakeri\\Leftsidemovies\\ar41motor\\2022_07_28...\n",
      "Saving csv poses!\n",
      "Starting to analyze %  \\\\dk-server.dk.ucsd.edu\\afassihizakeri\\Leftsidemovies\\ar41motor\\2022_07_28\\79.avi\n",
      "Loading  \\\\dk-server.dk.ucsd.edu\\afassihizakeri\\Leftsidemovies\\ar41motor\\2022_07_28\\79.avi\n",
      "Duration of video [s]:  10.0 , recorded with  40.0 fps!\n",
      "Overall # of frames:  400  found with (before cropping) frame dimensions:  800 550\n",
      "Starting to extract posture\n"
     ]
    },
    {
     "name": "stderr",
     "output_type": "stream",
     "text": [
      "410it [00:23, 17.54it/s]                                                                                               \n"
     ]
    },
    {
     "name": "stdout",
     "output_type": "stream",
     "text": [
      "Saving results in \\\\dk-server.dk.ucsd.edu\\afassihizakeri\\Leftsidemovies\\ar41motor\\2022_07_28...\n",
      "Saving csv poses!\n",
      "Starting to analyze %  \\\\dk-server.dk.ucsd.edu\\afassihizakeri\\Leftsidemovies\\ar41motor\\2022_07_28\\117.avi\n",
      "Loading  \\\\dk-server.dk.ucsd.edu\\afassihizakeri\\Leftsidemovies\\ar41motor\\2022_07_28\\117.avi\n",
      "Duration of video [s]:  10.0 , recorded with  40.0 fps!\n",
      "Overall # of frames:  400  found with (before cropping) frame dimensions:  800 550\n",
      "Starting to extract posture\n"
     ]
    },
    {
     "name": "stderr",
     "output_type": "stream",
     "text": [
      "410it [00:23, 17.56it/s]                                                                                               \n"
     ]
    },
    {
     "name": "stdout",
     "output_type": "stream",
     "text": [
      "Saving results in \\\\dk-server.dk.ucsd.edu\\afassihizakeri\\Leftsidemovies\\ar41motor\\2022_07_28...\n",
      "Saving csv poses!\n",
      "Starting to analyze %  \\\\dk-server.dk.ucsd.edu\\afassihizakeri\\Leftsidemovies\\ar41motor\\2022_07_28\\200.avi\n",
      "Loading  \\\\dk-server.dk.ucsd.edu\\afassihizakeri\\Leftsidemovies\\ar41motor\\2022_07_28\\200.avi\n",
      "Duration of video [s]:  10.0 , recorded with  40.0 fps!\n",
      "Overall # of frames:  400  found with (before cropping) frame dimensions:  800 550\n",
      "Starting to extract posture\n"
     ]
    },
    {
     "name": "stderr",
     "output_type": "stream",
     "text": [
      "410it [00:23, 17.52it/s]                                                                                               \n"
     ]
    },
    {
     "name": "stdout",
     "output_type": "stream",
     "text": [
      "Saving results in \\\\dk-server.dk.ucsd.edu\\afassihizakeri\\Leftsidemovies\\ar41motor\\2022_07_28...\n",
      "Saving csv poses!\n",
      "Starting to analyze %  \\\\dk-server.dk.ucsd.edu\\afassihizakeri\\Leftsidemovies\\ar41motor\\2022_07_28\\77.avi\n",
      "Loading  \\\\dk-server.dk.ucsd.edu\\afassihizakeri\\Leftsidemovies\\ar41motor\\2022_07_28\\77.avi\n",
      "Duration of video [s]:  10.0 , recorded with  40.0 fps!\n",
      "Overall # of frames:  400  found with (before cropping) frame dimensions:  800 550\n",
      "Starting to extract posture\n"
     ]
    },
    {
     "name": "stderr",
     "output_type": "stream",
     "text": [
      "410it [00:23, 17.56it/s]                                                                                               \n"
     ]
    },
    {
     "name": "stdout",
     "output_type": "stream",
     "text": [
      "Saving results in \\\\dk-server.dk.ucsd.edu\\afassihizakeri\\Leftsidemovies\\ar41motor\\2022_07_28...\n",
      "Saving csv poses!\n",
      "Starting to analyze %  \\\\dk-server.dk.ucsd.edu\\afassihizakeri\\Leftsidemovies\\ar41motor\\2022_07_28\\119.avi\n",
      "Loading  \\\\dk-server.dk.ucsd.edu\\afassihizakeri\\Leftsidemovies\\ar41motor\\2022_07_28\\119.avi\n",
      "Duration of video [s]:  10.0 , recorded with  40.0 fps!\n",
      "Overall # of frames:  400  found with (before cropping) frame dimensions:  800 550\n",
      "Starting to extract posture\n"
     ]
    },
    {
     "name": "stderr",
     "output_type": "stream",
     "text": [
      "410it [00:23, 17.54it/s]                                                                                               \n"
     ]
    },
    {
     "name": "stdout",
     "output_type": "stream",
     "text": [
      "Saving results in \\\\dk-server.dk.ucsd.edu\\afassihizakeri\\Leftsidemovies\\ar41motor\\2022_07_28...\n",
      "Saving csv poses!\n",
      "Starting to analyze %  \\\\dk-server.dk.ucsd.edu\\afassihizakeri\\Leftsidemovies\\ar41motor\\2022_07_28\\165.avi\n",
      "Loading  \\\\dk-server.dk.ucsd.edu\\afassihizakeri\\Leftsidemovies\\ar41motor\\2022_07_28\\165.avi\n",
      "Duration of video [s]:  10.0 , recorded with  40.0 fps!\n",
      "Overall # of frames:  400  found with (before cropping) frame dimensions:  800 550\n",
      "Starting to extract posture\n"
     ]
    },
    {
     "name": "stderr",
     "output_type": "stream",
     "text": [
      "410it [00:23, 17.53it/s]                                                                                               \n"
     ]
    },
    {
     "name": "stdout",
     "output_type": "stream",
     "text": [
      "Saving results in \\\\dk-server.dk.ucsd.edu\\afassihizakeri\\Leftsidemovies\\ar41motor\\2022_07_28...\n",
      "Saving csv poses!\n",
      "Starting to analyze %  \\\\dk-server.dk.ucsd.edu\\afassihizakeri\\Leftsidemovies\\ar41motor\\2022_07_28\\162.avi\n",
      "Loading  \\\\dk-server.dk.ucsd.edu\\afassihizakeri\\Leftsidemovies\\ar41motor\\2022_07_28\\162.avi\n",
      "Duration of video [s]:  10.0 , recorded with  40.0 fps!\n",
      "Overall # of frames:  400  found with (before cropping) frame dimensions:  800 550\n",
      "Starting to extract posture\n"
     ]
    },
    {
     "name": "stderr",
     "output_type": "stream",
     "text": [
      "410it [00:23, 17.55it/s]                                                                                               \n"
     ]
    },
    {
     "name": "stdout",
     "output_type": "stream",
     "text": [
      "Saving results in \\\\dk-server.dk.ucsd.edu\\afassihizakeri\\Leftsidemovies\\ar41motor\\2022_07_28...\n",
      "Saving csv poses!\n",
      "Starting to analyze %  \\\\dk-server.dk.ucsd.edu\\afassihizakeri\\Leftsidemovies\\ar41motor\\2022_07_28\\70.avi\n",
      "Loading  \\\\dk-server.dk.ucsd.edu\\afassihizakeri\\Leftsidemovies\\ar41motor\\2022_07_28\\70.avi\n",
      "Duration of video [s]:  10.0 , recorded with  40.0 fps!\n",
      "Overall # of frames:  400  found with (before cropping) frame dimensions:  800 550\n",
      "Starting to extract posture\n"
     ]
    },
    {
     "name": "stderr",
     "output_type": "stream",
     "text": [
      "410it [00:23, 17.58it/s]                                                                                               \n"
     ]
    },
    {
     "name": "stdout",
     "output_type": "stream",
     "text": [
      "Saving results in \\\\dk-server.dk.ucsd.edu\\afassihizakeri\\Leftsidemovies\\ar41motor\\2022_07_28...\n",
      "Saving csv poses!\n",
      "Starting to analyze %  \\\\dk-server.dk.ucsd.edu\\afassihizakeri\\Leftsidemovies\\ar41motor\\2022_07_28\\209.avi\n",
      "Loading  \\\\dk-server.dk.ucsd.edu\\afassihizakeri\\Leftsidemovies\\ar41motor\\2022_07_28\\209.avi\n",
      "Duration of video [s]:  10.0 , recorded with  40.0 fps!\n",
      "Overall # of frames:  400  found with (before cropping) frame dimensions:  800 550\n",
      "Starting to extract posture\n"
     ]
    },
    {
     "name": "stderr",
     "output_type": "stream",
     "text": [
      "410it [00:23, 17.54it/s]                                                                                               \n"
     ]
    },
    {
     "name": "stdout",
     "output_type": "stream",
     "text": [
      "Saving results in \\\\dk-server.dk.ucsd.edu\\afassihizakeri\\Leftsidemovies\\ar41motor\\2022_07_28...\n",
      "Saving csv poses!\n",
      "The videos are analyzed. Now your research can truly start! \n",
      " You can create labeled videos with 'create_labeled_video'\n",
      "If the tracking is not satisfactory for some videos, consider expanding the training set. You can use the function 'extract_outlier_frames' to extract a few representative outlier frames.\n",
      "Filtering with median model \\\\dk-server.dk.ucsd.edu\\afassihizakeri\\Leftsidemovies\\ar41motor\\2022_07_28\\238.avi\n",
      "Saving filtered csv poses!\n",
      "Filtering with median model \\\\dk-server.dk.ucsd.edu\\afassihizakeri\\Leftsidemovies\\ar41motor\\2022_07_28\\90.avi\n",
      "Saving filtered csv poses!\n",
      "Filtering with median model \\\\dk-server.dk.ucsd.edu\\afassihizakeri\\Leftsidemovies\\ar41motor\\2022_07_28\\41.avi\n",
      "Saving filtered csv poses!\n",
      "Filtering with median model \\\\dk-server.dk.ucsd.edu\\afassihizakeri\\Leftsidemovies\\ar41motor\\2022_07_28\\182.avi\n",
      "Saving filtered csv poses!\n",
      "Filtering with median model \\\\dk-server.dk.ucsd.edu\\afassihizakeri\\Leftsidemovies\\ar41motor\\2022_07_28\\244.avi\n",
      "Saving filtered csv poses!\n",
      "Filtering with median model \\\\dk-server.dk.ucsd.edu\\afassihizakeri\\Leftsidemovies\\ar41motor\\2022_07_28\\153.avi\n",
      "Saving filtered csv poses!\n",
      "Filtering with median model \\\\dk-server.dk.ucsd.edu\\afassihizakeri\\Leftsidemovies\\ar41motor\\2022_07_28\\185.avi\n",
      "Saving filtered csv poses!\n",
      "Filtering with median model \\\\dk-server.dk.ucsd.edu\\afassihizakeri\\Leftsidemovies\\ar41motor\\2022_07_28\\243.avi\n",
      "Saving filtered csv poses!\n",
      "Filtering with median model \\\\dk-server.dk.ucsd.edu\\afassihizakeri\\Leftsidemovies\\ar41motor\\2022_07_28\\154.avi\n",
      "Saving filtered csv poses!\n",
      "Filtering with median model \\\\dk-server.dk.ucsd.edu\\afassihizakeri\\Leftsidemovies\\ar41motor\\2022_07_28\\97.avi\n",
      "Saving filtered csv poses!\n",
      "Filtering with median model \\\\dk-server.dk.ucsd.edu\\afassihizakeri\\Leftsidemovies\\ar41motor\\2022_07_28\\46.avi\n",
      "Saving filtered csv poses!\n",
      "Filtering with median model \\\\dk-server.dk.ucsd.edu\\afassihizakeri\\Leftsidemovies\\ar41motor\\2022_07_28\\128.avi\n",
      "Saving filtered csv poses!\n",
      "Filtering with median model \\\\dk-server.dk.ucsd.edu\\afassihizakeri\\Leftsidemovies\\ar41motor\\2022_07_28\\34.avi\n",
      "Saving filtered csv poses!\n",
      "Filtering with median model \\\\dk-server.dk.ucsd.edu\\afassihizakeri\\Leftsidemovies\\ar41motor\\2022_07_28\\231.avi\n",
      "Saving filtered csv poses!\n",
      "Filtering with median model \\\\dk-server.dk.ucsd.edu\\afassihizakeri\\Leftsidemovies\\ar41motor\\2022_07_28\\99.avi\n",
      "Saving filtered csv poses!\n",
      "Filtering with median model \\\\dk-server.dk.ucsd.edu\\afassihizakeri\\Leftsidemovies\\ar41motor\\2022_07_28\\48.avi\n",
      "Saving filtered csv poses!\n",
      "Filtering with median model \\\\dk-server.dk.ucsd.edu\\afassihizakeri\\Leftsidemovies\\ar41motor\\2022_07_28\\126.avi\n",
      "Saving filtered csv poses!\n",
      "Filtering with median model \\\\dk-server.dk.ucsd.edu\\afassihizakeri\\Leftsidemovies\\ar41motor\\2022_07_28\\236.avi\n",
      "Saving filtered csv poses!\n",
      "Filtering with median model \\\\dk-server.dk.ucsd.edu\\afassihizakeri\\Leftsidemovies\\ar41motor\\2022_07_28\\121.avi\n",
      "Saving filtered csv poses!\n",
      "Filtering with median model \\\\dk-server.dk.ucsd.edu\\afassihizakeri\\Leftsidemovies\\ar41motor\\2022_07_28\\33.avi\n",
      "Saving filtered csv poses!\n",
      "Filtering with median model \\\\dk-server.dk.ucsd.edu\\afassihizakeri\\Leftsidemovies\\ar41motor\\2022_07_28\\114.avi\n",
      "Saving filtered csv poses!\n",
      "Filtering with median model \\\\dk-server.dk.ucsd.edu\\afassihizakeri\\Leftsidemovies\\ar41motor\\2022_07_28\\203.avi\n",
      "Saving filtered csv poses!\n",
      "Filtering with median model \\\\dk-server.dk.ucsd.edu\\afassihizakeri\\Leftsidemovies\\ar41motor\\2022_07_28\\168.avi\n",
      "Saving filtered csv poses!\n",
      "Filtering with median model \\\\dk-server.dk.ucsd.edu\\afassihizakeri\\Leftsidemovies\\ar41motor\\2022_07_28\\113.avi\n",
      "Saving filtered csv poses!\n",
      "Filtering with median model \\\\dk-server.dk.ucsd.edu\\afassihizakeri\\Leftsidemovies\\ar41motor\\2022_07_28\\204.avi\n",
      "Saving filtered csv poses!\n",
      "Filtering with median model \\\\dk-server.dk.ucsd.edu\\afassihizakeri\\Leftsidemovies\\ar41motor\\2022_07_28\\161.avi\n",
      "Saving filtered csv poses!\n",
      "Filtering with median model \\\\dk-server.dk.ucsd.edu\\afassihizakeri\\Leftsidemovies\\ar41motor\\2022_07_28\\73.avi\n",
      "Saving filtered csv poses!\n",
      "Filtering with median model \\\\dk-server.dk.ucsd.edu\\afassihizakeri\\Leftsidemovies\\ar41motor\\2022_07_28\\74.avi\n",
      "Saving filtered csv poses!\n",
      "Filtering with median model \\\\dk-server.dk.ucsd.edu\\afassihizakeri\\Leftsidemovies\\ar41motor\\2022_07_28\\166.avi\n",
      "Saving filtered csv poses!\n",
      "Filtering with median model \\\\dk-server.dk.ucsd.edu\\afassihizakeri\\Leftsidemovies\\ar41motor\\2022_07_28\\65.avi\n",
      "Saving filtered csv poses!\n",
      "Filtering with median model \\\\dk-server.dk.ucsd.edu\\afassihizakeri\\Leftsidemovies\\ar41motor\\2022_07_28\\260.avi\n",
      "Saving filtered csv poses!\n",
      "Filtering with median model \\\\dk-server.dk.ucsd.edu\\afassihizakeri\\Leftsidemovies\\ar41motor\\2022_07_28\\177.avi\n",
      "Saving filtered csv poses!\n",
      "Filtering with median model \\\\dk-server.dk.ucsd.edu\\afassihizakeri\\Leftsidemovies\\ar41motor\\2022_07_28\\19.avi\n",
      "Saving filtered csv poses!\n",
      "Filtering with median model \\\\dk-server.dk.ucsd.edu\\afassihizakeri\\Leftsidemovies\\ar41motor\\2022_07_28\\170.avi\n",
      "Saving filtered csv poses!\n",
      "Filtering with median model \\\\dk-server.dk.ucsd.edu\\afassihizakeri\\Leftsidemovies\\ar41motor\\2022_07_28\\62.avi\n",
      "Saving filtered csv poses!\n",
      "Filtering with median model \\\\dk-server.dk.ucsd.edu\\afassihizakeri\\Leftsidemovies\\ar41motor\\2022_07_28\\2.avi\n",
      "Saving filtered csv poses!\n",
      "Filtering with median model \\\\dk-server.dk.ucsd.edu\\afassihizakeri\\Leftsidemovies\\ar41motor\\2022_07_28\\10.avi\n",
      "Saving filtered csv poses!\n",
      "Filtering with median model \\\\dk-server.dk.ucsd.edu\\afassihizakeri\\Leftsidemovies\\ar41motor\\2022_07_28\\215.avi\n",
      "Saving filtered csv poses!\n",
      "Filtering with median model \\\\dk-server.dk.ucsd.edu\\afassihizakeri\\Leftsidemovies\\ar41motor\\2022_07_28\\102.avi\n",
      "Saving filtered csv poses!\n",
      "Filtering with median model \\\\dk-server.dk.ucsd.edu\\afassihizakeri\\Leftsidemovies\\ar41motor\\2022_07_28\\212.avi\n",
      "Saving filtered csv poses!\n",
      "Filtering with median model \\\\dk-server.dk.ucsd.edu\\afassihizakeri\\Leftsidemovies\\ar41motor\\2022_07_28\\105.avi\n",
      "Saving filtered csv poses!\n",
      "Filtering with median model \\\\dk-server.dk.ucsd.edu\\afassihizakeri\\Leftsidemovies\\ar41motor\\2022_07_28\\5.avi\n",
      "Saving filtered csv poses!\n",
      "Filtering with median model \\\\dk-server.dk.ucsd.edu\\afassihizakeri\\Leftsidemovies\\ar41motor\\2022_07_28\\179.avi\n",
      "Saving filtered csv poses!\n",
      "Filtering with median model \\\\dk-server.dk.ucsd.edu\\afassihizakeri\\Leftsidemovies\\ar41motor\\2022_07_28\\17.avi\n",
      "Saving filtered csv poses!\n",
      "Filtering with median model \\\\dk-server.dk.ucsd.edu\\afassihizakeri\\Leftsidemovies\\ar41motor\\2022_07_28\\130.avi\n",
      "Saving filtered csv poses!\n",
      "Filtering with median model \\\\dk-server.dk.ucsd.edu\\afassihizakeri\\Leftsidemovies\\ar41motor\\2022_07_28\\227.avi\n",
      "Saving filtered csv poses!\n",
      "Filtering with median model \\\\dk-server.dk.ucsd.edu\\afassihizakeri\\Leftsidemovies\\ar41motor\\2022_07_28\\22.avi\n",
      "Saving filtered csv poses!\n",
      "Filtering with median model \\\\dk-server.dk.ucsd.edu\\afassihizakeri\\Leftsidemovies\\ar41motor\\2022_07_28\\25.avi\n",
      "Saving filtered csv poses!\n",
      "Filtering with median model \\\\dk-server.dk.ucsd.edu\\afassihizakeri\\Leftsidemovies\\ar41motor\\2022_07_28\\59.avi\n",
      "Saving filtered csv poses!\n",
      "Filtering with median model \\\\dk-server.dk.ucsd.edu\\afassihizakeri\\Leftsidemovies\\ar41motor\\2022_07_28\\137.avi\n",
      "Saving filtered csv poses!\n",
      "Filtering with median model \\\\dk-server.dk.ucsd.edu\\afassihizakeri\\Leftsidemovies\\ar41motor\\2022_07_28\\220.avi\n",
      "Saving filtered csv poses!\n",
      "Filtering with median model \\\\dk-server.dk.ucsd.edu\\afassihizakeri\\Leftsidemovies\\ar41motor\\2022_07_28\\88.avi\n",
      "Saving filtered csv poses!\n",
      "Filtering with median model \\\\dk-server.dk.ucsd.edu\\afassihizakeri\\Leftsidemovies\\ar41motor\\2022_07_28\\145.avi\n",
      "Saving filtered csv poses!\n",
      "Filtering with median model \\\\dk-server.dk.ucsd.edu\\afassihizakeri\\Leftsidemovies\\ar41motor\\2022_07_28\\194.avi\n",
      "Saving filtered csv poses!\n",
      "Filtering with median model \\\\dk-server.dk.ucsd.edu\\afassihizakeri\\Leftsidemovies\\ar41motor\\2022_07_28\\252.avi\n",
      "Saving filtered csv poses!\n",
      "Filtering with median model \\\\dk-server.dk.ucsd.edu\\afassihizakeri\\Leftsidemovies\\ar41motor\\2022_07_28\\57.avi\n",
      "Saving filtered csv poses!\n",
      "Filtering with median model \\\\dk-server.dk.ucsd.edu\\afassihizakeri\\Leftsidemovies\\ar41motor\\2022_07_28\\139.avi\n"
     ]
    },
    {
     "name": "stdout",
     "output_type": "stream",
     "text": [
      "Saving filtered csv poses!\n",
      "Filtering with median model \\\\dk-server.dk.ucsd.edu\\afassihizakeri\\Leftsidemovies\\ar41motor\\2022_07_28\\86.avi\n",
      "Saving filtered csv poses!\n",
      "Filtering with median model \\\\dk-server.dk.ucsd.edu\\afassihizakeri\\Leftsidemovies\\ar41motor\\2022_07_28\\50.avi\n",
      "Saving filtered csv poses!\n",
      "Filtering with median model \\\\dk-server.dk.ucsd.edu\\afassihizakeri\\Leftsidemovies\\ar41motor\\2022_07_28\\229.avi\n",
      "Saving filtered csv poses!\n",
      "Filtering with median model \\\\dk-server.dk.ucsd.edu\\afassihizakeri\\Leftsidemovies\\ar41motor\\2022_07_28\\81.avi\n",
      "Saving filtered csv poses!\n",
      "Filtering with median model \\\\dk-server.dk.ucsd.edu\\afassihizakeri\\Leftsidemovies\\ar41motor\\2022_07_28\\142.avi\n",
      "Saving filtered csv poses!\n",
      "Filtering with median model \\\\dk-server.dk.ucsd.edu\\afassihizakeri\\Leftsidemovies\\ar41motor\\2022_07_28\\193.avi\n",
      "Saving filtered csv poses!\n",
      "Filtering with median model \\\\dk-server.dk.ucsd.edu\\afassihizakeri\\Leftsidemovies\\ar41motor\\2022_07_28\\255.avi\n",
      "Saving filtered csv poses!\n",
      "Filtering with median model \\\\dk-server.dk.ucsd.edu\\afassihizakeri\\Leftsidemovies\\ar41motor\\2022_07_28\\75.avi\n",
      "Saving filtered csv poses!\n",
      "Filtering with median model \\\\dk-server.dk.ucsd.edu\\afassihizakeri\\Leftsidemovies\\ar41motor\\2022_07_28\\167.avi\n",
      "Saving filtered csv poses!\n",
      "Filtering with median model \\\\dk-server.dk.ucsd.edu\\afassihizakeri\\Leftsidemovies\\ar41motor\\2022_07_28\\160.avi\n",
      "Saving filtered csv poses!\n",
      "Filtering with median model \\\\dk-server.dk.ucsd.edu\\afassihizakeri\\Leftsidemovies\\ar41motor\\2022_07_28\\72.avi\n",
      "Saving filtered csv poses!\n",
      "Filtering with median model \\\\dk-server.dk.ucsd.edu\\afassihizakeri\\Leftsidemovies\\ar41motor\\2022_07_28\\112.avi\n",
      "Saving filtered csv poses!\n",
      "Filtering with median model \\\\dk-server.dk.ucsd.edu\\afassihizakeri\\Leftsidemovies\\ar41motor\\2022_07_28\\205.avi\n",
      "Saving filtered csv poses!\n",
      "Filtering with median model \\\\dk-server.dk.ucsd.edu\\afassihizakeri\\Leftsidemovies\\ar41motor\\2022_07_28\\115.avi\n",
      "Saving filtered csv poses!\n",
      "Filtering with median model \\\\dk-server.dk.ucsd.edu\\afassihizakeri\\Leftsidemovies\\ar41motor\\2022_07_28\\202.avi\n",
      "Saving filtered csv poses!\n",
      "Filtering with median model \\\\dk-server.dk.ucsd.edu\\afassihizakeri\\Leftsidemovies\\ar41motor\\2022_07_28\\169.avi\n",
      "Saving filtered csv poses!\n",
      "Filtering with median model \\\\dk-server.dk.ucsd.edu\\afassihizakeri\\Leftsidemovies\\ar41motor\\2022_07_28\\237.avi\n",
      "Saving filtered csv poses!\n",
      "Filtering with median model \\\\dk-server.dk.ucsd.edu\\afassihizakeri\\Leftsidemovies\\ar41motor\\2022_07_28\\120.avi\n",
      "Saving filtered csv poses!\n",
      "Filtering with median model \\\\dk-server.dk.ucsd.edu\\afassihizakeri\\Leftsidemovies\\ar41motor\\2022_07_28\\32.avi\n",
      "Saving filtered csv poses!\n",
      "Filtering with median model \\\\dk-server.dk.ucsd.edu\\afassihizakeri\\Leftsidemovies\\ar41motor\\2022_07_28\\35.avi\n",
      "Saving filtered csv poses!\n",
      "Filtering with median model \\\\dk-server.dk.ucsd.edu\\afassihizakeri\\Leftsidemovies\\ar41motor\\2022_07_28\\230.avi\n",
      "Saving filtered csv poses!\n",
      "Filtering with median model \\\\dk-server.dk.ucsd.edu\\afassihizakeri\\Leftsidemovies\\ar41motor\\2022_07_28\\98.avi\n",
      "Saving filtered csv poses!\n",
      "Filtering with median model \\\\dk-server.dk.ucsd.edu\\afassihizakeri\\Leftsidemovies\\ar41motor\\2022_07_28\\49.avi\n",
      "Saving filtered csv poses!\n",
      "Filtering with median model \\\\dk-server.dk.ucsd.edu\\afassihizakeri\\Leftsidemovies\\ar41motor\\2022_07_28\\127.avi\n",
      "Saving filtered csv poses!\n",
      "Filtering with median model \\\\dk-server.dk.ucsd.edu\\afassihizakeri\\Leftsidemovies\\ar41motor\\2022_07_28\\184.avi\n",
      "Saving filtered csv poses!\n",
      "Filtering with median model \\\\dk-server.dk.ucsd.edu\\afassihizakeri\\Leftsidemovies\\ar41motor\\2022_07_28\\242.avi\n",
      "Saving filtered csv poses!\n",
      "Filtering with median model \\\\dk-server.dk.ucsd.edu\\afassihizakeri\\Leftsidemovies\\ar41motor\\2022_07_28\\155.avi\n",
      "Saving filtered csv poses!\n",
      "Filtering with median model \\\\dk-server.dk.ucsd.edu\\afassihizakeri\\Leftsidemovies\\ar41motor\\2022_07_28\\96.avi\n",
      "Saving filtered csv poses!\n",
      "Filtering with median model \\\\dk-server.dk.ucsd.edu\\afassihizakeri\\Leftsidemovies\\ar41motor\\2022_07_28\\47.avi\n",
      "Saving filtered csv poses!\n",
      "Filtering with median model \\\\dk-server.dk.ucsd.edu\\afassihizakeri\\Leftsidemovies\\ar41motor\\2022_07_28\\129.avi\n",
      "Saving filtered csv poses!\n",
      "Filtering with median model \\\\dk-server.dk.ucsd.edu\\afassihizakeri\\Leftsidemovies\\ar41motor\\2022_07_28\\239.avi\n",
      "Saving filtered csv poses!\n",
      "Filtering with median model \\\\dk-server.dk.ucsd.edu\\afassihizakeri\\Leftsidemovies\\ar41motor\\2022_07_28\\91.avi\n",
      "Saving filtered csv poses!\n",
      "Filtering with median model \\\\dk-server.dk.ucsd.edu\\afassihizakeri\\Leftsidemovies\\ar41motor\\2022_07_28\\40.avi\n",
      "Saving filtered csv poses!\n",
      "Filtering with median model \\\\dk-server.dk.ucsd.edu\\afassihizakeri\\Leftsidemovies\\ar41motor\\2022_07_28\\183.avi\n",
      "Saving filtered csv poses!\n",
      "Filtering with median model \\\\dk-server.dk.ucsd.edu\\afassihizakeri\\Leftsidemovies\\ar41motor\\2022_07_28\\245.avi\n",
      "Saving filtered csv poses!\n",
      "Filtering with median model \\\\dk-server.dk.ucsd.edu\\afassihizakeri\\Leftsidemovies\\ar41motor\\2022_07_28\\152.avi\n",
      "Saving filtered csv poses!\n",
      "Filtering with median model \\\\dk-server.dk.ucsd.edu\\afassihizakeri\\Leftsidemovies\\ar41motor\\2022_07_28\\51.avi\n",
      "Saving filtered csv poses!\n",
      "Filtering with median model \\\\dk-server.dk.ucsd.edu\\afassihizakeri\\Leftsidemovies\\ar41motor\\2022_07_28\\228.avi\n",
      "Saving filtered csv poses!\n",
      "Filtering with median model \\\\dk-server.dk.ucsd.edu\\afassihizakeri\\Leftsidemovies\\ar41motor\\2022_07_28\\80.avi\n",
      "Saving filtered csv poses!\n",
      "Filtering with median model \\\\dk-server.dk.ucsd.edu\\afassihizakeri\\Leftsidemovies\\ar41motor\\2022_07_28\\143.avi\n",
      "Saving filtered csv poses!\n",
      "Filtering with median model \\\\dk-server.dk.ucsd.edu\\afassihizakeri\\Leftsidemovies\\ar41motor\\2022_07_28\\192.avi\n",
      "Saving filtered csv poses!\n",
      "Filtering with median model \\\\dk-server.dk.ucsd.edu\\afassihizakeri\\Leftsidemovies\\ar41motor\\2022_07_28\\254.avi\n",
      "Saving filtered csv poses!\n",
      "Filtering with median model \\\\dk-server.dk.ucsd.edu\\afassihizakeri\\Leftsidemovies\\ar41motor\\2022_07_28\\144.avi\n",
      "Saving filtered csv poses!\n",
      "Filtering with median model \\\\dk-server.dk.ucsd.edu\\afassihizakeri\\Leftsidemovies\\ar41motor\\2022_07_28\\195.avi\n",
      "Saving filtered csv poses!\n",
      "Filtering with median model \\\\dk-server.dk.ucsd.edu\\afassihizakeri\\Leftsidemovies\\ar41motor\\2022_07_28\\253.avi\n",
      "Saving filtered csv poses!\n",
      "Filtering with median model \\\\dk-server.dk.ucsd.edu\\afassihizakeri\\Leftsidemovies\\ar41motor\\2022_07_28\\56.avi\n",
      "Saving filtered csv poses!\n",
      "Filtering with median model \\\\dk-server.dk.ucsd.edu\\afassihizakeri\\Leftsidemovies\\ar41motor\\2022_07_28\\138.avi\n",
      "Saving filtered csv poses!\n",
      "Filtering with median model \\\\dk-server.dk.ucsd.edu\\afassihizakeri\\Leftsidemovies\\ar41motor\\2022_07_28\\87.avi\n",
      "Saving filtered csv poses!\n",
      "Filtering with median model \\\\dk-server.dk.ucsd.edu\\afassihizakeri\\Leftsidemovies\\ar41motor\\2022_07_28\\24.avi\n",
      "Saving filtered csv poses!\n",
      "Filtering with median model \\\\dk-server.dk.ucsd.edu\\afassihizakeri\\Leftsidemovies\\ar41motor\\2022_07_28\\58.avi\n",
      "Saving filtered csv poses!\n",
      "Filtering with median model \\\\dk-server.dk.ucsd.edu\\afassihizakeri\\Leftsidemovies\\ar41motor\\2022_07_28\\136.avi\n",
      "Saving filtered csv poses!\n",
      "Filtering with median model \\\\dk-server.dk.ucsd.edu\\afassihizakeri\\Leftsidemovies\\ar41motor\\2022_07_28\\221.avi\n",
      "Saving filtered csv poses!\n",
      "Filtering with median model \\\\dk-server.dk.ucsd.edu\\afassihizakeri\\Leftsidemovies\\ar41motor\\2022_07_28\\89.avi\n",
      "Saving filtered csv poses!\n",
      "Filtering with median model \\\\dk-server.dk.ucsd.edu\\afassihizakeri\\Leftsidemovies\\ar41motor\\2022_07_28\\131.avi\n",
      "Saving filtered csv poses!\n",
      "Filtering with median model \\\\dk-server.dk.ucsd.edu\\afassihizakeri\\Leftsidemovies\\ar41motor\\2022_07_28\\226.avi\n",
      "Saving filtered csv poses!\n",
      "Filtering with median model \\\\dk-server.dk.ucsd.edu\\afassihizakeri\\Leftsidemovies\\ar41motor\\2022_07_28\\23.avi\n",
      "Saving filtered csv poses!\n",
      "Filtering with median model \\\\dk-server.dk.ucsd.edu\\afassihizakeri\\Leftsidemovies\\ar41motor\\2022_07_28\\213.avi\n",
      "Saving filtered csv poses!\n",
      "Filtering with median model \\\\dk-server.dk.ucsd.edu\\afassihizakeri\\Leftsidemovies\\ar41motor\\2022_07_28\\104.avi\n",
      "Saving filtered csv poses!\n",
      "Filtering with median model \\\\dk-server.dk.ucsd.edu\\afassihizakeri\\Leftsidemovies\\ar41motor\\2022_07_28\\4.avi\n",
      "Saving filtered csv poses!\n",
      "Filtering with median model \\\\dk-server.dk.ucsd.edu\\afassihizakeri\\Leftsidemovies\\ar41motor\\2022_07_28\\178.avi\n"
     ]
    },
    {
     "name": "stdout",
     "output_type": "stream",
     "text": [
      "Saving filtered csv poses!\n",
      "Filtering with median model \\\\dk-server.dk.ucsd.edu\\afassihizakeri\\Leftsidemovies\\ar41motor\\2022_07_28\\16.avi\n",
      "Saving filtered csv poses!\n",
      "Filtering with median model \\\\dk-server.dk.ucsd.edu\\afassihizakeri\\Leftsidemovies\\ar41motor\\2022_07_28\\3.avi\n",
      "Saving filtered csv poses!\n",
      "Filtering with median model \\\\dk-server.dk.ucsd.edu\\afassihizakeri\\Leftsidemovies\\ar41motor\\2022_07_28\\11.avi\n",
      "Saving filtered csv poses!\n",
      "Filtering with median model \\\\dk-server.dk.ucsd.edu\\afassihizakeri\\Leftsidemovies\\ar41motor\\2022_07_28\\214.avi\n",
      "Saving filtered csv poses!\n",
      "Filtering with median model \\\\dk-server.dk.ucsd.edu\\afassihizakeri\\Leftsidemovies\\ar41motor\\2022_07_28\\103.avi\n",
      "Saving filtered csv poses!\n",
      "Filtering with median model \\\\dk-server.dk.ucsd.edu\\afassihizakeri\\Leftsidemovies\\ar41motor\\2022_07_28\\171.avi\n",
      "Saving filtered csv poses!\n",
      "Filtering with median model \\\\dk-server.dk.ucsd.edu\\afassihizakeri\\Leftsidemovies\\ar41motor\\2022_07_28\\63.avi\n",
      "Saving filtered csv poses!\n",
      "Filtering with median model \\\\dk-server.dk.ucsd.edu\\afassihizakeri\\Leftsidemovies\\ar41motor\\2022_07_28\\64.avi\n",
      "Saving filtered csv poses!\n",
      "Filtering with median model \\\\dk-server.dk.ucsd.edu\\afassihizakeri\\Leftsidemovies\\ar41motor\\2022_07_28\\176.avi\n",
      "Saving filtered csv poses!\n",
      "Filtering with median model \\\\dk-server.dk.ucsd.edu\\afassihizakeri\\Leftsidemovies\\ar41motor\\2022_07_28\\18.avi\n",
      "Saving filtered csv poses!\n",
      "Filtering with median model \\\\dk-server.dk.ucsd.edu\\afassihizakeri\\Leftsidemovies\\ar41motor\\2022_07_28\\147.avi\n",
      "Saving filtered csv poses!\n",
      "Filtering with median model \\\\dk-server.dk.ucsd.edu\\afassihizakeri\\Leftsidemovies\\ar41motor\\2022_07_28\\29.avi\n",
      "Saving filtered csv poses!\n",
      "Filtering with median model \\\\dk-server.dk.ucsd.edu\\afassihizakeri\\Leftsidemovies\\ar41motor\\2022_07_28\\250.avi\n",
      "Saving filtered csv poses!\n",
      "Filtering with median model \\\\dk-server.dk.ucsd.edu\\afassihizakeri\\Leftsidemovies\\ar41motor\\2022_07_28\\196.avi\n",
      "Saving filtered csv poses!\n",
      "Filtering with median model \\\\dk-server.dk.ucsd.edu\\afassihizakeri\\Leftsidemovies\\ar41motor\\2022_07_28\\55.avi\n",
      "Saving filtered csv poses!\n",
      "Filtering with median model \\\\dk-server.dk.ucsd.edu\\afassihizakeri\\Leftsidemovies\\ar41motor\\2022_07_28\\84.avi\n",
      "Saving filtered csv poses!\n",
      "Filtering with median model \\\\dk-server.dk.ucsd.edu\\afassihizakeri\\Leftsidemovies\\ar41motor\\2022_07_28\\52.avi\n",
      "Saving filtered csv poses!\n",
      "Filtering with median model \\\\dk-server.dk.ucsd.edu\\afassihizakeri\\Leftsidemovies\\ar41motor\\2022_07_28\\83.avi\n",
      "Saving filtered csv poses!\n",
      "Filtering with median model \\\\dk-server.dk.ucsd.edu\\afassihizakeri\\Leftsidemovies\\ar41motor\\2022_07_28\\140.avi\n",
      "Saving filtered csv poses!\n",
      "Filtering with median model \\\\dk-server.dk.ucsd.edu\\afassihizakeri\\Leftsidemovies\\ar41motor\\2022_07_28\\257.avi\n",
      "Saving filtered csv poses!\n",
      "Filtering with median model \\\\dk-server.dk.ucsd.edu\\afassihizakeri\\Leftsidemovies\\ar41motor\\2022_07_28\\191.avi\n",
      "Saving filtered csv poses!\n",
      "Filtering with median model \\\\dk-server.dk.ucsd.edu\\afassihizakeri\\Leftsidemovies\\ar41motor\\2022_07_28\\132.avi\n",
      "Saving filtered csv poses!\n",
      "Filtering with median model \\\\dk-server.dk.ucsd.edu\\afassihizakeri\\Leftsidemovies\\ar41motor\\2022_07_28\\225.avi\n",
      "Saving filtered csv poses!\n",
      "Filtering with median model \\\\dk-server.dk.ucsd.edu\\afassihizakeri\\Leftsidemovies\\ar41motor\\2022_07_28\\20.avi\n",
      "Saving filtered csv poses!\n",
      "Filtering with median model \\\\dk-server.dk.ucsd.edu\\afassihizakeri\\Leftsidemovies\\ar41motor\\2022_07_28\\259.avi\n",
      "Saving filtered csv poses!\n",
      "Filtering with median model \\\\dk-server.dk.ucsd.edu\\afassihizakeri\\Leftsidemovies\\ar41motor\\2022_07_28\\149.avi\n",
      "Saving filtered csv poses!\n",
      "Filtering with median model \\\\dk-server.dk.ucsd.edu\\afassihizakeri\\Leftsidemovies\\ar41motor\\2022_07_28\\27.avi\n",
      "Saving filtered csv poses!\n",
      "Filtering with median model \\\\dk-server.dk.ucsd.edu\\afassihizakeri\\Leftsidemovies\\ar41motor\\2022_07_28\\198.avi\n",
      "Saving filtered csv poses!\n",
      "Filtering with median model \\\\dk-server.dk.ucsd.edu\\afassihizakeri\\Leftsidemovies\\ar41motor\\2022_07_28\\135.avi\n",
      "Saving filtered csv poses!\n",
      "Filtering with median model \\\\dk-server.dk.ucsd.edu\\afassihizakeri\\Leftsidemovies\\ar41motor\\2022_07_28\\222.avi\n",
      "Saving filtered csv poses!\n",
      "Filtering with median model \\\\dk-server.dk.ucsd.edu\\afassihizakeri\\Leftsidemovies\\ar41motor\\2022_07_28\\0.avi\n",
      "Saving filtered csv poses!\n",
      "Filtering with median model \\\\dk-server.dk.ucsd.edu\\afassihizakeri\\Leftsidemovies\\ar41motor\\2022_07_28\\12.avi\n",
      "Saving filtered csv poses!\n",
      "Filtering with median model \\\\dk-server.dk.ucsd.edu\\afassihizakeri\\Leftsidemovies\\ar41motor\\2022_07_28\\217.avi\n",
      "Saving filtered csv poses!\n",
      "Filtering with median model \\\\dk-server.dk.ucsd.edu\\afassihizakeri\\Leftsidemovies\\ar41motor\\2022_07_28\\100.avi\n",
      "Saving filtered csv poses!\n",
      "Filtering with median model \\\\dk-server.dk.ucsd.edu\\afassihizakeri\\Leftsidemovies\\ar41motor\\2022_07_28\\210.avi\n",
      "Saving filtered csv poses!\n",
      "Filtering with median model \\\\dk-server.dk.ucsd.edu\\afassihizakeri\\Leftsidemovies\\ar41motor\\2022_07_28\\69.avi\n",
      "Saving filtered csv poses!\n",
      "Filtering with median model \\\\dk-server.dk.ucsd.edu\\afassihizakeri\\Leftsidemovies\\ar41motor\\2022_07_28\\107.avi\n",
      "Saving filtered csv poses!\n",
      "Filtering with median model \\\\dk-server.dk.ucsd.edu\\afassihizakeri\\Leftsidemovies\\ar41motor\\2022_07_28\\7.avi\n",
      "Saving filtered csv poses!\n",
      "Filtering with median model \\\\dk-server.dk.ucsd.edu\\afassihizakeri\\Leftsidemovies\\ar41motor\\2022_07_28\\15.avi\n",
      "Saving filtered csv poses!\n",
      "Filtering with median model \\\\dk-server.dk.ucsd.edu\\afassihizakeri\\Leftsidemovies\\ar41motor\\2022_07_28\\67.avi\n",
      "Saving filtered csv poses!\n",
      "Filtering with median model \\\\dk-server.dk.ucsd.edu\\afassihizakeri\\Leftsidemovies\\ar41motor\\2022_07_28\\109.avi\n",
      "Saving filtered csv poses!\n",
      "Filtering with median model \\\\dk-server.dk.ucsd.edu\\afassihizakeri\\Leftsidemovies\\ar41motor\\2022_07_28\\9.avi\n",
      "Saving filtered csv poses!\n",
      "Filtering with median model \\\\dk-server.dk.ucsd.edu\\afassihizakeri\\Leftsidemovies\\ar41motor\\2022_07_28\\175.avi\n",
      "Saving filtered csv poses!\n",
      "Filtering with median model \\\\dk-server.dk.ucsd.edu\\afassihizakeri\\Leftsidemovies\\ar41motor\\2022_07_28\\172.avi\n",
      "Saving filtered csv poses!\n",
      "Filtering with median model \\\\dk-server.dk.ucsd.edu\\afassihizakeri\\Leftsidemovies\\ar41motor\\2022_07_28\\219.avi\n",
      "Saving filtered csv poses!\n",
      "Filtering with median model \\\\dk-server.dk.ucsd.edu\\afassihizakeri\\Leftsidemovies\\ar41motor\\2022_07_28\\60.avi\n",
      "Saving filtered csv poses!\n",
      "Filtering with median model \\\\dk-server.dk.ucsd.edu\\afassihizakeri\\Leftsidemovies\\ar41motor\\2022_07_28\\163.avi\n",
      "Saving filtered csv poses!\n",
      "Filtering with median model \\\\dk-server.dk.ucsd.edu\\afassihizakeri\\Leftsidemovies\\ar41motor\\2022_07_28\\71.avi\n",
      "Saving filtered csv poses!\n",
      "Filtering with median model \\\\dk-server.dk.ucsd.edu\\afassihizakeri\\Leftsidemovies\\ar41motor\\2022_07_28\\208.avi\n",
      "Saving filtered csv poses!\n",
      "Filtering with median model \\\\dk-server.dk.ucsd.edu\\afassihizakeri\\Leftsidemovies\\ar41motor\\2022_07_28\\76.avi\n",
      "Saving filtered csv poses!\n",
      "Filtering with median model \\\\dk-server.dk.ucsd.edu\\afassihizakeri\\Leftsidemovies\\ar41motor\\2022_07_28\\118.avi\n",
      "Saving filtered csv poses!\n",
      "Filtering with median model \\\\dk-server.dk.ucsd.edu\\afassihizakeri\\Leftsidemovies\\ar41motor\\2022_07_28\\164.avi\n",
      "Saving filtered csv poses!\n",
      "Filtering with median model \\\\dk-server.dk.ucsd.edu\\afassihizakeri\\Leftsidemovies\\ar41motor\\2022_07_28\\78.avi\n",
      "Saving filtered csv poses!\n",
      "Filtering with median model \\\\dk-server.dk.ucsd.edu\\afassihizakeri\\Leftsidemovies\\ar41motor\\2022_07_28\\116.avi\n",
      "Saving filtered csv poses!\n",
      "Filtering with median model \\\\dk-server.dk.ucsd.edu\\afassihizakeri\\Leftsidemovies\\ar41motor\\2022_07_28\\201.avi\n",
      "Saving filtered csv poses!\n",
      "Filtering with median model \\\\dk-server.dk.ucsd.edu\\afassihizakeri\\Leftsidemovies\\ar41motor\\2022_07_28\\111.avi\n",
      "Saving filtered csv poses!\n",
      "Filtering with median model \\\\dk-server.dk.ucsd.edu\\afassihizakeri\\Leftsidemovies\\ar41motor\\2022_07_28\\206.avi\n",
      "Saving filtered csv poses!\n",
      "Filtering with median model \\\\dk-server.dk.ucsd.edu\\afassihizakeri\\Leftsidemovies\\ar41motor\\2022_07_28\\189.avi\n",
      "Saving filtered csv poses!\n",
      "Filtering with median model \\\\dk-server.dk.ucsd.edu\\afassihizakeri\\Leftsidemovies\\ar41motor\\2022_07_28\\158.avi\n",
      "Saving filtered csv poses!\n",
      "Filtering with median model \\\\dk-server.dk.ucsd.edu\\afassihizakeri\\Leftsidemovies\\ar41motor\\2022_07_28\\36.avi\n"
     ]
    },
    {
     "name": "stdout",
     "output_type": "stream",
     "text": [
      "Saving filtered csv poses!\n",
      "Filtering with median model \\\\dk-server.dk.ucsd.edu\\afassihizakeri\\Leftsidemovies\\ar41motor\\2022_07_28\\233.avi\n",
      "Saving filtered csv poses!\n",
      "Filtering with median model \\\\dk-server.dk.ucsd.edu\\afassihizakeri\\Leftsidemovies\\ar41motor\\2022_07_28\\124.avi\n",
      "Saving filtered csv poses!\n",
      "Filtering with median model \\\\dk-server.dk.ucsd.edu\\afassihizakeri\\Leftsidemovies\\ar41motor\\2022_07_28\\234.avi\n",
      "Saving filtered csv poses!\n",
      "Filtering with median model \\\\dk-server.dk.ucsd.edu\\afassihizakeri\\Leftsidemovies\\ar41motor\\2022_07_28\\123.avi\n",
      "Saving filtered csv poses!\n",
      "Filtering with median model \\\\dk-server.dk.ucsd.edu\\afassihizakeri\\Leftsidemovies\\ar41motor\\2022_07_28\\248.avi\n",
      "Saving filtered csv poses!\n",
      "Filtering with median model \\\\dk-server.dk.ucsd.edu\\afassihizakeri\\Leftsidemovies\\ar41motor\\2022_07_28\\31.avi\n",
      "Saving filtered csv poses!\n",
      "Filtering with median model \\\\dk-server.dk.ucsd.edu\\afassihizakeri\\Leftsidemovies\\ar41motor\\2022_07_28\\92.avi\n",
      "Saving filtered csv poses!\n",
      "Filtering with median model \\\\dk-server.dk.ucsd.edu\\afassihizakeri\\Leftsidemovies\\ar41motor\\2022_07_28\\43.avi\n",
      "Saving filtered csv poses!\n",
      "Filtering with median model \\\\dk-server.dk.ucsd.edu\\afassihizakeri\\Leftsidemovies\\ar41motor\\2022_07_28\\246.avi\n",
      "Saving filtered csv poses!\n",
      "Filtering with median model \\\\dk-server.dk.ucsd.edu\\afassihizakeri\\Leftsidemovies\\ar41motor\\2022_07_28\\180.avi\n",
      "Saving filtered csv poses!\n",
      "Filtering with median model \\\\dk-server.dk.ucsd.edu\\afassihizakeri\\Leftsidemovies\\ar41motor\\2022_07_28\\151.avi\n",
      "Saving filtered csv poses!\n",
      "Filtering with median model \\\\dk-server.dk.ucsd.edu\\afassihizakeri\\Leftsidemovies\\ar41motor\\2022_07_28\\241.avi\n",
      "Saving filtered csv poses!\n",
      "Filtering with median model \\\\dk-server.dk.ucsd.edu\\afassihizakeri\\Leftsidemovies\\ar41motor\\2022_07_28\\187.avi\n",
      "Saving filtered csv poses!\n",
      "Filtering with median model \\\\dk-server.dk.ucsd.edu\\afassihizakeri\\Leftsidemovies\\ar41motor\\2022_07_28\\156.avi\n",
      "Saving filtered csv poses!\n",
      "Filtering with median model \\\\dk-server.dk.ucsd.edu\\afassihizakeri\\Leftsidemovies\\ar41motor\\2022_07_28\\38.avi\n",
      "Saving filtered csv poses!\n",
      "Filtering with median model \\\\dk-server.dk.ucsd.edu\\afassihizakeri\\Leftsidemovies\\ar41motor\\2022_07_28\\95.avi\n",
      "Saving filtered csv poses!\n",
      "Filtering with median model \\\\dk-server.dk.ucsd.edu\\afassihizakeri\\Leftsidemovies\\ar41motor\\2022_07_28\\44.avi\n",
      "Saving filtered csv poses!\n",
      "Filtering with median model \\\\dk-server.dk.ucsd.edu\\afassihizakeri\\Leftsidemovies\\ar41motor\\2022_07_28\\173.avi\n",
      "Saving filtered csv poses!\n",
      "Filtering with median model \\\\dk-server.dk.ucsd.edu\\afassihizakeri\\Leftsidemovies\\ar41motor\\2022_07_28\\218.avi\n",
      "Saving filtered csv poses!\n",
      "Filtering with median model \\\\dk-server.dk.ucsd.edu\\afassihizakeri\\Leftsidemovies\\ar41motor\\2022_07_28\\61.avi\n",
      "Saving filtered csv poses!\n",
      "Filtering with median model \\\\dk-server.dk.ucsd.edu\\afassihizakeri\\Leftsidemovies\\ar41motor\\2022_07_28\\66.avi\n",
      "Saving filtered csv poses!\n",
      "Filtering with median model \\\\dk-server.dk.ucsd.edu\\afassihizakeri\\Leftsidemovies\\ar41motor\\2022_07_28\\108.avi\n",
      "Saving filtered csv poses!\n",
      "Filtering with median model \\\\dk-server.dk.ucsd.edu\\afassihizakeri\\Leftsidemovies\\ar41motor\\2022_07_28\\8.avi\n",
      "Saving filtered csv poses!\n",
      "Filtering with median model \\\\dk-server.dk.ucsd.edu\\afassihizakeri\\Leftsidemovies\\ar41motor\\2022_07_28\\174.avi\n",
      "Saving filtered csv poses!\n",
      "Filtering with median model \\\\dk-server.dk.ucsd.edu\\afassihizakeri\\Leftsidemovies\\ar41motor\\2022_07_28\\211.avi\n",
      "Saving filtered csv poses!\n",
      "Filtering with median model \\\\dk-server.dk.ucsd.edu\\afassihizakeri\\Leftsidemovies\\ar41motor\\2022_07_28\\68.avi\n",
      "Saving filtered csv poses!\n",
      "Filtering with median model \\\\dk-server.dk.ucsd.edu\\afassihizakeri\\Leftsidemovies\\ar41motor\\2022_07_28\\106.avi\n",
      "Saving filtered csv poses!\n",
      "Filtering with median model \\\\dk-server.dk.ucsd.edu\\afassihizakeri\\Leftsidemovies\\ar41motor\\2022_07_28\\6.avi\n",
      "Saving filtered csv poses!\n",
      "Filtering with median model \\\\dk-server.dk.ucsd.edu\\afassihizakeri\\Leftsidemovies\\ar41motor\\2022_07_28\\14.avi\n",
      "Saving filtered csv poses!\n",
      "Filtering with median model \\\\dk-server.dk.ucsd.edu\\afassihizakeri\\Leftsidemovies\\ar41motor\\2022_07_28\\1.avi\n",
      "Saving filtered csv poses!\n",
      "Filtering with median model \\\\dk-server.dk.ucsd.edu\\afassihizakeri\\Leftsidemovies\\ar41motor\\2022_07_28\\216.avi\n",
      "Saving filtered csv poses!\n",
      "Filtering with median model \\\\dk-server.dk.ucsd.edu\\afassihizakeri\\Leftsidemovies\\ar41motor\\2022_07_28\\101.avi\n",
      "Saving filtered csv poses!\n",
      "Filtering with median model \\\\dk-server.dk.ucsd.edu\\afassihizakeri\\Leftsidemovies\\ar41motor\\2022_07_28\\148.avi\n",
      "Saving filtered csv poses!\n",
      "Filtering with median model \\\\dk-server.dk.ucsd.edu\\afassihizakeri\\Leftsidemovies\\ar41motor\\2022_07_28\\26.avi\n",
      "Saving filtered csv poses!\n",
      "Filtering with median model \\\\dk-server.dk.ucsd.edu\\afassihizakeri\\Leftsidemovies\\ar41motor\\2022_07_28\\199.avi\n",
      "Saving filtered csv poses!\n",
      "Filtering with median model \\\\dk-server.dk.ucsd.edu\\afassihizakeri\\Leftsidemovies\\ar41motor\\2022_07_28\\134.avi\n",
      "Saving filtered csv poses!\n",
      "Filtering with median model \\\\dk-server.dk.ucsd.edu\\afassihizakeri\\Leftsidemovies\\ar41motor\\2022_07_28\\223.avi\n",
      "Saving filtered csv poses!\n",
      "Filtering with median model \\\\dk-server.dk.ucsd.edu\\afassihizakeri\\Leftsidemovies\\ar41motor\\2022_07_28\\133.avi\n",
      "Saving filtered csv poses!\n",
      "Filtering with median model \\\\dk-server.dk.ucsd.edu\\afassihizakeri\\Leftsidemovies\\ar41motor\\2022_07_28\\224.avi\n",
      "Saving filtered csv poses!\n",
      "Filtering with median model \\\\dk-server.dk.ucsd.edu\\afassihizakeri\\Leftsidemovies\\ar41motor\\2022_07_28\\21.avi\n",
      "Saving filtered csv poses!\n",
      "Filtering with median model \\\\dk-server.dk.ucsd.edu\\afassihizakeri\\Leftsidemovies\\ar41motor\\2022_07_28\\258.avi\n",
      "Saving filtered csv poses!\n",
      "Filtering with median model \\\\dk-server.dk.ucsd.edu\\afassihizakeri\\Leftsidemovies\\ar41motor\\2022_07_28\\53.avi\n",
      "Saving filtered csv poses!\n",
      "Filtering with median model \\\\dk-server.dk.ucsd.edu\\afassihizakeri\\Leftsidemovies\\ar41motor\\2022_07_28\\82.avi\n",
      "Saving filtered csv poses!\n",
      "Filtering with median model \\\\dk-server.dk.ucsd.edu\\afassihizakeri\\Leftsidemovies\\ar41motor\\2022_07_28\\141.avi\n",
      "Saving filtered csv poses!\n",
      "Filtering with median model \\\\dk-server.dk.ucsd.edu\\afassihizakeri\\Leftsidemovies\\ar41motor\\2022_07_28\\256.avi\n",
      "Saving filtered csv poses!\n",
      "Filtering with median model \\\\dk-server.dk.ucsd.edu\\afassihizakeri\\Leftsidemovies\\ar41motor\\2022_07_28\\190.avi\n",
      "Saving filtered csv poses!\n",
      "Filtering with median model \\\\dk-server.dk.ucsd.edu\\afassihizakeri\\Leftsidemovies\\ar41motor\\2022_07_28\\146.avi\n",
      "Saving filtered csv poses!\n",
      "Filtering with median model \\\\dk-server.dk.ucsd.edu\\afassihizakeri\\Leftsidemovies\\ar41motor\\2022_07_28\\28.avi\n",
      "Saving filtered csv poses!\n",
      "Filtering with median model \\\\dk-server.dk.ucsd.edu\\afassihizakeri\\Leftsidemovies\\ar41motor\\2022_07_28\\251.avi\n",
      "Saving filtered csv poses!\n",
      "Filtering with median model \\\\dk-server.dk.ucsd.edu\\afassihizakeri\\Leftsidemovies\\ar41motor\\2022_07_28\\197.avi\n",
      "Saving filtered csv poses!\n",
      "Filtering with median model \\\\dk-server.dk.ucsd.edu\\afassihizakeri\\Leftsidemovies\\ar41motor\\2022_07_28\\54.avi\n",
      "Saving filtered csv poses!\n",
      "Filtering with median model \\\\dk-server.dk.ucsd.edu\\afassihizakeri\\Leftsidemovies\\ar41motor\\2022_07_28\\85.avi\n",
      "Saving filtered csv poses!\n",
      "Filtering with median model \\\\dk-server.dk.ucsd.edu\\afassihizakeri\\Leftsidemovies\\ar41motor\\2022_07_28\\240.avi\n",
      "Saving filtered csv poses!\n",
      "Filtering with median model \\\\dk-server.dk.ucsd.edu\\afassihizakeri\\Leftsidemovies\\ar41motor\\2022_07_28\\186.avi\n",
      "Saving filtered csv poses!\n",
      "Filtering with median model \\\\dk-server.dk.ucsd.edu\\afassihizakeri\\Leftsidemovies\\ar41motor\\2022_07_28\\157.avi\n",
      "Saving filtered csv poses!\n",
      "Filtering with median model \\\\dk-server.dk.ucsd.edu\\afassihizakeri\\Leftsidemovies\\ar41motor\\2022_07_28\\39.avi\n",
      "Saving filtered csv poses!\n",
      "Filtering with median model \\\\dk-server.dk.ucsd.edu\\afassihizakeri\\Leftsidemovies\\ar41motor\\2022_07_28\\94.avi\n",
      "Saving filtered csv poses!\n",
      "Filtering with median model \\\\dk-server.dk.ucsd.edu\\afassihizakeri\\Leftsidemovies\\ar41motor\\2022_07_28\\45.avi\n",
      "Saving filtered csv poses!\n",
      "Filtering with median model \\\\dk-server.dk.ucsd.edu\\afassihizakeri\\Leftsidemovies\\ar41motor\\2022_07_28\\93.avi\n",
      "Saving filtered csv poses!\n",
      "Filtering with median model \\\\dk-server.dk.ucsd.edu\\afassihizakeri\\Leftsidemovies\\ar41motor\\2022_07_28\\42.avi\n"
     ]
    },
    {
     "name": "stdout",
     "output_type": "stream",
     "text": [
      "Saving filtered csv poses!\n",
      "Filtering with median model \\\\dk-server.dk.ucsd.edu\\afassihizakeri\\Leftsidemovies\\ar41motor\\2022_07_28\\247.avi\n",
      "Saving filtered csv poses!\n",
      "Filtering with median model \\\\dk-server.dk.ucsd.edu\\afassihizakeri\\Leftsidemovies\\ar41motor\\2022_07_28\\181.avi\n",
      "Saving filtered csv poses!\n",
      "Filtering with median model \\\\dk-server.dk.ucsd.edu\\afassihizakeri\\Leftsidemovies\\ar41motor\\2022_07_28\\150.avi\n",
      "Saving filtered csv poses!\n",
      "Filtering with median model \\\\dk-server.dk.ucsd.edu\\afassihizakeri\\Leftsidemovies\\ar41motor\\2022_07_28\\235.avi\n",
      "Saving filtered csv poses!\n",
      "Filtering with median model \\\\dk-server.dk.ucsd.edu\\afassihizakeri\\Leftsidemovies\\ar41motor\\2022_07_28\\122.avi\n",
      "Saving filtered csv poses!\n",
      "Filtering with median model \\\\dk-server.dk.ucsd.edu\\afassihizakeri\\Leftsidemovies\\ar41motor\\2022_07_28\\249.avi\n",
      "Saving filtered csv poses!\n",
      "Filtering with median model \\\\dk-server.dk.ucsd.edu\\afassihizakeri\\Leftsidemovies\\ar41motor\\2022_07_28\\30.avi\n",
      "Saving filtered csv poses!\n",
      "Filtering with median model \\\\dk-server.dk.ucsd.edu\\afassihizakeri\\Leftsidemovies\\ar41motor\\2022_07_28\\188.avi\n",
      "Saving filtered csv poses!\n",
      "Filtering with median model \\\\dk-server.dk.ucsd.edu\\afassihizakeri\\Leftsidemovies\\ar41motor\\2022_07_28\\159.avi\n",
      "Saving filtered csv poses!\n",
      "Filtering with median model \\\\dk-server.dk.ucsd.edu\\afassihizakeri\\Leftsidemovies\\ar41motor\\2022_07_28\\37.avi\n",
      "Saving filtered csv poses!\n",
      "Filtering with median model \\\\dk-server.dk.ucsd.edu\\afassihizakeri\\Leftsidemovies\\ar41motor\\2022_07_28\\232.avi\n",
      "Saving filtered csv poses!\n",
      "Filtering with median model \\\\dk-server.dk.ucsd.edu\\afassihizakeri\\Leftsidemovies\\ar41motor\\2022_07_28\\125.avi\n",
      "Saving filtered csv poses!\n",
      "Filtering with median model \\\\dk-server.dk.ucsd.edu\\afassihizakeri\\Leftsidemovies\\ar41motor\\2022_07_28\\110.avi\n",
      "Saving filtered csv poses!\n",
      "Filtering with median model \\\\dk-server.dk.ucsd.edu\\afassihizakeri\\Leftsidemovies\\ar41motor\\2022_07_28\\207.avi\n",
      "Saving filtered csv poses!\n",
      "Filtering with median model \\\\dk-server.dk.ucsd.edu\\afassihizakeri\\Leftsidemovies\\ar41motor\\2022_07_28\\79.avi\n",
      "Saving filtered csv poses!\n",
      "Filtering with median model \\\\dk-server.dk.ucsd.edu\\afassihizakeri\\Leftsidemovies\\ar41motor\\2022_07_28\\117.avi\n",
      "Saving filtered csv poses!\n",
      "Filtering with median model \\\\dk-server.dk.ucsd.edu\\afassihizakeri\\Leftsidemovies\\ar41motor\\2022_07_28\\200.avi\n",
      "Saving filtered csv poses!\n",
      "Filtering with median model \\\\dk-server.dk.ucsd.edu\\afassihizakeri\\Leftsidemovies\\ar41motor\\2022_07_28\\77.avi\n",
      "Saving filtered csv poses!\n",
      "Filtering with median model \\\\dk-server.dk.ucsd.edu\\afassihizakeri\\Leftsidemovies\\ar41motor\\2022_07_28\\119.avi\n",
      "Saving filtered csv poses!\n",
      "Filtering with median model \\\\dk-server.dk.ucsd.edu\\afassihizakeri\\Leftsidemovies\\ar41motor\\2022_07_28\\165.avi\n",
      "Saving filtered csv poses!\n",
      "Filtering with median model \\\\dk-server.dk.ucsd.edu\\afassihizakeri\\Leftsidemovies\\ar41motor\\2022_07_28\\162.avi\n",
      "Saving filtered csv poses!\n",
      "Filtering with median model \\\\dk-server.dk.ucsd.edu\\afassihizakeri\\Leftsidemovies\\ar41motor\\2022_07_28\\70.avi\n",
      "Saving filtered csv poses!\n",
      "Filtering with median model \\\\dk-server.dk.ucsd.edu\\afassihizakeri\\Leftsidemovies\\ar41motor\\2022_07_28\\209.avi\n",
      "Saving filtered csv poses!\n"
     ]
    }
   ],
   "source": [
    "\n",
    "path_config_file ='C:\\\\Users\\\\dklab\\\\Dropbox\\\\Notebook\\\\DLC\\\\Sideview_Aug-Arash-2021-08-04\\\\config.yaml';\n",
    "path_config_file ='\\\\\\\\dk-server.dk.ucsd.edu\\\\afassihizakeri\\\\DLC\\\\SideviewLeft_Feb2022-Arash-2022-02-08\\\\config.yaml';\n",
    "\n",
    "import os\n",
    "text_files = [os.path.join(Mainfolder,f) for f in os.listdir(Mainfolder) if f.endswith('.avi') and not f.endswith('L.avi') and not f.endswith('R.avi') and not f.endswith('videopoints.avi') and not f.endswith('videopoints.avi')]\n",
    "print(text_files[1])\n",
    "temp1=deeplabcut.analyze_videos(path_config_file,text_files,shuffle=1, save_as_csv=True )\n",
    "temp=deeplabcut.filterpredictions(path_config_file,text_files)"
   ]
  },
  {
   "cell_type": "code",
   "execution_count": 2,
   "metadata": {},
   "outputs": [
    {
     "name": "stdout",
     "output_type": "stream",
     "text": [
      "\\\\dk-server.dk.ucsd.edu\\afassihizakeri\\Leftsidemovies\\ar41motor\\2022_07_28\\28DLC_resnet50_SideviewLeft_Feb2022Feb8shuffle1_271000_filtered.csv\n",
      "\\\\dk-server.dk.ucsd.edu\\afassihizakeri\\Leftsidemovies\\ar41motor\\2022_07_28\\182DLC_resnet50_SideviewLeft_Feb2022Feb8shuffle1_271000_filtered.csv\n",
      "\\\\dk-server.dk.ucsd.edu\\afassihizakeri\\Leftsidemovies\\ar41motor\\2022_07_28\\100DLC_resnet50_SideviewLeft_Feb2022Feb8shuffle1_271000_filtered.csv\n",
      "\\\\dk-server.dk.ucsd.edu\\afassihizakeri\\Leftsidemovies\\ar41motor\\2022_07_28\\167DLC_resnet50_SideviewLeft_Feb2022Feb8shuffle1_271000_filtered.csv\n",
      "\\\\dk-server.dk.ucsd.edu\\afassihizakeri\\Leftsidemovies\\ar41motor\\2022_07_28\\64DLC_resnet50_SideviewLeft_Feb2022Feb8shuffle1_271000_filtered.csv\n",
      "\\\\dk-server.dk.ucsd.edu\\afassihizakeri\\Leftsidemovies\\ar41motor\\2022_07_28\\210DLC_resnet50_SideviewLeft_Feb2022Feb8shuffle1_271000_filtered.csv\n",
      "\\\\dk-server.dk.ucsd.edu\\afassihizakeri\\Leftsidemovies\\ar41motor\\2022_07_28\\81DLC_resnet50_SideviewLeft_Feb2022Feb8shuffle1_271000_filtered.csv\n",
      "\\\\dk-server.dk.ucsd.edu\\afassihizakeri\\Leftsidemovies\\ar41motor\\2022_07_28\\171DLC_resnet50_SideviewLeft_Feb2022Feb8shuffle1_271000_filtered.csv\n",
      "\\\\dk-server.dk.ucsd.edu\\afassihizakeri\\Leftsidemovies\\ar41motor\\2022_07_28\\59DLC_resnet50_SideviewLeft_Feb2022Feb8shuffle1_271000_filtered.csv\n",
      "\\\\dk-server.dk.ucsd.edu\\afassihizakeri\\Leftsidemovies\\ar41motor\\2022_07_28\\116DLC_resnet50_SideviewLeft_Feb2022Feb8shuffle1_271000_filtered.csv\n",
      "\\\\dk-server.dk.ucsd.edu\\afassihizakeri\\Leftsidemovies\\ar41motor\\2022_07_28\\194DLC_resnet50_SideviewLeft_Feb2022Feb8shuffle1_271000_filtered.csv\n",
      "\\\\dk-server.dk.ucsd.edu\\afassihizakeri\\Leftsidemovies\\ar41motor\\2022_07_28\\15DLC_resnet50_SideviewLeft_Feb2022Feb8shuffle1_271000_filtered.csv\n",
      "\\\\dk-server.dk.ucsd.edu\\afassihizakeri\\Leftsidemovies\\ar41motor\\2022_07_28\\97DLC_resnet50_SideviewLeft_Feb2022Feb8shuffle1_271000_filtered.csv\n",
      "\\\\dk-server.dk.ucsd.edu\\afassihizakeri\\Leftsidemovies\\ar41motor\\2022_07_28\\206DLC_resnet50_SideviewLeft_Feb2022Feb8shuffle1_271000_filtered.csv\n",
      "\\\\dk-server.dk.ucsd.edu\\afassihizakeri\\Leftsidemovies\\ar41motor\\2022_07_28\\72DLC_resnet50_SideviewLeft_Feb2022Feb8shuffle1_271000_filtered.csv\n",
      "\\\\dk-server.dk.ucsd.edu\\afassihizakeri\\Leftsidemovies\\ar41motor\\2022_07_28\\185DLC_resnet50_SideviewLeft_Feb2022Feb8shuffle1_271000_filtered.csv\n",
      "\\\\dk-server.dk.ucsd.edu\\afassihizakeri\\Leftsidemovies\\ar41motor\\2022_07_28\\107DLC_resnet50_SideviewLeft_Feb2022Feb8shuffle1_271000_filtered.csv\n",
      "\\\\dk-server.dk.ucsd.edu\\afassihizakeri\\Leftsidemovies\\ar41motor\\2022_07_28\\48DLC_resnet50_SideviewLeft_Feb2022Feb8shuffle1_271000_filtered.csv\n",
      "\\\\dk-server.dk.ucsd.edu\\afassihizakeri\\Leftsidemovies\\ar41motor\\2022_07_28\\160DLC_resnet50_SideviewLeft_Feb2022Feb8shuffle1_271000_filtered.csv\n",
      "\\\\dk-server.dk.ucsd.edu\\afassihizakeri\\Leftsidemovies\\ar41motor\\2022_07_28\\63DLC_resnet50_SideviewLeft_Feb2022Feb8shuffle1_271000_filtered.csv\n",
      "\\\\dk-server.dk.ucsd.edu\\afassihizakeri\\Leftsidemovies\\ar41motor\\2022_07_28\\217DLC_resnet50_SideviewLeft_Feb2022Feb8shuffle1_271000_filtered.csv\n",
      "\\\\dk-server.dk.ucsd.edu\\afassihizakeri\\Leftsidemovies\\ar41motor\\2022_07_28\\86DLC_resnet50_SideviewLeft_Feb2022Feb8shuffle1_271000_filtered.csv\n",
      "\\\\dk-server.dk.ucsd.edu\\afassihizakeri\\Leftsidemovies\\ar41motor\\2022_07_28\\176DLC_resnet50_SideviewLeft_Feb2022Feb8shuffle1_271000_filtered.csv\n",
      "\\\\dk-server.dk.ucsd.edu\\afassihizakeri\\Leftsidemovies\\ar41motor\\2022_07_28\\111DLC_resnet50_SideviewLeft_Feb2022Feb8shuffle1_271000_filtered.csv\n",
      "\\\\dk-server.dk.ucsd.edu\\afassihizakeri\\Leftsidemovies\\ar41motor\\2022_07_28\\39DLC_resnet50_SideviewLeft_Feb2022Feb8shuffle1_271000_filtered.csv\n",
      "\\\\dk-server.dk.ucsd.edu\\afassihizakeri\\Leftsidemovies\\ar41motor\\2022_07_28\\193DLC_resnet50_SideviewLeft_Feb2022Feb8shuffle1_271000_filtered.csv\n",
      "\\\\dk-server.dk.ucsd.edu\\afassihizakeri\\Leftsidemovies\\ar41motor\\2022_07_28\\12DLC_resnet50_SideviewLeft_Feb2022Feb8shuffle1_271000_filtered.csv\n",
      "\\\\dk-server.dk.ucsd.edu\\afassihizakeri\\Leftsidemovies\\ar41motor\\2022_07_28\\90DLC_resnet50_SideviewLeft_Feb2022Feb8shuffle1_271000_filtered.csv\n",
      "\\\\dk-server.dk.ucsd.edu\\afassihizakeri\\Leftsidemovies\\ar41motor\\2022_07_28\\201DLC_resnet50_SideviewLeft_Feb2022Feb8shuffle1_271000_filtered.csv\n",
      "\\\\dk-server.dk.ucsd.edu\\afassihizakeri\\Leftsidemovies\\ar41motor\\2022_07_28\\75DLC_resnet50_SideviewLeft_Feb2022Feb8shuffle1_271000_filtered.csv\n",
      "\\\\dk-server.dk.ucsd.edu\\afassihizakeri\\Leftsidemovies\\ar41motor\\2022_07_28\\26DLC_resnet50_SideviewLeft_Feb2022Feb8shuffle1_271000_filtered.csv\n",
      "\\\\dk-server.dk.ucsd.edu\\afassihizakeri\\Leftsidemovies\\ar41motor\\2022_07_28\\235DLC_resnet50_SideviewLeft_Feb2022Feb8shuffle1_271000_filtered.csv\n",
      "\\\\dk-server.dk.ucsd.edu\\afassihizakeri\\Leftsidemovies\\ar41motor\\2022_07_28\\41DLC_resnet50_SideviewLeft_Feb2022Feb8shuffle1_271000_filtered.csv\n",
      "\\\\dk-server.dk.ucsd.edu\\afassihizakeri\\Leftsidemovies\\ar41motor\\2022_07_28\\252DLC_resnet50_SideviewLeft_Feb2022Feb8shuffle1_271000_filtered.csv\n",
      "\\\\dk-server.dk.ucsd.edu\\afassihizakeri\\Leftsidemovies\\ar41motor\\2022_07_28\\169DLC_resnet50_SideviewLeft_Feb2022Feb8shuffle1_271000_filtered.csv\n",
      "\\\\dk-server.dk.ucsd.edu\\afassihizakeri\\Leftsidemovies\\ar41motor\\2022_07_28\\142DLC_resnet50_SideviewLeft_Feb2022Feb8shuffle1_271000_filtered.csv\n",
      "\\\\dk-server.dk.ucsd.edu\\afassihizakeri\\Leftsidemovies\\ar41motor\\2022_07_28\\125DLC_resnet50_SideviewLeft_Feb2022Feb8shuffle1_271000_filtered.csv\n",
      "\\\\dk-server.dk.ucsd.edu\\afassihizakeri\\Leftsidemovies\\ar41motor\\2022_07_28\\244DLC_resnet50_SideviewLeft_Feb2022Feb8shuffle1_271000_filtered.csv\n",
      "\\\\dk-server.dk.ucsd.edu\\afassihizakeri\\Leftsidemovies\\ar41motor\\2022_07_28\\57DLC_resnet50_SideviewLeft_Feb2022Feb8shuffle1_271000_filtered.csv\n",
      "\\\\dk-server.dk.ucsd.edu\\afassihizakeri\\Leftsidemovies\\ar41motor\\2022_07_28\\5DLC_resnet50_SideviewLeft_Feb2022Feb8shuffle1_271000_filtered.csv\n",
      "\\\\dk-server.dk.ucsd.edu\\afassihizakeri\\Leftsidemovies\\ar41motor\\2022_07_28\\118DLC_resnet50_SideviewLeft_Feb2022Feb8shuffle1_271000_filtered.csv\n",
      "\\\\dk-server.dk.ucsd.edu\\afassihizakeri\\Leftsidemovies\\ar41motor\\2022_07_28\\223DLC_resnet50_SideviewLeft_Feb2022Feb8shuffle1_271000_filtered.csv\n",
      "\\\\dk-server.dk.ucsd.edu\\afassihizakeri\\Leftsidemovies\\ar41motor\\2022_07_28\\30DLC_resnet50_SideviewLeft_Feb2022Feb8shuffle1_271000_filtered.csv\n",
      "\\\\dk-server.dk.ucsd.edu\\afassihizakeri\\Leftsidemovies\\ar41motor\\2022_07_28\\208DLC_resnet50_SideviewLeft_Feb2022Feb8shuffle1_271000_filtered.csv\n",
      "\\\\dk-server.dk.ucsd.edu\\afassihizakeri\\Leftsidemovies\\ar41motor\\2022_07_28\\133DLC_resnet50_SideviewLeft_Feb2022Feb8shuffle1_271000_filtered.csv\n",
      "\\\\dk-server.dk.ucsd.edu\\afassihizakeri\\Leftsidemovies\\ar41motor\\2022_07_28\\99DLC_resnet50_SideviewLeft_Feb2022Feb8shuffle1_271000_filtered.csv\n",
      "\\\\dk-server.dk.ucsd.edu\\afassihizakeri\\Leftsidemovies\\ar41motor\\2022_07_28\\154DLC_resnet50_SideviewLeft_Feb2022Feb8shuffle1_271000_filtered.csv\n",
      "\\\\dk-server.dk.ucsd.edu\\afassihizakeri\\Leftsidemovies\\ar41motor\\2022_07_28\\21DLC_resnet50_SideviewLeft_Feb2022Feb8shuffle1_271000_filtered.csv\n",
      "\\\\dk-server.dk.ucsd.edu\\afassihizakeri\\Leftsidemovies\\ar41motor\\2022_07_28\\232DLC_resnet50_SideviewLeft_Feb2022Feb8shuffle1_271000_filtered.csv\n",
      "\\\\dk-server.dk.ucsd.edu\\afassihizakeri\\Leftsidemovies\\ar41motor\\2022_07_28\\109DLC_resnet50_SideviewLeft_Feb2022Feb8shuffle1_271000_filtered.csv\n",
      "\\\\dk-server.dk.ucsd.edu\\afassihizakeri\\Leftsidemovies\\ar41motor\\2022_07_28\\46DLC_resnet50_SideviewLeft_Feb2022Feb8shuffle1_271000_filtered.csv\n",
      "\\\\dk-server.dk.ucsd.edu\\afassihizakeri\\Leftsidemovies\\ar41motor\\2022_07_28\\255DLC_resnet50_SideviewLeft_Feb2022Feb8shuffle1_271000_filtered.csv\n",
      "\\\\dk-server.dk.ucsd.edu\\afassihizakeri\\Leftsidemovies\\ar41motor\\2022_07_28\\145DLC_resnet50_SideviewLeft_Feb2022Feb8shuffle1_271000_filtered.csv\n",
      "\\\\dk-server.dk.ucsd.edu\\afassihizakeri\\Leftsidemovies\\ar41motor\\2022_07_28\\122DLC_resnet50_SideviewLeft_Feb2022Feb8shuffle1_271000_filtered.csv\n",
      "\\\\dk-server.dk.ucsd.edu\\afassihizakeri\\Leftsidemovies\\ar41motor\\2022_07_28\\88DLC_resnet50_SideviewLeft_Feb2022Feb8shuffle1_271000_filtered.csv\n",
      "\\\\dk-server.dk.ucsd.edu\\afassihizakeri\\Leftsidemovies\\ar41motor\\2022_07_28\\219DLC_resnet50_SideviewLeft_Feb2022Feb8shuffle1_271000_filtered.csv\n",
      "\\\\dk-server.dk.ucsd.edu\\afassihizakeri\\Leftsidemovies\\ar41motor\\2022_07_28\\178DLC_resnet50_SideviewLeft_Feb2022Feb8shuffle1_271000_filtered.csv\n",
      "\\\\dk-server.dk.ucsd.edu\\afassihizakeri\\Leftsidemovies\\ar41motor\\2022_07_28\\243DLC_resnet50_SideviewLeft_Feb2022Feb8shuffle1_271000_filtered.csv\n"
     ]
    },
    {
     "name": "stdout",
     "output_type": "stream",
     "text": [
      "\\\\dk-server.dk.ucsd.edu\\afassihizakeri\\Leftsidemovies\\ar41motor\\2022_07_28\\50DLC_resnet50_SideviewLeft_Feb2022Feb8shuffle1_271000_filtered.csv\n",
      "\\\\dk-server.dk.ucsd.edu\\afassihizakeri\\Leftsidemovies\\ar41motor\\2022_07_28\\2DLC_resnet50_SideviewLeft_Feb2022Feb8shuffle1_271000_filtered.csv\n",
      "\\\\dk-server.dk.ucsd.edu\\afassihizakeri\\Leftsidemovies\\ar41motor\\2022_07_28\\224DLC_resnet50_SideviewLeft_Feb2022Feb8shuffle1_271000_filtered.csv\n",
      "\\\\dk-server.dk.ucsd.edu\\afassihizakeri\\Leftsidemovies\\ar41motor\\2022_07_28\\37DLC_resnet50_SideviewLeft_Feb2022Feb8shuffle1_271000_filtered.csv\n",
      "\\\\dk-server.dk.ucsd.edu\\afassihizakeri\\Leftsidemovies\\ar41motor\\2022_07_28\\134DLC_resnet50_SideviewLeft_Feb2022Feb8shuffle1_271000_filtered.csv\n",
      "\\\\dk-server.dk.ucsd.edu\\afassihizakeri\\Leftsidemovies\\ar41motor\\2022_07_28\\153DLC_resnet50_SideviewLeft_Feb2022Feb8shuffle1_271000_filtered.csv\n",
      "\\\\dk-server.dk.ucsd.edu\\afassihizakeri\\Leftsidemovies\\ar41motor\\2022_07_28\\38DLC_resnet50_SideviewLeft_Feb2022Feb8shuffle1_271000_filtered.csv\n",
      "\\\\dk-server.dk.ucsd.edu\\afassihizakeri\\Leftsidemovies\\ar41motor\\2022_07_28\\192DLC_resnet50_SideviewLeft_Feb2022Feb8shuffle1_271000_filtered.csv\n",
      "\\\\dk-server.dk.ucsd.edu\\afassihizakeri\\Leftsidemovies\\ar41motor\\2022_07_28\\110DLC_resnet50_SideviewLeft_Feb2022Feb8shuffle1_271000_filtered.csv\n",
      "\\\\dk-server.dk.ucsd.edu\\afassihizakeri\\Leftsidemovies\\ar41motor\\2022_07_28\\177DLC_resnet50_SideviewLeft_Feb2022Feb8shuffle1_271000_filtered.csv\n",
      "\\\\dk-server.dk.ucsd.edu\\afassihizakeri\\Leftsidemovies\\ar41motor\\2022_07_28\\74DLC_resnet50_SideviewLeft_Feb2022Feb8shuffle1_271000_filtered.csv\n",
      "\\\\dk-server.dk.ucsd.edu\\afassihizakeri\\Leftsidemovies\\ar41motor\\2022_07_28\\200DLC_resnet50_SideviewLeft_Feb2022Feb8shuffle1_271000_filtered.csv\n",
      "\\\\dk-server.dk.ucsd.edu\\afassihizakeri\\Leftsidemovies\\ar41motor\\2022_07_28\\91DLC_resnet50_SideviewLeft_Feb2022Feb8shuffle1_271000_filtered.csv\n",
      "\\\\dk-server.dk.ucsd.edu\\afassihizakeri\\Leftsidemovies\\ar41motor\\2022_07_28\\161DLC_resnet50_SideviewLeft_Feb2022Feb8shuffle1_271000_filtered.csv\n",
      "\\\\dk-server.dk.ucsd.edu\\afassihizakeri\\Leftsidemovies\\ar41motor\\2022_07_28\\49DLC_resnet50_SideviewLeft_Feb2022Feb8shuffle1_271000_filtered.csv\n",
      "\\\\dk-server.dk.ucsd.edu\\afassihizakeri\\Leftsidemovies\\ar41motor\\2022_07_28\\106DLC_resnet50_SideviewLeft_Feb2022Feb8shuffle1_271000_filtered.csv\n",
      "\\\\dk-server.dk.ucsd.edu\\afassihizakeri\\Leftsidemovies\\ar41motor\\2022_07_28\\184DLC_resnet50_SideviewLeft_Feb2022Feb8shuffle1_271000_filtered.csv\n",
      "\\\\dk-server.dk.ucsd.edu\\afassihizakeri\\Leftsidemovies\\ar41motor\\2022_07_28\\87DLC_resnet50_SideviewLeft_Feb2022Feb8shuffle1_271000_filtered.csv\n",
      "\\\\dk-server.dk.ucsd.edu\\afassihizakeri\\Leftsidemovies\\ar41motor\\2022_07_28\\216DLC_resnet50_SideviewLeft_Feb2022Feb8shuffle1_271000_filtered.csv\n",
      "\\\\dk-server.dk.ucsd.edu\\afassihizakeri\\Leftsidemovies\\ar41motor\\2022_07_28\\62DLC_resnet50_SideviewLeft_Feb2022Feb8shuffle1_271000_filtered.csv\n",
      "\\\\dk-server.dk.ucsd.edu\\afassihizakeri\\Leftsidemovies\\ar41motor\\2022_07_28\\195DLC_resnet50_SideviewLeft_Feb2022Feb8shuffle1_271000_filtered.csv\n",
      "\\\\dk-server.dk.ucsd.edu\\afassihizakeri\\Leftsidemovies\\ar41motor\\2022_07_28\\117DLC_resnet50_SideviewLeft_Feb2022Feb8shuffle1_271000_filtered.csv\n",
      "\\\\dk-server.dk.ucsd.edu\\afassihizakeri\\Leftsidemovies\\ar41motor\\2022_07_28\\58DLC_resnet50_SideviewLeft_Feb2022Feb8shuffle1_271000_filtered.csv\n",
      "\\\\dk-server.dk.ucsd.edu\\afassihizakeri\\Leftsidemovies\\ar41motor\\2022_07_28\\170DLC_resnet50_SideviewLeft_Feb2022Feb8shuffle1_271000_filtered.csv\n",
      "\\\\dk-server.dk.ucsd.edu\\afassihizakeri\\Leftsidemovies\\ar41motor\\2022_07_28\\260DLC_resnet50_SideviewLeft_Feb2022Feb8shuffle1_271000_filtered.csv\n",
      "\\\\dk-server.dk.ucsd.edu\\afassihizakeri\\Leftsidemovies\\ar41motor\\2022_07_28\\73DLC_resnet50_SideviewLeft_Feb2022Feb8shuffle1_271000_filtered.csv\n",
      "\\\\dk-server.dk.ucsd.edu\\afassihizakeri\\Leftsidemovies\\ar41motor\\2022_07_28\\207DLC_resnet50_SideviewLeft_Feb2022Feb8shuffle1_271000_filtered.csv\n",
      "\\\\dk-server.dk.ucsd.edu\\afassihizakeri\\Leftsidemovies\\ar41motor\\2022_07_28\\96DLC_resnet50_SideviewLeft_Feb2022Feb8shuffle1_271000_filtered.csv\n",
      "\\\\dk-server.dk.ucsd.edu\\afassihizakeri\\Leftsidemovies\\ar41motor\\2022_07_28\\14DLC_resnet50_SideviewLeft_Feb2022Feb8shuffle1_271000_filtered.csv\n",
      "\\\\dk-server.dk.ucsd.edu\\afassihizakeri\\Leftsidemovies\\ar41motor\\2022_07_28\\166DLC_resnet50_SideviewLeft_Feb2022Feb8shuffle1_271000_filtered.csv\n",
      "\\\\dk-server.dk.ucsd.edu\\afassihizakeri\\Leftsidemovies\\ar41motor\\2022_07_28\\101DLC_resnet50_SideviewLeft_Feb2022Feb8shuffle1_271000_filtered.csv\n",
      "\\\\dk-server.dk.ucsd.edu\\afassihizakeri\\Leftsidemovies\\ar41motor\\2022_07_28\\29DLC_resnet50_SideviewLeft_Feb2022Feb8shuffle1_271000_filtered.csv\n",
      "\\\\dk-server.dk.ucsd.edu\\afassihizakeri\\Leftsidemovies\\ar41motor\\2022_07_28\\183DLC_resnet50_SideviewLeft_Feb2022Feb8shuffle1_271000_filtered.csv\n",
      "\\\\dk-server.dk.ucsd.edu\\afassihizakeri\\Leftsidemovies\\ar41motor\\2022_07_28\\80DLC_resnet50_SideviewLeft_Feb2022Feb8shuffle1_271000_filtered.csv\n",
      "\\\\dk-server.dk.ucsd.edu\\afassihizakeri\\Leftsidemovies\\ar41motor\\2022_07_28\\211DLC_resnet50_SideviewLeft_Feb2022Feb8shuffle1_271000_filtered.csv\n",
      "\\\\dk-server.dk.ucsd.edu\\afassihizakeri\\Leftsidemovies\\ar41motor\\2022_07_28\\65DLC_resnet50_SideviewLeft_Feb2022Feb8shuffle1_271000_filtered.csv\n",
      "\\\\dk-server.dk.ucsd.edu\\afassihizakeri\\Leftsidemovies\\ar41motor\\2022_07_28\\36DLC_resnet50_SideviewLeft_Feb2022Feb8shuffle1_271000_filtered.csv\n",
      "\\\\dk-server.dk.ucsd.edu\\afassihizakeri\\Leftsidemovies\\ar41motor\\2022_07_28\\225DLC_resnet50_SideviewLeft_Feb2022Feb8shuffle1_271000_filtered.csv\n",
      "\\\\dk-server.dk.ucsd.edu\\afassihizakeri\\Leftsidemovies\\ar41motor\\2022_07_28\\3DLC_resnet50_SideviewLeft_Feb2022Feb8shuffle1_271000_filtered.csv\n",
      "\\\\dk-server.dk.ucsd.edu\\afassihizakeri\\Leftsidemovies\\ar41motor\\2022_07_28\\51DLC_resnet50_SideviewLeft_Feb2022Feb8shuffle1_271000_filtered.csv\n",
      "\\\\dk-server.dk.ucsd.edu\\afassihizakeri\\Leftsidemovies\\ar41motor\\2022_07_28\\242DLC_resnet50_SideviewLeft_Feb2022Feb8shuffle1_271000_filtered.csv\n",
      "\\\\dk-server.dk.ucsd.edu\\afassihizakeri\\Leftsidemovies\\ar41motor\\2022_07_28\\179DLC_resnet50_SideviewLeft_Feb2022Feb8shuffle1_271000_filtered.csv\n",
      "\\\\dk-server.dk.ucsd.edu\\afassihizakeri\\Leftsidemovies\\ar41motor\\2022_07_28\\152DLC_resnet50_SideviewLeft_Feb2022Feb8shuffle1_271000_filtered.csv\n",
      "\\\\dk-server.dk.ucsd.edu\\afassihizakeri\\Leftsidemovies\\ar41motor\\2022_07_28\\135DLC_resnet50_SideviewLeft_Feb2022Feb8shuffle1_271000_filtered.csv\n",
      "\\\\dk-server.dk.ucsd.edu\\afassihizakeri\\Leftsidemovies\\ar41motor\\2022_07_28\\254DLC_resnet50_SideviewLeft_Feb2022Feb8shuffle1_271000_filtered.csv\n",
      "\\\\dk-server.dk.ucsd.edu\\afassihizakeri\\Leftsidemovies\\ar41motor\\2022_07_28\\47DLC_resnet50_SideviewLeft_Feb2022Feb8shuffle1_271000_filtered.csv\n",
      "\\\\dk-server.dk.ucsd.edu\\afassihizakeri\\Leftsidemovies\\ar41motor\\2022_07_28\\108DLC_resnet50_SideviewLeft_Feb2022Feb8shuffle1_271000_filtered.csv\n",
      "\\\\dk-server.dk.ucsd.edu\\afassihizakeri\\Leftsidemovies\\ar41motor\\2022_07_28\\233DLC_resnet50_SideviewLeft_Feb2022Feb8shuffle1_271000_filtered.csv\n",
      "\\\\dk-server.dk.ucsd.edu\\afassihizakeri\\Leftsidemovies\\ar41motor\\2022_07_28\\20DLC_resnet50_SideviewLeft_Feb2022Feb8shuffle1_271000_filtered.csv\n",
      "\\\\dk-server.dk.ucsd.edu\\afassihizakeri\\Leftsidemovies\\ar41motor\\2022_07_28\\218DLC_resnet50_SideviewLeft_Feb2022Feb8shuffle1_271000_filtered.csv\n",
      "\\\\dk-server.dk.ucsd.edu\\afassihizakeri\\Leftsidemovies\\ar41motor\\2022_07_28\\123DLC_resnet50_SideviewLeft_Feb2022Feb8shuffle1_271000_filtered.csv\n",
      "\\\\dk-server.dk.ucsd.edu\\afassihizakeri\\Leftsidemovies\\ar41motor\\2022_07_28\\89DLC_resnet50_SideviewLeft_Feb2022Feb8shuffle1_271000_filtered.csv\n",
      "\\\\dk-server.dk.ucsd.edu\\afassihizakeri\\Leftsidemovies\\ar41motor\\2022_07_28\\144DLC_resnet50_SideviewLeft_Feb2022Feb8shuffle1_271000_filtered.csv\n",
      "\\\\dk-server.dk.ucsd.edu\\afassihizakeri\\Leftsidemovies\\ar41motor\\2022_07_28\\31DLC_resnet50_SideviewLeft_Feb2022Feb8shuffle1_271000_filtered.csv\n",
      "\\\\dk-server.dk.ucsd.edu\\afassihizakeri\\Leftsidemovies\\ar41motor\\2022_07_28\\222DLC_resnet50_SideviewLeft_Feb2022Feb8shuffle1_271000_filtered.csv\n",
      "\\\\dk-server.dk.ucsd.edu\\afassihizakeri\\Leftsidemovies\\ar41motor\\2022_07_28\\119DLC_resnet50_SideviewLeft_Feb2022Feb8shuffle1_271000_filtered.csv\n",
      "\\\\dk-server.dk.ucsd.edu\\afassihizakeri\\Leftsidemovies\\ar41motor\\2022_07_28\\4DLC_resnet50_SideviewLeft_Feb2022Feb8shuffle1_271000_filtered.csv\n",
      "\\\\dk-server.dk.ucsd.edu\\afassihizakeri\\Leftsidemovies\\ar41motor\\2022_07_28\\56DLC_resnet50_SideviewLeft_Feb2022Feb8shuffle1_271000_filtered.csv\n"
     ]
    },
    {
     "name": "stdout",
     "output_type": "stream",
     "text": [
      "\\\\dk-server.dk.ucsd.edu\\afassihizakeri\\Leftsidemovies\\ar41motor\\2022_07_28\\245DLC_resnet50_SideviewLeft_Feb2022Feb8shuffle1_271000_filtered.csv\n",
      "\\\\dk-server.dk.ucsd.edu\\afassihizakeri\\Leftsidemovies\\ar41motor\\2022_07_28\\155DLC_resnet50_SideviewLeft_Feb2022Feb8shuffle1_271000_filtered.csv\n",
      "\\\\dk-server.dk.ucsd.edu\\afassihizakeri\\Leftsidemovies\\ar41motor\\2022_07_28\\132DLC_resnet50_SideviewLeft_Feb2022Feb8shuffle1_271000_filtered.csv\n",
      "\\\\dk-server.dk.ucsd.edu\\afassihizakeri\\Leftsidemovies\\ar41motor\\2022_07_28\\98DLC_resnet50_SideviewLeft_Feb2022Feb8shuffle1_271000_filtered.csv\n",
      "\\\\dk-server.dk.ucsd.edu\\afassihizakeri\\Leftsidemovies\\ar41motor\\2022_07_28\\209DLC_resnet50_SideviewLeft_Feb2022Feb8shuffle1_271000_filtered.csv\n",
      "\\\\dk-server.dk.ucsd.edu\\afassihizakeri\\Leftsidemovies\\ar41motor\\2022_07_28\\168DLC_resnet50_SideviewLeft_Feb2022Feb8shuffle1_271000_filtered.csv\n",
      "\\\\dk-server.dk.ucsd.edu\\afassihizakeri\\Leftsidemovies\\ar41motor\\2022_07_28\\253DLC_resnet50_SideviewLeft_Feb2022Feb8shuffle1_271000_filtered.csv\n",
      "\\\\dk-server.dk.ucsd.edu\\afassihizakeri\\Leftsidemovies\\ar41motor\\2022_07_28\\40DLC_resnet50_SideviewLeft_Feb2022Feb8shuffle1_271000_filtered.csv\n",
      "\\\\dk-server.dk.ucsd.edu\\afassihizakeri\\Leftsidemovies\\ar41motor\\2022_07_28\\234DLC_resnet50_SideviewLeft_Feb2022Feb8shuffle1_271000_filtered.csv\n",
      "\\\\dk-server.dk.ucsd.edu\\afassihizakeri\\Leftsidemovies\\ar41motor\\2022_07_28\\27DLC_resnet50_SideviewLeft_Feb2022Feb8shuffle1_271000_filtered.csv\n",
      "\\\\dk-server.dk.ucsd.edu\\afassihizakeri\\Leftsidemovies\\ar41motor\\2022_07_28\\124DLC_resnet50_SideviewLeft_Feb2022Feb8shuffle1_271000_filtered.csv\n",
      "\\\\dk-server.dk.ucsd.edu\\afassihizakeri\\Leftsidemovies\\ar41motor\\2022_07_28\\143DLC_resnet50_SideviewLeft_Feb2022Feb8shuffle1_271000_filtered.csv\n",
      "\\\\dk-server.dk.ucsd.edu\\afassihizakeri\\Leftsidemovies\\ar41motor\\2022_07_28\\120DLC_resnet50_SideviewLeft_Feb2022Feb8shuffle1_271000_filtered.csv\n",
      "\\\\dk-server.dk.ucsd.edu\\afassihizakeri\\Leftsidemovies\\ar41motor\\2022_07_28\\147DLC_resnet50_SideviewLeft_Feb2022Feb8shuffle1_271000_filtered.csv\n",
      "\\\\dk-server.dk.ucsd.edu\\afassihizakeri\\Leftsidemovies\\ar41motor\\2022_07_28\\257DLC_resnet50_SideviewLeft_Feb2022Feb8shuffle1_271000_filtered.csv\n",
      "\\\\dk-server.dk.ucsd.edu\\afassihizakeri\\Leftsidemovies\\ar41motor\\2022_07_28\\44DLC_resnet50_SideviewLeft_Feb2022Feb8shuffle1_271000_filtered.csv\n",
      "\\\\dk-server.dk.ucsd.edu\\afassihizakeri\\Leftsidemovies\\ar41motor\\2022_07_28\\230DLC_resnet50_SideviewLeft_Feb2022Feb8shuffle1_271000_filtered.csv\n",
      "\\\\dk-server.dk.ucsd.edu\\afassihizakeri\\Leftsidemovies\\ar41motor\\2022_07_28\\189DLC_resnet50_SideviewLeft_Feb2022Feb8shuffle1_271000_filtered.csv\n",
      "\\\\dk-server.dk.ucsd.edu\\afassihizakeri\\Leftsidemovies\\ar41motor\\2022_07_28\\23DLC_resnet50_SideviewLeft_Feb2022Feb8shuffle1_271000_filtered.csv\n",
      "\\\\dk-server.dk.ucsd.edu\\afassihizakeri\\Leftsidemovies\\ar41motor\\2022_07_28\\151DLC_resnet50_SideviewLeft_Feb2022Feb8shuffle1_271000_filtered.csv\n",
      "\\\\dk-server.dk.ucsd.edu\\afassihizakeri\\Leftsidemovies\\ar41motor\\2022_07_28\\79DLC_resnet50_SideviewLeft_Feb2022Feb8shuffle1_271000_filtered.csv\n",
      "\\\\dk-server.dk.ucsd.edu\\afassihizakeri\\Leftsidemovies\\ar41motor\\2022_07_28\\136DLC_resnet50_SideviewLeft_Feb2022Feb8shuffle1_271000_filtered.csv\n",
      "\\\\dk-server.dk.ucsd.edu\\afassihizakeri\\Leftsidemovies\\ar41motor\\2022_07_28\\35DLC_resnet50_SideviewLeft_Feb2022Feb8shuffle1_271000_filtered.csv\n",
      "\\\\dk-server.dk.ucsd.edu\\afassihizakeri\\Leftsidemovies\\ar41motor\\2022_07_28\\226DLC_resnet50_SideviewLeft_Feb2022Feb8shuffle1_271000_filtered.csv\n",
      "\\\\dk-server.dk.ucsd.edu\\afassihizakeri\\Leftsidemovies\\ar41motor\\2022_07_28\\52DLC_resnet50_SideviewLeft_Feb2022Feb8shuffle1_271000_filtered.csv\n",
      "\\\\dk-server.dk.ucsd.edu\\afassihizakeri\\Leftsidemovies\\ar41motor\\2022_07_28\\0DLC_resnet50_SideviewLeft_Feb2022Feb8shuffle1_271000_filtered.csv\n",
      "\\\\dk-server.dk.ucsd.edu\\afassihizakeri\\Leftsidemovies\\ar41motor\\2022_07_28\\241DLC_resnet50_SideviewLeft_Feb2022Feb8shuffle1_271000_filtered.csv\n",
      "\\\\dk-server.dk.ucsd.edu\\afassihizakeri\\Leftsidemovies\\ar41motor\\2022_07_28\\127DLC_resnet50_SideviewLeft_Feb2022Feb8shuffle1_271000_filtered.csv\n",
      "\\\\dk-server.dk.ucsd.edu\\afassihizakeri\\Leftsidemovies\\ar41motor\\2022_07_28\\68DLC_resnet50_SideviewLeft_Feb2022Feb8shuffle1_271000_filtered.csv\n",
      "\\\\dk-server.dk.ucsd.edu\\afassihizakeri\\Leftsidemovies\\ar41motor\\2022_07_28\\140DLC_resnet50_SideviewLeft_Feb2022Feb8shuffle1_271000_filtered.csv\n",
      "\\\\dk-server.dk.ucsd.edu\\afassihizakeri\\Leftsidemovies\\ar41motor\\2022_07_28\\250DLC_resnet50_SideviewLeft_Feb2022Feb8shuffle1_271000_filtered.csv\n",
      "\\\\dk-server.dk.ucsd.edu\\afassihizakeri\\Leftsidemovies\\ar41motor\\2022_07_28\\43DLC_resnet50_SideviewLeft_Feb2022Feb8shuffle1_271000_filtered.csv\n",
      "\\\\dk-server.dk.ucsd.edu\\afassihizakeri\\Leftsidemovies\\ar41motor\\2022_07_28\\237DLC_resnet50_SideviewLeft_Feb2022Feb8shuffle1_271000_filtered.csv\n",
      "\\\\dk-server.dk.ucsd.edu\\afassihizakeri\\Leftsidemovies\\ar41motor\\2022_07_28\\24DLC_resnet50_SideviewLeft_Feb2022Feb8shuffle1_271000_filtered.csv\n",
      "\\\\dk-server.dk.ucsd.edu\\afassihizakeri\\Leftsidemovies\\ar41motor\\2022_07_28\\156DLC_resnet50_SideviewLeft_Feb2022Feb8shuffle1_271000_filtered.csv\n",
      "\\\\dk-server.dk.ucsd.edu\\afassihizakeri\\Leftsidemovies\\ar41motor\\2022_07_28\\131DLC_resnet50_SideviewLeft_Feb2022Feb8shuffle1_271000_filtered.csv\n",
      "\\\\dk-server.dk.ucsd.edu\\afassihizakeri\\Leftsidemovies\\ar41motor\\2022_07_28\\19DLC_resnet50_SideviewLeft_Feb2022Feb8shuffle1_271000_filtered.csv\n",
      "\\\\dk-server.dk.ucsd.edu\\afassihizakeri\\Leftsidemovies\\ar41motor\\2022_07_28\\198DLC_resnet50_SideviewLeft_Feb2022Feb8shuffle1_271000_filtered.csv\n",
      "\\\\dk-server.dk.ucsd.edu\\afassihizakeri\\Leftsidemovies\\ar41motor\\2022_07_28\\32DLC_resnet50_SideviewLeft_Feb2022Feb8shuffle1_271000_filtered.csv\n",
      "\\\\dk-server.dk.ucsd.edu\\afassihizakeri\\Leftsidemovies\\ar41motor\\2022_07_28\\221DLC_resnet50_SideviewLeft_Feb2022Feb8shuffle1_271000_filtered.csv\n",
      "\\\\dk-server.dk.ucsd.edu\\afassihizakeri\\Leftsidemovies\\ar41motor\\2022_07_28\\55DLC_resnet50_SideviewLeft_Feb2022Feb8shuffle1_271000_filtered.csv\n",
      "\\\\dk-server.dk.ucsd.edu\\afassihizakeri\\Leftsidemovies\\ar41motor\\2022_07_28\\7DLC_resnet50_SideviewLeft_Feb2022Feb8shuffle1_271000_filtered.csv\n",
      "\\\\dk-server.dk.ucsd.edu\\afassihizakeri\\Leftsidemovies\\ar41motor\\2022_07_28\\246DLC_resnet50_SideviewLeft_Feb2022Feb8shuffle1_271000_filtered.csv\n",
      "\\\\dk-server.dk.ucsd.edu\\afassihizakeri\\Leftsidemovies\\ar41motor\\2022_07_28\\215DLC_resnet50_SideviewLeft_Feb2022Feb8shuffle1_271000_filtered.csv\n",
      "\\\\dk-server.dk.ucsd.edu\\afassihizakeri\\Leftsidemovies\\ar41motor\\2022_07_28\\84DLC_resnet50_SideviewLeft_Feb2022Feb8shuffle1_271000_filtered.csv\n",
      "\\\\dk-server.dk.ucsd.edu\\afassihizakeri\\Leftsidemovies\\ar41motor\\2022_07_28\\61DLC_resnet50_SideviewLeft_Feb2022Feb8shuffle1_271000_filtered.csv\n",
      "\\\\dk-server.dk.ucsd.edu\\afassihizakeri\\Leftsidemovies\\ar41motor\\2022_07_28\\149DLC_resnet50_SideviewLeft_Feb2022Feb8shuffle1_271000_filtered.csv\n",
      "\\\\dk-server.dk.ucsd.edu\\afassihizakeri\\Leftsidemovies\\ar41motor\\2022_07_28\\162DLC_resnet50_SideviewLeft_Feb2022Feb8shuffle1_271000_filtered.csv\n",
      "\\\\dk-server.dk.ucsd.edu\\afassihizakeri\\Leftsidemovies\\ar41motor\\2022_07_28\\259DLC_resnet50_SideviewLeft_Feb2022Feb8shuffle1_271000_filtered.csv\n",
      "\\\\dk-server.dk.ucsd.edu\\afassihizakeri\\Leftsidemovies\\ar41motor\\2022_07_28\\105DLC_resnet50_SideviewLeft_Feb2022Feb8shuffle1_271000_filtered.csv\n",
      "\\\\dk-server.dk.ucsd.edu\\afassihizakeri\\Leftsidemovies\\ar41motor\\2022_07_28\\187DLC_resnet50_SideviewLeft_Feb2022Feb8shuffle1_271000_filtered.csv\n",
      "\\\\dk-server.dk.ucsd.edu\\afassihizakeri\\Leftsidemovies\\ar41motor\\2022_07_28\\77DLC_resnet50_SideviewLeft_Feb2022Feb8shuffle1_271000_filtered.csv\n",
      "\\\\dk-server.dk.ucsd.edu\\afassihizakeri\\Leftsidemovies\\ar41motor\\2022_07_28\\92DLC_resnet50_SideviewLeft_Feb2022Feb8shuffle1_271000_filtered.csv\n",
      "\\\\dk-server.dk.ucsd.edu\\afassihizakeri\\Leftsidemovies\\ar41motor\\2022_07_28\\138DLC_resnet50_SideviewLeft_Feb2022Feb8shuffle1_271000_filtered.csv\n",
      "\\\\dk-server.dk.ucsd.edu\\afassihizakeri\\Leftsidemovies\\ar41motor\\2022_07_28\\203DLC_resnet50_SideviewLeft_Feb2022Feb8shuffle1_271000_filtered.csv\n",
      "\\\\dk-server.dk.ucsd.edu\\afassihizakeri\\Leftsidemovies\\ar41motor\\2022_07_28\\10DLC_resnet50_SideviewLeft_Feb2022Feb8shuffle1_271000_filtered.csv\n",
      "\\\\dk-server.dk.ucsd.edu\\afassihizakeri\\Leftsidemovies\\ar41motor\\2022_07_28\\191DLC_resnet50_SideviewLeft_Feb2022Feb8shuffle1_271000_filtered.csv\n",
      "\\\\dk-server.dk.ucsd.edu\\afassihizakeri\\Leftsidemovies\\ar41motor\\2022_07_28\\228DLC_resnet50_SideviewLeft_Feb2022Feb8shuffle1_271000_filtered.csv\n"
     ]
    },
    {
     "name": "stdout",
     "output_type": "stream",
     "text": [
      "\\\\dk-server.dk.ucsd.edu\\afassihizakeri\\Leftsidemovies\\ar41motor\\2022_07_28\\113DLC_resnet50_SideviewLeft_Feb2022Feb8shuffle1_271000_filtered.csv\n",
      "\\\\dk-server.dk.ucsd.edu\\afassihizakeri\\Leftsidemovies\\ar41motor\\2022_07_28\\174DLC_resnet50_SideviewLeft_Feb2022Feb8shuffle1_271000_filtered.csv\n",
      "\\\\dk-server.dk.ucsd.edu\\afassihizakeri\\Leftsidemovies\\ar41motor\\2022_07_28\\212DLC_resnet50_SideviewLeft_Feb2022Feb8shuffle1_271000_filtered.csv\n",
      "\\\\dk-server.dk.ucsd.edu\\afassihizakeri\\Leftsidemovies\\ar41motor\\2022_07_28\\83DLC_resnet50_SideviewLeft_Feb2022Feb8shuffle1_271000_filtered.csv\n",
      "\\\\dk-server.dk.ucsd.edu\\afassihizakeri\\Leftsidemovies\\ar41motor\\2022_07_28\\129DLC_resnet50_SideviewLeft_Feb2022Feb8shuffle1_271000_filtered.csv\n",
      "\\\\dk-server.dk.ucsd.edu\\afassihizakeri\\Leftsidemovies\\ar41motor\\2022_07_28\\66DLC_resnet50_SideviewLeft_Feb2022Feb8shuffle1_271000_filtered.csv\n",
      "\\\\dk-server.dk.ucsd.edu\\afassihizakeri\\Leftsidemovies\\ar41motor\\2022_07_28\\165DLC_resnet50_SideviewLeft_Feb2022Feb8shuffle1_271000_filtered.csv\n",
      "\\\\dk-server.dk.ucsd.edu\\afassihizakeri\\Leftsidemovies\\ar41motor\\2022_07_28\\102DLC_resnet50_SideviewLeft_Feb2022Feb8shuffle1_271000_filtered.csv\n",
      "\\\\dk-server.dk.ucsd.edu\\afassihizakeri\\Leftsidemovies\\ar41motor\\2022_07_28\\239DLC_resnet50_SideviewLeft_Feb2022Feb8shuffle1_271000_filtered.csv\n",
      "\\\\dk-server.dk.ucsd.edu\\afassihizakeri\\Leftsidemovies\\ar41motor\\2022_07_28\\180DLC_resnet50_SideviewLeft_Feb2022Feb8shuffle1_271000_filtered.csv\n",
      "\\\\dk-server.dk.ucsd.edu\\afassihizakeri\\Leftsidemovies\\ar41motor\\2022_07_28\\158DLC_resnet50_SideviewLeft_Feb2022Feb8shuffle1_271000_filtered.csv\n",
      "\\\\dk-server.dk.ucsd.edu\\afassihizakeri\\Leftsidemovies\\ar41motor\\2022_07_28\\70DLC_resnet50_SideviewLeft_Feb2022Feb8shuffle1_271000_filtered.csv\n",
      "\\\\dk-server.dk.ucsd.edu\\afassihizakeri\\Leftsidemovies\\ar41motor\\2022_07_28\\95DLC_resnet50_SideviewLeft_Feb2022Feb8shuffle1_271000_filtered.csv\n",
      "\\\\dk-server.dk.ucsd.edu\\afassihizakeri\\Leftsidemovies\\ar41motor\\2022_07_28\\204DLC_resnet50_SideviewLeft_Feb2022Feb8shuffle1_271000_filtered.csv\n",
      "\\\\dk-server.dk.ucsd.edu\\afassihizakeri\\Leftsidemovies\\ar41motor\\2022_07_28\\17DLC_resnet50_SideviewLeft_Feb2022Feb8shuffle1_271000_filtered.csv\n",
      "\\\\dk-server.dk.ucsd.edu\\afassihizakeri\\Leftsidemovies\\ar41motor\\2022_07_28\\196DLC_resnet50_SideviewLeft_Feb2022Feb8shuffle1_271000_filtered.csv\n",
      "\\\\dk-server.dk.ucsd.edu\\afassihizakeri\\Leftsidemovies\\ar41motor\\2022_07_28\\114DLC_resnet50_SideviewLeft_Feb2022Feb8shuffle1_271000_filtered.csv\n",
      "\\\\dk-server.dk.ucsd.edu\\afassihizakeri\\Leftsidemovies\\ar41motor\\2022_07_28\\9DLC_resnet50_SideviewLeft_Feb2022Feb8shuffle1_271000_filtered.csv\n",
      "\\\\dk-server.dk.ucsd.edu\\afassihizakeri\\Leftsidemovies\\ar41motor\\2022_07_28\\248DLC_resnet50_SideviewLeft_Feb2022Feb8shuffle1_271000_filtered.csv\n",
      "\\\\dk-server.dk.ucsd.edu\\afassihizakeri\\Leftsidemovies\\ar41motor\\2022_07_28\\173DLC_resnet50_SideviewLeft_Feb2022Feb8shuffle1_271000_filtered.csv\n",
      "\\\\dk-server.dk.ucsd.edu\\afassihizakeri\\Leftsidemovies\\ar41motor\\2022_07_28\\18DLC_resnet50_SideviewLeft_Feb2022Feb8shuffle1_271000_filtered.csv\n",
      "\\\\dk-server.dk.ucsd.edu\\afassihizakeri\\Leftsidemovies\\ar41motor\\2022_07_28\\130DLC_resnet50_SideviewLeft_Feb2022Feb8shuffle1_271000_filtered.csv\n",
      "\\\\dk-server.dk.ucsd.edu\\afassihizakeri\\Leftsidemovies\\ar41motor\\2022_07_28\\157DLC_resnet50_SideviewLeft_Feb2022Feb8shuffle1_271000_filtered.csv\n",
      "\\\\dk-server.dk.ucsd.edu\\afassihizakeri\\Leftsidemovies\\ar41motor\\2022_07_28\\247DLC_resnet50_SideviewLeft_Feb2022Feb8shuffle1_271000_filtered.csv\n",
      "\\\\dk-server.dk.ucsd.edu\\afassihizakeri\\Leftsidemovies\\ar41motor\\2022_07_28\\6DLC_resnet50_SideviewLeft_Feb2022Feb8shuffle1_271000_filtered.csv\n",
      "\\\\dk-server.dk.ucsd.edu\\afassihizakeri\\Leftsidemovies\\ar41motor\\2022_07_28\\54DLC_resnet50_SideviewLeft_Feb2022Feb8shuffle1_271000_filtered.csv\n",
      "\\\\dk-server.dk.ucsd.edu\\afassihizakeri\\Leftsidemovies\\ar41motor\\2022_07_28\\220DLC_resnet50_SideviewLeft_Feb2022Feb8shuffle1_271000_filtered.csv\n",
      "\\\\dk-server.dk.ucsd.edu\\afassihizakeri\\Leftsidemovies\\ar41motor\\2022_07_28\\199DLC_resnet50_SideviewLeft_Feb2022Feb8shuffle1_271000_filtered.csv\n",
      "\\\\dk-server.dk.ucsd.edu\\afassihizakeri\\Leftsidemovies\\ar41motor\\2022_07_28\\33DLC_resnet50_SideviewLeft_Feb2022Feb8shuffle1_271000_filtered.csv\n",
      "\\\\dk-server.dk.ucsd.edu\\afassihizakeri\\Leftsidemovies\\ar41motor\\2022_07_28\\141DLC_resnet50_SideviewLeft_Feb2022Feb8shuffle1_271000_filtered.csv\n",
      "\\\\dk-server.dk.ucsd.edu\\afassihizakeri\\Leftsidemovies\\ar41motor\\2022_07_28\\69DLC_resnet50_SideviewLeft_Feb2022Feb8shuffle1_271000_filtered.csv\n",
      "\\\\dk-server.dk.ucsd.edu\\afassihizakeri\\Leftsidemovies\\ar41motor\\2022_07_28\\126DLC_resnet50_SideviewLeft_Feb2022Feb8shuffle1_271000_filtered.csv\n",
      "\\\\dk-server.dk.ucsd.edu\\afassihizakeri\\Leftsidemovies\\ar41motor\\2022_07_28\\25DLC_resnet50_SideviewLeft_Feb2022Feb8shuffle1_271000_filtered.csv\n",
      "\\\\dk-server.dk.ucsd.edu\\afassihizakeri\\Leftsidemovies\\ar41motor\\2022_07_28\\236DLC_resnet50_SideviewLeft_Feb2022Feb8shuffle1_271000_filtered.csv\n",
      "\\\\dk-server.dk.ucsd.edu\\afassihizakeri\\Leftsidemovies\\ar41motor\\2022_07_28\\42DLC_resnet50_SideviewLeft_Feb2022Feb8shuffle1_271000_filtered.csv\n",
      "\\\\dk-server.dk.ucsd.edu\\afassihizakeri\\Leftsidemovies\\ar41motor\\2022_07_28\\251DLC_resnet50_SideviewLeft_Feb2022Feb8shuffle1_271000_filtered.csv\n",
      "\\\\dk-server.dk.ucsd.edu\\afassihizakeri\\Leftsidemovies\\ar41motor\\2022_07_28\\137DLC_resnet50_SideviewLeft_Feb2022Feb8shuffle1_271000_filtered.csv\n",
      "\\\\dk-server.dk.ucsd.edu\\afassihizakeri\\Leftsidemovies\\ar41motor\\2022_07_28\\78DLC_resnet50_SideviewLeft_Feb2022Feb8shuffle1_271000_filtered.csv\n",
      "\\\\dk-server.dk.ucsd.edu\\afassihizakeri\\Leftsidemovies\\ar41motor\\2022_07_28\\150DLC_resnet50_SideviewLeft_Feb2022Feb8shuffle1_271000_filtered.csv\n",
      "\\\\dk-server.dk.ucsd.edu\\afassihizakeri\\Leftsidemovies\\ar41motor\\2022_07_28\\240DLC_resnet50_SideviewLeft_Feb2022Feb8shuffle1_271000_filtered.csv\n",
      "\\\\dk-server.dk.ucsd.edu\\afassihizakeri\\Leftsidemovies\\ar41motor\\2022_07_28\\1DLC_resnet50_SideviewLeft_Feb2022Feb8shuffle1_271000_filtered.csv\n",
      "\\\\dk-server.dk.ucsd.edu\\afassihizakeri\\Leftsidemovies\\ar41motor\\2022_07_28\\53DLC_resnet50_SideviewLeft_Feb2022Feb8shuffle1_271000_filtered.csv\n",
      "\\\\dk-server.dk.ucsd.edu\\afassihizakeri\\Leftsidemovies\\ar41motor\\2022_07_28\\227DLC_resnet50_SideviewLeft_Feb2022Feb8shuffle1_271000_filtered.csv\n",
      "\\\\dk-server.dk.ucsd.edu\\afassihizakeri\\Leftsidemovies\\ar41motor\\2022_07_28\\34DLC_resnet50_SideviewLeft_Feb2022Feb8shuffle1_271000_filtered.csv\n",
      "\\\\dk-server.dk.ucsd.edu\\afassihizakeri\\Leftsidemovies\\ar41motor\\2022_07_28\\146DLC_resnet50_SideviewLeft_Feb2022Feb8shuffle1_271000_filtered.csv\n",
      "\\\\dk-server.dk.ucsd.edu\\afassihizakeri\\Leftsidemovies\\ar41motor\\2022_07_28\\121DLC_resnet50_SideviewLeft_Feb2022Feb8shuffle1_271000_filtered.csv\n",
      "\\\\dk-server.dk.ucsd.edu\\afassihizakeri\\Leftsidemovies\\ar41motor\\2022_07_28\\188DLC_resnet50_SideviewLeft_Feb2022Feb8shuffle1_271000_filtered.csv\n",
      "\\\\dk-server.dk.ucsd.edu\\afassihizakeri\\Leftsidemovies\\ar41motor\\2022_07_28\\22DLC_resnet50_SideviewLeft_Feb2022Feb8shuffle1_271000_filtered.csv\n",
      "\\\\dk-server.dk.ucsd.edu\\afassihizakeri\\Leftsidemovies\\ar41motor\\2022_07_28\\231DLC_resnet50_SideviewLeft_Feb2022Feb8shuffle1_271000_filtered.csv\n",
      "\\\\dk-server.dk.ucsd.edu\\afassihizakeri\\Leftsidemovies\\ar41motor\\2022_07_28\\45DLC_resnet50_SideviewLeft_Feb2022Feb8shuffle1_271000_filtered.csv\n",
      "\\\\dk-server.dk.ucsd.edu\\afassihizakeri\\Leftsidemovies\\ar41motor\\2022_07_28\\256DLC_resnet50_SideviewLeft_Feb2022Feb8shuffle1_271000_filtered.csv\n",
      "\\\\dk-server.dk.ucsd.edu\\afassihizakeri\\Leftsidemovies\\ar41motor\\2022_07_28\\16DLC_resnet50_SideviewLeft_Feb2022Feb8shuffle1_271000_filtered.csv\n",
      "\\\\dk-server.dk.ucsd.edu\\afassihizakeri\\Leftsidemovies\\ar41motor\\2022_07_28\\205DLC_resnet50_SideviewLeft_Feb2022Feb8shuffle1_271000_filtered.csv\n",
      "\\\\dk-server.dk.ucsd.edu\\afassihizakeri\\Leftsidemovies\\ar41motor\\2022_07_28\\94DLC_resnet50_SideviewLeft_Feb2022Feb8shuffle1_271000_filtered.csv\n",
      "\\\\dk-server.dk.ucsd.edu\\afassihizakeri\\Leftsidemovies\\ar41motor\\2022_07_28\\71DLC_resnet50_SideviewLeft_Feb2022Feb8shuffle1_271000_filtered.csv\n",
      "\\\\dk-server.dk.ucsd.edu\\afassihizakeri\\Leftsidemovies\\ar41motor\\2022_07_28\\159DLC_resnet50_SideviewLeft_Feb2022Feb8shuffle1_271000_filtered.csv\n",
      "\\\\dk-server.dk.ucsd.edu\\afassihizakeri\\Leftsidemovies\\ar41motor\\2022_07_28\\172DLC_resnet50_SideviewLeft_Feb2022Feb8shuffle1_271000_filtered.csv\n",
      "\\\\dk-server.dk.ucsd.edu\\afassihizakeri\\Leftsidemovies\\ar41motor\\2022_07_28\\249DLC_resnet50_SideviewLeft_Feb2022Feb8shuffle1_271000_filtered.csv\n"
     ]
    },
    {
     "name": "stdout",
     "output_type": "stream",
     "text": [
      "\\\\dk-server.dk.ucsd.edu\\afassihizakeri\\Leftsidemovies\\ar41motor\\2022_07_28\\8DLC_resnet50_SideviewLeft_Feb2022Feb8shuffle1_271000_filtered.csv\n",
      "\\\\dk-server.dk.ucsd.edu\\afassihizakeri\\Leftsidemovies\\ar41motor\\2022_07_28\\115DLC_resnet50_SideviewLeft_Feb2022Feb8shuffle1_271000_filtered.csv\n",
      "\\\\dk-server.dk.ucsd.edu\\afassihizakeri\\Leftsidemovies\\ar41motor\\2022_07_28\\197DLC_resnet50_SideviewLeft_Feb2022Feb8shuffle1_271000_filtered.csv\n",
      "\\\\dk-server.dk.ucsd.edu\\afassihizakeri\\Leftsidemovies\\ar41motor\\2022_07_28\\67DLC_resnet50_SideviewLeft_Feb2022Feb8shuffle1_271000_filtered.csv\n",
      "\\\\dk-server.dk.ucsd.edu\\afassihizakeri\\Leftsidemovies\\ar41motor\\2022_07_28\\82DLC_resnet50_SideviewLeft_Feb2022Feb8shuffle1_271000_filtered.csv\n",
      "\\\\dk-server.dk.ucsd.edu\\afassihizakeri\\Leftsidemovies\\ar41motor\\2022_07_28\\128DLC_resnet50_SideviewLeft_Feb2022Feb8shuffle1_271000_filtered.csv\n",
      "\\\\dk-server.dk.ucsd.edu\\afassihizakeri\\Leftsidemovies\\ar41motor\\2022_07_28\\213DLC_resnet50_SideviewLeft_Feb2022Feb8shuffle1_271000_filtered.csv\n",
      "\\\\dk-server.dk.ucsd.edu\\afassihizakeri\\Leftsidemovies\\ar41motor\\2022_07_28\\181DLC_resnet50_SideviewLeft_Feb2022Feb8shuffle1_271000_filtered.csv\n",
      "\\\\dk-server.dk.ucsd.edu\\afassihizakeri\\Leftsidemovies\\ar41motor\\2022_07_28\\238DLC_resnet50_SideviewLeft_Feb2022Feb8shuffle1_271000_filtered.csv\n",
      "\\\\dk-server.dk.ucsd.edu\\afassihizakeri\\Leftsidemovies\\ar41motor\\2022_07_28\\103DLC_resnet50_SideviewLeft_Feb2022Feb8shuffle1_271000_filtered.csv\n",
      "\\\\dk-server.dk.ucsd.edu\\afassihizakeri\\Leftsidemovies\\ar41motor\\2022_07_28\\164DLC_resnet50_SideviewLeft_Feb2022Feb8shuffle1_271000_filtered.csv\n",
      "\\\\dk-server.dk.ucsd.edu\\afassihizakeri\\Leftsidemovies\\ar41motor\\2022_07_28\\11DLC_resnet50_SideviewLeft_Feb2022Feb8shuffle1_271000_filtered.csv\n",
      "\\\\dk-server.dk.ucsd.edu\\afassihizakeri\\Leftsidemovies\\ar41motor\\2022_07_28\\202DLC_resnet50_SideviewLeft_Feb2022Feb8shuffle1_271000_filtered.csv\n",
      "\\\\dk-server.dk.ucsd.edu\\afassihizakeri\\Leftsidemovies\\ar41motor\\2022_07_28\\93DLC_resnet50_SideviewLeft_Feb2022Feb8shuffle1_271000_filtered.csv\n",
      "\\\\dk-server.dk.ucsd.edu\\afassihizakeri\\Leftsidemovies\\ar41motor\\2022_07_28\\139DLC_resnet50_SideviewLeft_Feb2022Feb8shuffle1_271000_filtered.csv\n",
      "\\\\dk-server.dk.ucsd.edu\\afassihizakeri\\Leftsidemovies\\ar41motor\\2022_07_28\\76DLC_resnet50_SideviewLeft_Feb2022Feb8shuffle1_271000_filtered.csv\n",
      "\\\\dk-server.dk.ucsd.edu\\afassihizakeri\\Leftsidemovies\\ar41motor\\2022_07_28\\175DLC_resnet50_SideviewLeft_Feb2022Feb8shuffle1_271000_filtered.csv\n",
      "\\\\dk-server.dk.ucsd.edu\\afassihizakeri\\Leftsidemovies\\ar41motor\\2022_07_28\\112DLC_resnet50_SideviewLeft_Feb2022Feb8shuffle1_271000_filtered.csv\n",
      "\\\\dk-server.dk.ucsd.edu\\afassihizakeri\\Leftsidemovies\\ar41motor\\2022_07_28\\229DLC_resnet50_SideviewLeft_Feb2022Feb8shuffle1_271000_filtered.csv\n",
      "\\\\dk-server.dk.ucsd.edu\\afassihizakeri\\Leftsidemovies\\ar41motor\\2022_07_28\\190DLC_resnet50_SideviewLeft_Feb2022Feb8shuffle1_271000_filtered.csv\n",
      "\\\\dk-server.dk.ucsd.edu\\afassihizakeri\\Leftsidemovies\\ar41motor\\2022_07_28\\148DLC_resnet50_SideviewLeft_Feb2022Feb8shuffle1_271000_filtered.csv\n",
      "\\\\dk-server.dk.ucsd.edu\\afassihizakeri\\Leftsidemovies\\ar41motor\\2022_07_28\\60DLC_resnet50_SideviewLeft_Feb2022Feb8shuffle1_271000_filtered.csv\n",
      "\\\\dk-server.dk.ucsd.edu\\afassihizakeri\\Leftsidemovies\\ar41motor\\2022_07_28\\85DLC_resnet50_SideviewLeft_Feb2022Feb8shuffle1_271000_filtered.csv\n",
      "\\\\dk-server.dk.ucsd.edu\\afassihizakeri\\Leftsidemovies\\ar41motor\\2022_07_28\\214DLC_resnet50_SideviewLeft_Feb2022Feb8shuffle1_271000_filtered.csv\n",
      "\\\\dk-server.dk.ucsd.edu\\afassihizakeri\\Leftsidemovies\\ar41motor\\2022_07_28\\186DLC_resnet50_SideviewLeft_Feb2022Feb8shuffle1_271000_filtered.csv\n",
      "\\\\dk-server.dk.ucsd.edu\\afassihizakeri\\Leftsidemovies\\ar41motor\\2022_07_28\\104DLC_resnet50_SideviewLeft_Feb2022Feb8shuffle1_271000_filtered.csv\n",
      "\\\\dk-server.dk.ucsd.edu\\afassihizakeri\\Leftsidemovies\\ar41motor\\2022_07_28\\258DLC_resnet50_SideviewLeft_Feb2022Feb8shuffle1_271000_filtered.csv\n",
      "\\\\dk-server.dk.ucsd.edu\\afassihizakeri\\Leftsidemovies\\ar41motor\\2022_07_28\\163DLC_resnet50_SideviewLeft_Feb2022Feb8shuffle1_271000_filtered.csv\n"
     ]
    }
   ],
   "source": [
    "import extract_eye_imagesion \n",
    "extract_eye_imagesion.extract_eye_videos(Mainfolder,'DLC_resnet50_SideviewLeft_Feb2022Feb8shuffle1_271000_filtered')"
   ]
  },
  {
   "cell_type": "code",
   "execution_count": null,
   "metadata": {},
   "outputs": [],
   "source": []
  },
  {
   "cell_type": "markdown",
   "metadata": {},
   "source": [
    "## this step is to load analze eye data"
   ]
  },
  {
   "cell_type": "code",
   "execution_count": null,
   "metadata": {},
   "outputs": [],
   "source": [
    "import deeplabcut\n",
    "## https://github.com/AlexEMG/DeepLabCut"
   ]
  },
  {
   "cell_type": "code",
   "execution_count": 16,
   "metadata": {},
   "outputs": [
    {
     "name": "stdout",
     "output_type": "stream",
     "text": [
      "D:\\Sidevideos\\ar41motor\\2022_07_28\\102EYE.avi\n",
      "Filtering with median model D:\\Sidevideos\\ar41motor\\2022_07_28\\0EYE.avi\n",
      "Saving filtered csv poses!\n",
      "Filtering with median model D:\\Sidevideos\\ar41motor\\2022_07_28\\100EYE.avi\n",
      "Saving filtered csv poses!\n",
      "Filtering with median model D:\\Sidevideos\\ar41motor\\2022_07_28\\101EYE.avi\n",
      "Saving filtered csv poses!\n",
      "Filtering with median model D:\\Sidevideos\\ar41motor\\2022_07_28\\102EYE.avi\n",
      "Data from 102EYE were already filtered. Skipping...\n",
      "Filtering with median model D:\\Sidevideos\\ar41motor\\2022_07_28\\103EYE.avi\n",
      "Saving filtered csv poses!\n",
      "Filtering with median model D:\\Sidevideos\\ar41motor\\2022_07_28\\104EYE.avi\n",
      "Saving filtered csv poses!\n",
      "Filtering with median model D:\\Sidevideos\\ar41motor\\2022_07_28\\105EYE.avi\n",
      "Saving filtered csv poses!\n",
      "Filtering with median model D:\\Sidevideos\\ar41motor\\2022_07_28\\106EYE.avi\n",
      "Saving filtered csv poses!\n",
      "Filtering with median model D:\\Sidevideos\\ar41motor\\2022_07_28\\107EYE.avi\n",
      "Saving filtered csv poses!\n",
      "Filtering with median model D:\\Sidevideos\\ar41motor\\2022_07_28\\108EYE.avi\n",
      "Saving filtered csv poses!\n",
      "Filtering with median model D:\\Sidevideos\\ar41motor\\2022_07_28\\109EYE.avi\n",
      "Saving filtered csv poses!\n",
      "Filtering with median model D:\\Sidevideos\\ar41motor\\2022_07_28\\10EYE.avi\n",
      "Saving filtered csv poses!\n",
      "Filtering with median model D:\\Sidevideos\\ar41motor\\2022_07_28\\110EYE.avi\n",
      "Saving filtered csv poses!\n",
      "Filtering with median model D:\\Sidevideos\\ar41motor\\2022_07_28\\111EYE.avi\n",
      "Saving filtered csv poses!\n",
      "Filtering with median model D:\\Sidevideos\\ar41motor\\2022_07_28\\112EYE.avi\n",
      "Saving filtered csv poses!\n",
      "Filtering with median model D:\\Sidevideos\\ar41motor\\2022_07_28\\113EYE.avi\n",
      "Saving filtered csv poses!\n",
      "Filtering with median model D:\\Sidevideos\\ar41motor\\2022_07_28\\114EYE.avi\n",
      "Saving filtered csv poses!\n",
      "Filtering with median model D:\\Sidevideos\\ar41motor\\2022_07_28\\115EYE.avi\n",
      "Saving filtered csv poses!\n",
      "Filtering with median model D:\\Sidevideos\\ar41motor\\2022_07_28\\116EYE.avi\n",
      "Saving filtered csv poses!\n",
      "Filtering with median model D:\\Sidevideos\\ar41motor\\2022_07_28\\117EYE.avi\n",
      "Saving filtered csv poses!\n",
      "Filtering with median model D:\\Sidevideos\\ar41motor\\2022_07_28\\118EYE.avi\n",
      "Saving filtered csv poses!\n",
      "Filtering with median model D:\\Sidevideos\\ar41motor\\2022_07_28\\119EYE.avi\n",
      "Saving filtered csv poses!\n",
      "Filtering with median model D:\\Sidevideos\\ar41motor\\2022_07_28\\11EYE.avi\n",
      "Saving filtered csv poses!\n",
      "Filtering with median model D:\\Sidevideos\\ar41motor\\2022_07_28\\120EYE.avi\n",
      "Saving filtered csv poses!\n",
      "Filtering with median model D:\\Sidevideos\\ar41motor\\2022_07_28\\121EYE.avi\n",
      "Saving filtered csv poses!\n",
      "Filtering with median model D:\\Sidevideos\\ar41motor\\2022_07_28\\122EYE.avi\n",
      "Saving filtered csv poses!\n",
      "Filtering with median model D:\\Sidevideos\\ar41motor\\2022_07_28\\123EYE.avi\n",
      "Saving filtered csv poses!\n",
      "Filtering with median model D:\\Sidevideos\\ar41motor\\2022_07_28\\124EYE.avi\n",
      "Saving filtered csv poses!\n",
      "Filtering with median model D:\\Sidevideos\\ar41motor\\2022_07_28\\125EYE.avi\n",
      "Saving filtered csv poses!\n",
      "Filtering with median model D:\\Sidevideos\\ar41motor\\2022_07_28\\126EYE.avi\n",
      "Saving filtered csv poses!\n",
      "Filtering with median model D:\\Sidevideos\\ar41motor\\2022_07_28\\127EYE.avi\n",
      "Saving filtered csv poses!\n",
      "Filtering with median model D:\\Sidevideos\\ar41motor\\2022_07_28\\128EYE.avi\n",
      "Saving filtered csv poses!\n",
      "Filtering with median model D:\\Sidevideos\\ar41motor\\2022_07_28\\129EYE.avi\n",
      "Saving filtered csv poses!\n",
      "Filtering with median model D:\\Sidevideos\\ar41motor\\2022_07_28\\12EYE.avi\n",
      "Saving filtered csv poses!\n",
      "Filtering with median model D:\\Sidevideos\\ar41motor\\2022_07_28\\130EYE.avi\n",
      "Saving filtered csv poses!\n",
      "Filtering with median model D:\\Sidevideos\\ar41motor\\2022_07_28\\131EYE.avi\n",
      "Saving filtered csv poses!\n",
      "Filtering with median model D:\\Sidevideos\\ar41motor\\2022_07_28\\132EYE.avi\n",
      "Saving filtered csv poses!\n",
      "Filtering with median model D:\\Sidevideos\\ar41motor\\2022_07_28\\133EYE.avi\n",
      "Saving filtered csv poses!\n",
      "Filtering with median model D:\\Sidevideos\\ar41motor\\2022_07_28\\134EYE.avi\n",
      "Saving filtered csv poses!\n",
      "Filtering with median model D:\\Sidevideos\\ar41motor\\2022_07_28\\135EYE.avi\n",
      "Saving filtered csv poses!\n",
      "Filtering with median model D:\\Sidevideos\\ar41motor\\2022_07_28\\136EYE.avi\n",
      "Saving filtered csv poses!\n",
      "Filtering with median model D:\\Sidevideos\\ar41motor\\2022_07_28\\137EYE.avi\n",
      "Saving filtered csv poses!\n",
      "Filtering with median model D:\\Sidevideos\\ar41motor\\2022_07_28\\138EYE.avi\n",
      "Saving filtered csv poses!\n",
      "Filtering with median model D:\\Sidevideos\\ar41motor\\2022_07_28\\139EYE.avi\n",
      "Saving filtered csv poses!\n",
      "Filtering with median model D:\\Sidevideos\\ar41motor\\2022_07_28\\13EYE.avi\n",
      "Saving filtered csv poses!\n",
      "Filtering with median model D:\\Sidevideos\\ar41motor\\2022_07_28\\140EYE.avi\n",
      "Saving filtered csv poses!\n",
      "Filtering with median model D:\\Sidevideos\\ar41motor\\2022_07_28\\141EYE.avi\n",
      "Saving filtered csv poses!\n",
      "Filtering with median model D:\\Sidevideos\\ar41motor\\2022_07_28\\142EYE.avi\n",
      "Saving filtered csv poses!\n",
      "Filtering with median model D:\\Sidevideos\\ar41motor\\2022_07_28\\143EYE.avi\n",
      "Saving filtered csv poses!\n",
      "Filtering with median model D:\\Sidevideos\\ar41motor\\2022_07_28\\144EYE.avi\n",
      "Saving filtered csv poses!\n",
      "Filtering with median model D:\\Sidevideos\\ar41motor\\2022_07_28\\145EYE.avi\n",
      "Saving filtered csv poses!\n",
      "Filtering with median model D:\\Sidevideos\\ar41motor\\2022_07_28\\146EYE.avi\n",
      "Saving filtered csv poses!\n",
      "Filtering with median model D:\\Sidevideos\\ar41motor\\2022_07_28\\147EYE.avi\n",
      "Saving filtered csv poses!\n",
      "Filtering with median model D:\\Sidevideos\\ar41motor\\2022_07_28\\148EYE.avi\n",
      "Saving filtered csv poses!\n",
      "Filtering with median model D:\\Sidevideos\\ar41motor\\2022_07_28\\149EYE.avi\n",
      "Saving filtered csv poses!\n",
      "Filtering with median model D:\\Sidevideos\\ar41motor\\2022_07_28\\14EYE.avi\n",
      "Saving filtered csv poses!\n",
      "Filtering with median model D:\\Sidevideos\\ar41motor\\2022_07_28\\150EYE.avi\n",
      "Saving filtered csv poses!\n",
      "Filtering with median model D:\\Sidevideos\\ar41motor\\2022_07_28\\151EYE.avi\n",
      "Saving filtered csv poses!\n",
      "Filtering with median model D:\\Sidevideos\\ar41motor\\2022_07_28\\152EYE.avi\n",
      "Saving filtered csv poses!\n",
      "Filtering with median model D:\\Sidevideos\\ar41motor\\2022_07_28\\153EYE.avi\n",
      "Saving filtered csv poses!\n",
      "Filtering with median model D:\\Sidevideos\\ar41motor\\2022_07_28\\154EYE.avi\n",
      "Saving filtered csv poses!\n",
      "Filtering with median model D:\\Sidevideos\\ar41motor\\2022_07_28\\155EYE.avi\n",
      "Saving filtered csv poses!\n",
      "Filtering with median model D:\\Sidevideos\\ar41motor\\2022_07_28\\156EYE.avi\n",
      "Saving filtered csv poses!\n",
      "Filtering with median model D:\\Sidevideos\\ar41motor\\2022_07_28\\157EYE.avi\n",
      "Saving filtered csv poses!\n",
      "Filtering with median model D:\\Sidevideos\\ar41motor\\2022_07_28\\158EYE.avi\n",
      "Saving filtered csv poses!\n",
      "Filtering with median model D:\\Sidevideos\\ar41motor\\2022_07_28\\159EYE.avi\n",
      "Saving filtered csv poses!\n",
      "Filtering with median model D:\\Sidevideos\\ar41motor\\2022_07_28\\15EYE.avi\n",
      "Saving filtered csv poses!\n",
      "Filtering with median model D:\\Sidevideos\\ar41motor\\2022_07_28\\160EYE.avi\n",
      "Saving filtered csv poses!\n",
      "Filtering with median model D:\\Sidevideos\\ar41motor\\2022_07_28\\161EYE.avi\n",
      "Saving filtered csv poses!\n",
      "Filtering with median model D:\\Sidevideos\\ar41motor\\2022_07_28\\162EYE.avi\n",
      "Saving filtered csv poses!\n",
      "Filtering with median model D:\\Sidevideos\\ar41motor\\2022_07_28\\163EYE.avi\n",
      "Saving filtered csv poses!\n",
      "Filtering with median model D:\\Sidevideos\\ar41motor\\2022_07_28\\164EYE.avi\n",
      "Saving filtered csv poses!\n",
      "Filtering with median model D:\\Sidevideos\\ar41motor\\2022_07_28\\165EYE.avi\n",
      "Saving filtered csv poses!\n",
      "Filtering with median model D:\\Sidevideos\\ar41motor\\2022_07_28\\166EYE.avi\n",
      "Saving filtered csv poses!\n",
      "Filtering with median model D:\\Sidevideos\\ar41motor\\2022_07_28\\167EYE.avi\n",
      "Saving filtered csv poses!\n",
      "Filtering with median model D:\\Sidevideos\\ar41motor\\2022_07_28\\168EYE.avi\n",
      "Saving filtered csv poses!\n",
      "Filtering with median model D:\\Sidevideos\\ar41motor\\2022_07_28\\169EYE.avi\n",
      "Saving filtered csv poses!\n",
      "Filtering with median model D:\\Sidevideos\\ar41motor\\2022_07_28\\16EYE.avi\n",
      "Saving filtered csv poses!\n",
      "Filtering with median model D:\\Sidevideos\\ar41motor\\2022_07_28\\170EYE.avi\n",
      "Saving filtered csv poses!\n",
      "Filtering with median model D:\\Sidevideos\\ar41motor\\2022_07_28\\171EYE.avi\n",
      "Saving filtered csv poses!\n",
      "Filtering with median model D:\\Sidevideos\\ar41motor\\2022_07_28\\172EYE.avi\n"
     ]
    },
    {
     "name": "stdout",
     "output_type": "stream",
     "text": [
      "Saving filtered csv poses!\n",
      "Filtering with median model D:\\Sidevideos\\ar41motor\\2022_07_28\\173EYE.avi\n",
      "Saving filtered csv poses!\n",
      "Filtering with median model D:\\Sidevideos\\ar41motor\\2022_07_28\\174EYE.avi\n",
      "Saving filtered csv poses!\n",
      "Filtering with median model D:\\Sidevideos\\ar41motor\\2022_07_28\\175EYE.avi\n",
      "Saving filtered csv poses!\n",
      "Filtering with median model D:\\Sidevideos\\ar41motor\\2022_07_28\\176EYE.avi\n",
      "Saving filtered csv poses!\n",
      "Filtering with median model D:\\Sidevideos\\ar41motor\\2022_07_28\\177EYE.avi\n",
      "Saving filtered csv poses!\n",
      "Filtering with median model D:\\Sidevideos\\ar41motor\\2022_07_28\\178EYE.avi\n",
      "Saving filtered csv poses!\n",
      "Filtering with median model D:\\Sidevideos\\ar41motor\\2022_07_28\\179EYE.avi\n",
      "Saving filtered csv poses!\n",
      "Filtering with median model D:\\Sidevideos\\ar41motor\\2022_07_28\\17EYE.avi\n",
      "Saving filtered csv poses!\n",
      "Filtering with median model D:\\Sidevideos\\ar41motor\\2022_07_28\\180EYE.avi\n",
      "Saving filtered csv poses!\n",
      "Filtering with median model D:\\Sidevideos\\ar41motor\\2022_07_28\\181EYE.avi\n",
      "Saving filtered csv poses!\n",
      "Filtering with median model D:\\Sidevideos\\ar41motor\\2022_07_28\\182EYE.avi\n",
      "Saving filtered csv poses!\n",
      "Filtering with median model D:\\Sidevideos\\ar41motor\\2022_07_28\\183EYE.avi\n",
      "Saving filtered csv poses!\n",
      "Filtering with median model D:\\Sidevideos\\ar41motor\\2022_07_28\\184EYE.avi\n",
      "Saving filtered csv poses!\n",
      "Filtering with median model D:\\Sidevideos\\ar41motor\\2022_07_28\\185EYE.avi\n",
      "Saving filtered csv poses!\n",
      "Filtering with median model D:\\Sidevideos\\ar41motor\\2022_07_28\\186EYE.avi\n",
      "Saving filtered csv poses!\n",
      "Filtering with median model D:\\Sidevideos\\ar41motor\\2022_07_28\\187EYE.avi\n",
      "Saving filtered csv poses!\n",
      "Filtering with median model D:\\Sidevideos\\ar41motor\\2022_07_28\\188EYE.avi\n",
      "Saving filtered csv poses!\n",
      "Filtering with median model D:\\Sidevideos\\ar41motor\\2022_07_28\\189EYE.avi\n",
      "Saving filtered csv poses!\n",
      "Filtering with median model D:\\Sidevideos\\ar41motor\\2022_07_28\\18EYE.avi\n",
      "Saving filtered csv poses!\n",
      "Filtering with median model D:\\Sidevideos\\ar41motor\\2022_07_28\\190EYE.avi\n",
      "Saving filtered csv poses!\n",
      "Filtering with median model D:\\Sidevideos\\ar41motor\\2022_07_28\\191EYE.avi\n",
      "Saving filtered csv poses!\n",
      "Filtering with median model D:\\Sidevideos\\ar41motor\\2022_07_28\\192EYE.avi\n",
      "Saving filtered csv poses!\n",
      "Filtering with median model D:\\Sidevideos\\ar41motor\\2022_07_28\\193EYE.avi\n",
      "Saving filtered csv poses!\n",
      "Filtering with median model D:\\Sidevideos\\ar41motor\\2022_07_28\\194EYE.avi\n",
      "Saving filtered csv poses!\n",
      "Filtering with median model D:\\Sidevideos\\ar41motor\\2022_07_28\\195EYE.avi\n",
      "Saving filtered csv poses!\n",
      "Filtering with median model D:\\Sidevideos\\ar41motor\\2022_07_28\\196EYE.avi\n",
      "Saving filtered csv poses!\n",
      "Filtering with median model D:\\Sidevideos\\ar41motor\\2022_07_28\\197EYE.avi\n",
      "Saving filtered csv poses!\n",
      "Filtering with median model D:\\Sidevideos\\ar41motor\\2022_07_28\\198EYE.avi\n",
      "Saving filtered csv poses!\n",
      "Filtering with median model D:\\Sidevideos\\ar41motor\\2022_07_28\\199EYE.avi\n",
      "Saving filtered csv poses!\n",
      "Filtering with median model D:\\Sidevideos\\ar41motor\\2022_07_28\\19EYE.avi\n",
      "Saving filtered csv poses!\n",
      "Filtering with median model D:\\Sidevideos\\ar41motor\\2022_07_28\\1EYE.avi\n",
      "Saving filtered csv poses!\n",
      "Filtering with median model D:\\Sidevideos\\ar41motor\\2022_07_28\\200EYE.avi\n",
      "Saving filtered csv poses!\n",
      "Filtering with median model D:\\Sidevideos\\ar41motor\\2022_07_28\\201EYE.avi\n",
      "Saving filtered csv poses!\n",
      "Filtering with median model D:\\Sidevideos\\ar41motor\\2022_07_28\\202EYE.avi\n",
      "Saving filtered csv poses!\n",
      "Filtering with median model D:\\Sidevideos\\ar41motor\\2022_07_28\\203EYE.avi\n",
      "Saving filtered csv poses!\n",
      "Filtering with median model D:\\Sidevideos\\ar41motor\\2022_07_28\\204EYE.avi\n",
      "Saving filtered csv poses!\n",
      "Filtering with median model D:\\Sidevideos\\ar41motor\\2022_07_28\\205EYE.avi\n",
      "Saving filtered csv poses!\n",
      "Filtering with median model D:\\Sidevideos\\ar41motor\\2022_07_28\\206EYE.avi\n",
      "Saving filtered csv poses!\n",
      "Filtering with median model D:\\Sidevideos\\ar41motor\\2022_07_28\\207EYE.avi\n",
      "Saving filtered csv poses!\n",
      "Filtering with median model D:\\Sidevideos\\ar41motor\\2022_07_28\\208EYE.avi\n",
      "Saving filtered csv poses!\n",
      "Filtering with median model D:\\Sidevideos\\ar41motor\\2022_07_28\\209EYE.avi\n",
      "Saving filtered csv poses!\n",
      "Filtering with median model D:\\Sidevideos\\ar41motor\\2022_07_28\\20EYE.avi\n",
      "Saving filtered csv poses!\n",
      "Filtering with median model D:\\Sidevideos\\ar41motor\\2022_07_28\\210EYE.avi\n",
      "Saving filtered csv poses!\n",
      "Filtering with median model D:\\Sidevideos\\ar41motor\\2022_07_28\\211EYE.avi\n",
      "Saving filtered csv poses!\n",
      "Filtering with median model D:\\Sidevideos\\ar41motor\\2022_07_28\\212EYE.avi\n",
      "Saving filtered csv poses!\n",
      "Filtering with median model D:\\Sidevideos\\ar41motor\\2022_07_28\\213EYE.avi\n",
      "Saving filtered csv poses!\n",
      "Filtering with median model D:\\Sidevideos\\ar41motor\\2022_07_28\\214EYE.avi\n",
      "Saving filtered csv poses!\n",
      "Filtering with median model D:\\Sidevideos\\ar41motor\\2022_07_28\\215EYE.avi\n",
      "Saving filtered csv poses!\n",
      "Filtering with median model D:\\Sidevideos\\ar41motor\\2022_07_28\\216EYE.avi\n",
      "Saving filtered csv poses!\n",
      "Filtering with median model D:\\Sidevideos\\ar41motor\\2022_07_28\\217EYE.avi\n",
      "Saving filtered csv poses!\n",
      "Filtering with median model D:\\Sidevideos\\ar41motor\\2022_07_28\\218EYE.avi\n",
      "Saving filtered csv poses!\n",
      "Filtering with median model D:\\Sidevideos\\ar41motor\\2022_07_28\\219EYE.avi\n",
      "Saving filtered csv poses!\n",
      "Filtering with median model D:\\Sidevideos\\ar41motor\\2022_07_28\\21EYE.avi\n",
      "Saving filtered csv poses!\n",
      "Filtering with median model D:\\Sidevideos\\ar41motor\\2022_07_28\\220EYE.avi\n",
      "Saving filtered csv poses!\n",
      "Filtering with median model D:\\Sidevideos\\ar41motor\\2022_07_28\\221EYE.avi\n",
      "Saving filtered csv poses!\n",
      "Filtering with median model D:\\Sidevideos\\ar41motor\\2022_07_28\\222EYE.avi\n",
      "Saving filtered csv poses!\n",
      "Filtering with median model D:\\Sidevideos\\ar41motor\\2022_07_28\\223EYE.avi\n",
      "Saving filtered csv poses!\n",
      "Filtering with median model D:\\Sidevideos\\ar41motor\\2022_07_28\\224EYE.avi\n",
      "Saving filtered csv poses!\n",
      "Filtering with median model D:\\Sidevideos\\ar41motor\\2022_07_28\\225EYE.avi\n",
      "Saving filtered csv poses!\n",
      "Filtering with median model D:\\Sidevideos\\ar41motor\\2022_07_28\\226EYE.avi\n",
      "Saving filtered csv poses!\n",
      "Filtering with median model D:\\Sidevideos\\ar41motor\\2022_07_28\\227EYE.avi\n",
      "Saving filtered csv poses!\n",
      "Filtering with median model D:\\Sidevideos\\ar41motor\\2022_07_28\\228EYE.avi\n",
      "Saving filtered csv poses!\n",
      "Filtering with median model D:\\Sidevideos\\ar41motor\\2022_07_28\\229EYE.avi\n",
      "Saving filtered csv poses!\n",
      "Filtering with median model D:\\Sidevideos\\ar41motor\\2022_07_28\\22EYE.avi\n",
      "Saving filtered csv poses!\n",
      "Filtering with median model D:\\Sidevideos\\ar41motor\\2022_07_28\\230EYE.avi\n",
      "Saving filtered csv poses!\n",
      "Filtering with median model D:\\Sidevideos\\ar41motor\\2022_07_28\\231EYE.avi\n",
      "Saving filtered csv poses!\n",
      "Filtering with median model D:\\Sidevideos\\ar41motor\\2022_07_28\\232EYE.avi\n",
      "Saving filtered csv poses!\n",
      "Filtering with median model D:\\Sidevideos\\ar41motor\\2022_07_28\\233EYE.avi\n",
      "Saving filtered csv poses!\n",
      "Filtering with median model D:\\Sidevideos\\ar41motor\\2022_07_28\\234EYE.avi\n",
      "Saving filtered csv poses!\n",
      "Filtering with median model D:\\Sidevideos\\ar41motor\\2022_07_28\\235EYE.avi\n",
      "Saving filtered csv poses!\n",
      "Filtering with median model D:\\Sidevideos\\ar41motor\\2022_07_28\\236EYE.avi\n",
      "Saving filtered csv poses!\n",
      "Filtering with median model D:\\Sidevideos\\ar41motor\\2022_07_28\\237EYE.avi\n",
      "Saving filtered csv poses!\n",
      "Filtering with median model D:\\Sidevideos\\ar41motor\\2022_07_28\\238EYE.avi\n",
      "Saving filtered csv poses!\n",
      "Filtering with median model D:\\Sidevideos\\ar41motor\\2022_07_28\\239EYE.avi\n",
      "Saving filtered csv poses!\n",
      "Filtering with median model D:\\Sidevideos\\ar41motor\\2022_07_28\\23EYE.avi\n",
      "Saving filtered csv poses!\n",
      "Filtering with median model D:\\Sidevideos\\ar41motor\\2022_07_28\\240EYE.avi\n",
      "Saving filtered csv poses!\n",
      "Filtering with median model D:\\Sidevideos\\ar41motor\\2022_07_28\\241EYE.avi\n",
      "Saving filtered csv poses!\n",
      "Filtering with median model D:\\Sidevideos\\ar41motor\\2022_07_28\\242EYE.avi\n",
      "Saving filtered csv poses!\n",
      "Filtering with median model D:\\Sidevideos\\ar41motor\\2022_07_28\\243EYE.avi\n",
      "Saving filtered csv poses!\n",
      "Filtering with median model D:\\Sidevideos\\ar41motor\\2022_07_28\\244EYE.avi\n",
      "Saving filtered csv poses!\n",
      "Filtering with median model D:\\Sidevideos\\ar41motor\\2022_07_28\\245EYE.avi\n",
      "Saving filtered csv poses!\n",
      "Filtering with median model D:\\Sidevideos\\ar41motor\\2022_07_28\\246EYE.avi\n"
     ]
    },
    {
     "name": "stdout",
     "output_type": "stream",
     "text": [
      "Saving filtered csv poses!\n",
      "Filtering with median model D:\\Sidevideos\\ar41motor\\2022_07_28\\247EYE.avi\n",
      "Saving filtered csv poses!\n",
      "Filtering with median model D:\\Sidevideos\\ar41motor\\2022_07_28\\248EYE.avi\n",
      "Saving filtered csv poses!\n",
      "Filtering with median model D:\\Sidevideos\\ar41motor\\2022_07_28\\249EYE.avi\n",
      "Saving filtered csv poses!\n",
      "Filtering with median model D:\\Sidevideos\\ar41motor\\2022_07_28\\24EYE.avi\n",
      "Saving filtered csv poses!\n",
      "Filtering with median model D:\\Sidevideos\\ar41motor\\2022_07_28\\250EYE.avi\n",
      "Saving filtered csv poses!\n",
      "Filtering with median model D:\\Sidevideos\\ar41motor\\2022_07_28\\251EYE.avi\n",
      "Saving filtered csv poses!\n",
      "Filtering with median model D:\\Sidevideos\\ar41motor\\2022_07_28\\252EYE.avi\n",
      "Saving filtered csv poses!\n",
      "Filtering with median model D:\\Sidevideos\\ar41motor\\2022_07_28\\253EYE.avi\n",
      "Saving filtered csv poses!\n",
      "Filtering with median model D:\\Sidevideos\\ar41motor\\2022_07_28\\254EYE.avi\n",
      "Saving filtered csv poses!\n",
      "Filtering with median model D:\\Sidevideos\\ar41motor\\2022_07_28\\255EYE.avi\n",
      "Saving filtered csv poses!\n",
      "Filtering with median model D:\\Sidevideos\\ar41motor\\2022_07_28\\256EYE.avi\n",
      "Saving filtered csv poses!\n",
      "Filtering with median model D:\\Sidevideos\\ar41motor\\2022_07_28\\257EYE.avi\n",
      "Saving filtered csv poses!\n",
      "Filtering with median model D:\\Sidevideos\\ar41motor\\2022_07_28\\258EYE.avi\n",
      "Saving filtered csv poses!\n",
      "Filtering with median model D:\\Sidevideos\\ar41motor\\2022_07_28\\259EYE.avi\n",
      "Saving filtered csv poses!\n",
      "Filtering with median model D:\\Sidevideos\\ar41motor\\2022_07_28\\25EYE.avi\n",
      "Saving filtered csv poses!\n",
      "Filtering with median model D:\\Sidevideos\\ar41motor\\2022_07_28\\260EYE.avi\n",
      "Saving filtered csv poses!\n",
      "Filtering with median model D:\\Sidevideos\\ar41motor\\2022_07_28\\26EYE.avi\n",
      "Saving filtered csv poses!\n",
      "Filtering with median model D:\\Sidevideos\\ar41motor\\2022_07_28\\27EYE.avi\n",
      "Saving filtered csv poses!\n",
      "Filtering with median model D:\\Sidevideos\\ar41motor\\2022_07_28\\28EYE.avi\n",
      "Saving filtered csv poses!\n",
      "Filtering with median model D:\\Sidevideos\\ar41motor\\2022_07_28\\29EYE.avi\n",
      "Saving filtered csv poses!\n",
      "Filtering with median model D:\\Sidevideos\\ar41motor\\2022_07_28\\2EYE.avi\n",
      "Saving filtered csv poses!\n",
      "Filtering with median model D:\\Sidevideos\\ar41motor\\2022_07_28\\30EYE.avi\n",
      "Saving filtered csv poses!\n",
      "Filtering with median model D:\\Sidevideos\\ar41motor\\2022_07_28\\31EYE.avi\n",
      "Saving filtered csv poses!\n",
      "Filtering with median model D:\\Sidevideos\\ar41motor\\2022_07_28\\32EYE.avi\n",
      "Saving filtered csv poses!\n",
      "Filtering with median model D:\\Sidevideos\\ar41motor\\2022_07_28\\33EYE.avi\n",
      "Saving filtered csv poses!\n",
      "Filtering with median model D:\\Sidevideos\\ar41motor\\2022_07_28\\34EYE.avi\n",
      "Saving filtered csv poses!\n",
      "Filtering with median model D:\\Sidevideos\\ar41motor\\2022_07_28\\35EYE.avi\n",
      "Saving filtered csv poses!\n",
      "Filtering with median model D:\\Sidevideos\\ar41motor\\2022_07_28\\36EYE.avi\n",
      "Saving filtered csv poses!\n",
      "Filtering with median model D:\\Sidevideos\\ar41motor\\2022_07_28\\37EYE.avi\n",
      "Saving filtered csv poses!\n",
      "Filtering with median model D:\\Sidevideos\\ar41motor\\2022_07_28\\38EYE.avi\n",
      "Saving filtered csv poses!\n",
      "Filtering with median model D:\\Sidevideos\\ar41motor\\2022_07_28\\39EYE.avi\n",
      "Saving filtered csv poses!\n",
      "Filtering with median model D:\\Sidevideos\\ar41motor\\2022_07_28\\3EYE.avi\n",
      "Saving filtered csv poses!\n",
      "Filtering with median model D:\\Sidevideos\\ar41motor\\2022_07_28\\40EYE.avi\n",
      "Saving filtered csv poses!\n",
      "Filtering with median model D:\\Sidevideos\\ar41motor\\2022_07_28\\41EYE.avi\n",
      "Saving filtered csv poses!\n",
      "Filtering with median model D:\\Sidevideos\\ar41motor\\2022_07_28\\42EYE.avi\n",
      "Saving filtered csv poses!\n",
      "Filtering with median model D:\\Sidevideos\\ar41motor\\2022_07_28\\43EYE.avi\n",
      "Saving filtered csv poses!\n",
      "Filtering with median model D:\\Sidevideos\\ar41motor\\2022_07_28\\44EYE.avi\n",
      "Saving filtered csv poses!\n",
      "Filtering with median model D:\\Sidevideos\\ar41motor\\2022_07_28\\45EYE.avi\n",
      "Saving filtered csv poses!\n",
      "Filtering with median model D:\\Sidevideos\\ar41motor\\2022_07_28\\46EYE.avi\n",
      "Saving filtered csv poses!\n",
      "Filtering with median model D:\\Sidevideos\\ar41motor\\2022_07_28\\47EYE.avi\n",
      "Saving filtered csv poses!\n",
      "Filtering with median model D:\\Sidevideos\\ar41motor\\2022_07_28\\48EYE.avi\n",
      "Saving filtered csv poses!\n",
      "Filtering with median model D:\\Sidevideos\\ar41motor\\2022_07_28\\49EYE.avi\n",
      "Saving filtered csv poses!\n",
      "Filtering with median model D:\\Sidevideos\\ar41motor\\2022_07_28\\4EYE.avi\n",
      "Saving filtered csv poses!\n",
      "Filtering with median model D:\\Sidevideos\\ar41motor\\2022_07_28\\50EYE.avi\n",
      "Saving filtered csv poses!\n",
      "Filtering with median model D:\\Sidevideos\\ar41motor\\2022_07_28\\51EYE.avi\n",
      "Saving filtered csv poses!\n",
      "Filtering with median model D:\\Sidevideos\\ar41motor\\2022_07_28\\52EYE.avi\n",
      "Saving filtered csv poses!\n",
      "Filtering with median model D:\\Sidevideos\\ar41motor\\2022_07_28\\53EYE.avi\n",
      "Saving filtered csv poses!\n",
      "Filtering with median model D:\\Sidevideos\\ar41motor\\2022_07_28\\54EYE.avi\n",
      "Saving filtered csv poses!\n",
      "Filtering with median model D:\\Sidevideos\\ar41motor\\2022_07_28\\55EYE.avi\n",
      "Saving filtered csv poses!\n",
      "Filtering with median model D:\\Sidevideos\\ar41motor\\2022_07_28\\56EYE.avi\n",
      "Saving filtered csv poses!\n",
      "Filtering with median model D:\\Sidevideos\\ar41motor\\2022_07_28\\57EYE.avi\n",
      "Saving filtered csv poses!\n",
      "Filtering with median model D:\\Sidevideos\\ar41motor\\2022_07_28\\58EYE.avi\n",
      "Saving filtered csv poses!\n",
      "Filtering with median model D:\\Sidevideos\\ar41motor\\2022_07_28\\59EYE.avi\n",
      "Saving filtered csv poses!\n",
      "Filtering with median model D:\\Sidevideos\\ar41motor\\2022_07_28\\5EYE.avi\n",
      "Saving filtered csv poses!\n",
      "Filtering with median model D:\\Sidevideos\\ar41motor\\2022_07_28\\60EYE.avi\n",
      "Saving filtered csv poses!\n",
      "Filtering with median model D:\\Sidevideos\\ar41motor\\2022_07_28\\61EYE.avi\n",
      "Saving filtered csv poses!\n",
      "Filtering with median model D:\\Sidevideos\\ar41motor\\2022_07_28\\62EYE.avi\n",
      "Saving filtered csv poses!\n",
      "Filtering with median model D:\\Sidevideos\\ar41motor\\2022_07_28\\63EYE.avi\n",
      "Saving filtered csv poses!\n",
      "Filtering with median model D:\\Sidevideos\\ar41motor\\2022_07_28\\64EYE.avi\n",
      "Saving filtered csv poses!\n",
      "Filtering with median model D:\\Sidevideos\\ar41motor\\2022_07_28\\65EYE.avi\n",
      "Saving filtered csv poses!\n",
      "Filtering with median model D:\\Sidevideos\\ar41motor\\2022_07_28\\66EYE.avi\n",
      "Saving filtered csv poses!\n",
      "Filtering with median model D:\\Sidevideos\\ar41motor\\2022_07_28\\67EYE.avi\n",
      "Saving filtered csv poses!\n",
      "Filtering with median model D:\\Sidevideos\\ar41motor\\2022_07_28\\68EYE.avi\n",
      "Saving filtered csv poses!\n",
      "Filtering with median model D:\\Sidevideos\\ar41motor\\2022_07_28\\69EYE.avi\n",
      "Saving filtered csv poses!\n",
      "Filtering with median model D:\\Sidevideos\\ar41motor\\2022_07_28\\6EYE.avi\n",
      "Saving filtered csv poses!\n",
      "Filtering with median model D:\\Sidevideos\\ar41motor\\2022_07_28\\70EYE.avi\n",
      "Saving filtered csv poses!\n",
      "Filtering with median model D:\\Sidevideos\\ar41motor\\2022_07_28\\71EYE.avi\n",
      "Saving filtered csv poses!\n",
      "Filtering with median model D:\\Sidevideos\\ar41motor\\2022_07_28\\72EYE.avi\n",
      "Saving filtered csv poses!\n",
      "Filtering with median model D:\\Sidevideos\\ar41motor\\2022_07_28\\73EYE.avi\n",
      "Saving filtered csv poses!\n",
      "Filtering with median model D:\\Sidevideos\\ar41motor\\2022_07_28\\74EYE.avi\n",
      "Saving filtered csv poses!\n",
      "Filtering with median model D:\\Sidevideos\\ar41motor\\2022_07_28\\75EYE.avi\n",
      "Saving filtered csv poses!\n",
      "Filtering with median model D:\\Sidevideos\\ar41motor\\2022_07_28\\76EYE.avi\n",
      "Saving filtered csv poses!\n",
      "Filtering with median model D:\\Sidevideos\\ar41motor\\2022_07_28\\77EYE.avi\n",
      "Saving filtered csv poses!\n",
      "Filtering with median model D:\\Sidevideos\\ar41motor\\2022_07_28\\78EYE.avi\n",
      "Saving filtered csv poses!\n",
      "Filtering with median model D:\\Sidevideos\\ar41motor\\2022_07_28\\79EYE.avi\n",
      "Saving filtered csv poses!\n",
      "Filtering with median model D:\\Sidevideos\\ar41motor\\2022_07_28\\7EYE.avi\n",
      "Saving filtered csv poses!\n",
      "Filtering with median model D:\\Sidevideos\\ar41motor\\2022_07_28\\80EYE.avi\n",
      "Saving filtered csv poses!\n",
      "Filtering with median model D:\\Sidevideos\\ar41motor\\2022_07_28\\81EYE.avi\n",
      "Saving filtered csv poses!\n",
      "Filtering with median model D:\\Sidevideos\\ar41motor\\2022_07_28\\82EYE.avi\n",
      "Saving filtered csv poses!\n",
      "Filtering with median model D:\\Sidevideos\\ar41motor\\2022_07_28\\83EYE.avi\n",
      "Saving filtered csv poses!\n",
      "Filtering with median model D:\\Sidevideos\\ar41motor\\2022_07_28\\84EYE.avi\n",
      "Saving filtered csv poses!\n",
      "Filtering with median model D:\\Sidevideos\\ar41motor\\2022_07_28\\85EYE.avi\n"
     ]
    },
    {
     "name": "stdout",
     "output_type": "stream",
     "text": [
      "Saving filtered csv poses!\n",
      "Filtering with median model D:\\Sidevideos\\ar41motor\\2022_07_28\\86EYE.avi\n",
      "Saving filtered csv poses!\n",
      "Filtering with median model D:\\Sidevideos\\ar41motor\\2022_07_28\\87EYE.avi\n",
      "Saving filtered csv poses!\n",
      "Filtering with median model D:\\Sidevideos\\ar41motor\\2022_07_28\\88EYE.avi\n",
      "Saving filtered csv poses!\n",
      "Filtering with median model D:\\Sidevideos\\ar41motor\\2022_07_28\\89EYE.avi\n",
      "Saving filtered csv poses!\n",
      "Filtering with median model D:\\Sidevideos\\ar41motor\\2022_07_28\\8EYE.avi\n",
      "Saving filtered csv poses!\n",
      "Filtering with median model D:\\Sidevideos\\ar41motor\\2022_07_28\\90EYE.avi\n",
      "Saving filtered csv poses!\n",
      "Filtering with median model D:\\Sidevideos\\ar41motor\\2022_07_28\\91EYE.avi\n",
      "Saving filtered csv poses!\n",
      "Filtering with median model D:\\Sidevideos\\ar41motor\\2022_07_28\\92EYE.avi\n",
      "Saving filtered csv poses!\n",
      "Filtering with median model D:\\Sidevideos\\ar41motor\\2022_07_28\\93EYE.avi\n",
      "Saving filtered csv poses!\n",
      "Filtering with median model D:\\Sidevideos\\ar41motor\\2022_07_28\\94EYE.avi\n",
      "Saving filtered csv poses!\n",
      "Filtering with median model D:\\Sidevideos\\ar41motor\\2022_07_28\\95EYE.avi\n",
      "Saving filtered csv poses!\n",
      "Filtering with median model D:\\Sidevideos\\ar41motor\\2022_07_28\\96EYE.avi\n",
      "Saving filtered csv poses!\n",
      "Filtering with median model D:\\Sidevideos\\ar41motor\\2022_07_28\\97EYE.avi\n",
      "Saving filtered csv poses!\n",
      "Filtering with median model D:\\Sidevideos\\ar41motor\\2022_07_28\\98EYE.avi\n",
      "Saving filtered csv poses!\n",
      "Filtering with median model D:\\Sidevideos\\ar41motor\\2022_07_28\\99EYE.avi\n",
      "Saving filtered csv poses!\n",
      "Filtering with median model D:\\Sidevideos\\ar41motor\\2022_07_28\\9EYE.avi\n",
      "Saving filtered csv poses!\n"
     ]
    }
   ],
   "source": [
    "path_config_file = 'D:\\\\Sidevideos\\\\DLC\\\\Sideview4-Arash-2021-07-18\\\\config.yaml';\n",
    "#Mainfolder = 'D:\\\\videos\\\\ar32\\\\2020_12_18';\n",
    "path_config_file ='D:\\\\Sidevideos\\\\DLC\\\\Eyedata6-Arash-2022-02-06\\\\config.yaml';\n",
    "path_config_file ='\\\\\\\\dk-server.dk.ucsd.edu\\\\afassihizakeri\\\\DLC\\\\EyeAug22-A-2022-08-03\\\\config.yaml';\n",
    "#Mainfolder = 'D:\\\\videos\\\\ar32\\\\2020_12_18';\n",
    "import os\n",
    "text_files = [os.path.join(Mainfolder,f) for f in os.listdir(Mainfolder) if f.endswith('EYE.avi') and not f.endswith('L.avi') and not f.endswith('R.avi') and not f.endswith('videopoints.avi') and not f.endswith('videopoints.avi')]\n",
    "print(text_files[3])\n",
    "#text_files='C:\\\\videos\\\\ar30motor\\\\2021_04_25\\\\9.avi'\n",
    "#temp1=deeplabcut.analyze_videos(path_config_file,text_files,shuffle=2, save_as_csv=True )\n",
    "temp=deeplabcut.filterpredictions(path_config_file,text_files,shuffle=2)"
   ]
  },
  {
   "cell_type": "markdown",
   "metadata": {},
   "source": [
    "# this step should take the filtered DLC output (Nose and Snout)\n",
    "and create the L and R movies\n",
    "then using another function to convert L and R (R is left face and L is right face) files into Mask and Mirror files( Mask only adds mask to the Right side of the face and Mirror. \n"
   ]
  },
  {
   "cell_type": "markdown",
   "metadata": {},
   "source": [
    "# copy tracked files into the server (with mp4 movies)"
   ]
  },
  {
   "cell_type": "code",
   "execution_count": null,
   "metadata": {},
   "outputs": [],
   "source": [
    "# the code to run matlab here\n",
    "#Mainfolder = 'C:\\\\videos\\\\ar344thday\\\\2021_07_26'\n",
    "# copy tracked files into the server (with mp4 movies)\n",
    "Mainfolder = 'D:\\\\Sidevideos\\\\ar32motor\\\\2021_08_02'\n",
    "\n",
    "#Mainfolder = 'D:\\\\Sidevideos\\\\ar344thday\\\\2021_07_26'\n",
    "#destination = ''\n",
    "destination='//dk-server.dk.ucsd.edu/afassihizakeri/SC_Movies/ar32motor/2021_08_02/Side'\n",
    "import shutil\n",
    "shutil.copytree( Mainfolder,destination, ignore=shutil.ignore_patterns('*.avi'),copy_function = shutil.copy)\n",
    "#copytree(Mainfolder, destination, ignore=ignore_patterns('*.avi'))\n",
    "\n",
    "\n"
   ]
  },
  {
   "cell_type": "markdown",
   "metadata": {},
   "source": [
    "this step makes Mirror Mask files"
   ]
  },
  {
   "cell_type": "markdown",
   "metadata": {},
   "source": [
    "# copy tracked data"
   ]
  },
  {
   "cell_type": "code",
   "execution_count": null,
   "metadata": {},
   "outputs": [],
   "source": [
    "import os  # this is to get folder information and creat files\n",
    "import cv2  # this is important and is reading and writing images and video\n",
    "import shutil\n",
    "destination='//dk-server.dk.ucsd.edu/afassihizakeri/SC_Movies/ar34training/4thdayside'\n",
    "D:\\Sidevideos\\ar34motor\\2022_01_27D:\\Sidevideos\\ar34motor\\2022_01_27\n",
    "All_Folders=[ name for name in os.listdir(Mainfolder) if not os.path.isdir(os.path.join(Mainfolder, name)) ]\n",
    "#print(All_Folders)\n",
    "for num in range(0,len(All_Folders)): \n",
    "    thisdestination = os.path.join(destination+'/', All_Folders[num])\n",
    "    thissource = os.path.join(Mainfolder+os.sep, All_Folders[num])\n",
    "    shutil.copy( thissource,destination)\n",
    "    print(thisdestination)\n"
   ]
  },
  {
   "cell_type": "markdown",
   "metadata": {},
   "source": [
    "# create labled videos"
   ]
  },
  {
   "cell_type": "code",
   "execution_count": null,
   "metadata": {},
   "outputs": [],
   "source": [
    "# first we create a vector of destination file names\n",
    "import os \n",
    "\n",
    "dirname = os.path.dirname(text_files[1]) \n",
    "\n",
    "thesenames= [os.path.basename(f)  for f in text_files] \n",
    "text_files2 = [os.path.join( os.path.join(os.path.dirname(text_files[1]),'labled'),f) for f in thesenames ]  \n",
    "\n",
    "#os.mkdir\n",
    "#if not (os.path.isdir(os.path.join(os.path.dirname(text_files[1]),'labled'))):\n",
    "# os.mkdir(os.path.join(os.path.dirname(text_files[1]),'labled'))\n",
    "# Print the directory name   \n",
    "#print(text_files2[1]) \n",
    "#for f in text_files:\n",
    "\n",
    "#deeplabcut.create_labeled_video(path_config_file,videofile,save_frames=True) # my_new_list was created in prevouse cell as all videos in the folder \n",
    "deeplabcut.create_labeled_video(path_config_file,[text_files[8]],save_frames=True)\n",
    "  "
   ]
  },
  {
   "cell_type": "code",
   "execution_count": null,
   "metadata": {},
   "outputs": [],
   "source": [
    "print(text_files[4])"
   ]
  }
 ],
 "metadata": {
  "kernelspec": {
   "display_name": "Python 3 (ipykernel)",
   "language": "python",
   "name": "python3"
  },
  "language_info": {
   "codemirror_mode": {
    "name": "ipython",
    "version": 3
   },
   "file_extension": ".py",
   "mimetype": "text/x-python",
   "name": "python",
   "nbconvert_exporter": "python",
   "pygments_lexer": "ipython3",
   "version": "3.8.12"
  }
 },
 "nbformat": 4,
 "nbformat_minor": 2
}
