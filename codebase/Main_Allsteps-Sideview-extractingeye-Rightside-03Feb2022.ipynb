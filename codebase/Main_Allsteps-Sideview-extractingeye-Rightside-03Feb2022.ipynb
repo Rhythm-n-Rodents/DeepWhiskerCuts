{
 "cells": [
  {
   "cell_type": "markdown",
   "metadata": {},
   "source": [
    "## first step is to make movies and lighttime out of single images "
   ]
  },
  {
   "cell_type": "code",
   "execution_count": 14,
   "metadata": {},
   "outputs": [],
   "source": [
    "# enter the folder name \n",
    "Mainfolder = 'D:\\\\Sidevideos\\\\ar41motor\\\\2022_07_29\\\\'\n",
    "#Mainfolder = 'D:\\\\Sidevideos\\\\AR38MOTOR\\\\2022_02_18'\n",
    "import main\n"
   ]
  },
  {
   "cell_type": "code",
   "execution_count": 16,
   "metadata": {
    "scrolled": true
   },
   "outputs": [
    {
     "name": "stdout",
     "output_type": "stream",
     "text": [
      "0\n",
      "1\n",
      "2\n",
      "3\n",
      "4\n",
      "5\n",
      "6\n",
      "7\n",
      "8\n",
      "9\n",
      "10\n",
      "11\n",
      "12\n",
      "13\n",
      "14\n",
      "15\n",
      "16\n",
      "17\n",
      "18\n",
      "19\n",
      "20\n",
      "21\n",
      "22\n",
      "23\n",
      "24\n",
      "25\n",
      "26\n",
      "27\n",
      "28\n",
      "29\n",
      "30\n",
      "31\n",
      "32\n",
      "33\n",
      "34\n",
      "35\n",
      "36\n",
      "37\n",
      "38\n",
      "39\n",
      "40\n",
      "41\n",
      "42\n",
      "43\n",
      "44\n",
      "45\n",
      "46\n",
      "47\n",
      "48\n",
      "49\n",
      "50\n",
      "51\n",
      "52\n",
      "53\n",
      "54\n",
      "55\n",
      "56\n",
      "57\n",
      "58\n",
      "59\n",
      "60\n",
      "61\n",
      "62\n",
      "63\n",
      "64\n",
      "65\n",
      "66\n",
      "67\n",
      "68\n",
      "69\n",
      "70\n",
      "71\n",
      "72\n",
      "73\n",
      "74\n",
      "75\n",
      "76\n",
      "77\n",
      "78\n",
      "79\n",
      "80\n",
      "81\n",
      "82\n",
      "83\n",
      "84\n",
      "85\n",
      "86\n",
      "87\n",
      "88\n",
      "89\n",
      "90\n",
      "91\n",
      "92\n",
      "93\n",
      "94\n",
      "95\n",
      "96\n",
      "97\n",
      "98\n",
      "99\n",
      "100\n",
      "101\n",
      "102\n",
      "103\n",
      "104\n",
      "105\n",
      "106\n",
      "107\n",
      "108\n",
      "109\n",
      "110\n",
      "111\n",
      "112\n",
      "113\n",
      "114\n",
      "115\n",
      "116\n",
      "117\n",
      "118\n",
      "119\n",
      "120\n",
      "121\n",
      "122\n",
      "123\n",
      "124\n",
      "125\n",
      "126\n",
      "127\n",
      "128\n",
      "129\n",
      "130\n",
      "131\n",
      "132\n",
      "133\n",
      "134\n",
      "135\n",
      "136\n",
      "137\n",
      "138\n",
      "139\n",
      "140\n",
      "141\n",
      "142\n",
      "143\n",
      "144\n",
      "145\n",
      "146\n",
      "147\n",
      "148\n",
      "149\n",
      "150\n",
      "['0', '1', '10', '100', '101', '102', '103', '104', '105', '106', '107', '108', '109', '11', '110', '111', '112', '113', '114', '115', '116', '117', '118', '119', '12', '120', '121', '122', '123', '124', '125', '126', '127', '128', '129', '13', '130', '131', '132', '133', '134', '135', '136', '137', '138', '139', '14', '140', '141', '142', '143', '144', '145', '146', '147', '148', '149', '15', '150', '16', '17', '18', '19', '2', '20', '21', '22', '23', '24', '25', '26', '27', '28', '29', '3', '30', '31', '32', '33', '34', '35', '36', '37', '38', '39', '4', '40', '41', '42', '43', '44', '45', '46', '47', '48', '49', '5', '50', '51', '52', '53', '54', '55', '56', '57', '58', '59', '6', '60', '61', '62', '63', '64', '65', '66', '67', '68', '69', '7', '70', '71', '72', '73', '74', '75', '76', '77', '78', '79', '8', '80', '81', '82', '83', '84', '85', '86', '87', '88', '89', '9', '90', '91', '92', '93', '94', '95', '96', '97', '98', '99']\n"
     ]
    }
   ],
   "source": [
    "#main.make_movie_only(Mainfolder)\n",
    "main.makemovieandLightfile(Mainfolder)\n",
    "main.save_trial_n(Mainfolder)"
   ]
  },
  {
   "cell_type": "code",
   "execution_count": 17,
   "metadata": {},
   "outputs": [],
   "source": [
    "import deeplabcut\n",
    "## https://github.com/AlexEMG/DeepLabCut"
   ]
  },
  {
   "cell_type": "code",
   "execution_count": null,
   "metadata": {},
   "outputs": [
    {
     "name": "stdout",
     "output_type": "stream",
     "text": [
      "D:\\Sidevideos\\ar41motor\\2022_07_29\\1.avi\n",
      "Using snapshot-271000 for model \\\\dk-server.dk.ucsd.edu\\afassihizakeri\\DLC\\SideviewLeft_Feb2022-Arash-2022-02-08\\dlc-models\\iteration-0\\SideviewLeft_Feb2022Feb8-trainset95shuffle1\n",
      "Initializing ResNet\n",
      "Starting to analyze %  D:\\Sidevideos\\ar41motor\\2022_07_29\\0.avi\n",
      "D:\\Sidevideos\\ar41motor\\2022_07_29  already exists!\n",
      "Loading  D:\\Sidevideos\\ar41motor\\2022_07_29\\0.avi\n",
      "Duration of video [s]:  10.0 , recorded with  40.0 fps!\n",
      "Overall # of frames:  400  found with (before cropping) frame dimensions:  800 550\n",
      "Starting to extract posture\n"
     ]
    },
    {
     "name": "stderr",
     "output_type": "stream",
     "text": [
      "410it [04:19,  1.58it/s]                                                                                                                                                                                                                                                                                                                                                                                                                  \n"
     ]
    },
    {
     "name": "stdout",
     "output_type": "stream",
     "text": [
      "Saving results in D:\\Sidevideos\\ar41motor\\2022_07_29...\n",
      "Saving csv poses!\n",
      "Starting to analyze %  D:\\Sidevideos\\ar41motor\\2022_07_29\\1.avi\n",
      "D:\\Sidevideos\\ar41motor\\2022_07_29  already exists!\n",
      "Loading  D:\\Sidevideos\\ar41motor\\2022_07_29\\1.avi\n",
      "Duration of video [s]:  10.0 , recorded with  40.0 fps!\n",
      "Overall # of frames:  400  found with (before cropping) frame dimensions:  800 550\n",
      "Starting to extract posture\n"
     ]
    },
    {
     "name": "stderr",
     "output_type": "stream",
     "text": [
      " 12%|████████████████████████████████████████████████▌                                                                                                                                                                                                                                                                                                                                                   | 50/400 [00:25<03:43,  1.57it/s]"
     ]
    }
   ],
   "source": [
    "\n",
    "path_config_file ='C:\\\\Users\\\\dklab\\\\Dropbox\\\\Notebook\\\\DLC\\\\Sideview_Aug-Arash-2021-08-04\\\\config.yaml';\n",
    "path_config_file ='\\\\\\\\dk-server.dk.ucsd.edu\\\\afassihizakeri\\\\DLC\\\\SideviewLeft_Feb2022-Arash-2022-02-08\\\\config.yaml';\n",
    "\n",
    "import os\n",
    "text_files = [os.path.join(Mainfolder,f) for f in os.listdir(Mainfolder) if f.endswith('.avi') and not f.endswith('L.avi') and not f.endswith('R.avi') and not f.endswith('videopoints.avi') and not f.endswith('videopoints.avi')]\n",
    "print(text_files[1])\n",
    "temp1=deeplabcut.analyze_videos(path_config_file,text_files,shuffle=1, save_as_csv=True )\n",
    "temp=deeplabcut.filterpredictions(path_config_file,text_files)"
   ]
  },
  {
   "cell_type": "code",
   "execution_count": 13,
   "metadata": {},
   "outputs": [],
   "source": [
    "import extract_eye_imagesion\n",
    "extract_eye_imagesion.extract_eye_videos(Mainfolder,'DLC_resnet50_SideviewLeft_Feb2022Feb8shuffle1_271000_filtered')"
   ]
  },
  {
   "cell_type": "code",
   "execution_count": null,
   "metadata": {},
   "outputs": [],
   "source": []
  },
  {
   "cell_type": "markdown",
   "metadata": {},
   "source": [
    "## this step is to load analze eye data"
   ]
  },
  {
   "cell_type": "code",
   "execution_count": 7,
   "metadata": {},
   "outputs": [
    {
     "name": "stderr",
     "output_type": "stream",
     "text": [
      "C:\\Users\\DKLAb\\Anaconda3\\envs\\dlc-windowsGPU\\lib\\site-packages\\tensorflow\\python\\framework\\dtypes.py:523: FutureWarning: Passing (type, 1) or '1type' as a synonym of type is deprecated; in a future version of numpy, it will be understood as (type, (1,)) / '(1,)type'.\n",
      "  _np_qint8 = np.dtype([(\"qint8\", np.int8, 1)])\n",
      "C:\\Users\\DKLAb\\Anaconda3\\envs\\dlc-windowsGPU\\lib\\site-packages\\tensorflow\\python\\framework\\dtypes.py:524: FutureWarning: Passing (type, 1) or '1type' as a synonym of type is deprecated; in a future version of numpy, it will be understood as (type, (1,)) / '(1,)type'.\n",
      "  _np_quint8 = np.dtype([(\"quint8\", np.uint8, 1)])\n",
      "C:\\Users\\DKLAb\\Anaconda3\\envs\\dlc-windowsGPU\\lib\\site-packages\\tensorflow\\python\\framework\\dtypes.py:525: FutureWarning: Passing (type, 1) or '1type' as a synonym of type is deprecated; in a future version of numpy, it will be understood as (type, (1,)) / '(1,)type'.\n",
      "  _np_qint16 = np.dtype([(\"qint16\", np.int16, 1)])\n",
      "C:\\Users\\DKLAb\\Anaconda3\\envs\\dlc-windowsGPU\\lib\\site-packages\\tensorflow\\python\\framework\\dtypes.py:526: FutureWarning: Passing (type, 1) or '1type' as a synonym of type is deprecated; in a future version of numpy, it will be understood as (type, (1,)) / '(1,)type'.\n",
      "  _np_quint16 = np.dtype([(\"quint16\", np.uint16, 1)])\n",
      "C:\\Users\\DKLAb\\Anaconda3\\envs\\dlc-windowsGPU\\lib\\site-packages\\tensorflow\\python\\framework\\dtypes.py:527: FutureWarning: Passing (type, 1) or '1type' as a synonym of type is deprecated; in a future version of numpy, it will be understood as (type, (1,)) / '(1,)type'.\n",
      "  _np_qint32 = np.dtype([(\"qint32\", np.int32, 1)])\n",
      "C:\\Users\\DKLAb\\Anaconda3\\envs\\dlc-windowsGPU\\lib\\site-packages\\tensorflow\\python\\framework\\dtypes.py:532: FutureWarning: Passing (type, 1) or '1type' as a synonym of type is deprecated; in a future version of numpy, it will be understood as (type, (1,)) / '(1,)type'.\n",
      "  np_resource = np.dtype([(\"resource\", np.ubyte, 1)])\n",
      "C:\\Users\\DKLAb\\Anaconda3\\envs\\dlc-windowsGPU\\lib\\site-packages\\dask\\dataframe\\utils.py:15: FutureWarning: pandas.util.testing is deprecated. Use the functions in the public API at pandas.testing instead.\n",
      "  import pandas.util.testing as tm\n"
     ]
    }
   ],
   "source": [
    "import deeplabcut\n",
    "## https://github.com/AlexEMG/DeepLabCut"
   ]
  },
  {
   "cell_type": "code",
   "execution_count": 6,
   "metadata": {},
   "outputs": [
    {
     "name": "stdout",
     "output_type": "stream",
     "text": [
      "D:\\Sidevideos\\ar34motor\\2022_02_18\\100EYE.avi\n",
      "Using snapshot-500000 for model D:\\Sidevideos\\DLC\\RightEye_4_4_2_points-Arash-2022-02-28\\dlc-models\\iteration-0\\RightEye_4_4_2_pointsFeb28-trainset95shuffle1\n"
     ]
    },
    {
     "name": "stderr",
     "output_type": "stream",
     "text": [
      "C:\\Users\\dklab\\anaconda3\\envs\\DEEPLABCUT\\lib\\site-packages\\tensorflow\\python\\keras\\engine\\base_layer_v1.py:1694: UserWarning: `layer.apply` is deprecated and will be removed in a future version. Please use `layer.__call__` method instead.\n",
      "  warnings.warn('`layer.apply` is deprecated and '\n"
     ]
    },
    {
     "name": "stdout",
     "output_type": "stream",
     "text": [
      "Starting to analyze %  D:\\Sidevideos\\ar34motor\\2022_02_18\\0EYE.avi\n",
      "Loading  D:\\Sidevideos\\ar34motor\\2022_02_18\\0EYE.avi\n",
      "Duration of video [s]:  12.5 , recorded with  40.0 fps!\n",
      "Overall # of frames:  500  found with (before cropping) frame dimensions:  200 200\n",
      "Starting to extract posture\n"
     ]
    },
    {
     "name": "stderr",
     "output_type": "stream",
     "text": [
      "510it [00:06, 81.75it/s]                                                                                               \n"
     ]
    },
    {
     "name": "stdout",
     "output_type": "stream",
     "text": [
      "Saving results in D:\\Sidevideos\\ar34motor\\2022_02_18...\n",
      "Saving csv poses!\n",
      "Starting to analyze %  D:\\Sidevideos\\ar34motor\\2022_02_18\\100EYE.avi\n",
      "Loading  D:\\Sidevideos\\ar34motor\\2022_02_18\\100EYE.avi\n",
      "Duration of video [s]:  12.5 , recorded with  40.0 fps!\n",
      "Overall # of frames:  500  found with (before cropping) frame dimensions:  200 200\n",
      "Starting to extract posture\n"
     ]
    },
    {
     "name": "stderr",
     "output_type": "stream",
     "text": [
      "510it [00:03, 138.63it/s]                                                                                              \n"
     ]
    },
    {
     "name": "stdout",
     "output_type": "stream",
     "text": [
      "Saving results in D:\\Sidevideos\\ar34motor\\2022_02_18...\n",
      "Saving csv poses!\n",
      "Starting to analyze %  D:\\Sidevideos\\ar34motor\\2022_02_18\\101EYE.avi\n",
      "Loading  D:\\Sidevideos\\ar34motor\\2022_02_18\\101EYE.avi\n",
      "Duration of video [s]:  12.5 , recorded with  40.0 fps!\n",
      "Overall # of frames:  500  found with (before cropping) frame dimensions:  200 200\n",
      "Starting to extract posture\n"
     ]
    },
    {
     "name": "stderr",
     "output_type": "stream",
     "text": [
      "510it [00:03, 137.05it/s]                                                                                              \n"
     ]
    },
    {
     "name": "stdout",
     "output_type": "stream",
     "text": [
      "Saving results in D:\\Sidevideos\\ar34motor\\2022_02_18...\n",
      "Saving csv poses!\n",
      "Starting to analyze %  D:\\Sidevideos\\ar34motor\\2022_02_18\\102EYE.avi\n",
      "Loading  D:\\Sidevideos\\ar34motor\\2022_02_18\\102EYE.avi\n",
      "Duration of video [s]:  12.5 , recorded with  40.0 fps!\n",
      "Overall # of frames:  500  found with (before cropping) frame dimensions:  200 200\n",
      "Starting to extract posture\n"
     ]
    },
    {
     "name": "stderr",
     "output_type": "stream",
     "text": [
      "510it [00:03, 141.81it/s]                                                                                              \n"
     ]
    },
    {
     "name": "stdout",
     "output_type": "stream",
     "text": [
      "Saving results in D:\\Sidevideos\\ar34motor\\2022_02_18...\n",
      "Saving csv poses!\n",
      "Starting to analyze %  D:\\Sidevideos\\ar34motor\\2022_02_18\\103EYE.avi\n",
      "Loading  D:\\Sidevideos\\ar34motor\\2022_02_18\\103EYE.avi\n",
      "Duration of video [s]:  12.22 , recorded with  40.0 fps!\n",
      "Overall # of frames:  489  found with (before cropping) frame dimensions:  200 200\n",
      "Starting to extract posture\n"
     ]
    },
    {
     "name": "stderr",
     "output_type": "stream",
     "text": [
      "490it [00:03, 134.84it/s]                                                                                              \n"
     ]
    },
    {
     "name": "stdout",
     "output_type": "stream",
     "text": [
      "Saving results in D:\\Sidevideos\\ar34motor\\2022_02_18...\n",
      "Saving csv poses!\n",
      "Starting to analyze %  D:\\Sidevideos\\ar34motor\\2022_02_18\\104EYE.avi\n",
      "Loading  D:\\Sidevideos\\ar34motor\\2022_02_18\\104EYE.avi\n",
      "Duration of video [s]:  12.5 , recorded with  40.0 fps!\n",
      "Overall # of frames:  500  found with (before cropping) frame dimensions:  200 200\n",
      "Starting to extract posture\n"
     ]
    },
    {
     "name": "stderr",
     "output_type": "stream",
     "text": [
      "510it [00:03, 139.77it/s]                                                                                              \n"
     ]
    },
    {
     "name": "stdout",
     "output_type": "stream",
     "text": [
      "Saving results in D:\\Sidevideos\\ar34motor\\2022_02_18...\n",
      "Saving csv poses!\n",
      "Starting to analyze %  D:\\Sidevideos\\ar34motor\\2022_02_18\\105EYE.avi\n",
      "Loading  D:\\Sidevideos\\ar34motor\\2022_02_18\\105EYE.avi\n",
      "Duration of video [s]:  12.4 , recorded with  40.0 fps!\n",
      "Overall # of frames:  496  found with (before cropping) frame dimensions:  200 200\n",
      "Starting to extract posture\n"
     ]
    },
    {
     "name": "stderr",
     "output_type": "stream",
     "text": [
      "500it [00:03, 139.58it/s]                                                                                              \n"
     ]
    },
    {
     "name": "stdout",
     "output_type": "stream",
     "text": [
      "Saving results in D:\\Sidevideos\\ar34motor\\2022_02_18...\n",
      "Saving csv poses!\n",
      "Starting to analyze %  D:\\Sidevideos\\ar34motor\\2022_02_18\\106EYE.avi\n",
      "Loading  D:\\Sidevideos\\ar34motor\\2022_02_18\\106EYE.avi\n",
      "Duration of video [s]:  12.5 , recorded with  40.0 fps!\n",
      "Overall # of frames:  500  found with (before cropping) frame dimensions:  200 200\n",
      "Starting to extract posture\n"
     ]
    },
    {
     "name": "stderr",
     "output_type": "stream",
     "text": [
      "510it [00:03, 138.84it/s]                                                                                              \n"
     ]
    },
    {
     "name": "stdout",
     "output_type": "stream",
     "text": [
      "Saving results in D:\\Sidevideos\\ar34motor\\2022_02_18...\n",
      "Saving csv poses!\n",
      "Starting to analyze %  D:\\Sidevideos\\ar34motor\\2022_02_18\\107EYE.avi\n",
      "Loading  D:\\Sidevideos\\ar34motor\\2022_02_18\\107EYE.avi\n",
      "Duration of video [s]:  12.5 , recorded with  40.0 fps!\n",
      "Overall # of frames:  500  found with (before cropping) frame dimensions:  200 200\n",
      "Starting to extract posture\n"
     ]
    },
    {
     "name": "stderr",
     "output_type": "stream",
     "text": [
      "510it [00:03, 138.37it/s]                                                                                              \n"
     ]
    },
    {
     "name": "stdout",
     "output_type": "stream",
     "text": [
      "Saving results in D:\\Sidevideos\\ar34motor\\2022_02_18...\n",
      "Saving csv poses!\n",
      "Starting to analyze %  D:\\Sidevideos\\ar34motor\\2022_02_18\\108EYE.avi\n",
      "Loading  D:\\Sidevideos\\ar34motor\\2022_02_18\\108EYE.avi\n",
      "Duration of video [s]:  12.5 , recorded with  40.0 fps!\n",
      "Overall # of frames:  500  found with (before cropping) frame dimensions:  200 200\n",
      "Starting to extract posture\n"
     ]
    },
    {
     "name": "stderr",
     "output_type": "stream",
     "text": [
      "510it [00:03, 139.72it/s]                                                                                              \n"
     ]
    },
    {
     "name": "stdout",
     "output_type": "stream",
     "text": [
      "Saving results in D:\\Sidevideos\\ar34motor\\2022_02_18...\n",
      "Saving csv poses!\n",
      "Starting to analyze %  D:\\Sidevideos\\ar34motor\\2022_02_18\\109EYE.avi\n",
      "Loading  D:\\Sidevideos\\ar34motor\\2022_02_18\\109EYE.avi\n",
      "Duration of video [s]:  6.85 , recorded with  40.0 fps!\n",
      "Overall # of frames:  274  found with (before cropping) frame dimensions:  200 200\n",
      "Starting to extract posture\n"
     ]
    },
    {
     "name": "stderr",
     "output_type": "stream",
     "text": [
      "280it [00:02, 137.05it/s]                                                                                              \n"
     ]
    },
    {
     "name": "stdout",
     "output_type": "stream",
     "text": [
      "Saving results in D:\\Sidevideos\\ar34motor\\2022_02_18...\n",
      "Saving csv poses!\n",
      "Starting to analyze %  D:\\Sidevideos\\ar34motor\\2022_02_18\\10EYE.avi\n",
      "Loading  D:\\Sidevideos\\ar34motor\\2022_02_18\\10EYE.avi\n",
      "Duration of video [s]:  12.5 , recorded with  40.0 fps!\n",
      "Overall # of frames:  500  found with (before cropping) frame dimensions:  200 200\n",
      "Starting to extract posture\n"
     ]
    },
    {
     "name": "stderr",
     "output_type": "stream",
     "text": [
      "510it [00:03, 139.20it/s]                                                                                              \n"
     ]
    },
    {
     "name": "stdout",
     "output_type": "stream",
     "text": [
      "Saving results in D:\\Sidevideos\\ar34motor\\2022_02_18...\n",
      "Saving csv poses!\n",
      "Starting to analyze %  D:\\Sidevideos\\ar34motor\\2022_02_18\\110EYE.avi\n",
      "Loading  D:\\Sidevideos\\ar34motor\\2022_02_18\\110EYE.avi\n",
      "Duration of video [s]:  12.5 , recorded with  40.0 fps!\n",
      "Overall # of frames:  500  found with (before cropping) frame dimensions:  200 200\n",
      "Starting to extract posture\n"
     ]
    },
    {
     "name": "stderr",
     "output_type": "stream",
     "text": [
      "510it [00:03, 135.46it/s]                                                                                              \n"
     ]
    },
    {
     "name": "stdout",
     "output_type": "stream",
     "text": [
      "Saving results in D:\\Sidevideos\\ar34motor\\2022_02_18...\n",
      "Saving csv poses!\n",
      "Starting to analyze %  D:\\Sidevideos\\ar34motor\\2022_02_18\\111EYE.avi\n",
      "Loading  D:\\Sidevideos\\ar34motor\\2022_02_18\\111EYE.avi\n",
      "Duration of video [s]:  12.5 , recorded with  40.0 fps!\n",
      "Overall # of frames:  500  found with (before cropping) frame dimensions:  200 200\n",
      "Starting to extract posture\n"
     ]
    },
    {
     "name": "stderr",
     "output_type": "stream",
     "text": [
      "510it [00:03, 138.66it/s]                                                                                              \n"
     ]
    },
    {
     "name": "stdout",
     "output_type": "stream",
     "text": [
      "Saving results in D:\\Sidevideos\\ar34motor\\2022_02_18...\n",
      "Saving csv poses!\n",
      "Starting to analyze %  D:\\Sidevideos\\ar34motor\\2022_02_18\\112EYE.avi\n",
      "Loading  D:\\Sidevideos\\ar34motor\\2022_02_18\\112EYE.avi\n",
      "Duration of video [s]:  11.65 , recorded with  40.0 fps!\n",
      "Overall # of frames:  466  found with (before cropping) frame dimensions:  200 200\n",
      "Starting to extract posture\n"
     ]
    },
    {
     "name": "stderr",
     "output_type": "stream",
     "text": [
      "470it [00:03, 137.39it/s]                                                                                              \n"
     ]
    },
    {
     "name": "stdout",
     "output_type": "stream",
     "text": [
      "Saving results in D:\\Sidevideos\\ar34motor\\2022_02_18...\n",
      "Saving csv poses!\n",
      "Starting to analyze %  D:\\Sidevideos\\ar34motor\\2022_02_18\\113EYE.avi\n",
      "Loading  D:\\Sidevideos\\ar34motor\\2022_02_18\\113EYE.avi\n",
      "Duration of video [s]:  12.5 , recorded with  40.0 fps!\n",
      "Overall # of frames:  500  found with (before cropping) frame dimensions:  200 200\n",
      "Starting to extract posture\n"
     ]
    },
    {
     "name": "stderr",
     "output_type": "stream",
     "text": [
      "510it [00:03, 139.22it/s]                                                                                              \n"
     ]
    },
    {
     "name": "stdout",
     "output_type": "stream",
     "text": [
      "Saving results in D:\\Sidevideos\\ar34motor\\2022_02_18...\n",
      "Saving csv poses!\n",
      "Starting to analyze %  D:\\Sidevideos\\ar34motor\\2022_02_18\\114EYE.avi\n",
      "Loading  D:\\Sidevideos\\ar34motor\\2022_02_18\\114EYE.avi\n",
      "Duration of video [s]:  12.5 , recorded with  40.0 fps!\n",
      "Overall # of frames:  500  found with (before cropping) frame dimensions:  200 200\n",
      "Starting to extract posture\n"
     ]
    },
    {
     "name": "stderr",
     "output_type": "stream",
     "text": [
      "510it [00:03, 140.62it/s]                                                                                              \n"
     ]
    },
    {
     "name": "stdout",
     "output_type": "stream",
     "text": [
      "Saving results in D:\\Sidevideos\\ar34motor\\2022_02_18...\n",
      "Saving csv poses!\n",
      "Starting to analyze %  D:\\Sidevideos\\ar34motor\\2022_02_18\\115EYE.avi\n",
      "Loading  D:\\Sidevideos\\ar34motor\\2022_02_18\\115EYE.avi\n",
      "Duration of video [s]:  12.5 , recorded with  40.0 fps!\n",
      "Overall # of frames:  500  found with (before cropping) frame dimensions:  200 200\n",
      "Starting to extract posture\n"
     ]
    },
    {
     "name": "stderr",
     "output_type": "stream",
     "text": [
      "510it [00:03, 138.22it/s]                                                                                              \n"
     ]
    },
    {
     "name": "stdout",
     "output_type": "stream",
     "text": [
      "Saving results in D:\\Sidevideos\\ar34motor\\2022_02_18...\n",
      "Saving csv poses!\n",
      "Starting to analyze %  D:\\Sidevideos\\ar34motor\\2022_02_18\\116EYE.avi\n",
      "Loading  D:\\Sidevideos\\ar34motor\\2022_02_18\\116EYE.avi\n",
      "Duration of video [s]:  12.5 , recorded with  40.0 fps!\n",
      "Overall # of frames:  500  found with (before cropping) frame dimensions:  200 200\n",
      "Starting to extract posture\n"
     ]
    },
    {
     "name": "stderr",
     "output_type": "stream",
     "text": [
      "510it [00:03, 139.85it/s]                                                                                              \n"
     ]
    },
    {
     "name": "stdout",
     "output_type": "stream",
     "text": [
      "Saving results in D:\\Sidevideos\\ar34motor\\2022_02_18...\n",
      "Saving csv poses!\n",
      "Starting to analyze %  D:\\Sidevideos\\ar34motor\\2022_02_18\\117EYE.avi\n",
      "Loading  D:\\Sidevideos\\ar34motor\\2022_02_18\\117EYE.avi\n",
      "Duration of video [s]:  12.5 , recorded with  40.0 fps!\n",
      "Overall # of frames:  500  found with (before cropping) frame dimensions:  200 200\n",
      "Starting to extract posture\n"
     ]
    },
    {
     "name": "stderr",
     "output_type": "stream",
     "text": [
      "510it [00:03, 137.53it/s]                                                                                              \n"
     ]
    },
    {
     "name": "stdout",
     "output_type": "stream",
     "text": [
      "Saving results in D:\\Sidevideos\\ar34motor\\2022_02_18...\n",
      "Saving csv poses!\n",
      "Starting to analyze %  D:\\Sidevideos\\ar34motor\\2022_02_18\\118EYE.avi\n",
      "Loading  D:\\Sidevideos\\ar34motor\\2022_02_18\\118EYE.avi\n",
      "Duration of video [s]:  12.5 , recorded with  40.0 fps!\n",
      "Overall # of frames:  500  found with (before cropping) frame dimensions:  200 200\n",
      "Starting to extract posture\n"
     ]
    },
    {
     "name": "stderr",
     "output_type": "stream",
     "text": [
      "510it [00:03, 138.39it/s]                                                                                              \n"
     ]
    },
    {
     "name": "stdout",
     "output_type": "stream",
     "text": [
      "Saving results in D:\\Sidevideos\\ar34motor\\2022_02_18...\n",
      "Saving csv poses!\n",
      "Starting to analyze %  D:\\Sidevideos\\ar34motor\\2022_02_18\\119EYE.avi\n",
      "Loading  D:\\Sidevideos\\ar34motor\\2022_02_18\\119EYE.avi\n",
      "Duration of video [s]:  12.5 , recorded with  40.0 fps!\n",
      "Overall # of frames:  500  found with (before cropping) frame dimensions:  200 200\n",
      "Starting to extract posture\n"
     ]
    },
    {
     "name": "stderr",
     "output_type": "stream",
     "text": [
      "510it [00:03, 139.37it/s]                                                                                              \n"
     ]
    },
    {
     "name": "stdout",
     "output_type": "stream",
     "text": [
      "Saving results in D:\\Sidevideos\\ar34motor\\2022_02_18...\n",
      "Saving csv poses!\n",
      "Starting to analyze %  D:\\Sidevideos\\ar34motor\\2022_02_18\\11EYE.avi\n",
      "Loading  D:\\Sidevideos\\ar34motor\\2022_02_18\\11EYE.avi\n",
      "Duration of video [s]:  12.5 , recorded with  40.0 fps!\n",
      "Overall # of frames:  500  found with (before cropping) frame dimensions:  200 200\n",
      "Starting to extract posture\n"
     ]
    },
    {
     "name": "stderr",
     "output_type": "stream",
     "text": [
      "510it [00:03, 139.01it/s]                                                                                              \n"
     ]
    },
    {
     "name": "stdout",
     "output_type": "stream",
     "text": [
      "Saving results in D:\\Sidevideos\\ar34motor\\2022_02_18...\n",
      "Saving csv poses!\n",
      "Starting to analyze %  D:\\Sidevideos\\ar34motor\\2022_02_18\\120EYE.avi\n",
      "Loading  D:\\Sidevideos\\ar34motor\\2022_02_18\\120EYE.avi\n",
      "Duration of video [s]:  12.5 , recorded with  40.0 fps!\n",
      "Overall # of frames:  500  found with (before cropping) frame dimensions:  200 200\n",
      "Starting to extract posture\n"
     ]
    },
    {
     "name": "stderr",
     "output_type": "stream",
     "text": [
      "510it [00:03, 138.42it/s]                                                                                              \n"
     ]
    },
    {
     "name": "stdout",
     "output_type": "stream",
     "text": [
      "Saving results in D:\\Sidevideos\\ar34motor\\2022_02_18...\n",
      "Saving csv poses!\n",
      "Starting to analyze %  D:\\Sidevideos\\ar34motor\\2022_02_18\\121EYE.avi\n",
      "Loading  D:\\Sidevideos\\ar34motor\\2022_02_18\\121EYE.avi\n",
      "Duration of video [s]:  12.5 , recorded with  40.0 fps!\n",
      "Overall # of frames:  500  found with (before cropping) frame dimensions:  200 200\n",
      "Starting to extract posture\n"
     ]
    },
    {
     "name": "stderr",
     "output_type": "stream",
     "text": [
      "510it [00:03, 137.45it/s]                                                                                              \n"
     ]
    },
    {
     "name": "stdout",
     "output_type": "stream",
     "text": [
      "Saving results in D:\\Sidevideos\\ar34motor\\2022_02_18...\n",
      "Saving csv poses!\n",
      "Starting to analyze %  D:\\Sidevideos\\ar34motor\\2022_02_18\\122EYE.avi\n",
      "Loading  D:\\Sidevideos\\ar34motor\\2022_02_18\\122EYE.avi\n",
      "Duration of video [s]:  12.15 , recorded with  40.0 fps!\n",
      "Overall # of frames:  486  found with (before cropping) frame dimensions:  200 200\n",
      "Starting to extract posture\n"
     ]
    },
    {
     "name": "stderr",
     "output_type": "stream",
     "text": [
      "490it [00:03, 137.47it/s]                                                                                              \n"
     ]
    },
    {
     "name": "stdout",
     "output_type": "stream",
     "text": [
      "Saving results in D:\\Sidevideos\\ar34motor\\2022_02_18...\n",
      "Saving csv poses!\n",
      "Starting to analyze %  D:\\Sidevideos\\ar34motor\\2022_02_18\\123EYE.avi\n",
      "Loading  D:\\Sidevideos\\ar34motor\\2022_02_18\\123EYE.avi\n",
      "Duration of video [s]:  12.12 , recorded with  40.0 fps!\n",
      "Overall # of frames:  485  found with (before cropping) frame dimensions:  200 200\n",
      "Starting to extract posture\n"
     ]
    },
    {
     "name": "stderr",
     "output_type": "stream",
     "text": [
      "490it [00:03, 139.23it/s]                                                                                              \n"
     ]
    },
    {
     "name": "stdout",
     "output_type": "stream",
     "text": [
      "Saving results in D:\\Sidevideos\\ar34motor\\2022_02_18...\n",
      "Saving csv poses!\n",
      "Starting to analyze %  D:\\Sidevideos\\ar34motor\\2022_02_18\\124EYE.avi\n",
      "Loading  D:\\Sidevideos\\ar34motor\\2022_02_18\\124EYE.avi\n",
      "Duration of video [s]:  12.5 , recorded with  40.0 fps!\n",
      "Overall # of frames:  500  found with (before cropping) frame dimensions:  200 200\n",
      "Starting to extract posture\n"
     ]
    },
    {
     "name": "stderr",
     "output_type": "stream",
     "text": [
      "510it [00:03, 139.25it/s]                                                                                              \n"
     ]
    },
    {
     "name": "stdout",
     "output_type": "stream",
     "text": [
      "Saving results in D:\\Sidevideos\\ar34motor\\2022_02_18...\n",
      "Saving csv poses!\n",
      "Starting to analyze %  D:\\Sidevideos\\ar34motor\\2022_02_18\\125EYE.avi\n",
      "Loading  D:\\Sidevideos\\ar34motor\\2022_02_18\\125EYE.avi\n",
      "Duration of video [s]:  12.38 , recorded with  40.0 fps!\n",
      "Overall # of frames:  495  found with (before cropping) frame dimensions:  200 200\n",
      "Starting to extract posture\n"
     ]
    },
    {
     "name": "stderr",
     "output_type": "stream",
     "text": [
      "500it [00:03, 137.13it/s]                                                                                              \n"
     ]
    },
    {
     "name": "stdout",
     "output_type": "stream",
     "text": [
      "Saving results in D:\\Sidevideos\\ar34motor\\2022_02_18...\n",
      "Saving csv poses!\n",
      "Starting to analyze %  D:\\Sidevideos\\ar34motor\\2022_02_18\\126EYE.avi\n",
      "Loading  D:\\Sidevideos\\ar34motor\\2022_02_18\\126EYE.avi\n",
      "Duration of video [s]:  12.5 , recorded with  40.0 fps!\n",
      "Overall # of frames:  500  found with (before cropping) frame dimensions:  200 200\n",
      "Starting to extract posture\n"
     ]
    },
    {
     "name": "stderr",
     "output_type": "stream",
     "text": [
      "510it [00:03, 140.09it/s]                                                                                              \n"
     ]
    },
    {
     "name": "stdout",
     "output_type": "stream",
     "text": [
      "Saving results in D:\\Sidevideos\\ar34motor\\2022_02_18...\n",
      "Saving csv poses!\n",
      "Starting to analyze %  D:\\Sidevideos\\ar34motor\\2022_02_18\\127EYE.avi\n",
      "Loading  D:\\Sidevideos\\ar34motor\\2022_02_18\\127EYE.avi\n",
      "Duration of video [s]:  12.5 , recorded with  40.0 fps!\n",
      "Overall # of frames:  500  found with (before cropping) frame dimensions:  200 200\n",
      "Starting to extract posture\n"
     ]
    },
    {
     "name": "stderr",
     "output_type": "stream",
     "text": [
      "510it [00:03, 138.81it/s]                                                                                              \n"
     ]
    },
    {
     "name": "stdout",
     "output_type": "stream",
     "text": [
      "Saving results in D:\\Sidevideos\\ar34motor\\2022_02_18...\n",
      "Saving csv poses!\n",
      "Starting to analyze %  D:\\Sidevideos\\ar34motor\\2022_02_18\\128EYE.avi\n",
      "Loading  D:\\Sidevideos\\ar34motor\\2022_02_18\\128EYE.avi\n",
      "Duration of video [s]:  12.5 , recorded with  40.0 fps!\n",
      "Overall # of frames:  500  found with (before cropping) frame dimensions:  200 200\n",
      "Starting to extract posture\n"
     ]
    },
    {
     "name": "stderr",
     "output_type": "stream",
     "text": [
      "510it [00:03, 140.35it/s]                                                                                              \n"
     ]
    },
    {
     "name": "stdout",
     "output_type": "stream",
     "text": [
      "Saving results in D:\\Sidevideos\\ar34motor\\2022_02_18...\n",
      "Saving csv poses!\n",
      "Starting to analyze %  D:\\Sidevideos\\ar34motor\\2022_02_18\\129EYE.avi\n",
      "Loading  D:\\Sidevideos\\ar34motor\\2022_02_18\\129EYE.avi\n",
      "Duration of video [s]:  12.5 , recorded with  40.0 fps!\n",
      "Overall # of frames:  500  found with (before cropping) frame dimensions:  200 200\n",
      "Starting to extract posture\n"
     ]
    },
    {
     "name": "stderr",
     "output_type": "stream",
     "text": [
      "510it [00:03, 137.60it/s]                                                                                              \n"
     ]
    },
    {
     "name": "stdout",
     "output_type": "stream",
     "text": [
      "Saving results in D:\\Sidevideos\\ar34motor\\2022_02_18...\n",
      "Saving csv poses!\n",
      "Starting to analyze %  D:\\Sidevideos\\ar34motor\\2022_02_18\\12EYE.avi\n",
      "Loading  D:\\Sidevideos\\ar34motor\\2022_02_18\\12EYE.avi\n",
      "Duration of video [s]:  12.45 , recorded with  40.0 fps!\n",
      "Overall # of frames:  498  found with (before cropping) frame dimensions:  200 200\n",
      "Starting to extract posture\n"
     ]
    },
    {
     "name": "stderr",
     "output_type": "stream",
     "text": [
      "500it [00:03, 135.21it/s]                                                                                              \n"
     ]
    },
    {
     "name": "stdout",
     "output_type": "stream",
     "text": [
      "Saving results in D:\\Sidevideos\\ar34motor\\2022_02_18...\n",
      "Saving csv poses!\n",
      "Starting to analyze %  D:\\Sidevideos\\ar34motor\\2022_02_18\\130EYE.avi\n",
      "Loading  D:\\Sidevideos\\ar34motor\\2022_02_18\\130EYE.avi\n",
      "Duration of video [s]:  12.5 , recorded with  40.0 fps!\n",
      "Overall # of frames:  500  found with (before cropping) frame dimensions:  200 200\n",
      "Starting to extract posture\n"
     ]
    },
    {
     "name": "stderr",
     "output_type": "stream",
     "text": [
      "510it [00:04, 121.34it/s]                                                                                              \n"
     ]
    },
    {
     "name": "stdout",
     "output_type": "stream",
     "text": [
      "Saving results in D:\\Sidevideos\\ar34motor\\2022_02_18...\n",
      "Saving csv poses!\n",
      "Starting to analyze %  D:\\Sidevideos\\ar34motor\\2022_02_18\\131EYE.avi\n",
      "Loading  D:\\Sidevideos\\ar34motor\\2022_02_18\\131EYE.avi\n",
      "Duration of video [s]:  12.5 , recorded with  40.0 fps!\n",
      "Overall # of frames:  500  found with (before cropping) frame dimensions:  200 200\n",
      "Starting to extract posture\n"
     ]
    },
    {
     "name": "stderr",
     "output_type": "stream",
     "text": [
      "510it [00:03, 139.07it/s]                                                                                              \n"
     ]
    },
    {
     "name": "stdout",
     "output_type": "stream",
     "text": [
      "Saving results in D:\\Sidevideos\\ar34motor\\2022_02_18...\n",
      "Saving csv poses!\n",
      "Starting to analyze %  D:\\Sidevideos\\ar34motor\\2022_02_18\\132EYE.avi\n",
      "Loading  D:\\Sidevideos\\ar34motor\\2022_02_18\\132EYE.avi\n",
      "Duration of video [s]:  12.5 , recorded with  40.0 fps!\n",
      "Overall # of frames:  500  found with (before cropping) frame dimensions:  200 200\n",
      "Starting to extract posture\n"
     ]
    },
    {
     "name": "stderr",
     "output_type": "stream",
     "text": [
      "510it [00:03, 140.67it/s]                                                                                              \n"
     ]
    },
    {
     "name": "stdout",
     "output_type": "stream",
     "text": [
      "Saving results in D:\\Sidevideos\\ar34motor\\2022_02_18...\n",
      "Saving csv poses!\n",
      "Starting to analyze %  D:\\Sidevideos\\ar34motor\\2022_02_18\\133EYE.avi\n",
      "Loading  D:\\Sidevideos\\ar34motor\\2022_02_18\\133EYE.avi\n",
      "Duration of video [s]:  12.5 , recorded with  40.0 fps!\n",
      "Overall # of frames:  500  found with (before cropping) frame dimensions:  200 200\n",
      "Starting to extract posture\n"
     ]
    },
    {
     "name": "stderr",
     "output_type": "stream",
     "text": [
      "510it [00:03, 139.37it/s]                                                                                              \n"
     ]
    },
    {
     "name": "stdout",
     "output_type": "stream",
     "text": [
      "Saving results in D:\\Sidevideos\\ar34motor\\2022_02_18...\n",
      "Saving csv poses!\n",
      "Starting to analyze %  D:\\Sidevideos\\ar34motor\\2022_02_18\\134EYE.avi\n",
      "Loading  D:\\Sidevideos\\ar34motor\\2022_02_18\\134EYE.avi\n",
      "Duration of video [s]:  12.5 , recorded with  40.0 fps!\n",
      "Overall # of frames:  500  found with (before cropping) frame dimensions:  200 200\n",
      "Starting to extract posture\n"
     ]
    },
    {
     "name": "stderr",
     "output_type": "stream",
     "text": [
      "510it [00:03, 136.54it/s]                                                                                              \n"
     ]
    },
    {
     "name": "stdout",
     "output_type": "stream",
     "text": [
      "Saving results in D:\\Sidevideos\\ar34motor\\2022_02_18...\n",
      "Saving csv poses!\n",
      "Starting to analyze %  D:\\Sidevideos\\ar34motor\\2022_02_18\\135EYE.avi\n",
      "Loading  D:\\Sidevideos\\ar34motor\\2022_02_18\\135EYE.avi\n",
      "Duration of video [s]:  12.5 , recorded with  40.0 fps!\n",
      "Overall # of frames:  500  found with (before cropping) frame dimensions:  200 200\n",
      "Starting to extract posture\n"
     ]
    },
    {
     "name": "stderr",
     "output_type": "stream",
     "text": [
      "510it [00:03, 139.82it/s]                                                                                              \n"
     ]
    },
    {
     "name": "stdout",
     "output_type": "stream",
     "text": [
      "Saving results in D:\\Sidevideos\\ar34motor\\2022_02_18...\n",
      "Saving csv poses!\n",
      "Starting to analyze %  D:\\Sidevideos\\ar34motor\\2022_02_18\\136EYE.avi\n",
      "Loading  D:\\Sidevideos\\ar34motor\\2022_02_18\\136EYE.avi\n",
      "Duration of video [s]:  12.5 , recorded with  40.0 fps!\n",
      "Overall # of frames:  500  found with (before cropping) frame dimensions:  200 200\n",
      "Starting to extract posture\n"
     ]
    },
    {
     "name": "stderr",
     "output_type": "stream",
     "text": [
      "510it [00:03, 138.53it/s]                                                                                              \n"
     ]
    },
    {
     "name": "stdout",
     "output_type": "stream",
     "text": [
      "Saving results in D:\\Sidevideos\\ar34motor\\2022_02_18...\n",
      "Saving csv poses!\n",
      "Starting to analyze %  D:\\Sidevideos\\ar34motor\\2022_02_18\\137EYE.avi\n",
      "Loading  D:\\Sidevideos\\ar34motor\\2022_02_18\\137EYE.avi\n",
      "Duration of video [s]:  12.5 , recorded with  40.0 fps!\n",
      "Overall # of frames:  500  found with (before cropping) frame dimensions:  200 200\n",
      "Starting to extract posture\n"
     ]
    },
    {
     "name": "stderr",
     "output_type": "stream",
     "text": [
      "510it [00:03, 137.91it/s]                                                                                              \n"
     ]
    },
    {
     "name": "stdout",
     "output_type": "stream",
     "text": [
      "Saving results in D:\\Sidevideos\\ar34motor\\2022_02_18...\n",
      "Saving csv poses!\n",
      "Starting to analyze %  D:\\Sidevideos\\ar34motor\\2022_02_18\\138EYE.avi\n",
      "Loading  D:\\Sidevideos\\ar34motor\\2022_02_18\\138EYE.avi\n",
      "Duration of video [s]:  12.5 , recorded with  40.0 fps!\n",
      "Overall # of frames:  500  found with (before cropping) frame dimensions:  200 200\n",
      "Starting to extract posture\n"
     ]
    },
    {
     "name": "stderr",
     "output_type": "stream",
     "text": [
      "510it [00:03, 139.85it/s]                                                                                              \n"
     ]
    },
    {
     "name": "stdout",
     "output_type": "stream",
     "text": [
      "Saving results in D:\\Sidevideos\\ar34motor\\2022_02_18...\n",
      "Saving csv poses!\n",
      "Starting to analyze %  D:\\Sidevideos\\ar34motor\\2022_02_18\\139EYE.avi\n",
      "Loading  D:\\Sidevideos\\ar34motor\\2022_02_18\\139EYE.avi\n",
      "Duration of video [s]:  12.5 , recorded with  40.0 fps!\n",
      "Overall # of frames:  500  found with (before cropping) frame dimensions:  200 200\n",
      "Starting to extract posture\n"
     ]
    },
    {
     "name": "stderr",
     "output_type": "stream",
     "text": [
      "510it [00:03, 139.40it/s]                                                                                              \n"
     ]
    },
    {
     "name": "stdout",
     "output_type": "stream",
     "text": [
      "Saving results in D:\\Sidevideos\\ar34motor\\2022_02_18...\n",
      "Saving csv poses!\n",
      "Starting to analyze %  D:\\Sidevideos\\ar34motor\\2022_02_18\\13EYE.avi\n",
      "Loading  D:\\Sidevideos\\ar34motor\\2022_02_18\\13EYE.avi\n",
      "Duration of video [s]:  6.7 , recorded with  40.0 fps!\n",
      "Overall # of frames:  268  found with (before cropping) frame dimensions:  200 200\n",
      "Starting to extract posture\n"
     ]
    },
    {
     "name": "stderr",
     "output_type": "stream",
     "text": [
      "270it [00:01, 135.56it/s]                                                                                              \n"
     ]
    },
    {
     "name": "stdout",
     "output_type": "stream",
     "text": [
      "Saving results in D:\\Sidevideos\\ar34motor\\2022_02_18...\n",
      "Saving csv poses!\n",
      "Starting to analyze %  D:\\Sidevideos\\ar34motor\\2022_02_18\\140EYE.avi\n",
      "Loading  D:\\Sidevideos\\ar34motor\\2022_02_18\\140EYE.avi\n",
      "Duration of video [s]:  12.5 , recorded with  40.0 fps!\n",
      "Overall # of frames:  500  found with (before cropping) frame dimensions:  200 200\n",
      "Starting to extract posture\n"
     ]
    },
    {
     "name": "stderr",
     "output_type": "stream",
     "text": [
      "510it [00:03, 139.71it/s]                                                                                              \n"
     ]
    },
    {
     "name": "stdout",
     "output_type": "stream",
     "text": [
      "Saving results in D:\\Sidevideos\\ar34motor\\2022_02_18...\n",
      "Saving csv poses!\n",
      "Starting to analyze %  D:\\Sidevideos\\ar34motor\\2022_02_18\\141EYE.avi\n",
      "Loading  D:\\Sidevideos\\ar34motor\\2022_02_18\\141EYE.avi\n",
      "Duration of video [s]:  12.5 , recorded with  40.0 fps!\n",
      "Overall # of frames:  500  found with (before cropping) frame dimensions:  200 200\n",
      "Starting to extract posture\n"
     ]
    },
    {
     "name": "stderr",
     "output_type": "stream",
     "text": [
      "510it [00:03, 136.80it/s]                                                                                              \n"
     ]
    },
    {
     "name": "stdout",
     "output_type": "stream",
     "text": [
      "Saving results in D:\\Sidevideos\\ar34motor\\2022_02_18...\n",
      "Saving csv poses!\n",
      "Starting to analyze %  D:\\Sidevideos\\ar34motor\\2022_02_18\\142EYE.avi\n",
      "Loading  D:\\Sidevideos\\ar34motor\\2022_02_18\\142EYE.avi\n",
      "Duration of video [s]:  12.5 , recorded with  40.0 fps!\n",
      "Overall # of frames:  500  found with (before cropping) frame dimensions:  200 200\n",
      "Starting to extract posture\n"
     ]
    },
    {
     "name": "stderr",
     "output_type": "stream",
     "text": [
      "510it [00:03, 140.06it/s]                                                                                              \n"
     ]
    },
    {
     "name": "stdout",
     "output_type": "stream",
     "text": [
      "Saving results in D:\\Sidevideos\\ar34motor\\2022_02_18...\n",
      "Saving csv poses!\n",
      "Starting to analyze %  D:\\Sidevideos\\ar34motor\\2022_02_18\\143EYE.avi\n",
      "Loading  D:\\Sidevideos\\ar34motor\\2022_02_18\\143EYE.avi\n",
      "Duration of video [s]:  12.5 , recorded with  40.0 fps!\n",
      "Overall # of frames:  500  found with (before cropping) frame dimensions:  200 200\n",
      "Starting to extract posture\n"
     ]
    },
    {
     "name": "stderr",
     "output_type": "stream",
     "text": [
      "510it [00:04, 122.83it/s]                                                                                              \n"
     ]
    },
    {
     "name": "stdout",
     "output_type": "stream",
     "text": [
      "Saving results in D:\\Sidevideos\\ar34motor\\2022_02_18...\n",
      "Saving csv poses!\n",
      "Starting to analyze %  D:\\Sidevideos\\ar34motor\\2022_02_18\\144EYE.avi\n",
      "Loading  D:\\Sidevideos\\ar34motor\\2022_02_18\\144EYE.avi\n",
      "Duration of video [s]:  12.5 , recorded with  40.0 fps!\n",
      "Overall # of frames:  500  found with (before cropping) frame dimensions:  200 200\n",
      "Starting to extract posture\n"
     ]
    },
    {
     "name": "stderr",
     "output_type": "stream",
     "text": [
      "510it [00:03, 140.41it/s]                                                                                              \n"
     ]
    },
    {
     "name": "stdout",
     "output_type": "stream",
     "text": [
      "Saving results in D:\\Sidevideos\\ar34motor\\2022_02_18...\n",
      "Saving csv poses!\n",
      "Starting to analyze %  D:\\Sidevideos\\ar34motor\\2022_02_18\\145EYE.avi\n",
      "Loading  D:\\Sidevideos\\ar34motor\\2022_02_18\\145EYE.avi\n",
      "Duration of video [s]:  12.5 , recorded with  40.0 fps!\n",
      "Overall # of frames:  500  found with (before cropping) frame dimensions:  200 200\n",
      "Starting to extract posture\n"
     ]
    },
    {
     "name": "stderr",
     "output_type": "stream",
     "text": [
      "510it [00:03, 141.66it/s]                                                                                              \n"
     ]
    },
    {
     "name": "stdout",
     "output_type": "stream",
     "text": [
      "Saving results in D:\\Sidevideos\\ar34motor\\2022_02_18...\n",
      "Saving csv poses!\n",
      "Starting to analyze %  D:\\Sidevideos\\ar34motor\\2022_02_18\\146EYE.avi\n",
      "Loading  D:\\Sidevideos\\ar34motor\\2022_02_18\\146EYE.avi\n",
      "Duration of video [s]:  12.5 , recorded with  40.0 fps!\n",
      "Overall # of frames:  500  found with (before cropping) frame dimensions:  200 200\n",
      "Starting to extract posture\n"
     ]
    },
    {
     "name": "stderr",
     "output_type": "stream",
     "text": [
      "510it [00:03, 137.52it/s]                                                                                              \n"
     ]
    },
    {
     "name": "stdout",
     "output_type": "stream",
     "text": [
      "Saving results in D:\\Sidevideos\\ar34motor\\2022_02_18...\n",
      "Saving csv poses!\n",
      "Starting to analyze %  D:\\Sidevideos\\ar34motor\\2022_02_18\\147EYE.avi\n",
      "Loading  D:\\Sidevideos\\ar34motor\\2022_02_18\\147EYE.avi\n",
      "Duration of video [s]:  12.5 , recorded with  40.0 fps!\n",
      "Overall # of frames:  500  found with (before cropping) frame dimensions:  200 200\n",
      "Starting to extract posture\n"
     ]
    },
    {
     "name": "stderr",
     "output_type": "stream",
     "text": [
      "510it [00:03, 138.65it/s]                                                                                              \n"
     ]
    },
    {
     "name": "stdout",
     "output_type": "stream",
     "text": [
      "Saving results in D:\\Sidevideos\\ar34motor\\2022_02_18...\n",
      "Saving csv poses!\n",
      "Starting to analyze %  D:\\Sidevideos\\ar34motor\\2022_02_18\\148EYE.avi\n",
      "Loading  D:\\Sidevideos\\ar34motor\\2022_02_18\\148EYE.avi\n",
      "Duration of video [s]:  12.5 , recorded with  40.0 fps!\n",
      "Overall # of frames:  500  found with (before cropping) frame dimensions:  200 200\n",
      "Starting to extract posture\n"
     ]
    },
    {
     "name": "stderr",
     "output_type": "stream",
     "text": [
      "510it [00:03, 137.20it/s]                                                                                              \n"
     ]
    },
    {
     "name": "stdout",
     "output_type": "stream",
     "text": [
      "Saving results in D:\\Sidevideos\\ar34motor\\2022_02_18...\n",
      "Saving csv poses!\n",
      "Starting to analyze %  D:\\Sidevideos\\ar34motor\\2022_02_18\\149EYE.avi\n",
      "Loading  D:\\Sidevideos\\ar34motor\\2022_02_18\\149EYE.avi\n",
      "Duration of video [s]:  12.5 , recorded with  40.0 fps!\n",
      "Overall # of frames:  500  found with (before cropping) frame dimensions:  200 200\n",
      "Starting to extract posture\n"
     ]
    },
    {
     "name": "stderr",
     "output_type": "stream",
     "text": [
      "510it [00:03, 140.95it/s]                                                                                              \n"
     ]
    },
    {
     "name": "stdout",
     "output_type": "stream",
     "text": [
      "Saving results in D:\\Sidevideos\\ar34motor\\2022_02_18...\n",
      "Saving csv poses!\n",
      "Starting to analyze %  D:\\Sidevideos\\ar34motor\\2022_02_18\\14EYE.avi\n",
      "Loading  D:\\Sidevideos\\ar34motor\\2022_02_18\\14EYE.avi\n",
      "Duration of video [s]:  12.5 , recorded with  40.0 fps!\n",
      "Overall # of frames:  500  found with (before cropping) frame dimensions:  200 200\n",
      "Starting to extract posture\n"
     ]
    },
    {
     "name": "stderr",
     "output_type": "stream",
     "text": [
      "510it [00:03, 134.32it/s]                                                                                              \n"
     ]
    },
    {
     "name": "stdout",
     "output_type": "stream",
     "text": [
      "Saving results in D:\\Sidevideos\\ar34motor\\2022_02_18...\n",
      "Saving csv poses!\n",
      "Starting to analyze %  D:\\Sidevideos\\ar34motor\\2022_02_18\\150EYE.avi\n",
      "Loading  D:\\Sidevideos\\ar34motor\\2022_02_18\\150EYE.avi\n",
      "Duration of video [s]:  12.5 , recorded with  40.0 fps!\n",
      "Overall # of frames:  500  found with (before cropping) frame dimensions:  200 200\n",
      "Starting to extract posture\n"
     ]
    },
    {
     "name": "stderr",
     "output_type": "stream",
     "text": [
      "510it [00:03, 138.26it/s]                                                                                              \n"
     ]
    },
    {
     "name": "stdout",
     "output_type": "stream",
     "text": [
      "Saving results in D:\\Sidevideos\\ar34motor\\2022_02_18...\n",
      "Saving csv poses!\n",
      "Starting to analyze %  D:\\Sidevideos\\ar34motor\\2022_02_18\\151EYE.avi\n",
      "Loading  D:\\Sidevideos\\ar34motor\\2022_02_18\\151EYE.avi\n",
      "Duration of video [s]:  12.5 , recorded with  40.0 fps!\n",
      "Overall # of frames:  500  found with (before cropping) frame dimensions:  200 200\n",
      "Starting to extract posture\n"
     ]
    },
    {
     "name": "stderr",
     "output_type": "stream",
     "text": [
      "510it [00:03, 137.39it/s]                                                                                              \n"
     ]
    },
    {
     "name": "stdout",
     "output_type": "stream",
     "text": [
      "Saving results in D:\\Sidevideos\\ar34motor\\2022_02_18...\n",
      "Saving csv poses!\n",
      "Starting to analyze %  D:\\Sidevideos\\ar34motor\\2022_02_18\\152EYE.avi\n",
      "Loading  D:\\Sidevideos\\ar34motor\\2022_02_18\\152EYE.avi\n",
      "Duration of video [s]:  12.5 , recorded with  40.0 fps!\n",
      "Overall # of frames:  500  found with (before cropping) frame dimensions:  200 200\n",
      "Starting to extract posture\n"
     ]
    },
    {
     "name": "stderr",
     "output_type": "stream",
     "text": [
      "510it [00:03, 139.93it/s]                                                                                              \n"
     ]
    },
    {
     "name": "stdout",
     "output_type": "stream",
     "text": [
      "Saving results in D:\\Sidevideos\\ar34motor\\2022_02_18...\n",
      "Saving csv poses!\n",
      "Starting to analyze %  D:\\Sidevideos\\ar34motor\\2022_02_18\\153EYE.avi\n",
      "Loading  D:\\Sidevideos\\ar34motor\\2022_02_18\\153EYE.avi\n",
      "Duration of video [s]:  12.5 , recorded with  40.0 fps!\n",
      "Overall # of frames:  500  found with (before cropping) frame dimensions:  200 200\n",
      "Starting to extract posture\n"
     ]
    },
    {
     "name": "stderr",
     "output_type": "stream",
     "text": [
      "510it [00:03, 139.88it/s]                                                                                              \n"
     ]
    },
    {
     "name": "stdout",
     "output_type": "stream",
     "text": [
      "Saving results in D:\\Sidevideos\\ar34motor\\2022_02_18...\n",
      "Saving csv poses!\n",
      "Starting to analyze %  D:\\Sidevideos\\ar34motor\\2022_02_18\\154EYE.avi\n",
      "Loading  D:\\Sidevideos\\ar34motor\\2022_02_18\\154EYE.avi\n",
      "Duration of video [s]:  12.5 , recorded with  40.0 fps!\n",
      "Overall # of frames:  500  found with (before cropping) frame dimensions:  200 200\n",
      "Starting to extract posture\n"
     ]
    },
    {
     "name": "stderr",
     "output_type": "stream",
     "text": [
      "510it [00:03, 140.50it/s]                                                                                              \n"
     ]
    },
    {
     "name": "stdout",
     "output_type": "stream",
     "text": [
      "Saving results in D:\\Sidevideos\\ar34motor\\2022_02_18...\n",
      "Saving csv poses!\n",
      "Starting to analyze %  D:\\Sidevideos\\ar34motor\\2022_02_18\\155EYE.avi\n",
      "Loading  D:\\Sidevideos\\ar34motor\\2022_02_18\\155EYE.avi\n",
      "Duration of video [s]:  12.5 , recorded with  40.0 fps!\n",
      "Overall # of frames:  500  found with (before cropping) frame dimensions:  200 200\n",
      "Starting to extract posture\n"
     ]
    },
    {
     "name": "stderr",
     "output_type": "stream",
     "text": [
      "510it [00:03, 138.71it/s]                                                                                              \n"
     ]
    },
    {
     "name": "stdout",
     "output_type": "stream",
     "text": [
      "Saving results in D:\\Sidevideos\\ar34motor\\2022_02_18...\n",
      "Saving csv poses!\n",
      "Starting to analyze %  D:\\Sidevideos\\ar34motor\\2022_02_18\\156EYE.avi\n",
      "Loading  D:\\Sidevideos\\ar34motor\\2022_02_18\\156EYE.avi\n",
      "Duration of video [s]:  9.62 , recorded with  40.0 fps!\n",
      "Overall # of frames:  385  found with (before cropping) frame dimensions:  200 200\n",
      "Starting to extract posture\n"
     ]
    },
    {
     "name": "stderr",
     "output_type": "stream",
     "text": [
      "390it [00:03, 123.27it/s]                                                                                              \n"
     ]
    },
    {
     "name": "stdout",
     "output_type": "stream",
     "text": [
      "Saving results in D:\\Sidevideos\\ar34motor\\2022_02_18...\n",
      "Saving csv poses!\n",
      "Starting to analyze %  D:\\Sidevideos\\ar34motor\\2022_02_18\\157EYE.avi\n",
      "Loading  D:\\Sidevideos\\ar34motor\\2022_02_18\\157EYE.avi\n",
      "Duration of video [s]:  11.53 , recorded with  40.0 fps!\n",
      "Overall # of frames:  461  found with (before cropping) frame dimensions:  200 200\n",
      "Starting to extract posture\n"
     ]
    },
    {
     "name": "stderr",
     "output_type": "stream",
     "text": [
      "470it [00:03, 138.24it/s]                                                                                              \n"
     ]
    },
    {
     "name": "stdout",
     "output_type": "stream",
     "text": [
      "Saving results in D:\\Sidevideos\\ar34motor\\2022_02_18...\n",
      "Saving csv poses!\n",
      "Starting to analyze %  D:\\Sidevideos\\ar34motor\\2022_02_18\\158EYE.avi\n",
      "Loading  D:\\Sidevideos\\ar34motor\\2022_02_18\\158EYE.avi\n",
      "Duration of video [s]:  12.5 , recorded with  40.0 fps!\n",
      "Overall # of frames:  500  found with (before cropping) frame dimensions:  200 200\n",
      "Starting to extract posture\n"
     ]
    },
    {
     "name": "stderr",
     "output_type": "stream",
     "text": [
      "510it [00:03, 131.63it/s]                                                                                              \n"
     ]
    },
    {
     "name": "stdout",
     "output_type": "stream",
     "text": [
      "Saving results in D:\\Sidevideos\\ar34motor\\2022_02_18...\n",
      "Saving csv poses!\n",
      "Starting to analyze %  D:\\Sidevideos\\ar34motor\\2022_02_18\\159EYE.avi\n",
      "Loading  D:\\Sidevideos\\ar34motor\\2022_02_18\\159EYE.avi\n",
      "Duration of video [s]:  12.5 , recorded with  40.0 fps!\n",
      "Overall # of frames:  500  found with (before cropping) frame dimensions:  200 200\n",
      "Starting to extract posture\n"
     ]
    },
    {
     "name": "stderr",
     "output_type": "stream",
     "text": [
      "510it [00:03, 138.18it/s]                                                                                              \n"
     ]
    },
    {
     "name": "stdout",
     "output_type": "stream",
     "text": [
      "Saving results in D:\\Sidevideos\\ar34motor\\2022_02_18...\n",
      "Saving csv poses!\n",
      "Starting to analyze %  D:\\Sidevideos\\ar34motor\\2022_02_18\\15EYE.avi\n",
      "Loading  D:\\Sidevideos\\ar34motor\\2022_02_18\\15EYE.avi\n",
      "Duration of video [s]:  6.05 , recorded with  40.0 fps!\n",
      "Overall # of frames:  242  found with (before cropping) frame dimensions:  200 200\n",
      "Starting to extract posture\n"
     ]
    },
    {
     "name": "stderr",
     "output_type": "stream",
     "text": [
      "250it [00:01, 138.15it/s]                                                                                              \n"
     ]
    },
    {
     "name": "stdout",
     "output_type": "stream",
     "text": [
      "Saving results in D:\\Sidevideos\\ar34motor\\2022_02_18...\n",
      "Saving csv poses!\n",
      "Starting to analyze %  D:\\Sidevideos\\ar34motor\\2022_02_18\\160EYE.avi\n",
      "Loading  D:\\Sidevideos\\ar34motor\\2022_02_18\\160EYE.avi\n",
      "Duration of video [s]:  12.5 , recorded with  40.0 fps!\n",
      "Overall # of frames:  500  found with (before cropping) frame dimensions:  200 200\n",
      "Starting to extract posture\n"
     ]
    },
    {
     "name": "stderr",
     "output_type": "stream",
     "text": [
      "510it [00:03, 140.83it/s]                                                                                              \n"
     ]
    },
    {
     "name": "stdout",
     "output_type": "stream",
     "text": [
      "Saving results in D:\\Sidevideos\\ar34motor\\2022_02_18...\n",
      "Saving csv poses!\n",
      "Starting to analyze %  D:\\Sidevideos\\ar34motor\\2022_02_18\\161EYE.avi\n",
      "Loading  D:\\Sidevideos\\ar34motor\\2022_02_18\\161EYE.avi\n",
      "Duration of video [s]:  12.5 , recorded with  40.0 fps!\n",
      "Overall # of frames:  500  found with (before cropping) frame dimensions:  200 200\n",
      "Starting to extract posture\n"
     ]
    },
    {
     "name": "stderr",
     "output_type": "stream",
     "text": [
      "510it [00:03, 139.70it/s]                                                                                              \n"
     ]
    },
    {
     "name": "stdout",
     "output_type": "stream",
     "text": [
      "Saving results in D:\\Sidevideos\\ar34motor\\2022_02_18...\n",
      "Saving csv poses!\n",
      "Starting to analyze %  D:\\Sidevideos\\ar34motor\\2022_02_18\\162EYE.avi\n",
      "Loading  D:\\Sidevideos\\ar34motor\\2022_02_18\\162EYE.avi\n",
      "Duration of video [s]:  12.5 , recorded with  40.0 fps!\n",
      "Overall # of frames:  500  found with (before cropping) frame dimensions:  200 200\n",
      "Starting to extract posture\n"
     ]
    },
    {
     "name": "stderr",
     "output_type": "stream",
     "text": [
      "510it [00:03, 139.36it/s]                                                                                              \n"
     ]
    },
    {
     "name": "stdout",
     "output_type": "stream",
     "text": [
      "Saving results in D:\\Sidevideos\\ar34motor\\2022_02_18...\n",
      "Saving csv poses!\n",
      "Starting to analyze %  D:\\Sidevideos\\ar34motor\\2022_02_18\\163EYE.avi\n",
      "Loading  D:\\Sidevideos\\ar34motor\\2022_02_18\\163EYE.avi\n",
      "Duration of video [s]:  5.8 , recorded with  40.0 fps!\n",
      "Overall # of frames:  232  found with (before cropping) frame dimensions:  200 200\n",
      "Starting to extract posture\n"
     ]
    },
    {
     "name": "stderr",
     "output_type": "stream",
     "text": [
      "240it [00:01, 142.87it/s]                                                                                              \n"
     ]
    },
    {
     "name": "stdout",
     "output_type": "stream",
     "text": [
      "Saving results in D:\\Sidevideos\\ar34motor\\2022_02_18...\n",
      "Saving csv poses!\n",
      "Starting to analyze %  D:\\Sidevideos\\ar34motor\\2022_02_18\\164EYE.avi\n",
      "Loading  D:\\Sidevideos\\ar34motor\\2022_02_18\\164EYE.avi\n",
      "Duration of video [s]:  12.5 , recorded with  40.0 fps!\n",
      "Overall # of frames:  500  found with (before cropping) frame dimensions:  200 200\n",
      "Starting to extract posture\n"
     ]
    },
    {
     "name": "stderr",
     "output_type": "stream",
     "text": [
      "510it [00:03, 139.11it/s]                                                                                              \n"
     ]
    },
    {
     "name": "stdout",
     "output_type": "stream",
     "text": [
      "Saving results in D:\\Sidevideos\\ar34motor\\2022_02_18...\n",
      "Saving csv poses!\n",
      "Starting to analyze %  D:\\Sidevideos\\ar34motor\\2022_02_18\\165EYE.avi\n",
      "Loading  D:\\Sidevideos\\ar34motor\\2022_02_18\\165EYE.avi\n",
      "Duration of video [s]:  12.5 , recorded with  40.0 fps!\n",
      "Overall # of frames:  500  found with (before cropping) frame dimensions:  200 200\n",
      "Starting to extract posture\n"
     ]
    },
    {
     "name": "stderr",
     "output_type": "stream",
     "text": [
      "510it [00:03, 141.19it/s]                                                                                              \n"
     ]
    },
    {
     "name": "stdout",
     "output_type": "stream",
     "text": [
      "Saving results in D:\\Sidevideos\\ar34motor\\2022_02_18...\n",
      "Saving csv poses!\n",
      "Starting to analyze %  D:\\Sidevideos\\ar34motor\\2022_02_18\\166EYE.avi\n",
      "Loading  D:\\Sidevideos\\ar34motor\\2022_02_18\\166EYE.avi\n",
      "Duration of video [s]:  12.5 , recorded with  40.0 fps!\n",
      "Overall # of frames:  500  found with (before cropping) frame dimensions:  200 200\n",
      "Starting to extract posture\n"
     ]
    },
    {
     "name": "stderr",
     "output_type": "stream",
     "text": [
      "510it [00:03, 140.10it/s]                                                                                              \n"
     ]
    },
    {
     "name": "stdout",
     "output_type": "stream",
     "text": [
      "Saving results in D:\\Sidevideos\\ar34motor\\2022_02_18...\n",
      "Saving csv poses!\n",
      "Starting to analyze %  D:\\Sidevideos\\ar34motor\\2022_02_18\\167EYE.avi\n",
      "Loading  D:\\Sidevideos\\ar34motor\\2022_02_18\\167EYE.avi\n",
      "Duration of video [s]:  12.5 , recorded with  40.0 fps!\n",
      "Overall # of frames:  500  found with (before cropping) frame dimensions:  200 200\n",
      "Starting to extract posture\n"
     ]
    },
    {
     "name": "stderr",
     "output_type": "stream",
     "text": [
      "510it [00:03, 140.58it/s]                                                                                              \n"
     ]
    },
    {
     "name": "stdout",
     "output_type": "stream",
     "text": [
      "Saving results in D:\\Sidevideos\\ar34motor\\2022_02_18...\n",
      "Saving csv poses!\n",
      "Starting to analyze %  D:\\Sidevideos\\ar34motor\\2022_02_18\\168EYE.avi\n",
      "Loading  D:\\Sidevideos\\ar34motor\\2022_02_18\\168EYE.avi\n",
      "Duration of video [s]:  12.5 , recorded with  40.0 fps!\n",
      "Overall # of frames:  500  found with (before cropping) frame dimensions:  200 200\n",
      "Starting to extract posture\n"
     ]
    },
    {
     "name": "stderr",
     "output_type": "stream",
     "text": [
      "510it [00:03, 140.19it/s]                                                                                              \n"
     ]
    },
    {
     "name": "stdout",
     "output_type": "stream",
     "text": [
      "Saving results in D:\\Sidevideos\\ar34motor\\2022_02_18...\n",
      "Saving csv poses!\n",
      "Starting to analyze %  D:\\Sidevideos\\ar34motor\\2022_02_18\\169EYE.avi\n",
      "Loading  D:\\Sidevideos\\ar34motor\\2022_02_18\\169EYE.avi\n",
      "Duration of video [s]:  12.5 , recorded with  40.0 fps!\n",
      "Overall # of frames:  500  found with (before cropping) frame dimensions:  200 200\n",
      "Starting to extract posture\n"
     ]
    },
    {
     "name": "stderr",
     "output_type": "stream",
     "text": [
      "510it [00:03, 139.51it/s]                                                                                              \n"
     ]
    },
    {
     "name": "stdout",
     "output_type": "stream",
     "text": [
      "Saving results in D:\\Sidevideos\\ar34motor\\2022_02_18...\n",
      "Saving csv poses!\n",
      "Starting to analyze %  D:\\Sidevideos\\ar34motor\\2022_02_18\\16EYE.avi\n",
      "Loading  D:\\Sidevideos\\ar34motor\\2022_02_18\\16EYE.avi\n",
      "Duration of video [s]:  12.5 , recorded with  40.0 fps!\n",
      "Overall # of frames:  500  found with (before cropping) frame dimensions:  200 200\n",
      "Starting to extract posture\n"
     ]
    },
    {
     "name": "stderr",
     "output_type": "stream",
     "text": [
      "510it [00:03, 140.00it/s]                                                                                              \n"
     ]
    },
    {
     "name": "stdout",
     "output_type": "stream",
     "text": [
      "Saving results in D:\\Sidevideos\\ar34motor\\2022_02_18...\n",
      "Saving csv poses!\n",
      "Starting to analyze %  D:\\Sidevideos\\ar34motor\\2022_02_18\\170EYE.avi\n",
      "Loading  D:\\Sidevideos\\ar34motor\\2022_02_18\\170EYE.avi\n",
      "Duration of video [s]:  12.5 , recorded with  40.0 fps!\n",
      "Overall # of frames:  500  found with (before cropping) frame dimensions:  200 200\n",
      "Starting to extract posture\n"
     ]
    },
    {
     "name": "stderr",
     "output_type": "stream",
     "text": [
      "510it [00:03, 140.24it/s]                                                                                              \n"
     ]
    },
    {
     "name": "stdout",
     "output_type": "stream",
     "text": [
      "Saving results in D:\\Sidevideos\\ar34motor\\2022_02_18...\n",
      "Saving csv poses!\n",
      "Starting to analyze %  D:\\Sidevideos\\ar34motor\\2022_02_18\\171EYE.avi\n",
      "Loading  D:\\Sidevideos\\ar34motor\\2022_02_18\\171EYE.avi\n",
      "Duration of video [s]:  12.35 , recorded with  40.0 fps!\n",
      "Overall # of frames:  494  found with (before cropping) frame dimensions:  200 200\n",
      "Starting to extract posture\n"
     ]
    },
    {
     "name": "stderr",
     "output_type": "stream",
     "text": [
      "500it [00:03, 132.33it/s]                                                                                              \n"
     ]
    },
    {
     "name": "stdout",
     "output_type": "stream",
     "text": [
      "Saving results in D:\\Sidevideos\\ar34motor\\2022_02_18...\n",
      "Saving csv poses!\n",
      "Starting to analyze %  D:\\Sidevideos\\ar34motor\\2022_02_18\\172EYE.avi\n",
      "Loading  D:\\Sidevideos\\ar34motor\\2022_02_18\\172EYE.avi\n",
      "Duration of video [s]:  12.22 , recorded with  40.0 fps!\n",
      "Overall # of frames:  489  found with (before cropping) frame dimensions:  200 200\n",
      "Starting to extract posture\n"
     ]
    },
    {
     "name": "stderr",
     "output_type": "stream",
     "text": [
      "490it [00:03, 135.14it/s]                                                                                              \n"
     ]
    },
    {
     "name": "stdout",
     "output_type": "stream",
     "text": [
      "Saving results in D:\\Sidevideos\\ar34motor\\2022_02_18...\n",
      "Saving csv poses!\n",
      "Starting to analyze %  D:\\Sidevideos\\ar34motor\\2022_02_18\\173EYE.avi\n",
      "Loading  D:\\Sidevideos\\ar34motor\\2022_02_18\\173EYE.avi\n",
      "Duration of video [s]:  12.5 , recorded with  40.0 fps!\n",
      "Overall # of frames:  500  found with (before cropping) frame dimensions:  200 200\n",
      "Starting to extract posture\n"
     ]
    },
    {
     "name": "stderr",
     "output_type": "stream",
     "text": [
      "510it [00:03, 139.65it/s]                                                                                              \n"
     ]
    },
    {
     "name": "stdout",
     "output_type": "stream",
     "text": [
      "Saving results in D:\\Sidevideos\\ar34motor\\2022_02_18...\n",
      "Saving csv poses!\n",
      "Starting to analyze %  D:\\Sidevideos\\ar34motor\\2022_02_18\\174EYE.avi\n",
      "Loading  D:\\Sidevideos\\ar34motor\\2022_02_18\\174EYE.avi\n",
      "Duration of video [s]:  12.5 , recorded with  40.0 fps!\n",
      "Overall # of frames:  500  found with (before cropping) frame dimensions:  200 200\n",
      "Starting to extract posture\n"
     ]
    },
    {
     "name": "stderr",
     "output_type": "stream",
     "text": [
      "510it [00:03, 139.45it/s]                                                                                              \n"
     ]
    },
    {
     "name": "stdout",
     "output_type": "stream",
     "text": [
      "Saving results in D:\\Sidevideos\\ar34motor\\2022_02_18...\n",
      "Saving csv poses!\n",
      "Starting to analyze %  D:\\Sidevideos\\ar34motor\\2022_02_18\\175EYE.avi\n",
      "Loading  D:\\Sidevideos\\ar34motor\\2022_02_18\\175EYE.avi\n",
      "Duration of video [s]:  12.5 , recorded with  40.0 fps!\n",
      "Overall # of frames:  500  found with (before cropping) frame dimensions:  200 200\n",
      "Starting to extract posture\n"
     ]
    },
    {
     "name": "stderr",
     "output_type": "stream",
     "text": [
      "510it [00:03, 138.54it/s]                                                                                              \n"
     ]
    },
    {
     "name": "stdout",
     "output_type": "stream",
     "text": [
      "Saving results in D:\\Sidevideos\\ar34motor\\2022_02_18...\n",
      "Saving csv poses!\n",
      "Starting to analyze %  D:\\Sidevideos\\ar34motor\\2022_02_18\\176EYE.avi\n",
      "Loading  D:\\Sidevideos\\ar34motor\\2022_02_18\\176EYE.avi\n",
      "Duration of video [s]:  12.5 , recorded with  40.0 fps!\n",
      "Overall # of frames:  500  found with (before cropping) frame dimensions:  200 200\n",
      "Starting to extract posture\n"
     ]
    },
    {
     "name": "stderr",
     "output_type": "stream",
     "text": [
      "510it [00:04, 118.72it/s]                                                                                              \n"
     ]
    },
    {
     "name": "stdout",
     "output_type": "stream",
     "text": [
      "Saving results in D:\\Sidevideos\\ar34motor\\2022_02_18...\n",
      "Saving csv poses!\n",
      "Starting to analyze %  D:\\Sidevideos\\ar34motor\\2022_02_18\\177EYE.avi\n",
      "Loading  D:\\Sidevideos\\ar34motor\\2022_02_18\\177EYE.avi\n",
      "Duration of video [s]:  12.5 , recorded with  40.0 fps!\n",
      "Overall # of frames:  500  found with (before cropping) frame dimensions:  200 200\n",
      "Starting to extract posture\n"
     ]
    },
    {
     "name": "stderr",
     "output_type": "stream",
     "text": [
      "510it [00:03, 136.41it/s]                                                                                              \n"
     ]
    },
    {
     "name": "stdout",
     "output_type": "stream",
     "text": [
      "Saving results in D:\\Sidevideos\\ar34motor\\2022_02_18...\n",
      "Saving csv poses!\n",
      "Starting to analyze %  D:\\Sidevideos\\ar34motor\\2022_02_18\\178EYE.avi\n",
      "Loading  D:\\Sidevideos\\ar34motor\\2022_02_18\\178EYE.avi\n",
      "Duration of video [s]:  10.5 , recorded with  40.0 fps!\n",
      "Overall # of frames:  420  found with (before cropping) frame dimensions:  200 200\n",
      "Starting to extract posture\n"
     ]
    },
    {
     "name": "stderr",
     "output_type": "stream",
     "text": [
      "430it [00:03, 139.46it/s]                                                                                              \n"
     ]
    },
    {
     "name": "stdout",
     "output_type": "stream",
     "text": [
      "Saving results in D:\\Sidevideos\\ar34motor\\2022_02_18...\n",
      "Saving csv poses!\n",
      "Starting to analyze %  D:\\Sidevideos\\ar34motor\\2022_02_18\\179EYE.avi\n",
      "Loading  D:\\Sidevideos\\ar34motor\\2022_02_18\\179EYE.avi\n",
      "Duration of video [s]:  12.12 , recorded with  40.0 fps!\n",
      "Overall # of frames:  485  found with (before cropping) frame dimensions:  200 200\n",
      "Starting to extract posture\n"
     ]
    },
    {
     "name": "stderr",
     "output_type": "stream",
     "text": [
      "490it [00:03, 137.59it/s]                                                                                              \n"
     ]
    },
    {
     "name": "stdout",
     "output_type": "stream",
     "text": [
      "Saving results in D:\\Sidevideos\\ar34motor\\2022_02_18...\n",
      "Saving csv poses!\n",
      "Starting to analyze %  D:\\Sidevideos\\ar34motor\\2022_02_18\\17EYE.avi\n",
      "Loading  D:\\Sidevideos\\ar34motor\\2022_02_18\\17EYE.avi\n",
      "Duration of video [s]:  11.68 , recorded with  40.0 fps!\n",
      "Overall # of frames:  467  found with (before cropping) frame dimensions:  200 200\n",
      "Starting to extract posture\n"
     ]
    },
    {
     "name": "stderr",
     "output_type": "stream",
     "text": [
      "470it [00:03, 135.84it/s]                                                                                              \n"
     ]
    },
    {
     "name": "stdout",
     "output_type": "stream",
     "text": [
      "Saving results in D:\\Sidevideos\\ar34motor\\2022_02_18...\n",
      "Saving csv poses!\n",
      "Starting to analyze %  D:\\Sidevideos\\ar34motor\\2022_02_18\\180EYE.avi\n",
      "Loading  D:\\Sidevideos\\ar34motor\\2022_02_18\\180EYE.avi\n",
      "Duration of video [s]:  12.5 , recorded with  40.0 fps!\n",
      "Overall # of frames:  500  found with (before cropping) frame dimensions:  200 200\n",
      "Starting to extract posture\n"
     ]
    },
    {
     "name": "stderr",
     "output_type": "stream",
     "text": [
      "510it [00:03, 139.06it/s]                                                                                              \n"
     ]
    },
    {
     "name": "stdout",
     "output_type": "stream",
     "text": [
      "Saving results in D:\\Sidevideos\\ar34motor\\2022_02_18...\n",
      "Saving csv poses!\n",
      "Starting to analyze %  D:\\Sidevideos\\ar34motor\\2022_02_18\\181EYE.avi\n",
      "Loading  D:\\Sidevideos\\ar34motor\\2022_02_18\\181EYE.avi\n",
      "Duration of video [s]:  12.5 , recorded with  40.0 fps!\n",
      "Overall # of frames:  500  found with (before cropping) frame dimensions:  200 200\n",
      "Starting to extract posture\n"
     ]
    },
    {
     "name": "stderr",
     "output_type": "stream",
     "text": [
      "510it [00:03, 139.24it/s]                                                                                              \n"
     ]
    },
    {
     "name": "stdout",
     "output_type": "stream",
     "text": [
      "Saving results in D:\\Sidevideos\\ar34motor\\2022_02_18...\n",
      "Saving csv poses!\n",
      "Starting to analyze %  D:\\Sidevideos\\ar34motor\\2022_02_18\\182EYE.avi\n",
      "Loading  D:\\Sidevideos\\ar34motor\\2022_02_18\\182EYE.avi\n",
      "Duration of video [s]:  12.5 , recorded with  40.0 fps!\n",
      "Overall # of frames:  500  found with (before cropping) frame dimensions:  200 200\n",
      "Starting to extract posture\n"
     ]
    },
    {
     "name": "stderr",
     "output_type": "stream",
     "text": [
      "510it [00:03, 139.63it/s]                                                                                              \n"
     ]
    },
    {
     "name": "stdout",
     "output_type": "stream",
     "text": [
      "Saving results in D:\\Sidevideos\\ar34motor\\2022_02_18...\n",
      "Saving csv poses!\n",
      "Starting to analyze %  D:\\Sidevideos\\ar34motor\\2022_02_18\\183EYE.avi\n",
      "Loading  D:\\Sidevideos\\ar34motor\\2022_02_18\\183EYE.avi\n",
      "Duration of video [s]:  12.35 , recorded with  40.0 fps!\n",
      "Overall # of frames:  494  found with (before cropping) frame dimensions:  200 200\n",
      "Starting to extract posture\n"
     ]
    },
    {
     "name": "stderr",
     "output_type": "stream",
     "text": [
      "500it [00:03, 139.20it/s]                                                                                              \n"
     ]
    },
    {
     "name": "stdout",
     "output_type": "stream",
     "text": [
      "Saving results in D:\\Sidevideos\\ar34motor\\2022_02_18...\n",
      "Saving csv poses!\n",
      "Starting to analyze %  D:\\Sidevideos\\ar34motor\\2022_02_18\\184EYE.avi\n",
      "Loading  D:\\Sidevideos\\ar34motor\\2022_02_18\\184EYE.avi\n",
      "Duration of video [s]:  12.1 , recorded with  40.0 fps!\n",
      "Overall # of frames:  484  found with (before cropping) frame dimensions:  200 200\n",
      "Starting to extract posture\n"
     ]
    },
    {
     "name": "stderr",
     "output_type": "stream",
     "text": [
      "490it [00:03, 139.16it/s]                                                                                              \n"
     ]
    },
    {
     "name": "stdout",
     "output_type": "stream",
     "text": [
      "Saving results in D:\\Sidevideos\\ar34motor\\2022_02_18...\n",
      "Saving csv poses!\n",
      "Starting to analyze %  D:\\Sidevideos\\ar34motor\\2022_02_18\\185EYE.avi\n",
      "Loading  D:\\Sidevideos\\ar34motor\\2022_02_18\\185EYE.avi\n",
      "Duration of video [s]:  12.5 , recorded with  40.0 fps!\n",
      "Overall # of frames:  500  found with (before cropping) frame dimensions:  200 200\n",
      "Starting to extract posture\n"
     ]
    },
    {
     "name": "stderr",
     "output_type": "stream",
     "text": [
      "510it [00:03, 140.07it/s]                                                                                              \n"
     ]
    },
    {
     "name": "stdout",
     "output_type": "stream",
     "text": [
      "Saving results in D:\\Sidevideos\\ar34motor\\2022_02_18...\n",
      "Saving csv poses!\n",
      "Starting to analyze %  D:\\Sidevideos\\ar34motor\\2022_02_18\\186EYE.avi\n",
      "Loading  D:\\Sidevideos\\ar34motor\\2022_02_18\\186EYE.avi\n",
      "Duration of video [s]:  12.2 , recorded with  40.0 fps!\n",
      "Overall # of frames:  488  found with (before cropping) frame dimensions:  200 200\n",
      "Starting to extract posture\n"
     ]
    },
    {
     "name": "stderr",
     "output_type": "stream",
     "text": [
      "490it [00:03, 137.43it/s]                                                                                              \n"
     ]
    },
    {
     "name": "stdout",
     "output_type": "stream",
     "text": [
      "Saving results in D:\\Sidevideos\\ar34motor\\2022_02_18...\n",
      "Saving csv poses!\n",
      "Starting to analyze %  D:\\Sidevideos\\ar34motor\\2022_02_18\\187EYE.avi\n",
      "Loading  D:\\Sidevideos\\ar34motor\\2022_02_18\\187EYE.avi\n",
      "Duration of video [s]:  12.5 , recorded with  40.0 fps!\n",
      "Overall # of frames:  500  found with (before cropping) frame dimensions:  200 200\n",
      "Starting to extract posture\n"
     ]
    },
    {
     "name": "stderr",
     "output_type": "stream",
     "text": [
      "510it [00:03, 136.50it/s]                                                                                              \n"
     ]
    },
    {
     "name": "stdout",
     "output_type": "stream",
     "text": [
      "Saving results in D:\\Sidevideos\\ar34motor\\2022_02_18...\n",
      "Saving csv poses!\n",
      "Starting to analyze %  D:\\Sidevideos\\ar34motor\\2022_02_18\\188EYE.avi\n",
      "Loading  D:\\Sidevideos\\ar34motor\\2022_02_18\\188EYE.avi\n",
      "Duration of video [s]:  12.5 , recorded with  40.0 fps!\n",
      "Overall # of frames:  500  found with (before cropping) frame dimensions:  200 200\n",
      "Starting to extract posture\n"
     ]
    },
    {
     "name": "stderr",
     "output_type": "stream",
     "text": [
      "510it [00:03, 139.40it/s]                                                                                              \n"
     ]
    },
    {
     "name": "stdout",
     "output_type": "stream",
     "text": [
      "Saving results in D:\\Sidevideos\\ar34motor\\2022_02_18...\n",
      "Saving csv poses!\n",
      "Starting to analyze %  D:\\Sidevideos\\ar34motor\\2022_02_18\\189EYE.avi\n",
      "Loading  D:\\Sidevideos\\ar34motor\\2022_02_18\\189EYE.avi\n",
      "Duration of video [s]:  12.5 , recorded with  40.0 fps!\n",
      "Overall # of frames:  500  found with (before cropping) frame dimensions:  200 200\n",
      "Starting to extract posture\n"
     ]
    },
    {
     "name": "stderr",
     "output_type": "stream",
     "text": [
      "510it [00:03, 139.88it/s]                                                                                              \n"
     ]
    },
    {
     "name": "stdout",
     "output_type": "stream",
     "text": [
      "Saving results in D:\\Sidevideos\\ar34motor\\2022_02_18...\n",
      "Saving csv poses!\n",
      "Starting to analyze %  D:\\Sidevideos\\ar34motor\\2022_02_18\\18EYE.avi\n",
      "Loading  D:\\Sidevideos\\ar34motor\\2022_02_18\\18EYE.avi\n",
      "Duration of video [s]:  12.5 , recorded with  40.0 fps!\n",
      "Overall # of frames:  500  found with (before cropping) frame dimensions:  200 200\n",
      "Starting to extract posture\n"
     ]
    },
    {
     "name": "stderr",
     "output_type": "stream",
     "text": [
      "510it [00:03, 138.95it/s]                                                                                              \n"
     ]
    },
    {
     "name": "stdout",
     "output_type": "stream",
     "text": [
      "Saving results in D:\\Sidevideos\\ar34motor\\2022_02_18...\n",
      "Saving csv poses!\n",
      "Starting to analyze %  D:\\Sidevideos\\ar34motor\\2022_02_18\\190EYE.avi\n",
      "Loading  D:\\Sidevideos\\ar34motor\\2022_02_18\\190EYE.avi\n",
      "Duration of video [s]:  12.5 , recorded with  40.0 fps!\n",
      "Overall # of frames:  500  found with (before cropping) frame dimensions:  200 200\n",
      "Starting to extract posture\n"
     ]
    },
    {
     "name": "stderr",
     "output_type": "stream",
     "text": [
      "510it [00:03, 139.51it/s]                                                                                              \n"
     ]
    },
    {
     "name": "stdout",
     "output_type": "stream",
     "text": [
      "Saving results in D:\\Sidevideos\\ar34motor\\2022_02_18...\n",
      "Saving csv poses!\n",
      "Starting to analyze %  D:\\Sidevideos\\ar34motor\\2022_02_18\\191EYE.avi\n",
      "Loading  D:\\Sidevideos\\ar34motor\\2022_02_18\\191EYE.avi\n",
      "Duration of video [s]:  12.5 , recorded with  40.0 fps!\n",
      "Overall # of frames:  500  found with (before cropping) frame dimensions:  200 200\n",
      "Starting to extract posture\n"
     ]
    },
    {
     "name": "stderr",
     "output_type": "stream",
     "text": [
      "510it [00:03, 139.73it/s]                                                                                              \n"
     ]
    },
    {
     "name": "stdout",
     "output_type": "stream",
     "text": [
      "Saving results in D:\\Sidevideos\\ar34motor\\2022_02_18...\n",
      "Saving csv poses!\n",
      "Starting to analyze %  D:\\Sidevideos\\ar34motor\\2022_02_18\\192EYE.avi\n",
      "Loading  D:\\Sidevideos\\ar34motor\\2022_02_18\\192EYE.avi\n",
      "Duration of video [s]:  12.18 , recorded with  40.0 fps!\n",
      "Overall # of frames:  487  found with (before cropping) frame dimensions:  200 200\n",
      "Starting to extract posture\n"
     ]
    },
    {
     "name": "stderr",
     "output_type": "stream",
     "text": [
      "490it [00:03, 140.93it/s]                                                                                              \n"
     ]
    },
    {
     "name": "stdout",
     "output_type": "stream",
     "text": [
      "Saving results in D:\\Sidevideos\\ar34motor\\2022_02_18...\n",
      "Saving csv poses!\n",
      "Starting to analyze %  D:\\Sidevideos\\ar34motor\\2022_02_18\\193EYE.avi\n",
      "Loading  D:\\Sidevideos\\ar34motor\\2022_02_18\\193EYE.avi\n",
      "Duration of video [s]:  12.5 , recorded with  40.0 fps!\n",
      "Overall # of frames:  500  found with (before cropping) frame dimensions:  200 200\n",
      "Starting to extract posture\n"
     ]
    },
    {
     "name": "stderr",
     "output_type": "stream",
     "text": [
      "510it [00:03, 140.71it/s]                                                                                              \n"
     ]
    },
    {
     "name": "stdout",
     "output_type": "stream",
     "text": [
      "Saving results in D:\\Sidevideos\\ar34motor\\2022_02_18...\n",
      "Saving csv poses!\n",
      "Starting to analyze %  D:\\Sidevideos\\ar34motor\\2022_02_18\\194EYE.avi\n",
      "Loading  D:\\Sidevideos\\ar34motor\\2022_02_18\\194EYE.avi\n",
      "Duration of video [s]:  12.12 , recorded with  40.0 fps!\n",
      "Overall # of frames:  485  found with (before cropping) frame dimensions:  200 200\n",
      "Starting to extract posture\n"
     ]
    },
    {
     "name": "stderr",
     "output_type": "stream",
     "text": [
      "490it [00:03, 137.48it/s]                                                                                              \n"
     ]
    },
    {
     "name": "stdout",
     "output_type": "stream",
     "text": [
      "Saving results in D:\\Sidevideos\\ar34motor\\2022_02_18...\n",
      "Saving csv poses!\n",
      "Starting to analyze %  D:\\Sidevideos\\ar34motor\\2022_02_18\\195EYE.avi\n",
      "Loading  D:\\Sidevideos\\ar34motor\\2022_02_18\\195EYE.avi\n",
      "Duration of video [s]:  12.22 , recorded with  40.0 fps!\n",
      "Overall # of frames:  489  found with (before cropping) frame dimensions:  200 200\n",
      "Starting to extract posture\n"
     ]
    },
    {
     "name": "stderr",
     "output_type": "stream",
     "text": [
      "490it [00:03, 135.65it/s]                                                                                              \n"
     ]
    },
    {
     "name": "stdout",
     "output_type": "stream",
     "text": [
      "Saving results in D:\\Sidevideos\\ar34motor\\2022_02_18...\n",
      "Saving csv poses!\n",
      "Starting to analyze %  D:\\Sidevideos\\ar34motor\\2022_02_18\\196EYE.avi\n",
      "Loading  D:\\Sidevideos\\ar34motor\\2022_02_18\\196EYE.avi\n",
      "Duration of video [s]:  12.4 , recorded with  40.0 fps!\n",
      "Overall # of frames:  496  found with (before cropping) frame dimensions:  200 200\n",
      "Starting to extract posture\n"
     ]
    },
    {
     "name": "stderr",
     "output_type": "stream",
     "text": [
      "500it [00:03, 138.73it/s]                                                                                              \n"
     ]
    },
    {
     "name": "stdout",
     "output_type": "stream",
     "text": [
      "Saving results in D:\\Sidevideos\\ar34motor\\2022_02_18...\n",
      "Saving csv poses!\n",
      "Starting to analyze %  D:\\Sidevideos\\ar34motor\\2022_02_18\\197EYE.avi\n",
      "Loading  D:\\Sidevideos\\ar34motor\\2022_02_18\\197EYE.avi\n",
      "Duration of video [s]:  12.5 , recorded with  40.0 fps!\n",
      "Overall # of frames:  500  found with (before cropping) frame dimensions:  200 200\n",
      "Starting to extract posture\n"
     ]
    },
    {
     "name": "stderr",
     "output_type": "stream",
     "text": [
      "510it [00:03, 138.52it/s]                                                                                              \n"
     ]
    },
    {
     "name": "stdout",
     "output_type": "stream",
     "text": [
      "Saving results in D:\\Sidevideos\\ar34motor\\2022_02_18...\n",
      "Saving csv poses!\n",
      "Starting to analyze %  D:\\Sidevideos\\ar34motor\\2022_02_18\\198EYE.avi\n",
      "Loading  D:\\Sidevideos\\ar34motor\\2022_02_18\\198EYE.avi\n",
      "Duration of video [s]:  12.5 , recorded with  40.0 fps!\n",
      "Overall # of frames:  500  found with (before cropping) frame dimensions:  200 200\n",
      "Starting to extract posture\n"
     ]
    },
    {
     "name": "stderr",
     "output_type": "stream",
     "text": [
      "510it [00:03, 137.70it/s]                                                                                              \n"
     ]
    },
    {
     "name": "stdout",
     "output_type": "stream",
     "text": [
      "Saving results in D:\\Sidevideos\\ar34motor\\2022_02_18...\n",
      "Saving csv poses!\n",
      "Starting to analyze %  D:\\Sidevideos\\ar34motor\\2022_02_18\\199EYE.avi\n",
      "Loading  D:\\Sidevideos\\ar34motor\\2022_02_18\\199EYE.avi\n",
      "Duration of video [s]:  12.5 , recorded with  40.0 fps!\n",
      "Overall # of frames:  500  found with (before cropping) frame dimensions:  200 200\n",
      "Starting to extract posture\n"
     ]
    },
    {
     "name": "stderr",
     "output_type": "stream",
     "text": [
      "510it [00:03, 138.62it/s]                                                                                              \n"
     ]
    },
    {
     "name": "stdout",
     "output_type": "stream",
     "text": [
      "Saving results in D:\\Sidevideos\\ar34motor\\2022_02_18...\n",
      "Saving csv poses!\n",
      "Starting to analyze %  D:\\Sidevideos\\ar34motor\\2022_02_18\\19EYE.avi\n",
      "Loading  D:\\Sidevideos\\ar34motor\\2022_02_18\\19EYE.avi\n",
      "Duration of video [s]:  12.5 , recorded with  40.0 fps!\n",
      "Overall # of frames:  500  found with (before cropping) frame dimensions:  200 200\n",
      "Starting to extract posture\n"
     ]
    },
    {
     "name": "stderr",
     "output_type": "stream",
     "text": [
      "510it [00:03, 141.16it/s]                                                                                              \n"
     ]
    },
    {
     "name": "stdout",
     "output_type": "stream",
     "text": [
      "Saving results in D:\\Sidevideos\\ar34motor\\2022_02_18...\n",
      "Saving csv poses!\n",
      "Starting to analyze %  D:\\Sidevideos\\ar34motor\\2022_02_18\\1EYE.avi\n",
      "Loading  D:\\Sidevideos\\ar34motor\\2022_02_18\\1EYE.avi\n",
      "Duration of video [s]:  12.5 , recorded with  40.0 fps!\n",
      "Overall # of frames:  500  found with (before cropping) frame dimensions:  200 200\n",
      "Starting to extract posture\n"
     ]
    },
    {
     "name": "stderr",
     "output_type": "stream",
     "text": [
      "510it [00:03, 139.72it/s]                                                                                              \n"
     ]
    },
    {
     "name": "stdout",
     "output_type": "stream",
     "text": [
      "Saving results in D:\\Sidevideos\\ar34motor\\2022_02_18...\n",
      "Saving csv poses!\n",
      "Starting to analyze %  D:\\Sidevideos\\ar34motor\\2022_02_18\\200EYE.avi\n",
      "Loading  D:\\Sidevideos\\ar34motor\\2022_02_18\\200EYE.avi\n",
      "Duration of video [s]:  12.5 , recorded with  40.0 fps!\n",
      "Overall # of frames:  500  found with (before cropping) frame dimensions:  200 200\n",
      "Starting to extract posture\n"
     ]
    },
    {
     "name": "stderr",
     "output_type": "stream",
     "text": [
      "510it [00:03, 137.75it/s]                                                                                              \n"
     ]
    },
    {
     "name": "stdout",
     "output_type": "stream",
     "text": [
      "Saving results in D:\\Sidevideos\\ar34motor\\2022_02_18...\n",
      "Saving csv poses!\n",
      "Starting to analyze %  D:\\Sidevideos\\ar34motor\\2022_02_18\\201EYE.avi\n",
      "Loading  D:\\Sidevideos\\ar34motor\\2022_02_18\\201EYE.avi\n",
      "Duration of video [s]:  9.8 , recorded with  40.0 fps!\n",
      "Overall # of frames:  392  found with (before cropping) frame dimensions:  200 200\n",
      "Starting to extract posture\n"
     ]
    },
    {
     "name": "stderr",
     "output_type": "stream",
     "text": [
      "400it [00:02, 142.14it/s]                                                                                              \n"
     ]
    },
    {
     "name": "stdout",
     "output_type": "stream",
     "text": [
      "Saving results in D:\\Sidevideos\\ar34motor\\2022_02_18...\n",
      "Saving csv poses!\n",
      "Starting to analyze %  D:\\Sidevideos\\ar34motor\\2022_02_18\\202EYE.avi\n",
      "Loading  D:\\Sidevideos\\ar34motor\\2022_02_18\\202EYE.avi\n",
      "Duration of video [s]:  12.5 , recorded with  40.0 fps!\n",
      "Overall # of frames:  500  found with (before cropping) frame dimensions:  200 200\n",
      "Starting to extract posture\n"
     ]
    },
    {
     "name": "stderr",
     "output_type": "stream",
     "text": [
      "510it [00:03, 138.39it/s]                                                                                              \n"
     ]
    },
    {
     "name": "stdout",
     "output_type": "stream",
     "text": [
      "Saving results in D:\\Sidevideos\\ar34motor\\2022_02_18...\n",
      "Saving csv poses!\n",
      "Starting to analyze %  D:\\Sidevideos\\ar34motor\\2022_02_18\\203EYE.avi\n",
      "Loading  D:\\Sidevideos\\ar34motor\\2022_02_18\\203EYE.avi\n",
      "Duration of video [s]:  12.5 , recorded with  40.0 fps!\n",
      "Overall # of frames:  500  found with (before cropping) frame dimensions:  200 200\n",
      "Starting to extract posture\n"
     ]
    },
    {
     "name": "stderr",
     "output_type": "stream",
     "text": [
      "510it [00:03, 133.55it/s]                                                                                              \n"
     ]
    },
    {
     "name": "stdout",
     "output_type": "stream",
     "text": [
      "Saving results in D:\\Sidevideos\\ar34motor\\2022_02_18...\n",
      "Saving csv poses!\n",
      "Starting to analyze %  D:\\Sidevideos\\ar34motor\\2022_02_18\\204EYE.avi\n",
      "Loading  D:\\Sidevideos\\ar34motor\\2022_02_18\\204EYE.avi\n",
      "Duration of video [s]:  12.5 , recorded with  40.0 fps!\n",
      "Overall # of frames:  500  found with (before cropping) frame dimensions:  200 200\n",
      "Starting to extract posture\n"
     ]
    },
    {
     "name": "stderr",
     "output_type": "stream",
     "text": [
      "510it [00:03, 138.51it/s]                                                                                              \n"
     ]
    },
    {
     "name": "stdout",
     "output_type": "stream",
     "text": [
      "Saving results in D:\\Sidevideos\\ar34motor\\2022_02_18...\n",
      "Saving csv poses!\n",
      "Starting to analyze %  D:\\Sidevideos\\ar34motor\\2022_02_18\\205EYE.avi\n",
      "Loading  D:\\Sidevideos\\ar34motor\\2022_02_18\\205EYE.avi\n",
      "Duration of video [s]:  12.5 , recorded with  40.0 fps!\n",
      "Overall # of frames:  500  found with (before cropping) frame dimensions:  200 200\n",
      "Starting to extract posture\n"
     ]
    },
    {
     "name": "stderr",
     "output_type": "stream",
     "text": [
      "510it [00:03, 139.14it/s]                                                                                              \n"
     ]
    },
    {
     "name": "stdout",
     "output_type": "stream",
     "text": [
      "Saving results in D:\\Sidevideos\\ar34motor\\2022_02_18...\n",
      "Saving csv poses!\n",
      "Starting to analyze %  D:\\Sidevideos\\ar34motor\\2022_02_18\\206EYE.avi\n",
      "Loading  D:\\Sidevideos\\ar34motor\\2022_02_18\\206EYE.avi\n",
      "Duration of video [s]:  12.5 , recorded with  40.0 fps!\n",
      "Overall # of frames:  500  found with (before cropping) frame dimensions:  200 200\n",
      "Starting to extract posture\n"
     ]
    },
    {
     "name": "stderr",
     "output_type": "stream",
     "text": [
      "510it [00:03, 138.81it/s]                                                                                              \n"
     ]
    },
    {
     "name": "stdout",
     "output_type": "stream",
     "text": [
      "Saving results in D:\\Sidevideos\\ar34motor\\2022_02_18...\n",
      "Saving csv poses!\n",
      "Starting to analyze %  D:\\Sidevideos\\ar34motor\\2022_02_18\\207EYE.avi\n",
      "Loading  D:\\Sidevideos\\ar34motor\\2022_02_18\\207EYE.avi\n",
      "Duration of video [s]:  12.5 , recorded with  40.0 fps!\n",
      "Overall # of frames:  500  found with (before cropping) frame dimensions:  200 200\n",
      "Starting to extract posture\n"
     ]
    },
    {
     "name": "stderr",
     "output_type": "stream",
     "text": [
      "510it [00:04, 119.69it/s]                                                                                              \n"
     ]
    },
    {
     "name": "stdout",
     "output_type": "stream",
     "text": [
      "Saving results in D:\\Sidevideos\\ar34motor\\2022_02_18...\n",
      "Saving csv poses!\n",
      "Starting to analyze %  D:\\Sidevideos\\ar34motor\\2022_02_18\\208EYE.avi\n",
      "Loading  D:\\Sidevideos\\ar34motor\\2022_02_18\\208EYE.avi\n",
      "Duration of video [s]:  12.5 , recorded with  40.0 fps!\n",
      "Overall # of frames:  500  found with (before cropping) frame dimensions:  200 200\n",
      "Starting to extract posture\n"
     ]
    },
    {
     "name": "stderr",
     "output_type": "stream",
     "text": [
      "510it [00:03, 139.45it/s]                                                                                              \n"
     ]
    },
    {
     "name": "stdout",
     "output_type": "stream",
     "text": [
      "Saving results in D:\\Sidevideos\\ar34motor\\2022_02_18...\n",
      "Saving csv poses!\n",
      "Starting to analyze %  D:\\Sidevideos\\ar34motor\\2022_02_18\\209EYE.avi\n",
      "Loading  D:\\Sidevideos\\ar34motor\\2022_02_18\\209EYE.avi\n",
      "Duration of video [s]:  12.5 , recorded with  40.0 fps!\n",
      "Overall # of frames:  500  found with (before cropping) frame dimensions:  200 200\n",
      "Starting to extract posture\n"
     ]
    },
    {
     "name": "stderr",
     "output_type": "stream",
     "text": [
      "510it [00:03, 139.08it/s]                                                                                              \n"
     ]
    },
    {
     "name": "stdout",
     "output_type": "stream",
     "text": [
      "Saving results in D:\\Sidevideos\\ar34motor\\2022_02_18...\n",
      "Saving csv poses!\n",
      "Starting to analyze %  D:\\Sidevideos\\ar34motor\\2022_02_18\\20EYE.avi\n",
      "Loading  D:\\Sidevideos\\ar34motor\\2022_02_18\\20EYE.avi\n",
      "Duration of video [s]:  12.5 , recorded with  40.0 fps!\n",
      "Overall # of frames:  500  found with (before cropping) frame dimensions:  200 200\n",
      "Starting to extract posture\n"
     ]
    },
    {
     "name": "stderr",
     "output_type": "stream",
     "text": [
      "510it [00:03, 138.86it/s]                                                                                              \n"
     ]
    },
    {
     "name": "stdout",
     "output_type": "stream",
     "text": [
      "Saving results in D:\\Sidevideos\\ar34motor\\2022_02_18...\n",
      "Saving csv poses!\n",
      "Starting to analyze %  D:\\Sidevideos\\ar34motor\\2022_02_18\\210EYE.avi\n",
      "Loading  D:\\Sidevideos\\ar34motor\\2022_02_18\\210EYE.avi\n",
      "Duration of video [s]:  12.5 , recorded with  40.0 fps!\n",
      "Overall # of frames:  500  found with (before cropping) frame dimensions:  200 200\n",
      "Starting to extract posture\n"
     ]
    },
    {
     "name": "stderr",
     "output_type": "stream",
     "text": [
      "510it [00:03, 138.04it/s]                                                                                              \n"
     ]
    },
    {
     "name": "stdout",
     "output_type": "stream",
     "text": [
      "Saving results in D:\\Sidevideos\\ar34motor\\2022_02_18...\n",
      "Saving csv poses!\n",
      "Starting to analyze %  D:\\Sidevideos\\ar34motor\\2022_02_18\\211EYE.avi\n",
      "Loading  D:\\Sidevideos\\ar34motor\\2022_02_18\\211EYE.avi\n",
      "Duration of video [s]:  12.5 , recorded with  40.0 fps!\n",
      "Overall # of frames:  500  found with (before cropping) frame dimensions:  200 200\n",
      "Starting to extract posture\n"
     ]
    },
    {
     "name": "stderr",
     "output_type": "stream",
     "text": [
      "510it [00:03, 139.29it/s]                                                                                              \n"
     ]
    },
    {
     "name": "stdout",
     "output_type": "stream",
     "text": [
      "Saving results in D:\\Sidevideos\\ar34motor\\2022_02_18...\n",
      "Saving csv poses!\n",
      "Starting to analyze %  D:\\Sidevideos\\ar34motor\\2022_02_18\\212EYE.avi\n",
      "Loading  D:\\Sidevideos\\ar34motor\\2022_02_18\\212EYE.avi\n",
      "Duration of video [s]:  12.5 , recorded with  40.0 fps!\n",
      "Overall # of frames:  500  found with (before cropping) frame dimensions:  200 200\n",
      "Starting to extract posture\n"
     ]
    },
    {
     "name": "stderr",
     "output_type": "stream",
     "text": [
      "510it [00:03, 139.53it/s]                                                                                              \n"
     ]
    },
    {
     "name": "stdout",
     "output_type": "stream",
     "text": [
      "Saving results in D:\\Sidevideos\\ar34motor\\2022_02_18...\n",
      "Saving csv poses!\n",
      "Starting to analyze %  D:\\Sidevideos\\ar34motor\\2022_02_18\\213EYE.avi\n",
      "Loading  D:\\Sidevideos\\ar34motor\\2022_02_18\\213EYE.avi\n",
      "Duration of video [s]:  12.5 , recorded with  40.0 fps!\n",
      "Overall # of frames:  500  found with (before cropping) frame dimensions:  200 200\n",
      "Starting to extract posture\n"
     ]
    },
    {
     "name": "stderr",
     "output_type": "stream",
     "text": [
      "510it [00:03, 140.11it/s]                                                                                              \n"
     ]
    },
    {
     "name": "stdout",
     "output_type": "stream",
     "text": [
      "Saving results in D:\\Sidevideos\\ar34motor\\2022_02_18...\n",
      "Saving csv poses!\n",
      "Starting to analyze %  D:\\Sidevideos\\ar34motor\\2022_02_18\\214EYE.avi\n",
      "Loading  D:\\Sidevideos\\ar34motor\\2022_02_18\\214EYE.avi\n",
      "Duration of video [s]:  11.57 , recorded with  40.0 fps!\n",
      "Overall # of frames:  463  found with (before cropping) frame dimensions:  200 200\n",
      "Starting to extract posture\n"
     ]
    },
    {
     "name": "stderr",
     "output_type": "stream",
     "text": [
      "470it [00:03, 121.34it/s]                                                                                              \n"
     ]
    },
    {
     "name": "stdout",
     "output_type": "stream",
     "text": [
      "Saving results in D:\\Sidevideos\\ar34motor\\2022_02_18...\n",
      "Saving csv poses!\n",
      "Starting to analyze %  D:\\Sidevideos\\ar34motor\\2022_02_18\\215EYE.avi\n",
      "Loading  D:\\Sidevideos\\ar34motor\\2022_02_18\\215EYE.avi\n",
      "Duration of video [s]:  12.5 , recorded with  40.0 fps!\n",
      "Overall # of frames:  500  found with (before cropping) frame dimensions:  200 200\n",
      "Starting to extract posture\n"
     ]
    },
    {
     "name": "stderr",
     "output_type": "stream",
     "text": [
      "510it [00:04, 107.01it/s]                                                                                              \n"
     ]
    },
    {
     "name": "stdout",
     "output_type": "stream",
     "text": [
      "Saving results in D:\\Sidevideos\\ar34motor\\2022_02_18...\n",
      "Saving csv poses!\n",
      "Starting to analyze %  D:\\Sidevideos\\ar34motor\\2022_02_18\\216EYE.avi\n",
      "Loading  D:\\Sidevideos\\ar34motor\\2022_02_18\\216EYE.avi\n",
      "Duration of video [s]:  12.18 , recorded with  40.0 fps!\n",
      "Overall # of frames:  487  found with (before cropping) frame dimensions:  200 200\n",
      "Starting to extract posture\n"
     ]
    },
    {
     "name": "stderr",
     "output_type": "stream",
     "text": [
      "490it [00:03, 138.86it/s]                                                                                              \n"
     ]
    },
    {
     "name": "stdout",
     "output_type": "stream",
     "text": [
      "Saving results in D:\\Sidevideos\\ar34motor\\2022_02_18...\n",
      "Saving csv poses!\n",
      "Starting to analyze %  D:\\Sidevideos\\ar34motor\\2022_02_18\\217EYE.avi\n",
      "Loading  D:\\Sidevideos\\ar34motor\\2022_02_18\\217EYE.avi\n",
      "Duration of video [s]:  12.5 , recorded with  40.0 fps!\n",
      "Overall # of frames:  500  found with (before cropping) frame dimensions:  200 200\n",
      "Starting to extract posture\n"
     ]
    },
    {
     "name": "stderr",
     "output_type": "stream",
     "text": [
      "510it [00:03, 137.62it/s]                                                                                              \n"
     ]
    },
    {
     "name": "stdout",
     "output_type": "stream",
     "text": [
      "Saving results in D:\\Sidevideos\\ar34motor\\2022_02_18...\n",
      "Saving csv poses!\n",
      "Starting to analyze %  D:\\Sidevideos\\ar34motor\\2022_02_18\\218EYE.avi\n",
      "Loading  D:\\Sidevideos\\ar34motor\\2022_02_18\\218EYE.avi\n",
      "Duration of video [s]:  12.5 , recorded with  40.0 fps!\n",
      "Overall # of frames:  500  found with (before cropping) frame dimensions:  200 200\n",
      "Starting to extract posture\n"
     ]
    },
    {
     "name": "stderr",
     "output_type": "stream",
     "text": [
      "510it [00:03, 141.82it/s]                                                                                              \n"
     ]
    },
    {
     "name": "stdout",
     "output_type": "stream",
     "text": [
      "Saving results in D:\\Sidevideos\\ar34motor\\2022_02_18...\n",
      "Saving csv poses!\n",
      "Starting to analyze %  D:\\Sidevideos\\ar34motor\\2022_02_18\\219EYE.avi\n",
      "Loading  D:\\Sidevideos\\ar34motor\\2022_02_18\\219EYE.avi\n",
      "Duration of video [s]:  12.5 , recorded with  40.0 fps!\n",
      "Overall # of frames:  500  found with (before cropping) frame dimensions:  200 200\n",
      "Starting to extract posture\n"
     ]
    },
    {
     "name": "stderr",
     "output_type": "stream",
     "text": [
      "510it [00:03, 141.39it/s]                                                                                              \n"
     ]
    },
    {
     "name": "stdout",
     "output_type": "stream",
     "text": [
      "Saving results in D:\\Sidevideos\\ar34motor\\2022_02_18...\n",
      "Saving csv poses!\n",
      "Starting to analyze %  D:\\Sidevideos\\ar34motor\\2022_02_18\\21EYE.avi\n",
      "Loading  D:\\Sidevideos\\ar34motor\\2022_02_18\\21EYE.avi\n",
      "Duration of video [s]:  6.88 , recorded with  40.0 fps!\n",
      "Overall # of frames:  275  found with (before cropping) frame dimensions:  200 200\n",
      "Starting to extract posture\n"
     ]
    },
    {
     "name": "stderr",
     "output_type": "stream",
     "text": [
      "280it [00:02, 139.04it/s]                                                                                              \n"
     ]
    },
    {
     "name": "stdout",
     "output_type": "stream",
     "text": [
      "Saving results in D:\\Sidevideos\\ar34motor\\2022_02_18...\n",
      "Saving csv poses!\n",
      "Starting to analyze %  D:\\Sidevideos\\ar34motor\\2022_02_18\\220EYE.avi\n",
      "Loading  D:\\Sidevideos\\ar34motor\\2022_02_18\\220EYE.avi\n",
      "Duration of video [s]:  12.5 , recorded with  40.0 fps!\n",
      "Overall # of frames:  500  found with (before cropping) frame dimensions:  200 200\n",
      "Starting to extract posture\n"
     ]
    },
    {
     "name": "stderr",
     "output_type": "stream",
     "text": [
      "510it [00:03, 142.04it/s]                                                                                              \n"
     ]
    },
    {
     "name": "stdout",
     "output_type": "stream",
     "text": [
      "Saving results in D:\\Sidevideos\\ar34motor\\2022_02_18...\n",
      "Saving csv poses!\n",
      "Starting to analyze %  D:\\Sidevideos\\ar34motor\\2022_02_18\\221EYE.avi\n",
      "Loading  D:\\Sidevideos\\ar34motor\\2022_02_18\\221EYE.avi\n",
      "Duration of video [s]:  0.5 , recorded with  40.0 fps!\n",
      "Overall # of frames:  20  found with (before cropping) frame dimensions:  200 200\n",
      "Starting to extract posture\n"
     ]
    },
    {
     "name": "stderr",
     "output_type": "stream",
     "text": [
      "30it [00:00, 181.21it/s]                                                                                               \n"
     ]
    },
    {
     "name": "stdout",
     "output_type": "stream",
     "text": [
      "Saving results in D:\\Sidevideos\\ar34motor\\2022_02_18...\n",
      "Saving csv poses!\n",
      "Starting to analyze %  D:\\Sidevideos\\ar34motor\\2022_02_18\\222EYE.avi\n",
      "Loading  D:\\Sidevideos\\ar34motor\\2022_02_18\\222EYE.avi\n",
      "Duration of video [s]:  2.55 , recorded with  40.0 fps!\n",
      "Overall # of frames:  102  found with (before cropping) frame dimensions:  200 200\n",
      "Starting to extract posture\n"
     ]
    },
    {
     "name": "stderr",
     "output_type": "stream",
     "text": [
      "110it [00:00, 146.07it/s]                                                                                              \n"
     ]
    },
    {
     "name": "stdout",
     "output_type": "stream",
     "text": [
      "Saving results in D:\\Sidevideos\\ar34motor\\2022_02_18...\n",
      "Saving csv poses!\n",
      "Starting to analyze %  D:\\Sidevideos\\ar34motor\\2022_02_18\\223EYE.avi\n",
      "Loading  D:\\Sidevideos\\ar34motor\\2022_02_18\\223EYE.avi\n",
      "Duration of video [s]:  1.3 , recorded with  40.0 fps!\n",
      "Overall # of frames:  52  found with (before cropping) frame dimensions:  200 200\n",
      "Starting to extract posture\n"
     ]
    },
    {
     "name": "stderr",
     "output_type": "stream",
     "text": [
      "60it [00:00, 147.73it/s]                                                                                               \n"
     ]
    },
    {
     "name": "stdout",
     "output_type": "stream",
     "text": [
      "Saving results in D:\\Sidevideos\\ar34motor\\2022_02_18...\n",
      "Saving csv poses!\n",
      "Starting to analyze %  D:\\Sidevideos\\ar34motor\\2022_02_18\\224EYE.avi\n",
      "Loading  D:\\Sidevideos\\ar34motor\\2022_02_18\\224EYE.avi\n",
      "Duration of video [s]:  12.5 , recorded with  40.0 fps!\n",
      "Overall # of frames:  500  found with (before cropping) frame dimensions:  200 200\n",
      "Starting to extract posture\n"
     ]
    },
    {
     "name": "stderr",
     "output_type": "stream",
     "text": [
      "510it [00:03, 144.05it/s]                                                                                              \n"
     ]
    },
    {
     "name": "stdout",
     "output_type": "stream",
     "text": [
      "Saving results in D:\\Sidevideos\\ar34motor\\2022_02_18...\n",
      "Saving csv poses!\n",
      "Starting to analyze %  D:\\Sidevideos\\ar34motor\\2022_02_18\\22EYE.avi\n",
      "Loading  D:\\Sidevideos\\ar34motor\\2022_02_18\\22EYE.avi\n",
      "Duration of video [s]:  12.5 , recorded with  40.0 fps!\n",
      "Overall # of frames:  500  found with (before cropping) frame dimensions:  200 200\n",
      "Starting to extract posture\n"
     ]
    },
    {
     "name": "stderr",
     "output_type": "stream",
     "text": [
      "510it [00:03, 141.96it/s]                                                                                              \n"
     ]
    },
    {
     "name": "stdout",
     "output_type": "stream",
     "text": [
      "Saving results in D:\\Sidevideos\\ar34motor\\2022_02_18...\n",
      "Saving csv poses!\n",
      "Starting to analyze %  D:\\Sidevideos\\ar34motor\\2022_02_18\\23EYE.avi\n",
      "Loading  D:\\Sidevideos\\ar34motor\\2022_02_18\\23EYE.avi\n",
      "Duration of video [s]:  7.85 , recorded with  40.0 fps!\n",
      "Overall # of frames:  314  found with (before cropping) frame dimensions:  200 200\n",
      "Starting to extract posture\n"
     ]
    },
    {
     "name": "stderr",
     "output_type": "stream",
     "text": [
      "320it [00:02, 137.94it/s]                                                                                              \n"
     ]
    },
    {
     "name": "stdout",
     "output_type": "stream",
     "text": [
      "Saving results in D:\\Sidevideos\\ar34motor\\2022_02_18...\n",
      "Saving csv poses!\n",
      "Starting to analyze %  D:\\Sidevideos\\ar34motor\\2022_02_18\\24EYE.avi\n",
      "Loading  D:\\Sidevideos\\ar34motor\\2022_02_18\\24EYE.avi\n",
      "Duration of video [s]:  12.5 , recorded with  40.0 fps!\n",
      "Overall # of frames:  500  found with (before cropping) frame dimensions:  200 200\n",
      "Starting to extract posture\n"
     ]
    },
    {
     "name": "stderr",
     "output_type": "stream",
     "text": [
      "510it [00:03, 141.67it/s]                                                                                              \n"
     ]
    },
    {
     "name": "stdout",
     "output_type": "stream",
     "text": [
      "Saving results in D:\\Sidevideos\\ar34motor\\2022_02_18...\n",
      "Saving csv poses!\n",
      "Starting to analyze %  D:\\Sidevideos\\ar34motor\\2022_02_18\\25EYE.avi\n",
      "Loading  D:\\Sidevideos\\ar34motor\\2022_02_18\\25EYE.avi\n",
      "Duration of video [s]:  8.97 , recorded with  40.0 fps!\n",
      "Overall # of frames:  359  found with (before cropping) frame dimensions:  200 200\n",
      "Starting to extract posture\n"
     ]
    },
    {
     "name": "stderr",
     "output_type": "stream",
     "text": [
      "360it [00:02, 136.95it/s]                                                                                              \n"
     ]
    },
    {
     "name": "stdout",
     "output_type": "stream",
     "text": [
      "Saving results in D:\\Sidevideos\\ar34motor\\2022_02_18...\n",
      "Saving csv poses!\n",
      "Starting to analyze %  D:\\Sidevideos\\ar34motor\\2022_02_18\\26EYE.avi\n",
      "Loading  D:\\Sidevideos\\ar34motor\\2022_02_18\\26EYE.avi\n",
      "Duration of video [s]:  12.5 , recorded with  40.0 fps!\n",
      "Overall # of frames:  500  found with (before cropping) frame dimensions:  200 200\n",
      "Starting to extract posture\n"
     ]
    },
    {
     "name": "stderr",
     "output_type": "stream",
     "text": [
      "510it [00:03, 138.24it/s]                                                                                              \n"
     ]
    },
    {
     "name": "stdout",
     "output_type": "stream",
     "text": [
      "Saving results in D:\\Sidevideos\\ar34motor\\2022_02_18...\n",
      "Saving csv poses!\n",
      "Starting to analyze %  D:\\Sidevideos\\ar34motor\\2022_02_18\\27EYE.avi\n",
      "Loading  D:\\Sidevideos\\ar34motor\\2022_02_18\\27EYE.avi\n",
      "Duration of video [s]:  12.5 , recorded with  40.0 fps!\n",
      "Overall # of frames:  500  found with (before cropping) frame dimensions:  200 200\n",
      "Starting to extract posture\n"
     ]
    },
    {
     "name": "stderr",
     "output_type": "stream",
     "text": [
      "510it [00:03, 142.77it/s]                                                                                              \n"
     ]
    },
    {
     "name": "stdout",
     "output_type": "stream",
     "text": [
      "Saving results in D:\\Sidevideos\\ar34motor\\2022_02_18...\n",
      "Saving csv poses!\n",
      "Starting to analyze %  D:\\Sidevideos\\ar34motor\\2022_02_18\\28EYE.avi\n",
      "Loading  D:\\Sidevideos\\ar34motor\\2022_02_18\\28EYE.avi\n",
      "Duration of video [s]:  9.45 , recorded with  40.0 fps!\n",
      "Overall # of frames:  378  found with (before cropping) frame dimensions:  200 200\n",
      "Starting to extract posture\n"
     ]
    },
    {
     "name": "stderr",
     "output_type": "stream",
     "text": [
      "380it [00:02, 137.46it/s]                                                                                              \n"
     ]
    },
    {
     "name": "stdout",
     "output_type": "stream",
     "text": [
      "Saving results in D:\\Sidevideos\\ar34motor\\2022_02_18...\n",
      "Saving csv poses!\n",
      "Starting to analyze %  D:\\Sidevideos\\ar34motor\\2022_02_18\\29EYE.avi\n",
      "Loading  D:\\Sidevideos\\ar34motor\\2022_02_18\\29EYE.avi\n",
      "Duration of video [s]:  4.75 , recorded with  40.0 fps!\n",
      "Overall # of frames:  190  found with (before cropping) frame dimensions:  200 200\n",
      "Starting to extract posture\n"
     ]
    },
    {
     "name": "stderr",
     "output_type": "stream",
     "text": [
      "200it [00:01, 141.03it/s]                                                                                              \n"
     ]
    },
    {
     "name": "stdout",
     "output_type": "stream",
     "text": [
      "Saving results in D:\\Sidevideos\\ar34motor\\2022_02_18...\n",
      "Saving csv poses!\n",
      "Starting to analyze %  D:\\Sidevideos\\ar34motor\\2022_02_18\\2EYE.avi\n",
      "Loading  D:\\Sidevideos\\ar34motor\\2022_02_18\\2EYE.avi\n",
      "Duration of video [s]:  12.5 , recorded with  40.0 fps!\n",
      "Overall # of frames:  500  found with (before cropping) frame dimensions:  200 200\n",
      "Starting to extract posture\n"
     ]
    },
    {
     "name": "stderr",
     "output_type": "stream",
     "text": [
      "510it [00:03, 139.01it/s]                                                                                              \n"
     ]
    },
    {
     "name": "stdout",
     "output_type": "stream",
     "text": [
      "Saving results in D:\\Sidevideos\\ar34motor\\2022_02_18...\n",
      "Saving csv poses!\n",
      "Starting to analyze %  D:\\Sidevideos\\ar34motor\\2022_02_18\\30EYE.avi\n",
      "Loading  D:\\Sidevideos\\ar34motor\\2022_02_18\\30EYE.avi\n",
      "Duration of video [s]:  5.62 , recorded with  40.0 fps!\n",
      "Overall # of frames:  225  found with (before cropping) frame dimensions:  200 200\n",
      "Starting to extract posture\n"
     ]
    },
    {
     "name": "stderr",
     "output_type": "stream",
     "text": [
      "230it [00:01, 138.17it/s]                                                                                              \n"
     ]
    },
    {
     "name": "stdout",
     "output_type": "stream",
     "text": [
      "Saving results in D:\\Sidevideos\\ar34motor\\2022_02_18...\n",
      "Saving csv poses!\n",
      "Starting to analyze %  D:\\Sidevideos\\ar34motor\\2022_02_18\\31EYE.avi\n",
      "Loading  D:\\Sidevideos\\ar34motor\\2022_02_18\\31EYE.avi\n",
      "Duration of video [s]:  7.33 , recorded with  40.0 fps!\n",
      "Overall # of frames:  293  found with (before cropping) frame dimensions:  200 200\n",
      "Starting to extract posture\n"
     ]
    },
    {
     "name": "stderr",
     "output_type": "stream",
     "text": [
      "300it [00:02, 141.54it/s]                                                                                              \n"
     ]
    },
    {
     "name": "stdout",
     "output_type": "stream",
     "text": [
      "Saving results in D:\\Sidevideos\\ar34motor\\2022_02_18...\n",
      "Saving csv poses!\n",
      "Starting to analyze %  D:\\Sidevideos\\ar34motor\\2022_02_18\\32EYE.avi\n",
      "Loading  D:\\Sidevideos\\ar34motor\\2022_02_18\\32EYE.avi\n",
      "Duration of video [s]:  9.03 , recorded with  40.0 fps!\n",
      "Overall # of frames:  361  found with (before cropping) frame dimensions:  200 200\n",
      "Starting to extract posture\n"
     ]
    },
    {
     "name": "stderr",
     "output_type": "stream",
     "text": [
      "370it [00:02, 141.17it/s]                                                                                              \n"
     ]
    },
    {
     "name": "stdout",
     "output_type": "stream",
     "text": [
      "Saving results in D:\\Sidevideos\\ar34motor\\2022_02_18...\n",
      "Saving csv poses!\n",
      "Starting to analyze %  D:\\Sidevideos\\ar34motor\\2022_02_18\\33EYE.avi\n",
      "Loading  D:\\Sidevideos\\ar34motor\\2022_02_18\\33EYE.avi\n",
      "Duration of video [s]:  12.5 , recorded with  40.0 fps!\n",
      "Overall # of frames:  500  found with (before cropping) frame dimensions:  200 200\n",
      "Starting to extract posture\n"
     ]
    },
    {
     "name": "stderr",
     "output_type": "stream",
     "text": [
      "510it [00:03, 141.92it/s]                                                                                              \n"
     ]
    },
    {
     "name": "stdout",
     "output_type": "stream",
     "text": [
      "Saving results in D:\\Sidevideos\\ar34motor\\2022_02_18...\n",
      "Saving csv poses!\n",
      "Starting to analyze %  D:\\Sidevideos\\ar34motor\\2022_02_18\\34EYE.avi\n",
      "Loading  D:\\Sidevideos\\ar34motor\\2022_02_18\\34EYE.avi\n",
      "Duration of video [s]:  8.72 , recorded with  40.0 fps!\n",
      "Overall # of frames:  349  found with (before cropping) frame dimensions:  200 200\n",
      "Starting to extract posture\n"
     ]
    },
    {
     "name": "stderr",
     "output_type": "stream",
     "text": [
      "350it [00:02, 137.88it/s]                                                                                              \n"
     ]
    },
    {
     "name": "stdout",
     "output_type": "stream",
     "text": [
      "Saving results in D:\\Sidevideos\\ar34motor\\2022_02_18...\n",
      "Saving csv poses!\n",
      "Starting to analyze %  D:\\Sidevideos\\ar34motor\\2022_02_18\\35EYE.avi\n",
      "Loading  D:\\Sidevideos\\ar34motor\\2022_02_18\\35EYE.avi\n",
      "Duration of video [s]:  12.5 , recorded with  40.0 fps!\n",
      "Overall # of frames:  500  found with (before cropping) frame dimensions:  200 200\n",
      "Starting to extract posture\n"
     ]
    },
    {
     "name": "stderr",
     "output_type": "stream",
     "text": [
      "510it [00:03, 140.78it/s]                                                                                              \n"
     ]
    },
    {
     "name": "stdout",
     "output_type": "stream",
     "text": [
      "Saving results in D:\\Sidevideos\\ar34motor\\2022_02_18...\n",
      "Saving csv poses!\n",
      "Starting to analyze %  D:\\Sidevideos\\ar34motor\\2022_02_18\\36EYE.avi\n",
      "Loading  D:\\Sidevideos\\ar34motor\\2022_02_18\\36EYE.avi\n",
      "Duration of video [s]:  12.5 , recorded with  40.0 fps!\n",
      "Overall # of frames:  500  found with (before cropping) frame dimensions:  200 200\n",
      "Starting to extract posture\n"
     ]
    },
    {
     "name": "stderr",
     "output_type": "stream",
     "text": [
      "510it [00:03, 142.41it/s]                                                                                              \n"
     ]
    },
    {
     "name": "stdout",
     "output_type": "stream",
     "text": [
      "Saving results in D:\\Sidevideos\\ar34motor\\2022_02_18...\n",
      "Saving csv poses!\n",
      "Starting to analyze %  D:\\Sidevideos\\ar34motor\\2022_02_18\\37EYE.avi\n",
      "Loading  D:\\Sidevideos\\ar34motor\\2022_02_18\\37EYE.avi\n",
      "Duration of video [s]:  12.5 , recorded with  40.0 fps!\n",
      "Overall # of frames:  500  found with (before cropping) frame dimensions:  200 200\n",
      "Starting to extract posture\n"
     ]
    },
    {
     "name": "stderr",
     "output_type": "stream",
     "text": [
      "510it [00:03, 142.58it/s]                                                                                              \n"
     ]
    },
    {
     "name": "stdout",
     "output_type": "stream",
     "text": [
      "Saving results in D:\\Sidevideos\\ar34motor\\2022_02_18...\n",
      "Saving csv poses!\n",
      "Starting to analyze %  D:\\Sidevideos\\ar34motor\\2022_02_18\\38EYE.avi\n",
      "Loading  D:\\Sidevideos\\ar34motor\\2022_02_18\\38EYE.avi\n",
      "Duration of video [s]:  7.38 , recorded with  40.0 fps!\n",
      "Overall # of frames:  295  found with (before cropping) frame dimensions:  200 200\n",
      "Starting to extract posture\n"
     ]
    },
    {
     "name": "stderr",
     "output_type": "stream",
     "text": [
      "300it [00:02, 142.38it/s]                                                                                              \n"
     ]
    },
    {
     "name": "stdout",
     "output_type": "stream",
     "text": [
      "Saving results in D:\\Sidevideos\\ar34motor\\2022_02_18...\n",
      "Saving csv poses!\n",
      "Starting to analyze %  D:\\Sidevideos\\ar34motor\\2022_02_18\\39EYE.avi\n",
      "Loading  D:\\Sidevideos\\ar34motor\\2022_02_18\\39EYE.avi\n",
      "Duration of video [s]:  12.5 , recorded with  40.0 fps!\n",
      "Overall # of frames:  500  found with (before cropping) frame dimensions:  200 200\n",
      "Starting to extract posture\n"
     ]
    },
    {
     "name": "stderr",
     "output_type": "stream",
     "text": [
      "510it [00:03, 141.09it/s]                                                                                              \n"
     ]
    },
    {
     "name": "stdout",
     "output_type": "stream",
     "text": [
      "Saving results in D:\\Sidevideos\\ar34motor\\2022_02_18...\n",
      "Saving csv poses!\n",
      "Starting to analyze %  D:\\Sidevideos\\ar34motor\\2022_02_18\\3EYE.avi\n",
      "Loading  D:\\Sidevideos\\ar34motor\\2022_02_18\\3EYE.avi\n",
      "Duration of video [s]:  12.5 , recorded with  40.0 fps!\n",
      "Overall # of frames:  500  found with (before cropping) frame dimensions:  200 200\n",
      "Starting to extract posture\n"
     ]
    },
    {
     "name": "stderr",
     "output_type": "stream",
     "text": [
      "510it [00:03, 142.09it/s]                                                                                              \n"
     ]
    },
    {
     "name": "stdout",
     "output_type": "stream",
     "text": [
      "Saving results in D:\\Sidevideos\\ar34motor\\2022_02_18...\n",
      "Saving csv poses!\n",
      "Starting to analyze %  D:\\Sidevideos\\ar34motor\\2022_02_18\\40EYE.avi\n",
      "Loading  D:\\Sidevideos\\ar34motor\\2022_02_18\\40EYE.avi\n",
      "Duration of video [s]:  12.5 , recorded with  40.0 fps!\n",
      "Overall # of frames:  500  found with (before cropping) frame dimensions:  200 200\n",
      "Starting to extract posture\n"
     ]
    },
    {
     "name": "stderr",
     "output_type": "stream",
     "text": [
      "510it [00:03, 142.73it/s]                                                                                              \n"
     ]
    },
    {
     "name": "stdout",
     "output_type": "stream",
     "text": [
      "Saving results in D:\\Sidevideos\\ar34motor\\2022_02_18...\n",
      "Saving csv poses!\n",
      "Starting to analyze %  D:\\Sidevideos\\ar34motor\\2022_02_18\\41EYE.avi\n",
      "Loading  D:\\Sidevideos\\ar34motor\\2022_02_18\\41EYE.avi\n",
      "Duration of video [s]:  12.5 , recorded with  40.0 fps!\n",
      "Overall # of frames:  500  found with (before cropping) frame dimensions:  200 200\n",
      "Starting to extract posture\n"
     ]
    },
    {
     "name": "stderr",
     "output_type": "stream",
     "text": [
      "510it [00:03, 141.42it/s]                                                                                              \n"
     ]
    },
    {
     "name": "stdout",
     "output_type": "stream",
     "text": [
      "Saving results in D:\\Sidevideos\\ar34motor\\2022_02_18...\n",
      "Saving csv poses!\n",
      "Starting to analyze %  D:\\Sidevideos\\ar34motor\\2022_02_18\\42EYE.avi\n",
      "Loading  D:\\Sidevideos\\ar34motor\\2022_02_18\\42EYE.avi\n",
      "Duration of video [s]:  12.5 , recorded with  40.0 fps!\n",
      "Overall # of frames:  500  found with (before cropping) frame dimensions:  200 200\n",
      "Starting to extract posture\n"
     ]
    },
    {
     "name": "stderr",
     "output_type": "stream",
     "text": [
      "510it [00:03, 142.83it/s]                                                                                              \n"
     ]
    },
    {
     "name": "stdout",
     "output_type": "stream",
     "text": [
      "Saving results in D:\\Sidevideos\\ar34motor\\2022_02_18...\n",
      "Saving csv poses!\n",
      "Starting to analyze %  D:\\Sidevideos\\ar34motor\\2022_02_18\\43EYE.avi\n",
      "Loading  D:\\Sidevideos\\ar34motor\\2022_02_18\\43EYE.avi\n",
      "Duration of video [s]:  8.28 , recorded with  40.0 fps!\n",
      "Overall # of frames:  331  found with (before cropping) frame dimensions:  200 200\n",
      "Starting to extract posture\n"
     ]
    },
    {
     "name": "stderr",
     "output_type": "stream",
     "text": [
      "340it [00:02, 140.92it/s]                                                                                              \n"
     ]
    },
    {
     "name": "stdout",
     "output_type": "stream",
     "text": [
      "Saving results in D:\\Sidevideos\\ar34motor\\2022_02_18...\n",
      "Saving csv poses!\n",
      "Starting to analyze %  D:\\Sidevideos\\ar34motor\\2022_02_18\\44EYE.avi\n",
      "Loading  D:\\Sidevideos\\ar34motor\\2022_02_18\\44EYE.avi\n",
      "Duration of video [s]:  12.5 , recorded with  40.0 fps!\n",
      "Overall # of frames:  500  found with (before cropping) frame dimensions:  200 200\n",
      "Starting to extract posture\n"
     ]
    },
    {
     "name": "stderr",
     "output_type": "stream",
     "text": [
      "510it [00:03, 140.36it/s]                                                                                              \n"
     ]
    },
    {
     "name": "stdout",
     "output_type": "stream",
     "text": [
      "Saving results in D:\\Sidevideos\\ar34motor\\2022_02_18...\n",
      "Saving csv poses!\n",
      "Starting to analyze %  D:\\Sidevideos\\ar34motor\\2022_02_18\\45EYE.avi\n",
      "Loading  D:\\Sidevideos\\ar34motor\\2022_02_18\\45EYE.avi\n",
      "Duration of video [s]:  12.5 , recorded with  40.0 fps!\n",
      "Overall # of frames:  500  found with (before cropping) frame dimensions:  200 200\n",
      "Starting to extract posture\n"
     ]
    },
    {
     "name": "stderr",
     "output_type": "stream",
     "text": [
      "510it [00:03, 142.28it/s]                                                                                              \n"
     ]
    },
    {
     "name": "stdout",
     "output_type": "stream",
     "text": [
      "Saving results in D:\\Sidevideos\\ar34motor\\2022_02_18...\n",
      "Saving csv poses!\n",
      "Starting to analyze %  D:\\Sidevideos\\ar34motor\\2022_02_18\\46EYE.avi\n",
      "Loading  D:\\Sidevideos\\ar34motor\\2022_02_18\\46EYE.avi\n",
      "Duration of video [s]:  12.5 , recorded with  40.0 fps!\n",
      "Overall # of frames:  500  found with (before cropping) frame dimensions:  200 200\n",
      "Starting to extract posture\n"
     ]
    },
    {
     "name": "stderr",
     "output_type": "stream",
     "text": [
      "510it [00:03, 143.93it/s]                                                                                              \n"
     ]
    },
    {
     "name": "stdout",
     "output_type": "stream",
     "text": [
      "Saving results in D:\\Sidevideos\\ar34motor\\2022_02_18...\n",
      "Saving csv poses!\n",
      "Starting to analyze %  D:\\Sidevideos\\ar34motor\\2022_02_18\\47EYE.avi\n",
      "Loading  D:\\Sidevideos\\ar34motor\\2022_02_18\\47EYE.avi\n",
      "Duration of video [s]:  12.5 , recorded with  40.0 fps!\n",
      "Overall # of frames:  500  found with (before cropping) frame dimensions:  200 200\n",
      "Starting to extract posture\n"
     ]
    },
    {
     "name": "stderr",
     "output_type": "stream",
     "text": [
      "510it [00:03, 143.19it/s]                                                                                              \n"
     ]
    },
    {
     "name": "stdout",
     "output_type": "stream",
     "text": [
      "Saving results in D:\\Sidevideos\\ar34motor\\2022_02_18...\n",
      "Saving csv poses!\n",
      "Starting to analyze %  D:\\Sidevideos\\ar34motor\\2022_02_18\\48EYE.avi\n",
      "Loading  D:\\Sidevideos\\ar34motor\\2022_02_18\\48EYE.avi\n",
      "Duration of video [s]:  8.03 , recorded with  40.0 fps!\n",
      "Overall # of frames:  321  found with (before cropping) frame dimensions:  200 200\n",
      "Starting to extract posture\n"
     ]
    },
    {
     "name": "stderr",
     "output_type": "stream",
     "text": [
      "330it [00:02, 140.21it/s]                                                                                              \n"
     ]
    },
    {
     "name": "stdout",
     "output_type": "stream",
     "text": [
      "Saving results in D:\\Sidevideos\\ar34motor\\2022_02_18...\n",
      "Saving csv poses!\n",
      "Starting to analyze %  D:\\Sidevideos\\ar34motor\\2022_02_18\\49EYE.avi\n",
      "Loading  D:\\Sidevideos\\ar34motor\\2022_02_18\\49EYE.avi\n",
      "Duration of video [s]:  12.5 , recorded with  40.0 fps!\n",
      "Overall # of frames:  500  found with (before cropping) frame dimensions:  200 200\n",
      "Starting to extract posture\n"
     ]
    },
    {
     "name": "stderr",
     "output_type": "stream",
     "text": [
      "510it [00:03, 139.23it/s]                                                                                              \n"
     ]
    },
    {
     "name": "stdout",
     "output_type": "stream",
     "text": [
      "Saving results in D:\\Sidevideos\\ar34motor\\2022_02_18...\n",
      "Saving csv poses!\n",
      "Starting to analyze %  D:\\Sidevideos\\ar34motor\\2022_02_18\\4EYE.avi\n",
      "Loading  D:\\Sidevideos\\ar34motor\\2022_02_18\\4EYE.avi\n",
      "Duration of video [s]:  12.5 , recorded with  40.0 fps!\n",
      "Overall # of frames:  500  found with (before cropping) frame dimensions:  200 200\n",
      "Starting to extract posture\n"
     ]
    },
    {
     "name": "stderr",
     "output_type": "stream",
     "text": [
      "510it [00:03, 141.51it/s]                                                                                              \n"
     ]
    },
    {
     "name": "stdout",
     "output_type": "stream",
     "text": [
      "Saving results in D:\\Sidevideos\\ar34motor\\2022_02_18...\n",
      "Saving csv poses!\n",
      "Starting to analyze %  D:\\Sidevideos\\ar34motor\\2022_02_18\\50EYE.avi\n",
      "Loading  D:\\Sidevideos\\ar34motor\\2022_02_18\\50EYE.avi\n",
      "Duration of video [s]:  12.5 , recorded with  40.0 fps!\n",
      "Overall # of frames:  500  found with (before cropping) frame dimensions:  200 200\n",
      "Starting to extract posture\n"
     ]
    },
    {
     "name": "stderr",
     "output_type": "stream",
     "text": [
      "510it [00:03, 138.78it/s]                                                                                              \n"
     ]
    },
    {
     "name": "stdout",
     "output_type": "stream",
     "text": [
      "Saving results in D:\\Sidevideos\\ar34motor\\2022_02_18...\n",
      "Saving csv poses!\n",
      "Starting to analyze %  D:\\Sidevideos\\ar34motor\\2022_02_18\\51EYE.avi\n",
      "Loading  D:\\Sidevideos\\ar34motor\\2022_02_18\\51EYE.avi\n",
      "Duration of video [s]:  12.5 , recorded with  40.0 fps!\n",
      "Overall # of frames:  500  found with (before cropping) frame dimensions:  200 200\n",
      "Starting to extract posture\n"
     ]
    },
    {
     "name": "stderr",
     "output_type": "stream",
     "text": [
      "510it [00:03, 140.58it/s]                                                                                              \n"
     ]
    },
    {
     "name": "stdout",
     "output_type": "stream",
     "text": [
      "Saving results in D:\\Sidevideos\\ar34motor\\2022_02_18...\n",
      "Saving csv poses!\n",
      "Starting to analyze %  D:\\Sidevideos\\ar34motor\\2022_02_18\\52EYE.avi\n",
      "Loading  D:\\Sidevideos\\ar34motor\\2022_02_18\\52EYE.avi\n",
      "Duration of video [s]:  12.5 , recorded with  40.0 fps!\n",
      "Overall # of frames:  500  found with (before cropping) frame dimensions:  200 200\n",
      "Starting to extract posture\n"
     ]
    },
    {
     "name": "stderr",
     "output_type": "stream",
     "text": [
      "510it [00:03, 141.80it/s]                                                                                              \n"
     ]
    },
    {
     "name": "stdout",
     "output_type": "stream",
     "text": [
      "Saving results in D:\\Sidevideos\\ar34motor\\2022_02_18...\n",
      "Saving csv poses!\n",
      "Starting to analyze %  D:\\Sidevideos\\ar34motor\\2022_02_18\\53EYE.avi\n",
      "Loading  D:\\Sidevideos\\ar34motor\\2022_02_18\\53EYE.avi\n",
      "Duration of video [s]:  12.5 , recorded with  40.0 fps!\n",
      "Overall # of frames:  500  found with (before cropping) frame dimensions:  200 200\n",
      "Starting to extract posture\n"
     ]
    },
    {
     "name": "stderr",
     "output_type": "stream",
     "text": [
      "510it [00:03, 139.39it/s]                                                                                              \n"
     ]
    },
    {
     "name": "stdout",
     "output_type": "stream",
     "text": [
      "Saving results in D:\\Sidevideos\\ar34motor\\2022_02_18...\n",
      "Saving csv poses!\n",
      "Starting to analyze %  D:\\Sidevideos\\ar34motor\\2022_02_18\\54EYE.avi\n",
      "Loading  D:\\Sidevideos\\ar34motor\\2022_02_18\\54EYE.avi\n",
      "Duration of video [s]:  12.5 , recorded with  40.0 fps!\n",
      "Overall # of frames:  500  found with (before cropping) frame dimensions:  200 200\n",
      "Starting to extract posture\n"
     ]
    },
    {
     "name": "stderr",
     "output_type": "stream",
     "text": [
      "510it [00:03, 141.40it/s]                                                                                              \n"
     ]
    },
    {
     "name": "stdout",
     "output_type": "stream",
     "text": [
      "Saving results in D:\\Sidevideos\\ar34motor\\2022_02_18...\n",
      "Saving csv poses!\n",
      "Starting to analyze %  D:\\Sidevideos\\ar34motor\\2022_02_18\\55EYE.avi\n",
      "Loading  D:\\Sidevideos\\ar34motor\\2022_02_18\\55EYE.avi\n",
      "Duration of video [s]:  12.5 , recorded with  40.0 fps!\n",
      "Overall # of frames:  500  found with (before cropping) frame dimensions:  200 200\n",
      "Starting to extract posture\n"
     ]
    },
    {
     "name": "stderr",
     "output_type": "stream",
     "text": [
      "510it [00:03, 142.03it/s]                                                                                              \n"
     ]
    },
    {
     "name": "stdout",
     "output_type": "stream",
     "text": [
      "Saving results in D:\\Sidevideos\\ar34motor\\2022_02_18...\n",
      "Saving csv poses!\n",
      "Starting to analyze %  D:\\Sidevideos\\ar34motor\\2022_02_18\\56EYE.avi\n",
      "Loading  D:\\Sidevideos\\ar34motor\\2022_02_18\\56EYE.avi\n",
      "Duration of video [s]:  12.5 , recorded with  40.0 fps!\n",
      "Overall # of frames:  500  found with (before cropping) frame dimensions:  200 200\n",
      "Starting to extract posture\n"
     ]
    },
    {
     "name": "stderr",
     "output_type": "stream",
     "text": [
      "510it [00:03, 139.49it/s]                                                                                              \n"
     ]
    },
    {
     "name": "stdout",
     "output_type": "stream",
     "text": [
      "Saving results in D:\\Sidevideos\\ar34motor\\2022_02_18...\n",
      "Saving csv poses!\n",
      "Starting to analyze %  D:\\Sidevideos\\ar34motor\\2022_02_18\\57EYE.avi\n",
      "Loading  D:\\Sidevideos\\ar34motor\\2022_02_18\\57EYE.avi\n",
      "Duration of video [s]:  12.5 , recorded with  40.0 fps!\n",
      "Overall # of frames:  500  found with (before cropping) frame dimensions:  200 200\n",
      "Starting to extract posture\n"
     ]
    },
    {
     "name": "stderr",
     "output_type": "stream",
     "text": [
      "510it [00:03, 140.33it/s]                                                                                              \n"
     ]
    },
    {
     "name": "stdout",
     "output_type": "stream",
     "text": [
      "Saving results in D:\\Sidevideos\\ar34motor\\2022_02_18...\n",
      "Saving csv poses!\n",
      "Starting to analyze %  D:\\Sidevideos\\ar34motor\\2022_02_18\\58EYE.avi\n",
      "Loading  D:\\Sidevideos\\ar34motor\\2022_02_18\\58EYE.avi\n",
      "Duration of video [s]:  12.5 , recorded with  40.0 fps!\n",
      "Overall # of frames:  500  found with (before cropping) frame dimensions:  200 200\n",
      "Starting to extract posture\n"
     ]
    },
    {
     "name": "stderr",
     "output_type": "stream",
     "text": [
      "510it [00:03, 142.30it/s]                                                                                              \n"
     ]
    },
    {
     "name": "stdout",
     "output_type": "stream",
     "text": [
      "Saving results in D:\\Sidevideos\\ar34motor\\2022_02_18...\n",
      "Saving csv poses!\n",
      "Starting to analyze %  D:\\Sidevideos\\ar34motor\\2022_02_18\\59EYE.avi\n",
      "Loading  D:\\Sidevideos\\ar34motor\\2022_02_18\\59EYE.avi\n",
      "Duration of video [s]:  12.5 , recorded with  40.0 fps!\n",
      "Overall # of frames:  500  found with (before cropping) frame dimensions:  200 200\n",
      "Starting to extract posture\n"
     ]
    },
    {
     "name": "stderr",
     "output_type": "stream",
     "text": [
      "510it [00:03, 143.17it/s]                                                                                              \n"
     ]
    },
    {
     "name": "stdout",
     "output_type": "stream",
     "text": [
      "Saving results in D:\\Sidevideos\\ar34motor\\2022_02_18...\n",
      "Saving csv poses!\n",
      "Starting to analyze %  D:\\Sidevideos\\ar34motor\\2022_02_18\\5EYE.avi\n",
      "Loading  D:\\Sidevideos\\ar34motor\\2022_02_18\\5EYE.avi\n",
      "Duration of video [s]:  12.5 , recorded with  40.0 fps!\n",
      "Overall # of frames:  500  found with (before cropping) frame dimensions:  200 200\n",
      "Starting to extract posture\n"
     ]
    },
    {
     "name": "stderr",
     "output_type": "stream",
     "text": [
      "510it [00:03, 142.42it/s]                                                                                              \n"
     ]
    },
    {
     "name": "stdout",
     "output_type": "stream",
     "text": [
      "Saving results in D:\\Sidevideos\\ar34motor\\2022_02_18...\n",
      "Saving csv poses!\n",
      "Starting to analyze %  D:\\Sidevideos\\ar34motor\\2022_02_18\\60EYE.avi\n",
      "Loading  D:\\Sidevideos\\ar34motor\\2022_02_18\\60EYE.avi\n",
      "Duration of video [s]:  12.5 , recorded with  40.0 fps!\n",
      "Overall # of frames:  500  found with (before cropping) frame dimensions:  200 200\n",
      "Starting to extract posture\n"
     ]
    },
    {
     "name": "stderr",
     "output_type": "stream",
     "text": [
      "510it [00:03, 141.40it/s]                                                                                              \n"
     ]
    },
    {
     "name": "stdout",
     "output_type": "stream",
     "text": [
      "Saving results in D:\\Sidevideos\\ar34motor\\2022_02_18...\n",
      "Saving csv poses!\n",
      "Starting to analyze %  D:\\Sidevideos\\ar34motor\\2022_02_18\\61EYE.avi\n",
      "Loading  D:\\Sidevideos\\ar34motor\\2022_02_18\\61EYE.avi\n",
      "Duration of video [s]:  6.42 , recorded with  40.0 fps!\n",
      "Overall # of frames:  257  found with (before cropping) frame dimensions:  200 200\n",
      "Starting to extract posture\n"
     ]
    },
    {
     "name": "stderr",
     "output_type": "stream",
     "text": [
      "260it [00:01, 138.60it/s]                                                                                              \n"
     ]
    },
    {
     "name": "stdout",
     "output_type": "stream",
     "text": [
      "Saving results in D:\\Sidevideos\\ar34motor\\2022_02_18...\n",
      "Saving csv poses!\n",
      "Starting to analyze %  D:\\Sidevideos\\ar34motor\\2022_02_18\\62EYE.avi\n",
      "Loading  D:\\Sidevideos\\ar34motor\\2022_02_18\\62EYE.avi\n",
      "Duration of video [s]:  12.5 , recorded with  40.0 fps!\n",
      "Overall # of frames:  500  found with (before cropping) frame dimensions:  200 200\n",
      "Starting to extract posture\n"
     ]
    },
    {
     "name": "stderr",
     "output_type": "stream",
     "text": [
      "510it [00:03, 141.06it/s]                                                                                              \n"
     ]
    },
    {
     "name": "stdout",
     "output_type": "stream",
     "text": [
      "Saving results in D:\\Sidevideos\\ar34motor\\2022_02_18...\n",
      "Saving csv poses!\n",
      "Starting to analyze %  D:\\Sidevideos\\ar34motor\\2022_02_18\\63EYE.avi\n",
      "Loading  D:\\Sidevideos\\ar34motor\\2022_02_18\\63EYE.avi\n",
      "Duration of video [s]:  12.5 , recorded with  40.0 fps!\n",
      "Overall # of frames:  500  found with (before cropping) frame dimensions:  200 200\n",
      "Starting to extract posture\n"
     ]
    },
    {
     "name": "stderr",
     "output_type": "stream",
     "text": [
      "510it [00:03, 142.92it/s]                                                                                              \n"
     ]
    },
    {
     "name": "stdout",
     "output_type": "stream",
     "text": [
      "Saving results in D:\\Sidevideos\\ar34motor\\2022_02_18...\n",
      "Saving csv poses!\n",
      "Starting to analyze %  D:\\Sidevideos\\ar34motor\\2022_02_18\\64EYE.avi\n",
      "Loading  D:\\Sidevideos\\ar34motor\\2022_02_18\\64EYE.avi\n",
      "Duration of video [s]:  12.5 , recorded with  40.0 fps!\n",
      "Overall # of frames:  500  found with (before cropping) frame dimensions:  200 200\n",
      "Starting to extract posture\n"
     ]
    },
    {
     "name": "stderr",
     "output_type": "stream",
     "text": [
      "510it [00:03, 140.95it/s]                                                                                              \n"
     ]
    },
    {
     "name": "stdout",
     "output_type": "stream",
     "text": [
      "Saving results in D:\\Sidevideos\\ar34motor\\2022_02_18...\n",
      "Saving csv poses!\n",
      "Starting to analyze %  D:\\Sidevideos\\ar34motor\\2022_02_18\\65EYE.avi\n",
      "Loading  D:\\Sidevideos\\ar34motor\\2022_02_18\\65EYE.avi\n",
      "Duration of video [s]:  12.5 , recorded with  40.0 fps!\n",
      "Overall # of frames:  500  found with (before cropping) frame dimensions:  200 200\n",
      "Starting to extract posture\n"
     ]
    },
    {
     "name": "stderr",
     "output_type": "stream",
     "text": [
      "510it [00:03, 140.50it/s]                                                                                              \n"
     ]
    },
    {
     "name": "stdout",
     "output_type": "stream",
     "text": [
      "Saving results in D:\\Sidevideos\\ar34motor\\2022_02_18...\n",
      "Saving csv poses!\n",
      "Starting to analyze %  D:\\Sidevideos\\ar34motor\\2022_02_18\\66EYE.avi\n",
      "Loading  D:\\Sidevideos\\ar34motor\\2022_02_18\\66EYE.avi\n",
      "Duration of video [s]:  10.72 , recorded with  40.0 fps!\n",
      "Overall # of frames:  429  found with (before cropping) frame dimensions:  200 200\n",
      "Starting to extract posture\n"
     ]
    },
    {
     "name": "stderr",
     "output_type": "stream",
     "text": [
      "430it [00:03, 138.42it/s]                                                                                              \n"
     ]
    },
    {
     "name": "stdout",
     "output_type": "stream",
     "text": [
      "Saving results in D:\\Sidevideos\\ar34motor\\2022_02_18...\n",
      "Saving csv poses!\n",
      "Starting to analyze %  D:\\Sidevideos\\ar34motor\\2022_02_18\\67EYE.avi\n",
      "Loading  D:\\Sidevideos\\ar34motor\\2022_02_18\\67EYE.avi\n",
      "Duration of video [s]:  12.5 , recorded with  40.0 fps!\n",
      "Overall # of frames:  500  found with (before cropping) frame dimensions:  200 200\n",
      "Starting to extract posture\n"
     ]
    },
    {
     "name": "stderr",
     "output_type": "stream",
     "text": [
      "510it [00:03, 141.03it/s]                                                                                              \n"
     ]
    },
    {
     "name": "stdout",
     "output_type": "stream",
     "text": [
      "Saving results in D:\\Sidevideos\\ar34motor\\2022_02_18...\n",
      "Saving csv poses!\n",
      "Starting to analyze %  D:\\Sidevideos\\ar34motor\\2022_02_18\\68EYE.avi\n",
      "Loading  D:\\Sidevideos\\ar34motor\\2022_02_18\\68EYE.avi\n",
      "Duration of video [s]:  12.5 , recorded with  40.0 fps!\n",
      "Overall # of frames:  500  found with (before cropping) frame dimensions:  200 200\n",
      "Starting to extract posture\n"
     ]
    },
    {
     "name": "stderr",
     "output_type": "stream",
     "text": [
      "510it [00:03, 142.31it/s]                                                                                              \n"
     ]
    },
    {
     "name": "stdout",
     "output_type": "stream",
     "text": [
      "Saving results in D:\\Sidevideos\\ar34motor\\2022_02_18...\n",
      "Saving csv poses!\n",
      "Starting to analyze %  D:\\Sidevideos\\ar34motor\\2022_02_18\\69EYE.avi\n",
      "Loading  D:\\Sidevideos\\ar34motor\\2022_02_18\\69EYE.avi\n",
      "Duration of video [s]:  12.5 , recorded with  40.0 fps!\n",
      "Overall # of frames:  500  found with (before cropping) frame dimensions:  200 200\n",
      "Starting to extract posture\n"
     ]
    },
    {
     "name": "stderr",
     "output_type": "stream",
     "text": [
      "510it [00:03, 139.39it/s]                                                                                              \n"
     ]
    },
    {
     "name": "stdout",
     "output_type": "stream",
     "text": [
      "Saving results in D:\\Sidevideos\\ar34motor\\2022_02_18...\n",
      "Saving csv poses!\n",
      "Starting to analyze %  D:\\Sidevideos\\ar34motor\\2022_02_18\\6EYE.avi\n",
      "Loading  D:\\Sidevideos\\ar34motor\\2022_02_18\\6EYE.avi\n",
      "Duration of video [s]:  12.5 , recorded with  40.0 fps!\n",
      "Overall # of frames:  500  found with (before cropping) frame dimensions:  200 200\n",
      "Starting to extract posture\n"
     ]
    },
    {
     "name": "stderr",
     "output_type": "stream",
     "text": [
      "510it [00:03, 141.63it/s]                                                                                              \n"
     ]
    },
    {
     "name": "stdout",
     "output_type": "stream",
     "text": [
      "Saving results in D:\\Sidevideos\\ar34motor\\2022_02_18...\n",
      "Saving csv poses!\n",
      "Starting to analyze %  D:\\Sidevideos\\ar34motor\\2022_02_18\\70EYE.avi\n",
      "Loading  D:\\Sidevideos\\ar34motor\\2022_02_18\\70EYE.avi\n",
      "Duration of video [s]:  12.5 , recorded with  40.0 fps!\n",
      "Overall # of frames:  500  found with (before cropping) frame dimensions:  200 200\n",
      "Starting to extract posture\n"
     ]
    },
    {
     "name": "stderr",
     "output_type": "stream",
     "text": [
      "510it [00:03, 140.53it/s]                                                                                              \n"
     ]
    },
    {
     "name": "stdout",
     "output_type": "stream",
     "text": [
      "Saving results in D:\\Sidevideos\\ar34motor\\2022_02_18...\n",
      "Saving csv poses!\n",
      "Starting to analyze %  D:\\Sidevideos\\ar34motor\\2022_02_18\\71EYE.avi\n",
      "Loading  D:\\Sidevideos\\ar34motor\\2022_02_18\\71EYE.avi\n",
      "Duration of video [s]:  12.5 , recorded with  40.0 fps!\n",
      "Overall # of frames:  500  found with (before cropping) frame dimensions:  200 200\n",
      "Starting to extract posture\n"
     ]
    },
    {
     "name": "stderr",
     "output_type": "stream",
     "text": [
      "510it [00:04, 121.18it/s]                                                                                              \n"
     ]
    },
    {
     "name": "stdout",
     "output_type": "stream",
     "text": [
      "Saving results in D:\\Sidevideos\\ar34motor\\2022_02_18...\n",
      "Saving csv poses!\n",
      "Starting to analyze %  D:\\Sidevideos\\ar34motor\\2022_02_18\\72EYE.avi\n",
      "Loading  D:\\Sidevideos\\ar34motor\\2022_02_18\\72EYE.avi\n",
      "Duration of video [s]:  12.5 , recorded with  40.0 fps!\n",
      "Overall # of frames:  500  found with (before cropping) frame dimensions:  200 200\n",
      "Starting to extract posture\n"
     ]
    },
    {
     "name": "stderr",
     "output_type": "stream",
     "text": [
      "510it [00:03, 140.47it/s]                                                                                              \n"
     ]
    },
    {
     "name": "stdout",
     "output_type": "stream",
     "text": [
      "Saving results in D:\\Sidevideos\\ar34motor\\2022_02_18...\n",
      "Saving csv poses!\n",
      "Starting to analyze %  D:\\Sidevideos\\ar34motor\\2022_02_18\\73EYE.avi\n",
      "Loading  D:\\Sidevideos\\ar34motor\\2022_02_18\\73EYE.avi\n",
      "Duration of video [s]:  12.5 , recorded with  40.0 fps!\n",
      "Overall # of frames:  500  found with (before cropping) frame dimensions:  200 200\n",
      "Starting to extract posture\n"
     ]
    },
    {
     "name": "stderr",
     "output_type": "stream",
     "text": [
      "510it [00:03, 141.25it/s]                                                                                              \n"
     ]
    },
    {
     "name": "stdout",
     "output_type": "stream",
     "text": [
      "Saving results in D:\\Sidevideos\\ar34motor\\2022_02_18...\n",
      "Saving csv poses!\n",
      "Starting to analyze %  D:\\Sidevideos\\ar34motor\\2022_02_18\\74EYE.avi\n",
      "Loading  D:\\Sidevideos\\ar34motor\\2022_02_18\\74EYE.avi\n",
      "Duration of video [s]:  12.5 , recorded with  40.0 fps!\n",
      "Overall # of frames:  500  found with (before cropping) frame dimensions:  200 200\n",
      "Starting to extract posture\n"
     ]
    },
    {
     "name": "stderr",
     "output_type": "stream",
     "text": [
      "510it [00:03, 142.79it/s]                                                                                              \n"
     ]
    },
    {
     "name": "stdout",
     "output_type": "stream",
     "text": [
      "Saving results in D:\\Sidevideos\\ar34motor\\2022_02_18...\n",
      "Saving csv poses!\n",
      "Starting to analyze %  D:\\Sidevideos\\ar34motor\\2022_02_18\\75EYE.avi\n",
      "Loading  D:\\Sidevideos\\ar34motor\\2022_02_18\\75EYE.avi\n",
      "Duration of video [s]:  12.5 , recorded with  40.0 fps!\n",
      "Overall # of frames:  500  found with (before cropping) frame dimensions:  200 200\n",
      "Starting to extract posture\n"
     ]
    },
    {
     "name": "stderr",
     "output_type": "stream",
     "text": [
      "510it [00:03, 142.25it/s]                                                                                              \n"
     ]
    },
    {
     "name": "stdout",
     "output_type": "stream",
     "text": [
      "Saving results in D:\\Sidevideos\\ar34motor\\2022_02_18...\n",
      "Saving csv poses!\n",
      "Starting to analyze %  D:\\Sidevideos\\ar34motor\\2022_02_18\\76EYE.avi\n",
      "Loading  D:\\Sidevideos\\ar34motor\\2022_02_18\\76EYE.avi\n",
      "Duration of video [s]:  12.5 , recorded with  40.0 fps!\n",
      "Overall # of frames:  500  found with (before cropping) frame dimensions:  200 200\n",
      "Starting to extract posture\n"
     ]
    },
    {
     "name": "stderr",
     "output_type": "stream",
     "text": [
      "510it [00:03, 140.34it/s]                                                                                              \n"
     ]
    },
    {
     "name": "stdout",
     "output_type": "stream",
     "text": [
      "Saving results in D:\\Sidevideos\\ar34motor\\2022_02_18...\n",
      "Saving csv poses!\n",
      "Starting to analyze %  D:\\Sidevideos\\ar34motor\\2022_02_18\\77EYE.avi\n",
      "Loading  D:\\Sidevideos\\ar34motor\\2022_02_18\\77EYE.avi\n",
      "Duration of video [s]:  12.5 , recorded with  40.0 fps!\n",
      "Overall # of frames:  500  found with (before cropping) frame dimensions:  200 200\n",
      "Starting to extract posture\n"
     ]
    },
    {
     "name": "stderr",
     "output_type": "stream",
     "text": [
      "510it [00:03, 142.67it/s]                                                                                              \n"
     ]
    },
    {
     "name": "stdout",
     "output_type": "stream",
     "text": [
      "Saving results in D:\\Sidevideos\\ar34motor\\2022_02_18...\n",
      "Saving csv poses!\n",
      "Starting to analyze %  D:\\Sidevideos\\ar34motor\\2022_02_18\\78EYE.avi\n",
      "Loading  D:\\Sidevideos\\ar34motor\\2022_02_18\\78EYE.avi\n",
      "Duration of video [s]:  12.5 , recorded with  40.0 fps!\n",
      "Overall # of frames:  500  found with (before cropping) frame dimensions:  200 200\n",
      "Starting to extract posture\n"
     ]
    },
    {
     "name": "stderr",
     "output_type": "stream",
     "text": [
      "510it [00:03, 143.50it/s]                                                                                              \n"
     ]
    },
    {
     "name": "stdout",
     "output_type": "stream",
     "text": [
      "Saving results in D:\\Sidevideos\\ar34motor\\2022_02_18...\n",
      "Saving csv poses!\n",
      "Starting to analyze %  D:\\Sidevideos\\ar34motor\\2022_02_18\\79EYE.avi\n",
      "Loading  D:\\Sidevideos\\ar34motor\\2022_02_18\\79EYE.avi\n",
      "Duration of video [s]:  12.5 , recorded with  40.0 fps!\n",
      "Overall # of frames:  500  found with (before cropping) frame dimensions:  200 200\n",
      "Starting to extract posture\n"
     ]
    },
    {
     "name": "stderr",
     "output_type": "stream",
     "text": [
      "510it [00:03, 142.73it/s]                                                                                              \n"
     ]
    },
    {
     "name": "stdout",
     "output_type": "stream",
     "text": [
      "Saving results in D:\\Sidevideos\\ar34motor\\2022_02_18...\n",
      "Saving csv poses!\n",
      "Starting to analyze %  D:\\Sidevideos\\ar34motor\\2022_02_18\\7EYE.avi\n",
      "Loading  D:\\Sidevideos\\ar34motor\\2022_02_18\\7EYE.avi\n",
      "Duration of video [s]:  12.5 , recorded with  40.0 fps!\n",
      "Overall # of frames:  500  found with (before cropping) frame dimensions:  200 200\n",
      "Starting to extract posture\n"
     ]
    },
    {
     "name": "stderr",
     "output_type": "stream",
     "text": [
      "510it [00:03, 143.17it/s]                                                                                              \n"
     ]
    },
    {
     "name": "stdout",
     "output_type": "stream",
     "text": [
      "Saving results in D:\\Sidevideos\\ar34motor\\2022_02_18...\n",
      "Saving csv poses!\n",
      "Starting to analyze %  D:\\Sidevideos\\ar34motor\\2022_02_18\\80EYE.avi\n",
      "Loading  D:\\Sidevideos\\ar34motor\\2022_02_18\\80EYE.avi\n",
      "Duration of video [s]:  12.5 , recorded with  40.0 fps!\n",
      "Overall # of frames:  500  found with (before cropping) frame dimensions:  200 200\n",
      "Starting to extract posture\n"
     ]
    },
    {
     "name": "stderr",
     "output_type": "stream",
     "text": [
      "510it [00:03, 140.07it/s]                                                                                              \n"
     ]
    },
    {
     "name": "stdout",
     "output_type": "stream",
     "text": [
      "Saving results in D:\\Sidevideos\\ar34motor\\2022_02_18...\n",
      "Saving csv poses!\n",
      "Starting to analyze %  D:\\Sidevideos\\ar34motor\\2022_02_18\\81EYE.avi\n",
      "Loading  D:\\Sidevideos\\ar34motor\\2022_02_18\\81EYE.avi\n",
      "Duration of video [s]:  12.28 , recorded with  40.0 fps!\n",
      "Overall # of frames:  491  found with (before cropping) frame dimensions:  200 200\n",
      "Starting to extract posture\n"
     ]
    },
    {
     "name": "stderr",
     "output_type": "stream",
     "text": [
      "500it [00:03, 139.89it/s]                                                                                              \n"
     ]
    },
    {
     "name": "stdout",
     "output_type": "stream",
     "text": [
      "Saving results in D:\\Sidevideos\\ar34motor\\2022_02_18...\n",
      "Saving csv poses!\n",
      "Starting to analyze %  D:\\Sidevideos\\ar34motor\\2022_02_18\\82EYE.avi\n",
      "Loading  D:\\Sidevideos\\ar34motor\\2022_02_18\\82EYE.avi\n",
      "Duration of video [s]:  12.5 , recorded with  40.0 fps!\n",
      "Overall # of frames:  500  found with (before cropping) frame dimensions:  200 200\n",
      "Starting to extract posture\n"
     ]
    },
    {
     "name": "stderr",
     "output_type": "stream",
     "text": [
      "510it [00:03, 141.19it/s]                                                                                              \n"
     ]
    },
    {
     "name": "stdout",
     "output_type": "stream",
     "text": [
      "Saving results in D:\\Sidevideos\\ar34motor\\2022_02_18...\n",
      "Saving csv poses!\n",
      "Starting to analyze %  D:\\Sidevideos\\ar34motor\\2022_02_18\\83EYE.avi\n",
      "Loading  D:\\Sidevideos\\ar34motor\\2022_02_18\\83EYE.avi\n",
      "Duration of video [s]:  12.5 , recorded with  40.0 fps!\n",
      "Overall # of frames:  500  found with (before cropping) frame dimensions:  200 200\n",
      "Starting to extract posture\n"
     ]
    },
    {
     "name": "stderr",
     "output_type": "stream",
     "text": [
      "510it [00:03, 142.72it/s]                                                                                              \n"
     ]
    },
    {
     "name": "stdout",
     "output_type": "stream",
     "text": [
      "Saving results in D:\\Sidevideos\\ar34motor\\2022_02_18...\n",
      "Saving csv poses!\n",
      "Starting to analyze %  D:\\Sidevideos\\ar34motor\\2022_02_18\\84EYE.avi\n",
      "Loading  D:\\Sidevideos\\ar34motor\\2022_02_18\\84EYE.avi\n",
      "Duration of video [s]:  12.5 , recorded with  40.0 fps!\n",
      "Overall # of frames:  500  found with (before cropping) frame dimensions:  200 200\n",
      "Starting to extract posture\n"
     ]
    },
    {
     "name": "stderr",
     "output_type": "stream",
     "text": [
      "510it [00:03, 139.70it/s]                                                                                              \n"
     ]
    },
    {
     "name": "stdout",
     "output_type": "stream",
     "text": [
      "Saving results in D:\\Sidevideos\\ar34motor\\2022_02_18...\n",
      "Saving csv poses!\n",
      "Starting to analyze %  D:\\Sidevideos\\ar34motor\\2022_02_18\\85EYE.avi\n",
      "Loading  D:\\Sidevideos\\ar34motor\\2022_02_18\\85EYE.avi\n",
      "Duration of video [s]:  12.5 , recorded with  40.0 fps!\n",
      "Overall # of frames:  500  found with (before cropping) frame dimensions:  200 200\n",
      "Starting to extract posture\n"
     ]
    },
    {
     "name": "stderr",
     "output_type": "stream",
     "text": [
      "510it [00:03, 142.42it/s]                                                                                              \n"
     ]
    },
    {
     "name": "stdout",
     "output_type": "stream",
     "text": [
      "Saving results in D:\\Sidevideos\\ar34motor\\2022_02_18...\n",
      "Saving csv poses!\n",
      "Starting to analyze %  D:\\Sidevideos\\ar34motor\\2022_02_18\\86EYE.avi\n",
      "Loading  D:\\Sidevideos\\ar34motor\\2022_02_18\\86EYE.avi\n",
      "Duration of video [s]:  12.5 , recorded with  40.0 fps!\n",
      "Overall # of frames:  500  found with (before cropping) frame dimensions:  200 200\n",
      "Starting to extract posture\n"
     ]
    },
    {
     "name": "stderr",
     "output_type": "stream",
     "text": [
      "510it [00:03, 141.99it/s]                                                                                              \n"
     ]
    },
    {
     "name": "stdout",
     "output_type": "stream",
     "text": [
      "Saving results in D:\\Sidevideos\\ar34motor\\2022_02_18...\n",
      "Saving csv poses!\n",
      "Starting to analyze %  D:\\Sidevideos\\ar34motor\\2022_02_18\\87EYE.avi\n",
      "Loading  D:\\Sidevideos\\ar34motor\\2022_02_18\\87EYE.avi\n",
      "Duration of video [s]:  12.5 , recorded with  40.0 fps!\n",
      "Overall # of frames:  500  found with (before cropping) frame dimensions:  200 200\n",
      "Starting to extract posture\n"
     ]
    },
    {
     "name": "stderr",
     "output_type": "stream",
     "text": [
      "510it [00:03, 140.56it/s]                                                                                              \n"
     ]
    },
    {
     "name": "stdout",
     "output_type": "stream",
     "text": [
      "Saving results in D:\\Sidevideos\\ar34motor\\2022_02_18...\n",
      "Saving csv poses!\n",
      "Starting to analyze %  D:\\Sidevideos\\ar34motor\\2022_02_18\\88EYE.avi\n",
      "Loading  D:\\Sidevideos\\ar34motor\\2022_02_18\\88EYE.avi\n",
      "Duration of video [s]:  12.5 , recorded with  40.0 fps!\n",
      "Overall # of frames:  500  found with (before cropping) frame dimensions:  200 200\n",
      "Starting to extract posture\n"
     ]
    },
    {
     "name": "stderr",
     "output_type": "stream",
     "text": [
      "510it [00:03, 140.55it/s]                                                                                              \n"
     ]
    },
    {
     "name": "stdout",
     "output_type": "stream",
     "text": [
      "Saving results in D:\\Sidevideos\\ar34motor\\2022_02_18...\n",
      "Saving csv poses!\n",
      "Starting to analyze %  D:\\Sidevideos\\ar34motor\\2022_02_18\\89EYE.avi\n",
      "Loading  D:\\Sidevideos\\ar34motor\\2022_02_18\\89EYE.avi\n",
      "Duration of video [s]:  12.5 , recorded with  40.0 fps!\n",
      "Overall # of frames:  500  found with (before cropping) frame dimensions:  200 200\n",
      "Starting to extract posture\n"
     ]
    },
    {
     "name": "stderr",
     "output_type": "stream",
     "text": [
      "510it [00:03, 142.90it/s]                                                                                              \n"
     ]
    },
    {
     "name": "stdout",
     "output_type": "stream",
     "text": [
      "Saving results in D:\\Sidevideos\\ar34motor\\2022_02_18...\n",
      "Saving csv poses!\n",
      "Starting to analyze %  D:\\Sidevideos\\ar34motor\\2022_02_18\\8EYE.avi\n",
      "Loading  D:\\Sidevideos\\ar34motor\\2022_02_18\\8EYE.avi\n",
      "Duration of video [s]:  12.5 , recorded with  40.0 fps!\n",
      "Overall # of frames:  500  found with (before cropping) frame dimensions:  200 200\n",
      "Starting to extract posture\n"
     ]
    },
    {
     "name": "stderr",
     "output_type": "stream",
     "text": [
      "510it [00:03, 142.67it/s]                                                                                              \n"
     ]
    },
    {
     "name": "stdout",
     "output_type": "stream",
     "text": [
      "Saving results in D:\\Sidevideos\\ar34motor\\2022_02_18...\n",
      "Saving csv poses!\n",
      "Starting to analyze %  D:\\Sidevideos\\ar34motor\\2022_02_18\\90EYE.avi\n",
      "Loading  D:\\Sidevideos\\ar34motor\\2022_02_18\\90EYE.avi\n",
      "Duration of video [s]:  12.5 , recorded with  40.0 fps!\n",
      "Overall # of frames:  500  found with (before cropping) frame dimensions:  200 200\n",
      "Starting to extract posture\n"
     ]
    },
    {
     "name": "stderr",
     "output_type": "stream",
     "text": [
      "510it [00:03, 141.76it/s]                                                                                              \n"
     ]
    },
    {
     "name": "stdout",
     "output_type": "stream",
     "text": [
      "Saving results in D:\\Sidevideos\\ar34motor\\2022_02_18...\n",
      "Saving csv poses!\n",
      "Starting to analyze %  D:\\Sidevideos\\ar34motor\\2022_02_18\\91EYE.avi\n",
      "Loading  D:\\Sidevideos\\ar34motor\\2022_02_18\\91EYE.avi\n",
      "Duration of video [s]:  12.5 , recorded with  40.0 fps!\n",
      "Overall # of frames:  500  found with (before cropping) frame dimensions:  200 200\n",
      "Starting to extract posture\n"
     ]
    },
    {
     "name": "stderr",
     "output_type": "stream",
     "text": [
      "510it [00:03, 140.90it/s]                                                                                              \n"
     ]
    },
    {
     "name": "stdout",
     "output_type": "stream",
     "text": [
      "Saving results in D:\\Sidevideos\\ar34motor\\2022_02_18...\n",
      "Saving csv poses!\n",
      "Starting to analyze %  D:\\Sidevideos\\ar34motor\\2022_02_18\\92EYE.avi\n",
      "Loading  D:\\Sidevideos\\ar34motor\\2022_02_18\\92EYE.avi\n",
      "Duration of video [s]:  12.5 , recorded with  40.0 fps!\n",
      "Overall # of frames:  500  found with (before cropping) frame dimensions:  200 200\n",
      "Starting to extract posture\n"
     ]
    },
    {
     "name": "stderr",
     "output_type": "stream",
     "text": [
      "510it [00:03, 143.19it/s]                                                                                              \n"
     ]
    },
    {
     "name": "stdout",
     "output_type": "stream",
     "text": [
      "Saving results in D:\\Sidevideos\\ar34motor\\2022_02_18...\n",
      "Saving csv poses!\n",
      "Starting to analyze %  D:\\Sidevideos\\ar34motor\\2022_02_18\\93EYE.avi\n",
      "Loading  D:\\Sidevideos\\ar34motor\\2022_02_18\\93EYE.avi\n",
      "Duration of video [s]:  12.5 , recorded with  40.0 fps!\n",
      "Overall # of frames:  500  found with (before cropping) frame dimensions:  200 200\n",
      "Starting to extract posture\n"
     ]
    },
    {
     "name": "stderr",
     "output_type": "stream",
     "text": [
      "510it [00:03, 140.99it/s]                                                                                              \n"
     ]
    },
    {
     "name": "stdout",
     "output_type": "stream",
     "text": [
      "Saving results in D:\\Sidevideos\\ar34motor\\2022_02_18...\n",
      "Saving csv poses!\n",
      "Starting to analyze %  D:\\Sidevideos\\ar34motor\\2022_02_18\\94EYE.avi\n",
      "Loading  D:\\Sidevideos\\ar34motor\\2022_02_18\\94EYE.avi\n",
      "Duration of video [s]:  12.5 , recorded with  40.0 fps!\n",
      "Overall # of frames:  500  found with (before cropping) frame dimensions:  200 200\n",
      "Starting to extract posture\n"
     ]
    },
    {
     "name": "stderr",
     "output_type": "stream",
     "text": [
      "510it [00:03, 139.55it/s]                                                                                              \n"
     ]
    },
    {
     "name": "stdout",
     "output_type": "stream",
     "text": [
      "Saving results in D:\\Sidevideos\\ar34motor\\2022_02_18...\n",
      "Saving csv poses!\n",
      "Starting to analyze %  D:\\Sidevideos\\ar34motor\\2022_02_18\\95EYE.avi\n",
      "Loading  D:\\Sidevideos\\ar34motor\\2022_02_18\\95EYE.avi\n",
      "Duration of video [s]:  12.5 , recorded with  40.0 fps!\n",
      "Overall # of frames:  500  found with (before cropping) frame dimensions:  200 200\n",
      "Starting to extract posture\n"
     ]
    },
    {
     "name": "stderr",
     "output_type": "stream",
     "text": [
      "510it [00:03, 141.99it/s]                                                                                              \n"
     ]
    },
    {
     "name": "stdout",
     "output_type": "stream",
     "text": [
      "Saving results in D:\\Sidevideos\\ar34motor\\2022_02_18...\n",
      "Saving csv poses!\n",
      "Starting to analyze %  D:\\Sidevideos\\ar34motor\\2022_02_18\\96EYE.avi\n",
      "Loading  D:\\Sidevideos\\ar34motor\\2022_02_18\\96EYE.avi\n",
      "Duration of video [s]:  12.5 , recorded with  40.0 fps!\n",
      "Overall # of frames:  500  found with (before cropping) frame dimensions:  200 200\n",
      "Starting to extract posture\n"
     ]
    },
    {
     "name": "stderr",
     "output_type": "stream",
     "text": [
      "510it [00:03, 141.40it/s]                                                                                              \n"
     ]
    },
    {
     "name": "stdout",
     "output_type": "stream",
     "text": [
      "Saving results in D:\\Sidevideos\\ar34motor\\2022_02_18...\n",
      "Saving csv poses!\n",
      "Starting to analyze %  D:\\Sidevideos\\ar34motor\\2022_02_18\\97EYE.avi\n",
      "Loading  D:\\Sidevideos\\ar34motor\\2022_02_18\\97EYE.avi\n",
      "Duration of video [s]:  12.5 , recorded with  40.0 fps!\n",
      "Overall # of frames:  500  found with (before cropping) frame dimensions:  200 200\n",
      "Starting to extract posture\n"
     ]
    },
    {
     "name": "stderr",
     "output_type": "stream",
     "text": [
      "510it [00:03, 142.35it/s]                                                                                              \n"
     ]
    },
    {
     "name": "stdout",
     "output_type": "stream",
     "text": [
      "Saving results in D:\\Sidevideos\\ar34motor\\2022_02_18...\n",
      "Saving csv poses!\n",
      "Starting to analyze %  D:\\Sidevideos\\ar34motor\\2022_02_18\\98EYE.avi\n",
      "Loading  D:\\Sidevideos\\ar34motor\\2022_02_18\\98EYE.avi\n",
      "Duration of video [s]:  12.5 , recorded with  40.0 fps!\n",
      "Overall # of frames:  500  found with (before cropping) frame dimensions:  200 200\n",
      "Starting to extract posture\n"
     ]
    },
    {
     "name": "stderr",
     "output_type": "stream",
     "text": [
      "510it [00:03, 137.97it/s]                                                                                              \n"
     ]
    },
    {
     "name": "stdout",
     "output_type": "stream",
     "text": [
      "Saving results in D:\\Sidevideos\\ar34motor\\2022_02_18...\n",
      "Saving csv poses!\n",
      "Starting to analyze %  D:\\Sidevideos\\ar34motor\\2022_02_18\\99EYE.avi\n",
      "Loading  D:\\Sidevideos\\ar34motor\\2022_02_18\\99EYE.avi\n",
      "Duration of video [s]:  12.5 , recorded with  40.0 fps!\n",
      "Overall # of frames:  500  found with (before cropping) frame dimensions:  200 200\n",
      "Starting to extract posture\n"
     ]
    },
    {
     "name": "stderr",
     "output_type": "stream",
     "text": [
      "510it [00:03, 142.41it/s]                                                                                              \n"
     ]
    },
    {
     "name": "stdout",
     "output_type": "stream",
     "text": [
      "Saving results in D:\\Sidevideos\\ar34motor\\2022_02_18...\n",
      "Saving csv poses!\n",
      "Starting to analyze %  D:\\Sidevideos\\ar34motor\\2022_02_18\\9EYE.avi\n",
      "Loading  D:\\Sidevideos\\ar34motor\\2022_02_18\\9EYE.avi\n",
      "Duration of video [s]:  12.5 , recorded with  40.0 fps!\n",
      "Overall # of frames:  500  found with (before cropping) frame dimensions:  200 200\n",
      "Starting to extract posture\n"
     ]
    },
    {
     "name": "stderr",
     "output_type": "stream",
     "text": [
      "510it [00:03, 142.24it/s]                                                                                              \n"
     ]
    },
    {
     "name": "stdout",
     "output_type": "stream",
     "text": [
      "Saving results in D:\\Sidevideos\\ar34motor\\2022_02_18...\n",
      "Saving csv poses!\n",
      "The videos are analyzed. Now your research can truly start! \n",
      " You can create labeled videos with 'create_labeled_video'\n",
      "If the tracking is not satisfactory for some videos, consider expanding the training set. You can use the function 'extract_outlier_frames' to extract a few representative outlier frames.\n",
      "Filtering with median model D:\\Sidevideos\\ar34motor\\2022_02_18\\0EYE.avi\n",
      "Saving filtered csv poses!\n",
      "Filtering with median model D:\\Sidevideos\\ar34motor\\2022_02_18\\100EYE.avi\n",
      "Saving filtered csv poses!\n",
      "Filtering with median model D:\\Sidevideos\\ar34motor\\2022_02_18\\101EYE.avi\n",
      "Saving filtered csv poses!\n",
      "Filtering with median model D:\\Sidevideos\\ar34motor\\2022_02_18\\102EYE.avi\n",
      "Saving filtered csv poses!\n",
      "Filtering with median model D:\\Sidevideos\\ar34motor\\2022_02_18\\103EYE.avi\n",
      "Saving filtered csv poses!\n",
      "Filtering with median model D:\\Sidevideos\\ar34motor\\2022_02_18\\104EYE.avi\n",
      "Saving filtered csv poses!\n",
      "Filtering with median model D:\\Sidevideos\\ar34motor\\2022_02_18\\105EYE.avi\n",
      "Saving filtered csv poses!\n",
      "Filtering with median model D:\\Sidevideos\\ar34motor\\2022_02_18\\106EYE.avi\n",
      "Saving filtered csv poses!\n",
      "Filtering with median model D:\\Sidevideos\\ar34motor\\2022_02_18\\107EYE.avi\n",
      "Saving filtered csv poses!\n",
      "Filtering with median model D:\\Sidevideos\\ar34motor\\2022_02_18\\108EYE.avi\n",
      "Saving filtered csv poses!\n",
      "Filtering with median model D:\\Sidevideos\\ar34motor\\2022_02_18\\109EYE.avi\n",
      "Saving filtered csv poses!\n",
      "Filtering with median model D:\\Sidevideos\\ar34motor\\2022_02_18\\10EYE.avi\n",
      "Saving filtered csv poses!\n",
      "Filtering with median model D:\\Sidevideos\\ar34motor\\2022_02_18\\110EYE.avi\n",
      "Saving filtered csv poses!\n",
      "Filtering with median model D:\\Sidevideos\\ar34motor\\2022_02_18\\111EYE.avi\n",
      "Saving filtered csv poses!\n",
      "Filtering with median model D:\\Sidevideos\\ar34motor\\2022_02_18\\112EYE.avi\n",
      "Saving filtered csv poses!\n",
      "Filtering with median model D:\\Sidevideos\\ar34motor\\2022_02_18\\113EYE.avi\n",
      "Saving filtered csv poses!\n",
      "Filtering with median model D:\\Sidevideos\\ar34motor\\2022_02_18\\114EYE.avi\n",
      "Saving filtered csv poses!\n",
      "Filtering with median model D:\\Sidevideos\\ar34motor\\2022_02_18\\115EYE.avi\n",
      "Saving filtered csv poses!\n",
      "Filtering with median model D:\\Sidevideos\\ar34motor\\2022_02_18\\116EYE.avi\n",
      "Saving filtered csv poses!\n",
      "Filtering with median model D:\\Sidevideos\\ar34motor\\2022_02_18\\117EYE.avi\n",
      "Saving filtered csv poses!\n",
      "Filtering with median model D:\\Sidevideos\\ar34motor\\2022_02_18\\118EYE.avi\n",
      "Saving filtered csv poses!\n",
      "Filtering with median model D:\\Sidevideos\\ar34motor\\2022_02_18\\119EYE.avi\n",
      "Saving filtered csv poses!\n",
      "Filtering with median model D:\\Sidevideos\\ar34motor\\2022_02_18\\11EYE.avi\n",
      "Saving filtered csv poses!\n",
      "Filtering with median model D:\\Sidevideos\\ar34motor\\2022_02_18\\120EYE.avi\n",
      "Saving filtered csv poses!\n",
      "Filtering with median model D:\\Sidevideos\\ar34motor\\2022_02_18\\121EYE.avi\n",
      "Saving filtered csv poses!\n",
      "Filtering with median model D:\\Sidevideos\\ar34motor\\2022_02_18\\122EYE.avi\n",
      "Saving filtered csv poses!\n",
      "Filtering with median model D:\\Sidevideos\\ar34motor\\2022_02_18\\123EYE.avi\n",
      "Saving filtered csv poses!\n",
      "Filtering with median model D:\\Sidevideos\\ar34motor\\2022_02_18\\124EYE.avi\n",
      "Saving filtered csv poses!\n",
      "Filtering with median model D:\\Sidevideos\\ar34motor\\2022_02_18\\125EYE.avi\n",
      "Saving filtered csv poses!\n",
      "Filtering with median model D:\\Sidevideos\\ar34motor\\2022_02_18\\126EYE.avi\n",
      "Saving filtered csv poses!\n",
      "Filtering with median model D:\\Sidevideos\\ar34motor\\2022_02_18\\127EYE.avi\n",
      "Saving filtered csv poses!\n",
      "Filtering with median model D:\\Sidevideos\\ar34motor\\2022_02_18\\128EYE.avi\n",
      "Saving filtered csv poses!\n",
      "Filtering with median model D:\\Sidevideos\\ar34motor\\2022_02_18\\129EYE.avi\n",
      "Saving filtered csv poses!\n",
      "Filtering with median model D:\\Sidevideos\\ar34motor\\2022_02_18\\12EYE.avi\n",
      "Saving filtered csv poses!\n",
      "Filtering with median model D:\\Sidevideos\\ar34motor\\2022_02_18\\130EYE.avi\n",
      "Saving filtered csv poses!\n",
      "Filtering with median model D:\\Sidevideos\\ar34motor\\2022_02_18\\131EYE.avi\n",
      "Saving filtered csv poses!\n",
      "Filtering with median model D:\\Sidevideos\\ar34motor\\2022_02_18\\132EYE.avi\n",
      "Saving filtered csv poses!\n",
      "Filtering with median model D:\\Sidevideos\\ar34motor\\2022_02_18\\133EYE.avi\n",
      "Saving filtered csv poses!\n",
      "Filtering with median model D:\\Sidevideos\\ar34motor\\2022_02_18\\134EYE.avi\n",
      "Saving filtered csv poses!\n",
      "Filtering with median model D:\\Sidevideos\\ar34motor\\2022_02_18\\135EYE.avi\n",
      "Saving filtered csv poses!\n",
      "Filtering with median model D:\\Sidevideos\\ar34motor\\2022_02_18\\136EYE.avi\n",
      "Saving filtered csv poses!\n",
      "Filtering with median model D:\\Sidevideos\\ar34motor\\2022_02_18\\137EYE.avi\n",
      "Saving filtered csv poses!\n",
      "Filtering with median model D:\\Sidevideos\\ar34motor\\2022_02_18\\138EYE.avi\n",
      "Saving filtered csv poses!\n",
      "Filtering with median model D:\\Sidevideos\\ar34motor\\2022_02_18\\139EYE.avi\n",
      "Saving filtered csv poses!\n",
      "Filtering with median model D:\\Sidevideos\\ar34motor\\2022_02_18\\13EYE.avi\n",
      "Saving filtered csv poses!\n",
      "Filtering with median model D:\\Sidevideos\\ar34motor\\2022_02_18\\140EYE.avi\n",
      "Saving filtered csv poses!\n",
      "Filtering with median model D:\\Sidevideos\\ar34motor\\2022_02_18\\141EYE.avi\n",
      "Saving filtered csv poses!\n",
      "Filtering with median model D:\\Sidevideos\\ar34motor\\2022_02_18\\142EYE.avi\n",
      "Saving filtered csv poses!\n",
      "Filtering with median model D:\\Sidevideos\\ar34motor\\2022_02_18\\143EYE.avi\n",
      "Saving filtered csv poses!\n",
      "Filtering with median model D:\\Sidevideos\\ar34motor\\2022_02_18\\144EYE.avi\n",
      "Saving filtered csv poses!\n",
      "Filtering with median model D:\\Sidevideos\\ar34motor\\2022_02_18\\145EYE.avi\n",
      "Saving filtered csv poses!\n",
      "Filtering with median model D:\\Sidevideos\\ar34motor\\2022_02_18\\146EYE.avi\n",
      "Saving filtered csv poses!\n",
      "Filtering with median model D:\\Sidevideos\\ar34motor\\2022_02_18\\147EYE.avi\n",
      "Saving filtered csv poses!\n",
      "Filtering with median model D:\\Sidevideos\\ar34motor\\2022_02_18\\148EYE.avi\n",
      "Saving filtered csv poses!\n",
      "Filtering with median model D:\\Sidevideos\\ar34motor\\2022_02_18\\149EYE.avi\n",
      "Saving filtered csv poses!\n",
      "Filtering with median model D:\\Sidevideos\\ar34motor\\2022_02_18\\14EYE.avi\n",
      "Saving filtered csv poses!\n",
      "Filtering with median model D:\\Sidevideos\\ar34motor\\2022_02_18\\150EYE.avi\n",
      "Saving filtered csv poses!\n",
      "Filtering with median model D:\\Sidevideos\\ar34motor\\2022_02_18\\151EYE.avi\n",
      "Saving filtered csv poses!\n",
      "Filtering with median model D:\\Sidevideos\\ar34motor\\2022_02_18\\152EYE.avi\n",
      "Saving filtered csv poses!\n",
      "Filtering with median model D:\\Sidevideos\\ar34motor\\2022_02_18\\153EYE.avi\n",
      "Saving filtered csv poses!\n",
      "Filtering with median model D:\\Sidevideos\\ar34motor\\2022_02_18\\154EYE.avi\n",
      "Saving filtered csv poses!\n",
      "Filtering with median model D:\\Sidevideos\\ar34motor\\2022_02_18\\155EYE.avi\n",
      "Saving filtered csv poses!\n",
      "Filtering with median model D:\\Sidevideos\\ar34motor\\2022_02_18\\156EYE.avi\n",
      "Saving filtered csv poses!\n",
      "Filtering with median model D:\\Sidevideos\\ar34motor\\2022_02_18\\157EYE.avi\n",
      "Saving filtered csv poses!\n",
      "Filtering with median model D:\\Sidevideos\\ar34motor\\2022_02_18\\158EYE.avi\n",
      "Saving filtered csv poses!\n",
      "Filtering with median model D:\\Sidevideos\\ar34motor\\2022_02_18\\159EYE.avi\n",
      "Saving filtered csv poses!\n",
      "Filtering with median model D:\\Sidevideos\\ar34motor\\2022_02_18\\15EYE.avi\n",
      "Saving filtered csv poses!\n",
      "Filtering with median model D:\\Sidevideos\\ar34motor\\2022_02_18\\160EYE.avi\n",
      "Saving filtered csv poses!\n",
      "Filtering with median model D:\\Sidevideos\\ar34motor\\2022_02_18\\161EYE.avi\n",
      "Saving filtered csv poses!\n",
      "Filtering with median model D:\\Sidevideos\\ar34motor\\2022_02_18\\162EYE.avi\n",
      "Saving filtered csv poses!\n",
      "Filtering with median model D:\\Sidevideos\\ar34motor\\2022_02_18\\163EYE.avi\n",
      "Saving filtered csv poses!\n",
      "Filtering with median model D:\\Sidevideos\\ar34motor\\2022_02_18\\164EYE.avi\n",
      "Saving filtered csv poses!\n",
      "Filtering with median model D:\\Sidevideos\\ar34motor\\2022_02_18\\165EYE.avi\n",
      "Saving filtered csv poses!\n",
      "Filtering with median model D:\\Sidevideos\\ar34motor\\2022_02_18\\166EYE.avi\n",
      "Saving filtered csv poses!\n",
      "Filtering with median model D:\\Sidevideos\\ar34motor\\2022_02_18\\167EYE.avi\n",
      "Saving filtered csv poses!\n",
      "Filtering with median model D:\\Sidevideos\\ar34motor\\2022_02_18\\168EYE.avi\n",
      "Saving filtered csv poses!\n",
      "Filtering with median model D:\\Sidevideos\\ar34motor\\2022_02_18\\169EYE.avi\n",
      "Saving filtered csv poses!\n",
      "Filtering with median model D:\\Sidevideos\\ar34motor\\2022_02_18\\16EYE.avi\n",
      "Saving filtered csv poses!\n",
      "Filtering with median model D:\\Sidevideos\\ar34motor\\2022_02_18\\170EYE.avi\n",
      "Saving filtered csv poses!\n",
      "Filtering with median model D:\\Sidevideos\\ar34motor\\2022_02_18\\171EYE.avi\n"
     ]
    },
    {
     "name": "stdout",
     "output_type": "stream",
     "text": [
      "Saving filtered csv poses!\n",
      "Filtering with median model D:\\Sidevideos\\ar34motor\\2022_02_18\\172EYE.avi\n",
      "Saving filtered csv poses!\n",
      "Filtering with median model D:\\Sidevideos\\ar34motor\\2022_02_18\\173EYE.avi\n",
      "Saving filtered csv poses!\n",
      "Filtering with median model D:\\Sidevideos\\ar34motor\\2022_02_18\\174EYE.avi\n",
      "Saving filtered csv poses!\n",
      "Filtering with median model D:\\Sidevideos\\ar34motor\\2022_02_18\\175EYE.avi\n",
      "Saving filtered csv poses!\n",
      "Filtering with median model D:\\Sidevideos\\ar34motor\\2022_02_18\\176EYE.avi\n",
      "Saving filtered csv poses!\n",
      "Filtering with median model D:\\Sidevideos\\ar34motor\\2022_02_18\\177EYE.avi\n",
      "Saving filtered csv poses!\n",
      "Filtering with median model D:\\Sidevideos\\ar34motor\\2022_02_18\\178EYE.avi\n",
      "Saving filtered csv poses!\n",
      "Filtering with median model D:\\Sidevideos\\ar34motor\\2022_02_18\\179EYE.avi\n",
      "Saving filtered csv poses!\n",
      "Filtering with median model D:\\Sidevideos\\ar34motor\\2022_02_18\\17EYE.avi\n",
      "Saving filtered csv poses!\n",
      "Filtering with median model D:\\Sidevideos\\ar34motor\\2022_02_18\\180EYE.avi\n",
      "Saving filtered csv poses!\n",
      "Filtering with median model D:\\Sidevideos\\ar34motor\\2022_02_18\\181EYE.avi\n",
      "Saving filtered csv poses!\n",
      "Filtering with median model D:\\Sidevideos\\ar34motor\\2022_02_18\\182EYE.avi\n",
      "Saving filtered csv poses!\n",
      "Filtering with median model D:\\Sidevideos\\ar34motor\\2022_02_18\\183EYE.avi\n",
      "Saving filtered csv poses!\n",
      "Filtering with median model D:\\Sidevideos\\ar34motor\\2022_02_18\\184EYE.avi\n",
      "Saving filtered csv poses!\n",
      "Filtering with median model D:\\Sidevideos\\ar34motor\\2022_02_18\\185EYE.avi\n",
      "Saving filtered csv poses!\n",
      "Filtering with median model D:\\Sidevideos\\ar34motor\\2022_02_18\\186EYE.avi\n",
      "Saving filtered csv poses!\n",
      "Filtering with median model D:\\Sidevideos\\ar34motor\\2022_02_18\\187EYE.avi\n",
      "Saving filtered csv poses!\n",
      "Filtering with median model D:\\Sidevideos\\ar34motor\\2022_02_18\\188EYE.avi\n",
      "Saving filtered csv poses!\n",
      "Filtering with median model D:\\Sidevideos\\ar34motor\\2022_02_18\\189EYE.avi\n",
      "Saving filtered csv poses!\n",
      "Filtering with median model D:\\Sidevideos\\ar34motor\\2022_02_18\\18EYE.avi\n",
      "Saving filtered csv poses!\n",
      "Filtering with median model D:\\Sidevideos\\ar34motor\\2022_02_18\\190EYE.avi\n",
      "Saving filtered csv poses!\n",
      "Filtering with median model D:\\Sidevideos\\ar34motor\\2022_02_18\\191EYE.avi\n",
      "Saving filtered csv poses!\n",
      "Filtering with median model D:\\Sidevideos\\ar34motor\\2022_02_18\\192EYE.avi\n",
      "Saving filtered csv poses!\n",
      "Filtering with median model D:\\Sidevideos\\ar34motor\\2022_02_18\\193EYE.avi\n",
      "Saving filtered csv poses!\n",
      "Filtering with median model D:\\Sidevideos\\ar34motor\\2022_02_18\\194EYE.avi\n",
      "Saving filtered csv poses!\n",
      "Filtering with median model D:\\Sidevideos\\ar34motor\\2022_02_18\\195EYE.avi\n",
      "Saving filtered csv poses!\n",
      "Filtering with median model D:\\Sidevideos\\ar34motor\\2022_02_18\\196EYE.avi\n",
      "Saving filtered csv poses!\n",
      "Filtering with median model D:\\Sidevideos\\ar34motor\\2022_02_18\\197EYE.avi\n",
      "Saving filtered csv poses!\n",
      "Filtering with median model D:\\Sidevideos\\ar34motor\\2022_02_18\\198EYE.avi\n",
      "Saving filtered csv poses!\n",
      "Filtering with median model D:\\Sidevideos\\ar34motor\\2022_02_18\\199EYE.avi\n",
      "Saving filtered csv poses!\n",
      "Filtering with median model D:\\Sidevideos\\ar34motor\\2022_02_18\\19EYE.avi\n",
      "Saving filtered csv poses!\n",
      "Filtering with median model D:\\Sidevideos\\ar34motor\\2022_02_18\\1EYE.avi\n",
      "Saving filtered csv poses!\n",
      "Filtering with median model D:\\Sidevideos\\ar34motor\\2022_02_18\\200EYE.avi\n",
      "Saving filtered csv poses!\n",
      "Filtering with median model D:\\Sidevideos\\ar34motor\\2022_02_18\\201EYE.avi\n",
      "Saving filtered csv poses!\n",
      "Filtering with median model D:\\Sidevideos\\ar34motor\\2022_02_18\\202EYE.avi\n",
      "Saving filtered csv poses!\n",
      "Filtering with median model D:\\Sidevideos\\ar34motor\\2022_02_18\\203EYE.avi\n",
      "Saving filtered csv poses!\n",
      "Filtering with median model D:\\Sidevideos\\ar34motor\\2022_02_18\\204EYE.avi\n",
      "Saving filtered csv poses!\n",
      "Filtering with median model D:\\Sidevideos\\ar34motor\\2022_02_18\\205EYE.avi\n",
      "Saving filtered csv poses!\n",
      "Filtering with median model D:\\Sidevideos\\ar34motor\\2022_02_18\\206EYE.avi\n",
      "Saving filtered csv poses!\n",
      "Filtering with median model D:\\Sidevideos\\ar34motor\\2022_02_18\\207EYE.avi\n",
      "Saving filtered csv poses!\n",
      "Filtering with median model D:\\Sidevideos\\ar34motor\\2022_02_18\\208EYE.avi\n",
      "Saving filtered csv poses!\n",
      "Filtering with median model D:\\Sidevideos\\ar34motor\\2022_02_18\\209EYE.avi\n",
      "Saving filtered csv poses!\n",
      "Filtering with median model D:\\Sidevideos\\ar34motor\\2022_02_18\\20EYE.avi\n",
      "Saving filtered csv poses!\n",
      "Filtering with median model D:\\Sidevideos\\ar34motor\\2022_02_18\\210EYE.avi\n",
      "Saving filtered csv poses!\n",
      "Filtering with median model D:\\Sidevideos\\ar34motor\\2022_02_18\\211EYE.avi\n",
      "Saving filtered csv poses!\n",
      "Filtering with median model D:\\Sidevideos\\ar34motor\\2022_02_18\\212EYE.avi\n",
      "Saving filtered csv poses!\n",
      "Filtering with median model D:\\Sidevideos\\ar34motor\\2022_02_18\\213EYE.avi\n",
      "Saving filtered csv poses!\n",
      "Filtering with median model D:\\Sidevideos\\ar34motor\\2022_02_18\\214EYE.avi\n",
      "Saving filtered csv poses!\n",
      "Filtering with median model D:\\Sidevideos\\ar34motor\\2022_02_18\\215EYE.avi\n",
      "Saving filtered csv poses!\n",
      "Filtering with median model D:\\Sidevideos\\ar34motor\\2022_02_18\\216EYE.avi\n",
      "Saving filtered csv poses!\n",
      "Filtering with median model D:\\Sidevideos\\ar34motor\\2022_02_18\\217EYE.avi\n",
      "Saving filtered csv poses!\n",
      "Filtering with median model D:\\Sidevideos\\ar34motor\\2022_02_18\\218EYE.avi\n",
      "Saving filtered csv poses!\n",
      "Filtering with median model D:\\Sidevideos\\ar34motor\\2022_02_18\\219EYE.avi\n",
      "Saving filtered csv poses!\n",
      "Filtering with median model D:\\Sidevideos\\ar34motor\\2022_02_18\\21EYE.avi\n",
      "Saving filtered csv poses!\n",
      "Filtering with median model D:\\Sidevideos\\ar34motor\\2022_02_18\\220EYE.avi\n",
      "Saving filtered csv poses!\n",
      "Filtering with median model D:\\Sidevideos\\ar34motor\\2022_02_18\\221EYE.avi\n",
      "Saving filtered csv poses!\n",
      "Filtering with median model D:\\Sidevideos\\ar34motor\\2022_02_18\\222EYE.avi\n",
      "Saving filtered csv poses!\n",
      "Filtering with median model D:\\Sidevideos\\ar34motor\\2022_02_18\\223EYE.avi\n",
      "Saving filtered csv poses!\n",
      "Filtering with median model D:\\Sidevideos\\ar34motor\\2022_02_18\\224EYE.avi\n",
      "Saving filtered csv poses!\n",
      "Filtering with median model D:\\Sidevideos\\ar34motor\\2022_02_18\\22EYE.avi\n",
      "Saving filtered csv poses!\n",
      "Filtering with median model D:\\Sidevideos\\ar34motor\\2022_02_18\\23EYE.avi\n",
      "Saving filtered csv poses!\n",
      "Filtering with median model D:\\Sidevideos\\ar34motor\\2022_02_18\\24EYE.avi\n",
      "Saving filtered csv poses!\n",
      "Filtering with median model D:\\Sidevideos\\ar34motor\\2022_02_18\\25EYE.avi\n",
      "Saving filtered csv poses!\n",
      "Filtering with median model D:\\Sidevideos\\ar34motor\\2022_02_18\\26EYE.avi\n",
      "Saving filtered csv poses!\n",
      "Filtering with median model D:\\Sidevideos\\ar34motor\\2022_02_18\\27EYE.avi\n",
      "Saving filtered csv poses!\n",
      "Filtering with median model D:\\Sidevideos\\ar34motor\\2022_02_18\\28EYE.avi\n",
      "Saving filtered csv poses!\n",
      "Filtering with median model D:\\Sidevideos\\ar34motor\\2022_02_18\\29EYE.avi\n",
      "Saving filtered csv poses!\n",
      "Filtering with median model D:\\Sidevideos\\ar34motor\\2022_02_18\\2EYE.avi\n",
      "Saving filtered csv poses!\n",
      "Filtering with median model D:\\Sidevideos\\ar34motor\\2022_02_18\\30EYE.avi\n",
      "Saving filtered csv poses!\n",
      "Filtering with median model D:\\Sidevideos\\ar34motor\\2022_02_18\\31EYE.avi\n",
      "Saving filtered csv poses!\n",
      "Filtering with median model D:\\Sidevideos\\ar34motor\\2022_02_18\\32EYE.avi\n",
      "Saving filtered csv poses!\n",
      "Filtering with median model D:\\Sidevideos\\ar34motor\\2022_02_18\\33EYE.avi\n",
      "Saving filtered csv poses!\n",
      "Filtering with median model D:\\Sidevideos\\ar34motor\\2022_02_18\\34EYE.avi\n",
      "Saving filtered csv poses!\n",
      "Filtering with median model D:\\Sidevideos\\ar34motor\\2022_02_18\\35EYE.avi\n",
      "Saving filtered csv poses!\n",
      "Filtering with median model D:\\Sidevideos\\ar34motor\\2022_02_18\\36EYE.avi\n",
      "Saving filtered csv poses!\n",
      "Filtering with median model D:\\Sidevideos\\ar34motor\\2022_02_18\\37EYE.avi\n",
      "Saving filtered csv poses!\n",
      "Filtering with median model D:\\Sidevideos\\ar34motor\\2022_02_18\\38EYE.avi\n",
      "Saving filtered csv poses!\n",
      "Filtering with median model D:\\Sidevideos\\ar34motor\\2022_02_18\\39EYE.avi\n",
      "Saving filtered csv poses!\n",
      "Filtering with median model D:\\Sidevideos\\ar34motor\\2022_02_18\\3EYE.avi\n",
      "Saving filtered csv poses!\n",
      "Filtering with median model D:\\Sidevideos\\ar34motor\\2022_02_18\\40EYE.avi\n",
      "Saving filtered csv poses!\n",
      "Filtering with median model D:\\Sidevideos\\ar34motor\\2022_02_18\\41EYE.avi\n",
      "Saving filtered csv poses!\n",
      "Filtering with median model D:\\Sidevideos\\ar34motor\\2022_02_18\\42EYE.avi\n",
      "Saving filtered csv poses!\n",
      "Filtering with median model D:\\Sidevideos\\ar34motor\\2022_02_18\\43EYE.avi\n",
      "Saving filtered csv poses!\n",
      "Filtering with median model D:\\Sidevideos\\ar34motor\\2022_02_18\\44EYE.avi\n"
     ]
    },
    {
     "name": "stdout",
     "output_type": "stream",
     "text": [
      "Saving filtered csv poses!\n",
      "Filtering with median model D:\\Sidevideos\\ar34motor\\2022_02_18\\45EYE.avi\n",
      "Saving filtered csv poses!\n",
      "Filtering with median model D:\\Sidevideos\\ar34motor\\2022_02_18\\46EYE.avi\n",
      "Saving filtered csv poses!\n",
      "Filtering with median model D:\\Sidevideos\\ar34motor\\2022_02_18\\47EYE.avi\n",
      "Saving filtered csv poses!\n",
      "Filtering with median model D:\\Sidevideos\\ar34motor\\2022_02_18\\48EYE.avi\n",
      "Saving filtered csv poses!\n",
      "Filtering with median model D:\\Sidevideos\\ar34motor\\2022_02_18\\49EYE.avi\n",
      "Saving filtered csv poses!\n",
      "Filtering with median model D:\\Sidevideos\\ar34motor\\2022_02_18\\4EYE.avi\n",
      "Saving filtered csv poses!\n",
      "Filtering with median model D:\\Sidevideos\\ar34motor\\2022_02_18\\50EYE.avi\n",
      "Saving filtered csv poses!\n",
      "Filtering with median model D:\\Sidevideos\\ar34motor\\2022_02_18\\51EYE.avi\n",
      "Saving filtered csv poses!\n",
      "Filtering with median model D:\\Sidevideos\\ar34motor\\2022_02_18\\52EYE.avi\n",
      "Saving filtered csv poses!\n",
      "Filtering with median model D:\\Sidevideos\\ar34motor\\2022_02_18\\53EYE.avi\n",
      "Saving filtered csv poses!\n",
      "Filtering with median model D:\\Sidevideos\\ar34motor\\2022_02_18\\54EYE.avi\n",
      "Saving filtered csv poses!\n",
      "Filtering with median model D:\\Sidevideos\\ar34motor\\2022_02_18\\55EYE.avi\n",
      "Saving filtered csv poses!\n",
      "Filtering with median model D:\\Sidevideos\\ar34motor\\2022_02_18\\56EYE.avi\n",
      "Saving filtered csv poses!\n",
      "Filtering with median model D:\\Sidevideos\\ar34motor\\2022_02_18\\57EYE.avi\n",
      "Saving filtered csv poses!\n",
      "Filtering with median model D:\\Sidevideos\\ar34motor\\2022_02_18\\58EYE.avi\n",
      "Saving filtered csv poses!\n",
      "Filtering with median model D:\\Sidevideos\\ar34motor\\2022_02_18\\59EYE.avi\n",
      "Saving filtered csv poses!\n",
      "Filtering with median model D:\\Sidevideos\\ar34motor\\2022_02_18\\5EYE.avi\n",
      "Saving filtered csv poses!\n",
      "Filtering with median model D:\\Sidevideos\\ar34motor\\2022_02_18\\60EYE.avi\n",
      "Saving filtered csv poses!\n",
      "Filtering with median model D:\\Sidevideos\\ar34motor\\2022_02_18\\61EYE.avi\n",
      "Saving filtered csv poses!\n",
      "Filtering with median model D:\\Sidevideos\\ar34motor\\2022_02_18\\62EYE.avi\n",
      "Saving filtered csv poses!\n",
      "Filtering with median model D:\\Sidevideos\\ar34motor\\2022_02_18\\63EYE.avi\n",
      "Saving filtered csv poses!\n",
      "Filtering with median model D:\\Sidevideos\\ar34motor\\2022_02_18\\64EYE.avi\n",
      "Saving filtered csv poses!\n",
      "Filtering with median model D:\\Sidevideos\\ar34motor\\2022_02_18\\65EYE.avi\n",
      "Saving filtered csv poses!\n",
      "Filtering with median model D:\\Sidevideos\\ar34motor\\2022_02_18\\66EYE.avi\n",
      "Saving filtered csv poses!\n",
      "Filtering with median model D:\\Sidevideos\\ar34motor\\2022_02_18\\67EYE.avi\n",
      "Saving filtered csv poses!\n",
      "Filtering with median model D:\\Sidevideos\\ar34motor\\2022_02_18\\68EYE.avi\n",
      "Saving filtered csv poses!\n",
      "Filtering with median model D:\\Sidevideos\\ar34motor\\2022_02_18\\69EYE.avi\n",
      "Saving filtered csv poses!\n",
      "Filtering with median model D:\\Sidevideos\\ar34motor\\2022_02_18\\6EYE.avi\n",
      "Saving filtered csv poses!\n",
      "Filtering with median model D:\\Sidevideos\\ar34motor\\2022_02_18\\70EYE.avi\n",
      "Saving filtered csv poses!\n",
      "Filtering with median model D:\\Sidevideos\\ar34motor\\2022_02_18\\71EYE.avi\n",
      "Saving filtered csv poses!\n",
      "Filtering with median model D:\\Sidevideos\\ar34motor\\2022_02_18\\72EYE.avi\n",
      "Saving filtered csv poses!\n",
      "Filtering with median model D:\\Sidevideos\\ar34motor\\2022_02_18\\73EYE.avi\n",
      "Saving filtered csv poses!\n",
      "Filtering with median model D:\\Sidevideos\\ar34motor\\2022_02_18\\74EYE.avi\n",
      "Saving filtered csv poses!\n",
      "Filtering with median model D:\\Sidevideos\\ar34motor\\2022_02_18\\75EYE.avi\n",
      "Saving filtered csv poses!\n",
      "Filtering with median model D:\\Sidevideos\\ar34motor\\2022_02_18\\76EYE.avi\n",
      "Saving filtered csv poses!\n",
      "Filtering with median model D:\\Sidevideos\\ar34motor\\2022_02_18\\77EYE.avi\n",
      "Saving filtered csv poses!\n",
      "Filtering with median model D:\\Sidevideos\\ar34motor\\2022_02_18\\78EYE.avi\n",
      "Saving filtered csv poses!\n",
      "Filtering with median model D:\\Sidevideos\\ar34motor\\2022_02_18\\79EYE.avi\n",
      "Saving filtered csv poses!\n",
      "Filtering with median model D:\\Sidevideos\\ar34motor\\2022_02_18\\7EYE.avi\n",
      "Saving filtered csv poses!\n",
      "Filtering with median model D:\\Sidevideos\\ar34motor\\2022_02_18\\80EYE.avi\n",
      "Saving filtered csv poses!\n",
      "Filtering with median model D:\\Sidevideos\\ar34motor\\2022_02_18\\81EYE.avi\n",
      "Saving filtered csv poses!\n",
      "Filtering with median model D:\\Sidevideos\\ar34motor\\2022_02_18\\82EYE.avi\n",
      "Saving filtered csv poses!\n",
      "Filtering with median model D:\\Sidevideos\\ar34motor\\2022_02_18\\83EYE.avi\n",
      "Saving filtered csv poses!\n",
      "Filtering with median model D:\\Sidevideos\\ar34motor\\2022_02_18\\84EYE.avi\n",
      "Saving filtered csv poses!\n",
      "Filtering with median model D:\\Sidevideos\\ar34motor\\2022_02_18\\85EYE.avi\n",
      "Saving filtered csv poses!\n",
      "Filtering with median model D:\\Sidevideos\\ar34motor\\2022_02_18\\86EYE.avi\n",
      "Saving filtered csv poses!\n",
      "Filtering with median model D:\\Sidevideos\\ar34motor\\2022_02_18\\87EYE.avi\n",
      "Saving filtered csv poses!\n",
      "Filtering with median model D:\\Sidevideos\\ar34motor\\2022_02_18\\88EYE.avi\n",
      "Saving filtered csv poses!\n",
      "Filtering with median model D:\\Sidevideos\\ar34motor\\2022_02_18\\89EYE.avi\n",
      "Saving filtered csv poses!\n",
      "Filtering with median model D:\\Sidevideos\\ar34motor\\2022_02_18\\8EYE.avi\n",
      "Saving filtered csv poses!\n",
      "Filtering with median model D:\\Sidevideos\\ar34motor\\2022_02_18\\90EYE.avi\n",
      "Saving filtered csv poses!\n",
      "Filtering with median model D:\\Sidevideos\\ar34motor\\2022_02_18\\91EYE.avi\n",
      "Saving filtered csv poses!\n",
      "Filtering with median model D:\\Sidevideos\\ar34motor\\2022_02_18\\92EYE.avi\n",
      "Saving filtered csv poses!\n",
      "Filtering with median model D:\\Sidevideos\\ar34motor\\2022_02_18\\93EYE.avi\n",
      "Saving filtered csv poses!\n",
      "Filtering with median model D:\\Sidevideos\\ar34motor\\2022_02_18\\94EYE.avi\n",
      "Saving filtered csv poses!\n",
      "Filtering with median model D:\\Sidevideos\\ar34motor\\2022_02_18\\95EYE.avi\n",
      "Saving filtered csv poses!\n",
      "Filtering with median model D:\\Sidevideos\\ar34motor\\2022_02_18\\96EYE.avi\n",
      "Saving filtered csv poses!\n",
      "Filtering with median model D:\\Sidevideos\\ar34motor\\2022_02_18\\97EYE.avi\n",
      "Saving filtered csv poses!\n",
      "Filtering with median model D:\\Sidevideos\\ar34motor\\2022_02_18\\98EYE.avi\n",
      "Saving filtered csv poses!\n",
      "Filtering with median model D:\\Sidevideos\\ar34motor\\2022_02_18\\99EYE.avi\n",
      "Saving filtered csv poses!\n",
      "Filtering with median model D:\\Sidevideos\\ar34motor\\2022_02_18\\9EYE.avi\n",
      "Saving filtered csv poses!\n"
     ]
    }
   ],
   "source": [
    "path_config_file = 'D:\\\\Sidevideos\\\\DLC\\\\Sideview4-Arash-2021-07-18\\\\config.yaml';\n",
    "#Mainfolder = 'D:\\\\videos\\\\ar32\\\\2020_12_18';\n",
    "path_config_file ='D:\\\\Sidevideos\\\\DLC\\\\Eyedata6-Arash-2022-02-06\\\\config.yaml';\n",
    "path_config_file ='D:\\\\Sidevideos\\\\DLC\\\\RightEye_4_4_2_points-Arash-2022-02-28\\\\config.yaml';\n",
    "#Mainfolder = 'D:\\\\videos\\\\ar32\\\\2020_12_18';\n",
    "import os\n",
    "text_files = [os.path.join(Mainfolder,f) for f in os.listdir(Mainfolder) if f.endswith('EYE.avi') and not f.endswith('L.avi') and not f.endswith('R.avi') and not f.endswith('videopoints.avi') and not f.endswith('videopoints.avi')]\n",
    "print(text_files[1])\n",
    "#text_files='C:\\\\videos\\\\ar30motor\\\\2021_04_25\\\\9.avi'\n",
    "temp1=deeplabcut.analyze_videos(path_config_file,text_files,shuffle=1, save_as_csv=True )\n",
    "temp=deeplabcut.filterpredictions(path_config_file,text_files)"
   ]
  },
  {
   "cell_type": "markdown",
   "metadata": {},
   "source": [
    "# this step should take the filtered DLC output (Nose and Snout)\n",
    "and create the L and R movies\n",
    "then using another function to convert L and R (R is left face and L is right face) files into Mask and Mirror files( Mask only adds mask to the Right side of the face and Mirror. \n"
   ]
  },
  {
   "cell_type": "markdown",
   "metadata": {},
   "source": [
    "# copy tracked files into the server (with mp4 movies)"
   ]
  },
  {
   "cell_type": "code",
   "execution_count": null,
   "metadata": {},
   "outputs": [],
   "source": [
    "# the code to run matlab here\n",
    "#Mainfolder = 'C:\\\\videos\\\\ar344thday\\\\2021_07_26'\n",
    "# copy tracked files into the server (with mp4 movies)\n",
    "Mainfolder = 'D:\\\\Sidevideos\\\\ar32motor\\\\2021_08_02'\n",
    "\n",
    "#Mainfolder = 'D:\\\\Sidevideos\\\\ar344thday\\\\2021_07_26'\n",
    "#destination = ''\n",
    "destination='//dk-server.dk.ucsd.edu/afassihizakeri/SC_Movies/ar32motor/2021_08_02/Side'\n",
    "import shutil\n",
    "shutil.copytree( Mainfolder,destination, ignore=shutil.ignore_patterns('*.avi'),copy_function = shutil.copy)\n",
    "#copytree(Mainfolder, destination, ignore=ignore_patterns('*.avi'))\n",
    "\n",
    "\n"
   ]
  },
  {
   "cell_type": "markdown",
   "metadata": {},
   "source": [
    "this step makes Mirror Mask files"
   ]
  },
  {
   "cell_type": "markdown",
   "metadata": {},
   "source": [
    "# copy tracked data"
   ]
  },
  {
   "cell_type": "code",
   "execution_count": null,
   "metadata": {},
   "outputs": [],
   "source": [
    "import os  # this is to get folder information and creat files\n",
    "import cv2  # this is important and is reading and writing images and video\n",
    "import shutil\n",
    "destination='//dk-server.dk.ucsd.edu/afassihizakeri/SC_Movies/ar34training/4thdayside'\n",
    "D:\\Sidevideos\\ar34motor\\2022_01_27D:\\Sidevideos\\ar34motor\\2022_01_27\n",
    "All_Folders=[ name for name in os.listdir(Mainfolder) if not os.path.isdir(os.path.join(Mainfolder, name)) ]\n",
    "#print(All_Folders)\n",
    "for num in range(0,len(All_Folders)): \n",
    "    thisdestination = os.path.join(destination+'/', All_Folders[num])\n",
    "    thissource = os.path.join(Mainfolder+os.sep, All_Folders[num])\n",
    "    shutil.copy( thissource,destination)\n",
    "    print(thisdestination)\n"
   ]
  },
  {
   "cell_type": "markdown",
   "metadata": {},
   "source": [
    "# create labled videos"
   ]
  },
  {
   "cell_type": "code",
   "execution_count": null,
   "metadata": {},
   "outputs": [],
   "source": [
    "# first we create a vector of destination file names\n",
    "import os \n",
    "\n",
    "dirname = os.path.dirname(text_files[1]) \n",
    "\n",
    "thesenames= [os.path.basename(f)  for f in text_files] \n",
    "text_files2 = [os.path.join( os.path.join(os.path.dirname(text_files[1]),'labled'),f) for f in thesenames ]  \n",
    "\n",
    "#os.mkdir\n",
    "#if not (os.path.isdir(os.path.join(os.path.dirname(text_files[1]),'labled'))):\n",
    "# os.mkdir(os.path.join(os.path.dirname(text_files[1]),'labled'))\n",
    "# Print the directory name   \n",
    "#print(text_files2[1]) \n",
    "#for f in text_files:\n",
    "\n",
    "#deeplabcut.create_labeled_video(path_config_file,videofile,save_frames=True) # my_new_list was created in prevouse cell as all videos in the folder \n",
    "deeplabcut.create_labeled_video(path_config_file,[text_files[8]],save_frames=True)\n",
    "  "
   ]
  },
  {
   "cell_type": "code",
   "execution_count": null,
   "metadata": {},
   "outputs": [],
   "source": [
    "print(text_files[4])"
   ]
  }
 ],
 "metadata": {
  "kernelspec": {
   "display_name": "Python 3",
   "language": "python",
   "name": "python3"
  },
  "language_info": {
   "codemirror_mode": {
    "name": "ipython",
    "version": 3
   },
   "file_extension": ".py",
   "mimetype": "text/x-python",
   "name": "python",
   "nbconvert_exporter": "python",
   "pygments_lexer": "ipython3",
   "version": "3.6.6"
  }
 },
 "nbformat": 4,
 "nbformat_minor": 2
}
