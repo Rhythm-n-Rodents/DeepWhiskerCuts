{
 "cells": [
  {
   "cell_type": "markdown",
   "metadata": {},
   "source": [
    "## first step is to make movies and lighttime out of single images "
   ]
  },
  {
   "cell_type": "code",
   "execution_count": 7,
   "metadata": {},
   "outputs": [],
   "source": [
    "from MovieTools import make_movie_and_stimulus_file,save_trial_n,extract_eye_videos\n",
    "import re\n",
    "import deeplabcut\n",
    "import os\n",
    "import shutil"
   ]
  },
  {
   "cell_type": "code",
   "execution_count": 8,
   "metadata": {},
   "outputs": [],
   "source": [
    "data_path = '/data/2022_07_28'"
   ]
  },
  {
   "cell_type": "code",
   "execution_count": 9,
   "metadata": {},
   "outputs": [
    {
     "name": "stdout",
     "output_type": "stream",
     "text": [
      "Select a ROI and then press SPACE or ENTER button!\n",
      "Cancel the selection process by pressing c button!\n",
      "Select a ROI and then press SPACE or ENTER button!\n",
      "Cancel the selection process by pressing c button!\n",
      "Select a ROI and then press SPACE or ENTER button!\n",
      "Cancel the selection process by pressing c button!\n"
     ]
    },
    {
     "name": "stderr",
     "output_type": "stream",
     "text": [
      "processing videos: 100%|██████████| 2/2 [00:00<00:00, 991.56it/s]\n",
      "processing videos: 100%|██████████| 2/2 [00:06<00:00,  3.10s/it]"
     ]
    },
    {
     "name": "stdout",
     "output_type": "stream",
     "text": [
      "['0', '1']\n"
     ]
    },
    {
     "name": "stderr",
     "output_type": "stream",
     "text": [
      "\n"
     ]
    }
   ],
   "source": [
    "make_movie_and_stimulus_file(data_path,parallel=False,ncores = 4)\n",
    "save_trial_n(data_path)"
   ]
  },
  {
   "cell_type": "code",
   "execution_count": 10,
   "metadata": {},
   "outputs": [
    {
     "data": {
      "text/plain": [
       "['/data/2022_07_28/0.avi', '/data/2022_07_28/1.avi']"
      ]
     },
     "execution_count": 10,
     "metadata": {},
     "output_type": "execute_result"
    }
   ],
   "source": [
    "videos = [os.path.join(data_path,f) for f in os.listdir(data_path) if f.endswith('.avi') and not f.endswith('L.avi') and not f.endswith('R.avi') and not f.endswith('videopoints.avi') and not f.endswith('videopoints.avi')]\n",
    "videos"
   ]
  },
  {
   "cell_type": "code",
   "execution_count": 11,
   "metadata": {},
   "outputs": [
    {
     "name": "stdout",
     "output_type": "stream",
     "text": [
      "Using snapshot-271000 for model /data/SideviewLeft_Feb2022-Arash-2022-02-08/dlc-models/iteration-0/SideviewLeft_Feb2022Feb8-trainset95shuffle1\n"
     ]
    },
    {
     "name": "stderr",
     "output_type": "stream",
     "text": [
      "/home/zhw272/.local/lib/python3.8/site-packages/tensorflow/python/keras/engine/base_layer_v1.py:1694: UserWarning: `layer.apply` is deprecated and will be removed in a future version. Please use `layer.__call__` method instead.\n",
      "  warnings.warn('`layer.apply` is deprecated and '\n"
     ]
    },
    {
     "name": "stdout",
     "output_type": "stream",
     "text": [
      "Starting to analyze %  /data/2022_07_28/0.avi\n",
      "Loading  /data/2022_07_28/0.avi\n",
      "Duration of video [s]:  10.0 , recorded with  40.0 fps!\n",
      "Overall # of frames:  400  found with (before cropping) frame dimensions:  800 550\n",
      "Starting to extract posture\n"
     ]
    },
    {
     "name": "stderr",
     "output_type": "stream",
     "text": [
      "100%|██████████| 400/400 [02:30<00:00,  2.65it/s]\n"
     ]
    },
    {
     "name": "stdout",
     "output_type": "stream",
     "text": [
      "Saving results in /data/2022_07_28...\n",
      "Saving csv poses!\n",
      "Starting to analyze %  /data/2022_07_28/1.avi\n",
      "Loading  /data/2022_07_28/1.avi\n",
      "Duration of video [s]:  10.0 , recorded with  40.0 fps!\n",
      "Overall # of frames:  400  found with (before cropping) frame dimensions:  800 550\n",
      "Starting to extract posture\n"
     ]
    },
    {
     "name": "stderr",
     "output_type": "stream",
     "text": [
      "100%|██████████| 400/400 [02:29<00:00,  2.67it/s]"
     ]
    },
    {
     "name": "stdout",
     "output_type": "stream",
     "text": [
      "Saving results in /data/2022_07_28...\n",
      "Saving csv poses!\n",
      "The videos are analyzed. Now your research can truly start! \n",
      " You can create labeled videos with 'create_labeled_video'\n",
      "If the tracking is not satisfactory for some videos, consider expanding the training set. You can use the function 'extract_outlier_frames' to extract a few representative outlier frames.\n"
     ]
    },
    {
     "name": "stderr",
     "output_type": "stream",
     "text": [
      "\n"
     ]
    }
   ],
   "source": [
    "path_config_file ='/data/SideviewLeft_Feb2022-Arash-2022-02-08/config.yaml';\n",
    "videos = [os.path.join(data_path,f) for f in os.listdir(data_path) if re.match(r'[0-9]+.avi', f)]\n",
    "temp1=deeplabcut.analyze_videos(path_config_file,videos,shuffle=1, save_as_csv=True )\n",
    "# temp=deeplabcut.filterpredictions(path_config_file,videos)"
   ]
  },
  {
   "cell_type": "markdown",
   "metadata": {},
   "source": [
    "# creat Eyevideos from DLC tracked data"
   ]
  },
  {
   "cell_type": "code",
   "execution_count": null,
   "metadata": {},
   "outputs": [
    {
     "name": "stderr",
     "output_type": "stream",
     "text": [
      "extracting eye videos: 100%|██████████| 1/1 [00:01<00:00,  1.14s/it]\n"
     ]
    }
   ],
   "source": [
    "extract_eye_videos(data_path,'DLC_resnet50_SideviewLeft_Feb2022Feb8shuffle1_271000')"
   ]
  },
  {
   "cell_type": "markdown",
   "metadata": {},
   "source": [
    "## this step is to load analze eye data"
   ]
  },
  {
   "cell_type": "code",
   "execution_count": 6,
   "metadata": {},
   "outputs": [
    {
     "name": "stdout",
     "output_type": "stream",
     "text": [
      "Filtering with median model /data/2022_07_28/0EYE.avi\n",
      "No unfiltered data file found in /data/2022_07_28 for video 0EYE and scorer DLC_resnet50_EyeAug22Aug3shuffle2_500000.\n"
     ]
    }
   ],
   "source": [
    "path_config_file ='/data/EyeAug22-A-2022-08-03/config.yaml';\n",
    "eye_videos = [os.path.join(data_path,f) for f in os.listdir(data_path) if re.match(r'[0-9]+EYE.avi', f)]\n",
    "temp=deeplabcut.filterpredictions(path_config_file,eye_videos,shuffle=2)"
   ]
  },
  {
   "cell_type": "markdown",
   "metadata": {},
   "source": [
    "# copy tracked files into the server (with mp4 movies)"
   ]
  },
  {
   "cell_type": "code",
   "execution_count": null,
   "metadata": {},
   "outputs": [],
   "source": [
    "destination='//dk-server.dk.ucsd.edu/afassihizakeri/SC_Movies/ar32motor/2021_08_02/Side'\n",
    "shutil.copytree( data_path,destination, ignore=shutil.ignore_patterns('*.avi'),copy_function = shutil.copy)"
   ]
  }
 ],
 "metadata": {
  "kernelspec": {
   "display_name": "Python 3.10.4 64-bit",
   "language": "python",
   "name": "python3"
  },
  "language_info": {
   "codemirror_mode": {
    "name": "ipython",
    "version": 3
   },
   "file_extension": ".py",
   "mimetype": "text/x-python",
   "name": "python",
   "nbconvert_exporter": "python",
   "pygments_lexer": "ipython3",
   "version": "3.10.4"
  },
  "vscode": {
   "interpreter": {
    "hash": "31f2aee4e71d21fbe5cf8b01ff0e069b9275f58929596ceb00d14d90e3e16cd6"
   }
  }
 },
 "nbformat": 4,
 "nbformat_minor": 2
}
