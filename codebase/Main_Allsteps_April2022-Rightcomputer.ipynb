{
 "cells": [
  {
   "cell_type": "markdown",
   "metadata": {},
   "source": [
    "## Define the main folder"
   ]
  },
  {
   "cell_type": "code",
   "execution_count": 1,
   "metadata": {},
   "outputs": [],
   "source": [
    "import main\n",
    "Mainfolder =  '\\\\\\\\dk-server.dk.ucsd.edu\\\\afassihizakeri\\\\Topviewmovies\\\\ar35motor\\\\2022_02_04'\n",
    "# Enter the name of the folder with images folders inside \n",
    "import image_util"
   ]
  },
  {
   "cell_type": "markdown",
   "metadata": {},
   "source": [
    "# make left right movies out of DLC output\n",
    "this step should take the filtered DLC output (Nose and Snout) and create the L and R movies"
   ]
  },
  {
   "cell_type": "code",
   "execution_count": 14,
   "metadata": {
    "scrolled": true
   },
   "outputs": [
    {
     "name": "stdout",
     "output_type": "stream",
     "text": [
      "181\n"
     ]
    },
    {
     "ename": "KeyboardInterrupt",
     "evalue": "",
     "output_type": "error",
     "traceback": [
      "\u001b[1;31m---------------------------------------------------------------------------\u001b[0m",
      "\u001b[1;31mKeyboardInterrupt\u001b[0m                         Traceback (most recent call last)",
      "\u001b[1;32m<ipython-input-14-7b148b215438>\u001b[0m in \u001b[0;36m<module>\u001b[1;34m\u001b[0m\n\u001b[0;32m     14\u001b[0m     \u001b[0mGood_Frames\u001b[0m \u001b[1;33m=\u001b[0m\u001b[0mLR_movie_maker_Main\u001b[0m\u001b[1;33m.\u001b[0m\u001b[0mfindgoodrames\u001b[0m\u001b[1;33m(\u001b[0m\u001b[1;36m0.8\u001b[0m\u001b[1;33m,\u001b[0m\u001b[1;36m50\u001b[0m\u001b[1;33m,\u001b[0m\u001b[1;36m150\u001b[0m\u001b[1;33m,\u001b[0m\u001b[0mdf\u001b[0m\u001b[1;33m,\u001b[0m\u001b[0mDistance\u001b[0m\u001b[1;33m)\u001b[0m\u001b[1;33m\u001b[0m\u001b[1;33m\u001b[0m\u001b[0m\n\u001b[0;32m     15\u001b[0m     \u001b[0mLR_movie_maker_Main\u001b[0m\u001b[1;33m.\u001b[0m\u001b[0mwriteFrameData\u001b[0m\u001b[1;33m(\u001b[0m\u001b[0mMainfolder\u001b[0m\u001b[1;33m,\u001b[0m\u001b[0mtext\u001b[0m\u001b[1;33m,\u001b[0m\u001b[0mGood_Frames\u001b[0m\u001b[1;33m,\u001b[0m\u001b[0mdf\u001b[0m\u001b[1;33m,\u001b[0m\u001b[0mAngle\u001b[0m\u001b[1;33m)\u001b[0m\u001b[1;33m\u001b[0m\u001b[1;33m\u001b[0m\u001b[0m\n\u001b[1;32m---> 16\u001b[1;33m     \u001b[0mLR_movie_maker_Main\u001b[0m\u001b[1;33m.\u001b[0m\u001b[0msavemovies_LR\u001b[0m\u001b[1;33m(\u001b[0m\u001b[0mmovivename\u001b[0m\u001b[1;33m,\u001b[0m\u001b[0mAngle\u001b[0m\u001b[1;33m,\u001b[0m\u001b[0mdf\u001b[0m\u001b[1;33m,\u001b[0m\u001b[0mGood_Frames\u001b[0m\u001b[1;33m,\u001b[0m\u001b[1;34m\".mp4\"\u001b[0m\u001b[1;33m,\u001b[0m\u001b[0mcontrastfactor\u001b[0m\u001b[1;33m)\u001b[0m\u001b[1;33m\u001b[0m\u001b[1;33m\u001b[0m\u001b[0m\n\u001b[0m\u001b[0;32m     17\u001b[0m     \u001b[0melapsed\u001b[0m \u001b[1;33m=\u001b[0m \u001b[0mtime\u001b[0m\u001b[1;33m.\u001b[0m\u001b[0mtime\u001b[0m\u001b[1;33m(\u001b[0m\u001b[1;33m)\u001b[0m \u001b[1;33m-\u001b[0m \u001b[0mt\u001b[0m\u001b[1;33m\u001b[0m\u001b[1;33m\u001b[0m\u001b[0m\n\u001b[0;32m     18\u001b[0m     \u001b[0mvideo_name\u001b[0m \u001b[1;33m=\u001b[0m \u001b[1;33m(\u001b[0m\u001b[0mos\u001b[0m\u001b[1;33m.\u001b[0m\u001b[0mpath\u001b[0m\u001b[1;33m.\u001b[0m\u001b[0mjoin\u001b[0m\u001b[1;33m(\u001b[0m\u001b[0mos\u001b[0m\u001b[1;33m.\u001b[0m\u001b[0mpath\u001b[0m\u001b[1;33m.\u001b[0m\u001b[0mdirname\u001b[0m\u001b[1;33m(\u001b[0m\u001b[0mmovivename\u001b[0m\u001b[1;33m)\u001b[0m\u001b[1;33m,\u001b[0m\u001b[0mtext\u001b[0m\u001b[1;33m.\u001b[0m\u001b[0msplit\u001b[0m\u001b[1;33m(\u001b[0m\u001b[1;34m'DLC'\u001b[0m\u001b[1;33m)\u001b[0m\u001b[1;33m[\u001b[0m\u001b[1;36m0\u001b[0m\u001b[1;33m]\u001b[0m\u001b[1;33m+\u001b[0m\u001b[1;34m\".avi\"\u001b[0m\u001b[1;33m)\u001b[0m\u001b[1;33m)\u001b[0m\u001b[1;33m;\u001b[0m\u001b[1;33m\u001b[0m\u001b[1;33m\u001b[0m\u001b[0m\n",
      "\u001b[1;32mD:\\Dropbox\\Dropbox\\Notebook\\top_view_spliter.py\u001b[0m in \u001b[0;36msavemovies_LR\u001b[1;34m(movivename, Angle, df, Good_Frames, Extention, factor)\u001b[0m\n\u001b[0;32m     40\u001b[0m             \u001b[0mcropped\u001b[0m\u001b[1;33m=\u001b[0m  \u001b[0mcroprotated\u001b[0m\u001b[1;33m(\u001b[0m\u001b[0mrotated\u001b[0m\u001b[1;33m,\u001b[0m\u001b[0mframe\u001b[0m\u001b[1;33m,\u001b[0m\u001b[0mAngle\u001b[0m\u001b[1;33m,\u001b[0m\u001b[0mi\u001b[0m\u001b[1;33m-\u001b[0m\u001b[1;36m1\u001b[0m\u001b[1;33m,\u001b[0m\u001b[0mdf\u001b[0m\u001b[1;33m)\u001b[0m\u001b[1;33m\u001b[0m\u001b[1;33m\u001b[0m\u001b[0m\n\u001b[0;32m     41\u001b[0m             \u001b[0msub_imageR\u001b[0m \u001b[1;33m=\u001b[0m \u001b[0mcropped\u001b[0m\u001b[1;33m[\u001b[0m\u001b[1;36m0\u001b[0m\u001b[1;33m:\u001b[0m\u001b[1;36m700\u001b[0m\u001b[1;33m,\u001b[0m \u001b[1;36m315\u001b[0m\u001b[1;33m+\u001b[0m\u001b[0mfaceshift\u001b[0m\u001b[1;33m:\u001b[0m\u001b[1;36m630\u001b[0m\u001b[1;33m+\u001b[0m\u001b[0mfaceshift\u001b[0m\u001b[1;33m]\u001b[0m\u001b[1;33m\u001b[0m\u001b[1;33m\u001b[0m\u001b[0m\n\u001b[1;32m---> 42\u001b[1;33m             \u001b[0mframe2\u001b[0m \u001b[1;33m=\u001b[0m \u001b[0mcv2\u001b[0m\u001b[1;33m.\u001b[0m\u001b[0mflip\u001b[0m\u001b[1;33m(\u001b[0m\u001b[0msub_imageR\u001b[0m\u001b[1;33m,\u001b[0m \u001b[1;36m1\u001b[0m\u001b[1;33m)\u001b[0m\u001b[1;33m\u001b[0m\u001b[1;33m\u001b[0m\u001b[0m\n\u001b[0m\u001b[0;32m     43\u001b[0m             \u001b[0mframe2\u001b[0m \u001b[1;33m=\u001b[0m \u001b[0mmainsub\u001b[0m\u001b[1;33m.\u001b[0m\u001b[0mMask\u001b[0m\u001b[1;33m(\u001b[0m\u001b[0mframe2\u001b[0m\u001b[1;33m,\u001b[0m\u001b[1;36m60\u001b[0m\u001b[1;33m)\u001b[0m\u001b[1;33m\u001b[0m\u001b[1;33m\u001b[0m\u001b[0m\n\u001b[0;32m     44\u001b[0m             \u001b[0mframe2\u001b[0m \u001b[1;33m=\u001b[0m \u001b[0mImage\u001b[0m\u001b[1;33m.\u001b[0m\u001b[0mfromarray\u001b[0m\u001b[1;33m(\u001b[0m\u001b[0mframe2\u001b[0m\u001b[1;33m)\u001b[0m\u001b[1;33m\u001b[0m\u001b[1;33m\u001b[0m\u001b[0m\n",
      "\u001b[1;31mKeyboardInterrupt\u001b[0m: "
     ]
    }
   ],
   "source": [
    "import time\n",
    "import numpy as np\n",
    "import os\n",
    "import top_view_spliter\n",
    "contrastfactor=1.05\n",
    "text_files = [os.path.join(Mainfolder,f) for f in os.listdir(Mainfolder) if f.endswith('.mp4') and not f.endswith('L.avi') and not f.endswith('R.avi') and not f.endswith('videopoints.avi') and not f.endswith('videopoints.avi')]\n",
    "print(len(text_files))\n",
    "for trial in range(len(text_files)):\n",
    "    t =time.time()\n",
    "    Tag = 'Topview'\n",
    "    df, Angle,Distance,movivename=top_view_spliter.readDLCfiles(Mainfolder,Tag,trial)\n",
    "    text = os.path.basename(movivename);\n",
    "    #%matplotlib notebook\n",
    "    Good_Frames =top_view_spliter.find_good_frames(0.7,5,200,df,Distance)\n",
    "    top_view_spliter.writeFrameData(Mainfolder,text,Good_Frames,df,Angle)\n",
    "    top_view_spliter.savemovies_LR(movivename,Angle,df,Good_Frames,\".mp4\",contrastfactor) \n",
    "    elapsed = time.time() - t \n",
    "    video_name = (os.path.join(os.path.dirname(movivename),text.split('DLC')[0]+\".avi\"));\n",
    "    print('Trial=',video_name,'Elapsed',elapsed)"
   ]
  },
  {
   "cell_type": "code",
   "execution_count": 15,
   "metadata": {},
   "outputs": [
    {
     "name": "stdout",
     "output_type": "stream",
     "text": [
      "Trial= F:\\videos\\ar38motor\\2022_02_08\\0video.avi Elapsed 48.34443259239197\n"
     ]
    }
   ],
   "source": [
    "import time\n",
    "import numpy as np\n",
    "import os\n",
    "import top_view_spliter\n",
    "contrastfactor=1.05\n",
    "\n",
    "x = 'F:\\\\videos\\\\ar38motor\\\\2022_02_08\\\\0video.mp4'\n",
    "for thistrial in range(len(text_files)):\n",
    "   if x in text_files[thistrial]:\n",
    "    trial = (thistrial)\n",
    "t =time.time()\n",
    "Tag = 'Topview'\n",
    "df, Angle,Distance,movivename=top_view_spliter.readDLCfiles(Mainfolder,Tag,trial)\n",
    "text = os.path.basename(movivename);\n",
    "#%matplotlib notebook\n",
    "Good_Frames =top_view_spliter.find_good_frames(0.8,50,150,df,Distance)\n",
    "top_view_spliter.writeFrameData(Mainfolder,text,Good_Frames,df,Angle)\n",
    "top_view_spliter.savemovies_LR(movivename,Angle,df,Good_Frames,\".mp4\",contrastfactor) \n",
    "elapsed = time.time() - t \n",
    "video_name = (os.path.join(os.path.dirname(movivename),text.split('DLC')[0]+\".avi\"));\n",
    "print('Trial=',video_name,'Elapsed',elapsed)"
   ]
  },
  {
   "cell_type": "markdown",
   "metadata": {},
   "source": [
    "# now apply DLC already trained data on whiskers "
   ]
  },
  {
   "cell_type": "code",
   "execution_count": null,
   "metadata": {},
   "outputs": [
    {
     "name": "stdout",
     "output_type": "stream",
     "text": [
      "Using snapshot-632000 for model F:\\videos\\Ar30motor\\2021_08_03_184113\\ar30shiwker-Arash-2021-09-13\\dlc-models\\iteration-0\\ar30shiwkerSep13-trainset95shuffle1\n",
      "Initializing ResNet\n"
     ]
    }
   ],
   "source": [
    "#Mainfolder = 'F:\\\\videos\\\\ar34motor\\\\2022_01_27'\n",
    "import os\n",
    "import image_util\n",
    "path_config_file = 'F:\\\\videos\\\\Ar30motor\\\\2021_08_03_184113\\\\ar30shiwker-Arash-2021-09-13\\\\config.yaml'\n",
    "path_config_file = 'R:\\\\afassihizakeri\\\\DLC\\\\WhiskerMuscimol-xx-2022-10-10\\\\config.yaml'\n",
    "\n",
    "XfilesL = [os.path.join(Mainfolder,f) for f in os.listdir(Mainfolder) if f.startswith('Mask')  ] # find all files with R.avi as file name\n",
    "XfilesR = [os.path.join(Mainfolder,f) for f in os.listdir(Mainfolder) if f.startswith('Mirror')  ] # find all files with R.avi as file name\n",
    "#print(XfilesL)\n",
    "scorernameL=deeplabcut.analyze_videos(path_config_file,XfilesL,shuffle=1, save_as_csv=True)\n",
    "#print(scorernameL)\n",
    "deeplabcut.filterpredictions(path_config_file,XfilesL,shuffle=1)\n",
    "scorernameR=deeplabcut.analyze_videos(path_config_file,XfilesR,shuffle=1, save_as_csv=True)\n",
    "#print(scorernameR)\n",
    "deeplabcut.filterpredictions(path_config_file,XfilesR,shuffle=1)"
   ]
  },
  {
   "cell_type": "markdown",
   "metadata": {},
   "source": [
    "# copy tracked files into the server (with mp4 movies)"
   ]
  },
  {
   "cell_type": "code",
   "execution_count": null,
   "metadata": {},
   "outputs": [],
   "source": [
    "Mainfolder = 'F:\\\\videos\\\\ar32motor\\\\2021_08_02'\n",
    "destination = ''\n",
    "destination='//dk-server.dk.ucsd.edu/afassihizakeri/SC_Movies/ar32motor/2021_08_02/Side'\n",
    "import shutil\n",
    "shutil.copytree( Mainfolder,destination, ignore=shutil.ignore_patterns('*.avi'),copy_function = shutil.copy)\n",
    "#copytree(Mainfolder, destination, ignore=ignore_patterns('*.avi'))\n"
   ]
  },
  {
   "cell_type": "markdown",
   "metadata": {},
   "source": [
    "# save left right for a give trial"
   ]
  },
  {
   "cell_type": "code",
   "execution_count": null,
   "metadata": {},
   "outputs": [],
   "source": [
    "import time\n",
    "import numpy as np\n",
    "import os\n",
    "import top_view_spliter\n",
    "text_files = [os.path.join(Mainfolder,f) for f in os.listdir(Mainfolder) if f.endswith('video.mp4') and not f.endswith('L.avi') and not f.endswith('R.avi') and not f.endswith('videopoints.avi') and not f.endswith('videopoints.avi')]\n",
    "Trialname='100video.mp4'\n",
    "trial = [trial for trial in range(len(text_files)) if text_files[trial].endswith(Trialname)]\n",
    "trial = int(trial[0])\n",
    "t =time.time()\n",
    "Tag = 'Topview'\n",
    "df, Angle,Distance,movivename=top_view_spliter.readDLCfiles(Mainfolder,Tag,trial)\n",
    "text = os.path.basename(movivename);\n",
    "#%matplotlib notebook\n",
    "Good_Frames =top_view_spliter.find_good_frames(0.8,50,150,df,Distance)\n",
    "top_view_spliter.writeFrameData(Mainfolder,text,Good_Frames,df,Angle)\n",
    "top_view_spliter.savemovies_LR(movivename,Angle,df,Good_Frames,\".mp4\") \n",
    "#plt.plot(Angle[Good_Frames==1] ,'r--')\n",
    "#plt.title(os.path.basename(movivename))\n",
    "elapsed = time.time() - t \n",
    "video_name = (os.path.join(os.path.dirname(movivename),text.split('DLC')[0]+\".avi\"));\n",
    "print('Trial=',video_name,'Elapsed',elapsed)"
   ]
  }
 ],
 "metadata": {
  "kernelspec": {
   "display_name": "Python 3.8.10 64-bit",
   "language": "python",
   "name": "python3"
  },
  "language_info": {
   "codemirror_mode": {
    "name": "ipython",
    "version": 3
   },
   "file_extension": ".py",
   "mimetype": "text/x-python",
   "name": "python",
   "nbconvert_exporter": "python",
   "pygments_lexer": "ipython3",
   "version": "3.8.10"
  },
  "vscode": {
   "interpreter": {
    "hash": "31f2aee4e71d21fbe5cf8b01ff0e069b9275f58929596ceb00d14d90e3e16cd6"
   }
  }
 },
 "nbformat": 4,
 "nbformat_minor": 2
}
