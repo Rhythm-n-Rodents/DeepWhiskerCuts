{
 "cells": [
  {
   "cell_type": "markdown",
   "metadata": {},
   "source": [
    "## Define the main folder"
   ]
  },
  {
   "cell_type": "code",
   "execution_count": 1,
   "metadata": {},
   "outputs": [],
   "source": [
    "import main\n",
    "Mainfolder =  '\\\\\\\\dk-server.dk.ucsd.edu\\\\afassihizakeri\\\\Topviewmovies\\\\ar35motor\\\\2022_02_04'\n",
    "# Enter the name of the folder with images folders inside \n",
    "import image_util"
   ]
  },
  {
   "cell_type": "markdown",
   "metadata": {},
   "source": [
    "# make movies and save trialnumber"
   ]
  },
  {
   "cell_type": "code",
   "execution_count": null,
   "metadata": {
    "scrolled": true
   },
   "outputs": [
    {
     "name": "stdout",
     "output_type": "stream",
     "text": [
      "0\n"
     ]
    }
   ],
   "source": [
    "main.makemovieandLightfile(Mainfolder)\n",
    "main.save_trial_n(Mainfolder)\n"
   ]
  },
  {
   "cell_type": "markdown",
   "metadata": {},
   "source": [
    "# convert individual trials to MP4"
   ]
  },
  {
   "cell_type": "code",
   "execution_count": null,
   "metadata": {},
   "outputs": [],
   "source": [
    "\n",
    "\n",
    "main.convertvideotoMP4(mainfolder,Trial)"
   ]
  },
  {
   "cell_type": "markdown",
   "metadata": {},
   "source": [
    "# DLC on nose snout\n",
    "###### this step is to load deeplabcut and run already trained algorithm on new movies to track the nose and snout  (beads)"
   ]
  },
  {
   "cell_type": "code",
   "execution_count": 2,
   "metadata": {},
   "outputs": [
    {
     "name": "stderr",
     "output_type": "stream",
     "text": [
      "C:\\Users\\dklab\\anaconda3\\envs\\DEEPLABCUT\\lib\\site-packages\\statsmodels\\compat\\pandas.py:65: FutureWarning: pandas.Int64Index is deprecated and will be removed from pandas in a future version. Use pandas.Index with the appropriate dtype instead.\n",
      "  from pandas import Int64Index as NumericIndex\n"
     ]
    }
   ],
   "source": [
    "import deeplabcut\n",
    "## https://github.com/AlexEMG/DeepLabCut"
   ]
  },
  {
   "cell_type": "code",
   "execution_count": 5,
   "metadata": {
    "scrolled": true
   },
   "outputs": [
    {
     "name": "stdout",
     "output_type": "stream",
     "text": [
      "\\\\dk-server.dk.ucsd.edu\\afassihizakeri\\Topviewmovies\\ar35motor\\2022_02_04\\163video.mp4\n",
      "Using snapshot-110000 for model \\\\dk-server.dk.ucsd.edu\\afassihizakeri\\DLC\\Topview3435-Arash-2021-07-28\\dlc-models\\iteration-0\\Topview3435Jul28-trainset95shuffle1\n"
     ]
    },
    {
     "name": "stderr",
     "output_type": "stream",
     "text": [
      "C:\\Users\\dklab\\anaconda3\\envs\\DEEPLABCUT\\lib\\site-packages\\tensorflow\\python\\keras\\engine\\base_layer_v1.py:1694: UserWarning: `layer.apply` is deprecated and will be removed in a future version. Please use `layer.__call__` method instead.\n",
      "  warnings.warn('`layer.apply` is deprecated and '\n"
     ]
    },
    {
     "name": "stdout",
     "output_type": "stream",
     "text": [
      "Starting to analyze %  \\\\dk-server.dk.ucsd.edu\\afassihizakeri\\Topviewmovies\\ar35motor\\2022_02_04\\16video.mp4\n",
      "Loading  \\\\dk-server.dk.ucsd.edu\\afassihizakeri\\Topviewmovies\\ar35motor\\2022_02_04\\16video.mp4\n",
      "Duration of video [s]:  12.5 , recorded with  40.0 fps!\n",
      "Overall # of frames:  500  found with (before cropping) frame dimensions:  1440 484\n",
      "Starting to extract posture\n"
     ]
    },
    {
     "name": "stderr",
     "output_type": "stream",
     "text": [
      "510it [05:56,  1.43it/s]                                                                                               \n"
     ]
    },
    {
     "name": "stdout",
     "output_type": "stream",
     "text": [
      "Saving results in \\\\dk-server.dk.ucsd.edu\\afassihizakeri\\Topviewmovies\\ar35motor\\2022_02_04...\n",
      "Saving csv poses!\n",
      "Starting to analyze %  \\\\dk-server.dk.ucsd.edu\\afassihizakeri\\Topviewmovies\\ar35motor\\2022_02_04\\261video.mp4\n",
      "Loading  \\\\dk-server.dk.ucsd.edu\\afassihizakeri\\Topviewmovies\\ar35motor\\2022_02_04\\261video.mp4\n",
      "Duration of video [s]:  12.5 , recorded with  40.0 fps!\n",
      "Overall # of frames:  500  found with (before cropping) frame dimensions:  1440 484\n",
      "Starting to extract posture\n"
     ]
    },
    {
     "name": "stderr",
     "output_type": "stream",
     "text": [
      "510it [05:55,  1.44it/s]                                                                                               \n"
     ]
    },
    {
     "name": "stdout",
     "output_type": "stream",
     "text": [
      "Saving results in \\\\dk-server.dk.ucsd.edu\\afassihizakeri\\Topviewmovies\\ar35motor\\2022_02_04...\n",
      "Saving csv poses!\n",
      "Starting to analyze %  \\\\dk-server.dk.ucsd.edu\\afassihizakeri\\Topviewmovies\\ar35motor\\2022_02_04\\19video.mp4\n",
      "Loading  \\\\dk-server.dk.ucsd.edu\\afassihizakeri\\Topviewmovies\\ar35motor\\2022_02_04\\19video.mp4\n",
      "Duration of video [s]:  12.5 , recorded with  40.0 fps!\n",
      "Overall # of frames:  500  found with (before cropping) frame dimensions:  1440 484\n",
      "Starting to extract posture\n"
     ]
    },
    {
     "name": "stderr",
     "output_type": "stream",
     "text": [
      "510it [05:53,  1.44it/s]                                                                                               \n"
     ]
    },
    {
     "name": "stdout",
     "output_type": "stream",
     "text": [
      "Saving results in \\\\dk-server.dk.ucsd.edu\\afassihizakeri\\Topviewmovies\\ar35motor\\2022_02_04...\n",
      "Saving csv poses!\n",
      "Starting to analyze %  \\\\dk-server.dk.ucsd.edu\\afassihizakeri\\Topviewmovies\\ar35motor\\2022_02_04\\163video.mp4\n",
      "Loading  \\\\dk-server.dk.ucsd.edu\\afassihizakeri\\Topviewmovies\\ar35motor\\2022_02_04\\163video.mp4\n",
      "Duration of video [s]:  12.5 , recorded with  40.0 fps!\n",
      "Overall # of frames:  500  found with (before cropping) frame dimensions:  1440 484\n",
      "Starting to extract posture\n"
     ]
    },
    {
     "name": "stderr",
     "output_type": "stream",
     "text": [
      "510it [05:54,  1.44it/s]                                                                                               \n"
     ]
    },
    {
     "name": "stdout",
     "output_type": "stream",
     "text": [
      "Saving results in \\\\dk-server.dk.ucsd.edu\\afassihizakeri\\Topviewmovies\\ar35motor\\2022_02_04...\n",
      "Saving csv poses!\n",
      "Starting to analyze %  \\\\dk-server.dk.ucsd.edu\\afassihizakeri\\Topviewmovies\\ar35motor\\2022_02_04\\287video.mp4\n",
      "Loading  \\\\dk-server.dk.ucsd.edu\\afassihizakeri\\Topviewmovies\\ar35motor\\2022_02_04\\287video.mp4\n",
      "Duration of video [s]:  12.5 , recorded with  40.0 fps!\n",
      "Overall # of frames:  500  found with (before cropping) frame dimensions:  1440 484\n",
      "Starting to extract posture\n"
     ]
    },
    {
     "name": "stderr",
     "output_type": "stream",
     "text": [
      "510it [05:54,  1.44it/s]                                                                                               \n"
     ]
    },
    {
     "name": "stdout",
     "output_type": "stream",
     "text": [
      "Saving results in \\\\dk-server.dk.ucsd.edu\\afassihizakeri\\Topviewmovies\\ar35motor\\2022_02_04...\n",
      "Saving csv poses!\n",
      "Starting to analyze %  \\\\dk-server.dk.ucsd.edu\\afassihizakeri\\Topviewmovies\\ar35motor\\2022_02_04\\288video.mp4\n",
      "Loading  \\\\dk-server.dk.ucsd.edu\\afassihizakeri\\Topviewmovies\\ar35motor\\2022_02_04\\288video.mp4\n",
      "Duration of video [s]:  12.5 , recorded with  40.0 fps!\n",
      "Overall # of frames:  500  found with (before cropping) frame dimensions:  1440 484\n",
      "Starting to extract posture\n"
     ]
    },
    {
     "name": "stderr",
     "output_type": "stream",
     "text": [
      "510it [05:54,  1.44it/s]                                                                                               \n"
     ]
    },
    {
     "name": "stdout",
     "output_type": "stream",
     "text": [
      "Saving results in \\\\dk-server.dk.ucsd.edu\\afassihizakeri\\Topviewmovies\\ar35motor\\2022_02_04...\n",
      "Saving csv poses!\n",
      "Starting to analyze %  \\\\dk-server.dk.ucsd.edu\\afassihizakeri\\Topviewmovies\\ar35motor\\2022_02_04\\185video.mp4\n",
      "Loading  \\\\dk-server.dk.ucsd.edu\\afassihizakeri\\Topviewmovies\\ar35motor\\2022_02_04\\185video.mp4\n",
      "Duration of video [s]:  12.5 , recorded with  40.0 fps!\n",
      "Overall # of frames:  500  found with (before cropping) frame dimensions:  1440 484\n",
      "Starting to extract posture\n"
     ]
    },
    {
     "name": "stderr",
     "output_type": "stream",
     "text": [
      "510it [05:53,  1.44it/s]                                                                                               \n"
     ]
    },
    {
     "name": "stdout",
     "output_type": "stream",
     "text": [
      "Saving results in \\\\dk-server.dk.ucsd.edu\\afassihizakeri\\Topviewmovies\\ar35motor\\2022_02_04...\n",
      "Saving csv poses!\n",
      "Starting to analyze %  \\\\dk-server.dk.ucsd.edu\\afassihizakeri\\Topviewmovies\\ar35motor\\2022_02_04\\305video.mp4\n",
      "Loading  \\\\dk-server.dk.ucsd.edu\\afassihizakeri\\Topviewmovies\\ar35motor\\2022_02_04\\305video.mp4\n",
      "Duration of video [s]:  12.5 , recorded with  40.0 fps!\n",
      "Overall # of frames:  500  found with (before cropping) frame dimensions:  1440 484\n",
      "Starting to extract posture\n"
     ]
    },
    {
     "name": "stderr",
     "output_type": "stream",
     "text": [
      "510it [05:52,  1.45it/s]                                                                                               \n"
     ]
    },
    {
     "name": "stdout",
     "output_type": "stream",
     "text": [
      "Saving results in \\\\dk-server.dk.ucsd.edu\\afassihizakeri\\Topviewmovies\\ar35motor\\2022_02_04...\n",
      "Saving csv poses!\n",
      "Starting to analyze %  \\\\dk-server.dk.ucsd.edu\\afassihizakeri\\Topviewmovies\\ar35motor\\2022_02_04\\41video.mp4\n",
      "Loading  \\\\dk-server.dk.ucsd.edu\\afassihizakeri\\Topviewmovies\\ar35motor\\2022_02_04\\41video.mp4\n",
      "Duration of video [s]:  12.5 , recorded with  40.0 fps!\n",
      "Overall # of frames:  500  found with (before cropping) frame dimensions:  1440 484\n",
      "Starting to extract posture\n"
     ]
    },
    {
     "name": "stderr",
     "output_type": "stream",
     "text": [
      "510it [05:51,  1.45it/s]                                                                                               \n"
     ]
    },
    {
     "name": "stdout",
     "output_type": "stream",
     "text": [
      "Saving results in \\\\dk-server.dk.ucsd.edu\\afassihizakeri\\Topviewmovies\\ar35motor\\2022_02_04...\n",
      "Saving csv poses!\n",
      "Starting to analyze %  \\\\dk-server.dk.ucsd.edu\\afassihizakeri\\Topviewmovies\\ar35motor\\2022_02_04\\236video.mp4\n",
      "Loading  \\\\dk-server.dk.ucsd.edu\\afassihizakeri\\Topviewmovies\\ar35motor\\2022_02_04\\236video.mp4\n",
      "Duration of video [s]:  12.5 , recorded with  40.0 fps!\n",
      "Overall # of frames:  500  found with (before cropping) frame dimensions:  1440 484\n",
      "Starting to extract posture\n"
     ]
    },
    {
     "name": "stderr",
     "output_type": "stream",
     "text": [
      "510it [05:53,  1.44it/s]                                                                                               \n"
     ]
    },
    {
     "name": "stdout",
     "output_type": "stream",
     "text": [
      "Saving results in \\\\dk-server.dk.ucsd.edu\\afassihizakeri\\Topviewmovies\\ar35motor\\2022_02_04...\n",
      "Saving csv poses!\n",
      "Starting to analyze %  \\\\dk-server.dk.ucsd.edu\\afassihizakeri\\Topviewmovies\\ar35motor\\2022_02_04\\134video.mp4\n",
      "Loading  \\\\dk-server.dk.ucsd.edu\\afassihizakeri\\Topviewmovies\\ar35motor\\2022_02_04\\134video.mp4\n",
      "Duration of video [s]:  12.5 , recorded with  40.0 fps!\n",
      "Overall # of frames:  500  found with (before cropping) frame dimensions:  1440 484\n",
      "Starting to extract posture\n"
     ]
    },
    {
     "name": "stderr",
     "output_type": "stream",
     "text": [
      "510it [05:52,  1.45it/s]                                                                                               \n"
     ]
    },
    {
     "name": "stdout",
     "output_type": "stream",
     "text": [
      "Saving results in \\\\dk-server.dk.ucsd.edu\\afassihizakeri\\Topviewmovies\\ar35motor\\2022_02_04...\n",
      "Saving csv poses!\n",
      "Starting to analyze %  \\\\dk-server.dk.ucsd.edu\\afassihizakeri\\Topviewmovies\\ar35motor\\2022_02_04\\239video.mp4\n",
      "Loading  \\\\dk-server.dk.ucsd.edu\\afassihizakeri\\Topviewmovies\\ar35motor\\2022_02_04\\239video.mp4\n",
      "Duration of video [s]:  12.5 , recorded with  40.0 fps!\n",
      "Overall # of frames:  500  found with (before cropping) frame dimensions:  1440 484\n",
      "Starting to extract posture\n"
     ]
    },
    {
     "name": "stderr",
     "output_type": "stream",
     "text": [
      "510it [05:53,  1.44it/s]                                                                                               \n"
     ]
    },
    {
     "name": "stdout",
     "output_type": "stream",
     "text": [
      "Saving results in \\\\dk-server.dk.ucsd.edu\\afassihizakeri\\Topviewmovies\\ar35motor\\2022_02_04...\n",
      "Saving csv poses!\n",
      "Starting to analyze %  \\\\dk-server.dk.ucsd.edu\\afassihizakeri\\Topviewmovies\\ar35motor\\2022_02_04\\173video.mp4\n",
      "Loading  \\\\dk-server.dk.ucsd.edu\\afassihizakeri\\Topviewmovies\\ar35motor\\2022_02_04\\173video.mp4\n",
      "Duration of video [s]:  12.5 , recorded with  40.0 fps!\n",
      "Overall # of frames:  500  found with (before cropping) frame dimensions:  1440 484\n",
      "Starting to extract posture\n"
     ]
    },
    {
     "name": "stderr",
     "output_type": "stream",
     "text": [
      "510it [05:53,  1.44it/s]                                                                                               \n"
     ]
    },
    {
     "name": "stdout",
     "output_type": "stream",
     "text": [
      "Saving results in \\\\dk-server.dk.ucsd.edu\\afassihizakeri\\Topviewmovies\\ar35motor\\2022_02_04...\n",
      "Saving csv poses!\n",
      "Starting to analyze %  \\\\dk-server.dk.ucsd.edu\\afassihizakeri\\Topviewmovies\\ar35motor\\2022_02_04\\271video.mp4\n",
      "Loading  \\\\dk-server.dk.ucsd.edu\\afassihizakeri\\Topviewmovies\\ar35motor\\2022_02_04\\271video.mp4\n",
      "Duration of video [s]:  12.5 , recorded with  40.0 fps!\n",
      "Overall # of frames:  500  found with (before cropping) frame dimensions:  1440 484\n",
      "Starting to extract posture\n"
     ]
    },
    {
     "name": "stderr",
     "output_type": "stream",
     "text": [
      "510it [05:52,  1.45it/s]                                                                                               \n"
     ]
    },
    {
     "name": "stdout",
     "output_type": "stream",
     "text": [
      "Saving results in \\\\dk-server.dk.ucsd.edu\\afassihizakeri\\Topviewmovies\\ar35motor\\2022_02_04...\n",
      "Saving csv poses!\n",
      "Starting to analyze %  \\\\dk-server.dk.ucsd.edu\\afassihizakeri\\Topviewmovies\\ar35motor\\2022_02_04\\298video.mp4\n",
      "Loading  \\\\dk-server.dk.ucsd.edu\\afassihizakeri\\Topviewmovies\\ar35motor\\2022_02_04\\298video.mp4\n",
      "Duration of video [s]:  12.5 , recorded with  40.0 fps!\n",
      "Overall # of frames:  500  found with (before cropping) frame dimensions:  1440 484\n",
      "Starting to extract posture\n"
     ]
    },
    {
     "name": "stderr",
     "output_type": "stream",
     "text": [
      "510it [05:52,  1.45it/s]                                                                                               \n"
     ]
    },
    {
     "name": "stdout",
     "output_type": "stream",
     "text": [
      "Saving results in \\\\dk-server.dk.ucsd.edu\\afassihizakeri\\Topviewmovies\\ar35motor\\2022_02_04...\n",
      "Saving csv poses!\n",
      "Starting to analyze %  \\\\dk-server.dk.ucsd.edu\\afassihizakeri\\Topviewmovies\\ar35motor\\2022_02_04\\195video.mp4\n",
      "Loading  \\\\dk-server.dk.ucsd.edu\\afassihizakeri\\Topviewmovies\\ar35motor\\2022_02_04\\195video.mp4\n",
      "Duration of video [s]:  12.5 , recorded with  40.0 fps!\n",
      "Overall # of frames:  500  found with (before cropping) frame dimensions:  1440 484\n",
      "Starting to extract posture\n"
     ]
    },
    {
     "name": "stderr",
     "output_type": "stream",
     "text": [
      "510it [05:52,  1.45it/s]                                                                                               \n"
     ]
    },
    {
     "name": "stdout",
     "output_type": "stream",
     "text": [
      "Saving results in \\\\dk-server.dk.ucsd.edu\\afassihizakeri\\Topviewmovies\\ar35motor\\2022_02_04...\n",
      "Saving csv poses!\n",
      "Starting to analyze %  \\\\dk-server.dk.ucsd.edu\\afassihizakeri\\Topviewmovies\\ar35motor\\2022_02_04\\297video.mp4\n",
      "Loading  \\\\dk-server.dk.ucsd.edu\\afassihizakeri\\Topviewmovies\\ar35motor\\2022_02_04\\297video.mp4\n",
      "Duration of video [s]:  12.5 , recorded with  40.0 fps!\n",
      "Overall # of frames:  500  found with (before cropping) frame dimensions:  1440 484\n",
      "Starting to extract posture\n"
     ]
    },
    {
     "name": "stderr",
     "output_type": "stream",
     "text": [
      "510it [05:52,  1.45it/s]                                                                                               \n"
     ]
    },
    {
     "name": "stdout",
     "output_type": "stream",
     "text": [
      "Saving results in \\\\dk-server.dk.ucsd.edu\\afassihizakeri\\Topviewmovies\\ar35motor\\2022_02_04...\n",
      "Saving csv poses!\n",
      "Starting to analyze %  \\\\dk-server.dk.ucsd.edu\\afassihizakeri\\Topviewmovies\\ar35motor\\2022_02_04\\9video.mp4\n",
      "Loading  \\\\dk-server.dk.ucsd.edu\\afassihizakeri\\Topviewmovies\\ar35motor\\2022_02_04\\9video.mp4\n",
      "Duration of video [s]:  12.5 , recorded with  40.0 fps!\n",
      "Overall # of frames:  500  found with (before cropping) frame dimensions:  1440 484\n",
      "Starting to extract posture\n"
     ]
    },
    {
     "name": "stderr",
     "output_type": "stream",
     "text": [
      "510it [05:51,  1.45it/s]                                                                                               \n"
     ]
    },
    {
     "name": "stdout",
     "output_type": "stream",
     "text": [
      "Saving results in \\\\dk-server.dk.ucsd.edu\\afassihizakeri\\Topviewmovies\\ar35motor\\2022_02_04...\n",
      "Saving csv poses!\n",
      "Starting to analyze %  \\\\dk-server.dk.ucsd.edu\\afassihizakeri\\Topviewmovies\\ar35motor\\2022_02_04\\6video.mp4\n",
      "Loading  \\\\dk-server.dk.ucsd.edu\\afassihizakeri\\Topviewmovies\\ar35motor\\2022_02_04\\6video.mp4\n",
      "Duration of video [s]:  12.5 , recorded with  40.0 fps!\n",
      "Overall # of frames:  500  found with (before cropping) frame dimensions:  1440 484\n",
      "Starting to extract posture\n"
     ]
    },
    {
     "name": "stderr",
     "output_type": "stream",
     "text": [
      "510it [05:52,  1.45it/s]                                                                                               \n"
     ]
    },
    {
     "name": "stdout",
     "output_type": "stream",
     "text": [
      "Saving results in \\\\dk-server.dk.ucsd.edu\\afassihizakeri\\Topviewmovies\\ar35motor\\2022_02_04...\n",
      "Saving csv poses!\n",
      "Starting to analyze %  \\\\dk-server.dk.ucsd.edu\\afassihizakeri\\Topviewmovies\\ar35motor\\2022_02_04\\124video.mp4\n",
      "Loading  \\\\dk-server.dk.ucsd.edu\\afassihizakeri\\Topviewmovies\\ar35motor\\2022_02_04\\124video.mp4\n",
      "Duration of video [s]:  12.5 , recorded with  40.0 fps!\n",
      "Overall # of frames:  500  found with (before cropping) frame dimensions:  1440 484\n",
      "Starting to extract posture\n"
     ]
    },
    {
     "name": "stderr",
     "output_type": "stream",
     "text": [
      "510it [05:53,  1.44it/s]                                                                                               \n"
     ]
    },
    {
     "name": "stdout",
     "output_type": "stream",
     "text": [
      "Saving results in \\\\dk-server.dk.ucsd.edu\\afassihizakeri\\Topviewmovies\\ar35motor\\2022_02_04...\n",
      "Saving csv poses!\n",
      "Starting to analyze %  \\\\dk-server.dk.ucsd.edu\\afassihizakeri\\Topviewmovies\\ar35motor\\2022_02_04\\229video.mp4\n",
      "Loading  \\\\dk-server.dk.ucsd.edu\\afassihizakeri\\Topviewmovies\\ar35motor\\2022_02_04\\229video.mp4\n",
      "Duration of video [s]:  12.5 , recorded with  40.0 fps!\n",
      "Overall # of frames:  500  found with (before cropping) frame dimensions:  1440 484\n",
      "Starting to extract posture\n"
     ]
    },
    {
     "name": "stderr",
     "output_type": "stream",
     "text": [
      "510it [05:52,  1.45it/s]                                                                                               \n"
     ]
    },
    {
     "name": "stdout",
     "output_type": "stream",
     "text": [
      "Saving results in \\\\dk-server.dk.ucsd.edu\\afassihizakeri\\Topviewmovies\\ar35motor\\2022_02_04...\n",
      "Saving csv poses!\n",
      "Starting to analyze %  \\\\dk-server.dk.ucsd.edu\\afassihizakeri\\Topviewmovies\\ar35motor\\2022_02_04\\226video.mp4\n",
      "Loading  \\\\dk-server.dk.ucsd.edu\\afassihizakeri\\Topviewmovies\\ar35motor\\2022_02_04\\226video.mp4\n",
      "Duration of video [s]:  12.5 , recorded with  40.0 fps!\n",
      "Overall # of frames:  500  found with (before cropping) frame dimensions:  1440 484\n",
      "Starting to extract posture\n"
     ]
    },
    {
     "name": "stderr",
     "output_type": "stream",
     "text": [
      "510it [05:52,  1.45it/s]                                                                                               \n"
     ]
    },
    {
     "name": "stdout",
     "output_type": "stream",
     "text": [
      "Saving results in \\\\dk-server.dk.ucsd.edu\\afassihizakeri\\Topviewmovies\\ar35motor\\2022_02_04...\n",
      "Saving csv poses!\n",
      "Starting to analyze %  \\\\dk-server.dk.ucsd.edu\\afassihizakeri\\Topviewmovies\\ar35motor\\2022_02_04\\51video.mp4\n",
      "Loading  \\\\dk-server.dk.ucsd.edu\\afassihizakeri\\Topviewmovies\\ar35motor\\2022_02_04\\51video.mp4\n",
      "Duration of video [s]:  12.5 , recorded with  40.0 fps!\n",
      "Overall # of frames:  500  found with (before cropping) frame dimensions:  1440 484\n",
      "Starting to extract posture\n"
     ]
    },
    {
     "name": "stderr",
     "output_type": "stream",
     "text": [
      "510it [05:52,  1.45it/s]                                                                                               \n"
     ]
    },
    {
     "name": "stdout",
     "output_type": "stream",
     "text": [
      "Saving results in \\\\dk-server.dk.ucsd.edu\\afassihizakeri\\Topviewmovies\\ar35motor\\2022_02_04...\n",
      "Saving csv poses!\n",
      "Starting to analyze %  \\\\dk-server.dk.ucsd.edu\\afassihizakeri\\Topviewmovies\\ar35motor\\2022_02_04\\39video.mp4\n",
      "Loading  \\\\dk-server.dk.ucsd.edu\\afassihizakeri\\Topviewmovies\\ar35motor\\2022_02_04\\39video.mp4\n",
      "Duration of video [s]:  12.5 , recorded with  40.0 fps!\n",
      "Overall # of frames:  500  found with (before cropping) frame dimensions:  1440 484\n",
      "Starting to extract posture\n"
     ]
    },
    {
     "name": "stderr",
     "output_type": "stream",
     "text": [
      "510it [05:53,  1.44it/s]                                                                                               \n"
     ]
    },
    {
     "name": "stdout",
     "output_type": "stream",
     "text": [
      "Saving results in \\\\dk-server.dk.ucsd.edu\\afassihizakeri\\Topviewmovies\\ar35motor\\2022_02_04...\n",
      "Saving csv poses!\n",
      "Starting to analyze %  \\\\dk-server.dk.ucsd.edu\\afassihizakeri\\Topviewmovies\\ar35motor\\2022_02_04\\143video.mp4\n",
      "Loading  \\\\dk-server.dk.ucsd.edu\\afassihizakeri\\Topviewmovies\\ar35motor\\2022_02_04\\143video.mp4\n",
      "Duration of video [s]:  12.5 , recorded with  40.0 fps!\n",
      "Overall # of frames:  500  found with (before cropping) frame dimensions:  1440 484\n",
      "Starting to extract posture\n"
     ]
    },
    {
     "name": "stderr",
     "output_type": "stream",
     "text": [
      "510it [05:52,  1.45it/s]                                                                                               \n"
     ]
    },
    {
     "name": "stdout",
     "output_type": "stream",
     "text": [
      "Saving results in \\\\dk-server.dk.ucsd.edu\\afassihizakeri\\Topviewmovies\\ar35motor\\2022_02_04...\n",
      "Saving csv poses!\n",
      "Starting to analyze %  \\\\dk-server.dk.ucsd.edu\\afassihizakeri\\Topviewmovies\\ar35motor\\2022_02_04\\36video.mp4\n",
      "Loading  \\\\dk-server.dk.ucsd.edu\\afassihizakeri\\Topviewmovies\\ar35motor\\2022_02_04\\36video.mp4\n",
      "Duration of video [s]:  12.5 , recorded with  40.0 fps!\n",
      "Overall # of frames:  500  found with (before cropping) frame dimensions:  1440 484\n",
      "Starting to extract posture\n"
     ]
    },
    {
     "name": "stderr",
     "output_type": "stream",
     "text": [
      "510it [05:52,  1.45it/s]                                                                                               \n"
     ]
    },
    {
     "name": "stdout",
     "output_type": "stream",
     "text": [
      "Saving results in \\\\dk-server.dk.ucsd.edu\\afassihizakeri\\Topviewmovies\\ar35motor\\2022_02_04...\n",
      "Saving csv poses!\n",
      "Starting to analyze %  \\\\dk-server.dk.ucsd.edu\\afassihizakeri\\Topviewmovies\\ar35motor\\2022_02_04\\241video.mp4\n",
      "Loading  \\\\dk-server.dk.ucsd.edu\\afassihizakeri\\Topviewmovies\\ar35motor\\2022_02_04\\241video.mp4\n",
      "Duration of video [s]:  12.5 , recorded with  40.0 fps!\n",
      "Overall # of frames:  500  found with (before cropping) frame dimensions:  1440 484\n",
      "Starting to extract posture\n"
     ]
    },
    {
     "name": "stderr",
     "output_type": "stream",
     "text": [
      "510it [05:51,  1.45it/s]                                                                                               \n"
     ]
    },
    {
     "name": "stdout",
     "output_type": "stream",
     "text": [
      "Saving results in \\\\dk-server.dk.ucsd.edu\\afassihizakeri\\Topviewmovies\\ar35motor\\2022_02_04...\n",
      "Saving csv poses!\n",
      "Starting to analyze %  \\\\dk-server.dk.ucsd.edu\\afassihizakeri\\Topviewmovies\\ar35motor\\2022_02_04\\219video.mp4\n",
      "Loading  \\\\dk-server.dk.ucsd.edu\\afassihizakeri\\Topviewmovies\\ar35motor\\2022_02_04\\219video.mp4\n",
      "Duration of video [s]:  12.5 , recorded with  40.0 fps!\n",
      "Overall # of frames:  500  found with (before cropping) frame dimensions:  1440 484\n",
      "Starting to extract posture\n"
     ]
    },
    {
     "name": "stderr",
     "output_type": "stream",
     "text": [
      "510it [05:52,  1.45it/s]                                                                                               \n"
     ]
    },
    {
     "name": "stdout",
     "output_type": "stream",
     "text": [
      "Saving results in \\\\dk-server.dk.ucsd.edu\\afassihizakeri\\Topviewmovies\\ar35motor\\2022_02_04...\n",
      "Saving csv poses!\n",
      "Starting to analyze %  \\\\dk-server.dk.ucsd.edu\\afassihizakeri\\Topviewmovies\\ar35motor\\2022_02_04\\114video.mp4\n",
      "Loading  \\\\dk-server.dk.ucsd.edu\\afassihizakeri\\Topviewmovies\\ar35motor\\2022_02_04\\114video.mp4\n",
      "Duration of video [s]:  12.5 , recorded with  40.0 fps!\n",
      "Overall # of frames:  500  found with (before cropping) frame dimensions:  1440 484\n",
      "Starting to extract posture\n"
     ]
    },
    {
     "name": "stderr",
     "output_type": "stream",
     "text": [
      "510it [05:52,  1.45it/s]                                                                                               \n"
     ]
    },
    {
     "name": "stdout",
     "output_type": "stream",
     "text": [
      "Saving results in \\\\dk-server.dk.ucsd.edu\\afassihizakeri\\Topviewmovies\\ar35motor\\2022_02_04...\n",
      "Saving csv poses!\n",
      "Starting to analyze %  \\\\dk-server.dk.ucsd.edu\\afassihizakeri\\Topviewmovies\\ar35motor\\2022_02_04\\61video.mp4\n",
      "Loading  \\\\dk-server.dk.ucsd.edu\\afassihizakeri\\Topviewmovies\\ar35motor\\2022_02_04\\61video.mp4\n",
      "Duration of video [s]:  12.5 , recorded with  40.0 fps!\n",
      "Overall # of frames:  500  found with (before cropping) frame dimensions:  1440 484\n",
      "Starting to extract posture\n"
     ]
    },
    {
     "name": "stderr",
     "output_type": "stream",
     "text": [
      "510it [05:53,  1.44it/s]                                                                                               \n"
     ]
    },
    {
     "name": "stdout",
     "output_type": "stream",
     "text": [
      "Saving results in \\\\dk-server.dk.ucsd.edu\\afassihizakeri\\Topviewmovies\\ar35motor\\2022_02_04...\n",
      "Saving csv poses!\n",
      "Starting to analyze %  \\\\dk-server.dk.ucsd.edu\\afassihizakeri\\Topviewmovies\\ar35motor\\2022_02_04\\216video.mp4\n",
      "Loading  \\\\dk-server.dk.ucsd.edu\\afassihizakeri\\Topviewmovies\\ar35motor\\2022_02_04\\216video.mp4\n",
      "Duration of video [s]:  12.5 , recorded with  40.0 fps!\n",
      "Overall # of frames:  500  found with (before cropping) frame dimensions:  1440 484\n",
      "Starting to extract posture\n"
     ]
    },
    {
     "name": "stderr",
     "output_type": "stream",
     "text": [
      "510it [05:52,  1.45it/s]                                                                                               \n"
     ]
    },
    {
     "name": "stdout",
     "output_type": "stream",
     "text": [
      "Saving results in \\\\dk-server.dk.ucsd.edu\\afassihizakeri\\Topviewmovies\\ar35motor\\2022_02_04...\n",
      "Saving csv poses!\n",
      "Starting to analyze %  \\\\dk-server.dk.ucsd.edu\\afassihizakeri\\Topviewmovies\\ar35motor\\2022_02_04\\88video.mp4\n",
      "Loading  \\\\dk-server.dk.ucsd.edu\\afassihizakeri\\Topviewmovies\\ar35motor\\2022_02_04\\88video.mp4\n",
      "Duration of video [s]:  12.5 , recorded with  40.0 fps!\n",
      "Overall # of frames:  500  found with (before cropping) frame dimensions:  1440 484\n",
      "Starting to extract posture\n"
     ]
    },
    {
     "name": "stderr",
     "output_type": "stream",
     "text": [
      "510it [05:52,  1.45it/s]                                                                                               \n"
     ]
    },
    {
     "name": "stdout",
     "output_type": "stream",
     "text": [
      "Saving results in \\\\dk-server.dk.ucsd.edu\\afassihizakeri\\Topviewmovies\\ar35motor\\2022_02_04...\n",
      "Saving csv poses!\n",
      "Starting to analyze %  \\\\dk-server.dk.ucsd.edu\\afassihizakeri\\Topviewmovies\\ar35motor\\2022_02_04\\87video.mp4\n",
      "Loading  \\\\dk-server.dk.ucsd.edu\\afassihizakeri\\Topviewmovies\\ar35motor\\2022_02_04\\87video.mp4\n",
      "Duration of video [s]:  12.5 , recorded with  40.0 fps!\n",
      "Overall # of frames:  500  found with (before cropping) frame dimensions:  1440 484\n",
      "Starting to extract posture\n"
     ]
    },
    {
     "name": "stderr",
     "output_type": "stream",
     "text": [
      "510it [05:53,  1.44it/s]                                                                                               \n"
     ]
    },
    {
     "name": "stdout",
     "output_type": "stream",
     "text": [
      "Saving results in \\\\dk-server.dk.ucsd.edu\\afassihizakeri\\Topviewmovies\\ar35motor\\2022_02_04...\n",
      "Saving csv poses!\n",
      "Starting to analyze %  \\\\dk-server.dk.ucsd.edu\\afassihizakeri\\Topviewmovies\\ar35motor\\2022_02_04\\251video.mp4\n",
      "Loading  \\\\dk-server.dk.ucsd.edu\\afassihizakeri\\Topviewmovies\\ar35motor\\2022_02_04\\251video.mp4\n",
      "Duration of video [s]:  12.5 , recorded with  40.0 fps!\n",
      "Overall # of frames:  500  found with (before cropping) frame dimensions:  1440 484\n",
      "Starting to extract posture\n"
     ]
    },
    {
     "name": "stderr",
     "output_type": "stream",
     "text": [
      "510it [05:52,  1.45it/s]                                                                                               \n"
     ]
    },
    {
     "name": "stdout",
     "output_type": "stream",
     "text": [
      "Saving results in \\\\dk-server.dk.ucsd.edu\\afassihizakeri\\Topviewmovies\\ar35motor\\2022_02_04...\n",
      "Saving csv poses!\n",
      "Starting to analyze %  \\\\dk-server.dk.ucsd.edu\\afassihizakeri\\Topviewmovies\\ar35motor\\2022_02_04\\26video.mp4\n",
      "Loading  \\\\dk-server.dk.ucsd.edu\\afassihizakeri\\Topviewmovies\\ar35motor\\2022_02_04\\26video.mp4\n",
      "Duration of video [s]:  12.5 , recorded with  40.0 fps!\n",
      "Overall # of frames:  500  found with (before cropping) frame dimensions:  1440 484\n",
      "Starting to extract posture\n"
     ]
    },
    {
     "name": "stderr",
     "output_type": "stream",
     "text": [
      "510it [05:52,  1.45it/s]                                                                                               \n"
     ]
    },
    {
     "name": "stdout",
     "output_type": "stream",
     "text": [
      "Saving results in \\\\dk-server.dk.ucsd.edu\\afassihizakeri\\Topviewmovies\\ar35motor\\2022_02_04...\n",
      "Saving csv poses!\n",
      "Starting to analyze %  \\\\dk-server.dk.ucsd.edu\\afassihizakeri\\Topviewmovies\\ar35motor\\2022_02_04\\153video.mp4\n",
      "Loading  \\\\dk-server.dk.ucsd.edu\\afassihizakeri\\Topviewmovies\\ar35motor\\2022_02_04\\153video.mp4\n",
      "Duration of video [s]:  12.5 , recorded with  40.0 fps!\n",
      "Overall # of frames:  500  found with (before cropping) frame dimensions:  1440 484\n",
      "Starting to extract posture\n"
     ]
    },
    {
     "name": "stderr",
     "output_type": "stream",
     "text": [
      "510it [05:52,  1.45it/s]                                                                                               \n"
     ]
    },
    {
     "name": "stdout",
     "output_type": "stream",
     "text": [
      "Saving results in \\\\dk-server.dk.ucsd.edu\\afassihizakeri\\Topviewmovies\\ar35motor\\2022_02_04...\n",
      "Saving csv poses!\n",
      "Starting to analyze %  \\\\dk-server.dk.ucsd.edu\\afassihizakeri\\Topviewmovies\\ar35motor\\2022_02_04\\29video.mp4\n",
      "Loading  \\\\dk-server.dk.ucsd.edu\\afassihizakeri\\Topviewmovies\\ar35motor\\2022_02_04\\29video.mp4\n",
      "Duration of video [s]:  12.5 , recorded with  40.0 fps!\n",
      "Overall # of frames:  500  found with (before cropping) frame dimensions:  1440 484\n",
      "Starting to extract posture\n"
     ]
    },
    {
     "name": "stderr",
     "output_type": "stream",
     "text": [
      "510it [05:53,  1.44it/s]                                                                                               \n"
     ]
    },
    {
     "name": "stdout",
     "output_type": "stream",
     "text": [
      "Saving results in \\\\dk-server.dk.ucsd.edu\\afassihizakeri\\Topviewmovies\\ar35motor\\2022_02_04...\n",
      "Saving csv poses!\n",
      "Starting to analyze %  \\\\dk-server.dk.ucsd.edu\\afassihizakeri\\Topviewmovies\\ar35motor\\2022_02_04\\206video.mp4\n",
      "Loading  \\\\dk-server.dk.ucsd.edu\\afassihizakeri\\Topviewmovies\\ar35motor\\2022_02_04\\206video.mp4\n",
      "Duration of video [s]:  12.5 , recorded with  40.0 fps!\n",
      "Overall # of frames:  500  found with (before cropping) frame dimensions:  1440 484\n",
      "Starting to extract posture\n"
     ]
    },
    {
     "name": "stderr",
     "output_type": "stream",
     "text": [
      "510it [05:53,  1.44it/s]                                                                                               \n"
     ]
    },
    {
     "name": "stdout",
     "output_type": "stream",
     "text": [
      "Saving results in \\\\dk-server.dk.ucsd.edu\\afassihizakeri\\Topviewmovies\\ar35motor\\2022_02_04...\n",
      "Saving csv poses!\n",
      "Starting to analyze %  \\\\dk-server.dk.ucsd.edu\\afassihizakeri\\Topviewmovies\\ar35motor\\2022_02_04\\71video.mp4\n",
      "Loading  \\\\dk-server.dk.ucsd.edu\\afassihizakeri\\Topviewmovies\\ar35motor\\2022_02_04\\71video.mp4\n",
      "Duration of video [s]:  12.5 , recorded with  40.0 fps!\n",
      "Overall # of frames:  500  found with (before cropping) frame dimensions:  1440 484\n",
      "Starting to extract posture\n"
     ]
    },
    {
     "name": "stderr",
     "output_type": "stream",
     "text": [
      "510it [05:53,  1.44it/s]                                                                                               \n"
     ]
    },
    {
     "name": "stdout",
     "output_type": "stream",
     "text": [
      "Saving results in \\\\dk-server.dk.ucsd.edu\\afassihizakeri\\Topviewmovies\\ar35motor\\2022_02_04...\n",
      "Saving csv poses!\n",
      "Starting to analyze %  \\\\dk-server.dk.ucsd.edu\\afassihizakeri\\Topviewmovies\\ar35motor\\2022_02_04\\209video.mp4\n",
      "Loading  \\\\dk-server.dk.ucsd.edu\\afassihizakeri\\Topviewmovies\\ar35motor\\2022_02_04\\209video.mp4\n",
      "Duration of video [s]:  12.5 , recorded with  40.0 fps!\n",
      "Overall # of frames:  500  found with (before cropping) frame dimensions:  1440 484\n",
      "Starting to extract posture\n"
     ]
    },
    {
     "name": "stderr",
     "output_type": "stream",
     "text": [
      "510it [05:45,  1.48it/s]                                                                                               \n"
     ]
    },
    {
     "name": "stdout",
     "output_type": "stream",
     "text": [
      "Saving results in \\\\dk-server.dk.ucsd.edu\\afassihizakeri\\Topviewmovies\\ar35motor\\2022_02_04...\n",
      "Saving csv poses!\n",
      "Starting to analyze %  \\\\dk-server.dk.ucsd.edu\\afassihizakeri\\Topviewmovies\\ar35motor\\2022_02_04\\104video.mp4\n",
      "Loading  \\\\dk-server.dk.ucsd.edu\\afassihizakeri\\Topviewmovies\\ar35motor\\2022_02_04\\104video.mp4\n",
      "Duration of video [s]:  12.5 , recorded with  40.0 fps!\n",
      "Overall # of frames:  500  found with (before cropping) frame dimensions:  1440 484\n",
      "Starting to extract posture\n"
     ]
    },
    {
     "name": "stderr",
     "output_type": "stream",
     "text": [
      "510it [05:43,  1.48it/s]                                                                                               \n"
     ]
    },
    {
     "name": "stdout",
     "output_type": "stream",
     "text": [
      "Saving results in \\\\dk-server.dk.ucsd.edu\\afassihizakeri\\Topviewmovies\\ar35motor\\2022_02_04...\n",
      "Saving csv poses!\n",
      "Starting to analyze %  \\\\dk-server.dk.ucsd.edu\\afassihizakeri\\Topviewmovies\\ar35motor\\2022_02_04\\97video.mp4\n",
      "Loading  \\\\dk-server.dk.ucsd.edu\\afassihizakeri\\Topviewmovies\\ar35motor\\2022_02_04\\97video.mp4\n",
      "Duration of video [s]:  12.5 , recorded with  40.0 fps!\n",
      "Overall # of frames:  500  found with (before cropping) frame dimensions:  1440 484\n",
      "Starting to extract posture\n"
     ]
    },
    {
     "name": "stderr",
     "output_type": "stream",
     "text": [
      "510it [05:53,  1.44it/s]                                                                                               \n"
     ]
    },
    {
     "name": "stdout",
     "output_type": "stream",
     "text": [
      "Saving results in \\\\dk-server.dk.ucsd.edu\\afassihizakeri\\Topviewmovies\\ar35motor\\2022_02_04...\n",
      "Saving csv poses!\n",
      "Starting to analyze %  \\\\dk-server.dk.ucsd.edu\\afassihizakeri\\Topviewmovies\\ar35motor\\2022_02_04\\98video.mp4\n",
      "Loading  \\\\dk-server.dk.ucsd.edu\\afassihizakeri\\Topviewmovies\\ar35motor\\2022_02_04\\98video.mp4\n",
      "Duration of video [s]:  12.5 , recorded with  40.0 fps!\n",
      "Overall # of frames:  500  found with (before cropping) frame dimensions:  1440 484\n",
      "Starting to extract posture\n"
     ]
    },
    {
     "name": "stderr",
     "output_type": "stream",
     "text": [
      "510it [05:52,  1.45it/s]                                                                                               \n"
     ]
    },
    {
     "name": "stdout",
     "output_type": "stream",
     "text": [
      "Saving results in \\\\dk-server.dk.ucsd.edu\\afassihizakeri\\Topviewmovies\\ar35motor\\2022_02_04...\n",
      "Saving csv poses!\n",
      "Starting to analyze %  \\\\dk-server.dk.ucsd.edu\\afassihizakeri\\Topviewmovies\\ar35motor\\2022_02_04\\276video.mp4\n",
      "Loading  \\\\dk-server.dk.ucsd.edu\\afassihizakeri\\Topviewmovies\\ar35motor\\2022_02_04\\276video.mp4\n",
      "Duration of video [s]:  12.5 , recorded with  40.0 fps!\n",
      "Overall # of frames:  500  found with (before cropping) frame dimensions:  1440 484\n",
      "Starting to extract posture\n"
     ]
    },
    {
     "name": "stderr",
     "output_type": "stream",
     "text": [
      "510it [05:54,  1.44it/s]                                                                                               \n"
     ]
    },
    {
     "name": "stdout",
     "output_type": "stream",
     "text": [
      "Saving results in \\\\dk-server.dk.ucsd.edu\\afassihizakeri\\Topviewmovies\\ar35motor\\2022_02_04...\n",
      "Saving csv poses!\n",
      "Starting to analyze %  \\\\dk-server.dk.ucsd.edu\\afassihizakeri\\Topviewmovies\\ar35motor\\2022_02_04\\174video.mp4\n",
      "Loading  \\\\dk-server.dk.ucsd.edu\\afassihizakeri\\Topviewmovies\\ar35motor\\2022_02_04\\174video.mp4\n",
      "Duration of video [s]:  12.5 , recorded with  40.0 fps!\n",
      "Overall # of frames:  500  found with (before cropping) frame dimensions:  1440 484\n",
      "Starting to extract posture\n"
     ]
    },
    {
     "name": "stderr",
     "output_type": "stream",
     "text": [
      "510it [05:52,  1.45it/s]                                                                                               \n"
     ]
    },
    {
     "name": "stdout",
     "output_type": "stream",
     "text": [
      "Saving results in \\\\dk-server.dk.ucsd.edu\\afassihizakeri\\Topviewmovies\\ar35motor\\2022_02_04...\n",
      "Saving csv poses!\n",
      "Starting to analyze %  \\\\dk-server.dk.ucsd.edu\\afassihizakeri\\Topviewmovies\\ar35motor\\2022_02_04\\279video.mp4\n",
      "Loading  \\\\dk-server.dk.ucsd.edu\\afassihizakeri\\Topviewmovies\\ar35motor\\2022_02_04\\279video.mp4\n",
      "Duration of video [s]:  12.5 , recorded with  40.0 fps!\n",
      "Overall # of frames:  500  found with (before cropping) frame dimensions:  1440 484\n",
      "Starting to extract posture\n"
     ]
    },
    {
     "name": "stderr",
     "output_type": "stream",
     "text": [
      "510it [05:51,  1.45it/s]                                                                                               \n"
     ]
    },
    {
     "name": "stdout",
     "output_type": "stream",
     "text": [
      "Saving results in \\\\dk-server.dk.ucsd.edu\\afassihizakeri\\Topviewmovies\\ar35motor\\2022_02_04...\n",
      "Saving csv poses!\n",
      "Starting to analyze %  \\\\dk-server.dk.ucsd.edu\\afassihizakeri\\Topviewmovies\\ar35motor\\2022_02_04\\290video.mp4\n",
      "Loading  \\\\dk-server.dk.ucsd.edu\\afassihizakeri\\Topviewmovies\\ar35motor\\2022_02_04\\290video.mp4\n",
      "Duration of video [s]:  12.5 , recorded with  40.0 fps!\n",
      "Overall # of frames:  500  found with (before cropping) frame dimensions:  1440 484\n",
      "Starting to extract posture\n"
     ]
    },
    {
     "name": "stderr",
     "output_type": "stream",
     "text": [
      "510it [05:52,  1.45it/s]                                                                                               \n"
     ]
    },
    {
     "name": "stdout",
     "output_type": "stream",
     "text": [
      "Saving results in \\\\dk-server.dk.ucsd.edu\\afassihizakeri\\Topviewmovies\\ar35motor\\2022_02_04...\n",
      "Saving csv poses!\n",
      "Starting to analyze %  \\\\dk-server.dk.ucsd.edu\\afassihizakeri\\Topviewmovies\\ar35motor\\2022_02_04\\192video.mp4\n",
      "Loading  \\\\dk-server.dk.ucsd.edu\\afassihizakeri\\Topviewmovies\\ar35motor\\2022_02_04\\192video.mp4\n",
      "Duration of video [s]:  12.5 , recorded with  40.0 fps!\n",
      "Overall # of frames:  500  found with (before cropping) frame dimensions:  1440 484\n",
      "Starting to extract posture\n"
     ]
    },
    {
     "name": "stderr",
     "output_type": "stream",
     "text": [
      "510it [05:52,  1.45it/s]                                                                                               \n"
     ]
    },
    {
     "name": "stdout",
     "output_type": "stream",
     "text": [
      "Saving results in \\\\dk-server.dk.ucsd.edu\\afassihizakeri\\Topviewmovies\\ar35motor\\2022_02_04...\n",
      "Saving csv poses!\n",
      "Starting to analyze %  \\\\dk-server.dk.ucsd.edu\\afassihizakeri\\Topviewmovies\\ar35motor\\2022_02_04\\1video.mp4\n",
      "Loading  \\\\dk-server.dk.ucsd.edu\\afassihizakeri\\Topviewmovies\\ar35motor\\2022_02_04\\1video.mp4\n",
      "Duration of video [s]:  12.5 , recorded with  40.0 fps!\n",
      "Overall # of frames:  500  found with (before cropping) frame dimensions:  1440 484\n",
      "Starting to extract posture\n"
     ]
    },
    {
     "name": "stderr",
     "output_type": "stream",
     "text": [
      "510it [05:52,  1.45it/s]                                                                                               \n"
     ]
    },
    {
     "name": "stdout",
     "output_type": "stream",
     "text": [
      "Saving results in \\\\dk-server.dk.ucsd.edu\\afassihizakeri\\Topviewmovies\\ar35motor\\2022_02_04...\n",
      "Saving csv poses!\n",
      "Starting to analyze %  \\\\dk-server.dk.ucsd.edu\\afassihizakeri\\Topviewmovies\\ar35motor\\2022_02_04\\221video.mp4\n",
      "Loading  \\\\dk-server.dk.ucsd.edu\\afassihizakeri\\Topviewmovies\\ar35motor\\2022_02_04\\221video.mp4\n",
      "Duration of video [s]:  12.5 , recorded with  40.0 fps!\n",
      "Overall # of frames:  500  found with (before cropping) frame dimensions:  1440 484\n",
      "Starting to extract posture\n"
     ]
    },
    {
     "name": "stderr",
     "output_type": "stream",
     "text": [
      "510it [05:52,  1.45it/s]                                                                                               \n"
     ]
    },
    {
     "name": "stdout",
     "output_type": "stream",
     "text": [
      "Saving results in \\\\dk-server.dk.ucsd.edu\\afassihizakeri\\Topviewmovies\\ar35motor\\2022_02_04...\n",
      "Saving csv poses!\n",
      "Starting to analyze %  \\\\dk-server.dk.ucsd.edu\\afassihizakeri\\Topviewmovies\\ar35motor\\2022_02_04\\56video.mp4\n",
      "Loading  \\\\dk-server.dk.ucsd.edu\\afassihizakeri\\Topviewmovies\\ar35motor\\2022_02_04\\56video.mp4\n",
      "Duration of video [s]:  12.5 , recorded with  40.0 fps!\n",
      "Overall # of frames:  500  found with (before cropping) frame dimensions:  1440 484\n",
      "Starting to extract posture\n"
     ]
    },
    {
     "name": "stderr",
     "output_type": "stream",
     "text": [
      "510it [05:53,  1.44it/s]                                                                                               \n"
     ]
    },
    {
     "name": "stdout",
     "output_type": "stream",
     "text": [
      "Saving results in \\\\dk-server.dk.ucsd.edu\\afassihizakeri\\Topviewmovies\\ar35motor\\2022_02_04...\n",
      "Saving csv poses!\n",
      "Starting to analyze %  \\\\dk-server.dk.ucsd.edu\\afassihizakeri\\Topviewmovies\\ar35motor\\2022_02_04\\123video.mp4\n",
      "Loading  \\\\dk-server.dk.ucsd.edu\\afassihizakeri\\Topviewmovies\\ar35motor\\2022_02_04\\123video.mp4\n",
      "Duration of video [s]:  12.5 , recorded with  40.0 fps!\n",
      "Overall # of frames:  500  found with (before cropping) frame dimensions:  1440 484\n",
      "Starting to extract posture\n"
     ]
    },
    {
     "name": "stderr",
     "output_type": "stream",
     "text": [
      "510it [05:52,  1.45it/s]                                                                                               \n"
     ]
    },
    {
     "name": "stdout",
     "output_type": "stream",
     "text": [
      "Saving results in \\\\dk-server.dk.ucsd.edu\\afassihizakeri\\Topviewmovies\\ar35motor\\2022_02_04...\n",
      "Saving csv poses!\n",
      "Starting to analyze %  \\\\dk-server.dk.ucsd.edu\\afassihizakeri\\Topviewmovies\\ar35motor\\2022_02_04\\59video.mp4\n",
      "Loading  \\\\dk-server.dk.ucsd.edu\\afassihizakeri\\Topviewmovies\\ar35motor\\2022_02_04\\59video.mp4\n",
      "Duration of video [s]:  12.5 , recorded with  40.0 fps!\n",
      "Overall # of frames:  500  found with (before cropping) frame dimensions:  1440 484\n",
      "Starting to extract posture\n"
     ]
    },
    {
     "name": "stderr",
     "output_type": "stream",
     "text": [
      "510it [05:52,  1.45it/s]                                                                                               \n"
     ]
    },
    {
     "name": "stdout",
     "output_type": "stream",
     "text": [
      "Saving results in \\\\dk-server.dk.ucsd.edu\\afassihizakeri\\Topviewmovies\\ar35motor\\2022_02_04...\n",
      "Saving csv poses!\n",
      "Starting to analyze %  \\\\dk-server.dk.ucsd.edu\\afassihizakeri\\Topviewmovies\\ar35motor\\2022_02_04\\164video.mp4\n",
      "Loading  \\\\dk-server.dk.ucsd.edu\\afassihizakeri\\Topviewmovies\\ar35motor\\2022_02_04\\164video.mp4\n",
      "Duration of video [s]:  12.5 , recorded with  40.0 fps!\n",
      "Overall # of frames:  500  found with (before cropping) frame dimensions:  1440 484\n",
      "Starting to extract posture\n"
     ]
    },
    {
     "name": "stderr",
     "output_type": "stream",
     "text": [
      "510it [05:52,  1.45it/s]                                                                                               \n"
     ]
    },
    {
     "name": "stdout",
     "output_type": "stream",
     "text": [
      "Saving results in \\\\dk-server.dk.ucsd.edu\\afassihizakeri\\Topviewmovies\\ar35motor\\2022_02_04...\n",
      "Saving csv poses!\n",
      "Starting to analyze %  \\\\dk-server.dk.ucsd.edu\\afassihizakeri\\Topviewmovies\\ar35motor\\2022_02_04\\269video.mp4\n",
      "Loading  \\\\dk-server.dk.ucsd.edu\\afassihizakeri\\Topviewmovies\\ar35motor\\2022_02_04\\269video.mp4\n",
      "Duration of video [s]:  12.5 , recorded with  40.0 fps!\n",
      "Overall # of frames:  500  found with (before cropping) frame dimensions:  1440 484\n",
      "Starting to extract posture\n"
     ]
    },
    {
     "name": "stderr",
     "output_type": "stream",
     "text": [
      "510it [05:52,  1.45it/s]                                                                                               \n"
     ]
    },
    {
     "name": "stdout",
     "output_type": "stream",
     "text": [
      "Saving results in \\\\dk-server.dk.ucsd.edu\\afassihizakeri\\Topviewmovies\\ar35motor\\2022_02_04...\n",
      "Saving csv poses!\n",
      "Starting to analyze %  \\\\dk-server.dk.ucsd.edu\\afassihizakeri\\Topviewmovies\\ar35motor\\2022_02_04\\11video.mp4\n",
      "Loading  \\\\dk-server.dk.ucsd.edu\\afassihizakeri\\Topviewmovies\\ar35motor\\2022_02_04\\11video.mp4\n",
      "Duration of video [s]:  12.5 , recorded with  40.0 fps!\n",
      "Overall # of frames:  500  found with (before cropping) frame dimensions:  1440 484\n",
      "Starting to extract posture\n"
     ]
    },
    {
     "name": "stderr",
     "output_type": "stream",
     "text": [
      "510it [05:53,  1.44it/s]                                                                                               \n"
     ]
    },
    {
     "name": "stdout",
     "output_type": "stream",
     "text": [
      "Saving results in \\\\dk-server.dk.ucsd.edu\\afassihizakeri\\Topviewmovies\\ar35motor\\2022_02_04...\n",
      "Saving csv poses!\n",
      "Starting to analyze %  \\\\dk-server.dk.ucsd.edu\\afassihizakeri\\Topviewmovies\\ar35motor\\2022_02_04\\266video.mp4\n",
      "Loading  \\\\dk-server.dk.ucsd.edu\\afassihizakeri\\Topviewmovies\\ar35motor\\2022_02_04\\266video.mp4\n",
      "Duration of video [s]:  12.5 , recorded with  40.0 fps!\n",
      "Overall # of frames:  500  found with (before cropping) frame dimensions:  1440 484\n",
      "Starting to extract posture\n"
     ]
    },
    {
     "name": "stderr",
     "output_type": "stream",
     "text": [
      "510it [05:52,  1.45it/s]                                                                                               \n"
     ]
    },
    {
     "name": "stdout",
     "output_type": "stream",
     "text": [
      "Saving results in \\\\dk-server.dk.ucsd.edu\\afassihizakeri\\Topviewmovies\\ar35motor\\2022_02_04...\n",
      "Saving csv poses!\n",
      "Starting to analyze %  \\\\dk-server.dk.ucsd.edu\\afassihizakeri\\Topviewmovies\\ar35motor\\2022_02_04\\182video.mp4\n",
      "Loading  \\\\dk-server.dk.ucsd.edu\\afassihizakeri\\Topviewmovies\\ar35motor\\2022_02_04\\182video.mp4\n",
      "Duration of video [s]:  12.5 , recorded with  40.0 fps!\n",
      "Overall # of frames:  500  found with (before cropping) frame dimensions:  1440 484\n",
      "Starting to extract posture\n"
     ]
    },
    {
     "name": "stderr",
     "output_type": "stream",
     "text": [
      "510it [05:52,  1.45it/s]                                                                                               \n"
     ]
    },
    {
     "name": "stdout",
     "output_type": "stream",
     "text": [
      "Saving results in \\\\dk-server.dk.ucsd.edu\\afassihizakeri\\Topviewmovies\\ar35motor\\2022_02_04...\n",
      "Saving csv poses!\n",
      "Starting to analyze %  \\\\dk-server.dk.ucsd.edu\\afassihizakeri\\Topviewmovies\\ar35motor\\2022_02_04\\280video.mp4\n",
      "Loading  \\\\dk-server.dk.ucsd.edu\\afassihizakeri\\Topviewmovies\\ar35motor\\2022_02_04\\280video.mp4\n",
      "Duration of video [s]:  12.5 , recorded with  40.0 fps!\n",
      "Overall # of frames:  500  found with (before cropping) frame dimensions:  1440 484\n",
      "Starting to extract posture\n"
     ]
    },
    {
     "name": "stderr",
     "output_type": "stream",
     "text": [
      "510it [05:52,  1.45it/s]                                                                                               \n"
     ]
    },
    {
     "name": "stdout",
     "output_type": "stream",
     "text": [
      "Saving results in \\\\dk-server.dk.ucsd.edu\\afassihizakeri\\Topviewmovies\\ar35motor\\2022_02_04...\n",
      "Saving csv poses!\n",
      "Starting to analyze %  \\\\dk-server.dk.ucsd.edu\\afassihizakeri\\Topviewmovies\\ar35motor\\2022_02_04\\302video.mp4\n",
      "Loading  \\\\dk-server.dk.ucsd.edu\\afassihizakeri\\Topviewmovies\\ar35motor\\2022_02_04\\302video.mp4\n",
      "Duration of video [s]:  12.5 , recorded with  40.0 fps!\n",
      "Overall # of frames:  500  found with (before cropping) frame dimensions:  1440 484\n",
      "Starting to extract posture\n"
     ]
    },
    {
     "name": "stderr",
     "output_type": "stream",
     "text": [
      "510it [05:52,  1.45it/s]                                                                                               \n"
     ]
    },
    {
     "name": "stdout",
     "output_type": "stream",
     "text": [
      "Saving results in \\\\dk-server.dk.ucsd.edu\\afassihizakeri\\Topviewmovies\\ar35motor\\2022_02_04...\n",
      "Saving csv poses!\n",
      "Starting to analyze %  \\\\dk-server.dk.ucsd.edu\\afassihizakeri\\Topviewmovies\\ar35motor\\2022_02_04\\49video.mp4\n",
      "Loading  \\\\dk-server.dk.ucsd.edu\\afassihizakeri\\Topviewmovies\\ar35motor\\2022_02_04\\49video.mp4\n",
      "Duration of video [s]:  12.5 , recorded with  40.0 fps!\n",
      "Overall # of frames:  500  found with (before cropping) frame dimensions:  1440 484\n",
      "Starting to extract posture\n"
     ]
    },
    {
     "name": "stderr",
     "output_type": "stream",
     "text": [
      "510it [05:52,  1.45it/s]                                                                                               \n"
     ]
    },
    {
     "name": "stdout",
     "output_type": "stream",
     "text": [
      "Saving results in \\\\dk-server.dk.ucsd.edu\\afassihizakeri\\Topviewmovies\\ar35motor\\2022_02_04...\n",
      "Saving csv poses!\n",
      "Starting to analyze %  \\\\dk-server.dk.ucsd.edu\\afassihizakeri\\Topviewmovies\\ar35motor\\2022_02_04\\133video.mp4\n",
      "Loading  \\\\dk-server.dk.ucsd.edu\\afassihizakeri\\Topviewmovies\\ar35motor\\2022_02_04\\133video.mp4\n",
      "Duration of video [s]:  12.5 , recorded with  40.0 fps!\n",
      "Overall # of frames:  500  found with (before cropping) frame dimensions:  1440 484\n",
      "Starting to extract posture\n"
     ]
    },
    {
     "name": "stderr",
     "output_type": "stream",
     "text": [
      "510it [05:52,  1.45it/s]                                                                                               \n"
     ]
    },
    {
     "name": "stdout",
     "output_type": "stream",
     "text": [
      "Saving results in \\\\dk-server.dk.ucsd.edu\\afassihizakeri\\Topviewmovies\\ar35motor\\2022_02_04...\n",
      "Saving csv poses!\n",
      "Starting to analyze %  \\\\dk-server.dk.ucsd.edu\\afassihizakeri\\Topviewmovies\\ar35motor\\2022_02_04\\46video.mp4\n",
      "Loading  \\\\dk-server.dk.ucsd.edu\\afassihizakeri\\Topviewmovies\\ar35motor\\2022_02_04\\46video.mp4\n",
      "Duration of video [s]:  12.5 , recorded with  40.0 fps!\n",
      "Overall # of frames:  500  found with (before cropping) frame dimensions:  1440 484\n",
      "Starting to extract posture\n"
     ]
    },
    {
     "name": "stderr",
     "output_type": "stream",
     "text": [
      "510it [05:51,  1.45it/s]                                                                                               \n"
     ]
    },
    {
     "name": "stdout",
     "output_type": "stream",
     "text": [
      "Saving results in \\\\dk-server.dk.ucsd.edu\\afassihizakeri\\Topviewmovies\\ar35motor\\2022_02_04...\n",
      "Saving csv poses!\n",
      "Starting to analyze %  \\\\dk-server.dk.ucsd.edu\\afassihizakeri\\Topviewmovies\\ar35motor\\2022_02_04\\231video.mp4\n",
      "Loading  \\\\dk-server.dk.ucsd.edu\\afassihizakeri\\Topviewmovies\\ar35motor\\2022_02_04\\231video.mp4\n",
      "Duration of video [s]:  12.5 , recorded with  40.0 fps!\n",
      "Overall # of frames:  500  found with (before cropping) frame dimensions:  1440 484\n",
      "Starting to extract posture\n"
     ]
    },
    {
     "name": "stderr",
     "output_type": "stream",
     "text": [
      "510it [05:51,  1.45it/s]                                                                                               \n"
     ]
    },
    {
     "name": "stdout",
     "output_type": "stream",
     "text": [
      "Saving results in \\\\dk-server.dk.ucsd.edu\\afassihizakeri\\Topviewmovies\\ar35motor\\2022_02_04...\n",
      "Saving csv poses!\n",
      "Starting to analyze %  \\\\dk-server.dk.ucsd.edu\\afassihizakeri\\Topviewmovies\\ar35motor\\2022_02_04\\259video.mp4\n",
      "Loading  \\\\dk-server.dk.ucsd.edu\\afassihizakeri\\Topviewmovies\\ar35motor\\2022_02_04\\259video.mp4\n",
      "Duration of video [s]:  12.5 , recorded with  40.0 fps!\n",
      "Overall # of frames:  500  found with (before cropping) frame dimensions:  1440 484\n",
      "Starting to extract posture\n"
     ]
    },
    {
     "name": "stderr",
     "output_type": "stream",
     "text": [
      "510it [05:52,  1.45it/s]                                                                                               \n"
     ]
    },
    {
     "name": "stdout",
     "output_type": "stream",
     "text": [
      "Saving results in \\\\dk-server.dk.ucsd.edu\\afassihizakeri\\Topviewmovies\\ar35motor\\2022_02_04...\n",
      "Saving csv poses!\n",
      "Starting to analyze %  \\\\dk-server.dk.ucsd.edu\\afassihizakeri\\Topviewmovies\\ar35motor\\2022_02_04\\154video.mp4\n",
      "Loading  \\\\dk-server.dk.ucsd.edu\\afassihizakeri\\Topviewmovies\\ar35motor\\2022_02_04\\154video.mp4\n",
      "Duration of video [s]:  12.5 , recorded with  40.0 fps!\n",
      "Overall # of frames:  500  found with (before cropping) frame dimensions:  1440 484\n",
      "Starting to extract posture\n"
     ]
    },
    {
     "name": "stderr",
     "output_type": "stream",
     "text": [
      "510it [05:52,  1.45it/s]                                                                                               \n"
     ]
    },
    {
     "name": "stdout",
     "output_type": "stream",
     "text": [
      "Saving results in \\\\dk-server.dk.ucsd.edu\\afassihizakeri\\Topviewmovies\\ar35motor\\2022_02_04...\n",
      "Saving csv poses!\n",
      "Starting to analyze %  \\\\dk-server.dk.ucsd.edu\\afassihizakeri\\Topviewmovies\\ar35motor\\2022_02_04\\256video.mp4\n",
      "Loading  \\\\dk-server.dk.ucsd.edu\\afassihizakeri\\Topviewmovies\\ar35motor\\2022_02_04\\256video.mp4\n",
      "Duration of video [s]:  12.5 , recorded with  40.0 fps!\n",
      "Overall # of frames:  500  found with (before cropping) frame dimensions:  1440 484\n",
      "Starting to extract posture\n"
     ]
    },
    {
     "name": "stderr",
     "output_type": "stream",
     "text": [
      "510it [05:52,  1.45it/s]                                                                                               \n"
     ]
    },
    {
     "name": "stdout",
     "output_type": "stream",
     "text": [
      "Saving results in \\\\dk-server.dk.ucsd.edu\\afassihizakeri\\Topviewmovies\\ar35motor\\2022_02_04...\n",
      "Saving csv poses!\n",
      "Starting to analyze %  \\\\dk-server.dk.ucsd.edu\\afassihizakeri\\Topviewmovies\\ar35motor\\2022_02_04\\21video.mp4\n",
      "Loading  \\\\dk-server.dk.ucsd.edu\\afassihizakeri\\Topviewmovies\\ar35motor\\2022_02_04\\21video.mp4\n",
      "Duration of video [s]:  12.5 , recorded with  40.0 fps!\n",
      "Overall # of frames:  500  found with (before cropping) frame dimensions:  1440 484\n",
      "Starting to extract posture\n"
     ]
    },
    {
     "name": "stderr",
     "output_type": "stream",
     "text": [
      "510it [05:53,  1.44it/s]                                                                                               \n"
     ]
    },
    {
     "name": "stdout",
     "output_type": "stream",
     "text": [
      "Saving results in \\\\dk-server.dk.ucsd.edu\\afassihizakeri\\Topviewmovies\\ar35motor\\2022_02_04...\n",
      "Saving csv poses!\n",
      "Starting to analyze %  \\\\dk-server.dk.ucsd.edu\\afassihizakeri\\Topviewmovies\\ar35motor\\2022_02_04\\103video.mp4\n",
      "Loading  \\\\dk-server.dk.ucsd.edu\\afassihizakeri\\Topviewmovies\\ar35motor\\2022_02_04\\103video.mp4\n",
      "Duration of video [s]:  12.5 , recorded with  40.0 fps!\n",
      "Overall # of frames:  500  found with (before cropping) frame dimensions:  1440 484\n",
      "Starting to extract posture\n"
     ]
    },
    {
     "name": "stderr",
     "output_type": "stream",
     "text": [
      "510it [05:52,  1.45it/s]                                                                                               \n"
     ]
    },
    {
     "name": "stdout",
     "output_type": "stream",
     "text": [
      "Saving results in \\\\dk-server.dk.ucsd.edu\\afassihizakeri\\Topviewmovies\\ar35motor\\2022_02_04...\n",
      "Saving csv poses!\n",
      "Starting to analyze %  \\\\dk-server.dk.ucsd.edu\\afassihizakeri\\Topviewmovies\\ar35motor\\2022_02_04\\79video.mp4\n",
      "Loading  \\\\dk-server.dk.ucsd.edu\\afassihizakeri\\Topviewmovies\\ar35motor\\2022_02_04\\79video.mp4\n",
      "Duration of video [s]:  12.5 , recorded with  40.0 fps!\n",
      "Overall # of frames:  500  found with (before cropping) frame dimensions:  1440 484\n",
      "Starting to extract posture\n"
     ]
    },
    {
     "name": "stderr",
     "output_type": "stream",
     "text": [
      "510it [05:52,  1.45it/s]                                                                                               \n"
     ]
    },
    {
     "name": "stdout",
     "output_type": "stream",
     "text": [
      "Saving results in \\\\dk-server.dk.ucsd.edu\\afassihizakeri\\Topviewmovies\\ar35motor\\2022_02_04...\n",
      "Saving csv poses!\n",
      "Starting to analyze %  \\\\dk-server.dk.ucsd.edu\\afassihizakeri\\Topviewmovies\\ar35motor\\2022_02_04\\201video.mp4\n",
      "Loading  \\\\dk-server.dk.ucsd.edu\\afassihizakeri\\Topviewmovies\\ar35motor\\2022_02_04\\201video.mp4\n",
      "Duration of video [s]:  12.5 , recorded with  40.0 fps!\n",
      "Overall # of frames:  500  found with (before cropping) frame dimensions:  1440 484\n",
      "Starting to extract posture\n"
     ]
    },
    {
     "name": "stderr",
     "output_type": "stream",
     "text": [
      "510it [05:52,  1.45it/s]                                                                                               \n"
     ]
    },
    {
     "name": "stdout",
     "output_type": "stream",
     "text": [
      "Saving results in \\\\dk-server.dk.ucsd.edu\\afassihizakeri\\Topviewmovies\\ar35motor\\2022_02_04...\n",
      "Saving csv poses!\n",
      "Starting to analyze %  \\\\dk-server.dk.ucsd.edu\\afassihizakeri\\Topviewmovies\\ar35motor\\2022_02_04\\76video.mp4\n",
      "Loading  \\\\dk-server.dk.ucsd.edu\\afassihizakeri\\Topviewmovies\\ar35motor\\2022_02_04\\76video.mp4\n",
      "Duration of video [s]:  12.5 , recorded with  40.0 fps!\n",
      "Overall # of frames:  500  found with (before cropping) frame dimensions:  1440 484\n",
      "Starting to extract posture\n"
     ]
    },
    {
     "name": "stderr",
     "output_type": "stream",
     "text": [
      "510it [05:52,  1.45it/s]                                                                                               \n"
     ]
    },
    {
     "name": "stdout",
     "output_type": "stream",
     "text": [
      "Saving results in \\\\dk-server.dk.ucsd.edu\\afassihizakeri\\Topviewmovies\\ar35motor\\2022_02_04...\n",
      "Saving csv poses!\n",
      "Starting to analyze %  \\\\dk-server.dk.ucsd.edu\\afassihizakeri\\Topviewmovies\\ar35motor\\2022_02_04\\90video.mp4\n",
      "Loading  \\\\dk-server.dk.ucsd.edu\\afassihizakeri\\Topviewmovies\\ar35motor\\2022_02_04\\90video.mp4\n",
      "Duration of video [s]:  12.5 , recorded with  40.0 fps!\n",
      "Overall # of frames:  500  found with (before cropping) frame dimensions:  1440 484\n",
      "Starting to extract posture\n"
     ]
    },
    {
     "name": "stderr",
     "output_type": "stream",
     "text": [
      "510it [05:52,  1.45it/s]                                                                                               \n"
     ]
    },
    {
     "name": "stdout",
     "output_type": "stream",
     "text": [
      "Saving results in \\\\dk-server.dk.ucsd.edu\\afassihizakeri\\Topviewmovies\\ar35motor\\2022_02_04...\n",
      "Saving csv poses!\n",
      "Starting to analyze %  \\\\dk-server.dk.ucsd.edu\\afassihizakeri\\Topviewmovies\\ar35motor\\2022_02_04\\31video.mp4\n",
      "Loading  \\\\dk-server.dk.ucsd.edu\\afassihizakeri\\Topviewmovies\\ar35motor\\2022_02_04\\31video.mp4\n",
      "Duration of video [s]:  12.5 , recorded with  40.0 fps!\n",
      "Overall # of frames:  500  found with (before cropping) frame dimensions:  1440 484\n",
      "Starting to extract posture\n"
     ]
    },
    {
     "name": "stderr",
     "output_type": "stream",
     "text": [
      "510it [05:52,  1.45it/s]                                                                                               \n"
     ]
    },
    {
     "name": "stdout",
     "output_type": "stream",
     "text": [
      "Saving results in \\\\dk-server.dk.ucsd.edu\\afassihizakeri\\Topviewmovies\\ar35motor\\2022_02_04...\n",
      "Saving csv poses!\n",
      "Starting to analyze %  \\\\dk-server.dk.ucsd.edu\\afassihizakeri\\Topviewmovies\\ar35motor\\2022_02_04\\246video.mp4\n",
      "Loading  \\\\dk-server.dk.ucsd.edu\\afassihizakeri\\Topviewmovies\\ar35motor\\2022_02_04\\246video.mp4\n",
      "Duration of video [s]:  12.5 , recorded with  40.0 fps!\n",
      "Overall # of frames:  500  found with (before cropping) frame dimensions:  1440 484\n",
      "Starting to extract posture\n"
     ]
    },
    {
     "name": "stderr",
     "output_type": "stream",
     "text": [
      "510it [05:51,  1.45it/s]                                                                                               \n"
     ]
    },
    {
     "name": "stdout",
     "output_type": "stream",
     "text": [
      "Saving results in \\\\dk-server.dk.ucsd.edu\\afassihizakeri\\Topviewmovies\\ar35motor\\2022_02_04...\n",
      "Saving csv poses!\n",
      "Starting to analyze %  \\\\dk-server.dk.ucsd.edu\\afassihizakeri\\Topviewmovies\\ar35motor\\2022_02_04\\249video.mp4\n",
      "Loading  \\\\dk-server.dk.ucsd.edu\\afassihizakeri\\Topviewmovies\\ar35motor\\2022_02_04\\249video.mp4\n",
      "Duration of video [s]:  12.5 , recorded with  40.0 fps!\n",
      "Overall # of frames:  500  found with (before cropping) frame dimensions:  1440 484\n",
      "Starting to extract posture\n"
     ]
    },
    {
     "name": "stderr",
     "output_type": "stream",
     "text": [
      "510it [05:52,  1.45it/s]                                                                                               \n"
     ]
    },
    {
     "name": "stdout",
     "output_type": "stream",
     "text": [
      "Saving results in \\\\dk-server.dk.ucsd.edu\\afassihizakeri\\Topviewmovies\\ar35motor\\2022_02_04...\n",
      "Saving csv poses!\n",
      "Starting to analyze %  \\\\dk-server.dk.ucsd.edu\\afassihizakeri\\Topviewmovies\\ar35motor\\2022_02_04\\144video.mp4\n",
      "Loading  \\\\dk-server.dk.ucsd.edu\\afassihizakeri\\Topviewmovies\\ar35motor\\2022_02_04\\144video.mp4\n",
      "Duration of video [s]:  12.5 , recorded with  40.0 fps!\n",
      "Overall # of frames:  500  found with (before cropping) frame dimensions:  1440 484\n",
      "Starting to extract posture\n"
     ]
    },
    {
     "name": "stderr",
     "output_type": "stream",
     "text": [
      "510it [05:52,  1.45it/s]                                                                                               \n"
     ]
    },
    {
     "name": "stdout",
     "output_type": "stream",
     "text": [
      "Saving results in \\\\dk-server.dk.ucsd.edu\\afassihizakeri\\Topviewmovies\\ar35motor\\2022_02_04...\n",
      "Saving csv poses!\n",
      "Starting to analyze %  \\\\dk-server.dk.ucsd.edu\\afassihizakeri\\Topviewmovies\\ar35motor\\2022_02_04\\66video.mp4\n",
      "Loading  \\\\dk-server.dk.ucsd.edu\\afassihizakeri\\Topviewmovies\\ar35motor\\2022_02_04\\66video.mp4\n",
      "Duration of video [s]:  12.5 , recorded with  40.0 fps!\n",
      "Overall # of frames:  500  found with (before cropping) frame dimensions:  1440 484\n",
      "Starting to extract posture\n"
     ]
    },
    {
     "name": "stderr",
     "output_type": "stream",
     "text": [
      "510it [05:51,  1.45it/s]                                                                                               \n"
     ]
    },
    {
     "name": "stdout",
     "output_type": "stream",
     "text": [
      "Saving results in \\\\dk-server.dk.ucsd.edu\\afassihizakeri\\Topviewmovies\\ar35motor\\2022_02_04...\n",
      "Saving csv poses!\n",
      "Starting to analyze %  \\\\dk-server.dk.ucsd.edu\\afassihizakeri\\Topviewmovies\\ar35motor\\2022_02_04\\211video.mp4\n",
      "Loading  \\\\dk-server.dk.ucsd.edu\\afassihizakeri\\Topviewmovies\\ar35motor\\2022_02_04\\211video.mp4\n",
      "Duration of video [s]:  12.5 , recorded with  40.0 fps!\n",
      "Overall # of frames:  500  found with (before cropping) frame dimensions:  1440 484\n",
      "Starting to extract posture\n"
     ]
    },
    {
     "name": "stderr",
     "output_type": "stream",
     "text": [
      "510it [05:53,  1.44it/s]                                                                                               \n"
     ]
    },
    {
     "name": "stdout",
     "output_type": "stream",
     "text": [
      "Saving results in \\\\dk-server.dk.ucsd.edu\\afassihizakeri\\Topviewmovies\\ar35motor\\2022_02_04...\n",
      "Saving csv poses!\n",
      "Starting to analyze %  \\\\dk-server.dk.ucsd.edu\\afassihizakeri\\Topviewmovies\\ar35motor\\2022_02_04\\69video.mp4\n",
      "Loading  \\\\dk-server.dk.ucsd.edu\\afassihizakeri\\Topviewmovies\\ar35motor\\2022_02_04\\69video.mp4\n",
      "Duration of video [s]:  12.5 , recorded with  40.0 fps!\n",
      "Overall # of frames:  500  found with (before cropping) frame dimensions:  1440 484\n",
      "Starting to extract posture\n"
     ]
    },
    {
     "name": "stderr",
     "output_type": "stream",
     "text": [
      "510it [05:51,  1.45it/s]                                                                                               \n"
     ]
    },
    {
     "name": "stdout",
     "output_type": "stream",
     "text": [
      "Saving results in \\\\dk-server.dk.ucsd.edu\\afassihizakeri\\Topviewmovies\\ar35motor\\2022_02_04...\n",
      "Saving csv poses!\n",
      "Starting to analyze %  \\\\dk-server.dk.ucsd.edu\\afassihizakeri\\Topviewmovies\\ar35motor\\2022_02_04\\113video.mp4\n",
      "Loading  \\\\dk-server.dk.ucsd.edu\\afassihizakeri\\Topviewmovies\\ar35motor\\2022_02_04\\113video.mp4\n",
      "Duration of video [s]:  12.5 , recorded with  40.0 fps!\n",
      "Overall # of frames:  500  found with (before cropping) frame dimensions:  1440 484\n",
      "Starting to extract posture\n"
     ]
    },
    {
     "name": "stderr",
     "output_type": "stream",
     "text": [
      "510it [05:52,  1.45it/s]                                                                                               \n"
     ]
    },
    {
     "name": "stdout",
     "output_type": "stream",
     "text": [
      "Saving results in \\\\dk-server.dk.ucsd.edu\\afassihizakeri\\Topviewmovies\\ar35motor\\2022_02_04...\n",
      "Saving csv poses!\n",
      "Starting to analyze %  \\\\dk-server.dk.ucsd.edu\\afassihizakeri\\Topviewmovies\\ar35motor\\2022_02_04\\80video.mp4\n",
      "Loading  \\\\dk-server.dk.ucsd.edu\\afassihizakeri\\Topviewmovies\\ar35motor\\2022_02_04\\80video.mp4\n",
      "Duration of video [s]:  12.5 , recorded with  40.0 fps!\n",
      "Overall # of frames:  500  found with (before cropping) frame dimensions:  1440 484\n",
      "Starting to extract posture\n"
     ]
    },
    {
     "name": "stderr",
     "output_type": "stream",
     "text": [
      "510it [05:52,  1.45it/s]                                                                                               \n"
     ]
    },
    {
     "name": "stdout",
     "output_type": "stream",
     "text": [
      "Saving results in \\\\dk-server.dk.ucsd.edu\\afassihizakeri\\Topviewmovies\\ar35motor\\2022_02_04...\n",
      "Saving csv poses!\n",
      "Starting to analyze %  \\\\dk-server.dk.ucsd.edu\\afassihizakeri\\Topviewmovies\\ar35motor\\2022_02_04\\240video.mp4\n",
      "Loading  \\\\dk-server.dk.ucsd.edu\\afassihizakeri\\Topviewmovies\\ar35motor\\2022_02_04\\240video.mp4\n",
      "Duration of video [s]:  12.5 , recorded with  40.0 fps!\n",
      "Overall # of frames:  500  found with (before cropping) frame dimensions:  1440 484\n",
      "Starting to extract posture\n"
     ]
    },
    {
     "name": "stderr",
     "output_type": "stream",
     "text": [
      "510it [05:51,  1.45it/s]                                                                                               \n"
     ]
    },
    {
     "name": "stdout",
     "output_type": "stream",
     "text": [
      "Saving results in \\\\dk-server.dk.ucsd.edu\\afassihizakeri\\Topviewmovies\\ar35motor\\2022_02_04...\n",
      "Saving csv poses!\n",
      "Starting to analyze %  \\\\dk-server.dk.ucsd.edu\\afassihizakeri\\Topviewmovies\\ar35motor\\2022_02_04\\37video.mp4\n",
      "Loading  \\\\dk-server.dk.ucsd.edu\\afassihizakeri\\Topviewmovies\\ar35motor\\2022_02_04\\37video.mp4\n",
      "Duration of video [s]:  12.5 , recorded with  40.0 fps!\n",
      "Overall # of frames:  500  found with (before cropping) frame dimensions:  1440 484\n",
      "Starting to extract posture\n"
     ]
    },
    {
     "name": "stderr",
     "output_type": "stream",
     "text": [
      "510it [05:52,  1.45it/s]                                                                                               \n"
     ]
    },
    {
     "name": "stdout",
     "output_type": "stream",
     "text": [
      "Saving results in \\\\dk-server.dk.ucsd.edu\\afassihizakeri\\Topviewmovies\\ar35motor\\2022_02_04...\n",
      "Saving csv poses!\n",
      "Starting to analyze %  \\\\dk-server.dk.ucsd.edu\\afassihizakeri\\Topviewmovies\\ar35motor\\2022_02_04\\142video.mp4\n",
      "Loading  \\\\dk-server.dk.ucsd.edu\\afassihizakeri\\Topviewmovies\\ar35motor\\2022_02_04\\142video.mp4\n",
      "Duration of video [s]:  12.5 , recorded with  40.0 fps!\n",
      "Overall # of frames:  500  found with (before cropping) frame dimensions:  1440 484\n",
      "Starting to extract posture\n"
     ]
    },
    {
     "name": "stderr",
     "output_type": "stream",
     "text": [
      "510it [05:52,  1.45it/s]                                                                                               \n"
     ]
    },
    {
     "name": "stdout",
     "output_type": "stream",
     "text": [
      "Saving results in \\\\dk-server.dk.ucsd.edu\\afassihizakeri\\Topviewmovies\\ar35motor\\2022_02_04...\n",
      "Saving csv poses!\n",
      "Starting to analyze %  \\\\dk-server.dk.ucsd.edu\\afassihizakeri\\Topviewmovies\\ar35motor\\2022_02_04\\38video.mp4\n",
      "Loading  \\\\dk-server.dk.ucsd.edu\\afassihizakeri\\Topviewmovies\\ar35motor\\2022_02_04\\38video.mp4\n",
      "Duration of video [s]:  12.5 , recorded with  40.0 fps!\n",
      "Overall # of frames:  500  found with (before cropping) frame dimensions:  1440 484\n",
      "Starting to extract posture\n"
     ]
    },
    {
     "name": "stderr",
     "output_type": "stream",
     "text": [
      "510it [05:52,  1.45it/s]                                                                                               \n"
     ]
    },
    {
     "name": "stdout",
     "output_type": "stream",
     "text": [
      "Saving results in \\\\dk-server.dk.ucsd.edu\\afassihizakeri\\Topviewmovies\\ar35motor\\2022_02_04...\n",
      "Saving csv poses!\n",
      "Starting to analyze %  \\\\dk-server.dk.ucsd.edu\\afassihizakeri\\Topviewmovies\\ar35motor\\2022_02_04\\86video.mp4\n",
      "Loading  \\\\dk-server.dk.ucsd.edu\\afassihizakeri\\Topviewmovies\\ar35motor\\2022_02_04\\86video.mp4\n",
      "Duration of video [s]:  12.5 , recorded with  40.0 fps!\n",
      "Overall # of frames:  500  found with (before cropping) frame dimensions:  1440 484\n",
      "Starting to extract posture\n"
     ]
    },
    {
     "name": "stderr",
     "output_type": "stream",
     "text": [
      "510it [05:52,  1.45it/s]                                                                                               \n"
     ]
    },
    {
     "name": "stdout",
     "output_type": "stream",
     "text": [
      "Saving results in \\\\dk-server.dk.ucsd.edu\\afassihizakeri\\Topviewmovies\\ar35motor\\2022_02_04...\n",
      "Saving csv poses!\n",
      "Starting to analyze %  \\\\dk-server.dk.ucsd.edu\\afassihizakeri\\Topviewmovies\\ar35motor\\2022_02_04\\89video.mp4\n",
      "Loading  \\\\dk-server.dk.ucsd.edu\\afassihizakeri\\Topviewmovies\\ar35motor\\2022_02_04\\89video.mp4\n",
      "Duration of video [s]:  12.5 , recorded with  40.0 fps!\n",
      "Overall # of frames:  500  found with (before cropping) frame dimensions:  1440 484\n",
      "Starting to extract posture\n"
     ]
    },
    {
     "name": "stderr",
     "output_type": "stream",
     "text": [
      "510it [05:52,  1.45it/s]                                                                                               \n"
     ]
    },
    {
     "name": "stdout",
     "output_type": "stream",
     "text": [
      "Saving results in \\\\dk-server.dk.ucsd.edu\\afassihizakeri\\Topviewmovies\\ar35motor\\2022_02_04...\n",
      "Saving csv poses!\n",
      "Starting to analyze %  \\\\dk-server.dk.ucsd.edu\\afassihizakeri\\Topviewmovies\\ar35motor\\2022_02_04\\217video.mp4\n",
      "Loading  \\\\dk-server.dk.ucsd.edu\\afassihizakeri\\Topviewmovies\\ar35motor\\2022_02_04\\217video.mp4\n",
      "Duration of video [s]:  12.5 , recorded with  40.0 fps!\n",
      "Overall # of frames:  500  found with (before cropping) frame dimensions:  1440 484\n",
      "Starting to extract posture\n"
     ]
    },
    {
     "name": "stderr",
     "output_type": "stream",
     "text": [
      "510it [05:53,  1.44it/s]                                                                                               \n"
     ]
    },
    {
     "name": "stdout",
     "output_type": "stream",
     "text": [
      "Saving results in \\\\dk-server.dk.ucsd.edu\\afassihizakeri\\Topviewmovies\\ar35motor\\2022_02_04...\n",
      "Saving csv poses!\n",
      "Starting to analyze %  \\\\dk-server.dk.ucsd.edu\\afassihizakeri\\Topviewmovies\\ar35motor\\2022_02_04\\60video.mp4\n",
      "Loading  \\\\dk-server.dk.ucsd.edu\\afassihizakeri\\Topviewmovies\\ar35motor\\2022_02_04\\60video.mp4\n",
      "Duration of video [s]:  12.5 , recorded with  40.0 fps!\n",
      "Overall # of frames:  500  found with (before cropping) frame dimensions:  1440 484\n",
      "Starting to extract posture\n"
     ]
    },
    {
     "name": "stderr",
     "output_type": "stream",
     "text": [
      "510it [05:52,  1.44it/s]                                                                                               \n"
     ]
    },
    {
     "name": "stdout",
     "output_type": "stream",
     "text": [
      "Saving results in \\\\dk-server.dk.ucsd.edu\\afassihizakeri\\Topviewmovies\\ar35motor\\2022_02_04...\n",
      "Saving csv poses!\n",
      "Starting to analyze %  \\\\dk-server.dk.ucsd.edu\\afassihizakeri\\Topviewmovies\\ar35motor\\2022_02_04\\115video.mp4\n",
      "Loading  \\\\dk-server.dk.ucsd.edu\\afassihizakeri\\Topviewmovies\\ar35motor\\2022_02_04\\115video.mp4\n",
      "Duration of video [s]:  12.5 , recorded with  40.0 fps!\n",
      "Overall # of frames:  500  found with (before cropping) frame dimensions:  1440 484\n",
      "Starting to extract posture\n"
     ]
    },
    {
     "name": "stderr",
     "output_type": "stream",
     "text": [
      "510it [05:52,  1.45it/s]                                                                                               \n"
     ]
    },
    {
     "name": "stdout",
     "output_type": "stream",
     "text": [
      "Saving results in \\\\dk-server.dk.ucsd.edu\\afassihizakeri\\Topviewmovies\\ar35motor\\2022_02_04...\n",
      "Saving csv poses!\n",
      "Starting to analyze %  \\\\dk-server.dk.ucsd.edu\\afassihizakeri\\Topviewmovies\\ar35motor\\2022_02_04\\218video.mp4\n",
      "Loading  \\\\dk-server.dk.ucsd.edu\\afassihizakeri\\Topviewmovies\\ar35motor\\2022_02_04\\218video.mp4\n",
      "Duration of video [s]:  12.5 , recorded with  40.0 fps!\n",
      "Overall # of frames:  500  found with (before cropping) frame dimensions:  1440 484\n",
      "Starting to extract posture\n"
     ]
    },
    {
     "name": "stderr",
     "output_type": "stream",
     "text": [
      "510it [05:53,  1.44it/s]                                                                                               \n"
     ]
    },
    {
     "name": "stdout",
     "output_type": "stream",
     "text": [
      "Saving results in \\\\dk-server.dk.ucsd.edu\\afassihizakeri\\Topviewmovies\\ar35motor\\2022_02_04...\n",
      "Saving csv poses!\n",
      "Starting to analyze %  \\\\dk-server.dk.ucsd.edu\\afassihizakeri\\Topviewmovies\\ar35motor\\2022_02_04\\28video.mp4\n",
      "Loading  \\\\dk-server.dk.ucsd.edu\\afassihizakeri\\Topviewmovies\\ar35motor\\2022_02_04\\28video.mp4\n",
      "Duration of video [s]:  12.5 , recorded with  40.0 fps!\n",
      "Overall # of frames:  500  found with (before cropping) frame dimensions:  1440 484\n",
      "Starting to extract posture\n"
     ]
    },
    {
     "name": "stderr",
     "output_type": "stream",
     "text": [
      "510it [05:52,  1.45it/s]                                                                                               \n"
     ]
    },
    {
     "name": "stdout",
     "output_type": "stream",
     "text": [
      "Saving results in \\\\dk-server.dk.ucsd.edu\\afassihizakeri\\Topviewmovies\\ar35motor\\2022_02_04...\n",
      "Saving csv poses!\n",
      "Starting to analyze %  \\\\dk-server.dk.ucsd.edu\\afassihizakeri\\Topviewmovies\\ar35motor\\2022_02_04\\152video.mp4\n",
      "Loading  \\\\dk-server.dk.ucsd.edu\\afassihizakeri\\Topviewmovies\\ar35motor\\2022_02_04\\152video.mp4\n",
      "Duration of video [s]:  12.5 , recorded with  40.0 fps!\n",
      "Overall # of frames:  500  found with (before cropping) frame dimensions:  1440 484\n",
      "Starting to extract posture\n"
     ]
    },
    {
     "name": "stderr",
     "output_type": "stream",
     "text": [
      "510it [05:52,  1.45it/s]                                                                                               \n"
     ]
    },
    {
     "name": "stdout",
     "output_type": "stream",
     "text": [
      "Saving results in \\\\dk-server.dk.ucsd.edu\\afassihizakeri\\Topviewmovies\\ar35motor\\2022_02_04...\n",
      "Saving csv poses!\n",
      "Starting to analyze %  \\\\dk-server.dk.ucsd.edu\\afassihizakeri\\Topviewmovies\\ar35motor\\2022_02_04\\27video.mp4\n",
      "Loading  \\\\dk-server.dk.ucsd.edu\\afassihizakeri\\Topviewmovies\\ar35motor\\2022_02_04\\27video.mp4\n",
      "Duration of video [s]:  12.5 , recorded with  40.0 fps!\n",
      "Overall # of frames:  500  found with (before cropping) frame dimensions:  1440 484\n",
      "Starting to extract posture\n"
     ]
    },
    {
     "name": "stderr",
     "output_type": "stream",
     "text": [
      "510it [05:52,  1.45it/s]                                                                                               \n"
     ]
    },
    {
     "name": "stdout",
     "output_type": "stream",
     "text": [
      "Saving results in \\\\dk-server.dk.ucsd.edu\\afassihizakeri\\Topviewmovies\\ar35motor\\2022_02_04...\n",
      "Saving csv poses!\n",
      "Starting to analyze %  \\\\dk-server.dk.ucsd.edu\\afassihizakeri\\Topviewmovies\\ar35motor\\2022_02_04\\250video.mp4\n",
      "Loading  \\\\dk-server.dk.ucsd.edu\\afassihizakeri\\Topviewmovies\\ar35motor\\2022_02_04\\250video.mp4\n",
      "Duration of video [s]:  12.5 , recorded with  40.0 fps!\n",
      "Overall # of frames:  500  found with (before cropping) frame dimensions:  1440 484\n",
      "Starting to extract posture\n"
     ]
    },
    {
     "name": "stderr",
     "output_type": "stream",
     "text": [
      "510it [05:52,  1.45it/s]                                                                                               \n"
     ]
    },
    {
     "name": "stdout",
     "output_type": "stream",
     "text": [
      "Saving results in \\\\dk-server.dk.ucsd.edu\\afassihizakeri\\Topviewmovies\\ar35motor\\2022_02_04...\n",
      "Saving csv poses!\n",
      "Starting to analyze %  \\\\dk-server.dk.ucsd.edu\\afassihizakeri\\Topviewmovies\\ar35motor\\2022_02_04\\99video.mp4\n",
      "Loading  \\\\dk-server.dk.ucsd.edu\\afassihizakeri\\Topviewmovies\\ar35motor\\2022_02_04\\99video.mp4\n",
      "Duration of video [s]:  12.5 , recorded with  40.0 fps!\n",
      "Overall # of frames:  500  found with (before cropping) frame dimensions:  1440 484\n",
      "Starting to extract posture\n"
     ]
    },
    {
     "name": "stderr",
     "output_type": "stream",
     "text": [
      "510it [05:52,  1.45it/s]                                                                                               \n"
     ]
    },
    {
     "name": "stdout",
     "output_type": "stream",
     "text": [
      "Saving results in \\\\dk-server.dk.ucsd.edu\\afassihizakeri\\Topviewmovies\\ar35motor\\2022_02_04...\n",
      "Saving csv poses!\n",
      "Starting to analyze %  \\\\dk-server.dk.ucsd.edu\\afassihizakeri\\Topviewmovies\\ar35motor\\2022_02_04\\96video.mp4\n",
      "Loading  \\\\dk-server.dk.ucsd.edu\\afassihizakeri\\Topviewmovies\\ar35motor\\2022_02_04\\96video.mp4\n",
      "Duration of video [s]:  12.5 , recorded with  40.0 fps!\n",
      "Overall # of frames:  500  found with (before cropping) frame dimensions:  1440 484\n",
      "Starting to extract posture\n"
     ]
    },
    {
     "name": "stderr",
     "output_type": "stream",
     "text": [
      "510it [05:52,  1.45it/s]                                                                                               \n"
     ]
    },
    {
     "name": "stdout",
     "output_type": "stream",
     "text": [
      "Saving results in \\\\dk-server.dk.ucsd.edu\\afassihizakeri\\Topviewmovies\\ar35motor\\2022_02_04...\n",
      "Saving csv poses!\n",
      "Starting to analyze %  \\\\dk-server.dk.ucsd.edu\\afassihizakeri\\Topviewmovies\\ar35motor\\2022_02_04\\105video.mp4\n",
      "Loading  \\\\dk-server.dk.ucsd.edu\\afassihizakeri\\Topviewmovies\\ar35motor\\2022_02_04\\105video.mp4\n",
      "Duration of video [s]:  12.5 , recorded with  40.0 fps!\n",
      "Overall # of frames:  500  found with (before cropping) frame dimensions:  1440 484\n",
      "Starting to extract posture\n"
     ]
    },
    {
     "name": "stderr",
     "output_type": "stream",
     "text": [
      "510it [05:53,  1.44it/s]                                                                                               \n"
     ]
    },
    {
     "name": "stdout",
     "output_type": "stream",
     "text": [
      "Saving results in \\\\dk-server.dk.ucsd.edu\\afassihizakeri\\Topviewmovies\\ar35motor\\2022_02_04...\n",
      "Saving csv poses!\n",
      "Starting to analyze %  \\\\dk-server.dk.ucsd.edu\\afassihizakeri\\Topviewmovies\\ar35motor\\2022_02_04\\208video.mp4\n",
      "Loading  \\\\dk-server.dk.ucsd.edu\\afassihizakeri\\Topviewmovies\\ar35motor\\2022_02_04\\208video.mp4\n",
      "Duration of video [s]:  12.5 , recorded with  40.0 fps!\n",
      "Overall # of frames:  500  found with (before cropping) frame dimensions:  1440 484\n",
      "Starting to extract posture\n"
     ]
    },
    {
     "name": "stderr",
     "output_type": "stream",
     "text": [
      "510it [05:52,  1.44it/s]                                                                                               \n"
     ]
    },
    {
     "name": "stdout",
     "output_type": "stream",
     "text": [
      "Saving results in \\\\dk-server.dk.ucsd.edu\\afassihizakeri\\Topviewmovies\\ar35motor\\2022_02_04...\n",
      "Saving csv poses!\n",
      "Starting to analyze %  \\\\dk-server.dk.ucsd.edu\\afassihizakeri\\Topviewmovies\\ar35motor\\2022_02_04\\70video.mp4\n",
      "Loading  \\\\dk-server.dk.ucsd.edu\\afassihizakeri\\Topviewmovies\\ar35motor\\2022_02_04\\70video.mp4\n",
      "Duration of video [s]:  12.5 , recorded with  40.0 fps!\n",
      "Overall # of frames:  500  found with (before cropping) frame dimensions:  1440 484\n",
      "Starting to extract posture\n"
     ]
    },
    {
     "name": "stderr",
     "output_type": "stream",
     "text": [
      "510it [05:51,  1.45it/s]                                                                                               \n"
     ]
    },
    {
     "name": "stdout",
     "output_type": "stream",
     "text": [
      "Saving results in \\\\dk-server.dk.ucsd.edu\\afassihizakeri\\Topviewmovies\\ar35motor\\2022_02_04...\n",
      "Saving csv poses!\n",
      "Starting to analyze %  \\\\dk-server.dk.ucsd.edu\\afassihizakeri\\Topviewmovies\\ar35motor\\2022_02_04\\207video.mp4\n",
      "Loading  \\\\dk-server.dk.ucsd.edu\\afassihizakeri\\Topviewmovies\\ar35motor\\2022_02_04\\207video.mp4\n",
      "Duration of video [s]:  12.5 , recorded with  40.0 fps!\n",
      "Overall # of frames:  500  found with (before cropping) frame dimensions:  1440 484\n",
      "Starting to extract posture\n"
     ]
    },
    {
     "name": "stderr",
     "output_type": "stream",
     "text": [
      "510it [05:53,  1.44it/s]                                                                                               \n"
     ]
    },
    {
     "name": "stdout",
     "output_type": "stream",
     "text": [
      "Saving results in \\\\dk-server.dk.ucsd.edu\\afassihizakeri\\Topviewmovies\\ar35motor\\2022_02_04...\n",
      "Saving csv poses!\n",
      "Starting to analyze %  \\\\dk-server.dk.ucsd.edu\\afassihizakeri\\Topviewmovies\\ar35motor\\2022_02_04\\184video.mp4\n",
      "Loading  \\\\dk-server.dk.ucsd.edu\\afassihizakeri\\Topviewmovies\\ar35motor\\2022_02_04\\184video.mp4\n",
      "Duration of video [s]:  12.5 , recorded with  40.0 fps!\n",
      "Overall # of frames:  500  found with (before cropping) frame dimensions:  1440 484\n",
      "Starting to extract posture\n"
     ]
    },
    {
     "name": "stderr",
     "output_type": "stream",
     "text": [
      "510it [05:51,  1.45it/s]                                                                                               \n"
     ]
    },
    {
     "name": "stdout",
     "output_type": "stream",
     "text": [
      "Saving results in \\\\dk-server.dk.ucsd.edu\\afassihizakeri\\Topviewmovies\\ar35motor\\2022_02_04...\n",
      "Saving csv poses!\n",
      "Starting to analyze %  \\\\dk-server.dk.ucsd.edu\\afassihizakeri\\Topviewmovies\\ar35motor\\2022_02_04\\289video.mp4\n",
      "Loading  \\\\dk-server.dk.ucsd.edu\\afassihizakeri\\Topviewmovies\\ar35motor\\2022_02_04\\289video.mp4\n",
      "Duration of video [s]:  12.5 , recorded with  40.0 fps!\n",
      "Overall # of frames:  500  found with (before cropping) frame dimensions:  1440 484\n",
      "Starting to extract posture\n"
     ]
    },
    {
     "name": "stderr",
     "output_type": "stream",
     "text": [
      "510it [05:52,  1.44it/s]                                                                                               \n"
     ]
    },
    {
     "name": "stdout",
     "output_type": "stream",
     "text": [
      "Saving results in \\\\dk-server.dk.ucsd.edu\\afassihizakeri\\Topviewmovies\\ar35motor\\2022_02_04...\n",
      "Saving csv poses!\n",
      "Starting to analyze %  \\\\dk-server.dk.ucsd.edu\\afassihizakeri\\Topviewmovies\\ar35motor\\2022_02_04\\286video.mp4\n",
      "Loading  \\\\dk-server.dk.ucsd.edu\\afassihizakeri\\Topviewmovies\\ar35motor\\2022_02_04\\286video.mp4\n",
      "Duration of video [s]:  12.5 , recorded with  40.0 fps!\n",
      "Overall # of frames:  500  found with (before cropping) frame dimensions:  1440 484\n",
      "Starting to extract posture\n"
     ]
    },
    {
     "name": "stderr",
     "output_type": "stream",
     "text": [
      "510it [05:52,  1.45it/s]                                                                                               \n"
     ]
    },
    {
     "name": "stdout",
     "output_type": "stream",
     "text": [
      "Saving results in \\\\dk-server.dk.ucsd.edu\\afassihizakeri\\Topviewmovies\\ar35motor\\2022_02_04...\n",
      "Saving csv poses!\n",
      "Starting to analyze %  \\\\dk-server.dk.ucsd.edu\\afassihizakeri\\Topviewmovies\\ar35motor\\2022_02_04\\162video.mp4\n",
      "Loading  \\\\dk-server.dk.ucsd.edu\\afassihizakeri\\Topviewmovies\\ar35motor\\2022_02_04\\162video.mp4\n",
      "Duration of video [s]:  12.5 , recorded with  40.0 fps!\n",
      "Overall # of frames:  500  found with (before cropping) frame dimensions:  1440 484\n",
      "Starting to extract posture\n"
     ]
    },
    {
     "name": "stderr",
     "output_type": "stream",
     "text": [
      "510it [05:53,  1.44it/s]                                                                                               \n"
     ]
    },
    {
     "name": "stdout",
     "output_type": "stream",
     "text": [
      "Saving results in \\\\dk-server.dk.ucsd.edu\\afassihizakeri\\Topviewmovies\\ar35motor\\2022_02_04...\n",
      "Saving csv poses!\n",
      "Starting to analyze %  \\\\dk-server.dk.ucsd.edu\\afassihizakeri\\Topviewmovies\\ar35motor\\2022_02_04\\18video.mp4\n",
      "Loading  \\\\dk-server.dk.ucsd.edu\\afassihizakeri\\Topviewmovies\\ar35motor\\2022_02_04\\18video.mp4\n",
      "Duration of video [s]:  12.5 , recorded with  40.0 fps!\n",
      "Overall # of frames:  500  found with (before cropping) frame dimensions:  1440 484\n",
      "Starting to extract posture\n"
     ]
    },
    {
     "name": "stderr",
     "output_type": "stream",
     "text": [
      "510it [05:52,  1.45it/s]                                                                                               \n"
     ]
    },
    {
     "name": "stdout",
     "output_type": "stream",
     "text": [
      "Saving results in \\\\dk-server.dk.ucsd.edu\\afassihizakeri\\Topviewmovies\\ar35motor\\2022_02_04...\n",
      "Saving csv poses!\n",
      "Starting to analyze %  \\\\dk-server.dk.ucsd.edu\\afassihizakeri\\Topviewmovies\\ar35motor\\2022_02_04\\260video.mp4\n",
      "Loading  \\\\dk-server.dk.ucsd.edu\\afassihizakeri\\Topviewmovies\\ar35motor\\2022_02_04\\260video.mp4\n",
      "Duration of video [s]:  12.5 , recorded with  40.0 fps!\n",
      "Overall # of frames:  500  found with (before cropping) frame dimensions:  1440 484\n",
      "Starting to extract posture\n"
     ]
    },
    {
     "name": "stderr",
     "output_type": "stream",
     "text": [
      "510it [05:53,  1.44it/s]                                                                                               \n"
     ]
    },
    {
     "name": "stdout",
     "output_type": "stream",
     "text": [
      "Saving results in \\\\dk-server.dk.ucsd.edu\\afassihizakeri\\Topviewmovies\\ar35motor\\2022_02_04...\n",
      "Saving csv poses!\n",
      "Starting to analyze %  \\\\dk-server.dk.ucsd.edu\\afassihizakeri\\Topviewmovies\\ar35motor\\2022_02_04\\17video.mp4\n",
      "Loading  \\\\dk-server.dk.ucsd.edu\\afassihizakeri\\Topviewmovies\\ar35motor\\2022_02_04\\17video.mp4\n",
      "Duration of video [s]:  12.5 , recorded with  40.0 fps!\n",
      "Overall # of frames:  500  found with (before cropping) frame dimensions:  1440 484\n",
      "Starting to extract posture\n"
     ]
    },
    {
     "name": "stderr",
     "output_type": "stream",
     "text": [
      "510it [05:52,  1.45it/s]                                                                                               \n"
     ]
    },
    {
     "name": "stdout",
     "output_type": "stream",
     "text": [
      "Saving results in \\\\dk-server.dk.ucsd.edu\\afassihizakeri\\Topviewmovies\\ar35motor\\2022_02_04...\n",
      "Saving csv poses!\n",
      "Starting to analyze %  \\\\dk-server.dk.ucsd.edu\\afassihizakeri\\Topviewmovies\\ar35motor\\2022_02_04\\238video.mp4\n",
      "Loading  \\\\dk-server.dk.ucsd.edu\\afassihizakeri\\Topviewmovies\\ar35motor\\2022_02_04\\238video.mp4\n",
      "Duration of video [s]:  12.5 , recorded with  40.0 fps!\n",
      "Overall # of frames:  500  found with (before cropping) frame dimensions:  1440 484\n",
      "Starting to extract posture\n"
     ]
    },
    {
     "name": "stderr",
     "output_type": "stream",
     "text": [
      "510it [05:53,  1.44it/s]                                                                                               \n"
     ]
    },
    {
     "name": "stdout",
     "output_type": "stream",
     "text": [
      "Saving results in \\\\dk-server.dk.ucsd.edu\\afassihizakeri\\Topviewmovies\\ar35motor\\2022_02_04...\n",
      "Saving csv poses!\n",
      "Starting to analyze %  \\\\dk-server.dk.ucsd.edu\\afassihizakeri\\Topviewmovies\\ar35motor\\2022_02_04\\135video.mp4\n",
      "Loading  \\\\dk-server.dk.ucsd.edu\\afassihizakeri\\Topviewmovies\\ar35motor\\2022_02_04\\135video.mp4\n",
      "Duration of video [s]:  12.5 , recorded with  40.0 fps!\n",
      "Overall # of frames:  500  found with (before cropping) frame dimensions:  1440 484\n",
      "Starting to extract posture\n"
     ]
    },
    {
     "name": "stderr",
     "output_type": "stream",
     "text": [
      "510it [05:51,  1.45it/s]                                                                                               \n"
     ]
    },
    {
     "name": "stdout",
     "output_type": "stream",
     "text": [
      "Saving results in \\\\dk-server.dk.ucsd.edu\\afassihizakeri\\Topviewmovies\\ar35motor\\2022_02_04...\n",
      "Saving csv poses!\n",
      "Starting to analyze %  \\\\dk-server.dk.ucsd.edu\\afassihizakeri\\Topviewmovies\\ar35motor\\2022_02_04\\237video.mp4\n",
      "Loading  \\\\dk-server.dk.ucsd.edu\\afassihizakeri\\Topviewmovies\\ar35motor\\2022_02_04\\237video.mp4\n",
      "Duration of video [s]:  12.5 , recorded with  40.0 fps!\n",
      "Overall # of frames:  500  found with (before cropping) frame dimensions:  1440 484\n",
      "Starting to extract posture\n"
     ]
    },
    {
     "name": "stderr",
     "output_type": "stream",
     "text": [
      "510it [05:52,  1.45it/s]                                                                                               \n"
     ]
    },
    {
     "name": "stdout",
     "output_type": "stream",
     "text": [
      "Saving results in \\\\dk-server.dk.ucsd.edu\\afassihizakeri\\Topviewmovies\\ar35motor\\2022_02_04...\n",
      "Saving csv poses!\n",
      "Starting to analyze %  \\\\dk-server.dk.ucsd.edu\\afassihizakeri\\Topviewmovies\\ar35motor\\2022_02_04\\40video.mp4\n",
      "Loading  \\\\dk-server.dk.ucsd.edu\\afassihizakeri\\Topviewmovies\\ar35motor\\2022_02_04\\40video.mp4\n",
      "Duration of video [s]:  12.5 , recorded with  40.0 fps!\n",
      "Overall # of frames:  500  found with (before cropping) frame dimensions:  1440 484\n",
      "Starting to extract posture\n"
     ]
    },
    {
     "name": "stderr",
     "output_type": "stream",
     "text": [
      "510it [05:52,  1.45it/s]                                                                                               \n"
     ]
    },
    {
     "name": "stdout",
     "output_type": "stream",
     "text": [
      "Saving results in \\\\dk-server.dk.ucsd.edu\\afassihizakeri\\Topviewmovies\\ar35motor\\2022_02_04...\n",
      "Saving csv poses!\n",
      "Starting to analyze %  \\\\dk-server.dk.ucsd.edu\\afassihizakeri\\Topviewmovies\\ar35motor\\2022_02_04\\304video.mp4\n",
      "Loading  \\\\dk-server.dk.ucsd.edu\\afassihizakeri\\Topviewmovies\\ar35motor\\2022_02_04\\304video.mp4\n",
      "Duration of video [s]:  12.5 , recorded with  40.0 fps!\n",
      "Overall # of frames:  500  found with (before cropping) frame dimensions:  1440 484\n",
      "Starting to extract posture\n"
     ]
    },
    {
     "name": "stderr",
     "output_type": "stream",
     "text": [
      "510it [05:52,  1.45it/s]                                                                                               \n"
     ]
    },
    {
     "name": "stdout",
     "output_type": "stream",
     "text": [
      "Saving results in \\\\dk-server.dk.ucsd.edu\\afassihizakeri\\Topviewmovies\\ar35motor\\2022_02_04...\n",
      "Saving csv poses!\n",
      "Starting to analyze %  \\\\dk-server.dk.ucsd.edu\\afassihizakeri\\Topviewmovies\\ar35motor\\2022_02_04\\296video.mp4\n",
      "Loading  \\\\dk-server.dk.ucsd.edu\\afassihizakeri\\Topviewmovies\\ar35motor\\2022_02_04\\296video.mp4\n",
      "Duration of video [s]:  12.5 , recorded with  40.0 fps!\n",
      "Overall # of frames:  500  found with (before cropping) frame dimensions:  1440 484\n",
      "Starting to extract posture\n"
     ]
    },
    {
     "name": "stderr",
     "output_type": "stream",
     "text": [
      "510it [05:52,  1.45it/s]                                                                                               \n"
     ]
    },
    {
     "name": "stdout",
     "output_type": "stream",
     "text": [
      "Saving results in \\\\dk-server.dk.ucsd.edu\\afassihizakeri\\Topviewmovies\\ar35motor\\2022_02_04...\n",
      "Saving csv poses!\n",
      "Starting to analyze %  \\\\dk-server.dk.ucsd.edu\\afassihizakeri\\Topviewmovies\\ar35motor\\2022_02_04\\194video.mp4\n",
      "Loading  \\\\dk-server.dk.ucsd.edu\\afassihizakeri\\Topviewmovies\\ar35motor\\2022_02_04\\194video.mp4\n",
      "Duration of video [s]:  12.5 , recorded with  40.0 fps!\n",
      "Overall # of frames:  500  found with (before cropping) frame dimensions:  1440 484\n",
      "Starting to extract posture\n"
     ]
    },
    {
     "name": "stderr",
     "output_type": "stream",
     "text": [
      "510it [05:52,  1.45it/s]                                                                                               \n"
     ]
    },
    {
     "name": "stdout",
     "output_type": "stream",
     "text": [
      "Saving results in \\\\dk-server.dk.ucsd.edu\\afassihizakeri\\Topviewmovies\\ar35motor\\2022_02_04...\n",
      "Saving csv poses!\n",
      "Starting to analyze %  \\\\dk-server.dk.ucsd.edu\\afassihizakeri\\Topviewmovies\\ar35motor\\2022_02_04\\299video.mp4\n",
      "Loading  \\\\dk-server.dk.ucsd.edu\\afassihizakeri\\Topviewmovies\\ar35motor\\2022_02_04\\299video.mp4\n",
      "Duration of video [s]:  12.5 , recorded with  40.0 fps!\n",
      "Overall # of frames:  500  found with (before cropping) frame dimensions:  1440 484\n",
      "Starting to extract posture\n"
     ]
    },
    {
     "name": "stderr",
     "output_type": "stream",
     "text": [
      "510it [05:52,  1.45it/s]                                                                                               \n"
     ]
    },
    {
     "name": "stdout",
     "output_type": "stream",
     "text": [
      "Saving results in \\\\dk-server.dk.ucsd.edu\\afassihizakeri\\Topviewmovies\\ar35motor\\2022_02_04...\n",
      "Saving csv poses!\n",
      "Starting to analyze %  \\\\dk-server.dk.ucsd.edu\\afassihizakeri\\Topviewmovies\\ar35motor\\2022_02_04\\270video.mp4\n",
      "Loading  \\\\dk-server.dk.ucsd.edu\\afassihizakeri\\Topviewmovies\\ar35motor\\2022_02_04\\270video.mp4\n",
      "Duration of video [s]:  12.5 , recorded with  40.0 fps!\n",
      "Overall # of frames:  500  found with (before cropping) frame dimensions:  1440 484\n",
      "Starting to extract posture\n"
     ]
    },
    {
     "name": "stderr",
     "output_type": "stream",
     "text": [
      "510it [05:53,  1.44it/s]                                                                                               \n"
     ]
    },
    {
     "name": "stdout",
     "output_type": "stream",
     "text": [
      "Saving results in \\\\dk-server.dk.ucsd.edu\\afassihizakeri\\Topviewmovies\\ar35motor\\2022_02_04...\n",
      "Saving csv poses!\n",
      "Starting to analyze %  \\\\dk-server.dk.ucsd.edu\\afassihizakeri\\Topviewmovies\\ar35motor\\2022_02_04\\172video.mp4\n",
      "Loading  \\\\dk-server.dk.ucsd.edu\\afassihizakeri\\Topviewmovies\\ar35motor\\2022_02_04\\172video.mp4\n",
      "Duration of video [s]:  12.5 , recorded with  40.0 fps!\n",
      "Overall # of frames:  500  found with (before cropping) frame dimensions:  1440 484\n",
      "Starting to extract posture\n"
     ]
    },
    {
     "name": "stderr",
     "output_type": "stream",
     "text": [
      "510it [05:52,  1.45it/s]                                                                                               \n"
     ]
    },
    {
     "name": "stdout",
     "output_type": "stream",
     "text": [
      "Saving results in \\\\dk-server.dk.ucsd.edu\\afassihizakeri\\Topviewmovies\\ar35motor\\2022_02_04...\n",
      "Saving csv poses!\n",
      "Starting to analyze %  \\\\dk-server.dk.ucsd.edu\\afassihizakeri\\Topviewmovies\\ar35motor\\2022_02_04\\50video.mp4\n",
      "Loading  \\\\dk-server.dk.ucsd.edu\\afassihizakeri\\Topviewmovies\\ar35motor\\2022_02_04\\50video.mp4\n",
      "Duration of video [s]:  12.5 , recorded with  40.0 fps!\n",
      "Overall # of frames:  500  found with (before cropping) frame dimensions:  1440 484\n",
      "Starting to extract posture\n"
     ]
    },
    {
     "name": "stderr",
     "output_type": "stream",
     "text": [
      "510it [05:53,  1.44it/s]                                                                                               \n"
     ]
    },
    {
     "name": "stdout",
     "output_type": "stream",
     "text": [
      "Saving results in \\\\dk-server.dk.ucsd.edu\\afassihizakeri\\Topviewmovies\\ar35motor\\2022_02_04...\n",
      "Saving csv poses!\n",
      "Starting to analyze %  \\\\dk-server.dk.ucsd.edu\\afassihizakeri\\Topviewmovies\\ar35motor\\2022_02_04\\227video.mp4\n",
      "Loading  \\\\dk-server.dk.ucsd.edu\\afassihizakeri\\Topviewmovies\\ar35motor\\2022_02_04\\227video.mp4\n",
      "Duration of video [s]:  12.5 , recorded with  40.0 fps!\n",
      "Overall # of frames:  500  found with (before cropping) frame dimensions:  1440 484\n",
      "Starting to extract posture\n"
     ]
    },
    {
     "name": "stderr",
     "output_type": "stream",
     "text": [
      "510it [05:52,  1.45it/s]                                                                                               \n"
     ]
    },
    {
     "name": "stdout",
     "output_type": "stream",
     "text": [
      "Saving results in \\\\dk-server.dk.ucsd.edu\\afassihizakeri\\Topviewmovies\\ar35motor\\2022_02_04...\n",
      "Saving csv poses!\n",
      "Starting to analyze %  \\\\dk-server.dk.ucsd.edu\\afassihizakeri\\Topviewmovies\\ar35motor\\2022_02_04\\228video.mp4\n",
      "Loading  \\\\dk-server.dk.ucsd.edu\\afassihizakeri\\Topviewmovies\\ar35motor\\2022_02_04\\228video.mp4\n",
      "Duration of video [s]:  12.5 , recorded with  40.0 fps!\n",
      "Overall # of frames:  500  found with (before cropping) frame dimensions:  1440 484\n",
      "Starting to extract posture\n"
     ]
    },
    {
     "name": "stderr",
     "output_type": "stream",
     "text": [
      "510it [05:52,  1.45it/s]                                                                                               \n"
     ]
    },
    {
     "name": "stdout",
     "output_type": "stream",
     "text": [
      "Saving results in \\\\dk-server.dk.ucsd.edu\\afassihizakeri\\Topviewmovies\\ar35motor\\2022_02_04...\n",
      "Saving csv poses!\n",
      "Starting to analyze %  \\\\dk-server.dk.ucsd.edu\\afassihizakeri\\Topviewmovies\\ar35motor\\2022_02_04\\125video.mp4\n",
      "Loading  \\\\dk-server.dk.ucsd.edu\\afassihizakeri\\Topviewmovies\\ar35motor\\2022_02_04\\125video.mp4\n",
      "Duration of video [s]:  12.5 , recorded with  40.0 fps!\n",
      "Overall # of frames:  500  found with (before cropping) frame dimensions:  1440 484\n",
      "Starting to extract posture\n"
     ]
    },
    {
     "name": "stderr",
     "output_type": "stream",
     "text": [
      "510it [05:53,  1.44it/s]                                                                                               \n"
     ]
    },
    {
     "name": "stdout",
     "output_type": "stream",
     "text": [
      "Saving results in \\\\dk-server.dk.ucsd.edu\\afassihizakeri\\Topviewmovies\\ar35motor\\2022_02_04...\n",
      "Saving csv poses!\n",
      "Starting to analyze %  \\\\dk-server.dk.ucsd.edu\\afassihizakeri\\Topviewmovies\\ar35motor\\2022_02_04\\7video.mp4\n",
      "Loading  \\\\dk-server.dk.ucsd.edu\\afassihizakeri\\Topviewmovies\\ar35motor\\2022_02_04\\7video.mp4\n",
      "Duration of video [s]:  12.5 , recorded with  40.0 fps!\n",
      "Overall # of frames:  500  found with (before cropping) frame dimensions:  1440 484\n",
      "Starting to extract posture\n"
     ]
    },
    {
     "name": "stderr",
     "output_type": "stream",
     "text": [
      "510it [05:52,  1.45it/s]                                                                                               \n"
     ]
    },
    {
     "name": "stdout",
     "output_type": "stream",
     "text": [
      "Saving results in \\\\dk-server.dk.ucsd.edu\\afassihizakeri\\Topviewmovies\\ar35motor\\2022_02_04...\n",
      "Saving csv poses!\n",
      "Starting to analyze %  \\\\dk-server.dk.ucsd.edu\\afassihizakeri\\Topviewmovies\\ar35motor\\2022_02_04\\8video.mp4\n",
      "Loading  \\\\dk-server.dk.ucsd.edu\\afassihizakeri\\Topviewmovies\\ar35motor\\2022_02_04\\8video.mp4\n",
      "Duration of video [s]:  12.5 , recorded with  40.0 fps!\n",
      "Overall # of frames:  500  found with (before cropping) frame dimensions:  1440 484\n",
      "Starting to extract posture\n"
     ]
    },
    {
     "name": "stderr",
     "output_type": "stream",
     "text": [
      "510it [05:52,  1.45it/s]                                                                                               \n"
     ]
    },
    {
     "name": "stdout",
     "output_type": "stream",
     "text": [
      "Saving results in \\\\dk-server.dk.ucsd.edu\\afassihizakeri\\Topviewmovies\\ar35motor\\2022_02_04...\n",
      "Saving csv poses!\n",
      "Starting to analyze %  \\\\dk-server.dk.ucsd.edu\\afassihizakeri\\Topviewmovies\\ar35motor\\2022_02_04\\20video.mp4\n",
      "Loading  \\\\dk-server.dk.ucsd.edu\\afassihizakeri\\Topviewmovies\\ar35motor\\2022_02_04\\20video.mp4\n",
      "Duration of video [s]:  12.5 , recorded with  40.0 fps!\n",
      "Overall # of frames:  500  found with (before cropping) frame dimensions:  1440 484\n",
      "Starting to extract posture\n"
     ]
    },
    {
     "name": "stderr",
     "output_type": "stream",
     "text": [
      "510it [05:52,  1.45it/s]                                                                                               \n"
     ]
    },
    {
     "name": "stdout",
     "output_type": "stream",
     "text": [
      "Saving results in \\\\dk-server.dk.ucsd.edu\\afassihizakeri\\Topviewmovies\\ar35motor\\2022_02_04...\n",
      "Saving csv poses!\n",
      "Starting to analyze %  \\\\dk-server.dk.ucsd.edu\\afassihizakeri\\Topviewmovies\\ar35motor\\2022_02_04\\257video.mp4\n",
      "Loading  \\\\dk-server.dk.ucsd.edu\\afassihizakeri\\Topviewmovies\\ar35motor\\2022_02_04\\257video.mp4\n",
      "Duration of video [s]:  12.5 , recorded with  40.0 fps!\n",
      "Overall # of frames:  500  found with (before cropping) frame dimensions:  1440 484\n",
      "Starting to extract posture\n"
     ]
    },
    {
     "name": "stderr",
     "output_type": "stream",
     "text": [
      "510it [05:51,  1.45it/s]                                                                                               \n"
     ]
    },
    {
     "name": "stdout",
     "output_type": "stream",
     "text": [
      "Saving results in \\\\dk-server.dk.ucsd.edu\\afassihizakeri\\Topviewmovies\\ar35motor\\2022_02_04...\n",
      "Saving csv poses!\n",
      "Starting to analyze %  \\\\dk-server.dk.ucsd.edu\\afassihizakeri\\Topviewmovies\\ar35motor\\2022_02_04\\155video.mp4\n",
      "Loading  \\\\dk-server.dk.ucsd.edu\\afassihizakeri\\Topviewmovies\\ar35motor\\2022_02_04\\155video.mp4\n",
      "Duration of video [s]:  12.5 , recorded with  40.0 fps!\n",
      "Overall # of frames:  500  found with (before cropping) frame dimensions:  1440 484\n",
      "Starting to extract posture\n"
     ]
    },
    {
     "name": "stderr",
     "output_type": "stream",
     "text": [
      "510it [05:53,  1.44it/s]                                                                                               \n"
     ]
    },
    {
     "name": "stdout",
     "output_type": "stream",
     "text": [
      "Saving results in \\\\dk-server.dk.ucsd.edu\\afassihizakeri\\Topviewmovies\\ar35motor\\2022_02_04...\n",
      "Saving csv poses!\n",
      "Starting to analyze %  \\\\dk-server.dk.ucsd.edu\\afassihizakeri\\Topviewmovies\\ar35motor\\2022_02_04\\258video.mp4\n",
      "Loading  \\\\dk-server.dk.ucsd.edu\\afassihizakeri\\Topviewmovies\\ar35motor\\2022_02_04\\258video.mp4\n",
      "Duration of video [s]:  12.5 , recorded with  40.0 fps!\n",
      "Overall # of frames:  500  found with (before cropping) frame dimensions:  1440 484\n",
      "Starting to extract posture\n"
     ]
    },
    {
     "name": "stderr",
     "output_type": "stream",
     "text": [
      "510it [05:51,  1.45it/s]                                                                                               \n"
     ]
    },
    {
     "name": "stdout",
     "output_type": "stream",
     "text": [
      "Saving results in \\\\dk-server.dk.ucsd.edu\\afassihizakeri\\Topviewmovies\\ar35motor\\2022_02_04...\n",
      "Saving csv poses!\n",
      "Starting to analyze %  \\\\dk-server.dk.ucsd.edu\\afassihizakeri\\Topviewmovies\\ar35motor\\2022_02_04\\91video.mp4\n",
      "Loading  \\\\dk-server.dk.ucsd.edu\\afassihizakeri\\Topviewmovies\\ar35motor\\2022_02_04\\91video.mp4\n",
      "Duration of video [s]:  12.5 , recorded with  40.0 fps!\n",
      "Overall # of frames:  500  found with (before cropping) frame dimensions:  1440 484\n",
      "Starting to extract posture\n"
     ]
    },
    {
     "name": "stderr",
     "output_type": "stream",
     "text": [
      "510it [05:53,  1.44it/s]                                                                                               \n"
     ]
    },
    {
     "name": "stdout",
     "output_type": "stream",
     "text": [
      "Saving results in \\\\dk-server.dk.ucsd.edu\\afassihizakeri\\Topviewmovies\\ar35motor\\2022_02_04...\n",
      "Saving csv poses!\n",
      "Starting to analyze %  \\\\dk-server.dk.ucsd.edu\\afassihizakeri\\Topviewmovies\\ar35motor\\2022_02_04\\77video.mp4\n",
      "Loading  \\\\dk-server.dk.ucsd.edu\\afassihizakeri\\Topviewmovies\\ar35motor\\2022_02_04\\77video.mp4\n",
      "Duration of video [s]:  12.5 , recorded with  40.0 fps!\n",
      "Overall # of frames:  500  found with (before cropping) frame dimensions:  1440 484\n",
      "Starting to extract posture\n"
     ]
    },
    {
     "name": "stderr",
     "output_type": "stream",
     "text": [
      "510it [05:52,  1.45it/s]                                                                                               \n"
     ]
    },
    {
     "name": "stdout",
     "output_type": "stream",
     "text": [
      "Saving results in \\\\dk-server.dk.ucsd.edu\\afassihizakeri\\Topviewmovies\\ar35motor\\2022_02_04...\n",
      "Saving csv poses!\n",
      "Starting to analyze %  \\\\dk-server.dk.ucsd.edu\\afassihizakeri\\Topviewmovies\\ar35motor\\2022_02_04\\200video.mp4\n",
      "Loading  \\\\dk-server.dk.ucsd.edu\\afassihizakeri\\Topviewmovies\\ar35motor\\2022_02_04\\200video.mp4\n",
      "Duration of video [s]:  12.5 , recorded with  40.0 fps!\n",
      "Overall # of frames:  500  found with (before cropping) frame dimensions:  1440 484\n",
      "Starting to extract posture\n"
     ]
    },
    {
     "name": "stderr",
     "output_type": "stream",
     "text": [
      "510it [05:53,  1.44it/s]                                                                                               \n"
     ]
    },
    {
     "name": "stdout",
     "output_type": "stream",
     "text": [
      "Saving results in \\\\dk-server.dk.ucsd.edu\\afassihizakeri\\Topviewmovies\\ar35motor\\2022_02_04...\n",
      "Saving csv poses!\n",
      "Starting to analyze %  \\\\dk-server.dk.ucsd.edu\\afassihizakeri\\Topviewmovies\\ar35motor\\2022_02_04\\78video.mp4\n",
      "Loading  \\\\dk-server.dk.ucsd.edu\\afassihizakeri\\Topviewmovies\\ar35motor\\2022_02_04\\78video.mp4\n",
      "Duration of video [s]:  12.5 , recorded with  40.0 fps!\n",
      "Overall # of frames:  500  found with (before cropping) frame dimensions:  1440 484\n",
      "Starting to extract posture\n"
     ]
    },
    {
     "name": "stderr",
     "output_type": "stream",
     "text": [
      "510it [05:53,  1.44it/s]                                                                                               \n"
     ]
    },
    {
     "name": "stdout",
     "output_type": "stream",
     "text": [
      "Saving results in \\\\dk-server.dk.ucsd.edu\\afassihizakeri\\Topviewmovies\\ar35motor\\2022_02_04...\n",
      "Saving csv poses!\n",
      "Starting to analyze %  \\\\dk-server.dk.ucsd.edu\\afassihizakeri\\Topviewmovies\\ar35motor\\2022_02_04\\102video.mp4\n",
      "Loading  \\\\dk-server.dk.ucsd.edu\\afassihizakeri\\Topviewmovies\\ar35motor\\2022_02_04\\102video.mp4\n",
      "Duration of video [s]:  12.5 , recorded with  40.0 fps!\n",
      "Overall # of frames:  500  found with (before cropping) frame dimensions:  1440 484\n",
      "Starting to extract posture\n"
     ]
    },
    {
     "name": "stderr",
     "output_type": "stream",
     "text": [
      "510it [05:52,  1.45it/s]                                                                                               \n"
     ]
    },
    {
     "name": "stdout",
     "output_type": "stream",
     "text": [
      "Saving results in \\\\dk-server.dk.ucsd.edu\\afassihizakeri\\Topviewmovies\\ar35motor\\2022_02_04...\n",
      "Saving csv poses!\n",
      "Starting to analyze %  \\\\dk-server.dk.ucsd.edu\\afassihizakeri\\Topviewmovies\\ar35motor\\2022_02_04\\145video.mp4\n",
      "Loading  \\\\dk-server.dk.ucsd.edu\\afassihizakeri\\Topviewmovies\\ar35motor\\2022_02_04\\145video.mp4\n",
      "Duration of video [s]:  12.5 , recorded with  40.0 fps!\n",
      "Overall # of frames:  500  found with (before cropping) frame dimensions:  1440 484\n",
      "Starting to extract posture\n"
     ]
    },
    {
     "name": "stderr",
     "output_type": "stream",
     "text": [
      "510it [05:57,  1.43it/s]                                                                                               \n"
     ]
    },
    {
     "name": "stdout",
     "output_type": "stream",
     "text": [
      "Saving results in \\\\dk-server.dk.ucsd.edu\\afassihizakeri\\Topviewmovies\\ar35motor\\2022_02_04...\n",
      "Saving csv poses!\n",
      "Starting to analyze %  \\\\dk-server.dk.ucsd.edu\\afassihizakeri\\Topviewmovies\\ar35motor\\2022_02_04\\248video.mp4\n",
      "Loading  \\\\dk-server.dk.ucsd.edu\\afassihizakeri\\Topviewmovies\\ar35motor\\2022_02_04\\248video.mp4\n",
      "Duration of video [s]:  12.5 , recorded with  40.0 fps!\n",
      "Overall # of frames:  500  found with (before cropping) frame dimensions:  1440 484\n",
      "Starting to extract posture\n"
     ]
    },
    {
     "name": "stderr",
     "output_type": "stream",
     "text": [
      "510it [05:54,  1.44it/s]                                                                                               \n"
     ]
    },
    {
     "name": "stdout",
     "output_type": "stream",
     "text": [
      "Saving results in \\\\dk-server.dk.ucsd.edu\\afassihizakeri\\Topviewmovies\\ar35motor\\2022_02_04...\n",
      "Saving csv poses!\n",
      "Starting to analyze %  \\\\dk-server.dk.ucsd.edu\\afassihizakeri\\Topviewmovies\\ar35motor\\2022_02_04\\247video.mp4\n",
      "Loading  \\\\dk-server.dk.ucsd.edu\\afassihizakeri\\Topviewmovies\\ar35motor\\2022_02_04\\247video.mp4\n",
      "Duration of video [s]:  12.5 , recorded with  40.0 fps!\n",
      "Overall # of frames:  500  found with (before cropping) frame dimensions:  1440 484\n",
      "Starting to extract posture\n"
     ]
    },
    {
     "name": "stderr",
     "output_type": "stream",
     "text": [
      "510it [05:52,  1.44it/s]                                                                                               \n"
     ]
    },
    {
     "name": "stdout",
     "output_type": "stream",
     "text": [
      "Saving results in \\\\dk-server.dk.ucsd.edu\\afassihizakeri\\Topviewmovies\\ar35motor\\2022_02_04...\n",
      "Saving csv poses!\n",
      "Starting to analyze %  \\\\dk-server.dk.ucsd.edu\\afassihizakeri\\Topviewmovies\\ar35motor\\2022_02_04\\30video.mp4\n",
      "Loading  \\\\dk-server.dk.ucsd.edu\\afassihizakeri\\Topviewmovies\\ar35motor\\2022_02_04\\30video.mp4\n",
      "Duration of video [s]:  12.5 , recorded with  40.0 fps!\n",
      "Overall # of frames:  500  found with (before cropping) frame dimensions:  1440 484\n",
      "Starting to extract posture\n"
     ]
    },
    {
     "name": "stderr",
     "output_type": "stream",
     "text": [
      "510it [05:52,  1.45it/s]                                                                                               \n"
     ]
    },
    {
     "name": "stdout",
     "output_type": "stream",
     "text": [
      "Saving results in \\\\dk-server.dk.ucsd.edu\\afassihizakeri\\Topviewmovies\\ar35motor\\2022_02_04...\n",
      "Saving csv poses!\n",
      "Starting to analyze %  \\\\dk-server.dk.ucsd.edu\\afassihizakeri\\Topviewmovies\\ar35motor\\2022_02_04\\81video.mp4\n",
      "Loading  \\\\dk-server.dk.ucsd.edu\\afassihizakeri\\Topviewmovies\\ar35motor\\2022_02_04\\81video.mp4\n",
      "Duration of video [s]:  12.5 , recorded with  40.0 fps!\n",
      "Overall # of frames:  500  found with (before cropping) frame dimensions:  1440 484\n",
      "Starting to extract posture\n"
     ]
    },
    {
     "name": "stderr",
     "output_type": "stream",
     "text": [
      "510it [05:52,  1.45it/s]                                                                                               \n"
     ]
    },
    {
     "name": "stdout",
     "output_type": "stream",
     "text": [
      "Saving results in \\\\dk-server.dk.ucsd.edu\\afassihizakeri\\Topviewmovies\\ar35motor\\2022_02_04...\n",
      "Saving csv poses!\n",
      "Starting to analyze %  \\\\dk-server.dk.ucsd.edu\\afassihizakeri\\Topviewmovies\\ar35motor\\2022_02_04\\112video.mp4\n",
      "Loading  \\\\dk-server.dk.ucsd.edu\\afassihizakeri\\Topviewmovies\\ar35motor\\2022_02_04\\112video.mp4\n",
      "Duration of video [s]:  12.5 , recorded with  40.0 fps!\n",
      "Overall # of frames:  500  found with (before cropping) frame dimensions:  1440 484\n",
      "Starting to extract posture\n"
     ]
    },
    {
     "name": "stderr",
     "output_type": "stream",
     "text": [
      "510it [05:52,  1.45it/s]                                                                                               \n"
     ]
    },
    {
     "name": "stdout",
     "output_type": "stream",
     "text": [
      "Saving results in \\\\dk-server.dk.ucsd.edu\\afassihizakeri\\Topviewmovies\\ar35motor\\2022_02_04...\n",
      "Saving csv poses!\n",
      "Starting to analyze %  \\\\dk-server.dk.ucsd.edu\\afassihizakeri\\Topviewmovies\\ar35motor\\2022_02_04\\68video.mp4\n",
      "Loading  \\\\dk-server.dk.ucsd.edu\\afassihizakeri\\Topviewmovies\\ar35motor\\2022_02_04\\68video.mp4\n",
      "Duration of video [s]:  12.5 , recorded with  40.0 fps!\n",
      "Overall # of frames:  500  found with (before cropping) frame dimensions:  1440 484\n",
      "Starting to extract posture\n"
     ]
    },
    {
     "name": "stderr",
     "output_type": "stream",
     "text": [
      "510it [05:53,  1.44it/s]                                                                                               \n"
     ]
    },
    {
     "name": "stdout",
     "output_type": "stream",
     "text": [
      "Saving results in \\\\dk-server.dk.ucsd.edu\\afassihizakeri\\Topviewmovies\\ar35motor\\2022_02_04...\n",
      "Saving csv poses!\n",
      "Starting to analyze %  \\\\dk-server.dk.ucsd.edu\\afassihizakeri\\Topviewmovies\\ar35motor\\2022_02_04\\210video.mp4\n",
      "Loading  \\\\dk-server.dk.ucsd.edu\\afassihizakeri\\Topviewmovies\\ar35motor\\2022_02_04\\210video.mp4\n",
      "Duration of video [s]:  12.5 , recorded with  40.0 fps!\n",
      "Overall # of frames:  500  found with (before cropping) frame dimensions:  1440 484\n",
      "Starting to extract posture\n"
     ]
    },
    {
     "name": "stderr",
     "output_type": "stream",
     "text": [
      "510it [05:52,  1.45it/s]                                                                                               \n"
     ]
    },
    {
     "name": "stdout",
     "output_type": "stream",
     "text": [
      "Saving results in \\\\dk-server.dk.ucsd.edu\\afassihizakeri\\Topviewmovies\\ar35motor\\2022_02_04...\n",
      "Saving csv poses!\n",
      "Starting to analyze %  \\\\dk-server.dk.ucsd.edu\\afassihizakeri\\Topviewmovies\\ar35motor\\2022_02_04\\67video.mp4\n",
      "Loading  \\\\dk-server.dk.ucsd.edu\\afassihizakeri\\Topviewmovies\\ar35motor\\2022_02_04\\67video.mp4\n",
      "Duration of video [s]:  12.5 , recorded with  40.0 fps!\n",
      "Overall # of frames:  500  found with (before cropping) frame dimensions:  1440 484\n",
      "Starting to extract posture\n"
     ]
    },
    {
     "name": "stderr",
     "output_type": "stream",
     "text": [
      "510it [05:52,  1.45it/s]                                                                                               \n"
     ]
    },
    {
     "name": "stdout",
     "output_type": "stream",
     "text": [
      "Saving results in \\\\dk-server.dk.ucsd.edu\\afassihizakeri\\Topviewmovies\\ar35motor\\2022_02_04...\n",
      "Saving csv poses!\n",
      "Starting to analyze %  \\\\dk-server.dk.ucsd.edu\\afassihizakeri\\Topviewmovies\\ar35motor\\2022_02_04\\193video.mp4\n",
      "Loading  \\\\dk-server.dk.ucsd.edu\\afassihizakeri\\Topviewmovies\\ar35motor\\2022_02_04\\193video.mp4\n",
      "Duration of video [s]:  12.5 , recorded with  40.0 fps!\n",
      "Overall # of frames:  500  found with (before cropping) frame dimensions:  1440 484\n",
      "Starting to extract posture\n"
     ]
    },
    {
     "name": "stderr",
     "output_type": "stream",
     "text": [
      "510it [05:52,  1.45it/s]                                                                                               \n"
     ]
    },
    {
     "name": "stdout",
     "output_type": "stream",
     "text": [
      "Saving results in \\\\dk-server.dk.ucsd.edu\\afassihizakeri\\Topviewmovies\\ar35motor\\2022_02_04...\n",
      "Saving csv poses!\n",
      "Starting to analyze %  \\\\dk-server.dk.ucsd.edu\\afassihizakeri\\Topviewmovies\\ar35motor\\2022_02_04\\291video.mp4\n",
      "Loading  \\\\dk-server.dk.ucsd.edu\\afassihizakeri\\Topviewmovies\\ar35motor\\2022_02_04\\291video.mp4\n",
      "Duration of video [s]:  12.5 , recorded with  40.0 fps!\n",
      "Overall # of frames:  500  found with (before cropping) frame dimensions:  1440 484\n",
      "Starting to extract posture\n"
     ]
    },
    {
     "name": "stderr",
     "output_type": "stream",
     "text": [
      "510it [05:52,  1.45it/s]                                                                                               \n"
     ]
    },
    {
     "name": "stdout",
     "output_type": "stream",
     "text": [
      "Saving results in \\\\dk-server.dk.ucsd.edu\\afassihizakeri\\Topviewmovies\\ar35motor\\2022_02_04...\n",
      "Saving csv poses!\n",
      "Starting to analyze %  \\\\dk-server.dk.ucsd.edu\\afassihizakeri\\Topviewmovies\\ar35motor\\2022_02_04\\278video.mp4\n",
      "Loading  \\\\dk-server.dk.ucsd.edu\\afassihizakeri\\Topviewmovies\\ar35motor\\2022_02_04\\278video.mp4\n",
      "Duration of video [s]:  12.5 , recorded with  40.0 fps!\n",
      "Overall # of frames:  500  found with (before cropping) frame dimensions:  1440 484\n",
      "Starting to extract posture\n"
     ]
    },
    {
     "name": "stderr",
     "output_type": "stream",
     "text": [
      "510it [05:52,  1.45it/s]                                                                                               \n"
     ]
    },
    {
     "name": "stdout",
     "output_type": "stream",
     "text": [
      "Saving results in \\\\dk-server.dk.ucsd.edu\\afassihizakeri\\Topviewmovies\\ar35motor\\2022_02_04...\n",
      "Saving csv poses!\n",
      "Starting to analyze %  \\\\dk-server.dk.ucsd.edu\\afassihizakeri\\Topviewmovies\\ar35motor\\2022_02_04\\175video.mp4\n",
      "Loading  \\\\dk-server.dk.ucsd.edu\\afassihizakeri\\Topviewmovies\\ar35motor\\2022_02_04\\175video.mp4\n",
      "Duration of video [s]:  12.5 , recorded with  40.0 fps!\n",
      "Overall # of frames:  500  found with (before cropping) frame dimensions:  1440 484\n",
      "Starting to extract posture\n"
     ]
    },
    {
     "name": "stderr",
     "output_type": "stream",
     "text": [
      "510it [05:52,  1.45it/s]                                                                                               \n"
     ]
    },
    {
     "name": "stdout",
     "output_type": "stream",
     "text": [
      "Saving results in \\\\dk-server.dk.ucsd.edu\\afassihizakeri\\Topviewmovies\\ar35motor\\2022_02_04...\n",
      "Saving csv poses!\n",
      "Starting to analyze %  \\\\dk-server.dk.ucsd.edu\\afassihizakeri\\Topviewmovies\\ar35motor\\2022_02_04\\277video.mp4\n",
      "Loading  \\\\dk-server.dk.ucsd.edu\\afassihizakeri\\Topviewmovies\\ar35motor\\2022_02_04\\277video.mp4\n",
      "Duration of video [s]:  12.5 , recorded with  40.0 fps!\n",
      "Overall # of frames:  500  found with (before cropping) frame dimensions:  1440 484\n",
      "Starting to extract posture\n"
     ]
    },
    {
     "name": "stderr",
     "output_type": "stream",
     "text": [
      "510it [05:52,  1.45it/s]                                                                                               \n"
     ]
    },
    {
     "name": "stdout",
     "output_type": "stream",
     "text": [
      "Saving results in \\\\dk-server.dk.ucsd.edu\\afassihizakeri\\Topviewmovies\\ar35motor\\2022_02_04...\n",
      "Saving csv poses!\n",
      "Starting to analyze %  \\\\dk-server.dk.ucsd.edu\\afassihizakeri\\Topviewmovies\\ar35motor\\2022_02_04\\58video.mp4\n",
      "Loading  \\\\dk-server.dk.ucsd.edu\\afassihizakeri\\Topviewmovies\\ar35motor\\2022_02_04\\58video.mp4\n",
      "Duration of video [s]:  12.5 , recorded with  40.0 fps!\n",
      "Overall # of frames:  500  found with (before cropping) frame dimensions:  1440 484\n",
      "Starting to extract posture\n"
     ]
    },
    {
     "name": "stderr",
     "output_type": "stream",
     "text": [
      "510it [05:53,  1.44it/s]                                                                                               \n"
     ]
    },
    {
     "name": "stdout",
     "output_type": "stream",
     "text": [
      "Saving results in \\\\dk-server.dk.ucsd.edu\\afassihizakeri\\Topviewmovies\\ar35motor\\2022_02_04...\n",
      "Saving csv poses!\n",
      "Starting to analyze %  \\\\dk-server.dk.ucsd.edu\\afassihizakeri\\Topviewmovies\\ar35motor\\2022_02_04\\122video.mp4\n",
      "Loading  \\\\dk-server.dk.ucsd.edu\\afassihizakeri\\Topviewmovies\\ar35motor\\2022_02_04\\122video.mp4\n",
      "Duration of video [s]:  12.5 , recorded with  40.0 fps!\n",
      "Overall # of frames:  500  found with (before cropping) frame dimensions:  1440 484\n",
      "Starting to extract posture\n"
     ]
    },
    {
     "name": "stderr",
     "output_type": "stream",
     "text": [
      "510it [05:52,  1.45it/s]                                                                                               \n"
     ]
    },
    {
     "name": "stdout",
     "output_type": "stream",
     "text": [
      "Saving results in \\\\dk-server.dk.ucsd.edu\\afassihizakeri\\Topviewmovies\\ar35motor\\2022_02_04...\n",
      "Saving csv poses!\n",
      "Starting to analyze %  \\\\dk-server.dk.ucsd.edu\\afassihizakeri\\Topviewmovies\\ar35motor\\2022_02_04\\57video.mp4\n",
      "Loading  \\\\dk-server.dk.ucsd.edu\\afassihizakeri\\Topviewmovies\\ar35motor\\2022_02_04\\57video.mp4\n",
      "Duration of video [s]:  12.5 , recorded with  40.0 fps!\n",
      "Overall # of frames:  500  found with (before cropping) frame dimensions:  1440 484\n",
      "Starting to extract posture\n"
     ]
    },
    {
     "name": "stderr",
     "output_type": "stream",
     "text": [
      "510it [05:50,  1.46it/s]                                                                                               \n"
     ]
    },
    {
     "name": "stdout",
     "output_type": "stream",
     "text": [
      "Saving results in \\\\dk-server.dk.ucsd.edu\\afassihizakeri\\Topviewmovies\\ar35motor\\2022_02_04...\n",
      "Saving csv poses!\n",
      "Starting to analyze %  \\\\dk-server.dk.ucsd.edu\\afassihizakeri\\Topviewmovies\\ar35motor\\2022_02_04\\220video.mp4\n",
      "Loading  \\\\dk-server.dk.ucsd.edu\\afassihizakeri\\Topviewmovies\\ar35motor\\2022_02_04\\220video.mp4\n",
      "Duration of video [s]:  12.5 , recorded with  40.0 fps!\n",
      "Overall # of frames:  500  found with (before cropping) frame dimensions:  1440 484\n",
      "Starting to extract posture\n"
     ]
    },
    {
     "name": "stderr",
     "output_type": "stream",
     "text": [
      "510it [05:42,  1.49it/s]                                                                                               \n"
     ]
    },
    {
     "name": "stdout",
     "output_type": "stream",
     "text": [
      "Saving results in \\\\dk-server.dk.ucsd.edu\\afassihizakeri\\Topviewmovies\\ar35motor\\2022_02_04...\n",
      "Saving csv poses!\n",
      "Starting to analyze %  \\\\dk-server.dk.ucsd.edu\\afassihizakeri\\Topviewmovies\\ar35motor\\2022_02_04\\0video.mp4\n",
      "Loading  \\\\dk-server.dk.ucsd.edu\\afassihizakeri\\Topviewmovies\\ar35motor\\2022_02_04\\0video.mp4\n",
      "Duration of video [s]:  12.5 , recorded with  40.0 fps!\n",
      "Overall # of frames:  500  found with (before cropping) frame dimensions:  1440 484\n",
      "Starting to extract posture\n"
     ]
    },
    {
     "name": "stderr",
     "output_type": "stream",
     "text": [
      "510it [05:49,  1.46it/s]                                                                                               \n"
     ]
    },
    {
     "name": "stdout",
     "output_type": "stream",
     "text": [
      "Saving results in \\\\dk-server.dk.ucsd.edu\\afassihizakeri\\Topviewmovies\\ar35motor\\2022_02_04...\n",
      "Saving csv poses!\n",
      "Starting to analyze %  \\\\dk-server.dk.ucsd.edu\\afassihizakeri\\Topviewmovies\\ar35motor\\2022_02_04\\281video.mp4\n",
      "Loading  \\\\dk-server.dk.ucsd.edu\\afassihizakeri\\Topviewmovies\\ar35motor\\2022_02_04\\281video.mp4\n",
      "Duration of video [s]:  12.5 , recorded with  40.0 fps!\n",
      "Overall # of frames:  500  found with (before cropping) frame dimensions:  1440 484\n",
      "Starting to extract posture\n"
     ]
    },
    {
     "name": "stderr",
     "output_type": "stream",
     "text": [
      "510it [05:52,  1.45it/s]                                                                                               \n"
     ]
    },
    {
     "name": "stdout",
     "output_type": "stream",
     "text": [
      "Saving results in \\\\dk-server.dk.ucsd.edu\\afassihizakeri\\Topviewmovies\\ar35motor\\2022_02_04...\n",
      "Saving csv poses!\n",
      "Starting to analyze %  \\\\dk-server.dk.ucsd.edu\\afassihizakeri\\Topviewmovies\\ar35motor\\2022_02_04\\183video.mp4\n",
      "Loading  \\\\dk-server.dk.ucsd.edu\\afassihizakeri\\Topviewmovies\\ar35motor\\2022_02_04\\183video.mp4\n",
      "Duration of video [s]:  12.5 , recorded with  40.0 fps!\n",
      "Overall # of frames:  500  found with (before cropping) frame dimensions:  1440 484\n",
      "Starting to extract posture\n"
     ]
    },
    {
     "name": "stderr",
     "output_type": "stream",
     "text": [
      "510it [05:52,  1.45it/s]                                                                                               \n"
     ]
    },
    {
     "name": "stdout",
     "output_type": "stream",
     "text": [
      "Saving results in \\\\dk-server.dk.ucsd.edu\\afassihizakeri\\Topviewmovies\\ar35motor\\2022_02_04...\n",
      "Saving csv poses!\n",
      "Starting to analyze %  \\\\dk-server.dk.ucsd.edu\\afassihizakeri\\Topviewmovies\\ar35motor\\2022_02_04\\267video.mp4\n",
      "Loading  \\\\dk-server.dk.ucsd.edu\\afassihizakeri\\Topviewmovies\\ar35motor\\2022_02_04\\267video.mp4\n",
      "Duration of video [s]:  12.5 , recorded with  40.0 fps!\n",
      "Overall # of frames:  500  found with (before cropping) frame dimensions:  1440 484\n",
      "Starting to extract posture\n"
     ]
    },
    {
     "name": "stderr",
     "output_type": "stream",
     "text": [
      "510it [05:52,  1.45it/s]                                                                                               \n"
     ]
    },
    {
     "name": "stdout",
     "output_type": "stream",
     "text": [
      "Saving results in \\\\dk-server.dk.ucsd.edu\\afassihizakeri\\Topviewmovies\\ar35motor\\2022_02_04...\n",
      "Saving csv poses!\n",
      "Starting to analyze %  \\\\dk-server.dk.ucsd.edu\\afassihizakeri\\Topviewmovies\\ar35motor\\2022_02_04\\10video.mp4\n",
      "Loading  \\\\dk-server.dk.ucsd.edu\\afassihizakeri\\Topviewmovies\\ar35motor\\2022_02_04\\10video.mp4\n",
      "Duration of video [s]:  12.5 , recorded with  40.0 fps!\n",
      "Overall # of frames:  500  found with (before cropping) frame dimensions:  1440 484\n",
      "Starting to extract posture\n"
     ]
    },
    {
     "name": "stderr",
     "output_type": "stream",
     "text": [
      "510it [05:52,  1.45it/s]                                                                                               \n"
     ]
    },
    {
     "name": "stdout",
     "output_type": "stream",
     "text": [
      "Saving results in \\\\dk-server.dk.ucsd.edu\\afassihizakeri\\Topviewmovies\\ar35motor\\2022_02_04...\n",
      "Saving csv poses!\n",
      "Starting to analyze %  \\\\dk-server.dk.ucsd.edu\\afassihizakeri\\Topviewmovies\\ar35motor\\2022_02_04\\268video.mp4\n",
      "Loading  \\\\dk-server.dk.ucsd.edu\\afassihizakeri\\Topviewmovies\\ar35motor\\2022_02_04\\268video.mp4\n",
      "Duration of video [s]:  12.5 , recorded with  40.0 fps!\n",
      "Overall # of frames:  500  found with (before cropping) frame dimensions:  1440 484\n",
      "Starting to extract posture\n"
     ]
    },
    {
     "name": "stderr",
     "output_type": "stream",
     "text": [
      "510it [05:52,  1.45it/s]                                                                                               \n"
     ]
    },
    {
     "name": "stdout",
     "output_type": "stream",
     "text": [
      "Saving results in \\\\dk-server.dk.ucsd.edu\\afassihizakeri\\Topviewmovies\\ar35motor\\2022_02_04...\n",
      "Saving csv poses!\n",
      "Starting to analyze %  \\\\dk-server.dk.ucsd.edu\\afassihizakeri\\Topviewmovies\\ar35motor\\2022_02_04\\165video.mp4\n",
      "Loading  \\\\dk-server.dk.ucsd.edu\\afassihizakeri\\Topviewmovies\\ar35motor\\2022_02_04\\165video.mp4\n",
      "Duration of video [s]:  12.5 , recorded with  40.0 fps!\n",
      "Overall # of frames:  500  found with (before cropping) frame dimensions:  1440 484\n",
      "Starting to extract posture\n"
     ]
    },
    {
     "name": "stderr",
     "output_type": "stream",
     "text": [
      "510it [05:52,  1.45it/s]                                                                                               \n"
     ]
    },
    {
     "name": "stdout",
     "output_type": "stream",
     "text": [
      "Saving results in \\\\dk-server.dk.ucsd.edu\\afassihizakeri\\Topviewmovies\\ar35motor\\2022_02_04...\n",
      "Saving csv poses!\n",
      "Starting to analyze %  \\\\dk-server.dk.ucsd.edu\\afassihizakeri\\Topviewmovies\\ar35motor\\2022_02_04\\230video.mp4\n",
      "Loading  \\\\dk-server.dk.ucsd.edu\\afassihizakeri\\Topviewmovies\\ar35motor\\2022_02_04\\230video.mp4\n",
      "Duration of video [s]:  12.5 , recorded with  40.0 fps!\n",
      "Overall # of frames:  500  found with (before cropping) frame dimensions:  1440 484\n",
      "Starting to extract posture\n"
     ]
    },
    {
     "name": "stderr",
     "output_type": "stream",
     "text": [
      "510it [05:52,  1.45it/s]                                                                                               \n"
     ]
    },
    {
     "name": "stdout",
     "output_type": "stream",
     "text": [
      "Saving results in \\\\dk-server.dk.ucsd.edu\\afassihizakeri\\Topviewmovies\\ar35motor\\2022_02_04...\n",
      "Saving csv poses!\n",
      "Starting to analyze %  \\\\dk-server.dk.ucsd.edu\\afassihizakeri\\Topviewmovies\\ar35motor\\2022_02_04\\47video.mp4\n",
      "Loading  \\\\dk-server.dk.ucsd.edu\\afassihizakeri\\Topviewmovies\\ar35motor\\2022_02_04\\47video.mp4\n",
      "Duration of video [s]:  12.5 , recorded with  40.0 fps!\n",
      "Overall # of frames:  500  found with (before cropping) frame dimensions:  1440 484\n",
      "Starting to extract posture\n"
     ]
    },
    {
     "name": "stderr",
     "output_type": "stream",
     "text": [
      "510it [05:52,  1.45it/s]                                                                                               \n"
     ]
    },
    {
     "name": "stdout",
     "output_type": "stream",
     "text": [
      "Saving results in \\\\dk-server.dk.ucsd.edu\\afassihizakeri\\Topviewmovies\\ar35motor\\2022_02_04...\n",
      "Saving csv poses!\n",
      "Starting to analyze %  \\\\dk-server.dk.ucsd.edu\\afassihizakeri\\Topviewmovies\\ar35motor\\2022_02_04\\132video.mp4\n",
      "Loading  \\\\dk-server.dk.ucsd.edu\\afassihizakeri\\Topviewmovies\\ar35motor\\2022_02_04\\132video.mp4\n",
      "Duration of video [s]:  12.5 , recorded with  40.0 fps!\n",
      "Overall # of frames:  500  found with (before cropping) frame dimensions:  1440 484\n",
      "Starting to extract posture\n"
     ]
    },
    {
     "name": "stderr",
     "output_type": "stream",
     "text": [
      "510it [05:53,  1.44it/s]                                                                                               \n"
     ]
    },
    {
     "name": "stdout",
     "output_type": "stream",
     "text": [
      "Saving results in \\\\dk-server.dk.ucsd.edu\\afassihizakeri\\Topviewmovies\\ar35motor\\2022_02_04...\n",
      "Saving csv poses!\n",
      "Starting to analyze %  \\\\dk-server.dk.ucsd.edu\\afassihizakeri\\Topviewmovies\\ar35motor\\2022_02_04\\48video.mp4\n",
      "Loading  \\\\dk-server.dk.ucsd.edu\\afassihizakeri\\Topviewmovies\\ar35motor\\2022_02_04\\48video.mp4\n",
      "Duration of video [s]:  12.5 , recorded with  40.0 fps!\n",
      "Overall # of frames:  500  found with (before cropping) frame dimensions:  1440 484\n",
      "Starting to extract posture\n"
     ]
    },
    {
     "name": "stderr",
     "output_type": "stream",
     "text": [
      "510it [05:52,  1.45it/s]                                                                                               \n"
     ]
    },
    {
     "name": "stdout",
     "output_type": "stream",
     "text": [
      "Saving results in \\\\dk-server.dk.ucsd.edu\\afassihizakeri\\Topviewmovies\\ar35motor\\2022_02_04...\n",
      "Saving csv poses!\n",
      "Starting to analyze %  \\\\dk-server.dk.ucsd.edu\\afassihizakeri\\Topviewmovies\\ar35motor\\2022_02_04\\303video.mp4\n",
      "Loading  \\\\dk-server.dk.ucsd.edu\\afassihizakeri\\Topviewmovies\\ar35motor\\2022_02_04\\303video.mp4\n",
      "Duration of video [s]:  12.5 , recorded with  40.0 fps!\n",
      "Overall # of frames:  500  found with (before cropping) frame dimensions:  1440 484\n",
      "Starting to extract posture\n"
     ]
    },
    {
     "name": "stderr",
     "output_type": "stream",
     "text": [
      "510it [05:52,  1.45it/s]                                                                                               \n"
     ]
    },
    {
     "name": "stdout",
     "output_type": "stream",
     "text": [
      "Saving results in \\\\dk-server.dk.ucsd.edu\\afassihizakeri\\Topviewmovies\\ar35motor\\2022_02_04...\n",
      "Saving csv poses!\n",
      "Starting to analyze %  \\\\dk-server.dk.ucsd.edu\\afassihizakeri\\Topviewmovies\\ar35motor\\2022_02_04\\121video.mp4\n",
      "Loading  \\\\dk-server.dk.ucsd.edu\\afassihizakeri\\Topviewmovies\\ar35motor\\2022_02_04\\121video.mp4\n",
      "Duration of video [s]:  12.5 , recorded with  40.0 fps!\n",
      "Overall # of frames:  500  found with (before cropping) frame dimensions:  1440 484\n",
      "Starting to extract posture\n"
     ]
    },
    {
     "name": "stderr",
     "output_type": "stream",
     "text": [
      "510it [05:52,  1.45it/s]                                                                                               \n"
     ]
    },
    {
     "name": "stdout",
     "output_type": "stream",
     "text": [
      "Saving results in \\\\dk-server.dk.ucsd.edu\\afassihizakeri\\Topviewmovies\\ar35motor\\2022_02_04...\n",
      "Saving csv poses!\n",
      "Starting to analyze %  \\\\dk-server.dk.ucsd.edu\\afassihizakeri\\Topviewmovies\\ar35motor\\2022_02_04\\54video.mp4\n",
      "Loading  \\\\dk-server.dk.ucsd.edu\\afassihizakeri\\Topviewmovies\\ar35motor\\2022_02_04\\54video.mp4\n",
      "Duration of video [s]:  12.5 , recorded with  40.0 fps!\n",
      "Overall # of frames:  500  found with (before cropping) frame dimensions:  1440 484\n",
      "Starting to extract posture\n"
     ]
    },
    {
     "name": "stderr",
     "output_type": "stream",
     "text": [
      "510it [05:53,  1.44it/s]                                                                                               \n"
     ]
    },
    {
     "name": "stdout",
     "output_type": "stream",
     "text": [
      "Saving results in \\\\dk-server.dk.ucsd.edu\\afassihizakeri\\Topviewmovies\\ar35motor\\2022_02_04...\n",
      "Saving csv poses!\n",
      "Starting to analyze %  \\\\dk-server.dk.ucsd.edu\\afassihizakeri\\Topviewmovies\\ar35motor\\2022_02_04\\223video.mp4\n",
      "Loading  \\\\dk-server.dk.ucsd.edu\\afassihizakeri\\Topviewmovies\\ar35motor\\2022_02_04\\223video.mp4\n",
      "Duration of video [s]:  12.5 , recorded with  40.0 fps!\n",
      "Overall # of frames:  500  found with (before cropping) frame dimensions:  1440 484\n",
      "Starting to extract posture\n"
     ]
    },
    {
     "name": "stderr",
     "output_type": "stream",
     "text": [
      "510it [05:53,  1.44it/s]                                                                                               \n"
     ]
    },
    {
     "name": "stdout",
     "output_type": "stream",
     "text": [
      "Saving results in \\\\dk-server.dk.ucsd.edu\\afassihizakeri\\Topviewmovies\\ar35motor\\2022_02_04...\n",
      "Saving csv poses!\n",
      "Starting to analyze %  \\\\dk-server.dk.ucsd.edu\\afassihizakeri\\Topviewmovies\\ar35motor\\2022_02_04\\3video.mp4\n",
      "Loading  \\\\dk-server.dk.ucsd.edu\\afassihizakeri\\Topviewmovies\\ar35motor\\2022_02_04\\3video.mp4\n",
      "Duration of video [s]:  12.5 , recorded with  40.0 fps!\n",
      "Overall # of frames:  500  found with (before cropping) frame dimensions:  1440 484\n",
      "Starting to extract posture\n"
     ]
    },
    {
     "name": "stderr",
     "output_type": "stream",
     "text": [
      "510it [05:52,  1.45it/s]                                                                                               \n"
     ]
    },
    {
     "name": "stdout",
     "output_type": "stream",
     "text": [
      "Saving results in \\\\dk-server.dk.ucsd.edu\\afassihizakeri\\Topviewmovies\\ar35motor\\2022_02_04...\n",
      "Saving csv poses!\n",
      "Starting to analyze %  \\\\dk-server.dk.ucsd.edu\\afassihizakeri\\Topviewmovies\\ar35motor\\2022_02_04\\190video.mp4\n",
      "Loading  \\\\dk-server.dk.ucsd.edu\\afassihizakeri\\Topviewmovies\\ar35motor\\2022_02_04\\190video.mp4\n",
      "Duration of video [s]:  12.5 , recorded with  40.0 fps!\n",
      "Overall # of frames:  500  found with (before cropping) frame dimensions:  1440 484\n",
      "Starting to extract posture\n"
     ]
    },
    {
     "name": "stderr",
     "output_type": "stream",
     "text": [
      "510it [05:53,  1.44it/s]                                                                                               \n"
     ]
    },
    {
     "name": "stdout",
     "output_type": "stream",
     "text": [
      "Saving results in \\\\dk-server.dk.ucsd.edu\\afassihizakeri\\Topviewmovies\\ar35motor\\2022_02_04...\n",
      "Saving csv poses!\n",
      "Starting to analyze %  \\\\dk-server.dk.ucsd.edu\\afassihizakeri\\Topviewmovies\\ar35motor\\2022_02_04\\292video.mp4\n",
      "Loading  \\\\dk-server.dk.ucsd.edu\\afassihizakeri\\Topviewmovies\\ar35motor\\2022_02_04\\292video.mp4\n",
      "Duration of video [s]:  12.5 , recorded with  40.0 fps!\n",
      "Overall # of frames:  500  found with (before cropping) frame dimensions:  1440 484\n",
      "Starting to extract posture\n"
     ]
    },
    {
     "name": "stderr",
     "output_type": "stream",
     "text": [
      "510it [05:51,  1.45it/s]                                                                                               \n"
     ]
    },
    {
     "name": "stdout",
     "output_type": "stream",
     "text": [
      "Saving results in \\\\dk-server.dk.ucsd.edu\\afassihizakeri\\Topviewmovies\\ar35motor\\2022_02_04...\n",
      "Saving csv poses!\n",
      "Starting to analyze %  \\\\dk-server.dk.ucsd.edu\\afassihizakeri\\Topviewmovies\\ar35motor\\2022_02_04\\176video.mp4\n",
      "Loading  \\\\dk-server.dk.ucsd.edu\\afassihizakeri\\Topviewmovies\\ar35motor\\2022_02_04\\176video.mp4\n",
      "Duration of video [s]:  12.5 , recorded with  40.0 fps!\n",
      "Overall # of frames:  500  found with (before cropping) frame dimensions:  1440 484\n",
      "Starting to extract posture\n"
     ]
    },
    {
     "name": "stderr",
     "output_type": "stream",
     "text": [
      "510it [05:52,  1.45it/s]                                                                                               \n"
     ]
    },
    {
     "name": "stdout",
     "output_type": "stream",
     "text": [
      "Saving results in \\\\dk-server.dk.ucsd.edu\\afassihizakeri\\Topviewmovies\\ar35motor\\2022_02_04...\n",
      "Saving csv poses!\n",
      "Starting to analyze %  \\\\dk-server.dk.ucsd.edu\\afassihizakeri\\Topviewmovies\\ar35motor\\2022_02_04\\274video.mp4\n",
      "Loading  \\\\dk-server.dk.ucsd.edu\\afassihizakeri\\Topviewmovies\\ar35motor\\2022_02_04\\274video.mp4\n",
      "Duration of video [s]:  12.5 , recorded with  40.0 fps!\n",
      "Overall # of frames:  500  found with (before cropping) frame dimensions:  1440 484\n",
      "Starting to extract posture\n"
     ]
    },
    {
     "name": "stderr",
     "output_type": "stream",
     "text": [
      "510it [05:52,  1.45it/s]                                                                                               \n"
     ]
    },
    {
     "name": "stdout",
     "output_type": "stream",
     "text": [
      "Saving results in \\\\dk-server.dk.ucsd.edu\\afassihizakeri\\Topviewmovies\\ar35motor\\2022_02_04...\n",
      "Saving csv poses!\n",
      "Starting to analyze %  \\\\dk-server.dk.ucsd.edu\\afassihizakeri\\Topviewmovies\\ar35motor\\2022_02_04\\179video.mp4\n",
      "Loading  \\\\dk-server.dk.ucsd.edu\\afassihizakeri\\Topviewmovies\\ar35motor\\2022_02_04\\179video.mp4\n",
      "Duration of video [s]:  12.5 , recorded with  40.0 fps!\n",
      "Overall # of frames:  500  found with (before cropping) frame dimensions:  1440 484\n",
      "Starting to extract posture\n"
     ]
    },
    {
     "name": "stderr",
     "output_type": "stream",
     "text": [
      "510it [05:52,  1.45it/s]                                                                                               \n"
     ]
    },
    {
     "name": "stdout",
     "output_type": "stream",
     "text": [
      "Saving results in \\\\dk-server.dk.ucsd.edu\\afassihizakeri\\Topviewmovies\\ar35motor\\2022_02_04...\n",
      "Saving csv poses!\n",
      "Starting to analyze %  \\\\dk-server.dk.ucsd.edu\\afassihizakeri\\Topviewmovies\\ar35motor\\2022_02_04\\233video.mp4\n",
      "Loading  \\\\dk-server.dk.ucsd.edu\\afassihizakeri\\Topviewmovies\\ar35motor\\2022_02_04\\233video.mp4\n",
      "Duration of video [s]:  12.5 , recorded with  40.0 fps!\n",
      "Overall # of frames:  500  found with (before cropping) frame dimensions:  1440 484\n",
      "Starting to extract posture\n"
     ]
    },
    {
     "name": "stderr",
     "output_type": "stream",
     "text": [
      "510it [05:54,  1.44it/s]                                                                                               \n"
     ]
    },
    {
     "name": "stdout",
     "output_type": "stream",
     "text": [
      "Saving results in \\\\dk-server.dk.ucsd.edu\\afassihizakeri\\Topviewmovies\\ar35motor\\2022_02_04...\n",
      "Saving csv poses!\n",
      "Starting to analyze %  \\\\dk-server.dk.ucsd.edu\\afassihizakeri\\Topviewmovies\\ar35motor\\2022_02_04\\44video.mp4\n",
      "Loading  \\\\dk-server.dk.ucsd.edu\\afassihizakeri\\Topviewmovies\\ar35motor\\2022_02_04\\44video.mp4\n",
      "Duration of video [s]:  12.5 , recorded with  40.0 fps!\n",
      "Overall # of frames:  500  found with (before cropping) frame dimensions:  1440 484\n",
      "Starting to extract posture\n"
     ]
    },
    {
     "name": "stderr",
     "output_type": "stream",
     "text": [
      "510it [05:56,  1.43it/s]                                                                                               \n"
     ]
    },
    {
     "name": "stdout",
     "output_type": "stream",
     "text": [
      "Saving results in \\\\dk-server.dk.ucsd.edu\\afassihizakeri\\Topviewmovies\\ar35motor\\2022_02_04...\n",
      "Saving csv poses!\n",
      "Starting to analyze %  \\\\dk-server.dk.ucsd.edu\\afassihizakeri\\Topviewmovies\\ar35motor\\2022_02_04\\131video.mp4\n",
      "Loading  \\\\dk-server.dk.ucsd.edu\\afassihizakeri\\Topviewmovies\\ar35motor\\2022_02_04\\131video.mp4\n",
      "Duration of video [s]:  12.5 , recorded with  40.0 fps!\n",
      "Overall # of frames:  500  found with (before cropping) frame dimensions:  1440 484\n",
      "Starting to extract posture\n"
     ]
    },
    {
     "name": "stderr",
     "output_type": "stream",
     "text": [
      "510it [05:52,  1.45it/s]                                                                                               \n"
     ]
    },
    {
     "name": "stdout",
     "output_type": "stream",
     "text": [
      "Saving results in \\\\dk-server.dk.ucsd.edu\\afassihizakeri\\Topviewmovies\\ar35motor\\2022_02_04...\n",
      "Saving csv poses!\n",
      "Starting to analyze %  \\\\dk-server.dk.ucsd.edu\\afassihizakeri\\Topviewmovies\\ar35motor\\2022_02_04\\300video.mp4\n",
      "Loading  \\\\dk-server.dk.ucsd.edu\\afassihizakeri\\Topviewmovies\\ar35motor\\2022_02_04\\300video.mp4\n",
      "Duration of video [s]:  12.5 , recorded with  40.0 fps!\n",
      "Overall # of frames:  500  found with (before cropping) frame dimensions:  1440 484\n",
      "Starting to extract posture\n"
     ]
    },
    {
     "name": "stderr",
     "output_type": "stream",
     "text": [
      "510it [05:53,  1.44it/s]                                                                                               \n"
     ]
    },
    {
     "name": "stdout",
     "output_type": "stream",
     "text": [
      "Saving results in \\\\dk-server.dk.ucsd.edu\\afassihizakeri\\Topviewmovies\\ar35motor\\2022_02_04...\n",
      "Saving csv poses!\n",
      "Starting to analyze %  \\\\dk-server.dk.ucsd.edu\\afassihizakeri\\Topviewmovies\\ar35motor\\2022_02_04\\282video.mp4\n",
      "Loading  \\\\dk-server.dk.ucsd.edu\\afassihizakeri\\Topviewmovies\\ar35motor\\2022_02_04\\282video.mp4\n",
      "Duration of video [s]:  12.5 , recorded with  40.0 fps!\n",
      "Overall # of frames:  500  found with (before cropping) frame dimensions:  1440 484\n",
      "Starting to extract posture\n"
     ]
    },
    {
     "name": "stderr",
     "output_type": "stream",
     "text": [
      "510it [05:52,  1.45it/s]                                                                                               \n"
     ]
    },
    {
     "name": "stdout",
     "output_type": "stream",
     "text": [
      "Saving results in \\\\dk-server.dk.ucsd.edu\\afassihizakeri\\Topviewmovies\\ar35motor\\2022_02_04...\n",
      "Saving csv poses!\n",
      "Starting to analyze %  \\\\dk-server.dk.ucsd.edu\\afassihizakeri\\Topviewmovies\\ar35motor\\2022_02_04\\180video.mp4\n",
      "Loading  \\\\dk-server.dk.ucsd.edu\\afassihizakeri\\Topviewmovies\\ar35motor\\2022_02_04\\180video.mp4\n",
      "Duration of video [s]:  12.5 , recorded with  40.0 fps!\n",
      "Overall # of frames:  500  found with (before cropping) frame dimensions:  1440 484\n",
      "Starting to extract posture\n"
     ]
    },
    {
     "name": "stderr",
     "output_type": "stream",
     "text": [
      "510it [05:52,  1.45it/s]                                                                                               \n"
     ]
    },
    {
     "name": "stdout",
     "output_type": "stream",
     "text": [
      "Saving results in \\\\dk-server.dk.ucsd.edu\\afassihizakeri\\Topviewmovies\\ar35motor\\2022_02_04...\n",
      "Saving csv poses!\n",
      "Starting to analyze %  \\\\dk-server.dk.ucsd.edu\\afassihizakeri\\Topviewmovies\\ar35motor\\2022_02_04\\264video.mp4\n",
      "Loading  \\\\dk-server.dk.ucsd.edu\\afassihizakeri\\Topviewmovies\\ar35motor\\2022_02_04\\264video.mp4\n",
      "Duration of video [s]:  12.5 , recorded with  40.0 fps!\n",
      "Overall # of frames:  500  found with (before cropping) frame dimensions:  1440 484\n",
      "Starting to extract posture\n"
     ]
    },
    {
     "name": "stderr",
     "output_type": "stream",
     "text": [
      "510it [05:53,  1.44it/s]                                                                                               \n"
     ]
    },
    {
     "name": "stdout",
     "output_type": "stream",
     "text": [
      "Saving results in \\\\dk-server.dk.ucsd.edu\\afassihizakeri\\Topviewmovies\\ar35motor\\2022_02_04...\n",
      "Saving csv poses!\n",
      "Starting to analyze %  \\\\dk-server.dk.ucsd.edu\\afassihizakeri\\Topviewmovies\\ar35motor\\2022_02_04\\169video.mp4\n",
      "Loading  \\\\dk-server.dk.ucsd.edu\\afassihizakeri\\Topviewmovies\\ar35motor\\2022_02_04\\169video.mp4\n",
      "Duration of video [s]:  12.5 , recorded with  40.0 fps!\n",
      "Overall # of frames:  500  found with (before cropping) frame dimensions:  1440 484\n",
      "Starting to extract posture\n"
     ]
    },
    {
     "name": "stderr",
     "output_type": "stream",
     "text": [
      "510it [05:52,  1.45it/s]                                                                                               \n"
     ]
    },
    {
     "name": "stdout",
     "output_type": "stream",
     "text": [
      "Saving results in \\\\dk-server.dk.ucsd.edu\\afassihizakeri\\Topviewmovies\\ar35motor\\2022_02_04...\n",
      "Saving csv poses!\n",
      "Starting to analyze %  \\\\dk-server.dk.ucsd.edu\\afassihizakeri\\Topviewmovies\\ar35motor\\2022_02_04\\13video.mp4\n",
      "Loading  \\\\dk-server.dk.ucsd.edu\\afassihizakeri\\Topviewmovies\\ar35motor\\2022_02_04\\13video.mp4\n",
      "Duration of video [s]:  12.5 , recorded with  40.0 fps!\n",
      "Overall # of frames:  500  found with (before cropping) frame dimensions:  1440 484\n",
      "Starting to extract posture\n"
     ]
    },
    {
     "name": "stderr",
     "output_type": "stream",
     "text": [
      "510it [05:53,  1.44it/s]                                                                                               \n"
     ]
    },
    {
     "name": "stdout",
     "output_type": "stream",
     "text": [
      "Saving results in \\\\dk-server.dk.ucsd.edu\\afassihizakeri\\Topviewmovies\\ar35motor\\2022_02_04...\n",
      "Saving csv poses!\n",
      "Starting to analyze %  \\\\dk-server.dk.ucsd.edu\\afassihizakeri\\Topviewmovies\\ar35motor\\2022_02_04\\166video.mp4\n",
      "Loading  \\\\dk-server.dk.ucsd.edu\\afassihizakeri\\Topviewmovies\\ar35motor\\2022_02_04\\166video.mp4\n",
      "Duration of video [s]:  12.5 , recorded with  40.0 fps!\n",
      "Overall # of frames:  500  found with (before cropping) frame dimensions:  1440 484\n",
      "Starting to extract posture\n"
     ]
    },
    {
     "name": "stderr",
     "output_type": "stream",
     "text": [
      "510it [05:52,  1.45it/s]                                                                                               \n"
     ]
    },
    {
     "name": "stdout",
     "output_type": "stream",
     "text": [
      "Saving results in \\\\dk-server.dk.ucsd.edu\\afassihizakeri\\Topviewmovies\\ar35motor\\2022_02_04...\n",
      "Saving csv poses!\n",
      "Starting to analyze %  \\\\dk-server.dk.ucsd.edu\\afassihizakeri\\Topviewmovies\\ar35motor\\2022_02_04\\92video.mp4\n",
      "Loading  \\\\dk-server.dk.ucsd.edu\\afassihizakeri\\Topviewmovies\\ar35motor\\2022_02_04\\92video.mp4\n",
      "Duration of video [s]:  12.5 , recorded with  40.0 fps!\n",
      "Overall # of frames:  500  found with (before cropping) frame dimensions:  1440 484\n",
      "Starting to extract posture\n"
     ]
    },
    {
     "name": "stderr",
     "output_type": "stream",
     "text": [
      "510it [05:52,  1.45it/s]                                                                                               \n"
     ]
    },
    {
     "name": "stdout",
     "output_type": "stream",
     "text": [
      "Saving results in \\\\dk-server.dk.ucsd.edu\\afassihizakeri\\Topviewmovies\\ar35motor\\2022_02_04...\n",
      "Saving csv poses!\n",
      "Starting to analyze %  \\\\dk-server.dk.ucsd.edu\\afassihizakeri\\Topviewmovies\\ar35motor\\2022_02_04\\74video.mp4\n",
      "Loading  \\\\dk-server.dk.ucsd.edu\\afassihizakeri\\Topviewmovies\\ar35motor\\2022_02_04\\74video.mp4\n",
      "Duration of video [s]:  12.5 , recorded with  40.0 fps!\n",
      "Overall # of frames:  500  found with (before cropping) frame dimensions:  1440 484\n",
      "Starting to extract posture\n"
     ]
    },
    {
     "name": "stderr",
     "output_type": "stream",
     "text": [
      "510it [05:53,  1.44it/s]                                                                                               \n"
     ]
    },
    {
     "name": "stdout",
     "output_type": "stream",
     "text": [
      "Saving results in \\\\dk-server.dk.ucsd.edu\\afassihizakeri\\Topviewmovies\\ar35motor\\2022_02_04...\n",
      "Saving csv poses!\n",
      "Starting to analyze %  \\\\dk-server.dk.ucsd.edu\\afassihizakeri\\Topviewmovies\\ar35motor\\2022_02_04\\203video.mp4\n",
      "Loading  \\\\dk-server.dk.ucsd.edu\\afassihizakeri\\Topviewmovies\\ar35motor\\2022_02_04\\203video.mp4\n",
      "Duration of video [s]:  12.5 , recorded with  40.0 fps!\n",
      "Overall # of frames:  500  found with (before cropping) frame dimensions:  1440 484\n",
      "Starting to extract posture\n"
     ]
    },
    {
     "name": "stderr",
     "output_type": "stream",
     "text": [
      "510it [05:51,  1.45it/s]                                                                                               \n"
     ]
    },
    {
     "name": "stdout",
     "output_type": "stream",
     "text": [
      "Saving results in \\\\dk-server.dk.ucsd.edu\\afassihizakeri\\Topviewmovies\\ar35motor\\2022_02_04...\n",
      "Saving csv poses!\n",
      "Starting to analyze %  \\\\dk-server.dk.ucsd.edu\\afassihizakeri\\Topviewmovies\\ar35motor\\2022_02_04\\101video.mp4\n",
      "Loading  \\\\dk-server.dk.ucsd.edu\\afassihizakeri\\Topviewmovies\\ar35motor\\2022_02_04\\101video.mp4\n",
      "Duration of video [s]:  12.5 , recorded with  40.0 fps!\n",
      "Overall # of frames:  500  found with (before cropping) frame dimensions:  1440 484\n",
      "Starting to extract posture\n"
     ]
    },
    {
     "name": "stderr",
     "output_type": "stream",
     "text": [
      "510it [05:52,  1.45it/s]                                                                                               \n"
     ]
    },
    {
     "name": "stdout",
     "output_type": "stream",
     "text": [
      "Saving results in \\\\dk-server.dk.ucsd.edu\\afassihizakeri\\Topviewmovies\\ar35motor\\2022_02_04...\n",
      "Saving csv poses!\n",
      "Starting to analyze %  \\\\dk-server.dk.ucsd.edu\\afassihizakeri\\Topviewmovies\\ar35motor\\2022_02_04\\23video.mp4\n",
      "Loading  \\\\dk-server.dk.ucsd.edu\\afassihizakeri\\Topviewmovies\\ar35motor\\2022_02_04\\23video.mp4\n",
      "Duration of video [s]:  12.5 , recorded with  40.0 fps!\n",
      "Overall # of frames:  500  found with (before cropping) frame dimensions:  1440 484\n",
      "Starting to extract posture\n"
     ]
    },
    {
     "name": "stderr",
     "output_type": "stream",
     "text": [
      "510it [05:52,  1.45it/s]                                                                                               \n"
     ]
    },
    {
     "name": "stdout",
     "output_type": "stream",
     "text": [
      "Saving results in \\\\dk-server.dk.ucsd.edu\\afassihizakeri\\Topviewmovies\\ar35motor\\2022_02_04...\n",
      "Saving csv poses!\n",
      "Starting to analyze %  \\\\dk-server.dk.ucsd.edu\\afassihizakeri\\Topviewmovies\\ar35motor\\2022_02_04\\159video.mp4\n",
      "Loading  \\\\dk-server.dk.ucsd.edu\\afassihizakeri\\Topviewmovies\\ar35motor\\2022_02_04\\159video.mp4\n",
      "Duration of video [s]:  12.5 , recorded with  40.0 fps!\n",
      "Overall # of frames:  500  found with (before cropping) frame dimensions:  1440 484\n",
      "Starting to extract posture\n"
     ]
    },
    {
     "name": "stderr",
     "output_type": "stream",
     "text": [
      "510it [05:52,  1.45it/s]                                                                                               \n"
     ]
    },
    {
     "name": "stdout",
     "output_type": "stream",
     "text": [
      "Saving results in \\\\dk-server.dk.ucsd.edu\\afassihizakeri\\Topviewmovies\\ar35motor\\2022_02_04...\n",
      "Saving csv poses!\n",
      "Starting to analyze %  \\\\dk-server.dk.ucsd.edu\\afassihizakeri\\Topviewmovies\\ar35motor\\2022_02_04\\254video.mp4\n",
      "Starting to analyze %  \\\\dk-server.dk.ucsd.edu\\afassihizakeri\\Topviewmovies\\ar35motor\\2022_02_04\\156video.mp4\n",
      "Loading  \\\\dk-server.dk.ucsd.edu\\afassihizakeri\\Topviewmovies\\ar35motor\\2022_02_04\\156video.mp4\n",
      "Duration of video [s]:  12.5 , recorded with  40.0 fps!\n",
      "Overall # of frames:  500  found with (before cropping) frame dimensions:  1440 484\n",
      "Starting to extract posture\n"
     ]
    },
    {
     "name": "stderr",
     "output_type": "stream",
     "text": [
      "510it [05:52,  1.45it/s]                                                                                               \n"
     ]
    },
    {
     "name": "stdout",
     "output_type": "stream",
     "text": [
      "Saving results in \\\\dk-server.dk.ucsd.edu\\afassihizakeri\\Topviewmovies\\ar35motor\\2022_02_04...\n",
      "Saving csv poses!\n",
      "Starting to analyze %  \\\\dk-server.dk.ucsd.edu\\afassihizakeri\\Topviewmovies\\ar35motor\\2022_02_04\\82video.mp4\n",
      "Starting to analyze %  \\\\dk-server.dk.ucsd.edu\\afassihizakeri\\Topviewmovies\\ar35motor\\2022_02_04\\111video.mp4\n",
      "Loading  \\\\dk-server.dk.ucsd.edu\\afassihizakeri\\Topviewmovies\\ar35motor\\2022_02_04\\111video.mp4\n",
      "Duration of video [s]:  12.5 , recorded with  40.0 fps!\n",
      "Overall # of frames:  500  found with (before cropping) frame dimensions:  1440 484\n",
      "Starting to extract posture\n"
     ]
    },
    {
     "name": "stderr",
     "output_type": "stream",
     "text": [
      "510it [05:53,  1.44it/s]                                                                                               \n"
     ]
    },
    {
     "name": "stdout",
     "output_type": "stream",
     "text": [
      "Saving results in \\\\dk-server.dk.ucsd.edu\\afassihizakeri\\Topviewmovies\\ar35motor\\2022_02_04...\n",
      "Saving csv poses!\n",
      "Starting to analyze %  \\\\dk-server.dk.ucsd.edu\\afassihizakeri\\Topviewmovies\\ar35motor\\2022_02_04\\213video.mp4\n",
      "Loading  \\\\dk-server.dk.ucsd.edu\\afassihizakeri\\Topviewmovies\\ar35motor\\2022_02_04\\213video.mp4\n",
      "Duration of video [s]:  12.5 , recorded with  40.0 fps!\n",
      "Overall # of frames:  500  found with (before cropping) frame dimensions:  1440 484\n",
      "Starting to extract posture\n"
     ]
    },
    {
     "name": "stderr",
     "output_type": "stream",
     "text": [
      "510it [05:53,  1.44it/s]                                                                                               \n"
     ]
    },
    {
     "name": "stdout",
     "output_type": "stream",
     "text": [
      "Saving results in \\\\dk-server.dk.ucsd.edu\\afassihizakeri\\Topviewmovies\\ar35motor\\2022_02_04...\n",
      "Saving csv poses!\n",
      "Starting to analyze %  \\\\dk-server.dk.ucsd.edu\\afassihizakeri\\Topviewmovies\\ar35motor\\2022_02_04\\64video.mp4\n",
      "Loading  \\\\dk-server.dk.ucsd.edu\\afassihizakeri\\Topviewmovies\\ar35motor\\2022_02_04\\64video.mp4\n",
      "Duration of video [s]:  12.5 , recorded with  40.0 fps!\n",
      "Overall # of frames:  500  found with (before cropping) frame dimensions:  1440 484\n",
      "Starting to extract posture\n"
     ]
    },
    {
     "name": "stderr",
     "output_type": "stream",
     "text": [
      "510it [05:52,  1.45it/s]                                                                                               \n"
     ]
    },
    {
     "name": "stdout",
     "output_type": "stream",
     "text": [
      "Saving results in \\\\dk-server.dk.ucsd.edu\\afassihizakeri\\Topviewmovies\\ar35motor\\2022_02_04...\n",
      "Saving csv poses!\n",
      "Starting to analyze %  \\\\dk-server.dk.ucsd.edu\\afassihizakeri\\Topviewmovies\\ar35motor\\2022_02_04\\146video.mp4\n",
      "Loading  \\\\dk-server.dk.ucsd.edu\\afassihizakeri\\Topviewmovies\\ar35motor\\2022_02_04\\146video.mp4\n",
      "Duration of video [s]:  12.5 , recorded with  40.0 fps!\n",
      "Overall # of frames:  500  found with (before cropping) frame dimensions:  1440 484\n",
      "Starting to extract posture\n"
     ]
    },
    {
     "name": "stderr",
     "output_type": "stream",
     "text": [
      "510it [05:52,  1.45it/s]                                                                                               \n"
     ]
    },
    {
     "name": "stdout",
     "output_type": "stream",
     "text": [
      "Saving results in \\\\dk-server.dk.ucsd.edu\\afassihizakeri\\Topviewmovies\\ar35motor\\2022_02_04...\n",
      "Saving csv poses!\n",
      "Starting to analyze %  \\\\dk-server.dk.ucsd.edu\\afassihizakeri\\Topviewmovies\\ar35motor\\2022_02_04\\149video.mp4\n",
      "Loading  \\\\dk-server.dk.ucsd.edu\\afassihizakeri\\Topviewmovies\\ar35motor\\2022_02_04\\149video.mp4\n",
      "Duration of video [s]:  12.5 , recorded with  40.0 fps!\n",
      "Overall # of frames:  500  found with (before cropping) frame dimensions:  1440 484\n",
      "Starting to extract posture\n"
     ]
    },
    {
     "name": "stderr",
     "output_type": "stream",
     "text": [
      "510it [05:52,  1.45it/s]                                                                                               \n"
     ]
    },
    {
     "name": "stdout",
     "output_type": "stream",
     "text": [
      "Saving results in \\\\dk-server.dk.ucsd.edu\\afassihizakeri\\Topviewmovies\\ar35motor\\2022_02_04...\n",
      "Saving csv poses!\n",
      "Starting to analyze %  \\\\dk-server.dk.ucsd.edu\\afassihizakeri\\Topviewmovies\\ar35motor\\2022_02_04\\244video.mp4\n",
      "Loading  \\\\dk-server.dk.ucsd.edu\\afassihizakeri\\Topviewmovies\\ar35motor\\2022_02_04\\244video.mp4\n",
      "Duration of video [s]:  12.5 , recorded with  40.0 fps!\n",
      "Overall # of frames:  500  found with (before cropping) frame dimensions:  1440 484\n",
      "Starting to extract posture\n"
     ]
    },
    {
     "name": "stderr",
     "output_type": "stream",
     "text": [
      "510it [05:52,  1.45it/s]                                                                                               \n"
     ]
    },
    {
     "name": "stdout",
     "output_type": "stream",
     "text": [
      "Saving results in \\\\dk-server.dk.ucsd.edu\\afassihizakeri\\Topviewmovies\\ar35motor\\2022_02_04...\n",
      "Saving csv poses!\n",
      "Starting to analyze %  \\\\dk-server.dk.ucsd.edu\\afassihizakeri\\Topviewmovies\\ar35motor\\2022_02_04\\33video.mp4\n",
      "Loading  \\\\dk-server.dk.ucsd.edu\\afassihizakeri\\Topviewmovies\\ar35motor\\2022_02_04\\33video.mp4\n",
      "Duration of video [s]:  12.5 , recorded with  40.0 fps!\n",
      "Overall # of frames:  500  found with (before cropping) frame dimensions:  1440 484\n",
      "Starting to extract posture\n"
     ]
    },
    {
     "name": "stderr",
     "output_type": "stream",
     "text": [
      "510it [05:52,  1.45it/s]                                                                                               \n"
     ]
    },
    {
     "name": "stdout",
     "output_type": "stream",
     "text": [
      "Saving results in \\\\dk-server.dk.ucsd.edu\\afassihizakeri\\Topviewmovies\\ar35motor\\2022_02_04...\n",
      "Saving csv poses!\n",
      "Starting to analyze %  \\\\dk-server.dk.ucsd.edu\\afassihizakeri\\Topviewmovies\\ar35motor\\2022_02_04\\136video.mp4\n",
      "Starting to analyze %  \\\\dk-server.dk.ucsd.edu\\afassihizakeri\\Topviewmovies\\ar35motor\\2022_02_04\\234video.mp4\n",
      "Loading  \\\\dk-server.dk.ucsd.edu\\afassihizakeri\\Topviewmovies\\ar35motor\\2022_02_04\\234video.mp4\n",
      "Duration of video [s]:  12.5 , recorded with  40.0 fps!\n",
      "Overall # of frames:  500  found with (before cropping) frame dimensions:  1440 484\n",
      "Starting to extract posture\n"
     ]
    },
    {
     "name": "stderr",
     "output_type": "stream",
     "text": [
      "510it [05:51,  1.45it/s]                                                                                               \n"
     ]
    },
    {
     "name": "stdout",
     "output_type": "stream",
     "text": [
      "Saving results in \\\\dk-server.dk.ucsd.edu\\afassihizakeri\\Topviewmovies\\ar35motor\\2022_02_04...\n",
      "Saving csv poses!\n",
      "Starting to analyze %  \\\\dk-server.dk.ucsd.edu\\afassihizakeri\\Topviewmovies\\ar35motor\\2022_02_04\\139video.mp4\n",
      "Starting to analyze %  \\\\dk-server.dk.ucsd.edu\\afassihizakeri\\Topviewmovies\\ar35motor\\2022_02_04\\43video.mp4\n",
      "Starting to analyze %  \\\\dk-server.dk.ucsd.edu\\afassihizakeri\\Topviewmovies\\ar35motor\\2022_02_04\\308video.mp4\n",
      "Starting to analyze %  \\\\dk-server.dk.ucsd.edu\\afassihizakeri\\Topviewmovies\\ar35motor\\2022_02_04\\307video.mp4\n",
      "Starting to analyze %  \\\\dk-server.dk.ucsd.edu\\afassihizakeri\\Topviewmovies\\ar35motor\\2022_02_04\\187video.mp4\n",
      "Starting to analyze %  \\\\dk-server.dk.ucsd.edu\\afassihizakeri\\Topviewmovies\\ar35motor\\2022_02_04\\188video.mp4\n",
      "Loading  \\\\dk-server.dk.ucsd.edu\\afassihizakeri\\Topviewmovies\\ar35motor\\2022_02_04\\188video.mp4\n",
      "Duration of video [s]:  12.5 , recorded with  40.0 fps!\n",
      "Overall # of frames:  500  found with (before cropping) frame dimensions:  1440 484\n",
      "Starting to extract posture\n"
     ]
    },
    {
     "name": "stderr",
     "output_type": "stream",
     "text": [
      "510it [05:52,  1.45it/s]                                                                                               \n"
     ]
    },
    {
     "name": "stdout",
     "output_type": "stream",
     "text": [
      "Saving results in \\\\dk-server.dk.ucsd.edu\\afassihizakeri\\Topviewmovies\\ar35motor\\2022_02_04...\n",
      "Saving csv poses!\n",
      "Starting to analyze %  \\\\dk-server.dk.ucsd.edu\\afassihizakeri\\Topviewmovies\\ar35motor\\2022_02_04\\285video.mp4\n",
      "Loading  \\\\dk-server.dk.ucsd.edu\\afassihizakeri\\Topviewmovies\\ar35motor\\2022_02_04\\285video.mp4\n",
      "Duration of video [s]:  12.5 , recorded with  40.0 fps!\n",
      "Overall # of frames:  500  found with (before cropping) frame dimensions:  1440 484\n",
      "Starting to extract posture\n"
     ]
    },
    {
     "name": "stderr",
     "output_type": "stream",
     "text": [
      "510it [05:53,  1.44it/s]                                                                                               \n"
     ]
    },
    {
     "name": "stdout",
     "output_type": "stream",
     "text": [
      "Saving results in \\\\dk-server.dk.ucsd.edu\\afassihizakeri\\Topviewmovies\\ar35motor\\2022_02_04...\n",
      "Saving csv poses!\n",
      "Starting to analyze %  \\\\dk-server.dk.ucsd.edu\\afassihizakeri\\Topviewmovies\\ar35motor\\2022_02_04\\161video.mp4\n",
      "Loading  \\\\dk-server.dk.ucsd.edu\\afassihizakeri\\Topviewmovies\\ar35motor\\2022_02_04\\161video.mp4\n",
      "Duration of video [s]:  12.5 , recorded with  40.0 fps!\n",
      "Overall # of frames:  500  found with (before cropping) frame dimensions:  1440 484\n",
      "Starting to extract posture\n"
     ]
    },
    {
     "name": "stderr",
     "output_type": "stream",
     "text": [
      "510it [05:52,  1.45it/s]                                                                                               \n"
     ]
    },
    {
     "name": "stdout",
     "output_type": "stream",
     "text": [
      "Saving results in \\\\dk-server.dk.ucsd.edu\\afassihizakeri\\Topviewmovies\\ar35motor\\2022_02_04...\n",
      "Saving csv poses!\n",
      "Starting to analyze %  \\\\dk-server.dk.ucsd.edu\\afassihizakeri\\Topviewmovies\\ar35motor\\2022_02_04\\263video.mp4\n",
      "Loading  \\\\dk-server.dk.ucsd.edu\\afassihizakeri\\Topviewmovies\\ar35motor\\2022_02_04\\263video.mp4\n",
      "Duration of video [s]:  12.5 , recorded with  40.0 fps!\n",
      "Overall # of frames:  500  found with (before cropping) frame dimensions:  1440 484\n",
      "Starting to extract posture\n"
     ]
    },
    {
     "name": "stderr",
     "output_type": "stream",
     "text": [
      "510it [05:54,  1.44it/s]                                                                                               \n"
     ]
    },
    {
     "name": "stdout",
     "output_type": "stream",
     "text": [
      "Saving results in \\\\dk-server.dk.ucsd.edu\\afassihizakeri\\Topviewmovies\\ar35motor\\2022_02_04...\n",
      "Saving csv poses!\n",
      "Starting to analyze %  \\\\dk-server.dk.ucsd.edu\\afassihizakeri\\Topviewmovies\\ar35motor\\2022_02_04\\14video.mp4\n",
      "Loading  \\\\dk-server.dk.ucsd.edu\\afassihizakeri\\Topviewmovies\\ar35motor\\2022_02_04\\14video.mp4\n",
      "Duration of video [s]:  12.5 , recorded with  40.0 fps!\n",
      "Overall # of frames:  500  found with (before cropping) frame dimensions:  1440 484\n",
      "Starting to extract posture\n"
     ]
    },
    {
     "name": "stderr",
     "output_type": "stream",
     "text": [
      "510it [05:52,  1.45it/s]                                                                                               \n"
     ]
    },
    {
     "name": "stdout",
     "output_type": "stream",
     "text": [
      "Saving results in \\\\dk-server.dk.ucsd.edu\\afassihizakeri\\Topviewmovies\\ar35motor\\2022_02_04...\n",
      "Saving csv poses!\n",
      "Starting to analyze %  \\\\dk-server.dk.ucsd.edu\\afassihizakeri\\Topviewmovies\\ar35motor\\2022_02_04\\53video.mp4\n",
      "Loading  \\\\dk-server.dk.ucsd.edu\\afassihizakeri\\Topviewmovies\\ar35motor\\2022_02_04\\53video.mp4\n",
      "Duration of video [s]:  12.5 , recorded with  40.0 fps!\n",
      "Overall # of frames:  500  found with (before cropping) frame dimensions:  1440 484\n",
      "Starting to extract posture\n"
     ]
    },
    {
     "name": "stderr",
     "output_type": "stream",
     "text": [
      "510it [05:52,  1.45it/s]                                                                                               \n"
     ]
    },
    {
     "name": "stdout",
     "output_type": "stream",
     "text": [
      "Saving results in \\\\dk-server.dk.ucsd.edu\\afassihizakeri\\Topviewmovies\\ar35motor\\2022_02_04...\n",
      "Saving csv poses!\n",
      "Starting to analyze %  \\\\dk-server.dk.ucsd.edu\\afassihizakeri\\Topviewmovies\\ar35motor\\2022_02_04\\224video.mp4\n",
      "Loading  \\\\dk-server.dk.ucsd.edu\\afassihizakeri\\Topviewmovies\\ar35motor\\2022_02_04\\224video.mp4\n",
      "Duration of video [s]:  12.5 , recorded with  40.0 fps!\n",
      "Overall # of frames:  500  found with (before cropping) frame dimensions:  1440 484\n",
      "Starting to extract posture\n"
     ]
    },
    {
     "name": "stderr",
     "output_type": "stream",
     "text": [
      "510it [05:52,  1.45it/s]                                                                                               \n"
     ]
    },
    {
     "name": "stdout",
     "output_type": "stream",
     "text": [
      "Saving results in \\\\dk-server.dk.ucsd.edu\\afassihizakeri\\Topviewmovies\\ar35motor\\2022_02_04...\n",
      "Saving csv poses!\n",
      "Starting to analyze %  \\\\dk-server.dk.ucsd.edu\\afassihizakeri\\Topviewmovies\\ar35motor\\2022_02_04\\129video.mp4\n",
      "Loading  \\\\dk-server.dk.ucsd.edu\\afassihizakeri\\Topviewmovies\\ar35motor\\2022_02_04\\129video.mp4\n",
      "Duration of video [s]:  12.5 , recorded with  40.0 fps!\n",
      "Overall # of frames:  500  found with (before cropping) frame dimensions:  1440 484\n",
      "Starting to extract posture\n"
     ]
    },
    {
     "name": "stderr",
     "output_type": "stream",
     "text": [
      "510it [05:52,  1.45it/s]                                                                                               \n"
     ]
    },
    {
     "name": "stdout",
     "output_type": "stream",
     "text": [
      "Saving results in \\\\dk-server.dk.ucsd.edu\\afassihizakeri\\Topviewmovies\\ar35motor\\2022_02_04...\n",
      "Saving csv poses!\n",
      "Starting to analyze %  \\\\dk-server.dk.ucsd.edu\\afassihizakeri\\Topviewmovies\\ar35motor\\2022_02_04\\126video.mp4\n",
      "Loading  \\\\dk-server.dk.ucsd.edu\\afassihizakeri\\Topviewmovies\\ar35motor\\2022_02_04\\126video.mp4\n",
      "Duration of video [s]:  12.5 , recorded with  40.0 fps!\n",
      "Overall # of frames:  500  found with (before cropping) frame dimensions:  1440 484\n",
      "Starting to extract posture\n"
     ]
    },
    {
     "name": "stderr",
     "output_type": "stream",
     "text": [
      "510it [05:53,  1.44it/s]                                                                                               \n"
     ]
    },
    {
     "name": "stdout",
     "output_type": "stream",
     "text": [
      "Saving results in \\\\dk-server.dk.ucsd.edu\\afassihizakeri\\Topviewmovies\\ar35motor\\2022_02_04...\n",
      "Saving csv poses!\n",
      "Starting to analyze %  \\\\dk-server.dk.ucsd.edu\\afassihizakeri\\Topviewmovies\\ar35motor\\2022_02_04\\4video.mp4\n",
      "Loading  \\\\dk-server.dk.ucsd.edu\\afassihizakeri\\Topviewmovies\\ar35motor\\2022_02_04\\4video.mp4\n",
      "Duration of video [s]:  12.5 , recorded with  40.0 fps!\n",
      "Overall # of frames:  500  found with (before cropping) frame dimensions:  1440 484\n",
      "Starting to extract posture\n"
     ]
    },
    {
     "name": "stderr",
     "output_type": "stream",
     "text": [
      "510it [05:52,  1.45it/s]                                                                                               \n"
     ]
    },
    {
     "name": "stdout",
     "output_type": "stream",
     "text": [
      "Saving results in \\\\dk-server.dk.ucsd.edu\\afassihizakeri\\Topviewmovies\\ar35motor\\2022_02_04...\n",
      "Saving csv poses!\n",
      "Starting to analyze %  \\\\dk-server.dk.ucsd.edu\\afassihizakeri\\Topviewmovies\\ar35motor\\2022_02_04\\198video.mp4\n",
      "Loading  \\\\dk-server.dk.ucsd.edu\\afassihizakeri\\Topviewmovies\\ar35motor\\2022_02_04\\198video.mp4\n",
      "Duration of video [s]:  12.5 , recorded with  40.0 fps!\n",
      "Overall # of frames:  500  found with (before cropping) frame dimensions:  1440 484\n",
      "Starting to extract posture\n"
     ]
    },
    {
     "name": "stderr",
     "output_type": "stream",
     "text": [
      "510it [05:52,  1.45it/s]                                                                                               \n"
     ]
    },
    {
     "name": "stdout",
     "output_type": "stream",
     "text": [
      "Saving results in \\\\dk-server.dk.ucsd.edu\\afassihizakeri\\Topviewmovies\\ar35motor\\2022_02_04...\n",
      "Saving csv poses!\n",
      "Starting to analyze %  \\\\dk-server.dk.ucsd.edu\\afassihizakeri\\Topviewmovies\\ar35motor\\2022_02_04\\295video.mp4\n",
      "Loading  \\\\dk-server.dk.ucsd.edu\\afassihizakeri\\Topviewmovies\\ar35motor\\2022_02_04\\295video.mp4\n",
      "Duration of video [s]:  12.5 , recorded with  40.0 fps!\n",
      "Overall # of frames:  500  found with (before cropping) frame dimensions:  1440 484\n",
      "Starting to extract posture\n"
     ]
    },
    {
     "name": "stderr",
     "output_type": "stream",
     "text": [
      "510it [05:52,  1.45it/s]                                                                                               \n"
     ]
    },
    {
     "name": "stdout",
     "output_type": "stream",
     "text": [
      "Saving results in \\\\dk-server.dk.ucsd.edu\\afassihizakeri\\Topviewmovies\\ar35motor\\2022_02_04...\n",
      "Saving csv poses!\n",
      "Starting to analyze %  \\\\dk-server.dk.ucsd.edu\\afassihizakeri\\Topviewmovies\\ar35motor\\2022_02_04\\197video.mp4\n",
      "Loading  \\\\dk-server.dk.ucsd.edu\\afassihizakeri\\Topviewmovies\\ar35motor\\2022_02_04\\197video.mp4\n",
      "Duration of video [s]:  12.5 , recorded with  40.0 fps!\n",
      "Overall # of frames:  500  found with (before cropping) frame dimensions:  1440 484\n",
      "Starting to extract posture\n"
     ]
    },
    {
     "name": "stderr",
     "output_type": "stream",
     "text": [
      "510it [05:53,  1.44it/s]                                                                                               \n"
     ]
    },
    {
     "name": "stdout",
     "output_type": "stream",
     "text": [
      "Saving results in \\\\dk-server.dk.ucsd.edu\\afassihizakeri\\Topviewmovies\\ar35motor\\2022_02_04...\n",
      "Saving csv poses!\n",
      "Starting to analyze %  \\\\dk-server.dk.ucsd.edu\\afassihizakeri\\Topviewmovies\\ar35motor\\2022_02_04\\273video.mp4\n",
      "Loading  \\\\dk-server.dk.ucsd.edu\\afassihizakeri\\Topviewmovies\\ar35motor\\2022_02_04\\273video.mp4\n",
      "Duration of video [s]:  12.5 , recorded with  40.0 fps!\n",
      "Overall # of frames:  500  found with (before cropping) frame dimensions:  1440 484\n",
      "Starting to extract posture\n"
     ]
    },
    {
     "name": "stderr",
     "output_type": "stream",
     "text": [
      "510it [05:53,  1.44it/s]                                                                                               \n"
     ]
    },
    {
     "name": "stdout",
     "output_type": "stream",
     "text": [
      "Saving results in \\\\dk-server.dk.ucsd.edu\\afassihizakeri\\Topviewmovies\\ar35motor\\2022_02_04...\n",
      "Saving csv poses!\n",
      "Starting to analyze %  \\\\dk-server.dk.ucsd.edu\\afassihizakeri\\Topviewmovies\\ar35motor\\2022_02_04\\171video.mp4\n",
      "Loading  \\\\dk-server.dk.ucsd.edu\\afassihizakeri\\Topviewmovies\\ar35motor\\2022_02_04\\171video.mp4\n",
      "Duration of video [s]:  12.5 , recorded with  40.0 fps!\n",
      "Overall # of frames:  500  found with (before cropping) frame dimensions:  1440 484\n",
      "Starting to extract posture\n"
     ]
    },
    {
     "name": "stderr",
     "output_type": "stream",
     "text": [
      "510it [05:53,  1.44it/s]                                                                                               \n"
     ]
    },
    {
     "name": "stdout",
     "output_type": "stream",
     "text": [
      "Saving results in \\\\dk-server.dk.ucsd.edu\\afassihizakeri\\Topviewmovies\\ar35motor\\2022_02_04...\n",
      "Saving csv poses!\n",
      "Starting to analyze %  \\\\dk-server.dk.ucsd.edu\\afassihizakeri\\Topviewmovies\\ar35motor\\2022_02_04\\85video.mp4\n",
      "Loading  \\\\dk-server.dk.ucsd.edu\\afassihizakeri\\Topviewmovies\\ar35motor\\2022_02_04\\85video.mp4\n",
      "Duration of video [s]:  12.5 , recorded with  40.0 fps!\n",
      "Overall # of frames:  500  found with (before cropping) frame dimensions:  1440 484\n",
      "Starting to extract posture\n"
     ]
    },
    {
     "name": "stderr",
     "output_type": "stream",
     "text": [
      "510it [05:54,  1.44it/s]                                                                                               \n"
     ]
    },
    {
     "name": "stdout",
     "output_type": "stream",
     "text": [
      "Saving results in \\\\dk-server.dk.ucsd.edu\\afassihizakeri\\Topviewmovies\\ar35motor\\2022_02_04...\n",
      "Saving csv poses!\n",
      "Starting to analyze %  \\\\dk-server.dk.ucsd.edu\\afassihizakeri\\Topviewmovies\\ar35motor\\2022_02_04\\119video.mp4\n",
      "Loading  \\\\dk-server.dk.ucsd.edu\\afassihizakeri\\Topviewmovies\\ar35motor\\2022_02_04\\119video.mp4\n",
      "Duration of video [s]:  12.5 , recorded with  40.0 fps!\n",
      "Overall # of frames:  500  found with (before cropping) frame dimensions:  1440 484\n",
      "Starting to extract posture\n"
     ]
    },
    {
     "name": "stderr",
     "output_type": "stream",
     "text": [
      "510it [05:52,  1.45it/s]                                                                                               \n"
     ]
    },
    {
     "name": "stdout",
     "output_type": "stream",
     "text": [
      "Saving results in \\\\dk-server.dk.ucsd.edu\\afassihizakeri\\Topviewmovies\\ar35motor\\2022_02_04...\n",
      "Saving csv poses!\n",
      "Starting to analyze %  \\\\dk-server.dk.ucsd.edu\\afassihizakeri\\Topviewmovies\\ar35motor\\2022_02_04\\214video.mp4\n",
      "Loading  \\\\dk-server.dk.ucsd.edu\\afassihizakeri\\Topviewmovies\\ar35motor\\2022_02_04\\214video.mp4\n",
      "Duration of video [s]:  12.5 , recorded with  40.0 fps!\n",
      "Overall # of frames:  500  found with (before cropping) frame dimensions:  1440 484\n",
      "Starting to extract posture\n"
     ]
    },
    {
     "name": "stderr",
     "output_type": "stream",
     "text": [
      "510it [05:53,  1.44it/s]                                                                                               \n"
     ]
    },
    {
     "name": "stdout",
     "output_type": "stream",
     "text": [
      "Saving results in \\\\dk-server.dk.ucsd.edu\\afassihizakeri\\Topviewmovies\\ar35motor\\2022_02_04...\n",
      "Saving csv poses!\n",
      "Starting to analyze %  \\\\dk-server.dk.ucsd.edu\\afassihizakeri\\Topviewmovies\\ar35motor\\2022_02_04\\63video.mp4\n",
      "Loading  \\\\dk-server.dk.ucsd.edu\\afassihizakeri\\Topviewmovies\\ar35motor\\2022_02_04\\63video.mp4\n",
      "Duration of video [s]:  12.5 , recorded with  40.0 fps!\n",
      "Overall # of frames:  500  found with (before cropping) frame dimensions:  1440 484\n",
      "Starting to extract posture\n"
     ]
    },
    {
     "name": "stderr",
     "output_type": "stream",
     "text": [
      "510it [05:52,  1.45it/s]                                                                                               \n"
     ]
    },
    {
     "name": "stdout",
     "output_type": "stream",
     "text": [
      "Saving results in \\\\dk-server.dk.ucsd.edu\\afassihizakeri\\Topviewmovies\\ar35motor\\2022_02_04...\n",
      "Saving csv poses!\n",
      "Starting to analyze %  \\\\dk-server.dk.ucsd.edu\\afassihizakeri\\Topviewmovies\\ar35motor\\2022_02_04\\116video.mp4\n",
      "Loading  \\\\dk-server.dk.ucsd.edu\\afassihizakeri\\Topviewmovies\\ar35motor\\2022_02_04\\116video.mp4\n",
      "Duration of video [s]:  12.5 , recorded with  40.0 fps!\n",
      "Overall # of frames:  500  found with (before cropping) frame dimensions:  1440 484\n",
      "Starting to extract posture\n"
     ]
    },
    {
     "name": "stderr",
     "output_type": "stream",
     "text": [
      "510it [05:52,  1.45it/s]                                                                                               \n"
     ]
    },
    {
     "name": "stdout",
     "output_type": "stream",
     "text": [
      "Saving results in \\\\dk-server.dk.ucsd.edu\\afassihizakeri\\Topviewmovies\\ar35motor\\2022_02_04...\n",
      "Saving csv poses!\n",
      "Starting to analyze %  \\\\dk-server.dk.ucsd.edu\\afassihizakeri\\Topviewmovies\\ar35motor\\2022_02_04\\243video.mp4\n",
      "Loading  \\\\dk-server.dk.ucsd.edu\\afassihizakeri\\Topviewmovies\\ar35motor\\2022_02_04\\243video.mp4\n",
      "Duration of video [s]:  12.5 , recorded with  40.0 fps!\n",
      "Overall # of frames:  500  found with (before cropping) frame dimensions:  1440 484\n",
      "Starting to extract posture\n"
     ]
    },
    {
     "name": "stderr",
     "output_type": "stream",
     "text": [
      "510it [05:52,  1.45it/s]                                                                                               \n"
     ]
    },
    {
     "name": "stdout",
     "output_type": "stream",
     "text": [
      "Saving results in \\\\dk-server.dk.ucsd.edu\\afassihizakeri\\Topviewmovies\\ar35motor\\2022_02_04...\n",
      "Saving csv poses!\n",
      "Starting to analyze %  \\\\dk-server.dk.ucsd.edu\\afassihizakeri\\Topviewmovies\\ar35motor\\2022_02_04\\34video.mp4\n",
      "Loading  \\\\dk-server.dk.ucsd.edu\\afassihizakeri\\Topviewmovies\\ar35motor\\2022_02_04\\34video.mp4\n",
      "Duration of video [s]:  12.5 , recorded with  40.0 fps!\n",
      "Overall # of frames:  500  found with (before cropping) frame dimensions:  1440 484\n",
      "Starting to extract posture\n"
     ]
    },
    {
     "name": "stderr",
     "output_type": "stream",
     "text": [
      "510it [05:52,  1.45it/s]                                                                                               \n"
     ]
    },
    {
     "name": "stdout",
     "output_type": "stream",
     "text": [
      "Saving results in \\\\dk-server.dk.ucsd.edu\\afassihizakeri\\Topviewmovies\\ar35motor\\2022_02_04...\n",
      "Saving csv poses!\n",
      "Starting to analyze %  \\\\dk-server.dk.ucsd.edu\\afassihizakeri\\Topviewmovies\\ar35motor\\2022_02_04\\141video.mp4\n",
      "Loading  \\\\dk-server.dk.ucsd.edu\\afassihizakeri\\Topviewmovies\\ar35motor\\2022_02_04\\141video.mp4\n",
      "Duration of video [s]:  12.5 , recorded with  40.0 fps!\n",
      "Overall # of frames:  500  found with (before cropping) frame dimensions:  1440 484\n",
      "Starting to extract posture\n"
     ]
    },
    {
     "name": "stderr",
     "output_type": "stream",
     "text": [
      "510it [05:52,  1.45it/s]                                                                                               \n"
     ]
    },
    {
     "name": "stdout",
     "output_type": "stream",
     "text": [
      "Saving results in \\\\dk-server.dk.ucsd.edu\\afassihizakeri\\Topviewmovies\\ar35motor\\2022_02_04...\n",
      "Saving csv poses!\n",
      "Starting to analyze %  \\\\dk-server.dk.ucsd.edu\\afassihizakeri\\Topviewmovies\\ar35motor\\2022_02_04\\95video.mp4\n",
      "Loading  \\\\dk-server.dk.ucsd.edu\\afassihizakeri\\Topviewmovies\\ar35motor\\2022_02_04\\95video.mp4\n",
      "Duration of video [s]:  12.5 , recorded with  40.0 fps!\n",
      "Overall # of frames:  500  found with (before cropping) frame dimensions:  1440 484\n",
      "Starting to extract posture\n"
     ]
    },
    {
     "name": "stderr",
     "output_type": "stream",
     "text": [
      "510it [05:52,  1.45it/s]                                                                                               \n"
     ]
    },
    {
     "name": "stdout",
     "output_type": "stream",
     "text": [
      "Saving results in \\\\dk-server.dk.ucsd.edu\\afassihizakeri\\Topviewmovies\\ar35motor\\2022_02_04...\n",
      "Saving csv poses!\n",
      "Starting to analyze %  \\\\dk-server.dk.ucsd.edu\\afassihizakeri\\Topviewmovies\\ar35motor\\2022_02_04\\106video.mp4\n",
      "Loading  \\\\dk-server.dk.ucsd.edu\\afassihizakeri\\Topviewmovies\\ar35motor\\2022_02_04\\106video.mp4\n",
      "Duration of video [s]:  12.5 , recorded with  40.0 fps!\n",
      "Overall # of frames:  500  found with (before cropping) frame dimensions:  1440 484\n",
      "Starting to extract posture\n"
     ]
    },
    {
     "name": "stderr",
     "output_type": "stream",
     "text": [
      "510it [05:54,  1.44it/s]                                                                                               \n"
     ]
    },
    {
     "name": "stdout",
     "output_type": "stream",
     "text": [
      "Saving results in \\\\dk-server.dk.ucsd.edu\\afassihizakeri\\Topviewmovies\\ar35motor\\2022_02_04...\n",
      "Saving csv poses!\n",
      "Starting to analyze %  \\\\dk-server.dk.ucsd.edu\\afassihizakeri\\Topviewmovies\\ar35motor\\2022_02_04\\73video.mp4\n",
      "Loading  \\\\dk-server.dk.ucsd.edu\\afassihizakeri\\Topviewmovies\\ar35motor\\2022_02_04\\73video.mp4\n",
      "Duration of video [s]:  12.5 , recorded with  40.0 fps!\n",
      "Overall # of frames:  500  found with (before cropping) frame dimensions:  1440 484\n",
      "Starting to extract posture\n"
     ]
    },
    {
     "name": "stderr",
     "output_type": "stream",
     "text": [
      "510it [05:51,  1.45it/s]                                                                                               \n"
     ]
    },
    {
     "name": "stdout",
     "output_type": "stream",
     "text": [
      "Saving results in \\\\dk-server.dk.ucsd.edu\\afassihizakeri\\Topviewmovies\\ar35motor\\2022_02_04...\n",
      "Saving csv poses!\n",
      "Starting to analyze %  \\\\dk-server.dk.ucsd.edu\\afassihizakeri\\Topviewmovies\\ar35motor\\2022_02_04\\109video.mp4\n",
      "Loading  \\\\dk-server.dk.ucsd.edu\\afassihizakeri\\Topviewmovies\\ar35motor\\2022_02_04\\109video.mp4\n",
      "Duration of video [s]:  12.5 , recorded with  40.0 fps!\n",
      "Overall # of frames:  500  found with (before cropping) frame dimensions:  1440 484\n",
      "Starting to extract posture\n"
     ]
    },
    {
     "name": "stderr",
     "output_type": "stream",
     "text": [
      "510it [05:54,  1.44it/s]                                                                                               \n"
     ]
    },
    {
     "name": "stdout",
     "output_type": "stream",
     "text": [
      "Saving results in \\\\dk-server.dk.ucsd.edu\\afassihizakeri\\Topviewmovies\\ar35motor\\2022_02_04...\n",
      "Saving csv poses!\n",
      "Starting to analyze %  \\\\dk-server.dk.ucsd.edu\\afassihizakeri\\Topviewmovies\\ar35motor\\2022_02_04\\204video.mp4\n",
      "Loading  \\\\dk-server.dk.ucsd.edu\\afassihizakeri\\Topviewmovies\\ar35motor\\2022_02_04\\204video.mp4\n",
      "Duration of video [s]:  12.5 , recorded with  40.0 fps!\n",
      "Overall # of frames:  500  found with (before cropping) frame dimensions:  1440 484\n",
      "Starting to extract posture\n"
     ]
    },
    {
     "name": "stderr",
     "output_type": "stream",
     "text": [
      "510it [05:52,  1.45it/s]                                                                                               \n"
     ]
    },
    {
     "name": "stdout",
     "output_type": "stream",
     "text": [
      "Saving results in \\\\dk-server.dk.ucsd.edu\\afassihizakeri\\Topviewmovies\\ar35motor\\2022_02_04...\n",
      "Saving csv poses!\n",
      "Starting to analyze %  \\\\dk-server.dk.ucsd.edu\\afassihizakeri\\Topviewmovies\\ar35motor\\2022_02_04\\151video.mp4\n",
      "Loading  \\\\dk-server.dk.ucsd.edu\\afassihizakeri\\Topviewmovies\\ar35motor\\2022_02_04\\151video.mp4\n",
      "Duration of video [s]:  12.5 , recorded with  40.0 fps!\n",
      "Overall # of frames:  500  found with (before cropping) frame dimensions:  1440 484\n",
      "Starting to extract posture\n"
     ]
    },
    {
     "name": "stderr",
     "output_type": "stream",
     "text": [
      "510it [05:52,  1.45it/s]                                                                                               \n"
     ]
    },
    {
     "name": "stdout",
     "output_type": "stream",
     "text": [
      "Saving results in \\\\dk-server.dk.ucsd.edu\\afassihizakeri\\Topviewmovies\\ar35motor\\2022_02_04...\n",
      "Saving csv poses!\n",
      "Starting to analyze %  \\\\dk-server.dk.ucsd.edu\\afassihizakeri\\Topviewmovies\\ar35motor\\2022_02_04\\24video.mp4\n",
      "Loading  \\\\dk-server.dk.ucsd.edu\\afassihizakeri\\Topviewmovies\\ar35motor\\2022_02_04\\24video.mp4\n",
      "Duration of video [s]:  12.5 , recorded with  40.0 fps!\n",
      "Overall # of frames:  500  found with (before cropping) frame dimensions:  1440 484\n",
      "Starting to extract posture\n"
     ]
    },
    {
     "name": "stderr",
     "output_type": "stream",
     "text": [
      "510it [05:52,  1.44it/s]                                                                                               \n"
     ]
    },
    {
     "name": "stdout",
     "output_type": "stream",
     "text": [
      "Saving results in \\\\dk-server.dk.ucsd.edu\\afassihizakeri\\Topviewmovies\\ar35motor\\2022_02_04...\n",
      "Saving csv poses!\n",
      "Starting to analyze %  \\\\dk-server.dk.ucsd.edu\\afassihizakeri\\Topviewmovies\\ar35motor\\2022_02_04\\253video.mp4\n",
      "Starting to analyze %  \\\\dk-server.dk.ucsd.edu\\afassihizakeri\\Topviewmovies\\ar35motor\\2022_02_04\\100video.mp4\n",
      "Starting to analyze %  \\\\dk-server.dk.ucsd.edu\\afassihizakeri\\Topviewmovies\\ar35motor\\2022_02_04\\202video.mp4\n",
      "Loading  \\\\dk-server.dk.ucsd.edu\\afassihizakeri\\Topviewmovies\\ar35motor\\2022_02_04\\202video.mp4\n",
      "Duration of video [s]:  12.5 , recorded with  40.0 fps!\n",
      "Overall # of frames:  500  found with (before cropping) frame dimensions:  1440 484\n",
      "Starting to extract posture\n"
     ]
    },
    {
     "name": "stderr",
     "output_type": "stream",
     "text": [
      "510it [05:51,  1.45it/s]                                                                                               \n"
     ]
    },
    {
     "name": "stdout",
     "output_type": "stream",
     "text": [
      "Saving results in \\\\dk-server.dk.ucsd.edu\\afassihizakeri\\Topviewmovies\\ar35motor\\2022_02_04...\n",
      "Saving csv poses!\n",
      "Starting to analyze %  \\\\dk-server.dk.ucsd.edu\\afassihizakeri\\Topviewmovies\\ar35motor\\2022_02_04\\75video.mp4\n",
      "Loading  \\\\dk-server.dk.ucsd.edu\\afassihizakeri\\Topviewmovies\\ar35motor\\2022_02_04\\75video.mp4\n",
      "Duration of video [s]:  12.5 , recorded with  40.0 fps!\n",
      "Overall # of frames:  500  found with (before cropping) frame dimensions:  1440 484\n",
      "Starting to extract posture\n"
     ]
    },
    {
     "name": "stderr",
     "output_type": "stream",
     "text": [
      "510it [05:56,  1.43it/s]                                                                                               \n"
     ]
    },
    {
     "name": "stdout",
     "output_type": "stream",
     "text": [
      "Saving results in \\\\dk-server.dk.ucsd.edu\\afassihizakeri\\Topviewmovies\\ar35motor\\2022_02_04...\n",
      "Saving csv poses!\n",
      "Starting to analyze %  \\\\dk-server.dk.ucsd.edu\\afassihizakeri\\Topviewmovies\\ar35motor\\2022_02_04\\93video.mp4\n",
      "Loading  \\\\dk-server.dk.ucsd.edu\\afassihizakeri\\Topviewmovies\\ar35motor\\2022_02_04\\93video.mp4\n",
      "Duration of video [s]:  12.5 , recorded with  40.0 fps!\n",
      "Overall # of frames:  500  found with (before cropping) frame dimensions:  1440 484\n",
      "Starting to extract posture\n"
     ]
    },
    {
     "name": "stderr",
     "output_type": "stream",
     "text": [
      "510it [05:53,  1.44it/s]                                                                                               \n"
     ]
    },
    {
     "name": "stdout",
     "output_type": "stream",
     "text": [
      "Saving results in \\\\dk-server.dk.ucsd.edu\\afassihizakeri\\Topviewmovies\\ar35motor\\2022_02_04...\n",
      "Saving csv poses!\n",
      "Starting to analyze %  \\\\dk-server.dk.ucsd.edu\\afassihizakeri\\Topviewmovies\\ar35motor\\2022_02_04\\157video.mp4\n",
      "Loading  \\\\dk-server.dk.ucsd.edu\\afassihizakeri\\Topviewmovies\\ar35motor\\2022_02_04\\157video.mp4\n",
      "Duration of video [s]:  12.5 , recorded with  40.0 fps!\n",
      "Overall # of frames:  500  found with (before cropping) frame dimensions:  1440 484\n",
      "Starting to extract posture\n"
     ]
    },
    {
     "name": "stderr",
     "output_type": "stream",
     "text": [
      "510it [05:52,  1.45it/s]                                                                                               \n"
     ]
    },
    {
     "name": "stdout",
     "output_type": "stream",
     "text": [
      "Saving results in \\\\dk-server.dk.ucsd.edu\\afassihizakeri\\Topviewmovies\\ar35motor\\2022_02_04...\n",
      "Saving csv poses!\n",
      "Starting to analyze %  \\\\dk-server.dk.ucsd.edu\\afassihizakeri\\Topviewmovies\\ar35motor\\2022_02_04\\255video.mp4\n",
      "Loading  \\\\dk-server.dk.ucsd.edu\\afassihizakeri\\Topviewmovies\\ar35motor\\2022_02_04\\255video.mp4\n",
      "Duration of video [s]:  12.5 , recorded with  40.0 fps!\n",
      "Overall # of frames:  500  found with (before cropping) frame dimensions:  1440 484\n",
      "Starting to extract posture\n"
     ]
    },
    {
     "name": "stderr",
     "output_type": "stream",
     "text": [
      "510it [05:53,  1.44it/s]                                                                                               \n"
     ]
    },
    {
     "name": "stdout",
     "output_type": "stream",
     "text": [
      "Saving results in \\\\dk-server.dk.ucsd.edu\\afassihizakeri\\Topviewmovies\\ar35motor\\2022_02_04...\n",
      "Saving csv poses!\n",
      "Starting to analyze %  \\\\dk-server.dk.ucsd.edu\\afassihizakeri\\Topviewmovies\\ar35motor\\2022_02_04\\158video.mp4\n",
      "Loading  \\\\dk-server.dk.ucsd.edu\\afassihizakeri\\Topviewmovies\\ar35motor\\2022_02_04\\158video.mp4\n",
      "Duration of video [s]:  12.5 , recorded with  40.0 fps!\n",
      "Overall # of frames:  500  found with (before cropping) frame dimensions:  1440 484\n",
      "Starting to extract posture\n"
     ]
    },
    {
     "name": "stderr",
     "output_type": "stream",
     "text": [
      "510it [05:52,  1.45it/s]                                                                                               \n"
     ]
    },
    {
     "name": "stdout",
     "output_type": "stream",
     "text": [
      "Saving results in \\\\dk-server.dk.ucsd.edu\\afassihizakeri\\Topviewmovies\\ar35motor\\2022_02_04...\n",
      "Saving csv poses!\n",
      "Starting to analyze %  \\\\dk-server.dk.ucsd.edu\\afassihizakeri\\Topviewmovies\\ar35motor\\2022_02_04\\22video.mp4\n",
      "Loading  \\\\dk-server.dk.ucsd.edu\\afassihizakeri\\Topviewmovies\\ar35motor\\2022_02_04\\22video.mp4\n",
      "Duration of video [s]:  12.5 , recorded with  40.0 fps!\n",
      "Overall # of frames:  500  found with (before cropping) frame dimensions:  1440 484\n",
      "Starting to extract posture\n"
     ]
    },
    {
     "name": "stderr",
     "output_type": "stream",
     "text": [
      "510it [05:52,  1.45it/s]                                                                                               \n"
     ]
    },
    {
     "name": "stdout",
     "output_type": "stream",
     "text": [
      "Saving results in \\\\dk-server.dk.ucsd.edu\\afassihizakeri\\Topviewmovies\\ar35motor\\2022_02_04...\n",
      "Saving csv poses!\n",
      "Starting to analyze %  \\\\dk-server.dk.ucsd.edu\\afassihizakeri\\Topviewmovies\\ar35motor\\2022_02_04\\65video.mp4\n",
      "Loading  \\\\dk-server.dk.ucsd.edu\\afassihizakeri\\Topviewmovies\\ar35motor\\2022_02_04\\65video.mp4\n",
      "Duration of video [s]:  12.5 , recorded with  40.0 fps!\n",
      "Overall # of frames:  500  found with (before cropping) frame dimensions:  1440 484\n",
      "Starting to extract posture\n"
     ]
    },
    {
     "name": "stderr",
     "output_type": "stream",
     "text": [
      "510it [05:53,  1.44it/s]                                                                                               \n"
     ]
    },
    {
     "name": "stdout",
     "output_type": "stream",
     "text": [
      "Saving results in \\\\dk-server.dk.ucsd.edu\\afassihizakeri\\Topviewmovies\\ar35motor\\2022_02_04...\n",
      "Saving csv poses!\n",
      "Starting to analyze %  \\\\dk-server.dk.ucsd.edu\\afassihizakeri\\Topviewmovies\\ar35motor\\2022_02_04\\212video.mp4\n",
      "Starting to analyze %  \\\\dk-server.dk.ucsd.edu\\afassihizakeri\\Topviewmovies\\ar35motor\\2022_02_04\\110video.mp4\n",
      "Starting to analyze %  \\\\dk-server.dk.ucsd.edu\\afassihizakeri\\Topviewmovies\\ar35motor\\2022_02_04\\83video.mp4\n",
      "Starting to analyze %  \\\\dk-server.dk.ucsd.edu\\afassihizakeri\\Topviewmovies\\ar35motor\\2022_02_04\\32video.mp4\n",
      "Loading  \\\\dk-server.dk.ucsd.edu\\afassihizakeri\\Topviewmovies\\ar35motor\\2022_02_04\\32video.mp4\n",
      "Duration of video [s]:  12.5 , recorded with  40.0 fps!\n",
      "Overall # of frames:  500  found with (before cropping) frame dimensions:  1440 484\n",
      "Starting to extract posture\n"
     ]
    },
    {
     "name": "stderr",
     "output_type": "stream",
     "text": [
      "510it [05:51,  1.45it/s]                                                                                               \n"
     ]
    },
    {
     "name": "stdout",
     "output_type": "stream",
     "text": [
      "Saving results in \\\\dk-server.dk.ucsd.edu\\afassihizakeri\\Topviewmovies\\ar35motor\\2022_02_04...\n",
      "Saving csv poses!\n",
      "Starting to analyze %  \\\\dk-server.dk.ucsd.edu\\afassihizakeri\\Topviewmovies\\ar35motor\\2022_02_04\\245video.mp4\n",
      "Loading  \\\\dk-server.dk.ucsd.edu\\afassihizakeri\\Topviewmovies\\ar35motor\\2022_02_04\\245video.mp4\n",
      "Duration of video [s]:  12.5 , recorded with  40.0 fps!\n",
      "Overall # of frames:  500  found with (before cropping) frame dimensions:  1440 484\n",
      "Starting to extract posture\n"
     ]
    },
    {
     "name": "stderr",
     "output_type": "stream",
     "text": [
      "510it [05:52,  1.45it/s]                                                                                               \n"
     ]
    },
    {
     "name": "stdout",
     "output_type": "stream",
     "text": [
      "Saving results in \\\\dk-server.dk.ucsd.edu\\afassihizakeri\\Topviewmovies\\ar35motor\\2022_02_04...\n",
      "Saving csv poses!\n",
      "Starting to analyze %  \\\\dk-server.dk.ucsd.edu\\afassihizakeri\\Topviewmovies\\ar35motor\\2022_02_04\\148video.mp4\n",
      "Loading  \\\\dk-server.dk.ucsd.edu\\afassihizakeri\\Topviewmovies\\ar35motor\\2022_02_04\\148video.mp4\n",
      "Duration of video [s]:  12.5 , recorded with  40.0 fps!\n",
      "Overall # of frames:  500  found with (before cropping) frame dimensions:  1440 484\n",
      "Starting to extract posture\n"
     ]
    },
    {
     "name": "stderr",
     "output_type": "stream",
     "text": [
      "510it [05:52,  1.45it/s]                                                                                               \n"
     ]
    },
    {
     "name": "stdout",
     "output_type": "stream",
     "text": [
      "Saving results in \\\\dk-server.dk.ucsd.edu\\afassihizakeri\\Topviewmovies\\ar35motor\\2022_02_04...\n",
      "Saving csv poses!\n",
      "Starting to analyze %  \\\\dk-server.dk.ucsd.edu\\afassihizakeri\\Topviewmovies\\ar35motor\\2022_02_04\\147video.mp4\n",
      "Loading  \\\\dk-server.dk.ucsd.edu\\afassihizakeri\\Topviewmovies\\ar35motor\\2022_02_04\\147video.mp4\n",
      "Duration of video [s]:  12.5 , recorded with  40.0 fps!\n",
      "Overall # of frames:  500  found with (before cropping) frame dimensions:  1440 484\n",
      "Starting to extract posture\n"
     ]
    },
    {
     "name": "stderr",
     "output_type": "stream",
     "text": [
      "510it [05:53,  1.44it/s]                                                                                               \n"
     ]
    },
    {
     "name": "stdout",
     "output_type": "stream",
     "text": [
      "Saving results in \\\\dk-server.dk.ucsd.edu\\afassihizakeri\\Topviewmovies\\ar35motor\\2022_02_04...\n",
      "Saving csv poses!\n",
      "Starting to analyze %  \\\\dk-server.dk.ucsd.edu\\afassihizakeri\\Topviewmovies\\ar35motor\\2022_02_04\\2video.mp4\n",
      "Loading  \\\\dk-server.dk.ucsd.edu\\afassihizakeri\\Topviewmovies\\ar35motor\\2022_02_04\\2video.mp4\n",
      "Duration of video [s]:  12.5 , recorded with  40.0 fps!\n",
      "Overall # of frames:  500  found with (before cropping) frame dimensions:  1440 484\n",
      "Starting to extract posture\n"
     ]
    },
    {
     "name": "stderr",
     "output_type": "stream",
     "text": [
      "510it [05:53,  1.44it/s]                                                                                               \n"
     ]
    },
    {
     "name": "stdout",
     "output_type": "stream",
     "text": [
      "Saving results in \\\\dk-server.dk.ucsd.edu\\afassihizakeri\\Topviewmovies\\ar35motor\\2022_02_04...\n",
      "Saving csv poses!\n",
      "Starting to analyze %  \\\\dk-server.dk.ucsd.edu\\afassihizakeri\\Topviewmovies\\ar35motor\\2022_02_04\\222video.mp4\n",
      "Loading  \\\\dk-server.dk.ucsd.edu\\afassihizakeri\\Topviewmovies\\ar35motor\\2022_02_04\\222video.mp4\n",
      "Duration of video [s]:  12.5 , recorded with  40.0 fps!\n",
      "Overall # of frames:  500  found with (before cropping) frame dimensions:  1440 484\n",
      "Starting to extract posture\n"
     ]
    },
    {
     "name": "stderr",
     "output_type": "stream",
     "text": [
      "510it [05:52,  1.45it/s]                                                                                               \n"
     ]
    },
    {
     "name": "stdout",
     "output_type": "stream",
     "text": [
      "Saving results in \\\\dk-server.dk.ucsd.edu\\afassihizakeri\\Topviewmovies\\ar35motor\\2022_02_04...\n",
      "Saving csv poses!\n",
      "Starting to analyze %  \\\\dk-server.dk.ucsd.edu\\afassihizakeri\\Topviewmovies\\ar35motor\\2022_02_04\\55video.mp4\n",
      "Loading  \\\\dk-server.dk.ucsd.edu\\afassihizakeri\\Topviewmovies\\ar35motor\\2022_02_04\\55video.mp4\n",
      "Duration of video [s]:  12.5 , recorded with  40.0 fps!\n",
      "Overall # of frames:  500  found with (before cropping) frame dimensions:  1440 484\n",
      "Starting to extract posture\n"
     ]
    },
    {
     "name": "stderr",
     "output_type": "stream",
     "text": [
      "510it [05:52,  1.45it/s]                                                                                               \n"
     ]
    },
    {
     "name": "stdout",
     "output_type": "stream",
     "text": [
      "Saving results in \\\\dk-server.dk.ucsd.edu\\afassihizakeri\\Topviewmovies\\ar35motor\\2022_02_04...\n",
      "Saving csv poses!\n",
      "Starting to analyze %  \\\\dk-server.dk.ucsd.edu\\afassihizakeri\\Topviewmovies\\ar35motor\\2022_02_04\\120video.mp4\n",
      "Loading  \\\\dk-server.dk.ucsd.edu\\afassihizakeri\\Topviewmovies\\ar35motor\\2022_02_04\\120video.mp4\n",
      "Duration of video [s]:  12.5 , recorded with  40.0 fps!\n",
      "Overall # of frames:  500  found with (before cropping) frame dimensions:  1440 484\n",
      "Starting to extract posture\n"
     ]
    },
    {
     "name": "stderr",
     "output_type": "stream",
     "text": [
      "510it [05:52,  1.44it/s]                                                                                               \n"
     ]
    },
    {
     "name": "stdout",
     "output_type": "stream",
     "text": [
      "Saving results in \\\\dk-server.dk.ucsd.edu\\afassihizakeri\\Topviewmovies\\ar35motor\\2022_02_04...\n",
      "Saving csv poses!\n",
      "Starting to analyze %  \\\\dk-server.dk.ucsd.edu\\afassihizakeri\\Topviewmovies\\ar35motor\\2022_02_04\\178video.mp4\n",
      "Loading  \\\\dk-server.dk.ucsd.edu\\afassihizakeri\\Topviewmovies\\ar35motor\\2022_02_04\\178video.mp4\n",
      "Duration of video [s]:  12.5 , recorded with  40.0 fps!\n",
      "Overall # of frames:  500  found with (before cropping) frame dimensions:  1440 484\n",
      "Starting to extract posture\n"
     ]
    },
    {
     "name": "stderr",
     "output_type": "stream",
     "text": [
      "510it [05:52,  1.45it/s]                                                                                               \n"
     ]
    },
    {
     "name": "stdout",
     "output_type": "stream",
     "text": [
      "Saving results in \\\\dk-server.dk.ucsd.edu\\afassihizakeri\\Topviewmovies\\ar35motor\\2022_02_04...\n",
      "Saving csv poses!\n",
      "Starting to analyze %  \\\\dk-server.dk.ucsd.edu\\afassihizakeri\\Topviewmovies\\ar35motor\\2022_02_04\\275video.mp4\n",
      "Loading  \\\\dk-server.dk.ucsd.edu\\afassihizakeri\\Topviewmovies\\ar35motor\\2022_02_04\\275video.mp4\n",
      "Duration of video [s]:  12.5 , recorded with  40.0 fps!\n",
      "Overall # of frames:  500  found with (before cropping) frame dimensions:  1440 484\n",
      "Starting to extract posture\n"
     ]
    },
    {
     "name": "stderr",
     "output_type": "stream",
     "text": [
      "510it [05:52,  1.45it/s]                                                                                               \n"
     ]
    },
    {
     "name": "stdout",
     "output_type": "stream",
     "text": [
      "Saving results in \\\\dk-server.dk.ucsd.edu\\afassihizakeri\\Topviewmovies\\ar35motor\\2022_02_04...\n",
      "Saving csv poses!\n",
      "Starting to analyze %  \\\\dk-server.dk.ucsd.edu\\afassihizakeri\\Topviewmovies\\ar35motor\\2022_02_04\\177video.mp4\n",
      "Loading  \\\\dk-server.dk.ucsd.edu\\afassihizakeri\\Topviewmovies\\ar35motor\\2022_02_04\\177video.mp4\n",
      "Duration of video [s]:  12.5 , recorded with  40.0 fps!\n",
      "Overall # of frames:  500  found with (before cropping) frame dimensions:  1440 484\n",
      "Starting to extract posture\n"
     ]
    },
    {
     "name": "stderr",
     "output_type": "stream",
     "text": [
      "510it [05:52,  1.45it/s]                                                                                               \n"
     ]
    },
    {
     "name": "stdout",
     "output_type": "stream",
     "text": [
      "Saving results in \\\\dk-server.dk.ucsd.edu\\afassihizakeri\\Topviewmovies\\ar35motor\\2022_02_04...\n",
      "Saving csv poses!\n",
      "Starting to analyze %  \\\\dk-server.dk.ucsd.edu\\afassihizakeri\\Topviewmovies\\ar35motor\\2022_02_04\\293video.mp4\n",
      "Loading  \\\\dk-server.dk.ucsd.edu\\afassihizakeri\\Topviewmovies\\ar35motor\\2022_02_04\\293video.mp4\n",
      "Duration of video [s]:  12.5 , recorded with  40.0 fps!\n",
      "Overall # of frames:  500  found with (before cropping) frame dimensions:  1440 484\n",
      "Starting to extract posture\n"
     ]
    },
    {
     "name": "stderr",
     "output_type": "stream",
     "text": [
      "510it [05:52,  1.45it/s]                                                                                               \n"
     ]
    },
    {
     "name": "stdout",
     "output_type": "stream",
     "text": [
      "Saving results in \\\\dk-server.dk.ucsd.edu\\afassihizakeri\\Topviewmovies\\ar35motor\\2022_02_04...\n",
      "Saving csv poses!\n",
      "Starting to analyze %  \\\\dk-server.dk.ucsd.edu\\afassihizakeri\\Topviewmovies\\ar35motor\\2022_02_04\\191video.mp4\n",
      "Loading  \\\\dk-server.dk.ucsd.edu\\afassihizakeri\\Topviewmovies\\ar35motor\\2022_02_04\\191video.mp4\n",
      "Duration of video [s]:  12.5 , recorded with  40.0 fps!\n",
      "Overall # of frames:  500  found with (before cropping) frame dimensions:  1440 484\n",
      "Starting to extract posture\n"
     ]
    },
    {
     "name": "stderr",
     "output_type": "stream",
     "text": [
      "510it [05:52,  1.45it/s]                                                                                               \n"
     ]
    },
    {
     "name": "stdout",
     "output_type": "stream",
     "text": [
      "Saving results in \\\\dk-server.dk.ucsd.edu\\afassihizakeri\\Topviewmovies\\ar35motor\\2022_02_04...\n",
      "Saving csv poses!\n",
      "Starting to analyze %  \\\\dk-server.dk.ucsd.edu\\afassihizakeri\\Topviewmovies\\ar35motor\\2022_02_04\\301video.mp4\n",
      "Loading  \\\\dk-server.dk.ucsd.edu\\afassihizakeri\\Topviewmovies\\ar35motor\\2022_02_04\\301video.mp4\n",
      "Duration of video [s]:  12.5 , recorded with  40.0 fps!\n",
      "Overall # of frames:  500  found with (before cropping) frame dimensions:  1440 484\n",
      "Starting to extract posture\n"
     ]
    },
    {
     "name": "stderr",
     "output_type": "stream",
     "text": [
      "510it [05:52,  1.45it/s]                                                                                               \n"
     ]
    },
    {
     "name": "stdout",
     "output_type": "stream",
     "text": [
      "Saving results in \\\\dk-server.dk.ucsd.edu\\afassihizakeri\\Topviewmovies\\ar35motor\\2022_02_04...\n",
      "Saving csv poses!\n",
      "Starting to analyze %  \\\\dk-server.dk.ucsd.edu\\afassihizakeri\\Topviewmovies\\ar35motor\\2022_02_04\\130video.mp4\n",
      "Loading  \\\\dk-server.dk.ucsd.edu\\afassihizakeri\\Topviewmovies\\ar35motor\\2022_02_04\\130video.mp4\n",
      "Duration of video [s]:  12.5 , recorded with  40.0 fps!\n",
      "Overall # of frames:  500  found with (before cropping) frame dimensions:  1440 484\n",
      "Starting to extract posture\n"
     ]
    },
    {
     "name": "stderr",
     "output_type": "stream",
     "text": [
      "510it [05:53,  1.44it/s]                                                                                               \n"
     ]
    },
    {
     "name": "stdout",
     "output_type": "stream",
     "text": [
      "Saving results in \\\\dk-server.dk.ucsd.edu\\afassihizakeri\\Topviewmovies\\ar35motor\\2022_02_04...\n",
      "Saving csv poses!\n",
      "Starting to analyze %  \\\\dk-server.dk.ucsd.edu\\afassihizakeri\\Topviewmovies\\ar35motor\\2022_02_04\\45video.mp4\n",
      "Loading  \\\\dk-server.dk.ucsd.edu\\afassihizakeri\\Topviewmovies\\ar35motor\\2022_02_04\\45video.mp4\n",
      "Duration of video [s]:  12.5 , recorded with  40.0 fps!\n",
      "Overall # of frames:  500  found with (before cropping) frame dimensions:  1440 484\n",
      "Starting to extract posture\n"
     ]
    },
    {
     "name": "stderr",
     "output_type": "stream",
     "text": [
      "510it [05:51,  1.45it/s]                                                                                               \n"
     ]
    },
    {
     "name": "stdout",
     "output_type": "stream",
     "text": [
      "Saving results in \\\\dk-server.dk.ucsd.edu\\afassihizakeri\\Topviewmovies\\ar35motor\\2022_02_04...\n",
      "Saving csv poses!\n",
      "Starting to analyze %  \\\\dk-server.dk.ucsd.edu\\afassihizakeri\\Topviewmovies\\ar35motor\\2022_02_04\\232video.mp4\n",
      "Loading  \\\\dk-server.dk.ucsd.edu\\afassihizakeri\\Topviewmovies\\ar35motor\\2022_02_04\\232video.mp4\n",
      "Duration of video [s]:  12.5 , recorded with  40.0 fps!\n",
      "Overall # of frames:  500  found with (before cropping) frame dimensions:  1440 484\n",
      "Starting to extract posture\n"
     ]
    },
    {
     "name": "stderr",
     "output_type": "stream",
     "text": [
      "510it [05:51,  1.45it/s]                                                                                               \n"
     ]
    },
    {
     "name": "stdout",
     "output_type": "stream",
     "text": [
      "Saving results in \\\\dk-server.dk.ucsd.edu\\afassihizakeri\\Topviewmovies\\ar35motor\\2022_02_04...\n",
      "Saving csv poses!\n",
      "Starting to analyze %  \\\\dk-server.dk.ucsd.edu\\afassihizakeri\\Topviewmovies\\ar35motor\\2022_02_04\\167video.mp4\n",
      "Loading  \\\\dk-server.dk.ucsd.edu\\afassihizakeri\\Topviewmovies\\ar35motor\\2022_02_04\\167video.mp4\n",
      "Duration of video [s]:  12.5 , recorded with  40.0 fps!\n",
      "Overall # of frames:  500  found with (before cropping) frame dimensions:  1440 484\n",
      "Starting to extract posture\n"
     ]
    },
    {
     "name": "stderr",
     "output_type": "stream",
     "text": [
      "510it [05:53,  1.44it/s]                                                                                               \n"
     ]
    },
    {
     "name": "stdout",
     "output_type": "stream",
     "text": [
      "Saving results in \\\\dk-server.dk.ucsd.edu\\afassihizakeri\\Topviewmovies\\ar35motor\\2022_02_04...\n",
      "Saving csv poses!\n",
      "Starting to analyze %  \\\\dk-server.dk.ucsd.edu\\afassihizakeri\\Topviewmovies\\ar35motor\\2022_02_04\\12video.mp4\n",
      "Loading  \\\\dk-server.dk.ucsd.edu\\afassihizakeri\\Topviewmovies\\ar35motor\\2022_02_04\\12video.mp4\n",
      "Duration of video [s]:  12.5 , recorded with  40.0 fps!\n",
      "Overall # of frames:  500  found with (before cropping) frame dimensions:  1440 484\n",
      "Starting to extract posture\n"
     ]
    },
    {
     "name": "stderr",
     "output_type": "stream",
     "text": [
      "510it [05:53,  1.44it/s]                                                                                               \n"
     ]
    },
    {
     "name": "stdout",
     "output_type": "stream",
     "text": [
      "Saving results in \\\\dk-server.dk.ucsd.edu\\afassihizakeri\\Topviewmovies\\ar35motor\\2022_02_04...\n",
      "Saving csv poses!\n",
      "Starting to analyze %  \\\\dk-server.dk.ucsd.edu\\afassihizakeri\\Topviewmovies\\ar35motor\\2022_02_04\\168video.mp4\n",
      "Loading  \\\\dk-server.dk.ucsd.edu\\afassihizakeri\\Topviewmovies\\ar35motor\\2022_02_04\\168video.mp4\n",
      "Duration of video [s]:  12.5 , recorded with  40.0 fps!\n",
      "Overall # of frames:  500  found with (before cropping) frame dimensions:  1440 484\n",
      "Starting to extract posture\n"
     ]
    },
    {
     "name": "stderr",
     "output_type": "stream",
     "text": [
      "510it [06:09,  1.38it/s]                                                                                               \n"
     ]
    },
    {
     "name": "stdout",
     "output_type": "stream",
     "text": [
      "Saving results in \\\\dk-server.dk.ucsd.edu\\afassihizakeri\\Topviewmovies\\ar35motor\\2022_02_04...\n",
      "Saving csv poses!\n",
      "Starting to analyze %  \\\\dk-server.dk.ucsd.edu\\afassihizakeri\\Topviewmovies\\ar35motor\\2022_02_04\\265video.mp4\n",
      "Loading  \\\\dk-server.dk.ucsd.edu\\afassihizakeri\\Topviewmovies\\ar35motor\\2022_02_04\\265video.mp4\n",
      "Duration of video [s]:  12.5 , recorded with  40.0 fps!\n",
      "Overall # of frames:  500  found with (before cropping) frame dimensions:  1440 484\n",
      "Starting to extract posture\n"
     ]
    },
    {
     "name": "stderr",
     "output_type": "stream",
     "text": [
      "510it [06:08,  1.38it/s]                                                                                               \n"
     ]
    },
    {
     "name": "stdout",
     "output_type": "stream",
     "text": [
      "Saving results in \\\\dk-server.dk.ucsd.edu\\afassihizakeri\\Topviewmovies\\ar35motor\\2022_02_04...\n",
      "Saving csv poses!\n",
      "Starting to analyze %  \\\\dk-server.dk.ucsd.edu\\afassihizakeri\\Topviewmovies\\ar35motor\\2022_02_04\\181video.mp4\n",
      "Loading  \\\\dk-server.dk.ucsd.edu\\afassihizakeri\\Topviewmovies\\ar35motor\\2022_02_04\\181video.mp4\n",
      "Duration of video [s]:  12.5 , recorded with  40.0 fps!\n",
      "Overall # of frames:  500  found with (before cropping) frame dimensions:  1440 484\n",
      "Starting to extract posture\n"
     ]
    },
    {
     "name": "stderr",
     "output_type": "stream",
     "text": [
      "510it [06:04,  1.40it/s]                                                                                               \n"
     ]
    },
    {
     "name": "stdout",
     "output_type": "stream",
     "text": [
      "Saving results in \\\\dk-server.dk.ucsd.edu\\afassihizakeri\\Topviewmovies\\ar35motor\\2022_02_04...\n",
      "Saving csv poses!\n",
      "Starting to analyze %  \\\\dk-server.dk.ucsd.edu\\afassihizakeri\\Topviewmovies\\ar35motor\\2022_02_04\\283video.mp4\n",
      "Loading  \\\\dk-server.dk.ucsd.edu\\afassihizakeri\\Topviewmovies\\ar35motor\\2022_02_04\\283video.mp4\n",
      "Duration of video [s]:  12.5 , recorded with  40.0 fps!\n",
      "Overall # of frames:  500  found with (before cropping) frame dimensions:  1440 484\n",
      "Starting to extract posture\n"
     ]
    },
    {
     "name": "stderr",
     "output_type": "stream",
     "text": [
      "510it [06:04,  1.40it/s]                                                                                               \n"
     ]
    },
    {
     "name": "stdout",
     "output_type": "stream",
     "text": [
      "Saving results in \\\\dk-server.dk.ucsd.edu\\afassihizakeri\\Topviewmovies\\ar35motor\\2022_02_04...\n",
      "Saving csv poses!\n",
      "Starting to analyze %  \\\\dk-server.dk.ucsd.edu\\afassihizakeri\\Topviewmovies\\ar35motor\\2022_02_04\\117video.mp4\n",
      "Loading  \\\\dk-server.dk.ucsd.edu\\afassihizakeri\\Topviewmovies\\ar35motor\\2022_02_04\\117video.mp4\n",
      "Duration of video [s]:  12.5 , recorded with  40.0 fps!\n",
      "Overall # of frames:  500  found with (before cropping) frame dimensions:  1440 484\n",
      "Starting to extract posture\n"
     ]
    },
    {
     "name": "stderr",
     "output_type": "stream",
     "text": [
      "510it [05:58,  1.42it/s]                                                                                               \n"
     ]
    },
    {
     "name": "stdout",
     "output_type": "stream",
     "text": [
      "Saving results in \\\\dk-server.dk.ucsd.edu\\afassihizakeri\\Topviewmovies\\ar35motor\\2022_02_04...\n",
      "Saving csv poses!\n",
      "Starting to analyze %  \\\\dk-server.dk.ucsd.edu\\afassihizakeri\\Topviewmovies\\ar35motor\\2022_02_04\\62video.mp4\n",
      "Loading  \\\\dk-server.dk.ucsd.edu\\afassihizakeri\\Topviewmovies\\ar35motor\\2022_02_04\\62video.mp4\n",
      "Duration of video [s]:  12.5 , recorded with  40.0 fps!\n",
      "Overall # of frames:  500  found with (before cropping) frame dimensions:  1440 484\n",
      "Starting to extract posture\n"
     ]
    },
    {
     "name": "stderr",
     "output_type": "stream",
     "text": [
      "510it [05:58,  1.42it/s]                                                                                               \n"
     ]
    },
    {
     "name": "stdout",
     "output_type": "stream",
     "text": [
      "Saving results in \\\\dk-server.dk.ucsd.edu\\afassihizakeri\\Topviewmovies\\ar35motor\\2022_02_04...\n",
      "Saving csv poses!\n",
      "Starting to analyze %  \\\\dk-server.dk.ucsd.edu\\afassihizakeri\\Topviewmovies\\ar35motor\\2022_02_04\\215video.mp4\n",
      "Loading  \\\\dk-server.dk.ucsd.edu\\afassihizakeri\\Topviewmovies\\ar35motor\\2022_02_04\\215video.mp4\n",
      "Duration of video [s]:  12.5 , recorded with  40.0 fps!\n",
      "Overall # of frames:  500  found with (before cropping) frame dimensions:  1440 484\n",
      "Starting to extract posture\n"
     ]
    },
    {
     "name": "stderr",
     "output_type": "stream",
     "text": [
      "510it [05:54,  1.44it/s]                                                                                               \n"
     ]
    },
    {
     "name": "stdout",
     "output_type": "stream",
     "text": [
      "Saving results in \\\\dk-server.dk.ucsd.edu\\afassihizakeri\\Topviewmovies\\ar35motor\\2022_02_04...\n",
      "Saving csv poses!\n",
      "Starting to analyze %  \\\\dk-server.dk.ucsd.edu\\afassihizakeri\\Topviewmovies\\ar35motor\\2022_02_04\\118video.mp4\n",
      "Loading  \\\\dk-server.dk.ucsd.edu\\afassihizakeri\\Topviewmovies\\ar35motor\\2022_02_04\\118video.mp4\n",
      "Duration of video [s]:  12.5 , recorded with  40.0 fps!\n",
      "Overall # of frames:  500  found with (before cropping) frame dimensions:  1440 484\n",
      "Starting to extract posture\n"
     ]
    },
    {
     "name": "stderr",
     "output_type": "stream",
     "text": [
      "510it [05:53,  1.44it/s]                                                                                               \n"
     ]
    },
    {
     "name": "stdout",
     "output_type": "stream",
     "text": [
      "Saving results in \\\\dk-server.dk.ucsd.edu\\afassihizakeri\\Topviewmovies\\ar35motor\\2022_02_04...\n",
      "Saving csv poses!\n",
      "Starting to analyze %  \\\\dk-server.dk.ucsd.edu\\afassihizakeri\\Topviewmovies\\ar35motor\\2022_02_04\\84video.mp4\n",
      "Loading  \\\\dk-server.dk.ucsd.edu\\afassihizakeri\\Topviewmovies\\ar35motor\\2022_02_04\\84video.mp4\n",
      "Duration of video [s]:  12.5 , recorded with  40.0 fps!\n",
      "Overall # of frames:  500  found with (before cropping) frame dimensions:  1440 484\n",
      "Starting to extract posture\n"
     ]
    },
    {
     "name": "stderr",
     "output_type": "stream",
     "text": [
      "510it [05:54,  1.44it/s]                                                                                               \n"
     ]
    },
    {
     "name": "stdout",
     "output_type": "stream",
     "text": [
      "Saving results in \\\\dk-server.dk.ucsd.edu\\afassihizakeri\\Topviewmovies\\ar35motor\\2022_02_04...\n",
      "Saving csv poses!\n",
      "Starting to analyze %  \\\\dk-server.dk.ucsd.edu\\afassihizakeri\\Topviewmovies\\ar35motor\\2022_02_04\\140video.mp4\n",
      "Loading  \\\\dk-server.dk.ucsd.edu\\afassihizakeri\\Topviewmovies\\ar35motor\\2022_02_04\\140video.mp4\n",
      "Duration of video [s]:  12.5 , recorded with  40.0 fps!\n",
      "Overall # of frames:  500  found with (before cropping) frame dimensions:  1440 484\n",
      "Starting to extract posture\n"
     ]
    },
    {
     "name": "stderr",
     "output_type": "stream",
     "text": [
      "510it [05:53,  1.44it/s]                                                                                               \n"
     ]
    },
    {
     "name": "stdout",
     "output_type": "stream",
     "text": [
      "Saving results in \\\\dk-server.dk.ucsd.edu\\afassihizakeri\\Topviewmovies\\ar35motor\\2022_02_04...\n",
      "Saving csv poses!\n",
      "Starting to analyze %  \\\\dk-server.dk.ucsd.edu\\afassihizakeri\\Topviewmovies\\ar35motor\\2022_02_04\\35video.mp4\n",
      "Loading  \\\\dk-server.dk.ucsd.edu\\afassihizakeri\\Topviewmovies\\ar35motor\\2022_02_04\\35video.mp4\n",
      "Duration of video [s]:  12.5 , recorded with  40.0 fps!\n",
      "Overall # of frames:  500  found with (before cropping) frame dimensions:  1440 484\n",
      "Starting to extract posture\n"
     ]
    },
    {
     "name": "stderr",
     "output_type": "stream",
     "text": [
      "510it [05:54,  1.44it/s]                                                                                               \n"
     ]
    },
    {
     "name": "stdout",
     "output_type": "stream",
     "text": [
      "Saving results in \\\\dk-server.dk.ucsd.edu\\afassihizakeri\\Topviewmovies\\ar35motor\\2022_02_04...\n",
      "Saving csv poses!\n",
      "Starting to analyze %  \\\\dk-server.dk.ucsd.edu\\afassihizakeri\\Topviewmovies\\ar35motor\\2022_02_04\\242video.mp4\n",
      "Loading  \\\\dk-server.dk.ucsd.edu\\afassihizakeri\\Topviewmovies\\ar35motor\\2022_02_04\\242video.mp4\n",
      "Duration of video [s]:  12.5 , recorded with  40.0 fps!\n",
      "Overall # of frames:  500  found with (before cropping) frame dimensions:  1440 484\n",
      "Starting to extract posture\n"
     ]
    },
    {
     "name": "stderr",
     "output_type": "stream",
     "text": [
      "510it [05:53,  1.44it/s]                                                                                               \n"
     ]
    },
    {
     "name": "stdout",
     "output_type": "stream",
     "text": [
      "Saving results in \\\\dk-server.dk.ucsd.edu\\afassihizakeri\\Topviewmovies\\ar35motor\\2022_02_04...\n",
      "Saving csv poses!\n",
      "Starting to analyze %  \\\\dk-server.dk.ucsd.edu\\afassihizakeri\\Topviewmovies\\ar35motor\\2022_02_04\\205video.mp4\n",
      "Loading  \\\\dk-server.dk.ucsd.edu\\afassihizakeri\\Topviewmovies\\ar35motor\\2022_02_04\\205video.mp4\n",
      "Duration of video [s]:  12.5 , recorded with  40.0 fps!\n",
      "Overall # of frames:  500  found with (before cropping) frame dimensions:  1440 484\n",
      "Starting to extract posture\n"
     ]
    },
    {
     "name": "stderr",
     "output_type": "stream",
     "text": [
      "510it [06:01,  1.41it/s]                                                                                               \n"
     ]
    },
    {
     "name": "stdout",
     "output_type": "stream",
     "text": [
      "Saving results in \\\\dk-server.dk.ucsd.edu\\afassihizakeri\\Topviewmovies\\ar35motor\\2022_02_04...\n",
      "Saving csv poses!\n",
      "Starting to analyze %  \\\\dk-server.dk.ucsd.edu\\afassihizakeri\\Topviewmovies\\ar35motor\\2022_02_04\\108video.mp4\n",
      "Loading  \\\\dk-server.dk.ucsd.edu\\afassihizakeri\\Topviewmovies\\ar35motor\\2022_02_04\\108video.mp4\n",
      "Duration of video [s]:  12.5 , recorded with  40.0 fps!\n",
      "Overall # of frames:  500  found with (before cropping) frame dimensions:  1440 484\n",
      "Starting to extract posture\n"
     ]
    },
    {
     "name": "stderr",
     "output_type": "stream",
     "text": [
      "510it [05:54,  1.44it/s]                                                                                               \n"
     ]
    },
    {
     "name": "stdout",
     "output_type": "stream",
     "text": [
      "Saving results in \\\\dk-server.dk.ucsd.edu\\afassihizakeri\\Topviewmovies\\ar35motor\\2022_02_04...\n",
      "Saving csv poses!\n",
      "Starting to analyze %  \\\\dk-server.dk.ucsd.edu\\afassihizakeri\\Topviewmovies\\ar35motor\\2022_02_04\\72video.mp4\n",
      "Loading  \\\\dk-server.dk.ucsd.edu\\afassihizakeri\\Topviewmovies\\ar35motor\\2022_02_04\\72video.mp4\n",
      "Duration of video [s]:  12.5 , recorded with  40.0 fps!\n",
      "Overall # of frames:  500  found with (before cropping) frame dimensions:  1440 484\n",
      "Starting to extract posture\n"
     ]
    },
    {
     "name": "stderr",
     "output_type": "stream",
     "text": [
      "510it [05:48,  1.46it/s]                                                                                               \n"
     ]
    },
    {
     "name": "stdout",
     "output_type": "stream",
     "text": [
      "Saving results in \\\\dk-server.dk.ucsd.edu\\afassihizakeri\\Topviewmovies\\ar35motor\\2022_02_04...\n",
      "Saving csv poses!\n",
      "Starting to analyze %  \\\\dk-server.dk.ucsd.edu\\afassihizakeri\\Topviewmovies\\ar35motor\\2022_02_04\\107video.mp4\n",
      "Loading  \\\\dk-server.dk.ucsd.edu\\afassihizakeri\\Topviewmovies\\ar35motor\\2022_02_04\\107video.mp4\n",
      "Duration of video [s]:  12.5 , recorded with  40.0 fps!\n",
      "Overall # of frames:  500  found with (before cropping) frame dimensions:  1440 484\n",
      "Starting to extract posture\n"
     ]
    },
    {
     "name": "stderr",
     "output_type": "stream",
     "text": [
      "510it [05:49,  1.46it/s]                                                                                               \n"
     ]
    },
    {
     "name": "stdout",
     "output_type": "stream",
     "text": [
      "Saving results in \\\\dk-server.dk.ucsd.edu\\afassihizakeri\\Topviewmovies\\ar35motor\\2022_02_04...\n",
      "Saving csv poses!\n",
      "Starting to analyze %  \\\\dk-server.dk.ucsd.edu\\afassihizakeri\\Topviewmovies\\ar35motor\\2022_02_04\\94video.mp4\n",
      "Loading  \\\\dk-server.dk.ucsd.edu\\afassihizakeri\\Topviewmovies\\ar35motor\\2022_02_04\\94video.mp4\n",
      "Duration of video [s]:  12.5 , recorded with  40.0 fps!\n",
      "Overall # of frames:  500  found with (before cropping) frame dimensions:  1440 484\n",
      "Starting to extract posture\n"
     ]
    },
    {
     "name": "stderr",
     "output_type": "stream",
     "text": [
      "510it [05:48,  1.46it/s]                                                                                               \n"
     ]
    },
    {
     "name": "stdout",
     "output_type": "stream",
     "text": [
      "Saving results in \\\\dk-server.dk.ucsd.edu\\afassihizakeri\\Topviewmovies\\ar35motor\\2022_02_04...\n",
      "Saving csv poses!\n",
      "Starting to analyze %  \\\\dk-server.dk.ucsd.edu\\afassihizakeri\\Topviewmovies\\ar35motor\\2022_02_04\\252video.mp4\n",
      "Loading  \\\\dk-server.dk.ucsd.edu\\afassihizakeri\\Topviewmovies\\ar35motor\\2022_02_04\\252video.mp4\n",
      "Duration of video [s]:  12.5 , recorded with  40.0 fps!\n",
      "Overall # of frames:  500  found with (before cropping) frame dimensions:  1440 484\n",
      "Starting to extract posture\n"
     ]
    },
    {
     "name": "stderr",
     "output_type": "stream",
     "text": [
      "510it [05:48,  1.46it/s]                                                                                               \n"
     ]
    },
    {
     "name": "stdout",
     "output_type": "stream",
     "text": [
      "Saving results in \\\\dk-server.dk.ucsd.edu\\afassihizakeri\\Topviewmovies\\ar35motor\\2022_02_04...\n",
      "Saving csv poses!\n",
      "Starting to analyze %  \\\\dk-server.dk.ucsd.edu\\afassihizakeri\\Topviewmovies\\ar35motor\\2022_02_04\\25video.mp4\n",
      "Loading  \\\\dk-server.dk.ucsd.edu\\afassihizakeri\\Topviewmovies\\ar35motor\\2022_02_04\\25video.mp4\n",
      "Duration of video [s]:  12.5 , recorded with  40.0 fps!\n",
      "Overall # of frames:  500  found with (before cropping) frame dimensions:  1440 484\n",
      "Starting to extract posture\n"
     ]
    },
    {
     "name": "stderr",
     "output_type": "stream",
     "text": [
      "510it [05:49,  1.46it/s]                                                                                               \n"
     ]
    },
    {
     "name": "stdout",
     "output_type": "stream",
     "text": [
      "Saving results in \\\\dk-server.dk.ucsd.edu\\afassihizakeri\\Topviewmovies\\ar35motor\\2022_02_04...\n",
      "Saving csv poses!\n",
      "Starting to analyze %  \\\\dk-server.dk.ucsd.edu\\afassihizakeri\\Topviewmovies\\ar35motor\\2022_02_04\\150video.mp4\n",
      "Loading  \\\\dk-server.dk.ucsd.edu\\afassihizakeri\\Topviewmovies\\ar35motor\\2022_02_04\\150video.mp4\n",
      "Duration of video [s]:  12.5 , recorded with  40.0 fps!\n",
      "Overall # of frames:  500  found with (before cropping) frame dimensions:  1440 484\n",
      "Starting to extract posture\n"
     ]
    },
    {
     "name": "stderr",
     "output_type": "stream",
     "text": [
      "510it [05:49,  1.46it/s]                                                                                               \n"
     ]
    },
    {
     "name": "stdout",
     "output_type": "stream",
     "text": [
      "Saving results in \\\\dk-server.dk.ucsd.edu\\afassihizakeri\\Topviewmovies\\ar35motor\\2022_02_04...\n",
      "Saving csv poses!\n",
      "Starting to analyze %  \\\\dk-server.dk.ucsd.edu\\afassihizakeri\\Topviewmovies\\ar35motor\\2022_02_04\\306video.mp4\n",
      "Loading  \\\\dk-server.dk.ucsd.edu\\afassihizakeri\\Topviewmovies\\ar35motor\\2022_02_04\\306video.mp4\n",
      "Duration of video [s]:  12.5 , recorded with  40.0 fps!\n",
      "Overall # of frames:  500  found with (before cropping) frame dimensions:  1440 484\n",
      "Starting to extract posture\n"
     ]
    },
    {
     "name": "stderr",
     "output_type": "stream",
     "text": [
      "510it [05:49,  1.46it/s]                                                                                               \n"
     ]
    },
    {
     "name": "stdout",
     "output_type": "stream",
     "text": [
      "Saving results in \\\\dk-server.dk.ucsd.edu\\afassihizakeri\\Topviewmovies\\ar35motor\\2022_02_04...\n",
      "Saving csv poses!\n",
      "Starting to analyze %  \\\\dk-server.dk.ucsd.edu\\afassihizakeri\\Topviewmovies\\ar35motor\\2022_02_04\\42video.mp4\n",
      "Loading  \\\\dk-server.dk.ucsd.edu\\afassihizakeri\\Topviewmovies\\ar35motor\\2022_02_04\\42video.mp4\n",
      "Duration of video [s]:  12.5 , recorded with  40.0 fps!\n",
      "Overall # of frames:  500  found with (before cropping) frame dimensions:  1440 484\n",
      "Starting to extract posture\n"
     ]
    },
    {
     "name": "stderr",
     "output_type": "stream",
     "text": [
      "510it [05:49,  1.46it/s]                                                                                               \n"
     ]
    },
    {
     "name": "stdout",
     "output_type": "stream",
     "text": [
      "Saving results in \\\\dk-server.dk.ucsd.edu\\afassihizakeri\\Topviewmovies\\ar35motor\\2022_02_04...\n",
      "Saving csv poses!\n",
      "Starting to analyze %  \\\\dk-server.dk.ucsd.edu\\afassihizakeri\\Topviewmovies\\ar35motor\\2022_02_04\\138video.mp4\n",
      "Loading  \\\\dk-server.dk.ucsd.edu\\afassihizakeri\\Topviewmovies\\ar35motor\\2022_02_04\\138video.mp4\n",
      "Duration of video [s]:  12.5 , recorded with  40.0 fps!\n",
      "Overall # of frames:  500  found with (before cropping) frame dimensions:  1440 484\n",
      "Starting to extract posture\n"
     ]
    },
    {
     "name": "stderr",
     "output_type": "stream",
     "text": [
      "510it [05:49,  1.46it/s]                                                                                               \n"
     ]
    },
    {
     "name": "stdout",
     "output_type": "stream",
     "text": [
      "Saving results in \\\\dk-server.dk.ucsd.edu\\afassihizakeri\\Topviewmovies\\ar35motor\\2022_02_04...\n",
      "Saving csv poses!\n",
      "Starting to analyze %  \\\\dk-server.dk.ucsd.edu\\afassihizakeri\\Topviewmovies\\ar35motor\\2022_02_04\\235video.mp4\n",
      "Loading  \\\\dk-server.dk.ucsd.edu\\afassihizakeri\\Topviewmovies\\ar35motor\\2022_02_04\\235video.mp4\n",
      "Duration of video [s]:  12.5 , recorded with  40.0 fps!\n",
      "Overall # of frames:  500  found with (before cropping) frame dimensions:  1440 484\n",
      "Starting to extract posture\n"
     ]
    },
    {
     "name": "stderr",
     "output_type": "stream",
     "text": [
      "510it [05:48,  1.46it/s]                                                                                               \n"
     ]
    },
    {
     "name": "stdout",
     "output_type": "stream",
     "text": [
      "Saving results in \\\\dk-server.dk.ucsd.edu\\afassihizakeri\\Topviewmovies\\ar35motor\\2022_02_04...\n",
      "Saving csv poses!\n",
      "Starting to analyze %  \\\\dk-server.dk.ucsd.edu\\afassihizakeri\\Topviewmovies\\ar35motor\\2022_02_04\\137video.mp4\n",
      "Loading  \\\\dk-server.dk.ucsd.edu\\afassihizakeri\\Topviewmovies\\ar35motor\\2022_02_04\\137video.mp4\n",
      "Duration of video [s]:  12.5 , recorded with  40.0 fps!\n",
      "Overall # of frames:  500  found with (before cropping) frame dimensions:  1440 484\n",
      "Starting to extract posture\n"
     ]
    },
    {
     "name": "stderr",
     "output_type": "stream",
     "text": [
      "510it [05:49,  1.46it/s]                                                                                               \n"
     ]
    },
    {
     "name": "stdout",
     "output_type": "stream",
     "text": [
      "Saving results in \\\\dk-server.dk.ucsd.edu\\afassihizakeri\\Topviewmovies\\ar35motor\\2022_02_04...\n",
      "Saving csv poses!\n",
      "Starting to analyze %  \\\\dk-server.dk.ucsd.edu\\afassihizakeri\\Topviewmovies\\ar35motor\\2022_02_04\\15video.mp4\n",
      "Loading  \\\\dk-server.dk.ucsd.edu\\afassihizakeri\\Topviewmovies\\ar35motor\\2022_02_04\\15video.mp4\n",
      "Duration of video [s]:  12.5 , recorded with  40.0 fps!\n",
      "Overall # of frames:  500  found with (before cropping) frame dimensions:  1440 484\n",
      "Starting to extract posture\n"
     ]
    },
    {
     "name": "stderr",
     "output_type": "stream",
     "text": [
      "510it [05:50,  1.46it/s]                                                                                               \n"
     ]
    },
    {
     "name": "stdout",
     "output_type": "stream",
     "text": [
      "Saving results in \\\\dk-server.dk.ucsd.edu\\afassihizakeri\\Topviewmovies\\ar35motor\\2022_02_04...\n",
      "Saving csv poses!\n",
      "Starting to analyze %  \\\\dk-server.dk.ucsd.edu\\afassihizakeri\\Topviewmovies\\ar35motor\\2022_02_04\\262video.mp4\n",
      "Loading  \\\\dk-server.dk.ucsd.edu\\afassihizakeri\\Topviewmovies\\ar35motor\\2022_02_04\\262video.mp4\n",
      "Duration of video [s]:  12.5 , recorded with  40.0 fps!\n",
      "Overall # of frames:  500  found with (before cropping) frame dimensions:  1440 484\n",
      "Starting to extract posture\n"
     ]
    },
    {
     "name": "stderr",
     "output_type": "stream",
     "text": [
      "510it [05:49,  1.46it/s]                                                                                               \n"
     ]
    },
    {
     "name": "stdout",
     "output_type": "stream",
     "text": [
      "Saving results in \\\\dk-server.dk.ucsd.edu\\afassihizakeri\\Topviewmovies\\ar35motor\\2022_02_04...\n",
      "Saving csv poses!\n",
      "Starting to analyze %  \\\\dk-server.dk.ucsd.edu\\afassihizakeri\\Topviewmovies\\ar35motor\\2022_02_04\\160video.mp4\n",
      "Loading  \\\\dk-server.dk.ucsd.edu\\afassihizakeri\\Topviewmovies\\ar35motor\\2022_02_04\\160video.mp4\n",
      "Duration of video [s]:  12.5 , recorded with  40.0 fps!\n",
      "Overall # of frames:  500  found with (before cropping) frame dimensions:  1440 484\n",
      "Starting to extract posture\n"
     ]
    },
    {
     "name": "stderr",
     "output_type": "stream",
     "text": [
      "510it [05:48,  1.46it/s]                                                                                               \n"
     ]
    },
    {
     "name": "stdout",
     "output_type": "stream",
     "text": [
      "Saving results in \\\\dk-server.dk.ucsd.edu\\afassihizakeri\\Topviewmovies\\ar35motor\\2022_02_04...\n",
      "Saving csv poses!\n",
      "Starting to analyze %  \\\\dk-server.dk.ucsd.edu\\afassihizakeri\\Topviewmovies\\ar35motor\\2022_02_04\\284video.mp4\n",
      "Loading  \\\\dk-server.dk.ucsd.edu\\afassihizakeri\\Topviewmovies\\ar35motor\\2022_02_04\\284video.mp4\n",
      "Duration of video [s]:  12.5 , recorded with  40.0 fps!\n",
      "Overall # of frames:  500  found with (before cropping) frame dimensions:  1440 484\n",
      "Starting to extract posture\n"
     ]
    },
    {
     "name": "stderr",
     "output_type": "stream",
     "text": [
      "510it [05:50,  1.46it/s]                                                                                               \n"
     ]
    },
    {
     "name": "stdout",
     "output_type": "stream",
     "text": [
      "Saving results in \\\\dk-server.dk.ucsd.edu\\afassihizakeri\\Topviewmovies\\ar35motor\\2022_02_04...\n",
      "Saving csv poses!\n",
      "Starting to analyze %  \\\\dk-server.dk.ucsd.edu\\afassihizakeri\\Topviewmovies\\ar35motor\\2022_02_04\\189video.mp4\n",
      "Loading  \\\\dk-server.dk.ucsd.edu\\afassihizakeri\\Topviewmovies\\ar35motor\\2022_02_04\\189video.mp4\n",
      "Duration of video [s]:  12.5 , recorded with  40.0 fps!\n",
      "Overall # of frames:  500  found with (before cropping) frame dimensions:  1440 484\n",
      "Starting to extract posture\n"
     ]
    },
    {
     "name": "stderr",
     "output_type": "stream",
     "text": [
      "510it [05:46,  1.47it/s]                                                                                               \n"
     ]
    },
    {
     "name": "stdout",
     "output_type": "stream",
     "text": [
      "Saving results in \\\\dk-server.dk.ucsd.edu\\afassihizakeri\\Topviewmovies\\ar35motor\\2022_02_04...\n",
      "Saving csv poses!\n",
      "Starting to analyze %  \\\\dk-server.dk.ucsd.edu\\afassihizakeri\\Topviewmovies\\ar35motor\\2022_02_04\\186video.mp4\n",
      "Loading  \\\\dk-server.dk.ucsd.edu\\afassihizakeri\\Topviewmovies\\ar35motor\\2022_02_04\\186video.mp4\n",
      "Duration of video [s]:  12.5 , recorded with  40.0 fps!\n",
      "Overall # of frames:  500  found with (before cropping) frame dimensions:  1440 484\n",
      "Starting to extract posture\n"
     ]
    },
    {
     "name": "stderr",
     "output_type": "stream",
     "text": [
      "510it [05:44,  1.48it/s]                                                                                               \n"
     ]
    },
    {
     "name": "stdout",
     "output_type": "stream",
     "text": [
      "Saving results in \\\\dk-server.dk.ucsd.edu\\afassihizakeri\\Topviewmovies\\ar35motor\\2022_02_04...\n",
      "Saving csv poses!\n",
      "Starting to analyze %  \\\\dk-server.dk.ucsd.edu\\afassihizakeri\\Topviewmovies\\ar35motor\\2022_02_04\\5video.mp4\n",
      "Loading  \\\\dk-server.dk.ucsd.edu\\afassihizakeri\\Topviewmovies\\ar35motor\\2022_02_04\\5video.mp4\n",
      "Duration of video [s]:  12.5 , recorded with  40.0 fps!\n",
      "Overall # of frames:  500  found with (before cropping) frame dimensions:  1440 484\n",
      "Starting to extract posture\n"
     ]
    },
    {
     "name": "stderr",
     "output_type": "stream",
     "text": [
      "510it [05:37,  1.51it/s]                                                                                               \n"
     ]
    },
    {
     "name": "stdout",
     "output_type": "stream",
     "text": [
      "Saving results in \\\\dk-server.dk.ucsd.edu\\afassihizakeri\\Topviewmovies\\ar35motor\\2022_02_04...\n",
      "Saving csv poses!\n",
      "Starting to analyze %  \\\\dk-server.dk.ucsd.edu\\afassihizakeri\\Topviewmovies\\ar35motor\\2022_02_04\\127video.mp4\n",
      "Loading  \\\\dk-server.dk.ucsd.edu\\afassihizakeri\\Topviewmovies\\ar35motor\\2022_02_04\\127video.mp4\n",
      "Duration of video [s]:  12.5 , recorded with  40.0 fps!\n",
      "Overall # of frames:  500  found with (before cropping) frame dimensions:  1440 484\n",
      "Starting to extract posture\n"
     ]
    },
    {
     "name": "stderr",
     "output_type": "stream",
     "text": [
      "510it [05:44,  1.48it/s]                                                                                               \n"
     ]
    },
    {
     "name": "stdout",
     "output_type": "stream",
     "text": [
      "Saving results in \\\\dk-server.dk.ucsd.edu\\afassihizakeri\\Topviewmovies\\ar35motor\\2022_02_04...\n",
      "Saving csv poses!\n",
      "Starting to analyze %  \\\\dk-server.dk.ucsd.edu\\afassihizakeri\\Topviewmovies\\ar35motor\\2022_02_04\\128video.mp4\n",
      "Loading  \\\\dk-server.dk.ucsd.edu\\afassihizakeri\\Topviewmovies\\ar35motor\\2022_02_04\\128video.mp4\n",
      "Duration of video [s]:  12.5 , recorded with  40.0 fps!\n",
      "Overall # of frames:  500  found with (before cropping) frame dimensions:  1440 484\n",
      "Starting to extract posture\n"
     ]
    },
    {
     "name": "stderr",
     "output_type": "stream",
     "text": [
      "510it [05:46,  1.47it/s]                                                                                               \n"
     ]
    },
    {
     "name": "stdout",
     "output_type": "stream",
     "text": [
      "Saving results in \\\\dk-server.dk.ucsd.edu\\afassihizakeri\\Topviewmovies\\ar35motor\\2022_02_04...\n",
      "Saving csv poses!\n",
      "Starting to analyze %  \\\\dk-server.dk.ucsd.edu\\afassihizakeri\\Topviewmovies\\ar35motor\\2022_02_04\\225video.mp4\n",
      "Loading  \\\\dk-server.dk.ucsd.edu\\afassihizakeri\\Topviewmovies\\ar35motor\\2022_02_04\\225video.mp4\n",
      "Duration of video [s]:  12.5 , recorded with  40.0 fps!\n",
      "Overall # of frames:  500  found with (before cropping) frame dimensions:  1440 484\n",
      "Starting to extract posture\n"
     ]
    },
    {
     "name": "stderr",
     "output_type": "stream",
     "text": [
      "510it [05:47,  1.47it/s]                                                                                               \n"
     ]
    },
    {
     "name": "stdout",
     "output_type": "stream",
     "text": [
      "Saving results in \\\\dk-server.dk.ucsd.edu\\afassihizakeri\\Topviewmovies\\ar35motor\\2022_02_04...\n",
      "Saving csv poses!\n",
      "Starting to analyze %  \\\\dk-server.dk.ucsd.edu\\afassihizakeri\\Topviewmovies\\ar35motor\\2022_02_04\\52video.mp4\n",
      "Loading  \\\\dk-server.dk.ucsd.edu\\afassihizakeri\\Topviewmovies\\ar35motor\\2022_02_04\\52video.mp4\n",
      "Duration of video [s]:  12.5 , recorded with  40.0 fps!\n",
      "Overall # of frames:  500  found with (before cropping) frame dimensions:  1440 484\n",
      "Starting to extract posture\n"
     ]
    },
    {
     "name": "stderr",
     "output_type": "stream",
     "text": [
      "510it [05:47,  1.47it/s]                                                                                               \n"
     ]
    },
    {
     "name": "stdout",
     "output_type": "stream",
     "text": [
      "Saving results in \\\\dk-server.dk.ucsd.edu\\afassihizakeri\\Topviewmovies\\ar35motor\\2022_02_04...\n",
      "Saving csv poses!\n",
      "Starting to analyze %  \\\\dk-server.dk.ucsd.edu\\afassihizakeri\\Topviewmovies\\ar35motor\\2022_02_04\\170video.mp4\n",
      "Loading  \\\\dk-server.dk.ucsd.edu\\afassihizakeri\\Topviewmovies\\ar35motor\\2022_02_04\\170video.mp4\n",
      "Duration of video [s]:  12.5 , recorded with  40.0 fps!\n",
      "Overall # of frames:  500  found with (before cropping) frame dimensions:  1440 484\n",
      "Starting to extract posture\n"
     ]
    },
    {
     "name": "stderr",
     "output_type": "stream",
     "text": [
      "510it [05:47,  1.47it/s]                                                                                               \n"
     ]
    },
    {
     "name": "stdout",
     "output_type": "stream",
     "text": [
      "Saving results in \\\\dk-server.dk.ucsd.edu\\afassihizakeri\\Topviewmovies\\ar35motor\\2022_02_04...\n",
      "Saving csv poses!\n",
      "Starting to analyze %  \\\\dk-server.dk.ucsd.edu\\afassihizakeri\\Topviewmovies\\ar35motor\\2022_02_04\\272video.mp4\n",
      "Loading  \\\\dk-server.dk.ucsd.edu\\afassihizakeri\\Topviewmovies\\ar35motor\\2022_02_04\\272video.mp4\n",
      "Duration of video [s]:  12.5 , recorded with  40.0 fps!\n",
      "Overall # of frames:  500  found with (before cropping) frame dimensions:  1440 484\n",
      "Starting to extract posture\n"
     ]
    },
    {
     "name": "stderr",
     "output_type": "stream",
     "text": [
      "510it [05:48,  1.46it/s]                                                                                               \n"
     ]
    },
    {
     "name": "stdout",
     "output_type": "stream",
     "text": [
      "Saving results in \\\\dk-server.dk.ucsd.edu\\afassihizakeri\\Topviewmovies\\ar35motor\\2022_02_04...\n",
      "Saving csv poses!\n",
      "Starting to analyze %  \\\\dk-server.dk.ucsd.edu\\afassihizakeri\\Topviewmovies\\ar35motor\\2022_02_04\\196video.mp4\n",
      "Loading  \\\\dk-server.dk.ucsd.edu\\afassihizakeri\\Topviewmovies\\ar35motor\\2022_02_04\\196video.mp4\n",
      "Duration of video [s]:  12.5 , recorded with  40.0 fps!\n",
      "Overall # of frames:  500  found with (before cropping) frame dimensions:  1440 484\n",
      "Starting to extract posture\n"
     ]
    },
    {
     "name": "stderr",
     "output_type": "stream",
     "text": [
      "510it [05:47,  1.47it/s]                                                                                               \n"
     ]
    },
    {
     "name": "stdout",
     "output_type": "stream",
     "text": [
      "Saving results in \\\\dk-server.dk.ucsd.edu\\afassihizakeri\\Topviewmovies\\ar35motor\\2022_02_04...\n",
      "Saving csv poses!\n",
      "Starting to analyze %  \\\\dk-server.dk.ucsd.edu\\afassihizakeri\\Topviewmovies\\ar35motor\\2022_02_04\\294video.mp4\n",
      "Loading  \\\\dk-server.dk.ucsd.edu\\afassihizakeri\\Topviewmovies\\ar35motor\\2022_02_04\\294video.mp4\n",
      "Duration of video [s]:  12.5 , recorded with  40.0 fps!\n",
      "Overall # of frames:  500  found with (before cropping) frame dimensions:  1440 484\n",
      "Starting to extract posture\n"
     ]
    },
    {
     "name": "stderr",
     "output_type": "stream",
     "text": [
      "510it [05:48,  1.46it/s]                                                                                               \n"
     ]
    },
    {
     "name": "stdout",
     "output_type": "stream",
     "text": [
      "Saving results in \\\\dk-server.dk.ucsd.edu\\afassihizakeri\\Topviewmovies\\ar35motor\\2022_02_04...\n",
      "Saving csv poses!\n",
      "Starting to analyze %  \\\\dk-server.dk.ucsd.edu\\afassihizakeri\\Topviewmovies\\ar35motor\\2022_02_04\\199video.mp4\n",
      "Loading  \\\\dk-server.dk.ucsd.edu\\afassihizakeri\\Topviewmovies\\ar35motor\\2022_02_04\\199video.mp4\n",
      "Duration of video [s]:  12.5 , recorded with  40.0 fps!\n",
      "Overall # of frames:  500  found with (before cropping) frame dimensions:  1440 484\n",
      "Starting to extract posture\n"
     ]
    },
    {
     "name": "stderr",
     "output_type": "stream",
     "text": [
      "510it [05:48,  1.46it/s]                                                                                               \n"
     ]
    },
    {
     "name": "stdout",
     "output_type": "stream",
     "text": [
      "Saving results in \\\\dk-server.dk.ucsd.edu\\afassihizakeri\\Topviewmovies\\ar35motor\\2022_02_04...\n",
      "Saving csv poses!\n",
      "The videos are analyzed. Now your research can truly start! \n",
      " You can create labeled videos with 'create_labeled_video'\n",
      "If the tracking is not satisfactory for some videos, consider expanding the training set. You can use the function 'extract_outlier_frames' to extract a few representative outlier frames.\n",
      "Filtering with median model \\\\dk-server.dk.ucsd.edu\\afassihizakeri\\Topviewmovies\\ar35motor\\2022_02_04\\16video.mp4\n",
      "Saving filtered csv poses!\n",
      "Filtering with median model \\\\dk-server.dk.ucsd.edu\\afassihizakeri\\Topviewmovies\\ar35motor\\2022_02_04\\261video.mp4\n",
      "Saving filtered csv poses!\n",
      "Filtering with median model \\\\dk-server.dk.ucsd.edu\\afassihizakeri\\Topviewmovies\\ar35motor\\2022_02_04\\19video.mp4\n",
      "Saving filtered csv poses!\n",
      "Filtering with median model \\\\dk-server.dk.ucsd.edu\\afassihizakeri\\Topviewmovies\\ar35motor\\2022_02_04\\163video.mp4\n",
      "Saving filtered csv poses!\n",
      "Filtering with median model \\\\dk-server.dk.ucsd.edu\\afassihizakeri\\Topviewmovies\\ar35motor\\2022_02_04\\287video.mp4\n",
      "Saving filtered csv poses!\n",
      "Filtering with median model \\\\dk-server.dk.ucsd.edu\\afassihizakeri\\Topviewmovies\\ar35motor\\2022_02_04\\288video.mp4\n",
      "Saving filtered csv poses!\n",
      "Filtering with median model \\\\dk-server.dk.ucsd.edu\\afassihizakeri\\Topviewmovies\\ar35motor\\2022_02_04\\185video.mp4\n",
      "Saving filtered csv poses!\n",
      "Filtering with median model \\\\dk-server.dk.ucsd.edu\\afassihizakeri\\Topviewmovies\\ar35motor\\2022_02_04\\305video.mp4\n",
      "Saving filtered csv poses!\n",
      "Filtering with median model \\\\dk-server.dk.ucsd.edu\\afassihizakeri\\Topviewmovies\\ar35motor\\2022_02_04\\41video.mp4\n",
      "Saving filtered csv poses!\n",
      "Filtering with median model \\\\dk-server.dk.ucsd.edu\\afassihizakeri\\Topviewmovies\\ar35motor\\2022_02_04\\236video.mp4\n",
      "Saving filtered csv poses!\n",
      "Filtering with median model \\\\dk-server.dk.ucsd.edu\\afassihizakeri\\Topviewmovies\\ar35motor\\2022_02_04\\134video.mp4\n",
      "Saving filtered csv poses!\n",
      "Filtering with median model \\\\dk-server.dk.ucsd.edu\\afassihizakeri\\Topviewmovies\\ar35motor\\2022_02_04\\239video.mp4\n",
      "Saving filtered csv poses!\n",
      "Filtering with median model \\\\dk-server.dk.ucsd.edu\\afassihizakeri\\Topviewmovies\\ar35motor\\2022_02_04\\173video.mp4\n",
      "Saving filtered csv poses!\n",
      "Filtering with median model \\\\dk-server.dk.ucsd.edu\\afassihizakeri\\Topviewmovies\\ar35motor\\2022_02_04\\271video.mp4\n",
      "Saving filtered csv poses!\n",
      "Filtering with median model \\\\dk-server.dk.ucsd.edu\\afassihizakeri\\Topviewmovies\\ar35motor\\2022_02_04\\298video.mp4\n",
      "Saving filtered csv poses!\n",
      "Filtering with median model \\\\dk-server.dk.ucsd.edu\\afassihizakeri\\Topviewmovies\\ar35motor\\2022_02_04\\195video.mp4\n",
      "Saving filtered csv poses!\n",
      "Filtering with median model \\\\dk-server.dk.ucsd.edu\\afassihizakeri\\Topviewmovies\\ar35motor\\2022_02_04\\297video.mp4\n",
      "Saving filtered csv poses!\n",
      "Filtering with median model \\\\dk-server.dk.ucsd.edu\\afassihizakeri\\Topviewmovies\\ar35motor\\2022_02_04\\9video.mp4\n",
      "Saving filtered csv poses!\n",
      "Filtering with median model \\\\dk-server.dk.ucsd.edu\\afassihizakeri\\Topviewmovies\\ar35motor\\2022_02_04\\6video.mp4\n",
      "Saving filtered csv poses!\n",
      "Filtering with median model \\\\dk-server.dk.ucsd.edu\\afassihizakeri\\Topviewmovies\\ar35motor\\2022_02_04\\124video.mp4\n",
      "Saving filtered csv poses!\n",
      "Filtering with median model \\\\dk-server.dk.ucsd.edu\\afassihizakeri\\Topviewmovies\\ar35motor\\2022_02_04\\229video.mp4\n",
      "Saving filtered csv poses!\n",
      "Filtering with median model \\\\dk-server.dk.ucsd.edu\\afassihizakeri\\Topviewmovies\\ar35motor\\2022_02_04\\226video.mp4\n",
      "Saving filtered csv poses!\n",
      "Filtering with median model \\\\dk-server.dk.ucsd.edu\\afassihizakeri\\Topviewmovies\\ar35motor\\2022_02_04\\51video.mp4\n",
      "Saving filtered csv poses!\n",
      "Filtering with median model \\\\dk-server.dk.ucsd.edu\\afassihizakeri\\Topviewmovies\\ar35motor\\2022_02_04\\39video.mp4\n",
      "Saving filtered csv poses!\n",
      "Filtering with median model \\\\dk-server.dk.ucsd.edu\\afassihizakeri\\Topviewmovies\\ar35motor\\2022_02_04\\143video.mp4\n",
      "Saving filtered csv poses!\n",
      "Filtering with median model \\\\dk-server.dk.ucsd.edu\\afassihizakeri\\Topviewmovies\\ar35motor\\2022_02_04\\36video.mp4\n",
      "Saving filtered csv poses!\n",
      "Filtering with median model \\\\dk-server.dk.ucsd.edu\\afassihizakeri\\Topviewmovies\\ar35motor\\2022_02_04\\241video.mp4\n",
      "Saving filtered csv poses!\n",
      "Filtering with median model \\\\dk-server.dk.ucsd.edu\\afassihizakeri\\Topviewmovies\\ar35motor\\2022_02_04\\219video.mp4\n",
      "Saving filtered csv poses!\n",
      "Filtering with median model \\\\dk-server.dk.ucsd.edu\\afassihizakeri\\Topviewmovies\\ar35motor\\2022_02_04\\114video.mp4\n",
      "Saving filtered csv poses!\n",
      "Filtering with median model \\\\dk-server.dk.ucsd.edu\\afassihizakeri\\Topviewmovies\\ar35motor\\2022_02_04\\61video.mp4\n",
      "Saving filtered csv poses!\n",
      "Filtering with median model \\\\dk-server.dk.ucsd.edu\\afassihizakeri\\Topviewmovies\\ar35motor\\2022_02_04\\216video.mp4\n",
      "Saving filtered csv poses!\n",
      "Filtering with median model \\\\dk-server.dk.ucsd.edu\\afassihizakeri\\Topviewmovies\\ar35motor\\2022_02_04\\88video.mp4\n",
      "Saving filtered csv poses!\n",
      "Filtering with median model \\\\dk-server.dk.ucsd.edu\\afassihizakeri\\Topviewmovies\\ar35motor\\2022_02_04\\87video.mp4\n",
      "Saving filtered csv poses!\n",
      "Filtering with median model \\\\dk-server.dk.ucsd.edu\\afassihizakeri\\Topviewmovies\\ar35motor\\2022_02_04\\251video.mp4\n",
      "Saving filtered csv poses!\n",
      "Filtering with median model \\\\dk-server.dk.ucsd.edu\\afassihizakeri\\Topviewmovies\\ar35motor\\2022_02_04\\26video.mp4\n",
      "Saving filtered csv poses!\n",
      "Filtering with median model \\\\dk-server.dk.ucsd.edu\\afassihizakeri\\Topviewmovies\\ar35motor\\2022_02_04\\153video.mp4\n",
      "Saving filtered csv poses!\n",
      "Filtering with median model \\\\dk-server.dk.ucsd.edu\\afassihizakeri\\Topviewmovies\\ar35motor\\2022_02_04\\29video.mp4\n",
      "Saving filtered csv poses!\n",
      "Filtering with median model \\\\dk-server.dk.ucsd.edu\\afassihizakeri\\Topviewmovies\\ar35motor\\2022_02_04\\206video.mp4\n",
      "Saving filtered csv poses!\n",
      "Filtering with median model \\\\dk-server.dk.ucsd.edu\\afassihizakeri\\Topviewmovies\\ar35motor\\2022_02_04\\71video.mp4\n",
      "Saving filtered csv poses!\n",
      "Filtering with median model \\\\dk-server.dk.ucsd.edu\\afassihizakeri\\Topviewmovies\\ar35motor\\2022_02_04\\209video.mp4\n",
      "Saving filtered csv poses!\n",
      "Filtering with median model \\\\dk-server.dk.ucsd.edu\\afassihizakeri\\Topviewmovies\\ar35motor\\2022_02_04\\104video.mp4\n",
      "Saving filtered csv poses!\n",
      "Filtering with median model \\\\dk-server.dk.ucsd.edu\\afassihizakeri\\Topviewmovies\\ar35motor\\2022_02_04\\97video.mp4\n",
      "Saving filtered csv poses!\n",
      "Filtering with median model \\\\dk-server.dk.ucsd.edu\\afassihizakeri\\Topviewmovies\\ar35motor\\2022_02_04\\98video.mp4\n",
      "Saving filtered csv poses!\n",
      "Filtering with median model \\\\dk-server.dk.ucsd.edu\\afassihizakeri\\Topviewmovies\\ar35motor\\2022_02_04\\276video.mp4\n",
      "Saving filtered csv poses!\n",
      "Filtering with median model \\\\dk-server.dk.ucsd.edu\\afassihizakeri\\Topviewmovies\\ar35motor\\2022_02_04\\174video.mp4\n",
      "Saving filtered csv poses!\n",
      "Filtering with median model \\\\dk-server.dk.ucsd.edu\\afassihizakeri\\Topviewmovies\\ar35motor\\2022_02_04\\279video.mp4\n",
      "Saving filtered csv poses!\n",
      "Filtering with median model \\\\dk-server.dk.ucsd.edu\\afassihizakeri\\Topviewmovies\\ar35motor\\2022_02_04\\290video.mp4\n",
      "Saving filtered csv poses!\n",
      "Filtering with median model \\\\dk-server.dk.ucsd.edu\\afassihizakeri\\Topviewmovies\\ar35motor\\2022_02_04\\192video.mp4\n",
      "Saving filtered csv poses!\n",
      "Filtering with median model \\\\dk-server.dk.ucsd.edu\\afassihizakeri\\Topviewmovies\\ar35motor\\2022_02_04\\1video.mp4\n",
      "Saving filtered csv poses!\n",
      "Filtering with median model \\\\dk-server.dk.ucsd.edu\\afassihizakeri\\Topviewmovies\\ar35motor\\2022_02_04\\221video.mp4\n",
      "Saving filtered csv poses!\n",
      "Filtering with median model \\\\dk-server.dk.ucsd.edu\\afassihizakeri\\Topviewmovies\\ar35motor\\2022_02_04\\56video.mp4\n",
      "Saving filtered csv poses!\n",
      "Filtering with median model \\\\dk-server.dk.ucsd.edu\\afassihizakeri\\Topviewmovies\\ar35motor\\2022_02_04\\123video.mp4\n",
      "Saving filtered csv poses!\n",
      "Filtering with median model \\\\dk-server.dk.ucsd.edu\\afassihizakeri\\Topviewmovies\\ar35motor\\2022_02_04\\59video.mp4\n",
      "Saving filtered csv poses!\n",
      "Filtering with median model \\\\dk-server.dk.ucsd.edu\\afassihizakeri\\Topviewmovies\\ar35motor\\2022_02_04\\164video.mp4\n",
      "Saving filtered csv poses!\n",
      "Filtering with median model \\\\dk-server.dk.ucsd.edu\\afassihizakeri\\Topviewmovies\\ar35motor\\2022_02_04\\269video.mp4\n",
      "Saving filtered csv poses!\n",
      "Filtering with median model \\\\dk-server.dk.ucsd.edu\\afassihizakeri\\Topviewmovies\\ar35motor\\2022_02_04\\11video.mp4\n"
     ]
    },
    {
     "name": "stdout",
     "output_type": "stream",
     "text": [
      "Saving filtered csv poses!\n",
      "Filtering with median model \\\\dk-server.dk.ucsd.edu\\afassihizakeri\\Topviewmovies\\ar35motor\\2022_02_04\\266video.mp4\n",
      "Saving filtered csv poses!\n",
      "Filtering with median model \\\\dk-server.dk.ucsd.edu\\afassihizakeri\\Topviewmovies\\ar35motor\\2022_02_04\\182video.mp4\n",
      "Saving filtered csv poses!\n",
      "Filtering with median model \\\\dk-server.dk.ucsd.edu\\afassihizakeri\\Topviewmovies\\ar35motor\\2022_02_04\\280video.mp4\n",
      "Saving filtered csv poses!\n",
      "Filtering with median model \\\\dk-server.dk.ucsd.edu\\afassihizakeri\\Topviewmovies\\ar35motor\\2022_02_04\\302video.mp4\n",
      "Saving filtered csv poses!\n",
      "Filtering with median model \\\\dk-server.dk.ucsd.edu\\afassihizakeri\\Topviewmovies\\ar35motor\\2022_02_04\\49video.mp4\n",
      "Saving filtered csv poses!\n",
      "Filtering with median model \\\\dk-server.dk.ucsd.edu\\afassihizakeri\\Topviewmovies\\ar35motor\\2022_02_04\\133video.mp4\n",
      "Saving filtered csv poses!\n",
      "Filtering with median model \\\\dk-server.dk.ucsd.edu\\afassihizakeri\\Topviewmovies\\ar35motor\\2022_02_04\\46video.mp4\n",
      "Saving filtered csv poses!\n",
      "Filtering with median model \\\\dk-server.dk.ucsd.edu\\afassihizakeri\\Topviewmovies\\ar35motor\\2022_02_04\\231video.mp4\n",
      "Saving filtered csv poses!\n",
      "Filtering with median model \\\\dk-server.dk.ucsd.edu\\afassihizakeri\\Topviewmovies\\ar35motor\\2022_02_04\\259video.mp4\n",
      "Saving filtered csv poses!\n",
      "Filtering with median model \\\\dk-server.dk.ucsd.edu\\afassihizakeri\\Topviewmovies\\ar35motor\\2022_02_04\\154video.mp4\n",
      "Saving filtered csv poses!\n",
      "Filtering with median model \\\\dk-server.dk.ucsd.edu\\afassihizakeri\\Topviewmovies\\ar35motor\\2022_02_04\\256video.mp4\n",
      "Saving filtered csv poses!\n",
      "Filtering with median model \\\\dk-server.dk.ucsd.edu\\afassihizakeri\\Topviewmovies\\ar35motor\\2022_02_04\\21video.mp4\n",
      "Saving filtered csv poses!\n",
      "Filtering with median model \\\\dk-server.dk.ucsd.edu\\afassihizakeri\\Topviewmovies\\ar35motor\\2022_02_04\\103video.mp4\n",
      "Saving filtered csv poses!\n",
      "Filtering with median model \\\\dk-server.dk.ucsd.edu\\afassihizakeri\\Topviewmovies\\ar35motor\\2022_02_04\\79video.mp4\n",
      "Saving filtered csv poses!\n",
      "Filtering with median model \\\\dk-server.dk.ucsd.edu\\afassihizakeri\\Topviewmovies\\ar35motor\\2022_02_04\\201video.mp4\n",
      "Saving filtered csv poses!\n",
      "Filtering with median model \\\\dk-server.dk.ucsd.edu\\afassihizakeri\\Topviewmovies\\ar35motor\\2022_02_04\\76video.mp4\n",
      "Saving filtered csv poses!\n",
      "Filtering with median model \\\\dk-server.dk.ucsd.edu\\afassihizakeri\\Topviewmovies\\ar35motor\\2022_02_04\\90video.mp4\n",
      "Saving filtered csv poses!\n",
      "Filtering with median model \\\\dk-server.dk.ucsd.edu\\afassihizakeri\\Topviewmovies\\ar35motor\\2022_02_04\\31video.mp4\n",
      "Saving filtered csv poses!\n",
      "Filtering with median model \\\\dk-server.dk.ucsd.edu\\afassihizakeri\\Topviewmovies\\ar35motor\\2022_02_04\\246video.mp4\n",
      "Saving filtered csv poses!\n",
      "Filtering with median model \\\\dk-server.dk.ucsd.edu\\afassihizakeri\\Topviewmovies\\ar35motor\\2022_02_04\\249video.mp4\n",
      "Saving filtered csv poses!\n",
      "Filtering with median model \\\\dk-server.dk.ucsd.edu\\afassihizakeri\\Topviewmovies\\ar35motor\\2022_02_04\\144video.mp4\n",
      "Saving filtered csv poses!\n",
      "Filtering with median model \\\\dk-server.dk.ucsd.edu\\afassihizakeri\\Topviewmovies\\ar35motor\\2022_02_04\\66video.mp4\n",
      "Saving filtered csv poses!\n",
      "Filtering with median model \\\\dk-server.dk.ucsd.edu\\afassihizakeri\\Topviewmovies\\ar35motor\\2022_02_04\\211video.mp4\n",
      "Saving filtered csv poses!\n",
      "Filtering with median model \\\\dk-server.dk.ucsd.edu\\afassihizakeri\\Topviewmovies\\ar35motor\\2022_02_04\\69video.mp4\n",
      "Saving filtered csv poses!\n",
      "Filtering with median model \\\\dk-server.dk.ucsd.edu\\afassihizakeri\\Topviewmovies\\ar35motor\\2022_02_04\\113video.mp4\n",
      "Saving filtered csv poses!\n",
      "Filtering with median model \\\\dk-server.dk.ucsd.edu\\afassihizakeri\\Topviewmovies\\ar35motor\\2022_02_04\\80video.mp4\n",
      "Saving filtered csv poses!\n",
      "Filtering with median model \\\\dk-server.dk.ucsd.edu\\afassihizakeri\\Topviewmovies\\ar35motor\\2022_02_04\\240video.mp4\n",
      "Saving filtered csv poses!\n",
      "Filtering with median model \\\\dk-server.dk.ucsd.edu\\afassihizakeri\\Topviewmovies\\ar35motor\\2022_02_04\\37video.mp4\n",
      "Saving filtered csv poses!\n",
      "Filtering with median model \\\\dk-server.dk.ucsd.edu\\afassihizakeri\\Topviewmovies\\ar35motor\\2022_02_04\\142video.mp4\n",
      "Saving filtered csv poses!\n",
      "Filtering with median model \\\\dk-server.dk.ucsd.edu\\afassihizakeri\\Topviewmovies\\ar35motor\\2022_02_04\\38video.mp4\n",
      "Saving filtered csv poses!\n",
      "Filtering with median model \\\\dk-server.dk.ucsd.edu\\afassihizakeri\\Topviewmovies\\ar35motor\\2022_02_04\\86video.mp4\n",
      "Saving filtered csv poses!\n",
      "Filtering with median model \\\\dk-server.dk.ucsd.edu\\afassihizakeri\\Topviewmovies\\ar35motor\\2022_02_04\\89video.mp4\n",
      "Saving filtered csv poses!\n",
      "Filtering with median model \\\\dk-server.dk.ucsd.edu\\afassihizakeri\\Topviewmovies\\ar35motor\\2022_02_04\\217video.mp4\n",
      "Saving filtered csv poses!\n",
      "Filtering with median model \\\\dk-server.dk.ucsd.edu\\afassihizakeri\\Topviewmovies\\ar35motor\\2022_02_04\\60video.mp4\n",
      "Saving filtered csv poses!\n",
      "Filtering with median model \\\\dk-server.dk.ucsd.edu\\afassihizakeri\\Topviewmovies\\ar35motor\\2022_02_04\\115video.mp4\n",
      "Saving filtered csv poses!\n",
      "Filtering with median model \\\\dk-server.dk.ucsd.edu\\afassihizakeri\\Topviewmovies\\ar35motor\\2022_02_04\\218video.mp4\n",
      "Saving filtered csv poses!\n",
      "Filtering with median model \\\\dk-server.dk.ucsd.edu\\afassihizakeri\\Topviewmovies\\ar35motor\\2022_02_04\\28video.mp4\n",
      "Saving filtered csv poses!\n",
      "Filtering with median model \\\\dk-server.dk.ucsd.edu\\afassihizakeri\\Topviewmovies\\ar35motor\\2022_02_04\\152video.mp4\n",
      "Saving filtered csv poses!\n",
      "Filtering with median model \\\\dk-server.dk.ucsd.edu\\afassihizakeri\\Topviewmovies\\ar35motor\\2022_02_04\\27video.mp4\n",
      "Saving filtered csv poses!\n",
      "Filtering with median model \\\\dk-server.dk.ucsd.edu\\afassihizakeri\\Topviewmovies\\ar35motor\\2022_02_04\\250video.mp4\n",
      "Saving filtered csv poses!\n",
      "Filtering with median model \\\\dk-server.dk.ucsd.edu\\afassihizakeri\\Topviewmovies\\ar35motor\\2022_02_04\\99video.mp4\n",
      "Saving filtered csv poses!\n",
      "Filtering with median model \\\\dk-server.dk.ucsd.edu\\afassihizakeri\\Topviewmovies\\ar35motor\\2022_02_04\\96video.mp4\n",
      "Saving filtered csv poses!\n",
      "Filtering with median model \\\\dk-server.dk.ucsd.edu\\afassihizakeri\\Topviewmovies\\ar35motor\\2022_02_04\\105video.mp4\n",
      "Saving filtered csv poses!\n",
      "Filtering with median model \\\\dk-server.dk.ucsd.edu\\afassihizakeri\\Topviewmovies\\ar35motor\\2022_02_04\\208video.mp4\n",
      "Saving filtered csv poses!\n",
      "Filtering with median model \\\\dk-server.dk.ucsd.edu\\afassihizakeri\\Topviewmovies\\ar35motor\\2022_02_04\\70video.mp4\n",
      "Saving filtered csv poses!\n",
      "Filtering with median model \\\\dk-server.dk.ucsd.edu\\afassihizakeri\\Topviewmovies\\ar35motor\\2022_02_04\\207video.mp4\n",
      "Saving filtered csv poses!\n",
      "Filtering with median model \\\\dk-server.dk.ucsd.edu\\afassihizakeri\\Topviewmovies\\ar35motor\\2022_02_04\\184video.mp4\n",
      "Saving filtered csv poses!\n",
      "Filtering with median model \\\\dk-server.dk.ucsd.edu\\afassihizakeri\\Topviewmovies\\ar35motor\\2022_02_04\\289video.mp4\n",
      "Saving filtered csv poses!\n",
      "Filtering with median model \\\\dk-server.dk.ucsd.edu\\afassihizakeri\\Topviewmovies\\ar35motor\\2022_02_04\\286video.mp4\n",
      "Saving filtered csv poses!\n",
      "Filtering with median model \\\\dk-server.dk.ucsd.edu\\afassihizakeri\\Topviewmovies\\ar35motor\\2022_02_04\\162video.mp4\n",
      "Saving filtered csv poses!\n",
      "Filtering with median model \\\\dk-server.dk.ucsd.edu\\afassihizakeri\\Topviewmovies\\ar35motor\\2022_02_04\\18video.mp4\n",
      "Saving filtered csv poses!\n",
      "Filtering with median model \\\\dk-server.dk.ucsd.edu\\afassihizakeri\\Topviewmovies\\ar35motor\\2022_02_04\\260video.mp4\n",
      "Saving filtered csv poses!\n",
      "Filtering with median model \\\\dk-server.dk.ucsd.edu\\afassihizakeri\\Topviewmovies\\ar35motor\\2022_02_04\\17video.mp4\n",
      "Saving filtered csv poses!\n",
      "Filtering with median model \\\\dk-server.dk.ucsd.edu\\afassihizakeri\\Topviewmovies\\ar35motor\\2022_02_04\\238video.mp4\n",
      "Saving filtered csv poses!\n",
      "Filtering with median model \\\\dk-server.dk.ucsd.edu\\afassihizakeri\\Topviewmovies\\ar35motor\\2022_02_04\\135video.mp4\n",
      "Saving filtered csv poses!\n",
      "Filtering with median model \\\\dk-server.dk.ucsd.edu\\afassihizakeri\\Topviewmovies\\ar35motor\\2022_02_04\\237video.mp4\n",
      "Saving filtered csv poses!\n",
      "Filtering with median model \\\\dk-server.dk.ucsd.edu\\afassihizakeri\\Topviewmovies\\ar35motor\\2022_02_04\\40video.mp4\n",
      "Saving filtered csv poses!\n",
      "Filtering with median model \\\\dk-server.dk.ucsd.edu\\afassihizakeri\\Topviewmovies\\ar35motor\\2022_02_04\\304video.mp4\n"
     ]
    },
    {
     "name": "stdout",
     "output_type": "stream",
     "text": [
      "Saving filtered csv poses!\n",
      "Filtering with median model \\\\dk-server.dk.ucsd.edu\\afassihizakeri\\Topviewmovies\\ar35motor\\2022_02_04\\296video.mp4\n",
      "Saving filtered csv poses!\n",
      "Filtering with median model \\\\dk-server.dk.ucsd.edu\\afassihizakeri\\Topviewmovies\\ar35motor\\2022_02_04\\194video.mp4\n",
      "Saving filtered csv poses!\n",
      "Filtering with median model \\\\dk-server.dk.ucsd.edu\\afassihizakeri\\Topviewmovies\\ar35motor\\2022_02_04\\299video.mp4\n",
      "Saving filtered csv poses!\n",
      "Filtering with median model \\\\dk-server.dk.ucsd.edu\\afassihizakeri\\Topviewmovies\\ar35motor\\2022_02_04\\270video.mp4\n",
      "Saving filtered csv poses!\n",
      "Filtering with median model \\\\dk-server.dk.ucsd.edu\\afassihizakeri\\Topviewmovies\\ar35motor\\2022_02_04\\172video.mp4\n",
      "Saving filtered csv poses!\n",
      "Filtering with median model \\\\dk-server.dk.ucsd.edu\\afassihizakeri\\Topviewmovies\\ar35motor\\2022_02_04\\50video.mp4\n",
      "Saving filtered csv poses!\n",
      "Filtering with median model \\\\dk-server.dk.ucsd.edu\\afassihizakeri\\Topviewmovies\\ar35motor\\2022_02_04\\227video.mp4\n",
      "Saving filtered csv poses!\n",
      "Filtering with median model \\\\dk-server.dk.ucsd.edu\\afassihizakeri\\Topviewmovies\\ar35motor\\2022_02_04\\228video.mp4\n",
      "Saving filtered csv poses!\n",
      "Filtering with median model \\\\dk-server.dk.ucsd.edu\\afassihizakeri\\Topviewmovies\\ar35motor\\2022_02_04\\125video.mp4\n",
      "Saving filtered csv poses!\n",
      "Filtering with median model \\\\dk-server.dk.ucsd.edu\\afassihizakeri\\Topviewmovies\\ar35motor\\2022_02_04\\7video.mp4\n",
      "Saving filtered csv poses!\n",
      "Filtering with median model \\\\dk-server.dk.ucsd.edu\\afassihizakeri\\Topviewmovies\\ar35motor\\2022_02_04\\8video.mp4\n",
      "Saving filtered csv poses!\n",
      "Filtering with median model \\\\dk-server.dk.ucsd.edu\\afassihizakeri\\Topviewmovies\\ar35motor\\2022_02_04\\20video.mp4\n",
      "Saving filtered csv poses!\n",
      "Filtering with median model \\\\dk-server.dk.ucsd.edu\\afassihizakeri\\Topviewmovies\\ar35motor\\2022_02_04\\257video.mp4\n",
      "Saving filtered csv poses!\n",
      "Filtering with median model \\\\dk-server.dk.ucsd.edu\\afassihizakeri\\Topviewmovies\\ar35motor\\2022_02_04\\155video.mp4\n",
      "Saving filtered csv poses!\n",
      "Filtering with median model \\\\dk-server.dk.ucsd.edu\\afassihizakeri\\Topviewmovies\\ar35motor\\2022_02_04\\258video.mp4\n",
      "Saving filtered csv poses!\n",
      "Filtering with median model \\\\dk-server.dk.ucsd.edu\\afassihizakeri\\Topviewmovies\\ar35motor\\2022_02_04\\91video.mp4\n",
      "Saving filtered csv poses!\n",
      "Filtering with median model \\\\dk-server.dk.ucsd.edu\\afassihizakeri\\Topviewmovies\\ar35motor\\2022_02_04\\77video.mp4\n",
      "Saving filtered csv poses!\n",
      "Filtering with median model \\\\dk-server.dk.ucsd.edu\\afassihizakeri\\Topviewmovies\\ar35motor\\2022_02_04\\200video.mp4\n",
      "Saving filtered csv poses!\n",
      "Filtering with median model \\\\dk-server.dk.ucsd.edu\\afassihizakeri\\Topviewmovies\\ar35motor\\2022_02_04\\78video.mp4\n",
      "Saving filtered csv poses!\n",
      "Filtering with median model \\\\dk-server.dk.ucsd.edu\\afassihizakeri\\Topviewmovies\\ar35motor\\2022_02_04\\102video.mp4\n",
      "Saving filtered csv poses!\n",
      "Filtering with median model \\\\dk-server.dk.ucsd.edu\\afassihizakeri\\Topviewmovies\\ar35motor\\2022_02_04\\145video.mp4\n",
      "Saving filtered csv poses!\n",
      "Filtering with median model \\\\dk-server.dk.ucsd.edu\\afassihizakeri\\Topviewmovies\\ar35motor\\2022_02_04\\248video.mp4\n",
      "Saving filtered csv poses!\n",
      "Filtering with median model \\\\dk-server.dk.ucsd.edu\\afassihizakeri\\Topviewmovies\\ar35motor\\2022_02_04\\247video.mp4\n",
      "Saving filtered csv poses!\n",
      "Filtering with median model \\\\dk-server.dk.ucsd.edu\\afassihizakeri\\Topviewmovies\\ar35motor\\2022_02_04\\30video.mp4\n",
      "Saving filtered csv poses!\n",
      "Filtering with median model \\\\dk-server.dk.ucsd.edu\\afassihizakeri\\Topviewmovies\\ar35motor\\2022_02_04\\81video.mp4\n",
      "Saving filtered csv poses!\n",
      "Filtering with median model \\\\dk-server.dk.ucsd.edu\\afassihizakeri\\Topviewmovies\\ar35motor\\2022_02_04\\112video.mp4\n",
      "Saving filtered csv poses!\n",
      "Filtering with median model \\\\dk-server.dk.ucsd.edu\\afassihizakeri\\Topviewmovies\\ar35motor\\2022_02_04\\68video.mp4\n",
      "Saving filtered csv poses!\n",
      "Filtering with median model \\\\dk-server.dk.ucsd.edu\\afassihizakeri\\Topviewmovies\\ar35motor\\2022_02_04\\210video.mp4\n",
      "Saving filtered csv poses!\n",
      "Filtering with median model \\\\dk-server.dk.ucsd.edu\\afassihizakeri\\Topviewmovies\\ar35motor\\2022_02_04\\67video.mp4\n",
      "Saving filtered csv poses!\n",
      "Filtering with median model \\\\dk-server.dk.ucsd.edu\\afassihizakeri\\Topviewmovies\\ar35motor\\2022_02_04\\193video.mp4\n",
      "Saving filtered csv poses!\n",
      "Filtering with median model \\\\dk-server.dk.ucsd.edu\\afassihizakeri\\Topviewmovies\\ar35motor\\2022_02_04\\291video.mp4\n",
      "Saving filtered csv poses!\n",
      "Filtering with median model \\\\dk-server.dk.ucsd.edu\\afassihizakeri\\Topviewmovies\\ar35motor\\2022_02_04\\278video.mp4\n",
      "Saving filtered csv poses!\n",
      "Filtering with median model \\\\dk-server.dk.ucsd.edu\\afassihizakeri\\Topviewmovies\\ar35motor\\2022_02_04\\175video.mp4\n",
      "Saving filtered csv poses!\n",
      "Filtering with median model \\\\dk-server.dk.ucsd.edu\\afassihizakeri\\Topviewmovies\\ar35motor\\2022_02_04\\277video.mp4\n",
      "Saving filtered csv poses!\n",
      "Filtering with median model \\\\dk-server.dk.ucsd.edu\\afassihizakeri\\Topviewmovies\\ar35motor\\2022_02_04\\58video.mp4\n",
      "Saving filtered csv poses!\n",
      "Filtering with median model \\\\dk-server.dk.ucsd.edu\\afassihizakeri\\Topviewmovies\\ar35motor\\2022_02_04\\122video.mp4\n",
      "Saving filtered csv poses!\n",
      "Filtering with median model \\\\dk-server.dk.ucsd.edu\\afassihizakeri\\Topviewmovies\\ar35motor\\2022_02_04\\57video.mp4\n",
      "Saving filtered csv poses!\n",
      "Filtering with median model \\\\dk-server.dk.ucsd.edu\\afassihizakeri\\Topviewmovies\\ar35motor\\2022_02_04\\220video.mp4\n",
      "Saving filtered csv poses!\n",
      "Filtering with median model \\\\dk-server.dk.ucsd.edu\\afassihizakeri\\Topviewmovies\\ar35motor\\2022_02_04\\0video.mp4\n",
      "Saving filtered csv poses!\n",
      "Filtering with median model \\\\dk-server.dk.ucsd.edu\\afassihizakeri\\Topviewmovies\\ar35motor\\2022_02_04\\281video.mp4\n",
      "Saving filtered csv poses!\n",
      "Filtering with median model \\\\dk-server.dk.ucsd.edu\\afassihizakeri\\Topviewmovies\\ar35motor\\2022_02_04\\183video.mp4\n",
      "Saving filtered csv poses!\n",
      "Filtering with median model \\\\dk-server.dk.ucsd.edu\\afassihizakeri\\Topviewmovies\\ar35motor\\2022_02_04\\267video.mp4\n",
      "Saving filtered csv poses!\n",
      "Filtering with median model \\\\dk-server.dk.ucsd.edu\\afassihizakeri\\Topviewmovies\\ar35motor\\2022_02_04\\10video.mp4\n",
      "Saving filtered csv poses!\n",
      "Filtering with median model \\\\dk-server.dk.ucsd.edu\\afassihizakeri\\Topviewmovies\\ar35motor\\2022_02_04\\268video.mp4\n",
      "Saving filtered csv poses!\n",
      "Filtering with median model \\\\dk-server.dk.ucsd.edu\\afassihizakeri\\Topviewmovies\\ar35motor\\2022_02_04\\165video.mp4\n",
      "Saving filtered csv poses!\n",
      "Filtering with median model \\\\dk-server.dk.ucsd.edu\\afassihizakeri\\Topviewmovies\\ar35motor\\2022_02_04\\230video.mp4\n",
      "Saving filtered csv poses!\n",
      "Filtering with median model \\\\dk-server.dk.ucsd.edu\\afassihizakeri\\Topviewmovies\\ar35motor\\2022_02_04\\47video.mp4\n",
      "Saving filtered csv poses!\n",
      "Filtering with median model \\\\dk-server.dk.ucsd.edu\\afassihizakeri\\Topviewmovies\\ar35motor\\2022_02_04\\132video.mp4\n",
      "Saving filtered csv poses!\n",
      "Filtering with median model \\\\dk-server.dk.ucsd.edu\\afassihizakeri\\Topviewmovies\\ar35motor\\2022_02_04\\48video.mp4\n",
      "Saving filtered csv poses!\n",
      "Filtering with median model \\\\dk-server.dk.ucsd.edu\\afassihizakeri\\Topviewmovies\\ar35motor\\2022_02_04\\303video.mp4\n",
      "Saving filtered csv poses!\n",
      "Filtering with median model \\\\dk-server.dk.ucsd.edu\\afassihizakeri\\Topviewmovies\\ar35motor\\2022_02_04\\121video.mp4\n",
      "Saving filtered csv poses!\n",
      "Filtering with median model \\\\dk-server.dk.ucsd.edu\\afassihizakeri\\Topviewmovies\\ar35motor\\2022_02_04\\54video.mp4\n",
      "Saving filtered csv poses!\n",
      "Filtering with median model \\\\dk-server.dk.ucsd.edu\\afassihizakeri\\Topviewmovies\\ar35motor\\2022_02_04\\223video.mp4\n",
      "Saving filtered csv poses!\n",
      "Filtering with median model \\\\dk-server.dk.ucsd.edu\\afassihizakeri\\Topviewmovies\\ar35motor\\2022_02_04\\3video.mp4\n",
      "Saving filtered csv poses!\n",
      "Filtering with median model \\\\dk-server.dk.ucsd.edu\\afassihizakeri\\Topviewmovies\\ar35motor\\2022_02_04\\190video.mp4\n",
      "Saving filtered csv poses!\n",
      "Filtering with median model \\\\dk-server.dk.ucsd.edu\\afassihizakeri\\Topviewmovies\\ar35motor\\2022_02_04\\292video.mp4\n",
      "Saving filtered csv poses!\n",
      "Filtering with median model \\\\dk-server.dk.ucsd.edu\\afassihizakeri\\Topviewmovies\\ar35motor\\2022_02_04\\176video.mp4\n",
      "Saving filtered csv poses!\n",
      "Filtering with median model \\\\dk-server.dk.ucsd.edu\\afassihizakeri\\Topviewmovies\\ar35motor\\2022_02_04\\274video.mp4\n"
     ]
    },
    {
     "name": "stdout",
     "output_type": "stream",
     "text": [
      "Saving filtered csv poses!\n",
      "Filtering with median model \\\\dk-server.dk.ucsd.edu\\afassihizakeri\\Topviewmovies\\ar35motor\\2022_02_04\\179video.mp4\n",
      "Saving filtered csv poses!\n",
      "Filtering with median model \\\\dk-server.dk.ucsd.edu\\afassihizakeri\\Topviewmovies\\ar35motor\\2022_02_04\\233video.mp4\n",
      "Saving filtered csv poses!\n",
      "Filtering with median model \\\\dk-server.dk.ucsd.edu\\afassihizakeri\\Topviewmovies\\ar35motor\\2022_02_04\\44video.mp4\n",
      "Saving filtered csv poses!\n",
      "Filtering with median model \\\\dk-server.dk.ucsd.edu\\afassihizakeri\\Topviewmovies\\ar35motor\\2022_02_04\\131video.mp4\n",
      "Saving filtered csv poses!\n",
      "Filtering with median model \\\\dk-server.dk.ucsd.edu\\afassihizakeri\\Topviewmovies\\ar35motor\\2022_02_04\\300video.mp4\n",
      "Saving filtered csv poses!\n",
      "Filtering with median model \\\\dk-server.dk.ucsd.edu\\afassihizakeri\\Topviewmovies\\ar35motor\\2022_02_04\\282video.mp4\n",
      "Saving filtered csv poses!\n",
      "Filtering with median model \\\\dk-server.dk.ucsd.edu\\afassihizakeri\\Topviewmovies\\ar35motor\\2022_02_04\\180video.mp4\n",
      "Saving filtered csv poses!\n",
      "Filtering with median model \\\\dk-server.dk.ucsd.edu\\afassihizakeri\\Topviewmovies\\ar35motor\\2022_02_04\\264video.mp4\n",
      "Saving filtered csv poses!\n",
      "Filtering with median model \\\\dk-server.dk.ucsd.edu\\afassihizakeri\\Topviewmovies\\ar35motor\\2022_02_04\\169video.mp4\n",
      "Saving filtered csv poses!\n",
      "Filtering with median model \\\\dk-server.dk.ucsd.edu\\afassihizakeri\\Topviewmovies\\ar35motor\\2022_02_04\\13video.mp4\n",
      "Saving filtered csv poses!\n",
      "Filtering with median model \\\\dk-server.dk.ucsd.edu\\afassihizakeri\\Topviewmovies\\ar35motor\\2022_02_04\\166video.mp4\n",
      "Saving filtered csv poses!\n",
      "Filtering with median model \\\\dk-server.dk.ucsd.edu\\afassihizakeri\\Topviewmovies\\ar35motor\\2022_02_04\\92video.mp4\n",
      "Saving filtered csv poses!\n",
      "Filtering with median model \\\\dk-server.dk.ucsd.edu\\afassihizakeri\\Topviewmovies\\ar35motor\\2022_02_04\\74video.mp4\n",
      "Saving filtered csv poses!\n",
      "Filtering with median model \\\\dk-server.dk.ucsd.edu\\afassihizakeri\\Topviewmovies\\ar35motor\\2022_02_04\\203video.mp4\n",
      "Saving filtered csv poses!\n",
      "Filtering with median model \\\\dk-server.dk.ucsd.edu\\afassihizakeri\\Topviewmovies\\ar35motor\\2022_02_04\\101video.mp4\n",
      "Saving filtered csv poses!\n",
      "Filtering with median model \\\\dk-server.dk.ucsd.edu\\afassihizakeri\\Topviewmovies\\ar35motor\\2022_02_04\\23video.mp4\n",
      "Saving filtered csv poses!\n",
      "Filtering with median model \\\\dk-server.dk.ucsd.edu\\afassihizakeri\\Topviewmovies\\ar35motor\\2022_02_04\\159video.mp4\n",
      "Saving filtered csv poses!\n",
      "Filtering with median model \\\\dk-server.dk.ucsd.edu\\afassihizakeri\\Topviewmovies\\ar35motor\\2022_02_04\\254video.mp4\n",
      "Data from 254video were already filtered. Skipping...\n",
      "Filtering with median model \\\\dk-server.dk.ucsd.edu\\afassihizakeri\\Topviewmovies\\ar35motor\\2022_02_04\\156video.mp4\n",
      "Saving filtered csv poses!\n",
      "Filtering with median model \\\\dk-server.dk.ucsd.edu\\afassihizakeri\\Topviewmovies\\ar35motor\\2022_02_04\\82video.mp4\n",
      "Data from 82video were already filtered. Skipping...\n",
      "Filtering with median model \\\\dk-server.dk.ucsd.edu\\afassihizakeri\\Topviewmovies\\ar35motor\\2022_02_04\\111video.mp4\n",
      "Saving filtered csv poses!\n",
      "Filtering with median model \\\\dk-server.dk.ucsd.edu\\afassihizakeri\\Topviewmovies\\ar35motor\\2022_02_04\\213video.mp4\n",
      "Saving filtered csv poses!\n",
      "Filtering with median model \\\\dk-server.dk.ucsd.edu\\afassihizakeri\\Topviewmovies\\ar35motor\\2022_02_04\\64video.mp4\n",
      "Saving filtered csv poses!\n",
      "Filtering with median model \\\\dk-server.dk.ucsd.edu\\afassihizakeri\\Topviewmovies\\ar35motor\\2022_02_04\\146video.mp4\n",
      "Saving filtered csv poses!\n",
      "Filtering with median model \\\\dk-server.dk.ucsd.edu\\afassihizakeri\\Topviewmovies\\ar35motor\\2022_02_04\\149video.mp4\n",
      "Saving filtered csv poses!\n",
      "Filtering with median model \\\\dk-server.dk.ucsd.edu\\afassihizakeri\\Topviewmovies\\ar35motor\\2022_02_04\\244video.mp4\n",
      "Saving filtered csv poses!\n",
      "Filtering with median model \\\\dk-server.dk.ucsd.edu\\afassihizakeri\\Topviewmovies\\ar35motor\\2022_02_04\\33video.mp4\n",
      "Saving filtered csv poses!\n",
      "Filtering with median model \\\\dk-server.dk.ucsd.edu\\afassihizakeri\\Topviewmovies\\ar35motor\\2022_02_04\\136video.mp4\n",
      "Data from 136video were already filtered. Skipping...\n",
      "Filtering with median model \\\\dk-server.dk.ucsd.edu\\afassihizakeri\\Topviewmovies\\ar35motor\\2022_02_04\\234video.mp4\n",
      "Saving filtered csv poses!\n",
      "Filtering with median model \\\\dk-server.dk.ucsd.edu\\afassihizakeri\\Topviewmovies\\ar35motor\\2022_02_04\\139video.mp4\n",
      "Data from 139video were already filtered. Skipping...\n",
      "Filtering with median model \\\\dk-server.dk.ucsd.edu\\afassihizakeri\\Topviewmovies\\ar35motor\\2022_02_04\\43video.mp4\n",
      "Data from 43video were already filtered. Skipping...\n",
      "Filtering with median model \\\\dk-server.dk.ucsd.edu\\afassihizakeri\\Topviewmovies\\ar35motor\\2022_02_04\\308video.mp4\n",
      "Data from 308video were already filtered. Skipping...\n",
      "Filtering with median model \\\\dk-server.dk.ucsd.edu\\afassihizakeri\\Topviewmovies\\ar35motor\\2022_02_04\\307video.mp4\n",
      "Data from 307video were already filtered. Skipping...\n",
      "Filtering with median model \\\\dk-server.dk.ucsd.edu\\afassihizakeri\\Topviewmovies\\ar35motor\\2022_02_04\\187video.mp4\n",
      "Data from 187video were already filtered. Skipping...\n",
      "Filtering with median model \\\\dk-server.dk.ucsd.edu\\afassihizakeri\\Topviewmovies\\ar35motor\\2022_02_04\\188video.mp4\n",
      "Saving filtered csv poses!\n",
      "Filtering with median model \\\\dk-server.dk.ucsd.edu\\afassihizakeri\\Topviewmovies\\ar35motor\\2022_02_04\\285video.mp4\n",
      "Saving filtered csv poses!\n",
      "Filtering with median model \\\\dk-server.dk.ucsd.edu\\afassihizakeri\\Topviewmovies\\ar35motor\\2022_02_04\\161video.mp4\n",
      "Saving filtered csv poses!\n",
      "Filtering with median model \\\\dk-server.dk.ucsd.edu\\afassihizakeri\\Topviewmovies\\ar35motor\\2022_02_04\\263video.mp4\n",
      "Saving filtered csv poses!\n",
      "Filtering with median model \\\\dk-server.dk.ucsd.edu\\afassihizakeri\\Topviewmovies\\ar35motor\\2022_02_04\\14video.mp4\n",
      "Saving filtered csv poses!\n",
      "Filtering with median model \\\\dk-server.dk.ucsd.edu\\afassihizakeri\\Topviewmovies\\ar35motor\\2022_02_04\\53video.mp4\n",
      "Saving filtered csv poses!\n",
      "Filtering with median model \\\\dk-server.dk.ucsd.edu\\afassihizakeri\\Topviewmovies\\ar35motor\\2022_02_04\\224video.mp4\n",
      "Saving filtered csv poses!\n",
      "Filtering with median model \\\\dk-server.dk.ucsd.edu\\afassihizakeri\\Topviewmovies\\ar35motor\\2022_02_04\\129video.mp4\n",
      "Saving filtered csv poses!\n",
      "Filtering with median model \\\\dk-server.dk.ucsd.edu\\afassihizakeri\\Topviewmovies\\ar35motor\\2022_02_04\\126video.mp4\n",
      "Saving filtered csv poses!\n",
      "Filtering with median model \\\\dk-server.dk.ucsd.edu\\afassihizakeri\\Topviewmovies\\ar35motor\\2022_02_04\\4video.mp4\n",
      "Saving filtered csv poses!\n",
      "Filtering with median model \\\\dk-server.dk.ucsd.edu\\afassihizakeri\\Topviewmovies\\ar35motor\\2022_02_04\\198video.mp4\n",
      "Saving filtered csv poses!\n",
      "Filtering with median model \\\\dk-server.dk.ucsd.edu\\afassihizakeri\\Topviewmovies\\ar35motor\\2022_02_04\\295video.mp4\n",
      "Saving filtered csv poses!\n",
      "Filtering with median model \\\\dk-server.dk.ucsd.edu\\afassihizakeri\\Topviewmovies\\ar35motor\\2022_02_04\\197video.mp4\n",
      "Saving filtered csv poses!\n",
      "Filtering with median model \\\\dk-server.dk.ucsd.edu\\afassihizakeri\\Topviewmovies\\ar35motor\\2022_02_04\\273video.mp4\n",
      "Saving filtered csv poses!\n",
      "Filtering with median model \\\\dk-server.dk.ucsd.edu\\afassihizakeri\\Topviewmovies\\ar35motor\\2022_02_04\\171video.mp4\n",
      "Saving filtered csv poses!\n",
      "Filtering with median model \\\\dk-server.dk.ucsd.edu\\afassihizakeri\\Topviewmovies\\ar35motor\\2022_02_04\\85video.mp4\n",
      "Saving filtered csv poses!\n",
      "Filtering with median model \\\\dk-server.dk.ucsd.edu\\afassihizakeri\\Topviewmovies\\ar35motor\\2022_02_04\\119video.mp4\n",
      "Saving filtered csv poses!\n",
      "Filtering with median model \\\\dk-server.dk.ucsd.edu\\afassihizakeri\\Topviewmovies\\ar35motor\\2022_02_04\\214video.mp4\n",
      "Saving filtered csv poses!\n",
      "Filtering with median model \\\\dk-server.dk.ucsd.edu\\afassihizakeri\\Topviewmovies\\ar35motor\\2022_02_04\\63video.mp4\n",
      "Saving filtered csv poses!\n",
      "Filtering with median model \\\\dk-server.dk.ucsd.edu\\afassihizakeri\\Topviewmovies\\ar35motor\\2022_02_04\\116video.mp4\n",
      "Saving filtered csv poses!\n",
      "Filtering with median model \\\\dk-server.dk.ucsd.edu\\afassihizakeri\\Topviewmovies\\ar35motor\\2022_02_04\\243video.mp4\n",
      "Saving filtered csv poses!\n",
      "Filtering with median model \\\\dk-server.dk.ucsd.edu\\afassihizakeri\\Topviewmovies\\ar35motor\\2022_02_04\\34video.mp4\n",
      "Saving filtered csv poses!\n",
      "Filtering with median model \\\\dk-server.dk.ucsd.edu\\afassihizakeri\\Topviewmovies\\ar35motor\\2022_02_04\\141video.mp4\n"
     ]
    },
    {
     "name": "stdout",
     "output_type": "stream",
     "text": [
      "Saving filtered csv poses!\n",
      "Filtering with median model \\\\dk-server.dk.ucsd.edu\\afassihizakeri\\Topviewmovies\\ar35motor\\2022_02_04\\95video.mp4\n",
      "Saving filtered csv poses!\n",
      "Filtering with median model \\\\dk-server.dk.ucsd.edu\\afassihizakeri\\Topviewmovies\\ar35motor\\2022_02_04\\106video.mp4\n",
      "Saving filtered csv poses!\n",
      "Filtering with median model \\\\dk-server.dk.ucsd.edu\\afassihizakeri\\Topviewmovies\\ar35motor\\2022_02_04\\73video.mp4\n",
      "Saving filtered csv poses!\n",
      "Filtering with median model \\\\dk-server.dk.ucsd.edu\\afassihizakeri\\Topviewmovies\\ar35motor\\2022_02_04\\109video.mp4\n",
      "Saving filtered csv poses!\n",
      "Filtering with median model \\\\dk-server.dk.ucsd.edu\\afassihizakeri\\Topviewmovies\\ar35motor\\2022_02_04\\204video.mp4\n",
      "Saving filtered csv poses!\n",
      "Filtering with median model \\\\dk-server.dk.ucsd.edu\\afassihizakeri\\Topviewmovies\\ar35motor\\2022_02_04\\151video.mp4\n",
      "Saving filtered csv poses!\n",
      "Filtering with median model \\\\dk-server.dk.ucsd.edu\\afassihizakeri\\Topviewmovies\\ar35motor\\2022_02_04\\24video.mp4\n",
      "Saving filtered csv poses!\n",
      "Filtering with median model \\\\dk-server.dk.ucsd.edu\\afassihizakeri\\Topviewmovies\\ar35motor\\2022_02_04\\253video.mp4\n",
      "Data from 253video were already filtered. Skipping...\n",
      "Filtering with median model \\\\dk-server.dk.ucsd.edu\\afassihizakeri\\Topviewmovies\\ar35motor\\2022_02_04\\100video.mp4\n",
      "Data from 100video were already filtered. Skipping...\n",
      "Filtering with median model \\\\dk-server.dk.ucsd.edu\\afassihizakeri\\Topviewmovies\\ar35motor\\2022_02_04\\202video.mp4\n",
      "Saving filtered csv poses!\n",
      "Filtering with median model \\\\dk-server.dk.ucsd.edu\\afassihizakeri\\Topviewmovies\\ar35motor\\2022_02_04\\75video.mp4\n",
      "Saving filtered csv poses!\n",
      "Filtering with median model \\\\dk-server.dk.ucsd.edu\\afassihizakeri\\Topviewmovies\\ar35motor\\2022_02_04\\93video.mp4\n",
      "Saving filtered csv poses!\n",
      "Filtering with median model \\\\dk-server.dk.ucsd.edu\\afassihizakeri\\Topviewmovies\\ar35motor\\2022_02_04\\157video.mp4\n",
      "Saving filtered csv poses!\n",
      "Filtering with median model \\\\dk-server.dk.ucsd.edu\\afassihizakeri\\Topviewmovies\\ar35motor\\2022_02_04\\255video.mp4\n",
      "Saving filtered csv poses!\n",
      "Filtering with median model \\\\dk-server.dk.ucsd.edu\\afassihizakeri\\Topviewmovies\\ar35motor\\2022_02_04\\158video.mp4\n",
      "Saving filtered csv poses!\n",
      "Filtering with median model \\\\dk-server.dk.ucsd.edu\\afassihizakeri\\Topviewmovies\\ar35motor\\2022_02_04\\22video.mp4\n",
      "Saving filtered csv poses!\n",
      "Filtering with median model \\\\dk-server.dk.ucsd.edu\\afassihizakeri\\Topviewmovies\\ar35motor\\2022_02_04\\65video.mp4\n",
      "Saving filtered csv poses!\n",
      "Filtering with median model \\\\dk-server.dk.ucsd.edu\\afassihizakeri\\Topviewmovies\\ar35motor\\2022_02_04\\212video.mp4\n",
      "Data from 212video were already filtered. Skipping...\n",
      "Filtering with median model \\\\dk-server.dk.ucsd.edu\\afassihizakeri\\Topviewmovies\\ar35motor\\2022_02_04\\110video.mp4\n",
      "Data from 110video were already filtered. Skipping...\n",
      "Filtering with median model \\\\dk-server.dk.ucsd.edu\\afassihizakeri\\Topviewmovies\\ar35motor\\2022_02_04\\83video.mp4\n",
      "Data from 83video were already filtered. Skipping...\n",
      "Filtering with median model \\\\dk-server.dk.ucsd.edu\\afassihizakeri\\Topviewmovies\\ar35motor\\2022_02_04\\32video.mp4\n",
      "Saving filtered csv poses!\n",
      "Filtering with median model \\\\dk-server.dk.ucsd.edu\\afassihizakeri\\Topviewmovies\\ar35motor\\2022_02_04\\245video.mp4\n",
      "Saving filtered csv poses!\n",
      "Filtering with median model \\\\dk-server.dk.ucsd.edu\\afassihizakeri\\Topviewmovies\\ar35motor\\2022_02_04\\148video.mp4\n",
      "Saving filtered csv poses!\n",
      "Filtering with median model \\\\dk-server.dk.ucsd.edu\\afassihizakeri\\Topviewmovies\\ar35motor\\2022_02_04\\147video.mp4\n",
      "Saving filtered csv poses!\n",
      "Filtering with median model \\\\dk-server.dk.ucsd.edu\\afassihizakeri\\Topviewmovies\\ar35motor\\2022_02_04\\2video.mp4\n",
      "Saving filtered csv poses!\n",
      "Filtering with median model \\\\dk-server.dk.ucsd.edu\\afassihizakeri\\Topviewmovies\\ar35motor\\2022_02_04\\222video.mp4\n",
      "Saving filtered csv poses!\n",
      "Filtering with median model \\\\dk-server.dk.ucsd.edu\\afassihizakeri\\Topviewmovies\\ar35motor\\2022_02_04\\55video.mp4\n",
      "Saving filtered csv poses!\n",
      "Filtering with median model \\\\dk-server.dk.ucsd.edu\\afassihizakeri\\Topviewmovies\\ar35motor\\2022_02_04\\120video.mp4\n",
      "Saving filtered csv poses!\n",
      "Filtering with median model \\\\dk-server.dk.ucsd.edu\\afassihizakeri\\Topviewmovies\\ar35motor\\2022_02_04\\178video.mp4\n",
      "Saving filtered csv poses!\n",
      "Filtering with median model \\\\dk-server.dk.ucsd.edu\\afassihizakeri\\Topviewmovies\\ar35motor\\2022_02_04\\275video.mp4\n",
      "Saving filtered csv poses!\n",
      "Filtering with median model \\\\dk-server.dk.ucsd.edu\\afassihizakeri\\Topviewmovies\\ar35motor\\2022_02_04\\177video.mp4\n",
      "Saving filtered csv poses!\n",
      "Filtering with median model \\\\dk-server.dk.ucsd.edu\\afassihizakeri\\Topviewmovies\\ar35motor\\2022_02_04\\293video.mp4\n",
      "Saving filtered csv poses!\n",
      "Filtering with median model \\\\dk-server.dk.ucsd.edu\\afassihizakeri\\Topviewmovies\\ar35motor\\2022_02_04\\191video.mp4\n",
      "Saving filtered csv poses!\n",
      "Filtering with median model \\\\dk-server.dk.ucsd.edu\\afassihizakeri\\Topviewmovies\\ar35motor\\2022_02_04\\301video.mp4\n",
      "Saving filtered csv poses!\n",
      "Filtering with median model \\\\dk-server.dk.ucsd.edu\\afassihizakeri\\Topviewmovies\\ar35motor\\2022_02_04\\130video.mp4\n",
      "Saving filtered csv poses!\n",
      "Filtering with median model \\\\dk-server.dk.ucsd.edu\\afassihizakeri\\Topviewmovies\\ar35motor\\2022_02_04\\45video.mp4\n",
      "Saving filtered csv poses!\n",
      "Filtering with median model \\\\dk-server.dk.ucsd.edu\\afassihizakeri\\Topviewmovies\\ar35motor\\2022_02_04\\232video.mp4\n",
      "Saving filtered csv poses!\n",
      "Filtering with median model \\\\dk-server.dk.ucsd.edu\\afassihizakeri\\Topviewmovies\\ar35motor\\2022_02_04\\167video.mp4\n",
      "Saving filtered csv poses!\n",
      "Filtering with median model \\\\dk-server.dk.ucsd.edu\\afassihizakeri\\Topviewmovies\\ar35motor\\2022_02_04\\12video.mp4\n",
      "Saving filtered csv poses!\n",
      "Filtering with median model \\\\dk-server.dk.ucsd.edu\\afassihizakeri\\Topviewmovies\\ar35motor\\2022_02_04\\168video.mp4\n",
      "Saving filtered csv poses!\n",
      "Filtering with median model \\\\dk-server.dk.ucsd.edu\\afassihizakeri\\Topviewmovies\\ar35motor\\2022_02_04\\265video.mp4\n",
      "Saving filtered csv poses!\n",
      "Filtering with median model \\\\dk-server.dk.ucsd.edu\\afassihizakeri\\Topviewmovies\\ar35motor\\2022_02_04\\181video.mp4\n",
      "Saving filtered csv poses!\n",
      "Filtering with median model \\\\dk-server.dk.ucsd.edu\\afassihizakeri\\Topviewmovies\\ar35motor\\2022_02_04\\283video.mp4\n",
      "Saving filtered csv poses!\n",
      "Filtering with median model \\\\dk-server.dk.ucsd.edu\\afassihizakeri\\Topviewmovies\\ar35motor\\2022_02_04\\117video.mp4\n",
      "Saving filtered csv poses!\n",
      "Filtering with median model \\\\dk-server.dk.ucsd.edu\\afassihizakeri\\Topviewmovies\\ar35motor\\2022_02_04\\62video.mp4\n",
      "Saving filtered csv poses!\n",
      "Filtering with median model \\\\dk-server.dk.ucsd.edu\\afassihizakeri\\Topviewmovies\\ar35motor\\2022_02_04\\215video.mp4\n",
      "Saving filtered csv poses!\n",
      "Filtering with median model \\\\dk-server.dk.ucsd.edu\\afassihizakeri\\Topviewmovies\\ar35motor\\2022_02_04\\118video.mp4\n",
      "Saving filtered csv poses!\n",
      "Filtering with median model \\\\dk-server.dk.ucsd.edu\\afassihizakeri\\Topviewmovies\\ar35motor\\2022_02_04\\84video.mp4\n",
      "Saving filtered csv poses!\n",
      "Filtering with median model \\\\dk-server.dk.ucsd.edu\\afassihizakeri\\Topviewmovies\\ar35motor\\2022_02_04\\140video.mp4\n",
      "Saving filtered csv poses!\n",
      "Filtering with median model \\\\dk-server.dk.ucsd.edu\\afassihizakeri\\Topviewmovies\\ar35motor\\2022_02_04\\35video.mp4\n",
      "Saving filtered csv poses!\n",
      "Filtering with median model \\\\dk-server.dk.ucsd.edu\\afassihizakeri\\Topviewmovies\\ar35motor\\2022_02_04\\242video.mp4\n",
      "Saving filtered csv poses!\n",
      "Filtering with median model \\\\dk-server.dk.ucsd.edu\\afassihizakeri\\Topviewmovies\\ar35motor\\2022_02_04\\205video.mp4\n",
      "Saving filtered csv poses!\n",
      "Filtering with median model \\\\dk-server.dk.ucsd.edu\\afassihizakeri\\Topviewmovies\\ar35motor\\2022_02_04\\108video.mp4\n",
      "Saving filtered csv poses!\n",
      "Filtering with median model \\\\dk-server.dk.ucsd.edu\\afassihizakeri\\Topviewmovies\\ar35motor\\2022_02_04\\72video.mp4\n",
      "Saving filtered csv poses!\n",
      "Filtering with median model \\\\dk-server.dk.ucsd.edu\\afassihizakeri\\Topviewmovies\\ar35motor\\2022_02_04\\107video.mp4\n",
      "Saving filtered csv poses!\n",
      "Filtering with median model \\\\dk-server.dk.ucsd.edu\\afassihizakeri\\Topviewmovies\\ar35motor\\2022_02_04\\94video.mp4\n",
      "Saving filtered csv poses!\n",
      "Filtering with median model \\\\dk-server.dk.ucsd.edu\\afassihizakeri\\Topviewmovies\\ar35motor\\2022_02_04\\252video.mp4\n"
     ]
    },
    {
     "name": "stdout",
     "output_type": "stream",
     "text": [
      "Saving filtered csv poses!\n",
      "Filtering with median model \\\\dk-server.dk.ucsd.edu\\afassihizakeri\\Topviewmovies\\ar35motor\\2022_02_04\\25video.mp4\n",
      "Saving filtered csv poses!\n",
      "Filtering with median model \\\\dk-server.dk.ucsd.edu\\afassihizakeri\\Topviewmovies\\ar35motor\\2022_02_04\\150video.mp4\n",
      "Saving filtered csv poses!\n",
      "Filtering with median model \\\\dk-server.dk.ucsd.edu\\afassihizakeri\\Topviewmovies\\ar35motor\\2022_02_04\\306video.mp4\n",
      "Saving filtered csv poses!\n",
      "Filtering with median model \\\\dk-server.dk.ucsd.edu\\afassihizakeri\\Topviewmovies\\ar35motor\\2022_02_04\\42video.mp4\n",
      "Saving filtered csv poses!\n",
      "Filtering with median model \\\\dk-server.dk.ucsd.edu\\afassihizakeri\\Topviewmovies\\ar35motor\\2022_02_04\\138video.mp4\n",
      "Saving filtered csv poses!\n",
      "Filtering with median model \\\\dk-server.dk.ucsd.edu\\afassihizakeri\\Topviewmovies\\ar35motor\\2022_02_04\\235video.mp4\n",
      "Saving filtered csv poses!\n",
      "Filtering with median model \\\\dk-server.dk.ucsd.edu\\afassihizakeri\\Topviewmovies\\ar35motor\\2022_02_04\\137video.mp4\n",
      "Saving filtered csv poses!\n",
      "Filtering with median model \\\\dk-server.dk.ucsd.edu\\afassihizakeri\\Topviewmovies\\ar35motor\\2022_02_04\\15video.mp4\n",
      "Saving filtered csv poses!\n",
      "Filtering with median model \\\\dk-server.dk.ucsd.edu\\afassihizakeri\\Topviewmovies\\ar35motor\\2022_02_04\\262video.mp4\n",
      "Saving filtered csv poses!\n",
      "Filtering with median model \\\\dk-server.dk.ucsd.edu\\afassihizakeri\\Topviewmovies\\ar35motor\\2022_02_04\\160video.mp4\n",
      "Saving filtered csv poses!\n",
      "Filtering with median model \\\\dk-server.dk.ucsd.edu\\afassihizakeri\\Topviewmovies\\ar35motor\\2022_02_04\\284video.mp4\n",
      "Saving filtered csv poses!\n",
      "Filtering with median model \\\\dk-server.dk.ucsd.edu\\afassihizakeri\\Topviewmovies\\ar35motor\\2022_02_04\\189video.mp4\n",
      "Saving filtered csv poses!\n",
      "Filtering with median model \\\\dk-server.dk.ucsd.edu\\afassihizakeri\\Topviewmovies\\ar35motor\\2022_02_04\\186video.mp4\n",
      "Saving filtered csv poses!\n",
      "Filtering with median model \\\\dk-server.dk.ucsd.edu\\afassihizakeri\\Topviewmovies\\ar35motor\\2022_02_04\\5video.mp4\n",
      "Saving filtered csv poses!\n",
      "Filtering with median model \\\\dk-server.dk.ucsd.edu\\afassihizakeri\\Topviewmovies\\ar35motor\\2022_02_04\\127video.mp4\n",
      "Saving filtered csv poses!\n",
      "Filtering with median model \\\\dk-server.dk.ucsd.edu\\afassihizakeri\\Topviewmovies\\ar35motor\\2022_02_04\\128video.mp4\n",
      "Saving filtered csv poses!\n",
      "Filtering with median model \\\\dk-server.dk.ucsd.edu\\afassihizakeri\\Topviewmovies\\ar35motor\\2022_02_04\\225video.mp4\n",
      "Saving filtered csv poses!\n",
      "Filtering with median model \\\\dk-server.dk.ucsd.edu\\afassihizakeri\\Topviewmovies\\ar35motor\\2022_02_04\\52video.mp4\n",
      "Saving filtered csv poses!\n",
      "Filtering with median model \\\\dk-server.dk.ucsd.edu\\afassihizakeri\\Topviewmovies\\ar35motor\\2022_02_04\\170video.mp4\n",
      "Saving filtered csv poses!\n",
      "Filtering with median model \\\\dk-server.dk.ucsd.edu\\afassihizakeri\\Topviewmovies\\ar35motor\\2022_02_04\\272video.mp4\n",
      "Saving filtered csv poses!\n",
      "Filtering with median model \\\\dk-server.dk.ucsd.edu\\afassihizakeri\\Topviewmovies\\ar35motor\\2022_02_04\\196video.mp4\n",
      "Saving filtered csv poses!\n",
      "Filtering with median model \\\\dk-server.dk.ucsd.edu\\afassihizakeri\\Topviewmovies\\ar35motor\\2022_02_04\\294video.mp4\n",
      "Saving filtered csv poses!\n",
      "Filtering with median model \\\\dk-server.dk.ucsd.edu\\afassihizakeri\\Topviewmovies\\ar35motor\\2022_02_04\\199video.mp4\n",
      "Saving filtered csv poses!\n"
     ]
    }
   ],
   "source": [
    "#path_config_file = 'F:\\\\DLC\\\\Topview3435-Arash-2021-07-28\n",
    "path_config_file ='R:\\\\afassihizakeri\\\\DLC\\\\SC_Muscimol_2019-Arash_2-2022-10-03\\\\config.yaml'\n",
    "\n",
    "import os\n",
    "text_files = [os.path.join(Mainfolder,f) for f in os.listdir(Mainfolder) if f.endswith('video.mp4') and not f.endswith('L.avi') and not f.endswith('R.avi') and not f.endswith('videopoints.avi') and not f.endswith('videopoints.avi')]\n",
    "print(text_files[3])\n",
    "temp1=deeplabcut.analyze_videos(path_config_file,text_files,shuffle=1, save_as_csv=True )\n",
    "temp=deeplabcut.filterpredictions(path_config_file,text_files)"
   ]
  },
  {
   "cell_type": "markdown",
   "metadata": {},
   "source": [
    "# make left right movies out of DLC output\n",
    "this step should take the filtered DLC output (Nose and Snout) and create the L and R movies"
   ]
  },
  {
   "cell_type": "code",
   "execution_count": 14,
   "metadata": {
    "scrolled": true
   },
   "outputs": [
    {
     "name": "stdout",
     "output_type": "stream",
     "text": [
      "181\n"
     ]
    },
    {
     "ename": "KeyboardInterrupt",
     "evalue": "",
     "output_type": "error",
     "traceback": [
      "\u001b[1;31m---------------------------------------------------------------------------\u001b[0m",
      "\u001b[1;31mKeyboardInterrupt\u001b[0m                         Traceback (most recent call last)",
      "\u001b[1;32m<ipython-input-14-7b148b215438>\u001b[0m in \u001b[0;36m<module>\u001b[1;34m\u001b[0m\n\u001b[0;32m     14\u001b[0m     \u001b[0mGood_Frames\u001b[0m \u001b[1;33m=\u001b[0m\u001b[0mLR_movie_maker_Main\u001b[0m\u001b[1;33m.\u001b[0m\u001b[0mfindgoodrames\u001b[0m\u001b[1;33m(\u001b[0m\u001b[1;36m0.8\u001b[0m\u001b[1;33m,\u001b[0m\u001b[1;36m50\u001b[0m\u001b[1;33m,\u001b[0m\u001b[1;36m150\u001b[0m\u001b[1;33m,\u001b[0m\u001b[0mdf\u001b[0m\u001b[1;33m,\u001b[0m\u001b[0mDistance\u001b[0m\u001b[1;33m)\u001b[0m\u001b[1;33m\u001b[0m\u001b[1;33m\u001b[0m\u001b[0m\n\u001b[0;32m     15\u001b[0m     \u001b[0mLR_movie_maker_Main\u001b[0m\u001b[1;33m.\u001b[0m\u001b[0mwriteFrameData\u001b[0m\u001b[1;33m(\u001b[0m\u001b[0mMainfolder\u001b[0m\u001b[1;33m,\u001b[0m\u001b[0mtext\u001b[0m\u001b[1;33m,\u001b[0m\u001b[0mGood_Frames\u001b[0m\u001b[1;33m,\u001b[0m\u001b[0mdf\u001b[0m\u001b[1;33m,\u001b[0m\u001b[0mAngle\u001b[0m\u001b[1;33m)\u001b[0m\u001b[1;33m\u001b[0m\u001b[1;33m\u001b[0m\u001b[0m\n\u001b[1;32m---> 16\u001b[1;33m     \u001b[0mLR_movie_maker_Main\u001b[0m\u001b[1;33m.\u001b[0m\u001b[0msavemovies_LR\u001b[0m\u001b[1;33m(\u001b[0m\u001b[0mmovivename\u001b[0m\u001b[1;33m,\u001b[0m\u001b[0mAngle\u001b[0m\u001b[1;33m,\u001b[0m\u001b[0mdf\u001b[0m\u001b[1;33m,\u001b[0m\u001b[0mGood_Frames\u001b[0m\u001b[1;33m,\u001b[0m\u001b[1;34m\".mp4\"\u001b[0m\u001b[1;33m,\u001b[0m\u001b[0mcontrastfactor\u001b[0m\u001b[1;33m)\u001b[0m\u001b[1;33m\u001b[0m\u001b[1;33m\u001b[0m\u001b[0m\n\u001b[0m\u001b[0;32m     17\u001b[0m     \u001b[0melapsed\u001b[0m \u001b[1;33m=\u001b[0m \u001b[0mtime\u001b[0m\u001b[1;33m.\u001b[0m\u001b[0mtime\u001b[0m\u001b[1;33m(\u001b[0m\u001b[1;33m)\u001b[0m \u001b[1;33m-\u001b[0m \u001b[0mt\u001b[0m\u001b[1;33m\u001b[0m\u001b[1;33m\u001b[0m\u001b[0m\n\u001b[0;32m     18\u001b[0m     \u001b[0mvideo_name\u001b[0m \u001b[1;33m=\u001b[0m \u001b[1;33m(\u001b[0m\u001b[0mos\u001b[0m\u001b[1;33m.\u001b[0m\u001b[0mpath\u001b[0m\u001b[1;33m.\u001b[0m\u001b[0mjoin\u001b[0m\u001b[1;33m(\u001b[0m\u001b[0mos\u001b[0m\u001b[1;33m.\u001b[0m\u001b[0mpath\u001b[0m\u001b[1;33m.\u001b[0m\u001b[0mdirname\u001b[0m\u001b[1;33m(\u001b[0m\u001b[0mmovivename\u001b[0m\u001b[1;33m)\u001b[0m\u001b[1;33m,\u001b[0m\u001b[0mtext\u001b[0m\u001b[1;33m.\u001b[0m\u001b[0msplit\u001b[0m\u001b[1;33m(\u001b[0m\u001b[1;34m'DLC'\u001b[0m\u001b[1;33m)\u001b[0m\u001b[1;33m[\u001b[0m\u001b[1;36m0\u001b[0m\u001b[1;33m]\u001b[0m\u001b[1;33m+\u001b[0m\u001b[1;34m\".avi\"\u001b[0m\u001b[1;33m)\u001b[0m\u001b[1;33m)\u001b[0m\u001b[1;33m;\u001b[0m\u001b[1;33m\u001b[0m\u001b[1;33m\u001b[0m\u001b[0m\n",
      "\u001b[1;32mD:\\Dropbox\\Dropbox\\Notebook\\LR_movie_maker_Main.py\u001b[0m in \u001b[0;36msavemovies_LR\u001b[1;34m(movivename, Angle, df, Good_Frames, Extention, factor)\u001b[0m\n\u001b[0;32m     40\u001b[0m             \u001b[0mcropped\u001b[0m\u001b[1;33m=\u001b[0m  \u001b[0mcroprotated\u001b[0m\u001b[1;33m(\u001b[0m\u001b[0mrotated\u001b[0m\u001b[1;33m,\u001b[0m\u001b[0mframe\u001b[0m\u001b[1;33m,\u001b[0m\u001b[0mAngle\u001b[0m\u001b[1;33m,\u001b[0m\u001b[0mi\u001b[0m\u001b[1;33m-\u001b[0m\u001b[1;36m1\u001b[0m\u001b[1;33m,\u001b[0m\u001b[0mdf\u001b[0m\u001b[1;33m)\u001b[0m\u001b[1;33m\u001b[0m\u001b[1;33m\u001b[0m\u001b[0m\n\u001b[0;32m     41\u001b[0m             \u001b[0msub_imageR\u001b[0m \u001b[1;33m=\u001b[0m \u001b[0mcropped\u001b[0m\u001b[1;33m[\u001b[0m\u001b[1;36m0\u001b[0m\u001b[1;33m:\u001b[0m\u001b[1;36m700\u001b[0m\u001b[1;33m,\u001b[0m \u001b[1;36m315\u001b[0m\u001b[1;33m+\u001b[0m\u001b[0mfaceshift\u001b[0m\u001b[1;33m:\u001b[0m\u001b[1;36m630\u001b[0m\u001b[1;33m+\u001b[0m\u001b[0mfaceshift\u001b[0m\u001b[1;33m]\u001b[0m\u001b[1;33m\u001b[0m\u001b[1;33m\u001b[0m\u001b[0m\n\u001b[1;32m---> 42\u001b[1;33m             \u001b[0mframe2\u001b[0m \u001b[1;33m=\u001b[0m \u001b[0mcv2\u001b[0m\u001b[1;33m.\u001b[0m\u001b[0mflip\u001b[0m\u001b[1;33m(\u001b[0m\u001b[0msub_imageR\u001b[0m\u001b[1;33m,\u001b[0m \u001b[1;36m1\u001b[0m\u001b[1;33m)\u001b[0m\u001b[1;33m\u001b[0m\u001b[1;33m\u001b[0m\u001b[0m\n\u001b[0m\u001b[0;32m     43\u001b[0m             \u001b[0mframe2\u001b[0m \u001b[1;33m=\u001b[0m \u001b[0mmainsub\u001b[0m\u001b[1;33m.\u001b[0m\u001b[0mMask\u001b[0m\u001b[1;33m(\u001b[0m\u001b[0mframe2\u001b[0m\u001b[1;33m,\u001b[0m\u001b[1;36m60\u001b[0m\u001b[1;33m)\u001b[0m\u001b[1;33m\u001b[0m\u001b[1;33m\u001b[0m\u001b[0m\n\u001b[0;32m     44\u001b[0m             \u001b[0mframe2\u001b[0m \u001b[1;33m=\u001b[0m \u001b[0mImage\u001b[0m\u001b[1;33m.\u001b[0m\u001b[0mfromarray\u001b[0m\u001b[1;33m(\u001b[0m\u001b[0mframe2\u001b[0m\u001b[1;33m)\u001b[0m\u001b[1;33m\u001b[0m\u001b[1;33m\u001b[0m\u001b[0m\n",
      "\u001b[1;31mKeyboardInterrupt\u001b[0m: "
     ]
    }
   ],
   "source": [
    "import time\n",
    "import numpy as np\n",
    "import os\n",
    "import LR_movie_maker_Main\n",
    "contrastfactor=1.05\n",
    "text_files = [os.path.join(Mainfolder,f) for f in os.listdir(Mainfolder) if f.endswith('.mp4') and not f.endswith('L.avi') and not f.endswith('R.avi') and not f.endswith('videopoints.avi') and not f.endswith('videopoints.avi')]\n",
    "print(len(text_files))\n",
    "for trial in range(len(text_files)):\n",
    "    t =time.time()\n",
    "    Tag = 'Topview'\n",
    "    df, Angle,Distance,movivename=LR_movie_maker_Main.readDLCfiles(Mainfolder,Tag,trial)\n",
    "    text = os.path.basename(movivename);\n",
    "    #%matplotlib notebook\n",
    "    Good_Frames =LR_movie_maker_Main.findgoodrames(0.7,5,200,df,Distance)\n",
    "    LR_movie_maker_Main.writeFrameData(Mainfolder,text,Good_Frames,df,Angle)\n",
    "    LR_movie_maker_Main.savemovies_LR(movivename,Angle,df,Good_Frames,\".mp4\",contrastfactor) \n",
    "    elapsed = time.time() - t \n",
    "    video_name = (os.path.join(os.path.dirname(movivename),text.split('DLC')[0]+\".avi\"));\n",
    "    print('Trial=',video_name,'Elapsed',elapsed)"
   ]
  },
  {
   "cell_type": "code",
   "execution_count": 15,
   "metadata": {},
   "outputs": [
    {
     "name": "stdout",
     "output_type": "stream",
     "text": [
      "Trial= F:\\videos\\ar38motor\\2022_02_08\\0video.avi Elapsed 48.34443259239197\n"
     ]
    }
   ],
   "source": [
    "import time\n",
    "import numpy as np\n",
    "import os\n",
    "import LR_movie_maker_Main\n",
    "contrastfactor=1.05\n",
    "\n",
    "x = 'F:\\\\videos\\\\ar38motor\\\\2022_02_08\\\\0video.mp4'\n",
    "for thistrial in range(len(text_files)):\n",
    "   if x in text_files[thistrial]:\n",
    "    trial = (thistrial)\n",
    "t =time.time()\n",
    "Tag = 'Topview'\n",
    "df, Angle,Distance,movivename=LR_movie_maker_Main.readDLCfiles(Mainfolder,Tag,trial)\n",
    "text = os.path.basename(movivename);\n",
    "#%matplotlib notebook\n",
    "Good_Frames =LR_movie_maker_Main.findgoodrames(0.8,50,150,df,Distance)\n",
    "LR_movie_maker_Main.writeFrameData(Mainfolder,text,Good_Frames,df,Angle)\n",
    "LR_movie_maker_Main.savemovies_LR(movivename,Angle,df,Good_Frames,\".mp4\",contrastfactor) \n",
    "elapsed = time.time() - t \n",
    "video_name = (os.path.join(os.path.dirname(movivename),text.split('DLC')[0]+\".avi\"));\n",
    "print('Trial=',video_name,'Elapsed',elapsed)"
   ]
  },
  {
   "cell_type": "markdown",
   "metadata": {},
   "source": [
    "# now apply DLC already trained data on whiskers "
   ]
  },
  {
   "cell_type": "code",
   "execution_count": null,
   "metadata": {},
   "outputs": [
    {
     "name": "stdout",
     "output_type": "stream",
     "text": [
      "Using snapshot-632000 for model F:\\videos\\Ar30motor\\2021_08_03_184113\\ar30shiwker-Arash-2021-09-13\\dlc-models\\iteration-0\\ar30shiwkerSep13-trainset95shuffle1\n",
      "Initializing ResNet\n"
     ]
    }
   ],
   "source": [
    "#Mainfolder = 'F:\\\\videos\\\\ar34motor\\\\2022_01_27'\n",
    "import os\n",
    "import image_util\n",
    "path_config_file = 'F:\\\\videos\\\\Ar30motor\\\\2021_08_03_184113\\\\ar30shiwker-Arash-2021-09-13\\\\config.yaml'\n",
    "path_config_file = 'R:\\\\afassihizakeri\\\\DLC\\\\WhiskerMuscimol-xx-2022-10-10\\\\config.yaml'\n",
    "\n",
    "XfilesL = [os.path.join(Mainfolder,f) for f in os.listdir(Mainfolder) if f.startswith('Mask')  ] # find all files with R.avi as file name\n",
    "XfilesR = [os.path.join(Mainfolder,f) for f in os.listdir(Mainfolder) if f.startswith('Mirror')  ] # find all files with R.avi as file name\n",
    "#print(XfilesL)\n",
    "scorernameL=deeplabcut.analyze_videos(path_config_file,XfilesL,shuffle=1, save_as_csv=True)\n",
    "#print(scorernameL)\n",
    "deeplabcut.filterpredictions(path_config_file,XfilesL,shuffle=1)\n",
    "scorernameR=deeplabcut.analyze_videos(path_config_file,XfilesR,shuffle=1, save_as_csv=True)\n",
    "#print(scorernameR)\n",
    "deeplabcut.filterpredictions(path_config_file,XfilesR,shuffle=1)"
   ]
  },
  {
   "cell_type": "markdown",
   "metadata": {},
   "source": [
    "# copy tracked files into the server (with mp4 movies)"
   ]
  },
  {
   "cell_type": "code",
   "execution_count": null,
   "metadata": {},
   "outputs": [],
   "source": [
    "Mainfolder = 'F:\\\\videos\\\\ar32motor\\\\2021_08_02'\n",
    "destination = ''\n",
    "destination='//dk-server.dk.ucsd.edu/afassihizakeri/SC_Movies/ar32motor/2021_08_02/Side'\n",
    "import shutil\n",
    "shutil.copytree( Mainfolder,destination, ignore=shutil.ignore_patterns('*.avi'),copy_function = shutil.copy)\n",
    "#copytree(Mainfolder, destination, ignore=ignore_patterns('*.avi'))\n"
   ]
  },
  {
   "cell_type": "markdown",
   "metadata": {},
   "source": [
    "# save left right for a give trial"
   ]
  },
  {
   "cell_type": "code",
   "execution_count": null,
   "metadata": {},
   "outputs": [],
   "source": [
    "import time\n",
    "import numpy as np\n",
    "import os\n",
    "import LR_movie_maker_Main\n",
    "text_files = [os.path.join(Mainfolder,f) for f in os.listdir(Mainfolder) if f.endswith('video.mp4') and not f.endswith('L.avi') and not f.endswith('R.avi') and not f.endswith('videopoints.avi') and not f.endswith('videopoints.avi')]\n",
    "Trialname='100video.mp4'\n",
    "trial = [trial for trial in range(len(text_files)) if text_files[trial].endswith(Trialname)]\n",
    "trial = int(trial[0])\n",
    "t =time.time()\n",
    "Tag = 'Topview'\n",
    "df, Angle,Distance,movivename=LR_movie_maker_Main.readDLCfiles(Mainfolder,Tag,trial)\n",
    "text = os.path.basename(movivename);\n",
    "#%matplotlib notebook\n",
    "Good_Frames =LR_movie_maker_Main.findgoodrames(0.8,50,150,df,Distance)\n",
    "LR_movie_maker_Main.writeFrameData(Mainfolder,text,Good_Frames,df,Angle)\n",
    "LR_movie_maker_Main.savemovies_LR(movivename,Angle,df,Good_Frames,\".mp4\") \n",
    "#plt.plot(Angle[Good_Frames==1] ,'r--')\n",
    "#plt.title(os.path.basename(movivename))\n",
    "elapsed = time.time() - t \n",
    "video_name = (os.path.join(os.path.dirname(movivename),text.split('DLC')[0]+\".avi\"));\n",
    "print('Trial=',video_name,'Elapsed',elapsed)"
   ]
  }
 ],
 "metadata": {
  "kernelspec": {
   "display_name": "Python 3 (ipykernel)",
   "language": "python",
   "name": "python3"
  },
  "language_info": {
   "codemirror_mode": {
    "name": "ipython",
    "version": 3
   },
   "file_extension": ".py",
   "mimetype": "text/x-python",
   "name": "python",
   "nbconvert_exporter": "python",
   "pygments_lexer": "ipython3",
   "version": "3.8.12"
  }
 },
 "nbformat": 4,
 "nbformat_minor": 2
}
