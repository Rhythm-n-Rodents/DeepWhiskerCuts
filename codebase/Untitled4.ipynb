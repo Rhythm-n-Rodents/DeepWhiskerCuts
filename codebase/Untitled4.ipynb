{
 "cells": [
  {
   "cell_type": "code",
   "execution_count": 35,
   "metadata": {},
   "outputs": [
    {
     "name": "stdout",
     "output_type": "stream",
     "text": [
      "['20-37-48', '20-40-55', '20-43-04', '20-22-09', '20-53-28', '20-59-43', '20-31-48', '20-35-55', '20-57-07', '20-41-14', '20-58-43', '21-00-02', '20-53-46', '20-34-46', '20-32-07', '21-05-20', '20-56-13', '20-30-00', '20-40-38', '20-55-26', '20-28-12', '20-33-48', '21-05-01', '20-32-26', '20-20-09', '20-54-05', '20-52-49', '20-34-27', '20-43-40', '20-31-30', '20-30-54', '20-56-30', '20-19-12', '20-32-53', '20-58-22', '20-40-02', '20-37-12', '20-39-32', '20-24-54', '21-04-41', '20-18-27', '20-58-04', '21-02-48', '20-42-08', '20-36-34', '20-59-25', '21-01-32', '20-36-15', '20-35-33', '20-19-50', '21-03-07', '20-33-30', '20-38-48', '20-30-18', '20-40-20', '21-03-46', '20-37-30', '20-54-43', '20-44-16', '21-00-41', '20-44-37', '20-31-12', '20-18-54', '21-02-09', '20-33-12', '20-28-48', '20-55-01', '20-34-08', '20-38-25', '20-41-50', '20-59-07', '20-56-49', '21-01-09', '20-36-53', '20-57-27', '20-29-42']\n"
     ]
    }
   ],
   "source": [
    "# enter the folder name \n",
    "Mainfolder = 'E:\\\\movies\\\\ar2breathing\\\\10_08_19';\n",
    "       #F:\\ar19muscimol500ug500nlrightside\\10_10_19                                                                                                           \n",
    "Ratid = 50002;\n",
    "this_date = 100819\n",
    "\n",
    "\n",
    "#F:\\ar2breathing\\10_18_19\n",
    "# entries for the xls file\n",
    "Namesforarray =['Trialnumber','Licknumberu','sidethatanimalshouldgo','timeinsecond','sensservomotor','movespots','correct','lickoccured','lihgontrials','allpulsesoflight','lightduration','Frequ','timestamp','RD'];\n",
    "\n",
    "import os # this is to get folder information and creat files \n",
    "import cv2 # this is important and is reading and writing images and video \n",
    "import subprocess \n",
    "import shutil\n",
    "import matplotlib.pyplot as plt\n",
    "import matplotlib.image as mpimg\n",
    "import numpy as np\n",
    "import xlsxwriter  # this is to write xls files \n",
    "from PIL import Image\n",
    "# define a functino to convert video_input into  video_output in mpeg format\n",
    "def convert_video(video_input, video_output):\n",
    "    cmds = ['ffmpeg', '-i', video_input, video_output]\n",
    "    subprocess.Popen(cmds)\n",
    " \n",
    "col = 0\n",
    "included_extensions = ['.png']\n",
    "K_kir = Mainfolder;\n",
    "All_Folders = os.listdir(Mainfolder)\n",
    "#All_Folders = ['22-03-21']\n",
    "\n",
    "All_Folders2=[ name[0:8] for name in os.listdir(Mainfolder) if  name.endswith('video.mp4')]\n",
    "\n",
    "#print((All_Folders2))\n",
    "\n",
    "All_Folders=[ name for name in os.listdir(Mainfolder) if os.path.isdir(os.path.join(Mainfolder, name)) and not  name in All_Folders2 and len(name)==8 ]\n",
    "\n",
    "print((All_Folders))"
   ]
  },
  {
   "cell_type": "code",
   "execution_count": 32,
   "metadata": {},
   "outputs": [
    {
     "name": "stdout",
     "output_type": "stream",
     "text": [
      "['20-37-48', 'LR', '20-40-55', '20-43-04', '20-22-09', '20-53-28', '20-59-43', '20-31-48', '20-35-55', '20-57-07', '20-41-14', '20-58-43', '21-00-02', '20-53-46', '20-34-46', '20-32-07', '21-05-20', '20-56-13', '20-30-00', '20-40-38', '20-55-26', '20-28-12', '20-33-48', '21-05-01', '20-32-26', '20-20-09', '20-54-05', '20-52-49', '20-34-27', '20-43-40', '20-31-30', '20-30-54', '20-56-30', '20-19-12', '20-32-53', '20-58-22', '20-40-02', '20-37-12', '20-39-32', '20-24-54', '21-04-41', '20-18-27', '20-58-04', '21-02-48', '20-42-08', '20-36-34', '20-59-25', '21-01-32', '20-36-15', '20-35-33', '20-19-50', '21-03-07', '20-33-30', '20-38-48', '20-30-18', '20-40-20', '21-03-46', '20-37-30', '20-54-43', '20-44-16', '21-00-41', '20-44-37', '20-31-12', '20-18-54', '21-02-09', '20-33-12', '20-28-48', '20-55-01', '20-34-08', '20-38-25', '20-41-50', '20-59-07', '20-56-49', '21-01-09', '20-36-53', '20-57-27', '20-29-42']\n"
     ]
    }
   ],
   "source": [
    "All_Folders2=[ name[0:8] for name in os.listdir(Mainfolder) if  name.endswith('video.mp4')]\n",
    "\n",
    "#print((All_Folders2))\n",
    "\n",
    "All_Folders=[ name for name in os.listdir(Mainfolder) if os.path.isdir(os.path.join(Mainfolder, name)) and not  name in All_Folders2 and len(name)<9 ]\n",
    "\n",
    "print((All_Folders))\n"
   ]
  },
  {
   "cell_type": "code",
   "execution_count": 12,
   "metadata": {},
   "outputs": [
    {
     "name": "stdout",
     "output_type": "stream",
     "text": [
      "['ffmpeg', '-i', 'E:\\\\movies\\\\ar2breathing\\\\10_08_19\\\\21-04-23.avi', '-filter:v', 'fps=fps=500', 'E:\\\\movies\\\\ar2breathing\\\\10_08_19\\\\test.mp4']\n"
     ]
    },
    {
     "data": {
      "text/plain": [
       "<subprocess.Popen at 0x1d8138f9898>"
      ]
     },
     "execution_count": 12,
     "metadata": {},
     "output_type": "execute_result"
    }
   ],
   "source": [
    "import subprocess\n",
    "video_input = 'E:\\\\movies\\\\ar2breathing\\\\10_08_19\\\\21-04-23.avi'\n",
    "video_output = 'E:\\\\movies\\\\ar2breathing\\\\10_08_19\\\\test.mp4'\n",
    "cmds =['ffmpeg', '-i', video_input,'-filter:v' ,'fps=fps=500', video_output];\n",
    "\n",
    "print(cmds)\n",
    "\n",
    "subprocess.Popen(cmds)\n"
   ]
  }
 ],
 "metadata": {
  "kernelspec": {
   "display_name": "Python 3",
   "language": "python",
   "name": "python3"
  },
  "language_info": {
   "codemirror_mode": {
    "name": "ipython",
    "version": 3
   },
   "file_extension": ".py",
   "mimetype": "text/x-python",
   "name": "python",
   "nbconvert_exporter": "python",
   "pygments_lexer": "ipython3",
   "version": "3.6.8"
  }
 },
 "nbformat": 4,
 "nbformat_minor": 2
}
