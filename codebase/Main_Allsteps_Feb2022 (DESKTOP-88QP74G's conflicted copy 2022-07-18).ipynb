{
 "cells": [
  {
   "cell_type": "markdown",
   "metadata": {},
   "source": [
    "## Define the main folder"
   ]
  },
  {
   "cell_type": "code",
   "execution_count": 3,
   "metadata": {},
   "outputs": [],
   "source": [
    "import main\n",
    "Mainfolder =  Mainfolder =  '\\\\\\\\dk-server.dk.ucsd.edu\\\\afassihizakeri\\\\Topviewmovies\\\\ar34motor\\\\2022_01_18\\\\';\n",
    "\n",
    "Mainfolder =  Mainfolder ='\\\\\\\\dk-server.dk.ucsd.edu\\\\afassihizakeri\\\\Topviewmovies\\\\ar35motor\\\\2021_11_02\\\\'\n",
    "#\\\\dk-server.dk.ucsd.edu\\afassihizakeri\\Topviewmovies\\ar32motor\\2022_01_19\n",
    "\n",
    "\n",
    "# Enter the name of the folder with images folders inside \n",
    "import image_util"
   ]
  },
  {
   "cell_type": "markdown",
   "metadata": {},
   "source": [
    "# make movies and save trialnumber"
   ]
  },
  {
   "cell_type": "code",
   "execution_count": null,
   "metadata": {
    "scrolled": true
   },
   "outputs": [],
   "source": [
    "main.makemovieandLightfile(Mainfolder)\n",
    "main.save_trial_n(Mainfolder)\n"
   ]
  },
  {
   "cell_type": "markdown",
   "metadata": {},
   "source": [
    "# convert individual trials to MP4"
   ]
  },
  {
   "cell_type": "code",
   "execution_count": null,
   "metadata": {},
   "outputs": [],
   "source": [
    "\n",
    "\n",
    "main.convertvideotoMP4(mainfolder,Trial)"
   ]
  },
  {
   "cell_type": "markdown",
   "metadata": {},
   "source": [
    "# DLC on nose snout\n",
    "###### this step is to load deeplabcut and run already trained algorithm on new movies to track the nose and snout  (beads)"
   ]
  },
  {
   "cell_type": "code",
   "execution_count": 1,
   "metadata": {},
   "outputs": [
    {
     "name": "stderr",
     "output_type": "stream",
     "text": [
      "C:\\Users\\DKLAb\\Anaconda3\\envs\\dlc-windowsGPU\\lib\\site-packages\\tensorflow\\python\\framework\\dtypes.py:523: FutureWarning: Passing (type, 1) or '1type' as a synonym of type is deprecated; in a future version of numpy, it will be understood as (type, (1,)) / '(1,)type'.\n",
      "  _np_qint8 = np.dtype([(\"qint8\", np.int8, 1)])\n",
      "C:\\Users\\DKLAb\\Anaconda3\\envs\\dlc-windowsGPU\\lib\\site-packages\\tensorflow\\python\\framework\\dtypes.py:524: FutureWarning: Passing (type, 1) or '1type' as a synonym of type is deprecated; in a future version of numpy, it will be understood as (type, (1,)) / '(1,)type'.\n",
      "  _np_quint8 = np.dtype([(\"quint8\", np.uint8, 1)])\n",
      "C:\\Users\\DKLAb\\Anaconda3\\envs\\dlc-windowsGPU\\lib\\site-packages\\tensorflow\\python\\framework\\dtypes.py:525: FutureWarning: Passing (type, 1) or '1type' as a synonym of type is deprecated; in a future version of numpy, it will be understood as (type, (1,)) / '(1,)type'.\n",
      "  _np_qint16 = np.dtype([(\"qint16\", np.int16, 1)])\n",
      "C:\\Users\\DKLAb\\Anaconda3\\envs\\dlc-windowsGPU\\lib\\site-packages\\tensorflow\\python\\framework\\dtypes.py:526: FutureWarning: Passing (type, 1) or '1type' as a synonym of type is deprecated; in a future version of numpy, it will be understood as (type, (1,)) / '(1,)type'.\n",
      "  _np_quint16 = np.dtype([(\"quint16\", np.uint16, 1)])\n",
      "C:\\Users\\DKLAb\\Anaconda3\\envs\\dlc-windowsGPU\\lib\\site-packages\\tensorflow\\python\\framework\\dtypes.py:527: FutureWarning: Passing (type, 1) or '1type' as a synonym of type is deprecated; in a future version of numpy, it will be understood as (type, (1,)) / '(1,)type'.\n",
      "  _np_qint32 = np.dtype([(\"qint32\", np.int32, 1)])\n",
      "C:\\Users\\DKLAb\\Anaconda3\\envs\\dlc-windowsGPU\\lib\\site-packages\\tensorflow\\python\\framework\\dtypes.py:532: FutureWarning: Passing (type, 1) or '1type' as a synonym of type is deprecated; in a future version of numpy, it will be understood as (type, (1,)) / '(1,)type'.\n",
      "  np_resource = np.dtype([(\"resource\", np.ubyte, 1)])\n",
      "C:\\Users\\DKLAb\\Anaconda3\\envs\\dlc-windowsGPU\\lib\\site-packages\\dask\\dataframe\\utils.py:15: FutureWarning: pandas.util.testing is deprecated. Use the functions in the public API at pandas.testing instead.\n",
      "  import pandas.util.testing as tm\n"
     ]
    }
   ],
   "source": [
    "import deeplabcut\n",
    "## https://github.com/AlexEMG/DeepLabCut"
   ]
  },
  {
   "cell_type": "code",
   "execution_count": null,
   "metadata": {
    "scrolled": true
   },
   "outputs": [],
   "source": [
    "path_config_file = 'F:\\\\DLC\\\\Topview3435-Arash-2021-07-28\\\\config.yaml'\n",
    "path_config_file ='D:\\\\Sidevideos\\\\DLC\\\\Topview3435_FEB22-Arash-2022-02-06\\\\config.yaml';\n",
    "\n",
    "import os\n",
    "text_files = [os.path.join(Mainfolder,f) for f in os.listdir(Mainfolder) if f.endswith('video.mp4') and not f.endswith('L.avi') and not f.endswith('R.avi') and not f.endswith('videopoints.avi') and not f.endswith('videopoints.avi')]\n",
    "#text_files = [os.path.join(Mainfolder,f) for f in os.listdir(Mainfolder) if f.endswith('.avi') and not f.endswith('L.avi') and not f.endswith('R.avi') and not f.endswith('videopoints.avi') and not f.endswith('videopoints.avi')]\n",
    "print(text_files[3])\n",
    "#temp1=deeplabcut.analyze_videos(path_config_file,text_files,shuffle=1, save_as_csv=True )\n",
    "#temp=deeplabcut.filterpredictions(path_config_file,text_files)"
   ]
  },
  {
   "cell_type": "markdown",
   "metadata": {},
   "source": [
    "# make left right movies out of DLC output\n",
    "this step should take the filtered DLC output (Nose and Snout) and create the L and R movies"
   ]
  },
  {
   "cell_type": "code",
   "execution_count": null,
   "metadata": {
    "scrolled": true
   },
   "outputs": [],
   "source": [
    "import time\n",
    "import numpy as np\n",
    "import os\n",
    "import top_view_spliter\n",
    "contrastfactor=1.05\n",
    "text_files = [os.path.join(Mainfolder,f) for f in os.listdir(Mainfolder) if f.endswith('.mp4') and not f.endswith('L.avi') and not f.endswith('R.avi') and not f.endswith('videopoints.avi') and not f.endswith('videopoints.avi')]\n",
    "print(len(text_files))\n",
    "for trial in range(len(text_files)):\n",
    "    t =time.time()\n",
    "    Tag = 'Topview'\n",
    "    df, Angle,Distance,movivename=top_view_spliter.readDLCfiles(Mainfolder,Tag,trial)\n",
    "    text = os.path.basename(movivename);\n",
    "    #%matplotlib notebook\n",
    "    Good_Frames =top_view_spliter.find_good_frames(0.8,50,150,df,Distance)\n",
    "    top_view_spliter.writeFrameData(Mainfolder,text,Good_Frames,df,Angle)\n",
    "    top_view_spliter.savemovies_LR(movivename,Angle,df,Good_Frames,\"\",contrastfactor) \n",
    "    elapsed = time.time() - t \n",
    "    video_name = (os.path.join(os.path.dirname(movivename),text.split('DLC')[0]+\".avi\"));\n",
    "    print('Trial=',video_name,'Elapsed',elapsed)"
   ]
  },
  {
   "cell_type": "code",
   "execution_count": null,
   "metadata": {},
   "outputs": [],
   "source": [
    "trial=1\n",
    "t =time.time()\n",
    "Tag = 'Topview'\n",
    "df, Angle,Distance,movivename=top_view_spliter.readDLCfiles(Mainfolder,Tag,trial)\n",
    "text = os.path.basename(movivename);\n",
    "#%matplotlib notebook\n",
    "Good_Frames =top_view_spliter.find_good_frames(0.8,50,150,df,Distance)\n",
    "top_view_spliter.writeFrameData(Mainfolder,text,Good_Frames,df,Angle)\n",
    "top_view_spliter.savemovies_LR(movivename,Angle,df,Good_Frames,'',contrastfactor) \n",
    "elapsed = time.time() - t \n",
    "video_name = (os.path.join(os.path.dirname(movivename),text.split('DLC')[0]+\".avi\"));\n",
    "print('Trial=',video_name,'Elapsed',elapsed)"
   ]
  },
  {
   "cell_type": "code",
   "execution_count": null,
   "metadata": {},
   "outputs": [],
   "source": [
    "import time\n",
    "import numpy as np\n",
    "import os\n",
    "import top_view_spliter\n",
    "contrastfactor=1.05\n",
    "text_files = [os.path.join(Mainfolder,f) for f in os.listdir(Mainfolder) if f.endswith('.mp4') and not f.endswith('L.avi') and not f.endswith('R.avi') and not f.endswith('videopoints.avi') and not f.endswith('videopoints.avi')]\n",
    "\n",
    "x = '11videoD'\n",
    "for thistrial in range(len(Xfiles)):\n",
    "    thissplit = os.path.split(Xfiles[thistrial])\n",
    "    Name = thissplit[1];\n",
    "    Triln = Name.split(\"LC\");\n",
    "    if x == Triln[0]:\n",
    "      \n",
    "        trial = thistrial;\n",
    "        print(Triln[0])\n",
    "t =time.time()\n",
    "Tag = 'Topview'\n",
    "df, Angle,Distance,movivename=top_view_spliter.readDLCfiles(Mainfolder,Tag,trial)\n",
    "text = os.path.basename(movivename);\n",
    "#%matplotlib notebook\n",
    "Good_Frames =top_view_spliter.find_good_frames(0.8,50,150,df,Distance)\n",
    "top_view_spliter.writeFrameData(Mainfolder,text,Good_Frames,df,Angle)\n",
    "top_view_spliter.savemovies_LR(movivename,Angle,df,Good_Frames,\".mp4\",contrastfactor) \n",
    "elapsed = time.time() - t \n",
    "video_name = (os.path.join(os.path.dirname(movivename),text.split('DLC')[0]+\".avi\"));\n",
    "print('Trial=',video_name,'Elapsed',elapsed)"
   ]
  },
  {
   "cell_type": "markdown",
   "metadata": {},
   "source": [
    "# now apply DLC already trained data on whiskers "
   ]
  },
  {
   "cell_type": "code",
   "execution_count": 4,
   "metadata": {},
   "outputs": [
    {
     "name": "stdout",
     "output_type": "stream",
     "text": [
      "Using snapshot-100000 for model \\\\dk-server.dk.ucsd.edu\\afassihizakeri\\DLC\\ar30shiwker-Arash-2021-09-13\\dlc-models\\iteration-0\\ar30shiwkerSep13-trainset95shuffle2\n",
      "Initializing ResNet\n",
      "Starting to analyze %  \\\\dk-server.dk.ucsd.edu\\afassihizakeri\\Topviewmovies\\ar35motor\\2021_11_02\\Mask165videoL.avi\n",
      "\\\\dk-server.dk.ucsd.edu\\afassihizakeri\\Topviewmovies\\ar35motor\\2021_11_02  already exists!\n",
      "Loading  \\\\dk-server.dk.ucsd.edu\\afassihizakeri\\Topviewmovies\\ar35motor\\2021_11_02\\Mask165videoL.avi\n",
      "Duration of video [s]:  10.72 , recorded with  40.0 fps!\n",
      "Overall # of frames:  429  found with (before cropping) frame dimensions:  314 700\n",
      "Starting to extract posture\n"
     ]
    },
    {
     "name": "stderr",
     "output_type": "stream",
     "text": [
      "430it [00:55,  7.80it/s]                                                                                               \n"
     ]
    },
    {
     "name": "stdout",
     "output_type": "stream",
     "text": [
      "Saving results in \\\\dk-server.dk.ucsd.edu\\afassihizakeri\\Topviewmovies\\ar35motor\\2021_11_02...\n",
      "Saving csv poses!\n",
      "Starting to analyze %  \\\\dk-server.dk.ucsd.edu\\afassihizakeri\\Topviewmovies\\ar35motor\\2021_11_02\\Mask28videoL.avi\n",
      "\\\\dk-server.dk.ucsd.edu\\afassihizakeri\\Topviewmovies\\ar35motor\\2021_11_02  already exists!\n",
      "Loading  \\\\dk-server.dk.ucsd.edu\\afassihizakeri\\Topviewmovies\\ar35motor\\2021_11_02\\Mask28videoL.avi\n",
      "Duration of video [s]:  9.53 , recorded with  40.0 fps!\n",
      "Overall # of frames:  381  found with (before cropping) frame dimensions:  314 700\n",
      "Starting to extract posture\n"
     ]
    },
    {
     "name": "stderr",
     "output_type": "stream",
     "text": [
      "390it [00:44,  8.84it/s]                                                                                               \n"
     ]
    },
    {
     "name": "stdout",
     "output_type": "stream",
     "text": [
      "Saving results in \\\\dk-server.dk.ucsd.edu\\afassihizakeri\\Topviewmovies\\ar35motor\\2021_11_02...\n",
      "Saving csv poses!\n",
      "Starting to analyze %  \\\\dk-server.dk.ucsd.edu\\afassihizakeri\\Topviewmovies\\ar35motor\\2021_11_02\\Mask76videoL.avi\n",
      "\\\\dk-server.dk.ucsd.edu\\afassihizakeri\\Topviewmovies\\ar35motor\\2021_11_02  already exists!\n",
      "Loading  \\\\dk-server.dk.ucsd.edu\\afassihizakeri\\Topviewmovies\\ar35motor\\2021_11_02\\Mask76videoL.avi\n",
      "Duration of video [s]:  6.97 , recorded with  40.0 fps!\n",
      "Overall # of frames:  279  found with (before cropping) frame dimensions:  314 700\n",
      "Starting to extract posture\n"
     ]
    },
    {
     "name": "stderr",
     "output_type": "stream",
     "text": [
      "280it [00:32,  8.73it/s]                                                                                               \n"
     ]
    },
    {
     "name": "stdout",
     "output_type": "stream",
     "text": [
      "Saving results in \\\\dk-server.dk.ucsd.edu\\afassihizakeri\\Topviewmovies\\ar35motor\\2021_11_02...\n",
      "Saving csv poses!\n",
      "Starting to analyze %  \\\\dk-server.dk.ucsd.edu\\afassihizakeri\\Topviewmovies\\ar35motor\\2021_11_02\\Mask200videoL.avi\n",
      "\\\\dk-server.dk.ucsd.edu\\afassihizakeri\\Topviewmovies\\ar35motor\\2021_11_02  already exists!\n",
      "Loading  \\\\dk-server.dk.ucsd.edu\\afassihizakeri\\Topviewmovies\\ar35motor\\2021_11_02\\Mask200videoL.avi\n",
      "Duration of video [s]:  12.47 , recorded with  40.0 fps!\n",
      "Overall # of frames:  499  found with (before cropping) frame dimensions:  314 700\n",
      "Starting to extract posture\n"
     ]
    },
    {
     "name": "stderr",
     "output_type": "stream",
     "text": [
      "500it [01:01,  8.20it/s]                                                                                               \n"
     ]
    },
    {
     "name": "stdout",
     "output_type": "stream",
     "text": [
      "Saving results in \\\\dk-server.dk.ucsd.edu\\afassihizakeri\\Topviewmovies\\ar35motor\\2021_11_02...\n",
      "Saving csv poses!\n",
      "Starting to analyze %  \\\\dk-server.dk.ucsd.edu\\afassihizakeri\\Topviewmovies\\ar35motor\\2021_11_02\\Mask188videoL.avi\n",
      "\\\\dk-server.dk.ucsd.edu\\afassihizakeri\\Topviewmovies\\ar35motor\\2021_11_02  already exists!\n",
      "Loading  \\\\dk-server.dk.ucsd.edu\\afassihizakeri\\Topviewmovies\\ar35motor\\2021_11_02\\Mask188videoL.avi\n",
      "Duration of video [s]:  11.6 , recorded with  40.0 fps!\n",
      "Overall # of frames:  464  found with (before cropping) frame dimensions:  314 700\n",
      "Starting to extract posture\n"
     ]
    },
    {
     "name": "stderr",
     "output_type": "stream",
     "text": [
      "470it [00:53,  8.80it/s]                                                                                               \n"
     ]
    },
    {
     "name": "stdout",
     "output_type": "stream",
     "text": [
      "Saving results in \\\\dk-server.dk.ucsd.edu\\afassihizakeri\\Topviewmovies\\ar35motor\\2021_11_02...\n",
      "Saving csv poses!\n",
      "Starting to analyze %  \\\\dk-server.dk.ucsd.edu\\afassihizakeri\\Topviewmovies\\ar35motor\\2021_11_02\\Mask113videoL.avi\n",
      "\\\\dk-server.dk.ucsd.edu\\afassihizakeri\\Topviewmovies\\ar35motor\\2021_11_02  already exists!\n",
      "Loading  \\\\dk-server.dk.ucsd.edu\\afassihizakeri\\Topviewmovies\\ar35motor\\2021_11_02\\Mask113videoL.avi\n",
      "Duration of video [s]:  2.6 , recorded with  40.0 fps!\n",
      "Overall # of frames:  104  found with (before cropping) frame dimensions:  314 700\n",
      "Starting to extract posture\n"
     ]
    },
    {
     "name": "stderr",
     "output_type": "stream",
     "text": [
      "110it [00:11,  9.18it/s]                                                                                               \n"
     ]
    },
    {
     "name": "stdout",
     "output_type": "stream",
     "text": [
      "Saving results in \\\\dk-server.dk.ucsd.edu\\afassihizakeri\\Topviewmovies\\ar35motor\\2021_11_02...\n",
      "Saving csv poses!\n",
      "Starting to analyze %  \\\\dk-server.dk.ucsd.edu\\afassihizakeri\\Topviewmovies\\ar35motor\\2021_11_02\\Mask164videoL.avi\n",
      "\\\\dk-server.dk.ucsd.edu\\afassihizakeri\\Topviewmovies\\ar35motor\\2021_11_02  already exists!\n",
      "Loading  \\\\dk-server.dk.ucsd.edu\\afassihizakeri\\Topviewmovies\\ar35motor\\2021_11_02\\Mask164videoL.avi\n",
      "Duration of video [s]:  10.62 , recorded with  40.0 fps!\n",
      "Overall # of frames:  425  found with (before cropping) frame dimensions:  314 700\n",
      "Starting to extract posture\n"
     ]
    },
    {
     "name": "stderr",
     "output_type": "stream",
     "text": [
      "430it [00:49,  8.67it/s]                                                                                               \n"
     ]
    },
    {
     "name": "stdout",
     "output_type": "stream",
     "text": [
      "Saving results in \\\\dk-server.dk.ucsd.edu\\afassihizakeri\\Topviewmovies\\ar35motor\\2021_11_02...\n",
      "Saving csv poses!\n",
      "Starting to analyze %  \\\\dk-server.dk.ucsd.edu\\afassihizakeri\\Topviewmovies\\ar35motor\\2021_11_02\\Mask77videoL.avi\n",
      "\\\\dk-server.dk.ucsd.edu\\afassihizakeri\\Topviewmovies\\ar35motor\\2021_11_02  already exists!\n",
      "Loading  \\\\dk-server.dk.ucsd.edu\\afassihizakeri\\Topviewmovies\\ar35motor\\2021_11_02\\Mask77videoL.avi\n",
      "Duration of video [s]:  9.55 , recorded with  40.0 fps!\n",
      "Overall # of frames:  382  found with (before cropping) frame dimensions:  314 700\n",
      "Starting to extract posture\n"
     ]
    },
    {
     "name": "stderr",
     "output_type": "stream",
     "text": [
      "390it [00:44,  8.83it/s]                                                                                               \n"
     ]
    },
    {
     "name": "stdout",
     "output_type": "stream",
     "text": [
      "Saving results in \\\\dk-server.dk.ucsd.edu\\afassihizakeri\\Topviewmovies\\ar35motor\\2021_11_02...\n",
      "Saving csv poses!\n",
      "Starting to analyze %  \\\\dk-server.dk.ucsd.edu\\afassihizakeri\\Topviewmovies\\ar35motor\\2021_11_02\\Mask29videoL.avi\n",
      "\\\\dk-server.dk.ucsd.edu\\afassihizakeri\\Topviewmovies\\ar35motor\\2021_11_02  already exists!\n",
      "Loading  \\\\dk-server.dk.ucsd.edu\\afassihizakeri\\Topviewmovies\\ar35motor\\2021_11_02\\Mask29videoL.avi\n",
      "Duration of video [s]:  8.47 , recorded with  40.0 fps!\n",
      "Overall # of frames:  339  found with (before cropping) frame dimensions:  314 700\n",
      "Starting to extract posture\n"
     ]
    },
    {
     "name": "stderr",
     "output_type": "stream",
     "text": [
      "340it [00:39,  8.63it/s]                                                                                               \n"
     ]
    },
    {
     "name": "stdout",
     "output_type": "stream",
     "text": [
      "Saving results in \\\\dk-server.dk.ucsd.edu\\afassihizakeri\\Topviewmovies\\ar35motor\\2021_11_02...\n",
      "Saving csv poses!\n",
      "Starting to analyze %  \\\\dk-server.dk.ucsd.edu\\afassihizakeri\\Topviewmovies\\ar35motor\\2021_11_02\\Mask189videoL.avi\n",
      "\\\\dk-server.dk.ucsd.edu\\afassihizakeri\\Topviewmovies\\ar35motor\\2021_11_02  already exists!\n",
      "Loading  \\\\dk-server.dk.ucsd.edu\\afassihizakeri\\Topviewmovies\\ar35motor\\2021_11_02\\Mask189videoL.avi\n",
      "Duration of video [s]:  12.5 , recorded with  40.0 fps!\n",
      "Overall # of frames:  500  found with (before cropping) frame dimensions:  314 700\n",
      "Starting to extract posture\n"
     ]
    },
    {
     "name": "stderr",
     "output_type": "stream",
     "text": [
      "510it [00:58,  8.78it/s]                                                                                               \n"
     ]
    },
    {
     "name": "stdout",
     "output_type": "stream",
     "text": [
      "Saving results in \\\\dk-server.dk.ucsd.edu\\afassihizakeri\\Topviewmovies\\ar35motor\\2021_11_02...\n",
      "Saving csv poses!\n",
      "Starting to analyze %  \\\\dk-server.dk.ucsd.edu\\afassihizakeri\\Topviewmovies\\ar35motor\\2021_11_02\\Mask201videoL.avi\n",
      "\\\\dk-server.dk.ucsd.edu\\afassihizakeri\\Topviewmovies\\ar35motor\\2021_11_02  already exists!\n",
      "Loading  \\\\dk-server.dk.ucsd.edu\\afassihizakeri\\Topviewmovies\\ar35motor\\2021_11_02\\Mask201videoL.avi\n",
      "Duration of video [s]:  10.18 , recorded with  40.0 fps!\n",
      "Overall # of frames:  407  found with (before cropping) frame dimensions:  314 700\n",
      "Starting to extract posture\n"
     ]
    },
    {
     "name": "stderr",
     "output_type": "stream",
     "text": [
      "410it [00:46,  8.74it/s]                                                                                               \n"
     ]
    },
    {
     "name": "stdout",
     "output_type": "stream",
     "text": [
      "Saving results in \\\\dk-server.dk.ucsd.edu\\afassihizakeri\\Topviewmovies\\ar35motor\\2021_11_02...\n",
      "Saving csv poses!\n",
      "Starting to analyze %  \\\\dk-server.dk.ucsd.edu\\afassihizakeri\\Topviewmovies\\ar35motor\\2021_11_02\\Mask112videoL.avi\n",
      "\\\\dk-server.dk.ucsd.edu\\afassihizakeri\\Topviewmovies\\ar35motor\\2021_11_02  already exists!\n",
      "Loading  \\\\dk-server.dk.ucsd.edu\\afassihizakeri\\Topviewmovies\\ar35motor\\2021_11_02\\Mask112videoL.avi\n",
      "Duration of video [s]:  12.5 , recorded with  40.0 fps!\n",
      "Overall # of frames:  500  found with (before cropping) frame dimensions:  314 700\n",
      "Starting to extract posture\n"
     ]
    },
    {
     "name": "stderr",
     "output_type": "stream",
     "text": [
      "510it [00:58,  8.78it/s]                                                                                               \n"
     ]
    },
    {
     "name": "stdout",
     "output_type": "stream",
     "text": [
      "Saving results in \\\\dk-server.dk.ucsd.edu\\afassihizakeri\\Topviewmovies\\ar35motor\\2021_11_02...\n",
      "Saving csv poses!\n",
      "Starting to analyze %  \\\\dk-server.dk.ucsd.edu\\afassihizakeri\\Topviewmovies\\ar35motor\\2021_11_02\\Mask74videoL.avi\n",
      "\\\\dk-server.dk.ucsd.edu\\afassihizakeri\\Topviewmovies\\ar35motor\\2021_11_02  already exists!\n",
      "Loading  \\\\dk-server.dk.ucsd.edu\\afassihizakeri\\Topviewmovies\\ar35motor\\2021_11_02\\Mask74videoL.avi\n",
      "Duration of video [s]:  12.5 , recorded with  40.0 fps!\n",
      "Overall # of frames:  500  found with (before cropping) frame dimensions:  314 700\n",
      "Starting to extract posture\n"
     ]
    },
    {
     "name": "stderr",
     "output_type": "stream",
     "text": [
      "510it [00:57,  8.89it/s]                                                                                               \n"
     ]
    },
    {
     "name": "stdout",
     "output_type": "stream",
     "text": [
      "Saving results in \\\\dk-server.dk.ucsd.edu\\afassihizakeri\\Topviewmovies\\ar35motor\\2021_11_02...\n",
      "Saving csv poses!\n",
      "Starting to analyze %  \\\\dk-server.dk.ucsd.edu\\afassihizakeri\\Topviewmovies\\ar35motor\\2021_11_02\\Mask139videoL.avi\n",
      "\\\\dk-server.dk.ucsd.edu\\afassihizakeri\\Topviewmovies\\ar35motor\\2021_11_02  already exists!\n",
      "Loading  \\\\dk-server.dk.ucsd.edu\\afassihizakeri\\Topviewmovies\\ar35motor\\2021_11_02\\Mask139videoL.avi\n",
      "Duration of video [s]:  11.45 , recorded with  40.0 fps!\n",
      "Overall # of frames:  458  found with (before cropping) frame dimensions:  314 700\n",
      "Starting to extract posture\n"
     ]
    },
    {
     "name": "stderr",
     "output_type": "stream",
     "text": [
      "460it [00:53,  8.57it/s]                                                                                               \n"
     ]
    },
    {
     "name": "stdout",
     "output_type": "stream",
     "text": [
      "Saving results in \\\\dk-server.dk.ucsd.edu\\afassihizakeri\\Topviewmovies\\ar35motor\\2021_11_02...\n",
      "Saving csv poses!\n",
      "Starting to analyze %  \\\\dk-server.dk.ucsd.edu\\afassihizakeri\\Topviewmovies\\ar35motor\\2021_11_02\\Mask167videoL.avi\n",
      "\\\\dk-server.dk.ucsd.edu\\afassihizakeri\\Topviewmovies\\ar35motor\\2021_11_02  already exists!\n",
      "Loading  \\\\dk-server.dk.ucsd.edu\\afassihizakeri\\Topviewmovies\\ar35motor\\2021_11_02\\Mask167videoL.avi\n",
      "Duration of video [s]:  12.5 , recorded with  40.0 fps!\n",
      "Overall # of frames:  500  found with (before cropping) frame dimensions:  314 700\n",
      "Starting to extract posture\n"
     ]
    },
    {
     "name": "stderr",
     "output_type": "stream",
     "text": [
      "510it [00:58,  8.75it/s]                                                                                               \n"
     ]
    },
    {
     "name": "stdout",
     "output_type": "stream",
     "text": [
      "Saving results in \\\\dk-server.dk.ucsd.edu\\afassihizakeri\\Topviewmovies\\ar35motor\\2021_11_02...\n",
      "Saving csv poses!\n",
      "Starting to analyze %  \\\\dk-server.dk.ucsd.edu\\afassihizakeri\\Topviewmovies\\ar35motor\\2021_11_02\\Mask100L.avi\n",
      "\\\\dk-server.dk.ucsd.edu\\afassihizakeri\\Topviewmovies\\ar35motor\\2021_11_02  already exists!\n",
      "Loading  \\\\dk-server.dk.ucsd.edu\\afassihizakeri\\Topviewmovies\\ar35motor\\2021_11_02\\Mask100L.avi\n",
      "Duration of video [s]:  0.0 , recorded with  40.0 fps!\n",
      "Overall # of frames:  0  found with (before cropping) frame dimensions:  314 700\n",
      "Starting to extract posture\n"
     ]
    },
    {
     "name": "stderr",
     "output_type": "stream",
     "text": [
      "10it [00:00, 1261.79it/s]"
     ]
    },
    {
     "name": "stdout",
     "output_type": "stream",
     "text": [
      "Saving results in \\\\dk-server.dk.ucsd.edu\\afassihizakeri\\Topviewmovies\\ar35motor\\2021_11_02...\n",
      "Saving csv poses!\n",
      "Starting to analyze %  \\\\dk-server.dk.ucsd.edu\\afassihizakeri\\Topviewmovies\\ar35motor\\2021_11_02\\Mask99videoL.avi\n",
      "\\\\dk-server.dk.ucsd.edu\\afassihizakeri\\Topviewmovies\\ar35motor\\2021_11_02  already exists!\n"
     ]
    },
    {
     "name": "stderr",
     "output_type": "stream",
     "text": [
      "\n"
     ]
    },
    {
     "name": "stdout",
     "output_type": "stream",
     "text": [
      "Loading  \\\\dk-server.dk.ucsd.edu\\afassihizakeri\\Topviewmovies\\ar35motor\\2021_11_02\\Mask99videoL.avi\n",
      "Duration of video [s]:  10.1 , recorded with  40.0 fps!\n",
      "Overall # of frames:  404  found with (before cropping) frame dimensions:  314 700\n",
      "Starting to extract posture\n"
     ]
    },
    {
     "name": "stderr",
     "output_type": "stream",
     "text": [
      "410it [00:46,  8.78it/s]                                                                                               \n"
     ]
    },
    {
     "name": "stdout",
     "output_type": "stream",
     "text": [
      "Saving results in \\\\dk-server.dk.ucsd.edu\\afassihizakeri\\Topviewmovies\\ar35motor\\2021_11_02...\n",
      "Saving csv poses!\n",
      "Starting to analyze %  \\\\dk-server.dk.ucsd.edu\\afassihizakeri\\Topviewmovies\\ar35motor\\2021_11_02\\Mask111videoL.avi\n",
      "\\\\dk-server.dk.ucsd.edu\\afassihizakeri\\Topviewmovies\\ar35motor\\2021_11_02  already exists!\n",
      "Loading  \\\\dk-server.dk.ucsd.edu\\afassihizakeri\\Topviewmovies\\ar35motor\\2021_11_02\\Mask111videoL.avi\n",
      "Duration of video [s]:  12.47 , recorded with  40.0 fps!\n",
      "Overall # of frames:  499  found with (before cropping) frame dimensions:  314 700\n",
      "Starting to extract posture\n"
     ]
    },
    {
     "name": "stderr",
     "output_type": "stream",
     "text": [
      "500it [00:57,  8.70it/s]                                                                                               \n"
     ]
    },
    {
     "name": "stdout",
     "output_type": "stream",
     "text": [
      "Saving results in \\\\dk-server.dk.ucsd.edu\\afassihizakeri\\Topviewmovies\\ar35motor\\2021_11_02...\n",
      "Saving csv poses!\n",
      "Starting to analyze %  \\\\dk-server.dk.ucsd.edu\\afassihizakeri\\Topviewmovies\\ar35motor\\2021_11_02\\Mask202videoL.avi\n",
      "\\\\dk-server.dk.ucsd.edu\\afassihizakeri\\Topviewmovies\\ar35motor\\2021_11_02  already exists!\n",
      "Loading  \\\\dk-server.dk.ucsd.edu\\afassihizakeri\\Topviewmovies\\ar35motor\\2021_11_02\\Mask202videoL.avi\n",
      "Duration of video [s]:  12.5 , recorded with  40.0 fps!\n",
      "Overall # of frames:  500  found with (before cropping) frame dimensions:  314 700\n",
      "Starting to extract posture\n"
     ]
    },
    {
     "name": "stderr",
     "output_type": "stream",
     "text": [
      "510it [00:57,  8.81it/s]                                                                                               \n"
     ]
    },
    {
     "name": "stdout",
     "output_type": "stream",
     "text": [
      "Saving results in \\\\dk-server.dk.ucsd.edu\\afassihizakeri\\Topviewmovies\\ar35motor\\2021_11_02...\n",
      "Saving csv poses!\n",
      "Starting to analyze %  \\\\dk-server.dk.ucsd.edu\\afassihizakeri\\Topviewmovies\\ar35motor\\2021_11_02\\Mask75videoL.avi\n",
      "\\\\dk-server.dk.ucsd.edu\\afassihizakeri\\Topviewmovies\\ar35motor\\2021_11_02  already exists!\n",
      "Loading  \\\\dk-server.dk.ucsd.edu\\afassihizakeri\\Topviewmovies\\ar35motor\\2021_11_02\\Mask75videoL.avi\n",
      "Duration of video [s]:  12.3 , recorded with  40.0 fps!\n",
      "Overall # of frames:  492  found with (before cropping) frame dimensions:  314 700\n",
      "Starting to extract posture\n"
     ]
    },
    {
     "name": "stderr",
     "output_type": "stream",
     "text": [
      "500it [00:56,  8.81it/s]                                                                                               \n"
     ]
    },
    {
     "name": "stdout",
     "output_type": "stream",
     "text": [
      "Saving results in \\\\dk-server.dk.ucsd.edu\\afassihizakeri\\Topviewmovies\\ar35motor\\2021_11_02...\n",
      "Saving csv poses!\n",
      "Starting to analyze %  \\\\dk-server.dk.ucsd.edu\\afassihizakeri\\Topviewmovies\\ar35motor\\2021_11_02\\Mask166videoL.avi\n",
      "\\\\dk-server.dk.ucsd.edu\\afassihizakeri\\Topviewmovies\\ar35motor\\2021_11_02  already exists!\n",
      "Loading  \\\\dk-server.dk.ucsd.edu\\afassihizakeri\\Topviewmovies\\ar35motor\\2021_11_02\\Mask166videoL.avi\n",
      "Duration of video [s]:  12.25 , recorded with  40.0 fps!\n",
      "Overall # of frames:  490  found with (before cropping) frame dimensions:  314 700\n",
      "Starting to extract posture\n"
     ]
    },
    {
     "name": "stderr",
     "output_type": "stream",
     "text": [
      "500it [00:56,  8.77it/s]                                                                                               \n"
     ]
    },
    {
     "name": "stdout",
     "output_type": "stream",
     "text": [
      "Saving results in \\\\dk-server.dk.ucsd.edu\\afassihizakeri\\Topviewmovies\\ar35motor\\2021_11_02...\n",
      "Saving csv poses!\n",
      "Starting to analyze %  \\\\dk-server.dk.ucsd.edu\\afassihizakeri\\Topviewmovies\\ar35motor\\2021_11_02\\Mask138videoL.avi\n",
      "\\\\dk-server.dk.ucsd.edu\\afassihizakeri\\Topviewmovies\\ar35motor\\2021_11_02  already exists!\n",
      "Loading  \\\\dk-server.dk.ucsd.edu\\afassihizakeri\\Topviewmovies\\ar35motor\\2021_11_02\\Mask138videoL.avi\n",
      "Duration of video [s]:  12.12 , recorded with  40.0 fps!\n",
      "Overall # of frames:  485  found with (before cropping) frame dimensions:  314 700\n",
      "Starting to extract posture\n"
     ]
    },
    {
     "name": "stderr",
     "output_type": "stream",
     "text": [
      "490it [00:56,  8.74it/s]                                                                                               \n"
     ]
    },
    {
     "name": "stdout",
     "output_type": "stream",
     "text": [
      "Saving results in \\\\dk-server.dk.ucsd.edu\\afassihizakeri\\Topviewmovies\\ar35motor\\2021_11_02...\n",
      "Saving csv poses!\n",
      "Starting to analyze %  \\\\dk-server.dk.ucsd.edu\\afassihizakeri\\Topviewmovies\\ar35motor\\2021_11_02\\Mask110videoL.avi\n",
      "\\\\dk-server.dk.ucsd.edu\\afassihizakeri\\Topviewmovies\\ar35motor\\2021_11_02  already exists!\n",
      "Loading  \\\\dk-server.dk.ucsd.edu\\afassihizakeri\\Topviewmovies\\ar35motor\\2021_11_02\\Mask110videoL.avi\n",
      "Duration of video [s]:  11.0 , recorded with  40.0 fps!\n",
      "Overall # of frames:  440  found with (before cropping) frame dimensions:  314 700\n",
      "Starting to extract posture\n"
     ]
    },
    {
     "name": "stderr",
     "output_type": "stream",
     "text": [
      "450it [00:50,  8.91it/s]                                                                                               \n"
     ]
    },
    {
     "name": "stdout",
     "output_type": "stream",
     "text": [
      "Saving results in \\\\dk-server.dk.ucsd.edu\\afassihizakeri\\Topviewmovies\\ar35motor\\2021_11_02...\n",
      "Saving csv poses!\n",
      "Starting to analyze %  \\\\dk-server.dk.ucsd.edu\\afassihizakeri\\Topviewmovies\\ar35motor\\2021_11_02\\Mask98videoL.avi\n",
      "\\\\dk-server.dk.ucsd.edu\\afassihizakeri\\Topviewmovies\\ar35motor\\2021_11_02  already exists!\n",
      "Loading  \\\\dk-server.dk.ucsd.edu\\afassihizakeri\\Topviewmovies\\ar35motor\\2021_11_02\\Mask98videoL.avi\n",
      "Duration of video [s]:  11.38 , recorded with  40.0 fps!\n",
      "Overall # of frames:  455  found with (before cropping) frame dimensions:  314 700\n",
      "Starting to extract posture\n"
     ]
    },
    {
     "name": "stderr",
     "output_type": "stream",
     "text": [
      "460it [00:52,  8.84it/s]                                                                                               \n"
     ]
    },
    {
     "name": "stdout",
     "output_type": "stream",
     "text": [
      "Saving results in \\\\dk-server.dk.ucsd.edu\\afassihizakeri\\Topviewmovies\\ar35motor\\2021_11_02...\n",
      "Saving csv poses!\n",
      "Starting to analyze %  \\\\dk-server.dk.ucsd.edu\\afassihizakeri\\Topviewmovies\\ar35motor\\2021_11_02\\Mask203videoL.avi\n",
      "\\\\dk-server.dk.ucsd.edu\\afassihizakeri\\Topviewmovies\\ar35motor\\2021_11_02  already exists!\n",
      "Loading  \\\\dk-server.dk.ucsd.edu\\afassihizakeri\\Topviewmovies\\ar35motor\\2021_11_02\\Mask203videoL.avi\n",
      "Duration of video [s]:  12.5 , recorded with  40.0 fps!\n",
      "Overall # of frames:  500  found with (before cropping) frame dimensions:  314 700\n",
      "Starting to extract posture\n"
     ]
    },
    {
     "name": "stderr",
     "output_type": "stream",
     "text": [
      "510it [00:57,  8.83it/s]                                                                                               \n"
     ]
    },
    {
     "name": "stdout",
     "output_type": "stream",
     "text": [
      "Saving results in \\\\dk-server.dk.ucsd.edu\\afassihizakeri\\Topviewmovies\\ar35motor\\2021_11_02...\n",
      "Saving csv poses!\n",
      "Starting to analyze %  \\\\dk-server.dk.ucsd.edu\\afassihizakeri\\Topviewmovies\\ar35motor\\2021_11_02\\Mask117videoL.avi\n",
      "\\\\dk-server.dk.ucsd.edu\\afassihizakeri\\Topviewmovies\\ar35motor\\2021_11_02  already exists!\n",
      "Loading  \\\\dk-server.dk.ucsd.edu\\afassihizakeri\\Topviewmovies\\ar35motor\\2021_11_02\\Mask117videoL.avi\n",
      "Duration of video [s]:  12.5 , recorded with  40.0 fps!\n",
      "Overall # of frames:  500  found with (before cropping) frame dimensions:  314 700\n",
      "Starting to extract posture\n"
     ]
    },
    {
     "name": "stderr",
     "output_type": "stream",
     "text": [
      "510it [00:57,  8.85it/s]                                                                                               \n"
     ]
    },
    {
     "name": "stdout",
     "output_type": "stream",
     "text": [
      "Saving results in \\\\dk-server.dk.ucsd.edu\\afassihizakeri\\Topviewmovies\\ar35motor\\2021_11_02...\n",
      "Saving csv poses!\n",
      "Starting to analyze %  \\\\dk-server.dk.ucsd.edu\\afassihizakeri\\Topviewmovies\\ar35motor\\2021_11_02\\Mask149videoL.avi\n",
      "\\\\dk-server.dk.ucsd.edu\\afassihizakeri\\Topviewmovies\\ar35motor\\2021_11_02  already exists!\n",
      "Loading  \\\\dk-server.dk.ucsd.edu\\afassihizakeri\\Topviewmovies\\ar35motor\\2021_11_02\\Mask149videoL.avi\n",
      "Duration of video [s]:  10.75 , recorded with  40.0 fps!\n",
      "Overall # of frames:  430  found with (before cropping) frame dimensions:  314 700\n",
      "Starting to extract posture\n"
     ]
    },
    {
     "name": "stderr",
     "output_type": "stream",
     "text": [
      "440it [00:49,  8.82it/s]                                                                                               \n"
     ]
    },
    {
     "name": "stdout",
     "output_type": "stream",
     "text": [
      "Saving results in \\\\dk-server.dk.ucsd.edu\\afassihizakeri\\Topviewmovies\\ar35motor\\2021_11_02...\n",
      "Saving csv poses!\n",
      "Starting to analyze %  \\\\dk-server.dk.ucsd.edu\\afassihizakeri\\Topviewmovies\\ar35motor\\2021_11_02\\Mask204videoL.avi\n",
      "\\\\dk-server.dk.ucsd.edu\\afassihizakeri\\Topviewmovies\\ar35motor\\2021_11_02  already exists!\n",
      "Loading  \\\\dk-server.dk.ucsd.edu\\afassihizakeri\\Topviewmovies\\ar35motor\\2021_11_02\\Mask204videoL.avi\n",
      "Duration of video [s]:  10.62 , recorded with  40.0 fps!\n",
      "Overall # of frames:  425  found with (before cropping) frame dimensions:  314 700\n",
      "Starting to extract posture\n"
     ]
    },
    {
     "name": "stderr",
     "output_type": "stream",
     "text": [
      "430it [00:49,  8.72it/s]                                                                                               \n"
     ]
    },
    {
     "name": "stdout",
     "output_type": "stream",
     "text": [
      "Saving results in \\\\dk-server.dk.ucsd.edu\\afassihizakeri\\Topviewmovies\\ar35motor\\2021_11_02...\n",
      "Saving csv poses!\n",
      "Starting to analyze %  \\\\dk-server.dk.ucsd.edu\\afassihizakeri\\Topviewmovies\\ar35motor\\2021_11_02\\Mask72videoL.avi\n",
      "\\\\dk-server.dk.ucsd.edu\\afassihizakeri\\Topviewmovies\\ar35motor\\2021_11_02  already exists!\n",
      "Loading  \\\\dk-server.dk.ucsd.edu\\afassihizakeri\\Topviewmovies\\ar35motor\\2021_11_02\\Mask72videoL.avi\n",
      "Duration of video [s]:  12.5 , recorded with  40.0 fps!\n",
      "Overall # of frames:  500  found with (before cropping) frame dimensions:  314 700\n",
      "Starting to extract posture\n"
     ]
    },
    {
     "name": "stderr",
     "output_type": "stream",
     "text": [
      "510it [00:57,  8.82it/s]                                                                                               \n"
     ]
    },
    {
     "name": "stdout",
     "output_type": "stream",
     "text": [
      "Saving results in \\\\dk-server.dk.ucsd.edu\\afassihizakeri\\Topviewmovies\\ar35motor\\2021_11_02...\n",
      "Saving csv poses!\n",
      "Starting to analyze %  \\\\dk-server.dk.ucsd.edu\\afassihizakeri\\Topviewmovies\\ar35motor\\2021_11_02\\Mask161videoL.avi\n",
      "\\\\dk-server.dk.ucsd.edu\\afassihizakeri\\Topviewmovies\\ar35motor\\2021_11_02  already exists!\n",
      "Loading  \\\\dk-server.dk.ucsd.edu\\afassihizakeri\\Topviewmovies\\ar35motor\\2021_11_02\\Mask161videoL.avi\n",
      "Duration of video [s]:  10.32 , recorded with  40.0 fps!\n",
      "Overall # of frames:  413  found with (before cropping) frame dimensions:  314 700\n",
      "Starting to extract posture\n"
     ]
    },
    {
     "name": "stderr",
     "output_type": "stream",
     "text": [
      "420it [00:47,  8.80it/s]                                                                                               \n"
     ]
    },
    {
     "name": "stdout",
     "output_type": "stream",
     "text": [
      "Saving results in \\\\dk-server.dk.ucsd.edu\\afassihizakeri\\Topviewmovies\\ar35motor\\2021_11_02...\n",
      "Saving csv poses!\n",
      "Starting to analyze %  \\\\dk-server.dk.ucsd.edu\\afassihizakeri\\Topviewmovies\\ar35motor\\2021_11_02\\Mask148videoL.avi\n",
      "\\\\dk-server.dk.ucsd.edu\\afassihizakeri\\Topviewmovies\\ar35motor\\2021_11_02  already exists!\n",
      "Loading  \\\\dk-server.dk.ucsd.edu\\afassihizakeri\\Topviewmovies\\ar35motor\\2021_11_02\\Mask148videoL.avi\n",
      "Duration of video [s]:  11.53 , recorded with  40.0 fps!\n",
      "Overall # of frames:  461  found with (before cropping) frame dimensions:  314 700\n",
      "Starting to extract posture\n"
     ]
    },
    {
     "name": "stderr",
     "output_type": "stream",
     "text": [
      "470it [00:53,  8.80it/s]                                                                                               \n"
     ]
    },
    {
     "name": "stdout",
     "output_type": "stream",
     "text": [
      "Saving results in \\\\dk-server.dk.ucsd.edu\\afassihizakeri\\Topviewmovies\\ar35motor\\2021_11_02...\n",
      "Saving csv poses!\n",
      "Starting to analyze %  \\\\dk-server.dk.ucsd.edu\\afassihizakeri\\Topviewmovies\\ar35motor\\2021_11_02\\Mask116videoL.avi\n",
      "\\\\dk-server.dk.ucsd.edu\\afassihizakeri\\Topviewmovies\\ar35motor\\2021_11_02  already exists!\n",
      "Loading  \\\\dk-server.dk.ucsd.edu\\afassihizakeri\\Topviewmovies\\ar35motor\\2021_11_02\\Mask116videoL.avi\n",
      "Duration of video [s]:  12.43 , recorded with  40.0 fps!\n",
      "Overall # of frames:  497  found with (before cropping) frame dimensions:  314 700\n",
      "Starting to extract posture\n"
     ]
    },
    {
     "name": "stderr",
     "output_type": "stream",
     "text": [
      "500it [00:57,  8.63it/s]                                                                                               \n"
     ]
    },
    {
     "name": "stdout",
     "output_type": "stream",
     "text": [
      "Saving results in \\\\dk-server.dk.ucsd.edu\\afassihizakeri\\Topviewmovies\\ar35motor\\2021_11_02...\n",
      "Saving csv poses!\n",
      "Starting to analyze %  \\\\dk-server.dk.ucsd.edu\\afassihizakeri\\Topviewmovies\\ar35motor\\2021_11_02\\Mask205videoL.avi\n",
      "\\\\dk-server.dk.ucsd.edu\\afassihizakeri\\Topviewmovies\\ar35motor\\2021_11_02  already exists!\n",
      "Loading  \\\\dk-server.dk.ucsd.edu\\afassihizakeri\\Topviewmovies\\ar35motor\\2021_11_02\\Mask205videoL.avi\n",
      "Duration of video [s]:  12.18 , recorded with  40.0 fps!\n",
      "Overall # of frames:  487  found with (before cropping) frame dimensions:  314 700\n",
      "Starting to extract posture\n"
     ]
    },
    {
     "name": "stderr",
     "output_type": "stream",
     "text": [
      "490it [00:55,  8.79it/s]                                                                                               "
     ]
    },
    {
     "name": "stdout",
     "output_type": "stream",
     "text": [
      "Saving results in \\\\dk-server.dk.ucsd.edu\\afassihizakeri\\Topviewmovies\\ar35motor\\2021_11_02...\n",
      "Saving csv poses!\n",
      "Starting to analyze %  \\\\dk-server.dk.ucsd.edu\\afassihizakeri\\Topviewmovies\\ar35motor\\2021_11_02\\Mask73videoL.avi\n",
      "\\\\dk-server.dk.ucsd.edu\\afassihizakeri\\Topviewmovies\\ar35motor\\2021_11_02  already exists!\n"
     ]
    },
    {
     "name": "stderr",
     "output_type": "stream",
     "text": [
      "\n"
     ]
    },
    {
     "name": "stdout",
     "output_type": "stream",
     "text": [
      "Loading  \\\\dk-server.dk.ucsd.edu\\afassihizakeri\\Topviewmovies\\ar35motor\\2021_11_02\\Mask73videoL.avi\n",
      "Duration of video [s]:  12.5 , recorded with  40.0 fps!\n",
      "Overall # of frames:  500  found with (before cropping) frame dimensions:  314 700\n",
      "Starting to extract posture\n"
     ]
    },
    {
     "name": "stderr",
     "output_type": "stream",
     "text": [
      "510it [00:57,  8.80it/s]                                                                                               \n"
     ]
    },
    {
     "name": "stdout",
     "output_type": "stream",
     "text": [
      "Saving results in \\\\dk-server.dk.ucsd.edu\\afassihizakeri\\Topviewmovies\\ar35motor\\2021_11_02...\n",
      "Saving csv poses!\n",
      "Starting to analyze %  \\\\dk-server.dk.ucsd.edu\\afassihizakeri\\Topviewmovies\\ar35motor\\2021_11_02\\Mask160videoL.avi\n",
      "\\\\dk-server.dk.ucsd.edu\\afassihizakeri\\Topviewmovies\\ar35motor\\2021_11_02  already exists!\n",
      "Loading  \\\\dk-server.dk.ucsd.edu\\afassihizakeri\\Topviewmovies\\ar35motor\\2021_11_02\\Mask160videoL.avi\n",
      "Duration of video [s]:  12.5 , recorded with  40.0 fps!\n",
      "Overall # of frames:  500  found with (before cropping) frame dimensions:  314 700\n",
      "Starting to extract posture\n"
     ]
    },
    {
     "name": "stderr",
     "output_type": "stream",
     "text": [
      "510it [00:58,  8.72it/s]                                                                                               \n"
     ]
    },
    {
     "name": "stdout",
     "output_type": "stream",
     "text": [
      "Saving results in \\\\dk-server.dk.ucsd.edu\\afassihizakeri\\Topviewmovies\\ar35motor\\2021_11_02...\n",
      "Saving csv poses!\n",
      "Starting to analyze %  \\\\dk-server.dk.ucsd.edu\\afassihizakeri\\Topviewmovies\\ar35motor\\2021_11_02\\Mask58videoL.avi\n",
      "\\\\dk-server.dk.ucsd.edu\\afassihizakeri\\Topviewmovies\\ar35motor\\2021_11_02  already exists!\n",
      "Loading  \\\\dk-server.dk.ucsd.edu\\afassihizakeri\\Topviewmovies\\ar35motor\\2021_11_02\\Mask58videoL.avi\n",
      "Duration of video [s]:  12.5 , recorded with  40.0 fps!\n",
      "Overall # of frames:  500  found with (before cropping) frame dimensions:  314 700\n",
      "Starting to extract posture\n"
     ]
    },
    {
     "name": "stderr",
     "output_type": "stream",
     "text": [
      "510it [00:57,  8.83it/s]                                                                                               \n"
     ]
    },
    {
     "name": "stdout",
     "output_type": "stream",
     "text": [
      "Saving results in \\\\dk-server.dk.ucsd.edu\\afassihizakeri\\Topviewmovies\\ar35motor\\2021_11_02...\n",
      "Saving csv poses!\n",
      "Starting to analyze %  \\\\dk-server.dk.ucsd.edu\\afassihizakeri\\Topviewmovies\\ar35motor\\2021_11_02\\Mask206videoL.avi\n",
      "\\\\dk-server.dk.ucsd.edu\\afassihizakeri\\Topviewmovies\\ar35motor\\2021_11_02  already exists!\n",
      "Loading  \\\\dk-server.dk.ucsd.edu\\afassihizakeri\\Topviewmovies\\ar35motor\\2021_11_02\\Mask206videoL.avi\n",
      "Duration of video [s]:  10.97 , recorded with  40.0 fps!\n",
      "Overall # of frames:  439  found with (before cropping) frame dimensions:  314 700\n",
      "Starting to extract posture\n"
     ]
    },
    {
     "name": "stderr",
     "output_type": "stream",
     "text": [
      "440it [00:50,  8.72it/s]                                                                                               \n"
     ]
    },
    {
     "name": "stdout",
     "output_type": "stream",
     "text": [
      "Saving results in \\\\dk-server.dk.ucsd.edu\\afassihizakeri\\Topviewmovies\\ar35motor\\2021_11_02...\n",
      "Saving csv poses!\n",
      "Starting to analyze %  \\\\dk-server.dk.ucsd.edu\\afassihizakeri\\Topviewmovies\\ar35motor\\2021_11_02\\Mask115videoL.avi\n",
      "\\\\dk-server.dk.ucsd.edu\\afassihizakeri\\Topviewmovies\\ar35motor\\2021_11_02  already exists!\n",
      "Loading  \\\\dk-server.dk.ucsd.edu\\afassihizakeri\\Topviewmovies\\ar35motor\\2021_11_02\\Mask115videoL.avi\n",
      "Duration of video [s]:  12.5 , recorded with  40.0 fps!\n",
      "Overall # of frames:  500  found with (before cropping) frame dimensions:  314 700\n",
      "Starting to extract posture\n"
     ]
    },
    {
     "name": "stderr",
     "output_type": "stream",
     "text": [
      "510it [00:57,  8.83it/s]                                                                                               \n"
     ]
    },
    {
     "name": "stdout",
     "output_type": "stream",
     "text": [
      "Saving results in \\\\dk-server.dk.ucsd.edu\\afassihizakeri\\Topviewmovies\\ar35motor\\2021_11_02...\n",
      "Saving csv poses!\n",
      "Starting to analyze %  \\\\dk-server.dk.ucsd.edu\\afassihizakeri\\Topviewmovies\\ar35motor\\2021_11_02\\Mask163videoL.avi\n",
      "\\\\dk-server.dk.ucsd.edu\\afassihizakeri\\Topviewmovies\\ar35motor\\2021_11_02  already exists!\n",
      "Loading  \\\\dk-server.dk.ucsd.edu\\afassihizakeri\\Topviewmovies\\ar35motor\\2021_11_02\\Mask163videoL.avi\n",
      "Duration of video [s]:  12.5 , recorded with  40.0 fps!\n",
      "Overall # of frames:  500  found with (before cropping) frame dimensions:  314 700\n",
      "Starting to extract posture\n"
     ]
    },
    {
     "name": "stderr",
     "output_type": "stream",
     "text": [
      "510it [00:57,  8.83it/s]                                                                                               \n"
     ]
    },
    {
     "name": "stdout",
     "output_type": "stream",
     "text": [
      "Saving results in \\\\dk-server.dk.ucsd.edu\\afassihizakeri\\Topviewmovies\\ar35motor\\2021_11_02...\n",
      "Saving csv poses!\n",
      "Starting to analyze %  \\\\dk-server.dk.ucsd.edu\\afassihizakeri\\Topviewmovies\\ar35motor\\2021_11_02\\Mask70videoL.avi\n",
      "\\\\dk-server.dk.ucsd.edu\\afassihizakeri\\Topviewmovies\\ar35motor\\2021_11_02  already exists!\n",
      "Loading  \\\\dk-server.dk.ucsd.edu\\afassihizakeri\\Topviewmovies\\ar35motor\\2021_11_02\\Mask70videoL.avi\n",
      "Duration of video [s]:  12.5 , recorded with  40.0 fps!\n",
      "Overall # of frames:  500  found with (before cropping) frame dimensions:  314 700\n",
      "Starting to extract posture\n"
     ]
    },
    {
     "name": "stderr",
     "output_type": "stream",
     "text": [
      "510it [00:57,  8.83it/s]                                                                                               \n"
     ]
    },
    {
     "name": "stdout",
     "output_type": "stream",
     "text": [
      "Saving results in \\\\dk-server.dk.ucsd.edu\\afassihizakeri\\Topviewmovies\\ar35motor\\2021_11_02...\n",
      "Saving csv poses!\n",
      "Starting to analyze %  \\\\dk-server.dk.ucsd.edu\\afassihizakeri\\Topviewmovies\\ar35motor\\2021_11_02\\Mask207videoL.avi\n",
      "\\\\dk-server.dk.ucsd.edu\\afassihizakeri\\Topviewmovies\\ar35motor\\2021_11_02  already exists!\n",
      "Loading  \\\\dk-server.dk.ucsd.edu\\afassihizakeri\\Topviewmovies\\ar35motor\\2021_11_02\\Mask207videoL.avi\n",
      "Duration of video [s]:  10.9 , recorded with  40.0 fps!\n",
      "Overall # of frames:  436  found with (before cropping) frame dimensions:  314 700\n",
      "Starting to extract posture\n"
     ]
    },
    {
     "name": "stderr",
     "output_type": "stream",
     "text": [
      "440it [00:50,  8.73it/s]                                                                                               \n"
     ]
    },
    {
     "name": "stdout",
     "output_type": "stream",
     "text": [
      "Saving results in \\\\dk-server.dk.ucsd.edu\\afassihizakeri\\Topviewmovies\\ar35motor\\2021_11_02...\n",
      "Saving csv poses!\n",
      "Starting to analyze %  \\\\dk-server.dk.ucsd.edu\\afassihizakeri\\Topviewmovies\\ar35motor\\2021_11_02\\Mask59videoL.avi\n",
      "\\\\dk-server.dk.ucsd.edu\\afassihizakeri\\Topviewmovies\\ar35motor\\2021_11_02  already exists!\n",
      "Loading  \\\\dk-server.dk.ucsd.edu\\afassihizakeri\\Topviewmovies\\ar35motor\\2021_11_02\\Mask59videoL.avi\n",
      "Duration of video [s]:  9.75 , recorded with  40.0 fps!\n",
      "Overall # of frames:  390  found with (before cropping) frame dimensions:  314 700\n",
      "Starting to extract posture\n"
     ]
    },
    {
     "name": "stderr",
     "output_type": "stream",
     "text": [
      "400it [00:45,  8.82it/s]                                                                                               \n"
     ]
    },
    {
     "name": "stdout",
     "output_type": "stream",
     "text": [
      "Saving results in \\\\dk-server.dk.ucsd.edu\\afassihizakeri\\Topviewmovies\\ar35motor\\2021_11_02...\n",
      "Saving csv poses!\n",
      "Starting to analyze %  \\\\dk-server.dk.ucsd.edu\\afassihizakeri\\Topviewmovies\\ar35motor\\2021_11_02\\Mask114videoL.avi\n",
      "\\\\dk-server.dk.ucsd.edu\\afassihizakeri\\Topviewmovies\\ar35motor\\2021_11_02  already exists!\n",
      "Loading  \\\\dk-server.dk.ucsd.edu\\afassihizakeri\\Topviewmovies\\ar35motor\\2021_11_02\\Mask114videoL.avi\n",
      "Duration of video [s]:  11.8 , recorded with  40.0 fps!\n",
      "Overall # of frames:  472  found with (before cropping) frame dimensions:  314 700\n",
      "Starting to extract posture\n"
     ]
    },
    {
     "name": "stderr",
     "output_type": "stream",
     "text": [
      "480it [00:54,  8.77it/s]                                                                                               \n"
     ]
    },
    {
     "name": "stdout",
     "output_type": "stream",
     "text": [
      "Saving results in \\\\dk-server.dk.ucsd.edu\\afassihizakeri\\Topviewmovies\\ar35motor\\2021_11_02...\n",
      "Saving csv poses!\n",
      "Starting to analyze %  \\\\dk-server.dk.ucsd.edu\\afassihizakeri\\Topviewmovies\\ar35motor\\2021_11_02\\Mask162videoL.avi\n",
      "\\\\dk-server.dk.ucsd.edu\\afassihizakeri\\Topviewmovies\\ar35motor\\2021_11_02  already exists!\n",
      "Loading  \\\\dk-server.dk.ucsd.edu\\afassihizakeri\\Topviewmovies\\ar35motor\\2021_11_02\\Mask162videoL.avi\n",
      "Duration of video [s]:  11.05 , recorded with  40.0 fps!\n",
      "Overall # of frames:  442  found with (before cropping) frame dimensions:  314 700\n",
      "Starting to extract posture\n"
     ]
    },
    {
     "name": "stderr",
     "output_type": "stream",
     "text": [
      "450it [00:51,  8.76it/s]                                                                                               \n"
     ]
    },
    {
     "name": "stdout",
     "output_type": "stream",
     "text": [
      "Saving results in \\\\dk-server.dk.ucsd.edu\\afassihizakeri\\Topviewmovies\\ar35motor\\2021_11_02...\n",
      "Saving csv poses!\n",
      "Starting to analyze %  \\\\dk-server.dk.ucsd.edu\\afassihizakeri\\Topviewmovies\\ar35motor\\2021_11_02\\Mask71videoL.avi\n",
      "\\\\dk-server.dk.ucsd.edu\\afassihizakeri\\Topviewmovies\\ar35motor\\2021_11_02  already exists!\n",
      "Loading  \\\\dk-server.dk.ucsd.edu\\afassihizakeri\\Topviewmovies\\ar35motor\\2021_11_02\\Mask71videoL.avi\n",
      "Duration of video [s]:  12.5 , recorded with  40.0 fps!\n",
      "Overall # of frames:  500  found with (before cropping) frame dimensions:  314 700\n",
      "Starting to extract posture\n"
     ]
    },
    {
     "name": "stderr",
     "output_type": "stream",
     "text": [
      "510it [00:57,  8.81it/s]                                                                                               \n"
     ]
    },
    {
     "name": "stdout",
     "output_type": "stream",
     "text": [
      "Saving results in \\\\dk-server.dk.ucsd.edu\\afassihizakeri\\Topviewmovies\\ar35motor\\2021_11_02...\n",
      "Saving csv poses!\n",
      "Starting to analyze %  \\\\dk-server.dk.ucsd.edu\\afassihizakeri\\Topviewmovies\\ar35motor\\2021_11_02\\Mask57videoL.avi\n",
      "\\\\dk-server.dk.ucsd.edu\\afassihizakeri\\Topviewmovies\\ar35motor\\2021_11_02  already exists!\n",
      "Loading  \\\\dk-server.dk.ucsd.edu\\afassihizakeri\\Topviewmovies\\ar35motor\\2021_11_02\\Mask57videoL.avi\n",
      "Duration of video [s]:  12.22 , recorded with  40.0 fps!\n",
      "Overall # of frames:  489  found with (before cropping) frame dimensions:  314 700\n",
      "Starting to extract posture\n"
     ]
    },
    {
     "name": "stderr",
     "output_type": "stream",
     "text": [
      "490it [00:56,  8.67it/s]                                                                                               \n"
     ]
    },
    {
     "name": "stdout",
     "output_type": "stream",
     "text": [
      "Saving results in \\\\dk-server.dk.ucsd.edu\\afassihizakeri\\Topviewmovies\\ar35motor\\2021_11_02...\n",
      "Saving csv poses!\n",
      "Starting to analyze %  \\\\dk-server.dk.ucsd.edu\\afassihizakeri\\Topviewmovies\\ar35motor\\2021_11_02\\Mask209videoL.avi\n",
      "\\\\dk-server.dk.ucsd.edu\\afassihizakeri\\Topviewmovies\\ar35motor\\2021_11_02  already exists!\n",
      "Loading  \\\\dk-server.dk.ucsd.edu\\afassihizakeri\\Topviewmovies\\ar35motor\\2021_11_02\\Mask209videoL.avi\n",
      "Duration of video [s]:  7.97 , recorded with  40.0 fps!\n",
      "Overall # of frames:  319  found with (before cropping) frame dimensions:  314 700\n",
      "Starting to extract posture\n"
     ]
    },
    {
     "name": "stderr",
     "output_type": "stream",
     "text": [
      "320it [00:36,  8.71it/s]                                                                                               \n"
     ]
    },
    {
     "name": "stdout",
     "output_type": "stream",
     "text": [
      "Saving results in \\\\dk-server.dk.ucsd.edu\\afassihizakeri\\Topviewmovies\\ar35motor\\2021_11_02...\n",
      "Saving csv poses!\n",
      "Starting to analyze %  \\\\dk-server.dk.ucsd.edu\\afassihizakeri\\Topviewmovies\\ar35motor\\2021_11_02\\Mask181videoL.avi\n",
      "\\\\dk-server.dk.ucsd.edu\\afassihizakeri\\Topviewmovies\\ar35motor\\2021_11_02  already exists!\n",
      "Loading  \\\\dk-server.dk.ucsd.edu\\afassihizakeri\\Topviewmovies\\ar35motor\\2021_11_02\\Mask181videoL.avi\n",
      "Duration of video [s]:  11.35 , recorded with  40.0 fps!\n",
      "Overall # of frames:  454  found with (before cropping) frame dimensions:  314 700\n",
      "Starting to extract posture\n"
     ]
    },
    {
     "name": "stderr",
     "output_type": "stream",
     "text": [
      "460it [00:52,  8.84it/s]                                                                                               \n"
     ]
    },
    {
     "name": "stdout",
     "output_type": "stream",
     "text": [
      "Saving results in \\\\dk-server.dk.ucsd.edu\\afassihizakeri\\Topviewmovies\\ar35motor\\2021_11_02...\n",
      "Saving csv poses!\n",
      "Starting to analyze %  \\\\dk-server.dk.ucsd.edu\\afassihizakeri\\Topviewmovies\\ar35motor\\2021_11_02\\Mask92videoL.avi\n",
      "\\\\dk-server.dk.ucsd.edu\\afassihizakeri\\Topviewmovies\\ar35motor\\2021_11_02  already exists!\n",
      "Loading  \\\\dk-server.dk.ucsd.edu\\afassihizakeri\\Topviewmovies\\ar35motor\\2021_11_02\\Mask92videoL.avi\n",
      "Duration of video [s]:  4.55 , recorded with  40.0 fps!\n",
      "Overall # of frames:  182  found with (before cropping) frame dimensions:  314 700\n",
      "Starting to extract posture\n"
     ]
    },
    {
     "name": "stderr",
     "output_type": "stream",
     "text": [
      "190it [00:21,  8.89it/s]                                                                                               \n"
     ]
    },
    {
     "name": "stdout",
     "output_type": "stream",
     "text": [
      "Saving results in \\\\dk-server.dk.ucsd.edu\\afassihizakeri\\Topviewmovies\\ar35motor\\2021_11_02...\n",
      "Saving csv poses!\n",
      "Starting to analyze %  \\\\dk-server.dk.ucsd.edu\\afassihizakeri\\Topviewmovies\\ar35motor\\2021_11_02\\Mask144videoL.avi\n",
      "\\\\dk-server.dk.ucsd.edu\\afassihizakeri\\Topviewmovies\\ar35motor\\2021_11_02  already exists!\n",
      "Loading  \\\\dk-server.dk.ucsd.edu\\afassihizakeri\\Topviewmovies\\ar35motor\\2021_11_02\\Mask144videoL.avi\n",
      "Duration of video [s]:  12.5 , recorded with  40.0 fps!\n",
      "Overall # of frames:  500  found with (before cropping) frame dimensions:  314 700\n",
      "Starting to extract posture\n"
     ]
    },
    {
     "name": "stderr",
     "output_type": "stream",
     "text": [
      "510it [00:57,  8.82it/s]                                                                                               \n"
     ]
    },
    {
     "name": "stdout",
     "output_type": "stream",
     "text": [
      "Saving results in \\\\dk-server.dk.ucsd.edu\\afassihizakeri\\Topviewmovies\\ar35motor\\2021_11_02...\n",
      "Saving csv poses!\n",
      "Starting to analyze %  \\\\dk-server.dk.ucsd.edu\\afassihizakeri\\Topviewmovies\\ar35motor\\2021_11_02\\Mask132videoL.avi\n",
      "\\\\dk-server.dk.ucsd.edu\\afassihizakeri\\Topviewmovies\\ar35motor\\2021_11_02  already exists!\n",
      "Loading  \\\\dk-server.dk.ucsd.edu\\afassihizakeri\\Topviewmovies\\ar35motor\\2021_11_02\\Mask132videoL.avi\n",
      "Duration of video [s]:  11.2 , recorded with  40.0 fps!\n",
      "Overall # of frames:  448  found with (before cropping) frame dimensions:  314 700\n",
      "Starting to extract posture\n"
     ]
    },
    {
     "name": "stderr",
     "output_type": "stream",
     "text": [
      "450it [00:51,  8.82it/s]                                                                                               \n"
     ]
    },
    {
     "name": "stdout",
     "output_type": "stream",
     "text": [
      "Saving results in \\\\dk-server.dk.ucsd.edu\\afassihizakeri\\Topviewmovies\\ar35motor\\2021_11_02...\n",
      "Saving csv poses!\n",
      "Starting to analyze %  \\\\dk-server.dk.ucsd.edu\\afassihizakeri\\Topviewmovies\\ar35motor\\2021_11_02\\Mask21videoL.avi\n",
      "\\\\dk-server.dk.ucsd.edu\\afassihizakeri\\Topviewmovies\\ar35motor\\2021_11_02  already exists!\n",
      "Loading  \\\\dk-server.dk.ucsd.edu\\afassihizakeri\\Topviewmovies\\ar35motor\\2021_11_02\\Mask21videoL.avi\n",
      "Duration of video [s]:  10.57 , recorded with  40.0 fps!\n",
      "Overall # of frames:  423  found with (before cropping) frame dimensions:  314 700\n",
      "Starting to extract posture\n"
     ]
    },
    {
     "name": "stderr",
     "output_type": "stream",
     "text": [
      "430it [00:48,  8.89it/s]                                                                                               \n"
     ]
    },
    {
     "name": "stdout",
     "output_type": "stream",
     "text": [
      "Saving results in \\\\dk-server.dk.ucsd.edu\\afassihizakeri\\Topviewmovies\\ar35motor\\2021_11_02...\n",
      "Saving csv poses!\n",
      "Starting to analyze %  \\\\dk-server.dk.ucsd.edu\\afassihizakeri\\Topviewmovies\\ar35motor\\2021_11_02\\Mask180videoL.avi\n",
      "\\\\dk-server.dk.ucsd.edu\\afassihizakeri\\Topviewmovies\\ar35motor\\2021_11_02  already exists!\n",
      "Loading  \\\\dk-server.dk.ucsd.edu\\afassihizakeri\\Topviewmovies\\ar35motor\\2021_11_02\\Mask180videoL.avi\n",
      "Duration of video [s]:  11.85 , recorded with  40.0 fps!\n",
      "Overall # of frames:  474  found with (before cropping) frame dimensions:  314 700\n",
      "Starting to extract posture\n"
     ]
    },
    {
     "name": "stderr",
     "output_type": "stream",
     "text": [
      "480it [00:55,  8.73it/s]                                                                                               \n"
     ]
    },
    {
     "name": "stdout",
     "output_type": "stream",
     "text": [
      "Saving results in \\\\dk-server.dk.ucsd.edu\\afassihizakeri\\Topviewmovies\\ar35motor\\2021_11_02...\n",
      "Saving csv poses!\n",
      "Starting to analyze %  \\\\dk-server.dk.ucsd.edu\\afassihizakeri\\Topviewmovies\\ar35motor\\2021_11_02\\Mask208videoL.avi\n",
      "\\\\dk-server.dk.ucsd.edu\\afassihizakeri\\Topviewmovies\\ar35motor\\2021_11_02  already exists!\n",
      "Loading  \\\\dk-server.dk.ucsd.edu\\afassihizakeri\\Topviewmovies\\ar35motor\\2021_11_02\\Mask208videoL.avi\n",
      "Duration of video [s]:  10.47 , recorded with  40.0 fps!\n",
      "Overall # of frames:  419  found with (before cropping) frame dimensions:  314 700\n",
      "Starting to extract posture\n"
     ]
    },
    {
     "name": "stderr",
     "output_type": "stream",
     "text": [
      "420it [00:48,  8.64it/s]                                                                                               \n"
     ]
    },
    {
     "name": "stdout",
     "output_type": "stream",
     "text": [
      "Saving results in \\\\dk-server.dk.ucsd.edu\\afassihizakeri\\Topviewmovies\\ar35motor\\2021_11_02...\n",
      "Saving csv poses!\n",
      "Starting to analyze %  \\\\dk-server.dk.ucsd.edu\\afassihizakeri\\Topviewmovies\\ar35motor\\2021_11_02\\Mask56videoL.avi\n",
      "\\\\dk-server.dk.ucsd.edu\\afassihizakeri\\Topviewmovies\\ar35motor\\2021_11_02  already exists!\n",
      "Loading  \\\\dk-server.dk.ucsd.edu\\afassihizakeri\\Topviewmovies\\ar35motor\\2021_11_02\\Mask56videoL.avi\n",
      "Duration of video [s]:  12.5 , recorded with  40.0 fps!\n",
      "Overall # of frames:  500  found with (before cropping) frame dimensions:  314 700\n",
      "Starting to extract posture\n"
     ]
    },
    {
     "name": "stderr",
     "output_type": "stream",
     "text": [
      "510it [00:57,  8.87it/s]                                                                                               \n"
     ]
    },
    {
     "name": "stdout",
     "output_type": "stream",
     "text": [
      "Saving results in \\\\dk-server.dk.ucsd.edu\\afassihizakeri\\Topviewmovies\\ar35motor\\2021_11_02...\n",
      "Saving csv poses!\n",
      "Starting to analyze %  \\\\dk-server.dk.ucsd.edu\\afassihizakeri\\Topviewmovies\\ar35motor\\2021_11_02\\Mask145videoL.avi\n",
      "\\\\dk-server.dk.ucsd.edu\\afassihizakeri\\Topviewmovies\\ar35motor\\2021_11_02  already exists!\n",
      "Loading  \\\\dk-server.dk.ucsd.edu\\afassihizakeri\\Topviewmovies\\ar35motor\\2021_11_02\\Mask145videoL.avi\n",
      "Duration of video [s]:  12.5 , recorded with  40.0 fps!\n",
      "Overall # of frames:  500  found with (before cropping) frame dimensions:  314 700\n",
      "Starting to extract posture\n"
     ]
    },
    {
     "name": "stderr",
     "output_type": "stream",
     "text": [
      "510it [00:57,  8.88it/s]                                                                                               \n"
     ]
    },
    {
     "name": "stdout",
     "output_type": "stream",
     "text": [
      "Saving results in \\\\dk-server.dk.ucsd.edu\\afassihizakeri\\Topviewmovies\\ar35motor\\2021_11_02...\n",
      "Saving csv poses!\n",
      "Starting to analyze %  \\\\dk-server.dk.ucsd.edu\\afassihizakeri\\Topviewmovies\\ar35motor\\2021_11_02\\Mask93videoL.avi\n",
      "\\\\dk-server.dk.ucsd.edu\\afassihizakeri\\Topviewmovies\\ar35motor\\2021_11_02  already exists!\n",
      "Loading  \\\\dk-server.dk.ucsd.edu\\afassihizakeri\\Topviewmovies\\ar35motor\\2021_11_02\\Mask93videoL.avi\n",
      "Duration of video [s]:  12.5 , recorded with  40.0 fps!\n",
      "Overall # of frames:  500  found with (before cropping) frame dimensions:  314 700\n",
      "Starting to extract posture\n"
     ]
    },
    {
     "name": "stderr",
     "output_type": "stream",
     "text": [
      "510it [00:57,  8.88it/s]                                                                                               \n"
     ]
    },
    {
     "name": "stdout",
     "output_type": "stream",
     "text": [
      "Saving results in \\\\dk-server.dk.ucsd.edu\\afassihizakeri\\Topviewmovies\\ar35motor\\2021_11_02...\n",
      "Saving csv poses!\n",
      "Starting to analyze %  \\\\dk-server.dk.ucsd.edu\\afassihizakeri\\Topviewmovies\\ar35motor\\2021_11_02\\Mask133videoL.avi\n",
      "\\\\dk-server.dk.ucsd.edu\\afassihizakeri\\Topviewmovies\\ar35motor\\2021_11_02  already exists!\n",
      "Loading  \\\\dk-server.dk.ucsd.edu\\afassihizakeri\\Topviewmovies\\ar35motor\\2021_11_02\\Mask133videoL.avi\n",
      "Duration of video [s]:  10.97 , recorded with  40.0 fps!\n",
      "Overall # of frames:  439  found with (before cropping) frame dimensions:  314 700\n",
      "Starting to extract posture\n"
     ]
    },
    {
     "name": "stderr",
     "output_type": "stream",
     "text": [
      "440it [00:50,  8.77it/s]                                                                                               \n"
     ]
    },
    {
     "name": "stdout",
     "output_type": "stream",
     "text": [
      "Saving results in \\\\dk-server.dk.ucsd.edu\\afassihizakeri\\Topviewmovies\\ar35motor\\2021_11_02...\n",
      "Saving csv poses!\n",
      "Starting to analyze %  \\\\dk-server.dk.ucsd.edu\\afassihizakeri\\Topviewmovies\\ar35motor\\2021_11_02\\Mask20videoL.avi\n",
      "\\\\dk-server.dk.ucsd.edu\\afassihizakeri\\Topviewmovies\\ar35motor\\2021_11_02  already exists!\n",
      "Loading  \\\\dk-server.dk.ucsd.edu\\afassihizakeri\\Topviewmovies\\ar35motor\\2021_11_02\\Mask20videoL.avi\n",
      "Duration of video [s]:  11.2 , recorded with  40.0 fps!\n",
      "Overall # of frames:  448  found with (before cropping) frame dimensions:  314 700\n",
      "Starting to extract posture\n"
     ]
    },
    {
     "name": "stderr",
     "output_type": "stream",
     "text": [
      "450it [00:51,  8.81it/s]                                                                                               \n"
     ]
    },
    {
     "name": "stdout",
     "output_type": "stream",
     "text": [
      "Saving results in \\\\dk-server.dk.ucsd.edu\\afassihizakeri\\Topviewmovies\\ar35motor\\2021_11_02...\n",
      "Saving csv poses!\n",
      "Starting to analyze %  \\\\dk-server.dk.ucsd.edu\\afassihizakeri\\Topviewmovies\\ar35motor\\2021_11_02\\Mask146videoL.avi\n",
      "\\\\dk-server.dk.ucsd.edu\\afassihizakeri\\Topviewmovies\\ar35motor\\2021_11_02  already exists!\n",
      "Loading  \\\\dk-server.dk.ucsd.edu\\afassihizakeri\\Topviewmovies\\ar35motor\\2021_11_02\\Mask146videoL.avi\n",
      "Duration of video [s]:  12.5 , recorded with  40.0 fps!\n",
      "Overall # of frames:  500  found with (before cropping) frame dimensions:  314 700\n",
      "Starting to extract posture\n"
     ]
    },
    {
     "name": "stderr",
     "output_type": "stream",
     "text": [
      "510it [00:57,  8.82it/s]                                                                                               \n"
     ]
    },
    {
     "name": "stdout",
     "output_type": "stream",
     "text": [
      "Saving results in \\\\dk-server.dk.ucsd.edu\\afassihizakeri\\Topviewmovies\\ar35motor\\2021_11_02...\n",
      "Saving csv poses!\n",
      "Starting to analyze %  \\\\dk-server.dk.ucsd.edu\\afassihizakeri\\Topviewmovies\\ar35motor\\2021_11_02\\Mask118videoL.avi\n",
      "\\\\dk-server.dk.ucsd.edu\\afassihizakeri\\Topviewmovies\\ar35motor\\2021_11_02  already exists!\n",
      "Loading  \\\\dk-server.dk.ucsd.edu\\afassihizakeri\\Topviewmovies\\ar35motor\\2021_11_02\\Mask118videoL.avi\n",
      "Duration of video [s]:  12.5 , recorded with  40.0 fps!\n",
      "Overall # of frames:  500  found with (before cropping) frame dimensions:  314 700\n",
      "Starting to extract posture\n"
     ]
    },
    {
     "name": "stderr",
     "output_type": "stream",
     "text": [
      "510it [00:57,  8.84it/s]                                                                                               \n"
     ]
    },
    {
     "name": "stdout",
     "output_type": "stream",
     "text": [
      "Saving results in \\\\dk-server.dk.ucsd.edu\\afassihizakeri\\Topviewmovies\\ar35motor\\2021_11_02...\n",
      "Saving csv poses!\n",
      "Starting to analyze %  \\\\dk-server.dk.ucsd.edu\\afassihizakeri\\Topviewmovies\\ar35motor\\2021_11_02\\Mask90videoL.avi\n",
      "\\\\dk-server.dk.ucsd.edu\\afassihizakeri\\Topviewmovies\\ar35motor\\2021_11_02  already exists!\n",
      "Loading  \\\\dk-server.dk.ucsd.edu\\afassihizakeri\\Topviewmovies\\ar35motor\\2021_11_02\\Mask90videoL.avi\n",
      "Duration of video [s]:  10.7 , recorded with  40.0 fps!\n",
      "Overall # of frames:  428  found with (before cropping) frame dimensions:  314 700\n",
      "Starting to extract posture\n"
     ]
    },
    {
     "name": "stderr",
     "output_type": "stream",
     "text": [
      "430it [00:49,  8.71it/s]                                                                                               \n"
     ]
    },
    {
     "name": "stdout",
     "output_type": "stream",
     "text": [
      "Saving results in \\\\dk-server.dk.ucsd.edu\\afassihizakeri\\Topviewmovies\\ar35motor\\2021_11_02...\n",
      "Saving csv poses!\n",
      "Starting to analyze %  \\\\dk-server.dk.ucsd.edu\\afassihizakeri\\Topviewmovies\\ar35motor\\2021_11_02\\Mask183videoL.avi\n",
      "\\\\dk-server.dk.ucsd.edu\\afassihizakeri\\Topviewmovies\\ar35motor\\2021_11_02  already exists!\n",
      "Loading  \\\\dk-server.dk.ucsd.edu\\afassihizakeri\\Topviewmovies\\ar35motor\\2021_11_02\\Mask183videoL.avi\n",
      "Duration of video [s]:  11.53 , recorded with  40.0 fps!\n",
      "Overall # of frames:  461  found with (before cropping) frame dimensions:  314 700\n",
      "Starting to extract posture\n"
     ]
    },
    {
     "name": "stderr",
     "output_type": "stream",
     "text": [
      "470it [00:53,  8.81it/s]                                                                                               \n"
     ]
    },
    {
     "name": "stdout",
     "output_type": "stream",
     "text": [
      "Saving results in \\\\dk-server.dk.ucsd.edu\\afassihizakeri\\Topviewmovies\\ar35motor\\2021_11_02...\n",
      "Saving csv poses!\n",
      "Starting to analyze %  \\\\dk-server.dk.ucsd.edu\\afassihizakeri\\Topviewmovies\\ar35motor\\2021_11_02\\Mask55videoL.avi\n",
      "\\\\dk-server.dk.ucsd.edu\\afassihizakeri\\Topviewmovies\\ar35motor\\2021_11_02  already exists!\n",
      "Loading  \\\\dk-server.dk.ucsd.edu\\afassihizakeri\\Topviewmovies\\ar35motor\\2021_11_02\\Mask55videoL.avi\n",
      "Duration of video [s]:  10.78 , recorded with  40.0 fps!\n",
      "Overall # of frames:  431  found with (before cropping) frame dimensions:  314 700\n",
      "Starting to extract posture\n"
     ]
    },
    {
     "name": "stderr",
     "output_type": "stream",
     "text": [
      "440it [00:49,  8.89it/s]                                                                                               \n"
     ]
    },
    {
     "name": "stdout",
     "output_type": "stream",
     "text": [
      "Saving results in \\\\dk-server.dk.ucsd.edu\\afassihizakeri\\Topviewmovies\\ar35motor\\2021_11_02...\n",
      "Saving csv poses!\n",
      "Starting to analyze %  \\\\dk-server.dk.ucsd.edu\\afassihizakeri\\Topviewmovies\\ar35motor\\2021_11_02\\Mask23videoL.avi\n",
      "\\\\dk-server.dk.ucsd.edu\\afassihizakeri\\Topviewmovies\\ar35motor\\2021_11_02  already exists!\n",
      "Loading  \\\\dk-server.dk.ucsd.edu\\afassihizakeri\\Topviewmovies\\ar35motor\\2021_11_02\\Mask23videoL.avi\n",
      "Duration of video [s]:  12.5 , recorded with  40.0 fps!\n",
      "Overall # of frames:  500  found with (before cropping) frame dimensions:  314 700\n",
      "Starting to extract posture\n"
     ]
    },
    {
     "name": "stderr",
     "output_type": "stream",
     "text": [
      "510it [00:57,  8.83it/s]                                                                                               \n"
     ]
    },
    {
     "name": "stdout",
     "output_type": "stream",
     "text": [
      "Saving results in \\\\dk-server.dk.ucsd.edu\\afassihizakeri\\Topviewmovies\\ar35motor\\2021_11_02...\n",
      "Saving csv poses!\n",
      "Starting to analyze %  \\\\dk-server.dk.ucsd.edu\\afassihizakeri\\Topviewmovies\\ar35motor\\2021_11_02\\Mask130videoL.avi\n",
      "\\\\dk-server.dk.ucsd.edu\\afassihizakeri\\Topviewmovies\\ar35motor\\2021_11_02  already exists!\n",
      "Loading  \\\\dk-server.dk.ucsd.edu\\afassihizakeri\\Topviewmovies\\ar35motor\\2021_11_02\\Mask130videoL.avi\n",
      "Duration of video [s]:  9.57 , recorded with  40.0 fps!\n",
      "Overall # of frames:  383  found with (before cropping) frame dimensions:  314 700\n",
      "Starting to extract posture\n"
     ]
    },
    {
     "name": "stderr",
     "output_type": "stream",
     "text": [
      "390it [00:43,  8.93it/s]                                                                                               \n"
     ]
    },
    {
     "name": "stdout",
     "output_type": "stream",
     "text": [
      "Saving results in \\\\dk-server.dk.ucsd.edu\\afassihizakeri\\Topviewmovies\\ar35motor\\2021_11_02...\n",
      "Saving csv poses!\n",
      "Starting to analyze %  \\\\dk-server.dk.ucsd.edu\\afassihizakeri\\Topviewmovies\\ar35motor\\2021_11_02\\Mask91videoL.avi\n",
      "\\\\dk-server.dk.ucsd.edu\\afassihizakeri\\Topviewmovies\\ar35motor\\2021_11_02  already exists!\n",
      "Loading  \\\\dk-server.dk.ucsd.edu\\afassihizakeri\\Topviewmovies\\ar35motor\\2021_11_02\\Mask91videoL.avi\n",
      "Duration of video [s]:  8.07 , recorded with  40.0 fps!\n",
      "Overall # of frames:  323  found with (before cropping) frame dimensions:  314 700\n",
      "Starting to extract posture\n"
     ]
    },
    {
     "name": "stderr",
     "output_type": "stream",
     "text": [
      "330it [00:37,  8.74it/s]                                                                                               \n"
     ]
    },
    {
     "name": "stdout",
     "output_type": "stream",
     "text": [
      "Saving results in \\\\dk-server.dk.ucsd.edu\\afassihizakeri\\Topviewmovies\\ar35motor\\2021_11_02...\n",
      "Saving csv poses!\n",
      "Starting to analyze %  \\\\dk-server.dk.ucsd.edu\\afassihizakeri\\Topviewmovies\\ar35motor\\2021_11_02\\Mask119videoL.avi\n",
      "\\\\dk-server.dk.ucsd.edu\\afassihizakeri\\Topviewmovies\\ar35motor\\2021_11_02  already exists!\n",
      "Loading  \\\\dk-server.dk.ucsd.edu\\afassihizakeri\\Topviewmovies\\ar35motor\\2021_11_02\\Mask119videoL.avi\n",
      "Duration of video [s]:  12.5 , recorded with  40.0 fps!\n",
      "Overall # of frames:  500  found with (before cropping) frame dimensions:  314 700\n",
      "Starting to extract posture\n"
     ]
    },
    {
     "name": "stderr",
     "output_type": "stream",
     "text": [
      "510it [00:57,  8.82it/s]                                                                                               \n"
     ]
    },
    {
     "name": "stdout",
     "output_type": "stream",
     "text": [
      "Saving results in \\\\dk-server.dk.ucsd.edu\\afassihizakeri\\Topviewmovies\\ar35motor\\2021_11_02...\n",
      "Saving csv poses!\n",
      "Starting to analyze %  \\\\dk-server.dk.ucsd.edu\\afassihizakeri\\Topviewmovies\\ar35motor\\2021_11_02\\Mask147videoL.avi\n",
      "\\\\dk-server.dk.ucsd.edu\\afassihizakeri\\Topviewmovies\\ar35motor\\2021_11_02  already exists!\n",
      "Loading  \\\\dk-server.dk.ucsd.edu\\afassihizakeri\\Topviewmovies\\ar35motor\\2021_11_02\\Mask147videoL.avi\n",
      "Duration of video [s]:  12.5 , recorded with  40.0 fps!\n",
      "Overall # of frames:  500  found with (before cropping) frame dimensions:  314 700\n",
      "Starting to extract posture\n"
     ]
    },
    {
     "name": "stderr",
     "output_type": "stream",
     "text": [
      "510it [00:57,  8.88it/s]                                                                                               \n"
     ]
    },
    {
     "name": "stdout",
     "output_type": "stream",
     "text": [
      "Saving results in \\\\dk-server.dk.ucsd.edu\\afassihizakeri\\Topviewmovies\\ar35motor\\2021_11_02...\n",
      "Saving csv poses!\n",
      "Starting to analyze %  \\\\dk-server.dk.ucsd.edu\\afassihizakeri\\Topviewmovies\\ar35motor\\2021_11_02\\Mask54videoL.avi\n",
      "\\\\dk-server.dk.ucsd.edu\\afassihizakeri\\Topviewmovies\\ar35motor\\2021_11_02  already exists!\n",
      "Loading  \\\\dk-server.dk.ucsd.edu\\afassihizakeri\\Topviewmovies\\ar35motor\\2021_11_02\\Mask54videoL.avi\n",
      "Duration of video [s]:  8.78 , recorded with  40.0 fps!\n",
      "Overall # of frames:  351  found with (before cropping) frame dimensions:  314 700\n",
      "Starting to extract posture\n"
     ]
    },
    {
     "name": "stderr",
     "output_type": "stream",
     "text": [
      "360it [00:40,  8.97it/s]                                                                                               \n"
     ]
    },
    {
     "name": "stdout",
     "output_type": "stream",
     "text": [
      "Saving results in \\\\dk-server.dk.ucsd.edu\\afassihizakeri\\Topviewmovies\\ar35motor\\2021_11_02...\n",
      "Saving csv poses!\n",
      "Starting to analyze %  \\\\dk-server.dk.ucsd.edu\\afassihizakeri\\Topviewmovies\\ar35motor\\2021_11_02\\Mask182videoL.avi\n",
      "\\\\dk-server.dk.ucsd.edu\\afassihizakeri\\Topviewmovies\\ar35motor\\2021_11_02  already exists!\n",
      "Loading  \\\\dk-server.dk.ucsd.edu\\afassihizakeri\\Topviewmovies\\ar35motor\\2021_11_02\\Mask182videoL.avi\n",
      "Duration of video [s]:  11.65 , recorded with  40.0 fps!\n",
      "Overall # of frames:  466  found with (before cropping) frame dimensions:  314 700\n",
      "Starting to extract posture\n"
     ]
    },
    {
     "name": "stderr",
     "output_type": "stream",
     "text": [
      "470it [00:53,  8.73it/s]                                                                                               \n"
     ]
    },
    {
     "name": "stdout",
     "output_type": "stream",
     "text": [
      "Saving results in \\\\dk-server.dk.ucsd.edu\\afassihizakeri\\Topviewmovies\\ar35motor\\2021_11_02...\n",
      "Saving csv poses!\n",
      "Starting to analyze %  \\\\dk-server.dk.ucsd.edu\\afassihizakeri\\Topviewmovies\\ar35motor\\2021_11_02\\Mask22videoL.avi\n",
      "\\\\dk-server.dk.ucsd.edu\\afassihizakeri\\Topviewmovies\\ar35motor\\2021_11_02  already exists!\n",
      "Loading  \\\\dk-server.dk.ucsd.edu\\afassihizakeri\\Topviewmovies\\ar35motor\\2021_11_02\\Mask22videoL.avi\n",
      "Duration of video [s]:  9.25 , recorded with  40.0 fps!\n",
      "Overall # of frames:  370  found with (before cropping) frame dimensions:  314 700\n",
      "Starting to extract posture\n"
     ]
    },
    {
     "name": "stderr",
     "output_type": "stream",
     "text": [
      "380it [00:43,  8.81it/s]                                                                                               \n"
     ]
    },
    {
     "name": "stdout",
     "output_type": "stream",
     "text": [
      "Saving results in \\\\dk-server.dk.ucsd.edu\\afassihizakeri\\Topviewmovies\\ar35motor\\2021_11_02...\n",
      "Saving csv poses!\n",
      "Starting to analyze %  \\\\dk-server.dk.ucsd.edu\\afassihizakeri\\Topviewmovies\\ar35motor\\2021_11_02\\Mask131videoL.avi\n",
      "\\\\dk-server.dk.ucsd.edu\\afassihizakeri\\Topviewmovies\\ar35motor\\2021_11_02  already exists!\n",
      "Loading  \\\\dk-server.dk.ucsd.edu\\afassihizakeri\\Topviewmovies\\ar35motor\\2021_11_02\\Mask131videoL.avi\n",
      "Duration of video [s]:  11.72 , recorded with  40.0 fps!\n",
      "Overall # of frames:  469  found with (before cropping) frame dimensions:  314 700\n",
      "Starting to extract posture\n"
     ]
    },
    {
     "name": "stderr",
     "output_type": "stream",
     "text": [
      "470it [00:53,  8.71it/s]                                                                                               \n"
     ]
    },
    {
     "name": "stdout",
     "output_type": "stream",
     "text": [
      "Saving results in \\\\dk-server.dk.ucsd.edu\\afassihizakeri\\Topviewmovies\\ar35motor\\2021_11_02...\n",
      "Saving csv poses!\n",
      "Starting to analyze %  \\\\dk-server.dk.ucsd.edu\\afassihizakeri\\Topviewmovies\\ar35motor\\2021_11_02\\Mask25videoL.avi\n",
      "\\\\dk-server.dk.ucsd.edu\\afassihizakeri\\Topviewmovies\\ar35motor\\2021_11_02  already exists!\n",
      "Loading  \\\\dk-server.dk.ucsd.edu\\afassihizakeri\\Topviewmovies\\ar35motor\\2021_11_02\\Mask25videoL.avi\n",
      "Duration of video [s]:  9.5 , recorded with  40.0 fps!\n",
      "Overall # of frames:  380  found with (before cropping) frame dimensions:  314 700\n",
      "Starting to extract posture\n"
     ]
    },
    {
     "name": "stderr",
     "output_type": "stream",
     "text": [
      "390it [00:43,  8.87it/s]                                                                                               \n"
     ]
    },
    {
     "name": "stdout",
     "output_type": "stream",
     "text": [
      "Saving results in \\\\dk-server.dk.ucsd.edu\\afassihizakeri\\Topviewmovies\\ar35motor\\2021_11_02...\n",
      "Saving csv poses!\n",
      "Starting to analyze %  \\\\dk-server.dk.ucsd.edu\\afassihizakeri\\Topviewmovies\\ar35motor\\2021_11_02\\Mask168videoL.avi\n",
      "\\\\dk-server.dk.ucsd.edu\\afassihizakeri\\Topviewmovies\\ar35motor\\2021_11_02  already exists!\n",
      "Loading  \\\\dk-server.dk.ucsd.edu\\afassihizakeri\\Topviewmovies\\ar35motor\\2021_11_02\\Mask168videoL.avi\n",
      "Duration of video [s]:  8.85 , recorded with  40.0 fps!\n",
      "Overall # of frames:  354  found with (before cropping) frame dimensions:  314 700\n",
      "Starting to extract posture\n"
     ]
    },
    {
     "name": "stderr",
     "output_type": "stream",
     "text": [
      "360it [00:41,  8.70it/s]                                                                                               \n"
     ]
    },
    {
     "name": "stdout",
     "output_type": "stream",
     "text": [
      "Saving results in \\\\dk-server.dk.ucsd.edu\\afassihizakeri\\Topviewmovies\\ar35motor\\2021_11_02...\n",
      "Saving csv poses!\n",
      "Starting to analyze %  \\\\dk-server.dk.ucsd.edu\\afassihizakeri\\Topviewmovies\\ar35motor\\2021_11_02\\Mask136videoL.avi\n",
      "\\\\dk-server.dk.ucsd.edu\\afassihizakeri\\Topviewmovies\\ar35motor\\2021_11_02  already exists!\n",
      "Loading  \\\\dk-server.dk.ucsd.edu\\afassihizakeri\\Topviewmovies\\ar35motor\\2021_11_02\\Mask136videoL.avi\n",
      "Duration of video [s]:  10.72 , recorded with  40.0 fps!\n",
      "Overall # of frames:  429  found with (before cropping) frame dimensions:  314 700\n",
      "Starting to extract posture\n"
     ]
    },
    {
     "name": "stderr",
     "output_type": "stream",
     "text": [
      "430it [00:49,  8.73it/s]                                                                                               \n"
     ]
    },
    {
     "name": "stdout",
     "output_type": "stream",
     "text": [
      "Saving results in \\\\dk-server.dk.ucsd.edu\\afassihizakeri\\Topviewmovies\\ar35motor\\2021_11_02...\n",
      "Saving csv poses!\n",
      "Starting to analyze %  \\\\dk-server.dk.ucsd.edu\\afassihizakeri\\Topviewmovies\\ar35motor\\2021_11_02\\Mask96videoL.avi\n",
      "\\\\dk-server.dk.ucsd.edu\\afassihizakeri\\Topviewmovies\\ar35motor\\2021_11_02  already exists!\n",
      "Loading  \\\\dk-server.dk.ucsd.edu\\afassihizakeri\\Topviewmovies\\ar35motor\\2021_11_02\\Mask96videoL.avi\n",
      "Duration of video [s]:  11.0 , recorded with  40.0 fps!\n",
      "Overall # of frames:  440  found with (before cropping) frame dimensions:  314 700\n",
      "Starting to extract posture\n"
     ]
    },
    {
     "name": "stderr",
     "output_type": "stream",
     "text": [
      "450it [00:50,  8.91it/s]                                                                                               \n"
     ]
    },
    {
     "name": "stdout",
     "output_type": "stream",
     "text": [
      "Saving results in \\\\dk-server.dk.ucsd.edu\\afassihizakeri\\Topviewmovies\\ar35motor\\2021_11_02...\n",
      "Saving csv poses!\n",
      "Starting to analyze %  \\\\dk-server.dk.ucsd.edu\\afassihizakeri\\Topviewmovies\\ar35motor\\2021_11_02\\Mask140videoL.avi\n",
      "\\\\dk-server.dk.ucsd.edu\\afassihizakeri\\Topviewmovies\\ar35motor\\2021_11_02  already exists!\n",
      "Loading  \\\\dk-server.dk.ucsd.edu\\afassihizakeri\\Topviewmovies\\ar35motor\\2021_11_02\\Mask140videoL.avi\n",
      "Duration of video [s]:  2.45 , recorded with  40.0 fps!\n",
      "Overall # of frames:  98  found with (before cropping) frame dimensions:  314 700\n",
      "Starting to extract posture\n"
     ]
    },
    {
     "name": "stderr",
     "output_type": "stream",
     "text": [
      "100it [00:12,  8.18it/s]                                                                                               \n"
     ]
    },
    {
     "name": "stdout",
     "output_type": "stream",
     "text": [
      "Saving results in \\\\dk-server.dk.ucsd.edu\\afassihizakeri\\Topviewmovies\\ar35motor\\2021_11_02...\n",
      "Saving csv poses!\n",
      "Starting to analyze %  \\\\dk-server.dk.ucsd.edu\\afassihizakeri\\Topviewmovies\\ar35motor\\2021_11_02\\Mask53videoL.avi\n",
      "\\\\dk-server.dk.ucsd.edu\\afassihizakeri\\Topviewmovies\\ar35motor\\2021_11_02  already exists!\n",
      "Loading  \\\\dk-server.dk.ucsd.edu\\afassihizakeri\\Topviewmovies\\ar35motor\\2021_11_02\\Mask53videoL.avi\n",
      "Duration of video [s]:  12.5 , recorded with  40.0 fps!\n",
      "Overall # of frames:  500  found with (before cropping) frame dimensions:  314 700\n",
      "Starting to extract posture\n"
     ]
    },
    {
     "name": "stderr",
     "output_type": "stream",
     "text": [
      "510it [00:57,  8.88it/s]                                                                                               \n"
     ]
    },
    {
     "name": "stdout",
     "output_type": "stream",
     "text": [
      "Saving results in \\\\dk-server.dk.ucsd.edu\\afassihizakeri\\Topviewmovies\\ar35motor\\2021_11_02...\n",
      "Saving csv poses!\n",
      "Starting to analyze %  \\\\dk-server.dk.ucsd.edu\\afassihizakeri\\Topviewmovies\\ar35motor\\2021_11_02\\Mask185videoL.avi\n",
      "\\\\dk-server.dk.ucsd.edu\\afassihizakeri\\Topviewmovies\\ar35motor\\2021_11_02  already exists!\n",
      "Loading  \\\\dk-server.dk.ucsd.edu\\afassihizakeri\\Topviewmovies\\ar35motor\\2021_11_02\\Mask185videoL.avi\n",
      "Duration of video [s]:  12.5 , recorded with  40.0 fps!\n",
      "Overall # of frames:  500  found with (before cropping) frame dimensions:  314 700\n",
      "Starting to extract posture\n"
     ]
    },
    {
     "name": "stderr",
     "output_type": "stream",
     "text": [
      "510it [00:57,  8.85it/s]                                                                                               \n"
     ]
    },
    {
     "name": "stdout",
     "output_type": "stream",
     "text": [
      "Saving results in \\\\dk-server.dk.ucsd.edu\\afassihizakeri\\Topviewmovies\\ar35motor\\2021_11_02...\n",
      "Saving csv poses!\n",
      "Starting to analyze %  \\\\dk-server.dk.ucsd.edu\\afassihizakeri\\Topviewmovies\\ar35motor\\2021_11_02\\Mask24videoL.avi\n",
      "\\\\dk-server.dk.ucsd.edu\\afassihizakeri\\Topviewmovies\\ar35motor\\2021_11_02  already exists!\n",
      "Loading  \\\\dk-server.dk.ucsd.edu\\afassihizakeri\\Topviewmovies\\ar35motor\\2021_11_02\\Mask24videoL.avi\n",
      "Duration of video [s]:  12.5 , recorded with  40.0 fps!\n",
      "Overall # of frames:  500  found with (before cropping) frame dimensions:  314 700\n",
      "Starting to extract posture\n"
     ]
    },
    {
     "name": "stderr",
     "output_type": "stream",
     "text": [
      "510it [00:57,  8.88it/s]                                                                                               \n"
     ]
    },
    {
     "name": "stdout",
     "output_type": "stream",
     "text": [
      "Saving results in \\\\dk-server.dk.ucsd.edu\\afassihizakeri\\Topviewmovies\\ar35motor\\2021_11_02...\n",
      "Saving csv poses!\n",
      "Starting to analyze %  \\\\dk-server.dk.ucsd.edu\\afassihizakeri\\Topviewmovies\\ar35motor\\2021_11_02\\Mask137videoL.avi\n",
      "\\\\dk-server.dk.ucsd.edu\\afassihizakeri\\Topviewmovies\\ar35motor\\2021_11_02  already exists!\n",
      "Loading  \\\\dk-server.dk.ucsd.edu\\afassihizakeri\\Topviewmovies\\ar35motor\\2021_11_02\\Mask137videoL.avi\n",
      "Duration of video [s]:  11.93 , recorded with  40.0 fps!\n",
      "Overall # of frames:  477  found with (before cropping) frame dimensions:  314 700\n",
      "Starting to extract posture\n"
     ]
    },
    {
     "name": "stderr",
     "output_type": "stream",
     "text": [
      "480it [00:55,  8.69it/s]                                                                                               \n"
     ]
    },
    {
     "name": "stdout",
     "output_type": "stream",
     "text": [
      "Saving results in \\\\dk-server.dk.ucsd.edu\\afassihizakeri\\Topviewmovies\\ar35motor\\2021_11_02...\n",
      "Saving csv poses!\n",
      "Starting to analyze %  \\\\dk-server.dk.ucsd.edu\\afassihizakeri\\Topviewmovies\\ar35motor\\2021_11_02\\Mask169videoL.avi\n",
      "\\\\dk-server.dk.ucsd.edu\\afassihizakeri\\Topviewmovies\\ar35motor\\2021_11_02  already exists!\n",
      "Loading  \\\\dk-server.dk.ucsd.edu\\afassihizakeri\\Topviewmovies\\ar35motor\\2021_11_02\\Mask169videoL.avi\n",
      "Duration of video [s]:  10.97 , recorded with  40.0 fps!\n",
      "Overall # of frames:  439  found with (before cropping) frame dimensions:  314 700\n",
      "Starting to extract posture\n"
     ]
    },
    {
     "name": "stderr",
     "output_type": "stream",
     "text": [
      "440it [00:50,  8.78it/s]                                                                                               \n"
     ]
    },
    {
     "name": "stdout",
     "output_type": "stream",
     "text": [
      "Saving results in \\\\dk-server.dk.ucsd.edu\\afassihizakeri\\Topviewmovies\\ar35motor\\2021_11_02...\n",
      "Saving csv poses!\n",
      "Starting to analyze %  \\\\dk-server.dk.ucsd.edu\\afassihizakeri\\Topviewmovies\\ar35motor\\2021_11_02\\Mask141videoL.avi\n",
      "\\\\dk-server.dk.ucsd.edu\\afassihizakeri\\Topviewmovies\\ar35motor\\2021_11_02  already exists!\n",
      "Loading  \\\\dk-server.dk.ucsd.edu\\afassihizakeri\\Topviewmovies\\ar35motor\\2021_11_02\\Mask141videoL.avi\n",
      "Duration of video [s]:  12.5 , recorded with  40.0 fps!\n",
      "Overall # of frames:  500  found with (before cropping) frame dimensions:  314 700\n",
      "Starting to extract posture\n"
     ]
    },
    {
     "name": "stderr",
     "output_type": "stream",
     "text": [
      "510it [00:58,  8.78it/s]                                                                                               \n"
     ]
    },
    {
     "name": "stdout",
     "output_type": "stream",
     "text": [
      "Saving results in \\\\dk-server.dk.ucsd.edu\\afassihizakeri\\Topviewmovies\\ar35motor\\2021_11_02...\n",
      "Saving csv poses!\n",
      "Starting to analyze %  \\\\dk-server.dk.ucsd.edu\\afassihizakeri\\Topviewmovies\\ar35motor\\2021_11_02\\Mask97videoL.avi\n",
      "\\\\dk-server.dk.ucsd.edu\\afassihizakeri\\Topviewmovies\\ar35motor\\2021_11_02  already exists!\n",
      "Loading  \\\\dk-server.dk.ucsd.edu\\afassihizakeri\\Topviewmovies\\ar35motor\\2021_11_02\\Mask97videoL.avi\n",
      "Duration of video [s]:  9.1 , recorded with  40.0 fps!\n",
      "Overall # of frames:  364  found with (before cropping) frame dimensions:  314 700\n",
      "Starting to extract posture\n"
     ]
    },
    {
     "name": "stderr",
     "output_type": "stream",
     "text": [
      "370it [00:41,  8.85it/s]                                                                                               \n"
     ]
    },
    {
     "name": "stdout",
     "output_type": "stream",
     "text": [
      "Saving results in \\\\dk-server.dk.ucsd.edu\\afassihizakeri\\Topviewmovies\\ar35motor\\2021_11_02...\n",
      "Saving csv poses!\n",
      "Starting to analyze %  \\\\dk-server.dk.ucsd.edu\\afassihizakeri\\Topviewmovies\\ar35motor\\2021_11_02\\Mask184videoL.avi\n",
      "\\\\dk-server.dk.ucsd.edu\\afassihizakeri\\Topviewmovies\\ar35motor\\2021_11_02  already exists!\n",
      "Loading  \\\\dk-server.dk.ucsd.edu\\afassihizakeri\\Topviewmovies\\ar35motor\\2021_11_02\\Mask184videoL.avi\n",
      "Duration of video [s]:  12.5 , recorded with  40.0 fps!\n",
      "Overall # of frames:  500  found with (before cropping) frame dimensions:  314 700\n",
      "Starting to extract posture\n"
     ]
    },
    {
     "name": "stderr",
     "output_type": "stream",
     "text": [
      "510it [00:57,  8.89it/s]                                                                                               \n"
     ]
    },
    {
     "name": "stdout",
     "output_type": "stream",
     "text": [
      "Saving results in \\\\dk-server.dk.ucsd.edu\\afassihizakeri\\Topviewmovies\\ar35motor\\2021_11_02...\n",
      "Saving csv poses!\n",
      "Starting to analyze %  \\\\dk-server.dk.ucsd.edu\\afassihizakeri\\Topviewmovies\\ar35motor\\2021_11_02\\Mask52videoL.avi\n",
      "\\\\dk-server.dk.ucsd.edu\\afassihizakeri\\Topviewmovies\\ar35motor\\2021_11_02  already exists!\n",
      "Loading  \\\\dk-server.dk.ucsd.edu\\afassihizakeri\\Topviewmovies\\ar35motor\\2021_11_02\\Mask52videoL.avi\n",
      "Duration of video [s]:  10.3 , recorded with  40.0 fps!\n",
      "Overall # of frames:  412  found with (before cropping) frame dimensions:  314 700\n",
      "Starting to extract posture\n"
     ]
    },
    {
     "name": "stderr",
     "output_type": "stream",
     "text": [
      "420it [00:47,  8.87it/s]                                                                                               \n"
     ]
    },
    {
     "name": "stdout",
     "output_type": "stream",
     "text": [
      "Saving results in \\\\dk-server.dk.ucsd.edu\\afassihizakeri\\Topviewmovies\\ar35motor\\2021_11_02...\n",
      "Saving csv poses!\n",
      "Starting to analyze %  \\\\dk-server.dk.ucsd.edu\\afassihizakeri\\Topviewmovies\\ar35motor\\2021_11_02\\Mask134videoL.avi\n",
      "\\\\dk-server.dk.ucsd.edu\\afassihizakeri\\Topviewmovies\\ar35motor\\2021_11_02  already exists!\n",
      "Loading  \\\\dk-server.dk.ucsd.edu\\afassihizakeri\\Topviewmovies\\ar35motor\\2021_11_02\\Mask134videoL.avi\n",
      "Duration of video [s]:  12.5 , recorded with  40.0 fps!\n",
      "Overall # of frames:  500  found with (before cropping) frame dimensions:  314 700\n",
      "Starting to extract posture\n"
     ]
    },
    {
     "name": "stderr",
     "output_type": "stream",
     "text": [
      "510it [00:57,  8.85it/s]                                                                                               \n"
     ]
    },
    {
     "name": "stdout",
     "output_type": "stream",
     "text": [
      "Saving results in \\\\dk-server.dk.ucsd.edu\\afassihizakeri\\Topviewmovies\\ar35motor\\2021_11_02...\n",
      "Saving csv poses!\n",
      "Starting to analyze %  \\\\dk-server.dk.ucsd.edu\\afassihizakeri\\Topviewmovies\\ar35motor\\2021_11_02\\Mask79videoL.avi\n",
      "\\\\dk-server.dk.ucsd.edu\\afassihizakeri\\Topviewmovies\\ar35motor\\2021_11_02  already exists!\n",
      "Loading  \\\\dk-server.dk.ucsd.edu\\afassihizakeri\\Topviewmovies\\ar35motor\\2021_11_02\\Mask79videoL.avi\n",
      "Duration of video [s]:  6.17 , recorded with  40.0 fps!\n",
      "Overall # of frames:  247  found with (before cropping) frame dimensions:  314 700\n",
      "Starting to extract posture\n"
     ]
    },
    {
     "name": "stderr",
     "output_type": "stream",
     "text": [
      "250it [00:28,  8.71it/s]                                                                                               \n"
     ]
    },
    {
     "name": "stdout",
     "output_type": "stream",
     "text": [
      "Saving results in \\\\dk-server.dk.ucsd.edu\\afassihizakeri\\Topviewmovies\\ar35motor\\2021_11_02...\n",
      "Saving csv poses!\n",
      "Starting to analyze %  \\\\dk-server.dk.ucsd.edu\\afassihizakeri\\Topviewmovies\\ar35motor\\2021_11_02\\Mask27videoL.avi\n",
      "\\\\dk-server.dk.ucsd.edu\\afassihizakeri\\Topviewmovies\\ar35motor\\2021_11_02  already exists!\n",
      "Loading  \\\\dk-server.dk.ucsd.edu\\afassihizakeri\\Topviewmovies\\ar35motor\\2021_11_02\\Mask27videoL.avi\n",
      "Duration of video [s]:  10.8 , recorded with  40.0 fps!\n",
      "Overall # of frames:  432  found with (before cropping) frame dimensions:  314 700\n",
      "Starting to extract posture\n"
     ]
    },
    {
     "name": "stderr",
     "output_type": "stream",
     "text": [
      "440it [00:49,  8.94it/s]                                                                                               \n"
     ]
    },
    {
     "name": "stdout",
     "output_type": "stream",
     "text": [
      "Saving results in \\\\dk-server.dk.ucsd.edu\\afassihizakeri\\Topviewmovies\\ar35motor\\2021_11_02...\n",
      "Saving csv poses!\n",
      "Starting to analyze %  \\\\dk-server.dk.ucsd.edu\\afassihizakeri\\Topviewmovies\\ar35motor\\2021_11_02\\Mask187videoL.avi\n",
      "\\\\dk-server.dk.ucsd.edu\\afassihizakeri\\Topviewmovies\\ar35motor\\2021_11_02  already exists!\n",
      "Loading  \\\\dk-server.dk.ucsd.edu\\afassihizakeri\\Topviewmovies\\ar35motor\\2021_11_02\\Mask187videoL.avi\n",
      "Duration of video [s]:  12.28 , recorded with  40.0 fps!\n",
      "Overall # of frames:  491  found with (before cropping) frame dimensions:  314 700\n",
      "Starting to extract posture\n"
     ]
    },
    {
     "name": "stderr",
     "output_type": "stream",
     "text": [
      "500it [00:57,  8.76it/s]                                                                                               \n"
     ]
    },
    {
     "name": "stdout",
     "output_type": "stream",
     "text": [
      "Saving results in \\\\dk-server.dk.ucsd.edu\\afassihizakeri\\Topviewmovies\\ar35motor\\2021_11_02...\n",
      "Saving csv poses!\n",
      "Starting to analyze %  \\\\dk-server.dk.ucsd.edu\\afassihizakeri\\Topviewmovies\\ar35motor\\2021_11_02\\Mask51videoL.avi\n",
      "\\\\dk-server.dk.ucsd.edu\\afassihizakeri\\Topviewmovies\\ar35motor\\2021_11_02  already exists!\n",
      "Loading  \\\\dk-server.dk.ucsd.edu\\afassihizakeri\\Topviewmovies\\ar35motor\\2021_11_02\\Mask51videoL.avi\n",
      "Duration of video [s]:  10.55 , recorded with  40.0 fps!\n",
      "Overall # of frames:  422  found with (before cropping) frame dimensions:  314 700\n",
      "Starting to extract posture\n"
     ]
    },
    {
     "name": "stderr",
     "output_type": "stream",
     "text": [
      "430it [00:48,  8.91it/s]                                                                                               \n"
     ]
    },
    {
     "name": "stdout",
     "output_type": "stream",
     "text": [
      "Saving results in \\\\dk-server.dk.ucsd.edu\\afassihizakeri\\Topviewmovies\\ar35motor\\2021_11_02...\n",
      "Saving csv poses!\n",
      "Starting to analyze %  \\\\dk-server.dk.ucsd.edu\\afassihizakeri\\Topviewmovies\\ar35motor\\2021_11_02\\Mask142videoL.avi\n",
      "\\\\dk-server.dk.ucsd.edu\\afassihizakeri\\Topviewmovies\\ar35motor\\2021_11_02  already exists!\n",
      "Loading  \\\\dk-server.dk.ucsd.edu\\afassihizakeri\\Topviewmovies\\ar35motor\\2021_11_02\\Mask142videoL.avi\n",
      "Duration of video [s]:  12.5 , recorded with  40.0 fps!\n",
      "Overall # of frames:  500  found with (before cropping) frame dimensions:  314 700\n",
      "Starting to extract posture\n"
     ]
    },
    {
     "name": "stderr",
     "output_type": "stream",
     "text": [
      "510it [00:57,  8.83it/s]                                                                                               \n"
     ]
    },
    {
     "name": "stdout",
     "output_type": "stream",
     "text": [
      "Saving results in \\\\dk-server.dk.ucsd.edu\\afassihizakeri\\Topviewmovies\\ar35motor\\2021_11_02...\n",
      "Saving csv poses!\n",
      "Starting to analyze %  \\\\dk-server.dk.ucsd.edu\\afassihizakeri\\Topviewmovies\\ar35motor\\2021_11_02\\Mask94videoL.avi\n",
      "\\\\dk-server.dk.ucsd.edu\\afassihizakeri\\Topviewmovies\\ar35motor\\2021_11_02  already exists!\n",
      "Loading  \\\\dk-server.dk.ucsd.edu\\afassihizakeri\\Topviewmovies\\ar35motor\\2021_11_02\\Mask94videoL.avi\n",
      "Duration of video [s]:  10.5 , recorded with  40.0 fps!\n",
      "Overall # of frames:  420  found with (before cropping) frame dimensions:  314 700\n",
      "Starting to extract posture\n"
     ]
    },
    {
     "name": "stderr",
     "output_type": "stream",
     "text": [
      "430it [00:48,  8.91it/s]                                                                                               \n"
     ]
    },
    {
     "name": "stdout",
     "output_type": "stream",
     "text": [
      "Saving results in \\\\dk-server.dk.ucsd.edu\\afassihizakeri\\Topviewmovies\\ar35motor\\2021_11_02...\n",
      "Saving csv poses!\n",
      "Starting to analyze %  \\\\dk-server.dk.ucsd.edu\\afassihizakeri\\Topviewmovies\\ar35motor\\2021_11_02\\Mask135videoL.avi\n",
      "\\\\dk-server.dk.ucsd.edu\\afassihizakeri\\Topviewmovies\\ar35motor\\2021_11_02  already exists!\n",
      "Loading  \\\\dk-server.dk.ucsd.edu\\afassihizakeri\\Topviewmovies\\ar35motor\\2021_11_02\\Mask135videoL.avi\n",
      "Duration of video [s]:  12.5 , recorded with  40.0 fps!\n",
      "Overall # of frames:  500  found with (before cropping) frame dimensions:  314 700\n",
      "Starting to extract posture\n"
     ]
    },
    {
     "name": "stderr",
     "output_type": "stream",
     "text": [
      "510it [00:57,  8.88it/s]                                                                                               \n"
     ]
    },
    {
     "name": "stdout",
     "output_type": "stream",
     "text": [
      "Saving results in \\\\dk-server.dk.ucsd.edu\\afassihizakeri\\Topviewmovies\\ar35motor\\2021_11_02...\n",
      "Saving csv poses!\n",
      "Starting to analyze %  \\\\dk-server.dk.ucsd.edu\\afassihizakeri\\Topviewmovies\\ar35motor\\2021_11_02\\Mask26videoL.avi\n",
      "\\\\dk-server.dk.ucsd.edu\\afassihizakeri\\Topviewmovies\\ar35motor\\2021_11_02  already exists!\n",
      "Loading  \\\\dk-server.dk.ucsd.edu\\afassihizakeri\\Topviewmovies\\ar35motor\\2021_11_02\\Mask26videoL.avi\n",
      "Duration of video [s]:  9.6 , recorded with  40.0 fps!\n",
      "Overall # of frames:  384  found with (before cropping) frame dimensions:  314 700\n",
      "Starting to extract posture\n"
     ]
    },
    {
     "name": "stderr",
     "output_type": "stream",
     "text": [
      "390it [00:43,  8.87it/s]                                                                                               \n"
     ]
    },
    {
     "name": "stdout",
     "output_type": "stream",
     "text": [
      "Saving results in \\\\dk-server.dk.ucsd.edu\\afassihizakeri\\Topviewmovies\\ar35motor\\2021_11_02...\n",
      "Saving csv poses!\n",
      "Starting to analyze %  \\\\dk-server.dk.ucsd.edu\\afassihizakeri\\Topviewmovies\\ar35motor\\2021_11_02\\Mask78videoL.avi\n",
      "\\\\dk-server.dk.ucsd.edu\\afassihizakeri\\Topviewmovies\\ar35motor\\2021_11_02  already exists!\n",
      "Loading  \\\\dk-server.dk.ucsd.edu\\afassihizakeri\\Topviewmovies\\ar35motor\\2021_11_02\\Mask78videoL.avi\n",
      "Duration of video [s]:  4.17 , recorded with  40.0 fps!\n",
      "Overall # of frames:  167  found with (before cropping) frame dimensions:  314 700\n",
      "Starting to extract posture\n"
     ]
    },
    {
     "name": "stderr",
     "output_type": "stream",
     "text": [
      "170it [00:19,  8.89it/s]                                                                                               \n"
     ]
    },
    {
     "name": "stdout",
     "output_type": "stream",
     "text": [
      "Saving results in \\\\dk-server.dk.ucsd.edu\\afassihizakeri\\Topviewmovies\\ar35motor\\2021_11_02...\n",
      "Saving csv poses!\n",
      "Starting to analyze %  \\\\dk-server.dk.ucsd.edu\\afassihizakeri\\Topviewmovies\\ar35motor\\2021_11_02\\Mask50videoL.avi\n",
      "\\\\dk-server.dk.ucsd.edu\\afassihizakeri\\Topviewmovies\\ar35motor\\2021_11_02  already exists!\n",
      "Loading  \\\\dk-server.dk.ucsd.edu\\afassihizakeri\\Topviewmovies\\ar35motor\\2021_11_02\\Mask50videoL.avi\n",
      "Duration of video [s]:  10.47 , recorded with  40.0 fps!\n",
      "Overall # of frames:  419  found with (before cropping) frame dimensions:  314 700\n",
      "Starting to extract posture\n"
     ]
    },
    {
     "name": "stderr",
     "output_type": "stream",
     "text": [
      "420it [00:48,  8.67it/s]                                                                                               \n"
     ]
    },
    {
     "name": "stdout",
     "output_type": "stream",
     "text": [
      "Saving results in \\\\dk-server.dk.ucsd.edu\\afassihizakeri\\Topviewmovies\\ar35motor\\2021_11_02...\n",
      "Saving csv poses!\n",
      "Starting to analyze %  \\\\dk-server.dk.ucsd.edu\\afassihizakeri\\Topviewmovies\\ar35motor\\2021_11_02\\Mask186videoL.avi\n",
      "\\\\dk-server.dk.ucsd.edu\\afassihizakeri\\Topviewmovies\\ar35motor\\2021_11_02  already exists!\n",
      "Loading  \\\\dk-server.dk.ucsd.edu\\afassihizakeri\\Topviewmovies\\ar35motor\\2021_11_02\\Mask186videoL.avi\n",
      "Duration of video [s]:  12.47 , recorded with  40.0 fps!\n",
      "Overall # of frames:  499  found with (before cropping) frame dimensions:  314 700\n",
      "Starting to extract posture\n"
     ]
    },
    {
     "name": "stderr",
     "output_type": "stream",
     "text": [
      "500it [00:57,  8.68it/s]                                                                                               \n"
     ]
    },
    {
     "name": "stdout",
     "output_type": "stream",
     "text": [
      "Saving results in \\\\dk-server.dk.ucsd.edu\\afassihizakeri\\Topviewmovies\\ar35motor\\2021_11_02...\n",
      "Saving csv poses!\n",
      "Starting to analyze %  \\\\dk-server.dk.ucsd.edu\\afassihizakeri\\Topviewmovies\\ar35motor\\2021_11_02\\Mask95videoL.avi\n",
      "\\\\dk-server.dk.ucsd.edu\\afassihizakeri\\Topviewmovies\\ar35motor\\2021_11_02  already exists!\n",
      "Loading  \\\\dk-server.dk.ucsd.edu\\afassihizakeri\\Topviewmovies\\ar35motor\\2021_11_02\\Mask95videoL.avi\n",
      "Duration of video [s]:  4.83 , recorded with  40.0 fps!\n",
      "Overall # of frames:  193  found with (before cropping) frame dimensions:  314 700\n",
      "Starting to extract posture\n"
     ]
    },
    {
     "name": "stderr",
     "output_type": "stream",
     "text": [
      "200it [00:22,  8.76it/s]                                                                                               \n"
     ]
    },
    {
     "name": "stdout",
     "output_type": "stream",
     "text": [
      "Saving results in \\\\dk-server.dk.ucsd.edu\\afassihizakeri\\Topviewmovies\\ar35motor\\2021_11_02...\n",
      "Saving csv poses!\n",
      "Starting to analyze %  \\\\dk-server.dk.ucsd.edu\\afassihizakeri\\Topviewmovies\\ar35motor\\2021_11_02\\Mask143videoL.avi\n",
      "\\\\dk-server.dk.ucsd.edu\\afassihizakeri\\Topviewmovies\\ar35motor\\2021_11_02  already exists!\n",
      "Loading  \\\\dk-server.dk.ucsd.edu\\afassihizakeri\\Topviewmovies\\ar35motor\\2021_11_02\\Mask143videoL.avi\n",
      "Duration of video [s]:  12.28 , recorded with  40.0 fps!\n",
      "Overall # of frames:  491  found with (before cropping) frame dimensions:  314 700\n",
      "Starting to extract posture\n"
     ]
    },
    {
     "name": "stderr",
     "output_type": "stream",
     "text": [
      "500it [00:56,  8.81it/s]                                                                                               \n"
     ]
    },
    {
     "name": "stdout",
     "output_type": "stream",
     "text": [
      "Saving results in \\\\dk-server.dk.ucsd.edu\\afassihizakeri\\Topviewmovies\\ar35motor\\2021_11_02...\n",
      "Saving csv poses!\n",
      "Starting to analyze %  \\\\dk-server.dk.ucsd.edu\\afassihizakeri\\Topviewmovies\\ar35motor\\2021_11_02\\Mask151videoL.avi\n",
      "\\\\dk-server.dk.ucsd.edu\\afassihizakeri\\Topviewmovies\\ar35motor\\2021_11_02  already exists!\n",
      "Loading  \\\\dk-server.dk.ucsd.edu\\afassihizakeri\\Topviewmovies\\ar35motor\\2021_11_02\\Mask151videoL.avi\n",
      "Duration of video [s]:  11.93 , recorded with  40.0 fps!\n",
      "Overall # of frames:  477  found with (before cropping) frame dimensions:  314 700\n",
      "Starting to extract posture\n"
     ]
    },
    {
     "name": "stderr",
     "output_type": "stream",
     "text": [
      "480it [00:54,  8.79it/s]                                                                                               \n"
     ]
    },
    {
     "name": "stdout",
     "output_type": "stream",
     "text": [
      "Saving results in \\\\dk-server.dk.ucsd.edu\\afassihizakeri\\Topviewmovies\\ar35motor\\2021_11_02...\n",
      "Saving csv poses!\n",
      "Starting to analyze %  \\\\dk-server.dk.ucsd.edu\\afassihizakeri\\Topviewmovies\\ar35motor\\2021_11_02\\Mask87videoL.avi\n",
      "\\\\dk-server.dk.ucsd.edu\\afassihizakeri\\Topviewmovies\\ar35motor\\2021_11_02  already exists!\n",
      "Loading  \\\\dk-server.dk.ucsd.edu\\afassihizakeri\\Topviewmovies\\ar35motor\\2021_11_02\\Mask87videoL.avi\n",
      "Duration of video [s]:  10.97 , recorded with  40.0 fps!\n",
      "Overall # of frames:  439  found with (before cropping) frame dimensions:  314 700\n",
      "Starting to extract posture\n"
     ]
    },
    {
     "name": "stderr",
     "output_type": "stream",
     "text": [
      "440it [00:50,  8.78it/s]                                                                                               \n"
     ]
    },
    {
     "name": "stdout",
     "output_type": "stream",
     "text": [
      "Saving results in \\\\dk-server.dk.ucsd.edu\\afassihizakeri\\Topviewmovies\\ar35motor\\2021_11_02...\n",
      "Saving csv poses!\n",
      "Starting to analyze %  \\\\dk-server.dk.ucsd.edu\\afassihizakeri\\Topviewmovies\\ar35motor\\2021_11_02\\Mask194videoL.avi\n",
      "\\\\dk-server.dk.ucsd.edu\\afassihizakeri\\Topviewmovies\\ar35motor\\2021_11_02  already exists!\n",
      "Loading  \\\\dk-server.dk.ucsd.edu\\afassihizakeri\\Topviewmovies\\ar35motor\\2021_11_02\\Mask194videoL.avi\n",
      "Duration of video [s]:  5.92 , recorded with  40.0 fps!\n",
      "Overall # of frames:  237  found with (before cropping) frame dimensions:  314 700\n",
      "Starting to extract posture\n"
     ]
    },
    {
     "name": "stderr",
     "output_type": "stream",
     "text": [
      "240it [00:27,  8.78it/s]                                                                                               \n"
     ]
    },
    {
     "name": "stdout",
     "output_type": "stream",
     "text": [
      "Saving results in \\\\dk-server.dk.ucsd.edu\\afassihizakeri\\Topviewmovies\\ar35motor\\2021_11_02...\n",
      "Saving csv poses!\n",
      "Starting to analyze %  \\\\dk-server.dk.ucsd.edu\\afassihizakeri\\Topviewmovies\\ar35motor\\2021_11_02\\Mask42videoL.avi\n",
      "\\\\dk-server.dk.ucsd.edu\\afassihizakeri\\Topviewmovies\\ar35motor\\2021_11_02  already exists!\n",
      "Loading  \\\\dk-server.dk.ucsd.edu\\afassihizakeri\\Topviewmovies\\ar35motor\\2021_11_02\\Mask42videoL.avi\n",
      "Duration of video [s]:  12.5 , recorded with  40.0 fps!\n",
      "Overall # of frames:  500  found with (before cropping) frame dimensions:  314 700\n",
      "Starting to extract posture\n"
     ]
    },
    {
     "name": "stderr",
     "output_type": "stream",
     "text": [
      "510it [00:57,  8.88it/s]                                                                                               \n"
     ]
    },
    {
     "name": "stdout",
     "output_type": "stream",
     "text": [
      "Saving results in \\\\dk-server.dk.ucsd.edu\\afassihizakeri\\Topviewmovies\\ar35motor\\2021_11_02...\n",
      "Saving csv poses!\n",
      "Starting to analyze %  \\\\dk-server.dk.ucsd.edu\\afassihizakeri\\Topviewmovies\\ar35motor\\2021_11_02\\Mask6videoL.avi\n",
      "\\\\dk-server.dk.ucsd.edu\\afassihizakeri\\Topviewmovies\\ar35motor\\2021_11_02  already exists!\n",
      "Loading  \\\\dk-server.dk.ucsd.edu\\afassihizakeri\\Topviewmovies\\ar35motor\\2021_11_02\\Mask6videoL.avi\n",
      "Duration of video [s]:  4.4 , recorded with  40.0 fps!\n",
      "Overall # of frames:  176  found with (before cropping) frame dimensions:  314 700\n",
      "Starting to extract posture\n"
     ]
    },
    {
     "name": "stderr",
     "output_type": "stream",
     "text": [
      "180it [00:20,  8.92it/s]                                                                                               \n"
     ]
    },
    {
     "name": "stdout",
     "output_type": "stream",
     "text": [
      "Saving results in \\\\dk-server.dk.ucsd.edu\\afassihizakeri\\Topviewmovies\\ar35motor\\2021_11_02...\n",
      "Saving csv poses!\n",
      "Starting to analyze %  \\\\dk-server.dk.ucsd.edu\\afassihizakeri\\Topviewmovies\\ar35motor\\2021_11_02\\Mask34videoL.avi\n",
      "\\\\dk-server.dk.ucsd.edu\\afassihizakeri\\Topviewmovies\\ar35motor\\2021_11_02  already exists!\n",
      "Loading  \\\\dk-server.dk.ucsd.edu\\afassihizakeri\\Topviewmovies\\ar35motor\\2021_11_02\\Mask34videoL.avi\n",
      "Duration of video [s]:  11.7 , recorded with  40.0 fps!\n",
      "Overall # of frames:  468  found with (before cropping) frame dimensions:  314 700\n",
      "Starting to extract posture\n"
     ]
    },
    {
     "name": "stderr",
     "output_type": "stream",
     "text": [
      "470it [00:54,  8.68it/s]                                                                                               \n"
     ]
    },
    {
     "name": "stdout",
     "output_type": "stream",
     "text": [
      "Saving results in \\\\dk-server.dk.ucsd.edu\\afassihizakeri\\Topviewmovies\\ar35motor\\2021_11_02...\n",
      "Saving csv poses!\n",
      "Starting to analyze %  \\\\dk-server.dk.ucsd.edu\\afassihizakeri\\Topviewmovies\\ar35motor\\2021_11_02\\Mask127videoL.avi\n",
      "\\\\dk-server.dk.ucsd.edu\\afassihizakeri\\Topviewmovies\\ar35motor\\2021_11_02  already exists!\n",
      "Loading  \\\\dk-server.dk.ucsd.edu\\afassihizakeri\\Topviewmovies\\ar35motor\\2021_11_02\\Mask127videoL.avi\n",
      "Duration of video [s]:  12.45 , recorded with  40.0 fps!\n",
      "Overall # of frames:  498  found with (before cropping) frame dimensions:  314 700\n",
      "Starting to extract posture\n"
     ]
    },
    {
     "name": "stderr",
     "output_type": "stream",
     "text": [
      "500it [00:57,  8.67it/s]                                                                                               \n"
     ]
    },
    {
     "name": "stdout",
     "output_type": "stream",
     "text": [
      "Saving results in \\\\dk-server.dk.ucsd.edu\\afassihizakeri\\Topviewmovies\\ar35motor\\2021_11_02...\n",
      "Saving csv poses!\n",
      "Starting to analyze %  \\\\dk-server.dk.ucsd.edu\\afassihizakeri\\Topviewmovies\\ar35motor\\2021_11_02\\Mask179videoL.avi\n",
      "\\\\dk-server.dk.ucsd.edu\\afassihizakeri\\Topviewmovies\\ar35motor\\2021_11_02  already exists!\n",
      "Loading  \\\\dk-server.dk.ucsd.edu\\afassihizakeri\\Topviewmovies\\ar35motor\\2021_11_02\\Mask179videoL.avi\n",
      "Duration of video [s]:  10.88 , recorded with  40.0 fps!\n",
      "Overall # of frames:  435  found with (before cropping) frame dimensions:  314 700\n",
      "Starting to extract posture\n"
     ]
    },
    {
     "name": "stderr",
     "output_type": "stream",
     "text": [
      "440it [00:50,  8.77it/s]                                                                                               \n"
     ]
    },
    {
     "name": "stdout",
     "output_type": "stream",
     "text": [
      "Saving results in \\\\dk-server.dk.ucsd.edu\\afassihizakeri\\Topviewmovies\\ar35motor\\2021_11_02...\n",
      "Saving csv poses!\n",
      "Starting to analyze %  \\\\dk-server.dk.ucsd.edu\\afassihizakeri\\Topviewmovies\\ar35motor\\2021_11_02\\Mask86videoL.avi\n",
      "\\\\dk-server.dk.ucsd.edu\\afassihizakeri\\Topviewmovies\\ar35motor\\2021_11_02  already exists!\n",
      "Loading  \\\\dk-server.dk.ucsd.edu\\afassihizakeri\\Topviewmovies\\ar35motor\\2021_11_02\\Mask86videoL.avi\n",
      "Duration of video [s]:  11.05 , recorded with  40.0 fps!\n",
      "Overall # of frames:  442  found with (before cropping) frame dimensions:  314 700\n",
      "Starting to extract posture\n"
     ]
    },
    {
     "name": "stderr",
     "output_type": "stream",
     "text": [
      "450it [00:51,  8.73it/s]                                                                                               \n"
     ]
    },
    {
     "name": "stdout",
     "output_type": "stream",
     "text": [
      "Saving results in \\\\dk-server.dk.ucsd.edu\\afassihizakeri\\Topviewmovies\\ar35motor\\2021_11_02...\n",
      "Saving csv poses!\n",
      "Starting to analyze %  \\\\dk-server.dk.ucsd.edu\\afassihizakeri\\Topviewmovies\\ar35motor\\2021_11_02\\Mask150videoL.avi\n",
      "\\\\dk-server.dk.ucsd.edu\\afassihizakeri\\Topviewmovies\\ar35motor\\2021_11_02  already exists!\n",
      "Loading  \\\\dk-server.dk.ucsd.edu\\afassihizakeri\\Topviewmovies\\ar35motor\\2021_11_02\\Mask150videoL.avi\n",
      "Duration of video [s]:  4.08 , recorded with  40.0 fps!\n",
      "Overall # of frames:  163  found with (before cropping) frame dimensions:  314 700\n",
      "Starting to extract posture\n"
     ]
    },
    {
     "name": "stderr",
     "output_type": "stream",
     "text": [
      "170it [00:19,  8.83it/s]                                                                                               \n"
     ]
    },
    {
     "name": "stdout",
     "output_type": "stream",
     "text": [
      "Saving results in \\\\dk-server.dk.ucsd.edu\\afassihizakeri\\Topviewmovies\\ar35motor\\2021_11_02...\n",
      "Saving csv poses!\n",
      "Starting to analyze %  \\\\dk-server.dk.ucsd.edu\\afassihizakeri\\Topviewmovies\\ar35motor\\2021_11_02\\Mask7videoL.avi\n",
      "\\\\dk-server.dk.ucsd.edu\\afassihizakeri\\Topviewmovies\\ar35motor\\2021_11_02  already exists!\n",
      "Loading  \\\\dk-server.dk.ucsd.edu\\afassihizakeri\\Topviewmovies\\ar35motor\\2021_11_02\\Mask7videoL.avi\n",
      "Duration of video [s]:  11.6 , recorded with  40.0 fps!\n",
      "Overall # of frames:  464  found with (before cropping) frame dimensions:  314 700\n",
      "Starting to extract posture\n"
     ]
    },
    {
     "name": "stderr",
     "output_type": "stream",
     "text": [
      "470it [00:53,  8.87it/s]                                                                                               \n"
     ]
    },
    {
     "name": "stdout",
     "output_type": "stream",
     "text": [
      "Saving results in \\\\dk-server.dk.ucsd.edu\\afassihizakeri\\Topviewmovies\\ar35motor\\2021_11_02...\n",
      "Saving csv poses!\n",
      "Starting to analyze %  \\\\dk-server.dk.ucsd.edu\\afassihizakeri\\Topviewmovies\\ar35motor\\2021_11_02\\Mask43videoL.avi\n",
      "\\\\dk-server.dk.ucsd.edu\\afassihizakeri\\Topviewmovies\\ar35motor\\2021_11_02  already exists!\n",
      "Loading  \\\\dk-server.dk.ucsd.edu\\afassihizakeri\\Topviewmovies\\ar35motor\\2021_11_02\\Mask43videoL.avi\n",
      "Duration of video [s]:  12.05 , recorded with  40.0 fps!\n",
      "Overall # of frames:  482  found with (before cropping) frame dimensions:  314 700\n",
      "Starting to extract posture\n"
     ]
    },
    {
     "name": "stderr",
     "output_type": "stream",
     "text": [
      "490it [00:55,  8.78it/s]                                                                                               \n"
     ]
    },
    {
     "name": "stdout",
     "output_type": "stream",
     "text": [
      "Saving results in \\\\dk-server.dk.ucsd.edu\\afassihizakeri\\Topviewmovies\\ar35motor\\2021_11_02...\n",
      "Saving csv poses!\n",
      "Starting to analyze %  \\\\dk-server.dk.ucsd.edu\\afassihizakeri\\Topviewmovies\\ar35motor\\2021_11_02\\Mask195videoL.avi\n",
      "\\\\dk-server.dk.ucsd.edu\\afassihizakeri\\Topviewmovies\\ar35motor\\2021_11_02  already exists!\n",
      "Loading  \\\\dk-server.dk.ucsd.edu\\afassihizakeri\\Topviewmovies\\ar35motor\\2021_11_02\\Mask195videoL.avi\n",
      "Duration of video [s]:  12.5 , recorded with  40.0 fps!\n",
      "Overall # of frames:  500  found with (before cropping) frame dimensions:  314 700\n",
      "Starting to extract posture\n"
     ]
    },
    {
     "name": "stderr",
     "output_type": "stream",
     "text": [
      "510it [00:58,  8.74it/s]                                                                                               \n"
     ]
    },
    {
     "name": "stdout",
     "output_type": "stream",
     "text": [
      "Saving results in \\\\dk-server.dk.ucsd.edu\\afassihizakeri\\Topviewmovies\\ar35motor\\2021_11_02...\n",
      "Saving csv poses!\n",
      "Starting to analyze %  \\\\dk-server.dk.ucsd.edu\\afassihizakeri\\Topviewmovies\\ar35motor\\2021_11_02\\Mask35videoL.avi\n",
      "\\\\dk-server.dk.ucsd.edu\\afassihizakeri\\Topviewmovies\\ar35motor\\2021_11_02  already exists!\n",
      "Loading  \\\\dk-server.dk.ucsd.edu\\afassihizakeri\\Topviewmovies\\ar35motor\\2021_11_02\\Mask35videoL.avi\n",
      "Duration of video [s]:  11.93 , recorded with  40.0 fps!\n",
      "Overall # of frames:  477  found with (before cropping) frame dimensions:  314 700\n",
      "Starting to extract posture\n"
     ]
    },
    {
     "name": "stderr",
     "output_type": "stream",
     "text": [
      "480it [00:55,  8.71it/s]                                                                                               \n"
     ]
    },
    {
     "name": "stdout",
     "output_type": "stream",
     "text": [
      "Saving results in \\\\dk-server.dk.ucsd.edu\\afassihizakeri\\Topviewmovies\\ar35motor\\2021_11_02...\n",
      "Saving csv poses!\n",
      "Starting to analyze %  \\\\dk-server.dk.ucsd.edu\\afassihizakeri\\Topviewmovies\\ar35motor\\2021_11_02\\Mask178videoL.avi\n",
      "\\\\dk-server.dk.ucsd.edu\\afassihizakeri\\Topviewmovies\\ar35motor\\2021_11_02  already exists!\n",
      "Loading  \\\\dk-server.dk.ucsd.edu\\afassihizakeri\\Topviewmovies\\ar35motor\\2021_11_02\\Mask178videoL.avi\n",
      "Duration of video [s]:  11.9 , recorded with  40.0 fps!\n",
      "Overall # of frames:  476  found with (before cropping) frame dimensions:  314 700\n",
      "Starting to extract posture\n"
     ]
    },
    {
     "name": "stderr",
     "output_type": "stream",
     "text": [
      "480it [00:55,  8.68it/s]                                                                                               \n"
     ]
    },
    {
     "name": "stdout",
     "output_type": "stream",
     "text": [
      "Saving results in \\\\dk-server.dk.ucsd.edu\\afassihizakeri\\Topviewmovies\\ar35motor\\2021_11_02...\n",
      "Saving csv poses!\n",
      "Starting to analyze %  \\\\dk-server.dk.ucsd.edu\\afassihizakeri\\Topviewmovies\\ar35motor\\2021_11_02\\Mask126videoL.avi\n",
      "\\\\dk-server.dk.ucsd.edu\\afassihizakeri\\Topviewmovies\\ar35motor\\2021_11_02  already exists!\n",
      "Loading  \\\\dk-server.dk.ucsd.edu\\afassihizakeri\\Topviewmovies\\ar35motor\\2021_11_02\\Mask126videoL.avi\n",
      "Duration of video [s]:  10.88 , recorded with  40.0 fps!\n",
      "Overall # of frames:  435  found with (before cropping) frame dimensions:  314 700\n",
      "Starting to extract posture\n"
     ]
    },
    {
     "name": "stderr",
     "output_type": "stream",
     "text": [
      "440it [00:50,  8.76it/s]                                                                                               \n"
     ]
    },
    {
     "name": "stdout",
     "output_type": "stream",
     "text": [
      "Saving results in \\\\dk-server.dk.ucsd.edu\\afassihizakeri\\Topviewmovies\\ar35motor\\2021_11_02...\n",
      "Saving csv poses!\n",
      "Starting to analyze %  \\\\dk-server.dk.ucsd.edu\\afassihizakeri\\Topviewmovies\\ar35motor\\2021_11_02\\Mask40videoL.avi\n",
      "\\\\dk-server.dk.ucsd.edu\\afassihizakeri\\Topviewmovies\\ar35motor\\2021_11_02  already exists!\n",
      "Loading  \\\\dk-server.dk.ucsd.edu\\afassihizakeri\\Topviewmovies\\ar35motor\\2021_11_02\\Mask40videoL.avi\n",
      "Duration of video [s]:  6.2 , recorded with  40.0 fps!\n",
      "Overall # of frames:  248  found with (before cropping) frame dimensions:  314 700\n",
      "Starting to extract posture\n"
     ]
    },
    {
     "name": "stderr",
     "output_type": "stream",
     "text": [
      "250it [00:28,  8.80it/s]                                                                                               \n"
     ]
    },
    {
     "name": "stdout",
     "output_type": "stream",
     "text": [
      "Saving results in \\\\dk-server.dk.ucsd.edu\\afassihizakeri\\Topviewmovies\\ar35motor\\2021_11_02...\n",
      "Saving csv poses!\n",
      "Starting to analyze %  \\\\dk-server.dk.ucsd.edu\\afassihizakeri\\Topviewmovies\\ar35motor\\2021_11_02\\Mask4videoL.avi\n",
      "\\\\dk-server.dk.ucsd.edu\\afassihizakeri\\Topviewmovies\\ar35motor\\2021_11_02  already exists!\n",
      "Loading  \\\\dk-server.dk.ucsd.edu\\afassihizakeri\\Topviewmovies\\ar35motor\\2021_11_02\\Mask4videoL.avi\n",
      "Duration of video [s]:  9.5 , recorded with  40.0 fps!\n",
      "Overall # of frames:  380  found with (before cropping) frame dimensions:  314 700\n",
      "Starting to extract posture\n"
     ]
    },
    {
     "name": "stderr",
     "output_type": "stream",
     "text": [
      "390it [00:44,  8.83it/s]                                                                                               \n"
     ]
    },
    {
     "name": "stdout",
     "output_type": "stream",
     "text": [
      "Saving results in \\\\dk-server.dk.ucsd.edu\\afassihizakeri\\Topviewmovies\\ar35motor\\2021_11_02...\n",
      "Saving csv poses!\n",
      "Starting to analyze %  \\\\dk-server.dk.ucsd.edu\\afassihizakeri\\Topviewmovies\\ar35motor\\2021_11_02\\Mask196videoL.avi\n",
      "\\\\dk-server.dk.ucsd.edu\\afassihizakeri\\Topviewmovies\\ar35motor\\2021_11_02  already exists!\n",
      "Loading  \\\\dk-server.dk.ucsd.edu\\afassihizakeri\\Topviewmovies\\ar35motor\\2021_11_02\\Mask196videoL.avi\n",
      "Duration of video [s]:  12.28 , recorded with  40.0 fps!\n",
      "Overall # of frames:  491  found with (before cropping) frame dimensions:  314 700\n",
      "Starting to extract posture\n"
     ]
    },
    {
     "name": "stderr",
     "output_type": "stream",
     "text": [
      "500it [00:57,  8.73it/s]                                                                                               \n"
     ]
    },
    {
     "name": "stdout",
     "output_type": "stream",
     "text": [
      "Saving results in \\\\dk-server.dk.ucsd.edu\\afassihizakeri\\Topviewmovies\\ar35motor\\2021_11_02...\n",
      "Saving csv poses!\n",
      "Starting to analyze %  \\\\dk-server.dk.ucsd.edu\\afassihizakeri\\Topviewmovies\\ar35motor\\2021_11_02\\Mask85videoL.avi\n",
      "\\\\dk-server.dk.ucsd.edu\\afassihizakeri\\Topviewmovies\\ar35motor\\2021_11_02  already exists!\n",
      "Loading  \\\\dk-server.dk.ucsd.edu\\afassihizakeri\\Topviewmovies\\ar35motor\\2021_11_02\\Mask85videoL.avi\n",
      "Duration of video [s]:  12.5 , recorded with  40.0 fps!\n",
      "Overall # of frames:  500  found with (before cropping) frame dimensions:  314 700\n",
      "Starting to extract posture\n"
     ]
    },
    {
     "name": "stderr",
     "output_type": "stream",
     "text": [
      "510it [00:57,  8.86it/s]                                                                                               \n"
     ]
    },
    {
     "name": "stdout",
     "output_type": "stream",
     "text": [
      "Saving results in \\\\dk-server.dk.ucsd.edu\\afassihizakeri\\Topviewmovies\\ar35motor\\2021_11_02...\n",
      "Saving csv poses!\n",
      "Starting to analyze %  \\\\dk-server.dk.ucsd.edu\\afassihizakeri\\Topviewmovies\\ar35motor\\2021_11_02\\Mask153videoL.avi\n",
      "\\\\dk-server.dk.ucsd.edu\\afassihizakeri\\Topviewmovies\\ar35motor\\2021_11_02  already exists!\n",
      "Loading  \\\\dk-server.dk.ucsd.edu\\afassihizakeri\\Topviewmovies\\ar35motor\\2021_11_02\\Mask153videoL.avi\n",
      "Duration of video [s]:  11.47 , recorded with  40.0 fps!\n",
      "Overall # of frames:  459  found with (before cropping) frame dimensions:  314 700\n",
      "Starting to extract posture\n"
     ]
    },
    {
     "name": "stderr",
     "output_type": "stream",
     "text": [
      "460it [00:53,  8.64it/s]                                                                                               \n"
     ]
    },
    {
     "name": "stdout",
     "output_type": "stream",
     "text": [
      "Saving results in \\\\dk-server.dk.ucsd.edu\\afassihizakeri\\Topviewmovies\\ar35motor\\2021_11_02...\n",
      "Saving csv poses!\n",
      "Starting to analyze %  \\\\dk-server.dk.ucsd.edu\\afassihizakeri\\Topviewmovies\\ar35motor\\2021_11_02\\Mask125videoL.avi\n",
      "\\\\dk-server.dk.ucsd.edu\\afassihizakeri\\Topviewmovies\\ar35motor\\2021_11_02  already exists!\n",
      "Loading  \\\\dk-server.dk.ucsd.edu\\afassihizakeri\\Topviewmovies\\ar35motor\\2021_11_02\\Mask125videoL.avi\n",
      "Duration of video [s]:  12.5 , recorded with  40.0 fps!\n",
      "Overall # of frames:  500  found with (before cropping) frame dimensions:  314 700\n",
      "Starting to extract posture\n"
     ]
    },
    {
     "name": "stderr",
     "output_type": "stream",
     "text": [
      "510it [00:58,  8.78it/s]                                                                                               \n"
     ]
    },
    {
     "name": "stdout",
     "output_type": "stream",
     "text": [
      "Saving results in \\\\dk-server.dk.ucsd.edu\\afassihizakeri\\Topviewmovies\\ar35motor\\2021_11_02...\n",
      "Saving csv poses!\n",
      "Starting to analyze %  \\\\dk-server.dk.ucsd.edu\\afassihizakeri\\Topviewmovies\\ar35motor\\2021_11_02\\Mask36videoL.avi\n",
      "\\\\dk-server.dk.ucsd.edu\\afassihizakeri\\Topviewmovies\\ar35motor\\2021_11_02  already exists!\n",
      "Loading  \\\\dk-server.dk.ucsd.edu\\afassihizakeri\\Topviewmovies\\ar35motor\\2021_11_02\\Mask36videoL.avi\n",
      "Duration of video [s]:  10.88 , recorded with  40.0 fps!\n",
      "Overall # of frames:  435  found with (before cropping) frame dimensions:  314 700\n",
      "Starting to extract posture\n"
     ]
    },
    {
     "name": "stderr",
     "output_type": "stream",
     "text": [
      "440it [00:50,  8.74it/s]                                                                                               \n"
     ]
    },
    {
     "name": "stdout",
     "output_type": "stream",
     "text": [
      "Saving results in \\\\dk-server.dk.ucsd.edu\\afassihizakeri\\Topviewmovies\\ar35motor\\2021_11_02...\n",
      "Saving csv poses!\n",
      "Starting to analyze %  \\\\dk-server.dk.ucsd.edu\\afassihizakeri\\Topviewmovies\\ar35motor\\2021_11_02\\Mask68videoL.avi\n",
      "\\\\dk-server.dk.ucsd.edu\\afassihizakeri\\Topviewmovies\\ar35motor\\2021_11_02  already exists!\n",
      "Loading  \\\\dk-server.dk.ucsd.edu\\afassihizakeri\\Topviewmovies\\ar35motor\\2021_11_02\\Mask68videoL.avi\n",
      "Duration of video [s]:  8.38 , recorded with  40.0 fps!\n",
      "Overall # of frames:  335  found with (before cropping) frame dimensions:  314 700\n",
      "Starting to extract posture\n"
     ]
    },
    {
     "name": "stderr",
     "output_type": "stream",
     "text": [
      "340it [00:38,  8.82it/s]                                                                                               \n"
     ]
    },
    {
     "name": "stdout",
     "output_type": "stream",
     "text": [
      "Saving results in \\\\dk-server.dk.ucsd.edu\\afassihizakeri\\Topviewmovies\\ar35motor\\2021_11_02...\n",
      "Saving csv poses!\n",
      "Starting to analyze %  \\\\dk-server.dk.ucsd.edu\\afassihizakeri\\Topviewmovies\\ar35motor\\2021_11_02\\Mask197videoL.avi\n",
      "\\\\dk-server.dk.ucsd.edu\\afassihizakeri\\Topviewmovies\\ar35motor\\2021_11_02  already exists!\n",
      "Loading  \\\\dk-server.dk.ucsd.edu\\afassihizakeri\\Topviewmovies\\ar35motor\\2021_11_02\\Mask197videoL.avi\n",
      "Duration of video [s]:  12.5 , recorded with  40.0 fps!\n",
      "Overall # of frames:  500  found with (before cropping) frame dimensions:  314 700\n",
      "Starting to extract posture\n"
     ]
    },
    {
     "name": "stderr",
     "output_type": "stream",
     "text": [
      "510it [00:57,  8.87it/s]                                                                                               \n"
     ]
    },
    {
     "name": "stdout",
     "output_type": "stream",
     "text": [
      "Saving results in \\\\dk-server.dk.ucsd.edu\\afassihizakeri\\Topviewmovies\\ar35motor\\2021_11_02...\n",
      "Saving csv poses!\n",
      "Starting to analyze %  \\\\dk-server.dk.ucsd.edu\\afassihizakeri\\Topviewmovies\\ar35motor\\2021_11_02\\Mask5videoL.avi\n",
      "\\\\dk-server.dk.ucsd.edu\\afassihizakeri\\Topviewmovies\\ar35motor\\2021_11_02  already exists!\n",
      "Loading  \\\\dk-server.dk.ucsd.edu\\afassihizakeri\\Topviewmovies\\ar35motor\\2021_11_02\\Mask5videoL.avi\n",
      "Duration of video [s]:  10.18 , recorded with  40.0 fps!\n",
      "Overall # of frames:  407  found with (before cropping) frame dimensions:  314 700\n",
      "Starting to extract posture\n"
     ]
    },
    {
     "name": "stderr",
     "output_type": "stream",
     "text": [
      "410it [00:46,  8.76it/s]                                                                                               \n"
     ]
    },
    {
     "name": "stdout",
     "output_type": "stream",
     "text": [
      "Saving results in \\\\dk-server.dk.ucsd.edu\\afassihizakeri\\Topviewmovies\\ar35motor\\2021_11_02...\n",
      "Saving csv poses!\n",
      "Starting to analyze %  \\\\dk-server.dk.ucsd.edu\\afassihizakeri\\Topviewmovies\\ar35motor\\2021_11_02\\Mask41videoL.avi\n",
      "\\\\dk-server.dk.ucsd.edu\\afassihizakeri\\Topviewmovies\\ar35motor\\2021_11_02  already exists!\n",
      "Loading  \\\\dk-server.dk.ucsd.edu\\afassihizakeri\\Topviewmovies\\ar35motor\\2021_11_02\\Mask41videoL.avi\n",
      "Duration of video [s]:  5.6 , recorded with  40.0 fps!\n",
      "Overall # of frames:  224  found with (before cropping) frame dimensions:  314 700\n",
      "Starting to extract posture\n"
     ]
    },
    {
     "name": "stderr",
     "output_type": "stream",
     "text": [
      "230it [00:25,  8.96it/s]                                                                                               \n"
     ]
    },
    {
     "name": "stdout",
     "output_type": "stream",
     "text": [
      "Saving results in \\\\dk-server.dk.ucsd.edu\\afassihizakeri\\Topviewmovies\\ar35motor\\2021_11_02...\n",
      "Saving csv poses!\n",
      "Starting to analyze %  \\\\dk-server.dk.ucsd.edu\\afassihizakeri\\Topviewmovies\\ar35motor\\2021_11_02\\Mask152videoL.avi\n",
      "\\\\dk-server.dk.ucsd.edu\\afassihizakeri\\Topviewmovies\\ar35motor\\2021_11_02  already exists!\n",
      "Loading  \\\\dk-server.dk.ucsd.edu\\afassihizakeri\\Topviewmovies\\ar35motor\\2021_11_02\\Mask152videoL.avi\n",
      "Duration of video [s]:  3.88 , recorded with  40.0 fps!\n",
      "Overall # of frames:  155  found with (before cropping) frame dimensions:  314 700\n",
      "Starting to extract posture\n"
     ]
    },
    {
     "name": "stderr",
     "output_type": "stream",
     "text": [
      "160it [00:18,  8.72it/s]                                                                                               \n"
     ]
    },
    {
     "name": "stdout",
     "output_type": "stream",
     "text": [
      "Saving results in \\\\dk-server.dk.ucsd.edu\\afassihizakeri\\Topviewmovies\\ar35motor\\2021_11_02...\n",
      "Saving csv poses!\n",
      "Starting to analyze %  \\\\dk-server.dk.ucsd.edu\\afassihizakeri\\Topviewmovies\\ar35motor\\2021_11_02\\Mask84videoL.avi\n",
      "\\\\dk-server.dk.ucsd.edu\\afassihizakeri\\Topviewmovies\\ar35motor\\2021_11_02  already exists!\n",
      "Loading  \\\\dk-server.dk.ucsd.edu\\afassihizakeri\\Topviewmovies\\ar35motor\\2021_11_02\\Mask84videoL.avi\n",
      "Duration of video [s]:  12.5 , recorded with  40.0 fps!\n",
      "Overall # of frames:  500  found with (before cropping) frame dimensions:  314 700\n",
      "Starting to extract posture\n"
     ]
    },
    {
     "name": "stderr",
     "output_type": "stream",
     "text": [
      "510it [00:57,  8.83it/s]                                                                                               \n"
     ]
    },
    {
     "name": "stdout",
     "output_type": "stream",
     "text": [
      "Saving results in \\\\dk-server.dk.ucsd.edu\\afassihizakeri\\Topviewmovies\\ar35motor\\2021_11_02...\n",
      "Saving csv poses!\n",
      "Starting to analyze %  \\\\dk-server.dk.ucsd.edu\\afassihizakeri\\Topviewmovies\\ar35motor\\2021_11_02\\Mask124videoL.avi\n",
      "\\\\dk-server.dk.ucsd.edu\\afassihizakeri\\Topviewmovies\\ar35motor\\2021_11_02  already exists!\n",
      "Loading  \\\\dk-server.dk.ucsd.edu\\afassihizakeri\\Topviewmovies\\ar35motor\\2021_11_02\\Mask124videoL.avi\n",
      "Duration of video [s]:  12.25 , recorded with  40.0 fps!\n",
      "Overall # of frames:  490  found with (before cropping) frame dimensions:  314 700\n",
      "Starting to extract posture\n"
     ]
    },
    {
     "name": "stderr",
     "output_type": "stream",
     "text": [
      "500it [00:56,  8.78it/s]                                                                                               \n"
     ]
    },
    {
     "name": "stdout",
     "output_type": "stream",
     "text": [
      "Saving results in \\\\dk-server.dk.ucsd.edu\\afassihizakeri\\Topviewmovies\\ar35motor\\2021_11_02...\n",
      "Saving csv poses!\n",
      "Starting to analyze %  \\\\dk-server.dk.ucsd.edu\\afassihizakeri\\Topviewmovies\\ar35motor\\2021_11_02\\Mask69videoL.avi\n",
      "\\\\dk-server.dk.ucsd.edu\\afassihizakeri\\Topviewmovies\\ar35motor\\2021_11_02  already exists!\n",
      "Loading  \\\\dk-server.dk.ucsd.edu\\afassihizakeri\\Topviewmovies\\ar35motor\\2021_11_02\\Mask69videoL.avi\n",
      "Duration of video [s]:  12.5 , recorded with  40.0 fps!\n",
      "Overall # of frames:  500  found with (before cropping) frame dimensions:  314 700\n",
      "Starting to extract posture\n"
     ]
    },
    {
     "name": "stderr",
     "output_type": "stream",
     "text": [
      "510it [00:57,  8.86it/s]                                                                                               \n"
     ]
    },
    {
     "name": "stdout",
     "output_type": "stream",
     "text": [
      "Saving results in \\\\dk-server.dk.ucsd.edu\\afassihizakeri\\Topviewmovies\\ar35motor\\2021_11_02...\n",
      "Saving csv poses!\n",
      "Starting to analyze %  \\\\dk-server.dk.ucsd.edu\\afassihizakeri\\Topviewmovies\\ar35motor\\2021_11_02\\Mask37videoL.avi\n",
      "\\\\dk-server.dk.ucsd.edu\\afassihizakeri\\Topviewmovies\\ar35motor\\2021_11_02  already exists!\n",
      "Loading  \\\\dk-server.dk.ucsd.edu\\afassihizakeri\\Topviewmovies\\ar35motor\\2021_11_02\\Mask37videoL.avi\n",
      "Duration of video [s]:  12.5 , recorded with  40.0 fps!\n",
      "Overall # of frames:  500  found with (before cropping) frame dimensions:  314 700\n",
      "Starting to extract posture\n"
     ]
    },
    {
     "name": "stderr",
     "output_type": "stream",
     "text": [
      "510it [00:57,  8.86it/s]                                                                                               \n"
     ]
    },
    {
     "name": "stdout",
     "output_type": "stream",
     "text": [
      "Saving results in \\\\dk-server.dk.ucsd.edu\\afassihizakeri\\Topviewmovies\\ar35motor\\2021_11_02...\n",
      "Saving csv poses!\n",
      "Starting to analyze %  \\\\dk-server.dk.ucsd.edu\\afassihizakeri\\Topviewmovies\\ar35motor\\2021_11_02\\Mask123videoL.avi\n",
      "\\\\dk-server.dk.ucsd.edu\\afassihizakeri\\Topviewmovies\\ar35motor\\2021_11_02  already exists!\n",
      "Loading  \\\\dk-server.dk.ucsd.edu\\afassihizakeri\\Topviewmovies\\ar35motor\\2021_11_02\\Mask123videoL.avi\n",
      "Duration of video [s]:  12.5 , recorded with  40.0 fps!\n",
      "Overall # of frames:  500  found with (before cropping) frame dimensions:  314 700\n",
      "Starting to extract posture\n"
     ]
    },
    {
     "name": "stderr",
     "output_type": "stream",
     "text": [
      "510it [00:57,  8.83it/s]                                                                                               \n"
     ]
    },
    {
     "name": "stdout",
     "output_type": "stream",
     "text": [
      "Saving results in \\\\dk-server.dk.ucsd.edu\\afassihizakeri\\Topviewmovies\\ar35motor\\2021_11_02...\n",
      "Saving csv poses!\n",
      "Starting to analyze %  \\\\dk-server.dk.ucsd.edu\\afassihizakeri\\Topviewmovies\\ar35motor\\2021_11_02\\Mask30videoL.avi\n",
      "\\\\dk-server.dk.ucsd.edu\\afassihizakeri\\Topviewmovies\\ar35motor\\2021_11_02  already exists!\n",
      "Loading  \\\\dk-server.dk.ucsd.edu\\afassihizakeri\\Topviewmovies\\ar35motor\\2021_11_02\\Mask30videoL.avi\n",
      "Duration of video [s]:  12.32 , recorded with  40.0 fps!\n",
      "Overall # of frames:  493  found with (before cropping) frame dimensions:  314 700\n",
      "Starting to extract posture\n"
     ]
    },
    {
     "name": "stderr",
     "output_type": "stream",
     "text": [
      "500it [00:56,  8.78it/s]                                                                                               \n"
     ]
    },
    {
     "name": "stdout",
     "output_type": "stream",
     "text": [
      "Saving results in \\\\dk-server.dk.ucsd.edu\\afassihizakeri\\Topviewmovies\\ar35motor\\2021_11_02...\n",
      "Saving csv poses!\n",
      "Starting to analyze %  \\\\dk-server.dk.ucsd.edu\\afassihizakeri\\Topviewmovies\\ar35motor\\2021_11_02\\Mask18videoL.avi\n",
      "\\\\dk-server.dk.ucsd.edu\\afassihizakeri\\Topviewmovies\\ar35motor\\2021_11_02  already exists!\n",
      "Loading  \\\\dk-server.dk.ucsd.edu\\afassihizakeri\\Topviewmovies\\ar35motor\\2021_11_02\\Mask18videoL.avi\n",
      "Duration of video [s]:  9.88 , recorded with  40.0 fps!\n",
      "Overall # of frames:  395  found with (before cropping) frame dimensions:  314 700\n",
      "Starting to extract posture\n"
     ]
    },
    {
     "name": "stderr",
     "output_type": "stream",
     "text": [
      "400it [00:45,  8.72it/s]                                                                                               \n"
     ]
    },
    {
     "name": "stdout",
     "output_type": "stream",
     "text": [
      "Saving results in \\\\dk-server.dk.ucsd.edu\\afassihizakeri\\Topviewmovies\\ar35motor\\2021_11_02...\n",
      "Saving csv poses!\n",
      "Starting to analyze %  \\\\dk-server.dk.ucsd.edu\\afassihizakeri\\Topviewmovies\\ar35motor\\2021_11_02\\Mask190videoL.avi\n",
      "\\\\dk-server.dk.ucsd.edu\\afassihizakeri\\Topviewmovies\\ar35motor\\2021_11_02  already exists!\n",
      "Loading  \\\\dk-server.dk.ucsd.edu\\afassihizakeri\\Topviewmovies\\ar35motor\\2021_11_02\\Mask190videoL.avi\n",
      "Duration of video [s]:  12.5 , recorded with  40.0 fps!\n",
      "Overall # of frames:  500  found with (before cropping) frame dimensions:  314 700\n",
      "Starting to extract posture\n"
     ]
    },
    {
     "name": "stderr",
     "output_type": "stream",
     "text": [
      "510it [00:57,  8.86it/s]                                                                                               \n"
     ]
    },
    {
     "name": "stdout",
     "output_type": "stream",
     "text": [
      "Saving results in \\\\dk-server.dk.ucsd.edu\\afassihizakeri\\Topviewmovies\\ar35motor\\2021_11_02...\n",
      "Saving csv poses!\n",
      "Starting to analyze %  \\\\dk-server.dk.ucsd.edu\\afassihizakeri\\Topviewmovies\\ar35motor\\2021_11_02\\Mask2videoL.avi\n",
      "\\\\dk-server.dk.ucsd.edu\\afassihizakeri\\Topviewmovies\\ar35motor\\2021_11_02  already exists!\n",
      "Loading  \\\\dk-server.dk.ucsd.edu\\afassihizakeri\\Topviewmovies\\ar35motor\\2021_11_02\\Mask2videoL.avi\n",
      "Duration of video [s]:  5.03 , recorded with  40.0 fps!\n",
      "Overall # of frames:  201  found with (before cropping) frame dimensions:  314 700\n",
      "Starting to extract posture\n"
     ]
    },
    {
     "name": "stderr",
     "output_type": "stream",
     "text": [
      "210it [00:23,  8.77it/s]                                                                                               \n"
     ]
    },
    {
     "name": "stdout",
     "output_type": "stream",
     "text": [
      "Saving results in \\\\dk-server.dk.ucsd.edu\\afassihizakeri\\Topviewmovies\\ar35motor\\2021_11_02...\n",
      "Saving csv poses!\n",
      "Starting to analyze %  \\\\dk-server.dk.ucsd.edu\\afassihizakeri\\Topviewmovies\\ar35motor\\2021_11_02\\Mask46videoL.avi\n",
      "\\\\dk-server.dk.ucsd.edu\\afassihizakeri\\Topviewmovies\\ar35motor\\2021_11_02  already exists!\n",
      "Loading  \\\\dk-server.dk.ucsd.edu\\afassihizakeri\\Topviewmovies\\ar35motor\\2021_11_02\\Mask46videoL.avi\n",
      "Duration of video [s]:  12.5 , recorded with  40.0 fps!\n",
      "Overall # of frames:  500  found with (before cropping) frame dimensions:  314 700\n",
      "Starting to extract posture\n"
     ]
    },
    {
     "name": "stderr",
     "output_type": "stream",
     "text": [
      "510it [00:57,  8.86it/s]                                                                                               \n"
     ]
    },
    {
     "name": "stdout",
     "output_type": "stream",
     "text": [
      "Saving results in \\\\dk-server.dk.ucsd.edu\\afassihizakeri\\Topviewmovies\\ar35motor\\2021_11_02...\n",
      "Saving csv poses!\n",
      "Starting to analyze %  \\\\dk-server.dk.ucsd.edu\\afassihizakeri\\Topviewmovies\\ar35motor\\2021_11_02\\Mask155videoL.avi\n",
      "\\\\dk-server.dk.ucsd.edu\\afassihizakeri\\Topviewmovies\\ar35motor\\2021_11_02  already exists!\n",
      "Loading  \\\\dk-server.dk.ucsd.edu\\afassihizakeri\\Topviewmovies\\ar35motor\\2021_11_02\\Mask155videoL.avi\n",
      "Duration of video [s]:  12.5 , recorded with  40.0 fps!\n",
      "Overall # of frames:  500  found with (before cropping) frame dimensions:  314 700\n",
      "Starting to extract posture\n"
     ]
    },
    {
     "name": "stderr",
     "output_type": "stream",
     "text": [
      "510it [00:58,  8.79it/s]                                                                                               \n"
     ]
    },
    {
     "name": "stdout",
     "output_type": "stream",
     "text": [
      "Saving results in \\\\dk-server.dk.ucsd.edu\\afassihizakeri\\Topviewmovies\\ar35motor\\2021_11_02...\n",
      "Saving csv poses!\n",
      "Starting to analyze %  \\\\dk-server.dk.ucsd.edu\\afassihizakeri\\Topviewmovies\\ar35motor\\2021_11_02\\Mask83videoL.avi\n",
      "\\\\dk-server.dk.ucsd.edu\\afassihizakeri\\Topviewmovies\\ar35motor\\2021_11_02  already exists!\n",
      "Loading  \\\\dk-server.dk.ucsd.edu\\afassihizakeri\\Topviewmovies\\ar35motor\\2021_11_02\\Mask83videoL.avi\n",
      "Duration of video [s]:  11.43 , recorded with  40.0 fps!\n",
      "Overall # of frames:  457  found with (before cropping) frame dimensions:  314 700\n",
      "Starting to extract posture\n"
     ]
    },
    {
     "name": "stderr",
     "output_type": "stream",
     "text": [
      "460it [00:53,  8.68it/s]                                                                                               \n"
     ]
    },
    {
     "name": "stdout",
     "output_type": "stream",
     "text": [
      "Saving results in \\\\dk-server.dk.ucsd.edu\\afassihizakeri\\Topviewmovies\\ar35motor\\2021_11_02...\n",
      "Saving csv poses!\n",
      "Starting to analyze %  \\\\dk-server.dk.ucsd.edu\\afassihizakeri\\Topviewmovies\\ar35motor\\2021_11_02\\Mask122videoL.avi\n",
      "\\\\dk-server.dk.ucsd.edu\\afassihizakeri\\Topviewmovies\\ar35motor\\2021_11_02  already exists!\n",
      "Loading  \\\\dk-server.dk.ucsd.edu\\afassihizakeri\\Topviewmovies\\ar35motor\\2021_11_02\\Mask122videoL.avi\n",
      "Duration of video [s]:  12.43 , recorded with  40.0 fps!\n",
      "Overall # of frames:  497  found with (before cropping) frame dimensions:  314 700\n",
      "Starting to extract posture\n"
     ]
    },
    {
     "name": "stderr",
     "output_type": "stream",
     "text": [
      "500it [00:57,  8.65it/s]                                                                                               \n"
     ]
    },
    {
     "name": "stdout",
     "output_type": "stream",
     "text": [
      "Saving results in \\\\dk-server.dk.ucsd.edu\\afassihizakeri\\Topviewmovies\\ar35motor\\2021_11_02...\n",
      "Saving csv poses!\n",
      "Starting to analyze %  \\\\dk-server.dk.ucsd.edu\\afassihizakeri\\Topviewmovies\\ar35motor\\2021_11_02\\Mask31videoL.avi\n",
      "\\\\dk-server.dk.ucsd.edu\\afassihizakeri\\Topviewmovies\\ar35motor\\2021_11_02  already exists!\n",
      "Loading  \\\\dk-server.dk.ucsd.edu\\afassihizakeri\\Topviewmovies\\ar35motor\\2021_11_02\\Mask31videoL.avi\n",
      "Duration of video [s]:  12.47 , recorded with  40.0 fps!\n",
      "Overall # of frames:  499  found with (before cropping) frame dimensions:  314 700\n",
      "Starting to extract posture\n"
     ]
    },
    {
     "name": "stderr",
     "output_type": "stream",
     "text": [
      "500it [00:57,  8.69it/s]                                                                                               \n"
     ]
    },
    {
     "name": "stdout",
     "output_type": "stream",
     "text": [
      "Saving results in \\\\dk-server.dk.ucsd.edu\\afassihizakeri\\Topviewmovies\\ar35motor\\2021_11_02...\n",
      "Saving csv poses!\n",
      "Starting to analyze %  \\\\dk-server.dk.ucsd.edu\\afassihizakeri\\Topviewmovies\\ar35motor\\2021_11_02\\Mask47videoL.avi\n",
      "\\\\dk-server.dk.ucsd.edu\\afassihizakeri\\Topviewmovies\\ar35motor\\2021_11_02  already exists!\n",
      "Loading  \\\\dk-server.dk.ucsd.edu\\afassihizakeri\\Topviewmovies\\ar35motor\\2021_11_02\\Mask47videoL.avi\n",
      "Duration of video [s]:  10.3 , recorded with  40.0 fps!\n",
      "Overall # of frames:  412  found with (before cropping) frame dimensions:  314 700\n",
      "Starting to extract posture\n"
     ]
    },
    {
     "name": "stderr",
     "output_type": "stream",
     "text": [
      "420it [00:47,  8.85it/s]                                                                                               \n"
     ]
    },
    {
     "name": "stdout",
     "output_type": "stream",
     "text": [
      "Saving results in \\\\dk-server.dk.ucsd.edu\\afassihizakeri\\Topviewmovies\\ar35motor\\2021_11_02...\n",
      "Saving csv poses!\n",
      "Starting to analyze %  \\\\dk-server.dk.ucsd.edu\\afassihizakeri\\Topviewmovies\\ar35motor\\2021_11_02\\Mask3videoL.avi\n",
      "\\\\dk-server.dk.ucsd.edu\\afassihizakeri\\Topviewmovies\\ar35motor\\2021_11_02  already exists!\n",
      "Loading  \\\\dk-server.dk.ucsd.edu\\afassihizakeri\\Topviewmovies\\ar35motor\\2021_11_02\\Mask3videoL.avi\n",
      "Duration of video [s]:  10.15 , recorded with  40.0 fps!\n",
      "Overall # of frames:  406  found with (before cropping) frame dimensions:  314 700\n",
      "Starting to extract posture\n"
     ]
    },
    {
     "name": "stderr",
     "output_type": "stream",
     "text": [
      "410it [00:46,  8.76it/s]                                                                                               \n"
     ]
    },
    {
     "name": "stdout",
     "output_type": "stream",
     "text": [
      "Saving results in \\\\dk-server.dk.ucsd.edu\\afassihizakeri\\Topviewmovies\\ar35motor\\2021_11_02...\n",
      "Saving csv poses!\n",
      "Starting to analyze %  \\\\dk-server.dk.ucsd.edu\\afassihizakeri\\Topviewmovies\\ar35motor\\2021_11_02\\Mask191videoL.avi\n",
      "\\\\dk-server.dk.ucsd.edu\\afassihizakeri\\Topviewmovies\\ar35motor\\2021_11_02  already exists!\n",
      "Loading  \\\\dk-server.dk.ucsd.edu\\afassihizakeri\\Topviewmovies\\ar35motor\\2021_11_02\\Mask191videoL.avi\n",
      "Duration of video [s]:  12.47 , recorded with  40.0 fps!\n",
      "Overall # of frames:  499  found with (before cropping) frame dimensions:  314 700\n",
      "Starting to extract posture\n"
     ]
    },
    {
     "name": "stderr",
     "output_type": "stream",
     "text": [
      "500it [00:57,  8.63it/s]                                                                                               \n"
     ]
    },
    {
     "name": "stdout",
     "output_type": "stream",
     "text": [
      "Saving results in \\\\dk-server.dk.ucsd.edu\\afassihizakeri\\Topviewmovies\\ar35motor\\2021_11_02...\n",
      "Saving csv poses!\n",
      "Starting to analyze %  \\\\dk-server.dk.ucsd.edu\\afassihizakeri\\Topviewmovies\\ar35motor\\2021_11_02\\Mask19videoL.avi\n",
      "\\\\dk-server.dk.ucsd.edu\\afassihizakeri\\Topviewmovies\\ar35motor\\2021_11_02  already exists!\n",
      "Loading  \\\\dk-server.dk.ucsd.edu\\afassihizakeri\\Topviewmovies\\ar35motor\\2021_11_02\\Mask19videoL.avi\n",
      "Duration of video [s]:  9.5 , recorded with  40.0 fps!\n",
      "Overall # of frames:  380  found with (before cropping) frame dimensions:  314 700\n",
      "Starting to extract posture\n"
     ]
    },
    {
     "name": "stderr",
     "output_type": "stream",
     "text": [
      "390it [00:44,  8.84it/s]                                                                                               \n"
     ]
    },
    {
     "name": "stdout",
     "output_type": "stream",
     "text": [
      "Saving results in \\\\dk-server.dk.ucsd.edu\\afassihizakeri\\Topviewmovies\\ar35motor\\2021_11_02...\n",
      "Saving csv poses!\n",
      "Starting to analyze %  \\\\dk-server.dk.ucsd.edu\\afassihizakeri\\Topviewmovies\\ar35motor\\2021_11_02\\Mask82videoL.avi\n",
      "\\\\dk-server.dk.ucsd.edu\\afassihizakeri\\Topviewmovies\\ar35motor\\2021_11_02  already exists!\n",
      "Loading  \\\\dk-server.dk.ucsd.edu\\afassihizakeri\\Topviewmovies\\ar35motor\\2021_11_02\\Mask82videoL.avi\n",
      "Duration of video [s]:  9.72 , recorded with  40.0 fps!\n",
      "Overall # of frames:  389  found with (before cropping) frame dimensions:  314 700\n",
      "Starting to extract posture\n"
     ]
    },
    {
     "name": "stderr",
     "output_type": "stream",
     "text": [
      "390it [00:44,  8.72it/s]                                                                                               \n"
     ]
    },
    {
     "name": "stdout",
     "output_type": "stream",
     "text": [
      "Saving results in \\\\dk-server.dk.ucsd.edu\\afassihizakeri\\Topviewmovies\\ar35motor\\2021_11_02...\n",
      "Saving csv poses!\n",
      "Starting to analyze %  \\\\dk-server.dk.ucsd.edu\\afassihizakeri\\Topviewmovies\\ar35motor\\2021_11_02\\Mask154videoL.avi\n",
      "\\\\dk-server.dk.ucsd.edu\\afassihizakeri\\Topviewmovies\\ar35motor\\2021_11_02  already exists!\n",
      "Loading  \\\\dk-server.dk.ucsd.edu\\afassihizakeri\\Topviewmovies\\ar35motor\\2021_11_02\\Mask154videoL.avi\n",
      "Duration of video [s]:  12.35 , recorded with  40.0 fps!\n",
      "Overall # of frames:  494  found with (before cropping) frame dimensions:  314 700\n",
      "Starting to extract posture\n"
     ]
    },
    {
     "name": "stderr",
     "output_type": "stream",
     "text": [
      "500it [00:56,  8.83it/s]                                                                                               \n"
     ]
    },
    {
     "name": "stdout",
     "output_type": "stream",
     "text": [
      "Saving results in \\\\dk-server.dk.ucsd.edu\\afassihizakeri\\Topviewmovies\\ar35motor\\2021_11_02...\n",
      "Saving csv poses!\n",
      "Starting to analyze %  \\\\dk-server.dk.ucsd.edu\\afassihizakeri\\Topviewmovies\\ar35motor\\2021_11_02\\Mask32videoL.avi\n",
      "\\\\dk-server.dk.ucsd.edu\\afassihizakeri\\Topviewmovies\\ar35motor\\2021_11_02  already exists!\n",
      "Loading  \\\\dk-server.dk.ucsd.edu\\afassihizakeri\\Topviewmovies\\ar35motor\\2021_11_02\\Mask32videoL.avi\n",
      "Duration of video [s]:  12.28 , recorded with  40.0 fps!\n",
      "Overall # of frames:  491  found with (before cropping) frame dimensions:  314 700\n",
      "Starting to extract posture\n"
     ]
    },
    {
     "name": "stderr",
     "output_type": "stream",
     "text": [
      "500it [00:56,  8.83it/s]                                                                                               \n"
     ]
    },
    {
     "name": "stdout",
     "output_type": "stream",
     "text": [
      "Saving results in \\\\dk-server.dk.ucsd.edu\\afassihizakeri\\Topviewmovies\\ar35motor\\2021_11_02...\n",
      "Saving csv poses!\n",
      "Starting to analyze %  \\\\dk-server.dk.ucsd.edu\\afassihizakeri\\Topviewmovies\\ar35motor\\2021_11_02\\Mask121videoL.avi\n",
      "\\\\dk-server.dk.ucsd.edu\\afassihizakeri\\Topviewmovies\\ar35motor\\2021_11_02  already exists!\n",
      "Loading  \\\\dk-server.dk.ucsd.edu\\afassihizakeri\\Topviewmovies\\ar35motor\\2021_11_02\\Mask121videoL.avi\n",
      "Duration of video [s]:  12.5 , recorded with  40.0 fps!\n",
      "Overall # of frames:  500  found with (before cropping) frame dimensions:  314 700\n",
      "Starting to extract posture\n"
     ]
    },
    {
     "name": "stderr",
     "output_type": "stream",
     "text": [
      "510it [00:57,  8.84it/s]                                                                                               \n"
     ]
    },
    {
     "name": "stdout",
     "output_type": "stream",
     "text": [
      "Saving results in \\\\dk-server.dk.ucsd.edu\\afassihizakeri\\Topviewmovies\\ar35motor\\2021_11_02...\n",
      "Saving csv poses!\n",
      "Starting to analyze %  \\\\dk-server.dk.ucsd.edu\\afassihizakeri\\Topviewmovies\\ar35motor\\2021_11_02\\Mask109videoL.avi\n",
      "\\\\dk-server.dk.ucsd.edu\\afassihizakeri\\Topviewmovies\\ar35motor\\2021_11_02  already exists!\n",
      "Loading  \\\\dk-server.dk.ucsd.edu\\afassihizakeri\\Topviewmovies\\ar35motor\\2021_11_02\\Mask109videoL.avi\n",
      "Duration of video [s]:  4.38 , recorded with  40.0 fps!\n",
      "Overall # of frames:  175  found with (before cropping) frame dimensions:  314 700\n",
      "Starting to extract posture\n"
     ]
    },
    {
     "name": "stderr",
     "output_type": "stream",
     "text": [
      "180it [00:20,  8.94it/s]                                                                                               \n"
     ]
    },
    {
     "name": "stdout",
     "output_type": "stream",
     "text": [
      "Saving results in \\\\dk-server.dk.ucsd.edu\\afassihizakeri\\Topviewmovies\\ar35motor\\2021_11_02...\n",
      "Saving csv poses!\n",
      "Starting to analyze %  \\\\dk-server.dk.ucsd.edu\\afassihizakeri\\Topviewmovies\\ar35motor\\2021_11_02\\Mask81videoL.avi\n",
      "\\\\dk-server.dk.ucsd.edu\\afassihizakeri\\Topviewmovies\\ar35motor\\2021_11_02  already exists!\n",
      "Loading  \\\\dk-server.dk.ucsd.edu\\afassihizakeri\\Topviewmovies\\ar35motor\\2021_11_02\\Mask81videoL.avi\n",
      "Duration of video [s]:  7.58 , recorded with  40.0 fps!\n",
      "Overall # of frames:  303  found with (before cropping) frame dimensions:  314 700\n",
      "Starting to extract posture\n"
     ]
    },
    {
     "name": "stderr",
     "output_type": "stream",
     "text": [
      "310it [00:34,  8.93it/s]                                                                                               \n"
     ]
    },
    {
     "name": "stdout",
     "output_type": "stream",
     "text": [
      "Saving results in \\\\dk-server.dk.ucsd.edu\\afassihizakeri\\Topviewmovies\\ar35motor\\2021_11_02...\n",
      "Saving csv poses!\n",
      "Starting to analyze %  \\\\dk-server.dk.ucsd.edu\\afassihizakeri\\Topviewmovies\\ar35motor\\2021_11_02\\Mask157videoL.avi\n",
      "\\\\dk-server.dk.ucsd.edu\\afassihizakeri\\Topviewmovies\\ar35motor\\2021_11_02  already exists!\n",
      "Loading  \\\\dk-server.dk.ucsd.edu\\afassihizakeri\\Topviewmovies\\ar35motor\\2021_11_02\\Mask157videoL.avi\n",
      "Duration of video [s]:  12.5 , recorded with  40.0 fps!\n",
      "Overall # of frames:  500  found with (before cropping) frame dimensions:  314 700\n",
      "Starting to extract posture\n"
     ]
    },
    {
     "name": "stderr",
     "output_type": "stream",
     "text": [
      "510it [00:57,  8.83it/s]                                                                                               \n"
     ]
    },
    {
     "name": "stdout",
     "output_type": "stream",
     "text": [
      "Saving results in \\\\dk-server.dk.ucsd.edu\\afassihizakeri\\Topviewmovies\\ar35motor\\2021_11_02...\n",
      "Saving csv poses!\n",
      "Starting to analyze %  \\\\dk-server.dk.ucsd.edu\\afassihizakeri\\Topviewmovies\\ar35motor\\2021_11_02\\Mask0videoL.avi\n",
      "\\\\dk-server.dk.ucsd.edu\\afassihizakeri\\Topviewmovies\\ar35motor\\2021_11_02  already exists!\n",
      "Loading  \\\\dk-server.dk.ucsd.edu\\afassihizakeri\\Topviewmovies\\ar35motor\\2021_11_02\\Mask0videoL.avi\n",
      "Duration of video [s]:  12.5 , recorded with  40.0 fps!\n",
      "Overall # of frames:  500  found with (before cropping) frame dimensions:  314 700\n",
      "Starting to extract posture\n"
     ]
    },
    {
     "name": "stderr",
     "output_type": "stream",
     "text": [
      "510it [00:57,  8.84it/s]                                                                                               \n"
     ]
    },
    {
     "name": "stdout",
     "output_type": "stream",
     "text": [
      "Saving results in \\\\dk-server.dk.ucsd.edu\\afassihizakeri\\Topviewmovies\\ar35motor\\2021_11_02...\n",
      "Saving csv poses!\n",
      "Starting to analyze %  \\\\dk-server.dk.ucsd.edu\\afassihizakeri\\Topviewmovies\\ar35motor\\2021_11_02\\Mask44videoL.avi\n",
      "\\\\dk-server.dk.ucsd.edu\\afassihizakeri\\Topviewmovies\\ar35motor\\2021_11_02  already exists!\n",
      "Loading  \\\\dk-server.dk.ucsd.edu\\afassihizakeri\\Topviewmovies\\ar35motor\\2021_11_02\\Mask44videoL.avi\n",
      "Duration of video [s]:  10.72 , recorded with  40.0 fps!\n",
      "Overall # of frames:  429  found with (before cropping) frame dimensions:  314 700\n",
      "Starting to extract posture\n"
     ]
    },
    {
     "name": "stderr",
     "output_type": "stream",
     "text": [
      "430it [00:49,  8.67it/s]                                                                                               \n"
     ]
    },
    {
     "name": "stdout",
     "output_type": "stream",
     "text": [
      "Saving results in \\\\dk-server.dk.ucsd.edu\\afassihizakeri\\Topviewmovies\\ar35motor\\2021_11_02...\n",
      "Saving csv poses!\n",
      "Starting to analyze %  \\\\dk-server.dk.ucsd.edu\\afassihizakeri\\Topviewmovies\\ar35motor\\2021_11_02\\Mask192videoL.avi\n",
      "\\\\dk-server.dk.ucsd.edu\\afassihizakeri\\Topviewmovies\\ar35motor\\2021_11_02  already exists!\n",
      "Loading  \\\\dk-server.dk.ucsd.edu\\afassihizakeri\\Topviewmovies\\ar35motor\\2021_11_02\\Mask192videoL.avi\n",
      "Duration of video [s]:  0.0 , recorded with  40.0 fps!\n",
      "Overall # of frames:  0  found with (before cropping) frame dimensions:  314 700\n",
      "Starting to extract posture\n"
     ]
    },
    {
     "name": "stderr",
     "output_type": "stream",
     "text": [
      "10it [00:00, 3348.75it/s]"
     ]
    },
    {
     "name": "stdout",
     "output_type": "stream",
     "text": [
      "Saving results in \\\\dk-server.dk.ucsd.edu\\afassihizakeri\\Topviewmovies\\ar35motor\\2021_11_02...\n",
      "Saving csv poses!\n",
      "Starting to analyze %  \\\\dk-server.dk.ucsd.edu\\afassihizakeri\\Topviewmovies\\ar35motor\\2021_11_02\\Mask33videoL.avi\n",
      "\\\\dk-server.dk.ucsd.edu\\afassihizakeri\\Topviewmovies\\ar35motor\\2021_11_02  already exists!\n"
     ]
    },
    {
     "name": "stderr",
     "output_type": "stream",
     "text": [
      "\n"
     ]
    },
    {
     "name": "stdout",
     "output_type": "stream",
     "text": [
      "Loading  \\\\dk-server.dk.ucsd.edu\\afassihizakeri\\Topviewmovies\\ar35motor\\2021_11_02\\Mask33videoL.avi\n",
      "Duration of video [s]:  12.43 , recorded with  40.0 fps!\n",
      "Overall # of frames:  497  found with (before cropping) frame dimensions:  314 700\n",
      "Starting to extract posture\n"
     ]
    },
    {
     "name": "stderr",
     "output_type": "stream",
     "text": [
      "500it [00:57,  8.67it/s]                                                                                               \n"
     ]
    },
    {
     "name": "stdout",
     "output_type": "stream",
     "text": [
      "Saving results in \\\\dk-server.dk.ucsd.edu\\afassihizakeri\\Topviewmovies\\ar35motor\\2021_11_02...\n",
      "Saving csv poses!\n",
      "Starting to analyze %  \\\\dk-server.dk.ucsd.edu\\afassihizakeri\\Topviewmovies\\ar35motor\\2021_11_02\\Mask120videoL.avi\n",
      "\\\\dk-server.dk.ucsd.edu\\afassihizakeri\\Topviewmovies\\ar35motor\\2021_11_02  already exists!\n",
      "Loading  \\\\dk-server.dk.ucsd.edu\\afassihizakeri\\Topviewmovies\\ar35motor\\2021_11_02\\Mask120videoL.avi\n",
      "Duration of video [s]:  12.5 , recorded with  40.0 fps!\n",
      "Overall # of frames:  500  found with (before cropping) frame dimensions:  314 700\n",
      "Starting to extract posture\n"
     ]
    },
    {
     "name": "stderr",
     "output_type": "stream",
     "text": [
      "510it [00:57,  8.85it/s]                                                                                               \n"
     ]
    },
    {
     "name": "stdout",
     "output_type": "stream",
     "text": [
      "Saving results in \\\\dk-server.dk.ucsd.edu\\afassihizakeri\\Topviewmovies\\ar35motor\\2021_11_02...\n",
      "Saving csv poses!\n",
      "Starting to analyze %  \\\\dk-server.dk.ucsd.edu\\afassihizakeri\\Topviewmovies\\ar35motor\\2021_11_02\\Mask156videoL.avi\n",
      "\\\\dk-server.dk.ucsd.edu\\afassihizakeri\\Topviewmovies\\ar35motor\\2021_11_02  already exists!\n",
      "Loading  \\\\dk-server.dk.ucsd.edu\\afassihizakeri\\Topviewmovies\\ar35motor\\2021_11_02\\Mask156videoL.avi\n",
      "Duration of video [s]:  12.5 , recorded with  40.0 fps!\n",
      "Overall # of frames:  500  found with (before cropping) frame dimensions:  314 700\n",
      "Starting to extract posture\n"
     ]
    },
    {
     "name": "stderr",
     "output_type": "stream",
     "text": [
      "510it [00:57,  8.82it/s]                                                                                               \n"
     ]
    },
    {
     "name": "stdout",
     "output_type": "stream",
     "text": [
      "Saving results in \\\\dk-server.dk.ucsd.edu\\afassihizakeri\\Topviewmovies\\ar35motor\\2021_11_02...\n",
      "Saving csv poses!\n",
      "Starting to analyze %  \\\\dk-server.dk.ucsd.edu\\afassihizakeri\\Topviewmovies\\ar35motor\\2021_11_02\\Mask80videoL.avi\n",
      "\\\\dk-server.dk.ucsd.edu\\afassihizakeri\\Topviewmovies\\ar35motor\\2021_11_02  already exists!\n",
      "Loading  \\\\dk-server.dk.ucsd.edu\\afassihizakeri\\Topviewmovies\\ar35motor\\2021_11_02\\Mask80videoL.avi\n",
      "Duration of video [s]:  12.5 , recorded with  40.0 fps!\n",
      "Overall # of frames:  500  found with (before cropping) frame dimensions:  314 700\n",
      "Starting to extract posture\n"
     ]
    },
    {
     "name": "stderr",
     "output_type": "stream",
     "text": [
      "510it [00:57,  8.81it/s]                                                                                               \n"
     ]
    },
    {
     "name": "stdout",
     "output_type": "stream",
     "text": [
      "Saving results in \\\\dk-server.dk.ucsd.edu\\afassihizakeri\\Topviewmovies\\ar35motor\\2021_11_02...\n",
      "Saving csv poses!\n",
      "Starting to analyze %  \\\\dk-server.dk.ucsd.edu\\afassihizakeri\\Topviewmovies\\ar35motor\\2021_11_02\\Mask108videoL.avi\n",
      "\\\\dk-server.dk.ucsd.edu\\afassihizakeri\\Topviewmovies\\ar35motor\\2021_11_02  already exists!\n",
      "Loading  \\\\dk-server.dk.ucsd.edu\\afassihizakeri\\Topviewmovies\\ar35motor\\2021_11_02\\Mask108videoL.avi\n",
      "Duration of video [s]:  3.88 , recorded with  40.0 fps!\n",
      "Overall # of frames:  155  found with (before cropping) frame dimensions:  314 700\n",
      "Starting to extract posture\n"
     ]
    },
    {
     "name": "stderr",
     "output_type": "stream",
     "text": [
      "160it [00:18,  8.75it/s]                                                                                               \n"
     ]
    },
    {
     "name": "stdout",
     "output_type": "stream",
     "text": [
      "Saving results in \\\\dk-server.dk.ucsd.edu\\afassihizakeri\\Topviewmovies\\ar35motor\\2021_11_02...\n",
      "Saving csv poses!\n",
      "Starting to analyze %  \\\\dk-server.dk.ucsd.edu\\afassihizakeri\\Topviewmovies\\ar35motor\\2021_11_02\\Mask193videoL.avi\n",
      "\\\\dk-server.dk.ucsd.edu\\afassihizakeri\\Topviewmovies\\ar35motor\\2021_11_02  already exists!\n",
      "Loading  \\\\dk-server.dk.ucsd.edu\\afassihizakeri\\Topviewmovies\\ar35motor\\2021_11_02\\Mask193videoL.avi\n",
      "Duration of video [s]:  0.0 , recorded with  40.0 fps!\n",
      "Overall # of frames:  0  found with (before cropping) frame dimensions:  314 700\n",
      "Starting to extract posture\n"
     ]
    },
    {
     "name": "stderr",
     "output_type": "stream",
     "text": [
      "10it [00:00, 1435.13it/s]"
     ]
    },
    {
     "name": "stdout",
     "output_type": "stream",
     "text": [
      "Saving results in \\\\dk-server.dk.ucsd.edu\\afassihizakeri\\Topviewmovies\\ar35motor\\2021_11_02...\n",
      "Saving csv poses!\n",
      "Starting to analyze %  \\\\dk-server.dk.ucsd.edu\\afassihizakeri\\Topviewmovies\\ar35motor\\2021_11_02\\Mask45videoL.avi\n",
      "\\\\dk-server.dk.ucsd.edu\\afassihizakeri\\Topviewmovies\\ar35motor\\2021_11_02  already exists!\n"
     ]
    },
    {
     "name": "stderr",
     "output_type": "stream",
     "text": [
      "\n"
     ]
    },
    {
     "name": "stdout",
     "output_type": "stream",
     "text": [
      "Loading  \\\\dk-server.dk.ucsd.edu\\afassihizakeri\\Topviewmovies\\ar35motor\\2021_11_02\\Mask45videoL.avi\n",
      "Duration of video [s]:  12.5 , recorded with  40.0 fps!\n",
      "Overall # of frames:  500  found with (before cropping) frame dimensions:  314 700\n",
      "Starting to extract posture\n"
     ]
    },
    {
     "name": "stderr",
     "output_type": "stream",
     "text": [
      "510it [00:57,  8.83it/s]                                                                                               \n"
     ]
    },
    {
     "name": "stdout",
     "output_type": "stream",
     "text": [
      "Saving results in \\\\dk-server.dk.ucsd.edu\\afassihizakeri\\Topviewmovies\\ar35motor\\2021_11_02...\n",
      "Saving csv poses!\n",
      "Starting to analyze %  \\\\dk-server.dk.ucsd.edu\\afassihizakeri\\Topviewmovies\\ar35motor\\2021_11_02\\Mask1videoL.avi\n",
      "\\\\dk-server.dk.ucsd.edu\\afassihizakeri\\Topviewmovies\\ar35motor\\2021_11_02  already exists!\n",
      "Loading  \\\\dk-server.dk.ucsd.edu\\afassihizakeri\\Topviewmovies\\ar35motor\\2021_11_02\\Mask1videoL.avi\n",
      "Duration of video [s]:  11.6 , recorded with  40.0 fps!\n",
      "Overall # of frames:  464  found with (before cropping) frame dimensions:  314 700\n",
      "Starting to extract posture\n"
     ]
    },
    {
     "name": "stderr",
     "output_type": "stream",
     "text": [
      "470it [00:52,  8.87it/s]                                                                                               \n"
     ]
    },
    {
     "name": "stdout",
     "output_type": "stream",
     "text": [
      "Saving results in \\\\dk-server.dk.ucsd.edu\\afassihizakeri\\Topviewmovies\\ar35motor\\2021_11_02...\n",
      "Saving csv poses!\n",
      "Starting to analyze %  \\\\dk-server.dk.ucsd.edu\\afassihizakeri\\Topviewmovies\\ar35motor\\2021_11_02\\Mask63videoL.avi\n",
      "\\\\dk-server.dk.ucsd.edu\\afassihizakeri\\Topviewmovies\\ar35motor\\2021_11_02  already exists!\n",
      "Loading  \\\\dk-server.dk.ucsd.edu\\afassihizakeri\\Topviewmovies\\ar35motor\\2021_11_02\\Mask63videoL.avi\n",
      "Duration of video [s]:  9.75 , recorded with  40.0 fps!\n",
      "Overall # of frames:  390  found with (before cropping) frame dimensions:  314 700\n",
      "Starting to extract posture\n"
     ]
    },
    {
     "name": "stderr",
     "output_type": "stream",
     "text": [
      "400it [00:45,  8.88it/s]                                                                                               \n"
     ]
    },
    {
     "name": "stdout",
     "output_type": "stream",
     "text": [
      "Saving results in \\\\dk-server.dk.ucsd.edu\\afassihizakeri\\Topviewmovies\\ar35motor\\2021_11_02...\n",
      "Saving csv poses!\n",
      "Starting to analyze %  \\\\dk-server.dk.ucsd.edu\\afassihizakeri\\Topviewmovies\\ar35motor\\2021_11_02\\Mask170videoL.avi\n",
      "\\\\dk-server.dk.ucsd.edu\\afassihizakeri\\Topviewmovies\\ar35motor\\2021_11_02  already exists!\n",
      "Loading  \\\\dk-server.dk.ucsd.edu\\afassihizakeri\\Topviewmovies\\ar35motor\\2021_11_02\\Mask170videoL.avi\n",
      "Duration of video [s]:  12.5 , recorded with  40.0 fps!\n",
      "Overall # of frames:  500  found with (before cropping) frame dimensions:  314 700\n",
      "Starting to extract posture\n"
     ]
    },
    {
     "name": "stderr",
     "output_type": "stream",
     "text": [
      "510it [00:57,  8.86it/s]                                                                                               \n"
     ]
    },
    {
     "name": "stdout",
     "output_type": "stream",
     "text": [
      "Saving results in \\\\dk-server.dk.ucsd.edu\\afassihizakeri\\Topviewmovies\\ar35motor\\2021_11_02...\n",
      "Saving csv poses!\n",
      "Starting to analyze %  \\\\dk-server.dk.ucsd.edu\\afassihizakeri\\Topviewmovies\\ar35motor\\2021_11_02\\Mask158videoL.avi\n",
      "\\\\dk-server.dk.ucsd.edu\\afassihizakeri\\Topviewmovies\\ar35motor\\2021_11_02  already exists!\n",
      "Loading  \\\\dk-server.dk.ucsd.edu\\afassihizakeri\\Topviewmovies\\ar35motor\\2021_11_02\\Mask158videoL.avi\n",
      "Duration of video [s]:  12.5 , recorded with  40.0 fps!\n",
      "Overall # of frames:  500  found with (before cropping) frame dimensions:  314 700\n",
      "Starting to extract posture\n"
     ]
    },
    {
     "name": "stderr",
     "output_type": "stream",
     "text": [
      "510it [00:57,  8.88it/s]                                                                                               \n"
     ]
    },
    {
     "name": "stdout",
     "output_type": "stream",
     "text": [
      "Saving results in \\\\dk-server.dk.ucsd.edu\\afassihizakeri\\Topviewmovies\\ar35motor\\2021_11_02...\n",
      "Saving csv poses!\n",
      "Starting to analyze %  \\\\dk-server.dk.ucsd.edu\\afassihizakeri\\Topviewmovies\\ar35motor\\2021_11_02\\Mask106videoL.avi\n",
      "\\\\dk-server.dk.ucsd.edu\\afassihizakeri\\Topviewmovies\\ar35motor\\2021_11_02  already exists!\n",
      "Loading  \\\\dk-server.dk.ucsd.edu\\afassihizakeri\\Topviewmovies\\ar35motor\\2021_11_02\\Mask106videoL.avi\n",
      "Duration of video [s]:  4.6 , recorded with  40.0 fps!\n",
      "Overall # of frames:  184  found with (before cropping) frame dimensions:  314 700\n",
      "Starting to extract posture\n"
     ]
    },
    {
     "name": "stderr",
     "output_type": "stream",
     "text": [
      "190it [00:21,  9.01it/s]                                                                                               \n"
     ]
    },
    {
     "name": "stdout",
     "output_type": "stream",
     "text": [
      "Saving results in \\\\dk-server.dk.ucsd.edu\\afassihizakeri\\Topviewmovies\\ar35motor\\2021_11_02...\n",
      "Saving csv poses!\n",
      "Starting to analyze %  \\\\dk-server.dk.ucsd.edu\\afassihizakeri\\Topviewmovies\\ar35motor\\2021_11_02\\Mask15videoL.avi\n",
      "\\\\dk-server.dk.ucsd.edu\\afassihizakeri\\Topviewmovies\\ar35motor\\2021_11_02  already exists!\n",
      "Loading  \\\\dk-server.dk.ucsd.edu\\afassihizakeri\\Topviewmovies\\ar35motor\\2021_11_02\\Mask15videoL.avi\n",
      "Duration of video [s]:  12.5 , recorded with  40.0 fps!\n",
      "Overall # of frames:  500  found with (before cropping) frame dimensions:  314 700\n",
      "Starting to extract posture\n"
     ]
    },
    {
     "name": "stderr",
     "output_type": "stream",
     "text": [
      "510it [00:57,  8.83it/s]                                                                                               \n"
     ]
    },
    {
     "name": "stdout",
     "output_type": "stream",
     "text": [
      "Saving results in \\\\dk-server.dk.ucsd.edu\\afassihizakeri\\Topviewmovies\\ar35motor\\2021_11_02...\n",
      "Saving csv poses!\n",
      "Starting to analyze %  \\\\dk-server.dk.ucsd.edu\\afassihizakeri\\Topviewmovies\\ar35motor\\2021_11_02\\Mask62videoL.avi\n",
      "\\\\dk-server.dk.ucsd.edu\\afassihizakeri\\Topviewmovies\\ar35motor\\2021_11_02  already exists!\n",
      "Loading  \\\\dk-server.dk.ucsd.edu\\afassihizakeri\\Topviewmovies\\ar35motor\\2021_11_02\\Mask62videoL.avi\n",
      "Duration of video [s]:  12.43 , recorded with  40.0 fps!\n",
      "Overall # of frames:  497  found with (before cropping) frame dimensions:  314 700\n",
      "Starting to extract posture\n"
     ]
    },
    {
     "name": "stderr",
     "output_type": "stream",
     "text": [
      "500it [00:58,  8.60it/s]                                                                                               \n"
     ]
    },
    {
     "name": "stdout",
     "output_type": "stream",
     "text": [
      "Saving results in \\\\dk-server.dk.ucsd.edu\\afassihizakeri\\Topviewmovies\\ar35motor\\2021_11_02...\n",
      "Saving csv poses!\n",
      "Starting to analyze %  \\\\dk-server.dk.ucsd.edu\\afassihizakeri\\Topviewmovies\\ar35motor\\2021_11_02\\Mask171videoL.avi\n",
      "\\\\dk-server.dk.ucsd.edu\\afassihizakeri\\Topviewmovies\\ar35motor\\2021_11_02  already exists!\n",
      "Loading  \\\\dk-server.dk.ucsd.edu\\afassihizakeri\\Topviewmovies\\ar35motor\\2021_11_02\\Mask171videoL.avi\n",
      "Duration of video [s]:  11.53 , recorded with  40.0 fps!\n",
      "Overall # of frames:  461  found with (before cropping) frame dimensions:  314 700\n",
      "Starting to extract posture\n"
     ]
    },
    {
     "name": "stderr",
     "output_type": "stream",
     "text": [
      "470it [00:53,  8.84it/s]                                                                                               \n"
     ]
    },
    {
     "name": "stdout",
     "output_type": "stream",
     "text": [
      "Saving results in \\\\dk-server.dk.ucsd.edu\\afassihizakeri\\Topviewmovies\\ar35motor\\2021_11_02...\n",
      "Saving csv poses!\n",
      "Starting to analyze %  \\\\dk-server.dk.ucsd.edu\\afassihizakeri\\Topviewmovies\\ar35motor\\2021_11_02\\Mask107videoL.avi\n",
      "\\\\dk-server.dk.ucsd.edu\\afassihizakeri\\Topviewmovies\\ar35motor\\2021_11_02  already exists!\n",
      "Loading  \\\\dk-server.dk.ucsd.edu\\afassihizakeri\\Topviewmovies\\ar35motor\\2021_11_02\\Mask107videoL.avi\n",
      "Duration of video [s]:  7.0 , recorded with  40.0 fps!\n",
      "Overall # of frames:  280  found with (before cropping) frame dimensions:  314 700\n",
      "Starting to extract posture\n"
     ]
    },
    {
     "name": "stderr",
     "output_type": "stream",
     "text": [
      "290it [00:32,  9.05it/s]                                                                                               \n"
     ]
    },
    {
     "name": "stdout",
     "output_type": "stream",
     "text": [
      "Saving results in \\\\dk-server.dk.ucsd.edu\\afassihizakeri\\Topviewmovies\\ar35motor\\2021_11_02...\n",
      "Saving csv poses!\n",
      "Starting to analyze %  \\\\dk-server.dk.ucsd.edu\\afassihizakeri\\Topviewmovies\\ar35motor\\2021_11_02\\Mask159videoL.avi\n",
      "\\\\dk-server.dk.ucsd.edu\\afassihizakeri\\Topviewmovies\\ar35motor\\2021_11_02  already exists!\n",
      "Loading  \\\\dk-server.dk.ucsd.edu\\afassihizakeri\\Topviewmovies\\ar35motor\\2021_11_02\\Mask159videoL.avi\n",
      "Duration of video [s]:  10.72 , recorded with  40.0 fps!\n",
      "Overall # of frames:  429  found with (before cropping) frame dimensions:  314 700\n",
      "Starting to extract posture\n"
     ]
    },
    {
     "name": "stderr",
     "output_type": "stream",
     "text": [
      "430it [00:49,  8.71it/s]                                                                                               \n"
     ]
    },
    {
     "name": "stdout",
     "output_type": "stream",
     "text": [
      "Saving results in \\\\dk-server.dk.ucsd.edu\\afassihizakeri\\Topviewmovies\\ar35motor\\2021_11_02...\n",
      "Saving csv poses!\n",
      "Starting to analyze %  \\\\dk-server.dk.ucsd.edu\\afassihizakeri\\Topviewmovies\\ar35motor\\2021_11_02\\Mask14videoL.avi\n",
      "\\\\dk-server.dk.ucsd.edu\\afassihizakeri\\Topviewmovies\\ar35motor\\2021_11_02  already exists!\n",
      "Loading  \\\\dk-server.dk.ucsd.edu\\afassihizakeri\\Topviewmovies\\ar35motor\\2021_11_02\\Mask14videoL.avi\n",
      "Duration of video [s]:  11.68 , recorded with  40.0 fps!\n",
      "Overall # of frames:  467  found with (before cropping) frame dimensions:  314 700\n",
      "Starting to extract posture\n"
     ]
    },
    {
     "name": "stderr",
     "output_type": "stream",
     "text": [
      "470it [00:54,  8.69it/s]                                                                                               \n"
     ]
    },
    {
     "name": "stdout",
     "output_type": "stream",
     "text": [
      "Saving results in \\\\dk-server.dk.ucsd.edu\\afassihizakeri\\Topviewmovies\\ar35motor\\2021_11_02...\n",
      "Saving csv poses!\n",
      "Starting to analyze %  \\\\dk-server.dk.ucsd.edu\\afassihizakeri\\Topviewmovies\\ar35motor\\2021_11_02\\Mask172videoL.avi\n",
      "\\\\dk-server.dk.ucsd.edu\\afassihizakeri\\Topviewmovies\\ar35motor\\2021_11_02  already exists!\n",
      "Loading  \\\\dk-server.dk.ucsd.edu\\afassihizakeri\\Topviewmovies\\ar35motor\\2021_11_02\\Mask172videoL.avi\n",
      "Duration of video [s]:  12.47 , recorded with  40.0 fps!\n",
      "Overall # of frames:  499  found with (before cropping) frame dimensions:  314 700\n",
      "Starting to extract posture\n"
     ]
    },
    {
     "name": "stderr",
     "output_type": "stream",
     "text": [
      "500it [00:57,  8.66it/s]                                                                                               \n"
     ]
    },
    {
     "name": "stdout",
     "output_type": "stream",
     "text": [
      "Saving results in \\\\dk-server.dk.ucsd.edu\\afassihizakeri\\Topviewmovies\\ar35motor\\2021_11_02...\n",
      "Saving csv poses!\n",
      "Starting to analyze %  \\\\dk-server.dk.ucsd.edu\\afassihizakeri\\Topviewmovies\\ar35motor\\2021_11_02\\Mask61videoL.avi\n",
      "\\\\dk-server.dk.ucsd.edu\\afassihizakeri\\Topviewmovies\\ar35motor\\2021_11_02  already exists!\n",
      "Loading  \\\\dk-server.dk.ucsd.edu\\afassihizakeri\\Topviewmovies\\ar35motor\\2021_11_02\\Mask61videoL.avi\n",
      "Duration of video [s]:  12.5 , recorded with  40.0 fps!\n",
      "Overall # of frames:  500  found with (before cropping) frame dimensions:  314 700\n",
      "Starting to extract posture\n"
     ]
    },
    {
     "name": "stderr",
     "output_type": "stream",
     "text": [
      "510it [00:57,  8.84it/s]                                                                                               \n"
     ]
    },
    {
     "name": "stdout",
     "output_type": "stream",
     "text": [
      "Saving results in \\\\dk-server.dk.ucsd.edu\\afassihizakeri\\Topviewmovies\\ar35motor\\2021_11_02...\n",
      "Saving csv poses!\n",
      "Starting to analyze %  \\\\dk-server.dk.ucsd.edu\\afassihizakeri\\Topviewmovies\\ar35motor\\2021_11_02\\Mask49videoL.avi\n",
      "\\\\dk-server.dk.ucsd.edu\\afassihizakeri\\Topviewmovies\\ar35motor\\2021_11_02  already exists!\n",
      "Loading  \\\\dk-server.dk.ucsd.edu\\afassihizakeri\\Topviewmovies\\ar35motor\\2021_11_02\\Mask49videoL.avi\n",
      "Duration of video [s]:  10.9 , recorded with  40.0 fps!\n",
      "Overall # of frames:  436  found with (before cropping) frame dimensions:  314 700\n",
      "Starting to extract posture\n"
     ]
    },
    {
     "name": "stderr",
     "output_type": "stream",
     "text": [
      "440it [00:50,  8.72it/s]                                                                                               \n"
     ]
    },
    {
     "name": "stdout",
     "output_type": "stream",
     "text": [
      "Saving results in \\\\dk-server.dk.ucsd.edu\\afassihizakeri\\Topviewmovies\\ar35motor\\2021_11_02...\n",
      "Saving csv poses!\n",
      "Starting to analyze %  \\\\dk-server.dk.ucsd.edu\\afassihizakeri\\Topviewmovies\\ar35motor\\2021_11_02\\Mask17videoL.avi\n",
      "\\\\dk-server.dk.ucsd.edu\\afassihizakeri\\Topviewmovies\\ar35motor\\2021_11_02  already exists!\n",
      "Loading  \\\\dk-server.dk.ucsd.edu\\afassihizakeri\\Topviewmovies\\ar35motor\\2021_11_02\\Mask17videoL.avi\n",
      "Duration of video [s]:  11.78 , recorded with  40.0 fps!\n",
      "Overall # of frames:  471  found with (before cropping) frame dimensions:  314 700\n",
      "Starting to extract posture\n"
     ]
    },
    {
     "name": "stderr",
     "output_type": "stream",
     "text": [
      "480it [00:54,  8.88it/s]                                                                                               \n"
     ]
    },
    {
     "name": "stdout",
     "output_type": "stream",
     "text": [
      "Saving results in \\\\dk-server.dk.ucsd.edu\\afassihizakeri\\Topviewmovies\\ar35motor\\2021_11_02...\n",
      "Saving csv poses!\n",
      "Starting to analyze %  \\\\dk-server.dk.ucsd.edu\\afassihizakeri\\Topviewmovies\\ar35motor\\2021_11_02\\Mask104videoL.avi\n",
      "\\\\dk-server.dk.ucsd.edu\\afassihizakeri\\Topviewmovies\\ar35motor\\2021_11_02  already exists!\n",
      "Loading  \\\\dk-server.dk.ucsd.edu\\afassihizakeri\\Topviewmovies\\ar35motor\\2021_11_02\\Mask104videoL.avi\n",
      "Duration of video [s]:  7.2 , recorded with  40.0 fps!\n",
      "Overall # of frames:  288  found with (before cropping) frame dimensions:  314 700\n",
      "Starting to extract posture\n"
     ]
    },
    {
     "name": "stderr",
     "output_type": "stream",
     "text": [
      "290it [00:33,  8.78it/s]                                                                                               \n"
     ]
    },
    {
     "name": "stdout",
     "output_type": "stream",
     "text": [
      "Saving results in \\\\dk-server.dk.ucsd.edu\\afassihizakeri\\Topviewmovies\\ar35motor\\2021_11_02...\n",
      "Saving csv poses!\n",
      "Starting to analyze %  \\\\dk-server.dk.ucsd.edu\\afassihizakeri\\Topviewmovies\\ar35motor\\2021_11_02\\Mask173videoL.avi\n",
      "\\\\dk-server.dk.ucsd.edu\\afassihizakeri\\Topviewmovies\\ar35motor\\2021_11_02  already exists!\n",
      "Loading  \\\\dk-server.dk.ucsd.edu\\afassihizakeri\\Topviewmovies\\ar35motor\\2021_11_02\\Mask173videoL.avi\n",
      "Duration of video [s]:  12.5 , recorded with  40.0 fps!\n",
      "Overall # of frames:  500  found with (before cropping) frame dimensions:  314 700\n",
      "Starting to extract posture\n"
     ]
    },
    {
     "name": "stderr",
     "output_type": "stream",
     "text": [
      "510it [00:58,  8.76it/s]                                                                                               \n"
     ]
    },
    {
     "name": "stdout",
     "output_type": "stream",
     "text": [
      "Saving results in \\\\dk-server.dk.ucsd.edu\\afassihizakeri\\Topviewmovies\\ar35motor\\2021_11_02...\n",
      "Saving csv poses!\n",
      "Starting to analyze %  \\\\dk-server.dk.ucsd.edu\\afassihizakeri\\Topviewmovies\\ar35motor\\2021_11_02\\Mask60videoL.avi\n",
      "\\\\dk-server.dk.ucsd.edu\\afassihizakeri\\Topviewmovies\\ar35motor\\2021_11_02  already exists!\n",
      "Loading  \\\\dk-server.dk.ucsd.edu\\afassihizakeri\\Topviewmovies\\ar35motor\\2021_11_02\\Mask60videoL.avi\n",
      "Duration of video [s]:  12.12 , recorded with  40.0 fps!\n",
      "Overall # of frames:  485  found with (before cropping) frame dimensions:  314 700\n",
      "Starting to extract posture\n"
     ]
    },
    {
     "name": "stderr",
     "output_type": "stream",
     "text": [
      "490it [00:55,  8.85it/s]                                                                                               \n"
     ]
    },
    {
     "name": "stdout",
     "output_type": "stream",
     "text": [
      "Saving results in \\\\dk-server.dk.ucsd.edu\\afassihizakeri\\Topviewmovies\\ar35motor\\2021_11_02...\n",
      "Saving csv poses!\n",
      "Starting to analyze %  \\\\dk-server.dk.ucsd.edu\\afassihizakeri\\Topviewmovies\\ar35motor\\2021_11_02\\Mask16videoL.avi\n",
      "\\\\dk-server.dk.ucsd.edu\\afassihizakeri\\Topviewmovies\\ar35motor\\2021_11_02  already exists!\n",
      "Loading  \\\\dk-server.dk.ucsd.edu\\afassihizakeri\\Topviewmovies\\ar35motor\\2021_11_02\\Mask16videoL.avi\n",
      "Duration of video [s]:  11.28 , recorded with  40.0 fps!\n",
      "Overall # of frames:  451  found with (before cropping) frame dimensions:  314 700\n",
      "Starting to extract posture\n"
     ]
    },
    {
     "name": "stderr",
     "output_type": "stream",
     "text": [
      "460it [00:51,  8.87it/s]                                                                                               \n"
     ]
    },
    {
     "name": "stdout",
     "output_type": "stream",
     "text": [
      "Saving results in \\\\dk-server.dk.ucsd.edu\\afassihizakeri\\Topviewmovies\\ar35motor\\2021_11_02...\n",
      "Saving csv poses!\n",
      "Starting to analyze %  \\\\dk-server.dk.ucsd.edu\\afassihizakeri\\Topviewmovies\\ar35motor\\2021_11_02\\Mask48videoL.avi\n",
      "\\\\dk-server.dk.ucsd.edu\\afassihizakeri\\Topviewmovies\\ar35motor\\2021_11_02  already exists!\n",
      "Loading  \\\\dk-server.dk.ucsd.edu\\afassihizakeri\\Topviewmovies\\ar35motor\\2021_11_02\\Mask48videoL.avi\n",
      "Duration of video [s]:  10.97 , recorded with  40.0 fps!\n",
      "Overall # of frames:  439  found with (before cropping) frame dimensions:  314 700\n",
      "Starting to extract posture\n"
     ]
    },
    {
     "name": "stderr",
     "output_type": "stream",
     "text": [
      "440it [00:50,  8.75it/s]                                                                                               \n"
     ]
    },
    {
     "name": "stdout",
     "output_type": "stream",
     "text": [
      "Saving results in \\\\dk-server.dk.ucsd.edu\\afassihizakeri\\Topviewmovies\\ar35motor\\2021_11_02...\n",
      "Saving csv poses!\n",
      "Starting to analyze %  \\\\dk-server.dk.ucsd.edu\\afassihizakeri\\Topviewmovies\\ar35motor\\2021_11_02\\Mask105videoL.avi\n",
      "\\\\dk-server.dk.ucsd.edu\\afassihizakeri\\Topviewmovies\\ar35motor\\2021_11_02  already exists!\n",
      "Loading  \\\\dk-server.dk.ucsd.edu\\afassihizakeri\\Topviewmovies\\ar35motor\\2021_11_02\\Mask105videoL.avi\n",
      "Duration of video [s]:  9.03 , recorded with  40.0 fps!\n",
      "Overall # of frames:  361  found with (before cropping) frame dimensions:  314 700\n",
      "Starting to extract posture\n"
     ]
    },
    {
     "name": "stderr",
     "output_type": "stream",
     "text": [
      "370it [00:41,  8.86it/s]                                                                                               \n"
     ]
    },
    {
     "name": "stdout",
     "output_type": "stream",
     "text": [
      "Saving results in \\\\dk-server.dk.ucsd.edu\\afassihizakeri\\Topviewmovies\\ar35motor\\2021_11_02...\n",
      "Saving csv poses!\n",
      "Starting to analyze %  \\\\dk-server.dk.ucsd.edu\\afassihizakeri\\Topviewmovies\\ar35motor\\2021_11_02\\Mask199videoL.avi\n",
      "\\\\dk-server.dk.ucsd.edu\\afassihizakeri\\Topviewmovies\\ar35motor\\2021_11_02  already exists!\n",
      "Loading  \\\\dk-server.dk.ucsd.edu\\afassihizakeri\\Topviewmovies\\ar35motor\\2021_11_02\\Mask199videoL.avi\n",
      "Duration of video [s]:  12.5 , recorded with  40.0 fps!\n",
      "Overall # of frames:  500  found with (before cropping) frame dimensions:  314 700\n",
      "Starting to extract posture\n"
     ]
    },
    {
     "name": "stderr",
     "output_type": "stream",
     "text": [
      "510it [00:57,  8.82it/s]                                                                                               \n"
     ]
    },
    {
     "name": "stdout",
     "output_type": "stream",
     "text": [
      "Saving results in \\\\dk-server.dk.ucsd.edu\\afassihizakeri\\Topviewmovies\\ar35motor\\2021_11_02...\n",
      "Saving csv poses!\n",
      "Starting to analyze %  \\\\dk-server.dk.ucsd.edu\\afassihizakeri\\Topviewmovies\\ar35motor\\2021_11_02\\Mask11videoL.avi\n",
      "\\\\dk-server.dk.ucsd.edu\\afassihizakeri\\Topviewmovies\\ar35motor\\2021_11_02  already exists!\n",
      "Loading  \\\\dk-server.dk.ucsd.edu\\afassihizakeri\\Topviewmovies\\ar35motor\\2021_11_02\\Mask11videoL.avi\n",
      "Duration of video [s]:  12.12 , recorded with  40.0 fps!\n",
      "Overall # of frames:  485  found with (before cropping) frame dimensions:  314 700\n",
      "Starting to extract posture\n"
     ]
    },
    {
     "name": "stderr",
     "output_type": "stream",
     "text": [
      "490it [00:56,  8.73it/s]                                                                                               \n"
     ]
    },
    {
     "name": "stdout",
     "output_type": "stream",
     "text": [
      "Saving results in \\\\dk-server.dk.ucsd.edu\\afassihizakeri\\Topviewmovies\\ar35motor\\2021_11_02...\n",
      "Saving csv poses!\n",
      "Starting to analyze %  \\\\dk-server.dk.ucsd.edu\\afassihizakeri\\Topviewmovies\\ar35motor\\2021_11_02\\Mask102videoL.avi\n",
      "\\\\dk-server.dk.ucsd.edu\\afassihizakeri\\Topviewmovies\\ar35motor\\2021_11_02  already exists!\n",
      "Loading  \\\\dk-server.dk.ucsd.edu\\afassihizakeri\\Topviewmovies\\ar35motor\\2021_11_02\\Mask102videoL.avi\n",
      "Duration of video [s]:  10.28 , recorded with  40.0 fps!\n",
      "Overall # of frames:  411  found with (before cropping) frame dimensions:  314 700\n",
      "Starting to extract posture\n"
     ]
    },
    {
     "name": "stderr",
     "output_type": "stream",
     "text": [
      "420it [00:47,  8.76it/s]                                                                                               \n"
     ]
    },
    {
     "name": "stdout",
     "output_type": "stream",
     "text": [
      "Saving results in \\\\dk-server.dk.ucsd.edu\\afassihizakeri\\Topviewmovies\\ar35motor\\2021_11_02...\n",
      "Saving csv poses!\n",
      "Starting to analyze %  \\\\dk-server.dk.ucsd.edu\\afassihizakeri\\Topviewmovies\\ar35motor\\2021_11_02\\Mask174videoL.avi\n",
      "\\\\dk-server.dk.ucsd.edu\\afassihizakeri\\Topviewmovies\\ar35motor\\2021_11_02  already exists!\n",
      "Loading  \\\\dk-server.dk.ucsd.edu\\afassihizakeri\\Topviewmovies\\ar35motor\\2021_11_02\\Mask174videoL.avi\n",
      "Duration of video [s]:  12.5 , recorded with  40.0 fps!\n",
      "Overall # of frames:  500  found with (before cropping) frame dimensions:  314 700\n",
      "Starting to extract posture\n"
     ]
    },
    {
     "name": "stderr",
     "output_type": "stream",
     "text": [
      "510it [00:57,  8.87it/s]                                                                                               \n"
     ]
    },
    {
     "name": "stdout",
     "output_type": "stream",
     "text": [
      "Saving results in \\\\dk-server.dk.ucsd.edu\\afassihizakeri\\Topviewmovies\\ar35motor\\2021_11_02...\n",
      "Saving csv poses!\n",
      "Starting to analyze %  \\\\dk-server.dk.ucsd.edu\\afassihizakeri\\Topviewmovies\\ar35motor\\2021_11_02\\Mask67videoL.avi\n",
      "\\\\dk-server.dk.ucsd.edu\\afassihizakeri\\Topviewmovies\\ar35motor\\2021_11_02  already exists!\n",
      "Loading  \\\\dk-server.dk.ucsd.edu\\afassihizakeri\\Topviewmovies\\ar35motor\\2021_11_02\\Mask67videoL.avi\n",
      "Duration of video [s]:  7.97 , recorded with  40.0 fps!\n",
      "Overall # of frames:  319  found with (before cropping) frame dimensions:  314 700\n",
      "Starting to extract posture\n"
     ]
    },
    {
     "name": "stderr",
     "output_type": "stream",
     "text": [
      "320it [00:36,  8.79it/s]                                                                                               \n"
     ]
    },
    {
     "name": "stdout",
     "output_type": "stream",
     "text": [
      "Saving results in \\\\dk-server.dk.ucsd.edu\\afassihizakeri\\Topviewmovies\\ar35motor\\2021_11_02...\n",
      "Saving csv poses!\n",
      "Starting to analyze %  \\\\dk-server.dk.ucsd.edu\\afassihizakeri\\Topviewmovies\\ar35motor\\2021_11_02\\Mask39videoL.avi\n",
      "\\\\dk-server.dk.ucsd.edu\\afassihizakeri\\Topviewmovies\\ar35motor\\2021_11_02  already exists!\n",
      "Loading  \\\\dk-server.dk.ucsd.edu\\afassihizakeri\\Topviewmovies\\ar35motor\\2021_11_02\\Mask39videoL.avi\n",
      "Duration of video [s]:  12.03 , recorded with  40.0 fps!\n",
      "Overall # of frames:  481  found with (before cropping) frame dimensions:  314 700\n",
      "Starting to extract posture\n"
     ]
    },
    {
     "name": "stderr",
     "output_type": "stream",
     "text": [
      "490it [00:55,  8.81it/s]                                                                                               \n"
     ]
    },
    {
     "name": "stdout",
     "output_type": "stream",
     "text": [
      "Saving results in \\\\dk-server.dk.ucsd.edu\\afassihizakeri\\Topviewmovies\\ar35motor\\2021_11_02...\n",
      "Saving csv poses!\n",
      "Starting to analyze %  \\\\dk-server.dk.ucsd.edu\\afassihizakeri\\Topviewmovies\\ar35motor\\2021_11_02\\Mask210videoL.avi\n",
      "\\\\dk-server.dk.ucsd.edu\\afassihizakeri\\Topviewmovies\\ar35motor\\2021_11_02  already exists!\n",
      "Loading  \\\\dk-server.dk.ucsd.edu\\afassihizakeri\\Topviewmovies\\ar35motor\\2021_11_02\\Mask210videoL.avi\n",
      "Duration of video [s]:  9.65 , recorded with  40.0 fps!\n",
      "Overall # of frames:  386  found with (before cropping) frame dimensions:  314 700\n",
      "Starting to extract posture\n"
     ]
    },
    {
     "name": "stderr",
     "output_type": "stream",
     "text": [
      "390it [00:44,  8.69it/s]                                                                                               \n"
     ]
    },
    {
     "name": "stdout",
     "output_type": "stream",
     "text": [
      "Saving results in \\\\dk-server.dk.ucsd.edu\\afassihizakeri\\Topviewmovies\\ar35motor\\2021_11_02...\n",
      "Saving csv poses!\n",
      "Starting to analyze %  \\\\dk-server.dk.ucsd.edu\\afassihizakeri\\Topviewmovies\\ar35motor\\2021_11_02\\Mask10videoL.avi\n",
      "\\\\dk-server.dk.ucsd.edu\\afassihizakeri\\Topviewmovies\\ar35motor\\2021_11_02  already exists!\n",
      "Loading  \\\\dk-server.dk.ucsd.edu\\afassihizakeri\\Topviewmovies\\ar35motor\\2021_11_02\\Mask10videoL.avi\n",
      "Duration of video [s]:  11.07 , recorded with  40.0 fps!\n",
      "Overall # of frames:  443  found with (before cropping) frame dimensions:  314 700\n",
      "Starting to extract posture\n"
     ]
    },
    {
     "name": "stderr",
     "output_type": "stream",
     "text": [
      "450it [00:50,  8.82it/s]                                                                                               \n"
     ]
    },
    {
     "name": "stdout",
     "output_type": "stream",
     "text": [
      "Saving results in \\\\dk-server.dk.ucsd.edu\\afassihizakeri\\Topviewmovies\\ar35motor\\2021_11_02...\n",
      "Saving csv poses!\n",
      "Starting to analyze %  \\\\dk-server.dk.ucsd.edu\\afassihizakeri\\Topviewmovies\\ar35motor\\2021_11_02\\Mask198videoL.avi\n",
      "\\\\dk-server.dk.ucsd.edu\\afassihizakeri\\Topviewmovies\\ar35motor\\2021_11_02  already exists!\n",
      "Loading  \\\\dk-server.dk.ucsd.edu\\afassihizakeri\\Topviewmovies\\ar35motor\\2021_11_02\\Mask198videoL.avi\n",
      "Duration of video [s]:  12.5 , recorded with  40.0 fps!\n",
      "Overall # of frames:  500  found with (before cropping) frame dimensions:  314 700\n",
      "Starting to extract posture\n"
     ]
    },
    {
     "name": "stderr",
     "output_type": "stream",
     "text": [
      "510it [00:57,  8.92it/s]                                                                                               \n"
     ]
    },
    {
     "name": "stdout",
     "output_type": "stream",
     "text": [
      "Saving results in \\\\dk-server.dk.ucsd.edu\\afassihizakeri\\Topviewmovies\\ar35motor\\2021_11_02...\n",
      "Saving csv poses!\n",
      "Starting to analyze %  \\\\dk-server.dk.ucsd.edu\\afassihizakeri\\Topviewmovies\\ar35motor\\2021_11_02\\Mask103videoL.avi\n",
      "\\\\dk-server.dk.ucsd.edu\\afassihizakeri\\Topviewmovies\\ar35motor\\2021_11_02  already exists!\n",
      "Loading  \\\\dk-server.dk.ucsd.edu\\afassihizakeri\\Topviewmovies\\ar35motor\\2021_11_02\\Mask103videoL.avi\n",
      "Duration of video [s]:  12.38 , recorded with  40.0 fps!\n",
      "Overall # of frames:  495  found with (before cropping) frame dimensions:  314 700\n",
      "Starting to extract posture\n"
     ]
    },
    {
     "name": "stderr",
     "output_type": "stream",
     "text": [
      "500it [00:56,  8.85it/s]                                                                                               \n"
     ]
    },
    {
     "name": "stdout",
     "output_type": "stream",
     "text": [
      "Saving results in \\\\dk-server.dk.ucsd.edu\\afassihizakeri\\Topviewmovies\\ar35motor\\2021_11_02...\n",
      "Saving csv poses!\n",
      "Starting to analyze %  \\\\dk-server.dk.ucsd.edu\\afassihizakeri\\Topviewmovies\\ar35motor\\2021_11_02\\Mask175videoL.avi\n",
      "\\\\dk-server.dk.ucsd.edu\\afassihizakeri\\Topviewmovies\\ar35motor\\2021_11_02  already exists!\n",
      "Loading  \\\\dk-server.dk.ucsd.edu\\afassihizakeri\\Topviewmovies\\ar35motor\\2021_11_02\\Mask175videoL.avi\n",
      "Duration of video [s]:  8.53 , recorded with  40.0 fps!\n",
      "Overall # of frames:  341  found with (before cropping) frame dimensions:  314 700\n",
      "Starting to extract posture\n"
     ]
    },
    {
     "name": "stderr",
     "output_type": "stream",
     "text": [
      "350it [00:39,  8.94it/s]                                                                                               \n"
     ]
    },
    {
     "name": "stdout",
     "output_type": "stream",
     "text": [
      "Saving results in \\\\dk-server.dk.ucsd.edu\\afassihizakeri\\Topviewmovies\\ar35motor\\2021_11_02...\n",
      "Saving csv poses!\n",
      "Starting to analyze %  \\\\dk-server.dk.ucsd.edu\\afassihizakeri\\Topviewmovies\\ar35motor\\2021_11_02\\Mask38videoL.avi\n",
      "\\\\dk-server.dk.ucsd.edu\\afassihizakeri\\Topviewmovies\\ar35motor\\2021_11_02  already exists!\n",
      "Loading  \\\\dk-server.dk.ucsd.edu\\afassihizakeri\\Topviewmovies\\ar35motor\\2021_11_02\\Mask38videoL.avi\n",
      "Duration of video [s]:  11.07 , recorded with  40.0 fps!\n",
      "Overall # of frames:  443  found with (before cropping) frame dimensions:  314 700\n",
      "Starting to extract posture\n"
     ]
    },
    {
     "name": "stderr",
     "output_type": "stream",
     "text": [
      "450it [00:51,  8.72it/s]                                                                                               \n"
     ]
    },
    {
     "name": "stdout",
     "output_type": "stream",
     "text": [
      "Saving results in \\\\dk-server.dk.ucsd.edu\\afassihizakeri\\Topviewmovies\\ar35motor\\2021_11_02...\n",
      "Saving csv poses!\n",
      "Starting to analyze %  \\\\dk-server.dk.ucsd.edu\\afassihizakeri\\Topviewmovies\\ar35motor\\2021_11_02\\Mask66videoL.avi\n",
      "\\\\dk-server.dk.ucsd.edu\\afassihizakeri\\Topviewmovies\\ar35motor\\2021_11_02  already exists!\n",
      "Loading  \\\\dk-server.dk.ucsd.edu\\afassihizakeri\\Topviewmovies\\ar35motor\\2021_11_02\\Mask66videoL.avi\n",
      "Duration of video [s]:  7.7 , recorded with  40.0 fps!\n",
      "Overall # of frames:  308  found with (before cropping) frame dimensions:  314 700\n",
      "Starting to extract posture\n"
     ]
    },
    {
     "name": "stderr",
     "output_type": "stream",
     "text": [
      "310it [00:35,  8.66it/s]                                                                                               \n"
     ]
    },
    {
     "name": "stdout",
     "output_type": "stream",
     "text": [
      "Saving results in \\\\dk-server.dk.ucsd.edu\\afassihizakeri\\Topviewmovies\\ar35motor\\2021_11_02...\n",
      "Saving csv poses!\n",
      "Starting to analyze %  \\\\dk-server.dk.ucsd.edu\\afassihizakeri\\Topviewmovies\\ar35motor\\2021_11_02\\Mask88videoL.avi\n",
      "\\\\dk-server.dk.ucsd.edu\\afassihizakeri\\Topviewmovies\\ar35motor\\2021_11_02  already exists!\n",
      "Loading  \\\\dk-server.dk.ucsd.edu\\afassihizakeri\\Topviewmovies\\ar35motor\\2021_11_02\\Mask88videoL.avi\n",
      "Duration of video [s]:  11.05 , recorded with  40.0 fps!\n",
      "Overall # of frames:  442  found with (before cropping) frame dimensions:  314 700\n",
      "Starting to extract posture\n"
     ]
    },
    {
     "name": "stderr",
     "output_type": "stream",
     "text": [
      "450it [00:51,  8.79it/s]                                                                                               \n"
     ]
    },
    {
     "name": "stdout",
     "output_type": "stream",
     "text": [
      "Saving results in \\\\dk-server.dk.ucsd.edu\\afassihizakeri\\Topviewmovies\\ar35motor\\2021_11_02...\n",
      "Saving csv poses!\n",
      "Starting to analyze %  \\\\dk-server.dk.ucsd.edu\\afassihizakeri\\Topviewmovies\\ar35motor\\2021_11_02\\Mask100videoL.avi\n",
      "\\\\dk-server.dk.ucsd.edu\\afassihizakeri\\Topviewmovies\\ar35motor\\2021_11_02  already exists!\n",
      "Loading  \\\\dk-server.dk.ucsd.edu\\afassihizakeri\\Topviewmovies\\ar35motor\\2021_11_02\\Mask100videoL.avi\n",
      "Duration of video [s]:  9.65 , recorded with  40.0 fps!\n",
      "Overall # of frames:  386  found with (before cropping) frame dimensions:  314 700\n",
      "Starting to extract posture\n"
     ]
    },
    {
     "name": "stderr",
     "output_type": "stream",
     "text": [
      "390it [00:44,  8.76it/s]                                                                                               \n"
     ]
    },
    {
     "name": "stdout",
     "output_type": "stream",
     "text": [
      "Saving results in \\\\dk-server.dk.ucsd.edu\\afassihizakeri\\Topviewmovies\\ar35motor\\2021_11_02...\n",
      "Saving csv poses!\n",
      "Starting to analyze %  \\\\dk-server.dk.ucsd.edu\\afassihizakeri\\Topviewmovies\\ar35motor\\2021_11_02\\Mask9videoL.avi\n",
      "\\\\dk-server.dk.ucsd.edu\\afassihizakeri\\Topviewmovies\\ar35motor\\2021_11_02  already exists!\n",
      "Loading  \\\\dk-server.dk.ucsd.edu\\afassihizakeri\\Topviewmovies\\ar35motor\\2021_11_02\\Mask9videoL.avi\n",
      "Duration of video [s]:  10.62 , recorded with  40.0 fps!\n",
      "Overall # of frames:  425  found with (before cropping) frame dimensions:  314 700\n",
      "Starting to extract posture\n"
     ]
    },
    {
     "name": "stderr",
     "output_type": "stream",
     "text": [
      "430it [00:49,  8.77it/s]                                                                                               \n"
     ]
    },
    {
     "name": "stdout",
     "output_type": "stream",
     "text": [
      "Saving results in \\\\dk-server.dk.ucsd.edu\\afassihizakeri\\Topviewmovies\\ar35motor\\2021_11_02...\n",
      "Saving csv poses!\n",
      "Starting to analyze %  \\\\dk-server.dk.ucsd.edu\\afassihizakeri\\Topviewmovies\\ar35motor\\2021_11_02\\Mask13videoL.avi\n",
      "\\\\dk-server.dk.ucsd.edu\\afassihizakeri\\Topviewmovies\\ar35motor\\2021_11_02  already exists!\n",
      "Loading  \\\\dk-server.dk.ucsd.edu\\afassihizakeri\\Topviewmovies\\ar35motor\\2021_11_02\\Mask13videoL.avi\n",
      "Duration of video [s]:  12.5 , recorded with  40.0 fps!\n",
      "Overall # of frames:  500  found with (before cropping) frame dimensions:  314 700\n",
      "Starting to extract posture\n"
     ]
    },
    {
     "name": "stderr",
     "output_type": "stream",
     "text": [
      "510it [00:57,  8.92it/s]                                                                                               \n"
     ]
    },
    {
     "name": "stdout",
     "output_type": "stream",
     "text": [
      "Saving results in \\\\dk-server.dk.ucsd.edu\\afassihizakeri\\Topviewmovies\\ar35motor\\2021_11_02...\n",
      "Saving csv poses!\n",
      "Starting to analyze %  \\\\dk-server.dk.ucsd.edu\\afassihizakeri\\Topviewmovies\\ar35motor\\2021_11_02\\Mask65videoL.avi\n",
      "\\\\dk-server.dk.ucsd.edu\\afassihizakeri\\Topviewmovies\\ar35motor\\2021_11_02  already exists!\n",
      "Loading  \\\\dk-server.dk.ucsd.edu\\afassihizakeri\\Topviewmovies\\ar35motor\\2021_11_02\\Mask65videoL.avi\n",
      "Duration of video [s]:  11.72 , recorded with  40.0 fps!\n",
      "Overall # of frames:  469  found with (before cropping) frame dimensions:  314 700\n",
      "Starting to extract posture\n"
     ]
    },
    {
     "name": "stderr",
     "output_type": "stream",
     "text": [
      "470it [00:53,  8.71it/s]                                                                                               \n"
     ]
    },
    {
     "name": "stdout",
     "output_type": "stream",
     "text": [
      "Saving results in \\\\dk-server.dk.ucsd.edu\\afassihizakeri\\Topviewmovies\\ar35motor\\2021_11_02...\n",
      "Saving csv poses!\n",
      "Starting to analyze %  \\\\dk-server.dk.ucsd.edu\\afassihizakeri\\Topviewmovies\\ar35motor\\2021_11_02\\Mask176videoL.avi\n",
      "\\\\dk-server.dk.ucsd.edu\\afassihizakeri\\Topviewmovies\\ar35motor\\2021_11_02  already exists!\n",
      "Loading  \\\\dk-server.dk.ucsd.edu\\afassihizakeri\\Topviewmovies\\ar35motor\\2021_11_02\\Mask176videoL.avi\n",
      "Duration of video [s]:  10.3 , recorded with  40.0 fps!\n",
      "Overall # of frames:  412  found with (before cropping) frame dimensions:  314 700\n",
      "Starting to extract posture\n"
     ]
    },
    {
     "name": "stderr",
     "output_type": "stream",
     "text": [
      "420it [00:47,  8.89it/s]                                                                                               \n"
     ]
    },
    {
     "name": "stdout",
     "output_type": "stream",
     "text": [
      "Saving results in \\\\dk-server.dk.ucsd.edu\\afassihizakeri\\Topviewmovies\\ar35motor\\2021_11_02...\n",
      "Saving csv poses!\n",
      "Starting to analyze %  \\\\dk-server.dk.ucsd.edu\\afassihizakeri\\Topviewmovies\\ar35motor\\2021_11_02\\Mask128videoL.avi\n",
      "\\\\dk-server.dk.ucsd.edu\\afassihizakeri\\Topviewmovies\\ar35motor\\2021_11_02  already exists!\n",
      "Loading  \\\\dk-server.dk.ucsd.edu\\afassihizakeri\\Topviewmovies\\ar35motor\\2021_11_02\\Mask128videoL.avi\n",
      "Duration of video [s]:  12.5 , recorded with  40.0 fps!\n",
      "Overall # of frames:  500  found with (before cropping) frame dimensions:  314 700\n",
      "Starting to extract posture\n"
     ]
    },
    {
     "name": "stderr",
     "output_type": "stream",
     "text": [
      "510it [00:57,  8.86it/s]                                                                                               \n"
     ]
    },
    {
     "name": "stdout",
     "output_type": "stream",
     "text": [
      "Saving results in \\\\dk-server.dk.ucsd.edu\\afassihizakeri\\Topviewmovies\\ar35motor\\2021_11_02...\n",
      "Saving csv poses!\n",
      "Starting to analyze %  \\\\dk-server.dk.ucsd.edu\\afassihizakeri\\Topviewmovies\\ar35motor\\2021_11_02\\Mask101videoL.avi\n",
      "\\\\dk-server.dk.ucsd.edu\\afassihizakeri\\Topviewmovies\\ar35motor\\2021_11_02  already exists!\n",
      "Loading  \\\\dk-server.dk.ucsd.edu\\afassihizakeri\\Topviewmovies\\ar35motor\\2021_11_02\\Mask101videoL.avi\n",
      "Duration of video [s]:  10.97 , recorded with  40.0 fps!\n",
      "Overall # of frames:  439  found with (before cropping) frame dimensions:  314 700\n",
      "Starting to extract posture\n"
     ]
    },
    {
     "name": "stderr",
     "output_type": "stream",
     "text": [
      "440it [00:50,  8.79it/s]                                                                                               \n"
     ]
    },
    {
     "name": "stdout",
     "output_type": "stream",
     "text": [
      "Saving results in \\\\dk-server.dk.ucsd.edu\\afassihizakeri\\Topviewmovies\\ar35motor\\2021_11_02...\n",
      "Saving csv poses!\n",
      "Starting to analyze %  \\\\dk-server.dk.ucsd.edu\\afassihizakeri\\Topviewmovies\\ar35motor\\2021_11_02\\Mask89videoL.avi\n",
      "\\\\dk-server.dk.ucsd.edu\\afassihizakeri\\Topviewmovies\\ar35motor\\2021_11_02  already exists!\n",
      "Loading  \\\\dk-server.dk.ucsd.edu\\afassihizakeri\\Topviewmovies\\ar35motor\\2021_11_02\\Mask89videoL.avi\n",
      "Duration of video [s]:  12.5 , recorded with  40.0 fps!\n",
      "Overall # of frames:  500  found with (before cropping) frame dimensions:  314 700\n",
      "Starting to extract posture\n"
     ]
    },
    {
     "name": "stderr",
     "output_type": "stream",
     "text": [
      "510it [00:57,  8.90it/s]                                                                                               \n"
     ]
    },
    {
     "name": "stdout",
     "output_type": "stream",
     "text": [
      "Saving results in \\\\dk-server.dk.ucsd.edu\\afassihizakeri\\Topviewmovies\\ar35motor\\2021_11_02...\n",
      "Saving csv poses!\n",
      "Starting to analyze %  \\\\dk-server.dk.ucsd.edu\\afassihizakeri\\Topviewmovies\\ar35motor\\2021_11_02\\Mask12videoL.avi\n",
      "\\\\dk-server.dk.ucsd.edu\\afassihizakeri\\Topviewmovies\\ar35motor\\2021_11_02  already exists!\n",
      "Loading  \\\\dk-server.dk.ucsd.edu\\afassihizakeri\\Topviewmovies\\ar35motor\\2021_11_02\\Mask12videoL.avi\n",
      "Duration of video [s]:  12.35 , recorded with  40.0 fps!\n",
      "Overall # of frames:  494  found with (before cropping) frame dimensions:  314 700\n",
      "Starting to extract posture\n"
     ]
    },
    {
     "name": "stderr",
     "output_type": "stream",
     "text": [
      "500it [00:56,  8.81it/s]                                                                                               \n"
     ]
    },
    {
     "name": "stdout",
     "output_type": "stream",
     "text": [
      "Saving results in \\\\dk-server.dk.ucsd.edu\\afassihizakeri\\Topviewmovies\\ar35motor\\2021_11_02...\n",
      "Saving csv poses!\n",
      "Starting to analyze %  \\\\dk-server.dk.ucsd.edu\\afassihizakeri\\Topviewmovies\\ar35motor\\2021_11_02\\Mask8videoL.avi\n",
      "\\\\dk-server.dk.ucsd.edu\\afassihizakeri\\Topviewmovies\\ar35motor\\2021_11_02  already exists!\n",
      "Loading  \\\\dk-server.dk.ucsd.edu\\afassihizakeri\\Topviewmovies\\ar35motor\\2021_11_02\\Mask8videoL.avi\n",
      "Duration of video [s]:  6.65 , recorded with  40.0 fps!\n",
      "Overall # of frames:  266  found with (before cropping) frame dimensions:  314 700\n",
      "Starting to extract posture\n"
     ]
    },
    {
     "name": "stderr",
     "output_type": "stream",
     "text": [
      "270it [00:31,  8.70it/s]                                                                                               \n"
     ]
    },
    {
     "name": "stdout",
     "output_type": "stream",
     "text": [
      "Saving results in \\\\dk-server.dk.ucsd.edu\\afassihizakeri\\Topviewmovies\\ar35motor\\2021_11_02...\n",
      "Saving csv poses!\n",
      "Starting to analyze %  \\\\dk-server.dk.ucsd.edu\\afassihizakeri\\Topviewmovies\\ar35motor\\2021_11_02\\Mask64videoL.avi\n",
      "\\\\dk-server.dk.ucsd.edu\\afassihizakeri\\Topviewmovies\\ar35motor\\2021_11_02  already exists!\n",
      "Loading  \\\\dk-server.dk.ucsd.edu\\afassihizakeri\\Topviewmovies\\ar35motor\\2021_11_02\\Mask64videoL.avi\n",
      "Duration of video [s]:  11.97 , recorded with  40.0 fps!\n",
      "Overall # of frames:  479  found with (before cropping) frame dimensions:  314 700\n",
      "Starting to extract posture\n"
     ]
    },
    {
     "name": "stderr",
     "output_type": "stream",
     "text": [
      "480it [00:54,  8.79it/s]                                                                                               \n"
     ]
    },
    {
     "name": "stdout",
     "output_type": "stream",
     "text": [
      "Saving results in \\\\dk-server.dk.ucsd.edu\\afassihizakeri\\Topviewmovies\\ar35motor\\2021_11_02...\n",
      "Saving csv poses!\n",
      "Starting to analyze %  \\\\dk-server.dk.ucsd.edu\\afassihizakeri\\Topviewmovies\\ar35motor\\2021_11_02\\Mask129videoL.avi\n",
      "\\\\dk-server.dk.ucsd.edu\\afassihizakeri\\Topviewmovies\\ar35motor\\2021_11_02  already exists!\n",
      "Loading  \\\\dk-server.dk.ucsd.edu\\afassihizakeri\\Topviewmovies\\ar35motor\\2021_11_02\\Mask129videoL.avi\n",
      "Duration of video [s]:  9.22 , recorded with  40.0 fps!\n",
      "Overall # of frames:  369  found with (before cropping) frame dimensions:  314 700\n",
      "Starting to extract posture\n"
     ]
    },
    {
     "name": "stderr",
     "output_type": "stream",
     "text": [
      "370it [00:43,  8.60it/s]                                                                                               \n"
     ]
    },
    {
     "name": "stdout",
     "output_type": "stream",
     "text": [
      "Saving results in \\\\dk-server.dk.ucsd.edu\\afassihizakeri\\Topviewmovies\\ar35motor\\2021_11_02...\n",
      "Saving csv poses!\n",
      "Starting to analyze %  \\\\dk-server.dk.ucsd.edu\\afassihizakeri\\Topviewmovies\\ar35motor\\2021_11_02\\Mask177videoL.avi\n",
      "\\\\dk-server.dk.ucsd.edu\\afassihizakeri\\Topviewmovies\\ar35motor\\2021_11_02  already exists!\n",
      "Loading  \\\\dk-server.dk.ucsd.edu\\afassihizakeri\\Topviewmovies\\ar35motor\\2021_11_02\\Mask177videoL.avi\n",
      "Duration of video [s]:  11.35 , recorded with  40.0 fps!\n",
      "Overall # of frames:  454  found with (before cropping) frame dimensions:  314 700\n",
      "Starting to extract posture\n"
     ]
    },
    {
     "name": "stderr",
     "output_type": "stream",
     "text": [
      "460it [00:52,  8.84it/s]                                                                                               \n"
     ]
    },
    {
     "name": "stdout",
     "output_type": "stream",
     "text": [
      "Saving results in \\\\dk-server.dk.ucsd.edu\\afassihizakeri\\Topviewmovies\\ar35motor\\2021_11_02...\n",
      "Saving csv poses!\n",
      "The videos are analyzed. Now your research can truly start! \n",
      " You can create labeled videos with 'create_labeled_video'\n",
      "If the tracking is not satisfactory for some videos, consider expanding the training set. You can use the function 'extract_outlier_frames' to extract a few representative outlier frames.\n",
      "Filtering with median model \\\\dk-server.dk.ucsd.edu\\afassihizakeri\\Topviewmovies\\ar35motor\\2021_11_02\\Mask165videoL.avi\n",
      "No unfiltered data file found in \\\\dk-server.dk.ucsd.edu\\afassihizakeri\\Topviewmovies\\ar35motor\\2021_11_02 for video Mask165videoL and scorer DLC_resnet152_ar30shiwkerSep13shuffle1_632000.\n",
      "Filtering with median model \\\\dk-server.dk.ucsd.edu\\afassihizakeri\\Topviewmovies\\ar35motor\\2021_11_02\\Mask28videoL.avi\n",
      "No unfiltered data file found in \\\\dk-server.dk.ucsd.edu\\afassihizakeri\\Topviewmovies\\ar35motor\\2021_11_02 for video Mask28videoL and scorer DLC_resnet152_ar30shiwkerSep13shuffle1_632000.\n",
      "Filtering with median model \\\\dk-server.dk.ucsd.edu\\afassihizakeri\\Topviewmovies\\ar35motor\\2021_11_02\\Mask76videoL.avi\n",
      "No unfiltered data file found in \\\\dk-server.dk.ucsd.edu\\afassihizakeri\\Topviewmovies\\ar35motor\\2021_11_02 for video Mask76videoL and scorer DLC_resnet152_ar30shiwkerSep13shuffle1_632000.\n",
      "Filtering with median model \\\\dk-server.dk.ucsd.edu\\afassihizakeri\\Topviewmovies\\ar35motor\\2021_11_02\\Mask200videoL.avi\n",
      "No unfiltered data file found in \\\\dk-server.dk.ucsd.edu\\afassihizakeri\\Topviewmovies\\ar35motor\\2021_11_02 for video Mask200videoL and scorer DLC_resnet152_ar30shiwkerSep13shuffle1_632000.\n",
      "Filtering with median model \\\\dk-server.dk.ucsd.edu\\afassihizakeri\\Topviewmovies\\ar35motor\\2021_11_02\\Mask188videoL.avi\n",
      "No unfiltered data file found in \\\\dk-server.dk.ucsd.edu\\afassihizakeri\\Topviewmovies\\ar35motor\\2021_11_02 for video Mask188videoL and scorer DLC_resnet152_ar30shiwkerSep13shuffle1_632000.\n",
      "Filtering with median model \\\\dk-server.dk.ucsd.edu\\afassihizakeri\\Topviewmovies\\ar35motor\\2021_11_02\\Mask113videoL.avi\n",
      "No unfiltered data file found in \\\\dk-server.dk.ucsd.edu\\afassihizakeri\\Topviewmovies\\ar35motor\\2021_11_02 for video Mask113videoL and scorer DLC_resnet152_ar30shiwkerSep13shuffle1_632000.\n",
      "Filtering with median model \\\\dk-server.dk.ucsd.edu\\afassihizakeri\\Topviewmovies\\ar35motor\\2021_11_02\\Mask164videoL.avi\n",
      "No unfiltered data file found in \\\\dk-server.dk.ucsd.edu\\afassihizakeri\\Topviewmovies\\ar35motor\\2021_11_02 for video Mask164videoL and scorer DLC_resnet152_ar30shiwkerSep13shuffle1_632000.\n",
      "Filtering with median model \\\\dk-server.dk.ucsd.edu\\afassihizakeri\\Topviewmovies\\ar35motor\\2021_11_02\\Mask77videoL.avi\n",
      "No unfiltered data file found in \\\\dk-server.dk.ucsd.edu\\afassihizakeri\\Topviewmovies\\ar35motor\\2021_11_02 for video Mask77videoL and scorer DLC_resnet152_ar30shiwkerSep13shuffle1_632000.\n",
      "Filtering with median model \\\\dk-server.dk.ucsd.edu\\afassihizakeri\\Topviewmovies\\ar35motor\\2021_11_02\\Mask29videoL.avi\n",
      "No unfiltered data file found in \\\\dk-server.dk.ucsd.edu\\afassihizakeri\\Topviewmovies\\ar35motor\\2021_11_02 for video Mask29videoL and scorer DLC_resnet152_ar30shiwkerSep13shuffle1_632000.\n",
      "Filtering with median model \\\\dk-server.dk.ucsd.edu\\afassihizakeri\\Topviewmovies\\ar35motor\\2021_11_02\\Mask189videoL.avi\n",
      "No unfiltered data file found in \\\\dk-server.dk.ucsd.edu\\afassihizakeri\\Topviewmovies\\ar35motor\\2021_11_02 for video Mask189videoL and scorer DLC_resnet152_ar30shiwkerSep13shuffle1_632000.\n",
      "Filtering with median model \\\\dk-server.dk.ucsd.edu\\afassihizakeri\\Topviewmovies\\ar35motor\\2021_11_02\\Mask201videoL.avi\n",
      "No unfiltered data file found in \\\\dk-server.dk.ucsd.edu\\afassihizakeri\\Topviewmovies\\ar35motor\\2021_11_02 for video Mask201videoL and scorer DLC_resnet152_ar30shiwkerSep13shuffle1_632000.\n",
      "Filtering with median model \\\\dk-server.dk.ucsd.edu\\afassihizakeri\\Topviewmovies\\ar35motor\\2021_11_02\\Mask112videoL.avi\n",
      "No unfiltered data file found in \\\\dk-server.dk.ucsd.edu\\afassihizakeri\\Topviewmovies\\ar35motor\\2021_11_02 for video Mask112videoL and scorer DLC_resnet152_ar30shiwkerSep13shuffle1_632000.\n",
      "Filtering with median model \\\\dk-server.dk.ucsd.edu\\afassihizakeri\\Topviewmovies\\ar35motor\\2021_11_02\\Mask74videoL.avi\n",
      "No unfiltered data file found in \\\\dk-server.dk.ucsd.edu\\afassihizakeri\\Topviewmovies\\ar35motor\\2021_11_02 for video Mask74videoL and scorer DLC_resnet152_ar30shiwkerSep13shuffle1_632000.\n",
      "Filtering with median model \\\\dk-server.dk.ucsd.edu\\afassihizakeri\\Topviewmovies\\ar35motor\\2021_11_02\\Mask139videoL.avi\n",
      "No unfiltered data file found in \\\\dk-server.dk.ucsd.edu\\afassihizakeri\\Topviewmovies\\ar35motor\\2021_11_02 for video Mask139videoL and scorer DLC_resnet152_ar30shiwkerSep13shuffle1_632000.\n",
      "Filtering with median model \\\\dk-server.dk.ucsd.edu\\afassihizakeri\\Topviewmovies\\ar35motor\\2021_11_02\\Mask167videoL.avi\n",
      "No unfiltered data file found in \\\\dk-server.dk.ucsd.edu\\afassihizakeri\\Topviewmovies\\ar35motor\\2021_11_02 for video Mask167videoL and scorer DLC_resnet152_ar30shiwkerSep13shuffle1_632000.\n",
      "Filtering with median model \\\\dk-server.dk.ucsd.edu\\afassihizakeri\\Topviewmovies\\ar35motor\\2021_11_02\\Mask100L.avi\n",
      "No unfiltered data file found in \\\\dk-server.dk.ucsd.edu\\afassihizakeri\\Topviewmovies\\ar35motor\\2021_11_02 for video Mask100L and scorer DLC_resnet152_ar30shiwkerSep13shuffle1_632000.\n",
      "Filtering with median model \\\\dk-server.dk.ucsd.edu\\afassihizakeri\\Topviewmovies\\ar35motor\\2021_11_02\\Mask99videoL.avi\n",
      "No unfiltered data file found in \\\\dk-server.dk.ucsd.edu\\afassihizakeri\\Topviewmovies\\ar35motor\\2021_11_02 for video Mask99videoL and scorer DLC_resnet152_ar30shiwkerSep13shuffle1_632000.\n",
      "Filtering with median model \\\\dk-server.dk.ucsd.edu\\afassihizakeri\\Topviewmovies\\ar35motor\\2021_11_02\\Mask111videoL.avi\n",
      "No unfiltered data file found in \\\\dk-server.dk.ucsd.edu\\afassihizakeri\\Topviewmovies\\ar35motor\\2021_11_02 for video Mask111videoL and scorer DLC_resnet152_ar30shiwkerSep13shuffle1_632000.\n",
      "Filtering with median model \\\\dk-server.dk.ucsd.edu\\afassihizakeri\\Topviewmovies\\ar35motor\\2021_11_02\\Mask202videoL.avi\n",
      "No unfiltered data file found in \\\\dk-server.dk.ucsd.edu\\afassihizakeri\\Topviewmovies\\ar35motor\\2021_11_02 for video Mask202videoL and scorer DLC_resnet152_ar30shiwkerSep13shuffle1_632000.\n",
      "Filtering with median model \\\\dk-server.dk.ucsd.edu\\afassihizakeri\\Topviewmovies\\ar35motor\\2021_11_02\\Mask75videoL.avi\n",
      "No unfiltered data file found in \\\\dk-server.dk.ucsd.edu\\afassihizakeri\\Topviewmovies\\ar35motor\\2021_11_02 for video Mask75videoL and scorer DLC_resnet152_ar30shiwkerSep13shuffle1_632000.\n",
      "Filtering with median model \\\\dk-server.dk.ucsd.edu\\afassihizakeri\\Topviewmovies\\ar35motor\\2021_11_02\\Mask166videoL.avi\n",
      "No unfiltered data file found in \\\\dk-server.dk.ucsd.edu\\afassihizakeri\\Topviewmovies\\ar35motor\\2021_11_02 for video Mask166videoL and scorer DLC_resnet152_ar30shiwkerSep13shuffle1_632000.\n",
      "Filtering with median model \\\\dk-server.dk.ucsd.edu\\afassihizakeri\\Topviewmovies\\ar35motor\\2021_11_02\\Mask138videoL.avi\n",
      "No unfiltered data file found in \\\\dk-server.dk.ucsd.edu\\afassihizakeri\\Topviewmovies\\ar35motor\\2021_11_02 for video Mask138videoL and scorer DLC_resnet152_ar30shiwkerSep13shuffle1_632000.\n",
      "Filtering with median model \\\\dk-server.dk.ucsd.edu\\afassihizakeri\\Topviewmovies\\ar35motor\\2021_11_02\\Mask110videoL.avi\n",
      "No unfiltered data file found in \\\\dk-server.dk.ucsd.edu\\afassihizakeri\\Topviewmovies\\ar35motor\\2021_11_02 for video Mask110videoL and scorer DLC_resnet152_ar30shiwkerSep13shuffle1_632000.\n",
      "Filtering with median model \\\\dk-server.dk.ucsd.edu\\afassihizakeri\\Topviewmovies\\ar35motor\\2021_11_02\\Mask98videoL.avi\n",
      "No unfiltered data file found in \\\\dk-server.dk.ucsd.edu\\afassihizakeri\\Topviewmovies\\ar35motor\\2021_11_02 for video Mask98videoL and scorer DLC_resnet152_ar30shiwkerSep13shuffle1_632000.\n",
      "Filtering with median model \\\\dk-server.dk.ucsd.edu\\afassihizakeri\\Topviewmovies\\ar35motor\\2021_11_02\\Mask203videoL.avi\n",
      "No unfiltered data file found in \\\\dk-server.dk.ucsd.edu\\afassihizakeri\\Topviewmovies\\ar35motor\\2021_11_02 for video Mask203videoL and scorer DLC_resnet152_ar30shiwkerSep13shuffle1_632000.\n",
      "Filtering with median model \\\\dk-server.dk.ucsd.edu\\afassihizakeri\\Topviewmovies\\ar35motor\\2021_11_02\\Mask117videoL.avi\n"
     ]
    },
    {
     "name": "stdout",
     "output_type": "stream",
     "text": [
      "No unfiltered data file found in \\\\dk-server.dk.ucsd.edu\\afassihizakeri\\Topviewmovies\\ar35motor\\2021_11_02 for video Mask117videoL and scorer DLC_resnet152_ar30shiwkerSep13shuffle1_632000.\n",
      "Filtering with median model \\\\dk-server.dk.ucsd.edu\\afassihizakeri\\Topviewmovies\\ar35motor\\2021_11_02\\Mask149videoL.avi\n",
      "No unfiltered data file found in \\\\dk-server.dk.ucsd.edu\\afassihizakeri\\Topviewmovies\\ar35motor\\2021_11_02 for video Mask149videoL and scorer DLC_resnet152_ar30shiwkerSep13shuffle1_632000.\n",
      "Filtering with median model \\\\dk-server.dk.ucsd.edu\\afassihizakeri\\Topviewmovies\\ar35motor\\2021_11_02\\Mask204videoL.avi\n",
      "No unfiltered data file found in \\\\dk-server.dk.ucsd.edu\\afassihizakeri\\Topviewmovies\\ar35motor\\2021_11_02 for video Mask204videoL and scorer DLC_resnet152_ar30shiwkerSep13shuffle1_632000.\n",
      "Filtering with median model \\\\dk-server.dk.ucsd.edu\\afassihizakeri\\Topviewmovies\\ar35motor\\2021_11_02\\Mask72videoL.avi\n",
      "No unfiltered data file found in \\\\dk-server.dk.ucsd.edu\\afassihizakeri\\Topviewmovies\\ar35motor\\2021_11_02 for video Mask72videoL and scorer DLC_resnet152_ar30shiwkerSep13shuffle1_632000.\n",
      "Filtering with median model \\\\dk-server.dk.ucsd.edu\\afassihizakeri\\Topviewmovies\\ar35motor\\2021_11_02\\Mask161videoL.avi\n",
      "No unfiltered data file found in \\\\dk-server.dk.ucsd.edu\\afassihizakeri\\Topviewmovies\\ar35motor\\2021_11_02 for video Mask161videoL and scorer DLC_resnet152_ar30shiwkerSep13shuffle1_632000.\n",
      "Filtering with median model \\\\dk-server.dk.ucsd.edu\\afassihizakeri\\Topviewmovies\\ar35motor\\2021_11_02\\Mask148videoL.avi\n",
      "No unfiltered data file found in \\\\dk-server.dk.ucsd.edu\\afassihizakeri\\Topviewmovies\\ar35motor\\2021_11_02 for video Mask148videoL and scorer DLC_resnet152_ar30shiwkerSep13shuffle1_632000.\n",
      "Filtering with median model \\\\dk-server.dk.ucsd.edu\\afassihizakeri\\Topviewmovies\\ar35motor\\2021_11_02\\Mask116videoL.avi\n",
      "No unfiltered data file found in \\\\dk-server.dk.ucsd.edu\\afassihizakeri\\Topviewmovies\\ar35motor\\2021_11_02 for video Mask116videoL and scorer DLC_resnet152_ar30shiwkerSep13shuffle1_632000.\n",
      "Filtering with median model \\\\dk-server.dk.ucsd.edu\\afassihizakeri\\Topviewmovies\\ar35motor\\2021_11_02\\Mask205videoL.avi\n",
      "No unfiltered data file found in \\\\dk-server.dk.ucsd.edu\\afassihizakeri\\Topviewmovies\\ar35motor\\2021_11_02 for video Mask205videoL and scorer DLC_resnet152_ar30shiwkerSep13shuffle1_632000.\n",
      "Filtering with median model \\\\dk-server.dk.ucsd.edu\\afassihizakeri\\Topviewmovies\\ar35motor\\2021_11_02\\Mask73videoL.avi\n",
      "No unfiltered data file found in \\\\dk-server.dk.ucsd.edu\\afassihizakeri\\Topviewmovies\\ar35motor\\2021_11_02 for video Mask73videoL and scorer DLC_resnet152_ar30shiwkerSep13shuffle1_632000.\n",
      "Filtering with median model \\\\dk-server.dk.ucsd.edu\\afassihizakeri\\Topviewmovies\\ar35motor\\2021_11_02\\Mask160videoL.avi\n",
      "No unfiltered data file found in \\\\dk-server.dk.ucsd.edu\\afassihizakeri\\Topviewmovies\\ar35motor\\2021_11_02 for video Mask160videoL and scorer DLC_resnet152_ar30shiwkerSep13shuffle1_632000.\n",
      "Filtering with median model \\\\dk-server.dk.ucsd.edu\\afassihizakeri\\Topviewmovies\\ar35motor\\2021_11_02\\Mask58videoL.avi\n",
      "No unfiltered data file found in \\\\dk-server.dk.ucsd.edu\\afassihizakeri\\Topviewmovies\\ar35motor\\2021_11_02 for video Mask58videoL and scorer DLC_resnet152_ar30shiwkerSep13shuffle1_632000.\n",
      "Filtering with median model \\\\dk-server.dk.ucsd.edu\\afassihizakeri\\Topviewmovies\\ar35motor\\2021_11_02\\Mask206videoL.avi\n",
      "No unfiltered data file found in \\\\dk-server.dk.ucsd.edu\\afassihizakeri\\Topviewmovies\\ar35motor\\2021_11_02 for video Mask206videoL and scorer DLC_resnet152_ar30shiwkerSep13shuffle1_632000.\n",
      "Filtering with median model \\\\dk-server.dk.ucsd.edu\\afassihizakeri\\Topviewmovies\\ar35motor\\2021_11_02\\Mask115videoL.avi\n",
      "No unfiltered data file found in \\\\dk-server.dk.ucsd.edu\\afassihizakeri\\Topviewmovies\\ar35motor\\2021_11_02 for video Mask115videoL and scorer DLC_resnet152_ar30shiwkerSep13shuffle1_632000.\n",
      "Filtering with median model \\\\dk-server.dk.ucsd.edu\\afassihizakeri\\Topviewmovies\\ar35motor\\2021_11_02\\Mask163videoL.avi\n",
      "No unfiltered data file found in \\\\dk-server.dk.ucsd.edu\\afassihizakeri\\Topviewmovies\\ar35motor\\2021_11_02 for video Mask163videoL and scorer DLC_resnet152_ar30shiwkerSep13shuffle1_632000.\n",
      "Filtering with median model \\\\dk-server.dk.ucsd.edu\\afassihizakeri\\Topviewmovies\\ar35motor\\2021_11_02\\Mask70videoL.avi\n",
      "No unfiltered data file found in \\\\dk-server.dk.ucsd.edu\\afassihizakeri\\Topviewmovies\\ar35motor\\2021_11_02 for video Mask70videoL and scorer DLC_resnet152_ar30shiwkerSep13shuffle1_632000.\n",
      "Filtering with median model \\\\dk-server.dk.ucsd.edu\\afassihizakeri\\Topviewmovies\\ar35motor\\2021_11_02\\Mask207videoL.avi\n",
      "No unfiltered data file found in \\\\dk-server.dk.ucsd.edu\\afassihizakeri\\Topviewmovies\\ar35motor\\2021_11_02 for video Mask207videoL and scorer DLC_resnet152_ar30shiwkerSep13shuffle1_632000.\n",
      "Filtering with median model \\\\dk-server.dk.ucsd.edu\\afassihizakeri\\Topviewmovies\\ar35motor\\2021_11_02\\Mask59videoL.avi\n",
      "No unfiltered data file found in \\\\dk-server.dk.ucsd.edu\\afassihizakeri\\Topviewmovies\\ar35motor\\2021_11_02 for video Mask59videoL and scorer DLC_resnet152_ar30shiwkerSep13shuffle1_632000.\n",
      "Filtering with median model \\\\dk-server.dk.ucsd.edu\\afassihizakeri\\Topviewmovies\\ar35motor\\2021_11_02\\Mask114videoL.avi\n",
      "No unfiltered data file found in \\\\dk-server.dk.ucsd.edu\\afassihizakeri\\Topviewmovies\\ar35motor\\2021_11_02 for video Mask114videoL and scorer DLC_resnet152_ar30shiwkerSep13shuffle1_632000.\n",
      "Filtering with median model \\\\dk-server.dk.ucsd.edu\\afassihizakeri\\Topviewmovies\\ar35motor\\2021_11_02\\Mask162videoL.avi\n",
      "No unfiltered data file found in \\\\dk-server.dk.ucsd.edu\\afassihizakeri\\Topviewmovies\\ar35motor\\2021_11_02 for video Mask162videoL and scorer DLC_resnet152_ar30shiwkerSep13shuffle1_632000.\n",
      "Filtering with median model \\\\dk-server.dk.ucsd.edu\\afassihizakeri\\Topviewmovies\\ar35motor\\2021_11_02\\Mask71videoL.avi\n",
      "No unfiltered data file found in \\\\dk-server.dk.ucsd.edu\\afassihizakeri\\Topviewmovies\\ar35motor\\2021_11_02 for video Mask71videoL and scorer DLC_resnet152_ar30shiwkerSep13shuffle1_632000.\n",
      "Filtering with median model \\\\dk-server.dk.ucsd.edu\\afassihizakeri\\Topviewmovies\\ar35motor\\2021_11_02\\Mask57videoL.avi\n",
      "No unfiltered data file found in \\\\dk-server.dk.ucsd.edu\\afassihizakeri\\Topviewmovies\\ar35motor\\2021_11_02 for video Mask57videoL and scorer DLC_resnet152_ar30shiwkerSep13shuffle1_632000.\n",
      "Filtering with median model \\\\dk-server.dk.ucsd.edu\\afassihizakeri\\Topviewmovies\\ar35motor\\2021_11_02\\Mask209videoL.avi\n",
      "No unfiltered data file found in \\\\dk-server.dk.ucsd.edu\\afassihizakeri\\Topviewmovies\\ar35motor\\2021_11_02 for video Mask209videoL and scorer DLC_resnet152_ar30shiwkerSep13shuffle1_632000.\n",
      "Filtering with median model \\\\dk-server.dk.ucsd.edu\\afassihizakeri\\Topviewmovies\\ar35motor\\2021_11_02\\Mask181videoL.avi\n",
      "No unfiltered data file found in \\\\dk-server.dk.ucsd.edu\\afassihizakeri\\Topviewmovies\\ar35motor\\2021_11_02 for video Mask181videoL and scorer DLC_resnet152_ar30shiwkerSep13shuffle1_632000.\n",
      "Filtering with median model \\\\dk-server.dk.ucsd.edu\\afassihizakeri\\Topviewmovies\\ar35motor\\2021_11_02\\Mask92videoL.avi\n",
      "No unfiltered data file found in \\\\dk-server.dk.ucsd.edu\\afassihizakeri\\Topviewmovies\\ar35motor\\2021_11_02 for video Mask92videoL and scorer DLC_resnet152_ar30shiwkerSep13shuffle1_632000.\n",
      "Filtering with median model \\\\dk-server.dk.ucsd.edu\\afassihizakeri\\Topviewmovies\\ar35motor\\2021_11_02\\Mask144videoL.avi\n",
      "No unfiltered data file found in \\\\dk-server.dk.ucsd.edu\\afassihizakeri\\Topviewmovies\\ar35motor\\2021_11_02 for video Mask144videoL and scorer DLC_resnet152_ar30shiwkerSep13shuffle1_632000.\n",
      "Filtering with median model \\\\dk-server.dk.ucsd.edu\\afassihizakeri\\Topviewmovies\\ar35motor\\2021_11_02\\Mask132videoL.avi\n",
      "No unfiltered data file found in \\\\dk-server.dk.ucsd.edu\\afassihizakeri\\Topviewmovies\\ar35motor\\2021_11_02 for video Mask132videoL and scorer DLC_resnet152_ar30shiwkerSep13shuffle1_632000.\n",
      "Filtering with median model \\\\dk-server.dk.ucsd.edu\\afassihizakeri\\Topviewmovies\\ar35motor\\2021_11_02\\Mask21videoL.avi\n",
      "No unfiltered data file found in \\\\dk-server.dk.ucsd.edu\\afassihizakeri\\Topviewmovies\\ar35motor\\2021_11_02 for video Mask21videoL and scorer DLC_resnet152_ar30shiwkerSep13shuffle1_632000.\n",
      "Filtering with median model \\\\dk-server.dk.ucsd.edu\\afassihizakeri\\Topviewmovies\\ar35motor\\2021_11_02\\Mask180videoL.avi\n"
     ]
    },
    {
     "name": "stdout",
     "output_type": "stream",
     "text": [
      "No unfiltered data file found in \\\\dk-server.dk.ucsd.edu\\afassihizakeri\\Topviewmovies\\ar35motor\\2021_11_02 for video Mask180videoL and scorer DLC_resnet152_ar30shiwkerSep13shuffle1_632000.\n",
      "Filtering with median model \\\\dk-server.dk.ucsd.edu\\afassihizakeri\\Topviewmovies\\ar35motor\\2021_11_02\\Mask208videoL.avi\n",
      "No unfiltered data file found in \\\\dk-server.dk.ucsd.edu\\afassihizakeri\\Topviewmovies\\ar35motor\\2021_11_02 for video Mask208videoL and scorer DLC_resnet152_ar30shiwkerSep13shuffle1_632000.\n",
      "Filtering with median model \\\\dk-server.dk.ucsd.edu\\afassihizakeri\\Topviewmovies\\ar35motor\\2021_11_02\\Mask56videoL.avi\n",
      "No unfiltered data file found in \\\\dk-server.dk.ucsd.edu\\afassihizakeri\\Topviewmovies\\ar35motor\\2021_11_02 for video Mask56videoL and scorer DLC_resnet152_ar30shiwkerSep13shuffle1_632000.\n",
      "Filtering with median model \\\\dk-server.dk.ucsd.edu\\afassihizakeri\\Topviewmovies\\ar35motor\\2021_11_02\\Mask145videoL.avi\n",
      "No unfiltered data file found in \\\\dk-server.dk.ucsd.edu\\afassihizakeri\\Topviewmovies\\ar35motor\\2021_11_02 for video Mask145videoL and scorer DLC_resnet152_ar30shiwkerSep13shuffle1_632000.\n",
      "Filtering with median model \\\\dk-server.dk.ucsd.edu\\afassihizakeri\\Topviewmovies\\ar35motor\\2021_11_02\\Mask93videoL.avi\n",
      "No unfiltered data file found in \\\\dk-server.dk.ucsd.edu\\afassihizakeri\\Topviewmovies\\ar35motor\\2021_11_02 for video Mask93videoL and scorer DLC_resnet152_ar30shiwkerSep13shuffle1_632000.\n",
      "Filtering with median model \\\\dk-server.dk.ucsd.edu\\afassihizakeri\\Topviewmovies\\ar35motor\\2021_11_02\\Mask133videoL.avi\n",
      "No unfiltered data file found in \\\\dk-server.dk.ucsd.edu\\afassihizakeri\\Topviewmovies\\ar35motor\\2021_11_02 for video Mask133videoL and scorer DLC_resnet152_ar30shiwkerSep13shuffle1_632000.\n",
      "Filtering with median model \\\\dk-server.dk.ucsd.edu\\afassihizakeri\\Topviewmovies\\ar35motor\\2021_11_02\\Mask20videoL.avi\n",
      "No unfiltered data file found in \\\\dk-server.dk.ucsd.edu\\afassihizakeri\\Topviewmovies\\ar35motor\\2021_11_02 for video Mask20videoL and scorer DLC_resnet152_ar30shiwkerSep13shuffle1_632000.\n",
      "Filtering with median model \\\\dk-server.dk.ucsd.edu\\afassihizakeri\\Topviewmovies\\ar35motor\\2021_11_02\\Mask146videoL.avi\n",
      "No unfiltered data file found in \\\\dk-server.dk.ucsd.edu\\afassihizakeri\\Topviewmovies\\ar35motor\\2021_11_02 for video Mask146videoL and scorer DLC_resnet152_ar30shiwkerSep13shuffle1_632000.\n",
      "Filtering with median model \\\\dk-server.dk.ucsd.edu\\afassihizakeri\\Topviewmovies\\ar35motor\\2021_11_02\\Mask118videoL.avi\n",
      "No unfiltered data file found in \\\\dk-server.dk.ucsd.edu\\afassihizakeri\\Topviewmovies\\ar35motor\\2021_11_02 for video Mask118videoL and scorer DLC_resnet152_ar30shiwkerSep13shuffle1_632000.\n",
      "Filtering with median model \\\\dk-server.dk.ucsd.edu\\afassihizakeri\\Topviewmovies\\ar35motor\\2021_11_02\\Mask90videoL.avi\n",
      "No unfiltered data file found in \\\\dk-server.dk.ucsd.edu\\afassihizakeri\\Topviewmovies\\ar35motor\\2021_11_02 for video Mask90videoL and scorer DLC_resnet152_ar30shiwkerSep13shuffle1_632000.\n",
      "Filtering with median model \\\\dk-server.dk.ucsd.edu\\afassihizakeri\\Topviewmovies\\ar35motor\\2021_11_02\\Mask183videoL.avi\n",
      "No unfiltered data file found in \\\\dk-server.dk.ucsd.edu\\afassihizakeri\\Topviewmovies\\ar35motor\\2021_11_02 for video Mask183videoL and scorer DLC_resnet152_ar30shiwkerSep13shuffle1_632000.\n",
      "Filtering with median model \\\\dk-server.dk.ucsd.edu\\afassihizakeri\\Topviewmovies\\ar35motor\\2021_11_02\\Mask55videoL.avi\n",
      "No unfiltered data file found in \\\\dk-server.dk.ucsd.edu\\afassihizakeri\\Topviewmovies\\ar35motor\\2021_11_02 for video Mask55videoL and scorer DLC_resnet152_ar30shiwkerSep13shuffle1_632000.\n",
      "Filtering with median model \\\\dk-server.dk.ucsd.edu\\afassihizakeri\\Topviewmovies\\ar35motor\\2021_11_02\\Mask23videoL.avi\n",
      "No unfiltered data file found in \\\\dk-server.dk.ucsd.edu\\afassihizakeri\\Topviewmovies\\ar35motor\\2021_11_02 for video Mask23videoL and scorer DLC_resnet152_ar30shiwkerSep13shuffle1_632000.\n",
      "Filtering with median model \\\\dk-server.dk.ucsd.edu\\afassihizakeri\\Topviewmovies\\ar35motor\\2021_11_02\\Mask130videoL.avi\n",
      "No unfiltered data file found in \\\\dk-server.dk.ucsd.edu\\afassihizakeri\\Topviewmovies\\ar35motor\\2021_11_02 for video Mask130videoL and scorer DLC_resnet152_ar30shiwkerSep13shuffle1_632000.\n",
      "Filtering with median model \\\\dk-server.dk.ucsd.edu\\afassihizakeri\\Topviewmovies\\ar35motor\\2021_11_02\\Mask91videoL.avi\n",
      "No unfiltered data file found in \\\\dk-server.dk.ucsd.edu\\afassihizakeri\\Topviewmovies\\ar35motor\\2021_11_02 for video Mask91videoL and scorer DLC_resnet152_ar30shiwkerSep13shuffle1_632000.\n",
      "Filtering with median model \\\\dk-server.dk.ucsd.edu\\afassihizakeri\\Topviewmovies\\ar35motor\\2021_11_02\\Mask119videoL.avi\n",
      "No unfiltered data file found in \\\\dk-server.dk.ucsd.edu\\afassihizakeri\\Topviewmovies\\ar35motor\\2021_11_02 for video Mask119videoL and scorer DLC_resnet152_ar30shiwkerSep13shuffle1_632000.\n",
      "Filtering with median model \\\\dk-server.dk.ucsd.edu\\afassihizakeri\\Topviewmovies\\ar35motor\\2021_11_02\\Mask147videoL.avi\n",
      "No unfiltered data file found in \\\\dk-server.dk.ucsd.edu\\afassihizakeri\\Topviewmovies\\ar35motor\\2021_11_02 for video Mask147videoL and scorer DLC_resnet152_ar30shiwkerSep13shuffle1_632000.\n",
      "Filtering with median model \\\\dk-server.dk.ucsd.edu\\afassihizakeri\\Topviewmovies\\ar35motor\\2021_11_02\\Mask54videoL.avi\n",
      "No unfiltered data file found in \\\\dk-server.dk.ucsd.edu\\afassihizakeri\\Topviewmovies\\ar35motor\\2021_11_02 for video Mask54videoL and scorer DLC_resnet152_ar30shiwkerSep13shuffle1_632000.\n",
      "Filtering with median model \\\\dk-server.dk.ucsd.edu\\afassihizakeri\\Topviewmovies\\ar35motor\\2021_11_02\\Mask182videoL.avi\n",
      "No unfiltered data file found in \\\\dk-server.dk.ucsd.edu\\afassihizakeri\\Topviewmovies\\ar35motor\\2021_11_02 for video Mask182videoL and scorer DLC_resnet152_ar30shiwkerSep13shuffle1_632000.\n",
      "Filtering with median model \\\\dk-server.dk.ucsd.edu\\afassihizakeri\\Topviewmovies\\ar35motor\\2021_11_02\\Mask22videoL.avi\n",
      "No unfiltered data file found in \\\\dk-server.dk.ucsd.edu\\afassihizakeri\\Topviewmovies\\ar35motor\\2021_11_02 for video Mask22videoL and scorer DLC_resnet152_ar30shiwkerSep13shuffle1_632000.\n",
      "Filtering with median model \\\\dk-server.dk.ucsd.edu\\afassihizakeri\\Topviewmovies\\ar35motor\\2021_11_02\\Mask131videoL.avi\n",
      "No unfiltered data file found in \\\\dk-server.dk.ucsd.edu\\afassihizakeri\\Topviewmovies\\ar35motor\\2021_11_02 for video Mask131videoL and scorer DLC_resnet152_ar30shiwkerSep13shuffle1_632000.\n",
      "Filtering with median model \\\\dk-server.dk.ucsd.edu\\afassihizakeri\\Topviewmovies\\ar35motor\\2021_11_02\\Mask25videoL.avi\n",
      "No unfiltered data file found in \\\\dk-server.dk.ucsd.edu\\afassihizakeri\\Topviewmovies\\ar35motor\\2021_11_02 for video Mask25videoL and scorer DLC_resnet152_ar30shiwkerSep13shuffle1_632000.\n",
      "Filtering with median model \\\\dk-server.dk.ucsd.edu\\afassihizakeri\\Topviewmovies\\ar35motor\\2021_11_02\\Mask168videoL.avi\n",
      "No unfiltered data file found in \\\\dk-server.dk.ucsd.edu\\afassihizakeri\\Topviewmovies\\ar35motor\\2021_11_02 for video Mask168videoL and scorer DLC_resnet152_ar30shiwkerSep13shuffle1_632000.\n",
      "Filtering with median model \\\\dk-server.dk.ucsd.edu\\afassihizakeri\\Topviewmovies\\ar35motor\\2021_11_02\\Mask136videoL.avi\n",
      "No unfiltered data file found in \\\\dk-server.dk.ucsd.edu\\afassihizakeri\\Topviewmovies\\ar35motor\\2021_11_02 for video Mask136videoL and scorer DLC_resnet152_ar30shiwkerSep13shuffle1_632000.\n",
      "Filtering with median model \\\\dk-server.dk.ucsd.edu\\afassihizakeri\\Topviewmovies\\ar35motor\\2021_11_02\\Mask96videoL.avi\n",
      "No unfiltered data file found in \\\\dk-server.dk.ucsd.edu\\afassihizakeri\\Topviewmovies\\ar35motor\\2021_11_02 for video Mask96videoL and scorer DLC_resnet152_ar30shiwkerSep13shuffle1_632000.\n",
      "Filtering with median model \\\\dk-server.dk.ucsd.edu\\afassihizakeri\\Topviewmovies\\ar35motor\\2021_11_02\\Mask140videoL.avi\n",
      "No unfiltered data file found in \\\\dk-server.dk.ucsd.edu\\afassihizakeri\\Topviewmovies\\ar35motor\\2021_11_02 for video Mask140videoL and scorer DLC_resnet152_ar30shiwkerSep13shuffle1_632000.\n",
      "Filtering with median model \\\\dk-server.dk.ucsd.edu\\afassihizakeri\\Topviewmovies\\ar35motor\\2021_11_02\\Mask53videoL.avi\n",
      "No unfiltered data file found in \\\\dk-server.dk.ucsd.edu\\afassihizakeri\\Topviewmovies\\ar35motor\\2021_11_02 for video Mask53videoL and scorer DLC_resnet152_ar30shiwkerSep13shuffle1_632000.\n",
      "Filtering with median model \\\\dk-server.dk.ucsd.edu\\afassihizakeri\\Topviewmovies\\ar35motor\\2021_11_02\\Mask185videoL.avi\n"
     ]
    },
    {
     "name": "stdout",
     "output_type": "stream",
     "text": [
      "No unfiltered data file found in \\\\dk-server.dk.ucsd.edu\\afassihizakeri\\Topviewmovies\\ar35motor\\2021_11_02 for video Mask185videoL and scorer DLC_resnet152_ar30shiwkerSep13shuffle1_632000.\n",
      "Filtering with median model \\\\dk-server.dk.ucsd.edu\\afassihizakeri\\Topviewmovies\\ar35motor\\2021_11_02\\Mask24videoL.avi\n",
      "No unfiltered data file found in \\\\dk-server.dk.ucsd.edu\\afassihizakeri\\Topviewmovies\\ar35motor\\2021_11_02 for video Mask24videoL and scorer DLC_resnet152_ar30shiwkerSep13shuffle1_632000.\n",
      "Filtering with median model \\\\dk-server.dk.ucsd.edu\\afassihizakeri\\Topviewmovies\\ar35motor\\2021_11_02\\Mask137videoL.avi\n",
      "No unfiltered data file found in \\\\dk-server.dk.ucsd.edu\\afassihizakeri\\Topviewmovies\\ar35motor\\2021_11_02 for video Mask137videoL and scorer DLC_resnet152_ar30shiwkerSep13shuffle1_632000.\n",
      "Filtering with median model \\\\dk-server.dk.ucsd.edu\\afassihizakeri\\Topviewmovies\\ar35motor\\2021_11_02\\Mask169videoL.avi\n",
      "No unfiltered data file found in \\\\dk-server.dk.ucsd.edu\\afassihizakeri\\Topviewmovies\\ar35motor\\2021_11_02 for video Mask169videoL and scorer DLC_resnet152_ar30shiwkerSep13shuffle1_632000.\n",
      "Filtering with median model \\\\dk-server.dk.ucsd.edu\\afassihizakeri\\Topviewmovies\\ar35motor\\2021_11_02\\Mask141videoL.avi\n",
      "No unfiltered data file found in \\\\dk-server.dk.ucsd.edu\\afassihizakeri\\Topviewmovies\\ar35motor\\2021_11_02 for video Mask141videoL and scorer DLC_resnet152_ar30shiwkerSep13shuffle1_632000.\n",
      "Filtering with median model \\\\dk-server.dk.ucsd.edu\\afassihizakeri\\Topviewmovies\\ar35motor\\2021_11_02\\Mask97videoL.avi\n",
      "No unfiltered data file found in \\\\dk-server.dk.ucsd.edu\\afassihizakeri\\Topviewmovies\\ar35motor\\2021_11_02 for video Mask97videoL and scorer DLC_resnet152_ar30shiwkerSep13shuffle1_632000.\n",
      "Filtering with median model \\\\dk-server.dk.ucsd.edu\\afassihizakeri\\Topviewmovies\\ar35motor\\2021_11_02\\Mask184videoL.avi\n",
      "No unfiltered data file found in \\\\dk-server.dk.ucsd.edu\\afassihizakeri\\Topviewmovies\\ar35motor\\2021_11_02 for video Mask184videoL and scorer DLC_resnet152_ar30shiwkerSep13shuffle1_632000.\n",
      "Filtering with median model \\\\dk-server.dk.ucsd.edu\\afassihizakeri\\Topviewmovies\\ar35motor\\2021_11_02\\Mask52videoL.avi\n",
      "No unfiltered data file found in \\\\dk-server.dk.ucsd.edu\\afassihizakeri\\Topviewmovies\\ar35motor\\2021_11_02 for video Mask52videoL and scorer DLC_resnet152_ar30shiwkerSep13shuffle1_632000.\n",
      "Filtering with median model \\\\dk-server.dk.ucsd.edu\\afassihizakeri\\Topviewmovies\\ar35motor\\2021_11_02\\Mask134videoL.avi\n",
      "No unfiltered data file found in \\\\dk-server.dk.ucsd.edu\\afassihizakeri\\Topviewmovies\\ar35motor\\2021_11_02 for video Mask134videoL and scorer DLC_resnet152_ar30shiwkerSep13shuffle1_632000.\n",
      "Filtering with median model \\\\dk-server.dk.ucsd.edu\\afassihizakeri\\Topviewmovies\\ar35motor\\2021_11_02\\Mask79videoL.avi\n",
      "No unfiltered data file found in \\\\dk-server.dk.ucsd.edu\\afassihizakeri\\Topviewmovies\\ar35motor\\2021_11_02 for video Mask79videoL and scorer DLC_resnet152_ar30shiwkerSep13shuffle1_632000.\n",
      "Filtering with median model \\\\dk-server.dk.ucsd.edu\\afassihizakeri\\Topviewmovies\\ar35motor\\2021_11_02\\Mask27videoL.avi\n",
      "No unfiltered data file found in \\\\dk-server.dk.ucsd.edu\\afassihizakeri\\Topviewmovies\\ar35motor\\2021_11_02 for video Mask27videoL and scorer DLC_resnet152_ar30shiwkerSep13shuffle1_632000.\n",
      "Filtering with median model \\\\dk-server.dk.ucsd.edu\\afassihizakeri\\Topviewmovies\\ar35motor\\2021_11_02\\Mask187videoL.avi\n",
      "No unfiltered data file found in \\\\dk-server.dk.ucsd.edu\\afassihizakeri\\Topviewmovies\\ar35motor\\2021_11_02 for video Mask187videoL and scorer DLC_resnet152_ar30shiwkerSep13shuffle1_632000.\n",
      "Filtering with median model \\\\dk-server.dk.ucsd.edu\\afassihizakeri\\Topviewmovies\\ar35motor\\2021_11_02\\Mask51videoL.avi\n",
      "No unfiltered data file found in \\\\dk-server.dk.ucsd.edu\\afassihizakeri\\Topviewmovies\\ar35motor\\2021_11_02 for video Mask51videoL and scorer DLC_resnet152_ar30shiwkerSep13shuffle1_632000.\n",
      "Filtering with median model \\\\dk-server.dk.ucsd.edu\\afassihizakeri\\Topviewmovies\\ar35motor\\2021_11_02\\Mask142videoL.avi\n",
      "No unfiltered data file found in \\\\dk-server.dk.ucsd.edu\\afassihizakeri\\Topviewmovies\\ar35motor\\2021_11_02 for video Mask142videoL and scorer DLC_resnet152_ar30shiwkerSep13shuffle1_632000.\n",
      "Filtering with median model \\\\dk-server.dk.ucsd.edu\\afassihizakeri\\Topviewmovies\\ar35motor\\2021_11_02\\Mask94videoL.avi\n",
      "No unfiltered data file found in \\\\dk-server.dk.ucsd.edu\\afassihizakeri\\Topviewmovies\\ar35motor\\2021_11_02 for video Mask94videoL and scorer DLC_resnet152_ar30shiwkerSep13shuffle1_632000.\n",
      "Filtering with median model \\\\dk-server.dk.ucsd.edu\\afassihizakeri\\Topviewmovies\\ar35motor\\2021_11_02\\Mask135videoL.avi\n",
      "No unfiltered data file found in \\\\dk-server.dk.ucsd.edu\\afassihizakeri\\Topviewmovies\\ar35motor\\2021_11_02 for video Mask135videoL and scorer DLC_resnet152_ar30shiwkerSep13shuffle1_632000.\n",
      "Filtering with median model \\\\dk-server.dk.ucsd.edu\\afassihizakeri\\Topviewmovies\\ar35motor\\2021_11_02\\Mask26videoL.avi\n",
      "No unfiltered data file found in \\\\dk-server.dk.ucsd.edu\\afassihizakeri\\Topviewmovies\\ar35motor\\2021_11_02 for video Mask26videoL and scorer DLC_resnet152_ar30shiwkerSep13shuffle1_632000.\n",
      "Filtering with median model \\\\dk-server.dk.ucsd.edu\\afassihizakeri\\Topviewmovies\\ar35motor\\2021_11_02\\Mask78videoL.avi\n",
      "No unfiltered data file found in \\\\dk-server.dk.ucsd.edu\\afassihizakeri\\Topviewmovies\\ar35motor\\2021_11_02 for video Mask78videoL and scorer DLC_resnet152_ar30shiwkerSep13shuffle1_632000.\n",
      "Filtering with median model \\\\dk-server.dk.ucsd.edu\\afassihizakeri\\Topviewmovies\\ar35motor\\2021_11_02\\Mask50videoL.avi\n",
      "No unfiltered data file found in \\\\dk-server.dk.ucsd.edu\\afassihizakeri\\Topviewmovies\\ar35motor\\2021_11_02 for video Mask50videoL and scorer DLC_resnet152_ar30shiwkerSep13shuffle1_632000.\n",
      "Filtering with median model \\\\dk-server.dk.ucsd.edu\\afassihizakeri\\Topviewmovies\\ar35motor\\2021_11_02\\Mask186videoL.avi\n",
      "No unfiltered data file found in \\\\dk-server.dk.ucsd.edu\\afassihizakeri\\Topviewmovies\\ar35motor\\2021_11_02 for video Mask186videoL and scorer DLC_resnet152_ar30shiwkerSep13shuffle1_632000.\n",
      "Filtering with median model \\\\dk-server.dk.ucsd.edu\\afassihizakeri\\Topviewmovies\\ar35motor\\2021_11_02\\Mask95videoL.avi\n",
      "No unfiltered data file found in \\\\dk-server.dk.ucsd.edu\\afassihizakeri\\Topviewmovies\\ar35motor\\2021_11_02 for video Mask95videoL and scorer DLC_resnet152_ar30shiwkerSep13shuffle1_632000.\n",
      "Filtering with median model \\\\dk-server.dk.ucsd.edu\\afassihizakeri\\Topviewmovies\\ar35motor\\2021_11_02\\Mask143videoL.avi\n",
      "No unfiltered data file found in \\\\dk-server.dk.ucsd.edu\\afassihizakeri\\Topviewmovies\\ar35motor\\2021_11_02 for video Mask143videoL and scorer DLC_resnet152_ar30shiwkerSep13shuffle1_632000.\n",
      "Filtering with median model \\\\dk-server.dk.ucsd.edu\\afassihizakeri\\Topviewmovies\\ar35motor\\2021_11_02\\Mask151videoL.avi\n",
      "No unfiltered data file found in \\\\dk-server.dk.ucsd.edu\\afassihizakeri\\Topviewmovies\\ar35motor\\2021_11_02 for video Mask151videoL and scorer DLC_resnet152_ar30shiwkerSep13shuffle1_632000.\n",
      "Filtering with median model \\\\dk-server.dk.ucsd.edu\\afassihizakeri\\Topviewmovies\\ar35motor\\2021_11_02\\Mask87videoL.avi\n",
      "No unfiltered data file found in \\\\dk-server.dk.ucsd.edu\\afassihizakeri\\Topviewmovies\\ar35motor\\2021_11_02 for video Mask87videoL and scorer DLC_resnet152_ar30shiwkerSep13shuffle1_632000.\n",
      "Filtering with median model \\\\dk-server.dk.ucsd.edu\\afassihizakeri\\Topviewmovies\\ar35motor\\2021_11_02\\Mask194videoL.avi\n",
      "No unfiltered data file found in \\\\dk-server.dk.ucsd.edu\\afassihizakeri\\Topviewmovies\\ar35motor\\2021_11_02 for video Mask194videoL and scorer DLC_resnet152_ar30shiwkerSep13shuffle1_632000.\n",
      "Filtering with median model \\\\dk-server.dk.ucsd.edu\\afassihizakeri\\Topviewmovies\\ar35motor\\2021_11_02\\Mask42videoL.avi\n",
      "No unfiltered data file found in \\\\dk-server.dk.ucsd.edu\\afassihizakeri\\Topviewmovies\\ar35motor\\2021_11_02 for video Mask42videoL and scorer DLC_resnet152_ar30shiwkerSep13shuffle1_632000.\n",
      "Filtering with median model \\\\dk-server.dk.ucsd.edu\\afassihizakeri\\Topviewmovies\\ar35motor\\2021_11_02\\Mask6videoL.avi\n",
      "No unfiltered data file found in \\\\dk-server.dk.ucsd.edu\\afassihizakeri\\Topviewmovies\\ar35motor\\2021_11_02 for video Mask6videoL and scorer DLC_resnet152_ar30shiwkerSep13shuffle1_632000.\n",
      "Filtering with median model \\\\dk-server.dk.ucsd.edu\\afassihizakeri\\Topviewmovies\\ar35motor\\2021_11_02\\Mask34videoL.avi\n"
     ]
    },
    {
     "name": "stdout",
     "output_type": "stream",
     "text": [
      "No unfiltered data file found in \\\\dk-server.dk.ucsd.edu\\afassihizakeri\\Topviewmovies\\ar35motor\\2021_11_02 for video Mask34videoL and scorer DLC_resnet152_ar30shiwkerSep13shuffle1_632000.\n",
      "Filtering with median model \\\\dk-server.dk.ucsd.edu\\afassihizakeri\\Topviewmovies\\ar35motor\\2021_11_02\\Mask127videoL.avi\n",
      "No unfiltered data file found in \\\\dk-server.dk.ucsd.edu\\afassihizakeri\\Topviewmovies\\ar35motor\\2021_11_02 for video Mask127videoL and scorer DLC_resnet152_ar30shiwkerSep13shuffle1_632000.\n",
      "Filtering with median model \\\\dk-server.dk.ucsd.edu\\afassihizakeri\\Topviewmovies\\ar35motor\\2021_11_02\\Mask179videoL.avi\n",
      "No unfiltered data file found in \\\\dk-server.dk.ucsd.edu\\afassihizakeri\\Topviewmovies\\ar35motor\\2021_11_02 for video Mask179videoL and scorer DLC_resnet152_ar30shiwkerSep13shuffle1_632000.\n",
      "Filtering with median model \\\\dk-server.dk.ucsd.edu\\afassihizakeri\\Topviewmovies\\ar35motor\\2021_11_02\\Mask86videoL.avi\n",
      "No unfiltered data file found in \\\\dk-server.dk.ucsd.edu\\afassihizakeri\\Topviewmovies\\ar35motor\\2021_11_02 for video Mask86videoL and scorer DLC_resnet152_ar30shiwkerSep13shuffle1_632000.\n",
      "Filtering with median model \\\\dk-server.dk.ucsd.edu\\afassihizakeri\\Topviewmovies\\ar35motor\\2021_11_02\\Mask150videoL.avi\n",
      "No unfiltered data file found in \\\\dk-server.dk.ucsd.edu\\afassihizakeri\\Topviewmovies\\ar35motor\\2021_11_02 for video Mask150videoL and scorer DLC_resnet152_ar30shiwkerSep13shuffle1_632000.\n",
      "Filtering with median model \\\\dk-server.dk.ucsd.edu\\afassihizakeri\\Topviewmovies\\ar35motor\\2021_11_02\\Mask7videoL.avi\n",
      "No unfiltered data file found in \\\\dk-server.dk.ucsd.edu\\afassihizakeri\\Topviewmovies\\ar35motor\\2021_11_02 for video Mask7videoL and scorer DLC_resnet152_ar30shiwkerSep13shuffle1_632000.\n",
      "Filtering with median model \\\\dk-server.dk.ucsd.edu\\afassihizakeri\\Topviewmovies\\ar35motor\\2021_11_02\\Mask43videoL.avi\n",
      "No unfiltered data file found in \\\\dk-server.dk.ucsd.edu\\afassihizakeri\\Topviewmovies\\ar35motor\\2021_11_02 for video Mask43videoL and scorer DLC_resnet152_ar30shiwkerSep13shuffle1_632000.\n",
      "Filtering with median model \\\\dk-server.dk.ucsd.edu\\afassihizakeri\\Topviewmovies\\ar35motor\\2021_11_02\\Mask195videoL.avi\n",
      "No unfiltered data file found in \\\\dk-server.dk.ucsd.edu\\afassihizakeri\\Topviewmovies\\ar35motor\\2021_11_02 for video Mask195videoL and scorer DLC_resnet152_ar30shiwkerSep13shuffle1_632000.\n",
      "Filtering with median model \\\\dk-server.dk.ucsd.edu\\afassihizakeri\\Topviewmovies\\ar35motor\\2021_11_02\\Mask35videoL.avi\n",
      "No unfiltered data file found in \\\\dk-server.dk.ucsd.edu\\afassihizakeri\\Topviewmovies\\ar35motor\\2021_11_02 for video Mask35videoL and scorer DLC_resnet152_ar30shiwkerSep13shuffle1_632000.\n",
      "Filtering with median model \\\\dk-server.dk.ucsd.edu\\afassihizakeri\\Topviewmovies\\ar35motor\\2021_11_02\\Mask178videoL.avi\n",
      "No unfiltered data file found in \\\\dk-server.dk.ucsd.edu\\afassihizakeri\\Topviewmovies\\ar35motor\\2021_11_02 for video Mask178videoL and scorer DLC_resnet152_ar30shiwkerSep13shuffle1_632000.\n",
      "Filtering with median model \\\\dk-server.dk.ucsd.edu\\afassihizakeri\\Topviewmovies\\ar35motor\\2021_11_02\\Mask126videoL.avi\n",
      "No unfiltered data file found in \\\\dk-server.dk.ucsd.edu\\afassihizakeri\\Topviewmovies\\ar35motor\\2021_11_02 for video Mask126videoL and scorer DLC_resnet152_ar30shiwkerSep13shuffle1_632000.\n",
      "Filtering with median model \\\\dk-server.dk.ucsd.edu\\afassihizakeri\\Topviewmovies\\ar35motor\\2021_11_02\\Mask40videoL.avi\n",
      "No unfiltered data file found in \\\\dk-server.dk.ucsd.edu\\afassihizakeri\\Topviewmovies\\ar35motor\\2021_11_02 for video Mask40videoL and scorer DLC_resnet152_ar30shiwkerSep13shuffle1_632000.\n",
      "Filtering with median model \\\\dk-server.dk.ucsd.edu\\afassihizakeri\\Topviewmovies\\ar35motor\\2021_11_02\\Mask4videoL.avi\n",
      "No unfiltered data file found in \\\\dk-server.dk.ucsd.edu\\afassihizakeri\\Topviewmovies\\ar35motor\\2021_11_02 for video Mask4videoL and scorer DLC_resnet152_ar30shiwkerSep13shuffle1_632000.\n",
      "Filtering with median model \\\\dk-server.dk.ucsd.edu\\afassihizakeri\\Topviewmovies\\ar35motor\\2021_11_02\\Mask196videoL.avi\n",
      "No unfiltered data file found in \\\\dk-server.dk.ucsd.edu\\afassihizakeri\\Topviewmovies\\ar35motor\\2021_11_02 for video Mask196videoL and scorer DLC_resnet152_ar30shiwkerSep13shuffle1_632000.\n",
      "Filtering with median model \\\\dk-server.dk.ucsd.edu\\afassihizakeri\\Topviewmovies\\ar35motor\\2021_11_02\\Mask85videoL.avi\n",
      "No unfiltered data file found in \\\\dk-server.dk.ucsd.edu\\afassihizakeri\\Topviewmovies\\ar35motor\\2021_11_02 for video Mask85videoL and scorer DLC_resnet152_ar30shiwkerSep13shuffle1_632000.\n",
      "Filtering with median model \\\\dk-server.dk.ucsd.edu\\afassihizakeri\\Topviewmovies\\ar35motor\\2021_11_02\\Mask153videoL.avi\n",
      "No unfiltered data file found in \\\\dk-server.dk.ucsd.edu\\afassihizakeri\\Topviewmovies\\ar35motor\\2021_11_02 for video Mask153videoL and scorer DLC_resnet152_ar30shiwkerSep13shuffle1_632000.\n",
      "Filtering with median model \\\\dk-server.dk.ucsd.edu\\afassihizakeri\\Topviewmovies\\ar35motor\\2021_11_02\\Mask125videoL.avi\n",
      "No unfiltered data file found in \\\\dk-server.dk.ucsd.edu\\afassihizakeri\\Topviewmovies\\ar35motor\\2021_11_02 for video Mask125videoL and scorer DLC_resnet152_ar30shiwkerSep13shuffle1_632000.\n",
      "Filtering with median model \\\\dk-server.dk.ucsd.edu\\afassihizakeri\\Topviewmovies\\ar35motor\\2021_11_02\\Mask36videoL.avi\n",
      "No unfiltered data file found in \\\\dk-server.dk.ucsd.edu\\afassihizakeri\\Topviewmovies\\ar35motor\\2021_11_02 for video Mask36videoL and scorer DLC_resnet152_ar30shiwkerSep13shuffle1_632000.\n",
      "Filtering with median model \\\\dk-server.dk.ucsd.edu\\afassihizakeri\\Topviewmovies\\ar35motor\\2021_11_02\\Mask68videoL.avi\n",
      "No unfiltered data file found in \\\\dk-server.dk.ucsd.edu\\afassihizakeri\\Topviewmovies\\ar35motor\\2021_11_02 for video Mask68videoL and scorer DLC_resnet152_ar30shiwkerSep13shuffle1_632000.\n",
      "Filtering with median model \\\\dk-server.dk.ucsd.edu\\afassihizakeri\\Topviewmovies\\ar35motor\\2021_11_02\\Mask197videoL.avi\n",
      "No unfiltered data file found in \\\\dk-server.dk.ucsd.edu\\afassihizakeri\\Topviewmovies\\ar35motor\\2021_11_02 for video Mask197videoL and scorer DLC_resnet152_ar30shiwkerSep13shuffle1_632000.\n",
      "Filtering with median model \\\\dk-server.dk.ucsd.edu\\afassihizakeri\\Topviewmovies\\ar35motor\\2021_11_02\\Mask5videoL.avi\n",
      "No unfiltered data file found in \\\\dk-server.dk.ucsd.edu\\afassihizakeri\\Topviewmovies\\ar35motor\\2021_11_02 for video Mask5videoL and scorer DLC_resnet152_ar30shiwkerSep13shuffle1_632000.\n",
      "Filtering with median model \\\\dk-server.dk.ucsd.edu\\afassihizakeri\\Topviewmovies\\ar35motor\\2021_11_02\\Mask41videoL.avi\n",
      "No unfiltered data file found in \\\\dk-server.dk.ucsd.edu\\afassihizakeri\\Topviewmovies\\ar35motor\\2021_11_02 for video Mask41videoL and scorer DLC_resnet152_ar30shiwkerSep13shuffle1_632000.\n",
      "Filtering with median model \\\\dk-server.dk.ucsd.edu\\afassihizakeri\\Topviewmovies\\ar35motor\\2021_11_02\\Mask152videoL.avi\n",
      "No unfiltered data file found in \\\\dk-server.dk.ucsd.edu\\afassihizakeri\\Topviewmovies\\ar35motor\\2021_11_02 for video Mask152videoL and scorer DLC_resnet152_ar30shiwkerSep13shuffle1_632000.\n",
      "Filtering with median model \\\\dk-server.dk.ucsd.edu\\afassihizakeri\\Topviewmovies\\ar35motor\\2021_11_02\\Mask84videoL.avi\n",
      "No unfiltered data file found in \\\\dk-server.dk.ucsd.edu\\afassihizakeri\\Topviewmovies\\ar35motor\\2021_11_02 for video Mask84videoL and scorer DLC_resnet152_ar30shiwkerSep13shuffle1_632000.\n",
      "Filtering with median model \\\\dk-server.dk.ucsd.edu\\afassihizakeri\\Topviewmovies\\ar35motor\\2021_11_02\\Mask124videoL.avi\n",
      "No unfiltered data file found in \\\\dk-server.dk.ucsd.edu\\afassihizakeri\\Topviewmovies\\ar35motor\\2021_11_02 for video Mask124videoL and scorer DLC_resnet152_ar30shiwkerSep13shuffle1_632000.\n",
      "Filtering with median model \\\\dk-server.dk.ucsd.edu\\afassihizakeri\\Topviewmovies\\ar35motor\\2021_11_02\\Mask69videoL.avi\n",
      "No unfiltered data file found in \\\\dk-server.dk.ucsd.edu\\afassihizakeri\\Topviewmovies\\ar35motor\\2021_11_02 for video Mask69videoL and scorer DLC_resnet152_ar30shiwkerSep13shuffle1_632000.\n",
      "Filtering with median model \\\\dk-server.dk.ucsd.edu\\afassihizakeri\\Topviewmovies\\ar35motor\\2021_11_02\\Mask37videoL.avi\n",
      "No unfiltered data file found in \\\\dk-server.dk.ucsd.edu\\afassihizakeri\\Topviewmovies\\ar35motor\\2021_11_02 for video Mask37videoL and scorer DLC_resnet152_ar30shiwkerSep13shuffle1_632000.\n",
      "Filtering with median model \\\\dk-server.dk.ucsd.edu\\afassihizakeri\\Topviewmovies\\ar35motor\\2021_11_02\\Mask123videoL.avi\n"
     ]
    },
    {
     "name": "stdout",
     "output_type": "stream",
     "text": [
      "No unfiltered data file found in \\\\dk-server.dk.ucsd.edu\\afassihizakeri\\Topviewmovies\\ar35motor\\2021_11_02 for video Mask123videoL and scorer DLC_resnet152_ar30shiwkerSep13shuffle1_632000.\n",
      "Filtering with median model \\\\dk-server.dk.ucsd.edu\\afassihizakeri\\Topviewmovies\\ar35motor\\2021_11_02\\Mask30videoL.avi\n",
      "No unfiltered data file found in \\\\dk-server.dk.ucsd.edu\\afassihizakeri\\Topviewmovies\\ar35motor\\2021_11_02 for video Mask30videoL and scorer DLC_resnet152_ar30shiwkerSep13shuffle1_632000.\n",
      "Filtering with median model \\\\dk-server.dk.ucsd.edu\\afassihizakeri\\Topviewmovies\\ar35motor\\2021_11_02\\Mask18videoL.avi\n",
      "No unfiltered data file found in \\\\dk-server.dk.ucsd.edu\\afassihizakeri\\Topviewmovies\\ar35motor\\2021_11_02 for video Mask18videoL and scorer DLC_resnet152_ar30shiwkerSep13shuffle1_632000.\n",
      "Filtering with median model \\\\dk-server.dk.ucsd.edu\\afassihizakeri\\Topviewmovies\\ar35motor\\2021_11_02\\Mask190videoL.avi\n",
      "No unfiltered data file found in \\\\dk-server.dk.ucsd.edu\\afassihizakeri\\Topviewmovies\\ar35motor\\2021_11_02 for video Mask190videoL and scorer DLC_resnet152_ar30shiwkerSep13shuffle1_632000.\n",
      "Filtering with median model \\\\dk-server.dk.ucsd.edu\\afassihizakeri\\Topviewmovies\\ar35motor\\2021_11_02\\Mask2videoL.avi\n",
      "No unfiltered data file found in \\\\dk-server.dk.ucsd.edu\\afassihizakeri\\Topviewmovies\\ar35motor\\2021_11_02 for video Mask2videoL and scorer DLC_resnet152_ar30shiwkerSep13shuffle1_632000.\n",
      "Filtering with median model \\\\dk-server.dk.ucsd.edu\\afassihizakeri\\Topviewmovies\\ar35motor\\2021_11_02\\Mask46videoL.avi\n",
      "No unfiltered data file found in \\\\dk-server.dk.ucsd.edu\\afassihizakeri\\Topviewmovies\\ar35motor\\2021_11_02 for video Mask46videoL and scorer DLC_resnet152_ar30shiwkerSep13shuffle1_632000.\n",
      "Filtering with median model \\\\dk-server.dk.ucsd.edu\\afassihizakeri\\Topviewmovies\\ar35motor\\2021_11_02\\Mask155videoL.avi\n",
      "No unfiltered data file found in \\\\dk-server.dk.ucsd.edu\\afassihizakeri\\Topviewmovies\\ar35motor\\2021_11_02 for video Mask155videoL and scorer DLC_resnet152_ar30shiwkerSep13shuffle1_632000.\n",
      "Filtering with median model \\\\dk-server.dk.ucsd.edu\\afassihizakeri\\Topviewmovies\\ar35motor\\2021_11_02\\Mask83videoL.avi\n",
      "No unfiltered data file found in \\\\dk-server.dk.ucsd.edu\\afassihizakeri\\Topviewmovies\\ar35motor\\2021_11_02 for video Mask83videoL and scorer DLC_resnet152_ar30shiwkerSep13shuffle1_632000.\n",
      "Filtering with median model \\\\dk-server.dk.ucsd.edu\\afassihizakeri\\Topviewmovies\\ar35motor\\2021_11_02\\Mask122videoL.avi\n",
      "No unfiltered data file found in \\\\dk-server.dk.ucsd.edu\\afassihizakeri\\Topviewmovies\\ar35motor\\2021_11_02 for video Mask122videoL and scorer DLC_resnet152_ar30shiwkerSep13shuffle1_632000.\n",
      "Filtering with median model \\\\dk-server.dk.ucsd.edu\\afassihizakeri\\Topviewmovies\\ar35motor\\2021_11_02\\Mask31videoL.avi\n",
      "No unfiltered data file found in \\\\dk-server.dk.ucsd.edu\\afassihizakeri\\Topviewmovies\\ar35motor\\2021_11_02 for video Mask31videoL and scorer DLC_resnet152_ar30shiwkerSep13shuffle1_632000.\n",
      "Filtering with median model \\\\dk-server.dk.ucsd.edu\\afassihizakeri\\Topviewmovies\\ar35motor\\2021_11_02\\Mask47videoL.avi\n",
      "No unfiltered data file found in \\\\dk-server.dk.ucsd.edu\\afassihizakeri\\Topviewmovies\\ar35motor\\2021_11_02 for video Mask47videoL and scorer DLC_resnet152_ar30shiwkerSep13shuffle1_632000.\n",
      "Filtering with median model \\\\dk-server.dk.ucsd.edu\\afassihizakeri\\Topviewmovies\\ar35motor\\2021_11_02\\Mask3videoL.avi\n",
      "No unfiltered data file found in \\\\dk-server.dk.ucsd.edu\\afassihizakeri\\Topviewmovies\\ar35motor\\2021_11_02 for video Mask3videoL and scorer DLC_resnet152_ar30shiwkerSep13shuffle1_632000.\n",
      "Filtering with median model \\\\dk-server.dk.ucsd.edu\\afassihizakeri\\Topviewmovies\\ar35motor\\2021_11_02\\Mask191videoL.avi\n",
      "No unfiltered data file found in \\\\dk-server.dk.ucsd.edu\\afassihizakeri\\Topviewmovies\\ar35motor\\2021_11_02 for video Mask191videoL and scorer DLC_resnet152_ar30shiwkerSep13shuffle1_632000.\n",
      "Filtering with median model \\\\dk-server.dk.ucsd.edu\\afassihizakeri\\Topviewmovies\\ar35motor\\2021_11_02\\Mask19videoL.avi\n",
      "No unfiltered data file found in \\\\dk-server.dk.ucsd.edu\\afassihizakeri\\Topviewmovies\\ar35motor\\2021_11_02 for video Mask19videoL and scorer DLC_resnet152_ar30shiwkerSep13shuffle1_632000.\n",
      "Filtering with median model \\\\dk-server.dk.ucsd.edu\\afassihizakeri\\Topviewmovies\\ar35motor\\2021_11_02\\Mask82videoL.avi\n",
      "No unfiltered data file found in \\\\dk-server.dk.ucsd.edu\\afassihizakeri\\Topviewmovies\\ar35motor\\2021_11_02 for video Mask82videoL and scorer DLC_resnet152_ar30shiwkerSep13shuffle1_632000.\n",
      "Filtering with median model \\\\dk-server.dk.ucsd.edu\\afassihizakeri\\Topviewmovies\\ar35motor\\2021_11_02\\Mask154videoL.avi\n",
      "No unfiltered data file found in \\\\dk-server.dk.ucsd.edu\\afassihizakeri\\Topviewmovies\\ar35motor\\2021_11_02 for video Mask154videoL and scorer DLC_resnet152_ar30shiwkerSep13shuffle1_632000.\n",
      "Filtering with median model \\\\dk-server.dk.ucsd.edu\\afassihizakeri\\Topviewmovies\\ar35motor\\2021_11_02\\Mask32videoL.avi\n",
      "No unfiltered data file found in \\\\dk-server.dk.ucsd.edu\\afassihizakeri\\Topviewmovies\\ar35motor\\2021_11_02 for video Mask32videoL and scorer DLC_resnet152_ar30shiwkerSep13shuffle1_632000.\n",
      "Filtering with median model \\\\dk-server.dk.ucsd.edu\\afassihizakeri\\Topviewmovies\\ar35motor\\2021_11_02\\Mask121videoL.avi\n",
      "No unfiltered data file found in \\\\dk-server.dk.ucsd.edu\\afassihizakeri\\Topviewmovies\\ar35motor\\2021_11_02 for video Mask121videoL and scorer DLC_resnet152_ar30shiwkerSep13shuffle1_632000.\n",
      "Filtering with median model \\\\dk-server.dk.ucsd.edu\\afassihizakeri\\Topviewmovies\\ar35motor\\2021_11_02\\Mask109videoL.avi\n",
      "No unfiltered data file found in \\\\dk-server.dk.ucsd.edu\\afassihizakeri\\Topviewmovies\\ar35motor\\2021_11_02 for video Mask109videoL and scorer DLC_resnet152_ar30shiwkerSep13shuffle1_632000.\n",
      "Filtering with median model \\\\dk-server.dk.ucsd.edu\\afassihizakeri\\Topviewmovies\\ar35motor\\2021_11_02\\Mask81videoL.avi\n",
      "No unfiltered data file found in \\\\dk-server.dk.ucsd.edu\\afassihizakeri\\Topviewmovies\\ar35motor\\2021_11_02 for video Mask81videoL and scorer DLC_resnet152_ar30shiwkerSep13shuffle1_632000.\n",
      "Filtering with median model \\\\dk-server.dk.ucsd.edu\\afassihizakeri\\Topviewmovies\\ar35motor\\2021_11_02\\Mask157videoL.avi\n",
      "No unfiltered data file found in \\\\dk-server.dk.ucsd.edu\\afassihizakeri\\Topviewmovies\\ar35motor\\2021_11_02 for video Mask157videoL and scorer DLC_resnet152_ar30shiwkerSep13shuffle1_632000.\n",
      "Filtering with median model \\\\dk-server.dk.ucsd.edu\\afassihizakeri\\Topviewmovies\\ar35motor\\2021_11_02\\Mask0videoL.avi\n",
      "No unfiltered data file found in \\\\dk-server.dk.ucsd.edu\\afassihizakeri\\Topviewmovies\\ar35motor\\2021_11_02 for video Mask0videoL and scorer DLC_resnet152_ar30shiwkerSep13shuffle1_632000.\n",
      "Filtering with median model \\\\dk-server.dk.ucsd.edu\\afassihizakeri\\Topviewmovies\\ar35motor\\2021_11_02\\Mask44videoL.avi\n",
      "No unfiltered data file found in \\\\dk-server.dk.ucsd.edu\\afassihizakeri\\Topviewmovies\\ar35motor\\2021_11_02 for video Mask44videoL and scorer DLC_resnet152_ar30shiwkerSep13shuffle1_632000.\n",
      "Filtering with median model \\\\dk-server.dk.ucsd.edu\\afassihizakeri\\Topviewmovies\\ar35motor\\2021_11_02\\Mask192videoL.avi\n",
      "No unfiltered data file found in \\\\dk-server.dk.ucsd.edu\\afassihizakeri\\Topviewmovies\\ar35motor\\2021_11_02 for video Mask192videoL and scorer DLC_resnet152_ar30shiwkerSep13shuffle1_632000.\n",
      "Filtering with median model \\\\dk-server.dk.ucsd.edu\\afassihizakeri\\Topviewmovies\\ar35motor\\2021_11_02\\Mask33videoL.avi\n",
      "No unfiltered data file found in \\\\dk-server.dk.ucsd.edu\\afassihizakeri\\Topviewmovies\\ar35motor\\2021_11_02 for video Mask33videoL and scorer DLC_resnet152_ar30shiwkerSep13shuffle1_632000.\n",
      "Filtering with median model \\\\dk-server.dk.ucsd.edu\\afassihizakeri\\Topviewmovies\\ar35motor\\2021_11_02\\Mask120videoL.avi\n",
      "No unfiltered data file found in \\\\dk-server.dk.ucsd.edu\\afassihizakeri\\Topviewmovies\\ar35motor\\2021_11_02 for video Mask120videoL and scorer DLC_resnet152_ar30shiwkerSep13shuffle1_632000.\n",
      "Filtering with median model \\\\dk-server.dk.ucsd.edu\\afassihizakeri\\Topviewmovies\\ar35motor\\2021_11_02\\Mask156videoL.avi\n",
      "No unfiltered data file found in \\\\dk-server.dk.ucsd.edu\\afassihizakeri\\Topviewmovies\\ar35motor\\2021_11_02 for video Mask156videoL and scorer DLC_resnet152_ar30shiwkerSep13shuffle1_632000.\n",
      "Filtering with median model \\\\dk-server.dk.ucsd.edu\\afassihizakeri\\Topviewmovies\\ar35motor\\2021_11_02\\Mask80videoL.avi\n"
     ]
    },
    {
     "name": "stdout",
     "output_type": "stream",
     "text": [
      "No unfiltered data file found in \\\\dk-server.dk.ucsd.edu\\afassihizakeri\\Topviewmovies\\ar35motor\\2021_11_02 for video Mask80videoL and scorer DLC_resnet152_ar30shiwkerSep13shuffle1_632000.\n",
      "Filtering with median model \\\\dk-server.dk.ucsd.edu\\afassihizakeri\\Topviewmovies\\ar35motor\\2021_11_02\\Mask108videoL.avi\n",
      "No unfiltered data file found in \\\\dk-server.dk.ucsd.edu\\afassihizakeri\\Topviewmovies\\ar35motor\\2021_11_02 for video Mask108videoL and scorer DLC_resnet152_ar30shiwkerSep13shuffle1_632000.\n",
      "Filtering with median model \\\\dk-server.dk.ucsd.edu\\afassihizakeri\\Topviewmovies\\ar35motor\\2021_11_02\\Mask193videoL.avi\n",
      "No unfiltered data file found in \\\\dk-server.dk.ucsd.edu\\afassihizakeri\\Topviewmovies\\ar35motor\\2021_11_02 for video Mask193videoL and scorer DLC_resnet152_ar30shiwkerSep13shuffle1_632000.\n",
      "Filtering with median model \\\\dk-server.dk.ucsd.edu\\afassihizakeri\\Topviewmovies\\ar35motor\\2021_11_02\\Mask45videoL.avi\n",
      "No unfiltered data file found in \\\\dk-server.dk.ucsd.edu\\afassihizakeri\\Topviewmovies\\ar35motor\\2021_11_02 for video Mask45videoL and scorer DLC_resnet152_ar30shiwkerSep13shuffle1_632000.\n",
      "Filtering with median model \\\\dk-server.dk.ucsd.edu\\afassihizakeri\\Topviewmovies\\ar35motor\\2021_11_02\\Mask1videoL.avi\n",
      "No unfiltered data file found in \\\\dk-server.dk.ucsd.edu\\afassihizakeri\\Topviewmovies\\ar35motor\\2021_11_02 for video Mask1videoL and scorer DLC_resnet152_ar30shiwkerSep13shuffle1_632000.\n",
      "Filtering with median model \\\\dk-server.dk.ucsd.edu\\afassihizakeri\\Topviewmovies\\ar35motor\\2021_11_02\\Mask63videoL.avi\n",
      "No unfiltered data file found in \\\\dk-server.dk.ucsd.edu\\afassihizakeri\\Topviewmovies\\ar35motor\\2021_11_02 for video Mask63videoL and scorer DLC_resnet152_ar30shiwkerSep13shuffle1_632000.\n",
      "Filtering with median model \\\\dk-server.dk.ucsd.edu\\afassihizakeri\\Topviewmovies\\ar35motor\\2021_11_02\\Mask170videoL.avi\n",
      "No unfiltered data file found in \\\\dk-server.dk.ucsd.edu\\afassihizakeri\\Topviewmovies\\ar35motor\\2021_11_02 for video Mask170videoL and scorer DLC_resnet152_ar30shiwkerSep13shuffle1_632000.\n",
      "Filtering with median model \\\\dk-server.dk.ucsd.edu\\afassihizakeri\\Topviewmovies\\ar35motor\\2021_11_02\\Mask158videoL.avi\n",
      "No unfiltered data file found in \\\\dk-server.dk.ucsd.edu\\afassihizakeri\\Topviewmovies\\ar35motor\\2021_11_02 for video Mask158videoL and scorer DLC_resnet152_ar30shiwkerSep13shuffle1_632000.\n",
      "Filtering with median model \\\\dk-server.dk.ucsd.edu\\afassihizakeri\\Topviewmovies\\ar35motor\\2021_11_02\\Mask106videoL.avi\n",
      "No unfiltered data file found in \\\\dk-server.dk.ucsd.edu\\afassihizakeri\\Topviewmovies\\ar35motor\\2021_11_02 for video Mask106videoL and scorer DLC_resnet152_ar30shiwkerSep13shuffle1_632000.\n",
      "Filtering with median model \\\\dk-server.dk.ucsd.edu\\afassihizakeri\\Topviewmovies\\ar35motor\\2021_11_02\\Mask15videoL.avi\n",
      "No unfiltered data file found in \\\\dk-server.dk.ucsd.edu\\afassihizakeri\\Topviewmovies\\ar35motor\\2021_11_02 for video Mask15videoL and scorer DLC_resnet152_ar30shiwkerSep13shuffle1_632000.\n",
      "Filtering with median model \\\\dk-server.dk.ucsd.edu\\afassihizakeri\\Topviewmovies\\ar35motor\\2021_11_02\\Mask62videoL.avi\n",
      "No unfiltered data file found in \\\\dk-server.dk.ucsd.edu\\afassihizakeri\\Topviewmovies\\ar35motor\\2021_11_02 for video Mask62videoL and scorer DLC_resnet152_ar30shiwkerSep13shuffle1_632000.\n",
      "Filtering with median model \\\\dk-server.dk.ucsd.edu\\afassihizakeri\\Topviewmovies\\ar35motor\\2021_11_02\\Mask171videoL.avi\n",
      "No unfiltered data file found in \\\\dk-server.dk.ucsd.edu\\afassihizakeri\\Topviewmovies\\ar35motor\\2021_11_02 for video Mask171videoL and scorer DLC_resnet152_ar30shiwkerSep13shuffle1_632000.\n",
      "Filtering with median model \\\\dk-server.dk.ucsd.edu\\afassihizakeri\\Topviewmovies\\ar35motor\\2021_11_02\\Mask107videoL.avi\n",
      "No unfiltered data file found in \\\\dk-server.dk.ucsd.edu\\afassihizakeri\\Topviewmovies\\ar35motor\\2021_11_02 for video Mask107videoL and scorer DLC_resnet152_ar30shiwkerSep13shuffle1_632000.\n",
      "Filtering with median model \\\\dk-server.dk.ucsd.edu\\afassihizakeri\\Topviewmovies\\ar35motor\\2021_11_02\\Mask159videoL.avi\n",
      "No unfiltered data file found in \\\\dk-server.dk.ucsd.edu\\afassihizakeri\\Topviewmovies\\ar35motor\\2021_11_02 for video Mask159videoL and scorer DLC_resnet152_ar30shiwkerSep13shuffle1_632000.\n",
      "Filtering with median model \\\\dk-server.dk.ucsd.edu\\afassihizakeri\\Topviewmovies\\ar35motor\\2021_11_02\\Mask14videoL.avi\n",
      "No unfiltered data file found in \\\\dk-server.dk.ucsd.edu\\afassihizakeri\\Topviewmovies\\ar35motor\\2021_11_02 for video Mask14videoL and scorer DLC_resnet152_ar30shiwkerSep13shuffle1_632000.\n",
      "Filtering with median model \\\\dk-server.dk.ucsd.edu\\afassihizakeri\\Topviewmovies\\ar35motor\\2021_11_02\\Mask172videoL.avi\n",
      "No unfiltered data file found in \\\\dk-server.dk.ucsd.edu\\afassihizakeri\\Topviewmovies\\ar35motor\\2021_11_02 for video Mask172videoL and scorer DLC_resnet152_ar30shiwkerSep13shuffle1_632000.\n",
      "Filtering with median model \\\\dk-server.dk.ucsd.edu\\afassihizakeri\\Topviewmovies\\ar35motor\\2021_11_02\\Mask61videoL.avi\n",
      "No unfiltered data file found in \\\\dk-server.dk.ucsd.edu\\afassihizakeri\\Topviewmovies\\ar35motor\\2021_11_02 for video Mask61videoL and scorer DLC_resnet152_ar30shiwkerSep13shuffle1_632000.\n",
      "Filtering with median model \\\\dk-server.dk.ucsd.edu\\afassihizakeri\\Topviewmovies\\ar35motor\\2021_11_02\\Mask49videoL.avi\n",
      "No unfiltered data file found in \\\\dk-server.dk.ucsd.edu\\afassihizakeri\\Topviewmovies\\ar35motor\\2021_11_02 for video Mask49videoL and scorer DLC_resnet152_ar30shiwkerSep13shuffle1_632000.\n",
      "Filtering with median model \\\\dk-server.dk.ucsd.edu\\afassihizakeri\\Topviewmovies\\ar35motor\\2021_11_02\\Mask17videoL.avi\n",
      "No unfiltered data file found in \\\\dk-server.dk.ucsd.edu\\afassihizakeri\\Topviewmovies\\ar35motor\\2021_11_02 for video Mask17videoL and scorer DLC_resnet152_ar30shiwkerSep13shuffle1_632000.\n",
      "Filtering with median model \\\\dk-server.dk.ucsd.edu\\afassihizakeri\\Topviewmovies\\ar35motor\\2021_11_02\\Mask104videoL.avi\n",
      "No unfiltered data file found in \\\\dk-server.dk.ucsd.edu\\afassihizakeri\\Topviewmovies\\ar35motor\\2021_11_02 for video Mask104videoL and scorer DLC_resnet152_ar30shiwkerSep13shuffle1_632000.\n",
      "Filtering with median model \\\\dk-server.dk.ucsd.edu\\afassihizakeri\\Topviewmovies\\ar35motor\\2021_11_02\\Mask173videoL.avi\n",
      "No unfiltered data file found in \\\\dk-server.dk.ucsd.edu\\afassihizakeri\\Topviewmovies\\ar35motor\\2021_11_02 for video Mask173videoL and scorer DLC_resnet152_ar30shiwkerSep13shuffle1_632000.\n",
      "Filtering with median model \\\\dk-server.dk.ucsd.edu\\afassihizakeri\\Topviewmovies\\ar35motor\\2021_11_02\\Mask60videoL.avi\n",
      "No unfiltered data file found in \\\\dk-server.dk.ucsd.edu\\afassihizakeri\\Topviewmovies\\ar35motor\\2021_11_02 for video Mask60videoL and scorer DLC_resnet152_ar30shiwkerSep13shuffle1_632000.\n",
      "Filtering with median model \\\\dk-server.dk.ucsd.edu\\afassihizakeri\\Topviewmovies\\ar35motor\\2021_11_02\\Mask16videoL.avi\n",
      "No unfiltered data file found in \\\\dk-server.dk.ucsd.edu\\afassihizakeri\\Topviewmovies\\ar35motor\\2021_11_02 for video Mask16videoL and scorer DLC_resnet152_ar30shiwkerSep13shuffle1_632000.\n",
      "Filtering with median model \\\\dk-server.dk.ucsd.edu\\afassihizakeri\\Topviewmovies\\ar35motor\\2021_11_02\\Mask48videoL.avi\n",
      "No unfiltered data file found in \\\\dk-server.dk.ucsd.edu\\afassihizakeri\\Topviewmovies\\ar35motor\\2021_11_02 for video Mask48videoL and scorer DLC_resnet152_ar30shiwkerSep13shuffle1_632000.\n",
      "Filtering with median model \\\\dk-server.dk.ucsd.edu\\afassihizakeri\\Topviewmovies\\ar35motor\\2021_11_02\\Mask105videoL.avi\n",
      "No unfiltered data file found in \\\\dk-server.dk.ucsd.edu\\afassihizakeri\\Topviewmovies\\ar35motor\\2021_11_02 for video Mask105videoL and scorer DLC_resnet152_ar30shiwkerSep13shuffle1_632000.\n",
      "Filtering with median model \\\\dk-server.dk.ucsd.edu\\afassihizakeri\\Topviewmovies\\ar35motor\\2021_11_02\\Mask199videoL.avi\n",
      "No unfiltered data file found in \\\\dk-server.dk.ucsd.edu\\afassihizakeri\\Topviewmovies\\ar35motor\\2021_11_02 for video Mask199videoL and scorer DLC_resnet152_ar30shiwkerSep13shuffle1_632000.\n",
      "Filtering with median model \\\\dk-server.dk.ucsd.edu\\afassihizakeri\\Topviewmovies\\ar35motor\\2021_11_02\\Mask11videoL.avi\n",
      "No unfiltered data file found in \\\\dk-server.dk.ucsd.edu\\afassihizakeri\\Topviewmovies\\ar35motor\\2021_11_02 for video Mask11videoL and scorer DLC_resnet152_ar30shiwkerSep13shuffle1_632000.\n",
      "Filtering with median model \\\\dk-server.dk.ucsd.edu\\afassihizakeri\\Topviewmovies\\ar35motor\\2021_11_02\\Mask102videoL.avi\n"
     ]
    },
    {
     "name": "stdout",
     "output_type": "stream",
     "text": [
      "No unfiltered data file found in \\\\dk-server.dk.ucsd.edu\\afassihizakeri\\Topviewmovies\\ar35motor\\2021_11_02 for video Mask102videoL and scorer DLC_resnet152_ar30shiwkerSep13shuffle1_632000.\n",
      "Filtering with median model \\\\dk-server.dk.ucsd.edu\\afassihizakeri\\Topviewmovies\\ar35motor\\2021_11_02\\Mask174videoL.avi\n",
      "No unfiltered data file found in \\\\dk-server.dk.ucsd.edu\\afassihizakeri\\Topviewmovies\\ar35motor\\2021_11_02 for video Mask174videoL and scorer DLC_resnet152_ar30shiwkerSep13shuffle1_632000.\n",
      "Filtering with median model \\\\dk-server.dk.ucsd.edu\\afassihizakeri\\Topviewmovies\\ar35motor\\2021_11_02\\Mask67videoL.avi\n",
      "No unfiltered data file found in \\\\dk-server.dk.ucsd.edu\\afassihizakeri\\Topviewmovies\\ar35motor\\2021_11_02 for video Mask67videoL and scorer DLC_resnet152_ar30shiwkerSep13shuffle1_632000.\n",
      "Filtering with median model \\\\dk-server.dk.ucsd.edu\\afassihizakeri\\Topviewmovies\\ar35motor\\2021_11_02\\Mask39videoL.avi\n",
      "No unfiltered data file found in \\\\dk-server.dk.ucsd.edu\\afassihizakeri\\Topviewmovies\\ar35motor\\2021_11_02 for video Mask39videoL and scorer DLC_resnet152_ar30shiwkerSep13shuffle1_632000.\n",
      "Filtering with median model \\\\dk-server.dk.ucsd.edu\\afassihizakeri\\Topviewmovies\\ar35motor\\2021_11_02\\Mask210videoL.avi\n",
      "No unfiltered data file found in \\\\dk-server.dk.ucsd.edu\\afassihizakeri\\Topviewmovies\\ar35motor\\2021_11_02 for video Mask210videoL and scorer DLC_resnet152_ar30shiwkerSep13shuffle1_632000.\n",
      "Filtering with median model \\\\dk-server.dk.ucsd.edu\\afassihizakeri\\Topviewmovies\\ar35motor\\2021_11_02\\Mask10videoL.avi\n",
      "No unfiltered data file found in \\\\dk-server.dk.ucsd.edu\\afassihizakeri\\Topviewmovies\\ar35motor\\2021_11_02 for video Mask10videoL and scorer DLC_resnet152_ar30shiwkerSep13shuffle1_632000.\n",
      "Filtering with median model \\\\dk-server.dk.ucsd.edu\\afassihizakeri\\Topviewmovies\\ar35motor\\2021_11_02\\Mask198videoL.avi\n",
      "No unfiltered data file found in \\\\dk-server.dk.ucsd.edu\\afassihizakeri\\Topviewmovies\\ar35motor\\2021_11_02 for video Mask198videoL and scorer DLC_resnet152_ar30shiwkerSep13shuffle1_632000.\n",
      "Filtering with median model \\\\dk-server.dk.ucsd.edu\\afassihizakeri\\Topviewmovies\\ar35motor\\2021_11_02\\Mask103videoL.avi\n",
      "No unfiltered data file found in \\\\dk-server.dk.ucsd.edu\\afassihizakeri\\Topviewmovies\\ar35motor\\2021_11_02 for video Mask103videoL and scorer DLC_resnet152_ar30shiwkerSep13shuffle1_632000.\n",
      "Filtering with median model \\\\dk-server.dk.ucsd.edu\\afassihizakeri\\Topviewmovies\\ar35motor\\2021_11_02\\Mask175videoL.avi\n",
      "No unfiltered data file found in \\\\dk-server.dk.ucsd.edu\\afassihizakeri\\Topviewmovies\\ar35motor\\2021_11_02 for video Mask175videoL and scorer DLC_resnet152_ar30shiwkerSep13shuffle1_632000.\n",
      "Filtering with median model \\\\dk-server.dk.ucsd.edu\\afassihizakeri\\Topviewmovies\\ar35motor\\2021_11_02\\Mask38videoL.avi\n",
      "No unfiltered data file found in \\\\dk-server.dk.ucsd.edu\\afassihizakeri\\Topviewmovies\\ar35motor\\2021_11_02 for video Mask38videoL and scorer DLC_resnet152_ar30shiwkerSep13shuffle1_632000.\n",
      "Filtering with median model \\\\dk-server.dk.ucsd.edu\\afassihizakeri\\Topviewmovies\\ar35motor\\2021_11_02\\Mask66videoL.avi\n",
      "No unfiltered data file found in \\\\dk-server.dk.ucsd.edu\\afassihizakeri\\Topviewmovies\\ar35motor\\2021_11_02 for video Mask66videoL and scorer DLC_resnet152_ar30shiwkerSep13shuffle1_632000.\n",
      "Filtering with median model \\\\dk-server.dk.ucsd.edu\\afassihizakeri\\Topviewmovies\\ar35motor\\2021_11_02\\Mask88videoL.avi\n",
      "No unfiltered data file found in \\\\dk-server.dk.ucsd.edu\\afassihizakeri\\Topviewmovies\\ar35motor\\2021_11_02 for video Mask88videoL and scorer DLC_resnet152_ar30shiwkerSep13shuffle1_632000.\n",
      "Filtering with median model \\\\dk-server.dk.ucsd.edu\\afassihizakeri\\Topviewmovies\\ar35motor\\2021_11_02\\Mask100videoL.avi\n",
      "No unfiltered data file found in \\\\dk-server.dk.ucsd.edu\\afassihizakeri\\Topviewmovies\\ar35motor\\2021_11_02 for video Mask100videoL and scorer DLC_resnet152_ar30shiwkerSep13shuffle1_632000.\n",
      "Filtering with median model \\\\dk-server.dk.ucsd.edu\\afassihizakeri\\Topviewmovies\\ar35motor\\2021_11_02\\Mask9videoL.avi\n",
      "No unfiltered data file found in \\\\dk-server.dk.ucsd.edu\\afassihizakeri\\Topviewmovies\\ar35motor\\2021_11_02 for video Mask9videoL and scorer DLC_resnet152_ar30shiwkerSep13shuffle1_632000.\n",
      "Filtering with median model \\\\dk-server.dk.ucsd.edu\\afassihizakeri\\Topviewmovies\\ar35motor\\2021_11_02\\Mask13videoL.avi\n",
      "No unfiltered data file found in \\\\dk-server.dk.ucsd.edu\\afassihizakeri\\Topviewmovies\\ar35motor\\2021_11_02 for video Mask13videoL and scorer DLC_resnet152_ar30shiwkerSep13shuffle1_632000.\n",
      "Filtering with median model \\\\dk-server.dk.ucsd.edu\\afassihizakeri\\Topviewmovies\\ar35motor\\2021_11_02\\Mask65videoL.avi\n",
      "No unfiltered data file found in \\\\dk-server.dk.ucsd.edu\\afassihizakeri\\Topviewmovies\\ar35motor\\2021_11_02 for video Mask65videoL and scorer DLC_resnet152_ar30shiwkerSep13shuffle1_632000.\n",
      "Filtering with median model \\\\dk-server.dk.ucsd.edu\\afassihizakeri\\Topviewmovies\\ar35motor\\2021_11_02\\Mask176videoL.avi\n",
      "No unfiltered data file found in \\\\dk-server.dk.ucsd.edu\\afassihizakeri\\Topviewmovies\\ar35motor\\2021_11_02 for video Mask176videoL and scorer DLC_resnet152_ar30shiwkerSep13shuffle1_632000.\n",
      "Filtering with median model \\\\dk-server.dk.ucsd.edu\\afassihizakeri\\Topviewmovies\\ar35motor\\2021_11_02\\Mask128videoL.avi\n",
      "No unfiltered data file found in \\\\dk-server.dk.ucsd.edu\\afassihizakeri\\Topviewmovies\\ar35motor\\2021_11_02 for video Mask128videoL and scorer DLC_resnet152_ar30shiwkerSep13shuffle1_632000.\n",
      "Filtering with median model \\\\dk-server.dk.ucsd.edu\\afassihizakeri\\Topviewmovies\\ar35motor\\2021_11_02\\Mask101videoL.avi\n",
      "No unfiltered data file found in \\\\dk-server.dk.ucsd.edu\\afassihizakeri\\Topviewmovies\\ar35motor\\2021_11_02 for video Mask101videoL and scorer DLC_resnet152_ar30shiwkerSep13shuffle1_632000.\n",
      "Filtering with median model \\\\dk-server.dk.ucsd.edu\\afassihizakeri\\Topviewmovies\\ar35motor\\2021_11_02\\Mask89videoL.avi\n",
      "No unfiltered data file found in \\\\dk-server.dk.ucsd.edu\\afassihizakeri\\Topviewmovies\\ar35motor\\2021_11_02 for video Mask89videoL and scorer DLC_resnet152_ar30shiwkerSep13shuffle1_632000.\n",
      "Filtering with median model \\\\dk-server.dk.ucsd.edu\\afassihizakeri\\Topviewmovies\\ar35motor\\2021_11_02\\Mask12videoL.avi\n",
      "No unfiltered data file found in \\\\dk-server.dk.ucsd.edu\\afassihizakeri\\Topviewmovies\\ar35motor\\2021_11_02 for video Mask12videoL and scorer DLC_resnet152_ar30shiwkerSep13shuffle1_632000.\n",
      "Filtering with median model \\\\dk-server.dk.ucsd.edu\\afassihizakeri\\Topviewmovies\\ar35motor\\2021_11_02\\Mask8videoL.avi\n",
      "No unfiltered data file found in \\\\dk-server.dk.ucsd.edu\\afassihizakeri\\Topviewmovies\\ar35motor\\2021_11_02 for video Mask8videoL and scorer DLC_resnet152_ar30shiwkerSep13shuffle1_632000.\n",
      "Filtering with median model \\\\dk-server.dk.ucsd.edu\\afassihizakeri\\Topviewmovies\\ar35motor\\2021_11_02\\Mask64videoL.avi\n",
      "No unfiltered data file found in \\\\dk-server.dk.ucsd.edu\\afassihizakeri\\Topviewmovies\\ar35motor\\2021_11_02 for video Mask64videoL and scorer DLC_resnet152_ar30shiwkerSep13shuffle1_632000.\n",
      "Filtering with median model \\\\dk-server.dk.ucsd.edu\\afassihizakeri\\Topviewmovies\\ar35motor\\2021_11_02\\Mask129videoL.avi\n",
      "No unfiltered data file found in \\\\dk-server.dk.ucsd.edu\\afassihizakeri\\Topviewmovies\\ar35motor\\2021_11_02 for video Mask129videoL and scorer DLC_resnet152_ar30shiwkerSep13shuffle1_632000.\n",
      "Filtering with median model \\\\dk-server.dk.ucsd.edu\\afassihizakeri\\Topviewmovies\\ar35motor\\2021_11_02\\Mask177videoL.avi\n",
      "No unfiltered data file found in \\\\dk-server.dk.ucsd.edu\\afassihizakeri\\Topviewmovies\\ar35motor\\2021_11_02 for video Mask177videoL and scorer DLC_resnet152_ar30shiwkerSep13shuffle1_632000.\n",
      "Using snapshot-100000 for model \\\\dk-server.dk.ucsd.edu\\afassihizakeri\\DLC\\ar30shiwker-Arash-2021-09-13\\dlc-models\\iteration-0\\ar30shiwkerSep13-trainset95shuffle2\n",
      "Initializing ResNet\n",
      "Starting to analyze %  \\\\dk-server.dk.ucsd.edu\\afassihizakeri\\Topviewmovies\\ar35motor\\2021_11_02\\Mirror112videoR.avi\n",
      "\\\\dk-server.dk.ucsd.edu\\afassihizakeri\\Topviewmovies\\ar35motor\\2021_11_02  already exists!\n",
      "Loading  \\\\dk-server.dk.ucsd.edu\\afassihizakeri\\Topviewmovies\\ar35motor\\2021_11_02\\Mirror112videoR.avi\n",
      "Duration of video [s]:  12.5 , recorded with  40.0 fps!\n",
      "Overall # of frames:  500  found with (before cropping) frame dimensions:  314 700\n",
      "Starting to extract posture\n"
     ]
    },
    {
     "name": "stderr",
     "output_type": "stream",
     "text": [
      "510it [00:59,  8.63it/s]                                                                                               \n"
     ]
    },
    {
     "name": "stdout",
     "output_type": "stream",
     "text": [
      "Saving results in \\\\dk-server.dk.ucsd.edu\\afassihizakeri\\Topviewmovies\\ar35motor\\2021_11_02...\n",
      "Saving csv poses!\n",
      "Starting to analyze %  \\\\dk-server.dk.ucsd.edu\\afassihizakeri\\Topviewmovies\\ar35motor\\2021_11_02\\Mirror26videoR.avi\n",
      "\\\\dk-server.dk.ucsd.edu\\afassihizakeri\\Topviewmovies\\ar35motor\\2021_11_02  already exists!\n",
      "Loading  \\\\dk-server.dk.ucsd.edu\\afassihizakeri\\Topviewmovies\\ar35motor\\2021_11_02\\Mirror26videoR.avi\n",
      "Duration of video [s]:  9.6 , recorded with  40.0 fps!\n",
      "Overall # of frames:  384  found with (before cropping) frame dimensions:  314 700\n",
      "Starting to extract posture\n"
     ]
    },
    {
     "name": "stderr",
     "output_type": "stream",
     "text": [
      "390it [00:43,  8.94it/s]                                                                                               \n"
     ]
    },
    {
     "name": "stdout",
     "output_type": "stream",
     "text": [
      "Saving results in \\\\dk-server.dk.ucsd.edu\\afassihizakeri\\Topviewmovies\\ar35motor\\2021_11_02...\n",
      "Saving csv poses!\n",
      "Starting to analyze %  \\\\dk-server.dk.ucsd.edu\\afassihizakeri\\Topviewmovies\\ar35motor\\2021_11_02\\Mirror78videoR.avi\n",
      "\\\\dk-server.dk.ucsd.edu\\afassihizakeri\\Topviewmovies\\ar35motor\\2021_11_02  already exists!\n",
      "Loading  \\\\dk-server.dk.ucsd.edu\\afassihizakeri\\Topviewmovies\\ar35motor\\2021_11_02\\Mirror78videoR.avi\n",
      "Duration of video [s]:  4.17 , recorded with  40.0 fps!\n",
      "Overall # of frames:  167  found with (before cropping) frame dimensions:  314 700\n",
      "Starting to extract posture\n"
     ]
    },
    {
     "name": "stderr",
     "output_type": "stream",
     "text": [
      "170it [00:19,  8.82it/s]                                                                                               \n"
     ]
    },
    {
     "name": "stdout",
     "output_type": "stream",
     "text": [
      "Saving results in \\\\dk-server.dk.ucsd.edu\\afassihizakeri\\Topviewmovies\\ar35motor\\2021_11_02...\n",
      "Saving csv poses!\n",
      "Starting to analyze %  \\\\dk-server.dk.ucsd.edu\\afassihizakeri\\Topviewmovies\\ar35motor\\2021_11_02\\Mirror201videoR.avi\n",
      "\\\\dk-server.dk.ucsd.edu\\afassihizakeri\\Topviewmovies\\ar35motor\\2021_11_02  already exists!\n",
      "Loading  \\\\dk-server.dk.ucsd.edu\\afassihizakeri\\Topviewmovies\\ar35motor\\2021_11_02\\Mirror201videoR.avi\n",
      "Duration of video [s]:  10.18 , recorded with  40.0 fps!\n",
      "Overall # of frames:  407  found with (before cropping) frame dimensions:  314 700\n",
      "Starting to extract posture\n"
     ]
    },
    {
     "name": "stderr",
     "output_type": "stream",
     "text": [
      "410it [00:46,  8.83it/s]                                                                                               \n"
     ]
    },
    {
     "name": "stdout",
     "output_type": "stream",
     "text": [
      "Saving results in \\\\dk-server.dk.ucsd.edu\\afassihizakeri\\Topviewmovies\\ar35motor\\2021_11_02...\n",
      "Saving csv poses!\n",
      "Starting to analyze %  \\\\dk-server.dk.ucsd.edu\\afassihizakeri\\Topviewmovies\\ar35motor\\2021_11_02\\Mirror189videoR.avi\n",
      "\\\\dk-server.dk.ucsd.edu\\afassihizakeri\\Topviewmovies\\ar35motor\\2021_11_02  already exists!\n",
      "Loading  \\\\dk-server.dk.ucsd.edu\\afassihizakeri\\Topviewmovies\\ar35motor\\2021_11_02\\Mirror189videoR.avi\n",
      "Duration of video [s]:  12.5 , recorded with  40.0 fps!\n",
      "Overall # of frames:  500  found with (before cropping) frame dimensions:  314 700\n",
      "Starting to extract posture\n"
     ]
    },
    {
     "name": "stderr",
     "output_type": "stream",
     "text": [
      "510it [00:57,  8.90it/s]                                                                                               \n"
     ]
    },
    {
     "name": "stdout",
     "output_type": "stream",
     "text": [
      "Saving results in \\\\dk-server.dk.ucsd.edu\\afassihizakeri\\Topviewmovies\\ar35motor\\2021_11_02...\n",
      "Saving csv poses!\n",
      "Starting to analyze %  \\\\dk-server.dk.ucsd.edu\\afassihizakeri\\Topviewmovies\\ar35motor\\2021_11_02\\Mirror95videoR.avi\n",
      "\\\\dk-server.dk.ucsd.edu\\afassihizakeri\\Topviewmovies\\ar35motor\\2021_11_02  already exists!\n",
      "Loading  \\\\dk-server.dk.ucsd.edu\\afassihizakeri\\Topviewmovies\\ar35motor\\2021_11_02\\Mirror95videoR.avi\n",
      "Duration of video [s]:  4.83 , recorded with  40.0 fps!\n",
      "Overall # of frames:  193  found with (before cropping) frame dimensions:  314 700\n",
      "Starting to extract posture\n"
     ]
    },
    {
     "name": "stderr",
     "output_type": "stream",
     "text": [
      "200it [00:22,  8.79it/s]                                                                                               \n"
     ]
    },
    {
     "name": "stdout",
     "output_type": "stream",
     "text": [
      "Saving results in \\\\dk-server.dk.ucsd.edu\\afassihizakeri\\Topviewmovies\\ar35motor\\2021_11_02...\n",
      "Saving csv poses!\n",
      "Starting to analyze %  \\\\dk-server.dk.ucsd.edu\\afassihizakeri\\Topviewmovies\\ar35motor\\2021_11_02\\Mirror164videoR.avi\n",
      "\\\\dk-server.dk.ucsd.edu\\afassihizakeri\\Topviewmovies\\ar35motor\\2021_11_02  already exists!\n",
      "Loading  \\\\dk-server.dk.ucsd.edu\\afassihizakeri\\Topviewmovies\\ar35motor\\2021_11_02\\Mirror164videoR.avi\n",
      "Duration of video [s]:  10.62 , recorded with  40.0 fps!\n",
      "Overall # of frames:  425  found with (before cropping) frame dimensions:  314 700\n",
      "Starting to extract posture\n"
     ]
    },
    {
     "name": "stderr",
     "output_type": "stream",
     "text": [
      "430it [00:49,  8.63it/s]                                                                                               \n"
     ]
    },
    {
     "name": "stdout",
     "output_type": "stream",
     "text": [
      "Saving results in \\\\dk-server.dk.ucsd.edu\\afassihizakeri\\Topviewmovies\\ar35motor\\2021_11_02...\n",
      "Saving csv poses!\n",
      "Starting to analyze %  \\\\dk-server.dk.ucsd.edu\\afassihizakeri\\Topviewmovies\\ar35motor\\2021_11_02\\Mirror50videoR.avi\n",
      "\\\\dk-server.dk.ucsd.edu\\afassihizakeri\\Topviewmovies\\ar35motor\\2021_11_02  already exists!\n",
      "Loading  \\\\dk-server.dk.ucsd.edu\\afassihizakeri\\Topviewmovies\\ar35motor\\2021_11_02\\Mirror50videoR.avi\n",
      "Duration of video [s]:  10.47 , recorded with  40.0 fps!\n",
      "Overall # of frames:  419  found with (before cropping) frame dimensions:  314 700\n",
      "Starting to extract posture\n"
     ]
    },
    {
     "name": "stderr",
     "output_type": "stream",
     "text": [
      "420it [00:48,  8.65it/s]                                                                                               \n"
     ]
    },
    {
     "name": "stdout",
     "output_type": "stream",
     "text": [
      "Saving results in \\\\dk-server.dk.ucsd.edu\\afassihizakeri\\Topviewmovies\\ar35motor\\2021_11_02...\n",
      "Saving csv poses!\n",
      "Starting to analyze %  \\\\dk-server.dk.ucsd.edu\\afassihizakeri\\Topviewmovies\\ar35motor\\2021_11_02\\Mirror79videoR.avi\n",
      "\\\\dk-server.dk.ucsd.edu\\afassihizakeri\\Topviewmovies\\ar35motor\\2021_11_02  already exists!\n",
      "Loading  \\\\dk-server.dk.ucsd.edu\\afassihizakeri\\Topviewmovies\\ar35motor\\2021_11_02\\Mirror79videoR.avi\n",
      "Duration of video [s]:  6.17 , recorded with  40.0 fps!\n",
      "Overall # of frames:  247  found with (before cropping) frame dimensions:  314 700\n",
      "Starting to extract posture\n"
     ]
    },
    {
     "name": "stderr",
     "output_type": "stream",
     "text": [
      "250it [00:28,  8.79it/s]                                                                                               \n"
     ]
    },
    {
     "name": "stdout",
     "output_type": "stream",
     "text": [
      "Saving results in \\\\dk-server.dk.ucsd.edu\\afassihizakeri\\Topviewmovies\\ar35motor\\2021_11_02...\n",
      "Saving csv poses!\n",
      "Starting to analyze %  \\\\dk-server.dk.ucsd.edu\\afassihizakeri\\Topviewmovies\\ar35motor\\2021_11_02\\Mirror27videoR.avi\n",
      "\\\\dk-server.dk.ucsd.edu\\afassihizakeri\\Topviewmovies\\ar35motor\\2021_11_02  already exists!\n",
      "Loading  \\\\dk-server.dk.ucsd.edu\\afassihizakeri\\Topviewmovies\\ar35motor\\2021_11_02\\Mirror27videoR.avi\n",
      "Duration of video [s]:  10.8 , recorded with  40.0 fps!\n",
      "Overall # of frames:  432  found with (before cropping) frame dimensions:  314 700\n",
      "Starting to extract posture\n"
     ]
    },
    {
     "name": "stderr",
     "output_type": "stream",
     "text": [
      "440it [00:49,  8.96it/s]                                                                                               \n"
     ]
    },
    {
     "name": "stdout",
     "output_type": "stream",
     "text": [
      "Saving results in \\\\dk-server.dk.ucsd.edu\\afassihizakeri\\Topviewmovies\\ar35motor\\2021_11_02...\n",
      "Saving csv poses!\n",
      "Starting to analyze %  \\\\dk-server.dk.ucsd.edu\\afassihizakeri\\Topviewmovies\\ar35motor\\2021_11_02\\Mirror113videoR.avi\n",
      "\\\\dk-server.dk.ucsd.edu\\afassihizakeri\\Topviewmovies\\ar35motor\\2021_11_02  already exists!\n",
      "Loading  \\\\dk-server.dk.ucsd.edu\\afassihizakeri\\Topviewmovies\\ar35motor\\2021_11_02\\Mirror113videoR.avi\n",
      "Duration of video [s]:  2.6 , recorded with  40.0 fps!\n",
      "Overall # of frames:  104  found with (before cropping) frame dimensions:  314 700\n",
      "Starting to extract posture\n"
     ]
    },
    {
     "name": "stderr",
     "output_type": "stream",
     "text": [
      "110it [00:11,  9.28it/s]                                                                                               \n"
     ]
    },
    {
     "name": "stdout",
     "output_type": "stream",
     "text": [
      "Saving results in \\\\dk-server.dk.ucsd.edu\\afassihizakeri\\Topviewmovies\\ar35motor\\2021_11_02...\n",
      "Saving csv poses!\n",
      "Starting to analyze %  \\\\dk-server.dk.ucsd.edu\\afassihizakeri\\Topviewmovies\\ar35motor\\2021_11_02\\Mirror188videoR.avi\n",
      "\\\\dk-server.dk.ucsd.edu\\afassihizakeri\\Topviewmovies\\ar35motor\\2021_11_02  already exists!\n",
      "Loading  \\\\dk-server.dk.ucsd.edu\\afassihizakeri\\Topviewmovies\\ar35motor\\2021_11_02\\Mirror188videoR.avi\n",
      "Duration of video [s]:  11.6 , recorded with  40.0 fps!\n",
      "Overall # of frames:  464  found with (before cropping) frame dimensions:  314 700\n",
      "Starting to extract posture\n"
     ]
    },
    {
     "name": "stderr",
     "output_type": "stream",
     "text": [
      "470it [00:52,  8.90it/s]                                                                                               \n"
     ]
    },
    {
     "name": "stdout",
     "output_type": "stream",
     "text": [
      "Saving results in \\\\dk-server.dk.ucsd.edu\\afassihizakeri\\Topviewmovies\\ar35motor\\2021_11_02...\n",
      "Saving csv poses!\n",
      "Starting to analyze %  \\\\dk-server.dk.ucsd.edu\\afassihizakeri\\Topviewmovies\\ar35motor\\2021_11_02\\Mirror200videoR.avi\n",
      "\\\\dk-server.dk.ucsd.edu\\afassihizakeri\\Topviewmovies\\ar35motor\\2021_11_02  already exists!\n",
      "Loading  \\\\dk-server.dk.ucsd.edu\\afassihizakeri\\Topviewmovies\\ar35motor\\2021_11_02\\Mirror200videoR.avi\n",
      "Duration of video [s]:  12.47 , recorded with  40.0 fps!\n",
      "Overall # of frames:  499  found with (before cropping) frame dimensions:  314 700\n",
      "Starting to extract posture\n"
     ]
    },
    {
     "name": "stderr",
     "output_type": "stream",
     "text": [
      "500it [00:57,  8.72it/s]                                                                                               \n"
     ]
    },
    {
     "name": "stdout",
     "output_type": "stream",
     "text": [
      "Saving results in \\\\dk-server.dk.ucsd.edu\\afassihizakeri\\Topviewmovies\\ar35motor\\2021_11_02...\n",
      "Saving csv poses!\n",
      "Starting to analyze %  \\\\dk-server.dk.ucsd.edu\\afassihizakeri\\Topviewmovies\\ar35motor\\2021_11_02\\Mirror94videoR.avi\n",
      "\\\\dk-server.dk.ucsd.edu\\afassihizakeri\\Topviewmovies\\ar35motor\\2021_11_02  already exists!\n",
      "Loading  \\\\dk-server.dk.ucsd.edu\\afassihizakeri\\Topviewmovies\\ar35motor\\2021_11_02\\Mirror94videoR.avi\n",
      "Duration of video [s]:  10.5 , recorded with  40.0 fps!\n",
      "Overall # of frames:  420  found with (before cropping) frame dimensions:  314 700\n",
      "Starting to extract posture\n"
     ]
    },
    {
     "name": "stderr",
     "output_type": "stream",
     "text": [
      "430it [00:48,  8.89it/s]                                                                                               \n"
     ]
    },
    {
     "name": "stdout",
     "output_type": "stream",
     "text": [
      "Saving results in \\\\dk-server.dk.ucsd.edu\\afassihizakeri\\Topviewmovies\\ar35motor\\2021_11_02...\n",
      "Saving csv poses!\n",
      "Starting to analyze %  \\\\dk-server.dk.ucsd.edu\\afassihizakeri\\Topviewmovies\\ar35motor\\2021_11_02\\Mirror51videoR.avi\n",
      "\\\\dk-server.dk.ucsd.edu\\afassihizakeri\\Topviewmovies\\ar35motor\\2021_11_02  already exists!\n",
      "Loading  \\\\dk-server.dk.ucsd.edu\\afassihizakeri\\Topviewmovies\\ar35motor\\2021_11_02\\Mirror51videoR.avi\n",
      "Duration of video [s]:  10.55 , recorded with  40.0 fps!\n",
      "Overall # of frames:  422  found with (before cropping) frame dimensions:  314 700\n",
      "Starting to extract posture\n"
     ]
    },
    {
     "name": "stderr",
     "output_type": "stream",
     "text": [
      "430it [00:48,  8.89it/s]                                                                                               \n"
     ]
    },
    {
     "name": "stdout",
     "output_type": "stream",
     "text": [
      "Saving results in \\\\dk-server.dk.ucsd.edu\\afassihizakeri\\Topviewmovies\\ar35motor\\2021_11_02...\n",
      "Saving csv poses!\n",
      "Starting to analyze %  \\\\dk-server.dk.ucsd.edu\\afassihizakeri\\Topviewmovies\\ar35motor\\2021_11_02\\Mirror165videoR.avi\n",
      "\\\\dk-server.dk.ucsd.edu\\afassihizakeri\\Topviewmovies\\ar35motor\\2021_11_02  already exists!\n",
      "Loading  \\\\dk-server.dk.ucsd.edu\\afassihizakeri\\Topviewmovies\\ar35motor\\2021_11_02\\Mirror165videoR.avi\n",
      "Duration of video [s]:  10.72 , recorded with  40.0 fps!\n",
      "Overall # of frames:  429  found with (before cropping) frame dimensions:  314 700\n",
      "Starting to extract posture\n"
     ]
    },
    {
     "name": "stderr",
     "output_type": "stream",
     "text": [
      "430it [00:49,  8.73it/s]                                                                                               \n"
     ]
    },
    {
     "name": "stdout",
     "output_type": "stream",
     "text": [
      "Saving results in \\\\dk-server.dk.ucsd.edu\\afassihizakeri\\Topviewmovies\\ar35motor\\2021_11_02...\n",
      "Saving csv poses!\n",
      "Starting to analyze %  \\\\dk-server.dk.ucsd.edu\\afassihizakeri\\Topviewmovies\\ar35motor\\2021_11_02\\Mirror203videoR.avi\n",
      "\\\\dk-server.dk.ucsd.edu\\afassihizakeri\\Topviewmovies\\ar35motor\\2021_11_02  already exists!\n",
      "Loading  \\\\dk-server.dk.ucsd.edu\\afassihizakeri\\Topviewmovies\\ar35motor\\2021_11_02\\Mirror203videoR.avi\n",
      "Duration of video [s]:  12.5 , recorded with  40.0 fps!\n",
      "Overall # of frames:  500  found with (before cropping) frame dimensions:  314 700\n",
      "Starting to extract posture\n"
     ]
    },
    {
     "name": "stderr",
     "output_type": "stream",
     "text": [
      "510it [00:57,  8.84it/s]                                                                                               \n"
     ]
    },
    {
     "name": "stdout",
     "output_type": "stream",
     "text": [
      "Saving results in \\\\dk-server.dk.ucsd.edu\\afassihizakeri\\Topviewmovies\\ar35motor\\2021_11_02...\n",
      "Saving csv poses!\n",
      "Starting to analyze %  \\\\dk-server.dk.ucsd.edu\\afassihizakeri\\Topviewmovies\\ar35motor\\2021_11_02\\Mirror110videoR.avi\n",
      "\\\\dk-server.dk.ucsd.edu\\afassihizakeri\\Topviewmovies\\ar35motor\\2021_11_02  already exists!\n",
      "Loading  \\\\dk-server.dk.ucsd.edu\\afassihizakeri\\Topviewmovies\\ar35motor\\2021_11_02\\Mirror110videoR.avi\n",
      "Duration of video [s]:  11.0 , recorded with  40.0 fps!\n",
      "Overall # of frames:  440  found with (before cropping) frame dimensions:  314 700\n",
      "Starting to extract posture\n"
     ]
    },
    {
     "name": "stderr",
     "output_type": "stream",
     "text": [
      "450it [00:49,  9.00it/s]                                                                                               \n"
     ]
    },
    {
     "name": "stdout",
     "output_type": "stream",
     "text": [
      "Saving results in \\\\dk-server.dk.ucsd.edu\\afassihizakeri\\Topviewmovies\\ar35motor\\2021_11_02...\n",
      "Saving csv poses!\n",
      "Starting to analyze %  \\\\dk-server.dk.ucsd.edu\\afassihizakeri\\Topviewmovies\\ar35motor\\2021_11_02\\Mirror24videoR.avi\n",
      "\\\\dk-server.dk.ucsd.edu\\afassihizakeri\\Topviewmovies\\ar35motor\\2021_11_02  already exists!\n",
      "Loading  \\\\dk-server.dk.ucsd.edu\\afassihizakeri\\Topviewmovies\\ar35motor\\2021_11_02\\Mirror24videoR.avi\n",
      "Duration of video [s]:  12.5 , recorded with  40.0 fps!\n",
      "Overall # of frames:  500  found with (before cropping) frame dimensions:  314 700\n",
      "Starting to extract posture\n"
     ]
    },
    {
     "name": "stderr",
     "output_type": "stream",
     "text": [
      "510it [00:57,  8.88it/s]                                                                                               \n"
     ]
    },
    {
     "name": "stdout",
     "output_type": "stream",
     "text": [
      "Saving results in \\\\dk-server.dk.ucsd.edu\\afassihizakeri\\Topviewmovies\\ar35motor\\2021_11_02...\n",
      "Saving csv poses!\n",
      "Starting to analyze %  \\\\dk-server.dk.ucsd.edu\\afassihizakeri\\Topviewmovies\\ar35motor\\2021_11_02\\Mirror138videoR.avi\n",
      "\\\\dk-server.dk.ucsd.edu\\afassihizakeri\\Topviewmovies\\ar35motor\\2021_11_02  already exists!\n",
      "Loading  \\\\dk-server.dk.ucsd.edu\\afassihizakeri\\Topviewmovies\\ar35motor\\2021_11_02\\Mirror138videoR.avi\n",
      "Duration of video [s]:  12.12 , recorded with  40.0 fps!\n",
      "Overall # of frames:  485  found with (before cropping) frame dimensions:  314 700\n",
      "Starting to extract posture\n"
     ]
    },
    {
     "name": "stderr",
     "output_type": "stream",
     "text": [
      "490it [00:55,  8.82it/s]                                                                                               \n"
     ]
    },
    {
     "name": "stdout",
     "output_type": "stream",
     "text": [
      "Saving results in \\\\dk-server.dk.ucsd.edu\\afassihizakeri\\Topviewmovies\\ar35motor\\2021_11_02...\n",
      "Saving csv poses!\n",
      "Starting to analyze %  \\\\dk-server.dk.ucsd.edu\\afassihizakeri\\Topviewmovies\\ar35motor\\2021_11_02\\Mirror166videoR.avi\n",
      "\\\\dk-server.dk.ucsd.edu\\afassihizakeri\\Topviewmovies\\ar35motor\\2021_11_02  already exists!\n",
      "Loading  \\\\dk-server.dk.ucsd.edu\\afassihizakeri\\Topviewmovies\\ar35motor\\2021_11_02\\Mirror166videoR.avi\n",
      "Duration of video [s]:  12.25 , recorded with  40.0 fps!\n",
      "Overall # of frames:  490  found with (before cropping) frame dimensions:  314 700\n",
      "Starting to extract posture\n"
     ]
    },
    {
     "name": "stderr",
     "output_type": "stream",
     "text": [
      "500it [00:56,  8.83it/s]                                                                                               \n"
     ]
    },
    {
     "name": "stdout",
     "output_type": "stream",
     "text": [
      "Saving results in \\\\dk-server.dk.ucsd.edu\\afassihizakeri\\Topviewmovies\\ar35motor\\2021_11_02...\n",
      "Saving csv poses!\n",
      "Starting to analyze %  \\\\dk-server.dk.ucsd.edu\\afassihizakeri\\Topviewmovies\\ar35motor\\2021_11_02\\Mirror52videoR.avi\n",
      "\\\\dk-server.dk.ucsd.edu\\afassihizakeri\\Topviewmovies\\ar35motor\\2021_11_02  already exists!\n",
      "Loading  \\\\dk-server.dk.ucsd.edu\\afassihizakeri\\Topviewmovies\\ar35motor\\2021_11_02\\Mirror52videoR.avi\n",
      "Duration of video [s]:  10.3 , recorded with  40.0 fps!\n",
      "Overall # of frames:  412  found with (before cropping) frame dimensions:  314 700\n",
      "Starting to extract posture\n"
     ]
    },
    {
     "name": "stderr",
     "output_type": "stream",
     "text": [
      "420it [00:47,  8.85it/s]                                                                                               \n"
     ]
    },
    {
     "name": "stdout",
     "output_type": "stream",
     "text": [
      "Saving results in \\\\dk-server.dk.ucsd.edu\\afassihizakeri\\Topviewmovies\\ar35motor\\2021_11_02...\n",
      "Saving csv poses!\n",
      "Starting to analyze %  \\\\dk-server.dk.ucsd.edu\\afassihizakeri\\Topviewmovies\\ar35motor\\2021_11_02\\Mirror97videoR.avi\n",
      "\\\\dk-server.dk.ucsd.edu\\afassihizakeri\\Topviewmovies\\ar35motor\\2021_11_02  already exists!\n",
      "Loading  \\\\dk-server.dk.ucsd.edu\\afassihizakeri\\Topviewmovies\\ar35motor\\2021_11_02\\Mirror97videoR.avi\n",
      "Duration of video [s]:  9.1 , recorded with  40.0 fps!\n",
      "Overall # of frames:  364  found with (before cropping) frame dimensions:  314 700\n",
      "Starting to extract posture\n"
     ]
    },
    {
     "name": "stderr",
     "output_type": "stream",
     "text": [
      "370it [00:40,  9.09it/s]                                                                                               \n"
     ]
    },
    {
     "name": "stdout",
     "output_type": "stream",
     "text": [
      "Saving results in \\\\dk-server.dk.ucsd.edu\\afassihizakeri\\Topviewmovies\\ar35motor\\2021_11_02...\n",
      "Saving csv poses!\n",
      "Starting to analyze %  \\\\dk-server.dk.ucsd.edu\\afassihizakeri\\Topviewmovies\\ar35motor\\2021_11_02\\Mirror202videoR.avi\n",
      "\\\\dk-server.dk.ucsd.edu\\afassihizakeri\\Topviewmovies\\ar35motor\\2021_11_02  already exists!\n",
      "Loading  \\\\dk-server.dk.ucsd.edu\\afassihizakeri\\Topviewmovies\\ar35motor\\2021_11_02\\Mirror202videoR.avi\n",
      "Duration of video [s]:  12.5 , recorded with  40.0 fps!\n",
      "Overall # of frames:  500  found with (before cropping) frame dimensions:  314 700\n",
      "Starting to extract posture\n"
     ]
    },
    {
     "name": "stderr",
     "output_type": "stream",
     "text": [
      "510it [00:55,  9.14it/s]                                                                                               \n"
     ]
    },
    {
     "name": "stdout",
     "output_type": "stream",
     "text": [
      "Saving results in \\\\dk-server.dk.ucsd.edu\\afassihizakeri\\Topviewmovies\\ar35motor\\2021_11_02...\n",
      "Saving csv poses!\n",
      "Starting to analyze %  \\\\dk-server.dk.ucsd.edu\\afassihizakeri\\Topviewmovies\\ar35motor\\2021_11_02\\Mirror25videoR.avi\n",
      "\\\\dk-server.dk.ucsd.edu\\afassihizakeri\\Topviewmovies\\ar35motor\\2021_11_02  already exists!\n",
      "Loading  \\\\dk-server.dk.ucsd.edu\\afassihizakeri\\Topviewmovies\\ar35motor\\2021_11_02\\Mirror25videoR.avi\n",
      "Duration of video [s]:  9.5 , recorded with  40.0 fps!\n",
      "Overall # of frames:  380  found with (before cropping) frame dimensions:  314 700\n",
      "Starting to extract posture\n"
     ]
    },
    {
     "name": "stderr",
     "output_type": "stream",
     "text": [
      "390it [00:42,  9.25it/s]                                                                                               \n"
     ]
    },
    {
     "name": "stdout",
     "output_type": "stream",
     "text": [
      "Saving results in \\\\dk-server.dk.ucsd.edu\\afassihizakeri\\Topviewmovies\\ar35motor\\2021_11_02...\n",
      "Saving csv poses!\n",
      "Starting to analyze %  \\\\dk-server.dk.ucsd.edu\\afassihizakeri\\Topviewmovies\\ar35motor\\2021_11_02\\Mirror111videoR.avi\n",
      "\\\\dk-server.dk.ucsd.edu\\afassihizakeri\\Topviewmovies\\ar35motor\\2021_11_02  already exists!\n",
      "Loading  \\\\dk-server.dk.ucsd.edu\\afassihizakeri\\Topviewmovies\\ar35motor\\2021_11_02\\Mirror111videoR.avi\n",
      "Duration of video [s]:  12.47 , recorded with  40.0 fps!\n",
      "Overall # of frames:  499  found with (before cropping) frame dimensions:  314 700\n",
      "Starting to extract posture\n"
     ]
    },
    {
     "name": "stderr",
     "output_type": "stream",
     "text": [
      "500it [00:55,  8.94it/s]                                                                                               \n"
     ]
    },
    {
     "name": "stdout",
     "output_type": "stream",
     "text": [
      "Saving results in \\\\dk-server.dk.ucsd.edu\\afassihizakeri\\Topviewmovies\\ar35motor\\2021_11_02...\n",
      "Saving csv poses!\n",
      "Starting to analyze %  \\\\dk-server.dk.ucsd.edu\\afassihizakeri\\Topviewmovies\\ar35motor\\2021_11_02\\Mirror53videoR.avi\n",
      "\\\\dk-server.dk.ucsd.edu\\afassihizakeri\\Topviewmovies\\ar35motor\\2021_11_02  already exists!\n",
      "Loading  \\\\dk-server.dk.ucsd.edu\\afassihizakeri\\Topviewmovies\\ar35motor\\2021_11_02\\Mirror53videoR.avi\n",
      "Duration of video [s]:  12.5 , recorded with  40.0 fps!\n",
      "Overall # of frames:  500  found with (before cropping) frame dimensions:  314 700\n",
      "Starting to extract posture\n"
     ]
    },
    {
     "name": "stderr",
     "output_type": "stream",
     "text": [
      "510it [00:55,  9.17it/s]                                                                                               \n"
     ]
    },
    {
     "name": "stdout",
     "output_type": "stream",
     "text": [
      "Saving results in \\\\dk-server.dk.ucsd.edu\\afassihizakeri\\Topviewmovies\\ar35motor\\2021_11_02...\n",
      "Saving csv poses!\n",
      "Starting to analyze %  \\\\dk-server.dk.ucsd.edu\\afassihizakeri\\Topviewmovies\\ar35motor\\2021_11_02\\Mirror167videoR.avi\n",
      "\\\\dk-server.dk.ucsd.edu\\afassihizakeri\\Topviewmovies\\ar35motor\\2021_11_02  already exists!\n",
      "Loading  \\\\dk-server.dk.ucsd.edu\\afassihizakeri\\Topviewmovies\\ar35motor\\2021_11_02\\Mirror167videoR.avi\n",
      "Duration of video [s]:  12.5 , recorded with  40.0 fps!\n",
      "Overall # of frames:  500  found with (before cropping) frame dimensions:  314 700\n",
      "Starting to extract posture\n"
     ]
    },
    {
     "name": "stderr",
     "output_type": "stream",
     "text": [
      "510it [00:55,  9.11it/s]                                                                                               \n"
     ]
    },
    {
     "name": "stdout",
     "output_type": "stream",
     "text": [
      "Saving results in \\\\dk-server.dk.ucsd.edu\\afassihizakeri\\Topviewmovies\\ar35motor\\2021_11_02...\n",
      "Saving csv poses!\n",
      "Starting to analyze %  \\\\dk-server.dk.ucsd.edu\\afassihizakeri\\Topviewmovies\\ar35motor\\2021_11_02\\Mirror139videoR.avi\n",
      "\\\\dk-server.dk.ucsd.edu\\afassihizakeri\\Topviewmovies\\ar35motor\\2021_11_02  already exists!\n",
      "Loading  \\\\dk-server.dk.ucsd.edu\\afassihizakeri\\Topviewmovies\\ar35motor\\2021_11_02\\Mirror139videoR.avi\n",
      "Duration of video [s]:  11.45 , recorded with  40.0 fps!\n",
      "Overall # of frames:  458  found with (before cropping) frame dimensions:  314 700\n",
      "Starting to extract posture\n"
     ]
    },
    {
     "name": "stderr",
     "output_type": "stream",
     "text": [
      "460it [00:51,  8.94it/s]                                                                                               \n"
     ]
    },
    {
     "name": "stdout",
     "output_type": "stream",
     "text": [
      "Saving results in \\\\dk-server.dk.ucsd.edu\\afassihizakeri\\Topviewmovies\\ar35motor\\2021_11_02...\n",
      "Saving csv poses!\n",
      "Starting to analyze %  \\\\dk-server.dk.ucsd.edu\\afassihizakeri\\Topviewmovies\\ar35motor\\2021_11_02\\Mirror96videoR.avi\n",
      "\\\\dk-server.dk.ucsd.edu\\afassihizakeri\\Topviewmovies\\ar35motor\\2021_11_02  already exists!\n",
      "Loading  \\\\dk-server.dk.ucsd.edu\\afassihizakeri\\Topviewmovies\\ar35motor\\2021_11_02\\Mirror96videoR.avi\n",
      "Duration of video [s]:  11.0 , recorded with  40.0 fps!\n",
      "Overall # of frames:  440  found with (before cropping) frame dimensions:  314 700\n",
      "Starting to extract posture\n"
     ]
    },
    {
     "name": "stderr",
     "output_type": "stream",
     "text": [
      "450it [00:48,  9.23it/s]                                                                                               \n"
     ]
    },
    {
     "name": "stdout",
     "output_type": "stream",
     "text": [
      "Saving results in \\\\dk-server.dk.ucsd.edu\\afassihizakeri\\Topviewmovies\\ar35motor\\2021_11_02...\n",
      "Saving csv poses!\n",
      "Starting to analyze %  \\\\dk-server.dk.ucsd.edu\\afassihizakeri\\Topviewmovies\\ar35motor\\2021_11_02\\Mirror54videoR.avi\n",
      "\\\\dk-server.dk.ucsd.edu\\afassihizakeri\\Topviewmovies\\ar35motor\\2021_11_02  already exists!\n",
      "Loading  \\\\dk-server.dk.ucsd.edu\\afassihizakeri\\Topviewmovies\\ar35motor\\2021_11_02\\Mirror54videoR.avi\n",
      "Duration of video [s]:  8.78 , recorded with  40.0 fps!\n",
      "Overall # of frames:  351  found with (before cropping) frame dimensions:  314 700\n",
      "Starting to extract posture\n"
     ]
    },
    {
     "name": "stderr",
     "output_type": "stream",
     "text": [
      "360it [00:38,  9.28it/s]                                                                                               \n"
     ]
    },
    {
     "name": "stdout",
     "output_type": "stream",
     "text": [
      "Saving results in \\\\dk-server.dk.ucsd.edu\\afassihizakeri\\Topviewmovies\\ar35motor\\2021_11_02...\n",
      "Saving csv poses!\n",
      "Starting to analyze %  \\\\dk-server.dk.ucsd.edu\\afassihizakeri\\Topviewmovies\\ar35motor\\2021_11_02\\Mirror160videoR.avi\n",
      "\\\\dk-server.dk.ucsd.edu\\afassihizakeri\\Topviewmovies\\ar35motor\\2021_11_02  already exists!\n",
      "Loading  \\\\dk-server.dk.ucsd.edu\\afassihizakeri\\Topviewmovies\\ar35motor\\2021_11_02\\Mirror160videoR.avi\n",
      "Duration of video [s]:  12.5 , recorded with  40.0 fps!\n",
      "Overall # of frames:  500  found with (before cropping) frame dimensions:  314 700\n",
      "Starting to extract posture\n"
     ]
    },
    {
     "name": "stderr",
     "output_type": "stream",
     "text": [
      "510it [00:55,  9.13it/s]                                                                                               \n"
     ]
    },
    {
     "name": "stdout",
     "output_type": "stream",
     "text": [
      "Saving results in \\\\dk-server.dk.ucsd.edu\\afassihizakeri\\Topviewmovies\\ar35motor\\2021_11_02...\n",
      "Saving csv poses!\n",
      "Starting to analyze %  \\\\dk-server.dk.ucsd.edu\\afassihizakeri\\Topviewmovies\\ar35motor\\2021_11_02\\Mirror91videoR.avi\n",
      "\\\\dk-server.dk.ucsd.edu\\afassihizakeri\\Topviewmovies\\ar35motor\\2021_11_02  already exists!\n",
      "Loading  \\\\dk-server.dk.ucsd.edu\\afassihizakeri\\Topviewmovies\\ar35motor\\2021_11_02\\Mirror91videoR.avi\n",
      "Duration of video [s]:  8.07 , recorded with  40.0 fps!\n",
      "Overall # of frames:  323  found with (before cropping) frame dimensions:  314 700\n",
      "Starting to extract posture\n"
     ]
    },
    {
     "name": "stderr",
     "output_type": "stream",
     "text": [
      "330it [00:36,  9.07it/s]                                                                                               \n"
     ]
    },
    {
     "name": "stdout",
     "output_type": "stream",
     "text": [
      "Saving results in \\\\dk-server.dk.ucsd.edu\\afassihizakeri\\Topviewmovies\\ar35motor\\2021_11_02...\n",
      "Saving csv poses!\n",
      "Starting to analyze %  \\\\dk-server.dk.ucsd.edu\\afassihizakeri\\Topviewmovies\\ar35motor\\2021_11_02\\Mirror205videoR.avi\n",
      "\\\\dk-server.dk.ucsd.edu\\afassihizakeri\\Topviewmovies\\ar35motor\\2021_11_02  already exists!\n",
      "Loading  \\\\dk-server.dk.ucsd.edu\\afassihizakeri\\Topviewmovies\\ar35motor\\2021_11_02\\Mirror205videoR.avi\n",
      "Duration of video [s]:  12.18 , recorded with  40.0 fps!\n",
      "Overall # of frames:  487  found with (before cropping) frame dimensions:  314 700\n",
      "Starting to extract posture\n"
     ]
    },
    {
     "name": "stderr",
     "output_type": "stream",
     "text": [
      "490it [00:53,  9.13it/s]                                                                                               \n"
     ]
    },
    {
     "name": "stdout",
     "output_type": "stream",
     "text": [
      "Saving results in \\\\dk-server.dk.ucsd.edu\\afassihizakeri\\Topviewmovies\\ar35motor\\2021_11_02...\n",
      "Saving csv poses!\n",
      "Starting to analyze %  \\\\dk-server.dk.ucsd.edu\\afassihizakeri\\Topviewmovies\\ar35motor\\2021_11_02\\Mirror22videoR.avi\n",
      "\\\\dk-server.dk.ucsd.edu\\afassihizakeri\\Topviewmovies\\ar35motor\\2021_11_02  already exists!\n",
      "Loading  \\\\dk-server.dk.ucsd.edu\\afassihizakeri\\Topviewmovies\\ar35motor\\2021_11_02\\Mirror22videoR.avi\n",
      "Duration of video [s]:  9.25 , recorded with  40.0 fps!\n",
      "Overall # of frames:  370  found with (before cropping) frame dimensions:  314 700\n",
      "Starting to extract posture\n"
     ]
    },
    {
     "name": "stderr",
     "output_type": "stream",
     "text": [
      "380it [00:41,  9.18it/s]                                                                                               \n"
     ]
    },
    {
     "name": "stdout",
     "output_type": "stream",
     "text": [
      "Saving results in \\\\dk-server.dk.ucsd.edu\\afassihizakeri\\Topviewmovies\\ar35motor\\2021_11_02...\n",
      "Saving csv poses!\n",
      "Starting to analyze %  \\\\dk-server.dk.ucsd.edu\\afassihizakeri\\Topviewmovies\\ar35motor\\2021_11_02\\Mirror116videoR.avi\n",
      "\\\\dk-server.dk.ucsd.edu\\afassihizakeri\\Topviewmovies\\ar35motor\\2021_11_02  already exists!\n",
      "Loading  \\\\dk-server.dk.ucsd.edu\\afassihizakeri\\Topviewmovies\\ar35motor\\2021_11_02\\Mirror116videoR.avi\n",
      "Duration of video [s]:  12.43 , recorded with  40.0 fps!\n",
      "Overall # of frames:  497  found with (before cropping) frame dimensions:  314 700\n",
      "Starting to extract posture\n"
     ]
    },
    {
     "name": "stderr",
     "output_type": "stream",
     "text": [
      "500it [00:55,  8.97it/s]                                                                                               \n"
     ]
    },
    {
     "name": "stdout",
     "output_type": "stream",
     "text": [
      "Saving results in \\\\dk-server.dk.ucsd.edu\\afassihizakeri\\Topviewmovies\\ar35motor\\2021_11_02...\n",
      "Saving csv poses!\n",
      "Starting to analyze %  \\\\dk-server.dk.ucsd.edu\\afassihizakeri\\Topviewmovies\\ar35motor\\2021_11_02\\Mirror148videoR.avi\n",
      "\\\\dk-server.dk.ucsd.edu\\afassihizakeri\\Topviewmovies\\ar35motor\\2021_11_02  already exists!\n",
      "Loading  \\\\dk-server.dk.ucsd.edu\\afassihizakeri\\Topviewmovies\\ar35motor\\2021_11_02\\Mirror148videoR.avi\n",
      "Duration of video [s]:  11.53 , recorded with  40.0 fps!\n",
      "Overall # of frames:  461  found with (before cropping) frame dimensions:  314 700\n",
      "Starting to extract posture\n"
     ]
    },
    {
     "name": "stderr",
     "output_type": "stream",
     "text": [
      "470it [00:51,  9.17it/s]                                                                                               \n"
     ]
    },
    {
     "name": "stdout",
     "output_type": "stream",
     "text": [
      "Saving results in \\\\dk-server.dk.ucsd.edu\\afassihizakeri\\Topviewmovies\\ar35motor\\2021_11_02...\n",
      "Saving csv poses!\n",
      "Starting to analyze %  \\\\dk-server.dk.ucsd.edu\\afassihizakeri\\Topviewmovies\\ar35motor\\2021_11_02\\Mirror161videoR.avi\n",
      "\\\\dk-server.dk.ucsd.edu\\afassihizakeri\\Topviewmovies\\ar35motor\\2021_11_02  already exists!\n",
      "Loading  \\\\dk-server.dk.ucsd.edu\\afassihizakeri\\Topviewmovies\\ar35motor\\2021_11_02\\Mirror161videoR.avi\n",
      "Duration of video [s]:  10.32 , recorded with  40.0 fps!\n",
      "Overall # of frames:  413  found with (before cropping) frame dimensions:  314 700\n",
      "Starting to extract posture\n"
     ]
    },
    {
     "name": "stderr",
     "output_type": "stream",
     "text": [
      "420it [00:45,  9.14it/s]                                                                                               \n"
     ]
    },
    {
     "name": "stdout",
     "output_type": "stream",
     "text": [
      "Saving results in \\\\dk-server.dk.ucsd.edu\\afassihizakeri\\Topviewmovies\\ar35motor\\2021_11_02...\n",
      "Saving csv poses!\n",
      "Starting to analyze %  \\\\dk-server.dk.ucsd.edu\\afassihizakeri\\Topviewmovies\\ar35motor\\2021_11_02\\Mirror55videoR.avi\n",
      "\\\\dk-server.dk.ucsd.edu\\afassihizakeri\\Topviewmovies\\ar35motor\\2021_11_02  already exists!\n",
      "Loading  \\\\dk-server.dk.ucsd.edu\\afassihizakeri\\Topviewmovies\\ar35motor\\2021_11_02\\Mirror55videoR.avi\n",
      "Duration of video [s]:  10.78 , recorded with  40.0 fps!\n",
      "Overall # of frames:  431  found with (before cropping) frame dimensions:  314 700\n",
      "Starting to extract posture\n"
     ]
    },
    {
     "name": "stderr",
     "output_type": "stream",
     "text": [
      "440it [00:47,  9.20it/s]                                                                                               \n"
     ]
    },
    {
     "name": "stdout",
     "output_type": "stream",
     "text": [
      "Saving results in \\\\dk-server.dk.ucsd.edu\\afassihizakeri\\Topviewmovies\\ar35motor\\2021_11_02...\n",
      "Saving csv poses!\n",
      "Starting to analyze %  \\\\dk-server.dk.ucsd.edu\\afassihizakeri\\Topviewmovies\\ar35motor\\2021_11_02\\Mirror90videoR.avi\n",
      "\\\\dk-server.dk.ucsd.edu\\afassihizakeri\\Topviewmovies\\ar35motor\\2021_11_02  already exists!\n",
      "Loading  \\\\dk-server.dk.ucsd.edu\\afassihizakeri\\Topviewmovies\\ar35motor\\2021_11_02\\Mirror90videoR.avi\n",
      "Duration of video [s]:  10.7 , recorded with  40.0 fps!\n",
      "Overall # of frames:  428  found with (before cropping) frame dimensions:  314 700\n",
      "Starting to extract posture\n"
     ]
    },
    {
     "name": "stderr",
     "output_type": "stream",
     "text": [
      "430it [00:47,  8.98it/s]                                                                                               \n"
     ]
    },
    {
     "name": "stdout",
     "output_type": "stream",
     "text": [
      "Saving results in \\\\dk-server.dk.ucsd.edu\\afassihizakeri\\Topviewmovies\\ar35motor\\2021_11_02...\n",
      "Saving csv poses!\n",
      "Starting to analyze %  \\\\dk-server.dk.ucsd.edu\\afassihizakeri\\Topviewmovies\\ar35motor\\2021_11_02\\Mirror204videoR.avi\n",
      "\\\\dk-server.dk.ucsd.edu\\afassihizakeri\\Topviewmovies\\ar35motor\\2021_11_02  already exists!\n",
      "Loading  \\\\dk-server.dk.ucsd.edu\\afassihizakeri\\Topviewmovies\\ar35motor\\2021_11_02\\Mirror204videoR.avi\n",
      "Duration of video [s]:  10.62 , recorded with  40.0 fps!\n",
      "Overall # of frames:  425  found with (before cropping) frame dimensions:  314 700\n",
      "Starting to extract posture\n"
     ]
    },
    {
     "name": "stderr",
     "output_type": "stream",
     "text": [
      "430it [00:47,  8.97it/s]                                                                                               \n"
     ]
    },
    {
     "name": "stdout",
     "output_type": "stream",
     "text": [
      "Saving results in \\\\dk-server.dk.ucsd.edu\\afassihizakeri\\Topviewmovies\\ar35motor\\2021_11_02...\n",
      "Saving csv poses!\n",
      "Starting to analyze %  \\\\dk-server.dk.ucsd.edu\\afassihizakeri\\Topviewmovies\\ar35motor\\2021_11_02\\Mirror149videoR.avi\n",
      "\\\\dk-server.dk.ucsd.edu\\afassihizakeri\\Topviewmovies\\ar35motor\\2021_11_02  already exists!\n",
      "Loading  \\\\dk-server.dk.ucsd.edu\\afassihizakeri\\Topviewmovies\\ar35motor\\2021_11_02\\Mirror149videoR.avi\n",
      "Duration of video [s]:  10.75 , recorded with  40.0 fps!\n",
      "Overall # of frames:  430  found with (before cropping) frame dimensions:  314 700\n",
      "Starting to extract posture\n"
     ]
    },
    {
     "name": "stderr",
     "output_type": "stream",
     "text": [
      "440it [00:49,  8.98it/s]                                                                                               \n"
     ]
    },
    {
     "name": "stdout",
     "output_type": "stream",
     "text": [
      "Saving results in \\\\dk-server.dk.ucsd.edu\\afassihizakeri\\Topviewmovies\\ar35motor\\2021_11_02...\n",
      "Saving csv poses!\n",
      "Starting to analyze %  \\\\dk-server.dk.ucsd.edu\\afassihizakeri\\Topviewmovies\\ar35motor\\2021_11_02\\Mirror117videoR.avi\n",
      "\\\\dk-server.dk.ucsd.edu\\afassihizakeri\\Topviewmovies\\ar35motor\\2021_11_02  already exists!\n",
      "Loading  \\\\dk-server.dk.ucsd.edu\\afassihizakeri\\Topviewmovies\\ar35motor\\2021_11_02\\Mirror117videoR.avi\n",
      "Duration of video [s]:  12.5 , recorded with  40.0 fps!\n",
      "Overall # of frames:  500  found with (before cropping) frame dimensions:  314 700\n",
      "Starting to extract posture\n"
     ]
    },
    {
     "name": "stderr",
     "output_type": "stream",
     "text": [
      "510it [00:56,  9.09it/s]                                                                                               \n"
     ]
    },
    {
     "name": "stdout",
     "output_type": "stream",
     "text": [
      "Saving results in \\\\dk-server.dk.ucsd.edu\\afassihizakeri\\Topviewmovies\\ar35motor\\2021_11_02...\n",
      "Saving csv poses!\n",
      "Starting to analyze %  \\\\dk-server.dk.ucsd.edu\\afassihizakeri\\Topviewmovies\\ar35motor\\2021_11_02\\Mirror23videoR.avi\n",
      "\\\\dk-server.dk.ucsd.edu\\afassihizakeri\\Topviewmovies\\ar35motor\\2021_11_02  already exists!\n",
      "Loading  \\\\dk-server.dk.ucsd.edu\\afassihizakeri\\Topviewmovies\\ar35motor\\2021_11_02\\Mirror23videoR.avi\n",
      "Duration of video [s]:  12.5 , recorded with  40.0 fps!\n",
      "Overall # of frames:  500  found with (before cropping) frame dimensions:  314 700\n",
      "Starting to extract posture\n"
     ]
    },
    {
     "name": "stderr",
     "output_type": "stream",
     "text": [
      "510it [00:55,  9.15it/s]                                                                                               \n"
     ]
    },
    {
     "name": "stdout",
     "output_type": "stream",
     "text": [
      "Saving results in \\\\dk-server.dk.ucsd.edu\\afassihizakeri\\Topviewmovies\\ar35motor\\2021_11_02...\n",
      "Saving csv poses!\n",
      "Starting to analyze %  \\\\dk-server.dk.ucsd.edu\\afassihizakeri\\Topviewmovies\\ar35motor\\2021_11_02\\Mirror8videoR.avi\n",
      "\\\\dk-server.dk.ucsd.edu\\afassihizakeri\\Topviewmovies\\ar35motor\\2021_11_02  already exists!\n",
      "Loading  \\\\dk-server.dk.ucsd.edu\\afassihizakeri\\Topviewmovies\\ar35motor\\2021_11_02\\Mirror8videoR.avi\n",
      "Duration of video [s]:  6.65 , recorded with  40.0 fps!\n",
      "Overall # of frames:  266  found with (before cropping) frame dimensions:  314 700\n",
      "Starting to extract posture\n"
     ]
    },
    {
     "name": "stderr",
     "output_type": "stream",
     "text": [
      "270it [00:30,  8.87it/s]                                                                                               \n"
     ]
    },
    {
     "name": "stdout",
     "output_type": "stream",
     "text": [
      "Saving results in \\\\dk-server.dk.ucsd.edu\\afassihizakeri\\Topviewmovies\\ar35motor\\2021_11_02...\n",
      "Saving csv poses!\n",
      "Starting to analyze %  \\\\dk-server.dk.ucsd.edu\\afassihizakeri\\Topviewmovies\\ar35motor\\2021_11_02\\Mirror93videoR.avi\n",
      "\\\\dk-server.dk.ucsd.edu\\afassihizakeri\\Topviewmovies\\ar35motor\\2021_11_02  already exists!\n",
      "Loading  \\\\dk-server.dk.ucsd.edu\\afassihizakeri\\Topviewmovies\\ar35motor\\2021_11_02\\Mirror93videoR.avi\n",
      "Duration of video [s]:  12.5 , recorded with  40.0 fps!\n",
      "Overall # of frames:  500  found with (before cropping) frame dimensions:  314 700\n",
      "Starting to extract posture\n"
     ]
    },
    {
     "name": "stderr",
     "output_type": "stream",
     "text": [
      "510it [00:55,  9.19it/s]                                                                                               \n"
     ]
    },
    {
     "name": "stdout",
     "output_type": "stream",
     "text": [
      "Saving results in \\\\dk-server.dk.ucsd.edu\\afassihizakeri\\Topviewmovies\\ar35motor\\2021_11_02...\n",
      "Saving csv poses!\n",
      "Starting to analyze %  \\\\dk-server.dk.ucsd.edu\\afassihizakeri\\Topviewmovies\\ar35motor\\2021_11_02\\Mirror56videoR.avi\n",
      "\\\\dk-server.dk.ucsd.edu\\afassihizakeri\\Topviewmovies\\ar35motor\\2021_11_02  already exists!\n",
      "Loading  \\\\dk-server.dk.ucsd.edu\\afassihizakeri\\Topviewmovies\\ar35motor\\2021_11_02\\Mirror56videoR.avi\n",
      "Duration of video [s]:  12.5 , recorded with  40.0 fps!\n",
      "Overall # of frames:  500  found with (before cropping) frame dimensions:  314 700\n",
      "Starting to extract posture\n"
     ]
    },
    {
     "name": "stderr",
     "output_type": "stream",
     "text": [
      "510it [00:56,  9.09it/s]                                                                                               \n"
     ]
    },
    {
     "name": "stdout",
     "output_type": "stream",
     "text": [
      "Saving results in \\\\dk-server.dk.ucsd.edu\\afassihizakeri\\Topviewmovies\\ar35motor\\2021_11_02...\n",
      "Saving csv poses!\n",
      "Starting to analyze %  \\\\dk-server.dk.ucsd.edu\\afassihizakeri\\Topviewmovies\\ar35motor\\2021_11_02\\Mirror162videoR.avi\n",
      "\\\\dk-server.dk.ucsd.edu\\afassihizakeri\\Topviewmovies\\ar35motor\\2021_11_02  already exists!\n",
      "Loading  \\\\dk-server.dk.ucsd.edu\\afassihizakeri\\Topviewmovies\\ar35motor\\2021_11_02\\Mirror162videoR.avi\n",
      "Duration of video [s]:  11.05 , recorded with  40.0 fps!\n",
      "Overall # of frames:  442  found with (before cropping) frame dimensions:  314 700\n",
      "Starting to extract posture\n"
     ]
    },
    {
     "name": "stderr",
     "output_type": "stream",
     "text": [
      "450it [00:49,  9.03it/s]                                                                                               \n"
     ]
    },
    {
     "name": "stdout",
     "output_type": "stream",
     "text": [
      "Saving results in \\\\dk-server.dk.ucsd.edu\\afassihizakeri\\Topviewmovies\\ar35motor\\2021_11_02...\n",
      "Saving csv poses!\n",
      "Starting to analyze %  \\\\dk-server.dk.ucsd.edu\\afassihizakeri\\Topviewmovies\\ar35motor\\2021_11_02\\Mirror20videoR.avi\n",
      "\\\\dk-server.dk.ucsd.edu\\afassihizakeri\\Topviewmovies\\ar35motor\\2021_11_02  already exists!\n",
      "Loading  \\\\dk-server.dk.ucsd.edu\\afassihizakeri\\Topviewmovies\\ar35motor\\2021_11_02\\Mirror20videoR.avi\n",
      "Duration of video [s]:  11.2 , recorded with  40.0 fps!\n",
      "Overall # of frames:  448  found with (before cropping) frame dimensions:  314 700\n",
      "Starting to extract posture\n"
     ]
    },
    {
     "name": "stderr",
     "output_type": "stream",
     "text": [
      "450it [00:50,  9.00it/s]                                                                                               \n"
     ]
    },
    {
     "name": "stdout",
     "output_type": "stream",
     "text": [
      "Saving results in \\\\dk-server.dk.ucsd.edu\\afassihizakeri\\Topviewmovies\\ar35motor\\2021_11_02...\n",
      "Saving csv poses!\n",
      "Starting to analyze %  \\\\dk-server.dk.ucsd.edu\\afassihizakeri\\Topviewmovies\\ar35motor\\2021_11_02\\Mirror114videoR.avi\n",
      "\\\\dk-server.dk.ucsd.edu\\afassihizakeri\\Topviewmovies\\ar35motor\\2021_11_02  already exists!\n",
      "Loading  \\\\dk-server.dk.ucsd.edu\\afassihizakeri\\Topviewmovies\\ar35motor\\2021_11_02\\Mirror114videoR.avi\n",
      "Duration of video [s]:  11.8 , recorded with  40.0 fps!\n",
      "Overall # of frames:  472  found with (before cropping) frame dimensions:  314 700\n",
      "Starting to extract posture\n"
     ]
    },
    {
     "name": "stderr",
     "output_type": "stream",
     "text": [
      "480it [00:52,  9.14it/s]                                                                                               \n"
     ]
    },
    {
     "name": "stdout",
     "output_type": "stream",
     "text": [
      "Saving results in \\\\dk-server.dk.ucsd.edu\\afassihizakeri\\Topviewmovies\\ar35motor\\2021_11_02...\n",
      "Saving csv poses!\n",
      "Starting to analyze %  \\\\dk-server.dk.ucsd.edu\\afassihizakeri\\Topviewmovies\\ar35motor\\2021_11_02\\Mirror207videoR.avi\n",
      "\\\\dk-server.dk.ucsd.edu\\afassihizakeri\\Topviewmovies\\ar35motor\\2021_11_02  already exists!\n",
      "Loading  \\\\dk-server.dk.ucsd.edu\\afassihizakeri\\Topviewmovies\\ar35motor\\2021_11_02\\Mirror207videoR.avi\n",
      "Duration of video [s]:  10.9 , recorded with  40.0 fps!\n",
      "Overall # of frames:  436  found with (before cropping) frame dimensions:  314 700\n",
      "Starting to extract posture\n"
     ]
    },
    {
     "name": "stderr",
     "output_type": "stream",
     "text": [
      "440it [00:48,  9.00it/s]                                                                                               \n"
     ]
    },
    {
     "name": "stdout",
     "output_type": "stream",
     "text": [
      "Saving results in \\\\dk-server.dk.ucsd.edu\\afassihizakeri\\Topviewmovies\\ar35motor\\2021_11_02...\n",
      "Saving csv poses!\n",
      "Starting to analyze %  \\\\dk-server.dk.ucsd.edu\\afassihizakeri\\Topviewmovies\\ar35motor\\2021_11_02\\Mirror92videoR.avi\n",
      "\\\\dk-server.dk.ucsd.edu\\afassihizakeri\\Topviewmovies\\ar35motor\\2021_11_02  already exists!\n",
      "Loading  \\\\dk-server.dk.ucsd.edu\\afassihizakeri\\Topviewmovies\\ar35motor\\2021_11_02\\Mirror92videoR.avi\n",
      "Duration of video [s]:  4.55 , recorded with  40.0 fps!\n",
      "Overall # of frames:  182  found with (before cropping) frame dimensions:  314 700\n",
      "Starting to extract posture\n"
     ]
    },
    {
     "name": "stderr",
     "output_type": "stream",
     "text": [
      "190it [00:20,  9.33it/s]                                                                                               \n"
     ]
    },
    {
     "name": "stdout",
     "output_type": "stream",
     "text": [
      "Saving results in \\\\dk-server.dk.ucsd.edu\\afassihizakeri\\Topviewmovies\\ar35motor\\2021_11_02...\n",
      "Saving csv poses!\n",
      "Starting to analyze %  \\\\dk-server.dk.ucsd.edu\\afassihizakeri\\Topviewmovies\\ar35motor\\2021_11_02\\Mirror9videoR.avi\n",
      "\\\\dk-server.dk.ucsd.edu\\afassihizakeri\\Topviewmovies\\ar35motor\\2021_11_02  already exists!\n",
      "Loading  \\\\dk-server.dk.ucsd.edu\\afassihizakeri\\Topviewmovies\\ar35motor\\2021_11_02\\Mirror9videoR.avi\n",
      "Duration of video [s]:  10.62 , recorded with  40.0 fps!\n",
      "Overall # of frames:  425  found with (before cropping) frame dimensions:  314 700\n",
      "Starting to extract posture\n"
     ]
    },
    {
     "name": "stderr",
     "output_type": "stream",
     "text": [
      "430it [00:47,  8.99it/s]                                                                                               \n"
     ]
    },
    {
     "name": "stdout",
     "output_type": "stream",
     "text": [
      "Saving results in \\\\dk-server.dk.ucsd.edu\\afassihizakeri\\Topviewmovies\\ar35motor\\2021_11_02...\n",
      "Saving csv poses!\n",
      "Starting to analyze %  \\\\dk-server.dk.ucsd.edu\\afassihizakeri\\Topviewmovies\\ar35motor\\2021_11_02\\Mirror163videoR.avi\n",
      "\\\\dk-server.dk.ucsd.edu\\afassihizakeri\\Topviewmovies\\ar35motor\\2021_11_02  already exists!\n",
      "Loading  \\\\dk-server.dk.ucsd.edu\\afassihizakeri\\Topviewmovies\\ar35motor\\2021_11_02\\Mirror163videoR.avi\n",
      "Duration of video [s]:  12.5 , recorded with  40.0 fps!\n",
      "Overall # of frames:  500  found with (before cropping) frame dimensions:  314 700\n",
      "Starting to extract posture\n"
     ]
    },
    {
     "name": "stderr",
     "output_type": "stream",
     "text": [
      "510it [00:55,  9.20it/s]                                                                                               \n"
     ]
    },
    {
     "name": "stdout",
     "output_type": "stream",
     "text": [
      "Saving results in \\\\dk-server.dk.ucsd.edu\\afassihizakeri\\Topviewmovies\\ar35motor\\2021_11_02...\n",
      "Saving csv poses!\n",
      "Starting to analyze %  \\\\dk-server.dk.ucsd.edu\\afassihizakeri\\Topviewmovies\\ar35motor\\2021_11_02\\Mirror57videoR.avi\n",
      "\\\\dk-server.dk.ucsd.edu\\afassihizakeri\\Topviewmovies\\ar35motor\\2021_11_02  already exists!\n",
      "Loading  \\\\dk-server.dk.ucsd.edu\\afassihizakeri\\Topviewmovies\\ar35motor\\2021_11_02\\Mirror57videoR.avi\n",
      "Duration of video [s]:  12.22 , recorded with  40.0 fps!\n",
      "Overall # of frames:  489  found with (before cropping) frame dimensions:  314 700\n",
      "Starting to extract posture\n"
     ]
    },
    {
     "name": "stderr",
     "output_type": "stream",
     "text": [
      "490it [00:54,  8.98it/s]                                                                                               \n"
     ]
    },
    {
     "name": "stdout",
     "output_type": "stream",
     "text": [
      "Saving results in \\\\dk-server.dk.ucsd.edu\\afassihizakeri\\Topviewmovies\\ar35motor\\2021_11_02...\n",
      "Saving csv poses!\n",
      "Starting to analyze %  \\\\dk-server.dk.ucsd.edu\\afassihizakeri\\Topviewmovies\\ar35motor\\2021_11_02\\Mirror115videoR.avi\n",
      "\\\\dk-server.dk.ucsd.edu\\afassihizakeri\\Topviewmovies\\ar35motor\\2021_11_02  already exists!\n",
      "Loading  \\\\dk-server.dk.ucsd.edu\\afassihizakeri\\Topviewmovies\\ar35motor\\2021_11_02\\Mirror115videoR.avi\n",
      "Duration of video [s]:  12.5 , recorded with  40.0 fps!\n",
      "Overall # of frames:  500  found with (before cropping) frame dimensions:  314 700\n",
      "Starting to extract posture\n"
     ]
    },
    {
     "name": "stderr",
     "output_type": "stream",
     "text": [
      "510it [00:55,  9.17it/s]                                                                                               \n"
     ]
    },
    {
     "name": "stdout",
     "output_type": "stream",
     "text": [
      "Saving results in \\\\dk-server.dk.ucsd.edu\\afassihizakeri\\Topviewmovies\\ar35motor\\2021_11_02...\n",
      "Saving csv poses!\n",
      "Starting to analyze %  \\\\dk-server.dk.ucsd.edu\\afassihizakeri\\Topviewmovies\\ar35motor\\2021_11_02\\Mirror21videoR.avi\n",
      "\\\\dk-server.dk.ucsd.edu\\afassihizakeri\\Topviewmovies\\ar35motor\\2021_11_02  already exists!\n",
      "Loading  \\\\dk-server.dk.ucsd.edu\\afassihizakeri\\Topviewmovies\\ar35motor\\2021_11_02\\Mirror21videoR.avi\n",
      "Duration of video [s]:  10.57 , recorded with  40.0 fps!\n",
      "Overall # of frames:  423  found with (before cropping) frame dimensions:  314 700\n",
      "Starting to extract posture\n"
     ]
    },
    {
     "name": "stderr",
     "output_type": "stream",
     "text": [
      "430it [00:46,  9.16it/s]                                                                                               \n"
     ]
    },
    {
     "name": "stdout",
     "output_type": "stream",
     "text": [
      "Saving results in \\\\dk-server.dk.ucsd.edu\\afassihizakeri\\Topviewmovies\\ar35motor\\2021_11_02...\n",
      "Saving csv poses!\n",
      "Starting to analyze %  \\\\dk-server.dk.ucsd.edu\\afassihizakeri\\Topviewmovies\\ar35motor\\2021_11_02\\Mirror206videoR.avi\n",
      "\\\\dk-server.dk.ucsd.edu\\afassihizakeri\\Topviewmovies\\ar35motor\\2021_11_02  already exists!\n",
      "Loading  \\\\dk-server.dk.ucsd.edu\\afassihizakeri\\Topviewmovies\\ar35motor\\2021_11_02\\Mirror206videoR.avi\n",
      "Duration of video [s]:  10.97 , recorded with  40.0 fps!\n",
      "Overall # of frames:  439  found with (before cropping) frame dimensions:  314 700\n",
      "Starting to extract posture\n"
     ]
    },
    {
     "name": "stderr",
     "output_type": "stream",
     "text": [
      "440it [00:49,  8.97it/s]                                                                                               \n"
     ]
    },
    {
     "name": "stdout",
     "output_type": "stream",
     "text": [
      "Saving results in \\\\dk-server.dk.ucsd.edu\\afassihizakeri\\Topviewmovies\\ar35motor\\2021_11_02...\n",
      "Saving csv poses!\n",
      "Starting to analyze %  \\\\dk-server.dk.ucsd.edu\\afassihizakeri\\Topviewmovies\\ar35motor\\2021_11_02\\Mirror7videoR.avi\n",
      "\\\\dk-server.dk.ucsd.edu\\afassihizakeri\\Topviewmovies\\ar35motor\\2021_11_02  already exists!\n",
      "Loading  \\\\dk-server.dk.ucsd.edu\\afassihizakeri\\Topviewmovies\\ar35motor\\2021_11_02\\Mirror7videoR.avi\n",
      "Duration of video [s]:  11.6 , recorded with  40.0 fps!\n",
      "Overall # of frames:  464  found with (before cropping) frame dimensions:  314 700\n",
      "Starting to extract posture\n"
     ]
    },
    {
     "name": "stderr",
     "output_type": "stream",
     "text": [
      "470it [00:51,  9.07it/s]                                                                                               \n"
     ]
    },
    {
     "name": "stdout",
     "output_type": "stream",
     "text": [
      "Saving results in \\\\dk-server.dk.ucsd.edu\\afassihizakeri\\Topviewmovies\\ar35motor\\2021_11_02...\n",
      "Saving csv poses!\n",
      "Starting to analyze %  \\\\dk-server.dk.ucsd.edu\\afassihizakeri\\Topviewmovies\\ar35motor\\2021_11_02\\Mirror59videoR.avi\n",
      "\\\\dk-server.dk.ucsd.edu\\afassihizakeri\\Topviewmovies\\ar35motor\\2021_11_02  already exists!\n",
      "Loading  \\\\dk-server.dk.ucsd.edu\\afassihizakeri\\Topviewmovies\\ar35motor\\2021_11_02\\Mirror59videoR.avi\n",
      "Duration of video [s]:  9.75 , recorded with  40.0 fps!\n",
      "Overall # of frames:  390  found with (before cropping) frame dimensions:  314 700\n",
      "Starting to extract posture\n"
     ]
    },
    {
     "name": "stderr",
     "output_type": "stream",
     "text": [
      "400it [00:43,  9.27it/s]                                                                                               \n"
     ]
    },
    {
     "name": "stdout",
     "output_type": "stream",
     "text": [
      "Saving results in \\\\dk-server.dk.ucsd.edu\\afassihizakeri\\Topviewmovies\\ar35motor\\2021_11_02...\n",
      "Saving csv poses!\n",
      "Starting to analyze %  \\\\dk-server.dk.ucsd.edu\\afassihizakeri\\Topviewmovies\\ar35motor\\2021_11_02\\Mirror133videoR.avi\n",
      "\\\\dk-server.dk.ucsd.edu\\afassihizakeri\\Topviewmovies\\ar35motor\\2021_11_02  already exists!\n",
      "Loading  \\\\dk-server.dk.ucsd.edu\\afassihizakeri\\Topviewmovies\\ar35motor\\2021_11_02\\Mirror133videoR.avi\n",
      "Duration of video [s]:  10.97 , recorded with  40.0 fps!\n",
      "Overall # of frames:  439  found with (before cropping) frame dimensions:  314 700\n",
      "Starting to extract posture\n"
     ]
    },
    {
     "name": "stderr",
     "output_type": "stream",
     "text": [
      "440it [00:48,  9.01it/s]                                                                                               \n"
     ]
    },
    {
     "name": "stdout",
     "output_type": "stream",
     "text": [
      "Saving results in \\\\dk-server.dk.ucsd.edu\\afassihizakeri\\Topviewmovies\\ar35motor\\2021_11_02...\n",
      "Saving csv poses!\n",
      "Starting to analyze %  \\\\dk-server.dk.ucsd.edu\\afassihizakeri\\Topviewmovies\\ar35motor\\2021_11_02\\Mirror145videoR.avi\n",
      "\\\\dk-server.dk.ucsd.edu\\afassihizakeri\\Topviewmovies\\ar35motor\\2021_11_02  already exists!\n",
      "Loading  \\\\dk-server.dk.ucsd.edu\\afassihizakeri\\Topviewmovies\\ar35motor\\2021_11_02\\Mirror145videoR.avi\n",
      "Duration of video [s]:  12.5 , recorded with  40.0 fps!\n",
      "Overall # of frames:  500  found with (before cropping) frame dimensions:  314 700\n",
      "Starting to extract posture\n"
     ]
    },
    {
     "name": "stderr",
     "output_type": "stream",
     "text": [
      "510it [00:55,  9.13it/s]                                                                                               \n"
     ]
    },
    {
     "name": "stdout",
     "output_type": "stream",
     "text": [
      "Saving results in \\\\dk-server.dk.ucsd.edu\\afassihizakeri\\Topviewmovies\\ar35motor\\2021_11_02...\n",
      "Saving csv poses!\n",
      "Starting to analyze %  \\\\dk-server.dk.ucsd.edu\\afassihizakeri\\Topviewmovies\\ar35motor\\2021_11_02\\Mirror71videoR.avi\n",
      "\\\\dk-server.dk.ucsd.edu\\afassihizakeri\\Topviewmovies\\ar35motor\\2021_11_02  already exists!\n",
      "Loading  \\\\dk-server.dk.ucsd.edu\\afassihizakeri\\Topviewmovies\\ar35motor\\2021_11_02\\Mirror71videoR.avi\n",
      "Duration of video [s]:  12.5 , recorded with  40.0 fps!\n",
      "Overall # of frames:  500  found with (before cropping) frame dimensions:  314 700\n",
      "Starting to extract posture\n"
     ]
    },
    {
     "name": "stderr",
     "output_type": "stream",
     "text": [
      "510it [00:55,  9.14it/s]                                                                                               \n"
     ]
    },
    {
     "name": "stdout",
     "output_type": "stream",
     "text": [
      "Saving results in \\\\dk-server.dk.ucsd.edu\\afassihizakeri\\Topviewmovies\\ar35motor\\2021_11_02...\n",
      "Saving csv poses!\n",
      "Starting to analyze %  \\\\dk-server.dk.ucsd.edu\\afassihizakeri\\Topviewmovies\\ar35motor\\2021_11_02\\Mirror208videoR.avi\n",
      "\\\\dk-server.dk.ucsd.edu\\afassihizakeri\\Topviewmovies\\ar35motor\\2021_11_02  already exists!\n",
      "Loading  \\\\dk-server.dk.ucsd.edu\\afassihizakeri\\Topviewmovies\\ar35motor\\2021_11_02\\Mirror208videoR.avi\n",
      "Duration of video [s]:  10.47 , recorded with  40.0 fps!\n",
      "Overall # of frames:  419  found with (before cropping) frame dimensions:  314 700\n",
      "Starting to extract posture\n"
     ]
    },
    {
     "name": "stderr",
     "output_type": "stream",
     "text": [
      "420it [00:46,  8.99it/s]                                                                                               \n"
     ]
    },
    {
     "name": "stdout",
     "output_type": "stream",
     "text": [
      "Saving results in \\\\dk-server.dk.ucsd.edu\\afassihizakeri\\Topviewmovies\\ar35motor\\2021_11_02...\n",
      "Saving csv poses!\n",
      "Starting to analyze %  \\\\dk-server.dk.ucsd.edu\\afassihizakeri\\Topviewmovies\\ar35motor\\2021_11_02\\Mirror180videoR.avi\n",
      "\\\\dk-server.dk.ucsd.edu\\afassihizakeri\\Topviewmovies\\ar35motor\\2021_11_02  already exists!\n",
      "Loading  \\\\dk-server.dk.ucsd.edu\\afassihizakeri\\Topviewmovies\\ar35motor\\2021_11_02\\Mirror180videoR.avi\n",
      "Duration of video [s]:  11.85 , recorded with  40.0 fps!\n",
      "Overall # of frames:  474  found with (before cropping) frame dimensions:  314 700\n",
      "Starting to extract posture\n"
     ]
    },
    {
     "name": "stderr",
     "output_type": "stream",
     "text": [
      "480it [00:53,  9.05it/s]                                                                                               \n"
     ]
    },
    {
     "name": "stdout",
     "output_type": "stream",
     "text": [
      "Saving results in \\\\dk-server.dk.ucsd.edu\\afassihizakeri\\Topviewmovies\\ar35motor\\2021_11_02...\n",
      "Saving csv poses!\n",
      "Starting to analyze %  \\\\dk-server.dk.ucsd.edu\\afassihizakeri\\Topviewmovies\\ar35motor\\2021_11_02\\Mirror6videoR.avi\n",
      "\\\\dk-server.dk.ucsd.edu\\afassihizakeri\\Topviewmovies\\ar35motor\\2021_11_02  already exists!\n",
      "Loading  \\\\dk-server.dk.ucsd.edu\\afassihizakeri\\Topviewmovies\\ar35motor\\2021_11_02\\Mirror6videoR.avi\n",
      "Duration of video [s]:  4.4 , recorded with  40.0 fps!\n",
      "Overall # of frames:  176  found with (before cropping) frame dimensions:  314 700\n",
      "Starting to extract posture\n"
     ]
    },
    {
     "name": "stderr",
     "output_type": "stream",
     "text": [
      "180it [00:19,  9.18it/s]                                                                                               \n"
     ]
    },
    {
     "name": "stdout",
     "output_type": "stream",
     "text": [
      "Saving results in \\\\dk-server.dk.ucsd.edu\\afassihizakeri\\Topviewmovies\\ar35motor\\2021_11_02...\n",
      "Saving csv poses!\n",
      "Starting to analyze %  \\\\dk-server.dk.ucsd.edu\\afassihizakeri\\Topviewmovies\\ar35motor\\2021_11_02\\Mirror132videoR.avi\n",
      "\\\\dk-server.dk.ucsd.edu\\afassihizakeri\\Topviewmovies\\ar35motor\\2021_11_02  already exists!\n",
      "Loading  \\\\dk-server.dk.ucsd.edu\\afassihizakeri\\Topviewmovies\\ar35motor\\2021_11_02\\Mirror132videoR.avi\n",
      "Duration of video [s]:  11.2 , recorded with  40.0 fps!\n",
      "Overall # of frames:  448  found with (before cropping) frame dimensions:  314 700\n",
      "Starting to extract posture\n"
     ]
    },
    {
     "name": "stderr",
     "output_type": "stream",
     "text": [
      "450it [00:50,  8.99it/s]                                                                                               \n"
     ]
    },
    {
     "name": "stdout",
     "output_type": "stream",
     "text": [
      "Saving results in \\\\dk-server.dk.ucsd.edu\\afassihizakeri\\Topviewmovies\\ar35motor\\2021_11_02...\n",
      "Saving csv poses!\n",
      "Starting to analyze %  \\\\dk-server.dk.ucsd.edu\\afassihizakeri\\Topviewmovies\\ar35motor\\2021_11_02\\Mirror58videoR.avi\n",
      "\\\\dk-server.dk.ucsd.edu\\afassihizakeri\\Topviewmovies\\ar35motor\\2021_11_02  already exists!\n",
      "Loading  \\\\dk-server.dk.ucsd.edu\\afassihizakeri\\Topviewmovies\\ar35motor\\2021_11_02\\Mirror58videoR.avi\n",
      "Duration of video [s]:  12.5 , recorded with  40.0 fps!\n",
      "Overall # of frames:  500  found with (before cropping) frame dimensions:  314 700\n",
      "Starting to extract posture\n"
     ]
    },
    {
     "name": "stderr",
     "output_type": "stream",
     "text": [
      "510it [00:55,  9.14it/s]                                                                                               \n"
     ]
    },
    {
     "name": "stdout",
     "output_type": "stream",
     "text": [
      "Saving results in \\\\dk-server.dk.ucsd.edu\\afassihizakeri\\Topviewmovies\\ar35motor\\2021_11_02...\n",
      "Saving csv poses!\n",
      "Starting to analyze %  \\\\dk-server.dk.ucsd.edu\\afassihizakeri\\Topviewmovies\\ar35motor\\2021_11_02\\Mirror70videoR.avi\n",
      "\\\\dk-server.dk.ucsd.edu\\afassihizakeri\\Topviewmovies\\ar35motor\\2021_11_02  already exists!\n",
      "Loading  \\\\dk-server.dk.ucsd.edu\\afassihizakeri\\Topviewmovies\\ar35motor\\2021_11_02\\Mirror70videoR.avi\n",
      "Duration of video [s]:  12.5 , recorded with  40.0 fps!\n",
      "Overall # of frames:  500  found with (before cropping) frame dimensions:  314 700\n",
      "Starting to extract posture\n"
     ]
    },
    {
     "name": "stderr",
     "output_type": "stream",
     "text": [
      "510it [00:56,  9.07it/s]                                                                                               \n"
     ]
    },
    {
     "name": "stdout",
     "output_type": "stream",
     "text": [
      "Saving results in \\\\dk-server.dk.ucsd.edu\\afassihizakeri\\Topviewmovies\\ar35motor\\2021_11_02...\n",
      "Saving csv poses!\n",
      "Starting to analyze %  \\\\dk-server.dk.ucsd.edu\\afassihizakeri\\Topviewmovies\\ar35motor\\2021_11_02\\Mirror144videoR.avi\n",
      "\\\\dk-server.dk.ucsd.edu\\afassihizakeri\\Topviewmovies\\ar35motor\\2021_11_02  already exists!\n",
      "Loading  \\\\dk-server.dk.ucsd.edu\\afassihizakeri\\Topviewmovies\\ar35motor\\2021_11_02\\Mirror144videoR.avi\n",
      "Duration of video [s]:  12.5 , recorded with  40.0 fps!\n",
      "Overall # of frames:  500  found with (before cropping) frame dimensions:  314 700\n",
      "Starting to extract posture\n"
     ]
    },
    {
     "name": "stderr",
     "output_type": "stream",
     "text": [
      "510it [00:55,  9.11it/s]                                                                                               \n"
     ]
    },
    {
     "name": "stdout",
     "output_type": "stream",
     "text": [
      "Saving results in \\\\dk-server.dk.ucsd.edu\\afassihizakeri\\Topviewmovies\\ar35motor\\2021_11_02...\n",
      "Saving csv poses!\n",
      "Starting to analyze %  \\\\dk-server.dk.ucsd.edu\\afassihizakeri\\Topviewmovies\\ar35motor\\2021_11_02\\Mirror181videoR.avi\n",
      "\\\\dk-server.dk.ucsd.edu\\afassihizakeri\\Topviewmovies\\ar35motor\\2021_11_02  already exists!\n",
      "Loading  \\\\dk-server.dk.ucsd.edu\\afassihizakeri\\Topviewmovies\\ar35motor\\2021_11_02\\Mirror181videoR.avi\n",
      "Duration of video [s]:  11.35 , recorded with  40.0 fps!\n",
      "Overall # of frames:  454  found with (before cropping) frame dimensions:  314 700\n",
      "Starting to extract posture\n"
     ]
    },
    {
     "name": "stderr",
     "output_type": "stream",
     "text": [
      "460it [00:50,  9.11it/s]                                                                                               \n"
     ]
    },
    {
     "name": "stdout",
     "output_type": "stream",
     "text": [
      "Saving results in \\\\dk-server.dk.ucsd.edu\\afassihizakeri\\Topviewmovies\\ar35motor\\2021_11_02...\n",
      "Saving csv poses!\n",
      "Starting to analyze %  \\\\dk-server.dk.ucsd.edu\\afassihizakeri\\Topviewmovies\\ar35motor\\2021_11_02\\Mirror209videoR.avi\n",
      "\\\\dk-server.dk.ucsd.edu\\afassihizakeri\\Topviewmovies\\ar35motor\\2021_11_02  already exists!\n",
      "Loading  \\\\dk-server.dk.ucsd.edu\\afassihizakeri\\Topviewmovies\\ar35motor\\2021_11_02\\Mirror209videoR.avi\n",
      "Duration of video [s]:  7.97 , recorded with  40.0 fps!\n",
      "Overall # of frames:  319  found with (before cropping) frame dimensions:  314 700\n",
      "Starting to extract posture\n"
     ]
    },
    {
     "name": "stderr",
     "output_type": "stream",
     "text": [
      "320it [00:35,  8.91it/s]                                                                                               \n"
     ]
    },
    {
     "name": "stdout",
     "output_type": "stream",
     "text": [
      "Saving results in \\\\dk-server.dk.ucsd.edu\\afassihizakeri\\Topviewmovies\\ar35motor\\2021_11_02...\n",
      "Saving csv poses!\n",
      "Starting to analyze %  \\\\dk-server.dk.ucsd.edu\\afassihizakeri\\Topviewmovies\\ar35motor\\2021_11_02\\Mirror131videoR.avi\n",
      "\\\\dk-server.dk.ucsd.edu\\afassihizakeri\\Topviewmovies\\ar35motor\\2021_11_02  already exists!\n",
      "Loading  \\\\dk-server.dk.ucsd.edu\\afassihizakeri\\Topviewmovies\\ar35motor\\2021_11_02\\Mirror131videoR.avi\n",
      "Duration of video [s]:  11.72 , recorded with  40.0 fps!\n",
      "Overall # of frames:  469  found with (before cropping) frame dimensions:  314 700\n",
      "Starting to extract posture\n"
     ]
    },
    {
     "name": "stderr",
     "output_type": "stream",
     "text": [
      "470it [00:52,  8.93it/s]                                                                                               \n"
     ]
    },
    {
     "name": "stdout",
     "output_type": "stream",
     "text": [
      "Saving results in \\\\dk-server.dk.ucsd.edu\\afassihizakeri\\Topviewmovies\\ar35motor\\2021_11_02...\n",
      "Saving csv poses!\n",
      "Starting to analyze %  \\\\dk-server.dk.ucsd.edu\\afassihizakeri\\Topviewmovies\\ar35motor\\2021_11_02\\Mirror5videoR.avi\n",
      "\\\\dk-server.dk.ucsd.edu\\afassihizakeri\\Topviewmovies\\ar35motor\\2021_11_02  already exists!\n",
      "Loading  \\\\dk-server.dk.ucsd.edu\\afassihizakeri\\Topviewmovies\\ar35motor\\2021_11_02\\Mirror5videoR.avi\n",
      "Duration of video [s]:  10.18 , recorded with  40.0 fps!\n",
      "Overall # of frames:  407  found with (before cropping) frame dimensions:  314 700\n",
      "Starting to extract posture\n"
     ]
    },
    {
     "name": "stderr",
     "output_type": "stream",
     "text": [
      "410it [00:45,  9.05it/s]                                                                                               \n"
     ]
    },
    {
     "name": "stdout",
     "output_type": "stream",
     "text": [
      "Saving results in \\\\dk-server.dk.ucsd.edu\\afassihizakeri\\Topviewmovies\\ar35motor\\2021_11_02...\n",
      "Saving csv poses!\n",
      "Starting to analyze %  \\\\dk-server.dk.ucsd.edu\\afassihizakeri\\Topviewmovies\\ar35motor\\2021_11_02\\Mirror182videoR.avi\n",
      "\\\\dk-server.dk.ucsd.edu\\afassihizakeri\\Topviewmovies\\ar35motor\\2021_11_02  already exists!\n",
      "Loading  \\\\dk-server.dk.ucsd.edu\\afassihizakeri\\Topviewmovies\\ar35motor\\2021_11_02\\Mirror182videoR.avi\n",
      "Duration of video [s]:  11.65 , recorded with  40.0 fps!\n",
      "Overall # of frames:  466  found with (before cropping) frame dimensions:  314 700\n",
      "Starting to extract posture\n"
     ]
    },
    {
     "name": "stderr",
     "output_type": "stream",
     "text": [
      "470it [00:52,  9.04it/s]                                                                                               \n"
     ]
    },
    {
     "name": "stdout",
     "output_type": "stream",
     "text": [
      "Saving results in \\\\dk-server.dk.ucsd.edu\\afassihizakeri\\Topviewmovies\\ar35motor\\2021_11_02...\n",
      "Saving csv poses!\n",
      "Starting to analyze %  \\\\dk-server.dk.ucsd.edu\\afassihizakeri\\Topviewmovies\\ar35motor\\2021_11_02\\Mirror147videoR.avi\n",
      "\\\\dk-server.dk.ucsd.edu\\afassihizakeri\\Topviewmovies\\ar35motor\\2021_11_02  already exists!\n",
      "Loading  \\\\dk-server.dk.ucsd.edu\\afassihizakeri\\Topviewmovies\\ar35motor\\2021_11_02\\Mirror147videoR.avi\n",
      "Duration of video [s]:  12.5 , recorded with  40.0 fps!\n",
      "Overall # of frames:  500  found with (before cropping) frame dimensions:  314 700\n",
      "Starting to extract posture\n"
     ]
    },
    {
     "name": "stderr",
     "output_type": "stream",
     "text": [
      "510it [00:55,  9.19it/s]                                                                                               \n"
     ]
    },
    {
     "name": "stdout",
     "output_type": "stream",
     "text": [
      "Saving results in \\\\dk-server.dk.ucsd.edu\\afassihizakeri\\Topviewmovies\\ar35motor\\2021_11_02...\n",
      "Saving csv poses!\n",
      "Starting to analyze %  \\\\dk-server.dk.ucsd.edu\\afassihizakeri\\Topviewmovies\\ar35motor\\2021_11_02\\Mirror73videoR.avi\n",
      "\\\\dk-server.dk.ucsd.edu\\afassihizakeri\\Topviewmovies\\ar35motor\\2021_11_02  already exists!\n",
      "Loading  \\\\dk-server.dk.ucsd.edu\\afassihizakeri\\Topviewmovies\\ar35motor\\2021_11_02\\Mirror73videoR.avi\n",
      "Duration of video [s]:  12.5 , recorded with  40.0 fps!\n",
      "Overall # of frames:  500  found with (before cropping) frame dimensions:  314 700\n",
      "Starting to extract posture\n"
     ]
    },
    {
     "name": "stderr",
     "output_type": "stream",
     "text": [
      "510it [00:55,  9.12it/s]                                                                                               \n"
     ]
    },
    {
     "name": "stdout",
     "output_type": "stream",
     "text": [
      "Saving results in \\\\dk-server.dk.ucsd.edu\\afassihizakeri\\Topviewmovies\\ar35motor\\2021_11_02...\n",
      "Saving csv poses!\n",
      "Starting to analyze %  \\\\dk-server.dk.ucsd.edu\\afassihizakeri\\Topviewmovies\\ar35motor\\2021_11_02\\Mirror119videoR.avi\n",
      "\\\\dk-server.dk.ucsd.edu\\afassihizakeri\\Topviewmovies\\ar35motor\\2021_11_02  already exists!\n",
      "Loading  \\\\dk-server.dk.ucsd.edu\\afassihizakeri\\Topviewmovies\\ar35motor\\2021_11_02\\Mirror119videoR.avi\n",
      "Duration of video [s]:  12.5 , recorded with  40.0 fps!\n",
      "Overall # of frames:  500  found with (before cropping) frame dimensions:  314 700\n",
      "Starting to extract posture\n"
     ]
    },
    {
     "name": "stderr",
     "output_type": "stream",
     "text": [
      "510it [00:56,  9.08it/s]                                                                                               \n"
     ]
    },
    {
     "name": "stdout",
     "output_type": "stream",
     "text": [
      "Saving results in \\\\dk-server.dk.ucsd.edu\\afassihizakeri\\Topviewmovies\\ar35motor\\2021_11_02...\n",
      "Saving csv poses!\n",
      "Starting to analyze %  \\\\dk-server.dk.ucsd.edu\\afassihizakeri\\Topviewmovies\\ar35motor\\2021_11_02\\Mirror130videoR.avi\n",
      "\\\\dk-server.dk.ucsd.edu\\afassihizakeri\\Topviewmovies\\ar35motor\\2021_11_02  already exists!\n",
      "Loading  \\\\dk-server.dk.ucsd.edu\\afassihizakeri\\Topviewmovies\\ar35motor\\2021_11_02\\Mirror130videoR.avi\n",
      "Duration of video [s]:  9.57 , recorded with  40.0 fps!\n",
      "Overall # of frames:  383  found with (before cropping) frame dimensions:  314 700\n",
      "Starting to extract posture\n"
     ]
    },
    {
     "name": "stderr",
     "output_type": "stream",
     "text": [
      "390it [00:42,  9.16it/s]                                                                                               \n"
     ]
    },
    {
     "name": "stdout",
     "output_type": "stream",
     "text": [
      "Saving results in \\\\dk-server.dk.ucsd.edu\\afassihizakeri\\Topviewmovies\\ar35motor\\2021_11_02...\n",
      "Saving csv poses!\n",
      "Starting to analyze %  \\\\dk-server.dk.ucsd.edu\\afassihizakeri\\Topviewmovies\\ar35motor\\2021_11_02\\Mirror4videoR.avi\n",
      "\\\\dk-server.dk.ucsd.edu\\afassihizakeri\\Topviewmovies\\ar35motor\\2021_11_02  already exists!\n",
      "Loading  \\\\dk-server.dk.ucsd.edu\\afassihizakeri\\Topviewmovies\\ar35motor\\2021_11_02\\Mirror4videoR.avi\n",
      "Duration of video [s]:  9.5 , recorded with  40.0 fps!\n",
      "Overall # of frames:  380  found with (before cropping) frame dimensions:  314 700\n",
      "Starting to extract posture\n"
     ]
    },
    {
     "name": "stderr",
     "output_type": "stream",
     "text": [
      "390it [00:42,  9.16it/s]                                                                                               \n"
     ]
    },
    {
     "name": "stdout",
     "output_type": "stream",
     "text": [
      "Saving results in \\\\dk-server.dk.ucsd.edu\\afassihizakeri\\Topviewmovies\\ar35motor\\2021_11_02...\n",
      "Saving csv poses!\n",
      "Starting to analyze %  \\\\dk-server.dk.ucsd.edu\\afassihizakeri\\Topviewmovies\\ar35motor\\2021_11_02\\Mirror183videoR.avi\n",
      "\\\\dk-server.dk.ucsd.edu\\afassihizakeri\\Topviewmovies\\ar35motor\\2021_11_02  already exists!\n",
      "Loading  \\\\dk-server.dk.ucsd.edu\\afassihizakeri\\Topviewmovies\\ar35motor\\2021_11_02\\Mirror183videoR.avi\n",
      "Duration of video [s]:  11.53 , recorded with  40.0 fps!\n",
      "Overall # of frames:  461  found with (before cropping) frame dimensions:  314 700\n",
      "Starting to extract posture\n"
     ]
    },
    {
     "name": "stderr",
     "output_type": "stream",
     "text": [
      "470it [00:51,  9.15it/s]                                                                                               \n"
     ]
    },
    {
     "name": "stdout",
     "output_type": "stream",
     "text": [
      "Saving results in \\\\dk-server.dk.ucsd.edu\\afassihizakeri\\Topviewmovies\\ar35motor\\2021_11_02...\n",
      "Saving csv poses!\n",
      "Starting to analyze %  \\\\dk-server.dk.ucsd.edu\\afassihizakeri\\Topviewmovies\\ar35motor\\2021_11_02\\Mirror118videoR.avi\n",
      "\\\\dk-server.dk.ucsd.edu\\afassihizakeri\\Topviewmovies\\ar35motor\\2021_11_02  already exists!\n",
      "Loading  \\\\dk-server.dk.ucsd.edu\\afassihizakeri\\Topviewmovies\\ar35motor\\2021_11_02\\Mirror118videoR.avi\n",
      "Duration of video [s]:  12.5 , recorded with  40.0 fps!\n",
      "Overall # of frames:  500  found with (before cropping) frame dimensions:  314 700\n",
      "Starting to extract posture\n"
     ]
    },
    {
     "name": "stderr",
     "output_type": "stream",
     "text": [
      "510it [00:55,  9.18it/s]                                                                                               \n"
     ]
    },
    {
     "name": "stdout",
     "output_type": "stream",
     "text": [
      "Saving results in \\\\dk-server.dk.ucsd.edu\\afassihizakeri\\Topviewmovies\\ar35motor\\2021_11_02...\n",
      "Saving csv poses!\n",
      "Starting to analyze %  \\\\dk-server.dk.ucsd.edu\\afassihizakeri\\Topviewmovies\\ar35motor\\2021_11_02\\Mirror72videoR.avi\n",
      "\\\\dk-server.dk.ucsd.edu\\afassihizakeri\\Topviewmovies\\ar35motor\\2021_11_02  already exists!\n",
      "Loading  \\\\dk-server.dk.ucsd.edu\\afassihizakeri\\Topviewmovies\\ar35motor\\2021_11_02\\Mirror72videoR.avi\n",
      "Duration of video [s]:  12.5 , recorded with  40.0 fps!\n",
      "Overall # of frames:  500  found with (before cropping) frame dimensions:  314 700\n",
      "Starting to extract posture\n"
     ]
    },
    {
     "name": "stderr",
     "output_type": "stream",
     "text": [
      "510it [00:55,  9.16it/s]                                                                                               \n"
     ]
    },
    {
     "name": "stdout",
     "output_type": "stream",
     "text": [
      "Saving results in \\\\dk-server.dk.ucsd.edu\\afassihizakeri\\Topviewmovies\\ar35motor\\2021_11_02...\n",
      "Saving csv poses!\n",
      "Starting to analyze %  \\\\dk-server.dk.ucsd.edu\\afassihizakeri\\Topviewmovies\\ar35motor\\2021_11_02\\Mirror146videoR.avi\n",
      "\\\\dk-server.dk.ucsd.edu\\afassihizakeri\\Topviewmovies\\ar35motor\\2021_11_02  already exists!\n",
      "Loading  \\\\dk-server.dk.ucsd.edu\\afassihizakeri\\Topviewmovies\\ar35motor\\2021_11_02\\Mirror146videoR.avi\n",
      "Duration of video [s]:  12.5 , recorded with  40.0 fps!\n",
      "Overall # of frames:  500  found with (before cropping) frame dimensions:  314 700\n",
      "Starting to extract posture\n"
     ]
    },
    {
     "name": "stderr",
     "output_type": "stream",
     "text": [
      "510it [00:55,  9.11it/s]                                                                                               \n"
     ]
    },
    {
     "name": "stdout",
     "output_type": "stream",
     "text": [
      "Saving results in \\\\dk-server.dk.ucsd.edu\\afassihizakeri\\Topviewmovies\\ar35motor\\2021_11_02...\n",
      "Saving csv poses!\n",
      "Starting to analyze %  \\\\dk-server.dk.ucsd.edu\\afassihizakeri\\Topviewmovies\\ar35motor\\2021_11_02\\Mirror184videoR.avi\n",
      "\\\\dk-server.dk.ucsd.edu\\afassihizakeri\\Topviewmovies\\ar35motor\\2021_11_02  already exists!\n",
      "Loading  \\\\dk-server.dk.ucsd.edu\\afassihizakeri\\Topviewmovies\\ar35motor\\2021_11_02\\Mirror184videoR.avi\n",
      "Duration of video [s]:  12.5 , recorded with  40.0 fps!\n",
      "Overall # of frames:  500  found with (before cropping) frame dimensions:  314 700\n",
      "Starting to extract posture\n"
     ]
    },
    {
     "name": "stderr",
     "output_type": "stream",
     "text": [
      "510it [00:55,  9.15it/s]                                                                                               \n"
     ]
    },
    {
     "name": "stdout",
     "output_type": "stream",
     "text": [
      "Saving results in \\\\dk-server.dk.ucsd.edu\\afassihizakeri\\Topviewmovies\\ar35motor\\2021_11_02...\n",
      "Saving csv poses!\n",
      "Starting to analyze %  \\\\dk-server.dk.ucsd.edu\\afassihizakeri\\Topviewmovies\\ar35motor\\2021_11_02\\Mirror75videoR.avi\n",
      "\\\\dk-server.dk.ucsd.edu\\afassihizakeri\\Topviewmovies\\ar35motor\\2021_11_02  already exists!\n",
      "Loading  \\\\dk-server.dk.ucsd.edu\\afassihizakeri\\Topviewmovies\\ar35motor\\2021_11_02\\Mirror75videoR.avi\n",
      "Duration of video [s]:  12.3 , recorded with  40.0 fps!\n",
      "Overall # of frames:  492  found with (before cropping) frame dimensions:  314 700\n",
      "Starting to extract posture\n"
     ]
    },
    {
     "name": "stderr",
     "output_type": "stream",
     "text": [
      "500it [00:54,  9.13it/s]                                                                                               \n"
     ]
    },
    {
     "name": "stdout",
     "output_type": "stream",
     "text": [
      "Saving results in \\\\dk-server.dk.ucsd.edu\\afassihizakeri\\Topviewmovies\\ar35motor\\2021_11_02...\n",
      "Saving csv poses!\n",
      "Starting to analyze %  \\\\dk-server.dk.ucsd.edu\\afassihizakeri\\Topviewmovies\\ar35motor\\2021_11_02\\Mirror141videoR.avi\n",
      "\\\\dk-server.dk.ucsd.edu\\afassihizakeri\\Topviewmovies\\ar35motor\\2021_11_02  already exists!\n",
      "Loading  \\\\dk-server.dk.ucsd.edu\\afassihizakeri\\Topviewmovies\\ar35motor\\2021_11_02\\Mirror141videoR.avi\n",
      "Duration of video [s]:  12.5 , recorded with  40.0 fps!\n",
      "Overall # of frames:  500  found with (before cropping) frame dimensions:  314 700\n",
      "Starting to extract posture\n"
     ]
    },
    {
     "name": "stderr",
     "output_type": "stream",
     "text": [
      "510it [00:55,  9.16it/s]                                                                                               \n"
     ]
    },
    {
     "name": "stdout",
     "output_type": "stream",
     "text": [
      "Saving results in \\\\dk-server.dk.ucsd.edu\\afassihizakeri\\Topviewmovies\\ar35motor\\2021_11_02...\n",
      "Saving csv poses!\n",
      "Starting to analyze %  \\\\dk-server.dk.ucsd.edu\\afassihizakeri\\Topviewmovies\\ar35motor\\2021_11_02\\Mirror169videoR.avi\n",
      "\\\\dk-server.dk.ucsd.edu\\afassihizakeri\\Topviewmovies\\ar35motor\\2021_11_02  already exists!\n",
      "Loading  \\\\dk-server.dk.ucsd.edu\\afassihizakeri\\Topviewmovies\\ar35motor\\2021_11_02\\Mirror169videoR.avi\n",
      "Duration of video [s]:  10.97 , recorded with  40.0 fps!\n",
      "Overall # of frames:  439  found with (before cropping) frame dimensions:  314 700\n",
      "Starting to extract posture\n"
     ]
    },
    {
     "name": "stderr",
     "output_type": "stream",
     "text": [
      "440it [00:48,  9.02it/s]                                                                                               \n"
     ]
    },
    {
     "name": "stdout",
     "output_type": "stream",
     "text": [
      "Saving results in \\\\dk-server.dk.ucsd.edu\\afassihizakeri\\Topviewmovies\\ar35motor\\2021_11_02...\n",
      "Saving csv poses!\n",
      "Starting to analyze %  \\\\dk-server.dk.ucsd.edu\\afassihizakeri\\Topviewmovies\\ar35motor\\2021_11_02\\Mirror137videoR.avi\n",
      "\\\\dk-server.dk.ucsd.edu\\afassihizakeri\\Topviewmovies\\ar35motor\\2021_11_02  already exists!\n",
      "Loading  \\\\dk-server.dk.ucsd.edu\\afassihizakeri\\Topviewmovies\\ar35motor\\2021_11_02\\Mirror137videoR.avi\n",
      "Duration of video [s]:  11.93 , recorded with  40.0 fps!\n",
      "Overall # of frames:  477  found with (before cropping) frame dimensions:  314 700\n",
      "Starting to extract posture\n"
     ]
    },
    {
     "name": "stderr",
     "output_type": "stream",
     "text": [
      "480it [00:53,  9.03it/s]                                                                                               \n"
     ]
    },
    {
     "name": "stdout",
     "output_type": "stream",
     "text": [
      "Saving results in \\\\dk-server.dk.ucsd.edu\\afassihizakeri\\Topviewmovies\\ar35motor\\2021_11_02...\n",
      "Saving csv poses!\n",
      "Starting to analyze %  \\\\dk-server.dk.ucsd.edu\\afassihizakeri\\Topviewmovies\\ar35motor\\2021_11_02\\Mirror98videoR.avi\n",
      "\\\\dk-server.dk.ucsd.edu\\afassihizakeri\\Topviewmovies\\ar35motor\\2021_11_02  already exists!\n",
      "Loading  \\\\dk-server.dk.ucsd.edu\\afassihizakeri\\Topviewmovies\\ar35motor\\2021_11_02\\Mirror98videoR.avi\n",
      "Duration of video [s]:  11.38 , recorded with  40.0 fps!\n",
      "Overall # of frames:  455  found with (before cropping) frame dimensions:  314 700\n",
      "Starting to extract posture\n"
     ]
    },
    {
     "name": "stderr",
     "output_type": "stream",
     "text": [
      "460it [00:51,  8.98it/s]                                                                                               \n"
     ]
    },
    {
     "name": "stdout",
     "output_type": "stream",
     "text": [
      "Saving results in \\\\dk-server.dk.ucsd.edu\\afassihizakeri\\Topviewmovies\\ar35motor\\2021_11_02...\n",
      "Saving csv poses!\n",
      "Starting to analyze %  \\\\dk-server.dk.ucsd.edu\\afassihizakeri\\Topviewmovies\\ar35motor\\2021_11_02\\Mirror3videoR.avi\n",
      "\\\\dk-server.dk.ucsd.edu\\afassihizakeri\\Topviewmovies\\ar35motor\\2021_11_02  already exists!\n",
      "Loading  \\\\dk-server.dk.ucsd.edu\\afassihizakeri\\Topviewmovies\\ar35motor\\2021_11_02\\Mirror3videoR.avi\n",
      "Duration of video [s]:  10.15 , recorded with  40.0 fps!\n",
      "Overall # of frames:  406  found with (before cropping) frame dimensions:  314 700\n",
      "Starting to extract posture\n"
     ]
    },
    {
     "name": "stderr",
     "output_type": "stream",
     "text": [
      "410it [00:45,  9.05it/s]                                                                                               \n"
     ]
    },
    {
     "name": "stdout",
     "output_type": "stream",
     "text": [
      "Saving results in \\\\dk-server.dk.ucsd.edu\\afassihizakeri\\Topviewmovies\\ar35motor\\2021_11_02...\n",
      "Saving csv poses!\n",
      "Starting to analyze %  \\\\dk-server.dk.ucsd.edu\\afassihizakeri\\Topviewmovies\\ar35motor\\2021_11_02\\Mirror185videoR.avi\n",
      "\\\\dk-server.dk.ucsd.edu\\afassihizakeri\\Topviewmovies\\ar35motor\\2021_11_02  already exists!\n",
      "Loading  \\\\dk-server.dk.ucsd.edu\\afassihizakeri\\Topviewmovies\\ar35motor\\2021_11_02\\Mirror185videoR.avi\n",
      "Duration of video [s]:  12.5 , recorded with  40.0 fps!\n",
      "Overall # of frames:  500  found with (before cropping) frame dimensions:  314 700\n",
      "Starting to extract posture\n"
     ]
    },
    {
     "name": "stderr",
     "output_type": "stream",
     "text": [
      "510it [00:55,  9.14it/s]                                                                                               \n"
     ]
    },
    {
     "name": "stdout",
     "output_type": "stream",
     "text": [
      "Saving results in \\\\dk-server.dk.ucsd.edu\\afassihizakeri\\Topviewmovies\\ar35motor\\2021_11_02...\n",
      "Saving csv poses!\n",
      "Starting to analyze %  \\\\dk-server.dk.ucsd.edu\\afassihizakeri\\Topviewmovies\\ar35motor\\2021_11_02\\Mirror140videoR.avi\n",
      "\\\\dk-server.dk.ucsd.edu\\afassihizakeri\\Topviewmovies\\ar35motor\\2021_11_02  already exists!\n",
      "Loading  \\\\dk-server.dk.ucsd.edu\\afassihizakeri\\Topviewmovies\\ar35motor\\2021_11_02\\Mirror140videoR.avi\n",
      "Duration of video [s]:  2.45 , recorded with  40.0 fps!\n",
      "Overall # of frames:  98  found with (before cropping) frame dimensions:  314 700\n",
      "Starting to extract posture\n"
     ]
    },
    {
     "name": "stderr",
     "output_type": "stream",
     "text": [
      "100it [00:11,  8.63it/s]                                                                                               \n"
     ]
    },
    {
     "name": "stdout",
     "output_type": "stream",
     "text": [
      "Saving results in \\\\dk-server.dk.ucsd.edu\\afassihizakeri\\Topviewmovies\\ar35motor\\2021_11_02...\n",
      "Saving csv poses!\n",
      "Starting to analyze %  \\\\dk-server.dk.ucsd.edu\\afassihizakeri\\Topviewmovies\\ar35motor\\2021_11_02\\Mirror74videoR.avi\n",
      "\\\\dk-server.dk.ucsd.edu\\afassihizakeri\\Topviewmovies\\ar35motor\\2021_11_02  already exists!\n",
      "Loading  \\\\dk-server.dk.ucsd.edu\\afassihizakeri\\Topviewmovies\\ar35motor\\2021_11_02\\Mirror74videoR.avi\n",
      "Duration of video [s]:  12.5 , recorded with  40.0 fps!\n",
      "Overall # of frames:  500  found with (before cropping) frame dimensions:  314 700\n",
      "Starting to extract posture\n"
     ]
    },
    {
     "name": "stderr",
     "output_type": "stream",
     "text": [
      "510it [00:55,  9.12it/s]                                                                                               \n"
     ]
    },
    {
     "name": "stdout",
     "output_type": "stream",
     "text": [
      "Saving results in \\\\dk-server.dk.ucsd.edu\\afassihizakeri\\Topviewmovies\\ar35motor\\2021_11_02...\n",
      "Saving csv poses!\n",
      "Starting to analyze %  \\\\dk-server.dk.ucsd.edu\\afassihizakeri\\Topviewmovies\\ar35motor\\2021_11_02\\Mirror136videoR.avi\n",
      "\\\\dk-server.dk.ucsd.edu\\afassihizakeri\\Topviewmovies\\ar35motor\\2021_11_02  already exists!\n",
      "Loading  \\\\dk-server.dk.ucsd.edu\\afassihizakeri\\Topviewmovies\\ar35motor\\2021_11_02\\Mirror136videoR.avi\n",
      "Duration of video [s]:  10.72 , recorded with  40.0 fps!\n",
      "Overall # of frames:  429  found with (before cropping) frame dimensions:  314 700\n",
      "Starting to extract posture\n"
     ]
    },
    {
     "name": "stderr",
     "output_type": "stream",
     "text": [
      "430it [00:47,  9.00it/s]                                                                                               \n"
     ]
    },
    {
     "name": "stdout",
     "output_type": "stream",
     "text": [
      "Saving results in \\\\dk-server.dk.ucsd.edu\\afassihizakeri\\Topviewmovies\\ar35motor\\2021_11_02...\n",
      "Saving csv poses!\n",
      "Starting to analyze %  \\\\dk-server.dk.ucsd.edu\\afassihizakeri\\Topviewmovies\\ar35motor\\2021_11_02\\Mirror168videoR.avi\n",
      "\\\\dk-server.dk.ucsd.edu\\afassihizakeri\\Topviewmovies\\ar35motor\\2021_11_02  already exists!\n",
      "Loading  \\\\dk-server.dk.ucsd.edu\\afassihizakeri\\Topviewmovies\\ar35motor\\2021_11_02\\Mirror168videoR.avi\n",
      "Duration of video [s]:  8.85 , recorded with  40.0 fps!\n",
      "Overall # of frames:  354  found with (before cropping) frame dimensions:  314 700\n",
      "Starting to extract posture\n"
     ]
    },
    {
     "name": "stderr",
     "output_type": "stream",
     "text": [
      "360it [00:40,  9.00it/s]                                                                                               \n"
     ]
    },
    {
     "name": "stdout",
     "output_type": "stream",
     "text": [
      "Saving results in \\\\dk-server.dk.ucsd.edu\\afassihizakeri\\Topviewmovies\\ar35motor\\2021_11_02...\n",
      "Saving csv poses!\n",
      "Starting to analyze %  \\\\dk-server.dk.ucsd.edu\\afassihizakeri\\Topviewmovies\\ar35motor\\2021_11_02\\Mirror2videoR.avi\n",
      "\\\\dk-server.dk.ucsd.edu\\afassihizakeri\\Topviewmovies\\ar35motor\\2021_11_02  already exists!\n",
      "Loading  \\\\dk-server.dk.ucsd.edu\\afassihizakeri\\Topviewmovies\\ar35motor\\2021_11_02\\Mirror2videoR.avi\n",
      "Duration of video [s]:  5.03 , recorded with  40.0 fps!\n",
      "Overall # of frames:  201  found with (before cropping) frame dimensions:  314 700\n",
      "Starting to extract posture\n"
     ]
    },
    {
     "name": "stderr",
     "output_type": "stream",
     "text": [
      "210it [00:23,  9.11it/s]                                                                                               \n"
     ]
    },
    {
     "name": "stdout",
     "output_type": "stream",
     "text": [
      "Saving results in \\\\dk-server.dk.ucsd.edu\\afassihizakeri\\Topviewmovies\\ar35motor\\2021_11_02...\n",
      "Saving csv poses!\n",
      "Starting to analyze %  \\\\dk-server.dk.ucsd.edu\\afassihizakeri\\Topviewmovies\\ar35motor\\2021_11_02\\Mirror99videoR.avi\n",
      "\\\\dk-server.dk.ucsd.edu\\afassihizakeri\\Topviewmovies\\ar35motor\\2021_11_02  already exists!\n",
      "Loading  \\\\dk-server.dk.ucsd.edu\\afassihizakeri\\Topviewmovies\\ar35motor\\2021_11_02\\Mirror99videoR.avi\n",
      "Duration of video [s]:  10.1 , recorded with  40.0 fps!\n",
      "Overall # of frames:  404  found with (before cropping) frame dimensions:  314 700\n",
      "Starting to extract posture\n"
     ]
    },
    {
     "name": "stderr",
     "output_type": "stream",
     "text": [
      "410it [00:45,  9.11it/s]                                                                                               \n"
     ]
    },
    {
     "name": "stdout",
     "output_type": "stream",
     "text": [
      "Saving results in \\\\dk-server.dk.ucsd.edu\\afassihizakeri\\Topviewmovies\\ar35motor\\2021_11_02...\n",
      "Saving csv poses!\n",
      "Starting to analyze %  \\\\dk-server.dk.ucsd.edu\\afassihizakeri\\Topviewmovies\\ar35motor\\2021_11_02\\Mirror77videoR.avi\n",
      "\\\\dk-server.dk.ucsd.edu\\afassihizakeri\\Topviewmovies\\ar35motor\\2021_11_02  already exists!\n",
      "Loading  \\\\dk-server.dk.ucsd.edu\\afassihizakeri\\Topviewmovies\\ar35motor\\2021_11_02\\Mirror77videoR.avi\n",
      "Duration of video [s]:  9.55 , recorded with  40.0 fps!\n",
      "Overall # of frames:  382  found with (before cropping) frame dimensions:  314 700\n",
      "Starting to extract posture\n"
     ]
    },
    {
     "name": "stderr",
     "output_type": "stream",
     "text": [
      "390it [00:42,  9.15it/s]                                                                                               \n"
     ]
    },
    {
     "name": "stdout",
     "output_type": "stream",
     "text": [
      "Saving results in \\\\dk-server.dk.ucsd.edu\\afassihizakeri\\Topviewmovies\\ar35motor\\2021_11_02...\n",
      "Saving csv poses!\n",
      "Starting to analyze %  \\\\dk-server.dk.ucsd.edu\\afassihizakeri\\Topviewmovies\\ar35motor\\2021_11_02\\Mirror143videoR.avi\n",
      "\\\\dk-server.dk.ucsd.edu\\afassihizakeri\\Topviewmovies\\ar35motor\\2021_11_02  already exists!\n",
      "Loading  \\\\dk-server.dk.ucsd.edu\\afassihizakeri\\Topviewmovies\\ar35motor\\2021_11_02\\Mirror143videoR.avi\n",
      "Duration of video [s]:  12.28 , recorded with  40.0 fps!\n",
      "Overall # of frames:  491  found with (before cropping) frame dimensions:  314 700\n",
      "Starting to extract posture\n"
     ]
    },
    {
     "name": "stderr",
     "output_type": "stream",
     "text": [
      "500it [00:54,  9.15it/s]                                                                                               \n"
     ]
    },
    {
     "name": "stdout",
     "output_type": "stream",
     "text": [
      "Saving results in \\\\dk-server.dk.ucsd.edu\\afassihizakeri\\Topviewmovies\\ar35motor\\2021_11_02...\n",
      "Saving csv poses!\n",
      "Starting to analyze %  \\\\dk-server.dk.ucsd.edu\\afassihizakeri\\Topviewmovies\\ar35motor\\2021_11_02\\Mirror29videoR.avi\n",
      "\\\\dk-server.dk.ucsd.edu\\afassihizakeri\\Topviewmovies\\ar35motor\\2021_11_02  already exists!\n",
      "Loading  \\\\dk-server.dk.ucsd.edu\\afassihizakeri\\Topviewmovies\\ar35motor\\2021_11_02\\Mirror29videoR.avi\n",
      "Duration of video [s]:  8.47 , recorded with  40.0 fps!\n",
      "Overall # of frames:  339  found with (before cropping) frame dimensions:  314 700\n",
      "Starting to extract posture\n"
     ]
    },
    {
     "name": "stderr",
     "output_type": "stream",
     "text": [
      "340it [00:38,  8.93it/s]                                                                                               \n"
     ]
    },
    {
     "name": "stdout",
     "output_type": "stream",
     "text": [
      "Saving results in \\\\dk-server.dk.ucsd.edu\\afassihizakeri\\Topviewmovies\\ar35motor\\2021_11_02...\n",
      "Saving csv poses!\n",
      "Starting to analyze %  \\\\dk-server.dk.ucsd.edu\\afassihizakeri\\Topviewmovies\\ar35motor\\2021_11_02\\Mirror186videoR.avi\n",
      "\\\\dk-server.dk.ucsd.edu\\afassihizakeri\\Topviewmovies\\ar35motor\\2021_11_02  already exists!\n",
      "Loading  \\\\dk-server.dk.ucsd.edu\\afassihizakeri\\Topviewmovies\\ar35motor\\2021_11_02\\Mirror186videoR.avi\n",
      "Duration of video [s]:  12.47 , recorded with  40.0 fps!\n",
      "Overall # of frames:  499  found with (before cropping) frame dimensions:  314 700\n",
      "Starting to extract posture\n"
     ]
    },
    {
     "name": "stderr",
     "output_type": "stream",
     "text": [
      "500it [00:55,  9.00it/s]                                                                                               \n"
     ]
    },
    {
     "name": "stdout",
     "output_type": "stream",
     "text": [
      "Saving results in \\\\dk-server.dk.ucsd.edu\\afassihizakeri\\Topviewmovies\\ar35motor\\2021_11_02...\n",
      "Saving csv poses!\n",
      "Starting to analyze %  \\\\dk-server.dk.ucsd.edu\\afassihizakeri\\Topviewmovies\\ar35motor\\2021_11_02\\Mirror1videoR.avi\n",
      "\\\\dk-server.dk.ucsd.edu\\afassihizakeri\\Topviewmovies\\ar35motor\\2021_11_02  already exists!\n",
      "Loading  \\\\dk-server.dk.ucsd.edu\\afassihizakeri\\Topviewmovies\\ar35motor\\2021_11_02\\Mirror1videoR.avi\n",
      "Duration of video [s]:  11.6 , recorded with  40.0 fps!\n",
      "Overall # of frames:  464  found with (before cropping) frame dimensions:  314 700\n",
      "Starting to extract posture\n"
     ]
    },
    {
     "name": "stderr",
     "output_type": "stream",
     "text": [
      "470it [00:51,  9.06it/s]                                                                                               \n"
     ]
    },
    {
     "name": "stdout",
     "output_type": "stream",
     "text": [
      "Saving results in \\\\dk-server.dk.ucsd.edu\\afassihizakeri\\Topviewmovies\\ar35motor\\2021_11_02...\n",
      "Saving csv poses!\n",
      "Starting to analyze %  \\\\dk-server.dk.ucsd.edu\\afassihizakeri\\Topviewmovies\\ar35motor\\2021_11_02\\Mirror135videoR.avi\n",
      "\\\\dk-server.dk.ucsd.edu\\afassihizakeri\\Topviewmovies\\ar35motor\\2021_11_02  already exists!\n",
      "Loading  \\\\dk-server.dk.ucsd.edu\\afassihizakeri\\Topviewmovies\\ar35motor\\2021_11_02\\Mirror135videoR.avi\n",
      "Duration of video [s]:  12.5 , recorded with  40.0 fps!\n",
      "Overall # of frames:  500  found with (before cropping) frame dimensions:  314 700\n",
      "Starting to extract posture\n"
     ]
    },
    {
     "name": "stderr",
     "output_type": "stream",
     "text": [
      "510it [00:55,  9.18it/s]                                                                                               \n"
     ]
    },
    {
     "name": "stdout",
     "output_type": "stream",
     "text": [
      "Saving results in \\\\dk-server.dk.ucsd.edu\\afassihizakeri\\Topviewmovies\\ar35motor\\2021_11_02...\n",
      "Saving csv poses!\n",
      "Starting to analyze %  \\\\dk-server.dk.ucsd.edu\\afassihizakeri\\Topviewmovies\\ar35motor\\2021_11_02\\Mirror28videoR.avi\n",
      "\\\\dk-server.dk.ucsd.edu\\afassihizakeri\\Topviewmovies\\ar35motor\\2021_11_02  already exists!\n",
      "Loading  \\\\dk-server.dk.ucsd.edu\\afassihizakeri\\Topviewmovies\\ar35motor\\2021_11_02\\Mirror28videoR.avi\n",
      "Duration of video [s]:  9.53 , recorded with  40.0 fps!\n",
      "Overall # of frames:  381  found with (before cropping) frame dimensions:  314 700\n",
      "Starting to extract posture\n"
     ]
    },
    {
     "name": "stderr",
     "output_type": "stream",
     "text": [
      "390it [00:42,  9.24it/s]                                                                                               \n"
     ]
    },
    {
     "name": "stdout",
     "output_type": "stream",
     "text": [
      "Saving results in \\\\dk-server.dk.ucsd.edu\\afassihizakeri\\Topviewmovies\\ar35motor\\2021_11_02...\n",
      "Saving csv poses!\n",
      "Starting to analyze %  \\\\dk-server.dk.ucsd.edu\\afassihizakeri\\Topviewmovies\\ar35motor\\2021_11_02\\Mirror142videoR.avi\n",
      "\\\\dk-server.dk.ucsd.edu\\afassihizakeri\\Topviewmovies\\ar35motor\\2021_11_02  already exists!\n",
      "Loading  \\\\dk-server.dk.ucsd.edu\\afassihizakeri\\Topviewmovies\\ar35motor\\2021_11_02\\Mirror142videoR.avi\n",
      "Duration of video [s]:  12.5 , recorded with  40.0 fps!\n",
      "Overall # of frames:  500  found with (before cropping) frame dimensions:  314 700\n",
      "Starting to extract posture\n"
     ]
    },
    {
     "name": "stderr",
     "output_type": "stream",
     "text": [
      "510it [00:55,  9.13it/s]                                                                                               \n"
     ]
    },
    {
     "name": "stdout",
     "output_type": "stream",
     "text": [
      "Saving results in \\\\dk-server.dk.ucsd.edu\\afassihizakeri\\Topviewmovies\\ar35motor\\2021_11_02...\n",
      "Saving csv poses!\n",
      "Starting to analyze %  \\\\dk-server.dk.ucsd.edu\\afassihizakeri\\Topviewmovies\\ar35motor\\2021_11_02\\Mirror76videoR.avi\n",
      "\\\\dk-server.dk.ucsd.edu\\afassihizakeri\\Topviewmovies\\ar35motor\\2021_11_02  already exists!\n",
      "Loading  \\\\dk-server.dk.ucsd.edu\\afassihizakeri\\Topviewmovies\\ar35motor\\2021_11_02\\Mirror76videoR.avi\n",
      "Duration of video [s]:  6.97 , recorded with  40.0 fps!\n",
      "Overall # of frames:  279  found with (before cropping) frame dimensions:  314 700\n",
      "Starting to extract posture\n"
     ]
    },
    {
     "name": "stderr",
     "output_type": "stream",
     "text": [
      "280it [00:31,  9.03it/s]                                                                                               \n"
     ]
    },
    {
     "name": "stdout",
     "output_type": "stream",
     "text": [
      "Saving results in \\\\dk-server.dk.ucsd.edu\\afassihizakeri\\Topviewmovies\\ar35motor\\2021_11_02...\n",
      "Saving csv poses!\n",
      "Starting to analyze %  \\\\dk-server.dk.ucsd.edu\\afassihizakeri\\Topviewmovies\\ar35motor\\2021_11_02\\Mirror187videoR.avi\n",
      "\\\\dk-server.dk.ucsd.edu\\afassihizakeri\\Topviewmovies\\ar35motor\\2021_11_02  already exists!\n",
      "Loading  \\\\dk-server.dk.ucsd.edu\\afassihizakeri\\Topviewmovies\\ar35motor\\2021_11_02\\Mirror187videoR.avi\n",
      "Duration of video [s]:  12.28 , recorded with  40.0 fps!\n",
      "Overall # of frames:  491  found with (before cropping) frame dimensions:  314 700\n",
      "Starting to extract posture\n"
     ]
    },
    {
     "name": "stderr",
     "output_type": "stream",
     "text": [
      "500it [00:54,  9.12it/s]                                                                                               \n"
     ]
    },
    {
     "name": "stdout",
     "output_type": "stream",
     "text": [
      "Saving results in \\\\dk-server.dk.ucsd.edu\\afassihizakeri\\Topviewmovies\\ar35motor\\2021_11_02...\n",
      "Saving csv poses!\n",
      "Starting to analyze %  \\\\dk-server.dk.ucsd.edu\\afassihizakeri\\Topviewmovies\\ar35motor\\2021_11_02\\Mirror0videoR.avi\n",
      "\\\\dk-server.dk.ucsd.edu\\afassihizakeri\\Topviewmovies\\ar35motor\\2021_11_02  already exists!\n",
      "Loading  \\\\dk-server.dk.ucsd.edu\\afassihizakeri\\Topviewmovies\\ar35motor\\2021_11_02\\Mirror0videoR.avi\n",
      "Duration of video [s]:  12.5 , recorded with  40.0 fps!\n",
      "Overall # of frames:  500  found with (before cropping) frame dimensions:  314 700\n",
      "Starting to extract posture\n"
     ]
    },
    {
     "name": "stderr",
     "output_type": "stream",
     "text": [
      "510it [00:55,  9.12it/s]                                                                                               \n"
     ]
    },
    {
     "name": "stdout",
     "output_type": "stream",
     "text": [
      "Saving results in \\\\dk-server.dk.ucsd.edu\\afassihizakeri\\Topviewmovies\\ar35motor\\2021_11_02...\n",
      "Saving csv poses!\n",
      "Starting to analyze %  \\\\dk-server.dk.ucsd.edu\\afassihizakeri\\Topviewmovies\\ar35motor\\2021_11_02\\Mirror134videoR.avi\n",
      "\\\\dk-server.dk.ucsd.edu\\afassihizakeri\\Topviewmovies\\ar35motor\\2021_11_02  already exists!\n",
      "Loading  \\\\dk-server.dk.ucsd.edu\\afassihizakeri\\Topviewmovies\\ar35motor\\2021_11_02\\Mirror134videoR.avi\n",
      "Duration of video [s]:  12.5 , recorded with  40.0 fps!\n",
      "Overall # of frames:  500  found with (before cropping) frame dimensions:  314 700\n",
      "Starting to extract posture\n"
     ]
    },
    {
     "name": "stderr",
     "output_type": "stream",
     "text": [
      "510it [00:55,  9.15it/s]                                                                                               \n"
     ]
    },
    {
     "name": "stdout",
     "output_type": "stream",
     "text": [
      "Saving results in \\\\dk-server.dk.ucsd.edu\\afassihizakeri\\Topviewmovies\\ar35motor\\2021_11_02...\n",
      "Saving csv poses!\n",
      "Starting to analyze %  \\\\dk-server.dk.ucsd.edu\\afassihizakeri\\Topviewmovies\\ar35motor\\2021_11_02\\Mirror12videoR.avi\n",
      "\\\\dk-server.dk.ucsd.edu\\afassihizakeri\\Topviewmovies\\ar35motor\\2021_11_02  already exists!\n",
      "Loading  \\\\dk-server.dk.ucsd.edu\\afassihizakeri\\Topviewmovies\\ar35motor\\2021_11_02\\Mirror12videoR.avi\n",
      "Duration of video [s]:  12.35 , recorded with  40.0 fps!\n",
      "Overall # of frames:  494  found with (before cropping) frame dimensions:  314 700\n",
      "Starting to extract posture\n"
     ]
    },
    {
     "name": "stderr",
     "output_type": "stream",
     "text": [
      "500it [00:55,  9.04it/s]                                                                                               \n"
     ]
    },
    {
     "name": "stdout",
     "output_type": "stream",
     "text": [
      "Saving results in \\\\dk-server.dk.ucsd.edu\\afassihizakeri\\Topviewmovies\\ar35motor\\2021_11_02...\n",
      "Saving csv poses!\n",
      "Starting to analyze %  \\\\dk-server.dk.ucsd.edu\\afassihizakeri\\Topviewmovies\\ar35motor\\2021_11_02\\Mirror126videoR.avi\n",
      "\\\\dk-server.dk.ucsd.edu\\afassihizakeri\\Topviewmovies\\ar35motor\\2021_11_02  already exists!\n",
      "Loading  \\\\dk-server.dk.ucsd.edu\\afassihizakeri\\Topviewmovies\\ar35motor\\2021_11_02\\Mirror126videoR.avi\n",
      "Duration of video [s]:  10.88 , recorded with  40.0 fps!\n",
      "Overall # of frames:  435  found with (before cropping) frame dimensions:  314 700\n",
      "Starting to extract posture\n"
     ]
    },
    {
     "name": "stderr",
     "output_type": "stream",
     "text": [
      "440it [00:48,  9.03it/s]                                                                                               \n"
     ]
    },
    {
     "name": "stdout",
     "output_type": "stream",
     "text": [
      "Saving results in \\\\dk-server.dk.ucsd.edu\\afassihizakeri\\Topviewmovies\\ar35motor\\2021_11_02...\n",
      "Saving csv poses!\n",
      "Starting to analyze %  \\\\dk-server.dk.ucsd.edu\\afassihizakeri\\Topviewmovies\\ar35motor\\2021_11_02\\Mirror178videoR.avi\n",
      "\\\\dk-server.dk.ucsd.edu\\afassihizakeri\\Topviewmovies\\ar35motor\\2021_11_02  already exists!\n",
      "Loading  \\\\dk-server.dk.ucsd.edu\\afassihizakeri\\Topviewmovies\\ar35motor\\2021_11_02\\Mirror178videoR.avi\n",
      "Duration of video [s]:  11.9 , recorded with  40.0 fps!\n",
      "Overall # of frames:  476  found with (before cropping) frame dimensions:  314 700\n",
      "Starting to extract posture\n"
     ]
    },
    {
     "name": "stderr",
     "output_type": "stream",
     "text": [
      "480it [00:53,  9.03it/s]                                                                                               \n"
     ]
    },
    {
     "name": "stdout",
     "output_type": "stream",
     "text": [
      "Saving results in \\\\dk-server.dk.ucsd.edu\\afassihizakeri\\Topviewmovies\\ar35motor\\2021_11_02...\n",
      "Saving csv poses!\n",
      "Starting to analyze %  \\\\dk-server.dk.ucsd.edu\\afassihizakeri\\Topviewmovies\\ar35motor\\2021_11_02\\Mirror89videoR.avi\n",
      "\\\\dk-server.dk.ucsd.edu\\afassihizakeri\\Topviewmovies\\ar35motor\\2021_11_02  already exists!\n",
      "Loading  \\\\dk-server.dk.ucsd.edu\\afassihizakeri\\Topviewmovies\\ar35motor\\2021_11_02\\Mirror89videoR.avi\n",
      "Duration of video [s]:  12.5 , recorded with  40.0 fps!\n",
      "Overall # of frames:  500  found with (before cropping) frame dimensions:  314 700\n",
      "Starting to extract posture\n"
     ]
    },
    {
     "name": "stderr",
     "output_type": "stream",
     "text": [
      "510it [00:56,  9.09it/s]                                                                                               \n"
     ]
    },
    {
     "name": "stdout",
     "output_type": "stream",
     "text": [
      "Saving results in \\\\dk-server.dk.ucsd.edu\\afassihizakeri\\Topviewmovies\\ar35motor\\2021_11_02...\n",
      "Saving csv poses!\n",
      "Starting to analyze %  \\\\dk-server.dk.ucsd.edu\\afassihizakeri\\Topviewmovies\\ar35motor\\2021_11_02\\Mirror195videoR.avi\n",
      "\\\\dk-server.dk.ucsd.edu\\afassihizakeri\\Topviewmovies\\ar35motor\\2021_11_02  already exists!\n",
      "Loading  \\\\dk-server.dk.ucsd.edu\\afassihizakeri\\Topviewmovies\\ar35motor\\2021_11_02\\Mirror195videoR.avi\n",
      "Duration of video [s]:  12.5 , recorded with  40.0 fps!\n",
      "Overall # of frames:  500  found with (before cropping) frame dimensions:  314 700\n",
      "Starting to extract posture\n"
     ]
    },
    {
     "name": "stderr",
     "output_type": "stream",
     "text": [
      "510it [00:55,  9.16it/s]                                                                                               \n"
     ]
    },
    {
     "name": "stdout",
     "output_type": "stream",
     "text": [
      "Saving results in \\\\dk-server.dk.ucsd.edu\\afassihizakeri\\Topviewmovies\\ar35motor\\2021_11_02...\n",
      "Saving csv poses!\n",
      "Starting to analyze %  \\\\dk-server.dk.ucsd.edu\\afassihizakeri\\Topviewmovies\\ar35motor\\2021_11_02\\Mirror64videoR.avi\n",
      "\\\\dk-server.dk.ucsd.edu\\afassihizakeri\\Topviewmovies\\ar35motor\\2021_11_02  already exists!\n",
      "Loading  \\\\dk-server.dk.ucsd.edu\\afassihizakeri\\Topviewmovies\\ar35motor\\2021_11_02\\Mirror64videoR.avi\n",
      "Duration of video [s]:  11.97 , recorded with  40.0 fps!\n",
      "Overall # of frames:  479  found with (before cropping) frame dimensions:  314 700\n",
      "Starting to extract posture\n"
     ]
    },
    {
     "name": "stderr",
     "output_type": "stream",
     "text": [
      "480it [00:52,  9.07it/s]                                                                                               \n"
     ]
    },
    {
     "name": "stdout",
     "output_type": "stream",
     "text": [
      "Saving results in \\\\dk-server.dk.ucsd.edu\\afassihizakeri\\Topviewmovies\\ar35motor\\2021_11_02...\n",
      "Saving csv poses!\n",
      "Starting to analyze %  \\\\dk-server.dk.ucsd.edu\\afassihizakeri\\Topviewmovies\\ar35motor\\2021_11_02\\Mirror150videoR.avi\n",
      "\\\\dk-server.dk.ucsd.edu\\afassihizakeri\\Topviewmovies\\ar35motor\\2021_11_02  already exists!\n",
      "Loading  \\\\dk-server.dk.ucsd.edu\\afassihizakeri\\Topviewmovies\\ar35motor\\2021_11_02\\Mirror150videoR.avi\n",
      "Duration of video [s]:  4.08 , recorded with  40.0 fps!\n",
      "Overall # of frames:  163  found with (before cropping) frame dimensions:  314 700\n",
      "Starting to extract posture\n"
     ]
    },
    {
     "name": "stderr",
     "output_type": "stream",
     "text": [
      "170it [00:18,  9.16it/s]                                                                                               \n"
     ]
    },
    {
     "name": "stdout",
     "output_type": "stream",
     "text": [
      "Saving results in \\\\dk-server.dk.ucsd.edu\\afassihizakeri\\Topviewmovies\\ar35motor\\2021_11_02...\n",
      "Saving csv poses!\n",
      "Starting to analyze %  \\\\dk-server.dk.ucsd.edu\\afassihizakeri\\Topviewmovies\\ar35motor\\2021_11_02\\Mirror179videoR.avi\n",
      "\\\\dk-server.dk.ucsd.edu\\afassihizakeri\\Topviewmovies\\ar35motor\\2021_11_02  already exists!\n",
      "Loading  \\\\dk-server.dk.ucsd.edu\\afassihizakeri\\Topviewmovies\\ar35motor\\2021_11_02\\Mirror179videoR.avi\n",
      "Duration of video [s]:  10.88 , recorded with  40.0 fps!\n",
      "Overall # of frames:  435  found with (before cropping) frame dimensions:  314 700\n",
      "Starting to extract posture\n"
     ]
    },
    {
     "name": "stderr",
     "output_type": "stream",
     "text": [
      "440it [00:48,  9.01it/s]                                                                                               \n"
     ]
    },
    {
     "name": "stdout",
     "output_type": "stream",
     "text": [
      "Saving results in \\\\dk-server.dk.ucsd.edu\\afassihizakeri\\Topviewmovies\\ar35motor\\2021_11_02...\n",
      "Saving csv poses!\n",
      "Starting to analyze %  \\\\dk-server.dk.ucsd.edu\\afassihizakeri\\Topviewmovies\\ar35motor\\2021_11_02\\Mirror127videoR.avi\n",
      "\\\\dk-server.dk.ucsd.edu\\afassihizakeri\\Topviewmovies\\ar35motor\\2021_11_02  already exists!\n",
      "Loading  \\\\dk-server.dk.ucsd.edu\\afassihizakeri\\Topviewmovies\\ar35motor\\2021_11_02\\Mirror127videoR.avi\n",
      "Duration of video [s]:  12.45 , recorded with  40.0 fps!\n",
      "Overall # of frames:  498  found with (before cropping) frame dimensions:  314 700\n",
      "Starting to extract posture\n"
     ]
    },
    {
     "name": "stderr",
     "output_type": "stream",
     "text": [
      "500it [00:55,  8.95it/s]                                                                                               \n"
     ]
    },
    {
     "name": "stdout",
     "output_type": "stream",
     "text": [
      "Saving results in \\\\dk-server.dk.ucsd.edu\\afassihizakeri\\Topviewmovies\\ar35motor\\2021_11_02...\n",
      "Saving csv poses!\n",
      "Starting to analyze %  \\\\dk-server.dk.ucsd.edu\\afassihizakeri\\Topviewmovies\\ar35motor\\2021_11_02\\Mirror13videoR.avi\n",
      "\\\\dk-server.dk.ucsd.edu\\afassihizakeri\\Topviewmovies\\ar35motor\\2021_11_02  already exists!\n",
      "Loading  \\\\dk-server.dk.ucsd.edu\\afassihizakeri\\Topviewmovies\\ar35motor\\2021_11_02\\Mirror13videoR.avi\n",
      "Duration of video [s]:  12.5 , recorded with  40.0 fps!\n",
      "Overall # of frames:  500  found with (before cropping) frame dimensions:  314 700\n",
      "Starting to extract posture\n"
     ]
    },
    {
     "name": "stderr",
     "output_type": "stream",
     "text": [
      "510it [00:55,  9.17it/s]                                                                                               \n"
     ]
    },
    {
     "name": "stdout",
     "output_type": "stream",
     "text": [
      "Saving results in \\\\dk-server.dk.ucsd.edu\\afassihizakeri\\Topviewmovies\\ar35motor\\2021_11_02...\n",
      "Saving csv poses!\n",
      "Starting to analyze %  \\\\dk-server.dk.ucsd.edu\\afassihizakeri\\Topviewmovies\\ar35motor\\2021_11_02\\Mirror100R.avi\n",
      "\\\\dk-server.dk.ucsd.edu\\afassihizakeri\\Topviewmovies\\ar35motor\\2021_11_02  already exists!\n",
      "Loading  \\\\dk-server.dk.ucsd.edu\\afassihizakeri\\Topviewmovies\\ar35motor\\2021_11_02\\Mirror100R.avi\n",
      "Duration of video [s]:  0.0 , recorded with  40.0 fps!\n",
      "Overall # of frames:  0  found with (before cropping) frame dimensions:  314 700\n",
      "Starting to extract posture\n"
     ]
    },
    {
     "name": "stderr",
     "output_type": "stream",
     "text": [
      "10it [00:00, 1261.71it/s]"
     ]
    },
    {
     "name": "stdout",
     "output_type": "stream",
     "text": [
      "Saving results in \\\\dk-server.dk.ucsd.edu\\afassihizakeri\\Topviewmovies\\ar35motor\\2021_11_02...\n",
      "Saving csv poses!\n",
      "Starting to analyze %  \\\\dk-server.dk.ucsd.edu\\afassihizakeri\\Topviewmovies\\ar35motor\\2021_11_02\\Mirror88videoR.avi\n",
      "\\\\dk-server.dk.ucsd.edu\\afassihizakeri\\Topviewmovies\\ar35motor\\2021_11_02  already exists!\n"
     ]
    },
    {
     "name": "stderr",
     "output_type": "stream",
     "text": [
      "\n"
     ]
    },
    {
     "name": "stdout",
     "output_type": "stream",
     "text": [
      "Loading  \\\\dk-server.dk.ucsd.edu\\afassihizakeri\\Topviewmovies\\ar35motor\\2021_11_02\\Mirror88videoR.avi\n",
      "Duration of video [s]:  11.05 , recorded with  40.0 fps!\n",
      "Overall # of frames:  442  found with (before cropping) frame dimensions:  314 700\n",
      "Starting to extract posture\n"
     ]
    },
    {
     "name": "stderr",
     "output_type": "stream",
     "text": [
      "450it [00:49,  9.05it/s]                                                                                               \n"
     ]
    },
    {
     "name": "stdout",
     "output_type": "stream",
     "text": [
      "Saving results in \\\\dk-server.dk.ucsd.edu\\afassihizakeri\\Topviewmovies\\ar35motor\\2021_11_02...\n",
      "Saving csv poses!\n",
      "Starting to analyze %  \\\\dk-server.dk.ucsd.edu\\afassihizakeri\\Topviewmovies\\ar35motor\\2021_11_02\\Mirror194videoR.avi\n",
      "\\\\dk-server.dk.ucsd.edu\\afassihizakeri\\Topviewmovies\\ar35motor\\2021_11_02  already exists!\n",
      "Loading  \\\\dk-server.dk.ucsd.edu\\afassihizakeri\\Topviewmovies\\ar35motor\\2021_11_02\\Mirror194videoR.avi\n",
      "Duration of video [s]:  5.92 , recorded with  40.0 fps!\n",
      "Overall # of frames:  237  found with (before cropping) frame dimensions:  314 700\n",
      "Starting to extract posture\n"
     ]
    },
    {
     "name": "stderr",
     "output_type": "stream",
     "text": [
      "240it [00:26,  9.05it/s]                                                                                               \n"
     ]
    },
    {
     "name": "stdout",
     "output_type": "stream",
     "text": [
      "Saving results in \\\\dk-server.dk.ucsd.edu\\afassihizakeri\\Topviewmovies\\ar35motor\\2021_11_02...\n",
      "Saving csv poses!\n",
      "Starting to analyze %  \\\\dk-server.dk.ucsd.edu\\afassihizakeri\\Topviewmovies\\ar35motor\\2021_11_02\\Mirror151videoR.avi\n",
      "\\\\dk-server.dk.ucsd.edu\\afassihizakeri\\Topviewmovies\\ar35motor\\2021_11_02  already exists!\n",
      "Loading  \\\\dk-server.dk.ucsd.edu\\afassihizakeri\\Topviewmovies\\ar35motor\\2021_11_02\\Mirror151videoR.avi\n",
      "Duration of video [s]:  11.93 , recorded with  40.0 fps!\n",
      "Overall # of frames:  477  found with (before cropping) frame dimensions:  314 700\n",
      "Starting to extract posture\n"
     ]
    },
    {
     "name": "stderr",
     "output_type": "stream",
     "text": [
      "480it [00:52,  9.09it/s]                                                                                               \n"
     ]
    },
    {
     "name": "stdout",
     "output_type": "stream",
     "text": [
      "Saving results in \\\\dk-server.dk.ucsd.edu\\afassihizakeri\\Topviewmovies\\ar35motor\\2021_11_02...\n",
      "Saving csv poses!\n",
      "Starting to analyze %  \\\\dk-server.dk.ucsd.edu\\afassihizakeri\\Topviewmovies\\ar35motor\\2021_11_02\\Mirror65videoR.avi\n",
      "\\\\dk-server.dk.ucsd.edu\\afassihizakeri\\Topviewmovies\\ar35motor\\2021_11_02  already exists!\n",
      "Loading  \\\\dk-server.dk.ucsd.edu\\afassihizakeri\\Topviewmovies\\ar35motor\\2021_11_02\\Mirror65videoR.avi\n",
      "Duration of video [s]:  11.72 , recorded with  40.0 fps!\n",
      "Overall # of frames:  469  found with (before cropping) frame dimensions:  314 700\n",
      "Starting to extract posture\n"
     ]
    },
    {
     "name": "stderr",
     "output_type": "stream",
     "text": [
      "470it [00:52,  8.99it/s]                                                                                               \n"
     ]
    },
    {
     "name": "stdout",
     "output_type": "stream",
     "text": [
      "Saving results in \\\\dk-server.dk.ucsd.edu\\afassihizakeri\\Topviewmovies\\ar35motor\\2021_11_02...\n",
      "Saving csv poses!\n",
      "Starting to analyze %  \\\\dk-server.dk.ucsd.edu\\afassihizakeri\\Topviewmovies\\ar35motor\\2021_11_02\\Mirror10videoR.avi\n",
      "\\\\dk-server.dk.ucsd.edu\\afassihizakeri\\Topviewmovies\\ar35motor\\2021_11_02  already exists!\n",
      "Loading  \\\\dk-server.dk.ucsd.edu\\afassihizakeri\\Topviewmovies\\ar35motor\\2021_11_02\\Mirror10videoR.avi\n",
      "Duration of video [s]:  11.07 , recorded with  40.0 fps!\n",
      "Overall # of frames:  443  found with (before cropping) frame dimensions:  314 700\n",
      "Starting to extract posture\n"
     ]
    },
    {
     "name": "stderr",
     "output_type": "stream",
     "text": [
      "450it [00:49,  9.10it/s]                                                                                               \n"
     ]
    },
    {
     "name": "stdout",
     "output_type": "stream",
     "text": [
      "Saving results in \\\\dk-server.dk.ucsd.edu\\afassihizakeri\\Topviewmovies\\ar35motor\\2021_11_02...\n",
      "Saving csv poses!\n",
      "Starting to analyze %  \\\\dk-server.dk.ucsd.edu\\afassihizakeri\\Topviewmovies\\ar35motor\\2021_11_02\\Mirror124videoR.avi\n",
      "\\\\dk-server.dk.ucsd.edu\\afassihizakeri\\Topviewmovies\\ar35motor\\2021_11_02  already exists!\n",
      "Loading  \\\\dk-server.dk.ucsd.edu\\afassihizakeri\\Topviewmovies\\ar35motor\\2021_11_02\\Mirror124videoR.avi\n",
      "Duration of video [s]:  12.25 , recorded with  40.0 fps!\n",
      "Overall # of frames:  490  found with (before cropping) frame dimensions:  314 700\n",
      "Starting to extract posture\n"
     ]
    },
    {
     "name": "stderr",
     "output_type": "stream",
     "text": [
      "500it [00:54,  9.14it/s]                                                                                               \n"
     ]
    },
    {
     "name": "stdout",
     "output_type": "stream",
     "text": [
      "Saving results in \\\\dk-server.dk.ucsd.edu\\afassihizakeri\\Topviewmovies\\ar35motor\\2021_11_02...\n",
      "Saving csv poses!\n",
      "Starting to analyze %  \\\\dk-server.dk.ucsd.edu\\afassihizakeri\\Topviewmovies\\ar35motor\\2021_11_02\\Mirror38videoR.avi\n",
      "\\\\dk-server.dk.ucsd.edu\\afassihizakeri\\Topviewmovies\\ar35motor\\2021_11_02  already exists!\n",
      "Loading  \\\\dk-server.dk.ucsd.edu\\afassihizakeri\\Topviewmovies\\ar35motor\\2021_11_02\\Mirror38videoR.avi\n",
      "Duration of video [s]:  11.07 , recorded with  40.0 fps!\n",
      "Overall # of frames:  443  found with (before cropping) frame dimensions:  314 700\n",
      "Starting to extract posture\n"
     ]
    },
    {
     "name": "stderr",
     "output_type": "stream",
     "text": [
      "450it [00:49,  9.04it/s]                                                                                               \n"
     ]
    },
    {
     "name": "stdout",
     "output_type": "stream",
     "text": [
      "Saving results in \\\\dk-server.dk.ucsd.edu\\afassihizakeri\\Topviewmovies\\ar35motor\\2021_11_02...\n",
      "Saving csv poses!\n",
      "Starting to analyze %  \\\\dk-server.dk.ucsd.edu\\afassihizakeri\\Topviewmovies\\ar35motor\\2021_11_02\\Mirror66videoR.avi\n",
      "\\\\dk-server.dk.ucsd.edu\\afassihizakeri\\Topviewmovies\\ar35motor\\2021_11_02  already exists!\n",
      "Loading  \\\\dk-server.dk.ucsd.edu\\afassihizakeri\\Topviewmovies\\ar35motor\\2021_11_02\\Mirror66videoR.avi\n",
      "Duration of video [s]:  7.7 , recorded with  40.0 fps!\n",
      "Overall # of frames:  308  found with (before cropping) frame dimensions:  314 700\n",
      "Starting to extract posture\n"
     ]
    },
    {
     "name": "stderr",
     "output_type": "stream",
     "text": [
      "310it [00:34,  8.98it/s]                                                                                               \n"
     ]
    },
    {
     "name": "stdout",
     "output_type": "stream",
     "text": [
      "Saving results in \\\\dk-server.dk.ucsd.edu\\afassihizakeri\\Topviewmovies\\ar35motor\\2021_11_02...\n",
      "Saving csv poses!\n",
      "Starting to analyze %  \\\\dk-server.dk.ucsd.edu\\afassihizakeri\\Topviewmovies\\ar35motor\\2021_11_02\\Mirror152videoR.avi\n",
      "\\\\dk-server.dk.ucsd.edu\\afassihizakeri\\Topviewmovies\\ar35motor\\2021_11_02  already exists!\n",
      "Loading  \\\\dk-server.dk.ucsd.edu\\afassihizakeri\\Topviewmovies\\ar35motor\\2021_11_02\\Mirror152videoR.avi\n",
      "Duration of video [s]:  3.88 , recorded with  40.0 fps!\n",
      "Overall # of frames:  155  found with (before cropping) frame dimensions:  314 700\n",
      "Starting to extract posture\n"
     ]
    },
    {
     "name": "stderr",
     "output_type": "stream",
     "text": [
      "160it [00:17,  9.00it/s]                                                                                               \n"
     ]
    },
    {
     "name": "stdout",
     "output_type": "stream",
     "text": [
      "Saving results in \\\\dk-server.dk.ucsd.edu\\afassihizakeri\\Topviewmovies\\ar35motor\\2021_11_02...\n",
      "Saving csv poses!\n",
      "Starting to analyze %  \\\\dk-server.dk.ucsd.edu\\afassihizakeri\\Topviewmovies\\ar35motor\\2021_11_02\\Mirror197videoR.avi\n",
      "\\\\dk-server.dk.ucsd.edu\\afassihizakeri\\Topviewmovies\\ar35motor\\2021_11_02  already exists!\n",
      "Loading  \\\\dk-server.dk.ucsd.edu\\afassihizakeri\\Topviewmovies\\ar35motor\\2021_11_02\\Mirror197videoR.avi\n",
      "Duration of video [s]:  12.5 , recorded with  40.0 fps!\n",
      "Overall # of frames:  500  found with (before cropping) frame dimensions:  314 700\n",
      "Starting to extract posture\n"
     ]
    },
    {
     "name": "stderr",
     "output_type": "stream",
     "text": [
      "510it [00:55,  9.13it/s]                                                                                               \n"
     ]
    },
    {
     "name": "stdout",
     "output_type": "stream",
     "text": [
      "Saving results in \\\\dk-server.dk.ucsd.edu\\afassihizakeri\\Topviewmovies\\ar35motor\\2021_11_02...\n",
      "Saving csv poses!\n",
      "Starting to analyze %  \\\\dk-server.dk.ucsd.edu\\afassihizakeri\\Topviewmovies\\ar35motor\\2021_11_02\\Mirror125videoR.avi\n",
      "\\\\dk-server.dk.ucsd.edu\\afassihizakeri\\Topviewmovies\\ar35motor\\2021_11_02  already exists!\n",
      "Loading  \\\\dk-server.dk.ucsd.edu\\afassihizakeri\\Topviewmovies\\ar35motor\\2021_11_02\\Mirror125videoR.avi\n",
      "Duration of video [s]:  12.5 , recorded with  40.0 fps!\n",
      "Overall # of frames:  500  found with (before cropping) frame dimensions:  314 700\n",
      "Starting to extract posture\n"
     ]
    },
    {
     "name": "stderr",
     "output_type": "stream",
     "text": [
      "510it [00:55,  9.12it/s]                                                                                               \n"
     ]
    },
    {
     "name": "stdout",
     "output_type": "stream",
     "text": [
      "Saving results in \\\\dk-server.dk.ucsd.edu\\afassihizakeri\\Topviewmovies\\ar35motor\\2021_11_02...\n",
      "Saving csv poses!\n",
      "Starting to analyze %  \\\\dk-server.dk.ucsd.edu\\afassihizakeri\\Topviewmovies\\ar35motor\\2021_11_02\\Mirror11videoR.avi\n",
      "\\\\dk-server.dk.ucsd.edu\\afassihizakeri\\Topviewmovies\\ar35motor\\2021_11_02  already exists!\n",
      "Loading  \\\\dk-server.dk.ucsd.edu\\afassihizakeri\\Topviewmovies\\ar35motor\\2021_11_02\\Mirror11videoR.avi\n",
      "Duration of video [s]:  12.12 , recorded with  40.0 fps!\n",
      "Overall # of frames:  485  found with (before cropping) frame dimensions:  314 700\n",
      "Starting to extract posture\n"
     ]
    },
    {
     "name": "stderr",
     "output_type": "stream",
     "text": [
      "490it [00:54,  9.04it/s]                                                                                               \n"
     ]
    },
    {
     "name": "stdout",
     "output_type": "stream",
     "text": [
      "Saving results in \\\\dk-server.dk.ucsd.edu\\afassihizakeri\\Topviewmovies\\ar35motor\\2021_11_02...\n",
      "Saving csv poses!\n",
      "Starting to analyze %  \\\\dk-server.dk.ucsd.edu\\afassihizakeri\\Topviewmovies\\ar35motor\\2021_11_02\\Mirror153videoR.avi\n",
      "\\\\dk-server.dk.ucsd.edu\\afassihizakeri\\Topviewmovies\\ar35motor\\2021_11_02  already exists!\n",
      "Loading  \\\\dk-server.dk.ucsd.edu\\afassihizakeri\\Topviewmovies\\ar35motor\\2021_11_02\\Mirror153videoR.avi\n",
      "Duration of video [s]:  11.47 , recorded with  40.0 fps!\n",
      "Overall # of frames:  459  found with (before cropping) frame dimensions:  314 700\n",
      "Starting to extract posture\n"
     ]
    },
    {
     "name": "stderr",
     "output_type": "stream",
     "text": [
      "460it [00:51,  8.91it/s]                                                                                               \n"
     ]
    },
    {
     "name": "stdout",
     "output_type": "stream",
     "text": [
      "Saving results in \\\\dk-server.dk.ucsd.edu\\afassihizakeri\\Topviewmovies\\ar35motor\\2021_11_02...\n",
      "Saving csv poses!\n",
      "Starting to analyze %  \\\\dk-server.dk.ucsd.edu\\afassihizakeri\\Topviewmovies\\ar35motor\\2021_11_02\\Mirror67videoR.avi\n",
      "\\\\dk-server.dk.ucsd.edu\\afassihizakeri\\Topviewmovies\\ar35motor\\2021_11_02  already exists!\n",
      "Loading  \\\\dk-server.dk.ucsd.edu\\afassihizakeri\\Topviewmovies\\ar35motor\\2021_11_02\\Mirror67videoR.avi\n",
      "Duration of video [s]:  7.97 , recorded with  40.0 fps!\n",
      "Overall # of frames:  319  found with (before cropping) frame dimensions:  314 700\n",
      "Starting to extract posture\n"
     ]
    },
    {
     "name": "stderr",
     "output_type": "stream",
     "text": [
      "320it [00:35,  9.01it/s]                                                                                               \n"
     ]
    },
    {
     "name": "stdout",
     "output_type": "stream",
     "text": [
      "Saving results in \\\\dk-server.dk.ucsd.edu\\afassihizakeri\\Topviewmovies\\ar35motor\\2021_11_02...\n",
      "Saving csv poses!\n",
      "Starting to analyze %  \\\\dk-server.dk.ucsd.edu\\afassihizakeri\\Topviewmovies\\ar35motor\\2021_11_02\\Mirror39videoR.avi\n",
      "\\\\dk-server.dk.ucsd.edu\\afassihizakeri\\Topviewmovies\\ar35motor\\2021_11_02  already exists!\n",
      "Loading  \\\\dk-server.dk.ucsd.edu\\afassihizakeri\\Topviewmovies\\ar35motor\\2021_11_02\\Mirror39videoR.avi\n",
      "Duration of video [s]:  12.03 , recorded with  40.0 fps!\n",
      "Overall # of frames:  481  found with (before cropping) frame dimensions:  314 700\n",
      "Starting to extract posture\n"
     ]
    },
    {
     "name": "stderr",
     "output_type": "stream",
     "text": [
      "490it [00:53,  9.08it/s]                                                                                               \n"
     ]
    },
    {
     "name": "stdout",
     "output_type": "stream",
     "text": [
      "Saving results in \\\\dk-server.dk.ucsd.edu\\afassihizakeri\\Topviewmovies\\ar35motor\\2021_11_02...\n",
      "Saving csv poses!\n",
      "Starting to analyze %  \\\\dk-server.dk.ucsd.edu\\afassihizakeri\\Topviewmovies\\ar35motor\\2021_11_02\\Mirror196videoR.avi\n",
      "\\\\dk-server.dk.ucsd.edu\\afassihizakeri\\Topviewmovies\\ar35motor\\2021_11_02  already exists!\n",
      "Loading  \\\\dk-server.dk.ucsd.edu\\afassihizakeri\\Topviewmovies\\ar35motor\\2021_11_02\\Mirror196videoR.avi\n",
      "Duration of video [s]:  12.28 , recorded with  40.0 fps!\n",
      "Overall # of frames:  491  found with (before cropping) frame dimensions:  314 700\n",
      "Starting to extract posture\n"
     ]
    },
    {
     "name": "stderr",
     "output_type": "stream",
     "text": [
      "500it [00:54,  9.11it/s]                                                                                               \n"
     ]
    },
    {
     "name": "stdout",
     "output_type": "stream",
     "text": [
      "Saving results in \\\\dk-server.dk.ucsd.edu\\afassihizakeri\\Topviewmovies\\ar35motor\\2021_11_02...\n",
      "Saving csv poses!\n",
      "Starting to analyze %  \\\\dk-server.dk.ucsd.edu\\afassihizakeri\\Topviewmovies\\ar35motor\\2021_11_02\\Mirror154videoR.avi\n",
      "\\\\dk-server.dk.ucsd.edu\\afassihizakeri\\Topviewmovies\\ar35motor\\2021_11_02  already exists!\n",
      "Loading  \\\\dk-server.dk.ucsd.edu\\afassihizakeri\\Topviewmovies\\ar35motor\\2021_11_02\\Mirror154videoR.avi\n",
      "Duration of video [s]:  12.35 , recorded with  40.0 fps!\n",
      "Overall # of frames:  494  found with (before cropping) frame dimensions:  314 700\n",
      "Starting to extract posture\n"
     ]
    },
    {
     "name": "stderr",
     "output_type": "stream",
     "text": [
      "500it [00:54,  9.10it/s]                                                                                               \n"
     ]
    },
    {
     "name": "stdout",
     "output_type": "stream",
     "text": [
      "Saving results in \\\\dk-server.dk.ucsd.edu\\afassihizakeri\\Topviewmovies\\ar35motor\\2021_11_02...\n",
      "Saving csv poses!\n",
      "Starting to analyze %  \\\\dk-server.dk.ucsd.edu\\afassihizakeri\\Topviewmovies\\ar35motor\\2021_11_02\\Mirror60videoR.avi\n",
      "\\\\dk-server.dk.ucsd.edu\\afassihizakeri\\Topviewmovies\\ar35motor\\2021_11_02  already exists!\n",
      "Loading  \\\\dk-server.dk.ucsd.edu\\afassihizakeri\\Topviewmovies\\ar35motor\\2021_11_02\\Mirror60videoR.avi\n",
      "Duration of video [s]:  12.12 , recorded with  40.0 fps!\n",
      "Overall # of frames:  485  found with (before cropping) frame dimensions:  314 700\n",
      "Starting to extract posture\n"
     ]
    },
    {
     "name": "stderr",
     "output_type": "stream",
     "text": [
      "490it [00:54,  9.01it/s]                                                                                               \n"
     ]
    },
    {
     "name": "stdout",
     "output_type": "stream",
     "text": [
      "Saving results in \\\\dk-server.dk.ucsd.edu\\afassihizakeri\\Topviewmovies\\ar35motor\\2021_11_02...\n",
      "Saving csv poses!\n",
      "Starting to analyze %  \\\\dk-server.dk.ucsd.edu\\afassihizakeri\\Topviewmovies\\ar35motor\\2021_11_02\\Mirror191videoR.avi\n",
      "\\\\dk-server.dk.ucsd.edu\\afassihizakeri\\Topviewmovies\\ar35motor\\2021_11_02  already exists!\n",
      "Loading  \\\\dk-server.dk.ucsd.edu\\afassihizakeri\\Topviewmovies\\ar35motor\\2021_11_02\\Mirror191videoR.avi\n",
      "Duration of video [s]:  12.47 , recorded with  40.0 fps!\n",
      "Overall # of frames:  499  found with (before cropping) frame dimensions:  314 700\n",
      "Starting to extract posture\n"
     ]
    },
    {
     "name": "stderr",
     "output_type": "stream",
     "text": [
      "500it [00:55,  8.95it/s]                                                                                               \n"
     ]
    },
    {
     "name": "stdout",
     "output_type": "stream",
     "text": [
      "Saving results in \\\\dk-server.dk.ucsd.edu\\afassihizakeri\\Topviewmovies\\ar35motor\\2021_11_02...\n",
      "Saving csv poses!\n",
      "Starting to analyze %  \\\\dk-server.dk.ucsd.edu\\afassihizakeri\\Topviewmovies\\ar35motor\\2021_11_02\\Mirror122videoR.avi\n",
      "\\\\dk-server.dk.ucsd.edu\\afassihizakeri\\Topviewmovies\\ar35motor\\2021_11_02  already exists!\n",
      "Loading  \\\\dk-server.dk.ucsd.edu\\afassihizakeri\\Topviewmovies\\ar35motor\\2021_11_02\\Mirror122videoR.avi\n",
      "Duration of video [s]:  12.43 , recorded with  40.0 fps!\n",
      "Overall # of frames:  497  found with (before cropping) frame dimensions:  314 700\n",
      "Starting to extract posture\n"
     ]
    },
    {
     "name": "stderr",
     "output_type": "stream",
     "text": [
      "500it [00:55,  9.01it/s]                                                                                               \n"
     ]
    },
    {
     "name": "stdout",
     "output_type": "stream",
     "text": [
      "Saving results in \\\\dk-server.dk.ucsd.edu\\afassihizakeri\\Topviewmovies\\ar35motor\\2021_11_02...\n",
      "Saving csv poses!\n",
      "Starting to analyze %  \\\\dk-server.dk.ucsd.edu\\afassihizakeri\\Topviewmovies\\ar35motor\\2021_11_02\\Mirror16videoR.avi\n",
      "\\\\dk-server.dk.ucsd.edu\\afassihizakeri\\Topviewmovies\\ar35motor\\2021_11_02  already exists!\n",
      "Loading  \\\\dk-server.dk.ucsd.edu\\afassihizakeri\\Topviewmovies\\ar35motor\\2021_11_02\\Mirror16videoR.avi\n",
      "Duration of video [s]:  11.28 , recorded with  40.0 fps!\n",
      "Overall # of frames:  451  found with (before cropping) frame dimensions:  314 700\n",
      "Starting to extract posture\n"
     ]
    },
    {
     "name": "stderr",
     "output_type": "stream",
     "text": [
      "460it [00:50,  9.18it/s]                                                                                               \n"
     ]
    },
    {
     "name": "stdout",
     "output_type": "stream",
     "text": [
      "Saving results in \\\\dk-server.dk.ucsd.edu\\afassihizakeri\\Topviewmovies\\ar35motor\\2021_11_02...\n",
      "Saving csv poses!\n",
      "Starting to analyze %  \\\\dk-server.dk.ucsd.edu\\afassihizakeri\\Topviewmovies\\ar35motor\\2021_11_02\\Mirror48videoR.avi\n",
      "\\\\dk-server.dk.ucsd.edu\\afassihizakeri\\Topviewmovies\\ar35motor\\2021_11_02  already exists!\n",
      "Loading  \\\\dk-server.dk.ucsd.edu\\afassihizakeri\\Topviewmovies\\ar35motor\\2021_11_02\\Mirror48videoR.avi\n",
      "Duration of video [s]:  10.97 , recorded with  40.0 fps!\n",
      "Overall # of frames:  439  found with (before cropping) frame dimensions:  314 700\n",
      "Starting to extract posture\n"
     ]
    },
    {
     "name": "stderr",
     "output_type": "stream",
     "text": [
      "440it [00:48,  9.05it/s]                                                                                               \n"
     ]
    },
    {
     "name": "stdout",
     "output_type": "stream",
     "text": [
      "Saving results in \\\\dk-server.dk.ucsd.edu\\afassihizakeri\\Topviewmovies\\ar35motor\\2021_11_02...\n",
      "Saving csv poses!\n",
      "Starting to analyze %  \\\\dk-server.dk.ucsd.edu\\afassihizakeri\\Topviewmovies\\ar35motor\\2021_11_02\\Mirror61videoR.avi\n",
      "\\\\dk-server.dk.ucsd.edu\\afassihizakeri\\Topviewmovies\\ar35motor\\2021_11_02  already exists!\n",
      "Loading  \\\\dk-server.dk.ucsd.edu\\afassihizakeri\\Topviewmovies\\ar35motor\\2021_11_02\\Mirror61videoR.avi\n",
      "Duration of video [s]:  12.5 , recorded with  40.0 fps!\n",
      "Overall # of frames:  500  found with (before cropping) frame dimensions:  314 700\n",
      "Starting to extract posture\n"
     ]
    },
    {
     "name": "stderr",
     "output_type": "stream",
     "text": [
      "510it [00:55,  9.20it/s]                                                                                               \n"
     ]
    },
    {
     "name": "stdout",
     "output_type": "stream",
     "text": [
      "Saving results in \\\\dk-server.dk.ucsd.edu\\afassihizakeri\\Topviewmovies\\ar35motor\\2021_11_02...\n",
      "Saving csv poses!\n",
      "Starting to analyze %  \\\\dk-server.dk.ucsd.edu\\afassihizakeri\\Topviewmovies\\ar35motor\\2021_11_02\\Mirror155videoR.avi\n",
      "\\\\dk-server.dk.ucsd.edu\\afassihizakeri\\Topviewmovies\\ar35motor\\2021_11_02  already exists!\n",
      "Loading  \\\\dk-server.dk.ucsd.edu\\afassihizakeri\\Topviewmovies\\ar35motor\\2021_11_02\\Mirror155videoR.avi\n",
      "Duration of video [s]:  12.5 , recorded with  40.0 fps!\n",
      "Overall # of frames:  500  found with (before cropping) frame dimensions:  314 700\n",
      "Starting to extract posture\n"
     ]
    },
    {
     "name": "stderr",
     "output_type": "stream",
     "text": [
      "510it [00:55,  9.17it/s]                                                                                               \n"
     ]
    },
    {
     "name": "stdout",
     "output_type": "stream",
     "text": [
      "Saving results in \\\\dk-server.dk.ucsd.edu\\afassihizakeri\\Topviewmovies\\ar35motor\\2021_11_02...\n",
      "Saving csv poses!\n",
      "Starting to analyze %  \\\\dk-server.dk.ucsd.edu\\afassihizakeri\\Topviewmovies\\ar35motor\\2021_11_02\\Mirror190videoR.avi\n",
      "\\\\dk-server.dk.ucsd.edu\\afassihizakeri\\Topviewmovies\\ar35motor\\2021_11_02  already exists!\n",
      "Loading  \\\\dk-server.dk.ucsd.edu\\afassihizakeri\\Topviewmovies\\ar35motor\\2021_11_02\\Mirror190videoR.avi\n",
      "Duration of video [s]:  12.5 , recorded with  40.0 fps!\n",
      "Overall # of frames:  500  found with (before cropping) frame dimensions:  314 700\n",
      "Starting to extract posture\n"
     ]
    },
    {
     "name": "stderr",
     "output_type": "stream",
     "text": [
      "510it [00:55,  9.18it/s]                                                                                               \n"
     ]
    },
    {
     "name": "stdout",
     "output_type": "stream",
     "text": [
      "Saving results in \\\\dk-server.dk.ucsd.edu\\afassihizakeri\\Topviewmovies\\ar35motor\\2021_11_02...\n",
      "Saving csv poses!\n",
      "Starting to analyze %  \\\\dk-server.dk.ucsd.edu\\afassihizakeri\\Topviewmovies\\ar35motor\\2021_11_02\\Mirror49videoR.avi\n",
      "\\\\dk-server.dk.ucsd.edu\\afassihizakeri\\Topviewmovies\\ar35motor\\2021_11_02  already exists!\n",
      "Loading  \\\\dk-server.dk.ucsd.edu\\afassihizakeri\\Topviewmovies\\ar35motor\\2021_11_02\\Mirror49videoR.avi\n",
      "Duration of video [s]:  10.9 , recorded with  40.0 fps!\n",
      "Overall # of frames:  436  found with (before cropping) frame dimensions:  314 700\n",
      "Starting to extract posture\n"
     ]
    },
    {
     "name": "stderr",
     "output_type": "stream",
     "text": [
      "440it [00:49,  8.95it/s]                                                                                               \n"
     ]
    },
    {
     "name": "stdout",
     "output_type": "stream",
     "text": [
      "Saving results in \\\\dk-server.dk.ucsd.edu\\afassihizakeri\\Topviewmovies\\ar35motor\\2021_11_02...\n",
      "Saving csv poses!\n",
      "Starting to analyze %  \\\\dk-server.dk.ucsd.edu\\afassihizakeri\\Topviewmovies\\ar35motor\\2021_11_02\\Mirror17videoR.avi\n",
      "\\\\dk-server.dk.ucsd.edu\\afassihizakeri\\Topviewmovies\\ar35motor\\2021_11_02  already exists!\n",
      "Loading  \\\\dk-server.dk.ucsd.edu\\afassihizakeri\\Topviewmovies\\ar35motor\\2021_11_02\\Mirror17videoR.avi\n",
      "Duration of video [s]:  11.78 , recorded with  40.0 fps!\n",
      "Overall # of frames:  471  found with (before cropping) frame dimensions:  314 700\n",
      "Starting to extract posture\n"
     ]
    },
    {
     "name": "stderr",
     "output_type": "stream",
     "text": [
      "480it [00:52,  9.17it/s]                                                                                               \n"
     ]
    },
    {
     "name": "stdout",
     "output_type": "stream",
     "text": [
      "Saving results in \\\\dk-server.dk.ucsd.edu\\afassihizakeri\\Topviewmovies\\ar35motor\\2021_11_02...\n",
      "Saving csv poses!\n",
      "Starting to analyze %  \\\\dk-server.dk.ucsd.edu\\afassihizakeri\\Topviewmovies\\ar35motor\\2021_11_02\\Mirror123videoR.avi\n",
      "\\\\dk-server.dk.ucsd.edu\\afassihizakeri\\Topviewmovies\\ar35motor\\2021_11_02  already exists!\n",
      "Loading  \\\\dk-server.dk.ucsd.edu\\afassihizakeri\\Topviewmovies\\ar35motor\\2021_11_02\\Mirror123videoR.avi\n",
      "Duration of video [s]:  12.5 , recorded with  40.0 fps!\n",
      "Overall # of frames:  500  found with (before cropping) frame dimensions:  314 700\n",
      "Starting to extract posture\n"
     ]
    },
    {
     "name": "stderr",
     "output_type": "stream",
     "text": [
      "510it [00:55,  9.21it/s]                                                                                               \n"
     ]
    },
    {
     "name": "stdout",
     "output_type": "stream",
     "text": [
      "Saving results in \\\\dk-server.dk.ucsd.edu\\afassihizakeri\\Topviewmovies\\ar35motor\\2021_11_02...\n",
      "Saving csv poses!\n",
      "Starting to analyze %  \\\\dk-server.dk.ucsd.edu\\afassihizakeri\\Topviewmovies\\ar35motor\\2021_11_02\\Mirror193videoR.avi\n",
      "\\\\dk-server.dk.ucsd.edu\\afassihizakeri\\Topviewmovies\\ar35motor\\2021_11_02  already exists!\n",
      "Loading  \\\\dk-server.dk.ucsd.edu\\afassihizakeri\\Topviewmovies\\ar35motor\\2021_11_02\\Mirror193videoR.avi\n",
      "Duration of video [s]:  0.0 , recorded with  40.0 fps!\n",
      "Overall # of frames:  0  found with (before cropping) frame dimensions:  314 700\n",
      "Starting to extract posture\n"
     ]
    },
    {
     "name": "stderr",
     "output_type": "stream",
     "text": [
      "10it [00:00, 1434.98it/s]"
     ]
    },
    {
     "name": "stdout",
     "output_type": "stream",
     "text": [
      "Saving results in \\\\dk-server.dk.ucsd.edu\\afassihizakeri\\Topviewmovies\\ar35motor\\2021_11_02...\n",
      "Saving csv poses!\n",
      "Starting to analyze %  \\\\dk-server.dk.ucsd.edu\\afassihizakeri\\Topviewmovies\\ar35motor\\2021_11_02\\Mirror108videoR.avi\n",
      "\\\\dk-server.dk.ucsd.edu\\afassihizakeri\\Topviewmovies\\ar35motor\\2021_11_02  already exists!\n"
     ]
    },
    {
     "name": "stderr",
     "output_type": "stream",
     "text": [
      "\n"
     ]
    },
    {
     "name": "stdout",
     "output_type": "stream",
     "text": [
      "Loading  \\\\dk-server.dk.ucsd.edu\\afassihizakeri\\Topviewmovies\\ar35motor\\2021_11_02\\Mirror108videoR.avi\n",
      "Duration of video [s]:  3.88 , recorded with  40.0 fps!\n",
      "Overall # of frames:  155  found with (before cropping) frame dimensions:  314 700\n",
      "Starting to extract posture\n"
     ]
    },
    {
     "name": "stderr",
     "output_type": "stream",
     "text": [
      "160it [00:17,  9.04it/s]                                                                                               \n"
     ]
    },
    {
     "name": "stdout",
     "output_type": "stream",
     "text": [
      "Saving results in \\\\dk-server.dk.ucsd.edu\\afassihizakeri\\Topviewmovies\\ar35motor\\2021_11_02...\n",
      "Saving csv poses!\n",
      "Starting to analyze %  \\\\dk-server.dk.ucsd.edu\\afassihizakeri\\Topviewmovies\\ar35motor\\2021_11_02\\Mirror156videoR.avi\n",
      "\\\\dk-server.dk.ucsd.edu\\afassihizakeri\\Topviewmovies\\ar35motor\\2021_11_02  already exists!\n",
      "Loading  \\\\dk-server.dk.ucsd.edu\\afassihizakeri\\Topviewmovies\\ar35motor\\2021_11_02\\Mirror156videoR.avi\n",
      "Duration of video [s]:  12.5 , recorded with  40.0 fps!\n",
      "Overall # of frames:  500  found with (before cropping) frame dimensions:  314 700\n",
      "Starting to extract posture\n"
     ]
    },
    {
     "name": "stderr",
     "output_type": "stream",
     "text": [
      "510it [00:55,  9.13it/s]                                                                                               \n"
     ]
    },
    {
     "name": "stdout",
     "output_type": "stream",
     "text": [
      "Saving results in \\\\dk-server.dk.ucsd.edu\\afassihizakeri\\Topviewmovies\\ar35motor\\2021_11_02...\n",
      "Saving csv poses!\n",
      "Starting to analyze %  \\\\dk-server.dk.ucsd.edu\\afassihizakeri\\Topviewmovies\\ar35motor\\2021_11_02\\Mirror62videoR.avi\n",
      "\\\\dk-server.dk.ucsd.edu\\afassihizakeri\\Topviewmovies\\ar35motor\\2021_11_02  already exists!\n",
      "Loading  \\\\dk-server.dk.ucsd.edu\\afassihizakeri\\Topviewmovies\\ar35motor\\2021_11_02\\Mirror62videoR.avi\n",
      "Duration of video [s]:  12.43 , recorded with  40.0 fps!\n",
      "Overall # of frames:  497  found with (before cropping) frame dimensions:  314 700\n",
      "Starting to extract posture\n"
     ]
    },
    {
     "name": "stderr",
     "output_type": "stream",
     "text": [
      "500it [00:55,  8.97it/s]                                                                                               \n"
     ]
    },
    {
     "name": "stdout",
     "output_type": "stream",
     "text": [
      "Saving results in \\\\dk-server.dk.ucsd.edu\\afassihizakeri\\Topviewmovies\\ar35motor\\2021_11_02...\n",
      "Saving csv poses!\n",
      "Starting to analyze %  \\\\dk-server.dk.ucsd.edu\\afassihizakeri\\Topviewmovies\\ar35motor\\2021_11_02\\Mirror120videoR.avi\n",
      "\\\\dk-server.dk.ucsd.edu\\afassihizakeri\\Topviewmovies\\ar35motor\\2021_11_02  already exists!\n",
      "Loading  \\\\dk-server.dk.ucsd.edu\\afassihizakeri\\Topviewmovies\\ar35motor\\2021_11_02\\Mirror120videoR.avi\n",
      "Duration of video [s]:  12.5 , recorded with  40.0 fps!\n",
      "Overall # of frames:  500  found with (before cropping) frame dimensions:  314 700\n",
      "Starting to extract posture\n"
     ]
    },
    {
     "name": "stderr",
     "output_type": "stream",
     "text": [
      "510it [00:55,  9.11it/s]                                                                                               \n"
     ]
    },
    {
     "name": "stdout",
     "output_type": "stream",
     "text": [
      "Saving results in \\\\dk-server.dk.ucsd.edu\\afassihizakeri\\Topviewmovies\\ar35motor\\2021_11_02...\n",
      "Saving csv poses!\n",
      "Starting to analyze %  \\\\dk-server.dk.ucsd.edu\\afassihizakeri\\Topviewmovies\\ar35motor\\2021_11_02\\Mirror14videoR.avi\n",
      "\\\\dk-server.dk.ucsd.edu\\afassihizakeri\\Topviewmovies\\ar35motor\\2021_11_02  already exists!\n",
      "Loading  \\\\dk-server.dk.ucsd.edu\\afassihizakeri\\Topviewmovies\\ar35motor\\2021_11_02\\Mirror14videoR.avi\n",
      "Duration of video [s]:  11.68 , recorded with  40.0 fps!\n",
      "Overall # of frames:  467  found with (before cropping) frame dimensions:  314 700\n",
      "Starting to extract posture\n"
     ]
    },
    {
     "name": "stderr",
     "output_type": "stream",
     "text": [
      "470it [00:52,  9.02it/s]                                                                                               \n"
     ]
    },
    {
     "name": "stdout",
     "output_type": "stream",
     "text": [
      "Saving results in \\\\dk-server.dk.ucsd.edu\\afassihizakeri\\Topviewmovies\\ar35motor\\2021_11_02...\n",
      "Saving csv poses!\n",
      "Starting to analyze %  \\\\dk-server.dk.ucsd.edu\\afassihizakeri\\Topviewmovies\\ar35motor\\2021_11_02\\Mirror192videoR.avi\n",
      "\\\\dk-server.dk.ucsd.edu\\afassihizakeri\\Topviewmovies\\ar35motor\\2021_11_02  already exists!\n",
      "Loading  \\\\dk-server.dk.ucsd.edu\\afassihizakeri\\Topviewmovies\\ar35motor\\2021_11_02\\Mirror192videoR.avi\n",
      "Duration of video [s]:  0.0 , recorded with  40.0 fps!\n",
      "Overall # of frames:  0  found with (before cropping) frame dimensions:  314 700\n",
      "Starting to extract posture\n"
     ]
    },
    {
     "name": "stderr",
     "output_type": "stream",
     "text": [
      "10it [00:00, 913.21it/s]"
     ]
    },
    {
     "name": "stdout",
     "output_type": "stream",
     "text": [
      "Saving results in \\\\dk-server.dk.ucsd.edu\\afassihizakeri\\Topviewmovies\\ar35motor\\2021_11_02...\n",
      "Saving csv poses!\n",
      "Starting to analyze %  \\\\dk-server.dk.ucsd.edu\\afassihizakeri\\Topviewmovies\\ar35motor\\2021_11_02\\Mirror63videoR.avi\n",
      "\\\\dk-server.dk.ucsd.edu\\afassihizakeri\\Topviewmovies\\ar35motor\\2021_11_02  already exists!\n"
     ]
    },
    {
     "name": "stderr",
     "output_type": "stream",
     "text": [
      "\n"
     ]
    },
    {
     "name": "stdout",
     "output_type": "stream",
     "text": [
      "Loading  \\\\dk-server.dk.ucsd.edu\\afassihizakeri\\Topviewmovies\\ar35motor\\2021_11_02\\Mirror63videoR.avi\n",
      "Duration of video [s]:  9.75 , recorded with  40.0 fps!\n",
      "Overall # of frames:  390  found with (before cropping) frame dimensions:  314 700\n",
      "Starting to extract posture\n"
     ]
    },
    {
     "name": "stderr",
     "output_type": "stream",
     "text": [
      "400it [00:43,  9.20it/s]                                                                                               \n"
     ]
    },
    {
     "name": "stdout",
     "output_type": "stream",
     "text": [
      "Saving results in \\\\dk-server.dk.ucsd.edu\\afassihizakeri\\Topviewmovies\\ar35motor\\2021_11_02...\n",
      "Saving csv poses!\n",
      "Starting to analyze %  \\\\dk-server.dk.ucsd.edu\\afassihizakeri\\Topviewmovies\\ar35motor\\2021_11_02\\Mirror157videoR.avi\n",
      "\\\\dk-server.dk.ucsd.edu\\afassihizakeri\\Topviewmovies\\ar35motor\\2021_11_02  already exists!\n",
      "Loading  \\\\dk-server.dk.ucsd.edu\\afassihizakeri\\Topviewmovies\\ar35motor\\2021_11_02\\Mirror157videoR.avi\n",
      "Duration of video [s]:  12.5 , recorded with  40.0 fps!\n",
      "Overall # of frames:  500  found with (before cropping) frame dimensions:  314 700\n",
      "Starting to extract posture\n"
     ]
    },
    {
     "name": "stderr",
     "output_type": "stream",
     "text": [
      "510it [00:55,  9.12it/s]                                                                                               \n"
     ]
    },
    {
     "name": "stdout",
     "output_type": "stream",
     "text": [
      "Saving results in \\\\dk-server.dk.ucsd.edu\\afassihizakeri\\Topviewmovies\\ar35motor\\2021_11_02...\n",
      "Saving csv poses!\n",
      "Starting to analyze %  \\\\dk-server.dk.ucsd.edu\\afassihizakeri\\Topviewmovies\\ar35motor\\2021_11_02\\Mirror109videoR.avi\n",
      "\\\\dk-server.dk.ucsd.edu\\afassihizakeri\\Topviewmovies\\ar35motor\\2021_11_02  already exists!\n",
      "Loading  \\\\dk-server.dk.ucsd.edu\\afassihizakeri\\Topviewmovies\\ar35motor\\2021_11_02\\Mirror109videoR.avi\n",
      "Duration of video [s]:  4.38 , recorded with  40.0 fps!\n",
      "Overall # of frames:  175  found with (before cropping) frame dimensions:  314 700\n",
      "Starting to extract posture\n"
     ]
    },
    {
     "name": "stderr",
     "output_type": "stream",
     "text": [
      "180it [00:19,  9.26it/s]                                                                                               \n"
     ]
    },
    {
     "name": "stdout",
     "output_type": "stream",
     "text": [
      "Saving results in \\\\dk-server.dk.ucsd.edu\\afassihizakeri\\Topviewmovies\\ar35motor\\2021_11_02...\n",
      "Saving csv poses!\n",
      "Starting to analyze %  \\\\dk-server.dk.ucsd.edu\\afassihizakeri\\Topviewmovies\\ar35motor\\2021_11_02\\Mirror15videoR.avi\n",
      "\\\\dk-server.dk.ucsd.edu\\afassihizakeri\\Topviewmovies\\ar35motor\\2021_11_02  already exists!\n",
      "Loading  \\\\dk-server.dk.ucsd.edu\\afassihizakeri\\Topviewmovies\\ar35motor\\2021_11_02\\Mirror15videoR.avi\n",
      "Duration of video [s]:  12.5 , recorded with  40.0 fps!\n",
      "Overall # of frames:  500  found with (before cropping) frame dimensions:  314 700\n",
      "Starting to extract posture\n"
     ]
    },
    {
     "name": "stderr",
     "output_type": "stream",
     "text": [
      "510it [00:56,  9.10it/s]                                                                                               \n"
     ]
    },
    {
     "name": "stdout",
     "output_type": "stream",
     "text": [
      "Saving results in \\\\dk-server.dk.ucsd.edu\\afassihizakeri\\Topviewmovies\\ar35motor\\2021_11_02...\n",
      "Saving csv poses!\n",
      "Starting to analyze %  \\\\dk-server.dk.ucsd.edu\\afassihizakeri\\Topviewmovies\\ar35motor\\2021_11_02\\Mirror121videoR.avi\n",
      "\\\\dk-server.dk.ucsd.edu\\afassihizakeri\\Topviewmovies\\ar35motor\\2021_11_02  already exists!\n",
      "Loading  \\\\dk-server.dk.ucsd.edu\\afassihizakeri\\Topviewmovies\\ar35motor\\2021_11_02\\Mirror121videoR.avi\n",
      "Duration of video [s]:  12.5 , recorded with  40.0 fps!\n",
      "Overall # of frames:  500  found with (before cropping) frame dimensions:  314 700\n",
      "Starting to extract posture\n"
     ]
    },
    {
     "name": "stderr",
     "output_type": "stream",
     "text": [
      "510it [00:56,  9.09it/s]                                                                                               \n"
     ]
    },
    {
     "name": "stdout",
     "output_type": "stream",
     "text": [
      "Saving results in \\\\dk-server.dk.ucsd.edu\\afassihizakeri\\Topviewmovies\\ar35motor\\2021_11_02...\n",
      "Saving csv poses!\n",
      "Starting to analyze %  \\\\dk-server.dk.ucsd.edu\\afassihizakeri\\Topviewmovies\\ar35motor\\2021_11_02\\Mirror159videoR.avi\n",
      "\\\\dk-server.dk.ucsd.edu\\afassihizakeri\\Topviewmovies\\ar35motor\\2021_11_02  already exists!\n",
      "Loading  \\\\dk-server.dk.ucsd.edu\\afassihizakeri\\Topviewmovies\\ar35motor\\2021_11_02\\Mirror159videoR.avi\n",
      "Duration of video [s]:  10.72 , recorded with  40.0 fps!\n",
      "Overall # of frames:  429  found with (before cropping) frame dimensions:  314 700\n",
      "Starting to extract posture\n"
     ]
    },
    {
     "name": "stderr",
     "output_type": "stream",
     "text": [
      "430it [00:48,  8.93it/s]                                                                                               \n"
     ]
    },
    {
     "name": "stdout",
     "output_type": "stream",
     "text": [
      "Saving results in \\\\dk-server.dk.ucsd.edu\\afassihizakeri\\Topviewmovies\\ar35motor\\2021_11_02...\n",
      "Saving csv poses!\n",
      "Starting to analyze %  \\\\dk-server.dk.ucsd.edu\\afassihizakeri\\Topviewmovies\\ar35motor\\2021_11_02\\Mirror33videoR.avi\n",
      "\\\\dk-server.dk.ucsd.edu\\afassihizakeri\\Topviewmovies\\ar35motor\\2021_11_02  already exists!\n",
      "Loading  \\\\dk-server.dk.ucsd.edu\\afassihizakeri\\Topviewmovies\\ar35motor\\2021_11_02\\Mirror33videoR.avi\n",
      "Duration of video [s]:  12.43 , recorded with  40.0 fps!\n",
      "Overall # of frames:  497  found with (before cropping) frame dimensions:  314 700\n",
      "Starting to extract posture\n"
     ]
    },
    {
     "name": "stderr",
     "output_type": "stream",
     "text": [
      "500it [00:55,  8.93it/s]                                                                                               \n"
     ]
    },
    {
     "name": "stdout",
     "output_type": "stream",
     "text": [
      "Saving results in \\\\dk-server.dk.ucsd.edu\\afassihizakeri\\Topviewmovies\\ar35motor\\2021_11_02...\n",
      "Saving csv poses!\n",
      "Starting to analyze %  \\\\dk-server.dk.ucsd.edu\\afassihizakeri\\Topviewmovies\\ar35motor\\2021_11_02\\Mirror107videoR.avi\n",
      "\\\\dk-server.dk.ucsd.edu\\afassihizakeri\\Topviewmovies\\ar35motor\\2021_11_02  already exists!\n",
      "Loading  \\\\dk-server.dk.ucsd.edu\\afassihizakeri\\Topviewmovies\\ar35motor\\2021_11_02\\Mirror107videoR.avi\n",
      "Duration of video [s]:  7.0 , recorded with  40.0 fps!\n",
      "Overall # of frames:  280  found with (before cropping) frame dimensions:  314 700\n",
      "Starting to extract posture\n"
     ]
    },
    {
     "name": "stderr",
     "output_type": "stream",
     "text": [
      "290it [00:31,  9.33it/s]                                                                                               \n"
     ]
    },
    {
     "name": "stdout",
     "output_type": "stream",
     "text": [
      "Saving results in \\\\dk-server.dk.ucsd.edu\\afassihizakeri\\Topviewmovies\\ar35motor\\2021_11_02...\n",
      "Saving csv poses!\n",
      "Starting to analyze %  \\\\dk-server.dk.ucsd.edu\\afassihizakeri\\Topviewmovies\\ar35motor\\2021_11_02\\Mirror45videoR.avi\n",
      "\\\\dk-server.dk.ucsd.edu\\afassihizakeri\\Topviewmovies\\ar35motor\\2021_11_02  already exists!\n",
      "Loading  \\\\dk-server.dk.ucsd.edu\\afassihizakeri\\Topviewmovies\\ar35motor\\2021_11_02\\Mirror45videoR.avi\n",
      "Duration of video [s]:  12.5 , recorded with  40.0 fps!\n",
      "Overall # of frames:  500  found with (before cropping) frame dimensions:  314 700\n",
      "Starting to extract posture\n"
     ]
    },
    {
     "name": "stderr",
     "output_type": "stream",
     "text": [
      "510it [00:55,  9.13it/s]                                                                                               \n"
     ]
    },
    {
     "name": "stdout",
     "output_type": "stream",
     "text": [
      "Saving results in \\\\dk-server.dk.ucsd.edu\\afassihizakeri\\Topviewmovies\\ar35motor\\2021_11_02...\n",
      "Saving csv poses!\n",
      "Starting to analyze %  \\\\dk-server.dk.ucsd.edu\\afassihizakeri\\Topviewmovies\\ar35motor\\2021_11_02\\Mirror171videoR.avi\n",
      "\\\\dk-server.dk.ucsd.edu\\afassihizakeri\\Topviewmovies\\ar35motor\\2021_11_02  already exists!\n",
      "Loading  \\\\dk-server.dk.ucsd.edu\\afassihizakeri\\Topviewmovies\\ar35motor\\2021_11_02\\Mirror171videoR.avi\n",
      "Duration of video [s]:  11.53 , recorded with  40.0 fps!\n",
      "Overall # of frames:  461  found with (before cropping) frame dimensions:  314 700\n",
      "Starting to extract posture\n"
     ]
    },
    {
     "name": "stderr",
     "output_type": "stream",
     "text": [
      "470it [00:51,  9.15it/s]                                                                                               \n"
     ]
    },
    {
     "name": "stdout",
     "output_type": "stream",
     "text": [
      "Saving results in \\\\dk-server.dk.ucsd.edu\\afassihizakeri\\Topviewmovies\\ar35motor\\2021_11_02...\n",
      "Saving csv poses!\n",
      "Starting to analyze %  \\\\dk-server.dk.ucsd.edu\\afassihizakeri\\Topviewmovies\\ar35motor\\2021_11_02\\Mirror80videoR.avi\n",
      "\\\\dk-server.dk.ucsd.edu\\afassihizakeri\\Topviewmovies\\ar35motor\\2021_11_02  already exists!\n",
      "Loading  \\\\dk-server.dk.ucsd.edu\\afassihizakeri\\Topviewmovies\\ar35motor\\2021_11_02\\Mirror80videoR.avi\n",
      "Duration of video [s]:  12.5 , recorded with  40.0 fps!\n",
      "Overall # of frames:  500  found with (before cropping) frame dimensions:  314 700\n",
      "Starting to extract posture\n"
     ]
    },
    {
     "name": "stderr",
     "output_type": "stream",
     "text": [
      "510it [00:55,  9.13it/s]                                                                                               \n"
     ]
    },
    {
     "name": "stdout",
     "output_type": "stream",
     "text": [
      "Saving results in \\\\dk-server.dk.ucsd.edu\\afassihizakeri\\Topviewmovies\\ar35motor\\2021_11_02...\n",
      "Saving csv poses!\n",
      "Starting to analyze %  \\\\dk-server.dk.ucsd.edu\\afassihizakeri\\Topviewmovies\\ar35motor\\2021_11_02\\Mirror106videoR.avi\n",
      "\\\\dk-server.dk.ucsd.edu\\afassihizakeri\\Topviewmovies\\ar35motor\\2021_11_02  already exists!\n",
      "Loading  \\\\dk-server.dk.ucsd.edu\\afassihizakeri\\Topviewmovies\\ar35motor\\2021_11_02\\Mirror106videoR.avi\n",
      "Duration of video [s]:  4.6 , recorded with  40.0 fps!\n",
      "Overall # of frames:  184  found with (before cropping) frame dimensions:  314 700\n",
      "Starting to extract posture\n"
     ]
    },
    {
     "name": "stderr",
     "output_type": "stream",
     "text": [
      "190it [00:20,  9.31it/s]                                                                                               \n"
     ]
    },
    {
     "name": "stdout",
     "output_type": "stream",
     "text": [
      "Saving results in \\\\dk-server.dk.ucsd.edu\\afassihizakeri\\Topviewmovies\\ar35motor\\2021_11_02...\n",
      "Saving csv poses!\n",
      "Starting to analyze %  \\\\dk-server.dk.ucsd.edu\\afassihizakeri\\Topviewmovies\\ar35motor\\2021_11_02\\Mirror32videoR.avi\n",
      "\\\\dk-server.dk.ucsd.edu\\afassihizakeri\\Topviewmovies\\ar35motor\\2021_11_02  already exists!\n",
      "Loading  \\\\dk-server.dk.ucsd.edu\\afassihizakeri\\Topviewmovies\\ar35motor\\2021_11_02\\Mirror32videoR.avi\n",
      "Duration of video [s]:  12.28 , recorded with  40.0 fps!\n",
      "Overall # of frames:  491  found with (before cropping) frame dimensions:  314 700\n",
      "Starting to extract posture\n"
     ]
    },
    {
     "name": "stderr",
     "output_type": "stream",
     "text": [
      "500it [00:54,  9.13it/s]                                                                                               \n"
     ]
    },
    {
     "name": "stdout",
     "output_type": "stream",
     "text": [
      "Saving results in \\\\dk-server.dk.ucsd.edu\\afassihizakeri\\Topviewmovies\\ar35motor\\2021_11_02...\n",
      "Saving csv poses!\n",
      "Starting to analyze %  \\\\dk-server.dk.ucsd.edu\\afassihizakeri\\Topviewmovies\\ar35motor\\2021_11_02\\Mirror158videoR.avi\n",
      "\\\\dk-server.dk.ucsd.edu\\afassihizakeri\\Topviewmovies\\ar35motor\\2021_11_02  already exists!\n",
      "Loading  \\\\dk-server.dk.ucsd.edu\\afassihizakeri\\Topviewmovies\\ar35motor\\2021_11_02\\Mirror158videoR.avi\n",
      "Duration of video [s]:  12.5 , recorded with  40.0 fps!\n",
      "Overall # of frames:  500  found with (before cropping) frame dimensions:  314 700\n",
      "Starting to extract posture\n"
     ]
    },
    {
     "name": "stderr",
     "output_type": "stream",
     "text": [
      "510it [00:55,  9.18it/s]                                                                                               \n"
     ]
    },
    {
     "name": "stdout",
     "output_type": "stream",
     "text": [
      "Saving results in \\\\dk-server.dk.ucsd.edu\\afassihizakeri\\Topviewmovies\\ar35motor\\2021_11_02...\n",
      "Saving csv poses!\n",
      "Starting to analyze %  \\\\dk-server.dk.ucsd.edu\\afassihizakeri\\Topviewmovies\\ar35motor\\2021_11_02\\Mirror170videoR.avi\n",
      "\\\\dk-server.dk.ucsd.edu\\afassihizakeri\\Topviewmovies\\ar35motor\\2021_11_02  already exists!\n",
      "Loading  \\\\dk-server.dk.ucsd.edu\\afassihizakeri\\Topviewmovies\\ar35motor\\2021_11_02\\Mirror170videoR.avi\n",
      "Duration of video [s]:  12.5 , recorded with  40.0 fps!\n",
      "Overall # of frames:  500  found with (before cropping) frame dimensions:  314 700\n",
      "Starting to extract posture\n"
     ]
    },
    {
     "name": "stderr",
     "output_type": "stream",
     "text": [
      "510it [00:55,  9.13it/s]                                                                                               \n"
     ]
    },
    {
     "name": "stdout",
     "output_type": "stream",
     "text": [
      "Saving results in \\\\dk-server.dk.ucsd.edu\\afassihizakeri\\Topviewmovies\\ar35motor\\2021_11_02...\n",
      "Saving csv poses!\n",
      "Starting to analyze %  \\\\dk-server.dk.ucsd.edu\\afassihizakeri\\Topviewmovies\\ar35motor\\2021_11_02\\Mirror44videoR.avi\n",
      "\\\\dk-server.dk.ucsd.edu\\afassihizakeri\\Topviewmovies\\ar35motor\\2021_11_02  already exists!\n",
      "Loading  \\\\dk-server.dk.ucsd.edu\\afassihizakeri\\Topviewmovies\\ar35motor\\2021_11_02\\Mirror44videoR.avi\n",
      "Duration of video [s]:  10.72 , recorded with  40.0 fps!\n",
      "Overall # of frames:  429  found with (before cropping) frame dimensions:  314 700\n",
      "Starting to extract posture\n"
     ]
    },
    {
     "name": "stderr",
     "output_type": "stream",
     "text": [
      "430it [00:47,  8.96it/s]                                                                                               \n"
     ]
    },
    {
     "name": "stdout",
     "output_type": "stream",
     "text": [
      "Saving results in \\\\dk-server.dk.ucsd.edu\\afassihizakeri\\Topviewmovies\\ar35motor\\2021_11_02...\n",
      "Saving csv poses!\n",
      "Starting to analyze %  \\\\dk-server.dk.ucsd.edu\\afassihizakeri\\Topviewmovies\\ar35motor\\2021_11_02\\Mirror81videoR.avi\n",
      "\\\\dk-server.dk.ucsd.edu\\afassihizakeri\\Topviewmovies\\ar35motor\\2021_11_02  already exists!\n",
      "Loading  \\\\dk-server.dk.ucsd.edu\\afassihizakeri\\Topviewmovies\\ar35motor\\2021_11_02\\Mirror81videoR.avi\n",
      "Duration of video [s]:  7.58 , recorded with  40.0 fps!\n",
      "Overall # of frames:  303  found with (before cropping) frame dimensions:  314 700\n",
      "Starting to extract posture\n"
     ]
    },
    {
     "name": "stderr",
     "output_type": "stream",
     "text": [
      "310it [00:33,  9.22it/s]                                                                                               \n"
     ]
    },
    {
     "name": "stdout",
     "output_type": "stream",
     "text": [
      "Saving results in \\\\dk-server.dk.ucsd.edu\\afassihizakeri\\Topviewmovies\\ar35motor\\2021_11_02...\n",
      "Saving csv poses!\n",
      "Starting to analyze %  \\\\dk-server.dk.ucsd.edu\\afassihizakeri\\Topviewmovies\\ar35motor\\2021_11_02\\Mirror31videoR.avi\n",
      "\\\\dk-server.dk.ucsd.edu\\afassihizakeri\\Topviewmovies\\ar35motor\\2021_11_02  already exists!\n",
      "Loading  \\\\dk-server.dk.ucsd.edu\\afassihizakeri\\Topviewmovies\\ar35motor\\2021_11_02\\Mirror31videoR.avi\n",
      "Duration of video [s]:  12.47 , recorded with  40.0 fps!\n",
      "Overall # of frames:  499  found with (before cropping) frame dimensions:  314 700\n",
      "Starting to extract posture\n"
     ]
    },
    {
     "name": "stderr",
     "output_type": "stream",
     "text": [
      "500it [00:55,  8.97it/s]                                                                                               \n"
     ]
    },
    {
     "name": "stdout",
     "output_type": "stream",
     "text": [
      "Saving results in \\\\dk-server.dk.ucsd.edu\\afassihizakeri\\Topviewmovies\\ar35motor\\2021_11_02...\n",
      "Saving csv poses!\n",
      "Starting to analyze %  \\\\dk-server.dk.ucsd.edu\\afassihizakeri\\Topviewmovies\\ar35motor\\2021_11_02\\Mirror105videoR.avi\n",
      "\\\\dk-server.dk.ucsd.edu\\afassihizakeri\\Topviewmovies\\ar35motor\\2021_11_02  already exists!\n",
      "Loading  \\\\dk-server.dk.ucsd.edu\\afassihizakeri\\Topviewmovies\\ar35motor\\2021_11_02\\Mirror105videoR.avi\n",
      "Duration of video [s]:  9.03 , recorded with  40.0 fps!\n",
      "Overall # of frames:  361  found with (before cropping) frame dimensions:  314 700\n",
      "Starting to extract posture\n"
     ]
    },
    {
     "name": "stderr",
     "output_type": "stream",
     "text": [
      "370it [00:40,  9.05it/s]                                                                                               \n"
     ]
    },
    {
     "name": "stdout",
     "output_type": "stream",
     "text": [
      "Saving results in \\\\dk-server.dk.ucsd.edu\\afassihizakeri\\Topviewmovies\\ar35motor\\2021_11_02...\n",
      "Saving csv poses!\n",
      "Starting to analyze %  \\\\dk-server.dk.ucsd.edu\\afassihizakeri\\Topviewmovies\\ar35motor\\2021_11_02\\Mirror82videoR.avi\n",
      "\\\\dk-server.dk.ucsd.edu\\afassihizakeri\\Topviewmovies\\ar35motor\\2021_11_02  already exists!\n",
      "Loading  \\\\dk-server.dk.ucsd.edu\\afassihizakeri\\Topviewmovies\\ar35motor\\2021_11_02\\Mirror82videoR.avi\n",
      "Duration of video [s]:  9.72 , recorded with  40.0 fps!\n",
      "Overall # of frames:  389  found with (before cropping) frame dimensions:  314 700\n",
      "Starting to extract posture\n"
     ]
    },
    {
     "name": "stderr",
     "output_type": "stream",
     "text": [
      "390it [00:43,  9.01it/s]                                                                                               \n"
     ]
    },
    {
     "name": "stdout",
     "output_type": "stream",
     "text": [
      "Saving results in \\\\dk-server.dk.ucsd.edu\\afassihizakeri\\Topviewmovies\\ar35motor\\2021_11_02...\n",
      "Saving csv poses!\n",
      "Starting to analyze %  \\\\dk-server.dk.ucsd.edu\\afassihizakeri\\Topviewmovies\\ar35motor\\2021_11_02\\Mirror47videoR.avi\n",
      "\\\\dk-server.dk.ucsd.edu\\afassihizakeri\\Topviewmovies\\ar35motor\\2021_11_02  already exists!\n",
      "Loading  \\\\dk-server.dk.ucsd.edu\\afassihizakeri\\Topviewmovies\\ar35motor\\2021_11_02\\Mirror47videoR.avi\n",
      "Duration of video [s]:  10.3 , recorded with  40.0 fps!\n",
      "Overall # of frames:  412  found with (before cropping) frame dimensions:  314 700\n",
      "Starting to extract posture\n"
     ]
    },
    {
     "name": "stderr",
     "output_type": "stream",
     "text": [
      "420it [00:46,  9.11it/s]                                                                                               \n"
     ]
    },
    {
     "name": "stdout",
     "output_type": "stream",
     "text": [
      "Saving results in \\\\dk-server.dk.ucsd.edu\\afassihizakeri\\Topviewmovies\\ar35motor\\2021_11_02...\n",
      "Saving csv poses!\n",
      "Starting to analyze %  \\\\dk-server.dk.ucsd.edu\\afassihizakeri\\Topviewmovies\\ar35motor\\2021_11_02\\Mirror173videoR.avi\n",
      "\\\\dk-server.dk.ucsd.edu\\afassihizakeri\\Topviewmovies\\ar35motor\\2021_11_02  already exists!\n",
      "Loading  \\\\dk-server.dk.ucsd.edu\\afassihizakeri\\Topviewmovies\\ar35motor\\2021_11_02\\Mirror173videoR.avi\n",
      "Duration of video [s]:  12.5 , recorded with  40.0 fps!\n",
      "Overall # of frames:  500  found with (before cropping) frame dimensions:  314 700\n",
      "Starting to extract posture\n"
     ]
    },
    {
     "name": "stderr",
     "output_type": "stream",
     "text": [
      "510it [00:55,  9.11it/s]                                                                                               \n"
     ]
    },
    {
     "name": "stdout",
     "output_type": "stream",
     "text": [
      "Saving results in \\\\dk-server.dk.ucsd.edu\\afassihizakeri\\Topviewmovies\\ar35motor\\2021_11_02...\n",
      "Saving csv poses!\n",
      "Starting to analyze %  \\\\dk-server.dk.ucsd.edu\\afassihizakeri\\Topviewmovies\\ar35motor\\2021_11_02\\Mirror19videoR.avi\n",
      "\\\\dk-server.dk.ucsd.edu\\afassihizakeri\\Topviewmovies\\ar35motor\\2021_11_02  already exists!\n",
      "Loading  \\\\dk-server.dk.ucsd.edu\\afassihizakeri\\Topviewmovies\\ar35motor\\2021_11_02\\Mirror19videoR.avi\n",
      "Duration of video [s]:  9.5 , recorded with  40.0 fps!\n",
      "Overall # of frames:  380  found with (before cropping) frame dimensions:  314 700\n",
      "Starting to extract posture\n"
     ]
    },
    {
     "name": "stderr",
     "output_type": "stream",
     "text": [
      "390it [00:42,  9.18it/s]                                                                                               \n"
     ]
    },
    {
     "name": "stdout",
     "output_type": "stream",
     "text": [
      "Saving results in \\\\dk-server.dk.ucsd.edu\\afassihizakeri\\Topviewmovies\\ar35motor\\2021_11_02...\n",
      "Saving csv poses!\n",
      "Starting to analyze %  \\\\dk-server.dk.ucsd.edu\\afassihizakeri\\Topviewmovies\\ar35motor\\2021_11_02\\Mirror104videoR.avi\n",
      "\\\\dk-server.dk.ucsd.edu\\afassihizakeri\\Topviewmovies\\ar35motor\\2021_11_02  already exists!\n",
      "Loading  \\\\dk-server.dk.ucsd.edu\\afassihizakeri\\Topviewmovies\\ar35motor\\2021_11_02\\Mirror104videoR.avi\n",
      "Duration of video [s]:  7.2 , recorded with  40.0 fps!\n",
      "Overall # of frames:  288  found with (before cropping) frame dimensions:  314 700\n",
      "Starting to extract posture\n"
     ]
    },
    {
     "name": "stderr",
     "output_type": "stream",
     "text": [
      "290it [00:32,  9.05it/s]                                                                                               \n"
     ]
    },
    {
     "name": "stdout",
     "output_type": "stream",
     "text": [
      "Saving results in \\\\dk-server.dk.ucsd.edu\\afassihizakeri\\Topviewmovies\\ar35motor\\2021_11_02...\n",
      "Saving csv poses!\n",
      "Starting to analyze %  \\\\dk-server.dk.ucsd.edu\\afassihizakeri\\Topviewmovies\\ar35motor\\2021_11_02\\Mirror30videoR.avi\n",
      "\\\\dk-server.dk.ucsd.edu\\afassihizakeri\\Topviewmovies\\ar35motor\\2021_11_02  already exists!\n",
      "Loading  \\\\dk-server.dk.ucsd.edu\\afassihizakeri\\Topviewmovies\\ar35motor\\2021_11_02\\Mirror30videoR.avi\n",
      "Duration of video [s]:  12.32 , recorded with  40.0 fps!\n",
      "Overall # of frames:  493  found with (before cropping) frame dimensions:  314 700\n",
      "Starting to extract posture\n"
     ]
    },
    {
     "name": "stderr",
     "output_type": "stream",
     "text": [
      "500it [00:55,  9.09it/s]                                                                                               \n"
     ]
    },
    {
     "name": "stdout",
     "output_type": "stream",
     "text": [
      "Saving results in \\\\dk-server.dk.ucsd.edu\\afassihizakeri\\Topviewmovies\\ar35motor\\2021_11_02...\n",
      "Saving csv poses!\n",
      "Starting to analyze %  \\\\dk-server.dk.ucsd.edu\\afassihizakeri\\Topviewmovies\\ar35motor\\2021_11_02\\Mirror83videoR.avi\n",
      "\\\\dk-server.dk.ucsd.edu\\afassihizakeri\\Topviewmovies\\ar35motor\\2021_11_02  already exists!\n",
      "Loading  \\\\dk-server.dk.ucsd.edu\\afassihizakeri\\Topviewmovies\\ar35motor\\2021_11_02\\Mirror83videoR.avi\n",
      "Duration of video [s]:  11.43 , recorded with  40.0 fps!\n",
      "Overall # of frames:  457  found with (before cropping) frame dimensions:  314 700\n",
      "Starting to extract posture\n"
     ]
    },
    {
     "name": "stderr",
     "output_type": "stream",
     "text": [
      "460it [00:51,  8.87it/s]                                                                                               \n"
     ]
    },
    {
     "name": "stdout",
     "output_type": "stream",
     "text": [
      "Saving results in \\\\dk-server.dk.ucsd.edu\\afassihizakeri\\Topviewmovies\\ar35motor\\2021_11_02...\n",
      "Saving csv poses!\n",
      "Starting to analyze %  \\\\dk-server.dk.ucsd.edu\\afassihizakeri\\Topviewmovies\\ar35motor\\2021_11_02\\Mirror18videoR.avi\n",
      "\\\\dk-server.dk.ucsd.edu\\afassihizakeri\\Topviewmovies\\ar35motor\\2021_11_02  already exists!\n",
      "Loading  \\\\dk-server.dk.ucsd.edu\\afassihizakeri\\Topviewmovies\\ar35motor\\2021_11_02\\Mirror18videoR.avi\n",
      "Duration of video [s]:  9.88 , recorded with  40.0 fps!\n",
      "Overall # of frames:  395  found with (before cropping) frame dimensions:  314 700\n",
      "Starting to extract posture\n"
     ]
    },
    {
     "name": "stderr",
     "output_type": "stream",
     "text": [
      "400it [00:44,  8.96it/s]                                                                                               \n"
     ]
    },
    {
     "name": "stdout",
     "output_type": "stream",
     "text": [
      "Saving results in \\\\dk-server.dk.ucsd.edu\\afassihizakeri\\Topviewmovies\\ar35motor\\2021_11_02...\n",
      "Saving csv poses!\n",
      "Starting to analyze %  \\\\dk-server.dk.ucsd.edu\\afassihizakeri\\Topviewmovies\\ar35motor\\2021_11_02\\Mirror172videoR.avi\n",
      "\\\\dk-server.dk.ucsd.edu\\afassihizakeri\\Topviewmovies\\ar35motor\\2021_11_02  already exists!\n",
      "Loading  \\\\dk-server.dk.ucsd.edu\\afassihizakeri\\Topviewmovies\\ar35motor\\2021_11_02\\Mirror172videoR.avi\n",
      "Duration of video [s]:  12.47 , recorded with  40.0 fps!\n",
      "Overall # of frames:  499  found with (before cropping) frame dimensions:  314 700\n",
      "Starting to extract posture\n"
     ]
    },
    {
     "name": "stderr",
     "output_type": "stream",
     "text": [
      "500it [00:55,  8.95it/s]                                                                                               \n"
     ]
    },
    {
     "name": "stdout",
     "output_type": "stream",
     "text": [
      "Saving results in \\\\dk-server.dk.ucsd.edu\\afassihizakeri\\Topviewmovies\\ar35motor\\2021_11_02...\n",
      "Saving csv poses!\n",
      "Starting to analyze %  \\\\dk-server.dk.ucsd.edu\\afassihizakeri\\Topviewmovies\\ar35motor\\2021_11_02\\Mirror46videoR.avi\n",
      "\\\\dk-server.dk.ucsd.edu\\afassihizakeri\\Topviewmovies\\ar35motor\\2021_11_02  already exists!\n",
      "Loading  \\\\dk-server.dk.ucsd.edu\\afassihizakeri\\Topviewmovies\\ar35motor\\2021_11_02\\Mirror46videoR.avi\n",
      "Duration of video [s]:  12.5 , recorded with  40.0 fps!\n",
      "Overall # of frames:  500  found with (before cropping) frame dimensions:  314 700\n",
      "Starting to extract posture\n"
     ]
    },
    {
     "name": "stderr",
     "output_type": "stream",
     "text": [
      "510it [00:55,  9.13it/s]                                                                                               \n"
     ]
    },
    {
     "name": "stdout",
     "output_type": "stream",
     "text": [
      "Saving results in \\\\dk-server.dk.ucsd.edu\\afassihizakeri\\Topviewmovies\\ar35motor\\2021_11_02...\n",
      "Saving csv poses!\n",
      "Starting to analyze %  \\\\dk-server.dk.ucsd.edu\\afassihizakeri\\Topviewmovies\\ar35motor\\2021_11_02\\Mirror84videoR.avi\n",
      "\\\\dk-server.dk.ucsd.edu\\afassihizakeri\\Topviewmovies\\ar35motor\\2021_11_02  already exists!\n",
      "Loading  \\\\dk-server.dk.ucsd.edu\\afassihizakeri\\Topviewmovies\\ar35motor\\2021_11_02\\Mirror84videoR.avi\n",
      "Duration of video [s]:  12.5 , recorded with  40.0 fps!\n",
      "Overall # of frames:  500  found with (before cropping) frame dimensions:  314 700\n",
      "Starting to extract posture\n"
     ]
    },
    {
     "name": "stderr",
     "output_type": "stream",
     "text": [
      "510it [00:55,  9.11it/s]                                                                                               \n"
     ]
    },
    {
     "name": "stdout",
     "output_type": "stream",
     "text": [
      "Saving results in \\\\dk-server.dk.ucsd.edu\\afassihizakeri\\Topviewmovies\\ar35motor\\2021_11_02...\n",
      "Saving csv poses!\n",
      "Starting to analyze %  \\\\dk-server.dk.ucsd.edu\\afassihizakeri\\Topviewmovies\\ar35motor\\2021_11_02\\Mirror175videoR.avi\n",
      "\\\\dk-server.dk.ucsd.edu\\afassihizakeri\\Topviewmovies\\ar35motor\\2021_11_02  already exists!\n",
      "Loading  \\\\dk-server.dk.ucsd.edu\\afassihizakeri\\Topviewmovies\\ar35motor\\2021_11_02\\Mirror175videoR.avi\n",
      "Duration of video [s]:  8.53 , recorded with  40.0 fps!\n",
      "Overall # of frames:  341  found with (before cropping) frame dimensions:  314 700\n",
      "Starting to extract posture\n"
     ]
    },
    {
     "name": "stderr",
     "output_type": "stream",
     "text": [
      "350it [00:37,  9.22it/s]                                                                                               \n"
     ]
    },
    {
     "name": "stdout",
     "output_type": "stream",
     "text": [
      "Saving results in \\\\dk-server.dk.ucsd.edu\\afassihizakeri\\Topviewmovies\\ar35motor\\2021_11_02...\n",
      "Saving csv poses!\n",
      "Starting to analyze %  \\\\dk-server.dk.ucsd.edu\\afassihizakeri\\Topviewmovies\\ar35motor\\2021_11_02\\Mirror41videoR.avi\n",
      "\\\\dk-server.dk.ucsd.edu\\afassihizakeri\\Topviewmovies\\ar35motor\\2021_11_02  already exists!\n",
      "Loading  \\\\dk-server.dk.ucsd.edu\\afassihizakeri\\Topviewmovies\\ar35motor\\2021_11_02\\Mirror41videoR.avi\n",
      "Duration of video [s]:  5.6 , recorded with  40.0 fps!\n",
      "Overall # of frames:  224  found with (before cropping) frame dimensions:  314 700\n",
      "Starting to extract posture\n"
     ]
    },
    {
     "name": "stderr",
     "output_type": "stream",
     "text": [
      "230it [00:24,  9.32it/s]                                                                                               \n"
     ]
    },
    {
     "name": "stdout",
     "output_type": "stream",
     "text": [
      "Saving results in \\\\dk-server.dk.ucsd.edu\\afassihizakeri\\Topviewmovies\\ar35motor\\2021_11_02...\n",
      "Saving csv poses!\n",
      "Starting to analyze %  \\\\dk-server.dk.ucsd.edu\\afassihizakeri\\Topviewmovies\\ar35motor\\2021_11_02\\Mirror69videoR.avi\n",
      "\\\\dk-server.dk.ucsd.edu\\afassihizakeri\\Topviewmovies\\ar35motor\\2021_11_02  already exists!\n",
      "Loading  \\\\dk-server.dk.ucsd.edu\\afassihizakeri\\Topviewmovies\\ar35motor\\2021_11_02\\Mirror69videoR.avi\n",
      "Duration of video [s]:  12.5 , recorded with  40.0 fps!\n",
      "Overall # of frames:  500  found with (before cropping) frame dimensions:  314 700\n",
      "Starting to extract posture\n"
     ]
    },
    {
     "name": "stderr",
     "output_type": "stream",
     "text": [
      "510it [00:55,  9.16it/s]                                                                                               \n"
     ]
    },
    {
     "name": "stdout",
     "output_type": "stream",
     "text": [
      "Saving results in \\\\dk-server.dk.ucsd.edu\\afassihizakeri\\Topviewmovies\\ar35motor\\2021_11_02...\n",
      "Saving csv poses!\n",
      "Starting to analyze %  \\\\dk-server.dk.ucsd.edu\\afassihizakeri\\Topviewmovies\\ar35motor\\2021_11_02\\Mirror103videoR.avi\n",
      "\\\\dk-server.dk.ucsd.edu\\afassihizakeri\\Topviewmovies\\ar35motor\\2021_11_02  already exists!\n",
      "Loading  \\\\dk-server.dk.ucsd.edu\\afassihizakeri\\Topviewmovies\\ar35motor\\2021_11_02\\Mirror103videoR.avi\n",
      "Duration of video [s]:  12.38 , recorded with  40.0 fps!\n",
      "Overall # of frames:  495  found with (before cropping) frame dimensions:  314 700\n",
      "Starting to extract posture\n"
     ]
    },
    {
     "name": "stderr",
     "output_type": "stream",
     "text": [
      "500it [00:54,  9.09it/s]                                                                                               \n"
     ]
    },
    {
     "name": "stdout",
     "output_type": "stream",
     "text": [
      "Saving results in \\\\dk-server.dk.ucsd.edu\\afassihizakeri\\Topviewmovies\\ar35motor\\2021_11_02...\n",
      "Saving csv poses!\n",
      "Starting to analyze %  \\\\dk-server.dk.ucsd.edu\\afassihizakeri\\Topviewmovies\\ar35motor\\2021_11_02\\Mirror37videoR.avi\n",
      "\\\\dk-server.dk.ucsd.edu\\afassihizakeri\\Topviewmovies\\ar35motor\\2021_11_02  already exists!\n",
      "Loading  \\\\dk-server.dk.ucsd.edu\\afassihizakeri\\Topviewmovies\\ar35motor\\2021_11_02\\Mirror37videoR.avi\n",
      "Duration of video [s]:  12.5 , recorded with  40.0 fps!\n",
      "Overall # of frames:  500  found with (before cropping) frame dimensions:  314 700\n",
      "Starting to extract posture\n"
     ]
    },
    {
     "name": "stderr",
     "output_type": "stream",
     "text": [
      "510it [00:56,  9.08it/s]                                                                                               \n"
     ]
    },
    {
     "name": "stdout",
     "output_type": "stream",
     "text": [
      "Saving results in \\\\dk-server.dk.ucsd.edu\\afassihizakeri\\Topviewmovies\\ar35motor\\2021_11_02...\n",
      "Saving csv poses!\n",
      "Starting to analyze %  \\\\dk-server.dk.ucsd.edu\\afassihizakeri\\Topviewmovies\\ar35motor\\2021_11_02\\Mirror198videoR.avi\n",
      "\\\\dk-server.dk.ucsd.edu\\afassihizakeri\\Topviewmovies\\ar35motor\\2021_11_02  already exists!\n",
      "Loading  \\\\dk-server.dk.ucsd.edu\\afassihizakeri\\Topviewmovies\\ar35motor\\2021_11_02\\Mirror198videoR.avi\n",
      "Duration of video [s]:  12.5 , recorded with  40.0 fps!\n",
      "Overall # of frames:  500  found with (before cropping) frame dimensions:  314 700\n",
      "Starting to extract posture\n"
     ]
    },
    {
     "name": "stderr",
     "output_type": "stream",
     "text": [
      "510it [00:55,  9.12it/s]                                                                                               \n"
     ]
    },
    {
     "name": "stdout",
     "output_type": "stream",
     "text": [
      "Saving results in \\\\dk-server.dk.ucsd.edu\\afassihizakeri\\Topviewmovies\\ar35motor\\2021_11_02...\n",
      "Saving csv poses!\n",
      "Starting to analyze %  \\\\dk-server.dk.ucsd.edu\\afassihizakeri\\Topviewmovies\\ar35motor\\2021_11_02\\Mirror210videoR.avi\n",
      "\\\\dk-server.dk.ucsd.edu\\afassihizakeri\\Topviewmovies\\ar35motor\\2021_11_02  already exists!\n",
      "Loading  \\\\dk-server.dk.ucsd.edu\\afassihizakeri\\Topviewmovies\\ar35motor\\2021_11_02\\Mirror210videoR.avi\n",
      "Duration of video [s]:  9.65 , recorded with  40.0 fps!\n",
      "Overall # of frames:  386  found with (before cropping) frame dimensions:  314 700\n",
      "Starting to extract posture\n"
     ]
    },
    {
     "name": "stderr",
     "output_type": "stream",
     "text": [
      "390it [00:43,  8.96it/s]                                                                                               \n"
     ]
    },
    {
     "name": "stdout",
     "output_type": "stream",
     "text": [
      "Saving results in \\\\dk-server.dk.ucsd.edu\\afassihizakeri\\Topviewmovies\\ar35motor\\2021_11_02...\n",
      "Saving csv poses!\n",
      "Starting to analyze %  \\\\dk-server.dk.ucsd.edu\\afassihizakeri\\Topviewmovies\\ar35motor\\2021_11_02\\Mirror85videoR.avi\n",
      "\\\\dk-server.dk.ucsd.edu\\afassihizakeri\\Topviewmovies\\ar35motor\\2021_11_02  already exists!\n",
      "Loading  \\\\dk-server.dk.ucsd.edu\\afassihizakeri\\Topviewmovies\\ar35motor\\2021_11_02\\Mirror85videoR.avi\n",
      "Duration of video [s]:  12.5 , recorded with  40.0 fps!\n",
      "Overall # of frames:  500  found with (before cropping) frame dimensions:  314 700\n",
      "Starting to extract posture\n"
     ]
    },
    {
     "name": "stderr",
     "output_type": "stream",
     "text": [
      "510it [00:55,  9.11it/s]                                                                                               \n"
     ]
    },
    {
     "name": "stdout",
     "output_type": "stream",
     "text": [
      "Saving results in \\\\dk-server.dk.ucsd.edu\\afassihizakeri\\Topviewmovies\\ar35motor\\2021_11_02...\n",
      "Saving csv poses!\n",
      "Starting to analyze %  \\\\dk-server.dk.ucsd.edu\\afassihizakeri\\Topviewmovies\\ar35motor\\2021_11_02\\Mirror40videoR.avi\n",
      "\\\\dk-server.dk.ucsd.edu\\afassihizakeri\\Topviewmovies\\ar35motor\\2021_11_02  already exists!\n",
      "Loading  \\\\dk-server.dk.ucsd.edu\\afassihizakeri\\Topviewmovies\\ar35motor\\2021_11_02\\Mirror40videoR.avi\n",
      "Duration of video [s]:  6.2 , recorded with  40.0 fps!\n",
      "Overall # of frames:  248  found with (before cropping) frame dimensions:  314 700\n",
      "Starting to extract posture\n"
     ]
    },
    {
     "name": "stderr",
     "output_type": "stream",
     "text": [
      "250it [00:27,  9.09it/s]                                                                                               \n"
     ]
    },
    {
     "name": "stdout",
     "output_type": "stream",
     "text": [
      "Saving results in \\\\dk-server.dk.ucsd.edu\\afassihizakeri\\Topviewmovies\\ar35motor\\2021_11_02...\n",
      "Saving csv poses!\n",
      "Starting to analyze %  \\\\dk-server.dk.ucsd.edu\\afassihizakeri\\Topviewmovies\\ar35motor\\2021_11_02\\Mirror174videoR.avi\n",
      "\\\\dk-server.dk.ucsd.edu\\afassihizakeri\\Topviewmovies\\ar35motor\\2021_11_02  already exists!\n",
      "Loading  \\\\dk-server.dk.ucsd.edu\\afassihizakeri\\Topviewmovies\\ar35motor\\2021_11_02\\Mirror174videoR.avi\n",
      "Duration of video [s]:  12.5 , recorded with  40.0 fps!\n",
      "Overall # of frames:  500  found with (before cropping) frame dimensions:  314 700\n",
      "Starting to extract posture\n"
     ]
    },
    {
     "name": "stderr",
     "output_type": "stream",
     "text": [
      "510it [00:55,  9.11it/s]                                                                                               \n"
     ]
    },
    {
     "name": "stdout",
     "output_type": "stream",
     "text": [
      "Saving results in \\\\dk-server.dk.ucsd.edu\\afassihizakeri\\Topviewmovies\\ar35motor\\2021_11_02...\n",
      "Saving csv poses!\n",
      "Starting to analyze %  \\\\dk-server.dk.ucsd.edu\\afassihizakeri\\Topviewmovies\\ar35motor\\2021_11_02\\Mirror36videoR.avi\n",
      "\\\\dk-server.dk.ucsd.edu\\afassihizakeri\\Topviewmovies\\ar35motor\\2021_11_02  already exists!\n",
      "Loading  \\\\dk-server.dk.ucsd.edu\\afassihizakeri\\Topviewmovies\\ar35motor\\2021_11_02\\Mirror36videoR.avi\n",
      "Duration of video [s]:  10.88 , recorded with  40.0 fps!\n",
      "Overall # of frames:  435  found with (before cropping) frame dimensions:  314 700\n",
      "Starting to extract posture\n"
     ]
    },
    {
     "name": "stderr",
     "output_type": "stream",
     "text": [
      "440it [00:48,  9.02it/s]                                                                                               \n"
     ]
    },
    {
     "name": "stdout",
     "output_type": "stream",
     "text": [
      "Saving results in \\\\dk-server.dk.ucsd.edu\\afassihizakeri\\Topviewmovies\\ar35motor\\2021_11_02...\n",
      "Saving csv poses!\n",
      "Starting to analyze %  \\\\dk-server.dk.ucsd.edu\\afassihizakeri\\Topviewmovies\\ar35motor\\2021_11_02\\Mirror102videoR.avi\n",
      "\\\\dk-server.dk.ucsd.edu\\afassihizakeri\\Topviewmovies\\ar35motor\\2021_11_02  already exists!\n",
      "Loading  \\\\dk-server.dk.ucsd.edu\\afassihizakeri\\Topviewmovies\\ar35motor\\2021_11_02\\Mirror102videoR.avi\n",
      "Duration of video [s]:  10.28 , recorded with  40.0 fps!\n",
      "Overall # of frames:  411  found with (before cropping) frame dimensions:  314 700\n",
      "Starting to extract posture\n"
     ]
    },
    {
     "name": "stderr",
     "output_type": "stream",
     "text": [
      "420it [00:46,  9.08it/s]                                                                                               \n"
     ]
    },
    {
     "name": "stdout",
     "output_type": "stream",
     "text": [
      "Saving results in \\\\dk-server.dk.ucsd.edu\\afassihizakeri\\Topviewmovies\\ar35motor\\2021_11_02...\n",
      "Saving csv poses!\n",
      "Starting to analyze %  \\\\dk-server.dk.ucsd.edu\\afassihizakeri\\Topviewmovies\\ar35motor\\2021_11_02\\Mirror68videoR.avi\n",
      "\\\\dk-server.dk.ucsd.edu\\afassihizakeri\\Topviewmovies\\ar35motor\\2021_11_02  already exists!\n",
      "Loading  \\\\dk-server.dk.ucsd.edu\\afassihizakeri\\Topviewmovies\\ar35motor\\2021_11_02\\Mirror68videoR.avi\n",
      "Duration of video [s]:  8.38 , recorded with  40.0 fps!\n",
      "Overall # of frames:  335  found with (before cropping) frame dimensions:  314 700\n",
      "Starting to extract posture\n"
     ]
    },
    {
     "name": "stderr",
     "output_type": "stream",
     "text": [
      "340it [00:37,  9.13it/s]                                                                                               \n"
     ]
    },
    {
     "name": "stdout",
     "output_type": "stream",
     "text": [
      "Saving results in \\\\dk-server.dk.ucsd.edu\\afassihizakeri\\Topviewmovies\\ar35motor\\2021_11_02...\n",
      "Saving csv poses!\n",
      "Starting to analyze %  \\\\dk-server.dk.ucsd.edu\\afassihizakeri\\Topviewmovies\\ar35motor\\2021_11_02\\Mirror199videoR.avi\n",
      "\\\\dk-server.dk.ucsd.edu\\afassihizakeri\\Topviewmovies\\ar35motor\\2021_11_02  already exists!\n",
      "Loading  \\\\dk-server.dk.ucsd.edu\\afassihizakeri\\Topviewmovies\\ar35motor\\2021_11_02\\Mirror199videoR.avi\n",
      "Duration of video [s]:  12.5 , recorded with  40.0 fps!\n",
      "Overall # of frames:  500  found with (before cropping) frame dimensions:  314 700\n",
      "Starting to extract posture\n"
     ]
    },
    {
     "name": "stderr",
     "output_type": "stream",
     "text": [
      "510it [00:55,  9.16it/s]                                                                                               \n"
     ]
    },
    {
     "name": "stdout",
     "output_type": "stream",
     "text": [
      "Saving results in \\\\dk-server.dk.ucsd.edu\\afassihizakeri\\Topviewmovies\\ar35motor\\2021_11_02...\n",
      "Saving csv poses!\n",
      "Starting to analyze %  \\\\dk-server.dk.ucsd.edu\\afassihizakeri\\Topviewmovies\\ar35motor\\2021_11_02\\Mirror177videoR.avi\n",
      "\\\\dk-server.dk.ucsd.edu\\afassihizakeri\\Topviewmovies\\ar35motor\\2021_11_02  already exists!\n",
      "Loading  \\\\dk-server.dk.ucsd.edu\\afassihizakeri\\Topviewmovies\\ar35motor\\2021_11_02\\Mirror177videoR.avi\n",
      "Duration of video [s]:  11.35 , recorded with  40.0 fps!\n",
      "Overall # of frames:  454  found with (before cropping) frame dimensions:  314 700\n",
      "Starting to extract posture\n"
     ]
    },
    {
     "name": "stderr",
     "output_type": "stream",
     "text": [
      "460it [00:50,  9.11it/s]                                                                                               \n"
     ]
    },
    {
     "name": "stdout",
     "output_type": "stream",
     "text": [
      "Saving results in \\\\dk-server.dk.ucsd.edu\\afassihizakeri\\Topviewmovies\\ar35motor\\2021_11_02...\n",
      "Saving csv poses!\n",
      "Starting to analyze %  \\\\dk-server.dk.ucsd.edu\\afassihizakeri\\Topviewmovies\\ar35motor\\2021_11_02\\Mirror43videoR.avi\n",
      "\\\\dk-server.dk.ucsd.edu\\afassihizakeri\\Topviewmovies\\ar35motor\\2021_11_02  already exists!\n",
      "Loading  \\\\dk-server.dk.ucsd.edu\\afassihizakeri\\Topviewmovies\\ar35motor\\2021_11_02\\Mirror43videoR.avi\n",
      "Duration of video [s]:  12.05 , recorded with  40.0 fps!\n",
      "Overall # of frames:  482  found with (before cropping) frame dimensions:  314 700\n",
      "Starting to extract posture\n"
     ]
    },
    {
     "name": "stderr",
     "output_type": "stream",
     "text": [
      "490it [00:53,  9.08it/s]                                                                                               \n"
     ]
    },
    {
     "name": "stdout",
     "output_type": "stream",
     "text": [
      "Saving results in \\\\dk-server.dk.ucsd.edu\\afassihizakeri\\Topviewmovies\\ar35motor\\2021_11_02...\n",
      "Saving csv poses!\n",
      "Starting to analyze %  \\\\dk-server.dk.ucsd.edu\\afassihizakeri\\Topviewmovies\\ar35motor\\2021_11_02\\Mirror129videoR.avi\n",
      "\\\\dk-server.dk.ucsd.edu\\afassihizakeri\\Topviewmovies\\ar35motor\\2021_11_02  already exists!\n",
      "Loading  \\\\dk-server.dk.ucsd.edu\\afassihizakeri\\Topviewmovies\\ar35motor\\2021_11_02\\Mirror129videoR.avi\n",
      "Duration of video [s]:  9.22 , recorded with  40.0 fps!\n",
      "Overall # of frames:  369  found with (before cropping) frame dimensions:  314 700\n",
      "Starting to extract posture\n"
     ]
    },
    {
     "name": "stderr",
     "output_type": "stream",
     "text": [
      "370it [00:41,  8.89it/s]                                                                                               \n"
     ]
    },
    {
     "name": "stdout",
     "output_type": "stream",
     "text": [
      "Saving results in \\\\dk-server.dk.ucsd.edu\\afassihizakeri\\Topviewmovies\\ar35motor\\2021_11_02...\n",
      "Saving csv poses!\n",
      "Starting to analyze %  \\\\dk-server.dk.ucsd.edu\\afassihizakeri\\Topviewmovies\\ar35motor\\2021_11_02\\Mirror86videoR.avi\n",
      "\\\\dk-server.dk.ucsd.edu\\afassihizakeri\\Topviewmovies\\ar35motor\\2021_11_02  already exists!\n",
      "Loading  \\\\dk-server.dk.ucsd.edu\\afassihizakeri\\Topviewmovies\\ar35motor\\2021_11_02\\Mirror86videoR.avi\n",
      "Duration of video [s]:  11.05 , recorded with  40.0 fps!\n",
      "Overall # of frames:  442  found with (before cropping) frame dimensions:  314 700\n",
      "Starting to extract posture\n"
     ]
    },
    {
     "name": "stderr",
     "output_type": "stream",
     "text": [
      "450it [00:49,  9.00it/s]                                                                                               \n"
     ]
    },
    {
     "name": "stdout",
     "output_type": "stream",
     "text": [
      "Saving results in \\\\dk-server.dk.ucsd.edu\\afassihizakeri\\Topviewmovies\\ar35motor\\2021_11_02...\n",
      "Saving csv poses!\n",
      "Starting to analyze %  \\\\dk-server.dk.ucsd.edu\\afassihizakeri\\Topviewmovies\\ar35motor\\2021_11_02\\Mirror101videoR.avi\n",
      "\\\\dk-server.dk.ucsd.edu\\afassihizakeri\\Topviewmovies\\ar35motor\\2021_11_02  already exists!\n",
      "Loading  \\\\dk-server.dk.ucsd.edu\\afassihizakeri\\Topviewmovies\\ar35motor\\2021_11_02\\Mirror101videoR.avi\n",
      "Duration of video [s]:  10.97 , recorded with  40.0 fps!\n",
      "Overall # of frames:  439  found with (before cropping) frame dimensions:  314 700\n",
      "Starting to extract posture\n"
     ]
    },
    {
     "name": "stderr",
     "output_type": "stream",
     "text": [
      "440it [00:48,  9.06it/s]                                                                                               \n"
     ]
    },
    {
     "name": "stdout",
     "output_type": "stream",
     "text": [
      "Saving results in \\\\dk-server.dk.ucsd.edu\\afassihizakeri\\Topviewmovies\\ar35motor\\2021_11_02...\n",
      "Saving csv poses!\n",
      "Starting to analyze %  \\\\dk-server.dk.ucsd.edu\\afassihizakeri\\Topviewmovies\\ar35motor\\2021_11_02\\Mirror35videoR.avi\n",
      "\\\\dk-server.dk.ucsd.edu\\afassihizakeri\\Topviewmovies\\ar35motor\\2021_11_02  already exists!\n",
      "Loading  \\\\dk-server.dk.ucsd.edu\\afassihizakeri\\Topviewmovies\\ar35motor\\2021_11_02\\Mirror35videoR.avi\n",
      "Duration of video [s]:  11.93 , recorded with  40.0 fps!\n",
      "Overall # of frames:  477  found with (before cropping) frame dimensions:  314 700\n",
      "Starting to extract posture\n"
     ]
    },
    {
     "name": "stderr",
     "output_type": "stream",
     "text": [
      "480it [00:52,  9.08it/s]                                                                                               \n"
     ]
    },
    {
     "name": "stdout",
     "output_type": "stream",
     "text": [
      "Saving results in \\\\dk-server.dk.ucsd.edu\\afassihizakeri\\Topviewmovies\\ar35motor\\2021_11_02...\n",
      "Saving csv poses!\n",
      "Starting to analyze %  \\\\dk-server.dk.ucsd.edu\\afassihizakeri\\Topviewmovies\\ar35motor\\2021_11_02\\Mirror128videoR.avi\n",
      "\\\\dk-server.dk.ucsd.edu\\afassihizakeri\\Topviewmovies\\ar35motor\\2021_11_02  already exists!\n",
      "Loading  \\\\dk-server.dk.ucsd.edu\\afassihizakeri\\Topviewmovies\\ar35motor\\2021_11_02\\Mirror128videoR.avi\n",
      "Duration of video [s]:  12.5 , recorded with  40.0 fps!\n",
      "Overall # of frames:  500  found with (before cropping) frame dimensions:  314 700\n",
      "Starting to extract posture\n"
     ]
    },
    {
     "name": "stderr",
     "output_type": "stream",
     "text": [
      "510it [00:56,  9.10it/s]                                                                                               \n"
     ]
    },
    {
     "name": "stdout",
     "output_type": "stream",
     "text": [
      "Saving results in \\\\dk-server.dk.ucsd.edu\\afassihizakeri\\Topviewmovies\\ar35motor\\2021_11_02...\n",
      "Saving csv poses!\n",
      "Starting to analyze %  \\\\dk-server.dk.ucsd.edu\\afassihizakeri\\Topviewmovies\\ar35motor\\2021_11_02\\Mirror42videoR.avi\n",
      "\\\\dk-server.dk.ucsd.edu\\afassihizakeri\\Topviewmovies\\ar35motor\\2021_11_02  already exists!\n",
      "Loading  \\\\dk-server.dk.ucsd.edu\\afassihizakeri\\Topviewmovies\\ar35motor\\2021_11_02\\Mirror42videoR.avi\n",
      "Duration of video [s]:  12.5 , recorded with  40.0 fps!\n",
      "Overall # of frames:  500  found with (before cropping) frame dimensions:  314 700\n",
      "Starting to extract posture\n"
     ]
    },
    {
     "name": "stderr",
     "output_type": "stream",
     "text": [
      "510it [00:55,  9.12it/s]                                                                                               \n"
     ]
    },
    {
     "name": "stdout",
     "output_type": "stream",
     "text": [
      "Saving results in \\\\dk-server.dk.ucsd.edu\\afassihizakeri\\Topviewmovies\\ar35motor\\2021_11_02...\n",
      "Saving csv poses!\n",
      "Starting to analyze %  \\\\dk-server.dk.ucsd.edu\\afassihizakeri\\Topviewmovies\\ar35motor\\2021_11_02\\Mirror176videoR.avi\n",
      "\\\\dk-server.dk.ucsd.edu\\afassihizakeri\\Topviewmovies\\ar35motor\\2021_11_02  already exists!\n",
      "Loading  \\\\dk-server.dk.ucsd.edu\\afassihizakeri\\Topviewmovies\\ar35motor\\2021_11_02\\Mirror176videoR.avi\n",
      "Duration of video [s]:  10.3 , recorded with  40.0 fps!\n",
      "Overall # of frames:  412  found with (before cropping) frame dimensions:  314 700\n",
      "Starting to extract posture\n"
     ]
    },
    {
     "name": "stderr",
     "output_type": "stream",
     "text": [
      "420it [00:45,  9.13it/s]                                                                                               \n"
     ]
    },
    {
     "name": "stdout",
     "output_type": "stream",
     "text": [
      "Saving results in \\\\dk-server.dk.ucsd.edu\\afassihizakeri\\Topviewmovies\\ar35motor\\2021_11_02...\n",
      "Saving csv poses!\n",
      "Starting to analyze %  \\\\dk-server.dk.ucsd.edu\\afassihizakeri\\Topviewmovies\\ar35motor\\2021_11_02\\Mirror87videoR.avi\n",
      "\\\\dk-server.dk.ucsd.edu\\afassihizakeri\\Topviewmovies\\ar35motor\\2021_11_02  already exists!\n",
      "Loading  \\\\dk-server.dk.ucsd.edu\\afassihizakeri\\Topviewmovies\\ar35motor\\2021_11_02\\Mirror87videoR.avi\n",
      "Duration of video [s]:  10.97 , recorded with  40.0 fps!\n",
      "Overall # of frames:  439  found with (before cropping) frame dimensions:  314 700\n",
      "Starting to extract posture\n"
     ]
    },
    {
     "name": "stderr",
     "output_type": "stream",
     "text": [
      "440it [00:48,  9.06it/s]                                                                                               \n"
     ]
    },
    {
     "name": "stdout",
     "output_type": "stream",
     "text": [
      "Saving results in \\\\dk-server.dk.ucsd.edu\\afassihizakeri\\Topviewmovies\\ar35motor\\2021_11_02...\n",
      "Saving csv poses!\n",
      "Starting to analyze %  \\\\dk-server.dk.ucsd.edu\\afassihizakeri\\Topviewmovies\\ar35motor\\2021_11_02\\Mirror34videoR.avi\n",
      "\\\\dk-server.dk.ucsd.edu\\afassihizakeri\\Topviewmovies\\ar35motor\\2021_11_02  already exists!\n",
      "Loading  \\\\dk-server.dk.ucsd.edu\\afassihizakeri\\Topviewmovies\\ar35motor\\2021_11_02\\Mirror34videoR.avi\n",
      "Duration of video [s]:  11.7 , recorded with  40.0 fps!\n",
      "Overall # of frames:  468  found with (before cropping) frame dimensions:  314 700\n",
      "Starting to extract posture\n"
     ]
    },
    {
     "name": "stderr",
     "output_type": "stream",
     "text": [
      "470it [00:52,  9.00it/s]                                                                                               \n"
     ]
    },
    {
     "name": "stdout",
     "output_type": "stream",
     "text": [
      "Saving results in \\\\dk-server.dk.ucsd.edu\\afassihizakeri\\Topviewmovies\\ar35motor\\2021_11_02...\n",
      "Saving csv poses!\n",
      "Starting to analyze %  \\\\dk-server.dk.ucsd.edu\\afassihizakeri\\Topviewmovies\\ar35motor\\2021_11_02\\Mirror100videoR.avi\n",
      "\\\\dk-server.dk.ucsd.edu\\afassihizakeri\\Topviewmovies\\ar35motor\\2021_11_02  already exists!\n",
      "Loading  \\\\dk-server.dk.ucsd.edu\\afassihizakeri\\Topviewmovies\\ar35motor\\2021_11_02\\Mirror100videoR.avi\n",
      "Duration of video [s]:  9.65 , recorded with  40.0 fps!\n",
      "Overall # of frames:  386  found with (before cropping) frame dimensions:  314 700\n",
      "Starting to extract posture\n"
     ]
    },
    {
     "name": "stderr",
     "output_type": "stream",
     "text": [
      "390it [00:43,  8.98it/s]                                                                                               \n"
     ]
    },
    {
     "name": "stdout",
     "output_type": "stream",
     "text": [
      "Saving results in \\\\dk-server.dk.ucsd.edu\\afassihizakeri\\Topviewmovies\\ar35motor\\2021_11_02...\n",
      "Saving csv poses!\n",
      "The videos are analyzed. Now your research can truly start! \n",
      " You can create labeled videos with 'create_labeled_video'\n",
      "If the tracking is not satisfactory for some videos, consider expanding the training set. You can use the function 'extract_outlier_frames' to extract a few representative outlier frames.\n",
      "Filtering with median model \\\\dk-server.dk.ucsd.edu\\afassihizakeri\\Topviewmovies\\ar35motor\\2021_11_02\\Mirror112videoR.avi\n",
      "No unfiltered data file found in \\\\dk-server.dk.ucsd.edu\\afassihizakeri\\Topviewmovies\\ar35motor\\2021_11_02 for video Mirror112videoR and scorer DLC_resnet152_ar30shiwkerSep13shuffle1_632000.\n",
      "Filtering with median model \\\\dk-server.dk.ucsd.edu\\afassihizakeri\\Topviewmovies\\ar35motor\\2021_11_02\\Mirror26videoR.avi\n",
      "No unfiltered data file found in \\\\dk-server.dk.ucsd.edu\\afassihizakeri\\Topviewmovies\\ar35motor\\2021_11_02 for video Mirror26videoR and scorer DLC_resnet152_ar30shiwkerSep13shuffle1_632000.\n",
      "Filtering with median model \\\\dk-server.dk.ucsd.edu\\afassihizakeri\\Topviewmovies\\ar35motor\\2021_11_02\\Mirror78videoR.avi\n",
      "No unfiltered data file found in \\\\dk-server.dk.ucsd.edu\\afassihizakeri\\Topviewmovies\\ar35motor\\2021_11_02 for video Mirror78videoR and scorer DLC_resnet152_ar30shiwkerSep13shuffle1_632000.\n",
      "Filtering with median model \\\\dk-server.dk.ucsd.edu\\afassihizakeri\\Topviewmovies\\ar35motor\\2021_11_02\\Mirror201videoR.avi\n",
      "No unfiltered data file found in \\\\dk-server.dk.ucsd.edu\\afassihizakeri\\Topviewmovies\\ar35motor\\2021_11_02 for video Mirror201videoR and scorer DLC_resnet152_ar30shiwkerSep13shuffle1_632000.\n",
      "Filtering with median model \\\\dk-server.dk.ucsd.edu\\afassihizakeri\\Topviewmovies\\ar35motor\\2021_11_02\\Mirror189videoR.avi\n",
      "No unfiltered data file found in \\\\dk-server.dk.ucsd.edu\\afassihizakeri\\Topviewmovies\\ar35motor\\2021_11_02 for video Mirror189videoR and scorer DLC_resnet152_ar30shiwkerSep13shuffle1_632000.\n",
      "Filtering with median model \\\\dk-server.dk.ucsd.edu\\afassihizakeri\\Topviewmovies\\ar35motor\\2021_11_02\\Mirror95videoR.avi\n",
      "No unfiltered data file found in \\\\dk-server.dk.ucsd.edu\\afassihizakeri\\Topviewmovies\\ar35motor\\2021_11_02 for video Mirror95videoR and scorer DLC_resnet152_ar30shiwkerSep13shuffle1_632000.\n",
      "Filtering with median model \\\\dk-server.dk.ucsd.edu\\afassihizakeri\\Topviewmovies\\ar35motor\\2021_11_02\\Mirror164videoR.avi\n",
      "No unfiltered data file found in \\\\dk-server.dk.ucsd.edu\\afassihizakeri\\Topviewmovies\\ar35motor\\2021_11_02 for video Mirror164videoR and scorer DLC_resnet152_ar30shiwkerSep13shuffle1_632000.\n",
      "Filtering with median model \\\\dk-server.dk.ucsd.edu\\afassihizakeri\\Topviewmovies\\ar35motor\\2021_11_02\\Mirror50videoR.avi\n",
      "No unfiltered data file found in \\\\dk-server.dk.ucsd.edu\\afassihizakeri\\Topviewmovies\\ar35motor\\2021_11_02 for video Mirror50videoR and scorer DLC_resnet152_ar30shiwkerSep13shuffle1_632000.\n",
      "Filtering with median model \\\\dk-server.dk.ucsd.edu\\afassihizakeri\\Topviewmovies\\ar35motor\\2021_11_02\\Mirror79videoR.avi\n",
      "No unfiltered data file found in \\\\dk-server.dk.ucsd.edu\\afassihizakeri\\Topviewmovies\\ar35motor\\2021_11_02 for video Mirror79videoR and scorer DLC_resnet152_ar30shiwkerSep13shuffle1_632000.\n",
      "Filtering with median model \\\\dk-server.dk.ucsd.edu\\afassihizakeri\\Topviewmovies\\ar35motor\\2021_11_02\\Mirror27videoR.avi\n",
      "No unfiltered data file found in \\\\dk-server.dk.ucsd.edu\\afassihizakeri\\Topviewmovies\\ar35motor\\2021_11_02 for video Mirror27videoR and scorer DLC_resnet152_ar30shiwkerSep13shuffle1_632000.\n",
      "Filtering with median model \\\\dk-server.dk.ucsd.edu\\afassihizakeri\\Topviewmovies\\ar35motor\\2021_11_02\\Mirror113videoR.avi\n",
      "No unfiltered data file found in \\\\dk-server.dk.ucsd.edu\\afassihizakeri\\Topviewmovies\\ar35motor\\2021_11_02 for video Mirror113videoR and scorer DLC_resnet152_ar30shiwkerSep13shuffle1_632000.\n",
      "Filtering with median model \\\\dk-server.dk.ucsd.edu\\afassihizakeri\\Topviewmovies\\ar35motor\\2021_11_02\\Mirror188videoR.avi\n",
      "No unfiltered data file found in \\\\dk-server.dk.ucsd.edu\\afassihizakeri\\Topviewmovies\\ar35motor\\2021_11_02 for video Mirror188videoR and scorer DLC_resnet152_ar30shiwkerSep13shuffle1_632000.\n",
      "Filtering with median model \\\\dk-server.dk.ucsd.edu\\afassihizakeri\\Topviewmovies\\ar35motor\\2021_11_02\\Mirror200videoR.avi\n",
      "No unfiltered data file found in \\\\dk-server.dk.ucsd.edu\\afassihizakeri\\Topviewmovies\\ar35motor\\2021_11_02 for video Mirror200videoR and scorer DLC_resnet152_ar30shiwkerSep13shuffle1_632000.\n",
      "Filtering with median model \\\\dk-server.dk.ucsd.edu\\afassihizakeri\\Topviewmovies\\ar35motor\\2021_11_02\\Mirror94videoR.avi\n",
      "No unfiltered data file found in \\\\dk-server.dk.ucsd.edu\\afassihizakeri\\Topviewmovies\\ar35motor\\2021_11_02 for video Mirror94videoR and scorer DLC_resnet152_ar30shiwkerSep13shuffle1_632000.\n",
      "Filtering with median model \\\\dk-server.dk.ucsd.edu\\afassihizakeri\\Topviewmovies\\ar35motor\\2021_11_02\\Mirror51videoR.avi\n",
      "No unfiltered data file found in \\\\dk-server.dk.ucsd.edu\\afassihizakeri\\Topviewmovies\\ar35motor\\2021_11_02 for video Mirror51videoR and scorer DLC_resnet152_ar30shiwkerSep13shuffle1_632000.\n",
      "Filtering with median model \\\\dk-server.dk.ucsd.edu\\afassihizakeri\\Topviewmovies\\ar35motor\\2021_11_02\\Mirror165videoR.avi\n",
      "No unfiltered data file found in \\\\dk-server.dk.ucsd.edu\\afassihizakeri\\Topviewmovies\\ar35motor\\2021_11_02 for video Mirror165videoR and scorer DLC_resnet152_ar30shiwkerSep13shuffle1_632000.\n",
      "Filtering with median model \\\\dk-server.dk.ucsd.edu\\afassihizakeri\\Topviewmovies\\ar35motor\\2021_11_02\\Mirror203videoR.avi\n",
      "No unfiltered data file found in \\\\dk-server.dk.ucsd.edu\\afassihizakeri\\Topviewmovies\\ar35motor\\2021_11_02 for video Mirror203videoR and scorer DLC_resnet152_ar30shiwkerSep13shuffle1_632000.\n",
      "Filtering with median model \\\\dk-server.dk.ucsd.edu\\afassihizakeri\\Topviewmovies\\ar35motor\\2021_11_02\\Mirror110videoR.avi\n",
      "No unfiltered data file found in \\\\dk-server.dk.ucsd.edu\\afassihizakeri\\Topviewmovies\\ar35motor\\2021_11_02 for video Mirror110videoR and scorer DLC_resnet152_ar30shiwkerSep13shuffle1_632000.\n",
      "Filtering with median model \\\\dk-server.dk.ucsd.edu\\afassihizakeri\\Topviewmovies\\ar35motor\\2021_11_02\\Mirror24videoR.avi\n",
      "No unfiltered data file found in \\\\dk-server.dk.ucsd.edu\\afassihizakeri\\Topviewmovies\\ar35motor\\2021_11_02 for video Mirror24videoR and scorer DLC_resnet152_ar30shiwkerSep13shuffle1_632000.\n",
      "Filtering with median model \\\\dk-server.dk.ucsd.edu\\afassihizakeri\\Topviewmovies\\ar35motor\\2021_11_02\\Mirror138videoR.avi\n",
      "No unfiltered data file found in \\\\dk-server.dk.ucsd.edu\\afassihizakeri\\Topviewmovies\\ar35motor\\2021_11_02 for video Mirror138videoR and scorer DLC_resnet152_ar30shiwkerSep13shuffle1_632000.\n",
      "Filtering with median model \\\\dk-server.dk.ucsd.edu\\afassihizakeri\\Topviewmovies\\ar35motor\\2021_11_02\\Mirror166videoR.avi\n",
      "No unfiltered data file found in \\\\dk-server.dk.ucsd.edu\\afassihizakeri\\Topviewmovies\\ar35motor\\2021_11_02 for video Mirror166videoR and scorer DLC_resnet152_ar30shiwkerSep13shuffle1_632000.\n",
      "Filtering with median model \\\\dk-server.dk.ucsd.edu\\afassihizakeri\\Topviewmovies\\ar35motor\\2021_11_02\\Mirror52videoR.avi\n",
      "No unfiltered data file found in \\\\dk-server.dk.ucsd.edu\\afassihizakeri\\Topviewmovies\\ar35motor\\2021_11_02 for video Mirror52videoR and scorer DLC_resnet152_ar30shiwkerSep13shuffle1_632000.\n",
      "Filtering with median model \\\\dk-server.dk.ucsd.edu\\afassihizakeri\\Topviewmovies\\ar35motor\\2021_11_02\\Mirror97videoR.avi\n",
      "No unfiltered data file found in \\\\dk-server.dk.ucsd.edu\\afassihizakeri\\Topviewmovies\\ar35motor\\2021_11_02 for video Mirror97videoR and scorer DLC_resnet152_ar30shiwkerSep13shuffle1_632000.\n",
      "Filtering with median model \\\\dk-server.dk.ucsd.edu\\afassihizakeri\\Topviewmovies\\ar35motor\\2021_11_02\\Mirror202videoR.avi\n",
      "No unfiltered data file found in \\\\dk-server.dk.ucsd.edu\\afassihizakeri\\Topviewmovies\\ar35motor\\2021_11_02 for video Mirror202videoR and scorer DLC_resnet152_ar30shiwkerSep13shuffle1_632000.\n",
      "Filtering with median model \\\\dk-server.dk.ucsd.edu\\afassihizakeri\\Topviewmovies\\ar35motor\\2021_11_02\\Mirror25videoR.avi\n",
      "No unfiltered data file found in \\\\dk-server.dk.ucsd.edu\\afassihizakeri\\Topviewmovies\\ar35motor\\2021_11_02 for video Mirror25videoR and scorer DLC_resnet152_ar30shiwkerSep13shuffle1_632000.\n",
      "Filtering with median model \\\\dk-server.dk.ucsd.edu\\afassihizakeri\\Topviewmovies\\ar35motor\\2021_11_02\\Mirror111videoR.avi\n"
     ]
    },
    {
     "name": "stdout",
     "output_type": "stream",
     "text": [
      "No unfiltered data file found in \\\\dk-server.dk.ucsd.edu\\afassihizakeri\\Topviewmovies\\ar35motor\\2021_11_02 for video Mirror111videoR and scorer DLC_resnet152_ar30shiwkerSep13shuffle1_632000.\n",
      "Filtering with median model \\\\dk-server.dk.ucsd.edu\\afassihizakeri\\Topviewmovies\\ar35motor\\2021_11_02\\Mirror53videoR.avi\n",
      "No unfiltered data file found in \\\\dk-server.dk.ucsd.edu\\afassihizakeri\\Topviewmovies\\ar35motor\\2021_11_02 for video Mirror53videoR and scorer DLC_resnet152_ar30shiwkerSep13shuffle1_632000.\n",
      "Filtering with median model \\\\dk-server.dk.ucsd.edu\\afassihizakeri\\Topviewmovies\\ar35motor\\2021_11_02\\Mirror167videoR.avi\n",
      "No unfiltered data file found in \\\\dk-server.dk.ucsd.edu\\afassihizakeri\\Topviewmovies\\ar35motor\\2021_11_02 for video Mirror167videoR and scorer DLC_resnet152_ar30shiwkerSep13shuffle1_632000.\n",
      "Filtering with median model \\\\dk-server.dk.ucsd.edu\\afassihizakeri\\Topviewmovies\\ar35motor\\2021_11_02\\Mirror139videoR.avi\n",
      "No unfiltered data file found in \\\\dk-server.dk.ucsd.edu\\afassihizakeri\\Topviewmovies\\ar35motor\\2021_11_02 for video Mirror139videoR and scorer DLC_resnet152_ar30shiwkerSep13shuffle1_632000.\n",
      "Filtering with median model \\\\dk-server.dk.ucsd.edu\\afassihizakeri\\Topviewmovies\\ar35motor\\2021_11_02\\Mirror96videoR.avi\n",
      "No unfiltered data file found in \\\\dk-server.dk.ucsd.edu\\afassihizakeri\\Topviewmovies\\ar35motor\\2021_11_02 for video Mirror96videoR and scorer DLC_resnet152_ar30shiwkerSep13shuffle1_632000.\n",
      "Filtering with median model \\\\dk-server.dk.ucsd.edu\\afassihizakeri\\Topviewmovies\\ar35motor\\2021_11_02\\Mirror54videoR.avi\n",
      "No unfiltered data file found in \\\\dk-server.dk.ucsd.edu\\afassihizakeri\\Topviewmovies\\ar35motor\\2021_11_02 for video Mirror54videoR and scorer DLC_resnet152_ar30shiwkerSep13shuffle1_632000.\n",
      "Filtering with median model \\\\dk-server.dk.ucsd.edu\\afassihizakeri\\Topviewmovies\\ar35motor\\2021_11_02\\Mirror160videoR.avi\n",
      "No unfiltered data file found in \\\\dk-server.dk.ucsd.edu\\afassihizakeri\\Topviewmovies\\ar35motor\\2021_11_02 for video Mirror160videoR and scorer DLC_resnet152_ar30shiwkerSep13shuffle1_632000.\n",
      "Filtering with median model \\\\dk-server.dk.ucsd.edu\\afassihizakeri\\Topviewmovies\\ar35motor\\2021_11_02\\Mirror91videoR.avi\n",
      "No unfiltered data file found in \\\\dk-server.dk.ucsd.edu\\afassihizakeri\\Topviewmovies\\ar35motor\\2021_11_02 for video Mirror91videoR and scorer DLC_resnet152_ar30shiwkerSep13shuffle1_632000.\n",
      "Filtering with median model \\\\dk-server.dk.ucsd.edu\\afassihizakeri\\Topviewmovies\\ar35motor\\2021_11_02\\Mirror205videoR.avi\n",
      "No unfiltered data file found in \\\\dk-server.dk.ucsd.edu\\afassihizakeri\\Topviewmovies\\ar35motor\\2021_11_02 for video Mirror205videoR and scorer DLC_resnet152_ar30shiwkerSep13shuffle1_632000.\n",
      "Filtering with median model \\\\dk-server.dk.ucsd.edu\\afassihizakeri\\Topviewmovies\\ar35motor\\2021_11_02\\Mirror22videoR.avi\n",
      "No unfiltered data file found in \\\\dk-server.dk.ucsd.edu\\afassihizakeri\\Topviewmovies\\ar35motor\\2021_11_02 for video Mirror22videoR and scorer DLC_resnet152_ar30shiwkerSep13shuffle1_632000.\n",
      "Filtering with median model \\\\dk-server.dk.ucsd.edu\\afassihizakeri\\Topviewmovies\\ar35motor\\2021_11_02\\Mirror116videoR.avi\n",
      "No unfiltered data file found in \\\\dk-server.dk.ucsd.edu\\afassihizakeri\\Topviewmovies\\ar35motor\\2021_11_02 for video Mirror116videoR and scorer DLC_resnet152_ar30shiwkerSep13shuffle1_632000.\n",
      "Filtering with median model \\\\dk-server.dk.ucsd.edu\\afassihizakeri\\Topviewmovies\\ar35motor\\2021_11_02\\Mirror148videoR.avi\n",
      "No unfiltered data file found in \\\\dk-server.dk.ucsd.edu\\afassihizakeri\\Topviewmovies\\ar35motor\\2021_11_02 for video Mirror148videoR and scorer DLC_resnet152_ar30shiwkerSep13shuffle1_632000.\n",
      "Filtering with median model \\\\dk-server.dk.ucsd.edu\\afassihizakeri\\Topviewmovies\\ar35motor\\2021_11_02\\Mirror161videoR.avi\n",
      "No unfiltered data file found in \\\\dk-server.dk.ucsd.edu\\afassihizakeri\\Topviewmovies\\ar35motor\\2021_11_02 for video Mirror161videoR and scorer DLC_resnet152_ar30shiwkerSep13shuffle1_632000.\n",
      "Filtering with median model \\\\dk-server.dk.ucsd.edu\\afassihizakeri\\Topviewmovies\\ar35motor\\2021_11_02\\Mirror55videoR.avi\n",
      "No unfiltered data file found in \\\\dk-server.dk.ucsd.edu\\afassihizakeri\\Topviewmovies\\ar35motor\\2021_11_02 for video Mirror55videoR and scorer DLC_resnet152_ar30shiwkerSep13shuffle1_632000.\n",
      "Filtering with median model \\\\dk-server.dk.ucsd.edu\\afassihizakeri\\Topviewmovies\\ar35motor\\2021_11_02\\Mirror90videoR.avi\n",
      "No unfiltered data file found in \\\\dk-server.dk.ucsd.edu\\afassihizakeri\\Topviewmovies\\ar35motor\\2021_11_02 for video Mirror90videoR and scorer DLC_resnet152_ar30shiwkerSep13shuffle1_632000.\n",
      "Filtering with median model \\\\dk-server.dk.ucsd.edu\\afassihizakeri\\Topviewmovies\\ar35motor\\2021_11_02\\Mirror204videoR.avi\n",
      "No unfiltered data file found in \\\\dk-server.dk.ucsd.edu\\afassihizakeri\\Topviewmovies\\ar35motor\\2021_11_02 for video Mirror204videoR and scorer DLC_resnet152_ar30shiwkerSep13shuffle1_632000.\n",
      "Filtering with median model \\\\dk-server.dk.ucsd.edu\\afassihizakeri\\Topviewmovies\\ar35motor\\2021_11_02\\Mirror149videoR.avi\n",
      "No unfiltered data file found in \\\\dk-server.dk.ucsd.edu\\afassihizakeri\\Topviewmovies\\ar35motor\\2021_11_02 for video Mirror149videoR and scorer DLC_resnet152_ar30shiwkerSep13shuffle1_632000.\n",
      "Filtering with median model \\\\dk-server.dk.ucsd.edu\\afassihizakeri\\Topviewmovies\\ar35motor\\2021_11_02\\Mirror117videoR.avi\n",
      "No unfiltered data file found in \\\\dk-server.dk.ucsd.edu\\afassihizakeri\\Topviewmovies\\ar35motor\\2021_11_02 for video Mirror117videoR and scorer DLC_resnet152_ar30shiwkerSep13shuffle1_632000.\n",
      "Filtering with median model \\\\dk-server.dk.ucsd.edu\\afassihizakeri\\Topviewmovies\\ar35motor\\2021_11_02\\Mirror23videoR.avi\n",
      "No unfiltered data file found in \\\\dk-server.dk.ucsd.edu\\afassihizakeri\\Topviewmovies\\ar35motor\\2021_11_02 for video Mirror23videoR and scorer DLC_resnet152_ar30shiwkerSep13shuffle1_632000.\n",
      "Filtering with median model \\\\dk-server.dk.ucsd.edu\\afassihizakeri\\Topviewmovies\\ar35motor\\2021_11_02\\Mirror8videoR.avi\n",
      "No unfiltered data file found in \\\\dk-server.dk.ucsd.edu\\afassihizakeri\\Topviewmovies\\ar35motor\\2021_11_02 for video Mirror8videoR and scorer DLC_resnet152_ar30shiwkerSep13shuffle1_632000.\n",
      "Filtering with median model \\\\dk-server.dk.ucsd.edu\\afassihizakeri\\Topviewmovies\\ar35motor\\2021_11_02\\Mirror93videoR.avi\n",
      "No unfiltered data file found in \\\\dk-server.dk.ucsd.edu\\afassihizakeri\\Topviewmovies\\ar35motor\\2021_11_02 for video Mirror93videoR and scorer DLC_resnet152_ar30shiwkerSep13shuffle1_632000.\n",
      "Filtering with median model \\\\dk-server.dk.ucsd.edu\\afassihizakeri\\Topviewmovies\\ar35motor\\2021_11_02\\Mirror56videoR.avi\n",
      "No unfiltered data file found in \\\\dk-server.dk.ucsd.edu\\afassihizakeri\\Topviewmovies\\ar35motor\\2021_11_02 for video Mirror56videoR and scorer DLC_resnet152_ar30shiwkerSep13shuffle1_632000.\n",
      "Filtering with median model \\\\dk-server.dk.ucsd.edu\\afassihizakeri\\Topviewmovies\\ar35motor\\2021_11_02\\Mirror162videoR.avi\n",
      "No unfiltered data file found in \\\\dk-server.dk.ucsd.edu\\afassihizakeri\\Topviewmovies\\ar35motor\\2021_11_02 for video Mirror162videoR and scorer DLC_resnet152_ar30shiwkerSep13shuffle1_632000.\n",
      "Filtering with median model \\\\dk-server.dk.ucsd.edu\\afassihizakeri\\Topviewmovies\\ar35motor\\2021_11_02\\Mirror20videoR.avi\n",
      "No unfiltered data file found in \\\\dk-server.dk.ucsd.edu\\afassihizakeri\\Topviewmovies\\ar35motor\\2021_11_02 for video Mirror20videoR and scorer DLC_resnet152_ar30shiwkerSep13shuffle1_632000.\n",
      "Filtering with median model \\\\dk-server.dk.ucsd.edu\\afassihizakeri\\Topviewmovies\\ar35motor\\2021_11_02\\Mirror114videoR.avi\n",
      "No unfiltered data file found in \\\\dk-server.dk.ucsd.edu\\afassihizakeri\\Topviewmovies\\ar35motor\\2021_11_02 for video Mirror114videoR and scorer DLC_resnet152_ar30shiwkerSep13shuffle1_632000.\n",
      "Filtering with median model \\\\dk-server.dk.ucsd.edu\\afassihizakeri\\Topviewmovies\\ar35motor\\2021_11_02\\Mirror207videoR.avi\n",
      "No unfiltered data file found in \\\\dk-server.dk.ucsd.edu\\afassihizakeri\\Topviewmovies\\ar35motor\\2021_11_02 for video Mirror207videoR and scorer DLC_resnet152_ar30shiwkerSep13shuffle1_632000.\n",
      "Filtering with median model \\\\dk-server.dk.ucsd.edu\\afassihizakeri\\Topviewmovies\\ar35motor\\2021_11_02\\Mirror92videoR.avi\n",
      "No unfiltered data file found in \\\\dk-server.dk.ucsd.edu\\afassihizakeri\\Topviewmovies\\ar35motor\\2021_11_02 for video Mirror92videoR and scorer DLC_resnet152_ar30shiwkerSep13shuffle1_632000.\n",
      "Filtering with median model \\\\dk-server.dk.ucsd.edu\\afassihizakeri\\Topviewmovies\\ar35motor\\2021_11_02\\Mirror9videoR.avi\n"
     ]
    },
    {
     "name": "stdout",
     "output_type": "stream",
     "text": [
      "No unfiltered data file found in \\\\dk-server.dk.ucsd.edu\\afassihizakeri\\Topviewmovies\\ar35motor\\2021_11_02 for video Mirror9videoR and scorer DLC_resnet152_ar30shiwkerSep13shuffle1_632000.\n",
      "Filtering with median model \\\\dk-server.dk.ucsd.edu\\afassihizakeri\\Topviewmovies\\ar35motor\\2021_11_02\\Mirror163videoR.avi\n",
      "No unfiltered data file found in \\\\dk-server.dk.ucsd.edu\\afassihizakeri\\Topviewmovies\\ar35motor\\2021_11_02 for video Mirror163videoR and scorer DLC_resnet152_ar30shiwkerSep13shuffle1_632000.\n",
      "Filtering with median model \\\\dk-server.dk.ucsd.edu\\afassihizakeri\\Topviewmovies\\ar35motor\\2021_11_02\\Mirror57videoR.avi\n",
      "No unfiltered data file found in \\\\dk-server.dk.ucsd.edu\\afassihizakeri\\Topviewmovies\\ar35motor\\2021_11_02 for video Mirror57videoR and scorer DLC_resnet152_ar30shiwkerSep13shuffle1_632000.\n",
      "Filtering with median model \\\\dk-server.dk.ucsd.edu\\afassihizakeri\\Topviewmovies\\ar35motor\\2021_11_02\\Mirror115videoR.avi\n",
      "No unfiltered data file found in \\\\dk-server.dk.ucsd.edu\\afassihizakeri\\Topviewmovies\\ar35motor\\2021_11_02 for video Mirror115videoR and scorer DLC_resnet152_ar30shiwkerSep13shuffle1_632000.\n",
      "Filtering with median model \\\\dk-server.dk.ucsd.edu\\afassihizakeri\\Topviewmovies\\ar35motor\\2021_11_02\\Mirror21videoR.avi\n",
      "No unfiltered data file found in \\\\dk-server.dk.ucsd.edu\\afassihizakeri\\Topviewmovies\\ar35motor\\2021_11_02 for video Mirror21videoR and scorer DLC_resnet152_ar30shiwkerSep13shuffle1_632000.\n",
      "Filtering with median model \\\\dk-server.dk.ucsd.edu\\afassihizakeri\\Topviewmovies\\ar35motor\\2021_11_02\\Mirror206videoR.avi\n",
      "No unfiltered data file found in \\\\dk-server.dk.ucsd.edu\\afassihizakeri\\Topviewmovies\\ar35motor\\2021_11_02 for video Mirror206videoR and scorer DLC_resnet152_ar30shiwkerSep13shuffle1_632000.\n",
      "Filtering with median model \\\\dk-server.dk.ucsd.edu\\afassihizakeri\\Topviewmovies\\ar35motor\\2021_11_02\\Mirror7videoR.avi\n",
      "No unfiltered data file found in \\\\dk-server.dk.ucsd.edu\\afassihizakeri\\Topviewmovies\\ar35motor\\2021_11_02 for video Mirror7videoR and scorer DLC_resnet152_ar30shiwkerSep13shuffle1_632000.\n",
      "Filtering with median model \\\\dk-server.dk.ucsd.edu\\afassihizakeri\\Topviewmovies\\ar35motor\\2021_11_02\\Mirror59videoR.avi\n",
      "No unfiltered data file found in \\\\dk-server.dk.ucsd.edu\\afassihizakeri\\Topviewmovies\\ar35motor\\2021_11_02 for video Mirror59videoR and scorer DLC_resnet152_ar30shiwkerSep13shuffle1_632000.\n",
      "Filtering with median model \\\\dk-server.dk.ucsd.edu\\afassihizakeri\\Topviewmovies\\ar35motor\\2021_11_02\\Mirror133videoR.avi\n",
      "No unfiltered data file found in \\\\dk-server.dk.ucsd.edu\\afassihizakeri\\Topviewmovies\\ar35motor\\2021_11_02 for video Mirror133videoR and scorer DLC_resnet152_ar30shiwkerSep13shuffle1_632000.\n",
      "Filtering with median model \\\\dk-server.dk.ucsd.edu\\afassihizakeri\\Topviewmovies\\ar35motor\\2021_11_02\\Mirror145videoR.avi\n",
      "No unfiltered data file found in \\\\dk-server.dk.ucsd.edu\\afassihizakeri\\Topviewmovies\\ar35motor\\2021_11_02 for video Mirror145videoR and scorer DLC_resnet152_ar30shiwkerSep13shuffle1_632000.\n",
      "Filtering with median model \\\\dk-server.dk.ucsd.edu\\afassihizakeri\\Topviewmovies\\ar35motor\\2021_11_02\\Mirror71videoR.avi\n",
      "No unfiltered data file found in \\\\dk-server.dk.ucsd.edu\\afassihizakeri\\Topviewmovies\\ar35motor\\2021_11_02 for video Mirror71videoR and scorer DLC_resnet152_ar30shiwkerSep13shuffle1_632000.\n",
      "Filtering with median model \\\\dk-server.dk.ucsd.edu\\afassihizakeri\\Topviewmovies\\ar35motor\\2021_11_02\\Mirror208videoR.avi\n",
      "No unfiltered data file found in \\\\dk-server.dk.ucsd.edu\\afassihizakeri\\Topviewmovies\\ar35motor\\2021_11_02 for video Mirror208videoR and scorer DLC_resnet152_ar30shiwkerSep13shuffle1_632000.\n",
      "Filtering with median model \\\\dk-server.dk.ucsd.edu\\afassihizakeri\\Topviewmovies\\ar35motor\\2021_11_02\\Mirror180videoR.avi\n",
      "No unfiltered data file found in \\\\dk-server.dk.ucsd.edu\\afassihizakeri\\Topviewmovies\\ar35motor\\2021_11_02 for video Mirror180videoR and scorer DLC_resnet152_ar30shiwkerSep13shuffle1_632000.\n",
      "Filtering with median model \\\\dk-server.dk.ucsd.edu\\afassihizakeri\\Topviewmovies\\ar35motor\\2021_11_02\\Mirror6videoR.avi\n",
      "No unfiltered data file found in \\\\dk-server.dk.ucsd.edu\\afassihizakeri\\Topviewmovies\\ar35motor\\2021_11_02 for video Mirror6videoR and scorer DLC_resnet152_ar30shiwkerSep13shuffle1_632000.\n",
      "Filtering with median model \\\\dk-server.dk.ucsd.edu\\afassihizakeri\\Topviewmovies\\ar35motor\\2021_11_02\\Mirror132videoR.avi\n",
      "No unfiltered data file found in \\\\dk-server.dk.ucsd.edu\\afassihizakeri\\Topviewmovies\\ar35motor\\2021_11_02 for video Mirror132videoR and scorer DLC_resnet152_ar30shiwkerSep13shuffle1_632000.\n",
      "Filtering with median model \\\\dk-server.dk.ucsd.edu\\afassihizakeri\\Topviewmovies\\ar35motor\\2021_11_02\\Mirror58videoR.avi\n",
      "No unfiltered data file found in \\\\dk-server.dk.ucsd.edu\\afassihizakeri\\Topviewmovies\\ar35motor\\2021_11_02 for video Mirror58videoR and scorer DLC_resnet152_ar30shiwkerSep13shuffle1_632000.\n",
      "Filtering with median model \\\\dk-server.dk.ucsd.edu\\afassihizakeri\\Topviewmovies\\ar35motor\\2021_11_02\\Mirror70videoR.avi\n",
      "No unfiltered data file found in \\\\dk-server.dk.ucsd.edu\\afassihizakeri\\Topviewmovies\\ar35motor\\2021_11_02 for video Mirror70videoR and scorer DLC_resnet152_ar30shiwkerSep13shuffle1_632000.\n",
      "Filtering with median model \\\\dk-server.dk.ucsd.edu\\afassihizakeri\\Topviewmovies\\ar35motor\\2021_11_02\\Mirror144videoR.avi\n",
      "No unfiltered data file found in \\\\dk-server.dk.ucsd.edu\\afassihizakeri\\Topviewmovies\\ar35motor\\2021_11_02 for video Mirror144videoR and scorer DLC_resnet152_ar30shiwkerSep13shuffle1_632000.\n",
      "Filtering with median model \\\\dk-server.dk.ucsd.edu\\afassihizakeri\\Topviewmovies\\ar35motor\\2021_11_02\\Mirror181videoR.avi\n",
      "No unfiltered data file found in \\\\dk-server.dk.ucsd.edu\\afassihizakeri\\Topviewmovies\\ar35motor\\2021_11_02 for video Mirror181videoR and scorer DLC_resnet152_ar30shiwkerSep13shuffle1_632000.\n",
      "Filtering with median model \\\\dk-server.dk.ucsd.edu\\afassihizakeri\\Topviewmovies\\ar35motor\\2021_11_02\\Mirror209videoR.avi\n",
      "No unfiltered data file found in \\\\dk-server.dk.ucsd.edu\\afassihizakeri\\Topviewmovies\\ar35motor\\2021_11_02 for video Mirror209videoR and scorer DLC_resnet152_ar30shiwkerSep13shuffle1_632000.\n",
      "Filtering with median model \\\\dk-server.dk.ucsd.edu\\afassihizakeri\\Topviewmovies\\ar35motor\\2021_11_02\\Mirror131videoR.avi\n",
      "No unfiltered data file found in \\\\dk-server.dk.ucsd.edu\\afassihizakeri\\Topviewmovies\\ar35motor\\2021_11_02 for video Mirror131videoR and scorer DLC_resnet152_ar30shiwkerSep13shuffle1_632000.\n",
      "Filtering with median model \\\\dk-server.dk.ucsd.edu\\afassihizakeri\\Topviewmovies\\ar35motor\\2021_11_02\\Mirror5videoR.avi\n",
      "No unfiltered data file found in \\\\dk-server.dk.ucsd.edu\\afassihizakeri\\Topviewmovies\\ar35motor\\2021_11_02 for video Mirror5videoR and scorer DLC_resnet152_ar30shiwkerSep13shuffle1_632000.\n",
      "Filtering with median model \\\\dk-server.dk.ucsd.edu\\afassihizakeri\\Topviewmovies\\ar35motor\\2021_11_02\\Mirror182videoR.avi\n",
      "No unfiltered data file found in \\\\dk-server.dk.ucsd.edu\\afassihizakeri\\Topviewmovies\\ar35motor\\2021_11_02 for video Mirror182videoR and scorer DLC_resnet152_ar30shiwkerSep13shuffle1_632000.\n",
      "Filtering with median model \\\\dk-server.dk.ucsd.edu\\afassihizakeri\\Topviewmovies\\ar35motor\\2021_11_02\\Mirror147videoR.avi\n",
      "No unfiltered data file found in \\\\dk-server.dk.ucsd.edu\\afassihizakeri\\Topviewmovies\\ar35motor\\2021_11_02 for video Mirror147videoR and scorer DLC_resnet152_ar30shiwkerSep13shuffle1_632000.\n",
      "Filtering with median model \\\\dk-server.dk.ucsd.edu\\afassihizakeri\\Topviewmovies\\ar35motor\\2021_11_02\\Mirror73videoR.avi\n",
      "No unfiltered data file found in \\\\dk-server.dk.ucsd.edu\\afassihizakeri\\Topviewmovies\\ar35motor\\2021_11_02 for video Mirror73videoR and scorer DLC_resnet152_ar30shiwkerSep13shuffle1_632000.\n",
      "Filtering with median model \\\\dk-server.dk.ucsd.edu\\afassihizakeri\\Topviewmovies\\ar35motor\\2021_11_02\\Mirror119videoR.avi\n",
      "No unfiltered data file found in \\\\dk-server.dk.ucsd.edu\\afassihizakeri\\Topviewmovies\\ar35motor\\2021_11_02 for video Mirror119videoR and scorer DLC_resnet152_ar30shiwkerSep13shuffle1_632000.\n",
      "Filtering with median model \\\\dk-server.dk.ucsd.edu\\afassihizakeri\\Topviewmovies\\ar35motor\\2021_11_02\\Mirror130videoR.avi\n",
      "No unfiltered data file found in \\\\dk-server.dk.ucsd.edu\\afassihizakeri\\Topviewmovies\\ar35motor\\2021_11_02 for video Mirror130videoR and scorer DLC_resnet152_ar30shiwkerSep13shuffle1_632000.\n",
      "Filtering with median model \\\\dk-server.dk.ucsd.edu\\afassihizakeri\\Topviewmovies\\ar35motor\\2021_11_02\\Mirror4videoR.avi\n"
     ]
    },
    {
     "name": "stdout",
     "output_type": "stream",
     "text": [
      "No unfiltered data file found in \\\\dk-server.dk.ucsd.edu\\afassihizakeri\\Topviewmovies\\ar35motor\\2021_11_02 for video Mirror4videoR and scorer DLC_resnet152_ar30shiwkerSep13shuffle1_632000.\n",
      "Filtering with median model \\\\dk-server.dk.ucsd.edu\\afassihizakeri\\Topviewmovies\\ar35motor\\2021_11_02\\Mirror183videoR.avi\n",
      "No unfiltered data file found in \\\\dk-server.dk.ucsd.edu\\afassihizakeri\\Topviewmovies\\ar35motor\\2021_11_02 for video Mirror183videoR and scorer DLC_resnet152_ar30shiwkerSep13shuffle1_632000.\n",
      "Filtering with median model \\\\dk-server.dk.ucsd.edu\\afassihizakeri\\Topviewmovies\\ar35motor\\2021_11_02\\Mirror118videoR.avi\n",
      "No unfiltered data file found in \\\\dk-server.dk.ucsd.edu\\afassihizakeri\\Topviewmovies\\ar35motor\\2021_11_02 for video Mirror118videoR and scorer DLC_resnet152_ar30shiwkerSep13shuffle1_632000.\n",
      "Filtering with median model \\\\dk-server.dk.ucsd.edu\\afassihizakeri\\Topviewmovies\\ar35motor\\2021_11_02\\Mirror72videoR.avi\n",
      "No unfiltered data file found in \\\\dk-server.dk.ucsd.edu\\afassihizakeri\\Topviewmovies\\ar35motor\\2021_11_02 for video Mirror72videoR and scorer DLC_resnet152_ar30shiwkerSep13shuffle1_632000.\n",
      "Filtering with median model \\\\dk-server.dk.ucsd.edu\\afassihizakeri\\Topviewmovies\\ar35motor\\2021_11_02\\Mirror146videoR.avi\n",
      "No unfiltered data file found in \\\\dk-server.dk.ucsd.edu\\afassihizakeri\\Topviewmovies\\ar35motor\\2021_11_02 for video Mirror146videoR and scorer DLC_resnet152_ar30shiwkerSep13shuffle1_632000.\n",
      "Filtering with median model \\\\dk-server.dk.ucsd.edu\\afassihizakeri\\Topviewmovies\\ar35motor\\2021_11_02\\Mirror184videoR.avi\n",
      "No unfiltered data file found in \\\\dk-server.dk.ucsd.edu\\afassihizakeri\\Topviewmovies\\ar35motor\\2021_11_02 for video Mirror184videoR and scorer DLC_resnet152_ar30shiwkerSep13shuffle1_632000.\n",
      "Filtering with median model \\\\dk-server.dk.ucsd.edu\\afassihizakeri\\Topviewmovies\\ar35motor\\2021_11_02\\Mirror75videoR.avi\n",
      "No unfiltered data file found in \\\\dk-server.dk.ucsd.edu\\afassihizakeri\\Topviewmovies\\ar35motor\\2021_11_02 for video Mirror75videoR and scorer DLC_resnet152_ar30shiwkerSep13shuffle1_632000.\n",
      "Filtering with median model \\\\dk-server.dk.ucsd.edu\\afassihizakeri\\Topviewmovies\\ar35motor\\2021_11_02\\Mirror141videoR.avi\n",
      "No unfiltered data file found in \\\\dk-server.dk.ucsd.edu\\afassihizakeri\\Topviewmovies\\ar35motor\\2021_11_02 for video Mirror141videoR and scorer DLC_resnet152_ar30shiwkerSep13shuffle1_632000.\n",
      "Filtering with median model \\\\dk-server.dk.ucsd.edu\\afassihizakeri\\Topviewmovies\\ar35motor\\2021_11_02\\Mirror169videoR.avi\n",
      "No unfiltered data file found in \\\\dk-server.dk.ucsd.edu\\afassihizakeri\\Topviewmovies\\ar35motor\\2021_11_02 for video Mirror169videoR and scorer DLC_resnet152_ar30shiwkerSep13shuffle1_632000.\n",
      "Filtering with median model \\\\dk-server.dk.ucsd.edu\\afassihizakeri\\Topviewmovies\\ar35motor\\2021_11_02\\Mirror137videoR.avi\n",
      "No unfiltered data file found in \\\\dk-server.dk.ucsd.edu\\afassihizakeri\\Topviewmovies\\ar35motor\\2021_11_02 for video Mirror137videoR and scorer DLC_resnet152_ar30shiwkerSep13shuffle1_632000.\n",
      "Filtering with median model \\\\dk-server.dk.ucsd.edu\\afassihizakeri\\Topviewmovies\\ar35motor\\2021_11_02\\Mirror98videoR.avi\n",
      "No unfiltered data file found in \\\\dk-server.dk.ucsd.edu\\afassihizakeri\\Topviewmovies\\ar35motor\\2021_11_02 for video Mirror98videoR and scorer DLC_resnet152_ar30shiwkerSep13shuffle1_632000.\n",
      "Filtering with median model \\\\dk-server.dk.ucsd.edu\\afassihizakeri\\Topviewmovies\\ar35motor\\2021_11_02\\Mirror3videoR.avi\n",
      "No unfiltered data file found in \\\\dk-server.dk.ucsd.edu\\afassihizakeri\\Topviewmovies\\ar35motor\\2021_11_02 for video Mirror3videoR and scorer DLC_resnet152_ar30shiwkerSep13shuffle1_632000.\n",
      "Filtering with median model \\\\dk-server.dk.ucsd.edu\\afassihizakeri\\Topviewmovies\\ar35motor\\2021_11_02\\Mirror185videoR.avi\n",
      "No unfiltered data file found in \\\\dk-server.dk.ucsd.edu\\afassihizakeri\\Topviewmovies\\ar35motor\\2021_11_02 for video Mirror185videoR and scorer DLC_resnet152_ar30shiwkerSep13shuffle1_632000.\n",
      "Filtering with median model \\\\dk-server.dk.ucsd.edu\\afassihizakeri\\Topviewmovies\\ar35motor\\2021_11_02\\Mirror140videoR.avi\n",
      "No unfiltered data file found in \\\\dk-server.dk.ucsd.edu\\afassihizakeri\\Topviewmovies\\ar35motor\\2021_11_02 for video Mirror140videoR and scorer DLC_resnet152_ar30shiwkerSep13shuffle1_632000.\n",
      "Filtering with median model \\\\dk-server.dk.ucsd.edu\\afassihizakeri\\Topviewmovies\\ar35motor\\2021_11_02\\Mirror74videoR.avi\n",
      "No unfiltered data file found in \\\\dk-server.dk.ucsd.edu\\afassihizakeri\\Topviewmovies\\ar35motor\\2021_11_02 for video Mirror74videoR and scorer DLC_resnet152_ar30shiwkerSep13shuffle1_632000.\n",
      "Filtering with median model \\\\dk-server.dk.ucsd.edu\\afassihizakeri\\Topviewmovies\\ar35motor\\2021_11_02\\Mirror136videoR.avi\n",
      "No unfiltered data file found in \\\\dk-server.dk.ucsd.edu\\afassihizakeri\\Topviewmovies\\ar35motor\\2021_11_02 for video Mirror136videoR and scorer DLC_resnet152_ar30shiwkerSep13shuffle1_632000.\n",
      "Filtering with median model \\\\dk-server.dk.ucsd.edu\\afassihizakeri\\Topviewmovies\\ar35motor\\2021_11_02\\Mirror168videoR.avi\n",
      "No unfiltered data file found in \\\\dk-server.dk.ucsd.edu\\afassihizakeri\\Topviewmovies\\ar35motor\\2021_11_02 for video Mirror168videoR and scorer DLC_resnet152_ar30shiwkerSep13shuffle1_632000.\n",
      "Filtering with median model \\\\dk-server.dk.ucsd.edu\\afassihizakeri\\Topviewmovies\\ar35motor\\2021_11_02\\Mirror2videoR.avi\n",
      "No unfiltered data file found in \\\\dk-server.dk.ucsd.edu\\afassihizakeri\\Topviewmovies\\ar35motor\\2021_11_02 for video Mirror2videoR and scorer DLC_resnet152_ar30shiwkerSep13shuffle1_632000.\n",
      "Filtering with median model \\\\dk-server.dk.ucsd.edu\\afassihizakeri\\Topviewmovies\\ar35motor\\2021_11_02\\Mirror99videoR.avi\n",
      "No unfiltered data file found in \\\\dk-server.dk.ucsd.edu\\afassihizakeri\\Topviewmovies\\ar35motor\\2021_11_02 for video Mirror99videoR and scorer DLC_resnet152_ar30shiwkerSep13shuffle1_632000.\n",
      "Filtering with median model \\\\dk-server.dk.ucsd.edu\\afassihizakeri\\Topviewmovies\\ar35motor\\2021_11_02\\Mirror77videoR.avi\n",
      "No unfiltered data file found in \\\\dk-server.dk.ucsd.edu\\afassihizakeri\\Topviewmovies\\ar35motor\\2021_11_02 for video Mirror77videoR and scorer DLC_resnet152_ar30shiwkerSep13shuffle1_632000.\n",
      "Filtering with median model \\\\dk-server.dk.ucsd.edu\\afassihizakeri\\Topviewmovies\\ar35motor\\2021_11_02\\Mirror143videoR.avi\n",
      "No unfiltered data file found in \\\\dk-server.dk.ucsd.edu\\afassihizakeri\\Topviewmovies\\ar35motor\\2021_11_02 for video Mirror143videoR and scorer DLC_resnet152_ar30shiwkerSep13shuffle1_632000.\n",
      "Filtering with median model \\\\dk-server.dk.ucsd.edu\\afassihizakeri\\Topviewmovies\\ar35motor\\2021_11_02\\Mirror29videoR.avi\n",
      "No unfiltered data file found in \\\\dk-server.dk.ucsd.edu\\afassihizakeri\\Topviewmovies\\ar35motor\\2021_11_02 for video Mirror29videoR and scorer DLC_resnet152_ar30shiwkerSep13shuffle1_632000.\n",
      "Filtering with median model \\\\dk-server.dk.ucsd.edu\\afassihizakeri\\Topviewmovies\\ar35motor\\2021_11_02\\Mirror186videoR.avi\n",
      "No unfiltered data file found in \\\\dk-server.dk.ucsd.edu\\afassihizakeri\\Topviewmovies\\ar35motor\\2021_11_02 for video Mirror186videoR and scorer DLC_resnet152_ar30shiwkerSep13shuffle1_632000.\n",
      "Filtering with median model \\\\dk-server.dk.ucsd.edu\\afassihizakeri\\Topviewmovies\\ar35motor\\2021_11_02\\Mirror1videoR.avi\n",
      "No unfiltered data file found in \\\\dk-server.dk.ucsd.edu\\afassihizakeri\\Topviewmovies\\ar35motor\\2021_11_02 for video Mirror1videoR and scorer DLC_resnet152_ar30shiwkerSep13shuffle1_632000.\n",
      "Filtering with median model \\\\dk-server.dk.ucsd.edu\\afassihizakeri\\Topviewmovies\\ar35motor\\2021_11_02\\Mirror135videoR.avi\n",
      "No unfiltered data file found in \\\\dk-server.dk.ucsd.edu\\afassihizakeri\\Topviewmovies\\ar35motor\\2021_11_02 for video Mirror135videoR and scorer DLC_resnet152_ar30shiwkerSep13shuffle1_632000.\n",
      "Filtering with median model \\\\dk-server.dk.ucsd.edu\\afassihizakeri\\Topviewmovies\\ar35motor\\2021_11_02\\Mirror28videoR.avi\n",
      "No unfiltered data file found in \\\\dk-server.dk.ucsd.edu\\afassihizakeri\\Topviewmovies\\ar35motor\\2021_11_02 for video Mirror28videoR and scorer DLC_resnet152_ar30shiwkerSep13shuffle1_632000.\n",
      "Filtering with median model \\\\dk-server.dk.ucsd.edu\\afassihizakeri\\Topviewmovies\\ar35motor\\2021_11_02\\Mirror142videoR.avi\n",
      "No unfiltered data file found in \\\\dk-server.dk.ucsd.edu\\afassihizakeri\\Topviewmovies\\ar35motor\\2021_11_02 for video Mirror142videoR and scorer DLC_resnet152_ar30shiwkerSep13shuffle1_632000.\n",
      "Filtering with median model \\\\dk-server.dk.ucsd.edu\\afassihizakeri\\Topviewmovies\\ar35motor\\2021_11_02\\Mirror76videoR.avi\n"
     ]
    },
    {
     "name": "stdout",
     "output_type": "stream",
     "text": [
      "No unfiltered data file found in \\\\dk-server.dk.ucsd.edu\\afassihizakeri\\Topviewmovies\\ar35motor\\2021_11_02 for video Mirror76videoR and scorer DLC_resnet152_ar30shiwkerSep13shuffle1_632000.\n",
      "Filtering with median model \\\\dk-server.dk.ucsd.edu\\afassihizakeri\\Topviewmovies\\ar35motor\\2021_11_02\\Mirror187videoR.avi\n",
      "No unfiltered data file found in \\\\dk-server.dk.ucsd.edu\\afassihizakeri\\Topviewmovies\\ar35motor\\2021_11_02 for video Mirror187videoR and scorer DLC_resnet152_ar30shiwkerSep13shuffle1_632000.\n",
      "Filtering with median model \\\\dk-server.dk.ucsd.edu\\afassihizakeri\\Topviewmovies\\ar35motor\\2021_11_02\\Mirror0videoR.avi\n",
      "No unfiltered data file found in \\\\dk-server.dk.ucsd.edu\\afassihizakeri\\Topviewmovies\\ar35motor\\2021_11_02 for video Mirror0videoR and scorer DLC_resnet152_ar30shiwkerSep13shuffle1_632000.\n",
      "Filtering with median model \\\\dk-server.dk.ucsd.edu\\afassihizakeri\\Topviewmovies\\ar35motor\\2021_11_02\\Mirror134videoR.avi\n",
      "No unfiltered data file found in \\\\dk-server.dk.ucsd.edu\\afassihizakeri\\Topviewmovies\\ar35motor\\2021_11_02 for video Mirror134videoR and scorer DLC_resnet152_ar30shiwkerSep13shuffle1_632000.\n",
      "Filtering with median model \\\\dk-server.dk.ucsd.edu\\afassihizakeri\\Topviewmovies\\ar35motor\\2021_11_02\\Mirror12videoR.avi\n",
      "No unfiltered data file found in \\\\dk-server.dk.ucsd.edu\\afassihizakeri\\Topviewmovies\\ar35motor\\2021_11_02 for video Mirror12videoR and scorer DLC_resnet152_ar30shiwkerSep13shuffle1_632000.\n",
      "Filtering with median model \\\\dk-server.dk.ucsd.edu\\afassihizakeri\\Topviewmovies\\ar35motor\\2021_11_02\\Mirror126videoR.avi\n",
      "No unfiltered data file found in \\\\dk-server.dk.ucsd.edu\\afassihizakeri\\Topviewmovies\\ar35motor\\2021_11_02 for video Mirror126videoR and scorer DLC_resnet152_ar30shiwkerSep13shuffle1_632000.\n",
      "Filtering with median model \\\\dk-server.dk.ucsd.edu\\afassihizakeri\\Topviewmovies\\ar35motor\\2021_11_02\\Mirror178videoR.avi\n",
      "No unfiltered data file found in \\\\dk-server.dk.ucsd.edu\\afassihizakeri\\Topviewmovies\\ar35motor\\2021_11_02 for video Mirror178videoR and scorer DLC_resnet152_ar30shiwkerSep13shuffle1_632000.\n",
      "Filtering with median model \\\\dk-server.dk.ucsd.edu\\afassihizakeri\\Topviewmovies\\ar35motor\\2021_11_02\\Mirror89videoR.avi\n",
      "No unfiltered data file found in \\\\dk-server.dk.ucsd.edu\\afassihizakeri\\Topviewmovies\\ar35motor\\2021_11_02 for video Mirror89videoR and scorer DLC_resnet152_ar30shiwkerSep13shuffle1_632000.\n",
      "Filtering with median model \\\\dk-server.dk.ucsd.edu\\afassihizakeri\\Topviewmovies\\ar35motor\\2021_11_02\\Mirror195videoR.avi\n",
      "No unfiltered data file found in \\\\dk-server.dk.ucsd.edu\\afassihizakeri\\Topviewmovies\\ar35motor\\2021_11_02 for video Mirror195videoR and scorer DLC_resnet152_ar30shiwkerSep13shuffle1_632000.\n",
      "Filtering with median model \\\\dk-server.dk.ucsd.edu\\afassihizakeri\\Topviewmovies\\ar35motor\\2021_11_02\\Mirror64videoR.avi\n",
      "No unfiltered data file found in \\\\dk-server.dk.ucsd.edu\\afassihizakeri\\Topviewmovies\\ar35motor\\2021_11_02 for video Mirror64videoR and scorer DLC_resnet152_ar30shiwkerSep13shuffle1_632000.\n",
      "Filtering with median model \\\\dk-server.dk.ucsd.edu\\afassihizakeri\\Topviewmovies\\ar35motor\\2021_11_02\\Mirror150videoR.avi\n",
      "No unfiltered data file found in \\\\dk-server.dk.ucsd.edu\\afassihizakeri\\Topviewmovies\\ar35motor\\2021_11_02 for video Mirror150videoR and scorer DLC_resnet152_ar30shiwkerSep13shuffle1_632000.\n",
      "Filtering with median model \\\\dk-server.dk.ucsd.edu\\afassihizakeri\\Topviewmovies\\ar35motor\\2021_11_02\\Mirror179videoR.avi\n",
      "No unfiltered data file found in \\\\dk-server.dk.ucsd.edu\\afassihizakeri\\Topviewmovies\\ar35motor\\2021_11_02 for video Mirror179videoR and scorer DLC_resnet152_ar30shiwkerSep13shuffle1_632000.\n",
      "Filtering with median model \\\\dk-server.dk.ucsd.edu\\afassihizakeri\\Topviewmovies\\ar35motor\\2021_11_02\\Mirror127videoR.avi\n",
      "No unfiltered data file found in \\\\dk-server.dk.ucsd.edu\\afassihizakeri\\Topviewmovies\\ar35motor\\2021_11_02 for video Mirror127videoR and scorer DLC_resnet152_ar30shiwkerSep13shuffle1_632000.\n",
      "Filtering with median model \\\\dk-server.dk.ucsd.edu\\afassihizakeri\\Topviewmovies\\ar35motor\\2021_11_02\\Mirror13videoR.avi\n",
      "No unfiltered data file found in \\\\dk-server.dk.ucsd.edu\\afassihizakeri\\Topviewmovies\\ar35motor\\2021_11_02 for video Mirror13videoR and scorer DLC_resnet152_ar30shiwkerSep13shuffle1_632000.\n",
      "Filtering with median model \\\\dk-server.dk.ucsd.edu\\afassihizakeri\\Topviewmovies\\ar35motor\\2021_11_02\\Mirror100R.avi\n",
      "No unfiltered data file found in \\\\dk-server.dk.ucsd.edu\\afassihizakeri\\Topviewmovies\\ar35motor\\2021_11_02 for video Mirror100R and scorer DLC_resnet152_ar30shiwkerSep13shuffle1_632000.\n",
      "Filtering with median model \\\\dk-server.dk.ucsd.edu\\afassihizakeri\\Topviewmovies\\ar35motor\\2021_11_02\\Mirror88videoR.avi\n",
      "No unfiltered data file found in \\\\dk-server.dk.ucsd.edu\\afassihizakeri\\Topviewmovies\\ar35motor\\2021_11_02 for video Mirror88videoR and scorer DLC_resnet152_ar30shiwkerSep13shuffle1_632000.\n",
      "Filtering with median model \\\\dk-server.dk.ucsd.edu\\afassihizakeri\\Topviewmovies\\ar35motor\\2021_11_02\\Mirror194videoR.avi\n",
      "No unfiltered data file found in \\\\dk-server.dk.ucsd.edu\\afassihizakeri\\Topviewmovies\\ar35motor\\2021_11_02 for video Mirror194videoR and scorer DLC_resnet152_ar30shiwkerSep13shuffle1_632000.\n",
      "Filtering with median model \\\\dk-server.dk.ucsd.edu\\afassihizakeri\\Topviewmovies\\ar35motor\\2021_11_02\\Mirror151videoR.avi\n",
      "No unfiltered data file found in \\\\dk-server.dk.ucsd.edu\\afassihizakeri\\Topviewmovies\\ar35motor\\2021_11_02 for video Mirror151videoR and scorer DLC_resnet152_ar30shiwkerSep13shuffle1_632000.\n",
      "Filtering with median model \\\\dk-server.dk.ucsd.edu\\afassihizakeri\\Topviewmovies\\ar35motor\\2021_11_02\\Mirror65videoR.avi\n",
      "No unfiltered data file found in \\\\dk-server.dk.ucsd.edu\\afassihizakeri\\Topviewmovies\\ar35motor\\2021_11_02 for video Mirror65videoR and scorer DLC_resnet152_ar30shiwkerSep13shuffle1_632000.\n",
      "Filtering with median model \\\\dk-server.dk.ucsd.edu\\afassihizakeri\\Topviewmovies\\ar35motor\\2021_11_02\\Mirror10videoR.avi\n",
      "No unfiltered data file found in \\\\dk-server.dk.ucsd.edu\\afassihizakeri\\Topviewmovies\\ar35motor\\2021_11_02 for video Mirror10videoR and scorer DLC_resnet152_ar30shiwkerSep13shuffle1_632000.\n",
      "Filtering with median model \\\\dk-server.dk.ucsd.edu\\afassihizakeri\\Topviewmovies\\ar35motor\\2021_11_02\\Mirror124videoR.avi\n",
      "No unfiltered data file found in \\\\dk-server.dk.ucsd.edu\\afassihizakeri\\Topviewmovies\\ar35motor\\2021_11_02 for video Mirror124videoR and scorer DLC_resnet152_ar30shiwkerSep13shuffle1_632000.\n",
      "Filtering with median model \\\\dk-server.dk.ucsd.edu\\afassihizakeri\\Topviewmovies\\ar35motor\\2021_11_02\\Mirror38videoR.avi\n",
      "No unfiltered data file found in \\\\dk-server.dk.ucsd.edu\\afassihizakeri\\Topviewmovies\\ar35motor\\2021_11_02 for video Mirror38videoR and scorer DLC_resnet152_ar30shiwkerSep13shuffle1_632000.\n",
      "Filtering with median model \\\\dk-server.dk.ucsd.edu\\afassihizakeri\\Topviewmovies\\ar35motor\\2021_11_02\\Mirror66videoR.avi\n",
      "No unfiltered data file found in \\\\dk-server.dk.ucsd.edu\\afassihizakeri\\Topviewmovies\\ar35motor\\2021_11_02 for video Mirror66videoR and scorer DLC_resnet152_ar30shiwkerSep13shuffle1_632000.\n",
      "Filtering with median model \\\\dk-server.dk.ucsd.edu\\afassihizakeri\\Topviewmovies\\ar35motor\\2021_11_02\\Mirror152videoR.avi\n",
      "No unfiltered data file found in \\\\dk-server.dk.ucsd.edu\\afassihizakeri\\Topviewmovies\\ar35motor\\2021_11_02 for video Mirror152videoR and scorer DLC_resnet152_ar30shiwkerSep13shuffle1_632000.\n",
      "Filtering with median model \\\\dk-server.dk.ucsd.edu\\afassihizakeri\\Topviewmovies\\ar35motor\\2021_11_02\\Mirror197videoR.avi\n",
      "No unfiltered data file found in \\\\dk-server.dk.ucsd.edu\\afassihizakeri\\Topviewmovies\\ar35motor\\2021_11_02 for video Mirror197videoR and scorer DLC_resnet152_ar30shiwkerSep13shuffle1_632000.\n",
      "Filtering with median model \\\\dk-server.dk.ucsd.edu\\afassihizakeri\\Topviewmovies\\ar35motor\\2021_11_02\\Mirror125videoR.avi\n",
      "No unfiltered data file found in \\\\dk-server.dk.ucsd.edu\\afassihizakeri\\Topviewmovies\\ar35motor\\2021_11_02 for video Mirror125videoR and scorer DLC_resnet152_ar30shiwkerSep13shuffle1_632000.\n",
      "Filtering with median model \\\\dk-server.dk.ucsd.edu\\afassihizakeri\\Topviewmovies\\ar35motor\\2021_11_02\\Mirror11videoR.avi\n",
      "No unfiltered data file found in \\\\dk-server.dk.ucsd.edu\\afassihizakeri\\Topviewmovies\\ar35motor\\2021_11_02 for video Mirror11videoR and scorer DLC_resnet152_ar30shiwkerSep13shuffle1_632000.\n",
      "Filtering with median model \\\\dk-server.dk.ucsd.edu\\afassihizakeri\\Topviewmovies\\ar35motor\\2021_11_02\\Mirror153videoR.avi\n"
     ]
    },
    {
     "name": "stdout",
     "output_type": "stream",
     "text": [
      "No unfiltered data file found in \\\\dk-server.dk.ucsd.edu\\afassihizakeri\\Topviewmovies\\ar35motor\\2021_11_02 for video Mirror153videoR and scorer DLC_resnet152_ar30shiwkerSep13shuffle1_632000.\n",
      "Filtering with median model \\\\dk-server.dk.ucsd.edu\\afassihizakeri\\Topviewmovies\\ar35motor\\2021_11_02\\Mirror67videoR.avi\n",
      "No unfiltered data file found in \\\\dk-server.dk.ucsd.edu\\afassihizakeri\\Topviewmovies\\ar35motor\\2021_11_02 for video Mirror67videoR and scorer DLC_resnet152_ar30shiwkerSep13shuffle1_632000.\n",
      "Filtering with median model \\\\dk-server.dk.ucsd.edu\\afassihizakeri\\Topviewmovies\\ar35motor\\2021_11_02\\Mirror39videoR.avi\n",
      "No unfiltered data file found in \\\\dk-server.dk.ucsd.edu\\afassihizakeri\\Topviewmovies\\ar35motor\\2021_11_02 for video Mirror39videoR and scorer DLC_resnet152_ar30shiwkerSep13shuffle1_632000.\n",
      "Filtering with median model \\\\dk-server.dk.ucsd.edu\\afassihizakeri\\Topviewmovies\\ar35motor\\2021_11_02\\Mirror196videoR.avi\n",
      "No unfiltered data file found in \\\\dk-server.dk.ucsd.edu\\afassihizakeri\\Topviewmovies\\ar35motor\\2021_11_02 for video Mirror196videoR and scorer DLC_resnet152_ar30shiwkerSep13shuffle1_632000.\n",
      "Filtering with median model \\\\dk-server.dk.ucsd.edu\\afassihizakeri\\Topviewmovies\\ar35motor\\2021_11_02\\Mirror154videoR.avi\n",
      "No unfiltered data file found in \\\\dk-server.dk.ucsd.edu\\afassihizakeri\\Topviewmovies\\ar35motor\\2021_11_02 for video Mirror154videoR and scorer DLC_resnet152_ar30shiwkerSep13shuffle1_632000.\n",
      "Filtering with median model \\\\dk-server.dk.ucsd.edu\\afassihizakeri\\Topviewmovies\\ar35motor\\2021_11_02\\Mirror60videoR.avi\n",
      "No unfiltered data file found in \\\\dk-server.dk.ucsd.edu\\afassihizakeri\\Topviewmovies\\ar35motor\\2021_11_02 for video Mirror60videoR and scorer DLC_resnet152_ar30shiwkerSep13shuffle1_632000.\n",
      "Filtering with median model \\\\dk-server.dk.ucsd.edu\\afassihizakeri\\Topviewmovies\\ar35motor\\2021_11_02\\Mirror191videoR.avi\n",
      "No unfiltered data file found in \\\\dk-server.dk.ucsd.edu\\afassihizakeri\\Topviewmovies\\ar35motor\\2021_11_02 for video Mirror191videoR and scorer DLC_resnet152_ar30shiwkerSep13shuffle1_632000.\n",
      "Filtering with median model \\\\dk-server.dk.ucsd.edu\\afassihizakeri\\Topviewmovies\\ar35motor\\2021_11_02\\Mirror122videoR.avi\n",
      "No unfiltered data file found in \\\\dk-server.dk.ucsd.edu\\afassihizakeri\\Topviewmovies\\ar35motor\\2021_11_02 for video Mirror122videoR and scorer DLC_resnet152_ar30shiwkerSep13shuffle1_632000.\n",
      "Filtering with median model \\\\dk-server.dk.ucsd.edu\\afassihizakeri\\Topviewmovies\\ar35motor\\2021_11_02\\Mirror16videoR.avi\n",
      "No unfiltered data file found in \\\\dk-server.dk.ucsd.edu\\afassihizakeri\\Topviewmovies\\ar35motor\\2021_11_02 for video Mirror16videoR and scorer DLC_resnet152_ar30shiwkerSep13shuffle1_632000.\n",
      "Filtering with median model \\\\dk-server.dk.ucsd.edu\\afassihizakeri\\Topviewmovies\\ar35motor\\2021_11_02\\Mirror48videoR.avi\n",
      "No unfiltered data file found in \\\\dk-server.dk.ucsd.edu\\afassihizakeri\\Topviewmovies\\ar35motor\\2021_11_02 for video Mirror48videoR and scorer DLC_resnet152_ar30shiwkerSep13shuffle1_632000.\n",
      "Filtering with median model \\\\dk-server.dk.ucsd.edu\\afassihizakeri\\Topviewmovies\\ar35motor\\2021_11_02\\Mirror61videoR.avi\n",
      "No unfiltered data file found in \\\\dk-server.dk.ucsd.edu\\afassihizakeri\\Topviewmovies\\ar35motor\\2021_11_02 for video Mirror61videoR and scorer DLC_resnet152_ar30shiwkerSep13shuffle1_632000.\n",
      "Filtering with median model \\\\dk-server.dk.ucsd.edu\\afassihizakeri\\Topviewmovies\\ar35motor\\2021_11_02\\Mirror155videoR.avi\n",
      "No unfiltered data file found in \\\\dk-server.dk.ucsd.edu\\afassihizakeri\\Topviewmovies\\ar35motor\\2021_11_02 for video Mirror155videoR and scorer DLC_resnet152_ar30shiwkerSep13shuffle1_632000.\n",
      "Filtering with median model \\\\dk-server.dk.ucsd.edu\\afassihizakeri\\Topviewmovies\\ar35motor\\2021_11_02\\Mirror190videoR.avi\n",
      "No unfiltered data file found in \\\\dk-server.dk.ucsd.edu\\afassihizakeri\\Topviewmovies\\ar35motor\\2021_11_02 for video Mirror190videoR and scorer DLC_resnet152_ar30shiwkerSep13shuffle1_632000.\n",
      "Filtering with median model \\\\dk-server.dk.ucsd.edu\\afassihizakeri\\Topviewmovies\\ar35motor\\2021_11_02\\Mirror49videoR.avi\n",
      "No unfiltered data file found in \\\\dk-server.dk.ucsd.edu\\afassihizakeri\\Topviewmovies\\ar35motor\\2021_11_02 for video Mirror49videoR and scorer DLC_resnet152_ar30shiwkerSep13shuffle1_632000.\n",
      "Filtering with median model \\\\dk-server.dk.ucsd.edu\\afassihizakeri\\Topviewmovies\\ar35motor\\2021_11_02\\Mirror17videoR.avi\n",
      "No unfiltered data file found in \\\\dk-server.dk.ucsd.edu\\afassihizakeri\\Topviewmovies\\ar35motor\\2021_11_02 for video Mirror17videoR and scorer DLC_resnet152_ar30shiwkerSep13shuffle1_632000.\n",
      "Filtering with median model \\\\dk-server.dk.ucsd.edu\\afassihizakeri\\Topviewmovies\\ar35motor\\2021_11_02\\Mirror123videoR.avi\n",
      "No unfiltered data file found in \\\\dk-server.dk.ucsd.edu\\afassihizakeri\\Topviewmovies\\ar35motor\\2021_11_02 for video Mirror123videoR and scorer DLC_resnet152_ar30shiwkerSep13shuffle1_632000.\n",
      "Filtering with median model \\\\dk-server.dk.ucsd.edu\\afassihizakeri\\Topviewmovies\\ar35motor\\2021_11_02\\Mirror193videoR.avi\n",
      "No unfiltered data file found in \\\\dk-server.dk.ucsd.edu\\afassihizakeri\\Topviewmovies\\ar35motor\\2021_11_02 for video Mirror193videoR and scorer DLC_resnet152_ar30shiwkerSep13shuffle1_632000.\n",
      "Filtering with median model \\\\dk-server.dk.ucsd.edu\\afassihizakeri\\Topviewmovies\\ar35motor\\2021_11_02\\Mirror108videoR.avi\n",
      "No unfiltered data file found in \\\\dk-server.dk.ucsd.edu\\afassihizakeri\\Topviewmovies\\ar35motor\\2021_11_02 for video Mirror108videoR and scorer DLC_resnet152_ar30shiwkerSep13shuffle1_632000.\n",
      "Filtering with median model \\\\dk-server.dk.ucsd.edu\\afassihizakeri\\Topviewmovies\\ar35motor\\2021_11_02\\Mirror156videoR.avi\n",
      "No unfiltered data file found in \\\\dk-server.dk.ucsd.edu\\afassihizakeri\\Topviewmovies\\ar35motor\\2021_11_02 for video Mirror156videoR and scorer DLC_resnet152_ar30shiwkerSep13shuffle1_632000.\n",
      "Filtering with median model \\\\dk-server.dk.ucsd.edu\\afassihizakeri\\Topviewmovies\\ar35motor\\2021_11_02\\Mirror62videoR.avi\n",
      "No unfiltered data file found in \\\\dk-server.dk.ucsd.edu\\afassihizakeri\\Topviewmovies\\ar35motor\\2021_11_02 for video Mirror62videoR and scorer DLC_resnet152_ar30shiwkerSep13shuffle1_632000.\n",
      "Filtering with median model \\\\dk-server.dk.ucsd.edu\\afassihizakeri\\Topviewmovies\\ar35motor\\2021_11_02\\Mirror120videoR.avi\n",
      "No unfiltered data file found in \\\\dk-server.dk.ucsd.edu\\afassihizakeri\\Topviewmovies\\ar35motor\\2021_11_02 for video Mirror120videoR and scorer DLC_resnet152_ar30shiwkerSep13shuffle1_632000.\n",
      "Filtering with median model \\\\dk-server.dk.ucsd.edu\\afassihizakeri\\Topviewmovies\\ar35motor\\2021_11_02\\Mirror14videoR.avi\n",
      "No unfiltered data file found in \\\\dk-server.dk.ucsd.edu\\afassihizakeri\\Topviewmovies\\ar35motor\\2021_11_02 for video Mirror14videoR and scorer DLC_resnet152_ar30shiwkerSep13shuffle1_632000.\n",
      "Filtering with median model \\\\dk-server.dk.ucsd.edu\\afassihizakeri\\Topviewmovies\\ar35motor\\2021_11_02\\Mirror192videoR.avi\n",
      "No unfiltered data file found in \\\\dk-server.dk.ucsd.edu\\afassihizakeri\\Topviewmovies\\ar35motor\\2021_11_02 for video Mirror192videoR and scorer DLC_resnet152_ar30shiwkerSep13shuffle1_632000.\n",
      "Filtering with median model \\\\dk-server.dk.ucsd.edu\\afassihizakeri\\Topviewmovies\\ar35motor\\2021_11_02\\Mirror63videoR.avi\n",
      "No unfiltered data file found in \\\\dk-server.dk.ucsd.edu\\afassihizakeri\\Topviewmovies\\ar35motor\\2021_11_02 for video Mirror63videoR and scorer DLC_resnet152_ar30shiwkerSep13shuffle1_632000.\n",
      "Filtering with median model \\\\dk-server.dk.ucsd.edu\\afassihizakeri\\Topviewmovies\\ar35motor\\2021_11_02\\Mirror157videoR.avi\n",
      "No unfiltered data file found in \\\\dk-server.dk.ucsd.edu\\afassihizakeri\\Topviewmovies\\ar35motor\\2021_11_02 for video Mirror157videoR and scorer DLC_resnet152_ar30shiwkerSep13shuffle1_632000.\n",
      "Filtering with median model \\\\dk-server.dk.ucsd.edu\\afassihizakeri\\Topviewmovies\\ar35motor\\2021_11_02\\Mirror109videoR.avi\n",
      "No unfiltered data file found in \\\\dk-server.dk.ucsd.edu\\afassihizakeri\\Topviewmovies\\ar35motor\\2021_11_02 for video Mirror109videoR and scorer DLC_resnet152_ar30shiwkerSep13shuffle1_632000.\n",
      "Filtering with median model \\\\dk-server.dk.ucsd.edu\\afassihizakeri\\Topviewmovies\\ar35motor\\2021_11_02\\Mirror15videoR.avi\n",
      "No unfiltered data file found in \\\\dk-server.dk.ucsd.edu\\afassihizakeri\\Topviewmovies\\ar35motor\\2021_11_02 for video Mirror15videoR and scorer DLC_resnet152_ar30shiwkerSep13shuffle1_632000.\n",
      "Filtering with median model \\\\dk-server.dk.ucsd.edu\\afassihizakeri\\Topviewmovies\\ar35motor\\2021_11_02\\Mirror121videoR.avi\n"
     ]
    },
    {
     "name": "stdout",
     "output_type": "stream",
     "text": [
      "No unfiltered data file found in \\\\dk-server.dk.ucsd.edu\\afassihizakeri\\Topviewmovies\\ar35motor\\2021_11_02 for video Mirror121videoR and scorer DLC_resnet152_ar30shiwkerSep13shuffle1_632000.\n",
      "Filtering with median model \\\\dk-server.dk.ucsd.edu\\afassihizakeri\\Topviewmovies\\ar35motor\\2021_11_02\\Mirror159videoR.avi\n",
      "No unfiltered data file found in \\\\dk-server.dk.ucsd.edu\\afassihizakeri\\Topviewmovies\\ar35motor\\2021_11_02 for video Mirror159videoR and scorer DLC_resnet152_ar30shiwkerSep13shuffle1_632000.\n",
      "Filtering with median model \\\\dk-server.dk.ucsd.edu\\afassihizakeri\\Topviewmovies\\ar35motor\\2021_11_02\\Mirror33videoR.avi\n",
      "No unfiltered data file found in \\\\dk-server.dk.ucsd.edu\\afassihizakeri\\Topviewmovies\\ar35motor\\2021_11_02 for video Mirror33videoR and scorer DLC_resnet152_ar30shiwkerSep13shuffle1_632000.\n",
      "Filtering with median model \\\\dk-server.dk.ucsd.edu\\afassihizakeri\\Topviewmovies\\ar35motor\\2021_11_02\\Mirror107videoR.avi\n",
      "No unfiltered data file found in \\\\dk-server.dk.ucsd.edu\\afassihizakeri\\Topviewmovies\\ar35motor\\2021_11_02 for video Mirror107videoR and scorer DLC_resnet152_ar30shiwkerSep13shuffle1_632000.\n",
      "Filtering with median model \\\\dk-server.dk.ucsd.edu\\afassihizakeri\\Topviewmovies\\ar35motor\\2021_11_02\\Mirror45videoR.avi\n",
      "No unfiltered data file found in \\\\dk-server.dk.ucsd.edu\\afassihizakeri\\Topviewmovies\\ar35motor\\2021_11_02 for video Mirror45videoR and scorer DLC_resnet152_ar30shiwkerSep13shuffle1_632000.\n",
      "Filtering with median model \\\\dk-server.dk.ucsd.edu\\afassihizakeri\\Topviewmovies\\ar35motor\\2021_11_02\\Mirror171videoR.avi\n",
      "No unfiltered data file found in \\\\dk-server.dk.ucsd.edu\\afassihizakeri\\Topviewmovies\\ar35motor\\2021_11_02 for video Mirror171videoR and scorer DLC_resnet152_ar30shiwkerSep13shuffle1_632000.\n",
      "Filtering with median model \\\\dk-server.dk.ucsd.edu\\afassihizakeri\\Topviewmovies\\ar35motor\\2021_11_02\\Mirror80videoR.avi\n",
      "No unfiltered data file found in \\\\dk-server.dk.ucsd.edu\\afassihizakeri\\Topviewmovies\\ar35motor\\2021_11_02 for video Mirror80videoR and scorer DLC_resnet152_ar30shiwkerSep13shuffle1_632000.\n",
      "Filtering with median model \\\\dk-server.dk.ucsd.edu\\afassihizakeri\\Topviewmovies\\ar35motor\\2021_11_02\\Mirror106videoR.avi\n",
      "No unfiltered data file found in \\\\dk-server.dk.ucsd.edu\\afassihizakeri\\Topviewmovies\\ar35motor\\2021_11_02 for video Mirror106videoR and scorer DLC_resnet152_ar30shiwkerSep13shuffle1_632000.\n",
      "Filtering with median model \\\\dk-server.dk.ucsd.edu\\afassihizakeri\\Topviewmovies\\ar35motor\\2021_11_02\\Mirror32videoR.avi\n",
      "No unfiltered data file found in \\\\dk-server.dk.ucsd.edu\\afassihizakeri\\Topviewmovies\\ar35motor\\2021_11_02 for video Mirror32videoR and scorer DLC_resnet152_ar30shiwkerSep13shuffle1_632000.\n",
      "Filtering with median model \\\\dk-server.dk.ucsd.edu\\afassihizakeri\\Topviewmovies\\ar35motor\\2021_11_02\\Mirror158videoR.avi\n",
      "No unfiltered data file found in \\\\dk-server.dk.ucsd.edu\\afassihizakeri\\Topviewmovies\\ar35motor\\2021_11_02 for video Mirror158videoR and scorer DLC_resnet152_ar30shiwkerSep13shuffle1_632000.\n",
      "Filtering with median model \\\\dk-server.dk.ucsd.edu\\afassihizakeri\\Topviewmovies\\ar35motor\\2021_11_02\\Mirror170videoR.avi\n",
      "No unfiltered data file found in \\\\dk-server.dk.ucsd.edu\\afassihizakeri\\Topviewmovies\\ar35motor\\2021_11_02 for video Mirror170videoR and scorer DLC_resnet152_ar30shiwkerSep13shuffle1_632000.\n",
      "Filtering with median model \\\\dk-server.dk.ucsd.edu\\afassihizakeri\\Topviewmovies\\ar35motor\\2021_11_02\\Mirror44videoR.avi\n",
      "No unfiltered data file found in \\\\dk-server.dk.ucsd.edu\\afassihizakeri\\Topviewmovies\\ar35motor\\2021_11_02 for video Mirror44videoR and scorer DLC_resnet152_ar30shiwkerSep13shuffle1_632000.\n",
      "Filtering with median model \\\\dk-server.dk.ucsd.edu\\afassihizakeri\\Topviewmovies\\ar35motor\\2021_11_02\\Mirror81videoR.avi\n",
      "No unfiltered data file found in \\\\dk-server.dk.ucsd.edu\\afassihizakeri\\Topviewmovies\\ar35motor\\2021_11_02 for video Mirror81videoR and scorer DLC_resnet152_ar30shiwkerSep13shuffle1_632000.\n",
      "Filtering with median model \\\\dk-server.dk.ucsd.edu\\afassihizakeri\\Topviewmovies\\ar35motor\\2021_11_02\\Mirror31videoR.avi\n",
      "No unfiltered data file found in \\\\dk-server.dk.ucsd.edu\\afassihizakeri\\Topviewmovies\\ar35motor\\2021_11_02 for video Mirror31videoR and scorer DLC_resnet152_ar30shiwkerSep13shuffle1_632000.\n",
      "Filtering with median model \\\\dk-server.dk.ucsd.edu\\afassihizakeri\\Topviewmovies\\ar35motor\\2021_11_02\\Mirror105videoR.avi\n",
      "No unfiltered data file found in \\\\dk-server.dk.ucsd.edu\\afassihizakeri\\Topviewmovies\\ar35motor\\2021_11_02 for video Mirror105videoR and scorer DLC_resnet152_ar30shiwkerSep13shuffle1_632000.\n",
      "Filtering with median model \\\\dk-server.dk.ucsd.edu\\afassihizakeri\\Topviewmovies\\ar35motor\\2021_11_02\\Mirror82videoR.avi\n",
      "No unfiltered data file found in \\\\dk-server.dk.ucsd.edu\\afassihizakeri\\Topviewmovies\\ar35motor\\2021_11_02 for video Mirror82videoR and scorer DLC_resnet152_ar30shiwkerSep13shuffle1_632000.\n",
      "Filtering with median model \\\\dk-server.dk.ucsd.edu\\afassihizakeri\\Topviewmovies\\ar35motor\\2021_11_02\\Mirror47videoR.avi\n",
      "No unfiltered data file found in \\\\dk-server.dk.ucsd.edu\\afassihizakeri\\Topviewmovies\\ar35motor\\2021_11_02 for video Mirror47videoR and scorer DLC_resnet152_ar30shiwkerSep13shuffle1_632000.\n",
      "Filtering with median model \\\\dk-server.dk.ucsd.edu\\afassihizakeri\\Topviewmovies\\ar35motor\\2021_11_02\\Mirror173videoR.avi\n",
      "No unfiltered data file found in \\\\dk-server.dk.ucsd.edu\\afassihizakeri\\Topviewmovies\\ar35motor\\2021_11_02 for video Mirror173videoR and scorer DLC_resnet152_ar30shiwkerSep13shuffle1_632000.\n",
      "Filtering with median model \\\\dk-server.dk.ucsd.edu\\afassihizakeri\\Topviewmovies\\ar35motor\\2021_11_02\\Mirror19videoR.avi\n",
      "No unfiltered data file found in \\\\dk-server.dk.ucsd.edu\\afassihizakeri\\Topviewmovies\\ar35motor\\2021_11_02 for video Mirror19videoR and scorer DLC_resnet152_ar30shiwkerSep13shuffle1_632000.\n",
      "Filtering with median model \\\\dk-server.dk.ucsd.edu\\afassihizakeri\\Topviewmovies\\ar35motor\\2021_11_02\\Mirror104videoR.avi\n",
      "No unfiltered data file found in \\\\dk-server.dk.ucsd.edu\\afassihizakeri\\Topviewmovies\\ar35motor\\2021_11_02 for video Mirror104videoR and scorer DLC_resnet152_ar30shiwkerSep13shuffle1_632000.\n",
      "Filtering with median model \\\\dk-server.dk.ucsd.edu\\afassihizakeri\\Topviewmovies\\ar35motor\\2021_11_02\\Mirror30videoR.avi\n",
      "No unfiltered data file found in \\\\dk-server.dk.ucsd.edu\\afassihizakeri\\Topviewmovies\\ar35motor\\2021_11_02 for video Mirror30videoR and scorer DLC_resnet152_ar30shiwkerSep13shuffle1_632000.\n",
      "Filtering with median model \\\\dk-server.dk.ucsd.edu\\afassihizakeri\\Topviewmovies\\ar35motor\\2021_11_02\\Mirror83videoR.avi\n",
      "No unfiltered data file found in \\\\dk-server.dk.ucsd.edu\\afassihizakeri\\Topviewmovies\\ar35motor\\2021_11_02 for video Mirror83videoR and scorer DLC_resnet152_ar30shiwkerSep13shuffle1_632000.\n",
      "Filtering with median model \\\\dk-server.dk.ucsd.edu\\afassihizakeri\\Topviewmovies\\ar35motor\\2021_11_02\\Mirror18videoR.avi\n",
      "No unfiltered data file found in \\\\dk-server.dk.ucsd.edu\\afassihizakeri\\Topviewmovies\\ar35motor\\2021_11_02 for video Mirror18videoR and scorer DLC_resnet152_ar30shiwkerSep13shuffle1_632000.\n",
      "Filtering with median model \\\\dk-server.dk.ucsd.edu\\afassihizakeri\\Topviewmovies\\ar35motor\\2021_11_02\\Mirror172videoR.avi\n",
      "No unfiltered data file found in \\\\dk-server.dk.ucsd.edu\\afassihizakeri\\Topviewmovies\\ar35motor\\2021_11_02 for video Mirror172videoR and scorer DLC_resnet152_ar30shiwkerSep13shuffle1_632000.\n",
      "Filtering with median model \\\\dk-server.dk.ucsd.edu\\afassihizakeri\\Topviewmovies\\ar35motor\\2021_11_02\\Mirror46videoR.avi\n",
      "No unfiltered data file found in \\\\dk-server.dk.ucsd.edu\\afassihizakeri\\Topviewmovies\\ar35motor\\2021_11_02 for video Mirror46videoR and scorer DLC_resnet152_ar30shiwkerSep13shuffle1_632000.\n",
      "Filtering with median model \\\\dk-server.dk.ucsd.edu\\afassihizakeri\\Topviewmovies\\ar35motor\\2021_11_02\\Mirror84videoR.avi\n",
      "No unfiltered data file found in \\\\dk-server.dk.ucsd.edu\\afassihizakeri\\Topviewmovies\\ar35motor\\2021_11_02 for video Mirror84videoR and scorer DLC_resnet152_ar30shiwkerSep13shuffle1_632000.\n",
      "Filtering with median model \\\\dk-server.dk.ucsd.edu\\afassihizakeri\\Topviewmovies\\ar35motor\\2021_11_02\\Mirror175videoR.avi\n",
      "No unfiltered data file found in \\\\dk-server.dk.ucsd.edu\\afassihizakeri\\Topviewmovies\\ar35motor\\2021_11_02 for video Mirror175videoR and scorer DLC_resnet152_ar30shiwkerSep13shuffle1_632000.\n",
      "Filtering with median model \\\\dk-server.dk.ucsd.edu\\afassihizakeri\\Topviewmovies\\ar35motor\\2021_11_02\\Mirror41videoR.avi\n"
     ]
    },
    {
     "name": "stdout",
     "output_type": "stream",
     "text": [
      "No unfiltered data file found in \\\\dk-server.dk.ucsd.edu\\afassihizakeri\\Topviewmovies\\ar35motor\\2021_11_02 for video Mirror41videoR and scorer DLC_resnet152_ar30shiwkerSep13shuffle1_632000.\n",
      "Filtering with median model \\\\dk-server.dk.ucsd.edu\\afassihizakeri\\Topviewmovies\\ar35motor\\2021_11_02\\Mirror69videoR.avi\n",
      "No unfiltered data file found in \\\\dk-server.dk.ucsd.edu\\afassihizakeri\\Topviewmovies\\ar35motor\\2021_11_02 for video Mirror69videoR and scorer DLC_resnet152_ar30shiwkerSep13shuffle1_632000.\n",
      "Filtering with median model \\\\dk-server.dk.ucsd.edu\\afassihizakeri\\Topviewmovies\\ar35motor\\2021_11_02\\Mirror103videoR.avi\n",
      "No unfiltered data file found in \\\\dk-server.dk.ucsd.edu\\afassihizakeri\\Topviewmovies\\ar35motor\\2021_11_02 for video Mirror103videoR and scorer DLC_resnet152_ar30shiwkerSep13shuffle1_632000.\n",
      "Filtering with median model \\\\dk-server.dk.ucsd.edu\\afassihizakeri\\Topviewmovies\\ar35motor\\2021_11_02\\Mirror37videoR.avi\n",
      "No unfiltered data file found in \\\\dk-server.dk.ucsd.edu\\afassihizakeri\\Topviewmovies\\ar35motor\\2021_11_02 for video Mirror37videoR and scorer DLC_resnet152_ar30shiwkerSep13shuffle1_632000.\n",
      "Filtering with median model \\\\dk-server.dk.ucsd.edu\\afassihizakeri\\Topviewmovies\\ar35motor\\2021_11_02\\Mirror198videoR.avi\n",
      "No unfiltered data file found in \\\\dk-server.dk.ucsd.edu\\afassihizakeri\\Topviewmovies\\ar35motor\\2021_11_02 for video Mirror198videoR and scorer DLC_resnet152_ar30shiwkerSep13shuffle1_632000.\n",
      "Filtering with median model \\\\dk-server.dk.ucsd.edu\\afassihizakeri\\Topviewmovies\\ar35motor\\2021_11_02\\Mirror210videoR.avi\n",
      "No unfiltered data file found in \\\\dk-server.dk.ucsd.edu\\afassihizakeri\\Topviewmovies\\ar35motor\\2021_11_02 for video Mirror210videoR and scorer DLC_resnet152_ar30shiwkerSep13shuffle1_632000.\n",
      "Filtering with median model \\\\dk-server.dk.ucsd.edu\\afassihizakeri\\Topviewmovies\\ar35motor\\2021_11_02\\Mirror85videoR.avi\n",
      "No unfiltered data file found in \\\\dk-server.dk.ucsd.edu\\afassihizakeri\\Topviewmovies\\ar35motor\\2021_11_02 for video Mirror85videoR and scorer DLC_resnet152_ar30shiwkerSep13shuffle1_632000.\n",
      "Filtering with median model \\\\dk-server.dk.ucsd.edu\\afassihizakeri\\Topviewmovies\\ar35motor\\2021_11_02\\Mirror40videoR.avi\n",
      "No unfiltered data file found in \\\\dk-server.dk.ucsd.edu\\afassihizakeri\\Topviewmovies\\ar35motor\\2021_11_02 for video Mirror40videoR and scorer DLC_resnet152_ar30shiwkerSep13shuffle1_632000.\n",
      "Filtering with median model \\\\dk-server.dk.ucsd.edu\\afassihizakeri\\Topviewmovies\\ar35motor\\2021_11_02\\Mirror174videoR.avi\n",
      "No unfiltered data file found in \\\\dk-server.dk.ucsd.edu\\afassihizakeri\\Topviewmovies\\ar35motor\\2021_11_02 for video Mirror174videoR and scorer DLC_resnet152_ar30shiwkerSep13shuffle1_632000.\n",
      "Filtering with median model \\\\dk-server.dk.ucsd.edu\\afassihizakeri\\Topviewmovies\\ar35motor\\2021_11_02\\Mirror36videoR.avi\n",
      "No unfiltered data file found in \\\\dk-server.dk.ucsd.edu\\afassihizakeri\\Topviewmovies\\ar35motor\\2021_11_02 for video Mirror36videoR and scorer DLC_resnet152_ar30shiwkerSep13shuffle1_632000.\n",
      "Filtering with median model \\\\dk-server.dk.ucsd.edu\\afassihizakeri\\Topviewmovies\\ar35motor\\2021_11_02\\Mirror102videoR.avi\n",
      "No unfiltered data file found in \\\\dk-server.dk.ucsd.edu\\afassihizakeri\\Topviewmovies\\ar35motor\\2021_11_02 for video Mirror102videoR and scorer DLC_resnet152_ar30shiwkerSep13shuffle1_632000.\n",
      "Filtering with median model \\\\dk-server.dk.ucsd.edu\\afassihizakeri\\Topviewmovies\\ar35motor\\2021_11_02\\Mirror68videoR.avi\n",
      "No unfiltered data file found in \\\\dk-server.dk.ucsd.edu\\afassihizakeri\\Topviewmovies\\ar35motor\\2021_11_02 for video Mirror68videoR and scorer DLC_resnet152_ar30shiwkerSep13shuffle1_632000.\n",
      "Filtering with median model \\\\dk-server.dk.ucsd.edu\\afassihizakeri\\Topviewmovies\\ar35motor\\2021_11_02\\Mirror199videoR.avi\n",
      "No unfiltered data file found in \\\\dk-server.dk.ucsd.edu\\afassihizakeri\\Topviewmovies\\ar35motor\\2021_11_02 for video Mirror199videoR and scorer DLC_resnet152_ar30shiwkerSep13shuffle1_632000.\n",
      "Filtering with median model \\\\dk-server.dk.ucsd.edu\\afassihizakeri\\Topviewmovies\\ar35motor\\2021_11_02\\Mirror177videoR.avi\n",
      "No unfiltered data file found in \\\\dk-server.dk.ucsd.edu\\afassihizakeri\\Topviewmovies\\ar35motor\\2021_11_02 for video Mirror177videoR and scorer DLC_resnet152_ar30shiwkerSep13shuffle1_632000.\n",
      "Filtering with median model \\\\dk-server.dk.ucsd.edu\\afassihizakeri\\Topviewmovies\\ar35motor\\2021_11_02\\Mirror43videoR.avi\n",
      "No unfiltered data file found in \\\\dk-server.dk.ucsd.edu\\afassihizakeri\\Topviewmovies\\ar35motor\\2021_11_02 for video Mirror43videoR and scorer DLC_resnet152_ar30shiwkerSep13shuffle1_632000.\n",
      "Filtering with median model \\\\dk-server.dk.ucsd.edu\\afassihizakeri\\Topviewmovies\\ar35motor\\2021_11_02\\Mirror129videoR.avi\n",
      "No unfiltered data file found in \\\\dk-server.dk.ucsd.edu\\afassihizakeri\\Topviewmovies\\ar35motor\\2021_11_02 for video Mirror129videoR and scorer DLC_resnet152_ar30shiwkerSep13shuffle1_632000.\n",
      "Filtering with median model \\\\dk-server.dk.ucsd.edu\\afassihizakeri\\Topviewmovies\\ar35motor\\2021_11_02\\Mirror86videoR.avi\n",
      "No unfiltered data file found in \\\\dk-server.dk.ucsd.edu\\afassihizakeri\\Topviewmovies\\ar35motor\\2021_11_02 for video Mirror86videoR and scorer DLC_resnet152_ar30shiwkerSep13shuffle1_632000.\n",
      "Filtering with median model \\\\dk-server.dk.ucsd.edu\\afassihizakeri\\Topviewmovies\\ar35motor\\2021_11_02\\Mirror101videoR.avi\n",
      "No unfiltered data file found in \\\\dk-server.dk.ucsd.edu\\afassihizakeri\\Topviewmovies\\ar35motor\\2021_11_02 for video Mirror101videoR and scorer DLC_resnet152_ar30shiwkerSep13shuffle1_632000.\n",
      "Filtering with median model \\\\dk-server.dk.ucsd.edu\\afassihizakeri\\Topviewmovies\\ar35motor\\2021_11_02\\Mirror35videoR.avi\n",
      "No unfiltered data file found in \\\\dk-server.dk.ucsd.edu\\afassihizakeri\\Topviewmovies\\ar35motor\\2021_11_02 for video Mirror35videoR and scorer DLC_resnet152_ar30shiwkerSep13shuffle1_632000.\n",
      "Filtering with median model \\\\dk-server.dk.ucsd.edu\\afassihizakeri\\Topviewmovies\\ar35motor\\2021_11_02\\Mirror128videoR.avi\n",
      "No unfiltered data file found in \\\\dk-server.dk.ucsd.edu\\afassihizakeri\\Topviewmovies\\ar35motor\\2021_11_02 for video Mirror128videoR and scorer DLC_resnet152_ar30shiwkerSep13shuffle1_632000.\n",
      "Filtering with median model \\\\dk-server.dk.ucsd.edu\\afassihizakeri\\Topviewmovies\\ar35motor\\2021_11_02\\Mirror42videoR.avi\n",
      "No unfiltered data file found in \\\\dk-server.dk.ucsd.edu\\afassihizakeri\\Topviewmovies\\ar35motor\\2021_11_02 for video Mirror42videoR and scorer DLC_resnet152_ar30shiwkerSep13shuffle1_632000.\n",
      "Filtering with median model \\\\dk-server.dk.ucsd.edu\\afassihizakeri\\Topviewmovies\\ar35motor\\2021_11_02\\Mirror176videoR.avi\n",
      "No unfiltered data file found in \\\\dk-server.dk.ucsd.edu\\afassihizakeri\\Topviewmovies\\ar35motor\\2021_11_02 for video Mirror176videoR and scorer DLC_resnet152_ar30shiwkerSep13shuffle1_632000.\n",
      "Filtering with median model \\\\dk-server.dk.ucsd.edu\\afassihizakeri\\Topviewmovies\\ar35motor\\2021_11_02\\Mirror87videoR.avi\n",
      "No unfiltered data file found in \\\\dk-server.dk.ucsd.edu\\afassihizakeri\\Topviewmovies\\ar35motor\\2021_11_02 for video Mirror87videoR and scorer DLC_resnet152_ar30shiwkerSep13shuffle1_632000.\n",
      "Filtering with median model \\\\dk-server.dk.ucsd.edu\\afassihizakeri\\Topviewmovies\\ar35motor\\2021_11_02\\Mirror34videoR.avi\n",
      "No unfiltered data file found in \\\\dk-server.dk.ucsd.edu\\afassihizakeri\\Topviewmovies\\ar35motor\\2021_11_02 for video Mirror34videoR and scorer DLC_resnet152_ar30shiwkerSep13shuffle1_632000.\n",
      "Filtering with median model \\\\dk-server.dk.ucsd.edu\\afassihizakeri\\Topviewmovies\\ar35motor\\2021_11_02\\Mirror100videoR.avi\n",
      "No unfiltered data file found in \\\\dk-server.dk.ucsd.edu\\afassihizakeri\\Topviewmovies\\ar35motor\\2021_11_02 for video Mirror100videoR and scorer DLC_resnet152_ar30shiwkerSep13shuffle1_632000.\n"
     ]
    }
   ],
   "source": [
    "#Mainfolder = 'F:\\\\videos\\\\ar34motor\\\\2022_01_27'\n",
    "import os\n",
    "import image_util\n",
    "path_config_file = '\\\\\\\\dk-server.dk.ucsd.edu\\\\afassihizakeri\\\\DLC\\\\ar30shiwker-Arash-2021-09-13\\\\config.yaml'\n",
    "XfilesL = [os.path.join(Mainfolder,f) for f in os.listdir(Mainfolder) if f.startswith('Mask') and f.endswith('.avi') ] # find all files with R.avi as file name\n",
    "XfilesR = [os.path.join(Mainfolder,f) for f in os.listdir(Mainfolder) if f.startswith('Mirror') and f.endswith('.avi') ]  # find all files with R.avi as file name\n",
    "#print(XfilesL)\n",
    "scorernameL=deeplabcut.analyze_videos(path_config_file,XfilesL,shuffle=2, save_as_csv=True)\n",
    "#print(scorernameL)\n",
    "deeplabcut.filterpredictions(path_config_file,XfilesL,shuffle=1)\n",
    "scorernameR=deeplabcut.analyze_videos(path_config_file,XfilesR,shuffle=2, save_as_csv=True)\n",
    "#print(scorernameR)\n",
    "deeplabcut.filterpredictions(path_config_file,XfilesR,shuffle=1)"
   ]
  },
  {
   "cell_type": "code",
   "execution_count": null,
   "metadata": {},
   "outputs": [],
   "source": [
    "#Mainfolder = 'F:\\\\videos\\\\ar34motor\\\\2022_01_27'\n",
    "import os\n",
    "import image_util\n",
    "path_config_file = '\\\\\\\\dk-server.dk.ucsd.edu\\\\afassihizakeri\\\\DLC\\\\ar30shiwker-Arash-2021-09-13\\\\config.yaml'\n",
    "\n",
    "XfilesL = [os.path.join(Mainfolder,f) for f in os.listdir(Mainfolder) if f.startswith('Mask') and f.endswith('.avi') ] # find all files with R.avi as file name\n",
    "print(XfilesL[1])\n",
    "scorernameL=deeplabcut.analyze_videos(path_config_file,XfilesL[1],shuffle=2, save_as_csv=True)\n",
    "deeplabcut.filterpredictions(path_config_file,XfilesL[1],shuffle=1)\n"
   ]
  },
  {
   "cell_type": "markdown",
   "metadata": {},
   "source": [
    "# copy tracked files into the server (with mp4 movies)"
   ]
  },
  {
   "cell_type": "code",
   "execution_count": null,
   "metadata": {},
   "outputs": [],
   "source": [
    "Mainfolder = 'F:\\\\videos\\\\ar32motor\\\\2021_08_02'\n",
    "destination = ''\n",
    "destination='//dk-server.dk.ucsd.edu/afassihizakeri/SC_Movies/ar32motor/2021_08_02/Side'\n",
    "import shutil\n",
    "shutil.copytree( Mainfolder,destination, ignore=shutil.ignore_patterns('*.avi'),copy_function = shutil.copy)\n",
    "#copytree(Mainfolder, destination, ignore=ignore_patterns('*.avi'))\n"
   ]
  },
  {
   "cell_type": "markdown",
   "metadata": {},
   "source": [
    "# save left right for a give trial"
   ]
  },
  {
   "cell_type": "code",
   "execution_count": null,
   "metadata": {},
   "outputs": [],
   "source": [
    "import time\n",
    "import numpy as np\n",
    "import os\n",
    "import top_view_spliter\n",
    "text_files = [os.path.join(Mainfolder,f) for f in os.listdir(Mainfolder) if f.endswith('video.mp4') and not f.endswith('L.avi') and not f.endswith('R.avi') and not f.endswith('videopoints.avi') and not f.endswith('videopoints.avi')]\n",
    "Trialname='100video.mp4'\n",
    "trial = [trial for trial in range(len(text_files)) if text_files[trial].endswith(Trialname)]\n",
    "trial = int(trial[0])\n",
    "t =time.time()\n",
    "Tag = 'Topview'\n",
    "df, Angle,Distance,movivename=top_view_spliter.readDLCfiles(Mainfolder,Tag,trial)\n",
    "text = os.path.basename(movivename);\n",
    "#%matplotlib notebook\n",
    "Good_Frames =top_view_spliter.find_good_frames(0.8,50,150,df,Distance)\n",
    "top_view_spliter.writeFrameData(Mainfolder,text,Good_Frames,df,Angle)\n",
    "top_view_spliter.savemovies_LR(movivename,Angle,df,Good_Frames,\".mp4\") \n",
    "#plt.plot(Angle[Good_Frames==1] ,'r--')\n",
    "#plt.title(os.path.basename(movivename))\n",
    "elapsed = time.time() - t \n",
    "video_name = (os.path.join(os.path.dirname(movivename),text.split('DLC')[0]+\".avi\"));\n",
    "print('Trial=',video_name,'Elapsed',elapsed)"
   ]
  }
 ],
 "metadata": {
  "kernelspec": {
   "display_name": "Python 3",
   "language": "python",
   "name": "python3"
  },
  "language_info": {
   "codemirror_mode": {
    "name": "ipython",
    "version": 3
   },
   "file_extension": ".py",
   "mimetype": "text/x-python",
   "name": "python",
   "nbconvert_exporter": "python",
   "pygments_lexer": "ipython3",
   "version": "3.6.6"
  }
 },
 "nbformat": 4,
 "nbformat_minor": 2
}
