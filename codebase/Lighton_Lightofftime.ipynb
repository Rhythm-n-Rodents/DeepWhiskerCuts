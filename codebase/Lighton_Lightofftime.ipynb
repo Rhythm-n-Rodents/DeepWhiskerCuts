{
 "cells": [
  {
   "cell_type": "markdown",
   "metadata": {
    "pycharm": {
     "name": "#%% md\n"
    }
   },
   "source": [
    "# get path of the videos create videso with higher birghtness"
   ]
  },
  {
   "cell_type": "code",
   "execution_count": 51,
   "metadata": {},
   "outputs": [
    {
     "name": "stdout",
     "output_type": "stream",
     "text": [
      "['000', '001', '002', '003', '004', '005', '006', '007', '008', '009', '010', '011', '012', '013', '014', '015', '016', '017', '018', '019', '020', '021', '022', '023', '024', '025', '026', '027', '028', '029', '030', '031', '032', '033', '034', '035', '036', '037', '038', '039', '040', '041', '042', '043', '044', '045', '046', '047', '048', '049', '050', '051', '052', '053', '054', '055', '056', '057', '058', '059', '060', '061', '062', '063', '064', '065', '066', '067', '068', '069', '070', '071', '072', '073', '074', '075', '076', '077', '078', '079', '080', '081', '082', '083', '084', '085', '086', '087', '088', '089', '090', '091', '092', '093', '094', '095', '096', '097', '098', '099', '100', '101', '102', '103', '104', '105', '106', '107', '108', '109', '110', '111', '112', '113', '114', '115', '116', '117', '118', '119', '120', '121', '122', '123', '124', '125', '126', '127', '128', '129', '130', '131', '132', '133', '134', '135', '136', '137', '138', '139', '140', '141', '142', '143', '144', '145', '146', '147', '148', '149', '150', '151', '152', '153', '154', '155', '156', '157', '158', '159', '160', '161', '162', '163', '164', '165', '166', '167', '168', '169', '170', '171', '172', '173', '174', '175', '176', '177', '178', '179', '180', '181', '182', '183', '184', '185', '186', '187', '188', '189', '190', '191', '192', '193', '194', '195', '196', '197', '198', '199', '200', '201', '202', '203', '204', '205', '206', '207', '208', '209', '210', '211', '212', '213', '214', '215', '216', '217', '218', '219', '220', '221', '222', '223', '224', '225', '226', '227', '228', '229', '230', '231', '232', '233', '234', '235', '236', '237', '238', '239', '240', '241', '242', '243', '244', '245', '246', '247', '248', '249', '250', '251', '252', '253', '254', '255', '256', '257', '258', '259', '260', '261', '262', '263', '264', '265', '266', '267', '268', '269', '270', '271', '272', '273', '274', '275', '276', '277', '278', '279', '280', '281', '282', '283', '284', '285', '286', '287', '288', '289', '290', '291', '292', '293', '294', '295', '296', '297', '298', '299', '300', '301', '302', '303', '304', '305', '306', '307', '308', '309', '310', '311', '312', '313', '314', '315', '316', '317', '318', '319', '320', '321', '322', '323', '324', '325', '326', '327', '328', '329', '330', '331', '332', '333', '334', '335', '336', '337', '338', '339', '340', '341', '342', '343', '344', '345', '346', '347', '348', '349', '350', '351', '352', '353', '354', '355', '356', '357', '358', '359', '360', '361', '362', '363', '364', '365', '366', '367', '368', '369', '370', '371', '372', '373', '374', '375', '376', '377', '378', '379', '380', '381', '382', '383', '384', '385', '386', '387', '388', '389', '390', '391', '392', '393', '394', '395', '396', '397', '398', '399', '400', '401', '402', '403', '404', '405', '406', '407', '408', '409', '410', '411', '412', '413', '414', '415', '416', '417', '418', '419', '420', '421', '422', '423', '424', '425', '426', '427', '428', '429', '430', '431', '432', '433', '434', '435', '436', '437', '438', '439', '440', '441', '442', '443', '444', '445', '446', '447', '448', '449', '450', '451', '452', '453', '454', '455', '456', '457', '458', '459', '460', '461', '462', '463', '464', '465', '466', '467', '468', '469', '470', '471', '472', '473', '474', '475', '476', '477', '478', '479', '480', '481', '482', '483', '484', '485', '486', '487', '488', '489', '490', '491', '492', '493', '494', '495', '496', '497', '498']\n"
     ]
    }
   ],
   "source": [
    "# enter the folder name \n",
    "Mainfolder = 'D:\\\\videos\\\\ar33\\\\2020_11_24';\n",
    " \n",
    "\n",
    "\n",
    "import os # this is to get folder information and creat files \n",
    "import cv2 # this is important and is reading and writing images and video \n",
    "import subprocess \n",
    "import shutil\n",
    "import matplotlib.pyplot as plt\n",
    "import matplotlib.image as mpimg\n",
    "import numpy as np\n",
    "import xlsxwriter  # this is to write xls files \n",
    "from PIL import Image\n",
    "enhancer = 1.1\n",
    "\n",
    "\n",
    " \n",
    " \n",
    "\n",
    "col = 0\n",
    "included_extensions = ['.jpg']\n",
    "K_kir = Mainfolder;\n",
    "All_Folders=[ name for name in os.listdir(Mainfolder) if os.path.isdir(os.path.join(Mainfolder, name)) ]\n",
    "\n",
    "for num in range(0,1): \n",
    " KK = os.path.join(K_kir+os.sep, All_Folders[num])\n",
    " if not os.path.isdir(KK):\n",
    "   continue\n",
    " dirContents = os.listdir(KK)\n",
    " if len(dirContents) == 0:\n",
    "  shutil.rmtree(KK, ignore_errors=False, onerror=None)\n",
    "  continue\n",
    " os.chdir(KK)\n",
    " my_file = os.path.join(K_kir,All_Folders[num]+'.xlsx');\n",
    " workbook = xlsxwriter.Workbook(my_file)\n",
    " worksheet = workbook.add_worksheet()\n",
    " files = filter(os.path.isfile, os.listdir(KK));\n",
    " files = [os.path.join(KK, f) for f in files] # add path to each file\n",
    " files.sort(key=lambda x: os.path.getmtime(x))\n",
    " #print(files)\n",
    "\n",
    " nEWfiles = [os.path.splitext(os.path.basename(f)) for f in  files] # add path to each file\n",
    " Prefix =  nEWfiles[0]\n",
    " Prefix = Prefix[0] \n",
    " nEWfiles = [(f[0]) for f in nEWfiles]\n",
    " nEWfiles = [(int(f[-3:])) for f in nEWfiles]\n",
    " nEWfiles = sorted(nEWfiles)\n",
    " nEWfiles = [\"%03d\" % x for x in nEWfiles]\n",
    "\n",
    " print(nEWfiles)\n",
    " files = [os.path.join(KK, Prefix[0:-3]+str(f)+'.jpg' )  for f in nEWfiles] # add path to each file\n",
    " #files = [os.path.join(KK, Prefix[0:-3]+str(f)+'.PNG' )  for f in nEWfiles] # add path to each file\n",
    "\n",
    " frame = cv2.imread(os.path.join(Mainfolder, files[0]))\n",
    "(xL,yL,wL,hL) = cv2.selectROI('image', frame)\n",
    "(xC,yC,wC,hC) = cv2.selectROI('image', frame)\n",
    "(xR,yR,wR,hR) = cv2.selectROI('image', frame)\n",
    "\n",
    "#cropped = frame[y:y+h , x:x+w] # both opencv and numpy are \"row-major\", so y goes first\n",
    "cv2.destroyAllWindows()\n"
   ]
  },
  {
   "cell_type": "code",
   "execution_count": null,
   "metadata": {},
   "outputs": [],
   "source": [
    "print(files[0])\n"
   ]
  },
  {
   "cell_type": "code",
   "execution_count": 74,
   "metadata": {
    "pycharm": {
     "name": "#%%\n"
    }
   },
   "outputs": [
    {
     "ename": "KeyboardInterrupt",
     "evalue": "",
     "output_type": "error",
     "traceback": [
      "\u001B[1;31m---------------------------------------------------------------------------\u001B[0m",
      "\u001B[1;31mKeyboardInterrupt\u001B[0m                         Traceback (most recent call last)",
      "\u001B[1;32m<ipython-input-74-a64b45cae63a>\u001B[0m in \u001B[0;36m<module>\u001B[1;34m\u001B[0m\n\u001B[0;32m     45\u001B[0m  \u001B[0mworksheet\u001B[0m\u001B[1;33m.\u001B[0m\u001B[0mwrite_row\u001B[0m\u001B[1;33m(\u001B[0m\u001B[1;36m0\u001B[0m\u001B[1;33m,\u001B[0m \u001B[1;36m0\u001B[0m\u001B[1;33m,\u001B[0m \u001B[0mNamesforarray\u001B[0m\u001B[1;33m)\u001B[0m\u001B[1;33m\u001B[0m\u001B[1;33m\u001B[0m\u001B[0m\n\u001B[0;32m     46\u001B[0m  \u001B[1;32mfor\u001B[0m \u001B[0midx\u001B[0m\u001B[1;33m,\u001B[0m\u001B[0mimage\u001B[0m \u001B[1;32min\u001B[0m \u001B[0menumerate\u001B[0m\u001B[1;33m(\u001B[0m\u001B[0mimages\u001B[0m\u001B[1;33m)\u001B[0m\u001B[1;33m:\u001B[0m\u001B[1;33m\u001B[0m\u001B[1;33m\u001B[0m\u001B[0m\n\u001B[1;32m---> 47\u001B[1;33m   \u001B[0mframe\u001B[0m \u001B[1;33m=\u001B[0m \u001B[0mcv2\u001B[0m\u001B[1;33m.\u001B[0m\u001B[0mimread\u001B[0m\u001B[1;33m(\u001B[0m\u001B[0mos\u001B[0m\u001B[1;33m.\u001B[0m\u001B[0mpath\u001B[0m\u001B[1;33m.\u001B[0m\u001B[0mjoin\u001B[0m\u001B[1;33m(\u001B[0m\u001B[0mMainfolder\u001B[0m\u001B[1;33m,\u001B[0m \u001B[0mimages\u001B[0m\u001B[1;33m[\u001B[0m\u001B[0midx\u001B[0m\u001B[1;33m]\u001B[0m\u001B[1;33m)\u001B[0m\u001B[1;33m)\u001B[0m\u001B[1;33m\u001B[0m\u001B[1;33m\u001B[0m\u001B[0m\n\u001B[0m\u001B[0;32m     48\u001B[0m   \u001B[0mcroppedL\u001B[0m \u001B[1;33m=\u001B[0m \u001B[0mframe\u001B[0m\u001B[1;33m[\u001B[0m\u001B[0myL\u001B[0m\u001B[1;33m:\u001B[0m\u001B[0myL\u001B[0m\u001B[1;33m+\u001B[0m\u001B[0mhL\u001B[0m \u001B[1;33m,\u001B[0m \u001B[0mxL\u001B[0m\u001B[1;33m:\u001B[0m\u001B[0mxL\u001B[0m\u001B[1;33m+\u001B[0m\u001B[0mwL\u001B[0m\u001B[1;33m]\u001B[0m \u001B[1;31m# both opencv and numpy are \"row-major\", so y goes first\u001B[0m\u001B[1;33m\u001B[0m\u001B[1;33m\u001B[0m\u001B[0m\n\u001B[0;32m     49\u001B[0m   \u001B[0mcroppedR\u001B[0m \u001B[1;33m=\u001B[0m \u001B[0mframe\u001B[0m\u001B[1;33m[\u001B[0m\u001B[0myR\u001B[0m\u001B[1;33m:\u001B[0m\u001B[0myR\u001B[0m\u001B[1;33m+\u001B[0m\u001B[0mhR\u001B[0m \u001B[1;33m,\u001B[0m \u001B[0mxR\u001B[0m\u001B[1;33m:\u001B[0m\u001B[0mxR\u001B[0m\u001B[1;33m+\u001B[0m\u001B[0mwR\u001B[0m\u001B[1;33m]\u001B[0m \u001B[1;31m# both opencv and numpy are \"row-major\", so y goes first\u001B[0m\u001B[1;33m\u001B[0m\u001B[1;33m\u001B[0m\u001B[0m\n",
      "\u001B[1;31mKeyboardInterrupt\u001B[0m: "
     ]
    }
   ],
   "source": [
    "Mainfolder = 'D:\\\\videos\\\\ar30\\\\2020_12_08';\n",
    "\n",
    "my_file = os.path.join(K_kir+'\\Lighttime.xlsx');\n",
    "workbook = xlsxwriter.Workbook(my_file)\n",
    "worksheet = workbook.add_worksheet()\n",
    "\n",
    "Namesforarray =['Left','Right','centeral'];\n",
    "col = 0\n",
    "K_kir = Mainfolder;\n",
    "All_Folders = os.listdir(Mainfolder)\n",
    "All_Folders=[ name for name in os.listdir(Mainfolder) if os.path.isdir(os.path.join(Mainfolder, name)) ]\n",
    "\n",
    "for num in range(0,len(All_Folders)): \n",
    "#for num in range(3,4): \n",
    " KK = os.path.join(K_kir+os.sep, All_Folders[num])\n",
    " if not os.path.isdir(KK):\n",
    "   continue\n",
    " dirContents = os.listdir(KK)\n",
    " if len(dirContents) == 0:\n",
    "  shutil.rmtree(KK, ignore_errors=False, onerror=None)\n",
    "  continue\n",
    " col +=1\n",
    " os.chdir(KK)\n",
    "\n",
    " files = filter(os.path.isfile, os.listdir(KK));\n",
    " files = [os.path.join(KK, f) for f in files] # add path to each file\n",
    " files.sort(key=lambda x: os.path.getmtime(x))\n",
    " #print(files)\n",
    "\n",
    " nEWfiles = [os.path.splitext(os.path.basename(f)) for f in  files ] # add path to each file\n",
    " Prefix =  nEWfiles[0]\n",
    " Prefix = Prefix[0] \n",
    " nEWfiles = [(f[0]) for f in nEWfiles]\n",
    " nEWfiles = [(int(f[-3:])) for f in nEWfiles if not f.startswith('Mask') and not f.startswith('R_mirror')]\n",
    " nEWfiles = sorted(nEWfiles)\n",
    " nEWfiles = [\"%03d\" % x for x in nEWfiles]\n",
    " #print(nEWfiles)\n",
    " files = [os.path.join(KK, Prefix[0:-3]+str(f)+'.jpg' )  for f in nEWfiles] # add path to each file\n",
    " images = files\n",
    "\n",
    "\n",
    " LightLeft = [];\n",
    " LightRight = [];\n",
    " LightCenter=[];\n",
    " worksheet.write_row(0, 0, Namesforarray)\n",
    " for idx,image in enumerate(images):\n",
    "  frame = cv2.imread(os.path.join(Mainfolder, images[idx]))\n",
    "  croppedL = frame[yL:yL+hL , xL:xL+wL] # both opencv and numpy are \"row-major\", so y goes first\n",
    "  croppedR = frame[yR:yR+hR , xR:xR+wR] # both opencv and numpy are \"row-major\", so y goes first\n",
    "  croppedC = frame[yC:yC+hC , xC:xC+wC] # both opencv and numpy are \"row-major\", so y goes first\n",
    "  worksheet.write_row( idx+1,col, [np.mean(croppedL)])\n",
    "  worksheet.write_row( idx+501,col, [np.mean(croppedC)])\n",
    "  worksheet.write_row( idx+1001,col, [np.mean(croppedR)])\n",
    "\n",
    " cv2.destroyAllWindows()\n",
    "workbook.close()"
   ]
  }
 ],
 "metadata": {
  "kernelspec": {
   "display_name": "Python 3",
   "language": "python",
   "name": "python3"
  },
  "language_info": {
   "codemirror_mode": {
    "name": "ipython",
    "version": 3
   },
   "file_extension": ".py",
   "mimetype": "text/x-python",
   "name": "python",
   "nbconvert_exporter": "python",
   "pygments_lexer": "ipython3",
   "version": "3.6.9"
  }
 },
 "nbformat": 4,
 "nbformat_minor": 2
}