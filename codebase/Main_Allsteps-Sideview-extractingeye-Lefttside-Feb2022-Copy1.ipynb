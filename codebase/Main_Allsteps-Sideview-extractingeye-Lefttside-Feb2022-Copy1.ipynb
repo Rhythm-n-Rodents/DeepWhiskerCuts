{
 "cells": [
  {
   "cell_type": "markdown",
   "metadata": {},
   "source": [
    "## first step is to make movies and lighttime out of single images "
   ]
  },
  {
   "cell_type": "code",
   "execution_count": 9,
   "metadata": {},
   "outputs": [],
   "source": [
    "# enter the folder name \n",
    "Mainfolder = 'D:\\\\Sidevideos\\\\AR35MOTOR\\\\2022_02_04'\n",
    "import main\n"
   ]
  },
  {
   "cell_type": "code",
   "execution_count": 11,
   "metadata": {
    "scrolled": true
   },
   "outputs": [
    {
     "name": "stdout",
     "output_type": "stream",
     "text": [
      "0\n",
      "1\n",
      "2\n",
      "3\n",
      "4\n",
      "5\n",
      "6\n",
      "7\n",
      "8\n",
      "9\n",
      "10\n",
      "11\n",
      "12\n",
      "13\n",
      "14\n",
      "15\n",
      "16\n",
      "17\n",
      "18\n",
      "19\n",
      "20\n",
      "21\n",
      "22\n",
      "23\n",
      "24\n",
      "25\n",
      "26\n",
      "27\n",
      "28\n",
      "29\n",
      "30\n",
      "31\n",
      "32\n",
      "33\n",
      "34\n",
      "35\n",
      "36\n",
      "37\n",
      "38\n",
      "39\n",
      "40\n",
      "41\n",
      "42\n",
      "43\n",
      "44\n",
      "45\n",
      "46\n",
      "47\n",
      "48\n",
      "49\n",
      "50\n",
      "51\n",
      "52\n",
      "53\n",
      "54\n",
      "55\n",
      "56\n",
      "57\n",
      "58\n",
      "59\n",
      "60\n",
      "61\n",
      "62\n",
      "63\n",
      "64\n",
      "65\n",
      "66\n",
      "67\n",
      "68\n",
      "69\n",
      "70\n",
      "71\n",
      "72\n",
      "73\n",
      "74\n",
      "75\n",
      "76\n",
      "77\n",
      "78\n",
      "79\n",
      "80\n",
      "81\n",
      "82\n",
      "83\n",
      "84\n",
      "85\n",
      "86\n",
      "87\n",
      "88\n",
      "89\n",
      "90\n",
      "91\n",
      "92\n",
      "93\n",
      "94\n",
      "95\n",
      "96\n",
      "97\n",
      "98\n",
      "99\n",
      "100\n",
      "101\n",
      "102\n",
      "103\n",
      "104\n",
      "105\n",
      "106\n",
      "107\n",
      "108\n",
      "109\n",
      "110\n",
      "111\n",
      "112\n",
      "113\n",
      "114\n",
      "115\n",
      "116\n",
      "117\n",
      "118\n",
      "119\n",
      "120\n",
      "121\n",
      "122\n",
      "123\n",
      "124\n",
      "125\n",
      "126\n",
      "127\n",
      "128\n",
      "129\n",
      "130\n",
      "131\n",
      "132\n",
      "133\n",
      "134\n",
      "135\n",
      "136\n",
      "137\n",
      "138\n",
      "139\n",
      "140\n",
      "141\n",
      "142\n",
      "143\n",
      "144\n",
      "145\n",
      "146\n",
      "147\n",
      "148\n",
      "149\n",
      "150\n",
      "151\n",
      "152\n",
      "153\n",
      "154\n",
      "155\n",
      "156\n",
      "157\n",
      "158\n",
      "159\n",
      "160\n",
      "161\n",
      "162\n",
      "163\n",
      "164\n",
      "165\n",
      "166\n",
      "167\n",
      "168\n",
      "169\n",
      "170\n",
      "171\n",
      "172\n",
      "173\n",
      "174\n",
      "175\n",
      "176\n",
      "177\n",
      "178\n",
      "179\n",
      "180\n",
      "181\n",
      "182\n",
      "183\n",
      "184\n",
      "185\n",
      "186\n",
      "187\n",
      "188\n",
      "189\n",
      "190\n",
      "191\n",
      "192\n",
      "193\n",
      "194\n",
      "195\n",
      "196\n",
      "197\n",
      "198\n",
      "199\n",
      "200\n",
      "201\n",
      "202\n",
      "203\n",
      "204\n",
      "205\n",
      "206\n",
      "207\n",
      "208\n",
      "209\n",
      "210\n",
      "211\n",
      "212\n",
      "213\n",
      "214\n",
      "215\n",
      "216\n",
      "217\n",
      "218\n",
      "219\n",
      "220\n",
      "221\n",
      "222\n",
      "223\n",
      "224\n",
      "225\n",
      "226\n",
      "227\n",
      "228\n",
      "229\n",
      "230\n",
      "231\n",
      "232\n",
      "233\n",
      "234\n",
      "235\n",
      "236\n",
      "237\n",
      "238\n",
      "239\n",
      "240\n",
      "241\n",
      "242\n",
      "243\n",
      "244\n",
      "245\n",
      "246\n",
      "247\n",
      "248\n",
      "249\n",
      "250\n",
      "251\n",
      "252\n",
      "253\n",
      "254\n",
      "255\n",
      "256\n",
      "257\n",
      "258\n",
      "259\n",
      "260\n",
      "261\n",
      "262\n",
      "263\n",
      "264\n",
      "265\n",
      "266\n",
      "267\n",
      "268\n",
      "269\n",
      "270\n",
      "271\n",
      "272\n",
      "273\n",
      "274\n",
      "275\n",
      "276\n",
      "277\n",
      "278\n",
      "279\n",
      "280\n",
      "281\n",
      "282\n",
      "283\n",
      "284\n",
      "285\n",
      "286\n",
      "287\n",
      "288\n",
      "289\n",
      "290\n",
      "291\n",
      "292\n",
      "293\n",
      "294\n",
      "295\n",
      "296\n",
      "297\n",
      "298\n",
      "299\n",
      "300\n",
      "301\n",
      "302\n",
      "303\n",
      "304\n",
      "305\n",
      "306\n",
      "307\n",
      "308\n",
      "['0', '1', '10', '100', '101', '102', '103', '104', '105', '106', '107', '108', '109', '11', '110', '111', '112', '113', '114', '115', '116', '117', '118', '119', '12', '120', '121', '122', '123', '124', '125', '126', '127', '128', '129', '13', '130', '131', '132', '133', '134', '135', '136', '137', '138', '139', '14', '140', '141', '142', '143', '144', '145', '146', '147', '148', '149', '15', '150', '151', '152', '153', '154', '155', '156', '157', '158', '159', '16', '160', '161', '162', '163', '164', '165', '166', '167', '168', '169', '17', '170', '171', '172', '173', '174', '175', '176', '177', '178', '179', '18', '180', '181', '182', '183', '184', '185', '186', '187', '188', '189', '19', '190', '191', '192', '193', '194', '195', '196', '197', '198', '199', '2', '20', '200', '201', '202', '203', '204', '205', '206', '207', '208', '209', '21', '210', '211', '212', '213', '214', '215', '216', '217', '218', '219', '22', '220', '221', '222', '223', '224', '225', '226', '227', '228', '229', '23', '230', '231', '232', '233', '234', '235', '236', '237', '238', '239', '24', '240', '241', '242', '243', '244', '245', '246', '247', '248', '249', '25', '250', '251', '252', '253', '254', '255', '256', '257', '258', '259', '26', '260', '261', '262', '263', '264', '265', '266', '267', '268', '269', '27', '270', '271', '272', '273', '274', '275', '276', '277', '278', '279', '28', '280', '281', '282', '283', '284', '285', '286', '287', '288', '289', '29', '290', '291', '292', '293', '294', '295', '296', '297', '298', '299', '3', '30', '300', '301', '302', '303', '304', '305', '306', '307', '308', '31', '32', '33', '34', '35', '36', '37', '38', '39', '4', '40', '41', '42', '43', '44', '45', '46', '47', '48', '49', '5', '50', '51', '52', '53', '54', '55', '56', '57', '58', '59', '6', '60', '61', '62', '63', '64', '65', '66', '67', '68', '69', '7', '70', '71', '72', '73', '74', '75', '76', '77', '78', '79', '8', '80', '81', '82', '83', '84', '85', '86', '87', '88', '89', '9', '90', '91', '92', '93', '94', '95', '96', '97', '98', '99']\n"
     ]
    }
   ],
   "source": [
    "#main.make_movie_only(Mainfolder)\n",
    "main.makemovieandLightfile(Mainfolder)\n",
    "main.save_trial_n(Mainfolder)"
   ]
  },
  {
   "cell_type": "code",
   "execution_count": 12,
   "metadata": {},
   "outputs": [],
   "source": [
    "import deeplabcut\n",
    "## https://github.com/AlexEMG/DeepLabCut"
   ]
  },
  {
   "cell_type": "code",
   "execution_count": 13,
   "metadata": {},
   "outputs": [
    {
     "name": "stdout",
     "output_type": "stream",
     "text": [
      "D:\\Sidevideos\\AR35MOTOR\\2022_02_04\\1.avi\n",
      "Using snapshot-109000 for model C:\\Users\\dklab\\Dropbox\\Notebook\\DLC\\Sideview_Aug-Arash-2021-08-04\\dlc-models\\iteration-0\\Sideview_AugAug4-trainset95shuffle1\n"
     ]
    },
    {
     "name": "stderr",
     "output_type": "stream",
     "text": [
      "C:\\Users\\dklab\\anaconda3\\envs\\DEEPLABCUT\\lib\\site-packages\\tensorflow\\python\\keras\\engine\\base_layer_v1.py:1694: UserWarning: `layer.apply` is deprecated and will be removed in a future version. Please use `layer.__call__` method instead.\n",
      "  warnings.warn('`layer.apply` is deprecated and '\n"
     ]
    },
    {
     "name": "stdout",
     "output_type": "stream",
     "text": [
      "Starting to analyze %  D:\\Sidevideos\\AR35MOTOR\\2022_02_04\\0.avi\n",
      "Loading  D:\\Sidevideos\\AR35MOTOR\\2022_02_04\\0.avi\n",
      "Duration of video [s]:  12.5 , recorded with  40.0 fps!\n",
      "Overall # of frames:  500  found with (before cropping) frame dimensions:  800 480\n",
      "Starting to extract posture\n"
     ]
    },
    {
     "name": "stderr",
     "output_type": "stream",
     "text": [
      "510it [00:25, 19.95it/s]                                                                                               \n"
     ]
    },
    {
     "name": "stdout",
     "output_type": "stream",
     "text": [
      "Saving results in D:\\Sidevideos\\AR35MOTOR\\2022_02_04...\n",
      "Saving csv poses!\n",
      "Starting to analyze %  D:\\Sidevideos\\AR35MOTOR\\2022_02_04\\1.avi\n",
      "Loading  D:\\Sidevideos\\AR35MOTOR\\2022_02_04\\1.avi\n",
      "Duration of video [s]:  12.5 , recorded with  40.0 fps!\n",
      "Overall # of frames:  500  found with (before cropping) frame dimensions:  800 480\n",
      "Starting to extract posture\n"
     ]
    },
    {
     "name": "stderr",
     "output_type": "stream",
     "text": [
      "510it [00:24, 20.48it/s]                                                                                               \n"
     ]
    },
    {
     "name": "stdout",
     "output_type": "stream",
     "text": [
      "Saving results in D:\\Sidevideos\\AR35MOTOR\\2022_02_04...\n",
      "Saving csv poses!\n",
      "Starting to analyze %  D:\\Sidevideos\\AR35MOTOR\\2022_02_04\\10.avi\n",
      "Loading  D:\\Sidevideos\\AR35MOTOR\\2022_02_04\\10.avi\n",
      "Duration of video [s]:  12.5 , recorded with  40.0 fps!\n",
      "Overall # of frames:  500  found with (before cropping) frame dimensions:  800 480\n",
      "Starting to extract posture\n"
     ]
    },
    {
     "name": "stderr",
     "output_type": "stream",
     "text": [
      "510it [00:24, 20.41it/s]                                                                                               \n"
     ]
    },
    {
     "name": "stdout",
     "output_type": "stream",
     "text": [
      "Saving results in D:\\Sidevideos\\AR35MOTOR\\2022_02_04...\n",
      "Saving csv poses!\n",
      "Starting to analyze %  D:\\Sidevideos\\AR35MOTOR\\2022_02_04\\100.avi\n",
      "Loading  D:\\Sidevideos\\AR35MOTOR\\2022_02_04\\100.avi\n",
      "Duration of video [s]:  12.5 , recorded with  40.0 fps!\n",
      "Overall # of frames:  500  found with (before cropping) frame dimensions:  800 480\n",
      "Starting to extract posture\n"
     ]
    },
    {
     "name": "stderr",
     "output_type": "stream",
     "text": [
      "510it [00:25, 20.37it/s]                                                                                               \n"
     ]
    },
    {
     "name": "stdout",
     "output_type": "stream",
     "text": [
      "Saving results in D:\\Sidevideos\\AR35MOTOR\\2022_02_04...\n",
      "Saving csv poses!\n",
      "Starting to analyze %  D:\\Sidevideos\\AR35MOTOR\\2022_02_04\\101.avi\n",
      "Loading  D:\\Sidevideos\\AR35MOTOR\\2022_02_04\\101.avi\n",
      "Duration of video [s]:  12.5 , recorded with  40.0 fps!\n",
      "Overall # of frames:  500  found with (before cropping) frame dimensions:  800 480\n",
      "Starting to extract posture\n"
     ]
    },
    {
     "name": "stderr",
     "output_type": "stream",
     "text": [
      "510it [00:24, 20.72it/s]                                                                                               \n"
     ]
    },
    {
     "name": "stdout",
     "output_type": "stream",
     "text": [
      "Saving results in D:\\Sidevideos\\AR35MOTOR\\2022_02_04...\n",
      "Saving csv poses!\n",
      "Starting to analyze %  D:\\Sidevideos\\AR35MOTOR\\2022_02_04\\102.avi\n",
      "Loading  D:\\Sidevideos\\AR35MOTOR\\2022_02_04\\102.avi\n",
      "Duration of video [s]:  12.5 , recorded with  40.0 fps!\n",
      "Overall # of frames:  500  found with (before cropping) frame dimensions:  800 480\n",
      "Starting to extract posture\n"
     ]
    },
    {
     "name": "stderr",
     "output_type": "stream",
     "text": [
      "510it [00:25, 20.26it/s]                                                                                               \n"
     ]
    },
    {
     "name": "stdout",
     "output_type": "stream",
     "text": [
      "Saving results in D:\\Sidevideos\\AR35MOTOR\\2022_02_04...\n",
      "Saving csv poses!\n",
      "Starting to analyze %  D:\\Sidevideos\\AR35MOTOR\\2022_02_04\\103.avi\n",
      "Loading  D:\\Sidevideos\\AR35MOTOR\\2022_02_04\\103.avi\n",
      "Duration of video [s]:  12.5 , recorded with  40.0 fps!\n",
      "Overall # of frames:  500  found with (before cropping) frame dimensions:  800 480\n",
      "Starting to extract posture\n"
     ]
    },
    {
     "name": "stderr",
     "output_type": "stream",
     "text": [
      "510it [00:25, 20.40it/s]                                                                                               \n"
     ]
    },
    {
     "name": "stdout",
     "output_type": "stream",
     "text": [
      "Saving results in D:\\Sidevideos\\AR35MOTOR\\2022_02_04...\n",
      "Saving csv poses!\n",
      "Starting to analyze %  D:\\Sidevideos\\AR35MOTOR\\2022_02_04\\104.avi\n",
      "Loading  D:\\Sidevideos\\AR35MOTOR\\2022_02_04\\104.avi\n",
      "Duration of video [s]:  12.5 , recorded with  40.0 fps!\n",
      "Overall # of frames:  500  found with (before cropping) frame dimensions:  800 480\n",
      "Starting to extract posture\n"
     ]
    },
    {
     "name": "stderr",
     "output_type": "stream",
     "text": [
      "510it [00:24, 20.57it/s]                                                                                               \n"
     ]
    },
    {
     "name": "stdout",
     "output_type": "stream",
     "text": [
      "Saving results in D:\\Sidevideos\\AR35MOTOR\\2022_02_04...\n",
      "Saving csv poses!\n",
      "Starting to analyze %  D:\\Sidevideos\\AR35MOTOR\\2022_02_04\\105.avi\n",
      "Loading  D:\\Sidevideos\\AR35MOTOR\\2022_02_04\\105.avi\n",
      "Duration of video [s]:  12.5 , recorded with  40.0 fps!\n",
      "Overall # of frames:  500  found with (before cropping) frame dimensions:  800 480\n",
      "Starting to extract posture\n"
     ]
    },
    {
     "name": "stderr",
     "output_type": "stream",
     "text": [
      "510it [00:25, 20.32it/s]                                                                                               \n"
     ]
    },
    {
     "name": "stdout",
     "output_type": "stream",
     "text": [
      "Saving results in D:\\Sidevideos\\AR35MOTOR\\2022_02_04...\n",
      "Saving csv poses!\n",
      "Starting to analyze %  D:\\Sidevideos\\AR35MOTOR\\2022_02_04\\106.avi\n",
      "Loading  D:\\Sidevideos\\AR35MOTOR\\2022_02_04\\106.avi\n",
      "Duration of video [s]:  12.5 , recorded with  40.0 fps!\n",
      "Overall # of frames:  500  found with (before cropping) frame dimensions:  800 480\n",
      "Starting to extract posture\n"
     ]
    },
    {
     "name": "stderr",
     "output_type": "stream",
     "text": [
      "510it [00:24, 20.60it/s]                                                                                               \n"
     ]
    },
    {
     "name": "stdout",
     "output_type": "stream",
     "text": [
      "Saving results in D:\\Sidevideos\\AR35MOTOR\\2022_02_04...\n",
      "Saving csv poses!\n",
      "Starting to analyze %  D:\\Sidevideos\\AR35MOTOR\\2022_02_04\\107.avi\n",
      "Loading  D:\\Sidevideos\\AR35MOTOR\\2022_02_04\\107.avi\n",
      "Duration of video [s]:  12.5 , recorded with  40.0 fps!\n",
      "Overall # of frames:  500  found with (before cropping) frame dimensions:  800 480\n",
      "Starting to extract posture\n"
     ]
    },
    {
     "name": "stderr",
     "output_type": "stream",
     "text": [
      "510it [00:24, 20.44it/s]                                                                                               \n"
     ]
    },
    {
     "name": "stdout",
     "output_type": "stream",
     "text": [
      "Saving results in D:\\Sidevideos\\AR35MOTOR\\2022_02_04...\n",
      "Saving csv poses!\n",
      "Starting to analyze %  D:\\Sidevideos\\AR35MOTOR\\2022_02_04\\108.avi\n",
      "Loading  D:\\Sidevideos\\AR35MOTOR\\2022_02_04\\108.avi\n",
      "Duration of video [s]:  12.5 , recorded with  40.0 fps!\n",
      "Overall # of frames:  500  found with (before cropping) frame dimensions:  800 480\n",
      "Starting to extract posture\n"
     ]
    },
    {
     "name": "stderr",
     "output_type": "stream",
     "text": [
      "510it [00:24, 20.55it/s]                                                                                               \n"
     ]
    },
    {
     "name": "stdout",
     "output_type": "stream",
     "text": [
      "Saving results in D:\\Sidevideos\\AR35MOTOR\\2022_02_04...\n",
      "Saving csv poses!\n",
      "Starting to analyze %  D:\\Sidevideos\\AR35MOTOR\\2022_02_04\\109.avi\n",
      "Loading  D:\\Sidevideos\\AR35MOTOR\\2022_02_04\\109.avi\n",
      "Duration of video [s]:  12.5 , recorded with  40.0 fps!\n",
      "Overall # of frames:  500  found with (before cropping) frame dimensions:  800 480\n",
      "Starting to extract posture\n"
     ]
    },
    {
     "name": "stderr",
     "output_type": "stream",
     "text": [
      "510it [00:24, 20.48it/s]                                                                                               \n"
     ]
    },
    {
     "name": "stdout",
     "output_type": "stream",
     "text": [
      "Saving results in D:\\Sidevideos\\AR35MOTOR\\2022_02_04...\n",
      "Saving csv poses!\n",
      "Starting to analyze %  D:\\Sidevideos\\AR35MOTOR\\2022_02_04\\11.avi\n",
      "Loading  D:\\Sidevideos\\AR35MOTOR\\2022_02_04\\11.avi\n",
      "Duration of video [s]:  12.5 , recorded with  40.0 fps!\n",
      "Overall # of frames:  500  found with (before cropping) frame dimensions:  800 480\n",
      "Starting to extract posture\n"
     ]
    },
    {
     "name": "stderr",
     "output_type": "stream",
     "text": [
      "510it [00:25, 20.31it/s]                                                                                               \n"
     ]
    },
    {
     "name": "stdout",
     "output_type": "stream",
     "text": [
      "Saving results in D:\\Sidevideos\\AR35MOTOR\\2022_02_04...\n",
      "Saving csv poses!\n",
      "Starting to analyze %  D:\\Sidevideos\\AR35MOTOR\\2022_02_04\\110.avi\n",
      "Loading  D:\\Sidevideos\\AR35MOTOR\\2022_02_04\\110.avi\n",
      "Duration of video [s]:  12.5 , recorded with  40.0 fps!\n",
      "Overall # of frames:  500  found with (before cropping) frame dimensions:  800 480\n",
      "Starting to extract posture\n"
     ]
    },
    {
     "name": "stderr",
     "output_type": "stream",
     "text": [
      "510it [00:24, 20.49it/s]                                                                                               \n"
     ]
    },
    {
     "name": "stdout",
     "output_type": "stream",
     "text": [
      "Saving results in D:\\Sidevideos\\AR35MOTOR\\2022_02_04...\n",
      "Saving csv poses!\n",
      "Starting to analyze %  D:\\Sidevideos\\AR35MOTOR\\2022_02_04\\111.avi\n",
      "Loading  D:\\Sidevideos\\AR35MOTOR\\2022_02_04\\111.avi\n",
      "Duration of video [s]:  12.5 , recorded with  40.0 fps!\n",
      "Overall # of frames:  500  found with (before cropping) frame dimensions:  800 480\n",
      "Starting to extract posture\n"
     ]
    },
    {
     "name": "stderr",
     "output_type": "stream",
     "text": [
      "510it [00:24, 20.46it/s]                                                                                               \n"
     ]
    },
    {
     "name": "stdout",
     "output_type": "stream",
     "text": [
      "Saving results in D:\\Sidevideos\\AR35MOTOR\\2022_02_04...\n",
      "Saving csv poses!\n",
      "Starting to analyze %  D:\\Sidevideos\\AR35MOTOR\\2022_02_04\\112.avi\n",
      "Loading  D:\\Sidevideos\\AR35MOTOR\\2022_02_04\\112.avi\n",
      "Duration of video [s]:  12.5 , recorded with  40.0 fps!\n",
      "Overall # of frames:  500  found with (before cropping) frame dimensions:  800 480\n",
      "Starting to extract posture\n"
     ]
    },
    {
     "name": "stderr",
     "output_type": "stream",
     "text": [
      "510it [00:25, 20.30it/s]                                                                                               \n"
     ]
    },
    {
     "name": "stdout",
     "output_type": "stream",
     "text": [
      "Saving results in D:\\Sidevideos\\AR35MOTOR\\2022_02_04...\n",
      "Saving csv poses!\n",
      "Starting to analyze %  D:\\Sidevideos\\AR35MOTOR\\2022_02_04\\113.avi\n",
      "Loading  D:\\Sidevideos\\AR35MOTOR\\2022_02_04\\113.avi\n",
      "Duration of video [s]:  12.5 , recorded with  40.0 fps!\n",
      "Overall # of frames:  500  found with (before cropping) frame dimensions:  800 480\n",
      "Starting to extract posture\n"
     ]
    },
    {
     "name": "stderr",
     "output_type": "stream",
     "text": [
      "510it [00:24, 20.45it/s]                                                                                               \n"
     ]
    },
    {
     "name": "stdout",
     "output_type": "stream",
     "text": [
      "Saving results in D:\\Sidevideos\\AR35MOTOR\\2022_02_04...\n",
      "Saving csv poses!\n",
      "Starting to analyze %  D:\\Sidevideos\\AR35MOTOR\\2022_02_04\\114.avi\n",
      "Loading  D:\\Sidevideos\\AR35MOTOR\\2022_02_04\\114.avi\n",
      "Duration of video [s]:  12.5 , recorded with  40.0 fps!\n",
      "Overall # of frames:  500  found with (before cropping) frame dimensions:  800 480\n",
      "Starting to extract posture\n"
     ]
    },
    {
     "name": "stderr",
     "output_type": "stream",
     "text": [
      "510it [00:25, 20.33it/s]                                                                                               \n"
     ]
    },
    {
     "name": "stdout",
     "output_type": "stream",
     "text": [
      "Saving results in D:\\Sidevideos\\AR35MOTOR\\2022_02_04...\n",
      "Saving csv poses!\n",
      "Starting to analyze %  D:\\Sidevideos\\AR35MOTOR\\2022_02_04\\115.avi\n",
      "Loading  D:\\Sidevideos\\AR35MOTOR\\2022_02_04\\115.avi\n",
      "Duration of video [s]:  12.5 , recorded with  40.0 fps!\n",
      "Overall # of frames:  500  found with (before cropping) frame dimensions:  800 480\n",
      "Starting to extract posture\n"
     ]
    },
    {
     "name": "stderr",
     "output_type": "stream",
     "text": [
      "510it [00:24, 20.43it/s]                                                                                               \n"
     ]
    },
    {
     "name": "stdout",
     "output_type": "stream",
     "text": [
      "Saving results in D:\\Sidevideos\\AR35MOTOR\\2022_02_04...\n",
      "Saving csv poses!\n",
      "Starting to analyze %  D:\\Sidevideos\\AR35MOTOR\\2022_02_04\\116.avi\n",
      "Loading  D:\\Sidevideos\\AR35MOTOR\\2022_02_04\\116.avi\n",
      "Duration of video [s]:  12.5 , recorded with  40.0 fps!\n",
      "Overall # of frames:  500  found with (before cropping) frame dimensions:  800 480\n",
      "Starting to extract posture\n"
     ]
    },
    {
     "name": "stderr",
     "output_type": "stream",
     "text": [
      "510it [00:24, 20.66it/s]                                                                                               \n"
     ]
    },
    {
     "name": "stdout",
     "output_type": "stream",
     "text": [
      "Saving results in D:\\Sidevideos\\AR35MOTOR\\2022_02_04...\n",
      "Saving csv poses!\n",
      "Starting to analyze %  D:\\Sidevideos\\AR35MOTOR\\2022_02_04\\117.avi\n",
      "Loading  D:\\Sidevideos\\AR35MOTOR\\2022_02_04\\117.avi\n",
      "Duration of video [s]:  12.5 , recorded with  40.0 fps!\n",
      "Overall # of frames:  500  found with (before cropping) frame dimensions:  800 480\n",
      "Starting to extract posture\n"
     ]
    },
    {
     "name": "stderr",
     "output_type": "stream",
     "text": [
      "510it [00:25, 20.34it/s]                                                                                               \n"
     ]
    },
    {
     "name": "stdout",
     "output_type": "stream",
     "text": [
      "Saving results in D:\\Sidevideos\\AR35MOTOR\\2022_02_04...\n",
      "Saving csv poses!\n",
      "Starting to analyze %  D:\\Sidevideos\\AR35MOTOR\\2022_02_04\\118.avi\n",
      "Loading  D:\\Sidevideos\\AR35MOTOR\\2022_02_04\\118.avi\n",
      "Duration of video [s]:  12.5 , recorded with  40.0 fps!\n",
      "Overall # of frames:  500  found with (before cropping) frame dimensions:  800 480\n",
      "Starting to extract posture\n"
     ]
    },
    {
     "name": "stderr",
     "output_type": "stream",
     "text": [
      "510it [00:24, 20.51it/s]                                                                                               \n"
     ]
    },
    {
     "name": "stdout",
     "output_type": "stream",
     "text": [
      "Saving results in D:\\Sidevideos\\AR35MOTOR\\2022_02_04...\n",
      "Saving csv poses!\n",
      "Starting to analyze %  D:\\Sidevideos\\AR35MOTOR\\2022_02_04\\119.avi\n",
      "Loading  D:\\Sidevideos\\AR35MOTOR\\2022_02_04\\119.avi\n",
      "Duration of video [s]:  12.5 , recorded with  40.0 fps!\n",
      "Overall # of frames:  500  found with (before cropping) frame dimensions:  800 480\n",
      "Starting to extract posture\n"
     ]
    },
    {
     "name": "stderr",
     "output_type": "stream",
     "text": [
      "510it [00:25, 20.35it/s]                                                                                               \n"
     ]
    },
    {
     "name": "stdout",
     "output_type": "stream",
     "text": [
      "Saving results in D:\\Sidevideos\\AR35MOTOR\\2022_02_04...\n",
      "Saving csv poses!\n",
      "Starting to analyze %  D:\\Sidevideos\\AR35MOTOR\\2022_02_04\\12.avi\n",
      "Loading  D:\\Sidevideos\\AR35MOTOR\\2022_02_04\\12.avi\n",
      "Duration of video [s]:  12.5 , recorded with  40.0 fps!\n",
      "Overall # of frames:  500  found with (before cropping) frame dimensions:  800 480\n",
      "Starting to extract posture\n"
     ]
    },
    {
     "name": "stderr",
     "output_type": "stream",
     "text": [
      "510it [00:25, 20.27it/s]                                                                                               \n"
     ]
    },
    {
     "name": "stdout",
     "output_type": "stream",
     "text": [
      "Saving results in D:\\Sidevideos\\AR35MOTOR\\2022_02_04...\n",
      "Saving csv poses!\n",
      "Starting to analyze %  D:\\Sidevideos\\AR35MOTOR\\2022_02_04\\120.avi\n",
      "Loading  D:\\Sidevideos\\AR35MOTOR\\2022_02_04\\120.avi\n",
      "Duration of video [s]:  12.5 , recorded with  40.0 fps!\n",
      "Overall # of frames:  500  found with (before cropping) frame dimensions:  800 480\n",
      "Starting to extract posture\n"
     ]
    },
    {
     "name": "stderr",
     "output_type": "stream",
     "text": [
      "510it [00:24, 20.64it/s]                                                                                               \n"
     ]
    },
    {
     "name": "stdout",
     "output_type": "stream",
     "text": [
      "Saving results in D:\\Sidevideos\\AR35MOTOR\\2022_02_04...\n",
      "Saving csv poses!\n",
      "Starting to analyze %  D:\\Sidevideos\\AR35MOTOR\\2022_02_04\\121.avi\n",
      "Loading  D:\\Sidevideos\\AR35MOTOR\\2022_02_04\\121.avi\n",
      "Duration of video [s]:  12.5 , recorded with  40.0 fps!\n",
      "Overall # of frames:  500  found with (before cropping) frame dimensions:  800 480\n",
      "Starting to extract posture\n"
     ]
    },
    {
     "name": "stderr",
     "output_type": "stream",
     "text": [
      "510it [00:25, 20.26it/s]                                                                                               \n"
     ]
    },
    {
     "name": "stdout",
     "output_type": "stream",
     "text": [
      "Saving results in D:\\Sidevideos\\AR35MOTOR\\2022_02_04...\n",
      "Saving csv poses!\n",
      "Starting to analyze %  D:\\Sidevideos\\AR35MOTOR\\2022_02_04\\122.avi\n",
      "Loading  D:\\Sidevideos\\AR35MOTOR\\2022_02_04\\122.avi\n",
      "Duration of video [s]:  12.5 , recorded with  40.0 fps!\n",
      "Overall # of frames:  500  found with (before cropping) frame dimensions:  800 480\n",
      "Starting to extract posture\n"
     ]
    },
    {
     "name": "stderr",
     "output_type": "stream",
     "text": [
      "510it [00:24, 20.43it/s]                                                                                               \n"
     ]
    },
    {
     "name": "stdout",
     "output_type": "stream",
     "text": [
      "Saving results in D:\\Sidevideos\\AR35MOTOR\\2022_02_04...\n",
      "Saving csv poses!\n",
      "Starting to analyze %  D:\\Sidevideos\\AR35MOTOR\\2022_02_04\\123.avi\n",
      "Loading  D:\\Sidevideos\\AR35MOTOR\\2022_02_04\\123.avi\n",
      "Duration of video [s]:  12.5 , recorded with  40.0 fps!\n",
      "Overall # of frames:  500  found with (before cropping) frame dimensions:  800 480\n",
      "Starting to extract posture\n"
     ]
    },
    {
     "name": "stderr",
     "output_type": "stream",
     "text": [
      "510it [00:24, 20.44it/s]                                                                                               \n"
     ]
    },
    {
     "name": "stdout",
     "output_type": "stream",
     "text": [
      "Saving results in D:\\Sidevideos\\AR35MOTOR\\2022_02_04...\n",
      "Saving csv poses!\n",
      "Starting to analyze %  D:\\Sidevideos\\AR35MOTOR\\2022_02_04\\124.avi\n",
      "Loading  D:\\Sidevideos\\AR35MOTOR\\2022_02_04\\124.avi\n",
      "Duration of video [s]:  12.5 , recorded with  40.0 fps!\n",
      "Overall # of frames:  500  found with (before cropping) frame dimensions:  800 480\n",
      "Starting to extract posture\n"
     ]
    },
    {
     "name": "stderr",
     "output_type": "stream",
     "text": [
      "510it [00:25, 20.23it/s]                                                                                               \n"
     ]
    },
    {
     "name": "stdout",
     "output_type": "stream",
     "text": [
      "Saving results in D:\\Sidevideos\\AR35MOTOR\\2022_02_04...\n",
      "Saving csv poses!\n",
      "Starting to analyze %  D:\\Sidevideos\\AR35MOTOR\\2022_02_04\\125.avi\n",
      "Loading  D:\\Sidevideos\\AR35MOTOR\\2022_02_04\\125.avi\n",
      "Duration of video [s]:  12.5 , recorded with  40.0 fps!\n",
      "Overall # of frames:  500  found with (before cropping) frame dimensions:  800 480\n",
      "Starting to extract posture\n"
     ]
    },
    {
     "name": "stderr",
     "output_type": "stream",
     "text": [
      "510it [00:24, 20.49it/s]                                                                                               \n"
     ]
    },
    {
     "name": "stdout",
     "output_type": "stream",
     "text": [
      "Saving results in D:\\Sidevideos\\AR35MOTOR\\2022_02_04...\n",
      "Saving csv poses!\n",
      "Starting to analyze %  D:\\Sidevideos\\AR35MOTOR\\2022_02_04\\126.avi\n",
      "Loading  D:\\Sidevideos\\AR35MOTOR\\2022_02_04\\126.avi\n",
      "Duration of video [s]:  12.5 , recorded with  40.0 fps!\n",
      "Overall # of frames:  500  found with (before cropping) frame dimensions:  800 480\n",
      "Starting to extract posture\n"
     ]
    },
    {
     "name": "stderr",
     "output_type": "stream",
     "text": [
      "510it [00:24, 20.42it/s]                                                                                               \n"
     ]
    },
    {
     "name": "stdout",
     "output_type": "stream",
     "text": [
      "Saving results in D:\\Sidevideos\\AR35MOTOR\\2022_02_04...\n",
      "Saving csv poses!\n",
      "Starting to analyze %  D:\\Sidevideos\\AR35MOTOR\\2022_02_04\\127.avi\n",
      "Loading  D:\\Sidevideos\\AR35MOTOR\\2022_02_04\\127.avi\n",
      "Duration of video [s]:  12.5 , recorded with  40.0 fps!\n",
      "Overall # of frames:  500  found with (before cropping) frame dimensions:  800 480\n",
      "Starting to extract posture\n"
     ]
    },
    {
     "name": "stderr",
     "output_type": "stream",
     "text": [
      "510it [00:24, 20.42it/s]                                                                                               \n"
     ]
    },
    {
     "name": "stdout",
     "output_type": "stream",
     "text": [
      "Saving results in D:\\Sidevideos\\AR35MOTOR\\2022_02_04...\n",
      "Saving csv poses!\n",
      "Starting to analyze %  D:\\Sidevideos\\AR35MOTOR\\2022_02_04\\128.avi\n",
      "Loading  D:\\Sidevideos\\AR35MOTOR\\2022_02_04\\128.avi\n",
      "Duration of video [s]:  12.5 , recorded with  40.0 fps!\n",
      "Overall # of frames:  500  found with (before cropping) frame dimensions:  800 480\n",
      "Starting to extract posture\n"
     ]
    },
    {
     "name": "stderr",
     "output_type": "stream",
     "text": [
      "510it [00:24, 20.49it/s]                                                                                               \n"
     ]
    },
    {
     "name": "stdout",
     "output_type": "stream",
     "text": [
      "Saving results in D:\\Sidevideos\\AR35MOTOR\\2022_02_04...\n",
      "Saving csv poses!\n",
      "Starting to analyze %  D:\\Sidevideos\\AR35MOTOR\\2022_02_04\\129.avi\n",
      "Loading  D:\\Sidevideos\\AR35MOTOR\\2022_02_04\\129.avi\n",
      "Duration of video [s]:  12.5 , recorded with  40.0 fps!\n",
      "Overall # of frames:  500  found with (before cropping) frame dimensions:  800 480\n",
      "Starting to extract posture\n"
     ]
    },
    {
     "name": "stderr",
     "output_type": "stream",
     "text": [
      "510it [00:25, 20.25it/s]                                                                                               \n"
     ]
    },
    {
     "name": "stdout",
     "output_type": "stream",
     "text": [
      "Saving results in D:\\Sidevideos\\AR35MOTOR\\2022_02_04...\n",
      "Saving csv poses!\n",
      "Starting to analyze %  D:\\Sidevideos\\AR35MOTOR\\2022_02_04\\13.avi\n",
      "Loading  D:\\Sidevideos\\AR35MOTOR\\2022_02_04\\13.avi\n",
      "Duration of video [s]:  12.5 , recorded with  40.0 fps!\n",
      "Overall # of frames:  500  found with (before cropping) frame dimensions:  800 480\n",
      "Starting to extract posture\n"
     ]
    },
    {
     "name": "stderr",
     "output_type": "stream",
     "text": [
      "510it [00:24, 20.43it/s]                                                                                               \n"
     ]
    },
    {
     "name": "stdout",
     "output_type": "stream",
     "text": [
      "Saving results in D:\\Sidevideos\\AR35MOTOR\\2022_02_04...\n",
      "Saving csv poses!\n",
      "Starting to analyze %  D:\\Sidevideos\\AR35MOTOR\\2022_02_04\\130.avi\n",
      "Loading  D:\\Sidevideos\\AR35MOTOR\\2022_02_04\\130.avi\n",
      "Duration of video [s]:  12.5 , recorded with  40.0 fps!\n",
      "Overall # of frames:  500  found with (before cropping) frame dimensions:  800 480\n",
      "Starting to extract posture\n"
     ]
    },
    {
     "name": "stderr",
     "output_type": "stream",
     "text": [
      "510it [00:24, 20.41it/s]                                                                                               \n"
     ]
    },
    {
     "name": "stdout",
     "output_type": "stream",
     "text": [
      "Saving results in D:\\Sidevideos\\AR35MOTOR\\2022_02_04...\n",
      "Saving csv poses!\n",
      "Starting to analyze %  D:\\Sidevideos\\AR35MOTOR\\2022_02_04\\131.avi\n",
      "Loading  D:\\Sidevideos\\AR35MOTOR\\2022_02_04\\131.avi\n",
      "Duration of video [s]:  12.5 , recorded with  40.0 fps!\n",
      "Overall # of frames:  500  found with (before cropping) frame dimensions:  800 480\n",
      "Starting to extract posture\n"
     ]
    },
    {
     "name": "stderr",
     "output_type": "stream",
     "text": [
      "510it [00:25, 20.17it/s]                                                                                               \n"
     ]
    },
    {
     "name": "stdout",
     "output_type": "stream",
     "text": [
      "Saving results in D:\\Sidevideos\\AR35MOTOR\\2022_02_04...\n",
      "Saving csv poses!\n",
      "Starting to analyze %  D:\\Sidevideos\\AR35MOTOR\\2022_02_04\\132.avi\n",
      "Loading  D:\\Sidevideos\\AR35MOTOR\\2022_02_04\\132.avi\n",
      "Duration of video [s]:  12.5 , recorded with  40.0 fps!\n",
      "Overall # of frames:  500  found with (before cropping) frame dimensions:  800 480\n",
      "Starting to extract posture\n"
     ]
    },
    {
     "name": "stderr",
     "output_type": "stream",
     "text": [
      "510it [00:24, 20.51it/s]                                                                                               \n"
     ]
    },
    {
     "name": "stdout",
     "output_type": "stream",
     "text": [
      "Saving results in D:\\Sidevideos\\AR35MOTOR\\2022_02_04...\n",
      "Saving csv poses!\n",
      "Starting to analyze %  D:\\Sidevideos\\AR35MOTOR\\2022_02_04\\133.avi\n",
      "Loading  D:\\Sidevideos\\AR35MOTOR\\2022_02_04\\133.avi\n",
      "Duration of video [s]:  12.5 , recorded with  40.0 fps!\n",
      "Overall # of frames:  500  found with (before cropping) frame dimensions:  800 480\n",
      "Starting to extract posture\n"
     ]
    },
    {
     "name": "stderr",
     "output_type": "stream",
     "text": [
      "510it [00:24, 20.51it/s]                                                                                               \n"
     ]
    },
    {
     "name": "stdout",
     "output_type": "stream",
     "text": [
      "Saving results in D:\\Sidevideos\\AR35MOTOR\\2022_02_04...\n",
      "Saving csv poses!\n",
      "Starting to analyze %  D:\\Sidevideos\\AR35MOTOR\\2022_02_04\\134.avi\n",
      "Loading  D:\\Sidevideos\\AR35MOTOR\\2022_02_04\\134.avi\n",
      "Duration of video [s]:  12.5 , recorded with  40.0 fps!\n",
      "Overall # of frames:  500  found with (before cropping) frame dimensions:  800 480\n",
      "Starting to extract posture\n"
     ]
    },
    {
     "name": "stderr",
     "output_type": "stream",
     "text": [
      "510it [00:24, 20.44it/s]                                                                                               \n"
     ]
    },
    {
     "name": "stdout",
     "output_type": "stream",
     "text": [
      "Saving results in D:\\Sidevideos\\AR35MOTOR\\2022_02_04...\n",
      "Saving csv poses!\n",
      "Starting to analyze %  D:\\Sidevideos\\AR35MOTOR\\2022_02_04\\135.avi\n",
      "Loading  D:\\Sidevideos\\AR35MOTOR\\2022_02_04\\135.avi\n",
      "Duration of video [s]:  12.5 , recorded with  40.0 fps!\n",
      "Overall # of frames:  500  found with (before cropping) frame dimensions:  800 480\n",
      "Starting to extract posture\n"
     ]
    },
    {
     "name": "stderr",
     "output_type": "stream",
     "text": [
      "510it [00:24, 20.48it/s]                                                                                               \n"
     ]
    },
    {
     "name": "stdout",
     "output_type": "stream",
     "text": [
      "Saving results in D:\\Sidevideos\\AR35MOTOR\\2022_02_04...\n",
      "Saving csv poses!\n",
      "Starting to analyze %  D:\\Sidevideos\\AR35MOTOR\\2022_02_04\\136.avi\n",
      "Loading  D:\\Sidevideos\\AR35MOTOR\\2022_02_04\\136.avi\n",
      "Duration of video [s]:  12.5 , recorded with  40.0 fps!\n",
      "Overall # of frames:  500  found with (before cropping) frame dimensions:  800 480\n",
      "Starting to extract posture\n"
     ]
    },
    {
     "name": "stderr",
     "output_type": "stream",
     "text": [
      "510it [00:25, 20.28it/s]                                                                                               \n"
     ]
    },
    {
     "name": "stdout",
     "output_type": "stream",
     "text": [
      "Saving results in D:\\Sidevideos\\AR35MOTOR\\2022_02_04...\n",
      "Saving csv poses!\n",
      "Starting to analyze %  D:\\Sidevideos\\AR35MOTOR\\2022_02_04\\137.avi\n",
      "Loading  D:\\Sidevideos\\AR35MOTOR\\2022_02_04\\137.avi\n",
      "Duration of video [s]:  12.5 , recorded with  40.0 fps!\n",
      "Overall # of frames:  500  found with (before cropping) frame dimensions:  800 480\n",
      "Starting to extract posture\n"
     ]
    },
    {
     "name": "stderr",
     "output_type": "stream",
     "text": [
      "510it [00:24, 20.58it/s]                                                                                               \n"
     ]
    },
    {
     "name": "stdout",
     "output_type": "stream",
     "text": [
      "Saving results in D:\\Sidevideos\\AR35MOTOR\\2022_02_04...\n",
      "Saving csv poses!\n",
      "Starting to analyze %  D:\\Sidevideos\\AR35MOTOR\\2022_02_04\\138.avi\n",
      "Loading  D:\\Sidevideos\\AR35MOTOR\\2022_02_04\\138.avi\n",
      "Duration of video [s]:  12.5 , recorded with  40.0 fps!\n",
      "Overall # of frames:  500  found with (before cropping) frame dimensions:  800 480\n",
      "Starting to extract posture\n"
     ]
    },
    {
     "name": "stderr",
     "output_type": "stream",
     "text": [
      "510it [00:24, 20.46it/s]                                                                                               \n"
     ]
    },
    {
     "name": "stdout",
     "output_type": "stream",
     "text": [
      "Saving results in D:\\Sidevideos\\AR35MOTOR\\2022_02_04...\n",
      "Saving csv poses!\n",
      "Starting to analyze %  D:\\Sidevideos\\AR35MOTOR\\2022_02_04\\139.avi\n",
      "Loading  D:\\Sidevideos\\AR35MOTOR\\2022_02_04\\139.avi\n",
      "Duration of video [s]:  12.5 , recorded with  40.0 fps!\n",
      "Overall # of frames:  500  found with (before cropping) frame dimensions:  800 480\n",
      "Starting to extract posture\n"
     ]
    },
    {
     "name": "stderr",
     "output_type": "stream",
     "text": [
      "510it [00:25, 20.30it/s]                                                                                               \n"
     ]
    },
    {
     "name": "stdout",
     "output_type": "stream",
     "text": [
      "Saving results in D:\\Sidevideos\\AR35MOTOR\\2022_02_04...\n",
      "Saving csv poses!\n",
      "Starting to analyze %  D:\\Sidevideos\\AR35MOTOR\\2022_02_04\\14.avi\n",
      "Loading  D:\\Sidevideos\\AR35MOTOR\\2022_02_04\\14.avi\n",
      "Duration of video [s]:  12.5 , recorded with  40.0 fps!\n",
      "Overall # of frames:  500  found with (before cropping) frame dimensions:  800 480\n",
      "Starting to extract posture\n"
     ]
    },
    {
     "name": "stderr",
     "output_type": "stream",
     "text": [
      "510it [00:24, 20.56it/s]                                                                                               \n"
     ]
    },
    {
     "name": "stdout",
     "output_type": "stream",
     "text": [
      "Saving results in D:\\Sidevideos\\AR35MOTOR\\2022_02_04...\n",
      "Saving csv poses!\n",
      "Starting to analyze %  D:\\Sidevideos\\AR35MOTOR\\2022_02_04\\140.avi\n",
      "Loading  D:\\Sidevideos\\AR35MOTOR\\2022_02_04\\140.avi\n",
      "Duration of video [s]:  12.5 , recorded with  40.0 fps!\n",
      "Overall # of frames:  500  found with (before cropping) frame dimensions:  800 480\n",
      "Starting to extract posture\n"
     ]
    },
    {
     "name": "stderr",
     "output_type": "stream",
     "text": [
      "510it [00:25, 20.37it/s]                                                                                               \n"
     ]
    },
    {
     "name": "stdout",
     "output_type": "stream",
     "text": [
      "Saving results in D:\\Sidevideos\\AR35MOTOR\\2022_02_04...\n",
      "Saving csv poses!\n",
      "Starting to analyze %  D:\\Sidevideos\\AR35MOTOR\\2022_02_04\\141.avi\n",
      "Loading  D:\\Sidevideos\\AR35MOTOR\\2022_02_04\\141.avi\n",
      "Duration of video [s]:  12.5 , recorded with  40.0 fps!\n",
      "Overall # of frames:  500  found with (before cropping) frame dimensions:  800 480\n",
      "Starting to extract posture\n"
     ]
    },
    {
     "name": "stderr",
     "output_type": "stream",
     "text": [
      "510it [00:25, 20.39it/s]                                                                                               \n"
     ]
    },
    {
     "name": "stdout",
     "output_type": "stream",
     "text": [
      "Saving results in D:\\Sidevideos\\AR35MOTOR\\2022_02_04...\n",
      "Saving csv poses!\n",
      "Starting to analyze %  D:\\Sidevideos\\AR35MOTOR\\2022_02_04\\142.avi\n",
      "Loading  D:\\Sidevideos\\AR35MOTOR\\2022_02_04\\142.avi\n",
      "Duration of video [s]:  12.5 , recorded with  40.0 fps!\n",
      "Overall # of frames:  500  found with (before cropping) frame dimensions:  800 480\n",
      "Starting to extract posture\n"
     ]
    },
    {
     "name": "stderr",
     "output_type": "stream",
     "text": [
      "510it [00:24, 20.47it/s]                                                                                               \n"
     ]
    },
    {
     "name": "stdout",
     "output_type": "stream",
     "text": [
      "Saving results in D:\\Sidevideos\\AR35MOTOR\\2022_02_04...\n",
      "Saving csv poses!\n",
      "Starting to analyze %  D:\\Sidevideos\\AR35MOTOR\\2022_02_04\\143.avi\n",
      "Loading  D:\\Sidevideos\\AR35MOTOR\\2022_02_04\\143.avi\n",
      "Duration of video [s]:  12.5 , recorded with  40.0 fps!\n",
      "Overall # of frames:  500  found with (before cropping) frame dimensions:  800 480\n",
      "Starting to extract posture\n"
     ]
    },
    {
     "name": "stderr",
     "output_type": "stream",
     "text": [
      "510it [00:25, 20.36it/s]                                                                                               \n"
     ]
    },
    {
     "name": "stdout",
     "output_type": "stream",
     "text": [
      "Saving results in D:\\Sidevideos\\AR35MOTOR\\2022_02_04...\n",
      "Saving csv poses!\n",
      "Starting to analyze %  D:\\Sidevideos\\AR35MOTOR\\2022_02_04\\144.avi\n",
      "Loading  D:\\Sidevideos\\AR35MOTOR\\2022_02_04\\144.avi\n",
      "Duration of video [s]:  12.5 , recorded with  40.0 fps!\n",
      "Overall # of frames:  500  found with (before cropping) frame dimensions:  800 480\n",
      "Starting to extract posture\n"
     ]
    },
    {
     "name": "stderr",
     "output_type": "stream",
     "text": [
      "510it [00:24, 20.63it/s]                                                                                               \n"
     ]
    },
    {
     "name": "stdout",
     "output_type": "stream",
     "text": [
      "Saving results in D:\\Sidevideos\\AR35MOTOR\\2022_02_04...\n",
      "Saving csv poses!\n",
      "Starting to analyze %  D:\\Sidevideos\\AR35MOTOR\\2022_02_04\\145.avi\n",
      "Loading  D:\\Sidevideos\\AR35MOTOR\\2022_02_04\\145.avi\n",
      "Duration of video [s]:  12.5 , recorded with  40.0 fps!\n",
      "Overall # of frames:  500  found with (before cropping) frame dimensions:  800 480\n",
      "Starting to extract posture\n"
     ]
    },
    {
     "name": "stderr",
     "output_type": "stream",
     "text": [
      "510it [00:24, 20.45it/s]                                                                                               \n"
     ]
    },
    {
     "name": "stdout",
     "output_type": "stream",
     "text": [
      "Saving results in D:\\Sidevideos\\AR35MOTOR\\2022_02_04...\n",
      "Saving csv poses!\n",
      "Starting to analyze %  D:\\Sidevideos\\AR35MOTOR\\2022_02_04\\146.avi\n",
      "Loading  D:\\Sidevideos\\AR35MOTOR\\2022_02_04\\146.avi\n",
      "Duration of video [s]:  12.5 , recorded with  40.0 fps!\n",
      "Overall # of frames:  500  found with (before cropping) frame dimensions:  800 480\n",
      "Starting to extract posture\n"
     ]
    },
    {
     "name": "stderr",
     "output_type": "stream",
     "text": [
      "510it [00:25, 20.36it/s]                                                                                               \n"
     ]
    },
    {
     "name": "stdout",
     "output_type": "stream",
     "text": [
      "Saving results in D:\\Sidevideos\\AR35MOTOR\\2022_02_04...\n",
      "Saving csv poses!\n",
      "Starting to analyze %  D:\\Sidevideos\\AR35MOTOR\\2022_02_04\\147.avi\n",
      "Loading  D:\\Sidevideos\\AR35MOTOR\\2022_02_04\\147.avi\n",
      "Duration of video [s]:  12.5 , recorded with  40.0 fps!\n",
      "Overall # of frames:  500  found with (before cropping) frame dimensions:  800 480\n",
      "Starting to extract posture\n"
     ]
    },
    {
     "name": "stderr",
     "output_type": "stream",
     "text": [
      "510it [00:24, 20.65it/s]                                                                                               \n"
     ]
    },
    {
     "name": "stdout",
     "output_type": "stream",
     "text": [
      "Saving results in D:\\Sidevideos\\AR35MOTOR\\2022_02_04...\n",
      "Saving csv poses!\n",
      "Starting to analyze %  D:\\Sidevideos\\AR35MOTOR\\2022_02_04\\148.avi\n",
      "Loading  D:\\Sidevideos\\AR35MOTOR\\2022_02_04\\148.avi\n",
      "Duration of video [s]:  12.5 , recorded with  40.0 fps!\n",
      "Overall # of frames:  500  found with (before cropping) frame dimensions:  800 480\n",
      "Starting to extract posture\n"
     ]
    },
    {
     "name": "stderr",
     "output_type": "stream",
     "text": [
      "510it [00:25, 20.38it/s]                                                                                               \n"
     ]
    },
    {
     "name": "stdout",
     "output_type": "stream",
     "text": [
      "Saving results in D:\\Sidevideos\\AR35MOTOR\\2022_02_04...\n",
      "Saving csv poses!\n",
      "Starting to analyze %  D:\\Sidevideos\\AR35MOTOR\\2022_02_04\\149.avi\n",
      "Loading  D:\\Sidevideos\\AR35MOTOR\\2022_02_04\\149.avi\n",
      "Duration of video [s]:  12.5 , recorded with  40.0 fps!\n",
      "Overall # of frames:  500  found with (before cropping) frame dimensions:  800 480\n",
      "Starting to extract posture\n"
     ]
    },
    {
     "name": "stderr",
     "output_type": "stream",
     "text": [
      "510it [00:24, 20.47it/s]                                                                                               \n"
     ]
    },
    {
     "name": "stdout",
     "output_type": "stream",
     "text": [
      "Saving results in D:\\Sidevideos\\AR35MOTOR\\2022_02_04...\n",
      "Saving csv poses!\n",
      "Starting to analyze %  D:\\Sidevideos\\AR35MOTOR\\2022_02_04\\15.avi\n",
      "Loading  D:\\Sidevideos\\AR35MOTOR\\2022_02_04\\15.avi\n",
      "Duration of video [s]:  12.5 , recorded with  40.0 fps!\n",
      "Overall # of frames:  500  found with (before cropping) frame dimensions:  800 480\n",
      "Starting to extract posture\n"
     ]
    },
    {
     "name": "stderr",
     "output_type": "stream",
     "text": [
      "510it [00:24, 20.52it/s]                                                                                               \n"
     ]
    },
    {
     "name": "stdout",
     "output_type": "stream",
     "text": [
      "Saving results in D:\\Sidevideos\\AR35MOTOR\\2022_02_04...\n",
      "Saving csv poses!\n",
      "Starting to analyze %  D:\\Sidevideos\\AR35MOTOR\\2022_02_04\\150.avi\n",
      "Loading  D:\\Sidevideos\\AR35MOTOR\\2022_02_04\\150.avi\n",
      "Duration of video [s]:  12.5 , recorded with  40.0 fps!\n",
      "Overall # of frames:  500  found with (before cropping) frame dimensions:  800 480\n",
      "Starting to extract posture\n"
     ]
    },
    {
     "name": "stderr",
     "output_type": "stream",
     "text": [
      "510it [00:25, 20.32it/s]                                                                                               \n"
     ]
    },
    {
     "name": "stdout",
     "output_type": "stream",
     "text": [
      "Saving results in D:\\Sidevideos\\AR35MOTOR\\2022_02_04...\n",
      "Saving csv poses!\n",
      "Starting to analyze %  D:\\Sidevideos\\AR35MOTOR\\2022_02_04\\151.avi\n",
      "Loading  D:\\Sidevideos\\AR35MOTOR\\2022_02_04\\151.avi\n",
      "Duration of video [s]:  12.5 , recorded with  40.0 fps!\n",
      "Overall # of frames:  500  found with (before cropping) frame dimensions:  800 480\n",
      "Starting to extract posture\n"
     ]
    },
    {
     "name": "stderr",
     "output_type": "stream",
     "text": [
      "510it [00:24, 20.59it/s]                                                                                               \n"
     ]
    },
    {
     "name": "stdout",
     "output_type": "stream",
     "text": [
      "Saving results in D:\\Sidevideos\\AR35MOTOR\\2022_02_04...\n",
      "Saving csv poses!\n",
      "Starting to analyze %  D:\\Sidevideos\\AR35MOTOR\\2022_02_04\\152.avi\n",
      "Loading  D:\\Sidevideos\\AR35MOTOR\\2022_02_04\\152.avi\n",
      "Duration of video [s]:  12.5 , recorded with  40.0 fps!\n",
      "Overall # of frames:  500  found with (before cropping) frame dimensions:  800 480\n",
      "Starting to extract posture\n"
     ]
    },
    {
     "name": "stderr",
     "output_type": "stream",
     "text": [
      "510it [00:24, 20.43it/s]                                                                                               \n"
     ]
    },
    {
     "name": "stdout",
     "output_type": "stream",
     "text": [
      "Saving results in D:\\Sidevideos\\AR35MOTOR\\2022_02_04...\n",
      "Saving csv poses!\n",
      "Starting to analyze %  D:\\Sidevideos\\AR35MOTOR\\2022_02_04\\153.avi\n",
      "Loading  D:\\Sidevideos\\AR35MOTOR\\2022_02_04\\153.avi\n",
      "Duration of video [s]:  12.5 , recorded with  40.0 fps!\n",
      "Overall # of frames:  500  found with (before cropping) frame dimensions:  800 480\n",
      "Starting to extract posture\n"
     ]
    },
    {
     "name": "stderr",
     "output_type": "stream",
     "text": [
      "510it [00:25, 20.34it/s]                                                                                               \n"
     ]
    },
    {
     "name": "stdout",
     "output_type": "stream",
     "text": [
      "Saving results in D:\\Sidevideos\\AR35MOTOR\\2022_02_04...\n",
      "Saving csv poses!\n",
      "Starting to analyze %  D:\\Sidevideos\\AR35MOTOR\\2022_02_04\\154.avi\n",
      "Loading  D:\\Sidevideos\\AR35MOTOR\\2022_02_04\\154.avi\n",
      "Duration of video [s]:  12.5 , recorded with  40.0 fps!\n",
      "Overall # of frames:  500  found with (before cropping) frame dimensions:  800 480\n",
      "Starting to extract posture\n"
     ]
    },
    {
     "name": "stderr",
     "output_type": "stream",
     "text": [
      "510it [00:24, 20.61it/s]                                                                                               \n"
     ]
    },
    {
     "name": "stdout",
     "output_type": "stream",
     "text": [
      "Saving results in D:\\Sidevideos\\AR35MOTOR\\2022_02_04...\n",
      "Saving csv poses!\n",
      "Starting to analyze %  D:\\Sidevideos\\AR35MOTOR\\2022_02_04\\155.avi\n",
      "Loading  D:\\Sidevideos\\AR35MOTOR\\2022_02_04\\155.avi\n",
      "Duration of video [s]:  12.5 , recorded with  40.0 fps!\n",
      "Overall # of frames:  500  found with (before cropping) frame dimensions:  800 480\n",
      "Starting to extract posture\n"
     ]
    },
    {
     "name": "stderr",
     "output_type": "stream",
     "text": [
      "510it [00:25, 20.11it/s]                                                                                               \n"
     ]
    },
    {
     "name": "stdout",
     "output_type": "stream",
     "text": [
      "Saving results in D:\\Sidevideos\\AR35MOTOR\\2022_02_04...\n",
      "Saving csv poses!\n",
      "Starting to analyze %  D:\\Sidevideos\\AR35MOTOR\\2022_02_04\\156.avi\n",
      "Loading  D:\\Sidevideos\\AR35MOTOR\\2022_02_04\\156.avi\n",
      "Duration of video [s]:  12.5 , recorded with  40.0 fps!\n",
      "Overall # of frames:  500  found with (before cropping) frame dimensions:  800 480\n",
      "Starting to extract posture\n"
     ]
    },
    {
     "name": "stderr",
     "output_type": "stream",
     "text": [
      "510it [00:24, 20.48it/s]                                                                                               \n"
     ]
    },
    {
     "name": "stdout",
     "output_type": "stream",
     "text": [
      "Saving results in D:\\Sidevideos\\AR35MOTOR\\2022_02_04...\n",
      "Saving csv poses!\n",
      "Starting to analyze %  D:\\Sidevideos\\AR35MOTOR\\2022_02_04\\157.avi\n",
      "Loading  D:\\Sidevideos\\AR35MOTOR\\2022_02_04\\157.avi\n",
      "Duration of video [s]:  12.5 , recorded with  40.0 fps!\n",
      "Overall # of frames:  500  found with (before cropping) frame dimensions:  800 480\n",
      "Starting to extract posture\n"
     ]
    },
    {
     "name": "stderr",
     "output_type": "stream",
     "text": [
      "510it [00:25, 20.29it/s]                                                                                               \n"
     ]
    },
    {
     "name": "stdout",
     "output_type": "stream",
     "text": [
      "Saving results in D:\\Sidevideos\\AR35MOTOR\\2022_02_04...\n",
      "Saving csv poses!\n",
      "Starting to analyze %  D:\\Sidevideos\\AR35MOTOR\\2022_02_04\\158.avi\n",
      "Loading  D:\\Sidevideos\\AR35MOTOR\\2022_02_04\\158.avi\n",
      "Duration of video [s]:  12.5 , recorded with  40.0 fps!\n",
      "Overall # of frames:  500  found with (before cropping) frame dimensions:  800 480\n",
      "Starting to extract posture\n"
     ]
    },
    {
     "name": "stderr",
     "output_type": "stream",
     "text": [
      "510it [00:25, 20.35it/s]                                                                                               \n"
     ]
    },
    {
     "name": "stdout",
     "output_type": "stream",
     "text": [
      "Saving results in D:\\Sidevideos\\AR35MOTOR\\2022_02_04...\n",
      "Saving csv poses!\n",
      "Starting to analyze %  D:\\Sidevideos\\AR35MOTOR\\2022_02_04\\159.avi\n",
      "Loading  D:\\Sidevideos\\AR35MOTOR\\2022_02_04\\159.avi\n",
      "Duration of video [s]:  12.5 , recorded with  40.0 fps!\n",
      "Overall # of frames:  500  found with (before cropping) frame dimensions:  800 480\n",
      "Starting to extract posture\n"
     ]
    },
    {
     "name": "stderr",
     "output_type": "stream",
     "text": [
      "510it [00:24, 20.53it/s]                                                                                               \n"
     ]
    },
    {
     "name": "stdout",
     "output_type": "stream",
     "text": [
      "Saving results in D:\\Sidevideos\\AR35MOTOR\\2022_02_04...\n",
      "Saving csv poses!\n",
      "Starting to analyze %  D:\\Sidevideos\\AR35MOTOR\\2022_02_04\\16.avi\n",
      "Loading  D:\\Sidevideos\\AR35MOTOR\\2022_02_04\\16.avi\n",
      "Duration of video [s]:  12.5 , recorded with  40.0 fps!\n",
      "Overall # of frames:  500  found with (before cropping) frame dimensions:  800 480\n",
      "Starting to extract posture\n"
     ]
    },
    {
     "name": "stderr",
     "output_type": "stream",
     "text": [
      "510it [00:25, 20.37it/s]                                                                                               \n"
     ]
    },
    {
     "name": "stdout",
     "output_type": "stream",
     "text": [
      "Saving results in D:\\Sidevideos\\AR35MOTOR\\2022_02_04...\n",
      "Saving csv poses!\n",
      "Starting to analyze %  D:\\Sidevideos\\AR35MOTOR\\2022_02_04\\160.avi\n",
      "Loading  D:\\Sidevideos\\AR35MOTOR\\2022_02_04\\160.avi\n",
      "Duration of video [s]:  12.5 , recorded with  40.0 fps!\n",
      "Overall # of frames:  500  found with (before cropping) frame dimensions:  800 480\n",
      "Starting to extract posture\n"
     ]
    },
    {
     "name": "stderr",
     "output_type": "stream",
     "text": [
      "510it [00:24, 20.42it/s]                                                                                               \n"
     ]
    },
    {
     "name": "stdout",
     "output_type": "stream",
     "text": [
      "Saving results in D:\\Sidevideos\\AR35MOTOR\\2022_02_04...\n",
      "Saving csv poses!\n",
      "Starting to analyze %  D:\\Sidevideos\\AR35MOTOR\\2022_02_04\\161.avi\n",
      "Loading  D:\\Sidevideos\\AR35MOTOR\\2022_02_04\\161.avi\n",
      "Duration of video [s]:  12.5 , recorded with  40.0 fps!\n",
      "Overall # of frames:  500  found with (before cropping) frame dimensions:  800 480\n",
      "Starting to extract posture\n"
     ]
    },
    {
     "name": "stderr",
     "output_type": "stream",
     "text": [
      "510it [00:24, 20.57it/s]                                                                                               \n"
     ]
    },
    {
     "name": "stdout",
     "output_type": "stream",
     "text": [
      "Saving results in D:\\Sidevideos\\AR35MOTOR\\2022_02_04...\n",
      "Saving csv poses!\n",
      "Starting to analyze %  D:\\Sidevideos\\AR35MOTOR\\2022_02_04\\162.avi\n",
      "Loading  D:\\Sidevideos\\AR35MOTOR\\2022_02_04\\162.avi\n",
      "Duration of video [s]:  12.5 , recorded with  40.0 fps!\n",
      "Overall # of frames:  500  found with (before cropping) frame dimensions:  800 480\n",
      "Starting to extract posture\n"
     ]
    },
    {
     "name": "stderr",
     "output_type": "stream",
     "text": [
      "510it [00:25, 20.30it/s]                                                                                               \n"
     ]
    },
    {
     "name": "stdout",
     "output_type": "stream",
     "text": [
      "Saving results in D:\\Sidevideos\\AR35MOTOR\\2022_02_04...\n",
      "Saving csv poses!\n",
      "Starting to analyze %  D:\\Sidevideos\\AR35MOTOR\\2022_02_04\\163.avi\n",
      "Loading  D:\\Sidevideos\\AR35MOTOR\\2022_02_04\\163.avi\n",
      "Duration of video [s]:  12.5 , recorded with  40.0 fps!\n",
      "Overall # of frames:  500  found with (before cropping) frame dimensions:  800 480\n",
      "Starting to extract posture\n"
     ]
    },
    {
     "name": "stderr",
     "output_type": "stream",
     "text": [
      "510it [00:24, 20.54it/s]                                                                                               \n"
     ]
    },
    {
     "name": "stdout",
     "output_type": "stream",
     "text": [
      "Saving results in D:\\Sidevideos\\AR35MOTOR\\2022_02_04...\n",
      "Saving csv poses!\n",
      "Starting to analyze %  D:\\Sidevideos\\AR35MOTOR\\2022_02_04\\164.avi\n",
      "Loading  D:\\Sidevideos\\AR35MOTOR\\2022_02_04\\164.avi\n",
      "Duration of video [s]:  12.5 , recorded with  40.0 fps!\n",
      "Overall # of frames:  500  found with (before cropping) frame dimensions:  800 480\n",
      "Starting to extract posture\n"
     ]
    },
    {
     "name": "stderr",
     "output_type": "stream",
     "text": [
      "510it [00:24, 20.41it/s]                                                                                               \n"
     ]
    },
    {
     "name": "stdout",
     "output_type": "stream",
     "text": [
      "Saving results in D:\\Sidevideos\\AR35MOTOR\\2022_02_04...\n",
      "Saving csv poses!\n",
      "Starting to analyze %  D:\\Sidevideos\\AR35MOTOR\\2022_02_04\\165.avi\n",
      "Loading  D:\\Sidevideos\\AR35MOTOR\\2022_02_04\\165.avi\n",
      "Duration of video [s]:  12.5 , recorded with  40.0 fps!\n",
      "Overall # of frames:  500  found with (before cropping) frame dimensions:  800 480\n",
      "Starting to extract posture\n"
     ]
    },
    {
     "name": "stderr",
     "output_type": "stream",
     "text": [
      "510it [00:25, 20.39it/s]                                                                                               \n"
     ]
    },
    {
     "name": "stdout",
     "output_type": "stream",
     "text": [
      "Saving results in D:\\Sidevideos\\AR35MOTOR\\2022_02_04...\n",
      "Saving csv poses!\n",
      "Starting to analyze %  D:\\Sidevideos\\AR35MOTOR\\2022_02_04\\166.avi\n",
      "Loading  D:\\Sidevideos\\AR35MOTOR\\2022_02_04\\166.avi\n",
      "Duration of video [s]:  12.5 , recorded with  40.0 fps!\n",
      "Overall # of frames:  500  found with (before cropping) frame dimensions:  800 480\n",
      "Starting to extract posture\n"
     ]
    },
    {
     "name": "stderr",
     "output_type": "stream",
     "text": [
      "510it [00:24, 20.70it/s]                                                                                               \n"
     ]
    },
    {
     "name": "stdout",
     "output_type": "stream",
     "text": [
      "Saving results in D:\\Sidevideos\\AR35MOTOR\\2022_02_04...\n",
      "Saving csv poses!\n",
      "Starting to analyze %  D:\\Sidevideos\\AR35MOTOR\\2022_02_04\\167.avi\n",
      "Loading  D:\\Sidevideos\\AR35MOTOR\\2022_02_04\\167.avi\n",
      "Duration of video [s]:  12.5 , recorded with  40.0 fps!\n",
      "Overall # of frames:  500  found with (before cropping) frame dimensions:  800 480\n",
      "Starting to extract posture\n"
     ]
    },
    {
     "name": "stderr",
     "output_type": "stream",
     "text": [
      "510it [00:25, 20.28it/s]                                                                                               \n"
     ]
    },
    {
     "name": "stdout",
     "output_type": "stream",
     "text": [
      "Saving results in D:\\Sidevideos\\AR35MOTOR\\2022_02_04...\n",
      "Saving csv poses!\n",
      "Starting to analyze %  D:\\Sidevideos\\AR35MOTOR\\2022_02_04\\168.avi\n",
      "Loading  D:\\Sidevideos\\AR35MOTOR\\2022_02_04\\168.avi\n",
      "Duration of video [s]:  12.5 , recorded with  40.0 fps!\n",
      "Overall # of frames:  500  found with (before cropping) frame dimensions:  800 480\n",
      "Starting to extract posture\n"
     ]
    },
    {
     "name": "stderr",
     "output_type": "stream",
     "text": [
      "510it [00:24, 20.42it/s]                                                                                               \n"
     ]
    },
    {
     "name": "stdout",
     "output_type": "stream",
     "text": [
      "Saving results in D:\\Sidevideos\\AR35MOTOR\\2022_02_04...\n",
      "Saving csv poses!\n",
      "Starting to analyze %  D:\\Sidevideos\\AR35MOTOR\\2022_02_04\\169.avi\n",
      "Loading  D:\\Sidevideos\\AR35MOTOR\\2022_02_04\\169.avi\n",
      "Duration of video [s]:  12.5 , recorded with  40.0 fps!\n",
      "Overall # of frames:  500  found with (before cropping) frame dimensions:  800 480\n",
      "Starting to extract posture\n"
     ]
    },
    {
     "name": "stderr",
     "output_type": "stream",
     "text": [
      "510it [00:24, 20.56it/s]                                                                                               \n"
     ]
    },
    {
     "name": "stdout",
     "output_type": "stream",
     "text": [
      "Saving results in D:\\Sidevideos\\AR35MOTOR\\2022_02_04...\n",
      "Saving csv poses!\n",
      "Starting to analyze %  D:\\Sidevideos\\AR35MOTOR\\2022_02_04\\17.avi\n",
      "Loading  D:\\Sidevideos\\AR35MOTOR\\2022_02_04\\17.avi\n",
      "Duration of video [s]:  12.5 , recorded with  40.0 fps!\n",
      "Overall # of frames:  500  found with (before cropping) frame dimensions:  800 480\n",
      "Starting to extract posture\n"
     ]
    },
    {
     "name": "stderr",
     "output_type": "stream",
     "text": [
      "510it [00:25, 20.34it/s]                                                                                               \n"
     ]
    },
    {
     "name": "stdout",
     "output_type": "stream",
     "text": [
      "Saving results in D:\\Sidevideos\\AR35MOTOR\\2022_02_04...\n",
      "Saving csv poses!\n",
      "Starting to analyze %  D:\\Sidevideos\\AR35MOTOR\\2022_02_04\\170.avi\n",
      "Loading  D:\\Sidevideos\\AR35MOTOR\\2022_02_04\\170.avi\n",
      "Duration of video [s]:  12.5 , recorded with  40.0 fps!\n",
      "Overall # of frames:  500  found with (before cropping) frame dimensions:  800 480\n",
      "Starting to extract posture\n"
     ]
    },
    {
     "name": "stderr",
     "output_type": "stream",
     "text": [
      "510it [00:24, 20.65it/s]                                                                                               \n"
     ]
    },
    {
     "name": "stdout",
     "output_type": "stream",
     "text": [
      "Saving results in D:\\Sidevideos\\AR35MOTOR\\2022_02_04...\n",
      "Saving csv poses!\n",
      "Starting to analyze %  D:\\Sidevideos\\AR35MOTOR\\2022_02_04\\171.avi\n",
      "Loading  D:\\Sidevideos\\AR35MOTOR\\2022_02_04\\171.avi\n",
      "Duration of video [s]:  12.5 , recorded with  40.0 fps!\n",
      "Overall # of frames:  500  found with (before cropping) frame dimensions:  800 480\n",
      "Starting to extract posture\n"
     ]
    },
    {
     "name": "stderr",
     "output_type": "stream",
     "text": [
      "510it [00:24, 20.41it/s]                                                                                               \n"
     ]
    },
    {
     "name": "stdout",
     "output_type": "stream",
     "text": [
      "Saving results in D:\\Sidevideos\\AR35MOTOR\\2022_02_04...\n",
      "Saving csv poses!\n",
      "Starting to analyze %  D:\\Sidevideos\\AR35MOTOR\\2022_02_04\\172.avi\n",
      "Loading  D:\\Sidevideos\\AR35MOTOR\\2022_02_04\\172.avi\n",
      "Duration of video [s]:  12.5 , recorded with  40.0 fps!\n",
      "Overall # of frames:  500  found with (before cropping) frame dimensions:  800 480\n",
      "Starting to extract posture\n"
     ]
    },
    {
     "name": "stderr",
     "output_type": "stream",
     "text": [
      "510it [00:25, 20.34it/s]                                                                                               \n"
     ]
    },
    {
     "name": "stdout",
     "output_type": "stream",
     "text": [
      "Saving results in D:\\Sidevideos\\AR35MOTOR\\2022_02_04...\n",
      "Saving csv poses!\n",
      "Starting to analyze %  D:\\Sidevideos\\AR35MOTOR\\2022_02_04\\173.avi\n",
      "Loading  D:\\Sidevideos\\AR35MOTOR\\2022_02_04\\173.avi\n",
      "Duration of video [s]:  12.5 , recorded with  40.0 fps!\n",
      "Overall # of frames:  500  found with (before cropping) frame dimensions:  800 480\n",
      "Starting to extract posture\n"
     ]
    },
    {
     "name": "stderr",
     "output_type": "stream",
     "text": [
      "510it [00:24, 20.53it/s]                                                                                               \n"
     ]
    },
    {
     "name": "stdout",
     "output_type": "stream",
     "text": [
      "Saving results in D:\\Sidevideos\\AR35MOTOR\\2022_02_04...\n",
      "Saving csv poses!\n",
      "Starting to analyze %  D:\\Sidevideos\\AR35MOTOR\\2022_02_04\\174.avi\n",
      "Loading  D:\\Sidevideos\\AR35MOTOR\\2022_02_04\\174.avi\n",
      "Duration of video [s]:  12.5 , recorded with  40.0 fps!\n",
      "Overall # of frames:  500  found with (before cropping) frame dimensions:  800 480\n",
      "Starting to extract posture\n"
     ]
    },
    {
     "name": "stderr",
     "output_type": "stream",
     "text": [
      "510it [00:25, 20.24it/s]                                                                                               \n"
     ]
    },
    {
     "name": "stdout",
     "output_type": "stream",
     "text": [
      "Saving results in D:\\Sidevideos\\AR35MOTOR\\2022_02_04...\n",
      "Saving csv poses!\n",
      "Starting to analyze %  D:\\Sidevideos\\AR35MOTOR\\2022_02_04\\175.avi\n",
      "Loading  D:\\Sidevideos\\AR35MOTOR\\2022_02_04\\175.avi\n",
      "Duration of video [s]:  12.5 , recorded with  40.0 fps!\n",
      "Overall # of frames:  500  found with (before cropping) frame dimensions:  800 480\n",
      "Starting to extract posture\n"
     ]
    },
    {
     "name": "stderr",
     "output_type": "stream",
     "text": [
      "510it [00:24, 20.50it/s]                                                                                               \n"
     ]
    },
    {
     "name": "stdout",
     "output_type": "stream",
     "text": [
      "Saving results in D:\\Sidevideos\\AR35MOTOR\\2022_02_04...\n",
      "Saving csv poses!\n",
      "Starting to analyze %  D:\\Sidevideos\\AR35MOTOR\\2022_02_04\\176.avi\n",
      "Loading  D:\\Sidevideos\\AR35MOTOR\\2022_02_04\\176.avi\n",
      "Duration of video [s]:  12.5 , recorded with  40.0 fps!\n",
      "Overall # of frames:  500  found with (before cropping) frame dimensions:  800 480\n",
      "Starting to extract posture\n"
     ]
    },
    {
     "name": "stderr",
     "output_type": "stream",
     "text": [
      "510it [00:24, 20.50it/s]                                                                                               \n"
     ]
    },
    {
     "name": "stdout",
     "output_type": "stream",
     "text": [
      "Saving results in D:\\Sidevideos\\AR35MOTOR\\2022_02_04...\n",
      "Saving csv poses!\n",
      "Starting to analyze %  D:\\Sidevideos\\AR35MOTOR\\2022_02_04\\177.avi\n",
      "Loading  D:\\Sidevideos\\AR35MOTOR\\2022_02_04\\177.avi\n",
      "Duration of video [s]:  12.5 , recorded with  40.0 fps!\n",
      "Overall # of frames:  500  found with (before cropping) frame dimensions:  800 480\n",
      "Starting to extract posture\n"
     ]
    },
    {
     "name": "stderr",
     "output_type": "stream",
     "text": [
      "510it [00:25, 20.29it/s]                                                                                               \n"
     ]
    },
    {
     "name": "stdout",
     "output_type": "stream",
     "text": [
      "Saving results in D:\\Sidevideos\\AR35MOTOR\\2022_02_04...\n",
      "Saving csv poses!\n",
      "Starting to analyze %  D:\\Sidevideos\\AR35MOTOR\\2022_02_04\\178.avi\n",
      "Loading  D:\\Sidevideos\\AR35MOTOR\\2022_02_04\\178.avi\n",
      "Duration of video [s]:  12.5 , recorded with  40.0 fps!\n",
      "Overall # of frames:  500  found with (before cropping) frame dimensions:  800 480\n",
      "Starting to extract posture\n"
     ]
    },
    {
     "name": "stderr",
     "output_type": "stream",
     "text": [
      "510it [00:24, 20.63it/s]                                                                                               \n"
     ]
    },
    {
     "name": "stdout",
     "output_type": "stream",
     "text": [
      "Saving results in D:\\Sidevideos\\AR35MOTOR\\2022_02_04...\n",
      "Saving csv poses!\n",
      "Starting to analyze %  D:\\Sidevideos\\AR35MOTOR\\2022_02_04\\179.avi\n",
      "Loading  D:\\Sidevideos\\AR35MOTOR\\2022_02_04\\179.avi\n",
      "Duration of video [s]:  12.5 , recorded with  40.0 fps!\n",
      "Overall # of frames:  500  found with (before cropping) frame dimensions:  800 480\n",
      "Starting to extract posture\n"
     ]
    },
    {
     "name": "stderr",
     "output_type": "stream",
     "text": [
      "510it [00:24, 20.44it/s]                                                                                               \n"
     ]
    },
    {
     "name": "stdout",
     "output_type": "stream",
     "text": [
      "Saving results in D:\\Sidevideos\\AR35MOTOR\\2022_02_04...\n",
      "Saving csv poses!\n",
      "Starting to analyze %  D:\\Sidevideos\\AR35MOTOR\\2022_02_04\\18.avi\n",
      "Loading  D:\\Sidevideos\\AR35MOTOR\\2022_02_04\\18.avi\n",
      "Duration of video [s]:  12.5 , recorded with  40.0 fps!\n",
      "Overall # of frames:  500  found with (before cropping) frame dimensions:  800 480\n",
      "Starting to extract posture\n"
     ]
    },
    {
     "name": "stderr",
     "output_type": "stream",
     "text": [
      "510it [00:25, 20.38it/s]                                                                                               \n"
     ]
    },
    {
     "name": "stdout",
     "output_type": "stream",
     "text": [
      "Saving results in D:\\Sidevideos\\AR35MOTOR\\2022_02_04...\n",
      "Saving csv poses!\n",
      "Starting to analyze %  D:\\Sidevideos\\AR35MOTOR\\2022_02_04\\180.avi\n",
      "Loading  D:\\Sidevideos\\AR35MOTOR\\2022_02_04\\180.avi\n",
      "Duration of video [s]:  12.5 , recorded with  40.0 fps!\n",
      "Overall # of frames:  500  found with (before cropping) frame dimensions:  800 480\n",
      "Starting to extract posture\n"
     ]
    },
    {
     "name": "stderr",
     "output_type": "stream",
     "text": [
      "510it [00:24, 20.54it/s]                                                                                               \n"
     ]
    },
    {
     "name": "stdout",
     "output_type": "stream",
     "text": [
      "Saving results in D:\\Sidevideos\\AR35MOTOR\\2022_02_04...\n",
      "Saving csv poses!\n",
      "Starting to analyze %  D:\\Sidevideos\\AR35MOTOR\\2022_02_04\\181.avi\n",
      "Loading  D:\\Sidevideos\\AR35MOTOR\\2022_02_04\\181.avi\n",
      "Duration of video [s]:  12.5 , recorded with  40.0 fps!\n",
      "Overall # of frames:  500  found with (before cropping) frame dimensions:  800 480\n",
      "Starting to extract posture\n"
     ]
    },
    {
     "name": "stderr",
     "output_type": "stream",
     "text": [
      "510it [00:25, 20.31it/s]                                                                                               \n"
     ]
    },
    {
     "name": "stdout",
     "output_type": "stream",
     "text": [
      "Saving results in D:\\Sidevideos\\AR35MOTOR\\2022_02_04...\n",
      "Saving csv poses!\n",
      "Starting to analyze %  D:\\Sidevideos\\AR35MOTOR\\2022_02_04\\182.avi\n",
      "Loading  D:\\Sidevideos\\AR35MOTOR\\2022_02_04\\182.avi\n",
      "Duration of video [s]:  12.5 , recorded with  40.0 fps!\n",
      "Overall # of frames:  500  found with (before cropping) frame dimensions:  800 480\n",
      "Starting to extract posture\n"
     ]
    },
    {
     "name": "stderr",
     "output_type": "stream",
     "text": [
      "510it [00:24, 20.56it/s]                                                                                               \n"
     ]
    },
    {
     "name": "stdout",
     "output_type": "stream",
     "text": [
      "Saving results in D:\\Sidevideos\\AR35MOTOR\\2022_02_04...\n",
      "Saving csv poses!\n",
      "Starting to analyze %  D:\\Sidevideos\\AR35MOTOR\\2022_02_04\\183.avi\n",
      "Loading  D:\\Sidevideos\\AR35MOTOR\\2022_02_04\\183.avi\n",
      "Duration of video [s]:  12.5 , recorded with  40.0 fps!\n",
      "Overall # of frames:  500  found with (before cropping) frame dimensions:  800 480\n",
      "Starting to extract posture\n"
     ]
    },
    {
     "name": "stderr",
     "output_type": "stream",
     "text": [
      "510it [00:24, 20.45it/s]                                                                                               \n"
     ]
    },
    {
     "name": "stdout",
     "output_type": "stream",
     "text": [
      "Saving results in D:\\Sidevideos\\AR35MOTOR\\2022_02_04...\n",
      "Saving csv poses!\n",
      "Starting to analyze %  D:\\Sidevideos\\AR35MOTOR\\2022_02_04\\184.avi\n",
      "Loading  D:\\Sidevideos\\AR35MOTOR\\2022_02_04\\184.avi\n",
      "Duration of video [s]:  12.5 , recorded with  40.0 fps!\n",
      "Overall # of frames:  500  found with (before cropping) frame dimensions:  800 480\n",
      "Starting to extract posture\n"
     ]
    },
    {
     "name": "stderr",
     "output_type": "stream",
     "text": [
      "510it [00:24, 20.42it/s]                                                                                               \n"
     ]
    },
    {
     "name": "stdout",
     "output_type": "stream",
     "text": [
      "Saving results in D:\\Sidevideos\\AR35MOTOR\\2022_02_04...\n",
      "Saving csv poses!\n",
      "Starting to analyze %  D:\\Sidevideos\\AR35MOTOR\\2022_02_04\\185.avi\n",
      "Loading  D:\\Sidevideos\\AR35MOTOR\\2022_02_04\\185.avi\n",
      "Duration of video [s]:  12.5 , recorded with  40.0 fps!\n",
      "Overall # of frames:  500  found with (before cropping) frame dimensions:  800 480\n",
      "Starting to extract posture\n"
     ]
    },
    {
     "name": "stderr",
     "output_type": "stream",
     "text": [
      "510it [00:24, 20.56it/s]                                                                                               \n"
     ]
    },
    {
     "name": "stdout",
     "output_type": "stream",
     "text": [
      "Saving results in D:\\Sidevideos\\AR35MOTOR\\2022_02_04...\n",
      "Saving csv poses!\n",
      "Starting to analyze %  D:\\Sidevideos\\AR35MOTOR\\2022_02_04\\186.avi\n",
      "Loading  D:\\Sidevideos\\AR35MOTOR\\2022_02_04\\186.avi\n",
      "Duration of video [s]:  12.5 , recorded with  40.0 fps!\n",
      "Overall # of frames:  500  found with (before cropping) frame dimensions:  800 480\n",
      "Starting to extract posture\n"
     ]
    },
    {
     "name": "stderr",
     "output_type": "stream",
     "text": [
      "510it [00:25, 20.32it/s]                                                                                               \n"
     ]
    },
    {
     "name": "stdout",
     "output_type": "stream",
     "text": [
      "Saving results in D:\\Sidevideos\\AR35MOTOR\\2022_02_04...\n",
      "Saving csv poses!\n",
      "Starting to analyze %  D:\\Sidevideos\\AR35MOTOR\\2022_02_04\\187.avi\n",
      "Loading  D:\\Sidevideos\\AR35MOTOR\\2022_02_04\\187.avi\n",
      "Duration of video [s]:  12.5 , recorded with  40.0 fps!\n",
      "Overall # of frames:  500  found with (before cropping) frame dimensions:  800 480\n",
      "Starting to extract posture\n"
     ]
    },
    {
     "name": "stderr",
     "output_type": "stream",
     "text": [
      "510it [00:24, 20.52it/s]                                                                                               \n"
     ]
    },
    {
     "name": "stdout",
     "output_type": "stream",
     "text": [
      "Saving results in D:\\Sidevideos\\AR35MOTOR\\2022_02_04...\n",
      "Saving csv poses!\n",
      "Starting to analyze %  D:\\Sidevideos\\AR35MOTOR\\2022_02_04\\188.avi\n",
      "Loading  D:\\Sidevideos\\AR35MOTOR\\2022_02_04\\188.avi\n",
      "Duration of video [s]:  12.5 , recorded with  40.0 fps!\n",
      "Overall # of frames:  500  found with (before cropping) frame dimensions:  800 480\n",
      "Starting to extract posture\n"
     ]
    },
    {
     "name": "stderr",
     "output_type": "stream",
     "text": [
      "510it [00:24, 20.73it/s]                                                                                               \n"
     ]
    },
    {
     "name": "stdout",
     "output_type": "stream",
     "text": [
      "Saving results in D:\\Sidevideos\\AR35MOTOR\\2022_02_04...\n",
      "Saving csv poses!\n",
      "Starting to analyze %  D:\\Sidevideos\\AR35MOTOR\\2022_02_04\\189.avi\n",
      "Loading  D:\\Sidevideos\\AR35MOTOR\\2022_02_04\\189.avi\n",
      "Duration of video [s]:  12.5 , recorded with  40.0 fps!\n",
      "Overall # of frames:  500  found with (before cropping) frame dimensions:  800 480\n",
      "Starting to extract posture\n"
     ]
    },
    {
     "name": "stderr",
     "output_type": "stream",
     "text": [
      "510it [00:24, 20.46it/s]                                                                                               \n"
     ]
    },
    {
     "name": "stdout",
     "output_type": "stream",
     "text": [
      "Saving results in D:\\Sidevideos\\AR35MOTOR\\2022_02_04...\n",
      "Saving csv poses!\n",
      "Starting to analyze %  D:\\Sidevideos\\AR35MOTOR\\2022_02_04\\19.avi\n",
      "Loading  D:\\Sidevideos\\AR35MOTOR\\2022_02_04\\19.avi\n",
      "Duration of video [s]:  12.5 , recorded with  40.0 fps!\n",
      "Overall # of frames:  500  found with (before cropping) frame dimensions:  800 480\n",
      "Starting to extract posture\n"
     ]
    },
    {
     "name": "stderr",
     "output_type": "stream",
     "text": [
      "510it [00:24, 20.57it/s]                                                                                               \n"
     ]
    },
    {
     "name": "stdout",
     "output_type": "stream",
     "text": [
      "Saving results in D:\\Sidevideos\\AR35MOTOR\\2022_02_04...\n",
      "Saving csv poses!\n",
      "Starting to analyze %  D:\\Sidevideos\\AR35MOTOR\\2022_02_04\\190.avi\n",
      "Loading  D:\\Sidevideos\\AR35MOTOR\\2022_02_04\\190.avi\n",
      "Duration of video [s]:  12.5 , recorded with  40.0 fps!\n",
      "Overall # of frames:  500  found with (before cropping) frame dimensions:  800 480\n",
      "Starting to extract posture\n"
     ]
    },
    {
     "name": "stderr",
     "output_type": "stream",
     "text": [
      "510it [00:25, 20.32it/s]                                                                                               \n"
     ]
    },
    {
     "name": "stdout",
     "output_type": "stream",
     "text": [
      "Saving results in D:\\Sidevideos\\AR35MOTOR\\2022_02_04...\n",
      "Saving csv poses!\n",
      "Starting to analyze %  D:\\Sidevideos\\AR35MOTOR\\2022_02_04\\191.avi\n",
      "Loading  D:\\Sidevideos\\AR35MOTOR\\2022_02_04\\191.avi\n",
      "Duration of video [s]:  12.5 , recorded with  40.0 fps!\n",
      "Overall # of frames:  500  found with (before cropping) frame dimensions:  800 480\n",
      "Starting to extract posture\n"
     ]
    },
    {
     "name": "stderr",
     "output_type": "stream",
     "text": [
      "510it [00:25, 20.40it/s]                                                                                               \n"
     ]
    },
    {
     "name": "stdout",
     "output_type": "stream",
     "text": [
      "Saving results in D:\\Sidevideos\\AR35MOTOR\\2022_02_04...\n",
      "Saving csv poses!\n",
      "Starting to analyze %  D:\\Sidevideos\\AR35MOTOR\\2022_02_04\\192.avi\n",
      "Loading  D:\\Sidevideos\\AR35MOTOR\\2022_02_04\\192.avi\n",
      "Duration of video [s]:  12.5 , recorded with  40.0 fps!\n",
      "Overall # of frames:  500  found with (before cropping) frame dimensions:  800 480\n",
      "Starting to extract posture\n"
     ]
    },
    {
     "name": "stderr",
     "output_type": "stream",
     "text": [
      "510it [00:24, 20.62it/s]                                                                                               \n"
     ]
    },
    {
     "name": "stdout",
     "output_type": "stream",
     "text": [
      "Saving results in D:\\Sidevideos\\AR35MOTOR\\2022_02_04...\n",
      "Saving csv poses!\n",
      "Starting to analyze %  D:\\Sidevideos\\AR35MOTOR\\2022_02_04\\193.avi\n",
      "Loading  D:\\Sidevideos\\AR35MOTOR\\2022_02_04\\193.avi\n",
      "Duration of video [s]:  12.5 , recorded with  40.0 fps!\n",
      "Overall # of frames:  500  found with (before cropping) frame dimensions:  800 480\n",
      "Starting to extract posture\n"
     ]
    },
    {
     "name": "stderr",
     "output_type": "stream",
     "text": [
      "510it [00:25, 20.28it/s]                                                                                               \n"
     ]
    },
    {
     "name": "stdout",
     "output_type": "stream",
     "text": [
      "Saving results in D:\\Sidevideos\\AR35MOTOR\\2022_02_04...\n",
      "Saving csv poses!\n",
      "Starting to analyze %  D:\\Sidevideos\\AR35MOTOR\\2022_02_04\\194.avi\n",
      "Loading  D:\\Sidevideos\\AR35MOTOR\\2022_02_04\\194.avi\n",
      "Duration of video [s]:  12.5 , recorded with  40.0 fps!\n",
      "Overall # of frames:  500  found with (before cropping) frame dimensions:  800 480\n",
      "Starting to extract posture\n"
     ]
    },
    {
     "name": "stderr",
     "output_type": "stream",
     "text": [
      "510it [00:24, 20.58it/s]                                                                                               \n"
     ]
    },
    {
     "name": "stdout",
     "output_type": "stream",
     "text": [
      "Saving results in D:\\Sidevideos\\AR35MOTOR\\2022_02_04...\n",
      "Saving csv poses!\n",
      "Starting to analyze %  D:\\Sidevideos\\AR35MOTOR\\2022_02_04\\195.avi\n",
      "Loading  D:\\Sidevideos\\AR35MOTOR\\2022_02_04\\195.avi\n",
      "Duration of video [s]:  12.5 , recorded with  40.0 fps!\n",
      "Overall # of frames:  500  found with (before cropping) frame dimensions:  800 480\n",
      "Starting to extract posture\n"
     ]
    },
    {
     "name": "stderr",
     "output_type": "stream",
     "text": [
      "510it [00:24, 20.47it/s]                                                                                               \n"
     ]
    },
    {
     "name": "stdout",
     "output_type": "stream",
     "text": [
      "Saving results in D:\\Sidevideos\\AR35MOTOR\\2022_02_04...\n",
      "Saving csv poses!\n",
      "Starting to analyze %  D:\\Sidevideos\\AR35MOTOR\\2022_02_04\\196.avi\n",
      "Loading  D:\\Sidevideos\\AR35MOTOR\\2022_02_04\\196.avi\n",
      "Duration of video [s]:  12.5 , recorded with  40.0 fps!\n",
      "Overall # of frames:  500  found with (before cropping) frame dimensions:  800 480\n",
      "Starting to extract posture\n"
     ]
    },
    {
     "name": "stderr",
     "output_type": "stream",
     "text": [
      "510it [00:25, 20.27it/s]                                                                                               \n"
     ]
    },
    {
     "name": "stdout",
     "output_type": "stream",
     "text": [
      "Saving results in D:\\Sidevideos\\AR35MOTOR\\2022_02_04...\n",
      "Saving csv poses!\n",
      "Starting to analyze %  D:\\Sidevideos\\AR35MOTOR\\2022_02_04\\197.avi\n",
      "Loading  D:\\Sidevideos\\AR35MOTOR\\2022_02_04\\197.avi\n",
      "Duration of video [s]:  12.5 , recorded with  40.0 fps!\n",
      "Overall # of frames:  500  found with (before cropping) frame dimensions:  800 480\n",
      "Starting to extract posture\n"
     ]
    },
    {
     "name": "stderr",
     "output_type": "stream",
     "text": [
      "510it [00:24, 20.73it/s]                                                                                               \n"
     ]
    },
    {
     "name": "stdout",
     "output_type": "stream",
     "text": [
      "Saving results in D:\\Sidevideos\\AR35MOTOR\\2022_02_04...\n",
      "Saving csv poses!\n",
      "Starting to analyze %  D:\\Sidevideos\\AR35MOTOR\\2022_02_04\\198.avi\n",
      "Loading  D:\\Sidevideos\\AR35MOTOR\\2022_02_04\\198.avi\n",
      "Duration of video [s]:  12.5 , recorded with  40.0 fps!\n",
      "Overall # of frames:  500  found with (before cropping) frame dimensions:  800 480\n",
      "Starting to extract posture\n"
     ]
    },
    {
     "name": "stderr",
     "output_type": "stream",
     "text": [
      "510it [00:24, 20.53it/s]                                                                                               \n"
     ]
    },
    {
     "name": "stdout",
     "output_type": "stream",
     "text": [
      "Saving results in D:\\Sidevideos\\AR35MOTOR\\2022_02_04...\n",
      "Saving csv poses!\n",
      "Starting to analyze %  D:\\Sidevideos\\AR35MOTOR\\2022_02_04\\199.avi\n",
      "Loading  D:\\Sidevideos\\AR35MOTOR\\2022_02_04\\199.avi\n",
      "Duration of video [s]:  12.5 , recorded with  40.0 fps!\n",
      "Overall # of frames:  500  found with (before cropping) frame dimensions:  800 480\n",
      "Starting to extract posture\n"
     ]
    },
    {
     "name": "stderr",
     "output_type": "stream",
     "text": [
      "510it [00:24, 20.69it/s]                                                                                               \n"
     ]
    },
    {
     "name": "stdout",
     "output_type": "stream",
     "text": [
      "Saving results in D:\\Sidevideos\\AR35MOTOR\\2022_02_04...\n",
      "Saving csv poses!\n",
      "Starting to analyze %  D:\\Sidevideos\\AR35MOTOR\\2022_02_04\\2.avi\n",
      "Loading  D:\\Sidevideos\\AR35MOTOR\\2022_02_04\\2.avi\n",
      "Duration of video [s]:  12.5 , recorded with  40.0 fps!\n",
      "Overall # of frames:  500  found with (before cropping) frame dimensions:  800 480\n",
      "Starting to extract posture\n"
     ]
    },
    {
     "name": "stderr",
     "output_type": "stream",
     "text": [
      "510it [00:24, 20.66it/s]                                                                                               \n"
     ]
    },
    {
     "name": "stdout",
     "output_type": "stream",
     "text": [
      "Saving results in D:\\Sidevideos\\AR35MOTOR\\2022_02_04...\n",
      "Saving csv poses!\n",
      "Starting to analyze %  D:\\Sidevideos\\AR35MOTOR\\2022_02_04\\20.avi\n",
      "Loading  D:\\Sidevideos\\AR35MOTOR\\2022_02_04\\20.avi\n",
      "Duration of video [s]:  12.5 , recorded with  40.0 fps!\n",
      "Overall # of frames:  500  found with (before cropping) frame dimensions:  800 480\n",
      "Starting to extract posture\n"
     ]
    },
    {
     "name": "stderr",
     "output_type": "stream",
     "text": [
      "510it [00:25, 20.36it/s]                                                                                               \n"
     ]
    },
    {
     "name": "stdout",
     "output_type": "stream",
     "text": [
      "Saving results in D:\\Sidevideos\\AR35MOTOR\\2022_02_04...\n",
      "Saving csv poses!\n",
      "Starting to analyze %  D:\\Sidevideos\\AR35MOTOR\\2022_02_04\\200.avi\n",
      "Loading  D:\\Sidevideos\\AR35MOTOR\\2022_02_04\\200.avi\n",
      "Duration of video [s]:  12.5 , recorded with  40.0 fps!\n",
      "Overall # of frames:  500  found with (before cropping) frame dimensions:  800 480\n",
      "Starting to extract posture\n"
     ]
    },
    {
     "name": "stderr",
     "output_type": "stream",
     "text": [
      "510it [00:24, 20.61it/s]                                                                                               \n"
     ]
    },
    {
     "name": "stdout",
     "output_type": "stream",
     "text": [
      "Saving results in D:\\Sidevideos\\AR35MOTOR\\2022_02_04...\n",
      "Saving csv poses!\n",
      "Starting to analyze %  D:\\Sidevideos\\AR35MOTOR\\2022_02_04\\201.avi\n",
      "Loading  D:\\Sidevideos\\AR35MOTOR\\2022_02_04\\201.avi\n",
      "Duration of video [s]:  12.5 , recorded with  40.0 fps!\n",
      "Overall # of frames:  500  found with (before cropping) frame dimensions:  800 480\n",
      "Starting to extract posture\n"
     ]
    },
    {
     "name": "stderr",
     "output_type": "stream",
     "text": [
      "510it [00:24, 20.44it/s]                                                                                               \n"
     ]
    },
    {
     "name": "stdout",
     "output_type": "stream",
     "text": [
      "Saving results in D:\\Sidevideos\\AR35MOTOR\\2022_02_04...\n",
      "Saving csv poses!\n",
      "Starting to analyze %  D:\\Sidevideos\\AR35MOTOR\\2022_02_04\\202.avi\n",
      "Loading  D:\\Sidevideos\\AR35MOTOR\\2022_02_04\\202.avi\n",
      "Duration of video [s]:  12.5 , recorded with  40.0 fps!\n",
      "Overall # of frames:  500  found with (before cropping) frame dimensions:  800 480\n",
      "Starting to extract posture\n"
     ]
    },
    {
     "name": "stderr",
     "output_type": "stream",
     "text": [
      "510it [00:24, 20.46it/s]                                                                                               \n"
     ]
    },
    {
     "name": "stdout",
     "output_type": "stream",
     "text": [
      "Saving results in D:\\Sidevideos\\AR35MOTOR\\2022_02_04...\n",
      "Saving csv poses!\n",
      "Starting to analyze %  D:\\Sidevideos\\AR35MOTOR\\2022_02_04\\203.avi\n",
      "Loading  D:\\Sidevideos\\AR35MOTOR\\2022_02_04\\203.avi\n",
      "Duration of video [s]:  12.5 , recorded with  40.0 fps!\n",
      "Overall # of frames:  500  found with (before cropping) frame dimensions:  800 480\n",
      "Starting to extract posture\n"
     ]
    },
    {
     "name": "stderr",
     "output_type": "stream",
     "text": [
      "510it [00:24, 20.58it/s]                                                                                               \n"
     ]
    },
    {
     "name": "stdout",
     "output_type": "stream",
     "text": [
      "Saving results in D:\\Sidevideos\\AR35MOTOR\\2022_02_04...\n",
      "Saving csv poses!\n",
      "Starting to analyze %  D:\\Sidevideos\\AR35MOTOR\\2022_02_04\\204.avi\n",
      "Loading  D:\\Sidevideos\\AR35MOTOR\\2022_02_04\\204.avi\n",
      "Duration of video [s]:  12.5 , recorded with  40.0 fps!\n",
      "Overall # of frames:  500  found with (before cropping) frame dimensions:  800 480\n",
      "Starting to extract posture\n"
     ]
    },
    {
     "name": "stderr",
     "output_type": "stream",
     "text": [
      "510it [00:25, 20.39it/s]                                                                                               \n"
     ]
    },
    {
     "name": "stdout",
     "output_type": "stream",
     "text": [
      "Saving results in D:\\Sidevideos\\AR35MOTOR\\2022_02_04...\n",
      "Saving csv poses!\n",
      "Starting to analyze %  D:\\Sidevideos\\AR35MOTOR\\2022_02_04\\205.avi\n",
      "Loading  D:\\Sidevideos\\AR35MOTOR\\2022_02_04\\205.avi\n",
      "Duration of video [s]:  12.5 , recorded with  40.0 fps!\n",
      "Overall # of frames:  500  found with (before cropping) frame dimensions:  800 480\n",
      "Starting to extract posture\n"
     ]
    },
    {
     "name": "stderr",
     "output_type": "stream",
     "text": [
      "510it [00:24, 20.51it/s]                                                                                               \n"
     ]
    },
    {
     "name": "stdout",
     "output_type": "stream",
     "text": [
      "Saving results in D:\\Sidevideos\\AR35MOTOR\\2022_02_04...\n",
      "Saving csv poses!\n",
      "Starting to analyze %  D:\\Sidevideos\\AR35MOTOR\\2022_02_04\\206.avi\n",
      "Loading  D:\\Sidevideos\\AR35MOTOR\\2022_02_04\\206.avi\n",
      "Duration of video [s]:  12.5 , recorded with  40.0 fps!\n",
      "Overall # of frames:  500  found with (before cropping) frame dimensions:  800 480\n",
      "Starting to extract posture\n"
     ]
    },
    {
     "name": "stderr",
     "output_type": "stream",
     "text": [
      "510it [00:24, 20.61it/s]                                                                                               \n"
     ]
    },
    {
     "name": "stdout",
     "output_type": "stream",
     "text": [
      "Saving results in D:\\Sidevideos\\AR35MOTOR\\2022_02_04...\n",
      "Saving csv poses!\n",
      "Starting to analyze %  D:\\Sidevideos\\AR35MOTOR\\2022_02_04\\207.avi\n",
      "Loading  D:\\Sidevideos\\AR35MOTOR\\2022_02_04\\207.avi\n",
      "Duration of video [s]:  12.5 , recorded with  40.0 fps!\n",
      "Overall # of frames:  500  found with (before cropping) frame dimensions:  800 480\n",
      "Starting to extract posture\n"
     ]
    },
    {
     "name": "stderr",
     "output_type": "stream",
     "text": [
      "510it [00:24, 20.55it/s]                                                                                               \n"
     ]
    },
    {
     "name": "stdout",
     "output_type": "stream",
     "text": [
      "Saving results in D:\\Sidevideos\\AR35MOTOR\\2022_02_04...\n",
      "Saving csv poses!\n",
      "Starting to analyze %  D:\\Sidevideos\\AR35MOTOR\\2022_02_04\\208.avi\n",
      "Loading  D:\\Sidevideos\\AR35MOTOR\\2022_02_04\\208.avi\n",
      "Duration of video [s]:  12.5 , recorded with  40.0 fps!\n",
      "Overall # of frames:  500  found with (before cropping) frame dimensions:  800 480\n",
      "Starting to extract posture\n"
     ]
    },
    {
     "name": "stderr",
     "output_type": "stream",
     "text": [
      "510it [00:24, 20.85it/s]                                                                                               \n"
     ]
    },
    {
     "name": "stdout",
     "output_type": "stream",
     "text": [
      "Saving results in D:\\Sidevideos\\AR35MOTOR\\2022_02_04...\n",
      "Saving csv poses!\n",
      "Starting to analyze %  D:\\Sidevideos\\AR35MOTOR\\2022_02_04\\209.avi\n",
      "Loading  D:\\Sidevideos\\AR35MOTOR\\2022_02_04\\209.avi\n",
      "Duration of video [s]:  12.5 , recorded with  40.0 fps!\n",
      "Overall # of frames:  500  found with (before cropping) frame dimensions:  800 480\n",
      "Starting to extract posture\n"
     ]
    },
    {
     "name": "stderr",
     "output_type": "stream",
     "text": [
      "510it [00:25, 20.35it/s]                                                                                               \n"
     ]
    },
    {
     "name": "stdout",
     "output_type": "stream",
     "text": [
      "Saving results in D:\\Sidevideos\\AR35MOTOR\\2022_02_04...\n",
      "Saving csv poses!\n",
      "Starting to analyze %  D:\\Sidevideos\\AR35MOTOR\\2022_02_04\\21.avi\n",
      "Loading  D:\\Sidevideos\\AR35MOTOR\\2022_02_04\\21.avi\n",
      "Duration of video [s]:  12.5 , recorded with  40.0 fps!\n",
      "Overall # of frames:  500  found with (before cropping) frame dimensions:  800 480\n",
      "Starting to extract posture\n"
     ]
    },
    {
     "name": "stderr",
     "output_type": "stream",
     "text": [
      "510it [00:24, 20.44it/s]                                                                                               \n"
     ]
    },
    {
     "name": "stdout",
     "output_type": "stream",
     "text": [
      "Saving results in D:\\Sidevideos\\AR35MOTOR\\2022_02_04...\n",
      "Saving csv poses!\n",
      "Starting to analyze %  D:\\Sidevideos\\AR35MOTOR\\2022_02_04\\210.avi\n",
      "Loading  D:\\Sidevideos\\AR35MOTOR\\2022_02_04\\210.avi\n",
      "Duration of video [s]:  12.5 , recorded with  40.0 fps!\n",
      "Overall # of frames:  500  found with (before cropping) frame dimensions:  800 480\n",
      "Starting to extract posture\n"
     ]
    },
    {
     "name": "stderr",
     "output_type": "stream",
     "text": [
      "510it [00:24, 20.59it/s]                                                                                               \n"
     ]
    },
    {
     "name": "stdout",
     "output_type": "stream",
     "text": [
      "Saving results in D:\\Sidevideos\\AR35MOTOR\\2022_02_04...\n",
      "Saving csv poses!\n",
      "Starting to analyze %  D:\\Sidevideos\\AR35MOTOR\\2022_02_04\\211.avi\n",
      "Loading  D:\\Sidevideos\\AR35MOTOR\\2022_02_04\\211.avi\n",
      "Duration of video [s]:  12.5 , recorded with  40.0 fps!\n",
      "Overall # of frames:  500  found with (before cropping) frame dimensions:  800 480\n",
      "Starting to extract posture\n"
     ]
    },
    {
     "name": "stderr",
     "output_type": "stream",
     "text": [
      "510it [00:25, 20.33it/s]                                                                                               \n"
     ]
    },
    {
     "name": "stdout",
     "output_type": "stream",
     "text": [
      "Saving results in D:\\Sidevideos\\AR35MOTOR\\2022_02_04...\n",
      "Saving csv poses!\n",
      "Starting to analyze %  D:\\Sidevideos\\AR35MOTOR\\2022_02_04\\212.avi\n",
      "Loading  D:\\Sidevideos\\AR35MOTOR\\2022_02_04\\212.avi\n",
      "Duration of video [s]:  12.5 , recorded with  40.0 fps!\n",
      "Overall # of frames:  500  found with (before cropping) frame dimensions:  800 480\n",
      "Starting to extract posture\n"
     ]
    },
    {
     "name": "stderr",
     "output_type": "stream",
     "text": [
      "510it [00:24, 20.62it/s]                                                                                               \n"
     ]
    },
    {
     "name": "stdout",
     "output_type": "stream",
     "text": [
      "Saving results in D:\\Sidevideos\\AR35MOTOR\\2022_02_04...\n",
      "Saving csv poses!\n",
      "Starting to analyze %  D:\\Sidevideos\\AR35MOTOR\\2022_02_04\\213.avi\n",
      "Loading  D:\\Sidevideos\\AR35MOTOR\\2022_02_04\\213.avi\n",
      "Duration of video [s]:  12.5 , recorded with  40.0 fps!\n",
      "Overall # of frames:  500  found with (before cropping) frame dimensions:  800 480\n",
      "Starting to extract posture\n"
     ]
    },
    {
     "name": "stderr",
     "output_type": "stream",
     "text": [
      "510it [00:24, 20.43it/s]                                                                                               \n"
     ]
    },
    {
     "name": "stdout",
     "output_type": "stream",
     "text": [
      "Saving results in D:\\Sidevideos\\AR35MOTOR\\2022_02_04...\n",
      "Saving csv poses!\n",
      "Starting to analyze %  D:\\Sidevideos\\AR35MOTOR\\2022_02_04\\214.avi\n",
      "Loading  D:\\Sidevideos\\AR35MOTOR\\2022_02_04\\214.avi\n",
      "Duration of video [s]:  12.5 , recorded with  40.0 fps!\n",
      "Overall # of frames:  500  found with (before cropping) frame dimensions:  800 480\n",
      "Starting to extract posture\n"
     ]
    },
    {
     "name": "stderr",
     "output_type": "stream",
     "text": [
      "510it [00:24, 20.43it/s]                                                                                               \n"
     ]
    },
    {
     "name": "stdout",
     "output_type": "stream",
     "text": [
      "Saving results in D:\\Sidevideos\\AR35MOTOR\\2022_02_04...\n",
      "Saving csv poses!\n",
      "Starting to analyze %  D:\\Sidevideos\\AR35MOTOR\\2022_02_04\\215.avi\n",
      "Loading  D:\\Sidevideos\\AR35MOTOR\\2022_02_04\\215.avi\n",
      "Duration of video [s]:  12.5 , recorded with  40.0 fps!\n",
      "Overall # of frames:  500  found with (before cropping) frame dimensions:  800 480\n",
      "Starting to extract posture\n"
     ]
    },
    {
     "name": "stderr",
     "output_type": "stream",
     "text": [
      "510it [00:24, 20.68it/s]                                                                                               \n"
     ]
    },
    {
     "name": "stdout",
     "output_type": "stream",
     "text": [
      "Saving results in D:\\Sidevideos\\AR35MOTOR\\2022_02_04...\n",
      "Saving csv poses!\n",
      "Starting to analyze %  D:\\Sidevideos\\AR35MOTOR\\2022_02_04\\216.avi\n",
      "Loading  D:\\Sidevideos\\AR35MOTOR\\2022_02_04\\216.avi\n",
      "Duration of video [s]:  12.5 , recorded with  40.0 fps!\n",
      "Overall # of frames:  500  found with (before cropping) frame dimensions:  800 480\n",
      "Starting to extract posture\n"
     ]
    },
    {
     "name": "stderr",
     "output_type": "stream",
     "text": [
      "510it [00:24, 20.56it/s]                                                                                               \n"
     ]
    },
    {
     "name": "stdout",
     "output_type": "stream",
     "text": [
      "Saving results in D:\\Sidevideos\\AR35MOTOR\\2022_02_04...\n",
      "Saving csv poses!\n",
      "Starting to analyze %  D:\\Sidevideos\\AR35MOTOR\\2022_02_04\\217.avi\n",
      "Loading  D:\\Sidevideos\\AR35MOTOR\\2022_02_04\\217.avi\n",
      "Duration of video [s]:  12.5 , recorded with  40.0 fps!\n",
      "Overall # of frames:  500  found with (before cropping) frame dimensions:  800 480\n",
      "Starting to extract posture\n"
     ]
    },
    {
     "name": "stderr",
     "output_type": "stream",
     "text": [
      "510it [00:24, 20.67it/s]                                                                                               \n"
     ]
    },
    {
     "name": "stdout",
     "output_type": "stream",
     "text": [
      "Saving results in D:\\Sidevideos\\AR35MOTOR\\2022_02_04...\n",
      "Saving csv poses!\n",
      "Starting to analyze %  D:\\Sidevideos\\AR35MOTOR\\2022_02_04\\218.avi\n",
      "Loading  D:\\Sidevideos\\AR35MOTOR\\2022_02_04\\218.avi\n",
      "Duration of video [s]:  12.5 , recorded with  40.0 fps!\n",
      "Overall # of frames:  500  found with (before cropping) frame dimensions:  800 480\n",
      "Starting to extract posture\n"
     ]
    },
    {
     "name": "stderr",
     "output_type": "stream",
     "text": [
      "510it [00:24, 20.48it/s]                                                                                               \n"
     ]
    },
    {
     "name": "stdout",
     "output_type": "stream",
     "text": [
      "Saving results in D:\\Sidevideos\\AR35MOTOR\\2022_02_04...\n",
      "Saving csv poses!\n",
      "Starting to analyze %  D:\\Sidevideos\\AR35MOTOR\\2022_02_04\\219.avi\n",
      "Loading  D:\\Sidevideos\\AR35MOTOR\\2022_02_04\\219.avi\n",
      "Duration of video [s]:  12.5 , recorded with  40.0 fps!\n",
      "Overall # of frames:  500  found with (before cropping) frame dimensions:  800 480\n",
      "Starting to extract posture\n"
     ]
    },
    {
     "name": "stderr",
     "output_type": "stream",
     "text": [
      "510it [00:24, 20.40it/s]                                                                                               \n"
     ]
    },
    {
     "name": "stdout",
     "output_type": "stream",
     "text": [
      "Saving results in D:\\Sidevideos\\AR35MOTOR\\2022_02_04...\n",
      "Saving csv poses!\n",
      "Starting to analyze %  D:\\Sidevideos\\AR35MOTOR\\2022_02_04\\22.avi\n",
      "Loading  D:\\Sidevideos\\AR35MOTOR\\2022_02_04\\22.avi\n",
      "Duration of video [s]:  12.5 , recorded with  40.0 fps!\n",
      "Overall # of frames:  500  found with (before cropping) frame dimensions:  800 480\n",
      "Starting to extract posture\n"
     ]
    },
    {
     "name": "stderr",
     "output_type": "stream",
     "text": [
      "510it [00:24, 20.51it/s]                                                                                               \n"
     ]
    },
    {
     "name": "stdout",
     "output_type": "stream",
     "text": [
      "Saving results in D:\\Sidevideos\\AR35MOTOR\\2022_02_04...\n",
      "Saving csv poses!\n",
      "Starting to analyze %  D:\\Sidevideos\\AR35MOTOR\\2022_02_04\\220.avi\n",
      "Loading  D:\\Sidevideos\\AR35MOTOR\\2022_02_04\\220.avi\n",
      "Duration of video [s]:  12.5 , recorded with  40.0 fps!\n",
      "Overall # of frames:  500  found with (before cropping) frame dimensions:  800 480\n",
      "Starting to extract posture\n"
     ]
    },
    {
     "name": "stderr",
     "output_type": "stream",
     "text": [
      "510it [00:24, 20.47it/s]                                                                                               \n"
     ]
    },
    {
     "name": "stdout",
     "output_type": "stream",
     "text": [
      "Saving results in D:\\Sidevideos\\AR35MOTOR\\2022_02_04...\n",
      "Saving csv poses!\n",
      "Starting to analyze %  D:\\Sidevideos\\AR35MOTOR\\2022_02_04\\221.avi\n",
      "Loading  D:\\Sidevideos\\AR35MOTOR\\2022_02_04\\221.avi\n",
      "Duration of video [s]:  12.5 , recorded with  40.0 fps!\n",
      "Overall # of frames:  500  found with (before cropping) frame dimensions:  800 480\n",
      "Starting to extract posture\n"
     ]
    },
    {
     "name": "stderr",
     "output_type": "stream",
     "text": [
      "510it [00:24, 20.53it/s]                                                                                               \n"
     ]
    },
    {
     "name": "stdout",
     "output_type": "stream",
     "text": [
      "Saving results in D:\\Sidevideos\\AR35MOTOR\\2022_02_04...\n",
      "Saving csv poses!\n",
      "Starting to analyze %  D:\\Sidevideos\\AR35MOTOR\\2022_02_04\\222.avi\n",
      "Loading  D:\\Sidevideos\\AR35MOTOR\\2022_02_04\\222.avi\n",
      "Duration of video [s]:  12.5 , recorded with  40.0 fps!\n",
      "Overall # of frames:  500  found with (before cropping) frame dimensions:  800 480\n",
      "Starting to extract posture\n"
     ]
    },
    {
     "name": "stderr",
     "output_type": "stream",
     "text": [
      "510it [00:24, 20.59it/s]                                                                                               \n"
     ]
    },
    {
     "name": "stdout",
     "output_type": "stream",
     "text": [
      "Saving results in D:\\Sidevideos\\AR35MOTOR\\2022_02_04...\n",
      "Saving csv poses!\n",
      "Starting to analyze %  D:\\Sidevideos\\AR35MOTOR\\2022_02_04\\223.avi\n",
      "Loading  D:\\Sidevideos\\AR35MOTOR\\2022_02_04\\223.avi\n",
      "Duration of video [s]:  12.5 , recorded with  40.0 fps!\n",
      "Overall # of frames:  500  found with (before cropping) frame dimensions:  800 480\n",
      "Starting to extract posture\n"
     ]
    },
    {
     "name": "stderr",
     "output_type": "stream",
     "text": [
      "510it [00:25, 20.37it/s]                                                                                               \n"
     ]
    },
    {
     "name": "stdout",
     "output_type": "stream",
     "text": [
      "Saving results in D:\\Sidevideos\\AR35MOTOR\\2022_02_04...\n",
      "Saving csv poses!\n",
      "Starting to analyze %  D:\\Sidevideos\\AR35MOTOR\\2022_02_04\\224.avi\n",
      "Loading  D:\\Sidevideos\\AR35MOTOR\\2022_02_04\\224.avi\n",
      "Duration of video [s]:  12.5 , recorded with  40.0 fps!\n",
      "Overall # of frames:  500  found with (before cropping) frame dimensions:  800 480\n",
      "Starting to extract posture\n"
     ]
    },
    {
     "name": "stderr",
     "output_type": "stream",
     "text": [
      "510it [00:24, 20.51it/s]                                                                                               \n"
     ]
    },
    {
     "name": "stdout",
     "output_type": "stream",
     "text": [
      "Saving results in D:\\Sidevideos\\AR35MOTOR\\2022_02_04...\n",
      "Saving csv poses!\n",
      "Starting to analyze %  D:\\Sidevideos\\AR35MOTOR\\2022_02_04\\225.avi\n",
      "Loading  D:\\Sidevideos\\AR35MOTOR\\2022_02_04\\225.avi\n",
      "Duration of video [s]:  12.5 , recorded with  40.0 fps!\n",
      "Overall # of frames:  500  found with (before cropping) frame dimensions:  800 480\n",
      "Starting to extract posture\n"
     ]
    },
    {
     "name": "stderr",
     "output_type": "stream",
     "text": [
      "510it [00:24, 20.56it/s]                                                                                               \n"
     ]
    },
    {
     "name": "stdout",
     "output_type": "stream",
     "text": [
      "Saving results in D:\\Sidevideos\\AR35MOTOR\\2022_02_04...\n",
      "Saving csv poses!\n",
      "Starting to analyze %  D:\\Sidevideos\\AR35MOTOR\\2022_02_04\\226.avi\n",
      "Loading  D:\\Sidevideos\\AR35MOTOR\\2022_02_04\\226.avi\n",
      "Duration of video [s]:  12.5 , recorded with  40.0 fps!\n",
      "Overall # of frames:  500  found with (before cropping) frame dimensions:  800 480\n",
      "Starting to extract posture\n"
     ]
    },
    {
     "name": "stderr",
     "output_type": "stream",
     "text": [
      "510it [00:24, 20.60it/s]                                                                                               \n"
     ]
    },
    {
     "name": "stdout",
     "output_type": "stream",
     "text": [
      "Saving results in D:\\Sidevideos\\AR35MOTOR\\2022_02_04...\n",
      "Saving csv poses!\n",
      "Starting to analyze %  D:\\Sidevideos\\AR35MOTOR\\2022_02_04\\227.avi\n",
      "Loading  D:\\Sidevideos\\AR35MOTOR\\2022_02_04\\227.avi\n",
      "Duration of video [s]:  12.5 , recorded with  40.0 fps!\n",
      "Overall # of frames:  500  found with (before cropping) frame dimensions:  800 480\n",
      "Starting to extract posture\n"
     ]
    },
    {
     "name": "stderr",
     "output_type": "stream",
     "text": [
      "510it [00:24, 20.57it/s]                                                                                               \n"
     ]
    },
    {
     "name": "stdout",
     "output_type": "stream",
     "text": [
      "Saving results in D:\\Sidevideos\\AR35MOTOR\\2022_02_04...\n",
      "Saving csv poses!\n",
      "Starting to analyze %  D:\\Sidevideos\\AR35MOTOR\\2022_02_04\\228.avi\n",
      "Loading  D:\\Sidevideos\\AR35MOTOR\\2022_02_04\\228.avi\n",
      "Duration of video [s]:  12.5 , recorded with  40.0 fps!\n",
      "Overall # of frames:  500  found with (before cropping) frame dimensions:  800 480\n",
      "Starting to extract posture\n"
     ]
    },
    {
     "name": "stderr",
     "output_type": "stream",
     "text": [
      "510it [00:25, 20.26it/s]                                                                                               \n"
     ]
    },
    {
     "name": "stdout",
     "output_type": "stream",
     "text": [
      "Saving results in D:\\Sidevideos\\AR35MOTOR\\2022_02_04...\n",
      "Saving csv poses!\n",
      "Starting to analyze %  D:\\Sidevideos\\AR35MOTOR\\2022_02_04\\229.avi\n",
      "Loading  D:\\Sidevideos\\AR35MOTOR\\2022_02_04\\229.avi\n",
      "Duration of video [s]:  12.5 , recorded with  40.0 fps!\n",
      "Overall # of frames:  500  found with (before cropping) frame dimensions:  800 480\n",
      "Starting to extract posture\n"
     ]
    },
    {
     "name": "stderr",
     "output_type": "stream",
     "text": [
      "510it [00:24, 20.46it/s]                                                                                               \n"
     ]
    },
    {
     "name": "stdout",
     "output_type": "stream",
     "text": [
      "Saving results in D:\\Sidevideos\\AR35MOTOR\\2022_02_04...\n",
      "Saving csv poses!\n",
      "Starting to analyze %  D:\\Sidevideos\\AR35MOTOR\\2022_02_04\\23.avi\n",
      "Loading  D:\\Sidevideos\\AR35MOTOR\\2022_02_04\\23.avi\n",
      "Duration of video [s]:  12.5 , recorded with  40.0 fps!\n",
      "Overall # of frames:  500  found with (before cropping) frame dimensions:  800 480\n",
      "Starting to extract posture\n"
     ]
    },
    {
     "name": "stderr",
     "output_type": "stream",
     "text": [
      "510it [00:24, 20.55it/s]                                                                                               \n"
     ]
    },
    {
     "name": "stdout",
     "output_type": "stream",
     "text": [
      "Saving results in D:\\Sidevideos\\AR35MOTOR\\2022_02_04...\n",
      "Saving csv poses!\n",
      "Starting to analyze %  D:\\Sidevideos\\AR35MOTOR\\2022_02_04\\230.avi\n",
      "Loading  D:\\Sidevideos\\AR35MOTOR\\2022_02_04\\230.avi\n",
      "Duration of video [s]:  12.5 , recorded with  40.0 fps!\n",
      "Overall # of frames:  500  found with (before cropping) frame dimensions:  800 480\n",
      "Starting to extract posture\n"
     ]
    },
    {
     "name": "stderr",
     "output_type": "stream",
     "text": [
      "510it [00:25, 20.30it/s]                                                                                               \n"
     ]
    },
    {
     "name": "stdout",
     "output_type": "stream",
     "text": [
      "Saving results in D:\\Sidevideos\\AR35MOTOR\\2022_02_04...\n",
      "Saving csv poses!\n",
      "Starting to analyze %  D:\\Sidevideos\\AR35MOTOR\\2022_02_04\\231.avi\n",
      "Loading  D:\\Sidevideos\\AR35MOTOR\\2022_02_04\\231.avi\n",
      "Duration of video [s]:  12.5 , recorded with  40.0 fps!\n",
      "Overall # of frames:  500  found with (before cropping) frame dimensions:  800 480\n",
      "Starting to extract posture\n"
     ]
    },
    {
     "name": "stderr",
     "output_type": "stream",
     "text": [
      "510it [00:24, 20.53it/s]                                                                                               \n"
     ]
    },
    {
     "name": "stdout",
     "output_type": "stream",
     "text": [
      "Saving results in D:\\Sidevideos\\AR35MOTOR\\2022_02_04...\n",
      "Saving csv poses!\n",
      "Starting to analyze %  D:\\Sidevideos\\AR35MOTOR\\2022_02_04\\232.avi\n",
      "Loading  D:\\Sidevideos\\AR35MOTOR\\2022_02_04\\232.avi\n",
      "Duration of video [s]:  12.5 , recorded with  40.0 fps!\n",
      "Overall # of frames:  500  found with (before cropping) frame dimensions:  800 480\n",
      "Starting to extract posture\n"
     ]
    },
    {
     "name": "stderr",
     "output_type": "stream",
     "text": [
      "510it [00:24, 20.45it/s]                                                                                               \n"
     ]
    },
    {
     "name": "stdout",
     "output_type": "stream",
     "text": [
      "Saving results in D:\\Sidevideos\\AR35MOTOR\\2022_02_04...\n",
      "Saving csv poses!\n",
      "Starting to analyze %  D:\\Sidevideos\\AR35MOTOR\\2022_02_04\\233.avi\n",
      "Loading  D:\\Sidevideos\\AR35MOTOR\\2022_02_04\\233.avi\n",
      "Duration of video [s]:  12.5 , recorded with  40.0 fps!\n",
      "Overall # of frames:  500  found with (before cropping) frame dimensions:  800 480\n",
      "Starting to extract posture\n"
     ]
    },
    {
     "name": "stderr",
     "output_type": "stream",
     "text": [
      "510it [00:24, 20.48it/s]                                                                                               \n"
     ]
    },
    {
     "name": "stdout",
     "output_type": "stream",
     "text": [
      "Saving results in D:\\Sidevideos\\AR35MOTOR\\2022_02_04...\n",
      "Saving csv poses!\n",
      "Starting to analyze %  D:\\Sidevideos\\AR35MOTOR\\2022_02_04\\234.avi\n",
      "Loading  D:\\Sidevideos\\AR35MOTOR\\2022_02_04\\234.avi\n",
      "Duration of video [s]:  12.5 , recorded with  40.0 fps!\n",
      "Overall # of frames:  500  found with (before cropping) frame dimensions:  800 480\n",
      "Starting to extract posture\n"
     ]
    },
    {
     "name": "stderr",
     "output_type": "stream",
     "text": [
      "510it [00:24, 20.67it/s]                                                                                               \n"
     ]
    },
    {
     "name": "stdout",
     "output_type": "stream",
     "text": [
      "Saving results in D:\\Sidevideos\\AR35MOTOR\\2022_02_04...\n",
      "Saving csv poses!\n",
      "Starting to analyze %  D:\\Sidevideos\\AR35MOTOR\\2022_02_04\\235.avi\n",
      "Loading  D:\\Sidevideos\\AR35MOTOR\\2022_02_04\\235.avi\n",
      "Duration of video [s]:  12.5 , recorded with  40.0 fps!\n",
      "Overall # of frames:  500  found with (before cropping) frame dimensions:  800 480\n",
      "Starting to extract posture\n"
     ]
    },
    {
     "name": "stderr",
     "output_type": "stream",
     "text": [
      "510it [00:24, 20.50it/s]                                                                                               \n"
     ]
    },
    {
     "name": "stdout",
     "output_type": "stream",
     "text": [
      "Saving results in D:\\Sidevideos\\AR35MOTOR\\2022_02_04...\n",
      "Saving csv poses!\n",
      "Starting to analyze %  D:\\Sidevideos\\AR35MOTOR\\2022_02_04\\236.avi\n",
      "Loading  D:\\Sidevideos\\AR35MOTOR\\2022_02_04\\236.avi\n",
      "Duration of video [s]:  12.5 , recorded with  40.0 fps!\n",
      "Overall # of frames:  500  found with (before cropping) frame dimensions:  800 480\n",
      "Starting to extract posture\n"
     ]
    },
    {
     "name": "stderr",
     "output_type": "stream",
     "text": [
      "510it [00:24, 20.77it/s]                                                                                               \n"
     ]
    },
    {
     "name": "stdout",
     "output_type": "stream",
     "text": [
      "Saving results in D:\\Sidevideos\\AR35MOTOR\\2022_02_04...\n",
      "Saving csv poses!\n",
      "Starting to analyze %  D:\\Sidevideos\\AR35MOTOR\\2022_02_04\\237.avi\n",
      "Loading  D:\\Sidevideos\\AR35MOTOR\\2022_02_04\\237.avi\n",
      "Duration of video [s]:  12.5 , recorded with  40.0 fps!\n",
      "Overall # of frames:  500  found with (before cropping) frame dimensions:  800 480\n",
      "Starting to extract posture\n"
     ]
    },
    {
     "name": "stderr",
     "output_type": "stream",
     "text": [
      "510it [00:24, 20.41it/s]                                                                                               \n"
     ]
    },
    {
     "name": "stdout",
     "output_type": "stream",
     "text": [
      "Saving results in D:\\Sidevideos\\AR35MOTOR\\2022_02_04...\n",
      "Saving csv poses!\n",
      "Starting to analyze %  D:\\Sidevideos\\AR35MOTOR\\2022_02_04\\238.avi\n",
      "Loading  D:\\Sidevideos\\AR35MOTOR\\2022_02_04\\238.avi\n",
      "Duration of video [s]:  12.5 , recorded with  40.0 fps!\n",
      "Overall # of frames:  500  found with (before cropping) frame dimensions:  800 480\n",
      "Starting to extract posture\n"
     ]
    },
    {
     "name": "stderr",
     "output_type": "stream",
     "text": [
      "510it [00:25, 20.34it/s]                                                                                               \n"
     ]
    },
    {
     "name": "stdout",
     "output_type": "stream",
     "text": [
      "Saving results in D:\\Sidevideos\\AR35MOTOR\\2022_02_04...\n",
      "Saving csv poses!\n",
      "Starting to analyze %  D:\\Sidevideos\\AR35MOTOR\\2022_02_04\\239.avi\n",
      "Loading  D:\\Sidevideos\\AR35MOTOR\\2022_02_04\\239.avi\n",
      "Duration of video [s]:  12.5 , recorded with  40.0 fps!\n",
      "Overall # of frames:  500  found with (before cropping) frame dimensions:  800 480\n",
      "Starting to extract posture\n"
     ]
    },
    {
     "name": "stderr",
     "output_type": "stream",
     "text": [
      "510it [00:24, 20.78it/s]                                                                                               \n"
     ]
    },
    {
     "name": "stdout",
     "output_type": "stream",
     "text": [
      "Saving results in D:\\Sidevideos\\AR35MOTOR\\2022_02_04...\n",
      "Saving csv poses!\n",
      "Starting to analyze %  D:\\Sidevideos\\AR35MOTOR\\2022_02_04\\24.avi\n",
      "Loading  D:\\Sidevideos\\AR35MOTOR\\2022_02_04\\24.avi\n",
      "Duration of video [s]:  12.5 , recorded with  40.0 fps!\n",
      "Overall # of frames:  500  found with (before cropping) frame dimensions:  800 480\n",
      "Starting to extract posture\n"
     ]
    },
    {
     "name": "stderr",
     "output_type": "stream",
     "text": [
      "510it [00:24, 20.42it/s]                                                                                               \n"
     ]
    },
    {
     "name": "stdout",
     "output_type": "stream",
     "text": [
      "Saving results in D:\\Sidevideos\\AR35MOTOR\\2022_02_04...\n",
      "Saving csv poses!\n",
      "Starting to analyze %  D:\\Sidevideos\\AR35MOTOR\\2022_02_04\\240.avi\n",
      "Loading  D:\\Sidevideos\\AR35MOTOR\\2022_02_04\\240.avi\n",
      "Duration of video [s]:  12.5 , recorded with  40.0 fps!\n",
      "Overall # of frames:  500  found with (before cropping) frame dimensions:  800 480\n",
      "Starting to extract posture\n"
     ]
    },
    {
     "name": "stderr",
     "output_type": "stream",
     "text": [
      "510it [00:25, 20.39it/s]                                                                                               \n"
     ]
    },
    {
     "name": "stdout",
     "output_type": "stream",
     "text": [
      "Saving results in D:\\Sidevideos\\AR35MOTOR\\2022_02_04...\n",
      "Saving csv poses!\n",
      "Starting to analyze %  D:\\Sidevideos\\AR35MOTOR\\2022_02_04\\241.avi\n",
      "Loading  D:\\Sidevideos\\AR35MOTOR\\2022_02_04\\241.avi\n",
      "Duration of video [s]:  12.5 , recorded with  40.0 fps!\n",
      "Overall # of frames:  500  found with (before cropping) frame dimensions:  800 480\n",
      "Starting to extract posture\n"
     ]
    },
    {
     "name": "stderr",
     "output_type": "stream",
     "text": [
      "510it [00:24, 20.51it/s]                                                                                               \n"
     ]
    },
    {
     "name": "stdout",
     "output_type": "stream",
     "text": [
      "Saving results in D:\\Sidevideos\\AR35MOTOR\\2022_02_04...\n",
      "Saving csv poses!\n",
      "Starting to analyze %  D:\\Sidevideos\\AR35MOTOR\\2022_02_04\\242.avi\n",
      "Loading  D:\\Sidevideos\\AR35MOTOR\\2022_02_04\\242.avi\n",
      "Duration of video [s]:  12.5 , recorded with  40.0 fps!\n",
      "Overall # of frames:  500  found with (before cropping) frame dimensions:  800 480\n",
      "Starting to extract posture\n"
     ]
    },
    {
     "name": "stderr",
     "output_type": "stream",
     "text": [
      "510it [00:25, 20.35it/s]                                                                                               \n"
     ]
    },
    {
     "name": "stdout",
     "output_type": "stream",
     "text": [
      "Saving results in D:\\Sidevideos\\AR35MOTOR\\2022_02_04...\n",
      "Saving csv poses!\n",
      "Starting to analyze %  D:\\Sidevideos\\AR35MOTOR\\2022_02_04\\243.avi\n",
      "Loading  D:\\Sidevideos\\AR35MOTOR\\2022_02_04\\243.avi\n",
      "Duration of video [s]:  12.5 , recorded with  40.0 fps!\n",
      "Overall # of frames:  500  found with (before cropping) frame dimensions:  800 480\n",
      "Starting to extract posture\n"
     ]
    },
    {
     "name": "stderr",
     "output_type": "stream",
     "text": [
      "510it [00:24, 20.57it/s]                                                                                               \n"
     ]
    },
    {
     "name": "stdout",
     "output_type": "stream",
     "text": [
      "Saving results in D:\\Sidevideos\\AR35MOTOR\\2022_02_04...\n",
      "Saving csv poses!\n",
      "Starting to analyze %  D:\\Sidevideos\\AR35MOTOR\\2022_02_04\\244.avi\n",
      "Loading  D:\\Sidevideos\\AR35MOTOR\\2022_02_04\\244.avi\n",
      "Duration of video [s]:  12.5 , recorded with  40.0 fps!\n",
      "Overall # of frames:  500  found with (before cropping) frame dimensions:  800 480\n",
      "Starting to extract posture\n"
     ]
    },
    {
     "name": "stderr",
     "output_type": "stream",
     "text": [
      "510it [00:24, 20.44it/s]                                                                                               \n"
     ]
    },
    {
     "name": "stdout",
     "output_type": "stream",
     "text": [
      "Saving results in D:\\Sidevideos\\AR35MOTOR\\2022_02_04...\n",
      "Saving csv poses!\n",
      "Starting to analyze %  D:\\Sidevideos\\AR35MOTOR\\2022_02_04\\245.avi\n",
      "Loading  D:\\Sidevideos\\AR35MOTOR\\2022_02_04\\245.avi\n",
      "Duration of video [s]:  12.5 , recorded with  40.0 fps!\n",
      "Overall # of frames:  500  found with (before cropping) frame dimensions:  800 480\n",
      "Starting to extract posture\n"
     ]
    },
    {
     "name": "stderr",
     "output_type": "stream",
     "text": [
      "510it [00:24, 20.48it/s]                                                                                               \n"
     ]
    },
    {
     "name": "stdout",
     "output_type": "stream",
     "text": [
      "Saving results in D:\\Sidevideos\\AR35MOTOR\\2022_02_04...\n",
      "Saving csv poses!\n",
      "Starting to analyze %  D:\\Sidevideos\\AR35MOTOR\\2022_02_04\\246.avi\n",
      "Loading  D:\\Sidevideos\\AR35MOTOR\\2022_02_04\\246.avi\n",
      "Duration of video [s]:  12.5 , recorded with  40.0 fps!\n",
      "Overall # of frames:  500  found with (before cropping) frame dimensions:  800 480\n",
      "Starting to extract posture\n"
     ]
    },
    {
     "name": "stderr",
     "output_type": "stream",
     "text": [
      "510it [00:24, 20.67it/s]                                                                                               \n"
     ]
    },
    {
     "name": "stdout",
     "output_type": "stream",
     "text": [
      "Saving results in D:\\Sidevideos\\AR35MOTOR\\2022_02_04...\n",
      "Saving csv poses!\n",
      "Starting to analyze %  D:\\Sidevideos\\AR35MOTOR\\2022_02_04\\247.avi\n",
      "Loading  D:\\Sidevideos\\AR35MOTOR\\2022_02_04\\247.avi\n",
      "Duration of video [s]:  12.5 , recorded with  40.0 fps!\n",
      "Overall # of frames:  500  found with (before cropping) frame dimensions:  800 480\n",
      "Starting to extract posture\n"
     ]
    },
    {
     "name": "stderr",
     "output_type": "stream",
     "text": [
      "510it [00:24, 20.44it/s]                                                                                               \n"
     ]
    },
    {
     "name": "stdout",
     "output_type": "stream",
     "text": [
      "Saving results in D:\\Sidevideos\\AR35MOTOR\\2022_02_04...\n",
      "Saving csv poses!\n",
      "Starting to analyze %  D:\\Sidevideos\\AR35MOTOR\\2022_02_04\\248.avi\n",
      "Loading  D:\\Sidevideos\\AR35MOTOR\\2022_02_04\\248.avi\n",
      "Duration of video [s]:  12.5 , recorded with  40.0 fps!\n",
      "Overall # of frames:  500  found with (before cropping) frame dimensions:  800 480\n",
      "Starting to extract posture\n"
     ]
    },
    {
     "name": "stderr",
     "output_type": "stream",
     "text": [
      "510it [00:24, 20.55it/s]                                                                                               \n"
     ]
    },
    {
     "name": "stdout",
     "output_type": "stream",
     "text": [
      "Saving results in D:\\Sidevideos\\AR35MOTOR\\2022_02_04...\n",
      "Saving csv poses!\n",
      "Starting to analyze %  D:\\Sidevideos\\AR35MOTOR\\2022_02_04\\249.avi\n",
      "Loading  D:\\Sidevideos\\AR35MOTOR\\2022_02_04\\249.avi\n",
      "Duration of video [s]:  12.5 , recorded with  40.0 fps!\n",
      "Overall # of frames:  500  found with (before cropping) frame dimensions:  800 480\n",
      "Starting to extract posture\n"
     ]
    },
    {
     "name": "stderr",
     "output_type": "stream",
     "text": [
      "510it [00:24, 20.51it/s]                                                                                               \n"
     ]
    },
    {
     "name": "stdout",
     "output_type": "stream",
     "text": [
      "Saving results in D:\\Sidevideos\\AR35MOTOR\\2022_02_04...\n",
      "Saving csv poses!\n",
      "Starting to analyze %  D:\\Sidevideos\\AR35MOTOR\\2022_02_04\\25.avi\n",
      "Loading  D:\\Sidevideos\\AR35MOTOR\\2022_02_04\\25.avi\n",
      "Duration of video [s]:  12.5 , recorded with  40.0 fps!\n",
      "Overall # of frames:  500  found with (before cropping) frame dimensions:  800 480\n",
      "Starting to extract posture\n"
     ]
    },
    {
     "name": "stderr",
     "output_type": "stream",
     "text": [
      "510it [00:25, 20.21it/s]                                                                                               \n"
     ]
    },
    {
     "name": "stdout",
     "output_type": "stream",
     "text": [
      "Saving results in D:\\Sidevideos\\AR35MOTOR\\2022_02_04...\n",
      "Saving csv poses!\n",
      "Starting to analyze %  D:\\Sidevideos\\AR35MOTOR\\2022_02_04\\250.avi\n",
      "Loading  D:\\Sidevideos\\AR35MOTOR\\2022_02_04\\250.avi\n",
      "Duration of video [s]:  12.5 , recorded with  40.0 fps!\n",
      "Overall # of frames:  500  found with (before cropping) frame dimensions:  800 480\n",
      "Starting to extract posture\n"
     ]
    },
    {
     "name": "stderr",
     "output_type": "stream",
     "text": [
      "510it [00:24, 20.44it/s]                                                                                               \n"
     ]
    },
    {
     "name": "stdout",
     "output_type": "stream",
     "text": [
      "Saving results in D:\\Sidevideos\\AR35MOTOR\\2022_02_04...\n",
      "Saving csv poses!\n",
      "Starting to analyze %  D:\\Sidevideos\\AR35MOTOR\\2022_02_04\\251.avi\n",
      "Loading  D:\\Sidevideos\\AR35MOTOR\\2022_02_04\\251.avi\n",
      "Duration of video [s]:  12.5 , recorded with  40.0 fps!\n",
      "Overall # of frames:  500  found with (before cropping) frame dimensions:  800 480\n",
      "Starting to extract posture\n"
     ]
    },
    {
     "name": "stderr",
     "output_type": "stream",
     "text": [
      "510it [00:24, 20.48it/s]                                                                                               \n"
     ]
    },
    {
     "name": "stdout",
     "output_type": "stream",
     "text": [
      "Saving results in D:\\Sidevideos\\AR35MOTOR\\2022_02_04...\n",
      "Saving csv poses!\n",
      "Starting to analyze %  D:\\Sidevideos\\AR35MOTOR\\2022_02_04\\252.avi\n",
      "Loading  D:\\Sidevideos\\AR35MOTOR\\2022_02_04\\252.avi\n",
      "Duration of video [s]:  12.5 , recorded with  40.0 fps!\n",
      "Overall # of frames:  500  found with (before cropping) frame dimensions:  800 480\n",
      "Starting to extract posture\n"
     ]
    },
    {
     "name": "stderr",
     "output_type": "stream",
     "text": [
      "510it [00:24, 20.43it/s]                                                                                               \n"
     ]
    },
    {
     "name": "stdout",
     "output_type": "stream",
     "text": [
      "Saving results in D:\\Sidevideos\\AR35MOTOR\\2022_02_04...\n",
      "Saving csv poses!\n",
      "Starting to analyze %  D:\\Sidevideos\\AR35MOTOR\\2022_02_04\\253.avi\n",
      "Loading  D:\\Sidevideos\\AR35MOTOR\\2022_02_04\\253.avi\n",
      "Duration of video [s]:  12.5 , recorded with  40.0 fps!\n",
      "Overall # of frames:  500  found with (before cropping) frame dimensions:  800 480\n",
      "Starting to extract posture\n"
     ]
    },
    {
     "name": "stderr",
     "output_type": "stream",
     "text": [
      "510it [00:24, 20.64it/s]                                                                                               \n"
     ]
    },
    {
     "name": "stdout",
     "output_type": "stream",
     "text": [
      "Saving results in D:\\Sidevideos\\AR35MOTOR\\2022_02_04...\n",
      "Saving csv poses!\n",
      "Starting to analyze %  D:\\Sidevideos\\AR35MOTOR\\2022_02_04\\254.avi\n",
      "Loading  D:\\Sidevideos\\AR35MOTOR\\2022_02_04\\254.avi\n",
      "Duration of video [s]:  12.5 , recorded with  40.0 fps!\n",
      "Overall # of frames:  500  found with (before cropping) frame dimensions:  800 480\n",
      "Starting to extract posture\n"
     ]
    },
    {
     "name": "stderr",
     "output_type": "stream",
     "text": [
      "510it [00:25, 20.30it/s]                                                                                               \n"
     ]
    },
    {
     "name": "stdout",
     "output_type": "stream",
     "text": [
      "Saving results in D:\\Sidevideos\\AR35MOTOR\\2022_02_04...\n",
      "Saving csv poses!\n",
      "Starting to analyze %  D:\\Sidevideos\\AR35MOTOR\\2022_02_04\\255.avi\n",
      "Loading  D:\\Sidevideos\\AR35MOTOR\\2022_02_04\\255.avi\n",
      "Duration of video [s]:  12.5 , recorded with  40.0 fps!\n",
      "Overall # of frames:  500  found with (before cropping) frame dimensions:  800 480\n",
      "Starting to extract posture\n"
     ]
    },
    {
     "name": "stderr",
     "output_type": "stream",
     "text": [
      "510it [00:24, 20.40it/s]                                                                                               \n"
     ]
    },
    {
     "name": "stdout",
     "output_type": "stream",
     "text": [
      "Saving results in D:\\Sidevideos\\AR35MOTOR\\2022_02_04...\n",
      "Saving csv poses!\n",
      "Starting to analyze %  D:\\Sidevideos\\AR35MOTOR\\2022_02_04\\256.avi\n",
      "Loading  D:\\Sidevideos\\AR35MOTOR\\2022_02_04\\256.avi\n",
      "Duration of video [s]:  12.5 , recorded with  40.0 fps!\n",
      "Overall # of frames:  500  found with (before cropping) frame dimensions:  800 480\n",
      "Starting to extract posture\n"
     ]
    },
    {
     "name": "stderr",
     "output_type": "stream",
     "text": [
      "510it [00:24, 20.41it/s]                                                                                               \n"
     ]
    },
    {
     "name": "stdout",
     "output_type": "stream",
     "text": [
      "Saving results in D:\\Sidevideos\\AR35MOTOR\\2022_02_04...\n",
      "Saving csv poses!\n",
      "Starting to analyze %  D:\\Sidevideos\\AR35MOTOR\\2022_02_04\\257.avi\n",
      "Loading  D:\\Sidevideos\\AR35MOTOR\\2022_02_04\\257.avi\n",
      "Duration of video [s]:  12.5 , recorded with  40.0 fps!\n",
      "Overall # of frames:  500  found with (before cropping) frame dimensions:  800 480\n",
      "Starting to extract posture\n"
     ]
    },
    {
     "name": "stderr",
     "output_type": "stream",
     "text": [
      "510it [00:25, 20.29it/s]                                                                                               \n"
     ]
    },
    {
     "name": "stdout",
     "output_type": "stream",
     "text": [
      "Saving results in D:\\Sidevideos\\AR35MOTOR\\2022_02_04...\n",
      "Saving csv poses!\n",
      "Starting to analyze %  D:\\Sidevideos\\AR35MOTOR\\2022_02_04\\258.avi\n",
      "Loading  D:\\Sidevideos\\AR35MOTOR\\2022_02_04\\258.avi\n",
      "Duration of video [s]:  12.5 , recorded with  40.0 fps!\n",
      "Overall # of frames:  500  found with (before cropping) frame dimensions:  800 480\n",
      "Starting to extract posture\n"
     ]
    },
    {
     "name": "stderr",
     "output_type": "stream",
     "text": [
      "510it [00:24, 20.66it/s]                                                                                               \n"
     ]
    },
    {
     "name": "stdout",
     "output_type": "stream",
     "text": [
      "Saving results in D:\\Sidevideos\\AR35MOTOR\\2022_02_04...\n",
      "Saving csv poses!\n",
      "Starting to analyze %  D:\\Sidevideos\\AR35MOTOR\\2022_02_04\\259.avi\n",
      "Loading  D:\\Sidevideos\\AR35MOTOR\\2022_02_04\\259.avi\n",
      "Duration of video [s]:  12.5 , recorded with  40.0 fps!\n",
      "Overall # of frames:  500  found with (before cropping) frame dimensions:  800 480\n",
      "Starting to extract posture\n"
     ]
    },
    {
     "name": "stderr",
     "output_type": "stream",
     "text": [
      "510it [00:25, 20.35it/s]                                                                                               \n"
     ]
    },
    {
     "name": "stdout",
     "output_type": "stream",
     "text": [
      "Saving results in D:\\Sidevideos\\AR35MOTOR\\2022_02_04...\n",
      "Saving csv poses!\n",
      "Starting to analyze %  D:\\Sidevideos\\AR35MOTOR\\2022_02_04\\26.avi\n",
      "Loading  D:\\Sidevideos\\AR35MOTOR\\2022_02_04\\26.avi\n",
      "Duration of video [s]:  12.5 , recorded with  40.0 fps!\n",
      "Overall # of frames:  500  found with (before cropping) frame dimensions:  800 480\n",
      "Starting to extract posture\n"
     ]
    },
    {
     "name": "stderr",
     "output_type": "stream",
     "text": [
      "510it [00:24, 20.45it/s]                                                                                               \n"
     ]
    },
    {
     "name": "stdout",
     "output_type": "stream",
     "text": [
      "Saving results in D:\\Sidevideos\\AR35MOTOR\\2022_02_04...\n",
      "Saving csv poses!\n",
      "Starting to analyze %  D:\\Sidevideos\\AR35MOTOR\\2022_02_04\\260.avi\n",
      "Loading  D:\\Sidevideos\\AR35MOTOR\\2022_02_04\\260.avi\n",
      "Duration of video [s]:  12.5 , recorded with  40.0 fps!\n",
      "Overall # of frames:  500  found with (before cropping) frame dimensions:  800 480\n",
      "Starting to extract posture\n"
     ]
    },
    {
     "name": "stderr",
     "output_type": "stream",
     "text": [
      "510it [00:24, 20.60it/s]                                                                                               \n"
     ]
    },
    {
     "name": "stdout",
     "output_type": "stream",
     "text": [
      "Saving results in D:\\Sidevideos\\AR35MOTOR\\2022_02_04...\n",
      "Saving csv poses!\n",
      "Starting to analyze %  D:\\Sidevideos\\AR35MOTOR\\2022_02_04\\261.avi\n",
      "Loading  D:\\Sidevideos\\AR35MOTOR\\2022_02_04\\261.avi\n",
      "Duration of video [s]:  12.5 , recorded with  40.0 fps!\n",
      "Overall # of frames:  500  found with (before cropping) frame dimensions:  800 480\n",
      "Starting to extract posture\n"
     ]
    },
    {
     "name": "stderr",
     "output_type": "stream",
     "text": [
      "510it [00:25, 20.15it/s]                                                                                               \n"
     ]
    },
    {
     "name": "stdout",
     "output_type": "stream",
     "text": [
      "Saving results in D:\\Sidevideos\\AR35MOTOR\\2022_02_04...\n",
      "Saving csv poses!\n",
      "Starting to analyze %  D:\\Sidevideos\\AR35MOTOR\\2022_02_04\\262.avi\n",
      "Loading  D:\\Sidevideos\\AR35MOTOR\\2022_02_04\\262.avi\n",
      "Duration of video [s]:  12.5 , recorded with  40.0 fps!\n",
      "Overall # of frames:  500  found with (before cropping) frame dimensions:  800 480\n",
      "Starting to extract posture\n"
     ]
    },
    {
     "name": "stderr",
     "output_type": "stream",
     "text": [
      "510it [00:24, 20.54it/s]                                                                                               \n"
     ]
    },
    {
     "name": "stdout",
     "output_type": "stream",
     "text": [
      "Saving results in D:\\Sidevideos\\AR35MOTOR\\2022_02_04...\n",
      "Saving csv poses!\n",
      "Starting to analyze %  D:\\Sidevideos\\AR35MOTOR\\2022_02_04\\263.avi\n",
      "Loading  D:\\Sidevideos\\AR35MOTOR\\2022_02_04\\263.avi\n",
      "Duration of video [s]:  12.5 , recorded with  40.0 fps!\n",
      "Overall # of frames:  500  found with (before cropping) frame dimensions:  800 480\n",
      "Starting to extract posture\n"
     ]
    },
    {
     "name": "stderr",
     "output_type": "stream",
     "text": [
      "510it [00:24, 20.42it/s]                                                                                               \n"
     ]
    },
    {
     "name": "stdout",
     "output_type": "stream",
     "text": [
      "Saving results in D:\\Sidevideos\\AR35MOTOR\\2022_02_04...\n",
      "Saving csv poses!\n",
      "Starting to analyze %  D:\\Sidevideos\\AR35MOTOR\\2022_02_04\\264.avi\n",
      "Loading  D:\\Sidevideos\\AR35MOTOR\\2022_02_04\\264.avi\n",
      "Duration of video [s]:  12.5 , recorded with  40.0 fps!\n",
      "Overall # of frames:  500  found with (before cropping) frame dimensions:  800 480\n",
      "Starting to extract posture\n"
     ]
    },
    {
     "name": "stderr",
     "output_type": "stream",
     "text": [
      "510it [00:25, 20.31it/s]                                                                                               \n"
     ]
    },
    {
     "name": "stdout",
     "output_type": "stream",
     "text": [
      "Saving results in D:\\Sidevideos\\AR35MOTOR\\2022_02_04...\n",
      "Saving csv poses!\n",
      "Starting to analyze %  D:\\Sidevideos\\AR35MOTOR\\2022_02_04\\265.avi\n",
      "Loading  D:\\Sidevideos\\AR35MOTOR\\2022_02_04\\265.avi\n",
      "Duration of video [s]:  12.5 , recorded with  40.0 fps!\n",
      "Overall # of frames:  500  found with (before cropping) frame dimensions:  800 480\n",
      "Starting to extract posture\n"
     ]
    },
    {
     "name": "stderr",
     "output_type": "stream",
     "text": [
      "510it [00:24, 20.52it/s]                                                                                               \n"
     ]
    },
    {
     "name": "stdout",
     "output_type": "stream",
     "text": [
      "Saving results in D:\\Sidevideos\\AR35MOTOR\\2022_02_04...\n",
      "Saving csv poses!\n",
      "Starting to analyze %  D:\\Sidevideos\\AR35MOTOR\\2022_02_04\\266.avi\n",
      "Loading  D:\\Sidevideos\\AR35MOTOR\\2022_02_04\\266.avi\n",
      "Duration of video [s]:  12.5 , recorded with  40.0 fps!\n",
      "Overall # of frames:  500  found with (before cropping) frame dimensions:  800 480\n",
      "Starting to extract posture\n"
     ]
    },
    {
     "name": "stderr",
     "output_type": "stream",
     "text": [
      "510it [00:25, 20.34it/s]                                                                                               \n"
     ]
    },
    {
     "name": "stdout",
     "output_type": "stream",
     "text": [
      "Saving results in D:\\Sidevideos\\AR35MOTOR\\2022_02_04...\n",
      "Saving csv poses!\n",
      "Starting to analyze %  D:\\Sidevideos\\AR35MOTOR\\2022_02_04\\267.avi\n",
      "Loading  D:\\Sidevideos\\AR35MOTOR\\2022_02_04\\267.avi\n",
      "Duration of video [s]:  12.5 , recorded with  40.0 fps!\n",
      "Overall # of frames:  500  found with (before cropping) frame dimensions:  800 480\n",
      "Starting to extract posture\n"
     ]
    },
    {
     "name": "stderr",
     "output_type": "stream",
     "text": [
      "510it [00:24, 20.46it/s]                                                                                               \n"
     ]
    },
    {
     "name": "stdout",
     "output_type": "stream",
     "text": [
      "Saving results in D:\\Sidevideos\\AR35MOTOR\\2022_02_04...\n",
      "Saving csv poses!\n",
      "Starting to analyze %  D:\\Sidevideos\\AR35MOTOR\\2022_02_04\\268.avi\n",
      "Loading  D:\\Sidevideos\\AR35MOTOR\\2022_02_04\\268.avi\n",
      "Duration of video [s]:  12.5 , recorded with  40.0 fps!\n",
      "Overall # of frames:  500  found with (before cropping) frame dimensions:  800 480\n",
      "Starting to extract posture\n"
     ]
    },
    {
     "name": "stderr",
     "output_type": "stream",
     "text": [
      "510it [00:24, 20.65it/s]                                                                                               \n"
     ]
    },
    {
     "name": "stdout",
     "output_type": "stream",
     "text": [
      "Saving results in D:\\Sidevideos\\AR35MOTOR\\2022_02_04...\n",
      "Saving csv poses!\n",
      "Starting to analyze %  D:\\Sidevideos\\AR35MOTOR\\2022_02_04\\269.avi\n",
      "Loading  D:\\Sidevideos\\AR35MOTOR\\2022_02_04\\269.avi\n",
      "Duration of video [s]:  12.5 , recorded with  40.0 fps!\n",
      "Overall # of frames:  500  found with (before cropping) frame dimensions:  800 480\n",
      "Starting to extract posture\n"
     ]
    },
    {
     "name": "stderr",
     "output_type": "stream",
     "text": [
      "510it [00:24, 20.43it/s]                                                                                               \n"
     ]
    },
    {
     "name": "stdout",
     "output_type": "stream",
     "text": [
      "Saving results in D:\\Sidevideos\\AR35MOTOR\\2022_02_04...\n",
      "Saving csv poses!\n",
      "Starting to analyze %  D:\\Sidevideos\\AR35MOTOR\\2022_02_04\\27.avi\n",
      "Loading  D:\\Sidevideos\\AR35MOTOR\\2022_02_04\\27.avi\n",
      "Duration of video [s]:  12.5 , recorded with  40.0 fps!\n",
      "Overall # of frames:  500  found with (before cropping) frame dimensions:  800 480\n",
      "Starting to extract posture\n"
     ]
    },
    {
     "name": "stderr",
     "output_type": "stream",
     "text": [
      "510it [00:24, 20.57it/s]                                                                                               \n"
     ]
    },
    {
     "name": "stdout",
     "output_type": "stream",
     "text": [
      "Saving results in D:\\Sidevideos\\AR35MOTOR\\2022_02_04...\n",
      "Saving csv poses!\n",
      "Starting to analyze %  D:\\Sidevideos\\AR35MOTOR\\2022_02_04\\270.avi\n",
      "Loading  D:\\Sidevideos\\AR35MOTOR\\2022_02_04\\270.avi\n",
      "Duration of video [s]:  12.5 , recorded with  40.0 fps!\n",
      "Overall # of frames:  500  found with (before cropping) frame dimensions:  800 480\n",
      "Starting to extract posture\n"
     ]
    },
    {
     "name": "stderr",
     "output_type": "stream",
     "text": [
      "510it [00:25, 20.38it/s]                                                                                               \n"
     ]
    },
    {
     "name": "stdout",
     "output_type": "stream",
     "text": [
      "Saving results in D:\\Sidevideos\\AR35MOTOR\\2022_02_04...\n",
      "Saving csv poses!\n",
      "Starting to analyze %  D:\\Sidevideos\\AR35MOTOR\\2022_02_04\\271.avi\n",
      "Loading  D:\\Sidevideos\\AR35MOTOR\\2022_02_04\\271.avi\n",
      "Duration of video [s]:  12.5 , recorded with  40.0 fps!\n",
      "Overall # of frames:  500  found with (before cropping) frame dimensions:  800 480\n",
      "Starting to extract posture\n"
     ]
    },
    {
     "name": "stderr",
     "output_type": "stream",
     "text": [
      "510it [00:25, 20.30it/s]                                                                                               \n"
     ]
    },
    {
     "name": "stdout",
     "output_type": "stream",
     "text": [
      "Saving results in D:\\Sidevideos\\AR35MOTOR\\2022_02_04...\n",
      "Saving csv poses!\n",
      "Starting to analyze %  D:\\Sidevideos\\AR35MOTOR\\2022_02_04\\272.avi\n",
      "Loading  D:\\Sidevideos\\AR35MOTOR\\2022_02_04\\272.avi\n",
      "Duration of video [s]:  12.5 , recorded with  40.0 fps!\n",
      "Overall # of frames:  500  found with (before cropping) frame dimensions:  800 480\n",
      "Starting to extract posture\n"
     ]
    },
    {
     "name": "stderr",
     "output_type": "stream",
     "text": [
      "510it [00:24, 20.41it/s]                                                                                               \n"
     ]
    },
    {
     "name": "stdout",
     "output_type": "stream",
     "text": [
      "Saving results in D:\\Sidevideos\\AR35MOTOR\\2022_02_04...\n",
      "Saving csv poses!\n",
      "Starting to analyze %  D:\\Sidevideos\\AR35MOTOR\\2022_02_04\\273.avi\n",
      "Loading  D:\\Sidevideos\\AR35MOTOR\\2022_02_04\\273.avi\n",
      "Duration of video [s]:  12.5 , recorded with  40.0 fps!\n",
      "Overall # of frames:  500  found with (before cropping) frame dimensions:  800 480\n",
      "Starting to extract posture\n"
     ]
    },
    {
     "name": "stderr",
     "output_type": "stream",
     "text": [
      "510it [00:25, 20.32it/s]                                                                                               \n"
     ]
    },
    {
     "name": "stdout",
     "output_type": "stream",
     "text": [
      "Saving results in D:\\Sidevideos\\AR35MOTOR\\2022_02_04...\n",
      "Saving csv poses!\n",
      "Starting to analyze %  D:\\Sidevideos\\AR35MOTOR\\2022_02_04\\274.avi\n",
      "Loading  D:\\Sidevideos\\AR35MOTOR\\2022_02_04\\274.avi\n",
      "Duration of video [s]:  12.5 , recorded with  40.0 fps!\n",
      "Overall # of frames:  500  found with (before cropping) frame dimensions:  800 480\n",
      "Starting to extract posture\n"
     ]
    },
    {
     "name": "stderr",
     "output_type": "stream",
     "text": [
      "510it [00:24, 20.50it/s]                                                                                               \n"
     ]
    },
    {
     "name": "stdout",
     "output_type": "stream",
     "text": [
      "Saving results in D:\\Sidevideos\\AR35MOTOR\\2022_02_04...\n",
      "Saving csv poses!\n",
      "Starting to analyze %  D:\\Sidevideos\\AR35MOTOR\\2022_02_04\\275.avi\n",
      "Loading  D:\\Sidevideos\\AR35MOTOR\\2022_02_04\\275.avi\n",
      "Duration of video [s]:  12.5 , recorded with  40.0 fps!\n",
      "Overall # of frames:  500  found with (before cropping) frame dimensions:  800 480\n",
      "Starting to extract posture\n"
     ]
    },
    {
     "name": "stderr",
     "output_type": "stream",
     "text": [
      "510it [00:24, 20.45it/s]                                                                                               \n"
     ]
    },
    {
     "name": "stdout",
     "output_type": "stream",
     "text": [
      "Saving results in D:\\Sidevideos\\AR35MOTOR\\2022_02_04...\n",
      "Saving csv poses!\n",
      "Starting to analyze %  D:\\Sidevideos\\AR35MOTOR\\2022_02_04\\276.avi\n",
      "Loading  D:\\Sidevideos\\AR35MOTOR\\2022_02_04\\276.avi\n",
      "Duration of video [s]:  12.5 , recorded with  40.0 fps!\n",
      "Overall # of frames:  500  found with (before cropping) frame dimensions:  800 480\n",
      "Starting to extract posture\n"
     ]
    },
    {
     "name": "stderr",
     "output_type": "stream",
     "text": [
      "510it [00:25, 20.26it/s]                                                                                               \n"
     ]
    },
    {
     "name": "stdout",
     "output_type": "stream",
     "text": [
      "Saving results in D:\\Sidevideos\\AR35MOTOR\\2022_02_04...\n",
      "Saving csv poses!\n",
      "Starting to analyze %  D:\\Sidevideos\\AR35MOTOR\\2022_02_04\\277.avi\n",
      "Loading  D:\\Sidevideos\\AR35MOTOR\\2022_02_04\\277.avi\n",
      "Duration of video [s]:  12.5 , recorded with  40.0 fps!\n",
      "Overall # of frames:  500  found with (before cropping) frame dimensions:  800 480\n",
      "Starting to extract posture\n"
     ]
    },
    {
     "name": "stderr",
     "output_type": "stream",
     "text": [
      "510it [00:24, 20.68it/s]                                                                                               \n"
     ]
    },
    {
     "name": "stdout",
     "output_type": "stream",
     "text": [
      "Saving results in D:\\Sidevideos\\AR35MOTOR\\2022_02_04...\n",
      "Saving csv poses!\n",
      "Starting to analyze %  D:\\Sidevideos\\AR35MOTOR\\2022_02_04\\278.avi\n",
      "Loading  D:\\Sidevideos\\AR35MOTOR\\2022_02_04\\278.avi\n",
      "Duration of video [s]:  12.5 , recorded with  40.0 fps!\n",
      "Overall # of frames:  500  found with (before cropping) frame dimensions:  800 480\n",
      "Starting to extract posture\n"
     ]
    },
    {
     "name": "stderr",
     "output_type": "stream",
     "text": [
      "510it [00:25, 20.26it/s]                                                                                               \n"
     ]
    },
    {
     "name": "stdout",
     "output_type": "stream",
     "text": [
      "Saving results in D:\\Sidevideos\\AR35MOTOR\\2022_02_04...\n",
      "Saving csv poses!\n",
      "Starting to analyze %  D:\\Sidevideos\\AR35MOTOR\\2022_02_04\\279.avi\n",
      "Loading  D:\\Sidevideos\\AR35MOTOR\\2022_02_04\\279.avi\n",
      "Duration of video [s]:  12.5 , recorded with  40.0 fps!\n",
      "Overall # of frames:  500  found with (before cropping) frame dimensions:  800 480\n",
      "Starting to extract posture\n"
     ]
    },
    {
     "name": "stderr",
     "output_type": "stream",
     "text": [
      "510it [00:24, 20.44it/s]                                                                                               \n"
     ]
    },
    {
     "name": "stdout",
     "output_type": "stream",
     "text": [
      "Saving results in D:\\Sidevideos\\AR35MOTOR\\2022_02_04...\n",
      "Saving csv poses!\n",
      "Starting to analyze %  D:\\Sidevideos\\AR35MOTOR\\2022_02_04\\28.avi\n",
      "Loading  D:\\Sidevideos\\AR35MOTOR\\2022_02_04\\28.avi\n",
      "Duration of video [s]:  12.5 , recorded with  40.0 fps!\n",
      "Overall # of frames:  500  found with (before cropping) frame dimensions:  800 480\n",
      "Starting to extract posture\n"
     ]
    },
    {
     "name": "stderr",
     "output_type": "stream",
     "text": [
      "510it [00:24, 20.61it/s]                                                                                               \n"
     ]
    },
    {
     "name": "stdout",
     "output_type": "stream",
     "text": [
      "Saving results in D:\\Sidevideos\\AR35MOTOR\\2022_02_04...\n",
      "Saving csv poses!\n",
      "Starting to analyze %  D:\\Sidevideos\\AR35MOTOR\\2022_02_04\\280.avi\n",
      "Loading  D:\\Sidevideos\\AR35MOTOR\\2022_02_04\\280.avi\n",
      "Duration of video [s]:  12.5 , recorded with  40.0 fps!\n",
      "Overall # of frames:  500  found with (before cropping) frame dimensions:  800 480\n",
      "Starting to extract posture\n"
     ]
    },
    {
     "name": "stderr",
     "output_type": "stream",
     "text": [
      "510it [00:24, 20.58it/s]                                                                                               \n"
     ]
    },
    {
     "name": "stdout",
     "output_type": "stream",
     "text": [
      "Saving results in D:\\Sidevideos\\AR35MOTOR\\2022_02_04...\n",
      "Saving csv poses!\n",
      "Starting to analyze %  D:\\Sidevideos\\AR35MOTOR\\2022_02_04\\281.avi\n",
      "Loading  D:\\Sidevideos\\AR35MOTOR\\2022_02_04\\281.avi\n",
      "Duration of video [s]:  12.5 , recorded with  40.0 fps!\n",
      "Overall # of frames:  500  found with (before cropping) frame dimensions:  800 480\n",
      "Starting to extract posture\n"
     ]
    },
    {
     "name": "stderr",
     "output_type": "stream",
     "text": [
      "510it [00:24, 20.49it/s]                                                                                               \n"
     ]
    },
    {
     "name": "stdout",
     "output_type": "stream",
     "text": [
      "Saving results in D:\\Sidevideos\\AR35MOTOR\\2022_02_04...\n",
      "Saving csv poses!\n",
      "Starting to analyze %  D:\\Sidevideos\\AR35MOTOR\\2022_02_04\\282.avi\n",
      "Loading  D:\\Sidevideos\\AR35MOTOR\\2022_02_04\\282.avi\n",
      "Duration of video [s]:  12.5 , recorded with  40.0 fps!\n",
      "Overall # of frames:  500  found with (before cropping) frame dimensions:  800 480\n",
      "Starting to extract posture\n"
     ]
    },
    {
     "name": "stderr",
     "output_type": "stream",
     "text": [
      "510it [00:25, 20.40it/s]                                                                                               \n"
     ]
    },
    {
     "name": "stdout",
     "output_type": "stream",
     "text": [
      "Saving results in D:\\Sidevideos\\AR35MOTOR\\2022_02_04...\n",
      "Saving csv poses!\n",
      "Starting to analyze %  D:\\Sidevideos\\AR35MOTOR\\2022_02_04\\283.avi\n",
      "Loading  D:\\Sidevideos\\AR35MOTOR\\2022_02_04\\283.avi\n",
      "Duration of video [s]:  12.5 , recorded with  40.0 fps!\n",
      "Overall # of frames:  500  found with (before cropping) frame dimensions:  800 480\n",
      "Starting to extract posture\n"
     ]
    },
    {
     "name": "stderr",
     "output_type": "stream",
     "text": [
      "510it [00:25, 20.33it/s]                                                                                               \n"
     ]
    },
    {
     "name": "stdout",
     "output_type": "stream",
     "text": [
      "Saving results in D:\\Sidevideos\\AR35MOTOR\\2022_02_04...\n",
      "Saving csv poses!\n",
      "Starting to analyze %  D:\\Sidevideos\\AR35MOTOR\\2022_02_04\\284.avi\n",
      "Loading  D:\\Sidevideos\\AR35MOTOR\\2022_02_04\\284.avi\n",
      "Duration of video [s]:  12.5 , recorded with  40.0 fps!\n",
      "Overall # of frames:  500  found with (before cropping) frame dimensions:  800 480\n",
      "Starting to extract posture\n"
     ]
    },
    {
     "name": "stderr",
     "output_type": "stream",
     "text": [
      "510it [00:24, 20.55it/s]                                                                                               \n"
     ]
    },
    {
     "name": "stdout",
     "output_type": "stream",
     "text": [
      "Saving results in D:\\Sidevideos\\AR35MOTOR\\2022_02_04...\n",
      "Saving csv poses!\n",
      "Starting to analyze %  D:\\Sidevideos\\AR35MOTOR\\2022_02_04\\285.avi\n",
      "Loading  D:\\Sidevideos\\AR35MOTOR\\2022_02_04\\285.avi\n",
      "Duration of video [s]:  12.5 , recorded with  40.0 fps!\n",
      "Overall # of frames:  500  found with (before cropping) frame dimensions:  800 480\n",
      "Starting to extract posture\n"
     ]
    },
    {
     "name": "stderr",
     "output_type": "stream",
     "text": [
      "510it [00:25, 20.28it/s]                                                                                               \n"
     ]
    },
    {
     "name": "stdout",
     "output_type": "stream",
     "text": [
      "Saving results in D:\\Sidevideos\\AR35MOTOR\\2022_02_04...\n",
      "Saving csv poses!\n",
      "Starting to analyze %  D:\\Sidevideos\\AR35MOTOR\\2022_02_04\\286.avi\n",
      "Loading  D:\\Sidevideos\\AR35MOTOR\\2022_02_04\\286.avi\n",
      "Duration of video [s]:  12.5 , recorded with  40.0 fps!\n",
      "Overall # of frames:  500  found with (before cropping) frame dimensions:  800 480\n",
      "Starting to extract posture\n"
     ]
    },
    {
     "name": "stderr",
     "output_type": "stream",
     "text": [
      "510it [00:24, 20.42it/s]                                                                                               \n"
     ]
    },
    {
     "name": "stdout",
     "output_type": "stream",
     "text": [
      "Saving results in D:\\Sidevideos\\AR35MOTOR\\2022_02_04...\n",
      "Saving csv poses!\n",
      "Starting to analyze %  D:\\Sidevideos\\AR35MOTOR\\2022_02_04\\287.avi\n",
      "Loading  D:\\Sidevideos\\AR35MOTOR\\2022_02_04\\287.avi\n",
      "Duration of video [s]:  12.5 , recorded with  40.0 fps!\n",
      "Overall # of frames:  500  found with (before cropping) frame dimensions:  800 480\n",
      "Starting to extract posture\n"
     ]
    },
    {
     "name": "stderr",
     "output_type": "stream",
     "text": [
      "510it [00:24, 20.51it/s]                                                                                               \n"
     ]
    },
    {
     "name": "stdout",
     "output_type": "stream",
     "text": [
      "Saving results in D:\\Sidevideos\\AR35MOTOR\\2022_02_04...\n",
      "Saving csv poses!\n",
      "Starting to analyze %  D:\\Sidevideos\\AR35MOTOR\\2022_02_04\\288.avi\n",
      "Loading  D:\\Sidevideos\\AR35MOTOR\\2022_02_04\\288.avi\n",
      "Duration of video [s]:  12.5 , recorded with  40.0 fps!\n",
      "Overall # of frames:  500  found with (before cropping) frame dimensions:  800 480\n",
      "Starting to extract posture\n"
     ]
    },
    {
     "name": "stderr",
     "output_type": "stream",
     "text": [
      "510it [00:25, 20.34it/s]                                                                                               \n"
     ]
    },
    {
     "name": "stdout",
     "output_type": "stream",
     "text": [
      "Saving results in D:\\Sidevideos\\AR35MOTOR\\2022_02_04...\n",
      "Saving csv poses!\n",
      "Starting to analyze %  D:\\Sidevideos\\AR35MOTOR\\2022_02_04\\289.avi\n",
      "Loading  D:\\Sidevideos\\AR35MOTOR\\2022_02_04\\289.avi\n",
      "Duration of video [s]:  12.5 , recorded with  40.0 fps!\n",
      "Overall # of frames:  500  found with (before cropping) frame dimensions:  800 480\n",
      "Starting to extract posture\n"
     ]
    },
    {
     "name": "stderr",
     "output_type": "stream",
     "text": [
      "510it [00:24, 20.46it/s]                                                                                               \n"
     ]
    },
    {
     "name": "stdout",
     "output_type": "stream",
     "text": [
      "Saving results in D:\\Sidevideos\\AR35MOTOR\\2022_02_04...\n",
      "Saving csv poses!\n",
      "Starting to analyze %  D:\\Sidevideos\\AR35MOTOR\\2022_02_04\\29.avi\n",
      "Loading  D:\\Sidevideos\\AR35MOTOR\\2022_02_04\\29.avi\n",
      "Duration of video [s]:  12.5 , recorded with  40.0 fps!\n",
      "Overall # of frames:  500  found with (before cropping) frame dimensions:  800 480\n",
      "Starting to extract posture\n"
     ]
    },
    {
     "name": "stderr",
     "output_type": "stream",
     "text": [
      "510it [00:24, 20.47it/s]                                                                                               \n"
     ]
    },
    {
     "name": "stdout",
     "output_type": "stream",
     "text": [
      "Saving results in D:\\Sidevideos\\AR35MOTOR\\2022_02_04...\n",
      "Saving csv poses!\n",
      "Starting to analyze %  D:\\Sidevideos\\AR35MOTOR\\2022_02_04\\290.avi\n",
      "Loading  D:\\Sidevideos\\AR35MOTOR\\2022_02_04\\290.avi\n",
      "Duration of video [s]:  12.5 , recorded with  40.0 fps!\n",
      "Overall # of frames:  500  found with (before cropping) frame dimensions:  800 480\n",
      "Starting to extract posture\n"
     ]
    },
    {
     "name": "stderr",
     "output_type": "stream",
     "text": [
      "510it [00:25, 20.32it/s]                                                                                               \n"
     ]
    },
    {
     "name": "stdout",
     "output_type": "stream",
     "text": [
      "Saving results in D:\\Sidevideos\\AR35MOTOR\\2022_02_04...\n",
      "Saving csv poses!\n",
      "Starting to analyze %  D:\\Sidevideos\\AR35MOTOR\\2022_02_04\\291.avi\n",
      "Loading  D:\\Sidevideos\\AR35MOTOR\\2022_02_04\\291.avi\n",
      "Duration of video [s]:  12.5 , recorded with  40.0 fps!\n",
      "Overall # of frames:  500  found with (before cropping) frame dimensions:  800 480\n",
      "Starting to extract posture\n"
     ]
    },
    {
     "name": "stderr",
     "output_type": "stream",
     "text": [
      "510it [00:24, 20.64it/s]                                                                                               \n"
     ]
    },
    {
     "name": "stdout",
     "output_type": "stream",
     "text": [
      "Saving results in D:\\Sidevideos\\AR35MOTOR\\2022_02_04...\n",
      "Saving csv poses!\n",
      "Starting to analyze %  D:\\Sidevideos\\AR35MOTOR\\2022_02_04\\292.avi\n",
      "Loading  D:\\Sidevideos\\AR35MOTOR\\2022_02_04\\292.avi\n",
      "Duration of video [s]:  12.5 , recorded with  40.0 fps!\n",
      "Overall # of frames:  500  found with (before cropping) frame dimensions:  800 480\n",
      "Starting to extract posture\n"
     ]
    },
    {
     "name": "stderr",
     "output_type": "stream",
     "text": [
      "510it [00:24, 20.47it/s]                                                                                               \n"
     ]
    },
    {
     "name": "stdout",
     "output_type": "stream",
     "text": [
      "Saving results in D:\\Sidevideos\\AR35MOTOR\\2022_02_04...\n",
      "Saving csv poses!\n",
      "Starting to analyze %  D:\\Sidevideos\\AR35MOTOR\\2022_02_04\\293.avi\n",
      "Loading  D:\\Sidevideos\\AR35MOTOR\\2022_02_04\\293.avi\n",
      "Duration of video [s]:  12.5 , recorded with  40.0 fps!\n",
      "Overall # of frames:  500  found with (before cropping) frame dimensions:  800 480\n",
      "Starting to extract posture\n"
     ]
    },
    {
     "name": "stderr",
     "output_type": "stream",
     "text": [
      "510it [00:24, 20.58it/s]                                                                                               \n"
     ]
    },
    {
     "name": "stdout",
     "output_type": "stream",
     "text": [
      "Saving results in D:\\Sidevideos\\AR35MOTOR\\2022_02_04...\n",
      "Saving csv poses!\n",
      "Starting to analyze %  D:\\Sidevideos\\AR35MOTOR\\2022_02_04\\294.avi\n",
      "Loading  D:\\Sidevideos\\AR35MOTOR\\2022_02_04\\294.avi\n",
      "Duration of video [s]:  12.5 , recorded with  40.0 fps!\n",
      "Overall # of frames:  500  found with (before cropping) frame dimensions:  800 480\n",
      "Starting to extract posture\n"
     ]
    },
    {
     "name": "stderr",
     "output_type": "stream",
     "text": [
      "510it [00:25, 20.32it/s]                                                                                               \n"
     ]
    },
    {
     "name": "stdout",
     "output_type": "stream",
     "text": [
      "Saving results in D:\\Sidevideos\\AR35MOTOR\\2022_02_04...\n",
      "Saving csv poses!\n",
      "Starting to analyze %  D:\\Sidevideos\\AR35MOTOR\\2022_02_04\\295.avi\n",
      "Loading  D:\\Sidevideos\\AR35MOTOR\\2022_02_04\\295.avi\n",
      "Duration of video [s]:  12.5 , recorded with  40.0 fps!\n",
      "Overall # of frames:  500  found with (before cropping) frame dimensions:  800 480\n",
      "Starting to extract posture\n"
     ]
    },
    {
     "name": "stderr",
     "output_type": "stream",
     "text": [
      "510it [00:25, 20.27it/s]                                                                                               \n"
     ]
    },
    {
     "name": "stdout",
     "output_type": "stream",
     "text": [
      "Saving results in D:\\Sidevideos\\AR35MOTOR\\2022_02_04...\n",
      "Saving csv poses!\n",
      "Starting to analyze %  D:\\Sidevideos\\AR35MOTOR\\2022_02_04\\296.avi\n",
      "Loading  D:\\Sidevideos\\AR35MOTOR\\2022_02_04\\296.avi\n",
      "Duration of video [s]:  12.5 , recorded with  40.0 fps!\n",
      "Overall # of frames:  500  found with (before cropping) frame dimensions:  800 480\n",
      "Starting to extract posture\n"
     ]
    },
    {
     "name": "stderr",
     "output_type": "stream",
     "text": [
      "510it [00:24, 20.69it/s]                                                                                               \n"
     ]
    },
    {
     "name": "stdout",
     "output_type": "stream",
     "text": [
      "Saving results in D:\\Sidevideos\\AR35MOTOR\\2022_02_04...\n",
      "Saving csv poses!\n",
      "Starting to analyze %  D:\\Sidevideos\\AR35MOTOR\\2022_02_04\\297.avi\n",
      "Loading  D:\\Sidevideos\\AR35MOTOR\\2022_02_04\\297.avi\n",
      "Duration of video [s]:  12.5 , recorded with  40.0 fps!\n",
      "Overall # of frames:  500  found with (before cropping) frame dimensions:  800 480\n",
      "Starting to extract posture\n"
     ]
    },
    {
     "name": "stderr",
     "output_type": "stream",
     "text": [
      "510it [00:25, 20.28it/s]                                                                                               \n"
     ]
    },
    {
     "name": "stdout",
     "output_type": "stream",
     "text": [
      "Saving results in D:\\Sidevideos\\AR35MOTOR\\2022_02_04...\n",
      "Saving csv poses!\n",
      "Starting to analyze %  D:\\Sidevideos\\AR35MOTOR\\2022_02_04\\298.avi\n",
      "Loading  D:\\Sidevideos\\AR35MOTOR\\2022_02_04\\298.avi\n",
      "Duration of video [s]:  12.5 , recorded with  40.0 fps!\n",
      "Overall # of frames:  500  found with (before cropping) frame dimensions:  800 480\n",
      "Starting to extract posture\n"
     ]
    },
    {
     "name": "stderr",
     "output_type": "stream",
     "text": [
      "510it [00:24, 20.41it/s]                                                                                               \n"
     ]
    },
    {
     "name": "stdout",
     "output_type": "stream",
     "text": [
      "Saving results in D:\\Sidevideos\\AR35MOTOR\\2022_02_04...\n",
      "Saving csv poses!\n",
      "Starting to analyze %  D:\\Sidevideos\\AR35MOTOR\\2022_02_04\\299.avi\n",
      "Loading  D:\\Sidevideos\\AR35MOTOR\\2022_02_04\\299.avi\n",
      "Duration of video [s]:  12.5 , recorded with  40.0 fps!\n",
      "Overall # of frames:  500  found with (before cropping) frame dimensions:  800 480\n",
      "Starting to extract posture\n"
     ]
    },
    {
     "name": "stderr",
     "output_type": "stream",
     "text": [
      "510it [00:24, 20.57it/s]                                                                                               \n"
     ]
    },
    {
     "name": "stdout",
     "output_type": "stream",
     "text": [
      "Saving results in D:\\Sidevideos\\AR35MOTOR\\2022_02_04...\n",
      "Saving csv poses!\n",
      "Starting to analyze %  D:\\Sidevideos\\AR35MOTOR\\2022_02_04\\3.avi\n",
      "Loading  D:\\Sidevideos\\AR35MOTOR\\2022_02_04\\3.avi\n",
      "Duration of video [s]:  12.5 , recorded with  40.0 fps!\n",
      "Overall # of frames:  500  found with (before cropping) frame dimensions:  800 480\n",
      "Starting to extract posture\n"
     ]
    },
    {
     "name": "stderr",
     "output_type": "stream",
     "text": [
      "510it [00:25, 20.27it/s]                                                                                               \n"
     ]
    },
    {
     "name": "stdout",
     "output_type": "stream",
     "text": [
      "Saving results in D:\\Sidevideos\\AR35MOTOR\\2022_02_04...\n",
      "Saving csv poses!\n",
      "Starting to analyze %  D:\\Sidevideos\\AR35MOTOR\\2022_02_04\\30.avi\n",
      "Loading  D:\\Sidevideos\\AR35MOTOR\\2022_02_04\\30.avi\n",
      "Duration of video [s]:  12.5 , recorded with  40.0 fps!\n",
      "Overall # of frames:  500  found with (before cropping) frame dimensions:  800 480\n",
      "Starting to extract posture\n"
     ]
    },
    {
     "name": "stderr",
     "output_type": "stream",
     "text": [
      "510it [00:24, 20.51it/s]                                                                                               \n"
     ]
    },
    {
     "name": "stdout",
     "output_type": "stream",
     "text": [
      "Saving results in D:\\Sidevideos\\AR35MOTOR\\2022_02_04...\n",
      "Saving csv poses!\n",
      "Starting to analyze %  D:\\Sidevideos\\AR35MOTOR\\2022_02_04\\300.avi\n",
      "Loading  D:\\Sidevideos\\AR35MOTOR\\2022_02_04\\300.avi\n",
      "Duration of video [s]:  12.5 , recorded with  40.0 fps!\n",
      "Overall # of frames:  500  found with (before cropping) frame dimensions:  800 480\n",
      "Starting to extract posture\n"
     ]
    },
    {
     "name": "stderr",
     "output_type": "stream",
     "text": [
      "510it [00:25, 20.38it/s]                                                                                               \n"
     ]
    },
    {
     "name": "stdout",
     "output_type": "stream",
     "text": [
      "Saving results in D:\\Sidevideos\\AR35MOTOR\\2022_02_04...\n",
      "Saving csv poses!\n",
      "Starting to analyze %  D:\\Sidevideos\\AR35MOTOR\\2022_02_04\\301.avi\n",
      "Loading  D:\\Sidevideos\\AR35MOTOR\\2022_02_04\\301.avi\n",
      "Duration of video [s]:  12.5 , recorded with  40.0 fps!\n",
      "Overall # of frames:  500  found with (before cropping) frame dimensions:  800 480\n",
      "Starting to extract posture\n"
     ]
    },
    {
     "name": "stderr",
     "output_type": "stream",
     "text": [
      "510it [00:25, 20.33it/s]                                                                                               \n"
     ]
    },
    {
     "name": "stdout",
     "output_type": "stream",
     "text": [
      "Saving results in D:\\Sidevideos\\AR35MOTOR\\2022_02_04...\n",
      "Saving csv poses!\n",
      "Starting to analyze %  D:\\Sidevideos\\AR35MOTOR\\2022_02_04\\302.avi\n",
      "Loading  D:\\Sidevideos\\AR35MOTOR\\2022_02_04\\302.avi\n",
      "Duration of video [s]:  12.5 , recorded with  40.0 fps!\n",
      "Overall # of frames:  500  found with (before cropping) frame dimensions:  800 480\n",
      "Starting to extract posture\n"
     ]
    },
    {
     "name": "stderr",
     "output_type": "stream",
     "text": [
      "510it [00:24, 20.60it/s]                                                                                               \n"
     ]
    },
    {
     "name": "stdout",
     "output_type": "stream",
     "text": [
      "Saving results in D:\\Sidevideos\\AR35MOTOR\\2022_02_04...\n",
      "Saving csv poses!\n",
      "Starting to analyze %  D:\\Sidevideos\\AR35MOTOR\\2022_02_04\\303.avi\n",
      "Loading  D:\\Sidevideos\\AR35MOTOR\\2022_02_04\\303.avi\n",
      "Duration of video [s]:  12.5 , recorded with  40.0 fps!\n",
      "Overall # of frames:  500  found with (before cropping) frame dimensions:  800 480\n",
      "Starting to extract posture\n"
     ]
    },
    {
     "name": "stderr",
     "output_type": "stream",
     "text": [
      "510it [00:24, 20.50it/s]                                                                                               \n"
     ]
    },
    {
     "name": "stdout",
     "output_type": "stream",
     "text": [
      "Saving results in D:\\Sidevideos\\AR35MOTOR\\2022_02_04...\n",
      "Saving csv poses!\n",
      "Starting to analyze %  D:\\Sidevideos\\AR35MOTOR\\2022_02_04\\304.avi\n",
      "Loading  D:\\Sidevideos\\AR35MOTOR\\2022_02_04\\304.avi\n",
      "Duration of video [s]:  12.5 , recorded with  40.0 fps!\n",
      "Overall # of frames:  500  found with (before cropping) frame dimensions:  800 480\n",
      "Starting to extract posture\n"
     ]
    },
    {
     "name": "stderr",
     "output_type": "stream",
     "text": [
      "510it [00:24, 20.63it/s]                                                                                               \n"
     ]
    },
    {
     "name": "stdout",
     "output_type": "stream",
     "text": [
      "Saving results in D:\\Sidevideos\\AR35MOTOR\\2022_02_04...\n",
      "Saving csv poses!\n",
      "Starting to analyze %  D:\\Sidevideos\\AR35MOTOR\\2022_02_04\\305.avi\n",
      "Loading  D:\\Sidevideos\\AR35MOTOR\\2022_02_04\\305.avi\n",
      "Duration of video [s]:  12.5 , recorded with  40.0 fps!\n",
      "Overall # of frames:  500  found with (before cropping) frame dimensions:  800 480\n",
      "Starting to extract posture\n"
     ]
    },
    {
     "name": "stderr",
     "output_type": "stream",
     "text": [
      "510it [00:25, 20.39it/s]                                                                                               \n"
     ]
    },
    {
     "name": "stdout",
     "output_type": "stream",
     "text": [
      "Saving results in D:\\Sidevideos\\AR35MOTOR\\2022_02_04...\n",
      "Saving csv poses!\n",
      "Starting to analyze %  D:\\Sidevideos\\AR35MOTOR\\2022_02_04\\306.avi\n",
      "Loading  D:\\Sidevideos\\AR35MOTOR\\2022_02_04\\306.avi\n",
      "Duration of video [s]:  12.5 , recorded with  40.0 fps!\n",
      "Overall # of frames:  500  found with (before cropping) frame dimensions:  800 480\n",
      "Starting to extract posture\n"
     ]
    },
    {
     "name": "stderr",
     "output_type": "stream",
     "text": [
      "510it [00:25, 20.31it/s]                                                                                               \n"
     ]
    },
    {
     "name": "stdout",
     "output_type": "stream",
     "text": [
      "Saving results in D:\\Sidevideos\\AR35MOTOR\\2022_02_04...\n",
      "Saving csv poses!\n",
      "Starting to analyze %  D:\\Sidevideos\\AR35MOTOR\\2022_02_04\\307.avi\n",
      "Loading  D:\\Sidevideos\\AR35MOTOR\\2022_02_04\\307.avi\n",
      "Duration of video [s]:  12.5 , recorded with  40.0 fps!\n",
      "Overall # of frames:  500  found with (before cropping) frame dimensions:  800 480\n",
      "Starting to extract posture\n"
     ]
    },
    {
     "name": "stderr",
     "output_type": "stream",
     "text": [
      "510it [00:24, 20.57it/s]                                                                                               \n"
     ]
    },
    {
     "name": "stdout",
     "output_type": "stream",
     "text": [
      "Saving results in D:\\Sidevideos\\AR35MOTOR\\2022_02_04...\n",
      "Saving csv poses!\n",
      "Starting to analyze %  D:\\Sidevideos\\AR35MOTOR\\2022_02_04\\308.avi\n",
      "Loading  D:\\Sidevideos\\AR35MOTOR\\2022_02_04\\308.avi\n",
      "Duration of video [s]:  12.5 , recorded with  40.0 fps!\n",
      "Overall # of frames:  500  found with (before cropping) frame dimensions:  800 480\n",
      "Starting to extract posture\n"
     ]
    },
    {
     "name": "stderr",
     "output_type": "stream",
     "text": [
      "510it [00:25, 20.38it/s]                                                                                               \n"
     ]
    },
    {
     "name": "stdout",
     "output_type": "stream",
     "text": [
      "Saving results in D:\\Sidevideos\\AR35MOTOR\\2022_02_04...\n",
      "Saving csv poses!\n",
      "Starting to analyze %  D:\\Sidevideos\\AR35MOTOR\\2022_02_04\\31.avi\n",
      "Loading  D:\\Sidevideos\\AR35MOTOR\\2022_02_04\\31.avi\n",
      "Duration of video [s]:  12.5 , recorded with  40.0 fps!\n",
      "Overall # of frames:  500  found with (before cropping) frame dimensions:  800 480\n",
      "Starting to extract posture\n"
     ]
    },
    {
     "name": "stderr",
     "output_type": "stream",
     "text": [
      "510it [00:24, 20.42it/s]                                                                                               \n"
     ]
    },
    {
     "name": "stdout",
     "output_type": "stream",
     "text": [
      "Saving results in D:\\Sidevideos\\AR35MOTOR\\2022_02_04...\n",
      "Saving csv poses!\n",
      "Starting to analyze %  D:\\Sidevideos\\AR35MOTOR\\2022_02_04\\32.avi\n",
      "Loading  D:\\Sidevideos\\AR35MOTOR\\2022_02_04\\32.avi\n",
      "Duration of video [s]:  12.5 , recorded with  40.0 fps!\n",
      "Overall # of frames:  500  found with (before cropping) frame dimensions:  800 480\n",
      "Starting to extract posture\n"
     ]
    },
    {
     "name": "stderr",
     "output_type": "stream",
     "text": [
      "510it [00:24, 20.49it/s]                                                                                               \n"
     ]
    },
    {
     "name": "stdout",
     "output_type": "stream",
     "text": [
      "Saving results in D:\\Sidevideos\\AR35MOTOR\\2022_02_04...\n",
      "Saving csv poses!\n",
      "Starting to analyze %  D:\\Sidevideos\\AR35MOTOR\\2022_02_04\\33.avi\n",
      "Loading  D:\\Sidevideos\\AR35MOTOR\\2022_02_04\\33.avi\n",
      "Duration of video [s]:  12.5 , recorded with  40.0 fps!\n",
      "Overall # of frames:  500  found with (before cropping) frame dimensions:  800 480\n",
      "Starting to extract posture\n"
     ]
    },
    {
     "name": "stderr",
     "output_type": "stream",
     "text": [
      "510it [00:25, 20.39it/s]                                                                                               \n"
     ]
    },
    {
     "name": "stdout",
     "output_type": "stream",
     "text": [
      "Saving results in D:\\Sidevideos\\AR35MOTOR\\2022_02_04...\n",
      "Saving csv poses!\n",
      "Starting to analyze %  D:\\Sidevideos\\AR35MOTOR\\2022_02_04\\34.avi\n",
      "Loading  D:\\Sidevideos\\AR35MOTOR\\2022_02_04\\34.avi\n",
      "Duration of video [s]:  12.5 , recorded with  40.0 fps!\n",
      "Overall # of frames:  500  found with (before cropping) frame dimensions:  800 480\n",
      "Starting to extract posture\n"
     ]
    },
    {
     "name": "stderr",
     "output_type": "stream",
     "text": [
      "510it [00:24, 20.63it/s]                                                                                               \n"
     ]
    },
    {
     "name": "stdout",
     "output_type": "stream",
     "text": [
      "Saving results in D:\\Sidevideos\\AR35MOTOR\\2022_02_04...\n",
      "Saving csv poses!\n",
      "Starting to analyze %  D:\\Sidevideos\\AR35MOTOR\\2022_02_04\\35.avi\n",
      "Loading  D:\\Sidevideos\\AR35MOTOR\\2022_02_04\\35.avi\n",
      "Duration of video [s]:  12.5 , recorded with  40.0 fps!\n",
      "Overall # of frames:  500  found with (before cropping) frame dimensions:  800 480\n",
      "Starting to extract posture\n"
     ]
    },
    {
     "name": "stderr",
     "output_type": "stream",
     "text": [
      "510it [00:24, 20.46it/s]                                                                                               \n"
     ]
    },
    {
     "name": "stdout",
     "output_type": "stream",
     "text": [
      "Saving results in D:\\Sidevideos\\AR35MOTOR\\2022_02_04...\n",
      "Saving csv poses!\n",
      "Starting to analyze %  D:\\Sidevideos\\AR35MOTOR\\2022_02_04\\36.avi\n",
      "Loading  D:\\Sidevideos\\AR35MOTOR\\2022_02_04\\36.avi\n",
      "Duration of video [s]:  12.5 , recorded with  40.0 fps!\n",
      "Overall # of frames:  500  found with (before cropping) frame dimensions:  800 480\n",
      "Starting to extract posture\n"
     ]
    },
    {
     "name": "stderr",
     "output_type": "stream",
     "text": [
      "510it [00:25, 20.27it/s]                                                                                               \n"
     ]
    },
    {
     "name": "stdout",
     "output_type": "stream",
     "text": [
      "Saving results in D:\\Sidevideos\\AR35MOTOR\\2022_02_04...\n",
      "Saving csv poses!\n",
      "Starting to analyze %  D:\\Sidevideos\\AR35MOTOR\\2022_02_04\\37.avi\n",
      "Loading  D:\\Sidevideos\\AR35MOTOR\\2022_02_04\\37.avi\n",
      "Duration of video [s]:  12.5 , recorded with  40.0 fps!\n",
      "Overall # of frames:  500  found with (before cropping) frame dimensions:  800 480\n",
      "Starting to extract posture\n"
     ]
    },
    {
     "name": "stderr",
     "output_type": "stream",
     "text": [
      "510it [00:24, 20.58it/s]                                                                                               \n"
     ]
    },
    {
     "name": "stdout",
     "output_type": "stream",
     "text": [
      "Saving results in D:\\Sidevideos\\AR35MOTOR\\2022_02_04...\n",
      "Saving csv poses!\n",
      "Starting to analyze %  D:\\Sidevideos\\AR35MOTOR\\2022_02_04\\38.avi\n",
      "Loading  D:\\Sidevideos\\AR35MOTOR\\2022_02_04\\38.avi\n",
      "Duration of video [s]:  12.5 , recorded with  40.0 fps!\n",
      "Overall # of frames:  500  found with (before cropping) frame dimensions:  800 480\n",
      "Starting to extract posture\n"
     ]
    },
    {
     "name": "stderr",
     "output_type": "stream",
     "text": [
      "510it [00:25, 20.37it/s]                                                                                               \n"
     ]
    },
    {
     "name": "stdout",
     "output_type": "stream",
     "text": [
      "Saving results in D:\\Sidevideos\\AR35MOTOR\\2022_02_04...\n",
      "Saving csv poses!\n",
      "Starting to analyze %  D:\\Sidevideos\\AR35MOTOR\\2022_02_04\\39.avi\n",
      "Loading  D:\\Sidevideos\\AR35MOTOR\\2022_02_04\\39.avi\n",
      "Duration of video [s]:  12.5 , recorded with  40.0 fps!\n",
      "Overall # of frames:  500  found with (before cropping) frame dimensions:  800 480\n",
      "Starting to extract posture\n"
     ]
    },
    {
     "name": "stderr",
     "output_type": "stream",
     "text": [
      "510it [00:24, 20.41it/s]                                                                                               \n"
     ]
    },
    {
     "name": "stdout",
     "output_type": "stream",
     "text": [
      "Saving results in D:\\Sidevideos\\AR35MOTOR\\2022_02_04...\n",
      "Saving csv poses!\n",
      "Starting to analyze %  D:\\Sidevideos\\AR35MOTOR\\2022_02_04\\4.avi\n",
      "Loading  D:\\Sidevideos\\AR35MOTOR\\2022_02_04\\4.avi\n",
      "Duration of video [s]:  12.5 , recorded with  40.0 fps!\n",
      "Overall # of frames:  500  found with (before cropping) frame dimensions:  800 480\n",
      "Starting to extract posture\n"
     ]
    },
    {
     "name": "stderr",
     "output_type": "stream",
     "text": [
      "510it [00:24, 20.47it/s]                                                                                               \n"
     ]
    },
    {
     "name": "stdout",
     "output_type": "stream",
     "text": [
      "Saving results in D:\\Sidevideos\\AR35MOTOR\\2022_02_04...\n",
      "Saving csv poses!\n",
      "Starting to analyze %  D:\\Sidevideos\\AR35MOTOR\\2022_02_04\\40.avi\n",
      "Loading  D:\\Sidevideos\\AR35MOTOR\\2022_02_04\\40.avi\n",
      "Duration of video [s]:  12.5 , recorded with  40.0 fps!\n",
      "Overall # of frames:  500  found with (before cropping) frame dimensions:  800 480\n",
      "Starting to extract posture\n"
     ]
    },
    {
     "name": "stderr",
     "output_type": "stream",
     "text": [
      "510it [00:25, 20.28it/s]                                                                                               \n"
     ]
    },
    {
     "name": "stdout",
     "output_type": "stream",
     "text": [
      "Saving results in D:\\Sidevideos\\AR35MOTOR\\2022_02_04...\n",
      "Saving csv poses!\n",
      "Starting to analyze %  D:\\Sidevideos\\AR35MOTOR\\2022_02_04\\41.avi\n",
      "Loading  D:\\Sidevideos\\AR35MOTOR\\2022_02_04\\41.avi\n",
      "Duration of video [s]:  12.5 , recorded with  40.0 fps!\n",
      "Overall # of frames:  500  found with (before cropping) frame dimensions:  800 480\n",
      "Starting to extract posture\n"
     ]
    },
    {
     "name": "stderr",
     "output_type": "stream",
     "text": [
      "510it [00:24, 20.61it/s]                                                                                               \n"
     ]
    },
    {
     "name": "stdout",
     "output_type": "stream",
     "text": [
      "Saving results in D:\\Sidevideos\\AR35MOTOR\\2022_02_04...\n",
      "Saving csv poses!\n",
      "Starting to analyze %  D:\\Sidevideos\\AR35MOTOR\\2022_02_04\\42.avi\n",
      "Loading  D:\\Sidevideos\\AR35MOTOR\\2022_02_04\\42.avi\n",
      "Duration of video [s]:  12.5 , recorded with  40.0 fps!\n",
      "Overall # of frames:  500  found with (before cropping) frame dimensions:  800 480\n",
      "Starting to extract posture\n"
     ]
    },
    {
     "name": "stderr",
     "output_type": "stream",
     "text": [
      "510it [00:25, 20.30it/s]                                                                                               \n"
     ]
    },
    {
     "name": "stdout",
     "output_type": "stream",
     "text": [
      "Saving results in D:\\Sidevideos\\AR35MOTOR\\2022_02_04...\n",
      "Saving csv poses!\n",
      "Starting to analyze %  D:\\Sidevideos\\AR35MOTOR\\2022_02_04\\43.avi\n",
      "Loading  D:\\Sidevideos\\AR35MOTOR\\2022_02_04\\43.avi\n",
      "Duration of video [s]:  12.5 , recorded with  40.0 fps!\n",
      "Overall # of frames:  500  found with (before cropping) frame dimensions:  800 480\n",
      "Starting to extract posture\n"
     ]
    },
    {
     "name": "stderr",
     "output_type": "stream",
     "text": [
      "510it [00:25, 20.32it/s]                                                                                               \n"
     ]
    },
    {
     "name": "stdout",
     "output_type": "stream",
     "text": [
      "Saving results in D:\\Sidevideos\\AR35MOTOR\\2022_02_04...\n",
      "Saving csv poses!\n",
      "Starting to analyze %  D:\\Sidevideos\\AR35MOTOR\\2022_02_04\\44.avi\n",
      "Loading  D:\\Sidevideos\\AR35MOTOR\\2022_02_04\\44.avi\n",
      "Duration of video [s]:  12.5 , recorded with  40.0 fps!\n",
      "Overall # of frames:  500  found with (before cropping) frame dimensions:  800 480\n",
      "Starting to extract posture\n"
     ]
    },
    {
     "name": "stderr",
     "output_type": "stream",
     "text": [
      "510it [00:24, 20.50it/s]                                                                                               \n"
     ]
    },
    {
     "name": "stdout",
     "output_type": "stream",
     "text": [
      "Saving results in D:\\Sidevideos\\AR35MOTOR\\2022_02_04...\n",
      "Saving csv poses!\n",
      "Starting to analyze %  D:\\Sidevideos\\AR35MOTOR\\2022_02_04\\45.avi\n",
      "Loading  D:\\Sidevideos\\AR35MOTOR\\2022_02_04\\45.avi\n",
      "Duration of video [s]:  12.5 , recorded with  40.0 fps!\n",
      "Overall # of frames:  500  found with (before cropping) frame dimensions:  800 480\n",
      "Starting to extract posture\n"
     ]
    },
    {
     "name": "stderr",
     "output_type": "stream",
     "text": [
      "510it [00:25, 20.22it/s]                                                                                               \n"
     ]
    },
    {
     "name": "stdout",
     "output_type": "stream",
     "text": [
      "Saving results in D:\\Sidevideos\\AR35MOTOR\\2022_02_04...\n",
      "Saving csv poses!\n",
      "Starting to analyze %  D:\\Sidevideos\\AR35MOTOR\\2022_02_04\\46.avi\n",
      "Loading  D:\\Sidevideos\\AR35MOTOR\\2022_02_04\\46.avi\n",
      "Duration of video [s]:  12.5 , recorded with  40.0 fps!\n",
      "Overall # of frames:  500  found with (before cropping) frame dimensions:  800 480\n",
      "Starting to extract posture\n"
     ]
    },
    {
     "name": "stderr",
     "output_type": "stream",
     "text": [
      "510it [00:24, 20.49it/s]                                                                                               \n"
     ]
    },
    {
     "name": "stdout",
     "output_type": "stream",
     "text": [
      "Saving results in D:\\Sidevideos\\AR35MOTOR\\2022_02_04...\n",
      "Saving csv poses!\n",
      "Starting to analyze %  D:\\Sidevideos\\AR35MOTOR\\2022_02_04\\47.avi\n",
      "Loading  D:\\Sidevideos\\AR35MOTOR\\2022_02_04\\47.avi\n",
      "Duration of video [s]:  12.5 , recorded with  40.0 fps!\n",
      "Overall # of frames:  500  found with (before cropping) frame dimensions:  800 480\n",
      "Starting to extract posture\n"
     ]
    },
    {
     "name": "stderr",
     "output_type": "stream",
     "text": [
      "510it [00:24, 20.53it/s]                                                                                               \n"
     ]
    },
    {
     "name": "stdout",
     "output_type": "stream",
     "text": [
      "Saving results in D:\\Sidevideos\\AR35MOTOR\\2022_02_04...\n",
      "Saving csv poses!\n",
      "Starting to analyze %  D:\\Sidevideos\\AR35MOTOR\\2022_02_04\\48.avi\n",
      "Loading  D:\\Sidevideos\\AR35MOTOR\\2022_02_04\\48.avi\n",
      "Duration of video [s]:  12.5 , recorded with  40.0 fps!\n",
      "Overall # of frames:  500  found with (before cropping) frame dimensions:  800 480\n",
      "Starting to extract posture\n"
     ]
    },
    {
     "name": "stderr",
     "output_type": "stream",
     "text": [
      "510it [00:24, 20.50it/s]                                                                                               \n"
     ]
    },
    {
     "name": "stdout",
     "output_type": "stream",
     "text": [
      "Saving results in D:\\Sidevideos\\AR35MOTOR\\2022_02_04...\n",
      "Saving csv poses!\n",
      "Starting to analyze %  D:\\Sidevideos\\AR35MOTOR\\2022_02_04\\49.avi\n",
      "Loading  D:\\Sidevideos\\AR35MOTOR\\2022_02_04\\49.avi\n",
      "Duration of video [s]:  12.5 , recorded with  40.0 fps!\n",
      "Overall # of frames:  500  found with (before cropping) frame dimensions:  800 480\n",
      "Starting to extract posture\n"
     ]
    },
    {
     "name": "stderr",
     "output_type": "stream",
     "text": [
      "510it [00:24, 20.61it/s]                                                                                               \n"
     ]
    },
    {
     "name": "stdout",
     "output_type": "stream",
     "text": [
      "Saving results in D:\\Sidevideos\\AR35MOTOR\\2022_02_04...\n",
      "Saving csv poses!\n",
      "Starting to analyze %  D:\\Sidevideos\\AR35MOTOR\\2022_02_04\\5.avi\n",
      "Loading  D:\\Sidevideos\\AR35MOTOR\\2022_02_04\\5.avi\n",
      "Duration of video [s]:  12.5 , recorded with  40.0 fps!\n",
      "Overall # of frames:  500  found with (before cropping) frame dimensions:  800 480\n",
      "Starting to extract posture\n"
     ]
    },
    {
     "name": "stderr",
     "output_type": "stream",
     "text": [
      "510it [00:25, 20.36it/s]                                                                                               \n"
     ]
    },
    {
     "name": "stdout",
     "output_type": "stream",
     "text": [
      "Saving results in D:\\Sidevideos\\AR35MOTOR\\2022_02_04...\n",
      "Saving csv poses!\n",
      "Starting to analyze %  D:\\Sidevideos\\AR35MOTOR\\2022_02_04\\50.avi\n",
      "Loading  D:\\Sidevideos\\AR35MOTOR\\2022_02_04\\50.avi\n",
      "Duration of video [s]:  12.5 , recorded with  40.0 fps!\n",
      "Overall # of frames:  500  found with (before cropping) frame dimensions:  800 480\n",
      "Starting to extract posture\n"
     ]
    },
    {
     "name": "stderr",
     "output_type": "stream",
     "text": [
      "510it [00:25, 20.24it/s]                                                                                               \n"
     ]
    },
    {
     "name": "stdout",
     "output_type": "stream",
     "text": [
      "Saving results in D:\\Sidevideos\\AR35MOTOR\\2022_02_04...\n",
      "Saving csv poses!\n",
      "Starting to analyze %  D:\\Sidevideos\\AR35MOTOR\\2022_02_04\\51.avi\n",
      "Loading  D:\\Sidevideos\\AR35MOTOR\\2022_02_04\\51.avi\n",
      "Duration of video [s]:  12.5 , recorded with  40.0 fps!\n",
      "Overall # of frames:  500  found with (before cropping) frame dimensions:  800 480\n",
      "Starting to extract posture\n"
     ]
    },
    {
     "name": "stderr",
     "output_type": "stream",
     "text": [
      "510it [00:24, 20.49it/s]                                                                                               \n"
     ]
    },
    {
     "name": "stdout",
     "output_type": "stream",
     "text": [
      "Saving results in D:\\Sidevideos\\AR35MOTOR\\2022_02_04...\n",
      "Saving csv poses!\n",
      "Starting to analyze %  D:\\Sidevideos\\AR35MOTOR\\2022_02_04\\52.avi\n",
      "Loading  D:\\Sidevideos\\AR35MOTOR\\2022_02_04\\52.avi\n",
      "Duration of video [s]:  12.5 , recorded with  40.0 fps!\n",
      "Overall # of frames:  500  found with (before cropping) frame dimensions:  800 480\n",
      "Starting to extract posture\n"
     ]
    },
    {
     "name": "stderr",
     "output_type": "stream",
     "text": [
      "510it [00:25, 20.24it/s]                                                                                               \n"
     ]
    },
    {
     "name": "stdout",
     "output_type": "stream",
     "text": [
      "Saving results in D:\\Sidevideos\\AR35MOTOR\\2022_02_04...\n",
      "Saving csv poses!\n",
      "Starting to analyze %  D:\\Sidevideos\\AR35MOTOR\\2022_02_04\\53.avi\n",
      "Loading  D:\\Sidevideos\\AR35MOTOR\\2022_02_04\\53.avi\n",
      "Duration of video [s]:  12.5 , recorded with  40.0 fps!\n",
      "Overall # of frames:  500  found with (before cropping) frame dimensions:  800 480\n",
      "Starting to extract posture\n"
     ]
    },
    {
     "name": "stderr",
     "output_type": "stream",
     "text": [
      "510it [00:24, 20.53it/s]                                                                                               \n"
     ]
    },
    {
     "name": "stdout",
     "output_type": "stream",
     "text": [
      "Saving results in D:\\Sidevideos\\AR35MOTOR\\2022_02_04...\n",
      "Saving csv poses!\n",
      "Starting to analyze %  D:\\Sidevideos\\AR35MOTOR\\2022_02_04\\54.avi\n",
      "Loading  D:\\Sidevideos\\AR35MOTOR\\2022_02_04\\54.avi\n",
      "Duration of video [s]:  12.5 , recorded with  40.0 fps!\n",
      "Overall # of frames:  500  found with (before cropping) frame dimensions:  800 480\n",
      "Starting to extract posture\n"
     ]
    },
    {
     "name": "stderr",
     "output_type": "stream",
     "text": [
      "510it [00:24, 20.43it/s]                                                                                               \n"
     ]
    },
    {
     "name": "stdout",
     "output_type": "stream",
     "text": [
      "Saving results in D:\\Sidevideos\\AR35MOTOR\\2022_02_04...\n",
      "Saving csv poses!\n",
      "Starting to analyze %  D:\\Sidevideos\\AR35MOTOR\\2022_02_04\\55.avi\n",
      "Loading  D:\\Sidevideos\\AR35MOTOR\\2022_02_04\\55.avi\n",
      "Duration of video [s]:  12.5 , recorded with  40.0 fps!\n",
      "Overall # of frames:  500  found with (before cropping) frame dimensions:  800 480\n",
      "Starting to extract posture\n"
     ]
    },
    {
     "name": "stderr",
     "output_type": "stream",
     "text": [
      "510it [00:25, 20.24it/s]                                                                                               \n"
     ]
    },
    {
     "name": "stdout",
     "output_type": "stream",
     "text": [
      "Saving results in D:\\Sidevideos\\AR35MOTOR\\2022_02_04...\n",
      "Saving csv poses!\n",
      "Starting to analyze %  D:\\Sidevideos\\AR35MOTOR\\2022_02_04\\56.avi\n",
      "Loading  D:\\Sidevideos\\AR35MOTOR\\2022_02_04\\56.avi\n",
      "Duration of video [s]:  12.5 , recorded with  40.0 fps!\n",
      "Overall # of frames:  500  found with (before cropping) frame dimensions:  800 480\n",
      "Starting to extract posture\n"
     ]
    },
    {
     "name": "stderr",
     "output_type": "stream",
     "text": [
      "510it [00:24, 20.60it/s]                                                                                               \n"
     ]
    },
    {
     "name": "stdout",
     "output_type": "stream",
     "text": [
      "Saving results in D:\\Sidevideos\\AR35MOTOR\\2022_02_04...\n",
      "Saving csv poses!\n",
      "Starting to analyze %  D:\\Sidevideos\\AR35MOTOR\\2022_02_04\\57.avi\n",
      "Loading  D:\\Sidevideos\\AR35MOTOR\\2022_02_04\\57.avi\n",
      "Duration of video [s]:  12.5 , recorded with  40.0 fps!\n",
      "Overall # of frames:  500  found with (before cropping) frame dimensions:  800 480\n",
      "Starting to extract posture\n"
     ]
    },
    {
     "name": "stderr",
     "output_type": "stream",
     "text": [
      "510it [00:25, 20.25it/s]                                                                                               \n"
     ]
    },
    {
     "name": "stdout",
     "output_type": "stream",
     "text": [
      "Saving results in D:\\Sidevideos\\AR35MOTOR\\2022_02_04...\n",
      "Saving csv poses!\n",
      "Starting to analyze %  D:\\Sidevideos\\AR35MOTOR\\2022_02_04\\58.avi\n",
      "Loading  D:\\Sidevideos\\AR35MOTOR\\2022_02_04\\58.avi\n",
      "Duration of video [s]:  12.5 , recorded with  40.0 fps!\n",
      "Overall # of frames:  500  found with (before cropping) frame dimensions:  800 480\n",
      "Starting to extract posture\n"
     ]
    },
    {
     "name": "stderr",
     "output_type": "stream",
     "text": [
      "510it [00:25, 20.37it/s]                                                                                               \n"
     ]
    },
    {
     "name": "stdout",
     "output_type": "stream",
     "text": [
      "Saving results in D:\\Sidevideos\\AR35MOTOR\\2022_02_04...\n",
      "Saving csv poses!\n",
      "Starting to analyze %  D:\\Sidevideos\\AR35MOTOR\\2022_02_04\\59.avi\n",
      "Loading  D:\\Sidevideos\\AR35MOTOR\\2022_02_04\\59.avi\n",
      "Duration of video [s]:  12.5 , recorded with  40.0 fps!\n",
      "Overall # of frames:  500  found with (before cropping) frame dimensions:  800 480\n",
      "Starting to extract posture\n"
     ]
    },
    {
     "name": "stderr",
     "output_type": "stream",
     "text": [
      "510it [00:24, 20.46it/s]                                                                                               \n"
     ]
    },
    {
     "name": "stdout",
     "output_type": "stream",
     "text": [
      "Saving results in D:\\Sidevideos\\AR35MOTOR\\2022_02_04...\n",
      "Saving csv poses!\n",
      "Starting to analyze %  D:\\Sidevideos\\AR35MOTOR\\2022_02_04\\6.avi\n",
      "Loading  D:\\Sidevideos\\AR35MOTOR\\2022_02_04\\6.avi\n",
      "Duration of video [s]:  12.5 , recorded with  40.0 fps!\n",
      "Overall # of frames:  500  found with (before cropping) frame dimensions:  800 480\n",
      "Starting to extract posture\n"
     ]
    },
    {
     "name": "stderr",
     "output_type": "stream",
     "text": [
      "510it [00:24, 20.51it/s]                                                                                               \n"
     ]
    },
    {
     "name": "stdout",
     "output_type": "stream",
     "text": [
      "Saving results in D:\\Sidevideos\\AR35MOTOR\\2022_02_04...\n",
      "Saving csv poses!\n",
      "Starting to analyze %  D:\\Sidevideos\\AR35MOTOR\\2022_02_04\\60.avi\n",
      "Loading  D:\\Sidevideos\\AR35MOTOR\\2022_02_04\\60.avi\n",
      "Duration of video [s]:  12.5 , recorded with  40.0 fps!\n",
      "Overall # of frames:  500  found with (before cropping) frame dimensions:  800 480\n",
      "Starting to extract posture\n"
     ]
    },
    {
     "name": "stderr",
     "output_type": "stream",
     "text": [
      "510it [00:24, 20.62it/s]                                                                                               \n"
     ]
    },
    {
     "name": "stdout",
     "output_type": "stream",
     "text": [
      "Saving results in D:\\Sidevideos\\AR35MOTOR\\2022_02_04...\n",
      "Saving csv poses!\n",
      "Starting to analyze %  D:\\Sidevideos\\AR35MOTOR\\2022_02_04\\61.avi\n",
      "Loading  D:\\Sidevideos\\AR35MOTOR\\2022_02_04\\61.avi\n",
      "Duration of video [s]:  12.5 , recorded with  40.0 fps!\n",
      "Overall # of frames:  500  found with (before cropping) frame dimensions:  800 480\n",
      "Starting to extract posture\n"
     ]
    },
    {
     "name": "stderr",
     "output_type": "stream",
     "text": [
      "510it [00:25, 20.21it/s]                                                                                               \n"
     ]
    },
    {
     "name": "stdout",
     "output_type": "stream",
     "text": [
      "Saving results in D:\\Sidevideos\\AR35MOTOR\\2022_02_04...\n",
      "Saving csv poses!\n",
      "Starting to analyze %  D:\\Sidevideos\\AR35MOTOR\\2022_02_04\\62.avi\n",
      "Loading  D:\\Sidevideos\\AR35MOTOR\\2022_02_04\\62.avi\n",
      "Duration of video [s]:  12.5 , recorded with  40.0 fps!\n",
      "Overall # of frames:  500  found with (before cropping) frame dimensions:  800 480\n",
      "Starting to extract posture\n"
     ]
    },
    {
     "name": "stderr",
     "output_type": "stream",
     "text": [
      "510it [00:24, 20.46it/s]                                                                                               \n"
     ]
    },
    {
     "name": "stdout",
     "output_type": "stream",
     "text": [
      "Saving results in D:\\Sidevideos\\AR35MOTOR\\2022_02_04...\n",
      "Saving csv poses!\n",
      "Starting to analyze %  D:\\Sidevideos\\AR35MOTOR\\2022_02_04\\63.avi\n",
      "Loading  D:\\Sidevideos\\AR35MOTOR\\2022_02_04\\63.avi\n",
      "Duration of video [s]:  12.5 , recorded with  40.0 fps!\n",
      "Overall # of frames:  500  found with (before cropping) frame dimensions:  800 480\n",
      "Starting to extract posture\n"
     ]
    },
    {
     "name": "stderr",
     "output_type": "stream",
     "text": [
      "510it [00:24, 20.53it/s]                                                                                               \n"
     ]
    },
    {
     "name": "stdout",
     "output_type": "stream",
     "text": [
      "Saving results in D:\\Sidevideos\\AR35MOTOR\\2022_02_04...\n",
      "Saving csv poses!\n",
      "Starting to analyze %  D:\\Sidevideos\\AR35MOTOR\\2022_02_04\\64.avi\n",
      "Loading  D:\\Sidevideos\\AR35MOTOR\\2022_02_04\\64.avi\n",
      "Duration of video [s]:  12.5 , recorded with  40.0 fps!\n",
      "Overall # of frames:  500  found with (before cropping) frame dimensions:  800 480\n",
      "Starting to extract posture\n"
     ]
    },
    {
     "name": "stderr",
     "output_type": "stream",
     "text": [
      "510it [00:25, 20.33it/s]                                                                                               \n"
     ]
    },
    {
     "name": "stdout",
     "output_type": "stream",
     "text": [
      "Saving results in D:\\Sidevideos\\AR35MOTOR\\2022_02_04...\n",
      "Saving csv poses!\n",
      "Starting to analyze %  D:\\Sidevideos\\AR35MOTOR\\2022_02_04\\65.avi\n",
      "Loading  D:\\Sidevideos\\AR35MOTOR\\2022_02_04\\65.avi\n",
      "Duration of video [s]:  12.5 , recorded with  40.0 fps!\n",
      "Overall # of frames:  500  found with (before cropping) frame dimensions:  800 480\n",
      "Starting to extract posture\n"
     ]
    },
    {
     "name": "stderr",
     "output_type": "stream",
     "text": [
      "510it [00:25, 20.30it/s]                                                                                               \n"
     ]
    },
    {
     "name": "stdout",
     "output_type": "stream",
     "text": [
      "Saving results in D:\\Sidevideos\\AR35MOTOR\\2022_02_04...\n",
      "Saving csv poses!\n",
      "Starting to analyze %  D:\\Sidevideos\\AR35MOTOR\\2022_02_04\\66.avi\n",
      "Loading  D:\\Sidevideos\\AR35MOTOR\\2022_02_04\\66.avi\n",
      "Duration of video [s]:  12.5 , recorded with  40.0 fps!\n",
      "Overall # of frames:  500  found with (before cropping) frame dimensions:  800 480\n",
      "Starting to extract posture\n"
     ]
    },
    {
     "name": "stderr",
     "output_type": "stream",
     "text": [
      "510it [00:24, 20.51it/s]                                                                                               \n"
     ]
    },
    {
     "name": "stdout",
     "output_type": "stream",
     "text": [
      "Saving results in D:\\Sidevideos\\AR35MOTOR\\2022_02_04...\n",
      "Saving csv poses!\n",
      "Starting to analyze %  D:\\Sidevideos\\AR35MOTOR\\2022_02_04\\67.avi\n",
      "Loading  D:\\Sidevideos\\AR35MOTOR\\2022_02_04\\67.avi\n",
      "Duration of video [s]:  12.5 , recorded with  40.0 fps!\n",
      "Overall # of frames:  500  found with (before cropping) frame dimensions:  800 480\n",
      "Starting to extract posture\n"
     ]
    },
    {
     "name": "stderr",
     "output_type": "stream",
     "text": [
      "510it [00:25, 20.26it/s]                                                                                               \n"
     ]
    },
    {
     "name": "stdout",
     "output_type": "stream",
     "text": [
      "Saving results in D:\\Sidevideos\\AR35MOTOR\\2022_02_04...\n",
      "Saving csv poses!\n",
      "Starting to analyze %  D:\\Sidevideos\\AR35MOTOR\\2022_02_04\\68.avi\n",
      "Loading  D:\\Sidevideos\\AR35MOTOR\\2022_02_04\\68.avi\n",
      "Duration of video [s]:  12.5 , recorded with  40.0 fps!\n",
      "Overall # of frames:  500  found with (before cropping) frame dimensions:  800 480\n",
      "Starting to extract posture\n"
     ]
    },
    {
     "name": "stderr",
     "output_type": "stream",
     "text": [
      "510it [00:24, 20.49it/s]                                                                                               \n"
     ]
    },
    {
     "name": "stdout",
     "output_type": "stream",
     "text": [
      "Saving results in D:\\Sidevideos\\AR35MOTOR\\2022_02_04...\n",
      "Saving csv poses!\n",
      "Starting to analyze %  D:\\Sidevideos\\AR35MOTOR\\2022_02_04\\69.avi\n",
      "Loading  D:\\Sidevideos\\AR35MOTOR\\2022_02_04\\69.avi\n",
      "Duration of video [s]:  12.5 , recorded with  40.0 fps!\n",
      "Overall # of frames:  500  found with (before cropping) frame dimensions:  800 480\n",
      "Starting to extract posture\n"
     ]
    },
    {
     "name": "stderr",
     "output_type": "stream",
     "text": [
      "510it [00:25, 20.34it/s]                                                                                               \n"
     ]
    },
    {
     "name": "stdout",
     "output_type": "stream",
     "text": [
      "Saving results in D:\\Sidevideos\\AR35MOTOR\\2022_02_04...\n",
      "Saving csv poses!\n",
      "Starting to analyze %  D:\\Sidevideos\\AR35MOTOR\\2022_02_04\\7.avi\n",
      "Loading  D:\\Sidevideos\\AR35MOTOR\\2022_02_04\\7.avi\n",
      "Duration of video [s]:  12.5 , recorded with  40.0 fps!\n",
      "Overall # of frames:  500  found with (before cropping) frame dimensions:  800 480\n",
      "Starting to extract posture\n"
     ]
    },
    {
     "name": "stderr",
     "output_type": "stream",
     "text": [
      "510it [00:24, 20.42it/s]                                                                                               \n"
     ]
    },
    {
     "name": "stdout",
     "output_type": "stream",
     "text": [
      "Saving results in D:\\Sidevideos\\AR35MOTOR\\2022_02_04...\n",
      "Saving csv poses!\n",
      "Starting to analyze %  D:\\Sidevideos\\AR35MOTOR\\2022_02_04\\70.avi\n",
      "Loading  D:\\Sidevideos\\AR35MOTOR\\2022_02_04\\70.avi\n",
      "Duration of video [s]:  12.5 , recorded with  40.0 fps!\n",
      "Overall # of frames:  500  found with (before cropping) frame dimensions:  800 480\n",
      "Starting to extract posture\n"
     ]
    },
    {
     "name": "stderr",
     "output_type": "stream",
     "text": [
      "510it [00:24, 20.53it/s]                                                                                               \n"
     ]
    },
    {
     "name": "stdout",
     "output_type": "stream",
     "text": [
      "Saving results in D:\\Sidevideos\\AR35MOTOR\\2022_02_04...\n",
      "Saving csv poses!\n",
      "Starting to analyze %  D:\\Sidevideos\\AR35MOTOR\\2022_02_04\\71.avi\n",
      "Loading  D:\\Sidevideos\\AR35MOTOR\\2022_02_04\\71.avi\n",
      "Duration of video [s]:  12.5 , recorded with  40.0 fps!\n",
      "Overall # of frames:  500  found with (before cropping) frame dimensions:  800 480\n",
      "Starting to extract posture\n"
     ]
    },
    {
     "name": "stderr",
     "output_type": "stream",
     "text": [
      "510it [00:25, 20.34it/s]                                                                                               \n"
     ]
    },
    {
     "name": "stdout",
     "output_type": "stream",
     "text": [
      "Saving results in D:\\Sidevideos\\AR35MOTOR\\2022_02_04...\n",
      "Saving csv poses!\n",
      "Starting to analyze %  D:\\Sidevideos\\AR35MOTOR\\2022_02_04\\72.avi\n",
      "Loading  D:\\Sidevideos\\AR35MOTOR\\2022_02_04\\72.avi\n",
      "Duration of video [s]:  12.5 , recorded with  40.0 fps!\n",
      "Overall # of frames:  500  found with (before cropping) frame dimensions:  800 480\n",
      "Starting to extract posture\n"
     ]
    },
    {
     "name": "stderr",
     "output_type": "stream",
     "text": [
      "510it [00:24, 20.47it/s]                                                                                               \n"
     ]
    },
    {
     "name": "stdout",
     "output_type": "stream",
     "text": [
      "Saving results in D:\\Sidevideos\\AR35MOTOR\\2022_02_04...\n",
      "Saving csv poses!\n",
      "Starting to analyze %  D:\\Sidevideos\\AR35MOTOR\\2022_02_04\\73.avi\n",
      "Loading  D:\\Sidevideos\\AR35MOTOR\\2022_02_04\\73.avi\n",
      "Duration of video [s]:  12.5 , recorded with  40.0 fps!\n",
      "Overall # of frames:  500  found with (before cropping) frame dimensions:  800 480\n",
      "Starting to extract posture\n"
     ]
    },
    {
     "name": "stderr",
     "output_type": "stream",
     "text": [
      "510it [00:25, 20.38it/s]                                                                                               \n"
     ]
    },
    {
     "name": "stdout",
     "output_type": "stream",
     "text": [
      "Saving results in D:\\Sidevideos\\AR35MOTOR\\2022_02_04...\n",
      "Saving csv poses!\n",
      "Starting to analyze %  D:\\Sidevideos\\AR35MOTOR\\2022_02_04\\74.avi\n",
      "Loading  D:\\Sidevideos\\AR35MOTOR\\2022_02_04\\74.avi\n",
      "Duration of video [s]:  12.5 , recorded with  40.0 fps!\n",
      "Overall # of frames:  500  found with (before cropping) frame dimensions:  800 480\n",
      "Starting to extract posture\n"
     ]
    },
    {
     "name": "stderr",
     "output_type": "stream",
     "text": [
      "510it [00:25, 20.27it/s]                                                                                               \n"
     ]
    },
    {
     "name": "stdout",
     "output_type": "stream",
     "text": [
      "Saving results in D:\\Sidevideos\\AR35MOTOR\\2022_02_04...\n",
      "Saving csv poses!\n",
      "Starting to analyze %  D:\\Sidevideos\\AR35MOTOR\\2022_02_04\\75.avi\n",
      "Loading  D:\\Sidevideos\\AR35MOTOR\\2022_02_04\\75.avi\n",
      "Duration of video [s]:  12.5 , recorded with  40.0 fps!\n",
      "Overall # of frames:  500  found with (before cropping) frame dimensions:  800 480\n",
      "Starting to extract posture\n"
     ]
    },
    {
     "name": "stderr",
     "output_type": "stream",
     "text": [
      "510it [00:24, 20.51it/s]                                                                                               \n"
     ]
    },
    {
     "name": "stdout",
     "output_type": "stream",
     "text": [
      "Saving results in D:\\Sidevideos\\AR35MOTOR\\2022_02_04...\n",
      "Saving csv poses!\n",
      "Starting to analyze %  D:\\Sidevideos\\AR35MOTOR\\2022_02_04\\76.avi\n",
      "Loading  D:\\Sidevideos\\AR35MOTOR\\2022_02_04\\76.avi\n",
      "Duration of video [s]:  12.5 , recorded with  40.0 fps!\n",
      "Overall # of frames:  500  found with (before cropping) frame dimensions:  800 480\n",
      "Starting to extract posture\n"
     ]
    },
    {
     "name": "stderr",
     "output_type": "stream",
     "text": [
      "510it [00:25, 20.38it/s]                                                                                               \n"
     ]
    },
    {
     "name": "stdout",
     "output_type": "stream",
     "text": [
      "Saving results in D:\\Sidevideos\\AR35MOTOR\\2022_02_04...\n",
      "Saving csv poses!\n",
      "Starting to analyze %  D:\\Sidevideos\\AR35MOTOR\\2022_02_04\\77.avi\n",
      "Loading  D:\\Sidevideos\\AR35MOTOR\\2022_02_04\\77.avi\n",
      "Duration of video [s]:  12.5 , recorded with  40.0 fps!\n",
      "Overall # of frames:  500  found with (before cropping) frame dimensions:  800 480\n",
      "Starting to extract posture\n"
     ]
    },
    {
     "name": "stderr",
     "output_type": "stream",
     "text": [
      "510it [00:24, 20.64it/s]                                                                                               \n"
     ]
    },
    {
     "name": "stdout",
     "output_type": "stream",
     "text": [
      "Saving results in D:\\Sidevideos\\AR35MOTOR\\2022_02_04...\n",
      "Saving csv poses!\n",
      "Starting to analyze %  D:\\Sidevideos\\AR35MOTOR\\2022_02_04\\78.avi\n",
      "Loading  D:\\Sidevideos\\AR35MOTOR\\2022_02_04\\78.avi\n",
      "Duration of video [s]:  12.5 , recorded with  40.0 fps!\n",
      "Overall # of frames:  500  found with (before cropping) frame dimensions:  800 480\n",
      "Starting to extract posture\n"
     ]
    },
    {
     "name": "stderr",
     "output_type": "stream",
     "text": [
      "510it [00:24, 20.69it/s]                                                                                               \n"
     ]
    },
    {
     "name": "stdout",
     "output_type": "stream",
     "text": [
      "Saving results in D:\\Sidevideos\\AR35MOTOR\\2022_02_04...\n",
      "Saving csv poses!\n",
      "Starting to analyze %  D:\\Sidevideos\\AR35MOTOR\\2022_02_04\\79.avi\n",
      "Loading  D:\\Sidevideos\\AR35MOTOR\\2022_02_04\\79.avi\n",
      "Duration of video [s]:  12.5 , recorded with  40.0 fps!\n",
      "Overall # of frames:  500  found with (before cropping) frame dimensions:  800 480\n",
      "Starting to extract posture\n"
     ]
    },
    {
     "name": "stderr",
     "output_type": "stream",
     "text": [
      "510it [00:25, 20.29it/s]                                                                                               \n"
     ]
    },
    {
     "name": "stdout",
     "output_type": "stream",
     "text": [
      "Saving results in D:\\Sidevideos\\AR35MOTOR\\2022_02_04...\n",
      "Saving csv poses!\n",
      "Starting to analyze %  D:\\Sidevideos\\AR35MOTOR\\2022_02_04\\8.avi\n",
      "Loading  D:\\Sidevideos\\AR35MOTOR\\2022_02_04\\8.avi\n",
      "Duration of video [s]:  12.5 , recorded with  40.0 fps!\n",
      "Overall # of frames:  500  found with (before cropping) frame dimensions:  800 480\n",
      "Starting to extract posture\n"
     ]
    },
    {
     "name": "stderr",
     "output_type": "stream",
     "text": [
      "510it [00:24, 20.50it/s]                                                                                               \n"
     ]
    },
    {
     "name": "stdout",
     "output_type": "stream",
     "text": [
      "Saving results in D:\\Sidevideos\\AR35MOTOR\\2022_02_04...\n",
      "Saving csv poses!\n",
      "Starting to analyze %  D:\\Sidevideos\\AR35MOTOR\\2022_02_04\\80.avi\n",
      "Loading  D:\\Sidevideos\\AR35MOTOR\\2022_02_04\\80.avi\n",
      "Duration of video [s]:  12.5 , recorded with  40.0 fps!\n",
      "Overall # of frames:  500  found with (before cropping) frame dimensions:  800 480\n",
      "Starting to extract posture\n"
     ]
    },
    {
     "name": "stderr",
     "output_type": "stream",
     "text": [
      "510it [00:25, 20.36it/s]                                                                                               \n"
     ]
    },
    {
     "name": "stdout",
     "output_type": "stream",
     "text": [
      "Saving results in D:\\Sidevideos\\AR35MOTOR\\2022_02_04...\n",
      "Saving csv poses!\n",
      "Starting to analyze %  D:\\Sidevideos\\AR35MOTOR\\2022_02_04\\81.avi\n",
      "Loading  D:\\Sidevideos\\AR35MOTOR\\2022_02_04\\81.avi\n",
      "Duration of video [s]:  12.5 , recorded with  40.0 fps!\n",
      "Overall # of frames:  500  found with (before cropping) frame dimensions:  800 480\n",
      "Starting to extract posture\n"
     ]
    },
    {
     "name": "stderr",
     "output_type": "stream",
     "text": [
      "510it [00:24, 20.55it/s]                                                                                               \n"
     ]
    },
    {
     "name": "stdout",
     "output_type": "stream",
     "text": [
      "Saving results in D:\\Sidevideos\\AR35MOTOR\\2022_02_04...\n",
      "Saving csv poses!\n",
      "Starting to analyze %  D:\\Sidevideos\\AR35MOTOR\\2022_02_04\\82.avi\n",
      "Loading  D:\\Sidevideos\\AR35MOTOR\\2022_02_04\\82.avi\n",
      "Duration of video [s]:  12.5 , recorded with  40.0 fps!\n",
      "Overall # of frames:  500  found with (before cropping) frame dimensions:  800 480\n",
      "Starting to extract posture\n"
     ]
    },
    {
     "name": "stderr",
     "output_type": "stream",
     "text": [
      "510it [00:24, 20.56it/s]                                                                                               \n"
     ]
    },
    {
     "name": "stdout",
     "output_type": "stream",
     "text": [
      "Saving results in D:\\Sidevideos\\AR35MOTOR\\2022_02_04...\n",
      "Saving csv poses!\n",
      "Starting to analyze %  D:\\Sidevideos\\AR35MOTOR\\2022_02_04\\83.avi\n",
      "Loading  D:\\Sidevideos\\AR35MOTOR\\2022_02_04\\83.avi\n",
      "Duration of video [s]:  12.5 , recorded with  40.0 fps!\n",
      "Overall # of frames:  500  found with (before cropping) frame dimensions:  800 480\n",
      "Starting to extract posture\n"
     ]
    },
    {
     "name": "stderr",
     "output_type": "stream",
     "text": [
      "510it [00:25, 20.14it/s]                                                                                               \n"
     ]
    },
    {
     "name": "stdout",
     "output_type": "stream",
     "text": [
      "Saving results in D:\\Sidevideos\\AR35MOTOR\\2022_02_04...\n",
      "Saving csv poses!\n",
      "Starting to analyze %  D:\\Sidevideos\\AR35MOTOR\\2022_02_04\\84.avi\n",
      "Loading  D:\\Sidevideos\\AR35MOTOR\\2022_02_04\\84.avi\n",
      "Duration of video [s]:  12.5 , recorded with  40.0 fps!\n",
      "Overall # of frames:  500  found with (before cropping) frame dimensions:  800 480\n",
      "Starting to extract posture\n"
     ]
    },
    {
     "name": "stderr",
     "output_type": "stream",
     "text": [
      "510it [00:24, 20.43it/s]                                                                                               \n"
     ]
    },
    {
     "name": "stdout",
     "output_type": "stream",
     "text": [
      "Saving results in D:\\Sidevideos\\AR35MOTOR\\2022_02_04...\n",
      "Saving csv poses!\n",
      "Starting to analyze %  D:\\Sidevideos\\AR35MOTOR\\2022_02_04\\85.avi\n",
      "Loading  D:\\Sidevideos\\AR35MOTOR\\2022_02_04\\85.avi\n",
      "Duration of video [s]:  12.5 , recorded with  40.0 fps!\n",
      "Overall # of frames:  500  found with (before cropping) frame dimensions:  800 480\n",
      "Starting to extract posture\n"
     ]
    },
    {
     "name": "stderr",
     "output_type": "stream",
     "text": [
      "510it [00:24, 20.50it/s]                                                                                               \n"
     ]
    },
    {
     "name": "stdout",
     "output_type": "stream",
     "text": [
      "Saving results in D:\\Sidevideos\\AR35MOTOR\\2022_02_04...\n",
      "Saving csv poses!\n",
      "Starting to analyze %  D:\\Sidevideos\\AR35MOTOR\\2022_02_04\\86.avi\n",
      "Loading  D:\\Sidevideos\\AR35MOTOR\\2022_02_04\\86.avi\n",
      "Duration of video [s]:  12.5 , recorded with  40.0 fps!\n",
      "Overall # of frames:  500  found with (before cropping) frame dimensions:  800 480\n",
      "Starting to extract posture\n"
     ]
    },
    {
     "name": "stderr",
     "output_type": "stream",
     "text": [
      "510it [00:25, 20.28it/s]                                                                                               \n"
     ]
    },
    {
     "name": "stdout",
     "output_type": "stream",
     "text": [
      "Saving results in D:\\Sidevideos\\AR35MOTOR\\2022_02_04...\n",
      "Saving csv poses!\n",
      "Starting to analyze %  D:\\Sidevideos\\AR35MOTOR\\2022_02_04\\87.avi\n",
      "Loading  D:\\Sidevideos\\AR35MOTOR\\2022_02_04\\87.avi\n",
      "Duration of video [s]:  12.5 , recorded with  40.0 fps!\n",
      "Overall # of frames:  500  found with (before cropping) frame dimensions:  800 480\n",
      "Starting to extract posture\n"
     ]
    },
    {
     "name": "stderr",
     "output_type": "stream",
     "text": [
      "510it [00:24, 20.51it/s]                                                                                               \n"
     ]
    },
    {
     "name": "stdout",
     "output_type": "stream",
     "text": [
      "Saving results in D:\\Sidevideos\\AR35MOTOR\\2022_02_04...\n",
      "Saving csv poses!\n",
      "Starting to analyze %  D:\\Sidevideos\\AR35MOTOR\\2022_02_04\\88.avi\n",
      "Loading  D:\\Sidevideos\\AR35MOTOR\\2022_02_04\\88.avi\n",
      "Duration of video [s]:  12.5 , recorded with  40.0 fps!\n",
      "Overall # of frames:  500  found with (before cropping) frame dimensions:  800 480\n",
      "Starting to extract posture\n"
     ]
    },
    {
     "name": "stderr",
     "output_type": "stream",
     "text": [
      "510it [00:25, 20.39it/s]                                                                                               \n"
     ]
    },
    {
     "name": "stdout",
     "output_type": "stream",
     "text": [
      "Saving results in D:\\Sidevideos\\AR35MOTOR\\2022_02_04...\n",
      "Saving csv poses!\n",
      "Starting to analyze %  D:\\Sidevideos\\AR35MOTOR\\2022_02_04\\89.avi\n",
      "Loading  D:\\Sidevideos\\AR35MOTOR\\2022_02_04\\89.avi\n",
      "Duration of video [s]:  12.5 , recorded with  40.0 fps!\n",
      "Overall # of frames:  500  found with (before cropping) frame dimensions:  800 480\n",
      "Starting to extract posture\n"
     ]
    },
    {
     "name": "stderr",
     "output_type": "stream",
     "text": [
      "510it [00:25, 20.39it/s]                                                                                               \n"
     ]
    },
    {
     "name": "stdout",
     "output_type": "stream",
     "text": [
      "Saving results in D:\\Sidevideos\\AR35MOTOR\\2022_02_04...\n",
      "Saving csv poses!\n",
      "Starting to analyze %  D:\\Sidevideos\\AR35MOTOR\\2022_02_04\\9.avi\n",
      "Loading  D:\\Sidevideos\\AR35MOTOR\\2022_02_04\\9.avi\n",
      "Duration of video [s]:  12.5 , recorded with  40.0 fps!\n",
      "Overall # of frames:  500  found with (before cropping) frame dimensions:  800 480\n",
      "Starting to extract posture\n"
     ]
    },
    {
     "name": "stderr",
     "output_type": "stream",
     "text": [
      "510it [00:24, 20.44it/s]                                                                                               \n"
     ]
    },
    {
     "name": "stdout",
     "output_type": "stream",
     "text": [
      "Saving results in D:\\Sidevideos\\AR35MOTOR\\2022_02_04...\n",
      "Saving csv poses!\n",
      "Starting to analyze %  D:\\Sidevideos\\AR35MOTOR\\2022_02_04\\90.avi\n",
      "Loading  D:\\Sidevideos\\AR35MOTOR\\2022_02_04\\90.avi\n",
      "Duration of video [s]:  12.5 , recorded with  40.0 fps!\n",
      "Overall # of frames:  500  found with (before cropping) frame dimensions:  800 480\n",
      "Starting to extract posture\n"
     ]
    },
    {
     "name": "stderr",
     "output_type": "stream",
     "text": [
      "510it [00:25, 20.32it/s]                                                                                               \n"
     ]
    },
    {
     "name": "stdout",
     "output_type": "stream",
     "text": [
      "Saving results in D:\\Sidevideos\\AR35MOTOR\\2022_02_04...\n",
      "Saving csv poses!\n",
      "Starting to analyze %  D:\\Sidevideos\\AR35MOTOR\\2022_02_04\\91.avi\n",
      "Loading  D:\\Sidevideos\\AR35MOTOR\\2022_02_04\\91.avi\n",
      "Duration of video [s]:  12.5 , recorded with  40.0 fps!\n",
      "Overall # of frames:  500  found with (before cropping) frame dimensions:  800 480\n",
      "Starting to extract posture\n"
     ]
    },
    {
     "name": "stderr",
     "output_type": "stream",
     "text": [
      "510it [00:24, 20.72it/s]                                                                                               \n"
     ]
    },
    {
     "name": "stdout",
     "output_type": "stream",
     "text": [
      "Saving results in D:\\Sidevideos\\AR35MOTOR\\2022_02_04...\n",
      "Saving csv poses!\n",
      "Starting to analyze %  D:\\Sidevideos\\AR35MOTOR\\2022_02_04\\92.avi\n",
      "Loading  D:\\Sidevideos\\AR35MOTOR\\2022_02_04\\92.avi\n",
      "Duration of video [s]:  12.5 , recorded with  40.0 fps!\n",
      "Overall # of frames:  500  found with (before cropping) frame dimensions:  800 480\n",
      "Starting to extract posture\n"
     ]
    },
    {
     "name": "stderr",
     "output_type": "stream",
     "text": [
      "510it [00:24, 20.57it/s]                                                                                               \n"
     ]
    },
    {
     "name": "stdout",
     "output_type": "stream",
     "text": [
      "Saving results in D:\\Sidevideos\\AR35MOTOR\\2022_02_04...\n",
      "Saving csv poses!\n",
      "Starting to analyze %  D:\\Sidevideos\\AR35MOTOR\\2022_02_04\\93.avi\n",
      "Loading  D:\\Sidevideos\\AR35MOTOR\\2022_02_04\\93.avi\n",
      "Duration of video [s]:  12.5 , recorded with  40.0 fps!\n",
      "Overall # of frames:  500  found with (before cropping) frame dimensions:  800 480\n",
      "Starting to extract posture\n"
     ]
    },
    {
     "name": "stderr",
     "output_type": "stream",
     "text": [
      "510it [00:25, 20.20it/s]                                                                                               \n"
     ]
    },
    {
     "name": "stdout",
     "output_type": "stream",
     "text": [
      "Saving results in D:\\Sidevideos\\AR35MOTOR\\2022_02_04...\n",
      "Saving csv poses!\n",
      "Starting to analyze %  D:\\Sidevideos\\AR35MOTOR\\2022_02_04\\94.avi\n",
      "Loading  D:\\Sidevideos\\AR35MOTOR\\2022_02_04\\94.avi\n",
      "Duration of video [s]:  12.5 , recorded with  40.0 fps!\n",
      "Overall # of frames:  500  found with (before cropping) frame dimensions:  800 480\n",
      "Starting to extract posture\n"
     ]
    },
    {
     "name": "stderr",
     "output_type": "stream",
     "text": [
      "510it [00:25, 20.35it/s]                                                                                               \n"
     ]
    },
    {
     "name": "stdout",
     "output_type": "stream",
     "text": [
      "Saving results in D:\\Sidevideos\\AR35MOTOR\\2022_02_04...\n",
      "Saving csv poses!\n",
      "Starting to analyze %  D:\\Sidevideos\\AR35MOTOR\\2022_02_04\\95.avi\n",
      "Loading  D:\\Sidevideos\\AR35MOTOR\\2022_02_04\\95.avi\n",
      "Duration of video [s]:  12.5 , recorded with  40.0 fps!\n",
      "Overall # of frames:  500  found with (before cropping) frame dimensions:  800 480\n",
      "Starting to extract posture\n"
     ]
    },
    {
     "name": "stderr",
     "output_type": "stream",
     "text": [
      "510it [00:24, 20.58it/s]                                                                                               \n"
     ]
    },
    {
     "name": "stdout",
     "output_type": "stream",
     "text": [
      "Saving results in D:\\Sidevideos\\AR35MOTOR\\2022_02_04...\n",
      "Saving csv poses!\n",
      "Starting to analyze %  D:\\Sidevideos\\AR35MOTOR\\2022_02_04\\96.avi\n",
      "Loading  D:\\Sidevideos\\AR35MOTOR\\2022_02_04\\96.avi\n",
      "Duration of video [s]:  12.5 , recorded with  40.0 fps!\n",
      "Overall # of frames:  500  found with (before cropping) frame dimensions:  800 480\n",
      "Starting to extract posture\n"
     ]
    },
    {
     "name": "stderr",
     "output_type": "stream",
     "text": [
      "510it [00:24, 20.43it/s]                                                                                               \n"
     ]
    },
    {
     "name": "stdout",
     "output_type": "stream",
     "text": [
      "Saving results in D:\\Sidevideos\\AR35MOTOR\\2022_02_04...\n",
      "Saving csv poses!\n",
      "Starting to analyze %  D:\\Sidevideos\\AR35MOTOR\\2022_02_04\\97.avi\n",
      "Loading  D:\\Sidevideos\\AR35MOTOR\\2022_02_04\\97.avi\n",
      "Duration of video [s]:  12.5 , recorded with  40.0 fps!\n",
      "Overall # of frames:  500  found with (before cropping) frame dimensions:  800 480\n",
      "Starting to extract posture\n"
     ]
    },
    {
     "name": "stderr",
     "output_type": "stream",
     "text": [
      "510it [00:24, 20.52it/s]                                                                                               \n"
     ]
    },
    {
     "name": "stdout",
     "output_type": "stream",
     "text": [
      "Saving results in D:\\Sidevideos\\AR35MOTOR\\2022_02_04...\n",
      "Saving csv poses!\n",
      "Starting to analyze %  D:\\Sidevideos\\AR35MOTOR\\2022_02_04\\98.avi\n",
      "Loading  D:\\Sidevideos\\AR35MOTOR\\2022_02_04\\98.avi\n",
      "Duration of video [s]:  12.5 , recorded with  40.0 fps!\n",
      "Overall # of frames:  500  found with (before cropping) frame dimensions:  800 480\n",
      "Starting to extract posture\n"
     ]
    },
    {
     "name": "stderr",
     "output_type": "stream",
     "text": [
      "510it [00:25, 20.34it/s]                                                                                               \n"
     ]
    },
    {
     "name": "stdout",
     "output_type": "stream",
     "text": [
      "Saving results in D:\\Sidevideos\\AR35MOTOR\\2022_02_04...\n",
      "Saving csv poses!\n",
      "Starting to analyze %  D:\\Sidevideos\\AR35MOTOR\\2022_02_04\\99.avi\n",
      "Loading  D:\\Sidevideos\\AR35MOTOR\\2022_02_04\\99.avi\n",
      "Duration of video [s]:  12.5 , recorded with  40.0 fps!\n",
      "Overall # of frames:  500  found with (before cropping) frame dimensions:  800 480\n",
      "Starting to extract posture\n"
     ]
    },
    {
     "name": "stderr",
     "output_type": "stream",
     "text": [
      "510it [00:24, 20.55it/s]                                                                                               \n"
     ]
    },
    {
     "name": "stdout",
     "output_type": "stream",
     "text": [
      "Saving results in D:\\Sidevideos\\AR35MOTOR\\2022_02_04...\n",
      "Saving csv poses!\n",
      "The videos are analyzed. Now your research can truly start! \n",
      " You can create labeled videos with 'create_labeled_video'\n",
      "If the tracking is not satisfactory for some videos, consider expanding the training set. You can use the function 'extract_outlier_frames' to extract a few representative outlier frames.\n",
      "Filtering with median model D:\\Sidevideos\\AR35MOTOR\\2022_02_04\\0.avi\n",
      "Saving filtered csv poses!\n",
      "Filtering with median model D:\\Sidevideos\\AR35MOTOR\\2022_02_04\\1.avi\n",
      "Saving filtered csv poses!\n",
      "Filtering with median model D:\\Sidevideos\\AR35MOTOR\\2022_02_04\\10.avi\n",
      "Saving filtered csv poses!\n",
      "Filtering with median model D:\\Sidevideos\\AR35MOTOR\\2022_02_04\\100.avi\n",
      "Saving filtered csv poses!\n",
      "Filtering with median model D:\\Sidevideos\\AR35MOTOR\\2022_02_04\\101.avi\n",
      "Saving filtered csv poses!\n",
      "Filtering with median model D:\\Sidevideos\\AR35MOTOR\\2022_02_04\\102.avi\n",
      "Saving filtered csv poses!\n",
      "Filtering with median model D:\\Sidevideos\\AR35MOTOR\\2022_02_04\\103.avi\n",
      "Saving filtered csv poses!\n",
      "Filtering with median model D:\\Sidevideos\\AR35MOTOR\\2022_02_04\\104.avi\n",
      "Saving filtered csv poses!\n",
      "Filtering with median model D:\\Sidevideos\\AR35MOTOR\\2022_02_04\\105.avi\n",
      "Saving filtered csv poses!\n",
      "Filtering with median model D:\\Sidevideos\\AR35MOTOR\\2022_02_04\\106.avi\n",
      "Saving filtered csv poses!\n",
      "Filtering with median model D:\\Sidevideos\\AR35MOTOR\\2022_02_04\\107.avi\n",
      "Saving filtered csv poses!\n",
      "Filtering with median model D:\\Sidevideos\\AR35MOTOR\\2022_02_04\\108.avi\n",
      "Saving filtered csv poses!\n",
      "Filtering with median model D:\\Sidevideos\\AR35MOTOR\\2022_02_04\\109.avi\n",
      "Saving filtered csv poses!\n",
      "Filtering with median model D:\\Sidevideos\\AR35MOTOR\\2022_02_04\\11.avi\n",
      "Saving filtered csv poses!\n",
      "Filtering with median model D:\\Sidevideos\\AR35MOTOR\\2022_02_04\\110.avi\n",
      "Saving filtered csv poses!\n",
      "Filtering with median model D:\\Sidevideos\\AR35MOTOR\\2022_02_04\\111.avi\n",
      "Saving filtered csv poses!\n",
      "Filtering with median model D:\\Sidevideos\\AR35MOTOR\\2022_02_04\\112.avi\n",
      "Saving filtered csv poses!\n",
      "Filtering with median model D:\\Sidevideos\\AR35MOTOR\\2022_02_04\\113.avi\n",
      "Saving filtered csv poses!\n",
      "Filtering with median model D:\\Sidevideos\\AR35MOTOR\\2022_02_04\\114.avi\n",
      "Saving filtered csv poses!\n",
      "Filtering with median model D:\\Sidevideos\\AR35MOTOR\\2022_02_04\\115.avi\n",
      "Saving filtered csv poses!\n",
      "Filtering with median model D:\\Sidevideos\\AR35MOTOR\\2022_02_04\\116.avi\n",
      "Saving filtered csv poses!\n",
      "Filtering with median model D:\\Sidevideos\\AR35MOTOR\\2022_02_04\\117.avi\n",
      "Saving filtered csv poses!\n",
      "Filtering with median model D:\\Sidevideos\\AR35MOTOR\\2022_02_04\\118.avi\n",
      "Saving filtered csv poses!\n",
      "Filtering with median model D:\\Sidevideos\\AR35MOTOR\\2022_02_04\\119.avi\n",
      "Saving filtered csv poses!\n",
      "Filtering with median model D:\\Sidevideos\\AR35MOTOR\\2022_02_04\\12.avi\n",
      "Saving filtered csv poses!\n",
      "Filtering with median model D:\\Sidevideos\\AR35MOTOR\\2022_02_04\\120.avi\n",
      "Saving filtered csv poses!\n",
      "Filtering with median model D:\\Sidevideos\\AR35MOTOR\\2022_02_04\\121.avi\n",
      "Saving filtered csv poses!\n",
      "Filtering with median model D:\\Sidevideos\\AR35MOTOR\\2022_02_04\\122.avi\n",
      "Saving filtered csv poses!\n",
      "Filtering with median model D:\\Sidevideos\\AR35MOTOR\\2022_02_04\\123.avi\n",
      "Saving filtered csv poses!\n",
      "Filtering with median model D:\\Sidevideos\\AR35MOTOR\\2022_02_04\\124.avi\n",
      "Saving filtered csv poses!\n",
      "Filtering with median model D:\\Sidevideos\\AR35MOTOR\\2022_02_04\\125.avi\n",
      "Saving filtered csv poses!\n",
      "Filtering with median model D:\\Sidevideos\\AR35MOTOR\\2022_02_04\\126.avi\n",
      "Saving filtered csv poses!\n",
      "Filtering with median model D:\\Sidevideos\\AR35MOTOR\\2022_02_04\\127.avi\n",
      "Saving filtered csv poses!\n",
      "Filtering with median model D:\\Sidevideos\\AR35MOTOR\\2022_02_04\\128.avi\n",
      "Saving filtered csv poses!\n",
      "Filtering with median model D:\\Sidevideos\\AR35MOTOR\\2022_02_04\\129.avi\n",
      "Saving filtered csv poses!\n",
      "Filtering with median model D:\\Sidevideos\\AR35MOTOR\\2022_02_04\\13.avi\n",
      "Saving filtered csv poses!\n",
      "Filtering with median model D:\\Sidevideos\\AR35MOTOR\\2022_02_04\\130.avi\n",
      "Saving filtered csv poses!\n",
      "Filtering with median model D:\\Sidevideos\\AR35MOTOR\\2022_02_04\\131.avi\n",
      "Saving filtered csv poses!\n",
      "Filtering with median model D:\\Sidevideos\\AR35MOTOR\\2022_02_04\\132.avi\n",
      "Saving filtered csv poses!\n",
      "Filtering with median model D:\\Sidevideos\\AR35MOTOR\\2022_02_04\\133.avi\n",
      "Saving filtered csv poses!\n",
      "Filtering with median model D:\\Sidevideos\\AR35MOTOR\\2022_02_04\\134.avi\n",
      "Saving filtered csv poses!\n",
      "Filtering with median model D:\\Sidevideos\\AR35MOTOR\\2022_02_04\\135.avi\n",
      "Saving filtered csv poses!\n",
      "Filtering with median model D:\\Sidevideos\\AR35MOTOR\\2022_02_04\\136.avi\n",
      "Saving filtered csv poses!\n",
      "Filtering with median model D:\\Sidevideos\\AR35MOTOR\\2022_02_04\\137.avi\n",
      "Saving filtered csv poses!\n",
      "Filtering with median model D:\\Sidevideos\\AR35MOTOR\\2022_02_04\\138.avi\n",
      "Saving filtered csv poses!\n",
      "Filtering with median model D:\\Sidevideos\\AR35MOTOR\\2022_02_04\\139.avi\n",
      "Saving filtered csv poses!\n",
      "Filtering with median model D:\\Sidevideos\\AR35MOTOR\\2022_02_04\\14.avi\n",
      "Saving filtered csv poses!\n",
      "Filtering with median model D:\\Sidevideos\\AR35MOTOR\\2022_02_04\\140.avi\n",
      "Saving filtered csv poses!\n",
      "Filtering with median model D:\\Sidevideos\\AR35MOTOR\\2022_02_04\\141.avi\n",
      "Saving filtered csv poses!\n",
      "Filtering with median model D:\\Sidevideos\\AR35MOTOR\\2022_02_04\\142.avi\n",
      "Saving filtered csv poses!\n",
      "Filtering with median model D:\\Sidevideos\\AR35MOTOR\\2022_02_04\\143.avi\n",
      "Saving filtered csv poses!\n",
      "Filtering with median model D:\\Sidevideos\\AR35MOTOR\\2022_02_04\\144.avi\n",
      "Saving filtered csv poses!\n",
      "Filtering with median model D:\\Sidevideos\\AR35MOTOR\\2022_02_04\\145.avi\n",
      "Saving filtered csv poses!\n",
      "Filtering with median model D:\\Sidevideos\\AR35MOTOR\\2022_02_04\\146.avi\n",
      "Saving filtered csv poses!\n",
      "Filtering with median model D:\\Sidevideos\\AR35MOTOR\\2022_02_04\\147.avi\n",
      "Saving filtered csv poses!\n",
      "Filtering with median model D:\\Sidevideos\\AR35MOTOR\\2022_02_04\\148.avi\n",
      "Saving filtered csv poses!\n",
      "Filtering with median model D:\\Sidevideos\\AR35MOTOR\\2022_02_04\\149.avi\n",
      "Saving filtered csv poses!\n",
      "Filtering with median model D:\\Sidevideos\\AR35MOTOR\\2022_02_04\\15.avi\n",
      "Saving filtered csv poses!\n",
      "Filtering with median model D:\\Sidevideos\\AR35MOTOR\\2022_02_04\\150.avi\n",
      "Saving filtered csv poses!\n",
      "Filtering with median model D:\\Sidevideos\\AR35MOTOR\\2022_02_04\\151.avi\n",
      "Saving filtered csv poses!\n",
      "Filtering with median model D:\\Sidevideos\\AR35MOTOR\\2022_02_04\\152.avi\n",
      "Saving filtered csv poses!\n",
      "Filtering with median model D:\\Sidevideos\\AR35MOTOR\\2022_02_04\\153.avi\n",
      "Saving filtered csv poses!\n",
      "Filtering with median model D:\\Sidevideos\\AR35MOTOR\\2022_02_04\\154.avi\n",
      "Saving filtered csv poses!\n",
      "Filtering with median model D:\\Sidevideos\\AR35MOTOR\\2022_02_04\\155.avi\n",
      "Saving filtered csv poses!\n",
      "Filtering with median model D:\\Sidevideos\\AR35MOTOR\\2022_02_04\\156.avi\n",
      "Saving filtered csv poses!\n",
      "Filtering with median model D:\\Sidevideos\\AR35MOTOR\\2022_02_04\\157.avi\n",
      "Saving filtered csv poses!\n",
      "Filtering with median model D:\\Sidevideos\\AR35MOTOR\\2022_02_04\\158.avi\n",
      "Saving filtered csv poses!\n",
      "Filtering with median model D:\\Sidevideos\\AR35MOTOR\\2022_02_04\\159.avi\n",
      "Saving filtered csv poses!\n",
      "Filtering with median model D:\\Sidevideos\\AR35MOTOR\\2022_02_04\\16.avi\n",
      "Saving filtered csv poses!\n",
      "Filtering with median model D:\\Sidevideos\\AR35MOTOR\\2022_02_04\\160.avi\n",
      "Saving filtered csv poses!\n",
      "Filtering with median model D:\\Sidevideos\\AR35MOTOR\\2022_02_04\\161.avi\n",
      "Saving filtered csv poses!\n",
      "Filtering with median model D:\\Sidevideos\\AR35MOTOR\\2022_02_04\\162.avi\n",
      "Saving filtered csv poses!\n",
      "Filtering with median model D:\\Sidevideos\\AR35MOTOR\\2022_02_04\\163.avi\n",
      "Saving filtered csv poses!\n",
      "Filtering with median model D:\\Sidevideos\\AR35MOTOR\\2022_02_04\\164.avi\n",
      "Saving filtered csv poses!\n",
      "Filtering with median model D:\\Sidevideos\\AR35MOTOR\\2022_02_04\\165.avi\n",
      "Saving filtered csv poses!\n",
      "Filtering with median model D:\\Sidevideos\\AR35MOTOR\\2022_02_04\\166.avi\n",
      "Saving filtered csv poses!\n",
      "Filtering with median model D:\\Sidevideos\\AR35MOTOR\\2022_02_04\\167.avi\n",
      "Saving filtered csv poses!\n",
      "Filtering with median model D:\\Sidevideos\\AR35MOTOR\\2022_02_04\\168.avi\n",
      "Saving filtered csv poses!\n",
      "Filtering with median model D:\\Sidevideos\\AR35MOTOR\\2022_02_04\\169.avi\n",
      "Saving filtered csv poses!\n",
      "Filtering with median model D:\\Sidevideos\\AR35MOTOR\\2022_02_04\\17.avi\n",
      "Saving filtered csv poses!\n",
      "Filtering with median model D:\\Sidevideos\\AR35MOTOR\\2022_02_04\\170.avi\n",
      "Saving filtered csv poses!\n",
      "Filtering with median model D:\\Sidevideos\\AR35MOTOR\\2022_02_04\\171.avi\n",
      "Saving filtered csv poses!\n",
      "Filtering with median model D:\\Sidevideos\\AR35MOTOR\\2022_02_04\\172.avi\n",
      "Saving filtered csv poses!\n"
     ]
    },
    {
     "name": "stdout",
     "output_type": "stream",
     "text": [
      "Filtering with median model D:\\Sidevideos\\AR35MOTOR\\2022_02_04\\173.avi\n",
      "Saving filtered csv poses!\n",
      "Filtering with median model D:\\Sidevideos\\AR35MOTOR\\2022_02_04\\174.avi\n",
      "Saving filtered csv poses!\n",
      "Filtering with median model D:\\Sidevideos\\AR35MOTOR\\2022_02_04\\175.avi\n",
      "Saving filtered csv poses!\n",
      "Filtering with median model D:\\Sidevideos\\AR35MOTOR\\2022_02_04\\176.avi\n",
      "Saving filtered csv poses!\n",
      "Filtering with median model D:\\Sidevideos\\AR35MOTOR\\2022_02_04\\177.avi\n",
      "Saving filtered csv poses!\n",
      "Filtering with median model D:\\Sidevideos\\AR35MOTOR\\2022_02_04\\178.avi\n",
      "Saving filtered csv poses!\n",
      "Filtering with median model D:\\Sidevideos\\AR35MOTOR\\2022_02_04\\179.avi\n",
      "Saving filtered csv poses!\n",
      "Filtering with median model D:\\Sidevideos\\AR35MOTOR\\2022_02_04\\18.avi\n",
      "Saving filtered csv poses!\n",
      "Filtering with median model D:\\Sidevideos\\AR35MOTOR\\2022_02_04\\180.avi\n",
      "Saving filtered csv poses!\n",
      "Filtering with median model D:\\Sidevideos\\AR35MOTOR\\2022_02_04\\181.avi\n",
      "Saving filtered csv poses!\n",
      "Filtering with median model D:\\Sidevideos\\AR35MOTOR\\2022_02_04\\182.avi\n",
      "Saving filtered csv poses!\n",
      "Filtering with median model D:\\Sidevideos\\AR35MOTOR\\2022_02_04\\183.avi\n",
      "Saving filtered csv poses!\n",
      "Filtering with median model D:\\Sidevideos\\AR35MOTOR\\2022_02_04\\184.avi\n",
      "Saving filtered csv poses!\n",
      "Filtering with median model D:\\Sidevideos\\AR35MOTOR\\2022_02_04\\185.avi\n",
      "Saving filtered csv poses!\n",
      "Filtering with median model D:\\Sidevideos\\AR35MOTOR\\2022_02_04\\186.avi\n",
      "Saving filtered csv poses!\n",
      "Filtering with median model D:\\Sidevideos\\AR35MOTOR\\2022_02_04\\187.avi\n",
      "Saving filtered csv poses!\n",
      "Filtering with median model D:\\Sidevideos\\AR35MOTOR\\2022_02_04\\188.avi\n",
      "Saving filtered csv poses!\n",
      "Filtering with median model D:\\Sidevideos\\AR35MOTOR\\2022_02_04\\189.avi\n",
      "Saving filtered csv poses!\n",
      "Filtering with median model D:\\Sidevideos\\AR35MOTOR\\2022_02_04\\19.avi\n",
      "Saving filtered csv poses!\n",
      "Filtering with median model D:\\Sidevideos\\AR35MOTOR\\2022_02_04\\190.avi\n",
      "Saving filtered csv poses!\n",
      "Filtering with median model D:\\Sidevideos\\AR35MOTOR\\2022_02_04\\191.avi\n",
      "Saving filtered csv poses!\n",
      "Filtering with median model D:\\Sidevideos\\AR35MOTOR\\2022_02_04\\192.avi\n",
      "Saving filtered csv poses!\n",
      "Filtering with median model D:\\Sidevideos\\AR35MOTOR\\2022_02_04\\193.avi\n",
      "Saving filtered csv poses!\n",
      "Filtering with median model D:\\Sidevideos\\AR35MOTOR\\2022_02_04\\194.avi\n",
      "Saving filtered csv poses!\n",
      "Filtering with median model D:\\Sidevideos\\AR35MOTOR\\2022_02_04\\195.avi\n",
      "Saving filtered csv poses!\n",
      "Filtering with median model D:\\Sidevideos\\AR35MOTOR\\2022_02_04\\196.avi\n",
      "Saving filtered csv poses!\n",
      "Filtering with median model D:\\Sidevideos\\AR35MOTOR\\2022_02_04\\197.avi\n",
      "Saving filtered csv poses!\n",
      "Filtering with median model D:\\Sidevideos\\AR35MOTOR\\2022_02_04\\198.avi\n",
      "Saving filtered csv poses!\n",
      "Filtering with median model D:\\Sidevideos\\AR35MOTOR\\2022_02_04\\199.avi\n",
      "Saving filtered csv poses!\n",
      "Filtering with median model D:\\Sidevideos\\AR35MOTOR\\2022_02_04\\2.avi\n",
      "Saving filtered csv poses!\n",
      "Filtering with median model D:\\Sidevideos\\AR35MOTOR\\2022_02_04\\20.avi\n",
      "Saving filtered csv poses!\n",
      "Filtering with median model D:\\Sidevideos\\AR35MOTOR\\2022_02_04\\200.avi\n",
      "Saving filtered csv poses!\n",
      "Filtering with median model D:\\Sidevideos\\AR35MOTOR\\2022_02_04\\201.avi\n",
      "Saving filtered csv poses!\n",
      "Filtering with median model D:\\Sidevideos\\AR35MOTOR\\2022_02_04\\202.avi\n",
      "Saving filtered csv poses!\n",
      "Filtering with median model D:\\Sidevideos\\AR35MOTOR\\2022_02_04\\203.avi\n",
      "Saving filtered csv poses!\n",
      "Filtering with median model D:\\Sidevideos\\AR35MOTOR\\2022_02_04\\204.avi\n",
      "Saving filtered csv poses!\n",
      "Filtering with median model D:\\Sidevideos\\AR35MOTOR\\2022_02_04\\205.avi\n",
      "Saving filtered csv poses!\n",
      "Filtering with median model D:\\Sidevideos\\AR35MOTOR\\2022_02_04\\206.avi\n",
      "Saving filtered csv poses!\n",
      "Filtering with median model D:\\Sidevideos\\AR35MOTOR\\2022_02_04\\207.avi\n",
      "Saving filtered csv poses!\n",
      "Filtering with median model D:\\Sidevideos\\AR35MOTOR\\2022_02_04\\208.avi\n",
      "Saving filtered csv poses!\n",
      "Filtering with median model D:\\Sidevideos\\AR35MOTOR\\2022_02_04\\209.avi\n",
      "Saving filtered csv poses!\n",
      "Filtering with median model D:\\Sidevideos\\AR35MOTOR\\2022_02_04\\21.avi\n",
      "Saving filtered csv poses!\n",
      "Filtering with median model D:\\Sidevideos\\AR35MOTOR\\2022_02_04\\210.avi\n",
      "Saving filtered csv poses!\n",
      "Filtering with median model D:\\Sidevideos\\AR35MOTOR\\2022_02_04\\211.avi\n",
      "Saving filtered csv poses!\n",
      "Filtering with median model D:\\Sidevideos\\AR35MOTOR\\2022_02_04\\212.avi\n",
      "Saving filtered csv poses!\n",
      "Filtering with median model D:\\Sidevideos\\AR35MOTOR\\2022_02_04\\213.avi\n",
      "Saving filtered csv poses!\n",
      "Filtering with median model D:\\Sidevideos\\AR35MOTOR\\2022_02_04\\214.avi\n",
      "Saving filtered csv poses!\n",
      "Filtering with median model D:\\Sidevideos\\AR35MOTOR\\2022_02_04\\215.avi\n",
      "Saving filtered csv poses!\n",
      "Filtering with median model D:\\Sidevideos\\AR35MOTOR\\2022_02_04\\216.avi\n",
      "Saving filtered csv poses!\n",
      "Filtering with median model D:\\Sidevideos\\AR35MOTOR\\2022_02_04\\217.avi\n",
      "Saving filtered csv poses!\n",
      "Filtering with median model D:\\Sidevideos\\AR35MOTOR\\2022_02_04\\218.avi\n",
      "Saving filtered csv poses!\n",
      "Filtering with median model D:\\Sidevideos\\AR35MOTOR\\2022_02_04\\219.avi\n",
      "Saving filtered csv poses!\n",
      "Filtering with median model D:\\Sidevideos\\AR35MOTOR\\2022_02_04\\22.avi\n",
      "Saving filtered csv poses!\n",
      "Filtering with median model D:\\Sidevideos\\AR35MOTOR\\2022_02_04\\220.avi\n",
      "Saving filtered csv poses!\n",
      "Filtering with median model D:\\Sidevideos\\AR35MOTOR\\2022_02_04\\221.avi\n",
      "Saving filtered csv poses!\n",
      "Filtering with median model D:\\Sidevideos\\AR35MOTOR\\2022_02_04\\222.avi\n",
      "Saving filtered csv poses!\n",
      "Filtering with median model D:\\Sidevideos\\AR35MOTOR\\2022_02_04\\223.avi\n",
      "Saving filtered csv poses!\n",
      "Filtering with median model D:\\Sidevideos\\AR35MOTOR\\2022_02_04\\224.avi\n",
      "Saving filtered csv poses!\n",
      "Filtering with median model D:\\Sidevideos\\AR35MOTOR\\2022_02_04\\225.avi\n",
      "Saving filtered csv poses!\n",
      "Filtering with median model D:\\Sidevideos\\AR35MOTOR\\2022_02_04\\226.avi\n",
      "Saving filtered csv poses!\n",
      "Filtering with median model D:\\Sidevideos\\AR35MOTOR\\2022_02_04\\227.avi\n",
      "Saving filtered csv poses!\n",
      "Filtering with median model D:\\Sidevideos\\AR35MOTOR\\2022_02_04\\228.avi\n",
      "Saving filtered csv poses!\n",
      "Filtering with median model D:\\Sidevideos\\AR35MOTOR\\2022_02_04\\229.avi\n",
      "Saving filtered csv poses!\n",
      "Filtering with median model D:\\Sidevideos\\AR35MOTOR\\2022_02_04\\23.avi\n",
      "Saving filtered csv poses!\n",
      "Filtering with median model D:\\Sidevideos\\AR35MOTOR\\2022_02_04\\230.avi\n",
      "Saving filtered csv poses!\n",
      "Filtering with median model D:\\Sidevideos\\AR35MOTOR\\2022_02_04\\231.avi\n",
      "Saving filtered csv poses!\n",
      "Filtering with median model D:\\Sidevideos\\AR35MOTOR\\2022_02_04\\232.avi\n",
      "Saving filtered csv poses!\n",
      "Filtering with median model D:\\Sidevideos\\AR35MOTOR\\2022_02_04\\233.avi\n",
      "Saving filtered csv poses!\n",
      "Filtering with median model D:\\Sidevideos\\AR35MOTOR\\2022_02_04\\234.avi\n",
      "Saving filtered csv poses!\n",
      "Filtering with median model D:\\Sidevideos\\AR35MOTOR\\2022_02_04\\235.avi\n",
      "Saving filtered csv poses!\n",
      "Filtering with median model D:\\Sidevideos\\AR35MOTOR\\2022_02_04\\236.avi\n",
      "Saving filtered csv poses!\n",
      "Filtering with median model D:\\Sidevideos\\AR35MOTOR\\2022_02_04\\237.avi\n",
      "Saving filtered csv poses!\n",
      "Filtering with median model D:\\Sidevideos\\AR35MOTOR\\2022_02_04\\238.avi\n",
      "Saving filtered csv poses!\n",
      "Filtering with median model D:\\Sidevideos\\AR35MOTOR\\2022_02_04\\239.avi\n",
      "Saving filtered csv poses!\n",
      "Filtering with median model D:\\Sidevideos\\AR35MOTOR\\2022_02_04\\24.avi\n",
      "Saving filtered csv poses!\n",
      "Filtering with median model D:\\Sidevideos\\AR35MOTOR\\2022_02_04\\240.avi\n",
      "Saving filtered csv poses!\n",
      "Filtering with median model D:\\Sidevideos\\AR35MOTOR\\2022_02_04\\241.avi\n",
      "Saving filtered csv poses!\n",
      "Filtering with median model D:\\Sidevideos\\AR35MOTOR\\2022_02_04\\242.avi\n",
      "Saving filtered csv poses!\n",
      "Filtering with median model D:\\Sidevideos\\AR35MOTOR\\2022_02_04\\243.avi\n",
      "Saving filtered csv poses!\n",
      "Filtering with median model D:\\Sidevideos\\AR35MOTOR\\2022_02_04\\244.avi\n",
      "Saving filtered csv poses!\n",
      "Filtering with median model D:\\Sidevideos\\AR35MOTOR\\2022_02_04\\245.avi\n",
      "Saving filtered csv poses!\n",
      "Filtering with median model D:\\Sidevideos\\AR35MOTOR\\2022_02_04\\246.avi\n",
      "Saving filtered csv poses!\n",
      "Filtering with median model D:\\Sidevideos\\AR35MOTOR\\2022_02_04\\247.avi\n",
      "Saving filtered csv poses!\n",
      "Filtering with median model D:\\Sidevideos\\AR35MOTOR\\2022_02_04\\248.avi\n",
      "Saving filtered csv poses!\n",
      "Filtering with median model D:\\Sidevideos\\AR35MOTOR\\2022_02_04\\249.avi\n",
      "Saving filtered csv poses!\n"
     ]
    },
    {
     "name": "stdout",
     "output_type": "stream",
     "text": [
      "Filtering with median model D:\\Sidevideos\\AR35MOTOR\\2022_02_04\\25.avi\n",
      "Saving filtered csv poses!\n",
      "Filtering with median model D:\\Sidevideos\\AR35MOTOR\\2022_02_04\\250.avi\n",
      "Saving filtered csv poses!\n",
      "Filtering with median model D:\\Sidevideos\\AR35MOTOR\\2022_02_04\\251.avi\n",
      "Saving filtered csv poses!\n",
      "Filtering with median model D:\\Sidevideos\\AR35MOTOR\\2022_02_04\\252.avi\n",
      "Saving filtered csv poses!\n",
      "Filtering with median model D:\\Sidevideos\\AR35MOTOR\\2022_02_04\\253.avi\n",
      "Saving filtered csv poses!\n",
      "Filtering with median model D:\\Sidevideos\\AR35MOTOR\\2022_02_04\\254.avi\n",
      "Saving filtered csv poses!\n",
      "Filtering with median model D:\\Sidevideos\\AR35MOTOR\\2022_02_04\\255.avi\n",
      "Saving filtered csv poses!\n",
      "Filtering with median model D:\\Sidevideos\\AR35MOTOR\\2022_02_04\\256.avi\n",
      "Saving filtered csv poses!\n",
      "Filtering with median model D:\\Sidevideos\\AR35MOTOR\\2022_02_04\\257.avi\n",
      "Saving filtered csv poses!\n",
      "Filtering with median model D:\\Sidevideos\\AR35MOTOR\\2022_02_04\\258.avi\n",
      "Saving filtered csv poses!\n",
      "Filtering with median model D:\\Sidevideos\\AR35MOTOR\\2022_02_04\\259.avi\n",
      "Saving filtered csv poses!\n",
      "Filtering with median model D:\\Sidevideos\\AR35MOTOR\\2022_02_04\\26.avi\n",
      "Saving filtered csv poses!\n",
      "Filtering with median model D:\\Sidevideos\\AR35MOTOR\\2022_02_04\\260.avi\n",
      "Saving filtered csv poses!\n",
      "Filtering with median model D:\\Sidevideos\\AR35MOTOR\\2022_02_04\\261.avi\n",
      "Saving filtered csv poses!\n",
      "Filtering with median model D:\\Sidevideos\\AR35MOTOR\\2022_02_04\\262.avi\n",
      "Saving filtered csv poses!\n",
      "Filtering with median model D:\\Sidevideos\\AR35MOTOR\\2022_02_04\\263.avi\n",
      "Saving filtered csv poses!\n",
      "Filtering with median model D:\\Sidevideos\\AR35MOTOR\\2022_02_04\\264.avi\n",
      "Saving filtered csv poses!\n",
      "Filtering with median model D:\\Sidevideos\\AR35MOTOR\\2022_02_04\\265.avi\n",
      "Saving filtered csv poses!\n",
      "Filtering with median model D:\\Sidevideos\\AR35MOTOR\\2022_02_04\\266.avi\n",
      "Saving filtered csv poses!\n",
      "Filtering with median model D:\\Sidevideos\\AR35MOTOR\\2022_02_04\\267.avi\n",
      "Saving filtered csv poses!\n",
      "Filtering with median model D:\\Sidevideos\\AR35MOTOR\\2022_02_04\\268.avi\n",
      "Saving filtered csv poses!\n",
      "Filtering with median model D:\\Sidevideos\\AR35MOTOR\\2022_02_04\\269.avi\n",
      "Saving filtered csv poses!\n",
      "Filtering with median model D:\\Sidevideos\\AR35MOTOR\\2022_02_04\\27.avi\n",
      "Saving filtered csv poses!\n",
      "Filtering with median model D:\\Sidevideos\\AR35MOTOR\\2022_02_04\\270.avi\n",
      "Saving filtered csv poses!\n",
      "Filtering with median model D:\\Sidevideos\\AR35MOTOR\\2022_02_04\\271.avi\n",
      "Saving filtered csv poses!\n",
      "Filtering with median model D:\\Sidevideos\\AR35MOTOR\\2022_02_04\\272.avi\n",
      "Saving filtered csv poses!\n",
      "Filtering with median model D:\\Sidevideos\\AR35MOTOR\\2022_02_04\\273.avi\n",
      "Saving filtered csv poses!\n",
      "Filtering with median model D:\\Sidevideos\\AR35MOTOR\\2022_02_04\\274.avi\n",
      "Saving filtered csv poses!\n",
      "Filtering with median model D:\\Sidevideos\\AR35MOTOR\\2022_02_04\\275.avi\n",
      "Saving filtered csv poses!\n",
      "Filtering with median model D:\\Sidevideos\\AR35MOTOR\\2022_02_04\\276.avi\n",
      "Saving filtered csv poses!\n",
      "Filtering with median model D:\\Sidevideos\\AR35MOTOR\\2022_02_04\\277.avi\n",
      "Saving filtered csv poses!\n",
      "Filtering with median model D:\\Sidevideos\\AR35MOTOR\\2022_02_04\\278.avi\n",
      "Saving filtered csv poses!\n",
      "Filtering with median model D:\\Sidevideos\\AR35MOTOR\\2022_02_04\\279.avi\n",
      "Saving filtered csv poses!\n",
      "Filtering with median model D:\\Sidevideos\\AR35MOTOR\\2022_02_04\\28.avi\n",
      "Saving filtered csv poses!\n",
      "Filtering with median model D:\\Sidevideos\\AR35MOTOR\\2022_02_04\\280.avi\n",
      "Saving filtered csv poses!\n",
      "Filtering with median model D:\\Sidevideos\\AR35MOTOR\\2022_02_04\\281.avi\n",
      "Saving filtered csv poses!\n",
      "Filtering with median model D:\\Sidevideos\\AR35MOTOR\\2022_02_04\\282.avi\n",
      "Saving filtered csv poses!\n",
      "Filtering with median model D:\\Sidevideos\\AR35MOTOR\\2022_02_04\\283.avi\n",
      "Saving filtered csv poses!\n",
      "Filtering with median model D:\\Sidevideos\\AR35MOTOR\\2022_02_04\\284.avi\n",
      "Saving filtered csv poses!\n",
      "Filtering with median model D:\\Sidevideos\\AR35MOTOR\\2022_02_04\\285.avi\n",
      "Saving filtered csv poses!\n",
      "Filtering with median model D:\\Sidevideos\\AR35MOTOR\\2022_02_04\\286.avi\n",
      "Saving filtered csv poses!\n",
      "Filtering with median model D:\\Sidevideos\\AR35MOTOR\\2022_02_04\\287.avi\n",
      "Saving filtered csv poses!\n",
      "Filtering with median model D:\\Sidevideos\\AR35MOTOR\\2022_02_04\\288.avi\n",
      "Saving filtered csv poses!\n",
      "Filtering with median model D:\\Sidevideos\\AR35MOTOR\\2022_02_04\\289.avi\n",
      "Saving filtered csv poses!\n",
      "Filtering with median model D:\\Sidevideos\\AR35MOTOR\\2022_02_04\\29.avi\n",
      "Saving filtered csv poses!\n",
      "Filtering with median model D:\\Sidevideos\\AR35MOTOR\\2022_02_04\\290.avi\n",
      "Saving filtered csv poses!\n",
      "Filtering with median model D:\\Sidevideos\\AR35MOTOR\\2022_02_04\\291.avi\n",
      "Saving filtered csv poses!\n",
      "Filtering with median model D:\\Sidevideos\\AR35MOTOR\\2022_02_04\\292.avi\n",
      "Saving filtered csv poses!\n",
      "Filtering with median model D:\\Sidevideos\\AR35MOTOR\\2022_02_04\\293.avi\n",
      "Saving filtered csv poses!\n",
      "Filtering with median model D:\\Sidevideos\\AR35MOTOR\\2022_02_04\\294.avi\n",
      "Saving filtered csv poses!\n",
      "Filtering with median model D:\\Sidevideos\\AR35MOTOR\\2022_02_04\\295.avi\n",
      "Saving filtered csv poses!\n",
      "Filtering with median model D:\\Sidevideos\\AR35MOTOR\\2022_02_04\\296.avi\n",
      "Saving filtered csv poses!\n",
      "Filtering with median model D:\\Sidevideos\\AR35MOTOR\\2022_02_04\\297.avi\n",
      "Saving filtered csv poses!\n",
      "Filtering with median model D:\\Sidevideos\\AR35MOTOR\\2022_02_04\\298.avi\n",
      "Saving filtered csv poses!\n",
      "Filtering with median model D:\\Sidevideos\\AR35MOTOR\\2022_02_04\\299.avi\n",
      "Saving filtered csv poses!\n",
      "Filtering with median model D:\\Sidevideos\\AR35MOTOR\\2022_02_04\\3.avi\n",
      "Saving filtered csv poses!\n",
      "Filtering with median model D:\\Sidevideos\\AR35MOTOR\\2022_02_04\\30.avi\n",
      "Saving filtered csv poses!\n",
      "Filtering with median model D:\\Sidevideos\\AR35MOTOR\\2022_02_04\\300.avi\n",
      "Saving filtered csv poses!\n",
      "Filtering with median model D:\\Sidevideos\\AR35MOTOR\\2022_02_04\\301.avi\n",
      "Saving filtered csv poses!\n",
      "Filtering with median model D:\\Sidevideos\\AR35MOTOR\\2022_02_04\\302.avi\n",
      "Saving filtered csv poses!\n",
      "Filtering with median model D:\\Sidevideos\\AR35MOTOR\\2022_02_04\\303.avi\n",
      "Saving filtered csv poses!\n",
      "Filtering with median model D:\\Sidevideos\\AR35MOTOR\\2022_02_04\\304.avi\n",
      "Saving filtered csv poses!\n",
      "Filtering with median model D:\\Sidevideos\\AR35MOTOR\\2022_02_04\\305.avi\n",
      "Saving filtered csv poses!\n",
      "Filtering with median model D:\\Sidevideos\\AR35MOTOR\\2022_02_04\\306.avi\n",
      "Saving filtered csv poses!\n",
      "Filtering with median model D:\\Sidevideos\\AR35MOTOR\\2022_02_04\\307.avi\n",
      "Saving filtered csv poses!\n",
      "Filtering with median model D:\\Sidevideos\\AR35MOTOR\\2022_02_04\\308.avi\n",
      "Saving filtered csv poses!\n",
      "Filtering with median model D:\\Sidevideos\\AR35MOTOR\\2022_02_04\\31.avi\n",
      "Saving filtered csv poses!\n",
      "Filtering with median model D:\\Sidevideos\\AR35MOTOR\\2022_02_04\\32.avi\n",
      "Saving filtered csv poses!\n",
      "Filtering with median model D:\\Sidevideos\\AR35MOTOR\\2022_02_04\\33.avi\n",
      "Saving filtered csv poses!\n",
      "Filtering with median model D:\\Sidevideos\\AR35MOTOR\\2022_02_04\\34.avi\n",
      "Saving filtered csv poses!\n",
      "Filtering with median model D:\\Sidevideos\\AR35MOTOR\\2022_02_04\\35.avi\n",
      "Saving filtered csv poses!\n",
      "Filtering with median model D:\\Sidevideos\\AR35MOTOR\\2022_02_04\\36.avi\n",
      "Saving filtered csv poses!\n",
      "Filtering with median model D:\\Sidevideos\\AR35MOTOR\\2022_02_04\\37.avi\n",
      "Saving filtered csv poses!\n",
      "Filtering with median model D:\\Sidevideos\\AR35MOTOR\\2022_02_04\\38.avi\n",
      "Saving filtered csv poses!\n",
      "Filtering with median model D:\\Sidevideos\\AR35MOTOR\\2022_02_04\\39.avi\n",
      "Saving filtered csv poses!\n",
      "Filtering with median model D:\\Sidevideos\\AR35MOTOR\\2022_02_04\\4.avi\n",
      "Saving filtered csv poses!\n",
      "Filtering with median model D:\\Sidevideos\\AR35MOTOR\\2022_02_04\\40.avi\n",
      "Saving filtered csv poses!\n",
      "Filtering with median model D:\\Sidevideos\\AR35MOTOR\\2022_02_04\\41.avi\n",
      "Saving filtered csv poses!\n",
      "Filtering with median model D:\\Sidevideos\\AR35MOTOR\\2022_02_04\\42.avi\n",
      "Saving filtered csv poses!\n",
      "Filtering with median model D:\\Sidevideos\\AR35MOTOR\\2022_02_04\\43.avi\n",
      "Saving filtered csv poses!\n",
      "Filtering with median model D:\\Sidevideos\\AR35MOTOR\\2022_02_04\\44.avi\n",
      "Saving filtered csv poses!\n",
      "Filtering with median model D:\\Sidevideos\\AR35MOTOR\\2022_02_04\\45.avi\n",
      "Saving filtered csv poses!\n",
      "Filtering with median model D:\\Sidevideos\\AR35MOTOR\\2022_02_04\\46.avi\n",
      "Saving filtered csv poses!\n",
      "Filtering with median model D:\\Sidevideos\\AR35MOTOR\\2022_02_04\\47.avi\n",
      "Saving filtered csv poses!\n",
      "Filtering with median model D:\\Sidevideos\\AR35MOTOR\\2022_02_04\\48.avi\n",
      "Saving filtered csv poses!\n",
      "Filtering with median model D:\\Sidevideos\\AR35MOTOR\\2022_02_04\\49.avi\n",
      "Saving filtered csv poses!\n",
      "Filtering with median model D:\\Sidevideos\\AR35MOTOR\\2022_02_04\\5.avi\n",
      "Saving filtered csv poses!\n",
      "Filtering with median model D:\\Sidevideos\\AR35MOTOR\\2022_02_04\\50.avi\n",
      "Saving filtered csv poses!\n",
      "Filtering with median model D:\\Sidevideos\\AR35MOTOR\\2022_02_04\\51.avi\n"
     ]
    },
    {
     "name": "stdout",
     "output_type": "stream",
     "text": [
      "Saving filtered csv poses!\n",
      "Filtering with median model D:\\Sidevideos\\AR35MOTOR\\2022_02_04\\52.avi\n",
      "Saving filtered csv poses!\n",
      "Filtering with median model D:\\Sidevideos\\AR35MOTOR\\2022_02_04\\53.avi\n",
      "Saving filtered csv poses!\n",
      "Filtering with median model D:\\Sidevideos\\AR35MOTOR\\2022_02_04\\54.avi\n",
      "Saving filtered csv poses!\n",
      "Filtering with median model D:\\Sidevideos\\AR35MOTOR\\2022_02_04\\55.avi\n",
      "Saving filtered csv poses!\n",
      "Filtering with median model D:\\Sidevideos\\AR35MOTOR\\2022_02_04\\56.avi\n",
      "Saving filtered csv poses!\n",
      "Filtering with median model D:\\Sidevideos\\AR35MOTOR\\2022_02_04\\57.avi\n",
      "Saving filtered csv poses!\n",
      "Filtering with median model D:\\Sidevideos\\AR35MOTOR\\2022_02_04\\58.avi\n",
      "Saving filtered csv poses!\n",
      "Filtering with median model D:\\Sidevideos\\AR35MOTOR\\2022_02_04\\59.avi\n",
      "Saving filtered csv poses!\n",
      "Filtering with median model D:\\Sidevideos\\AR35MOTOR\\2022_02_04\\6.avi\n",
      "Saving filtered csv poses!\n",
      "Filtering with median model D:\\Sidevideos\\AR35MOTOR\\2022_02_04\\60.avi\n",
      "Saving filtered csv poses!\n",
      "Filtering with median model D:\\Sidevideos\\AR35MOTOR\\2022_02_04\\61.avi\n",
      "Saving filtered csv poses!\n",
      "Filtering with median model D:\\Sidevideos\\AR35MOTOR\\2022_02_04\\62.avi\n",
      "Saving filtered csv poses!\n",
      "Filtering with median model D:\\Sidevideos\\AR35MOTOR\\2022_02_04\\63.avi\n",
      "Saving filtered csv poses!\n",
      "Filtering with median model D:\\Sidevideos\\AR35MOTOR\\2022_02_04\\64.avi\n",
      "Saving filtered csv poses!\n",
      "Filtering with median model D:\\Sidevideos\\AR35MOTOR\\2022_02_04\\65.avi\n",
      "Saving filtered csv poses!\n",
      "Filtering with median model D:\\Sidevideos\\AR35MOTOR\\2022_02_04\\66.avi\n",
      "Saving filtered csv poses!\n",
      "Filtering with median model D:\\Sidevideos\\AR35MOTOR\\2022_02_04\\67.avi\n",
      "Saving filtered csv poses!\n",
      "Filtering with median model D:\\Sidevideos\\AR35MOTOR\\2022_02_04\\68.avi\n",
      "Saving filtered csv poses!\n",
      "Filtering with median model D:\\Sidevideos\\AR35MOTOR\\2022_02_04\\69.avi\n",
      "Saving filtered csv poses!\n",
      "Filtering with median model D:\\Sidevideos\\AR35MOTOR\\2022_02_04\\7.avi\n",
      "Saving filtered csv poses!\n",
      "Filtering with median model D:\\Sidevideos\\AR35MOTOR\\2022_02_04\\70.avi\n",
      "Saving filtered csv poses!\n",
      "Filtering with median model D:\\Sidevideos\\AR35MOTOR\\2022_02_04\\71.avi\n",
      "Saving filtered csv poses!\n",
      "Filtering with median model D:\\Sidevideos\\AR35MOTOR\\2022_02_04\\72.avi\n",
      "Saving filtered csv poses!\n",
      "Filtering with median model D:\\Sidevideos\\AR35MOTOR\\2022_02_04\\73.avi\n",
      "Saving filtered csv poses!\n",
      "Filtering with median model D:\\Sidevideos\\AR35MOTOR\\2022_02_04\\74.avi\n",
      "Saving filtered csv poses!\n",
      "Filtering with median model D:\\Sidevideos\\AR35MOTOR\\2022_02_04\\75.avi\n",
      "Saving filtered csv poses!\n",
      "Filtering with median model D:\\Sidevideos\\AR35MOTOR\\2022_02_04\\76.avi\n",
      "Saving filtered csv poses!\n",
      "Filtering with median model D:\\Sidevideos\\AR35MOTOR\\2022_02_04\\77.avi\n",
      "Saving filtered csv poses!\n",
      "Filtering with median model D:\\Sidevideos\\AR35MOTOR\\2022_02_04\\78.avi\n",
      "Saving filtered csv poses!\n",
      "Filtering with median model D:\\Sidevideos\\AR35MOTOR\\2022_02_04\\79.avi\n",
      "Saving filtered csv poses!\n",
      "Filtering with median model D:\\Sidevideos\\AR35MOTOR\\2022_02_04\\8.avi\n",
      "Saving filtered csv poses!\n",
      "Filtering with median model D:\\Sidevideos\\AR35MOTOR\\2022_02_04\\80.avi\n",
      "Saving filtered csv poses!\n",
      "Filtering with median model D:\\Sidevideos\\AR35MOTOR\\2022_02_04\\81.avi\n",
      "Saving filtered csv poses!\n",
      "Filtering with median model D:\\Sidevideos\\AR35MOTOR\\2022_02_04\\82.avi\n",
      "Saving filtered csv poses!\n",
      "Filtering with median model D:\\Sidevideos\\AR35MOTOR\\2022_02_04\\83.avi\n",
      "Saving filtered csv poses!\n",
      "Filtering with median model D:\\Sidevideos\\AR35MOTOR\\2022_02_04\\84.avi\n",
      "Saving filtered csv poses!\n",
      "Filtering with median model D:\\Sidevideos\\AR35MOTOR\\2022_02_04\\85.avi\n",
      "Saving filtered csv poses!\n",
      "Filtering with median model D:\\Sidevideos\\AR35MOTOR\\2022_02_04\\86.avi\n",
      "Saving filtered csv poses!\n",
      "Filtering with median model D:\\Sidevideos\\AR35MOTOR\\2022_02_04\\87.avi\n",
      "Saving filtered csv poses!\n",
      "Filtering with median model D:\\Sidevideos\\AR35MOTOR\\2022_02_04\\88.avi\n",
      "Saving filtered csv poses!\n",
      "Filtering with median model D:\\Sidevideos\\AR35MOTOR\\2022_02_04\\89.avi\n",
      "Saving filtered csv poses!\n",
      "Filtering with median model D:\\Sidevideos\\AR35MOTOR\\2022_02_04\\9.avi\n",
      "Saving filtered csv poses!\n",
      "Filtering with median model D:\\Sidevideos\\AR35MOTOR\\2022_02_04\\90.avi\n",
      "Saving filtered csv poses!\n",
      "Filtering with median model D:\\Sidevideos\\AR35MOTOR\\2022_02_04\\91.avi\n",
      "Saving filtered csv poses!\n",
      "Filtering with median model D:\\Sidevideos\\AR35MOTOR\\2022_02_04\\92.avi\n",
      "Saving filtered csv poses!\n",
      "Filtering with median model D:\\Sidevideos\\AR35MOTOR\\2022_02_04\\93.avi\n",
      "Saving filtered csv poses!\n",
      "Filtering with median model D:\\Sidevideos\\AR35MOTOR\\2022_02_04\\94.avi\n",
      "Saving filtered csv poses!\n",
      "Filtering with median model D:\\Sidevideos\\AR35MOTOR\\2022_02_04\\95.avi\n",
      "Saving filtered csv poses!\n",
      "Filtering with median model D:\\Sidevideos\\AR35MOTOR\\2022_02_04\\96.avi\n",
      "Saving filtered csv poses!\n",
      "Filtering with median model D:\\Sidevideos\\AR35MOTOR\\2022_02_04\\97.avi\n",
      "Saving filtered csv poses!\n",
      "Filtering with median model D:\\Sidevideos\\AR35MOTOR\\2022_02_04\\98.avi\n",
      "Saving filtered csv poses!\n",
      "Filtering with median model D:\\Sidevideos\\AR35MOTOR\\2022_02_04\\99.avi\n",
      "Saving filtered csv poses!\n"
     ]
    }
   ],
   "source": [
    "\n",
    "path_config_file ='C:\\\\Users\\\\dklab\\\\Dropbox\\\\Notebook\\\\DLC\\\\Sideview_Aug-Arash-2021-08-04\\\\config.yaml';\n",
    "import os\n",
    "text_files = [os.path.join(Mainfolder,f) for f in os.listdir(Mainfolder) if f.endswith('.avi') and not f.endswith('L.avi') and not f.endswith('R.avi') and not f.endswith('videopoints.avi') and not f.endswith('videopoints.avi')]\n",
    "print(text_files[1])\n",
    "temp1=deeplabcut.analyze_videos(path_config_file,text_files,shuffle=1, save_as_csv=True )\n",
    "temp=deeplabcut.filterpredictions(path_config_file,text_files)"
   ]
  },
  {
   "cell_type": "code",
   "execution_count": 14,
   "metadata": {},
   "outputs": [],
   "source": [
    "import extract_eye_imagesion\n",
    "extract_eye_imagesion.extract_eye_videos(Mainfolder)"
   ]
  },
  {
   "cell_type": "markdown",
   "metadata": {},
   "source": [
    "## this step is to load analze eye data"
   ]
  },
  {
   "cell_type": "code",
   "execution_count": 2,
   "metadata": {},
   "outputs": [
    {
     "name": "stderr",
     "output_type": "stream",
     "text": [
      "C:\\Users\\DKLAb\\Anaconda3\\envs\\dlc-windowsGPU\\lib\\site-packages\\tensorflow\\python\\framework\\dtypes.py:523: FutureWarning: Passing (type, 1) or '1type' as a synonym of type is deprecated; in a future version of numpy, it will be understood as (type, (1,)) / '(1,)type'.\n",
      "  _np_qint8 = np.dtype([(\"qint8\", np.int8, 1)])\n",
      "C:\\Users\\DKLAb\\Anaconda3\\envs\\dlc-windowsGPU\\lib\\site-packages\\tensorflow\\python\\framework\\dtypes.py:524: FutureWarning: Passing (type, 1) or '1type' as a synonym of type is deprecated; in a future version of numpy, it will be understood as (type, (1,)) / '(1,)type'.\n",
      "  _np_quint8 = np.dtype([(\"quint8\", np.uint8, 1)])\n",
      "C:\\Users\\DKLAb\\Anaconda3\\envs\\dlc-windowsGPU\\lib\\site-packages\\tensorflow\\python\\framework\\dtypes.py:525: FutureWarning: Passing (type, 1) or '1type' as a synonym of type is deprecated; in a future version of numpy, it will be understood as (type, (1,)) / '(1,)type'.\n",
      "  _np_qint16 = np.dtype([(\"qint16\", np.int16, 1)])\n",
      "C:\\Users\\DKLAb\\Anaconda3\\envs\\dlc-windowsGPU\\lib\\site-packages\\tensorflow\\python\\framework\\dtypes.py:526: FutureWarning: Passing (type, 1) or '1type' as a synonym of type is deprecated; in a future version of numpy, it will be understood as (type, (1,)) / '(1,)type'.\n",
      "  _np_quint16 = np.dtype([(\"quint16\", np.uint16, 1)])\n",
      "C:\\Users\\DKLAb\\Anaconda3\\envs\\dlc-windowsGPU\\lib\\site-packages\\tensorflow\\python\\framework\\dtypes.py:527: FutureWarning: Passing (type, 1) or '1type' as a synonym of type is deprecated; in a future version of numpy, it will be understood as (type, (1,)) / '(1,)type'.\n",
      "  _np_qint32 = np.dtype([(\"qint32\", np.int32, 1)])\n",
      "C:\\Users\\DKLAb\\Anaconda3\\envs\\dlc-windowsGPU\\lib\\site-packages\\tensorflow\\python\\framework\\dtypes.py:532: FutureWarning: Passing (type, 1) or '1type' as a synonym of type is deprecated; in a future version of numpy, it will be understood as (type, (1,)) / '(1,)type'.\n",
      "  np_resource = np.dtype([(\"resource\", np.ubyte, 1)])\n",
      "C:\\Users\\DKLAb\\Anaconda3\\envs\\dlc-windowsGPU\\lib\\site-packages\\dask\\dataframe\\utils.py:15: FutureWarning: pandas.util.testing is deprecated. Use the functions in the public API at pandas.testing instead.\n",
      "  import pandas.util.testing as tm\n"
     ]
    }
   ],
   "source": [
    "import deeplabcut\n",
    "## https://github.com/AlexEMG/DeepLabCut"
   ]
  },
  {
   "cell_type": "code",
   "execution_count": null,
   "metadata": {},
   "outputs": [],
   "source": [
    "path_config_file = 'D:\\\\Sidevideos\\\\DLC\\\\Sideview4-Arash-2021-07-18\\\\config.yaml';\n",
    "#Mainfolder = 'D:\\\\videos\\\\ar32\\\\2020_12_18';\n",
    "path_config_file ='D:\\\\Sidevideos\\\\DLC\\\\Sideview_Aug-Arash-2021-08-04\\\\config.yaml';\n",
    "#Mainfolder = 'D:\\\\videos\\\\ar32\\\\2020_12_18';\n",
    "import os\n",
    "text_files = [os.path.join(Mainfolder,f) for f in os.listdir(Mainfolder) if f.endswith('.avi') and not f.endswith('L.avi') and not f.endswith('R.avi') and not f.endswith('videopoints.avi') and not f.endswith('videopoints.avi')]\n",
    "print(text_files[1])\n",
    "#text_files='C:\\\\videos\\\\ar30motor\\\\2021_04_25\\\\9.avi'\n",
    "temp1=deeplabcut.analyze_videos(path_config_file,text_files,shuffle=1, save_as_csv=True )\n",
    "temp=deeplabcut.filterpredictions(path_config_file,text_files)"
   ]
  },
  {
   "cell_type": "code",
   "execution_count": 12,
   "metadata": {},
   "outputs": [
    {
     "name": "stdout",
     "output_type": "stream",
     "text": [
      "D:\\Sidevideos\\ar34motor\\2022_01_27\\10EYE.avi\n",
      "Using snapshot-436000 for model C:\\Users\\DKLAb\\Dropbox\\Notebook\\DLC\\Eyedata4-Arash-2022-02-02\\dlc-models\\iteration-0\\Eyedata4Feb2-trainset95shuffle1\n",
      "Initializing ResNet\n",
      "Starting to analyze %  D:\\Sidevideos\\ar34motor\\2022_01_27\\0EYE.avi\n",
      "D:\\Sidevideos\\ar34motor\\2022_01_27  already exists!\n",
      "Loading  D:\\Sidevideos\\ar34motor\\2022_01_27\\0EYE.avi\n",
      "Duration of video [s]:  11.95 , recorded with  40.0 fps!\n",
      "Overall # of frames:  478  found with (before cropping) frame dimensions:  200 200\n",
      "Starting to extract posture\n",
      "Cropping based on the x1 = 60 x2 = 150 y1 = 60 y2 = 150. You can adjust the cropping coordinates in the config.yaml file.\n"
     ]
    },
    {
     "name": "stderr",
     "output_type": "stream",
     "text": [
      "480it [00:02, 161.57it/s]                                                                                              \n"
     ]
    },
    {
     "name": "stdout",
     "output_type": "stream",
     "text": [
      "Saving results in D:\\Sidevideos\\ar34motor\\2022_01_27...\n",
      "Saving csv poses!\n",
      "Starting to analyze %  D:\\Sidevideos\\ar34motor\\2022_01_27\\10EYE.avi\n",
      "D:\\Sidevideos\\ar34motor\\2022_01_27  already exists!\n",
      "Loading  D:\\Sidevideos\\ar34motor\\2022_01_27\\10EYE.avi\n",
      "Duration of video [s]:  11.38 , recorded with  40.0 fps!\n",
      "Overall # of frames:  455  found with (before cropping) frame dimensions:  200 200\n",
      "Starting to extract posture\n",
      "Cropping based on the x1 = 60 x2 = 150 y1 = 60 y2 = 150. You can adjust the cropping coordinates in the config.yaml file.\n"
     ]
    },
    {
     "name": "stderr",
     "output_type": "stream",
     "text": [
      "460it [00:02, 210.20it/s]                                                                                              \n"
     ]
    },
    {
     "name": "stdout",
     "output_type": "stream",
     "text": [
      "Saving results in D:\\Sidevideos\\ar34motor\\2022_01_27...\n",
      "Saving csv poses!\n",
      "Starting to analyze %  D:\\Sidevideos\\ar34motor\\2022_01_27\\11EYE.avi\n",
      "D:\\Sidevideos\\ar34motor\\2022_01_27  already exists!\n",
      "Loading  D:\\Sidevideos\\ar34motor\\2022_01_27\\11EYE.avi\n",
      "Duration of video [s]:  11.28 , recorded with  40.0 fps!\n",
      "Overall # of frames:  451  found with (before cropping) frame dimensions:  200 200\n",
      "Starting to extract posture\n",
      "Cropping based on the x1 = 60 x2 = 150 y1 = 60 y2 = 150. You can adjust the cropping coordinates in the config.yaml file.\n"
     ]
    },
    {
     "name": "stderr",
     "output_type": "stream",
     "text": [
      "460it [00:02, 213.80it/s]                                                                                              \n"
     ]
    },
    {
     "name": "stdout",
     "output_type": "stream",
     "text": [
      "Saving results in D:\\Sidevideos\\ar34motor\\2022_01_27...\n",
      "Saving csv poses!\n",
      "Starting to analyze %  D:\\Sidevideos\\ar34motor\\2022_01_27\\12EYE.avi\n",
      "D:\\Sidevideos\\ar34motor\\2022_01_27  already exists!\n",
      "Loading  D:\\Sidevideos\\ar34motor\\2022_01_27\\12EYE.avi\n",
      "Duration of video [s]:  11.47 , recorded with  40.0 fps!\n",
      "Overall # of frames:  459  found with (before cropping) frame dimensions:  200 200\n",
      "Starting to extract posture\n",
      "Cropping based on the x1 = 60 x2 = 150 y1 = 60 y2 = 150. You can adjust the cropping coordinates in the config.yaml file.\n"
     ]
    },
    {
     "name": "stderr",
     "output_type": "stream",
     "text": [
      "460it [00:02, 210.68it/s]                                                                                              \n"
     ]
    },
    {
     "name": "stdout",
     "output_type": "stream",
     "text": [
      "Saving results in D:\\Sidevideos\\ar34motor\\2022_01_27...\n",
      "Saving csv poses!\n",
      "Starting to analyze %  D:\\Sidevideos\\ar34motor\\2022_01_27\\13EYE.avi\n",
      "D:\\Sidevideos\\ar34motor\\2022_01_27  already exists!\n",
      "Loading  D:\\Sidevideos\\ar34motor\\2022_01_27\\13EYE.avi\n",
      "Duration of video [s]:  11.53 , recorded with  40.0 fps!\n",
      "Overall # of frames:  461  found with (before cropping) frame dimensions:  200 200\n",
      "Starting to extract posture\n",
      "Cropping based on the x1 = 60 x2 = 150 y1 = 60 y2 = 150. You can adjust the cropping coordinates in the config.yaml file.\n"
     ]
    },
    {
     "name": "stderr",
     "output_type": "stream",
     "text": [
      "470it [00:02, 212.64it/s]                                                                                              \n"
     ]
    },
    {
     "name": "stdout",
     "output_type": "stream",
     "text": [
      "Saving results in D:\\Sidevideos\\ar34motor\\2022_01_27...\n",
      "Saving csv poses!\n",
      "Starting to analyze %  D:\\Sidevideos\\ar34motor\\2022_01_27\\14EYE.avi\n",
      "D:\\Sidevideos\\ar34motor\\2022_01_27  already exists!\n",
      "Loading  D:\\Sidevideos\\ar34motor\\2022_01_27\\14EYE.avi\n",
      "Duration of video [s]:  10.8 , recorded with  40.0 fps!\n",
      "Overall # of frames:  432  found with (before cropping) frame dimensions:  200 200\n",
      "Starting to extract posture\n",
      "Cropping based on the x1 = 60 x2 = 150 y1 = 60 y2 = 150. You can adjust the cropping coordinates in the config.yaml file.\n"
     ]
    },
    {
     "name": "stderr",
     "output_type": "stream",
     "text": [
      "440it [00:02, 216.21it/s]                                                                                              \n"
     ]
    },
    {
     "name": "stdout",
     "output_type": "stream",
     "text": [
      "Saving results in D:\\Sidevideos\\ar34motor\\2022_01_27...\n",
      "Saving csv poses!\n",
      "Starting to analyze %  D:\\Sidevideos\\ar34motor\\2022_01_27\\15EYE.avi\n",
      "D:\\Sidevideos\\ar34motor\\2022_01_27  already exists!\n",
      "Loading  D:\\Sidevideos\\ar34motor\\2022_01_27\\15EYE.avi\n",
      "Duration of video [s]:  11.4 , recorded with  40.0 fps!\n",
      "Overall # of frames:  456  found with (before cropping) frame dimensions:  200 200\n",
      "Starting to extract posture\n",
      "Cropping based on the x1 = 60 x2 = 150 y1 = 60 y2 = 150. You can adjust the cropping coordinates in the config.yaml file.\n"
     ]
    },
    {
     "name": "stderr",
     "output_type": "stream",
     "text": [
      "460it [00:02, 215.20it/s]                                                                                              \n"
     ]
    },
    {
     "name": "stdout",
     "output_type": "stream",
     "text": [
      "Saving results in D:\\Sidevideos\\ar34motor\\2022_01_27...\n",
      "Saving csv poses!\n",
      "Starting to analyze %  D:\\Sidevideos\\ar34motor\\2022_01_27\\16EYE.avi\n",
      "D:\\Sidevideos\\ar34motor\\2022_01_27  already exists!\n",
      "Loading  D:\\Sidevideos\\ar34motor\\2022_01_27\\16EYE.avi\n",
      "Duration of video [s]:  12.5 , recorded with  40.0 fps!\n",
      "Overall # of frames:  500  found with (before cropping) frame dimensions:  200 200\n",
      "Starting to extract posture\n",
      "Cropping based on the x1 = 60 x2 = 150 y1 = 60 y2 = 150. You can adjust the cropping coordinates in the config.yaml file.\n"
     ]
    },
    {
     "name": "stderr",
     "output_type": "stream",
     "text": [
      "510it [00:02, 217.33it/s]                                                                                              \n"
     ]
    },
    {
     "name": "stdout",
     "output_type": "stream",
     "text": [
      "Saving results in D:\\Sidevideos\\ar34motor\\2022_01_27...\n",
      "Saving csv poses!\n",
      "Starting to analyze %  D:\\Sidevideos\\ar34motor\\2022_01_27\\17EYE.avi\n",
      "D:\\Sidevideos\\ar34motor\\2022_01_27  already exists!\n",
      "Loading  D:\\Sidevideos\\ar34motor\\2022_01_27\\17EYE.avi\n",
      "Duration of video [s]:  11.9 , recorded with  40.0 fps!\n",
      "Overall # of frames:  476  found with (before cropping) frame dimensions:  200 200\n",
      "Starting to extract posture\n",
      "Cropping based on the x1 = 60 x2 = 150 y1 = 60 y2 = 150. You can adjust the cropping coordinates in the config.yaml file.\n"
     ]
    },
    {
     "name": "stderr",
     "output_type": "stream",
     "text": [
      "480it [00:02, 214.75it/s]                                                                                              \n"
     ]
    },
    {
     "name": "stdout",
     "output_type": "stream",
     "text": [
      "Saving results in D:\\Sidevideos\\ar34motor\\2022_01_27...\n",
      "Saving csv poses!\n",
      "Starting to analyze %  D:\\Sidevideos\\ar34motor\\2022_01_27\\19EYE.avi\n",
      "D:\\Sidevideos\\ar34motor\\2022_01_27  already exists!\n",
      "Loading  D:\\Sidevideos\\ar34motor\\2022_01_27\\19EYE.avi\n",
      "Duration of video [s]:  12.5 , recorded with  40.0 fps!\n",
      "Overall # of frames:  500  found with (before cropping) frame dimensions:  200 200\n",
      "Starting to extract posture\n",
      "Cropping based on the x1 = 60 x2 = 150 y1 = 60 y2 = 150. You can adjust the cropping coordinates in the config.yaml file.\n"
     ]
    },
    {
     "name": "stderr",
     "output_type": "stream",
     "text": [
      "510it [00:02, 215.96it/s]                                                                                              \n"
     ]
    },
    {
     "name": "stdout",
     "output_type": "stream",
     "text": [
      "Saving results in D:\\Sidevideos\\ar34motor\\2022_01_27...\n",
      "Saving csv poses!\n",
      "Starting to analyze %  D:\\Sidevideos\\ar34motor\\2022_01_27\\1EYE.avi\n",
      "D:\\Sidevideos\\ar34motor\\2022_01_27  already exists!\n",
      "Loading  D:\\Sidevideos\\ar34motor\\2022_01_27\\1EYE.avi\n",
      "Duration of video [s]:  12.5 , recorded with  40.0 fps!\n",
      "Overall # of frames:  500  found with (before cropping) frame dimensions:  200 200\n",
      "Starting to extract posture\n",
      "Cropping based on the x1 = 60 x2 = 150 y1 = 60 y2 = 150. You can adjust the cropping coordinates in the config.yaml file.\n"
     ]
    },
    {
     "name": "stderr",
     "output_type": "stream",
     "text": [
      "510it [00:02, 216.50it/s]                                                                                              \n"
     ]
    },
    {
     "name": "stdout",
     "output_type": "stream",
     "text": [
      "Saving results in D:\\Sidevideos\\ar34motor\\2022_01_27...\n",
      "Saving csv poses!\n",
      "Starting to analyze %  D:\\Sidevideos\\ar34motor\\2022_01_27\\20EYE.avi\n",
      "D:\\Sidevideos\\ar34motor\\2022_01_27  already exists!\n",
      "Loading  D:\\Sidevideos\\ar34motor\\2022_01_27\\20EYE.avi\n",
      "Duration of video [s]:  12.5 , recorded with  40.0 fps!\n",
      "Overall # of frames:  500  found with (before cropping) frame dimensions:  200 200\n",
      "Starting to extract posture\n",
      "Cropping based on the x1 = 60 x2 = 150 y1 = 60 y2 = 150. You can adjust the cropping coordinates in the config.yaml file.\n"
     ]
    },
    {
     "name": "stderr",
     "output_type": "stream",
     "text": [
      "510it [00:02, 217.15it/s]                                                                                              \n"
     ]
    },
    {
     "name": "stdout",
     "output_type": "stream",
     "text": [
      "Saving results in D:\\Sidevideos\\ar34motor\\2022_01_27...\n",
      "Saving csv poses!\n",
      "Starting to analyze %  D:\\Sidevideos\\ar34motor\\2022_01_27\\21EYE.avi\n",
      "D:\\Sidevideos\\ar34motor\\2022_01_27  already exists!\n",
      "Loading  D:\\Sidevideos\\ar34motor\\2022_01_27\\21EYE.avi\n",
      "Duration of video [s]:  12.5 , recorded with  40.0 fps!\n",
      "Overall # of frames:  500  found with (before cropping) frame dimensions:  200 200\n",
      "Starting to extract posture\n",
      "Cropping based on the x1 = 60 x2 = 150 y1 = 60 y2 = 150. You can adjust the cropping coordinates in the config.yaml file.\n"
     ]
    },
    {
     "name": "stderr",
     "output_type": "stream",
     "text": [
      "510it [00:02, 215.96it/s]                                                                                              \n"
     ]
    },
    {
     "name": "stdout",
     "output_type": "stream",
     "text": [
      "Saving results in D:\\Sidevideos\\ar34motor\\2022_01_27...\n",
      "Saving csv poses!\n",
      "Starting to analyze %  D:\\Sidevideos\\ar34motor\\2022_01_27\\22EYE.avi\n",
      "D:\\Sidevideos\\ar34motor\\2022_01_27  already exists!\n",
      "Loading  D:\\Sidevideos\\ar34motor\\2022_01_27\\22EYE.avi\n",
      "Duration of video [s]:  12.5 , recorded with  40.0 fps!\n",
      "Overall # of frames:  500  found with (before cropping) frame dimensions:  200 200\n",
      "Starting to extract posture\n",
      "Cropping based on the x1 = 60 x2 = 150 y1 = 60 y2 = 150. You can adjust the cropping coordinates in the config.yaml file.\n"
     ]
    },
    {
     "name": "stderr",
     "output_type": "stream",
     "text": [
      "510it [00:02, 215.23it/s]                                                                                              \n"
     ]
    },
    {
     "name": "stdout",
     "output_type": "stream",
     "text": [
      "Saving results in D:\\Sidevideos\\ar34motor\\2022_01_27...\n",
      "Saving csv poses!\n",
      "Starting to analyze %  D:\\Sidevideos\\ar34motor\\2022_01_27\\23EYE.avi\n",
      "D:\\Sidevideos\\ar34motor\\2022_01_27  already exists!\n",
      "Loading  D:\\Sidevideos\\ar34motor\\2022_01_27\\23EYE.avi\n",
      "Duration of video [s]:  12.5 , recorded with  40.0 fps!\n",
      "Overall # of frames:  500  found with (before cropping) frame dimensions:  200 200\n",
      "Starting to extract posture\n",
      "Cropping based on the x1 = 60 x2 = 150 y1 = 60 y2 = 150. You can adjust the cropping coordinates in the config.yaml file.\n"
     ]
    },
    {
     "name": "stderr",
     "output_type": "stream",
     "text": [
      "510it [00:02, 216.59it/s]                                                                                              \n"
     ]
    },
    {
     "name": "stdout",
     "output_type": "stream",
     "text": [
      "Saving results in D:\\Sidevideos\\ar34motor\\2022_01_27...\n",
      "Saving csv poses!\n",
      "Starting to analyze %  D:\\Sidevideos\\ar34motor\\2022_01_27\\24EYE.avi\n",
      "D:\\Sidevideos\\ar34motor\\2022_01_27  already exists!\n",
      "Loading  D:\\Sidevideos\\ar34motor\\2022_01_27\\24EYE.avi\n",
      "Duration of video [s]:  12.5 , recorded with  40.0 fps!\n",
      "Overall # of frames:  500  found with (before cropping) frame dimensions:  200 200\n",
      "Starting to extract posture\n",
      "Cropping based on the x1 = 60 x2 = 150 y1 = 60 y2 = 150. You can adjust the cropping coordinates in the config.yaml file.\n"
     ]
    },
    {
     "name": "stderr",
     "output_type": "stream",
     "text": [
      "510it [00:02, 214.24it/s]                                                                                              \n"
     ]
    },
    {
     "name": "stdout",
     "output_type": "stream",
     "text": [
      "Saving results in D:\\Sidevideos\\ar34motor\\2022_01_27...\n",
      "Saving csv poses!\n",
      "Starting to analyze %  D:\\Sidevideos\\ar34motor\\2022_01_27\\25EYE.avi\n",
      "D:\\Sidevideos\\ar34motor\\2022_01_27  already exists!\n",
      "Loading  D:\\Sidevideos\\ar34motor\\2022_01_27\\25EYE.avi\n",
      "Duration of video [s]:  12.5 , recorded with  40.0 fps!\n",
      "Overall # of frames:  500  found with (before cropping) frame dimensions:  200 200\n",
      "Starting to extract posture\n",
      "Cropping based on the x1 = 60 x2 = 150 y1 = 60 y2 = 150. You can adjust the cropping coordinates in the config.yaml file.\n"
     ]
    },
    {
     "name": "stderr",
     "output_type": "stream",
     "text": [
      "510it [00:02, 214.60it/s]                                                                                              \n"
     ]
    },
    {
     "name": "stdout",
     "output_type": "stream",
     "text": [
      "Saving results in D:\\Sidevideos\\ar34motor\\2022_01_27...\n",
      "Saving csv poses!\n",
      "Starting to analyze %  D:\\Sidevideos\\ar34motor\\2022_01_27\\26EYE.avi\n",
      "D:\\Sidevideos\\ar34motor\\2022_01_27  already exists!\n",
      "Loading  D:\\Sidevideos\\ar34motor\\2022_01_27\\26EYE.avi\n",
      "Duration of video [s]:  12.5 , recorded with  40.0 fps!\n",
      "Overall # of frames:  500  found with (before cropping) frame dimensions:  200 200\n",
      "Starting to extract posture\n",
      "Cropping based on the x1 = 60 x2 = 150 y1 = 60 y2 = 150. You can adjust the cropping coordinates in the config.yaml file.\n"
     ]
    },
    {
     "name": "stderr",
     "output_type": "stream",
     "text": [
      "510it [00:02, 215.05it/s]                                                                                              \n"
     ]
    },
    {
     "name": "stdout",
     "output_type": "stream",
     "text": [
      "Saving results in D:\\Sidevideos\\ar34motor\\2022_01_27...\n",
      "Saving csv poses!\n",
      "Starting to analyze %  D:\\Sidevideos\\ar34motor\\2022_01_27\\27EYE.avi\n",
      "D:\\Sidevideos\\ar34motor\\2022_01_27  already exists!\n",
      "Loading  D:\\Sidevideos\\ar34motor\\2022_01_27\\27EYE.avi\n",
      "Duration of video [s]:  12.5 , recorded with  40.0 fps!\n",
      "Overall # of frames:  500  found with (before cropping) frame dimensions:  200 200\n",
      "Starting to extract posture\n",
      "Cropping based on the x1 = 60 x2 = 150 y1 = 60 y2 = 150. You can adjust the cropping coordinates in the config.yaml file.\n"
     ]
    },
    {
     "name": "stderr",
     "output_type": "stream",
     "text": [
      "510it [00:02, 212.99it/s]                                                                                              \n"
     ]
    },
    {
     "name": "stdout",
     "output_type": "stream",
     "text": [
      "Saving results in D:\\Sidevideos\\ar34motor\\2022_01_27...\n",
      "Saving csv poses!\n",
      "Starting to analyze %  D:\\Sidevideos\\ar34motor\\2022_01_27\\28EYE.avi\n",
      "D:\\Sidevideos\\ar34motor\\2022_01_27  already exists!\n",
      "Loading  D:\\Sidevideos\\ar34motor\\2022_01_27\\28EYE.avi\n",
      "Duration of video [s]:  12.5 , recorded with  40.0 fps!\n",
      "Overall # of frames:  500  found with (before cropping) frame dimensions:  200 200\n",
      "Starting to extract posture\n",
      "Cropping based on the x1 = 60 x2 = 150 y1 = 60 y2 = 150. You can adjust the cropping coordinates in the config.yaml file.\n"
     ]
    },
    {
     "name": "stderr",
     "output_type": "stream",
     "text": [
      "510it [00:02, 213.79it/s]                                                                                              \n"
     ]
    },
    {
     "name": "stdout",
     "output_type": "stream",
     "text": [
      "Saving results in D:\\Sidevideos\\ar34motor\\2022_01_27...\n",
      "Saving csv poses!\n",
      "Starting to analyze %  D:\\Sidevideos\\ar34motor\\2022_01_27\\29EYE.avi\n",
      "D:\\Sidevideos\\ar34motor\\2022_01_27  already exists!\n",
      "Loading  D:\\Sidevideos\\ar34motor\\2022_01_27\\29EYE.avi\n",
      "Duration of video [s]:  12.35 , recorded with  40.0 fps!\n",
      "Overall # of frames:  494  found with (before cropping) frame dimensions:  200 200\n",
      "Starting to extract posture\n",
      "Cropping based on the x1 = 60 x2 = 150 y1 = 60 y2 = 150. You can adjust the cropping coordinates in the config.yaml file.\n"
     ]
    },
    {
     "name": "stderr",
     "output_type": "stream",
     "text": [
      "500it [00:02, 212.71it/s]                                                                                              \n"
     ]
    },
    {
     "name": "stdout",
     "output_type": "stream",
     "text": [
      "Saving results in D:\\Sidevideos\\ar34motor\\2022_01_27...\n",
      "Saving csv poses!\n",
      "Starting to analyze %  D:\\Sidevideos\\ar34motor\\2022_01_27\\2EYE.avi\n",
      "D:\\Sidevideos\\ar34motor\\2022_01_27  already exists!\n",
      "Loading  D:\\Sidevideos\\ar34motor\\2022_01_27\\2EYE.avi\n",
      "Duration of video [s]:  9.85 , recorded with  40.0 fps!\n",
      "Overall # of frames:  394  found with (before cropping) frame dimensions:  200 200\n",
      "Starting to extract posture\n",
      "Cropping based on the x1 = 60 x2 = 150 y1 = 60 y2 = 150. You can adjust the cropping coordinates in the config.yaml file.\n"
     ]
    },
    {
     "name": "stderr",
     "output_type": "stream",
     "text": [
      "400it [00:01, 208.71it/s]                                                                                              \n"
     ]
    },
    {
     "name": "stdout",
     "output_type": "stream",
     "text": [
      "Saving results in D:\\Sidevideos\\ar34motor\\2022_01_27...\n",
      "Saving csv poses!\n",
      "Starting to analyze %  D:\\Sidevideos\\ar34motor\\2022_01_27\\30EYE.avi\n",
      "D:\\Sidevideos\\ar34motor\\2022_01_27  already exists!\n",
      "Loading  D:\\Sidevideos\\ar34motor\\2022_01_27\\30EYE.avi\n",
      "Duration of video [s]:  12.47 , recorded with  40.0 fps!\n",
      "Overall # of frames:  499  found with (before cropping) frame dimensions:  200 200\n",
      "Starting to extract posture\n",
      "Cropping based on the x1 = 60 x2 = 150 y1 = 60 y2 = 150. You can adjust the cropping coordinates in the config.yaml file.\n"
     ]
    },
    {
     "name": "stderr",
     "output_type": "stream",
     "text": [
      "500it [00:02, 208.38it/s]                                                                                              \n"
     ]
    },
    {
     "name": "stdout",
     "output_type": "stream",
     "text": [
      "Saving results in D:\\Sidevideos\\ar34motor\\2022_01_27...\n",
      "Saving csv poses!\n",
      "Starting to analyze %  D:\\Sidevideos\\ar34motor\\2022_01_27\\31EYE.avi\n",
      "D:\\Sidevideos\\ar34motor\\2022_01_27  already exists!\n",
      "Loading  D:\\Sidevideos\\ar34motor\\2022_01_27\\31EYE.avi\n",
      "Duration of video [s]:  12.4 , recorded with  40.0 fps!\n",
      "Overall # of frames:  496  found with (before cropping) frame dimensions:  200 200\n",
      "Starting to extract posture\n",
      "Cropping based on the x1 = 60 x2 = 150 y1 = 60 y2 = 150. You can adjust the cropping coordinates in the config.yaml file.\n"
     ]
    },
    {
     "name": "stderr",
     "output_type": "stream",
     "text": [
      "500it [00:02, 211.08it/s]                                                                                              \n"
     ]
    },
    {
     "name": "stdout",
     "output_type": "stream",
     "text": [
      "Saving results in D:\\Sidevideos\\ar34motor\\2022_01_27...\n",
      "Saving csv poses!\n",
      "Starting to analyze %  D:\\Sidevideos\\ar34motor\\2022_01_27\\32EYE.avi\n",
      "D:\\Sidevideos\\ar34motor\\2022_01_27  already exists!\n",
      "Loading  D:\\Sidevideos\\ar34motor\\2022_01_27\\32EYE.avi\n",
      "Duration of video [s]:  12.5 , recorded with  40.0 fps!\n",
      "Overall # of frames:  500  found with (before cropping) frame dimensions:  200 200\n",
      "Starting to extract posture\n",
      "Cropping based on the x1 = 60 x2 = 150 y1 = 60 y2 = 150. You can adjust the cropping coordinates in the config.yaml file.\n"
     ]
    },
    {
     "name": "stderr",
     "output_type": "stream",
     "text": [
      "510it [00:02, 213.26it/s]                                                                                              \n"
     ]
    },
    {
     "name": "stdout",
     "output_type": "stream",
     "text": [
      "Saving results in D:\\Sidevideos\\ar34motor\\2022_01_27...\n",
      "Saving csv poses!\n",
      "Starting to analyze %  D:\\Sidevideos\\ar34motor\\2022_01_27\\33EYE.avi\n",
      "D:\\Sidevideos\\ar34motor\\2022_01_27  already exists!\n",
      "Loading  D:\\Sidevideos\\ar34motor\\2022_01_27\\33EYE.avi\n",
      "Duration of video [s]:  12.5 , recorded with  40.0 fps!\n",
      "Overall # of frames:  500  found with (before cropping) frame dimensions:  200 200\n",
      "Starting to extract posture\n",
      "Cropping based on the x1 = 60 x2 = 150 y1 = 60 y2 = 150. You can adjust the cropping coordinates in the config.yaml file.\n"
     ]
    },
    {
     "name": "stderr",
     "output_type": "stream",
     "text": [
      "510it [00:02, 213.26it/s]                                                                                              \n"
     ]
    },
    {
     "name": "stdout",
     "output_type": "stream",
     "text": [
      "Saving results in D:\\Sidevideos\\ar34motor\\2022_01_27...\n",
      "Saving csv poses!\n",
      "Starting to analyze %  D:\\Sidevideos\\ar34motor\\2022_01_27\\34EYE.avi\n",
      "D:\\Sidevideos\\ar34motor\\2022_01_27  already exists!\n",
      "Loading  D:\\Sidevideos\\ar34motor\\2022_01_27\\34EYE.avi\n",
      "Duration of video [s]:  12.5 , recorded with  40.0 fps!\n",
      "Overall # of frames:  500  found with (before cropping) frame dimensions:  200 200\n",
      "Starting to extract posture\n",
      "Cropping based on the x1 = 60 x2 = 150 y1 = 60 y2 = 150. You can adjust the cropping coordinates in the config.yaml file.\n"
     ]
    },
    {
     "name": "stderr",
     "output_type": "stream",
     "text": [
      "510it [00:02, 214.15it/s]                                                                                              \n"
     ]
    },
    {
     "name": "stdout",
     "output_type": "stream",
     "text": [
      "Saving results in D:\\Sidevideos\\ar34motor\\2022_01_27...\n",
      "Saving csv poses!\n",
      "Starting to analyze %  D:\\Sidevideos\\ar34motor\\2022_01_27\\35EYE.avi\n",
      "D:\\Sidevideos\\ar34motor\\2022_01_27  already exists!\n",
      "Loading  D:\\Sidevideos\\ar34motor\\2022_01_27\\35EYE.avi\n",
      "Duration of video [s]:  12.35 , recorded with  40.0 fps!\n",
      "Overall # of frames:  494  found with (before cropping) frame dimensions:  200 200\n",
      "Starting to extract posture\n",
      "Cropping based on the x1 = 60 x2 = 150 y1 = 60 y2 = 150. You can adjust the cropping coordinates in the config.yaml file.\n"
     ]
    },
    {
     "name": "stderr",
     "output_type": "stream",
     "text": [
      "500it [00:02, 214.71it/s]                                                                                              \n"
     ]
    },
    {
     "name": "stdout",
     "output_type": "stream",
     "text": [
      "Saving results in D:\\Sidevideos\\ar34motor\\2022_01_27...\n",
      "Saving csv poses!\n",
      "Starting to analyze %  D:\\Sidevideos\\ar34motor\\2022_01_27\\36EYE.avi\n",
      "D:\\Sidevideos\\ar34motor\\2022_01_27  already exists!\n",
      "Loading  D:\\Sidevideos\\ar34motor\\2022_01_27\\36EYE.avi\n",
      "Duration of video [s]:  12.5 , recorded with  40.0 fps!\n",
      "Overall # of frames:  500  found with (before cropping) frame dimensions:  200 200\n",
      "Starting to extract posture\n",
      "Cropping based on the x1 = 60 x2 = 150 y1 = 60 y2 = 150. You can adjust the cropping coordinates in the config.yaml file.\n"
     ]
    },
    {
     "name": "stderr",
     "output_type": "stream",
     "text": [
      "510it [00:02, 214.15it/s]                                                                                              \n"
     ]
    },
    {
     "name": "stdout",
     "output_type": "stream",
     "text": [
      "Saving results in D:\\Sidevideos\\ar34motor\\2022_01_27...\n",
      "Saving csv poses!\n",
      "Starting to analyze %  D:\\Sidevideos\\ar34motor\\2022_01_27\\37EYE.avi\n",
      "D:\\Sidevideos\\ar34motor\\2022_01_27  already exists!\n",
      "Loading  D:\\Sidevideos\\ar34motor\\2022_01_27\\37EYE.avi\n",
      "Duration of video [s]:  12.5 , recorded with  40.0 fps!\n",
      "Overall # of frames:  500  found with (before cropping) frame dimensions:  200 200\n",
      "Starting to extract posture\n",
      "Cropping based on the x1 = 60 x2 = 150 y1 = 60 y2 = 150. You can adjust the cropping coordinates in the config.yaml file.\n"
     ]
    },
    {
     "name": "stderr",
     "output_type": "stream",
     "text": [
      "510it [00:02, 214.87it/s]                                                                                              \n"
     ]
    },
    {
     "name": "stdout",
     "output_type": "stream",
     "text": [
      "Saving results in D:\\Sidevideos\\ar34motor\\2022_01_27...\n",
      "Saving csv poses!\n",
      "Starting to analyze %  D:\\Sidevideos\\ar34motor\\2022_01_27\\38EYE.avi\n",
      "D:\\Sidevideos\\ar34motor\\2022_01_27  already exists!\n",
      "Loading  D:\\Sidevideos\\ar34motor\\2022_01_27\\38EYE.avi\n",
      "Duration of video [s]:  12.5 , recorded with  40.0 fps!\n",
      "Overall # of frames:  500  found with (before cropping) frame dimensions:  200 200\n",
      "Starting to extract posture\n",
      "Cropping based on the x1 = 60 x2 = 150 y1 = 60 y2 = 150. You can adjust the cropping coordinates in the config.yaml file.\n"
     ]
    },
    {
     "name": "stderr",
     "output_type": "stream",
     "text": [
      "510it [00:02, 215.68it/s]                                                                                              \n"
     ]
    },
    {
     "name": "stdout",
     "output_type": "stream",
     "text": [
      "Saving results in D:\\Sidevideos\\ar34motor\\2022_01_27...\n",
      "Saving csv poses!\n",
      "Starting to analyze %  D:\\Sidevideos\\ar34motor\\2022_01_27\\39EYE.avi\n",
      "D:\\Sidevideos\\ar34motor\\2022_01_27  already exists!\n",
      "Loading  D:\\Sidevideos\\ar34motor\\2022_01_27\\39EYE.avi\n",
      "Duration of video [s]:  12.05 , recorded with  40.0 fps!\n",
      "Overall # of frames:  482  found with (before cropping) frame dimensions:  200 200\n",
      "Starting to extract posture\n",
      "Cropping based on the x1 = 60 x2 = 150 y1 = 60 y2 = 150. You can adjust the cropping coordinates in the config.yaml file.\n"
     ]
    },
    {
     "name": "stderr",
     "output_type": "stream",
     "text": [
      "490it [00:02, 215.29it/s]                                                                                              \n"
     ]
    },
    {
     "name": "stdout",
     "output_type": "stream",
     "text": [
      "Saving results in D:\\Sidevideos\\ar34motor\\2022_01_27...\n",
      "Saving csv poses!\n",
      "Starting to analyze %  D:\\Sidevideos\\ar34motor\\2022_01_27\\3EYE.avi\n",
      "D:\\Sidevideos\\ar34motor\\2022_01_27  already exists!\n",
      "Loading  D:\\Sidevideos\\ar34motor\\2022_01_27\\3EYE.avi\n",
      "Duration of video [s]:  11.88 , recorded with  40.0 fps!\n",
      "Overall # of frames:  475  found with (before cropping) frame dimensions:  200 200\n",
      "Starting to extract posture\n",
      "Cropping based on the x1 = 60 x2 = 150 y1 = 60 y2 = 150. You can adjust the cropping coordinates in the config.yaml file.\n"
     ]
    },
    {
     "name": "stderr",
     "output_type": "stream",
     "text": [
      "480it [00:02, 213.80it/s]                                                                                              \n"
     ]
    },
    {
     "name": "stdout",
     "output_type": "stream",
     "text": [
      "Saving results in D:\\Sidevideos\\ar34motor\\2022_01_27...\n",
      "Saving csv poses!\n",
      "Starting to analyze %  D:\\Sidevideos\\ar34motor\\2022_01_27\\40EYE.avi\n",
      "D:\\Sidevideos\\ar34motor\\2022_01_27  already exists!\n",
      "Loading  D:\\Sidevideos\\ar34motor\\2022_01_27\\40EYE.avi\n",
      "Duration of video [s]:  12.5 , recorded with  40.0 fps!\n",
      "Overall # of frames:  500  found with (before cropping) frame dimensions:  200 200\n",
      "Starting to extract posture\n",
      "Cropping based on the x1 = 60 x2 = 150 y1 = 60 y2 = 150. You can adjust the cropping coordinates in the config.yaml file.\n"
     ]
    },
    {
     "name": "stderr",
     "output_type": "stream",
     "text": [
      "510it [00:02, 216.69it/s]                                                                                              \n"
     ]
    },
    {
     "name": "stdout",
     "output_type": "stream",
     "text": [
      "Saving results in D:\\Sidevideos\\ar34motor\\2022_01_27...\n",
      "Saving csv poses!\n",
      "Starting to analyze %  D:\\Sidevideos\\ar34motor\\2022_01_27\\41EYE.avi\n",
      "D:\\Sidevideos\\ar34motor\\2022_01_27  already exists!\n",
      "Loading  D:\\Sidevideos\\ar34motor\\2022_01_27\\41EYE.avi\n",
      "Duration of video [s]:  12.15 , recorded with  40.0 fps!\n",
      "Overall # of frames:  486  found with (before cropping) frame dimensions:  200 200\n",
      "Starting to extract posture\n",
      "Cropping based on the x1 = 60 x2 = 150 y1 = 60 y2 = 150. You can adjust the cropping coordinates in the config.yaml file.\n"
     ]
    },
    {
     "name": "stderr",
     "output_type": "stream",
     "text": [
      "490it [00:02, 214.45it/s]                                                                                              \n"
     ]
    },
    {
     "name": "stdout",
     "output_type": "stream",
     "text": [
      "Saving results in D:\\Sidevideos\\ar34motor\\2022_01_27...\n",
      "Saving csv poses!\n",
      "Starting to analyze %  D:\\Sidevideos\\ar34motor\\2022_01_27\\42EYE.avi\n",
      "D:\\Sidevideos\\ar34motor\\2022_01_27  already exists!\n",
      "Loading  D:\\Sidevideos\\ar34motor\\2022_01_27\\42EYE.avi\n",
      "Duration of video [s]:  12.5 , recorded with  40.0 fps!\n",
      "Overall # of frames:  500  found with (before cropping) frame dimensions:  200 200\n",
      "Starting to extract posture\n",
      "Cropping based on the x1 = 60 x2 = 150 y1 = 60 y2 = 150. You can adjust the cropping coordinates in the config.yaml file.\n"
     ]
    },
    {
     "name": "stderr",
     "output_type": "stream",
     "text": [
      "510it [00:02, 216.50it/s]                                                                                              \n"
     ]
    },
    {
     "name": "stdout",
     "output_type": "stream",
     "text": [
      "Saving results in D:\\Sidevideos\\ar34motor\\2022_01_27...\n",
      "Saving csv poses!\n",
      "Starting to analyze %  D:\\Sidevideos\\ar34motor\\2022_01_27\\43EYE.avi\n",
      "D:\\Sidevideos\\ar34motor\\2022_01_27  already exists!\n",
      "Loading  D:\\Sidevideos\\ar34motor\\2022_01_27\\43EYE.avi\n",
      "Duration of video [s]:  12.5 , recorded with  40.0 fps!\n",
      "Overall # of frames:  500  found with (before cropping) frame dimensions:  200 200\n",
      "Starting to extract posture\n",
      "Cropping based on the x1 = 60 x2 = 150 y1 = 60 y2 = 150. You can adjust the cropping coordinates in the config.yaml file.\n"
     ]
    },
    {
     "name": "stderr",
     "output_type": "stream",
     "text": [
      "510it [00:02, 215.68it/s]                                                                                              \n"
     ]
    },
    {
     "name": "stdout",
     "output_type": "stream",
     "text": [
      "Saving results in D:\\Sidevideos\\ar34motor\\2022_01_27...\n",
      "Saving csv poses!\n",
      "Starting to analyze %  D:\\Sidevideos\\ar34motor\\2022_01_27\\44EYE.avi\n",
      "D:\\Sidevideos\\ar34motor\\2022_01_27  already exists!\n",
      "Loading  D:\\Sidevideos\\ar34motor\\2022_01_27\\44EYE.avi\n",
      "Duration of video [s]:  12.5 , recorded with  40.0 fps!\n",
      "Overall # of frames:  500  found with (before cropping) frame dimensions:  200 200\n",
      "Starting to extract posture\n",
      "Cropping based on the x1 = 60 x2 = 150 y1 = 60 y2 = 150. You can adjust the cropping coordinates in the config.yaml file.\n"
     ]
    },
    {
     "name": "stderr",
     "output_type": "stream",
     "text": [
      "510it [00:02, 216.96it/s]                                                                                              \n"
     ]
    },
    {
     "name": "stdout",
     "output_type": "stream",
     "text": [
      "Saving results in D:\\Sidevideos\\ar34motor\\2022_01_27...\n",
      "Saving csv poses!\n",
      "Starting to analyze %  D:\\Sidevideos\\ar34motor\\2022_01_27\\45EYE.avi\n",
      "D:\\Sidevideos\\ar34motor\\2022_01_27  already exists!\n",
      "Loading  D:\\Sidevideos\\ar34motor\\2022_01_27\\45EYE.avi\n",
      "Duration of video [s]:  12.35 , recorded with  40.0 fps!\n",
      "Overall # of frames:  494  found with (before cropping) frame dimensions:  200 200\n",
      "Starting to extract posture\n",
      "Cropping based on the x1 = 60 x2 = 150 y1 = 60 y2 = 150. You can adjust the cropping coordinates in the config.yaml file.\n"
     ]
    },
    {
     "name": "stderr",
     "output_type": "stream",
     "text": [
      "500it [00:02, 216.56it/s]                                                                                              \n"
     ]
    },
    {
     "name": "stdout",
     "output_type": "stream",
     "text": [
      "Saving results in D:\\Sidevideos\\ar34motor\\2022_01_27...\n",
      "Saving csv poses!\n",
      "Starting to analyze %  D:\\Sidevideos\\ar34motor\\2022_01_27\\46EYE.avi\n",
      "D:\\Sidevideos\\ar34motor\\2022_01_27  already exists!\n",
      "Loading  D:\\Sidevideos\\ar34motor\\2022_01_27\\46EYE.avi\n",
      "Duration of video [s]:  12.5 , recorded with  40.0 fps!\n",
      "Overall # of frames:  500  found with (before cropping) frame dimensions:  200 200\n",
      "Starting to extract posture\n",
      "Cropping based on the x1 = 60 x2 = 150 y1 = 60 y2 = 150. You can adjust the cropping coordinates in the config.yaml file.\n"
     ]
    },
    {
     "name": "stderr",
     "output_type": "stream",
     "text": [
      "510it [00:02, 213.97it/s]                                                                                              \n"
     ]
    },
    {
     "name": "stdout",
     "output_type": "stream",
     "text": [
      "Saving results in D:\\Sidevideos\\ar34motor\\2022_01_27...\n",
      "Saving csv poses!\n",
      "Starting to analyze %  D:\\Sidevideos\\ar34motor\\2022_01_27\\47EYE.avi\n",
      "D:\\Sidevideos\\ar34motor\\2022_01_27  already exists!\n",
      "Loading  D:\\Sidevideos\\ar34motor\\2022_01_27\\47EYE.avi\n",
      "Duration of video [s]:  12.5 , recorded with  40.0 fps!\n",
      "Overall # of frames:  500  found with (before cropping) frame dimensions:  200 200\n",
      "Starting to extract posture\n",
      "Cropping based on the x1 = 60 x2 = 150 y1 = 60 y2 = 150. You can adjust the cropping coordinates in the config.yaml file.\n"
     ]
    },
    {
     "name": "stderr",
     "output_type": "stream",
     "text": [
      "510it [00:02, 214.06it/s]                                                                                              \n"
     ]
    },
    {
     "name": "stdout",
     "output_type": "stream",
     "text": [
      "Saving results in D:\\Sidevideos\\ar34motor\\2022_01_27...\n",
      "Saving csv poses!\n",
      "Starting to analyze %  D:\\Sidevideos\\ar34motor\\2022_01_27\\48EYE.avi\n",
      "D:\\Sidevideos\\ar34motor\\2022_01_27  already exists!\n",
      "Loading  D:\\Sidevideos\\ar34motor\\2022_01_27\\48EYE.avi\n",
      "Duration of video [s]:  12.5 , recorded with  40.0 fps!\n",
      "Overall # of frames:  500  found with (before cropping) frame dimensions:  200 200\n",
      "Starting to extract posture\n",
      "Cropping based on the x1 = 60 x2 = 150 y1 = 60 y2 = 150. You can adjust the cropping coordinates in the config.yaml file.\n"
     ]
    },
    {
     "name": "stderr",
     "output_type": "stream",
     "text": [
      "510it [00:02, 212.90it/s]                                                                                              \n"
     ]
    },
    {
     "name": "stdout",
     "output_type": "stream",
     "text": [
      "Saving results in D:\\Sidevideos\\ar34motor\\2022_01_27...\n",
      "Saving csv poses!\n",
      "Starting to analyze %  D:\\Sidevideos\\ar34motor\\2022_01_27\\49EYE.avi\n",
      "D:\\Sidevideos\\ar34motor\\2022_01_27  already exists!\n",
      "Loading  D:\\Sidevideos\\ar34motor\\2022_01_27\\49EYE.avi\n",
      "Duration of video [s]:  12.5 , recorded with  40.0 fps!\n",
      "Overall # of frames:  500  found with (before cropping) frame dimensions:  200 200\n",
      "Starting to extract posture\n",
      "Cropping based on the x1 = 60 x2 = 150 y1 = 60 y2 = 150. You can adjust the cropping coordinates in the config.yaml file.\n"
     ]
    },
    {
     "name": "stderr",
     "output_type": "stream",
     "text": [
      "510it [00:02, 214.69it/s]                                                                                              \n"
     ]
    },
    {
     "name": "stdout",
     "output_type": "stream",
     "text": [
      "Saving results in D:\\Sidevideos\\ar34motor\\2022_01_27...\n",
      "Saving csv poses!\n",
      "Starting to analyze %  D:\\Sidevideos\\ar34motor\\2022_01_27\\4EYE.avi\n",
      "D:\\Sidevideos\\ar34motor\\2022_01_27  already exists!\n",
      "Loading  D:\\Sidevideos\\ar34motor\\2022_01_27\\4EYE.avi\n",
      "Duration of video [s]:  12.43 , recorded with  40.0 fps!\n",
      "Overall # of frames:  497  found with (before cropping) frame dimensions:  200 200\n",
      "Starting to extract posture\n",
      "Cropping based on the x1 = 60 x2 = 150 y1 = 60 y2 = 150. You can adjust the cropping coordinates in the config.yaml file.\n"
     ]
    },
    {
     "name": "stderr",
     "output_type": "stream",
     "text": [
      "500it [00:02, 211.19it/s]                                                                                              \n"
     ]
    },
    {
     "name": "stdout",
     "output_type": "stream",
     "text": [
      "Saving results in D:\\Sidevideos\\ar34motor\\2022_01_27...\n",
      "Saving csv poses!\n",
      "Starting to analyze %  D:\\Sidevideos\\ar34motor\\2022_01_27\\50EYE.avi\n",
      "D:\\Sidevideos\\ar34motor\\2022_01_27  already exists!\n",
      "Loading  D:\\Sidevideos\\ar34motor\\2022_01_27\\50EYE.avi\n",
      "Duration of video [s]:  12.5 , recorded with  40.0 fps!\n",
      "Overall # of frames:  500  found with (before cropping) frame dimensions:  200 200\n",
      "Starting to extract posture\n",
      "Cropping based on the x1 = 60 x2 = 150 y1 = 60 y2 = 150. You can adjust the cropping coordinates in the config.yaml file.\n"
     ]
    },
    {
     "name": "stderr",
     "output_type": "stream",
     "text": [
      "510it [00:02, 214.06it/s]                                                                                              \n"
     ]
    },
    {
     "name": "stdout",
     "output_type": "stream",
     "text": [
      "Saving results in D:\\Sidevideos\\ar34motor\\2022_01_27...\n",
      "Saving csv poses!\n",
      "Starting to analyze %  D:\\Sidevideos\\ar34motor\\2022_01_27\\51EYE.avi\n",
      "D:\\Sidevideos\\ar34motor\\2022_01_27  already exists!\n",
      "Loading  D:\\Sidevideos\\ar34motor\\2022_01_27\\51EYE.avi\n",
      "Duration of video [s]:  12.5 , recorded with  40.0 fps!\n",
      "Overall # of frames:  500  found with (before cropping) frame dimensions:  200 200\n",
      "Starting to extract posture\n",
      "Cropping based on the x1 = 60 x2 = 150 y1 = 60 y2 = 150. You can adjust the cropping coordinates in the config.yaml file.\n"
     ]
    },
    {
     "name": "stderr",
     "output_type": "stream",
     "text": [
      "510it [00:02, 214.42it/s]                                                                                              \n"
     ]
    },
    {
     "name": "stdout",
     "output_type": "stream",
     "text": [
      "Saving results in D:\\Sidevideos\\ar34motor\\2022_01_27...\n",
      "Saving csv poses!\n",
      "Starting to analyze %  D:\\Sidevideos\\ar34motor\\2022_01_27\\52EYE.avi\n",
      "D:\\Sidevideos\\ar34motor\\2022_01_27  already exists!\n",
      "Loading  D:\\Sidevideos\\ar34motor\\2022_01_27\\52EYE.avi\n",
      "Duration of video [s]:  12.5 , recorded with  40.0 fps!\n",
      "Overall # of frames:  500  found with (before cropping) frame dimensions:  200 200\n",
      "Starting to extract posture\n",
      "Cropping based on the x1 = 60 x2 = 150 y1 = 60 y2 = 150. You can adjust the cropping coordinates in the config.yaml file.\n"
     ]
    },
    {
     "name": "stderr",
     "output_type": "stream",
     "text": [
      "510it [00:02, 214.78it/s]                                                                                              \n"
     ]
    },
    {
     "name": "stdout",
     "output_type": "stream",
     "text": [
      "Saving results in D:\\Sidevideos\\ar34motor\\2022_01_27...\n",
      "Saving csv poses!\n",
      "Starting to analyze %  D:\\Sidevideos\\ar34motor\\2022_01_27\\53EYE.avi\n",
      "D:\\Sidevideos\\ar34motor\\2022_01_27  already exists!\n",
      "Loading  D:\\Sidevideos\\ar34motor\\2022_01_27\\53EYE.avi\n",
      "Duration of video [s]:  12.5 , recorded with  40.0 fps!\n",
      "Overall # of frames:  500  found with (before cropping) frame dimensions:  200 200\n",
      "Starting to extract posture\n",
      "Cropping based on the x1 = 60 x2 = 150 y1 = 60 y2 = 150. You can adjust the cropping coordinates in the config.yaml file.\n"
     ]
    },
    {
     "name": "stderr",
     "output_type": "stream",
     "text": [
      "510it [00:02, 214.87it/s]                                                                                              \n"
     ]
    },
    {
     "name": "stdout",
     "output_type": "stream",
     "text": [
      "Saving results in D:\\Sidevideos\\ar34motor\\2022_01_27...\n",
      "Saving csv poses!\n",
      "Starting to analyze %  D:\\Sidevideos\\ar34motor\\2022_01_27\\54EYE.avi\n",
      "D:\\Sidevideos\\ar34motor\\2022_01_27  already exists!\n",
      "Loading  D:\\Sidevideos\\ar34motor\\2022_01_27\\54EYE.avi\n",
      "Duration of video [s]:  12.5 , recorded with  40.0 fps!\n",
      "Overall # of frames:  500  found with (before cropping) frame dimensions:  200 200\n",
      "Starting to extract posture\n",
      "Cropping based on the x1 = 60 x2 = 150 y1 = 60 y2 = 150. You can adjust the cropping coordinates in the config.yaml file.\n"
     ]
    },
    {
     "name": "stderr",
     "output_type": "stream",
     "text": [
      "510it [00:02, 212.55it/s]                                                                                              \n"
     ]
    },
    {
     "name": "stdout",
     "output_type": "stream",
     "text": [
      "Saving results in D:\\Sidevideos\\ar34motor\\2022_01_27...\n",
      "Saving csv poses!\n",
      "Starting to analyze %  D:\\Sidevideos\\ar34motor\\2022_01_27\\55EYE.avi\n",
      "D:\\Sidevideos\\ar34motor\\2022_01_27  already exists!\n",
      "Loading  D:\\Sidevideos\\ar34motor\\2022_01_27\\55EYE.avi\n",
      "Duration of video [s]:  12.5 , recorded with  40.0 fps!\n",
      "Overall # of frames:  500  found with (before cropping) frame dimensions:  200 200\n",
      "Starting to extract posture\n",
      "Cropping based on the x1 = 60 x2 = 150 y1 = 60 y2 = 150. You can adjust the cropping coordinates in the config.yaml file.\n"
     ]
    },
    {
     "name": "stderr",
     "output_type": "stream",
     "text": [
      "510it [00:02, 210.80it/s]                                                                                              \n"
     ]
    },
    {
     "name": "stdout",
     "output_type": "stream",
     "text": [
      "Saving results in D:\\Sidevideos\\ar34motor\\2022_01_27...\n",
      "Saving csv poses!\n",
      "Starting to analyze %  D:\\Sidevideos\\ar34motor\\2022_01_27\\56EYE.avi\n",
      "D:\\Sidevideos\\ar34motor\\2022_01_27  already exists!\n",
      "Loading  D:\\Sidevideos\\ar34motor\\2022_01_27\\56EYE.avi\n",
      "Duration of video [s]:  12.5 , recorded with  40.0 fps!\n",
      "Overall # of frames:  500  found with (before cropping) frame dimensions:  200 200\n",
      "Starting to extract posture\n",
      "Cropping based on the x1 = 60 x2 = 150 y1 = 60 y2 = 150. You can adjust the cropping coordinates in the config.yaml file.\n"
     ]
    },
    {
     "name": "stderr",
     "output_type": "stream",
     "text": [
      "510it [00:02, 213.53it/s]                                                                                              \n"
     ]
    },
    {
     "name": "stdout",
     "output_type": "stream",
     "text": [
      "Saving results in D:\\Sidevideos\\ar34motor\\2022_01_27...\n",
      "Saving csv poses!\n",
      "Starting to analyze %  D:\\Sidevideos\\ar34motor\\2022_01_27\\57EYE.avi\n",
      "D:\\Sidevideos\\ar34motor\\2022_01_27  already exists!\n",
      "Loading  D:\\Sidevideos\\ar34motor\\2022_01_27\\57EYE.avi\n",
      "Duration of video [s]:  12.5 , recorded with  40.0 fps!\n",
      "Overall # of frames:  500  found with (before cropping) frame dimensions:  200 200\n",
      "Starting to extract posture\n",
      "Cropping based on the x1 = 60 x2 = 150 y1 = 60 y2 = 150. You can adjust the cropping coordinates in the config.yaml file.\n"
     ]
    },
    {
     "name": "stderr",
     "output_type": "stream",
     "text": [
      "510it [00:02, 209.17it/s]                                                                                              \n"
     ]
    },
    {
     "name": "stdout",
     "output_type": "stream",
     "text": [
      "Saving results in D:\\Sidevideos\\ar34motor\\2022_01_27...\n",
      "Saving csv poses!\n",
      "Starting to analyze %  D:\\Sidevideos\\ar34motor\\2022_01_27\\58EYE.avi\n",
      "D:\\Sidevideos\\ar34motor\\2022_01_27  already exists!\n",
      "Loading  D:\\Sidevideos\\ar34motor\\2022_01_27\\58EYE.avi\n",
      "Duration of video [s]:  12.5 , recorded with  40.0 fps!\n",
      "Overall # of frames:  500  found with (before cropping) frame dimensions:  200 200\n",
      "Starting to extract posture\n",
      "Cropping based on the x1 = 60 x2 = 150 y1 = 60 y2 = 150. You can adjust the cropping coordinates in the config.yaml file.\n"
     ]
    },
    {
     "name": "stderr",
     "output_type": "stream",
     "text": [
      "510it [00:02, 212.82it/s]                                                                                              \n"
     ]
    },
    {
     "name": "stdout",
     "output_type": "stream",
     "text": [
      "Saving results in D:\\Sidevideos\\ar34motor\\2022_01_27...\n",
      "Saving csv poses!\n",
      "Starting to analyze %  D:\\Sidevideos\\ar34motor\\2022_01_27\\59EYE.avi\n",
      "D:\\Sidevideos\\ar34motor\\2022_01_27  already exists!\n",
      "Loading  D:\\Sidevideos\\ar34motor\\2022_01_27\\59EYE.avi\n",
      "Duration of video [s]:  12.5 , recorded with  40.0 fps!\n",
      "Overall # of frames:  500  found with (before cropping) frame dimensions:  200 200\n",
      "Starting to extract posture\n",
      "Cropping based on the x1 = 60 x2 = 150 y1 = 60 y2 = 150. You can adjust the cropping coordinates in the config.yaml file.\n"
     ]
    },
    {
     "name": "stderr",
     "output_type": "stream",
     "text": [
      "510it [00:02, 207.22it/s]                                                                                              \n"
     ]
    },
    {
     "name": "stdout",
     "output_type": "stream",
     "text": [
      "Saving results in D:\\Sidevideos\\ar34motor\\2022_01_27...\n",
      "Saving csv poses!\n",
      "Starting to analyze %  D:\\Sidevideos\\ar34motor\\2022_01_27\\5EYE.avi\n",
      "D:\\Sidevideos\\ar34motor\\2022_01_27  already exists!\n",
      "Loading  D:\\Sidevideos\\ar34motor\\2022_01_27\\5EYE.avi\n",
      "Duration of video [s]:  11.88 , recorded with  40.0 fps!\n",
      "Overall # of frames:  475  found with (before cropping) frame dimensions:  200 200\n",
      "Starting to extract posture\n",
      "Cropping based on the x1 = 60 x2 = 150 y1 = 60 y2 = 150. You can adjust the cropping coordinates in the config.yaml file.\n"
     ]
    },
    {
     "name": "stderr",
     "output_type": "stream",
     "text": [
      "480it [00:02, 212.39it/s]                                                                                              \n"
     ]
    },
    {
     "name": "stdout",
     "output_type": "stream",
     "text": [
      "Saving results in D:\\Sidevideos\\ar34motor\\2022_01_27...\n",
      "Saving csv poses!\n",
      "Starting to analyze %  D:\\Sidevideos\\ar34motor\\2022_01_27\\60EYE.avi\n",
      "D:\\Sidevideos\\ar34motor\\2022_01_27  already exists!\n",
      "Loading  D:\\Sidevideos\\ar34motor\\2022_01_27\\60EYE.avi\n",
      "Duration of video [s]:  12.4 , recorded with  40.0 fps!\n",
      "Overall # of frames:  496  found with (before cropping) frame dimensions:  200 200\n",
      "Starting to extract posture\n",
      "Cropping based on the x1 = 60 x2 = 150 y1 = 60 y2 = 150. You can adjust the cropping coordinates in the config.yaml file.\n"
     ]
    },
    {
     "name": "stderr",
     "output_type": "stream",
     "text": [
      "500it [00:02, 211.45it/s]                                                                                              \n"
     ]
    },
    {
     "name": "stdout",
     "output_type": "stream",
     "text": [
      "Saving results in D:\\Sidevideos\\ar34motor\\2022_01_27...\n",
      "Saving csv poses!\n",
      "Starting to analyze %  D:\\Sidevideos\\ar34motor\\2022_01_27\\61EYE.avi\n",
      "D:\\Sidevideos\\ar34motor\\2022_01_27  already exists!\n",
      "Loading  D:\\Sidevideos\\ar34motor\\2022_01_27\\61EYE.avi\n",
      "Duration of video [s]:  12.43 , recorded with  40.0 fps!\n",
      "Overall # of frames:  497  found with (before cropping) frame dimensions:  200 200\n",
      "Starting to extract posture\n",
      "Cropping based on the x1 = 60 x2 = 150 y1 = 60 y2 = 150. You can adjust the cropping coordinates in the config.yaml file.\n"
     ]
    },
    {
     "name": "stderr",
     "output_type": "stream",
     "text": [
      "500it [00:02, 213.43it/s]                                                                                              \n"
     ]
    },
    {
     "name": "stdout",
     "output_type": "stream",
     "text": [
      "Saving results in D:\\Sidevideos\\ar34motor\\2022_01_27...\n",
      "Saving csv poses!\n",
      "Starting to analyze %  D:\\Sidevideos\\ar34motor\\2022_01_27\\62EYE.avi\n",
      "D:\\Sidevideos\\ar34motor\\2022_01_27  already exists!\n",
      "Loading  D:\\Sidevideos\\ar34motor\\2022_01_27\\62EYE.avi\n",
      "Duration of video [s]:  12.5 , recorded with  40.0 fps!\n",
      "Overall # of frames:  500  found with (before cropping) frame dimensions:  200 200\n",
      "Starting to extract posture\n",
      "Cropping based on the x1 = 60 x2 = 150 y1 = 60 y2 = 150. You can adjust the cropping coordinates in the config.yaml file.\n"
     ]
    },
    {
     "name": "stderr",
     "output_type": "stream",
     "text": [
      "510it [00:02, 213.35it/s]                                                                                              \n"
     ]
    },
    {
     "name": "stdout",
     "output_type": "stream",
     "text": [
      "Saving results in D:\\Sidevideos\\ar34motor\\2022_01_27...\n",
      "Saving csv poses!\n",
      "Starting to analyze %  D:\\Sidevideos\\ar34motor\\2022_01_27\\63EYE.avi\n",
      "D:\\Sidevideos\\ar34motor\\2022_01_27  already exists!\n",
      "Loading  D:\\Sidevideos\\ar34motor\\2022_01_27\\63EYE.avi\n",
      "Duration of video [s]:  12.4 , recorded with  40.0 fps!\n",
      "Overall # of frames:  496  found with (before cropping) frame dimensions:  200 200\n",
      "Starting to extract posture\n",
      "Cropping based on the x1 = 60 x2 = 150 y1 = 60 y2 = 150. You can adjust the cropping coordinates in the config.yaml file.\n"
     ]
    },
    {
     "name": "stderr",
     "output_type": "stream",
     "text": [
      "500it [00:02, 215.35it/s]                                                                                              \n"
     ]
    },
    {
     "name": "stdout",
     "output_type": "stream",
     "text": [
      "Saving results in D:\\Sidevideos\\ar34motor\\2022_01_27...\n",
      "Saving csv poses!\n",
      "Starting to analyze %  D:\\Sidevideos\\ar34motor\\2022_01_27\\64EYE.avi\n",
      "D:\\Sidevideos\\ar34motor\\2022_01_27  already exists!\n",
      "Loading  D:\\Sidevideos\\ar34motor\\2022_01_27\\64EYE.avi\n",
      "Duration of video [s]:  12.43 , recorded with  40.0 fps!\n",
      "Overall # of frames:  497  found with (before cropping) frame dimensions:  200 200\n",
      "Starting to extract posture\n",
      "Cropping based on the x1 = 60 x2 = 150 y1 = 60 y2 = 150. You can adjust the cropping coordinates in the config.yaml file.\n"
     ]
    },
    {
     "name": "stderr",
     "output_type": "stream",
     "text": [
      "500it [00:02, 212.53it/s]                                                                                              \n"
     ]
    },
    {
     "name": "stdout",
     "output_type": "stream",
     "text": [
      "Saving results in D:\\Sidevideos\\ar34motor\\2022_01_27...\n",
      "Saving csv poses!\n",
      "Starting to analyze %  D:\\Sidevideos\\ar34motor\\2022_01_27\\65EYE.avi\n",
      "D:\\Sidevideos\\ar34motor\\2022_01_27  already exists!\n",
      "Loading  D:\\Sidevideos\\ar34motor\\2022_01_27\\65EYE.avi\n",
      "Duration of video [s]:  12.5 , recorded with  40.0 fps!\n",
      "Overall # of frames:  500  found with (before cropping) frame dimensions:  200 200\n",
      "Starting to extract posture\n",
      "Cropping based on the x1 = 60 x2 = 150 y1 = 60 y2 = 150. You can adjust the cropping coordinates in the config.yaml file.\n"
     ]
    },
    {
     "name": "stderr",
     "output_type": "stream",
     "text": [
      "510it [00:02, 216.23it/s]                                                                                              \n"
     ]
    },
    {
     "name": "stdout",
     "output_type": "stream",
     "text": [
      "Saving results in D:\\Sidevideos\\ar34motor\\2022_01_27...\n",
      "Saving csv poses!\n",
      "Starting to analyze %  D:\\Sidevideos\\ar34motor\\2022_01_27\\66EYE.avi\n",
      "D:\\Sidevideos\\ar34motor\\2022_01_27  already exists!\n",
      "Loading  D:\\Sidevideos\\ar34motor\\2022_01_27\\66EYE.avi\n",
      "Duration of video [s]:  12.32 , recorded with  40.0 fps!\n",
      "Overall # of frames:  493  found with (before cropping) frame dimensions:  200 200\n",
      "Starting to extract posture\n",
      "Cropping based on the x1 = 60 x2 = 150 y1 = 60 y2 = 150. You can adjust the cropping coordinates in the config.yaml file.\n"
     ]
    },
    {
     "name": "stderr",
     "output_type": "stream",
     "text": [
      "500it [00:02, 213.89it/s]                                                                                              \n"
     ]
    },
    {
     "name": "stdout",
     "output_type": "stream",
     "text": [
      "Saving results in D:\\Sidevideos\\ar34motor\\2022_01_27...\n",
      "Saving csv poses!\n",
      "Starting to analyze %  D:\\Sidevideos\\ar34motor\\2022_01_27\\67EYE.avi\n",
      "D:\\Sidevideos\\ar34motor\\2022_01_27  already exists!\n",
      "Loading  D:\\Sidevideos\\ar34motor\\2022_01_27\\67EYE.avi\n",
      "Duration of video [s]:  12.5 , recorded with  40.0 fps!\n",
      "Overall # of frames:  500  found with (before cropping) frame dimensions:  200 200\n",
      "Starting to extract posture\n",
      "Cropping based on the x1 = 60 x2 = 150 y1 = 60 y2 = 150. You can adjust the cropping coordinates in the config.yaml file.\n"
     ]
    },
    {
     "name": "stderr",
     "output_type": "stream",
     "text": [
      "510it [00:02, 215.59it/s]                                                                                              \n"
     ]
    },
    {
     "name": "stdout",
     "output_type": "stream",
     "text": [
      "Saving results in D:\\Sidevideos\\ar34motor\\2022_01_27...\n",
      "Saving csv poses!\n",
      "Starting to analyze %  D:\\Sidevideos\\ar34motor\\2022_01_27\\68EYE.avi\n",
      "D:\\Sidevideos\\ar34motor\\2022_01_27  already exists!\n",
      "Loading  D:\\Sidevideos\\ar34motor\\2022_01_27\\68EYE.avi\n",
      "Duration of video [s]:  12.5 , recorded with  40.0 fps!\n",
      "Overall # of frames:  500  found with (before cropping) frame dimensions:  200 200\n",
      "Starting to extract posture\n",
      "Cropping based on the x1 = 60 x2 = 150 y1 = 60 y2 = 150. You can adjust the cropping coordinates in the config.yaml file.\n"
     ]
    },
    {
     "name": "stderr",
     "output_type": "stream",
     "text": [
      "510it [00:02, 209.65it/s]                                                                                              \n"
     ]
    },
    {
     "name": "stdout",
     "output_type": "stream",
     "text": [
      "Saving results in D:\\Sidevideos\\ar34motor\\2022_01_27...\n",
      "Saving csv poses!\n",
      "Starting to analyze %  D:\\Sidevideos\\ar34motor\\2022_01_27\\69EYE.avi\n",
      "D:\\Sidevideos\\ar34motor\\2022_01_27  already exists!\n",
      "Loading  D:\\Sidevideos\\ar34motor\\2022_01_27\\69EYE.avi\n",
      "Duration of video [s]:  12.5 , recorded with  40.0 fps!\n",
      "Overall # of frames:  500  found with (before cropping) frame dimensions:  200 200\n",
      "Starting to extract posture\n",
      "Cropping based on the x1 = 60 x2 = 150 y1 = 60 y2 = 150. You can adjust the cropping coordinates in the config.yaml file.\n"
     ]
    },
    {
     "name": "stderr",
     "output_type": "stream",
     "text": [
      "510it [00:02, 212.90it/s]                                                                                              \n"
     ]
    },
    {
     "name": "stdout",
     "output_type": "stream",
     "text": [
      "Saving results in D:\\Sidevideos\\ar34motor\\2022_01_27...\n",
      "Saving csv poses!\n",
      "Starting to analyze %  D:\\Sidevideos\\ar34motor\\2022_01_27\\6EYE.avi\n",
      "D:\\Sidevideos\\ar34motor\\2022_01_27  already exists!\n",
      "Loading  D:\\Sidevideos\\ar34motor\\2022_01_27\\6EYE.avi\n",
      "Duration of video [s]:  11.93 , recorded with  40.0 fps!\n",
      "Overall # of frames:  477  found with (before cropping) frame dimensions:  200 200\n",
      "Starting to extract posture\n",
      "Cropping based on the x1 = 60 x2 = 150 y1 = 60 y2 = 150. You can adjust the cropping coordinates in the config.yaml file.\n"
     ]
    },
    {
     "name": "stderr",
     "output_type": "stream",
     "text": [
      "480it [00:02, 206.10it/s]                                                                                              \n"
     ]
    },
    {
     "name": "stdout",
     "output_type": "stream",
     "text": [
      "Saving results in D:\\Sidevideos\\ar34motor\\2022_01_27...\n",
      "Saving csv poses!\n",
      "Starting to analyze %  D:\\Sidevideos\\ar34motor\\2022_01_27\\70EYE.avi\n",
      "D:\\Sidevideos\\ar34motor\\2022_01_27  already exists!\n",
      "Loading  D:\\Sidevideos\\ar34motor\\2022_01_27\\70EYE.avi\n",
      "Duration of video [s]:  12.5 , recorded with  40.0 fps!\n",
      "Overall # of frames:  500  found with (before cropping) frame dimensions:  200 200\n",
      "Starting to extract posture\n",
      "Cropping based on the x1 = 60 x2 = 150 y1 = 60 y2 = 150. You can adjust the cropping coordinates in the config.yaml file.\n"
     ]
    },
    {
     "name": "stderr",
     "output_type": "stream",
     "text": [
      "510it [00:02, 214.06it/s]                                                                                              \n"
     ]
    },
    {
     "name": "stdout",
     "output_type": "stream",
     "text": [
      "Saving results in D:\\Sidevideos\\ar34motor\\2022_01_27...\n",
      "Saving csv poses!\n",
      "Starting to analyze %  D:\\Sidevideos\\ar34motor\\2022_01_27\\71EYE.avi\n",
      "D:\\Sidevideos\\ar34motor\\2022_01_27  already exists!\n",
      "Loading  D:\\Sidevideos\\ar34motor\\2022_01_27\\71EYE.avi\n",
      "Duration of video [s]:  11.03 , recorded with  40.0 fps!\n",
      "Overall # of frames:  441  found with (before cropping) frame dimensions:  200 200\n",
      "Starting to extract posture\n",
      "Cropping based on the x1 = 60 x2 = 150 y1 = 60 y2 = 150. You can adjust the cropping coordinates in the config.yaml file.\n"
     ]
    },
    {
     "name": "stderr",
     "output_type": "stream",
     "text": [
      "450it [00:02, 205.98it/s]                                                                                              \n"
     ]
    },
    {
     "name": "stdout",
     "output_type": "stream",
     "text": [
      "Saving results in D:\\Sidevideos\\ar34motor\\2022_01_27...\n",
      "Saving csv poses!\n",
      "Starting to analyze %  D:\\Sidevideos\\ar34motor\\2022_01_27\\72EYE.avi\n",
      "D:\\Sidevideos\\ar34motor\\2022_01_27  already exists!\n",
      "Loading  D:\\Sidevideos\\ar34motor\\2022_01_27\\72EYE.avi\n",
      "Duration of video [s]:  11.68 , recorded with  40.0 fps!\n",
      "Overall # of frames:  467  found with (before cropping) frame dimensions:  200 200\n",
      "Starting to extract posture\n",
      "Cropping based on the x1 = 60 x2 = 150 y1 = 60 y2 = 150. You can adjust the cropping coordinates in the config.yaml file.\n"
     ]
    },
    {
     "name": "stderr",
     "output_type": "stream",
     "text": [
      "470it [00:02, 210.65it/s]                                                                                              \n"
     ]
    },
    {
     "name": "stdout",
     "output_type": "stream",
     "text": [
      "Saving results in D:\\Sidevideos\\ar34motor\\2022_01_27...\n",
      "Saving csv poses!\n",
      "Starting to analyze %  D:\\Sidevideos\\ar34motor\\2022_01_27\\73EYE.avi\n",
      "D:\\Sidevideos\\ar34motor\\2022_01_27  already exists!\n",
      "Loading  D:\\Sidevideos\\ar34motor\\2022_01_27\\73EYE.avi\n",
      "Duration of video [s]:  8.38 , recorded with  40.0 fps!\n",
      "Overall # of frames:  335  found with (before cropping) frame dimensions:  200 200\n",
      "Starting to extract posture\n",
      "Cropping based on the x1 = 60 x2 = 150 y1 = 60 y2 = 150. You can adjust the cropping coordinates in the config.yaml file.\n"
     ]
    },
    {
     "name": "stderr",
     "output_type": "stream",
     "text": [
      "340it [00:01, 216.55it/s]                                                                                              \n"
     ]
    },
    {
     "name": "stdout",
     "output_type": "stream",
     "text": [
      "Saving results in D:\\Sidevideos\\ar34motor\\2022_01_27...\n",
      "Saving csv poses!\n",
      "Starting to analyze %  D:\\Sidevideos\\ar34motor\\2022_01_27\\74EYE.avi\n",
      "D:\\Sidevideos\\ar34motor\\2022_01_27  already exists!\n",
      "Loading  D:\\Sidevideos\\ar34motor\\2022_01_27\\74EYE.avi\n",
      "Duration of video [s]:  11.57 , recorded with  40.0 fps!\n",
      "Overall # of frames:  463  found with (before cropping) frame dimensions:  200 200\n",
      "Starting to extract posture\n",
      "Cropping based on the x1 = 60 x2 = 150 y1 = 60 y2 = 150. You can adjust the cropping coordinates in the config.yaml file.\n"
     ]
    },
    {
     "name": "stderr",
     "output_type": "stream",
     "text": [
      "470it [00:02, 214.58it/s]                                                                                              \n"
     ]
    },
    {
     "name": "stdout",
     "output_type": "stream",
     "text": [
      "Saving results in D:\\Sidevideos\\ar34motor\\2022_01_27...\n",
      "Saving csv poses!\n",
      "Starting to analyze %  D:\\Sidevideos\\ar34motor\\2022_01_27\\75EYE.avi\n",
      "D:\\Sidevideos\\ar34motor\\2022_01_27  already exists!\n",
      "Loading  D:\\Sidevideos\\ar34motor\\2022_01_27\\75EYE.avi\n",
      "Duration of video [s]:  10.43 , recorded with  40.0 fps!\n",
      "Overall # of frames:  417  found with (before cropping) frame dimensions:  200 200\n",
      "Starting to extract posture\n",
      "Cropping based on the x1 = 60 x2 = 150 y1 = 60 y2 = 150. You can adjust the cropping coordinates in the config.yaml file.\n"
     ]
    },
    {
     "name": "stderr",
     "output_type": "stream",
     "text": [
      "420it [00:02, 208.73it/s]                                                                                              \n"
     ]
    },
    {
     "name": "stdout",
     "output_type": "stream",
     "text": [
      "Saving results in D:\\Sidevideos\\ar34motor\\2022_01_27...\n",
      "Saving csv poses!\n",
      "Starting to analyze %  D:\\Sidevideos\\ar34motor\\2022_01_27\\76EYE.avi\n",
      "D:\\Sidevideos\\ar34motor\\2022_01_27  already exists!\n",
      "Loading  D:\\Sidevideos\\ar34motor\\2022_01_27\\76EYE.avi\n",
      "Duration of video [s]:  9.55 , recorded with  40.0 fps!\n",
      "Overall # of frames:  382  found with (before cropping) frame dimensions:  200 200\n",
      "Starting to extract posture\n",
      "Cropping based on the x1 = 60 x2 = 150 y1 = 60 y2 = 150. You can adjust the cropping coordinates in the config.yaml file.\n"
     ]
    },
    {
     "name": "stderr",
     "output_type": "stream",
     "text": [
      "390it [00:01, 209.92it/s]                                                                                              \n"
     ]
    },
    {
     "name": "stdout",
     "output_type": "stream",
     "text": [
      "Saving results in D:\\Sidevideos\\ar34motor\\2022_01_27...\n",
      "Saving csv poses!\n",
      "Starting to analyze %  D:\\Sidevideos\\ar34motor\\2022_01_27\\77EYE.avi\n",
      "D:\\Sidevideos\\ar34motor\\2022_01_27  already exists!\n",
      "Loading  D:\\Sidevideos\\ar34motor\\2022_01_27\\77EYE.avi\n",
      "Duration of video [s]:  11.22 , recorded with  40.0 fps!\n",
      "Overall # of frames:  449  found with (before cropping) frame dimensions:  200 200\n",
      "Starting to extract posture\n",
      "Cropping based on the x1 = 60 x2 = 150 y1 = 60 y2 = 150. You can adjust the cropping coordinates in the config.yaml file.\n"
     ]
    },
    {
     "name": "stderr",
     "output_type": "stream",
     "text": [
      "450it [00:02, 208.19it/s]                                                                                              \n"
     ]
    },
    {
     "name": "stdout",
     "output_type": "stream",
     "text": [
      "Saving results in D:\\Sidevideos\\ar34motor\\2022_01_27...\n",
      "Saving csv poses!\n",
      "Starting to analyze %  D:\\Sidevideos\\ar34motor\\2022_01_27\\78EYE.avi\n",
      "D:\\Sidevideos\\ar34motor\\2022_01_27  already exists!\n",
      "Loading  D:\\Sidevideos\\ar34motor\\2022_01_27\\78EYE.avi\n",
      "Duration of video [s]:  11.4 , recorded with  40.0 fps!\n",
      "Overall # of frames:  456  found with (before cropping) frame dimensions:  200 200\n",
      "Starting to extract posture\n",
      "Cropping based on the x1 = 60 x2 = 150 y1 = 60 y2 = 150. You can adjust the cropping coordinates in the config.yaml file.\n"
     ]
    },
    {
     "name": "stderr",
     "output_type": "stream",
     "text": [
      "460it [00:02, 214.30it/s]                                                                                              \n"
     ]
    },
    {
     "name": "stdout",
     "output_type": "stream",
     "text": [
      "Saving results in D:\\Sidevideos\\ar34motor\\2022_01_27...\n",
      "Saving csv poses!\n",
      "Starting to analyze %  D:\\Sidevideos\\ar34motor\\2022_01_27\\79EYE.avi\n",
      "D:\\Sidevideos\\ar34motor\\2022_01_27  already exists!\n",
      "Loading  D:\\Sidevideos\\ar34motor\\2022_01_27\\79EYE.avi\n",
      "Duration of video [s]:  12.5 , recorded with  40.0 fps!\n",
      "Overall # of frames:  500  found with (before cropping) frame dimensions:  200 200\n",
      "Starting to extract posture\n",
      "Cropping based on the x1 = 60 x2 = 150 y1 = 60 y2 = 150. You can adjust the cropping coordinates in the config.yaml file.\n"
     ]
    },
    {
     "name": "stderr",
     "output_type": "stream",
     "text": [
      "510it [00:02, 210.28it/s]                                                                                              \n"
     ]
    },
    {
     "name": "stdout",
     "output_type": "stream",
     "text": [
      "Saving results in D:\\Sidevideos\\ar34motor\\2022_01_27...\n",
      "Saving csv poses!\n",
      "Starting to analyze %  D:\\Sidevideos\\ar34motor\\2022_01_27\\7EYE.avi\n",
      "D:\\Sidevideos\\ar34motor\\2022_01_27  already exists!\n",
      "Loading  D:\\Sidevideos\\ar34motor\\2022_01_27\\7EYE.avi\n",
      "Duration of video [s]:  10.3 , recorded with  40.0 fps!\n",
      "Overall # of frames:  412  found with (before cropping) frame dimensions:  200 200\n",
      "Starting to extract posture\n",
      "Cropping based on the x1 = 60 x2 = 150 y1 = 60 y2 = 150. You can adjust the cropping coordinates in the config.yaml file.\n"
     ]
    },
    {
     "name": "stderr",
     "output_type": "stream",
     "text": [
      "420it [00:01, 213.70it/s]                                                                                              \n"
     ]
    },
    {
     "name": "stdout",
     "output_type": "stream",
     "text": [
      "Saving results in D:\\Sidevideos\\ar34motor\\2022_01_27...\n",
      "Saving csv poses!\n",
      "Starting to analyze %  D:\\Sidevideos\\ar34motor\\2022_01_27\\80EYE.avi\n",
      "D:\\Sidevideos\\ar34motor\\2022_01_27  already exists!\n",
      "Loading  D:\\Sidevideos\\ar34motor\\2022_01_27\\80EYE.avi\n",
      "Duration of video [s]:  12.5 , recorded with  40.0 fps!\n",
      "Overall # of frames:  500  found with (before cropping) frame dimensions:  200 200\n",
      "Starting to extract posture\n",
      "Cropping based on the x1 = 60 x2 = 150 y1 = 60 y2 = 150. You can adjust the cropping coordinates in the config.yaml file.\n"
     ]
    },
    {
     "name": "stderr",
     "output_type": "stream",
     "text": [
      "510it [00:02, 212.28it/s]                                                                                              \n"
     ]
    },
    {
     "name": "stdout",
     "output_type": "stream",
     "text": [
      "Saving results in D:\\Sidevideos\\ar34motor\\2022_01_27...\n",
      "Saving csv poses!\n",
      "Starting to analyze %  D:\\Sidevideos\\ar34motor\\2022_01_27\\8EYE.avi\n",
      "D:\\Sidevideos\\ar34motor\\2022_01_27  already exists!\n",
      "Loading  D:\\Sidevideos\\ar34motor\\2022_01_27\\8EYE.avi\n",
      "Duration of video [s]:  11.53 , recorded with  40.0 fps!\n",
      "Overall # of frames:  461  found with (before cropping) frame dimensions:  200 200\n",
      "Starting to extract posture\n",
      "Cropping based on the x1 = 60 x2 = 150 y1 = 60 y2 = 150. You can adjust the cropping coordinates in the config.yaml file.\n"
     ]
    },
    {
     "name": "stderr",
     "output_type": "stream",
     "text": [
      "470it [00:02, 214.97it/s]                                                                                              \n"
     ]
    },
    {
     "name": "stdout",
     "output_type": "stream",
     "text": [
      "Saving results in D:\\Sidevideos\\ar34motor\\2022_01_27...\n",
      "Saving csv poses!\n",
      "Starting to analyze %  D:\\Sidevideos\\ar34motor\\2022_01_27\\9EYE.avi\n",
      "D:\\Sidevideos\\ar34motor\\2022_01_27  already exists!\n",
      "Loading  D:\\Sidevideos\\ar34motor\\2022_01_27\\9EYE.avi\n",
      "Duration of video [s]:  11.03 , recorded with  40.0 fps!\n",
      "Overall # of frames:  441  found with (before cropping) frame dimensions:  200 200\n",
      "Starting to extract posture\n",
      "Cropping based on the x1 = 60 x2 = 150 y1 = 60 y2 = 150. You can adjust the cropping coordinates in the config.yaml file.\n"
     ]
    },
    {
     "name": "stderr",
     "output_type": "stream",
     "text": [
      "450it [00:02, 207.05it/s]                                                                                              \n"
     ]
    },
    {
     "name": "stdout",
     "output_type": "stream",
     "text": [
      "Saving results in D:\\Sidevideos\\ar34motor\\2022_01_27...\n",
      "Saving csv poses!\n",
      "The videos are analyzed. Now your research can truly start! \n",
      " You can create labeled videos with 'create_labeled_video'\n",
      "If the tracking is not satisfactory for some videos, consider expanding the training set. You can use the function 'extract_outlier_frames' to extract a few representative outlier frames.\n",
      "Filtering with median model D:\\Sidevideos\\ar34motor\\2022_01_27\\0EYE.avi\n",
      "Saving filtered csv poses!\n",
      "Filtering with median model D:\\Sidevideos\\ar34motor\\2022_01_27\\10EYE.avi\n",
      "Saving filtered csv poses!\n",
      "Filtering with median model D:\\Sidevideos\\ar34motor\\2022_01_27\\11EYE.avi\n",
      "Saving filtered csv poses!\n",
      "Filtering with median model D:\\Sidevideos\\ar34motor\\2022_01_27\\12EYE.avi\n",
      "Saving filtered csv poses!\n",
      "Filtering with median model D:\\Sidevideos\\ar34motor\\2022_01_27\\13EYE.avi\n",
      "Saving filtered csv poses!\n",
      "Filtering with median model D:\\Sidevideos\\ar34motor\\2022_01_27\\14EYE.avi\n",
      "Saving filtered csv poses!\n",
      "Filtering with median model D:\\Sidevideos\\ar34motor\\2022_01_27\\15EYE.avi\n",
      "Saving filtered csv poses!\n",
      "Filtering with median model D:\\Sidevideos\\ar34motor\\2022_01_27\\16EYE.avi\n",
      "Saving filtered csv poses!\n",
      "Filtering with median model D:\\Sidevideos\\ar34motor\\2022_01_27\\17EYE.avi\n",
      "Saving filtered csv poses!\n",
      "Filtering with median model D:\\Sidevideos\\ar34motor\\2022_01_27\\19EYE.avi\n",
      "Saving filtered csv poses!\n",
      "Filtering with median model D:\\Sidevideos\\ar34motor\\2022_01_27\\1EYE.avi\n",
      "Saving filtered csv poses!\n",
      "Filtering with median model D:\\Sidevideos\\ar34motor\\2022_01_27\\20EYE.avi\n",
      "Saving filtered csv poses!\n",
      "Filtering with median model D:\\Sidevideos\\ar34motor\\2022_01_27\\21EYE.avi\n",
      "Saving filtered csv poses!\n",
      "Filtering with median model D:\\Sidevideos\\ar34motor\\2022_01_27\\22EYE.avi\n",
      "Saving filtered csv poses!\n",
      "Filtering with median model D:\\Sidevideos\\ar34motor\\2022_01_27\\23EYE.avi\n",
      "Saving filtered csv poses!\n",
      "Filtering with median model D:\\Sidevideos\\ar34motor\\2022_01_27\\24EYE.avi\n",
      "Saving filtered csv poses!\n",
      "Filtering with median model D:\\Sidevideos\\ar34motor\\2022_01_27\\25EYE.avi\n",
      "Saving filtered csv poses!\n",
      "Filtering with median model D:\\Sidevideos\\ar34motor\\2022_01_27\\26EYE.avi\n",
      "Saving filtered csv poses!\n",
      "Filtering with median model D:\\Sidevideos\\ar34motor\\2022_01_27\\27EYE.avi\n",
      "Saving filtered csv poses!\n",
      "Filtering with median model D:\\Sidevideos\\ar34motor\\2022_01_27\\28EYE.avi\n",
      "Saving filtered csv poses!\n",
      "Filtering with median model D:\\Sidevideos\\ar34motor\\2022_01_27\\29EYE.avi\n",
      "Saving filtered csv poses!\n",
      "Filtering with median model D:\\Sidevideos\\ar34motor\\2022_01_27\\2EYE.avi\n",
      "Saving filtered csv poses!\n",
      "Filtering with median model D:\\Sidevideos\\ar34motor\\2022_01_27\\30EYE.avi\n",
      "Saving filtered csv poses!\n",
      "Filtering with median model D:\\Sidevideos\\ar34motor\\2022_01_27\\31EYE.avi\n",
      "Saving filtered csv poses!\n",
      "Filtering with median model D:\\Sidevideos\\ar34motor\\2022_01_27\\32EYE.avi\n",
      "Saving filtered csv poses!\n",
      "Filtering with median model D:\\Sidevideos\\ar34motor\\2022_01_27\\33EYE.avi\n",
      "Saving filtered csv poses!\n",
      "Filtering with median model D:\\Sidevideos\\ar34motor\\2022_01_27\\34EYE.avi\n",
      "Saving filtered csv poses!\n",
      "Filtering with median model D:\\Sidevideos\\ar34motor\\2022_01_27\\35EYE.avi\n",
      "Saving filtered csv poses!\n",
      "Filtering with median model D:\\Sidevideos\\ar34motor\\2022_01_27\\36EYE.avi\n",
      "Saving filtered csv poses!\n",
      "Filtering with median model D:\\Sidevideos\\ar34motor\\2022_01_27\\37EYE.avi\n",
      "Saving filtered csv poses!\n",
      "Filtering with median model D:\\Sidevideos\\ar34motor\\2022_01_27\\38EYE.avi\n",
      "Saving filtered csv poses!\n",
      "Filtering with median model D:\\Sidevideos\\ar34motor\\2022_01_27\\39EYE.avi\n",
      "Saving filtered csv poses!\n",
      "Filtering with median model D:\\Sidevideos\\ar34motor\\2022_01_27\\3EYE.avi\n",
      "Saving filtered csv poses!\n",
      "Filtering with median model D:\\Sidevideos\\ar34motor\\2022_01_27\\40EYE.avi\n",
      "Saving filtered csv poses!\n",
      "Filtering with median model D:\\Sidevideos\\ar34motor\\2022_01_27\\41EYE.avi\n",
      "Saving filtered csv poses!\n",
      "Filtering with median model D:\\Sidevideos\\ar34motor\\2022_01_27\\42EYE.avi\n",
      "Saving filtered csv poses!\n",
      "Filtering with median model D:\\Sidevideos\\ar34motor\\2022_01_27\\43EYE.avi\n",
      "Saving filtered csv poses!\n",
      "Filtering with median model D:\\Sidevideos\\ar34motor\\2022_01_27\\44EYE.avi\n",
      "Saving filtered csv poses!\n",
      "Filtering with median model D:\\Sidevideos\\ar34motor\\2022_01_27\\45EYE.avi\n",
      "Saving filtered csv poses!\n",
      "Filtering with median model D:\\Sidevideos\\ar34motor\\2022_01_27\\46EYE.avi\n",
      "Saving filtered csv poses!\n",
      "Filtering with median model D:\\Sidevideos\\ar34motor\\2022_01_27\\47EYE.avi\n",
      "Saving filtered csv poses!\n",
      "Filtering with median model D:\\Sidevideos\\ar34motor\\2022_01_27\\48EYE.avi\n",
      "Saving filtered csv poses!\n",
      "Filtering with median model D:\\Sidevideos\\ar34motor\\2022_01_27\\49EYE.avi\n",
      "Saving filtered csv poses!\n",
      "Filtering with median model D:\\Sidevideos\\ar34motor\\2022_01_27\\4EYE.avi\n",
      "Saving filtered csv poses!\n",
      "Filtering with median model D:\\Sidevideos\\ar34motor\\2022_01_27\\50EYE.avi\n",
      "Saving filtered csv poses!\n",
      "Filtering with median model D:\\Sidevideos\\ar34motor\\2022_01_27\\51EYE.avi\n",
      "Saving filtered csv poses!\n",
      "Filtering with median model D:\\Sidevideos\\ar34motor\\2022_01_27\\52EYE.avi\n",
      "Saving filtered csv poses!\n",
      "Filtering with median model D:\\Sidevideos\\ar34motor\\2022_01_27\\53EYE.avi\n",
      "Saving filtered csv poses!\n",
      "Filtering with median model D:\\Sidevideos\\ar34motor\\2022_01_27\\54EYE.avi\n",
      "Saving filtered csv poses!\n",
      "Filtering with median model D:\\Sidevideos\\ar34motor\\2022_01_27\\55EYE.avi\n",
      "Saving filtered csv poses!\n",
      "Filtering with median model D:\\Sidevideos\\ar34motor\\2022_01_27\\56EYE.avi\n",
      "Saving filtered csv poses!\n",
      "Filtering with median model D:\\Sidevideos\\ar34motor\\2022_01_27\\57EYE.avi\n",
      "Saving filtered csv poses!\n",
      "Filtering with median model D:\\Sidevideos\\ar34motor\\2022_01_27\\58EYE.avi\n",
      "Saving filtered csv poses!\n",
      "Filtering with median model D:\\Sidevideos\\ar34motor\\2022_01_27\\59EYE.avi\n",
      "Saving filtered csv poses!\n",
      "Filtering with median model D:\\Sidevideos\\ar34motor\\2022_01_27\\5EYE.avi\n",
      "Saving filtered csv poses!\n",
      "Filtering with median model D:\\Sidevideos\\ar34motor\\2022_01_27\\60EYE.avi\n",
      "Saving filtered csv poses!\n",
      "Filtering with median model D:\\Sidevideos\\ar34motor\\2022_01_27\\61EYE.avi\n",
      "Saving filtered csv poses!\n",
      "Filtering with median model D:\\Sidevideos\\ar34motor\\2022_01_27\\62EYE.avi\n",
      "Saving filtered csv poses!\n",
      "Filtering with median model D:\\Sidevideos\\ar34motor\\2022_01_27\\63EYE.avi\n",
      "Saving filtered csv poses!\n",
      "Filtering with median model D:\\Sidevideos\\ar34motor\\2022_01_27\\64EYE.avi\n",
      "Saving filtered csv poses!\n",
      "Filtering with median model D:\\Sidevideos\\ar34motor\\2022_01_27\\65EYE.avi\n",
      "Saving filtered csv poses!\n",
      "Filtering with median model D:\\Sidevideos\\ar34motor\\2022_01_27\\66EYE.avi\n",
      "Saving filtered csv poses!\n",
      "Filtering with median model D:\\Sidevideos\\ar34motor\\2022_01_27\\67EYE.avi\n",
      "Saving filtered csv poses!\n",
      "Filtering with median model D:\\Sidevideos\\ar34motor\\2022_01_27\\68EYE.avi\n",
      "Saving filtered csv poses!\n",
      "Filtering with median model D:\\Sidevideos\\ar34motor\\2022_01_27\\69EYE.avi\n",
      "Saving filtered csv poses!\n",
      "Filtering with median model D:\\Sidevideos\\ar34motor\\2022_01_27\\6EYE.avi\n",
      "Saving filtered csv poses!\n",
      "Filtering with median model D:\\Sidevideos\\ar34motor\\2022_01_27\\70EYE.avi\n",
      "Saving filtered csv poses!\n",
      "Filtering with median model D:\\Sidevideos\\ar34motor\\2022_01_27\\71EYE.avi\n",
      "Saving filtered csv poses!\n",
      "Filtering with median model D:\\Sidevideos\\ar34motor\\2022_01_27\\72EYE.avi\n",
      "Saving filtered csv poses!\n",
      "Filtering with median model D:\\Sidevideos\\ar34motor\\2022_01_27\\73EYE.avi\n",
      "Saving filtered csv poses!\n",
      "Filtering with median model D:\\Sidevideos\\ar34motor\\2022_01_27\\74EYE.avi\n",
      "Saving filtered csv poses!\n",
      "Filtering with median model D:\\Sidevideos\\ar34motor\\2022_01_27\\75EYE.avi\n",
      "Saving filtered csv poses!\n",
      "Filtering with median model D:\\Sidevideos\\ar34motor\\2022_01_27\\76EYE.avi\n",
      "Saving filtered csv poses!\n",
      "Filtering with median model D:\\Sidevideos\\ar34motor\\2022_01_27\\77EYE.avi\n",
      "Saving filtered csv poses!\n",
      "Filtering with median model D:\\Sidevideos\\ar34motor\\2022_01_27\\78EYE.avi\n",
      "Saving filtered csv poses!\n",
      "Filtering with median model D:\\Sidevideos\\ar34motor\\2022_01_27\\79EYE.avi\n",
      "Saving filtered csv poses!\n",
      "Filtering with median model D:\\Sidevideos\\ar34motor\\2022_01_27\\7EYE.avi\n",
      "Saving filtered csv poses!\n",
      "Filtering with median model D:\\Sidevideos\\ar34motor\\2022_01_27\\80EYE.avi\n",
      "Saving filtered csv poses!\n",
      "Filtering with median model D:\\Sidevideos\\ar34motor\\2022_01_27\\8EYE.avi\n",
      "Saving filtered csv poses!\n",
      "Filtering with median model D:\\Sidevideos\\ar34motor\\2022_01_27\\9EYE.avi\n"
     ]
    },
    {
     "name": "stdout",
     "output_type": "stream",
     "text": [
      "Saving filtered csv poses!\n"
     ]
    }
   ],
   "source": [
    "path_config_file = 'D:\\\\Sidevideos\\\\DLC\\\\Sideview4-Arash-2021-07-18\\\\config.yaml';\n",
    "#Mainfolder = 'D:\\\\videos\\\\ar32\\\\2020_12_18';\n",
    "path_config_file ='C:\\\\Users\\\\DKLAb\\\\Dropbox\\\\Notebook\\\\DLC\\\\Eyedata4-Arash-2022-02-02\\\\config.yaml';\n",
    "#Mainfolder = 'D:\\\\videos\\\\ar32\\\\2020_12_18';\n",
    "import os\n",
    "text_files = [os.path.join(Mainfolder,f) for f in os.listdir(Mainfolder) if f.endswith('EYE.avi') and not f.endswith('L.avi') and not f.endswith('R.avi') and not f.endswith('videopoints.avi') and not f.endswith('videopoints.avi')]\n",
    "print(text_files[1])\n",
    "#text_files='C:\\\\videos\\\\ar30motor\\\\2021_04_25\\\\9.avi'\n",
    "temp1=deeplabcut.analyze_videos(path_config_file,text_files,shuffle=1, save_as_csv=True )\n",
    "temp=deeplabcut.filterpredictions(path_config_file,text_files)"
   ]
  },
  {
   "cell_type": "markdown",
   "metadata": {},
   "source": [
    "# this step should take the filtered DLC output (Nose and Snout)\n",
    "and create the L and R movies\n",
    "then using another function to convert L and R (R is left face and L is right face) files into Mask and Mirror files( Mask only adds mask to the Right side of the face and Mirror. \n"
   ]
  },
  {
   "cell_type": "markdown",
   "metadata": {},
   "source": [
    "# copy tracked files into the server (with mp4 movies)"
   ]
  },
  {
   "cell_type": "code",
   "execution_count": null,
   "metadata": {},
   "outputs": [],
   "source": [
    "# the code to run matlab here\n",
    "#Mainfolder = 'C:\\\\videos\\\\ar344thday\\\\2021_07_26'\n",
    "# copy tracked files into the server (with mp4 movies)\n",
    "Mainfolder = 'D:\\\\Sidevideos\\\\ar32motor\\\\2021_08_02'\n",
    "\n",
    "#Mainfolder = 'D:\\\\Sidevideos\\\\ar344thday\\\\2021_07_26'\n",
    "#destination = ''\n",
    "destination='//dk-server.dk.ucsd.edu/afassihizakeri/SC_Movies/ar32motor/2021_08_02/Side'\n",
    "import shutil\n",
    "shutil.copytree( Mainfolder,destination, ignore=shutil.ignore_patterns('*.avi'),copy_function = shutil.copy)\n",
    "#copytree(Mainfolder, destination, ignore=ignore_patterns('*.avi'))\n",
    "\n",
    "\n"
   ]
  },
  {
   "cell_type": "markdown",
   "metadata": {},
   "source": [
    "this step makes Mirror Mask files"
   ]
  },
  {
   "cell_type": "markdown",
   "metadata": {},
   "source": [
    "# copy tracked data"
   ]
  },
  {
   "cell_type": "code",
   "execution_count": null,
   "metadata": {},
   "outputs": [],
   "source": [
    "import os  # this is to get folder information and creat files\n",
    "import cv2  # this is important and is reading and writing images and video\n",
    "import shutil\n",
    "destination='//dk-server.dk.ucsd.edu/afassihizakeri/SC_Movies/ar34training/4thdayside'\n",
    "D:\\Sidevideos\\ar34motor\\2022_01_27D:\\Sidevideos\\ar34motor\\2022_01_27\n",
    "All_Folders=[ name for name in os.listdir(Mainfolder) if not os.path.isdir(os.path.join(Mainfolder, name)) ]\n",
    "#print(All_Folders)\n",
    "for num in range(0,len(All_Folders)): \n",
    "    thisdestination = os.path.join(destination+'/', All_Folders[num])\n",
    "    thissource = os.path.join(Mainfolder+os.sep, All_Folders[num])\n",
    "    shutil.copy( thissource,destination)\n",
    "    print(thisdestination)\n"
   ]
  },
  {
   "cell_type": "markdown",
   "metadata": {},
   "source": [
    "# create labled videos"
   ]
  },
  {
   "cell_type": "code",
   "execution_count": 13,
   "metadata": {},
   "outputs": [],
   "source": [
    "# first we create a vector of destination file names\n",
    "import os \n",
    "\n",
    "dirname = os.path.dirname(text_files[1]) \n",
    "\n",
    "thesenames= [os.path.basename(f)  for f in text_files] \n",
    "text_files2 = [os.path.join( os.path.join(os.path.dirname(text_files[1]),'labled'),f) for f in thesenames ]  \n",
    "\n",
    "#os.mkdir\n",
    "#if not (os.path.isdir(os.path.join(os.path.dirname(text_files[1]),'labled'))):\n",
    "# os.mkdir(os.path.join(os.path.dirname(text_files[1]),'labled'))\n",
    "# Print the directory name   \n",
    "#print(text_files2[1]) \n",
    "#for f in text_files:\n",
    "\n",
    "#deeplabcut.create_labeled_video(path_config_file,videofile,save_frames=True) # my_new_list was created in prevouse cell as all videos in the folder \n",
    "deeplabcut.create_labeled_video(path_config_file,[text_files[2]],save_frames=True)\n",
    "  "
   ]
  }
 ],
 "metadata": {
  "kernelspec": {
   "display_name": "Python 3 (ipykernel)",
   "language": "python",
   "name": "python3"
  },
  "language_info": {
   "codemirror_mode": {
    "name": "ipython",
    "version": 3
   },
   "file_extension": ".py",
   "mimetype": "text/x-python",
   "name": "python",
   "nbconvert_exporter": "python",
   "pygments_lexer": "ipython3",
   "version": "3.8.12"
  }
 },
 "nbformat": 4,
 "nbformat_minor": 2
}
