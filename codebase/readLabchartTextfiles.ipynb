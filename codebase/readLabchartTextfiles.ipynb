{
 "cells": [
  {
   "cell_type": "code",
   "execution_count": 120,
   "metadata": {},
   "outputs": [
    {
     "name": "stdout",
     "output_type": "stream",
     "text": [
      "ExcelDateTime=\t4.3523716628963448e+004\t2/27/2019 17:11:56.742442\n",
      "\n"
     ]
    }
   ],
   "source": [
    "\n",
    "print(lines[7])\n"
   ]
  },
  {
   "cell_type": "code",
   "execution_count": 92,
   "metadata": {},
   "outputs": [
    {
     "name": "stdout",
     "output_type": "stream",
     "text": [
      "DateFormat=\t\n",
      "\n"
     ]
    }
   ],
   "source": [
    "file = 'D:\\\\RatLABCHARTdata\\\\ar17_02_27_2019ch5.txt';\n",
    "f=open(file,\"r\")\n",
    "lines=f.readlines()[8508: ]\n",
    "\n",
    "print(lines[1])\n"
   ]
  },
  {
   "cell_type": "code",
   "execution_count": 90,
   "metadata": {},
   "outputs": [
    {
     "name": "stdout",
     "output_type": "stream",
     "text": [
      "23500500\n"
     ]
    }
   ],
   "source": [
    "resultch5=[]\n",
    "resultch7=[]\n",
    "resultch8=[]\n",
    "\n",
    "for x in lines:\n",
    "    resultch5.append(float(x.split()[1]))\n",
    "    resultch7.append(float(x.split()[2]))\n",
    "    resultch8.append(float(x.split()[3]))\n",
    "\n",
    "f.close()\n",
    "print(len(resultch5))\n",
    "\n",
    "\n",
    "#a,b = x.split()[2];\n",
    "#print(a)"
   ]
  },
  {
   "cell_type": "code",
   "execution_count": 91,
   "metadata": {},
   "outputs": [],
   "source": [
    "#with open('D:\\\\RatLABCHARTdata\\\\afile.txt', 'w') as output:\n",
    "#    output.write(str(resultch5))\n",
    "    \n",
    "    \n",
    "import csv\n",
    "\n",
    "outfile = open('D:\\\\RatLABCHARTdata\\\\afile.cvs', 'w')  \n",
    "out = csv.writer(outfile)\n",
    "out.writerows(map(lambda x: [x], resultch5))\n",
    "outfile.close()\n",
    "outfile = open('D:\\\\RatLABCHARTdata\\\\bfile.cvs', 'w')  \n",
    "out = csv.writer(outfile)\n",
    "out.writerows(map(lambda x: [x], resultch7))\n",
    "outfile.close()\n",
    "outfile = open('D:\\\\RatLABCHARTdata\\\\cfile.cvs', 'w')  \n",
    "out = csv.writer(outfile)\n",
    "out.writerows(map(lambda x: [x], resultch8))\n",
    "outfile.close()"
   ]
  }
 ],
 "metadata": {
  "kernelspec": {
   "display_name": "Python 3",
   "language": "python",
   "name": "python3"
  },
  "language_info": {
   "codemirror_mode": {
    "name": "ipython",
    "version": 3
   },
   "file_extension": ".py",
   "mimetype": "text/x-python",
   "name": "python",
   "nbconvert_exporter": "python",
   "pygments_lexer": "ipython3",
   "version": "3.6.7"
  }
 },
 "nbformat": 4,
 "nbformat_minor": 2
}
