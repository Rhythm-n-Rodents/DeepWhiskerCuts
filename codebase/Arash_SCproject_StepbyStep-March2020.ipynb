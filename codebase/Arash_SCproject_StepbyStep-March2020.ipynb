{
 "cells": [
  {
   "cell_type": "markdown",
   "metadata": {
    "colab_type": "text",
    "id": "RK255E7YoEIt"
   },
   "source": [
    "# DeepLabCut Toolbox\n",
    "https://github.com/AlexEMG/DeepLabCut\n",
    "\n",
    "\n",
    "This notebook demonstrates the necessary steps to use python and DeepLabCut for creating and analysins videos from orientation \n",
    "experiment \n",
    "\n",
    "This notebook illustrates how to:\n",
    " \n",
    "- make a movie from images \n",
    "- create a project\n",
    "- extract training frames\n",
    "- label the frames\n",
    "- plot the labeled images (optional)\n",
    "- create a training set\n",
    "- train a network\n",
    "- evaluate a network\n",
    "- analyze a novel video\n",
    "- create an automatically labeled video (optional)\n",
    "- Go to Matlab \n",
    "\n"
   ]
  },
  {
   "cell_type": "markdown",
   "metadata": {
    "colab_type": "text",
    "id": "9Uoz9mdPoEIy"
   },
   "source": [
    "## Make  movie from images \n",
    "\n",
    "this step is to produce movie per trial. Each trial forlder contains around 600-1200 images from each trial."
   ]
  },
  {
   "cell_type": "code",
   "execution_count": 30,
   "metadata": {},
   "outputs": [
    {
     "name": "stdout",
     "output_type": "stream",
     "text": [
      "['20-18-08', '20-18-08']\n",
      "E:\\movies\\ar2breathing\\10_08_19\\20-18-08.avi\n"
     ]
    }
   ],
   "source": [
    "# enter the folder name \n",
    "Mainfolder = 'E:\\\\movies\\\\ar2breathing\\\\10_08_19';\n",
    "#Mainfolder = 'Y:\\\\movies_Rat_SC_project\\\\ar2breathing\\\\10_06_19';\n",
    "      # F:\\ar19muscimol500ug500nlrightside\\10_10_19                                                                                                           \n",
    "Ratid = 50019;\n",
    "this_date = 100819\n",
    "\n",
    "\n",
    "#F:\\ar2breathing\\10_18_19\n",
    "# entries for the xls file\n",
    "Namesforarray =['Trialnumber','Licknumberu','sidethatanimalshouldgo','timeinsecond','sensservomotor','movespots','correct','lickoccured','lihgontrials','allpulsesoflight','lightduration','Frequ','timestamp','RD'];\n",
    "\n",
    "import os # this is to get folder information and creat files \n",
    "import cv2 # this is important and is reading and writing images and video \n",
    "import subprocess \n",
    "import shutil\n",
    "import matplotlib.pyplot as plt\n",
    "import matplotlib.image as mpimg\n",
    "import numpy as np\n",
    "import xlsxwriter  # this is to write xls files \n",
    "from PIL import Image\n",
    "# define a functino to convert video_input into  video_output in mpeg format\n",
    "def convert_video(video_input, video_output):\n",
    "    cmds = ['ffmpeg', '-i', video_input, video_output]\n",
    "    subprocess.Popen(cmds)\n",
    " \n",
    "col = 0\n",
    "included_extensions = ['.png']\n",
    "K_kir = Mainfolder;\n",
    "All_Folders = os.listdir(Mainfolder)\n",
    "All_Folders=[ name for name in os.listdir(Mainfolder) if os.path.isdir(os.path.join(Mainfolder, name)) ]\n",
    "All_Folders = ['20-18-08','20-18-08']\n",
    "\n",
    "print(All_Folders)\n",
    "#for num in range(0,len(All_Folders)):     #to iterate between 10 to 20\n",
    "for num in range(1,len(All_Folders)): \n",
    " KK = os.path.join(K_kir+os.sep, All_Folders[num])\n",
    " KKavi =  os.path.join(K_kir+os.sep, All_Folders[num]+'.avi')\n",
    " if os.path.isfile(KKavi):\n",
    "   continue\n",
    " if not os.path.isdir(KK):\n",
    "   continue\n",
    " dirContents = os.listdir(KK)\n",
    " if len(dirContents) == 0:\n",
    "  shutil.rmtree(KK, ignore_errors=False, onerror=None)\n",
    "  continue\n",
    " os.chdir(KK)\n",
    " my_file = os.path.join(K_kir,All_Folders[num]+'.xlsx');\n",
    " workbook = xlsxwriter.Workbook(my_file)\n",
    " worksheet = workbook.add_worksheet()\n",
    " files = filter(os.path.isfile, os.listdir(KK));\n",
    " files = [os.path.join(KK, f) for f in files] # add path to each file\n",
    " files.sort(key=lambda x: os.path.getmtime(x))\n",
    " nEWfiles = [os.path.splitext(os.path.basename(f)) for f in  files] # add path to each file\n",
    " nEWfiles = [int(f[0]) for f in nEWfiles]\n",
    " nEWfiles = sorted(nEWfiles)\n",
    " files = [os.path.join(KK, str(f)+'.png' )  for f in nEWfiles] # add path to each file\n",
    " video_name = (KK + '.avi');\n",
    " video_name2 =(KK+'video'+ '.mp4');\n",
    " print(video_name)\n",
    " frame = cv2.imread(os.path.join(Mainfolder, files[0]))\n",
    " height, width, layers = frame.shape\n",
    " video = cv2.VideoWriter(video_name, 0, 1, (width,height))\n",
    " fps = 100\n",
    " images = files\n",
    " worksheet.write_row(0, 0, Namesforarray)\n",
    " for idx,image in enumerate(images):\n",
    "  #worksheet.write_row( idx+1,col, mat)\n",
    "  frame = cv2.imread(os.path.join(Mainfolder, images[idx]))\n",
    "  gray = cv2.cvtColor(frame, cv2.COLOR_BGR2GRAY);\n",
    "  Mylist = np.array(gray[1,0:12]);\n",
    "  mat1_single = np.reshape(Mylist, -1)\n",
    "  mat = np.concatenate((mat1_single,[Ratid],[this_date]))\n",
    "  worksheet.write_row( idx+1,col, mat)\n",
    "  video.write(frame)\n",
    " workbook.close()\n",
    " cv2.destroyAllWindows()\n",
    " video.release()\n",
    " #os.chdir(Mainfolder)\n",
    " #shutil.rmtree(KK, ignore_errors=Fal``se, onerror=None)\n",
    " convert_video(video_name, video_name2)"
   ]
  },
  {
   "cell_type": "code",
   "execution_count": null,
   "metadata": {},
   "outputs": [],
   "source": []
  },
  {
   "cell_type": "markdown",
   "metadata": {},
   "source": [
    "## Convert nonconverted movie\n"
   ]
  },
  {
   "cell_type": "code",
   "execution_count": 76,
   "metadata": {},
   "outputs": [
    {
     "name": "stdout",
     "output_type": "stream",
     "text": [
      "E:\\movies\\ar2breathing\\10_08_19\\20-18-27.avi\n"
     ]
    }
   ],
   "source": [
    "Mainfolder = 'E:\\\\movies\\\\ar2breathing\\\\10_08_19'\n",
    "text_files2 = [e[0:40]+'.avi' for e in text_files]\n",
    "import subprocess \n",
    "def Diff(li1, li2): \n",
    "    return (list(set(li1) - set(li2))) \n",
    "\n",
    "\n",
    "text_files3 = [os.path.join(Mainfolder,f) for f in os.listdir(Mainfolder) if f.endswith('.mp4') and not f.endswith('L.avi') and not f.endswith('R.avi') and not f.endswith('videopoints.avi') and not f.endswith('videopoints.avi')]\n",
    "text_files4 = [os.path.join(Mainfolder,f) for f in os.listdir(Mainfolder) if f.endswith('.avi') and not f.endswith('L.avi') and not f.endswith('R.avi') and not f.endswith('videopoints.avi') and not f.endswith('videopoints.avi')]\n",
    "text_files3 = [e[0:40] for e in text_files3]\n",
    "text_files4 = [e[0:40] for e in text_files4]\n",
    "\n",
    "\n",
    " #define a functino to convert video_input into  video_output in mpeg format\n",
    "def convert_video(video_input, video_output):\n",
    "    cmds = ['ffmpeg', '-i', video_input, video_output]\n",
    "    subprocess.Popen(cmds)\n",
    "#print((Diff(text_files4,text_files3)))\n",
    "text_files5=(Diff(text_files4,text_files3))\n",
    "print((text_files5[0]+ '.avi'))\n",
    "\n",
    "for num in range(0,len(text_files5)): \n",
    "# print((text_files5[0]+ '.avi'))\n",
    " video_name = text_files5[num] + '.avi';\n",
    " video_name2 = text_files5[num] +'video'+ '.mp4';\n",
    " convert_video(video_name, video_name2)\n"
   ]
  },
  {
   "cell_type": "markdown",
   "metadata": {},
   "source": [
    "## continue making movies\n",
    "to make movies that were not created\n"
   ]
  },
  {
   "cell_type": "code",
   "execution_count": 77,
   "metadata": {},
   "outputs": [
    {
     "name": "stdout",
     "output_type": "stream",
     "text": [
      "['20-18-27']\n",
      "E:\\movies\\ar2breathing\\10_08_19\\20-18-27.avi\n"
     ]
    }
   ],
   "source": [
    "# enter the folder name \n",
    "Mainfolder = 'E:\\\\movies\\\\ar2breathing\\\\10_08_19';\n",
    "       #F:\\ar19muscimol500ug500nlrightside\\10_10_19                                                                                                           \n",
    "Ratid = 50002;\n",
    "this_date = 100819\n",
    "\n",
    "\n",
    "#F:\\ar2breathing\\10_18_19\n",
    "# entries for the xls file\n",
    "Namesforarray =['Trialnumber','Licknumberu','sidethatanimalshouldgo','timeinsecond','sensservomotor','movespots','correct','lickoccured','lihgontrials','allpulsesoflight','lightduration','Frequ','timestamp','RD'];\n",
    "\n",
    "import os # this is to get folder information and creat files \n",
    "import cv2 # this is important and is reading and writing images and video \n",
    "import subprocess \n",
    "import shutil\n",
    "import matplotlib.pyplot as plt\n",
    "import matplotlib.image as mpimg\n",
    "import numpy as np\n",
    "import xlsxwriter  # this is to write xls files \n",
    "from PIL import Image\n",
    "# define a functino to convert video_input into  video_output in mpeg format\n",
    "def convert_video(video_input, video_output):\n",
    "    cmds = ['ffmpeg', '-i', video_input, video_output]\n",
    "    subprocess.Popen(cmds)\n",
    "\n",
    "\n",
    "col = 0\n",
    "included_extensions = ['.png']\n",
    "K_kir = Mainfolder;\n",
    "All_Folders = os.listdir(Mainfolder)\n",
    "All_Folders2=[ name[0:8] for name in os.listdir(Mainfolder) if  name.endswith('video.mp4')]\n",
    "All_Folders=[ name for name in os.listdir(Mainfolder) if os.path.isdir(os.path.join(Mainfolder, name)) and not  name in All_Folders2 and len(name)==8 ]\n",
    "\n",
    "print(All_Folders)\n",
    "#for num in range(0,len(All_Folders)):     #to iterate between 10 to 20\n",
    "for num in range(0,len(All_Folders)): \n",
    " KK = os.path.join(K_kir+os.sep, All_Folders[num])\n",
    " KKavi =  os.path.join(K_kir+os.sep, All_Folders[num]+'.avi')\n",
    " if os.path.isfile(KKavi):\n",
    "   continue\n",
    " if not os.path.isdir(KK):\n",
    "   continue\n",
    " dirContents = os.listdir(KK)\n",
    " if len(dirContents) == 0:\n",
    "  shutil.rmtree(KK, ignore_errors=False, onerror=None)\n",
    "  continue\n",
    " os.chdir(KK)\n",
    " my_file = os.path.join(K_kir,All_Folders[num]+'.xlsx');\n",
    " workbook = xlsxwriter.Workbook(my_file)\n",
    " worksheet = workbook.add_worksheet()\n",
    " files = filter(os.path.isfile, os.listdir(KK));\n",
    " files = [os.path.join(KK, f) for f in files] # add path to each file\n",
    " files.sort(key=lambda x: os.path.getmtime(x))\n",
    " nEWfiles = [os.path.splitext(os.path.basename(f)) for f in  files] # add path to each file\n",
    " nEWfiles = [int(f[0]) for f in nEWfiles]\n",
    " nEWfiles = sorted(nEWfiles)\n",
    " files = [os.path.join(KK, str(f)+'.png' )  for f in nEWfiles] # add path to each file\n",
    " video_name = (KK + '.avi');\n",
    " video_name2 =(KK+'video'+ '.mp4');\n",
    " print(video_name)\n",
    " frame = cv2.imread(os.path.join(Mainfolder, files[0]))\n",
    " height, width, layers = frame.shape\n",
    " video = cv2.VideoWriter(video_name, 0, 1, (width,height))\n",
    " fps = 100\n",
    " images = files\n",
    " worksheet.write_row(0, 0, Namesforarray)\n",
    " for idx,image in enumerate(images):\n",
    "  #worksheet.write_row( idx+1,col, mat)\n",
    "  frame = cv2.imread(os.path.join(Mainfolder, images[idx]))\n",
    "  gray = cv2.cvtColor(frame, cv2.COLOR_BGR2GRAY);\n",
    "  Mylist = np.array(gray[1,0:12]);\n",
    "  mat1_single = np.reshape(Mylist, -1)\n",
    "  mat = np.concatenate((mat1_single,[Ratid],[this_date]))\n",
    "  worksheet.write_row( idx+1,col, mat)\n",
    "  video.write(frame)\n",
    " workbook.close()\n",
    " cv2.destroyAllWindows()\n",
    " video.release()\n",
    " #os.chdir(Mainfolder)\n",
    " #shutil.rmtree(KK, ignore_errors=Fal``se, onerror=None)\n",
    " convert_video(video_name, video_name2)"
   ]
  },
  {
   "cell_type": "markdown",
   "metadata": {
    "colab_type": "text",
    "id": "9Uoz9mdPoEIy"
   },
   "source": [
    "## Create a new project\n",
    "\n",
    "It is always good idea to keep the projects seperate. This function creates a new project with subdirectories and a basic configuration file in the user defined directory otherwise the project is created in the current working directory.\n",
    "\n",
    "You can always add new videos to the project at any stage of the project. "
   ]
  },
  {
   "cell_type": "code",
   "execution_count": 1,
   "metadata": {
    "colab": {},
    "colab_type": "code",
    "id": "jqLZhp7EoEI0"
   },
   "outputs": [],
   "source": [
    "import deeplabcut\n"
   ]
  },
  {
   "cell_type": "code",
   "execution_count": 2,
   "metadata": {
    "colab": {},
    "colab_type": "code",
    "id": "c9DjG55FoEI7",
    "scrolled": true
   },
   "outputs": [
    {
     "name": "stdout",
     "output_type": "stream",
     "text": [
      "Created \"E:\\movies\\ar2breathing\\10_08_19\\ar2breathing_10_08_19LR_R-Arash-2020-04-30\\videos\"\n",
      "Created \"E:\\movies\\ar2breathing\\10_08_19\\ar2breathing_10_08_19LR_R-Arash-2020-04-30\\labeled-data\"\n",
      "Created \"E:\\movies\\ar2breathing\\10_08_19\\ar2breathing_10_08_19LR_R-Arash-2020-04-30\\training-datasets\"\n",
      "Created \"E:\\movies\\ar2breathing\\10_08_19\\ar2breathing_10_08_19LR_R-Arash-2020-04-30\\dlc-models\"\n",
      "Copying the videos\n",
      "E:\\movies\\ar2breathing\\10_08_19\\ar2breathing_10_08_19LR_R-Arash-2020-04-30\\videos\\18-58-41R.avi\n",
      "E:\\movies\\ar2breathing\\10_08_19\\ar2breathing_10_08_19LR_R-Arash-2020-04-30\\videos\\18-56-02R.avi\n",
      "Generated \"E:\\movies\\ar2breathing\\10_08_19\\ar2breathing_10_08_19LR_R-Arash-2020-04-30\\config.yaml\"\n",
      "\n",
      "A new project with name ar2breathing_10_08_19LR_R-Arash-2020-04-30 is created at E:\\movies\\ar2breathing\\10_08_19 and a configurable file (config.yaml) is stored there. Change the parameters in this file to adapt to your project's needs.\n",
      " Once you have changed the configuration file, use the function 'extract_frames' to select frames for labeling.\n",
      ". [OPTIONAL] Use the function 'add_new_videos' to add new videos to your project (at any stage).\n"
     ]
    },
    {
     "data": {
      "text/plain": [
       "'E:\\\\movies\\\\ar2breathing\\\\10_08_19\\\\ar2breathing_10_08_19LR_R-Arash-2020-04-30\\\\config.yaml'"
      ]
     },
     "execution_count": 2,
     "metadata": {},
     "output_type": "execute_result"
    }
   ],
   "source": [
    "task='ar2breathing_10_08_19LR_R' # Enter the name of your experiment Task\n",
    "experimenter='Arash' # Enter the name of the experimenter\n",
    "Mainfolder =  'D:\\\\rat_movies_SC\\\\ar19muscimol\\\\10_10_2019\\\\'; # Enter the name of the folder with images folders inside \n",
    "Mainfolder = 'E:\\\\movies\\\\ar2breathing\\\\10_08_19\\\\'\n",
    "filenames = ['18-58-41R.avi','18-56-02R.avi']\n",
    "\n",
    "\n",
    "video = [str(Mainfolder)+str(f) for f in filenames]; # add path to each file\n",
    "#video=['D:\\\\Notebook\\\\sc\\\\sc-Fassihi-2018-12-16\\\\videos\\\\video14-23-08.avi'] \n",
    "#video=['D:\\\\rat movies SC\\\\ar17\\\\01_11_19\\\\video12-29-40.avi'] \n",
    "#video=['D:\\\\rat_movies_SC\\\\ar17record\\\\02_27_19\\\\analyzed\\\\18-36-10video.MP4']\n",
    "#video=['D:\\\\movies_Rat_SC_project\\\\ar20\\\\07_08_19\\\\19-28-43video.mp4','D:\\\\movies_Rat_SC_project\\\\ar20\\\\07_08_19\\\\19-28-58video.mp4','D:\\\\movies_Rat_SC_project\\\\ar20\\\\07_08_19\\\\19-29-06video.mp4'] \n",
    "#Mainfolder = 'D:\\\\movies_Rat_SC_project\\\\ar14\\\\06_18_19'\n",
    "#video=['D:\\\\rat_movies_SC\\\\ar19tear19salin\\\\10_08_19\\\\00-24-26video.mp4','D:\\\\rat_movies_SC\\\\ar19tear19salin\\\\10_08_19\\\\00-24-02video.mp4','D:\\\\rat_movies_SC\\\\ar19tear19salin\\\\10_08_19\\\\00-26-36video.mp4'] \n",
    "#video=['F:\\\\ar2breathing\\\\10_10_19\\\\00-00-00video.mp4','F:\\\\ar2breathing\\\\10_10_19\\\\00-00-22video.mp4','F:\\\\ar2breathing\\\\10_10_19\\\\00-00-46video.mp4'] \n",
    "\n",
    "#D:\\rat movies SC\\ar15\\01_11_19\n",
    "# Enter the paths of your videos you want to grab frames from.\n",
    "# deeplabcut.create_new_project(task,experimenter,video, working_directory='Full path of the working directory',copy_videos=True/False) #change the working directory to where you want the folders created.\n",
    "deeplabcut.create_new_project(task,experimenter,video, working_directory=Mainfolder,copy_videos=True) #change the working directory to where you want the folders created."
   ]
  },
  {
   "cell_type": "markdown",
   "metadata": {
    "colab_type": "text",
    "id": "0yXW0bx1oEJA"
   },
   "source": [
    "## Extract frames from videos \n",
    "A key point for a successful feature detector is to select diverse frames, which are typical for the behavior you study that should be labeled.\n",
    "\n",
    "This function selects N frames either uniformly sampled from a particular video (or folder) (algo=='uniform'). Note: this might not yield diverse frames, if the behavior is sparsely distributed (consider using kmeans), and/or select frames manually etc.\n",
    "\n",
    "Also make sure to get select data from different (behavioral) sessions and different animals if those vary substantially (to train an invariant feature detector).\n",
    "\n",
    "Individual images should not be too big (i.e. < 850 x 850 pixel). Although this can be taken care of later as well, it is advisable to crop the frames, to remove unnecessary parts of the frame as much as possible.\n",
    "\n",
    "Always check the output of cropping. If you are happy with the results proceed to labeling."
   ]
  },
  {
   "cell_type": "code",
   "execution_count": 3,
   "metadata": {
    "colab": {},
    "colab_type": "code",
    "id": "t1ulumCuoEJC"
   },
   "outputs": [
    {
     "name": "stdout",
     "output_type": "stream",
     "text": [
      "Config file read successfully.\n",
      "Do you want to extract (perhaps additional) frames for video: E:\\movies\\ar2breathing\\10_08_19\\ar2breathing_10_08_19LR_R-Arash-2020-04-30\\videos\\18-58-41R.avi ?\n",
      "yes/noyes\n",
      "Extracting frames based on uniform ...\n",
      "Uniformly extracting of frames from 0.0  seconds to 5.13  seconds.\n",
      "Do you want to extract (perhaps additional) frames for video: E:\\movies\\ar2breathing\\10_08_19\\ar2breathing_10_08_19LR_R-Arash-2020-04-30\\videos\\18-56-02R.avi ?\n",
      "yes/noyes\n",
      "Extracting frames based on uniform ...\n",
      "Uniformly extracting of frames from 0.0  seconds to 5.16  seconds.\n",
      "\n",
      "Frames were selected.\n",
      "You can now label the frames using the function 'label_frames' (if you extracted enough frames for all videos).\n"
     ]
    }
   ],
   "source": [
    "%matplotlib inline\n",
    "\n",
    "path_config_file = 'D:\\\\rat_movies_SC\\\\ar19muscimol\\\\10_10_2019\\\\ar19muscimol10-10-19_LR_R-Arash-2020-02-28\\\\config.yaml';\n",
    "path_config_file = 'D:\\\\rat_movies_SC\\\\ar19muscimol\\\\10_10_2019\\\\ar19muscimol10-10-19_LR_L-Arash-2020-03-01\\\\config.yaml';\n",
    "\n",
    "path_config_file = 'E:\\\\movies\\\\ar2breathing\\\\10_08_19\\\\ar2breathing_10_08_19-Arash-2020-03-26\\\\config.yaml';\n",
    "path_config_file = 'E:\\\\movies\\\\ar2breathing\\\\10_08_19\\\\ar2breathing_10_08_19LR_R-Arash-2020-04-30\\\\config.yaml';\n",
    "\n",
    "#Enter the path of the config file that was just created from the above step (check the folder)\n",
    "deeplabcut.extract_frames(path_config_file,'automatic','uniform',crop=False) #there are other ways to grab frames, such as by clustering 'kmeans'; please see the paper. \n",
    "#deeplabcut.extract_frames(path_config_file,'automatic','uniform',crop=True, checkcropping=True) #there are other ways to grab frames, such as by clustering 'kmeans'; please see the paper. \n",
    "#You can change the cropping to false, then delete the checkcropping part!"
   ]
  },
  {
   "cell_type": "markdown",
   "metadata": {},
   "source": [
    "## define the config path and load deeplabcut\n"
   ]
  },
  {
   "cell_type": "code",
   "execution_count": 3,
   "metadata": {},
   "outputs": [],
   "source": [
    "#path_config_file = 'D:\\\\movies_Rat_SC_project\\\\ar20\\\\06_20_19\\\\sc_ar20_06202019-Fassihi-2019-06-20\\\\config.yaml' #Enter the path of the config file that was just created from the above step (check the folder)\n",
    "#path_config_file = 'D:\\\\movies_Rat_SC_project\\\\ar20\\\\07_08_19\\\\sc_ar20_07082019-Fassihi3-2019-07-09\\\\config.yaml'\n",
    "#path_config_file = 'D:\\\\movies_Rat_SC_project\\\\ar14\\\\09_17_19\\\\ar14_09172019_ii-Fassihi-2019-09-17\\\\config.yaml' #Enter the path of the config file that was just created from the above step (check the folder)\n",
    "#path_config_file = 'D:\\\\rat_movies_SC\\\\ar19muscimol\\\\10_10_2019\\\\ar19_10102019-Fassihi-2019-11-12\\\\config.yaml'\n",
    "#path_config_file = 'D:\\\\rat_movies_SC\\\\ar19tear19salin\\\\10_08_19\\\\ar19_10082019-Fassihi-2019-11-25\\\\config.yaml'\n",
    "#path_config_file = 'D:\\\\rat_movies_SC\\\\ar19tear19salin\\\\10_08_19_waterspouts\\\\ar19_10082019_waterspouts-Fassihi-2019-11-28\\\\config.yaml'\n",
    "#path_config_file = 'F:\\\\ar2breathing\\\\10_10_19\\\\ar2breathing10_10_19-Fassihi2-2019-12-18\\\\config.yaml'\n",
    "path_config_file = 'F:\\\\ar19salin\\\\10_08_19\\\\ar19salin_10-08-19-Sabrina-2020-01-13\\\\config.yaml'\n",
    "path_config_file = 'F:\\\\ar2breathing\\\\10_06_19\\\\ar2_10062019_ii-Fassihi-2019-10-07\\\\config.yaml'\n",
    "path_config_file = 'E:\\\\movies\\\\ar2breathing\\\\10_08_19\\\\ar2breathing_10_08_19LR_R-Arash-2020-04-30\\\\config.yaml';\n"
   ]
  },
  {
   "cell_type": "code",
   "execution_count": 2,
   "metadata": {},
   "outputs": [],
   "source": [
    "import deeplabcut\n"
   ]
  },
  {
   "cell_type": "markdown",
   "metadata": {
    "colab_type": "text",
    "id": "Gjn6ZDonoEJH"
   },
   "source": [
    "## Label the extracted frames\n",
    "Only videos in the config file can be used to extract the frames. Extracted labels for each video are stored in the project directory under the subdirectory **'labeled-data'**. Each subdirectory is named after the name of the video. The toolbox has a labeling toolbox which could be used for labeling. "
   ]
  },
  {
   "cell_type": "code",
   "execution_count": null,
   "metadata": {
    "colab": {},
    "colab_type": "code",
    "id": "iyROSOiEoEJI"
   },
   "outputs": [
    {
     "name": "stdout",
     "output_type": "stream",
     "text": [
      "You can now check the labels, using 'check_labels' before proceeding. Then, you can use the function 'create_training_dataset' to create the training dataset.\n"
     ]
    }
   ],
   "source": [
    "%gui wx\n",
    "#path_config_file = 'D:\\\\rat movies SC\\\\ar15record\\\\02_27_19\\\\sc_ar15record_02272019-Fassihi-2019-03-12\\\\config.yaml' #Enter the path of the config file that was just created from the above step (check the folder)\n",
    "#path_config_file = 'D:\\\\rat_movies_SC\\\\ar17record\\\\02_27_19\\\\sc_ar17record_02272019_3-Fassihi-2019-04-28\\\\config.yaml'\n",
    "\n",
    "deeplabcut.label_frames(path_config_file)"
   ]
  },
  {
   "cell_type": "markdown",
   "metadata": {
    "colab_type": "text",
    "id": "vim95ZvkPSeN"
   },
   "source": [
    "**Check the labels**\n",
    "\n",
    "Checking if the labels were created and stored correctly is beneficial for training, since labeling is one of the most critical parts for creating the training dataset. The DeepLabCut toolbox provides a function `check\\_labels'  to do so. It is used as follows:"
   ]
  },
  {
   "cell_type": "code",
   "execution_count": 4,
   "metadata": {
    "colab": {},
    "colab_type": "code",
    "id": "NwvgPJouPP2O"
   },
   "outputs": [
    {
     "name": "stdout",
     "output_type": "stream",
     "text": [
      "Creating images with labels by Arash.\n",
      "They are stored in the following folder: E:\\movies\\ar2breathing\\10_08_19\\ar2breathing_10_08_19LR_R-Arash-2020-04-30\\labeled-data\\18-58-41R_labeled.\n",
      "They are stored in the following folder: E:\\movies\\ar2breathing\\10_08_19\\ar2breathing_10_08_19LR_R-Arash-2020-04-30\\labeled-data\\18-56-02R_labeled.\n",
      "If all the labels are ok, then use the function 'create_training_dataset' to create the training dataset!\n"
     ]
    }
   ],
   "source": [
    "#path_config_file = 'D:\\\\rat_movies_SC\\\\ar17record\\\\02_27_19\\\\sc_ar17record_02272019_3-Fassihi-2019-04-28\\\\config.yaml'\n",
    "#path_config_file = 'D:\\\\movies_Rat_SC_project\\\\ar2breathing\\\\10_04_19\\\\ar14_09172019_ii-Fassihi-2019-10-05\\\\config.yaml'\n",
    "#path_config_file = 'D:\\\\rat_movies_SC\\\\ar19muscimol\\\\10_10_2019\\\\ar19muscimol10-10-19_LR_R-Arash-2020-02-28\\\\config.yaml';\n",
    "\n",
    "deeplabcut.check_labels(path_config_file) #this creates a subdirectory with the frames + your labels"
   ]
  },
  {
   "cell_type": "markdown",
   "metadata": {
    "colab_type": "text",
    "id": "of87fOjgPqzH"
   },
   "source": [
    "If the labels need adjusted, you can use the refinement GUI to move them around! Check that out below."
   ]
  },
  {
   "cell_type": "markdown",
   "metadata": {
    "colab_type": "text",
    "id": "xNi9s1dboEJN"
   },
   "source": [
    "## Create a training dataset\n",
    "This function generates the training data information for DeepCut (which requires a mat file) based on the pandas dataframes that hold label information. The user can set the fraction of the training set size (from all labeled image in the hd5 file) in the config.yaml file. While creating the dataset, the user can create multiple shuffles. \n",
    "\n",
    "After running this script the training dataset is created and saved in the project directory under the subdirectory **'training-datasets'**\n",
    "\n",
    "This function also creates new subdirectories under **dlc-models** and appends the project config.yaml file with the correct path to the training and testing pose configuration file. These files hold the parameters for training the network. Such an example file is provided with the toolbox and named as **pose_cfg.yaml**.\n",
    "\n",
    "Now it is the time to start training the network!"
   ]
  },
  {
   "cell_type": "code",
   "execution_count": 5,
   "metadata": {
    "colab": {},
    "colab_type": "code",
    "id": "eMeUwgxPoEJP",
    "scrolled": true
   },
   "outputs": [
    {
     "name": "stdout",
     "output_type": "stream",
     "text": [
      "The training dataset is successfully created. Use the function 'train_network' to start training. Happy training!\n"
     ]
    }
   ],
   "source": [
    "#path_config_file = 'D:\\\\rat_movies_SC\\\\ar17record\\\\02_27_19\\\\sc_ar17record_02272019_3-Fassihi-2019-04-28\\\\config.yaml'\n",
    "#path_config_file = 'D:\\\\movies_Rat_SC_project\\\\ar2breathing\\\\10_04_19\\\\ar14_09172019_ii-Fassihi-2019-10-05\\\\config.yaml'\n",
    "deeplabcut.create_training_dataset(path_config_file)"
   ]
  },
  {
   "cell_type": "markdown",
   "metadata": {
    "colab_type": "text",
    "id": "c4FczXGDoEJU"
   },
   "source": [
    "## Start training - If you want to use a CPU, continue. \n",
    "### If yu want to use your GPU, you need to exit here and either work from the Docker container, your own TensorFlow installation in an Anaconda env\n",
    "\n",
    "This function trains the network for a specific shuffle of the training dataset. "
   ]
  },
  {
   "cell_type": "code",
   "execution_count": 6,
   "metadata": {
    "colab": {},
    "colab_type": "code",
    "id": "_pOvDq_2oEJW",
    "scrolled": true
   },
   "outputs": [
    {
     "name": "stderr",
     "output_type": "stream",
     "text": [
      "Config:\n",
      "{'all_joints': [[0], [1], [2], [3], [4]],\n",
      " 'all_joints_names': ['w1', 'w2', 'w3', 'w4', 'w5'],\n",
      " 'batch_size': 1,\n",
      " 'bottomheight': 400,\n",
      " 'crop': True,\n",
      " 'crop_pad': 0,\n",
      " 'cropratio': 0.4,\n",
      " 'dataset': 'training-datasets\\\\iteration-0\\\\UnaugmentedDataSet_ar2breathing_10_08_19LR_RApr30\\\\ar2breathing_10_08_19LR_R_Arash95shuffle1.mat',\n",
      " 'dataset_type': 'default',\n",
      " 'display_iters': 1000,\n",
      " 'fg_fraction': 0.25,\n",
      " 'global_scale': 0.8,\n",
      " 'init_weights': 'C:\\\\Users\\\\Arash\\\\Anaconda3\\\\envs\\\\dlc-windowsGPU\\\\lib\\\\site-packages\\\\deeplabcut\\\\pose_estimation_tensorflow\\\\models\\\\pretrained\\\\resnet_v1_50.ckpt',\n",
      " 'intermediate_supervision': False,\n",
      " 'intermediate_supervision_layer': 12,\n",
      " 'leftwidth': 400,\n",
      " 'location_refinement': True,\n",
      " 'locref_huber_loss': True,\n",
      " 'locref_loss_weight': 0.05,\n",
      " 'locref_stdev': 7.2801,\n",
      " 'log_dir': 'log',\n",
      " 'max_input_size': 1500,\n",
      " 'mean_pixel': [123.68, 116.779, 103.939],\n",
      " 'metadataset': 'training-datasets\\\\iteration-0\\\\UnaugmentedDataSet_ar2breathing_10_08_19LR_RApr30\\\\Documentation_data-ar2breathing_10_08_19LR_R_95shuffle1.pickle',\n",
      " 'min_input_size': 64,\n",
      " 'minsize': 100,\n",
      " 'mirror': False,\n",
      " 'multi_step': [[0.005, 10000],\n",
      "                [0.02, 430000],\n",
      "                [0.002, 730000],\n",
      "                [0.001, 1030000]],\n",
      " 'net_type': 'resnet_50',\n",
      " 'num_joints': 5,\n",
      " 'optimizer': 'sgd',\n",
      " 'pos_dist_thresh': 17,\n",
      " 'project_path': 'E:\\\\movies\\\\ar2breathing\\\\10_08_19\\\\ar2breathing_10_08_19LR_R-Arash-2020-04-30',\n",
      " 'regularize': False,\n",
      " 'rightwidth': 400,\n",
      " 'save_iters': 50000,\n",
      " 'scale_jitter_lo': 0.5,\n",
      " 'scale_jitter_up': 1.25,\n",
      " 'scoremap_dir': 'test',\n",
      " 'shuffle': True,\n",
      " 'snapshot_prefix': 'E:\\\\movies\\\\ar2breathing\\\\10_08_19\\\\ar2breathing_10_08_19LR_R-Arash-2020-04-30\\\\dlc-models\\\\iteration-0\\\\ar2breathing_10_08_19LR_RApr30-trainset95shuffle1\\\\train\\\\snapshot',\n",
      " 'stride': 8.0,\n",
      " 'topheight': 400,\n",
      " 'use_gt_segm': False,\n",
      " 'video': False,\n",
      " 'video_batch': False,\n",
      " 'weigh_negatives': False,\n",
      " 'weigh_only_present_joints': False,\n",
      " 'weigh_part_predictions': False,\n",
      " 'weight_decay': 0.0001}\n"
     ]
    },
    {
     "name": "stdout",
     "output_type": "stream",
     "text": [
      "INFO:tensorflow:Restoring parameters from C:\\Users\\Arash\\Anaconda3\\envs\\dlc-windowsGPU\\lib\\site-packages\\deeplabcut\\pose_estimation_tensorflow\\models\\pretrained\\resnet_v1_50.ckpt\n",
      "Display_iters overwritten as 1000\n",
      "Save_iters overwritten as 1000\n",
      "Training parameter:\n",
      "{'stride': 8.0, 'weigh_part_predictions': False, 'weigh_negatives': False, 'fg_fraction': 0.25, 'weigh_only_present_joints': False, 'mean_pixel': [123.68, 116.779, 103.939], 'shuffle': True, 'snapshot_prefix': 'E:\\\\movies\\\\ar2breathing\\\\10_08_19\\\\ar2breathing_10_08_19LR_R-Arash-2020-04-30\\\\dlc-models\\\\iteration-0\\\\ar2breathing_10_08_19LR_RApr30-trainset95shuffle1\\\\train\\\\snapshot', 'log_dir': 'log', 'global_scale': 0.8, 'location_refinement': True, 'locref_stdev': 7.2801, 'locref_loss_weight': 0.05, 'locref_huber_loss': True, 'optimizer': 'sgd', 'intermediate_supervision': False, 'intermediate_supervision_layer': 12, 'regularize': False, 'weight_decay': 0.0001, 'mirror': False, 'crop_pad': 0, 'scoremap_dir': 'test', 'dataset_type': 'default', 'use_gt_segm': False, 'batch_size': 1, 'video': False, 'video_batch': False, 'crop': True, 'cropratio': 0.4, 'minsize': 100, 'leftwidth': 400, 'rightwidth': 400, 'topheight': 400, 'bottomheight': 400, 'all_joints': [[0], [1], [2], [3], [4]], 'all_joints_names': ['w1', 'w2', 'w3', 'w4', 'w5'], 'dataset': 'training-datasets\\\\iteration-0\\\\UnaugmentedDataSet_ar2breathing_10_08_19LR_RApr30\\\\ar2breathing_10_08_19LR_R_Arash95shuffle1.mat', 'display_iters': 1000, 'init_weights': 'C:\\\\Users\\\\Arash\\\\Anaconda3\\\\envs\\\\dlc-windowsGPU\\\\lib\\\\site-packages\\\\deeplabcut\\\\pose_estimation_tensorflow\\\\models\\\\pretrained\\\\resnet_v1_50.ckpt', 'max_input_size': 1500, 'metadataset': 'training-datasets\\\\iteration-0\\\\UnaugmentedDataSet_ar2breathing_10_08_19LR_RApr30\\\\Documentation_data-ar2breathing_10_08_19LR_R_95shuffle1.pickle', 'min_input_size': 64, 'multi_step': [[0.005, 10000], [0.02, 430000], [0.002, 730000], [0.001, 1030000]], 'net_type': 'resnet_50', 'num_joints': 5, 'pos_dist_thresh': 17, 'project_path': 'E:\\\\movies\\\\ar2breathing\\\\10_08_19\\\\ar2breathing_10_08_19LR_R-Arash-2020-04-30', 'save_iters': 50000, 'scale_jitter_lo': 0.5, 'scale_jitter_up': 1.25}\n",
      "Starting training....\n"
     ]
    },
    {
     "name": "stderr",
     "output_type": "stream",
     "text": [
      "iteration: 1000 loss: 0.0448 lr: 0.005\n",
      "iteration: 2000 loss: 0.0204 lr: 0.005\n",
      "iteration: 3000 loss: 0.0158 lr: 0.005\n",
      "iteration: 4000 loss: 0.0134 lr: 0.005\n",
      "iteration: 5000 loss: 0.0114 lr: 0.005\n",
      "iteration: 6000 loss: 0.0103 lr: 0.005\n",
      "iteration: 7000 loss: 0.0096 lr: 0.005\n",
      "iteration: 8000 loss: 0.0088 lr: 0.005\n",
      "iteration: 9000 loss: 0.0082 lr: 0.005\n",
      "iteration: 10000 loss: 0.0079 lr: 0.005\n",
      "iteration: 11000 loss: 0.0187 lr: 0.02\n",
      "iteration: 12000 loss: 0.0130 lr: 0.02\n",
      "iteration: 13000 loss: 0.0118 lr: 0.02\n",
      "iteration: 14000 loss: 0.0100 lr: 0.02\n",
      "iteration: 15000 loss: 0.0090 lr: 0.02\n",
      "iteration: 16000 loss: 0.0086 lr: 0.02\n",
      "iteration: 17000 loss: 0.0078 lr: 0.02\n",
      "iteration: 18000 loss: 0.0075 lr: 0.02\n",
      "iteration: 19000 loss: 0.0070 lr: 0.02\n",
      "iteration: 20000 loss: 0.0070 lr: 0.02\n",
      "iteration: 21000 loss: 0.0066 lr: 0.02\n",
      "iteration: 22000 loss: 0.0062 lr: 0.02\n",
      "iteration: 23000 loss: 0.0063 lr: 0.02\n",
      "iteration: 24000 loss: 0.0056 lr: 0.02\n",
      "iteration: 25000 loss: 0.0057 lr: 0.02\n",
      "iteration: 26000 loss: 0.0056 lr: 0.02\n",
      "iteration: 27000 loss: 0.0053 lr: 0.02\n",
      "iteration: 28000 loss: 0.0049 lr: 0.02\n",
      "iteration: 29000 loss: 0.0048 lr: 0.02\n",
      "iteration: 30000 loss: 0.0052 lr: 0.02\n",
      "iteration: 31000 loss: 0.0047 lr: 0.02\n",
      "iteration: 32000 loss: 0.0047 lr: 0.02\n",
      "iteration: 33000 loss: 0.0048 lr: 0.02\n",
      "iteration: 34000 loss: 0.0047 lr: 0.02\n",
      "iteration: 35000 loss: 0.0046 lr: 0.02\n",
      "iteration: 36000 loss: 0.0043 lr: 0.02\n",
      "iteration: 37000 loss: 0.0043 lr: 0.02\n",
      "iteration: 38000 loss: 0.0043 lr: 0.02\n",
      "iteration: 39000 loss: 0.0042 lr: 0.02\n",
      "iteration: 40000 loss: 0.0042 lr: 0.02\n",
      "iteration: 41000 loss: 0.0041 lr: 0.02\n",
      "iteration: 42000 loss: 0.0040 lr: 0.02\n",
      "iteration: 43000 loss: 0.0039 lr: 0.02\n",
      "iteration: 44000 loss: 0.0040 lr: 0.02\n",
      "iteration: 45000 loss: 0.0040 lr: 0.02\n",
      "iteration: 46000 loss: 0.0037 lr: 0.02\n",
      "iteration: 47000 loss: 0.0041 lr: 0.02\n",
      "iteration: 48000 loss: 0.0038 lr: 0.02\n",
      "iteration: 49000 loss: 0.0036 lr: 0.02\n",
      "iteration: 50000 loss: 0.0035 lr: 0.02\n",
      "iteration: 51000 loss: 0.0035 lr: 0.02\n",
      "iteration: 52000 loss: 0.0036 lr: 0.02\n",
      "iteration: 53000 loss: 0.0034 lr: 0.02\n",
      "iteration: 54000 loss: 0.0034 lr: 0.02\n",
      "iteration: 55000 loss: 0.0035 lr: 0.02\n",
      "iteration: 56000 loss: 0.0035 lr: 0.02\n",
      "iteration: 57000 loss: 0.0034 lr: 0.02\n",
      "iteration: 58000 loss: 0.0034 lr: 0.02\n",
      "iteration: 59000 loss: 0.0036 lr: 0.02\n",
      "iteration: 60000 loss: 0.0033 lr: 0.02\n",
      "iteration: 61000 loss: 0.0033 lr: 0.02\n",
      "iteration: 62000 loss: 0.0031 lr: 0.02\n",
      "iteration: 63000 loss: 0.0035 lr: 0.02\n",
      "iteration: 64000 loss: 0.0031 lr: 0.02\n",
      "iteration: 65000 loss: 0.0030 lr: 0.02\n",
      "iteration: 66000 loss: 0.0030 lr: 0.02\n",
      "iteration: 67000 loss: 0.0032 lr: 0.02\n",
      "iteration: 68000 loss: 0.0030 lr: 0.02\n",
      "iteration: 69000 loss: 0.0030 lr: 0.02\n",
      "iteration: 70000 loss: 0.0030 lr: 0.02\n",
      "iteration: 71000 loss: 0.0028 lr: 0.02\n",
      "iteration: 72000 loss: 0.0030 lr: 0.02\n",
      "iteration: 73000 loss: 0.0028 lr: 0.02\n",
      "iteration: 74000 loss: 0.0029 lr: 0.02\n",
      "iteration: 75000 loss: 0.0029 lr: 0.02\n",
      "iteration: 76000 loss: 0.0030 lr: 0.02\n",
      "iteration: 77000 loss: 0.0027 lr: 0.02\n",
      "iteration: 78000 loss: 0.0030 lr: 0.02\n",
      "iteration: 79000 loss: 0.0027 lr: 0.02\n",
      "iteration: 80000 loss: 0.0028 lr: 0.02\n",
      "iteration: 81000 loss: 0.0029 lr: 0.02\n",
      "iteration: 82000 loss: 0.0031 lr: 0.02\n",
      "iteration: 83000 loss: 0.0029 lr: 0.02\n",
      "iteration: 84000 loss: 0.0029 lr: 0.02\n",
      "iteration: 85000 loss: 0.0027 lr: 0.02\n",
      "iteration: 86000 loss: 0.0027 lr: 0.02\n",
      "iteration: 87000 loss: 0.0028 lr: 0.02\n",
      "iteration: 88000 loss: 0.0028 lr: 0.02\n",
      "iteration: 89000 loss: 0.0025 lr: 0.02\n",
      "iteration: 90000 loss: 0.0027 lr: 0.02\n",
      "iteration: 91000 loss: 0.0028 lr: 0.02\n",
      "iteration: 92000 loss: 0.0026 lr: 0.02\n",
      "iteration: 93000 loss: 0.0028 lr: 0.02\n",
      "iteration: 94000 loss: 0.0027 lr: 0.02\n",
      "iteration: 95000 loss: 0.0026 lr: 0.02\n",
      "iteration: 96000 loss: 0.0026 lr: 0.02\n",
      "iteration: 97000 loss: 0.0026 lr: 0.02\n",
      "iteration: 98000 loss: 0.0025 lr: 0.02\n",
      "iteration: 99000 loss: 0.0023 lr: 0.02\n",
      "iteration: 100000 loss: 0.0024 lr: 0.02\n",
      "iteration: 101000 loss: 0.0023 lr: 0.02\n",
      "iteration: 102000 loss: 0.0025 lr: 0.02\n",
      "iteration: 103000 loss: 0.0026 lr: 0.02\n",
      "iteration: 104000 loss: 0.0024 lr: 0.02\n",
      "iteration: 105000 loss: 0.0024 lr: 0.02\n",
      "iteration: 106000 loss: 0.0025 lr: 0.02\n",
      "iteration: 107000 loss: 0.0024 lr: 0.02\n",
      "iteration: 108000 loss: 0.0025 lr: 0.02\n",
      "iteration: 109000 loss: 0.0023 lr: 0.02\n",
      "iteration: 110000 loss: 0.0024 lr: 0.02\n",
      "iteration: 111000 loss: 0.0024 lr: 0.02\n",
      "iteration: 112000 loss: 0.0025 lr: 0.02\n",
      "iteration: 113000 loss: 0.0025 lr: 0.02\n",
      "iteration: 114000 loss: 0.0024 lr: 0.02\n",
      "iteration: 115000 loss: 0.0023 lr: 0.02\n",
      "iteration: 116000 loss: 0.0022 lr: 0.02\n",
      "iteration: 117000 loss: 0.0023 lr: 0.02\n",
      "iteration: 118000 loss: 0.0022 lr: 0.02\n",
      "iteration: 119000 loss: 0.0024 lr: 0.02\n",
      "iteration: 120000 loss: 0.0022 lr: 0.02\n",
      "iteration: 121000 loss: 0.0023 lr: 0.02\n",
      "iteration: 122000 loss: 0.0023 lr: 0.02\n",
      "iteration: 123000 loss: 0.0023 lr: 0.02\n",
      "iteration: 124000 loss: 0.0022 lr: 0.02\n",
      "iteration: 125000 loss: 0.0022 lr: 0.02\n",
      "iteration: 126000 loss: 0.0023 lr: 0.02\n",
      "iteration: 127000 loss: 0.0021 lr: 0.02\n",
      "iteration: 128000 loss: 0.0022 lr: 0.02\n",
      "iteration: 129000 loss: 0.0024 lr: 0.02\n",
      "iteration: 130000 loss: 0.0022 lr: 0.02\n",
      "iteration: 131000 loss: 0.0022 lr: 0.02\n",
      "iteration: 132000 loss: 0.0022 lr: 0.02\n",
      "iteration: 133000 loss: 0.0020 lr: 0.02\n",
      "iteration: 134000 loss: 0.0022 lr: 0.02\n",
      "iteration: 135000 loss: 0.0022 lr: 0.02\n",
      "iteration: 136000 loss: 0.0022 lr: 0.02\n",
      "iteration: 137000 loss: 0.0021 lr: 0.02\n",
      "iteration: 138000 loss: 0.0022 lr: 0.02\n",
      "iteration: 139000 loss: 0.0021 lr: 0.02\n",
      "iteration: 140000 loss: 0.0022 lr: 0.02\n",
      "iteration: 141000 loss: 0.0022 lr: 0.02\n",
      "iteration: 142000 loss: 0.0022 lr: 0.02\n",
      "iteration: 143000 loss: 0.0021 lr: 0.02\n",
      "iteration: 144000 loss: 0.0020 lr: 0.02\n",
      "iteration: 145000 loss: 0.0021 lr: 0.02\n",
      "iteration: 146000 loss: 0.0021 lr: 0.02\n",
      "iteration: 147000 loss: 0.0022 lr: 0.02\n",
      "iteration: 148000 loss: 0.0022 lr: 0.02\n",
      "iteration: 149000 loss: 0.0022 lr: 0.02\n",
      "iteration: 150000 loss: 0.0022 lr: 0.02\n",
      "iteration: 151000 loss: 0.0020 lr: 0.02\n",
      "iteration: 152000 loss: 0.0021 lr: 0.02\n",
      "iteration: 153000 loss: 0.0019 lr: 0.02\n",
      "iteration: 154000 loss: 0.0021 lr: 0.02\n",
      "iteration: 155000 loss: 0.0019 lr: 0.02\n",
      "iteration: 156000 loss: 0.0021 lr: 0.02\n",
      "iteration: 157000 loss: 0.0020 lr: 0.02\n",
      "iteration: 158000 loss: 0.0021 lr: 0.02\n",
      "iteration: 159000 loss: 0.0020 lr: 0.02\n",
      "iteration: 160000 loss: 0.0021 lr: 0.02\n",
      "iteration: 161000 loss: 0.0020 lr: 0.02\n",
      "iteration: 162000 loss: 0.0020 lr: 0.02\n",
      "iteration: 163000 loss: 0.0019 lr: 0.02\n"
     ]
    },
    {
     "ename": "KeyboardInterrupt",
     "evalue": "",
     "output_type": "error",
     "traceback": [
      "\u001b[1;31m---------------------------------------------------------------------------\u001b[0m",
      "\u001b[1;31mKeyboardInterrupt\u001b[0m                         Traceback (most recent call last)",
      "\u001b[1;32m<ipython-input-6-924cec89e6ed>\u001b[0m in \u001b[0;36m<module>\u001b[1;34m()\u001b[0m\n\u001b[0;32m      9\u001b[0m \u001b[1;31m#path_config_file = 'D:\\\\rat_movies_SC\\\\ar19muscimol\\\\10_10_2019\\\\ar19muscimol10-10-19_LR_L-Arash-2020-03-01\\\\config.yaml';\u001b[0m\u001b[1;33m\u001b[0m\u001b[1;33m\u001b[0m\u001b[1;33m\u001b[0m\u001b[0m\n\u001b[0;32m     10\u001b[0m \u001b[1;33m\u001b[0m\u001b[0m\n\u001b[1;32m---> 11\u001b[1;33m \u001b[0mdeeplabcut\u001b[0m\u001b[1;33m.\u001b[0m\u001b[0mtrain_network\u001b[0m\u001b[1;33m(\u001b[0m\u001b[0mpath_config_file\u001b[0m\u001b[1;33m,\u001b[0m\u001b[0mshuffle\u001b[0m\u001b[1;33m=\u001b[0m\u001b[1;36m1\u001b[0m\u001b[1;33m,\u001b[0m\u001b[0mdisplayiters\u001b[0m\u001b[1;33m=\u001b[0m\u001b[1;36m1000\u001b[0m\u001b[1;33m,\u001b[0m\u001b[0msaveiters\u001b[0m\u001b[1;33m=\u001b[0m\u001b[1;36m1000\u001b[0m\u001b[1;33m)\u001b[0m\u001b[1;33m\u001b[0m\u001b[1;33m\u001b[0m\u001b[0m\n\u001b[0m",
      "\u001b[1;32mC:\\Users\\Arash\\Anaconda3\\envs\\dlc-windowsGPU\\lib\\site-packages\\deeplabcut\\pose_estimation_tensorflow\\training.py\u001b[0m in \u001b[0;36mtrain_network\u001b[1;34m(config, shuffle, trainingsetindex, gputouse, max_snapshots_to_keep, autotune, displayiters, saveiters, maxiters)\u001b[0m\n\u001b[0;32m     87\u001b[0m           \u001b[0mtrain\u001b[0m\u001b[1;33m(\u001b[0m\u001b[0mstr\u001b[0m\u001b[1;33m(\u001b[0m\u001b[0mposeconfigfile\u001b[0m\u001b[1;33m)\u001b[0m\u001b[1;33m,\u001b[0m\u001b[0mdisplayiters\u001b[0m\u001b[1;33m,\u001b[0m\u001b[0msaveiters\u001b[0m\u001b[1;33m,\u001b[0m\u001b[0mmaxiters\u001b[0m\u001b[1;33m,\u001b[0m\u001b[0mmax_to_keep\u001b[0m\u001b[1;33m=\u001b[0m\u001b[0mmax_snapshots_to_keep\u001b[0m\u001b[1;33m)\u001b[0m \u001b[1;31m#pass on path and file name for pose_cfg.yaml!\u001b[0m\u001b[1;33m\u001b[0m\u001b[1;33m\u001b[0m\u001b[0m\n\u001b[0;32m     88\u001b[0m       \u001b[1;32mexcept\u001b[0m \u001b[0mBaseException\u001b[0m \u001b[1;32mas\u001b[0m \u001b[0me\u001b[0m\u001b[1;33m:\u001b[0m\u001b[1;33m\u001b[0m\u001b[1;33m\u001b[0m\u001b[0m\n\u001b[1;32m---> 89\u001b[1;33m           \u001b[1;32mraise\u001b[0m \u001b[0me\u001b[0m\u001b[1;33m\u001b[0m\u001b[1;33m\u001b[0m\u001b[0m\n\u001b[0m\u001b[0;32m     90\u001b[0m       \u001b[1;32mfinally\u001b[0m\u001b[1;33m:\u001b[0m\u001b[1;33m\u001b[0m\u001b[1;33m\u001b[0m\u001b[0m\n\u001b[0;32m     91\u001b[0m           \u001b[0mos\u001b[0m\u001b[1;33m.\u001b[0m\u001b[0mchdir\u001b[0m\u001b[1;33m(\u001b[0m\u001b[0mstr\u001b[0m\u001b[1;33m(\u001b[0m\u001b[0mstart_path\u001b[0m\u001b[1;33m)\u001b[0m\u001b[1;33m)\u001b[0m\u001b[1;33m\u001b[0m\u001b[1;33m\u001b[0m\u001b[0m\n",
      "\u001b[1;32mC:\\Users\\Arash\\Anaconda3\\envs\\dlc-windowsGPU\\lib\\site-packages\\deeplabcut\\pose_estimation_tensorflow\\training.py\u001b[0m in \u001b[0;36mtrain_network\u001b[1;34m(config, shuffle, trainingsetindex, gputouse, max_snapshots_to_keep, autotune, displayiters, saveiters, maxiters)\u001b[0m\n\u001b[0;32m     85\u001b[0m \u001b[1;33m\u001b[0m\u001b[0m\n\u001b[0;32m     86\u001b[0m       \u001b[1;32mtry\u001b[0m\u001b[1;33m:\u001b[0m\u001b[1;33m\u001b[0m\u001b[1;33m\u001b[0m\u001b[0m\n\u001b[1;32m---> 87\u001b[1;33m           \u001b[0mtrain\u001b[0m\u001b[1;33m(\u001b[0m\u001b[0mstr\u001b[0m\u001b[1;33m(\u001b[0m\u001b[0mposeconfigfile\u001b[0m\u001b[1;33m)\u001b[0m\u001b[1;33m,\u001b[0m\u001b[0mdisplayiters\u001b[0m\u001b[1;33m,\u001b[0m\u001b[0msaveiters\u001b[0m\u001b[1;33m,\u001b[0m\u001b[0mmaxiters\u001b[0m\u001b[1;33m,\u001b[0m\u001b[0mmax_to_keep\u001b[0m\u001b[1;33m=\u001b[0m\u001b[0mmax_snapshots_to_keep\u001b[0m\u001b[1;33m)\u001b[0m \u001b[1;31m#pass on path and file name for pose_cfg.yaml!\u001b[0m\u001b[1;33m\u001b[0m\u001b[1;33m\u001b[0m\u001b[0m\n\u001b[0m\u001b[0;32m     88\u001b[0m       \u001b[1;32mexcept\u001b[0m \u001b[0mBaseException\u001b[0m \u001b[1;32mas\u001b[0m \u001b[0me\u001b[0m\u001b[1;33m:\u001b[0m\u001b[1;33m\u001b[0m\u001b[1;33m\u001b[0m\u001b[0m\n\u001b[0;32m     89\u001b[0m           \u001b[1;32mraise\u001b[0m \u001b[0me\u001b[0m\u001b[1;33m\u001b[0m\u001b[1;33m\u001b[0m\u001b[0m\n",
      "\u001b[1;32mC:\\Users\\Arash\\Anaconda3\\envs\\dlc-windowsGPU\\lib\\site-packages\\deeplabcut\\pose_estimation_tensorflow\\train.py\u001b[0m in \u001b[0;36mtrain\u001b[1;34m(config_yaml, displayiters, saveiters, maxiters, max_to_keep)\u001b[0m\n\u001b[0;32m    140\u001b[0m         \u001b[0mcurrent_lr\u001b[0m \u001b[1;33m=\u001b[0m \u001b[0mlr_gen\u001b[0m\u001b[1;33m.\u001b[0m\u001b[0mget_lr\u001b[0m\u001b[1;33m(\u001b[0m\u001b[0mit\u001b[0m\u001b[1;33m)\u001b[0m\u001b[1;33m\u001b[0m\u001b[1;33m\u001b[0m\u001b[0m\n\u001b[0;32m    141\u001b[0m         [_, loss_val, summary] = sess.run([train_op, total_loss, merged_summaries],\n\u001b[1;32m--> 142\u001b[1;33m                                           feed_dict={learning_rate: current_lr})\n\u001b[0m\u001b[0;32m    143\u001b[0m         \u001b[0mcum_loss\u001b[0m \u001b[1;33m+=\u001b[0m \u001b[0mloss_val\u001b[0m\u001b[1;33m\u001b[0m\u001b[1;33m\u001b[0m\u001b[0m\n\u001b[0;32m    144\u001b[0m         \u001b[0mtrain_writer\u001b[0m\u001b[1;33m.\u001b[0m\u001b[0madd_summary\u001b[0m\u001b[1;33m(\u001b[0m\u001b[0msummary\u001b[0m\u001b[1;33m,\u001b[0m \u001b[0mit\u001b[0m\u001b[1;33m)\u001b[0m\u001b[1;33m\u001b[0m\u001b[1;33m\u001b[0m\u001b[0m\n",
      "\u001b[1;32mC:\\Users\\Arash\\Anaconda3\\envs\\dlc-windowsGPU\\lib\\site-packages\\tensorflow\\python\\client\\session.py\u001b[0m in \u001b[0;36mrun\u001b[1;34m(self, fetches, feed_dict, options, run_metadata)\u001b[0m\n\u001b[0;32m    898\u001b[0m     \u001b[1;32mtry\u001b[0m\u001b[1;33m:\u001b[0m\u001b[1;33m\u001b[0m\u001b[1;33m\u001b[0m\u001b[0m\n\u001b[0;32m    899\u001b[0m       result = self._run(None, fetches, feed_dict, options_ptr,\n\u001b[1;32m--> 900\u001b[1;33m                          run_metadata_ptr)\n\u001b[0m\u001b[0;32m    901\u001b[0m       \u001b[1;32mif\u001b[0m \u001b[0mrun_metadata\u001b[0m\u001b[1;33m:\u001b[0m\u001b[1;33m\u001b[0m\u001b[1;33m\u001b[0m\u001b[0m\n\u001b[0;32m    902\u001b[0m         \u001b[0mproto_data\u001b[0m \u001b[1;33m=\u001b[0m \u001b[0mtf_session\u001b[0m\u001b[1;33m.\u001b[0m\u001b[0mTF_GetBuffer\u001b[0m\u001b[1;33m(\u001b[0m\u001b[0mrun_metadata_ptr\u001b[0m\u001b[1;33m)\u001b[0m\u001b[1;33m\u001b[0m\u001b[1;33m\u001b[0m\u001b[0m\n",
      "\u001b[1;32mC:\\Users\\Arash\\Anaconda3\\envs\\dlc-windowsGPU\\lib\\site-packages\\tensorflow\\python\\client\\session.py\u001b[0m in \u001b[0;36m_run\u001b[1;34m(self, handle, fetches, feed_dict, options, run_metadata)\u001b[0m\n\u001b[0;32m   1133\u001b[0m     \u001b[1;32mif\u001b[0m \u001b[0mfinal_fetches\u001b[0m \u001b[1;32mor\u001b[0m \u001b[0mfinal_targets\u001b[0m \u001b[1;32mor\u001b[0m \u001b[1;33m(\u001b[0m\u001b[0mhandle\u001b[0m \u001b[1;32mand\u001b[0m \u001b[0mfeed_dict_tensor\u001b[0m\u001b[1;33m)\u001b[0m\u001b[1;33m:\u001b[0m\u001b[1;33m\u001b[0m\u001b[1;33m\u001b[0m\u001b[0m\n\u001b[0;32m   1134\u001b[0m       results = self._do_run(handle, final_targets, final_fetches,\n\u001b[1;32m-> 1135\u001b[1;33m                              feed_dict_tensor, options, run_metadata)\n\u001b[0m\u001b[0;32m   1136\u001b[0m     \u001b[1;32melse\u001b[0m\u001b[1;33m:\u001b[0m\u001b[1;33m\u001b[0m\u001b[1;33m\u001b[0m\u001b[0m\n\u001b[0;32m   1137\u001b[0m       \u001b[0mresults\u001b[0m \u001b[1;33m=\u001b[0m \u001b[1;33m[\u001b[0m\u001b[1;33m]\u001b[0m\u001b[1;33m\u001b[0m\u001b[1;33m\u001b[0m\u001b[0m\n",
      "\u001b[1;32mC:\\Users\\Arash\\Anaconda3\\envs\\dlc-windowsGPU\\lib\\site-packages\\tensorflow\\python\\client\\session.py\u001b[0m in \u001b[0;36m_do_run\u001b[1;34m(self, handle, target_list, fetch_list, feed_dict, options, run_metadata)\u001b[0m\n\u001b[0;32m   1314\u001b[0m     \u001b[1;32mif\u001b[0m \u001b[0mhandle\u001b[0m \u001b[1;32mis\u001b[0m \u001b[1;32mNone\u001b[0m\u001b[1;33m:\u001b[0m\u001b[1;33m\u001b[0m\u001b[1;33m\u001b[0m\u001b[0m\n\u001b[0;32m   1315\u001b[0m       return self._do_call(_run_fn, feeds, fetches, targets, options,\n\u001b[1;32m-> 1316\u001b[1;33m                            run_metadata)\n\u001b[0m\u001b[0;32m   1317\u001b[0m     \u001b[1;32melse\u001b[0m\u001b[1;33m:\u001b[0m\u001b[1;33m\u001b[0m\u001b[1;33m\u001b[0m\u001b[0m\n\u001b[0;32m   1318\u001b[0m       \u001b[1;32mreturn\u001b[0m \u001b[0mself\u001b[0m\u001b[1;33m.\u001b[0m\u001b[0m_do_call\u001b[0m\u001b[1;33m(\u001b[0m\u001b[0m_prun_fn\u001b[0m\u001b[1;33m,\u001b[0m \u001b[0mhandle\u001b[0m\u001b[1;33m,\u001b[0m \u001b[0mfeeds\u001b[0m\u001b[1;33m,\u001b[0m \u001b[0mfetches\u001b[0m\u001b[1;33m)\u001b[0m\u001b[1;33m\u001b[0m\u001b[1;33m\u001b[0m\u001b[0m\n",
      "\u001b[1;32mC:\\Users\\Arash\\Anaconda3\\envs\\dlc-windowsGPU\\lib\\site-packages\\tensorflow\\python\\client\\session.py\u001b[0m in \u001b[0;36m_do_call\u001b[1;34m(self, fn, *args)\u001b[0m\n\u001b[0;32m   1320\u001b[0m   \u001b[1;32mdef\u001b[0m \u001b[0m_do_call\u001b[0m\u001b[1;33m(\u001b[0m\u001b[0mself\u001b[0m\u001b[1;33m,\u001b[0m \u001b[0mfn\u001b[0m\u001b[1;33m,\u001b[0m \u001b[1;33m*\u001b[0m\u001b[0margs\u001b[0m\u001b[1;33m)\u001b[0m\u001b[1;33m:\u001b[0m\u001b[1;33m\u001b[0m\u001b[1;33m\u001b[0m\u001b[0m\n\u001b[0;32m   1321\u001b[0m     \u001b[1;32mtry\u001b[0m\u001b[1;33m:\u001b[0m\u001b[1;33m\u001b[0m\u001b[1;33m\u001b[0m\u001b[0m\n\u001b[1;32m-> 1322\u001b[1;33m       \u001b[1;32mreturn\u001b[0m \u001b[0mfn\u001b[0m\u001b[1;33m(\u001b[0m\u001b[1;33m*\u001b[0m\u001b[0margs\u001b[0m\u001b[1;33m)\u001b[0m\u001b[1;33m\u001b[0m\u001b[1;33m\u001b[0m\u001b[0m\n\u001b[0m\u001b[0;32m   1323\u001b[0m     \u001b[1;32mexcept\u001b[0m \u001b[0merrors\u001b[0m\u001b[1;33m.\u001b[0m\u001b[0mOpError\u001b[0m \u001b[1;32mas\u001b[0m \u001b[0me\u001b[0m\u001b[1;33m:\u001b[0m\u001b[1;33m\u001b[0m\u001b[1;33m\u001b[0m\u001b[0m\n\u001b[0;32m   1324\u001b[0m       \u001b[0mmessage\u001b[0m \u001b[1;33m=\u001b[0m \u001b[0mcompat\u001b[0m\u001b[1;33m.\u001b[0m\u001b[0mas_text\u001b[0m\u001b[1;33m(\u001b[0m\u001b[0me\u001b[0m\u001b[1;33m.\u001b[0m\u001b[0mmessage\u001b[0m\u001b[1;33m)\u001b[0m\u001b[1;33m\u001b[0m\u001b[1;33m\u001b[0m\u001b[0m\n",
      "\u001b[1;32mC:\\Users\\Arash\\Anaconda3\\envs\\dlc-windowsGPU\\lib\\site-packages\\tensorflow\\python\\client\\session.py\u001b[0m in \u001b[0;36m_run_fn\u001b[1;34m(feed_dict, fetch_list, target_list, options, run_metadata)\u001b[0m\n\u001b[0;32m   1305\u001b[0m       \u001b[0mself\u001b[0m\u001b[1;33m.\u001b[0m\u001b[0m_extend_graph\u001b[0m\u001b[1;33m(\u001b[0m\u001b[1;33m)\u001b[0m\u001b[1;33m\u001b[0m\u001b[1;33m\u001b[0m\u001b[0m\n\u001b[0;32m   1306\u001b[0m       return self._call_tf_sessionrun(\n\u001b[1;32m-> 1307\u001b[1;33m           options, feed_dict, fetch_list, target_list, run_metadata)\n\u001b[0m\u001b[0;32m   1308\u001b[0m \u001b[1;33m\u001b[0m\u001b[0m\n\u001b[0;32m   1309\u001b[0m     \u001b[1;32mdef\u001b[0m \u001b[0m_prun_fn\u001b[0m\u001b[1;33m(\u001b[0m\u001b[0mhandle\u001b[0m\u001b[1;33m,\u001b[0m \u001b[0mfeed_dict\u001b[0m\u001b[1;33m,\u001b[0m \u001b[0mfetch_list\u001b[0m\u001b[1;33m)\u001b[0m\u001b[1;33m:\u001b[0m\u001b[1;33m\u001b[0m\u001b[1;33m\u001b[0m\u001b[0m\n",
      "\u001b[1;32mC:\\Users\\Arash\\Anaconda3\\envs\\dlc-windowsGPU\\lib\\site-packages\\tensorflow\\python\\client\\session.py\u001b[0m in \u001b[0;36m_call_tf_sessionrun\u001b[1;34m(self, options, feed_dict, fetch_list, target_list, run_metadata)\u001b[0m\n\u001b[0;32m   1407\u001b[0m       return tf_session.TF_SessionRun_wrapper(\n\u001b[0;32m   1408\u001b[0m           \u001b[0mself\u001b[0m\u001b[1;33m.\u001b[0m\u001b[0m_session\u001b[0m\u001b[1;33m,\u001b[0m \u001b[0moptions\u001b[0m\u001b[1;33m,\u001b[0m \u001b[0mfeed_dict\u001b[0m\u001b[1;33m,\u001b[0m \u001b[0mfetch_list\u001b[0m\u001b[1;33m,\u001b[0m \u001b[0mtarget_list\u001b[0m\u001b[1;33m,\u001b[0m\u001b[1;33m\u001b[0m\u001b[1;33m\u001b[0m\u001b[0m\n\u001b[1;32m-> 1409\u001b[1;33m           run_metadata)\n\u001b[0m\u001b[0;32m   1410\u001b[0m     \u001b[1;32melse\u001b[0m\u001b[1;33m:\u001b[0m\u001b[1;33m\u001b[0m\u001b[1;33m\u001b[0m\u001b[0m\n\u001b[0;32m   1411\u001b[0m       \u001b[1;32mwith\u001b[0m \u001b[0merrors\u001b[0m\u001b[1;33m.\u001b[0m\u001b[0mraise_exception_on_not_ok_status\u001b[0m\u001b[1;33m(\u001b[0m\u001b[1;33m)\u001b[0m \u001b[1;32mas\u001b[0m \u001b[0mstatus\u001b[0m\u001b[1;33m:\u001b[0m\u001b[1;33m\u001b[0m\u001b[1;33m\u001b[0m\u001b[0m\n",
      "\u001b[1;31mKeyboardInterrupt\u001b[0m: "
     ]
    }
   ],
   "source": [
    "\n",
    "#path_config_file = 'D:\\\\rat movies SC\\\\ar19\\\\02_07_19\\\\sc_ar19_02072019-Fassihi4-2019-02-13\\\\config.yaml' #Enter the path of the config file that was just created from the above step (check the folder)\n",
    "#path_config_file = 'D:\\\\rat movies SC\\\\ar15record\\\\02_27_19\\\\sc_ar15record_02272019-Fassihi-2019-03-12\\\\config.yaml' #Enter the path of the config file that was just created from the above step (check the folder)\n",
    "#path_confic_file = 'D:\\rat_movies_SC\\ar17record\\02_27_19\\sc_ar17record_02272019-Fassihi-2019-03-05\\config.yaml'\n",
    "#path_config_file = 'D:\\\\rat_movies_SC\\\\ar17record\\\\02_27_19\\\\sc_ar17record_02272019_3-Fassihi-2019-04-28\\\\config.yaml'\n",
    "#path_config_file = 'D:\\\\rat_movies_SC\\\\ar15record\\\\02_27_19\\\\sc_ar15record_02272019_4-Fassihi-2019-05-02\\\\config.yaml' #Enter the path of the config file that was just created from the above step (check the folder)\n",
    "#path_config_file = 'D:\\\\rat_movies_SC\\\\ar17record\\\\02_27_19\\\\sc_ar17record_02272019_3-Fassihi-2019-04-28\\\\config.yaml' #Enter the path of the config file that was just created from the above step (check the folder)\n",
    "##path_config_file ='D:\\\\rat_movies_SC\\\\ar2breathing\\\\10_06_19\\\\ar19salin_10-06-19_LR_L-Arash-2020-01-27\\\\config.yaml';\n",
    "#path_config_file = 'D:\\\\rat_movies_SC\\\\ar19muscimol\\\\10_10_2019\\\\ar19muscimol10-10-19_LR_L-Arash-2020-03-01\\\\config.yaml';\n",
    "\n",
    "deeplabcut.train_network(path_config_file,shuffle=1,displayiters=1000,saveiters=1000)"
   ]
  },
  {
   "cell_type": "markdown",
   "metadata": {
    "colab_type": "text",
    "id": "xZygsb2DoEJc"
   },
   "source": [
    "## Start evaluating\n",
    "This funtion evaluates a trained model for a specific shuffle/shuffles at a particular state or all the states on the data set (images)\n",
    "and stores the results as .csv file in a subdirectory under **evaluation-results**"
   ]
  },
  {
   "cell_type": "code",
   "execution_count": 7,
   "metadata": {
    "colab": {},
    "colab_type": "code",
    "id": "nv4zlbrnoEJg",
    "scrolled": true
   },
   "outputs": [
    {
     "name": "stderr",
     "output_type": "stream",
     "text": [
      "Config:\n",
      "{'all_joints': [[0], [1], [2], [3], [4]],\n",
      " 'all_joints_names': ['w1', 'w2', 'w3', 'w4', 'w5'],\n",
      " 'batch_size': 1,\n",
      " 'bottomheight': 400,\n",
      " 'crop': True,\n",
      " 'crop_pad': 0,\n",
      " 'cropratio': 0.4,\n",
      " 'dataset': 'training-datasets\\\\iteration-0\\\\UnaugmentedDataSet_ar2breathing_10_08_19LR_RApr30\\\\ar2breathing_10_08_19LR_R_Arash95shuffle1.mat',\n",
      " 'dataset_type': 'default',\n",
      " 'display_iters': 1000,\n",
      " 'fg_fraction': 0.25,\n",
      " 'global_scale': 0.8,\n",
      " 'init_weights': 'C:\\\\Users\\\\Arash\\\\Anaconda3\\\\envs\\\\dlc-windowsGPU\\\\lib\\\\site-packages\\\\deeplabcut\\\\pose_estimation_tensorflow\\\\models\\\\pretrained\\\\resnet_v1_50.ckpt',\n",
      " 'intermediate_supervision': False,\n",
      " 'intermediate_supervision_layer': 12,\n",
      " 'leftwidth': 400,\n",
      " 'location_refinement': True,\n",
      " 'locref_huber_loss': True,\n",
      " 'locref_loss_weight': 0.05,\n",
      " 'locref_stdev': 7.2801,\n",
      " 'log_dir': 'log',\n",
      " 'max_input_size': 1500,\n",
      " 'mean_pixel': [123.68, 116.779, 103.939],\n",
      " 'metadataset': 'training-datasets\\\\iteration-0\\\\UnaugmentedDataSet_ar2breathing_10_08_19LR_RApr30\\\\Documentation_data-ar2breathing_10_08_19LR_R_95shuffle1.pickle',\n",
      " 'min_input_size': 64,\n",
      " 'minsize': 100,\n",
      " 'mirror': False,\n",
      " 'multi_step': [[0.005, 10000],\n",
      "                [0.02, 430000],\n",
      "                [0.002, 730000],\n",
      "                [0.001, 1030000]],\n",
      " 'net_type': 'resnet_50',\n",
      " 'num_joints': 5,\n",
      " 'optimizer': 'sgd',\n",
      " 'pos_dist_thresh': 17,\n",
      " 'project_path': 'E:\\\\movies\\\\ar2breathing\\\\10_08_19\\\\ar2breathing_10_08_19LR_R-Arash-2020-04-30',\n",
      " 'regularize': False,\n",
      " 'rightwidth': 400,\n",
      " 'save_iters': 50000,\n",
      " 'scale_jitter_lo': 0.5,\n",
      " 'scale_jitter_up': 1.25,\n",
      " 'scoremap_dir': 'test',\n",
      " 'shuffle': True,\n",
      " 'snapshot_prefix': 'E:\\\\movies\\\\ar2breathing\\\\10_08_19\\\\ar2breathing_10_08_19LR_R-Arash-2020-04-30\\\\dlc-models\\\\iteration-0\\\\ar2breathing_10_08_19LR_RApr30-trainset95shuffle1\\\\test\\\\snapshot',\n",
      " 'stride': 8.0,\n",
      " 'topheight': 400,\n",
      " 'use_gt_segm': False,\n",
      " 'video': False,\n",
      " 'video_batch': False,\n",
      " 'weigh_negatives': False,\n",
      " 'weigh_only_present_joints': False,\n",
      " 'weigh_part_predictions': False,\n",
      " 'weight_decay': 0.0001}\n"
     ]
    },
    {
     "name": "stdout",
     "output_type": "stream",
     "text": [
      "Running  DeepCut_resnet50_ar2breathing_10_08_19LR_RApr30shuffle1_163000  with # of trainingiterations: 163000\n",
      "INFO:tensorflow:Restoring parameters from E:\\movies\\ar2breathing\\10_08_19\\ar2breathing_10_08_19LR_R-Arash-2020-04-30\\dlc-models\\iteration-0\\ar2breathing_10_08_19LR_RApr30-trainset95shuffle1\\train\\snapshot-163000\n",
      "Analyzing data...\n"
     ]
    },
    {
     "name": "stderr",
     "output_type": "stream",
     "text": [
      "40it [00:03, 12.46it/s]\n"
     ]
    },
    {
     "name": "stdout",
     "output_type": "stream",
     "text": [
      "Done and results stored for snapshot:  snapshot-163000\n",
      "Results for 163000  training iterations: 95 1 train error: 1.16 pixels. Test error: 3.36  pixels.\n",
      "With pcutoff of 0.1  train error: 1.16 pixels. Test error: 3.36 pixels\n",
      "Thereby, the errors are given by the average distances between the labels by DLC and the scorer.\n",
      "The network is evaluated and the results are stored in the subdirectory 'evaluation_results'.\n",
      "If it generalizes well, choose the best model for prediction and update the config file with the appropriate index for the 'snapshotindex'.\n",
      "Use the function 'analyze_video' to make predictions on new videos.\n",
      "Otherwise consider retraining the network (see DeepLabCut workflow Fig 2)\n"
     ]
    }
   ],
   "source": [
    "#deeplabcut.evaluate_network(path_config_file)\n",
    "#path_config_file = 'D:\\\\rat_movies_SC\\\\ar17record\\\\02_27_19\\\\sc_ar17record_02272019_3-Fassihi-2019-04-28\\\\config.yaml'\n",
    "#path_config_file = 'D:\\\\rat_movies_SC\\\\ar19muscimol\\\\10_10_2019\\\\ar19muscimol10-10-19_LR_R-Arash-2020-02-28\\\\config.yaml;\n",
    "\n",
    "deeplabcut.evaluate_network(path_config_file,Shuffles=[1], plotting=False)"
   ]
  },
  {
   "cell_type": "markdown",
   "metadata": {
    "colab_type": "text",
    "id": "OVFLSKKfoEJk"
   },
   "source": [
    "## Start Analyzing videos\n",
    "This function analyzes the new video. The user can choose the best model from the evaluation results and specify the correct snapshot index for the variable **snapshotindex** in the **config.yaml** file. Otherwise, by default the most recent snapshot is used to analyse the video.\n",
    "\n",
    "The results are stored in hd5 file in the same directory where the video resides. "
   ]
  },
  {
   "cell_type": "code",
   "execution_count": 2,
   "metadata": {
    "colab": {},
    "colab_type": "code",
    "id": "Y_LZiS_0oEJl"
   },
   "outputs": [
    {
     "name": "stdout",
     "output_type": "stream",
     "text": [
      "['E:\\\\movies\\\\ar2breathing\\\\10_08_19\\\\18-56-02R.avi', 'E:\\\\movies\\\\ar2breathing\\\\10_08_19\\\\18-58-41R.avi', 'E:\\\\movies\\\\ar2breathing\\\\10_08_19\\\\18-59-26R.avi', 'E:\\\\movies\\\\ar2breathing\\\\10_08_19\\\\18-59-47R.avi', 'E:\\\\movies\\\\ar2breathing\\\\10_08_19\\\\19-00-09R.avi', 'E:\\\\movies\\\\ar2breathing\\\\10_08_19\\\\19-00-37R.avi', 'E:\\\\movies\\\\ar2breathing\\\\10_08_19\\\\19-01-05R.avi', 'E:\\\\movies\\\\ar2breathing\\\\10_08_19\\\\19-02-16R.avi', 'E:\\\\movies\\\\ar2breathing\\\\10_08_19\\\\19-02-39R.avi', 'E:\\\\movies\\\\ar2breathing\\\\10_08_19\\\\19-03-04R.avi', 'E:\\\\movies\\\\ar2breathing\\\\10_08_19\\\\19-03-28R.avi', 'E:\\\\movies\\\\ar2breathing\\\\10_08_19\\\\19-03-50R.avi', 'E:\\\\movies\\\\ar2breathing\\\\10_08_19\\\\19-04-10R.avi', 'E:\\\\movies\\\\ar2breathing\\\\10_08_19\\\\19-04-56R.avi', 'E:\\\\movies\\\\ar2breathing\\\\10_08_19\\\\19-05-16R.avi', 'E:\\\\movies\\\\ar2breathing\\\\10_08_19\\\\19-05-38R.avi', 'E:\\\\movies\\\\ar2breathing\\\\10_08_19\\\\19-05-59R.avi', 'E:\\\\movies\\\\ar2breathing\\\\10_08_19\\\\19-06-19R.avi', 'E:\\\\movies\\\\ar2breathing\\\\10_08_19\\\\19-06-44R.avi', 'E:\\\\movies\\\\ar2breathing\\\\10_08_19\\\\19-07-06R.avi', 'E:\\\\movies\\\\ar2breathing\\\\10_08_19\\\\19-07-25R.avi', 'E:\\\\movies\\\\ar2breathing\\\\10_08_19\\\\19-07-47R.avi', 'E:\\\\movies\\\\ar2breathing\\\\10_08_19\\\\19-08-06R.avi', 'E:\\\\movies\\\\ar2breathing\\\\10_08_19\\\\19-08-31R.avi', 'E:\\\\movies\\\\ar2breathing\\\\10_08_19\\\\19-11-30R.avi', 'E:\\\\movies\\\\ar2breathing\\\\10_08_19\\\\19-11-51R.avi', 'E:\\\\movies\\\\ar2breathing\\\\10_08_19\\\\19-12-09R.avi', 'E:\\\\movies\\\\ar2breathing\\\\10_08_19\\\\19-12-31R.avi', 'E:\\\\movies\\\\ar2breathing\\\\10_08_19\\\\19-13-06R.avi', 'E:\\\\movies\\\\ar2breathing\\\\10_08_19\\\\19-13-24R.avi', 'E:\\\\movies\\\\ar2breathing\\\\10_08_19\\\\19-13-44R.avi', 'E:\\\\movies\\\\ar2breathing\\\\10_08_19\\\\19-14-03R.avi', 'E:\\\\movies\\\\ar2breathing\\\\10_08_19\\\\19-14-21R.avi', 'E:\\\\movies\\\\ar2breathing\\\\10_08_19\\\\19-14-39R.avi', 'E:\\\\movies\\\\ar2breathing\\\\10_08_19\\\\19-14-59R.avi', 'E:\\\\movies\\\\ar2breathing\\\\10_08_19\\\\19-15-21R.avi', 'E:\\\\movies\\\\ar2breathing\\\\10_08_19\\\\19-15-40R.avi', 'E:\\\\movies\\\\ar2breathing\\\\10_08_19\\\\19-16-02R.avi', 'E:\\\\movies\\\\ar2breathing\\\\10_08_19\\\\19-16-21R.avi', 'E:\\\\movies\\\\ar2breathing\\\\10_08_19\\\\19-16-39R.avi', 'E:\\\\movies\\\\ar2breathing\\\\10_08_19\\\\19-17-02R.avi', 'E:\\\\movies\\\\ar2breathing\\\\10_08_19\\\\19-17-21R.avi', 'E:\\\\movies\\\\ar2breathing\\\\10_08_19\\\\19-17-39R.avi', 'E:\\\\movies\\\\ar2breathing\\\\10_08_19\\\\19-17-57R.avi', 'E:\\\\movies\\\\ar2breathing\\\\10_08_19\\\\19-18-17R.avi', 'E:\\\\movies\\\\ar2breathing\\\\10_08_19\\\\19-19-32R.avi', 'E:\\\\movies\\\\ar2breathing\\\\10_08_19\\\\19-19-50R.avi', 'E:\\\\movies\\\\ar2breathing\\\\10_08_19\\\\19-20-10R.avi', 'E:\\\\movies\\\\ar2breathing\\\\10_08_19\\\\19-20-27R.avi', 'E:\\\\movies\\\\ar2breathing\\\\10_08_19\\\\19-20-45R.avi', 'E:\\\\movies\\\\ar2breathing\\\\10_08_19\\\\19-21-16R.avi', 'E:\\\\movies\\\\ar2breathing\\\\10_08_19\\\\19-21-35R.avi', 'E:\\\\movies\\\\ar2breathing\\\\10_08_19\\\\19-21-54R.avi', 'E:\\\\movies\\\\ar2breathing\\\\10_08_19\\\\19-22-21R.avi', 'E:\\\\movies\\\\ar2breathing\\\\10_08_19\\\\19-22-40R.avi', 'E:\\\\movies\\\\ar2breathing\\\\10_08_19\\\\19-22-58R.avi', 'E:\\\\movies\\\\ar2breathing\\\\10_08_19\\\\19-23-16R.avi', 'E:\\\\movies\\\\ar2breathing\\\\10_08_19\\\\19-23-36R.avi', 'E:\\\\movies\\\\ar2breathing\\\\10_08_19\\\\19-23-55R.avi', 'E:\\\\movies\\\\ar2breathing\\\\10_08_19\\\\19-24-14R.avi', 'E:\\\\movies\\\\ar2breathing\\\\10_08_19\\\\19-24-41R.avi', 'E:\\\\movies\\\\ar2breathing\\\\10_08_19\\\\19-25-03R.avi', 'E:\\\\movies\\\\ar2breathing\\\\10_08_19\\\\19-25-21R.avi', 'E:\\\\movies\\\\ar2breathing\\\\10_08_19\\\\19-25-40R.avi', 'E:\\\\movies\\\\ar2breathing\\\\10_08_19\\\\19-26-02R.avi', 'E:\\\\movies\\\\ar2breathing\\\\10_08_19\\\\19-26-20R.avi', 'E:\\\\movies\\\\ar2breathing\\\\10_08_19\\\\19-26-38R.avi', 'E:\\\\movies\\\\ar2breathing\\\\10_08_19\\\\19-26-58R.avi', 'E:\\\\movies\\\\ar2breathing\\\\10_08_19\\\\19-27-16R.avi', 'E:\\\\movies\\\\ar2breathing\\\\10_08_19\\\\19-27-35R.avi', 'E:\\\\movies\\\\ar2breathing\\\\10_08_19\\\\19-27-56R.avi', 'E:\\\\movies\\\\ar2breathing\\\\10_08_19\\\\19-28-16R.avi', 'E:\\\\movies\\\\ar2breathing\\\\10_08_19\\\\19-28-33R.avi', 'E:\\\\movies\\\\ar2breathing\\\\10_08_19\\\\19-28-51R.avi', 'E:\\\\movies\\\\ar2breathing\\\\10_08_19\\\\19-29-10R.avi', 'E:\\\\movies\\\\ar2breathing\\\\10_08_19\\\\19-29-29R.avi', 'E:\\\\movies\\\\ar2breathing\\\\10_08_19\\\\19-30-03R.avi', 'E:\\\\movies\\\\ar2breathing\\\\10_08_19\\\\19-30-31R.avi', 'E:\\\\movies\\\\ar2breathing\\\\10_08_19\\\\19-30-58R.avi', 'E:\\\\movies\\\\ar2breathing\\\\10_08_19\\\\19-31-20R.avi', 'E:\\\\movies\\\\ar2breathing\\\\10_08_19\\\\19-31-39R.avi', 'E:\\\\movies\\\\ar2breathing\\\\10_08_19\\\\19-31-56R.avi', 'E:\\\\movies\\\\ar2breathing\\\\10_08_19\\\\19-32-15R.avi', 'E:\\\\movies\\\\ar2breathing\\\\10_08_19\\\\19-32-34R.avi', 'E:\\\\movies\\\\ar2breathing\\\\10_08_19\\\\19-32-52R.avi', 'E:\\\\movies\\\\ar2breathing\\\\10_08_19\\\\19-33-15R.avi', 'E:\\\\movies\\\\ar2breathing\\\\10_08_19\\\\19-33-33R.avi', 'E:\\\\movies\\\\ar2breathing\\\\10_08_19\\\\19-33-52R.avi', 'E:\\\\movies\\\\ar2breathing\\\\10_08_19\\\\19-34-09R.avi', 'E:\\\\movies\\\\ar2breathing\\\\10_08_19\\\\19-34-28R.avi', 'E:\\\\movies\\\\ar2breathing\\\\10_08_19\\\\19-34-46R.avi', 'E:\\\\movies\\\\ar2breathing\\\\10_08_19\\\\19-35-05R.avi', 'E:\\\\movies\\\\ar2breathing\\\\10_08_19\\\\19-35-26R.avi', 'E:\\\\movies\\\\ar2breathing\\\\10_08_19\\\\19-35-44R.avi', 'E:\\\\movies\\\\ar2breathing\\\\10_08_19\\\\19-36-02R.avi', 'E:\\\\movies\\\\ar2breathing\\\\10_08_19\\\\19-36-20R.avi', 'E:\\\\movies\\\\ar2breathing\\\\10_08_19\\\\19-36-40R.avi', 'E:\\\\movies\\\\ar2breathing\\\\10_08_19\\\\19-36-58R.avi', 'E:\\\\movies\\\\ar2breathing\\\\10_08_19\\\\19-37-16R.avi', 'E:\\\\movies\\\\ar2breathing\\\\10_08_19\\\\19-37-35R.avi', 'E:\\\\movies\\\\ar2breathing\\\\10_08_19\\\\19-37-53R.avi', 'E:\\\\movies\\\\ar2breathing\\\\10_08_19\\\\19-38-11R.avi', 'E:\\\\movies\\\\ar2breathing\\\\10_08_19\\\\19-38-30R.avi', 'E:\\\\movies\\\\ar2breathing\\\\10_08_19\\\\19-38-49R.avi', 'E:\\\\movies\\\\ar2breathing\\\\10_08_19\\\\19-39-11R.avi', 'E:\\\\movies\\\\ar2breathing\\\\10_08_19\\\\19-39-29R.avi', 'E:\\\\movies\\\\ar2breathing\\\\10_08_19\\\\19-39-47R.avi', 'E:\\\\movies\\\\ar2breathing\\\\10_08_19\\\\19-40-07R.avi', 'E:\\\\movies\\\\ar2breathing\\\\10_08_19\\\\19-40-26R.avi', 'E:\\\\movies\\\\ar2breathing\\\\10_08_19\\\\19-40-44R.avi', 'E:\\\\movies\\\\ar2breathing\\\\10_08_19\\\\19-41-01R.avi', 'E:\\\\movies\\\\ar2breathing\\\\10_08_19\\\\19-41-20R.avi', 'E:\\\\movies\\\\ar2breathing\\\\10_08_19\\\\19-41-38R.avi', 'E:\\\\movies\\\\ar2breathing\\\\10_08_19\\\\19-41-57R.avi', 'E:\\\\movies\\\\ar2breathing\\\\10_08_19\\\\19-42-15R.avi', 'E:\\\\movies\\\\ar2breathing\\\\10_08_19\\\\19-42-33R.avi', 'E:\\\\movies\\\\ar2breathing\\\\10_08_19\\\\19-42-51R.avi', 'E:\\\\movies\\\\ar2breathing\\\\10_08_19\\\\19-43-13R.avi', 'E:\\\\movies\\\\ar2breathing\\\\10_08_19\\\\19-43-34R.avi', 'E:\\\\movies\\\\ar2breathing\\\\10_08_19\\\\19-43-52R.avi', 'E:\\\\movies\\\\ar2breathing\\\\10_08_19\\\\19-44-23R.avi', 'E:\\\\movies\\\\ar2breathing\\\\10_08_19\\\\19-44-42R.avi', 'E:\\\\movies\\\\ar2breathing\\\\10_08_19\\\\19-45-01R.avi', 'E:\\\\movies\\\\ar2breathing\\\\10_08_19\\\\19-45-23R.avi', 'E:\\\\movies\\\\ar2breathing\\\\10_08_19\\\\19-46-44R.avi', 'E:\\\\movies\\\\ar2breathing\\\\10_08_19\\\\19-50-03R.avi', 'E:\\\\movies\\\\ar2breathing\\\\10_08_19\\\\19-52-09R.avi', 'E:\\\\movies\\\\ar2breathing\\\\10_08_19\\\\19-52-27R.avi', 'E:\\\\movies\\\\ar2breathing\\\\10_08_19\\\\19-52-47R.avi', 'E:\\\\movies\\\\ar2breathing\\\\10_08_19\\\\19-53-05R.avi', 'E:\\\\movies\\\\ar2breathing\\\\10_08_19\\\\19-53-23R.avi', 'E:\\\\movies\\\\ar2breathing\\\\10_08_19\\\\19-53-49R.avi', 'E:\\\\movies\\\\ar2breathing\\\\10_08_19\\\\19-54-10R.avi', 'E:\\\\movies\\\\ar2breathing\\\\10_08_19\\\\19-54-29R.avi', 'E:\\\\movies\\\\ar2breathing\\\\10_08_19\\\\19-54-49R.avi', 'E:\\\\movies\\\\ar2breathing\\\\10_08_19\\\\19-55-07R.avi', 'E:\\\\movies\\\\ar2breathing\\\\10_08_19\\\\19-55-25R.avi', 'E:\\\\movies\\\\ar2breathing\\\\10_08_19\\\\19-55-43R.avi', 'E:\\\\movies\\\\ar2breathing\\\\10_08_19\\\\19-56-02R.avi', 'E:\\\\movies\\\\ar2breathing\\\\10_08_19\\\\19-56-20R.avi', 'E:\\\\movies\\\\ar2breathing\\\\10_08_19\\\\19-56-38R.avi', 'E:\\\\movies\\\\ar2breathing\\\\10_08_19\\\\19-56-59R.avi', 'E:\\\\movies\\\\ar2breathing\\\\10_08_19\\\\19-57-18R.avi', 'E:\\\\movies\\\\ar2breathing\\\\10_08_19\\\\19-57-41R.avi', 'E:\\\\movies\\\\ar2breathing\\\\10_08_19\\\\19-57-59R.avi', 'E:\\\\movies\\\\ar2breathing\\\\10_08_19\\\\19-58-19R.avi', 'E:\\\\movies\\\\ar2breathing\\\\10_08_19\\\\19-59-02R.avi', 'E:\\\\movies\\\\ar2breathing\\\\10_08_19\\\\19-59-22R.avi', 'E:\\\\movies\\\\ar2breathing\\\\10_08_19\\\\19-59-41R.avi', 'E:\\\\movies\\\\ar2breathing\\\\10_08_19\\\\20-00-00R.avi', 'E:\\\\movies\\\\ar2breathing\\\\10_08_19\\\\20-00-19R.avi', 'E:\\\\movies\\\\ar2breathing\\\\10_08_19\\\\20-00-37R.avi', 'E:\\\\movies\\\\ar2breathing\\\\10_08_19\\\\20-00-55R.avi', 'E:\\\\movies\\\\ar2breathing\\\\10_08_19\\\\20-01-13R.avi', 'E:\\\\movies\\\\ar2breathing\\\\10_08_19\\\\20-01-31R.avi', 'E:\\\\movies\\\\ar2breathing\\\\10_08_19\\\\20-01-49R.avi', 'E:\\\\movies\\\\ar2breathing\\\\10_08_19\\\\20-02-07R.avi', 'E:\\\\movies\\\\ar2breathing\\\\10_08_19\\\\20-02-26R.avi', 'E:\\\\movies\\\\ar2breathing\\\\10_08_19\\\\20-02-46R.avi', 'E:\\\\movies\\\\ar2breathing\\\\10_08_19\\\\20-03-04R.avi', 'E:\\\\movies\\\\ar2breathing\\\\10_08_19\\\\20-03-22R.avi', 'E:\\\\movies\\\\ar2breathing\\\\10_08_19\\\\20-03-40R.avi', 'E:\\\\movies\\\\ar2breathing\\\\10_08_19\\\\20-03-58R.avi', 'E:\\\\movies\\\\ar2breathing\\\\10_08_19\\\\20-04-17R.avi', 'E:\\\\movies\\\\ar2breathing\\\\10_08_19\\\\20-04-34R.avi', 'E:\\\\movies\\\\ar2breathing\\\\10_08_19\\\\20-04-54R.avi', 'E:\\\\movies\\\\ar2breathing\\\\10_08_19\\\\20-10-14R.avi', 'E:\\\\movies\\\\ar2breathing\\\\10_08_19\\\\20-12-58R.avi', 'E:\\\\movies\\\\ar2breathing\\\\10_08_19\\\\20-13-28R.avi', 'E:\\\\movies\\\\ar2breathing\\\\10_08_19\\\\20-13-46R.avi', 'E:\\\\movies\\\\ar2breathing\\\\10_08_19\\\\20-14-06R.avi', 'E:\\\\movies\\\\ar2breathing\\\\10_08_19\\\\20-14-24R.avi', 'E:\\\\movies\\\\ar2breathing\\\\10_08_19\\\\20-14-42R.avi', 'E:\\\\movies\\\\ar2breathing\\\\10_08_19\\\\20-15-03R.avi', 'E:\\\\movies\\\\ar2breathing\\\\10_08_19\\\\20-15-21R.avi', 'E:\\\\movies\\\\ar2breathing\\\\10_08_19\\\\20-15-40R.avi', 'E:\\\\movies\\\\ar2breathing\\\\10_08_19\\\\20-15-59R.avi', 'E:\\\\movies\\\\ar2breathing\\\\10_08_19\\\\20-16-17R.avi', 'E:\\\\movies\\\\ar2breathing\\\\10_08_19\\\\20-16-37R.avi', 'E:\\\\movies\\\\ar2breathing\\\\10_08_19\\\\20-16-56R.avi', 'E:\\\\movies\\\\ar2breathing\\\\10_08_19\\\\20-17-14R.avi', 'E:\\\\movies\\\\ar2breathing\\\\10_08_19\\\\20-17-32R.avi', 'E:\\\\movies\\\\ar2breathing\\\\10_08_19\\\\20-17-50R.avi', 'E:\\\\movies\\\\ar2breathing\\\\10_08_19\\\\20-18-08R.avi', 'E:\\\\movies\\\\ar2breathing\\\\10_08_19\\\\20-18-27R.avi', 'E:\\\\movies\\\\ar2breathing\\\\10_08_19\\\\20-18-54R.avi', 'E:\\\\movies\\\\ar2breathing\\\\10_08_19\\\\20-19-12R.avi', 'E:\\\\movies\\\\ar2breathing\\\\10_08_19\\\\20-19-32R.avi', 'E:\\\\movies\\\\ar2breathing\\\\10_08_19\\\\20-19-50R.avi', 'E:\\\\movies\\\\ar2breathing\\\\10_08_19\\\\20-20-09R.avi', 'E:\\\\movies\\\\ar2breathing\\\\10_08_19\\\\20-20-38R.avi', 'E:\\\\movies\\\\ar2breathing\\\\10_08_19\\\\20-20-56R.avi', 'E:\\\\movies\\\\ar2breathing\\\\10_08_19\\\\20-21-14R.avi', 'E:\\\\movies\\\\ar2breathing\\\\10_08_19\\\\20-21-32R.avi', 'E:\\\\movies\\\\ar2breathing\\\\10_08_19\\\\20-21-51R.avi', 'E:\\\\movies\\\\ar2breathing\\\\10_08_19\\\\20-22-09R.avi', 'E:\\\\movies\\\\ar2breathing\\\\10_08_19\\\\20-22-26R.avi', 'E:\\\\movies\\\\ar2breathing\\\\10_08_19\\\\20-22-45R.avi', 'E:\\\\movies\\\\ar2breathing\\\\10_08_19\\\\20-23-13R.avi', 'E:\\\\movies\\\\ar2breathing\\\\10_08_19\\\\20-24-54R.avi', 'E:\\\\movies\\\\ar2breathing\\\\10_08_19\\\\20-27-55R.avi', 'E:\\\\movies\\\\ar2breathing\\\\10_08_19\\\\20-28-12R.avi', 'E:\\\\movies\\\\ar2breathing\\\\10_08_19\\\\20-28-30R.avi', 'E:\\\\movies\\\\ar2breathing\\\\10_08_19\\\\20-28-48R.avi', 'E:\\\\movies\\\\ar2breathing\\\\10_08_19\\\\20-29-05R.avi', 'E:\\\\movies\\\\ar2breathing\\\\10_08_19\\\\20-29-23R.avi', 'E:\\\\movies\\\\ar2breathing\\\\10_08_19\\\\20-29-42R.avi', 'E:\\\\movies\\\\ar2breathing\\\\10_08_19\\\\20-30-00R.avi', 'E:\\\\movies\\\\ar2breathing\\\\10_08_19\\\\20-30-18R.avi', 'E:\\\\movies\\\\ar2breathing\\\\10_08_19\\\\20-30-36R.avi', 'E:\\\\movies\\\\ar2breathing\\\\10_08_19\\\\20-30-54R.avi', 'E:\\\\movies\\\\ar2breathing\\\\10_08_19\\\\20-31-12R.avi', 'E:\\\\movies\\\\ar2breathing\\\\10_08_19\\\\20-31-30R.avi', 'E:\\\\movies\\\\ar2breathing\\\\10_08_19\\\\20-31-48R.avi', 'E:\\\\movies\\\\ar2breathing\\\\10_08_19\\\\20-32-07R.avi', 'E:\\\\movies\\\\ar2breathing\\\\10_08_19\\\\20-32-26R.avi', 'E:\\\\movies\\\\ar2breathing\\\\10_08_19\\\\20-32-53R.avi', 'E:\\\\movies\\\\ar2breathing\\\\10_08_19\\\\20-33-12R.avi', 'E:\\\\movies\\\\ar2breathing\\\\10_08_19\\\\20-33-30R.avi', 'E:\\\\movies\\\\ar2breathing\\\\10_08_19\\\\20-33-48R.avi', 'E:\\\\movies\\\\ar2breathing\\\\10_08_19\\\\20-34-08R.avi', 'E:\\\\movies\\\\ar2breathing\\\\10_08_19\\\\20-34-27R.avi', 'E:\\\\movies\\\\ar2breathing\\\\10_08_19\\\\20-34-46R.avi', 'E:\\\\movies\\\\ar2breathing\\\\10_08_19\\\\20-35-33R.avi', 'E:\\\\movies\\\\ar2breathing\\\\10_08_19\\\\20-35-55R.avi', 'E:\\\\movies\\\\ar2breathing\\\\10_08_19\\\\20-36-15R.avi', 'E:\\\\movies\\\\ar2breathing\\\\10_08_19\\\\20-36-34R.avi', 'E:\\\\movies\\\\ar2breathing\\\\10_08_19\\\\20-36-53R.avi', 'E:\\\\movies\\\\ar2breathing\\\\10_08_19\\\\20-37-12R.avi', 'E:\\\\movies\\\\ar2breathing\\\\10_08_19\\\\20-37-30R.avi', 'E:\\\\movies\\\\ar2breathing\\\\10_08_19\\\\20-37-48R.avi', 'E:\\\\movies\\\\ar2breathing\\\\10_08_19\\\\20-38-06R.avi', 'E:\\\\movies\\\\ar2breathing\\\\10_08_19\\\\20-38-25R.avi', 'E:\\\\movies\\\\ar2breathing\\\\10_08_19\\\\20-38-48R.avi', 'E:\\\\movies\\\\ar2breathing\\\\10_08_19\\\\20-39-12R.avi', 'E:\\\\movies\\\\ar2breathing\\\\10_08_19\\\\20-39-32R.avi', 'E:\\\\movies\\\\ar2breathing\\\\10_08_19\\\\20-40-02R.avi', 'E:\\\\movies\\\\ar2breathing\\\\10_08_19\\\\20-40-20R.avi', 'E:\\\\movies\\\\ar2breathing\\\\10_08_19\\\\20-40-38R.avi', 'E:\\\\movies\\\\ar2breathing\\\\10_08_19\\\\20-40-55R.avi', 'E:\\\\movies\\\\ar2breathing\\\\10_08_19\\\\20-41-14R.avi', 'E:\\\\movies\\\\ar2breathing\\\\10_08_19\\\\20-41-31R.avi', 'E:\\\\movies\\\\ar2breathing\\\\10_08_19\\\\20-41-50R.avi', 'E:\\\\movies\\\\ar2breathing\\\\10_08_19\\\\20-42-08R.avi', 'E:\\\\movies\\\\ar2breathing\\\\10_08_19\\\\20-42-28R.avi', 'E:\\\\movies\\\\ar2breathing\\\\10_08_19\\\\20-42-46R.avi', 'E:\\\\movies\\\\ar2breathing\\\\10_08_19\\\\20-43-04R.avi', 'E:\\\\movies\\\\ar2breathing\\\\10_08_19\\\\20-43-22R.avi', 'E:\\\\movies\\\\ar2breathing\\\\10_08_19\\\\20-43-40R.avi', 'E:\\\\movies\\\\ar2breathing\\\\10_08_19\\\\20-44-16R.avi', 'E:\\\\movies\\\\ar2breathing\\\\10_08_19\\\\20-44-37R.avi', 'E:\\\\movies\\\\ar2breathing\\\\10_08_19\\\\20-52-49R.avi', 'E:\\\\movies\\\\ar2breathing\\\\10_08_19\\\\20-53-07R.avi', 'E:\\\\movies\\\\ar2breathing\\\\10_08_19\\\\20-53-28R.avi', 'E:\\\\movies\\\\ar2breathing\\\\10_08_19\\\\20-53-46R.avi', 'E:\\\\movies\\\\ar2breathing\\\\10_08_19\\\\20-54-05R.avi', 'E:\\\\movies\\\\ar2breathing\\\\10_08_19\\\\20-54-25R.avi', 'E:\\\\movies\\\\ar2breathing\\\\10_08_19\\\\20-54-43R.avi', 'E:\\\\movies\\\\ar2breathing\\\\10_08_19\\\\20-55-01R.avi', 'E:\\\\movies\\\\ar2breathing\\\\10_08_19\\\\20-55-26R.avi', 'E:\\\\movies\\\\ar2breathing\\\\10_08_19\\\\20-55-46R.avi', 'E:\\\\movies\\\\ar2breathing\\\\10_08_19\\\\20-56-13R.avi', 'E:\\\\movies\\\\ar2breathing\\\\10_08_19\\\\20-56-30R.avi', 'E:\\\\movies\\\\ar2breathing\\\\10_08_19\\\\20-56-49R.avi', 'E:\\\\movies\\\\ar2breathing\\\\10_08_19\\\\20-57-07R.avi', 'E:\\\\movies\\\\ar2breathing\\\\10_08_19\\\\20-57-27R.avi', 'E:\\\\movies\\\\ar2breathing\\\\10_08_19\\\\20-57-46R.avi', 'E:\\\\movies\\\\ar2breathing\\\\10_08_19\\\\20-58-04R.avi', 'E:\\\\movies\\\\ar2breathing\\\\10_08_19\\\\20-58-22R.avi', 'E:\\\\movies\\\\ar2breathing\\\\10_08_19\\\\20-58-43R.avi', 'E:\\\\movies\\\\ar2breathing\\\\10_08_19\\\\20-59-07R.avi', 'E:\\\\movies\\\\ar2breathing\\\\10_08_19\\\\20-59-25R.avi', 'E:\\\\movies\\\\ar2breathing\\\\10_08_19\\\\20-59-43R.avi', 'E:\\\\movies\\\\ar2breathing\\\\10_08_19\\\\21-00-02R.avi', 'E:\\\\movies\\\\ar2breathing\\\\10_08_19\\\\21-00-20R.avi', 'E:\\\\movies\\\\ar2breathing\\\\10_08_19\\\\21-00-41R.avi', 'E:\\\\movies\\\\ar2breathing\\\\10_08_19\\\\21-01-09R.avi', 'E:\\\\movies\\\\ar2breathing\\\\10_08_19\\\\21-01-32R.avi', 'E:\\\\movies\\\\ar2breathing\\\\10_08_19\\\\21-01-50R.avi', 'E:\\\\movies\\\\ar2breathing\\\\10_08_19\\\\21-02-09R.avi', 'E:\\\\movies\\\\ar2breathing\\\\10_08_19\\\\21-02-27R.avi', 'E:\\\\movies\\\\ar2breathing\\\\10_08_19\\\\21-02-48R.avi', 'E:\\\\movies\\\\ar2breathing\\\\10_08_19\\\\21-03-07R.avi', 'E:\\\\movies\\\\ar2breathing\\\\10_08_19\\\\21-03-27R.avi', 'E:\\\\movies\\\\ar2breathing\\\\10_08_19\\\\21-03-46R.avi', 'E:\\\\movies\\\\ar2breathing\\\\10_08_19\\\\21-04-05R.avi', 'E:\\\\movies\\\\ar2breathing\\\\10_08_19\\\\21-04-23R.avi', 'E:\\\\movies\\\\ar2breathing\\\\10_08_19\\\\21-04-41R.avi', 'E:\\\\movies\\\\ar2breathing\\\\10_08_19\\\\21-05-01R.avi']"
     ]
    },
    {
     "name": "stdout",
     "output_type": "stream",
     "text": [
      "\n",
      "Using snapshot-163000 for model E:\\movies\\ar2breathing\\10_08_19\\ar2breathing_10_08_19LR_R-Arash-2020-04-30\\dlc-models\\iteration-0\\ar2breathing_10_08_19LR_RApr30-trainset95shuffle1\n",
      "INFO:tensorflow:Restoring parameters from E:\\movies\\ar2breathing\\10_08_19\\ar2breathing_10_08_19LR_R-Arash-2020-04-30\\dlc-models\\iteration-0\\ar2breathing_10_08_19LR_RApr30-trainset95shuffle1\\train\\snapshot-163000\n"
     ]
    },
    {
     "name": "stderr",
     "output_type": "stream",
     "text": [
      "INFO:tensorflow:Restoring parameters from E:\\movies\\ar2breathing\\10_08_19\\ar2breathing_10_08_19LR_R-Arash-2020-04-30\\dlc-models\\iteration-0\\ar2breathing_10_08_19LR_RApr30-trainset95shuffle1\\train\\snapshot-163000\n"
     ]
    },
    {
     "name": "stdout",
     "output_type": "stream",
     "text": [
      "Starting to analyze %  E:\\movies\\ar2breathing\\10_08_19\\18-56-02R.avi\n",
      "Video already analyzed! E:\\movies\\ar2breathing\\10_08_19\\18-56-02RDeepCut_resnet50_ar2breathing_10_08_19LR_RApr30shuffle1_163000.h5\n",
      "Starting to analyze %  E:\\movies\\ar2breathing\\10_08_19\\18-58-41R.avi\n",
      "Video already analyzed! E:\\movies\\ar2breathing\\10_08_19\\18-58-41RDeepCut_resnet50_ar2breathing_10_08_19LR_RApr30shuffle1_163000.h5\n",
      "Starting to analyze %  E:\\movies\\ar2breathing\\10_08_19\\18-59-26R.avi\n",
      "Video already analyzed! E:\\movies\\ar2breathing\\10_08_19\\18-59-26RDeepCut_resnet50_ar2breathing_10_08_19LR_RApr30shuffle1_163000.h5\n",
      "Starting to analyze %  E:\\movies\\ar2breathing\\10_08_19\\18-59-47R.avi\n",
      "Video already analyzed! E:\\movies\\ar2breathing\\10_08_19\\18-59-47RDeepCut_resnet50_ar2breathing_10_08_19LR_RApr30shuffle1_163000.h5\n",
      "Starting to analyze %  E:\\movies\\ar2breathing\\10_08_19\\19-00-09R.avi\n",
      "Video already analyzed! E:\\movies\\ar2breathing\\10_08_19\\19-00-09RDeepCut_resnet50_ar2breathing_10_08_19LR_RApr30shuffle1_163000.h5\n",
      "Starting to analyze %  E:\\movies\\ar2breathing\\10_08_19\\19-00-37R.avi\n",
      "Video already analyzed! E:\\movies\\ar2breathing\\10_08_19\\19-00-37RDeepCut_resnet50_ar2breathing_10_08_19LR_RApr30shuffle1_163000.h5\n",
      "Starting to analyze %  E:\\movies\\ar2breathing\\10_08_19\\19-01-05R.avi\n",
      "Video already analyzed! E:\\movies\\ar2breathing\\10_08_19\\19-01-05RDeepCut_resnet50_ar2breathing_10_08_19LR_RApr30shuffle1_163000.h5\n",
      "Starting to analyze %  E:\\movies\\ar2breathing\\10_08_19\\19-02-16R.avi\n",
      "Video already analyzed! E:\\movies\\ar2breathing\\10_08_19\\19-02-16RDeepCut_resnet50_ar2breathing_10_08_19LR_RApr30shuffle1_163000.h5\n",
      "Starting to analyze %  E:\\movies\\ar2breathing\\10_08_19\\19-02-39R.avi\n",
      "Video already analyzed! E:\\movies\\ar2breathing\\10_08_19\\19-02-39RDeepCut_resnet50_ar2breathing_10_08_19LR_RApr30shuffle1_163000.h5\n",
      "Starting to analyze %  E:\\movies\\ar2breathing\\10_08_19\\19-03-04R.avi\n",
      "Video already analyzed! E:\\movies\\ar2breathing\\10_08_19\\19-03-04RDeepCut_resnet50_ar2breathing_10_08_19LR_RApr30shuffle1_163000.h5\n",
      "Starting to analyze %  E:\\movies\\ar2breathing\\10_08_19\\19-03-28R.avi\n",
      "Video already analyzed! E:\\movies\\ar2breathing\\10_08_19\\19-03-28RDeepCut_resnet50_ar2breathing_10_08_19LR_RApr30shuffle1_163000.h5\n",
      "Starting to analyze %  E:\\movies\\ar2breathing\\10_08_19\\19-03-50R.avi\n",
      "Video already analyzed! E:\\movies\\ar2breathing\\10_08_19\\19-03-50RDeepCut_resnet50_ar2breathing_10_08_19LR_RApr30shuffle1_163000.h5\n",
      "Starting to analyze %  E:\\movies\\ar2breathing\\10_08_19\\19-04-10R.avi\n",
      "Video already analyzed! E:\\movies\\ar2breathing\\10_08_19\\19-04-10RDeepCut_resnet50_ar2breathing_10_08_19LR_RApr30shuffle1_163000.h5\n",
      "Starting to analyze %  E:\\movies\\ar2breathing\\10_08_19\\19-04-56R.avi\n",
      "Video already analyzed! E:\\movies\\ar2breathing\\10_08_19\\19-04-56RDeepCut_resnet50_ar2breathing_10_08_19LR_RApr30shuffle1_163000.h5\n",
      "Starting to analyze %  E:\\movies\\ar2breathing\\10_08_19\\19-05-16R.avi\n",
      "Video already analyzed! E:\\movies\\ar2breathing\\10_08_19\\19-05-16RDeepCut_resnet50_ar2breathing_10_08_19LR_RApr30shuffle1_163000.h5\n",
      "Starting to analyze %  E:\\movies\\ar2breathing\\10_08_19\\19-05-38R.avi\n",
      "Video already analyzed! E:\\movies\\ar2breathing\\10_08_19\\19-05-38RDeepCut_resnet50_ar2breathing_10_08_19LR_RApr30shuffle1_163000.h5\n",
      "Starting to analyze %  E:\\movies\\ar2breathing\\10_08_19\\19-05-59R.avi\n",
      "Video already analyzed! E:\\movies\\ar2breathing\\10_08_19\\19-05-59RDeepCut_resnet50_ar2breathing_10_08_19LR_RApr30shuffle1_163000.h5\n",
      "Starting to analyze %  E:\\movies\\ar2breathing\\10_08_19\\19-06-19R.avi\n",
      "Video already analyzed! E:\\movies\\ar2breathing\\10_08_19\\19-06-19RDeepCut_resnet50_ar2breathing_10_08_19LR_RApr30shuffle1_163000.h5\n",
      "Starting to analyze %  E:\\movies\\ar2breathing\\10_08_19\\19-06-44R.avi\n",
      "Video already analyzed! E:\\movies\\ar2breathing\\10_08_19\\19-06-44RDeepCut_resnet50_ar2breathing_10_08_19LR_RApr30shuffle1_163000.h5\n",
      "Starting to analyze %  E:\\movies\\ar2breathing\\10_08_19\\19-07-06R.avi\n",
      "Video already analyzed! E:\\movies\\ar2breathing\\10_08_19\\19-07-06RDeepCut_resnet50_ar2breathing_10_08_19LR_RApr30shuffle1_163000.h5\n",
      "Starting to analyze %  E:\\movies\\ar2breathing\\10_08_19\\19-07-25R.avi\n",
      "Video already analyzed! E:\\movies\\ar2breathing\\10_08_19\\19-07-25RDeepCut_resnet50_ar2breathing_10_08_19LR_RApr30shuffle1_163000.h5\n",
      "Starting to analyze %  E:\\movies\\ar2breathing\\10_08_19\\19-07-47R.avi\n",
      "Video already analyzed! E:\\movies\\ar2breathing\\10_08_19\\19-07-47RDeepCut_resnet50_ar2breathing_10_08_19LR_RApr30shuffle1_163000.h5\n",
      "Starting to analyze %  E:\\movies\\ar2breathing\\10_08_19\\19-08-06R.avi\n",
      "Video already analyzed! E:\\movies\\ar2breathing\\10_08_19\\19-08-06RDeepCut_resnet50_ar2breathing_10_08_19LR_RApr30shuffle1_163000.h5\n",
      "Starting to analyze %  E:\\movies\\ar2breathing\\10_08_19\\19-08-31R.avi\n",
      "Video already analyzed! E:\\movies\\ar2breathing\\10_08_19\\19-08-31RDeepCut_resnet50_ar2breathing_10_08_19LR_RApr30shuffle1_163000.h5\n",
      "Starting to analyze %  E:\\movies\\ar2breathing\\10_08_19\\19-11-30R.avi\n",
      "Video already analyzed! E:\\movies\\ar2breathing\\10_08_19\\19-11-30RDeepCut_resnet50_ar2breathing_10_08_19LR_RApr30shuffle1_163000.h5\n",
      "Starting to analyze %  E:\\movies\\ar2breathing\\10_08_19\\19-11-51R.avi\n",
      "Video already analyzed! E:\\movies\\ar2breathing\\10_08_19\\19-11-51RDeepCut_resnet50_ar2breathing_10_08_19LR_RApr30shuffle1_163000.h5\n",
      "Starting to analyze %  E:\\movies\\ar2breathing\\10_08_19\\19-12-09R.avi\n",
      "Video already analyzed! E:\\movies\\ar2breathing\\10_08_19\\19-12-09RDeepCut_resnet50_ar2breathing_10_08_19LR_RApr30shuffle1_163000.h5\n",
      "Starting to analyze %  E:\\movies\\ar2breathing\\10_08_19\\19-12-31R.avi\n",
      "Video already analyzed! E:\\movies\\ar2breathing\\10_08_19\\19-12-31RDeepCut_resnet50_ar2breathing_10_08_19LR_RApr30shuffle1_163000.h5\n",
      "Starting to analyze %  E:\\movies\\ar2breathing\\10_08_19\\19-13-06R.avi\n",
      "Video already analyzed! E:\\movies\\ar2breathing\\10_08_19\\19-13-06RDeepCut_resnet50_ar2breathing_10_08_19LR_RApr30shuffle1_163000.h5\n",
      "Starting to analyze %  E:\\movies\\ar2breathing\\10_08_19\\19-13-24R.avi\n",
      "Video already analyzed! E:\\movies\\ar2breathing\\10_08_19\\19-13-24RDeepCut_resnet50_ar2breathing_10_08_19LR_RApr30shuffle1_163000.h5\n",
      "Starting to analyze %  E:\\movies\\ar2breathing\\10_08_19\\19-13-44R.avi\n",
      "Video already analyzed! E:\\movies\\ar2breathing\\10_08_19\\19-13-44RDeepCut_resnet50_ar2breathing_10_08_19LR_RApr30shuffle1_163000.h5\n",
      "Starting to analyze %  E:\\movies\\ar2breathing\\10_08_19\\19-14-03R.avi\n",
      "Video already analyzed! E:\\movies\\ar2breathing\\10_08_19\\19-14-03RDeepCut_resnet50_ar2breathing_10_08_19LR_RApr30shuffle1_163000.h5\n",
      "Starting to analyze %  E:\\movies\\ar2breathing\\10_08_19\\19-14-21R.avi\n",
      "Video already analyzed! E:\\movies\\ar2breathing\\10_08_19\\19-14-21RDeepCut_resnet50_ar2breathing_10_08_19LR_RApr30shuffle1_163000.h5\n",
      "Starting to analyze %  E:\\movies\\ar2breathing\\10_08_19\\19-14-39R.avi\n",
      "Video already analyzed! E:\\movies\\ar2breathing\\10_08_19\\19-14-39RDeepCut_resnet50_ar2breathing_10_08_19LR_RApr30shuffle1_163000.h5\n",
      "Starting to analyze %  E:\\movies\\ar2breathing\\10_08_19\\19-14-59R.avi\n",
      "Video already analyzed! E:\\movies\\ar2breathing\\10_08_19\\19-14-59RDeepCut_resnet50_ar2breathing_10_08_19LR_RApr30shuffle1_163000.h5\n",
      "Starting to analyze %  E:\\movies\\ar2breathing\\10_08_19\\19-15-21R.avi\n",
      "Video already analyzed! E:\\movies\\ar2breathing\\10_08_19\\19-15-21RDeepCut_resnet50_ar2breathing_10_08_19LR_RApr30shuffle1_163000.h5\n",
      "Starting to analyze %  E:\\movies\\ar2breathing\\10_08_19\\19-15-40R.avi\n",
      "Video already analyzed! E:\\movies\\ar2breathing\\10_08_19\\19-15-40RDeepCut_resnet50_ar2breathing_10_08_19LR_RApr30shuffle1_163000.h5\n",
      "Starting to analyze %  E:\\movies\\ar2breathing\\10_08_19\\19-16-02R.avi\n",
      "Video already analyzed! E:\\movies\\ar2breathing\\10_08_19\\19-16-02RDeepCut_resnet50_ar2breathing_10_08_19LR_RApr30shuffle1_163000.h5\n",
      "Starting to analyze %  E:\\movies\\ar2breathing\\10_08_19\\19-16-21R.avi\n",
      "Video already analyzed! E:\\movies\\ar2breathing\\10_08_19\\19-16-21RDeepCut_resnet50_ar2breathing_10_08_19LR_RApr30shuffle1_163000.h5\n",
      "Starting to analyze %  E:\\movies\\ar2breathing\\10_08_19\\19-16-39R.avi\n",
      "Video already analyzed! E:\\movies\\ar2breathing\\10_08_19\\19-16-39RDeepCut_resnet50_ar2breathing_10_08_19LR_RApr30shuffle1_163000.h5\n",
      "Starting to analyze %  E:\\movies\\ar2breathing\\10_08_19\\19-17-02R.avi\n",
      "Video already analyzed! E:\\movies\\ar2breathing\\10_08_19\\19-17-02RDeepCut_resnet50_ar2breathing_10_08_19LR_RApr30shuffle1_163000.h5\n",
      "Starting to analyze %  E:\\movies\\ar2breathing\\10_08_19\\19-17-21R.avi\n",
      "Video already analyzed! E:\\movies\\ar2breathing\\10_08_19\\19-17-21RDeepCut_resnet50_ar2breathing_10_08_19LR_RApr30shuffle1_163000.h5\n",
      "Starting to analyze %  E:\\movies\\ar2breathing\\10_08_19\\19-17-39R.avi\n",
      "Video already analyzed! E:\\movies\\ar2breathing\\10_08_19\\19-17-39RDeepCut_resnet50_ar2breathing_10_08_19LR_RApr30shuffle1_163000.h5\n",
      "Starting to analyze %  E:\\movies\\ar2breathing\\10_08_19\\19-17-57R.avi\n",
      "Video already analyzed! E:\\movies\\ar2breathing\\10_08_19\\19-17-57RDeepCut_resnet50_ar2breathing_10_08_19LR_RApr30shuffle1_163000.h5\n",
      "Starting to analyze %  E:\\movies\\ar2breathing\\10_08_19\\19-18-17R.avi\n",
      "Video already analyzed! E:\\movies\\ar2breathing\\10_08_19\\19-18-17RDeepCut_resnet50_ar2breathing_10_08_19LR_RApr30shuffle1_163000.h5\n",
      "Starting to analyze %  E:\\movies\\ar2breathing\\10_08_19\\19-19-32R.avi\n",
      "Video already analyzed! E:\\movies\\ar2breathing\\10_08_19\\19-19-32RDeepCut_resnet50_ar2breathing_10_08_19LR_RApr30shuffle1_163000.h5\n",
      "Starting to analyze %  E:\\movies\\ar2breathing\\10_08_19\\19-19-50R.avi\n",
      "Video already analyzed! E:\\movies\\ar2breathing\\10_08_19\\19-19-50RDeepCut_resnet50_ar2breathing_10_08_19LR_RApr30shuffle1_163000.h5\n",
      "Starting to analyze %  E:\\movies\\ar2breathing\\10_08_19\\19-20-10R.avi\n",
      "Video already analyzed! E:\\movies\\ar2breathing\\10_08_19\\19-20-10RDeepCut_resnet50_ar2breathing_10_08_19LR_RApr30shuffle1_163000.h5\n",
      "Starting to analyze %  E:\\movies\\ar2breathing\\10_08_19\\19-20-27R.avi\n",
      "Video already analyzed! E:\\movies\\ar2breathing\\10_08_19\\19-20-27RDeepCut_resnet50_ar2breathing_10_08_19LR_RApr30shuffle1_163000.h5\n",
      "Starting to analyze %  E:\\movies\\ar2breathing\\10_08_19\\19-20-45R.avi\n",
      "Video already analyzed! E:\\movies\\ar2breathing\\10_08_19\\19-20-45RDeepCut_resnet50_ar2breathing_10_08_19LR_RApr30shuffle1_163000.h5\n",
      "Starting to analyze %  E:\\movies\\ar2breathing\\10_08_19\\19-21-16R.avi\n",
      "Video already analyzed! E:\\movies\\ar2breathing\\10_08_19\\19-21-16RDeepCut_resnet50_ar2breathing_10_08_19LR_RApr30shuffle1_163000.h5\n",
      "Starting to analyze %  E:\\movies\\ar2breathing\\10_08_19\\19-21-35R.avi\n",
      "Video already analyzed! E:\\movies\\ar2breathing\\10_08_19\\19-21-35RDeepCut_resnet50_ar2breathing_10_08_19LR_RApr30shuffle1_163000.h5\n",
      "Starting to analyze %  E:\\movies\\ar2breathing\\10_08_19\\19-21-54R.avi\n",
      "Video already analyzed! E:\\movies\\ar2breathing\\10_08_19\\19-21-54RDeepCut_resnet50_ar2breathing_10_08_19LR_RApr30shuffle1_163000.h5\n",
      "Starting to analyze %  E:\\movies\\ar2breathing\\10_08_19\\19-22-21R.avi\n",
      "Video already analyzed! E:\\movies\\ar2breathing\\10_08_19\\19-22-21RDeepCut_resnet50_ar2breathing_10_08_19LR_RApr30shuffle1_163000.h5\n",
      "Starting to analyze %  E:\\movies\\ar2breathing\\10_08_19\\19-22-40R.avi\n",
      "Video already analyzed! E:\\movies\\ar2breathing\\10_08_19\\19-22-40RDeepCut_resnet50_ar2breathing_10_08_19LR_RApr30shuffle1_163000.h5\n",
      "Starting to analyze %  E:\\movies\\ar2breathing\\10_08_19\\19-22-58R.avi\n",
      "Video already analyzed! E:\\movies\\ar2breathing\\10_08_19\\19-22-58RDeepCut_resnet50_ar2breathing_10_08_19LR_RApr30shuffle1_163000.h5\n",
      "Starting to analyze %  E:\\movies\\ar2breathing\\10_08_19\\19-23-16R.avi\n",
      "Video already analyzed! E:\\movies\\ar2breathing\\10_08_19\\19-23-16RDeepCut_resnet50_ar2breathing_10_08_19LR_RApr30shuffle1_163000.h5\n",
      "Starting to analyze %  E:\\movies\\ar2breathing\\10_08_19\\19-23-36R.avi\n",
      "Video already analyzed! E:\\movies\\ar2breathing\\10_08_19\\19-23-36RDeepCut_resnet50_ar2breathing_10_08_19LR_RApr30shuffle1_163000.h5\n",
      "Starting to analyze %  E:\\movies\\ar2breathing\\10_08_19\\19-23-55R.avi\n",
      "Video already analyzed! E:\\movies\\ar2breathing\\10_08_19\\19-23-55RDeepCut_resnet50_ar2breathing_10_08_19LR_RApr30shuffle1_163000.h5\n",
      "Starting to analyze %  E:\\movies\\ar2breathing\\10_08_19\\19-24-14R.avi\n",
      "Video already analyzed! E:\\movies\\ar2breathing\\10_08_19\\19-24-14RDeepCut_resnet50_ar2breathing_10_08_19LR_RApr30shuffle1_163000.h5\n",
      "Starting to analyze %  E:\\movies\\ar2breathing\\10_08_19\\19-24-41R.avi\n",
      "Video already analyzed! E:\\movies\\ar2breathing\\10_08_19\\19-24-41RDeepCut_resnet50_ar2breathing_10_08_19LR_RApr30shuffle1_163000.h5\n",
      "Starting to analyze %  E:\\movies\\ar2breathing\\10_08_19\\19-25-03R.avi\n",
      "Video already analyzed! E:\\movies\\ar2breathing\\10_08_19\\19-25-03RDeepCut_resnet50_ar2breathing_10_08_19LR_RApr30shuffle1_163000.h5\n",
      "Starting to analyze %  E:\\movies\\ar2breathing\\10_08_19\\19-25-21R.avi\n",
      "Video already analyzed! E:\\movies\\ar2breathing\\10_08_19\\19-25-21RDeepCut_resnet50_ar2breathing_10_08_19LR_RApr30shuffle1_163000.h5\n",
      "Starting to analyze %  E:\\movies\\ar2breathing\\10_08_19\\19-25-40R.avi\n",
      "Video already analyzed! E:\\movies\\ar2breathing\\10_08_19\\19-25-40RDeepCut_resnet50_ar2breathing_10_08_19LR_RApr30shuffle1_163000.h5\n",
      "Starting to analyze %  E:\\movies\\ar2breathing\\10_08_19\\19-26-02R.avi\n",
      "Video already analyzed! E:\\movies\\ar2breathing\\10_08_19\\19-26-02RDeepCut_resnet50_ar2breathing_10_08_19LR_RApr30shuffle1_163000.h5\n",
      "Starting to analyze %  E:\\movies\\ar2breathing\\10_08_19\\19-26-20R.avi\n",
      "Video already analyzed! E:\\movies\\ar2breathing\\10_08_19\\19-26-20RDeepCut_resnet50_ar2breathing_10_08_19LR_RApr30shuffle1_163000.h5\n",
      "Starting to analyze %  E:\\movies\\ar2breathing\\10_08_19\\19-26-38R.avi\n",
      "Video already analyzed! E:\\movies\\ar2breathing\\10_08_19\\19-26-38RDeepCut_resnet50_ar2breathing_10_08_19LR_RApr30shuffle1_163000.h5\n",
      "Starting to analyze %  E:\\movies\\ar2breathing\\10_08_19\\19-26-58R.avi\n",
      "Video already analyzed! E:\\movies\\ar2breathing\\10_08_19\\19-26-58RDeepCut_resnet50_ar2breathing_10_08_19LR_RApr30shuffle1_163000.h5\n",
      "Starting to analyze %  E:\\movies\\ar2breathing\\10_08_19\\19-27-16R.avi\n",
      "Video already analyzed! E:\\movies\\ar2breathing\\10_08_19\\19-27-16RDeepCut_resnet50_ar2breathing_10_08_19LR_RApr30shuffle1_163000.h5\n",
      "Starting to analyze %  E:\\movies\\ar2breathing\\10_08_19\\19-27-35R.avi\n",
      "Video already analyzed! E:\\movies\\ar2breathing\\10_08_19\\19-27-35RDeepCut_resnet50_ar2breathing_10_08_19LR_RApr30shuffle1_163000.h5\n",
      "Starting to analyze %  E:\\movies\\ar2breathing\\10_08_19\\19-27-56R.avi\n",
      "Video already analyzed! E:\\movies\\ar2breathing\\10_08_19\\19-27-56RDeepCut_resnet50_ar2breathing_10_08_19LR_RApr30shuffle1_163000.h5\n",
      "Starting to analyze %  E:\\movies\\ar2breathing\\10_08_19\\19-28-16R.avi\n",
      "Video already analyzed! E:\\movies\\ar2breathing\\10_08_19\\19-28-16RDeepCut_resnet50_ar2breathing_10_08_19LR_RApr30shuffle1_163000.h5\n",
      "Starting to analyze %  E:\\movies\\ar2breathing\\10_08_19\\19-28-33R.avi\n",
      "Video already analyzed! E:\\movies\\ar2breathing\\10_08_19\\19-28-33RDeepCut_resnet50_ar2breathing_10_08_19LR_RApr30shuffle1_163000.h5\n",
      "Starting to analyze %  E:\\movies\\ar2breathing\\10_08_19\\19-28-51R.avi\n",
      "Video already analyzed! E:\\movies\\ar2breathing\\10_08_19\\19-28-51RDeepCut_resnet50_ar2breathing_10_08_19LR_RApr30shuffle1_163000.h5\n",
      "Starting to analyze %  E:\\movies\\ar2breathing\\10_08_19\\19-29-10R.avi\n",
      "Video already analyzed! E:\\movies\\ar2breathing\\10_08_19\\19-29-10RDeepCut_resnet50_ar2breathing_10_08_19LR_RApr30shuffle1_163000.h5\n",
      "Starting to analyze %  E:\\movies\\ar2breathing\\10_08_19\\19-29-29R.avi\n",
      "Video already analyzed! E:\\movies\\ar2breathing\\10_08_19\\19-29-29RDeepCut_resnet50_ar2breathing_10_08_19LR_RApr30shuffle1_163000.h5\n",
      "Starting to analyze %  E:\\movies\\ar2breathing\\10_08_19\\19-30-03R.avi\n",
      "Video already analyzed! E:\\movies\\ar2breathing\\10_08_19\\19-30-03RDeepCut_resnet50_ar2breathing_10_08_19LR_RApr30shuffle1_163000.h5\n",
      "Starting to analyze %  E:\\movies\\ar2breathing\\10_08_19\\19-30-31R.avi\n",
      "Video already analyzed! E:\\movies\\ar2breathing\\10_08_19\\19-30-31RDeepCut_resnet50_ar2breathing_10_08_19LR_RApr30shuffle1_163000.h5\n",
      "Starting to analyze %  E:\\movies\\ar2breathing\\10_08_19\\19-30-58R.avi\n",
      "Video already analyzed! E:\\movies\\ar2breathing\\10_08_19\\19-30-58RDeepCut_resnet50_ar2breathing_10_08_19LR_RApr30shuffle1_163000.h5\n",
      "Starting to analyze %  E:\\movies\\ar2breathing\\10_08_19\\19-31-20R.avi\n",
      "Video already analyzed! E:\\movies\\ar2breathing\\10_08_19\\19-31-20RDeepCut_resnet50_ar2breathing_10_08_19LR_RApr30shuffle1_163000.h5\n",
      "Starting to analyze %  E:\\movies\\ar2breathing\\10_08_19\\19-31-39R.avi\n",
      "Video already analyzed! E:\\movies\\ar2breathing\\10_08_19\\19-31-39RDeepCut_resnet50_ar2breathing_10_08_19LR_RApr30shuffle1_163000.h5\n"
     ]
    },
    {
     "name": "stdout",
     "output_type": "stream",
     "text": [
      "Starting to analyze %  E:\\movies\\ar2breathing\\10_08_19\\19-31-56R.avi\n",
      "Video already analyzed! E:\\movies\\ar2breathing\\10_08_19\\19-31-56RDeepCut_resnet50_ar2breathing_10_08_19LR_RApr30shuffle1_163000.h5\n",
      "Starting to analyze %  E:\\movies\\ar2breathing\\10_08_19\\19-32-15R.avi\n",
      "Video already analyzed! E:\\movies\\ar2breathing\\10_08_19\\19-32-15RDeepCut_resnet50_ar2breathing_10_08_19LR_RApr30shuffle1_163000.h5\n",
      "Starting to analyze %  E:\\movies\\ar2breathing\\10_08_19\\19-32-34R.avi\n",
      "Video already analyzed! E:\\movies\\ar2breathing\\10_08_19\\19-32-34RDeepCut_resnet50_ar2breathing_10_08_19LR_RApr30shuffle1_163000.h5\n",
      "Starting to analyze %  E:\\movies\\ar2breathing\\10_08_19\\19-32-52R.avi\n",
      "Video already analyzed! E:\\movies\\ar2breathing\\10_08_19\\19-32-52RDeepCut_resnet50_ar2breathing_10_08_19LR_RApr30shuffle1_163000.h5\n",
      "Starting to analyze %  E:\\movies\\ar2breathing\\10_08_19\\19-33-15R.avi\n",
      "Video already analyzed! E:\\movies\\ar2breathing\\10_08_19\\19-33-15RDeepCut_resnet50_ar2breathing_10_08_19LR_RApr30shuffle1_163000.h5\n",
      "Starting to analyze %  E:\\movies\\ar2breathing\\10_08_19\\19-33-33R.avi\n",
      "Video already analyzed! E:\\movies\\ar2breathing\\10_08_19\\19-33-33RDeepCut_resnet50_ar2breathing_10_08_19LR_RApr30shuffle1_163000.h5\n",
      "Starting to analyze %  E:\\movies\\ar2breathing\\10_08_19\\19-33-52R.avi\n",
      "Video already analyzed! E:\\movies\\ar2breathing\\10_08_19\\19-33-52RDeepCut_resnet50_ar2breathing_10_08_19LR_RApr30shuffle1_163000.h5\n",
      "Starting to analyze %  E:\\movies\\ar2breathing\\10_08_19\\19-34-09R.avi\n",
      "Video already analyzed! E:\\movies\\ar2breathing\\10_08_19\\19-34-09RDeepCut_resnet50_ar2breathing_10_08_19LR_RApr30shuffle1_163000.h5\n",
      "Starting to analyze %  E:\\movies\\ar2breathing\\10_08_19\\19-34-28R.avi\n",
      "Video already analyzed! E:\\movies\\ar2breathing\\10_08_19\\19-34-28RDeepCut_resnet50_ar2breathing_10_08_19LR_RApr30shuffle1_163000.h5\n",
      "Starting to analyze %  E:\\movies\\ar2breathing\\10_08_19\\19-34-46R.avi\n",
      "Video already analyzed! E:\\movies\\ar2breathing\\10_08_19\\19-34-46RDeepCut_resnet50_ar2breathing_10_08_19LR_RApr30shuffle1_163000.h5\n",
      "Starting to analyze %  E:\\movies\\ar2breathing\\10_08_19\\19-35-05R.avi\n",
      "Video already analyzed! E:\\movies\\ar2breathing\\10_08_19\\19-35-05RDeepCut_resnet50_ar2breathing_10_08_19LR_RApr30shuffle1_163000.h5\n",
      "Starting to analyze %  E:\\movies\\ar2breathing\\10_08_19\\19-35-26R.avi\n",
      "Video already analyzed! E:\\movies\\ar2breathing\\10_08_19\\19-35-26RDeepCut_resnet50_ar2breathing_10_08_19LR_RApr30shuffle1_163000.h5\n",
      "Starting to analyze %  E:\\movies\\ar2breathing\\10_08_19\\19-35-44R.avi\n",
      "Video already analyzed! E:\\movies\\ar2breathing\\10_08_19\\19-35-44RDeepCut_resnet50_ar2breathing_10_08_19LR_RApr30shuffle1_163000.h5\n",
      "Starting to analyze %  E:\\movies\\ar2breathing\\10_08_19\\19-36-02R.avi\n",
      "Video already analyzed! E:\\movies\\ar2breathing\\10_08_19\\19-36-02RDeepCut_resnet50_ar2breathing_10_08_19LR_RApr30shuffle1_163000.h5\n",
      "Starting to analyze %  E:\\movies\\ar2breathing\\10_08_19\\19-36-20R.avi\n",
      "Video already analyzed! E:\\movies\\ar2breathing\\10_08_19\\19-36-20RDeepCut_resnet50_ar2breathing_10_08_19LR_RApr30shuffle1_163000.h5\n",
      "Starting to analyze %  E:\\movies\\ar2breathing\\10_08_19\\19-36-40R.avi\n",
      "Video already analyzed! E:\\movies\\ar2breathing\\10_08_19\\19-36-40RDeepCut_resnet50_ar2breathing_10_08_19LR_RApr30shuffle1_163000.h5\n",
      "Starting to analyze %  E:\\movies\\ar2breathing\\10_08_19\\19-36-58R.avi\n",
      "Video already analyzed! E:\\movies\\ar2breathing\\10_08_19\\19-36-58RDeepCut_resnet50_ar2breathing_10_08_19LR_RApr30shuffle1_163000.h5\n",
      "Starting to analyze %  E:\\movies\\ar2breathing\\10_08_19\\19-37-16R.avi\n",
      "Video already analyzed! E:\\movies\\ar2breathing\\10_08_19\\19-37-16RDeepCut_resnet50_ar2breathing_10_08_19LR_RApr30shuffle1_163000.h5\n",
      "Starting to analyze %  E:\\movies\\ar2breathing\\10_08_19\\19-37-35R.avi\n",
      "Video already analyzed! E:\\movies\\ar2breathing\\10_08_19\\19-37-35RDeepCut_resnet50_ar2breathing_10_08_19LR_RApr30shuffle1_163000.h5\n",
      "Starting to analyze %  E:\\movies\\ar2breathing\\10_08_19\\19-37-53R.avi\n",
      "Video already analyzed! E:\\movies\\ar2breathing\\10_08_19\\19-37-53RDeepCut_resnet50_ar2breathing_10_08_19LR_RApr30shuffle1_163000.h5\n",
      "Starting to analyze %  E:\\movies\\ar2breathing\\10_08_19\\19-38-11R.avi\n",
      "Video already analyzed! E:\\movies\\ar2breathing\\10_08_19\\19-38-11RDeepCut_resnet50_ar2breathing_10_08_19LR_RApr30shuffle1_163000.h5\n",
      "Starting to analyze %  E:\\movies\\ar2breathing\\10_08_19\\19-38-30R.avi\n",
      "Video already analyzed! E:\\movies\\ar2breathing\\10_08_19\\19-38-30RDeepCut_resnet50_ar2breathing_10_08_19LR_RApr30shuffle1_163000.h5\n",
      "Starting to analyze %  E:\\movies\\ar2breathing\\10_08_19\\19-38-49R.avi\n",
      "Video already analyzed! E:\\movies\\ar2breathing\\10_08_19\\19-38-49RDeepCut_resnet50_ar2breathing_10_08_19LR_RApr30shuffle1_163000.h5\n",
      "Starting to analyze %  E:\\movies\\ar2breathing\\10_08_19\\19-39-11R.avi\n",
      "Video already analyzed! E:\\movies\\ar2breathing\\10_08_19\\19-39-11RDeepCut_resnet50_ar2breathing_10_08_19LR_RApr30shuffle1_163000.h5\n",
      "Starting to analyze %  E:\\movies\\ar2breathing\\10_08_19\\19-39-29R.avi\n",
      "Video already analyzed! E:\\movies\\ar2breathing\\10_08_19\\19-39-29RDeepCut_resnet50_ar2breathing_10_08_19LR_RApr30shuffle1_163000.h5\n",
      "Starting to analyze %  E:\\movies\\ar2breathing\\10_08_19\\19-39-47R.avi\n",
      "Video already analyzed! E:\\movies\\ar2breathing\\10_08_19\\19-39-47RDeepCut_resnet50_ar2breathing_10_08_19LR_RApr30shuffle1_163000.h5\n",
      "Starting to analyze %  E:\\movies\\ar2breathing\\10_08_19\\19-40-07R.avi\n",
      "Video already analyzed! E:\\movies\\ar2breathing\\10_08_19\\19-40-07RDeepCut_resnet50_ar2breathing_10_08_19LR_RApr30shuffle1_163000.h5\n",
      "Starting to analyze %  E:\\movies\\ar2breathing\\10_08_19\\19-40-26R.avi\n",
      "Video already analyzed! E:\\movies\\ar2breathing\\10_08_19\\19-40-26RDeepCut_resnet50_ar2breathing_10_08_19LR_RApr30shuffle1_163000.h5\n",
      "Starting to analyze %  E:\\movies\\ar2breathing\\10_08_19\\19-40-44R.avi\n",
      "Video already analyzed! E:\\movies\\ar2breathing\\10_08_19\\19-40-44RDeepCut_resnet50_ar2breathing_10_08_19LR_RApr30shuffle1_163000.h5\n",
      "Starting to analyze %  E:\\movies\\ar2breathing\\10_08_19\\19-41-01R.avi\n",
      "Video already analyzed! E:\\movies\\ar2breathing\\10_08_19\\19-41-01RDeepCut_resnet50_ar2breathing_10_08_19LR_RApr30shuffle1_163000.h5\n",
      "Starting to analyze %  E:\\movies\\ar2breathing\\10_08_19\\19-41-20R.avi\n",
      "Video already analyzed! E:\\movies\\ar2breathing\\10_08_19\\19-41-20RDeepCut_resnet50_ar2breathing_10_08_19LR_RApr30shuffle1_163000.h5\n",
      "Starting to analyze %  E:\\movies\\ar2breathing\\10_08_19\\19-41-38R.avi\n",
      "Video already analyzed! E:\\movies\\ar2breathing\\10_08_19\\19-41-38RDeepCut_resnet50_ar2breathing_10_08_19LR_RApr30shuffle1_163000.h5\n",
      "Starting to analyze %  E:\\movies\\ar2breathing\\10_08_19\\19-41-57R.avi\n",
      "Video already analyzed! E:\\movies\\ar2breathing\\10_08_19\\19-41-57RDeepCut_resnet50_ar2breathing_10_08_19LR_RApr30shuffle1_163000.h5\n",
      "Starting to analyze %  E:\\movies\\ar2breathing\\10_08_19\\19-42-15R.avi\n",
      "Video already analyzed! E:\\movies\\ar2breathing\\10_08_19\\19-42-15RDeepCut_resnet50_ar2breathing_10_08_19LR_RApr30shuffle1_163000.h5\n",
      "Starting to analyze %  E:\\movies\\ar2breathing\\10_08_19\\19-42-33R.avi\n",
      "Loading  E:\\movies\\ar2breathing\\10_08_19\\19-42-33R.avi\n",
      "Duration of video [s]:  4.82 , recorded with  200.0 fps!\n",
      "Overall # of frames:  963  found with (before cropping) frame dimensions:  202 181\n",
      "Starting to extract posture\n"
     ]
    },
    {
     "name": "stderr",
     "output_type": "stream",
     "text": [
      "970it [00:11, 106.88it/s]                                                                                              "
     ]
    },
    {
     "name": "stdout",
     "output_type": "stream",
     "text": [
      "Detected frames:  963\n"
     ]
    },
    {
     "name": "stderr",
     "output_type": "stream",
     "text": [
      "\n"
     ]
    },
    {
     "name": "stdout",
     "output_type": "stream",
     "text": [
      "Saving results in E:\\movies\\ar2breathing\\10_08_19...\n",
      "Saving csv poses!\n",
      "Starting to analyze %  E:\\movies\\ar2breathing\\10_08_19\\19-42-51R.avi\n",
      "Loading  E:\\movies\\ar2breathing\\10_08_19\\19-42-51R.avi\n",
      "Duration of video [s]:  4.62 , recorded with  200.0 fps!\n",
      "Overall # of frames:  925  found with (before cropping) frame dimensions:  202 181\n",
      "Starting to extract posture\n"
     ]
    },
    {
     "name": "stderr",
     "output_type": "stream",
     "text": [
      "930it [00:08, 107.24it/s]                                                                                              "
     ]
    },
    {
     "name": "stdout",
     "output_type": "stream",
     "text": [
      "Detected frames:  925\n"
     ]
    },
    {
     "name": "stderr",
     "output_type": "stream",
     "text": [
      "\n"
     ]
    },
    {
     "name": "stdout",
     "output_type": "stream",
     "text": [
      "Saving results in E:\\movies\\ar2breathing\\10_08_19...\n",
      "Saving csv poses!\n",
      "Starting to analyze %  E:\\movies\\ar2breathing\\10_08_19\\19-43-13R.avi\n",
      "Loading  E:\\movies\\ar2breathing\\10_08_19\\19-43-13R.avi\n",
      "Duration of video [s]:  5.0 , recorded with  200.0 fps!\n",
      "Overall # of frames:  1000  found with (before cropping) frame dimensions:  202 181\n",
      "Starting to extract posture\n"
     ]
    },
    {
     "name": "stderr",
     "output_type": "stream",
     "text": [
      "1010it [00:09, 109.14it/s]                                                                                             "
     ]
    },
    {
     "name": "stdout",
     "output_type": "stream",
     "text": [
      "Detected frames:  1000\n"
     ]
    },
    {
     "name": "stderr",
     "output_type": "stream",
     "text": [
      "\n"
     ]
    },
    {
     "name": "stdout",
     "output_type": "stream",
     "text": [
      "Saving results in E:\\movies\\ar2breathing\\10_08_19...\n",
      "Saving csv poses!\n",
      "Starting to analyze %  E:\\movies\\ar2breathing\\10_08_19\\19-43-34R.avi\n",
      "Loading  E:\\movies\\ar2breathing\\10_08_19\\19-43-34R.avi\n",
      "Duration of video [s]:  3.71 , recorded with  200.0 fps!\n",
      "Overall # of frames:  743  found with (before cropping) frame dimensions:  202 181\n",
      "Starting to extract posture\n"
     ]
    },
    {
     "name": "stderr",
     "output_type": "stream",
     "text": [
      "750it [00:06, 108.27it/s]                                                                                              "
     ]
    },
    {
     "name": "stdout",
     "output_type": "stream",
     "text": [
      "Detected frames:  743\n"
     ]
    },
    {
     "name": "stderr",
     "output_type": "stream",
     "text": [
      "\n"
     ]
    },
    {
     "name": "stdout",
     "output_type": "stream",
     "text": [
      "Saving results in E:\\movies\\ar2breathing\\10_08_19...\n",
      "Saving csv poses!\n",
      "Starting to analyze %  E:\\movies\\ar2breathing\\10_08_19\\19-43-52R.avi\n",
      "Loading  E:\\movies\\ar2breathing\\10_08_19\\19-43-52R.avi\n",
      "Duration of video [s]:  5.0 , recorded with  200.0 fps!\n",
      "Overall # of frames:  1000  found with (before cropping) frame dimensions:  202 181\n",
      "Starting to extract posture\n"
     ]
    },
    {
     "name": "stderr",
     "output_type": "stream",
     "text": [
      "1010it [00:09, 104.51it/s]                                                                                             "
     ]
    },
    {
     "name": "stdout",
     "output_type": "stream",
     "text": [
      "Detected frames:  1000\n"
     ]
    },
    {
     "name": "stderr",
     "output_type": "stream",
     "text": [
      "\n"
     ]
    },
    {
     "name": "stdout",
     "output_type": "stream",
     "text": [
      "Saving results in E:\\movies\\ar2breathing\\10_08_19...\n",
      "Saving csv poses!\n",
      "Starting to analyze %  E:\\movies\\ar2breathing\\10_08_19\\19-44-23R.avi\n",
      "Loading  E:\\movies\\ar2breathing\\10_08_19\\19-44-23R.avi\n",
      "Duration of video [s]:  4.47 , recorded with  200.0 fps!\n",
      "Overall # of frames:  895  found with (before cropping) frame dimensions:  202 181\n",
      "Starting to extract posture\n"
     ]
    },
    {
     "name": "stderr",
     "output_type": "stream",
     "text": [
      " 99%|██████████████████████████████████████████████████████████████████████████████▌| 890/895 [00:08<00:00, 102.82it/s]"
     ]
    },
    {
     "name": "stdout",
     "output_type": "stream",
     "text": [
      "Detected frames:  895\n"
     ]
    },
    {
     "name": "stderr",
     "output_type": "stream",
     "text": [
      "900it [00:08, 102.92it/s]                                                                                              \n"
     ]
    },
    {
     "name": "stdout",
     "output_type": "stream",
     "text": [
      "Saving results in E:\\movies\\ar2breathing\\10_08_19...\n",
      "Saving csv poses!\n",
      "Starting to analyze %  E:\\movies\\ar2breathing\\10_08_19\\19-44-42R.avi\n",
      "Loading  E:\\movies\\ar2breathing\\10_08_19\\19-44-42R.avi\n",
      "Duration of video [s]:  4.71 , recorded with  200.0 fps!\n",
      "Overall # of frames:  942  found with (before cropping) frame dimensions:  202 181\n",
      "Starting to extract posture\n"
     ]
    },
    {
     "name": "stderr",
     "output_type": "stream",
     "text": [
      "950it [00:10, 87.72it/s]                                                                                               "
     ]
    },
    {
     "name": "stdout",
     "output_type": "stream",
     "text": [
      "Detected frames:  942\n"
     ]
    },
    {
     "name": "stderr",
     "output_type": "stream",
     "text": [
      "\n"
     ]
    },
    {
     "name": "stdout",
     "output_type": "stream",
     "text": [
      "Saving results in E:\\movies\\ar2breathing\\10_08_19...\n",
      "Saving csv poses!\n",
      "Starting to analyze %  E:\\movies\\ar2breathing\\10_08_19\\19-45-01R.avi\n",
      "Loading  E:\\movies\\ar2breathing\\10_08_19\\19-45-01R.avi\n",
      "Duration of video [s]:  4.33 , recorded with  200.0 fps!\n",
      "Overall # of frames:  865  found with (before cropping) frame dimensions:  202 181\n",
      "Starting to extract posture\n"
     ]
    },
    {
     "name": "stderr",
     "output_type": "stream",
     "text": [
      "870it [00:14, 56.69it/s]                                                                                               "
     ]
    },
    {
     "name": "stdout",
     "output_type": "stream",
     "text": [
      "Detected frames:  865\n"
     ]
    },
    {
     "name": "stderr",
     "output_type": "stream",
     "text": [
      "\n"
     ]
    },
    {
     "name": "stdout",
     "output_type": "stream",
     "text": [
      "Saving results in E:\\movies\\ar2breathing\\10_08_19...\n",
      "Saving csv poses!\n",
      "Starting to analyze %  E:\\movies\\ar2breathing\\10_08_19\\19-45-23R.avi\n",
      "Loading  E:\\movies\\ar2breathing\\10_08_19\\19-45-23R.avi\n",
      "Duration of video [s]:  5.0 , recorded with  200.0 fps!\n",
      "Overall # of frames:  1000  found with (before cropping) frame dimensions:  202 181\n",
      "Starting to extract posture\n"
     ]
    },
    {
     "name": "stderr",
     "output_type": "stream",
     "text": [
      "1010it [00:18, 50.54it/s]                                                                                              "
     ]
    },
    {
     "name": "stdout",
     "output_type": "stream",
     "text": [
      "Detected frames:  1000\n"
     ]
    },
    {
     "name": "stderr",
     "output_type": "stream",
     "text": [
      "\n"
     ]
    },
    {
     "name": "stdout",
     "output_type": "stream",
     "text": [
      "Saving results in E:\\movies\\ar2breathing\\10_08_19...\n",
      "Saving csv poses!\n",
      "Starting to analyze %  E:\\movies\\ar2breathing\\10_08_19\\19-46-44R.avi\n",
      "Loading  E:\\movies\\ar2breathing\\10_08_19\\19-46-44R.avi\n",
      "Duration of video [s]:  5.0 , recorded with  200.0 fps!\n",
      "Overall # of frames:  1000  found with (before cropping) frame dimensions:  202 181\n",
      "Starting to extract posture\n"
     ]
    },
    {
     "name": "stderr",
     "output_type": "stream",
     "text": [
      "1010it [00:17, 55.43it/s]                                                                                              "
     ]
    },
    {
     "name": "stdout",
     "output_type": "stream",
     "text": [
      "Detected frames:  1000\n"
     ]
    },
    {
     "name": "stderr",
     "output_type": "stream",
     "text": [
      "\n"
     ]
    },
    {
     "name": "stdout",
     "output_type": "stream",
     "text": [
      "Saving results in E:\\movies\\ar2breathing\\10_08_19...\n",
      "Saving csv poses!\n",
      "Starting to analyze %  E:\\movies\\ar2breathing\\10_08_19\\19-50-03R.avi\n",
      "Loading  E:\\movies\\ar2breathing\\10_08_19\\19-50-03R.avi\n",
      "Duration of video [s]:  4.29 , recorded with  200.0 fps!\n",
      "Overall # of frames:  858  found with (before cropping) frame dimensions:  202 181\n",
      "Starting to extract posture\n"
     ]
    },
    {
     "name": "stderr",
     "output_type": "stream",
     "text": [
      "860it [00:14, 60.05it/s]                                                                                               "
     ]
    },
    {
     "name": "stdout",
     "output_type": "stream",
     "text": [
      "Detected frames:  858\n"
     ]
    },
    {
     "name": "stderr",
     "output_type": "stream",
     "text": [
      "\n"
     ]
    },
    {
     "name": "stdout",
     "output_type": "stream",
     "text": [
      "Saving results in E:\\movies\\ar2breathing\\10_08_19...\n",
      "Saving csv poses!\n",
      "Starting to analyze %  E:\\movies\\ar2breathing\\10_08_19\\19-52-09R.avi\n",
      "Loading  E:\\movies\\ar2breathing\\10_08_19\\19-52-09R.avi\n",
      "Duration of video [s]:  5.0 , recorded with  200.0 fps!\n",
      "Overall # of frames:  1000  found with (before cropping) frame dimensions:  202 181\n",
      "Starting to extract posture\n"
     ]
    },
    {
     "name": "stderr",
     "output_type": "stream",
     "text": [
      "1010it [00:17, 55.23it/s]                                                                                              "
     ]
    },
    {
     "name": "stdout",
     "output_type": "stream",
     "text": [
      "Detected frames:  1000\n"
     ]
    },
    {
     "name": "stderr",
     "output_type": "stream",
     "text": [
      "\n"
     ]
    },
    {
     "name": "stdout",
     "output_type": "stream",
     "text": [
      "Saving results in E:\\movies\\ar2breathing\\10_08_19...\n",
      "Saving csv poses!\n",
      "Starting to analyze %  E:\\movies\\ar2breathing\\10_08_19\\19-52-27R.avi\n",
      "Loading  E:\\movies\\ar2breathing\\10_08_19\\19-52-27R.avi\n",
      "Duration of video [s]:  5.0 , recorded with  200.0 fps!\n",
      "Overall # of frames:  1000  found with (before cropping) frame dimensions:  202 181\n",
      "Starting to extract posture\n"
     ]
    },
    {
     "name": "stderr",
     "output_type": "stream",
     "text": [
      "1010it [00:17, 55.51it/s]                                                                                              "
     ]
    },
    {
     "name": "stdout",
     "output_type": "stream",
     "text": [
      "Detected frames:  1000\n"
     ]
    },
    {
     "name": "stderr",
     "output_type": "stream",
     "text": [
      "\n"
     ]
    },
    {
     "name": "stdout",
     "output_type": "stream",
     "text": [
      "Saving results in E:\\movies\\ar2breathing\\10_08_19...\n",
      "Saving csv poses!\n",
      "Starting to analyze %  E:\\movies\\ar2breathing\\10_08_19\\19-52-47R.avi\n",
      "Loading  E:\\movies\\ar2breathing\\10_08_19\\19-52-47R.avi\n",
      "Duration of video [s]:  4.3 , recorded with  200.0 fps!\n",
      "Overall # of frames:  861  found with (before cropping) frame dimensions:  202 181\n",
      "Starting to extract posture\n"
     ]
    },
    {
     "name": "stderr",
     "output_type": "stream",
     "text": [
      "870it [00:14, 55.48it/s]                                                                                               "
     ]
    },
    {
     "name": "stdout",
     "output_type": "stream",
     "text": [
      "Detected frames:  861\n"
     ]
    },
    {
     "name": "stderr",
     "output_type": "stream",
     "text": [
      "\n"
     ]
    },
    {
     "name": "stdout",
     "output_type": "stream",
     "text": [
      "Saving results in E:\\movies\\ar2breathing\\10_08_19...\n",
      "Saving csv poses!\n",
      "Starting to analyze %  E:\\movies\\ar2breathing\\10_08_19\\19-53-05R.avi\n",
      "Loading  E:\\movies\\ar2breathing\\10_08_19\\19-53-05R.avi\n",
      "Duration of video [s]:  4.34 , recorded with  200.0 fps!\n",
      "Overall # of frames:  868  found with (before cropping) frame dimensions:  202 181\n",
      "Starting to extract posture\n"
     ]
    },
    {
     "name": "stderr",
     "output_type": "stream",
     "text": [
      "870it [00:15, 55.25it/s]                                                                                               "
     ]
    },
    {
     "name": "stdout",
     "output_type": "stream",
     "text": [
      "Detected frames:  868\n"
     ]
    },
    {
     "name": "stderr",
     "output_type": "stream",
     "text": [
      "\n"
     ]
    },
    {
     "name": "stdout",
     "output_type": "stream",
     "text": [
      "Saving results in E:\\movies\\ar2breathing\\10_08_19...\n",
      "Saving csv poses!\n",
      "Starting to analyze %  E:\\movies\\ar2breathing\\10_08_19\\19-53-23R.avi\n",
      "Loading  E:\\movies\\ar2breathing\\10_08_19\\19-53-23R.avi\n",
      "Duration of video [s]:  5.0 , recorded with  200.0 fps!\n",
      "Overall # of frames:  1000  found with (before cropping) frame dimensions:  202 181\n",
      "Starting to extract posture\n"
     ]
    },
    {
     "name": "stderr",
     "output_type": "stream",
     "text": [
      "1010it [00:20, 41.19it/s]                                                                                              "
     ]
    },
    {
     "name": "stdout",
     "output_type": "stream",
     "text": [
      "Detected frames:  1000\n"
     ]
    },
    {
     "name": "stderr",
     "output_type": "stream",
     "text": [
      "\n"
     ]
    },
    {
     "name": "stdout",
     "output_type": "stream",
     "text": [
      "Saving results in E:\\movies\\ar2breathing\\10_08_19...\n",
      "Saving csv poses!\n",
      "Starting to analyze %  E:\\movies\\ar2breathing\\10_08_19\\19-53-49R.avi\n",
      "Loading  E:\\movies\\ar2breathing\\10_08_19\\19-53-49R.avi\n",
      "Duration of video [s]:  5.0 , recorded with  200.0 fps!\n",
      "Overall # of frames:  1000  found with (before cropping) frame dimensions:  202 181\n",
      "Starting to extract posture\n"
     ]
    },
    {
     "name": "stderr",
     "output_type": "stream",
     "text": [
      "1010it [00:25, 36.10it/s]                                                                                              "
     ]
    },
    {
     "name": "stdout",
     "output_type": "stream",
     "text": [
      "Detected frames:  1000\n"
     ]
    },
    {
     "name": "stderr",
     "output_type": "stream",
     "text": [
      "\n"
     ]
    },
    {
     "name": "stdout",
     "output_type": "stream",
     "text": [
      "Saving results in E:\\movies\\ar2breathing\\10_08_19...\n",
      "Saving csv poses!\n",
      "Starting to analyze %  E:\\movies\\ar2breathing\\10_08_19\\19-54-10R.avi\n",
      "Loading  E:\\movies\\ar2breathing\\10_08_19\\19-54-10R.avi\n",
      "Duration of video [s]:  5.0 , recorded with  200.0 fps!\n",
      "Overall # of frames:  1000  found with (before cropping) frame dimensions:  202 181\n",
      "Starting to extract posture\n"
     ]
    },
    {
     "name": "stderr",
     "output_type": "stream",
     "text": [
      "1010it [00:28, 33.43it/s]                                                                                              "
     ]
    },
    {
     "name": "stdout",
     "output_type": "stream",
     "text": [
      "Detected frames:  1000\n"
     ]
    },
    {
     "name": "stderr",
     "output_type": "stream",
     "text": [
      "\n"
     ]
    },
    {
     "name": "stdout",
     "output_type": "stream",
     "text": [
      "Saving results in E:\\movies\\ar2breathing\\10_08_19...\n",
      "Saving csv poses!\n",
      "Starting to analyze %  E:\\movies\\ar2breathing\\10_08_19\\19-54-29R.avi\n",
      "Loading  E:\\movies\\ar2breathing\\10_08_19\\19-54-29R.avi\n",
      "Duration of video [s]:  3.99 , recorded with  200.0 fps!\n",
      "Overall # of frames:  798  found with (before cropping) frame dimensions:  202 181\n",
      "Starting to extract posture\n"
     ]
    },
    {
     "name": "stderr",
     "output_type": "stream",
     "text": [
      "800it [00:22, 35.88it/s]                                                                                               "
     ]
    },
    {
     "name": "stdout",
     "output_type": "stream",
     "text": [
      "Detected frames:  798\n"
     ]
    },
    {
     "name": "stderr",
     "output_type": "stream",
     "text": [
      "\n"
     ]
    },
    {
     "name": "stdout",
     "output_type": "stream",
     "text": [
      "Saving results in E:\\movies\\ar2breathing\\10_08_19...\n",
      "Saving csv poses!\n",
      "Starting to analyze %  E:\\movies\\ar2breathing\\10_08_19\\19-54-49R.avi\n",
      "Loading  E:\\movies\\ar2breathing\\10_08_19\\19-54-49R.avi\n",
      "Duration of video [s]:  5.0 , recorded with  200.0 fps!\n",
      "Overall # of frames:  1000  found with (before cropping) frame dimensions:  202 181\n",
      "Starting to extract posture\n"
     ]
    },
    {
     "name": "stderr",
     "output_type": "stream",
     "text": [
      "1010it [00:29, 33.44it/s]                                                                                              "
     ]
    },
    {
     "name": "stdout",
     "output_type": "stream",
     "text": [
      "Detected frames:  1000\n"
     ]
    },
    {
     "name": "stderr",
     "output_type": "stream",
     "text": [
      "\n"
     ]
    },
    {
     "name": "stdout",
     "output_type": "stream",
     "text": [
      "Saving results in E:\\movies\\ar2breathing\\10_08_19...\n",
      "Saving csv poses!\n",
      "Starting to analyze %  E:\\movies\\ar2breathing\\10_08_19\\19-55-07R.avi\n",
      "Loading  E:\\movies\\ar2breathing\\10_08_19\\19-55-07R.avi\n",
      "Duration of video [s]:  3.42 , recorded with  200.0 fps!\n",
      "Overall # of frames:  683  found with (before cropping) frame dimensions:  202 181\n",
      "Starting to extract posture\n"
     ]
    },
    {
     "name": "stderr",
     "output_type": "stream",
     "text": [
      "690it [00:20, 33.16it/s]                                                                                               "
     ]
    },
    {
     "name": "stdout",
     "output_type": "stream",
     "text": [
      "Detected frames:  683\n"
     ]
    },
    {
     "name": "stderr",
     "output_type": "stream",
     "text": [
      "\n"
     ]
    },
    {
     "name": "stdout",
     "output_type": "stream",
     "text": [
      "Saving results in E:\\movies\\ar2breathing\\10_08_19...\n",
      "Saving csv poses!\n",
      "Starting to analyze %  E:\\movies\\ar2breathing\\10_08_19\\19-55-25R.avi\n",
      "Loading  E:\\movies\\ar2breathing\\10_08_19\\19-55-25R.avi\n",
      "Duration of video [s]:  2.92 , recorded with  200.0 fps!\n",
      "Overall # of frames:  583  found with (before cropping) frame dimensions:  202 181\n",
      "Starting to extract posture\n"
     ]
    },
    {
     "name": "stderr",
     "output_type": "stream",
     "text": [
      "590it [00:16, 33.59it/s]                                                                                               "
     ]
    },
    {
     "name": "stdout",
     "output_type": "stream",
     "text": [
      "Detected frames:  583\n"
     ]
    },
    {
     "name": "stderr",
     "output_type": "stream",
     "text": [
      "\n"
     ]
    },
    {
     "name": "stdout",
     "output_type": "stream",
     "text": [
      "Saving results in E:\\movies\\ar2breathing\\10_08_19...\n",
      "Saving csv poses!\n",
      "Starting to analyze %  E:\\movies\\ar2breathing\\10_08_19\\19-55-43R.avi\n",
      "Loading  E:\\movies\\ar2breathing\\10_08_19\\19-55-43R.avi\n",
      "Duration of video [s]:  5.0 , recorded with  200.0 fps!\n",
      "Overall # of frames:  1000  found with (before cropping) frame dimensions:  202 181\n",
      "Starting to extract posture\n"
     ]
    },
    {
     "name": "stderr",
     "output_type": "stream",
     "text": [
      "1010it [00:28, 33.59it/s]                                                                                              "
     ]
    },
    {
     "name": "stdout",
     "output_type": "stream",
     "text": [
      "Detected frames:  1000\n"
     ]
    },
    {
     "name": "stderr",
     "output_type": "stream",
     "text": [
      "\n"
     ]
    },
    {
     "name": "stdout",
     "output_type": "stream",
     "text": [
      "Saving results in E:\\movies\\ar2breathing\\10_08_19...\n",
      "Saving csv poses!\n",
      "Starting to analyze %  E:\\movies\\ar2breathing\\10_08_19\\19-56-02R.avi\n",
      "Loading  E:\\movies\\ar2breathing\\10_08_19\\19-56-02R.avi\n",
      "Duration of video [s]:  4.97 , recorded with  200.0 fps!\n",
      "Overall # of frames:  994  found with (before cropping) frame dimensions:  202 181\n",
      "Starting to extract posture\n"
     ]
    },
    {
     "name": "stderr",
     "output_type": "stream",
     "text": [
      "1000it [00:28, 35.81it/s]                                                                                              "
     ]
    },
    {
     "name": "stdout",
     "output_type": "stream",
     "text": [
      "Detected frames:  994\n"
     ]
    },
    {
     "name": "stderr",
     "output_type": "stream",
     "text": [
      "\n"
     ]
    },
    {
     "name": "stdout",
     "output_type": "stream",
     "text": [
      "Saving results in E:\\movies\\ar2breathing\\10_08_19...\n",
      "Saving csv poses!\n",
      "Starting to analyze %  E:\\movies\\ar2breathing\\10_08_19\\19-56-20R.avi\n",
      "Loading  E:\\movies\\ar2breathing\\10_08_19\\19-56-20R.avi\n",
      "Duration of video [s]:  4.16 , recorded with  200.0 fps!\n",
      "Overall # of frames:  831  found with (before cropping) frame dimensions:  202 181\n",
      "Starting to extract posture\n"
     ]
    },
    {
     "name": "stderr",
     "output_type": "stream",
     "text": [
      "840it [00:23, 36.00it/s]                                                                                               "
     ]
    },
    {
     "name": "stdout",
     "output_type": "stream",
     "text": [
      "Detected frames:  831\n"
     ]
    },
    {
     "name": "stderr",
     "output_type": "stream",
     "text": [
      "\n"
     ]
    },
    {
     "name": "stdout",
     "output_type": "stream",
     "text": [
      "Saving results in E:\\movies\\ar2breathing\\10_08_19...\n",
      "Saving csv poses!\n",
      "Starting to analyze %  E:\\movies\\ar2breathing\\10_08_19\\19-56-38R.avi\n",
      "Loading  E:\\movies\\ar2breathing\\10_08_19\\19-56-38R.avi\n",
      "Duration of video [s]:  5.0 , recorded with  200.0 fps!\n",
      "Overall # of frames:  1000  found with (before cropping) frame dimensions:  202 181\n",
      "Starting to extract posture\n"
     ]
    },
    {
     "name": "stderr",
     "output_type": "stream",
     "text": [
      "1010it [00:28, 33.69it/s]                                                                                              "
     ]
    },
    {
     "name": "stdout",
     "output_type": "stream",
     "text": [
      "Detected frames:  1000\n"
     ]
    },
    {
     "name": "stderr",
     "output_type": "stream",
     "text": [
      "\n"
     ]
    },
    {
     "name": "stdout",
     "output_type": "stream",
     "text": [
      "Saving results in E:\\movies\\ar2breathing\\10_08_19...\n",
      "Saving csv poses!\n",
      "Starting to analyze %  E:\\movies\\ar2breathing\\10_08_19\\19-56-59R.avi\n",
      "Loading  E:\\movies\\ar2breathing\\10_08_19\\19-56-59R.avi\n",
      "Duration of video [s]:  5.0 , recorded with  200.0 fps!\n",
      "Overall # of frames:  1000  found with (before cropping) frame dimensions:  202 181\n",
      "Starting to extract posture\n"
     ]
    },
    {
     "name": "stderr",
     "output_type": "stream",
     "text": [
      "1010it [00:28, 33.80it/s]                                                                                              "
     ]
    },
    {
     "name": "stdout",
     "output_type": "stream",
     "text": [
      "Detected frames:  1000\n"
     ]
    },
    {
     "name": "stderr",
     "output_type": "stream",
     "text": [
      "\n"
     ]
    },
    {
     "name": "stdout",
     "output_type": "stream",
     "text": [
      "Saving results in E:\\movies\\ar2breathing\\10_08_19...\n",
      "Saving csv poses!\n",
      "Starting to analyze %  E:\\movies\\ar2breathing\\10_08_19\\19-57-18R.avi\n",
      "Loading  E:\\movies\\ar2breathing\\10_08_19\\19-57-18R.avi\n",
      "Duration of video [s]:  4.88 , recorded with  200.0 fps!\n",
      "Overall # of frames:  977  found with (before cropping) frame dimensions:  202 181\n",
      "Starting to extract posture\n"
     ]
    },
    {
     "name": "stderr",
     "output_type": "stream",
     "text": [
      "980it [00:27, 35.93it/s]                                                                                               "
     ]
    },
    {
     "name": "stdout",
     "output_type": "stream",
     "text": [
      "Detected frames:  977\n"
     ]
    },
    {
     "name": "stderr",
     "output_type": "stream",
     "text": [
      "\n"
     ]
    },
    {
     "name": "stdout",
     "output_type": "stream",
     "text": [
      "Saving results in E:\\movies\\ar2breathing\\10_08_19...\n",
      "Saving csv poses!\n",
      "Starting to analyze %  E:\\movies\\ar2breathing\\10_08_19\\19-57-41R.avi\n",
      "Loading  E:\\movies\\ar2breathing\\10_08_19\\19-57-41R.avi\n",
      "Duration of video [s]:  5.0 , recorded with  200.0 fps!\n",
      "Overall # of frames:  1000  found with (before cropping) frame dimensions:  202 181\n",
      "Starting to extract posture\n"
     ]
    },
    {
     "name": "stderr",
     "output_type": "stream",
     "text": [
      "1010it [00:28, 33.85it/s]                                                                                              "
     ]
    },
    {
     "name": "stdout",
     "output_type": "stream",
     "text": [
      "Detected frames:  1000\n"
     ]
    },
    {
     "name": "stderr",
     "output_type": "stream",
     "text": [
      "\n"
     ]
    },
    {
     "name": "stdout",
     "output_type": "stream",
     "text": [
      "Saving results in E:\\movies\\ar2breathing\\10_08_19...\n",
      "Saving csv poses!\n",
      "Starting to analyze %  E:\\movies\\ar2breathing\\10_08_19\\19-57-59R.avi\n",
      "Loading  E:\\movies\\ar2breathing\\10_08_19\\19-57-59R.avi\n",
      "Duration of video [s]:  5.0 , recorded with  200.0 fps!\n",
      "Overall # of frames:  1000  found with (before cropping) frame dimensions:  202 181\n",
      "Starting to extract posture\n"
     ]
    },
    {
     "name": "stderr",
     "output_type": "stream",
     "text": [
      "1010it [00:28, 33.37it/s]                                                                                              "
     ]
    },
    {
     "name": "stdout",
     "output_type": "stream",
     "text": [
      "Detected frames:  1000\n"
     ]
    },
    {
     "name": "stderr",
     "output_type": "stream",
     "text": [
      "\n"
     ]
    },
    {
     "name": "stdout",
     "output_type": "stream",
     "text": [
      "Saving results in E:\\movies\\ar2breathing\\10_08_19...\n",
      "Saving csv poses!\n",
      "Starting to analyze %  E:\\movies\\ar2breathing\\10_08_19\\19-58-19R.avi\n",
      "Loading  E:\\movies\\ar2breathing\\10_08_19\\19-58-19R.avi\n",
      "Duration of video [s]:  4.16 , recorded with  200.0 fps!\n",
      "Overall # of frames:  831  found with (before cropping) frame dimensions:  202 181\n",
      "Starting to extract posture\n"
     ]
    },
    {
     "name": "stderr",
     "output_type": "stream",
     "text": [
      "840it [00:23, 35.77it/s]                                                                                               "
     ]
    },
    {
     "name": "stdout",
     "output_type": "stream",
     "text": [
      "Detected frames:  831\n"
     ]
    },
    {
     "name": "stderr",
     "output_type": "stream",
     "text": [
      "\n"
     ]
    },
    {
     "name": "stdout",
     "output_type": "stream",
     "text": [
      "Saving results in E:\\movies\\ar2breathing\\10_08_19...\n",
      "Saving csv poses!\n",
      "Starting to analyze %  E:\\movies\\ar2breathing\\10_08_19\\19-59-02R.avi\n",
      "Loading  E:\\movies\\ar2breathing\\10_08_19\\19-59-02R.avi\n",
      "Duration of video [s]:  5.0 , recorded with  200.0 fps!\n",
      "Overall # of frames:  1000  found with (before cropping) frame dimensions:  202 181\n",
      "Starting to extract posture\n"
     ]
    },
    {
     "name": "stderr",
     "output_type": "stream",
     "text": [
      "1010it [00:28, 33.48it/s]                                                                                              "
     ]
    },
    {
     "name": "stdout",
     "output_type": "stream",
     "text": [
      "Detected frames:  1000\n"
     ]
    },
    {
     "name": "stderr",
     "output_type": "stream",
     "text": [
      "\n"
     ]
    },
    {
     "name": "stdout",
     "output_type": "stream",
     "text": [
      "Saving results in E:\\movies\\ar2breathing\\10_08_19...\n",
      "Saving csv poses!\n",
      "Starting to analyze %  E:\\movies\\ar2breathing\\10_08_19\\19-59-22R.avi\n",
      "Loading  E:\\movies\\ar2breathing\\10_08_19\\19-59-22R.avi\n",
      "Duration of video [s]:  5.0 , recorded with  200.0 fps!\n",
      "Overall # of frames:  1000  found with (before cropping) frame dimensions:  202 181\n",
      "Starting to extract posture\n"
     ]
    },
    {
     "name": "stderr",
     "output_type": "stream",
     "text": [
      "1010it [00:28, 33.68it/s]                                                                                              "
     ]
    },
    {
     "name": "stdout",
     "output_type": "stream",
     "text": [
      "Detected frames:  1000\n"
     ]
    },
    {
     "name": "stderr",
     "output_type": "stream",
     "text": [
      "\n"
     ]
    },
    {
     "name": "stdout",
     "output_type": "stream",
     "text": [
      "Saving results in E:\\movies\\ar2breathing\\10_08_19...\n",
      "Saving csv poses!\n",
      "Starting to analyze %  E:\\movies\\ar2breathing\\10_08_19\\19-59-41R.avi\n",
      "Loading  E:\\movies\\ar2breathing\\10_08_19\\19-59-41R.avi\n",
      "Duration of video [s]:  2.15 , recorded with  200.0 fps!\n",
      "Overall # of frames:  429  found with (before cropping) frame dimensions:  202 181\n",
      "Starting to extract posture\n"
     ]
    },
    {
     "name": "stderr",
     "output_type": "stream",
     "text": [
      "430it [00:12, 33.49it/s]                                                                                               "
     ]
    },
    {
     "name": "stdout",
     "output_type": "stream",
     "text": [
      "Detected frames:  429\n"
     ]
    },
    {
     "name": "stderr",
     "output_type": "stream",
     "text": [
      "\n"
     ]
    },
    {
     "name": "stdout",
     "output_type": "stream",
     "text": [
      "Saving results in E:\\movies\\ar2breathing\\10_08_19...\n",
      "Saving csv poses!\n",
      "Starting to analyze %  E:\\movies\\ar2breathing\\10_08_19\\20-00-00R.avi\n",
      "Loading  E:\\movies\\ar2breathing\\10_08_19\\20-00-00R.avi\n",
      "Duration of video [s]:  5.0 , recorded with  200.0 fps!\n",
      "Overall # of frames:  1000  found with (before cropping) frame dimensions:  202 181\n",
      "Starting to extract posture\n"
     ]
    },
    {
     "name": "stderr",
     "output_type": "stream",
     "text": [
      "1010it [00:28, 33.94it/s]                                                                                              "
     ]
    },
    {
     "name": "stdout",
     "output_type": "stream",
     "text": [
      "Detected frames:  1000\n"
     ]
    },
    {
     "name": "stderr",
     "output_type": "stream",
     "text": [
      "\n"
     ]
    },
    {
     "name": "stdout",
     "output_type": "stream",
     "text": [
      "Saving results in E:\\movies\\ar2breathing\\10_08_19...\n",
      "Saving csv poses!\n",
      "Starting to analyze %  E:\\movies\\ar2breathing\\10_08_19\\20-00-19R.avi\n",
      "Loading  E:\\movies\\ar2breathing\\10_08_19\\20-00-19R.avi\n",
      "Duration of video [s]:  4.77 , recorded with  200.0 fps!\n",
      "Overall # of frames:  954  found with (before cropping) frame dimensions:  202 181\n",
      "Starting to extract posture\n"
     ]
    },
    {
     "name": "stderr",
     "output_type": "stream",
     "text": [
      "960it [00:27, 36.13it/s]                                                                                               "
     ]
    },
    {
     "name": "stdout",
     "output_type": "stream",
     "text": [
      "Detected frames:  954\n"
     ]
    },
    {
     "name": "stderr",
     "output_type": "stream",
     "text": [
      "\n"
     ]
    },
    {
     "name": "stdout",
     "output_type": "stream",
     "text": [
      "Saving results in E:\\movies\\ar2breathing\\10_08_19...\n",
      "Saving csv poses!\n",
      "Starting to analyze %  E:\\movies\\ar2breathing\\10_08_19\\20-00-37R.avi\n",
      "Loading  E:\\movies\\ar2breathing\\10_08_19\\20-00-37R.avi\n",
      "Duration of video [s]:  4.84 , recorded with  200.0 fps!\n",
      "Overall # of frames:  969  found with (before cropping) frame dimensions:  202 181\n",
      "Starting to extract posture\n"
     ]
    },
    {
     "name": "stderr",
     "output_type": "stream",
     "text": [
      "970it [00:27, 33.37it/s]                                                                                               "
     ]
    },
    {
     "name": "stdout",
     "output_type": "stream",
     "text": [
      "Detected frames:  969\n"
     ]
    },
    {
     "name": "stderr",
     "output_type": "stream",
     "text": [
      "\n"
     ]
    },
    {
     "name": "stdout",
     "output_type": "stream",
     "text": [
      "Saving results in E:\\movies\\ar2breathing\\10_08_19...\n",
      "Saving csv poses!\n",
      "Starting to analyze %  E:\\movies\\ar2breathing\\10_08_19\\20-00-55R.avi\n",
      "Loading  E:\\movies\\ar2breathing\\10_08_19\\20-00-55R.avi\n",
      "Duration of video [s]:  3.85 , recorded with  200.0 fps!\n",
      "Overall # of frames:  771  found with (before cropping) frame dimensions:  202 181\n",
      "Starting to extract posture\n"
     ]
    },
    {
     "name": "stderr",
     "output_type": "stream",
     "text": [
      "780it [00:22, 36.16it/s]                                                                                               "
     ]
    },
    {
     "name": "stdout",
     "output_type": "stream",
     "text": [
      "Detected frames:  771\n"
     ]
    },
    {
     "name": "stderr",
     "output_type": "stream",
     "text": [
      "\n"
     ]
    },
    {
     "name": "stdout",
     "output_type": "stream",
     "text": [
      "Saving results in E:\\movies\\ar2breathing\\10_08_19...\n",
      "Saving csv poses!\n",
      "Starting to analyze %  E:\\movies\\ar2breathing\\10_08_19\\20-01-13R.avi\n",
      "Loading  E:\\movies\\ar2breathing\\10_08_19\\20-01-13R.avi\n",
      "Duration of video [s]:  4.28 , recorded with  200.0 fps!\n",
      "Overall # of frames:  856  found with (before cropping) frame dimensions:  202 181\n",
      "Starting to extract posture\n"
     ]
    },
    {
     "name": "stderr",
     "output_type": "stream",
     "text": [
      "860it [00:24, 36.26it/s]                                                                                               "
     ]
    },
    {
     "name": "stdout",
     "output_type": "stream",
     "text": [
      "Detected frames:  856\n"
     ]
    },
    {
     "name": "stderr",
     "output_type": "stream",
     "text": [
      "\n"
     ]
    },
    {
     "name": "stdout",
     "output_type": "stream",
     "text": [
      "Saving results in E:\\movies\\ar2breathing\\10_08_19...\n",
      "Saving csv poses!\n",
      "Starting to analyze %  E:\\movies\\ar2breathing\\10_08_19\\20-01-31R.avi\n",
      "Loading  E:\\movies\\ar2breathing\\10_08_19\\20-01-31R.avi\n",
      "Duration of video [s]:  4.25 , recorded with  200.0 fps!\n",
      "Overall # of frames:  851  found with (before cropping) frame dimensions:  202 181\n",
      "Starting to extract posture\n"
     ]
    },
    {
     "name": "stderr",
     "output_type": "stream",
     "text": [
      "860it [00:24, 36.45it/s]                                                                                               "
     ]
    },
    {
     "name": "stdout",
     "output_type": "stream",
     "text": [
      "Detected frames:  851\n"
     ]
    },
    {
     "name": "stderr",
     "output_type": "stream",
     "text": [
      "\n"
     ]
    },
    {
     "name": "stdout",
     "output_type": "stream",
     "text": [
      "Saving results in E:\\movies\\ar2breathing\\10_08_19...\n",
      "Saving csv poses!\n",
      "Starting to analyze %  E:\\movies\\ar2breathing\\10_08_19\\20-01-49R.avi\n",
      "Loading  E:\\movies\\ar2breathing\\10_08_19\\20-01-49R.avi\n",
      "Duration of video [s]:  4.32 , recorded with  200.0 fps!\n",
      "Overall # of frames:  863  found with (before cropping) frame dimensions:  202 181\n",
      "Starting to extract posture\n"
     ]
    },
    {
     "name": "stderr",
     "output_type": "stream",
     "text": [
      "870it [00:24, 33.80it/s]                                                                                               "
     ]
    },
    {
     "name": "stdout",
     "output_type": "stream",
     "text": [
      "Detected frames:  863\n"
     ]
    },
    {
     "name": "stderr",
     "output_type": "stream",
     "text": [
      "\n"
     ]
    },
    {
     "name": "stdout",
     "output_type": "stream",
     "text": [
      "Saving results in E:\\movies\\ar2breathing\\10_08_19...\n",
      "Saving csv poses!\n",
      "Starting to analyze %  E:\\movies\\ar2breathing\\10_08_19\\20-02-07R.avi\n",
      "Loading  E:\\movies\\ar2breathing\\10_08_19\\20-02-07R.avi\n",
      "Duration of video [s]:  5.0 , recorded with  200.0 fps!\n",
      "Overall # of frames:  1000  found with (before cropping) frame dimensions:  202 181\n",
      "Starting to extract posture\n"
     ]
    },
    {
     "name": "stderr",
     "output_type": "stream",
     "text": [
      "1010it [00:28, 33.39it/s]                                                                                              "
     ]
    },
    {
     "name": "stdout",
     "output_type": "stream",
     "text": [
      "Detected frames:  1000\n"
     ]
    },
    {
     "name": "stderr",
     "output_type": "stream",
     "text": [
      "\n"
     ]
    },
    {
     "name": "stdout",
     "output_type": "stream",
     "text": [
      "Saving results in E:\\movies\\ar2breathing\\10_08_19...\n",
      "Saving csv poses!\n",
      "Starting to analyze %  E:\\movies\\ar2breathing\\10_08_19\\20-02-26R.avi\n",
      "Loading  E:\\movies\\ar2breathing\\10_08_19\\20-02-26R.avi\n",
      "Duration of video [s]:  5.0 , recorded with  200.0 fps!\n",
      "Overall # of frames:  1000  found with (before cropping) frame dimensions:  202 181\n",
      "Starting to extract posture\n"
     ]
    },
    {
     "name": "stderr",
     "output_type": "stream",
     "text": [
      "1010it [00:28, 33.52it/s]                                                                                              "
     ]
    },
    {
     "name": "stdout",
     "output_type": "stream",
     "text": [
      "Detected frames:  1000\n"
     ]
    },
    {
     "name": "stderr",
     "output_type": "stream",
     "text": [
      "\n"
     ]
    },
    {
     "name": "stdout",
     "output_type": "stream",
     "text": [
      "Saving results in E:\\movies\\ar2breathing\\10_08_19...\n",
      "Saving csv poses!\n",
      "Starting to analyze %  E:\\movies\\ar2breathing\\10_08_19\\20-02-46R.avi\n",
      "Loading  E:\\movies\\ar2breathing\\10_08_19\\20-02-46R.avi\n",
      "Duration of video [s]:  4.48 , recorded with  200.0 fps!\n",
      "Overall # of frames:  896  found with (before cropping) frame dimensions:  202 181\n",
      "Starting to extract posture\n"
     ]
    },
    {
     "name": "stderr",
     "output_type": "stream",
     "text": [
      "900it [00:26, 35.90it/s]                                                                                               "
     ]
    },
    {
     "name": "stdout",
     "output_type": "stream",
     "text": [
      "Detected frames:  896\n"
     ]
    },
    {
     "name": "stderr",
     "output_type": "stream",
     "text": [
      "\n"
     ]
    },
    {
     "name": "stdout",
     "output_type": "stream",
     "text": [
      "Saving results in E:\\movies\\ar2breathing\\10_08_19...\n",
      "Saving csv poses!\n",
      "Starting to analyze %  E:\\movies\\ar2breathing\\10_08_19\\20-03-04R.avi\n",
      "Loading  E:\\movies\\ar2breathing\\10_08_19\\20-03-04R.avi\n",
      "Duration of video [s]:  2.75 , recorded with  200.0 fps!\n",
      "Overall # of frames:  551  found with (before cropping) frame dimensions:  202 181\n",
      "Starting to extract posture\n"
     ]
    },
    {
     "name": "stderr",
     "output_type": "stream",
     "text": [
      "560it [00:15, 35.64it/s]                                                                                               "
     ]
    },
    {
     "name": "stdout",
     "output_type": "stream",
     "text": [
      "Detected frames:  551\n"
     ]
    },
    {
     "name": "stderr",
     "output_type": "stream",
     "text": [
      "\n"
     ]
    },
    {
     "name": "stdout",
     "output_type": "stream",
     "text": [
      "Saving results in E:\\movies\\ar2breathing\\10_08_19...\n",
      "Saving csv poses!\n",
      "Starting to analyze %  E:\\movies\\ar2breathing\\10_08_19\\20-03-22R.avi\n",
      "Loading  E:\\movies\\ar2breathing\\10_08_19\\20-03-22R.avi\n",
      "Duration of video [s]:  4.39 , recorded with  200.0 fps!\n",
      "Overall # of frames:  879  found with (before cropping) frame dimensions:  202 181\n",
      "Starting to extract posture\n"
     ]
    },
    {
     "name": "stderr",
     "output_type": "stream",
     "text": [
      "880it [00:24, 36.00it/s]                                                                                               "
     ]
    },
    {
     "name": "stdout",
     "output_type": "stream",
     "text": [
      "Detected frames:  879\n"
     ]
    },
    {
     "name": "stderr",
     "output_type": "stream",
     "text": [
      "\n"
     ]
    },
    {
     "name": "stdout",
     "output_type": "stream",
     "text": [
      "Saving results in E:\\movies\\ar2breathing\\10_08_19...\n",
      "Saving csv poses!\n",
      "Starting to analyze %  E:\\movies\\ar2breathing\\10_08_19\\20-03-40R.avi\n",
      "Loading  E:\\movies\\ar2breathing\\10_08_19\\20-03-40R.avi\n",
      "Duration of video [s]:  5.0 , recorded with  200.0 fps!\n",
      "Overall # of frames:  1000  found with (before cropping) frame dimensions:  202 181\n",
      "Starting to extract posture\n"
     ]
    },
    {
     "name": "stderr",
     "output_type": "stream",
     "text": [
      "1010it [00:28, 33.75it/s]                                                                                              "
     ]
    },
    {
     "name": "stdout",
     "output_type": "stream",
     "text": [
      "Detected frames:  1000\n"
     ]
    },
    {
     "name": "stderr",
     "output_type": "stream",
     "text": [
      "\n"
     ]
    },
    {
     "name": "stdout",
     "output_type": "stream",
     "text": [
      "Saving results in E:\\movies\\ar2breathing\\10_08_19...\n",
      "Saving csv poses!\n",
      "Starting to analyze %  E:\\movies\\ar2breathing\\10_08_19\\20-03-58R.avi\n",
      "Loading  E:\\movies\\ar2breathing\\10_08_19\\20-03-58R.avi\n",
      "Duration of video [s]:  4.26 , recorded with  200.0 fps!\n",
      "Overall # of frames:  852  found with (before cropping) frame dimensions:  202 181\n",
      "Starting to extract posture\n"
     ]
    },
    {
     "name": "stderr",
     "output_type": "stream",
     "text": [
      "860it [00:25, 24.01it/s]                                                                                               "
     ]
    },
    {
     "name": "stdout",
     "output_type": "stream",
     "text": [
      "Detected frames:  852\n"
     ]
    },
    {
     "name": "stderr",
     "output_type": "stream",
     "text": [
      "\n"
     ]
    },
    {
     "name": "stdout",
     "output_type": "stream",
     "text": [
      "Saving results in E:\\movies\\ar2breathing\\10_08_19...\n",
      "Saving csv poses!\n",
      "Starting to analyze %  E:\\movies\\ar2breathing\\10_08_19\\20-04-17R.avi\n",
      "Loading  E:\\movies\\ar2breathing\\10_08_19\\20-04-17R.avi\n",
      "Duration of video [s]:  4.11 , recorded with  200.0 fps!\n",
      "Overall # of frames:  821  found with (before cropping) frame dimensions:  202 181\n",
      "Starting to extract posture\n"
     ]
    },
    {
     "name": "stderr",
     "output_type": "stream",
     "text": [
      "830it [00:23, 33.59it/s]                                                                                               "
     ]
    },
    {
     "name": "stdout",
     "output_type": "stream",
     "text": [
      "Detected frames:  821\n"
     ]
    },
    {
     "name": "stderr",
     "output_type": "stream",
     "text": [
      "\n"
     ]
    },
    {
     "name": "stdout",
     "output_type": "stream",
     "text": [
      "Saving results in E:\\movies\\ar2breathing\\10_08_19...\n",
      "Saving csv poses!\n",
      "Starting to analyze %  E:\\movies\\ar2breathing\\10_08_19\\20-04-34R.avi\n",
      "Loading  E:\\movies\\ar2breathing\\10_08_19\\20-04-34R.avi\n",
      "Duration of video [s]:  4.54 , recorded with  200.0 fps!\n",
      "Overall # of frames:  907  found with (before cropping) frame dimensions:  202 181\n",
      "Starting to extract posture\n"
     ]
    },
    {
     "name": "stderr",
     "output_type": "stream",
     "text": [
      "910it [00:25, 33.47it/s]                                                                                               "
     ]
    },
    {
     "name": "stdout",
     "output_type": "stream",
     "text": [
      "Detected frames:  907\n"
     ]
    },
    {
     "name": "stderr",
     "output_type": "stream",
     "text": [
      "\n"
     ]
    },
    {
     "name": "stdout",
     "output_type": "stream",
     "text": [
      "Saving results in E:\\movies\\ar2breathing\\10_08_19...\n",
      "Saving csv poses!\n",
      "Starting to analyze %  E:\\movies\\ar2breathing\\10_08_19\\20-04-54R.avi\n",
      "Loading  E:\\movies\\ar2breathing\\10_08_19\\20-04-54R.avi\n",
      "Duration of video [s]:  4.86 , recorded with  200.0 fps!\n",
      "Overall # of frames:  972  found with (before cropping) frame dimensions:  202 181\n",
      "Starting to extract posture\n"
     ]
    },
    {
     "name": "stderr",
     "output_type": "stream",
     "text": [
      "980it [00:27, 36.36it/s]                                                                                               "
     ]
    },
    {
     "name": "stdout",
     "output_type": "stream",
     "text": [
      "Detected frames:  972\n"
     ]
    },
    {
     "name": "stderr",
     "output_type": "stream",
     "text": [
      "\n"
     ]
    },
    {
     "name": "stdout",
     "output_type": "stream",
     "text": [
      "Saving results in E:\\movies\\ar2breathing\\10_08_19...\n",
      "Saving csv poses!\n",
      "Starting to analyze %  E:\\movies\\ar2breathing\\10_08_19\\20-10-14R.avi\n",
      "Loading  E:\\movies\\ar2breathing\\10_08_19\\20-10-14R.avi\n",
      "Duration of video [s]:  3.01 , recorded with  200.0 fps!\n",
      "Overall # of frames:  602  found with (before cropping) frame dimensions:  202 181\n",
      "Starting to extract posture\n"
     ]
    },
    {
     "name": "stderr",
     "output_type": "stream",
     "text": [
      "610it [00:17, 33.85it/s]                                                                                               "
     ]
    },
    {
     "name": "stdout",
     "output_type": "stream",
     "text": [
      "Detected frames:  602\n"
     ]
    },
    {
     "name": "stderr",
     "output_type": "stream",
     "text": [
      "\n"
     ]
    },
    {
     "name": "stdout",
     "output_type": "stream",
     "text": [
      "Saving results in E:\\movies\\ar2breathing\\10_08_19...\n",
      "Saving csv poses!\n",
      "Starting to analyze %  E:\\movies\\ar2breathing\\10_08_19\\20-12-58R.avi\n",
      "Loading  E:\\movies\\ar2breathing\\10_08_19\\20-12-58R.avi\n",
      "Duration of video [s]:  4.34 , recorded with  200.0 fps!\n",
      "Overall # of frames:  868  found with (before cropping) frame dimensions:  202 181\n",
      "Starting to extract posture\n"
     ]
    },
    {
     "name": "stderr",
     "output_type": "stream",
     "text": [
      "870it [00:24, 33.51it/s]                                                                                               "
     ]
    },
    {
     "name": "stdout",
     "output_type": "stream",
     "text": [
      "Detected frames:  868\n"
     ]
    },
    {
     "name": "stderr",
     "output_type": "stream",
     "text": [
      "\n"
     ]
    },
    {
     "name": "stdout",
     "output_type": "stream",
     "text": [
      "Saving results in E:\\movies\\ar2breathing\\10_08_19...\n",
      "Saving csv poses!\n",
      "Starting to analyze %  E:\\movies\\ar2breathing\\10_08_19\\20-13-28R.avi\n",
      "Loading  E:\\movies\\ar2breathing\\10_08_19\\20-13-28R.avi\n",
      "Duration of video [s]:  4.26 , recorded with  200.0 fps!\n",
      "Overall # of frames:  852  found with (before cropping) frame dimensions:  202 181\n",
      "Starting to extract posture\n"
     ]
    },
    {
     "name": "stderr",
     "output_type": "stream",
     "text": [
      "860it [00:24, 35.76it/s]                                                                                               "
     ]
    },
    {
     "name": "stdout",
     "output_type": "stream",
     "text": [
      "Detected frames:  852\n"
     ]
    },
    {
     "name": "stderr",
     "output_type": "stream",
     "text": [
      "\n"
     ]
    },
    {
     "name": "stdout",
     "output_type": "stream",
     "text": [
      "Saving results in E:\\movies\\ar2breathing\\10_08_19...\n",
      "Saving csv poses!\n",
      "Starting to analyze %  E:\\movies\\ar2breathing\\10_08_19\\20-13-46R.avi\n",
      "Loading  E:\\movies\\ar2breathing\\10_08_19\\20-13-46R.avi\n",
      "Duration of video [s]:  2.85 , recorded with  200.0 fps!\n",
      "Overall # of frames:  569  found with (before cropping) frame dimensions:  202 181\n",
      "Starting to extract posture\n"
     ]
    },
    {
     "name": "stderr",
     "output_type": "stream",
     "text": [
      "570it [00:16, 33.58it/s]                                                                                               "
     ]
    },
    {
     "name": "stdout",
     "output_type": "stream",
     "text": [
      "Detected frames:  569\n"
     ]
    },
    {
     "name": "stderr",
     "output_type": "stream",
     "text": [
      "\n"
     ]
    },
    {
     "name": "stdout",
     "output_type": "stream",
     "text": [
      "Saving results in E:\\movies\\ar2breathing\\10_08_19...\n",
      "Saving csv poses!\n",
      "Starting to analyze %  E:\\movies\\ar2breathing\\10_08_19\\20-14-06R.avi\n",
      "Loading  E:\\movies\\ar2breathing\\10_08_19\\20-14-06R.avi\n",
      "Duration of video [s]:  4.17 , recorded with  200.0 fps!\n",
      "Overall # of frames:  833  found with (before cropping) frame dimensions:  202 181\n",
      "Starting to extract posture\n"
     ]
    },
    {
     "name": "stderr",
     "output_type": "stream",
     "text": [
      "840it [00:24, 35.90it/s]                                                                                               "
     ]
    },
    {
     "name": "stdout",
     "output_type": "stream",
     "text": [
      "Detected frames:  833\n"
     ]
    },
    {
     "name": "stderr",
     "output_type": "stream",
     "text": [
      "\n"
     ]
    },
    {
     "name": "stdout",
     "output_type": "stream",
     "text": [
      "Saving results in E:\\movies\\ar2breathing\\10_08_19...\n",
      "Saving csv poses!\n",
      "Starting to analyze %  E:\\movies\\ar2breathing\\10_08_19\\20-14-24R.avi\n",
      "Loading  E:\\movies\\ar2breathing\\10_08_19\\20-14-24R.avi\n",
      "Duration of video [s]:  4.36 , recorded with  200.0 fps!\n",
      "Overall # of frames:  872  found with (before cropping) frame dimensions:  202 181\n",
      "Starting to extract posture\n"
     ]
    },
    {
     "name": "stderr",
     "output_type": "stream",
     "text": [
      "880it [00:25, 35.97it/s]                                                                                               "
     ]
    },
    {
     "name": "stdout",
     "output_type": "stream",
     "text": [
      "Detected frames:  872\n"
     ]
    },
    {
     "name": "stderr",
     "output_type": "stream",
     "text": [
      "\n"
     ]
    },
    {
     "name": "stdout",
     "output_type": "stream",
     "text": [
      "Saving results in E:\\movies\\ar2breathing\\10_08_19...\n",
      "Saving csv poses!\n",
      "Starting to analyze %  E:\\movies\\ar2breathing\\10_08_19\\20-14-42R.avi\n",
      "Loading  E:\\movies\\ar2breathing\\10_08_19\\20-14-42R.avi\n",
      "Duration of video [s]:  4.87 , recorded with  200.0 fps!\n",
      "Overall # of frames:  973  found with (before cropping) frame dimensions:  202 181\n",
      "Starting to extract posture\n"
     ]
    },
    {
     "name": "stderr",
     "output_type": "stream",
     "text": [
      "980it [00:28, 35.80it/s]                                                                                               "
     ]
    },
    {
     "name": "stdout",
     "output_type": "stream",
     "text": [
      "Detected frames:  973\n"
     ]
    },
    {
     "name": "stderr",
     "output_type": "stream",
     "text": [
      "\n"
     ]
    },
    {
     "name": "stdout",
     "output_type": "stream",
     "text": [
      "Saving results in E:\\movies\\ar2breathing\\10_08_19...\n",
      "Saving csv poses!\n",
      "Starting to analyze %  E:\\movies\\ar2breathing\\10_08_19\\20-15-03R.avi\n",
      "Loading  E:\\movies\\ar2breathing\\10_08_19\\20-15-03R.avi\n",
      "Duration of video [s]:  4.77 , recorded with  200.0 fps!\n",
      "Overall # of frames:  954  found with (before cropping) frame dimensions:  202 181\n",
      "Starting to extract posture\n"
     ]
    },
    {
     "name": "stderr",
     "output_type": "stream",
     "text": [
      "960it [00:28, 35.95it/s]                                                                                               "
     ]
    },
    {
     "name": "stdout",
     "output_type": "stream",
     "text": [
      "Detected frames:  954\n"
     ]
    },
    {
     "name": "stderr",
     "output_type": "stream",
     "text": [
      "\n"
     ]
    },
    {
     "name": "stdout",
     "output_type": "stream",
     "text": [
      "Saving results in E:\\movies\\ar2breathing\\10_08_19...\n",
      "Saving csv poses!\n",
      "Starting to analyze %  E:\\movies\\ar2breathing\\10_08_19\\20-15-21R.avi\n",
      "Loading  E:\\movies\\ar2breathing\\10_08_19\\20-15-21R.avi\n",
      "Duration of video [s]:  3.31 , recorded with  200.0 fps!\n",
      "Overall # of frames:  662  found with (before cropping) frame dimensions:  202 181\n",
      "Starting to extract posture\n"
     ]
    },
    {
     "name": "stderr",
     "output_type": "stream",
     "text": [
      "670it [00:19, 33.51it/s]                                                                                               "
     ]
    },
    {
     "name": "stdout",
     "output_type": "stream",
     "text": [
      "Detected frames:  662\n"
     ]
    },
    {
     "name": "stderr",
     "output_type": "stream",
     "text": [
      "\n"
     ]
    },
    {
     "name": "stdout",
     "output_type": "stream",
     "text": [
      "Saving results in E:\\movies\\ar2breathing\\10_08_19...\n",
      "Saving csv poses!\n",
      "Starting to analyze %  E:\\movies\\ar2breathing\\10_08_19\\20-15-40R.avi\n",
      "Loading  E:\\movies\\ar2breathing\\10_08_19\\20-15-40R.avi\n",
      "Duration of video [s]:  4.32 , recorded with  200.0 fps!\n",
      "Overall # of frames:  864  found with (before cropping) frame dimensions:  202 181\n",
      "Starting to extract posture\n"
     ]
    },
    {
     "name": "stderr",
     "output_type": "stream",
     "text": [
      "870it [00:24, 32.95it/s]                                                                                               "
     ]
    },
    {
     "name": "stdout",
     "output_type": "stream",
     "text": [
      "Detected frames:  864\n"
     ]
    },
    {
     "name": "stderr",
     "output_type": "stream",
     "text": [
      "\n"
     ]
    },
    {
     "name": "stdout",
     "output_type": "stream",
     "text": [
      "Saving results in E:\\movies\\ar2breathing\\10_08_19...\n",
      "Saving csv poses!\n",
      "Starting to analyze %  E:\\movies\\ar2breathing\\10_08_19\\20-15-59R.avi\n",
      "Loading  E:\\movies\\ar2breathing\\10_08_19\\20-15-59R.avi\n",
      "Duration of video [s]:  2.97 , recorded with  200.0 fps!\n",
      "Overall # of frames:  594  found with (before cropping) frame dimensions:  202 181\n",
      "Starting to extract posture\n"
     ]
    },
    {
     "name": "stderr",
     "output_type": "stream",
     "text": [
      "600it [00:16, 35.74it/s]                                                                                               "
     ]
    },
    {
     "name": "stdout",
     "output_type": "stream",
     "text": [
      "Detected frames:  594\n"
     ]
    },
    {
     "name": "stderr",
     "output_type": "stream",
     "text": [
      "\n"
     ]
    },
    {
     "name": "stdout",
     "output_type": "stream",
     "text": [
      "Saving results in E:\\movies\\ar2breathing\\10_08_19...\n",
      "Saving csv poses!\n",
      "Starting to analyze %  E:\\movies\\ar2breathing\\10_08_19\\20-16-17R.avi\n",
      "Loading  E:\\movies\\ar2breathing\\10_08_19\\20-16-17R.avi\n",
      "Duration of video [s]:  3.33 , recorded with  200.0 fps!\n",
      "Overall # of frames:  666  found with (before cropping) frame dimensions:  202 181\n",
      "Starting to extract posture\n"
     ]
    },
    {
     "name": "stderr",
     "output_type": "stream",
     "text": [
      "670it [00:19, 32.57it/s]                                                                                               "
     ]
    },
    {
     "name": "stdout",
     "output_type": "stream",
     "text": [
      "Detected frames:  666\n"
     ]
    },
    {
     "name": "stderr",
     "output_type": "stream",
     "text": [
      "\n"
     ]
    },
    {
     "name": "stdout",
     "output_type": "stream",
     "text": [
      "Saving results in E:\\movies\\ar2breathing\\10_08_19...\n",
      "Saving csv poses!\n",
      "Starting to analyze %  E:\\movies\\ar2breathing\\10_08_19\\20-16-37R.avi\n",
      "Loading  E:\\movies\\ar2breathing\\10_08_19\\20-16-37R.avi\n",
      "Duration of video [s]:  4.78 , recorded with  200.0 fps!\n",
      "Overall # of frames:  956  found with (before cropping) frame dimensions:  202 181\n",
      "Starting to extract posture\n"
     ]
    },
    {
     "name": "stderr",
     "output_type": "stream",
     "text": [
      "960it [00:27, 36.09it/s]                                                                                               "
     ]
    },
    {
     "name": "stdout",
     "output_type": "stream",
     "text": [
      "Detected frames:  956\n"
     ]
    },
    {
     "name": "stderr",
     "output_type": "stream",
     "text": [
      "\n"
     ]
    },
    {
     "name": "stdout",
     "output_type": "stream",
     "text": [
      "Saving results in E:\\movies\\ar2breathing\\10_08_19...\n",
      "Saving csv poses!\n",
      "Starting to analyze %  E:\\movies\\ar2breathing\\10_08_19\\20-16-56R.avi\n",
      "Loading  E:\\movies\\ar2breathing\\10_08_19\\20-16-56R.avi\n",
      "Duration of video [s]:  2.29 , recorded with  200.0 fps!\n",
      "Overall # of frames:  459  found with (before cropping) frame dimensions:  202 181\n",
      "Starting to extract posture\n"
     ]
    },
    {
     "name": "stderr",
     "output_type": "stream",
     "text": [
      "460it [00:13, 34.28it/s]                                                                                               "
     ]
    },
    {
     "name": "stdout",
     "output_type": "stream",
     "text": [
      "Detected frames:  459\n"
     ]
    },
    {
     "name": "stderr",
     "output_type": "stream",
     "text": [
      "\n"
     ]
    },
    {
     "name": "stdout",
     "output_type": "stream",
     "text": [
      "Saving results in E:\\movies\\ar2breathing\\10_08_19...\n",
      "Saving csv poses!\n",
      "Starting to analyze %  E:\\movies\\ar2breathing\\10_08_19\\20-17-14R.avi\n",
      "Loading  E:\\movies\\ar2breathing\\10_08_19\\20-17-14R.avi\n",
      "Duration of video [s]:  4.3 , recorded with  200.0 fps!\n",
      "Overall # of frames:  861  found with (before cropping) frame dimensions:  202 181\n",
      "Starting to extract posture\n"
     ]
    },
    {
     "name": "stderr",
     "output_type": "stream",
     "text": [
      "870it [00:26, 31.70it/s]                                                                                               "
     ]
    },
    {
     "name": "stdout",
     "output_type": "stream",
     "text": [
      "Detected frames:  861\n"
     ]
    },
    {
     "name": "stderr",
     "output_type": "stream",
     "text": [
      "\n"
     ]
    },
    {
     "name": "stdout",
     "output_type": "stream",
     "text": [
      "Saving results in E:\\movies\\ar2breathing\\10_08_19...\n",
      "Saving csv poses!\n",
      "Starting to analyze %  E:\\movies\\ar2breathing\\10_08_19\\20-17-32R.avi\n",
      "Loading  E:\\movies\\ar2breathing\\10_08_19\\20-17-32R.avi\n",
      "Duration of video [s]:  2.12 , recorded with  200.0 fps!\n",
      "Overall # of frames:  423  found with (before cropping) frame dimensions:  202 181\n",
      "Starting to extract posture\n"
     ]
    },
    {
     "name": "stderr",
     "output_type": "stream",
     "text": [
      "430it [00:12, 31.43it/s]                                                                                               "
     ]
    },
    {
     "name": "stdout",
     "output_type": "stream",
     "text": [
      "Detected frames:  423\n"
     ]
    },
    {
     "name": "stderr",
     "output_type": "stream",
     "text": [
      "\n"
     ]
    },
    {
     "name": "stdout",
     "output_type": "stream",
     "text": [
      "Saving results in E:\\movies\\ar2breathing\\10_08_19...\n",
      "Saving csv poses!\n",
      "Starting to analyze %  E:\\movies\\ar2breathing\\10_08_19\\20-17-50R.avi\n",
      "Loading  E:\\movies\\ar2breathing\\10_08_19\\20-17-50R.avi\n",
      "Duration of video [s]:  2.17 , recorded with  200.0 fps!\n",
      "Overall # of frames:  433  found with (before cropping) frame dimensions:  202 181\n",
      "Starting to extract posture\n"
     ]
    },
    {
     "name": "stderr",
     "output_type": "stream",
     "text": [
      "440it [00:13, 33.64it/s]                                                                                               "
     ]
    },
    {
     "name": "stdout",
     "output_type": "stream",
     "text": [
      "Detected frames:  433\n"
     ]
    },
    {
     "name": "stderr",
     "output_type": "stream",
     "text": [
      "\n"
     ]
    },
    {
     "name": "stdout",
     "output_type": "stream",
     "text": [
      "Saving results in E:\\movies\\ar2breathing\\10_08_19...\n",
      "Saving csv poses!\n",
      "Starting to analyze %  E:\\movies\\ar2breathing\\10_08_19\\20-18-08R.avi\n",
      "Loading  E:\\movies\\ar2breathing\\10_08_19\\20-18-08R.avi\n",
      "Duration of video [s]:  4.3 , recorded with  200.0 fps!\n",
      "Overall # of frames:  860  found with (before cropping) frame dimensions:  202 181\n",
      "Starting to extract posture\n"
     ]
    },
    {
     "name": "stderr",
     "output_type": "stream",
     "text": [
      "870it [00:26, 32.08it/s]                                                                                               "
     ]
    },
    {
     "name": "stdout",
     "output_type": "stream",
     "text": [
      "Detected frames:  860\n"
     ]
    },
    {
     "name": "stderr",
     "output_type": "stream",
     "text": [
      "\n"
     ]
    },
    {
     "name": "stdout",
     "output_type": "stream",
     "text": [
      "Saving results in E:\\movies\\ar2breathing\\10_08_19...\n",
      "Saving csv poses!\n",
      "Starting to analyze %  E:\\movies\\ar2breathing\\10_08_19\\20-18-27R.avi\n",
      "Loading  E:\\movies\\ar2breathing\\10_08_19\\20-18-27R.avi\n",
      "Duration of video [s]:  2.4 , recorded with  200.0 fps!\n",
      "Overall # of frames:  480  found with (before cropping) frame dimensions:  202 181\n",
      "Starting to extract posture\n"
     ]
    },
    {
     "name": "stderr",
     "output_type": "stream",
     "text": [
      "490it [00:14, 32.31it/s]                                                                                               "
     ]
    },
    {
     "name": "stdout",
     "output_type": "stream",
     "text": [
      "Detected frames:  480\n"
     ]
    },
    {
     "name": "stderr",
     "output_type": "stream",
     "text": [
      "\n"
     ]
    },
    {
     "name": "stdout",
     "output_type": "stream",
     "text": [
      "Saving results in E:\\movies\\ar2breathing\\10_08_19...\n",
      "Saving csv poses!\n",
      "Starting to analyze %  E:\\movies\\ar2breathing\\10_08_19\\20-18-54R.avi\n",
      "Loading  E:\\movies\\ar2breathing\\10_08_19\\20-18-54R.avi\n",
      "Duration of video [s]:  4.93 , recorded with  200.0 fps!\n",
      "Overall # of frames:  986  found with (before cropping) frame dimensions:  202 181\n",
      "Starting to extract posture\n"
     ]
    },
    {
     "name": "stderr",
     "output_type": "stream",
     "text": [
      "990it [00:30, 31.42it/s]                                                                                               "
     ]
    },
    {
     "name": "stdout",
     "output_type": "stream",
     "text": [
      "Detected frames:  986\n"
     ]
    },
    {
     "name": "stderr",
     "output_type": "stream",
     "text": [
      "\n"
     ]
    },
    {
     "name": "stdout",
     "output_type": "stream",
     "text": [
      "Saving results in E:\\movies\\ar2breathing\\10_08_19...\n",
      "Saving csv poses!\n",
      "Starting to analyze %  E:\\movies\\ar2breathing\\10_08_19\\20-19-12R.avi\n",
      "Loading  E:\\movies\\ar2breathing\\10_08_19\\20-19-12R.avi\n",
      "Duration of video [s]:  4.88 , recorded with  200.0 fps!\n",
      "Overall # of frames:  977  found with (before cropping) frame dimensions:  202 181\n",
      "Starting to extract posture\n"
     ]
    },
    {
     "name": "stderr",
     "output_type": "stream",
     "text": [
      "980it [00:30, 32.32it/s]                                                                                               "
     ]
    },
    {
     "name": "stdout",
     "output_type": "stream",
     "text": [
      "Detected frames:  977\n"
     ]
    },
    {
     "name": "stderr",
     "output_type": "stream",
     "text": [
      "\n"
     ]
    },
    {
     "name": "stdout",
     "output_type": "stream",
     "text": [
      "Saving results in E:\\movies\\ar2breathing\\10_08_19...\n",
      "Saving csv poses!\n",
      "Starting to analyze %  E:\\movies\\ar2breathing\\10_08_19\\20-19-32R.avi\n",
      "Loading  E:\\movies\\ar2breathing\\10_08_19\\20-19-32R.avi\n",
      "Duration of video [s]:  4.03 , recorded with  200.0 fps!\n",
      "Overall # of frames:  805  found with (before cropping) frame dimensions:  202 181\n",
      "Starting to extract posture\n"
     ]
    },
    {
     "name": "stderr",
     "output_type": "stream",
     "text": [
      "810it [00:24, 30.42it/s]                                                                                               "
     ]
    },
    {
     "name": "stdout",
     "output_type": "stream",
     "text": [
      "Detected frames:  805\n"
     ]
    },
    {
     "name": "stderr",
     "output_type": "stream",
     "text": [
      "\n"
     ]
    },
    {
     "name": "stdout",
     "output_type": "stream",
     "text": [
      "Saving results in E:\\movies\\ar2breathing\\10_08_19...\n",
      "Saving csv poses!\n",
      "Starting to analyze %  E:\\movies\\ar2breathing\\10_08_19\\20-19-50R.avi\n",
      "Loading  E:\\movies\\ar2breathing\\10_08_19\\20-19-50R.avi\n",
      "Duration of video [s]:  5.0 , recorded with  200.0 fps!\n",
      "Overall # of frames:  1000  found with (before cropping) frame dimensions:  202 181\n",
      "Starting to extract posture\n"
     ]
    },
    {
     "name": "stderr",
     "output_type": "stream",
     "text": [
      "1010it [00:30, 31.16it/s]                                                                                              "
     ]
    },
    {
     "name": "stdout",
     "output_type": "stream",
     "text": [
      "Detected frames:  1000\n"
     ]
    },
    {
     "name": "stderr",
     "output_type": "stream",
     "text": [
      "\n"
     ]
    },
    {
     "name": "stdout",
     "output_type": "stream",
     "text": [
      "Saving results in E:\\movies\\ar2breathing\\10_08_19...\n",
      "Saving csv poses!\n",
      "Starting to analyze %  E:\\movies\\ar2breathing\\10_08_19\\20-20-09R.avi\n",
      "Loading  E:\\movies\\ar2breathing\\10_08_19\\20-20-09R.avi\n",
      "Duration of video [s]:  4.39 , recorded with  200.0 fps!\n",
      "Overall # of frames:  879  found with (before cropping) frame dimensions:  202 181\n",
      "Starting to extract posture\n"
     ]
    },
    {
     "name": "stderr",
     "output_type": "stream",
     "text": [
      "880it [00:27, 33.35it/s]                                                                                               "
     ]
    },
    {
     "name": "stdout",
     "output_type": "stream",
     "text": [
      "Detected frames:  879\n"
     ]
    },
    {
     "name": "stderr",
     "output_type": "stream",
     "text": [
      "\n"
     ]
    },
    {
     "name": "stdout",
     "output_type": "stream",
     "text": [
      "Saving results in E:\\movies\\ar2breathing\\10_08_19...\n",
      "Saving csv poses!\n",
      "Starting to analyze %  E:\\movies\\ar2breathing\\10_08_19\\20-20-38R.avi\n",
      "Loading  E:\\movies\\ar2breathing\\10_08_19\\20-20-38R.avi\n",
      "Duration of video [s]:  2.5 , recorded with  200.0 fps!\n",
      "Overall # of frames:  500  found with (before cropping) frame dimensions:  202 181\n",
      "Starting to extract posture\n"
     ]
    },
    {
     "name": "stderr",
     "output_type": "stream",
     "text": [
      "510it [00:15, 31.30it/s]                                                                                               "
     ]
    },
    {
     "name": "stdout",
     "output_type": "stream",
     "text": [
      "Detected frames:  500\n"
     ]
    },
    {
     "name": "stderr",
     "output_type": "stream",
     "text": [
      "\n"
     ]
    },
    {
     "name": "stdout",
     "output_type": "stream",
     "text": [
      "Saving results in E:\\movies\\ar2breathing\\10_08_19...\n",
      "Saving csv poses!\n",
      "Starting to analyze %  E:\\movies\\ar2breathing\\10_08_19\\20-20-56R.avi\n",
      "Loading  E:\\movies\\ar2breathing\\10_08_19\\20-20-56R.avi\n",
      "Duration of video [s]:  3.33 , recorded with  200.0 fps!\n",
      "Overall # of frames:  667  found with (before cropping) frame dimensions:  202 181\n",
      "Starting to extract posture\n"
     ]
    },
    {
     "name": "stderr",
     "output_type": "stream",
     "text": [
      "670it [00:20, 30.20it/s]                                                                                               "
     ]
    },
    {
     "name": "stdout",
     "output_type": "stream",
     "text": [
      "Detected frames:  667\n"
     ]
    },
    {
     "name": "stderr",
     "output_type": "stream",
     "text": [
      "\n"
     ]
    },
    {
     "name": "stdout",
     "output_type": "stream",
     "text": [
      "Saving results in E:\\movies\\ar2breathing\\10_08_19...\n",
      "Saving csv poses!\n",
      "Starting to analyze %  E:\\movies\\ar2breathing\\10_08_19\\20-21-14R.avi\n",
      "Loading  E:\\movies\\ar2breathing\\10_08_19\\20-21-14R.avi\n",
      "Duration of video [s]:  4.55 , recorded with  200.0 fps!\n",
      "Overall # of frames:  910  found with (before cropping) frame dimensions:  202 181\n",
      "Starting to extract posture\n"
     ]
    },
    {
     "name": "stderr",
     "output_type": "stream",
     "text": [
      "920it [00:27, 34.98it/s]                                                                                               "
     ]
    },
    {
     "name": "stdout",
     "output_type": "stream",
     "text": [
      "Detected frames:  910\n"
     ]
    },
    {
     "name": "stderr",
     "output_type": "stream",
     "text": [
      "\n"
     ]
    },
    {
     "name": "stdout",
     "output_type": "stream",
     "text": [
      "Saving results in E:\\movies\\ar2breathing\\10_08_19...\n",
      "Saving csv poses!\n",
      "Starting to analyze %  E:\\movies\\ar2breathing\\10_08_19\\20-21-32R.avi\n",
      "Loading  E:\\movies\\ar2breathing\\10_08_19\\20-21-32R.avi\n",
      "Duration of video [s]:  4.75 , recorded with  200.0 fps!\n",
      "Overall # of frames:  949  found with (before cropping) frame dimensions:  202 181\n",
      "Starting to extract posture\n"
     ]
    },
    {
     "name": "stderr",
     "output_type": "stream",
     "text": [
      "950it [00:28, 31.76it/s]                                                                                               "
     ]
    },
    {
     "name": "stdout",
     "output_type": "stream",
     "text": [
      "Detected frames:  949\n"
     ]
    },
    {
     "name": "stderr",
     "output_type": "stream",
     "text": [
      "\n"
     ]
    },
    {
     "name": "stdout",
     "output_type": "stream",
     "text": [
      "Saving results in E:\\movies\\ar2breathing\\10_08_19...\n",
      "Saving csv poses!\n",
      "Starting to analyze %  E:\\movies\\ar2breathing\\10_08_19\\20-21-51R.avi\n",
      "Loading  E:\\movies\\ar2breathing\\10_08_19\\20-21-51R.avi\n",
      "Duration of video [s]:  4.01 , recorded with  200.0 fps!\n",
      "Overall # of frames:  803  found with (before cropping) frame dimensions:  202 181\n",
      "Starting to extract posture\n"
     ]
    },
    {
     "name": "stderr",
     "output_type": "stream",
     "text": [
      "810it [00:24, 32.02it/s]                                                                                               "
     ]
    },
    {
     "name": "stdout",
     "output_type": "stream",
     "text": [
      "Detected frames:  803\n"
     ]
    },
    {
     "name": "stderr",
     "output_type": "stream",
     "text": [
      "\n"
     ]
    },
    {
     "name": "stdout",
     "output_type": "stream",
     "text": [
      "Saving results in E:\\movies\\ar2breathing\\10_08_19...\n",
      "Saving csv poses!\n",
      "Starting to analyze %  E:\\movies\\ar2breathing\\10_08_19\\20-22-09R.avi\n",
      "Loading  E:\\movies\\ar2breathing\\10_08_19\\20-22-09R.avi\n",
      "Duration of video [s]:  3.1 , recorded with  200.0 fps!\n",
      "Overall # of frames:  619  found with (before cropping) frame dimensions:  202 181\n",
      "Starting to extract posture\n"
     ]
    },
    {
     "name": "stderr",
     "output_type": "stream",
     "text": [
      "620it [00:18, 34.59it/s]                                                                                               "
     ]
    },
    {
     "name": "stdout",
     "output_type": "stream",
     "text": [
      "Detected frames:  619\n"
     ]
    },
    {
     "name": "stderr",
     "output_type": "stream",
     "text": [
      "\n"
     ]
    },
    {
     "name": "stdout",
     "output_type": "stream",
     "text": [
      "Saving results in E:\\movies\\ar2breathing\\10_08_19...\n",
      "Saving csv poses!\n",
      "Starting to analyze %  E:\\movies\\ar2breathing\\10_08_19\\20-22-26R.avi\n",
      "Loading  E:\\movies\\ar2breathing\\10_08_19\\20-22-26R.avi\n",
      "Duration of video [s]:  3.5 , recorded with  200.0 fps!\n",
      "Overall # of frames:  699  found with (before cropping) frame dimensions:  202 181\n",
      "Starting to extract posture\n"
     ]
    },
    {
     "name": "stderr",
     "output_type": "stream",
     "text": [
      "700it [00:20, 33.79it/s]                                                                                               "
     ]
    },
    {
     "name": "stdout",
     "output_type": "stream",
     "text": [
      "Detected frames:  699\n"
     ]
    },
    {
     "name": "stderr",
     "output_type": "stream",
     "text": [
      "\n"
     ]
    },
    {
     "name": "stdout",
     "output_type": "stream",
     "text": [
      "Saving results in E:\\movies\\ar2breathing\\10_08_19...\n",
      "Saving csv poses!\n",
      "Starting to analyze %  E:\\movies\\ar2breathing\\10_08_19\\20-22-45R.avi\n",
      "Loading  E:\\movies\\ar2breathing\\10_08_19\\20-22-45R.avi\n",
      "Duration of video [s]:  4.46 , recorded with  200.0 fps!\n",
      "Overall # of frames:  893  found with (before cropping) frame dimensions:  202 181\n",
      "Starting to extract posture\n"
     ]
    },
    {
     "name": "stderr",
     "output_type": "stream",
     "text": [
      "900it [00:27, 33.90it/s]                                                                                               "
     ]
    },
    {
     "name": "stdout",
     "output_type": "stream",
     "text": [
      "Detected frames:  893\n"
     ]
    },
    {
     "name": "stderr",
     "output_type": "stream",
     "text": [
      "\n"
     ]
    },
    {
     "name": "stdout",
     "output_type": "stream",
     "text": [
      "Saving results in E:\\movies\\ar2breathing\\10_08_19...\n",
      "Saving csv poses!\n",
      "Starting to analyze %  E:\\movies\\ar2breathing\\10_08_19\\20-23-13R.avi\n",
      "Loading  E:\\movies\\ar2breathing\\10_08_19\\20-23-13R.avi\n",
      "Duration of video [s]:  4.64 , recorded with  200.0 fps!\n",
      "Overall # of frames:  929  found with (before cropping) frame dimensions:  202 181\n",
      "Starting to extract posture\n"
     ]
    },
    {
     "name": "stderr",
     "output_type": "stream",
     "text": [
      "930it [00:29, 29.45it/s]                                                                                               "
     ]
    },
    {
     "name": "stdout",
     "output_type": "stream",
     "text": [
      "Detected frames:  929\n"
     ]
    },
    {
     "name": "stderr",
     "output_type": "stream",
     "text": [
      "\n"
     ]
    },
    {
     "name": "stdout",
     "output_type": "stream",
     "text": [
      "Saving results in E:\\movies\\ar2breathing\\10_08_19...\n",
      "Saving csv poses!\n",
      "Starting to analyze %  E:\\movies\\ar2breathing\\10_08_19\\20-24-54R.avi\n",
      "Loading  E:\\movies\\ar2breathing\\10_08_19\\20-24-54R.avi\n",
      "Duration of video [s]:  4.19 , recorded with  200.0 fps!\n",
      "Overall # of frames:  838  found with (before cropping) frame dimensions:  202 181\n",
      "Starting to extract posture\n"
     ]
    },
    {
     "name": "stderr",
     "output_type": "stream",
     "text": [
      "840it [00:25, 34.07it/s]                                                                                               "
     ]
    },
    {
     "name": "stdout",
     "output_type": "stream",
     "text": [
      "Detected frames:  838\n"
     ]
    },
    {
     "name": "stderr",
     "output_type": "stream",
     "text": [
      "\n"
     ]
    },
    {
     "name": "stdout",
     "output_type": "stream",
     "text": [
      "Saving results in E:\\movies\\ar2breathing\\10_08_19...\n",
      "Saving csv poses!\n",
      "Starting to analyze %  E:\\movies\\ar2breathing\\10_08_19\\20-27-55R.avi\n",
      "Loading  E:\\movies\\ar2breathing\\10_08_19\\20-27-55R.avi\n",
      "Duration of video [s]:  3.97 , recorded with  200.0 fps!\n",
      "Overall # of frames:  794  found with (before cropping) frame dimensions:  202 181\n",
      "Starting to extract posture\n"
     ]
    },
    {
     "name": "stderr",
     "output_type": "stream",
     "text": [
      "800it [00:24, 32.99it/s]                                                                                               "
     ]
    },
    {
     "name": "stdout",
     "output_type": "stream",
     "text": [
      "Detected frames:  794\n"
     ]
    },
    {
     "name": "stderr",
     "output_type": "stream",
     "text": [
      "\n"
     ]
    },
    {
     "name": "stdout",
     "output_type": "stream",
     "text": [
      "Saving results in E:\\movies\\ar2breathing\\10_08_19...\n",
      "Saving csv poses!\n",
      "Starting to analyze %  E:\\movies\\ar2breathing\\10_08_19\\20-28-12R.avi\n",
      "Loading  E:\\movies\\ar2breathing\\10_08_19\\20-28-12R.avi\n",
      "Duration of video [s]:  2.55 , recorded with  200.0 fps!\n",
      "Overall # of frames:  510  found with (before cropping) frame dimensions:  202 181\n",
      "Starting to extract posture\n"
     ]
    },
    {
     "name": "stderr",
     "output_type": "stream",
     "text": [
      "520it [00:16, 32.80it/s]                                                                                               "
     ]
    },
    {
     "name": "stdout",
     "output_type": "stream",
     "text": [
      "Detected frames:  510\n"
     ]
    },
    {
     "name": "stderr",
     "output_type": "stream",
     "text": [
      "\n"
     ]
    },
    {
     "name": "stdout",
     "output_type": "stream",
     "text": [
      "Saving results in E:\\movies\\ar2breathing\\10_08_19...\n",
      "Saving csv poses!\n",
      "Starting to analyze %  E:\\movies\\ar2breathing\\10_08_19\\20-28-30R.avi\n",
      "Loading  E:\\movies\\ar2breathing\\10_08_19\\20-28-30R.avi\n",
      "Duration of video [s]:  2.55 , recorded with  200.0 fps!\n",
      "Overall # of frames:  510  found with (before cropping) frame dimensions:  202 181\n",
      "Starting to extract posture\n"
     ]
    },
    {
     "name": "stderr",
     "output_type": "stream",
     "text": [
      "520it [00:15, 31.79it/s]                                                                                               "
     ]
    },
    {
     "name": "stdout",
     "output_type": "stream",
     "text": [
      "Detected frames:  510\n"
     ]
    },
    {
     "name": "stderr",
     "output_type": "stream",
     "text": [
      "\n"
     ]
    },
    {
     "name": "stdout",
     "output_type": "stream",
     "text": [
      "Saving results in E:\\movies\\ar2breathing\\10_08_19...\n",
      "Saving csv poses!\n",
      "Starting to analyze %  E:\\movies\\ar2breathing\\10_08_19\\20-28-48R.avi\n",
      "Loading  E:\\movies\\ar2breathing\\10_08_19\\20-28-48R.avi\n",
      "Duration of video [s]:  1.56 , recorded with  200.0 fps!\n",
      "Overall # of frames:  312  found with (before cropping) frame dimensions:  202 181\n",
      "Starting to extract posture\n"
     ]
    },
    {
     "name": "stderr",
     "output_type": "stream",
     "text": [
      "320it [00:09, 31.34it/s]                                                                                               "
     ]
    },
    {
     "name": "stdout",
     "output_type": "stream",
     "text": [
      "Detected frames:  312\n"
     ]
    },
    {
     "name": "stderr",
     "output_type": "stream",
     "text": [
      "\n"
     ]
    },
    {
     "name": "stdout",
     "output_type": "stream",
     "text": [
      "Saving results in E:\\movies\\ar2breathing\\10_08_19...\n",
      "Saving csv poses!\n",
      "Starting to analyze %  E:\\movies\\ar2breathing\\10_08_19\\20-29-05R.avi\n",
      "Loading  E:\\movies\\ar2breathing\\10_08_19\\20-29-05R.avi\n",
      "Duration of video [s]:  2.87 , recorded with  200.0 fps!\n",
      "Overall # of frames:  574  found with (before cropping) frame dimensions:  202 181\n",
      "Starting to extract posture\n"
     ]
    },
    {
     "name": "stderr",
     "output_type": "stream",
     "text": [
      "580it [00:17, 35.13it/s]                                                                                               "
     ]
    },
    {
     "name": "stdout",
     "output_type": "stream",
     "text": [
      "Detected frames:  574\n"
     ]
    },
    {
     "name": "stderr",
     "output_type": "stream",
     "text": [
      "\n"
     ]
    },
    {
     "name": "stdout",
     "output_type": "stream",
     "text": [
      "Saving results in E:\\movies\\ar2breathing\\10_08_19...\n",
      "Saving csv poses!\n",
      "Starting to analyze %  E:\\movies\\ar2breathing\\10_08_19\\20-29-23R.avi\n",
      "Loading  E:\\movies\\ar2breathing\\10_08_19\\20-29-23R.avi\n",
      "Duration of video [s]:  2.4 , recorded with  200.0 fps!\n",
      "Overall # of frames:  481  found with (before cropping) frame dimensions:  202 181\n",
      "Starting to extract posture\n"
     ]
    },
    {
     "name": "stderr",
     "output_type": "stream",
     "text": [
      "490it [00:15, 31.32it/s]                                                                                               "
     ]
    },
    {
     "name": "stdout",
     "output_type": "stream",
     "text": [
      "Detected frames:  481\n"
     ]
    },
    {
     "name": "stderr",
     "output_type": "stream",
     "text": [
      "\n"
     ]
    },
    {
     "name": "stdout",
     "output_type": "stream",
     "text": [
      "Saving results in E:\\movies\\ar2breathing\\10_08_19...\n",
      "Saving csv poses!\n",
      "Starting to analyze %  E:\\movies\\ar2breathing\\10_08_19\\20-29-42R.avi\n",
      "Loading  E:\\movies\\ar2breathing\\10_08_19\\20-29-42R.avi\n",
      "Duration of video [s]:  3.79 , recorded with  200.0 fps!\n",
      "Overall # of frames:  758  found with (before cropping) frame dimensions:  202 181\n",
      "Starting to extract posture\n"
     ]
    },
    {
     "name": "stderr",
     "output_type": "stream",
     "text": [
      "760it [00:23, 33.71it/s]                                                                                               "
     ]
    },
    {
     "name": "stdout",
     "output_type": "stream",
     "text": [
      "Detected frames:  758\n"
     ]
    },
    {
     "name": "stderr",
     "output_type": "stream",
     "text": [
      "\n"
     ]
    },
    {
     "name": "stdout",
     "output_type": "stream",
     "text": [
      "Saving results in E:\\movies\\ar2breathing\\10_08_19...\n",
      "Saving csv poses!\n",
      "Starting to analyze %  E:\\movies\\ar2breathing\\10_08_19\\20-30-00R.avi\n",
      "Loading  E:\\movies\\ar2breathing\\10_08_19\\20-30-00R.avi\n",
      "Duration of video [s]:  4.43 , recorded with  200.0 fps!\n",
      "Overall # of frames:  886  found with (before cropping) frame dimensions:  202 181\n",
      "Starting to extract posture\n"
     ]
    },
    {
     "name": "stderr",
     "output_type": "stream",
     "text": [
      "890it [00:27, 28.43it/s]                                                                                               "
     ]
    },
    {
     "name": "stdout",
     "output_type": "stream",
     "text": [
      "Detected frames:  886\n"
     ]
    },
    {
     "name": "stderr",
     "output_type": "stream",
     "text": [
      "\n"
     ]
    },
    {
     "name": "stdout",
     "output_type": "stream",
     "text": [
      "Saving results in E:\\movies\\ar2breathing\\10_08_19...\n",
      "Saving csv poses!\n",
      "Starting to analyze %  E:\\movies\\ar2breathing\\10_08_19\\20-30-18R.avi\n",
      "Loading  E:\\movies\\ar2breathing\\10_08_19\\20-30-18R.avi\n",
      "Duration of video [s]:  2.01 , recorded with  200.0 fps!\n",
      "Overall # of frames:  402  found with (before cropping) frame dimensions:  202 181\n",
      "Starting to extract posture\n"
     ]
    },
    {
     "name": "stderr",
     "output_type": "stream",
     "text": [
      "410it [00:13, 29.88it/s]                                                                                               "
     ]
    },
    {
     "name": "stdout",
     "output_type": "stream",
     "text": [
      "Detected frames:  402\n"
     ]
    },
    {
     "name": "stderr",
     "output_type": "stream",
     "text": [
      "\n"
     ]
    },
    {
     "name": "stdout",
     "output_type": "stream",
     "text": [
      "Saving results in E:\\movies\\ar2breathing\\10_08_19...\n",
      "Saving csv poses!\n",
      "Starting to analyze %  E:\\movies\\ar2breathing\\10_08_19\\20-30-36R.avi\n",
      "Loading  E:\\movies\\ar2breathing\\10_08_19\\20-30-36R.avi\n",
      "Duration of video [s]:  4.36 , recorded with  200.0 fps!\n",
      "Overall # of frames:  872  found with (before cropping) frame dimensions:  202 181\n",
      "Starting to extract posture\n"
     ]
    },
    {
     "name": "stderr",
     "output_type": "stream",
     "text": [
      "880it [00:28, 32.31it/s]                                                                                               "
     ]
    },
    {
     "name": "stdout",
     "output_type": "stream",
     "text": [
      "Detected frames:  872\n"
     ]
    },
    {
     "name": "stderr",
     "output_type": "stream",
     "text": [
      "\n"
     ]
    },
    {
     "name": "stdout",
     "output_type": "stream",
     "text": [
      "Saving results in E:\\movies\\ar2breathing\\10_08_19...\n",
      "Saving csv poses!\n",
      "Starting to analyze %  E:\\movies\\ar2breathing\\10_08_19\\20-30-54R.avi\n",
      "Loading  E:\\movies\\ar2breathing\\10_08_19\\20-30-54R.avi\n",
      "Duration of video [s]:  3.38 , recorded with  200.0 fps!\n",
      "Overall # of frames:  675  found with (before cropping) frame dimensions:  202 181\n",
      "Starting to extract posture\n"
     ]
    },
    {
     "name": "stderr",
     "output_type": "stream",
     "text": [
      "680it [00:21, 33.14it/s]                                                                                               "
     ]
    },
    {
     "name": "stdout",
     "output_type": "stream",
     "text": [
      "Detected frames:  675\n"
     ]
    },
    {
     "name": "stderr",
     "output_type": "stream",
     "text": [
      "\n"
     ]
    },
    {
     "name": "stdout",
     "output_type": "stream",
     "text": [
      "Saving results in E:\\movies\\ar2breathing\\10_08_19...\n",
      "Saving csv poses!\n",
      "Starting to analyze %  E:\\movies\\ar2breathing\\10_08_19\\20-31-12R.avi\n",
      "Loading  E:\\movies\\ar2breathing\\10_08_19\\20-31-12R.avi\n",
      "Duration of video [s]:  2.75 , recorded with  200.0 fps!\n",
      "Overall # of frames:  550  found with (before cropping) frame dimensions:  202 181\n",
      "Starting to extract posture\n"
     ]
    },
    {
     "name": "stderr",
     "output_type": "stream",
     "text": [
      "560it [00:17, 32.30it/s]                                                                                               "
     ]
    },
    {
     "name": "stdout",
     "output_type": "stream",
     "text": [
      "Detected frames:  550\n"
     ]
    },
    {
     "name": "stderr",
     "output_type": "stream",
     "text": [
      "\n"
     ]
    },
    {
     "name": "stdout",
     "output_type": "stream",
     "text": [
      "Saving results in E:\\movies\\ar2breathing\\10_08_19...\n",
      "Saving csv poses!\n",
      "Starting to analyze %  E:\\movies\\ar2breathing\\10_08_19\\20-31-30R.avi\n",
      "Loading  E:\\movies\\ar2breathing\\10_08_19\\20-31-30R.avi\n",
      "Duration of video [s]:  2.35 , recorded with  200.0 fps!\n",
      "Overall # of frames:  471  found with (before cropping) frame dimensions:  202 181\n",
      "Starting to extract posture\n"
     ]
    },
    {
     "name": "stderr",
     "output_type": "stream",
     "text": [
      "480it [00:14, 34.29it/s]                                                                                               "
     ]
    },
    {
     "name": "stdout",
     "output_type": "stream",
     "text": [
      "Detected frames:  471\n"
     ]
    },
    {
     "name": "stderr",
     "output_type": "stream",
     "text": [
      "\n"
     ]
    },
    {
     "name": "stdout",
     "output_type": "stream",
     "text": [
      "Saving results in E:\\movies\\ar2breathing\\10_08_19...\n",
      "Saving csv poses!\n",
      "Starting to analyze %  E:\\movies\\ar2breathing\\10_08_19\\20-31-48R.avi\n",
      "Loading  E:\\movies\\ar2breathing\\10_08_19\\20-31-48R.avi\n",
      "Duration of video [s]:  3.31 , recorded with  200.0 fps!\n",
      "Overall # of frames:  662  found with (before cropping) frame dimensions:  202 181\n",
      "Starting to extract posture\n"
     ]
    },
    {
     "name": "stderr",
     "output_type": "stream",
     "text": [
      "670it [00:20, 30.83it/s]                                                                                               "
     ]
    },
    {
     "name": "stdout",
     "output_type": "stream",
     "text": [
      "Detected frames:  662\n"
     ]
    },
    {
     "name": "stderr",
     "output_type": "stream",
     "text": [
      "\n"
     ]
    },
    {
     "name": "stdout",
     "output_type": "stream",
     "text": [
      "Saving results in E:\\movies\\ar2breathing\\10_08_19...\n",
      "Saving csv poses!\n",
      "Starting to analyze %  E:\\movies\\ar2breathing\\10_08_19\\20-32-07R.avi\n",
      "Loading  E:\\movies\\ar2breathing\\10_08_19\\20-32-07R.avi\n",
      "Duration of video [s]:  5.0 , recorded with  200.0 fps!\n",
      "Overall # of frames:  1000  found with (before cropping) frame dimensions:  202 181\n",
      "Starting to extract posture\n"
     ]
    },
    {
     "name": "stderr",
     "output_type": "stream",
     "text": [
      "1010it [00:30, 32.29it/s]                                                                                              "
     ]
    },
    {
     "name": "stdout",
     "output_type": "stream",
     "text": [
      "Detected frames:  1000\n"
     ]
    },
    {
     "name": "stderr",
     "output_type": "stream",
     "text": [
      "\n"
     ]
    },
    {
     "name": "stdout",
     "output_type": "stream",
     "text": [
      "Saving results in E:\\movies\\ar2breathing\\10_08_19...\n",
      "Saving csv poses!\n",
      "Starting to analyze %  E:\\movies\\ar2breathing\\10_08_19\\20-32-26R.avi\n",
      "Loading  E:\\movies\\ar2breathing\\10_08_19\\20-32-26R.avi\n",
      "Duration of video [s]:  2.94 , recorded with  200.0 fps!\n",
      "Overall # of frames:  587  found with (before cropping) frame dimensions:  202 181\n",
      "Starting to extract posture\n"
     ]
    },
    {
     "name": "stderr",
     "output_type": "stream",
     "text": [
      "590it [00:18, 29.78it/s]                                                                                               "
     ]
    },
    {
     "name": "stdout",
     "output_type": "stream",
     "text": [
      "Detected frames:  587\n"
     ]
    },
    {
     "name": "stderr",
     "output_type": "stream",
     "text": [
      "\n"
     ]
    },
    {
     "name": "stdout",
     "output_type": "stream",
     "text": [
      "Saving results in E:\\movies\\ar2breathing\\10_08_19...\n",
      "Saving csv poses!\n",
      "Starting to analyze %  E:\\movies\\ar2breathing\\10_08_19\\20-32-53R.avi\n",
      "Loading  E:\\movies\\ar2breathing\\10_08_19\\20-32-53R.avi\n",
      "Duration of video [s]:  3.99 , recorded with  200.0 fps!\n",
      "Overall # of frames:  798  found with (before cropping) frame dimensions:  202 181\n",
      "Starting to extract posture\n"
     ]
    },
    {
     "name": "stderr",
     "output_type": "stream",
     "text": [
      "800it [00:25, 33.90it/s]                                                                                               "
     ]
    },
    {
     "name": "stdout",
     "output_type": "stream",
     "text": [
      "Detected frames:  798\n"
     ]
    },
    {
     "name": "stderr",
     "output_type": "stream",
     "text": [
      "\n"
     ]
    },
    {
     "name": "stdout",
     "output_type": "stream",
     "text": [
      "Saving results in E:\\movies\\ar2breathing\\10_08_19...\n",
      "Saving csv poses!\n",
      "Starting to analyze %  E:\\movies\\ar2breathing\\10_08_19\\20-33-12R.avi\n",
      "Loading  E:\\movies\\ar2breathing\\10_08_19\\20-33-12R.avi\n",
      "Duration of video [s]:  4.5 , recorded with  200.0 fps!\n",
      "Overall # of frames:  900  found with (before cropping) frame dimensions:  202 181\n",
      "Starting to extract posture\n"
     ]
    },
    {
     "name": "stderr",
     "output_type": "stream",
     "text": [
      "910it [00:27, 28.58it/s]                                                                                               "
     ]
    },
    {
     "name": "stdout",
     "output_type": "stream",
     "text": [
      "Detected frames:  900\n"
     ]
    },
    {
     "name": "stderr",
     "output_type": "stream",
     "text": [
      "\n"
     ]
    },
    {
     "name": "stdout",
     "output_type": "stream",
     "text": [
      "Saving results in E:\\movies\\ar2breathing\\10_08_19...\n",
      "Saving csv poses!\n",
      "Starting to analyze %  E:\\movies\\ar2breathing\\10_08_19\\20-33-30R.avi\n",
      "Loading  E:\\movies\\ar2breathing\\10_08_19\\20-33-30R.avi\n",
      "Duration of video [s]:  3.1 , recorded with  200.0 fps!\n",
      "Overall # of frames:  619  found with (before cropping) frame dimensions:  202 181\n",
      "Starting to extract posture\n"
     ]
    },
    {
     "name": "stderr",
     "output_type": "stream",
     "text": [
      "620it [00:19, 32.51it/s]                                                                                               "
     ]
    },
    {
     "name": "stdout",
     "output_type": "stream",
     "text": [
      "Detected frames:  619\n"
     ]
    },
    {
     "name": "stderr",
     "output_type": "stream",
     "text": [
      "\n"
     ]
    },
    {
     "name": "stdout",
     "output_type": "stream",
     "text": [
      "Saving results in E:\\movies\\ar2breathing\\10_08_19...\n",
      "Saving csv poses!\n",
      "Starting to analyze %  E:\\movies\\ar2breathing\\10_08_19\\20-33-48R.avi\n",
      "Loading  E:\\movies\\ar2breathing\\10_08_19\\20-33-48R.avi\n",
      "Duration of video [s]:  3.23 , recorded with  200.0 fps!\n",
      "Overall # of frames:  645  found with (before cropping) frame dimensions:  202 181\n",
      "Starting to extract posture\n"
     ]
    },
    {
     "name": "stderr",
     "output_type": "stream",
     "text": [
      "650it [00:19, 32.01it/s]                                                                                               "
     ]
    },
    {
     "name": "stdout",
     "output_type": "stream",
     "text": [
      "Detected frames:  645\n"
     ]
    },
    {
     "name": "stderr",
     "output_type": "stream",
     "text": [
      "\n"
     ]
    },
    {
     "name": "stdout",
     "output_type": "stream",
     "text": [
      "Saving results in E:\\movies\\ar2breathing\\10_08_19...\n",
      "Saving csv poses!\n",
      "Starting to analyze %  E:\\movies\\ar2breathing\\10_08_19\\20-34-08R.avi\n",
      "Loading  E:\\movies\\ar2breathing\\10_08_19\\20-34-08R.avi\n",
      "Duration of video [s]:  3.78 , recorded with  200.0 fps!\n",
      "Overall # of frames:  756  found with (before cropping) frame dimensions:  202 181\n",
      "Starting to extract posture\n"
     ]
    },
    {
     "name": "stderr",
     "output_type": "stream",
     "text": [
      "760it [00:22, 34.14it/s]                                                                                               "
     ]
    },
    {
     "name": "stdout",
     "output_type": "stream",
     "text": [
      "Detected frames:  756\n"
     ]
    },
    {
     "name": "stderr",
     "output_type": "stream",
     "text": [
      "\n"
     ]
    },
    {
     "name": "stdout",
     "output_type": "stream",
     "text": [
      "Saving results in E:\\movies\\ar2breathing\\10_08_19...\n",
      "Saving csv poses!\n",
      "Starting to analyze %  E:\\movies\\ar2breathing\\10_08_19\\20-34-27R.avi\n",
      "Loading  E:\\movies\\ar2breathing\\10_08_19\\20-34-27R.avi\n",
      "Duration of video [s]:  5.0 , recorded with  200.0 fps!\n",
      "Overall # of frames:  1000  found with (before cropping) frame dimensions:  202 181\n",
      "Starting to extract posture\n"
     ]
    },
    {
     "name": "stderr",
     "output_type": "stream",
     "text": [
      "1010it [00:31, 30.48it/s]                                                                                              "
     ]
    },
    {
     "name": "stdout",
     "output_type": "stream",
     "text": [
      "Detected frames:  1000\n"
     ]
    },
    {
     "name": "stderr",
     "output_type": "stream",
     "text": [
      "\n"
     ]
    },
    {
     "name": "stdout",
     "output_type": "stream",
     "text": [
      "Saving results in E:\\movies\\ar2breathing\\10_08_19...\n",
      "Saving csv poses!\n",
      "Starting to analyze %  E:\\movies\\ar2breathing\\10_08_19\\20-34-46R.avi\n",
      "Loading  E:\\movies\\ar2breathing\\10_08_19\\20-34-46R.avi\n",
      "Duration of video [s]:  4.58 , recorded with  200.0 fps!\n",
      "Overall # of frames:  917  found with (before cropping) frame dimensions:  202 181\n",
      "Starting to extract posture\n"
     ]
    },
    {
     "name": "stderr",
     "output_type": "stream",
     "text": [
      "920it [00:28, 32.32it/s]                                                                                               "
     ]
    },
    {
     "name": "stdout",
     "output_type": "stream",
     "text": [
      "Detected frames:  917\n"
     ]
    },
    {
     "name": "stderr",
     "output_type": "stream",
     "text": [
      "\n"
     ]
    },
    {
     "name": "stdout",
     "output_type": "stream",
     "text": [
      "Saving results in E:\\movies\\ar2breathing\\10_08_19...\n",
      "Saving csv poses!\n",
      "Starting to analyze %  E:\\movies\\ar2breathing\\10_08_19\\20-35-33R.avi\n",
      "Loading  E:\\movies\\ar2breathing\\10_08_19\\20-35-33R.avi\n",
      "Duration of video [s]:  4.42 , recorded with  200.0 fps!\n",
      "Overall # of frames:  884  found with (before cropping) frame dimensions:  202 181\n",
      "Starting to extract posture\n"
     ]
    },
    {
     "name": "stderr",
     "output_type": "stream",
     "text": [
      "890it [00:27, 30.95it/s]                                                                                               "
     ]
    },
    {
     "name": "stdout",
     "output_type": "stream",
     "text": [
      "Detected frames:  884\n"
     ]
    },
    {
     "name": "stderr",
     "output_type": "stream",
     "text": [
      "\n"
     ]
    },
    {
     "name": "stdout",
     "output_type": "stream",
     "text": [
      "Saving results in E:\\movies\\ar2breathing\\10_08_19...\n",
      "Saving csv poses!\n",
      "Starting to analyze %  E:\\movies\\ar2breathing\\10_08_19\\20-35-55R.avi\n",
      "Loading  E:\\movies\\ar2breathing\\10_08_19\\20-35-55R.avi\n",
      "Duration of video [s]:  3.38 , recorded with  200.0 fps!\n",
      "Overall # of frames:  675  found with (before cropping) frame dimensions:  202 181\n",
      "Starting to extract posture\n"
     ]
    },
    {
     "name": "stderr",
     "output_type": "stream",
     "text": [
      "680it [00:20, 34.61it/s]                                                                                               "
     ]
    },
    {
     "name": "stdout",
     "output_type": "stream",
     "text": [
      "Detected frames:  675\n"
     ]
    },
    {
     "name": "stderr",
     "output_type": "stream",
     "text": [
      "\n"
     ]
    },
    {
     "name": "stdout",
     "output_type": "stream",
     "text": [
      "Saving results in E:\\movies\\ar2breathing\\10_08_19...\n",
      "Saving csv poses!\n",
      "Starting to analyze %  E:\\movies\\ar2breathing\\10_08_19\\20-36-15R.avi\n",
      "Loading  E:\\movies\\ar2breathing\\10_08_19\\20-36-15R.avi\n",
      "Duration of video [s]:  2.78 , recorded with  200.0 fps!\n",
      "Overall # of frames:  556  found with (before cropping) frame dimensions:  202 181\n",
      "Starting to extract posture\n"
     ]
    },
    {
     "name": "stderr",
     "output_type": "stream",
     "text": [
      "560it [00:16, 33.13it/s]                                                                                               "
     ]
    },
    {
     "name": "stdout",
     "output_type": "stream",
     "text": [
      "Detected frames:  556\n"
     ]
    },
    {
     "name": "stderr",
     "output_type": "stream",
     "text": [
      "\n"
     ]
    },
    {
     "name": "stdout",
     "output_type": "stream",
     "text": [
      "Saving results in E:\\movies\\ar2breathing\\10_08_19...\n",
      "Saving csv poses!\n",
      "Starting to analyze %  E:\\movies\\ar2breathing\\10_08_19\\20-36-34R.avi\n",
      "Loading  E:\\movies\\ar2breathing\\10_08_19\\20-36-34R.avi\n",
      "Duration of video [s]:  3.85 , recorded with  200.0 fps!\n",
      "Overall # of frames:  769  found with (before cropping) frame dimensions:  202 181\n",
      "Starting to extract posture\n"
     ]
    },
    {
     "name": "stderr",
     "output_type": "stream",
     "text": [
      "770it [00:24, 31.97it/s]                                                                                               "
     ]
    },
    {
     "name": "stdout",
     "output_type": "stream",
     "text": [
      "Detected frames:  769\n"
     ]
    },
    {
     "name": "stderr",
     "output_type": "stream",
     "text": [
      "\n"
     ]
    },
    {
     "name": "stdout",
     "output_type": "stream",
     "text": [
      "Saving results in E:\\movies\\ar2breathing\\10_08_19...\n",
      "Saving csv poses!\n",
      "Starting to analyze %  E:\\movies\\ar2breathing\\10_08_19\\20-36-53R.avi\n",
      "Loading  E:\\movies\\ar2breathing\\10_08_19\\20-36-53R.avi\n",
      "Duration of video [s]:  4.47 , recorded with  200.0 fps!\n",
      "Overall # of frames:  895  found with (before cropping) frame dimensions:  202 181\n",
      "Starting to extract posture\n"
     ]
    },
    {
     "name": "stderr",
     "output_type": "stream",
     "text": [
      "900it [00:26, 33.04it/s]                                                                                               "
     ]
    },
    {
     "name": "stdout",
     "output_type": "stream",
     "text": [
      "Detected frames:  895\n"
     ]
    },
    {
     "name": "stderr",
     "output_type": "stream",
     "text": [
      "\n"
     ]
    },
    {
     "name": "stdout",
     "output_type": "stream",
     "text": [
      "Saving results in E:\\movies\\ar2breathing\\10_08_19...\n",
      "Saving csv poses!\n",
      "Starting to analyze %  E:\\movies\\ar2breathing\\10_08_19\\20-37-12R.avi\n",
      "Loading  E:\\movies\\ar2breathing\\10_08_19\\20-37-12R.avi\n",
      "Duration of video [s]:  2.49 , recorded with  200.0 fps!\n",
      "Overall # of frames:  498  found with (before cropping) frame dimensions:  202 181\n",
      "Starting to extract posture\n"
     ]
    },
    {
     "name": "stderr",
     "output_type": "stream",
     "text": [
      "500it [00:14, 33.92it/s]                                                                                               "
     ]
    },
    {
     "name": "stdout",
     "output_type": "stream",
     "text": [
      "Detected frames:  498\n"
     ]
    },
    {
     "name": "stderr",
     "output_type": "stream",
     "text": [
      "\n"
     ]
    },
    {
     "name": "stdout",
     "output_type": "stream",
     "text": [
      "Saving results in E:\\movies\\ar2breathing\\10_08_19...\n",
      "Saving csv poses!\n",
      "Starting to analyze %  E:\\movies\\ar2breathing\\10_08_19\\20-37-30R.avi\n",
      "Loading  E:\\movies\\ar2breathing\\10_08_19\\20-37-30R.avi\n",
      "Duration of video [s]:  3.18 , recorded with  200.0 fps!\n",
      "Overall # of frames:  636  found with (before cropping) frame dimensions:  202 181\n",
      "Starting to extract posture\n"
     ]
    },
    {
     "name": "stderr",
     "output_type": "stream",
     "text": [
      "640it [00:18, 33.93it/s]                                                                                               "
     ]
    },
    {
     "name": "stdout",
     "output_type": "stream",
     "text": [
      "Detected frames:  636\n"
     ]
    },
    {
     "name": "stderr",
     "output_type": "stream",
     "text": [
      "\n"
     ]
    },
    {
     "name": "stdout",
     "output_type": "stream",
     "text": [
      "Saving results in E:\\movies\\ar2breathing\\10_08_19...\n",
      "Saving csv poses!\n",
      "Starting to analyze %  E:\\movies\\ar2breathing\\10_08_19\\20-37-48R.avi\n",
      "Loading  E:\\movies\\ar2breathing\\10_08_19\\20-37-48R.avi\n",
      "Duration of video [s]:  2.83 , recorded with  200.0 fps!\n",
      "Overall # of frames:  565  found with (before cropping) frame dimensions:  202 181\n",
      "Starting to extract posture\n"
     ]
    },
    {
     "name": "stderr",
     "output_type": "stream",
     "text": [
      "570it [00:16, 32.85it/s]                                                                                               "
     ]
    },
    {
     "name": "stdout",
     "output_type": "stream",
     "text": [
      "Detected frames:  565\n"
     ]
    },
    {
     "name": "stderr",
     "output_type": "stream",
     "text": [
      "\n"
     ]
    },
    {
     "name": "stdout",
     "output_type": "stream",
     "text": [
      "Saving results in E:\\movies\\ar2breathing\\10_08_19...\n",
      "Saving csv poses!\n",
      "Starting to analyze %  E:\\movies\\ar2breathing\\10_08_19\\20-38-06R.avi\n",
      "Loading  E:\\movies\\ar2breathing\\10_08_19\\20-38-06R.avi\n",
      "Duration of video [s]:  2.12 , recorded with  200.0 fps!\n",
      "Overall # of frames:  424  found with (before cropping) frame dimensions:  202 181\n",
      "Starting to extract posture\n"
     ]
    },
    {
     "name": "stderr",
     "output_type": "stream",
     "text": [
      "430it [00:12, 30.18it/s]                                                                                               "
     ]
    },
    {
     "name": "stdout",
     "output_type": "stream",
     "text": [
      "Detected frames:  424\n"
     ]
    },
    {
     "name": "stderr",
     "output_type": "stream",
     "text": [
      "\n"
     ]
    },
    {
     "name": "stdout",
     "output_type": "stream",
     "text": [
      "Saving results in E:\\movies\\ar2breathing\\10_08_19...\n",
      "Saving csv poses!\n",
      "Starting to analyze %  E:\\movies\\ar2breathing\\10_08_19\\20-38-25R.avi\n",
      "Loading  E:\\movies\\ar2breathing\\10_08_19\\20-38-25R.avi\n",
      "Duration of video [s]:  3.37 , recorded with  200.0 fps!\n",
      "Overall # of frames:  673  found with (before cropping) frame dimensions:  202 181\n",
      "Starting to extract posture\n"
     ]
    },
    {
     "name": "stderr",
     "output_type": "stream",
     "text": [
      "680it [00:20, 33.58it/s]                                                                                               "
     ]
    },
    {
     "name": "stdout",
     "output_type": "stream",
     "text": [
      "Detected frames:  673\n"
     ]
    },
    {
     "name": "stderr",
     "output_type": "stream",
     "text": [
      "\n"
     ]
    },
    {
     "name": "stdout",
     "output_type": "stream",
     "text": [
      "Saving results in E:\\movies\\ar2breathing\\10_08_19...\n",
      "Saving csv poses!\n",
      "Starting to analyze %  E:\\movies\\ar2breathing\\10_08_19\\20-38-48R.avi\n",
      "Loading  E:\\movies\\ar2breathing\\10_08_19\\20-38-48R.avi\n",
      "Duration of video [s]:  3.38 , recorded with  200.0 fps!\n",
      "Overall # of frames:  677  found with (before cropping) frame dimensions:  202 181\n",
      "Starting to extract posture\n"
     ]
    },
    {
     "name": "stderr",
     "output_type": "stream",
     "text": [
      "680it [00:21, 32.57it/s]                                                                                               "
     ]
    },
    {
     "name": "stdout",
     "output_type": "stream",
     "text": [
      "Detected frames:  677\n"
     ]
    },
    {
     "name": "stderr",
     "output_type": "stream",
     "text": [
      "\n"
     ]
    },
    {
     "name": "stdout",
     "output_type": "stream",
     "text": [
      "Saving results in E:\\movies\\ar2breathing\\10_08_19...\n",
      "Saving csv poses!\n",
      "Starting to analyze %  E:\\movies\\ar2breathing\\10_08_19\\20-39-12R.avi\n",
      "Loading  E:\\movies\\ar2breathing\\10_08_19\\20-39-12R.avi\n",
      "Duration of video [s]:  3.88 , recorded with  200.0 fps!\n",
      "Overall # of frames:  777  found with (before cropping) frame dimensions:  202 181\n",
      "Starting to extract posture\n"
     ]
    },
    {
     "name": "stderr",
     "output_type": "stream",
     "text": [
      "780it [00:25, 30.58it/s]                                                                                               "
     ]
    },
    {
     "name": "stdout",
     "output_type": "stream",
     "text": [
      "Detected frames:  777\n"
     ]
    },
    {
     "name": "stderr",
     "output_type": "stream",
     "text": [
      "\n"
     ]
    },
    {
     "name": "stdout",
     "output_type": "stream",
     "text": [
      "Saving results in E:\\movies\\ar2breathing\\10_08_19...\n",
      "Saving csv poses!\n",
      "Starting to analyze %  E:\\movies\\ar2breathing\\10_08_19\\20-39-32R.avi\n",
      "Loading  E:\\movies\\ar2breathing\\10_08_19\\20-39-32R.avi\n",
      "Duration of video [s]:  2.24 , recorded with  200.0 fps!\n",
      "Overall # of frames:  448  found with (before cropping) frame dimensions:  202 181\n",
      "Starting to extract posture\n"
     ]
    },
    {
     "name": "stderr",
     "output_type": "stream",
     "text": [
      "450it [00:13, 29.93it/s]                                                                                               "
     ]
    },
    {
     "name": "stdout",
     "output_type": "stream",
     "text": [
      "Detected frames:  448\n"
     ]
    },
    {
     "name": "stderr",
     "output_type": "stream",
     "text": [
      "\n"
     ]
    },
    {
     "name": "stdout",
     "output_type": "stream",
     "text": [
      "Saving results in E:\\movies\\ar2breathing\\10_08_19...\n",
      "Saving csv poses!\n",
      "Starting to analyze %  E:\\movies\\ar2breathing\\10_08_19\\20-40-02R.avi\n",
      "Loading  E:\\movies\\ar2breathing\\10_08_19\\20-40-02R.avi\n",
      "Duration of video [s]:  2.93 , recorded with  200.0 fps!\n",
      "Overall # of frames:  586  found with (before cropping) frame dimensions:  202 181\n",
      "Starting to extract posture\n"
     ]
    },
    {
     "name": "stderr",
     "output_type": "stream",
     "text": [
      "590it [00:17, 32.61it/s]                                                                                               "
     ]
    },
    {
     "name": "stdout",
     "output_type": "stream",
     "text": [
      "Detected frames:  586\n"
     ]
    },
    {
     "name": "stderr",
     "output_type": "stream",
     "text": [
      "\n"
     ]
    },
    {
     "name": "stdout",
     "output_type": "stream",
     "text": [
      "Saving results in E:\\movies\\ar2breathing\\10_08_19...\n",
      "Saving csv poses!\n",
      "Starting to analyze %  E:\\movies\\ar2breathing\\10_08_19\\20-40-20R.avi\n",
      "Loading  E:\\movies\\ar2breathing\\10_08_19\\20-40-20R.avi\n",
      "Duration of video [s]:  3.44 , recorded with  200.0 fps!\n",
      "Overall # of frames:  689  found with (before cropping) frame dimensions:  202 181\n",
      "Starting to extract posture\n"
     ]
    },
    {
     "name": "stderr",
     "output_type": "stream",
     "text": [
      "690it [00:21, 28.67it/s]                                                                                               "
     ]
    },
    {
     "name": "stdout",
     "output_type": "stream",
     "text": [
      "Detected frames:  689\n"
     ]
    },
    {
     "name": "stderr",
     "output_type": "stream",
     "text": [
      "\n"
     ]
    },
    {
     "name": "stdout",
     "output_type": "stream",
     "text": [
      "Saving results in E:\\movies\\ar2breathing\\10_08_19...\n",
      "Saving csv poses!\n",
      "Starting to analyze %  E:\\movies\\ar2breathing\\10_08_19\\20-40-38R.avi\n",
      "Loading  E:\\movies\\ar2breathing\\10_08_19\\20-40-38R.avi\n",
      "Duration of video [s]:  3.73 , recorded with  200.0 fps!\n",
      "Overall # of frames:  747  found with (before cropping) frame dimensions:  202 181\n",
      "Starting to extract posture\n"
     ]
    },
    {
     "name": "stderr",
     "output_type": "stream",
     "text": [
      "750it [00:23, 30.99it/s]                                                                                               "
     ]
    },
    {
     "name": "stdout",
     "output_type": "stream",
     "text": [
      "Detected frames:  747\n"
     ]
    },
    {
     "name": "stderr",
     "output_type": "stream",
     "text": [
      "\n"
     ]
    },
    {
     "name": "stdout",
     "output_type": "stream",
     "text": [
      "Saving results in E:\\movies\\ar2breathing\\10_08_19...\n",
      "Saving csv poses!\n",
      "Starting to analyze %  E:\\movies\\ar2breathing\\10_08_19\\20-40-55R.avi\n",
      "Loading  E:\\movies\\ar2breathing\\10_08_19\\20-40-55R.avi\n",
      "Duration of video [s]:  4.32 , recorded with  200.0 fps!\n",
      "Overall # of frames:  864  found with (before cropping) frame dimensions:  202 181\n",
      "Starting to extract posture\n"
     ]
    },
    {
     "name": "stderr",
     "output_type": "stream",
     "text": [
      "870it [00:25, 31.88it/s]                                                                                               "
     ]
    },
    {
     "name": "stdout",
     "output_type": "stream",
     "text": [
      "Detected frames:  864\n"
     ]
    },
    {
     "name": "stderr",
     "output_type": "stream",
     "text": [
      "\n"
     ]
    },
    {
     "name": "stdout",
     "output_type": "stream",
     "text": [
      "Saving results in E:\\movies\\ar2breathing\\10_08_19...\n",
      "Saving csv poses!\n",
      "Starting to analyze %  E:\\movies\\ar2breathing\\10_08_19\\20-41-14R.avi\n",
      "Loading  E:\\movies\\ar2breathing\\10_08_19\\20-41-14R.avi\n",
      "Duration of video [s]:  2.4 , recorded with  200.0 fps!\n",
      "Overall # of frames:  481  found with (before cropping) frame dimensions:  202 181\n",
      "Starting to extract posture\n"
     ]
    },
    {
     "name": "stderr",
     "output_type": "stream",
     "text": [
      "490it [00:15, 31.09it/s]                                                                                               "
     ]
    },
    {
     "name": "stdout",
     "output_type": "stream",
     "text": [
      "Detected frames:  481\n"
     ]
    },
    {
     "name": "stderr",
     "output_type": "stream",
     "text": [
      "\n"
     ]
    },
    {
     "name": "stdout",
     "output_type": "stream",
     "text": [
      "Saving results in E:\\movies\\ar2breathing\\10_08_19...\n",
      "Saving csv poses!\n",
      "Starting to analyze %  E:\\movies\\ar2breathing\\10_08_19\\20-41-31R.avi\n",
      "Loading  E:\\movies\\ar2breathing\\10_08_19\\20-41-31R.avi\n",
      "Duration of video [s]:  4.19 , recorded with  200.0 fps!\n",
      "Overall # of frames:  838  found with (before cropping) frame dimensions:  202 181\n",
      "Starting to extract posture\n"
     ]
    },
    {
     "name": "stderr",
     "output_type": "stream",
     "text": [
      "840it [00:26, 29.39it/s]                                                                                               "
     ]
    },
    {
     "name": "stdout",
     "output_type": "stream",
     "text": [
      "Detected frames:  838\n"
     ]
    },
    {
     "name": "stderr",
     "output_type": "stream",
     "text": [
      "\n"
     ]
    },
    {
     "name": "stdout",
     "output_type": "stream",
     "text": [
      "Saving results in E:\\movies\\ar2breathing\\10_08_19...\n",
      "Saving csv poses!\n",
      "Starting to analyze %  E:\\movies\\ar2breathing\\10_08_19\\20-41-50R.avi\n",
      "Loading  E:\\movies\\ar2breathing\\10_08_19\\20-41-50R.avi\n",
      "Duration of video [s]:  4.65 , recorded with  200.0 fps!\n",
      "Overall # of frames:  930  found with (before cropping) frame dimensions:  202 181\n",
      "Starting to extract posture\n"
     ]
    },
    {
     "name": "stderr",
     "output_type": "stream",
     "text": [
      "940it [00:30, 30.13it/s]                                                                                               "
     ]
    },
    {
     "name": "stdout",
     "output_type": "stream",
     "text": [
      "Detected frames:  930\n"
     ]
    },
    {
     "name": "stderr",
     "output_type": "stream",
     "text": [
      "\n"
     ]
    },
    {
     "name": "stdout",
     "output_type": "stream",
     "text": [
      "Saving results in E:\\movies\\ar2breathing\\10_08_19...\n",
      "Saving csv poses!\n",
      "Starting to analyze %  E:\\movies\\ar2breathing\\10_08_19\\20-42-08R.avi\n",
      "Loading  E:\\movies\\ar2breathing\\10_08_19\\20-42-08R.avi\n",
      "Duration of video [s]:  4.39 , recorded with  200.0 fps!\n",
      "Overall # of frames:  879  found with (before cropping) frame dimensions:  202 181\n",
      "Starting to extract posture\n"
     ]
    },
    {
     "name": "stderr",
     "output_type": "stream",
     "text": [
      "880it [00:28, 30.67it/s]                                                                                               "
     ]
    },
    {
     "name": "stdout",
     "output_type": "stream",
     "text": [
      "Detected frames:  879\n"
     ]
    },
    {
     "name": "stderr",
     "output_type": "stream",
     "text": [
      "\n"
     ]
    },
    {
     "name": "stdout",
     "output_type": "stream",
     "text": [
      "Saving results in E:\\movies\\ar2breathing\\10_08_19...\n",
      "Saving csv poses!\n",
      "Starting to analyze %  E:\\movies\\ar2breathing\\10_08_19\\20-42-28R.avi\n",
      "Loading  E:\\movies\\ar2breathing\\10_08_19\\20-42-28R.avi\n",
      "Duration of video [s]:  4.15 , recorded with  200.0 fps!\n",
      "Overall # of frames:  830  found with (before cropping) frame dimensions:  202 181\n",
      "Starting to extract posture\n"
     ]
    },
    {
     "name": "stderr",
     "output_type": "stream",
     "text": [
      "840it [00:29, 31.87it/s]                                                                                               "
     ]
    },
    {
     "name": "stdout",
     "output_type": "stream",
     "text": [
      "Detected frames:  830\n"
     ]
    },
    {
     "name": "stderr",
     "output_type": "stream",
     "text": [
      "\n"
     ]
    },
    {
     "name": "stdout",
     "output_type": "stream",
     "text": [
      "Saving results in E:\\movies\\ar2breathing\\10_08_19...\n",
      "Saving csv poses!\n",
      "Starting to analyze %  E:\\movies\\ar2breathing\\10_08_19\\20-42-46R.avi\n",
      "Loading  E:\\movies\\ar2breathing\\10_08_19\\20-42-46R.avi\n",
      "Duration of video [s]:  3.79 , recorded with  200.0 fps!\n",
      "Overall # of frames:  757  found with (before cropping) frame dimensions:  202 181\n",
      "Starting to extract posture\n"
     ]
    },
    {
     "name": "stderr",
     "output_type": "stream",
     "text": [
      "760it [00:24, 32.89it/s]                                                                                               "
     ]
    },
    {
     "name": "stdout",
     "output_type": "stream",
     "text": [
      "Detected frames:  757\n"
     ]
    },
    {
     "name": "stderr",
     "output_type": "stream",
     "text": [
      "\n"
     ]
    },
    {
     "name": "stdout",
     "output_type": "stream",
     "text": [
      "Saving results in E:\\movies\\ar2breathing\\10_08_19...\n",
      "Saving csv poses!\n",
      "Starting to analyze %  E:\\movies\\ar2breathing\\10_08_19\\20-43-04R.avi\n",
      "Loading  E:\\movies\\ar2breathing\\10_08_19\\20-43-04R.avi\n",
      "Duration of video [s]:  2.06 , recorded with  200.0 fps!\n",
      "Overall # of frames:  411  found with (before cropping) frame dimensions:  202 181\n",
      "Starting to extract posture\n"
     ]
    },
    {
     "name": "stderr",
     "output_type": "stream",
     "text": [
      "420it [00:13, 33.41it/s]                                                                                               "
     ]
    },
    {
     "name": "stdout",
     "output_type": "stream",
     "text": [
      "Detected frames:  411\n"
     ]
    },
    {
     "name": "stderr",
     "output_type": "stream",
     "text": [
      "\n"
     ]
    },
    {
     "name": "stdout",
     "output_type": "stream",
     "text": [
      "Saving results in E:\\movies\\ar2breathing\\10_08_19...\n",
      "Saving csv poses!\n",
      "Starting to analyze %  E:\\movies\\ar2breathing\\10_08_19\\20-43-22R.avi\n",
      "Loading  E:\\movies\\ar2breathing\\10_08_19\\20-43-22R.avi\n",
      "Duration of video [s]:  4.56 , recorded with  200.0 fps!\n",
      "Overall # of frames:  912  found with (before cropping) frame dimensions:  202 181\n",
      "Starting to extract posture\n"
     ]
    },
    {
     "name": "stderr",
     "output_type": "stream",
     "text": [
      "920it [00:29, 31.02it/s]                                                                                               "
     ]
    },
    {
     "name": "stdout",
     "output_type": "stream",
     "text": [
      "Detected frames:  912\n"
     ]
    },
    {
     "name": "stderr",
     "output_type": "stream",
     "text": [
      "\n"
     ]
    },
    {
     "name": "stdout",
     "output_type": "stream",
     "text": [
      "Saving results in E:\\movies\\ar2breathing\\10_08_19...\n",
      "Saving csv poses!\n",
      "Starting to analyze %  E:\\movies\\ar2breathing\\10_08_19\\20-43-40R.avi\n",
      "Loading  E:\\movies\\ar2breathing\\10_08_19\\20-43-40R.avi\n",
      "Duration of video [s]:  4.35 , recorded with  200.0 fps!\n",
      "Overall # of frames:  870  found with (before cropping) frame dimensions:  202 181\n",
      "Starting to extract posture\n"
     ]
    },
    {
     "name": "stderr",
     "output_type": "stream",
     "text": [
      "880it [00:29, 29.90it/s]                                                                                               "
     ]
    },
    {
     "name": "stdout",
     "output_type": "stream",
     "text": [
      "Detected frames:  870\n"
     ]
    },
    {
     "name": "stderr",
     "output_type": "stream",
     "text": [
      "\n"
     ]
    },
    {
     "name": "stdout",
     "output_type": "stream",
     "text": [
      "Saving results in E:\\movies\\ar2breathing\\10_08_19...\n",
      "Saving csv poses!\n",
      "Starting to analyze %  E:\\movies\\ar2breathing\\10_08_19\\20-44-16R.avi\n",
      "Loading  E:\\movies\\ar2breathing\\10_08_19\\20-44-16R.avi\n",
      "Duration of video [s]:  1.57 , recorded with  200.0 fps!\n",
      "Overall # of frames:  315  found with (before cropping) frame dimensions:  202 181\n",
      "Starting to extract posture\n"
     ]
    },
    {
     "name": "stderr",
     "output_type": "stream",
     "text": [
      "320it [00:09, 33.54it/s]                                                                                               "
     ]
    },
    {
     "name": "stdout",
     "output_type": "stream",
     "text": [
      "Detected frames:  315\n"
     ]
    },
    {
     "name": "stderr",
     "output_type": "stream",
     "text": [
      "\n"
     ]
    },
    {
     "name": "stdout",
     "output_type": "stream",
     "text": [
      "Saving results in E:\\movies\\ar2breathing\\10_08_19...\n",
      "Saving csv poses!\n",
      "Starting to analyze %  E:\\movies\\ar2breathing\\10_08_19\\20-44-37R.avi\n",
      "Loading  E:\\movies\\ar2breathing\\10_08_19\\20-44-37R.avi\n",
      "Duration of video [s]:  5.0 , recorded with  200.0 fps!\n",
      "Overall # of frames:  1000  found with (before cropping) frame dimensions:  202 181\n",
      "Starting to extract posture\n"
     ]
    },
    {
     "name": "stderr",
     "output_type": "stream",
     "text": [
      "1010it [00:33, 27.25it/s]                                                                                              "
     ]
    },
    {
     "name": "stdout",
     "output_type": "stream",
     "text": [
      "Detected frames:  1000\n"
     ]
    },
    {
     "name": "stderr",
     "output_type": "stream",
     "text": [
      "\n"
     ]
    },
    {
     "name": "stdout",
     "output_type": "stream",
     "text": [
      "Saving results in E:\\movies\\ar2breathing\\10_08_19...\n",
      "Saving csv poses!\n",
      "Starting to analyze %  E:\\movies\\ar2breathing\\10_08_19\\20-52-49R.avi\n",
      "Loading  E:\\movies\\ar2breathing\\10_08_19\\20-52-49R.avi\n",
      "Duration of video [s]:  5.0 , recorded with  200.0 fps!\n",
      "Overall # of frames:  1000  found with (before cropping) frame dimensions:  202 181\n",
      "Starting to extract posture\n"
     ]
    },
    {
     "name": "stderr",
     "output_type": "stream",
     "text": [
      "1010it [00:34, 30.13it/s]                                                                                              "
     ]
    },
    {
     "name": "stdout",
     "output_type": "stream",
     "text": [
      "Detected frames:  1000\n"
     ]
    },
    {
     "name": "stderr",
     "output_type": "stream",
     "text": [
      "\n"
     ]
    },
    {
     "name": "stdout",
     "output_type": "stream",
     "text": [
      "Saving results in E:\\movies\\ar2breathing\\10_08_19...\n",
      "Saving csv poses!\n",
      "Starting to analyze %  E:\\movies\\ar2breathing\\10_08_19\\20-53-07R.avi\n",
      "Loading  E:\\movies\\ar2breathing\\10_08_19\\20-53-07R.avi\n",
      "Duration of video [s]:  4.79 , recorded with  200.0 fps!\n",
      "Overall # of frames:  959  found with (before cropping) frame dimensions:  202 181\n",
      "Starting to extract posture\n"
     ]
    },
    {
     "name": "stderr",
     "output_type": "stream",
     "text": [
      "960it [00:31, 29.60it/s]                                                                                               "
     ]
    },
    {
     "name": "stdout",
     "output_type": "stream",
     "text": [
      "Detected frames:  959\n"
     ]
    },
    {
     "name": "stderr",
     "output_type": "stream",
     "text": [
      "\n"
     ]
    },
    {
     "name": "stdout",
     "output_type": "stream",
     "text": [
      "Saving results in E:\\movies\\ar2breathing\\10_08_19...\n",
      "Saving csv poses!\n",
      "Starting to analyze %  E:\\movies\\ar2breathing\\10_08_19\\20-53-28R.avi\n",
      "Loading  E:\\movies\\ar2breathing\\10_08_19\\20-53-28R.avi\n",
      "Duration of video [s]:  5.0 , recorded with  200.0 fps!\n",
      "Overall # of frames:  1000  found with (before cropping) frame dimensions:  202 181\n",
      "Starting to extract posture\n"
     ]
    },
    {
     "name": "stderr",
     "output_type": "stream",
     "text": [
      "1010it [00:32, 29.53it/s]                                                                                              "
     ]
    },
    {
     "name": "stdout",
     "output_type": "stream",
     "text": [
      "Detected frames:  1000\n"
     ]
    },
    {
     "name": "stderr",
     "output_type": "stream",
     "text": [
      "\n"
     ]
    },
    {
     "name": "stdout",
     "output_type": "stream",
     "text": [
      "Saving results in E:\\movies\\ar2breathing\\10_08_19...\n",
      "Saving csv poses!\n",
      "Starting to analyze %  E:\\movies\\ar2breathing\\10_08_19\\20-53-46R.avi\n",
      "Loading  E:\\movies\\ar2breathing\\10_08_19\\20-53-46R.avi\n",
      "Duration of video [s]:  3.98 , recorded with  200.0 fps!\n",
      "Overall # of frames:  797  found with (before cropping) frame dimensions:  202 181\n",
      "Starting to extract posture\n"
     ]
    },
    {
     "name": "stderr",
     "output_type": "stream",
     "text": [
      "800it [00:25, 34.01it/s]                                                                                               "
     ]
    },
    {
     "name": "stdout",
     "output_type": "stream",
     "text": [
      "Detected frames:  797\n"
     ]
    },
    {
     "name": "stderr",
     "output_type": "stream",
     "text": [
      "\n"
     ]
    },
    {
     "name": "stdout",
     "output_type": "stream",
     "text": [
      "Saving results in E:\\movies\\ar2breathing\\10_08_19...\n",
      "Saving csv poses!\n",
      "Starting to analyze %  E:\\movies\\ar2breathing\\10_08_19\\20-54-05R.avi\n",
      "Loading  E:\\movies\\ar2breathing\\10_08_19\\20-54-05R.avi\n",
      "Duration of video [s]:  2.1 , recorded with  200.0 fps!\n",
      "Overall # of frames:  421  found with (before cropping) frame dimensions:  202 181\n",
      "Starting to extract posture\n"
     ]
    },
    {
     "name": "stderr",
     "output_type": "stream",
     "text": [
      "430it [00:13, 30.85it/s]                                                                                               "
     ]
    },
    {
     "name": "stdout",
     "output_type": "stream",
     "text": [
      "Detected frames:  421\n"
     ]
    },
    {
     "name": "stderr",
     "output_type": "stream",
     "text": [
      "\n"
     ]
    },
    {
     "name": "stdout",
     "output_type": "stream",
     "text": [
      "Saving results in E:\\movies\\ar2breathing\\10_08_19...\n",
      "Saving csv poses!\n",
      "Starting to analyze %  E:\\movies\\ar2breathing\\10_08_19\\20-54-25R.avi\n",
      "Loading  E:\\movies\\ar2breathing\\10_08_19\\20-54-25R.avi\n",
      "Duration of video [s]:  4.92 , recorded with  200.0 fps!\n",
      "Overall # of frames:  984  found with (before cropping) frame dimensions:  202 181\n",
      "Starting to extract posture\n"
     ]
    },
    {
     "name": "stderr",
     "output_type": "stream",
     "text": [
      "990it [00:31, 26.58it/s]                                                                                               "
     ]
    },
    {
     "name": "stdout",
     "output_type": "stream",
     "text": [
      "Detected frames:  984\n"
     ]
    },
    {
     "name": "stderr",
     "output_type": "stream",
     "text": [
      "\n"
     ]
    },
    {
     "name": "stdout",
     "output_type": "stream",
     "text": [
      "Saving results in E:\\movies\\ar2breathing\\10_08_19...\n",
      "Saving csv poses!\n",
      "Starting to analyze %  E:\\movies\\ar2breathing\\10_08_19\\20-54-43R.avi\n",
      "Loading  E:\\movies\\ar2breathing\\10_08_19\\20-54-43R.avi\n",
      "Duration of video [s]:  4.92 , recorded with  200.0 fps!\n",
      "Overall # of frames:  984  found with (before cropping) frame dimensions:  202 181\n",
      "Starting to extract posture\n"
     ]
    },
    {
     "name": "stderr",
     "output_type": "stream",
     "text": [
      "990it [00:30, 32.50it/s]                                                                                               "
     ]
    },
    {
     "name": "stdout",
     "output_type": "stream",
     "text": [
      "Detected frames:  984\n"
     ]
    },
    {
     "name": "stderr",
     "output_type": "stream",
     "text": [
      "\n"
     ]
    },
    {
     "name": "stdout",
     "output_type": "stream",
     "text": [
      "Saving results in E:\\movies\\ar2breathing\\10_08_19...\n",
      "Saving csv poses!\n",
      "Starting to analyze %  E:\\movies\\ar2breathing\\10_08_19\\20-55-01R.avi\n",
      "Loading  E:\\movies\\ar2breathing\\10_08_19\\20-55-01R.avi\n",
      "Duration of video [s]:  5.0 , recorded with  200.0 fps!\n",
      "Overall # of frames:  1000  found with (before cropping) frame dimensions:  202 181\n",
      "Starting to extract posture\n"
     ]
    },
    {
     "name": "stderr",
     "output_type": "stream",
     "text": [
      "1010it [00:29, 33.34it/s]                                                                                              "
     ]
    },
    {
     "name": "stdout",
     "output_type": "stream",
     "text": [
      "Detected frames:  1000\n"
     ]
    },
    {
     "name": "stderr",
     "output_type": "stream",
     "text": [
      "\n"
     ]
    },
    {
     "name": "stdout",
     "output_type": "stream",
     "text": [
      "Saving results in E:\\movies\\ar2breathing\\10_08_19...\n",
      "Saving csv poses!\n",
      "Starting to analyze %  E:\\movies\\ar2breathing\\10_08_19\\20-55-26R.avi\n",
      "Loading  E:\\movies\\ar2breathing\\10_08_19\\20-55-26R.avi\n",
      "Duration of video [s]:  4.99 , recorded with  200.0 fps!\n",
      "Overall # of frames:  997  found with (before cropping) frame dimensions:  202 181\n",
      "Starting to extract posture\n"
     ]
    },
    {
     "name": "stderr",
     "output_type": "stream",
     "text": [
      "1000it [00:29, 35.31it/s]                                                                                              "
     ]
    },
    {
     "name": "stdout",
     "output_type": "stream",
     "text": [
      "Detected frames:  997\n"
     ]
    },
    {
     "name": "stderr",
     "output_type": "stream",
     "text": [
      "\n"
     ]
    },
    {
     "name": "stdout",
     "output_type": "stream",
     "text": [
      "Saving results in E:\\movies\\ar2breathing\\10_08_19...\n",
      "Saving csv poses!\n",
      "Starting to analyze %  E:\\movies\\ar2breathing\\10_08_19\\20-55-46R.avi\n",
      "Loading  E:\\movies\\ar2breathing\\10_08_19\\20-55-46R.avi\n",
      "Duration of video [s]:  5.0 , recorded with  200.0 fps!\n",
      "Overall # of frames:  1000  found with (before cropping) frame dimensions:  202 181\n",
      "Starting to extract posture\n"
     ]
    },
    {
     "name": "stderr",
     "output_type": "stream",
     "text": [
      "1010it [00:29, 33.46it/s]                                                                                              "
     ]
    },
    {
     "name": "stdout",
     "output_type": "stream",
     "text": [
      "Detected frames:  1000\n"
     ]
    },
    {
     "name": "stderr",
     "output_type": "stream",
     "text": [
      "\n"
     ]
    },
    {
     "name": "stdout",
     "output_type": "stream",
     "text": [
      "Saving results in E:\\movies\\ar2breathing\\10_08_19...\n",
      "Saving csv poses!\n",
      "Starting to analyze %  E:\\movies\\ar2breathing\\10_08_19\\20-56-13R.avi\n",
      "Loading  E:\\movies\\ar2breathing\\10_08_19\\20-56-13R.avi\n",
      "Duration of video [s]:  3.46 , recorded with  200.0 fps!\n",
      "Overall # of frames:  692  found with (before cropping) frame dimensions:  202 181\n",
      "Starting to extract posture\n"
     ]
    },
    {
     "name": "stderr",
     "output_type": "stream",
     "text": [
      "700it [00:20, 35.14it/s]                                                                                               "
     ]
    },
    {
     "name": "stdout",
     "output_type": "stream",
     "text": [
      "Detected frames:  692\n"
     ]
    },
    {
     "name": "stderr",
     "output_type": "stream",
     "text": [
      "\n"
     ]
    },
    {
     "name": "stdout",
     "output_type": "stream",
     "text": [
      "Saving results in E:\\movies\\ar2breathing\\10_08_19...\n",
      "Saving csv poses!\n",
      "Starting to analyze %  E:\\movies\\ar2breathing\\10_08_19\\20-56-30R.avi\n",
      "Loading  E:\\movies\\ar2breathing\\10_08_19\\20-56-30R.avi\n",
      "Duration of video [s]:  2.48 , recorded with  200.0 fps!\n",
      "Overall # of frames:  497  found with (before cropping) frame dimensions:  202 181\n",
      "Starting to extract posture\n"
     ]
    },
    {
     "name": "stderr",
     "output_type": "stream",
     "text": [
      "500it [00:14, 36.14it/s]                                                                                               "
     ]
    },
    {
     "name": "stdout",
     "output_type": "stream",
     "text": [
      "Detected frames:  497\n"
     ]
    },
    {
     "name": "stderr",
     "output_type": "stream",
     "text": [
      "\n"
     ]
    },
    {
     "name": "stdout",
     "output_type": "stream",
     "text": [
      "Saving results in E:\\movies\\ar2breathing\\10_08_19...\n",
      "Saving csv poses!\n",
      "Starting to analyze %  E:\\movies\\ar2breathing\\10_08_19\\20-56-49R.avi\n",
      "Loading  E:\\movies\\ar2breathing\\10_08_19\\20-56-49R.avi\n",
      "Duration of video [s]:  5.0 , recorded with  200.0 fps!\n",
      "Overall # of frames:  1000  found with (before cropping) frame dimensions:  202 181\n",
      "Starting to extract posture\n"
     ]
    },
    {
     "name": "stderr",
     "output_type": "stream",
     "text": [
      "1010it [00:29, 32.47it/s]                                                                                              "
     ]
    },
    {
     "name": "stdout",
     "output_type": "stream",
     "text": [
      "Detected frames:  1000\n"
     ]
    },
    {
     "name": "stderr",
     "output_type": "stream",
     "text": [
      "\n"
     ]
    },
    {
     "name": "stdout",
     "output_type": "stream",
     "text": [
      "Saving results in E:\\movies\\ar2breathing\\10_08_19...\n",
      "Saving csv poses!\n",
      "Starting to analyze %  E:\\movies\\ar2breathing\\10_08_19\\20-57-07R.avi\n",
      "Loading  E:\\movies\\ar2breathing\\10_08_19\\20-57-07R.avi\n",
      "Duration of video [s]:  4.91 , recorded with  200.0 fps!\n",
      "Overall # of frames:  982  found with (before cropping) frame dimensions:  202 181\n",
      "Starting to extract posture\n"
     ]
    },
    {
     "name": "stderr",
     "output_type": "stream",
     "text": [
      "990it [00:29, 30.73it/s]                                                                                               "
     ]
    },
    {
     "name": "stdout",
     "output_type": "stream",
     "text": [
      "Detected frames:  982\n"
     ]
    },
    {
     "name": "stderr",
     "output_type": "stream",
     "text": [
      "\n"
     ]
    },
    {
     "name": "stdout",
     "output_type": "stream",
     "text": [
      "Saving results in E:\\movies\\ar2breathing\\10_08_19...\n",
      "Saving csv poses!\n",
      "Starting to analyze %  E:\\movies\\ar2breathing\\10_08_19\\20-57-27R.avi\n",
      "Loading  E:\\movies\\ar2breathing\\10_08_19\\20-57-27R.avi\n",
      "Duration of video [s]:  4.84 , recorded with  200.0 fps!\n",
      "Overall # of frames:  968  found with (before cropping) frame dimensions:  202 181\n",
      "Starting to extract posture\n"
     ]
    },
    {
     "name": "stderr",
     "output_type": "stream",
     "text": [
      "970it [00:28, 32.55it/s]                                                                                               "
     ]
    },
    {
     "name": "stdout",
     "output_type": "stream",
     "text": [
      "Detected frames:  968\n"
     ]
    },
    {
     "name": "stderr",
     "output_type": "stream",
     "text": [
      "\n"
     ]
    },
    {
     "name": "stdout",
     "output_type": "stream",
     "text": [
      "Saving results in E:\\movies\\ar2breathing\\10_08_19...\n",
      "Saving csv poses!\n",
      "Starting to analyze %  E:\\movies\\ar2breathing\\10_08_19\\20-57-46R.avi\n",
      "Loading  E:\\movies\\ar2breathing\\10_08_19\\20-57-46R.avi\n",
      "Duration of video [s]:  3.92 , recorded with  200.0 fps!\n",
      "Overall # of frames:  784  found with (before cropping) frame dimensions:  202 181\n",
      "Starting to extract posture\n"
     ]
    },
    {
     "name": "stderr",
     "output_type": "stream",
     "text": [
      "790it [00:23, 31.88it/s]                                                                                               "
     ]
    },
    {
     "name": "stdout",
     "output_type": "stream",
     "text": [
      "Detected frames:  784\n"
     ]
    },
    {
     "name": "stderr",
     "output_type": "stream",
     "text": [
      "\n"
     ]
    },
    {
     "name": "stdout",
     "output_type": "stream",
     "text": [
      "Saving results in E:\\movies\\ar2breathing\\10_08_19...\n",
      "Saving csv poses!\n",
      "Starting to analyze %  E:\\movies\\ar2breathing\\10_08_19\\20-58-04R.avi\n",
      "Loading  E:\\movies\\ar2breathing\\10_08_19\\20-58-04R.avi\n",
      "Duration of video [s]:  5.0 , recorded with  200.0 fps!\n",
      "Overall # of frames:  1000  found with (before cropping) frame dimensions:  202 181\n",
      "Starting to extract posture\n"
     ]
    },
    {
     "name": "stderr",
     "output_type": "stream",
     "text": [
      "1010it [00:30, 31.46it/s]                                                                                              "
     ]
    },
    {
     "name": "stdout",
     "output_type": "stream",
     "text": [
      "Detected frames:  1000\n"
     ]
    },
    {
     "name": "stderr",
     "output_type": "stream",
     "text": [
      "\n"
     ]
    },
    {
     "name": "stdout",
     "output_type": "stream",
     "text": [
      "Saving results in E:\\movies\\ar2breathing\\10_08_19...\n",
      "Saving csv poses!\n",
      "Starting to analyze %  E:\\movies\\ar2breathing\\10_08_19\\20-58-22R.avi\n",
      "Loading  E:\\movies\\ar2breathing\\10_08_19\\20-58-22R.avi\n",
      "Duration of video [s]:  4.21 , recorded with  200.0 fps!\n",
      "Overall # of frames:  842  found with (before cropping) frame dimensions:  202 181\n",
      "Starting to extract posture\n"
     ]
    },
    {
     "name": "stderr",
     "output_type": "stream",
     "text": [
      "850it [00:26, 29.23it/s]                                                                                               "
     ]
    },
    {
     "name": "stdout",
     "output_type": "stream",
     "text": [
      "Detected frames:  842\n"
     ]
    },
    {
     "name": "stderr",
     "output_type": "stream",
     "text": [
      "\n"
     ]
    },
    {
     "name": "stdout",
     "output_type": "stream",
     "text": [
      "Saving results in E:\\movies\\ar2breathing\\10_08_19...\n",
      "Saving csv poses!\n",
      "Starting to analyze %  E:\\movies\\ar2breathing\\10_08_19\\20-58-43R.avi\n",
      "Loading  E:\\movies\\ar2breathing\\10_08_19\\20-58-43R.avi\n",
      "Duration of video [s]:  5.0 , recorded with  200.0 fps!\n",
      "Overall # of frames:  1000  found with (before cropping) frame dimensions:  202 181\n",
      "Starting to extract posture\n"
     ]
    },
    {
     "name": "stderr",
     "output_type": "stream",
     "text": [
      "1010it [00:33, 27.72it/s]                                                                                              "
     ]
    },
    {
     "name": "stdout",
     "output_type": "stream",
     "text": [
      "Detected frames:  1000\n"
     ]
    },
    {
     "name": "stderr",
     "output_type": "stream",
     "text": [
      "\n"
     ]
    },
    {
     "name": "stdout",
     "output_type": "stream",
     "text": [
      "Saving results in E:\\movies\\ar2breathing\\10_08_19...\n",
      "Saving csv poses!\n",
      "Starting to analyze %  E:\\movies\\ar2breathing\\10_08_19\\20-59-07R.avi\n",
      "Loading  E:\\movies\\ar2breathing\\10_08_19\\20-59-07R.avi\n",
      "Duration of video [s]:  2.13 , recorded with  200.0 fps!\n",
      "Overall # of frames:  427  found with (before cropping) frame dimensions:  202 181\n",
      "Starting to extract posture\n"
     ]
    },
    {
     "name": "stderr",
     "output_type": "stream",
     "text": [
      "430it [00:14, 28.51it/s]                                                                                               "
     ]
    },
    {
     "name": "stdout",
     "output_type": "stream",
     "text": [
      "Detected frames:  427\n"
     ]
    },
    {
     "name": "stderr",
     "output_type": "stream",
     "text": [
      "\n"
     ]
    },
    {
     "name": "stdout",
     "output_type": "stream",
     "text": [
      "Saving results in E:\\movies\\ar2breathing\\10_08_19...\n",
      "Saving csv poses!\n",
      "Starting to analyze %  E:\\movies\\ar2breathing\\10_08_19\\20-59-25R.avi\n",
      "Loading  E:\\movies\\ar2breathing\\10_08_19\\20-59-25R.avi\n",
      "Duration of video [s]:  5.0 , recorded with  200.0 fps!\n",
      "Overall # of frames:  1000  found with (before cropping) frame dimensions:  202 181\n",
      "Starting to extract posture\n"
     ]
    },
    {
     "name": "stderr",
     "output_type": "stream",
     "text": [
      "1010it [00:33, 28.52it/s]                                                                                              "
     ]
    },
    {
     "name": "stdout",
     "output_type": "stream",
     "text": [
      "Detected frames:  1000\n"
     ]
    },
    {
     "name": "stderr",
     "output_type": "stream",
     "text": [
      "\n"
     ]
    },
    {
     "name": "stdout",
     "output_type": "stream",
     "text": [
      "Saving results in E:\\movies\\ar2breathing\\10_08_19...\n",
      "Saving csv poses!\n",
      "Starting to analyze %  E:\\movies\\ar2breathing\\10_08_19\\20-59-43R.avi\n",
      "Loading  E:\\movies\\ar2breathing\\10_08_19\\20-59-43R.avi\n",
      "Duration of video [s]:  5.0 , recorded with  200.0 fps!\n",
      "Overall # of frames:  1000  found with (before cropping) frame dimensions:  202 181\n",
      "Starting to extract posture\n"
     ]
    },
    {
     "name": "stderr",
     "output_type": "stream",
     "text": [
      "1010it [00:33, 29.04it/s]                                                                                              "
     ]
    },
    {
     "name": "stdout",
     "output_type": "stream",
     "text": [
      "Detected frames:  1000\n"
     ]
    },
    {
     "name": "stderr",
     "output_type": "stream",
     "text": [
      "\n"
     ]
    },
    {
     "name": "stdout",
     "output_type": "stream",
     "text": [
      "Saving results in E:\\movies\\ar2breathing\\10_08_19...\n",
      "Saving csv poses!\n",
      "Starting to analyze %  E:\\movies\\ar2breathing\\10_08_19\\21-00-02R.avi\n",
      "Loading  E:\\movies\\ar2breathing\\10_08_19\\21-00-02R.avi\n",
      "Duration of video [s]:  5.0 , recorded with  200.0 fps!\n",
      "Overall # of frames:  1000  found with (before cropping) frame dimensions:  202 181\n",
      "Starting to extract posture\n"
     ]
    },
    {
     "name": "stderr",
     "output_type": "stream",
     "text": [
      "1010it [00:32, 31.02it/s]                                                                                              "
     ]
    },
    {
     "name": "stdout",
     "output_type": "stream",
     "text": [
      "Detected frames:  1000\n"
     ]
    },
    {
     "name": "stderr",
     "output_type": "stream",
     "text": [
      "\n"
     ]
    },
    {
     "name": "stdout",
     "output_type": "stream",
     "text": [
      "Saving results in E:\\movies\\ar2breathing\\10_08_19...\n",
      "Saving csv poses!\n",
      "Starting to analyze %  E:\\movies\\ar2breathing\\10_08_19\\21-00-20R.avi\n",
      "Loading  E:\\movies\\ar2breathing\\10_08_19\\21-00-20R.avi\n",
      "Duration of video [s]:  4.79 , recorded with  200.0 fps!\n",
      "Overall # of frames:  959  found with (before cropping) frame dimensions:  202 181\n",
      "Starting to extract posture\n"
     ]
    },
    {
     "name": "stderr",
     "output_type": "stream",
     "text": [
      "960it [00:32, 29.40it/s]                                                                                               "
     ]
    },
    {
     "name": "stdout",
     "output_type": "stream",
     "text": [
      "Detected frames:  959\n"
     ]
    },
    {
     "name": "stderr",
     "output_type": "stream",
     "text": [
      "\n"
     ]
    },
    {
     "name": "stdout",
     "output_type": "stream",
     "text": [
      "Saving results in E:\\movies\\ar2breathing\\10_08_19...\n",
      "Saving csv poses!\n",
      "Starting to analyze %  E:\\movies\\ar2breathing\\10_08_19\\21-00-41R.avi\n",
      "Loading  E:\\movies\\ar2breathing\\10_08_19\\21-00-41R.avi\n",
      "Duration of video [s]:  5.0 , recorded with  200.0 fps!\n",
      "Overall # of frames:  1000  found with (before cropping) frame dimensions:  202 181\n",
      "Starting to extract posture\n"
     ]
    },
    {
     "name": "stderr",
     "output_type": "stream",
     "text": [
      "1010it [00:33, 27.18it/s]                                                                                              "
     ]
    },
    {
     "name": "stdout",
     "output_type": "stream",
     "text": [
      "Detected frames:  1000\n"
     ]
    },
    {
     "name": "stderr",
     "output_type": "stream",
     "text": [
      "\n"
     ]
    },
    {
     "name": "stdout",
     "output_type": "stream",
     "text": [
      "Saving results in E:\\movies\\ar2breathing\\10_08_19...\n",
      "Saving csv poses!\n",
      "Starting to analyze %  E:\\movies\\ar2breathing\\10_08_19\\21-01-09R.avi\n",
      "Loading  E:\\movies\\ar2breathing\\10_08_19\\21-01-09R.avi\n",
      "Duration of video [s]:  4.98 , recorded with  200.0 fps!\n",
      "Overall # of frames:  996  found with (before cropping) frame dimensions:  202 181\n",
      "Starting to extract posture\n"
     ]
    },
    {
     "name": "stderr",
     "output_type": "stream",
     "text": [
      "1000it [00:34, 31.58it/s]                                                                                              "
     ]
    },
    {
     "name": "stdout",
     "output_type": "stream",
     "text": [
      "Detected frames:  996\n"
     ]
    },
    {
     "name": "stderr",
     "output_type": "stream",
     "text": [
      "\n"
     ]
    },
    {
     "name": "stdout",
     "output_type": "stream",
     "text": [
      "Saving results in E:\\movies\\ar2breathing\\10_08_19...\n",
      "Saving csv poses!\n",
      "Starting to analyze %  E:\\movies\\ar2breathing\\10_08_19\\21-01-32R.avi\n",
      "Loading  E:\\movies\\ar2breathing\\10_08_19\\21-01-32R.avi\n",
      "Duration of video [s]:  4.91 , recorded with  200.0 fps!\n",
      "Overall # of frames:  982  found with (before cropping) frame dimensions:  202 181\n",
      "Starting to extract posture\n"
     ]
    },
    {
     "name": "stderr",
     "output_type": "stream",
     "text": [
      "990it [00:31, 29.30it/s]                                                                                               "
     ]
    },
    {
     "name": "stdout",
     "output_type": "stream",
     "text": [
      "Detected frames:  982\n"
     ]
    },
    {
     "name": "stderr",
     "output_type": "stream",
     "text": [
      "\n"
     ]
    },
    {
     "name": "stdout",
     "output_type": "stream",
     "text": [
      "Saving results in E:\\movies\\ar2breathing\\10_08_19...\n",
      "Saving csv poses!\n",
      "Starting to analyze %  E:\\movies\\ar2breathing\\10_08_19\\21-01-50R.avi\n",
      "Loading  E:\\movies\\ar2breathing\\10_08_19\\21-01-50R.avi\n",
      "Duration of video [s]:  5.0 , recorded with  200.0 fps!\n",
      "Overall # of frames:  1000  found with (before cropping) frame dimensions:  202 181\n",
      "Starting to extract posture\n"
     ]
    },
    {
     "name": "stderr",
     "output_type": "stream",
     "text": [
      "1010it [00:31, 31.34it/s]                                                                                              "
     ]
    },
    {
     "name": "stdout",
     "output_type": "stream",
     "text": [
      "Detected frames:  1000\n"
     ]
    },
    {
     "name": "stderr",
     "output_type": "stream",
     "text": [
      "\n"
     ]
    },
    {
     "name": "stdout",
     "output_type": "stream",
     "text": [
      "Saving results in E:\\movies\\ar2breathing\\10_08_19...\n",
      "Saving csv poses!\n",
      "Starting to analyze %  E:\\movies\\ar2breathing\\10_08_19\\21-02-09R.avi\n",
      "Loading  E:\\movies\\ar2breathing\\10_08_19\\21-02-09R.avi\n",
      "Duration of video [s]:  4.38 , recorded with  200.0 fps!\n",
      "Overall # of frames:  877  found with (before cropping) frame dimensions:  202 181\n",
      "Starting to extract posture\n"
     ]
    },
    {
     "name": "stderr",
     "output_type": "stream",
     "text": [
      "880it [00:27, 32.59it/s]                                                                                               "
     ]
    },
    {
     "name": "stdout",
     "output_type": "stream",
     "text": [
      "Detected frames:  877\n"
     ]
    },
    {
     "name": "stderr",
     "output_type": "stream",
     "text": [
      "\n"
     ]
    },
    {
     "name": "stdout",
     "output_type": "stream",
     "text": [
      "Saving results in E:\\movies\\ar2breathing\\10_08_19...\n",
      "Saving csv poses!\n",
      "Starting to analyze %  E:\\movies\\ar2breathing\\10_08_19\\21-02-27R.avi\n",
      "Loading  E:\\movies\\ar2breathing\\10_08_19\\21-02-27R.avi\n",
      "Duration of video [s]:  2.17 , recorded with  200.0 fps!\n",
      "Overall # of frames:  434  found with (before cropping) frame dimensions:  202 181\n",
      "Starting to extract posture\n"
     ]
    },
    {
     "name": "stderr",
     "output_type": "stream",
     "text": [
      "440it [00:13, 34.28it/s]                                                                                               "
     ]
    },
    {
     "name": "stdout",
     "output_type": "stream",
     "text": [
      "Detected frames:  434\n"
     ]
    },
    {
     "name": "stderr",
     "output_type": "stream",
     "text": [
      "\n"
     ]
    },
    {
     "name": "stdout",
     "output_type": "stream",
     "text": [
      "Saving results in E:\\movies\\ar2breathing\\10_08_19...\n",
      "Saving csv poses!\n",
      "Starting to analyze %  E:\\movies\\ar2breathing\\10_08_19\\21-02-48R.avi\n",
      "Loading  E:\\movies\\ar2breathing\\10_08_19\\21-02-48R.avi\n",
      "Duration of video [s]:  4.82 , recorded with  200.0 fps!\n",
      "Overall # of frames:  963  found with (before cropping) frame dimensions:  202 181\n",
      "Starting to extract posture\n"
     ]
    },
    {
     "name": "stderr",
     "output_type": "stream",
     "text": [
      "970it [00:31, 30.15it/s]                                                                                               "
     ]
    },
    {
     "name": "stdout",
     "output_type": "stream",
     "text": [
      "Detected frames:  963\n"
     ]
    },
    {
     "name": "stderr",
     "output_type": "stream",
     "text": [
      "\n"
     ]
    },
    {
     "name": "stdout",
     "output_type": "stream",
     "text": [
      "Saving results in E:\\movies\\ar2breathing\\10_08_19...\n",
      "Saving csv poses!\n",
      "Starting to analyze %  E:\\movies\\ar2breathing\\10_08_19\\21-03-07R.avi\n",
      "Loading  E:\\movies\\ar2breathing\\10_08_19\\21-03-07R.avi\n",
      "Duration of video [s]:  2.8 , recorded with  200.0 fps!\n",
      "Overall # of frames:  560  found with (before cropping) frame dimensions:  202 181\n",
      "Starting to extract posture\n"
     ]
    },
    {
     "name": "stderr",
     "output_type": "stream",
     "text": [
      "570it [00:18, 30.24it/s]                                                                                               "
     ]
    },
    {
     "name": "stdout",
     "output_type": "stream",
     "text": [
      "Detected frames:  560\n"
     ]
    },
    {
     "name": "stderr",
     "output_type": "stream",
     "text": [
      "\n"
     ]
    },
    {
     "name": "stdout",
     "output_type": "stream",
     "text": [
      "Saving results in E:\\movies\\ar2breathing\\10_08_19...\n",
      "Saving csv poses!\n",
      "Starting to analyze %  E:\\movies\\ar2breathing\\10_08_19\\21-03-27R.avi\n",
      "Loading  E:\\movies\\ar2breathing\\10_08_19\\21-03-27R.avi\n",
      "Duration of video [s]:  4.96 , recorded with  200.0 fps!\n",
      "Overall # of frames:  993  found with (before cropping) frame dimensions:  202 181\n",
      "Starting to extract posture\n"
     ]
    },
    {
     "name": "stderr",
     "output_type": "stream",
     "text": [
      "1000it [00:31, 33.49it/s]                                                                                              "
     ]
    },
    {
     "name": "stdout",
     "output_type": "stream",
     "text": [
      "Detected frames:  993\n"
     ]
    },
    {
     "name": "stderr",
     "output_type": "stream",
     "text": [
      "\n"
     ]
    },
    {
     "name": "stdout",
     "output_type": "stream",
     "text": [
      "Saving results in E:\\movies\\ar2breathing\\10_08_19...\n",
      "Saving csv poses!\n",
      "Starting to analyze %  E:\\movies\\ar2breathing\\10_08_19\\21-03-46R.avi\n",
      "Loading  E:\\movies\\ar2breathing\\10_08_19\\21-03-46R.avi\n",
      "Duration of video [s]:  5.0 , recorded with  200.0 fps!\n",
      "Overall # of frames:  1000  found with (before cropping) frame dimensions:  202 181\n",
      "Starting to extract posture\n"
     ]
    },
    {
     "name": "stderr",
     "output_type": "stream",
     "text": [
      "1010it [00:32, 28.55it/s]                                                                                              "
     ]
    },
    {
     "name": "stdout",
     "output_type": "stream",
     "text": [
      "Detected frames:  1000\n"
     ]
    },
    {
     "name": "stderr",
     "output_type": "stream",
     "text": [
      "\n"
     ]
    },
    {
     "name": "stdout",
     "output_type": "stream",
     "text": [
      "Saving results in E:\\movies\\ar2breathing\\10_08_19...\n",
      "Saving csv poses!\n",
      "Starting to analyze %  E:\\movies\\ar2breathing\\10_08_19\\21-04-05R.avi\n",
      "Loading  E:\\movies\\ar2breathing\\10_08_19\\21-04-05R.avi\n",
      "Duration of video [s]:  2.46 , recorded with  200.0 fps!\n",
      "Overall # of frames:  493  found with (before cropping) frame dimensions:  202 181\n",
      "Starting to extract posture\n"
     ]
    },
    {
     "name": "stderr",
     "output_type": "stream",
     "text": [
      "500it [00:16, 28.55it/s]                                                                                               "
     ]
    },
    {
     "name": "stdout",
     "output_type": "stream",
     "text": [
      "Detected frames:  493\n"
     ]
    },
    {
     "name": "stderr",
     "output_type": "stream",
     "text": [
      "\n"
     ]
    },
    {
     "name": "stdout",
     "output_type": "stream",
     "text": [
      "Saving results in E:\\movies\\ar2breathing\\10_08_19...\n",
      "Saving csv poses!\n",
      "Starting to analyze %  E:\\movies\\ar2breathing\\10_08_19\\21-04-23R.avi\n",
      "Loading  E:\\movies\\ar2breathing\\10_08_19\\21-04-23R.avi\n",
      "Duration of video [s]:  4.92 , recorded with  200.0 fps!\n",
      "Overall # of frames:  985  found with (before cropping) frame dimensions:  202 181\n",
      "Starting to extract posture\n"
     ]
    },
    {
     "name": "stderr",
     "output_type": "stream",
     "text": [
      "990it [00:35, 29.53it/s]                                                                                               "
     ]
    },
    {
     "name": "stdout",
     "output_type": "stream",
     "text": [
      "Detected frames:  985\n"
     ]
    },
    {
     "name": "stderr",
     "output_type": "stream",
     "text": [
      "\n"
     ]
    },
    {
     "name": "stdout",
     "output_type": "stream",
     "text": [
      "Saving results in E:\\movies\\ar2breathing\\10_08_19...\n",
      "Saving csv poses!\n",
      "Starting to analyze %  E:\\movies\\ar2breathing\\10_08_19\\21-04-41R.avi\n",
      "Loading  E:\\movies\\ar2breathing\\10_08_19\\21-04-41R.avi\n",
      "Duration of video [s]:  3.71 , recorded with  200.0 fps!\n",
      "Overall # of frames:  742  found with (before cropping) frame dimensions:  202 181\n",
      "Starting to extract posture\n"
     ]
    },
    {
     "name": "stderr",
     "output_type": "stream",
     "text": [
      "750it [00:25, 28.78it/s]                                                                                               "
     ]
    },
    {
     "name": "stdout",
     "output_type": "stream",
     "text": [
      "Detected frames:  742\n"
     ]
    },
    {
     "name": "stderr",
     "output_type": "stream",
     "text": [
      "\n"
     ]
    },
    {
     "name": "stdout",
     "output_type": "stream",
     "text": [
      "Saving results in E:\\movies\\ar2breathing\\10_08_19...\n",
      "Saving csv poses!\n",
      "Starting to analyze %  E:\\movies\\ar2breathing\\10_08_19\\21-05-01R.avi\n",
      "Loading  E:\\movies\\ar2breathing\\10_08_19\\21-05-01R.avi\n",
      "Duration of video [s]:  4.84 , recorded with  200.0 fps!\n",
      "Overall # of frames:  969  found with (before cropping) frame dimensions:  202 181\n",
      "Starting to extract posture\n"
     ]
    },
    {
     "name": "stderr",
     "output_type": "stream",
     "text": [
      "970it [00:31, 29.76it/s]                                                                                               "
     ]
    },
    {
     "name": "stdout",
     "output_type": "stream",
     "text": [
      "Detected frames:  969\n"
     ]
    },
    {
     "name": "stderr",
     "output_type": "stream",
     "text": [
      "\n"
     ]
    },
    {
     "name": "stdout",
     "output_type": "stream",
     "text": [
      "Saving results in E:\\movies\\ar2breathing\\10_08_19...\n",
      "Saving csv poses!\n",
      "The videos are analyzed. Now your research can truly start! \n",
      " You can create labeled videos with 'create_labeled_video'.\n",
      "If the tracking is not satisfactory for some videos, consider expanding the training set. You can use the function 'extract_outlier_frames' to extract any outlier frames!\n"
     ]
    }
   ],
   "source": [
    "\n",
    "path_config_file = 'D:\\\\rat_movies_SC\\\\ar19muscimol\\\\10_10_2019\\\\ar19muscimol10-10-19_LR_R-Arash-2020-02-28\\\\config.yaml';\n",
    "#path_config_file = 'D:\\\\rat_movies_SC\\\\ar19muscimol\\\\10_10_2019\\\\ar19muscimol10-10-19_LR_L-Arash-2020-03-01\\\\config.yaml';\n",
    "#path_config_file = 'E:\\\\movies\\\\ar2breathing\\\\10_08_19\\\\ar2breathing_10_08_19-Arash-2020-03-26\\\\config.yaml'\n",
    "path_config_file = 'E:\\\\movies\\\\ar2breathing\\\\10_08_19\\\\ar2breathing_10_08_19LR_R-Arash-2020-04-30\\\\config.yaml'\n",
    "import os\n",
    "\n",
    "Mainfolder = 'E:\\\\movies\\\\ar2breathing\\\\10_06_19'\n",
    "Mainfolder = 'D:\\\\rat_movies_SC\\\\ar19muscimol\\\\10_10_2019'\n",
    "Mainfolder = 'D:\\\\rat_movies_SC\\\\ar19tear19salin\\\\10_08_19'\n",
    "Mainfolder = 'E:\\\\movies\\\\MUSCIMOL\\\\ar19tear19salin\\\\10_08_19'\n",
    "Mainfolder = 'E:\\\\movies\\\\ar2breathing\\\\10_08_19'\n",
    "text_files = [os.path.join(Mainfolder,f) for f in os.listdir(Mainfolder) if f.endswith('.mp4') and not f.endswith('L.avi') and not f.endswith('R.avi') and not f.endswith('videopoints.avi') and not f.endswith('videopoints.avi')]\n",
    "text_files = [os.path.join(Mainfolder,f) for f in os.listdir(Mainfolder) if f.endswith('R.avi') and not f.endswith('L.avi') and not f.endswith('videopoints.avi') and not f.endswith('videopoints.avi')]\n",
    "#text_files = [os.path.join(Mainfolder,f) for f in os.listdir(Mainfolder) if f.endswith('L.avi') and not f.endswith('R.avi') and not f.endswith('videopoints.avi') and not f.endswith('videopoints.avi')]\n",
    "\n",
    "#text_files = [os.path.join(Mainfolder,f) for f in os.listdir(Mainfolder) if f.endswith('.mp4') and not f.endswith('L.avi') and not f.endswith('R.avi') and not f.endswith('videopoints.avi') and not f.endswith('videopoints.avi')]\n",
    "\n",
    "#path_config_file = 'F:\\\\ar19muscimol500ug500nlrightside\\\\10_10_19\\\\ar19_10102019-Fassihi-2019-11-12\\\\config.yaml';\n",
    "\n",
    "\n",
    "#path_config_file = 'D:\\\\rat_movies_SC\\\\ar19muscimol\\\\10_10_2019\\\\ar19muscimol10-10-19_LR_L-Arash-2020-03-01\\\\config.yaml'\n",
    "##text_files = ['']\n",
    "#text_files = 'E:\\\\movies\\\\ar2breathing\\\\10_08_19\\\\20-18-27.avi'\n",
    "\n",
    "print(text_files)\n",
    "#deeplabcut.analyze_videos(path_config_file,text_files[1:len(text_files)],shuffle=1, save_as_csv=True)\n",
    "#deeplabcut.analyze_videos(path_config_file,text_files[3],shuffle=1, save_as_csv=True)\n",
    "deeplabcut.analyze_videos(path_config_file,text_files,shuffle=1, save_as_csv=True)"
   ]
  },
  {
   "cell_type": "markdown",
   "metadata": {},
   "source": [
    "## Track non tracked files\n"
   ]
  },
  {
   "cell_type": "code",
   "execution_count": 11,
   "metadata": {},
   "outputs": [
    {
     "name": "stdout",
     "output_type": "stream",
     "text": [
      "Y:\\movies_Rat_SC_project\\ar2breathing\\10_06_19\\22-25-05.avi\n",
      "Using snapshot-20000 for model F:\\ar2breathing\\10_06_19\\ar2_10062019_ii-Fassihi-2019-10-07\\dlc-models\\iteration-1\\ar2_10062019_iiOct7-trainset95shuffle1\n",
      "INFO:tensorflow:Restoring parameters from F:\\ar2breathing\\10_06_19\\ar2_10062019_ii-Fassihi-2019-10-07\\dlc-models\\iteration-1\\ar2_10062019_iiOct7-trainset95shuffle1\\train\\snapshot-20000\n"
     ]
    },
    {
     "name": "stderr",
     "output_type": "stream",
     "text": [
      "INFO:tensorflow:Restoring parameters from F:\\ar2breathing\\10_06_19\\ar2_10062019_ii-Fassihi-2019-10-07\\dlc-models\\iteration-1\\ar2_10062019_iiOct7-trainset95shuffle1\\train\\snapshot-20000\n"
     ]
    },
    {
     "name": "stdout",
     "output_type": "stream",
     "text": [
      "The videos are analyzed. Now your research can truly start! \n",
      " You can create labeled videos with 'create_labeled_video'.\n",
      "If the tracking is not satisfactory for some videos, consider expanding the training set. You can use the function 'extract_outlier_frames' to extract any outlier frames!\n"
     ]
    }
   ],
   "source": [
    "# Track non tracked files \n",
    "import os\n",
    "path_config_file = 'F:\\\\ar2breathing\\\\10_06_19\\\\ar2_10062019_ii-Fassihi-2019-10-07\\\\config.yaml';\n",
    "\n",
    "Mainfolder = 'Y:\\\\movies_Rat_SC_project\\\\ar2breathing\\\\10_06_19'\n",
    "text_files = [os.path.join(Mainfolder,f) for f in os.listdir(Mainfolder) if f.endswith('.avi') and not f.endswith('L.avi') and not f.endswith('R.avi') and not f.endswith('videopoints.avi') and not f.endswith('breathing.avi')]\n",
    "text_files2 = [os.path.join(Mainfolder,f) for f in os.listdir(Mainfolder) if f.endswith('L.avi') ]\n",
    "#print(text_files)\n",
    "#%whos\n",
    "\n",
    "text_files3 = [f.replace(\"L.\", \".\") for f in text_files2 ]\n",
    "\n",
    "one_not_two = set(text_files) - set(text_files3)\n",
    "one_not_two = 'Y:\\\\movies_Rat_SC_project\\\\ar2breathing\\\\10_06_19\\\\22-25-05.avi'\n",
    "print(one_not_two)\n",
    "deeplabcut.analyze_videos(path_config_file,one_not_two,shuffle=1, save_as_csv=True)"
   ]
  },
  {
   "cell_type": "code",
   "execution_count": 13,
   "metadata": {},
   "outputs": [
    {
     "name": "stdout",
     "output_type": "stream",
     "text": [
      "D:\\rat_movies_SC\\ar19muscimol\\10_10_2019\\ar19muscimol10-10-19_LR_L-Arash-2020-03-01\\config.yaml\n"
     ]
    }
   ],
   "source": [
    "print(path_config_file)\n",
    "\n"
   ]
  },
  {
   "cell_type": "code",
   "execution_count": null,
   "metadata": {},
   "outputs": [],
   "source": [
    "path_config_file = 'D:\\\\rat_movies_SC\\\\ar17record\\\\02_27_19\\\\sc_ar17record_02272019_3-Fassihi-2019-04-28\\\\config.yaml'\n",
    "video=['D:\\\\rat_movies_SC\\\\ar17\\\\02_25_19\\\\22-38-53.avi']\n",
    "deeplabcut.analyze_videos(path_config_file,video,shuffle=1, save_as_csv=True)"
   ]
  },
  {
   "cell_type": "code",
   "execution_count": null,
   "metadata": {},
   "outputs": [],
   "source": [
    "import numpy\n"
   ]
  },
  {
   "cell_type": "code",
   "execution_count": null,
   "metadata": {},
   "outputs": [],
   "source": [
    "import os\n",
    "Mainfolder = 'D:\\\\rat_movies_SC\\\\ar17\\\\02_25_19'\n",
    "f2 = os.listdir(Mainfolder)\n",
    "text_files = [Mainfolder+'\\\\'+f for f in os.listdir(Mainfolder) if f.endswith('.avi') and not f.endswith('L.avi') and not f.endswith('R.avi') and not f.endswith('videopoints.avi') and not f.endswith('videopoints.avi')]\n",
    "print(text_files)\n",
    "      "
   ]
  },
  {
   "cell_type": "markdown",
   "metadata": {
    "colab_type": "text",
    "id": "iGu_PdTWoEJr"
   },
   "source": [
    "## Extract outlier frames [This is important step actually]\n",
    "This is an optional step and is used only when the evaluation results are poor i.e. the labels are incorrectly predicted. In such a case, the user can use the following function to extract frames where the labels are incorrectly predicted. Make sure to provide the correct value of the \"iterations\" as it will be used to create the unique directory where the extracted frames will be saved."
   ]
  },
  {
   "cell_type": "code",
   "execution_count": 4,
   "metadata": {},
   "outputs": [
    {
     "name": "stdout",
     "output_type": "stream",
     "text": [
      "E:\\movies\\ar2breathing\\10_08_19\\ar2breathing_10_08_19LR_R-Arash-2020-04-30\\config.yaml\n",
      "network parameters: DeepCut_resnet50_ar2breathing_10_08_19LR_RApr30shuffle1_163000\n",
      "Method  uncertain  found  172  putative outlier frames.\n",
      "Do you want to proceed with extracting  20  of those?\n",
      "If this list is very large, perhaps consider changing the paramters (start, stop, p_bound, comparisonbodyparts) or use a different method.\n",
      "yes/noyes\n",
      "Loading video...\n",
      "Duration of video [s]:  2.4 , recorded @  200.0 fps!\n",
      "Overall # of frames:  480 with (cropped) frame dimensions: \n",
      "Kmeans-quantization based extracting of frames from 0.0  seconds to 2.4  seconds.\n",
      "Extracting and downsampling... 171  frames from the video.\n"
     ]
    },
    {
     "name": "stderr",
     "output_type": "stream",
     "text": [
      "171it [00:00, 744.13it/s]\n"
     ]
    },
    {
     "name": "stdout",
     "output_type": "stream",
     "text": [
      "Kmeans clustering ... (this might take a while)\n",
      "Let's select frames indices: [472, 18, 184, 21, 94, 318, 180, 20, 216, 47, 81, 190, 100, 198, 41, 12, 228, 83, 44, 477]\n",
      "Creating the symbolic link of the video\n",
      "AUTOMATIC ADDING OF VIDEO TO CONFIG FILE FAILED! You need to do this manually for including it in the config.yaml file!\n",
      "Videopath: E:\\movies\\ar2breathing\\10_08_19\\20-18-27R.avi Coordinates for cropping: None\n",
      "The outlier frames are extracted. They are stored in the subdirectory labeled-data\\20-18-27R.\n",
      "Once you extracted frames for all videos, use 'refine_labels' to manually correct the labels.\n"
     ]
    }
   ],
   "source": [
    "#video=['D:\\\\rat_movies_SC\\\\ar17record\\\\02_27_19\\\\analyzed\\\\18-37-27.avi']\n",
    "#video=['D:\\\\rat_movies_SC\\\\ar15record\\\\02_27_19\\\\17-33-50video.mp4']\n",
    "#video=['D:\\\\Dropbox\\\\ar17\\\\02_25_19\\\\22-37-23.avi']\n",
    "video = ['D:\\\\movies_Rat_SC_project\\\\ar1\\\\05_24_19\\\\11-09-14.avi']\n",
    "video = ['D:\\\\movies_Rat_SC_project\\\\ar20\\\\06_20_19\\\\17-19-45.avi','D:\\\\movies_Rat_SC_project\\\\ar20\\\\06_20_19\\\\17-31-05.avi','D:\\\\movies_Rat_SC_project\\\\ar20\\\\06_20_19\\\\17-30-40.avi']\n",
    "#15-17-08v\n",
    "video = ['D:\\\\rat_movies_SC\\\\ar19tear19salin\\\\10_08_19\\\\00-27-18.avi','D:\\\\rat_movies_SC\\\\ar19tear19salin\\\\10_08_19\\\\00-24-47.avi']\n",
    "video = ['D:\\\\rat_movies_SC\\\\ar19tear19salin\\\\10_08_19\\\\00-24-26video.mp4']\n",
    "video = ['E:\\\\movies\\\\ar2breathing\\\\10_06_19\\\\21-57-55L.avi']\n",
    "video = ['E:\\\\movies\\\\ar2breathing\\\\10_08_19\\\\20-18-27R.avi']\n",
    "\n",
    "#path_config_file = 'D:\\\\rat_movies_SC\\\\ar19muscimol\\\\10_10_2019\\\\ar19muscimol10-10-19_LR_L-Arash-2020-03-01\\\\config.yaml';\n",
    "\n",
    "#path_config_file = 'D:\\\\rat_movies_SC\\\\ar17record\\\\02_27_19\\\\sc_ar17record_02272019_3-Fassihi-2019-04-28\\\\config.yaml'\n",
    "#path_config_file = 'D:\\\\rat_movies_SC\\\\ar15record\\\\02_27_19\\\\sc_ar15record_02272019-Fassihi-2019-03-12\\\\config.yaml'\n",
    "#path_config_file = 'D:\\\\movies_Rat_SC_project\\\\ar1\\\\05_24_19\\\\sc_aa1_05242019-Fassihi-2019-05-30\\\\config.yaml' #Enter the path of the config file that was just created from the above step (check the folder)\n",
    "#path_config_file = 'D:\\\\movies_Rat_SC_project\\\\ar3\\\\06_07_19\\\\sc_aa3_06072019-Fassihi-2019-06-10\\\\config.yaml' #Enter the path of the config file that was just created from the above step (check the folder)\n",
    "#path_config_file = 'D:\\\\movies_Rat_SC_project\\\\ar14\\\\06_18_19\\\\sc_ar14_06182019-Fassihi-2019-06-19\\\\config.yaml' #Enter the path of the config file that was just created from the above step (check the folder)\n",
    "print(path_config_file)\n",
    "\n",
    "#deeplabcut.extract_outlier_frames(path_config_file,video,outlieralgorithm='uncertain',p_bound=.6)\n",
    "#deeplabcut.extract_outlier_frames(path_config_file,video,outlieralgorithm='uncertain',comparisonbodyparts =  ['nose','snout'],p_bound=.6)\n",
    "deeplabcut.extract_outlier_frames(path_config_file,video,outlieralgorithm='uncertain',p_bound=.9)"
   ]
  },
  {
   "cell_type": "code",
   "execution_count": 12,
   "metadata": {},
   "outputs": [
    {
     "name": "stdout",
     "output_type": "stream",
     "text": [
      "D:\\movies_Rat_SC_project\\ar20\\06_20_19\\17-30-40avi\n"
     ]
    }
   ],
   "source": [
    "print(video[2])\n"
   ]
  },
  {
   "cell_type": "code",
   "execution_count": 4,
   "metadata": {
    "colab": {},
    "colab_type": "code",
    "id": "gkbaBOJVoEJs"
   },
   "outputs": [
    {
     "ename": "FileNotFoundError",
     "evalue": "[WinError 3] The system cannot find the path specified: 'D:\\\\rat_movies_SC\\\\ar19\\\\02_07_19'",
     "output_type": "error",
     "traceback": [
      "\u001b[1;31m---------------------------------------------------------------------------\u001b[0m",
      "\u001b[1;31mFileNotFoundError\u001b[0m                         Traceback (most recent call last)",
      "\u001b[1;32m<ipython-input-4-b91127c43abf>\u001b[0m in \u001b[0;36m<module>\u001b[1;34m()\u001b[0m\n\u001b[0;32m      6\u001b[0m \u001b[1;33m\u001b[0m\u001b[0m\n\u001b[0;32m      7\u001b[0m \u001b[1;33m\u001b[0m\u001b[0m\n\u001b[1;32m----> 8\u001b[1;33m \u001b[0mf\u001b[0m \u001b[1;33m=\u001b[0m \u001b[0mos\u001b[0m\u001b[1;33m.\u001b[0m\u001b[0mlistdir\u001b[0m\u001b[1;33m(\u001b[0m\u001b[0mMainfolder\u001b[0m\u001b[1;33m)\u001b[0m\u001b[1;33m\u001b[0m\u001b[1;33m\u001b[0m\u001b[0m\n\u001b[0m\u001b[0;32m      9\u001b[0m \u001b[0mtext_files\u001b[0m \u001b[1;33m=\u001b[0m \u001b[1;33m[\u001b[0m\u001b[0mf\u001b[0m \u001b[1;32mfor\u001b[0m \u001b[0mf\u001b[0m \u001b[1;32min\u001b[0m \u001b[0mos\u001b[0m\u001b[1;33m.\u001b[0m\u001b[0mlistdir\u001b[0m\u001b[1;33m(\u001b[0m\u001b[0mMainfolder\u001b[0m\u001b[1;33m)\u001b[0m \u001b[1;32mif\u001b[0m \u001b[0mf\u001b[0m\u001b[1;33m.\u001b[0m\u001b[0mendswith\u001b[0m\u001b[1;33m(\u001b[0m\u001b[1;34m'.avi'\u001b[0m\u001b[1;33m)\u001b[0m\u001b[1;33m]\u001b[0m\u001b[1;33m\u001b[0m\u001b[1;33m\u001b[0m\u001b[0m\n\u001b[0;32m     10\u001b[0m \u001b[1;33m\u001b[0m\u001b[0m\n",
      "\u001b[1;31mFileNotFoundError\u001b[0m: [WinError 3] The system cannot find the path specified: 'D:\\\\rat_movies_SC\\\\ar19\\\\02_07_19'"
     ]
    }
   ],
   "source": [
    "\n",
    "path_config_file = 'D:\\\\rat_movies_SC\\\\ar19\\\\02_07_19\\\\sc_ar19_02072019-Fassihi4-2019-02-13\\\\config.yaml' #Enter the path of the config file that was just created from the above step (check the folder)\n",
    "\n",
    "import os\n",
    "Mainfolder = 'D:\\\\rat_movies_SC\\\\ar19\\\\02_07_19'\n",
    "\n",
    "\n",
    "f = os.listdir(Mainfolder)\n",
    "text_files = [f for f in os.listdir(Mainfolder) if f.endswith('.avi')]\n",
    "\n",
    "\n",
    "my_list = text_files\n",
    "thisApen = Mainfolder+'kir'\n",
    "thisApen = thisApen.replace(\"kir\", \"\\\\\")\n",
    "string = thisApen\n",
    "my_new_list = [ string + x for x in my_list]\n",
    "\n",
    "deeplabcut.extract_outlier_frames(path_config_file,my_new_list)"
   ]
  },
  {
   "cell_type": "markdown",
   "metadata": {
    "colab_type": "text",
    "id": "8ib0uvhaoEJx"
   },
   "source": [
    "## Refine Labels [optional step]\n",
    "Following the extraction of outlier frames, the user can use the following function to move the predicted labels to the correct location. Thus augmenting the training dataset."
   ]
  },
  {
   "cell_type": "code",
   "execution_count": 5,
   "metadata": {
    "colab": {},
    "colab_type": "code",
    "id": "n_FpEXtyoEJy"
   },
   "outputs": [
    {
     "name": "stderr",
     "output_type": "stream",
     "text": [
      "ERROR:root:Cannot activate multiple GUI eventloops\n"
     ]
    },
    {
     "name": "stdout",
     "output_type": "stream",
     "text": [
      "Windows\n",
      "Checking labels if they are outside the image\n",
      "Checking labels if they are outside the image\n"
     ]
    },
    {
     "ename": "ValueError",
     "evalue": "On level 0, label max (1) >= length of level  (1). NOTE: this index is in an inconsistent state",
     "output_type": "error",
     "traceback": [
      "\u001b[1;31m---------------------------------------------------------------------------\u001b[0m",
      "\u001b[1;31mValueError\u001b[0m                                Traceback (most recent call last)",
      "\u001b[1;32mC:\\Users\\Arash\\Anaconda3\\envs\\dlc-windowsGPU\\lib\\site-packages\\deeplabcut\\refine_training_dataset\\refinement.py\u001b[0m in \u001b[0;36msaveDataSet\u001b[1;34m(self, event)\u001b[0m\n\u001b[0;32m    535\u001b[0m \u001b[1;33m\u001b[0m\u001b[0m\n\u001b[0;32m    536\u001b[0m         \u001b[0mself\u001b[0m\u001b[1;33m.\u001b[0m\u001b[0mDataframe\u001b[0m \u001b[1;33m=\u001b[0m \u001b[0mMainFrame\u001b[0m\u001b[1;33m.\u001b[0m\u001b[0mcheck_labels\u001b[0m\u001b[1;33m(\u001b[0m\u001b[0mself\u001b[0m\u001b[1;33m)\u001b[0m\u001b[1;33m\u001b[0m\u001b[1;33m\u001b[0m\u001b[0m\n\u001b[1;32m--> 537\u001b[1;33m         \u001b[0mself\u001b[0m\u001b[1;33m.\u001b[0m\u001b[0mDataframe\u001b[0m\u001b[1;33m.\u001b[0m\u001b[0mcolumns\u001b[0m\u001b[1;33m.\u001b[0m\u001b[0mset_levels\u001b[0m\u001b[1;33m(\u001b[0m\u001b[1;33m[\u001b[0m\u001b[0mself\u001b[0m\u001b[1;33m.\u001b[0m\u001b[0mscorer\u001b[0m\u001b[1;33m.\u001b[0m\u001b[0mreplace\u001b[0m\u001b[1;33m(\u001b[0m\u001b[0mself\u001b[0m\u001b[1;33m.\u001b[0m\u001b[0mscorer\u001b[0m\u001b[1;33m,\u001b[0m\u001b[0mself\u001b[0m\u001b[1;33m.\u001b[0m\u001b[0mhumanscorer\u001b[0m\u001b[1;33m)\u001b[0m\u001b[1;33m]\u001b[0m\u001b[1;33m,\u001b[0m\u001b[0mlevel\u001b[0m\u001b[1;33m=\u001b[0m\u001b[1;36m0\u001b[0m\u001b[1;33m,\u001b[0m\u001b[0minplace\u001b[0m\u001b[1;33m=\u001b[0m\u001b[1;32mTrue\u001b[0m\u001b[1;33m)\u001b[0m\u001b[1;33m\u001b[0m\u001b[1;33m\u001b[0m\u001b[0m\n\u001b[0m\u001b[0;32m    538\u001b[0m         \u001b[0mself\u001b[0m\u001b[1;33m.\u001b[0m\u001b[0mDataframe\u001b[0m \u001b[1;33m=\u001b[0m \u001b[0mself\u001b[0m\u001b[1;33m.\u001b[0m\u001b[0mDataframe\u001b[0m\u001b[1;33m.\u001b[0m\u001b[0mdrop\u001b[0m\u001b[1;33m(\u001b[0m\u001b[1;34m'likelihood'\u001b[0m\u001b[1;33m,\u001b[0m\u001b[0maxis\u001b[0m\u001b[1;33m=\u001b[0m\u001b[1;36m1\u001b[0m\u001b[1;33m,\u001b[0m\u001b[0mlevel\u001b[0m\u001b[1;33m=\u001b[0m\u001b[1;36m2\u001b[0m\u001b[1;33m)\u001b[0m\u001b[1;33m\u001b[0m\u001b[1;33m\u001b[0m\u001b[0m\n\u001b[0;32m    539\u001b[0m \u001b[1;33m\u001b[0m\u001b[0m\n",
      "\u001b[1;32mC:\\Users\\Arash\\Anaconda3\\envs\\dlc-windowsGPU\\lib\\site-packages\\pandas\\core\\indexes\\multi.py\u001b[0m in \u001b[0;36mset_levels\u001b[1;34m(self, levels, level, inplace, verify_integrity)\u001b[0m\n\u001b[0;32m    276\u001b[0m         \u001b[0midx\u001b[0m\u001b[1;33m.\u001b[0m\u001b[0m_reset_identity\u001b[0m\u001b[1;33m(\u001b[0m\u001b[1;33m)\u001b[0m\u001b[1;33m\u001b[0m\u001b[1;33m\u001b[0m\u001b[0m\n\u001b[0;32m    277\u001b[0m         idx._set_levels(levels, level=level, validate=True,\n\u001b[1;32m--> 278\u001b[1;33m                         verify_integrity=verify_integrity)\n\u001b[0m\u001b[0;32m    279\u001b[0m         \u001b[1;32mif\u001b[0m \u001b[1;32mnot\u001b[0m \u001b[0minplace\u001b[0m\u001b[1;33m:\u001b[0m\u001b[1;33m\u001b[0m\u001b[1;33m\u001b[0m\u001b[0m\n\u001b[0;32m    280\u001b[0m             \u001b[1;32mreturn\u001b[0m \u001b[0midx\u001b[0m\u001b[1;33m\u001b[0m\u001b[1;33m\u001b[0m\u001b[0m\n",
      "\u001b[1;32mC:\\Users\\Arash\\Anaconda3\\envs\\dlc-windowsGPU\\lib\\site-packages\\pandas\\core\\indexes\\multi.py\u001b[0m in \u001b[0;36m_set_levels\u001b[1;34m(self, levels, level, copy, validate, verify_integrity)\u001b[0m\n\u001b[0;32m    205\u001b[0m \u001b[1;33m\u001b[0m\u001b[0m\n\u001b[0;32m    206\u001b[0m         \u001b[1;32mif\u001b[0m \u001b[0mverify_integrity\u001b[0m\u001b[1;33m:\u001b[0m\u001b[1;33m\u001b[0m\u001b[1;33m\u001b[0m\u001b[0m\n\u001b[1;32m--> 207\u001b[1;33m             \u001b[0mself\u001b[0m\u001b[1;33m.\u001b[0m\u001b[0m_verify_integrity\u001b[0m\u001b[1;33m(\u001b[0m\u001b[0mlevels\u001b[0m\u001b[1;33m=\u001b[0m\u001b[0mnew_levels\u001b[0m\u001b[1;33m)\u001b[0m\u001b[1;33m\u001b[0m\u001b[1;33m\u001b[0m\u001b[0m\n\u001b[0m\u001b[0;32m    208\u001b[0m \u001b[1;33m\u001b[0m\u001b[0m\n\u001b[0;32m    209\u001b[0m         \u001b[0mnames\u001b[0m \u001b[1;33m=\u001b[0m \u001b[0mself\u001b[0m\u001b[1;33m.\u001b[0m\u001b[0mnames\u001b[0m\u001b[1;33m\u001b[0m\u001b[1;33m\u001b[0m\u001b[0m\n",
      "\u001b[1;32mC:\\Users\\Arash\\Anaconda3\\envs\\dlc-windowsGPU\\lib\\site-packages\\pandas\\core\\indexes\\multi.py\u001b[0m in \u001b[0;36m_verify_integrity\u001b[1;34m(self, labels, levels)\u001b[0m\n\u001b[0;32m    176\u001b[0m                                  \u001b[1;34m\" level  (%d). NOTE: this index is in an\"\u001b[0m\u001b[1;33m\u001b[0m\u001b[1;33m\u001b[0m\u001b[0m\n\u001b[0;32m    177\u001b[0m                                  \" inconsistent state\" % (i, label.max(),\n\u001b[1;32m--> 178\u001b[1;33m                                                           len(level)))\n\u001b[0m\u001b[0;32m    179\u001b[0m \u001b[1;33m\u001b[0m\u001b[0m\n\u001b[0;32m    180\u001b[0m     \u001b[1;32mdef\u001b[0m \u001b[0m_get_levels\u001b[0m\u001b[1;33m(\u001b[0m\u001b[0mself\u001b[0m\u001b[1;33m)\u001b[0m\u001b[1;33m:\u001b[0m\u001b[1;33m\u001b[0m\u001b[1;33m\u001b[0m\u001b[0m\n",
      "\u001b[1;31mValueError\u001b[0m: On level 0, label max (1) >= length of level  (1). NOTE: this index is in an inconsistent state"
     ]
    },
    {
     "name": "stdout",
     "output_type": "stream",
     "text": [
      "Closing... The refined labels are stored in a subdirectory under labeled-data. Use the function 'merge_datasets' to augment the training dataset, and then re-train a network using create_training_dataset followed by train_network!\n"
     ]
    }
   ],
   "source": [
    "#path_config_file = 'D:\\\\movies_Rat_SC_project\\\\ar1\\\\05_24_19\\\\sc_aa1_05242019-Fassihi-2019-05-30\\\\config.yaml' #Enter the path of the config file that was just created from the above step (check the folder)\n",
    "#path_config_file = 'D:\\\\movies_Rat_SC_project\\\\ar3\\\\06_07_19\\\\sc_aa3_06072019-Fassihi-2019-06-10\\\\config.yaml' #Enter the path of the config file that was just created from the above step (check the folder)\n",
    "\n",
    "#import matplotlib\n",
    "#print(matplotlib.__version__)\n",
    "%gui wx\n",
    "#path_config_file = 'D:\\\\rat_movies_SC\\\\ar15record\\\\02_27_19\\\\sc_ar15record_02272019-Fassihi-2019-03-12\\\\config.yaml'\n",
    "#print(path_config_file)\n",
    "deeplabcut.refine_labels(path_config_file)"
   ]
  },
  {
   "cell_type": "code",
   "execution_count": 8,
   "metadata": {
    "colab": {},
    "colab_type": "code",
    "id": "CHzstWr8oEJ2"
   },
   "outputs": [
    {
     "name": "stdout",
     "output_type": "stream",
     "text": [
      "Merged data sets and updated refinement iteration to 2.\n",
      "Now you can create a new training set for the expanded annotated images (use create_training_dataset).\n"
     ]
    }
   ],
   "source": [
    "#Once all folders are relabeled, check them and advance. See how to check labels, above!\n",
    "#path_config_file = 'D:\\\\movies_Rat_SC_project\\\\ar1\\\\05_24_19\\\\sc_aa1_05242019-Fassihi-2019-05-30\\\\config.yaml' #Enter the path of the config file that was just created from the above step (check the folder)\n",
    "#path_config_file = 'D:\\\\movies_Rat_SC_project\\\\ar3\\\\06_07_19\\\\sc_aa3_06072019-Fassihi-2019-06-10\\\\config.yaml' #Enter the path of the config file that was just created from the above step (check the folder)\n",
    "\n",
    "deeplabcut.merge_datasets(path_config_file)"
   ]
  },
  {
   "cell_type": "markdown",
   "metadata": {
    "colab_type": "text",
    "id": "QCHj7qyboEJ6"
   },
   "source": [
    "## Create a new iteration of training dataset [optional step]\n",
    "Following the refine labels, append these frames to the original dataset to create a new iteration of training dataset."
   ]
  },
  {
   "cell_type": "code",
   "execution_count": 9,
   "metadata": {
    "colab": {},
    "colab_type": "code",
    "id": "ytQoxIldoEJ7"
   },
   "outputs": [
    {
     "name": "stdout",
     "output_type": "stream",
     "text": [
      "[0, 1]\n",
      "The training dataset is successfully created. Use the function 'train_network' to start training. Happy training!\n",
      "The training dataset is successfully created. Use the function 'train_network' to start training. Happy training!\n"
     ]
    }
   ],
   "source": [
    "list_of_ints = list(range(2))\n",
    "print(list_of_ints)\n",
    "deeplabcut.create_training_dataset(path_config_file,Shuffles= list_of_ints) ;"
   ]
  },
  {
   "cell_type": "markdown",
   "metadata": {
    "colab_type": "text",
    "id": "pCrUvQIvoEKD"
   },
   "source": [
    "## Create labeled video\n",
    "This funtion is for visualiztion purpose and can be used to create a video in .mp4 format with labels predicted by the network. This video is saved in the same directory where the original video resides. "
   ]
  },
  {
   "cell_type": "code",
   "execution_count": 9,
   "metadata": {
    "colab": {},
    "colab_type": "code",
    "id": "6aDF7Q7KoEKE",
    "scrolled": true
   },
   "outputs": [
    {
     "name": "stdout",
     "output_type": "stream",
     "text": [
      "D:\\rat_movies_SC\\ar2breathing\\10_06_19\\ar19salin_10-06-19_LR-Arash-2020-01-24\\config.yaml\n",
      "Starting %  D:\\rat_movies_SC\\ar2breathing\\10_06_19\\Right ['D:\\\\rat_movies_SC\\\\ar2breathing\\\\10_06_19\\\\Right\\\\22-17-49R.avi']\n",
      "Loading  D:\\rat_movies_SC\\ar2breathing\\10_06_19\\Right\\22-17-49R.avi and data.\n",
      "False 0 202 0 181\n",
      "562\n",
      "Duration of video [s]:  2.81 , recorded with  200.0 fps!\n",
      "Overall # of frames:  562 with cropped frame dimensions:  202 181\n",
      "Generating frames and creating video.\n"
     ]
    },
    {
     "name": "stderr",
     "output_type": "stream",
     "text": [
      "100%|████████████████████████████████████████████████████████████████████████████████| 562/562 [02:39<00:00,  2.67it/s]\n"
     ]
    },
    {
     "name": "stdout",
     "output_type": "stream",
     "text": [
      "All labeled frames were created, now generating video...\n"
     ]
    }
   ],
   "source": [
    "print(path_config_file)\n",
    "videofile  = ['D:\\\\rat_movies_SC\\\\ar19tear19salin\\\\10_08_19\\\\00-24-02.avi','D:\\\\rat_movies_SC\\\\ar19tear19salin\\\\10_08_19\\\\00-24-47.avi']\n",
    "videofile = ['F:\\\\ar2breathing\\\\10_18_19\\\\00-16-30video.mp4']\n",
    "videofile = ['F:\\\\ar2breathing\\\\10_18_19\\\\00-16-30video.mp4']\n",
    "videofile = ['D:\\\\rat_movies_SC\\\\ar2breathing\\\\10_06_19\\\\Right\\\\22-17-49R.avi']\n",
    "\n",
    "deeplabcut.create_labeled_video(path_config_file,videofile,save_frames=True) # my_new_list was created in prevouse cell as all videos in the folder \n",
    "#deeplabcut.create_labeled_video(path_config_file,text_files,save_frames=True) # my_new_list was created in prevouse cell as all videos in the folder "
   ]
  },
  {
   "cell_type": "markdown",
   "metadata": {
    "colab_type": "text",
    "id": "8GTiuJESoEKH"
   },
   "source": [
    "## Plot the trajectories of the analyzed videos (optional)\n",
    "This function plots the trajectories of all the body parts across the entire video. Each body part is identified by a unique color."
   ]
  },
  {
   "cell_type": "code",
   "execution_count": null,
   "metadata": {
    "colab": {},
    "colab_type": "code",
    "id": "gX21zZbXoEKJ"
   },
   "outputs": [],
   "source": [
    "%matplotlib notebook #for making interactive plots.\n",
    "deeplabcut.plot_trajectories(path_config_file,my_new_list)\n",
    "\n"
   ]
  }
 ],
 "metadata": {
  "accelerator": "GPU",
  "colab": {
   "name": "Demo-yourowndata.ipynb",
   "provenance": [],
   "version": "0.3.2"
  },
  "kernelspec": {
   "display_name": "Python 3",
   "language": "python",
   "name": "python3"
  },
  "language_info": {
   "codemirror_mode": {
    "name": "ipython",
    "version": 3
   },
   "file_extension": ".py",
   "mimetype": "text/x-python",
   "name": "python",
   "nbconvert_exporter": "python",
   "pygments_lexer": "ipython3",
   "version": "3.6.9"
  },
  "varInspector": {
   "cols": {
    "lenName": 16,
    "lenType": 16,
    "lenVar": 40
   },
   "kernels_config": {
    "python": {
     "delete_cmd_postfix": "",
     "delete_cmd_prefix": "del ",
     "library": "var_list.py",
     "varRefreshCmd": "print(var_dic_list())"
    },
    "r": {
     "delete_cmd_postfix": ") ",
     "delete_cmd_prefix": "rm(",
     "library": "var_list.r",
     "varRefreshCmd": "cat(var_dic_list()) "
    }
   },
   "types_to_exclude": [
    "module",
    "function",
    "builtin_function_or_method",
    "instance",
    "_Feature"
   ],
   "window_display": false
  }
 },
 "nbformat": 4,
 "nbformat_minor": 1
}
