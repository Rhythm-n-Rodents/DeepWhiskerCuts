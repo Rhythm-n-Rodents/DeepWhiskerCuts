{
 "cells": [
  {
   "cell_type": "code",
   "execution_count": 27,
   "metadata": {},
   "outputs": [
    {
     "name": "stdout",
     "output_type": "stream",
     "text": [
      "['D:\\\\rat_movies_SC\\\\ar19muscimol\\\\10_10_2019\\\\02-14-08R', 'D:\\\\rat_movies_SC\\\\ar19muscimol\\\\10_10_2019\\\\02-11-41R', 'D:\\\\rat_movies_SC\\\\ar19muscimol\\\\10_10_2019\\\\02-31-39R']\n"
     ]
    }
   ],
   "source": [
    "videopath='D:\\\\rat_movies_SC\\\\ar19muscimol\\\\10_10_2019\\\\'\n",
    "filenames = ['02-14-08R','02-11-41R','02-31-39R']\n",
    "import os # this is to get folder information and creat files \n",
    "\n",
    "#print(videopath+filenames)\n",
    "#%whos\n",
    "#for i in range(len(Cdegrees)):\n",
    "\n",
    "video = [str(videopath)+str(f) for f in filenames]; # add path to each file\n",
    "print(video)\n",
    "#video=['D:\\\\Notebook\\\\sc\\\\sc-Fassihi-2018-12-16\\\\videos\\\\video14-23-08.avi'] \n",
    "#video=['D:\\\\rat movies SC\\\\ar17\\\\01_11_19\\\\video12-29-40.avi'] \n",
    "#video=['D:\\\\rat_movies_SC\\\\ar17record\\\\02_27_19\\\\analyzed\\\\18-36-10video.MP4']\n",
    "#video=['D:\\\\movies_Rat_SC_project\\\\ar20\\\\07_08_19\\\\19-28-43video.mp4','D:\\\\movies_Rat_SC_project\\\\ar20\\\\07_08_19\\\\19-28-58video.mp4','D:\\\\movies_Rat_SC_project\\\\ar20\\\\07_08_19\\\\19-29-06video.mp4'] \n",
    "#Mainfolder = 'D:\\\\movies_Rat_SC_project\\\\ar14\\\\06_18_19'\n",
    "#video=['D:\\\\rat_movies_SC\\\\ar19tear19salin\\\\10_08_19\\\\00-24-26video.mp4','D:\\\\rat_movies_SC\\\\ar19tear19salin\\\\10_08_19\\\\00-24-02video.mp4','D:\\\\rat_movies_SC\\\\ar19tear19salin\\\\10_08_19\\\\00-26-36video.mp4'] \n",
    "#video=['F:\\\\ar2breathing\\\\10_10_19\\\\00-00-00video.mp4','F:\\\\ar2breathing\\\\10_10_19\\\\00-00-22video.mp4','F:\\\\ar2breathing\\\\10_10_19\\\\00-00-46video.mp4'] \n"
   ]
  },
  {
   "cell_type": "code",
   "execution_count": null,
   "metadata": {},
   "outputs": [],
   "source": []
  }
 ],
 "metadata": {
  "kernelspec": {
   "display_name": "Python 3",
   "language": "python",
   "name": "python3"
  },
  "language_info": {
   "codemirror_mode": {
    "name": "ipython",
    "version": 3
   },
   "file_extension": ".py",
   "mimetype": "text/x-python",
   "name": "python",
   "nbconvert_exporter": "python",
   "pygments_lexer": "ipython3",
   "version": "3.6.8"
  }
 },
 "nbformat": 4,
 "nbformat_minor": 2
}
