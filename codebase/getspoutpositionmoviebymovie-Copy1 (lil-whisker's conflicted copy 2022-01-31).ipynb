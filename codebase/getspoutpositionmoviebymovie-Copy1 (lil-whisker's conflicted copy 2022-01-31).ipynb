{
 "cells": [
  {
   "cell_type": "code",
   "execution_count": 2,
   "metadata": {},
   "outputs": [
    {
     "name": "stdout",
     "output_type": "stream",
     "text": [
      "100\n",
      "F:\\videos\\ar32motor\\2021_08_02\\100video.mp4\n",
      "101\n",
      "F:\\videos\\ar32motor\\2021_08_02\\101video.mp4\n",
      "102\n",
      "F:\\videos\\ar32motor\\2021_08_02\\102video.mp4\n",
      "103\n",
      "F:\\videos\\ar32motor\\2021_08_02\\103video.mp4\n",
      "227   247\n",
      "235   249\n",
      "235   249\n",
      "235   249\n",
      "235   249\n",
      "235   249\n",
      "235   249\n",
      "235   249\n",
      "235   249\n",
      "235   249\n",
      "238   347\n",
      "219   334\n",
      "176   324\n",
      "212   256\n",
      "230   240\n",
      "104\n",
      "F:\\videos\\ar32motor\\2021_08_02\\104video.mp4\n",
      "233   246\n",
      "105\n",
      "F:\\videos\\ar32motor\\2021_08_02\\105video.mp4\n",
      "233   245\n",
      "106\n",
      "F:\\videos\\ar32motor\\2021_08_02\\106video.mp4\n",
      "238   246\n",
      "107\n",
      "F:\\videos\\ar32motor\\2021_08_02\\107video.mp4\n"
     ]
    },
    {
     "ename": "KeyboardInterrupt",
     "evalue": "",
     "output_type": "error",
     "traceback": [
      "\u001b[1;31m---------------------------------------------------------------------------\u001b[0m",
      "\u001b[1;31mKeyboardInterrupt\u001b[0m                         Traceback (most recent call last)",
      "\u001b[1;32m<ipython-input-2-5473895ac0e4>\u001b[0m in \u001b[0;36mclick_event\u001b[1;34m(event, x, y, flags, params)\u001b[0m\n\u001b[0;32m     12\u001b[0m \u001b[1;31m#print(Xfiles)\u001b[0m\u001b[1;33m\u001b[0m\u001b[1;33m\u001b[0m\u001b[1;33m\u001b[0m\u001b[0m\n\u001b[0;32m     13\u001b[0m \u001b[1;31m#for thisindex,moviesind in enumerate(Xfiles):\u001b[0m\u001b[1;33m\u001b[0m\u001b[1;33m\u001b[0m\u001b[1;33m\u001b[0m\u001b[0m\n\u001b[1;32m---> 14\u001b[1;33m \u001b[1;32mdef\u001b[0m \u001b[0mclick_event\u001b[0m\u001b[1;33m(\u001b[0m\u001b[0mevent\u001b[0m\u001b[1;33m,\u001b[0m \u001b[0mx\u001b[0m\u001b[1;33m,\u001b[0m \u001b[0my\u001b[0m\u001b[1;33m,\u001b[0m \u001b[0mflags\u001b[0m\u001b[1;33m,\u001b[0m \u001b[0mparams\u001b[0m\u001b[1;33m)\u001b[0m\u001b[1;33m:\u001b[0m\u001b[1;33m\u001b[0m\u001b[1;33m\u001b[0m\u001b[0m\n\u001b[0m\u001b[0;32m     15\u001b[0m  \u001b[1;32mglobal\u001b[0m \u001b[0mx_start\u001b[0m\u001b[1;33m,\u001b[0m\u001b[0my_start\u001b[0m\u001b[1;33m\u001b[0m\u001b[1;33m\u001b[0m\u001b[0m\n\u001b[0;32m     16\u001b[0m  \u001b[1;32mif\u001b[0m \u001b[0mevent\u001b[0m \u001b[1;33m==\u001b[0m \u001b[0mcv2\u001b[0m\u001b[1;33m.\u001b[0m\u001b[0mEVENT_LBUTTONDOWN\u001b[0m\u001b[1;33m:\u001b[0m\u001b[1;33m\u001b[0m\u001b[1;33m\u001b[0m\u001b[0m\n",
      "\u001b[1;31mKeyboardInterrupt\u001b[0m: "
     ]
    },
    {
     "name": "stdout",
     "output_type": "stream",
     "text": [
      "108\n",
      "F:\\videos\\ar32motor\\2021_08_02\\108video.mp4\n",
      "109\n",
      "F:\\videos\\ar32motor\\2021_08_02\\109video.mp4\n",
      "10\n",
      "F:\\videos\\ar32motor\\2021_08_02\\10video.mp4\n",
      "110\n",
      "F:\\videos\\ar32motor\\2021_08_02\\110video.mp4\n",
      "111\n",
      "F:\\videos\\ar32motor\\2021_08_02\\111video.mp4\n",
      "112\n",
      "F:\\videos\\ar32motor\\2021_08_02\\112video.mp4\n"
     ]
    },
    {
     "ename": "KeyboardInterrupt",
     "evalue": "",
     "output_type": "error",
     "traceback": [
      "\u001b[1;31m---------------------------------------------------------------------------\u001b[0m",
      "\u001b[1;31mKeyboardInterrupt\u001b[0m                         Traceback (most recent call last)",
      "\u001b[1;32m<ipython-input-2-5473895ac0e4>\u001b[0m in \u001b[0;36m<module>\u001b[1;34m\u001b[0m\n\u001b[0;32m     62\u001b[0m     \u001b[0mcv2\u001b[0m\u001b[1;33m.\u001b[0m\u001b[0mimshow\u001b[0m\u001b[1;33m(\u001b[0m\u001b[1;34m'image'\u001b[0m\u001b[1;33m,\u001b[0m\u001b[0mimg\u001b[0m\u001b[1;33m)\u001b[0m\u001b[1;33m\u001b[0m\u001b[1;33m\u001b[0m\u001b[0m\n\u001b[0;32m     63\u001b[0m     \u001b[0mcv2\u001b[0m\u001b[1;33m.\u001b[0m\u001b[0msetMouseCallback\u001b[0m\u001b[1;33m(\u001b[0m\u001b[1;34m'image'\u001b[0m\u001b[1;33m,\u001b[0m \u001b[0mclick_event\u001b[0m\u001b[1;33m)\u001b[0m\u001b[1;33m\u001b[0m\u001b[1;33m\u001b[0m\u001b[0m\n\u001b[1;32m---> 64\u001b[1;33m     \u001b[0mcv2\u001b[0m\u001b[1;33m.\u001b[0m\u001b[0mwaitKey\u001b[0m\u001b[1;33m(\u001b[0m\u001b[1;36m0\u001b[0m\u001b[1;33m)\u001b[0m\u001b[1;33m\u001b[0m\u001b[1;33m\u001b[0m\u001b[0m\n\u001b[0m\u001b[0;32m     65\u001b[0m     \u001b[0mcv2\u001b[0m\u001b[1;33m.\u001b[0m\u001b[0mdestroyAllWindows\u001b[0m\u001b[1;33m(\u001b[0m\u001b[1;33m)\u001b[0m\u001b[1;33m\u001b[0m\u001b[1;33m\u001b[0m\u001b[0m\n\u001b[0;32m     66\u001b[0m     \u001b[0mworksheet\u001b[0m\u001b[1;33m.\u001b[0m\u001b[0mwrite\u001b[0m\u001b[1;33m(\u001b[0m\u001b[0mthisindex\u001b[0m\u001b[1;33m+\u001b[0m\u001b[1;36m1\u001b[0m\u001b[1;33m,\u001b[0m \u001b[1;36m1\u001b[0m\u001b[1;33m,\u001b[0m\u001b[0mx_start\u001b[0m\u001b[1;33m)\u001b[0m\u001b[1;33m\u001b[0m\u001b[1;33m\u001b[0m\u001b[0m\n",
      "\u001b[1;31mKeyboardInterrupt\u001b[0m: "
     ]
    }
   ],
   "source": [
    "    import xlsxwriter  # this is to write xls files \n",
    "    import os # this is to get folder information and creat files \n",
    "    import cv2 # this is important and is reading and writing images and video \n",
    "    import shutil # to remove folder and subfolders\n",
    "    import ntpath\n",
    "\n",
    "    Mainfolder ='F:\\\\videos\\\\ar32motor\\\\2021_08_02\\\\'\n",
    "    my_file = os.path.join(Mainfolder+'Spoutpositiontest2.xlsx');\n",
    "    workbook = xlsxwriter.Workbook(my_file)\n",
    "    worksheet = workbook.add_worksheet()\n",
    "Xfiles = [os.path.join(Mainfolder,f) for f in os.listdir(Mainfolder) if f.endswith('video.mp4')] # find all       files with R.avi as file name\n",
    "#print(Xfiles)\n",
    "#for thisindex,moviesind in enumerate(Xfiles):\n",
    "def click_event(event, x, y, flags, params): \n",
    "     global x_start,y_start\n",
    "     if event == cv2.EVENT_LBUTTONDOWN: \n",
    "\n",
    "        # displaying the coordinates \n",
    "        # on the Shell \n",
    "        print(x,' ', y) \n",
    "        # displaying the coordinates \n",
    "        # on the image window \n",
    "        font = cv2.FONT_HERSHEY_SIMPLEX \n",
    "        cv2.putText(img, str(x) + ',' +\n",
    "                    str(y), (x,y), font, \n",
    "                    1, (255, 255, 0), 2) \n",
    "        cv2.circle(img, (x,y), radius=2, color=(0, 0, 255), thickness=-1)\n",
    "\n",
    "        cv2.imshow('image', img) \n",
    "        x_start, y_start = x, y\n",
    "        \n",
    "def click_event2(event, x, y, flags, params): \n",
    "     global x_start,y_start\n",
    "     if event == cv2.EVENT_LBUTTONDOWN: \n",
    "\n",
    "        # displaying the coordinates \n",
    "        # on the Shell \n",
    "        print(x,' ', y) \n",
    "        # displaying the coordinates \n",
    "        # on the image window \n",
    "        font = cv2.FONT_HERSHEY_SIMPLEX \n",
    "        cv2.putText(img, str(x) + ',' +\n",
    "                    str(y), (x,y), font, \n",
    "                    1, (255, 0, 100), 2) \n",
    "        cv2.circle(img, (x,y), radius=2, color=(0, 0, 255), thickness=-1)\n",
    "\n",
    "        cv2.imshow('image', img) \n",
    "        x_start, y_start = x, y       \n",
    "    \n",
    "#Mainfolder = 'D:\\\\videos\\\\ar30\\\\2020_10_14'\n",
    "Xfiles = [os.path.join(Mainfolder,f) for f in os.listdir(Mainfolder) if f.endswith('video.mp4')] # find all       files with R.avi as file name\n",
    "#print(Xfiles)\n",
    "\n",
    "\n",
    "for thisindex,moviesind in enumerate(Xfiles):\n",
    "\n",
    "        video_name = Xfiles[thisindex];\n",
    "        cap = cv2.VideoCapture(video_name)# reading the videofile\n",
    "        ret, img = cap.read()\n",
    "        cv2.namedWindow('image')\n",
    "        #img = cv2.cvtColor(frame, cv2.COLOR_BGR2GRAY)\n",
    "        cv2.imshow('image',img)\n",
    "        cv2.setMouseCallback('image', click_event) \n",
    "        cv2.waitKey(0) \n",
    "        cv2.destroyAllWindows() \n",
    "        worksheet.write(thisindex+1, 1,x_start)\n",
    "        worksheet.write(thisindex+1, 2,y_start)\n",
    "        head, tail = ntpath.split(Xfiles[thisindex])\n",
    "        print(tail.replace('video.mp4',''))\n",
    "        print(Xfiles[thisindex])\n",
    "for thisindex,moviesind in enumerate(Xfiles):\n",
    "\n",
    "        video_name = Xfiles[thisindex];\n",
    "        cap = cv2.VideoCapture(video_name)# reading the videofile\n",
    "        ret, img = cap.read()\n",
    "        cv2.namedWindow('image')\n",
    "        #img = cv2.cvtColor(frame, cv2.COLOR_BGR2GRAY)\n",
    "        cv2.imshow('image',img)\n",
    "        cv2.setMouseCallback('image', click_event2) \n",
    "        cv2.waitKey(0) \n",
    "        cv2.destroyAllWindows() \n",
    "        worksheet.write(thisindex+1, 3,x_start)\n",
    "        worksheet.write(thisindex+1, 4, y_start)\n",
    "        head, tail = ntpath.split(Xfiles[thisindex])\n",
    "        print(tail.replace('video.mp4',''))\n",
    "        worksheet.write(thisindex+1, 5, tail.replace('video.mp4',''))\n",
    "        \n",
    "        \n",
    "        \n",
    "workbook.close()        "
   ]
  },
  {
   "cell_type": "code",
   "execution_count": 8,
   "metadata": {},
   "outputs": [
    {
     "name": "stdout",
     "output_type": "stream",
     "text": [
      "111\n"
     ]
    }
   ],
   "source": [
    "    import ntpath\n",
    "    video_name = 'F:\\\\videos\\\\ar32motor\\\\2021_08_02\\\\111.avi'\n",
    "    head, tail = ntpath.split(video_name)\n",
    "    \n",
    "    \n",
    "    print(int(tail.replace('.avi','')))\n",
    "    \n",
    "    \n",
    "    "
   ]
  },
  {
   "cell_type": "code",
   "execution_count": null,
   "metadata": {},
   "outputs": [],
   "source": [
    "    import xlsxwriter  # this is to write xls files \n",
    "    import os # this is to get folder information and creat files \n",
    "    import cv2 # this is important and is reading and writing images and video \n",
    "    import shutil # to remove folder and subfolders\n",
    "    Mainfolder ='F:\\\\videos\\\\ar32motor\\\\2021_08_02\\\\'\n",
    " \n",
    "Xfiles = [os.path.join(Mainfolder,f) for f in os.listdir(Mainfolder) if f.endswith('video.mp4')] # find all       files with R.avi as file name\n",
    "for thisindex,moviesind in enumerate(Xfiles):\n",
    "\n",
    "        video_name = Xfiles[thisindex];        head, tail = ntpath.split(Xfiles[thisindex])\n",
    "        print(tail.replace('video.mp4',''))\n"
   ]
  },
  {
   "cell_type": "code",
   "execution_count": null,
   "metadata": {},
   "outputs": [],
   "source": [
    "import os # this is to get folder information and creat files \n",
    "import cv2 # this is important and is reading and writing images and video \n",
    "import shutil # to remove folder and subfolders\n",
    "Mainfolder ='F:\\\\videos\\\\ar32motor\\\\2021_08_02\\\\'\n",
    "import ntpath\n",
    "\n",
    "Xfiles = [os.path.join(Mainfolder,f) for f in os.listdir(Mainfolder) if f.endswith('video.mp4')] # find all       files with R.avi as file name\n",
    "#print(Xfiles)\n",
    "\n",
    "for thisindex,moviesind in enumerate(Xfiles):\n",
    "      head, tail = ntpath.split(Xfiles[thisindex])\n",
    "      print(tail.replace('video.mp4',''))\n",
    "\n",
    "\n",
    "    \n",
    "     \n"
   ]
  },
  {
   "cell_type": "code",
   "execution_count": null,
   "metadata": {},
   "outputs": [],
   "source": [
    "for thisindex,moviesind in enumerate(Xfiles):\n",
    "\n",
    "        video_name = Xfiles[thisindex];\n",
    "        cap = cv2.VideoCapture(video_name)# reading the videofile\n",
    "        ret, img = cap.read()\n",
    "        cv2.namedWindow('image')\n",
    "        #img = cv2.cvtColor(frame, cv2.COLOR_BGR2GRAY)\n",
    "        cv2.imshow('image',img)\n",
    "        #cv2.setMouseCallback('image', click_event2) \n",
    "        cv2.waitKey(0) \n",
    "        cv2.destroyAllWindows() \n",
    "        worksheet.write(thisindex+1, 5,video_name)\n",
    "   "
   ]
  },
  {
   "cell_type": "code",
   "execution_count": null,
   "metadata": {},
   "outputs": [],
   "source": [
    "import ntpath\n",
    "head, tail = ntpath.split(video_name)\n",
    "tail.replace('video.mp4', '')"
   ]
  },
  {
   "cell_type": "code",
   "execution_count": null,
   "metadata": {},
   "outputs": [],
   "source": [
    "\n",
    "# open the file for reading\n",
    "wbRD = xlrd.open_workbook(\"{}/Desktop/test.xlsx\".format(home))\n",
    "sheets = wbRD.sheets()\n",
    "\n",
    "# open the same file for writing (just don't write yet)\n",
    "wb = xlsxwriter.Workbook(\"{}/Desktop/test.xlsx\".format(home))\n",
    "\n",
    "  my_file = os.path.join(Mainfolder+'Spoutposition2.xlsx');\n",
    "workbook = xlsxwriter.Workbook(my_file)\n",
    "     worksheet = workbook.add_worksheet()\n",
    "\n",
    "workbook.close()\n",
    "       "
   ]
  }
 ],
 "metadata": {
  "kernelspec": {
   "display_name": "Python 3",
   "language": "python",
   "name": "python3"
  },
  "language_info": {
   "codemirror_mode": {
    "name": "ipython",
    "version": 3
   },
   "file_extension": ".py",
   "mimetype": "text/x-python",
   "name": "python",
   "nbconvert_exporter": "python",
   "pygments_lexer": "ipython3",
   "version": "3.6.9"
  }
 },
 "nbformat": 4,
 "nbformat_minor": 2
}
