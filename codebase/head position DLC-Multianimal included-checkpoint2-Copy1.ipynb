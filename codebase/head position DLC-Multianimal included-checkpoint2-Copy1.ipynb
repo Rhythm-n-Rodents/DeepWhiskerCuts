{
 "cells": [
  {
   "cell_type": "markdown",
   "metadata": {
    "colab_type": "text",
    "id": "RK255E7YoEIt"
   },
   "source": [
    "# Arash SC create a project for head position\n",
    "\n",
    "\n",
    "\n",
    "This notebook demonstrates the necessary steps to use python and DeepLabCut for creating and analysins videos from orientation \n",
    "experiment \n",
    "\n",
    "This notebook illustrates how to:\n",
    " \n",
    "- make a movie from images \n",
    "- create a project\n",
    "- extract training frames\n",
    "- label the frames\n",
    "- plot the labeled images (optional)\n",
    "- create a training set\n",
    "- train a network\n",
    "- evaluate a network\n",
    "- analyze a novel video\n",
    "- create an automatically labeled video (optional)\n",
    "- Go to Matlab \n",
    "\n"
   ]
  },
  {
   "cell_type": "markdown",
   "metadata": {
    "colab_type": "text",
    "id": "9Uoz9mdPoEIy"
   },
   "source": [
    "## Create a new project\n",
    "\n",
    "It is always good idea to keep the projects seperate. This function creates a new project with subdirectories and a basic configuration file in the user defined directory otherwise the project is created in the current working directory.\n",
    "\n",
    "You can always add new videos to the project at any stage of the project. "
   ]
  },
  {
   "cell_type": "code",
   "execution_count": 1,
   "metadata": {
    "colab": {},
    "colab_type": "code",
    "id": "jqLZhp7EoEI0"
   },
   "outputs": [],
   "source": [
    "import deeplabcut\n",
    "## https://github.com/AlexEMG/DeepLabCut"
   ]
  },
  {
   "cell_type": "code",
   "execution_count": null,
   "metadata": {
    "colab": {},
    "colab_type": "code",
    "id": "c9DjG55FoEI7",
    "scrolled": true
   },
   "outputs": [],
   "source": [
    "task='ar21_07_06_20LR_R' # Enter the name of your experiment Task\n",
    "task='ar32_10_09_20Face3' \n",
    "\n",
    "experimenter='Arash' # Enter the name of the experimenter\n",
    "Mainfolder =  'D:\\\\videos\\\\AR19distance\\\\2020_09_14_ 215321'; # Enter the name of the folder with images folders inside \n",
    "Mainfolder = 'D:\\\\videos\\\\ar32\\\\2020_10_09\\\\';\n",
    "\n",
    "filenames = ['10.avi','18.avi','19.avi','22.avi']; # Enter the name of the files you want to train\n",
    "video = [str(Mainfolder)+str(f) for f in filenames]; # add path to each file\n",
    "print(video)\n",
    "#deeplabcut.create_new_project(task,experimenter,video, working_directory=Mainfolder,copy_videos=False) #change the working directory to where you want the folders created.\n",
    "deeplabcut.create_new_project(task,experimenter, video,copy_videos=True, multianimal=False)\n",
    "#deeplabcut.create_new_project(task,experimenter, video,copy_videos=True)"
   ]
  },
  {
   "cell_type": "markdown",
   "metadata": {
    "colab_type": "text",
    "id": "0yXW0bx1oEJA"
   },
   "source": [
    "## Extract frames from videos \n",
    "A key point for a successful feature detector is to select diverse frames, which are typical for the behavior you study that should be labeled.\n",
    "\n",
    "This function selects N frames either uniformly sampled from a particular video (or folder) (algo=='uniform'). Note: this might not yield diverse frames, if the behavior is sparsely distributed (consider using kmeans), and/or select frames manually etc.\n",
    "\n",
    "Also make sure to get select data from different (behavioral) sessions and different animals if those vary substantially (to train an invariant feature detector).\n",
    "\n",
    "Individual images should not be too big (i.e. < 850 x 850 pixel). Although this can be taken care of later as well, it is advisable to crop the frames, to remove unnecessary parts of the frame as much as possible.\n",
    "\n",
    "Always check the output of cropping. If you are happy with the results proceed to labeling."
   ]
  },
  {
   "cell_type": "code",
   "execution_count": null,
   "metadata": {
    "colab": {},
    "colab_type": "code",
    "id": "t1ulumCuoEJC"
   },
   "outputs": [],
   "source": [
    "%matplotlib inline\n",
    "path_config_file = 'D:\\\\Dropbox\\\\Notebook\\\\ar19_09_15_20Face2-Arash-2020-09-15\\\\config.yaml';\n",
    "path_config_file = 'D:\\\\Dropbox\\\\Notebook\\\\ar32_10_09_20Face3-Arash-2020-10-10\\\\config.yaml';\n",
    "\n",
    "#Enter the path of the config file that was just created from the above step (check the folder)\n",
    "deeplabcut.extract_frames(path_config_file,'automatic','uniform',crop=False) #there are other ways to grab frames, such as by clustering 'kmeans'; please see the paper. \n",
    "#deeplabcut.extract_frames(path_config_file,'automatic','uniform',crop=True, checkcropping=True) #there are other ways to grab frames, such as by clustering 'kmeans'; please see the paper. \n",
    "#You can change the cropping to false, then delete the checkcropping part!"
   ]
  },
  {
   "cell_type": "markdown",
   "metadata": {},
   "source": [
    "## define the config path and load deeplabcut\n"
   ]
  },
  {
   "cell_type": "code",
   "execution_count": 2,
   "metadata": {},
   "outputs": [],
   "source": [
    "# write the Path config file path\n",
    "path_config_file = 'E:\\\\movies\\\\ar2breathing\\\\10_08_19\\\\ar2breathing_10_08_19LR_R-Arash-2020-04-30\\\\config.yaml';\n",
    "path_config_file = 'D:\\\\videos\\\\ar21\\\\2020-07-06\\\\ar21_07_06_20Face2-Arash-2020-07-07\\\\config.yaml';\n",
    "path_config_file = 'D:\\\\Dropbox\\\\Notebook\\\\ar19_09_15_20Face3-Arash-2020-09-16\\\\config.yaml';\n",
    "path_config_file = 'D:\\\\videos\\\\ar32\\\\2020_10_09\\\\ar32_10_09_20Face3-Arash-2020-10-10\\\\config.yaml';"
   ]
  },
  {
   "cell_type": "markdown",
   "metadata": {
    "colab_type": "text",
    "id": "Gjn6ZDonoEJH"
   },
   "source": [
    "## Label the extracted frames\n",
    "Only videos in the config file can be used to extract the frames. Extracted labels for each video are stored in the project directory under the subdirectory **'labeled-data'**. Each subdirectory is named after the name of the video. The toolbox has a labeling toolbox which could be used for labeling. "
   ]
  },
  {
   "cell_type": "code",
   "execution_count": null,
   "metadata": {
    "colab": {},
    "colab_type": "code",
    "id": "iyROSOiEoEJI"
   },
   "outputs": [],
   "source": [
    "%gui wx\n",
    "\n",
    "deeplabcut.label_frames(path_config_file)"
   ]
  },
  {
   "cell_type": "markdown",
   "metadata": {
    "colab_type": "text",
    "id": "vim95ZvkPSeN"
   },
   "source": [
    "**Check the labels**\n",
    "\n",
    "Checking if the labels were created and stored correctly is beneficial for training, since labeling is one of the most critical parts for creating the training dataset. The DeepLabCut toolbox provides a function `check\\_labels'  to do so. It is used as follows:"
   ]
  },
  {
   "cell_type": "code",
   "execution_count": null,
   "metadata": {
    "colab": {},
    "colab_type": "code",
    "id": "NwvgPJouPP2O"
   },
   "outputs": [],
   "source": [
    "\n",
    "deeplabcut.check_labels(path_config_file) #this creates a subdirectory with the frames + your labels"
   ]
  },
  {
   "cell_type": "markdown",
   "metadata": {},
   "source": [
    "## Reminder: Build your skeleton connections before you create a training set!\n"
   ]
  },
  {
   "cell_type": "code",
   "execution_count": null,
   "metadata": {},
   "outputs": [],
   "source": [
    "deeplabcut.SkeletonBuilder(path_config_file)"
   ]
  },
  {
   "cell_type": "markdown",
   "metadata": {
    "colab_type": "text",
    "id": "of87fOjgPqzH"
   },
   "source": [
    "If the labels need adjusted, you can use the refinement GUI to move them around! Check that out below."
   ]
  },
  {
   "cell_type": "markdown",
   "metadata": {
    "colab_type": "text",
    "id": "xNi9s1dboEJN"
   },
   "source": [
    "## Create a training dataset\n",
    "This function generates the training data information for DeepCut (which requires a mat file) based on the pandas dataframes that hold label information. The user can set the fraction of the training set size (from all labeled image in the hd5 file) in the config.yaml file. While creating the dataset, the user can create multiple shuffles. \n",
    "\n",
    "After running this script the training dataset is created and saved in the project directory under the subdirectory **'training-datasets'**\n",
    "\n",
    "This function also creates new subdirectories under **dlc-models** and appends the project config.yaml file with the correct path to the training and testing pose configuration file. These files hold the parameters for training the network. Such an example file is provided with the toolbox and named as **pose_cfg.yaml**.\n",
    "\n",
    "Now it is the time to start training the network!"
   ]
  },
  {
   "cell_type": "code",
   "execution_count": null,
   "metadata": {
    "colab": {},
    "colab_type": "code",
    "id": "eMeUwgxPoEJP",
    "scrolled": true
   },
   "outputs": [],
   "source": [
    "deeplabcut.create_training_dataset(path_config_file)"
   ]
  },
  {
   "cell_type": "code",
   "execution_count": null,
   "metadata": {},
   "outputs": [],
   "source": [
    "deeplabcut.create_training_model_comparison(path_config_file, num_shuffles=1, net_types=['resnet_50'], augmenter_types=['default', 'imgaug'] )\n"
   ]
  },
  {
   "cell_type": "markdown",
   "metadata": {
    "colab_type": "text",
    "id": "c4FczXGDoEJU"
   },
   "source": [
    "## Start training  \n",
    "### If yu want to use your GPU, you need to exit here and either work from the Docker container, your own TensorFlow installation in an Anaconda env\n",
    "\n",
    "This function trains the network for a specific shuffle of the training dataset. "
   ]
  },
  {
   "cell_type": "code",
   "execution_count": null,
   "metadata": {
    "colab": {},
    "colab_type": "code",
    "id": "_pOvDq_2oEJW",
    "scrolled": false
   },
   "outputs": [],
   "source": [
    "\n",
    "deeplabcut.train_network(path_config_file,shuffle=1,displayiters=1000,saveiters=1000)"
   ]
  },
  {
   "cell_type": "markdown",
   "metadata": {
    "colab_type": "text",
    "id": "xZygsb2DoEJc"
   },
   "source": [
    "## Start evaluating\n",
    "This funtion evaluates a trained model for a specific shuffle/shuffles at a particular state or all the states on the data set (images)\n",
    "and stores the results as .csv file in a subdirectory under **evaluation-results**"
   ]
  },
  {
   "cell_type": "code",
   "execution_count": null,
   "metadata": {
    "colab": {},
    "colab_type": "code",
    "id": "nv4zlbrnoEJg",
    "scrolled": true
   },
   "outputs": [],
   "source": [
    "deeplabcut.evaluate_network(path_config_file,Shuffles=[1], plotting=False)"
   ]
  },
  {
   "cell_type": "markdown",
   "metadata": {
    "colab_type": "text",
    "id": "OVFLSKKfoEJk"
   },
   "source": [
    "## Start Analyzing videos\n",
    "This function analyzes the new video. The user can choose the best model from the evaluation results and specify the correct snapshot index for the variable **snapshotindex** in the **config.yaml** file. Otherwise, by default the most recent snapshot is used to analyse the video.\n",
    "\n",
    "The results are stored in hd5 file in the same directory where the video resides. "
   ]
  },
  {
   "cell_type": "code",
   "execution_count": 3,
   "metadata": {
    "colab": {},
    "colab_type": "code",
    "id": "Y_LZiS_0oEJl"
   },
   "outputs": [
    {
     "name": "stdout",
     "output_type": "stream",
     "text": [
      "['D:\\\\videos\\\\ar32\\\\2020_10_11\\\\1.avi', 'D:\\\\videos\\\\ar32\\\\2020_10_11\\\\10.avi', 'D:\\\\videos\\\\ar32\\\\2020_10_11\\\\100.avi', 'D:\\\\videos\\\\ar32\\\\2020_10_11\\\\101.avi', 'D:\\\\videos\\\\ar32\\\\2020_10_11\\\\102.avi', 'D:\\\\videos\\\\ar32\\\\2020_10_11\\\\103.avi', 'D:\\\\videos\\\\ar32\\\\2020_10_11\\\\104.avi', 'D:\\\\videos\\\\ar32\\\\2020_10_11\\\\105.avi', 'D:\\\\videos\\\\ar32\\\\2020_10_11\\\\106.avi', 'D:\\\\videos\\\\ar32\\\\2020_10_11\\\\107.avi', 'D:\\\\videos\\\\ar32\\\\2020_10_11\\\\108.avi', 'D:\\\\videos\\\\ar32\\\\2020_10_11\\\\109.avi', 'D:\\\\videos\\\\ar32\\\\2020_10_11\\\\11.avi', 'D:\\\\videos\\\\ar32\\\\2020_10_11\\\\110.avi', 'D:\\\\videos\\\\ar32\\\\2020_10_11\\\\111.avi', 'D:\\\\videos\\\\ar32\\\\2020_10_11\\\\112.avi', 'D:\\\\videos\\\\ar32\\\\2020_10_11\\\\113.avi', 'D:\\\\videos\\\\ar32\\\\2020_10_11\\\\114.avi', 'D:\\\\videos\\\\ar32\\\\2020_10_11\\\\115.avi', 'D:\\\\videos\\\\ar32\\\\2020_10_11\\\\116.avi', 'D:\\\\videos\\\\ar32\\\\2020_10_11\\\\117.avi', 'D:\\\\videos\\\\ar32\\\\2020_10_11\\\\118.avi', 'D:\\\\videos\\\\ar32\\\\2020_10_11\\\\119.avi', 'D:\\\\videos\\\\ar32\\\\2020_10_11\\\\12.avi', 'D:\\\\videos\\\\ar32\\\\2020_10_11\\\\120.avi', 'D:\\\\videos\\\\ar32\\\\2020_10_11\\\\121.avi', 'D:\\\\videos\\\\ar32\\\\2020_10_11\\\\122.avi', 'D:\\\\videos\\\\ar32\\\\2020_10_11\\\\123.avi', 'D:\\\\videos\\\\ar32\\\\2020_10_11\\\\124.avi', 'D:\\\\videos\\\\ar32\\\\2020_10_11\\\\125.avi', 'D:\\\\videos\\\\ar32\\\\2020_10_11\\\\126.avi', 'D:\\\\videos\\\\ar32\\\\2020_10_11\\\\127.avi', 'D:\\\\videos\\\\ar32\\\\2020_10_11\\\\128.avi', 'D:\\\\videos\\\\ar32\\\\2020_10_11\\\\129.avi', 'D:\\\\videos\\\\ar32\\\\2020_10_11\\\\13.avi', 'D:\\\\videos\\\\ar32\\\\2020_10_11\\\\130.avi', 'D:\\\\videos\\\\ar32\\\\2020_10_11\\\\131.avi', 'D:\\\\videos\\\\ar32\\\\2020_10_11\\\\132.avi', 'D:\\\\videos\\\\ar32\\\\2020_10_11\\\\133.avi', 'D:\\\\videos\\\\ar32\\\\2020_10_11\\\\134.avi', 'D:\\\\videos\\\\ar32\\\\2020_10_11\\\\135.avi', 'D:\\\\videos\\\\ar32\\\\2020_10_11\\\\136.avi', 'D:\\\\videos\\\\ar32\\\\2020_10_11\\\\137.avi', 'D:\\\\videos\\\\ar32\\\\2020_10_11\\\\138.avi', 'D:\\\\videos\\\\ar32\\\\2020_10_11\\\\139.avi', 'D:\\\\videos\\\\ar32\\\\2020_10_11\\\\14.avi', 'D:\\\\videos\\\\ar32\\\\2020_10_11\\\\140.avi', 'D:\\\\videos\\\\ar32\\\\2020_10_11\\\\141.avi', 'D:\\\\videos\\\\ar32\\\\2020_10_11\\\\142.avi', 'D:\\\\videos\\\\ar32\\\\2020_10_11\\\\143.avi', 'D:\\\\videos\\\\ar32\\\\2020_10_11\\\\144.avi', 'D:\\\\videos\\\\ar32\\\\2020_10_11\\\\145.avi', 'D:\\\\videos\\\\ar32\\\\2020_10_11\\\\146.avi', 'D:\\\\videos\\\\ar32\\\\2020_10_11\\\\147.avi', 'D:\\\\videos\\\\ar32\\\\2020_10_11\\\\148.avi', 'D:\\\\videos\\\\ar32\\\\2020_10_11\\\\149.avi', 'D:\\\\videos\\\\ar32\\\\2020_10_11\\\\15.avi', 'D:\\\\videos\\\\ar32\\\\2020_10_11\\\\150.avi', 'D:\\\\videos\\\\ar32\\\\2020_10_11\\\\151.avi', 'D:\\\\videos\\\\ar32\\\\2020_10_11\\\\152.avi', 'D:\\\\videos\\\\ar32\\\\2020_10_11\\\\153.avi', 'D:\\\\videos\\\\ar32\\\\2020_10_11\\\\154.avi', 'D:\\\\videos\\\\ar32\\\\2020_10_11\\\\155.avi', 'D:\\\\videos\\\\ar32\\\\2020_10_11\\\\156.avi', 'D:\\\\videos\\\\ar32\\\\2020_10_11\\\\157.avi', 'D:\\\\videos\\\\ar32\\\\2020_10_11\\\\158.avi', 'D:\\\\videos\\\\ar32\\\\2020_10_11\\\\159.avi', 'D:\\\\videos\\\\ar32\\\\2020_10_11\\\\16.avi', 'D:\\\\videos\\\\ar32\\\\2020_10_11\\\\17.avi', 'D:\\\\videos\\\\ar32\\\\2020_10_11\\\\18.avi', 'D:\\\\videos\\\\ar32\\\\2020_10_11\\\\19.avi', 'D:\\\\videos\\\\ar32\\\\2020_10_11\\\\2.avi', 'D:\\\\videos\\\\ar32\\\\2020_10_11\\\\20.avi', 'D:\\\\videos\\\\ar32\\\\2020_10_11\\\\21.avi', 'D:\\\\videos\\\\ar32\\\\2020_10_11\\\\22.avi', 'D:\\\\videos\\\\ar32\\\\2020_10_11\\\\23.avi', 'D:\\\\videos\\\\ar32\\\\2020_10_11\\\\24.avi', 'D:\\\\videos\\\\ar32\\\\2020_10_11\\\\25.avi', 'D:\\\\videos\\\\ar32\\\\2020_10_11\\\\26.avi', 'D:\\\\videos\\\\ar32\\\\2020_10_11\\\\27.avi', 'D:\\\\videos\\\\ar32\\\\2020_10_11\\\\28.avi', 'D:\\\\videos\\\\ar32\\\\2020_10_11\\\\29.avi', 'D:\\\\videos\\\\ar32\\\\2020_10_11\\\\3.avi', 'D:\\\\videos\\\\ar32\\\\2020_10_11\\\\30.avi', 'D:\\\\videos\\\\ar32\\\\2020_10_11\\\\31.avi', 'D:\\\\videos\\\\ar32\\\\2020_10_11\\\\32.avi', 'D:\\\\videos\\\\ar32\\\\2020_10_11\\\\33.avi', 'D:\\\\videos\\\\ar32\\\\2020_10_11\\\\34.avi', 'D:\\\\videos\\\\ar32\\\\2020_10_11\\\\35.avi', 'D:\\\\videos\\\\ar32\\\\2020_10_11\\\\36.avi', 'D:\\\\videos\\\\ar32\\\\2020_10_11\\\\37.avi', 'D:\\\\videos\\\\ar32\\\\2020_10_11\\\\38.avi', 'D:\\\\videos\\\\ar32\\\\2020_10_11\\\\39.avi', 'D:\\\\videos\\\\ar32\\\\2020_10_11\\\\4.avi', 'D:\\\\videos\\\\ar32\\\\2020_10_11\\\\40.avi', 'D:\\\\videos\\\\ar32\\\\2020_10_11\\\\41.avi', 'D:\\\\videos\\\\ar32\\\\2020_10_11\\\\42.avi', 'D:\\\\videos\\\\ar32\\\\2020_10_11\\\\43.avi', 'D:\\\\videos\\\\ar32\\\\2020_10_11\\\\44.avi', 'D:\\\\videos\\\\ar32\\\\2020_10_11\\\\45.avi', 'D:\\\\videos\\\\ar32\\\\2020_10_11\\\\46.avi', 'D:\\\\videos\\\\ar32\\\\2020_10_11\\\\47.avi', 'D:\\\\videos\\\\ar32\\\\2020_10_11\\\\48.avi', 'D:\\\\videos\\\\ar32\\\\2020_10_11\\\\49.avi', 'D:\\\\videos\\\\ar32\\\\2020_10_11\\\\5.avi', 'D:\\\\videos\\\\ar32\\\\2020_10_11\\\\50.avi', 'D:\\\\videos\\\\ar32\\\\2020_10_11\\\\51.avi', 'D:\\\\videos\\\\ar32\\\\2020_10_11\\\\52.avi', 'D:\\\\videos\\\\ar32\\\\2020_10_11\\\\53.avi', 'D:\\\\videos\\\\ar32\\\\2020_10_11\\\\54.avi', 'D:\\\\videos\\\\ar32\\\\2020_10_11\\\\55.avi', 'D:\\\\videos\\\\ar32\\\\2020_10_11\\\\56.avi', 'D:\\\\videos\\\\ar32\\\\2020_10_11\\\\57.avi', 'D:\\\\videos\\\\ar32\\\\2020_10_11\\\\58.avi', 'D:\\\\videos\\\\ar32\\\\2020_10_11\\\\59.avi', 'D:\\\\videos\\\\ar32\\\\2020_10_11\\\\6.avi', 'D:\\\\videos\\\\ar32\\\\2020_10_11\\\\60.avi', 'D:\\\\videos\\\\ar32\\\\2020_10_11\\\\61.avi', 'D:\\\\videos\\\\ar32\\\\2020_10_11\\\\62.avi', 'D:\\\\videos\\\\ar32\\\\2020_10_11\\\\63.avi', 'D:\\\\videos\\\\ar32\\\\2020_10_11\\\\64.avi', 'D:\\\\videos\\\\ar32\\\\2020_10_11\\\\65.avi', 'D:\\\\videos\\\\ar32\\\\2020_10_11\\\\66.avi', 'D:\\\\videos\\\\ar32\\\\2020_10_11\\\\67.avi', 'D:\\\\videos\\\\ar32\\\\2020_10_11\\\\68.avi', 'D:\\\\videos\\\\ar32\\\\2020_10_11\\\\69.avi', 'D:\\\\videos\\\\ar32\\\\2020_10_11\\\\7.avi', 'D:\\\\videos\\\\ar32\\\\2020_10_11\\\\70.avi', 'D:\\\\videos\\\\ar32\\\\2020_10_11\\\\71.avi', 'D:\\\\videos\\\\ar32\\\\2020_10_11\\\\72.avi', 'D:\\\\videos\\\\ar32\\\\2020_10_11\\\\73.avi', 'D:\\\\videos\\\\ar32\\\\2020_10_11\\\\74.avi', 'D:\\\\videos\\\\ar32\\\\2020_10_11\\\\75.avi', 'D:\\\\videos\\\\ar32\\\\2020_10_11\\\\76.avi', 'D:\\\\videos\\\\ar32\\\\2020_10_11\\\\77.avi', 'D:\\\\videos\\\\ar32\\\\2020_10_11\\\\78.avi', 'D:\\\\videos\\\\ar32\\\\2020_10_11\\\\79.avi', 'D:\\\\videos\\\\ar32\\\\2020_10_11\\\\8.avi', 'D:\\\\videos\\\\ar32\\\\2020_10_11\\\\80.avi', 'D:\\\\videos\\\\ar32\\\\2020_10_11\\\\81.avi', 'D:\\\\videos\\\\ar32\\\\2020_10_11\\\\82.avi', 'D:\\\\videos\\\\ar32\\\\2020_10_11\\\\83.avi', 'D:\\\\videos\\\\ar32\\\\2020_10_11\\\\84.avi', 'D:\\\\videos\\\\ar32\\\\2020_10_11\\\\85.avi', 'D:\\\\videos\\\\ar32\\\\2020_10_11\\\\86.avi', 'D:\\\\videos\\\\ar32\\\\2020_10_11\\\\87.avi', 'D:\\\\videos\\\\ar32\\\\2020_10_11\\\\88.avi', 'D:\\\\videos\\\\ar32\\\\2020_10_11\\\\89.avi', 'D:\\\\videos\\\\ar32\\\\2020_10_11\\\\9.avi', 'D:\\\\videos\\\\ar32\\\\2020_10_11\\\\90.avi', 'D:\\\\videos\\\\ar32\\\\2020_10_11\\\\91.avi', 'D:\\\\videos\\\\ar32\\\\2020_10_11\\\\92.avi', 'D:\\\\videos\\\\ar32\\\\2020_10_11\\\\93.avi', 'D:\\\\videos\\\\ar32\\\\2020_10_11\\\\94.avi', 'D:\\\\videos\\\\ar32\\\\2020_10_11\\\\95.avi', 'D:\\\\videos\\\\ar32\\\\2020_10_11\\\\96.avi', 'D:\\\\videos\\\\ar32\\\\2020_10_11\\\\97.avi', 'D:\\\\videos\\\\ar32\\\\2020_10_11\\\\98.avi', 'D:\\\\videos\\\\ar32\\\\2020_10_11\\\\99.avi']\n",
      "Using snapshot-205000 for model D:\\videos\\ar32\\2020_10_09\\ar32_10_09_20Face3-Arash-2020-10-10\\dlc-models\\iteration-0\\ar32_10_09_20Face3Oct10-trainset95shuffle1\n",
      "Initializing ResNet\n",
      "Starting to analyze %  D:\\videos\\ar32\\2020_10_11\\1.avi\n",
      "D:\\videos\\ar32\\2020_10_11  already exists!\n",
      "Starting to analyze %  D:\\videos\\ar32\\2020_10_11\\10.avi\n",
      "D:\\videos\\ar32\\2020_10_11  already exists!\n",
      "Starting to analyze %  D:\\videos\\ar32\\2020_10_11\\100.avi\n",
      "D:\\videos\\ar32\\2020_10_11  already exists!\n",
      "Starting to analyze %  D:\\videos\\ar32\\2020_10_11\\101.avi\n",
      "D:\\videos\\ar32\\2020_10_11  already exists!\n",
      "Starting to analyze %  D:\\videos\\ar32\\2020_10_11\\102.avi\n",
      "D:\\videos\\ar32\\2020_10_11  already exists!\n",
      "Starting to analyze %  D:\\videos\\ar32\\2020_10_11\\103.avi\n",
      "D:\\videos\\ar32\\2020_10_11  already exists!\n",
      "Starting to analyze %  D:\\videos\\ar32\\2020_10_11\\104.avi\n",
      "D:\\videos\\ar32\\2020_10_11  already exists!\n",
      "Starting to analyze %  D:\\videos\\ar32\\2020_10_11\\105.avi\n",
      "D:\\videos\\ar32\\2020_10_11  already exists!\n",
      "Starting to analyze %  D:\\videos\\ar32\\2020_10_11\\106.avi\n",
      "D:\\videos\\ar32\\2020_10_11  already exists!\n",
      "Starting to analyze %  D:\\videos\\ar32\\2020_10_11\\107.avi\n",
      "D:\\videos\\ar32\\2020_10_11  already exists!\n",
      "Starting to analyze %  D:\\videos\\ar32\\2020_10_11\\108.avi\n",
      "D:\\videos\\ar32\\2020_10_11  already exists!\n",
      "Starting to analyze %  D:\\videos\\ar32\\2020_10_11\\109.avi\n",
      "D:\\videos\\ar32\\2020_10_11  already exists!\n",
      "Starting to analyze %  D:\\videos\\ar32\\2020_10_11\\11.avi\n",
      "D:\\videos\\ar32\\2020_10_11  already exists!\n",
      "Starting to analyze %  D:\\videos\\ar32\\2020_10_11\\110.avi\n",
      "D:\\videos\\ar32\\2020_10_11  already exists!\n",
      "Starting to analyze %  D:\\videos\\ar32\\2020_10_11\\111.avi\n",
      "D:\\videos\\ar32\\2020_10_11  already exists!\n",
      "Starting to analyze %  D:\\videos\\ar32\\2020_10_11\\112.avi\n",
      "D:\\videos\\ar32\\2020_10_11  already exists!\n"
     ]
    },
    {
     "name": "stdout",
     "output_type": "stream",
     "text": [
      "Starting to analyze %  D:\\videos\\ar32\\2020_10_11\\113.avi\n",
      "D:\\videos\\ar32\\2020_10_11  already exists!\n",
      "Starting to analyze %  D:\\videos\\ar32\\2020_10_11\\114.avi\n",
      "D:\\videos\\ar32\\2020_10_11  already exists!\n",
      "Starting to analyze %  D:\\videos\\ar32\\2020_10_11\\115.avi\n",
      "D:\\videos\\ar32\\2020_10_11  already exists!\n",
      "Starting to analyze %  D:\\videos\\ar32\\2020_10_11\\116.avi\n",
      "D:\\videos\\ar32\\2020_10_11  already exists!\n",
      "Starting to analyze %  D:\\videos\\ar32\\2020_10_11\\117.avi\n",
      "D:\\videos\\ar32\\2020_10_11  already exists!\n",
      "Starting to analyze %  D:\\videos\\ar32\\2020_10_11\\118.avi\n",
      "D:\\videos\\ar32\\2020_10_11  already exists!\n",
      "Starting to analyze %  D:\\videos\\ar32\\2020_10_11\\119.avi\n",
      "D:\\videos\\ar32\\2020_10_11  already exists!\n",
      "Starting to analyze %  D:\\videos\\ar32\\2020_10_11\\12.avi\n",
      "D:\\videos\\ar32\\2020_10_11  already exists!\n",
      "Starting to analyze %  D:\\videos\\ar32\\2020_10_11\\120.avi\n",
      "D:\\videos\\ar32\\2020_10_11  already exists!\n",
      "Starting to analyze %  D:\\videos\\ar32\\2020_10_11\\121.avi\n",
      "D:\\videos\\ar32\\2020_10_11  already exists!\n",
      "Starting to analyze %  D:\\videos\\ar32\\2020_10_11\\122.avi\n",
      "D:\\videos\\ar32\\2020_10_11  already exists!\n",
      "Starting to analyze %  D:\\videos\\ar32\\2020_10_11\\123.avi\n",
      "D:\\videos\\ar32\\2020_10_11  already exists!\n",
      "Starting to analyze %  D:\\videos\\ar32\\2020_10_11\\124.avi\n",
      "D:\\videos\\ar32\\2020_10_11  already exists!\n",
      "Starting to analyze %  D:\\videos\\ar32\\2020_10_11\\125.avi\n",
      "D:\\videos\\ar32\\2020_10_11  already exists!\n",
      "Starting to analyze %  D:\\videos\\ar32\\2020_10_11\\126.avi\n",
      "D:\\videos\\ar32\\2020_10_11  already exists!\n",
      "Starting to analyze %  D:\\videos\\ar32\\2020_10_11\\127.avi\n",
      "D:\\videos\\ar32\\2020_10_11  already exists!\n",
      "Starting to analyze %  D:\\videos\\ar32\\2020_10_11\\128.avi\n",
      "D:\\videos\\ar32\\2020_10_11  already exists!\n",
      "Starting to analyze %  D:\\videos\\ar32\\2020_10_11\\129.avi\n",
      "D:\\videos\\ar32\\2020_10_11  already exists!\n",
      "Starting to analyze %  D:\\videos\\ar32\\2020_10_11\\13.avi\n",
      "D:\\videos\\ar32\\2020_10_11  already exists!\n",
      "Starting to analyze %  D:\\videos\\ar32\\2020_10_11\\130.avi\n",
      "D:\\videos\\ar32\\2020_10_11  already exists!\n",
      "Starting to analyze %  D:\\videos\\ar32\\2020_10_11\\131.avi\n",
      "D:\\videos\\ar32\\2020_10_11  already exists!\n",
      "Starting to analyze %  D:\\videos\\ar32\\2020_10_11\\132.avi\n",
      "D:\\videos\\ar32\\2020_10_11  already exists!\n",
      "Starting to analyze %  D:\\videos\\ar32\\2020_10_11\\133.avi\n",
      "D:\\videos\\ar32\\2020_10_11  already exists!\n",
      "Starting to analyze %  D:\\videos\\ar32\\2020_10_11\\134.avi\n",
      "D:\\videos\\ar32\\2020_10_11  already exists!\n",
      "Starting to analyze %  D:\\videos\\ar32\\2020_10_11\\135.avi\n",
      "D:\\videos\\ar32\\2020_10_11  already exists!\n",
      "Starting to analyze %  D:\\videos\\ar32\\2020_10_11\\136.avi\n",
      "D:\\videos\\ar32\\2020_10_11  already exists!\n",
      "Starting to analyze %  D:\\videos\\ar32\\2020_10_11\\137.avi\n",
      "D:\\videos\\ar32\\2020_10_11  already exists!\n",
      "Starting to analyze %  D:\\videos\\ar32\\2020_10_11\\138.avi\n",
      "D:\\videos\\ar32\\2020_10_11  already exists!\n",
      "Starting to analyze %  D:\\videos\\ar32\\2020_10_11\\139.avi\n",
      "D:\\videos\\ar32\\2020_10_11  already exists!\n",
      "Starting to analyze %  D:\\videos\\ar32\\2020_10_11\\14.avi\n",
      "D:\\videos\\ar32\\2020_10_11  already exists!\n",
      "Starting to analyze %  D:\\videos\\ar32\\2020_10_11\\140.avi\n",
      "D:\\videos\\ar32\\2020_10_11  already exists!\n",
      "Starting to analyze %  D:\\videos\\ar32\\2020_10_11\\141.avi\n",
      "D:\\videos\\ar32\\2020_10_11  already exists!\n",
      "Starting to analyze %  D:\\videos\\ar32\\2020_10_11\\142.avi\n",
      "D:\\videos\\ar32\\2020_10_11  already exists!\n",
      "Starting to analyze %  D:\\videos\\ar32\\2020_10_11\\143.avi\n",
      "D:\\videos\\ar32\\2020_10_11  already exists!\n",
      "Starting to analyze %  D:\\videos\\ar32\\2020_10_11\\144.avi\n",
      "D:\\videos\\ar32\\2020_10_11  already exists!\n",
      "Starting to analyze %  D:\\videos\\ar32\\2020_10_11\\145.avi\n",
      "D:\\videos\\ar32\\2020_10_11  already exists!\n",
      "Starting to analyze %  D:\\videos\\ar32\\2020_10_11\\146.avi\n",
      "D:\\videos\\ar32\\2020_10_11  already exists!\n",
      "Starting to analyze %  D:\\videos\\ar32\\2020_10_11\\147.avi\n",
      "D:\\videos\\ar32\\2020_10_11  already exists!\n",
      "Starting to analyze %  D:\\videos\\ar32\\2020_10_11\\148.avi\n",
      "D:\\videos\\ar32\\2020_10_11  already exists!\n",
      "Starting to analyze %  D:\\videos\\ar32\\2020_10_11\\149.avi\n",
      "D:\\videos\\ar32\\2020_10_11  already exists!\n",
      "Starting to analyze %  D:\\videos\\ar32\\2020_10_11\\15.avi\n",
      "D:\\videos\\ar32\\2020_10_11  already exists!\n",
      "Starting to analyze %  D:\\videos\\ar32\\2020_10_11\\150.avi\n",
      "D:\\videos\\ar32\\2020_10_11  already exists!\n",
      "Starting to analyze %  D:\\videos\\ar32\\2020_10_11\\151.avi\n",
      "D:\\videos\\ar32\\2020_10_11  already exists!\n",
      "Starting to analyze %  D:\\videos\\ar32\\2020_10_11\\152.avi\n",
      "D:\\videos\\ar32\\2020_10_11  already exists!\n",
      "Starting to analyze %  D:\\videos\\ar32\\2020_10_11\\153.avi\n",
      "D:\\videos\\ar32\\2020_10_11  already exists!\n",
      "Starting to analyze %  D:\\videos\\ar32\\2020_10_11\\154.avi\n",
      "D:\\videos\\ar32\\2020_10_11  already exists!\n",
      "Starting to analyze %  D:\\videos\\ar32\\2020_10_11\\155.avi\n",
      "D:\\videos\\ar32\\2020_10_11  already exists!\n",
      "Starting to analyze %  D:\\videos\\ar32\\2020_10_11\\156.avi\n",
      "D:\\videos\\ar32\\2020_10_11  already exists!\n",
      "Starting to analyze %  D:\\videos\\ar32\\2020_10_11\\157.avi\n",
      "D:\\videos\\ar32\\2020_10_11  already exists!\n",
      "Starting to analyze %  D:\\videos\\ar32\\2020_10_11\\158.avi\n",
      "D:\\videos\\ar32\\2020_10_11  already exists!\n",
      "Starting to analyze %  D:\\videos\\ar32\\2020_10_11\\159.avi\n",
      "D:\\videos\\ar32\\2020_10_11  already exists!\n",
      "Starting to analyze %  D:\\videos\\ar32\\2020_10_11\\16.avi\n",
      "D:\\videos\\ar32\\2020_10_11  already exists!\n",
      "Starting to analyze %  D:\\videos\\ar32\\2020_10_11\\17.avi\n",
      "D:\\videos\\ar32\\2020_10_11  already exists!\n",
      "Starting to analyze %  D:\\videos\\ar32\\2020_10_11\\18.avi\n",
      "D:\\videos\\ar32\\2020_10_11  already exists!\n",
      "Starting to analyze %  D:\\videos\\ar32\\2020_10_11\\19.avi\n",
      "D:\\videos\\ar32\\2020_10_11  already exists!\n",
      "Starting to analyze %  D:\\videos\\ar32\\2020_10_11\\2.avi\n",
      "D:\\videos\\ar32\\2020_10_11  already exists!\n",
      "Starting to analyze %  D:\\videos\\ar32\\2020_10_11\\20.avi\n",
      "D:\\videos\\ar32\\2020_10_11  already exists!\n",
      "Starting to analyze %  D:\\videos\\ar32\\2020_10_11\\21.avi\n",
      "D:\\videos\\ar32\\2020_10_11  already exists!\n",
      "Starting to analyze %  D:\\videos\\ar32\\2020_10_11\\22.avi\n",
      "D:\\videos\\ar32\\2020_10_11  already exists!\n",
      "Starting to analyze %  D:\\videos\\ar32\\2020_10_11\\23.avi\n",
      "D:\\videos\\ar32\\2020_10_11  already exists!\n",
      "Starting to analyze %  D:\\videos\\ar32\\2020_10_11\\24.avi\n",
      "D:\\videos\\ar32\\2020_10_11  already exists!\n",
      "Starting to analyze %  D:\\videos\\ar32\\2020_10_11\\25.avi\n",
      "D:\\videos\\ar32\\2020_10_11  already exists!\n",
      "Starting to analyze %  D:\\videos\\ar32\\2020_10_11\\26.avi\n",
      "D:\\videos\\ar32\\2020_10_11  already exists!\n",
      "Starting to analyze %  D:\\videos\\ar32\\2020_10_11\\27.avi\n",
      "D:\\videos\\ar32\\2020_10_11  already exists!\n",
      "Loading  D:\\videos\\ar32\\2020_10_11\\27.avi\n",
      "Duration of video [s]:  15.0 , recorded with  40.0 fps!\n",
      "Overall # of frames:  600  found with (before cropping) frame dimensions:  1448 470\n",
      "Starting to extract posture\n"
     ]
    },
    {
     "name": "stderr",
     "output_type": "stream",
     "text": [
      "  2%|█▎                                                                               | 10/600 [00:06<06:30,  1.51it/s]\n"
     ]
    },
    {
     "name": "stdout",
     "output_type": "stream",
     "text": [
      "Starting to analyze %  D:\\videos\\ar32\\2020_10_11\\28.avi\n",
      "D:\\videos\\ar32\\2020_10_11  already exists!\n",
      "Loading  D:\\videos\\ar32\\2020_10_11\\28.avi\n",
      "Duration of video [s]:  15.0 , recorded with  40.0 fps!\n",
      "Overall # of frames:  600  found with (before cropping) frame dimensions:  1448 470\n",
      "Starting to extract posture\n"
     ]
    },
    {
     "name": "stderr",
     "output_type": "stream",
     "text": [
      "  2%|█▎                                                                               | 10/600 [00:00<00:06, 86.28it/s]\n"
     ]
    },
    {
     "name": "stdout",
     "output_type": "stream",
     "text": [
      "Starting to analyze %  D:\\videos\\ar32\\2020_10_11\\29.avi\n",
      "D:\\videos\\ar32\\2020_10_11  already exists!\n",
      "Loading  D:\\videos\\ar32\\2020_10_11\\29.avi\n",
      "Duration of video [s]:  15.0 , recorded with  40.0 fps!\n",
      "Overall # of frames:  600  found with (before cropping) frame dimensions:  1448 470\n",
      "Starting to extract posture\n"
     ]
    },
    {
     "name": "stderr",
     "output_type": "stream",
     "text": [
      "  2%|█▎                                                                               | 10/600 [00:00<00:06, 87.93it/s]\n"
     ]
    },
    {
     "name": "stdout",
     "output_type": "stream",
     "text": [
      "Starting to analyze %  D:\\videos\\ar32\\2020_10_11\\3.avi\n",
      "D:\\videos\\ar32\\2020_10_11  already exists!\n",
      "Loading  D:\\videos\\ar32\\2020_10_11\\3.avi\n",
      "Duration of video [s]:  15.0 , recorded with  40.0 fps!\n",
      "Overall # of frames:  600  found with (before cropping) frame dimensions:  1448 470\n",
      "Starting to extract posture\n"
     ]
    },
    {
     "name": "stderr",
     "output_type": "stream",
     "text": [
      "  2%|█▎                                                                               | 10/600 [00:00<00:06, 85.70it/s]\n"
     ]
    },
    {
     "name": "stdout",
     "output_type": "stream",
     "text": [
      "Starting to analyze %  D:\\videos\\ar32\\2020_10_11\\30.avi\n",
      "D:\\videos\\ar32\\2020_10_11  already exists!\n",
      "Loading  D:\\videos\\ar32\\2020_10_11\\30.avi\n",
      "Duration of video [s]:  15.0 , recorded with  40.0 fps!\n",
      "Overall # of frames:  600  found with (before cropping) frame dimensions:  1448 470\n",
      "Starting to extract posture\n"
     ]
    },
    {
     "name": "stderr",
     "output_type": "stream",
     "text": [
      "  2%|█▎                                                                               | 10/600 [00:00<00:09, 65.32it/s]\n"
     ]
    },
    {
     "name": "stdout",
     "output_type": "stream",
     "text": [
      "Starting to analyze %  D:\\videos\\ar32\\2020_10_11\\31.avi\n",
      "D:\\videos\\ar32\\2020_10_11  already exists!\n",
      "Loading  D:\\videos\\ar32\\2020_10_11\\31.avi\n",
      "Duration of video [s]:  15.0 , recorded with  40.0 fps!\n",
      "Overall # of frames:  600  found with (before cropping) frame dimensions:  1448 470\n",
      "Starting to extract posture\n"
     ]
    },
    {
     "name": "stderr",
     "output_type": "stream",
     "text": [
      "  2%|█▎                                                                               | 10/600 [00:00<00:07, 83.56it/s]\n"
     ]
    },
    {
     "name": "stdout",
     "output_type": "stream",
     "text": [
      "Starting to analyze %  D:\\videos\\ar32\\2020_10_11\\32.avi\n",
      "D:\\videos\\ar32\\2020_10_11  already exists!\n",
      "Loading  D:\\videos\\ar32\\2020_10_11\\32.avi\n",
      "Duration of video [s]:  15.0 , recorded with  40.0 fps!\n",
      "Overall # of frames:  600  found with (before cropping) frame dimensions:  1448 470\n",
      "Starting to extract posture\n"
     ]
    },
    {
     "name": "stderr",
     "output_type": "stream",
     "text": [
      "  2%|█▎                                                                               | 10/600 [00:00<00:08, 69.63it/s]\n"
     ]
    },
    {
     "name": "stdout",
     "output_type": "stream",
     "text": [
      "Starting to analyze %  D:\\videos\\ar32\\2020_10_11\\33.avi\n",
      "D:\\videos\\ar32\\2020_10_11  already exists!\n",
      "Loading  D:\\videos\\ar32\\2020_10_11\\33.avi\n",
      "Duration of video [s]:  15.0 , recorded with  40.0 fps!\n",
      "Overall # of frames:  600  found with (before cropping) frame dimensions:  1448 470\n",
      "Starting to extract posture\n"
     ]
    },
    {
     "name": "stderr",
     "output_type": "stream",
     "text": [
      "  2%|█▎                                                                               | 10/600 [00:00<00:07, 79.58it/s]\n"
     ]
    },
    {
     "name": "stdout",
     "output_type": "stream",
     "text": [
      "Starting to analyze %  D:\\videos\\ar32\\2020_10_11\\34.avi\n",
      "D:\\videos\\ar32\\2020_10_11  already exists!\n",
      "Loading  D:\\videos\\ar32\\2020_10_11\\34.avi\n",
      "Duration of video [s]:  15.0 , recorded with  40.0 fps!\n",
      "Overall # of frames:  600  found with (before cropping) frame dimensions:  1448 470\n",
      "Starting to extract posture\n"
     ]
    },
    {
     "name": "stderr",
     "output_type": "stream",
     "text": [
      "  2%|█▎                                                                               | 10/600 [00:00<00:07, 84.26it/s]\n"
     ]
    },
    {
     "name": "stdout",
     "output_type": "stream",
     "text": [
      "Starting to analyze %  D:\\videos\\ar32\\2020_10_11\\35.avi\n",
      "D:\\videos\\ar32\\2020_10_11  already exists!\n",
      "Loading  D:\\videos\\ar32\\2020_10_11\\35.avi\n",
      "Duration of video [s]:  15.0 , recorded with  40.0 fps!\n",
      "Overall # of frames:  600  found with (before cropping) frame dimensions:  1448 470\n",
      "Starting to extract posture\n"
     ]
    },
    {
     "name": "stderr",
     "output_type": "stream",
     "text": [
      "  2%|█▎                                                                               | 10/600 [00:00<00:09, 60.04it/s]\n"
     ]
    },
    {
     "name": "stdout",
     "output_type": "stream",
     "text": [
      "Starting to analyze %  D:\\videos\\ar32\\2020_10_11\\36.avi\n",
      "D:\\videos\\ar32\\2020_10_11  already exists!\n",
      "Loading  D:\\videos\\ar32\\2020_10_11\\36.avi\n",
      "Duration of video [s]:  15.0 , recorded with  40.0 fps!\n",
      "Overall # of frames:  600  found with (before cropping) frame dimensions:  1448 470\n",
      "Starting to extract posture\n"
     ]
    },
    {
     "name": "stderr",
     "output_type": "stream",
     "text": [
      "  2%|█▎                                                                               | 10/600 [00:00<00:10, 54.78it/s]\n"
     ]
    },
    {
     "name": "stdout",
     "output_type": "stream",
     "text": [
      "Starting to analyze %  D:\\videos\\ar32\\2020_10_11\\37.avi\n",
      "D:\\videos\\ar32\\2020_10_11  already exists!\n",
      "Loading  D:\\videos\\ar32\\2020_10_11\\37.avi\n",
      "Duration of video [s]:  15.0 , recorded with  40.0 fps!\n",
      "Overall # of frames:  600  found with (before cropping) frame dimensions:  1448 470\n",
      "Starting to extract posture\n"
     ]
    },
    {
     "name": "stderr",
     "output_type": "stream",
     "text": [
      "  2%|█▎                                                                               | 10/600 [00:00<00:07, 77.73it/s]\n"
     ]
    },
    {
     "name": "stdout",
     "output_type": "stream",
     "text": [
      "Starting to analyze %  D:\\videos\\ar32\\2020_10_11\\38.avi\n",
      "D:\\videos\\ar32\\2020_10_11  already exists!\n",
      "Loading  D:\\videos\\ar32\\2020_10_11\\38.avi\n",
      "Duration of video [s]:  15.0 , recorded with  40.0 fps!\n",
      "Overall # of frames:  600  found with (before cropping) frame dimensions:  1448 470\n",
      "Starting to extract posture\n"
     ]
    },
    {
     "name": "stderr",
     "output_type": "stream",
     "text": [
      "  2%|█▎                                                                               | 10/600 [00:00<00:09, 65.11it/s]\n"
     ]
    },
    {
     "name": "stdout",
     "output_type": "stream",
     "text": [
      "Starting to analyze %  D:\\videos\\ar32\\2020_10_11\\39.avi\n",
      "D:\\videos\\ar32\\2020_10_11  already exists!\n",
      "Loading  D:\\videos\\ar32\\2020_10_11\\39.avi\n",
      "Duration of video [s]:  15.0 , recorded with  40.0 fps!\n",
      "Overall # of frames:  600  found with (before cropping) frame dimensions:  1448 470\n",
      "Starting to extract posture\n"
     ]
    },
    {
     "name": "stderr",
     "output_type": "stream",
     "text": [
      "  2%|█▎                                                                               | 10/600 [00:00<00:11, 49.88it/s]\n"
     ]
    },
    {
     "name": "stdout",
     "output_type": "stream",
     "text": [
      "Starting to analyze %  D:\\videos\\ar32\\2020_10_11\\4.avi\n",
      "D:\\videos\\ar32\\2020_10_11  already exists!\n",
      "Loading  D:\\videos\\ar32\\2020_10_11\\4.avi\n",
      "Duration of video [s]:  15.0 , recorded with  40.0 fps!\n",
      "Overall # of frames:  600  found with (before cropping) frame dimensions:  1448 470\n",
      "Starting to extract posture\n"
     ]
    },
    {
     "name": "stderr",
     "output_type": "stream",
     "text": [
      "  2%|█▎                                                                               | 10/600 [00:00<00:09, 62.28it/s]\n"
     ]
    },
    {
     "name": "stdout",
     "output_type": "stream",
     "text": [
      "Starting to analyze %  D:\\videos\\ar32\\2020_10_11\\40.avi\n",
      "D:\\videos\\ar32\\2020_10_11  already exists!\n",
      "Loading  D:\\videos\\ar32\\2020_10_11\\40.avi\n",
      "Duration of video [s]:  15.0 , recorded with  40.0 fps!\n",
      "Overall # of frames:  600  found with (before cropping) frame dimensions:  1448 470\n",
      "Starting to extract posture\n"
     ]
    },
    {
     "name": "stderr",
     "output_type": "stream",
     "text": [
      "  2%|█▎                                                                               | 10/600 [00:00<00:08, 66.40it/s]\n"
     ]
    },
    {
     "name": "stdout",
     "output_type": "stream",
     "text": [
      "Starting to analyze %  D:\\videos\\ar32\\2020_10_11\\41.avi\n",
      "D:\\videos\\ar32\\2020_10_11  already exists!\n",
      "Loading  D:\\videos\\ar32\\2020_10_11\\41.avi\n",
      "Duration of video [s]:  15.0 , recorded with  40.0 fps!\n",
      "Overall # of frames:  600  found with (before cropping) frame dimensions:  1448 470\n",
      "Starting to extract posture\n"
     ]
    },
    {
     "name": "stderr",
     "output_type": "stream",
     "text": [
      "  2%|█▎                                                                               | 10/600 [00:00<00:08, 68.21it/s]\n"
     ]
    },
    {
     "name": "stdout",
     "output_type": "stream",
     "text": [
      "Starting to analyze %  D:\\videos\\ar32\\2020_10_11\\42.avi\n",
      "D:\\videos\\ar32\\2020_10_11  already exists!\n",
      "Loading  D:\\videos\\ar32\\2020_10_11\\42.avi\n",
      "Duration of video [s]:  15.0 , recorded with  40.0 fps!\n",
      "Overall # of frames:  600  found with (before cropping) frame dimensions:  1448 470\n",
      "Starting to extract posture\n"
     ]
    },
    {
     "name": "stderr",
     "output_type": "stream",
     "text": [
      "  2%|█▎                                                                               | 10/600 [00:00<00:08, 73.73it/s]\n"
     ]
    },
    {
     "name": "stdout",
     "output_type": "stream",
     "text": [
      "Starting to analyze %  D:\\videos\\ar32\\2020_10_11\\43.avi\n",
      "D:\\videos\\ar32\\2020_10_11  already exists!\n",
      "Loading  D:\\videos\\ar32\\2020_10_11\\43.avi\n",
      "Duration of video [s]:  15.0 , recorded with  40.0 fps!\n",
      "Overall # of frames:  600  found with (before cropping) frame dimensions:  1448 470\n",
      "Starting to extract posture\n"
     ]
    },
    {
     "name": "stderr",
     "output_type": "stream",
     "text": [
      "  2%|█▎                                                                               | 10/600 [00:00<00:09, 60.40it/s]\n"
     ]
    },
    {
     "name": "stdout",
     "output_type": "stream",
     "text": [
      "Starting to analyze %  D:\\videos\\ar32\\2020_10_11\\44.avi\n",
      "D:\\videos\\ar32\\2020_10_11  already exists!\n",
      "Loading  D:\\videos\\ar32\\2020_10_11\\44.avi\n",
      "Duration of video [s]:  15.0 , recorded with  40.0 fps!\n",
      "Overall # of frames:  600  found with (before cropping) frame dimensions:  1448 470\n",
      "Starting to extract posture\n"
     ]
    },
    {
     "name": "stderr",
     "output_type": "stream",
     "text": [
      "  2%|█▎                                                                               | 10/600 [00:00<00:08, 72.64it/s]\n"
     ]
    },
    {
     "name": "stdout",
     "output_type": "stream",
     "text": [
      "Starting to analyze %  D:\\videos\\ar32\\2020_10_11\\45.avi\n",
      "D:\\videos\\ar32\\2020_10_11  already exists!\n",
      "Loading  D:\\videos\\ar32\\2020_10_11\\45.avi\n",
      "Duration of video [s]:  15.0 , recorded with  40.0 fps!\n",
      "Overall # of frames:  600  found with (before cropping) frame dimensions:  1448 470\n",
      "Starting to extract posture\n"
     ]
    },
    {
     "name": "stderr",
     "output_type": "stream",
     "text": [
      "  2%|█▎                                                                               | 10/600 [00:00<00:11, 52.77it/s]\n"
     ]
    },
    {
     "name": "stdout",
     "output_type": "stream",
     "text": [
      "Starting to analyze %  D:\\videos\\ar32\\2020_10_11\\46.avi\n",
      "D:\\videos\\ar32\\2020_10_11  already exists!\n",
      "Loading  D:\\videos\\ar32\\2020_10_11\\46.avi\n",
      "Duration of video [s]:  15.0 , recorded with  40.0 fps!\n",
      "Overall # of frames:  600  found with (before cropping) frame dimensions:  1448 470\n",
      "Starting to extract posture\n"
     ]
    },
    {
     "name": "stderr",
     "output_type": "stream",
     "text": [
      "  2%|█▎                                                                               | 10/600 [00:00<00:08, 73.71it/s]\n"
     ]
    },
    {
     "name": "stdout",
     "output_type": "stream",
     "text": [
      "Starting to analyze %  D:\\videos\\ar32\\2020_10_11\\47.avi\n",
      "D:\\videos\\ar32\\2020_10_11  already exists!\n",
      "Loading  D:\\videos\\ar32\\2020_10_11\\47.avi\n",
      "Duration of video [s]:  15.0 , recorded with  40.0 fps!\n",
      "Overall # of frames:  600  found with (before cropping) frame dimensions:  1448 470\n",
      "Starting to extract posture\n"
     ]
    },
    {
     "name": "stderr",
     "output_type": "stream",
     "text": [
      "  2%|█▎                                                                               | 10/600 [00:00<00:09, 65.53it/s]\n"
     ]
    },
    {
     "name": "stdout",
     "output_type": "stream",
     "text": [
      "Starting to analyze %  D:\\videos\\ar32\\2020_10_11\\48.avi\n",
      "D:\\videos\\ar32\\2020_10_11  already exists!\n",
      "Loading  D:\\videos\\ar32\\2020_10_11\\48.avi\n",
      "Duration of video [s]:  15.0 , recorded with  40.0 fps!\n",
      "Overall # of frames:  600  found with (before cropping) frame dimensions:  1448 470\n",
      "Starting to extract posture\n"
     ]
    },
    {
     "name": "stderr",
     "output_type": "stream",
     "text": [
      "  2%|█▎                                                                               | 10/600 [00:00<00:07, 76.00it/s]\n"
     ]
    },
    {
     "name": "stdout",
     "output_type": "stream",
     "text": [
      "Starting to analyze %  D:\\videos\\ar32\\2020_10_11\\49.avi\n",
      "D:\\videos\\ar32\\2020_10_11  already exists!\n",
      "Loading  D:\\videos\\ar32\\2020_10_11\\49.avi\n",
      "Duration of video [s]:  15.0 , recorded with  40.0 fps!\n",
      "Overall # of frames:  600  found with (before cropping) frame dimensions:  1448 470\n",
      "Starting to extract posture\n"
     ]
    },
    {
     "name": "stderr",
     "output_type": "stream",
     "text": [
      "  2%|█▎                                                                               | 10/600 [00:00<00:09, 63.06it/s]\n"
     ]
    },
    {
     "name": "stdout",
     "output_type": "stream",
     "text": [
      "Starting to analyze %  D:\\videos\\ar32\\2020_10_11\\5.avi\n",
      "D:\\videos\\ar32\\2020_10_11  already exists!\n",
      "Loading  D:\\videos\\ar32\\2020_10_11\\5.avi\n",
      "Duration of video [s]:  15.0 , recorded with  40.0 fps!\n",
      "Overall # of frames:  600  found with (before cropping) frame dimensions:  1448 470\n",
      "Starting to extract posture\n"
     ]
    },
    {
     "name": "stderr",
     "output_type": "stream",
     "text": [
      "  2%|█▎                                                                               | 10/600 [00:00<00:07, 74.83it/s]\n"
     ]
    },
    {
     "name": "stdout",
     "output_type": "stream",
     "text": [
      "Starting to analyze %  D:\\videos\\ar32\\2020_10_11\\50.avi\n",
      "D:\\videos\\ar32\\2020_10_11  already exists!\n",
      "Loading  D:\\videos\\ar32\\2020_10_11\\50.avi\n",
      "Duration of video [s]:  15.0 , recorded with  40.0 fps!\n",
      "Overall # of frames:  600  found with (before cropping) frame dimensions:  1448 470\n",
      "Starting to extract posture\n"
     ]
    },
    {
     "name": "stderr",
     "output_type": "stream",
     "text": [
      "  2%|█▎                                                                               | 10/600 [00:00<00:10, 58.26it/s]\n"
     ]
    },
    {
     "name": "stdout",
     "output_type": "stream",
     "text": [
      "Starting to analyze %  D:\\videos\\ar32\\2020_10_11\\51.avi\n",
      "D:\\videos\\ar32\\2020_10_11  already exists!\n",
      "Loading  D:\\videos\\ar32\\2020_10_11\\51.avi\n",
      "Duration of video [s]:  15.0 , recorded with  40.0 fps!\n",
      "Overall # of frames:  600  found with (before cropping) frame dimensions:  1448 470\n",
      "Starting to extract posture\n"
     ]
    },
    {
     "name": "stderr",
     "output_type": "stream",
     "text": [
      "  2%|█▎                                                                               | 10/600 [00:00<00:09, 65.11it/s]\n"
     ]
    },
    {
     "name": "stdout",
     "output_type": "stream",
     "text": [
      "Starting to analyze %  D:\\videos\\ar32\\2020_10_11\\52.avi\n",
      "D:\\videos\\ar32\\2020_10_11  already exists!\n",
      "Loading  D:\\videos\\ar32\\2020_10_11\\52.avi\n",
      "Duration of video [s]:  15.0 , recorded with  40.0 fps!\n",
      "Overall # of frames:  600  found with (before cropping) frame dimensions:  1448 470\n",
      "Starting to extract posture\n"
     ]
    },
    {
     "name": "stderr",
     "output_type": "stream",
     "text": [
      "  2%|█▎                                                                               | 10/600 [00:00<00:09, 61.51it/s]\n"
     ]
    },
    {
     "name": "stdout",
     "output_type": "stream",
     "text": [
      "Starting to analyze %  D:\\videos\\ar32\\2020_10_11\\53.avi\n",
      "D:\\videos\\ar32\\2020_10_11  already exists!\n",
      "Loading  D:\\videos\\ar32\\2020_10_11\\53.avi\n",
      "Duration of video [s]:  15.0 , recorded with  40.0 fps!\n",
      "Overall # of frames:  600  found with (before cropping) frame dimensions:  1448 470\n",
      "Starting to extract posture\n"
     ]
    },
    {
     "name": "stderr",
     "output_type": "stream",
     "text": [
      "  2%|█▎                                                                               | 10/600 [00:00<00:07, 78.95it/s]\n"
     ]
    },
    {
     "name": "stdout",
     "output_type": "stream",
     "text": [
      "Starting to analyze %  D:\\videos\\ar32\\2020_10_11\\54.avi\n",
      "D:\\videos\\ar32\\2020_10_11  already exists!\n",
      "Loading  D:\\videos\\ar32\\2020_10_11\\54.avi\n",
      "Duration of video [s]:  15.0 , recorded with  40.0 fps!\n",
      "Overall # of frames:  600  found with (before cropping) frame dimensions:  1448 470\n",
      "Starting to extract posture\n"
     ]
    },
    {
     "name": "stderr",
     "output_type": "stream",
     "text": [
      "  2%|█▎                                                                               | 10/600 [00:00<00:16, 35.68it/s]\n"
     ]
    },
    {
     "name": "stdout",
     "output_type": "stream",
     "text": [
      "Starting to analyze %  D:\\videos\\ar32\\2020_10_11\\55.avi\n",
      "D:\\videos\\ar32\\2020_10_11  already exists!\n",
      "Loading  D:\\videos\\ar32\\2020_10_11\\55.avi\n",
      "Duration of video [s]:  15.0 , recorded with  40.0 fps!\n",
      "Overall # of frames:  600  found with (before cropping) frame dimensions:  1448 470\n",
      "Starting to extract posture\n"
     ]
    },
    {
     "name": "stderr",
     "output_type": "stream",
     "text": [
      "  2%|█▎                                                                               | 10/600 [00:00<00:09, 63.87it/s]\n"
     ]
    },
    {
     "name": "stdout",
     "output_type": "stream",
     "text": [
      "Starting to analyze %  D:\\videos\\ar32\\2020_10_11\\56.avi\n",
      "D:\\videos\\ar32\\2020_10_11  already exists!\n",
      "Loading  D:\\videos\\ar32\\2020_10_11\\56.avi\n",
      "Duration of video [s]:  15.0 , recorded with  40.0 fps!\n",
      "Overall # of frames:  600  found with (before cropping) frame dimensions:  1448 470\n",
      "Starting to extract posture\n"
     ]
    },
    {
     "name": "stderr",
     "output_type": "stream",
     "text": [
      "  2%|█▎                                                                               | 10/600 [00:00<00:09, 65.52it/s]\n"
     ]
    },
    {
     "name": "stdout",
     "output_type": "stream",
     "text": [
      "Starting to analyze %  D:\\videos\\ar32\\2020_10_11\\57.avi\n",
      "D:\\videos\\ar32\\2020_10_11  already exists!\n",
      "Loading  D:\\videos\\ar32\\2020_10_11\\57.avi\n",
      "Duration of video [s]:  15.0 , recorded with  40.0 fps!\n",
      "Overall # of frames:  600  found with (before cropping) frame dimensions:  1448 470\n",
      "Starting to extract posture\n"
     ]
    },
    {
     "name": "stderr",
     "output_type": "stream",
     "text": [
      "  2%|█▎                                                                               | 10/600 [00:00<00:09, 65.54it/s]\n"
     ]
    },
    {
     "name": "stdout",
     "output_type": "stream",
     "text": [
      "Starting to analyze %  D:\\videos\\ar32\\2020_10_11\\58.avi\n",
      "D:\\videos\\ar32\\2020_10_11  already exists!\n",
      "Loading  D:\\videos\\ar32\\2020_10_11\\58.avi\n",
      "Duration of video [s]:  15.0 , recorded with  40.0 fps!\n",
      "Overall # of frames:  600  found with (before cropping) frame dimensions:  1448 470\n",
      "Starting to extract posture\n"
     ]
    },
    {
     "name": "stderr",
     "output_type": "stream",
     "text": [
      "  2%|█▎                                                                               | 10/600 [00:00<00:09, 61.89it/s]\n"
     ]
    },
    {
     "name": "stdout",
     "output_type": "stream",
     "text": [
      "Starting to analyze %  D:\\videos\\ar32\\2020_10_11\\59.avi\n",
      "D:\\videos\\ar32\\2020_10_11  already exists!\n",
      "Loading  D:\\videos\\ar32\\2020_10_11\\59.avi\n",
      "Duration of video [s]:  15.0 , recorded with  40.0 fps!\n",
      "Overall # of frames:  600  found with (before cropping) frame dimensions:  1448 470\n",
      "Starting to extract posture\n"
     ]
    },
    {
     "name": "stderr",
     "output_type": "stream",
     "text": [
      "  2%|█▎                                                                               | 10/600 [00:00<00:07, 79.58it/s]\n"
     ]
    },
    {
     "name": "stdout",
     "output_type": "stream",
     "text": [
      "Starting to analyze %  D:\\videos\\ar32\\2020_10_11\\6.avi\n",
      "D:\\videos\\ar32\\2020_10_11  already exists!\n",
      "Loading  D:\\videos\\ar32\\2020_10_11\\6.avi\n",
      "Duration of video [s]:  15.0 , recorded with  40.0 fps!\n",
      "Overall # of frames:  600  found with (before cropping) frame dimensions:  1448 470\n",
      "Starting to extract posture\n"
     ]
    },
    {
     "name": "stderr",
     "output_type": "stream",
     "text": [
      "  2%|█▎                                                                               | 10/600 [00:00<00:17, 33.65it/s]\n"
     ]
    },
    {
     "name": "stdout",
     "output_type": "stream",
     "text": [
      "Starting to analyze %  D:\\videos\\ar32\\2020_10_11\\60.avi\n",
      "D:\\videos\\ar32\\2020_10_11  already exists!\n",
      "Loading  D:\\videos\\ar32\\2020_10_11\\60.avi\n",
      "Duration of video [s]:  15.0 , recorded with  40.0 fps!\n",
      "Overall # of frames:  600  found with (before cropping) frame dimensions:  1448 470\n",
      "Starting to extract posture\n"
     ]
    },
    {
     "name": "stderr",
     "output_type": "stream",
     "text": [
      "  2%|█▎                                                                               | 10/600 [00:00<00:07, 77.73it/s]\n"
     ]
    },
    {
     "name": "stdout",
     "output_type": "stream",
     "text": [
      "Starting to analyze %  D:\\videos\\ar32\\2020_10_11\\61.avi\n",
      "D:\\videos\\ar32\\2020_10_11  already exists!\n",
      "Loading  D:\\videos\\ar32\\2020_10_11\\61.avi\n",
      "Duration of video [s]:  15.0 , recorded with  40.0 fps!\n",
      "Overall # of frames:  600  found with (before cropping) frame dimensions:  1448 470\n",
      "Starting to extract posture\n"
     ]
    },
    {
     "name": "stderr",
     "output_type": "stream",
     "text": [
      "  2%|█▎                                                                               | 10/600 [00:00<00:09, 62.28it/s]\n"
     ]
    },
    {
     "name": "stdout",
     "output_type": "stream",
     "text": [
      "Starting to analyze %  D:\\videos\\ar32\\2020_10_11\\62.avi\n",
      "D:\\videos\\ar32\\2020_10_11  already exists!\n",
      "Loading  D:\\videos\\ar32\\2020_10_11\\62.avi\n",
      "Duration of video [s]:  15.0 , recorded with  40.0 fps!\n",
      "Overall # of frames:  600  found with (before cropping) frame dimensions:  1448 470\n",
      "Starting to extract posture\n"
     ]
    },
    {
     "name": "stderr",
     "output_type": "stream",
     "text": [
      "  2%|█▎                                                                               | 10/600 [00:00<00:09, 62.28it/s]\n"
     ]
    },
    {
     "name": "stdout",
     "output_type": "stream",
     "text": [
      "Starting to analyze %  D:\\videos\\ar32\\2020_10_11\\63.avi\n",
      "D:\\videos\\ar32\\2020_10_11  already exists!\n",
      "Loading  D:\\videos\\ar32\\2020_10_11\\63.avi\n",
      "Duration of video [s]:  15.0 , recorded with  40.0 fps!\n",
      "Overall # of frames:  600  found with (before cropping) frame dimensions:  1448 470\n",
      "Starting to extract posture\n"
     ]
    },
    {
     "name": "stderr",
     "output_type": "stream",
     "text": [
      "  2%|█▎                                                                               | 10/600 [00:00<00:08, 66.39it/s]\n"
     ]
    },
    {
     "name": "stdout",
     "output_type": "stream",
     "text": [
      "Starting to analyze %  D:\\videos\\ar32\\2020_10_11\\64.avi\n",
      "D:\\videos\\ar32\\2020_10_11  already exists!\n",
      "Loading  D:\\videos\\ar32\\2020_10_11\\64.avi\n",
      "Duration of video [s]:  15.0 , recorded with  40.0 fps!\n",
      "Overall # of frames:  600  found with (before cropping) frame dimensions:  1448 470\n",
      "Starting to extract posture\n"
     ]
    },
    {
     "name": "stderr",
     "output_type": "stream",
     "text": [
      "  2%|█▎                                                                               | 10/600 [00:00<00:08, 73.68it/s]\n"
     ]
    },
    {
     "name": "stdout",
     "output_type": "stream",
     "text": [
      "Starting to analyze %  D:\\videos\\ar32\\2020_10_11\\65.avi\n",
      "D:\\videos\\ar32\\2020_10_11  already exists!\n",
      "Loading  D:\\videos\\ar32\\2020_10_11\\65.avi\n",
      "Duration of video [s]:  15.0 , recorded with  40.0 fps!\n",
      "Overall # of frames:  600  found with (before cropping) frame dimensions:  1448 470\n",
      "Starting to extract posture\n"
     ]
    },
    {
     "name": "stderr",
     "output_type": "stream",
     "text": [
      "  2%|█▎                                                                               | 10/600 [00:00<00:17, 33.76it/s]\n"
     ]
    },
    {
     "name": "stdout",
     "output_type": "stream",
     "text": [
      "Starting to analyze %  D:\\videos\\ar32\\2020_10_11\\66.avi\n",
      "D:\\videos\\ar32\\2020_10_11  already exists!\n",
      "Loading  D:\\videos\\ar32\\2020_10_11\\66.avi\n",
      "Duration of video [s]:  15.0 , recorded with  40.0 fps!\n",
      "Overall # of frames:  600  found with (before cropping) frame dimensions:  1448 470\n",
      "Starting to extract posture\n"
     ]
    },
    {
     "name": "stderr",
     "output_type": "stream",
     "text": [
      "  2%|█▎                                                                               | 10/600 [00:00<00:10, 58.63it/s]\n"
     ]
    },
    {
     "name": "stdout",
     "output_type": "stream",
     "text": [
      "Starting to analyze %  D:\\videos\\ar32\\2020_10_11\\67.avi\n",
      "D:\\videos\\ar32\\2020_10_11  already exists!\n",
      "Loading  D:\\videos\\ar32\\2020_10_11\\67.avi\n",
      "Duration of video [s]:  15.0 , recorded with  40.0 fps!\n",
      "Overall # of frames:  600  found with (before cropping) frame dimensions:  1448 470\n",
      "Starting to extract posture\n"
     ]
    },
    {
     "name": "stderr",
     "output_type": "stream",
     "text": [
      "  2%|█▎                                                                               | 10/600 [00:00<00:09, 63.86it/s]\n"
     ]
    },
    {
     "name": "stdout",
     "output_type": "stream",
     "text": [
      "Starting to analyze %  D:\\videos\\ar32\\2020_10_11\\68.avi\n",
      "D:\\videos\\ar32\\2020_10_11  already exists!\n",
      "Loading  D:\\videos\\ar32\\2020_10_11\\68.avi\n",
      "Duration of video [s]:  15.0 , recorded with  40.0 fps!\n",
      "Overall # of frames:  600  found with (before cropping) frame dimensions:  1448 470\n",
      "Starting to extract posture\n"
     ]
    },
    {
     "name": "stderr",
     "output_type": "stream",
     "text": [
      "  2%|█▎                                                                               | 10/600 [00:00<00:08, 69.63it/s]\n"
     ]
    },
    {
     "name": "stdout",
     "output_type": "stream",
     "text": [
      "Starting to analyze %  D:\\videos\\ar32\\2020_10_11\\69.avi\n",
      "D:\\videos\\ar32\\2020_10_11  already exists!\n",
      "Loading  D:\\videos\\ar32\\2020_10_11\\69.avi\n",
      "Duration of video [s]:  15.0 , recorded with  40.0 fps!\n",
      "Overall # of frames:  600  found with (before cropping) frame dimensions:  1448 470\n",
      "Starting to extract posture\n"
     ]
    },
    {
     "name": "stderr",
     "output_type": "stream",
     "text": [
      "  2%|█▎                                                                               | 10/600 [00:00<00:09, 64.68it/s]\n"
     ]
    },
    {
     "name": "stdout",
     "output_type": "stream",
     "text": [
      "Starting to analyze %  D:\\videos\\ar32\\2020_10_11\\7.avi\n",
      "D:\\videos\\ar32\\2020_10_11  already exists!\n",
      "Loading  D:\\videos\\ar32\\2020_10_11\\7.avi\n",
      "Duration of video [s]:  15.0 , recorded with  40.0 fps!\n",
      "Overall # of frames:  600  found with (before cropping) frame dimensions:  1448 470\n",
      "Starting to extract posture\n"
     ]
    },
    {
     "name": "stderr",
     "output_type": "stream",
     "text": [
      "  2%|█▎                                                                               | 10/600 [00:00<00:08, 70.10it/s]\n"
     ]
    },
    {
     "name": "stdout",
     "output_type": "stream",
     "text": [
      "Starting to analyze %  D:\\videos\\ar32\\2020_10_11\\70.avi\n",
      "D:\\videos\\ar32\\2020_10_11  already exists!\n",
      "Loading  D:\\videos\\ar32\\2020_10_11\\70.avi\n",
      "Duration of video [s]:  15.0 , recorded with  40.0 fps!\n",
      "Overall # of frames:  600  found with (before cropping) frame dimensions:  1448 470\n",
      "Starting to extract posture\n"
     ]
    },
    {
     "name": "stderr",
     "output_type": "stream",
     "text": [
      "  2%|█▎                                                                               | 10/600 [00:00<00:08, 68.18it/s]\n"
     ]
    },
    {
     "name": "stdout",
     "output_type": "stream",
     "text": [
      "Starting to analyze %  D:\\videos\\ar32\\2020_10_11\\71.avi\n",
      "D:\\videos\\ar32\\2020_10_11  already exists!\n",
      "Loading  D:\\videos\\ar32\\2020_10_11\\71.avi\n",
      "Duration of video [s]:  15.0 , recorded with  40.0 fps!\n",
      "Overall # of frames:  600  found with (before cropping) frame dimensions:  1448 470\n",
      "Starting to extract posture\n"
     ]
    },
    {
     "name": "stderr",
     "output_type": "stream",
     "text": [
      "  2%|█▎                                                                               | 10/600 [00:00<00:08, 72.66it/s]\n"
     ]
    },
    {
     "name": "stdout",
     "output_type": "stream",
     "text": [
      "Starting to analyze %  D:\\videos\\ar32\\2020_10_11\\72.avi\n",
      "D:\\videos\\ar32\\2020_10_11  already exists!\n",
      "Loading  D:\\videos\\ar32\\2020_10_11\\72.avi\n",
      "Duration of video [s]:  15.0 , recorded with  40.0 fps!\n",
      "Overall # of frames:  600  found with (before cropping) frame dimensions:  1448 470\n",
      "Starting to extract posture\n"
     ]
    },
    {
     "name": "stderr",
     "output_type": "stream",
     "text": [
      "  2%|█▎                                                                               | 10/600 [00:00<00:08, 65.97it/s]\n"
     ]
    },
    {
     "name": "stdout",
     "output_type": "stream",
     "text": [
      "Starting to analyze %  D:\\videos\\ar32\\2020_10_11\\73.avi\n",
      "D:\\videos\\ar32\\2020_10_11  already exists!\n",
      "Loading  D:\\videos\\ar32\\2020_10_11\\73.avi\n",
      "Duration of video [s]:  15.0 , recorded with  40.0 fps!\n",
      "Overall # of frames:  600  found with (before cropping) frame dimensions:  1448 470\n",
      "Starting to extract posture\n"
     ]
    },
    {
     "name": "stderr",
     "output_type": "stream",
     "text": [
      "  2%|█▎                                                                               | 10/600 [00:00<00:07, 77.73it/s]\n"
     ]
    },
    {
     "name": "stdout",
     "output_type": "stream",
     "text": [
      "Starting to analyze %  D:\\videos\\ar32\\2020_10_11\\74.avi\n",
      "D:\\videos\\ar32\\2020_10_11  already exists!\n",
      "Loading  D:\\videos\\ar32\\2020_10_11\\74.avi\n",
      "Duration of video [s]:  15.0 , recorded with  40.0 fps!\n",
      "Overall # of frames:  600  found with (before cropping) frame dimensions:  1448 470\n",
      "Starting to extract posture\n"
     ]
    },
    {
     "name": "stderr",
     "output_type": "stream",
     "text": [
      "  2%|█▎                                                                               | 10/600 [00:00<00:14, 42.12it/s]\n"
     ]
    },
    {
     "name": "stdout",
     "output_type": "stream",
     "text": [
      "Starting to analyze %  D:\\videos\\ar32\\2020_10_11\\75.avi\n",
      "D:\\videos\\ar32\\2020_10_11  already exists!\n",
      "Loading  D:\\videos\\ar32\\2020_10_11\\75.avi\n",
      "Duration of video [s]:  15.0 , recorded with  40.0 fps!\n",
      "Overall # of frames:  600  found with (before cropping) frame dimensions:  1448 470\n",
      "Starting to extract posture\n"
     ]
    },
    {
     "name": "stderr",
     "output_type": "stream",
     "text": [
      "  2%|█▎                                                                               | 10/600 [00:00<00:08, 70.12it/s]\n"
     ]
    },
    {
     "name": "stdout",
     "output_type": "stream",
     "text": [
      "Starting to analyze %  D:\\videos\\ar32\\2020_10_11\\76.avi\n",
      "D:\\videos\\ar32\\2020_10_11  already exists!\n",
      "Loading  D:\\videos\\ar32\\2020_10_11\\76.avi\n",
      "Duration of video [s]:  15.0 , recorded with  40.0 fps!\n",
      "Overall # of frames:  600  found with (before cropping) frame dimensions:  1448 470\n",
      "Starting to extract posture\n"
     ]
    },
    {
     "name": "stderr",
     "output_type": "stream",
     "text": [
      "  2%|█▎                                                                               | 10/600 [00:00<00:08, 65.97it/s]\n"
     ]
    },
    {
     "name": "stdout",
     "output_type": "stream",
     "text": [
      "Starting to analyze %  D:\\videos\\ar32\\2020_10_11\\77.avi\n",
      "D:\\videos\\ar32\\2020_10_11  already exists!\n",
      "Loading  D:\\videos\\ar32\\2020_10_11\\77.avi\n",
      "Duration of video [s]:  15.0 , recorded with  40.0 fps!\n",
      "Overall # of frames:  600  found with (before cropping) frame dimensions:  1448 470\n",
      "Starting to extract posture\n"
     ]
    },
    {
     "name": "stderr",
     "output_type": "stream",
     "text": [
      "  2%|█▎                                                                               | 10/600 [00:00<00:07, 75.39it/s]\n"
     ]
    },
    {
     "name": "stdout",
     "output_type": "stream",
     "text": [
      "Starting to analyze %  D:\\videos\\ar32\\2020_10_11\\78.avi\n",
      "D:\\videos\\ar32\\2020_10_11  already exists!\n",
      "Loading  D:\\videos\\ar32\\2020_10_11\\78.avi\n",
      "Duration of video [s]:  15.0 , recorded with  40.0 fps!\n",
      "Overall # of frames:  600  found with (before cropping) frame dimensions:  1448 470\n",
      "Starting to extract posture\n"
     ]
    },
    {
     "name": "stderr",
     "output_type": "stream",
     "text": [
      "  2%|█▎                                                                               | 10/600 [00:00<00:08, 67.29it/s]\n"
     ]
    },
    {
     "name": "stdout",
     "output_type": "stream",
     "text": [
      "Starting to analyze %  D:\\videos\\ar32\\2020_10_11\\79.avi\n",
      "D:\\videos\\ar32\\2020_10_11  already exists!\n",
      "Loading  D:\\videos\\ar32\\2020_10_11\\79.avi\n",
      "Duration of video [s]:  15.0 , recorded with  40.0 fps!\n",
      "Overall # of frames:  600  found with (before cropping) frame dimensions:  1448 470\n",
      "Starting to extract posture\n"
     ]
    },
    {
     "name": "stderr",
     "output_type": "stream",
     "text": [
      "  2%|█▎                                                                               | 10/600 [00:00<00:07, 75.37it/s]\n"
     ]
    },
    {
     "name": "stdout",
     "output_type": "stream",
     "text": [
      "Starting to analyze %  D:\\videos\\ar32\\2020_10_11\\8.avi\n",
      "D:\\videos\\ar32\\2020_10_11  already exists!\n",
      "Loading  D:\\videos\\ar32\\2020_10_11\\8.avi\n",
      "Duration of video [s]:  15.0 , recorded with  40.0 fps!\n",
      "Overall # of frames:  600  found with (before cropping) frame dimensions:  1448 470\n",
      "Starting to extract posture\n"
     ]
    },
    {
     "name": "stderr",
     "output_type": "stream",
     "text": [
      "  2%|█▎                                                                               | 10/600 [00:00<00:16, 35.68it/s]\n"
     ]
    },
    {
     "name": "stdout",
     "output_type": "stream",
     "text": [
      "Starting to analyze %  D:\\videos\\ar32\\2020_10_11\\80.avi\n",
      "D:\\videos\\ar32\\2020_10_11  already exists!\n",
      "Loading  D:\\videos\\ar32\\2020_10_11\\80.avi\n",
      "Duration of video [s]:  15.0 , recorded with  40.0 fps!\n",
      "Overall # of frames:  600  found with (before cropping) frame dimensions:  1448 470\n",
      "Starting to extract posture\n"
     ]
    },
    {
     "name": "stderr",
     "output_type": "stream",
     "text": [
      "  2%|█▎                                                                               | 10/600 [00:00<00:08, 67.75it/s]\n"
     ]
    },
    {
     "name": "stdout",
     "output_type": "stream",
     "text": [
      "Starting to analyze %  D:\\videos\\ar32\\2020_10_11\\81.avi\n",
      "D:\\videos\\ar32\\2020_10_11  already exists!\n",
      "Loading  D:\\videos\\ar32\\2020_10_11\\81.avi\n",
      "Duration of video [s]:  15.0 , recorded with  40.0 fps!\n",
      "Overall # of frames:  600  found with (before cropping) frame dimensions:  1448 470\n",
      "Starting to extract posture\n"
     ]
    },
    {
     "name": "stderr",
     "output_type": "stream",
     "text": [
      "  2%|█▎                                                                               | 10/600 [00:00<00:09, 64.27it/s]\n"
     ]
    },
    {
     "name": "stdout",
     "output_type": "stream",
     "text": [
      "Starting to analyze %  D:\\videos\\ar32\\2020_10_11\\82.avi\n",
      "D:\\videos\\ar32\\2020_10_11  already exists!\n",
      "Loading  D:\\videos\\ar32\\2020_10_11\\82.avi\n",
      "Duration of video [s]:  15.0 , recorded with  40.0 fps!\n",
      "Overall # of frames:  600  found with (before cropping) frame dimensions:  1448 470\n",
      "Starting to extract posture\n"
     ]
    },
    {
     "name": "stderr",
     "output_type": "stream",
     "text": [
      "  2%|█▎                                                                               | 10/600 [00:00<00:15, 38.42it/s]\n"
     ]
    },
    {
     "name": "stdout",
     "output_type": "stream",
     "text": [
      "Starting to analyze %  D:\\videos\\ar32\\2020_10_11\\83.avi\n",
      "D:\\videos\\ar32\\2020_10_11  already exists!\n",
      "Loading  D:\\videos\\ar32\\2020_10_11\\83.avi\n",
      "Duration of video [s]:  15.0 , recorded with  40.0 fps!\n",
      "Overall # of frames:  600  found with (before cropping) frame dimensions:  1448 470\n",
      "Starting to extract posture\n"
     ]
    },
    {
     "name": "stderr",
     "output_type": "stream",
     "text": [
      "  2%|█▎                                                                               | 10/600 [00:00<00:08, 66.85it/s]\n"
     ]
    },
    {
     "name": "stdout",
     "output_type": "stream",
     "text": [
      "Starting to analyze %  D:\\videos\\ar32\\2020_10_11\\84.avi\n",
      "D:\\videos\\ar32\\2020_10_11  already exists!\n",
      "Loading  D:\\videos\\ar32\\2020_10_11\\84.avi\n",
      "Duration of video [s]:  15.0 , recorded with  40.0 fps!\n",
      "Overall # of frames:  600  found with (before cropping) frame dimensions:  1448 470\n",
      "Starting to extract posture\n"
     ]
    },
    {
     "name": "stderr",
     "output_type": "stream",
     "text": [
      "  2%|█▎                                                                               | 10/600 [00:00<00:09, 60.77it/s]\n"
     ]
    },
    {
     "name": "stdout",
     "output_type": "stream",
     "text": [
      "Starting to analyze %  D:\\videos\\ar32\\2020_10_11\\85.avi\n",
      "D:\\videos\\ar32\\2020_10_11  already exists!\n",
      "Loading  D:\\videos\\ar32\\2020_10_11\\85.avi\n",
      "Duration of video [s]:  15.0 , recorded with  40.0 fps!\n",
      "Overall # of frames:  600  found with (before cropping) frame dimensions:  1448 470\n",
      "Starting to extract posture\n"
     ]
    },
    {
     "name": "stderr",
     "output_type": "stream",
     "text": [
      "  2%|█▎                                                                               | 10/600 [00:00<00:09, 65.53it/s]\n"
     ]
    },
    {
     "name": "stdout",
     "output_type": "stream",
     "text": [
      "Starting to analyze %  D:\\videos\\ar32\\2020_10_11\\86.avi\n",
      "D:\\videos\\ar32\\2020_10_11  already exists!\n",
      "Loading  D:\\videos\\ar32\\2020_10_11\\86.avi\n",
      "Duration of video [s]:  15.0 , recorded with  40.0 fps!\n",
      "Overall # of frames:  600  found with (before cropping) frame dimensions:  1448 470\n",
      "Starting to extract posture\n"
     ]
    },
    {
     "name": "stderr",
     "output_type": "stream",
     "text": [
      "  2%|█▎                                                                               | 10/600 [00:00<00:09, 63.85it/s]\n"
     ]
    },
    {
     "name": "stdout",
     "output_type": "stream",
     "text": [
      "Starting to analyze %  D:\\videos\\ar32\\2020_10_11\\87.avi\n",
      "D:\\videos\\ar32\\2020_10_11  already exists!\n",
      "Loading  D:\\videos\\ar32\\2020_10_11\\87.avi\n",
      "Duration of video [s]:  15.0 , recorded with  40.0 fps!\n",
      "Overall # of frames:  600  found with (before cropping) frame dimensions:  1448 470\n",
      "Starting to extract posture\n"
     ]
    },
    {
     "name": "stderr",
     "output_type": "stream",
     "text": [
      "  2%|█▎                                                                               | 10/600 [00:00<00:08, 65.97it/s]\n"
     ]
    },
    {
     "name": "stdout",
     "output_type": "stream",
     "text": [
      "Starting to analyze %  D:\\videos\\ar32\\2020_10_11\\88.avi\n",
      "D:\\videos\\ar32\\2020_10_11  already exists!\n",
      "Loading  D:\\videos\\ar32\\2020_10_11\\88.avi\n",
      "Duration of video [s]:  15.0 , recorded with  40.0 fps!\n",
      "Overall # of frames:  600  found with (before cropping) frame dimensions:  1448 470\n",
      "Starting to extract posture\n"
     ]
    },
    {
     "name": "stderr",
     "output_type": "stream",
     "text": [
      "  2%|█▎                                                                               | 10/600 [00:00<00:08, 70.12it/s]\n"
     ]
    },
    {
     "name": "stdout",
     "output_type": "stream",
     "text": [
      "Starting to analyze %  D:\\videos\\ar32\\2020_10_11\\89.avi\n",
      "D:\\videos\\ar32\\2020_10_11  already exists!\n",
      "Loading  D:\\videos\\ar32\\2020_10_11\\89.avi\n",
      "Duration of video [s]:  15.0 , recorded with  40.0 fps!\n",
      "Overall # of frames:  600  found with (before cropping) frame dimensions:  1448 470\n",
      "Starting to extract posture\n"
     ]
    },
    {
     "name": "stderr",
     "output_type": "stream",
     "text": [
      "  2%|█▎                                                                               | 10/600 [00:00<00:09, 61.50it/s]\n"
     ]
    },
    {
     "name": "stdout",
     "output_type": "stream",
     "text": [
      "Starting to analyze %  D:\\videos\\ar32\\2020_10_11\\9.avi\n",
      "D:\\videos\\ar32\\2020_10_11  already exists!\n",
      "Loading  D:\\videos\\ar32\\2020_10_11\\9.avi\n",
      "Duration of video [s]:  15.0 , recorded with  40.0 fps!\n",
      "Overall # of frames:  600  found with (before cropping) frame dimensions:  1448 470\n",
      "Starting to extract posture\n"
     ]
    },
    {
     "name": "stderr",
     "output_type": "stream",
     "text": [
      "  2%|█▎                                                                               | 10/600 [00:00<00:07, 76.54it/s]\n"
     ]
    },
    {
     "name": "stdout",
     "output_type": "stream",
     "text": [
      "Starting to analyze %  D:\\videos\\ar32\\2020_10_11\\90.avi\n",
      "D:\\videos\\ar32\\2020_10_11  already exists!\n",
      "Loading  D:\\videos\\ar32\\2020_10_11\\90.avi\n",
      "Duration of video [s]:  15.0 , recorded with  40.0 fps!\n",
      "Overall # of frames:  600  found with (before cropping) frame dimensions:  1448 470\n",
      "Starting to extract posture\n"
     ]
    },
    {
     "name": "stderr",
     "output_type": "stream",
     "text": [
      "  2%|█▎                                                                               | 10/600 [00:00<00:09, 61.89it/s]\n"
     ]
    },
    {
     "name": "stdout",
     "output_type": "stream",
     "text": [
      "Starting to analyze %  D:\\videos\\ar32\\2020_10_11\\91.avi\n",
      "D:\\videos\\ar32\\2020_10_11  already exists!\n",
      "Loading  D:\\videos\\ar32\\2020_10_11\\91.avi\n",
      "Duration of video [s]:  15.0 , recorded with  40.0 fps!\n",
      "Overall # of frames:  600  found with (before cropping) frame dimensions:  1448 470\n",
      "Starting to extract posture\n"
     ]
    },
    {
     "name": "stderr",
     "output_type": "stream",
     "text": [
      "  2%|█▎                                                                               | 10/600 [00:00<00:09, 65.54it/s]\n"
     ]
    },
    {
     "name": "stdout",
     "output_type": "stream",
     "text": [
      "Starting to analyze %  D:\\videos\\ar32\\2020_10_11\\92.avi\n",
      "D:\\videos\\ar32\\2020_10_11  already exists!\n",
      "Loading  D:\\videos\\ar32\\2020_10_11\\92.avi\n",
      "Duration of video [s]:  15.0 , recorded with  40.0 fps!\n",
      "Overall # of frames:  600  found with (before cropping) frame dimensions:  1448 470\n",
      "Starting to extract posture\n"
     ]
    },
    {
     "name": "stderr",
     "output_type": "stream",
     "text": [
      "  2%|█▎                                                                               | 10/600 [00:00<00:09, 61.89it/s]\n"
     ]
    },
    {
     "name": "stdout",
     "output_type": "stream",
     "text": [
      "Starting to analyze %  D:\\videos\\ar32\\2020_10_11\\93.avi\n",
      "D:\\videos\\ar32\\2020_10_11  already exists!\n",
      "Loading  D:\\videos\\ar32\\2020_10_11\\93.avi\n",
      "Duration of video [s]:  15.0 , recorded with  40.0 fps!\n",
      "Overall # of frames:  600  found with (before cropping) frame dimensions:  1448 470\n",
      "Starting to extract posture\n"
     ]
    },
    {
     "name": "stderr",
     "output_type": "stream",
     "text": [
      "  2%|█▎                                                                               | 10/600 [00:00<00:08, 69.63it/s]\n"
     ]
    },
    {
     "name": "stdout",
     "output_type": "stream",
     "text": [
      "Starting to analyze %  D:\\videos\\ar32\\2020_10_11\\94.avi\n",
      "D:\\videos\\ar32\\2020_10_11  already exists!\n",
      "Loading  D:\\videos\\ar32\\2020_10_11\\94.avi\n",
      "Duration of video [s]:  15.0 , recorded with  40.0 fps!\n",
      "Overall # of frames:  600  found with (before cropping) frame dimensions:  1448 470\n",
      "Starting to extract posture\n"
     ]
    },
    {
     "name": "stderr",
     "output_type": "stream",
     "text": [
      "  2%|█▎                                                                               | 10/600 [00:00<00:16, 35.56it/s]\n"
     ]
    },
    {
     "name": "stdout",
     "output_type": "stream",
     "text": [
      "Starting to analyze %  D:\\videos\\ar32\\2020_10_11\\95.avi\n",
      "D:\\videos\\ar32\\2020_10_11  already exists!\n",
      "Loading  D:\\videos\\ar32\\2020_10_11\\95.avi\n",
      "Duration of video [s]:  15.0 , recorded with  40.0 fps!\n",
      "Overall # of frames:  600  found with (before cropping) frame dimensions:  1448 470\n",
      "Starting to extract posture\n"
     ]
    },
    {
     "name": "stderr",
     "output_type": "stream",
     "text": [
      "  2%|█▎                                                                               | 10/600 [00:00<00:07, 78.33it/s]\n"
     ]
    },
    {
     "name": "stdout",
     "output_type": "stream",
     "text": [
      "Starting to analyze %  D:\\videos\\ar32\\2020_10_11\\96.avi\n",
      "D:\\videos\\ar32\\2020_10_11  already exists!\n",
      "Loading  D:\\videos\\ar32\\2020_10_11\\96.avi\n",
      "Duration of video [s]:  15.0 , recorded with  40.0 fps!\n",
      "Overall # of frames:  600  found with (before cropping) frame dimensions:  1448 470\n",
      "Starting to extract posture\n"
     ]
    },
    {
     "name": "stderr",
     "output_type": "stream",
     "text": [
      "  2%|█▎                                                                               | 10/600 [00:00<00:11, 50.39it/s]\n"
     ]
    },
    {
     "name": "stdout",
     "output_type": "stream",
     "text": [
      "Starting to analyze %  D:\\videos\\ar32\\2020_10_11\\97.avi\n",
      "D:\\videos\\ar32\\2020_10_11  already exists!\n",
      "Loading  D:\\videos\\ar32\\2020_10_11\\97.avi\n",
      "Duration of video [s]:  15.0 , recorded with  40.0 fps!\n",
      "Overall # of frames:  600  found with (before cropping) frame dimensions:  1448 470\n",
      "Starting to extract posture\n"
     ]
    },
    {
     "name": "stderr",
     "output_type": "stream",
     "text": [
      "  2%|█▎                                                                               | 10/600 [00:00<00:10, 58.97it/s]\n"
     ]
    },
    {
     "name": "stdout",
     "output_type": "stream",
     "text": [
      "Starting to analyze %  D:\\videos\\ar32\\2020_10_11\\98.avi\n",
      "D:\\videos\\ar32\\2020_10_11  already exists!\n",
      "Loading  D:\\videos\\ar32\\2020_10_11\\98.avi\n",
      "Duration of video [s]:  15.0 , recorded with  40.0 fps!\n",
      "Overall # of frames:  600  found with (before cropping) frame dimensions:  1448 470\n",
      "Starting to extract posture\n"
     ]
    },
    {
     "name": "stderr",
     "output_type": "stream",
     "text": [
      "  2%|█▎                                                                               | 10/600 [00:00<00:09, 59.33it/s]\n"
     ]
    },
    {
     "name": "stdout",
     "output_type": "stream",
     "text": [
      "Starting to analyze %  D:\\videos\\ar32\\2020_10_11\\99.avi\n",
      "D:\\videos\\ar32\\2020_10_11  already exists!\n",
      "Loading  D:\\videos\\ar32\\2020_10_11\\99.avi\n",
      "Duration of video [s]:  15.0 , recorded with  40.0 fps!\n",
      "Overall # of frames:  600  found with (before cropping) frame dimensions:  1448 470\n",
      "Starting to extract posture\n"
     ]
    },
    {
     "name": "stderr",
     "output_type": "stream",
     "text": [
      "  2%|█▎                                                                               | 10/600 [00:00<00:08, 69.63it/s]\n"
     ]
    },
    {
     "name": "stdout",
     "output_type": "stream",
     "text": [
      "The videos are analyzed. Now your research can truly start! \n",
      " You can create labeled videos with 'create_labeled_video'\n",
      "If the tracking is not satisfactory for some videos, consider expanding the training set. You can use the function 'extract_outlier_frames' to extract a few representative outlier frames.\n"
     ]
    },
    {
     "data": {
      "text/plain": [
       "'DLC_resnet50_ar32_10_09_20Face3Oct10shuffle1_205000'"
      ]
     },
     "execution_count": 3,
     "metadata": {},
     "output_type": "execute_result"
    }
   ],
   "source": [
    "\n",
    "path_config_file = 'D:\\\\rat_movies_SC\\\\ar19muscimol\\\\10_10_2019\\\\ar19muscimol10-10-19_LR_R-Arash-2020-02-28\\\\config.yaml';\n",
    "#path_config_file = 'D:\\\\rat_movies_SC\\\\ar19muscimol\\\\10_10_2019\\\\ar19muscimol10-10-19_LR_L-Arash-2020-03-01\\\\config.yaml';\n",
    "#path_config_file = 'E:\\\\movies\\\\ar2breathing\\\\10_08_19\\\\ar2breathing_10_08_19-Arash-2020-03-26\\\\config.yaml'\n",
    "path_config_file = 'E:\\\\movies\\\\ar2breathing\\\\10_08_19\\\\ar2breathing_10_08_19LR_R-Arash-2020-04-30\\\\config.yaml'\n",
    "path_config_file = 'D:\\\\videos\\\\ar21\\\\2020-07-06\\\\ar21_07_06_20Face2-Arash-2020-07-07\\\\config.yaml';\n",
    "path_config_file = 'D:\\\\Dropbox\\\\Notebook\\\\ar19_09_15_20Face3-Arash-2020-09-16\\\\config.yaml';\n",
    "path_config_file = 'D:\\\\Dropbox\\\\Notebook\\\\ar19_09_15_20Face3-Arash-2020-09-16\\\\config.yaml';\n",
    "path_config_file = 'D:\\\\videos\\\\ar32\\\\2020_10_09\\\\ar32_10_09_20Face3-Arash-2020-10-10\\\\config.yaml';\n",
    "import os\n",
    "\n",
    "Mainfolder = 'E:\\\\movies\\\\ar2breathing\\\\10_06_19'\n",
    "Mainfolder = 'D:\\\\rat_movies_SC\\\\ar19muscimol\\\\10_10_2019'\n",
    "Mainfolder = 'D:\\\\rat_movies_SC\\\\ar19tear19salin\\\\10_08_19'\n",
    "Mainfolder = 'E:\\\\movies\\\\MUSCIMOL\\\\ar19tear19salin\\\\10_08_19'\n",
    "Mainfolder = 'D:\\\\videos\\\\ar32\\\\2020_10_11'\n",
    "text_files = [os.path.join(Mainfolder,f) for f in os.listdir(Mainfolder) if f.endswith('.avi') and not f.endswith('L.avi') and not f.endswith('R.avi') and not f.endswith('videopoints.avi') and not f.endswith('videopoints.avi')]\n",
    "#text_files = [os.path.join(Mainfolder,f) for f in os.listdir(Mainfolder) if f.endswith('R.avi') and not f.endswith('L.avi') and not f.endswith('videopoints.avi') and not f.endswith('videopoints.avi')]\n",
    "#text_files = [os.path.join(Mainfolder,f) for f in os.listdir(Mainfolder) if f.endswith('L.avi') and not f.endswith('R.avi') and not f.endswith('videopoints.avi') and not f.endswith('videopoints.avi')]\n",
    "\n",
    "#text_files = [os.path.join(Mainfolder,f) for f in os.listdir(Mainfolder) if f.endswith('.mp4') and not f.endswith('L.avi') and not f.endswith('R.avi') and not f.endswith('videopoints.avi') and not f.endswith('videopoints.avi')]\n",
    "\n",
    "#path_config_file = 'F:\\\\ar19muscimol500ug500nlrightside\\\\10_10_19\\\\ar19_10102019-Fassihi-2019-11-12\\\\config.yaml';\n",
    "\n",
    "\n",
    "#path_config_file = 'D:\\\\rat_movies_SC\\\\ar19muscimol\\\\10_10_2019\\\\ar19muscimol10-10-19_LR_L-Arash-2020-03-01\\\\config.yaml'\n",
    "##text_files = ['']\n",
    "#text_files = 'E:\\\\movies\\\\ar2breathing\\\\10_08_19\\\\20-18-27.avi'\n",
    "\n",
    "print(text_files)\n",
    "#deeplabcut.analyze_videos(path_config_file,text_files[1:len(text_files)],shuffle=1, save_as_csv=True)\n",
    "#deeplabcut.analyze_videos(path_config_file,text_files[3],shuffle=1, save_as_csv=True)\n",
    "deeplabcut.analyze_videos(path_config_file,text_files,shuffle=1, save_as_csv=True)"
   ]
  },
  {
   "cell_type": "markdown",
   "metadata": {},
   "source": [
    "## Track non tracked files\n"
   ]
  },
  {
   "cell_type": "code",
   "execution_count": null,
   "metadata": {},
   "outputs": [],
   "source": [
    "# Track non tracked files \n",
    "import os\n",
    "path_config_file = 'F:\\\\ar2breathing\\\\10_06_19\\\\ar2_10062019_ii-Fassihi-2019-10-07\\\\config.yaml';\n",
    "\n",
    "Mainfolder = 'Y:\\\\movies_Rat_SC_project\\\\ar2breathing\\\\10_06_19'\n",
    "text_files = [os.path.join(Mainfolder,f) for f in os.listdir(Mainfolder) if f.endswith('.avi') and not f.endswith('L.avi') and not f.endswith('R.avi') and not f.endswith('videopoints.avi') and not f.endswith('breathing.avi')]\n",
    "text_files2 = [os.path.join(Mainfolder,f) for f in os.listdir(Mainfolder) if f.endswith('L.avi') ]\n",
    "#print(text_files)\n",
    "#%whos\n",
    "\n",
    "text_files3 = [f.replace(\"L.\", \".\") for f in text_files2 ]\n",
    "one_not_two = set(text_files) - set(text_files3)\n",
    "one_not_two = 'Y:\\\\movies_Rat_SC_project\\\\ar2breathing\\\\10_06_19\\\\22-25-05.avi'\n",
    "print(one_not_two)\n",
    "deeplabcut.analyze_videos(path_config_file,one_not_two,shuffle=1, save_as_csv=True)"
   ]
  },
  {
   "cell_type": "markdown",
   "metadata": {},
   "source": [
    "# Track Tracklets and then filter for multiple animals (maybe whiskers)"
   ]
  },
  {
   "cell_type": "code",
   "execution_count": null,
   "metadata": {},
   "outputs": [],
   "source": [
    "Mainfolder = 'D:\\\\videos\\\\ar21\\\\2020_07_08\\\\'\n",
    "import os\n",
    "\n",
    "text_files = [os.path.join(Mainfolder,f) for f in os.listdir(Mainfolder) if f.endswith('.avi') and not f.endswith('L.avi') and not f.endswith('R.avi') and not f.endswith('videopoints.avi') and not f.endswith('videopoints.avi')]\n",
    "print(text_files)\n",
    "deeplabcut.convert_detections2tracklets(path_config_file, text_files, videotype='avi',\n",
    "                                                    shuffle=1, trainingsetindex=0, track_method='skeleton')\n"
   ]
  },
  {
   "cell_type": "code",
   "execution_count": null,
   "metadata": {},
   "outputs": [],
   "source": [
    "deeplabcut.refine_tracklets(path_config_file, pickle_or_h5_file, videofile_path, min_swap_len=2, min_tracklet_len=2, trail_len=50)\n"
   ]
  },
  {
   "cell_type": "markdown",
   "metadata": {},
   "source": [
    "# filter the results using median model\n"
   ]
  },
  {
   "cell_type": "code",
   "execution_count": 4,
   "metadata": {},
   "outputs": [
    {
     "name": "stdout",
     "output_type": "stream",
     "text": [
      "Filtering with median model D:\\videos\\ar32\\2020_10_11\\1.avi\n",
      "Saving filtered csv poses!\n",
      "Filtering with median model D:\\videos\\ar32\\2020_10_11\\10.avi\n",
      "Saving filtered csv poses!\n",
      "Filtering with median model D:\\videos\\ar32\\2020_10_11\\100.avi\n",
      "Saving filtered csv poses!\n",
      "Filtering with median model D:\\videos\\ar32\\2020_10_11\\101.avi\n",
      "Saving filtered csv poses!\n",
      "Filtering with median model D:\\videos\\ar32\\2020_10_11\\102.avi\n",
      "Saving filtered csv poses!\n",
      "Filtering with median model D:\\videos\\ar32\\2020_10_11\\103.avi\n",
      "Saving filtered csv poses!\n",
      "Filtering with median model D:\\videos\\ar32\\2020_10_11\\104.avi\n",
      "Saving filtered csv poses!\n",
      "Filtering with median model D:\\videos\\ar32\\2020_10_11\\105.avi\n",
      "Saving filtered csv poses!\n",
      "Filtering with median model D:\\videos\\ar32\\2020_10_11\\106.avi\n",
      "Saving filtered csv poses!\n",
      "Filtering with median model D:\\videos\\ar32\\2020_10_11\\107.avi\n",
      "Saving filtered csv poses!\n",
      "Filtering with median model D:\\videos\\ar32\\2020_10_11\\108.avi\n",
      "Saving filtered csv poses!\n",
      "Filtering with median model D:\\videos\\ar32\\2020_10_11\\109.avi\n",
      "Saving filtered csv poses!\n",
      "Filtering with median model D:\\videos\\ar32\\2020_10_11\\11.avi\n",
      "Saving filtered csv poses!\n",
      "Filtering with median model D:\\videos\\ar32\\2020_10_11\\110.avi\n",
      "Saving filtered csv poses!\n",
      "Filtering with median model D:\\videos\\ar32\\2020_10_11\\111.avi\n",
      "Saving filtered csv poses!\n",
      "Filtering with median model D:\\videos\\ar32\\2020_10_11\\112.avi\n",
      "Saving filtered csv poses!\n",
      "Filtering with median model D:\\videos\\ar32\\2020_10_11\\113.avi\n",
      "Saving filtered csv poses!\n",
      "Filtering with median model D:\\videos\\ar32\\2020_10_11\\114.avi\n",
      "Saving filtered csv poses!\n",
      "Filtering with median model D:\\videos\\ar32\\2020_10_11\\115.avi\n",
      "Saving filtered csv poses!\n",
      "Filtering with median model D:\\videos\\ar32\\2020_10_11\\116.avi\n",
      "Saving filtered csv poses!\n",
      "Filtering with median model D:\\videos\\ar32\\2020_10_11\\117.avi\n",
      "Saving filtered csv poses!\n",
      "Filtering with median model D:\\videos\\ar32\\2020_10_11\\118.avi\n",
      "Saving filtered csv poses!\n",
      "Filtering with median model D:\\videos\\ar32\\2020_10_11\\119.avi\n",
      "Saving filtered csv poses!\n",
      "Filtering with median model D:\\videos\\ar32\\2020_10_11\\12.avi\n",
      "Saving filtered csv poses!\n",
      "Filtering with median model D:\\videos\\ar32\\2020_10_11\\120.avi\n",
      "Saving filtered csv poses!\n",
      "Filtering with median model D:\\videos\\ar32\\2020_10_11\\121.avi\n",
      "Saving filtered csv poses!\n",
      "Filtering with median model D:\\videos\\ar32\\2020_10_11\\122.avi\n",
      "Saving filtered csv poses!\n",
      "Filtering with median model D:\\videos\\ar32\\2020_10_11\\123.avi\n",
      "Saving filtered csv poses!\n",
      "Filtering with median model D:\\videos\\ar32\\2020_10_11\\124.avi\n",
      "Saving filtered csv poses!\n",
      "Filtering with median model D:\\videos\\ar32\\2020_10_11\\125.avi\n",
      "Saving filtered csv poses!\n",
      "Filtering with median model D:\\videos\\ar32\\2020_10_11\\126.avi\n",
      "Saving filtered csv poses!\n",
      "Filtering with median model D:\\videos\\ar32\\2020_10_11\\127.avi\n",
      "Saving filtered csv poses!\n",
      "Filtering with median model D:\\videos\\ar32\\2020_10_11\\128.avi\n",
      "Saving filtered csv poses!\n",
      "Filtering with median model D:\\videos\\ar32\\2020_10_11\\129.avi\n",
      "Saving filtered csv poses!\n",
      "Filtering with median model D:\\videos\\ar32\\2020_10_11\\13.avi\n",
      "Saving filtered csv poses!\n",
      "Filtering with median model D:\\videos\\ar32\\2020_10_11\\130.avi\n",
      "Saving filtered csv poses!\n",
      "Filtering with median model D:\\videos\\ar32\\2020_10_11\\131.avi\n",
      "Saving filtered csv poses!\n",
      "Filtering with median model D:\\videos\\ar32\\2020_10_11\\132.avi\n",
      "Saving filtered csv poses!\n",
      "Filtering with median model D:\\videos\\ar32\\2020_10_11\\133.avi\n",
      "Saving filtered csv poses!\n",
      "Filtering with median model D:\\videos\\ar32\\2020_10_11\\134.avi\n",
      "Saving filtered csv poses!\n",
      "Filtering with median model D:\\videos\\ar32\\2020_10_11\\135.avi\n",
      "Saving filtered csv poses!\n",
      "Filtering with median model D:\\videos\\ar32\\2020_10_11\\136.avi\n",
      "Saving filtered csv poses!\n",
      "Filtering with median model D:\\videos\\ar32\\2020_10_11\\137.avi\n",
      "Saving filtered csv poses!\n",
      "Filtering with median model D:\\videos\\ar32\\2020_10_11\\138.avi\n",
      "Saving filtered csv poses!\n",
      "Filtering with median model D:\\videos\\ar32\\2020_10_11\\139.avi\n",
      "Saving filtered csv poses!\n",
      "Filtering with median model D:\\videos\\ar32\\2020_10_11\\14.avi\n",
      "Saving filtered csv poses!\n",
      "Filtering with median model D:\\videos\\ar32\\2020_10_11\\140.avi\n",
      "Saving filtered csv poses!\n",
      "Filtering with median model D:\\videos\\ar32\\2020_10_11\\141.avi\n",
      "Saving filtered csv poses!\n",
      "Filtering with median model D:\\videos\\ar32\\2020_10_11\\142.avi\n",
      "Saving filtered csv poses!\n",
      "Filtering with median model D:\\videos\\ar32\\2020_10_11\\143.avi\n",
      "Saving filtered csv poses!\n",
      "Filtering with median model D:\\videos\\ar32\\2020_10_11\\144.avi\n",
      "Saving filtered csv poses!\n",
      "Filtering with median model D:\\videos\\ar32\\2020_10_11\\145.avi\n",
      "Saving filtered csv poses!\n",
      "Filtering with median model D:\\videos\\ar32\\2020_10_11\\146.avi\n",
      "Saving filtered csv poses!\n",
      "Filtering with median model D:\\videos\\ar32\\2020_10_11\\147.avi\n",
      "Saving filtered csv poses!\n",
      "Filtering with median model D:\\videos\\ar32\\2020_10_11\\148.avi\n",
      "Saving filtered csv poses!\n",
      "Filtering with median model D:\\videos\\ar32\\2020_10_11\\149.avi\n",
      "Saving filtered csv poses!\n",
      "Filtering with median model D:\\videos\\ar32\\2020_10_11\\15.avi\n",
      "Saving filtered csv poses!\n",
      "Filtering with median model D:\\videos\\ar32\\2020_10_11\\150.avi\n",
      "Saving filtered csv poses!\n",
      "Filtering with median model D:\\videos\\ar32\\2020_10_11\\151.avi\n",
      "Saving filtered csv poses!\n",
      "Filtering with median model D:\\videos\\ar32\\2020_10_11\\152.avi\n",
      "Saving filtered csv poses!\n",
      "Filtering with median model D:\\videos\\ar32\\2020_10_11\\153.avi\n",
      "Saving filtered csv poses!\n",
      "Filtering with median model D:\\videos\\ar32\\2020_10_11\\154.avi\n",
      "Saving filtered csv poses!\n",
      "Filtering with median model D:\\videos\\ar32\\2020_10_11\\155.avi\n",
      "Saving filtered csv poses!\n",
      "Filtering with median model D:\\videos\\ar32\\2020_10_11\\156.avi\n",
      "Saving filtered csv poses!\n",
      "Filtering with median model D:\\videos\\ar32\\2020_10_11\\157.avi\n",
      "Saving filtered csv poses!\n",
      "Filtering with median model D:\\videos\\ar32\\2020_10_11\\158.avi\n",
      "Saving filtered csv poses!\n",
      "Filtering with median model D:\\videos\\ar32\\2020_10_11\\159.avi\n",
      "Saving filtered csv poses!\n",
      "Filtering with median model D:\\videos\\ar32\\2020_10_11\\16.avi\n",
      "Saving filtered csv poses!\n",
      "Filtering with median model D:\\videos\\ar32\\2020_10_11\\17.avi\n",
      "Saving filtered csv poses!\n",
      "Filtering with median model D:\\videos\\ar32\\2020_10_11\\18.avi\n",
      "Saving filtered csv poses!\n",
      "Filtering with median model D:\\videos\\ar32\\2020_10_11\\19.avi\n",
      "Saving filtered csv poses!\n",
      "Filtering with median model D:\\videos\\ar32\\2020_10_11\\2.avi\n",
      "Saving filtered csv poses!\n",
      "Filtering with median model D:\\videos\\ar32\\2020_10_11\\20.avi\n",
      "Saving filtered csv poses!\n",
      "Filtering with median model D:\\videos\\ar32\\2020_10_11\\21.avi\n",
      "Saving filtered csv poses!\n",
      "Filtering with median model D:\\videos\\ar32\\2020_10_11\\22.avi\n",
      "Saving filtered csv poses!\n",
      "Filtering with median model D:\\videos\\ar32\\2020_10_11\\23.avi\n",
      "Saving filtered csv poses!\n",
      "Filtering with median model D:\\videos\\ar32\\2020_10_11\\24.avi\n",
      "Saving filtered csv poses!\n",
      "Filtering with median model D:\\videos\\ar32\\2020_10_11\\25.avi\n",
      "Saving filtered csv poses!\n",
      "Filtering with median model D:\\videos\\ar32\\2020_10_11\\26.avi\n",
      "Saving filtered csv poses!\n",
      "Filtering with median model D:\\videos\\ar32\\2020_10_11\\27.avi\n",
      "No unfiltered data file found in D:\\videos\\ar32\\2020_10_11 for video 27 and scorer DLC_resnet50_ar32_10_09_20Face3Oct10shuffle1_205000.\n",
      "Filtering with median model D:\\videos\\ar32\\2020_10_11\\28.avi\n",
      "No unfiltered data file found in D:\\videos\\ar32\\2020_10_11 for video 28 and scorer DLC_resnet50_ar32_10_09_20Face3Oct10shuffle1_205000.\n",
      "Filtering with median model D:\\videos\\ar32\\2020_10_11\\29.avi\n",
      "No unfiltered data file found in D:\\videos\\ar32\\2020_10_11 for video 29 and scorer DLC_resnet50_ar32_10_09_20Face3Oct10shuffle1_205000.\n",
      "Filtering with median model D:\\videos\\ar32\\2020_10_11\\3.avi\n",
      "No unfiltered data file found in D:\\videos\\ar32\\2020_10_11 for video 3 and scorer DLC_resnet50_ar32_10_09_20Face3Oct10shuffle1_205000.\n",
      "Filtering with median model D:\\videos\\ar32\\2020_10_11\\30.avi\n",
      "No unfiltered data file found in D:\\videos\\ar32\\2020_10_11 for video 30 and scorer DLC_resnet50_ar32_10_09_20Face3Oct10shuffle1_205000.\n",
      "Filtering with median model D:\\videos\\ar32\\2020_10_11\\31.avi\n",
      "No unfiltered data file found in D:\\videos\\ar32\\2020_10_11 for video 31 and scorer DLC_resnet50_ar32_10_09_20Face3Oct10shuffle1_205000.\n",
      "Filtering with median model D:\\videos\\ar32\\2020_10_11\\32.avi\n",
      "No unfiltered data file found in D:\\videos\\ar32\\2020_10_11 for video 32 and scorer DLC_resnet50_ar32_10_09_20Face3Oct10shuffle1_205000.\n",
      "Filtering with median model D:\\videos\\ar32\\2020_10_11\\33.avi\n",
      "No unfiltered data file found in D:\\videos\\ar32\\2020_10_11 for video 33 and scorer DLC_resnet50_ar32_10_09_20Face3Oct10shuffle1_205000.\n",
      "Filtering with median model D:\\videos\\ar32\\2020_10_11\\34.avi\n",
      "No unfiltered data file found in D:\\videos\\ar32\\2020_10_11 for video 34 and scorer DLC_resnet50_ar32_10_09_20Face3Oct10shuffle1_205000.\n",
      "Filtering with median model D:\\videos\\ar32\\2020_10_11\\35.avi\n",
      "No unfiltered data file found in D:\\videos\\ar32\\2020_10_11 for video 35 and scorer DLC_resnet50_ar32_10_09_20Face3Oct10shuffle1_205000.\n",
      "Filtering with median model D:\\videos\\ar32\\2020_10_11\\36.avi\n",
      "No unfiltered data file found in D:\\videos\\ar32\\2020_10_11 for video 36 and scorer DLC_resnet50_ar32_10_09_20Face3Oct10shuffle1_205000.\n",
      "Filtering with median model D:\\videos\\ar32\\2020_10_11\\37.avi\n",
      "No unfiltered data file found in D:\\videos\\ar32\\2020_10_11 for video 37 and scorer DLC_resnet50_ar32_10_09_20Face3Oct10shuffle1_205000.\n",
      "Filtering with median model D:\\videos\\ar32\\2020_10_11\\38.avi\n",
      "No unfiltered data file found in D:\\videos\\ar32\\2020_10_11 for video 38 and scorer DLC_resnet50_ar32_10_09_20Face3Oct10shuffle1_205000.\n",
      "Filtering with median model D:\\videos\\ar32\\2020_10_11\\39.avi\n",
      "No unfiltered data file found in D:\\videos\\ar32\\2020_10_11 for video 39 and scorer DLC_resnet50_ar32_10_09_20Face3Oct10shuffle1_205000.\n",
      "Filtering with median model D:\\videos\\ar32\\2020_10_11\\4.avi\n",
      "No unfiltered data file found in D:\\videos\\ar32\\2020_10_11 for video 4 and scorer DLC_resnet50_ar32_10_09_20Face3Oct10shuffle1_205000.\n",
      "Filtering with median model D:\\videos\\ar32\\2020_10_11\\40.avi\n",
      "No unfiltered data file found in D:\\videos\\ar32\\2020_10_11 for video 40 and scorer DLC_resnet50_ar32_10_09_20Face3Oct10shuffle1_205000.\n",
      "Filtering with median model D:\\videos\\ar32\\2020_10_11\\41.avi\n",
      "No unfiltered data file found in D:\\videos\\ar32\\2020_10_11 for video 41 and scorer DLC_resnet50_ar32_10_09_20Face3Oct10shuffle1_205000.\n",
      "Filtering with median model D:\\videos\\ar32\\2020_10_11\\42.avi\n",
      "No unfiltered data file found in D:\\videos\\ar32\\2020_10_11 for video 42 and scorer DLC_resnet50_ar32_10_09_20Face3Oct10shuffle1_205000.\n",
      "Filtering with median model D:\\videos\\ar32\\2020_10_11\\43.avi\n",
      "No unfiltered data file found in D:\\videos\\ar32\\2020_10_11 for video 43 and scorer DLC_resnet50_ar32_10_09_20Face3Oct10shuffle1_205000.\n",
      "Filtering with median model D:\\videos\\ar32\\2020_10_11\\44.avi\n",
      "No unfiltered data file found in D:\\videos\\ar32\\2020_10_11 for video 44 and scorer DLC_resnet50_ar32_10_09_20Face3Oct10shuffle1_205000.\n",
      "Filtering with median model D:\\videos\\ar32\\2020_10_11\\45.avi\n",
      "No unfiltered data file found in D:\\videos\\ar32\\2020_10_11 for video 45 and scorer DLC_resnet50_ar32_10_09_20Face3Oct10shuffle1_205000.\n",
      "Filtering with median model D:\\videos\\ar32\\2020_10_11\\46.avi\n",
      "No unfiltered data file found in D:\\videos\\ar32\\2020_10_11 for video 46 and scorer DLC_resnet50_ar32_10_09_20Face3Oct10shuffle1_205000.\n",
      "Filtering with median model D:\\videos\\ar32\\2020_10_11\\47.avi\n",
      "No unfiltered data file found in D:\\videos\\ar32\\2020_10_11 for video 47 and scorer DLC_resnet50_ar32_10_09_20Face3Oct10shuffle1_205000.\n",
      "Filtering with median model D:\\videos\\ar32\\2020_10_11\\48.avi\n",
      "No unfiltered data file found in D:\\videos\\ar32\\2020_10_11 for video 48 and scorer DLC_resnet50_ar32_10_09_20Face3Oct10shuffle1_205000.\n",
      "Filtering with median model D:\\videos\\ar32\\2020_10_11\\49.avi\n",
      "No unfiltered data file found in D:\\videos\\ar32\\2020_10_11 for video 49 and scorer DLC_resnet50_ar32_10_09_20Face3Oct10shuffle1_205000.\n",
      "Filtering with median model D:\\videos\\ar32\\2020_10_11\\5.avi\n",
      "No unfiltered data file found in D:\\videos\\ar32\\2020_10_11 for video 5 and scorer DLC_resnet50_ar32_10_09_20Face3Oct10shuffle1_205000.\n",
      "Filtering with median model D:\\videos\\ar32\\2020_10_11\\50.avi\n",
      "No unfiltered data file found in D:\\videos\\ar32\\2020_10_11 for video 50 and scorer DLC_resnet50_ar32_10_09_20Face3Oct10shuffle1_205000.\n",
      "Filtering with median model D:\\videos\\ar32\\2020_10_11\\51.avi\n",
      "No unfiltered data file found in D:\\videos\\ar32\\2020_10_11 for video 51 and scorer DLC_resnet50_ar32_10_09_20Face3Oct10shuffle1_205000.\n",
      "Filtering with median model D:\\videos\\ar32\\2020_10_11\\52.avi\n",
      "No unfiltered data file found in D:\\videos\\ar32\\2020_10_11 for video 52 and scorer DLC_resnet50_ar32_10_09_20Face3Oct10shuffle1_205000.\n",
      "Filtering with median model D:\\videos\\ar32\\2020_10_11\\53.avi\n",
      "No unfiltered data file found in D:\\videos\\ar32\\2020_10_11 for video 53 and scorer DLC_resnet50_ar32_10_09_20Face3Oct10shuffle1_205000.\n",
      "Filtering with median model D:\\videos\\ar32\\2020_10_11\\54.avi\n",
      "No unfiltered data file found in D:\\videos\\ar32\\2020_10_11 for video 54 and scorer DLC_resnet50_ar32_10_09_20Face3Oct10shuffle1_205000.\n",
      "Filtering with median model D:\\videos\\ar32\\2020_10_11\\55.avi\n",
      "No unfiltered data file found in D:\\videos\\ar32\\2020_10_11 for video 55 and scorer DLC_resnet50_ar32_10_09_20Face3Oct10shuffle1_205000.\n",
      "Filtering with median model D:\\videos\\ar32\\2020_10_11\\56.avi\n",
      "No unfiltered data file found in D:\\videos\\ar32\\2020_10_11 for video 56 and scorer DLC_resnet50_ar32_10_09_20Face3Oct10shuffle1_205000.\n",
      "Filtering with median model D:\\videos\\ar32\\2020_10_11\\57.avi\n",
      "No unfiltered data file found in D:\\videos\\ar32\\2020_10_11 for video 57 and scorer DLC_resnet50_ar32_10_09_20Face3Oct10shuffle1_205000.\n",
      "Filtering with median model D:\\videos\\ar32\\2020_10_11\\58.avi\n",
      "No unfiltered data file found in D:\\videos\\ar32\\2020_10_11 for video 58 and scorer DLC_resnet50_ar32_10_09_20Face3Oct10shuffle1_205000.\n",
      "Filtering with median model D:\\videos\\ar32\\2020_10_11\\59.avi\n",
      "No unfiltered data file found in D:\\videos\\ar32\\2020_10_11 for video 59 and scorer DLC_resnet50_ar32_10_09_20Face3Oct10shuffle1_205000.\n",
      "Filtering with median model D:\\videos\\ar32\\2020_10_11\\6.avi\n",
      "No unfiltered data file found in D:\\videos\\ar32\\2020_10_11 for video 6 and scorer DLC_resnet50_ar32_10_09_20Face3Oct10shuffle1_205000.\n",
      "Filtering with median model D:\\videos\\ar32\\2020_10_11\\60.avi\n",
      "No unfiltered data file found in D:\\videos\\ar32\\2020_10_11 for video 60 and scorer DLC_resnet50_ar32_10_09_20Face3Oct10shuffle1_205000.\n",
      "Filtering with median model D:\\videos\\ar32\\2020_10_11\\61.avi\n",
      "No unfiltered data file found in D:\\videos\\ar32\\2020_10_11 for video 61 and scorer DLC_resnet50_ar32_10_09_20Face3Oct10shuffle1_205000.\n",
      "Filtering with median model D:\\videos\\ar32\\2020_10_11\\62.avi\n",
      "No unfiltered data file found in D:\\videos\\ar32\\2020_10_11 for video 62 and scorer DLC_resnet50_ar32_10_09_20Face3Oct10shuffle1_205000.\n",
      "Filtering with median model D:\\videos\\ar32\\2020_10_11\\63.avi\n",
      "No unfiltered data file found in D:\\videos\\ar32\\2020_10_11 for video 63 and scorer DLC_resnet50_ar32_10_09_20Face3Oct10shuffle1_205000.\n",
      "Filtering with median model D:\\videos\\ar32\\2020_10_11\\64.avi\n",
      "No unfiltered data file found in D:\\videos\\ar32\\2020_10_11 for video 64 and scorer DLC_resnet50_ar32_10_09_20Face3Oct10shuffle1_205000.\n",
      "Filtering with median model D:\\videos\\ar32\\2020_10_11\\65.avi\n",
      "No unfiltered data file found in D:\\videos\\ar32\\2020_10_11 for video 65 and scorer DLC_resnet50_ar32_10_09_20Face3Oct10shuffle1_205000.\n",
      "Filtering with median model D:\\videos\\ar32\\2020_10_11\\66.avi\n",
      "No unfiltered data file found in D:\\videos\\ar32\\2020_10_11 for video 66 and scorer DLC_resnet50_ar32_10_09_20Face3Oct10shuffle1_205000.\n",
      "Filtering with median model D:\\videos\\ar32\\2020_10_11\\67.avi\n",
      "No unfiltered data file found in D:\\videos\\ar32\\2020_10_11 for video 67 and scorer DLC_resnet50_ar32_10_09_20Face3Oct10shuffle1_205000.\n",
      "Filtering with median model D:\\videos\\ar32\\2020_10_11\\68.avi\n",
      "No unfiltered data file found in D:\\videos\\ar32\\2020_10_11 for video 68 and scorer DLC_resnet50_ar32_10_09_20Face3Oct10shuffle1_205000.\n",
      "Filtering with median model D:\\videos\\ar32\\2020_10_11\\69.avi\n",
      "No unfiltered data file found in D:\\videos\\ar32\\2020_10_11 for video 69 and scorer DLC_resnet50_ar32_10_09_20Face3Oct10shuffle1_205000.\n",
      "Filtering with median model D:\\videos\\ar32\\2020_10_11\\7.avi\n"
     ]
    },
    {
     "name": "stdout",
     "output_type": "stream",
     "text": [
      "No unfiltered data file found in D:\\videos\\ar32\\2020_10_11 for video 7 and scorer DLC_resnet50_ar32_10_09_20Face3Oct10shuffle1_205000.\n",
      "Filtering with median model D:\\videos\\ar32\\2020_10_11\\70.avi\n",
      "No unfiltered data file found in D:\\videos\\ar32\\2020_10_11 for video 70 and scorer DLC_resnet50_ar32_10_09_20Face3Oct10shuffle1_205000.\n",
      "Filtering with median model D:\\videos\\ar32\\2020_10_11\\71.avi\n",
      "No unfiltered data file found in D:\\videos\\ar32\\2020_10_11 for video 71 and scorer DLC_resnet50_ar32_10_09_20Face3Oct10shuffle1_205000.\n",
      "Filtering with median model D:\\videos\\ar32\\2020_10_11\\72.avi\n",
      "No unfiltered data file found in D:\\videos\\ar32\\2020_10_11 for video 72 and scorer DLC_resnet50_ar32_10_09_20Face3Oct10shuffle1_205000.\n",
      "Filtering with median model D:\\videos\\ar32\\2020_10_11\\73.avi\n",
      "No unfiltered data file found in D:\\videos\\ar32\\2020_10_11 for video 73 and scorer DLC_resnet50_ar32_10_09_20Face3Oct10shuffle1_205000.\n",
      "Filtering with median model D:\\videos\\ar32\\2020_10_11\\74.avi\n",
      "No unfiltered data file found in D:\\videos\\ar32\\2020_10_11 for video 74 and scorer DLC_resnet50_ar32_10_09_20Face3Oct10shuffle1_205000.\n",
      "Filtering with median model D:\\videos\\ar32\\2020_10_11\\75.avi\n",
      "No unfiltered data file found in D:\\videos\\ar32\\2020_10_11 for video 75 and scorer DLC_resnet50_ar32_10_09_20Face3Oct10shuffle1_205000.\n",
      "Filtering with median model D:\\videos\\ar32\\2020_10_11\\76.avi\n",
      "No unfiltered data file found in D:\\videos\\ar32\\2020_10_11 for video 76 and scorer DLC_resnet50_ar32_10_09_20Face3Oct10shuffle1_205000.\n",
      "Filtering with median model D:\\videos\\ar32\\2020_10_11\\77.avi\n",
      "No unfiltered data file found in D:\\videos\\ar32\\2020_10_11 for video 77 and scorer DLC_resnet50_ar32_10_09_20Face3Oct10shuffle1_205000.\n",
      "Filtering with median model D:\\videos\\ar32\\2020_10_11\\78.avi\n",
      "No unfiltered data file found in D:\\videos\\ar32\\2020_10_11 for video 78 and scorer DLC_resnet50_ar32_10_09_20Face3Oct10shuffle1_205000.\n",
      "Filtering with median model D:\\videos\\ar32\\2020_10_11\\79.avi\n",
      "No unfiltered data file found in D:\\videos\\ar32\\2020_10_11 for video 79 and scorer DLC_resnet50_ar32_10_09_20Face3Oct10shuffle1_205000.\n",
      "Filtering with median model D:\\videos\\ar32\\2020_10_11\\8.avi\n",
      "No unfiltered data file found in D:\\videos\\ar32\\2020_10_11 for video 8 and scorer DLC_resnet50_ar32_10_09_20Face3Oct10shuffle1_205000.\n",
      "Filtering with median model D:\\videos\\ar32\\2020_10_11\\80.avi\n",
      "No unfiltered data file found in D:\\videos\\ar32\\2020_10_11 for video 80 and scorer DLC_resnet50_ar32_10_09_20Face3Oct10shuffle1_205000.\n",
      "Filtering with median model D:\\videos\\ar32\\2020_10_11\\81.avi\n",
      "No unfiltered data file found in D:\\videos\\ar32\\2020_10_11 for video 81 and scorer DLC_resnet50_ar32_10_09_20Face3Oct10shuffle1_205000.\n",
      "Filtering with median model D:\\videos\\ar32\\2020_10_11\\82.avi\n",
      "No unfiltered data file found in D:\\videos\\ar32\\2020_10_11 for video 82 and scorer DLC_resnet50_ar32_10_09_20Face3Oct10shuffle1_205000.\n",
      "Filtering with median model D:\\videos\\ar32\\2020_10_11\\83.avi\n",
      "No unfiltered data file found in D:\\videos\\ar32\\2020_10_11 for video 83 and scorer DLC_resnet50_ar32_10_09_20Face3Oct10shuffle1_205000.\n",
      "Filtering with median model D:\\videos\\ar32\\2020_10_11\\84.avi\n",
      "No unfiltered data file found in D:\\videos\\ar32\\2020_10_11 for video 84 and scorer DLC_resnet50_ar32_10_09_20Face3Oct10shuffle1_205000.\n",
      "Filtering with median model D:\\videos\\ar32\\2020_10_11\\85.avi\n",
      "No unfiltered data file found in D:\\videos\\ar32\\2020_10_11 for video 85 and scorer DLC_resnet50_ar32_10_09_20Face3Oct10shuffle1_205000.\n",
      "Filtering with median model D:\\videos\\ar32\\2020_10_11\\86.avi\n",
      "No unfiltered data file found in D:\\videos\\ar32\\2020_10_11 for video 86 and scorer DLC_resnet50_ar32_10_09_20Face3Oct10shuffle1_205000.\n",
      "Filtering with median model D:\\videos\\ar32\\2020_10_11\\87.avi\n",
      "No unfiltered data file found in D:\\videos\\ar32\\2020_10_11 for video 87 and scorer DLC_resnet50_ar32_10_09_20Face3Oct10shuffle1_205000.\n",
      "Filtering with median model D:\\videos\\ar32\\2020_10_11\\88.avi\n",
      "No unfiltered data file found in D:\\videos\\ar32\\2020_10_11 for video 88 and scorer DLC_resnet50_ar32_10_09_20Face3Oct10shuffle1_205000.\n",
      "Filtering with median model D:\\videos\\ar32\\2020_10_11\\89.avi\n",
      "No unfiltered data file found in D:\\videos\\ar32\\2020_10_11 for video 89 and scorer DLC_resnet50_ar32_10_09_20Face3Oct10shuffle1_205000.\n",
      "Filtering with median model D:\\videos\\ar32\\2020_10_11\\9.avi\n",
      "No unfiltered data file found in D:\\videos\\ar32\\2020_10_11 for video 9 and scorer DLC_resnet50_ar32_10_09_20Face3Oct10shuffle1_205000.\n",
      "Filtering with median model D:\\videos\\ar32\\2020_10_11\\90.avi\n",
      "No unfiltered data file found in D:\\videos\\ar32\\2020_10_11 for video 90 and scorer DLC_resnet50_ar32_10_09_20Face3Oct10shuffle1_205000.\n",
      "Filtering with median model D:\\videos\\ar32\\2020_10_11\\91.avi\n",
      "No unfiltered data file found in D:\\videos\\ar32\\2020_10_11 for video 91 and scorer DLC_resnet50_ar32_10_09_20Face3Oct10shuffle1_205000.\n",
      "Filtering with median model D:\\videos\\ar32\\2020_10_11\\92.avi\n",
      "No unfiltered data file found in D:\\videos\\ar32\\2020_10_11 for video 92 and scorer DLC_resnet50_ar32_10_09_20Face3Oct10shuffle1_205000.\n",
      "Filtering with median model D:\\videos\\ar32\\2020_10_11\\93.avi\n",
      "No unfiltered data file found in D:\\videos\\ar32\\2020_10_11 for video 93 and scorer DLC_resnet50_ar32_10_09_20Face3Oct10shuffle1_205000.\n",
      "Filtering with median model D:\\videos\\ar32\\2020_10_11\\94.avi\n",
      "No unfiltered data file found in D:\\videos\\ar32\\2020_10_11 for video 94 and scorer DLC_resnet50_ar32_10_09_20Face3Oct10shuffle1_205000.\n",
      "Filtering with median model D:\\videos\\ar32\\2020_10_11\\95.avi\n",
      "No unfiltered data file found in D:\\videos\\ar32\\2020_10_11 for video 95 and scorer DLC_resnet50_ar32_10_09_20Face3Oct10shuffle1_205000.\n",
      "Filtering with median model D:\\videos\\ar32\\2020_10_11\\96.avi\n",
      "No unfiltered data file found in D:\\videos\\ar32\\2020_10_11 for video 96 and scorer DLC_resnet50_ar32_10_09_20Face3Oct10shuffle1_205000.\n",
      "Filtering with median model D:\\videos\\ar32\\2020_10_11\\97.avi\n",
      "No unfiltered data file found in D:\\videos\\ar32\\2020_10_11 for video 97 and scorer DLC_resnet50_ar32_10_09_20Face3Oct10shuffle1_205000.\n",
      "Filtering with median model D:\\videos\\ar32\\2020_10_11\\98.avi\n",
      "No unfiltered data file found in D:\\videos\\ar32\\2020_10_11 for video 98 and scorer DLC_resnet50_ar32_10_09_20Face3Oct10shuffle1_205000.\n",
      "Filtering with median model D:\\videos\\ar32\\2020_10_11\\99.avi\n",
      "No unfiltered data file found in D:\\videos\\ar32\\2020_10_11 for video 99 and scorer DLC_resnet50_ar32_10_09_20Face3Oct10shuffle1_205000.\n"
     ]
    }
   ],
   "source": [
    "deeplabcut.filterpredictions(path_config_file,text_files)\n"
   ]
  },
  {
   "cell_type": "markdown",
   "metadata": {},
   "source": [
    "# plot trajectories"
   ]
  },
  {
   "cell_type": "code",
   "execution_count": null,
   "metadata": {},
   "outputs": [],
   "source": [
    "deeplabcut.plot_trajectories(path_config_file,text_files,filtered = True)\n"
   ]
  },
  {
   "cell_type": "markdown",
   "metadata": {
    "colab_type": "text",
    "id": "pCrUvQIvoEKD"
   },
   "source": [
    "## Create labeled video\n",
    "This funtion is for visualiztion purpose and can be used to create a video in .mp4 format with labels predicted by the network. This video is saved in the same directory where the original video resides. "
   ]
  },
  {
   "cell_type": "code",
   "execution_count": null,
   "metadata": {
    "colab": {},
    "colab_type": "code",
    "id": "6aDF7Q7KoEKE",
    "scrolled": true
   },
   "outputs": [],
   "source": [
    "# first we create a vector of destination file names\n",
    "import os \n",
    "\n",
    "dirname = os.path.dirname(text_files[1]) \n",
    "\n",
    "thesenames= [os.path.basename(f)  for f in text_files] \n",
    "text_files2 = [os.path.join( os.path.join(os.path.dirname(text_files[1]),'labled'),f) for f in thesenames ]  \n",
    "\n",
    "#os.mkdir\n",
    "if not (os.path.isdir(os.path.join(os.path.dirname(text_files[1]),'labled'))):\n",
    " os.mkdir(os.path.join(os.path.dirname(text_files[1]),'labled'))\n",
    "# Print the directory name   \n",
    "print(text_files2[1]) \n",
    "for f in text_files:\n",
    "\n",
    "#deeplabcut.create_labeled_video(path_config_file,videofile,save_frames=True) # my_new_list was created in prevouse cell as all videos in the folder \n",
    "#deeplabcut.create_labeled_video(path_config_file,[text_files[0],text_files2[0]],save_frames=True)\n",
    " deeplabcut.create_labeled_video(path_config_file,f,save_frames=False)"
   ]
  },
  {
   "cell_type": "markdown",
   "metadata": {
    "colab_type": "text",
    "id": "iGu_PdTWoEJr"
   },
   "source": [
    "## Extract outlier frames [This is important step actually]\n",
    "This is an optional step and is used only when the evaluation results are poor i.e. the labels are incorrectly predicted. In such a case, the user can use the following function to extract frames where the labels are incorrectly predicted. Make sure to provide the correct value of the \"iterations\" as it will be used to create the unique directory where the extracted frames will be saved."
   ]
  },
  {
   "cell_type": "code",
   "execution_count": null,
   "metadata": {},
   "outputs": [],
   "source": [
    "#video=['D:\\\\rat_movies_SC\\\\ar17record\\\\02_27_19\\\\analyzed\\\\18-37-27.avi']\n",
    "#video=['D:\\\\rat_movies_SC\\\\ar15record\\\\02_27_19\\\\17-33-50video.mp4']\n",
    "#video=['D:\\\\Dropbox\\\\ar17\\\\02_25_19\\\\22-37-23.avi']\n",
    "video = ['D:\\\\movies_Rat_SC_project\\\\ar1\\\\05_24_19\\\\11-09-14.avi']\n",
    "video = ['D:\\\\movies_Rat_SC_project\\\\ar20\\\\06_20_19\\\\17-19-45.avi','D:\\\\movies_Rat_SC_project\\\\ar20\\\\06_20_19\\\\17-31-05.avi','D:\\\\movies_Rat_SC_project\\\\ar20\\\\06_20_19\\\\17-30-40.avi']\n",
    "#15-17-08v\n",
    "video = ['D:\\\\rat_movies_SC\\\\ar19tear19salin\\\\10_08_19\\\\00-27-18.avi','D:\\\\rat_movies_SC\\\\ar19tear19salin\\\\10_08_19\\\\00-24-47.avi']\n",
    "video = ['D:\\\\rat_movies_SC\\\\ar19tear19salin\\\\10_08_19\\\\00-24-26video.mp4']\n",
    "video = ['E:\\\\movies\\\\ar2breathing\\\\10_06_19\\\\21-57-55L.avi']\n",
    "video = text_files[0]\n",
    "\n",
    "#path_config_file = 'D:\\\\rat_movies_SC\\\\ar19muscimol\\\\10_10_2019\\\\ar19muscimol10-10-19_LR_L-Arash-2020-03-01\\\\config.yaml';\n",
    "\n",
    "#path_config_file = 'D:\\\\rat_movies_SC\\\\ar17record\\\\02_27_19\\\\sc_ar17record_02272019_3-Fassihi-2019-04-28\\\\config.yaml'\n",
    "#path_config_file = 'D:\\\\rat_movies_SC\\\\ar15record\\\\02_27_19\\\\sc_ar15record_02272019-Fassihi-2019-03-12\\\\config.yaml'\n",
    "#path_config_file = 'D:\\\\movies_Rat_SC_project\\\\ar1\\\\05_24_19\\\\sc_aa1_05242019-Fassihi-2019-05-30\\\\config.yaml' #Enter the path of the config file that was just created from the above step (check the folder)\n",
    "#path_config_file = 'D:\\\\movies_Rat_SC_project\\\\ar3\\\\06_07_19\\\\sc_aa3_06072019-Fassihi-2019-06-10\\\\config.yaml' #Enter the path of the config file that was just created from the above step (check the folder)\n",
    "#path_config_file = 'D:\\\\movies_Rat_SC_project\\\\ar14\\\\06_18_19\\\\sc_ar14_06182019-Fassihi-2019-06-19\\\\config.yaml' #Enter the path of the config file that was just created from the above step (check the folder)\n",
    "print(path_config_file)\n",
    "\n",
    "#deeplabcut.extract_outlier_frames(path_config_file,video,outlieralgorithm='uncertain',p_bound=.6)\n",
    "#deeplabcut.extract_outlier_frames(path_config_file,video,outlieralgorithm='uncertain',comparisonbodyparts =  ['nose','snout'],p_bound=.6)\n",
    "deeplabcut.extract_outlier_frames(path_config_file,video,outlieralgorithm='uncertain',p_bound=.9)\n",
    "\n"
   ]
  },
  {
   "cell_type": "code",
   "execution_count": null,
   "metadata": {},
   "outputs": [],
   "source": [
    "print(video[2])\n"
   ]
  },
  {
   "cell_type": "code",
   "execution_count": null,
   "metadata": {
    "colab": {},
    "colab_type": "code",
    "id": "gkbaBOJVoEJs"
   },
   "outputs": [],
   "source": [
    "\n",
    "path_config_file = 'D:\\\\rat_movies_SC\\\\ar19\\\\02_07_19\\\\sc_ar19_02072019-Fassihi4-2019-02-13\\\\config.yaml' #Enter the path of the config file that was just created from the above step (check the folder)\n",
    "\n",
    "import os\n",
    "Mainfolder = 'D:\\\\rat_movies_SC\\\\ar19\\\\02_07_19'\n",
    "\n",
    "\n",
    "f = os.listdir(Mainfolder)\n",
    "text_files = [f for f in os.listdir(Mainfolder) if f.endswith('.avi')]\n",
    "\n",
    "\n",
    "my_list = text_files\n",
    "thisApen = Mainfolder+'kir'\n",
    "thisApen = thisApen.replace(\"kir\", \"\\\\\")\n",
    "string = thisApen\n",
    "my_new_list = [ string + x for x in my_list]\n",
    "\n",
    "deeplabcut.extract_outlier_frames(path_config_file,my_new_list)"
   ]
  },
  {
   "cell_type": "markdown",
   "metadata": {
    "colab_type": "text",
    "id": "8ib0uvhaoEJx"
   },
   "source": [
    "## Refine Labels [optional step]\n",
    "Following the extraction of outlier frames, the user can use the following function to move the predicted labels to the correct location. Thus augmenting the training dataset."
   ]
  },
  {
   "cell_type": "code",
   "execution_count": null,
   "metadata": {
    "colab": {},
    "colab_type": "code",
    "id": "n_FpEXtyoEJy"
   },
   "outputs": [],
   "source": [
    "#path_config_file = 'D:\\\\movies_Rat_SC_project\\\\ar1\\\\05_24_19\\\\sc_aa1_05242019-Fassihi-2019-05-30\\\\config.yaml' #Enter the path of the config file that was just created from the above step (check the folder)\n",
    "#path_config_file = 'D:\\\\movies_Rat_SC_project\\\\ar3\\\\06_07_19\\\\sc_aa3_06072019-Fassihi-2019-06-10\\\\config.yaml' #Enter the path of the config file that was just created from the above step (check the folder)\n",
    "\n",
    "#import matplotlib\n",
    "#print(matplotlib.__version__)\n",
    "%gui wx\n",
    "#path_config_file = 'D:\\\\rat_movies_SC\\\\ar15record\\\\02_27_19\\\\sc_ar15record_02272019-Fassihi-2019-03-12\\\\config.yaml'\n",
    "#print(path_config_file)\n",
    "deeplabcut.refine_labels(path_config_file)"
   ]
  },
  {
   "cell_type": "code",
   "execution_count": null,
   "metadata": {
    "colab": {},
    "colab_type": "code",
    "id": "CHzstWr8oEJ2"
   },
   "outputs": [],
   "source": [
    "#Once all folders are relabeled, check them and advance. See how to check labels, above!\n",
    "#path_config_file = 'D:\\\\movies_Rat_SC_project\\\\ar1\\\\05_24_19\\\\sc_aa1_05242019-Fassihi-2019-05-30\\\\config.yaml' #Enter the path of the config file that was just created from the above step (check the folder)\n",
    "#path_config_file = 'D:\\\\movies_Rat_SC_project\\\\ar3\\\\06_07_19\\\\sc_aa3_06072019-Fassihi-2019-06-10\\\\config.yaml' #Enter the path of the config file that was just created from the above step (check the folder)\n",
    "\n",
    "deeplabcut.merge_datasets(path_config_file)"
   ]
  },
  {
   "cell_type": "markdown",
   "metadata": {
    "colab_type": "text",
    "id": "QCHj7qyboEJ6"
   },
   "source": [
    "## Create a new iteration of training dataset [optional step]\n",
    "Following the refine labels, append these frames to the original dataset to create a new iteration of training dataset."
   ]
  },
  {
   "cell_type": "code",
   "execution_count": null,
   "metadata": {
    "colab": {},
    "colab_type": "code",
    "id": "ytQoxIldoEJ7",
    "scrolled": true
   },
   "outputs": [],
   "source": [
    "list_of_ints = list(range(2))\n",
    "print(list_of_ints)\n",
    "deeplabcut.create_training_dataset(path_config_file,Shuffles= list_of_ints) ;"
   ]
  },
  {
   "cell_type": "markdown",
   "metadata": {
    "colab_type": "text",
    "id": "8GTiuJESoEKH"
   },
   "source": [
    "## Plot the trajectories of the analyzed videos (optional)\n",
    "This function plots the trajectories of all the body parts across the entire video. Each body part is identified by a unique color."
   ]
  },
  {
   "cell_type": "code",
   "execution_count": null,
   "metadata": {
    "colab": {},
    "colab_type": "code",
    "id": "gX21zZbXoEKJ"
   },
   "outputs": [],
   "source": [
    "%matplotlib notebook #for making interactive plots.\n",
    "deeplabcut.plot_trajectories(path_config_file,my_new_list)\n",
    "\n"
   ]
  }
 ],
 "metadata": {
  "accelerator": "GPU",
  "colab": {
   "name": "Demo-yourowndata.ipynb",
   "provenance": [],
   "version": "0.3.2"
  },
  "kernelspec": {
   "display_name": "Python 3",
   "language": "python",
   "name": "python3"
  },
  "language_info": {
   "codemirror_mode": {
    "name": "ipython",
    "version": 3
   },
   "file_extension": ".py",
   "mimetype": "text/x-python",
   "name": "python",
   "nbconvert_exporter": "python",
   "pygments_lexer": "ipython3",
   "version": "3.6.9"
  },
  "varInspector": {
   "cols": {
    "lenName": 16,
    "lenType": 16,
    "lenVar": 40
   },
   "kernels_config": {
    "python": {
     "delete_cmd_postfix": "",
     "delete_cmd_prefix": "del ",
     "library": "var_list.py",
     "varRefreshCmd": "print(var_dic_list())"
    },
    "r": {
     "delete_cmd_postfix": ") ",
     "delete_cmd_prefix": "rm(",
     "library": "var_list.r",
     "varRefreshCmd": "cat(var_dic_list()) "
    }
   },
   "types_to_exclude": [
    "module",
    "function",
    "builtin_function_or_method",
    "instance",
    "_Feature"
   ],
   "window_display": false
  }
 },
 "nbformat": 4,
 "nbformat_minor": 1
}
