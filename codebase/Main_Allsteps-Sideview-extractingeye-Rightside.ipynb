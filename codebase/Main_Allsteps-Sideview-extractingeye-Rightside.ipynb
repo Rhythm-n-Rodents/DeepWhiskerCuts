{
 "cells": [
  {
   "cell_type": "markdown",
   "metadata": {},
   "source": [
    "## first step is to make movies and lighttime out of single images "
   ]
  },
  {
   "cell_type": "code",
   "execution_count": null,
   "metadata": {},
   "outputs": [],
   "source": [
    "# enter the folder name \n",
    "Mainfolder = 'C:\\\\videos\\\\ar30motor\\\\2021_07_09';\n",
    "#C:\\videos\\ar32motor\\2021_06_11#Mainfolder = 'C:\\\\videos\\\\ar32motor\\\\2021_04_25';\n",
    "\n",
    "Mainfolder = 'D:\\\\Sidevideos\\\\ar30motor\\\\2021_07_09'\n",
    "Mainfolder = 'D:\\\\Sidevideos\\\\ar34secondday\\\\2021_07_15'\n",
    "Mainfolder = 'D:\\\\Sidevideos\\\\AR34MOTOR\\\\2022_01_27'\n",
    "#Mainfolder =  'D:\\\\Sidevideos\\\\ar34Lightduration\\\\2021_08_03'\n",
    "import main\n",
    "\n"
   ]
  },
  {
   "cell_type": "code",
   "execution_count": null,
   "metadata": {
    "scrolled": true
   },
   "outputs": [],
   "source": [
    "#main.make_movie_only(Mainfolder)\n",
    "main.makemovieandLightfile(Mainfolder)\n",
    "main.save_trial_n(Mainfolder)"
   ]
  },
  {
   "cell_type": "code",
   "execution_count": null,
   "metadata": {},
   "outputs": [],
   "source": [
    "import deeplabcut\n",
    "## https://github.com/AlexEMG/DeepLabCut"
   ]
  },
  {
   "cell_type": "code",
   "execution_count": null,
   "metadata": {},
   "outputs": [],
   "source": [
    "path_config_file = 'D:\\\\Sidevideos\\\\DLC\\\\Sideview4-Arash-2021-07-18\\\\config.yaml';\n",
    "#Mainfolder = 'D:\\\\videos\\\\ar32\\\\2020_12_18';\n",
    "path_config_file ='C:\\\\Users\\\\dklab\\\\Dropbox\\\\Notebook\\\\DLC\\\\Sideview_Aug-Arash-2021-08-04\\\\config.yaml';\n",
    "#Mainfolder = 'D:\\\\videos\\\\ar32\\\\2020_12_18';\n",
    "import os\n",
    "text_files = [os.path.join(Mainfolder,f) for f in os.listdir(Mainfolder) if f.endswith('.avi') and not f.endswith('L.avi') and not f.endswith('R.avi') and not f.endswith('videopoints.avi') and not f.endswith('videopoints.avi')]\n",
    "print(text_files[1])\n",
    "#text_files='C:\\\\videos\\\\ar30motor\\\\2021_04_25\\\\9.avi'\n",
    "temp1=deeplabcut.analyze_videos(path_config_file,text_files,shuffle=1, save_as_csv=True )\n",
    "temp=deeplabcut.filterpredictions(path_config_file,text_files)"
   ]
  },
  {
   "cell_type": "code",
   "execution_count": 1,
   "metadata": {},
   "outputs": [],
   "source": [
    "Mainfolder = 'D:\\\\Sidevideos\\\\ar34motor\\\\2021_12_16'\n",
    "Mainfolder = 'D:\\\\Sidevideos\\\\AR34MOTOR\\\\2022_01_27'\n",
    "import image_util\n",
    "#Mainfolder = 'F:\\\\ar34motor\\\\sideright\\\\2021_12_16'\n",
    "trial=26\n",
    "Tag ='Sideview'\n",
    "from PIL import Image ,ImageEnhance\n",
    "from scipy import ndimage\n",
    "import numpy as np\n",
    "import cv2 # this is important and is reading and writing images and video\n",
    "import image_util\n",
    "import os\n",
    "from pathlib import Path\n",
    "import datetime\n",
    "import math\n",
    "import image_util\n",
    "# this function read dlc \n",
    "#def readDLCfiles(Mainfolder,Tag,trial):\n",
    "#11185DLC_resnet50_Topview3435Jul28shuffle1_110000_filtered\n",
    "import csv\n",
    "import os\n",
    "import pandas as pd\n",
    "from scipy.spatial.distance import pdist\n",
    "import math\n",
    "import matplotlib.pyplot as plt\n",
    "\n",
    "Xfiles = [os.path.join(Mainfolder,f) for f in os.listdir(Mainfolder) if f.endswith('filtered.csv') and Tag in f] \n",
    "# csv file name\n",
    "#for num in range(0,len(Xfiles)): \n",
    "for num in range(0,1): \n",
    "    filename = Xfiles[num] # select the trial\n",
    "    df = pd.read_csv(filename, header=2 ,usecols=['x','y','likelihood','x.1','y.1','likelihood.1','x.2','y.2','likelihood.2'])\n",
    "    df.columns=  ['Nosex','Nosey','Noselikelihood','Snoutx1','Snouty1','Snoutlikelihood','Eyex','Eyey','Eyelikelihood']\n",
    "\n",
    "    # smooth the xy coordinates by simple avaraging \n",
    "    smoothingwin = 5;\n",
    "    movivename = filename;\n",
    "    x3 = image_util.smooth_data_convolve_my_average(df.Snoutx1, smoothingwin);\n",
    "    y3 = image_util.smooth_data_convolve_my_average(df.Snouty1, smoothingwin);\n",
    "    smoothingwin = 5;\n",
    "    x1 = image_util.smooth_data_convolve_my_average(df.Nosex, smoothingwin);\n",
    "    y1 = image_util.smooth_data_convolve_my_average(df.Nosey, smoothingwin);\n",
    "    x2 = image_util.smooth_data_convolve_my_average(df.Snoutx1, smoothingwin);\n",
    "    y2 = image_util.smooth_data_convolve_my_average(df.Snouty1, smoothingwin);\n",
    "    Extention = '.avi'\n",
    "\n",
    "    Angles = [math.atan2(-(y1[i]-y2[i]),-(x1[i]-x2[i]))  for i in range(len(df.Snoutlikelihood))] # define the angle of the head\n",
    "    Distance = [math.sqrt((x2[i] - x1[i])**2 + (y2[i] - y1[i])**2)  for i in range(len(df.Snoutlikelihood))]# define the distance between beads  \n",
    "    Angle=pd.Series(Angles)\n",
    "    #Angles[Angles<-2]= Angles[Angles<-2]+2*math.pi;\n",
    "\n",
    "    text = os.path.basename(movivename);\n",
    "    video_name = (os.path.join(os.path.dirname(movivename),text.split('DLC')[0]+Extention));\n",
    "    video_nameEYE = (os.path.join(os.path.dirname(movivename),text.split('DLC')[0]+\"EYE.avi\"));\n",
    "\n",
    "    cap = cv2.VideoCapture(video_name)# reading the videofile\n",
    "    frame_width  = np.uint8(cap.get(3)) # float\n",
    "    frame_height = np.uint8(cap.get(4)) # float\n",
    "    fourcc = cv2.VideoWriter_fourcc('M','J','P','G')\n",
    "    i=0\n",
    "    factor=2;\n",
    "    video = cv2.VideoWriter(video_nameEYE, 0, 40, (200,200))\n",
    "\n",
    "    faceshift=60;\n",
    "    while(cap.isOpened()):\n",
    "     ret, frame = cap.read() \n",
    "     if ret == True:\n",
    "        i+=1\n",
    "        height, width, layers = frame.shape\n",
    "        #rotation angle in degree\n",
    "        if 1==1:\n",
    "            #rotated = ndimage.rotate(frame, math.degrees(Angle[i-1])-90+180)\n",
    "            color_coverted = cv2.cvtColor(frame, cv2.COLOR_BGR2RGB)\n",
    "            sizetotal = 200;\n",
    "            midpoint= 100;  \n",
    "            img = Image.fromarray(color_coverted, 'RGB')\n",
    "            Newrotated=np.uint8(image_util.add_margin(img, 100, 100, 100, 100, (0,0,0)))\n",
    "            y= int(df.Eyey[i-1]+100-midpoint);\n",
    "            x= int(df.Eyex[i-1]+100-midpoint);\n",
    "            h = sizetotal\n",
    "            w = int(sizetotal)\n",
    "            crop_img = Newrotated[y:y+h, x:x+w]\n",
    "            #frame2 = cv2.flip(crop_img, 1)\n",
    "            #frame2 = image_util.mask(crop_img,60)\n",
    "            #frame2 = Image.fromarray(frame2)\n",
    "            #frame2 = frame2.convert(\"RGB\")\n",
    "            #enhancer = ImageEnhance.Contrast(frame2)\n",
    "            #im_output = enhancer.enhance(factor)\n",
    "            video.write(np.array(crop_img))\n",
    "\n",
    "        #Mirror92R\n",
    "\n",
    "     else:\n",
    "        break\n",
    "    video.release()"
   ]
  },
  {
   "cell_type": "code",
   "execution_count": null,
   "metadata": {},
   "outputs": [],
   "source": [
    "\n",
    "Mainfolder = 'F:\\\\ar34motor\\\\sideright\\\\2021_12_16'\n",
    "trial=223\n",
    "Tag ='Sideview'\n",
    "Xfiles = [os.path.join(Mainfolder,f) for f in os.listdir(Mainfolder) if f.endswith('filtered.csv') and Tag in f] \n",
    "# csv file name\n",
    "filename = Xfiles[trial] # select the trial\n",
    "print(filename)"
   ]
  },
  {
   "cell_type": "code",
   "execution_count": null,
   "metadata": {},
   "outputs": [],
   "source": []
  },
  {
   "cell_type": "code",
   "execution_count": null,
   "metadata": {},
   "outputs": [],
   "source": [
    "print(video_nameEYE)\n",
    "sizetotal = 200;\n",
    "midpoint= 100;  \n",
    "cap = cv2.VideoCapture(video_name)# reading the videofile\n",
    "\n",
    "# Implementation of matplotlib function\n",
    "import matplotlib.pyplot as plt\n",
    "import numpy as np\n",
    "from matplotlib.colors import LogNorm\n",
    "i=0\n",
    "while(cap.isOpened()):\n",
    " ret, frame = cap.read() \n",
    " if ret == True:\n",
    "    i+=1\n",
    "    height, width, layers = frame.shape\n",
    "    #rotation angle in degree\n",
    "    if 1==1:\n",
    "        #rotated = ndimage.rotate(frame, math.degrees(Angle[i-1])-90+180)\n",
    "        color_coverted = cv2.cvtColor(frame, cv2.COLOR_BGR2RGB)\n",
    "        sizetotal = 200;\n",
    "        midpoint= 100;  \n",
    "        img = Image.fromarray(color_coverted, 'RGB')\n",
    "        Newrotated=np.uint8(add_margin(img, 100, 100, 100, 100, (0,0,0)))\n",
    "        y= int(df.Eyey[i-1]+100-midpoint);\n",
    "        x= int(df.Eyex[i-1]+100-midpoint);\n",
    "        h = sizetotal\n",
    "        w = int(sizetotal)\n",
    "        crop_img = Newrotated[y:y+h, x:x+w]\n",
    "        c = plt.imshow(crop_img)\n",
    " \n",
    "        plt.show()\n",
    "\n",
    "    #Mirror92R\n",
    "\n",
    " else:\n",
    "    break\n",
    "    \n",
    "    \n"
   ]
  },
  {
   "cell_type": "code",
   "execution_count": null,
   "metadata": {},
   "outputs": [],
   "source": [
    "crop_img = Newrotated[y:y+h, x:x+w]\n",
    "c = plt.imshow(color_coverted)\n",
    "plt.plot(df.Eyex[i-1],df.Eyey[i-1] ,'rp', markersize=14)\n",
    "\n",
    "\n",
    "\n",
    "plt.show()\n",
    "\n",
    "\n",
    "\n",
    "Newrotated=np.uint8(add_margin(img, 100, 100, 100, 100, (0,0,0)))\n",
    "y= int(df.Eyey[i-1]);\n",
    "x= int(df.Eyex[i-1]);\n",
    "c = plt.imshow(Newrotated)\n",
    "plt.plot(x,y ,'rp', markersize=14)\n",
    "plt.show()"
   ]
  },
  {
   "cell_type": "code",
   "execution_count": null,
   "metadata": {},
   "outputs": [],
   "source": [
    "print(x)"
   ]
  },
  {
   "cell_type": "code",
   "execution_count": null,
   "metadata": {},
   "outputs": [],
   "source": [
    "\n",
    "def smooth_data_convolve_my_average(arr, span):\n",
    "    import numpy as np\n",
    "    re = np.convolve(arr, np.ones(span * 2 + 1) / (span * 2 + 1), mode=\"same\")\n",
    "        # The \"my_average\" part: shrinks the averaging window on the side that \n",
    "    # reaches beyond the data, keeps the other side the same size as given \n",
    "    # by \"span\"\n",
    "    re[0] = np.average(arr[:span])\n",
    "    for i in range(1, span + 1):\n",
    "        re[i] = np.average(arr[:i + span])\n",
    "        re[-i] = np.average(arr[-i - span:])\n",
    "    return re\n",
    "def crop_rotated(rotated,frame,Angle,i,df):\n",
    "    from PIL import Image\n",
    "    import numpy as np\n",
    "    import math\n",
    "    img = Image.fromarray(rotated, 'RGB')\n",
    "    Newrotated=np.uint8(add_margin(img, 400, 400, 400, 400, (0,0,0)))\n",
    "    Alpha = math.degrees(Angle[i])-90+180;\n",
    "    Alpharad = math.radians(math.degrees(Angle[i])-90+180);\n",
    "    utP = [df.Nosex[i] ,df.Nosey[i]]\n",
    "    P = [df.Nosey[i] ,df.Nosex[i]]\n",
    "    #P = [thiscenter[2],thiscenter[1]]   #coordinates of point\n",
    "    c, s = np.cos(Alpharad),np.sin(Alpharad)\n",
    "    RotMatrix = np.array(((c, -s), (s, c)))\n",
    "    ImCenterA = np.array(frame.shape[0:2])/2       # Center of the main image\n",
    "    ImCenterB = np.array(Newrotated.shape[0:2])/2  # Center of the transformed image\n",
    "    RotatedP =RotMatrix.dot(P-ImCenterA)+ImCenterB;\n",
    "    midpoint= 350;\n",
    "    sizetotal = 700;\n",
    "    ratsiosize = 1.1;\n",
    "    y= int(RotatedP[0]-midpoint);\n",
    "    x= int(RotatedP[1]-midpoint*ratsiosize);\n",
    "    h = sizetotal\n",
    "    w = int(sizetotal*ratsiosize)\n",
    "    crop_img = Newrotated[y:y+h, x:x+w]\n",
    "    return crop_img\n",
    "def add_margin(pil_img, top, right, bottom, left, color):\n",
    "    from PIL import Image\n",
    "    width, height = pil_img.size\n",
    "    new_width = width + right + left\n",
    "    new_height = height + top + bottom\n",
    "    result = Image.new(pil_img.mode, (new_width, new_height), color)\n",
    "    result.paste(pil_img, (left, top))\n",
    "    return result"
   ]
  },
  {
   "cell_type": "markdown",
   "metadata": {},
   "source": [
    "## this step is to load deeplabcut and run already trained algorithm on new movies to track the face"
   ]
  },
  {
   "cell_type": "code",
   "execution_count": null,
   "metadata": {},
   "outputs": [],
   "source": [
    "import deeplabcut\n",
    "## https://github.com/AlexEMG/DeepLabCut"
   ]
  },
  {
   "cell_type": "code",
   "execution_count": null,
   "metadata": {},
   "outputs": [],
   "source": [
    "path_config_file = 'D:\\\\Sidevideos\\\\DLC\\\\Sideview4-Arash-2021-07-18\\\\config.yaml';\n",
    "#Mainfolder = 'D:\\\\videos\\\\ar32\\\\2020_12_18';\n",
    "path_config_file ='D:\\\\Sidevideos\\\\DLC\\\\Sideview_Aug-Arash-2021-08-04\\\\config.yaml';\n",
    "#Mainfolder = 'D:\\\\videos\\\\ar32\\\\2020_12_18';\n",
    "import os\n",
    "text_files = [os.path.join(Mainfolder,f) for f in os.listdir(Mainfolder) if f.endswith('.avi') and not f.endswith('L.avi') and not f.endswith('R.avi') and not f.endswith('videopoints.avi') and not f.endswith('videopoints.avi')]\n",
    "print(text_files[1])\n",
    "#text_files='C:\\\\videos\\\\ar30motor\\\\2021_04_25\\\\9.avi'\n",
    "temp1=deeplabcut.analyze_videos(path_config_file,text_files,shuffle=1, save_as_csv=True )\n",
    "temp=deeplabcut.filterpredictions(path_config_file,text_files)"
   ]
  },
  {
   "cell_type": "code",
   "execution_count": null,
   "metadata": {},
   "outputs": [],
   "source": [
    "print(text_files)\n"
   ]
  },
  {
   "cell_type": "markdown",
   "metadata": {},
   "source": [
    "# this step should take the filtered DLC output (Nose and Snout)\n",
    "and create the L and R movies\n",
    "then using another function to convert L and R (R is left face and L is right face) files into Mask and Mirror files( Mask only adds mask to the Right side of the face and Mirror. \n"
   ]
  },
  {
   "cell_type": "markdown",
   "metadata": {},
   "source": [
    "# copy tracked files into the server (with mp4 movies)"
   ]
  },
  {
   "cell_type": "code",
   "execution_count": null,
   "metadata": {},
   "outputs": [],
   "source": [
    "# the code to run matlab here\n",
    "#Mainfolder = 'C:\\\\videos\\\\ar344thday\\\\2021_07_26'\n",
    "# copy tracked files into the server (with mp4 movies)\n",
    "Mainfolder = 'D:\\\\Sidevideos\\\\ar32motor\\\\2021_08_02'\n",
    "\n",
    "#Mainfolder = 'D:\\\\Sidevideos\\\\ar344thday\\\\2021_07_26'\n",
    "#destination = ''\n",
    "destination='//dk-server.dk.ucsd.edu/afassihizakeri/SC_Movies/ar32motor/2021_08_02/Side'\n",
    "import shutil\n",
    "shutil.copytree( Mainfolder,destination, ignore=shutil.ignore_patterns('*.avi'),copy_function = shutil.copy)\n",
    "#copytree(Mainfolder, destination, ignore=ignore_patterns('*.avi'))\n",
    "\n",
    "\n"
   ]
  },
  {
   "cell_type": "markdown",
   "metadata": {},
   "source": [
    "this step makes Mirror Mask files"
   ]
  },
  {
   "cell_type": "code",
   "execution_count": null,
   "metadata": {},
   "outputs": [],
   "source": [
    "import Runmask_mirror\n",
    "\n",
    "#Mainfolder = 'D:\\\\videos\\\\ar32\\\\2020_11_24\\\\'\n",
    "#Mainfolder = 'D:\\\\videos\\\\ar32\\\\2020_12_18\\\\'\n",
    "\n",
    "Runmask_mirror.RunMask(Mainfolder)"
   ]
  },
  {
   "cell_type": "markdown",
   "metadata": {},
   "source": [
    "# now apply DLC already trained data on whiskers "
   ]
  },
  {
   "cell_type": "code",
   "execution_count": null,
   "metadata": {},
   "outputs": [],
   "source": [
    "\n",
    "#Mainfolder = 'D:\\\\videos\\\\ar32\\\\2020_11_24'\n",
    "import image_util\n",
    "path_config_file = 'D:\\\\videos\\\\ar30\\\\2020_11_04\\\\ar30_11_05_20whiskers-Arash-2020-11-08\\\\config.yaml'\n",
    "\n",
    "\n",
    "[XfilesL,XfilesR]=image_util.get_mask_mirror_names(Mainfolder) \n",
    "\n",
    "\n",
    "scorernameL=deeplabcut.analyze_videos(path_config_file,XfilesL,shuffle=1, save_as_csv=True)\n",
    "print(scorernameL)\n",
    "deeplabcut.filterpredictions(path_config_file,XfilesL,shuffle=1)\n",
    "scorernameR=deeplabcut.analyze_videos(path_config_file,XfilesR,shuffle=1, save_as_csv=True)\n",
    "print(scorernameR)\n",
    "deeplabcut.filterpredictions(path_config_file,XfilesR,shuffle=1)"
   ]
  },
  {
   "cell_type": "code",
   "execution_count": null,
   "metadata": {},
   "outputs": [],
   "source": []
  },
  {
   "cell_type": "markdown",
   "metadata": {},
   "source": [
    "# make  movies and plot rajectories from the dlc data"
   ]
  },
  {
   "cell_type": "code",
   "execution_count": null,
   "metadata": {},
   "outputs": [],
   "source": [
    "path_config_file = 'D:\\\\videos\\\\ar32\\\\ar32_10_11_24-Arash-2020-11-25\\\\config.yaml';\n",
    "path_config_file = 'D:\\\\Sidevideos\\\\DLC\\\\Sideview4-Arash-2021-07-18\\\\config.yaml';\n",
    "\n",
    "Mainfolder = 'D:\\\\videos\\\\ar30\\\\2021_01_09';\n",
    "Mainfolder = 'D:\\\\Sidevideos\\\\ar343rdday\\\\2021_07_16'\n",
    "import os\n",
    "text_files = [os.path.join(Mainfolder,f) for f in os.listdir(Mainfolder) if f.endswith('.avi') and not f.endswith('Tracked.avi') and not f.endswith('L.avi') and not f.endswith('R.avi') and not f.endswith('videopoints.avi') and not f.endswith('videopoints.avi')]\n",
    "videofile = os.path.join(Mainfolder,'119.avi')\n",
    "print(text_files)\n",
    "del text_files[0]\n",
    "deeplabcut.plot_trajectories(path_config_file,text_files,filtered = True)\n",
    "deeplabcut.create_labeled_video(path_config_file,text_files,save_frames=False)"
   ]
  },
  {
   "cell_type": "code",
   "execution_count": null,
   "metadata": {},
   "outputs": [],
   "source": []
  },
  {
   "cell_type": "markdown",
   "metadata": {},
   "source": [
    "# copy tracked data"
   ]
  },
  {
   "cell_type": "code",
   "execution_count": null,
   "metadata": {},
   "outputs": [],
   "source": [
    "import os  # this is to get folder information and creat files\n",
    "import cv2  # this is important and is reading and writing images and video\n",
    "import shutil\n",
    "destination='//dk-server.dk.ucsd.edu/afassihizakeri/SC_Movies/ar34training/4thdayside'\n",
    "\n",
    "All_Folders=[ name for name in os.listdir(Mainfolder) if not os.path.isdir(os.path.join(Mainfolder, name)) ]\n",
    "#print(All_Folders)\n",
    "for num in range(0,len(All_Folders)): \n",
    "    thisdestination = os.path.join(destination+'/', All_Folders[num])\n",
    "    thissource = os.path.join(Mainfolder+os.sep, All_Folders[num])\n",
    "    shutil.copy( thissource,destination)\n",
    "    print(thisdestination)\n"
   ]
  },
  {
   "cell_type": "markdown",
   "metadata": {},
   "source": [
    "# this part should take scorername L and R as an input to matlab \n",
    "import image_util"
   ]
  },
  {
   "cell_type": "code",
   "execution_count": null,
   "metadata": {},
   "outputs": [],
   "source": [
    "print(scorernameL)\n",
    "do matlab thing"
   ]
  },
  {
   "cell_type": "code",
   "execution_count": null,
   "metadata": {},
   "outputs": [],
   "source": [
    "Mainfolder = 'D:\\\\videos\\\\ar30\\\\2021_01_09\\\\'\n",
    "\n",
    "main.save_trial_n(Mainfolder)"
   ]
  },
  {
   "cell_type": "markdown",
   "metadata": {},
   "source": [
    "the last step is to check everything"
   ]
  }
 ],
 "metadata": {
  "kernelspec": {
   "display_name": "Python 3 (ipykernel)",
   "language": "python",
   "name": "python3"
  },
  "language_info": {
   "codemirror_mode": {
    "name": "ipython",
    "version": 3
   },
   "file_extension": ".py",
   "mimetype": "text/x-python",
   "name": "python",
   "nbconvert_exporter": "python",
   "pygments_lexer": "ipython3",
   "version": "3.8.12"
  }
 },
 "nbformat": 4,
 "nbformat_minor": 2
}
