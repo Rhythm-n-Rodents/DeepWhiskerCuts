{
 "cells": [
  {
   "cell_type": "markdown",
   "metadata": {},
   "source": [
    "## Define the main folder"
   ]
  },
  {
   "cell_type": "code",
   "execution_count": 1,
   "metadata": {},
   "outputs": [],
   "source": [
    "import main\n",
    "\n",
    "Mainfolder =  'F:\\\\videos\\\\ar34motor\\\\2022_02_03'; # Enter the name of the folder with images folders inside "
   ]
  },
  {
   "cell_type": "markdown",
   "metadata": {},
   "source": [
    "# make movies and save trialnumber"
   ]
  },
  {
   "cell_type": "code",
   "execution_count": 2,
   "metadata": {
    "scrolled": true
   },
   "outputs": [
    {
     "name": "stdout",
     "output_type": "stream",
     "text": [
      "0\n",
      "1\n",
      "2\n",
      "3\n",
      "4\n",
      "5\n",
      "6\n",
      "7\n",
      "8\n",
      "9\n",
      "10\n",
      "11\n",
      "12\n",
      "13\n",
      "14\n",
      "15\n",
      "16\n",
      "17\n",
      "18\n",
      "19\n",
      "20\n",
      "21\n",
      "22\n",
      "23\n",
      "24\n",
      "25\n",
      "26\n",
      "27\n",
      "28\n",
      "29\n",
      "30\n",
      "31\n",
      "32\n",
      "33\n",
      "34\n",
      "35\n",
      "36\n",
      "37\n",
      "38\n",
      "39\n",
      "40\n",
      "41\n",
      "42\n",
      "43\n",
      "44\n",
      "45\n",
      "46\n",
      "47\n",
      "48\n",
      "49\n",
      "50\n",
      "51\n",
      "52\n",
      "53\n",
      "54\n",
      "55\n",
      "56\n",
      "57\n",
      "58\n",
      "59\n",
      "60\n",
      "61\n",
      "62\n",
      "63\n",
      "64\n",
      "65\n",
      "66\n",
      "67\n",
      "68\n",
      "69\n",
      "70\n",
      "71\n",
      "72\n",
      "73\n",
      "74\n",
      "75\n",
      "76\n",
      "77\n",
      "78\n",
      "79\n",
      "80\n",
      "81\n",
      "82\n",
      "83\n",
      "84\n",
      "85\n",
      "86\n",
      "87\n",
      "88\n",
      "89\n",
      "90\n",
      "91\n",
      "92\n",
      "93\n",
      "94\n",
      "95\n",
      "96\n",
      "97\n",
      "98\n",
      "99\n",
      "100\n",
      "101\n",
      "102\n",
      "103\n",
      "104\n",
      "105\n",
      "106\n",
      "107\n",
      "108\n",
      "109\n",
      "110\n",
      "111\n",
      "112\n",
      "113\n",
      "114\n",
      "115\n",
      "116\n",
      "117\n",
      "118\n",
      "119\n",
      "120\n",
      "121\n",
      "122\n",
      "123\n",
      "124\n",
      "125\n",
      "126\n",
      "127\n",
      "128\n",
      "129\n",
      "130\n",
      "131\n",
      "132\n",
      "133\n",
      "134\n",
      "135\n",
      "136\n",
      "137\n",
      "138\n",
      "139\n",
      "140\n",
      "141\n",
      "142\n",
      "143\n",
      "144\n",
      "145\n",
      "146\n",
      "147\n",
      "148\n",
      "149\n",
      "150\n",
      "151\n",
      "152\n",
      "153\n",
      "154\n",
      "155\n",
      "156\n",
      "157\n",
      "158\n",
      "['0', '1', '10', '100', '101', '102', '103', '104', '105', '106', '107', '108', '109', '11', '110', '111', '112', '113', '114', '115', '116', '117', '118', '119', '12', '120', '121', '122', '123', '124', '125', '126', '127', '128', '129', '13', '130', '131', '132', '133', '134', '135', '136', '137', '138', '139', '14', '140', '141', '142', '143', '144', '145', '146', '147', '148', '149', '15', '150', '151', '152', '153', '154', '155', '156', '157', '158', '16', '17', '18', '19', '2', '20', '21', '22', '23', '24', '25', '26', '27', '28', '29', '3', '30', '31', '32', '33', '34', '35', '36', '37', '38', '39', '4', '40', '41', '42', '43', '44', '45', '46', '47', '48', '49', '5', '50', '51', '52', '53', '54', '55', '56', '57', '58', '59', '6', '60', '61', '62', '63', '64', '65', '66', '67', '68', '69', '7', '70', '71', '72', '73', '74', '75', '76', '77', '78', '79', '8', '80', '81', '82', '83', '84', '85', '86', '87', '88', '89', '9', '90', '91', '92', '93', '94', '95', '96', '97', '98', '99']\n"
     ]
    }
   ],
   "source": [
    "main.makemovieandLightfile(Mainfolder)\n",
    "main.save_trial_n(Mainfolder)\n"
   ]
  },
  {
   "cell_type": "markdown",
   "metadata": {},
   "source": [
    "# convert individual trials to MP4"
   ]
  },
  {
   "cell_type": "code",
   "execution_count": null,
   "metadata": {},
   "outputs": [],
   "source": [
    "\n",
    "\n",
    "main.convertvideotoMP4(mainfolder,Trial)"
   ]
  },
  {
   "cell_type": "markdown",
   "metadata": {},
   "source": [
    "# DLC on nose snout\n",
    "## this step is to load deeplabcut and run already trained algorithm on new movies to track the nose and snout  (beads)"
   ]
  },
  {
   "cell_type": "code",
   "execution_count": 3,
   "metadata": {},
   "outputs": [],
   "source": [
    "import deeplabcut\n",
    "## https://github.com/AlexEMG/DeepLabCut"
   ]
  },
  {
   "cell_type": "code",
   "execution_count": 4,
   "metadata": {
    "scrolled": true
   },
   "outputs": [
    {
     "name": "stdout",
     "output_type": "stream",
     "text": [
      "F:\\videos\\ar34motor\\2022_02_03\\100video.mp4\n",
      "Using snapshot-110000 for model F:\\DLC\\Topview3435-Arash-2021-07-28\\dlc-models\\iteration-0\\Topview3435Jul28-trainset95shuffle1\n",
      "Initializing ResNet\n",
      "Starting to analyze %  F:\\videos\\ar34motor\\2022_02_03\\0video.mp4\n",
      "F:\\videos\\ar34motor\\2022_02_03  already exists!\n",
      "Loading  F:\\videos\\ar34motor\\2022_02_03\\0video.mp4\n",
      "Duration of video [s]:  10.0 , recorded with  40.0 fps!\n",
      "Overall # of frames:  400  found with (before cropping) frame dimensions:  1440 484\n",
      "Starting to extract posture\n"
     ]
    },
    {
     "name": "stderr",
     "output_type": "stream",
     "text": [
      "  2%|██                                                                               | 10/400 [00:02<01:23,  4.69it/s]\n"
     ]
    },
    {
     "name": "stdout",
     "output_type": "stream",
     "text": [
      "Starting to analyze %  F:\\videos\\ar34motor\\2022_02_03\\100video.mp4\n",
      "F:\\videos\\ar34motor\\2022_02_03  already exists!\n",
      "Loading  F:\\videos\\ar34motor\\2022_02_03\\100video.mp4\n",
      "Duration of video [s]:  10.0 , recorded with  40.0 fps!\n",
      "Overall # of frames:  400  found with (before cropping) frame dimensions:  1440 484\n",
      "Starting to extract posture\n"
     ]
    },
    {
     "name": "stderr",
     "output_type": "stream",
     "text": [
      "  2%|██                                                                              | 10/400 [00:00<00:03, 113.94it/s]\n"
     ]
    },
    {
     "name": "stdout",
     "output_type": "stream",
     "text": [
      "Starting to analyze %  F:\\videos\\ar34motor\\2022_02_03\\101video.mp4\n",
      "F:\\videos\\ar34motor\\2022_02_03  already exists!\n",
      "Loading  F:\\videos\\ar34motor\\2022_02_03\\101video.mp4\n",
      "Duration of video [s]:  10.0 , recorded with  40.0 fps!\n",
      "Overall # of frames:  400  found with (before cropping) frame dimensions:  1440 484\n",
      "Starting to extract posture\n"
     ]
    },
    {
     "name": "stderr",
     "output_type": "stream",
     "text": [
      "  2%|██                                                                              | 10/400 [00:00<00:03, 120.80it/s]\n"
     ]
    },
    {
     "name": "stdout",
     "output_type": "stream",
     "text": [
      "Starting to analyze %  F:\\videos\\ar34motor\\2022_02_03\\102video.mp4\n",
      "F:\\videos\\ar34motor\\2022_02_03  already exists!\n",
      "Loading  F:\\videos\\ar34motor\\2022_02_03\\102video.mp4\n",
      "Duration of video [s]:  10.0 , recorded with  40.0 fps!\n",
      "Overall # of frames:  400  found with (before cropping) frame dimensions:  1440 484\n",
      "Starting to extract posture\n"
     ]
    },
    {
     "name": "stderr",
     "output_type": "stream",
     "text": [
      "  2%|██                                                                              | 10/400 [00:00<00:03, 120.81it/s]\n"
     ]
    },
    {
     "name": "stdout",
     "output_type": "stream",
     "text": [
      "Starting to analyze %  F:\\videos\\ar34motor\\2022_02_03\\103video.mp4\n",
      "F:\\videos\\ar34motor\\2022_02_03  already exists!\n",
      "Loading  F:\\videos\\ar34motor\\2022_02_03\\103video.mp4\n",
      "Duration of video [s]:  10.0 , recorded with  40.0 fps!\n",
      "Overall # of frames:  400  found with (before cropping) frame dimensions:  1440 484\n",
      "Starting to extract posture\n"
     ]
    },
    {
     "name": "stderr",
     "output_type": "stream",
     "text": [
      "  2%|██                                                                               | 10/400 [00:00<00:04, 87.95it/s]\n"
     ]
    },
    {
     "name": "stdout",
     "output_type": "stream",
     "text": [
      "Starting to analyze %  F:\\videos\\ar34motor\\2022_02_03\\104video.mp4\n",
      "F:\\videos\\ar34motor\\2022_02_03  already exists!\n",
      "Loading  F:\\videos\\ar34motor\\2022_02_03\\104video.mp4\n",
      "Duration of video [s]:  10.0 , recorded with  40.0 fps!\n",
      "Overall # of frames:  400  found with (before cropping) frame dimensions:  1440 484\n",
      "Starting to extract posture\n"
     ]
    },
    {
     "name": "stderr",
     "output_type": "stream",
     "text": [
      "  2%|██                                                                              | 10/400 [00:00<00:03, 125.15it/s]\n"
     ]
    },
    {
     "name": "stdout",
     "output_type": "stream",
     "text": [
      "Starting to analyze %  F:\\videos\\ar34motor\\2022_02_03\\105video.mp4\n",
      "F:\\videos\\ar34motor\\2022_02_03  already exists!\n",
      "Loading  F:\\videos\\ar34motor\\2022_02_03\\105video.mp4\n",
      "Duration of video [s]:  10.0 , recorded with  40.0 fps!\n",
      "Overall # of frames:  400  found with (before cropping) frame dimensions:  1440 484\n",
      "Starting to extract posture\n"
     ]
    },
    {
     "name": "stderr",
     "output_type": "stream",
     "text": [
      "  2%|██                                                                              | 10/400 [00:00<00:03, 123.79it/s]\n"
     ]
    },
    {
     "name": "stdout",
     "output_type": "stream",
     "text": [
      "Starting to analyze %  F:\\videos\\ar34motor\\2022_02_03\\106video.mp4\n",
      "F:\\videos\\ar34motor\\2022_02_03  already exists!\n",
      "Loading  F:\\videos\\ar34motor\\2022_02_03\\106video.mp4\n",
      "Duration of video [s]:  10.0 , recorded with  40.0 fps!\n",
      "Overall # of frames:  400  found with (before cropping) frame dimensions:  1440 484\n",
      "Starting to extract posture\n"
     ]
    },
    {
     "name": "stderr",
     "output_type": "stream",
     "text": [
      "  2%|██                                                                               | 10/400 [00:00<00:07, 51.81it/s]\n"
     ]
    },
    {
     "name": "stdout",
     "output_type": "stream",
     "text": [
      "Starting to analyze %  F:\\videos\\ar34motor\\2022_02_03\\107video.mp4\n",
      "F:\\videos\\ar34motor\\2022_02_03  already exists!\n",
      "Loading  F:\\videos\\ar34motor\\2022_02_03\\107video.mp4\n",
      "Duration of video [s]:  10.0 , recorded with  40.0 fps!\n",
      "Overall # of frames:  400  found with (before cropping) frame dimensions:  1440 484\n",
      "Starting to extract posture\n"
     ]
    },
    {
     "name": "stderr",
     "output_type": "stream",
     "text": [
      "  2%|██                                                                              | 10/400 [00:00<00:03, 119.37it/s]\n"
     ]
    },
    {
     "name": "stdout",
     "output_type": "stream",
     "text": [
      "Starting to analyze %  F:\\videos\\ar34motor\\2022_02_03\\108video.mp4\n",
      "F:\\videos\\ar34motor\\2022_02_03  already exists!\n",
      "Loading  F:\\videos\\ar34motor\\2022_02_03\\108video.mp4\n",
      "Duration of video [s]:  10.0 , recorded with  40.0 fps!\n",
      "Overall # of frames:  400  found with (before cropping) frame dimensions:  1440 484\n",
      "Starting to extract posture\n"
     ]
    },
    {
     "name": "stderr",
     "output_type": "stream",
     "text": [
      "  2%|██                                                                              | 10/400 [00:00<00:03, 123.79it/s]\n"
     ]
    },
    {
     "name": "stdout",
     "output_type": "stream",
     "text": [
      "Starting to analyze %  F:\\videos\\ar34motor\\2022_02_03\\109video.mp4\n",
      "F:\\videos\\ar34motor\\2022_02_03  already exists!\n",
      "Loading  F:\\videos\\ar34motor\\2022_02_03\\109video.mp4\n",
      "Duration of video [s]:  10.0 , recorded with  40.0 fps!\n",
      "Overall # of frames:  400  found with (before cropping) frame dimensions:  1440 484\n",
      "Starting to extract posture\n"
     ]
    },
    {
     "name": "stderr",
     "output_type": "stream",
     "text": [
      "  2%|██                                                                               | 10/400 [00:00<00:04, 96.41it/s]\n"
     ]
    },
    {
     "name": "stdout",
     "output_type": "stream",
     "text": [
      "Starting to analyze %  F:\\videos\\ar34motor\\2022_02_03\\10video.mp4\n",
      "F:\\videos\\ar34motor\\2022_02_03  already exists!\n",
      "Loading  F:\\videos\\ar34motor\\2022_02_03\\10video.mp4\n",
      "Duration of video [s]:  10.0 , recorded with  40.0 fps!\n",
      "Overall # of frames:  400  found with (before cropping) frame dimensions:  1440 484\n",
      "Starting to extract posture\n"
     ]
    },
    {
     "name": "stderr",
     "output_type": "stream",
     "text": [
      "  2%|██                                                                              | 10/400 [00:00<00:03, 122.32it/s]\n"
     ]
    },
    {
     "name": "stdout",
     "output_type": "stream",
     "text": [
      "Starting to analyze %  F:\\videos\\ar34motor\\2022_02_03\\110video.mp4\n",
      "F:\\videos\\ar34motor\\2022_02_03  already exists!\n",
      "Loading  F:\\videos\\ar34motor\\2022_02_03\\110video.mp4\n",
      "Duration of video [s]:  10.0 , recorded with  40.0 fps!\n",
      "Overall # of frames:  400  found with (before cropping) frame dimensions:  1440 484\n",
      "Starting to extract posture\n"
     ]
    },
    {
     "name": "stderr",
     "output_type": "stream",
     "text": [
      "  2%|██                                                                              | 10/400 [00:00<00:03, 103.36it/s]\n"
     ]
    },
    {
     "name": "stdout",
     "output_type": "stream",
     "text": [
      "Starting to analyze %  F:\\videos\\ar34motor\\2022_02_03\\111video.mp4\n",
      "F:\\videos\\ar34motor\\2022_02_03  already exists!\n",
      "Loading  F:\\videos\\ar34motor\\2022_02_03\\111video.mp4\n",
      "Duration of video [s]:  10.0 , recorded with  40.0 fps!\n",
      "Overall # of frames:  400  found with (before cropping) frame dimensions:  1440 484\n",
      "Starting to extract posture\n"
     ]
    },
    {
     "name": "stderr",
     "output_type": "stream",
     "text": [
      "  2%|██                                                                               | 10/400 [00:00<00:04, 87.68it/s]\n"
     ]
    },
    {
     "name": "stdout",
     "output_type": "stream",
     "text": [
      "Starting to analyze %  F:\\videos\\ar34motor\\2022_02_03\\112video.mp4\n",
      "F:\\videos\\ar34motor\\2022_02_03  already exists!\n",
      "Loading  F:\\videos\\ar34motor\\2022_02_03\\112video.mp4\n",
      "Duration of video [s]:  10.0 , recorded with  40.0 fps!\n",
      "Overall # of frames:  400  found with (before cropping) frame dimensions:  1440 484\n",
      "Starting to extract posture\n"
     ]
    },
    {
     "name": "stderr",
     "output_type": "stream",
     "text": [
      "  2%|██                                                                              | 10/400 [00:00<00:03, 123.79it/s]\n"
     ]
    },
    {
     "name": "stdout",
     "output_type": "stream",
     "text": [
      "Starting to analyze %  F:\\videos\\ar34motor\\2022_02_03\\113video.mp4\n",
      "F:\\videos\\ar34motor\\2022_02_03  already exists!\n",
      "Loading  F:\\videos\\ar34motor\\2022_02_03\\113video.mp4\n",
      "Duration of video [s]:  10.0 , recorded with  40.0 fps!\n",
      "Overall # of frames:  400  found with (before cropping) frame dimensions:  1440 484\n",
      "Starting to extract posture\n"
     ]
    },
    {
     "name": "stderr",
     "output_type": "stream",
     "text": [
      "  2%|██                                                                              | 10/400 [00:00<00:03, 116.59it/s]\n"
     ]
    },
    {
     "name": "stdout",
     "output_type": "stream",
     "text": [
      "Starting to analyze %  F:\\videos\\ar34motor\\2022_02_03\\114video.mp4\n",
      "F:\\videos\\ar34motor\\2022_02_03  already exists!\n",
      "Loading  F:\\videos\\ar34motor\\2022_02_03\\114video.mp4\n",
      "Duration of video [s]:  10.0 , recorded with  40.0 fps!\n",
      "Overall # of frames:  400  found with (before cropping) frame dimensions:  1440 484\n",
      "Starting to extract posture\n"
     ]
    },
    {
     "name": "stderr",
     "output_type": "stream",
     "text": [
      "  2%|██                                                                              | 10/400 [00:00<00:03, 116.59it/s]\n"
     ]
    },
    {
     "name": "stdout",
     "output_type": "stream",
     "text": [
      "Starting to analyze %  F:\\videos\\ar34motor\\2022_02_03\\115video.mp4\n",
      "F:\\videos\\ar34motor\\2022_02_03  already exists!\n",
      "Loading  F:\\videos\\ar34motor\\2022_02_03\\115video.mp4\n",
      "Duration of video [s]:  10.0 , recorded with  40.0 fps!\n",
      "Overall # of frames:  400  found with (before cropping) frame dimensions:  1440 484\n",
      "Starting to extract posture\n"
     ]
    },
    {
     "name": "stderr",
     "output_type": "stream",
     "text": [
      "  2%|██                                                                              | 10/400 [00:00<00:03, 125.34it/s]\n"
     ]
    },
    {
     "name": "stdout",
     "output_type": "stream",
     "text": [
      "Starting to analyze %  F:\\videos\\ar34motor\\2022_02_03\\116video.mp4\n",
      "F:\\videos\\ar34motor\\2022_02_03  already exists!\n",
      "Loading  F:\\videos\\ar34motor\\2022_02_03\\116video.mp4\n",
      "Duration of video [s]:  10.0 , recorded with  40.0 fps!\n",
      "Overall # of frames:  400  found with (before cropping) frame dimensions:  1440 484\n",
      "Starting to extract posture\n"
     ]
    },
    {
     "name": "stderr",
     "output_type": "stream",
     "text": [
      "  2%|██                                                                              | 10/400 [00:00<00:03, 110.15it/s]\n"
     ]
    },
    {
     "name": "stdout",
     "output_type": "stream",
     "text": [
      "Starting to analyze %  F:\\videos\\ar34motor\\2022_02_03\\117video.mp4\n",
      "F:\\videos\\ar34motor\\2022_02_03  already exists!\n",
      "Loading  F:\\videos\\ar34motor\\2022_02_03\\117video.mp4\n",
      "Duration of video [s]:  10.0 , recorded with  40.0 fps!\n",
      "Overall # of frames:  400  found with (before cropping) frame dimensions:  1440 484\n",
      "Starting to extract posture\n"
     ]
    },
    {
     "name": "stderr",
     "output_type": "stream",
     "text": [
      "  2%|██                                                                              | 10/400 [00:00<00:02, 133.69it/s]\n"
     ]
    },
    {
     "name": "stdout",
     "output_type": "stream",
     "text": [
      "Starting to analyze %  F:\\videos\\ar34motor\\2022_02_03\\118video.mp4\n",
      "F:\\videos\\ar34motor\\2022_02_03  already exists!\n",
      "Loading  F:\\videos\\ar34motor\\2022_02_03\\118video.mp4\n",
      "Duration of video [s]:  10.0 , recorded with  40.0 fps!\n",
      "Overall # of frames:  400  found with (before cropping) frame dimensions:  1440 484\n",
      "Starting to extract posture\n"
     ]
    },
    {
     "name": "stderr",
     "output_type": "stream",
     "text": [
      "  2%|██                                                                              | 10/400 [00:00<00:03, 120.81it/s]\n"
     ]
    },
    {
     "name": "stdout",
     "output_type": "stream",
     "text": [
      "Starting to analyze %  F:\\videos\\ar34motor\\2022_02_03\\119video.mp4\n",
      "F:\\videos\\ar34motor\\2022_02_03  already exists!\n",
      "Loading  F:\\videos\\ar34motor\\2022_02_03\\119video.mp4\n",
      "Duration of video [s]:  10.0 , recorded with  40.0 fps!\n",
      "Overall # of frames:  400  found with (before cropping) frame dimensions:  1440 484\n",
      "Starting to extract posture\n"
     ]
    },
    {
     "name": "stderr",
     "output_type": "stream",
     "text": [
      "  2%|██                                                                              | 10/400 [00:00<00:03, 123.66it/s]\n"
     ]
    },
    {
     "name": "stdout",
     "output_type": "stream",
     "text": [
      "Starting to analyze %  F:\\videos\\ar34motor\\2022_02_03\\11video.mp4\n",
      "F:\\videos\\ar34motor\\2022_02_03  already exists!\n",
      "Loading  F:\\videos\\ar34motor\\2022_02_03\\11video.mp4\n",
      "Duration of video [s]:  10.0 , recorded with  40.0 fps!\n",
      "Overall # of frames:  400  found with (before cropping) frame dimensions:  1440 484\n",
      "Starting to extract posture\n"
     ]
    },
    {
     "name": "stderr",
     "output_type": "stream",
     "text": [
      "  2%|██                                                                              | 10/400 [00:00<00:03, 121.53it/s]\n"
     ]
    },
    {
     "name": "stdout",
     "output_type": "stream",
     "text": [
      "Starting to analyze %  F:\\videos\\ar34motor\\2022_02_03\\120video.mp4\n",
      "F:\\videos\\ar34motor\\2022_02_03  already exists!\n",
      "Loading  F:\\videos\\ar34motor\\2022_02_03\\120video.mp4\n",
      "Duration of video [s]:  10.0 , recorded with  40.0 fps!\n",
      "Overall # of frames:  400  found with (before cropping) frame dimensions:  1440 484\n",
      "Starting to extract posture\n"
     ]
    },
    {
     "name": "stderr",
     "output_type": "stream",
     "text": [
      "  2%|██                                                                              | 10/400 [00:00<00:03, 125.29it/s]\n"
     ]
    },
    {
     "name": "stdout",
     "output_type": "stream",
     "text": [
      "Starting to analyze %  F:\\videos\\ar34motor\\2022_02_03\\121video.mp4\n",
      "F:\\videos\\ar34motor\\2022_02_03  already exists!\n",
      "Loading  F:\\videos\\ar34motor\\2022_02_03\\121video.mp4\n",
      "Duration of video [s]:  10.0 , recorded with  40.0 fps!\n",
      "Overall # of frames:  400  found with (before cropping) frame dimensions:  1440 484\n",
      "Starting to extract posture\n"
     ]
    },
    {
     "name": "stderr",
     "output_type": "stream",
     "text": [
      "  2%|██                                                                              | 10/400 [00:00<00:03, 122.28it/s]\n"
     ]
    },
    {
     "name": "stdout",
     "output_type": "stream",
     "text": [
      "Starting to analyze %  F:\\videos\\ar34motor\\2022_02_03\\122video.mp4\n",
      "F:\\videos\\ar34motor\\2022_02_03  already exists!\n",
      "Loading  F:\\videos\\ar34motor\\2022_02_03\\122video.mp4\n",
      "Duration of video [s]:  10.0 , recorded with  40.0 fps!\n",
      "Overall # of frames:  400  found with (before cropping) frame dimensions:  1440 484\n",
      "Starting to extract posture\n"
     ]
    },
    {
     "name": "stderr",
     "output_type": "stream",
     "text": [
      "  2%|██                                                                              | 10/400 [00:00<00:03, 115.25it/s]\n"
     ]
    },
    {
     "name": "stdout",
     "output_type": "stream",
     "text": [
      "Starting to analyze %  F:\\videos\\ar34motor\\2022_02_03\\123video.mp4\n",
      "F:\\videos\\ar34motor\\2022_02_03  already exists!\n",
      "Loading  F:\\videos\\ar34motor\\2022_02_03\\123video.mp4\n",
      "Duration of video [s]:  10.0 , recorded with  40.0 fps!\n",
      "Overall # of frames:  400  found with (before cropping) frame dimensions:  1440 484\n",
      "Starting to extract posture\n"
     ]
    },
    {
     "name": "stderr",
     "output_type": "stream",
     "text": [
      "  2%|██                                                                               | 10/400 [00:00<00:20, 18.97it/s]\n"
     ]
    },
    {
     "name": "stdout",
     "output_type": "stream",
     "text": [
      "Starting to analyze %  F:\\videos\\ar34motor\\2022_02_03\\124video.mp4\n",
      "F:\\videos\\ar34motor\\2022_02_03  already exists!\n",
      "Loading  F:\\videos\\ar34motor\\2022_02_03\\124video.mp4\n",
      "Duration of video [s]:  10.0 , recorded with  40.0 fps!\n",
      "Overall # of frames:  400  found with (before cropping) frame dimensions:  1440 484\n",
      "Starting to extract posture\n"
     ]
    },
    {
     "name": "stderr",
     "output_type": "stream",
     "text": [
      "  2%|██                                                                              | 10/400 [00:00<00:03, 113.52it/s]\n"
     ]
    },
    {
     "name": "stdout",
     "output_type": "stream",
     "text": [
      "Starting to analyze %  F:\\videos\\ar34motor\\2022_02_03\\125video.mp4\n",
      "F:\\videos\\ar34motor\\2022_02_03  already exists!\n",
      "Loading  F:\\videos\\ar34motor\\2022_02_03\\125video.mp4\n",
      "Duration of video [s]:  10.0 , recorded with  40.0 fps!\n",
      "Overall # of frames:  400  found with (before cropping) frame dimensions:  1440 484\n",
      "Starting to extract posture\n"
     ]
    },
    {
     "name": "stderr",
     "output_type": "stream",
     "text": [
      "  2%|██                                                                              | 10/400 [00:00<00:03, 120.81it/s]\n"
     ]
    },
    {
     "name": "stdout",
     "output_type": "stream",
     "text": [
      "Starting to analyze %  F:\\videos\\ar34motor\\2022_02_03\\126video.mp4\n",
      "F:\\videos\\ar34motor\\2022_02_03  already exists!\n",
      "Loading  F:\\videos\\ar34motor\\2022_02_03\\126video.mp4\n",
      "Duration of video [s]:  10.0 , recorded with  40.0 fps!\n",
      "Overall # of frames:  400  found with (before cropping) frame dimensions:  1440 484\n",
      "Starting to extract posture\n"
     ]
    },
    {
     "name": "stderr",
     "output_type": "stream",
     "text": [
      "  2%|██                                                                              | 10/400 [00:00<00:03, 115.25it/s]\n"
     ]
    },
    {
     "name": "stdout",
     "output_type": "stream",
     "text": [
      "Starting to analyze %  F:\\videos\\ar34motor\\2022_02_03\\127video.mp4\n",
      "F:\\videos\\ar34motor\\2022_02_03  already exists!\n",
      "Loading  F:\\videos\\ar34motor\\2022_02_03\\127video.mp4\n",
      "Duration of video [s]:  10.0 , recorded with  40.0 fps!\n",
      "Overall # of frames:  400  found with (before cropping) frame dimensions:  1440 484\n",
      "Starting to extract posture\n"
     ]
    },
    {
     "name": "stderr",
     "output_type": "stream",
     "text": [
      "  2%|██                                                                              | 10/400 [00:00<00:03, 113.28it/s]\n"
     ]
    },
    {
     "name": "stdout",
     "output_type": "stream",
     "text": [
      "Starting to analyze %  F:\\videos\\ar34motor\\2022_02_03\\128video.mp4\n",
      "F:\\videos\\ar34motor\\2022_02_03  already exists!\n",
      "Loading  F:\\videos\\ar34motor\\2022_02_03\\128video.mp4\n",
      "Duration of video [s]:  10.0 , recorded with  40.0 fps!\n",
      "Overall # of frames:  400  found with (before cropping) frame dimensions:  1440 484\n",
      "Starting to extract posture\n"
     ]
    },
    {
     "name": "stderr",
     "output_type": "stream",
     "text": [
      "  2%|██                                                                              | 10/400 [00:00<00:03, 120.76it/s]\n"
     ]
    },
    {
     "name": "stdout",
     "output_type": "stream",
     "text": [
      "Starting to analyze %  F:\\videos\\ar34motor\\2022_02_03\\129video.mp4\n",
      "F:\\videos\\ar34motor\\2022_02_03  already exists!\n",
      "Loading  F:\\videos\\ar34motor\\2022_02_03\\129video.mp4\n",
      "Duration of video [s]:  10.0 , recorded with  40.0 fps!\n",
      "Overall # of frames:  400  found with (before cropping) frame dimensions:  1440 484\n",
      "Starting to extract posture\n"
     ]
    },
    {
     "name": "stderr",
     "output_type": "stream",
     "text": [
      "  2%|██                                                                              | 10/400 [00:00<00:02, 135.50it/s]\n"
     ]
    },
    {
     "name": "stdout",
     "output_type": "stream",
     "text": [
      "Starting to analyze %  F:\\videos\\ar34motor\\2022_02_03\\12video.mp4\n",
      "F:\\videos\\ar34motor\\2022_02_03  already exists!\n",
      "Loading  F:\\videos\\ar34motor\\2022_02_03\\12video.mp4\n",
      "Duration of video [s]:  10.0 , recorded with  40.0 fps!\n",
      "Overall # of frames:  400  found with (before cropping) frame dimensions:  1440 484\n",
      "Starting to extract posture\n"
     ]
    },
    {
     "name": "stderr",
     "output_type": "stream",
     "text": [
      "  2%|██                                                                              | 10/400 [00:00<00:03, 124.20it/s]\n"
     ]
    },
    {
     "name": "stdout",
     "output_type": "stream",
     "text": [
      "Starting to analyze %  F:\\videos\\ar34motor\\2022_02_03\\130video.mp4\n",
      "F:\\videos\\ar34motor\\2022_02_03  already exists!\n",
      "Loading  F:\\videos\\ar34motor\\2022_02_03\\130video.mp4\n",
      "Duration of video [s]:  10.0 , recorded with  40.0 fps!\n",
      "Overall # of frames:  400  found with (before cropping) frame dimensions:  1440 484\n",
      "Starting to extract posture\n"
     ]
    },
    {
     "name": "stderr",
     "output_type": "stream",
     "text": [
      "  2%|██                                                                              | 10/400 [00:00<00:03, 116.59it/s]\n"
     ]
    },
    {
     "name": "stdout",
     "output_type": "stream",
     "text": [
      "Starting to analyze %  F:\\videos\\ar34motor\\2022_02_03\\131video.mp4\n",
      "F:\\videos\\ar34motor\\2022_02_03  already exists!\n",
      "Loading  F:\\videos\\ar34motor\\2022_02_03\\131video.mp4\n",
      "Duration of video [s]:  10.0 , recorded with  40.0 fps!\n",
      "Overall # of frames:  400  found with (before cropping) frame dimensions:  1440 484\n",
      "Starting to extract posture\n"
     ]
    },
    {
     "name": "stderr",
     "output_type": "stream",
     "text": [
      "  2%|██                                                                              | 10/400 [00:00<00:03, 108.98it/s]\n"
     ]
    },
    {
     "name": "stdout",
     "output_type": "stream",
     "text": [
      "Starting to analyze %  F:\\videos\\ar34motor\\2022_02_03\\132video.mp4\n",
      "F:\\videos\\ar34motor\\2022_02_03  already exists!\n",
      "Loading  F:\\videos\\ar34motor\\2022_02_03\\132video.mp4\n",
      "Duration of video [s]:  10.0 , recorded with  40.0 fps!\n",
      "Overall # of frames:  400  found with (before cropping) frame dimensions:  1440 484\n",
      "Starting to extract posture\n"
     ]
    },
    {
     "name": "stderr",
     "output_type": "stream",
     "text": [
      "  2%|██                                                                              | 10/400 [00:00<00:03, 108.99it/s]\n"
     ]
    },
    {
     "name": "stdout",
     "output_type": "stream",
     "text": [
      "Starting to analyze %  F:\\videos\\ar34motor\\2022_02_03\\133video.mp4\n",
      "F:\\videos\\ar34motor\\2022_02_03  already exists!\n",
      "Loading  F:\\videos\\ar34motor\\2022_02_03\\133video.mp4\n",
      "Duration of video [s]:  10.0 , recorded with  40.0 fps!\n",
      "Overall # of frames:  400  found with (before cropping) frame dimensions:  1440 484\n",
      "Starting to extract posture\n"
     ]
    },
    {
     "name": "stderr",
     "output_type": "stream",
     "text": [
      "  2%|██                                                                              | 10/400 [00:00<00:03, 123.79it/s]\n"
     ]
    },
    {
     "name": "stdout",
     "output_type": "stream",
     "text": [
      "Starting to analyze %  F:\\videos\\ar34motor\\2022_02_03\\134video.mp4\n",
      "F:\\videos\\ar34motor\\2022_02_03  already exists!\n",
      "Loading  F:\\videos\\ar34motor\\2022_02_03\\134video.mp4\n",
      "Duration of video [s]:  10.0 , recorded with  40.0 fps!\n",
      "Overall # of frames:  400  found with (before cropping) frame dimensions:  1440 484\n",
      "Starting to extract posture\n"
     ]
    },
    {
     "name": "stderr",
     "output_type": "stream",
     "text": [
      "  2%|██                                                                              | 10/400 [00:00<00:03, 125.34it/s]\n"
     ]
    },
    {
     "name": "stdout",
     "output_type": "stream",
     "text": [
      "Starting to analyze %  F:\\videos\\ar34motor\\2022_02_03\\135video.mp4\n",
      "F:\\videos\\ar34motor\\2022_02_03  already exists!\n",
      "Loading  F:\\videos\\ar34motor\\2022_02_03\\135video.mp4\n",
      "Duration of video [s]:  10.0 , recorded with  40.0 fps!\n",
      "Overall # of frames:  400  found with (before cropping) frame dimensions:  1440 484\n",
      "Starting to extract posture\n"
     ]
    },
    {
     "name": "stderr",
     "output_type": "stream",
     "text": [
      "  2%|██                                                                              | 10/400 [00:00<00:03, 128.55it/s]\n"
     ]
    },
    {
     "name": "stdout",
     "output_type": "stream",
     "text": [
      "Starting to analyze %  F:\\videos\\ar34motor\\2022_02_03\\136video.mp4\n",
      "F:\\videos\\ar34motor\\2022_02_03  already exists!\n",
      "Loading  F:\\videos\\ar34motor\\2022_02_03\\136video.mp4\n",
      "Duration of video [s]:  10.0 , recorded with  40.0 fps!\n",
      "Overall # of frames:  400  found with (before cropping) frame dimensions:  1440 484\n",
      "Starting to extract posture\n"
     ]
    },
    {
     "name": "stderr",
     "output_type": "stream",
     "text": [
      "  2%|██                                                                              | 10/400 [00:00<00:03, 123.79it/s]\n"
     ]
    },
    {
     "name": "stdout",
     "output_type": "stream",
     "text": [
      "Starting to analyze %  F:\\videos\\ar34motor\\2022_02_03\\137video.mp4\n",
      "F:\\videos\\ar34motor\\2022_02_03  already exists!\n",
      "Loading  F:\\videos\\ar34motor\\2022_02_03\\137video.mp4\n",
      "Duration of video [s]:  10.0 , recorded with  40.0 fps!\n",
      "Overall # of frames:  400  found with (before cropping) frame dimensions:  1440 484\n",
      "Starting to extract posture\n"
     ]
    },
    {
     "name": "stderr",
     "output_type": "stream",
     "text": [
      "  2%|██                                                                              | 10/400 [00:00<00:02, 133.69it/s]\n"
     ]
    },
    {
     "name": "stdout",
     "output_type": "stream",
     "text": [
      "Starting to analyze %  F:\\videos\\ar34motor\\2022_02_03\\138video.mp4\n",
      "F:\\videos\\ar34motor\\2022_02_03  already exists!\n",
      "Loading  F:\\videos\\ar34motor\\2022_02_03\\138video.mp4\n",
      "Duration of video [s]:  10.0 , recorded with  40.0 fps!\n",
      "Overall # of frames:  400  found with (before cropping) frame dimensions:  1440 484\n",
      "Starting to extract posture\n"
     ]
    },
    {
     "name": "stderr",
     "output_type": "stream",
     "text": [
      "  2%|██                                                                              | 10/400 [00:00<00:03, 113.94it/s]\n"
     ]
    },
    {
     "name": "stdout",
     "output_type": "stream",
     "text": [
      "Starting to analyze %  F:\\videos\\ar34motor\\2022_02_03\\139video.mp4\n",
      "F:\\videos\\ar34motor\\2022_02_03  already exists!\n",
      "Loading  F:\\videos\\ar34motor\\2022_02_03\\139video.mp4\n",
      "Duration of video [s]:  10.0 , recorded with  40.0 fps!\n",
      "Overall # of frames:  400  found with (before cropping) frame dimensions:  1440 484\n",
      "Starting to extract posture\n"
     ]
    },
    {
     "name": "stderr",
     "output_type": "stream",
     "text": [
      "  2%|██                                                                              | 10/400 [00:00<00:03, 122.28it/s]\n"
     ]
    },
    {
     "name": "stdout",
     "output_type": "stream",
     "text": [
      "Starting to analyze %  F:\\videos\\ar34motor\\2022_02_03\\13video.mp4\n",
      "F:\\videos\\ar34motor\\2022_02_03  already exists!\n",
      "Loading  F:\\videos\\ar34motor\\2022_02_03\\13video.mp4\n",
      "Duration of video [s]:  10.0 , recorded with  40.0 fps!\n",
      "Overall # of frames:  400  found with (before cropping) frame dimensions:  1440 484\n",
      "Starting to extract posture\n"
     ]
    },
    {
     "name": "stderr",
     "output_type": "stream",
     "text": [
      "  2%|██                                                                              | 10/400 [00:00<00:02, 131.93it/s]\n"
     ]
    },
    {
     "name": "stdout",
     "output_type": "stream",
     "text": [
      "Starting to analyze %  F:\\videos\\ar34motor\\2022_02_03\\140video.mp4\n",
      "F:\\videos\\ar34motor\\2022_02_03  already exists!\n",
      "Loading  F:\\videos\\ar34motor\\2022_02_03\\140video.mp4\n",
      "Duration of video [s]:  10.0 , recorded with  40.0 fps!\n",
      "Overall # of frames:  400  found with (before cropping) frame dimensions:  1440 484\n",
      "Starting to extract posture\n"
     ]
    },
    {
     "name": "stderr",
     "output_type": "stream",
     "text": [
      "  2%|██                                                                               | 10/400 [00:00<00:04, 84.61it/s]\n"
     ]
    },
    {
     "name": "stdout",
     "output_type": "stream",
     "text": [
      "Starting to analyze %  F:\\videos\\ar34motor\\2022_02_03\\141video.mp4\n",
      "F:\\videos\\ar34motor\\2022_02_03  already exists!\n",
      "Loading  F:\\videos\\ar34motor\\2022_02_03\\141video.mp4\n",
      "Duration of video [s]:  10.0 , recorded with  40.0 fps!\n",
      "Overall # of frames:  400  found with (before cropping) frame dimensions:  1440 484\n",
      "Starting to extract posture\n"
     ]
    },
    {
     "name": "stderr",
     "output_type": "stream",
     "text": [
      "  2%|██                                                                              | 10/400 [00:00<00:02, 131.97it/s]\n"
     ]
    },
    {
     "name": "stdout",
     "output_type": "stream",
     "text": [
      "Starting to analyze %  F:\\videos\\ar34motor\\2022_02_03\\142video.mp4\n",
      "F:\\videos\\ar34motor\\2022_02_03  already exists!\n",
      "Loading  F:\\videos\\ar34motor\\2022_02_03\\142video.mp4\n",
      "Duration of video [s]:  10.0 , recorded with  40.0 fps!\n",
      "Overall # of frames:  400  found with (before cropping) frame dimensions:  1440 484\n",
      "Starting to extract posture\n"
     ]
    },
    {
     "name": "stderr",
     "output_type": "stream",
     "text": [
      "  2%|██                                                                              | 10/400 [00:00<00:03, 123.79it/s]\n"
     ]
    },
    {
     "name": "stdout",
     "output_type": "stream",
     "text": [
      "Starting to analyze %  F:\\videos\\ar34motor\\2022_02_03\\143video.mp4\n",
      "F:\\videos\\ar34motor\\2022_02_03  already exists!\n",
      "Loading  F:\\videos\\ar34motor\\2022_02_03\\143video.mp4\n",
      "Duration of video [s]:  10.0 , recorded with  40.0 fps!\n",
      "Overall # of frames:  400  found with (before cropping) frame dimensions:  1440 484\n",
      "Starting to extract posture\n"
     ]
    },
    {
     "name": "stderr",
     "output_type": "stream",
     "text": [
      "  2%|██                                                                              | 10/400 [00:00<00:03, 125.61it/s]\n"
     ]
    },
    {
     "name": "stdout",
     "output_type": "stream",
     "text": [
      "Starting to analyze %  F:\\videos\\ar34motor\\2022_02_03\\144video.mp4\n",
      "F:\\videos\\ar34motor\\2022_02_03  already exists!\n",
      "Loading  F:\\videos\\ar34motor\\2022_02_03\\144video.mp4\n",
      "Duration of video [s]:  10.0 , recorded with  40.0 fps!\n",
      "Overall # of frames:  400  found with (before cropping) frame dimensions:  1440 484\n",
      "Starting to extract posture\n"
     ]
    },
    {
     "name": "stderr",
     "output_type": "stream",
     "text": [
      "  2%|██                                                                              | 10/400 [00:00<00:03, 125.33it/s]\n"
     ]
    },
    {
     "name": "stdout",
     "output_type": "stream",
     "text": [
      "Starting to analyze %  F:\\videos\\ar34motor\\2022_02_03\\145video.mp4\n",
      "F:\\videos\\ar34motor\\2022_02_03  already exists!\n",
      "Loading  F:\\videos\\ar34motor\\2022_02_03\\145video.mp4\n",
      "Duration of video [s]:  10.0 , recorded with  40.0 fps!\n",
      "Overall # of frames:  400  found with (before cropping) frame dimensions:  1440 484\n",
      "Starting to extract posture\n"
     ]
    },
    {
     "name": "stderr",
     "output_type": "stream",
     "text": [
      "  2%|██                                                                              | 10/400 [00:00<00:03, 104.44it/s]\n"
     ]
    },
    {
     "name": "stdout",
     "output_type": "stream",
     "text": [
      "Starting to analyze %  F:\\videos\\ar34motor\\2022_02_03\\146video.mp4\n",
      "F:\\videos\\ar34motor\\2022_02_03  already exists!\n",
      "Loading  F:\\videos\\ar34motor\\2022_02_03\\146video.mp4\n",
      "Duration of video [s]:  10.0 , recorded with  40.0 fps!\n",
      "Overall # of frames:  400  found with (before cropping) frame dimensions:  1440 484\n",
      "Starting to extract posture\n"
     ]
    },
    {
     "name": "stderr",
     "output_type": "stream",
     "text": [
      "  2%|██                                                                              | 10/400 [00:00<00:03, 112.01it/s]\n"
     ]
    },
    {
     "name": "stdout",
     "output_type": "stream",
     "text": [
      "Starting to analyze %  F:\\videos\\ar34motor\\2022_02_03\\147video.mp4\n",
      "F:\\videos\\ar34motor\\2022_02_03  already exists!\n",
      "Loading  F:\\videos\\ar34motor\\2022_02_03\\147video.mp4\n",
      "Duration of video [s]:  10.0 , recorded with  40.0 fps!\n",
      "Overall # of frames:  400  found with (before cropping) frame dimensions:  1440 484\n",
      "Starting to extract posture\n"
     ]
    },
    {
     "name": "stderr",
     "output_type": "stream",
     "text": [
      "  2%|██                                                                              | 10/400 [00:00<00:03, 122.28it/s]\n"
     ]
    },
    {
     "name": "stdout",
     "output_type": "stream",
     "text": [
      "Starting to analyze %  F:\\videos\\ar34motor\\2022_02_03\\148video.mp4\n",
      "F:\\videos\\ar34motor\\2022_02_03  already exists!\n",
      "Loading  F:\\videos\\ar34motor\\2022_02_03\\148video.mp4\n",
      "Duration of video [s]:  10.0 , recorded with  40.0 fps!\n",
      "Overall # of frames:  400  found with (before cropping) frame dimensions:  1440 484\n",
      "Starting to extract posture\n"
     ]
    },
    {
     "name": "stderr",
     "output_type": "stream",
     "text": [
      "  2%|██                                                                              | 10/400 [00:00<00:03, 120.81it/s]\n"
     ]
    },
    {
     "name": "stdout",
     "output_type": "stream",
     "text": [
      "Starting to analyze %  F:\\videos\\ar34motor\\2022_02_03\\149video.mp4\n",
      "F:\\videos\\ar34motor\\2022_02_03  already exists!\n",
      "Loading  F:\\videos\\ar34motor\\2022_02_03\\149video.mp4\n",
      "Duration of video [s]:  10.0 , recorded with  40.0 fps!\n",
      "Overall # of frames:  400  found with (before cropping) frame dimensions:  1440 484\n",
      "Starting to extract posture\n"
     ]
    },
    {
     "name": "stderr",
     "output_type": "stream",
     "text": [
      "  2%|██                                                                              | 10/400 [00:00<00:03, 126.17it/s]\n"
     ]
    },
    {
     "name": "stdout",
     "output_type": "stream",
     "text": [
      "Starting to analyze %  F:\\videos\\ar34motor\\2022_02_03\\14video.mp4\n",
      "F:\\videos\\ar34motor\\2022_02_03  already exists!\n",
      "Loading  F:\\videos\\ar34motor\\2022_02_03\\14video.mp4\n",
      "Duration of video [s]:  10.0 , recorded with  40.0 fps!\n",
      "Overall # of frames:  400  found with (before cropping) frame dimensions:  1440 484\n",
      "Starting to extract posture\n"
     ]
    },
    {
     "name": "stderr",
     "output_type": "stream",
     "text": [
      "  2%|██                                                                              | 10/400 [00:00<00:03, 129.70it/s]\n"
     ]
    },
    {
     "name": "stdout",
     "output_type": "stream",
     "text": [
      "Starting to analyze %  F:\\videos\\ar34motor\\2022_02_03\\150video.mp4\n",
      "F:\\videos\\ar34motor\\2022_02_03  already exists!\n",
      "Loading  F:\\videos\\ar34motor\\2022_02_03\\150video.mp4\n",
      "Duration of video [s]:  10.0 , recorded with  40.0 fps!\n",
      "Overall # of frames:  400  found with (before cropping) frame dimensions:  1440 484\n",
      "Starting to extract posture\n"
     ]
    },
    {
     "name": "stderr",
     "output_type": "stream",
     "text": [
      "  2%|██                                                                              | 10/400 [00:00<00:02, 131.93it/s]\n"
     ]
    },
    {
     "name": "stdout",
     "output_type": "stream",
     "text": [
      "Starting to analyze %  F:\\videos\\ar34motor\\2022_02_03\\151video.mp4\n",
      "F:\\videos\\ar34motor\\2022_02_03  already exists!\n",
      "Loading  F:\\videos\\ar34motor\\2022_02_03\\151video.mp4\n",
      "Duration of video [s]:  10.0 , recorded with  40.0 fps!\n",
      "Overall # of frames:  400  found with (before cropping) frame dimensions:  1440 484\n",
      "Starting to extract posture\n"
     ]
    },
    {
     "name": "stderr",
     "output_type": "stream",
     "text": [
      "  2%|██                                                                              | 10/400 [00:00<00:03, 108.99it/s]\n"
     ]
    },
    {
     "name": "stdout",
     "output_type": "stream",
     "text": [
      "Starting to analyze %  F:\\videos\\ar34motor\\2022_02_03\\152video.mp4\n",
      "F:\\videos\\ar34motor\\2022_02_03  already exists!\n",
      "Loading  F:\\videos\\ar34motor\\2022_02_03\\152video.mp4\n",
      "Duration of video [s]:  10.0 , recorded with  40.0 fps!\n",
      "Overall # of frames:  400  found with (before cropping) frame dimensions:  1440 484\n",
      "Starting to extract posture\n"
     ]
    },
    {
     "name": "stderr",
     "output_type": "stream",
     "text": [
      "  2%|██                                                                              | 10/400 [00:00<00:03, 125.33it/s]\n"
     ]
    },
    {
     "name": "stdout",
     "output_type": "stream",
     "text": [
      "Starting to analyze %  F:\\videos\\ar34motor\\2022_02_03\\153video.mp4\n",
      "F:\\videos\\ar34motor\\2022_02_03  already exists!\n",
      "Loading  F:\\videos\\ar34motor\\2022_02_03\\153video.mp4\n",
      "Duration of video [s]:  10.0 , recorded with  40.0 fps!\n",
      "Overall # of frames:  400  found with (before cropping) frame dimensions:  1440 484\n",
      "Starting to extract posture\n"
     ]
    },
    {
     "name": "stderr",
     "output_type": "stream",
     "text": [
      "  2%|██                                                                              | 10/400 [00:00<00:02, 134.18it/s]\n"
     ]
    },
    {
     "name": "stdout",
     "output_type": "stream",
     "text": [
      "Starting to analyze %  F:\\videos\\ar34motor\\2022_02_03\\154video.mp4\n",
      "F:\\videos\\ar34motor\\2022_02_03  already exists!\n",
      "Loading  F:\\videos\\ar34motor\\2022_02_03\\154video.mp4\n",
      "Duration of video [s]:  10.0 , recorded with  40.0 fps!\n",
      "Overall # of frames:  400  found with (before cropping) frame dimensions:  1440 484\n",
      "Starting to extract posture\n"
     ]
    },
    {
     "name": "stderr",
     "output_type": "stream",
     "text": [
      "  2%|██                                                                               | 10/400 [00:00<00:04, 97.32it/s]\n"
     ]
    },
    {
     "name": "stdout",
     "output_type": "stream",
     "text": [
      "Starting to analyze %  F:\\videos\\ar34motor\\2022_02_03\\155video.mp4\n",
      "F:\\videos\\ar34motor\\2022_02_03  already exists!\n",
      "Loading  F:\\videos\\ar34motor\\2022_02_03\\155video.mp4\n",
      "Duration of video [s]:  10.0 , recorded with  40.0 fps!\n",
      "Overall # of frames:  400  found with (before cropping) frame dimensions:  1440 484\n",
      "Starting to extract posture\n"
     ]
    },
    {
     "name": "stderr",
     "output_type": "stream",
     "text": [
      "  2%|██                                                                              | 10/400 [00:00<00:03, 126.88it/s]\n"
     ]
    },
    {
     "name": "stdout",
     "output_type": "stream",
     "text": [
      "Starting to analyze %  F:\\videos\\ar34motor\\2022_02_03\\156video.mp4\n",
      "F:\\videos\\ar34motor\\2022_02_03  already exists!\n",
      "Loading  F:\\videos\\ar34motor\\2022_02_03\\156video.mp4\n",
      "Duration of video [s]:  10.0 , recorded with  40.0 fps!\n",
      "Overall # of frames:  400  found with (before cropping) frame dimensions:  1440 484\n",
      "Starting to extract posture\n"
     ]
    },
    {
     "name": "stderr",
     "output_type": "stream",
     "text": [
      "  2%|██                                                                              | 10/400 [00:00<00:03, 102.31it/s]\n"
     ]
    },
    {
     "name": "stdout",
     "output_type": "stream",
     "text": [
      "Starting to analyze %  F:\\videos\\ar34motor\\2022_02_03\\157video.mp4\n",
      "F:\\videos\\ar34motor\\2022_02_03  already exists!\n",
      "Loading  F:\\videos\\ar34motor\\2022_02_03\\157video.mp4\n",
      "Duration of video [s]:  10.0 , recorded with  40.0 fps!\n",
      "Overall # of frames:  400  found with (before cropping) frame dimensions:  1440 484\n",
      "Starting to extract posture\n"
     ]
    },
    {
     "name": "stderr",
     "output_type": "stream",
     "text": [
      "  2%|██                                                                              | 10/400 [00:00<00:03, 113.94it/s]\n"
     ]
    },
    {
     "name": "stdout",
     "output_type": "stream",
     "text": [
      "Starting to analyze %  F:\\videos\\ar34motor\\2022_02_03\\158video.mp4\n",
      "F:\\videos\\ar34motor\\2022_02_03  already exists!\n",
      "Loading  F:\\videos\\ar34motor\\2022_02_03\\158video.mp4\n",
      "Duration of video [s]:  10.0 , recorded with  40.0 fps!\n",
      "Overall # of frames:  400  found with (before cropping) frame dimensions:  1440 484\n",
      "Starting to extract posture\n"
     ]
    },
    {
     "name": "stderr",
     "output_type": "stream",
     "text": [
      "  2%|██                                                                              | 10/400 [00:00<00:03, 122.28it/s]\n"
     ]
    },
    {
     "name": "stdout",
     "output_type": "stream",
     "text": [
      "Starting to analyze %  F:\\videos\\ar34motor\\2022_02_03\\15video.mp4\n",
      "F:\\videos\\ar34motor\\2022_02_03  already exists!\n",
      "Loading  F:\\videos\\ar34motor\\2022_02_03\\15video.mp4\n",
      "Duration of video [s]:  10.0 , recorded with  40.0 fps!\n",
      "Overall # of frames:  400  found with (before cropping) frame dimensions:  1440 484\n",
      "Starting to extract posture\n"
     ]
    },
    {
     "name": "stderr",
     "output_type": "stream",
     "text": [
      "  2%|██                                                                              | 10/400 [00:00<00:03, 118.64it/s]\n"
     ]
    },
    {
     "name": "stdout",
     "output_type": "stream",
     "text": [
      "Starting to analyze %  F:\\videos\\ar34motor\\2022_02_03\\16video.mp4\n",
      "F:\\videos\\ar34motor\\2022_02_03  already exists!\n",
      "Loading  F:\\videos\\ar34motor\\2022_02_03\\16video.mp4\n",
      "Duration of video [s]:  10.0 , recorded with  40.0 fps!\n",
      "Overall # of frames:  400  found with (before cropping) frame dimensions:  1440 484\n",
      "Starting to extract posture\n"
     ]
    },
    {
     "name": "stderr",
     "output_type": "stream",
     "text": [
      "  2%|██                                                                              | 10/400 [00:00<00:03, 123.74it/s]\n"
     ]
    },
    {
     "name": "stdout",
     "output_type": "stream",
     "text": [
      "Starting to analyze %  F:\\videos\\ar34motor\\2022_02_03\\17video.mp4\n",
      "F:\\videos\\ar34motor\\2022_02_03  already exists!\n",
      "Loading  F:\\videos\\ar34motor\\2022_02_03\\17video.mp4\n",
      "Duration of video [s]:  10.0 , recorded with  40.0 fps!\n",
      "Overall # of frames:  400  found with (before cropping) frame dimensions:  1440 484\n",
      "Starting to extract posture\n"
     ]
    },
    {
     "name": "stderr",
     "output_type": "stream",
     "text": [
      "  2%|██                                                                              | 10/400 [00:00<00:02, 135.44it/s]\n"
     ]
    },
    {
     "name": "stdout",
     "output_type": "stream",
     "text": [
      "Starting to analyze %  F:\\videos\\ar34motor\\2022_02_03\\18video.mp4\n",
      "F:\\videos\\ar34motor\\2022_02_03  already exists!\n",
      "Loading  F:\\videos\\ar34motor\\2022_02_03\\18video.mp4\n",
      "Duration of video [s]:  10.0 , recorded with  40.0 fps!\n",
      "Overall # of frames:  400  found with (before cropping) frame dimensions:  1440 484\n",
      "Starting to extract posture\n"
     ]
    },
    {
     "name": "stderr",
     "output_type": "stream",
     "text": [
      "  2%|██                                                                              | 10/400 [00:00<00:03, 122.28it/s]\n"
     ]
    },
    {
     "name": "stdout",
     "output_type": "stream",
     "text": [
      "Starting to analyze %  F:\\videos\\ar34motor\\2022_02_03\\19video.mp4\n",
      "F:\\videos\\ar34motor\\2022_02_03  already exists!\n",
      "Loading  F:\\videos\\ar34motor\\2022_02_03\\19video.mp4\n",
      "Duration of video [s]:  10.0 , recorded with  40.0 fps!\n",
      "Overall # of frames:  400  found with (before cropping) frame dimensions:  1440 484\n",
      "Starting to extract posture\n"
     ]
    },
    {
     "name": "stderr",
     "output_type": "stream",
     "text": [
      "  2%|██                                                                              | 10/400 [00:00<00:02, 133.69it/s]\n"
     ]
    },
    {
     "name": "stdout",
     "output_type": "stream",
     "text": [
      "Starting to analyze %  F:\\videos\\ar34motor\\2022_02_03\\1video.mp4\n",
      "F:\\videos\\ar34motor\\2022_02_03  already exists!\n",
      "Loading  F:\\videos\\ar34motor\\2022_02_03\\1video.mp4\n",
      "Duration of video [s]:  10.0 , recorded with  40.0 fps!\n",
      "Overall # of frames:  400  found with (before cropping) frame dimensions:  1440 484\n",
      "Starting to extract posture\n"
     ]
    },
    {
     "name": "stderr",
     "output_type": "stream",
     "text": [
      "  2%|██                                                                              | 10/400 [00:00<00:03, 125.34it/s]\n"
     ]
    },
    {
     "name": "stdout",
     "output_type": "stream",
     "text": [
      "Starting to analyze %  F:\\videos\\ar34motor\\2022_02_03\\20video.mp4\n",
      "F:\\videos\\ar34motor\\2022_02_03  already exists!\n",
      "Loading  F:\\videos\\ar34motor\\2022_02_03\\20video.mp4\n",
      "Duration of video [s]:  10.0 , recorded with  40.0 fps!\n",
      "Overall # of frames:  400  found with (before cropping) frame dimensions:  1440 484\n",
      "Starting to extract posture\n"
     ]
    },
    {
     "name": "stderr",
     "output_type": "stream",
     "text": [
      "  2%|██                                                                              | 10/400 [00:00<00:03, 128.55it/s]\n"
     ]
    },
    {
     "name": "stdout",
     "output_type": "stream",
     "text": [
      "Starting to analyze %  F:\\videos\\ar34motor\\2022_02_03\\21video.mp4\n",
      "F:\\videos\\ar34motor\\2022_02_03  already exists!\n",
      "Loading  F:\\videos\\ar34motor\\2022_02_03\\21video.mp4\n",
      "Duration of video [s]:  10.0 , recorded with  40.0 fps!\n",
      "Overall # of frames:  400  found with (before cropping) frame dimensions:  1440 484\n",
      "Starting to extract posture\n"
     ]
    },
    {
     "name": "stderr",
     "output_type": "stream",
     "text": [
      "  2%|██                                                                              | 10/400 [00:00<00:03, 105.55it/s]\n"
     ]
    },
    {
     "name": "stdout",
     "output_type": "stream",
     "text": [
      "Starting to analyze %  F:\\videos\\ar34motor\\2022_02_03\\22video.mp4\n",
      "F:\\videos\\ar34motor\\2022_02_03  already exists!\n",
      "Loading  F:\\videos\\ar34motor\\2022_02_03\\22video.mp4\n",
      "Duration of video [s]:  10.0 , recorded with  40.0 fps!\n",
      "Overall # of frames:  400  found with (before cropping) frame dimensions:  1440 484\n",
      "Starting to extract posture\n"
     ]
    },
    {
     "name": "stderr",
     "output_type": "stream",
     "text": [
      "  2%|██                                                                              | 10/400 [00:00<00:02, 130.22it/s]\n"
     ]
    },
    {
     "name": "stdout",
     "output_type": "stream",
     "text": [
      "Starting to analyze %  F:\\videos\\ar34motor\\2022_02_03\\23video.mp4\n",
      "F:\\videos\\ar34motor\\2022_02_03  already exists!\n",
      "Loading  F:\\videos\\ar34motor\\2022_02_03\\23video.mp4\n",
      "Duration of video [s]:  10.0 , recorded with  40.0 fps!\n",
      "Overall # of frames:  400  found with (before cropping) frame dimensions:  1440 484\n",
      "Starting to extract posture\n"
     ]
    },
    {
     "name": "stderr",
     "output_type": "stream",
     "text": [
      "  2%|██                                                                              | 10/400 [00:00<00:03, 123.79it/s]\n"
     ]
    },
    {
     "name": "stdout",
     "output_type": "stream",
     "text": [
      "Starting to analyze %  F:\\videos\\ar34motor\\2022_02_03\\24video.mp4\n",
      "F:\\videos\\ar34motor\\2022_02_03  already exists!\n",
      "Loading  F:\\videos\\ar34motor\\2022_02_03\\24video.mp4\n",
      "Duration of video [s]:  10.0 , recorded with  40.0 fps!\n",
      "Overall # of frames:  400  found with (before cropping) frame dimensions:  1440 484\n",
      "Starting to extract posture\n"
     ]
    },
    {
     "name": "stderr",
     "output_type": "stream",
     "text": [
      "  2%|██                                                                              | 10/400 [00:00<00:03, 129.36it/s]\n"
     ]
    },
    {
     "name": "stdout",
     "output_type": "stream",
     "text": [
      "Starting to analyze %  F:\\videos\\ar34motor\\2022_02_03\\25video.mp4\n",
      "F:\\videos\\ar34motor\\2022_02_03  already exists!\n",
      "Loading  F:\\videos\\ar34motor\\2022_02_03\\25video.mp4\n",
      "Duration of video [s]:  10.0 , recorded with  40.0 fps!\n",
      "Overall # of frames:  400  found with (before cropping) frame dimensions:  1440 484\n",
      "Starting to extract posture\n"
     ]
    },
    {
     "name": "stderr",
     "output_type": "stream",
     "text": [
      "  2%|██                                                                              | 10/400 [00:00<00:03, 119.37it/s]\n"
     ]
    },
    {
     "name": "stdout",
     "output_type": "stream",
     "text": [
      "Starting to analyze %  F:\\videos\\ar34motor\\2022_02_03\\26video.mp4\n",
      "F:\\videos\\ar34motor\\2022_02_03  already exists!\n",
      "Loading  F:\\videos\\ar34motor\\2022_02_03\\26video.mp4\n",
      "Duration of video [s]:  10.0 , recorded with  40.0 fps!\n",
      "Overall # of frames:  400  found with (before cropping) frame dimensions:  1440 484\n",
      "Starting to extract posture\n"
     ]
    },
    {
     "name": "stderr",
     "output_type": "stream",
     "text": [
      "  2%|██                                                                              | 10/400 [00:00<00:02, 131.93it/s]\n"
     ]
    },
    {
     "name": "stdout",
     "output_type": "stream",
     "text": [
      "Starting to analyze %  F:\\videos\\ar34motor\\2022_02_03\\27video.mp4\n",
      "F:\\videos\\ar34motor\\2022_02_03  already exists!\n",
      "Loading  F:\\videos\\ar34motor\\2022_02_03\\27video.mp4\n",
      "Duration of video [s]:  10.0 , recorded with  40.0 fps!\n",
      "Overall # of frames:  400  found with (before cropping) frame dimensions:  1440 484\n",
      "Starting to extract posture\n"
     ]
    },
    {
     "name": "stderr",
     "output_type": "stream",
     "text": [
      "  2%|██                                                                              | 10/400 [00:00<00:03, 119.37it/s]\n"
     ]
    },
    {
     "name": "stdout",
     "output_type": "stream",
     "text": [
      "Starting to analyze %  F:\\videos\\ar34motor\\2022_02_03\\28video.mp4\n",
      "F:\\videos\\ar34motor\\2022_02_03  already exists!\n",
      "Loading  F:\\videos\\ar34motor\\2022_02_03\\28video.mp4\n",
      "Duration of video [s]:  10.0 , recorded with  40.0 fps!\n",
      "Overall # of frames:  400  found with (before cropping) frame dimensions:  1440 484\n",
      "Starting to extract posture\n"
     ]
    },
    {
     "name": "stderr",
     "output_type": "stream",
     "text": [
      "  2%|██                                                                              | 10/400 [00:00<00:03, 122.91it/s]\n"
     ]
    },
    {
     "name": "stdout",
     "output_type": "stream",
     "text": [
      "Starting to analyze %  F:\\videos\\ar34motor\\2022_02_03\\29video.mp4\n",
      "F:\\videos\\ar34motor\\2022_02_03  already exists!\n",
      "Loading  F:\\videos\\ar34motor\\2022_02_03\\29video.mp4\n",
      "Duration of video [s]:  10.0 , recorded with  40.0 fps!\n",
      "Overall # of frames:  400  found with (before cropping) frame dimensions:  1440 484\n",
      "Starting to extract posture\n"
     ]
    },
    {
     "name": "stderr",
     "output_type": "stream",
     "text": [
      "  2%|██                                                                              | 10/400 [00:00<00:02, 130.22it/s]\n"
     ]
    },
    {
     "name": "stdout",
     "output_type": "stream",
     "text": [
      "Starting to analyze %  F:\\videos\\ar34motor\\2022_02_03\\2video.mp4\n",
      "F:\\videos\\ar34motor\\2022_02_03  already exists!\n",
      "Loading  F:\\videos\\ar34motor\\2022_02_03\\2video.mp4\n",
      "Duration of video [s]:  10.0 , recorded with  40.0 fps!\n",
      "Overall # of frames:  400  found with (before cropping) frame dimensions:  1440 484\n",
      "Starting to extract posture\n"
     ]
    },
    {
     "name": "stderr",
     "output_type": "stream",
     "text": [
      "  2%|██                                                                               | 10/400 [00:00<00:03, 98.72it/s]\n"
     ]
    },
    {
     "name": "stdout",
     "output_type": "stream",
     "text": [
      "Starting to analyze %  F:\\videos\\ar34motor\\2022_02_03\\30video.mp4\n",
      "F:\\videos\\ar34motor\\2022_02_03  already exists!\n",
      "Loading  F:\\videos\\ar34motor\\2022_02_03\\30video.mp4\n",
      "Duration of video [s]:  10.0 , recorded with  40.0 fps!\n",
      "Overall # of frames:  400  found with (before cropping) frame dimensions:  1440 484\n",
      "Starting to extract posture\n"
     ]
    },
    {
     "name": "stderr",
     "output_type": "stream",
     "text": [
      "  2%|██                                                                              | 10/400 [00:00<00:03, 120.80it/s]\n"
     ]
    },
    {
     "name": "stdout",
     "output_type": "stream",
     "text": [
      "Starting to analyze %  F:\\videos\\ar34motor\\2022_02_03\\31video.mp4\n",
      "F:\\videos\\ar34motor\\2022_02_03  already exists!\n",
      "Loading  F:\\videos\\ar34motor\\2022_02_03\\31video.mp4\n",
      "Duration of video [s]:  10.0 , recorded with  40.0 fps!\n",
      "Overall # of frames:  400  found with (before cropping) frame dimensions:  1440 484\n",
      "Starting to extract posture\n"
     ]
    },
    {
     "name": "stderr",
     "output_type": "stream",
     "text": [
      "  2%|██                                                                              | 10/400 [00:00<00:03, 118.65it/s]\n"
     ]
    },
    {
     "name": "stdout",
     "output_type": "stream",
     "text": [
      "Starting to analyze %  F:\\videos\\ar34motor\\2022_02_03\\32video.mp4\n",
      "F:\\videos\\ar34motor\\2022_02_03  already exists!\n",
      "Loading  F:\\videos\\ar34motor\\2022_02_03\\32video.mp4\n",
      "Duration of video [s]:  10.0 , recorded with  40.0 fps!\n",
      "Overall # of frames:  400  found with (before cropping) frame dimensions:  1440 484\n",
      "Starting to extract posture\n"
     ]
    },
    {
     "name": "stderr",
     "output_type": "stream",
     "text": [
      "  2%|██                                                                               | 10/400 [00:00<00:16, 24.27it/s]\n"
     ]
    },
    {
     "name": "stdout",
     "output_type": "stream",
     "text": [
      "Starting to analyze %  F:\\videos\\ar34motor\\2022_02_03\\33video.mp4\n",
      "F:\\videos\\ar34motor\\2022_02_03  already exists!\n",
      "Loading  F:\\videos\\ar34motor\\2022_02_03\\33video.mp4\n",
      "Duration of video [s]:  10.0 , recorded with  40.0 fps!\n",
      "Overall # of frames:  400  found with (before cropping) frame dimensions:  1440 484\n",
      "Starting to extract posture\n"
     ]
    },
    {
     "name": "stderr",
     "output_type": "stream",
     "text": [
      "  2%|██                                                                              | 10/400 [00:00<00:02, 133.69it/s]\n"
     ]
    },
    {
     "name": "stdout",
     "output_type": "stream",
     "text": [
      "Starting to analyze %  F:\\videos\\ar34motor\\2022_02_03\\34video.mp4\n",
      "F:\\videos\\ar34motor\\2022_02_03  already exists!\n",
      "Loading  F:\\videos\\ar34motor\\2022_02_03\\34video.mp4\n",
      "Duration of video [s]:  10.0 , recorded with  40.0 fps!\n",
      "Overall # of frames:  400  found with (before cropping) frame dimensions:  1440 484\n",
      "Starting to extract posture\n"
     ]
    },
    {
     "name": "stderr",
     "output_type": "stream",
     "text": [
      "  2%|██                                                                              | 10/400 [00:00<00:03, 125.32it/s]\n"
     ]
    },
    {
     "name": "stdout",
     "output_type": "stream",
     "text": [
      "Starting to analyze %  F:\\videos\\ar34motor\\2022_02_03\\35video.mp4\n",
      "F:\\videos\\ar34motor\\2022_02_03  already exists!\n",
      "Loading  F:\\videos\\ar34motor\\2022_02_03\\35video.mp4\n",
      "Duration of video [s]:  10.0 , recorded with  40.0 fps!\n",
      "Overall # of frames:  400  found with (before cropping) frame dimensions:  1440 484\n",
      "Starting to extract posture\n"
     ]
    },
    {
     "name": "stderr",
     "output_type": "stream",
     "text": [
      "  2%|██                                                                              | 10/400 [00:00<00:03, 128.55it/s]\n"
     ]
    },
    {
     "name": "stdout",
     "output_type": "stream",
     "text": [
      "Starting to analyze %  F:\\videos\\ar34motor\\2022_02_03\\36video.mp4\n",
      "F:\\videos\\ar34motor\\2022_02_03  already exists!\n",
      "Loading  F:\\videos\\ar34motor\\2022_02_03\\36video.mp4\n",
      "Duration of video [s]:  10.0 , recorded with  40.0 fps!\n",
      "Overall # of frames:  400  found with (before cropping) frame dimensions:  1440 484\n",
      "Starting to extract posture\n"
     ]
    },
    {
     "name": "stderr",
     "output_type": "stream",
     "text": [
      "  2%|██                                                                              | 10/400 [00:00<00:03, 115.25it/s]\n"
     ]
    },
    {
     "name": "stdout",
     "output_type": "stream",
     "text": [
      "Starting to analyze %  F:\\videos\\ar34motor\\2022_02_03\\37video.mp4\n",
      "F:\\videos\\ar34motor\\2022_02_03  already exists!\n",
      "Loading  F:\\videos\\ar34motor\\2022_02_03\\37video.mp4\n",
      "Duration of video [s]:  10.0 , recorded with  40.0 fps!\n",
      "Overall # of frames:  400  found with (before cropping) frame dimensions:  1440 484\n",
      "Starting to extract posture\n"
     ]
    },
    {
     "name": "stderr",
     "output_type": "stream",
     "text": [
      "  2%|██                                                                              | 10/400 [00:00<00:03, 103.86it/s]\n"
     ]
    },
    {
     "name": "stdout",
     "output_type": "stream",
     "text": [
      "Starting to analyze %  F:\\videos\\ar34motor\\2022_02_03\\38video.mp4\n",
      "F:\\videos\\ar34motor\\2022_02_03  already exists!\n",
      "Loading  F:\\videos\\ar34motor\\2022_02_03\\38video.mp4\n",
      "Duration of video [s]:  10.0 , recorded with  40.0 fps!\n",
      "Overall # of frames:  400  found with (before cropping) frame dimensions:  1440 484\n",
      "Starting to extract posture\n"
     ]
    },
    {
     "name": "stderr",
     "output_type": "stream",
     "text": [
      "  2%|██                                                                               | 10/400 [00:00<00:05, 65.96it/s]\n"
     ]
    },
    {
     "name": "stdout",
     "output_type": "stream",
     "text": [
      "Starting to analyze %  F:\\videos\\ar34motor\\2022_02_03\\39video.mp4\n",
      "F:\\videos\\ar34motor\\2022_02_03  already exists!\n",
      "Loading  F:\\videos\\ar34motor\\2022_02_03\\39video.mp4\n",
      "Duration of video [s]:  10.0 , recorded with  40.0 fps!\n",
      "Overall # of frames:  400  found with (before cropping) frame dimensions:  1440 484\n",
      "Starting to extract posture\n"
     ]
    },
    {
     "name": "stderr",
     "output_type": "stream",
     "text": [
      "  2%|██                                                                              | 10/400 [00:00<00:02, 133.69it/s]\n"
     ]
    },
    {
     "name": "stdout",
     "output_type": "stream",
     "text": [
      "Starting to analyze %  F:\\videos\\ar34motor\\2022_02_03\\3video.mp4\n",
      "F:\\videos\\ar34motor\\2022_02_03  already exists!\n",
      "Loading  F:\\videos\\ar34motor\\2022_02_03\\3video.mp4\n",
      "Duration of video [s]:  10.0 , recorded with  40.0 fps!\n",
      "Overall # of frames:  400  found with (before cropping) frame dimensions:  1440 484\n",
      "Starting to extract posture\n"
     ]
    },
    {
     "name": "stderr",
     "output_type": "stream",
     "text": [
      "  2%|██                                                                              | 10/400 [00:00<00:03, 127.55it/s]\n"
     ]
    },
    {
     "name": "stdout",
     "output_type": "stream",
     "text": [
      "Starting to analyze %  F:\\videos\\ar34motor\\2022_02_03\\40video.mp4\n",
      "F:\\videos\\ar34motor\\2022_02_03  already exists!\n",
      "Loading  F:\\videos\\ar34motor\\2022_02_03\\40video.mp4\n",
      "Duration of video [s]:  10.0 , recorded with  40.0 fps!\n",
      "Overall # of frames:  400  found with (before cropping) frame dimensions:  1440 484\n",
      "Starting to extract posture\n"
     ]
    },
    {
     "name": "stderr",
     "output_type": "stream",
     "text": [
      "  2%|██                                                                              | 10/400 [00:00<00:02, 131.93it/s]\n"
     ]
    },
    {
     "name": "stdout",
     "output_type": "stream",
     "text": [
      "Starting to analyze %  F:\\videos\\ar34motor\\2022_02_03\\41video.mp4\n",
      "F:\\videos\\ar34motor\\2022_02_03  already exists!\n",
      "Loading  F:\\videos\\ar34motor\\2022_02_03\\41video.mp4\n",
      "Duration of video [s]:  10.0 , recorded with  40.0 fps!\n",
      "Overall # of frames:  400  found with (before cropping) frame dimensions:  1440 484\n",
      "Starting to extract posture\n"
     ]
    },
    {
     "name": "stderr",
     "output_type": "stream",
     "text": [
      "  2%|██                                                                              | 10/400 [00:00<00:03, 125.34it/s]\n"
     ]
    },
    {
     "name": "stdout",
     "output_type": "stream",
     "text": [
      "Starting to analyze %  F:\\videos\\ar34motor\\2022_02_03\\42video.mp4\n",
      "F:\\videos\\ar34motor\\2022_02_03  already exists!\n",
      "Loading  F:\\videos\\ar34motor\\2022_02_03\\42video.mp4\n",
      "Duration of video [s]:  10.0 , recorded with  40.0 fps!\n",
      "Overall # of frames:  400  found with (before cropping) frame dimensions:  1440 484\n",
      "Starting to extract posture\n"
     ]
    },
    {
     "name": "stderr",
     "output_type": "stream",
     "text": [
      "  2%|██                                                                              | 10/400 [00:00<00:03, 122.28it/s]\n"
     ]
    },
    {
     "name": "stdout",
     "output_type": "stream",
     "text": [
      "Starting to analyze %  F:\\videos\\ar34motor\\2022_02_03\\43video.mp4\n",
      "F:\\videos\\ar34motor\\2022_02_03  already exists!\n",
      "Loading  F:\\videos\\ar34motor\\2022_02_03\\43video.mp4\n",
      "Duration of video [s]:  10.0 , recorded with  40.0 fps!\n",
      "Overall # of frames:  400  found with (before cropping) frame dimensions:  1440 484\n",
      "Starting to extract posture\n"
     ]
    },
    {
     "name": "stderr",
     "output_type": "stream",
     "text": [
      "  2%|██                                                                              | 10/400 [00:00<00:03, 122.28it/s]\n"
     ]
    },
    {
     "name": "stdout",
     "output_type": "stream",
     "text": [
      "Starting to analyze %  F:\\videos\\ar34motor\\2022_02_03\\44video.mp4\n",
      "F:\\videos\\ar34motor\\2022_02_03  already exists!\n",
      "Loading  F:\\videos\\ar34motor\\2022_02_03\\44video.mp4\n",
      "Duration of video [s]:  10.0 , recorded with  40.0 fps!\n",
      "Overall # of frames:  400  found with (before cropping) frame dimensions:  1440 484\n",
      "Starting to extract posture\n"
     ]
    },
    {
     "name": "stderr",
     "output_type": "stream",
     "text": [
      "  2%|██                                                                              | 10/400 [00:00<00:03, 123.79it/s]\n"
     ]
    },
    {
     "name": "stdout",
     "output_type": "stream",
     "text": [
      "Starting to analyze %  F:\\videos\\ar34motor\\2022_02_03\\45video.mp4\n",
      "F:\\videos\\ar34motor\\2022_02_03  already exists!\n",
      "Loading  F:\\videos\\ar34motor\\2022_02_03\\45video.mp4\n",
      "Duration of video [s]:  10.0 , recorded with  40.0 fps!\n",
      "Overall # of frames:  400  found with (before cropping) frame dimensions:  1440 484\n",
      "Starting to extract posture\n"
     ]
    },
    {
     "name": "stderr",
     "output_type": "stream",
     "text": [
      "  2%|██                                                                              | 10/400 [00:00<00:03, 117.96it/s]\n"
     ]
    },
    {
     "name": "stdout",
     "output_type": "stream",
     "text": [
      "Starting to analyze %  F:\\videos\\ar34motor\\2022_02_03\\46video.mp4\n",
      "F:\\videos\\ar34motor\\2022_02_03  already exists!\n",
      "Loading  F:\\videos\\ar34motor\\2022_02_03\\46video.mp4\n",
      "Duration of video [s]:  10.0 , recorded with  40.0 fps!\n",
      "Overall # of frames:  400  found with (before cropping) frame dimensions:  1440 484\n",
      "Starting to extract posture\n"
     ]
    },
    {
     "name": "stderr",
     "output_type": "stream",
     "text": [
      "  2%|██                                                                              | 10/400 [00:00<00:03, 115.25it/s]\n"
     ]
    },
    {
     "name": "stdout",
     "output_type": "stream",
     "text": [
      "Starting to analyze %  F:\\videos\\ar34motor\\2022_02_03\\47video.mp4\n",
      "F:\\videos\\ar34motor\\2022_02_03  already exists!\n",
      "Loading  F:\\videos\\ar34motor\\2022_02_03\\47video.mp4\n",
      "Duration of video [s]:  10.0 , recorded with  40.0 fps!\n",
      "Overall # of frames:  400  found with (before cropping) frame dimensions:  1440 484\n",
      "Starting to extract posture\n"
     ]
    },
    {
     "name": "stderr",
     "output_type": "stream",
     "text": [
      "  2%|██                                                                               | 10/400 [00:00<00:04, 80.85it/s]\n"
     ]
    },
    {
     "name": "stdout",
     "output_type": "stream",
     "text": [
      "Starting to analyze %  F:\\videos\\ar34motor\\2022_02_03\\48video.mp4\n",
      "F:\\videos\\ar34motor\\2022_02_03  already exists!\n",
      "Loading  F:\\videos\\ar34motor\\2022_02_03\\48video.mp4\n",
      "Duration of video [s]:  10.0 , recorded with  40.0 fps!\n",
      "Overall # of frames:  400  found with (before cropping) frame dimensions:  1440 484\n",
      "Starting to extract posture\n"
     ]
    },
    {
     "name": "stderr",
     "output_type": "stream",
     "text": [
      "  2%|██                                                                              | 10/400 [00:00<00:03, 126.92it/s]\n"
     ]
    },
    {
     "name": "stdout",
     "output_type": "stream",
     "text": [
      "Starting to analyze %  F:\\videos\\ar34motor\\2022_02_03\\49video.mp4\n",
      "F:\\videos\\ar34motor\\2022_02_03  already exists!\n",
      "Loading  F:\\videos\\ar34motor\\2022_02_03\\49video.mp4\n",
      "Duration of video [s]:  10.0 , recorded with  40.0 fps!\n",
      "Overall # of frames:  400  found with (before cropping) frame dimensions:  1440 484\n",
      "Starting to extract posture\n"
     ]
    },
    {
     "name": "stderr",
     "output_type": "stream",
     "text": [
      "  2%|██                                                                              | 10/400 [00:00<00:02, 131.32it/s]\n"
     ]
    },
    {
     "name": "stdout",
     "output_type": "stream",
     "text": [
      "Starting to analyze %  F:\\videos\\ar34motor\\2022_02_03\\4video.mp4\n",
      "F:\\videos\\ar34motor\\2022_02_03  already exists!\n",
      "Loading  F:\\videos\\ar34motor\\2022_02_03\\4video.mp4\n",
      "Duration of video [s]:  10.0 , recorded with  40.0 fps!\n",
      "Overall # of frames:  400  found with (before cropping) frame dimensions:  1440 484\n",
      "Starting to extract posture\n"
     ]
    },
    {
     "name": "stderr",
     "output_type": "stream",
     "text": [
      "  2%|██                                                                              | 10/400 [00:00<00:03, 118.24it/s]\n"
     ]
    },
    {
     "name": "stdout",
     "output_type": "stream",
     "text": [
      "Starting to analyze %  F:\\videos\\ar34motor\\2022_02_03\\50video.mp4\n",
      "F:\\videos\\ar34motor\\2022_02_03  already exists!\n",
      "Loading  F:\\videos\\ar34motor\\2022_02_03\\50video.mp4\n",
      "Duration of video [s]:  10.0 , recorded with  40.0 fps!\n",
      "Overall # of frames:  400  found with (before cropping) frame dimensions:  1440 484\n",
      "Starting to extract posture\n"
     ]
    },
    {
     "name": "stderr",
     "output_type": "stream",
     "text": [
      "  2%|██                                                                              | 10/400 [00:00<00:02, 130.22it/s]\n"
     ]
    },
    {
     "name": "stdout",
     "output_type": "stream",
     "text": [
      "Starting to analyze %  F:\\videos\\ar34motor\\2022_02_03\\51video.mp4\n",
      "F:\\videos\\ar34motor\\2022_02_03  already exists!\n",
      "Loading  F:\\videos\\ar34motor\\2022_02_03\\51video.mp4\n",
      "Duration of video [s]:  10.0 , recorded with  40.0 fps!\n",
      "Overall # of frames:  400  found with (before cropping) frame dimensions:  1440 484\n",
      "Starting to extract posture\n"
     ]
    },
    {
     "name": "stderr",
     "output_type": "stream",
     "text": [
      "  2%|██                                                                              | 10/400 [00:00<00:02, 131.93it/s]\n"
     ]
    },
    {
     "name": "stdout",
     "output_type": "stream",
     "text": [
      "Starting to analyze %  F:\\videos\\ar34motor\\2022_02_03\\52video.mp4\n",
      "F:\\videos\\ar34motor\\2022_02_03  already exists!\n",
      "Loading  F:\\videos\\ar34motor\\2022_02_03\\52video.mp4\n",
      "Duration of video [s]:  10.0 , recorded with  40.0 fps!\n",
      "Overall # of frames:  400  found with (before cropping) frame dimensions:  1440 484\n",
      "Starting to extract posture\n"
     ]
    },
    {
     "name": "stderr",
     "output_type": "stream",
     "text": [
      "  2%|██                                                                              | 10/400 [00:00<00:03, 126.92it/s]\n"
     ]
    },
    {
     "name": "stdout",
     "output_type": "stream",
     "text": [
      "Starting to analyze %  F:\\videos\\ar34motor\\2022_02_03\\53video.mp4\n",
      "F:\\videos\\ar34motor\\2022_02_03  already exists!\n",
      "Loading  F:\\videos\\ar34motor\\2022_02_03\\53video.mp4\n",
      "Duration of video [s]:  10.0 , recorded with  40.0 fps!\n",
      "Overall # of frames:  400  found with (before cropping) frame dimensions:  1440 484\n",
      "Starting to extract posture\n"
     ]
    },
    {
     "name": "stderr",
     "output_type": "stream",
     "text": [
      "  2%|██                                                                              | 10/400 [00:00<00:02, 131.93it/s]\n"
     ]
    },
    {
     "name": "stdout",
     "output_type": "stream",
     "text": [
      "Starting to analyze %  F:\\videos\\ar34motor\\2022_02_03\\54video.mp4\n",
      "F:\\videos\\ar34motor\\2022_02_03  already exists!\n",
      "Loading  F:\\videos\\ar34motor\\2022_02_03\\54video.mp4\n",
      "Duration of video [s]:  10.0 , recorded with  40.0 fps!\n",
      "Overall # of frames:  400  found with (before cropping) frame dimensions:  1440 484\n",
      "Starting to extract posture\n"
     ]
    },
    {
     "name": "stderr",
     "output_type": "stream",
     "text": [
      "  2%|██                                                                              | 10/400 [00:00<00:02, 130.22it/s]\n"
     ]
    },
    {
     "name": "stdout",
     "output_type": "stream",
     "text": [
      "Starting to analyze %  F:\\videos\\ar34motor\\2022_02_03\\55video.mp4\n",
      "F:\\videos\\ar34motor\\2022_02_03  already exists!\n",
      "Loading  F:\\videos\\ar34motor\\2022_02_03\\55video.mp4\n",
      "Duration of video [s]:  10.0 , recorded with  40.0 fps!\n",
      "Overall # of frames:  400  found with (before cropping) frame dimensions:  1440 484\n",
      "Starting to extract posture\n"
     ]
    },
    {
     "name": "stderr",
     "output_type": "stream",
     "text": [
      "  2%|██                                                                              | 10/400 [00:00<00:03, 126.92it/s]\n"
     ]
    },
    {
     "name": "stdout",
     "output_type": "stream",
     "text": [
      "Starting to analyze %  F:\\videos\\ar34motor\\2022_02_03\\56video.mp4\n",
      "F:\\videos\\ar34motor\\2022_02_03  already exists!\n",
      "Loading  F:\\videos\\ar34motor\\2022_02_03\\56video.mp4\n",
      "Duration of video [s]:  10.0 , recorded with  40.0 fps!\n",
      "Overall # of frames:  400  found with (before cropping) frame dimensions:  1440 484\n",
      "Starting to extract posture\n"
     ]
    },
    {
     "name": "stderr",
     "output_type": "stream",
     "text": [
      "  2%|██                                                                              | 10/400 [00:00<00:03, 120.07it/s]\n"
     ]
    },
    {
     "name": "stdout",
     "output_type": "stream",
     "text": [
      "Starting to analyze %  F:\\videos\\ar34motor\\2022_02_03\\57video.mp4\n",
      "F:\\videos\\ar34motor\\2022_02_03  already exists!\n",
      "Loading  F:\\videos\\ar34motor\\2022_02_03\\57video.mp4\n",
      "Duration of video [s]:  10.0 , recorded with  40.0 fps!\n",
      "Overall # of frames:  400  found with (before cropping) frame dimensions:  1440 484\n",
      "Starting to extract posture\n"
     ]
    },
    {
     "name": "stderr",
     "output_type": "stream",
     "text": [
      "  2%|██                                                                              | 10/400 [00:00<00:03, 117.98it/s]\n"
     ]
    },
    {
     "name": "stdout",
     "output_type": "stream",
     "text": [
      "Starting to analyze %  F:\\videos\\ar34motor\\2022_02_03\\58video.mp4\n",
      "F:\\videos\\ar34motor\\2022_02_03  already exists!\n",
      "Loading  F:\\videos\\ar34motor\\2022_02_03\\58video.mp4\n",
      "Duration of video [s]:  10.0 , recorded with  40.0 fps!\n",
      "Overall # of frames:  400  found with (before cropping) frame dimensions:  1440 484\n",
      "Starting to extract posture\n"
     ]
    },
    {
     "name": "stderr",
     "output_type": "stream",
     "text": [
      "  2%|██                                                                              | 10/400 [00:00<00:03, 125.28it/s]\n"
     ]
    },
    {
     "name": "stdout",
     "output_type": "stream",
     "text": [
      "Starting to analyze %  F:\\videos\\ar34motor\\2022_02_03\\59video.mp4\n",
      "F:\\videos\\ar34motor\\2022_02_03  already exists!\n",
      "Loading  F:\\videos\\ar34motor\\2022_02_03\\59video.mp4\n",
      "Duration of video [s]:  10.0 , recorded with  40.0 fps!\n",
      "Overall # of frames:  400  found with (before cropping) frame dimensions:  1440 484\n",
      "Starting to extract posture\n"
     ]
    },
    {
     "name": "stderr",
     "output_type": "stream",
     "text": [
      "  2%|██                                                                              | 10/400 [00:00<00:02, 131.93it/s]\n"
     ]
    },
    {
     "name": "stdout",
     "output_type": "stream",
     "text": [
      "Starting to analyze %  F:\\videos\\ar34motor\\2022_02_03\\5video.mp4\n",
      "F:\\videos\\ar34motor\\2022_02_03  already exists!\n",
      "Loading  F:\\videos\\ar34motor\\2022_02_03\\5video.mp4\n",
      "Duration of video [s]:  10.0 , recorded with  40.0 fps!\n",
      "Overall # of frames:  400  found with (before cropping) frame dimensions:  1440 484\n",
      "Starting to extract posture\n"
     ]
    },
    {
     "name": "stderr",
     "output_type": "stream",
     "text": [
      "  2%|██                                                                              | 10/400 [00:00<00:03, 128.50it/s]\n"
     ]
    },
    {
     "name": "stdout",
     "output_type": "stream",
     "text": [
      "Starting to analyze %  F:\\videos\\ar34motor\\2022_02_03\\60video.mp4\n",
      "F:\\videos\\ar34motor\\2022_02_03  already exists!\n",
      "Loading  F:\\videos\\ar34motor\\2022_02_03\\60video.mp4\n",
      "Duration of video [s]:  10.0 , recorded with  40.0 fps!\n",
      "Overall # of frames:  400  found with (before cropping) frame dimensions:  1440 484\n",
      "Starting to extract posture\n"
     ]
    },
    {
     "name": "stderr",
     "output_type": "stream",
     "text": [
      "  2%|██                                                                              | 10/400 [00:00<00:03, 126.92it/s]\n"
     ]
    },
    {
     "name": "stdout",
     "output_type": "stream",
     "text": [
      "Starting to analyze %  F:\\videos\\ar34motor\\2022_02_03\\61video.mp4\n",
      "F:\\videos\\ar34motor\\2022_02_03  already exists!\n",
      "Loading  F:\\videos\\ar34motor\\2022_02_03\\61video.mp4\n",
      "Duration of video [s]:  10.0 , recorded with  40.0 fps!\n",
      "Overall # of frames:  400  found with (before cropping) frame dimensions:  1440 484\n",
      "Starting to extract posture\n"
     ]
    },
    {
     "name": "stderr",
     "output_type": "stream",
     "text": [
      "  2%|██                                                                              | 10/400 [00:00<00:03, 125.34it/s]\n"
     ]
    },
    {
     "name": "stdout",
     "output_type": "stream",
     "text": [
      "Starting to analyze %  F:\\videos\\ar34motor\\2022_02_03\\62video.mp4\n",
      "F:\\videos\\ar34motor\\2022_02_03  already exists!\n",
      "Loading  F:\\videos\\ar34motor\\2022_02_03\\62video.mp4\n",
      "Duration of video [s]:  10.0 , recorded with  40.0 fps!\n",
      "Overall # of frames:  400  found with (before cropping) frame dimensions:  1440 484\n",
      "Starting to extract posture\n"
     ]
    },
    {
     "name": "stderr",
     "output_type": "stream",
     "text": [
      "  2%|██                                                                              | 10/400 [00:00<00:02, 137.35it/s]\n"
     ]
    },
    {
     "name": "stdout",
     "output_type": "stream",
     "text": [
      "Starting to analyze %  F:\\videos\\ar34motor\\2022_02_03\\63video.mp4\n",
      "F:\\videos\\ar34motor\\2022_02_03  already exists!\n",
      "Loading  F:\\videos\\ar34motor\\2022_02_03\\63video.mp4\n",
      "Duration of video [s]:  10.0 , recorded with  40.0 fps!\n",
      "Overall # of frames:  400  found with (before cropping) frame dimensions:  1440 484\n",
      "Starting to extract posture\n"
     ]
    },
    {
     "name": "stderr",
     "output_type": "stream",
     "text": [
      "  2%|██                                                                               | 10/400 [00:00<00:06, 60.05it/s]\n"
     ]
    },
    {
     "name": "stdout",
     "output_type": "stream",
     "text": [
      "Starting to analyze %  F:\\videos\\ar34motor\\2022_02_03\\64video.mp4\n",
      "F:\\videos\\ar34motor\\2022_02_03  already exists!\n",
      "Loading  F:\\videos\\ar34motor\\2022_02_03\\64video.mp4\n",
      "Duration of video [s]:  10.0 , recorded with  40.0 fps!\n",
      "Overall # of frames:  400  found with (before cropping) frame dimensions:  1440 484\n",
      "Starting to extract posture\n"
     ]
    },
    {
     "name": "stderr",
     "output_type": "stream",
     "text": [
      "  2%|██                                                                              | 10/400 [00:00<00:03, 122.24it/s]\n"
     ]
    },
    {
     "name": "stdout",
     "output_type": "stream",
     "text": [
      "Starting to analyze %  F:\\videos\\ar34motor\\2022_02_03\\65video.mp4\n",
      "F:\\videos\\ar34motor\\2022_02_03  already exists!\n",
      "Loading  F:\\videos\\ar34motor\\2022_02_03\\65video.mp4\n",
      "Duration of video [s]:  10.0 , recorded with  40.0 fps!\n",
      "Overall # of frames:  400  found with (before cropping) frame dimensions:  1440 484\n",
      "Starting to extract posture\n"
     ]
    },
    {
     "name": "stderr",
     "output_type": "stream",
     "text": [
      "  2%|██                                                                              | 10/400 [00:00<00:03, 124.29it/s]\n"
     ]
    },
    {
     "name": "stdout",
     "output_type": "stream",
     "text": [
      "Starting to analyze %  F:\\videos\\ar34motor\\2022_02_03\\66video.mp4\n",
      "F:\\videos\\ar34motor\\2022_02_03  already exists!\n",
      "Loading  F:\\videos\\ar34motor\\2022_02_03\\66video.mp4\n",
      "Duration of video [s]:  10.0 , recorded with  40.0 fps!\n",
      "Overall # of frames:  400  found with (before cropping) frame dimensions:  1440 484\n",
      "Starting to extract posture\n"
     ]
    },
    {
     "name": "stderr",
     "output_type": "stream",
     "text": [
      "  2%|██                                                                              | 10/400 [00:00<00:03, 128.55it/s]\n"
     ]
    },
    {
     "name": "stdout",
     "output_type": "stream",
     "text": [
      "Starting to analyze %  F:\\videos\\ar34motor\\2022_02_03\\67video.mp4\n",
      "F:\\videos\\ar34motor\\2022_02_03  already exists!\n",
      "Loading  F:\\videos\\ar34motor\\2022_02_03\\67video.mp4\n",
      "Duration of video [s]:  10.0 , recorded with  40.0 fps!\n",
      "Overall # of frames:  400  found with (before cropping) frame dimensions:  1440 484\n",
      "Starting to extract posture\n"
     ]
    },
    {
     "name": "stderr",
     "output_type": "stream",
     "text": [
      "  2%|██                                                                               | 10/400 [00:00<00:07, 53.01it/s]\n"
     ]
    },
    {
     "name": "stdout",
     "output_type": "stream",
     "text": [
      "Starting to analyze %  F:\\videos\\ar34motor\\2022_02_03\\68video.mp4\n",
      "F:\\videos\\ar34motor\\2022_02_03  already exists!\n",
      "Loading  F:\\videos\\ar34motor\\2022_02_03\\68video.mp4\n",
      "Duration of video [s]:  10.0 , recorded with  40.0 fps!\n",
      "Overall # of frames:  400  found with (before cropping) frame dimensions:  1440 484\n",
      "Starting to extract posture\n"
     ]
    },
    {
     "name": "stderr",
     "output_type": "stream",
     "text": [
      "  2%|██                                                                              | 10/400 [00:00<00:02, 131.93it/s]\n"
     ]
    },
    {
     "name": "stdout",
     "output_type": "stream",
     "text": [
      "Starting to analyze %  F:\\videos\\ar34motor\\2022_02_03\\69video.mp4\n",
      "F:\\videos\\ar34motor\\2022_02_03  already exists!\n",
      "Loading  F:\\videos\\ar34motor\\2022_02_03\\69video.mp4\n",
      "Duration of video [s]:  10.0 , recorded with  40.0 fps!\n",
      "Overall # of frames:  400  found with (before cropping) frame dimensions:  1440 484\n",
      "Starting to extract posture\n"
     ]
    },
    {
     "name": "stderr",
     "output_type": "stream",
     "text": [
      "  2%|██                                                                              | 10/400 [00:00<00:03, 128.55it/s]\n"
     ]
    },
    {
     "name": "stdout",
     "output_type": "stream",
     "text": [
      "Starting to analyze %  F:\\videos\\ar34motor\\2022_02_03\\6video.mp4\n",
      "F:\\videos\\ar34motor\\2022_02_03  already exists!\n",
      "Loading  F:\\videos\\ar34motor\\2022_02_03\\6video.mp4\n",
      "Duration of video [s]:  10.0 , recorded with  40.0 fps!\n",
      "Overall # of frames:  400  found with (before cropping) frame dimensions:  1440 484\n",
      "Starting to extract posture\n"
     ]
    },
    {
     "name": "stderr",
     "output_type": "stream",
     "text": [
      "  2%|██                                                                              | 10/400 [00:00<00:02, 130.22it/s]\n"
     ]
    },
    {
     "name": "stdout",
     "output_type": "stream",
     "text": [
      "Starting to analyze %  F:\\videos\\ar34motor\\2022_02_03\\70video.mp4\n",
      "F:\\videos\\ar34motor\\2022_02_03  already exists!\n",
      "Loading  F:\\videos\\ar34motor\\2022_02_03\\70video.mp4\n",
      "Duration of video [s]:  10.0 , recorded with  40.0 fps!\n",
      "Overall # of frames:  400  found with (before cropping) frame dimensions:  1440 484\n",
      "Starting to extract posture\n"
     ]
    },
    {
     "name": "stderr",
     "output_type": "stream",
     "text": [
      "  2%|██                                                                               | 10/400 [00:00<00:12, 31.02it/s]\n"
     ]
    },
    {
     "name": "stdout",
     "output_type": "stream",
     "text": [
      "Starting to analyze %  F:\\videos\\ar34motor\\2022_02_03\\71video.mp4\n",
      "F:\\videos\\ar34motor\\2022_02_03  already exists!\n",
      "Loading  F:\\videos\\ar34motor\\2022_02_03\\71video.mp4\n",
      "Duration of video [s]:  10.0 , recorded with  40.0 fps!\n",
      "Overall # of frames:  400  found with (before cropping) frame dimensions:  1440 484\n",
      "Starting to extract posture\n"
     ]
    },
    {
     "name": "stderr",
     "output_type": "stream",
     "text": [
      "  2%|██                                                                              | 10/400 [00:00<00:03, 105.54it/s]\n"
     ]
    },
    {
     "name": "stdout",
     "output_type": "stream",
     "text": [
      "Starting to analyze %  F:\\videos\\ar34motor\\2022_02_03\\72video.mp4\n",
      "F:\\videos\\ar34motor\\2022_02_03  already exists!\n",
      "Loading  F:\\videos\\ar34motor\\2022_02_03\\72video.mp4\n",
      "Duration of video [s]:  10.0 , recorded with  40.0 fps!\n",
      "Overall # of frames:  400  found with (before cropping) frame dimensions:  1440 484\n",
      "Starting to extract posture\n"
     ]
    },
    {
     "name": "stderr",
     "output_type": "stream",
     "text": [
      "  2%|██                                                                              | 10/400 [00:00<00:02, 131.83it/s]\n"
     ]
    },
    {
     "name": "stdout",
     "output_type": "stream",
     "text": [
      "Starting to analyze %  F:\\videos\\ar34motor\\2022_02_03\\73video.mp4\n",
      "F:\\videos\\ar34motor\\2022_02_03  already exists!\n",
      "Loading  F:\\videos\\ar34motor\\2022_02_03\\73video.mp4\n",
      "Duration of video [s]:  10.0 , recorded with  40.0 fps!\n",
      "Overall # of frames:  400  found with (before cropping) frame dimensions:  1440 484\n",
      "Starting to extract posture\n"
     ]
    },
    {
     "name": "stderr",
     "output_type": "stream",
     "text": [
      "  2%|██                                                                              | 10/400 [00:00<00:03, 122.28it/s]\n"
     ]
    },
    {
     "name": "stdout",
     "output_type": "stream",
     "text": [
      "Starting to analyze %  F:\\videos\\ar34motor\\2022_02_03\\74video.mp4\n",
      "F:\\videos\\ar34motor\\2022_02_03  already exists!\n",
      "Loading  F:\\videos\\ar34motor\\2022_02_03\\74video.mp4\n",
      "Duration of video [s]:  10.0 , recorded with  40.0 fps!\n",
      "Overall # of frames:  400  found with (before cropping) frame dimensions:  1440 484\n",
      "Starting to extract posture\n"
     ]
    },
    {
     "name": "stderr",
     "output_type": "stream",
     "text": [
      "  2%|██                                                                              | 10/400 [00:00<00:03, 117.26it/s]\n"
     ]
    },
    {
     "name": "stdout",
     "output_type": "stream",
     "text": [
      "Starting to analyze %  F:\\videos\\ar34motor\\2022_02_03\\75video.mp4\n",
      "F:\\videos\\ar34motor\\2022_02_03  already exists!\n",
      "Loading  F:\\videos\\ar34motor\\2022_02_03\\75video.mp4\n",
      "Duration of video [s]:  10.0 , recorded with  40.0 fps!\n",
      "Overall # of frames:  400  found with (before cropping) frame dimensions:  1440 484\n",
      "Starting to extract posture\n"
     ]
    },
    {
     "name": "stderr",
     "output_type": "stream",
     "text": [
      "  2%|██                                                                              | 10/400 [00:00<00:03, 111.98it/s]\n"
     ]
    },
    {
     "name": "stdout",
     "output_type": "stream",
     "text": [
      "Starting to analyze %  F:\\videos\\ar34motor\\2022_02_03\\76video.mp4\n",
      "F:\\videos\\ar34motor\\2022_02_03  already exists!\n",
      "Loading  F:\\videos\\ar34motor\\2022_02_03\\76video.mp4\n",
      "Duration of video [s]:  10.0 , recorded with  40.0 fps!\n",
      "Overall # of frames:  400  found with (before cropping) frame dimensions:  1440 484\n",
      "Starting to extract posture\n"
     ]
    },
    {
     "name": "stderr",
     "output_type": "stream",
     "text": [
      "  2%|██                                                                              | 10/400 [00:00<00:02, 130.99it/s]\n"
     ]
    },
    {
     "name": "stdout",
     "output_type": "stream",
     "text": [
      "Starting to analyze %  F:\\videos\\ar34motor\\2022_02_03\\77video.mp4\n",
      "F:\\videos\\ar34motor\\2022_02_03  already exists!\n",
      "Loading  F:\\videos\\ar34motor\\2022_02_03\\77video.mp4\n",
      "Duration of video [s]:  10.0 , recorded with  40.0 fps!\n",
      "Overall # of frames:  400  found with (before cropping) frame dimensions:  1440 484\n",
      "Starting to extract posture\n"
     ]
    },
    {
     "name": "stderr",
     "output_type": "stream",
     "text": [
      "  2%|██                                                                              | 10/400 [00:00<00:02, 131.93it/s]\n"
     ]
    },
    {
     "name": "stdout",
     "output_type": "stream",
     "text": [
      "Starting to analyze %  F:\\videos\\ar34motor\\2022_02_03\\78video.mp4\n",
      "F:\\videos\\ar34motor\\2022_02_03  already exists!\n",
      "Loading  F:\\videos\\ar34motor\\2022_02_03\\78video.mp4\n",
      "Duration of video [s]:  10.0 , recorded with  40.0 fps!\n",
      "Overall # of frames:  400  found with (before cropping) frame dimensions:  1440 484\n",
      "Starting to extract posture\n"
     ]
    },
    {
     "name": "stderr",
     "output_type": "stream",
     "text": [
      "  2%|██                                                                              | 10/400 [00:00<00:03, 107.81it/s]\n"
     ]
    },
    {
     "name": "stdout",
     "output_type": "stream",
     "text": [
      "Starting to analyze %  F:\\videos\\ar34motor\\2022_02_03\\79video.mp4\n",
      "F:\\videos\\ar34motor\\2022_02_03  already exists!\n",
      "Loading  F:\\videos\\ar34motor\\2022_02_03\\79video.mp4\n",
      "Duration of video [s]:  10.0 , recorded with  40.0 fps!\n",
      "Overall # of frames:  400  found with (before cropping) frame dimensions:  1440 484\n",
      "Starting to extract posture\n"
     ]
    },
    {
     "name": "stderr",
     "output_type": "stream",
     "text": [
      "  2%|██                                                                              | 10/400 [00:00<00:03, 125.34it/s]\n"
     ]
    },
    {
     "name": "stdout",
     "output_type": "stream",
     "text": [
      "Starting to analyze %  F:\\videos\\ar34motor\\2022_02_03\\7video.mp4\n",
      "F:\\videos\\ar34motor\\2022_02_03  already exists!\n",
      "Loading  F:\\videos\\ar34motor\\2022_02_03\\7video.mp4\n",
      "Duration of video [s]:  10.0 , recorded with  40.0 fps!\n",
      "Overall # of frames:  400  found with (before cropping) frame dimensions:  1440 484\n",
      "Starting to extract posture\n"
     ]
    },
    {
     "name": "stderr",
     "output_type": "stream",
     "text": [
      "  2%|██                                                                              | 10/400 [00:00<00:03, 128.55it/s]\n"
     ]
    },
    {
     "name": "stdout",
     "output_type": "stream",
     "text": [
      "Starting to analyze %  F:\\videos\\ar34motor\\2022_02_03\\80video.mp4\n",
      "F:\\videos\\ar34motor\\2022_02_03  already exists!\n",
      "Loading  F:\\videos\\ar34motor\\2022_02_03\\80video.mp4\n",
      "Duration of video [s]:  10.0 , recorded with  40.0 fps!\n",
      "Overall # of frames:  400  found with (before cropping) frame dimensions:  1440 484\n",
      "Starting to extract posture\n"
     ]
    },
    {
     "name": "stderr",
     "output_type": "stream",
     "text": [
      "  2%|██                                                                               | 10/400 [00:00<00:13, 29.58it/s]\n"
     ]
    },
    {
     "name": "stdout",
     "output_type": "stream",
     "text": [
      "Starting to analyze %  F:\\videos\\ar34motor\\2022_02_03\\81video.mp4\n",
      "F:\\videos\\ar34motor\\2022_02_03  already exists!\n",
      "Loading  F:\\videos\\ar34motor\\2022_02_03\\81video.mp4\n",
      "Duration of video [s]:  10.0 , recorded with  40.0 fps!\n",
      "Overall # of frames:  400  found with (before cropping) frame dimensions:  1440 484\n",
      "Starting to extract posture\n"
     ]
    },
    {
     "name": "stderr",
     "output_type": "stream",
     "text": [
      "  2%|██                                                                              | 10/400 [00:00<00:03, 126.92it/s]\n"
     ]
    },
    {
     "name": "stdout",
     "output_type": "stream",
     "text": [
      "Starting to analyze %  F:\\videos\\ar34motor\\2022_02_03\\82video.mp4\n",
      "F:\\videos\\ar34motor\\2022_02_03  already exists!\n",
      "Loading  F:\\videos\\ar34motor\\2022_02_03\\82video.mp4\n",
      "Duration of video [s]:  10.0 , recorded with  40.0 fps!\n",
      "Overall # of frames:  400  found with (before cropping) frame dimensions:  1440 484\n",
      "Starting to extract posture\n"
     ]
    },
    {
     "name": "stderr",
     "output_type": "stream",
     "text": [
      "  2%|██                                                                              | 10/400 [00:00<00:02, 140.31it/s]\n"
     ]
    },
    {
     "name": "stdout",
     "output_type": "stream",
     "text": [
      "Starting to analyze %  F:\\videos\\ar34motor\\2022_02_03\\83video.mp4\n",
      "F:\\videos\\ar34motor\\2022_02_03  already exists!\n",
      "Loading  F:\\videos\\ar34motor\\2022_02_03\\83video.mp4\n",
      "Duration of video [s]:  10.0 , recorded with  40.0 fps!\n",
      "Overall # of frames:  400  found with (before cropping) frame dimensions:  1440 484\n",
      "Starting to extract posture\n"
     ]
    },
    {
     "name": "stderr",
     "output_type": "stream",
     "text": [
      "  2%|██                                                                              | 10/400 [00:00<00:03, 123.79it/s]\n"
     ]
    },
    {
     "name": "stdout",
     "output_type": "stream",
     "text": [
      "Starting to analyze %  F:\\videos\\ar34motor\\2022_02_03\\84video.mp4\n",
      "F:\\videos\\ar34motor\\2022_02_03  already exists!\n",
      "Loading  F:\\videos\\ar34motor\\2022_02_03\\84video.mp4\n",
      "Duration of video [s]:  10.0 , recorded with  40.0 fps!\n",
      "Overall # of frames:  400  found with (before cropping) frame dimensions:  1440 484\n",
      "Starting to extract posture\n"
     ]
    },
    {
     "name": "stderr",
     "output_type": "stream",
     "text": [
      "  2%|██                                                                              | 10/400 [00:00<00:03, 122.28it/s]\n"
     ]
    },
    {
     "name": "stdout",
     "output_type": "stream",
     "text": [
      "Starting to analyze %  F:\\videos\\ar34motor\\2022_02_03\\85video.mp4\n",
      "F:\\videos\\ar34motor\\2022_02_03  already exists!\n",
      "Loading  F:\\videos\\ar34motor\\2022_02_03\\85video.mp4\n",
      "Duration of video [s]:  10.0 , recorded with  40.0 fps!\n",
      "Overall # of frames:  400  found with (before cropping) frame dimensions:  1440 484\n",
      "Starting to extract posture\n"
     ]
    },
    {
     "name": "stderr",
     "output_type": "stream",
     "text": [
      "  2%|██                                                                              | 10/400 [00:00<00:03, 122.28it/s]\n"
     ]
    },
    {
     "name": "stdout",
     "output_type": "stream",
     "text": [
      "Starting to analyze %  F:\\videos\\ar34motor\\2022_02_03\\86video.mp4\n",
      "F:\\videos\\ar34motor\\2022_02_03  already exists!\n",
      "Loading  F:\\videos\\ar34motor\\2022_02_03\\86video.mp4\n",
      "Duration of video [s]:  10.0 , recorded with  40.0 fps!\n",
      "Overall # of frames:  400  found with (before cropping) frame dimensions:  1440 484\n",
      "Starting to extract posture\n"
     ]
    },
    {
     "name": "stderr",
     "output_type": "stream",
     "text": [
      "  2%|██                                                                              | 10/400 [00:00<00:03, 113.94it/s]\n"
     ]
    },
    {
     "name": "stdout",
     "output_type": "stream",
     "text": [
      "Starting to analyze %  F:\\videos\\ar34motor\\2022_02_03\\87video.mp4\n",
      "F:\\videos\\ar34motor\\2022_02_03  already exists!\n",
      "Loading  F:\\videos\\ar34motor\\2022_02_03\\87video.mp4\n",
      "Duration of video [s]:  10.0 , recorded with  40.0 fps!\n",
      "Overall # of frames:  400  found with (before cropping) frame dimensions:  1440 484\n",
      "Starting to extract posture\n"
     ]
    },
    {
     "name": "stderr",
     "output_type": "stream",
     "text": [
      "  2%|██                                                                              | 10/400 [00:00<00:02, 131.93it/s]\n"
     ]
    },
    {
     "name": "stdout",
     "output_type": "stream",
     "text": [
      "Starting to analyze %  F:\\videos\\ar34motor\\2022_02_03\\88video.mp4\n",
      "F:\\videos\\ar34motor\\2022_02_03  already exists!\n",
      "Loading  F:\\videos\\ar34motor\\2022_02_03\\88video.mp4\n",
      "Duration of video [s]:  10.0 , recorded with  40.0 fps!\n",
      "Overall # of frames:  400  found with (before cropping) frame dimensions:  1440 484\n",
      "Starting to extract posture\n"
     ]
    },
    {
     "name": "stderr",
     "output_type": "stream",
     "text": [
      "  2%|██                                                                              | 10/400 [00:00<00:02, 130.22it/s]\n"
     ]
    },
    {
     "name": "stdout",
     "output_type": "stream",
     "text": [
      "Starting to analyze %  F:\\videos\\ar34motor\\2022_02_03\\89video.mp4\n",
      "F:\\videos\\ar34motor\\2022_02_03  already exists!\n",
      "Loading  F:\\videos\\ar34motor\\2022_02_03\\89video.mp4\n",
      "Duration of video [s]:  10.0 , recorded with  40.0 fps!\n",
      "Overall # of frames:  400  found with (before cropping) frame dimensions:  1440 484\n",
      "Starting to extract posture\n"
     ]
    },
    {
     "name": "stderr",
     "output_type": "stream",
     "text": [
      "  2%|██                                                                              | 10/400 [00:00<00:03, 125.34it/s]\n"
     ]
    },
    {
     "name": "stdout",
     "output_type": "stream",
     "text": [
      "Starting to analyze %  F:\\videos\\ar34motor\\2022_02_03\\8video.mp4\n",
      "F:\\videos\\ar34motor\\2022_02_03  already exists!\n",
      "Loading  F:\\videos\\ar34motor\\2022_02_03\\8video.mp4\n",
      "Duration of video [s]:  10.0 , recorded with  40.0 fps!\n",
      "Overall # of frames:  400  found with (before cropping) frame dimensions:  1440 484\n",
      "Starting to extract posture\n"
     ]
    },
    {
     "name": "stderr",
     "output_type": "stream",
     "text": [
      "  2%|██                                                                              | 10/400 [00:00<00:02, 130.22it/s]\n"
     ]
    },
    {
     "name": "stdout",
     "output_type": "stream",
     "text": [
      "Starting to analyze %  F:\\videos\\ar34motor\\2022_02_03\\90video.mp4\n",
      "F:\\videos\\ar34motor\\2022_02_03  already exists!\n",
      "Loading  F:\\videos\\ar34motor\\2022_02_03\\90video.mp4\n",
      "Duration of video [s]:  10.0 , recorded with  40.0 fps!\n",
      "Overall # of frames:  400  found with (before cropping) frame dimensions:  1440 484\n",
      "Starting to extract posture\n"
     ]
    },
    {
     "name": "stderr",
     "output_type": "stream",
     "text": [
      "  2%|██                                                                              | 10/400 [00:00<00:03, 100.27it/s]\n"
     ]
    },
    {
     "name": "stdout",
     "output_type": "stream",
     "text": [
      "Starting to analyze %  F:\\videos\\ar34motor\\2022_02_03\\91video.mp4\n",
      "F:\\videos\\ar34motor\\2022_02_03  already exists!\n",
      "Loading  F:\\videos\\ar34motor\\2022_02_03\\91video.mp4\n",
      "Duration of video [s]:  10.0 , recorded with  40.0 fps!\n",
      "Overall # of frames:  400  found with (before cropping) frame dimensions:  1440 484\n",
      "Starting to extract posture\n"
     ]
    },
    {
     "name": "stderr",
     "output_type": "stream",
     "text": [
      "  2%|██                                                                              | 10/400 [00:00<00:02, 131.93it/s]\n"
     ]
    },
    {
     "name": "stdout",
     "output_type": "stream",
     "text": [
      "Starting to analyze %  F:\\videos\\ar34motor\\2022_02_03\\92video.mp4\n",
      "F:\\videos\\ar34motor\\2022_02_03  already exists!\n",
      "Loading  F:\\videos\\ar34motor\\2022_02_03\\92video.mp4\n",
      "Duration of video [s]:  10.0 , recorded with  40.0 fps!\n",
      "Overall # of frames:  400  found with (before cropping) frame dimensions:  1440 484\n",
      "Starting to extract posture\n"
     ]
    },
    {
     "name": "stderr",
     "output_type": "stream",
     "text": [
      "  2%|██                                                                              | 10/400 [00:00<00:03, 125.34it/s]\n"
     ]
    },
    {
     "name": "stdout",
     "output_type": "stream",
     "text": [
      "Starting to analyze %  F:\\videos\\ar34motor\\2022_02_03\\93video.mp4\n",
      "F:\\videos\\ar34motor\\2022_02_03  already exists!\n",
      "Loading  F:\\videos\\ar34motor\\2022_02_03\\93video.mp4\n",
      "Duration of video [s]:  10.0 , recorded with  40.0 fps!\n",
      "Overall # of frames:  400  found with (before cropping) frame dimensions:  1440 484\n",
      "Starting to extract posture\n"
     ]
    },
    {
     "name": "stderr",
     "output_type": "stream",
     "text": [
      "  2%|██                                                                              | 10/400 [00:00<00:03, 123.78it/s]\n"
     ]
    },
    {
     "name": "stdout",
     "output_type": "stream",
     "text": [
      "Starting to analyze %  F:\\videos\\ar34motor\\2022_02_03\\94video.mp4\n",
      "F:\\videos\\ar34motor\\2022_02_03  already exists!\n",
      "Loading  F:\\videos\\ar34motor\\2022_02_03\\94video.mp4\n",
      "Duration of video [s]:  10.0 , recorded with  40.0 fps!\n",
      "Overall # of frames:  400  found with (before cropping) frame dimensions:  1440 484\n",
      "Starting to extract posture\n"
     ]
    },
    {
     "name": "stderr",
     "output_type": "stream",
     "text": [
      "  2%|██                                                                              | 10/400 [00:00<00:03, 120.81it/s]\n"
     ]
    },
    {
     "name": "stdout",
     "output_type": "stream",
     "text": [
      "Starting to analyze %  F:\\videos\\ar34motor\\2022_02_03\\95video.mp4\n",
      "F:\\videos\\ar34motor\\2022_02_03  already exists!\n",
      "Loading  F:\\videos\\ar34motor\\2022_02_03\\95video.mp4\n",
      "Duration of video [s]:  10.0 , recorded with  40.0 fps!\n",
      "Overall # of frames:  400  found with (before cropping) frame dimensions:  1440 484\n",
      "Starting to extract posture\n"
     ]
    },
    {
     "name": "stderr",
     "output_type": "stream",
     "text": [
      "  2%|██                                                                              | 10/400 [00:00<00:02, 130.22it/s]\n"
     ]
    },
    {
     "name": "stdout",
     "output_type": "stream",
     "text": [
      "Starting to analyze %  F:\\videos\\ar34motor\\2022_02_03\\96video.mp4\n",
      "F:\\videos\\ar34motor\\2022_02_03  already exists!\n",
      "Loading  F:\\videos\\ar34motor\\2022_02_03\\96video.mp4\n",
      "Duration of video [s]:  10.0 , recorded with  40.0 fps!\n",
      "Overall # of frames:  400  found with (before cropping) frame dimensions:  1440 484\n",
      "Starting to extract posture\n"
     ]
    },
    {
     "name": "stderr",
     "output_type": "stream",
     "text": [
      "  2%|██                                                                               | 10/400 [00:00<00:04, 91.15it/s]\n"
     ]
    },
    {
     "name": "stdout",
     "output_type": "stream",
     "text": [
      "Starting to analyze %  F:\\videos\\ar34motor\\2022_02_03\\97video.mp4\n",
      "F:\\videos\\ar34motor\\2022_02_03  already exists!\n",
      "Loading  F:\\videos\\ar34motor\\2022_02_03\\97video.mp4\n",
      "Duration of video [s]:  10.0 , recorded with  40.0 fps!\n",
      "Overall # of frames:  400  found with (before cropping) frame dimensions:  1440 484\n",
      "Starting to extract posture\n"
     ]
    },
    {
     "name": "stderr",
     "output_type": "stream",
     "text": [
      "  2%|██                                                                              | 10/400 [00:00<00:02, 131.93it/s]\n"
     ]
    },
    {
     "name": "stdout",
     "output_type": "stream",
     "text": [
      "Starting to analyze %  F:\\videos\\ar34motor\\2022_02_03\\98video.mp4\n",
      "F:\\videos\\ar34motor\\2022_02_03  already exists!\n",
      "Loading  F:\\videos\\ar34motor\\2022_02_03\\98video.mp4\n",
      "Duration of video [s]:  10.0 , recorded with  40.0 fps!\n",
      "Overall # of frames:  400  found with (before cropping) frame dimensions:  1440 484\n",
      "Starting to extract posture\n"
     ]
    },
    {
     "name": "stderr",
     "output_type": "stream",
     "text": [
      "  2%|██                                                                              | 10/400 [00:00<00:03, 116.57it/s]\n"
     ]
    },
    {
     "name": "stdout",
     "output_type": "stream",
     "text": [
      "Starting to analyze %  F:\\videos\\ar34motor\\2022_02_03\\99video.mp4\n",
      "F:\\videos\\ar34motor\\2022_02_03  already exists!\n",
      "Loading  F:\\videos\\ar34motor\\2022_02_03\\99video.mp4\n",
      "Duration of video [s]:  10.0 , recorded with  40.0 fps!\n",
      "Overall # of frames:  400  found with (before cropping) frame dimensions:  1440 484\n",
      "Starting to extract posture\n"
     ]
    },
    {
     "name": "stderr",
     "output_type": "stream",
     "text": [
      "  2%|██                                                                              | 10/400 [00:00<00:03, 119.37it/s]\n"
     ]
    },
    {
     "name": "stdout",
     "output_type": "stream",
     "text": [
      "Starting to analyze %  F:\\videos\\ar34motor\\2022_02_03\\9video.mp4\n",
      "F:\\videos\\ar34motor\\2022_02_03  already exists!\n",
      "Loading  F:\\videos\\ar34motor\\2022_02_03\\9video.mp4\n",
      "Duration of video [s]:  10.0 , recorded with  40.0 fps!\n",
      "Overall # of frames:  400  found with (before cropping) frame dimensions:  1440 484\n",
      "Starting to extract posture\n"
     ]
    },
    {
     "name": "stderr",
     "output_type": "stream",
     "text": [
      "  2%|██                                                                              | 10/400 [00:00<00:03, 115.74it/s]\n"
     ]
    },
    {
     "name": "stdout",
     "output_type": "stream",
     "text": [
      "The videos are analyzed. Now your research can truly start! \n",
      " You can create labeled videos with 'create_labeled_video'\n",
      "If the tracking is not satisfactory for some videos, consider expanding the training set. You can use the function 'extract_outlier_frames' to extract a few representative outlier frames.\n",
      "Filtering with median model F:\\videos\\ar34motor\\2022_02_03\\0video.mp4\n",
      "No unfiltered data file found in F:\\videos\\ar34motor\\2022_02_03 for video 0video and scorer DLC_resnet50_Topview3435Jul28shuffle1_110000.\n",
      "Filtering with median model F:\\videos\\ar34motor\\2022_02_03\\100video.mp4\n",
      "No unfiltered data file found in F:\\videos\\ar34motor\\2022_02_03 for video 100video and scorer DLC_resnet50_Topview3435Jul28shuffle1_110000.\n",
      "Filtering with median model F:\\videos\\ar34motor\\2022_02_03\\101video.mp4\n",
      "No unfiltered data file found in F:\\videos\\ar34motor\\2022_02_03 for video 101video and scorer DLC_resnet50_Topview3435Jul28shuffle1_110000.\n",
      "Filtering with median model F:\\videos\\ar34motor\\2022_02_03\\102video.mp4\n",
      "No unfiltered data file found in F:\\videos\\ar34motor\\2022_02_03 for video 102video and scorer DLC_resnet50_Topview3435Jul28shuffle1_110000.\n",
      "Filtering with median model F:\\videos\\ar34motor\\2022_02_03\\103video.mp4\n",
      "No unfiltered data file found in F:\\videos\\ar34motor\\2022_02_03 for video 103video and scorer DLC_resnet50_Topview3435Jul28shuffle1_110000.\n",
      "Filtering with median model F:\\videos\\ar34motor\\2022_02_03\\104video.mp4\n",
      "No unfiltered data file found in F:\\videos\\ar34motor\\2022_02_03 for video 104video and scorer DLC_resnet50_Topview3435Jul28shuffle1_110000.\n",
      "Filtering with median model F:\\videos\\ar34motor\\2022_02_03\\105video.mp4\n",
      "No unfiltered data file found in F:\\videos\\ar34motor\\2022_02_03 for video 105video and scorer DLC_resnet50_Topview3435Jul28shuffle1_110000.\n",
      "Filtering with median model F:\\videos\\ar34motor\\2022_02_03\\106video.mp4\n",
      "No unfiltered data file found in F:\\videos\\ar34motor\\2022_02_03 for video 106video and scorer DLC_resnet50_Topview3435Jul28shuffle1_110000.\n",
      "Filtering with median model F:\\videos\\ar34motor\\2022_02_03\\107video.mp4\n",
      "No unfiltered data file found in F:\\videos\\ar34motor\\2022_02_03 for video 107video and scorer DLC_resnet50_Topview3435Jul28shuffle1_110000.\n",
      "Filtering with median model F:\\videos\\ar34motor\\2022_02_03\\108video.mp4\n",
      "No unfiltered data file found in F:\\videos\\ar34motor\\2022_02_03 for video 108video and scorer DLC_resnet50_Topview3435Jul28shuffle1_110000.\n",
      "Filtering with median model F:\\videos\\ar34motor\\2022_02_03\\109video.mp4\n",
      "No unfiltered data file found in F:\\videos\\ar34motor\\2022_02_03 for video 109video and scorer DLC_resnet50_Topview3435Jul28shuffle1_110000.\n",
      "Filtering with median model F:\\videos\\ar34motor\\2022_02_03\\10video.mp4\n",
      "No unfiltered data file found in F:\\videos\\ar34motor\\2022_02_03 for video 10video and scorer DLC_resnet50_Topview3435Jul28shuffle1_110000.\n",
      "Filtering with median model F:\\videos\\ar34motor\\2022_02_03\\110video.mp4\n",
      "No unfiltered data file found in F:\\videos\\ar34motor\\2022_02_03 for video 110video and scorer DLC_resnet50_Topview3435Jul28shuffle1_110000.\n",
      "Filtering with median model F:\\videos\\ar34motor\\2022_02_03\\111video.mp4\n",
      "No unfiltered data file found in F:\\videos\\ar34motor\\2022_02_03 for video 111video and scorer DLC_resnet50_Topview3435Jul28shuffle1_110000.\n",
      "Filtering with median model F:\\videos\\ar34motor\\2022_02_03\\112video.mp4\n",
      "No unfiltered data file found in F:\\videos\\ar34motor\\2022_02_03 for video 112video and scorer DLC_resnet50_Topview3435Jul28shuffle1_110000.\n",
      "Filtering with median model F:\\videos\\ar34motor\\2022_02_03\\113video.mp4\n",
      "No unfiltered data file found in F:\\videos\\ar34motor\\2022_02_03 for video 113video and scorer DLC_resnet50_Topview3435Jul28shuffle1_110000.\n",
      "Filtering with median model F:\\videos\\ar34motor\\2022_02_03\\114video.mp4\n",
      "No unfiltered data file found in F:\\videos\\ar34motor\\2022_02_03 for video 114video and scorer DLC_resnet50_Topview3435Jul28shuffle1_110000.\n",
      "Filtering with median model F:\\videos\\ar34motor\\2022_02_03\\115video.mp4\n",
      "No unfiltered data file found in F:\\videos\\ar34motor\\2022_02_03 for video 115video and scorer DLC_resnet50_Topview3435Jul28shuffle1_110000.\n",
      "Filtering with median model F:\\videos\\ar34motor\\2022_02_03\\116video.mp4\n",
      "No unfiltered data file found in F:\\videos\\ar34motor\\2022_02_03 for video 116video and scorer DLC_resnet50_Topview3435Jul28shuffle1_110000.\n",
      "Filtering with median model F:\\videos\\ar34motor\\2022_02_03\\117video.mp4\n",
      "No unfiltered data file found in F:\\videos\\ar34motor\\2022_02_03 for video 117video and scorer DLC_resnet50_Topview3435Jul28shuffle1_110000.\n",
      "Filtering with median model F:\\videos\\ar34motor\\2022_02_03\\118video.mp4\n",
      "No unfiltered data file found in F:\\videos\\ar34motor\\2022_02_03 for video 118video and scorer DLC_resnet50_Topview3435Jul28shuffle1_110000.\n",
      "Filtering with median model F:\\videos\\ar34motor\\2022_02_03\\119video.mp4\n",
      "No unfiltered data file found in F:\\videos\\ar34motor\\2022_02_03 for video 119video and scorer DLC_resnet50_Topview3435Jul28shuffle1_110000.\n",
      "Filtering with median model F:\\videos\\ar34motor\\2022_02_03\\11video.mp4\n",
      "No unfiltered data file found in F:\\videos\\ar34motor\\2022_02_03 for video 11video and scorer DLC_resnet50_Topview3435Jul28shuffle1_110000.\n",
      "Filtering with median model F:\\videos\\ar34motor\\2022_02_03\\120video.mp4\n",
      "No unfiltered data file found in F:\\videos\\ar34motor\\2022_02_03 for video 120video and scorer DLC_resnet50_Topview3435Jul28shuffle1_110000.\n",
      "Filtering with median model F:\\videos\\ar34motor\\2022_02_03\\121video.mp4\n",
      "No unfiltered data file found in F:\\videos\\ar34motor\\2022_02_03 for video 121video and scorer DLC_resnet50_Topview3435Jul28shuffle1_110000.\n",
      "Filtering with median model F:\\videos\\ar34motor\\2022_02_03\\122video.mp4\n",
      "No unfiltered data file found in F:\\videos\\ar34motor\\2022_02_03 for video 122video and scorer DLC_resnet50_Topview3435Jul28shuffle1_110000.\n",
      "Filtering with median model F:\\videos\\ar34motor\\2022_02_03\\123video.mp4\n",
      "No unfiltered data file found in F:\\videos\\ar34motor\\2022_02_03 for video 123video and scorer DLC_resnet50_Topview3435Jul28shuffle1_110000.\n",
      "Filtering with median model F:\\videos\\ar34motor\\2022_02_03\\124video.mp4\n",
      "No unfiltered data file found in F:\\videos\\ar34motor\\2022_02_03 for video 124video and scorer DLC_resnet50_Topview3435Jul28shuffle1_110000.\n",
      "Filtering with median model F:\\videos\\ar34motor\\2022_02_03\\125video.mp4\n",
      "No unfiltered data file found in F:\\videos\\ar34motor\\2022_02_03 for video 125video and scorer DLC_resnet50_Topview3435Jul28shuffle1_110000.\n",
      "Filtering with median model F:\\videos\\ar34motor\\2022_02_03\\126video.mp4\n",
      "No unfiltered data file found in F:\\videos\\ar34motor\\2022_02_03 for video 126video and scorer DLC_resnet50_Topview3435Jul28shuffle1_110000.\n",
      "Filtering with median model F:\\videos\\ar34motor\\2022_02_03\\127video.mp4\n",
      "No unfiltered data file found in F:\\videos\\ar34motor\\2022_02_03 for video 127video and scorer DLC_resnet50_Topview3435Jul28shuffle1_110000.\n",
      "Filtering with median model F:\\videos\\ar34motor\\2022_02_03\\128video.mp4\n",
      "No unfiltered data file found in F:\\videos\\ar34motor\\2022_02_03 for video 128video and scorer DLC_resnet50_Topview3435Jul28shuffle1_110000.\n",
      "Filtering with median model F:\\videos\\ar34motor\\2022_02_03\\129video.mp4\n",
      "No unfiltered data file found in F:\\videos\\ar34motor\\2022_02_03 for video 129video and scorer DLC_resnet50_Topview3435Jul28shuffle1_110000.\n",
      "Filtering with median model F:\\videos\\ar34motor\\2022_02_03\\12video.mp4\n",
      "No unfiltered data file found in F:\\videos\\ar34motor\\2022_02_03 for video 12video and scorer DLC_resnet50_Topview3435Jul28shuffle1_110000.\n",
      "Filtering with median model F:\\videos\\ar34motor\\2022_02_03\\130video.mp4\n",
      "No unfiltered data file found in F:\\videos\\ar34motor\\2022_02_03 for video 130video and scorer DLC_resnet50_Topview3435Jul28shuffle1_110000.\n",
      "Filtering with median model F:\\videos\\ar34motor\\2022_02_03\\131video.mp4\n",
      "No unfiltered data file found in F:\\videos\\ar34motor\\2022_02_03 for video 131video and scorer DLC_resnet50_Topview3435Jul28shuffle1_110000.\n",
      "Filtering with median model F:\\videos\\ar34motor\\2022_02_03\\132video.mp4\n",
      "No unfiltered data file found in F:\\videos\\ar34motor\\2022_02_03 for video 132video and scorer DLC_resnet50_Topview3435Jul28shuffle1_110000.\n"
     ]
    },
    {
     "name": "stdout",
     "output_type": "stream",
     "text": [
      "Filtering with median model F:\\videos\\ar34motor\\2022_02_03\\133video.mp4\n",
      "No unfiltered data file found in F:\\videos\\ar34motor\\2022_02_03 for video 133video and scorer DLC_resnet50_Topview3435Jul28shuffle1_110000.\n",
      "Filtering with median model F:\\videos\\ar34motor\\2022_02_03\\134video.mp4\n",
      "No unfiltered data file found in F:\\videos\\ar34motor\\2022_02_03 for video 134video and scorer DLC_resnet50_Topview3435Jul28shuffle1_110000.\n",
      "Filtering with median model F:\\videos\\ar34motor\\2022_02_03\\135video.mp4\n",
      "No unfiltered data file found in F:\\videos\\ar34motor\\2022_02_03 for video 135video and scorer DLC_resnet50_Topview3435Jul28shuffle1_110000.\n",
      "Filtering with median model F:\\videos\\ar34motor\\2022_02_03\\136video.mp4\n",
      "No unfiltered data file found in F:\\videos\\ar34motor\\2022_02_03 for video 136video and scorer DLC_resnet50_Topview3435Jul28shuffle1_110000.\n",
      "Filtering with median model F:\\videos\\ar34motor\\2022_02_03\\137video.mp4\n",
      "No unfiltered data file found in F:\\videos\\ar34motor\\2022_02_03 for video 137video and scorer DLC_resnet50_Topview3435Jul28shuffle1_110000.\n",
      "Filtering with median model F:\\videos\\ar34motor\\2022_02_03\\138video.mp4\n",
      "No unfiltered data file found in F:\\videos\\ar34motor\\2022_02_03 for video 138video and scorer DLC_resnet50_Topview3435Jul28shuffle1_110000.\n",
      "Filtering with median model F:\\videos\\ar34motor\\2022_02_03\\139video.mp4\n",
      "No unfiltered data file found in F:\\videos\\ar34motor\\2022_02_03 for video 139video and scorer DLC_resnet50_Topview3435Jul28shuffle1_110000.\n",
      "Filtering with median model F:\\videos\\ar34motor\\2022_02_03\\13video.mp4\n",
      "No unfiltered data file found in F:\\videos\\ar34motor\\2022_02_03 for video 13video and scorer DLC_resnet50_Topview3435Jul28shuffle1_110000.\n",
      "Filtering with median model F:\\videos\\ar34motor\\2022_02_03\\140video.mp4\n",
      "No unfiltered data file found in F:\\videos\\ar34motor\\2022_02_03 for video 140video and scorer DLC_resnet50_Topview3435Jul28shuffle1_110000.\n",
      "Filtering with median model F:\\videos\\ar34motor\\2022_02_03\\141video.mp4\n",
      "No unfiltered data file found in F:\\videos\\ar34motor\\2022_02_03 for video 141video and scorer DLC_resnet50_Topview3435Jul28shuffle1_110000.\n",
      "Filtering with median model F:\\videos\\ar34motor\\2022_02_03\\142video.mp4\n",
      "No unfiltered data file found in F:\\videos\\ar34motor\\2022_02_03 for video 142video and scorer DLC_resnet50_Topview3435Jul28shuffle1_110000.\n",
      "Filtering with median model F:\\videos\\ar34motor\\2022_02_03\\143video.mp4\n",
      "No unfiltered data file found in F:\\videos\\ar34motor\\2022_02_03 for video 143video and scorer DLC_resnet50_Topview3435Jul28shuffle1_110000.\n",
      "Filtering with median model F:\\videos\\ar34motor\\2022_02_03\\144video.mp4\n",
      "No unfiltered data file found in F:\\videos\\ar34motor\\2022_02_03 for video 144video and scorer DLC_resnet50_Topview3435Jul28shuffle1_110000.\n",
      "Filtering with median model F:\\videos\\ar34motor\\2022_02_03\\145video.mp4\n",
      "No unfiltered data file found in F:\\videos\\ar34motor\\2022_02_03 for video 145video and scorer DLC_resnet50_Topview3435Jul28shuffle1_110000.\n",
      "Filtering with median model F:\\videos\\ar34motor\\2022_02_03\\146video.mp4\n",
      "No unfiltered data file found in F:\\videos\\ar34motor\\2022_02_03 for video 146video and scorer DLC_resnet50_Topview3435Jul28shuffle1_110000.\n",
      "Filtering with median model F:\\videos\\ar34motor\\2022_02_03\\147video.mp4\n",
      "No unfiltered data file found in F:\\videos\\ar34motor\\2022_02_03 for video 147video and scorer DLC_resnet50_Topview3435Jul28shuffle1_110000.\n",
      "Filtering with median model F:\\videos\\ar34motor\\2022_02_03\\148video.mp4\n",
      "No unfiltered data file found in F:\\videos\\ar34motor\\2022_02_03 for video 148video and scorer DLC_resnet50_Topview3435Jul28shuffle1_110000.\n",
      "Filtering with median model F:\\videos\\ar34motor\\2022_02_03\\149video.mp4\n",
      "No unfiltered data file found in F:\\videos\\ar34motor\\2022_02_03 for video 149video and scorer DLC_resnet50_Topview3435Jul28shuffle1_110000.\n",
      "Filtering with median model F:\\videos\\ar34motor\\2022_02_03\\14video.mp4\n",
      "No unfiltered data file found in F:\\videos\\ar34motor\\2022_02_03 for video 14video and scorer DLC_resnet50_Topview3435Jul28shuffle1_110000.\n",
      "Filtering with median model F:\\videos\\ar34motor\\2022_02_03\\150video.mp4\n",
      "No unfiltered data file found in F:\\videos\\ar34motor\\2022_02_03 for video 150video and scorer DLC_resnet50_Topview3435Jul28shuffle1_110000.\n",
      "Filtering with median model F:\\videos\\ar34motor\\2022_02_03\\151video.mp4\n",
      "No unfiltered data file found in F:\\videos\\ar34motor\\2022_02_03 for video 151video and scorer DLC_resnet50_Topview3435Jul28shuffle1_110000.\n",
      "Filtering with median model F:\\videos\\ar34motor\\2022_02_03\\152video.mp4\n",
      "No unfiltered data file found in F:\\videos\\ar34motor\\2022_02_03 for video 152video and scorer DLC_resnet50_Topview3435Jul28shuffle1_110000.\n",
      "Filtering with median model F:\\videos\\ar34motor\\2022_02_03\\153video.mp4\n",
      "No unfiltered data file found in F:\\videos\\ar34motor\\2022_02_03 for video 153video and scorer DLC_resnet50_Topview3435Jul28shuffle1_110000.\n",
      "Filtering with median model F:\\videos\\ar34motor\\2022_02_03\\154video.mp4\n",
      "No unfiltered data file found in F:\\videos\\ar34motor\\2022_02_03 for video 154video and scorer DLC_resnet50_Topview3435Jul28shuffle1_110000.\n",
      "Filtering with median model F:\\videos\\ar34motor\\2022_02_03\\155video.mp4\n",
      "No unfiltered data file found in F:\\videos\\ar34motor\\2022_02_03 for video 155video and scorer DLC_resnet50_Topview3435Jul28shuffle1_110000.\n",
      "Filtering with median model F:\\videos\\ar34motor\\2022_02_03\\156video.mp4\n",
      "No unfiltered data file found in F:\\videos\\ar34motor\\2022_02_03 for video 156video and scorer DLC_resnet50_Topview3435Jul28shuffle1_110000.\n",
      "Filtering with median model F:\\videos\\ar34motor\\2022_02_03\\157video.mp4\n",
      "No unfiltered data file found in F:\\videos\\ar34motor\\2022_02_03 for video 157video and scorer DLC_resnet50_Topview3435Jul28shuffle1_110000.\n",
      "Filtering with median model F:\\videos\\ar34motor\\2022_02_03\\158video.mp4\n",
      "No unfiltered data file found in F:\\videos\\ar34motor\\2022_02_03 for video 158video and scorer DLC_resnet50_Topview3435Jul28shuffle1_110000.\n",
      "Filtering with median model F:\\videos\\ar34motor\\2022_02_03\\15video.mp4\n",
      "No unfiltered data file found in F:\\videos\\ar34motor\\2022_02_03 for video 15video and scorer DLC_resnet50_Topview3435Jul28shuffle1_110000.\n",
      "Filtering with median model F:\\videos\\ar34motor\\2022_02_03\\16video.mp4\n",
      "No unfiltered data file found in F:\\videos\\ar34motor\\2022_02_03 for video 16video and scorer DLC_resnet50_Topview3435Jul28shuffle1_110000.\n",
      "Filtering with median model F:\\videos\\ar34motor\\2022_02_03\\17video.mp4\n",
      "No unfiltered data file found in F:\\videos\\ar34motor\\2022_02_03 for video 17video and scorer DLC_resnet50_Topview3435Jul28shuffle1_110000.\n",
      "Filtering with median model F:\\videos\\ar34motor\\2022_02_03\\18video.mp4\n",
      "No unfiltered data file found in F:\\videos\\ar34motor\\2022_02_03 for video 18video and scorer DLC_resnet50_Topview3435Jul28shuffle1_110000.\n",
      "Filtering with median model F:\\videos\\ar34motor\\2022_02_03\\19video.mp4\n",
      "No unfiltered data file found in F:\\videos\\ar34motor\\2022_02_03 for video 19video and scorer DLC_resnet50_Topview3435Jul28shuffle1_110000.\n",
      "Filtering with median model F:\\videos\\ar34motor\\2022_02_03\\1video.mp4\n",
      "No unfiltered data file found in F:\\videos\\ar34motor\\2022_02_03 for video 1video and scorer DLC_resnet50_Topview3435Jul28shuffle1_110000.\n",
      "Filtering with median model F:\\videos\\ar34motor\\2022_02_03\\20video.mp4\n",
      "No unfiltered data file found in F:\\videos\\ar34motor\\2022_02_03 for video 20video and scorer DLC_resnet50_Topview3435Jul28shuffle1_110000.\n",
      "Filtering with median model F:\\videos\\ar34motor\\2022_02_03\\21video.mp4\n",
      "No unfiltered data file found in F:\\videos\\ar34motor\\2022_02_03 for video 21video and scorer DLC_resnet50_Topview3435Jul28shuffle1_110000.\n",
      "Filtering with median model F:\\videos\\ar34motor\\2022_02_03\\22video.mp4\n",
      "No unfiltered data file found in F:\\videos\\ar34motor\\2022_02_03 for video 22video and scorer DLC_resnet50_Topview3435Jul28shuffle1_110000.\n",
      "Filtering with median model F:\\videos\\ar34motor\\2022_02_03\\23video.mp4\n",
      "No unfiltered data file found in F:\\videos\\ar34motor\\2022_02_03 for video 23video and scorer DLC_resnet50_Topview3435Jul28shuffle1_110000.\n",
      "Filtering with median model F:\\videos\\ar34motor\\2022_02_03\\24video.mp4\n"
     ]
    },
    {
     "name": "stdout",
     "output_type": "stream",
     "text": [
      "No unfiltered data file found in F:\\videos\\ar34motor\\2022_02_03 for video 24video and scorer DLC_resnet50_Topview3435Jul28shuffle1_110000.\n",
      "Filtering with median model F:\\videos\\ar34motor\\2022_02_03\\25video.mp4\n",
      "No unfiltered data file found in F:\\videos\\ar34motor\\2022_02_03 for video 25video and scorer DLC_resnet50_Topview3435Jul28shuffle1_110000.\n",
      "Filtering with median model F:\\videos\\ar34motor\\2022_02_03\\26video.mp4\n",
      "No unfiltered data file found in F:\\videos\\ar34motor\\2022_02_03 for video 26video and scorer DLC_resnet50_Topview3435Jul28shuffle1_110000.\n",
      "Filtering with median model F:\\videos\\ar34motor\\2022_02_03\\27video.mp4\n",
      "No unfiltered data file found in F:\\videos\\ar34motor\\2022_02_03 for video 27video and scorer DLC_resnet50_Topview3435Jul28shuffle1_110000.\n",
      "Filtering with median model F:\\videos\\ar34motor\\2022_02_03\\28video.mp4\n",
      "No unfiltered data file found in F:\\videos\\ar34motor\\2022_02_03 for video 28video and scorer DLC_resnet50_Topview3435Jul28shuffle1_110000.\n",
      "Filtering with median model F:\\videos\\ar34motor\\2022_02_03\\29video.mp4\n",
      "No unfiltered data file found in F:\\videos\\ar34motor\\2022_02_03 for video 29video and scorer DLC_resnet50_Topview3435Jul28shuffle1_110000.\n",
      "Filtering with median model F:\\videos\\ar34motor\\2022_02_03\\2video.mp4\n",
      "No unfiltered data file found in F:\\videos\\ar34motor\\2022_02_03 for video 2video and scorer DLC_resnet50_Topview3435Jul28shuffle1_110000.\n",
      "Filtering with median model F:\\videos\\ar34motor\\2022_02_03\\30video.mp4\n",
      "No unfiltered data file found in F:\\videos\\ar34motor\\2022_02_03 for video 30video and scorer DLC_resnet50_Topview3435Jul28shuffle1_110000.\n",
      "Filtering with median model F:\\videos\\ar34motor\\2022_02_03\\31video.mp4\n",
      "No unfiltered data file found in F:\\videos\\ar34motor\\2022_02_03 for video 31video and scorer DLC_resnet50_Topview3435Jul28shuffle1_110000.\n",
      "Filtering with median model F:\\videos\\ar34motor\\2022_02_03\\32video.mp4\n",
      "No unfiltered data file found in F:\\videos\\ar34motor\\2022_02_03 for video 32video and scorer DLC_resnet50_Topview3435Jul28shuffle1_110000.\n",
      "Filtering with median model F:\\videos\\ar34motor\\2022_02_03\\33video.mp4\n",
      "No unfiltered data file found in F:\\videos\\ar34motor\\2022_02_03 for video 33video and scorer DLC_resnet50_Topview3435Jul28shuffle1_110000.\n",
      "Filtering with median model F:\\videos\\ar34motor\\2022_02_03\\34video.mp4\n",
      "No unfiltered data file found in F:\\videos\\ar34motor\\2022_02_03 for video 34video and scorer DLC_resnet50_Topview3435Jul28shuffle1_110000.\n",
      "Filtering with median model F:\\videos\\ar34motor\\2022_02_03\\35video.mp4\n",
      "No unfiltered data file found in F:\\videos\\ar34motor\\2022_02_03 for video 35video and scorer DLC_resnet50_Topview3435Jul28shuffle1_110000.\n",
      "Filtering with median model F:\\videos\\ar34motor\\2022_02_03\\36video.mp4\n",
      "No unfiltered data file found in F:\\videos\\ar34motor\\2022_02_03 for video 36video and scorer DLC_resnet50_Topview3435Jul28shuffle1_110000.\n",
      "Filtering with median model F:\\videos\\ar34motor\\2022_02_03\\37video.mp4\n",
      "No unfiltered data file found in F:\\videos\\ar34motor\\2022_02_03 for video 37video and scorer DLC_resnet50_Topview3435Jul28shuffle1_110000.\n",
      "Filtering with median model F:\\videos\\ar34motor\\2022_02_03\\38video.mp4\n",
      "No unfiltered data file found in F:\\videos\\ar34motor\\2022_02_03 for video 38video and scorer DLC_resnet50_Topview3435Jul28shuffle1_110000.\n",
      "Filtering with median model F:\\videos\\ar34motor\\2022_02_03\\39video.mp4\n",
      "No unfiltered data file found in F:\\videos\\ar34motor\\2022_02_03 for video 39video and scorer DLC_resnet50_Topview3435Jul28shuffle1_110000.\n",
      "Filtering with median model F:\\videos\\ar34motor\\2022_02_03\\3video.mp4\n",
      "No unfiltered data file found in F:\\videos\\ar34motor\\2022_02_03 for video 3video and scorer DLC_resnet50_Topview3435Jul28shuffle1_110000.\n",
      "Filtering with median model F:\\videos\\ar34motor\\2022_02_03\\40video.mp4\n",
      "No unfiltered data file found in F:\\videos\\ar34motor\\2022_02_03 for video 40video and scorer DLC_resnet50_Topview3435Jul28shuffle1_110000.\n",
      "Filtering with median model F:\\videos\\ar34motor\\2022_02_03\\41video.mp4\n",
      "No unfiltered data file found in F:\\videos\\ar34motor\\2022_02_03 for video 41video and scorer DLC_resnet50_Topview3435Jul28shuffle1_110000.\n",
      "Filtering with median model F:\\videos\\ar34motor\\2022_02_03\\42video.mp4\n",
      "No unfiltered data file found in F:\\videos\\ar34motor\\2022_02_03 for video 42video and scorer DLC_resnet50_Topview3435Jul28shuffle1_110000.\n",
      "Filtering with median model F:\\videos\\ar34motor\\2022_02_03\\43video.mp4\n",
      "No unfiltered data file found in F:\\videos\\ar34motor\\2022_02_03 for video 43video and scorer DLC_resnet50_Topview3435Jul28shuffle1_110000.\n",
      "Filtering with median model F:\\videos\\ar34motor\\2022_02_03\\44video.mp4\n",
      "No unfiltered data file found in F:\\videos\\ar34motor\\2022_02_03 for video 44video and scorer DLC_resnet50_Topview3435Jul28shuffle1_110000.\n",
      "Filtering with median model F:\\videos\\ar34motor\\2022_02_03\\45video.mp4\n",
      "No unfiltered data file found in F:\\videos\\ar34motor\\2022_02_03 for video 45video and scorer DLC_resnet50_Topview3435Jul28shuffle1_110000.\n",
      "Filtering with median model F:\\videos\\ar34motor\\2022_02_03\\46video.mp4\n",
      "No unfiltered data file found in F:\\videos\\ar34motor\\2022_02_03 for video 46video and scorer DLC_resnet50_Topview3435Jul28shuffle1_110000.\n",
      "Filtering with median model F:\\videos\\ar34motor\\2022_02_03\\47video.mp4\n",
      "No unfiltered data file found in F:\\videos\\ar34motor\\2022_02_03 for video 47video and scorer DLC_resnet50_Topview3435Jul28shuffle1_110000.\n",
      "Filtering with median model F:\\videos\\ar34motor\\2022_02_03\\48video.mp4\n",
      "No unfiltered data file found in F:\\videos\\ar34motor\\2022_02_03 for video 48video and scorer DLC_resnet50_Topview3435Jul28shuffle1_110000.\n",
      "Filtering with median model F:\\videos\\ar34motor\\2022_02_03\\49video.mp4\n",
      "No unfiltered data file found in F:\\videos\\ar34motor\\2022_02_03 for video 49video and scorer DLC_resnet50_Topview3435Jul28shuffle1_110000.\n",
      "Filtering with median model F:\\videos\\ar34motor\\2022_02_03\\4video.mp4\n",
      "No unfiltered data file found in F:\\videos\\ar34motor\\2022_02_03 for video 4video and scorer DLC_resnet50_Topview3435Jul28shuffle1_110000.\n",
      "Filtering with median model F:\\videos\\ar34motor\\2022_02_03\\50video.mp4\n",
      "No unfiltered data file found in F:\\videos\\ar34motor\\2022_02_03 for video 50video and scorer DLC_resnet50_Topview3435Jul28shuffle1_110000.\n",
      "Filtering with median model F:\\videos\\ar34motor\\2022_02_03\\51video.mp4\n",
      "No unfiltered data file found in F:\\videos\\ar34motor\\2022_02_03 for video 51video and scorer DLC_resnet50_Topview3435Jul28shuffle1_110000.\n",
      "Filtering with median model F:\\videos\\ar34motor\\2022_02_03\\52video.mp4\n",
      "No unfiltered data file found in F:\\videos\\ar34motor\\2022_02_03 for video 52video and scorer DLC_resnet50_Topview3435Jul28shuffle1_110000.\n",
      "Filtering with median model F:\\videos\\ar34motor\\2022_02_03\\53video.mp4\n",
      "No unfiltered data file found in F:\\videos\\ar34motor\\2022_02_03 for video 53video and scorer DLC_resnet50_Topview3435Jul28shuffle1_110000.\n",
      "Filtering with median model F:\\videos\\ar34motor\\2022_02_03\\54video.mp4\n",
      "No unfiltered data file found in F:\\videos\\ar34motor\\2022_02_03 for video 54video and scorer DLC_resnet50_Topview3435Jul28shuffle1_110000.\n",
      "Filtering with median model F:\\videos\\ar34motor\\2022_02_03\\55video.mp4\n",
      "No unfiltered data file found in F:\\videos\\ar34motor\\2022_02_03 for video 55video and scorer DLC_resnet50_Topview3435Jul28shuffle1_110000.\n",
      "Filtering with median model F:\\videos\\ar34motor\\2022_02_03\\56video.mp4\n",
      "No unfiltered data file found in F:\\videos\\ar34motor\\2022_02_03 for video 56video and scorer DLC_resnet50_Topview3435Jul28shuffle1_110000.\n",
      "Filtering with median model F:\\videos\\ar34motor\\2022_02_03\\57video.mp4\n",
      "No unfiltered data file found in F:\\videos\\ar34motor\\2022_02_03 for video 57video and scorer DLC_resnet50_Topview3435Jul28shuffle1_110000.\n",
      "Filtering with median model F:\\videos\\ar34motor\\2022_02_03\\58video.mp4\n",
      "No unfiltered data file found in F:\\videos\\ar34motor\\2022_02_03 for video 58video and scorer DLC_resnet50_Topview3435Jul28shuffle1_110000.\n",
      "Filtering with median model F:\\videos\\ar34motor\\2022_02_03\\59video.mp4\n",
      "No unfiltered data file found in F:\\videos\\ar34motor\\2022_02_03 for video 59video and scorer DLC_resnet50_Topview3435Jul28shuffle1_110000.\n",
      "Filtering with median model F:\\videos\\ar34motor\\2022_02_03\\5video.mp4\n"
     ]
    },
    {
     "name": "stdout",
     "output_type": "stream",
     "text": [
      "No unfiltered data file found in F:\\videos\\ar34motor\\2022_02_03 for video 5video and scorer DLC_resnet50_Topview3435Jul28shuffle1_110000.\n",
      "Filtering with median model F:\\videos\\ar34motor\\2022_02_03\\60video.mp4\n",
      "No unfiltered data file found in F:\\videos\\ar34motor\\2022_02_03 for video 60video and scorer DLC_resnet50_Topview3435Jul28shuffle1_110000.\n",
      "Filtering with median model F:\\videos\\ar34motor\\2022_02_03\\61video.mp4\n",
      "No unfiltered data file found in F:\\videos\\ar34motor\\2022_02_03 for video 61video and scorer DLC_resnet50_Topview3435Jul28shuffle1_110000.\n",
      "Filtering with median model F:\\videos\\ar34motor\\2022_02_03\\62video.mp4\n",
      "No unfiltered data file found in F:\\videos\\ar34motor\\2022_02_03 for video 62video and scorer DLC_resnet50_Topview3435Jul28shuffle1_110000.\n",
      "Filtering with median model F:\\videos\\ar34motor\\2022_02_03\\63video.mp4\n",
      "No unfiltered data file found in F:\\videos\\ar34motor\\2022_02_03 for video 63video and scorer DLC_resnet50_Topview3435Jul28shuffle1_110000.\n",
      "Filtering with median model F:\\videos\\ar34motor\\2022_02_03\\64video.mp4\n",
      "No unfiltered data file found in F:\\videos\\ar34motor\\2022_02_03 for video 64video and scorer DLC_resnet50_Topview3435Jul28shuffle1_110000.\n",
      "Filtering with median model F:\\videos\\ar34motor\\2022_02_03\\65video.mp4\n",
      "No unfiltered data file found in F:\\videos\\ar34motor\\2022_02_03 for video 65video and scorer DLC_resnet50_Topview3435Jul28shuffle1_110000.\n",
      "Filtering with median model F:\\videos\\ar34motor\\2022_02_03\\66video.mp4\n",
      "No unfiltered data file found in F:\\videos\\ar34motor\\2022_02_03 for video 66video and scorer DLC_resnet50_Topview3435Jul28shuffle1_110000.\n",
      "Filtering with median model F:\\videos\\ar34motor\\2022_02_03\\67video.mp4\n",
      "No unfiltered data file found in F:\\videos\\ar34motor\\2022_02_03 for video 67video and scorer DLC_resnet50_Topview3435Jul28shuffle1_110000.\n",
      "Filtering with median model F:\\videos\\ar34motor\\2022_02_03\\68video.mp4\n",
      "No unfiltered data file found in F:\\videos\\ar34motor\\2022_02_03 for video 68video and scorer DLC_resnet50_Topview3435Jul28shuffle1_110000.\n",
      "Filtering with median model F:\\videos\\ar34motor\\2022_02_03\\69video.mp4\n",
      "No unfiltered data file found in F:\\videos\\ar34motor\\2022_02_03 for video 69video and scorer DLC_resnet50_Topview3435Jul28shuffle1_110000.\n",
      "Filtering with median model F:\\videos\\ar34motor\\2022_02_03\\6video.mp4\n",
      "No unfiltered data file found in F:\\videos\\ar34motor\\2022_02_03 for video 6video and scorer DLC_resnet50_Topview3435Jul28shuffle1_110000.\n",
      "Filtering with median model F:\\videos\\ar34motor\\2022_02_03\\70video.mp4\n",
      "No unfiltered data file found in F:\\videos\\ar34motor\\2022_02_03 for video 70video and scorer DLC_resnet50_Topview3435Jul28shuffle1_110000.\n",
      "Filtering with median model F:\\videos\\ar34motor\\2022_02_03\\71video.mp4\n",
      "No unfiltered data file found in F:\\videos\\ar34motor\\2022_02_03 for video 71video and scorer DLC_resnet50_Topview3435Jul28shuffle1_110000.\n",
      "Filtering with median model F:\\videos\\ar34motor\\2022_02_03\\72video.mp4\n",
      "No unfiltered data file found in F:\\videos\\ar34motor\\2022_02_03 for video 72video and scorer DLC_resnet50_Topview3435Jul28shuffle1_110000.\n",
      "Filtering with median model F:\\videos\\ar34motor\\2022_02_03\\73video.mp4\n",
      "No unfiltered data file found in F:\\videos\\ar34motor\\2022_02_03 for video 73video and scorer DLC_resnet50_Topview3435Jul28shuffle1_110000.\n",
      "Filtering with median model F:\\videos\\ar34motor\\2022_02_03\\74video.mp4\n",
      "No unfiltered data file found in F:\\videos\\ar34motor\\2022_02_03 for video 74video and scorer DLC_resnet50_Topview3435Jul28shuffle1_110000.\n",
      "Filtering with median model F:\\videos\\ar34motor\\2022_02_03\\75video.mp4\n",
      "No unfiltered data file found in F:\\videos\\ar34motor\\2022_02_03 for video 75video and scorer DLC_resnet50_Topview3435Jul28shuffle1_110000.\n",
      "Filtering with median model F:\\videos\\ar34motor\\2022_02_03\\76video.mp4\n",
      "No unfiltered data file found in F:\\videos\\ar34motor\\2022_02_03 for video 76video and scorer DLC_resnet50_Topview3435Jul28shuffle1_110000.\n",
      "Filtering with median model F:\\videos\\ar34motor\\2022_02_03\\77video.mp4\n",
      "No unfiltered data file found in F:\\videos\\ar34motor\\2022_02_03 for video 77video and scorer DLC_resnet50_Topview3435Jul28shuffle1_110000.\n",
      "Filtering with median model F:\\videos\\ar34motor\\2022_02_03\\78video.mp4\n",
      "No unfiltered data file found in F:\\videos\\ar34motor\\2022_02_03 for video 78video and scorer DLC_resnet50_Topview3435Jul28shuffle1_110000.\n",
      "Filtering with median model F:\\videos\\ar34motor\\2022_02_03\\79video.mp4\n",
      "No unfiltered data file found in F:\\videos\\ar34motor\\2022_02_03 for video 79video and scorer DLC_resnet50_Topview3435Jul28shuffle1_110000.\n",
      "Filtering with median model F:\\videos\\ar34motor\\2022_02_03\\7video.mp4\n",
      "No unfiltered data file found in F:\\videos\\ar34motor\\2022_02_03 for video 7video and scorer DLC_resnet50_Topview3435Jul28shuffle1_110000.\n",
      "Filtering with median model F:\\videos\\ar34motor\\2022_02_03\\80video.mp4\n",
      "No unfiltered data file found in F:\\videos\\ar34motor\\2022_02_03 for video 80video and scorer DLC_resnet50_Topview3435Jul28shuffle1_110000.\n",
      "Filtering with median model F:\\videos\\ar34motor\\2022_02_03\\81video.mp4\n",
      "No unfiltered data file found in F:\\videos\\ar34motor\\2022_02_03 for video 81video and scorer DLC_resnet50_Topview3435Jul28shuffle1_110000.\n",
      "Filtering with median model F:\\videos\\ar34motor\\2022_02_03\\82video.mp4\n",
      "No unfiltered data file found in F:\\videos\\ar34motor\\2022_02_03 for video 82video and scorer DLC_resnet50_Topview3435Jul28shuffle1_110000.\n",
      "Filtering with median model F:\\videos\\ar34motor\\2022_02_03\\83video.mp4\n",
      "No unfiltered data file found in F:\\videos\\ar34motor\\2022_02_03 for video 83video and scorer DLC_resnet50_Topview3435Jul28shuffle1_110000.\n",
      "Filtering with median model F:\\videos\\ar34motor\\2022_02_03\\84video.mp4\n",
      "No unfiltered data file found in F:\\videos\\ar34motor\\2022_02_03 for video 84video and scorer DLC_resnet50_Topview3435Jul28shuffle1_110000.\n",
      "Filtering with median model F:\\videos\\ar34motor\\2022_02_03\\85video.mp4\n",
      "No unfiltered data file found in F:\\videos\\ar34motor\\2022_02_03 for video 85video and scorer DLC_resnet50_Topview3435Jul28shuffle1_110000.\n",
      "Filtering with median model F:\\videos\\ar34motor\\2022_02_03\\86video.mp4\n",
      "No unfiltered data file found in F:\\videos\\ar34motor\\2022_02_03 for video 86video and scorer DLC_resnet50_Topview3435Jul28shuffle1_110000.\n",
      "Filtering with median model F:\\videos\\ar34motor\\2022_02_03\\87video.mp4\n",
      "No unfiltered data file found in F:\\videos\\ar34motor\\2022_02_03 for video 87video and scorer DLC_resnet50_Topview3435Jul28shuffle1_110000.\n",
      "Filtering with median model F:\\videos\\ar34motor\\2022_02_03\\88video.mp4\n",
      "No unfiltered data file found in F:\\videos\\ar34motor\\2022_02_03 for video 88video and scorer DLC_resnet50_Topview3435Jul28shuffle1_110000.\n",
      "Filtering with median model F:\\videos\\ar34motor\\2022_02_03\\89video.mp4\n",
      "No unfiltered data file found in F:\\videos\\ar34motor\\2022_02_03 for video 89video and scorer DLC_resnet50_Topview3435Jul28shuffle1_110000.\n",
      "Filtering with median model F:\\videos\\ar34motor\\2022_02_03\\8video.mp4\n",
      "No unfiltered data file found in F:\\videos\\ar34motor\\2022_02_03 for video 8video and scorer DLC_resnet50_Topview3435Jul28shuffle1_110000.\n",
      "Filtering with median model F:\\videos\\ar34motor\\2022_02_03\\90video.mp4\n",
      "No unfiltered data file found in F:\\videos\\ar34motor\\2022_02_03 for video 90video and scorer DLC_resnet50_Topview3435Jul28shuffle1_110000.\n",
      "Filtering with median model F:\\videos\\ar34motor\\2022_02_03\\91video.mp4\n",
      "No unfiltered data file found in F:\\videos\\ar34motor\\2022_02_03 for video 91video and scorer DLC_resnet50_Topview3435Jul28shuffle1_110000.\n",
      "Filtering with median model F:\\videos\\ar34motor\\2022_02_03\\92video.mp4\n",
      "No unfiltered data file found in F:\\videos\\ar34motor\\2022_02_03 for video 92video and scorer DLC_resnet50_Topview3435Jul28shuffle1_110000.\n",
      "Filtering with median model F:\\videos\\ar34motor\\2022_02_03\\93video.mp4\n",
      "No unfiltered data file found in F:\\videos\\ar34motor\\2022_02_03 for video 93video and scorer DLC_resnet50_Topview3435Jul28shuffle1_110000.\n",
      "Filtering with median model F:\\videos\\ar34motor\\2022_02_03\\94video.mp4\n",
      "No unfiltered data file found in F:\\videos\\ar34motor\\2022_02_03 for video 94video and scorer DLC_resnet50_Topview3435Jul28shuffle1_110000.\n",
      "Filtering with median model F:\\videos\\ar34motor\\2022_02_03\\95video.mp4\n"
     ]
    },
    {
     "name": "stdout",
     "output_type": "stream",
     "text": [
      "No unfiltered data file found in F:\\videos\\ar34motor\\2022_02_03 for video 95video and scorer DLC_resnet50_Topview3435Jul28shuffle1_110000.\n",
      "Filtering with median model F:\\videos\\ar34motor\\2022_02_03\\96video.mp4\n",
      "No unfiltered data file found in F:\\videos\\ar34motor\\2022_02_03 for video 96video and scorer DLC_resnet50_Topview3435Jul28shuffle1_110000.\n",
      "Filtering with median model F:\\videos\\ar34motor\\2022_02_03\\97video.mp4\n",
      "No unfiltered data file found in F:\\videos\\ar34motor\\2022_02_03 for video 97video and scorer DLC_resnet50_Topview3435Jul28shuffle1_110000.\n",
      "Filtering with median model F:\\videos\\ar34motor\\2022_02_03\\98video.mp4\n",
      "No unfiltered data file found in F:\\videos\\ar34motor\\2022_02_03 for video 98video and scorer DLC_resnet50_Topview3435Jul28shuffle1_110000.\n",
      "Filtering with median model F:\\videos\\ar34motor\\2022_02_03\\99video.mp4\n",
      "No unfiltered data file found in F:\\videos\\ar34motor\\2022_02_03 for video 99video and scorer DLC_resnet50_Topview3435Jul28shuffle1_110000.\n",
      "Filtering with median model F:\\videos\\ar34motor\\2022_02_03\\9video.mp4\n",
      "No unfiltered data file found in F:\\videos\\ar34motor\\2022_02_03 for video 9video and scorer DLC_resnet50_Topview3435Jul28shuffle1_110000.\n"
     ]
    }
   ],
   "source": [
    "path_config_file = 'D:\\\\videos\\\\ar32\\\\ar32_10_11_24-Arash-2020-11-25\\\\config.yaml';\n",
    "#Mainfolder = 'D:\\\\videos\\\\ar32\\\\2020_12_18';\n",
    "path_config_file = 'F:\\\\DLC\\\\Topview3435-Arash-2021-07-28\\\\config.yaml'\n",
    "import os\n",
    "text_files = [os.path.join(Mainfolder,f) for f in os.listdir(Mainfolder) if f.endswith('video.mp4') and not f.endswith('L.avi') and not f.endswith('R.avi') and not f.endswith('videopoints.avi') and not f.endswith('videopoints.avi')]\n",
    "#text_files = [os.path.join(Mainfolder,f) for f in os.listdir(Mainfolder) if f.endswith('.avi') and not f.endswith('L.avi') and not f.endswith('R.avi') and not f.endswith('videopoints.avi') and not f.endswith('videopoints.avi')]\n",
    "\n",
    "print(text_files[1])\n",
    "#text_files='C:\\\\videos\\\\ar30motor\\\\2021_04_25\\\\9.avi'\n",
    "temp1=deeplabcut.analyze_videos(path_config_file,text_files,shuffle=1, save_as_csv=True )\n",
    "temp=deeplabcut.filterpredictions(path_config_file,text_files)"
   ]
  },
  {
   "cell_type": "code",
   "execution_count": null,
   "metadata": {},
   "outputs": [],
   "source": [
    "path_config_file = 'D:\\\\videos\\\\ar32\\\\ar32_10_11_24-Arash-2020-11-25\\\\config.yaml';\n",
    "#Mainfolder = 'D:\\\\videos\\\\ar32\\\\2020_12_18';\n",
    "path_config_file = 'F:\\\\DLC\\\\Topview3435-Arash-2021-07-28\\\\config.yaml'\n",
    "import os\n",
    "text_files = [os.path.join(Mainfolder,f) for f in os.listdir(Mainfolder) if f.endswith('video.mp4') and not f.endswith('L.avi') and not f.endswith('R.avi') and not f.endswith('videopoints.avi') and not f.endswith('videopoints.avi')]\n",
    "print(text_files[1])"
   ]
  },
  {
   "cell_type": "code",
   "execution_count": null,
   "metadata": {},
   "outputs": [],
   "source": [
    "import os\n",
    "path_config_file = 'F:\\\\DLC\\\\Topview3435-Arash-2021-07-28\\\\config.yaml'\n",
    "text_files = [os.path.join(Mainfolder,f) for f in os.listdir(Mainfolder) if f.endswith('.avi') and not f.endswith('L.avi') and not f.endswith('R.avi') and not f.endswith('videopoints.avi') and not f.endswith('videopoints.avi')]\n",
    "temp=deeplabcut.filterpredictions(path_config_file,text_files)"
   ]
  },
  {
   "cell_type": "markdown",
   "metadata": {},
   "source": [
    "# make left right movies out of DLC output\n",
    "this step should take the filtered DLC output (Nose and Snout) and create the L and R movies"
   ]
  },
  {
   "cell_type": "code",
   "execution_count": 5,
   "metadata": {
    "scrolled": true
   },
   "outputs": [
    {
     "ename": "ModuleNotFoundError",
     "evalue": "No module named 'LR_movie_maker_Main'",
     "output_type": "error",
     "traceback": [
      "\u001b[1;31m---------------------------------------------------------------------------\u001b[0m",
      "\u001b[1;31mModuleNotFoundError\u001b[0m                       Traceback (most recent call last)",
      "\u001b[1;32m<ipython-input-5-6ce2e012cd9f>\u001b[0m in \u001b[0;36m<module>\u001b[1;34m\u001b[0m\n\u001b[0;32m      2\u001b[0m \u001b[1;32mimport\u001b[0m \u001b[0mnumpy\u001b[0m \u001b[1;32mas\u001b[0m \u001b[0mnp\u001b[0m\u001b[1;33m\u001b[0m\u001b[1;33m\u001b[0m\u001b[0m\n\u001b[0;32m      3\u001b[0m \u001b[1;32mimport\u001b[0m \u001b[0mos\u001b[0m\u001b[1;33m\u001b[0m\u001b[1;33m\u001b[0m\u001b[0m\n\u001b[1;32m----> 4\u001b[1;33m \u001b[1;32mimport\u001b[0m \u001b[0mLR_movie_maker_Main\u001b[0m\u001b[1;33m\u001b[0m\u001b[1;33m\u001b[0m\u001b[0m\n\u001b[0m\u001b[0;32m      5\u001b[0m \u001b[1;31m#Mainfolder = 'F:\\\\videos\\\\Ar30motor\\\\2021_07_09'\u001b[0m\u001b[1;33m\u001b[0m\u001b[1;33m\u001b[0m\u001b[1;33m\u001b[0m\u001b[0m\n\u001b[0;32m      6\u001b[0m \u001b[1;31m#Mainfolder =  'F:\\\\videos\\\\ar35motor\\\\2021_10_19'; # Enter the name of the folder with images folders inside\u001b[0m\u001b[1;33m\u001b[0m\u001b[1;33m\u001b[0m\u001b[1;33m\u001b[0m\u001b[0m\n",
      "\u001b[1;31mModuleNotFoundError\u001b[0m: No module named 'LR_movie_maker_Main'"
     ]
    }
   ],
   "source": [
    "import time\n",
    "import numpy as np\n",
    "import os\n",
    "import LR_movie_maker_Main\n",
    "#Mainfolder = 'F:\\\\videos\\\\Ar30motor\\\\2021_07_09'\n",
    "#Mainfolder =  'F:\\\\videos\\\\ar35motor\\\\2021_10_19'; # Enter the name of the folder with images folders inside \n",
    "text_files = [os.path.join(Mainfolder,f) for f in os.listdir(Mainfolder) if f.endswith('.mp4') and not f.endswith('L.avi') and not f.endswith('R.avi') and not f.endswith('videopoints.avi') and not f.endswith('videopoints.avi')]\n",
    "print(len(text_files))\n",
    "\n",
    "\n",
    "\n",
    "for trial in range(len(text_files)):\n",
    "    t =time.time()\n",
    "    Tag = 'Topview'\n",
    "    df, Angle,Distance,movivename=LR_movie_maker_Main.readDLCfiles(Mainfolder,Tag,trial)\n",
    "    text = os.path.basename(movivename);\n",
    "    #%matplotlib notebook\n",
    "    Good_Frames =LR_movie_maker_Main.findgoodrames(0.8,50,150,df,Distance)\n",
    "    LR_movie_maker_Main.writeFrameData(Mainfolder,text,Good_Frames,df,Angle)\n",
    "    LR_movie_maker_Main.savemovies_LR(movivename,Angle,df,Good_Frames,\".mp4\") \n",
    "    #plt.plot(Angle[Good_Frames==1] ,'r--')\n",
    "    #plt.title(os.path.basename(movivename))\n",
    "    elapsed = time.time() - t \n",
    "    video_name = (os.path.join(os.path.dirname(movivename),text.split('DLC')[0]+\".avi\"));\n",
    "    print('Trial=',video_name,'Elapsed',elapsed)"
   ]
  },
  {
   "cell_type": "markdown",
   "metadata": {},
   "source": [
    "# save left right for a give trial"
   ]
  },
  {
   "cell_type": "code",
   "execution_count": 14,
   "metadata": {},
   "outputs": [
    {
     "name": "stdout",
     "output_type": "stream",
     "text": [
      "Trial= F:\\videos\\ar35motor\\2021_11_02\\100video.avi Elapsed 43.35529065132141\n"
     ]
    }
   ],
   "source": [
    "import time\n",
    "import numpy as np\n",
    "import os\n",
    "import LR_movie_maker_Main\n",
    "text_files = [os.path.join(Mainfolder,f) for f in os.listdir(Mainfolder) if f.endswith('video.mp4') and not f.endswith('L.avi') and not f.endswith('R.avi') and not f.endswith('videopoints.avi') and not f.endswith('videopoints.avi')]\n",
    "Trialname='100video.mp4'\n",
    "trial = [trial for trial in range(len(text_files)) if text_files[trial].endswith(Trialname)]\n",
    "trial = int(trial[0])\n",
    "\n",
    "t =time.time()\n",
    "Tag = 'Topview'\n",
    "df, Angle,Distance,movivename=LR_movie_maker_Main.readDLCfiles(Mainfolder,Tag,trial)\n",
    "text = os.path.basename(movivename);\n",
    "#%matplotlib notebook\n",
    "Good_Frames =LR_movie_maker_Main.findgoodrames(0.8,50,150,df,Distance)\n",
    "LR_movie_maker_Main.writeFrameData(Mainfolder,text,Good_Frames,df,Angle)\n",
    "LR_movie_maker_Main.savemovies_LR(movivename,Angle,df,Good_Frames,\".mp4\") \n",
    "#plt.plot(Angle[Good_Frames==1] ,'r--')\n",
    "#plt.title(os.path.basename(movivename))\n",
    "elapsed = time.time() - t \n",
    "video_name = (os.path.join(os.path.dirname(movivename),text.split('DLC')[0]+\".avi\"));\n",
    "print('Trial=',video_name,'Elapsed',elapsed)"
   ]
  },
  {
   "cell_type": "code",
   "execution_count": 12,
   "metadata": {},
   "outputs": [
    {
     "name": "stdout",
     "output_type": "stream",
     "text": [
      "F:\\videos\\ar35motor\\2021_11_02\\120video.mp4\n"
     ]
    }
   ],
   "source": [
    "import time\n",
    "import numpy as np\n",
    "import os\n",
    "import LR_movie_maker_Main\n",
    "#Mainfolder = 'F:\\\\videos\\\\Ar30motor\\\\2021_07_09'\n",
    "#Mainfolder =  'F:\\\\videos\\\\ar35motor\\\\2021_10_19'; # Enter the name of the folder with images folders inside \n",
    "text_files = [os.path.join(Mainfolder,f) for f in os.listdir(Mainfolder) if f.endswith('video.mp4') and not f.endswith('L.avi') and not f.endswith('R.avi') and not f.endswith('videopoints.avi') and not f.endswith('videopoints.avi')]\n",
    "Trialname='100video.mp4'\n",
    "trial = [trial for trial in range(len(text_files)) if text_files[trial].endswith(Trialname)]\n",
    "\n",
    "print(text_files[int(trial[0])])"
   ]
  },
  {
   "cell_type": "code",
   "execution_count": null,
   "metadata": {},
   "outputs": [],
   "source": [
    "import time \n",
    "Mainfolder = 'F:\\\\videos\\\\ar32motor\\\\2021_08_02'\n",
    "Mainfolder ='F:\\\\videos\\\\ar35motor\\\\2021_10_19'; # Enter the name of the folder with images folders inside \n",
    "\n",
    "trial=5\n",
    "\n",
    "Tag = 'Topview'\n",
    "df, Angle,Distance,movivename= LR_movie_maker_Main.readDLCfiles(Mainfolder,Tag,trial)\n",
    "Good_Frames =LR_movie_maker_Main.findgoodrames(0.8,50,150,df,Distance)\n",
    "\n",
    "t = time.time\n",
    "import numpy as np\n",
    "import matplotlib.pyplot as plt\n",
    "import os\n",
    "%matplotlib notebook\n",
    "plt.plot(Angle[Good_Frames==1] ,'r--')\n",
    "plt.title(os.path.basename(movivename))\n",
    "\n",
    "deeplabcut.create_labeled_video(path_config_file,[os.path.dirname(movivename)+'\\\\'+str(trial)+'.avi'],save_frames=False)"
   ]
  },
  {
   "cell_type": "code",
   "execution_count": null,
   "metadata": {},
   "outputs": [],
   "source": []
  },
  {
   "cell_type": "code",
   "execution_count": null,
   "metadata": {},
   "outputs": [],
   "source": [
    "import time\n",
    "import numpy as np\n",
    "import os\n",
    "import LR_movie_maker_Main\n",
    "Tag = 'Topview'\n",
    "df, Angle,Distance,movivename=LR_movie_maker_Main.readDLCfiles(Mainfolder,Tag,trial)\n",
    "print([os.path.dirname(movivename)+'\\\\'+str(trial)+'.avi'])\n",
    "print((movivename))"
   ]
  },
  {
   "cell_type": "markdown",
   "metadata": {},
   "source": [
    "# now apply DLC already trained data on whiskers "
   ]
  },
  {
   "cell_type": "code",
   "execution_count": 6,
   "metadata": {},
   "outputs": [
    {
     "name": "stdout",
     "output_type": "stream",
     "text": [
      "[]\n",
      "Using snapshot-207000 for model F:\\videos\\Ar30motor\\2021_08_03_184113\\ar30shiwker-Arash-2021-09-13\\dlc-models\\iteration-0\\ar30shiwkerSep13-trainset95shuffle1\n",
      "Initializing ResNet\n",
      "No video(s) were found. Please check your paths and/or 'video_type'.\n",
      "DLC_resnet50_ar30shiwkerSep13shuffle1_207000\n",
      "No video(s) were found. Please check your paths and/or 'video_type'.\n",
      "Using snapshot-207000 for model F:\\videos\\Ar30motor\\2021_08_03_184113\\ar30shiwker-Arash-2021-09-13\\dlc-models\\iteration-0\\ar30shiwkerSep13-trainset95shuffle1\n",
      "Initializing ResNet\n",
      "No video(s) were found. Please check your paths and/or 'video_type'.\n",
      "DLC_resnet50_ar30shiwkerSep13shuffle1_207000\n",
      "No video(s) were found. Please check your paths and/or 'video_type'.\n"
     ]
    }
   ],
   "source": [
    "\n",
    "#Mainfolder = 'F:\\\\videos\\\\ar34motor\\\\2022_01_27'\n",
    "import image_util\n",
    "#path_config_file = 'D:\\\\videos\\\\ar30\\\\2020_11_04\\\\ar30_11_05_20whiskers-Arash-2020-11-08\\\\config.yaml'\n",
    "#path_config_file = 'C:\\\\videos\\\\ar344thday\\\\2021_07_26\\\\ar34shiwker-Arash-2021-07-29\\\\config.yaml';\n",
    "#path_config_file = 'F:\\\\videos\\\\ar32motor\\\\2021_08_02\\\\ar32shiwker-Arash-2021-09-01\\\\config.yaml';\n",
    "path_config_file = 'F:\\\\videos\\\\Ar30motor\\\\2021_08_03_184113\\\\ar30shiwker-Arash-2021-09-13\\\\config.yaml'\n",
    "XfilesL = [os.path.join(Mainfolder,f) for f in os.listdir(Mainfolder) if f.startswith('Mask')  ] # find all files with R.avi as file name\n",
    "XfilesR = [os.path.join(Mainfolder,f) for f in os.listdir(Mainfolder) if f.startswith('Mirror')  ] # find all files with R.avi as file name\n",
    "print(XfilesL)\n",
    "\n",
    "scorernameL=deeplabcut.analyze_videos(path_config_file,XfilesL,shuffle=1, save_as_csv=True)\n",
    "print(scorernameL)\n",
    "deeplabcut.filterpredictions(path_config_file,XfilesL,shuffle=1)\n",
    "scorernameR=deeplabcut.analyze_videos(path_config_file,XfilesR,shuffle=1, save_as_csv=True)\n",
    "print(scorernameR)\n",
    "deeplabcut.filterpredictions(path_config_file,XfilesR,shuffle=1)"
   ]
  },
  {
   "cell_type": "code",
   "execution_count": null,
   "metadata": {},
   "outputs": [],
   "source": [
    "XfilesL = [os.path.join(Mainfolder,f) for f in os.listdir(Mainfolder) if f.startswith('Mask')  ] # find all files with R.avi as file name\n",
    "\n",
    "print(XfilesL)"
   ]
  },
  {
   "cell_type": "code",
   "execution_count": null,
   "metadata": {},
   "outputs": [],
   "source": [
    "print(XfilesL)"
   ]
  },
  {
   "cell_type": "markdown",
   "metadata": {},
   "source": [
    "# copy tracked files into the server (with mp4 movies)"
   ]
  },
  {
   "cell_type": "code",
   "execution_count": null,
   "metadata": {},
   "outputs": [],
   "source": [
    "Mainfolder = 'F:\\\\videos\\\\ar32motor\\\\2021_08_02'\n",
    "destination = ''\n",
    "destination='//dk-server.dk.ucsd.edu/afassihizakeri/SC_Movies/ar32motor/2021_08_02/Side'\n",
    "import shutil\n",
    "shutil.copytree( Mainfolder,destination, ignore=shutil.ignore_patterns('*.avi'),copy_function = shutil.copy)\n",
    "#copytree(Mainfolder, destination, ignore=ignore_patterns('*.avi'))\n"
   ]
  },
  {
   "cell_type": "markdown",
   "metadata": {},
   "source": [
    "# make  movies and plot rajectories from the dlc data"
   ]
  },
  {
   "cell_type": "code",
   "execution_count": null,
   "metadata": {},
   "outputs": [],
   "source": [
    "#path_config_file = 'F:\\\\DLC\\\\Topview3435-Arash-2021-07-28\\\\config.yaml'\n",
    "#Mainfolder = 'F:\\\\videos\\\\ar32motor\\\\2021_08_02';\n",
    "\n",
    "import os\n",
    "text_files = [os.path.join(Mainfolder,f) for f in os.listdir(Mainfolder) if f.endswith('.avi') and not f.endswith('Tracked.avi') and not f.endswith('L.avi') and not f.endswith('R.avi') and not f.endswith('videopoints.avi') and not f.endswith('videopoints.avi')]\n",
    "videofile = os.path.join(Mainfolder,'119.avi')\n",
    "#del text_files[0]\n",
    "text_files = [os.path.join(Mainfolder,f) for f in os.listdir(Mainfolder) if f.startswith('Mirror') and  f.endswith('.avi') and not f.endswith('Tracked.avi') and not f.endswith('videopoints.avi') and not f.endswith('videopoints.avi')]\n",
    "print(text_files)\n",
    "\n",
    "#deeplabcut.plot_trajectories(path_config_file,text_files,filtered = True)\n",
    "deeplabcut.create_labeled_video(path_config_file,text_files[1:10],save_frames=False)"
   ]
  },
  {
   "cell_type": "code",
   "execution_count": null,
   "metadata": {},
   "outputs": [],
   "source": [
    "print(text_files[0])\n",
    "type(text_files) "
   ]
  },
  {
   "cell_type": "markdown",
   "metadata": {},
   "source": [
    "# this part should take scorername L and R as an input to matlab \n",
    "import image_util"
   ]
  },
  {
   "cell_type": "code",
   "execution_count": null,
   "metadata": {},
   "outputs": [],
   "source": [
    "print(scorernameL)\n",
    "do matlab thing"
   ]
  },
  {
   "cell_type": "code",
   "execution_count": null,
   "metadata": {},
   "outputs": [],
   "source": [
    "Mainfolder = 'D:\\\\videos\\\\ar30\\\\2021_01_09\\\\'\n",
    "main.save_trial_n(Mainfolder)"
   ]
  },
  {
   "cell_type": "markdown",
   "metadata": {},
   "source": [
    "the last step is to check everything"
   ]
  }
 ],
 "metadata": {
  "kernelspec": {
   "display_name": "Python 3",
   "language": "python",
   "name": "python3"
  },
  "language_info": {
   "codemirror_mode": {
    "name": "ipython",
    "version": 3
   },
   "file_extension": ".py",
   "mimetype": "text/x-python",
   "name": "python",
   "nbconvert_exporter": "python",
   "pygments_lexer": "ipython3",
   "version": "3.6.9"
  }
 },
 "nbformat": 4,
 "nbformat_minor": 2
}
