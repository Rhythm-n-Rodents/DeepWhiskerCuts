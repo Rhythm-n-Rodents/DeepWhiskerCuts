{
 "cells": [
  {
   "cell_type": "code",
   "execution_count": 1,
   "metadata": {},
   "outputs": [],
   "source": [
    "from glob import glob\n",
    "import sys"
   ]
  },
  {
   "cell_type": "code",
   "execution_count": 46,
   "metadata": {},
   "outputs": [],
   "source": [
    "disk = '/media/zhw272/Samsung_T5/videos'"
   ]
  },
  {
   "cell_type": "code",
   "execution_count": 57,
   "metadata": {},
   "outputs": [
    {
     "data": {
      "text/plain": [
       "['ar19muscimol500ug500nlrightside',\n",
       " 'ar2muscimol500nl500igmlrightside',\n",
       " 'ar19Muscimolrightside500mg500nl']"
      ]
     },
     "execution_count": 57,
     "metadata": {},
     "output_type": "execute_result"
    }
   ],
   "source": [
    "os.listdir(disk+'/movies_Rat_SC_project')"
   ]
  },
  {
   "cell_type": "code",
   "execution_count": 58,
   "metadata": {},
   "outputs": [
    {
     "data": {
      "text/plain": [
       "'/media/zhw272/Samsung_T5/videos/movies_Rat_SC_project/ar19Muscimolrightside500mg500nl/10_21_19/'"
      ]
     },
     "execution_count": 58,
     "metadata": {},
     "output_type": "execute_result"
    }
   ],
   "source": [
    "os.path.join('/media/zhw272/Samsung_T5/videos','/'.join(i.split('/')[-4:]))"
   ]
  },
  {
   "cell_type": "code",
   "execution_count": 54,
   "metadata": {},
   "outputs": [],
   "source": [
    "for i in priority:\n",
    "    os.makedirs(os.path.join('/media/zhw272/Samsung_T5/videos','/'.join(i.split('/')[-4:])))"
   ]
  },
  {
   "cell_type": "code",
   "execution_count": 29,
   "metadata": {},
   "outputs": [],
   "source": [
    "priority =[ \n",
    " '/net/dk-server/afassihizakeri/movies_Rat_SC_project/ar19muscimol500ug500nlrightside/10_10_19/',\n",
    " '/net/dk-server/afassihizakeri/movies_Rat_SC_project/ar2muscimol500nl500igmlrightside/10_11_19/',\n",
    " '/net/dk-server/afassihizakeri/movies_Rat_SC_project/ar19Muscimolrightside500mg500nl/10_19_19/',\n",
    " '/net/dk-server/afassihizakeri/movies_Rat_SC_project/ar19Muscimolrightside500mg500nl/10_21_19/']"
   ]
  },
  {
   "cell_type": "code",
   "execution_count": 26,
   "metadata": {},
   "outputs": [],
   "source": [
    "\n",
    "for pathi in priority:\n",
    "    files = glob(pathi+'*.avi')"
   ]
  },
  {
   "cell_type": "code",
   "execution_count": 59,
   "metadata": {},
   "outputs": [],
   "source": [
    "pathi='/net/dk-server/afassihizakeri/movies_Rat_SC_project/ar19muscimol500ug500nlrightside/10_10_19/'"
   ]
  },
  {
   "cell_type": "code",
   "execution_count": 61,
   "metadata": {},
   "outputs": [],
   "source": [
    "avis = glob(pathi+'*.avi')"
   ]
  },
  {
   "cell_type": "code",
   "execution_count": 62,
   "metadata": {},
   "outputs": [],
   "source": [
    "os.makedirs('/media/zhw272/Samsung_T5/videos/ar19muscimol500ug500nlrightside/10_10_19/')"
   ]
  },
  {
   "cell_type": "code",
   "execution_count": 67,
   "metadata": {},
   "outputs": [
    {
     "ename": "KeyboardInterrupt",
     "evalue": "",
     "output_type": "error",
     "traceback": [
      "\u001b[0;31m---------------------------------------------------------------------------\u001b[0m",
      "\u001b[0;31mKeyboardInterrupt\u001b[0m                         Traceback (most recent call last)",
      "\u001b[1;32m/home/zhw272/Desktop/notebooks/copy_image.ipynb Cell 11\u001b[0m in \u001b[0;36m<cell line: 2>\u001b[0;34m()\u001b[0m\n\u001b[1;32m      <a href='vscode-notebook-cell:/home/zhw272/Desktop/notebooks/copy_image.ipynb#X21sZmlsZQ%3D%3D?line=0'>1</a>\u001b[0m \u001b[39mimport\u001b[39;00m \u001b[39mshutil\u001b[39;00m\n\u001b[1;32m      <a href='vscode-notebook-cell:/home/zhw272/Desktop/notebooks/copy_image.ipynb#X21sZmlsZQ%3D%3D?line=1'>2</a>\u001b[0m \u001b[39mfor\u001b[39;00m i \u001b[39min\u001b[39;00m avis:\n\u001b[0;32m----> <a href='vscode-notebook-cell:/home/zhw272/Desktop/notebooks/copy_image.ipynb#X21sZmlsZQ%3D%3D?line=2'>3</a>\u001b[0m     shutil\u001b[39m.\u001b[39;49mcopyfile(i, \u001b[39m'\u001b[39;49m\u001b[39m/media/zhw272/Samsung_T5/videos/ar19muscimol500ug500nlrightside/10_10_19/\u001b[39;49m\u001b[39m'\u001b[39;49m\u001b[39m+\u001b[39;49mi\u001b[39m.\u001b[39;49msplit(\u001b[39m'\u001b[39;49m\u001b[39m/\u001b[39;49m\u001b[39m'\u001b[39;49m)[\u001b[39m-\u001b[39;49m\u001b[39m1\u001b[39;49m])\n",
      "File \u001b[0;32m/usr/lib/python3.8/shutil.py:275\u001b[0m, in \u001b[0;36mcopyfile\u001b[0;34m(src, dst, follow_symlinks)\u001b[0m\n\u001b[1;32m    273\u001b[0m \u001b[39melif\u001b[39;00m _USE_CP_SENDFILE:\n\u001b[1;32m    274\u001b[0m     \u001b[39mtry\u001b[39;00m:\n\u001b[0;32m--> 275\u001b[0m         _fastcopy_sendfile(fsrc, fdst)\n\u001b[1;32m    276\u001b[0m         \u001b[39mreturn\u001b[39;00m dst\n\u001b[1;32m    277\u001b[0m     \u001b[39mexcept\u001b[39;00m _GiveupOnFastCopy:\n",
      "File \u001b[0;32m/usr/lib/python3.8/shutil.py:152\u001b[0m, in \u001b[0;36m_fastcopy_sendfile\u001b[0;34m(fsrc, fdst)\u001b[0m\n\u001b[1;32m    150\u001b[0m \u001b[39mwhile\u001b[39;00m \u001b[39mTrue\u001b[39;00m:\n\u001b[1;32m    151\u001b[0m     \u001b[39mtry\u001b[39;00m:\n\u001b[0;32m--> 152\u001b[0m         sent \u001b[39m=\u001b[39m os\u001b[39m.\u001b[39;49msendfile(outfd, infd, offset, blocksize)\n\u001b[1;32m    153\u001b[0m     \u001b[39mexcept\u001b[39;00m \u001b[39mOSError\u001b[39;00m \u001b[39mas\u001b[39;00m err:\n\u001b[1;32m    154\u001b[0m         \u001b[39m# ...in oder to have a more informative exception.\u001b[39;00m\n\u001b[1;32m    155\u001b[0m         err\u001b[39m.\u001b[39mfilename \u001b[39m=\u001b[39m fsrc\u001b[39m.\u001b[39mname\n",
      "\u001b[0;31mKeyboardInterrupt\u001b[0m: "
     ]
    }
   ],
   "source": [
    "import shutil\n",
    "for i in avis:\n",
    "    shutil.copyfile(i, '/media/zhw272/Samsung_T5/videos/ar19muscimol500ug500nlrightside/10_10_19/'+i.split('/')[-1])"
   ]
  },
  {
   "cell_type": "code",
   "execution_count": null,
   "metadata": {},
   "outputs": [],
   "source": []
  }
 ],
 "metadata": {
  "kernelspec": {
   "display_name": "Python 3.10.4 64-bit",
   "language": "python",
   "name": "python3"
  },
  "language_info": {
   "codemirror_mode": {
    "name": "ipython",
    "version": 3
   },
   "file_extension": ".py",
   "mimetype": "text/x-python",
   "name": "python",
   "nbconvert_exporter": "python",
   "pygments_lexer": "ipython3",
   "version": "3.8.10"
  },
  "orig_nbformat": 4,
  "vscode": {
   "interpreter": {
    "hash": "31f2aee4e71d21fbe5cf8b01ff0e069b9275f58929596ceb00d14d90e3e16cd6"
   }
  }
 },
 "nbformat": 4,
 "nbformat_minor": 2
}
