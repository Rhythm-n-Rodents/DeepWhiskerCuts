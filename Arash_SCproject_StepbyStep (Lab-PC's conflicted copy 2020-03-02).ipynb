{
 "cells": [
  {
   "cell_type": "markdown",
   "metadata": {
    "colab_type": "text",
    "id": "RK255E7YoEIt"
   },
   "source": [
    "# DeepLabCut Toolbox\n",
    "https://github.com/AlexEMG/DeepLabCut\n",
    "\n",
    "\n",
    "This notebook demonstrates the necessary steps to use python and DeepLabCut for creating and analysins videos from orientation \n",
    "experiment \n",
    "\n",
    "This notebook illustrates how to:\n",
    " \n",
    "- make a movie from images \n",
    "- create a project\n",
    "- extract training frames\n",
    "- label the frames\n",
    "- plot the labeled images (optional)\n",
    "- create a training set\n",
    "- train a network\n",
    "- evaluate a network\n",
    "- analyze a novel video\n",
    "- create an automatically labeled video (optional)\n",
    "- Go to Matlab \n",
    "\n"
   ]
  },
  {
   "cell_type": "markdown",
   "metadata": {
    "colab_type": "text",
    "id": "9Uoz9mdPoEIy"
   },
   "source": [
    "## Make  movie from images \n",
    "\n",
    "this step is to produce movie per trial. Each trial forlder contains around 600 images from each trial and the second row of each image.   "
   ]
  },
  {
   "cell_type": "code",
   "execution_count": 12,
   "metadata": {},
   "outputs": [
    {
     "name": "stdout",
     "output_type": "stream",
     "text": [
      "['21-56-54', '21-57-55', '21-58-24', '21-58-47', '21-59-12', '21-59-36', '22-00-03', '22-00-32', '22-00-55', '22-01-19', '22-01-43', '22-03-21', '22-03-48', '22-04-15', '22-04-42', '22-05-13', '22-05-43', '22-06-06', '22-06-30', '22-06-55', '22-07-18', '22-07-45', '22-08-11', '22-08-39', '22-09-07', '22-10-56', '22-11-21', '22-11-47', '22-12-11', '22-12-36', '22-13-16', '22-13-40', '22-14-07', '22-17-25', '22-17-49', '22-18-13', '22-18-41', '22-19-29', '22-19-53', '22-20-17', '22-21-26', '22-21-51', '22-22-19', '22-22-48', '22-23-20', '22-23-48', '22-24-12', '22-24-40', '22-25-05', '22-26-57', '22-29-39', '22-30-06', '22-30-29', '22-30-53', '22-31-16', '22-31-43', '22-32-06', '22-32-30', '22-32-53', '22-33-16', '22-33-40', '22-34-03', '22-34-26', '22-34-49', '22-35-18', '22-35-43', '22-36-08', '22-36-32', '22-36-56', '22-37-19', '22-37-42', '22-38-05', '22-38-30', '22-38-53', '22-39-17', '22-39-41', '22-40-31', '22-40-58', '22-41-24', '22-41-49', '22-42-15', '22-42-41', '22-43-04', '22-43-27', '22-43-51', '22-44-16', '22-44-40', '22-45-10', '22-45-37', '22-46-00', '22-46-26', '22-46-52', '22-47-16', '22-47-41', '22-48-04', '22-48-34', '22-48-59', '22-49-22', '22-53-42', '22-55-21', '22-55-44', '22-56-07', '22-56-32', '22-56-57', '22-57-26', '22-57-55', '22-58-20', '22-59-07', '23-00-07', '23-00-34', '23-01-02', '23-01-26', '23-01-50', '23-02-13', '23-02-38', '23-03-01', '23-03-27', '23-03-51', '23-04-16', '23-04-40', '23-05-03', '23-05-32', '23-06-03', '23-06-30', '23-06-56', '23-07-22', '23-07-48', '23-08-14', '23-08-39', '23-09-06', '23-09-37', '23-10-05', '23-12-07', '23-12-30', '23-12-53', '23-13-17', '23-13-40', '23-14-08', '23-14-33', '23-15-17', 'ar2_10062019_ii-Fassihi-2019-10-07']\n",
      "F:\\ar2breathing\\10_06_19\\22-56-07.avi\n",
      "F:\\ar2breathing\\10_06_19\\22-56-32.avi\n",
      "F:\\ar2breathing\\10_06_19\\22-56-57.avi\n",
      "F:\\ar2breathing\\10_06_19\\22-57-26.avi\n",
      "F:\\ar2breathing\\10_06_19\\22-57-55.avi\n",
      "F:\\ar2breathing\\10_06_19\\22-58-20.avi\n",
      "F:\\ar2breathing\\10_06_19\\22-59-07.avi\n",
      "F:\\ar2breathing\\10_06_19\\23-00-07.avi\n",
      "F:\\ar2breathing\\10_06_19\\23-00-34.avi\n",
      "F:\\ar2breathing\\10_06_19\\23-01-02.avi\n",
      "F:\\ar2breathing\\10_06_19\\23-01-26.avi\n",
      "F:\\ar2breathing\\10_06_19\\23-01-50.avi\n",
      "F:\\ar2breathing\\10_06_19\\23-02-13.avi\n",
      "F:\\ar2breathing\\10_06_19\\23-02-38.avi\n",
      "F:\\ar2breathing\\10_06_19\\23-03-01.avi\n",
      "F:\\ar2breathing\\10_06_19\\23-03-27.avi\n",
      "F:\\ar2breathing\\10_06_19\\23-03-51.avi\n",
      "F:\\ar2breathing\\10_06_19\\23-04-16.avi\n",
      "F:\\ar2breathing\\10_06_19\\23-04-40.avi\n",
      "F:\\ar2breathing\\10_06_19\\23-05-03.avi\n",
      "F:\\ar2breathing\\10_06_19\\23-05-32.avi\n",
      "F:\\ar2breathing\\10_06_19\\23-06-03.avi\n",
      "F:\\ar2breathing\\10_06_19\\23-06-30.avi\n",
      "F:\\ar2breathing\\10_06_19\\23-06-56.avi\n",
      "F:\\ar2breathing\\10_06_19\\23-07-22.avi\n",
      "F:\\ar2breathing\\10_06_19\\23-07-48.avi\n",
      "F:\\ar2breathing\\10_06_19\\23-08-14.avi\n",
      "F:\\ar2breathing\\10_06_19\\23-08-39.avi\n",
      "F:\\ar2breathing\\10_06_19\\23-09-06.avi\n",
      "F:\\ar2breathing\\10_06_19\\23-09-37.avi\n",
      "F:\\ar2breathing\\10_06_19\\23-10-05.avi\n",
      "F:\\ar2breathing\\10_06_19\\23-12-07.avi\n",
      "F:\\ar2breathing\\10_06_19\\23-12-30.avi\n",
      "F:\\ar2breathing\\10_06_19\\23-12-53.avi\n",
      "F:\\ar2breathing\\10_06_19\\23-13-17.avi\n",
      "F:\\ar2breathing\\10_06_19\\23-13-40.avi\n",
      "F:\\ar2breathing\\10_06_19\\23-14-08.avi\n",
      "F:\\ar2breathing\\10_06_19\\23-14-33.avi\n",
      "F:\\ar2breathing\\10_06_19\\23-15-17.avi\n"
     ]
    },
    {
     "ename": "ValueError",
     "evalue": "invalid literal for int() with base 10: 'config'",
     "output_type": "error",
     "traceback": [
      "\u001b[1;31m---------------------------------------------------------------------------\u001b[0m",
      "\u001b[1;31mValueError\u001b[0m                                Traceback (most recent call last)",
      "\u001b[1;32m<ipython-input-12-f8a2ea0dd224>\u001b[0m in \u001b[0;36m<module>\u001b[1;34m()\u001b[0m\n\u001b[0;32m     50\u001b[0m  \u001b[0mfiles\u001b[0m\u001b[1;33m.\u001b[0m\u001b[0msort\u001b[0m\u001b[1;33m(\u001b[0m\u001b[0mkey\u001b[0m\u001b[1;33m=\u001b[0m\u001b[1;32mlambda\u001b[0m \u001b[0mx\u001b[0m\u001b[1;33m:\u001b[0m \u001b[0mos\u001b[0m\u001b[1;33m.\u001b[0m\u001b[0mpath\u001b[0m\u001b[1;33m.\u001b[0m\u001b[0mgetmtime\u001b[0m\u001b[1;33m(\u001b[0m\u001b[0mx\u001b[0m\u001b[1;33m)\u001b[0m\u001b[1;33m)\u001b[0m\u001b[1;33m\u001b[0m\u001b[1;33m\u001b[0m\u001b[0m\n\u001b[0;32m     51\u001b[0m  \u001b[0mnEWfiles\u001b[0m \u001b[1;33m=\u001b[0m \u001b[1;33m[\u001b[0m\u001b[0mos\u001b[0m\u001b[1;33m.\u001b[0m\u001b[0mpath\u001b[0m\u001b[1;33m.\u001b[0m\u001b[0msplitext\u001b[0m\u001b[1;33m(\u001b[0m\u001b[0mos\u001b[0m\u001b[1;33m.\u001b[0m\u001b[0mpath\u001b[0m\u001b[1;33m.\u001b[0m\u001b[0mbasename\u001b[0m\u001b[1;33m(\u001b[0m\u001b[0mf\u001b[0m\u001b[1;33m)\u001b[0m\u001b[1;33m)\u001b[0m \u001b[1;32mfor\u001b[0m \u001b[0mf\u001b[0m \u001b[1;32min\u001b[0m  \u001b[0mfiles\u001b[0m\u001b[1;33m]\u001b[0m \u001b[1;31m# add path to each file\u001b[0m\u001b[1;33m\u001b[0m\u001b[1;33m\u001b[0m\u001b[0m\n\u001b[1;32m---> 52\u001b[1;33m  \u001b[0mnEWfiles\u001b[0m \u001b[1;33m=\u001b[0m \u001b[1;33m[\u001b[0m\u001b[0mint\u001b[0m\u001b[1;33m(\u001b[0m\u001b[0mf\u001b[0m\u001b[1;33m[\u001b[0m\u001b[1;36m0\u001b[0m\u001b[1;33m]\u001b[0m\u001b[1;33m)\u001b[0m \u001b[1;32mfor\u001b[0m \u001b[0mf\u001b[0m \u001b[1;32min\u001b[0m \u001b[0mnEWfiles\u001b[0m\u001b[1;33m]\u001b[0m\u001b[1;33m\u001b[0m\u001b[1;33m\u001b[0m\u001b[0m\n\u001b[0m\u001b[0;32m     53\u001b[0m  \u001b[0mnEWfiles\u001b[0m \u001b[1;33m=\u001b[0m \u001b[0msorted\u001b[0m\u001b[1;33m(\u001b[0m\u001b[0mnEWfiles\u001b[0m\u001b[1;33m)\u001b[0m\u001b[1;33m\u001b[0m\u001b[1;33m\u001b[0m\u001b[0m\n\u001b[0;32m     54\u001b[0m  \u001b[0mfiles\u001b[0m \u001b[1;33m=\u001b[0m \u001b[1;33m[\u001b[0m\u001b[0mos\u001b[0m\u001b[1;33m.\u001b[0m\u001b[0mpath\u001b[0m\u001b[1;33m.\u001b[0m\u001b[0mjoin\u001b[0m\u001b[1;33m(\u001b[0m\u001b[0mKK\u001b[0m\u001b[1;33m,\u001b[0m \u001b[0mstr\u001b[0m\u001b[1;33m(\u001b[0m\u001b[0mf\u001b[0m\u001b[1;33m)\u001b[0m\u001b[1;33m+\u001b[0m\u001b[1;34m'.png'\u001b[0m \u001b[1;33m)\u001b[0m  \u001b[1;32mfor\u001b[0m \u001b[0mf\u001b[0m \u001b[1;32min\u001b[0m \u001b[0mnEWfiles\u001b[0m\u001b[1;33m]\u001b[0m \u001b[1;31m# add path to each file\u001b[0m\u001b[1;33m\u001b[0m\u001b[1;33m\u001b[0m\u001b[0m\n",
      "\u001b[1;32m<ipython-input-12-f8a2ea0dd224>\u001b[0m in \u001b[0;36m<listcomp>\u001b[1;34m(.0)\u001b[0m\n\u001b[0;32m     50\u001b[0m  \u001b[0mfiles\u001b[0m\u001b[1;33m.\u001b[0m\u001b[0msort\u001b[0m\u001b[1;33m(\u001b[0m\u001b[0mkey\u001b[0m\u001b[1;33m=\u001b[0m\u001b[1;32mlambda\u001b[0m \u001b[0mx\u001b[0m\u001b[1;33m:\u001b[0m \u001b[0mos\u001b[0m\u001b[1;33m.\u001b[0m\u001b[0mpath\u001b[0m\u001b[1;33m.\u001b[0m\u001b[0mgetmtime\u001b[0m\u001b[1;33m(\u001b[0m\u001b[0mx\u001b[0m\u001b[1;33m)\u001b[0m\u001b[1;33m)\u001b[0m\u001b[1;33m\u001b[0m\u001b[1;33m\u001b[0m\u001b[0m\n\u001b[0;32m     51\u001b[0m  \u001b[0mnEWfiles\u001b[0m \u001b[1;33m=\u001b[0m \u001b[1;33m[\u001b[0m\u001b[0mos\u001b[0m\u001b[1;33m.\u001b[0m\u001b[0mpath\u001b[0m\u001b[1;33m.\u001b[0m\u001b[0msplitext\u001b[0m\u001b[1;33m(\u001b[0m\u001b[0mos\u001b[0m\u001b[1;33m.\u001b[0m\u001b[0mpath\u001b[0m\u001b[1;33m.\u001b[0m\u001b[0mbasename\u001b[0m\u001b[1;33m(\u001b[0m\u001b[0mf\u001b[0m\u001b[1;33m)\u001b[0m\u001b[1;33m)\u001b[0m \u001b[1;32mfor\u001b[0m \u001b[0mf\u001b[0m \u001b[1;32min\u001b[0m  \u001b[0mfiles\u001b[0m\u001b[1;33m]\u001b[0m \u001b[1;31m# add path to each file\u001b[0m\u001b[1;33m\u001b[0m\u001b[1;33m\u001b[0m\u001b[0m\n\u001b[1;32m---> 52\u001b[1;33m  \u001b[0mnEWfiles\u001b[0m \u001b[1;33m=\u001b[0m \u001b[1;33m[\u001b[0m\u001b[0mint\u001b[0m\u001b[1;33m(\u001b[0m\u001b[0mf\u001b[0m\u001b[1;33m[\u001b[0m\u001b[1;36m0\u001b[0m\u001b[1;33m]\u001b[0m\u001b[1;33m)\u001b[0m \u001b[1;32mfor\u001b[0m \u001b[0mf\u001b[0m \u001b[1;32min\u001b[0m \u001b[0mnEWfiles\u001b[0m\u001b[1;33m]\u001b[0m\u001b[1;33m\u001b[0m\u001b[1;33m\u001b[0m\u001b[0m\n\u001b[0m\u001b[0;32m     53\u001b[0m  \u001b[0mnEWfiles\u001b[0m \u001b[1;33m=\u001b[0m \u001b[0msorted\u001b[0m\u001b[1;33m(\u001b[0m\u001b[0mnEWfiles\u001b[0m\u001b[1;33m)\u001b[0m\u001b[1;33m\u001b[0m\u001b[1;33m\u001b[0m\u001b[0m\n\u001b[0;32m     54\u001b[0m  \u001b[0mfiles\u001b[0m \u001b[1;33m=\u001b[0m \u001b[1;33m[\u001b[0m\u001b[0mos\u001b[0m\u001b[1;33m.\u001b[0m\u001b[0mpath\u001b[0m\u001b[1;33m.\u001b[0m\u001b[0mjoin\u001b[0m\u001b[1;33m(\u001b[0m\u001b[0mKK\u001b[0m\u001b[1;33m,\u001b[0m \u001b[0mstr\u001b[0m\u001b[1;33m(\u001b[0m\u001b[0mf\u001b[0m\u001b[1;33m)\u001b[0m\u001b[1;33m+\u001b[0m\u001b[1;34m'.png'\u001b[0m \u001b[1;33m)\u001b[0m  \u001b[1;32mfor\u001b[0m \u001b[0mf\u001b[0m \u001b[1;32min\u001b[0m \u001b[0mnEWfiles\u001b[0m\u001b[1;33m]\u001b[0m \u001b[1;31m# add path to each file\u001b[0m\u001b[1;33m\u001b[0m\u001b[1;33m\u001b[0m\u001b[0m\n",
      "\u001b[1;31mValueError\u001b[0m: invalid literal for int() with base 10: 'config'"
     ]
    }
   ],
   "source": [
    "# enter the folder name \n",
    "Mainfolder = 'F:\\\\ar2breathing\\\\10_06_19';\n",
    "#F:\\ar2breathing\\10_18_19\n",
    "# entries for the xls file\n",
    "Namesforarray =['Trialnumber','Licknumberu','sidethatanimalshouldgo','timeinsecond','sensservomotor','movespots','correct','lickoccured','lihgontrials','allpulsesoflight','lightduration','Frequ','timestamp','RD'];\n",
    "\n",
    "import os # this is to get folder information and creat files \n",
    "import cv2 # this is important and is reading and writing images and video \n",
    "import subprocess \n",
    "import shutil\n",
    "import matplotlib.pyplot as plt\n",
    "import matplotlib.image as mpimg\n",
    "import numpy as np\n",
    "import xlsxwriter  # this is to write xls files \n",
    "from PIL import Image\n",
    "# define a functino to convert video_input into  video_output in mpeg format\n",
    "def convert_video(video_input, video_output):\n",
    "    cmds = ['ffmpeg', '-i', video_input, video_output]\n",
    "    subprocess.Popen(cmds)\n",
    "\n",
    "\n",
    "                                                                                                                        \n",
    "Ratid = 50019;\n",
    "this_date = 100819\n",
    "col = 0\n",
    "included_extensions = ['.png']\n",
    "K_kir = Mainfolder;\n",
    "All_Folders = os.listdir(Mainfolder)\n",
    "All_Folders=[ name for name in os.listdir(Mainfolder) if os.path.isdir(os.path.join(Mainfolder, name)) ]\n",
    "\n",
    "print(All_Folders)\n",
    "#for num in range(0,len(All_Folders)):     #to iterate between 10 to 20\n",
    "for num in range(47,len(All_Folders)): \n",
    " KK = os.path.join(K_kir+os.sep, All_Folders[num])\n",
    " KKavi =  os.path.join(K_kir+os.sep, All_Folders[num]+'.avi')\n",
    " if os.path.isfile(KKavi):\n",
    "   continue\n",
    " if not os.path.isdir(KK):\n",
    "   continue\n",
    " dirContents = os.listdir(KK)\n",
    " if len(dirContents) == 0:\n",
    "  shutil.rmtree(KK, ignore_errors=False, onerror=None)\n",
    "  continue\n",
    " os.chdir(KK)\n",
    " my_file = os.path.join(K_kir,All_Folders[num]+'.xlsx');\n",
    " workbook = xlsxwriter.Workbook(my_file)\n",
    " worksheet = workbook.add_worksheet()\n",
    " files = filter(os.path.isfile, os.listdir(KK));\n",
    " files = [os.path.join(KK, f) for f in files] # add path to each file\n",
    " files.sort(key=lambda x: os.path.getmtime(x))\n",
    " nEWfiles = [os.path.splitext(os.path.basename(f)) for f in  files] # add path to each file\n",
    " nEWfiles = [int(f[0]) for f in nEWfiles]\n",
    " nEWfiles = sorted(nEWfiles)\n",
    " files = [os.path.join(KK, str(f)+'.png' )  for f in nEWfiles] # add path to each file\n",
    " video_name = (KK + '.avi');\n",
    " video_name2 =(KK+'video'+ '.mp4');\n",
    " print(video_name)\n",
    " frame = cv2.imread(os.path.join(Mainfolder, files[0]))\n",
    " height, width, layers = frame.shape\n",
    " video = cv2.VideoWriter(video_name, 0, 1, (width,height))\n",
    " fps = 100\n",
    " images = files\n",
    " worksheet.write_row(0, 0, Namesforarray)\n",
    " for idx,image in enumerate(images):\n",
    "  #worksheet.write_row( idx+1,col, mat)\n",
    "  frame = cv2.imread(os.path.join(Mainfolder, images[idx]))\n",
    "  gray = cv2.cvtColor(frame, cv2.COLOR_BGR2GRAY);\n",
    "  Mylist = np.array(gray[1,0:12]);\n",
    "  mat1_single = np.reshape(Mylist, -1)\n",
    "  mat = np.concatenate((mat1_single,[Ratid],[this_date]))\n",
    "  worksheet.write_row( idx+1,col, mat)\n",
    "  video.write(frame)\n",
    " workbook.close()\n",
    " cv2.destroyAllWindows()\n",
    " video.release()\n",
    " #os.chdir(Mainfolder)\n",
    " #shutil.rmtree(KK, ignore_errors=Fal``se, onerror=None)\n",
    " convert_video(video_name, video_name2)"
   ]
  },
  {
   "cell_type": "code",
   "execution_count": 11,
   "metadata": {},
   "outputs": [
    {
     "name": "stdout",
     "output_type": "stream",
     "text": [
      "['21-56-54', '21-57-55', '21-58-24', '21-58-47', '21-59-12', '21-59-36', '22-00-03', '22-00-32', '22-00-55', '22-01-19', '22-01-43', '22-03-21', '22-03-48', '22-04-15', '22-04-42', '22-05-13', '22-05-43', '22-06-06', '22-06-30', '22-06-55', '22-07-18', '22-07-45', '22-08-11', '22-08-39', '22-09-07', '22-10-56', '22-11-21', '22-11-47', '22-12-11', '22-12-36', '22-13-16', '22-13-40', '22-14-07', '22-17-25', '22-17-49', '22-18-13', '22-18-41', '22-19-29', '22-19-53', '22-20-17', '22-21-26', '22-21-51', '22-22-19', '22-22-48', '22-23-20', '22-23-48', '22-24-12', '22-24-40', '22-25-05', '22-26-57', '22-29-39', '22-30-06', '22-30-29', '22-30-53', '22-31-16', '22-31-43', '22-32-06', '22-32-30', '22-32-53', '22-33-16', '22-33-40', '22-34-03', '22-34-26', '22-34-49', '22-35-18', '22-35-43', '22-36-08', '22-36-32', '22-36-56', '22-37-19', '22-37-42', '22-38-05', '22-38-30', '22-38-53', '22-39-17', '22-39-41', '22-40-31', '22-40-58', '22-41-24', '22-41-49', '22-42-15', '22-42-41', '22-43-04', '22-43-27', '22-43-51', '22-44-16', '22-44-40', '22-45-10', '22-45-37', '22-46-00', '22-46-26', '22-46-52', '22-47-16', '22-47-41', '22-48-04', '22-48-34', '22-48-59', '22-49-22', '22-53-42', '22-55-21', '22-55-44', '22-56-07', '22-56-32', '22-56-57', '22-57-26', '22-57-55', '22-58-20', '22-59-07', '23-00-07', '23-00-34', '23-01-02', '23-01-26', '23-01-50', '23-02-13', '23-02-38', '23-03-01', '23-03-27', '23-03-51', '23-04-16', '23-04-40', '23-05-03', '23-05-32', '23-06-03', '23-06-30', '23-06-56', '23-07-22', '23-07-48', '23-08-14', '23-08-39', '23-09-06', '23-09-37', '23-10-05', '23-12-07', '23-12-30', '23-12-53', '23-13-17', '23-13-40', '23-14-08', '23-14-33', '23-15-17', 'ar2_10062019_ii-Fassihi-2019-10-07']\n"
     ]
    }
   ],
   "source": [
    "#[ name for name in os.listdir(Mainfolder) if os.path.isdir(os.path.join(Mainfolder, name)) ]\n",
    "All_Folders=[ name for name in os.listdir(Mainfolder) if os.path.isdir(os.path.join(Mainfolder, name)) ]\n",
    "print(All_Folders)"
   ]
  },
  {
   "cell_type": "markdown",
   "metadata": {
    "colab_type": "text",
    "id": "9Uoz9mdPoEIy"
   },
   "source": [
    "## Create a new project\n",
    "\n",
    "It is always good idea to keep the projects seperate. This function creates a new project with subdirectories and a basic configuration file in the user defined directory otherwise the project is created in the current working directory.\n",
    "\n",
    "You can always add new videos to the project at any stage of the project. "
   ]
  },
  {
   "cell_type": "code",
   "execution_count": 1,
   "metadata": {
    "colab": {},
    "colab_type": "code",
    "id": "jqLZhp7EoEI0"
   },
   "outputs": [],
   "source": [
    "import deeplabcut\n"
   ]
  },
  {
   "cell_type": "code",
   "execution_count": 4,
   "metadata": {
    "colab": {},
    "colab_type": "code",
    "id": "c9DjG55FoEI7"
   },
   "outputs": [
    {
     "name": "stdout",
     "output_type": "stream",
     "text": [
      "Created \"F:\\ar2breathing\\10_10_19\\ar2breathing10_10_19-Fassihi2-2019-12-18\\videos\"\n",
      "Created \"F:\\ar2breathing\\10_10_19\\ar2breathing10_10_19-Fassihi2-2019-12-18\\labeled-data\"\n",
      "Created \"F:\\ar2breathing\\10_10_19\\ar2breathing10_10_19-Fassihi2-2019-12-18\\training-datasets\"\n",
      "Created \"F:\\ar2breathing\\10_10_19\\ar2breathing10_10_19-Fassihi2-2019-12-18\\dlc-models\"\n",
      "Copying the videos\n",
      "F:\\ar2breathing\\10_10_19\\ar2breathing10_10_19-Fassihi2-2019-12-18\\videos\\00-00-00video.mp4\n",
      "F:\\ar2breathing\\10_10_19\\ar2breathing10_10_19-Fassihi2-2019-12-18\\videos\\00-00-22video.mp4\n",
      "F:\\ar2breathing\\10_10_19\\ar2breathing10_10_19-Fassihi2-2019-12-18\\videos\\00-00-46video.mp4\n",
      "Generated \"F:\\ar2breathing\\10_10_19\\ar2breathing10_10_19-Fassihi2-2019-12-18\\config.yaml\"\n",
      "\n",
      "A new project with name ar2breathing10_10_19-Fassihi2-2019-12-18 is created at F:\\ar2breathing\\10_10_19 and a configurable file (config.yaml) is stored there. Change the parameters in this file to adapt to your project's needs.\n",
      " Once you have changed the configuration file, use the function 'extract_frames' to select frames for labeling.\n",
      ". [OPTIONAL] Use the function 'add_new_videos' to add new videos to your project (at any stage).\n"
     ]
    },
    {
     "data": {
      "text/plain": [
       "'F:\\\\ar2breathing\\\\10_10_19\\\\ar2breathing10_10_19-Fassihi2-2019-12-18\\\\config.yaml'"
      ]
     },
     "execution_count": 4,
     "metadata": {},
     "output_type": "execute_result"
    }
   ],
   "source": [
    "task='ar2breathing10_10_19' # Enter the name of your experiment Task\n",
    "experimenter='Fassihi2' # Enter the name of the experimenter\n",
    "video=['D:\\\\Notebook\\\\sc\\\\sc-Fassihi-2018-12-16\\\\videos\\\\video14-23-08.avi'] \n",
    "video=['D:\\\\rat movies SC\\\\ar17\\\\01_11_19\\\\video12-29-40.avi'] \n",
    "video=['D:\\\\rat_movies_SC\\\\ar17record\\\\02_27_19\\\\analyzed\\\\18-36-10video.MP4']\n",
    "video=['D:\\\\movies_Rat_SC_project\\\\ar20\\\\07_08_19\\\\19-28-43video.mp4','D:\\\\movies_Rat_SC_project\\\\ar20\\\\07_08_19\\\\19-28-58video.mp4','D:\\\\movies_Rat_SC_project\\\\ar20\\\\07_08_19\\\\19-29-06video.mp4'] \n",
    "#Mainfolder = 'D:\\\\movies_Rat_SC_project\\\\ar14\\\\06_18_19'\n",
    "video=['D:\\\\rat_movies_SC\\\\ar19tear19salin\\\\10_08_19\\\\00-24-26video.mp4','D:\\\\rat_movies_SC\\\\ar19tear19salin\\\\10_08_19\\\\00-24-02video.mp4','D:\\\\rat_movies_SC\\\\ar19tear19salin\\\\10_08_19\\\\00-26-36video.mp4'] \n",
    "video=['F:\\\\ar2breathing\\\\10_10_19\\\\00-00-00video.mp4','F:\\\\ar2breathing\\\\10_10_19\\\\00-00-22video.mp4','F:\\\\ar2breathing\\\\10_10_19\\\\00-00-46video.mp4'] \n",
    "\n",
    "Mainfolder = 'F:\\\\ar2breathing\\\\10_10_19';\n",
    "\n",
    "#D:\\rat movies SC\\ar15\\01_11_19\n",
    "# Enter the paths of your videos you want to grab frames from.\n",
    "# deeplabcut.create_new_project(task,experimenter,video, working_directory='Full path of the working directory',copy_videos=True/False) #change the working directory to where you want the folders created.\n",
    "deeplabcut.create_new_project(task,experimenter,video, working_directory=Mainfolder,copy_videos=True) #change the working directory to where you want the folders created."
   ]
  },
  {
   "cell_type": "markdown",
   "metadata": {
    "colab_type": "text",
    "id": "0yXW0bx1oEJA"
   },
   "source": [
    "## Extract frames from videos \n",
    "A key point for a successful feature detector is to select diverse frames, which are typical for the behavior you study that should be labeled.\n",
    "\n",
    "This function selects N frames either uniformly sampled from a particular video (or folder) (algo=='uniform'). Note: this might not yield diverse frames, if the behavior is sparsely distributed (consider using kmeans), and/or select frames manually etc.\n",
    "\n",
    "Also make sure to get select data from different (behavioral) sessions and different animals if those vary substantially (to train an invariant feature detector).\n",
    "\n",
    "Individual images should not be too big (i.e. < 850 x 850 pixel). Although this can be taken care of later as well, it is advisable to crop the frames, to remove unnecessary parts of the frame as much as possible.\n",
    "\n",
    "Always check the output of cropping. If you are happy with the results proceed to labeling."
   ]
  },
  {
   "cell_type": "code",
   "execution_count": 6,
   "metadata": {
    "colab": {},
    "colab_type": "code",
    "id": "t1ulumCuoEJC"
   },
   "outputs": [
    {
     "name": "stdout",
     "output_type": "stream",
     "text": [
      "Config file read successfully.\n",
      "Do you want to extract (perhaps additional) frames for video: F:\\ar2breathing\\10_10_19\\ar2breathing10_10_19-Fassihi2-2019-12-18\\videos\\00-00-00video.mp4 ?\n",
      "yes/noyes\n",
      "Extracting frames based on uniform ...\n",
      "Uniformly extracting of frames from 0.0  seconds to 1200.0  seconds.\n",
      "Do you want to extract (perhaps additional) frames for video: F:\\ar2breathing\\10_10_19\\ar2breathing10_10_19-Fassihi2-2019-12-18\\videos\\00-00-22video.mp4 ?\n",
      "yes/noyes\n",
      "Extracting frames based on uniform ...\n",
      "Uniformly extracting of frames from 0.0  seconds to 1200.0  seconds.\n",
      "Do you want to extract (perhaps additional) frames for video: F:\\ar2breathing\\10_10_19\\ar2breathing10_10_19-Fassihi2-2019-12-18\\videos\\00-00-46video.mp4 ?\n",
      "yes/noyes\n",
      "Extracting frames based on uniform ...\n",
      "Uniformly extracting of frames from 0.0  seconds to 1200.0  seconds.\n",
      "\n",
      "Frames were selected.\n",
      "You can now label the frames using the function 'label_frames' (if you extracted enough frames for all videos).\n"
     ]
    },
    {
     "data": {
      "image/png": "[encoded data removed]",
      "text/plain": [
       "<Figure size 432x288 with 1 Axes>"
      ]
     },
     "metadata": {
      "needs_background": "light"
     },
     "output_type": "display_data"
    },
    {
     "data": {
      "image/png": "[encoded data removed]",
      "text/plain": [
       "<Figure size 432x288 with 1 Axes>"
      ]
     },
     "metadata": {
      "needs_background": "light"
     },
     "output_type": "display_data"
    },
    {
     "data": {
      "image/png": "[encoded data removed]",
      "text/plain": [
       "<Figure size 432x288 with 1 Axes>"
      ]
     },
     "metadata": {
      "needs_background": "light"
     },
     "output_type": "display_data"
    }
   ],
   "source": [
    "%matplotlib inline\n",
    "\n",
    "path_config_file = 'F:\\\\ar2breathing\\\\10_10_19\\\\ar2breathing10_10_19-Fassihi2-2019-12-18\\\\config.yaml'\n",
    "#Enter the path of the config file that was just created from the above step (check the folder)\n",
    "deeplabcut.extract_frames(path_config_file,'automatic','uniform',crop=True) #there are other ways to grab frames, such as by clustering 'kmeans'; please see the paper. \n",
    "#deeplabcut.extract_frames(path_config_file,'automatic','uniform',crop=True, checkcropping=True) #there are other ways to grab frames, such as by clustering 'kmeans'; please see the paper. \n",
    "#You can change the cropping to false, then delete the checkcropping part!"
   ]
  },
  {
   "cell_type": "code",
   "execution_count": 3,
   "metadata": {},
   "outputs": [],
   "source": [
    "path_config_file = 'D:\\\\movies_Rat_SC_project\\\\ar20\\\\06_20_19\\\\sc_ar20_06202019-Fassihi-2019-06-20\\\\config.yaml' #Enter the path of the config file that was just created from the above step (check the folder)\n",
    "path_config_file = 'D:\\\\movies_Rat_SC_project\\\\ar20\\\\07_08_19\\\\sc_ar20_07082019-Fassihi3-2019-07-09\\\\config.yaml'\n",
    "path_config_file = 'D:\\\\movies_Rat_SC_project\\\\ar14\\\\09_17_19\\\\ar14_09172019_ii-Fassihi-2019-09-17\\\\config.yaml' #Enter the path of the config file that was just created from the above step (check the folder)\n",
    "path_config_file = 'D:\\\\rat_movies_SC\\\\ar19muscimol\\\\10_10_2019\\\\ar19_10102019-Fassihi-2019-11-12\\\\config.yaml'\n",
    "path_config_file = 'D:\\\\rat_movies_SC\\\\ar19tear19salin\\\\10_08_19\\\\ar19_10082019-Fassihi-2019-11-25\\\\config.yaml'\n",
    "path_config_file = 'D:\\\\rat_movies_SC\\\\ar19tear19salin\\\\10_08_19_waterspouts\\\\ar19_10082019_waterspouts-Fassihi-2019-11-28\\\\config.yaml'\n",
    "path_config_file = 'F:\\\\ar2breathing\\\\10_10_19\\\\ar2breathing10_10_19-Fassihi2-2019-12-18\\\\config.yaml'\n",
    "\n",
    "path_config_file = 'F:\\\\ar2breathing\\\\10_06_19\\\\ar2_10062019_ii-Fassihi-2019-10-07\\\\config.yaml'\n"
   ]
  },
  {
   "cell_type": "markdown",
   "metadata": {
    "colab_type": "text",
    "id": "Gjn6ZDonoEJH"
   },
   "source": [
    "## Label the extracted frames\n",
    "Only videos in the config file can be used to extract the frames. Extracted labels for each video are stored in the project directory under the subdirectory **'labeled-data'**. Each subdirectory is named after the name of the video. The toolbox has a labeling toolbox which could be used for labeling. "
   ]
  },
  {
   "cell_type": "code",
   "execution_count": 7,
   "metadata": {
    "colab": {},
    "colab_type": "code",
    "id": "iyROSOiEoEJI"
   },
   "outputs": [
    {
     "name": "stdout",
     "output_type": "stream",
     "text": [
      "You can now check the labels, using 'check_labels' before proceeding. Then, you can use the function 'create_training_dataset' to create the training dataset.\n"
     ]
    }
   ],
   "source": [
    "%gui wx\n",
    "#path_config_file = 'D:\\\\rat movies SC\\\\ar15record\\\\02_27_19\\\\sc_ar15record_02272019-Fassihi-2019-03-12\\\\config.yaml' #Enter the path of the config file that was just created from the above step (check the folder)\n",
    "#path_config_file = 'D:\\\\rat_movies_SC\\\\ar17record\\\\02_27_19\\\\sc_ar17record_02272019_3-Fassihi-2019-04-28\\\\config.yaml'\n",
    "\n",
    "deeplabcut.label_frames(path_config_file)"
   ]
  },
  {
   "cell_type": "markdown",
   "metadata": {
    "colab_type": "text",
    "id": "vim95ZvkPSeN"
   },
   "source": [
    "**Check the labels**\n",
    "\n",
    "Checking if the labels were created and stored correctly is beneficial for training, since labeling is one of the most critical parts for creating the training dataset. The DeepLabCut toolbox provides a function `check\\_labels'  to do so. It is used as follows:"
   ]
  },
  {
   "cell_type": "code",
   "execution_count": 3,
   "metadata": {
    "colab": {},
    "colab_type": "code",
    "id": "NwvgPJouPP2O"
   },
   "outputs": [
    {
     "name": "stdout",
     "output_type": "stream",
     "text": [
      "Creating images with labels by Fassihi2.\n",
      "They are stored in the following folder: F:\\ar2breathing\\10_10_19\\ar2breathing10_10_19-Fassihi2-2019-12-18\\labeled-data\\00-00-00video_labeled.\n",
      "They are stored in the following folder: F:\\ar2breathing\\10_10_19\\ar2breathing10_10_19-Fassihi2-2019-12-18\\labeled-data\\00-00-22video_labeled.\n",
      "They are stored in the following folder: F:\\ar2breathing\\10_10_19\\ar2breathing10_10_19-Fassihi2-2019-12-18\\labeled-data\\00-00-46video_labeled.\n",
      "If all the labels are ok, then use the function 'create_training_dataset' to create the training dataset!\n"
     ]
    }
   ],
   "source": [
    "#path_config_file = 'D:\\\\rat_movies_SC\\\\ar17record\\\\02_27_19\\\\sc_ar17record_02272019_3-Fassihi-2019-04-28\\\\config.yaml'\n",
    "#path_config_file = 'D:\\\\movies_Rat_SC_project\\\\ar2breathing\\\\10_04_19\\\\ar14_09172019_ii-Fassihi-2019-10-05\\\\config.yaml'\n",
    "deeplabcut.check_labels(path_config_file) #this creates a subdirectory with the frames + your labels"
   ]
  },
  {
   "cell_type": "markdown",
   "metadata": {
    "colab_type": "text",
    "id": "of87fOjgPqzH"
   },
   "source": [
    "If the labels need adjusted, you can use the refinement GUI to move them around! Check that out below."
   ]
  },
  {
   "cell_type": "markdown",
   "metadata": {
    "colab_type": "text",
    "id": "xNi9s1dboEJN"
   },
   "source": [
    "## Create a training dataset\n",
    "This function generates the training data information for DeepCut (which requires a mat file) based on the pandas dataframes that hold label information. The user can set the fraction of the training set size (from all labeled image in the hd5 file) in the config.yaml file. While creating the dataset, the user can create multiple shuffles. \n",
    "\n",
    "After running this script the training dataset is created and saved in the project directory under the subdirectory **'training-datasets'**\n",
    "\n",
    "This function also creates new subdirectories under **dlc-models** and appends the project config.yaml file with the correct path to the training and testing pose configuration file. These files hold the parameters for training the network. Such an example file is provided with the toolbox and named as **pose_cfg.yaml**.\n",
    "\n",
    "Now it is the time to start training the network!"
   ]
  },
  {
   "cell_type": "code",
   "execution_count": 4,
   "metadata": {
    "colab": {},
    "colab_type": "code",
    "id": "eMeUwgxPoEJP",
    "scrolled": true
   },
   "outputs": [
    {
     "name": "stdout",
     "output_type": "stream",
     "text": [
      "The training dataset is successfully created. Use the function 'train_network' to start training. Happy training!\n"
     ]
    }
   ],
   "source": [
    "#path_config_file = 'D:\\\\rat_movies_SC\\\\ar17record\\\\02_27_19\\\\sc_ar17record_02272019_3-Fassihi-2019-04-28\\\\config.yaml'\n",
    "#path_config_file = 'D:\\\\movies_Rat_SC_project\\\\ar2breathing\\\\10_04_19\\\\ar14_09172019_ii-Fassihi-2019-10-05\\\\config.yaml'\n",
    "deeplabcut.create_training_dataset(path_config_file)"
   ]
  },
  {
   "cell_type": "markdown",
   "metadata": {
    "colab_type": "text",
    "id": "c4FczXGDoEJU"
   },
   "source": [
    "## Start training - If you want to use a CPU, continue. \n",
    "### If yu want to use your GPU, you need to exit here and either work from the Docker container, your own TensorFlow installation in an Anaconda env\n",
    "\n",
    "This function trains the network for a specific shuffle of the training dataset. "
   ]
  },
  {
   "cell_type": "code",
   "execution_count": 1,
   "metadata": {
    "colab": {},
    "colab_type": "code",
    "id": "_pOvDq_2oEJW",
    "scrolled": true
   },
   "outputs": [
    {
     "ename": "NameError",
     "evalue": "name 'deeplabcut' is not defined",
     "output_type": "error",
     "traceback": [
      "\u001b[1;31m---------------------------------------------------------------------------\u001b[0m",
      "\u001b[1;31mNameError\u001b[0m                                 Traceback (most recent call last)",
      "\u001b[1;32m<ipython-input-1-25efc44a6b39>\u001b[0m in \u001b[0;36m<module>\u001b[1;34m()\u001b[0m\n\u001b[0;32m      7\u001b[0m \u001b[1;31m#path_config_file = 'D:\\\\rat_movies_SC\\\\ar17record\\\\02_27_19\\\\sc_ar17record_02272019_3-Fassihi-2019-04-28\\\\config.yaml' #Enter the path of the config file that was just created from the above step (check the folder)\u001b[0m\u001b[1;33m\u001b[0m\u001b[1;33m\u001b[0m\u001b[1;33m\u001b[0m\u001b[0m\n\u001b[0;32m      8\u001b[0m \u001b[1;33m\u001b[0m\u001b[0m\n\u001b[1;32m----> 9\u001b[1;33m \u001b[0mdeeplabcut\u001b[0m\u001b[1;33m.\u001b[0m\u001b[0mtrain_network\u001b[0m\u001b[1;33m(\u001b[0m\u001b[0mpath_config_file\u001b[0m\u001b[1;33m,\u001b[0m\u001b[0mshuffle\u001b[0m\u001b[1;33m=\u001b[0m\u001b[1;36m1\u001b[0m\u001b[1;33m,\u001b[0m\u001b[0mdisplayiters\u001b[0m\u001b[1;33m=\u001b[0m\u001b[1;36m1000\u001b[0m\u001b[1;33m,\u001b[0m\u001b[0msaveiters\u001b[0m\u001b[1;33m=\u001b[0m\u001b[1;36m1000\u001b[0m\u001b[1;33m)\u001b[0m\u001b[1;33m\u001b[0m\u001b[1;33m\u001b[0m\u001b[0m\n\u001b[0m",
      "\u001b[1;31mNameError\u001b[0m: name 'deeplabcut' is not defined"
     ]
    }
   ],
   "source": [
    "\n",
    "#path_config_file = 'D:\\\\rat movies SC\\\\ar19\\\\02_07_19\\\\sc_ar19_02072019-Fassihi4-2019-02-13\\\\config.yaml' #Enter the path of the config file that was just created from the above step (check the folder)\n",
    "#path_config_file = 'D:\\\\rat movies SC\\\\ar15record\\\\02_27_19\\\\sc_ar15record_02272019-Fassihi-2019-03-12\\\\config.yaml' #Enter the path of the config file that was just created from the above step (check the folder)\n",
    "#path_confic_file = 'D:\\rat_movies_SC\\ar17record\\02_27_19\\sc_ar17record_02272019-Fassihi-2019-03-05\\config.yaml'\n",
    "#path_config_file = 'D:\\\\rat_movies_SC\\\\ar17record\\\\02_27_19\\\\sc_ar17record_02272019_3-Fassihi-2019-04-28\\\\config.yaml'\n",
    "#path_config_file = 'D:\\\\rat_movies_SC\\\\ar15record\\\\02_27_19\\\\sc_ar15record_02272019_4-Fassihi-2019-05-02\\\\config.yaml' #Enter the path of the config file that was just created from the above step (check the folder)\n",
    "#path_config_file = 'D:\\\\rat_movies_SC\\\\ar17record\\\\02_27_19\\\\sc_ar17record_02272019_3-Fassihi-2019-04-28\\\\config.yaml' #Enter the path of the config file that was just created from the above step (check the folder)\n",
    "\n",
    "deeplabcut.train_network(path_config_file,shuffle=1,displayiters=1000,saveiters=1000)"
   ]
  },
  {
   "cell_type": "markdown",
   "metadata": {
    "colab_type": "text",
    "id": "xZygsb2DoEJc"
   },
   "source": [
    "## Start evaluating\n",
    "This funtion evaluates a trained model for a specific shuffle/shuffles at a particular state or all the states on the data set (images)\n",
    "and stores the results as .csv file in a subdirectory under **evaluation-results**"
   ]
  },
  {
   "cell_type": "code",
   "execution_count": 8,
   "metadata": {
    "colab": {},
    "colab_type": "code",
    "id": "nv4zlbrnoEJg",
    "scrolled": true
   },
   "outputs": [
    {
     "ename": "FileNotFoundError",
     "evalue": "File F:\\movies_Rat_SC_project\\ar2breathing\\10_06_19\\ar2_10062019_ii-Fassihi-2019-10-07\\training-datasets\\iteration-0\\UnaugmentedDataSet_ar2_10062019_iiOct7\\CollectedData_Fassihi.h5 does not exist",
     "output_type": "error",
     "traceback": [
      "\u001b[1;31m---------------------------------------------------------------------------\u001b[0m",
      "\u001b[1;31mFileNotFoundError\u001b[0m                         Traceback (most recent call last)",
      "\u001b[1;32m<ipython-input-8-e45c4ac9a03b>\u001b[0m in \u001b[0;36m<module>\u001b[1;34m()\u001b[0m\n\u001b[0;32m      1\u001b[0m \u001b[1;31m#deeplabcut.evaluate_network(path_config_file)\u001b[0m\u001b[1;33m\u001b[0m\u001b[1;33m\u001b[0m\u001b[1;33m\u001b[0m\u001b[0m\n\u001b[0;32m      2\u001b[0m \u001b[1;31m#path_config_file = 'D:\\\\rat_movies_SC\\\\ar17record\\\\02_27_19\\\\sc_ar17record_02272019_3-Fassihi-2019-04-28\\\\config.yaml'\u001b[0m\u001b[1;33m\u001b[0m\u001b[1;33m\u001b[0m\u001b[1;33m\u001b[0m\u001b[0m\n\u001b[1;32m----> 3\u001b[1;33m \u001b[0mdeeplabcut\u001b[0m\u001b[1;33m.\u001b[0m\u001b[0mevaluate_network\u001b[0m\u001b[1;33m(\u001b[0m\u001b[0mpath_config_file\u001b[0m\u001b[1;33m,\u001b[0m\u001b[0mShuffles\u001b[0m\u001b[1;33m=\u001b[0m\u001b[1;33m[\u001b[0m\u001b[1;36m1\u001b[0m\u001b[1;33m]\u001b[0m\u001b[1;33m,\u001b[0m \u001b[0mplotting\u001b[0m\u001b[1;33m=\u001b[0m\u001b[1;32mFalse\u001b[0m\u001b[1;33m)\u001b[0m\u001b[1;33m\u001b[0m\u001b[1;33m\u001b[0m\u001b[0m\n\u001b[0m",
      "\u001b[1;32mC:\\Users\\Arash\\Anaconda3\\envs\\dlc-windowsGPU\\lib\\site-packages\\deeplabcut\\pose_estimation_tensorflow\\evaluate.py\u001b[0m in \u001b[0;36mevaluate_network\u001b[1;34m(config, Shuffles, plotting, show_errors, comparisonbodyparts, gputouse)\u001b[0m\n\u001b[0;32m     91\u001b[0m     \u001b[1;31m# Loading human annotatated data\u001b[0m\u001b[1;33m\u001b[0m\u001b[1;33m\u001b[0m\u001b[1;33m\u001b[0m\u001b[0m\n\u001b[0;32m     92\u001b[0m     \u001b[0mtrainingsetfolder\u001b[0m\u001b[1;33m=\u001b[0m\u001b[0mauxiliaryfunctions\u001b[0m\u001b[1;33m.\u001b[0m\u001b[0mGetTrainingSetFolder\u001b[0m\u001b[1;33m(\u001b[0m\u001b[0mcfg\u001b[0m\u001b[1;33m)\u001b[0m\u001b[1;33m\u001b[0m\u001b[1;33m\u001b[0m\u001b[0m\n\u001b[1;32m---> 93\u001b[1;33m     \u001b[0mData\u001b[0m\u001b[1;33m=\u001b[0m\u001b[0mpd\u001b[0m\u001b[1;33m.\u001b[0m\u001b[0mread_hdf\u001b[0m\u001b[1;33m(\u001b[0m\u001b[0mos\u001b[0m\u001b[1;33m.\u001b[0m\u001b[0mpath\u001b[0m\u001b[1;33m.\u001b[0m\u001b[0mjoin\u001b[0m\u001b[1;33m(\u001b[0m\u001b[0mcfg\u001b[0m\u001b[1;33m[\u001b[0m\u001b[1;34m\"project_path\"\u001b[0m\u001b[1;33m]\u001b[0m\u001b[1;33m,\u001b[0m\u001b[0mstr\u001b[0m\u001b[1;33m(\u001b[0m\u001b[0mtrainingsetfolder\u001b[0m\u001b[1;33m)\u001b[0m\u001b[1;33m,\u001b[0m\u001b[1;34m'CollectedData_'\u001b[0m \u001b[1;33m+\u001b[0m \u001b[0mcfg\u001b[0m\u001b[1;33m[\u001b[0m\u001b[1;34m\"scorer\"\u001b[0m\u001b[1;33m]\u001b[0m \u001b[1;33m+\u001b[0m \u001b[1;34m'.h5'\u001b[0m\u001b[1;33m)\u001b[0m\u001b[1;33m,\u001b[0m\u001b[1;34m'df_with_missing'\u001b[0m\u001b[1;33m)\u001b[0m\u001b[1;33m\u001b[0m\u001b[1;33m\u001b[0m\u001b[0m\n\u001b[0m\u001b[0;32m     94\u001b[0m     \u001b[1;31m# Get list of body parts to evaluate network for\u001b[0m\u001b[1;33m\u001b[0m\u001b[1;33m\u001b[0m\u001b[1;33m\u001b[0m\u001b[0m\n\u001b[0;32m     95\u001b[0m     \u001b[0mcomparisonbodyparts\u001b[0m\u001b[1;33m=\u001b[0m\u001b[0mauxiliaryfunctions\u001b[0m\u001b[1;33m.\u001b[0m\u001b[0mIntersectionofBodyPartsandOnesGivenbyUser\u001b[0m\u001b[1;33m(\u001b[0m\u001b[0mcfg\u001b[0m\u001b[1;33m,\u001b[0m\u001b[0mcomparisonbodyparts\u001b[0m\u001b[1;33m)\u001b[0m\u001b[1;33m\u001b[0m\u001b[1;33m\u001b[0m\u001b[0m\n",
      "\u001b[1;32mC:\\Users\\Arash\\Anaconda3\\envs\\dlc-windowsGPU\\lib\\site-packages\\pandas\\io\\pytables.py\u001b[0m in \u001b[0;36mread_hdf\u001b[1;34m(path_or_buf, key, mode, **kwargs)\u001b[0m\n\u001b[0;32m    345\u001b[0m         \u001b[1;32mif\u001b[0m \u001b[1;32mnot\u001b[0m \u001b[0mexists\u001b[0m\u001b[1;33m:\u001b[0m\u001b[1;33m\u001b[0m\u001b[1;33m\u001b[0m\u001b[0m\n\u001b[0;32m    346\u001b[0m             raise compat.FileNotFoundError(\n\u001b[1;32m--> 347\u001b[1;33m                 'File %s does not exist' % path_or_buf)\n\u001b[0m\u001b[0;32m    348\u001b[0m \u001b[1;33m\u001b[0m\u001b[0m\n\u001b[0;32m    349\u001b[0m         \u001b[0mstore\u001b[0m \u001b[1;33m=\u001b[0m \u001b[0mHDFStore\u001b[0m\u001b[1;33m(\u001b[0m\u001b[0mpath_or_buf\u001b[0m\u001b[1;33m,\u001b[0m \u001b[0mmode\u001b[0m\u001b[1;33m=\u001b[0m\u001b[0mmode\u001b[0m\u001b[1;33m,\u001b[0m \u001b[1;33m**\u001b[0m\u001b[0mkwargs\u001b[0m\u001b[1;33m)\u001b[0m\u001b[1;33m\u001b[0m\u001b[1;33m\u001b[0m\u001b[0m\n",
      "\u001b[1;31mFileNotFoundError\u001b[0m: File F:\\movies_Rat_SC_project\\ar2breathing\\10_06_19\\ar2_10062019_ii-Fassihi-2019-10-07\\training-datasets\\iteration-0\\UnaugmentedDataSet_ar2_10062019_iiOct7\\CollectedData_Fassihi.h5 does not exist"
     ]
    }
   ],
   "source": [
    "#deeplabcut.evaluate_network(path_config_file)\n",
    "#path_config_file = 'D:\\\\rat_movies_SC\\\\ar17record\\\\02_27_19\\\\sc_ar17record_02272019_3-Fassihi-2019-04-28\\\\config.yaml'\n",
    "deeplabcut.evaluate_network(path_config_file,Shuffles=[1], plotting=False)"
   ]
  },
  {
   "cell_type": "markdown",
   "metadata": {
    "colab_type": "text",
    "id": "OVFLSKKfoEJk"
   },
   "source": [
    "## Start Analyzing videos\n",
    "This function analyzes the new video. The user can choose the best model from the evaluation results and specify the correct snapshot index for the variable **snapshotindex** in the **config.yaml** file. Otherwise, by default the most recent snapshot is used to analyse the video.\n",
    "\n",
    "The results are stored in hd5 file in the same directory where the video resides. "
   ]
  },
  {
   "cell_type": "code",
   "execution_count": 9,
   "metadata": {
    "colab": {},
    "colab_type": "code",
    "id": "Y_LZiS_0oEJl"
   },
   "outputs": [
    {
     "name": "stdout",
     "output_type": "stream",
     "text": [
      "F:\\ar2breathing\\10_06_19\\21-58-47video.mp4\n",
      "140\n",
      "F:\\ar2breathing\\10_06_19\\ar2_10062019_ii-Fassihi-2019-10-07\\config.yaml\n",
      "Using snapshot-55000 for model F:\\ar2breathing\\10_06_19\\ar2_10062019_ii-Fassihi-2019-10-07\\dlc-models\\iteration-0\\ar2_10062019_iiOct7-trainset95shuffle1\n",
      "INFO:tensorflow:Restoring parameters from F:\\ar2breathing\\10_06_19\\ar2_10062019_ii-Fassihi-2019-10-07\\dlc-models\\iteration-0\\ar2_10062019_iiOct7-trainset95shuffle1\\train\\snapshot-55000\n"
     ]
    },
    {
     "name": "stderr",
     "output_type": "stream",
     "text": [
      "INFO:tensorflow:Restoring parameters from F:\\ar2breathing\\10_06_19\\ar2_10062019_ii-Fassihi-2019-10-07\\dlc-models\\iteration-0\\ar2_10062019_iiOct7-trainset95shuffle1\\train\\snapshot-55000\n"
     ]
    },
    {
     "name": "stdout",
     "output_type": "stream",
     "text": [
      "Starting to analyze %  F:\\ar2breathing\\10_06_19\\21-56-54video.mp4\n",
      "Loading  F:\\ar2breathing\\10_06_19\\21-56-54video.mp4\n",
      "Duration of video [s]:  1200.0 , recorded with  1.0 fps!\n",
      "Overall # of frames:  1200  found with (before cropping) frame dimensions:  1024 390\n",
      "Starting to extract posture\n"
     ]
    },
    {
     "name": "stderr",
     "output_type": "stream",
     "text": [
      "1212it [01:10, 17.95it/s]                                                                                              "
     ]
    },
    {
     "name": "stdout",
     "output_type": "stream",
     "text": [
      "Detected frames:  1200\n"
     ]
    },
    {
     "name": "stderr",
     "output_type": "stream",
     "text": [
      "\n"
     ]
    },
    {
     "name": "stdout",
     "output_type": "stream",
     "text": [
      "Saving results in F:\\ar2breathing\\10_06_19...\n",
      "Saving csv poses!\n",
      "Starting to analyze %  F:\\ar2breathing\\10_06_19\\21-57-55video.mp4\n",
      "Loading  F:\\ar2breathing\\10_06_19\\21-57-55video.mp4\n",
      "Duration of video [s]:  1200.0 , recorded with  1.0 fps!\n",
      "Overall # of frames:  1200  found with (before cropping) frame dimensions:  1024 390\n",
      "Starting to extract posture\n"
     ]
    },
    {
     "name": "stderr",
     "output_type": "stream",
     "text": [
      "1212it [01:23, 10.88it/s]                                                                                              "
     ]
    },
    {
     "name": "stdout",
     "output_type": "stream",
     "text": [
      "Detected frames:  1200\n"
     ]
    },
    {
     "name": "stderr",
     "output_type": "stream",
     "text": [
      "\n"
     ]
    },
    {
     "name": "stdout",
     "output_type": "stream",
     "text": [
      "Saving results in F:\\ar2breathing\\10_06_19...\n",
      "Saving csv poses!\n",
      "Starting to analyze %  F:\\ar2breathing\\10_06_19\\21-58-24video.mp4\n",
      "Loading  F:\\ar2breathing\\10_06_19\\21-58-24video.mp4\n",
      "Duration of video [s]:  1200.0 , recorded with  1.0 fps!\n",
      "Overall # of frames:  1200  found with (before cropping) frame dimensions:  1024 390\n",
      "Starting to extract posture\n"
     ]
    },
    {
     "name": "stderr",
     "output_type": "stream",
     "text": [
      "1212it [01:24, 13.27it/s]                                                                                              "
     ]
    },
    {
     "name": "stdout",
     "output_type": "stream",
     "text": [
      "Detected frames:  1200\n"
     ]
    },
    {
     "name": "stderr",
     "output_type": "stream",
     "text": [
      "\n"
     ]
    },
    {
     "name": "stdout",
     "output_type": "stream",
     "text": [
      "Saving results in F:\\ar2breathing\\10_06_19...\n",
      "Saving csv poses!\n",
      "Starting to analyze %  F:\\ar2breathing\\10_06_19\\21-58-47video.mp4\n",
      "Loading  F:\\ar2breathing\\10_06_19\\21-58-47video.mp4\n",
      "Duration of video [s]:  1200.0 , recorded with  1.0 fps!\n",
      "Overall # of frames:  1200  found with (before cropping) frame dimensions:  1024 390\n",
      "Starting to extract posture\n"
     ]
    },
    {
     "name": "stderr",
     "output_type": "stream",
     "text": [
      "1212it [01:15, 15.19it/s]                                                                                              "
     ]
    },
    {
     "name": "stdout",
     "output_type": "stream",
     "text": [
      "Detected frames:  1200\n"
     ]
    },
    {
     "name": "stderr",
     "output_type": "stream",
     "text": [
      "\n"
     ]
    },
    {
     "name": "stdout",
     "output_type": "stream",
     "text": [
      "Saving results in F:\\ar2breathing\\10_06_19...\n",
      "Saving csv poses!\n",
      "Starting to analyze %  F:\\ar2breathing\\10_06_19\\21-59-12video.mp4\n",
      "Loading  F:\\ar2breathing\\10_06_19\\21-59-12video.mp4\n",
      "Duration of video [s]:  1200.0 , recorded with  1.0 fps!\n",
      "Overall # of frames:  1200  found with (before cropping) frame dimensions:  1024 390\n",
      "Starting to extract posture\n"
     ]
    },
    {
     "name": "stderr",
     "output_type": "stream",
     "text": [
      "1212it [01:37, 11.64it/s]                                                                                              "
     ]
    },
    {
     "name": "stdout",
     "output_type": "stream",
     "text": [
      "Detected frames:  1200\n"
     ]
    },
    {
     "name": "stderr",
     "output_type": "stream",
     "text": [
      "\n"
     ]
    },
    {
     "name": "stdout",
     "output_type": "stream",
     "text": [
      "Saving results in F:\\ar2breathing\\10_06_19...\n",
      "Saving csv poses!\n",
      "Starting to analyze %  F:\\ar2breathing\\10_06_19\\21-59-36video.mp4\n",
      "Loading  F:\\ar2breathing\\10_06_19\\21-59-36video.mp4\n",
      "Duration of video [s]:  1200.0 , recorded with  1.0 fps!\n",
      "Overall # of frames:  1200  found with (before cropping) frame dimensions:  1024 390\n",
      "Starting to extract posture\n"
     ]
    },
    {
     "name": "stderr",
     "output_type": "stream",
     "text": [
      "1212it [01:49, 11.65it/s]                                                                                              "
     ]
    },
    {
     "name": "stdout",
     "output_type": "stream",
     "text": [
      "Detected frames:  1200\n"
     ]
    },
    {
     "name": "stderr",
     "output_type": "stream",
     "text": [
      "\n"
     ]
    },
    {
     "name": "stdout",
     "output_type": "stream",
     "text": [
      "Saving results in F:\\ar2breathing\\10_06_19...\n",
      "Saving csv poses!\n",
      "Starting to analyze %  F:\\ar2breathing\\10_06_19\\22-00-03video.mp4\n",
      "Loading  F:\\ar2breathing\\10_06_19\\22-00-03video.mp4\n",
      "Duration of video [s]:  1200.0 , recorded with  1.0 fps!\n",
      "Overall # of frames:  1200  found with (before cropping) frame dimensions:  1024 390\n",
      "Starting to extract posture\n"
     ]
    },
    {
     "name": "stderr",
     "output_type": "stream",
     "text": [
      "1212it [01:45, 12.06it/s]                                                                                              "
     ]
    },
    {
     "name": "stdout",
     "output_type": "stream",
     "text": [
      "Detected frames:  1200\n"
     ]
    },
    {
     "name": "stderr",
     "output_type": "stream",
     "text": [
      "\n"
     ]
    },
    {
     "name": "stdout",
     "output_type": "stream",
     "text": [
      "Saving results in F:\\ar2breathing\\10_06_19...\n",
      "Saving csv poses!\n",
      "Starting to analyze %  F:\\ar2breathing\\10_06_19\\22-00-32video.mp4\n",
      "Loading  F:\\ar2breathing\\10_06_19\\22-00-32video.mp4\n",
      "Duration of video [s]:  1200.0 , recorded with  1.0 fps!\n",
      "Overall # of frames:  1200  found with (before cropping) frame dimensions:  1024 390\n",
      "Starting to extract posture\n"
     ]
    },
    {
     "name": "stderr",
     "output_type": "stream",
     "text": [
      "1212it [01:46, 11.70it/s]                                                                                              "
     ]
    },
    {
     "name": "stdout",
     "output_type": "stream",
     "text": [
      "Detected frames:  1200\n"
     ]
    },
    {
     "name": "stderr",
     "output_type": "stream",
     "text": [
      "\n"
     ]
    },
    {
     "name": "stdout",
     "output_type": "stream",
     "text": [
      "Saving results in F:\\ar2breathing\\10_06_19...\n",
      "Saving csv poses!\n",
      "Starting to analyze %  F:\\ar2breathing\\10_06_19\\22-00-55video.mp4\n",
      "Loading  F:\\ar2breathing\\10_06_19\\22-00-55video.mp4\n",
      "Duration of video [s]:  1200.0 , recorded with  1.0 fps!\n",
      "Overall # of frames:  1200  found with (before cropping) frame dimensions:  1024 390\n",
      "Starting to extract posture\n"
     ]
    },
    {
     "name": "stderr",
     "output_type": "stream",
     "text": [
      "1212it [01:53, 10.06it/s]                                                                                              "
     ]
    },
    {
     "name": "stdout",
     "output_type": "stream",
     "text": [
      "Detected frames:  1200\n"
     ]
    },
    {
     "name": "stderr",
     "output_type": "stream",
     "text": [
      "\n"
     ]
    },
    {
     "name": "stdout",
     "output_type": "stream",
     "text": [
      "Saving results in F:\\ar2breathing\\10_06_19...\n",
      "Saving csv poses!\n",
      "Starting to analyze %  F:\\ar2breathing\\10_06_19\\22-01-19video.mp4\n",
      "Loading  F:\\ar2breathing\\10_06_19\\22-01-19video.mp4\n",
      "Duration of video [s]:  1200.0 , recorded with  1.0 fps!\n",
      "Overall # of frames:  1200  found with (before cropping) frame dimensions:  1024 390\n",
      "Starting to extract posture\n"
     ]
    },
    {
     "name": "stderr",
     "output_type": "stream",
     "text": [
      "1212it [01:54, 10.70it/s]                                                                                              "
     ]
    },
    {
     "name": "stdout",
     "output_type": "stream",
     "text": [
      "Detected frames:  1200\n"
     ]
    },
    {
     "name": "stderr",
     "output_type": "stream",
     "text": [
      "\n"
     ]
    },
    {
     "name": "stdout",
     "output_type": "stream",
     "text": [
      "Saving results in F:\\ar2breathing\\10_06_19...\n",
      "Saving csv poses!\n",
      "Starting to analyze %  F:\\ar2breathing\\10_06_19\\22-01-43video.mp4\n",
      "Loading  F:\\ar2breathing\\10_06_19\\22-01-43video.mp4\n",
      "Duration of video [s]:  1200.0 , recorded with  1.0 fps!\n",
      "Overall # of frames:  1200  found with (before cropping) frame dimensions:  1024 390\n",
      "Starting to extract posture\n"
     ]
    },
    {
     "name": "stderr",
     "output_type": "stream",
     "text": [
      "1212it [01:53, 10.65it/s]                                                                                              "
     ]
    },
    {
     "name": "stdout",
     "output_type": "stream",
     "text": [
      "Detected frames:  1200\n"
     ]
    },
    {
     "name": "stderr",
     "output_type": "stream",
     "text": [
      "\n"
     ]
    },
    {
     "name": "stdout",
     "output_type": "stream",
     "text": [
      "Saving results in F:\\ar2breathing\\10_06_19...\n",
      "Saving csv poses!\n",
      "Starting to analyze %  F:\\ar2breathing\\10_06_19\\22-03-21video.mp4\n",
      "Loading  F:\\ar2breathing\\10_06_19\\22-03-21video.mp4\n",
      "Duration of video [s]:  1200.0 , recorded with  1.0 fps!\n",
      "Overall # of frames:  1200  found with (before cropping) frame dimensions:  1024 390\n",
      "Starting to extract posture\n"
     ]
    },
    {
     "name": "stderr",
     "output_type": "stream",
     "text": [
      "1212it [01:47, 10.93it/s]                                                                                              "
     ]
    },
    {
     "name": "stdout",
     "output_type": "stream",
     "text": [
      "Detected frames:  1200\n"
     ]
    },
    {
     "name": "stderr",
     "output_type": "stream",
     "text": [
      "\n"
     ]
    },
    {
     "name": "stdout",
     "output_type": "stream",
     "text": [
      "Saving results in F:\\ar2breathing\\10_06_19...\n",
      "Saving csv poses!\n",
      "Starting to analyze %  F:\\ar2breathing\\10_06_19\\22-03-48video.mp4\n",
      "Loading  F:\\ar2breathing\\10_06_19\\22-03-48video.mp4\n",
      "Duration of video [s]:  1200.0 , recorded with  1.0 fps!\n",
      "Overall # of frames:  1200  found with (before cropping) frame dimensions:  1024 390\n",
      "Starting to extract posture\n"
     ]
    },
    {
     "name": "stderr",
     "output_type": "stream",
     "text": [
      "1212it [01:55, 11.05it/s]                                                                                              "
     ]
    },
    {
     "name": "stdout",
     "output_type": "stream",
     "text": [
      "Detected frames:  1200\n"
     ]
    },
    {
     "name": "stderr",
     "output_type": "stream",
     "text": [
      "\n"
     ]
    },
    {
     "name": "stdout",
     "output_type": "stream",
     "text": [
      "Saving results in F:\\ar2breathing\\10_06_19...\n",
      "Saving csv poses!\n",
      "Starting to analyze %  F:\\ar2breathing\\10_06_19\\22-04-15video.mp4\n",
      "Loading  F:\\ar2breathing\\10_06_19\\22-04-15video.mp4\n",
      "Duration of video [s]:  1200.0 , recorded with  1.0 fps!\n",
      "Overall # of frames:  1200  found with (before cropping) frame dimensions:  1024 390\n",
      "Starting to extract posture\n"
     ]
    },
    {
     "name": "stderr",
     "output_type": "stream",
     "text": [
      "1212it [01:52, 13.08it/s]                                                                                              "
     ]
    },
    {
     "name": "stdout",
     "output_type": "stream",
     "text": [
      "Detected frames:  1200\n"
     ]
    },
    {
     "name": "stderr",
     "output_type": "stream",
     "text": [
      "\n"
     ]
    },
    {
     "name": "stdout",
     "output_type": "stream",
     "text": [
      "Saving results in F:\\ar2breathing\\10_06_19...\n",
      "Saving csv poses!\n",
      "Starting to analyze %  F:\\ar2breathing\\10_06_19\\22-04-42video.mp4\n",
      "Loading  F:\\ar2breathing\\10_06_19\\22-04-42video.mp4\n",
      "Duration of video [s]:  1200.0 , recorded with  1.0 fps!\n",
      "Overall # of frames:  1200  found with (before cropping) frame dimensions:  1024 390\n",
      "Starting to extract posture\n"
     ]
    },
    {
     "name": "stderr",
     "output_type": "stream",
     "text": [
      "1212it [01:50, 10.59it/s]                                                                                              "
     ]
    },
    {
     "name": "stdout",
     "output_type": "stream",
     "text": [
      "Detected frames:  1200\n"
     ]
    },
    {
     "name": "stderr",
     "output_type": "stream",
     "text": [
      "\n"
     ]
    },
    {
     "name": "stdout",
     "output_type": "stream",
     "text": [
      "Saving results in F:\\ar2breathing\\10_06_19...\n",
      "Saving csv poses!\n",
      "Starting to analyze %  F:\\ar2breathing\\10_06_19\\22-05-13video.mp4\n",
      "Loading  F:\\ar2breathing\\10_06_19\\22-05-13video.mp4\n",
      "Duration of video [s]:  1200.0 , recorded with  1.0 fps!\n",
      "Overall # of frames:  1200  found with (before cropping) frame dimensions:  1024 390\n",
      "Starting to extract posture\n"
     ]
    },
    {
     "name": "stderr",
     "output_type": "stream",
     "text": [
      "1212it [01:48, 10.84it/s]                                                                                              "
     ]
    },
    {
     "name": "stdout",
     "output_type": "stream",
     "text": [
      "Detected frames:  1200\n"
     ]
    },
    {
     "name": "stderr",
     "output_type": "stream",
     "text": [
      "\n"
     ]
    },
    {
     "name": "stdout",
     "output_type": "stream",
     "text": [
      "Saving results in F:\\ar2breathing\\10_06_19...\n",
      "Saving csv poses!\n",
      "Starting to analyze %  F:\\ar2breathing\\10_06_19\\22-05-43video.mp4\n",
      "Loading  F:\\ar2breathing\\10_06_19\\22-05-43video.mp4\n",
      "Duration of video [s]:  1200.0 , recorded with  1.0 fps!\n",
      "Overall # of frames:  1200  found with (before cropping) frame dimensions:  1024 390\n",
      "Starting to extract posture\n"
     ]
    },
    {
     "name": "stderr",
     "output_type": "stream",
     "text": [
      "1212it [01:53, 10.50it/s]                                                                                              "
     ]
    },
    {
     "name": "stdout",
     "output_type": "stream",
     "text": [
      "Detected frames:  1200\n"
     ]
    },
    {
     "name": "stderr",
     "output_type": "stream",
     "text": [
      "\n"
     ]
    },
    {
     "name": "stdout",
     "output_type": "stream",
     "text": [
      "Saving results in F:\\ar2breathing\\10_06_19...\n",
      "Saving csv poses!\n",
      "Starting to analyze %  F:\\ar2breathing\\10_06_19\\22-06-06video.mp4\n",
      "Loading  F:\\ar2breathing\\10_06_19\\22-06-06video.mp4\n",
      "Duration of video [s]:  1200.0 , recorded with  1.0 fps!\n",
      "Overall # of frames:  1200  found with (before cropping) frame dimensions:  1024 390\n",
      "Starting to extract posture\n"
     ]
    },
    {
     "name": "stderr",
     "output_type": "stream",
     "text": [
      "1212it [01:47, 11.49it/s]                                                                                              "
     ]
    },
    {
     "name": "stdout",
     "output_type": "stream",
     "text": [
      "Detected frames:  1200\n"
     ]
    },
    {
     "name": "stderr",
     "output_type": "stream",
     "text": [
      "\n"
     ]
    },
    {
     "name": "stdout",
     "output_type": "stream",
     "text": [
      "Saving results in F:\\ar2breathing\\10_06_19...\n",
      "Saving csv poses!\n",
      "Starting to analyze %  F:\\ar2breathing\\10_06_19\\22-06-30video.mp4\n",
      "Loading  F:\\ar2breathing\\10_06_19\\22-06-30video.mp4\n",
      "Duration of video [s]:  1200.0 , recorded with  1.0 fps!\n",
      "Overall # of frames:  1200  found with (before cropping) frame dimensions:  1024 390\n",
      "Starting to extract posture\n"
     ]
    },
    {
     "name": "stderr",
     "output_type": "stream",
     "text": [
      "1212it [01:50, 11.70it/s]                                                                                              "
     ]
    },
    {
     "name": "stdout",
     "output_type": "stream",
     "text": [
      "Detected frames:  1200\n"
     ]
    },
    {
     "name": "stderr",
     "output_type": "stream",
     "text": [
      "\n"
     ]
    },
    {
     "name": "stdout",
     "output_type": "stream",
     "text": [
      "Saving results in F:\\ar2breathing\\10_06_19...\n",
      "Saving csv poses!\n",
      "Starting to analyze %  F:\\ar2breathing\\10_06_19\\22-06-55video.mp4\n",
      "Loading  F:\\ar2breathing\\10_06_19\\22-06-55video.mp4\n",
      "Duration of video [s]:  1200.0 , recorded with  1.0 fps!\n",
      "Overall # of frames:  1200  found with (before cropping) frame dimensions:  1024 390\n",
      "Starting to extract posture\n"
     ]
    },
    {
     "name": "stderr",
     "output_type": "stream",
     "text": [
      "1212it [01:55, 10.57it/s]                                                                                              "
     ]
    },
    {
     "name": "stdout",
     "output_type": "stream",
     "text": [
      "Detected frames:  1200\n"
     ]
    },
    {
     "name": "stderr",
     "output_type": "stream",
     "text": [
      "\n"
     ]
    },
    {
     "name": "stdout",
     "output_type": "stream",
     "text": [
      "Saving results in F:\\ar2breathing\\10_06_19...\n",
      "Saving csv poses!\n",
      "Starting to analyze %  F:\\ar2breathing\\10_06_19\\22-07-18video.mp4\n",
      "Loading  F:\\ar2breathing\\10_06_19\\22-07-18video.mp4\n",
      "Duration of video [s]:  1200.0 , recorded with  1.0 fps!\n",
      "Overall # of frames:  1200  found with (before cropping) frame dimensions:  1024 390\n",
      "Starting to extract posture\n"
     ]
    },
    {
     "name": "stderr",
     "output_type": "stream",
     "text": [
      "1212it [01:52,  9.49it/s]                                                                                              "
     ]
    },
    {
     "name": "stdout",
     "output_type": "stream",
     "text": [
      "Detected frames:  1200\n"
     ]
    },
    {
     "name": "stderr",
     "output_type": "stream",
     "text": [
      "\n"
     ]
    },
    {
     "name": "stdout",
     "output_type": "stream",
     "text": [
      "Saving results in F:\\ar2breathing\\10_06_19...\n",
      "Saving csv poses!\n",
      "Starting to analyze %  F:\\ar2breathing\\10_06_19\\22-07-45video.mp4\n",
      "Loading  F:\\ar2breathing\\10_06_19\\22-07-45video.mp4\n",
      "Duration of video [s]:  1200.0 , recorded with  1.0 fps!\n",
      "Overall # of frames:  1200  found with (before cropping) frame dimensions:  1024 390\n",
      "Starting to extract posture\n"
     ]
    },
    {
     "name": "stderr",
     "output_type": "stream",
     "text": [
      "1212it [01:48, 10.69it/s]                                                                                              "
     ]
    },
    {
     "name": "stdout",
     "output_type": "stream",
     "text": [
      "Detected frames:  1200\n"
     ]
    },
    {
     "name": "stderr",
     "output_type": "stream",
     "text": [
      "\n"
     ]
    },
    {
     "name": "stdout",
     "output_type": "stream",
     "text": [
      "Saving results in F:\\ar2breathing\\10_06_19...\n",
      "Saving csv poses!\n",
      "Starting to analyze %  F:\\ar2breathing\\10_06_19\\22-08-11video.mp4\n",
      "Loading  F:\\ar2breathing\\10_06_19\\22-08-11video.mp4\n",
      "Duration of video [s]:  1200.0 , recorded with  1.0 fps!\n",
      "Overall # of frames:  1200  found with (before cropping) frame dimensions:  1024 390\n",
      "Starting to extract posture\n"
     ]
    },
    {
     "name": "stderr",
     "output_type": "stream",
     "text": [
      "1212it [01:52, 10.70it/s]                                                                                              "
     ]
    },
    {
     "name": "stdout",
     "output_type": "stream",
     "text": [
      "Detected frames:  1200\n"
     ]
    },
    {
     "name": "stderr",
     "output_type": "stream",
     "text": [
      "\n"
     ]
    },
    {
     "name": "stdout",
     "output_type": "stream",
     "text": [
      "Saving results in F:\\ar2breathing\\10_06_19...\n",
      "Saving csv poses!\n",
      "Starting to analyze %  F:\\ar2breathing\\10_06_19\\22-08-39video.mp4\n",
      "Loading  F:\\ar2breathing\\10_06_19\\22-08-39video.mp4\n",
      "Duration of video [s]:  1200.0 , recorded with  1.0 fps!\n",
      "Overall # of frames:  1200  found with (before cropping) frame dimensions:  1024 390\n",
      "Starting to extract posture\n"
     ]
    },
    {
     "name": "stderr",
     "output_type": "stream",
     "text": [
      "1212it [01:53,  9.25it/s]                                                                                              "
     ]
    },
    {
     "name": "stdout",
     "output_type": "stream",
     "text": [
      "Detected frames:  1200\n"
     ]
    },
    {
     "name": "stderr",
     "output_type": "stream",
     "text": [
      "\n"
     ]
    },
    {
     "name": "stdout",
     "output_type": "stream",
     "text": [
      "Saving results in F:\\ar2breathing\\10_06_19...\n",
      "Saving csv poses!\n",
      "Starting to analyze %  F:\\ar2breathing\\10_06_19\\22-09-07video.mp4\n",
      "Loading  F:\\ar2breathing\\10_06_19\\22-09-07video.mp4\n",
      "Duration of video [s]:  1200.0 , recorded with  1.0 fps!\n",
      "Overall # of frames:  1200  found with (before cropping) frame dimensions:  1024 390\n",
      "Starting to extract posture\n"
     ]
    },
    {
     "name": "stderr",
     "output_type": "stream",
     "text": [
      "1212it [01:45, 10.46it/s]                                                                                              "
     ]
    },
    {
     "name": "stdout",
     "output_type": "stream",
     "text": [
      "Detected frames:  1200\n"
     ]
    },
    {
     "name": "stderr",
     "output_type": "stream",
     "text": [
      "\n"
     ]
    },
    {
     "name": "stdout",
     "output_type": "stream",
     "text": [
      "Saving results in F:\\ar2breathing\\10_06_19...\n",
      "Saving csv poses!\n",
      "Starting to analyze %  F:\\ar2breathing\\10_06_19\\22-10-56video.mp4\n",
      "Loading  F:\\ar2breathing\\10_06_19\\22-10-56video.mp4\n",
      "Duration of video [s]:  1200.0 , recorded with  1.0 fps!\n",
      "Overall # of frames:  1200  found with (before cropping) frame dimensions:  1024 390\n",
      "Starting to extract posture\n"
     ]
    },
    {
     "name": "stderr",
     "output_type": "stream",
     "text": [
      "1212it [01:52, 10.78it/s]                                                                                              "
     ]
    },
    {
     "name": "stdout",
     "output_type": "stream",
     "text": [
      "Detected frames:  1200\n"
     ]
    },
    {
     "name": "stderr",
     "output_type": "stream",
     "text": [
      "\n"
     ]
    },
    {
     "name": "stdout",
     "output_type": "stream",
     "text": [
      "Saving results in F:\\ar2breathing\\10_06_19...\n",
      "Saving csv poses!\n",
      "Starting to analyze %  F:\\ar2breathing\\10_06_19\\22-11-21video.mp4\n",
      "Loading  F:\\ar2breathing\\10_06_19\\22-11-21video.mp4\n",
      "Duration of video [s]:  1200.0 , recorded with  1.0 fps!\n",
      "Overall # of frames:  1200  found with (before cropping) frame dimensions:  1024 390\n",
      "Starting to extract posture\n"
     ]
    },
    {
     "name": "stderr",
     "output_type": "stream",
     "text": [
      "1212it [01:52, 10.64it/s]                                                                                              "
     ]
    },
    {
     "name": "stdout",
     "output_type": "stream",
     "text": [
      "Detected frames:  1200\n"
     ]
    },
    {
     "name": "stderr",
     "output_type": "stream",
     "text": [
      "\n"
     ]
    },
    {
     "name": "stdout",
     "output_type": "stream",
     "text": [
      "Saving results in F:\\ar2breathing\\10_06_19...\n",
      "Saving csv poses!\n",
      "Starting to analyze %  F:\\ar2breathing\\10_06_19\\22-11-47video.mp4\n",
      "Loading  F:\\ar2breathing\\10_06_19\\22-11-47video.mp4\n",
      "Duration of video [s]:  1200.0 , recorded with  1.0 fps!\n",
      "Overall # of frames:  1200  found with (before cropping) frame dimensions:  1024 390\n",
      "Starting to extract posture\n"
     ]
    },
    {
     "name": "stderr",
     "output_type": "stream",
     "text": [
      "1212it [01:53, 10.64it/s]                                                                                              "
     ]
    },
    {
     "name": "stdout",
     "output_type": "stream",
     "text": [
      "Detected frames:  1200\n"
     ]
    },
    {
     "name": "stderr",
     "output_type": "stream",
     "text": [
      "\n"
     ]
    },
    {
     "name": "stdout",
     "output_type": "stream",
     "text": [
      "Saving results in F:\\ar2breathing\\10_06_19...\n",
      "Saving csv poses!\n",
      "Starting to analyze %  F:\\ar2breathing\\10_06_19\\22-12-11video.mp4\n",
      "Loading  F:\\ar2breathing\\10_06_19\\22-12-11video.mp4\n",
      "Duration of video [s]:  1200.0 , recorded with  1.0 fps!\n",
      "Overall # of frames:  1200  found with (before cropping) frame dimensions:  1024 390\n",
      "Starting to extract posture\n"
     ]
    },
    {
     "name": "stderr",
     "output_type": "stream",
     "text": [
      "1212it [01:52, 10.67it/s]                                                                                              "
     ]
    },
    {
     "name": "stdout",
     "output_type": "stream",
     "text": [
      "Detected frames:  1200\n"
     ]
    },
    {
     "name": "stderr",
     "output_type": "stream",
     "text": [
      "\n"
     ]
    },
    {
     "name": "stdout",
     "output_type": "stream",
     "text": [
      "Saving results in F:\\ar2breathing\\10_06_19...\n",
      "Saving csv poses!\n",
      "Starting to analyze %  F:\\ar2breathing\\10_06_19\\22-12-36video.mp4\n",
      "Loading  F:\\ar2breathing\\10_06_19\\22-12-36video.mp4\n",
      "Duration of video [s]:  1200.0 , recorded with  1.0 fps!\n",
      "Overall # of frames:  1200  found with (before cropping) frame dimensions:  1024 390\n",
      "Starting to extract posture\n"
     ]
    },
    {
     "name": "stderr",
     "output_type": "stream",
     "text": [
      "1212it [01:53, 10.62it/s]                                                                                              "
     ]
    },
    {
     "name": "stdout",
     "output_type": "stream",
     "text": [
      "Detected frames:  1200\n"
     ]
    },
    {
     "name": "stderr",
     "output_type": "stream",
     "text": [
      "\n"
     ]
    },
    {
     "name": "stdout",
     "output_type": "stream",
     "text": [
      "Saving results in F:\\ar2breathing\\10_06_19...\n",
      "Saving csv poses!\n",
      "Starting to analyze %  F:\\ar2breathing\\10_06_19\\22-13-16video.mp4\n",
      "Loading  F:\\ar2breathing\\10_06_19\\22-13-16video.mp4\n",
      "Duration of video [s]:  1200.0 , recorded with  1.0 fps!\n",
      "Overall # of frames:  1200  found with (before cropping) frame dimensions:  1024 390\n",
      "Starting to extract posture\n"
     ]
    },
    {
     "name": "stderr",
     "output_type": "stream",
     "text": [
      "1212it [01:53, 10.40it/s]                                                                                              "
     ]
    },
    {
     "name": "stdout",
     "output_type": "stream",
     "text": [
      "Detected frames:  1200\n"
     ]
    },
    {
     "name": "stderr",
     "output_type": "stream",
     "text": [
      "\n"
     ]
    },
    {
     "name": "stdout",
     "output_type": "stream",
     "text": [
      "Saving results in F:\\ar2breathing\\10_06_19...\n",
      "Saving csv poses!\n",
      "Starting to analyze %  F:\\ar2breathing\\10_06_19\\22-13-40video.mp4\n",
      "Loading  F:\\ar2breathing\\10_06_19\\22-13-40video.mp4\n",
      "Duration of video [s]:  1200.0 , recorded with  1.0 fps!\n",
      "Overall # of frames:  1200  found with (before cropping) frame dimensions:  1024 390\n",
      "Starting to extract posture\n"
     ]
    },
    {
     "name": "stderr",
     "output_type": "stream",
     "text": [
      "1212it [01:53, 10.66it/s]                                                                                              "
     ]
    },
    {
     "name": "stdout",
     "output_type": "stream",
     "text": [
      "Detected frames:  1200\n"
     ]
    },
    {
     "name": "stderr",
     "output_type": "stream",
     "text": [
      "\n"
     ]
    },
    {
     "name": "stdout",
     "output_type": "stream",
     "text": [
      "Saving results in F:\\ar2breathing\\10_06_19...\n",
      "Saving csv poses!\n",
      "Starting to analyze %  F:\\ar2breathing\\10_06_19\\22-14-07video.mp4\n",
      "Loading  F:\\ar2breathing\\10_06_19\\22-14-07video.mp4\n",
      "Duration of video [s]:  1200.0 , recorded with  1.0 fps!\n",
      "Overall # of frames:  1200  found with (before cropping) frame dimensions:  1024 390\n",
      "Starting to extract posture\n"
     ]
    },
    {
     "name": "stderr",
     "output_type": "stream",
     "text": [
      "1212it [01:52, 10.58it/s]                                                                                              "
     ]
    },
    {
     "name": "stdout",
     "output_type": "stream",
     "text": [
      "Detected frames:  1200\n"
     ]
    },
    {
     "name": "stderr",
     "output_type": "stream",
     "text": [
      "\n"
     ]
    },
    {
     "name": "stdout",
     "output_type": "stream",
     "text": [
      "Saving results in F:\\ar2breathing\\10_06_19...\n",
      "Saving csv poses!\n",
      "Starting to analyze %  F:\\ar2breathing\\10_06_19\\22-17-25video.mp4\n",
      "Loading  F:\\ar2breathing\\10_06_19\\22-17-25video.mp4\n",
      "Duration of video [s]:  1200.0 , recorded with  1.0 fps!\n",
      "Overall # of frames:  1200  found with (before cropping) frame dimensions:  1024 390\n",
      "Starting to extract posture\n"
     ]
    },
    {
     "name": "stderr",
     "output_type": "stream",
     "text": [
      "1212it [01:52, 10.44it/s]                                                                                              "
     ]
    },
    {
     "name": "stdout",
     "output_type": "stream",
     "text": [
      "Detected frames:  1200\n"
     ]
    },
    {
     "name": "stderr",
     "output_type": "stream",
     "text": [
      "\n"
     ]
    },
    {
     "name": "stdout",
     "output_type": "stream",
     "text": [
      "Saving results in F:\\ar2breathing\\10_06_19...\n",
      "Saving csv poses!\n",
      "Starting to analyze %  F:\\ar2breathing\\10_06_19\\22-17-49video.mp4\n",
      "Loading  F:\\ar2breathing\\10_06_19\\22-17-49video.mp4\n",
      "Duration of video [s]:  1200.0 , recorded with  1.0 fps!\n",
      "Overall # of frames:  1200  found with (before cropping) frame dimensions:  1024 390\n",
      "Starting to extract posture\n"
     ]
    },
    {
     "name": "stderr",
     "output_type": "stream",
     "text": [
      "1212it [01:54, 10.71it/s]                                                                                              "
     ]
    },
    {
     "name": "stdout",
     "output_type": "stream",
     "text": [
      "Detected frames:  1200\n"
     ]
    },
    {
     "name": "stderr",
     "output_type": "stream",
     "text": [
      "\n"
     ]
    },
    {
     "name": "stdout",
     "output_type": "stream",
     "text": [
      "Saving results in F:\\ar2breathing\\10_06_19...\n",
      "Saving csv poses!\n",
      "Starting to analyze %  F:\\ar2breathing\\10_06_19\\22-18-13video.mp4\n",
      "Loading  F:\\ar2breathing\\10_06_19\\22-18-13video.mp4\n",
      "Duration of video [s]:  1200.0 , recorded with  1.0 fps!\n",
      "Overall # of frames:  1200  found with (before cropping) frame dimensions:  1024 390\n",
      "Starting to extract posture\n"
     ]
    },
    {
     "name": "stderr",
     "output_type": "stream",
     "text": [
      "1212it [01:51, 10.85it/s]                                                                                              "
     ]
    },
    {
     "name": "stdout",
     "output_type": "stream",
     "text": [
      "Detected frames:  1200\n"
     ]
    },
    {
     "name": "stderr",
     "output_type": "stream",
     "text": [
      "\n"
     ]
    },
    {
     "name": "stdout",
     "output_type": "stream",
     "text": [
      "Saving results in F:\\ar2breathing\\10_06_19...\n",
      "Saving csv poses!\n",
      "Starting to analyze %  F:\\ar2breathing\\10_06_19\\22-18-41video.mp4\n",
      "Loading  F:\\ar2breathing\\10_06_19\\22-18-41video.mp4\n",
      "Duration of video [s]:  1200.0 , recorded with  1.0 fps!\n",
      "Overall # of frames:  1200  found with (before cropping) frame dimensions:  1024 390\n",
      "Starting to extract posture\n"
     ]
    },
    {
     "name": "stderr",
     "output_type": "stream",
     "text": [
      "1212it [01:52,  9.93it/s]                                                                                              "
     ]
    },
    {
     "name": "stdout",
     "output_type": "stream",
     "text": [
      "Detected frames:  1200\n"
     ]
    },
    {
     "name": "stderr",
     "output_type": "stream",
     "text": [
      "\n"
     ]
    },
    {
     "name": "stdout",
     "output_type": "stream",
     "text": [
      "Saving results in F:\\ar2breathing\\10_06_19...\n",
      "Saving csv poses!\n",
      "Starting to analyze %  F:\\ar2breathing\\10_06_19\\22-19-29video.mp4\n",
      "Loading  F:\\ar2breathing\\10_06_19\\22-19-29video.mp4\n",
      "Duration of video [s]:  1200.0 , recorded with  1.0 fps!\n",
      "Overall # of frames:  1200  found with (before cropping) frame dimensions:  1024 390\n",
      "Starting to extract posture\n"
     ]
    },
    {
     "name": "stderr",
     "output_type": "stream",
     "text": [
      "1212it [01:51, 11.20it/s]                                                                                              "
     ]
    },
    {
     "name": "stdout",
     "output_type": "stream",
     "text": [
      "Detected frames:  1200\n"
     ]
    },
    {
     "name": "stderr",
     "output_type": "stream",
     "text": [
      "\n"
     ]
    },
    {
     "name": "stdout",
     "output_type": "stream",
     "text": [
      "Saving results in F:\\ar2breathing\\10_06_19...\n",
      "Saving csv poses!\n",
      "Starting to analyze %  F:\\ar2breathing\\10_06_19\\22-19-53video.mp4\n",
      "Loading  F:\\ar2breathing\\10_06_19\\22-19-53video.mp4\n",
      "Duration of video [s]:  1200.0 , recorded with  1.0 fps!\n",
      "Overall # of frames:  1200  found with (before cropping) frame dimensions:  1024 390\n",
      "Starting to extract posture\n"
     ]
    },
    {
     "name": "stderr",
     "output_type": "stream",
     "text": [
      "1212it [01:57, 10.16it/s]                                                                                              "
     ]
    },
    {
     "name": "stdout",
     "output_type": "stream",
     "text": [
      "Detected frames:  1200\n"
     ]
    },
    {
     "name": "stderr",
     "output_type": "stream",
     "text": [
      "\n"
     ]
    },
    {
     "name": "stdout",
     "output_type": "stream",
     "text": [
      "Saving results in F:\\ar2breathing\\10_06_19...\n",
      "Saving csv poses!\n",
      "Starting to analyze %  F:\\ar2breathing\\10_06_19\\22-20-17video.mp4\n",
      "Loading  F:\\ar2breathing\\10_06_19\\22-20-17video.mp4\n",
      "Duration of video [s]:  1200.0 , recorded with  1.0 fps!\n",
      "Overall # of frames:  1200  found with (before cropping) frame dimensions:  1024 390\n",
      "Starting to extract posture\n"
     ]
    },
    {
     "name": "stderr",
     "output_type": "stream",
     "text": [
      "1212it [02:02, 10.33it/s]                                                                                              "
     ]
    },
    {
     "name": "stdout",
     "output_type": "stream",
     "text": [
      "Detected frames:  1200\n"
     ]
    },
    {
     "name": "stderr",
     "output_type": "stream",
     "text": [
      "\n"
     ]
    },
    {
     "name": "stdout",
     "output_type": "stream",
     "text": [
      "Saving results in F:\\ar2breathing\\10_06_19...\n",
      "Saving csv poses!\n",
      "Starting to analyze %  F:\\ar2breathing\\10_06_19\\22-21-26video.mp4\n",
      "Loading  F:\\ar2breathing\\10_06_19\\22-21-26video.mp4\n",
      "Duration of video [s]:  1200.0 , recorded with  1.0 fps!\n",
      "Overall # of frames:  1200  found with (before cropping) frame dimensions:  1024 390\n",
      "Starting to extract posture\n"
     ]
    },
    {
     "name": "stderr",
     "output_type": "stream",
     "text": [
      "1212it [01:52, 10.76it/s]                                                                                              "
     ]
    },
    {
     "name": "stdout",
     "output_type": "stream",
     "text": [
      "Detected frames:  1200\n"
     ]
    },
    {
     "name": "stderr",
     "output_type": "stream",
     "text": [
      "\n"
     ]
    },
    {
     "name": "stdout",
     "output_type": "stream",
     "text": [
      "Saving results in F:\\ar2breathing\\10_06_19...\n",
      "Saving csv poses!\n",
      "Starting to analyze %  F:\\ar2breathing\\10_06_19\\22-21-51video.mp4\n",
      "Loading  F:\\ar2breathing\\10_06_19\\22-21-51video.mp4\n",
      "Duration of video [s]:  1200.0 , recorded with  1.0 fps!\n",
      "Overall # of frames:  1200  found with (before cropping) frame dimensions:  1024 390\n",
      "Starting to extract posture\n"
     ]
    },
    {
     "name": "stderr",
     "output_type": "stream",
     "text": [
      "1212it [01:53, 10.48it/s]                                                                                              "
     ]
    },
    {
     "name": "stdout",
     "output_type": "stream",
     "text": [
      "Detected frames:  1200\n"
     ]
    },
    {
     "name": "stderr",
     "output_type": "stream",
     "text": [
      "\n"
     ]
    },
    {
     "name": "stdout",
     "output_type": "stream",
     "text": [
      "Saving results in F:\\ar2breathing\\10_06_19...\n",
      "Saving csv poses!\n",
      "Starting to analyze %  F:\\ar2breathing\\10_06_19\\22-22-19video.mp4\n",
      "Loading  F:\\ar2breathing\\10_06_19\\22-22-19video.mp4\n",
      "Duration of video [s]:  1200.0 , recorded with  1.0 fps!\n",
      "Overall # of frames:  1200  found with (before cropping) frame dimensions:  1024 390\n",
      "Starting to extract posture\n"
     ]
    },
    {
     "name": "stderr",
     "output_type": "stream",
     "text": [
      "1212it [01:53, 10.65it/s]                                                                                              "
     ]
    },
    {
     "name": "stdout",
     "output_type": "stream",
     "text": [
      "Detected frames:  1200\n"
     ]
    },
    {
     "name": "stderr",
     "output_type": "stream",
     "text": [
      "\n"
     ]
    },
    {
     "name": "stdout",
     "output_type": "stream",
     "text": [
      "Saving results in F:\\ar2breathing\\10_06_19...\n",
      "Saving csv poses!\n",
      "Starting to analyze %  F:\\ar2breathing\\10_06_19\\22-22-48video.mp4\n",
      "Loading  F:\\ar2breathing\\10_06_19\\22-22-48video.mp4\n",
      "Duration of video [s]:  1200.0 , recorded with  1.0 fps!\n",
      "Overall # of frames:  1200  found with (before cropping) frame dimensions:  1024 390\n",
      "Starting to extract posture\n"
     ]
    },
    {
     "name": "stderr",
     "output_type": "stream",
     "text": [
      "1212it [01:53, 10.53it/s]                                                                                              "
     ]
    },
    {
     "name": "stdout",
     "output_type": "stream",
     "text": [
      "Detected frames:  1200\n"
     ]
    },
    {
     "name": "stderr",
     "output_type": "stream",
     "text": [
      "\n"
     ]
    },
    {
     "name": "stdout",
     "output_type": "stream",
     "text": [
      "Saving results in F:\\ar2breathing\\10_06_19...\n",
      "Saving csv poses!\n",
      "Starting to analyze %  F:\\ar2breathing\\10_06_19\\22-23-20video.mp4\n",
      "Loading  F:\\ar2breathing\\10_06_19\\22-23-20video.mp4\n",
      "Duration of video [s]:  1200.0 , recorded with  1.0 fps!\n",
      "Overall # of frames:  1200  found with (before cropping) frame dimensions:  1024 390\n",
      "Starting to extract posture\n"
     ]
    },
    {
     "name": "stderr",
     "output_type": "stream",
     "text": [
      "1212it [02:00,  9.95it/s]                                                                                              "
     ]
    },
    {
     "name": "stdout",
     "output_type": "stream",
     "text": [
      "Detected frames:  1200\n"
     ]
    },
    {
     "name": "stderr",
     "output_type": "stream",
     "text": [
      "\n"
     ]
    },
    {
     "name": "stdout",
     "output_type": "stream",
     "text": [
      "Saving results in F:\\ar2breathing\\10_06_19...\n",
      "Saving csv poses!\n",
      "Starting to analyze %  F:\\ar2breathing\\10_06_19\\22-23-48video.mp4\n",
      "Loading  F:\\ar2breathing\\10_06_19\\22-23-48video.mp4\n",
      "Duration of video [s]:  1200.0 , recorded with  1.0 fps!\n",
      "Overall # of frames:  1200  found with (before cropping) frame dimensions:  1024 390\n",
      "Starting to extract posture\n"
     ]
    },
    {
     "name": "stderr",
     "output_type": "stream",
     "text": [
      "1212it [01:52,  9.79it/s]                                                                                              "
     ]
    },
    {
     "name": "stdout",
     "output_type": "stream",
     "text": [
      "Detected frames:  1200\n"
     ]
    },
    {
     "name": "stderr",
     "output_type": "stream",
     "text": [
      "\n"
     ]
    },
    {
     "name": "stdout",
     "output_type": "stream",
     "text": [
      "Saving results in F:\\ar2breathing\\10_06_19...\n",
      "Saving csv poses!\n",
      "Starting to analyze %  F:\\ar2breathing\\10_06_19\\22-24-12video.mp4\n",
      "Loading  F:\\ar2breathing\\10_06_19\\22-24-12video.mp4\n",
      "Duration of video [s]:  1200.0 , recorded with  1.0 fps!\n",
      "Overall # of frames:  1200  found with (before cropping) frame dimensions:  1024 390\n",
      "Starting to extract posture\n"
     ]
    },
    {
     "name": "stderr",
     "output_type": "stream",
     "text": [
      "1212it [01:56, 10.27it/s]                                                                                              "
     ]
    },
    {
     "name": "stdout",
     "output_type": "stream",
     "text": [
      "Detected frames:  1200\n"
     ]
    },
    {
     "name": "stderr",
     "output_type": "stream",
     "text": [
      "\n"
     ]
    },
    {
     "name": "stdout",
     "output_type": "stream",
     "text": [
      "Saving results in F:\\ar2breathing\\10_06_19...\n",
      "Saving csv poses!\n",
      "Starting to analyze %  F:\\ar2breathing\\10_06_19\\22-24-40video.mp4\n",
      "Loading  F:\\ar2breathing\\10_06_19\\22-24-40video.mp4\n",
      "Duration of video [s]:  1200.0 , recorded with  1.0 fps!\n",
      "Overall # of frames:  1200  found with (before cropping) frame dimensions:  1024 390\n",
      "Starting to extract posture\n"
     ]
    },
    {
     "name": "stderr",
     "output_type": "stream",
     "text": [
      "1212it [01:58,  9.73it/s]                                                                                              "
     ]
    },
    {
     "name": "stdout",
     "output_type": "stream",
     "text": [
      "Detected frames:  1200\n"
     ]
    },
    {
     "name": "stderr",
     "output_type": "stream",
     "text": [
      "\n"
     ]
    },
    {
     "name": "stdout",
     "output_type": "stream",
     "text": [
      "Saving results in F:\\ar2breathing\\10_06_19...\n",
      "Saving csv poses!\n",
      "Starting to analyze %  F:\\ar2breathing\\10_06_19\\22-25-05video.mp4\n",
      "Loading  F:\\ar2breathing\\10_06_19\\22-25-05video.mp4\n",
      "Duration of video [s]:  1200.0 , recorded with  1.0 fps!\n",
      "Overall # of frames:  1200  found with (before cropping) frame dimensions:  1024 390\n",
      "Starting to extract posture\n"
     ]
    },
    {
     "name": "stderr",
     "output_type": "stream",
     "text": [
      "1212it [01:55, 10.79it/s]                                                                                              "
     ]
    },
    {
     "name": "stdout",
     "output_type": "stream",
     "text": [
      "Detected frames:  1200\n"
     ]
    },
    {
     "name": "stderr",
     "output_type": "stream",
     "text": [
      "\n"
     ]
    },
    {
     "name": "stdout",
     "output_type": "stream",
     "text": [
      "Saving results in F:\\ar2breathing\\10_06_19...\n",
      "Saving csv poses!\n",
      "Starting to analyze %  F:\\ar2breathing\\10_06_19\\22-26-57video.mp4\n",
      "Loading  F:\\ar2breathing\\10_06_19\\22-26-57video.mp4\n",
      "Duration of video [s]:  1200.0 , recorded with  1.0 fps!\n",
      "Overall # of frames:  1200  found with (before cropping) frame dimensions:  1024 390\n",
      "Starting to extract posture\n"
     ]
    },
    {
     "name": "stderr",
     "output_type": "stream",
     "text": [
      "1212it [01:59, 11.73it/s]                                                                                              "
     ]
    },
    {
     "name": "stdout",
     "output_type": "stream",
     "text": [
      "Detected frames:  1200\n"
     ]
    },
    {
     "name": "stderr",
     "output_type": "stream",
     "text": [
      "\n"
     ]
    },
    {
     "name": "stdout",
     "output_type": "stream",
     "text": [
      "Saving results in F:\\ar2breathing\\10_06_19...\n",
      "Saving csv poses!\n",
      "Starting to analyze %  F:\\ar2breathing\\10_06_19\\22-29-39video.mp4\n",
      "Loading  F:\\ar2breathing\\10_06_19\\22-29-39video.mp4\n",
      "Duration of video [s]:  1200.0 , recorded with  1.0 fps!\n",
      "Overall # of frames:  1200  found with (before cropping) frame dimensions:  1024 390\n",
      "Starting to extract posture\n"
     ]
    },
    {
     "name": "stderr",
     "output_type": "stream",
     "text": [
      "1212it [01:52, 10.49it/s]                                                                                              "
     ]
    },
    {
     "name": "stdout",
     "output_type": "stream",
     "text": [
      "Detected frames:  1200\n"
     ]
    },
    {
     "name": "stderr",
     "output_type": "stream",
     "text": [
      "\n"
     ]
    },
    {
     "name": "stdout",
     "output_type": "stream",
     "text": [
      "Saving results in F:\\ar2breathing\\10_06_19...\n",
      "Saving csv poses!\n",
      "Starting to analyze %  F:\\ar2breathing\\10_06_19\\22-30-06video.mp4\n",
      "Loading  F:\\ar2breathing\\10_06_19\\22-30-06video.mp4\n",
      "Duration of video [s]:  1200.0 , recorded with  1.0 fps!\n",
      "Overall # of frames:  1200  found with (before cropping) frame dimensions:  1024 390\n",
      "Starting to extract posture\n"
     ]
    },
    {
     "name": "stderr",
     "output_type": "stream",
     "text": [
      "1212it [01:55,  9.16it/s]                                                                                              "
     ]
    },
    {
     "name": "stdout",
     "output_type": "stream",
     "text": [
      "Detected frames:  1200\n"
     ]
    },
    {
     "name": "stderr",
     "output_type": "stream",
     "text": [
      "\n"
     ]
    },
    {
     "name": "stdout",
     "output_type": "stream",
     "text": [
      "Saving results in F:\\ar2breathing\\10_06_19...\n",
      "Saving csv poses!\n",
      "Starting to analyze %  F:\\ar2breathing\\10_06_19\\22-30-29video.mp4\n",
      "Loading  F:\\ar2breathing\\10_06_19\\22-30-29video.mp4\n",
      "Duration of video [s]:  1200.0 , recorded with  1.0 fps!\n",
      "Overall # of frames:  1200  found with (before cropping) frame dimensions:  1024 390\n",
      "Starting to extract posture\n"
     ]
    },
    {
     "name": "stderr",
     "output_type": "stream",
     "text": [
      "1212it [01:49, 10.91it/s]                                                                                              "
     ]
    },
    {
     "name": "stdout",
     "output_type": "stream",
     "text": [
      "Detected frames:  1200\n"
     ]
    },
    {
     "name": "stderr",
     "output_type": "stream",
     "text": [
      "\n"
     ]
    },
    {
     "name": "stdout",
     "output_type": "stream",
     "text": [
      "Saving results in F:\\ar2breathing\\10_06_19...\n",
      "Saving csv poses!\n",
      "Starting to analyze %  F:\\ar2breathing\\10_06_19\\22-30-53video.mp4\n",
      "Loading  F:\\ar2breathing\\10_06_19\\22-30-53video.mp4\n",
      "Duration of video [s]:  1200.0 , recorded with  1.0 fps!\n",
      "Overall # of frames:  1200  found with (before cropping) frame dimensions:  1024 390\n",
      "Starting to extract posture\n"
     ]
    },
    {
     "name": "stderr",
     "output_type": "stream",
     "text": [
      "1212it [01:53, 11.33it/s]                                                                                              "
     ]
    },
    {
     "name": "stdout",
     "output_type": "stream",
     "text": [
      "Detected frames:  1200\n"
     ]
    },
    {
     "name": "stderr",
     "output_type": "stream",
     "text": [
      "\n"
     ]
    },
    {
     "name": "stdout",
     "output_type": "stream",
     "text": [
      "Saving results in F:\\ar2breathing\\10_06_19...\n",
      "Saving csv poses!\n",
      "Starting to analyze %  F:\\ar2breathing\\10_06_19\\22-31-16video.mp4\n",
      "Loading  F:\\ar2breathing\\10_06_19\\22-31-16video.mp4\n",
      "Duration of video [s]:  1200.0 , recorded with  1.0 fps!\n",
      "Overall # of frames:  1200  found with (before cropping) frame dimensions:  1024 390\n",
      "Starting to extract posture\n"
     ]
    },
    {
     "name": "stderr",
     "output_type": "stream",
     "text": [
      "1212it [01:58, 10.82it/s]                                                                                              "
     ]
    },
    {
     "name": "stdout",
     "output_type": "stream",
     "text": [
      "Detected frames:  1200\n"
     ]
    },
    {
     "name": "stderr",
     "output_type": "stream",
     "text": [
      "\n"
     ]
    },
    {
     "name": "stdout",
     "output_type": "stream",
     "text": [
      "Saving results in F:\\ar2breathing\\10_06_19...\n",
      "Saving csv poses!\n",
      "Starting to analyze %  F:\\ar2breathing\\10_06_19\\22-31-43video.mp4\n",
      "Loading  F:\\ar2breathing\\10_06_19\\22-31-43video.mp4\n",
      "Duration of video [s]:  1200.0 , recorded with  1.0 fps!\n",
      "Overall # of frames:  1200  found with (before cropping) frame dimensions:  1024 390\n",
      "Starting to extract posture\n"
     ]
    },
    {
     "name": "stderr",
     "output_type": "stream",
     "text": [
      "1212it [01:55,  9.64it/s]                                                                                              "
     ]
    },
    {
     "name": "stdout",
     "output_type": "stream",
     "text": [
      "Detected frames:  1200\n"
     ]
    },
    {
     "name": "stderr",
     "output_type": "stream",
     "text": [
      "\n"
     ]
    },
    {
     "name": "stdout",
     "output_type": "stream",
     "text": [
      "Saving results in F:\\ar2breathing\\10_06_19...\n",
      "Saving csv poses!\n",
      "Starting to analyze %  F:\\ar2breathing\\10_06_19\\22-32-06video.mp4\n",
      "Loading  F:\\ar2breathing\\10_06_19\\22-32-06video.mp4\n",
      "Duration of video [s]:  1200.0 , recorded with  1.0 fps!\n",
      "Overall # of frames:  1200  found with (before cropping) frame dimensions:  1024 390\n",
      "Starting to extract posture\n"
     ]
    },
    {
     "name": "stderr",
     "output_type": "stream",
     "text": [
      "1212it [01:50, 11.72it/s]                                                                                              "
     ]
    },
    {
     "name": "stdout",
     "output_type": "stream",
     "text": [
      "Detected frames:  1200\n"
     ]
    },
    {
     "name": "stderr",
     "output_type": "stream",
     "text": [
      "\n"
     ]
    },
    {
     "name": "stdout",
     "output_type": "stream",
     "text": [
      "Saving results in F:\\ar2breathing\\10_06_19...\n",
      "Saving csv poses!\n",
      "Starting to analyze %  F:\\ar2breathing\\10_06_19\\22-32-30video.mp4\n",
      "Loading  F:\\ar2breathing\\10_06_19\\22-32-30video.mp4\n",
      "Duration of video [s]:  1200.0 , recorded with  1.0 fps!\n",
      "Overall # of frames:  1200  found with (before cropping) frame dimensions:  1024 390\n",
      "Starting to extract posture\n"
     ]
    },
    {
     "name": "stderr",
     "output_type": "stream",
     "text": [
      "1212it [01:45, 10.89it/s]                                                                                              "
     ]
    },
    {
     "name": "stdout",
     "output_type": "stream",
     "text": [
      "Detected frames:  1200\n"
     ]
    },
    {
     "name": "stderr",
     "output_type": "stream",
     "text": [
      "\n"
     ]
    },
    {
     "name": "stdout",
     "output_type": "stream",
     "text": [
      "Saving results in F:\\ar2breathing\\10_06_19...\n",
      "Saving csv poses!\n",
      "Starting to analyze %  F:\\ar2breathing\\10_06_19\\22-32-53video.mp4\n",
      "Loading  F:\\ar2breathing\\10_06_19\\22-32-53video.mp4\n",
      "Duration of video [s]:  1200.0 , recorded with  1.0 fps!\n",
      "Overall # of frames:  1200  found with (before cropping) frame dimensions:  1024 390\n",
      "Starting to extract posture\n"
     ]
    },
    {
     "name": "stderr",
     "output_type": "stream",
     "text": [
      "1212it [01:54, 10.72it/s]                                                                                              "
     ]
    },
    {
     "name": "stdout",
     "output_type": "stream",
     "text": [
      "Detected frames:  1200\n"
     ]
    },
    {
     "name": "stderr",
     "output_type": "stream",
     "text": [
      "\n"
     ]
    },
    {
     "name": "stdout",
     "output_type": "stream",
     "text": [
      "Saving results in F:\\ar2breathing\\10_06_19...\n",
      "Saving csv poses!\n",
      "Starting to analyze %  F:\\ar2breathing\\10_06_19\\22-33-16video.mp4\n",
      "Loading  F:\\ar2breathing\\10_06_19\\22-33-16video.mp4\n",
      "Duration of video [s]:  1200.0 , recorded with  1.0 fps!\n",
      "Overall # of frames:  1200  found with (before cropping) frame dimensions:  1024 390\n",
      "Starting to extract posture\n"
     ]
    },
    {
     "name": "stderr",
     "output_type": "stream",
     "text": [
      "1212it [01:50, 10.69it/s]                                                                                              "
     ]
    },
    {
     "name": "stdout",
     "output_type": "stream",
     "text": [
      "Detected frames:  1200\n"
     ]
    },
    {
     "name": "stderr",
     "output_type": "stream",
     "text": [
      "\n"
     ]
    },
    {
     "name": "stdout",
     "output_type": "stream",
     "text": [
      "Saving results in F:\\ar2breathing\\10_06_19...\n",
      "Saving csv poses!\n",
      "Starting to analyze %  F:\\ar2breathing\\10_06_19\\22-33-40video.mp4\n",
      "Loading  F:\\ar2breathing\\10_06_19\\22-33-40video.mp4\n",
      "Duration of video [s]:  1200.0 , recorded with  1.0 fps!\n",
      "Overall # of frames:  1200  found with (before cropping) frame dimensions:  1024 390\n",
      "Starting to extract posture\n"
     ]
    },
    {
     "name": "stderr",
     "output_type": "stream",
     "text": [
      "1212it [01:50, 10.73it/s]                                                                                              "
     ]
    },
    {
     "name": "stdout",
     "output_type": "stream",
     "text": [
      "Detected frames:  1200\n"
     ]
    },
    {
     "name": "stderr",
     "output_type": "stream",
     "text": [
      "\n"
     ]
    },
    {
     "name": "stdout",
     "output_type": "stream",
     "text": [
      "Saving results in F:\\ar2breathing\\10_06_19...\n",
      "Saving csv poses!\n",
      "Starting to analyze %  F:\\ar2breathing\\10_06_19\\22-34-03video.mp4\n",
      "Loading  F:\\ar2breathing\\10_06_19\\22-34-03video.mp4\n",
      "Duration of video [s]:  1200.0 , recorded with  1.0 fps!\n",
      "Overall # of frames:  1200  found with (before cropping) frame dimensions:  1024 390\n",
      "Starting to extract posture\n"
     ]
    },
    {
     "name": "stderr",
     "output_type": "stream",
     "text": [
      "1212it [01:50, 10.80it/s]                                                                                              "
     ]
    },
    {
     "name": "stdout",
     "output_type": "stream",
     "text": [
      "Detected frames:  1200\n"
     ]
    },
    {
     "name": "stderr",
     "output_type": "stream",
     "text": [
      "\n"
     ]
    },
    {
     "name": "stdout",
     "output_type": "stream",
     "text": [
      "Saving results in F:\\ar2breathing\\10_06_19...\n",
      "Saving csv poses!\n",
      "Starting to analyze %  F:\\ar2breathing\\10_06_19\\22-34-26video.mp4\n",
      "Loading  F:\\ar2breathing\\10_06_19\\22-34-26video.mp4\n",
      "Duration of video [s]:  1200.0 , recorded with  1.0 fps!\n",
      "Overall # of frames:  1200  found with (before cropping) frame dimensions:  1024 390\n",
      "Starting to extract posture\n"
     ]
    },
    {
     "name": "stderr",
     "output_type": "stream",
     "text": [
      "1212it [01:50, 10.84it/s]                                                                                              "
     ]
    },
    {
     "name": "stdout",
     "output_type": "stream",
     "text": [
      "Detected frames:  1200\n"
     ]
    },
    {
     "name": "stderr",
     "output_type": "stream",
     "text": [
      "\n"
     ]
    },
    {
     "name": "stdout",
     "output_type": "stream",
     "text": [
      "Saving results in F:\\ar2breathing\\10_06_19...\n",
      "Saving csv poses!\n",
      "Starting to analyze %  F:\\ar2breathing\\10_06_19\\22-34-49video.mp4\n",
      "Loading  F:\\ar2breathing\\10_06_19\\22-34-49video.mp4\n",
      "Duration of video [s]:  1200.0 , recorded with  1.0 fps!\n",
      "Overall # of frames:  1200  found with (before cropping) frame dimensions:  1024 390\n",
      "Starting to extract posture\n"
     ]
    },
    {
     "name": "stderr",
     "output_type": "stream",
     "text": [
      "1212it [01:55,  9.86it/s]                                                                                              "
     ]
    },
    {
     "name": "stdout",
     "output_type": "stream",
     "text": [
      "Detected frames:  1200\n"
     ]
    },
    {
     "name": "stderr",
     "output_type": "stream",
     "text": [
      "\n"
     ]
    },
    {
     "name": "stdout",
     "output_type": "stream",
     "text": [
      "Saving results in F:\\ar2breathing\\10_06_19...\n",
      "Saving csv poses!\n",
      "Starting to analyze %  F:\\ar2breathing\\10_06_19\\22-35-18video.mp4\n",
      "Loading  F:\\ar2breathing\\10_06_19\\22-35-18video.mp4\n",
      "Duration of video [s]:  1200.0 , recorded with  1.0 fps!\n",
      "Overall # of frames:  1200  found with (before cropping) frame dimensions:  1024 390\n",
      "Starting to extract posture\n"
     ]
    },
    {
     "name": "stderr",
     "output_type": "stream",
     "text": [
      "1212it [01:54,  9.47it/s]                                                                                              "
     ]
    },
    {
     "name": "stdout",
     "output_type": "stream",
     "text": [
      "Detected frames:  1200\n"
     ]
    },
    {
     "name": "stderr",
     "output_type": "stream",
     "text": [
      "\n"
     ]
    },
    {
     "name": "stdout",
     "output_type": "stream",
     "text": [
      "Saving results in F:\\ar2breathing\\10_06_19...\n",
      "Saving csv poses!\n",
      "Starting to analyze %  F:\\ar2breathing\\10_06_19\\22-35-43video.mp4\n",
      "Loading  F:\\ar2breathing\\10_06_19\\22-35-43video.mp4\n",
      "Duration of video [s]:  1200.0 , recorded with  1.0 fps!\n",
      "Overall # of frames:  1200  found with (before cropping) frame dimensions:  1024 390\n",
      "Starting to extract posture\n"
     ]
    },
    {
     "name": "stderr",
     "output_type": "stream",
     "text": [
      "1212it [01:56, 10.31it/s]                                                                                              "
     ]
    },
    {
     "name": "stdout",
     "output_type": "stream",
     "text": [
      "Detected frames:  1200\n"
     ]
    },
    {
     "name": "stderr",
     "output_type": "stream",
     "text": [
      "\n"
     ]
    },
    {
     "name": "stdout",
     "output_type": "stream",
     "text": [
      "Saving results in F:\\ar2breathing\\10_06_19...\n",
      "Saving csv poses!\n",
      "Starting to analyze %  F:\\ar2breathing\\10_06_19\\22-36-08video.mp4\n",
      "Loading  F:\\ar2breathing\\10_06_19\\22-36-08video.mp4\n",
      "Duration of video [s]:  1200.0 , recorded with  1.0 fps!\n",
      "Overall # of frames:  1200  found with (before cropping) frame dimensions:  1024 390\n",
      "Starting to extract posture\n"
     ]
    },
    {
     "name": "stderr",
     "output_type": "stream",
     "text": [
      "1212it [01:40, 10.81it/s]                                                                                              "
     ]
    },
    {
     "name": "stdout",
     "output_type": "stream",
     "text": [
      "Detected frames:  1200\n"
     ]
    },
    {
     "name": "stderr",
     "output_type": "stream",
     "text": [
      "\n"
     ]
    },
    {
     "name": "stdout",
     "output_type": "stream",
     "text": [
      "Saving results in F:\\ar2breathing\\10_06_19...\n",
      "Saving csv poses!\n",
      "Starting to analyze %  F:\\ar2breathing\\10_06_19\\22-36-32video.mp4\n",
      "Loading  F:\\ar2breathing\\10_06_19\\22-36-32video.mp4\n",
      "Duration of video [s]:  1200.0 , recorded with  1.0 fps!\n",
      "Overall # of frames:  1200  found with (before cropping) frame dimensions:  1024 390\n",
      "Starting to extract posture\n"
     ]
    },
    {
     "name": "stderr",
     "output_type": "stream",
     "text": [
      "1212it [01:56, 10.23it/s]                                                                                              "
     ]
    },
    {
     "name": "stdout",
     "output_type": "stream",
     "text": [
      "Detected frames:  1200\n"
     ]
    },
    {
     "name": "stderr",
     "output_type": "stream",
     "text": [
      "\n"
     ]
    },
    {
     "name": "stdout",
     "output_type": "stream",
     "text": [
      "Saving results in F:\\ar2breathing\\10_06_19...\n",
      "Saving csv poses!\n",
      "Starting to analyze %  F:\\ar2breathing\\10_06_19\\22-36-56video.mp4\n",
      "Loading  F:\\ar2breathing\\10_06_19\\22-36-56video.mp4\n",
      "Duration of video [s]:  1200.0 , recorded with  1.0 fps!\n",
      "Overall # of frames:  1200  found with (before cropping) frame dimensions:  1024 390\n",
      "Starting to extract posture\n"
     ]
    },
    {
     "name": "stderr",
     "output_type": "stream",
     "text": [
      "1212it [01:49, 11.62it/s]                                                                                              "
     ]
    },
    {
     "name": "stdout",
     "output_type": "stream",
     "text": [
      "Detected frames:  1200\n"
     ]
    },
    {
     "name": "stderr",
     "output_type": "stream",
     "text": [
      "\n"
     ]
    },
    {
     "name": "stdout",
     "output_type": "stream",
     "text": [
      "Saving results in F:\\ar2breathing\\10_06_19...\n",
      "Saving csv poses!\n",
      "Starting to analyze %  F:\\ar2breathing\\10_06_19\\22-37-19video.mp4\n",
      "Loading  F:\\ar2breathing\\10_06_19\\22-37-19video.mp4\n",
      "Duration of video [s]:  1200.0 , recorded with  1.0 fps!\n",
      "Overall # of frames:  1200  found with (before cropping) frame dimensions:  1024 390\n",
      "Starting to extract posture\n"
     ]
    },
    {
     "name": "stderr",
     "output_type": "stream",
     "text": [
      "1212it [01:54, 10.34it/s]                                                                                              "
     ]
    },
    {
     "name": "stdout",
     "output_type": "stream",
     "text": [
      "Detected frames:  1200\n"
     ]
    },
    {
     "name": "stderr",
     "output_type": "stream",
     "text": [
      "\n"
     ]
    },
    {
     "name": "stdout",
     "output_type": "stream",
     "text": [
      "Saving results in F:\\ar2breathing\\10_06_19...\n",
      "Saving csv poses!\n",
      "Starting to analyze %  F:\\ar2breathing\\10_06_19\\22-37-42video.mp4\n",
      "Loading  F:\\ar2breathing\\10_06_19\\22-37-42video.mp4\n",
      "Duration of video [s]:  1200.0 , recorded with  1.0 fps!\n",
      "Overall # of frames:  1200  found with (before cropping) frame dimensions:  1024 390\n",
      "Starting to extract posture\n"
     ]
    },
    {
     "name": "stderr",
     "output_type": "stream",
     "text": [
      "1212it [01:55, 10.32it/s]                                                                                              "
     ]
    },
    {
     "name": "stdout",
     "output_type": "stream",
     "text": [
      "Detected frames:  1200\n"
     ]
    },
    {
     "name": "stderr",
     "output_type": "stream",
     "text": [
      "\n"
     ]
    },
    {
     "name": "stdout",
     "output_type": "stream",
     "text": [
      "Saving results in F:\\ar2breathing\\10_06_19...\n",
      "Saving csv poses!\n",
      "Starting to analyze %  F:\\ar2breathing\\10_06_19\\22-38-05video.mp4\n",
      "Loading  F:\\ar2breathing\\10_06_19\\22-38-05video.mp4\n",
      "Duration of video [s]:  1200.0 , recorded with  1.0 fps!\n",
      "Overall # of frames:  1200  found with (before cropping) frame dimensions:  1024 390\n",
      "Starting to extract posture\n"
     ]
    },
    {
     "name": "stderr",
     "output_type": "stream",
     "text": [
      "1212it [01:49, 11.64it/s]                                                                                              "
     ]
    },
    {
     "name": "stdout",
     "output_type": "stream",
     "text": [
      "Detected frames:  1200\n"
     ]
    },
    {
     "name": "stderr",
     "output_type": "stream",
     "text": [
      "\n"
     ]
    },
    {
     "name": "stdout",
     "output_type": "stream",
     "text": [
      "Saving results in F:\\ar2breathing\\10_06_19...\n",
      "Saving csv poses!\n",
      "Starting to analyze %  F:\\ar2breathing\\10_06_19\\22-38-30video.mp4\n",
      "Loading  F:\\ar2breathing\\10_06_19\\22-38-30video.mp4\n",
      "Duration of video [s]:  1200.0 , recorded with  1.0 fps!\n",
      "Overall # of frames:  1200  found with (before cropping) frame dimensions:  1024 390\n",
      "Starting to extract posture\n"
     ]
    },
    {
     "name": "stderr",
     "output_type": "stream",
     "text": [
      "1212it [01:53, 10.51it/s]                                                                                              "
     ]
    },
    {
     "name": "stdout",
     "output_type": "stream",
     "text": [
      "Detected frames:  1200\n"
     ]
    },
    {
     "name": "stderr",
     "output_type": "stream",
     "text": [
      "\n"
     ]
    },
    {
     "name": "stdout",
     "output_type": "stream",
     "text": [
      "Saving results in F:\\ar2breathing\\10_06_19...\n",
      "Saving csv poses!\n",
      "Starting to analyze %  F:\\ar2breathing\\10_06_19\\22-38-53video.mp4\n",
      "Loading  F:\\ar2breathing\\10_06_19\\22-38-53video.mp4\n",
      "Duration of video [s]:  1200.0 , recorded with  1.0 fps!\n",
      "Overall # of frames:  1200  found with (before cropping) frame dimensions:  1024 390\n",
      "Starting to extract posture\n"
     ]
    },
    {
     "name": "stderr",
     "output_type": "stream",
     "text": [
      "1212it [01:49, 10.33it/s]                                                                                              "
     ]
    },
    {
     "name": "stdout",
     "output_type": "stream",
     "text": [
      "Detected frames:  1200\n"
     ]
    },
    {
     "name": "stderr",
     "output_type": "stream",
     "text": [
      "\n"
     ]
    },
    {
     "name": "stdout",
     "output_type": "stream",
     "text": [
      "Saving results in F:\\ar2breathing\\10_06_19...\n",
      "Saving csv poses!\n",
      "Starting to analyze %  F:\\ar2breathing\\10_06_19\\22-39-17video.mp4\n",
      "Loading  F:\\ar2breathing\\10_06_19\\22-39-17video.mp4\n",
      "Duration of video [s]:  1200.0 , recorded with  1.0 fps!\n",
      "Overall # of frames:  1200  found with (before cropping) frame dimensions:  1024 390\n",
      "Starting to extract posture\n"
     ]
    },
    {
     "name": "stderr",
     "output_type": "stream",
     "text": [
      "1212it [01:56,  9.90it/s]                                                                                              "
     ]
    },
    {
     "name": "stdout",
     "output_type": "stream",
     "text": [
      "Detected frames:  1200\n"
     ]
    },
    {
     "name": "stderr",
     "output_type": "stream",
     "text": [
      "\n"
     ]
    },
    {
     "name": "stdout",
     "output_type": "stream",
     "text": [
      "Saving results in F:\\ar2breathing\\10_06_19...\n",
      "Saving csv poses!\n",
      "Starting to analyze %  F:\\ar2breathing\\10_06_19\\22-39-41video.mp4\n",
      "Loading  F:\\ar2breathing\\10_06_19\\22-39-41video.mp4\n",
      "Duration of video [s]:  1200.0 , recorded with  1.0 fps!\n",
      "Overall # of frames:  1200  found with (before cropping) frame dimensions:  1024 390\n",
      "Starting to extract posture\n"
     ]
    },
    {
     "name": "stderr",
     "output_type": "stream",
     "text": [
      "1212it [01:54, 11.44it/s]                                                                                              "
     ]
    },
    {
     "name": "stdout",
     "output_type": "stream",
     "text": [
      "Detected frames:  1200\n"
     ]
    },
    {
     "name": "stderr",
     "output_type": "stream",
     "text": [
      "\n"
     ]
    },
    {
     "name": "stdout",
     "output_type": "stream",
     "text": [
      "Saving results in F:\\ar2breathing\\10_06_19...\n",
      "Saving csv poses!\n",
      "Starting to analyze %  F:\\ar2breathing\\10_06_19\\22-40-31video.mp4\n",
      "Loading  F:\\ar2breathing\\10_06_19\\22-40-31video.mp4\n",
      "Duration of video [s]:  1200.0 , recorded with  1.0 fps!\n",
      "Overall # of frames:  1200  found with (before cropping) frame dimensions:  1024 390\n",
      "Starting to extract posture\n"
     ]
    },
    {
     "name": "stderr",
     "output_type": "stream",
     "text": [
      "1212it [01:52, 10.72it/s]                                                                                              "
     ]
    },
    {
     "name": "stdout",
     "output_type": "stream",
     "text": [
      "Detected frames:  1200\n"
     ]
    },
    {
     "name": "stderr",
     "output_type": "stream",
     "text": [
      "\n"
     ]
    },
    {
     "name": "stdout",
     "output_type": "stream",
     "text": [
      "Saving results in F:\\ar2breathing\\10_06_19...\n",
      "Saving csv poses!\n",
      "Starting to analyze %  F:\\ar2breathing\\10_06_19\\22-40-58video.mp4\n",
      "Loading  F:\\ar2breathing\\10_06_19\\22-40-58video.mp4\n",
      "Duration of video [s]:  1200.0 , recorded with  1.0 fps!\n",
      "Overall # of frames:  1200  found with (before cropping) frame dimensions:  1024 390\n",
      "Starting to extract posture\n"
     ]
    },
    {
     "name": "stderr",
     "output_type": "stream",
     "text": [
      "1212it [01:47, 11.64it/s]                                                                                              "
     ]
    },
    {
     "name": "stdout",
     "output_type": "stream",
     "text": [
      "Detected frames:  1200\n"
     ]
    },
    {
     "name": "stderr",
     "output_type": "stream",
     "text": [
      "\n"
     ]
    },
    {
     "name": "stdout",
     "output_type": "stream",
     "text": [
      "Saving results in F:\\ar2breathing\\10_06_19...\n",
      "Saving csv poses!\n",
      "Starting to analyze %  F:\\ar2breathing\\10_06_19\\22-41-24video.mp4\n",
      "Loading  F:\\ar2breathing\\10_06_19\\22-41-24video.mp4\n",
      "Duration of video [s]:  1200.0 , recorded with  1.0 fps!\n",
      "Overall # of frames:  1200  found with (before cropping) frame dimensions:  1024 390\n",
      "Starting to extract posture\n"
     ]
    },
    {
     "name": "stderr",
     "output_type": "stream",
     "text": [
      "1212it [01:52, 10.37it/s]                                                                                              "
     ]
    },
    {
     "name": "stdout",
     "output_type": "stream",
     "text": [
      "Detected frames:  1200\n"
     ]
    },
    {
     "name": "stderr",
     "output_type": "stream",
     "text": [
      "\n"
     ]
    },
    {
     "name": "stdout",
     "output_type": "stream",
     "text": [
      "Saving results in F:\\ar2breathing\\10_06_19...\n",
      "Saving csv poses!\n",
      "Starting to analyze %  F:\\ar2breathing\\10_06_19\\22-41-49video.mp4\n",
      "Loading  F:\\ar2breathing\\10_06_19\\22-41-49video.mp4\n",
      "Duration of video [s]:  1200.0 , recorded with  1.0 fps!\n",
      "Overall # of frames:  1200  found with (before cropping) frame dimensions:  1024 390\n",
      "Starting to extract posture\n"
     ]
    },
    {
     "name": "stderr",
     "output_type": "stream",
     "text": [
      "1212it [01:53, 10.59it/s]                                                                                              "
     ]
    },
    {
     "name": "stdout",
     "output_type": "stream",
     "text": [
      "Detected frames:  1200\n"
     ]
    },
    {
     "name": "stderr",
     "output_type": "stream",
     "text": [
      "\n"
     ]
    },
    {
     "name": "stdout",
     "output_type": "stream",
     "text": [
      "Saving results in F:\\ar2breathing\\10_06_19...\n",
      "Saving csv poses!\n",
      "Starting to analyze %  F:\\ar2breathing\\10_06_19\\22-42-15video.mp4\n",
      "Loading  F:\\ar2breathing\\10_06_19\\22-42-15video.mp4\n",
      "Duration of video [s]:  1200.0 , recorded with  1.0 fps!\n",
      "Overall # of frames:  1200  found with (before cropping) frame dimensions:  1024 390\n",
      "Starting to extract posture\n"
     ]
    },
    {
     "name": "stderr",
     "output_type": "stream",
     "text": [
      "1212it [01:52, 12.18it/s]                                                                                              "
     ]
    },
    {
     "name": "stdout",
     "output_type": "stream",
     "text": [
      "Detected frames:  1200\n"
     ]
    },
    {
     "name": "stderr",
     "output_type": "stream",
     "text": [
      "\n"
     ]
    },
    {
     "name": "stdout",
     "output_type": "stream",
     "text": [
      "Saving results in F:\\ar2breathing\\10_06_19...\n",
      "Saving csv poses!\n",
      "Starting to analyze %  F:\\ar2breathing\\10_06_19\\22-42-41video.mp4\n",
      "Loading  F:\\ar2breathing\\10_06_19\\22-42-41video.mp4\n",
      "Duration of video [s]:  1200.0 , recorded with  1.0 fps!\n",
      "Overall # of frames:  1200  found with (before cropping) frame dimensions:  1024 390\n",
      "Starting to extract posture\n"
     ]
    },
    {
     "name": "stderr",
     "output_type": "stream",
     "text": [
      "1212it [01:50, 10.33it/s]                                                                                              "
     ]
    },
    {
     "name": "stdout",
     "output_type": "stream",
     "text": [
      "Detected frames:  1200\n"
     ]
    },
    {
     "name": "stderr",
     "output_type": "stream",
     "text": [
      "\n"
     ]
    },
    {
     "name": "stdout",
     "output_type": "stream",
     "text": [
      "Saving results in F:\\ar2breathing\\10_06_19...\n",
      "Saving csv poses!\n",
      "Starting to analyze %  F:\\ar2breathing\\10_06_19\\22-43-04video.mp4\n",
      "Loading  F:\\ar2breathing\\10_06_19\\22-43-04video.mp4\n",
      "Duration of video [s]:  1200.0 , recorded with  1.0 fps!\n",
      "Overall # of frames:  1200  found with (before cropping) frame dimensions:  1024 390\n",
      "Starting to extract posture\n"
     ]
    },
    {
     "name": "stderr",
     "output_type": "stream",
     "text": [
      "1212it [01:53, 10.70it/s]                                                                                              "
     ]
    },
    {
     "name": "stdout",
     "output_type": "stream",
     "text": [
      "Detected frames:  1200\n"
     ]
    },
    {
     "name": "stderr",
     "output_type": "stream",
     "text": [
      "\n"
     ]
    },
    {
     "name": "stdout",
     "output_type": "stream",
     "text": [
      "Saving results in F:\\ar2breathing\\10_06_19...\n",
      "Saving csv poses!\n",
      "Starting to analyze %  F:\\ar2breathing\\10_06_19\\22-43-27video.mp4\n",
      "Loading  F:\\ar2breathing\\10_06_19\\22-43-27video.mp4\n",
      "Duration of video [s]:  1200.0 , recorded with  1.0 fps!\n",
      "Overall # of frames:  1200  found with (before cropping) frame dimensions:  1024 390\n",
      "Starting to extract posture\n"
     ]
    },
    {
     "name": "stderr",
     "output_type": "stream",
     "text": [
      "1212it [01:50, 11.33it/s]                                                                                              "
     ]
    },
    {
     "name": "stdout",
     "output_type": "stream",
     "text": [
      "Detected frames:  1200\n"
     ]
    },
    {
     "name": "stderr",
     "output_type": "stream",
     "text": [
      "\n"
     ]
    },
    {
     "name": "stdout",
     "output_type": "stream",
     "text": [
      "Saving results in F:\\ar2breathing\\10_06_19...\n",
      "Saving csv poses!\n",
      "Starting to analyze %  F:\\ar2breathing\\10_06_19\\22-43-51video.mp4\n",
      "Loading  F:\\ar2breathing\\10_06_19\\22-43-51video.mp4\n",
      "Duration of video [s]:  1200.0 , recorded with  1.0 fps!\n",
      "Overall # of frames:  1200  found with (before cropping) frame dimensions:  1024 390\n",
      "Starting to extract posture\n"
     ]
    },
    {
     "name": "stderr",
     "output_type": "stream",
     "text": [
      "1212it [01:51, 10.82it/s]                                                                                              "
     ]
    },
    {
     "name": "stdout",
     "output_type": "stream",
     "text": [
      "Detected frames:  1200\n"
     ]
    },
    {
     "name": "stderr",
     "output_type": "stream",
     "text": [
      "\n"
     ]
    },
    {
     "name": "stdout",
     "output_type": "stream",
     "text": [
      "Saving results in F:\\ar2breathing\\10_06_19...\n",
      "Saving csv poses!\n",
      "Starting to analyze %  F:\\ar2breathing\\10_06_19\\22-44-16video.mp4\n",
      "Loading  F:\\ar2breathing\\10_06_19\\22-44-16video.mp4\n",
      "Duration of video [s]:  1200.0 , recorded with  1.0 fps!\n",
      "Overall # of frames:  1200  found with (before cropping) frame dimensions:  1024 390\n",
      "Starting to extract posture\n"
     ]
    },
    {
     "name": "stderr",
     "output_type": "stream",
     "text": [
      "1212it [01:47, 10.72it/s]                                                                                              "
     ]
    },
    {
     "name": "stdout",
     "output_type": "stream",
     "text": [
      "Detected frames:  1200\n"
     ]
    },
    {
     "name": "stderr",
     "output_type": "stream",
     "text": [
      "\n"
     ]
    },
    {
     "name": "stdout",
     "output_type": "stream",
     "text": [
      "Saving results in F:\\ar2breathing\\10_06_19...\n",
      "Saving csv poses!\n",
      "Starting to analyze %  F:\\ar2breathing\\10_06_19\\22-44-40video.mp4\n",
      "Loading  F:\\ar2breathing\\10_06_19\\22-44-40video.mp4\n",
      "Duration of video [s]:  1200.0 , recorded with  1.0 fps!\n",
      "Overall # of frames:  1200  found with (before cropping) frame dimensions:  1024 390\n",
      "Starting to extract posture\n"
     ]
    },
    {
     "name": "stderr",
     "output_type": "stream",
     "text": [
      "1212it [01:52, 10.47it/s]                                                                                              "
     ]
    },
    {
     "name": "stdout",
     "output_type": "stream",
     "text": [
      "Detected frames:  1200\n"
     ]
    },
    {
     "name": "stderr",
     "output_type": "stream",
     "text": [
      "\n"
     ]
    },
    {
     "name": "stdout",
     "output_type": "stream",
     "text": [
      "Saving results in F:\\ar2breathing\\10_06_19...\n",
      "Saving csv poses!\n",
      "Starting to analyze %  F:\\ar2breathing\\10_06_19\\22-45-10video.mp4\n",
      "Loading  F:\\ar2breathing\\10_06_19\\22-45-10video.mp4\n",
      "Duration of video [s]:  1200.0 , recorded with  1.0 fps!\n",
      "Overall # of frames:  1200  found with (before cropping) frame dimensions:  1024 390\n",
      "Starting to extract posture\n"
     ]
    },
    {
     "name": "stderr",
     "output_type": "stream",
     "text": [
      "1212it [01:53, 10.57it/s]                                                                                              "
     ]
    },
    {
     "name": "stdout",
     "output_type": "stream",
     "text": [
      "Detected frames:  1200\n"
     ]
    },
    {
     "name": "stderr",
     "output_type": "stream",
     "text": [
      "\n"
     ]
    },
    {
     "name": "stdout",
     "output_type": "stream",
     "text": [
      "Saving results in F:\\ar2breathing\\10_06_19...\n",
      "Saving csv poses!\n",
      "Starting to analyze %  F:\\ar2breathing\\10_06_19\\22-45-37video.mp4\n",
      "Loading  F:\\ar2breathing\\10_06_19\\22-45-37video.mp4\n",
      "Duration of video [s]:  1200.0 , recorded with  1.0 fps!\n",
      "Overall # of frames:  1200  found with (before cropping) frame dimensions:  1024 390\n",
      "Starting to extract posture\n"
     ]
    },
    {
     "name": "stderr",
     "output_type": "stream",
     "text": [
      "1212it [01:53, 10.31it/s]                                                                                              "
     ]
    },
    {
     "name": "stdout",
     "output_type": "stream",
     "text": [
      "Detected frames:  1200\n"
     ]
    },
    {
     "name": "stderr",
     "output_type": "stream",
     "text": [
      "\n"
     ]
    },
    {
     "name": "stdout",
     "output_type": "stream",
     "text": [
      "Saving results in F:\\ar2breathing\\10_06_19...\n",
      "Saving csv poses!\n",
      "Starting to analyze %  F:\\ar2breathing\\10_06_19\\22-46-00video.mp4\n",
      "Loading  F:\\ar2breathing\\10_06_19\\22-46-00video.mp4\n",
      "Duration of video [s]:  1200.0 , recorded with  1.0 fps!\n",
      "Overall # of frames:  1200  found with (before cropping) frame dimensions:  1024 390\n",
      "Starting to extract posture\n"
     ]
    },
    {
     "name": "stderr",
     "output_type": "stream",
     "text": [
      "1212it [01:48, 10.92it/s]                                                                                              "
     ]
    },
    {
     "name": "stdout",
     "output_type": "stream",
     "text": [
      "Detected frames:  1200\n"
     ]
    },
    {
     "name": "stderr",
     "output_type": "stream",
     "text": [
      "\n"
     ]
    },
    {
     "name": "stdout",
     "output_type": "stream",
     "text": [
      "Saving results in F:\\ar2breathing\\10_06_19...\n",
      "Saving csv poses!\n",
      "Starting to analyze %  F:\\ar2breathing\\10_06_19\\22-46-26video.mp4\n",
      "Loading  F:\\ar2breathing\\10_06_19\\22-46-26video.mp4\n",
      "Duration of video [s]:  1200.0 , recorded with  1.0 fps!\n",
      "Overall # of frames:  1200  found with (before cropping) frame dimensions:  1024 390\n",
      "Starting to extract posture\n"
     ]
    },
    {
     "name": "stderr",
     "output_type": "stream",
     "text": [
      "1212it [01:49, 10.67it/s]                                                                                              "
     ]
    },
    {
     "name": "stdout",
     "output_type": "stream",
     "text": [
      "Detected frames:  1200\n"
     ]
    },
    {
     "name": "stderr",
     "output_type": "stream",
     "text": [
      "\n"
     ]
    },
    {
     "name": "stdout",
     "output_type": "stream",
     "text": [
      "Saving results in F:\\ar2breathing\\10_06_19...\n",
      "Saving csv poses!\n",
      "Starting to analyze %  F:\\ar2breathing\\10_06_19\\22-46-52video.mp4\n",
      "Loading  F:\\ar2breathing\\10_06_19\\22-46-52video.mp4\n",
      "Duration of video [s]:  1200.0 , recorded with  1.0 fps!\n",
      "Overall # of frames:  1200  found with (before cropping) frame dimensions:  1024 390\n",
      "Starting to extract posture\n"
     ]
    },
    {
     "name": "stderr",
     "output_type": "stream",
     "text": [
      "1212it [01:50, 10.94it/s]                                                                                              "
     ]
    },
    {
     "name": "stdout",
     "output_type": "stream",
     "text": [
      "Detected frames:  1200\n"
     ]
    },
    {
     "name": "stderr",
     "output_type": "stream",
     "text": [
      "\n"
     ]
    },
    {
     "name": "stdout",
     "output_type": "stream",
     "text": [
      "Saving results in F:\\ar2breathing\\10_06_19...\n",
      "Saving csv poses!\n",
      "Starting to analyze %  F:\\ar2breathing\\10_06_19\\22-47-16video.mp4\n",
      "Loading  F:\\ar2breathing\\10_06_19\\22-47-16video.mp4\n",
      "Duration of video [s]:  1200.0 , recorded with  1.0 fps!\n",
      "Overall # of frames:  1200  found with (before cropping) frame dimensions:  1024 390\n",
      "Starting to extract posture\n"
     ]
    },
    {
     "name": "stderr",
     "output_type": "stream",
     "text": [
      "1212it [01:52, 11.13it/s]                                                                                              "
     ]
    },
    {
     "name": "stdout",
     "output_type": "stream",
     "text": [
      "Detected frames:  1200\n"
     ]
    },
    {
     "name": "stderr",
     "output_type": "stream",
     "text": [
      "\n"
     ]
    },
    {
     "name": "stdout",
     "output_type": "stream",
     "text": [
      "Saving results in F:\\ar2breathing\\10_06_19...\n",
      "Saving csv poses!\n",
      "Starting to analyze %  F:\\ar2breathing\\10_06_19\\22-47-41video.mp4\n",
      "Loading  F:\\ar2breathing\\10_06_19\\22-47-41video.mp4\n",
      "Duration of video [s]:  1200.0 , recorded with  1.0 fps!\n",
      "Overall # of frames:  1200  found with (before cropping) frame dimensions:  1024 390\n",
      "Starting to extract posture\n"
     ]
    },
    {
     "name": "stderr",
     "output_type": "stream",
     "text": [
      "1212it [01:51, 10.62it/s]                                                                                              "
     ]
    },
    {
     "name": "stdout",
     "output_type": "stream",
     "text": [
      "Detected frames:  1200\n"
     ]
    },
    {
     "name": "stderr",
     "output_type": "stream",
     "text": [
      "\n"
     ]
    },
    {
     "name": "stdout",
     "output_type": "stream",
     "text": [
      "Saving results in F:\\ar2breathing\\10_06_19...\n",
      "Saving csv poses!\n",
      "Starting to analyze %  F:\\ar2breathing\\10_06_19\\22-48-04video.mp4\n",
      "Loading  F:\\ar2breathing\\10_06_19\\22-48-04video.mp4\n",
      "Duration of video [s]:  1200.0 , recorded with  1.0 fps!\n",
      "Overall # of frames:  1200  found with (before cropping) frame dimensions:  1024 390\n",
      "Starting to extract posture\n"
     ]
    },
    {
     "name": "stderr",
     "output_type": "stream",
     "text": [
      "1212it [01:53, 10.65it/s]                                                                                              "
     ]
    },
    {
     "name": "stdout",
     "output_type": "stream",
     "text": [
      "Detected frames:  1200\n"
     ]
    },
    {
     "name": "stderr",
     "output_type": "stream",
     "text": [
      "\n"
     ]
    },
    {
     "name": "stdout",
     "output_type": "stream",
     "text": [
      "Saving results in F:\\ar2breathing\\10_06_19...\n",
      "Saving csv poses!\n",
      "Starting to analyze %  F:\\ar2breathing\\10_06_19\\22-48-34video.mp4\n",
      "Loading  F:\\ar2breathing\\10_06_19\\22-48-34video.mp4\n",
      "Duration of video [s]:  1200.0 , recorded with  1.0 fps!\n",
      "Overall # of frames:  1200  found with (before cropping) frame dimensions:  1024 390\n",
      "Starting to extract posture\n"
     ]
    },
    {
     "name": "stderr",
     "output_type": "stream",
     "text": [
      "1212it [01:53, 10.35it/s]                                                                                              "
     ]
    },
    {
     "name": "stdout",
     "output_type": "stream",
     "text": [
      "Detected frames:  1200\n"
     ]
    },
    {
     "name": "stderr",
     "output_type": "stream",
     "text": [
      "\n"
     ]
    },
    {
     "name": "stdout",
     "output_type": "stream",
     "text": [
      "Saving results in F:\\ar2breathing\\10_06_19...\n",
      "Saving csv poses!\n",
      "Starting to analyze %  F:\\ar2breathing\\10_06_19\\22-48-59video.mp4\n",
      "Loading  F:\\ar2breathing\\10_06_19\\22-48-59video.mp4\n",
      "Duration of video [s]:  1200.0 , recorded with  1.0 fps!\n",
      "Overall # of frames:  1200  found with (before cropping) frame dimensions:  1024 390\n",
      "Starting to extract posture\n"
     ]
    },
    {
     "name": "stderr",
     "output_type": "stream",
     "text": [
      "1212it [01:56, 10.13it/s]                                                                                              "
     ]
    },
    {
     "name": "stdout",
     "output_type": "stream",
     "text": [
      "Detected frames:  1200\n"
     ]
    },
    {
     "name": "stderr",
     "output_type": "stream",
     "text": [
      "\n"
     ]
    },
    {
     "name": "stdout",
     "output_type": "stream",
     "text": [
      "Saving results in F:\\ar2breathing\\10_06_19...\n",
      "Saving csv poses!\n",
      "Starting to analyze %  F:\\ar2breathing\\10_06_19\\22-49-22video.mp4\n",
      "Loading  F:\\ar2breathing\\10_06_19\\22-49-22video.mp4\n",
      "Duration of video [s]:  1200.0 , recorded with  1.0 fps!\n",
      "Overall # of frames:  1200  found with (before cropping) frame dimensions:  1024 390\n",
      "Starting to extract posture\n"
     ]
    },
    {
     "name": "stderr",
     "output_type": "stream",
     "text": [
      "1212it [01:50, 12.49it/s]                                                                                              "
     ]
    },
    {
     "name": "stdout",
     "output_type": "stream",
     "text": [
      "Detected frames:  1200\n"
     ]
    },
    {
     "name": "stderr",
     "output_type": "stream",
     "text": [
      "\n"
     ]
    },
    {
     "name": "stdout",
     "output_type": "stream",
     "text": [
      "Saving results in F:\\ar2breathing\\10_06_19...\n",
      "Saving csv poses!\n",
      "Starting to analyze %  F:\\ar2breathing\\10_06_19\\22-53-42video.mp4\n",
      "Loading  F:\\ar2breathing\\10_06_19\\22-53-42video.mp4\n",
      "Duration of video [s]:  1200.0 , recorded with  1.0 fps!\n",
      "Overall # of frames:  1200  found with (before cropping) frame dimensions:  1024 390\n",
      "Starting to extract posture\n"
     ]
    },
    {
     "name": "stderr",
     "output_type": "stream",
     "text": [
      "1212it [01:54, 10.05it/s]                                                                                              "
     ]
    },
    {
     "name": "stdout",
     "output_type": "stream",
     "text": [
      "Detected frames:  1200\n"
     ]
    },
    {
     "name": "stderr",
     "output_type": "stream",
     "text": [
      "\n"
     ]
    },
    {
     "name": "stdout",
     "output_type": "stream",
     "text": [
      "Saving results in F:\\ar2breathing\\10_06_19...\n",
      "Saving csv poses!\n",
      "Starting to analyze %  F:\\ar2breathing\\10_06_19\\22-55-21video.mp4\n",
      "Loading  F:\\ar2breathing\\10_06_19\\22-55-21video.mp4\n",
      "Duration of video [s]:  1200.0 , recorded with  1.0 fps!\n",
      "Overall # of frames:  1200  found with (before cropping) frame dimensions:  1024 390\n",
      "Starting to extract posture\n"
     ]
    },
    {
     "name": "stderr",
     "output_type": "stream",
     "text": [
      "1212it [01:50, 10.39it/s]                                                                                              "
     ]
    },
    {
     "name": "stdout",
     "output_type": "stream",
     "text": [
      "Detected frames:  1200\n"
     ]
    },
    {
     "name": "stderr",
     "output_type": "stream",
     "text": [
      "\n"
     ]
    },
    {
     "name": "stdout",
     "output_type": "stream",
     "text": [
      "Saving results in F:\\ar2breathing\\10_06_19...\n",
      "Saving csv poses!\n",
      "Starting to analyze %  F:\\ar2breathing\\10_06_19\\22-55-44video.mp4\n",
      "Loading  F:\\ar2breathing\\10_06_19\\22-55-44video.mp4\n",
      "Duration of video [s]:  1200.0 , recorded with  1.0 fps!\n",
      "Overall # of frames:  1200  found with (before cropping) frame dimensions:  1024 390\n",
      "Starting to extract posture\n"
     ]
    },
    {
     "name": "stderr",
     "output_type": "stream",
     "text": [
      "1212it [01:52, 10.94it/s]                                                                                              "
     ]
    },
    {
     "name": "stdout",
     "output_type": "stream",
     "text": [
      "Detected frames:  1200\n"
     ]
    },
    {
     "name": "stderr",
     "output_type": "stream",
     "text": [
      "\n"
     ]
    },
    {
     "name": "stdout",
     "output_type": "stream",
     "text": [
      "Saving results in F:\\ar2breathing\\10_06_19...\n",
      "Saving csv poses!\n",
      "Starting to analyze %  F:\\ar2breathing\\10_06_19\\22-56-07video.mp4\n",
      "Loading  F:\\ar2breathing\\10_06_19\\22-56-07video.mp4\n",
      "Duration of video [s]:  1200.0 , recorded with  1.0 fps!\n",
      "Overall # of frames:  1200  found with (before cropping) frame dimensions:  1024 390\n",
      "Starting to extract posture\n"
     ]
    },
    {
     "name": "stderr",
     "output_type": "stream",
     "text": [
      "1212it [01:52, 10.50it/s]                                                                                              "
     ]
    },
    {
     "name": "stdout",
     "output_type": "stream",
     "text": [
      "Detected frames:  1200\n"
     ]
    },
    {
     "name": "stderr",
     "output_type": "stream",
     "text": [
      "\n"
     ]
    },
    {
     "name": "stdout",
     "output_type": "stream",
     "text": [
      "Saving results in F:\\ar2breathing\\10_06_19...\n",
      "Saving csv poses!\n",
      "Starting to analyze %  F:\\ar2breathing\\10_06_19\\22-56-32video.mp4\n",
      "Loading  F:\\ar2breathing\\10_06_19\\22-56-32video.mp4\n",
      "Duration of video [s]:  1200.0 , recorded with  1.0 fps!\n",
      "Overall # of frames:  1200  found with (before cropping) frame dimensions:  1024 390\n",
      "Starting to extract posture\n"
     ]
    },
    {
     "name": "stderr",
     "output_type": "stream",
     "text": [
      "1212it [01:53, 10.13it/s]                                                                                              "
     ]
    },
    {
     "name": "stdout",
     "output_type": "stream",
     "text": [
      "Detected frames:  1200\n"
     ]
    },
    {
     "name": "stderr",
     "output_type": "stream",
     "text": [
      "\n"
     ]
    },
    {
     "name": "stdout",
     "output_type": "stream",
     "text": [
      "Saving results in F:\\ar2breathing\\10_06_19...\n",
      "Saving csv poses!\n",
      "Starting to analyze %  F:\\ar2breathing\\10_06_19\\22-56-57video.mp4\n",
      "Loading  F:\\ar2breathing\\10_06_19\\22-56-57video.mp4\n",
      "Duration of video [s]:  1200.0 , recorded with  1.0 fps!\n",
      "Overall # of frames:  1200  found with (before cropping) frame dimensions:  1024 390\n",
      "Starting to extract posture\n"
     ]
    },
    {
     "name": "stderr",
     "output_type": "stream",
     "text": [
      "1212it [01:57, 10.15it/s]                                                                                              "
     ]
    },
    {
     "name": "stdout",
     "output_type": "stream",
     "text": [
      "Detected frames:  1200\n"
     ]
    },
    {
     "name": "stderr",
     "output_type": "stream",
     "text": [
      "\n"
     ]
    },
    {
     "name": "stdout",
     "output_type": "stream",
     "text": [
      "Saving results in F:\\ar2breathing\\10_06_19...\n",
      "Saving csv poses!\n",
      "Starting to analyze %  F:\\ar2breathing\\10_06_19\\22-57-26video.mp4\n",
      "Loading  F:\\ar2breathing\\10_06_19\\22-57-26video.mp4\n",
      "Duration of video [s]:  1200.0 , recorded with  1.0 fps!\n",
      "Overall # of frames:  1200  found with (before cropping) frame dimensions:  1024 390\n",
      "Starting to extract posture\n"
     ]
    },
    {
     "name": "stderr",
     "output_type": "stream",
     "text": [
      "1212it [01:53, 10.76it/s]                                                                                              "
     ]
    },
    {
     "name": "stdout",
     "output_type": "stream",
     "text": [
      "Detected frames:  1200\n"
     ]
    },
    {
     "name": "stderr",
     "output_type": "stream",
     "text": [
      "\n"
     ]
    },
    {
     "name": "stdout",
     "output_type": "stream",
     "text": [
      "Saving results in F:\\ar2breathing\\10_06_19...\n",
      "Saving csv poses!\n",
      "Starting to analyze %  F:\\ar2breathing\\10_06_19\\22-57-55video.mp4\n",
      "Loading  F:\\ar2breathing\\10_06_19\\22-57-55video.mp4\n",
      "Duration of video [s]:  1200.0 , recorded with  1.0 fps!\n",
      "Overall # of frames:  1200  found with (before cropping) frame dimensions:  1024 390\n",
      "Starting to extract posture\n"
     ]
    },
    {
     "name": "stderr",
     "output_type": "stream",
     "text": [
      "1212it [01:52, 10.80it/s]                                                                                              "
     ]
    },
    {
     "name": "stdout",
     "output_type": "stream",
     "text": [
      "Detected frames:  1200\n"
     ]
    },
    {
     "name": "stderr",
     "output_type": "stream",
     "text": [
      "\n"
     ]
    },
    {
     "name": "stdout",
     "output_type": "stream",
     "text": [
      "Saving results in F:\\ar2breathing\\10_06_19...\n",
      "Saving csv poses!\n",
      "Starting to analyze %  F:\\ar2breathing\\10_06_19\\22-58-20video.mp4\n",
      "Loading  F:\\ar2breathing\\10_06_19\\22-58-20video.mp4\n",
      "Duration of video [s]:  1200.0 , recorded with  1.0 fps!\n",
      "Overall # of frames:  1200  found with (before cropping) frame dimensions:  1024 390\n",
      "Starting to extract posture\n"
     ]
    },
    {
     "name": "stderr",
     "output_type": "stream",
     "text": [
      "1212it [01:55, 14.30it/s]                                                                                              "
     ]
    },
    {
     "name": "stdout",
     "output_type": "stream",
     "text": [
      "Detected frames:  1200\n"
     ]
    },
    {
     "name": "stderr",
     "output_type": "stream",
     "text": [
      "\n"
     ]
    },
    {
     "name": "stdout",
     "output_type": "stream",
     "text": [
      "Saving results in F:\\ar2breathing\\10_06_19...\n",
      "Saving csv poses!\n",
      "Starting to analyze %  F:\\ar2breathing\\10_06_19\\22-59-07video.mp4\n",
      "Loading  F:\\ar2breathing\\10_06_19\\22-59-07video.mp4\n",
      "Duration of video [s]:  1200.0 , recorded with  1.0 fps!\n",
      "Overall # of frames:  1200  found with (before cropping) frame dimensions:  1024 390\n",
      "Starting to extract posture\n"
     ]
    },
    {
     "name": "stderr",
     "output_type": "stream",
     "text": [
      "1212it [01:54, 10.49it/s]                                                                                              "
     ]
    },
    {
     "name": "stdout",
     "output_type": "stream",
     "text": [
      "Detected frames:  1200\n"
     ]
    },
    {
     "name": "stderr",
     "output_type": "stream",
     "text": [
      "\n"
     ]
    },
    {
     "name": "stdout",
     "output_type": "stream",
     "text": [
      "Saving results in F:\\ar2breathing\\10_06_19...\n",
      "Saving csv poses!\n",
      "Starting to analyze %  F:\\ar2breathing\\10_06_19\\23-00-07video.mp4\n",
      "Loading  F:\\ar2breathing\\10_06_19\\23-00-07video.mp4\n",
      "Duration of video [s]:  1200.0 , recorded with  1.0 fps!\n",
      "Overall # of frames:  1200  found with (before cropping) frame dimensions:  1024 390\n",
      "Starting to extract posture\n"
     ]
    },
    {
     "name": "stderr",
     "output_type": "stream",
     "text": [
      "1212it [01:53, 10.52it/s]                                                                                              "
     ]
    },
    {
     "name": "stdout",
     "output_type": "stream",
     "text": [
      "Detected frames:  1200\n"
     ]
    },
    {
     "name": "stderr",
     "output_type": "stream",
     "text": [
      "\n"
     ]
    },
    {
     "name": "stdout",
     "output_type": "stream",
     "text": [
      "Saving results in F:\\ar2breathing\\10_06_19...\n",
      "Saving csv poses!\n",
      "Starting to analyze %  F:\\ar2breathing\\10_06_19\\23-00-34video.mp4\n",
      "Loading  F:\\ar2breathing\\10_06_19\\23-00-34video.mp4\n",
      "Duration of video [s]:  1200.0 , recorded with  1.0 fps!\n",
      "Overall # of frames:  1200  found with (before cropping) frame dimensions:  1024 390\n",
      "Starting to extract posture\n"
     ]
    },
    {
     "name": "stderr",
     "output_type": "stream",
     "text": [
      "1212it [01:53, 10.49it/s]                                                                                              "
     ]
    },
    {
     "name": "stdout",
     "output_type": "stream",
     "text": [
      "Detected frames:  1200\n"
     ]
    },
    {
     "name": "stderr",
     "output_type": "stream",
     "text": [
      "\n"
     ]
    },
    {
     "name": "stdout",
     "output_type": "stream",
     "text": [
      "Saving results in F:\\ar2breathing\\10_06_19...\n",
      "Saving csv poses!\n",
      "Starting to analyze %  F:\\ar2breathing\\10_06_19\\23-01-02video.mp4\n",
      "Loading  F:\\ar2breathing\\10_06_19\\23-01-02video.mp4\n",
      "Duration of video [s]:  1200.0 , recorded with  1.0 fps!\n",
      "Overall # of frames:  1200  found with (before cropping) frame dimensions:  1024 390\n",
      "Starting to extract posture\n"
     ]
    },
    {
     "name": "stderr",
     "output_type": "stream",
     "text": [
      "1212it [01:53, 10.47it/s]                                                                                              "
     ]
    },
    {
     "name": "stdout",
     "output_type": "stream",
     "text": [
      "Detected frames:  1200\n"
     ]
    },
    {
     "name": "stderr",
     "output_type": "stream",
     "text": [
      "\n"
     ]
    },
    {
     "name": "stdout",
     "output_type": "stream",
     "text": [
      "Saving results in F:\\ar2breathing\\10_06_19...\n",
      "Saving csv poses!\n",
      "Starting to analyze %  F:\\ar2breathing\\10_06_19\\23-01-26video.mp4\n",
      "Loading  F:\\ar2breathing\\10_06_19\\23-01-26video.mp4\n",
      "Duration of video [s]:  1200.0 , recorded with  1.0 fps!\n",
      "Overall # of frames:  1200  found with (before cropping) frame dimensions:  1024 390\n",
      "Starting to extract posture\n"
     ]
    },
    {
     "name": "stderr",
     "output_type": "stream",
     "text": [
      "1212it [01:53, 10.55it/s]                                                                                              "
     ]
    },
    {
     "name": "stdout",
     "output_type": "stream",
     "text": [
      "Detected frames:  1200\n"
     ]
    },
    {
     "name": "stderr",
     "output_type": "stream",
     "text": [
      "\n"
     ]
    },
    {
     "name": "stdout",
     "output_type": "stream",
     "text": [
      "Saving results in F:\\ar2breathing\\10_06_19...\n",
      "Saving csv poses!\n",
      "Starting to analyze %  F:\\ar2breathing\\10_06_19\\23-01-50video.mp4\n",
      "Loading  F:\\ar2breathing\\10_06_19\\23-01-50video.mp4\n",
      "Duration of video [s]:  1200.0 , recorded with  1.0 fps!\n",
      "Overall # of frames:  1200  found with (before cropping) frame dimensions:  1024 390\n",
      "Starting to extract posture\n"
     ]
    },
    {
     "name": "stderr",
     "output_type": "stream",
     "text": [
      "1212it [01:53, 10.49it/s]                                                                                              "
     ]
    },
    {
     "name": "stdout",
     "output_type": "stream",
     "text": [
      "Detected frames:  1200\n"
     ]
    },
    {
     "name": "stderr",
     "output_type": "stream",
     "text": [
      "\n"
     ]
    },
    {
     "name": "stdout",
     "output_type": "stream",
     "text": [
      "Saving results in F:\\ar2breathing\\10_06_19...\n",
      "Saving csv poses!\n",
      "Starting to analyze %  F:\\ar2breathing\\10_06_19\\23-02-13video.mp4\n",
      "Loading  F:\\ar2breathing\\10_06_19\\23-02-13video.mp4\n",
      "Duration of video [s]:  1200.0 , recorded with  1.0 fps!\n",
      "Overall # of frames:  1200  found with (before cropping) frame dimensions:  1024 390\n",
      "Starting to extract posture\n"
     ]
    },
    {
     "name": "stderr",
     "output_type": "stream",
     "text": [
      "1212it [01:53, 10.66it/s]                                                                                              "
     ]
    },
    {
     "name": "stdout",
     "output_type": "stream",
     "text": [
      "Detected frames:  1200\n"
     ]
    },
    {
     "name": "stderr",
     "output_type": "stream",
     "text": [
      "\n"
     ]
    },
    {
     "name": "stdout",
     "output_type": "stream",
     "text": [
      "Saving results in F:\\ar2breathing\\10_06_19...\n",
      "Saving csv poses!\n",
      "Starting to analyze %  F:\\ar2breathing\\10_06_19\\23-02-38video.mp4\n",
      "Loading  F:\\ar2breathing\\10_06_19\\23-02-38video.mp4\n",
      "Duration of video [s]:  1200.0 , recorded with  1.0 fps!\n",
      "Overall # of frames:  1200  found with (before cropping) frame dimensions:  1024 390\n",
      "Starting to extract posture\n"
     ]
    },
    {
     "name": "stderr",
     "output_type": "stream",
     "text": [
      "1212it [01:53, 10.65it/s]                                                                                              "
     ]
    },
    {
     "name": "stdout",
     "output_type": "stream",
     "text": [
      "Detected frames:  1200\n"
     ]
    },
    {
     "name": "stderr",
     "output_type": "stream",
     "text": [
      "\n"
     ]
    },
    {
     "name": "stdout",
     "output_type": "stream",
     "text": [
      "Saving results in F:\\ar2breathing\\10_06_19...\n",
      "Saving csv poses!\n",
      "Starting to analyze %  F:\\ar2breathing\\10_06_19\\23-03-01video.mp4\n",
      "Loading  F:\\ar2breathing\\10_06_19\\23-03-01video.mp4\n",
      "Duration of video [s]:  1200.0 , recorded with  1.0 fps!\n",
      "Overall # of frames:  1200  found with (before cropping) frame dimensions:  1024 390\n",
      "Starting to extract posture\n"
     ]
    },
    {
     "name": "stderr",
     "output_type": "stream",
     "text": [
      "1212it [01:57, 11.29it/s]                                                                                              "
     ]
    },
    {
     "name": "stdout",
     "output_type": "stream",
     "text": [
      "Detected frames:  1200\n"
     ]
    },
    {
     "name": "stderr",
     "output_type": "stream",
     "text": [
      "\n"
     ]
    },
    {
     "name": "stdout",
     "output_type": "stream",
     "text": [
      "Saving results in F:\\ar2breathing\\10_06_19...\n",
      "Saving csv poses!\n",
      "Starting to analyze %  F:\\ar2breathing\\10_06_19\\23-03-27video.mp4\n",
      "Loading  F:\\ar2breathing\\10_06_19\\23-03-27video.mp4\n",
      "Duration of video [s]:  1200.0 , recorded with  1.0 fps!\n",
      "Overall # of frames:  1200  found with (before cropping) frame dimensions:  1024 390\n",
      "Starting to extract posture\n"
     ]
    },
    {
     "name": "stderr",
     "output_type": "stream",
     "text": [
      "1212it [01:54,  9.79it/s]                                                                                              "
     ]
    },
    {
     "name": "stdout",
     "output_type": "stream",
     "text": [
      "Detected frames:  1200\n"
     ]
    },
    {
     "name": "stderr",
     "output_type": "stream",
     "text": [
      "\n"
     ]
    },
    {
     "name": "stdout",
     "output_type": "stream",
     "text": [
      "Saving results in F:\\ar2breathing\\10_06_19...\n",
      "Saving csv poses!\n",
      "Starting to analyze %  F:\\ar2breathing\\10_06_19\\23-03-51video.mp4\n",
      "Loading  F:\\ar2breathing\\10_06_19\\23-03-51video.mp4\n",
      "Duration of video [s]:  1200.0 , recorded with  1.0 fps!\n",
      "Overall # of frames:  1200  found with (before cropping) frame dimensions:  1024 390\n",
      "Starting to extract posture\n"
     ]
    },
    {
     "name": "stderr",
     "output_type": "stream",
     "text": [
      "1212it [01:51, 10.62it/s]                                                                                              "
     ]
    },
    {
     "name": "stdout",
     "output_type": "stream",
     "text": [
      "Detected frames:  1200\n"
     ]
    },
    {
     "name": "stderr",
     "output_type": "stream",
     "text": [
      "\n"
     ]
    },
    {
     "name": "stdout",
     "output_type": "stream",
     "text": [
      "Saving results in F:\\ar2breathing\\10_06_19...\n",
      "Saving csv poses!\n",
      "Starting to analyze %  F:\\ar2breathing\\10_06_19\\23-04-16video.mp4\n",
      "Loading  F:\\ar2breathing\\10_06_19\\23-04-16video.mp4\n",
      "Duration of video [s]:  1200.0 , recorded with  1.0 fps!\n",
      "Overall # of frames:  1200  found with (before cropping) frame dimensions:  1024 390\n",
      "Starting to extract posture\n"
     ]
    },
    {
     "name": "stderr",
     "output_type": "stream",
     "text": [
      "1212it [01:48, 11.10it/s]                                                                                              "
     ]
    },
    {
     "name": "stdout",
     "output_type": "stream",
     "text": [
      "Detected frames:  1200\n"
     ]
    },
    {
     "name": "stderr",
     "output_type": "stream",
     "text": [
      "\n"
     ]
    },
    {
     "name": "stdout",
     "output_type": "stream",
     "text": [
      "Saving results in F:\\ar2breathing\\10_06_19...\n",
      "Saving csv poses!\n",
      "Starting to analyze %  F:\\ar2breathing\\10_06_19\\23-04-40video.mp4\n",
      "Loading  F:\\ar2breathing\\10_06_19\\23-04-40video.mp4\n",
      "Duration of video [s]:  1200.0 , recorded with  1.0 fps!\n",
      "Overall # of frames:  1200  found with (before cropping) frame dimensions:  1024 390\n",
      "Starting to extract posture\n"
     ]
    },
    {
     "name": "stderr",
     "output_type": "stream",
     "text": [
      "1212it [01:53, 10.58it/s]                                                                                              "
     ]
    },
    {
     "name": "stdout",
     "output_type": "stream",
     "text": [
      "Detected frames:  1200\n"
     ]
    },
    {
     "name": "stderr",
     "output_type": "stream",
     "text": [
      "\n"
     ]
    },
    {
     "name": "stdout",
     "output_type": "stream",
     "text": [
      "Saving results in F:\\ar2breathing\\10_06_19...\n",
      "Saving csv poses!\n",
      "Starting to analyze %  F:\\ar2breathing\\10_06_19\\23-05-03video.mp4\n",
      "Loading  F:\\ar2breathing\\10_06_19\\23-05-03video.mp4\n",
      "Duration of video [s]:  1200.0 , recorded with  1.0 fps!\n",
      "Overall # of frames:  1200  found with (before cropping) frame dimensions:  1024 390\n",
      "Starting to extract posture\n"
     ]
    },
    {
     "name": "stderr",
     "output_type": "stream",
     "text": [
      "1212it [01:52, 11.59it/s]                                                                                              "
     ]
    },
    {
     "name": "stdout",
     "output_type": "stream",
     "text": [
      "Detected frames:  1200\n"
     ]
    },
    {
     "name": "stderr",
     "output_type": "stream",
     "text": [
      "\n"
     ]
    },
    {
     "name": "stdout",
     "output_type": "stream",
     "text": [
      "Saving results in F:\\ar2breathing\\10_06_19...\n",
      "Saving csv poses!\n",
      "Starting to analyze %  F:\\ar2breathing\\10_06_19\\23-05-32video.mp4\n",
      "Loading  F:\\ar2breathing\\10_06_19\\23-05-32video.mp4\n",
      "Duration of video [s]:  1200.0 , recorded with  1.0 fps!\n",
      "Overall # of frames:  1200  found with (before cropping) frame dimensions:  1024 390\n",
      "Starting to extract posture\n"
     ]
    },
    {
     "name": "stderr",
     "output_type": "stream",
     "text": [
      "1212it [01:49, 11.12it/s]                                                                                              "
     ]
    },
    {
     "name": "stdout",
     "output_type": "stream",
     "text": [
      "Detected frames:  1200\n"
     ]
    },
    {
     "name": "stderr",
     "output_type": "stream",
     "text": [
      "\n"
     ]
    },
    {
     "name": "stdout",
     "output_type": "stream",
     "text": [
      "Saving results in F:\\ar2breathing\\10_06_19...\n",
      "Saving csv poses!\n",
      "Starting to analyze %  F:\\ar2breathing\\10_06_19\\23-06-03video.mp4\n",
      "Loading  F:\\ar2breathing\\10_06_19\\23-06-03video.mp4\n",
      "Duration of video [s]:  1200.0 , recorded with  1.0 fps!\n",
      "Overall # of frames:  1200  found with (before cropping) frame dimensions:  1024 390\n",
      "Starting to extract posture\n"
     ]
    },
    {
     "name": "stderr",
     "output_type": "stream",
     "text": [
      "1212it [01:50,  9.30it/s]                                                                                              "
     ]
    },
    {
     "name": "stdout",
     "output_type": "stream",
     "text": [
      "Detected frames:  1200\n"
     ]
    },
    {
     "name": "stderr",
     "output_type": "stream",
     "text": [
      "\n"
     ]
    },
    {
     "name": "stdout",
     "output_type": "stream",
     "text": [
      "Saving results in F:\\ar2breathing\\10_06_19...\n",
      "Saving csv poses!\n",
      "Starting to analyze %  F:\\ar2breathing\\10_06_19\\23-06-30video.mp4\n",
      "Loading  F:\\ar2breathing\\10_06_19\\23-06-30video.mp4\n",
      "Duration of video [s]:  1200.0 , recorded with  1.0 fps!\n",
      "Overall # of frames:  1200  found with (before cropping) frame dimensions:  1024 390\n",
      "Starting to extract posture\n"
     ]
    },
    {
     "name": "stderr",
     "output_type": "stream",
     "text": [
      "1212it [01:50, 10.18it/s]                                                                                              "
     ]
    },
    {
     "name": "stdout",
     "output_type": "stream",
     "text": [
      "Detected frames:  1200\n"
     ]
    },
    {
     "name": "stderr",
     "output_type": "stream",
     "text": [
      "\n"
     ]
    },
    {
     "name": "stdout",
     "output_type": "stream",
     "text": [
      "Saving results in F:\\ar2breathing\\10_06_19...\n",
      "Saving csv poses!\n",
      "Starting to analyze %  F:\\ar2breathing\\10_06_19\\23-06-56video.mp4\n",
      "Loading  F:\\ar2breathing\\10_06_19\\23-06-56video.mp4\n",
      "Duration of video [s]:  1200.0 , recorded with  1.0 fps!\n",
      "Overall # of frames:  1200  found with (before cropping) frame dimensions:  1024 390\n",
      "Starting to extract posture\n"
     ]
    },
    {
     "name": "stderr",
     "output_type": "stream",
     "text": [
      "1212it [01:52, 10.67it/s]                                                                                              "
     ]
    },
    {
     "name": "stdout",
     "output_type": "stream",
     "text": [
      "Detected frames:  1200\n"
     ]
    },
    {
     "name": "stderr",
     "output_type": "stream",
     "text": [
      "\n"
     ]
    },
    {
     "name": "stdout",
     "output_type": "stream",
     "text": [
      "Saving results in F:\\ar2breathing\\10_06_19...\n",
      "Saving csv poses!\n",
      "Starting to analyze %  F:\\ar2breathing\\10_06_19\\23-07-22video.mp4\n",
      "Loading  F:\\ar2breathing\\10_06_19\\23-07-22video.mp4\n",
      "Duration of video [s]:  1200.0 , recorded with  1.0 fps!\n",
      "Overall # of frames:  1200  found with (before cropping) frame dimensions:  1024 390\n",
      "Starting to extract posture\n"
     ]
    },
    {
     "name": "stderr",
     "output_type": "stream",
     "text": [
      "1212it [01:53, 10.52it/s]                                                                                              "
     ]
    },
    {
     "name": "stdout",
     "output_type": "stream",
     "text": [
      "Detected frames:  1200\n"
     ]
    },
    {
     "name": "stderr",
     "output_type": "stream",
     "text": [
      "\n"
     ]
    },
    {
     "name": "stdout",
     "output_type": "stream",
     "text": [
      "Saving results in F:\\ar2breathing\\10_06_19...\n",
      "Saving csv poses!\n",
      "Starting to analyze %  F:\\ar2breathing\\10_06_19\\23-07-48video.mp4\n",
      "Loading  F:\\ar2breathing\\10_06_19\\23-07-48video.mp4\n",
      "Duration of video [s]:  1200.0 , recorded with  1.0 fps!\n",
      "Overall # of frames:  1200  found with (before cropping) frame dimensions:  1024 390\n",
      "Starting to extract posture\n"
     ]
    },
    {
     "name": "stderr",
     "output_type": "stream",
     "text": [
      "1212it [01:53, 10.59it/s]                                                                                              "
     ]
    },
    {
     "name": "stdout",
     "output_type": "stream",
     "text": [
      "Detected frames:  1200\n"
     ]
    },
    {
     "name": "stderr",
     "output_type": "stream",
     "text": [
      "\n"
     ]
    },
    {
     "name": "stdout",
     "output_type": "stream",
     "text": [
      "Saving results in F:\\ar2breathing\\10_06_19...\n",
      "Saving csv poses!\n",
      "Starting to analyze %  F:\\ar2breathing\\10_06_19\\23-08-14video.mp4\n",
      "Loading  F:\\ar2breathing\\10_06_19\\23-08-14video.mp4\n",
      "Duration of video [s]:  1200.0 , recorded with  1.0 fps!\n",
      "Overall # of frames:  1200  found with (before cropping) frame dimensions:  1024 390\n",
      "Starting to extract posture\n"
     ]
    },
    {
     "name": "stderr",
     "output_type": "stream",
     "text": [
      "1212it [01:49, 10.51it/s]                                                                                              "
     ]
    },
    {
     "name": "stdout",
     "output_type": "stream",
     "text": [
      "Detected frames:  1200\n"
     ]
    },
    {
     "name": "stderr",
     "output_type": "stream",
     "text": [
      "\n"
     ]
    },
    {
     "name": "stdout",
     "output_type": "stream",
     "text": [
      "Saving results in F:\\ar2breathing\\10_06_19...\n",
      "Saving csv poses!\n",
      "Starting to analyze %  F:\\ar2breathing\\10_06_19\\23-08-39video.mp4\n",
      "Loading  F:\\ar2breathing\\10_06_19\\23-08-39video.mp4\n",
      "Duration of video [s]:  1200.0 , recorded with  1.0 fps!\n",
      "Overall # of frames:  1200  found with (before cropping) frame dimensions:  1024 390\n",
      "Starting to extract posture\n"
     ]
    },
    {
     "name": "stderr",
     "output_type": "stream",
     "text": [
      "1212it [01:52, 10.74it/s]                                                                                              "
     ]
    },
    {
     "name": "stdout",
     "output_type": "stream",
     "text": [
      "Detected frames:  1200\n"
     ]
    },
    {
     "name": "stderr",
     "output_type": "stream",
     "text": [
      "\n"
     ]
    },
    {
     "name": "stdout",
     "output_type": "stream",
     "text": [
      "Saving results in F:\\ar2breathing\\10_06_19...\n",
      "Saving csv poses!\n",
      "Starting to analyze %  F:\\ar2breathing\\10_06_19\\23-09-06video.mp4\n",
      "Loading  F:\\ar2breathing\\10_06_19\\23-09-06video.mp4\n",
      "Duration of video [s]:  1200.0 , recorded with  1.0 fps!\n",
      "Overall # of frames:  1200  found with (before cropping) frame dimensions:  1024 390\n",
      "Starting to extract posture\n"
     ]
    },
    {
     "name": "stderr",
     "output_type": "stream",
     "text": [
      "1212it [01:52, 10.60it/s]                                                                                              "
     ]
    },
    {
     "name": "stdout",
     "output_type": "stream",
     "text": [
      "Detected frames:  1200\n"
     ]
    },
    {
     "name": "stderr",
     "output_type": "stream",
     "text": [
      "\n"
     ]
    },
    {
     "name": "stdout",
     "output_type": "stream",
     "text": [
      "Saving results in F:\\ar2breathing\\10_06_19...\n",
      "Saving csv poses!\n",
      "Starting to analyze %  F:\\ar2breathing\\10_06_19\\23-09-37video.mp4\n",
      "Loading  F:\\ar2breathing\\10_06_19\\23-09-37video.mp4\n",
      "Duration of video [s]:  1200.0 , recorded with  1.0 fps!\n",
      "Overall # of frames:  1200  found with (before cropping) frame dimensions:  1024 390\n",
      "Starting to extract posture\n"
     ]
    },
    {
     "name": "stderr",
     "output_type": "stream",
     "text": [
      "1212it [01:52, 10.53it/s]                                                                                              "
     ]
    },
    {
     "name": "stdout",
     "output_type": "stream",
     "text": [
      "Detected frames:  1200\n"
     ]
    },
    {
     "name": "stderr",
     "output_type": "stream",
     "text": [
      "\n"
     ]
    },
    {
     "name": "stdout",
     "output_type": "stream",
     "text": [
      "Saving results in F:\\ar2breathing\\10_06_19...\n",
      "Saving csv poses!\n",
      "Starting to analyze %  F:\\ar2breathing\\10_06_19\\23-10-05video.mp4\n",
      "Loading  F:\\ar2breathing\\10_06_19\\23-10-05video.mp4\n",
      "Duration of video [s]:  1200.0 , recorded with  1.0 fps!\n",
      "Overall # of frames:  1200  found with (before cropping) frame dimensions:  1024 390\n",
      "Starting to extract posture\n"
     ]
    },
    {
     "name": "stderr",
     "output_type": "stream",
     "text": [
      "1212it [01:52, 10.27it/s]                                                                                              "
     ]
    },
    {
     "name": "stdout",
     "output_type": "stream",
     "text": [
      "Detected frames:  1200\n"
     ]
    },
    {
     "name": "stderr",
     "output_type": "stream",
     "text": [
      "\n"
     ]
    },
    {
     "name": "stdout",
     "output_type": "stream",
     "text": [
      "Saving results in F:\\ar2breathing\\10_06_19...\n",
      "Saving csv poses!\n",
      "Starting to analyze %  F:\\ar2breathing\\10_06_19\\23-12-07video.mp4\n",
      "Loading  F:\\ar2breathing\\10_06_19\\23-12-07video.mp4\n",
      "Duration of video [s]:  1200.0 , recorded with  1.0 fps!\n",
      "Overall # of frames:  1200  found with (before cropping) frame dimensions:  1024 390\n",
      "Starting to extract posture\n"
     ]
    },
    {
     "name": "stderr",
     "output_type": "stream",
     "text": [
      "1212it [01:54, 10.08it/s]                                                                                              "
     ]
    },
    {
     "name": "stdout",
     "output_type": "stream",
     "text": [
      "Detected frames:  1200\n"
     ]
    },
    {
     "name": "stderr",
     "output_type": "stream",
     "text": [
      "\n"
     ]
    },
    {
     "name": "stdout",
     "output_type": "stream",
     "text": [
      "Saving results in F:\\ar2breathing\\10_06_19...\n",
      "Saving csv poses!\n",
      "Starting to analyze %  F:\\ar2breathing\\10_06_19\\23-12-30video.mp4\n",
      "Loading  F:\\ar2breathing\\10_06_19\\23-12-30video.mp4\n",
      "Duration of video [s]:  1200.0 , recorded with  1.0 fps!\n",
      "Overall # of frames:  1200  found with (before cropping) frame dimensions:  1024 390\n",
      "Starting to extract posture\n"
     ]
    },
    {
     "name": "stderr",
     "output_type": "stream",
     "text": [
      "1212it [01:52, 10.81it/s]                                                                                              "
     ]
    },
    {
     "name": "stdout",
     "output_type": "stream",
     "text": [
      "Detected frames:  1200\n"
     ]
    },
    {
     "name": "stderr",
     "output_type": "stream",
     "text": [
      "\n"
     ]
    },
    {
     "name": "stdout",
     "output_type": "stream",
     "text": [
      "Saving results in F:\\ar2breathing\\10_06_19...\n",
      "Saving csv poses!\n",
      "Starting to analyze %  F:\\ar2breathing\\10_06_19\\23-12-53video.mp4\n",
      "Loading  F:\\ar2breathing\\10_06_19\\23-12-53video.mp4\n",
      "Duration of video [s]:  1200.0 , recorded with  1.0 fps!\n",
      "Overall # of frames:  1200  found with (before cropping) frame dimensions:  1024 390\n",
      "Starting to extract posture\n"
     ]
    },
    {
     "name": "stderr",
     "output_type": "stream",
     "text": [
      "1212it [01:52, 10.40it/s]                                                                                              "
     ]
    },
    {
     "name": "stdout",
     "output_type": "stream",
     "text": [
      "Detected frames:  1200\n"
     ]
    },
    {
     "name": "stderr",
     "output_type": "stream",
     "text": [
      "\n"
     ]
    },
    {
     "name": "stdout",
     "output_type": "stream",
     "text": [
      "Saving results in F:\\ar2breathing\\10_06_19...\n",
      "Saving csv poses!\n",
      "Starting to analyze %  F:\\ar2breathing\\10_06_19\\23-13-17video.mp4\n",
      "Loading  F:\\ar2breathing\\10_06_19\\23-13-17video.mp4\n",
      "Duration of video [s]:  1200.0 , recorded with  1.0 fps!\n",
      "Overall # of frames:  1200  found with (before cropping) frame dimensions:  1024 390\n",
      "Starting to extract posture\n"
     ]
    },
    {
     "name": "stderr",
     "output_type": "stream",
     "text": [
      "1212it [01:53, 11.42it/s]                                                                                              "
     ]
    },
    {
     "name": "stdout",
     "output_type": "stream",
     "text": [
      "Detected frames:  1200\n"
     ]
    },
    {
     "name": "stderr",
     "output_type": "stream",
     "text": [
      "\n"
     ]
    },
    {
     "name": "stdout",
     "output_type": "stream",
     "text": [
      "Saving results in F:\\ar2breathing\\10_06_19...\n",
      "Saving csv poses!\n",
      "Starting to analyze %  F:\\ar2breathing\\10_06_19\\23-13-40video.mp4\n",
      "Loading  F:\\ar2breathing\\10_06_19\\23-13-40video.mp4\n",
      "Duration of video [s]:  1200.0 , recorded with  1.0 fps!\n",
      "Overall # of frames:  1200  found with (before cropping) frame dimensions:  1024 390\n",
      "Starting to extract posture\n"
     ]
    },
    {
     "name": "stderr",
     "output_type": "stream",
     "text": [
      "1212it [01:51, 10.85it/s]                                                                                              "
     ]
    },
    {
     "name": "stdout",
     "output_type": "stream",
     "text": [
      "Detected frames:  1200\n"
     ]
    },
    {
     "name": "stderr",
     "output_type": "stream",
     "text": [
      "\n"
     ]
    },
    {
     "name": "stdout",
     "output_type": "stream",
     "text": [
      "Saving results in F:\\ar2breathing\\10_06_19...\n",
      "Saving csv poses!\n",
      "Starting to analyze %  F:\\ar2breathing\\10_06_19\\23-14-08video.mp4\n",
      "Loading  F:\\ar2breathing\\10_06_19\\23-14-08video.mp4\n",
      "Duration of video [s]:  1200.0 , recorded with  1.0 fps!\n",
      "Overall # of frames:  1200  found with (before cropping) frame dimensions:  1024 390\n",
      "Starting to extract posture\n"
     ]
    },
    {
     "name": "stderr",
     "output_type": "stream",
     "text": [
      "1212it [01:52, 10.67it/s]                                                                                              "
     ]
    },
    {
     "name": "stdout",
     "output_type": "stream",
     "text": [
      "Detected frames:  1200\n"
     ]
    },
    {
     "name": "stderr",
     "output_type": "stream",
     "text": [
      "\n"
     ]
    },
    {
     "name": "stdout",
     "output_type": "stream",
     "text": [
      "Saving results in F:\\ar2breathing\\10_06_19...\n",
      "Saving csv poses!\n",
      "Starting to analyze %  F:\\ar2breathing\\10_06_19\\23-14-33video.mp4\n",
      "Loading  F:\\ar2breathing\\10_06_19\\23-14-33video.mp4\n",
      "Duration of video [s]:  1200.0 , recorded with  1.0 fps!\n",
      "Overall # of frames:  1200  found with (before cropping) frame dimensions:  1024 390\n",
      "Starting to extract posture\n"
     ]
    },
    {
     "name": "stderr",
     "output_type": "stream",
     "text": [
      "1212it [01:55, 10.49it/s]                                                                                              "
     ]
    },
    {
     "name": "stdout",
     "output_type": "stream",
     "text": [
      "Detected frames:  1200\n"
     ]
    },
    {
     "name": "stderr",
     "output_type": "stream",
     "text": [
      "\n"
     ]
    },
    {
     "name": "stdout",
     "output_type": "stream",
     "text": [
      "Saving results in F:\\ar2breathing\\10_06_19...\n",
      "Saving csv poses!\n",
      "Starting to analyze %  F:\\ar2breathing\\10_06_19\\23-15-17video.mp4\n",
      "Loading  F:\\ar2breathing\\10_06_19\\23-15-17video.mp4\n",
      "Duration of video [s]:  1200.0 , recorded with  1.0 fps!\n",
      "Overall # of frames:  1200  found with (before cropping) frame dimensions:  1024 390\n",
      "Starting to extract posture\n"
     ]
    },
    {
     "name": "stderr",
     "output_type": "stream",
     "text": [
      "1212it [01:54,  9.53it/s]                                                                                              "
     ]
    },
    {
     "name": "stdout",
     "output_type": "stream",
     "text": [
      "Detected frames:  1200\n"
     ]
    },
    {
     "name": "stderr",
     "output_type": "stream",
     "text": [
      "\n"
     ]
    },
    {
     "name": "stdout",
     "output_type": "stream",
     "text": [
      "Saving results in F:\\ar2breathing\\10_06_19...\n",
      "Saving csv poses!\n",
      "The videos are analyzed. Now your research can truly start! \n",
      " You can create labeled videos with 'create_labeled_video'.\n",
      "If the tracking is not satisfactory for some videos, consider expanding the training set. You can use the function 'extract_outlier_frames' to extract any outlier frames!\n"
     ]
    }
   ],
   "source": [
    "#path_config_file = 'D:\\\\Notebook\\\\sc\\\\sc-Fassihi-2018-12-15\\\\config.yaml' # Enter the path of the config file that was just created from the above step (check the folder)\n",
    "whismovie = 4;\n",
    "#videofile_path = ['D:\\\\Notebook\\\\sc\\\\sc-Fassihi-2018-12-16\\\\videos\\\\video14-23-50.avi'] #Enter the list of videos to analyze.\n",
    "#path_config_file = 'D:\\\\rat movies SC\\\\ar19\\\\02_07_19\\\\sc_ar19_02072019-Fassihi4-2019-02-13\\\\config.yaml' #Enter the path of the config file that was just created from the above step (check the folder)\n",
    "#path_config_file ='D:\\\\rat movies SC\\\\ar17record\\\\02_27_19\\\\sc_ar17record_02272019-Fassihi-2019-03-05\\\\config.yaml' #Enter the path of the config file that was just created from the above step (check the folder)\n",
    "#path_config_file = 'D:\\\\rat_movies_SC\\\\ar17record\\\\02_27_19\\\\sc_ar17record_02272019_3-Fassihi-2019-04-28\\\\config.yaml'\n",
    "#path_config_file = 'D:\\\\movies_Rat_SC_project\\\\ar1\\\\05_24_19\\\\sc_aa1_05242019-Fassihi-2019-05-30\\\\config.yaml' #Enter the path of the config file that was just created from the above step (check the folder)\n",
    "#path_config_file = 'D:\\\\movies_Rat_SC_project\\\\ar3\\\\06_07_19\\\\sc_aa3_06072019-Fassihi-2019-06-10\\\\config.yaml' #Enter the path of the config file that was just created from the above step (check the folder)\n",
    "\n",
    "import os\n",
    "Mainfolder = 'F:\\\\ar2breathing\\\\10_18_19'\n",
    "\n",
    "Mainfolder = 'D:\\\\rat_movies_SC\\\\ar17\\\\02_25_19'\n",
    "Mainfolder = 'D:\\\\rat_movies_SC\\\\ar19tear19salin\\\\10_08_19'\n",
    "Mainfolder = 'D:\\\\rat_movies_SC\\\\ar19muscimol\\\\10_10_2019'\n",
    "Mainfolder = 'F:\\\\ar2breathing\\\\10_06_19'\n",
    "\n",
    "#text_files = [f for f in os.listdir(Mainfolder) if f.endswith('.avi') and not f.endswith('L.avi') and not f.endswith('R.avi') and not f.endswith('videopoints.avi') and not f.endswith('videopoints.avi')]\n",
    "text_files = [os.path.join(Mainfolder,f) for f in os.listdir(Mainfolder) if f.endswith('.mp4') and not f.endswith('L.avi') and not f.endswith('R.avi') and not f.endswith('videopoints.avi') and not f.endswith('videopoints.avi')]\n",
    "video = ['D:\\\\movies_Rat_SC_project\\\\ar20\\\\06_19_19\\\\18-16-44.avi']\n",
    "#video = ['D:\\\\movies_Rat_SC_project\\\\ar20\\\\06_20_19\\\\15-51-42.avi','D:\\\\movies_Rat_SC_project\\\\ar20\\\\06_19_19\\\\18-16-44.avi']\n",
    "video = ['D:\\\\movies_Rat_SC_project\\\\ar20\\\\06_20_19\\\\15-51-42.avi','D:\\\\movies_Rat_SC_project\\\\ar20\\\\06_19_19\\\\18-16-44.avi']\n",
    "\n",
    "#print(video)\n",
    "video = ['F:\\\\ar2breathing\\\\10_18_19\\\\00-16-30video.mp4']\n",
    "print(text_files[3])\n",
    "print(len(text_files))\n",
    "print(path_config_file)\n",
    "\n",
    "#deeplabcut.analyze_videos(path_config_file,text_files[1:len(text_files)],shuffle=1, save_as_csv=True)\n",
    "#deeplabcut.analyze_videos(path_config_file,text_files[3],shuffle=1, save_as_csv=True)\n",
    "deeplabcut.analyze_videos(path_config_file,text_files,shuffle=1, save_as_csv=True)"
   ]
  },
  {
   "cell_type": "code",
   "execution_count": 38,
   "metadata": {},
   "outputs": [
    {
     "name": "stdout",
     "output_type": "stream",
     "text": [
      "['D:\\\\movies_Rat_SC_project\\\\ar14\\\\06_18_19\\\\15-16-14.avi', 'D:\\\\movies_Rat_SC_project\\\\ar14\\\\06_18_19\\\\15-16-20.avi', 'D:\\\\movies_Rat_SC_project\\\\ar14\\\\06_18_19\\\\15-17-08.avi', 'D:\\\\movies_Rat_SC_project\\\\ar14\\\\06_18_19\\\\15-17-15.avi', 'D:\\\\movies_Rat_SC_project\\\\ar14\\\\06_18_19\\\\15-17-33.avi', 'D:\\\\movies_Rat_SC_project\\\\ar14\\\\06_18_19\\\\15-17-50.avi', 'D:\\\\movies_Rat_SC_project\\\\ar14\\\\06_18_19\\\\15-18-01.avi', 'D:\\\\movies_Rat_SC_project\\\\ar14\\\\06_18_19\\\\15-18-08.avi']\n"
     ]
    }
   ],
   "source": [
    "print(text_files[2:10])"
   ]
  },
  {
   "cell_type": "code",
   "execution_count": null,
   "metadata": {},
   "outputs": [],
   "source": [
    "path_config_file = 'D:\\\\rat_movies_SC\\\\ar17record\\\\02_27_19\\\\sc_ar17record_02272019_3-Fassihi-2019-04-28\\\\config.yaml'\n",
    "video=['D:\\\\rat_movies_SC\\\\ar17\\\\02_25_19\\\\22-38-53.avi']\n",
    "deeplabcut.analyze_videos(path_config_file,video,shuffle=1, save_as_csv=True)"
   ]
  },
  {
   "cell_type": "code",
   "execution_count": null,
   "metadata": {},
   "outputs": [],
   "source": [
    "import numpy\n"
   ]
  },
  {
   "cell_type": "code",
   "execution_count": null,
   "metadata": {},
   "outputs": [],
   "source": [
    "import os\n",
    "Mainfolder = 'D:\\\\rat_movies_SC\\\\ar17\\\\02_25_19'\n",
    "f2 = os.listdir(Mainfolder)\n",
    "text_files = [Mainfolder+'\\\\'+f for f in os.listdir(Mainfolder) if f.endswith('.avi') and not f.endswith('L.avi') and not f.endswith('R.avi') and not f.endswith('videopoints.avi') and not f.endswith('videopoints.avi')]\n",
    "print(text_files)\n",
    "      "
   ]
  },
  {
   "cell_type": "markdown",
   "metadata": {
    "colab_type": "text",
    "id": "iGu_PdTWoEJr"
   },
   "source": [
    "## Extract outlier frames [This is important step actually]\n",
    "This is an optional step and is used only when the evaluation results are poor i.e. the labels are incorrectly predicted. In such a case, the user can use the following function to extract frames where the labels are incorrectly predicted. Make sure to provide the correct value of the \"iterations\" as it will be used to create the unique directory where the extracted frames will be saved."
   ]
  },
  {
   "cell_type": "code",
   "execution_count": 6,
   "metadata": {},
   "outputs": [
    {
     "name": "stdout",
     "output_type": "stream",
     "text": [
      "F:\\ar2breathing\\10_06_19\\ar2_10062019_ii-Fassihi-2019-10-07\\config.yaml\n",
      "network parameters: DeepCut_resnet50_ar2_10062019_iiOct7shuffle1_55000\n",
      "Method  uncertain  found  440  putative outlier frames.\n",
      "Do you want to proceed with extracting  20  of those?\n",
      "If this list is very large, perhaps consider changing the paramters (start, stop, p_bound, comparisonbodyparts) or use a different method.\n",
      "yes/noyes\n",
      "Loading video...\n",
      "Duration of video [s]:  1200.0 , recorded @  1.0 fps!\n",
      "Overall # of frames:  1200 with (cropped) frame dimensions: \n",
      "Kmeans-quantization based extracting of frames from 0.0  seconds to 1200.0  seconds.\n",
      "Extracting and downsampling... 440  frames from the video.\n"
     ]
    },
    {
     "name": "stderr",
     "output_type": "stream",
     "text": [
      "440it [00:57,  3.08it/s]\n"
     ]
    },
    {
     "name": "stdout",
     "output_type": "stream",
     "text": [
      "Kmeans clustering ... (this might take a while)\n",
      "Let's select frames indices: [327, 1074, 351, 182, 312, 194, 270, 234, 340, 253, 221, 1131, 256, 1149, 619, 592, 658, 211, 471, 1053]\n",
      "Creating the symbolic link of the video\n",
      "AUTOMATIC ADDING OF VIDEO TO CONFIG FILE FAILED! You need to do this manually for including it in the config.yaml file!\n",
      "Videopath: F:\\ar2breathing\\10_06_19\\22-33-40video.mp4 Coordinates for cropping: None\n",
      "The outlier frames are extracted. They are stored in the subdirectory labeled-data\\22-33-40video.\n",
      "Once you extracted frames for all videos, use 'refine_labels' to manually correct the labels.\n"
     ]
    }
   ],
   "source": [
    "#video=['D:\\\\rat_movies_SC\\\\ar17record\\\\02_27_19\\\\analyzed\\\\18-37-27.avi']\n",
    "#video=['D:\\\\rat_movies_SC\\\\ar15record\\\\02_27_19\\\\17-33-50video.mp4']\n",
    "#video=['D:\\\\Dropbox\\\\ar17\\\\02_25_19\\\\22-37-23.avi']\n",
    "video = ['D:\\\\movies_Rat_SC_project\\\\ar1\\\\05_24_19\\\\11-09-14.avi']\n",
    "video = ['D:\\\\movies_Rat_SC_project\\\\ar20\\\\06_20_19\\\\17-19-45.avi','D:\\\\movies_Rat_SC_project\\\\ar20\\\\06_20_19\\\\17-31-05.avi','D:\\\\movies_Rat_SC_project\\\\ar20\\\\06_20_19\\\\17-30-40.avi']\n",
    "#15-17-08v\n",
    "video = ['D:\\\\rat_movies_SC\\\\ar19tear19salin\\\\10_08_19\\\\00-27-18.avi','D:\\\\rat_movies_SC\\\\ar19tear19salin\\\\10_08_19\\\\00-24-47.avi']\n",
    "video = ['D:\\\\rat_movies_SC\\\\ar19tear19salin\\\\10_08_19\\\\00-24-26video.mp4']\n",
    "video = ['F:\\\\ar2breathing\\\\10_06_19\\\\22-33-40video.mp4']\n",
    "\n",
    "#path_config_file = 'D:\\\\rat_movies_SC\\\\ar17record\\\\02_27_19\\\\sc_ar17record_02272019_3-Fassihi-2019-04-28\\\\config.yaml'\n",
    "#path_config_file = 'D:\\\\rat_movies_SC\\\\ar15record\\\\02_27_19\\\\sc_ar15record_02272019-Fassihi-2019-03-12\\\\config.yaml'\n",
    "#path_config_file = 'D:\\\\movies_Rat_SC_project\\\\ar1\\\\05_24_19\\\\sc_aa1_05242019-Fassihi-2019-05-30\\\\config.yaml' #Enter the path of the config file that was just created from the above step (check the folder)\n",
    "#path_config_file = 'D:\\\\movies_Rat_SC_project\\\\ar3\\\\06_07_19\\\\sc_aa3_06072019-Fassihi-2019-06-10\\\\config.yaml' #Enter the path of the config file that was just created from the above step (check the folder)\n",
    "#path_config_file = 'D:\\\\movies_Rat_SC_project\\\\ar14\\\\06_18_19\\\\sc_ar14_06182019-Fassihi-2019-06-19\\\\config.yaml' #Enter the path of the config file that was just created from the above step (check the folder)\n",
    "print(path_config_file)\n",
    "\n",
    "#deeplabcut.extract_outlier_frames(path_config_file,video,outlieralgorithm='uncertain',p_bound=.6)\n",
    "deeplabcut.extract_outlier_frames(path_config_file,video,outlieralgorithm='uncertain',comparisonbodyparts =  ['nose','snout'],p_bound=.6)"
   ]
  },
  {
   "cell_type": "code",
   "execution_count": 12,
   "metadata": {},
   "outputs": [
    {
     "name": "stdout",
     "output_type": "stream",
     "text": [
      "D:\\movies_Rat_SC_project\\ar20\\06_20_19\\17-30-40avi\n"
     ]
    }
   ],
   "source": [
    "print(video[2])\n"
   ]
  },
  {
   "cell_type": "code",
   "execution_count": 4,
   "metadata": {
    "colab": {},
    "colab_type": "code",
    "id": "gkbaBOJVoEJs"
   },
   "outputs": [
    {
     "ename": "FileNotFoundError",
     "evalue": "[WinError 3] The system cannot find the path specified: 'D:\\\\rat_movies_SC\\\\ar19\\\\02_07_19'",
     "output_type": "error",
     "traceback": [
      "\u001b[1;31m---------------------------------------------------------------------------\u001b[0m",
      "\u001b[1;31mFileNotFoundError\u001b[0m                         Traceback (most recent call last)",
      "\u001b[1;32m<ipython-input-4-b91127c43abf>\u001b[0m in \u001b[0;36m<module>\u001b[1;34m()\u001b[0m\n\u001b[0;32m      6\u001b[0m \u001b[1;33m\u001b[0m\u001b[0m\n\u001b[0;32m      7\u001b[0m \u001b[1;33m\u001b[0m\u001b[0m\n\u001b[1;32m----> 8\u001b[1;33m \u001b[0mf\u001b[0m \u001b[1;33m=\u001b[0m \u001b[0mos\u001b[0m\u001b[1;33m.\u001b[0m\u001b[0mlistdir\u001b[0m\u001b[1;33m(\u001b[0m\u001b[0mMainfolder\u001b[0m\u001b[1;33m)\u001b[0m\u001b[1;33m\u001b[0m\u001b[1;33m\u001b[0m\u001b[0m\n\u001b[0m\u001b[0;32m      9\u001b[0m \u001b[0mtext_files\u001b[0m \u001b[1;33m=\u001b[0m \u001b[1;33m[\u001b[0m\u001b[0mf\u001b[0m \u001b[1;32mfor\u001b[0m \u001b[0mf\u001b[0m \u001b[1;32min\u001b[0m \u001b[0mos\u001b[0m\u001b[1;33m.\u001b[0m\u001b[0mlistdir\u001b[0m\u001b[1;33m(\u001b[0m\u001b[0mMainfolder\u001b[0m\u001b[1;33m)\u001b[0m \u001b[1;32mif\u001b[0m \u001b[0mf\u001b[0m\u001b[1;33m.\u001b[0m\u001b[0mendswith\u001b[0m\u001b[1;33m(\u001b[0m\u001b[1;34m'.avi'\u001b[0m\u001b[1;33m)\u001b[0m\u001b[1;33m]\u001b[0m\u001b[1;33m\u001b[0m\u001b[1;33m\u001b[0m\u001b[0m\n\u001b[0;32m     10\u001b[0m \u001b[1;33m\u001b[0m\u001b[0m\n",
      "\u001b[1;31mFileNotFoundError\u001b[0m: [WinError 3] The system cannot find the path specified: 'D:\\\\rat_movies_SC\\\\ar19\\\\02_07_19'"
     ]
    }
   ],
   "source": [
    "\n",
    "path_config_file = 'D:\\\\rat_movies_SC\\\\ar19\\\\02_07_19\\\\sc_ar19_02072019-Fassihi4-2019-02-13\\\\config.yaml' #Enter the path of the config file that was just created from the above step (check the folder)\n",
    "\n",
    "import os\n",
    "Mainfolder = 'D:\\\\rat_movies_SC\\\\ar19\\\\02_07_19'\n",
    "\n",
    "\n",
    "f = os.listdir(Mainfolder)\n",
    "text_files = [f for f in os.listdir(Mainfolder) if f.endswith('.avi')]\n",
    "\n",
    "\n",
    "my_list = text_files\n",
    "thisApen = Mainfolder+'kir'\n",
    "thisApen = thisApen.replace(\"kir\", \"\\\\\")\n",
    "string = thisApen\n",
    "my_new_list = [ string + x for x in my_list]\n",
    "\n",
    "deeplabcut.extract_outlier_frames(path_config_file,my_new_list)"
   ]
  },
  {
   "cell_type": "markdown",
   "metadata": {
    "colab_type": "text",
    "id": "8ib0uvhaoEJx"
   },
   "source": [
    "## Refine Labels [optional step]\n",
    "Following the extraction of outlier frames, the user can use the following function to move the predicted labels to the correct location. Thus augmenting the training dataset."
   ]
  },
  {
   "cell_type": "code",
   "execution_count": 7,
   "metadata": {
    "colab": {},
    "colab_type": "code",
    "id": "n_FpEXtyoEJy"
   },
   "outputs": [
    {
     "name": "stderr",
     "output_type": "stream",
     "text": [
      "ERROR:root:Cannot activate multiple GUI eventloops\n"
     ]
    },
    {
     "name": "stdout",
     "output_type": "stream",
     "text": [
      "Windows\n",
      "Checking labels if they are outside the image\n",
      "Windows\n",
      "Checking labels if they are outside the image\n",
      "Closing... The refined labels are stored in a subdirectory under labeled-data. Use the function 'merge_datasets' to augment the training dataset, and then re-train a network using create_training_dataset followed by train_network!\n"
     ]
    }
   ],
   "source": [
    "#path_config_file = 'D:\\\\movies_Rat_SC_project\\\\ar1\\\\05_24_19\\\\sc_aa1_05242019-Fassihi-2019-05-30\\\\config.yaml' #Enter the path of the config file that was just created from the above step (check the folder)\n",
    "#path_config_file = 'D:\\\\movies_Rat_SC_project\\\\ar3\\\\06_07_19\\\\sc_aa3_06072019-Fassihi-2019-06-10\\\\config.yaml' #Enter the path of the config file that was just created from the above step (check the folder)\n",
    "\n",
    "#import matplotlib\n",
    "#print(matplotlib.__version__)\n",
    "%gui wx\n",
    "#path_config_file = 'D:\\\\rat_movies_SC\\\\ar15record\\\\02_27_19\\\\sc_ar15record_02272019-Fassihi-2019-03-12\\\\config.yaml'\n",
    "#print(path_config_file)\n",
    "deeplabcut.refine_labels(path_config_file)"
   ]
  },
  {
   "cell_type": "code",
   "execution_count": 8,
   "metadata": {
    "colab": {},
    "colab_type": "code",
    "id": "CHzstWr8oEJ2"
   },
   "outputs": [
    {
     "name": "stdout",
     "output_type": "stream",
     "text": [
      "Merged data sets and updated refinement iteration to 1.\n",
      "Now you can create a new training set for the expanded annotated images (use create_training_dataset).\n"
     ]
    }
   ],
   "source": [
    "#Once all folders are relabeled, check them and advance. See how to check labels, above!\n",
    "#path_config_file = 'D:\\\\movies_Rat_SC_project\\\\ar1\\\\05_24_19\\\\sc_aa1_05242019-Fassihi-2019-05-30\\\\config.yaml' #Enter the path of the config file that was just created from the above step (check the folder)\n",
    "#path_config_file = 'D:\\\\movies_Rat_SC_project\\\\ar3\\\\06_07_19\\\\sc_aa3_06072019-Fassihi-2019-06-10\\\\config.yaml' #Enter the path of the config file that was just created from the above step (check the folder)\n",
    "\n",
    "deeplabcut.merge_datasets(path_config_file)"
   ]
  },
  {
   "cell_type": "markdown",
   "metadata": {
    "colab_type": "text",
    "id": "QCHj7qyboEJ6"
   },
   "source": [
    "## Create a new iteration of training dataset [optional step]\n",
    "Following the refine labels, append these frames to the original dataset to create a new iteration of training dataset."
   ]
  },
  {
   "cell_type": "code",
   "execution_count": 9,
   "metadata": {
    "colab": {},
    "colab_type": "code",
    "id": "ytQoxIldoEJ7"
   },
   "outputs": [
    {
     "name": "stdout",
     "output_type": "stream",
     "text": [
      "[0, 1]\n",
      "The training dataset is successfully created. Use the function 'train_network' to start training. Happy training!\n",
      "The training dataset is successfully created. Use the function 'train_network' to start training. Happy training!\n"
     ]
    }
   ],
   "source": [
    "list_of_ints = list(range(2))\n",
    "print(list_of_ints)\n",
    "deeplabcut.create_training_dataset(path_config_file,Shuffles= list_of_ints) ;"
   ]
  },
  {
   "cell_type": "markdown",
   "metadata": {
    "colab_type": "text",
    "id": "pCrUvQIvoEKD"
   },
   "source": [
    "## Create labeled video\n",
    "This funtion is for visualiztion purpose and can be used to create a video in .mp4 format with labels predicted by the network. This video is saved in the same directory where the original video resides. "
   ]
  },
  {
   "cell_type": "code",
   "execution_count": 13,
   "metadata": {
    "colab": {},
    "colab_type": "code",
    "id": "6aDF7Q7KoEKE",
    "scrolled": true
   },
   "outputs": [
    {
     "name": "stdout",
     "output_type": "stream",
     "text": [
      "F:\\ar2breathing\\10_18_19\\ar2breathing10_18_19-Fassihi-2019-12-16\\config.yaml\n",
      "Starting %  F:\\ar2breathing\\10_18_19 ['F:\\\\ar2breathing\\\\10_18_19\\\\00-16-30video.mp4']\n",
      "Loading  F:\\ar2breathing\\10_18_19\\00-16-30video.mp4 and data.\n",
      "False 0 1024 0 390\n",
      "1200\n",
      "Duration of video [s]:  1200.0 , recorded with  1.0 fps!\n",
      "Overall # of frames:  1200 with cropped frame dimensions:  1024 390\n",
      "Generating frames and creating video.\n"
     ]
    },
    {
     "name": "stderr",
     "output_type": "stream",
     "text": [
      " 49%|██████████████████████████████████████▊                                        | 589/1200 [01:47<02:32,  4.00it/s]"
     ]
    },
    {
     "ename": "KeyboardInterrupt",
     "evalue": "",
     "output_type": "error",
     "traceback": [
      "\u001b[1;31m---------------------------------------------------------------------------\u001b[0m",
      "\u001b[1;31mKeyboardInterrupt\u001b[0m                         Traceback (most recent call last)",
      "\u001b[1;32m<ipython-input-13-732b49390e2f>\u001b[0m in \u001b[0;36m<module>\u001b[1;34m()\u001b[0m\n\u001b[0;32m      3\u001b[0m \u001b[0mvideofile\u001b[0m \u001b[1;33m=\u001b[0m \u001b[1;33m[\u001b[0m\u001b[1;34m'F:\\\\ar2breathing\\\\10_18_19\\\\00-16-30video.mp4'\u001b[0m\u001b[1;33m]\u001b[0m\u001b[1;33m\u001b[0m\u001b[1;33m\u001b[0m\u001b[0m\n\u001b[0;32m      4\u001b[0m \u001b[1;33m\u001b[0m\u001b[0m\n\u001b[1;32m----> 5\u001b[1;33m \u001b[0mdeeplabcut\u001b[0m\u001b[1;33m.\u001b[0m\u001b[0mcreate_labeled_video\u001b[0m\u001b[1;33m(\u001b[0m\u001b[0mpath_config_file\u001b[0m\u001b[1;33m,\u001b[0m\u001b[0mvideofile\u001b[0m\u001b[1;33m,\u001b[0m\u001b[0msave_frames\u001b[0m\u001b[1;33m=\u001b[0m\u001b[1;32mTrue\u001b[0m\u001b[1;33m)\u001b[0m \u001b[1;31m# my_new_list was created in prevouse cell as all videos in the folder\u001b[0m\u001b[1;33m\u001b[0m\u001b[1;33m\u001b[0m\u001b[0m\n\u001b[0m\u001b[0;32m      6\u001b[0m \u001b[1;31m#deeplabcut.create_labeled_video(path_config_file,text_files,save_frames=True) # my_new_list was created in prevouse cell as all videos in the folder\u001b[0m\u001b[1;33m\u001b[0m\u001b[1;33m\u001b[0m\u001b[1;33m\u001b[0m\u001b[0m\n",
      "\u001b[1;32mC:\\Users\\Arash\\Anaconda3\\envs\\dlc-windowsGPU\\lib\\site-packages\\deeplabcut\\utils\\make_labeled_video.py\u001b[0m in \u001b[0;36mcreate_labeled_video\u001b[1;34m(config, videos, videotype, shuffle, trainingsetindex, filtered, save_frames, Frames2plot, delete, displayedbodyparts, codec, outputframerate, destfolder)\u001b[0m\n\u001b[0;32m    327\u001b[0m                     \u001b[0mclip\u001b[0m \u001b[1;33m=\u001b[0m \u001b[0mvp\u001b[0m\u001b[1;33m(\u001b[0m\u001b[0mvideo\u001b[0m\u001b[1;33m)\u001b[0m\u001b[1;33m\u001b[0m\u001b[1;33m\u001b[0m\u001b[0m\n\u001b[0;32m    328\u001b[0m                     \u001b[1;31m#CreateVideoSlow(clip,Dataframe,tmpfolder,cfg[\"dotsize\"],cfg[\"colormap\"],cfg[\"alphavalue\"],cfg[\"pcutoff\"],cfg[\"cropping\"],cfg[\"x1\"],cfg[\"x2\"],cfg[\"y1\"],cfg[\"y2\"],delete,DLCscorer,bodyparts)\u001b[0m\u001b[1;33m\u001b[0m\u001b[1;33m\u001b[0m\u001b[1;33m\u001b[0m\u001b[0m\n\u001b[1;32m--> 329\u001b[1;33m                     \u001b[0mCreateVideoSlow\u001b[0m\u001b[1;33m(\u001b[0m\u001b[0mvideooutname\u001b[0m\u001b[1;33m,\u001b[0m\u001b[0mclip\u001b[0m\u001b[1;33m,\u001b[0m\u001b[0mDataframe\u001b[0m\u001b[1;33m,\u001b[0m\u001b[0mtmpfolder\u001b[0m\u001b[1;33m,\u001b[0m\u001b[0mcfg\u001b[0m\u001b[1;33m[\u001b[0m\u001b[1;34m\"dotsize\"\u001b[0m\u001b[1;33m]\u001b[0m\u001b[1;33m,\u001b[0m\u001b[0mcfg\u001b[0m\u001b[1;33m[\u001b[0m\u001b[1;34m\"colormap\"\u001b[0m\u001b[1;33m]\u001b[0m\u001b[1;33m,\u001b[0m\u001b[0mcfg\u001b[0m\u001b[1;33m[\u001b[0m\u001b[1;34m\"alphavalue\"\u001b[0m\u001b[1;33m]\u001b[0m\u001b[1;33m,\u001b[0m\u001b[0mcfg\u001b[0m\u001b[1;33m[\u001b[0m\u001b[1;34m\"pcutoff\"\u001b[0m\u001b[1;33m]\u001b[0m\u001b[1;33m,\u001b[0m\u001b[0mcropping\u001b[0m\u001b[1;33m,\u001b[0m\u001b[0mx1\u001b[0m\u001b[1;33m,\u001b[0m\u001b[0mx2\u001b[0m\u001b[1;33m,\u001b[0m\u001b[0my1\u001b[0m\u001b[1;33m,\u001b[0m\u001b[0my2\u001b[0m\u001b[1;33m,\u001b[0m\u001b[0mdelete\u001b[0m\u001b[1;33m,\u001b[0m\u001b[0mDLCscorer\u001b[0m\u001b[1;33m,\u001b[0m\u001b[0mbodyparts\u001b[0m\u001b[1;33m,\u001b[0m\u001b[0moutputframerate\u001b[0m\u001b[1;33m,\u001b[0m\u001b[0mFrames2plot\u001b[0m\u001b[1;33m)\u001b[0m\u001b[1;33m\u001b[0m\u001b[1;33m\u001b[0m\u001b[0m\n\u001b[0m\u001b[0;32m    330\u001b[0m                 \u001b[1;32melse\u001b[0m\u001b[1;33m:\u001b[0m\u001b[1;33m\u001b[0m\u001b[1;33m\u001b[0m\u001b[0m\n\u001b[0;32m    331\u001b[0m                     \u001b[0mclip\u001b[0m \u001b[1;33m=\u001b[0m \u001b[0mvp\u001b[0m\u001b[1;33m(\u001b[0m\u001b[0mfname\u001b[0m \u001b[1;33m=\u001b[0m \u001b[0mvideo\u001b[0m\u001b[1;33m,\u001b[0m\u001b[0msname\u001b[0m \u001b[1;33m=\u001b[0m \u001b[0mvideooutname\u001b[0m\u001b[1;33m,\u001b[0m\u001b[0mcodec\u001b[0m\u001b[1;33m=\u001b[0m\u001b[0mcodec\u001b[0m\u001b[1;33m)\u001b[0m\u001b[1;33m\u001b[0m\u001b[1;33m\u001b[0m\u001b[0m\n",
      "\u001b[1;32mC:\\Users\\Arash\\Anaconda3\\envs\\dlc-windowsGPU\\lib\\site-packages\\deeplabcut\\utils\\make_labeled_video.py\u001b[0m in \u001b[0;36mCreateVideoSlow\u001b[1;34m(videooutname, clip, Dataframe, tmpfolder, dotsize, colormap, alphavalue, pcutoff, cropping, x1, x2, y1, y2, delete, DLCscorer, bodyparts2plot, outputframerate, Frames2plot)\u001b[0m\n\u001b[0;32m    145\u001b[0m                 \u001b[0mplt\u001b[0m\u001b[1;33m.\u001b[0m\u001b[0mfigure\u001b[0m\u001b[1;33m(\u001b[0m\u001b[0mframeon\u001b[0m\u001b[1;33m=\u001b[0m\u001b[1;32mFalse\u001b[0m\u001b[1;33m,\u001b[0m \u001b[0mfigsize\u001b[0m\u001b[1;33m=\u001b[0m\u001b[1;33m(\u001b[0m\u001b[0mnx\u001b[0m \u001b[1;33m*\u001b[0m \u001b[1;36m1.\u001b[0m \u001b[1;33m/\u001b[0m \u001b[1;36m100\u001b[0m\u001b[1;33m,\u001b[0m \u001b[0mny\u001b[0m \u001b[1;33m*\u001b[0m \u001b[1;36m1.\u001b[0m \u001b[1;33m/\u001b[0m \u001b[1;36m100\u001b[0m\u001b[1;33m)\u001b[0m\u001b[1;33m)\u001b[0m\u001b[1;33m\u001b[0m\u001b[1;33m\u001b[0m\u001b[0m\n\u001b[0;32m    146\u001b[0m                 \u001b[0mplt\u001b[0m\u001b[1;33m.\u001b[0m\u001b[0msubplots_adjust\u001b[0m\u001b[1;33m(\u001b[0m\u001b[0mleft\u001b[0m\u001b[1;33m=\u001b[0m\u001b[1;36m0\u001b[0m\u001b[1;33m,\u001b[0m \u001b[0mbottom\u001b[0m\u001b[1;33m=\u001b[0m\u001b[1;36m0\u001b[0m\u001b[1;33m,\u001b[0m \u001b[0mright\u001b[0m\u001b[1;33m=\u001b[0m\u001b[1;36m1\u001b[0m\u001b[1;33m,\u001b[0m \u001b[0mtop\u001b[0m\u001b[1;33m=\u001b[0m\u001b[1;36m1\u001b[0m\u001b[1;33m,\u001b[0m \u001b[0mwspace\u001b[0m\u001b[1;33m=\u001b[0m\u001b[1;36m0\u001b[0m\u001b[1;33m,\u001b[0m \u001b[0mhspace\u001b[0m\u001b[1;33m=\u001b[0m\u001b[1;36m0\u001b[0m\u001b[1;33m)\u001b[0m\u001b[1;33m\u001b[0m\u001b[1;33m\u001b[0m\u001b[0m\n\u001b[1;32m--> 147\u001b[1;33m                 \u001b[0mplt\u001b[0m\u001b[1;33m.\u001b[0m\u001b[0mimshow\u001b[0m\u001b[1;33m(\u001b[0m\u001b[0mimage\u001b[0m\u001b[1;33m)\u001b[0m\u001b[1;33m\u001b[0m\u001b[1;33m\u001b[0m\u001b[0m\n\u001b[0m\u001b[0;32m    148\u001b[0m \u001b[1;33m\u001b[0m\u001b[0m\n\u001b[0;32m    149\u001b[0m                 \u001b[1;32mfor\u001b[0m \u001b[0mbpindex\u001b[0m\u001b[1;33m,\u001b[0m \u001b[0mbp\u001b[0m \u001b[1;32min\u001b[0m \u001b[0menumerate\u001b[0m\u001b[1;33m(\u001b[0m\u001b[0mbodyparts2plot\u001b[0m\u001b[1;33m)\u001b[0m\u001b[1;33m:\u001b[0m\u001b[1;33m\u001b[0m\u001b[1;33m\u001b[0m\u001b[0m\n",
      "\u001b[1;32mC:\\Users\\Arash\\Anaconda3\\envs\\dlc-windowsGPU\\lib\\site-packages\\matplotlib\\pyplot.py\u001b[0m in \u001b[0;36mimshow\u001b[1;34m(X, cmap, norm, aspect, interpolation, alpha, vmin, vmax, origin, extent, shape, filternorm, filterrad, imlim, resample, url, data, **kwargs)\u001b[0m\n\u001b[0;32m   2697\u001b[0m         \u001b[0mfilternorm\u001b[0m\u001b[1;33m=\u001b[0m\u001b[0mfilternorm\u001b[0m\u001b[1;33m,\u001b[0m \u001b[0mfilterrad\u001b[0m\u001b[1;33m=\u001b[0m\u001b[0mfilterrad\u001b[0m\u001b[1;33m,\u001b[0m \u001b[0mimlim\u001b[0m\u001b[1;33m=\u001b[0m\u001b[0mimlim\u001b[0m\u001b[1;33m,\u001b[0m\u001b[1;33m\u001b[0m\u001b[1;33m\u001b[0m\u001b[0m\n\u001b[0;32m   2698\u001b[0m         resample=resample, url=url, **({\"data\": data} if data is not\n\u001b[1;32m-> 2699\u001b[1;33m         None else {}), **kwargs)\n\u001b[0m\u001b[0;32m   2700\u001b[0m     \u001b[0msci\u001b[0m\u001b[1;33m(\u001b[0m\u001b[0m__ret\u001b[0m\u001b[1;33m)\u001b[0m\u001b[1;33m\u001b[0m\u001b[1;33m\u001b[0m\u001b[0m\n\u001b[0;32m   2701\u001b[0m     \u001b[1;32mreturn\u001b[0m \u001b[0m__ret\u001b[0m\u001b[1;33m\u001b[0m\u001b[1;33m\u001b[0m\u001b[0m\n",
      "\u001b[1;32mC:\\Users\\Arash\\Anaconda3\\envs\\dlc-windowsGPU\\lib\\site-packages\\matplotlib\\__init__.py\u001b[0m in \u001b[0;36minner\u001b[1;34m(ax, data, *args, **kwargs)\u001b[0m\n\u001b[0;32m   1808\u001b[0m                         \u001b[1;34m\"the Matplotlib list!)\"\u001b[0m \u001b[1;33m%\u001b[0m \u001b[1;33m(\u001b[0m\u001b[0mlabel_namer\u001b[0m\u001b[1;33m,\u001b[0m \u001b[0mfunc\u001b[0m\u001b[1;33m.\u001b[0m\u001b[0m__name__\u001b[0m\u001b[1;33m)\u001b[0m\u001b[1;33m,\u001b[0m\u001b[1;33m\u001b[0m\u001b[1;33m\u001b[0m\u001b[0m\n\u001b[0;32m   1809\u001b[0m                         RuntimeWarning, stacklevel=2)\n\u001b[1;32m-> 1810\u001b[1;33m             \u001b[1;32mreturn\u001b[0m \u001b[0mfunc\u001b[0m\u001b[1;33m(\u001b[0m\u001b[0max\u001b[0m\u001b[1;33m,\u001b[0m \u001b[1;33m*\u001b[0m\u001b[0margs\u001b[0m\u001b[1;33m,\u001b[0m \u001b[1;33m**\u001b[0m\u001b[0mkwargs\u001b[0m\u001b[1;33m)\u001b[0m\u001b[1;33m\u001b[0m\u001b[1;33m\u001b[0m\u001b[0m\n\u001b[0m\u001b[0;32m   1811\u001b[0m \u001b[1;33m\u001b[0m\u001b[0m\n\u001b[0;32m   1812\u001b[0m         inner.__doc__ = _add_data_doc(inner.__doc__,\n",
      "\u001b[1;32mC:\\Users\\Arash\\Anaconda3\\envs\\dlc-windowsGPU\\lib\\site-packages\\matplotlib\\axes\\_axes.py\u001b[0m in \u001b[0;36mimshow\u001b[1;34m(self, X, cmap, norm, aspect, interpolation, alpha, vmin, vmax, origin, extent, shape, filternorm, filterrad, imlim, resample, url, **kwargs)\u001b[0m\n\u001b[0;32m   5492\u001b[0m                               resample=resample, **kwargs)\n\u001b[0;32m   5493\u001b[0m \u001b[1;33m\u001b[0m\u001b[0m\n\u001b[1;32m-> 5494\u001b[1;33m         \u001b[0mim\u001b[0m\u001b[1;33m.\u001b[0m\u001b[0mset_data\u001b[0m\u001b[1;33m(\u001b[0m\u001b[0mX\u001b[0m\u001b[1;33m)\u001b[0m\u001b[1;33m\u001b[0m\u001b[1;33m\u001b[0m\u001b[0m\n\u001b[0m\u001b[0;32m   5495\u001b[0m         \u001b[0mim\u001b[0m\u001b[1;33m.\u001b[0m\u001b[0mset_alpha\u001b[0m\u001b[1;33m(\u001b[0m\u001b[0malpha\u001b[0m\u001b[1;33m)\u001b[0m\u001b[1;33m\u001b[0m\u001b[1;33m\u001b[0m\u001b[0m\n\u001b[0;32m   5496\u001b[0m         \u001b[1;32mif\u001b[0m \u001b[0mim\u001b[0m\u001b[1;33m.\u001b[0m\u001b[0mget_clip_path\u001b[0m\u001b[1;33m(\u001b[0m\u001b[1;33m)\u001b[0m \u001b[1;32mis\u001b[0m \u001b[1;32mNone\u001b[0m\u001b[1;33m:\u001b[0m\u001b[1;33m\u001b[0m\u001b[1;33m\u001b[0m\u001b[0m\n",
      "\u001b[1;32mC:\\Users\\Arash\\Anaconda3\\envs\\dlc-windowsGPU\\lib\\site-packages\\matplotlib\\image.py\u001b[0m in \u001b[0;36mset_data\u001b[1;34m(self, A)\u001b[0m\n\u001b[0;32m    628\u001b[0m         \u001b[0mA\u001b[0m \u001b[1;33m:\u001b[0m \u001b[0marray\u001b[0m\u001b[1;33m-\u001b[0m\u001b[0mlike\u001b[0m\u001b[1;33m\u001b[0m\u001b[1;33m\u001b[0m\u001b[0m\n\u001b[0;32m    629\u001b[0m         \"\"\"\n\u001b[1;32m--> 630\u001b[1;33m         \u001b[0mself\u001b[0m\u001b[1;33m.\u001b[0m\u001b[0m_A\u001b[0m \u001b[1;33m=\u001b[0m \u001b[0mcbook\u001b[0m\u001b[1;33m.\u001b[0m\u001b[0msafe_masked_invalid\u001b[0m\u001b[1;33m(\u001b[0m\u001b[0mA\u001b[0m\u001b[1;33m,\u001b[0m \u001b[0mcopy\u001b[0m\u001b[1;33m=\u001b[0m\u001b[1;32mTrue\u001b[0m\u001b[1;33m)\u001b[0m\u001b[1;33m\u001b[0m\u001b[1;33m\u001b[0m\u001b[0m\n\u001b[0m\u001b[0;32m    631\u001b[0m \u001b[1;33m\u001b[0m\u001b[0m\n\u001b[0;32m    632\u001b[0m         if (self._A.dtype != np.uint8 and\n",
      "\u001b[1;32mC:\\Users\\Arash\\Anaconda3\\envs\\dlc-windowsGPU\\lib\\site-packages\\matplotlib\\cbook\\__init__.py\u001b[0m in \u001b[0;36msafe_masked_invalid\u001b[1;34m(x, copy)\u001b[0m\n\u001b[0;32m    791\u001b[0m \u001b[1;33m\u001b[0m\u001b[0m\n\u001b[0;32m    792\u001b[0m     \u001b[1;32mtry\u001b[0m\u001b[1;33m:\u001b[0m\u001b[1;33m\u001b[0m\u001b[1;33m\u001b[0m\u001b[0m\n\u001b[1;32m--> 793\u001b[1;33m         \u001b[0mxm\u001b[0m \u001b[1;33m=\u001b[0m \u001b[0mnp\u001b[0m\u001b[1;33m.\u001b[0m\u001b[0mma\u001b[0m\u001b[1;33m.\u001b[0m\u001b[0mmasked_invalid\u001b[0m\u001b[1;33m(\u001b[0m\u001b[0mx\u001b[0m\u001b[1;33m,\u001b[0m \u001b[0mcopy\u001b[0m\u001b[1;33m=\u001b[0m\u001b[1;32mFalse\u001b[0m\u001b[1;33m)\u001b[0m\u001b[1;33m\u001b[0m\u001b[1;33m\u001b[0m\u001b[0m\n\u001b[0m\u001b[0;32m    794\u001b[0m         \u001b[0mxm\u001b[0m\u001b[1;33m.\u001b[0m\u001b[0mshrink_mask\u001b[0m\u001b[1;33m(\u001b[0m\u001b[1;33m)\u001b[0m\u001b[1;33m\u001b[0m\u001b[1;33m\u001b[0m\u001b[0m\n\u001b[0;32m    795\u001b[0m     \u001b[1;32mexcept\u001b[0m \u001b[0mTypeError\u001b[0m\u001b[1;33m:\u001b[0m\u001b[1;33m\u001b[0m\u001b[1;33m\u001b[0m\u001b[0m\n",
      "\u001b[1;32mC:\\Users\\Arash\\Anaconda3\\envs\\dlc-windowsGPU\\lib\\site-packages\\numpy\\ma\\core.py\u001b[0m in \u001b[0;36mmasked_invalid\u001b[1;34m(a, copy)\u001b[0m\n\u001b[0;32m   2364\u001b[0m         \u001b[0mcls\u001b[0m \u001b[1;33m=\u001b[0m \u001b[0mtype\u001b[0m\u001b[1;33m(\u001b[0m\u001b[0ma\u001b[0m\u001b[1;33m)\u001b[0m\u001b[1;33m\u001b[0m\u001b[1;33m\u001b[0m\u001b[0m\n\u001b[0;32m   2365\u001b[0m     \u001b[1;32melse\u001b[0m\u001b[1;33m:\u001b[0m\u001b[1;33m\u001b[0m\u001b[1;33m\u001b[0m\u001b[0m\n\u001b[1;32m-> 2366\u001b[1;33m         \u001b[0mcondition\u001b[0m \u001b[1;33m=\u001b[0m \u001b[1;33m~\u001b[0m\u001b[1;33m(\u001b[0m\u001b[0mnp\u001b[0m\u001b[1;33m.\u001b[0m\u001b[0misfinite\u001b[0m\u001b[1;33m(\u001b[0m\u001b[0ma\u001b[0m\u001b[1;33m)\u001b[0m\u001b[1;33m)\u001b[0m\u001b[1;33m\u001b[0m\u001b[1;33m\u001b[0m\u001b[0m\n\u001b[0m\u001b[0;32m   2367\u001b[0m         \u001b[0mcls\u001b[0m \u001b[1;33m=\u001b[0m \u001b[0mMaskedArray\u001b[0m\u001b[1;33m\u001b[0m\u001b[1;33m\u001b[0m\u001b[0m\n\u001b[0;32m   2368\u001b[0m     \u001b[0mresult\u001b[0m \u001b[1;33m=\u001b[0m \u001b[0ma\u001b[0m\u001b[1;33m.\u001b[0m\u001b[0mview\u001b[0m\u001b[1;33m(\u001b[0m\u001b[0mcls\u001b[0m\u001b[1;33m)\u001b[0m\u001b[1;33m\u001b[0m\u001b[1;33m\u001b[0m\u001b[0m\n",
      "\u001b[1;31mKeyboardInterrupt\u001b[0m: "
     ]
    },
    {
     "data": {
      "image/png": "[encoded data removed]",
      "text/plain": [
       "<Figure size 432x288 with 1 Axes>"
      ]
     },
     "metadata": {
      "needs_background": "light"
     },
     "output_type": "display_data"
    },
    {
     "data": {
      "image/png": "[encoded data removed]",
      "text/plain": [
       "<Figure size 737.28x280.8 with 1 Axes>"
      ]
     },
     "metadata": {
      "needs_background": "light"
     },
     "output_type": "display_data"
    }
   ],
   "source": [
    "print(path_config_file)\n",
    "videofile  = ['D:\\\\rat_movies_SC\\\\ar19tear19salin\\\\10_08_19\\\\00-24-02.avi','D:\\\\rat_movies_SC\\\\ar19tear19salin\\\\10_08_19\\\\00-24-47.avi']\n",
    "videofile = ['F:\\\\ar2breathing\\\\10_18_19\\\\00-16-30video.mp4']\n",
    "\n",
    "deeplabcut.create_labeled_video(path_config_file,videofile,save_frames=True) # my_new_list was created in prevouse cell as all videos in the folder \n",
    "#deeplabcut.create_labeled_video(path_config_file,text_files,save_frames=True) # my_new_list was created in prevouse cell as all videos in the folder "
   ]
  },
  {
   "cell_type": "markdown",
   "metadata": {
    "colab_type": "text",
    "id": "8GTiuJESoEKH"
   },
   "source": [
    "## Plot the trajectories of the analyzed videos (optional)\n",
    "This function plots the trajectories of all the body parts across the entire video. Each body part is identified by a unique color."
   ]
  },
  {
   "cell_type": "code",
   "execution_count": null,
   "metadata": {
    "colab": {},
    "colab_type": "code",
    "id": "gX21zZbXoEKJ"
   },
   "outputs": [],
   "source": [
    "%matplotlib notebook #for making interactive plots.\n",
    "deeplabcut.plot_trajectories(path_config_file,my_new_list)\n",
    "\n"
   ]
  }
 ],
 "metadata": {
  "accelerator": "GPU",
  "colab": {
   "name": "Demo-yourowndata.ipynb",
   "provenance": [],
   "version": "0.3.2"
  },
  "kernelspec": {
   "display_name": "Python 3",
   "language": "python",
   "name": "python3"
  },
  "language_info": {
   "codemirror_mode": {
    "name": "ipython",
    "version": 3
   },
   "file_extension": ".py",
   "mimetype": "text/x-python",
   "name": "python",
   "nbconvert_exporter": "python",
   "pygments_lexer": "ipython3",
   "version": "3.6.8"
  },
  "varInspector": {
   "cols": {
    "lenName": 16,
    "lenType": 16,
    "lenVar": 40
   },
   "kernels_config": {
    "python": {
     "delete_cmd_postfix": "",
     "delete_cmd_prefix": "del ",
     "library": "var_list.py",
     "varRefreshCmd": "print(var_dic_list())"
    },
    "r": {
     "delete_cmd_postfix": ") ",
     "delete_cmd_prefix": "rm(",
     "library": "var_list.r",
     "varRefreshCmd": "cat(var_dic_list()) "
    }
   },
   "types_to_exclude": [
    "module",
    "function",
    "builtin_function_or_method",
    "instance",
    "_Feature"
   ],
   "window_display": false
  }
 },
 "nbformat": 4,
 "nbformat_minor": 1
}
