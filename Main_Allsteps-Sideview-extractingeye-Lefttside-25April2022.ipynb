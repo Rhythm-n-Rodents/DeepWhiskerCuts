{
 "cells": [
  {
   "cell_type": "markdown",
   "metadata": {},
   "source": [
    "## first step is to make movies and lighttime out of single images "
   ]
  },
  {
   "cell_type": "code",
   "execution_count": 8,
   "metadata": {},
   "outputs": [],
   "source": [
    "# enter the folder name \n",
    "Mainfolder = '\\\\dk-server.dk.ucsd.edu\\\\afassihizakeri\\\\Leftsidemovies\\\\ar38motor\\\\2022_02_08'\n",
    "Mainfolder = 'D:\\\\Sidevideos\\\\ar34motor\\\\2022_02_18'\n",
    "Mainfolder = 'D:\\\\Sidevideos\\\\ar30motor\\\\2022_02_18'\n",
    "Mainfolder = 'D:\\\\Sidevideos\\\\ar38Motor\\\\2022_02_04'\n",
    "#Mainfolder = 'D:\\\\Sidevideos\\\\ar34motor\\\\2022_02_18'\n",
    "#D:\\Sidevideos\\ar35Motor\\2022_02_04\n",
    "import main\n",
    "Mainfolder = '\\\\\\\\dk-server.dk.ucsd.edu\\\\afassihizakeri\\\\Leftsidemovies\\\\ar35motor\\\\2022_01_27'\n",
    "Mainfolder = '\\\\\\\\dk-server.dk.ucsd.edu\\\\afassihizakeri\\\\Leftsidemovies\\\\ar30motor\\\\2022_02_18'\n",
    "Mainfolder = '\\\\\\\\dk-server.dk.ucsd.edu\\\\afassihizakeri\\\\Leftsidemovies\\\\ar38motor\\\\2022_02_16'\n",
    "Mainfolder = '\\\\\\\\dk-server.dk.ucsd.edu\\\\afassihizakeri\\\\rightsidemovies\\\\ar38motor\\\\2022_02_08'\n",
    "#D:\\Sidevideos\\ar38motor\\2022_04_21\n"
   ]
  },
  {
   "cell_type": "markdown",
   "metadata": {},
   "source": [
    "## make movies from the folder"
   ]
  },
  {
   "cell_type": "code",
   "execution_count": null,
   "metadata": {
    "scrolled": true
   },
   "outputs": [],
   "source": [
    "#main.make_movie_only(Mainfolder)\n",
    "main.makemovieandLightfile(Mainfolder)\n",
    "main.save_trial_n(Mainfolder)"
   ]
  },
  {
   "cell_type": "markdown",
   "metadata": {},
   "source": [
    "## load deeplabcut"
   ]
  },
  {
   "cell_type": "code",
   "execution_count": 2,
   "metadata": {},
   "outputs": [
    {
     "name": "stderr",
     "output_type": "stream",
     "text": [
      "C:\\Users\\dklab\\anaconda3\\envs\\DEEPLABCUT\\lib\\site-packages\\statsmodels\\compat\\pandas.py:65: FutureWarning: pandas.Int64Index is deprecated and will be removed from pandas in a future version. Use pandas.Index with the appropriate dtype instead.\n",
      "  from pandas import Int64Index as NumericIndex\n"
     ]
    }
   ],
   "source": [
    "import deeplabcut\n",
    "## https://github.com/AlexEMG/DeepLabCut"
   ]
  },
  {
   "cell_type": "markdown",
   "metadata": {},
   "source": [
    "## track the head_eye"
   ]
  },
  {
   "cell_type": "code",
   "execution_count": 3,
   "metadata": {},
   "outputs": [
    {
     "name": "stdout",
     "output_type": "stream",
     "text": [
      "\\\\dk-server.dk.ucsd.edu\\afassihizakeri\\rightsidemovies\\ar38motor\\2022_02_16\\19.avi\n",
      "Using snapshot-500000 for model \\\\dk-server.dk.ucsd.edu\\afassihizakeri\\DLC\\SideviewLeft_Feb2022-Arash-2022-02-08\\dlc-models\\iteration-0\\SideviewLeft_Feb2022Feb8-trainset95shuffle2\n"
     ]
    },
    {
     "name": "stderr",
     "output_type": "stream",
     "text": [
      "C:\\Users\\dklab\\anaconda3\\envs\\DEEPLABCUT\\lib\\site-packages\\tensorflow\\python\\keras\\engine\\base_layer_v1.py:1694: UserWarning: `layer.apply` is deprecated and will be removed in a future version. Please use `layer.__call__` method instead.\n",
      "  warnings.warn('`layer.apply` is deprecated and '\n"
     ]
    },
    {
     "name": "stdout",
     "output_type": "stream",
     "text": [
      "Starting to analyze %  \\\\dk-server.dk.ucsd.edu\\afassihizakeri\\rightsidemovies\\ar38motor\\2022_02_16\\248.avi\n",
      "Loading  \\\\dk-server.dk.ucsd.edu\\afassihizakeri\\rightsidemovies\\ar38motor\\2022_02_16\\248.avi\n",
      "Duration of video [s]:  12.5 , recorded with  40.0 fps!\n",
      "Overall # of frames:  500  found with (before cropping) frame dimensions:  800 480\n",
      "Starting to extract posture\n"
     ]
    },
    {
     "name": "stderr",
     "output_type": "stream",
     "text": [
      "510it [00:36, 13.82it/s]                                                                                               \n"
     ]
    },
    {
     "name": "stdout",
     "output_type": "stream",
     "text": [
      "Saving results in \\\\dk-server.dk.ucsd.edu\\afassihizakeri\\rightsidemovies\\ar38motor\\2022_02_16...\n",
      "Saving csv poses!\n",
      "Starting to analyze %  \\\\dk-server.dk.ucsd.edu\\afassihizakeri\\rightsidemovies\\ar38motor\\2022_02_16\\19.avi\n",
      "Loading  \\\\dk-server.dk.ucsd.edu\\afassihizakeri\\rightsidemovies\\ar38motor\\2022_02_16\\19.avi\n",
      "Duration of video [s]:  12.5 , recorded with  40.0 fps!\n",
      "Overall # of frames:  500  found with (before cropping) frame dimensions:  800 480\n",
      "Starting to extract posture\n"
     ]
    },
    {
     "name": "stderr",
     "output_type": "stream",
     "text": [
      "510it [00:25, 20.35it/s]                                                                                               \n"
     ]
    },
    {
     "name": "stdout",
     "output_type": "stream",
     "text": [
      "Saving results in \\\\dk-server.dk.ucsd.edu\\afassihizakeri\\rightsidemovies\\ar38motor\\2022_02_16...\n",
      "Saving csv poses!\n",
      "Starting to analyze %  \\\\dk-server.dk.ucsd.edu\\afassihizakeri\\rightsidemovies\\ar38motor\\2022_02_16\\234.avi\n",
      "Loading  \\\\dk-server.dk.ucsd.edu\\afassihizakeri\\rightsidemovies\\ar38motor\\2022_02_16\\234.avi\n",
      "Duration of video [s]:  12.5 , recorded with  40.0 fps!\n",
      "Overall # of frames:  500  found with (before cropping) frame dimensions:  800 480\n",
      "Starting to extract posture\n"
     ]
    },
    {
     "name": "stderr",
     "output_type": "stream",
     "text": [
      "510it [00:25, 20.08it/s]                                                                                               \n"
     ]
    },
    {
     "name": "stdout",
     "output_type": "stream",
     "text": [
      "Saving results in \\\\dk-server.dk.ucsd.edu\\afassihizakeri\\rightsidemovies\\ar38motor\\2022_02_16...\n",
      "Saving csv poses!\n",
      "Starting to analyze %  \\\\dk-server.dk.ucsd.edu\\afassihizakeri\\rightsidemovies\\ar38motor\\2022_02_16\\123.avi\n",
      "Loading  \\\\dk-server.dk.ucsd.edu\\afassihizakeri\\rightsidemovies\\ar38motor\\2022_02_16\\123.avi\n",
      "Duration of video [s]:  12.5 , recorded with  40.0 fps!\n",
      "Overall # of frames:  500  found with (before cropping) frame dimensions:  800 480\n",
      "Starting to extract posture\n"
     ]
    },
    {
     "name": "stderr",
     "output_type": "stream",
     "text": [
      "510it [00:25, 20.25it/s]                                                                                               \n"
     ]
    },
    {
     "name": "stdout",
     "output_type": "stream",
     "text": [
      "Saving results in \\\\dk-server.dk.ucsd.edu\\afassihizakeri\\rightsidemovies\\ar38motor\\2022_02_16...\n",
      "Saving csv poses!\n",
      "Starting to analyze %  \\\\dk-server.dk.ucsd.edu\\afassihizakeri\\rightsidemovies\\ar38motor\\2022_02_16\\65.avi\n",
      "Loading  \\\\dk-server.dk.ucsd.edu\\afassihizakeri\\rightsidemovies\\ar38motor\\2022_02_16\\65.avi\n",
      "Duration of video [s]:  12.5 , recorded with  40.0 fps!\n",
      "Overall # of frames:  500  found with (before cropping) frame dimensions:  800 480\n",
      "Starting to extract posture\n"
     ]
    },
    {
     "name": "stderr",
     "output_type": "stream",
     "text": [
      "510it [00:25, 20.02it/s]                                                                                               \n"
     ]
    },
    {
     "name": "stdout",
     "output_type": "stream",
     "text": [
      "Saving results in \\\\dk-server.dk.ucsd.edu\\afassihizakeri\\rightsidemovies\\ar38motor\\2022_02_16...\n",
      "Saving csv poses!\n",
      "Starting to analyze %  \\\\dk-server.dk.ucsd.edu\\afassihizakeri\\rightsidemovies\\ar38motor\\2022_02_16\\233.avi\n",
      "Loading  \\\\dk-server.dk.ucsd.edu\\afassihizakeri\\rightsidemovies\\ar38motor\\2022_02_16\\233.avi\n",
      "Duration of video [s]:  12.5 , recorded with  40.0 fps!\n",
      "Overall # of frames:  500  found with (before cropping) frame dimensions:  800 480\n",
      "Starting to extract posture\n"
     ]
    },
    {
     "name": "stderr",
     "output_type": "stream",
     "text": [
      "510it [00:24, 20.59it/s]                                                                                               \n"
     ]
    },
    {
     "name": "stdout",
     "output_type": "stream",
     "text": [
      "Saving results in \\\\dk-server.dk.ucsd.edu\\afassihizakeri\\rightsidemovies\\ar38motor\\2022_02_16...\n",
      "Saving csv poses!\n",
      "Starting to analyze %  \\\\dk-server.dk.ucsd.edu\\afassihizakeri\\rightsidemovies\\ar38motor\\2022_02_16\\124.avi\n",
      "Loading  \\\\dk-server.dk.ucsd.edu\\afassihizakeri\\rightsidemovies\\ar38motor\\2022_02_16\\124.avi\n",
      "Duration of video [s]:  12.5 , recorded with  40.0 fps!\n",
      "Overall # of frames:  500  found with (before cropping) frame dimensions:  800 480\n",
      "Starting to extract posture\n"
     ]
    },
    {
     "name": "stderr",
     "output_type": "stream",
     "text": [
      "510it [00:25, 20.36it/s]                                                                                               \n"
     ]
    },
    {
     "name": "stdout",
     "output_type": "stream",
     "text": [
      "Saving results in \\\\dk-server.dk.ucsd.edu\\afassihizakeri\\rightsidemovies\\ar38motor\\2022_02_16...\n",
      "Saving csv poses!\n",
      "Starting to analyze %  \\\\dk-server.dk.ucsd.edu\\afassihizakeri\\rightsidemovies\\ar38motor\\2022_02_16\\62.avi\n",
      "Loading  \\\\dk-server.dk.ucsd.edu\\afassihizakeri\\rightsidemovies\\ar38motor\\2022_02_16\\62.avi\n",
      "Duration of video [s]:  12.5 , recorded with  40.0 fps!\n",
      "Overall # of frames:  500  found with (before cropping) frame dimensions:  800 480\n",
      "Starting to extract posture\n"
     ]
    },
    {
     "name": "stderr",
     "output_type": "stream",
     "text": [
      "510it [00:25, 20.31it/s]                                                                                               \n"
     ]
    },
    {
     "name": "stdout",
     "output_type": "stream",
     "text": [
      "Saving results in \\\\dk-server.dk.ucsd.edu\\afassihizakeri\\rightsidemovies\\ar38motor\\2022_02_16...\n",
      "Saving csv poses!\n",
      "Starting to analyze %  \\\\dk-server.dk.ucsd.edu\\afassihizakeri\\rightsidemovies\\ar38motor\\2022_02_16\\189.avi\n",
      "Loading  \\\\dk-server.dk.ucsd.edu\\afassihizakeri\\rightsidemovies\\ar38motor\\2022_02_16\\189.avi\n",
      "Duration of video [s]:  12.5 , recorded with  40.0 fps!\n",
      "Overall # of frames:  500  found with (before cropping) frame dimensions:  800 480\n",
      "Starting to extract posture\n"
     ]
    },
    {
     "name": "stderr",
     "output_type": "stream",
     "text": [
      "510it [00:24, 20.56it/s]                                                                                               \n"
     ]
    },
    {
     "name": "stdout",
     "output_type": "stream",
     "text": [
      "Saving results in \\\\dk-server.dk.ucsd.edu\\afassihizakeri\\rightsidemovies\\ar38motor\\2022_02_16...\n",
      "Saving csv poses!\n",
      "Starting to analyze %  \\\\dk-server.dk.ucsd.edu\\afassihizakeri\\rightsidemovies\\ar38motor\\2022_02_16\\158.avi\n",
      "Loading  \\\\dk-server.dk.ucsd.edu\\afassihizakeri\\rightsidemovies\\ar38motor\\2022_02_16\\158.avi\n",
      "Duration of video [s]:  12.5 , recorded with  40.0 fps!\n",
      "Overall # of frames:  500  found with (before cropping) frame dimensions:  800 480\n",
      "Starting to extract posture\n"
     ]
    },
    {
     "name": "stderr",
     "output_type": "stream",
     "text": [
      "510it [00:25, 20.24it/s]                                                                                               \n"
     ]
    },
    {
     "name": "stdout",
     "output_type": "stream",
     "text": [
      "Saving results in \\\\dk-server.dk.ucsd.edu\\afassihizakeri\\rightsidemovies\\ar38motor\\2022_02_16...\n",
      "Saving csv poses!\n",
      "Starting to analyze %  \\\\dk-server.dk.ucsd.edu\\afassihizakeri\\rightsidemovies\\ar38motor\\2022_02_16\\187.avi\n",
      "Loading  \\\\dk-server.dk.ucsd.edu\\afassihizakeri\\rightsidemovies\\ar38motor\\2022_02_16\\187.avi\n",
      "Duration of video [s]:  12.5 , recorded with  40.0 fps!\n",
      "Overall # of frames:  500  found with (before cropping) frame dimensions:  800 480\n",
      "Starting to extract posture\n"
     ]
    },
    {
     "name": "stderr",
     "output_type": "stream",
     "text": [
      "510it [00:25, 20.33it/s]                                                                                               \n"
     ]
    },
    {
     "name": "stdout",
     "output_type": "stream",
     "text": [
      "Saving results in \\\\dk-server.dk.ucsd.edu\\afassihizakeri\\rightsidemovies\\ar38motor\\2022_02_16...\n",
      "Saving csv poses!\n",
      "Starting to analyze %  \\\\dk-server.dk.ucsd.edu\\afassihizakeri\\rightsidemovies\\ar38motor\\2022_02_16\\241.avi\n",
      "Loading  \\\\dk-server.dk.ucsd.edu\\afassihizakeri\\rightsidemovies\\ar38motor\\2022_02_16\\241.avi\n",
      "Duration of video [s]:  12.5 , recorded with  40.0 fps!\n",
      "Overall # of frames:  500  found with (before cropping) frame dimensions:  800 480\n",
      "Starting to extract posture\n"
     ]
    },
    {
     "name": "stderr",
     "output_type": "stream",
     "text": [
      "510it [00:25, 20.08it/s]                                                                                               \n"
     ]
    },
    {
     "name": "stdout",
     "output_type": "stream",
     "text": [
      "Saving results in \\\\dk-server.dk.ucsd.edu\\afassihizakeri\\rightsidemovies\\ar38motor\\2022_02_16...\n",
      "Saving csv poses!\n",
      "Starting to analyze %  \\\\dk-server.dk.ucsd.edu\\afassihizakeri\\rightsidemovies\\ar38motor\\2022_02_16\\156.avi\n",
      "Loading  \\\\dk-server.dk.ucsd.edu\\afassihizakeri\\rightsidemovies\\ar38motor\\2022_02_16\\156.avi\n",
      "Duration of video [s]:  12.5 , recorded with  40.0 fps!\n",
      "Overall # of frames:  500  found with (before cropping) frame dimensions:  800 480\n",
      "Starting to extract posture\n"
     ]
    },
    {
     "name": "stderr",
     "output_type": "stream",
     "text": [
      "510it [00:24, 20.52it/s]                                                                                               \n"
     ]
    },
    {
     "name": "stdout",
     "output_type": "stream",
     "text": [
      "Saving results in \\\\dk-server.dk.ucsd.edu\\afassihizakeri\\rightsidemovies\\ar38motor\\2022_02_16...\n",
      "Saving csv poses!\n",
      "Starting to analyze %  \\\\dk-server.dk.ucsd.edu\\afassihizakeri\\rightsidemovies\\ar38motor\\2022_02_16\\10.avi\n",
      "Loading  \\\\dk-server.dk.ucsd.edu\\afassihizakeri\\rightsidemovies\\ar38motor\\2022_02_16\\10.avi\n",
      "Duration of video [s]:  12.5 , recorded with  40.0 fps!\n",
      "Overall # of frames:  500  found with (before cropping) frame dimensions:  800 480\n",
      "Starting to extract posture\n"
     ]
    },
    {
     "name": "stderr",
     "output_type": "stream",
     "text": [
      "510it [00:24, 20.55it/s]                                                                                               \n"
     ]
    },
    {
     "name": "stdout",
     "output_type": "stream",
     "text": [
      "Saving results in \\\\dk-server.dk.ucsd.edu\\afassihizakeri\\rightsidemovies\\ar38motor\\2022_02_16...\n",
      "Saving csv poses!\n",
      "Starting to analyze %  \\\\dk-server.dk.ucsd.edu\\afassihizakeri\\rightsidemovies\\ar38motor\\2022_02_16\\180.avi\n",
      "Loading  \\\\dk-server.dk.ucsd.edu\\afassihizakeri\\rightsidemovies\\ar38motor\\2022_02_16\\180.avi\n",
      "Duration of video [s]:  12.5 , recorded with  40.0 fps!\n",
      "Overall # of frames:  500  found with (before cropping) frame dimensions:  800 480\n",
      "Starting to extract posture\n"
     ]
    },
    {
     "name": "stderr",
     "output_type": "stream",
     "text": [
      "510it [00:25, 20.29it/s]                                                                                               \n"
     ]
    },
    {
     "name": "stdout",
     "output_type": "stream",
     "text": [
      "Saving results in \\\\dk-server.dk.ucsd.edu\\afassihizakeri\\rightsidemovies\\ar38motor\\2022_02_16...\n",
      "Saving csv poses!\n",
      "Starting to analyze %  \\\\dk-server.dk.ucsd.edu\\afassihizakeri\\rightsidemovies\\ar38motor\\2022_02_16\\246.avi\n",
      "Loading  \\\\dk-server.dk.ucsd.edu\\afassihizakeri\\rightsidemovies\\ar38motor\\2022_02_16\\246.avi\n",
      "Duration of video [s]:  12.5 , recorded with  40.0 fps!\n",
      "Overall # of frames:  500  found with (before cropping) frame dimensions:  800 480\n",
      "Starting to extract posture\n"
     ]
    },
    {
     "name": "stderr",
     "output_type": "stream",
     "text": [
      "510it [00:25, 20.31it/s]                                                                                               \n"
     ]
    },
    {
     "name": "stdout",
     "output_type": "stream",
     "text": [
      "Saving results in \\\\dk-server.dk.ucsd.edu\\afassihizakeri\\rightsidemovies\\ar38motor\\2022_02_16...\n",
      "Saving csv poses!\n",
      "Starting to analyze %  \\\\dk-server.dk.ucsd.edu\\afassihizakeri\\rightsidemovies\\ar38motor\\2022_02_16\\151.avi\n",
      "Loading  \\\\dk-server.dk.ucsd.edu\\afassihizakeri\\rightsidemovies\\ar38motor\\2022_02_16\\151.avi\n",
      "Duration of video [s]:  12.5 , recorded with  40.0 fps!\n",
      "Overall # of frames:  500  found with (before cropping) frame dimensions:  800 480\n",
      "Starting to extract posture\n"
     ]
    },
    {
     "name": "stderr",
     "output_type": "stream",
     "text": [
      "510it [00:24, 20.62it/s]                                                                                               \n"
     ]
    },
    {
     "name": "stdout",
     "output_type": "stream",
     "text": [
      "Saving results in \\\\dk-server.dk.ucsd.edu\\afassihizakeri\\rightsidemovies\\ar38motor\\2022_02_16...\n",
      "Saving csv poses!\n",
      "Starting to analyze %  \\\\dk-server.dk.ucsd.edu\\afassihizakeri\\rightsidemovies\\ar38motor\\2022_02_16\\17.avi\n",
      "Loading  \\\\dk-server.dk.ucsd.edu\\afassihizakeri\\rightsidemovies\\ar38motor\\2022_02_16\\17.avi\n",
      "Duration of video [s]:  12.5 , recorded with  40.0 fps!\n",
      "Overall # of frames:  500  found with (before cropping) frame dimensions:  800 480\n",
      "Starting to extract posture\n"
     ]
    },
    {
     "name": "stderr",
     "output_type": "stream",
     "text": [
      "510it [00:25, 20.30it/s]                                                                                               \n"
     ]
    },
    {
     "name": "stdout",
     "output_type": "stream",
     "text": [
      "Saving results in \\\\dk-server.dk.ucsd.edu\\afassihizakeri\\rightsidemovies\\ar38motor\\2022_02_16...\n",
      "Saving csv poses!\n",
      "Starting to analyze %  \\\\dk-server.dk.ucsd.edu\\afassihizakeri\\rightsidemovies\\ar38motor\\2022_02_16\\164.avi\n",
      "Loading  \\\\dk-server.dk.ucsd.edu\\afassihizakeri\\rightsidemovies\\ar38motor\\2022_02_16\\164.avi\n",
      "Duration of video [s]:  12.5 , recorded with  40.0 fps!\n",
      "Overall # of frames:  500  found with (before cropping) frame dimensions:  800 480\n",
      "Starting to extract posture\n"
     ]
    },
    {
     "name": "stderr",
     "output_type": "stream",
     "text": [
      "510it [00:24, 20.53it/s]                                                                                               \n"
     ]
    },
    {
     "name": "stdout",
     "output_type": "stream",
     "text": [
      "Saving results in \\\\dk-server.dk.ucsd.edu\\afassihizakeri\\rightsidemovies\\ar38motor\\2022_02_16...\n",
      "Saving csv poses!\n",
      "Starting to analyze %  \\\\dk-server.dk.ucsd.edu\\afassihizakeri\\rightsidemovies\\ar38motor\\2022_02_16\\22.avi\n",
      "Loading  \\\\dk-server.dk.ucsd.edu\\afassihizakeri\\rightsidemovies\\ar38motor\\2022_02_16\\22.avi\n",
      "Duration of video [s]:  12.5 , recorded with  40.0 fps!\n",
      "Overall # of frames:  500  found with (before cropping) frame dimensions:  800 480\n",
      "Starting to extract posture\n"
     ]
    },
    {
     "name": "stderr",
     "output_type": "stream",
     "text": [
      "510it [00:25, 20.28it/s]                                                                                               \n"
     ]
    },
    {
     "name": "stdout",
     "output_type": "stream",
     "text": [
      "Saving results in \\\\dk-server.dk.ucsd.edu\\afassihizakeri\\rightsidemovies\\ar38motor\\2022_02_16...\n",
      "Saving csv poses!\n",
      "Starting to analyze %  \\\\dk-server.dk.ucsd.edu\\afassihizakeri\\rightsidemovies\\ar38motor\\2022_02_16\\118.avi\n",
      "Loading  \\\\dk-server.dk.ucsd.edu\\afassihizakeri\\rightsidemovies\\ar38motor\\2022_02_16\\118.avi\n",
      "Duration of video [s]:  12.5 , recorded with  40.0 fps!\n",
      "Overall # of frames:  500  found with (before cropping) frame dimensions:  800 480\n",
      "Starting to extract posture\n"
     ]
    },
    {
     "name": "stderr",
     "output_type": "stream",
     "text": [
      "510it [00:25, 20.26it/s]                                                                                               \n"
     ]
    },
    {
     "name": "stdout",
     "output_type": "stream",
     "text": [
      "Saving results in \\\\dk-server.dk.ucsd.edu\\afassihizakeri\\rightsidemovies\\ar38motor\\2022_02_16...\n",
      "Saving csv poses!\n",
      "Starting to analyze %  \\\\dk-server.dk.ucsd.edu\\afassihizakeri\\rightsidemovies\\ar38motor\\2022_02_16\\9.avi\n",
      "Loading  \\\\dk-server.dk.ucsd.edu\\afassihizakeri\\rightsidemovies\\ar38motor\\2022_02_16\\9.avi\n",
      "Duration of video [s]:  12.5 , recorded with  40.0 fps!\n",
      "Overall # of frames:  500  found with (before cropping) frame dimensions:  800 480\n",
      "Starting to extract posture\n"
     ]
    },
    {
     "name": "stderr",
     "output_type": "stream",
     "text": [
      "510it [00:25, 20.08it/s]                                                                                               \n"
     ]
    },
    {
     "name": "stdout",
     "output_type": "stream",
     "text": [
      "Saving results in \\\\dk-server.dk.ucsd.edu\\afassihizakeri\\rightsidemovies\\ar38motor\\2022_02_16...\n",
      "Saving csv poses!\n",
      "Starting to analyze %  \\\\dk-server.dk.ucsd.edu\\afassihizakeri\\rightsidemovies\\ar38motor\\2022_02_16\\208.avi\n",
      "Loading  \\\\dk-server.dk.ucsd.edu\\afassihizakeri\\rightsidemovies\\ar38motor\\2022_02_16\\208.avi\n",
      "Duration of video [s]:  12.5 , recorded with  40.0 fps!\n",
      "Overall # of frames:  500  found with (before cropping) frame dimensions:  800 480\n",
      "Starting to extract posture\n"
     ]
    },
    {
     "name": "stderr",
     "output_type": "stream",
     "text": [
      "510it [00:24, 20.43it/s]                                                                                               \n"
     ]
    },
    {
     "name": "stdout",
     "output_type": "stream",
     "text": [
      "Saving results in \\\\dk-server.dk.ucsd.edu\\afassihizakeri\\rightsidemovies\\ar38motor\\2022_02_16...\n",
      "Saving csv poses!\n",
      "Starting to analyze %  \\\\dk-server.dk.ucsd.edu\\afassihizakeri\\rightsidemovies\\ar38motor\\2022_02_16\\59.avi\n",
      "Loading  \\\\dk-server.dk.ucsd.edu\\afassihizakeri\\rightsidemovies\\ar38motor\\2022_02_16\\59.avi\n",
      "Duration of video [s]:  12.5 , recorded with  40.0 fps!\n",
      "Overall # of frames:  500  found with (before cropping) frame dimensions:  800 480\n",
      "Starting to extract posture\n"
     ]
    },
    {
     "name": "stderr",
     "output_type": "stream",
     "text": [
      "510it [00:24, 20.44it/s]                                                                                               \n"
     ]
    },
    {
     "name": "stdout",
     "output_type": "stream",
     "text": [
      "Saving results in \\\\dk-server.dk.ucsd.edu\\afassihizakeri\\rightsidemovies\\ar38motor\\2022_02_16...\n",
      "Saving csv poses!\n",
      "Starting to analyze %  \\\\dk-server.dk.ucsd.edu\\afassihizakeri\\rightsidemovies\\ar38motor\\2022_02_16\\88.avi\n",
      "Loading  \\\\dk-server.dk.ucsd.edu\\afassihizakeri\\rightsidemovies\\ar38motor\\2022_02_16\\88.avi\n",
      "Duration of video [s]:  12.5 , recorded with  40.0 fps!\n",
      "Overall # of frames:  500  found with (before cropping) frame dimensions:  800 480\n",
      "Starting to extract posture\n"
     ]
    },
    {
     "name": "stderr",
     "output_type": "stream",
     "text": [
      "510it [00:25, 20.31it/s]                                                                                               \n"
     ]
    },
    {
     "name": "stdout",
     "output_type": "stream",
     "text": [
      "Saving results in \\\\dk-server.dk.ucsd.edu\\afassihizakeri\\rightsidemovies\\ar38motor\\2022_02_16...\n",
      "Saving csv poses!\n",
      "Starting to analyze %  \\\\dk-server.dk.ucsd.edu\\afassihizakeri\\rightsidemovies\\ar38motor\\2022_02_16\\163.avi\n",
      "Loading  \\\\dk-server.dk.ucsd.edu\\afassihizakeri\\rightsidemovies\\ar38motor\\2022_02_16\\163.avi\n",
      "Duration of video [s]:  12.5 , recorded with  40.0 fps!\n",
      "Overall # of frames:  500  found with (before cropping) frame dimensions:  800 480\n",
      "Starting to extract posture\n"
     ]
    },
    {
     "name": "stderr",
     "output_type": "stream",
     "text": [
      "510it [00:25, 20.08it/s]                                                                                               \n"
     ]
    },
    {
     "name": "stdout",
     "output_type": "stream",
     "text": [
      "Saving results in \\\\dk-server.dk.ucsd.edu\\afassihizakeri\\rightsidemovies\\ar38motor\\2022_02_16...\n",
      "Saving csv poses!\n",
      "Starting to analyze %  \\\\dk-server.dk.ucsd.edu\\afassihizakeri\\rightsidemovies\\ar38motor\\2022_02_16\\25.avi\n",
      "Loading  \\\\dk-server.dk.ucsd.edu\\afassihizakeri\\rightsidemovies\\ar38motor\\2022_02_16\\25.avi\n",
      "Duration of video [s]:  12.5 , recorded with  40.0 fps!\n",
      "Overall # of frames:  500  found with (before cropping) frame dimensions:  800 480\n",
      "Starting to extract posture\n"
     ]
    },
    {
     "name": "stderr",
     "output_type": "stream",
     "text": [
      "510it [00:24, 20.62it/s]                                                                                               \n"
     ]
    },
    {
     "name": "stdout",
     "output_type": "stream",
     "text": [
      "Saving results in \\\\dk-server.dk.ucsd.edu\\afassihizakeri\\rightsidemovies\\ar38motor\\2022_02_16...\n",
      "Saving csv poses!\n",
      "Starting to analyze %  \\\\dk-server.dk.ucsd.edu\\afassihizakeri\\rightsidemovies\\ar38motor\\2022_02_16\\111.avi\n",
      "Loading  \\\\dk-server.dk.ucsd.edu\\afassihizakeri\\rightsidemovies\\ar38motor\\2022_02_16\\111.avi\n",
      "Duration of video [s]:  12.5 , recorded with  40.0 fps!\n",
      "Overall # of frames:  500  found with (before cropping) frame dimensions:  800 480\n",
      "Starting to extract posture\n"
     ]
    },
    {
     "name": "stderr",
     "output_type": "stream",
     "text": [
      "510it [00:27, 18.35it/s]                                                                                               \n"
     ]
    },
    {
     "name": "stdout",
     "output_type": "stream",
     "text": [
      "Saving results in \\\\dk-server.dk.ucsd.edu\\afassihizakeri\\rightsidemovies\\ar38motor\\2022_02_16...\n",
      "Saving csv poses!\n",
      "Starting to analyze %  \\\\dk-server.dk.ucsd.edu\\afassihizakeri\\rightsidemovies\\ar38motor\\2022_02_16\\0.avi\n",
      "Loading  \\\\dk-server.dk.ucsd.edu\\afassihizakeri\\rightsidemovies\\ar38motor\\2022_02_16\\0.avi\n",
      "Duration of video [s]:  12.5 , recorded with  40.0 fps!\n",
      "Overall # of frames:  500  found with (before cropping) frame dimensions:  800 480\n",
      "Starting to extract posture\n"
     ]
    },
    {
     "name": "stderr",
     "output_type": "stream",
     "text": [
      "510it [00:26, 19.42it/s]                                                                                               \n"
     ]
    },
    {
     "name": "stdout",
     "output_type": "stream",
     "text": [
      "Saving results in \\\\dk-server.dk.ucsd.edu\\afassihizakeri\\rightsidemovies\\ar38motor\\2022_02_16...\n",
      "Saving csv poses!\n",
      "Starting to analyze %  \\\\dk-server.dk.ucsd.edu\\afassihizakeri\\rightsidemovies\\ar38motor\\2022_02_16\\206.avi\n",
      "Loading  \\\\dk-server.dk.ucsd.edu\\afassihizakeri\\rightsidemovies\\ar38motor\\2022_02_16\\206.avi\n",
      "Duration of video [s]:  12.5 , recorded with  40.0 fps!\n",
      "Overall # of frames:  500  found with (before cropping) frame dimensions:  800 480\n",
      "Starting to extract posture\n"
     ]
    },
    {
     "name": "stderr",
     "output_type": "stream",
     "text": [
      "510it [00:24, 20.56it/s]                                                                                               \n"
     ]
    },
    {
     "name": "stdout",
     "output_type": "stream",
     "text": [
      "Saving results in \\\\dk-server.dk.ucsd.edu\\afassihizakeri\\rightsidemovies\\ar38motor\\2022_02_16...\n",
      "Saving csv poses!\n",
      "Starting to analyze %  \\\\dk-server.dk.ucsd.edu\\afassihizakeri\\rightsidemovies\\ar38motor\\2022_02_16\\57.avi\n",
      "Loading  \\\\dk-server.dk.ucsd.edu\\afassihizakeri\\rightsidemovies\\ar38motor\\2022_02_16\\57.avi\n",
      "Duration of video [s]:  12.5 , recorded with  40.0 fps!\n",
      "Overall # of frames:  500  found with (before cropping) frame dimensions:  800 480\n",
      "Starting to extract posture\n"
     ]
    },
    {
     "name": "stderr",
     "output_type": "stream",
     "text": [
      "510it [00:25, 20.34it/s]                                                                                               \n"
     ]
    },
    {
     "name": "stdout",
     "output_type": "stream",
     "text": [
      "Saving results in \\\\dk-server.dk.ucsd.edu\\afassihizakeri\\rightsidemovies\\ar38motor\\2022_02_16...\n",
      "Saving csv poses!\n",
      "Starting to analyze %  \\\\dk-server.dk.ucsd.edu\\afassihizakeri\\rightsidemovies\\ar38motor\\2022_02_16\\86.avi\n",
      "Loading  \\\\dk-server.dk.ucsd.edu\\afassihizakeri\\rightsidemovies\\ar38motor\\2022_02_16\\86.avi\n",
      "Duration of video [s]:  12.5 , recorded with  40.0 fps!\n",
      "Overall # of frames:  500  found with (before cropping) frame dimensions:  800 480\n",
      "Starting to extract posture\n"
     ]
    },
    {
     "name": "stderr",
     "output_type": "stream",
     "text": [
      "510it [00:25, 20.28it/s]                                                                                               \n"
     ]
    },
    {
     "name": "stdout",
     "output_type": "stream",
     "text": [
      "Saving results in \\\\dk-server.dk.ucsd.edu\\afassihizakeri\\rightsidemovies\\ar38motor\\2022_02_16...\n",
      "Saving csv poses!\n",
      "Starting to analyze %  \\\\dk-server.dk.ucsd.edu\\afassihizakeri\\rightsidemovies\\ar38motor\\2022_02_16\\116.avi\n",
      "Loading  \\\\dk-server.dk.ucsd.edu\\afassihizakeri\\rightsidemovies\\ar38motor\\2022_02_16\\116.avi\n",
      "Duration of video [s]:  12.5 , recorded with  40.0 fps!\n",
      "Overall # of frames:  500  found with (before cropping) frame dimensions:  800 480\n",
      "Starting to extract posture\n"
     ]
    },
    {
     "name": "stderr",
     "output_type": "stream",
     "text": [
      "510it [00:24, 20.62it/s]                                                                                               \n"
     ]
    },
    {
     "name": "stdout",
     "output_type": "stream",
     "text": [
      "Saving results in \\\\dk-server.dk.ucsd.edu\\afassihizakeri\\rightsidemovies\\ar38motor\\2022_02_16...\n",
      "Saving csv poses!\n",
      "Starting to analyze %  \\\\dk-server.dk.ucsd.edu\\afassihizakeri\\rightsidemovies\\ar38motor\\2022_02_16\\7.avi\n",
      "Loading  \\\\dk-server.dk.ucsd.edu\\afassihizakeri\\rightsidemovies\\ar38motor\\2022_02_16\\7.avi\n",
      "Duration of video [s]:  12.5 , recorded with  40.0 fps!\n",
      "Overall # of frames:  500  found with (before cropping) frame dimensions:  800 480\n",
      "Starting to extract posture\n"
     ]
    },
    {
     "name": "stderr",
     "output_type": "stream",
     "text": [
      "510it [00:25, 20.26it/s]                                                                                               \n"
     ]
    },
    {
     "name": "stdout",
     "output_type": "stream",
     "text": [
      "Saving results in \\\\dk-server.dk.ucsd.edu\\afassihizakeri\\rightsidemovies\\ar38motor\\2022_02_16...\n",
      "Saving csv poses!\n",
      "Starting to analyze %  \\\\dk-server.dk.ucsd.edu\\afassihizakeri\\rightsidemovies\\ar38motor\\2022_02_16\\201.avi\n",
      "Loading  \\\\dk-server.dk.ucsd.edu\\afassihizakeri\\rightsidemovies\\ar38motor\\2022_02_16\\201.avi\n",
      "Duration of video [s]:  12.5 , recorded with  40.0 fps!\n",
      "Overall # of frames:  500  found with (before cropping) frame dimensions:  800 480\n",
      "Starting to extract posture\n"
     ]
    },
    {
     "name": "stderr",
     "output_type": "stream",
     "text": [
      "510it [00:25, 20.23it/s]                                                                                               \n"
     ]
    },
    {
     "name": "stdout",
     "output_type": "stream",
     "text": [
      "Saving results in \\\\dk-server.dk.ucsd.edu\\afassihizakeri\\rightsidemovies\\ar38motor\\2022_02_16...\n",
      "Saving csv poses!\n",
      "Starting to analyze %  \\\\dk-server.dk.ucsd.edu\\afassihizakeri\\rightsidemovies\\ar38motor\\2022_02_16\\50.avi\n",
      "Loading  \\\\dk-server.dk.ucsd.edu\\afassihizakeri\\rightsidemovies\\ar38motor\\2022_02_16\\50.avi\n",
      "Duration of video [s]:  12.5 , recorded with  40.0 fps!\n",
      "Overall # of frames:  500  found with (before cropping) frame dimensions:  800 480\n",
      "Starting to extract posture\n"
     ]
    },
    {
     "name": "stderr",
     "output_type": "stream",
     "text": [
      "510it [00:25, 20.15it/s]                                                                                               \n"
     ]
    },
    {
     "name": "stdout",
     "output_type": "stream",
     "text": [
      "Saving results in \\\\dk-server.dk.ucsd.edu\\afassihizakeri\\rightsidemovies\\ar38motor\\2022_02_16...\n",
      "Saving csv poses!\n",
      "Starting to analyze %  \\\\dk-server.dk.ucsd.edu\\afassihizakeri\\rightsidemovies\\ar38motor\\2022_02_16\\81.avi\n",
      "Loading  \\\\dk-server.dk.ucsd.edu\\afassihizakeri\\rightsidemovies\\ar38motor\\2022_02_16\\81.avi\n",
      "Duration of video [s]:  12.5 , recorded with  40.0 fps!\n",
      "Overall # of frames:  500  found with (before cropping) frame dimensions:  800 480\n",
      "Starting to extract posture\n"
     ]
    },
    {
     "name": "stderr",
     "output_type": "stream",
     "text": [
      "510it [00:25, 20.14it/s]                                                                                               \n"
     ]
    },
    {
     "name": "stdout",
     "output_type": "stream",
     "text": [
      "Saving results in \\\\dk-server.dk.ucsd.edu\\afassihizakeri\\rightsidemovies\\ar38motor\\2022_02_16...\n",
      "Saving csv poses!\n",
      "Starting to analyze %  \\\\dk-server.dk.ucsd.edu\\afassihizakeri\\rightsidemovies\\ar38motor\\2022_02_16\\90.avi\n",
      "Loading  \\\\dk-server.dk.ucsd.edu\\afassihizakeri\\rightsidemovies\\ar38motor\\2022_02_16\\90.avi\n",
      "Duration of video [s]:  12.5 , recorded with  40.0 fps!\n",
      "Overall # of frames:  500  found with (before cropping) frame dimensions:  800 480\n",
      "Starting to extract posture\n"
     ]
    },
    {
     "name": "stderr",
     "output_type": "stream",
     "text": [
      "510it [00:25, 20.21it/s]                                                                                               \n"
     ]
    },
    {
     "name": "stdout",
     "output_type": "stream",
     "text": [
      "Saving results in \\\\dk-server.dk.ucsd.edu\\afassihizakeri\\rightsidemovies\\ar38motor\\2022_02_16...\n",
      "Saving csv poses!\n",
      "Starting to analyze %  \\\\dk-server.dk.ucsd.edu\\afassihizakeri\\rightsidemovies\\ar38motor\\2022_02_16\\41.avi\n",
      "Loading  \\\\dk-server.dk.ucsd.edu\\afassihizakeri\\rightsidemovies\\ar38motor\\2022_02_16\\41.avi\n",
      "Duration of video [s]:  12.5 , recorded with  40.0 fps!\n",
      "Overall # of frames:  500  found with (before cropping) frame dimensions:  800 480\n",
      "Starting to extract posture\n"
     ]
    },
    {
     "name": "stderr",
     "output_type": "stream",
     "text": [
      "510it [00:24, 20.53it/s]                                                                                               \n"
     ]
    },
    {
     "name": "stdout",
     "output_type": "stream",
     "text": [
      "Saving results in \\\\dk-server.dk.ucsd.edu\\afassihizakeri\\rightsidemovies\\ar38motor\\2022_02_16...\n",
      "Saving csv poses!\n",
      "Starting to analyze %  \\\\dk-server.dk.ucsd.edu\\afassihizakeri\\rightsidemovies\\ar38motor\\2022_02_16\\210.avi\n",
      "Loading  \\\\dk-server.dk.ucsd.edu\\afassihizakeri\\rightsidemovies\\ar38motor\\2022_02_16\\210.avi\n",
      "Duration of video [s]:  12.5 , recorded with  40.0 fps!\n",
      "Overall # of frames:  500  found with (before cropping) frame dimensions:  800 480\n",
      "Starting to extract posture\n"
     ]
    },
    {
     "name": "stderr",
     "output_type": "stream",
     "text": [
      "510it [00:24, 20.44it/s]                                                                                               \n"
     ]
    },
    {
     "name": "stdout",
     "output_type": "stream",
     "text": [
      "Saving results in \\\\dk-server.dk.ucsd.edu\\afassihizakeri\\rightsidemovies\\ar38motor\\2022_02_16...\n",
      "Saving csv poses!\n",
      "Starting to analyze %  \\\\dk-server.dk.ucsd.edu\\afassihizakeri\\rightsidemovies\\ar38motor\\2022_02_16\\107.avi\n",
      "Loading  \\\\dk-server.dk.ucsd.edu\\afassihizakeri\\rightsidemovies\\ar38motor\\2022_02_16\\107.avi\n",
      "Duration of video [s]:  12.5 , recorded with  40.0 fps!\n",
      "Overall # of frames:  500  found with (before cropping) frame dimensions:  800 480\n",
      "Starting to extract posture\n"
     ]
    },
    {
     "name": "stderr",
     "output_type": "stream",
     "text": [
      "510it [00:24, 20.47it/s]                                                                                               \n"
     ]
    },
    {
     "name": "stdout",
     "output_type": "stream",
     "text": [
      "Saving results in \\\\dk-server.dk.ucsd.edu\\afassihizakeri\\rightsidemovies\\ar38motor\\2022_02_16...\n",
      "Saving csv poses!\n",
      "Starting to analyze %  \\\\dk-server.dk.ucsd.edu\\afassihizakeri\\rightsidemovies\\ar38motor\\2022_02_16\\97.avi\n",
      "Loading  \\\\dk-server.dk.ucsd.edu\\afassihizakeri\\rightsidemovies\\ar38motor\\2022_02_16\\97.avi\n",
      "Duration of video [s]:  12.5 , recorded with  40.0 fps!\n",
      "Overall # of frames:  500  found with (before cropping) frame dimensions:  800 480\n",
      "Starting to extract posture\n"
     ]
    },
    {
     "name": "stderr",
     "output_type": "stream",
     "text": [
      "510it [00:24, 20.52it/s]                                                                                               \n"
     ]
    },
    {
     "name": "stdout",
     "output_type": "stream",
     "text": [
      "Saving results in \\\\dk-server.dk.ucsd.edu\\afassihizakeri\\rightsidemovies\\ar38motor\\2022_02_16...\n",
      "Saving csv poses!\n",
      "Starting to analyze %  \\\\dk-server.dk.ucsd.edu\\afassihizakeri\\rightsidemovies\\ar38motor\\2022_02_16\\46.avi\n",
      "Loading  \\\\dk-server.dk.ucsd.edu\\afassihizakeri\\rightsidemovies\\ar38motor\\2022_02_16\\46.avi\n",
      "Duration of video [s]:  12.5 , recorded with  40.0 fps!\n",
      "Overall # of frames:  500  found with (before cropping) frame dimensions:  800 480\n",
      "Starting to extract posture\n"
     ]
    },
    {
     "name": "stderr",
     "output_type": "stream",
     "text": [
      "510it [00:24, 20.42it/s]                                                                                               \n"
     ]
    },
    {
     "name": "stdout",
     "output_type": "stream",
     "text": [
      "Saving results in \\\\dk-server.dk.ucsd.edu\\afassihizakeri\\rightsidemovies\\ar38motor\\2022_02_16...\n",
      "Saving csv poses!\n",
      "Starting to analyze %  \\\\dk-server.dk.ucsd.edu\\afassihizakeri\\rightsidemovies\\ar38motor\\2022_02_16\\217.avi\n",
      "Loading  \\\\dk-server.dk.ucsd.edu\\afassihizakeri\\rightsidemovies\\ar38motor\\2022_02_16\\217.avi\n",
      "Duration of video [s]:  12.5 , recorded with  40.0 fps!\n",
      "Overall # of frames:  500  found with (before cropping) frame dimensions:  800 480\n",
      "Starting to extract posture\n"
     ]
    },
    {
     "name": "stderr",
     "output_type": "stream",
     "text": [
      "510it [00:24, 20.59it/s]                                                                                               \n"
     ]
    },
    {
     "name": "stdout",
     "output_type": "stream",
     "text": [
      "Saving results in \\\\dk-server.dk.ucsd.edu\\afassihizakeri\\rightsidemovies\\ar38motor\\2022_02_16...\n",
      "Saving csv poses!\n",
      "Starting to analyze %  \\\\dk-server.dk.ucsd.edu\\afassihizakeri\\rightsidemovies\\ar38motor\\2022_02_16\\100.avi\n",
      "Loading  \\\\dk-server.dk.ucsd.edu\\afassihizakeri\\rightsidemovies\\ar38motor\\2022_02_16\\100.avi\n",
      "Duration of video [s]:  12.5 , recorded with  40.0 fps!\n",
      "Overall # of frames:  500  found with (before cropping) frame dimensions:  800 480\n",
      "Starting to extract posture\n"
     ]
    },
    {
     "name": "stderr",
     "output_type": "stream",
     "text": [
      "510it [00:25, 20.33it/s]                                                                                               \n"
     ]
    },
    {
     "name": "stdout",
     "output_type": "stream",
     "text": [
      "Saving results in \\\\dk-server.dk.ucsd.edu\\afassihizakeri\\rightsidemovies\\ar38motor\\2022_02_16...\n",
      "Saving csv poses!\n",
      "Starting to analyze %  \\\\dk-server.dk.ucsd.edu\\afassihizakeri\\rightsidemovies\\ar38motor\\2022_02_16\\99.avi\n",
      "Loading  \\\\dk-server.dk.ucsd.edu\\afassihizakeri\\rightsidemovies\\ar38motor\\2022_02_16\\99.avi\n",
      "Duration of video [s]:  12.5 , recorded with  40.0 fps!\n",
      "Overall # of frames:  500  found with (before cropping) frame dimensions:  800 480\n",
      "Starting to extract posture\n"
     ]
    },
    {
     "name": "stderr",
     "output_type": "stream",
     "text": [
      "510it [00:24, 20.46it/s]                                                                                               \n"
     ]
    },
    {
     "name": "stdout",
     "output_type": "stream",
     "text": [
      "Saving results in \\\\dk-server.dk.ucsd.edu\\afassihizakeri\\rightsidemovies\\ar38motor\\2022_02_16...\n",
      "Saving csv poses!\n",
      "Starting to analyze %  \\\\dk-server.dk.ucsd.edu\\afassihizakeri\\rightsidemovies\\ar38motor\\2022_02_16\\48.avi\n",
      "Loading  \\\\dk-server.dk.ucsd.edu\\afassihizakeri\\rightsidemovies\\ar38motor\\2022_02_16\\48.avi\n",
      "Duration of video [s]:  12.5 , recorded with  40.0 fps!\n",
      "Overall # of frames:  500  found with (before cropping) frame dimensions:  800 480\n",
      "Starting to extract posture\n"
     ]
    },
    {
     "name": "stderr",
     "output_type": "stream",
     "text": [
      "510it [00:24, 20.55it/s]                                                                                               \n"
     ]
    },
    {
     "name": "stdout",
     "output_type": "stream",
     "text": [
      "Saving results in \\\\dk-server.dk.ucsd.edu\\afassihizakeri\\rightsidemovies\\ar38motor\\2022_02_16...\n",
      "Saving csv poses!\n",
      "Starting to analyze %  \\\\dk-server.dk.ucsd.edu\\afassihizakeri\\rightsidemovies\\ar38motor\\2022_02_16\\219.avi\n",
      "Loading  \\\\dk-server.dk.ucsd.edu\\afassihizakeri\\rightsidemovies\\ar38motor\\2022_02_16\\219.avi\n",
      "Duration of video [s]:  12.5 , recorded with  40.0 fps!\n",
      "Overall # of frames:  500  found with (before cropping) frame dimensions:  800 480\n",
      "Starting to extract posture\n"
     ]
    },
    {
     "name": "stderr",
     "output_type": "stream",
     "text": [
      "510it [00:24, 20.58it/s]                                                                                               \n"
     ]
    },
    {
     "name": "stdout",
     "output_type": "stream",
     "text": [
      "Saving results in \\\\dk-server.dk.ucsd.edu\\afassihizakeri\\rightsidemovies\\ar38motor\\2022_02_16...\n",
      "Saving csv poses!\n",
      "Starting to analyze %  \\\\dk-server.dk.ucsd.edu\\afassihizakeri\\rightsidemovies\\ar38motor\\2022_02_16\\34.avi\n",
      "Loading  \\\\dk-server.dk.ucsd.edu\\afassihizakeri\\rightsidemovies\\ar38motor\\2022_02_16\\34.avi\n",
      "Duration of video [s]:  12.5 , recorded with  40.0 fps!\n",
      "Overall # of frames:  500  found with (before cropping) frame dimensions:  800 480\n",
      "Starting to extract posture\n"
     ]
    },
    {
     "name": "stderr",
     "output_type": "stream",
     "text": [
      "510it [00:24, 20.60it/s]                                                                                               \n"
     ]
    },
    {
     "name": "stdout",
     "output_type": "stream",
     "text": [
      "Saving results in \\\\dk-server.dk.ucsd.edu\\afassihizakeri\\rightsidemovies\\ar38motor\\2022_02_16...\n",
      "Saving csv poses!\n",
      "Starting to analyze %  \\\\dk-server.dk.ucsd.edu\\afassihizakeri\\rightsidemovies\\ar38motor\\2022_02_16\\172.avi\n",
      "Loading  \\\\dk-server.dk.ucsd.edu\\afassihizakeri\\rightsidemovies\\ar38motor\\2022_02_16\\172.avi\n",
      "Duration of video [s]:  12.5 , recorded with  40.0 fps!\n",
      "Overall # of frames:  500  found with (before cropping) frame dimensions:  800 480\n",
      "Starting to extract posture\n"
     ]
    },
    {
     "name": "stderr",
     "output_type": "stream",
     "text": [
      "510it [00:24, 20.57it/s]                                                                                               \n"
     ]
    },
    {
     "name": "stdout",
     "output_type": "stream",
     "text": [
      "Saving results in \\\\dk-server.dk.ucsd.edu\\afassihizakeri\\rightsidemovies\\ar38motor\\2022_02_16...\n",
      "Saving csv poses!\n",
      "Starting to analyze %  \\\\dk-server.dk.ucsd.edu\\afassihizakeri\\rightsidemovies\\ar38motor\\2022_02_16\\33.avi\n",
      "Loading  \\\\dk-server.dk.ucsd.edu\\afassihizakeri\\rightsidemovies\\ar38motor\\2022_02_16\\33.avi\n",
      "Duration of video [s]:  12.5 , recorded with  40.0 fps!\n",
      "Overall # of frames:  500  found with (before cropping) frame dimensions:  800 480\n",
      "Starting to extract posture\n"
     ]
    },
    {
     "name": "stderr",
     "output_type": "stream",
     "text": [
      "510it [00:24, 20.56it/s]                                                                                               \n"
     ]
    },
    {
     "name": "stdout",
     "output_type": "stream",
     "text": [
      "Saving results in \\\\dk-server.dk.ucsd.edu\\afassihizakeri\\rightsidemovies\\ar38motor\\2022_02_16...\n",
      "Saving csv poses!\n",
      "Starting to analyze %  \\\\dk-server.dk.ucsd.edu\\afassihizakeri\\rightsidemovies\\ar38motor\\2022_02_16\\262.avi\n",
      "Loading  \\\\dk-server.dk.ucsd.edu\\afassihizakeri\\rightsidemovies\\ar38motor\\2022_02_16\\262.avi\n",
      "Duration of video [s]:  12.5 , recorded with  40.0 fps!\n",
      "Overall # of frames:  500  found with (before cropping) frame dimensions:  800 480\n",
      "Starting to extract posture\n"
     ]
    },
    {
     "name": "stderr",
     "output_type": "stream",
     "text": [
      "510it [00:24, 20.59it/s]                                                                                               \n"
     ]
    },
    {
     "name": "stdout",
     "output_type": "stream",
     "text": [
      "Saving results in \\\\dk-server.dk.ucsd.edu\\afassihizakeri\\rightsidemovies\\ar38motor\\2022_02_16...\n",
      "Saving csv poses!\n",
      "Starting to analyze %  \\\\dk-server.dk.ucsd.edu\\afassihizakeri\\rightsidemovies\\ar38motor\\2022_02_16\\175.avi\n",
      "Loading  \\\\dk-server.dk.ucsd.edu\\afassihizakeri\\rightsidemovies\\ar38motor\\2022_02_16\\175.avi\n",
      "Duration of video [s]:  12.5 , recorded with  40.0 fps!\n",
      "Overall # of frames:  500  found with (before cropping) frame dimensions:  800 480\n",
      "Starting to extract posture\n"
     ]
    },
    {
     "name": "stderr",
     "output_type": "stream",
     "text": [
      "510it [00:24, 20.56it/s]                                                                                               \n"
     ]
    },
    {
     "name": "stdout",
     "output_type": "stream",
     "text": [
      "Saving results in \\\\dk-server.dk.ucsd.edu\\afassihizakeri\\rightsidemovies\\ar38motor\\2022_02_16...\n",
      "Saving csv poses!\n",
      "Starting to analyze %  \\\\dk-server.dk.ucsd.edu\\afassihizakeri\\rightsidemovies\\ar38motor\\2022_02_16\\109.avi\n",
      "Loading  \\\\dk-server.dk.ucsd.edu\\afassihizakeri\\rightsidemovies\\ar38motor\\2022_02_16\\109.avi\n",
      "Duration of video [s]:  12.5 , recorded with  40.0 fps!\n",
      "Overall # of frames:  500  found with (before cropping) frame dimensions:  800 480\n",
      "Starting to extract posture\n"
     ]
    },
    {
     "name": "stderr",
     "output_type": "stream",
     "text": [
      "510it [00:24, 20.49it/s]                                                                                               \n"
     ]
    },
    {
     "name": "stdout",
     "output_type": "stream",
     "text": [
      "Saving results in \\\\dk-server.dk.ucsd.edu\\afassihizakeri\\rightsidemovies\\ar38motor\\2022_02_16...\n",
      "Saving csv poses!\n",
      "Starting to analyze %  \\\\dk-server.dk.ucsd.edu\\afassihizakeri\\rightsidemovies\\ar38motor\\2022_02_16\\140.avi\n",
      "Loading  \\\\dk-server.dk.ucsd.edu\\afassihizakeri\\rightsidemovies\\ar38motor\\2022_02_16\\140.avi\n",
      "Duration of video [s]:  12.5 , recorded with  40.0 fps!\n",
      "Overall # of frames:  500  found with (before cropping) frame dimensions:  800 480\n",
      "Starting to extract posture\n"
     ]
    },
    {
     "name": "stderr",
     "output_type": "stream",
     "text": [
      "510it [00:25, 20.25it/s]                                                                                               \n"
     ]
    },
    {
     "name": "stdout",
     "output_type": "stream",
     "text": [
      "Saving results in \\\\dk-server.dk.ucsd.edu\\afassihizakeri\\rightsidemovies\\ar38motor\\2022_02_16...\n",
      "Saving csv poses!\n",
      "Starting to analyze %  \\\\dk-server.dk.ucsd.edu\\afassihizakeri\\rightsidemovies\\ar38motor\\2022_02_16\\191.avi\n",
      "Loading  \\\\dk-server.dk.ucsd.edu\\afassihizakeri\\rightsidemovies\\ar38motor\\2022_02_16\\191.avi\n",
      "Duration of video [s]:  12.5 , recorded with  40.0 fps!\n",
      "Overall # of frames:  500  found with (before cropping) frame dimensions:  800 480\n",
      "Starting to extract posture\n"
     ]
    },
    {
     "name": "stderr",
     "output_type": "stream",
     "text": [
      "510it [00:25, 20.10it/s]                                                                                               \n"
     ]
    },
    {
     "name": "stdout",
     "output_type": "stream",
     "text": [
      "Saving results in \\\\dk-server.dk.ucsd.edu\\afassihizakeri\\rightsidemovies\\ar38motor\\2022_02_16...\n",
      "Saving csv poses!\n",
      "Starting to analyze %  \\\\dk-server.dk.ucsd.edu\\afassihizakeri\\rightsidemovies\\ar38motor\\2022_02_16\\257.avi\n",
      "Loading  \\\\dk-server.dk.ucsd.edu\\afassihizakeri\\rightsidemovies\\ar38motor\\2022_02_16\\257.avi\n",
      "Duration of video [s]:  12.5 , recorded with  40.0 fps!\n",
      "Overall # of frames:  500  found with (before cropping) frame dimensions:  800 480\n",
      "Starting to extract posture\n"
     ]
    },
    {
     "name": "stderr",
     "output_type": "stream",
     "text": [
      "510it [00:24, 20.62it/s]                                                                                               \n"
     ]
    },
    {
     "name": "stdout",
     "output_type": "stream",
     "text": [
      "Saving results in \\\\dk-server.dk.ucsd.edu\\afassihizakeri\\rightsidemovies\\ar38motor\\2022_02_16...\n",
      "Saving csv poses!\n",
      "Starting to analyze %  \\\\dk-server.dk.ucsd.edu\\afassihizakeri\\rightsidemovies\\ar38motor\\2022_02_16\\147.avi\n",
      "Loading  \\\\dk-server.dk.ucsd.edu\\afassihizakeri\\rightsidemovies\\ar38motor\\2022_02_16\\147.avi\n",
      "Duration of video [s]:  12.5 , recorded with  40.0 fps!\n",
      "Overall # of frames:  500  found with (before cropping) frame dimensions:  800 480\n",
      "Starting to extract posture\n"
     ]
    },
    {
     "name": "stderr",
     "output_type": "stream",
     "text": [
      "510it [00:24, 20.62it/s]                                                                                               \n"
     ]
    },
    {
     "name": "stdout",
     "output_type": "stream",
     "text": [
      "Saving results in \\\\dk-server.dk.ucsd.edu\\afassihizakeri\\rightsidemovies\\ar38motor\\2022_02_16...\n",
      "Saving csv poses!\n",
      "Starting to analyze %  \\\\dk-server.dk.ucsd.edu\\afassihizakeri\\rightsidemovies\\ar38motor\\2022_02_16\\196.avi\n",
      "Loading  \\\\dk-server.dk.ucsd.edu\\afassihizakeri\\rightsidemovies\\ar38motor\\2022_02_16\\196.avi\n",
      "Duration of video [s]:  12.5 , recorded with  40.0 fps!\n",
      "Overall # of frames:  500  found with (before cropping) frame dimensions:  800 480\n",
      "Starting to extract posture\n"
     ]
    },
    {
     "name": "stderr",
     "output_type": "stream",
     "text": [
      "510it [00:24, 20.58it/s]                                                                                               \n"
     ]
    },
    {
     "name": "stdout",
     "output_type": "stream",
     "text": [
      "Saving results in \\\\dk-server.dk.ucsd.edu\\afassihizakeri\\rightsidemovies\\ar38motor\\2022_02_16...\n",
      "Saving csv poses!\n",
      "Starting to analyze %  \\\\dk-server.dk.ucsd.edu\\afassihizakeri\\rightsidemovies\\ar38motor\\2022_02_16\\250.avi\n",
      "Loading  \\\\dk-server.dk.ucsd.edu\\afassihizakeri\\rightsidemovies\\ar38motor\\2022_02_16\\250.avi\n",
      "Duration of video [s]:  12.5 , recorded with  40.0 fps!\n",
      "Overall # of frames:  500  found with (before cropping) frame dimensions:  800 480\n",
      "Starting to extract posture\n"
     ]
    },
    {
     "name": "stderr",
     "output_type": "stream",
     "text": [
      "510it [00:25, 19.81it/s]                                                                                               \n"
     ]
    },
    {
     "name": "stdout",
     "output_type": "stream",
     "text": [
      "Saving results in \\\\dk-server.dk.ucsd.edu\\afassihizakeri\\rightsidemovies\\ar38motor\\2022_02_16...\n",
      "Saving csv poses!\n",
      "Starting to analyze %  \\\\dk-server.dk.ucsd.edu\\afassihizakeri\\rightsidemovies\\ar38motor\\2022_02_16\\73.avi\n",
      "Loading  \\\\dk-server.dk.ucsd.edu\\afassihizakeri\\rightsidemovies\\ar38motor\\2022_02_16\\73.avi\n",
      "Duration of video [s]:  12.5 , recorded with  40.0 fps!\n",
      "Overall # of frames:  500  found with (before cropping) frame dimensions:  800 480\n",
      "Starting to extract posture\n"
     ]
    },
    {
     "name": "stderr",
     "output_type": "stream",
     "text": [
      "510it [00:24, 20.49it/s]                                                                                               \n"
     ]
    },
    {
     "name": "stdout",
     "output_type": "stream",
     "text": [
      "Saving results in \\\\dk-server.dk.ucsd.edu\\afassihizakeri\\rightsidemovies\\ar38motor\\2022_02_16...\n",
      "Saving csv poses!\n",
      "Starting to analyze %  \\\\dk-server.dk.ucsd.edu\\afassihizakeri\\rightsidemovies\\ar38motor\\2022_02_16\\135.avi\n",
      "Loading  \\\\dk-server.dk.ucsd.edu\\afassihizakeri\\rightsidemovies\\ar38motor\\2022_02_16\\135.avi\n",
      "Duration of video [s]:  12.5 , recorded with  40.0 fps!\n",
      "Overall # of frames:  500  found with (before cropping) frame dimensions:  800 480\n",
      "Starting to extract posture\n"
     ]
    },
    {
     "name": "stderr",
     "output_type": "stream",
     "text": [
      "510it [00:25, 20.23it/s]                                                                                               \n"
     ]
    },
    {
     "name": "stdout",
     "output_type": "stream",
     "text": [
      "Saving results in \\\\dk-server.dk.ucsd.edu\\afassihizakeri\\rightsidemovies\\ar38motor\\2022_02_16...\n",
      "Saving csv poses!\n",
      "Starting to analyze %  \\\\dk-server.dk.ucsd.edu\\afassihizakeri\\rightsidemovies\\ar38motor\\2022_02_16\\222.avi\n",
      "Loading  \\\\dk-server.dk.ucsd.edu\\afassihizakeri\\rightsidemovies\\ar38motor\\2022_02_16\\222.avi\n",
      "Duration of video [s]:  12.5 , recorded with  40.0 fps!\n",
      "Overall # of frames:  500  found with (before cropping) frame dimensions:  800 480\n",
      "Starting to extract posture\n"
     ]
    },
    {
     "name": "stderr",
     "output_type": "stream",
     "text": [
      "510it [00:25, 20.10it/s]                                                                                               \n"
     ]
    },
    {
     "name": "stdout",
     "output_type": "stream",
     "text": [
      "Saving results in \\\\dk-server.dk.ucsd.edu\\afassihizakeri\\rightsidemovies\\ar38motor\\2022_02_16...\n",
      "Saving csv poses!\n",
      "Starting to analyze %  \\\\dk-server.dk.ucsd.edu\\afassihizakeri\\rightsidemovies\\ar38motor\\2022_02_16\\149.avi\n",
      "Loading  \\\\dk-server.dk.ucsd.edu\\afassihizakeri\\rightsidemovies\\ar38motor\\2022_02_16\\149.avi\n",
      "Duration of video [s]:  12.5 , recorded with  40.0 fps!\n",
      "Overall # of frames:  500  found with (before cropping) frame dimensions:  800 480\n",
      "Starting to extract posture\n"
     ]
    },
    {
     "name": "stderr",
     "output_type": "stream",
     "text": [
      "510it [00:24, 20.55it/s]                                                                                               \n"
     ]
    },
    {
     "name": "stdout",
     "output_type": "stream",
     "text": [
      "Saving results in \\\\dk-server.dk.ucsd.edu\\afassihizakeri\\rightsidemovies\\ar38motor\\2022_02_16...\n",
      "Saving csv poses!\n",
      "Starting to analyze %  \\\\dk-server.dk.ucsd.edu\\afassihizakeri\\rightsidemovies\\ar38motor\\2022_02_16\\198.avi\n",
      "Loading  \\\\dk-server.dk.ucsd.edu\\afassihizakeri\\rightsidemovies\\ar38motor\\2022_02_16\\198.avi\n",
      "Duration of video [s]:  12.5 , recorded with  40.0 fps!\n",
      "Overall # of frames:  500  found with (before cropping) frame dimensions:  800 480\n",
      "Starting to extract posture\n"
     ]
    },
    {
     "name": "stderr",
     "output_type": "stream",
     "text": [
      "510it [00:25, 20.34it/s]                                                                                               \n"
     ]
    },
    {
     "name": "stdout",
     "output_type": "stream",
     "text": [
      "Saving results in \\\\dk-server.dk.ucsd.edu\\afassihizakeri\\rightsidemovies\\ar38motor\\2022_02_16...\n",
      "Saving csv poses!\n",
      "Starting to analyze %  \\\\dk-server.dk.ucsd.edu\\afassihizakeri\\rightsidemovies\\ar38motor\\2022_02_16\\259.avi\n",
      "Loading  \\\\dk-server.dk.ucsd.edu\\afassihizakeri\\rightsidemovies\\ar38motor\\2022_02_16\\259.avi\n",
      "Duration of video [s]:  12.5 , recorded with  40.0 fps!\n",
      "Overall # of frames:  500  found with (before cropping) frame dimensions:  800 480\n",
      "Starting to extract posture\n"
     ]
    },
    {
     "name": "stderr",
     "output_type": "stream",
     "text": [
      "510it [00:24, 20.70it/s]                                                                                               \n"
     ]
    },
    {
     "name": "stdout",
     "output_type": "stream",
     "text": [
      "Saving results in \\\\dk-server.dk.ucsd.edu\\afassihizakeri\\rightsidemovies\\ar38motor\\2022_02_16...\n",
      "Saving csv poses!\n",
      "Starting to analyze %  \\\\dk-server.dk.ucsd.edu\\afassihizakeri\\rightsidemovies\\ar38motor\\2022_02_16\\74.avi\n",
      "Loading  \\\\dk-server.dk.ucsd.edu\\afassihizakeri\\rightsidemovies\\ar38motor\\2022_02_16\\74.avi\n",
      "Duration of video [s]:  12.5 , recorded with  40.0 fps!\n",
      "Overall # of frames:  500  found with (before cropping) frame dimensions:  800 480\n",
      "Starting to extract posture\n"
     ]
    },
    {
     "name": "stderr",
     "output_type": "stream",
     "text": [
      "510it [00:24, 20.60it/s]                                                                                               \n"
     ]
    },
    {
     "name": "stdout",
     "output_type": "stream",
     "text": [
      "Saving results in \\\\dk-server.dk.ucsd.edu\\afassihizakeri\\rightsidemovies\\ar38motor\\2022_02_16...\n",
      "Saving csv poses!\n",
      "Starting to analyze %  \\\\dk-server.dk.ucsd.edu\\afassihizakeri\\rightsidemovies\\ar38motor\\2022_02_16\\132.avi\n",
      "Loading  \\\\dk-server.dk.ucsd.edu\\afassihizakeri\\rightsidemovies\\ar38motor\\2022_02_16\\132.avi\n",
      "Duration of video [s]:  12.5 , recorded with  40.0 fps!\n",
      "Overall # of frames:  500  found with (before cropping) frame dimensions:  800 480\n",
      "Starting to extract posture\n"
     ]
    },
    {
     "name": "stderr",
     "output_type": "stream",
     "text": [
      "510it [00:25, 20.30it/s]                                                                                               \n"
     ]
    },
    {
     "name": "stdout",
     "output_type": "stream",
     "text": [
      "Saving results in \\\\dk-server.dk.ucsd.edu\\afassihizakeri\\rightsidemovies\\ar38motor\\2022_02_16...\n",
      "Saving csv poses!\n",
      "Starting to analyze %  \\\\dk-server.dk.ucsd.edu\\afassihizakeri\\rightsidemovies\\ar38motor\\2022_02_16\\225.avi\n",
      "Loading  \\\\dk-server.dk.ucsd.edu\\afassihizakeri\\rightsidemovies\\ar38motor\\2022_02_16\\225.avi\n",
      "Duration of video [s]:  12.5 , recorded with  40.0 fps!\n",
      "Overall # of frames:  500  found with (before cropping) frame dimensions:  800 480\n",
      "Starting to extract posture\n"
     ]
    },
    {
     "name": "stderr",
     "output_type": "stream",
     "text": [
      "510it [00:25, 19.77it/s]                                                                                               \n"
     ]
    },
    {
     "name": "stdout",
     "output_type": "stream",
     "text": [
      "Saving results in \\\\dk-server.dk.ucsd.edu\\afassihizakeri\\rightsidemovies\\ar38motor\\2022_02_16...\n",
      "Saving csv poses!\n",
      "Starting to analyze %  \\\\dk-server.dk.ucsd.edu\\afassihizakeri\\rightsidemovies\\ar38motor\\2022_02_16\\117.avi\n",
      "Loading  \\\\dk-server.dk.ucsd.edu\\afassihizakeri\\rightsidemovies\\ar38motor\\2022_02_16\\117.avi\n",
      "Duration of video [s]:  12.5 , recorded with  40.0 fps!\n",
      "Overall # of frames:  500  found with (before cropping) frame dimensions:  800 480\n",
      "Starting to extract posture\n"
     ]
    },
    {
     "name": "stderr",
     "output_type": "stream",
     "text": [
      "510it [00:25, 20.28it/s]                                                                                               \n"
     ]
    },
    {
     "name": "stdout",
     "output_type": "stream",
     "text": [
      "Saving results in \\\\dk-server.dk.ucsd.edu\\afassihizakeri\\rightsidemovies\\ar38motor\\2022_02_16...\n",
      "Saving csv poses!\n",
      "Starting to analyze %  \\\\dk-server.dk.ucsd.edu\\afassihizakeri\\rightsidemovies\\ar38motor\\2022_02_16\\6.avi\n",
      "Loading  \\\\dk-server.dk.ucsd.edu\\afassihizakeri\\rightsidemovies\\ar38motor\\2022_02_16\\6.avi\n",
      "Duration of video [s]:  12.5 , recorded with  40.0 fps!\n",
      "Overall # of frames:  500  found with (before cropping) frame dimensions:  800 480\n",
      "Starting to extract posture\n"
     ]
    },
    {
     "name": "stderr",
     "output_type": "stream",
     "text": [
      "510it [00:25, 20.33it/s]                                                                                               \n"
     ]
    },
    {
     "name": "stdout",
     "output_type": "stream",
     "text": [
      "Saving results in \\\\dk-server.dk.ucsd.edu\\afassihizakeri\\rightsidemovies\\ar38motor\\2022_02_16...\n",
      "Saving csv poses!\n",
      "Starting to analyze %  \\\\dk-server.dk.ucsd.edu\\afassihizakeri\\rightsidemovies\\ar38motor\\2022_02_16\\200.avi\n",
      "Loading  \\\\dk-server.dk.ucsd.edu\\afassihizakeri\\rightsidemovies\\ar38motor\\2022_02_16\\200.avi\n",
      "Duration of video [s]:  12.5 , recorded with  40.0 fps!\n",
      "Overall # of frames:  500  found with (before cropping) frame dimensions:  800 480\n",
      "Starting to extract posture\n"
     ]
    },
    {
     "name": "stderr",
     "output_type": "stream",
     "text": [
      "510it [00:24, 20.49it/s]                                                                                               \n"
     ]
    },
    {
     "name": "stdout",
     "output_type": "stream",
     "text": [
      "Saving results in \\\\dk-server.dk.ucsd.edu\\afassihizakeri\\rightsidemovies\\ar38motor\\2022_02_16...\n",
      "Saving csv poses!\n",
      "Starting to analyze %  \\\\dk-server.dk.ucsd.edu\\afassihizakeri\\rightsidemovies\\ar38motor\\2022_02_16\\51.avi\n",
      "Loading  \\\\dk-server.dk.ucsd.edu\\afassihizakeri\\rightsidemovies\\ar38motor\\2022_02_16\\51.avi\n",
      "Duration of video [s]:  12.5 , recorded with  40.0 fps!\n",
      "Overall # of frames:  500  found with (before cropping) frame dimensions:  800 480\n",
      "Starting to extract posture\n"
     ]
    },
    {
     "name": "stderr",
     "output_type": "stream",
     "text": [
      "510it [00:25, 20.04it/s]                                                                                               \n"
     ]
    },
    {
     "name": "stdout",
     "output_type": "stream",
     "text": [
      "Saving results in \\\\dk-server.dk.ucsd.edu\\afassihizakeri\\rightsidemovies\\ar38motor\\2022_02_16...\n",
      "Saving csv poses!\n",
      "Starting to analyze %  \\\\dk-server.dk.ucsd.edu\\afassihizakeri\\rightsidemovies\\ar38motor\\2022_02_16\\80.avi\n",
      "Loading  \\\\dk-server.dk.ucsd.edu\\afassihizakeri\\rightsidemovies\\ar38motor\\2022_02_16\\80.avi\n",
      "Duration of video [s]:  12.5 , recorded with  40.0 fps!\n",
      "Overall # of frames:  500  found with (before cropping) frame dimensions:  800 480\n",
      "Starting to extract posture\n"
     ]
    },
    {
     "name": "stderr",
     "output_type": "stream",
     "text": [
      "510it [00:24, 20.43it/s]                                                                                               \n"
     ]
    },
    {
     "name": "stdout",
     "output_type": "stream",
     "text": [
      "Saving results in \\\\dk-server.dk.ucsd.edu\\afassihizakeri\\rightsidemovies\\ar38motor\\2022_02_16...\n",
      "Saving csv poses!\n",
      "Starting to analyze %  \\\\dk-server.dk.ucsd.edu\\afassihizakeri\\rightsidemovies\\ar38motor\\2022_02_16\\110.avi\n",
      "Loading  \\\\dk-server.dk.ucsd.edu\\afassihizakeri\\rightsidemovies\\ar38motor\\2022_02_16\\110.avi\n",
      "Duration of video [s]:  12.5 , recorded with  40.0 fps!\n",
      "Overall # of frames:  500  found with (before cropping) frame dimensions:  800 480\n",
      "Starting to extract posture\n"
     ]
    },
    {
     "name": "stderr",
     "output_type": "stream",
     "text": [
      "510it [00:25, 20.40it/s]                                                                                               \n"
     ]
    },
    {
     "name": "stdout",
     "output_type": "stream",
     "text": [
      "Saving results in \\\\dk-server.dk.ucsd.edu\\afassihizakeri\\rightsidemovies\\ar38motor\\2022_02_16...\n",
      "Saving csv poses!\n",
      "Starting to analyze %  \\\\dk-server.dk.ucsd.edu\\afassihizakeri\\rightsidemovies\\ar38motor\\2022_02_16\\1.avi\n",
      "Loading  \\\\dk-server.dk.ucsd.edu\\afassihizakeri\\rightsidemovies\\ar38motor\\2022_02_16\\1.avi\n",
      "Duration of video [s]:  12.5 , recorded with  40.0 fps!\n",
      "Overall # of frames:  500  found with (before cropping) frame dimensions:  800 480\n",
      "Starting to extract posture\n"
     ]
    },
    {
     "name": "stderr",
     "output_type": "stream",
     "text": [
      "510it [00:24, 20.52it/s]                                                                                               \n"
     ]
    },
    {
     "name": "stdout",
     "output_type": "stream",
     "text": [
      "Saving results in \\\\dk-server.dk.ucsd.edu\\afassihizakeri\\rightsidemovies\\ar38motor\\2022_02_16...\n",
      "Saving csv poses!\n",
      "Starting to analyze %  \\\\dk-server.dk.ucsd.edu\\afassihizakeri\\rightsidemovies\\ar38motor\\2022_02_16\\207.avi\n",
      "Loading  \\\\dk-server.dk.ucsd.edu\\afassihizakeri\\rightsidemovies\\ar38motor\\2022_02_16\\207.avi\n",
      "Duration of video [s]:  12.5 , recorded with  40.0 fps!\n",
      "Overall # of frames:  500  found with (before cropping) frame dimensions:  800 480\n",
      "Starting to extract posture\n"
     ]
    },
    {
     "name": "stderr",
     "output_type": "stream",
     "text": [
      "510it [00:25, 20.25it/s]                                                                                               \n"
     ]
    },
    {
     "name": "stdout",
     "output_type": "stream",
     "text": [
      "Saving results in \\\\dk-server.dk.ucsd.edu\\afassihizakeri\\rightsidemovies\\ar38motor\\2022_02_16...\n",
      "Saving csv poses!\n",
      "Starting to analyze %  \\\\dk-server.dk.ucsd.edu\\afassihizakeri\\rightsidemovies\\ar38motor\\2022_02_16\\56.avi\n",
      "Loading  \\\\dk-server.dk.ucsd.edu\\afassihizakeri\\rightsidemovies\\ar38motor\\2022_02_16\\56.avi\n",
      "Duration of video [s]:  12.5 , recorded with  40.0 fps!\n",
      "Overall # of frames:  500  found with (before cropping) frame dimensions:  800 480\n",
      "Starting to extract posture\n"
     ]
    },
    {
     "name": "stderr",
     "output_type": "stream",
     "text": [
      "510it [00:24, 20.50it/s]                                                                                               \n"
     ]
    },
    {
     "name": "stdout",
     "output_type": "stream",
     "text": [
      "Saving results in \\\\dk-server.dk.ucsd.edu\\afassihizakeri\\rightsidemovies\\ar38motor\\2022_02_16...\n",
      "Saving csv poses!\n",
      "Starting to analyze %  \\\\dk-server.dk.ucsd.edu\\afassihizakeri\\rightsidemovies\\ar38motor\\2022_02_16\\87.avi\n",
      "Loading  \\\\dk-server.dk.ucsd.edu\\afassihizakeri\\rightsidemovies\\ar38motor\\2022_02_16\\87.avi\n",
      "Duration of video [s]:  12.5 , recorded with  40.0 fps!\n",
      "Overall # of frames:  500  found with (before cropping) frame dimensions:  800 480\n",
      "Starting to extract posture\n"
     ]
    },
    {
     "name": "stderr",
     "output_type": "stream",
     "text": [
      "510it [00:25, 19.96it/s]                                                                                               \n"
     ]
    },
    {
     "name": "stdout",
     "output_type": "stream",
     "text": [
      "Saving results in \\\\dk-server.dk.ucsd.edu\\afassihizakeri\\rightsidemovies\\ar38motor\\2022_02_16...\n",
      "Saving csv poses!\n",
      "Starting to analyze %  \\\\dk-server.dk.ucsd.edu\\afassihizakeri\\rightsidemovies\\ar38motor\\2022_02_16\\209.avi\n",
      "Loading  \\\\dk-server.dk.ucsd.edu\\afassihizakeri\\rightsidemovies\\ar38motor\\2022_02_16\\209.avi\n",
      "Duration of video [s]:  12.5 , recorded with  40.0 fps!\n",
      "Overall # of frames:  500  found with (before cropping) frame dimensions:  800 480\n",
      "Starting to extract posture\n"
     ]
    },
    {
     "name": "stderr",
     "output_type": "stream",
     "text": [
      "510it [00:25, 19.93it/s]                                                                                               \n"
     ]
    },
    {
     "name": "stdout",
     "output_type": "stream",
     "text": [
      "Saving results in \\\\dk-server.dk.ucsd.edu\\afassihizakeri\\rightsidemovies\\ar38motor\\2022_02_16...\n",
      "Saving csv poses!\n",
      "Starting to analyze %  \\\\dk-server.dk.ucsd.edu\\afassihizakeri\\rightsidemovies\\ar38motor\\2022_02_16\\58.avi\n",
      "Loading  \\\\dk-server.dk.ucsd.edu\\afassihizakeri\\rightsidemovies\\ar38motor\\2022_02_16\\58.avi\n",
      "Duration of video [s]:  12.5 , recorded with  40.0 fps!\n",
      "Overall # of frames:  500  found with (before cropping) frame dimensions:  800 480\n",
      "Starting to extract posture\n"
     ]
    },
    {
     "name": "stderr",
     "output_type": "stream",
     "text": [
      "510it [00:25, 20.30it/s]                                                                                               \n"
     ]
    },
    {
     "name": "stdout",
     "output_type": "stream",
     "text": [
      "Saving results in \\\\dk-server.dk.ucsd.edu\\afassihizakeri\\rightsidemovies\\ar38motor\\2022_02_16...\n",
      "Saving csv poses!\n",
      "Starting to analyze %  \\\\dk-server.dk.ucsd.edu\\afassihizakeri\\rightsidemovies\\ar38motor\\2022_02_16\\89.avi\n",
      "Loading  \\\\dk-server.dk.ucsd.edu\\afassihizakeri\\rightsidemovies\\ar38motor\\2022_02_16\\89.avi\n",
      "Duration of video [s]:  12.5 , recorded with  40.0 fps!\n",
      "Overall # of frames:  500  found with (before cropping) frame dimensions:  800 480\n",
      "Starting to extract posture\n"
     ]
    },
    {
     "name": "stderr",
     "output_type": "stream",
     "text": [
      "510it [00:25, 20.23it/s]                                                                                               \n"
     ]
    },
    {
     "name": "stdout",
     "output_type": "stream",
     "text": [
      "Saving results in \\\\dk-server.dk.ucsd.edu\\afassihizakeri\\rightsidemovies\\ar38motor\\2022_02_16...\n",
      "Saving csv poses!\n",
      "Starting to analyze %  \\\\dk-server.dk.ucsd.edu\\afassihizakeri\\rightsidemovies\\ar38motor\\2022_02_16\\162.avi\n",
      "Loading  \\\\dk-server.dk.ucsd.edu\\afassihizakeri\\rightsidemovies\\ar38motor\\2022_02_16\\162.avi\n",
      "Duration of video [s]:  12.5 , recorded with  40.0 fps!\n",
      "Overall # of frames:  500  found with (before cropping) frame dimensions:  800 480\n",
      "Starting to extract posture\n"
     ]
    },
    {
     "name": "stderr",
     "output_type": "stream",
     "text": [
      "510it [00:25, 20.04it/s]                                                                                               \n"
     ]
    },
    {
     "name": "stdout",
     "output_type": "stream",
     "text": [
      "Saving results in \\\\dk-server.dk.ucsd.edu\\afassihizakeri\\rightsidemovies\\ar38motor\\2022_02_16...\n",
      "Saving csv poses!\n",
      "Starting to analyze %  \\\\dk-server.dk.ucsd.edu\\afassihizakeri\\rightsidemovies\\ar38motor\\2022_02_16\\24.avi\n",
      "Loading  \\\\dk-server.dk.ucsd.edu\\afassihizakeri\\rightsidemovies\\ar38motor\\2022_02_16\\24.avi\n",
      "Duration of video [s]:  12.5 , recorded with  40.0 fps!\n",
      "Overall # of frames:  500  found with (before cropping) frame dimensions:  800 480\n",
      "Starting to extract posture\n"
     ]
    },
    {
     "name": "stderr",
     "output_type": "stream",
     "text": [
      "510it [00:25, 20.25it/s]                                                                                               \n"
     ]
    },
    {
     "name": "stdout",
     "output_type": "stream",
     "text": [
      "Saving results in \\\\dk-server.dk.ucsd.edu\\afassihizakeri\\rightsidemovies\\ar38motor\\2022_02_16...\n",
      "Saving csv poses!\n",
      "Starting to analyze %  \\\\dk-server.dk.ucsd.edu\\afassihizakeri\\rightsidemovies\\ar38motor\\2022_02_16\\165.avi\n",
      "Loading  \\\\dk-server.dk.ucsd.edu\\afassihizakeri\\rightsidemovies\\ar38motor\\2022_02_16\\165.avi\n",
      "Duration of video [s]:  12.5 , recorded with  40.0 fps!\n",
      "Overall # of frames:  500  found with (before cropping) frame dimensions:  800 480\n",
      "Starting to extract posture\n"
     ]
    },
    {
     "name": "stderr",
     "output_type": "stream",
     "text": [
      "510it [00:24, 20.49it/s]                                                                                               \n"
     ]
    },
    {
     "name": "stdout",
     "output_type": "stream",
     "text": [
      "Saving results in \\\\dk-server.dk.ucsd.edu\\afassihizakeri\\rightsidemovies\\ar38motor\\2022_02_16...\n",
      "Saving csv poses!\n",
      "Starting to analyze %  \\\\dk-server.dk.ucsd.edu\\afassihizakeri\\rightsidemovies\\ar38motor\\2022_02_16\\23.avi\n",
      "Loading  \\\\dk-server.dk.ucsd.edu\\afassihizakeri\\rightsidemovies\\ar38motor\\2022_02_16\\23.avi\n",
      "Duration of video [s]:  12.5 , recorded with  40.0 fps!\n",
      "Overall # of frames:  500  found with (before cropping) frame dimensions:  800 480\n",
      "Starting to extract posture\n"
     ]
    },
    {
     "name": "stderr",
     "output_type": "stream",
     "text": [
      "510it [00:26, 19.54it/s]                                                                                               \n"
     ]
    },
    {
     "name": "stdout",
     "output_type": "stream",
     "text": [
      "Saving results in \\\\dk-server.dk.ucsd.edu\\afassihizakeri\\rightsidemovies\\ar38motor\\2022_02_16...\n",
      "Saving csv poses!\n",
      "Starting to analyze %  \\\\dk-server.dk.ucsd.edu\\afassihizakeri\\rightsidemovies\\ar38motor\\2022_02_16\\119.avi\n",
      "Loading  \\\\dk-server.dk.ucsd.edu\\afassihizakeri\\rightsidemovies\\ar38motor\\2022_02_16\\119.avi\n",
      "Duration of video [s]:  12.5 , recorded with  40.0 fps!\n",
      "Overall # of frames:  500  found with (before cropping) frame dimensions:  800 480\n",
      "Starting to extract posture\n"
     ]
    },
    {
     "name": "stderr",
     "output_type": "stream",
     "text": [
      "510it [00:24, 20.51it/s]                                                                                               \n"
     ]
    },
    {
     "name": "stdout",
     "output_type": "stream",
     "text": [
      "Saving results in \\\\dk-server.dk.ucsd.edu\\afassihizakeri\\rightsidemovies\\ar38motor\\2022_02_16...\n",
      "Saving csv poses!\n",
      "Starting to analyze %  \\\\dk-server.dk.ucsd.edu\\afassihizakeri\\rightsidemovies\\ar38motor\\2022_02_16\\8.avi\n",
      "Loading  \\\\dk-server.dk.ucsd.edu\\afassihizakeri\\rightsidemovies\\ar38motor\\2022_02_16\\8.avi\n",
      "Duration of video [s]:  12.5 , recorded with  40.0 fps!\n",
      "Overall # of frames:  500  found with (before cropping) frame dimensions:  800 480\n",
      "Starting to extract posture\n"
     ]
    },
    {
     "name": "stderr",
     "output_type": "stream",
     "text": [
      "510it [00:24, 20.54it/s]                                                                                               \n"
     ]
    },
    {
     "name": "stdout",
     "output_type": "stream",
     "text": [
      "Saving results in \\\\dk-server.dk.ucsd.edu\\afassihizakeri\\rightsidemovies\\ar38motor\\2022_02_16...\n",
      "Saving csv poses!\n",
      "Starting to analyze %  \\\\dk-server.dk.ucsd.edu\\afassihizakeri\\rightsidemovies\\ar38motor\\2022_02_16\\181.avi\n",
      "Loading  \\\\dk-server.dk.ucsd.edu\\afassihizakeri\\rightsidemovies\\ar38motor\\2022_02_16\\181.avi\n",
      "Duration of video [s]:  12.5 , recorded with  40.0 fps!\n",
      "Overall # of frames:  500  found with (before cropping) frame dimensions:  800 480\n",
      "Starting to extract posture\n"
     ]
    },
    {
     "name": "stderr",
     "output_type": "stream",
     "text": [
      "510it [00:24, 20.46it/s]                                                                                               \n"
     ]
    },
    {
     "name": "stdout",
     "output_type": "stream",
     "text": [
      "Saving results in \\\\dk-server.dk.ucsd.edu\\afassihizakeri\\rightsidemovies\\ar38motor\\2022_02_16...\n",
      "Saving csv poses!\n",
      "Starting to analyze %  \\\\dk-server.dk.ucsd.edu\\afassihizakeri\\rightsidemovies\\ar38motor\\2022_02_16\\247.avi\n",
      "Loading  \\\\dk-server.dk.ucsd.edu\\afassihizakeri\\rightsidemovies\\ar38motor\\2022_02_16\\247.avi\n",
      "Duration of video [s]:  12.5 , recorded with  40.0 fps!\n",
      "Overall # of frames:  500  found with (before cropping) frame dimensions:  800 480\n",
      "Starting to extract posture\n"
     ]
    },
    {
     "name": "stderr",
     "output_type": "stream",
     "text": [
      "510it [00:25, 20.27it/s]                                                                                               \n"
     ]
    },
    {
     "name": "stdout",
     "output_type": "stream",
     "text": [
      "Saving results in \\\\dk-server.dk.ucsd.edu\\afassihizakeri\\rightsidemovies\\ar38motor\\2022_02_16...\n",
      "Saving csv poses!\n",
      "Starting to analyze %  \\\\dk-server.dk.ucsd.edu\\afassihizakeri\\rightsidemovies\\ar38motor\\2022_02_16\\150.avi\n",
      "Loading  \\\\dk-server.dk.ucsd.edu\\afassihizakeri\\rightsidemovies\\ar38motor\\2022_02_16\\150.avi\n",
      "Duration of video [s]:  12.5 , recorded with  40.0 fps!\n",
      "Overall # of frames:  500  found with (before cropping) frame dimensions:  800 480\n",
      "Starting to extract posture\n"
     ]
    },
    {
     "name": "stderr",
     "output_type": "stream",
     "text": [
      "510it [00:25, 20.23it/s]                                                                                               \n"
     ]
    },
    {
     "name": "stdout",
     "output_type": "stream",
     "text": [
      "Saving results in \\\\dk-server.dk.ucsd.edu\\afassihizakeri\\rightsidemovies\\ar38motor\\2022_02_16...\n",
      "Saving csv poses!\n",
      "Starting to analyze %  \\\\dk-server.dk.ucsd.edu\\afassihizakeri\\rightsidemovies\\ar38motor\\2022_02_16\\16.avi\n",
      "Loading  \\\\dk-server.dk.ucsd.edu\\afassihizakeri\\rightsidemovies\\ar38motor\\2022_02_16\\16.avi\n",
      "Duration of video [s]:  12.5 , recorded with  40.0 fps!\n",
      "Overall # of frames:  500  found with (before cropping) frame dimensions:  800 480\n",
      "Starting to extract posture\n"
     ]
    },
    {
     "name": "stderr",
     "output_type": "stream",
     "text": [
      "510it [00:25, 20.26it/s]                                                                                               \n"
     ]
    },
    {
     "name": "stdout",
     "output_type": "stream",
     "text": [
      "Saving results in \\\\dk-server.dk.ucsd.edu\\afassihizakeri\\rightsidemovies\\ar38motor\\2022_02_16...\n",
      "Saving csv poses!\n",
      "Starting to analyze %  \\\\dk-server.dk.ucsd.edu\\afassihizakeri\\rightsidemovies\\ar38motor\\2022_02_16\\186.avi\n",
      "Loading  \\\\dk-server.dk.ucsd.edu\\afassihizakeri\\rightsidemovies\\ar38motor\\2022_02_16\\186.avi\n",
      "Duration of video [s]:  12.5 , recorded with  40.0 fps!\n",
      "Overall # of frames:  500  found with (before cropping) frame dimensions:  800 480\n",
      "Starting to extract posture\n"
     ]
    },
    {
     "name": "stderr",
     "output_type": "stream",
     "text": [
      "510it [00:24, 20.49it/s]                                                                                               \n"
     ]
    },
    {
     "name": "stdout",
     "output_type": "stream",
     "text": [
      "Saving results in \\\\dk-server.dk.ucsd.edu\\afassihizakeri\\rightsidemovies\\ar38motor\\2022_02_16...\n",
      "Saving csv poses!\n",
      "Starting to analyze %  \\\\dk-server.dk.ucsd.edu\\afassihizakeri\\rightsidemovies\\ar38motor\\2022_02_16\\240.avi\n",
      "Loading  \\\\dk-server.dk.ucsd.edu\\afassihizakeri\\rightsidemovies\\ar38motor\\2022_02_16\\240.avi\n",
      "Duration of video [s]:  12.5 , recorded with  40.0 fps!\n",
      "Overall # of frames:  500  found with (before cropping) frame dimensions:  800 480\n",
      "Starting to extract posture\n"
     ]
    },
    {
     "name": "stderr",
     "output_type": "stream",
     "text": [
      "510it [00:24, 20.45it/s]                                                                                               \n"
     ]
    },
    {
     "name": "stdout",
     "output_type": "stream",
     "text": [
      "Saving results in \\\\dk-server.dk.ucsd.edu\\afassihizakeri\\rightsidemovies\\ar38motor\\2022_02_16...\n",
      "Saving csv poses!\n",
      "Starting to analyze %  \\\\dk-server.dk.ucsd.edu\\afassihizakeri\\rightsidemovies\\ar38motor\\2022_02_16\\157.avi\n",
      "Loading  \\\\dk-server.dk.ucsd.edu\\afassihizakeri\\rightsidemovies\\ar38motor\\2022_02_16\\157.avi\n",
      "Duration of video [s]:  12.5 , recorded with  40.0 fps!\n",
      "Overall # of frames:  500  found with (before cropping) frame dimensions:  800 480\n",
      "Starting to extract posture\n"
     ]
    },
    {
     "name": "stderr",
     "output_type": "stream",
     "text": [
      "510it [00:25, 20.29it/s]                                                                                               \n"
     ]
    },
    {
     "name": "stdout",
     "output_type": "stream",
     "text": [
      "Saving results in \\\\dk-server.dk.ucsd.edu\\afassihizakeri\\rightsidemovies\\ar38motor\\2022_02_16...\n",
      "Saving csv poses!\n",
      "Starting to analyze %  \\\\dk-server.dk.ucsd.edu\\afassihizakeri\\rightsidemovies\\ar38motor\\2022_02_16\\11.avi\n",
      "Loading  \\\\dk-server.dk.ucsd.edu\\afassihizakeri\\rightsidemovies\\ar38motor\\2022_02_16\\11.avi\n",
      "Duration of video [s]:  12.5 , recorded with  40.0 fps!\n",
      "Overall # of frames:  500  found with (before cropping) frame dimensions:  800 480\n",
      "Starting to extract posture\n"
     ]
    },
    {
     "name": "stderr",
     "output_type": "stream",
     "text": [
      "510it [00:24, 20.56it/s]                                                                                               \n"
     ]
    },
    {
     "name": "stdout",
     "output_type": "stream",
     "text": [
      "Saving results in \\\\dk-server.dk.ucsd.edu\\afassihizakeri\\rightsidemovies\\ar38motor\\2022_02_16...\n",
      "Saving csv poses!\n",
      "Starting to analyze %  \\\\dk-server.dk.ucsd.edu\\afassihizakeri\\rightsidemovies\\ar38motor\\2022_02_16\\232.avi\n",
      "Loading  \\\\dk-server.dk.ucsd.edu\\afassihizakeri\\rightsidemovies\\ar38motor\\2022_02_16\\232.avi\n",
      "Duration of video [s]:  12.5 , recorded with  40.0 fps!\n",
      "Overall # of frames:  500  found with (before cropping) frame dimensions:  800 480\n",
      "Starting to extract posture\n"
     ]
    },
    {
     "name": "stderr",
     "output_type": "stream",
     "text": [
      "510it [00:24, 20.44it/s]                                                                                               \n"
     ]
    },
    {
     "name": "stdout",
     "output_type": "stream",
     "text": [
      "Saving results in \\\\dk-server.dk.ucsd.edu\\afassihizakeri\\rightsidemovies\\ar38motor\\2022_02_16...\n",
      "Saving csv poses!\n",
      "Starting to analyze %  \\\\dk-server.dk.ucsd.edu\\afassihizakeri\\rightsidemovies\\ar38motor\\2022_02_16\\125.avi\n",
      "Loading  \\\\dk-server.dk.ucsd.edu\\afassihizakeri\\rightsidemovies\\ar38motor\\2022_02_16\\125.avi\n",
      "Duration of video [s]:  12.5 , recorded with  40.0 fps!\n",
      "Overall # of frames:  500  found with (before cropping) frame dimensions:  800 480\n",
      "Starting to extract posture\n"
     ]
    },
    {
     "name": "stderr",
     "output_type": "stream",
     "text": [
      "510it [00:25, 20.19it/s]                                                                                               \n"
     ]
    },
    {
     "name": "stdout",
     "output_type": "stream",
     "text": [
      "Saving results in \\\\dk-server.dk.ucsd.edu\\afassihizakeri\\rightsidemovies\\ar38motor\\2022_02_16...\n",
      "Saving csv poses!\n",
      "Starting to analyze %  \\\\dk-server.dk.ucsd.edu\\afassihizakeri\\rightsidemovies\\ar38motor\\2022_02_16\\63.avi\n",
      "Loading  \\\\dk-server.dk.ucsd.edu\\afassihizakeri\\rightsidemovies\\ar38motor\\2022_02_16\\63.avi\n",
      "Duration of video [s]:  12.5 , recorded with  40.0 fps!\n",
      "Overall # of frames:  500  found with (before cropping) frame dimensions:  800 480\n",
      "Starting to extract posture\n"
     ]
    },
    {
     "name": "stderr",
     "output_type": "stream",
     "text": [
      "510it [00:24, 20.43it/s]                                                                                               \n"
     ]
    },
    {
     "name": "stdout",
     "output_type": "stream",
     "text": [
      "Saving results in \\\\dk-server.dk.ucsd.edu\\afassihizakeri\\rightsidemovies\\ar38motor\\2022_02_16...\n",
      "Saving csv poses!\n",
      "Starting to analyze %  \\\\dk-server.dk.ucsd.edu\\afassihizakeri\\rightsidemovies\\ar38motor\\2022_02_16\\188.avi\n",
      "Loading  \\\\dk-server.dk.ucsd.edu\\afassihizakeri\\rightsidemovies\\ar38motor\\2022_02_16\\188.avi\n",
      "Duration of video [s]:  12.5 , recorded with  40.0 fps!\n",
      "Overall # of frames:  500  found with (before cropping) frame dimensions:  800 480\n",
      "Starting to extract posture\n"
     ]
    },
    {
     "name": "stderr",
     "output_type": "stream",
     "text": [
      "510it [00:24, 20.50it/s]                                                                                               \n"
     ]
    },
    {
     "name": "stdout",
     "output_type": "stream",
     "text": [
      "Saving results in \\\\dk-server.dk.ucsd.edu\\afassihizakeri\\rightsidemovies\\ar38motor\\2022_02_16...\n",
      "Saving csv poses!\n",
      "Starting to analyze %  \\\\dk-server.dk.ucsd.edu\\afassihizakeri\\rightsidemovies\\ar38motor\\2022_02_16\\159.avi\n",
      "Loading  \\\\dk-server.dk.ucsd.edu\\afassihizakeri\\rightsidemovies\\ar38motor\\2022_02_16\\159.avi\n",
      "Duration of video [s]:  12.5 , recorded with  40.0 fps!\n",
      "Overall # of frames:  500  found with (before cropping) frame dimensions:  800 480\n",
      "Starting to extract posture\n"
     ]
    },
    {
     "name": "stderr",
     "output_type": "stream",
     "text": [
      "510it [00:25, 20.23it/s]                                                                                               \n"
     ]
    },
    {
     "name": "stdout",
     "output_type": "stream",
     "text": [
      "Saving results in \\\\dk-server.dk.ucsd.edu\\afassihizakeri\\rightsidemovies\\ar38motor\\2022_02_16...\n",
      "Saving csv poses!\n",
      "Starting to analyze %  \\\\dk-server.dk.ucsd.edu\\afassihizakeri\\rightsidemovies\\ar38motor\\2022_02_16\\249.avi\n",
      "Loading  \\\\dk-server.dk.ucsd.edu\\afassihizakeri\\rightsidemovies\\ar38motor\\2022_02_16\\249.avi\n",
      "Duration of video [s]:  12.5 , recorded with  40.0 fps!\n",
      "Overall # of frames:  500  found with (before cropping) frame dimensions:  800 480\n",
      "Starting to extract posture\n"
     ]
    },
    {
     "name": "stderr",
     "output_type": "stream",
     "text": [
      "510it [00:24, 20.49it/s]                                                                                               \n"
     ]
    },
    {
     "name": "stdout",
     "output_type": "stream",
     "text": [
      "Saving results in \\\\dk-server.dk.ucsd.edu\\afassihizakeri\\rightsidemovies\\ar38motor\\2022_02_16...\n",
      "Saving csv poses!\n",
      "Starting to analyze %  \\\\dk-server.dk.ucsd.edu\\afassihizakeri\\rightsidemovies\\ar38motor\\2022_02_16\\18.avi\n",
      "Loading  \\\\dk-server.dk.ucsd.edu\\afassihizakeri\\rightsidemovies\\ar38motor\\2022_02_16\\18.avi\n",
      "Duration of video [s]:  12.5 , recorded with  40.0 fps!\n",
      "Overall # of frames:  500  found with (before cropping) frame dimensions:  800 480\n",
      "Starting to extract posture\n"
     ]
    },
    {
     "name": "stderr",
     "output_type": "stream",
     "text": [
      "510it [00:24, 20.45it/s]                                                                                               \n"
     ]
    },
    {
     "name": "stdout",
     "output_type": "stream",
     "text": [
      "Saving results in \\\\dk-server.dk.ucsd.edu\\afassihizakeri\\rightsidemovies\\ar38motor\\2022_02_16...\n",
      "Saving csv poses!\n",
      "Starting to analyze %  \\\\dk-server.dk.ucsd.edu\\afassihizakeri\\rightsidemovies\\ar38motor\\2022_02_16\\235.avi\n",
      "Loading  \\\\dk-server.dk.ucsd.edu\\afassihizakeri\\rightsidemovies\\ar38motor\\2022_02_16\\235.avi\n",
      "Duration of video [s]:  12.5 , recorded with  40.0 fps!\n",
      "Overall # of frames:  500  found with (before cropping) frame dimensions:  800 480\n",
      "Starting to extract posture\n"
     ]
    },
    {
     "name": "stderr",
     "output_type": "stream",
     "text": [
      "510it [00:24, 20.50it/s]                                                                                               \n"
     ]
    },
    {
     "name": "stdout",
     "output_type": "stream",
     "text": [
      "Saving results in \\\\dk-server.dk.ucsd.edu\\afassihizakeri\\rightsidemovies\\ar38motor\\2022_02_16...\n",
      "Saving csv poses!\n",
      "Starting to analyze %  \\\\dk-server.dk.ucsd.edu\\afassihizakeri\\rightsidemovies\\ar38motor\\2022_02_16\\122.avi\n",
      "Loading  \\\\dk-server.dk.ucsd.edu\\afassihizakeri\\rightsidemovies\\ar38motor\\2022_02_16\\122.avi\n",
      "Duration of video [s]:  12.5 , recorded with  40.0 fps!\n",
      "Overall # of frames:  500  found with (before cropping) frame dimensions:  800 480\n",
      "Starting to extract posture\n"
     ]
    },
    {
     "name": "stderr",
     "output_type": "stream",
     "text": [
      "510it [00:24, 20.53it/s]                                                                                               \n"
     ]
    },
    {
     "name": "stdout",
     "output_type": "stream",
     "text": [
      "Saving results in \\\\dk-server.dk.ucsd.edu\\afassihizakeri\\rightsidemovies\\ar38motor\\2022_02_16...\n",
      "Saving csv poses!\n",
      "Starting to analyze %  \\\\dk-server.dk.ucsd.edu\\afassihizakeri\\rightsidemovies\\ar38motor\\2022_02_16\\64.avi\n",
      "Loading  \\\\dk-server.dk.ucsd.edu\\afassihizakeri\\rightsidemovies\\ar38motor\\2022_02_16\\64.avi\n",
      "Duration of video [s]:  12.5 , recorded with  40.0 fps!\n",
      "Overall # of frames:  500  found with (before cropping) frame dimensions:  800 480\n",
      "Starting to extract posture\n"
     ]
    },
    {
     "name": "stderr",
     "output_type": "stream",
     "text": [
      "510it [00:25, 19.95it/s]                                                                                               \n"
     ]
    },
    {
     "name": "stdout",
     "output_type": "stream",
     "text": [
      "Saving results in \\\\dk-server.dk.ucsd.edu\\afassihizakeri\\rightsidemovies\\ar38motor\\2022_02_16...\n",
      "Saving csv poses!\n",
      "Starting to analyze %  \\\\dk-server.dk.ucsd.edu\\afassihizakeri\\rightsidemovies\\ar38motor\\2022_02_16\\258.avi\n",
      "Loading  \\\\dk-server.dk.ucsd.edu\\afassihizakeri\\rightsidemovies\\ar38motor\\2022_02_16\\258.avi\n",
      "Duration of video [s]:  12.5 , recorded with  40.0 fps!\n",
      "Overall # of frames:  500  found with (before cropping) frame dimensions:  800 480\n",
      "Starting to extract posture\n"
     ]
    },
    {
     "name": "stderr",
     "output_type": "stream",
     "text": [
      "510it [00:25, 20.16it/s]                                                                                               \n"
     ]
    },
    {
     "name": "stdout",
     "output_type": "stream",
     "text": [
      "Saving results in \\\\dk-server.dk.ucsd.edu\\afassihizakeri\\rightsidemovies\\ar38motor\\2022_02_16...\n",
      "Saving csv poses!\n",
      "Starting to analyze %  \\\\dk-server.dk.ucsd.edu\\afassihizakeri\\rightsidemovies\\ar38motor\\2022_02_16\\75.avi\n",
      "Loading  \\\\dk-server.dk.ucsd.edu\\afassihizakeri\\rightsidemovies\\ar38motor\\2022_02_16\\75.avi\n",
      "Duration of video [s]:  12.5 , recorded with  40.0 fps!\n",
      "Overall # of frames:  500  found with (before cropping) frame dimensions:  800 480\n",
      "Starting to extract posture\n"
     ]
    },
    {
     "name": "stderr",
     "output_type": "stream",
     "text": [
      "510it [00:25, 20.13it/s]                                                                                               \n"
     ]
    },
    {
     "name": "stdout",
     "output_type": "stream",
     "text": [
      "Saving results in \\\\dk-server.dk.ucsd.edu\\afassihizakeri\\rightsidemovies\\ar38motor\\2022_02_16...\n",
      "Saving csv poses!\n",
      "Starting to analyze %  \\\\dk-server.dk.ucsd.edu\\afassihizakeri\\rightsidemovies\\ar38motor\\2022_02_16\\133.avi\n",
      "Loading  \\\\dk-server.dk.ucsd.edu\\afassihizakeri\\rightsidemovies\\ar38motor\\2022_02_16\\133.avi\n",
      "Duration of video [s]:  12.5 , recorded with  40.0 fps!\n",
      "Overall # of frames:  500  found with (before cropping) frame dimensions:  800 480\n",
      "Starting to extract posture\n"
     ]
    },
    {
     "name": "stderr",
     "output_type": "stream",
     "text": [
      "510it [00:25, 19.81it/s]                                                                                               \n"
     ]
    },
    {
     "name": "stdout",
     "output_type": "stream",
     "text": [
      "Saving results in \\\\dk-server.dk.ucsd.edu\\afassihizakeri\\rightsidemovies\\ar38motor\\2022_02_16...\n",
      "Saving csv poses!\n",
      "Starting to analyze %  \\\\dk-server.dk.ucsd.edu\\afassihizakeri\\rightsidemovies\\ar38motor\\2022_02_16\\224.avi\n",
      "Loading  \\\\dk-server.dk.ucsd.edu\\afassihizakeri\\rightsidemovies\\ar38motor\\2022_02_16\\224.avi\n",
      "Duration of video [s]:  12.5 , recorded with  40.0 fps!\n",
      "Overall # of frames:  500  found with (before cropping) frame dimensions:  800 480\n",
      "Starting to extract posture\n"
     ]
    },
    {
     "name": "stderr",
     "output_type": "stream",
     "text": [
      "510it [00:24, 20.48it/s]                                                                                               \n"
     ]
    },
    {
     "name": "stdout",
     "output_type": "stream",
     "text": [
      "Saving results in \\\\dk-server.dk.ucsd.edu\\afassihizakeri\\rightsidemovies\\ar38motor\\2022_02_16...\n",
      "Saving csv poses!\n",
      "Starting to analyze %  \\\\dk-server.dk.ucsd.edu\\afassihizakeri\\rightsidemovies\\ar38motor\\2022_02_16\\72.avi\n",
      "Loading  \\\\dk-server.dk.ucsd.edu\\afassihizakeri\\rightsidemovies\\ar38motor\\2022_02_16\\72.avi\n",
      "Duration of video [s]:  12.5 , recorded with  40.0 fps!\n",
      "Overall # of frames:  500  found with (before cropping) frame dimensions:  800 480\n",
      "Starting to extract posture\n"
     ]
    },
    {
     "name": "stderr",
     "output_type": "stream",
     "text": [
      "510it [00:24, 20.50it/s]                                                                                               \n"
     ]
    },
    {
     "name": "stdout",
     "output_type": "stream",
     "text": [
      "Saving results in \\\\dk-server.dk.ucsd.edu\\afassihizakeri\\rightsidemovies\\ar38motor\\2022_02_16...\n",
      "Saving csv poses!\n",
      "Starting to analyze %  \\\\dk-server.dk.ucsd.edu\\afassihizakeri\\rightsidemovies\\ar38motor\\2022_02_16\\134.avi\n",
      "Loading  \\\\dk-server.dk.ucsd.edu\\afassihizakeri\\rightsidemovies\\ar38motor\\2022_02_16\\134.avi\n",
      "Duration of video [s]:  12.5 , recorded with  40.0 fps!\n",
      "Overall # of frames:  500  found with (before cropping) frame dimensions:  800 480\n",
      "Starting to extract posture\n"
     ]
    },
    {
     "name": "stderr",
     "output_type": "stream",
     "text": [
      "510it [00:25, 20.34it/s]                                                                                               \n"
     ]
    },
    {
     "name": "stdout",
     "output_type": "stream",
     "text": [
      "Saving results in \\\\dk-server.dk.ucsd.edu\\afassihizakeri\\rightsidemovies\\ar38motor\\2022_02_16...\n",
      "Saving csv poses!\n",
      "Starting to analyze %  \\\\dk-server.dk.ucsd.edu\\afassihizakeri\\rightsidemovies\\ar38motor\\2022_02_16\\223.avi\n",
      "Loading  \\\\dk-server.dk.ucsd.edu\\afassihizakeri\\rightsidemovies\\ar38motor\\2022_02_16\\223.avi\n",
      "Duration of video [s]:  12.5 , recorded with  40.0 fps!\n",
      "Overall # of frames:  500  found with (before cropping) frame dimensions:  800 480\n",
      "Starting to extract posture\n"
     ]
    },
    {
     "name": "stderr",
     "output_type": "stream",
     "text": [
      "510it [00:25, 19.67it/s]                                                                                               \n"
     ]
    },
    {
     "name": "stdout",
     "output_type": "stream",
     "text": [
      "Saving results in \\\\dk-server.dk.ucsd.edu\\afassihizakeri\\rightsidemovies\\ar38motor\\2022_02_16...\n",
      "Saving csv poses!\n",
      "Starting to analyze %  \\\\dk-server.dk.ucsd.edu\\afassihizakeri\\rightsidemovies\\ar38motor\\2022_02_16\\148.avi\n",
      "Loading  \\\\dk-server.dk.ucsd.edu\\afassihizakeri\\rightsidemovies\\ar38motor\\2022_02_16\\148.avi\n",
      "Duration of video [s]:  12.5 , recorded with  40.0 fps!\n",
      "Overall # of frames:  500  found with (before cropping) frame dimensions:  800 480\n",
      "Starting to extract posture\n"
     ]
    },
    {
     "name": "stderr",
     "output_type": "stream",
     "text": [
      "510it [00:24, 20.58it/s]                                                                                               \n"
     ]
    },
    {
     "name": "stdout",
     "output_type": "stream",
     "text": [
      "Saving results in \\\\dk-server.dk.ucsd.edu\\afassihizakeri\\rightsidemovies\\ar38motor\\2022_02_16...\n",
      "Saving csv poses!\n",
      "Starting to analyze %  \\\\dk-server.dk.ucsd.edu\\afassihizakeri\\rightsidemovies\\ar38motor\\2022_02_16\\199.avi\n",
      "Loading  \\\\dk-server.dk.ucsd.edu\\afassihizakeri\\rightsidemovies\\ar38motor\\2022_02_16\\199.avi\n",
      "Duration of video [s]:  12.5 , recorded with  40.0 fps!\n",
      "Overall # of frames:  500  found with (before cropping) frame dimensions:  800 480\n",
      "Starting to extract posture\n"
     ]
    },
    {
     "name": "stderr",
     "output_type": "stream",
     "text": [
      "510it [00:25, 20.15it/s]                                                                                               \n"
     ]
    },
    {
     "name": "stdout",
     "output_type": "stream",
     "text": [
      "Saving results in \\\\dk-server.dk.ucsd.edu\\afassihizakeri\\rightsidemovies\\ar38motor\\2022_02_16...\n",
      "Saving csv poses!\n",
      "Starting to analyze %  \\\\dk-server.dk.ucsd.edu\\afassihizakeri\\rightsidemovies\\ar38motor\\2022_02_16\\146.avi\n",
      "Loading  \\\\dk-server.dk.ucsd.edu\\afassihizakeri\\rightsidemovies\\ar38motor\\2022_02_16\\146.avi\n",
      "Duration of video [s]:  12.5 , recorded with  40.0 fps!\n",
      "Overall # of frames:  500  found with (before cropping) frame dimensions:  800 480\n",
      "Starting to extract posture\n"
     ]
    },
    {
     "name": "stderr",
     "output_type": "stream",
     "text": [
      "510it [00:24, 20.53it/s]                                                                                               \n"
     ]
    },
    {
     "name": "stdout",
     "output_type": "stream",
     "text": [
      "Saving results in \\\\dk-server.dk.ucsd.edu\\afassihizakeri\\rightsidemovies\\ar38motor\\2022_02_16...\n",
      "Saving csv poses!\n",
      "Starting to analyze %  \\\\dk-server.dk.ucsd.edu\\afassihizakeri\\rightsidemovies\\ar38motor\\2022_02_16\\197.avi\n",
      "Loading  \\\\dk-server.dk.ucsd.edu\\afassihizakeri\\rightsidemovies\\ar38motor\\2022_02_16\\197.avi\n",
      "Duration of video [s]:  12.5 , recorded with  40.0 fps!\n",
      "Overall # of frames:  500  found with (before cropping) frame dimensions:  800 480\n",
      "Starting to extract posture\n"
     ]
    },
    {
     "name": "stderr",
     "output_type": "stream",
     "text": [
      "510it [00:25, 20.13it/s]                                                                                               \n"
     ]
    },
    {
     "name": "stdout",
     "output_type": "stream",
     "text": [
      "Saving results in \\\\dk-server.dk.ucsd.edu\\afassihizakeri\\rightsidemovies\\ar38motor\\2022_02_16...\n",
      "Saving csv poses!\n",
      "Starting to analyze %  \\\\dk-server.dk.ucsd.edu\\afassihizakeri\\rightsidemovies\\ar38motor\\2022_02_16\\251.avi\n",
      "Loading  \\\\dk-server.dk.ucsd.edu\\afassihizakeri\\rightsidemovies\\ar38motor\\2022_02_16\\251.avi\n",
      "Duration of video [s]:  12.5 , recorded with  40.0 fps!\n",
      "Overall # of frames:  500  found with (before cropping) frame dimensions:  800 480\n",
      "Starting to extract posture\n"
     ]
    },
    {
     "name": "stderr",
     "output_type": "stream",
     "text": [
      "510it [00:24, 20.57it/s]                                                                                               \n"
     ]
    },
    {
     "name": "stdout",
     "output_type": "stream",
     "text": [
      "Saving results in \\\\dk-server.dk.ucsd.edu\\afassihizakeri\\rightsidemovies\\ar38motor\\2022_02_16...\n",
      "Saving csv poses!\n",
      "Starting to analyze %  \\\\dk-server.dk.ucsd.edu\\afassihizakeri\\rightsidemovies\\ar38motor\\2022_02_16\\141.avi\n",
      "Loading  \\\\dk-server.dk.ucsd.edu\\afassihizakeri\\rightsidemovies\\ar38motor\\2022_02_16\\141.avi\n",
      "Duration of video [s]:  12.5 , recorded with  40.0 fps!\n",
      "Overall # of frames:  500  found with (before cropping) frame dimensions:  800 480\n",
      "Starting to extract posture\n"
     ]
    },
    {
     "name": "stderr",
     "output_type": "stream",
     "text": [
      "510it [00:24, 20.51it/s]                                                                                               \n"
     ]
    },
    {
     "name": "stdout",
     "output_type": "stream",
     "text": [
      "Saving results in \\\\dk-server.dk.ucsd.edu\\afassihizakeri\\rightsidemovies\\ar38motor\\2022_02_16...\n",
      "Saving csv poses!\n",
      "Starting to analyze %  \\\\dk-server.dk.ucsd.edu\\afassihizakeri\\rightsidemovies\\ar38motor\\2022_02_16\\190.avi\n",
      "Loading  \\\\dk-server.dk.ucsd.edu\\afassihizakeri\\rightsidemovies\\ar38motor\\2022_02_16\\190.avi\n",
      "Duration of video [s]:  12.5 , recorded with  40.0 fps!\n",
      "Overall # of frames:  500  found with (before cropping) frame dimensions:  800 480\n",
      "Starting to extract posture\n"
     ]
    },
    {
     "name": "stderr",
     "output_type": "stream",
     "text": [
      "510it [00:25, 20.23it/s]                                                                                               \n"
     ]
    },
    {
     "name": "stdout",
     "output_type": "stream",
     "text": [
      "Saving results in \\\\dk-server.dk.ucsd.edu\\afassihizakeri\\rightsidemovies\\ar38motor\\2022_02_16...\n",
      "Saving csv poses!\n",
      "Starting to analyze %  \\\\dk-server.dk.ucsd.edu\\afassihizakeri\\rightsidemovies\\ar38motor\\2022_02_16\\256.avi\n",
      "Loading  \\\\dk-server.dk.ucsd.edu\\afassihizakeri\\rightsidemovies\\ar38motor\\2022_02_16\\256.avi\n",
      "Duration of video [s]:  12.5 , recorded with  40.0 fps!\n",
      "Overall # of frames:  500  found with (before cropping) frame dimensions:  800 480\n",
      "Starting to extract posture\n"
     ]
    },
    {
     "name": "stderr",
     "output_type": "stream",
     "text": [
      "510it [00:24, 20.41it/s]                                                                                               \n"
     ]
    },
    {
     "name": "stdout",
     "output_type": "stream",
     "text": [
      "Saving results in \\\\dk-server.dk.ucsd.edu\\afassihizakeri\\rightsidemovies\\ar38motor\\2022_02_16...\n",
      "Saving csv poses!\n",
      "Starting to analyze %  \\\\dk-server.dk.ucsd.edu\\afassihizakeri\\rightsidemovies\\ar38motor\\2022_02_16\\32.avi\n",
      "Loading  \\\\dk-server.dk.ucsd.edu\\afassihizakeri\\rightsidemovies\\ar38motor\\2022_02_16\\32.avi\n",
      "Duration of video [s]:  12.5 , recorded with  40.0 fps!\n",
      "Overall # of frames:  500  found with (before cropping) frame dimensions:  800 480\n",
      "Starting to extract posture\n"
     ]
    },
    {
     "name": "stderr",
     "output_type": "stream",
     "text": [
      "510it [00:25, 20.38it/s]                                                                                               \n"
     ]
    },
    {
     "name": "stdout",
     "output_type": "stream",
     "text": [
      "Saving results in \\\\dk-server.dk.ucsd.edu\\afassihizakeri\\rightsidemovies\\ar38motor\\2022_02_16...\n",
      "Saving csv poses!\n",
      "Starting to analyze %  \\\\dk-server.dk.ucsd.edu\\afassihizakeri\\rightsidemovies\\ar38motor\\2022_02_16\\263.avi\n",
      "Loading  \\\\dk-server.dk.ucsd.edu\\afassihizakeri\\rightsidemovies\\ar38motor\\2022_02_16\\263.avi\n",
      "Duration of video [s]:  12.5 , recorded with  40.0 fps!\n",
      "Overall # of frames:  500  found with (before cropping) frame dimensions:  800 480\n",
      "Starting to extract posture\n"
     ]
    },
    {
     "name": "stderr",
     "output_type": "stream",
     "text": [
      "510it [00:24, 20.51it/s]                                                                                               \n"
     ]
    },
    {
     "name": "stdout",
     "output_type": "stream",
     "text": [
      "Saving results in \\\\dk-server.dk.ucsd.edu\\afassihizakeri\\rightsidemovies\\ar38motor\\2022_02_16...\n",
      "Saving csv poses!\n",
      "Starting to analyze %  \\\\dk-server.dk.ucsd.edu\\afassihizakeri\\rightsidemovies\\ar38motor\\2022_02_16\\174.avi\n",
      "Loading  \\\\dk-server.dk.ucsd.edu\\afassihizakeri\\rightsidemovies\\ar38motor\\2022_02_16\\174.avi\n",
      "Duration of video [s]:  12.5 , recorded with  40.0 fps!\n",
      "Overall # of frames:  500  found with (before cropping) frame dimensions:  800 480\n",
      "Starting to extract posture\n"
     ]
    },
    {
     "name": "stderr",
     "output_type": "stream",
     "text": [
      "510it [00:24, 20.44it/s]                                                                                               \n"
     ]
    },
    {
     "name": "stdout",
     "output_type": "stream",
     "text": [
      "Saving results in \\\\dk-server.dk.ucsd.edu\\afassihizakeri\\rightsidemovies\\ar38motor\\2022_02_16...\n",
      "Saving csv poses!\n",
      "Starting to analyze %  \\\\dk-server.dk.ucsd.edu\\afassihizakeri\\rightsidemovies\\ar38motor\\2022_02_16\\108.avi\n",
      "Loading  \\\\dk-server.dk.ucsd.edu\\afassihizakeri\\rightsidemovies\\ar38motor\\2022_02_16\\108.avi\n",
      "Duration of video [s]:  12.5 , recorded with  40.0 fps!\n",
      "Overall # of frames:  500  found with (before cropping) frame dimensions:  800 480\n",
      "Starting to extract posture\n"
     ]
    },
    {
     "name": "stderr",
     "output_type": "stream",
     "text": [
      "510it [00:24, 20.46it/s]                                                                                               \n"
     ]
    },
    {
     "name": "stdout",
     "output_type": "stream",
     "text": [
      "Saving results in \\\\dk-server.dk.ucsd.edu\\afassihizakeri\\rightsidemovies\\ar38motor\\2022_02_16...\n",
      "Saving csv poses!\n",
      "Starting to analyze %  \\\\dk-server.dk.ucsd.edu\\afassihizakeri\\rightsidemovies\\ar38motor\\2022_02_16\\98.avi\n",
      "Loading  \\\\dk-server.dk.ucsd.edu\\afassihizakeri\\rightsidemovies\\ar38motor\\2022_02_16\\98.avi\n",
      "Duration of video [s]:  12.5 , recorded with  40.0 fps!\n",
      "Overall # of frames:  500  found with (before cropping) frame dimensions:  800 480\n",
      "Starting to extract posture\n"
     ]
    },
    {
     "name": "stderr",
     "output_type": "stream",
     "text": [
      "510it [00:24, 20.62it/s]                                                                                               \n"
     ]
    },
    {
     "name": "stdout",
     "output_type": "stream",
     "text": [
      "Saving results in \\\\dk-server.dk.ucsd.edu\\afassihizakeri\\rightsidemovies\\ar38motor\\2022_02_16...\n",
      "Saving csv poses!\n",
      "Starting to analyze %  \\\\dk-server.dk.ucsd.edu\\afassihizakeri\\rightsidemovies\\ar38motor\\2022_02_16\\49.avi\n",
      "Loading  \\\\dk-server.dk.ucsd.edu\\afassihizakeri\\rightsidemovies\\ar38motor\\2022_02_16\\49.avi\n",
      "Duration of video [s]:  12.5 , recorded with  40.0 fps!\n",
      "Overall # of frames:  500  found with (before cropping) frame dimensions:  800 480\n",
      "Starting to extract posture\n"
     ]
    },
    {
     "name": "stderr",
     "output_type": "stream",
     "text": [
      "510it [00:24, 20.54it/s]                                                                                               \n"
     ]
    },
    {
     "name": "stdout",
     "output_type": "stream",
     "text": [
      "Saving results in \\\\dk-server.dk.ucsd.edu\\afassihizakeri\\rightsidemovies\\ar38motor\\2022_02_16...\n",
      "Saving csv poses!\n",
      "Starting to analyze %  \\\\dk-server.dk.ucsd.edu\\afassihizakeri\\rightsidemovies\\ar38motor\\2022_02_16\\218.avi\n",
      "Loading  \\\\dk-server.dk.ucsd.edu\\afassihizakeri\\rightsidemovies\\ar38motor\\2022_02_16\\218.avi\n",
      "Duration of video [s]:  12.5 , recorded with  40.0 fps!\n",
      "Overall # of frames:  500  found with (before cropping) frame dimensions:  800 480\n",
      "Starting to extract posture\n"
     ]
    },
    {
     "name": "stderr",
     "output_type": "stream",
     "text": [
      "510it [00:24, 20.43it/s]                                                                                               \n"
     ]
    },
    {
     "name": "stdout",
     "output_type": "stream",
     "text": [
      "Saving results in \\\\dk-server.dk.ucsd.edu\\afassihizakeri\\rightsidemovies\\ar38motor\\2022_02_16...\n",
      "Saving csv poses!\n",
      "Starting to analyze %  \\\\dk-server.dk.ucsd.edu\\afassihizakeri\\rightsidemovies\\ar38motor\\2022_02_16\\35.avi\n",
      "Loading  \\\\dk-server.dk.ucsd.edu\\afassihizakeri\\rightsidemovies\\ar38motor\\2022_02_16\\35.avi\n",
      "Duration of video [s]:  12.5 , recorded with  40.0 fps!\n",
      "Overall # of frames:  500  found with (before cropping) frame dimensions:  800 480\n",
      "Starting to extract posture\n"
     ]
    },
    {
     "name": "stderr",
     "output_type": "stream",
     "text": [
      "510it [00:24, 20.42it/s]                                                                                               \n"
     ]
    },
    {
     "name": "stdout",
     "output_type": "stream",
     "text": [
      "Saving results in \\\\dk-server.dk.ucsd.edu\\afassihizakeri\\rightsidemovies\\ar38motor\\2022_02_16...\n",
      "Saving csv poses!\n",
      "Starting to analyze %  \\\\dk-server.dk.ucsd.edu\\afassihizakeri\\rightsidemovies\\ar38motor\\2022_02_16\\173.avi\n",
      "Loading  \\\\dk-server.dk.ucsd.edu\\afassihizakeri\\rightsidemovies\\ar38motor\\2022_02_16\\173.avi\n",
      "Duration of video [s]:  12.5 , recorded with  40.0 fps!\n",
      "Overall # of frames:  500  found with (before cropping) frame dimensions:  800 480\n",
      "Starting to extract posture\n"
     ]
    },
    {
     "name": "stderr",
     "output_type": "stream",
     "text": [
      "510it [00:24, 20.50it/s]                                                                                               \n"
     ]
    },
    {
     "name": "stdout",
     "output_type": "stream",
     "text": [
      "Saving results in \\\\dk-server.dk.ucsd.edu\\afassihizakeri\\rightsidemovies\\ar38motor\\2022_02_16...\n",
      "Saving csv poses!\n",
      "Starting to analyze %  \\\\dk-server.dk.ucsd.edu\\afassihizakeri\\rightsidemovies\\ar38motor\\2022_02_16\\96.avi\n",
      "Loading  \\\\dk-server.dk.ucsd.edu\\afassihizakeri\\rightsidemovies\\ar38motor\\2022_02_16\\96.avi\n",
      "Duration of video [s]:  12.5 , recorded with  40.0 fps!\n",
      "Overall # of frames:  500  found with (before cropping) frame dimensions:  800 480\n",
      "Starting to extract posture\n"
     ]
    },
    {
     "name": "stderr",
     "output_type": "stream",
     "text": [
      "510it [00:24, 20.48it/s]                                                                                               \n"
     ]
    },
    {
     "name": "stdout",
     "output_type": "stream",
     "text": [
      "Saving results in \\\\dk-server.dk.ucsd.edu\\afassihizakeri\\rightsidemovies\\ar38motor\\2022_02_16...\n",
      "Saving csv poses!\n",
      "Starting to analyze %  \\\\dk-server.dk.ucsd.edu\\afassihizakeri\\rightsidemovies\\ar38motor\\2022_02_16\\47.avi\n",
      "Loading  \\\\dk-server.dk.ucsd.edu\\afassihizakeri\\rightsidemovies\\ar38motor\\2022_02_16\\47.avi\n",
      "Duration of video [s]:  12.5 , recorded with  40.0 fps!\n",
      "Overall # of frames:  500  found with (before cropping) frame dimensions:  800 480\n",
      "Starting to extract posture\n"
     ]
    },
    {
     "name": "stderr",
     "output_type": "stream",
     "text": [
      "510it [00:25, 20.17it/s]                                                                                               \n"
     ]
    },
    {
     "name": "stdout",
     "output_type": "stream",
     "text": [
      "Saving results in \\\\dk-server.dk.ucsd.edu\\afassihizakeri\\rightsidemovies\\ar38motor\\2022_02_16...\n",
      "Saving csv poses!\n",
      "Starting to analyze %  \\\\dk-server.dk.ucsd.edu\\afassihizakeri\\rightsidemovies\\ar38motor\\2022_02_16\\216.avi\n",
      "Loading  \\\\dk-server.dk.ucsd.edu\\afassihizakeri\\rightsidemovies\\ar38motor\\2022_02_16\\216.avi\n",
      "Duration of video [s]:  12.5 , recorded with  40.0 fps!\n",
      "Overall # of frames:  500  found with (before cropping) frame dimensions:  800 480\n",
      "Starting to extract posture\n"
     ]
    },
    {
     "name": "stderr",
     "output_type": "stream",
     "text": [
      "510it [00:25, 20.22it/s]                                                                                               \n"
     ]
    },
    {
     "name": "stdout",
     "output_type": "stream",
     "text": [
      "Saving results in \\\\dk-server.dk.ucsd.edu\\afassihizakeri\\rightsidemovies\\ar38motor\\2022_02_16...\n",
      "Saving csv poses!\n",
      "Starting to analyze %  \\\\dk-server.dk.ucsd.edu\\afassihizakeri\\rightsidemovies\\ar38motor\\2022_02_16\\101.avi\n",
      "Loading  \\\\dk-server.dk.ucsd.edu\\afassihizakeri\\rightsidemovies\\ar38motor\\2022_02_16\\101.avi\n",
      "Duration of video [s]:  12.5 , recorded with  40.0 fps!\n",
      "Overall # of frames:  500  found with (before cropping) frame dimensions:  800 480\n",
      "Starting to extract posture\n"
     ]
    },
    {
     "name": "stderr",
     "output_type": "stream",
     "text": [
      "510it [00:25, 20.03it/s]                                                                                               \n"
     ]
    },
    {
     "name": "stdout",
     "output_type": "stream",
     "text": [
      "Saving results in \\\\dk-server.dk.ucsd.edu\\afassihizakeri\\rightsidemovies\\ar38motor\\2022_02_16...\n",
      "Saving csv poses!\n",
      "Starting to analyze %  \\\\dk-server.dk.ucsd.edu\\afassihizakeri\\rightsidemovies\\ar38motor\\2022_02_16\\91.avi\n",
      "Loading  \\\\dk-server.dk.ucsd.edu\\afassihizakeri\\rightsidemovies\\ar38motor\\2022_02_16\\91.avi\n",
      "Duration of video [s]:  12.5 , recorded with  40.0 fps!\n",
      "Overall # of frames:  500  found with (before cropping) frame dimensions:  800 480\n",
      "Starting to extract posture\n"
     ]
    },
    {
     "name": "stderr",
     "output_type": "stream",
     "text": [
      "510it [00:25, 20.07it/s]                                                                                               \n"
     ]
    },
    {
     "name": "stdout",
     "output_type": "stream",
     "text": [
      "Saving results in \\\\dk-server.dk.ucsd.edu\\afassihizakeri\\rightsidemovies\\ar38motor\\2022_02_16...\n",
      "Saving csv poses!\n",
      "Starting to analyze %  \\\\dk-server.dk.ucsd.edu\\afassihizakeri\\rightsidemovies\\ar38motor\\2022_02_16\\40.avi\n",
      "Loading  \\\\dk-server.dk.ucsd.edu\\afassihizakeri\\rightsidemovies\\ar38motor\\2022_02_16\\40.avi\n",
      "Duration of video [s]:  12.5 , recorded with  40.0 fps!\n",
      "Overall # of frames:  500  found with (before cropping) frame dimensions:  800 480\n",
      "Starting to extract posture\n"
     ]
    },
    {
     "name": "stderr",
     "output_type": "stream",
     "text": [
      "510it [00:24, 20.40it/s]                                                                                               \n"
     ]
    },
    {
     "name": "stdout",
     "output_type": "stream",
     "text": [
      "Saving results in \\\\dk-server.dk.ucsd.edu\\afassihizakeri\\rightsidemovies\\ar38motor\\2022_02_16...\n",
      "Saving csv poses!\n",
      "Starting to analyze %  \\\\dk-server.dk.ucsd.edu\\afassihizakeri\\rightsidemovies\\ar38motor\\2022_02_16\\211.avi\n",
      "Loading  \\\\dk-server.dk.ucsd.edu\\afassihizakeri\\rightsidemovies\\ar38motor\\2022_02_16\\211.avi\n",
      "Duration of video [s]:  12.5 , recorded with  40.0 fps!\n",
      "Overall # of frames:  500  found with (before cropping) frame dimensions:  800 480\n",
      "Starting to extract posture\n"
     ]
    },
    {
     "name": "stderr",
     "output_type": "stream",
     "text": [
      "510it [00:24, 20.46it/s]                                                                                               \n"
     ]
    },
    {
     "name": "stdout",
     "output_type": "stream",
     "text": [
      "Saving results in \\\\dk-server.dk.ucsd.edu\\afassihizakeri\\rightsidemovies\\ar38motor\\2022_02_16...\n",
      "Saving csv poses!\n",
      "Starting to analyze %  \\\\dk-server.dk.ucsd.edu\\afassihizakeri\\rightsidemovies\\ar38motor\\2022_02_16\\106.avi\n",
      "Loading  \\\\dk-server.dk.ucsd.edu\\afassihizakeri\\rightsidemovies\\ar38motor\\2022_02_16\\106.avi\n",
      "Duration of video [s]:  12.5 , recorded with  40.0 fps!\n",
      "Overall # of frames:  500  found with (before cropping) frame dimensions:  800 480\n",
      "Starting to extract posture\n"
     ]
    },
    {
     "name": "stderr",
     "output_type": "stream",
     "text": [
      "510it [00:25, 19.96it/s]                                                                                               \n"
     ]
    },
    {
     "name": "stdout",
     "output_type": "stream",
     "text": [
      "Saving results in \\\\dk-server.dk.ucsd.edu\\afassihizakeri\\rightsidemovies\\ar38motor\\2022_02_16...\n",
      "Saving csv poses!\n",
      "Starting to analyze %  \\\\dk-server.dk.ucsd.edu\\afassihizakeri\\rightsidemovies\\ar38motor\\2022_02_16\\71.avi\n",
      "Loading  \\\\dk-server.dk.ucsd.edu\\afassihizakeri\\rightsidemovies\\ar38motor\\2022_02_16\\71.avi\n",
      "Duration of video [s]:  12.5 , recorded with  40.0 fps!\n",
      "Overall # of frames:  500  found with (before cropping) frame dimensions:  800 480\n",
      "Starting to extract posture\n"
     ]
    },
    {
     "name": "stderr",
     "output_type": "stream",
     "text": [
      "510it [00:24, 20.45it/s]                                                                                               \n"
     ]
    },
    {
     "name": "stdout",
     "output_type": "stream",
     "text": [
      "Saving results in \\\\dk-server.dk.ucsd.edu\\afassihizakeri\\rightsidemovies\\ar38motor\\2022_02_16...\n",
      "Saving csv poses!\n",
      "Starting to analyze %  \\\\dk-server.dk.ucsd.edu\\afassihizakeri\\rightsidemovies\\ar38motor\\2022_02_16\\137.avi\n",
      "Loading  \\\\dk-server.dk.ucsd.edu\\afassihizakeri\\rightsidemovies\\ar38motor\\2022_02_16\\137.avi\n",
      "Duration of video [s]:  12.5 , recorded with  40.0 fps!\n",
      "Overall # of frames:  500  found with (before cropping) frame dimensions:  800 480\n",
      "Starting to extract posture\n"
     ]
    },
    {
     "name": "stderr",
     "output_type": "stream",
     "text": [
      "510it [00:25, 20.02it/s]                                                                                               \n"
     ]
    },
    {
     "name": "stdout",
     "output_type": "stream",
     "text": [
      "Saving results in \\\\dk-server.dk.ucsd.edu\\afassihizakeri\\rightsidemovies\\ar38motor\\2022_02_16...\n",
      "Saving csv poses!\n",
      "Starting to analyze %  \\\\dk-server.dk.ucsd.edu\\afassihizakeri\\rightsidemovies\\ar38motor\\2022_02_16\\220.avi\n",
      "Loading  \\\\dk-server.dk.ucsd.edu\\afassihizakeri\\rightsidemovies\\ar38motor\\2022_02_16\\220.avi\n",
      "Duration of video [s]:  12.5 , recorded with  40.0 fps!\n",
      "Overall # of frames:  500  found with (before cropping) frame dimensions:  800 480\n",
      "Starting to extract posture\n"
     ]
    },
    {
     "name": "stderr",
     "output_type": "stream",
     "text": [
      "510it [00:24, 20.49it/s]                                                                                               \n"
     ]
    },
    {
     "name": "stdout",
     "output_type": "stream",
     "text": [
      "Saving results in \\\\dk-server.dk.ucsd.edu\\afassihizakeri\\rightsidemovies\\ar38motor\\2022_02_16...\n",
      "Saving csv poses!\n",
      "Starting to analyze %  \\\\dk-server.dk.ucsd.edu\\afassihizakeri\\rightsidemovies\\ar38motor\\2022_02_16\\76.avi\n",
      "Loading  \\\\dk-server.dk.ucsd.edu\\afassihizakeri\\rightsidemovies\\ar38motor\\2022_02_16\\76.avi\n",
      "Duration of video [s]:  12.5 , recorded with  40.0 fps!\n",
      "Overall # of frames:  500  found with (before cropping) frame dimensions:  800 480\n",
      "Starting to extract posture\n"
     ]
    },
    {
     "name": "stderr",
     "output_type": "stream",
     "text": [
      "510it [00:25, 20.38it/s]                                                                                               \n"
     ]
    },
    {
     "name": "stdout",
     "output_type": "stream",
     "text": [
      "Saving results in \\\\dk-server.dk.ucsd.edu\\afassihizakeri\\rightsidemovies\\ar38motor\\2022_02_16...\n",
      "Saving csv poses!\n",
      "Starting to analyze %  \\\\dk-server.dk.ucsd.edu\\afassihizakeri\\rightsidemovies\\ar38motor\\2022_02_16\\130.avi\n",
      "Loading  \\\\dk-server.dk.ucsd.edu\\afassihizakeri\\rightsidemovies\\ar38motor\\2022_02_16\\130.avi\n",
      "Duration of video [s]:  12.5 , recorded with  40.0 fps!\n",
      "Overall # of frames:  500  found with (before cropping) frame dimensions:  800 480\n",
      "Starting to extract posture\n"
     ]
    },
    {
     "name": "stderr",
     "output_type": "stream",
     "text": [
      "510it [00:25, 20.24it/s]                                                                                               \n"
     ]
    },
    {
     "name": "stdout",
     "output_type": "stream",
     "text": [
      "Saving results in \\\\dk-server.dk.ucsd.edu\\afassihizakeri\\rightsidemovies\\ar38motor\\2022_02_16...\n",
      "Saving csv poses!\n",
      "Starting to analyze %  \\\\dk-server.dk.ucsd.edu\\afassihizakeri\\rightsidemovies\\ar38motor\\2022_02_16\\227.avi\n",
      "Loading  \\\\dk-server.dk.ucsd.edu\\afassihizakeri\\rightsidemovies\\ar38motor\\2022_02_16\\227.avi\n",
      "Duration of video [s]:  12.5 , recorded with  40.0 fps!\n",
      "Overall # of frames:  500  found with (before cropping) frame dimensions:  800 480\n",
      "Starting to extract posture\n"
     ]
    },
    {
     "name": "stderr",
     "output_type": "stream",
     "text": [
      "510it [00:24, 20.49it/s]                                                                                               \n"
     ]
    },
    {
     "name": "stdout",
     "output_type": "stream",
     "text": [
      "Saving results in \\\\dk-server.dk.ucsd.edu\\afassihizakeri\\rightsidemovies\\ar38motor\\2022_02_16...\n",
      "Saving csv poses!\n",
      "Starting to analyze %  \\\\dk-server.dk.ucsd.edu\\afassihizakeri\\rightsidemovies\\ar38motor\\2022_02_16\\142.avi\n",
      "Loading  \\\\dk-server.dk.ucsd.edu\\afassihizakeri\\rightsidemovies\\ar38motor\\2022_02_16\\142.avi\n",
      "Duration of video [s]:  12.5 , recorded with  40.0 fps!\n",
      "Overall # of frames:  500  found with (before cropping) frame dimensions:  800 480\n",
      "Starting to extract posture\n"
     ]
    },
    {
     "name": "stderr",
     "output_type": "stream",
     "text": [
      "510it [00:25, 20.34it/s]                                                                                               \n"
     ]
    },
    {
     "name": "stdout",
     "output_type": "stream",
     "text": [
      "Saving results in \\\\dk-server.dk.ucsd.edu\\afassihizakeri\\rightsidemovies\\ar38motor\\2022_02_16...\n",
      "Saving csv poses!\n",
      "Starting to analyze %  \\\\dk-server.dk.ucsd.edu\\afassihizakeri\\rightsidemovies\\ar38motor\\2022_02_16\\255.avi\n",
      "Loading  \\\\dk-server.dk.ucsd.edu\\afassihizakeri\\rightsidemovies\\ar38motor\\2022_02_16\\255.avi\n",
      "Duration of video [s]:  12.5 , recorded with  40.0 fps!\n",
      "Overall # of frames:  500  found with (before cropping) frame dimensions:  800 480\n",
      "Starting to extract posture\n"
     ]
    },
    {
     "name": "stderr",
     "output_type": "stream",
     "text": [
      "510it [00:25, 20.39it/s]                                                                                               \n"
     ]
    },
    {
     "name": "stdout",
     "output_type": "stream",
     "text": [
      "Saving results in \\\\dk-server.dk.ucsd.edu\\afassihizakeri\\rightsidemovies\\ar38motor\\2022_02_16...\n",
      "Saving csv poses!\n",
      "Starting to analyze %  \\\\dk-server.dk.ucsd.edu\\afassihizakeri\\rightsidemovies\\ar38motor\\2022_02_16\\193.avi\n",
      "Loading  \\\\dk-server.dk.ucsd.edu\\afassihizakeri\\rightsidemovies\\ar38motor\\2022_02_16\\193.avi\n",
      "Duration of video [s]:  12.5 , recorded with  40.0 fps!\n",
      "Overall # of frames:  500  found with (before cropping) frame dimensions:  800 480\n",
      "Starting to extract posture\n"
     ]
    },
    {
     "name": "stderr",
     "output_type": "stream",
     "text": [
      "510it [00:25, 20.25it/s]                                                                                               \n"
     ]
    },
    {
     "name": "stdout",
     "output_type": "stream",
     "text": [
      "Saving results in \\\\dk-server.dk.ucsd.edu\\afassihizakeri\\rightsidemovies\\ar38motor\\2022_02_16...\n",
      "Saving csv poses!\n",
      "Starting to analyze %  \\\\dk-server.dk.ucsd.edu\\afassihizakeri\\rightsidemovies\\ar38motor\\2022_02_16\\78.avi\n",
      "Loading  \\\\dk-server.dk.ucsd.edu\\afassihizakeri\\rightsidemovies\\ar38motor\\2022_02_16\\78.avi\n",
      "Duration of video [s]:  12.5 , recorded with  40.0 fps!\n",
      "Overall # of frames:  500  found with (before cropping) frame dimensions:  800 480\n",
      "Starting to extract posture\n"
     ]
    },
    {
     "name": "stderr",
     "output_type": "stream",
     "text": [
      "510it [00:25, 20.15it/s]                                                                                               \n"
     ]
    },
    {
     "name": "stdout",
     "output_type": "stream",
     "text": [
      "Saving results in \\\\dk-server.dk.ucsd.edu\\afassihizakeri\\rightsidemovies\\ar38motor\\2022_02_16...\n",
      "Saving csv poses!\n",
      "Starting to analyze %  \\\\dk-server.dk.ucsd.edu\\afassihizakeri\\rightsidemovies\\ar38motor\\2022_02_16\\229.avi\n",
      "Loading  \\\\dk-server.dk.ucsd.edu\\afassihizakeri\\rightsidemovies\\ar38motor\\2022_02_16\\229.avi\n",
      "Duration of video [s]:  12.5 , recorded with  40.0 fps!\n",
      "Overall # of frames:  500  found with (before cropping) frame dimensions:  800 480\n",
      "Starting to extract posture\n"
     ]
    },
    {
     "name": "stderr",
     "output_type": "stream",
     "text": [
      "510it [00:25, 20.18it/s]                                                                                               \n"
     ]
    },
    {
     "name": "stdout",
     "output_type": "stream",
     "text": [
      "Saving results in \\\\dk-server.dk.ucsd.edu\\afassihizakeri\\rightsidemovies\\ar38motor\\2022_02_16...\n",
      "Saving csv poses!\n",
      "Starting to analyze %  \\\\dk-server.dk.ucsd.edu\\afassihizakeri\\rightsidemovies\\ar38motor\\2022_02_16\\139.avi\n",
      "Loading  \\\\dk-server.dk.ucsd.edu\\afassihizakeri\\rightsidemovies\\ar38motor\\2022_02_16\\139.avi\n",
      "Duration of video [s]:  12.5 , recorded with  40.0 fps!\n",
      "Overall # of frames:  500  found with (before cropping) frame dimensions:  800 480\n",
      "Starting to extract posture\n"
     ]
    },
    {
     "name": "stderr",
     "output_type": "stream",
     "text": [
      "510it [00:25, 20.30it/s]                                                                                               \n"
     ]
    },
    {
     "name": "stdout",
     "output_type": "stream",
     "text": [
      "Saving results in \\\\dk-server.dk.ucsd.edu\\afassihizakeri\\rightsidemovies\\ar38motor\\2022_02_16...\n",
      "Saving csv poses!\n",
      "Starting to analyze %  \\\\dk-server.dk.ucsd.edu\\afassihizakeri\\rightsidemovies\\ar38motor\\2022_02_16\\145.avi\n",
      "Loading  \\\\dk-server.dk.ucsd.edu\\afassihizakeri\\rightsidemovies\\ar38motor\\2022_02_16\\145.avi\n",
      "Duration of video [s]:  12.5 , recorded with  40.0 fps!\n",
      "Overall # of frames:  500  found with (before cropping) frame dimensions:  800 480\n",
      "Starting to extract posture\n"
     ]
    },
    {
     "name": "stderr",
     "output_type": "stream",
     "text": [
      "510it [00:25, 20.27it/s]                                                                                               \n"
     ]
    },
    {
     "name": "stdout",
     "output_type": "stream",
     "text": [
      "Saving results in \\\\dk-server.dk.ucsd.edu\\afassihizakeri\\rightsidemovies\\ar38motor\\2022_02_16...\n",
      "Saving csv poses!\n",
      "Starting to analyze %  \\\\dk-server.dk.ucsd.edu\\afassihizakeri\\rightsidemovies\\ar38motor\\2022_02_16\\252.avi\n",
      "Loading  \\\\dk-server.dk.ucsd.edu\\afassihizakeri\\rightsidemovies\\ar38motor\\2022_02_16\\252.avi\n",
      "Duration of video [s]:  12.5 , recorded with  40.0 fps!\n",
      "Overall # of frames:  500  found with (before cropping) frame dimensions:  800 480\n",
      "Starting to extract posture\n"
     ]
    },
    {
     "name": "stderr",
     "output_type": "stream",
     "text": [
      "510it [00:24, 20.47it/s]                                                                                               \n"
     ]
    },
    {
     "name": "stdout",
     "output_type": "stream",
     "text": [
      "Saving results in \\\\dk-server.dk.ucsd.edu\\afassihizakeri\\rightsidemovies\\ar38motor\\2022_02_16...\n",
      "Saving csv poses!\n",
      "Starting to analyze %  \\\\dk-server.dk.ucsd.edu\\afassihizakeri\\rightsidemovies\\ar38motor\\2022_02_16\\194.avi\n",
      "Loading  \\\\dk-server.dk.ucsd.edu\\afassihizakeri\\rightsidemovies\\ar38motor\\2022_02_16\\194.avi\n",
      "Duration of video [s]:  12.5 , recorded with  40.0 fps!\n",
      "Overall # of frames:  500  found with (before cropping) frame dimensions:  800 480\n",
      "Starting to extract posture\n"
     ]
    },
    {
     "name": "stderr",
     "output_type": "stream",
     "text": [
      "510it [00:24, 20.52it/s]                                                                                               \n"
     ]
    },
    {
     "name": "stdout",
     "output_type": "stream",
     "text": [
      "Saving results in \\\\dk-server.dk.ucsd.edu\\afassihizakeri\\rightsidemovies\\ar38motor\\2022_02_16...\n",
      "Saving csv poses!\n",
      "Starting to analyze %  \\\\dk-server.dk.ucsd.edu\\afassihizakeri\\rightsidemovies\\ar38motor\\2022_02_16\\36.avi\n",
      "Loading  \\\\dk-server.dk.ucsd.edu\\afassihizakeri\\rightsidemovies\\ar38motor\\2022_02_16\\36.avi\n",
      "Duration of video [s]:  12.5 , recorded with  40.0 fps!\n",
      "Overall # of frames:  500  found with (before cropping) frame dimensions:  800 480\n",
      "Starting to extract posture\n"
     ]
    },
    {
     "name": "stderr",
     "output_type": "stream",
     "text": [
      "510it [00:25, 20.24it/s]                                                                                               \n"
     ]
    },
    {
     "name": "stdout",
     "output_type": "stream",
     "text": [
      "Saving results in \\\\dk-server.dk.ucsd.edu\\afassihizakeri\\rightsidemovies\\ar38motor\\2022_02_16...\n",
      "Saving csv poses!\n",
      "Starting to analyze %  \\\\dk-server.dk.ucsd.edu\\afassihizakeri\\rightsidemovies\\ar38motor\\2022_02_16\\170.avi\n",
      "Loading  \\\\dk-server.dk.ucsd.edu\\afassihizakeri\\rightsidemovies\\ar38motor\\2022_02_16\\170.avi\n",
      "Duration of video [s]:  12.5 , recorded with  40.0 fps!\n",
      "Overall # of frames:  500  found with (before cropping) frame dimensions:  800 480\n",
      "Starting to extract posture\n"
     ]
    },
    {
     "name": "stderr",
     "output_type": "stream",
     "text": [
      "510it [00:25, 20.30it/s]                                                                                               \n"
     ]
    },
    {
     "name": "stdout",
     "output_type": "stream",
     "text": [
      "Saving results in \\\\dk-server.dk.ucsd.edu\\afassihizakeri\\rightsidemovies\\ar38motor\\2022_02_16...\n",
      "Saving csv poses!\n",
      "Starting to analyze %  \\\\dk-server.dk.ucsd.edu\\afassihizakeri\\rightsidemovies\\ar38motor\\2022_02_16\\31.avi\n",
      "Loading  \\\\dk-server.dk.ucsd.edu\\afassihizakeri\\rightsidemovies\\ar38motor\\2022_02_16\\31.avi\n",
      "Duration of video [s]:  12.5 , recorded with  40.0 fps!\n",
      "Overall # of frames:  500  found with (before cropping) frame dimensions:  800 480\n",
      "Starting to extract posture\n"
     ]
    },
    {
     "name": "stderr",
     "output_type": "stream",
     "text": [
      "510it [00:25, 20.26it/s]                                                                                               \n"
     ]
    },
    {
     "name": "stdout",
     "output_type": "stream",
     "text": [
      "Saving results in \\\\dk-server.dk.ucsd.edu\\afassihizakeri\\rightsidemovies\\ar38motor\\2022_02_16...\n",
      "Saving csv poses!\n",
      "Starting to analyze %  \\\\dk-server.dk.ucsd.edu\\afassihizakeri\\rightsidemovies\\ar38motor\\2022_02_16\\260.avi\n",
      "Loading  \\\\dk-server.dk.ucsd.edu\\afassihizakeri\\rightsidemovies\\ar38motor\\2022_02_16\\260.avi\n",
      "Duration of video [s]:  12.5 , recorded with  40.0 fps!\n",
      "Overall # of frames:  500  found with (before cropping) frame dimensions:  800 480\n",
      "Starting to extract posture\n"
     ]
    },
    {
     "name": "stderr",
     "output_type": "stream",
     "text": [
      "510it [00:25, 19.99it/s]                                                                                               \n"
     ]
    },
    {
     "name": "stdout",
     "output_type": "stream",
     "text": [
      "Saving results in \\\\dk-server.dk.ucsd.edu\\afassihizakeri\\rightsidemovies\\ar38motor\\2022_02_16...\n",
      "Saving csv poses!\n",
      "Starting to analyze %  \\\\dk-server.dk.ucsd.edu\\afassihizakeri\\rightsidemovies\\ar38motor\\2022_02_16\\177.avi\n",
      "Loading  \\\\dk-server.dk.ucsd.edu\\afassihizakeri\\rightsidemovies\\ar38motor\\2022_02_16\\177.avi\n",
      "Duration of video [s]:  12.5 , recorded with  40.0 fps!\n",
      "Overall # of frames:  500  found with (before cropping) frame dimensions:  800 480\n",
      "Starting to extract posture\n"
     ]
    },
    {
     "name": "stderr",
     "output_type": "stream",
     "text": [
      "510it [00:24, 20.58it/s]                                                                                               \n"
     ]
    },
    {
     "name": "stdout",
     "output_type": "stream",
     "text": [
      "Saving results in \\\\dk-server.dk.ucsd.edu\\afassihizakeri\\rightsidemovies\\ar38motor\\2022_02_16...\n",
      "Saving csv poses!\n",
      "Starting to analyze %  \\\\dk-server.dk.ucsd.edu\\afassihizakeri\\rightsidemovies\\ar38motor\\2022_02_16\\179.avi\n",
      "Loading  \\\\dk-server.dk.ucsd.edu\\afassihizakeri\\rightsidemovies\\ar38motor\\2022_02_16\\179.avi\n",
      "Duration of video [s]:  12.5 , recorded with  40.0 fps!\n",
      "Overall # of frames:  500  found with (before cropping) frame dimensions:  800 480\n",
      "Starting to extract posture\n"
     ]
    },
    {
     "name": "stderr",
     "output_type": "stream",
     "text": [
      "510it [00:24, 20.55it/s]                                                                                               \n"
     ]
    },
    {
     "name": "stdout",
     "output_type": "stream",
     "text": [
      "Saving results in \\\\dk-server.dk.ucsd.edu\\afassihizakeri\\rightsidemovies\\ar38motor\\2022_02_16...\n",
      "Saving csv poses!\n",
      "Starting to analyze %  \\\\dk-server.dk.ucsd.edu\\afassihizakeri\\rightsidemovies\\ar38motor\\2022_02_16\\92.avi\n",
      "Loading  \\\\dk-server.dk.ucsd.edu\\afassihizakeri\\rightsidemovies\\ar38motor\\2022_02_16\\92.avi\n",
      "Duration of video [s]:  12.5 , recorded with  40.0 fps!\n",
      "Overall # of frames:  500  found with (before cropping) frame dimensions:  800 480\n",
      "Starting to extract posture\n"
     ]
    },
    {
     "name": "stderr",
     "output_type": "stream",
     "text": [
      "510it [00:25, 20.03it/s]                                                                                               \n"
     ]
    },
    {
     "name": "stdout",
     "output_type": "stream",
     "text": [
      "Saving results in \\\\dk-server.dk.ucsd.edu\\afassihizakeri\\rightsidemovies\\ar38motor\\2022_02_16...\n",
      "Saving csv poses!\n",
      "Starting to analyze %  \\\\dk-server.dk.ucsd.edu\\afassihizakeri\\rightsidemovies\\ar38motor\\2022_02_16\\43.avi\n",
      "Loading  \\\\dk-server.dk.ucsd.edu\\afassihizakeri\\rightsidemovies\\ar38motor\\2022_02_16\\43.avi\n",
      "Duration of video [s]:  12.5 , recorded with  40.0 fps!\n",
      "Overall # of frames:  500  found with (before cropping) frame dimensions:  800 480\n",
      "Starting to extract posture\n"
     ]
    },
    {
     "name": "stderr",
     "output_type": "stream",
     "text": [
      "510it [00:24, 20.63it/s]                                                                                               \n"
     ]
    },
    {
     "name": "stdout",
     "output_type": "stream",
     "text": [
      "Saving results in \\\\dk-server.dk.ucsd.edu\\afassihizakeri\\rightsidemovies\\ar38motor\\2022_02_16...\n",
      "Saving csv poses!\n",
      "Starting to analyze %  \\\\dk-server.dk.ucsd.edu\\afassihizakeri\\rightsidemovies\\ar38motor\\2022_02_16\\212.avi\n",
      "Loading  \\\\dk-server.dk.ucsd.edu\\afassihizakeri\\rightsidemovies\\ar38motor\\2022_02_16\\212.avi\n",
      "Duration of video [s]:  12.5 , recorded with  40.0 fps!\n",
      "Overall # of frames:  500  found with (before cropping) frame dimensions:  800 480\n",
      "Starting to extract posture\n"
     ]
    },
    {
     "name": "stderr",
     "output_type": "stream",
     "text": [
      "510it [00:24, 20.52it/s]                                                                                               \n"
     ]
    },
    {
     "name": "stdout",
     "output_type": "stream",
     "text": [
      "Saving results in \\\\dk-server.dk.ucsd.edu\\afassihizakeri\\rightsidemovies\\ar38motor\\2022_02_16...\n",
      "Saving csv poses!\n",
      "Starting to analyze %  \\\\dk-server.dk.ucsd.edu\\afassihizakeri\\rightsidemovies\\ar38motor\\2022_02_16\\105.avi\n",
      "Loading  \\\\dk-server.dk.ucsd.edu\\afassihizakeri\\rightsidemovies\\ar38motor\\2022_02_16\\105.avi\n",
      "Duration of video [s]:  12.5 , recorded with  40.0 fps!\n",
      "Overall # of frames:  500  found with (before cropping) frame dimensions:  800 480\n",
      "Starting to extract posture\n"
     ]
    },
    {
     "name": "stderr",
     "output_type": "stream",
     "text": [
      "510it [00:24, 20.56it/s]                                                                                               \n"
     ]
    },
    {
     "name": "stdout",
     "output_type": "stream",
     "text": [
      "Saving results in \\\\dk-server.dk.ucsd.edu\\afassihizakeri\\rightsidemovies\\ar38motor\\2022_02_16...\n",
      "Saving csv poses!\n",
      "Starting to analyze %  \\\\dk-server.dk.ucsd.edu\\afassihizakeri\\rightsidemovies\\ar38motor\\2022_02_16\\95.avi\n",
      "Loading  \\\\dk-server.dk.ucsd.edu\\afassihizakeri\\rightsidemovies\\ar38motor\\2022_02_16\\95.avi\n",
      "Duration of video [s]:  12.5 , recorded with  40.0 fps!\n",
      "Overall # of frames:  500  found with (before cropping) frame dimensions:  800 480\n",
      "Starting to extract posture\n"
     ]
    },
    {
     "name": "stderr",
     "output_type": "stream",
     "text": [
      "510it [00:25, 20.36it/s]                                                                                               \n"
     ]
    },
    {
     "name": "stdout",
     "output_type": "stream",
     "text": [
      "Saving results in \\\\dk-server.dk.ucsd.edu\\afassihizakeri\\rightsidemovies\\ar38motor\\2022_02_16...\n",
      "Saving csv poses!\n",
      "Starting to analyze %  \\\\dk-server.dk.ucsd.edu\\afassihizakeri\\rightsidemovies\\ar38motor\\2022_02_16\\44.avi\n",
      "Loading  \\\\dk-server.dk.ucsd.edu\\afassihizakeri\\rightsidemovies\\ar38motor\\2022_02_16\\44.avi\n",
      "Duration of video [s]:  12.5 , recorded with  40.0 fps!\n",
      "Overall # of frames:  500  found with (before cropping) frame dimensions:  800 480\n",
      "Starting to extract posture\n"
     ]
    },
    {
     "name": "stderr",
     "output_type": "stream",
     "text": [
      "510it [00:24, 20.56it/s]                                                                                               \n"
     ]
    },
    {
     "name": "stdout",
     "output_type": "stream",
     "text": [
      "Saving results in \\\\dk-server.dk.ucsd.edu\\afassihizakeri\\rightsidemovies\\ar38motor\\2022_02_16...\n",
      "Saving csv poses!\n",
      "Starting to analyze %  \\\\dk-server.dk.ucsd.edu\\afassihizakeri\\rightsidemovies\\ar38motor\\2022_02_16\\215.avi\n",
      "Loading  \\\\dk-server.dk.ucsd.edu\\afassihizakeri\\rightsidemovies\\ar38motor\\2022_02_16\\215.avi\n",
      "Duration of video [s]:  12.5 , recorded with  40.0 fps!\n",
      "Overall # of frames:  500  found with (before cropping) frame dimensions:  800 480\n",
      "Starting to extract posture\n"
     ]
    },
    {
     "name": "stderr",
     "output_type": "stream",
     "text": [
      "510it [00:24, 20.65it/s]                                                                                               \n"
     ]
    },
    {
     "name": "stdout",
     "output_type": "stream",
     "text": [
      "Saving results in \\\\dk-server.dk.ucsd.edu\\afassihizakeri\\rightsidemovies\\ar38motor\\2022_02_16...\n",
      "Saving csv poses!\n",
      "Starting to analyze %  \\\\dk-server.dk.ucsd.edu\\afassihizakeri\\rightsidemovies\\ar38motor\\2022_02_16\\102.avi\n",
      "Loading  \\\\dk-server.dk.ucsd.edu\\afassihizakeri\\rightsidemovies\\ar38motor\\2022_02_16\\102.avi\n",
      "Duration of video [s]:  12.5 , recorded with  40.0 fps!\n",
      "Overall # of frames:  500  found with (before cropping) frame dimensions:  800 480\n",
      "Starting to extract posture\n"
     ]
    },
    {
     "name": "stderr",
     "output_type": "stream",
     "text": [
      "510it [00:24, 20.50it/s]                                                                                               \n"
     ]
    },
    {
     "name": "stdout",
     "output_type": "stream",
     "text": [
      "Saving results in \\\\dk-server.dk.ucsd.edu\\afassihizakeri\\rightsidemovies\\ar38motor\\2022_02_16...\n",
      "Saving csv poses!\n",
      "Starting to analyze %  \\\\dk-server.dk.ucsd.edu\\afassihizakeri\\rightsidemovies\\ar38motor\\2022_02_16\\38.avi\n",
      "Loading  \\\\dk-server.dk.ucsd.edu\\afassihizakeri\\rightsidemovies\\ar38motor\\2022_02_16\\38.avi\n",
      "Duration of video [s]:  12.5 , recorded with  40.0 fps!\n",
      "Overall # of frames:  500  found with (before cropping) frame dimensions:  800 480\n",
      "Starting to extract posture\n"
     ]
    },
    {
     "name": "stderr",
     "output_type": "stream",
     "text": [
      "510it [00:24, 20.53it/s]                                                                                               \n"
     ]
    },
    {
     "name": "stdout",
     "output_type": "stream",
     "text": [
      "Saving results in \\\\dk-server.dk.ucsd.edu\\afassihizakeri\\rightsidemovies\\ar38motor\\2022_02_16...\n",
      "Saving csv poses!\n",
      "Starting to analyze %  \\\\dk-server.dk.ucsd.edu\\afassihizakeri\\rightsidemovies\\ar38motor\\2022_02_16\\2.avi\n",
      "Loading  \\\\dk-server.dk.ucsd.edu\\afassihizakeri\\rightsidemovies\\ar38motor\\2022_02_16\\2.avi\n",
      "Duration of video [s]:  12.5 , recorded with  40.0 fps!\n",
      "Overall # of frames:  500  found with (before cropping) frame dimensions:  800 480\n",
      "Starting to extract posture\n"
     ]
    },
    {
     "name": "stderr",
     "output_type": "stream",
     "text": [
      "510it [00:25, 20.18it/s]                                                                                               \n"
     ]
    },
    {
     "name": "stdout",
     "output_type": "stream",
     "text": [
      "Saving results in \\\\dk-server.dk.ucsd.edu\\afassihizakeri\\rightsidemovies\\ar38motor\\2022_02_16...\n",
      "Saving csv poses!\n",
      "Starting to analyze %  \\\\dk-server.dk.ucsd.edu\\afassihizakeri\\rightsidemovies\\ar38motor\\2022_02_16\\113.avi\n",
      "Loading  \\\\dk-server.dk.ucsd.edu\\afassihizakeri\\rightsidemovies\\ar38motor\\2022_02_16\\113.avi\n",
      "Duration of video [s]:  12.5 , recorded with  40.0 fps!\n",
      "Overall # of frames:  500  found with (before cropping) frame dimensions:  800 480\n",
      "Starting to extract posture\n"
     ]
    },
    {
     "name": "stderr",
     "output_type": "stream",
     "text": [
      "510it [00:24, 20.51it/s]                                                                                               \n"
     ]
    },
    {
     "name": "stdout",
     "output_type": "stream",
     "text": [
      "Saving results in \\\\dk-server.dk.ucsd.edu\\afassihizakeri\\rightsidemovies\\ar38motor\\2022_02_16...\n",
      "Saving csv poses!\n",
      "Starting to analyze %  \\\\dk-server.dk.ucsd.edu\\afassihizakeri\\rightsidemovies\\ar38motor\\2022_02_16\\204.avi\n",
      "Loading  \\\\dk-server.dk.ucsd.edu\\afassihizakeri\\rightsidemovies\\ar38motor\\2022_02_16\\204.avi\n",
      "Duration of video [s]:  12.5 , recorded with  40.0 fps!\n",
      "Overall # of frames:  500  found with (before cropping) frame dimensions:  800 480\n",
      "Starting to extract posture\n"
     ]
    },
    {
     "name": "stderr",
     "output_type": "stream",
     "text": [
      "510it [00:24, 20.62it/s]                                                                                               \n"
     ]
    },
    {
     "name": "stdout",
     "output_type": "stream",
     "text": [
      "Saving results in \\\\dk-server.dk.ucsd.edu\\afassihizakeri\\rightsidemovies\\ar38motor\\2022_02_16...\n",
      "Saving csv poses!\n",
      "Starting to analyze %  \\\\dk-server.dk.ucsd.edu\\afassihizakeri\\rightsidemovies\\ar38motor\\2022_02_16\\55.avi\n",
      "Loading  \\\\dk-server.dk.ucsd.edu\\afassihizakeri\\rightsidemovies\\ar38motor\\2022_02_16\\55.avi\n",
      "Duration of video [s]:  12.5 , recorded with  40.0 fps!\n",
      "Overall # of frames:  500  found with (before cropping) frame dimensions:  800 480\n",
      "Starting to extract posture\n"
     ]
    },
    {
     "name": "stderr",
     "output_type": "stream",
     "text": [
      "510it [00:24, 20.62it/s]                                                                                               \n"
     ]
    },
    {
     "name": "stdout",
     "output_type": "stream",
     "text": [
      "Saving results in \\\\dk-server.dk.ucsd.edu\\afassihizakeri\\rightsidemovies\\ar38motor\\2022_02_16...\n",
      "Saving csv poses!\n",
      "Starting to analyze %  \\\\dk-server.dk.ucsd.edu\\afassihizakeri\\rightsidemovies\\ar38motor\\2022_02_16\\84.avi\n",
      "Loading  \\\\dk-server.dk.ucsd.edu\\afassihizakeri\\rightsidemovies\\ar38motor\\2022_02_16\\84.avi\n",
      "Duration of video [s]:  12.5 , recorded with  40.0 fps!\n",
      "Overall # of frames:  500  found with (before cropping) frame dimensions:  800 480\n",
      "Starting to extract posture\n"
     ]
    },
    {
     "name": "stderr",
     "output_type": "stream",
     "text": [
      "510it [00:24, 20.49it/s]                                                                                               \n"
     ]
    },
    {
     "name": "stdout",
     "output_type": "stream",
     "text": [
      "Saving results in \\\\dk-server.dk.ucsd.edu\\afassihizakeri\\rightsidemovies\\ar38motor\\2022_02_16...\n",
      "Saving csv poses!\n",
      "Starting to analyze %  \\\\dk-server.dk.ucsd.edu\\afassihizakeri\\rightsidemovies\\ar38motor\\2022_02_16\\29.avi\n",
      "Loading  \\\\dk-server.dk.ucsd.edu\\afassihizakeri\\rightsidemovies\\ar38motor\\2022_02_16\\29.avi\n",
      "Duration of video [s]:  12.5 , recorded with  40.0 fps!\n",
      "Overall # of frames:  500  found with (before cropping) frame dimensions:  800 480\n",
      "Starting to extract posture\n"
     ]
    },
    {
     "name": "stderr",
     "output_type": "stream",
     "text": [
      "510it [00:25, 20.39it/s]                                                                                               \n"
     ]
    },
    {
     "name": "stdout",
     "output_type": "stream",
     "text": [
      "Saving results in \\\\dk-server.dk.ucsd.edu\\afassihizakeri\\rightsidemovies\\ar38motor\\2022_02_16...\n",
      "Saving csv poses!\n",
      "Starting to analyze %  \\\\dk-server.dk.ucsd.edu\\afassihizakeri\\rightsidemovies\\ar38motor\\2022_02_16\\168.avi\n",
      "Loading  \\\\dk-server.dk.ucsd.edu\\afassihizakeri\\rightsidemovies\\ar38motor\\2022_02_16\\168.avi\n",
      "Duration of video [s]:  12.5 , recorded with  40.0 fps!\n",
      "Overall # of frames:  500  found with (before cropping) frame dimensions:  800 480\n",
      "Starting to extract posture\n"
     ]
    },
    {
     "name": "stderr",
     "output_type": "stream",
     "text": [
      "510it [00:24, 20.53it/s]                                                                                               \n"
     ]
    },
    {
     "name": "stdout",
     "output_type": "stream",
     "text": [
      "Saving results in \\\\dk-server.dk.ucsd.edu\\afassihizakeri\\rightsidemovies\\ar38motor\\2022_02_16...\n",
      "Saving csv poses!\n",
      "Starting to analyze %  \\\\dk-server.dk.ucsd.edu\\afassihizakeri\\rightsidemovies\\ar38motor\\2022_02_16\\5.avi\n",
      "Loading  \\\\dk-server.dk.ucsd.edu\\afassihizakeri\\rightsidemovies\\ar38motor\\2022_02_16\\5.avi\n",
      "Duration of video [s]:  12.5 , recorded with  40.0 fps!\n",
      "Overall # of frames:  500  found with (before cropping) frame dimensions:  800 480\n",
      "Starting to extract posture\n"
     ]
    },
    {
     "name": "stderr",
     "output_type": "stream",
     "text": [
      "510it [00:25, 19.79it/s]                                                                                               \n"
     ]
    },
    {
     "name": "stdout",
     "output_type": "stream",
     "text": [
      "Saving results in \\\\dk-server.dk.ucsd.edu\\afassihizakeri\\rightsidemovies\\ar38motor\\2022_02_16...\n",
      "Saving csv poses!\n",
      "Starting to analyze %  \\\\dk-server.dk.ucsd.edu\\afassihizakeri\\rightsidemovies\\ar38motor\\2022_02_16\\114.avi\n",
      "Loading  \\\\dk-server.dk.ucsd.edu\\afassihizakeri\\rightsidemovies\\ar38motor\\2022_02_16\\114.avi\n",
      "Duration of video [s]:  12.5 , recorded with  40.0 fps!\n",
      "Overall # of frames:  500  found with (before cropping) frame dimensions:  800 480\n",
      "Starting to extract posture\n"
     ]
    },
    {
     "name": "stderr",
     "output_type": "stream",
     "text": [
      "510it [00:25, 20.21it/s]                                                                                               \n"
     ]
    },
    {
     "name": "stdout",
     "output_type": "stream",
     "text": [
      "Saving results in \\\\dk-server.dk.ucsd.edu\\afassihizakeri\\rightsidemovies\\ar38motor\\2022_02_16...\n",
      "Saving csv poses!\n",
      "Starting to analyze %  \\\\dk-server.dk.ucsd.edu\\afassihizakeri\\rightsidemovies\\ar38motor\\2022_02_16\\203.avi\n",
      "Loading  \\\\dk-server.dk.ucsd.edu\\afassihizakeri\\rightsidemovies\\ar38motor\\2022_02_16\\203.avi\n",
      "Duration of video [s]:  12.5 , recorded with  40.0 fps!\n",
      "Overall # of frames:  500  found with (before cropping) frame dimensions:  800 480\n",
      "Starting to extract posture\n"
     ]
    },
    {
     "name": "stderr",
     "output_type": "stream",
     "text": [
      "510it [00:24, 20.58it/s]                                                                                               \n"
     ]
    },
    {
     "name": "stdout",
     "output_type": "stream",
     "text": [
      "Saving results in \\\\dk-server.dk.ucsd.edu\\afassihizakeri\\rightsidemovies\\ar38motor\\2022_02_16...\n",
      "Saving csv poses!\n",
      "Starting to analyze %  \\\\dk-server.dk.ucsd.edu\\afassihizakeri\\rightsidemovies\\ar38motor\\2022_02_16\\52.avi\n",
      "Loading  \\\\dk-server.dk.ucsd.edu\\afassihizakeri\\rightsidemovies\\ar38motor\\2022_02_16\\52.avi\n",
      "Duration of video [s]:  12.5 , recorded with  40.0 fps!\n",
      "Overall # of frames:  500  found with (before cropping) frame dimensions:  800 480\n",
      "Starting to extract posture\n"
     ]
    },
    {
     "name": "stderr",
     "output_type": "stream",
     "text": [
      "510it [00:25, 20.03it/s]                                                                                               \n"
     ]
    },
    {
     "name": "stdout",
     "output_type": "stream",
     "text": [
      "Saving results in \\\\dk-server.dk.ucsd.edu\\afassihizakeri\\rightsidemovies\\ar38motor\\2022_02_16...\n",
      "Saving csv poses!\n",
      "Starting to analyze %  \\\\dk-server.dk.ucsd.edu\\afassihizakeri\\rightsidemovies\\ar38motor\\2022_02_16\\83.avi\n",
      "Loading  \\\\dk-server.dk.ucsd.edu\\afassihizakeri\\rightsidemovies\\ar38motor\\2022_02_16\\83.avi\n",
      "Duration of video [s]:  12.5 , recorded with  40.0 fps!\n",
      "Overall # of frames:  500  found with (before cropping) frame dimensions:  800 480\n",
      "Starting to extract posture\n"
     ]
    },
    {
     "name": "stderr",
     "output_type": "stream",
     "text": [
      "510it [00:24, 20.44it/s]                                                                                               \n"
     ]
    },
    {
     "name": "stdout",
     "output_type": "stream",
     "text": [
      "Saving results in \\\\dk-server.dk.ucsd.edu\\afassihizakeri\\rightsidemovies\\ar38motor\\2022_02_16...\n",
      "Saving csv poses!\n",
      "Starting to analyze %  \\\\dk-server.dk.ucsd.edu\\afassihizakeri\\rightsidemovies\\ar38motor\\2022_02_16\\166.avi\n",
      "Loading  \\\\dk-server.dk.ucsd.edu\\afassihizakeri\\rightsidemovies\\ar38motor\\2022_02_16\\166.avi\n",
      "Duration of video [s]:  12.5 , recorded with  40.0 fps!\n",
      "Overall # of frames:  500  found with (before cropping) frame dimensions:  800 480\n",
      "Starting to extract posture\n"
     ]
    },
    {
     "name": "stderr",
     "output_type": "stream",
     "text": [
      "510it [00:24, 20.51it/s]                                                                                               \n"
     ]
    },
    {
     "name": "stdout",
     "output_type": "stream",
     "text": [
      "Saving results in \\\\dk-server.dk.ucsd.edu\\afassihizakeri\\rightsidemovies\\ar38motor\\2022_02_16...\n",
      "Saving csv poses!\n",
      "Starting to analyze %  \\\\dk-server.dk.ucsd.edu\\afassihizakeri\\rightsidemovies\\ar38motor\\2022_02_16\\20.avi\n",
      "Loading  \\\\dk-server.dk.ucsd.edu\\afassihizakeri\\rightsidemovies\\ar38motor\\2022_02_16\\20.avi\n",
      "Duration of video [s]:  12.5 , recorded with  40.0 fps!\n",
      "Overall # of frames:  500  found with (before cropping) frame dimensions:  800 480\n",
      "Starting to extract posture\n"
     ]
    },
    {
     "name": "stderr",
     "output_type": "stream",
     "text": [
      "510it [00:25, 20.24it/s]                                                                                               \n"
     ]
    },
    {
     "name": "stdout",
     "output_type": "stream",
     "text": [
      "Saving results in \\\\dk-server.dk.ucsd.edu\\afassihizakeri\\rightsidemovies\\ar38motor\\2022_02_16...\n",
      "Saving csv poses!\n",
      "Starting to analyze %  \\\\dk-server.dk.ucsd.edu\\afassihizakeri\\rightsidemovies\\ar38motor\\2022_02_16\\161.avi\n",
      "Loading  \\\\dk-server.dk.ucsd.edu\\afassihizakeri\\rightsidemovies\\ar38motor\\2022_02_16\\161.avi\n",
      "Duration of video [s]:  12.5 , recorded with  40.0 fps!\n",
      "Overall # of frames:  500  found with (before cropping) frame dimensions:  800 480\n",
      "Starting to extract posture\n"
     ]
    },
    {
     "name": "stderr",
     "output_type": "stream",
     "text": [
      "510it [00:25, 20.28it/s]                                                                                               \n"
     ]
    },
    {
     "name": "stdout",
     "output_type": "stream",
     "text": [
      "Saving results in \\\\dk-server.dk.ucsd.edu\\afassihizakeri\\rightsidemovies\\ar38motor\\2022_02_16...\n",
      "Saving csv poses!\n",
      "Starting to analyze %  \\\\dk-server.dk.ucsd.edu\\afassihizakeri\\rightsidemovies\\ar38motor\\2022_02_16\\27.avi\n",
      "Loading  \\\\dk-server.dk.ucsd.edu\\afassihizakeri\\rightsidemovies\\ar38motor\\2022_02_16\\27.avi\n",
      "Duration of video [s]:  12.5 , recorded with  40.0 fps!\n",
      "Overall # of frames:  500  found with (before cropping) frame dimensions:  800 480\n",
      "Starting to extract posture\n"
     ]
    },
    {
     "name": "stderr",
     "output_type": "stream",
     "text": [
      "510it [00:24, 20.48it/s]                                                                                               \n"
     ]
    },
    {
     "name": "stdout",
     "output_type": "stream",
     "text": [
      "Saving results in \\\\dk-server.dk.ucsd.edu\\afassihizakeri\\rightsidemovies\\ar38motor\\2022_02_16...\n",
      "Saving csv poses!\n",
      "Starting to analyze %  \\\\dk-server.dk.ucsd.edu\\afassihizakeri\\rightsidemovies\\ar38motor\\2022_02_16\\128.avi\n",
      "Loading  \\\\dk-server.dk.ucsd.edu\\afassihizakeri\\rightsidemovies\\ar38motor\\2022_02_16\\128.avi\n",
      "Duration of video [s]:  12.5 , recorded with  40.0 fps!\n",
      "Overall # of frames:  500  found with (before cropping) frame dimensions:  800 480\n",
      "Starting to extract posture\n"
     ]
    },
    {
     "name": "stderr",
     "output_type": "stream",
     "text": [
      "510it [00:25, 20.04it/s]                                                                                               \n"
     ]
    },
    {
     "name": "stdout",
     "output_type": "stream",
     "text": [
      "Saving results in \\\\dk-server.dk.ucsd.edu\\afassihizakeri\\rightsidemovies\\ar38motor\\2022_02_16...\n",
      "Saving csv poses!\n",
      "Starting to analyze %  \\\\dk-server.dk.ucsd.edu\\afassihizakeri\\rightsidemovies\\ar38motor\\2022_02_16\\243.avi\n",
      "Loading  \\\\dk-server.dk.ucsd.edu\\afassihizakeri\\rightsidemovies\\ar38motor\\2022_02_16\\243.avi\n",
      "Duration of video [s]:  12.5 , recorded with  40.0 fps!\n",
      "Overall # of frames:  500  found with (before cropping) frame dimensions:  800 480\n",
      "Starting to extract posture\n"
     ]
    },
    {
     "name": "stderr",
     "output_type": "stream",
     "text": [
      "510it [00:24, 20.46it/s]                                                                                               \n"
     ]
    },
    {
     "name": "stdout",
     "output_type": "stream",
     "text": [
      "Saving results in \\\\dk-server.dk.ucsd.edu\\afassihizakeri\\rightsidemovies\\ar38motor\\2022_02_16...\n",
      "Saving csv poses!\n",
      "Starting to analyze %  \\\\dk-server.dk.ucsd.edu\\afassihizakeri\\rightsidemovies\\ar38motor\\2022_02_16\\185.avi\n",
      "Loading  \\\\dk-server.dk.ucsd.edu\\afassihizakeri\\rightsidemovies\\ar38motor\\2022_02_16\\185.avi\n",
      "Duration of video [s]:  12.5 , recorded with  40.0 fps!\n",
      "Overall # of frames:  500  found with (before cropping) frame dimensions:  800 480\n",
      "Starting to extract posture\n"
     ]
    },
    {
     "name": "stderr",
     "output_type": "stream",
     "text": [
      "510it [00:24, 20.45it/s]                                                                                               \n"
     ]
    },
    {
     "name": "stdout",
     "output_type": "stream",
     "text": [
      "Saving results in \\\\dk-server.dk.ucsd.edu\\afassihizakeri\\rightsidemovies\\ar38motor\\2022_02_16...\n",
      "Saving csv poses!\n",
      "Starting to analyze %  \\\\dk-server.dk.ucsd.edu\\afassihizakeri\\rightsidemovies\\ar38motor\\2022_02_16\\154.avi\n",
      "Loading  \\\\dk-server.dk.ucsd.edu\\afassihizakeri\\rightsidemovies\\ar38motor\\2022_02_16\\154.avi\n",
      "Duration of video [s]:  12.5 , recorded with  40.0 fps!\n",
      "Overall # of frames:  500  found with (before cropping) frame dimensions:  800 480\n",
      "Starting to extract posture\n"
     ]
    },
    {
     "name": "stderr",
     "output_type": "stream",
     "text": [
      "510it [00:24, 20.47it/s]                                                                                               \n"
     ]
    },
    {
     "name": "stdout",
     "output_type": "stream",
     "text": [
      "Saving results in \\\\dk-server.dk.ucsd.edu\\afassihizakeri\\rightsidemovies\\ar38motor\\2022_02_16...\n",
      "Saving csv poses!\n",
      "Starting to analyze %  \\\\dk-server.dk.ucsd.edu\\afassihizakeri\\rightsidemovies\\ar38motor\\2022_02_16\\12.avi\n",
      "Loading  \\\\dk-server.dk.ucsd.edu\\afassihizakeri\\rightsidemovies\\ar38motor\\2022_02_16\\12.avi\n",
      "Duration of video [s]:  12.5 , recorded with  40.0 fps!\n",
      "Overall # of frames:  500  found with (before cropping) frame dimensions:  800 480\n",
      "Starting to extract posture\n"
     ]
    },
    {
     "name": "stderr",
     "output_type": "stream",
     "text": [
      "510it [00:24, 20.44it/s]                                                                                               \n"
     ]
    },
    {
     "name": "stdout",
     "output_type": "stream",
     "text": [
      "Saving results in \\\\dk-server.dk.ucsd.edu\\afassihizakeri\\rightsidemovies\\ar38motor\\2022_02_16...\n",
      "Saving csv poses!\n",
      "Starting to analyze %  \\\\dk-server.dk.ucsd.edu\\afassihizakeri\\rightsidemovies\\ar38motor\\2022_02_16\\244.avi\n",
      "Loading  \\\\dk-server.dk.ucsd.edu\\afassihizakeri\\rightsidemovies\\ar38motor\\2022_02_16\\244.avi\n",
      "Duration of video [s]:  12.5 , recorded with  40.0 fps!\n",
      "Overall # of frames:  500  found with (before cropping) frame dimensions:  800 480\n",
      "Starting to extract posture\n"
     ]
    },
    {
     "name": "stderr",
     "output_type": "stream",
     "text": [
      "510it [00:24, 20.53it/s]                                                                                               \n"
     ]
    },
    {
     "name": "stdout",
     "output_type": "stream",
     "text": [
      "Saving results in \\\\dk-server.dk.ucsd.edu\\afassihizakeri\\rightsidemovies\\ar38motor\\2022_02_16...\n",
      "Saving csv poses!\n",
      "Starting to analyze %  \\\\dk-server.dk.ucsd.edu\\afassihizakeri\\rightsidemovies\\ar38motor\\2022_02_16\\182.avi\n",
      "Loading  \\\\dk-server.dk.ucsd.edu\\afassihizakeri\\rightsidemovies\\ar38motor\\2022_02_16\\182.avi\n",
      "Duration of video [s]:  12.5 , recorded with  40.0 fps!\n",
      "Overall # of frames:  500  found with (before cropping) frame dimensions:  800 480\n",
      "Starting to extract posture\n"
     ]
    },
    {
     "name": "stderr",
     "output_type": "stream",
     "text": [
      "510it [00:25, 20.29it/s]                                                                                               \n"
     ]
    },
    {
     "name": "stdout",
     "output_type": "stream",
     "text": [
      "Saving results in \\\\dk-server.dk.ucsd.edu\\afassihizakeri\\rightsidemovies\\ar38motor\\2022_02_16...\n",
      "Saving csv poses!\n",
      "Starting to analyze %  \\\\dk-server.dk.ucsd.edu\\afassihizakeri\\rightsidemovies\\ar38motor\\2022_02_16\\153.avi\n",
      "Loading  \\\\dk-server.dk.ucsd.edu\\afassihizakeri\\rightsidemovies\\ar38motor\\2022_02_16\\153.avi\n",
      "Duration of video [s]:  12.5 , recorded with  40.0 fps!\n",
      "Overall # of frames:  500  found with (before cropping) frame dimensions:  800 480\n",
      "Starting to extract posture\n"
     ]
    },
    {
     "name": "stderr",
     "output_type": "stream",
     "text": [
      "510it [00:25, 20.24it/s]                                                                                               \n"
     ]
    },
    {
     "name": "stdout",
     "output_type": "stream",
     "text": [
      "Saving results in \\\\dk-server.dk.ucsd.edu\\afassihizakeri\\rightsidemovies\\ar38motor\\2022_02_16...\n",
      "Saving csv poses!\n",
      "Starting to analyze %  \\\\dk-server.dk.ucsd.edu\\afassihizakeri\\rightsidemovies\\ar38motor\\2022_02_16\\15.avi\n",
      "Loading  \\\\dk-server.dk.ucsd.edu\\afassihizakeri\\rightsidemovies\\ar38motor\\2022_02_16\\15.avi\n",
      "Duration of video [s]:  12.5 , recorded with  40.0 fps!\n",
      "Overall # of frames:  500  found with (before cropping) frame dimensions:  800 480\n",
      "Starting to extract posture\n"
     ]
    },
    {
     "name": "stderr",
     "output_type": "stream",
     "text": [
      "510it [00:25, 20.20it/s]                                                                                               \n"
     ]
    },
    {
     "name": "stdout",
     "output_type": "stream",
     "text": [
      "Saving results in \\\\dk-server.dk.ucsd.edu\\afassihizakeri\\rightsidemovies\\ar38motor\\2022_02_16...\n",
      "Saving csv poses!\n",
      "Starting to analyze %  \\\\dk-server.dk.ucsd.edu\\afassihizakeri\\rightsidemovies\\ar38motor\\2022_02_16\\238.avi\n",
      "Loading  \\\\dk-server.dk.ucsd.edu\\afassihizakeri\\rightsidemovies\\ar38motor\\2022_02_16\\238.avi\n",
      "Duration of video [s]:  12.5 , recorded with  40.0 fps!\n",
      "Overall # of frames:  500  found with (before cropping) frame dimensions:  800 480\n",
      "Starting to extract posture\n"
     ]
    },
    {
     "name": "stderr",
     "output_type": "stream",
     "text": [
      "510it [00:24, 20.50it/s]                                                                                               \n"
     ]
    },
    {
     "name": "stdout",
     "output_type": "stream",
     "text": [
      "Saving results in \\\\dk-server.dk.ucsd.edu\\afassihizakeri\\rightsidemovies\\ar38motor\\2022_02_16...\n",
      "Saving csv poses!\n",
      "Starting to analyze %  \\\\dk-server.dk.ucsd.edu\\afassihizakeri\\rightsidemovies\\ar38motor\\2022_02_16\\69.avi\n",
      "Loading  \\\\dk-server.dk.ucsd.edu\\afassihizakeri\\rightsidemovies\\ar38motor\\2022_02_16\\69.avi\n",
      "Duration of video [s]:  12.5 , recorded with  40.0 fps!\n",
      "Overall # of frames:  500  found with (before cropping) frame dimensions:  800 480\n",
      "Starting to extract posture\n"
     ]
    },
    {
     "name": "stderr",
     "output_type": "stream",
     "text": [
      "510it [00:24, 20.42it/s]                                                                                               \n"
     ]
    },
    {
     "name": "stdout",
     "output_type": "stream",
     "text": [
      "Saving results in \\\\dk-server.dk.ucsd.edu\\afassihizakeri\\rightsidemovies\\ar38motor\\2022_02_16...\n",
      "Saving csv poses!\n",
      "Starting to analyze %  \\\\dk-server.dk.ucsd.edu\\afassihizakeri\\rightsidemovies\\ar38motor\\2022_02_16\\236.avi\n",
      "Loading  \\\\dk-server.dk.ucsd.edu\\afassihizakeri\\rightsidemovies\\ar38motor\\2022_02_16\\236.avi\n",
      "Duration of video [s]:  12.5 , recorded with  40.0 fps!\n",
      "Overall # of frames:  500  found with (before cropping) frame dimensions:  800 480\n",
      "Starting to extract posture\n"
     ]
    },
    {
     "name": "stderr",
     "output_type": "stream",
     "text": [
      "510it [00:25, 20.31it/s]                                                                                               \n"
     ]
    },
    {
     "name": "stdout",
     "output_type": "stream",
     "text": [
      "Saving results in \\\\dk-server.dk.ucsd.edu\\afassihizakeri\\rightsidemovies\\ar38motor\\2022_02_16...\n",
      "Saving csv poses!\n",
      "Starting to analyze %  \\\\dk-server.dk.ucsd.edu\\afassihizakeri\\rightsidemovies\\ar38motor\\2022_02_16\\121.avi\n",
      "Loading  \\\\dk-server.dk.ucsd.edu\\afassihizakeri\\rightsidemovies\\ar38motor\\2022_02_16\\121.avi\n",
      "Duration of video [s]:  12.5 , recorded with  40.0 fps!\n",
      "Overall # of frames:  500  found with (before cropping) frame dimensions:  800 480\n",
      "Starting to extract posture\n"
     ]
    },
    {
     "name": "stderr",
     "output_type": "stream",
     "text": [
      "510it [00:25, 19.88it/s]                                                                                               \n"
     ]
    },
    {
     "name": "stdout",
     "output_type": "stream",
     "text": [
      "Saving results in \\\\dk-server.dk.ucsd.edu\\afassihizakeri\\rightsidemovies\\ar38motor\\2022_02_16...\n",
      "Saving csv poses!\n",
      "Starting to analyze %  \\\\dk-server.dk.ucsd.edu\\afassihizakeri\\rightsidemovies\\ar38motor\\2022_02_16\\67.avi\n",
      "Loading  \\\\dk-server.dk.ucsd.edu\\afassihizakeri\\rightsidemovies\\ar38motor\\2022_02_16\\67.avi\n",
      "Duration of video [s]:  12.5 , recorded with  40.0 fps!\n",
      "Overall # of frames:  500  found with (before cropping) frame dimensions:  800 480\n",
      "Starting to extract posture\n"
     ]
    },
    {
     "name": "stderr",
     "output_type": "stream",
     "text": [
      "510it [00:24, 20.50it/s]                                                                                               \n"
     ]
    },
    {
     "name": "stdout",
     "output_type": "stream",
     "text": [
      "Saving results in \\\\dk-server.dk.ucsd.edu\\afassihizakeri\\rightsidemovies\\ar38motor\\2022_02_16...\n",
      "Saving csv poses!\n",
      "Starting to analyze %  \\\\dk-server.dk.ucsd.edu\\afassihizakeri\\rightsidemovies\\ar38motor\\2022_02_16\\231.avi\n",
      "Loading  \\\\dk-server.dk.ucsd.edu\\afassihizakeri\\rightsidemovies\\ar38motor\\2022_02_16\\231.avi\n",
      "Duration of video [s]:  12.5 , recorded with  40.0 fps!\n",
      "Overall # of frames:  500  found with (before cropping) frame dimensions:  800 480\n",
      "Starting to extract posture\n"
     ]
    },
    {
     "name": "stderr",
     "output_type": "stream",
     "text": [
      "510it [00:24, 20.49it/s]                                                                                               \n"
     ]
    },
    {
     "name": "stdout",
     "output_type": "stream",
     "text": [
      "Saving results in \\\\dk-server.dk.ucsd.edu\\afassihizakeri\\rightsidemovies\\ar38motor\\2022_02_16...\n",
      "Saving csv poses!\n",
      "Starting to analyze %  \\\\dk-server.dk.ucsd.edu\\afassihizakeri\\rightsidemovies\\ar38motor\\2022_02_16\\126.avi\n",
      "Loading  \\\\dk-server.dk.ucsd.edu\\afassihizakeri\\rightsidemovies\\ar38motor\\2022_02_16\\126.avi\n",
      "Duration of video [s]:  12.5 , recorded with  40.0 fps!\n",
      "Overall # of frames:  500  found with (before cropping) frame dimensions:  800 480\n",
      "Starting to extract posture\n"
     ]
    },
    {
     "name": "stderr",
     "output_type": "stream",
     "text": [
      "510it [00:24, 20.49it/s]                                                                                               \n"
     ]
    },
    {
     "name": "stdout",
     "output_type": "stream",
     "text": [
      "Saving results in \\\\dk-server.dk.ucsd.edu\\afassihizakeri\\rightsidemovies\\ar38motor\\2022_02_16...\n",
      "Saving csv poses!\n",
      "Starting to analyze %  \\\\dk-server.dk.ucsd.edu\\afassihizakeri\\rightsidemovies\\ar38motor\\2022_02_16\\60.avi\n",
      "Loading  \\\\dk-server.dk.ucsd.edu\\afassihizakeri\\rightsidemovies\\ar38motor\\2022_02_16\\60.avi\n",
      "Duration of video [s]:  12.5 , recorded with  40.0 fps!\n",
      "Overall # of frames:  500  found with (before cropping) frame dimensions:  800 480\n",
      "Starting to extract posture\n"
     ]
    },
    {
     "name": "stderr",
     "output_type": "stream",
     "text": [
      "510it [00:25, 20.05it/s]                                                                                               \n"
     ]
    },
    {
     "name": "stdout",
     "output_type": "stream",
     "text": [
      "Saving results in \\\\dk-server.dk.ucsd.edu\\afassihizakeri\\rightsidemovies\\ar38motor\\2022_02_16...\n",
      "Saving csv poses!\n",
      "Starting to analyze %  \\\\dk-server.dk.ucsd.edu\\afassihizakeri\\rightsidemovies\\ar38motor\\2022_02_16\\94.avi\n",
      "Loading  \\\\dk-server.dk.ucsd.edu\\afassihizakeri\\rightsidemovies\\ar38motor\\2022_02_16\\94.avi\n",
      "Duration of video [s]:  12.5 , recorded with  40.0 fps!\n",
      "Overall # of frames:  500  found with (before cropping) frame dimensions:  800 480\n",
      "Starting to extract posture\n"
     ]
    },
    {
     "name": "stderr",
     "output_type": "stream",
     "text": [
      "510it [00:25, 19.93it/s]                                                                                               \n"
     ]
    },
    {
     "name": "stdout",
     "output_type": "stream",
     "text": [
      "Saving results in \\\\dk-server.dk.ucsd.edu\\afassihizakeri\\rightsidemovies\\ar38motor\\2022_02_16...\n",
      "Saving csv poses!\n",
      "Starting to analyze %  \\\\dk-server.dk.ucsd.edu\\afassihizakeri\\rightsidemovies\\ar38motor\\2022_02_16\\45.avi\n",
      "Loading  \\\\dk-server.dk.ucsd.edu\\afassihizakeri\\rightsidemovies\\ar38motor\\2022_02_16\\45.avi\n",
      "Duration of video [s]:  12.5 , recorded with  40.0 fps!\n",
      "Overall # of frames:  500  found with (before cropping) frame dimensions:  800 480\n",
      "Starting to extract posture\n"
     ]
    },
    {
     "name": "stderr",
     "output_type": "stream",
     "text": [
      "510it [00:24, 20.52it/s]                                                                                               \n"
     ]
    },
    {
     "name": "stdout",
     "output_type": "stream",
     "text": [
      "Saving results in \\\\dk-server.dk.ucsd.edu\\afassihizakeri\\rightsidemovies\\ar38motor\\2022_02_16...\n",
      "Saving csv poses!\n",
      "Starting to analyze %  \\\\dk-server.dk.ucsd.edu\\afassihizakeri\\rightsidemovies\\ar38motor\\2022_02_16\\214.avi\n",
      "Loading  \\\\dk-server.dk.ucsd.edu\\afassihizakeri\\rightsidemovies\\ar38motor\\2022_02_16\\214.avi\n",
      "Duration of video [s]:  12.5 , recorded with  40.0 fps!\n",
      "Overall # of frames:  500  found with (before cropping) frame dimensions:  800 480\n",
      "Starting to extract posture\n"
     ]
    },
    {
     "name": "stderr",
     "output_type": "stream",
     "text": [
      "510it [00:25, 20.25it/s]                                                                                               \n"
     ]
    },
    {
     "name": "stdout",
     "output_type": "stream",
     "text": [
      "Saving results in \\\\dk-server.dk.ucsd.edu\\afassihizakeri\\rightsidemovies\\ar38motor\\2022_02_16...\n",
      "Saving csv poses!\n",
      "Starting to analyze %  \\\\dk-server.dk.ucsd.edu\\afassihizakeri\\rightsidemovies\\ar38motor\\2022_02_16\\103.avi\n",
      "Loading  \\\\dk-server.dk.ucsd.edu\\afassihizakeri\\rightsidemovies\\ar38motor\\2022_02_16\\103.avi\n",
      "Duration of video [s]:  12.5 , recorded with  40.0 fps!\n",
      "Overall # of frames:  500  found with (before cropping) frame dimensions:  800 480\n",
      "Starting to extract posture\n"
     ]
    },
    {
     "name": "stderr",
     "output_type": "stream",
     "text": [
      "510it [00:24, 20.58it/s]                                                                                               \n"
     ]
    },
    {
     "name": "stdout",
     "output_type": "stream",
     "text": [
      "Saving results in \\\\dk-server.dk.ucsd.edu\\afassihizakeri\\rightsidemovies\\ar38motor\\2022_02_16...\n",
      "Saving csv poses!\n",
      "Starting to analyze %  \\\\dk-server.dk.ucsd.edu\\afassihizakeri\\rightsidemovies\\ar38motor\\2022_02_16\\39.avi\n",
      "Loading  \\\\dk-server.dk.ucsd.edu\\afassihizakeri\\rightsidemovies\\ar38motor\\2022_02_16\\39.avi\n",
      "Duration of video [s]:  12.5 , recorded with  40.0 fps!\n",
      "Overall # of frames:  500  found with (before cropping) frame dimensions:  800 480\n",
      "Starting to extract posture\n"
     ]
    },
    {
     "name": "stderr",
     "output_type": "stream",
     "text": [
      "510it [00:25, 20.27it/s]                                                                                               \n"
     ]
    },
    {
     "name": "stdout",
     "output_type": "stream",
     "text": [
      "Saving results in \\\\dk-server.dk.ucsd.edu\\afassihizakeri\\rightsidemovies\\ar38motor\\2022_02_16...\n",
      "Saving csv poses!\n",
      "Starting to analyze %  \\\\dk-server.dk.ucsd.edu\\afassihizakeri\\rightsidemovies\\ar38motor\\2022_02_16\\178.avi\n",
      "Loading  \\\\dk-server.dk.ucsd.edu\\afassihizakeri\\rightsidemovies\\ar38motor\\2022_02_16\\178.avi\n",
      "Duration of video [s]:  12.5 , recorded with  40.0 fps!\n",
      "Overall # of frames:  500  found with (before cropping) frame dimensions:  800 480\n",
      "Starting to extract posture\n"
     ]
    },
    {
     "name": "stderr",
     "output_type": "stream",
     "text": [
      "510it [00:25, 20.15it/s]                                                                                               \n"
     ]
    },
    {
     "name": "stdout",
     "output_type": "stream",
     "text": [
      "Saving results in \\\\dk-server.dk.ucsd.edu\\afassihizakeri\\rightsidemovies\\ar38motor\\2022_02_16...\n",
      "Saving csv poses!\n",
      "Starting to analyze %  \\\\dk-server.dk.ucsd.edu\\afassihizakeri\\rightsidemovies\\ar38motor\\2022_02_16\\93.avi\n",
      "Loading  \\\\dk-server.dk.ucsd.edu\\afassihizakeri\\rightsidemovies\\ar38motor\\2022_02_16\\93.avi\n",
      "Duration of video [s]:  12.5 , recorded with  40.0 fps!\n",
      "Overall # of frames:  500  found with (before cropping) frame dimensions:  800 480\n",
      "Starting to extract posture\n"
     ]
    },
    {
     "name": "stderr",
     "output_type": "stream",
     "text": [
      "510it [00:24, 20.50it/s]                                                                                               \n"
     ]
    },
    {
     "name": "stdout",
     "output_type": "stream",
     "text": [
      "Saving results in \\\\dk-server.dk.ucsd.edu\\afassihizakeri\\rightsidemovies\\ar38motor\\2022_02_16...\n",
      "Saving csv poses!\n",
      "Starting to analyze %  \\\\dk-server.dk.ucsd.edu\\afassihizakeri\\rightsidemovies\\ar38motor\\2022_02_16\\42.avi\n",
      "Loading  \\\\dk-server.dk.ucsd.edu\\afassihizakeri\\rightsidemovies\\ar38motor\\2022_02_16\\42.avi\n",
      "Duration of video [s]:  12.5 , recorded with  40.0 fps!\n",
      "Overall # of frames:  500  found with (before cropping) frame dimensions:  800 480\n",
      "Starting to extract posture\n"
     ]
    },
    {
     "name": "stderr",
     "output_type": "stream",
     "text": [
      "510it [00:24, 20.51it/s]                                                                                               \n"
     ]
    },
    {
     "name": "stdout",
     "output_type": "stream",
     "text": [
      "Saving results in \\\\dk-server.dk.ucsd.edu\\afassihizakeri\\rightsidemovies\\ar38motor\\2022_02_16...\n",
      "Saving csv poses!\n",
      "Starting to analyze %  \\\\dk-server.dk.ucsd.edu\\afassihizakeri\\rightsidemovies\\ar38motor\\2022_02_16\\213.avi\n",
      "Loading  \\\\dk-server.dk.ucsd.edu\\afassihizakeri\\rightsidemovies\\ar38motor\\2022_02_16\\213.avi\n",
      "Duration of video [s]:  12.5 , recorded with  40.0 fps!\n",
      "Overall # of frames:  500  found with (before cropping) frame dimensions:  800 480\n",
      "Starting to extract posture\n"
     ]
    },
    {
     "name": "stderr",
     "output_type": "stream",
     "text": [
      "510it [00:25, 20.13it/s]                                                                                               \n"
     ]
    },
    {
     "name": "stdout",
     "output_type": "stream",
     "text": [
      "Saving results in \\\\dk-server.dk.ucsd.edu\\afassihizakeri\\rightsidemovies\\ar38motor\\2022_02_16...\n",
      "Saving csv poses!\n",
      "Starting to analyze %  \\\\dk-server.dk.ucsd.edu\\afassihizakeri\\rightsidemovies\\ar38motor\\2022_02_16\\104.avi\n",
      "Loading  \\\\dk-server.dk.ucsd.edu\\afassihizakeri\\rightsidemovies\\ar38motor\\2022_02_16\\104.avi\n",
      "Duration of video [s]:  12.5 , recorded with  40.0 fps!\n",
      "Overall # of frames:  500  found with (before cropping) frame dimensions:  800 480\n",
      "Starting to extract posture\n"
     ]
    },
    {
     "name": "stderr",
     "output_type": "stream",
     "text": [
      "510it [00:24, 20.44it/s]                                                                                               \n"
     ]
    },
    {
     "name": "stdout",
     "output_type": "stream",
     "text": [
      "Saving results in \\\\dk-server.dk.ucsd.edu\\afassihizakeri\\rightsidemovies\\ar38motor\\2022_02_16...\n",
      "Saving csv poses!\n",
      "Starting to analyze %  \\\\dk-server.dk.ucsd.edu\\afassihizakeri\\rightsidemovies\\ar38motor\\2022_02_16\\30.avi\n",
      "Loading  \\\\dk-server.dk.ucsd.edu\\afassihizakeri\\rightsidemovies\\ar38motor\\2022_02_16\\30.avi\n",
      "Duration of video [s]:  12.5 , recorded with  40.0 fps!\n",
      "Overall # of frames:  500  found with (before cropping) frame dimensions:  800 480\n",
      "Starting to extract posture\n"
     ]
    },
    {
     "name": "stderr",
     "output_type": "stream",
     "text": [
      "510it [00:25, 20.26it/s]                                                                                               \n"
     ]
    },
    {
     "name": "stdout",
     "output_type": "stream",
     "text": [
      "Saving results in \\\\dk-server.dk.ucsd.edu\\afassihizakeri\\rightsidemovies\\ar38motor\\2022_02_16...\n",
      "Saving csv poses!\n",
      "Starting to analyze %  \\\\dk-server.dk.ucsd.edu\\afassihizakeri\\rightsidemovies\\ar38motor\\2022_02_16\\261.avi\n",
      "Loading  \\\\dk-server.dk.ucsd.edu\\afassihizakeri\\rightsidemovies\\ar38motor\\2022_02_16\\261.avi\n",
      "Duration of video [s]:  12.5 , recorded with  40.0 fps!\n",
      "Overall # of frames:  500  found with (before cropping) frame dimensions:  800 480\n",
      "Starting to extract posture\n"
     ]
    },
    {
     "name": "stderr",
     "output_type": "stream",
     "text": [
      "510it [00:25, 20.09it/s]                                                                                               \n"
     ]
    },
    {
     "name": "stdout",
     "output_type": "stream",
     "text": [
      "Saving results in \\\\dk-server.dk.ucsd.edu\\afassihizakeri\\rightsidemovies\\ar38motor\\2022_02_16...\n",
      "Saving csv poses!\n",
      "Starting to analyze %  \\\\dk-server.dk.ucsd.edu\\afassihizakeri\\rightsidemovies\\ar38motor\\2022_02_16\\176.avi\n",
      "Loading  \\\\dk-server.dk.ucsd.edu\\afassihizakeri\\rightsidemovies\\ar38motor\\2022_02_16\\176.avi\n",
      "Duration of video [s]:  12.5 , recorded with  40.0 fps!\n",
      "Overall # of frames:  500  found with (before cropping) frame dimensions:  800 480\n",
      "Starting to extract posture\n"
     ]
    },
    {
     "name": "stderr",
     "output_type": "stream",
     "text": [
      "510it [00:25, 20.03it/s]                                                                                               \n"
     ]
    },
    {
     "name": "stdout",
     "output_type": "stream",
     "text": [
      "Saving results in \\\\dk-server.dk.ucsd.edu\\afassihizakeri\\rightsidemovies\\ar38motor\\2022_02_16...\n",
      "Saving csv poses!\n",
      "Starting to analyze %  \\\\dk-server.dk.ucsd.edu\\afassihizakeri\\rightsidemovies\\ar38motor\\2022_02_16\\37.avi\n",
      "Loading  \\\\dk-server.dk.ucsd.edu\\afassihizakeri\\rightsidemovies\\ar38motor\\2022_02_16\\37.avi\n",
      "Duration of video [s]:  12.5 , recorded with  40.0 fps!\n",
      "Overall # of frames:  500  found with (before cropping) frame dimensions:  800 480\n",
      "Starting to extract posture\n"
     ]
    },
    {
     "name": "stderr",
     "output_type": "stream",
     "text": [
      "510it [00:25, 20.25it/s]                                                                                               \n"
     ]
    },
    {
     "name": "stdout",
     "output_type": "stream",
     "text": [
      "Saving results in \\\\dk-server.dk.ucsd.edu\\afassihizakeri\\rightsidemovies\\ar38motor\\2022_02_16...\n",
      "Saving csv poses!\n",
      "Starting to analyze %  \\\\dk-server.dk.ucsd.edu\\afassihizakeri\\rightsidemovies\\ar38motor\\2022_02_16\\171.avi\n",
      "Loading  \\\\dk-server.dk.ucsd.edu\\afassihizakeri\\rightsidemovies\\ar38motor\\2022_02_16\\171.avi\n",
      "Duration of video [s]:  12.5 , recorded with  40.0 fps!\n",
      "Overall # of frames:  500  found with (before cropping) frame dimensions:  800 480\n",
      "Starting to extract posture\n"
     ]
    },
    {
     "name": "stderr",
     "output_type": "stream",
     "text": [
      "510it [00:25, 20.21it/s]                                                                                               \n"
     ]
    },
    {
     "name": "stdout",
     "output_type": "stream",
     "text": [
      "Saving results in \\\\dk-server.dk.ucsd.edu\\afassihizakeri\\rightsidemovies\\ar38motor\\2022_02_16...\n",
      "Saving csv poses!\n",
      "Starting to analyze %  \\\\dk-server.dk.ucsd.edu\\afassihizakeri\\rightsidemovies\\ar38motor\\2022_02_16\\138.avi\n",
      "Loading  \\\\dk-server.dk.ucsd.edu\\afassihizakeri\\rightsidemovies\\ar38motor\\2022_02_16\\138.avi\n",
      "Duration of video [s]:  12.5 , recorded with  40.0 fps!\n",
      "Overall # of frames:  500  found with (before cropping) frame dimensions:  800 480\n",
      "Starting to extract posture\n"
     ]
    },
    {
     "name": "stderr",
     "output_type": "stream",
     "text": [
      "510it [00:24, 20.48it/s]                                                                                               \n"
     ]
    },
    {
     "name": "stdout",
     "output_type": "stream",
     "text": [
      "Saving results in \\\\dk-server.dk.ucsd.edu\\afassihizakeri\\rightsidemovies\\ar38motor\\2022_02_16...\n",
      "Saving csv poses!\n",
      "Starting to analyze %  \\\\dk-server.dk.ucsd.edu\\afassihizakeri\\rightsidemovies\\ar38motor\\2022_02_16\\144.avi\n",
      "Loading  \\\\dk-server.dk.ucsd.edu\\afassihizakeri\\rightsidemovies\\ar38motor\\2022_02_16\\144.avi\n",
      "Duration of video [s]:  12.5 , recorded with  40.0 fps!\n",
      "Overall # of frames:  500  found with (before cropping) frame dimensions:  800 480\n",
      "Starting to extract posture\n"
     ]
    },
    {
     "name": "stderr",
     "output_type": "stream",
     "text": [
      "510it [00:24, 20.51it/s]                                                                                               \n"
     ]
    },
    {
     "name": "stdout",
     "output_type": "stream",
     "text": [
      "Saving results in \\\\dk-server.dk.ucsd.edu\\afassihizakeri\\rightsidemovies\\ar38motor\\2022_02_16...\n",
      "Saving csv poses!\n",
      "Starting to analyze %  \\\\dk-server.dk.ucsd.edu\\afassihizakeri\\rightsidemovies\\ar38motor\\2022_02_16\\253.avi\n",
      "Loading  \\\\dk-server.dk.ucsd.edu\\afassihizakeri\\rightsidemovies\\ar38motor\\2022_02_16\\253.avi\n",
      "Duration of video [s]:  12.5 , recorded with  40.0 fps!\n",
      "Overall # of frames:  500  found with (before cropping) frame dimensions:  800 480\n",
      "Starting to extract posture\n"
     ]
    },
    {
     "name": "stderr",
     "output_type": "stream",
     "text": [
      "510it [00:25, 19.98it/s]                                                                                               \n"
     ]
    },
    {
     "name": "stdout",
     "output_type": "stream",
     "text": [
      "Saving results in \\\\dk-server.dk.ucsd.edu\\afassihizakeri\\rightsidemovies\\ar38motor\\2022_02_16...\n",
      "Saving csv poses!\n",
      "Starting to analyze %  \\\\dk-server.dk.ucsd.edu\\afassihizakeri\\rightsidemovies\\ar38motor\\2022_02_16\\195.avi\n",
      "Loading  \\\\dk-server.dk.ucsd.edu\\afassihizakeri\\rightsidemovies\\ar38motor\\2022_02_16\\195.avi\n",
      "Duration of video [s]:  12.5 , recorded with  40.0 fps!\n",
      "Overall # of frames:  500  found with (before cropping) frame dimensions:  800 480\n",
      "Starting to extract posture\n"
     ]
    },
    {
     "name": "stderr",
     "output_type": "stream",
     "text": [
      "510it [00:25, 20.40it/s]                                                                                               \n"
     ]
    },
    {
     "name": "stdout",
     "output_type": "stream",
     "text": [
      "Saving results in \\\\dk-server.dk.ucsd.edu\\afassihizakeri\\rightsidemovies\\ar38motor\\2022_02_16...\n",
      "Saving csv poses!\n",
      "Starting to analyze %  \\\\dk-server.dk.ucsd.edu\\afassihizakeri\\rightsidemovies\\ar38motor\\2022_02_16\\143.avi\n",
      "Loading  \\\\dk-server.dk.ucsd.edu\\afassihizakeri\\rightsidemovies\\ar38motor\\2022_02_16\\143.avi\n",
      "Duration of video [s]:  12.5 , recorded with  40.0 fps!\n",
      "Overall # of frames:  500  found with (before cropping) frame dimensions:  800 480\n",
      "Starting to extract posture\n"
     ]
    },
    {
     "name": "stderr",
     "output_type": "stream",
     "text": [
      "510it [00:25, 19.95it/s]                                                                                               \n"
     ]
    },
    {
     "name": "stdout",
     "output_type": "stream",
     "text": [
      "Saving results in \\\\dk-server.dk.ucsd.edu\\afassihizakeri\\rightsidemovies\\ar38motor\\2022_02_16...\n",
      "Saving csv poses!\n",
      "Starting to analyze %  \\\\dk-server.dk.ucsd.edu\\afassihizakeri\\rightsidemovies\\ar38motor\\2022_02_16\\254.avi\n",
      "Loading  \\\\dk-server.dk.ucsd.edu\\afassihizakeri\\rightsidemovies\\ar38motor\\2022_02_16\\254.avi\n",
      "Duration of video [s]:  12.5 , recorded with  40.0 fps!\n",
      "Overall # of frames:  500  found with (before cropping) frame dimensions:  800 480\n",
      "Starting to extract posture\n"
     ]
    },
    {
     "name": "stderr",
     "output_type": "stream",
     "text": [
      "510it [00:24, 20.48it/s]                                                                                               \n"
     ]
    },
    {
     "name": "stdout",
     "output_type": "stream",
     "text": [
      "Saving results in \\\\dk-server.dk.ucsd.edu\\afassihizakeri\\rightsidemovies\\ar38motor\\2022_02_16...\n",
      "Saving csv poses!\n",
      "Starting to analyze %  \\\\dk-server.dk.ucsd.edu\\afassihizakeri\\rightsidemovies\\ar38motor\\2022_02_16\\192.avi\n",
      "Loading  \\\\dk-server.dk.ucsd.edu\\afassihizakeri\\rightsidemovies\\ar38motor\\2022_02_16\\192.avi\n",
      "Duration of video [s]:  12.5 , recorded with  40.0 fps!\n",
      "Overall # of frames:  500  found with (before cropping) frame dimensions:  800 480\n",
      "Starting to extract posture\n"
     ]
    },
    {
     "name": "stderr",
     "output_type": "stream",
     "text": [
      "510it [00:25, 20.15it/s]                                                                                               \n"
     ]
    },
    {
     "name": "stdout",
     "output_type": "stream",
     "text": [
      "Saving results in \\\\dk-server.dk.ucsd.edu\\afassihizakeri\\rightsidemovies\\ar38motor\\2022_02_16...\n",
      "Saving csv poses!\n",
      "Starting to analyze %  \\\\dk-server.dk.ucsd.edu\\afassihizakeri\\rightsidemovies\\ar38motor\\2022_02_16\\79.avi\n",
      "Loading  \\\\dk-server.dk.ucsd.edu\\afassihizakeri\\rightsidemovies\\ar38motor\\2022_02_16\\79.avi\n",
      "Duration of video [s]:  12.5 , recorded with  40.0 fps!\n",
      "Overall # of frames:  500  found with (before cropping) frame dimensions:  800 480\n",
      "Starting to extract posture\n"
     ]
    },
    {
     "name": "stderr",
     "output_type": "stream",
     "text": [
      "510it [00:25, 20.28it/s]                                                                                               \n"
     ]
    },
    {
     "name": "stdout",
     "output_type": "stream",
     "text": [
      "Saving results in \\\\dk-server.dk.ucsd.edu\\afassihizakeri\\rightsidemovies\\ar38motor\\2022_02_16...\n",
      "Saving csv poses!\n",
      "Starting to analyze %  \\\\dk-server.dk.ucsd.edu\\afassihizakeri\\rightsidemovies\\ar38motor\\2022_02_16\\228.avi\n",
      "Loading  \\\\dk-server.dk.ucsd.edu\\afassihizakeri\\rightsidemovies\\ar38motor\\2022_02_16\\228.avi\n",
      "Duration of video [s]:  12.5 , recorded with  40.0 fps!\n",
      "Overall # of frames:  500  found with (before cropping) frame dimensions:  800 480\n",
      "Starting to extract posture\n"
     ]
    },
    {
     "name": "stderr",
     "output_type": "stream",
     "text": [
      "510it [00:25, 20.27it/s]                                                                                               \n"
     ]
    },
    {
     "name": "stdout",
     "output_type": "stream",
     "text": [
      "Saving results in \\\\dk-server.dk.ucsd.edu\\afassihizakeri\\rightsidemovies\\ar38motor\\2022_02_16...\n",
      "Saving csv poses!\n",
      "Starting to analyze %  \\\\dk-server.dk.ucsd.edu\\afassihizakeri\\rightsidemovies\\ar38motor\\2022_02_16\\77.avi\n",
      "Loading  \\\\dk-server.dk.ucsd.edu\\afassihizakeri\\rightsidemovies\\ar38motor\\2022_02_16\\77.avi\n",
      "Duration of video [s]:  12.5 , recorded with  40.0 fps!\n",
      "Overall # of frames:  500  found with (before cropping) frame dimensions:  800 480\n",
      "Starting to extract posture\n"
     ]
    },
    {
     "name": "stderr",
     "output_type": "stream",
     "text": [
      "510it [00:25, 20.29it/s]                                                                                               \n"
     ]
    },
    {
     "name": "stdout",
     "output_type": "stream",
     "text": [
      "Saving results in \\\\dk-server.dk.ucsd.edu\\afassihizakeri\\rightsidemovies\\ar38motor\\2022_02_16...\n",
      "Saving csv poses!\n",
      "Starting to analyze %  \\\\dk-server.dk.ucsd.edu\\afassihizakeri\\rightsidemovies\\ar38motor\\2022_02_16\\131.avi\n",
      "Loading  \\\\dk-server.dk.ucsd.edu\\afassihizakeri\\rightsidemovies\\ar38motor\\2022_02_16\\131.avi\n",
      "Duration of video [s]:  12.5 , recorded with  40.0 fps!\n",
      "Overall # of frames:  500  found with (before cropping) frame dimensions:  800 480\n",
      "Starting to extract posture\n"
     ]
    },
    {
     "name": "stderr",
     "output_type": "stream",
     "text": [
      "510it [00:24, 20.56it/s]                                                                                               \n"
     ]
    },
    {
     "name": "stdout",
     "output_type": "stream",
     "text": [
      "Saving results in \\\\dk-server.dk.ucsd.edu\\afassihizakeri\\rightsidemovies\\ar38motor\\2022_02_16...\n",
      "Saving csv poses!\n",
      "Starting to analyze %  \\\\dk-server.dk.ucsd.edu\\afassihizakeri\\rightsidemovies\\ar38motor\\2022_02_16\\226.avi\n",
      "Loading  \\\\dk-server.dk.ucsd.edu\\afassihizakeri\\rightsidemovies\\ar38motor\\2022_02_16\\226.avi\n",
      "Duration of video [s]:  12.5 , recorded with  40.0 fps!\n",
      "Overall # of frames:  500  found with (before cropping) frame dimensions:  800 480\n",
      "Starting to extract posture\n"
     ]
    },
    {
     "name": "stderr",
     "output_type": "stream",
     "text": [
      "510it [00:25, 20.26it/s]                                                                                               \n"
     ]
    },
    {
     "name": "stdout",
     "output_type": "stream",
     "text": [
      "Saving results in \\\\dk-server.dk.ucsd.edu\\afassihizakeri\\rightsidemovies\\ar38motor\\2022_02_16...\n",
      "Saving csv poses!\n",
      "Starting to analyze %  \\\\dk-server.dk.ucsd.edu\\afassihizakeri\\rightsidemovies\\ar38motor\\2022_02_16\\70.avi\n",
      "Loading  \\\\dk-server.dk.ucsd.edu\\afassihizakeri\\rightsidemovies\\ar38motor\\2022_02_16\\70.avi\n",
      "Duration of video [s]:  12.5 , recorded with  40.0 fps!\n",
      "Overall # of frames:  500  found with (before cropping) frame dimensions:  800 480\n",
      "Starting to extract posture\n"
     ]
    },
    {
     "name": "stderr",
     "output_type": "stream",
     "text": [
      "510it [00:25, 20.29it/s]                                                                                               \n"
     ]
    },
    {
     "name": "stdout",
     "output_type": "stream",
     "text": [
      "Saving results in \\\\dk-server.dk.ucsd.edu\\afassihizakeri\\rightsidemovies\\ar38motor\\2022_02_16...\n",
      "Saving csv poses!\n",
      "Starting to analyze %  \\\\dk-server.dk.ucsd.edu\\afassihizakeri\\rightsidemovies\\ar38motor\\2022_02_16\\136.avi\n",
      "Loading  \\\\dk-server.dk.ucsd.edu\\afassihizakeri\\rightsidemovies\\ar38motor\\2022_02_16\\136.avi\n",
      "Duration of video [s]:  12.5 , recorded with  40.0 fps!\n",
      "Overall # of frames:  500  found with (before cropping) frame dimensions:  800 480\n",
      "Starting to extract posture\n"
     ]
    },
    {
     "name": "stderr",
     "output_type": "stream",
     "text": [
      "510it [00:24, 20.50it/s]                                                                                               \n"
     ]
    },
    {
     "name": "stdout",
     "output_type": "stream",
     "text": [
      "Saving results in \\\\dk-server.dk.ucsd.edu\\afassihizakeri\\rightsidemovies\\ar38motor\\2022_02_16...\n",
      "Saving csv poses!\n",
      "Starting to analyze %  \\\\dk-server.dk.ucsd.edu\\afassihizakeri\\rightsidemovies\\ar38motor\\2022_02_16\\221.avi\n",
      "Loading  \\\\dk-server.dk.ucsd.edu\\afassihizakeri\\rightsidemovies\\ar38motor\\2022_02_16\\221.avi\n",
      "Duration of video [s]:  12.5 , recorded with  40.0 fps!\n",
      "Overall # of frames:  500  found with (before cropping) frame dimensions:  800 480\n",
      "Starting to extract posture\n"
     ]
    },
    {
     "name": "stderr",
     "output_type": "stream",
     "text": [
      "510it [00:24, 20.53it/s]                                                                                               \n"
     ]
    },
    {
     "name": "stdout",
     "output_type": "stream",
     "text": [
      "Saving results in \\\\dk-server.dk.ucsd.edu\\afassihizakeri\\rightsidemovies\\ar38motor\\2022_02_16...\n",
      "Saving csv poses!\n",
      "Starting to analyze %  \\\\dk-server.dk.ucsd.edu\\afassihizakeri\\rightsidemovies\\ar38motor\\2022_02_16\\230.avi\n",
      "Loading  \\\\dk-server.dk.ucsd.edu\\afassihizakeri\\rightsidemovies\\ar38motor\\2022_02_16\\230.avi\n",
      "Duration of video [s]:  12.5 , recorded with  40.0 fps!\n",
      "Overall # of frames:  500  found with (before cropping) frame dimensions:  800 480\n",
      "Starting to extract posture\n"
     ]
    },
    {
     "name": "stderr",
     "output_type": "stream",
     "text": [
      "510it [00:25, 19.97it/s]                                                                                               \n"
     ]
    },
    {
     "name": "stdout",
     "output_type": "stream",
     "text": [
      "Saving results in \\\\dk-server.dk.ucsd.edu\\afassihizakeri\\rightsidemovies\\ar38motor\\2022_02_16...\n",
      "Saving csv poses!\n",
      "Starting to analyze %  \\\\dk-server.dk.ucsd.edu\\afassihizakeri\\rightsidemovies\\ar38motor\\2022_02_16\\127.avi\n",
      "Loading  \\\\dk-server.dk.ucsd.edu\\afassihizakeri\\rightsidemovies\\ar38motor\\2022_02_16\\127.avi\n",
      "Duration of video [s]:  12.5 , recorded with  40.0 fps!\n",
      "Overall # of frames:  500  found with (before cropping) frame dimensions:  800 480\n",
      "Starting to extract posture\n"
     ]
    },
    {
     "name": "stderr",
     "output_type": "stream",
     "text": [
      "510it [00:25, 19.74it/s]                                                                                               \n"
     ]
    },
    {
     "name": "stdout",
     "output_type": "stream",
     "text": [
      "Saving results in \\\\dk-server.dk.ucsd.edu\\afassihizakeri\\rightsidemovies\\ar38motor\\2022_02_16...\n",
      "Saving csv poses!\n",
      "Starting to analyze %  \\\\dk-server.dk.ucsd.edu\\afassihizakeri\\rightsidemovies\\ar38motor\\2022_02_16\\61.avi\n",
      "Loading  \\\\dk-server.dk.ucsd.edu\\afassihizakeri\\rightsidemovies\\ar38motor\\2022_02_16\\61.avi\n",
      "Duration of video [s]:  12.5 , recorded with  40.0 fps!\n",
      "Overall # of frames:  500  found with (before cropping) frame dimensions:  800 480\n",
      "Starting to extract posture\n"
     ]
    },
    {
     "name": "stderr",
     "output_type": "stream",
     "text": [
      "510it [00:25, 19.98it/s]                                                                                               \n"
     ]
    },
    {
     "name": "stdout",
     "output_type": "stream",
     "text": [
      "Saving results in \\\\dk-server.dk.ucsd.edu\\afassihizakeri\\rightsidemovies\\ar38motor\\2022_02_16...\n",
      "Saving csv poses!\n",
      "Starting to analyze %  \\\\dk-server.dk.ucsd.edu\\afassihizakeri\\rightsidemovies\\ar38motor\\2022_02_16\\237.avi\n",
      "Loading  \\\\dk-server.dk.ucsd.edu\\afassihizakeri\\rightsidemovies\\ar38motor\\2022_02_16\\237.avi\n",
      "Duration of video [s]:  12.5 , recorded with  40.0 fps!\n",
      "Overall # of frames:  500  found with (before cropping) frame dimensions:  800 480\n",
      "Starting to extract posture\n"
     ]
    },
    {
     "name": "stderr",
     "output_type": "stream",
     "text": [
      "510it [00:24, 20.49it/s]                                                                                               \n"
     ]
    },
    {
     "name": "stdout",
     "output_type": "stream",
     "text": [
      "Saving results in \\\\dk-server.dk.ucsd.edu\\afassihizakeri\\rightsidemovies\\ar38motor\\2022_02_16...\n",
      "Saving csv poses!\n",
      "Starting to analyze %  \\\\dk-server.dk.ucsd.edu\\afassihizakeri\\rightsidemovies\\ar38motor\\2022_02_16\\120.avi\n",
      "Loading  \\\\dk-server.dk.ucsd.edu\\afassihizakeri\\rightsidemovies\\ar38motor\\2022_02_16\\120.avi\n",
      "Duration of video [s]:  12.5 , recorded with  40.0 fps!\n",
      "Overall # of frames:  500  found with (before cropping) frame dimensions:  800 480\n",
      "Starting to extract posture\n"
     ]
    },
    {
     "name": "stderr",
     "output_type": "stream",
     "text": [
      "510it [00:25, 20.16it/s]                                                                                               \n"
     ]
    },
    {
     "name": "stdout",
     "output_type": "stream",
     "text": [
      "Saving results in \\\\dk-server.dk.ucsd.edu\\afassihizakeri\\rightsidemovies\\ar38motor\\2022_02_16...\n",
      "Saving csv poses!\n",
      "Starting to analyze %  \\\\dk-server.dk.ucsd.edu\\afassihizakeri\\rightsidemovies\\ar38motor\\2022_02_16\\66.avi\n",
      "Loading  \\\\dk-server.dk.ucsd.edu\\afassihizakeri\\rightsidemovies\\ar38motor\\2022_02_16\\66.avi\n",
      "Duration of video [s]:  12.5 , recorded with  40.0 fps!\n",
      "Overall # of frames:  500  found with (before cropping) frame dimensions:  800 480\n",
      "Starting to extract posture\n"
     ]
    },
    {
     "name": "stderr",
     "output_type": "stream",
     "text": [
      "510it [00:25, 20.28it/s]                                                                                               \n"
     ]
    },
    {
     "name": "stdout",
     "output_type": "stream",
     "text": [
      "Saving results in \\\\dk-server.dk.ucsd.edu\\afassihizakeri\\rightsidemovies\\ar38motor\\2022_02_16...\n",
      "Saving csv poses!\n",
      "Starting to analyze %  \\\\dk-server.dk.ucsd.edu\\afassihizakeri\\rightsidemovies\\ar38motor\\2022_02_16\\245.avi\n",
      "Loading  \\\\dk-server.dk.ucsd.edu\\afassihizakeri\\rightsidemovies\\ar38motor\\2022_02_16\\245.avi\n",
      "Duration of video [s]:  12.5 , recorded with  40.0 fps!\n",
      "Overall # of frames:  500  found with (before cropping) frame dimensions:  800 480\n",
      "Starting to extract posture\n"
     ]
    },
    {
     "name": "stderr",
     "output_type": "stream",
     "text": [
      "510it [00:24, 20.45it/s]                                                                                               \n"
     ]
    },
    {
     "name": "stdout",
     "output_type": "stream",
     "text": [
      "Saving results in \\\\dk-server.dk.ucsd.edu\\afassihizakeri\\rightsidemovies\\ar38motor\\2022_02_16...\n",
      "Saving csv poses!\n",
      "Starting to analyze %  \\\\dk-server.dk.ucsd.edu\\afassihizakeri\\rightsidemovies\\ar38motor\\2022_02_16\\183.avi\n",
      "Loading  \\\\dk-server.dk.ucsd.edu\\afassihizakeri\\rightsidemovies\\ar38motor\\2022_02_16\\183.avi\n",
      "Duration of video [s]:  12.5 , recorded with  40.0 fps!\n",
      "Overall # of frames:  500  found with (before cropping) frame dimensions:  800 480\n",
      "Starting to extract posture\n"
     ]
    },
    {
     "name": "stderr",
     "output_type": "stream",
     "text": [
      "510it [00:25, 20.39it/s]                                                                                               \n"
     ]
    },
    {
     "name": "stdout",
     "output_type": "stream",
     "text": [
      "Saving results in \\\\dk-server.dk.ucsd.edu\\afassihizakeri\\rightsidemovies\\ar38motor\\2022_02_16...\n",
      "Saving csv poses!\n",
      "Starting to analyze %  \\\\dk-server.dk.ucsd.edu\\afassihizakeri\\rightsidemovies\\ar38motor\\2022_02_16\\152.avi\n",
      "Loading  \\\\dk-server.dk.ucsd.edu\\afassihizakeri\\rightsidemovies\\ar38motor\\2022_02_16\\152.avi\n",
      "Duration of video [s]:  12.5 , recorded with  40.0 fps!\n",
      "Overall # of frames:  500  found with (before cropping) frame dimensions:  800 480\n",
      "Starting to extract posture\n"
     ]
    },
    {
     "name": "stderr",
     "output_type": "stream",
     "text": [
      "510it [00:25, 20.36it/s]                                                                                               \n"
     ]
    },
    {
     "name": "stdout",
     "output_type": "stream",
     "text": [
      "Saving results in \\\\dk-server.dk.ucsd.edu\\afassihizakeri\\rightsidemovies\\ar38motor\\2022_02_16...\n",
      "Saving csv poses!\n",
      "Starting to analyze %  \\\\dk-server.dk.ucsd.edu\\afassihizakeri\\rightsidemovies\\ar38motor\\2022_02_16\\14.avi\n",
      "Loading  \\\\dk-server.dk.ucsd.edu\\afassihizakeri\\rightsidemovies\\ar38motor\\2022_02_16\\14.avi\n",
      "Duration of video [s]:  12.5 , recorded with  40.0 fps!\n",
      "Overall # of frames:  500  found with (before cropping) frame dimensions:  800 480\n",
      "Starting to extract posture\n"
     ]
    },
    {
     "name": "stderr",
     "output_type": "stream",
     "text": [
      "510it [00:25, 20.00it/s]                                                                                               \n"
     ]
    },
    {
     "name": "stdout",
     "output_type": "stream",
     "text": [
      "Saving results in \\\\dk-server.dk.ucsd.edu\\afassihizakeri\\rightsidemovies\\ar38motor\\2022_02_16...\n",
      "Saving csv poses!\n",
      "Starting to analyze %  \\\\dk-server.dk.ucsd.edu\\afassihizakeri\\rightsidemovies\\ar38motor\\2022_02_16\\239.avi\n",
      "Loading  \\\\dk-server.dk.ucsd.edu\\afassihizakeri\\rightsidemovies\\ar38motor\\2022_02_16\\239.avi\n",
      "Duration of video [s]:  12.5 , recorded with  40.0 fps!\n",
      "Overall # of frames:  500  found with (before cropping) frame dimensions:  800 480\n",
      "Starting to extract posture\n"
     ]
    },
    {
     "name": "stderr",
     "output_type": "stream",
     "text": [
      "510it [00:24, 20.52it/s]                                                                                               \n"
     ]
    },
    {
     "name": "stdout",
     "output_type": "stream",
     "text": [
      "Saving results in \\\\dk-server.dk.ucsd.edu\\afassihizakeri\\rightsidemovies\\ar38motor\\2022_02_16...\n",
      "Saving csv poses!\n",
      "Starting to analyze %  \\\\dk-server.dk.ucsd.edu\\afassihizakeri\\rightsidemovies\\ar38motor\\2022_02_16\\68.avi\n",
      "Loading  \\\\dk-server.dk.ucsd.edu\\afassihizakeri\\rightsidemovies\\ar38motor\\2022_02_16\\68.avi\n",
      "Duration of video [s]:  12.5 , recorded with  40.0 fps!\n",
      "Overall # of frames:  500  found with (before cropping) frame dimensions:  800 480\n",
      "Starting to extract posture\n"
     ]
    },
    {
     "name": "stderr",
     "output_type": "stream",
     "text": [
      "510it [00:25, 20.33it/s]                                                                                               \n"
     ]
    },
    {
     "name": "stdout",
     "output_type": "stream",
     "text": [
      "Saving results in \\\\dk-server.dk.ucsd.edu\\afassihizakeri\\rightsidemovies\\ar38motor\\2022_02_16...\n",
      "Saving csv poses!\n",
      "Starting to analyze %  \\\\dk-server.dk.ucsd.edu\\afassihizakeri\\rightsidemovies\\ar38motor\\2022_02_16\\129.avi\n",
      "Loading  \\\\dk-server.dk.ucsd.edu\\afassihizakeri\\rightsidemovies\\ar38motor\\2022_02_16\\129.avi\n",
      "Duration of video [s]:  12.5 , recorded with  40.0 fps!\n",
      "Overall # of frames:  500  found with (before cropping) frame dimensions:  800 480\n",
      "Starting to extract posture\n"
     ]
    },
    {
     "name": "stderr",
     "output_type": "stream",
     "text": [
      "510it [00:24, 20.46it/s]                                                                                               \n"
     ]
    },
    {
     "name": "stdout",
     "output_type": "stream",
     "text": [
      "Saving results in \\\\dk-server.dk.ucsd.edu\\afassihizakeri\\rightsidemovies\\ar38motor\\2022_02_16...\n",
      "Saving csv poses!\n",
      "Starting to analyze %  \\\\dk-server.dk.ucsd.edu\\afassihizakeri\\rightsidemovies\\ar38motor\\2022_02_16\\242.avi\n",
      "Loading  \\\\dk-server.dk.ucsd.edu\\afassihizakeri\\rightsidemovies\\ar38motor\\2022_02_16\\242.avi\n",
      "Duration of video [s]:  12.5 , recorded with  40.0 fps!\n",
      "Overall # of frames:  500  found with (before cropping) frame dimensions:  800 480\n",
      "Starting to extract posture\n"
     ]
    },
    {
     "name": "stderr",
     "output_type": "stream",
     "text": [
      "510it [00:24, 20.48it/s]                                                                                               \n"
     ]
    },
    {
     "name": "stdout",
     "output_type": "stream",
     "text": [
      "Saving results in \\\\dk-server.dk.ucsd.edu\\afassihizakeri\\rightsidemovies\\ar38motor\\2022_02_16...\n",
      "Saving csv poses!\n",
      "Starting to analyze %  \\\\dk-server.dk.ucsd.edu\\afassihizakeri\\rightsidemovies\\ar38motor\\2022_02_16\\184.avi\n",
      "Loading  \\\\dk-server.dk.ucsd.edu\\afassihizakeri\\rightsidemovies\\ar38motor\\2022_02_16\\184.avi\n",
      "Duration of video [s]:  12.5 , recorded with  40.0 fps!\n",
      "Overall # of frames:  500  found with (before cropping) frame dimensions:  800 480\n",
      "Starting to extract posture\n"
     ]
    },
    {
     "name": "stderr",
     "output_type": "stream",
     "text": [
      "510it [00:25, 20.31it/s]                                                                                               \n"
     ]
    },
    {
     "name": "stdout",
     "output_type": "stream",
     "text": [
      "Saving results in \\\\dk-server.dk.ucsd.edu\\afassihizakeri\\rightsidemovies\\ar38motor\\2022_02_16...\n",
      "Saving csv poses!\n",
      "Starting to analyze %  \\\\dk-server.dk.ucsd.edu\\afassihizakeri\\rightsidemovies\\ar38motor\\2022_02_16\\155.avi\n",
      "Loading  \\\\dk-server.dk.ucsd.edu\\afassihizakeri\\rightsidemovies\\ar38motor\\2022_02_16\\155.avi\n",
      "Duration of video [s]:  12.5 , recorded with  40.0 fps!\n",
      "Overall # of frames:  500  found with (before cropping) frame dimensions:  800 480\n",
      "Starting to extract posture\n"
     ]
    },
    {
     "name": "stderr",
     "output_type": "stream",
     "text": [
      "510it [00:25, 20.26it/s]                                                                                               \n"
     ]
    },
    {
     "name": "stdout",
     "output_type": "stream",
     "text": [
      "Saving results in \\\\dk-server.dk.ucsd.edu\\afassihizakeri\\rightsidemovies\\ar38motor\\2022_02_16...\n",
      "Saving csv poses!\n",
      "Starting to analyze %  \\\\dk-server.dk.ucsd.edu\\afassihizakeri\\rightsidemovies\\ar38motor\\2022_02_16\\13.avi\n",
      "Loading  \\\\dk-server.dk.ucsd.edu\\afassihizakeri\\rightsidemovies\\ar38motor\\2022_02_16\\13.avi\n",
      "Duration of video [s]:  12.5 , recorded with  40.0 fps!\n",
      "Overall # of frames:  500  found with (before cropping) frame dimensions:  800 480\n",
      "Starting to extract posture\n"
     ]
    },
    {
     "name": "stderr",
     "output_type": "stream",
     "text": [
      "510it [00:24, 20.50it/s]                                                                                               \n"
     ]
    },
    {
     "name": "stdout",
     "output_type": "stream",
     "text": [
      "Saving results in \\\\dk-server.dk.ucsd.edu\\afassihizakeri\\rightsidemovies\\ar38motor\\2022_02_16...\n",
      "Saving csv poses!\n",
      "Starting to analyze %  \\\\dk-server.dk.ucsd.edu\\afassihizakeri\\rightsidemovies\\ar38motor\\2022_02_16\\160.avi\n",
      "Loading  \\\\dk-server.dk.ucsd.edu\\afassihizakeri\\rightsidemovies\\ar38motor\\2022_02_16\\160.avi\n",
      "Duration of video [s]:  12.5 , recorded with  40.0 fps!\n",
      "Overall # of frames:  500  found with (before cropping) frame dimensions:  800 480\n",
      "Starting to extract posture\n"
     ]
    },
    {
     "name": "stderr",
     "output_type": "stream",
     "text": [
      "510it [00:25, 19.99it/s]                                                                                               \n"
     ]
    },
    {
     "name": "stdout",
     "output_type": "stream",
     "text": [
      "Saving results in \\\\dk-server.dk.ucsd.edu\\afassihizakeri\\rightsidemovies\\ar38motor\\2022_02_16...\n",
      "Saving csv poses!\n",
      "Starting to analyze %  \\\\dk-server.dk.ucsd.edu\\afassihizakeri\\rightsidemovies\\ar38motor\\2022_02_16\\26.avi\n",
      "Loading  \\\\dk-server.dk.ucsd.edu\\afassihizakeri\\rightsidemovies\\ar38motor\\2022_02_16\\26.avi\n",
      "Duration of video [s]:  12.5 , recorded with  40.0 fps!\n",
      "Overall # of frames:  500  found with (before cropping) frame dimensions:  800 480\n",
      "Starting to extract posture\n"
     ]
    },
    {
     "name": "stderr",
     "output_type": "stream",
     "text": [
      "510it [00:25, 20.13it/s]                                                                                               \n"
     ]
    },
    {
     "name": "stdout",
     "output_type": "stream",
     "text": [
      "Saving results in \\\\dk-server.dk.ucsd.edu\\afassihizakeri\\rightsidemovies\\ar38motor\\2022_02_16...\n",
      "Saving csv poses!\n",
      "Starting to analyze %  \\\\dk-server.dk.ucsd.edu\\afassihizakeri\\rightsidemovies\\ar38motor\\2022_02_16\\167.avi\n",
      "Loading  \\\\dk-server.dk.ucsd.edu\\afassihizakeri\\rightsidemovies\\ar38motor\\2022_02_16\\167.avi\n",
      "Duration of video [s]:  12.5 , recorded with  40.0 fps!\n",
      "Overall # of frames:  500  found with (before cropping) frame dimensions:  800 480\n",
      "Starting to extract posture\n"
     ]
    },
    {
     "name": "stderr",
     "output_type": "stream",
     "text": [
      "510it [00:24, 20.47it/s]                                                                                               \n"
     ]
    },
    {
     "name": "stdout",
     "output_type": "stream",
     "text": [
      "Saving results in \\\\dk-server.dk.ucsd.edu\\afassihizakeri\\rightsidemovies\\ar38motor\\2022_02_16...\n",
      "Saving csv poses!\n",
      "Starting to analyze %  \\\\dk-server.dk.ucsd.edu\\afassihizakeri\\rightsidemovies\\ar38motor\\2022_02_16\\21.avi\n",
      "Loading  \\\\dk-server.dk.ucsd.edu\\afassihizakeri\\rightsidemovies\\ar38motor\\2022_02_16\\21.avi\n",
      "Duration of video [s]:  12.5 , recorded with  40.0 fps!\n",
      "Overall # of frames:  500  found with (before cropping) frame dimensions:  800 480\n",
      "Starting to extract posture\n"
     ]
    },
    {
     "name": "stderr",
     "output_type": "stream",
     "text": [
      "510it [00:24, 20.45it/s]                                                                                               \n"
     ]
    },
    {
     "name": "stdout",
     "output_type": "stream",
     "text": [
      "Saving results in \\\\dk-server.dk.ucsd.edu\\afassihizakeri\\rightsidemovies\\ar38motor\\2022_02_16...\n",
      "Saving csv poses!\n",
      "Starting to analyze %  \\\\dk-server.dk.ucsd.edu\\afassihizakeri\\rightsidemovies\\ar38motor\\2022_02_16\\169.avi\n",
      "Loading  \\\\dk-server.dk.ucsd.edu\\afassihizakeri\\rightsidemovies\\ar38motor\\2022_02_16\\169.avi\n",
      "Duration of video [s]:  12.5 , recorded with  40.0 fps!\n",
      "Overall # of frames:  500  found with (before cropping) frame dimensions:  800 480\n",
      "Starting to extract posture\n"
     ]
    },
    {
     "name": "stderr",
     "output_type": "stream",
     "text": [
      "510it [00:24, 20.45it/s]                                                                                               \n"
     ]
    },
    {
     "name": "stdout",
     "output_type": "stream",
     "text": [
      "Saving results in \\\\dk-server.dk.ucsd.edu\\afassihizakeri\\rightsidemovies\\ar38motor\\2022_02_16...\n",
      "Saving csv poses!\n",
      "Starting to analyze %  \\\\dk-server.dk.ucsd.edu\\afassihizakeri\\rightsidemovies\\ar38motor\\2022_02_16\\4.avi\n",
      "Loading  \\\\dk-server.dk.ucsd.edu\\afassihizakeri\\rightsidemovies\\ar38motor\\2022_02_16\\4.avi\n",
      "Duration of video [s]:  12.5 , recorded with  40.0 fps!\n",
      "Overall # of frames:  500  found with (before cropping) frame dimensions:  800 480\n",
      "Starting to extract posture\n"
     ]
    },
    {
     "name": "stderr",
     "output_type": "stream",
     "text": [
      "510it [00:24, 20.51it/s]                                                                                               \n"
     ]
    },
    {
     "name": "stdout",
     "output_type": "stream",
     "text": [
      "Saving results in \\\\dk-server.dk.ucsd.edu\\afassihizakeri\\rightsidemovies\\ar38motor\\2022_02_16...\n",
      "Saving csv poses!\n",
      "Starting to analyze %  \\\\dk-server.dk.ucsd.edu\\afassihizakeri\\rightsidemovies\\ar38motor\\2022_02_16\\115.avi\n",
      "Loading  \\\\dk-server.dk.ucsd.edu\\afassihizakeri\\rightsidemovies\\ar38motor\\2022_02_16\\115.avi\n",
      "Duration of video [s]:  12.5 , recorded with  40.0 fps!\n",
      "Overall # of frames:  500  found with (before cropping) frame dimensions:  800 480\n",
      "Starting to extract posture\n"
     ]
    },
    {
     "name": "stderr",
     "output_type": "stream",
     "text": [
      "510it [00:24, 20.48it/s]                                                                                               \n"
     ]
    },
    {
     "name": "stdout",
     "output_type": "stream",
     "text": [
      "Saving results in \\\\dk-server.dk.ucsd.edu\\afassihizakeri\\rightsidemovies\\ar38motor\\2022_02_16...\n",
      "Saving csv poses!\n",
      "Starting to analyze %  \\\\dk-server.dk.ucsd.edu\\afassihizakeri\\rightsidemovies\\ar38motor\\2022_02_16\\202.avi\n",
      "Loading  \\\\dk-server.dk.ucsd.edu\\afassihizakeri\\rightsidemovies\\ar38motor\\2022_02_16\\202.avi\n",
      "Duration of video [s]:  12.5 , recorded with  40.0 fps!\n",
      "Overall # of frames:  500  found with (before cropping) frame dimensions:  800 480\n",
      "Starting to extract posture\n"
     ]
    },
    {
     "name": "stderr",
     "output_type": "stream",
     "text": [
      "510it [00:24, 20.56it/s]                                                                                               \n"
     ]
    },
    {
     "name": "stdout",
     "output_type": "stream",
     "text": [
      "Saving results in \\\\dk-server.dk.ucsd.edu\\afassihizakeri\\rightsidemovies\\ar38motor\\2022_02_16...\n",
      "Saving csv poses!\n",
      "Starting to analyze %  \\\\dk-server.dk.ucsd.edu\\afassihizakeri\\rightsidemovies\\ar38motor\\2022_02_16\\53.avi\n",
      "Loading  \\\\dk-server.dk.ucsd.edu\\afassihizakeri\\rightsidemovies\\ar38motor\\2022_02_16\\53.avi\n",
      "Duration of video [s]:  12.5 , recorded with  40.0 fps!\n",
      "Overall # of frames:  500  found with (before cropping) frame dimensions:  800 480\n",
      "Starting to extract posture\n"
     ]
    },
    {
     "name": "stderr",
     "output_type": "stream",
     "text": [
      "510it [00:25, 20.29it/s]                                                                                               \n"
     ]
    },
    {
     "name": "stdout",
     "output_type": "stream",
     "text": [
      "Saving results in \\\\dk-server.dk.ucsd.edu\\afassihizakeri\\rightsidemovies\\ar38motor\\2022_02_16...\n",
      "Saving csv poses!\n",
      "Starting to analyze %  \\\\dk-server.dk.ucsd.edu\\afassihizakeri\\rightsidemovies\\ar38motor\\2022_02_16\\82.avi\n",
      "Loading  \\\\dk-server.dk.ucsd.edu\\afassihizakeri\\rightsidemovies\\ar38motor\\2022_02_16\\82.avi\n",
      "Duration of video [s]:  12.5 , recorded with  40.0 fps!\n",
      "Overall # of frames:  500  found with (before cropping) frame dimensions:  800 480\n",
      "Starting to extract posture\n"
     ]
    },
    {
     "name": "stderr",
     "output_type": "stream",
     "text": [
      "510it [00:25, 20.23it/s]                                                                                               \n"
     ]
    },
    {
     "name": "stdout",
     "output_type": "stream",
     "text": [
      "Saving results in \\\\dk-server.dk.ucsd.edu\\afassihizakeri\\rightsidemovies\\ar38motor\\2022_02_16...\n",
      "Saving csv poses!\n",
      "Starting to analyze %  \\\\dk-server.dk.ucsd.edu\\afassihizakeri\\rightsidemovies\\ar38motor\\2022_02_16\\3.avi\n",
      "Loading  \\\\dk-server.dk.ucsd.edu\\afassihizakeri\\rightsidemovies\\ar38motor\\2022_02_16\\3.avi\n",
      "Duration of video [s]:  12.5 , recorded with  40.0 fps!\n",
      "Overall # of frames:  500  found with (before cropping) frame dimensions:  800 480\n",
      "Starting to extract posture\n"
     ]
    },
    {
     "name": "stderr",
     "output_type": "stream",
     "text": [
      "510it [00:24, 20.49it/s]                                                                                               \n"
     ]
    },
    {
     "name": "stdout",
     "output_type": "stream",
     "text": [
      "Saving results in \\\\dk-server.dk.ucsd.edu\\afassihizakeri\\rightsidemovies\\ar38motor\\2022_02_16...\n",
      "Saving csv poses!\n",
      "Starting to analyze %  \\\\dk-server.dk.ucsd.edu\\afassihizakeri\\rightsidemovies\\ar38motor\\2022_02_16\\112.avi\n",
      "Loading  \\\\dk-server.dk.ucsd.edu\\afassihizakeri\\rightsidemovies\\ar38motor\\2022_02_16\\112.avi\n",
      "Duration of video [s]:  12.5 , recorded with  40.0 fps!\n",
      "Overall # of frames:  500  found with (before cropping) frame dimensions:  800 480\n",
      "Starting to extract posture\n"
     ]
    },
    {
     "name": "stderr",
     "output_type": "stream",
     "text": [
      "510it [00:25, 20.38it/s]                                                                                               \n"
     ]
    },
    {
     "name": "stdout",
     "output_type": "stream",
     "text": [
      "Saving results in \\\\dk-server.dk.ucsd.edu\\afassihizakeri\\rightsidemovies\\ar38motor\\2022_02_16...\n",
      "Saving csv poses!\n",
      "Starting to analyze %  \\\\dk-server.dk.ucsd.edu\\afassihizakeri\\rightsidemovies\\ar38motor\\2022_02_16\\205.avi\n",
      "Loading  \\\\dk-server.dk.ucsd.edu\\afassihizakeri\\rightsidemovies\\ar38motor\\2022_02_16\\205.avi\n",
      "Duration of video [s]:  12.5 , recorded with  40.0 fps!\n",
      "Overall # of frames:  500  found with (before cropping) frame dimensions:  800 480\n",
      "Starting to extract posture\n"
     ]
    },
    {
     "name": "stderr",
     "output_type": "stream",
     "text": [
      "510it [00:25, 20.07it/s]                                                                                               \n"
     ]
    },
    {
     "name": "stdout",
     "output_type": "stream",
     "text": [
      "Saving results in \\\\dk-server.dk.ucsd.edu\\afassihizakeri\\rightsidemovies\\ar38motor\\2022_02_16...\n",
      "Saving csv poses!\n",
      "Starting to analyze %  \\\\dk-server.dk.ucsd.edu\\afassihizakeri\\rightsidemovies\\ar38motor\\2022_02_16\\54.avi\n",
      "Loading  \\\\dk-server.dk.ucsd.edu\\afassihizakeri\\rightsidemovies\\ar38motor\\2022_02_16\\54.avi\n",
      "Duration of video [s]:  12.5 , recorded with  40.0 fps!\n",
      "Overall # of frames:  500  found with (before cropping) frame dimensions:  800 480\n",
      "Starting to extract posture\n"
     ]
    },
    {
     "name": "stderr",
     "output_type": "stream",
     "text": [
      "510it [00:25, 20.01it/s]                                                                                               \n"
     ]
    },
    {
     "name": "stdout",
     "output_type": "stream",
     "text": [
      "Saving results in \\\\dk-server.dk.ucsd.edu\\afassihizakeri\\rightsidemovies\\ar38motor\\2022_02_16...\n",
      "Saving csv poses!\n",
      "Starting to analyze %  \\\\dk-server.dk.ucsd.edu\\afassihizakeri\\rightsidemovies\\ar38motor\\2022_02_16\\85.avi\n",
      "Loading  \\\\dk-server.dk.ucsd.edu\\afassihizakeri\\rightsidemovies\\ar38motor\\2022_02_16\\85.avi\n",
      "Duration of video [s]:  12.5 , recorded with  40.0 fps!\n",
      "Overall # of frames:  500  found with (before cropping) frame dimensions:  800 480\n",
      "Starting to extract posture\n"
     ]
    },
    {
     "name": "stderr",
     "output_type": "stream",
     "text": [
      "510it [00:24, 20.45it/s]                                                                                               \n"
     ]
    },
    {
     "name": "stdout",
     "output_type": "stream",
     "text": [
      "Saving results in \\\\dk-server.dk.ucsd.edu\\afassihizakeri\\rightsidemovies\\ar38motor\\2022_02_16...\n",
      "Saving csv poses!\n",
      "Starting to analyze %  \\\\dk-server.dk.ucsd.edu\\afassihizakeri\\rightsidemovies\\ar38motor\\2022_02_16\\28.avi\n",
      "Loading  \\\\dk-server.dk.ucsd.edu\\afassihizakeri\\rightsidemovies\\ar38motor\\2022_02_16\\28.avi\n",
      "Duration of video [s]:  12.5 , recorded with  40.0 fps!\n",
      "Overall # of frames:  500  found with (before cropping) frame dimensions:  800 480\n",
      "Starting to extract posture\n"
     ]
    },
    {
     "name": "stderr",
     "output_type": "stream",
     "text": [
      "510it [00:25, 20.34it/s]                                                                                               \n"
     ]
    },
    {
     "name": "stdout",
     "output_type": "stream",
     "text": [
      "Saving results in \\\\dk-server.dk.ucsd.edu\\afassihizakeri\\rightsidemovies\\ar38motor\\2022_02_16...\n",
      "Saving csv poses!\n",
      "The videos are analyzed. Now your research can truly start! \n",
      " You can create labeled videos with 'create_labeled_video'\n",
      "If the tracking is not satisfactory for some videos, consider expanding the training set. You can use the function 'extract_outlier_frames' to extract a few representative outlier frames.\n",
      "Filtering with median model \\\\dk-server.dk.ucsd.edu\\afassihizakeri\\rightsidemovies\\ar38motor\\2022_02_16\\248.avi\n",
      "Saving filtered csv poses!\n",
      "Filtering with median model \\\\dk-server.dk.ucsd.edu\\afassihizakeri\\rightsidemovies\\ar38motor\\2022_02_16\\19.avi\n",
      "Saving filtered csv poses!\n",
      "Filtering with median model \\\\dk-server.dk.ucsd.edu\\afassihizakeri\\rightsidemovies\\ar38motor\\2022_02_16\\234.avi\n",
      "Saving filtered csv poses!\n",
      "Filtering with median model \\\\dk-server.dk.ucsd.edu\\afassihizakeri\\rightsidemovies\\ar38motor\\2022_02_16\\123.avi\n",
      "Saving filtered csv poses!\n",
      "Filtering with median model \\\\dk-server.dk.ucsd.edu\\afassihizakeri\\rightsidemovies\\ar38motor\\2022_02_16\\65.avi\n",
      "Saving filtered csv poses!\n",
      "Filtering with median model \\\\dk-server.dk.ucsd.edu\\afassihizakeri\\rightsidemovies\\ar38motor\\2022_02_16\\233.avi\n",
      "Saving filtered csv poses!\n",
      "Filtering with median model \\\\dk-server.dk.ucsd.edu\\afassihizakeri\\rightsidemovies\\ar38motor\\2022_02_16\\124.avi\n",
      "Saving filtered csv poses!\n",
      "Filtering with median model \\\\dk-server.dk.ucsd.edu\\afassihizakeri\\rightsidemovies\\ar38motor\\2022_02_16\\62.avi\n",
      "Saving filtered csv poses!\n",
      "Filtering with median model \\\\dk-server.dk.ucsd.edu\\afassihizakeri\\rightsidemovies\\ar38motor\\2022_02_16\\189.avi\n",
      "Saving filtered csv poses!\n",
      "Filtering with median model \\\\dk-server.dk.ucsd.edu\\afassihizakeri\\rightsidemovies\\ar38motor\\2022_02_16\\158.avi\n",
      "Saving filtered csv poses!\n",
      "Filtering with median model \\\\dk-server.dk.ucsd.edu\\afassihizakeri\\rightsidemovies\\ar38motor\\2022_02_16\\187.avi\n",
      "Saving filtered csv poses!\n",
      "Filtering with median model \\\\dk-server.dk.ucsd.edu\\afassihizakeri\\rightsidemovies\\ar38motor\\2022_02_16\\241.avi\n",
      "Saving filtered csv poses!\n",
      "Filtering with median model \\\\dk-server.dk.ucsd.edu\\afassihizakeri\\rightsidemovies\\ar38motor\\2022_02_16\\156.avi\n",
      "Saving filtered csv poses!\n",
      "Filtering with median model \\\\dk-server.dk.ucsd.edu\\afassihizakeri\\rightsidemovies\\ar38motor\\2022_02_16\\10.avi\n",
      "Saving filtered csv poses!\n",
      "Filtering with median model \\\\dk-server.dk.ucsd.edu\\afassihizakeri\\rightsidemovies\\ar38motor\\2022_02_16\\180.avi\n",
      "Saving filtered csv poses!\n",
      "Filtering with median model \\\\dk-server.dk.ucsd.edu\\afassihizakeri\\rightsidemovies\\ar38motor\\2022_02_16\\246.avi\n",
      "Saving filtered csv poses!\n",
      "Filtering with median model \\\\dk-server.dk.ucsd.edu\\afassihizakeri\\rightsidemovies\\ar38motor\\2022_02_16\\151.avi\n",
      "Saving filtered csv poses!\n",
      "Filtering with median model \\\\dk-server.dk.ucsd.edu\\afassihizakeri\\rightsidemovies\\ar38motor\\2022_02_16\\17.avi\n",
      "Saving filtered csv poses!\n",
      "Filtering with median model \\\\dk-server.dk.ucsd.edu\\afassihizakeri\\rightsidemovies\\ar38motor\\2022_02_16\\164.avi\n",
      "Saving filtered csv poses!\n",
      "Filtering with median model \\\\dk-server.dk.ucsd.edu\\afassihizakeri\\rightsidemovies\\ar38motor\\2022_02_16\\22.avi\n",
      "Saving filtered csv poses!\n",
      "Filtering with median model \\\\dk-server.dk.ucsd.edu\\afassihizakeri\\rightsidemovies\\ar38motor\\2022_02_16\\118.avi\n",
      "Saving filtered csv poses!\n",
      "Filtering with median model \\\\dk-server.dk.ucsd.edu\\afassihizakeri\\rightsidemovies\\ar38motor\\2022_02_16\\9.avi\n",
      "Saving filtered csv poses!\n",
      "Filtering with median model \\\\dk-server.dk.ucsd.edu\\afassihizakeri\\rightsidemovies\\ar38motor\\2022_02_16\\208.avi\n",
      "Saving filtered csv poses!\n",
      "Filtering with median model \\\\dk-server.dk.ucsd.edu\\afassihizakeri\\rightsidemovies\\ar38motor\\2022_02_16\\59.avi\n",
      "Saving filtered csv poses!\n",
      "Filtering with median model \\\\dk-server.dk.ucsd.edu\\afassihizakeri\\rightsidemovies\\ar38motor\\2022_02_16\\88.avi\n",
      "Saving filtered csv poses!\n",
      "Filtering with median model \\\\dk-server.dk.ucsd.edu\\afassihizakeri\\rightsidemovies\\ar38motor\\2022_02_16\\163.avi\n",
      "Saving filtered csv poses!\n",
      "Filtering with median model \\\\dk-server.dk.ucsd.edu\\afassihizakeri\\rightsidemovies\\ar38motor\\2022_02_16\\25.avi\n",
      "Saving filtered csv poses!\n",
      "Filtering with median model \\\\dk-server.dk.ucsd.edu\\afassihizakeri\\rightsidemovies\\ar38motor\\2022_02_16\\111.avi\n",
      "Saving filtered csv poses!\n",
      "Filtering with median model \\\\dk-server.dk.ucsd.edu\\afassihizakeri\\rightsidemovies\\ar38motor\\2022_02_16\\0.avi\n",
      "Saving filtered csv poses!\n",
      "Filtering with median model \\\\dk-server.dk.ucsd.edu\\afassihizakeri\\rightsidemovies\\ar38motor\\2022_02_16\\206.avi\n",
      "Saving filtered csv poses!\n",
      "Filtering with median model \\\\dk-server.dk.ucsd.edu\\afassihizakeri\\rightsidemovies\\ar38motor\\2022_02_16\\57.avi\n",
      "Saving filtered csv poses!\n",
      "Filtering with median model \\\\dk-server.dk.ucsd.edu\\afassihizakeri\\rightsidemovies\\ar38motor\\2022_02_16\\86.avi\n",
      "Saving filtered csv poses!\n",
      "Filtering with median model \\\\dk-server.dk.ucsd.edu\\afassihizakeri\\rightsidemovies\\ar38motor\\2022_02_16\\116.avi\n",
      "Saving filtered csv poses!\n",
      "Filtering with median model \\\\dk-server.dk.ucsd.edu\\afassihizakeri\\rightsidemovies\\ar38motor\\2022_02_16\\7.avi\n",
      "Saving filtered csv poses!\n",
      "Filtering with median model \\\\dk-server.dk.ucsd.edu\\afassihizakeri\\rightsidemovies\\ar38motor\\2022_02_16\\201.avi\n",
      "Saving filtered csv poses!\n",
      "Filtering with median model \\\\dk-server.dk.ucsd.edu\\afassihizakeri\\rightsidemovies\\ar38motor\\2022_02_16\\50.avi\n",
      "Saving filtered csv poses!\n",
      "Filtering with median model \\\\dk-server.dk.ucsd.edu\\afassihizakeri\\rightsidemovies\\ar38motor\\2022_02_16\\81.avi\n",
      "Saving filtered csv poses!\n",
      "Filtering with median model \\\\dk-server.dk.ucsd.edu\\afassihizakeri\\rightsidemovies\\ar38motor\\2022_02_16\\90.avi\n",
      "Saving filtered csv poses!\n",
      "Filtering with median model \\\\dk-server.dk.ucsd.edu\\afassihizakeri\\rightsidemovies\\ar38motor\\2022_02_16\\41.avi\n",
      "Saving filtered csv poses!\n",
      "Filtering with median model \\\\dk-server.dk.ucsd.edu\\afassihizakeri\\rightsidemovies\\ar38motor\\2022_02_16\\210.avi\n",
      "Saving filtered csv poses!\n",
      "Filtering with median model \\\\dk-server.dk.ucsd.edu\\afassihizakeri\\rightsidemovies\\ar38motor\\2022_02_16\\107.avi\n",
      "Saving filtered csv poses!\n",
      "Filtering with median model \\\\dk-server.dk.ucsd.edu\\afassihizakeri\\rightsidemovies\\ar38motor\\2022_02_16\\97.avi\n",
      "Saving filtered csv poses!\n",
      "Filtering with median model \\\\dk-server.dk.ucsd.edu\\afassihizakeri\\rightsidemovies\\ar38motor\\2022_02_16\\46.avi\n",
      "Saving filtered csv poses!\n",
      "Filtering with median model \\\\dk-server.dk.ucsd.edu\\afassihizakeri\\rightsidemovies\\ar38motor\\2022_02_16\\217.avi\n",
      "Saving filtered csv poses!\n",
      "Filtering with median model \\\\dk-server.dk.ucsd.edu\\afassihizakeri\\rightsidemovies\\ar38motor\\2022_02_16\\100.avi\n",
      "Saving filtered csv poses!\n",
      "Filtering with median model \\\\dk-server.dk.ucsd.edu\\afassihizakeri\\rightsidemovies\\ar38motor\\2022_02_16\\99.avi\n",
      "Saving filtered csv poses!\n",
      "Filtering with median model \\\\dk-server.dk.ucsd.edu\\afassihizakeri\\rightsidemovies\\ar38motor\\2022_02_16\\48.avi\n",
      "Saving filtered csv poses!\n",
      "Filtering with median model \\\\dk-server.dk.ucsd.edu\\afassihizakeri\\rightsidemovies\\ar38motor\\2022_02_16\\219.avi\n",
      "Saving filtered csv poses!\n",
      "Filtering with median model \\\\dk-server.dk.ucsd.edu\\afassihizakeri\\rightsidemovies\\ar38motor\\2022_02_16\\34.avi\n",
      "Saving filtered csv poses!\n",
      "Filtering with median model \\\\dk-server.dk.ucsd.edu\\afassihizakeri\\rightsidemovies\\ar38motor\\2022_02_16\\172.avi\n",
      "Saving filtered csv poses!\n",
      "Filtering with median model \\\\dk-server.dk.ucsd.edu\\afassihizakeri\\rightsidemovies\\ar38motor\\2022_02_16\\33.avi\n",
      "Saving filtered csv poses!\n",
      "Filtering with median model \\\\dk-server.dk.ucsd.edu\\afassihizakeri\\rightsidemovies\\ar38motor\\2022_02_16\\262.avi\n",
      "Saving filtered csv poses!\n",
      "Filtering with median model \\\\dk-server.dk.ucsd.edu\\afassihizakeri\\rightsidemovies\\ar38motor\\2022_02_16\\175.avi\n",
      "Saving filtered csv poses!\n",
      "Filtering with median model \\\\dk-server.dk.ucsd.edu\\afassihizakeri\\rightsidemovies\\ar38motor\\2022_02_16\\109.avi\n",
      "Saving filtered csv poses!\n",
      "Filtering with median model \\\\dk-server.dk.ucsd.edu\\afassihizakeri\\rightsidemovies\\ar38motor\\2022_02_16\\140.avi\n",
      "Saving filtered csv poses!\n",
      "Filtering with median model \\\\dk-server.dk.ucsd.edu\\afassihizakeri\\rightsidemovies\\ar38motor\\2022_02_16\\191.avi\n",
      "Saving filtered csv poses!\n",
      "Filtering with median model \\\\dk-server.dk.ucsd.edu\\afassihizakeri\\rightsidemovies\\ar38motor\\2022_02_16\\257.avi\n"
     ]
    },
    {
     "name": "stdout",
     "output_type": "stream",
     "text": [
      "Saving filtered csv poses!\n",
      "Filtering with median model \\\\dk-server.dk.ucsd.edu\\afassihizakeri\\rightsidemovies\\ar38motor\\2022_02_16\\147.avi\n",
      "Saving filtered csv poses!\n",
      "Filtering with median model \\\\dk-server.dk.ucsd.edu\\afassihizakeri\\rightsidemovies\\ar38motor\\2022_02_16\\196.avi\n",
      "Saving filtered csv poses!\n",
      "Filtering with median model \\\\dk-server.dk.ucsd.edu\\afassihizakeri\\rightsidemovies\\ar38motor\\2022_02_16\\250.avi\n",
      "Saving filtered csv poses!\n",
      "Filtering with median model \\\\dk-server.dk.ucsd.edu\\afassihizakeri\\rightsidemovies\\ar38motor\\2022_02_16\\73.avi\n",
      "Saving filtered csv poses!\n",
      "Filtering with median model \\\\dk-server.dk.ucsd.edu\\afassihizakeri\\rightsidemovies\\ar38motor\\2022_02_16\\135.avi\n",
      "Saving filtered csv poses!\n",
      "Filtering with median model \\\\dk-server.dk.ucsd.edu\\afassihizakeri\\rightsidemovies\\ar38motor\\2022_02_16\\222.avi\n",
      "Saving filtered csv poses!\n",
      "Filtering with median model \\\\dk-server.dk.ucsd.edu\\afassihizakeri\\rightsidemovies\\ar38motor\\2022_02_16\\149.avi\n",
      "Saving filtered csv poses!\n",
      "Filtering with median model \\\\dk-server.dk.ucsd.edu\\afassihizakeri\\rightsidemovies\\ar38motor\\2022_02_16\\198.avi\n",
      "Saving filtered csv poses!\n",
      "Filtering with median model \\\\dk-server.dk.ucsd.edu\\afassihizakeri\\rightsidemovies\\ar38motor\\2022_02_16\\259.avi\n",
      "Saving filtered csv poses!\n",
      "Filtering with median model \\\\dk-server.dk.ucsd.edu\\afassihizakeri\\rightsidemovies\\ar38motor\\2022_02_16\\74.avi\n",
      "Saving filtered csv poses!\n",
      "Filtering with median model \\\\dk-server.dk.ucsd.edu\\afassihizakeri\\rightsidemovies\\ar38motor\\2022_02_16\\132.avi\n",
      "Saving filtered csv poses!\n",
      "Filtering with median model \\\\dk-server.dk.ucsd.edu\\afassihizakeri\\rightsidemovies\\ar38motor\\2022_02_16\\225.avi\n",
      "Saving filtered csv poses!\n",
      "Filtering with median model \\\\dk-server.dk.ucsd.edu\\afassihizakeri\\rightsidemovies\\ar38motor\\2022_02_16\\117.avi\n",
      "Saving filtered csv poses!\n",
      "Filtering with median model \\\\dk-server.dk.ucsd.edu\\afassihizakeri\\rightsidemovies\\ar38motor\\2022_02_16\\6.avi\n",
      "Saving filtered csv poses!\n",
      "Filtering with median model \\\\dk-server.dk.ucsd.edu\\afassihizakeri\\rightsidemovies\\ar38motor\\2022_02_16\\200.avi\n",
      "Saving filtered csv poses!\n",
      "Filtering with median model \\\\dk-server.dk.ucsd.edu\\afassihizakeri\\rightsidemovies\\ar38motor\\2022_02_16\\51.avi\n",
      "Saving filtered csv poses!\n",
      "Filtering with median model \\\\dk-server.dk.ucsd.edu\\afassihizakeri\\rightsidemovies\\ar38motor\\2022_02_16\\80.avi\n",
      "Saving filtered csv poses!\n",
      "Filtering with median model \\\\dk-server.dk.ucsd.edu\\afassihizakeri\\rightsidemovies\\ar38motor\\2022_02_16\\110.avi\n",
      "Saving filtered csv poses!\n",
      "Filtering with median model \\\\dk-server.dk.ucsd.edu\\afassihizakeri\\rightsidemovies\\ar38motor\\2022_02_16\\1.avi\n",
      "Saving filtered csv poses!\n",
      "Filtering with median model \\\\dk-server.dk.ucsd.edu\\afassihizakeri\\rightsidemovies\\ar38motor\\2022_02_16\\207.avi\n",
      "Saving filtered csv poses!\n",
      "Filtering with median model \\\\dk-server.dk.ucsd.edu\\afassihizakeri\\rightsidemovies\\ar38motor\\2022_02_16\\56.avi\n",
      "Saving filtered csv poses!\n",
      "Filtering with median model \\\\dk-server.dk.ucsd.edu\\afassihizakeri\\rightsidemovies\\ar38motor\\2022_02_16\\87.avi\n",
      "Saving filtered csv poses!\n",
      "Filtering with median model \\\\dk-server.dk.ucsd.edu\\afassihizakeri\\rightsidemovies\\ar38motor\\2022_02_16\\209.avi\n",
      "Saving filtered csv poses!\n",
      "Filtering with median model \\\\dk-server.dk.ucsd.edu\\afassihizakeri\\rightsidemovies\\ar38motor\\2022_02_16\\58.avi\n",
      "Saving filtered csv poses!\n",
      "Filtering with median model \\\\dk-server.dk.ucsd.edu\\afassihizakeri\\rightsidemovies\\ar38motor\\2022_02_16\\89.avi\n",
      "Saving filtered csv poses!\n",
      "Filtering with median model \\\\dk-server.dk.ucsd.edu\\afassihizakeri\\rightsidemovies\\ar38motor\\2022_02_16\\162.avi\n",
      "Saving filtered csv poses!\n",
      "Filtering with median model \\\\dk-server.dk.ucsd.edu\\afassihizakeri\\rightsidemovies\\ar38motor\\2022_02_16\\24.avi\n",
      "Saving filtered csv poses!\n",
      "Filtering with median model \\\\dk-server.dk.ucsd.edu\\afassihizakeri\\rightsidemovies\\ar38motor\\2022_02_16\\165.avi\n",
      "Saving filtered csv poses!\n",
      "Filtering with median model \\\\dk-server.dk.ucsd.edu\\afassihizakeri\\rightsidemovies\\ar38motor\\2022_02_16\\23.avi\n",
      "Saving filtered csv poses!\n",
      "Filtering with median model \\\\dk-server.dk.ucsd.edu\\afassihizakeri\\rightsidemovies\\ar38motor\\2022_02_16\\119.avi\n",
      "Saving filtered csv poses!\n",
      "Filtering with median model \\\\dk-server.dk.ucsd.edu\\afassihizakeri\\rightsidemovies\\ar38motor\\2022_02_16\\8.avi\n",
      "Saving filtered csv poses!\n",
      "Filtering with median model \\\\dk-server.dk.ucsd.edu\\afassihizakeri\\rightsidemovies\\ar38motor\\2022_02_16\\181.avi\n",
      "Saving filtered csv poses!\n",
      "Filtering with median model \\\\dk-server.dk.ucsd.edu\\afassihizakeri\\rightsidemovies\\ar38motor\\2022_02_16\\247.avi\n",
      "Saving filtered csv poses!\n",
      "Filtering with median model \\\\dk-server.dk.ucsd.edu\\afassihizakeri\\rightsidemovies\\ar38motor\\2022_02_16\\150.avi\n",
      "Saving filtered csv poses!\n",
      "Filtering with median model \\\\dk-server.dk.ucsd.edu\\afassihizakeri\\rightsidemovies\\ar38motor\\2022_02_16\\16.avi\n",
      "Saving filtered csv poses!\n",
      "Filtering with median model \\\\dk-server.dk.ucsd.edu\\afassihizakeri\\rightsidemovies\\ar38motor\\2022_02_16\\186.avi\n",
      "Saving filtered csv poses!\n",
      "Filtering with median model \\\\dk-server.dk.ucsd.edu\\afassihizakeri\\rightsidemovies\\ar38motor\\2022_02_16\\240.avi\n",
      "Saving filtered csv poses!\n",
      "Filtering with median model \\\\dk-server.dk.ucsd.edu\\afassihizakeri\\rightsidemovies\\ar38motor\\2022_02_16\\157.avi\n",
      "Saving filtered csv poses!\n",
      "Filtering with median model \\\\dk-server.dk.ucsd.edu\\afassihizakeri\\rightsidemovies\\ar38motor\\2022_02_16\\11.avi\n",
      "Saving filtered csv poses!\n",
      "Filtering with median model \\\\dk-server.dk.ucsd.edu\\afassihizakeri\\rightsidemovies\\ar38motor\\2022_02_16\\232.avi\n",
      "Saving filtered csv poses!\n",
      "Filtering with median model \\\\dk-server.dk.ucsd.edu\\afassihizakeri\\rightsidemovies\\ar38motor\\2022_02_16\\125.avi\n",
      "Saving filtered csv poses!\n",
      "Filtering with median model \\\\dk-server.dk.ucsd.edu\\afassihizakeri\\rightsidemovies\\ar38motor\\2022_02_16\\63.avi\n",
      "Saving filtered csv poses!\n",
      "Filtering with median model \\\\dk-server.dk.ucsd.edu\\afassihizakeri\\rightsidemovies\\ar38motor\\2022_02_16\\188.avi\n",
      "Saving filtered csv poses!\n",
      "Filtering with median model \\\\dk-server.dk.ucsd.edu\\afassihizakeri\\rightsidemovies\\ar38motor\\2022_02_16\\159.avi\n",
      "Saving filtered csv poses!\n",
      "Filtering with median model \\\\dk-server.dk.ucsd.edu\\afassihizakeri\\rightsidemovies\\ar38motor\\2022_02_16\\249.avi\n",
      "Saving filtered csv poses!\n",
      "Filtering with median model \\\\dk-server.dk.ucsd.edu\\afassihizakeri\\rightsidemovies\\ar38motor\\2022_02_16\\18.avi\n",
      "Saving filtered csv poses!\n",
      "Filtering with median model \\\\dk-server.dk.ucsd.edu\\afassihizakeri\\rightsidemovies\\ar38motor\\2022_02_16\\235.avi\n",
      "Saving filtered csv poses!\n",
      "Filtering with median model \\\\dk-server.dk.ucsd.edu\\afassihizakeri\\rightsidemovies\\ar38motor\\2022_02_16\\122.avi\n",
      "Saving filtered csv poses!\n",
      "Filtering with median model \\\\dk-server.dk.ucsd.edu\\afassihizakeri\\rightsidemovies\\ar38motor\\2022_02_16\\64.avi\n",
      "Saving filtered csv poses!\n",
      "Filtering with median model \\\\dk-server.dk.ucsd.edu\\afassihizakeri\\rightsidemovies\\ar38motor\\2022_02_16\\258.avi\n",
      "Saving filtered csv poses!\n",
      "Filtering with median model \\\\dk-server.dk.ucsd.edu\\afassihizakeri\\rightsidemovies\\ar38motor\\2022_02_16\\75.avi\n",
      "Saving filtered csv poses!\n",
      "Filtering with median model \\\\dk-server.dk.ucsd.edu\\afassihizakeri\\rightsidemovies\\ar38motor\\2022_02_16\\133.avi\n",
      "Saving filtered csv poses!\n",
      "Filtering with median model \\\\dk-server.dk.ucsd.edu\\afassihizakeri\\rightsidemovies\\ar38motor\\2022_02_16\\224.avi\n",
      "Saving filtered csv poses!\n",
      "Filtering with median model \\\\dk-server.dk.ucsd.edu\\afassihizakeri\\rightsidemovies\\ar38motor\\2022_02_16\\72.avi\n",
      "Saving filtered csv poses!\n",
      "Filtering with median model \\\\dk-server.dk.ucsd.edu\\afassihizakeri\\rightsidemovies\\ar38motor\\2022_02_16\\134.avi\n",
      "Saving filtered csv poses!\n",
      "Filtering with median model \\\\dk-server.dk.ucsd.edu\\afassihizakeri\\rightsidemovies\\ar38motor\\2022_02_16\\223.avi\n",
      "Saving filtered csv poses!\n",
      "Filtering with median model \\\\dk-server.dk.ucsd.edu\\afassihizakeri\\rightsidemovies\\ar38motor\\2022_02_16\\148.avi\n",
      "Saving filtered csv poses!\n",
      "Filtering with median model \\\\dk-server.dk.ucsd.edu\\afassihizakeri\\rightsidemovies\\ar38motor\\2022_02_16\\199.avi\n",
      "Saving filtered csv poses!\n",
      "Filtering with median model \\\\dk-server.dk.ucsd.edu\\afassihizakeri\\rightsidemovies\\ar38motor\\2022_02_16\\146.avi\n",
      "Saving filtered csv poses!\n",
      "Filtering with median model \\\\dk-server.dk.ucsd.edu\\afassihizakeri\\rightsidemovies\\ar38motor\\2022_02_16\\197.avi\n"
     ]
    },
    {
     "name": "stdout",
     "output_type": "stream",
     "text": [
      "Saving filtered csv poses!\n",
      "Filtering with median model \\\\dk-server.dk.ucsd.edu\\afassihizakeri\\rightsidemovies\\ar38motor\\2022_02_16\\251.avi\n",
      "Saving filtered csv poses!\n",
      "Filtering with median model \\\\dk-server.dk.ucsd.edu\\afassihizakeri\\rightsidemovies\\ar38motor\\2022_02_16\\141.avi\n",
      "Saving filtered csv poses!\n",
      "Filtering with median model \\\\dk-server.dk.ucsd.edu\\afassihizakeri\\rightsidemovies\\ar38motor\\2022_02_16\\190.avi\n",
      "Saving filtered csv poses!\n",
      "Filtering with median model \\\\dk-server.dk.ucsd.edu\\afassihizakeri\\rightsidemovies\\ar38motor\\2022_02_16\\256.avi\n",
      "Saving filtered csv poses!\n",
      "Filtering with median model \\\\dk-server.dk.ucsd.edu\\afassihizakeri\\rightsidemovies\\ar38motor\\2022_02_16\\32.avi\n",
      "Saving filtered csv poses!\n",
      "Filtering with median model \\\\dk-server.dk.ucsd.edu\\afassihizakeri\\rightsidemovies\\ar38motor\\2022_02_16\\263.avi\n",
      "Saving filtered csv poses!\n",
      "Filtering with median model \\\\dk-server.dk.ucsd.edu\\afassihizakeri\\rightsidemovies\\ar38motor\\2022_02_16\\174.avi\n",
      "Saving filtered csv poses!\n",
      "Filtering with median model \\\\dk-server.dk.ucsd.edu\\afassihizakeri\\rightsidemovies\\ar38motor\\2022_02_16\\108.avi\n",
      "Saving filtered csv poses!\n",
      "Filtering with median model \\\\dk-server.dk.ucsd.edu\\afassihizakeri\\rightsidemovies\\ar38motor\\2022_02_16\\98.avi\n",
      "Saving filtered csv poses!\n",
      "Filtering with median model \\\\dk-server.dk.ucsd.edu\\afassihizakeri\\rightsidemovies\\ar38motor\\2022_02_16\\49.avi\n",
      "Saving filtered csv poses!\n",
      "Filtering with median model \\\\dk-server.dk.ucsd.edu\\afassihizakeri\\rightsidemovies\\ar38motor\\2022_02_16\\218.avi\n",
      "Saving filtered csv poses!\n",
      "Filtering with median model \\\\dk-server.dk.ucsd.edu\\afassihizakeri\\rightsidemovies\\ar38motor\\2022_02_16\\35.avi\n",
      "Saving filtered csv poses!\n",
      "Filtering with median model \\\\dk-server.dk.ucsd.edu\\afassihizakeri\\rightsidemovies\\ar38motor\\2022_02_16\\173.avi\n",
      "Saving filtered csv poses!\n",
      "Filtering with median model \\\\dk-server.dk.ucsd.edu\\afassihizakeri\\rightsidemovies\\ar38motor\\2022_02_16\\96.avi\n",
      "Saving filtered csv poses!\n",
      "Filtering with median model \\\\dk-server.dk.ucsd.edu\\afassihizakeri\\rightsidemovies\\ar38motor\\2022_02_16\\47.avi\n",
      "Saving filtered csv poses!\n",
      "Filtering with median model \\\\dk-server.dk.ucsd.edu\\afassihizakeri\\rightsidemovies\\ar38motor\\2022_02_16\\216.avi\n",
      "Saving filtered csv poses!\n",
      "Filtering with median model \\\\dk-server.dk.ucsd.edu\\afassihizakeri\\rightsidemovies\\ar38motor\\2022_02_16\\101.avi\n",
      "Saving filtered csv poses!\n",
      "Filtering with median model \\\\dk-server.dk.ucsd.edu\\afassihizakeri\\rightsidemovies\\ar38motor\\2022_02_16\\91.avi\n",
      "Saving filtered csv poses!\n",
      "Filtering with median model \\\\dk-server.dk.ucsd.edu\\afassihizakeri\\rightsidemovies\\ar38motor\\2022_02_16\\40.avi\n",
      "Saving filtered csv poses!\n",
      "Filtering with median model \\\\dk-server.dk.ucsd.edu\\afassihizakeri\\rightsidemovies\\ar38motor\\2022_02_16\\211.avi\n",
      "Saving filtered csv poses!\n",
      "Filtering with median model \\\\dk-server.dk.ucsd.edu\\afassihizakeri\\rightsidemovies\\ar38motor\\2022_02_16\\106.avi\n",
      "Saving filtered csv poses!\n",
      "Filtering with median model \\\\dk-server.dk.ucsd.edu\\afassihizakeri\\rightsidemovies\\ar38motor\\2022_02_16\\71.avi\n",
      "Saving filtered csv poses!\n",
      "Filtering with median model \\\\dk-server.dk.ucsd.edu\\afassihizakeri\\rightsidemovies\\ar38motor\\2022_02_16\\137.avi\n",
      "Saving filtered csv poses!\n",
      "Filtering with median model \\\\dk-server.dk.ucsd.edu\\afassihizakeri\\rightsidemovies\\ar38motor\\2022_02_16\\220.avi\n",
      "Saving filtered csv poses!\n",
      "Filtering with median model \\\\dk-server.dk.ucsd.edu\\afassihizakeri\\rightsidemovies\\ar38motor\\2022_02_16\\76.avi\n",
      "Saving filtered csv poses!\n",
      "Filtering with median model \\\\dk-server.dk.ucsd.edu\\afassihizakeri\\rightsidemovies\\ar38motor\\2022_02_16\\130.avi\n",
      "Saving filtered csv poses!\n",
      "Filtering with median model \\\\dk-server.dk.ucsd.edu\\afassihizakeri\\rightsidemovies\\ar38motor\\2022_02_16\\227.avi\n",
      "Saving filtered csv poses!\n",
      "Filtering with median model \\\\dk-server.dk.ucsd.edu\\afassihizakeri\\rightsidemovies\\ar38motor\\2022_02_16\\142.avi\n",
      "Saving filtered csv poses!\n",
      "Filtering with median model \\\\dk-server.dk.ucsd.edu\\afassihizakeri\\rightsidemovies\\ar38motor\\2022_02_16\\255.avi\n",
      "Saving filtered csv poses!\n",
      "Filtering with median model \\\\dk-server.dk.ucsd.edu\\afassihizakeri\\rightsidemovies\\ar38motor\\2022_02_16\\193.avi\n",
      "Saving filtered csv poses!\n",
      "Filtering with median model \\\\dk-server.dk.ucsd.edu\\afassihizakeri\\rightsidemovies\\ar38motor\\2022_02_16\\78.avi\n",
      "Saving filtered csv poses!\n",
      "Filtering with median model \\\\dk-server.dk.ucsd.edu\\afassihizakeri\\rightsidemovies\\ar38motor\\2022_02_16\\229.avi\n",
      "Saving filtered csv poses!\n",
      "Filtering with median model \\\\dk-server.dk.ucsd.edu\\afassihizakeri\\rightsidemovies\\ar38motor\\2022_02_16\\139.avi\n",
      "Saving filtered csv poses!\n",
      "Filtering with median model \\\\dk-server.dk.ucsd.edu\\afassihizakeri\\rightsidemovies\\ar38motor\\2022_02_16\\145.avi\n",
      "Saving filtered csv poses!\n",
      "Filtering with median model \\\\dk-server.dk.ucsd.edu\\afassihizakeri\\rightsidemovies\\ar38motor\\2022_02_16\\252.avi\n",
      "Saving filtered csv poses!\n",
      "Filtering with median model \\\\dk-server.dk.ucsd.edu\\afassihizakeri\\rightsidemovies\\ar38motor\\2022_02_16\\194.avi\n",
      "Saving filtered csv poses!\n",
      "Filtering with median model \\\\dk-server.dk.ucsd.edu\\afassihizakeri\\rightsidemovies\\ar38motor\\2022_02_16\\36.avi\n",
      "Saving filtered csv poses!\n",
      "Filtering with median model \\\\dk-server.dk.ucsd.edu\\afassihizakeri\\rightsidemovies\\ar38motor\\2022_02_16\\170.avi\n",
      "Saving filtered csv poses!\n",
      "Filtering with median model \\\\dk-server.dk.ucsd.edu\\afassihizakeri\\rightsidemovies\\ar38motor\\2022_02_16\\31.avi\n",
      "Saving filtered csv poses!\n",
      "Filtering with median model \\\\dk-server.dk.ucsd.edu\\afassihizakeri\\rightsidemovies\\ar38motor\\2022_02_16\\260.avi\n",
      "Saving filtered csv poses!\n",
      "Filtering with median model \\\\dk-server.dk.ucsd.edu\\afassihizakeri\\rightsidemovies\\ar38motor\\2022_02_16\\177.avi\n",
      "Saving filtered csv poses!\n",
      "Filtering with median model \\\\dk-server.dk.ucsd.edu\\afassihizakeri\\rightsidemovies\\ar38motor\\2022_02_16\\179.avi\n",
      "Saving filtered csv poses!\n",
      "Filtering with median model \\\\dk-server.dk.ucsd.edu\\afassihizakeri\\rightsidemovies\\ar38motor\\2022_02_16\\92.avi\n",
      "Saving filtered csv poses!\n",
      "Filtering with median model \\\\dk-server.dk.ucsd.edu\\afassihizakeri\\rightsidemovies\\ar38motor\\2022_02_16\\43.avi\n",
      "Saving filtered csv poses!\n",
      "Filtering with median model \\\\dk-server.dk.ucsd.edu\\afassihizakeri\\rightsidemovies\\ar38motor\\2022_02_16\\212.avi\n",
      "Saving filtered csv poses!\n",
      "Filtering with median model \\\\dk-server.dk.ucsd.edu\\afassihizakeri\\rightsidemovies\\ar38motor\\2022_02_16\\105.avi\n",
      "Saving filtered csv poses!\n",
      "Filtering with median model \\\\dk-server.dk.ucsd.edu\\afassihizakeri\\rightsidemovies\\ar38motor\\2022_02_16\\95.avi\n",
      "Saving filtered csv poses!\n",
      "Filtering with median model \\\\dk-server.dk.ucsd.edu\\afassihizakeri\\rightsidemovies\\ar38motor\\2022_02_16\\44.avi\n",
      "Saving filtered csv poses!\n",
      "Filtering with median model \\\\dk-server.dk.ucsd.edu\\afassihizakeri\\rightsidemovies\\ar38motor\\2022_02_16\\215.avi\n",
      "Saving filtered csv poses!\n",
      "Filtering with median model \\\\dk-server.dk.ucsd.edu\\afassihizakeri\\rightsidemovies\\ar38motor\\2022_02_16\\102.avi\n",
      "Saving filtered csv poses!\n",
      "Filtering with median model \\\\dk-server.dk.ucsd.edu\\afassihizakeri\\rightsidemovies\\ar38motor\\2022_02_16\\38.avi\n",
      "Saving filtered csv poses!\n",
      "Filtering with median model \\\\dk-server.dk.ucsd.edu\\afassihizakeri\\rightsidemovies\\ar38motor\\2022_02_16\\2.avi\n",
      "Saving filtered csv poses!\n",
      "Filtering with median model \\\\dk-server.dk.ucsd.edu\\afassihizakeri\\rightsidemovies\\ar38motor\\2022_02_16\\113.avi\n",
      "Saving filtered csv poses!\n",
      "Filtering with median model \\\\dk-server.dk.ucsd.edu\\afassihizakeri\\rightsidemovies\\ar38motor\\2022_02_16\\204.avi\n",
      "Saving filtered csv poses!\n",
      "Filtering with median model \\\\dk-server.dk.ucsd.edu\\afassihizakeri\\rightsidemovies\\ar38motor\\2022_02_16\\55.avi\n",
      "Saving filtered csv poses!\n",
      "Filtering with median model \\\\dk-server.dk.ucsd.edu\\afassihizakeri\\rightsidemovies\\ar38motor\\2022_02_16\\84.avi\n",
      "Saving filtered csv poses!\n",
      "Filtering with median model \\\\dk-server.dk.ucsd.edu\\afassihizakeri\\rightsidemovies\\ar38motor\\2022_02_16\\29.avi\n",
      "Saving filtered csv poses!\n",
      "Filtering with median model \\\\dk-server.dk.ucsd.edu\\afassihizakeri\\rightsidemovies\\ar38motor\\2022_02_16\\168.avi\n",
      "Saving filtered csv poses!\n",
      "Filtering with median model \\\\dk-server.dk.ucsd.edu\\afassihizakeri\\rightsidemovies\\ar38motor\\2022_02_16\\5.avi\n",
      "Saving filtered csv poses!\n",
      "Filtering with median model \\\\dk-server.dk.ucsd.edu\\afassihizakeri\\rightsidemovies\\ar38motor\\2022_02_16\\114.avi\n"
     ]
    },
    {
     "name": "stdout",
     "output_type": "stream",
     "text": [
      "Saving filtered csv poses!\n",
      "Filtering with median model \\\\dk-server.dk.ucsd.edu\\afassihizakeri\\rightsidemovies\\ar38motor\\2022_02_16\\203.avi\n",
      "Saving filtered csv poses!\n",
      "Filtering with median model \\\\dk-server.dk.ucsd.edu\\afassihizakeri\\rightsidemovies\\ar38motor\\2022_02_16\\52.avi\n",
      "Saving filtered csv poses!\n",
      "Filtering with median model \\\\dk-server.dk.ucsd.edu\\afassihizakeri\\rightsidemovies\\ar38motor\\2022_02_16\\83.avi\n",
      "Saving filtered csv poses!\n",
      "Filtering with median model \\\\dk-server.dk.ucsd.edu\\afassihizakeri\\rightsidemovies\\ar38motor\\2022_02_16\\166.avi\n",
      "Saving filtered csv poses!\n",
      "Filtering with median model \\\\dk-server.dk.ucsd.edu\\afassihizakeri\\rightsidemovies\\ar38motor\\2022_02_16\\20.avi\n",
      "Saving filtered csv poses!\n",
      "Filtering with median model \\\\dk-server.dk.ucsd.edu\\afassihizakeri\\rightsidemovies\\ar38motor\\2022_02_16\\161.avi\n",
      "Saving filtered csv poses!\n",
      "Filtering with median model \\\\dk-server.dk.ucsd.edu\\afassihizakeri\\rightsidemovies\\ar38motor\\2022_02_16\\27.avi\n",
      "Saving filtered csv poses!\n",
      "Filtering with median model \\\\dk-server.dk.ucsd.edu\\afassihizakeri\\rightsidemovies\\ar38motor\\2022_02_16\\128.avi\n",
      "Saving filtered csv poses!\n",
      "Filtering with median model \\\\dk-server.dk.ucsd.edu\\afassihizakeri\\rightsidemovies\\ar38motor\\2022_02_16\\243.avi\n",
      "Saving filtered csv poses!\n",
      "Filtering with median model \\\\dk-server.dk.ucsd.edu\\afassihizakeri\\rightsidemovies\\ar38motor\\2022_02_16\\185.avi\n",
      "Saving filtered csv poses!\n",
      "Filtering with median model \\\\dk-server.dk.ucsd.edu\\afassihizakeri\\rightsidemovies\\ar38motor\\2022_02_16\\154.avi\n",
      "Saving filtered csv poses!\n",
      "Filtering with median model \\\\dk-server.dk.ucsd.edu\\afassihizakeri\\rightsidemovies\\ar38motor\\2022_02_16\\12.avi\n",
      "Saving filtered csv poses!\n",
      "Filtering with median model \\\\dk-server.dk.ucsd.edu\\afassihizakeri\\rightsidemovies\\ar38motor\\2022_02_16\\244.avi\n",
      "Saving filtered csv poses!\n",
      "Filtering with median model \\\\dk-server.dk.ucsd.edu\\afassihizakeri\\rightsidemovies\\ar38motor\\2022_02_16\\182.avi\n",
      "Saving filtered csv poses!\n",
      "Filtering with median model \\\\dk-server.dk.ucsd.edu\\afassihizakeri\\rightsidemovies\\ar38motor\\2022_02_16\\153.avi\n",
      "Saving filtered csv poses!\n",
      "Filtering with median model \\\\dk-server.dk.ucsd.edu\\afassihizakeri\\rightsidemovies\\ar38motor\\2022_02_16\\15.avi\n",
      "Saving filtered csv poses!\n",
      "Filtering with median model \\\\dk-server.dk.ucsd.edu\\afassihizakeri\\rightsidemovies\\ar38motor\\2022_02_16\\238.avi\n",
      "Saving filtered csv poses!\n",
      "Filtering with median model \\\\dk-server.dk.ucsd.edu\\afassihizakeri\\rightsidemovies\\ar38motor\\2022_02_16\\69.avi\n",
      "Saving filtered csv poses!\n",
      "Filtering with median model \\\\dk-server.dk.ucsd.edu\\afassihizakeri\\rightsidemovies\\ar38motor\\2022_02_16\\236.avi\n",
      "Saving filtered csv poses!\n",
      "Filtering with median model \\\\dk-server.dk.ucsd.edu\\afassihizakeri\\rightsidemovies\\ar38motor\\2022_02_16\\121.avi\n",
      "Saving filtered csv poses!\n",
      "Filtering with median model \\\\dk-server.dk.ucsd.edu\\afassihizakeri\\rightsidemovies\\ar38motor\\2022_02_16\\67.avi\n",
      "Saving filtered csv poses!\n",
      "Filtering with median model \\\\dk-server.dk.ucsd.edu\\afassihizakeri\\rightsidemovies\\ar38motor\\2022_02_16\\231.avi\n",
      "Saving filtered csv poses!\n",
      "Filtering with median model \\\\dk-server.dk.ucsd.edu\\afassihizakeri\\rightsidemovies\\ar38motor\\2022_02_16\\126.avi\n",
      "Saving filtered csv poses!\n",
      "Filtering with median model \\\\dk-server.dk.ucsd.edu\\afassihizakeri\\rightsidemovies\\ar38motor\\2022_02_16\\60.avi\n",
      "Saving filtered csv poses!\n",
      "Filtering with median model \\\\dk-server.dk.ucsd.edu\\afassihizakeri\\rightsidemovies\\ar38motor\\2022_02_16\\94.avi\n",
      "Saving filtered csv poses!\n",
      "Filtering with median model \\\\dk-server.dk.ucsd.edu\\afassihizakeri\\rightsidemovies\\ar38motor\\2022_02_16\\45.avi\n",
      "Saving filtered csv poses!\n",
      "Filtering with median model \\\\dk-server.dk.ucsd.edu\\afassihizakeri\\rightsidemovies\\ar38motor\\2022_02_16\\214.avi\n",
      "Saving filtered csv poses!\n",
      "Filtering with median model \\\\dk-server.dk.ucsd.edu\\afassihizakeri\\rightsidemovies\\ar38motor\\2022_02_16\\103.avi\n",
      "Saving filtered csv poses!\n",
      "Filtering with median model \\\\dk-server.dk.ucsd.edu\\afassihizakeri\\rightsidemovies\\ar38motor\\2022_02_16\\39.avi\n",
      "Saving filtered csv poses!\n",
      "Filtering with median model \\\\dk-server.dk.ucsd.edu\\afassihizakeri\\rightsidemovies\\ar38motor\\2022_02_16\\178.avi\n",
      "Saving filtered csv poses!\n",
      "Filtering with median model \\\\dk-server.dk.ucsd.edu\\afassihizakeri\\rightsidemovies\\ar38motor\\2022_02_16\\93.avi\n",
      "Saving filtered csv poses!\n",
      "Filtering with median model \\\\dk-server.dk.ucsd.edu\\afassihizakeri\\rightsidemovies\\ar38motor\\2022_02_16\\42.avi\n",
      "Saving filtered csv poses!\n",
      "Filtering with median model \\\\dk-server.dk.ucsd.edu\\afassihizakeri\\rightsidemovies\\ar38motor\\2022_02_16\\213.avi\n",
      "Saving filtered csv poses!\n",
      "Filtering with median model \\\\dk-server.dk.ucsd.edu\\afassihizakeri\\rightsidemovies\\ar38motor\\2022_02_16\\104.avi\n",
      "Saving filtered csv poses!\n",
      "Filtering with median model \\\\dk-server.dk.ucsd.edu\\afassihizakeri\\rightsidemovies\\ar38motor\\2022_02_16\\30.avi\n",
      "Saving filtered csv poses!\n",
      "Filtering with median model \\\\dk-server.dk.ucsd.edu\\afassihizakeri\\rightsidemovies\\ar38motor\\2022_02_16\\261.avi\n",
      "Saving filtered csv poses!\n",
      "Filtering with median model \\\\dk-server.dk.ucsd.edu\\afassihizakeri\\rightsidemovies\\ar38motor\\2022_02_16\\176.avi\n",
      "Saving filtered csv poses!\n",
      "Filtering with median model \\\\dk-server.dk.ucsd.edu\\afassihizakeri\\rightsidemovies\\ar38motor\\2022_02_16\\37.avi\n",
      "Saving filtered csv poses!\n",
      "Filtering with median model \\\\dk-server.dk.ucsd.edu\\afassihizakeri\\rightsidemovies\\ar38motor\\2022_02_16\\171.avi\n",
      "Saving filtered csv poses!\n",
      "Filtering with median model \\\\dk-server.dk.ucsd.edu\\afassihizakeri\\rightsidemovies\\ar38motor\\2022_02_16\\138.avi\n",
      "Saving filtered csv poses!\n",
      "Filtering with median model \\\\dk-server.dk.ucsd.edu\\afassihizakeri\\rightsidemovies\\ar38motor\\2022_02_16\\144.avi\n",
      "Saving filtered csv poses!\n",
      "Filtering with median model \\\\dk-server.dk.ucsd.edu\\afassihizakeri\\rightsidemovies\\ar38motor\\2022_02_16\\253.avi\n",
      "Saving filtered csv poses!\n",
      "Filtering with median model \\\\dk-server.dk.ucsd.edu\\afassihizakeri\\rightsidemovies\\ar38motor\\2022_02_16\\195.avi\n",
      "Saving filtered csv poses!\n",
      "Filtering with median model \\\\dk-server.dk.ucsd.edu\\afassihizakeri\\rightsidemovies\\ar38motor\\2022_02_16\\143.avi\n",
      "Saving filtered csv poses!\n",
      "Filtering with median model \\\\dk-server.dk.ucsd.edu\\afassihizakeri\\rightsidemovies\\ar38motor\\2022_02_16\\254.avi\n",
      "Saving filtered csv poses!\n",
      "Filtering with median model \\\\dk-server.dk.ucsd.edu\\afassihizakeri\\rightsidemovies\\ar38motor\\2022_02_16\\192.avi\n",
      "Saving filtered csv poses!\n",
      "Filtering with median model \\\\dk-server.dk.ucsd.edu\\afassihizakeri\\rightsidemovies\\ar38motor\\2022_02_16\\79.avi\n",
      "Saving filtered csv poses!\n",
      "Filtering with median model \\\\dk-server.dk.ucsd.edu\\afassihizakeri\\rightsidemovies\\ar38motor\\2022_02_16\\228.avi\n",
      "Saving filtered csv poses!\n",
      "Filtering with median model \\\\dk-server.dk.ucsd.edu\\afassihizakeri\\rightsidemovies\\ar38motor\\2022_02_16\\77.avi\n",
      "Saving filtered csv poses!\n",
      "Filtering with median model \\\\dk-server.dk.ucsd.edu\\afassihizakeri\\rightsidemovies\\ar38motor\\2022_02_16\\131.avi\n",
      "Saving filtered csv poses!\n",
      "Filtering with median model \\\\dk-server.dk.ucsd.edu\\afassihizakeri\\rightsidemovies\\ar38motor\\2022_02_16\\226.avi\n",
      "Saving filtered csv poses!\n",
      "Filtering with median model \\\\dk-server.dk.ucsd.edu\\afassihizakeri\\rightsidemovies\\ar38motor\\2022_02_16\\70.avi\n",
      "Saving filtered csv poses!\n",
      "Filtering with median model \\\\dk-server.dk.ucsd.edu\\afassihizakeri\\rightsidemovies\\ar38motor\\2022_02_16\\136.avi\n",
      "Saving filtered csv poses!\n",
      "Filtering with median model \\\\dk-server.dk.ucsd.edu\\afassihizakeri\\rightsidemovies\\ar38motor\\2022_02_16\\221.avi\n",
      "Saving filtered csv poses!\n",
      "Filtering with median model \\\\dk-server.dk.ucsd.edu\\afassihizakeri\\rightsidemovies\\ar38motor\\2022_02_16\\230.avi\n",
      "Saving filtered csv poses!\n",
      "Filtering with median model \\\\dk-server.dk.ucsd.edu\\afassihizakeri\\rightsidemovies\\ar38motor\\2022_02_16\\127.avi\n",
      "Saving filtered csv poses!\n",
      "Filtering with median model \\\\dk-server.dk.ucsd.edu\\afassihizakeri\\rightsidemovies\\ar38motor\\2022_02_16\\61.avi\n",
      "Saving filtered csv poses!\n",
      "Filtering with median model \\\\dk-server.dk.ucsd.edu\\afassihizakeri\\rightsidemovies\\ar38motor\\2022_02_16\\237.avi\n",
      "Saving filtered csv poses!\n",
      "Filtering with median model \\\\dk-server.dk.ucsd.edu\\afassihizakeri\\rightsidemovies\\ar38motor\\2022_02_16\\120.avi\n",
      "Saving filtered csv poses!\n",
      "Filtering with median model \\\\dk-server.dk.ucsd.edu\\afassihizakeri\\rightsidemovies\\ar38motor\\2022_02_16\\66.avi\n"
     ]
    },
    {
     "name": "stdout",
     "output_type": "stream",
     "text": [
      "Saving filtered csv poses!\n",
      "Filtering with median model \\\\dk-server.dk.ucsd.edu\\afassihizakeri\\rightsidemovies\\ar38motor\\2022_02_16\\245.avi\n",
      "Saving filtered csv poses!\n",
      "Filtering with median model \\\\dk-server.dk.ucsd.edu\\afassihizakeri\\rightsidemovies\\ar38motor\\2022_02_16\\183.avi\n",
      "Saving filtered csv poses!\n",
      "Filtering with median model \\\\dk-server.dk.ucsd.edu\\afassihizakeri\\rightsidemovies\\ar38motor\\2022_02_16\\152.avi\n",
      "Saving filtered csv poses!\n",
      "Filtering with median model \\\\dk-server.dk.ucsd.edu\\afassihizakeri\\rightsidemovies\\ar38motor\\2022_02_16\\14.avi\n",
      "Saving filtered csv poses!\n",
      "Filtering with median model \\\\dk-server.dk.ucsd.edu\\afassihizakeri\\rightsidemovies\\ar38motor\\2022_02_16\\239.avi\n",
      "Saving filtered csv poses!\n",
      "Filtering with median model \\\\dk-server.dk.ucsd.edu\\afassihizakeri\\rightsidemovies\\ar38motor\\2022_02_16\\68.avi\n",
      "Saving filtered csv poses!\n",
      "Filtering with median model \\\\dk-server.dk.ucsd.edu\\afassihizakeri\\rightsidemovies\\ar38motor\\2022_02_16\\129.avi\n",
      "Saving filtered csv poses!\n",
      "Filtering with median model \\\\dk-server.dk.ucsd.edu\\afassihizakeri\\rightsidemovies\\ar38motor\\2022_02_16\\242.avi\n",
      "Saving filtered csv poses!\n",
      "Filtering with median model \\\\dk-server.dk.ucsd.edu\\afassihizakeri\\rightsidemovies\\ar38motor\\2022_02_16\\184.avi\n",
      "Saving filtered csv poses!\n",
      "Filtering with median model \\\\dk-server.dk.ucsd.edu\\afassihizakeri\\rightsidemovies\\ar38motor\\2022_02_16\\155.avi\n",
      "Saving filtered csv poses!\n",
      "Filtering with median model \\\\dk-server.dk.ucsd.edu\\afassihizakeri\\rightsidemovies\\ar38motor\\2022_02_16\\13.avi\n",
      "Saving filtered csv poses!\n",
      "Filtering with median model \\\\dk-server.dk.ucsd.edu\\afassihizakeri\\rightsidemovies\\ar38motor\\2022_02_16\\160.avi\n",
      "Saving filtered csv poses!\n",
      "Filtering with median model \\\\dk-server.dk.ucsd.edu\\afassihizakeri\\rightsidemovies\\ar38motor\\2022_02_16\\26.avi\n",
      "Saving filtered csv poses!\n",
      "Filtering with median model \\\\dk-server.dk.ucsd.edu\\afassihizakeri\\rightsidemovies\\ar38motor\\2022_02_16\\167.avi\n",
      "Saving filtered csv poses!\n",
      "Filtering with median model \\\\dk-server.dk.ucsd.edu\\afassihizakeri\\rightsidemovies\\ar38motor\\2022_02_16\\21.avi\n",
      "Saving filtered csv poses!\n",
      "Filtering with median model \\\\dk-server.dk.ucsd.edu\\afassihizakeri\\rightsidemovies\\ar38motor\\2022_02_16\\169.avi\n",
      "Saving filtered csv poses!\n",
      "Filtering with median model \\\\dk-server.dk.ucsd.edu\\afassihizakeri\\rightsidemovies\\ar38motor\\2022_02_16\\4.avi\n",
      "Saving filtered csv poses!\n",
      "Filtering with median model \\\\dk-server.dk.ucsd.edu\\afassihizakeri\\rightsidemovies\\ar38motor\\2022_02_16\\115.avi\n",
      "Saving filtered csv poses!\n",
      "Filtering with median model \\\\dk-server.dk.ucsd.edu\\afassihizakeri\\rightsidemovies\\ar38motor\\2022_02_16\\202.avi\n",
      "Saving filtered csv poses!\n",
      "Filtering with median model \\\\dk-server.dk.ucsd.edu\\afassihizakeri\\rightsidemovies\\ar38motor\\2022_02_16\\53.avi\n",
      "Saving filtered csv poses!\n",
      "Filtering with median model \\\\dk-server.dk.ucsd.edu\\afassihizakeri\\rightsidemovies\\ar38motor\\2022_02_16\\82.avi\n",
      "Saving filtered csv poses!\n",
      "Filtering with median model \\\\dk-server.dk.ucsd.edu\\afassihizakeri\\rightsidemovies\\ar38motor\\2022_02_16\\3.avi\n",
      "Saving filtered csv poses!\n",
      "Filtering with median model \\\\dk-server.dk.ucsd.edu\\afassihizakeri\\rightsidemovies\\ar38motor\\2022_02_16\\112.avi\n",
      "Saving filtered csv poses!\n",
      "Filtering with median model \\\\dk-server.dk.ucsd.edu\\afassihizakeri\\rightsidemovies\\ar38motor\\2022_02_16\\205.avi\n",
      "Saving filtered csv poses!\n",
      "Filtering with median model \\\\dk-server.dk.ucsd.edu\\afassihizakeri\\rightsidemovies\\ar38motor\\2022_02_16\\54.avi\n",
      "Saving filtered csv poses!\n",
      "Filtering with median model \\\\dk-server.dk.ucsd.edu\\afassihizakeri\\rightsidemovies\\ar38motor\\2022_02_16\\85.avi\n",
      "Saving filtered csv poses!\n",
      "Filtering with median model \\\\dk-server.dk.ucsd.edu\\afassihizakeri\\rightsidemovies\\ar38motor\\2022_02_16\\28.avi\n",
      "Saving filtered csv poses!\n"
     ]
    }
   ],
   "source": [
    "# find the head and eye from the main video files\n",
    "path_config_file ='E:\\\\DLC\\\\SideviewLeft_Feb2022-Arash-2022-02-08\\\\config.yaml';\n",
    "path_config_file='\\\\\\\\dk-server.dk.ucsd.edu\\\\afassihizakeri\\\\DLC\\\\SideviewLeft_Feb2022-Arash-2022-02-08\\\\config.yaml';\n",
    "\n",
    "#path_config_file ='C:\\\\Users\\\\dklab\\\\Dropbox\\\\Notebook\\\\DLC\\\\Sideview_Aug-Arash-2021-08-04\\\\config.yaml';\n",
    "import os\n",
    "text_files = [os.path.join(Mainfolder,f) for f in os.listdir(Mainfolder) if f.endswith('.avi') and not f.endswith('L.avi') and not f.endswith('R.avi') and not f.endswith('videopoints.avi') and not f.endswith('videopoints.avi') and not f.startswith('EYE')]\n",
    "print(text_files[1])\n",
    "temp1=deeplabcut.analyze_videos(path_config_file,text_files,shuffle=2, save_as_csv=True )\n",
    "temp=deeplabcut.filterpredictions(path_config_file,text_files,shuffle=2)"
   ]
  },
  {
   "cell_type": "markdown",
   "metadata": {},
   "source": [
    "## create eye videos "
   ]
  },
  {
   "cell_type": "code",
   "execution_count": null,
   "metadata": {},
   "outputs": [],
   "source": [
    "import extract_eye_imagesion\n",
    "#197EYEDLC_resnet50_SideviewLeft_Feb2022Feb8shuffle2_500000\n",
    "extract_eye_imagesion.extract_eye_videos(Mainfolder,'SideviewLeft_Feb2022Feb8shuffle2')"
   ]
  },
  {
   "cell_type": "markdown",
   "metadata": {},
   "source": [
    "## this step is to load analze eye data"
   ]
  },
  {
   "cell_type": "code",
   "execution_count": 11,
   "metadata": {},
   "outputs": [
    {
     "name": "stdout",
     "output_type": "stream",
     "text": [
      "\\\\dk-server.dk.ucsd.edu\\afassihizakeri\\rightsidemovies\\ar38motor\\2022_02_08\\50EYE.avi\n",
      "Using snapshot-500000 for model \\\\dk-server.dk.ucsd.edu\\afassihizakeri\\DLC\\Eye 482_EPL-Arash-2022-05-24\\dlc-models\\iteration-0\\Eye 482_EPLMay24-trainset95shuffle1\n"
     ]
    },
    {
     "name": "stderr",
     "output_type": "stream",
     "text": [
      "C:\\Users\\dklab\\anaconda3\\envs\\DEEPLABCUT\\lib\\site-packages\\tensorflow\\python\\keras\\engine\\base_layer_v1.py:1694: UserWarning: `layer.apply` is deprecated and will be removed in a future version. Please use `layer.__call__` method instead.\n",
      "  warnings.warn('`layer.apply` is deprecated and '\n"
     ]
    },
    {
     "name": "stdout",
     "output_type": "stream",
     "text": [
      "Starting to analyze %  \\\\dk-server.dk.ucsd.edu\\afassihizakeri\\rightsidemovies\\ar38motor\\2022_02_08\\10EYE.avi\n",
      "Loading  \\\\dk-server.dk.ucsd.edu\\afassihizakeri\\rightsidemovies\\ar38motor\\2022_02_08\\10EYE.avi\n",
      "Duration of video [s]:  8.62 , recorded with  40.0 fps!\n",
      "Overall # of frames:  345  found with (before cropping) frame dimensions:  200 200\n",
      "Starting to extract posture\n"
     ]
    },
    {
     "name": "stderr",
     "output_type": "stream",
     "text": [
      "350it [00:16, 21.83it/s]                                                                                               \n"
     ]
    },
    {
     "name": "stdout",
     "output_type": "stream",
     "text": [
      "Saving results in \\\\dk-server.dk.ucsd.edu\\afassihizakeri\\rightsidemovies\\ar38motor\\2022_02_08...\n",
      "Saving csv poses!\n",
      "Starting to analyze %  \\\\dk-server.dk.ucsd.edu\\afassihizakeri\\rightsidemovies\\ar38motor\\2022_02_08\\50EYE.avi\n",
      "Loading  \\\\dk-server.dk.ucsd.edu\\afassihizakeri\\rightsidemovies\\ar38motor\\2022_02_08\\50EYE.avi\n",
      "Duration of video [s]:  8.93 , recorded with  40.0 fps!\n",
      "Overall # of frames:  357  found with (before cropping) frame dimensions:  200 200\n",
      "Starting to extract posture\n"
     ]
    },
    {
     "name": "stderr",
     "output_type": "stream",
     "text": [
      "360it [00:02, 133.06it/s]                                                                                              \n"
     ]
    },
    {
     "name": "stdout",
     "output_type": "stream",
     "text": [
      "Saving results in \\\\dk-server.dk.ucsd.edu\\afassihizakeri\\rightsidemovies\\ar38motor\\2022_02_08...\n",
      "Saving csv poses!\n",
      "Starting to analyze %  \\\\dk-server.dk.ucsd.edu\\afassihizakeri\\rightsidemovies\\ar38motor\\2022_02_08\\100EYE.avi\n",
      "Loading  \\\\dk-server.dk.ucsd.edu\\afassihizakeri\\rightsidemovies\\ar38motor\\2022_02_08\\100EYE.avi\n",
      "Duration of video [s]:  11.15 , recorded with  40.0 fps!\n",
      "Overall # of frames:  446  found with (before cropping) frame dimensions:  200 200\n",
      "Starting to extract posture\n"
     ]
    },
    {
     "name": "stderr",
     "output_type": "stream",
     "text": [
      "450it [00:03, 142.83it/s]                                                                                              \n"
     ]
    },
    {
     "name": "stdout",
     "output_type": "stream",
     "text": [
      "Saving results in \\\\dk-server.dk.ucsd.edu\\afassihizakeri\\rightsidemovies\\ar38motor\\2022_02_08...\n",
      "Saving csv poses!\n",
      "Starting to analyze %  \\\\dk-server.dk.ucsd.edu\\afassihizakeri\\rightsidemovies\\ar38motor\\2022_02_08\\90EYE.avi\n",
      "Loading  \\\\dk-server.dk.ucsd.edu\\afassihizakeri\\rightsidemovies\\ar38motor\\2022_02_08\\90EYE.avi\n",
      "Duration of video [s]:  10.82 , recorded with  40.0 fps!\n",
      "Overall # of frames:  433  found with (before cropping) frame dimensions:  200 200\n",
      "Starting to extract posture\n"
     ]
    },
    {
     "name": "stderr",
     "output_type": "stream",
     "text": [
      "440it [00:03, 133.68it/s]                                                                                              \n"
     ]
    },
    {
     "name": "stdout",
     "output_type": "stream",
     "text": [
      "Saving results in \\\\dk-server.dk.ucsd.edu\\afassihizakeri\\rightsidemovies\\ar38motor\\2022_02_08...\n",
      "Saving csv poses!\n",
      "Starting to analyze %  \\\\dk-server.dk.ucsd.edu\\afassihizakeri\\rightsidemovies\\ar38motor\\2022_02_08\\140EYE.avi\n",
      "Loading  \\\\dk-server.dk.ucsd.edu\\afassihizakeri\\rightsidemovies\\ar38motor\\2022_02_08\\140EYE.avi\n",
      "Duration of video [s]:  12.5 , recorded with  40.0 fps!\n",
      "Overall # of frames:  500  found with (before cropping) frame dimensions:  200 200\n",
      "Starting to extract posture\n"
     ]
    },
    {
     "name": "stderr",
     "output_type": "stream",
     "text": [
      "510it [00:03, 144.55it/s]                                                                                              \n"
     ]
    },
    {
     "name": "stdout",
     "output_type": "stream",
     "text": [
      "Saving results in \\\\dk-server.dk.ucsd.edu\\afassihizakeri\\rightsidemovies\\ar38motor\\2022_02_08...\n",
      "Saving csv poses!\n",
      "Starting to analyze %  \\\\dk-server.dk.ucsd.edu\\afassihizakeri\\rightsidemovies\\ar38motor\\2022_02_08\\116EYE.avi\n",
      "Loading  \\\\dk-server.dk.ucsd.edu\\afassihizakeri\\rightsidemovies\\ar38motor\\2022_02_08\\116EYE.avi\n",
      "Duration of video [s]:  10.55 , recorded with  40.0 fps!\n",
      "Overall # of frames:  422  found with (before cropping) frame dimensions:  200 200\n",
      "Starting to extract posture\n"
     ]
    },
    {
     "name": "stderr",
     "output_type": "stream",
     "text": [
      "430it [00:02, 145.99it/s]                                                                                              \n"
     ]
    },
    {
     "name": "stdout",
     "output_type": "stream",
     "text": [
      "Saving results in \\\\dk-server.dk.ucsd.edu\\afassihizakeri\\rightsidemovies\\ar38motor\\2022_02_08...\n",
      "Saving csv poses!\n",
      "Starting to analyze %  \\\\dk-server.dk.ucsd.edu\\afassihizakeri\\rightsidemovies\\ar38motor\\2022_02_08\\86EYE.avi\n",
      "Loading  \\\\dk-server.dk.ucsd.edu\\afassihizakeri\\rightsidemovies\\ar38motor\\2022_02_08\\86EYE.avi\n",
      "Duration of video [s]:  12.43 , recorded with  40.0 fps!\n",
      "Overall # of frames:  497  found with (before cropping) frame dimensions:  200 200\n",
      "Starting to extract posture\n"
     ]
    },
    {
     "name": "stderr",
     "output_type": "stream",
     "text": [
      "500it [00:04, 118.05it/s]                                                                                              \n"
     ]
    },
    {
     "name": "stdout",
     "output_type": "stream",
     "text": [
      "Saving results in \\\\dk-server.dk.ucsd.edu\\afassihizakeri\\rightsidemovies\\ar38motor\\2022_02_08...\n",
      "Saving csv poses!\n",
      "Starting to analyze %  \\\\dk-server.dk.ucsd.edu\\afassihizakeri\\rightsidemovies\\ar38motor\\2022_02_08\\156EYE.avi\n",
      "Loading  \\\\dk-server.dk.ucsd.edu\\afassihizakeri\\rightsidemovies\\ar38motor\\2022_02_08\\156EYE.avi\n",
      "Duration of video [s]:  6.72 , recorded with  40.0 fps!\n",
      "Overall # of frames:  269  found with (before cropping) frame dimensions:  200 200\n",
      "Starting to extract posture\n"
     ]
    },
    {
     "name": "stderr",
     "output_type": "stream",
     "text": [
      "270it [00:02, 110.19it/s]                                                                                              \n"
     ]
    },
    {
     "name": "stdout",
     "output_type": "stream",
     "text": [
      "Saving results in \\\\dk-server.dk.ucsd.edu\\afassihizakeri\\rightsidemovies\\ar38motor\\2022_02_08...\n",
      "Saving csv poses!\n",
      "Starting to analyze %  \\\\dk-server.dk.ucsd.edu\\afassihizakeri\\rightsidemovies\\ar38motor\\2022_02_08\\46EYE.avi\n",
      "Loading  \\\\dk-server.dk.ucsd.edu\\afassihizakeri\\rightsidemovies\\ar38motor\\2022_02_08\\46EYE.avi\n",
      "Duration of video [s]:  12.5 , recorded with  40.0 fps!\n",
      "Overall # of frames:  500  found with (before cropping) frame dimensions:  200 200\n",
      "Starting to extract posture\n"
     ]
    },
    {
     "name": "stderr",
     "output_type": "stream",
     "text": [
      "510it [00:03, 137.89it/s]                                                                                              \n"
     ]
    },
    {
     "name": "stdout",
     "output_type": "stream",
     "text": [
      "Saving results in \\\\dk-server.dk.ucsd.edu\\afassihizakeri\\rightsidemovies\\ar38motor\\2022_02_08...\n",
      "Saving csv poses!\n",
      "Starting to analyze %  \\\\dk-server.dk.ucsd.edu\\afassihizakeri\\rightsidemovies\\ar38motor\\2022_02_08\\71EYE.avi\n",
      "Loading  \\\\dk-server.dk.ucsd.edu\\afassihizakeri\\rightsidemovies\\ar38motor\\2022_02_08\\71EYE.avi\n",
      "Duration of video [s]:  8.35 , recorded with  40.0 fps!\n",
      "Overall # of frames:  334  found with (before cropping) frame dimensions:  200 200\n",
      "Starting to extract posture\n"
     ]
    },
    {
     "name": "stderr",
     "output_type": "stream",
     "text": [
      "340it [00:02, 145.17it/s]                                                                                              \n"
     ]
    },
    {
     "name": "stdout",
     "output_type": "stream",
     "text": [
      "Saving results in \\\\dk-server.dk.ucsd.edu\\afassihizakeri\\rightsidemovies\\ar38motor\\2022_02_08...\n",
      "Saving csv poses!\n",
      "Starting to analyze %  \\\\dk-server.dk.ucsd.edu\\afassihizakeri\\rightsidemovies\\ar38motor\\2022_02_08\\31EYE.avi\n",
      "Loading  \\\\dk-server.dk.ucsd.edu\\afassihizakeri\\rightsidemovies\\ar38motor\\2022_02_08\\31EYE.avi\n",
      "Duration of video [s]:  12.5 , recorded with  40.0 fps!\n",
      "Overall # of frames:  500  found with (before cropping) frame dimensions:  200 200\n",
      "Starting to extract posture\n"
     ]
    },
    {
     "name": "stderr",
     "output_type": "stream",
     "text": [
      "510it [00:03, 139.20it/s]                                                                                              \n"
     ]
    },
    {
     "name": "stdout",
     "output_type": "stream",
     "text": [
      "Saving results in \\\\dk-server.dk.ucsd.edu\\afassihizakeri\\rightsidemovies\\ar38motor\\2022_02_08...\n",
      "Saving csv poses!\n",
      "Starting to analyze %  \\\\dk-server.dk.ucsd.edu\\afassihizakeri\\rightsidemovies\\ar38motor\\2022_02_08\\161EYE.avi\n",
      "Loading  \\\\dk-server.dk.ucsd.edu\\afassihizakeri\\rightsidemovies\\ar38motor\\2022_02_08\\161EYE.avi\n",
      "Duration of video [s]:  9.97 , recorded with  40.0 fps!\n",
      "Overall # of frames:  399  found with (before cropping) frame dimensions:  200 200\n",
      "Starting to extract posture\n"
     ]
    },
    {
     "name": "stderr",
     "output_type": "stream",
     "text": [
      "400it [00:02, 143.79it/s]                                                                                              \n"
     ]
    },
    {
     "name": "stdout",
     "output_type": "stream",
     "text": [
      "Saving results in \\\\dk-server.dk.ucsd.edu\\afassihizakeri\\rightsidemovies\\ar38motor\\2022_02_08...\n",
      "Saving csv poses!\n",
      "Starting to analyze %  \\\\dk-server.dk.ucsd.edu\\afassihizakeri\\rightsidemovies\\ar38motor\\2022_02_08\\0EYE.avi\n",
      "Loading  \\\\dk-server.dk.ucsd.edu\\afassihizakeri\\rightsidemovies\\ar38motor\\2022_02_08\\0EYE.avi\n",
      "Duration of video [s]:  12.5 , recorded with  40.0 fps!\n",
      "Overall # of frames:  500  found with (before cropping) frame dimensions:  200 200\n",
      "Starting to extract posture\n"
     ]
    },
    {
     "name": "stderr",
     "output_type": "stream",
     "text": [
      "510it [00:03, 133.19it/s]                                                                                              \n"
     ]
    },
    {
     "name": "stdout",
     "output_type": "stream",
     "text": [
      "Saving results in \\\\dk-server.dk.ucsd.edu\\afassihizakeri\\rightsidemovies\\ar38motor\\2022_02_08...\n",
      "Saving csv poses!\n",
      "Starting to analyze %  \\\\dk-server.dk.ucsd.edu\\afassihizakeri\\rightsidemovies\\ar38motor\\2022_02_08\\121EYE.avi\n",
      "Loading  \\\\dk-server.dk.ucsd.edu\\afassihizakeri\\rightsidemovies\\ar38motor\\2022_02_08\\121EYE.avi\n",
      "Duration of video [s]:  12.5 , recorded with  40.0 fps!\n",
      "Overall # of frames:  500  found with (before cropping) frame dimensions:  200 200\n",
      "Starting to extract posture\n"
     ]
    },
    {
     "name": "stderr",
     "output_type": "stream",
     "text": [
      "510it [00:03, 145.56it/s]                                                                                              \n"
     ]
    },
    {
     "name": "stdout",
     "output_type": "stream",
     "text": [
      "Saving results in \\\\dk-server.dk.ucsd.edu\\afassihizakeri\\rightsidemovies\\ar38motor\\2022_02_08...\n",
      "Saving csv poses!\n",
      "Starting to analyze %  \\\\dk-server.dk.ucsd.edu\\afassihizakeri\\rightsidemovies\\ar38motor\\2022_02_08\\177EYE.avi\n",
      "Loading  \\\\dk-server.dk.ucsd.edu\\afassihizakeri\\rightsidemovies\\ar38motor\\2022_02_08\\177EYE.avi\n",
      "Duration of video [s]:  12.03 , recorded with  40.0 fps!\n",
      "Overall # of frames:  481  found with (before cropping) frame dimensions:  200 200\n",
      "Starting to extract posture\n"
     ]
    },
    {
     "name": "stderr",
     "output_type": "stream",
     "text": [
      "490it [00:03, 131.87it/s]                                                                                              \n"
     ]
    },
    {
     "name": "stdout",
     "output_type": "stream",
     "text": [
      "Saving results in \\\\dk-server.dk.ucsd.edu\\afassihizakeri\\rightsidemovies\\ar38motor\\2022_02_08...\n",
      "Saving csv poses!\n",
      "Starting to analyze %  \\\\dk-server.dk.ucsd.edu\\afassihizakeri\\rightsidemovies\\ar38motor\\2022_02_08\\137EYE.avi\n",
      "Loading  \\\\dk-server.dk.ucsd.edu\\afassihizakeri\\rightsidemovies\\ar38motor\\2022_02_08\\137EYE.avi\n",
      "Duration of video [s]:  12.5 , recorded with  40.0 fps!\n",
      "Overall # of frames:  500  found with (before cropping) frame dimensions:  200 200\n",
      "Starting to extract posture\n"
     ]
    },
    {
     "name": "stderr",
     "output_type": "stream",
     "text": [
      "510it [00:03, 135.23it/s]                                                                                              \n"
     ]
    },
    {
     "name": "stdout",
     "output_type": "stream",
     "text": [
      "Saving results in \\\\dk-server.dk.ucsd.edu\\afassihizakeri\\rightsidemovies\\ar38motor\\2022_02_08...\n",
      "Saving csv poses!\n",
      "Starting to analyze %  \\\\dk-server.dk.ucsd.edu\\afassihizakeri\\rightsidemovies\\ar38motor\\2022_02_08\\67EYE.avi\n",
      "Loading  \\\\dk-server.dk.ucsd.edu\\afassihizakeri\\rightsidemovies\\ar38motor\\2022_02_08\\67EYE.avi\n",
      "Duration of video [s]:  7.4 , recorded with  40.0 fps!\n",
      "Overall # of frames:  296  found with (before cropping) frame dimensions:  200 200\n",
      "Starting to extract posture\n"
     ]
    },
    {
     "name": "stderr",
     "output_type": "stream",
     "text": [
      "300it [00:02, 128.25it/s]                                                                                              \n"
     ]
    },
    {
     "name": "stdout",
     "output_type": "stream",
     "text": [
      "Saving results in \\\\dk-server.dk.ucsd.edu\\afassihizakeri\\rightsidemovies\\ar38motor\\2022_02_08...\n",
      "Saving csv poses!\n",
      "Starting to analyze %  \\\\dk-server.dk.ucsd.edu\\afassihizakeri\\rightsidemovies\\ar38motor\\2022_02_08\\27EYE.avi\n",
      "Loading  \\\\dk-server.dk.ucsd.edu\\afassihizakeri\\rightsidemovies\\ar38motor\\2022_02_08\\27EYE.avi\n",
      "Duration of video [s]:  11.75 , recorded with  40.0 fps!\n",
      "Overall # of frames:  470  found with (before cropping) frame dimensions:  200 200\n",
      "Starting to extract posture\n"
     ]
    },
    {
     "name": "stderr",
     "output_type": "stream",
     "text": [
      "480it [00:03, 136.61it/s]                                                                                              \n"
     ]
    },
    {
     "name": "stdout",
     "output_type": "stream",
     "text": [
      "Saving results in \\\\dk-server.dk.ucsd.edu\\afassihizakeri\\rightsidemovies\\ar38motor\\2022_02_08...\n",
      "Saving csv poses!\n",
      "Starting to analyze %  \\\\dk-server.dk.ucsd.edu\\afassihizakeri\\rightsidemovies\\ar38motor\\2022_02_08\\92EYE.avi\n",
      "Loading  \\\\dk-server.dk.ucsd.edu\\afassihizakeri\\rightsidemovies\\ar38motor\\2022_02_08\\92EYE.avi\n",
      "Duration of video [s]:  11.07 , recorded with  40.0 fps!\n",
      "Overall # of frames:  443  found with (before cropping) frame dimensions:  200 200\n",
      "Starting to extract posture\n"
     ]
    },
    {
     "name": "stderr",
     "output_type": "stream",
     "text": [
      "450it [00:03, 134.50it/s]                                                                                              \n"
     ]
    },
    {
     "name": "stdout",
     "output_type": "stream",
     "text": [
      "Saving results in \\\\dk-server.dk.ucsd.edu\\afassihizakeri\\rightsidemovies\\ar38motor\\2022_02_08...\n",
      "Saving csv poses!\n",
      "Starting to analyze %  \\\\dk-server.dk.ucsd.edu\\afassihizakeri\\rightsidemovies\\ar38motor\\2022_02_08\\142EYE.avi\n",
      "Loading  \\\\dk-server.dk.ucsd.edu\\afassihizakeri\\rightsidemovies\\ar38motor\\2022_02_08\\142EYE.avi\n",
      "Duration of video [s]:  12.5 , recorded with  40.0 fps!\n",
      "Overall # of frames:  500  found with (before cropping) frame dimensions:  200 200\n",
      "Starting to extract posture\n"
     ]
    },
    {
     "name": "stderr",
     "output_type": "stream",
     "text": [
      "510it [00:03, 145.65it/s]                                                                                              \n"
     ]
    },
    {
     "name": "stdout",
     "output_type": "stream",
     "text": [
      "Saving results in \\\\dk-server.dk.ucsd.edu\\afassihizakeri\\rightsidemovies\\ar38motor\\2022_02_08...\n",
      "Saving csv poses!\n",
      "Starting to analyze %  \\\\dk-server.dk.ucsd.edu\\afassihizakeri\\rightsidemovies\\ar38motor\\2022_02_08\\49EYE.avi\n",
      "Loading  \\\\dk-server.dk.ucsd.edu\\afassihizakeri\\rightsidemovies\\ar38motor\\2022_02_08\\49EYE.avi\n",
      "Duration of video [s]:  12.5 , recorded with  40.0 fps!\n",
      "Overall # of frames:  500  found with (before cropping) frame dimensions:  200 200\n",
      "Starting to extract posture\n"
     ]
    },
    {
     "name": "stderr",
     "output_type": "stream",
     "text": [
      "510it [00:03, 145.15it/s]                                                                                              \n"
     ]
    },
    {
     "name": "stdout",
     "output_type": "stream",
     "text": [
      "Saving results in \\\\dk-server.dk.ucsd.edu\\afassihizakeri\\rightsidemovies\\ar38motor\\2022_02_08...\n",
      "Saving csv poses!\n",
      "Starting to analyze %  \\\\dk-server.dk.ucsd.edu\\afassihizakeri\\rightsidemovies\\ar38motor\\2022_02_08\\102EYE.avi\n",
      "Loading  \\\\dk-server.dk.ucsd.edu\\afassihizakeri\\rightsidemovies\\ar38motor\\2022_02_08\\102EYE.avi\n",
      "Duration of video [s]:  5.62 , recorded with  40.0 fps!\n",
      "Overall # of frames:  225  found with (before cropping) frame dimensions:  200 200\n",
      "Starting to extract posture\n"
     ]
    },
    {
     "name": "stderr",
     "output_type": "stream",
     "text": [
      "230it [00:01, 142.53it/s]                                                                                              \n"
     ]
    },
    {
     "name": "stdout",
     "output_type": "stream",
     "text": [
      "Saving results in \\\\dk-server.dk.ucsd.edu\\afassihizakeri\\rightsidemovies\\ar38motor\\2022_02_08...\n",
      "Saving csv poses!\n",
      "Starting to analyze %  \\\\dk-server.dk.ucsd.edu\\afassihizakeri\\rightsidemovies\\ar38motor\\2022_02_08\\119EYE.avi\n",
      "Loading  \\\\dk-server.dk.ucsd.edu\\afassihizakeri\\rightsidemovies\\ar38motor\\2022_02_08\\119EYE.avi\n",
      "Duration of video [s]:  8.1 , recorded with  40.0 fps!\n",
      "Overall # of frames:  324  found with (before cropping) frame dimensions:  200 200\n",
      "Starting to extract posture\n"
     ]
    },
    {
     "name": "stderr",
     "output_type": "stream",
     "text": [
      "330it [00:02, 143.86it/s]                                                                                              \n"
     ]
    },
    {
     "name": "stdout",
     "output_type": "stream",
     "text": [
      "Saving results in \\\\dk-server.dk.ucsd.edu\\afassihizakeri\\rightsidemovies\\ar38motor\\2022_02_08...\n",
      "Saving csv poses!\n",
      "Starting to analyze %  \\\\dk-server.dk.ucsd.edu\\afassihizakeri\\rightsidemovies\\ar38motor\\2022_02_08\\52EYE.avi\n",
      "Loading  \\\\dk-server.dk.ucsd.edu\\afassihizakeri\\rightsidemovies\\ar38motor\\2022_02_08\\52EYE.avi\n",
      "Duration of video [s]:  12.5 , recorded with  40.0 fps!\n",
      "Overall # of frames:  500  found with (before cropping) frame dimensions:  200 200\n",
      "Starting to extract posture\n"
     ]
    },
    {
     "name": "stderr",
     "output_type": "stream",
     "text": [
      "510it [00:03, 136.91it/s]                                                                                              \n"
     ]
    },
    {
     "name": "stdout",
     "output_type": "stream",
     "text": [
      "Saving results in \\\\dk-server.dk.ucsd.edu\\afassihizakeri\\rightsidemovies\\ar38motor\\2022_02_08...\n",
      "Saving csv poses!\n",
      "Starting to analyze %  \\\\dk-server.dk.ucsd.edu\\afassihizakeri\\rightsidemovies\\ar38motor\\2022_02_08\\12EYE.avi\n",
      "Loading  \\\\dk-server.dk.ucsd.edu\\afassihizakeri\\rightsidemovies\\ar38motor\\2022_02_08\\12EYE.avi\n",
      "Duration of video [s]:  7.95 , recorded with  40.0 fps!\n",
      "Overall # of frames:  318  found with (before cropping) frame dimensions:  200 200\n",
      "Starting to extract posture\n"
     ]
    },
    {
     "name": "stderr",
     "output_type": "stream",
     "text": [
      "320it [00:02, 142.60it/s]                                                                                              \n"
     ]
    },
    {
     "name": "stdout",
     "output_type": "stream",
     "text": [
      "Saving results in \\\\dk-server.dk.ucsd.edu\\afassihizakeri\\rightsidemovies\\ar38motor\\2022_02_08...\n",
      "Saving csv poses!\n",
      "Starting to analyze %  \\\\dk-server.dk.ucsd.edu\\afassihizakeri\\rightsidemovies\\ar38motor\\2022_02_08\\89EYE.avi\n",
      "Loading  \\\\dk-server.dk.ucsd.edu\\afassihizakeri\\rightsidemovies\\ar38motor\\2022_02_08\\89EYE.avi\n",
      "Duration of video [s]:  10.53 , recorded with  40.0 fps!\n",
      "Overall # of frames:  421  found with (before cropping) frame dimensions:  200 200\n",
      "Starting to extract posture\n"
     ]
    },
    {
     "name": "stderr",
     "output_type": "stream",
     "text": [
      "430it [00:03, 126.33it/s]                                                                                              \n"
     ]
    },
    {
     "name": "stdout",
     "output_type": "stream",
     "text": [
      "Saving results in \\\\dk-server.dk.ucsd.edu\\afassihizakeri\\rightsidemovies\\ar38motor\\2022_02_08...\n",
      "Saving csv poses!\n",
      "Starting to analyze %  \\\\dk-server.dk.ucsd.edu\\afassihizakeri\\rightsidemovies\\ar38motor\\2022_02_08\\159EYE.avi\n",
      "Loading  \\\\dk-server.dk.ucsd.edu\\afassihizakeri\\rightsidemovies\\ar38motor\\2022_02_08\\159EYE.avi\n",
      "Duration of video [s]:  11.32 , recorded with  40.0 fps!\n",
      "Overall # of frames:  453  found with (before cropping) frame dimensions:  200 200\n",
      "Starting to extract posture\n"
     ]
    },
    {
     "name": "stderr",
     "output_type": "stream",
     "text": [
      "460it [00:03, 134.36it/s]                                                                                              \n"
     ]
    },
    {
     "name": "stdout",
     "output_type": "stream",
     "text": [
      "Saving results in \\\\dk-server.dk.ucsd.edu\\afassihizakeri\\rightsidemovies\\ar38motor\\2022_02_08...\n",
      "Saving csv poses!\n",
      "Starting to analyze %  \\\\dk-server.dk.ucsd.edu\\afassihizakeri\\rightsidemovies\\ar38motor\\2022_02_08\\44EYE.avi\n",
      "Loading  \\\\dk-server.dk.ucsd.edu\\afassihizakeri\\rightsidemovies\\ar38motor\\2022_02_08\\44EYE.avi\n",
      "Duration of video [s]:  11.95 , recorded with  40.0 fps!\n",
      "Overall # of frames:  478  found with (before cropping) frame dimensions:  200 200\n",
      "Starting to extract posture\n"
     ]
    },
    {
     "name": "stderr",
     "output_type": "stream",
     "text": [
      "480it [00:03, 121.75it/s]                                                                                              \n"
     ]
    },
    {
     "name": "stdout",
     "output_type": "stream",
     "text": [
      "Saving results in \\\\dk-server.dk.ucsd.edu\\afassihizakeri\\rightsidemovies\\ar38motor\\2022_02_08...\n",
      "Saving csv poses!\n",
      "Starting to analyze %  \\\\dk-server.dk.ucsd.edu\\afassihizakeri\\rightsidemovies\\ar38motor\\2022_02_08\\84EYE.avi\n",
      "Loading  \\\\dk-server.dk.ucsd.edu\\afassihizakeri\\rightsidemovies\\ar38motor\\2022_02_08\\84EYE.avi\n",
      "Duration of video [s]:  12.5 , recorded with  40.0 fps!\n",
      "Overall # of frames:  500  found with (before cropping) frame dimensions:  200 200\n",
      "Starting to extract posture\n"
     ]
    },
    {
     "name": "stderr",
     "output_type": "stream",
     "text": [
      "510it [00:03, 134.17it/s]                                                                                              \n"
     ]
    },
    {
     "name": "stdout",
     "output_type": "stream",
     "text": [
      "Saving results in \\\\dk-server.dk.ucsd.edu\\afassihizakeri\\rightsidemovies\\ar38motor\\2022_02_08...\n",
      "Saving csv poses!\n",
      "Starting to analyze %  \\\\dk-server.dk.ucsd.edu\\afassihizakeri\\rightsidemovies\\ar38motor\\2022_02_08\\154EYE.avi\n",
      "Loading  \\\\dk-server.dk.ucsd.edu\\afassihizakeri\\rightsidemovies\\ar38motor\\2022_02_08\\154EYE.avi\n",
      "Duration of video [s]:  10.15 , recorded with  40.0 fps!\n",
      "Overall # of frames:  406  found with (before cropping) frame dimensions:  200 200\n",
      "Starting to extract posture\n"
     ]
    },
    {
     "name": "stderr",
     "output_type": "stream",
     "text": [
      "410it [00:02, 143.74it/s]                                                                                              \n"
     ]
    },
    {
     "name": "stdout",
     "output_type": "stream",
     "text": [
      "Saving results in \\\\dk-server.dk.ucsd.edu\\afassihizakeri\\rightsidemovies\\ar38motor\\2022_02_08...\n",
      "Saving csv poses!\n",
      "Starting to analyze %  \\\\dk-server.dk.ucsd.edu\\afassihizakeri\\rightsidemovies\\ar38motor\\2022_02_08\\114EYE.avi\n",
      "Loading  \\\\dk-server.dk.ucsd.edu\\afassihizakeri\\rightsidemovies\\ar38motor\\2022_02_08\\114EYE.avi\n",
      "Duration of video [s]:  9.72 , recorded with  40.0 fps!\n",
      "Overall # of frames:  389  found with (before cropping) frame dimensions:  200 200\n",
      "Starting to extract posture\n"
     ]
    },
    {
     "name": "stderr",
     "output_type": "stream",
     "text": [
      "390it [00:03, 128.66it/s]                                                                                              \n"
     ]
    },
    {
     "name": "stdout",
     "output_type": "stream",
     "text": [
      "Saving results in \\\\dk-server.dk.ucsd.edu\\afassihizakeri\\rightsidemovies\\ar38motor\\2022_02_08...\n",
      "Saving csv poses!\n",
      "Starting to analyze %  \\\\dk-server.dk.ucsd.edu\\afassihizakeri\\rightsidemovies\\ar38motor\\2022_02_08\\68EYE.avi\n",
      "Loading  \\\\dk-server.dk.ucsd.edu\\afassihizakeri\\rightsidemovies\\ar38motor\\2022_02_08\\68EYE.avi\n",
      "Duration of video [s]:  12.5 , recorded with  40.0 fps!\n",
      "Overall # of frames:  500  found with (before cropping) frame dimensions:  200 200\n",
      "Starting to extract posture\n"
     ]
    },
    {
     "name": "stderr",
     "output_type": "stream",
     "text": [
      "510it [00:03, 133.48it/s]                                                                                              \n"
     ]
    },
    {
     "name": "stdout",
     "output_type": "stream",
     "text": [
      "Saving results in \\\\dk-server.dk.ucsd.edu\\afassihizakeri\\rightsidemovies\\ar38motor\\2022_02_08...\n",
      "Saving csv poses!\n",
      "Starting to analyze %  \\\\dk-server.dk.ucsd.edu\\afassihizakeri\\rightsidemovies\\ar38motor\\2022_02_08\\123EYE.avi\n",
      "Loading  \\\\dk-server.dk.ucsd.edu\\afassihizakeri\\rightsidemovies\\ar38motor\\2022_02_08\\123EYE.avi\n",
      "Duration of video [s]:  12.5 , recorded with  40.0 fps!\n",
      "Overall # of frames:  500  found with (before cropping) frame dimensions:  200 200\n",
      "Starting to extract posture\n"
     ]
    },
    {
     "name": "stderr",
     "output_type": "stream",
     "text": [
      "510it [00:03, 132.28it/s]                                                                                              \n"
     ]
    },
    {
     "name": "stdout",
     "output_type": "stream",
     "text": [
      "Saving results in \\\\dk-server.dk.ucsd.edu\\afassihizakeri\\rightsidemovies\\ar38motor\\2022_02_08...\n",
      "Saving csv poses!\n",
      "Starting to analyze %  \\\\dk-server.dk.ucsd.edu\\afassihizakeri\\rightsidemovies\\ar38motor\\2022_02_08\\2EYE.avi\n",
      "Loading  \\\\dk-server.dk.ucsd.edu\\afassihizakeri\\rightsidemovies\\ar38motor\\2022_02_08\\2EYE.avi\n",
      "Duration of video [s]:  9.68 , recorded with  40.0 fps!\n",
      "Overall # of frames:  387  found with (before cropping) frame dimensions:  200 200\n",
      "Starting to extract posture\n"
     ]
    },
    {
     "name": "stderr",
     "output_type": "stream",
     "text": [
      "390it [00:02, 143.07it/s]                                                                                              \n"
     ]
    },
    {
     "name": "stdout",
     "output_type": "stream",
     "text": [
      "Saving results in \\\\dk-server.dk.ucsd.edu\\afassihizakeri\\rightsidemovies\\ar38motor\\2022_02_08...\n",
      "Saving csv poses!\n",
      "Starting to analyze %  \\\\dk-server.dk.ucsd.edu\\afassihizakeri\\rightsidemovies\\ar38motor\\2022_02_08\\163EYE.avi\n",
      "Loading  \\\\dk-server.dk.ucsd.edu\\afassihizakeri\\rightsidemovies\\ar38motor\\2022_02_08\\163EYE.avi\n",
      "Duration of video [s]:  12.5 , recorded with  40.0 fps!\n",
      "Overall # of frames:  500  found with (before cropping) frame dimensions:  200 200\n",
      "Starting to extract posture\n"
     ]
    },
    {
     "name": "stderr",
     "output_type": "stream",
     "text": [
      "510it [00:04, 122.62it/s]                                                                                              \n"
     ]
    },
    {
     "name": "stdout",
     "output_type": "stream",
     "text": [
      "Saving results in \\\\dk-server.dk.ucsd.edu\\afassihizakeri\\rightsidemovies\\ar38motor\\2022_02_08...\n",
      "Saving csv poses!\n",
      "Starting to analyze %  \\\\dk-server.dk.ucsd.edu\\afassihizakeri\\rightsidemovies\\ar38motor\\2022_02_08\\28EYE.avi\n",
      "Loading  \\\\dk-server.dk.ucsd.edu\\afassihizakeri\\rightsidemovies\\ar38motor\\2022_02_08\\28EYE.avi\n",
      "Duration of video [s]:  8.72 , recorded with  40.0 fps!\n",
      "Overall # of frames:  349  found with (before cropping) frame dimensions:  200 200\n",
      "Starting to extract posture\n"
     ]
    },
    {
     "name": "stderr",
     "output_type": "stream",
     "text": [
      "350it [00:02, 131.57it/s]                                                                                              \n"
     ]
    },
    {
     "name": "stdout",
     "output_type": "stream",
     "text": [
      "Saving results in \\\\dk-server.dk.ucsd.edu\\afassihizakeri\\rightsidemovies\\ar38motor\\2022_02_08...\n",
      "Saving csv poses!\n",
      "Starting to analyze %  \\\\dk-server.dk.ucsd.edu\\afassihizakeri\\rightsidemovies\\ar38motor\\2022_02_08\\33EYE.avi\n",
      "Loading  \\\\dk-server.dk.ucsd.edu\\afassihizakeri\\rightsidemovies\\ar38motor\\2022_02_08\\33EYE.avi\n",
      "Duration of video [s]:  12.5 , recorded with  40.0 fps!\n",
      "Overall # of frames:  500  found with (before cropping) frame dimensions:  200 200\n",
      "Starting to extract posture\n"
     ]
    },
    {
     "name": "stderr",
     "output_type": "stream",
     "text": [
      "510it [00:03, 135.11it/s]                                                                                              \n"
     ]
    },
    {
     "name": "stdout",
     "output_type": "stream",
     "text": [
      "Saving results in \\\\dk-server.dk.ucsd.edu\\afassihizakeri\\rightsidemovies\\ar38motor\\2022_02_08...\n",
      "Saving csv poses!\n",
      "Starting to analyze %  \\\\dk-server.dk.ucsd.edu\\afassihizakeri\\rightsidemovies\\ar38motor\\2022_02_08\\178EYE.avi\n",
      "Loading  \\\\dk-server.dk.ucsd.edu\\afassihizakeri\\rightsidemovies\\ar38motor\\2022_02_08\\178EYE.avi\n",
      "Duration of video [s]:  12.5 , recorded with  40.0 fps!\n",
      "Overall # of frames:  500  found with (before cropping) frame dimensions:  200 200\n",
      "Starting to extract posture\n"
     ]
    },
    {
     "name": "stderr",
     "output_type": "stream",
     "text": [
      "510it [00:04, 121.76it/s]                                                                                              \n"
     ]
    },
    {
     "name": "stdout",
     "output_type": "stream",
     "text": [
      "Saving results in \\\\dk-server.dk.ucsd.edu\\afassihizakeri\\rightsidemovies\\ar38motor\\2022_02_08...\n",
      "Saving csv poses!\n",
      "Starting to analyze %  \\\\dk-server.dk.ucsd.edu\\afassihizakeri\\rightsidemovies\\ar38motor\\2022_02_08\\138EYE.avi\n",
      "Loading  \\\\dk-server.dk.ucsd.edu\\afassihizakeri\\rightsidemovies\\ar38motor\\2022_02_08\\138EYE.avi\n",
      "Duration of video [s]:  12.5 , recorded with  40.0 fps!\n",
      "Overall # of frames:  500  found with (before cropping) frame dimensions:  200 200\n",
      "Starting to extract posture\n"
     ]
    },
    {
     "name": "stderr",
     "output_type": "stream",
     "text": [
      "510it [00:03, 144.43it/s]                                                                                              \n"
     ]
    },
    {
     "name": "stdout",
     "output_type": "stream",
     "text": [
      "Saving results in \\\\dk-server.dk.ucsd.edu\\afassihizakeri\\rightsidemovies\\ar38motor\\2022_02_08...\n",
      "Saving csv poses!\n",
      "Starting to analyze %  \\\\dk-server.dk.ucsd.edu\\afassihizakeri\\rightsidemovies\\ar38motor\\2022_02_08\\73EYE.avi\n",
      "Loading  \\\\dk-server.dk.ucsd.edu\\afassihizakeri\\rightsidemovies\\ar38motor\\2022_02_08\\73EYE.avi\n",
      "Duration of video [s]:  10.97 , recorded with  40.0 fps!\n",
      "Overall # of frames:  439  found with (before cropping) frame dimensions:  200 200\n",
      "Starting to extract posture\n"
     ]
    },
    {
     "name": "stderr",
     "output_type": "stream",
     "text": [
      "440it [00:03, 142.68it/s]                                                                                              \n"
     ]
    },
    {
     "name": "stdout",
     "output_type": "stream",
     "text": [
      "Saving results in \\\\dk-server.dk.ucsd.edu\\afassihizakeri\\rightsidemovies\\ar38motor\\2022_02_08...\n",
      "Saving csv poses!\n",
      "Starting to analyze %  \\\\dk-server.dk.ucsd.edu\\afassihizakeri\\rightsidemovies\\ar38motor\\2022_02_08\\25EYE.avi\n",
      "Loading  \\\\dk-server.dk.ucsd.edu\\afassihizakeri\\rightsidemovies\\ar38motor\\2022_02_08\\25EYE.avi\n",
      "Duration of video [s]:  12.22 , recorded with  40.0 fps!\n",
      "Overall # of frames:  489  found with (before cropping) frame dimensions:  200 200\n",
      "Starting to extract posture\n"
     ]
    },
    {
     "name": "stderr",
     "output_type": "stream",
     "text": [
      "490it [00:03, 123.92it/s]                                                                                              \n"
     ]
    },
    {
     "name": "stdout",
     "output_type": "stream",
     "text": [
      "Saving results in \\\\dk-server.dk.ucsd.edu\\afassihizakeri\\rightsidemovies\\ar38motor\\2022_02_08...\n",
      "Saving csv poses!\n",
      "Starting to analyze %  \\\\dk-server.dk.ucsd.edu\\afassihizakeri\\rightsidemovies\\ar38motor\\2022_02_08\\65EYE.avi\n",
      "Loading  \\\\dk-server.dk.ucsd.edu\\afassihizakeri\\rightsidemovies\\ar38motor\\2022_02_08\\65EYE.avi\n",
      "Duration of video [s]:  8.82 , recorded with  40.0 fps!\n",
      "Overall # of frames:  353  found with (before cropping) frame dimensions:  200 200\n",
      "Starting to extract posture\n"
     ]
    },
    {
     "name": "stderr",
     "output_type": "stream",
     "text": [
      "360it [00:02, 125.78it/s]                                                                                              \n"
     ]
    },
    {
     "name": "stdout",
     "output_type": "stream",
     "text": [
      "Saving results in \\\\dk-server.dk.ucsd.edu\\afassihizakeri\\rightsidemovies\\ar38motor\\2022_02_08...\n",
      "Saving csv poses!\n",
      "Starting to analyze %  \\\\dk-server.dk.ucsd.edu\\afassihizakeri\\rightsidemovies\\ar38motor\\2022_02_08\\135EYE.avi\n",
      "Loading  \\\\dk-server.dk.ucsd.edu\\afassihizakeri\\rightsidemovies\\ar38motor\\2022_02_08\\135EYE.avi\n",
      "Duration of video [s]:  12.5 , recorded with  40.0 fps!\n",
      "Overall # of frames:  500  found with (before cropping) frame dimensions:  200 200\n",
      "Starting to extract posture\n"
     ]
    },
    {
     "name": "stderr",
     "output_type": "stream",
     "text": [
      "510it [00:03, 132.48it/s]                                                                                              \n"
     ]
    },
    {
     "name": "stdout",
     "output_type": "stream",
     "text": [
      "Saving results in \\\\dk-server.dk.ucsd.edu\\afassihizakeri\\rightsidemovies\\ar38motor\\2022_02_08...\n",
      "Saving csv poses!\n",
      "Starting to analyze %  \\\\dk-server.dk.ucsd.edu\\afassihizakeri\\rightsidemovies\\ar38motor\\2022_02_08\\175EYE.avi\n",
      "Loading  \\\\dk-server.dk.ucsd.edu\\afassihizakeri\\rightsidemovies\\ar38motor\\2022_02_08\\175EYE.avi\n",
      "Duration of video [s]:  11.47 , recorded with  40.0 fps!\n",
      "Overall # of frames:  459  found with (before cropping) frame dimensions:  200 200\n",
      "Starting to extract posture\n"
     ]
    },
    {
     "name": "stderr",
     "output_type": "stream",
     "text": [
      "460it [00:03, 123.14it/s]                                                                                              \n"
     ]
    },
    {
     "name": "stdout",
     "output_type": "stream",
     "text": [
      "Saving results in \\\\dk-server.dk.ucsd.edu\\afassihizakeri\\rightsidemovies\\ar38motor\\2022_02_08...\n",
      "Saving csv poses!\n",
      "Starting to analyze %  \\\\dk-server.dk.ucsd.edu\\afassihizakeri\\rightsidemovies\\ar38motor\\2022_02_08\\109EYE.avi\n",
      "Loading  \\\\dk-server.dk.ucsd.edu\\afassihizakeri\\rightsidemovies\\ar38motor\\2022_02_08\\109EYE.avi\n",
      "Duration of video [s]:  11.75 , recorded with  40.0 fps!\n",
      "Overall # of frames:  470  found with (before cropping) frame dimensions:  200 200\n",
      "Starting to extract posture\n"
     ]
    },
    {
     "name": "stderr",
     "output_type": "stream",
     "text": [
      "480it [00:03, 145.38it/s]                                                                                              \n"
     ]
    },
    {
     "name": "stdout",
     "output_type": "stream",
     "text": [
      "Saving results in \\\\dk-server.dk.ucsd.edu\\afassihizakeri\\rightsidemovies\\ar38motor\\2022_02_08...\n",
      "Saving csv poses!\n",
      "Starting to analyze %  \\\\dk-server.dk.ucsd.edu\\afassihizakeri\\rightsidemovies\\ar38motor\\2022_02_08\\42EYE.avi\n",
      "Loading  \\\\dk-server.dk.ucsd.edu\\afassihizakeri\\rightsidemovies\\ar38motor\\2022_02_08\\42EYE.avi\n",
      "Duration of video [s]:  12.5 , recorded with  40.0 fps!\n",
      "Overall # of frames:  500  found with (before cropping) frame dimensions:  200 200\n",
      "Starting to extract posture\n"
     ]
    },
    {
     "name": "stderr",
     "output_type": "stream",
     "text": [
      "510it [00:03, 135.40it/s]                                                                                              \n"
     ]
    },
    {
     "name": "stdout",
     "output_type": "stream",
     "text": [
      "Saving results in \\\\dk-server.dk.ucsd.edu\\afassihizakeri\\rightsidemovies\\ar38motor\\2022_02_08...\n",
      "Saving csv poses!\n",
      "Starting to analyze %  \\\\dk-server.dk.ucsd.edu\\afassihizakeri\\rightsidemovies\\ar38motor\\2022_02_08\\99EYE.avi\n",
      "Loading  \\\\dk-server.dk.ucsd.edu\\afassihizakeri\\rightsidemovies\\ar38motor\\2022_02_08\\99EYE.avi\n",
      "Duration of video [s]:  12.0 , recorded with  40.0 fps!\n",
      "Overall # of frames:  480  found with (before cropping) frame dimensions:  200 200\n",
      "Starting to extract posture\n"
     ]
    },
    {
     "name": "stderr",
     "output_type": "stream",
     "text": [
      "490it [00:03, 124.77it/s]                                                                                              \n"
     ]
    },
    {
     "name": "stdout",
     "output_type": "stream",
     "text": [
      "Saving results in \\\\dk-server.dk.ucsd.edu\\afassihizakeri\\rightsidemovies\\ar38motor\\2022_02_08...\n",
      "Saving csv poses!\n",
      "Starting to analyze %  \\\\dk-server.dk.ucsd.edu\\afassihizakeri\\rightsidemovies\\ar38motor\\2022_02_08\\149EYE.avi\n",
      "Loading  \\\\dk-server.dk.ucsd.edu\\afassihizakeri\\rightsidemovies\\ar38motor\\2022_02_08\\149EYE.avi\n",
      "Duration of video [s]:  10.8 , recorded with  40.0 fps!\n",
      "Overall # of frames:  432  found with (before cropping) frame dimensions:  200 200\n",
      "Starting to extract posture\n"
     ]
    },
    {
     "name": "stderr",
     "output_type": "stream",
     "text": [
      "440it [00:03, 145.20it/s]                                                                                              \n"
     ]
    },
    {
     "name": "stdout",
     "output_type": "stream",
     "text": [
      "Saving results in \\\\dk-server.dk.ucsd.edu\\afassihizakeri\\rightsidemovies\\ar38motor\\2022_02_08...\n",
      "Saving csv poses!\n",
      "Starting to analyze %  \\\\dk-server.dk.ucsd.edu\\afassihizakeri\\rightsidemovies\\ar38motor\\2022_02_08\\82EYE.avi\n",
      "Loading  \\\\dk-server.dk.ucsd.edu\\afassihizakeri\\rightsidemovies\\ar38motor\\2022_02_08\\82EYE.avi\n",
      "Duration of video [s]:  9.53 , recorded with  40.0 fps!\n",
      "Overall # of frames:  381  found with (before cropping) frame dimensions:  200 200\n",
      "Starting to extract posture\n"
     ]
    },
    {
     "name": "stderr",
     "output_type": "stream",
     "text": [
      "390it [00:03, 120.45it/s]                                                                                              \n"
     ]
    },
    {
     "name": "stdout",
     "output_type": "stream",
     "text": [
      "Saving results in \\\\dk-server.dk.ucsd.edu\\afassihizakeri\\rightsidemovies\\ar38motor\\2022_02_08...\n",
      "Saving csv poses!\n",
      "Starting to analyze %  \\\\dk-server.dk.ucsd.edu\\afassihizakeri\\rightsidemovies\\ar38motor\\2022_02_08\\152EYE.avi\n",
      "Loading  \\\\dk-server.dk.ucsd.edu\\afassihizakeri\\rightsidemovies\\ar38motor\\2022_02_08\\152EYE.avi\n",
      "Duration of video [s]:  4.7 , recorded with  40.0 fps!\n",
      "Overall # of frames:  188  found with (before cropping) frame dimensions:  200 200\n",
      "Starting to extract posture\n"
     ]
    },
    {
     "name": "stderr",
     "output_type": "stream",
     "text": [
      "190it [00:01, 140.58it/s]                                                                                              \n"
     ]
    },
    {
     "name": "stdout",
     "output_type": "stream",
     "text": [
      "Saving results in \\\\dk-server.dk.ucsd.edu\\afassihizakeri\\rightsidemovies\\ar38motor\\2022_02_08...\n",
      "Saving csv poses!\n",
      "Starting to analyze %  \\\\dk-server.dk.ucsd.edu\\afassihizakeri\\rightsidemovies\\ar38motor\\2022_02_08\\19EYE.avi\n",
      "Loading  \\\\dk-server.dk.ucsd.edu\\afassihizakeri\\rightsidemovies\\ar38motor\\2022_02_08\\19EYE.avi\n",
      "Duration of video [s]:  11.57 , recorded with  40.0 fps!\n",
      "Overall # of frames:  463  found with (before cropping) frame dimensions:  200 200\n",
      "Starting to extract posture\n"
     ]
    },
    {
     "name": "stderr",
     "output_type": "stream",
     "text": [
      "470it [00:03, 142.16it/s]                                                                                              \n"
     ]
    },
    {
     "name": "stdout",
     "output_type": "stream",
     "text": [
      "Saving results in \\\\dk-server.dk.ucsd.edu\\afassihizakeri\\rightsidemovies\\ar38motor\\2022_02_08...\n",
      "Saving csv poses!\n",
      "Starting to analyze %  \\\\dk-server.dk.ucsd.edu\\afassihizakeri\\rightsidemovies\\ar38motor\\2022_02_08\\59EYE.avi\n",
      "Loading  \\\\dk-server.dk.ucsd.edu\\afassihizakeri\\rightsidemovies\\ar38motor\\2022_02_08\\59EYE.avi\n",
      "Duration of video [s]:  8.78 , recorded with  40.0 fps!\n",
      "Overall # of frames:  351  found with (before cropping) frame dimensions:  200 200\n",
      "Starting to extract posture\n"
     ]
    },
    {
     "name": "stderr",
     "output_type": "stream",
     "text": [
      "360it [00:02, 132.03it/s]                                                                                              \n"
     ]
    },
    {
     "name": "stdout",
     "output_type": "stream",
     "text": [
      "Saving results in \\\\dk-server.dk.ucsd.edu\\afassihizakeri\\rightsidemovies\\ar38motor\\2022_02_08...\n",
      "Saving csv poses!\n",
      "Starting to analyze %  \\\\dk-server.dk.ucsd.edu\\afassihizakeri\\rightsidemovies\\ar38motor\\2022_02_08\\112EYE.avi\n",
      "Loading  \\\\dk-server.dk.ucsd.edu\\afassihizakeri\\rightsidemovies\\ar38motor\\2022_02_08\\112EYE.avi\n",
      "Duration of video [s]:  7.92 , recorded with  40.0 fps!\n",
      "Overall # of frames:  317  found with (before cropping) frame dimensions:  200 200\n",
      "Starting to extract posture\n"
     ]
    },
    {
     "name": "stderr",
     "output_type": "stream",
     "text": [
      "320it [00:02, 142.79it/s]                                                                                              \n"
     ]
    },
    {
     "name": "stdout",
     "output_type": "stream",
     "text": [
      "Saving results in \\\\dk-server.dk.ucsd.edu\\afassihizakeri\\rightsidemovies\\ar38motor\\2022_02_08...\n",
      "Saving csv poses!\n",
      "Starting to analyze %  \\\\dk-server.dk.ucsd.edu\\afassihizakeri\\rightsidemovies\\ar38motor\\2022_02_08\\94EYE.avi\n",
      "Loading  \\\\dk-server.dk.ucsd.edu\\afassihizakeri\\rightsidemovies\\ar38motor\\2022_02_08\\94EYE.avi\n",
      "Duration of video [s]:  12.5 , recorded with  40.0 fps!\n",
      "Overall # of frames:  500  found with (before cropping) frame dimensions:  200 200\n",
      "Starting to extract posture\n"
     ]
    },
    {
     "name": "stderr",
     "output_type": "stream",
     "text": [
      "510it [00:03, 144.44it/s]                                                                                              \n"
     ]
    },
    {
     "name": "stdout",
     "output_type": "stream",
     "text": [
      "Saving results in \\\\dk-server.dk.ucsd.edu\\afassihizakeri\\rightsidemovies\\ar38motor\\2022_02_08...\n",
      "Saving csv poses!\n",
      "Starting to analyze %  \\\\dk-server.dk.ucsd.edu\\afassihizakeri\\rightsidemovies\\ar38motor\\2022_02_08\\144EYE.avi\n",
      "Loading  \\\\dk-server.dk.ucsd.edu\\afassihizakeri\\rightsidemovies\\ar38motor\\2022_02_08\\144EYE.avi\n",
      "Duration of video [s]:  8.9 , recorded with  40.0 fps!\n",
      "Overall # of frames:  356  found with (before cropping) frame dimensions:  200 200\n",
      "Starting to extract posture\n"
     ]
    },
    {
     "name": "stderr",
     "output_type": "stream",
     "text": [
      "360it [00:02, 126.60it/s]                                                                                              \n"
     ]
    },
    {
     "name": "stdout",
     "output_type": "stream",
     "text": [
      "Saving results in \\\\dk-server.dk.ucsd.edu\\afassihizakeri\\rightsidemovies\\ar38motor\\2022_02_08...\n",
      "Saving csv poses!\n",
      "Starting to analyze %  \\\\dk-server.dk.ucsd.edu\\afassihizakeri\\rightsidemovies\\ar38motor\\2022_02_08\\104EYE.avi\n",
      "Loading  \\\\dk-server.dk.ucsd.edu\\afassihizakeri\\rightsidemovies\\ar38motor\\2022_02_08\\104EYE.avi\n",
      "Duration of video [s]:  5.5 , recorded with  40.0 fps!\n",
      "Overall # of frames:  220  found with (before cropping) frame dimensions:  200 200\n",
      "Starting to extract posture\n"
     ]
    },
    {
     "name": "stderr",
     "output_type": "stream",
     "text": [
      "230it [00:01, 145.58it/s]                                                                                              \n"
     ]
    },
    {
     "name": "stdout",
     "output_type": "stream",
     "text": [
      "Saving results in \\\\dk-server.dk.ucsd.edu\\afassihizakeri\\rightsidemovies\\ar38motor\\2022_02_08...\n",
      "Saving csv poses!\n",
      "Starting to analyze %  \\\\dk-server.dk.ucsd.edu\\afassihizakeri\\rightsidemovies\\ar38motor\\2022_02_08\\54EYE.avi\n",
      "Loading  \\\\dk-server.dk.ucsd.edu\\afassihizakeri\\rightsidemovies\\ar38motor\\2022_02_08\\54EYE.avi\n",
      "Duration of video [s]:  12.5 , recorded with  40.0 fps!\n",
      "Overall # of frames:  500  found with (before cropping) frame dimensions:  200 200\n",
      "Starting to extract posture\n"
     ]
    },
    {
     "name": "stderr",
     "output_type": "stream",
     "text": [
      "510it [00:03, 138.33it/s]                                                                                              \n"
     ]
    },
    {
     "name": "stdout",
     "output_type": "stream",
     "text": [
      "Saving results in \\\\dk-server.dk.ucsd.edu\\afassihizakeri\\rightsidemovies\\ar38motor\\2022_02_08...\n",
      "Saving csv poses!\n",
      "Starting to analyze %  \\\\dk-server.dk.ucsd.edu\\afassihizakeri\\rightsidemovies\\ar38motor\\2022_02_08\\14EYE.avi\n",
      "Loading  \\\\dk-server.dk.ucsd.edu\\afassihizakeri\\rightsidemovies\\ar38motor\\2022_02_08\\14EYE.avi\n",
      "Duration of video [s]:  11.7 , recorded with  40.0 fps!\n",
      "Overall # of frames:  468  found with (before cropping) frame dimensions:  200 200\n",
      "Starting to extract posture\n"
     ]
    },
    {
     "name": "stderr",
     "output_type": "stream",
     "text": [
      "470it [00:03, 142.11it/s]                                                                                              \n"
     ]
    },
    {
     "name": "stdout",
     "output_type": "stream",
     "text": [
      "Saving results in \\\\dk-server.dk.ucsd.edu\\afassihizakeri\\rightsidemovies\\ar38motor\\2022_02_08...\n",
      "Saving csv poses!\n",
      "Starting to analyze %  \\\\dk-server.dk.ucsd.edu\\afassihizakeri\\rightsidemovies\\ar38motor\\2022_02_08\\23EYE.avi\n",
      "Loading  \\\\dk-server.dk.ucsd.edu\\afassihizakeri\\rightsidemovies\\ar38motor\\2022_02_08\\23EYE.avi\n",
      "Duration of video [s]:  12.5 , recorded with  40.0 fps!\n",
      "Overall # of frames:  500  found with (before cropping) frame dimensions:  200 200\n",
      "Starting to extract posture\n"
     ]
    },
    {
     "name": "stderr",
     "output_type": "stream",
     "text": [
      "510it [00:03, 143.18it/s]                                                                                              \n"
     ]
    },
    {
     "name": "stdout",
     "output_type": "stream",
     "text": [
      "Saving results in \\\\dk-server.dk.ucsd.edu\\afassihizakeri\\rightsidemovies\\ar38motor\\2022_02_08...\n",
      "Saving csv poses!\n",
      "Starting to analyze %  \\\\dk-server.dk.ucsd.edu\\afassihizakeri\\rightsidemovies\\ar38motor\\2022_02_08\\168EYE.avi\n",
      "Loading  \\\\dk-server.dk.ucsd.edu\\afassihizakeri\\rightsidemovies\\ar38motor\\2022_02_08\\168EYE.avi\n",
      "Duration of video [s]:  12.5 , recorded with  40.0 fps!\n",
      "Overall # of frames:  500  found with (before cropping) frame dimensions:  200 200\n",
      "Starting to extract posture\n"
     ]
    },
    {
     "name": "stderr",
     "output_type": "stream",
     "text": [
      "510it [00:03, 134.20it/s]                                                                                              \n"
     ]
    },
    {
     "name": "stdout",
     "output_type": "stream",
     "text": [
      "Saving results in \\\\dk-server.dk.ucsd.edu\\afassihizakeri\\rightsidemovies\\ar38motor\\2022_02_08...\n",
      "Saving csv poses!\n",
      "Starting to analyze %  \\\\dk-server.dk.ucsd.edu\\afassihizakeri\\rightsidemovies\\ar38motor\\2022_02_08\\9EYE.avi\n",
      "Loading  \\\\dk-server.dk.ucsd.edu\\afassihizakeri\\rightsidemovies\\ar38motor\\2022_02_08\\9EYE.avi\n",
      "Duration of video [s]:  5.7 , recorded with  40.0 fps!\n",
      "Overall # of frames:  228  found with (before cropping) frame dimensions:  200 200\n",
      "Starting to extract posture\n"
     ]
    },
    {
     "name": "stderr",
     "output_type": "stream",
     "text": [
      "230it [00:01, 141.38it/s]                                                                                              \n"
     ]
    },
    {
     "name": "stdout",
     "output_type": "stream",
     "text": [
      "Saving results in \\\\dk-server.dk.ucsd.edu\\afassihizakeri\\rightsidemovies\\ar38motor\\2022_02_08...\n",
      "Saving csv poses!\n",
      "Starting to analyze %  \\\\dk-server.dk.ucsd.edu\\afassihizakeri\\rightsidemovies\\ar38motor\\2022_02_08\\128EYE.avi\n",
      "Loading  \\\\dk-server.dk.ucsd.edu\\afassihizakeri\\rightsidemovies\\ar38motor\\2022_02_08\\128EYE.avi\n",
      "Duration of video [s]:  12.5 , recorded with  40.0 fps!\n",
      "Overall # of frames:  500  found with (before cropping) frame dimensions:  200 200\n",
      "Starting to extract posture\n"
     ]
    },
    {
     "name": "stderr",
     "output_type": "stream",
     "text": [
      "510it [00:03, 140.20it/s]                                                                                              \n"
     ]
    },
    {
     "name": "stdout",
     "output_type": "stream",
     "text": [
      "Saving results in \\\\dk-server.dk.ucsd.edu\\afassihizakeri\\rightsidemovies\\ar38motor\\2022_02_08...\n",
      "Saving csv poses!\n",
      "Starting to analyze %  \\\\dk-server.dk.ucsd.edu\\afassihizakeri\\rightsidemovies\\ar38motor\\2022_02_08\\63EYE.avi\n",
      "Loading  \\\\dk-server.dk.ucsd.edu\\afassihizakeri\\rightsidemovies\\ar38motor\\2022_02_08\\63EYE.avi\n",
      "Duration of video [s]:  5.05 , recorded with  40.0 fps!\n",
      "Overall # of frames:  202  found with (before cropping) frame dimensions:  200 200\n",
      "Starting to extract posture\n"
     ]
    },
    {
     "name": "stderr",
     "output_type": "stream",
     "text": [
      "210it [00:01, 143.83it/s]                                                                                              \n"
     ]
    },
    {
     "name": "stdout",
     "output_type": "stream",
     "text": [
      "Saving results in \\\\dk-server.dk.ucsd.edu\\afassihizakeri\\rightsidemovies\\ar38motor\\2022_02_08...\n",
      "Saving csv poses!\n",
      "Starting to analyze %  \\\\dk-server.dk.ucsd.edu\\afassihizakeri\\rightsidemovies\\ar38motor\\2022_02_08\\78EYE.avi\n",
      "Loading  \\\\dk-server.dk.ucsd.edu\\afassihizakeri\\rightsidemovies\\ar38motor\\2022_02_08\\78EYE.avi\n",
      "Duration of video [s]:  12.5 , recorded with  40.0 fps!\n",
      "Overall # of frames:  500  found with (before cropping) frame dimensions:  200 200\n",
      "Starting to extract posture\n"
     ]
    },
    {
     "name": "stderr",
     "output_type": "stream",
     "text": [
      "510it [00:03, 144.69it/s]                                                                                              \n"
     ]
    },
    {
     "name": "stdout",
     "output_type": "stream",
     "text": [
      "Saving results in \\\\dk-server.dk.ucsd.edu\\afassihizakeri\\rightsidemovies\\ar38motor\\2022_02_08...\n",
      "Saving csv poses!\n",
      "Starting to analyze %  \\\\dk-server.dk.ucsd.edu\\afassihizakeri\\rightsidemovies\\ar38motor\\2022_02_08\\133EYE.avi\n",
      "Loading  \\\\dk-server.dk.ucsd.edu\\afassihizakeri\\rightsidemovies\\ar38motor\\2022_02_08\\133EYE.avi\n",
      "Duration of video [s]:  12.05 , recorded with  40.0 fps!\n",
      "Overall # of frames:  482  found with (before cropping) frame dimensions:  200 200\n",
      "Starting to extract posture\n"
     ]
    },
    {
     "name": "stderr",
     "output_type": "stream",
     "text": [
      "490it [00:03, 125.91it/s]                                                                                              \n"
     ]
    },
    {
     "name": "stdout",
     "output_type": "stream",
     "text": [
      "Saving results in \\\\dk-server.dk.ucsd.edu\\afassihizakeri\\rightsidemovies\\ar38motor\\2022_02_08...\n",
      "Saving csv poses!\n",
      "Starting to analyze %  \\\\dk-server.dk.ucsd.edu\\afassihizakeri\\rightsidemovies\\ar38motor\\2022_02_08\\173EYE.avi\n",
      "Loading  \\\\dk-server.dk.ucsd.edu\\afassihizakeri\\rightsidemovies\\ar38motor\\2022_02_08\\173EYE.avi\n",
      "Duration of video [s]:  12.5 , recorded with  40.0 fps!\n",
      "Overall # of frames:  500  found with (before cropping) frame dimensions:  200 200\n",
      "Starting to extract posture\n"
     ]
    },
    {
     "name": "stderr",
     "output_type": "stream",
     "text": [
      "510it [00:03, 144.92it/s]                                                                                              \n"
     ]
    },
    {
     "name": "stdout",
     "output_type": "stream",
     "text": [
      "Saving results in \\\\dk-server.dk.ucsd.edu\\afassihizakeri\\rightsidemovies\\ar38motor\\2022_02_08...\n",
      "Saving csv poses!\n",
      "Starting to analyze %  \\\\dk-server.dk.ucsd.edu\\afassihizakeri\\rightsidemovies\\ar38motor\\2022_02_08\\38EYE.avi\n",
      "Loading  \\\\dk-server.dk.ucsd.edu\\afassihizakeri\\rightsidemovies\\ar38motor\\2022_02_08\\38EYE.avi\n",
      "Duration of video [s]:  12.15 , recorded with  40.0 fps!\n",
      "Overall # of frames:  486  found with (before cropping) frame dimensions:  200 200\n",
      "Starting to extract posture\n"
     ]
    },
    {
     "name": "stderr",
     "output_type": "stream",
     "text": [
      "490it [00:03, 143.36it/s]                                                                                              \n"
     ]
    },
    {
     "name": "stdout",
     "output_type": "stream",
     "text": [
      "Saving results in \\\\dk-server.dk.ucsd.edu\\afassihizakeri\\rightsidemovies\\ar38motor\\2022_02_08...\n",
      "Saving csv poses!\n",
      "Starting to analyze %  \\\\dk-server.dk.ucsd.edu\\afassihizakeri\\rightsidemovies\\ar38motor\\2022_02_08\\125EYE.avi\n",
      "Loading  \\\\dk-server.dk.ucsd.edu\\afassihizakeri\\rightsidemovies\\ar38motor\\2022_02_08\\125EYE.avi\n",
      "Duration of video [s]:  12.5 , recorded with  40.0 fps!\n",
      "Overall # of frames:  500  found with (before cropping) frame dimensions:  200 200\n",
      "Starting to extract posture\n"
     ]
    },
    {
     "name": "stderr",
     "output_type": "stream",
     "text": [
      "510it [00:03, 145.36it/s]                                                                                              \n"
     ]
    },
    {
     "name": "stdout",
     "output_type": "stream",
     "text": [
      "Saving results in \\\\dk-server.dk.ucsd.edu\\afassihizakeri\\rightsidemovies\\ar38motor\\2022_02_08...\n",
      "Saving csv poses!\n",
      "Starting to analyze %  \\\\dk-server.dk.ucsd.edu\\afassihizakeri\\rightsidemovies\\ar38motor\\2022_02_08\\165EYE.avi\n",
      "Loading  \\\\dk-server.dk.ucsd.edu\\afassihizakeri\\rightsidemovies\\ar38motor\\2022_02_08\\165EYE.avi\n",
      "Duration of video [s]:  9.55 , recorded with  40.0 fps!\n",
      "Overall # of frames:  382  found with (before cropping) frame dimensions:  200 200\n",
      "Starting to extract posture\n"
     ]
    },
    {
     "name": "stderr",
     "output_type": "stream",
     "text": [
      "390it [00:03, 123.00it/s]                                                                                              \n"
     ]
    },
    {
     "name": "stdout",
     "output_type": "stream",
     "text": [
      "Saving results in \\\\dk-server.dk.ucsd.edu\\afassihizakeri\\rightsidemovies\\ar38motor\\2022_02_08...\n",
      "Saving csv poses!\n",
      "Starting to analyze %  \\\\dk-server.dk.ucsd.edu\\afassihizakeri\\rightsidemovies\\ar38motor\\2022_02_08\\4EYE.avi\n",
      "Loading  \\\\dk-server.dk.ucsd.edu\\afassihizakeri\\rightsidemovies\\ar38motor\\2022_02_08\\4EYE.avi\n",
      "Duration of video [s]:  11.82 , recorded with  40.0 fps!\n",
      "Overall # of frames:  473  found with (before cropping) frame dimensions:  200 200\n",
      "Starting to extract posture\n"
     ]
    },
    {
     "name": "stderr",
     "output_type": "stream",
     "text": [
      "480it [00:03, 125.35it/s]                                                                                              \n"
     ]
    },
    {
     "name": "stdout",
     "output_type": "stream",
     "text": [
      "Saving results in \\\\dk-server.dk.ucsd.edu\\afassihizakeri\\rightsidemovies\\ar38motor\\2022_02_08...\n",
      "Saving csv poses!\n",
      "Starting to analyze %  \\\\dk-server.dk.ucsd.edu\\afassihizakeri\\rightsidemovies\\ar38motor\\2022_02_08\\35EYE.avi\n",
      "Loading  \\\\dk-server.dk.ucsd.edu\\afassihizakeri\\rightsidemovies\\ar38motor\\2022_02_08\\35EYE.avi\n",
      "Duration of video [s]:  12.32 , recorded with  40.0 fps!\n",
      "Overall # of frames:  493  found with (before cropping) frame dimensions:  200 200\n",
      "Starting to extract posture\n"
     ]
    },
    {
     "name": "stderr",
     "output_type": "stream",
     "text": [
      "500it [00:03, 134.57it/s]                                                                                              \n"
     ]
    },
    {
     "name": "stdout",
     "output_type": "stream",
     "text": [
      "Saving results in \\\\dk-server.dk.ucsd.edu\\afassihizakeri\\rightsidemovies\\ar38motor\\2022_02_08...\n",
      "Saving csv poses!\n",
      "Starting to analyze %  \\\\dk-server.dk.ucsd.edu\\afassihizakeri\\rightsidemovies\\ar38motor\\2022_02_08\\75EYE.avi\n",
      "Loading  \\\\dk-server.dk.ucsd.edu\\afassihizakeri\\rightsidemovies\\ar38motor\\2022_02_08\\75EYE.avi\n",
      "Duration of video [s]:  12.5 , recorded with  40.0 fps!\n",
      "Overall # of frames:  500  found with (before cropping) frame dimensions:  200 200\n",
      "Starting to extract posture\n"
     ]
    },
    {
     "name": "stderr",
     "output_type": "stream",
     "text": [
      "510it [00:03, 144.83it/s]                                                                                              \n"
     ]
    },
    {
     "name": "stdout",
     "output_type": "stream",
     "text": [
      "Saving results in \\\\dk-server.dk.ucsd.edu\\afassihizakeri\\rightsidemovies\\ar38motor\\2022_02_08...\n",
      "Saving csv poses!\n",
      "Starting to analyze %  \\\\dk-server.dk.ucsd.edu\\afassihizakeri\\rightsidemovies\\ar38motor\\2022_02_08\\110EYE.avi\n",
      "Loading  \\\\dk-server.dk.ucsd.edu\\afassihizakeri\\rightsidemovies\\ar38motor\\2022_02_08\\110EYE.avi\n",
      "Duration of video [s]:  10.97 , recorded with  40.0 fps!\n",
      "Overall # of frames:  439  found with (before cropping) frame dimensions:  200 200\n",
      "Starting to extract posture\n"
     ]
    },
    {
     "name": "stderr",
     "output_type": "stream",
     "text": [
      "440it [00:03, 143.19it/s]                                                                                              \n"
     ]
    },
    {
     "name": "stdout",
     "output_type": "stream",
     "text": [
      "Saving results in \\\\dk-server.dk.ucsd.edu\\afassihizakeri\\rightsidemovies\\ar38motor\\2022_02_08...\n",
      "Saving csv poses!\n",
      "Starting to analyze %  \\\\dk-server.dk.ucsd.edu\\afassihizakeri\\rightsidemovies\\ar38motor\\2022_02_08\\80EYE.avi\n",
      "Loading  \\\\dk-server.dk.ucsd.edu\\afassihizakeri\\rightsidemovies\\ar38motor\\2022_02_08\\80EYE.avi\n",
      "Duration of video [s]:  12.5 , recorded with  40.0 fps!\n",
      "Overall # of frames:  500  found with (before cropping) frame dimensions:  200 200\n",
      "Starting to extract posture\n"
     ]
    },
    {
     "name": "stderr",
     "output_type": "stream",
     "text": [
      "510it [00:03, 144.64it/s]                                                                                              \n"
     ]
    },
    {
     "name": "stdout",
     "output_type": "stream",
     "text": [
      "Saving results in \\\\dk-server.dk.ucsd.edu\\afassihizakeri\\rightsidemovies\\ar38motor\\2022_02_08...\n",
      "Saving csv poses!\n",
      "Starting to analyze %  \\\\dk-server.dk.ucsd.edu\\afassihizakeri\\rightsidemovies\\ar38motor\\2022_02_08\\150EYE.avi\n",
      "Loading  \\\\dk-server.dk.ucsd.edu\\afassihizakeri\\rightsidemovies\\ar38motor\\2022_02_08\\150EYE.avi\n",
      "Duration of video [s]:  11.88 , recorded with  40.0 fps!\n",
      "Overall # of frames:  475  found with (before cropping) frame dimensions:  200 200\n",
      "Starting to extract posture\n"
     ]
    },
    {
     "name": "stderr",
     "output_type": "stream",
     "text": [
      "480it [00:03, 122.24it/s]                                                                                              \n"
     ]
    },
    {
     "name": "stdout",
     "output_type": "stream",
     "text": [
      "Saving results in \\\\dk-server.dk.ucsd.edu\\afassihizakeri\\rightsidemovies\\ar38motor\\2022_02_08...\n",
      "Saving csv poses!\n",
      "Starting to analyze %  \\\\dk-server.dk.ucsd.edu\\afassihizakeri\\rightsidemovies\\ar38motor\\2022_02_08\\40EYE.avi\n",
      "Loading  \\\\dk-server.dk.ucsd.edu\\afassihizakeri\\rightsidemovies\\ar38motor\\2022_02_08\\40EYE.avi\n",
      "Duration of video [s]:  12.5 , recorded with  40.0 fps!\n",
      "Overall # of frames:  500  found with (before cropping) frame dimensions:  200 200\n",
      "Starting to extract posture\n"
     ]
    },
    {
     "name": "stderr",
     "output_type": "stream",
     "text": [
      "510it [00:04, 118.54it/s]                                                                                              \n"
     ]
    },
    {
     "name": "stdout",
     "output_type": "stream",
     "text": [
      "Saving results in \\\\dk-server.dk.ucsd.edu\\afassihizakeri\\rightsidemovies\\ar38motor\\2022_02_08...\n",
      "Saving csv poses!\n",
      "Starting to analyze %  \\\\dk-server.dk.ucsd.edu\\afassihizakeri\\rightsidemovies\\ar38motor\\2022_02_08\\16EYE.avi\n",
      "Loading  \\\\dk-server.dk.ucsd.edu\\afassihizakeri\\rightsidemovies\\ar38motor\\2022_02_08\\16EYE.avi\n",
      "Duration of video [s]:  5.9 , recorded with  40.0 fps!\n",
      "Overall # of frames:  236  found with (before cropping) frame dimensions:  200 200\n",
      "Starting to extract posture\n"
     ]
    },
    {
     "name": "stderr",
     "output_type": "stream",
     "text": [
      "240it [00:01, 142.40it/s]                                                                                              \n"
     ]
    },
    {
     "name": "stdout",
     "output_type": "stream",
     "text": [
      "Saving results in \\\\dk-server.dk.ucsd.edu\\afassihizakeri\\rightsidemovies\\ar38motor\\2022_02_08...\n",
      "Saving csv poses!\n",
      "Starting to analyze %  \\\\dk-server.dk.ucsd.edu\\afassihizakeri\\rightsidemovies\\ar38motor\\2022_02_08\\56EYE.avi\n",
      "Loading  \\\\dk-server.dk.ucsd.edu\\afassihizakeri\\rightsidemovies\\ar38motor\\2022_02_08\\56EYE.avi\n",
      "Duration of video [s]:  8.62 , recorded with  40.0 fps!\n",
      "Overall # of frames:  345  found with (before cropping) frame dimensions:  200 200\n",
      "Starting to extract posture\n"
     ]
    },
    {
     "name": "stderr",
     "output_type": "stream",
     "text": [
      "350it [00:02, 124.98it/s]                                                                                              \n"
     ]
    },
    {
     "name": "stdout",
     "output_type": "stream",
     "text": [
      "Saving results in \\\\dk-server.dk.ucsd.edu\\afassihizakeri\\rightsidemovies\\ar38motor\\2022_02_08...\n",
      "Saving csv poses!\n",
      "Starting to analyze %  \\\\dk-server.dk.ucsd.edu\\afassihizakeri\\rightsidemovies\\ar38motor\\2022_02_08\\106EYE.avi\n",
      "Loading  \\\\dk-server.dk.ucsd.edu\\afassihizakeri\\rightsidemovies\\ar38motor\\2022_02_08\\106EYE.avi\n",
      "Duration of video [s]:  8.8 , recorded with  40.0 fps!\n",
      "Overall # of frames:  352  found with (before cropping) frame dimensions:  200 200\n",
      "Starting to extract posture\n"
     ]
    },
    {
     "name": "stderr",
     "output_type": "stream",
     "text": [
      "360it [00:02, 145.43it/s]                                                                                              \n"
     ]
    },
    {
     "name": "stdout",
     "output_type": "stream",
     "text": [
      "Saving results in \\\\dk-server.dk.ucsd.edu\\afassihizakeri\\rightsidemovies\\ar38motor\\2022_02_08...\n",
      "Saving csv poses!\n",
      "Starting to analyze %  \\\\dk-server.dk.ucsd.edu\\afassihizakeri\\rightsidemovies\\ar38motor\\2022_02_08\\96EYE.avi\n",
      "Loading  \\\\dk-server.dk.ucsd.edu\\afassihizakeri\\rightsidemovies\\ar38motor\\2022_02_08\\96EYE.avi\n",
      "Duration of video [s]:  12.5 , recorded with  40.0 fps!\n",
      "Overall # of frames:  500  found with (before cropping) frame dimensions:  200 200\n",
      "Starting to extract posture\n"
     ]
    },
    {
     "name": "stderr",
     "output_type": "stream",
     "text": [
      "510it [00:03, 144.25it/s]                                                                                              \n"
     ]
    },
    {
     "name": "stdout",
     "output_type": "stream",
     "text": [
      "Saving results in \\\\dk-server.dk.ucsd.edu\\afassihizakeri\\rightsidemovies\\ar38motor\\2022_02_08...\n",
      "Saving csv poses!\n",
      "Starting to analyze %  \\\\dk-server.dk.ucsd.edu\\afassihizakeri\\rightsidemovies\\ar38motor\\2022_02_08\\146EYE.avi\n",
      "Loading  \\\\dk-server.dk.ucsd.edu\\afassihizakeri\\rightsidemovies\\ar38motor\\2022_02_08\\146EYE.avi\n",
      "Duration of video [s]:  12.5 , recorded with  40.0 fps!\n",
      "Overall # of frames:  500  found with (before cropping) frame dimensions:  200 200\n",
      "Starting to extract posture\n"
     ]
    },
    {
     "name": "stderr",
     "output_type": "stream",
     "text": [
      "510it [00:03, 134.95it/s]                                                                                              \n"
     ]
    },
    {
     "name": "stdout",
     "output_type": "stream",
     "text": [
      "Saving results in \\\\dk-server.dk.ucsd.edu\\afassihizakeri\\rightsidemovies\\ar38motor\\2022_02_08...\n",
      "Saving csv poses!\n",
      "Starting to analyze %  \\\\dk-server.dk.ucsd.edu\\afassihizakeri\\rightsidemovies\\ar38motor\\2022_02_08\\171EYE.avi\n",
      "Loading  \\\\dk-server.dk.ucsd.edu\\afassihizakeri\\rightsidemovies\\ar38motor\\2022_02_08\\171EYE.avi\n",
      "Duration of video [s]:  11.45 , recorded with  40.0 fps!\n",
      "Overall # of frames:  458  found with (before cropping) frame dimensions:  200 200\n",
      "Starting to extract posture\n"
     ]
    },
    {
     "name": "stderr",
     "output_type": "stream",
     "text": [
      "460it [00:03, 130.59it/s]                                                                                              \n"
     ]
    },
    {
     "name": "stdout",
     "output_type": "stream",
     "text": [
      "Saving results in \\\\dk-server.dk.ucsd.edu\\afassihizakeri\\rightsidemovies\\ar38motor\\2022_02_08...\n",
      "Saving csv poses!\n",
      "Starting to analyze %  \\\\dk-server.dk.ucsd.edu\\afassihizakeri\\rightsidemovies\\ar38motor\\2022_02_08\\131EYE.avi\n",
      "Loading  \\\\dk-server.dk.ucsd.edu\\afassihizakeri\\rightsidemovies\\ar38motor\\2022_02_08\\131EYE.avi\n",
      "Duration of video [s]:  11.7 , recorded with  40.0 fps!\n",
      "Overall # of frames:  468  found with (before cropping) frame dimensions:  200 200\n",
      "Starting to extract posture\n"
     ]
    },
    {
     "name": "stderr",
     "output_type": "stream",
     "text": [
      "470it [00:03, 134.76it/s]                                                                                              \n"
     ]
    },
    {
     "name": "stdout",
     "output_type": "stream",
     "text": [
      "Saving results in \\\\dk-server.dk.ucsd.edu\\afassihizakeri\\rightsidemovies\\ar38motor\\2022_02_08...\n",
      "Saving csv poses!\n",
      "Starting to analyze %  \\\\dk-server.dk.ucsd.edu\\afassihizakeri\\rightsidemovies\\ar38motor\\2022_02_08\\61EYE.avi\n",
      "Loading  \\\\dk-server.dk.ucsd.edu\\afassihizakeri\\rightsidemovies\\ar38motor\\2022_02_08\\61EYE.avi\n",
      "Duration of video [s]:  11.0 , recorded with  40.0 fps!\n",
      "Overall # of frames:  440  found with (before cropping) frame dimensions:  200 200\n",
      "Starting to extract posture\n"
     ]
    },
    {
     "name": "stderr",
     "output_type": "stream",
     "text": [
      "450it [00:03, 144.79it/s]                                                                                              \n"
     ]
    },
    {
     "name": "stdout",
     "output_type": "stream",
     "text": [
      "Saving results in \\\\dk-server.dk.ucsd.edu\\afassihizakeri\\rightsidemovies\\ar38motor\\2022_02_08...\n",
      "Saving csv poses!\n",
      "Starting to analyze %  \\\\dk-server.dk.ucsd.edu\\afassihizakeri\\rightsidemovies\\ar38motor\\2022_02_08\\21EYE.avi\n",
      "Loading  \\\\dk-server.dk.ucsd.edu\\afassihizakeri\\rightsidemovies\\ar38motor\\2022_02_08\\21EYE.avi\n",
      "Duration of video [s]:  12.5 , recorded with  40.0 fps!\n",
      "Overall # of frames:  500  found with (before cropping) frame dimensions:  200 200\n",
      "Starting to extract posture\n"
     ]
    },
    {
     "name": "stderr",
     "output_type": "stream",
     "text": [
      "510it [00:03, 135.44it/s]                                                                                              \n"
     ]
    },
    {
     "name": "stdout",
     "output_type": "stream",
     "text": [
      "Saving results in \\\\dk-server.dk.ucsd.edu\\afassihizakeri\\rightsidemovies\\ar38motor\\2022_02_08...\n",
      "Saving csv poses!\n",
      "Starting to analyze %  \\\\dk-server.dk.ucsd.edu\\afassihizakeri\\rightsidemovies\\ar38motor\\2022_02_08\\77EYE.avi\n",
      "Loading  \\\\dk-server.dk.ucsd.edu\\afassihizakeri\\rightsidemovies\\ar38motor\\2022_02_08\\77EYE.avi\n",
      "Duration of video [s]:  12.5 , recorded with  40.0 fps!\n",
      "Overall # of frames:  500  found with (before cropping) frame dimensions:  200 200\n",
      "Starting to extract posture\n"
     ]
    },
    {
     "name": "stderr",
     "output_type": "stream",
     "text": [
      "510it [00:03, 144.25it/s]                                                                                              \n"
     ]
    },
    {
     "name": "stdout",
     "output_type": "stream",
     "text": [
      "Saving results in \\\\dk-server.dk.ucsd.edu\\afassihizakeri\\rightsidemovies\\ar38motor\\2022_02_08...\n",
      "Saving csv poses!\n",
      "Starting to analyze %  \\\\dk-server.dk.ucsd.edu\\afassihizakeri\\rightsidemovies\\ar38motor\\2022_02_08\\37EYE.avi\n",
      "Loading  \\\\dk-server.dk.ucsd.edu\\afassihizakeri\\rightsidemovies\\ar38motor\\2022_02_08\\37EYE.avi\n",
      "Duration of video [s]:  12.5 , recorded with  40.0 fps!\n",
      "Overall # of frames:  500  found with (before cropping) frame dimensions:  200 200\n",
      "Starting to extract posture\n"
     ]
    },
    {
     "name": "stderr",
     "output_type": "stream",
     "text": [
      "510it [00:03, 127.67it/s]                                                                                              \n"
     ]
    },
    {
     "name": "stdout",
     "output_type": "stream",
     "text": [
      "Saving results in \\\\dk-server.dk.ucsd.edu\\afassihizakeri\\rightsidemovies\\ar38motor\\2022_02_08...\n",
      "Saving csv poses!\n",
      "Starting to analyze %  \\\\dk-server.dk.ucsd.edu\\afassihizakeri\\rightsidemovies\\ar38motor\\2022_02_08\\6EYE.avi\n",
      "Loading  \\\\dk-server.dk.ucsd.edu\\afassihizakeri\\rightsidemovies\\ar38motor\\2022_02_08\\6EYE.avi\n",
      "Duration of video [s]:  10.2 , recorded with  40.0 fps!\n",
      "Overall # of frames:  408  found with (before cropping) frame dimensions:  200 200\n",
      "Starting to extract posture\n"
     ]
    },
    {
     "name": "stderr",
     "output_type": "stream",
     "text": [
      "410it [00:03, 132.93it/s]                                                                                              \n"
     ]
    },
    {
     "name": "stdout",
     "output_type": "stream",
     "text": [
      "Saving results in \\\\dk-server.dk.ucsd.edu\\afassihizakeri\\rightsidemovies\\ar38motor\\2022_02_08...\n",
      "Saving csv poses!\n",
      "Starting to analyze %  \\\\dk-server.dk.ucsd.edu\\afassihizakeri\\rightsidemovies\\ar38motor\\2022_02_08\\167EYE.avi\n",
      "Loading  \\\\dk-server.dk.ucsd.edu\\afassihizakeri\\rightsidemovies\\ar38motor\\2022_02_08\\167EYE.avi\n",
      "Duration of video [s]:  12.5 , recorded with  40.0 fps!\n",
      "Overall # of frames:  500  found with (before cropping) frame dimensions:  200 200\n",
      "Starting to extract posture\n"
     ]
    },
    {
     "name": "stderr",
     "output_type": "stream",
     "text": [
      "510it [00:03, 142.01it/s]                                                                                              \n"
     ]
    },
    {
     "name": "stdout",
     "output_type": "stream",
     "text": [
      "Saving results in \\\\dk-server.dk.ucsd.edu\\afassihizakeri\\rightsidemovies\\ar38motor\\2022_02_08...\n",
      "Saving csv poses!\n",
      "Starting to analyze %  \\\\dk-server.dk.ucsd.edu\\afassihizakeri\\rightsidemovies\\ar38motor\\2022_02_08\\127EYE.avi\n",
      "Loading  \\\\dk-server.dk.ucsd.edu\\afassihizakeri\\rightsidemovies\\ar38motor\\2022_02_08\\127EYE.avi\n",
      "Duration of video [s]:  9.3 , recorded with  40.0 fps!\n",
      "Overall # of frames:  372  found with (before cropping) frame dimensions:  200 200\n",
      "Starting to extract posture\n"
     ]
    },
    {
     "name": "stderr",
     "output_type": "stream",
     "text": [
      "380it [00:02, 144.87it/s]                                                                                              \n"
     ]
    },
    {
     "name": "stdout",
     "output_type": "stream",
     "text": [
      "Saving results in \\\\dk-server.dk.ucsd.edu\\afassihizakeri\\rightsidemovies\\ar38motor\\2022_02_08...\n",
      "Saving csv poses!\n",
      "Starting to analyze %  \\\\dk-server.dk.ucsd.edu\\afassihizakeri\\rightsidemovies\\ar38motor\\2022_02_08\\5EYE.avi\n",
      "Loading  \\\\dk-server.dk.ucsd.edu\\afassihizakeri\\rightsidemovies\\ar38motor\\2022_02_08\\5EYE.avi\n",
      "Duration of video [s]:  12.5 , recorded with  40.0 fps!\n",
      "Overall # of frames:  500  found with (before cropping) frame dimensions:  200 200\n",
      "Starting to extract posture\n"
     ]
    },
    {
     "name": "stderr",
     "output_type": "stream",
     "text": [
      "510it [00:03, 133.81it/s]                                                                                              \n"
     ]
    },
    {
     "name": "stdout",
     "output_type": "stream",
     "text": [
      "Saving results in \\\\dk-server.dk.ucsd.edu\\afassihizakeri\\rightsidemovies\\ar38motor\\2022_02_08...\n",
      "Saving csv poses!\n",
      "Starting to analyze %  \\\\dk-server.dk.ucsd.edu\\afassihizakeri\\rightsidemovies\\ar38motor\\2022_02_08\\164EYE.avi\n",
      "Loading  \\\\dk-server.dk.ucsd.edu\\afassihizakeri\\rightsidemovies\\ar38motor\\2022_02_08\\164EYE.avi\n",
      "Duration of video [s]:  12.5 , recorded with  40.0 fps!\n",
      "Overall # of frames:  500  found with (before cropping) frame dimensions:  200 200\n",
      "Starting to extract posture\n"
     ]
    },
    {
     "name": "stderr",
     "output_type": "stream",
     "text": [
      "510it [00:03, 135.68it/s]                                                                                              \n"
     ]
    },
    {
     "name": "stdout",
     "output_type": "stream",
     "text": [
      "Saving results in \\\\dk-server.dk.ucsd.edu\\afassihizakeri\\rightsidemovies\\ar38motor\\2022_02_08...\n",
      "Saving csv poses!\n",
      "Starting to analyze %  \\\\dk-server.dk.ucsd.edu\\afassihizakeri\\rightsidemovies\\ar38motor\\2022_02_08\\124EYE.avi\n",
      "Loading  \\\\dk-server.dk.ucsd.edu\\afassihizakeri\\rightsidemovies\\ar38motor\\2022_02_08\\124EYE.avi\n",
      "Duration of video [s]:  12.5 , recorded with  40.0 fps!\n",
      "Overall # of frames:  500  found with (before cropping) frame dimensions:  200 200\n",
      "Starting to extract posture\n"
     ]
    },
    {
     "name": "stderr",
     "output_type": "stream",
     "text": [
      "510it [00:03, 144.52it/s]                                                                                              \n"
     ]
    },
    {
     "name": "stdout",
     "output_type": "stream",
     "text": [
      "Saving results in \\\\dk-server.dk.ucsd.edu\\afassihizakeri\\rightsidemovies\\ar38motor\\2022_02_08...\n",
      "Saving csv poses!\n",
      "Starting to analyze %  \\\\dk-server.dk.ucsd.edu\\afassihizakeri\\rightsidemovies\\ar38motor\\2022_02_08\\74EYE.avi\n",
      "Loading  \\\\dk-server.dk.ucsd.edu\\afassihizakeri\\rightsidemovies\\ar38motor\\2022_02_08\\74EYE.avi\n",
      "Duration of video [s]:  11.97 , recorded with  40.0 fps!\n",
      "Overall # of frames:  479  found with (before cropping) frame dimensions:  200 200\n",
      "Starting to extract posture\n"
     ]
    },
    {
     "name": "stderr",
     "output_type": "stream",
     "text": [
      "480it [00:03, 142.71it/s]                                                                                              \n"
     ]
    },
    {
     "name": "stdout",
     "output_type": "stream",
     "text": [
      "Saving results in \\\\dk-server.dk.ucsd.edu\\afassihizakeri\\rightsidemovies\\ar38motor\\2022_02_08...\n",
      "Saving csv poses!\n",
      "Starting to analyze %  \\\\dk-server.dk.ucsd.edu\\afassihizakeri\\rightsidemovies\\ar38motor\\2022_02_08\\34EYE.avi\n",
      "Loading  \\\\dk-server.dk.ucsd.edu\\afassihizakeri\\rightsidemovies\\ar38motor\\2022_02_08\\34EYE.avi\n",
      "Duration of video [s]:  12.0 , recorded with  40.0 fps!\n",
      "Overall # of frames:  480  found with (before cropping) frame dimensions:  200 200\n",
      "Starting to extract posture\n"
     ]
    },
    {
     "name": "stderr",
     "output_type": "stream",
     "text": [
      "490it [00:03, 145.95it/s]                                                                                              \n"
     ]
    },
    {
     "name": "stdout",
     "output_type": "stream",
     "text": [
      "Saving results in \\\\dk-server.dk.ucsd.edu\\afassihizakeri\\rightsidemovies\\ar38motor\\2022_02_08...\n",
      "Saving csv poses!\n",
      "Starting to analyze %  \\\\dk-server.dk.ucsd.edu\\afassihizakeri\\rightsidemovies\\ar38motor\\2022_02_08\\129EYE.avi\n",
      "Loading  \\\\dk-server.dk.ucsd.edu\\afassihizakeri\\rightsidemovies\\ar38motor\\2022_02_08\\129EYE.avi\n",
      "Duration of video [s]:  12.5 , recorded with  40.0 fps!\n",
      "Overall # of frames:  500  found with (before cropping) frame dimensions:  200 200\n",
      "Starting to extract posture\n"
     ]
    },
    {
     "name": "stderr",
     "output_type": "stream",
     "text": [
      "510it [00:03, 133.59it/s]                                                                                              \n"
     ]
    },
    {
     "name": "stdout",
     "output_type": "stream",
     "text": [
      "Saving results in \\\\dk-server.dk.ucsd.edu\\afassihizakeri\\rightsidemovies\\ar38motor\\2022_02_08...\n",
      "Saving csv poses!\n",
      "Starting to analyze %  \\\\dk-server.dk.ucsd.edu\\afassihizakeri\\rightsidemovies\\ar38motor\\2022_02_08\\62EYE.avi\n",
      "Loading  \\\\dk-server.dk.ucsd.edu\\afassihizakeri\\rightsidemovies\\ar38motor\\2022_02_08\\62EYE.avi\n",
      "Duration of video [s]:  10.62 , recorded with  40.0 fps!\n",
      "Overall # of frames:  425  found with (before cropping) frame dimensions:  200 200\n",
      "Starting to extract posture\n"
     ]
    },
    {
     "name": "stderr",
     "output_type": "stream",
     "text": [
      "430it [00:03, 142.33it/s]                                                                                              \n"
     ]
    },
    {
     "name": "stdout",
     "output_type": "stream",
     "text": [
      "Saving results in \\\\dk-server.dk.ucsd.edu\\afassihizakeri\\rightsidemovies\\ar38motor\\2022_02_08...\n",
      "Saving csv poses!\n",
      "Starting to analyze %  \\\\dk-server.dk.ucsd.edu\\afassihizakeri\\rightsidemovies\\ar38motor\\2022_02_08\\22EYE.avi\n",
      "Loading  \\\\dk-server.dk.ucsd.edu\\afassihizakeri\\rightsidemovies\\ar38motor\\2022_02_08\\22EYE.avi\n",
      "Duration of video [s]:  12.5 , recorded with  40.0 fps!\n",
      "Overall # of frames:  500  found with (before cropping) frame dimensions:  200 200\n",
      "Starting to extract posture\n"
     ]
    },
    {
     "name": "stderr",
     "output_type": "stream",
     "text": [
      "510it [00:03, 144.53it/s]                                                                                              \n"
     ]
    },
    {
     "name": "stdout",
     "output_type": "stream",
     "text": [
      "Saving results in \\\\dk-server.dk.ucsd.edu\\afassihizakeri\\rightsidemovies\\ar38motor\\2022_02_08...\n",
      "Saving csv poses!\n",
      "Starting to analyze %  \\\\dk-server.dk.ucsd.edu\\afassihizakeri\\rightsidemovies\\ar38motor\\2022_02_08\\8EYE.avi\n",
      "Loading  \\\\dk-server.dk.ucsd.edu\\afassihizakeri\\rightsidemovies\\ar38motor\\2022_02_08\\8EYE.avi\n",
      "Duration of video [s]:  7.95 , recorded with  40.0 fps!\n",
      "Overall # of frames:  318  found with (before cropping) frame dimensions:  200 200\n",
      "Starting to extract posture\n"
     ]
    },
    {
     "name": "stderr",
     "output_type": "stream",
     "text": [
      "320it [00:02, 142.41it/s]                                                                                              \n"
     ]
    },
    {
     "name": "stdout",
     "output_type": "stream",
     "text": [
      "Saving results in \\\\dk-server.dk.ucsd.edu\\afassihizakeri\\rightsidemovies\\ar38motor\\2022_02_08...\n",
      "Saving csv poses!\n",
      "Starting to analyze %  \\\\dk-server.dk.ucsd.edu\\afassihizakeri\\rightsidemovies\\ar38motor\\2022_02_08\\169EYE.avi\n",
      "Loading  \\\\dk-server.dk.ucsd.edu\\afassihizakeri\\rightsidemovies\\ar38motor\\2022_02_08\\169EYE.avi\n",
      "Duration of video [s]:  10.57 , recorded with  40.0 fps!\n",
      "Overall # of frames:  423  found with (before cropping) frame dimensions:  200 200\n",
      "Starting to extract posture\n"
     ]
    },
    {
     "name": "stderr",
     "output_type": "stream",
     "text": [
      "430it [00:02, 144.02it/s]                                                                                              \n"
     ]
    },
    {
     "name": "stdout",
     "output_type": "stream",
     "text": [
      "Saving results in \\\\dk-server.dk.ucsd.edu\\afassihizakeri\\rightsidemovies\\ar38motor\\2022_02_08...\n",
      "Saving csv poses!\n",
      "Starting to analyze %  \\\\dk-server.dk.ucsd.edu\\afassihizakeri\\rightsidemovies\\ar38motor\\2022_02_08\\172EYE.avi\n",
      "Loading  \\\\dk-server.dk.ucsd.edu\\afassihizakeri\\rightsidemovies\\ar38motor\\2022_02_08\\172EYE.avi\n",
      "Duration of video [s]:  12.5 , recorded with  40.0 fps!\n",
      "Overall # of frames:  500  found with (before cropping) frame dimensions:  200 200\n",
      "Starting to extract posture\n"
     ]
    },
    {
     "name": "stderr",
     "output_type": "stream",
     "text": [
      "510it [00:03, 144.27it/s]                                                                                              \n"
     ]
    },
    {
     "name": "stdout",
     "output_type": "stream",
     "text": [
      "Saving results in \\\\dk-server.dk.ucsd.edu\\afassihizakeri\\rightsidemovies\\ar38motor\\2022_02_08...\n",
      "Saving csv poses!\n",
      "Starting to analyze %  \\\\dk-server.dk.ucsd.edu\\afassihizakeri\\rightsidemovies\\ar38motor\\2022_02_08\\39EYE.avi\n",
      "Loading  \\\\dk-server.dk.ucsd.edu\\afassihizakeri\\rightsidemovies\\ar38motor\\2022_02_08\\39EYE.avi\n",
      "Duration of video [s]:  12.5 , recorded with  40.0 fps!\n",
      "Overall # of frames:  500  found with (before cropping) frame dimensions:  200 200\n",
      "Starting to extract posture\n"
     ]
    },
    {
     "name": "stderr",
     "output_type": "stream",
     "text": [
      "510it [00:03, 144.44it/s]                                                                                              \n"
     ]
    },
    {
     "name": "stdout",
     "output_type": "stream",
     "text": [
      "Saving results in \\\\dk-server.dk.ucsd.edu\\afassihizakeri\\rightsidemovies\\ar38motor\\2022_02_08...\n",
      "Saving csv poses!\n",
      "Starting to analyze %  \\\\dk-server.dk.ucsd.edu\\afassihizakeri\\rightsidemovies\\ar38motor\\2022_02_08\\79EYE.avi\n",
      "Loading  \\\\dk-server.dk.ucsd.edu\\afassihizakeri\\rightsidemovies\\ar38motor\\2022_02_08\\79EYE.avi\n",
      "Duration of video [s]:  12.5 , recorded with  40.0 fps!\n",
      "Overall # of frames:  500  found with (before cropping) frame dimensions:  200 200\n",
      "Starting to extract posture\n"
     ]
    },
    {
     "name": "stderr",
     "output_type": "stream",
     "text": [
      "510it [00:03, 144.71it/s]                                                                                              \n"
     ]
    },
    {
     "name": "stdout",
     "output_type": "stream",
     "text": [
      "Saving results in \\\\dk-server.dk.ucsd.edu\\afassihizakeri\\rightsidemovies\\ar38motor\\2022_02_08...\n",
      "Saving csv poses!\n",
      "Starting to analyze %  \\\\dk-server.dk.ucsd.edu\\afassihizakeri\\rightsidemovies\\ar38motor\\2022_02_08\\132EYE.avi\n",
      "Loading  \\\\dk-server.dk.ucsd.edu\\afassihizakeri\\rightsidemovies\\ar38motor\\2022_02_08\\132EYE.avi\n",
      "Duration of video [s]:  11.85 , recorded with  40.0 fps!\n",
      "Overall # of frames:  474  found with (before cropping) frame dimensions:  200 200\n",
      "Starting to extract posture\n"
     ]
    },
    {
     "name": "stderr",
     "output_type": "stream",
     "text": [
      "480it [00:03, 131.76it/s]                                                                                              \n"
     ]
    },
    {
     "name": "stdout",
     "output_type": "stream",
     "text": [
      "Saving results in \\\\dk-server.dk.ucsd.edu\\afassihizakeri\\rightsidemovies\\ar38motor\\2022_02_08...\n",
      "Saving csv poses!\n",
      "Starting to analyze %  \\\\dk-server.dk.ucsd.edu\\afassihizakeri\\rightsidemovies\\ar38motor\\2022_02_08\\105EYE.avi\n",
      "Loading  \\\\dk-server.dk.ucsd.edu\\afassihizakeri\\rightsidemovies\\ar38motor\\2022_02_08\\105EYE.avi\n",
      "Duration of video [s]:  4.9 , recorded with  40.0 fps!\n",
      "Overall # of frames:  196  found with (before cropping) frame dimensions:  200 200\n",
      "Starting to extract posture\n"
     ]
    },
    {
     "name": "stderr",
     "output_type": "stream",
     "text": [
      "200it [00:01, 141.27it/s]                                                                                              \n"
     ]
    },
    {
     "name": "stdout",
     "output_type": "stream",
     "text": [
      "Saving results in \\\\dk-server.dk.ucsd.edu\\afassihizakeri\\rightsidemovies\\ar38motor\\2022_02_08...\n",
      "Saving csv poses!\n",
      "Starting to analyze %  \\\\dk-server.dk.ucsd.edu\\afassihizakeri\\rightsidemovies\\ar38motor\\2022_02_08\\145EYE.avi\n",
      "Loading  \\\\dk-server.dk.ucsd.edu\\afassihizakeri\\rightsidemovies\\ar38motor\\2022_02_08\\145EYE.avi\n",
      "Duration of video [s]:  11.35 , recorded with  40.0 fps!\n",
      "Overall # of frames:  454  found with (before cropping) frame dimensions:  200 200\n",
      "Starting to extract posture\n"
     ]
    },
    {
     "name": "stderr",
     "output_type": "stream",
     "text": [
      "460it [00:03, 125.86it/s]                                                                                              \n"
     ]
    },
    {
     "name": "stdout",
     "output_type": "stream",
     "text": [
      "Saving results in \\\\dk-server.dk.ucsd.edu\\afassihizakeri\\rightsidemovies\\ar38motor\\2022_02_08...\n",
      "Saving csv poses!\n",
      "Starting to analyze %  \\\\dk-server.dk.ucsd.edu\\afassihizakeri\\rightsidemovies\\ar38motor\\2022_02_08\\95EYE.avi\n",
      "Loading  \\\\dk-server.dk.ucsd.edu\\afassihizakeri\\rightsidemovies\\ar38motor\\2022_02_08\\95EYE.avi\n",
      "Duration of video [s]:  9.43 , recorded with  40.0 fps!\n",
      "Overall # of frames:  377  found with (before cropping) frame dimensions:  200 200\n",
      "Starting to extract posture\n"
     ]
    },
    {
     "name": "stderr",
     "output_type": "stream",
     "text": [
      "380it [00:02, 128.27it/s]                                                                                              \n"
     ]
    },
    {
     "name": "stdout",
     "output_type": "stream",
     "text": [
      "Saving results in \\\\dk-server.dk.ucsd.edu\\afassihizakeri\\rightsidemovies\\ar38motor\\2022_02_08...\n",
      "Saving csv poses!\n",
      "Starting to analyze %  \\\\dk-server.dk.ucsd.edu\\afassihizakeri\\rightsidemovies\\ar38motor\\2022_02_08\\15EYE.avi\n",
      "Loading  \\\\dk-server.dk.ucsd.edu\\afassihizakeri\\rightsidemovies\\ar38motor\\2022_02_08\\15EYE.avi\n",
      "Duration of video [s]:  5.25 , recorded with  40.0 fps!\n",
      "Overall # of frames:  210  found with (before cropping) frame dimensions:  200 200\n",
      "Starting to extract posture\n"
     ]
    },
    {
     "name": "stderr",
     "output_type": "stream",
     "text": [
      "220it [00:01, 145.77it/s]                                                                                              \n"
     ]
    },
    {
     "name": "stdout",
     "output_type": "stream",
     "text": [
      "Saving results in \\\\dk-server.dk.ucsd.edu\\afassihizakeri\\rightsidemovies\\ar38motor\\2022_02_08...\n",
      "Saving csv poses!\n",
      "Starting to analyze %  \\\\dk-server.dk.ucsd.edu\\afassihizakeri\\rightsidemovies\\ar38motor\\2022_02_08\\55EYE.avi\n",
      "Loading  \\\\dk-server.dk.ucsd.edu\\afassihizakeri\\rightsidemovies\\ar38motor\\2022_02_08\\55EYE.avi\n",
      "Duration of video [s]:  8.4 , recorded with  40.0 fps!\n",
      "Overall # of frames:  336  found with (before cropping) frame dimensions:  200 200\n",
      "Starting to extract posture\n"
     ]
    },
    {
     "name": "stderr",
     "output_type": "stream",
     "text": [
      "340it [00:02, 143.65it/s]                                                                                              \n"
     ]
    },
    {
     "name": "stdout",
     "output_type": "stream",
     "text": [
      "Saving results in \\\\dk-server.dk.ucsd.edu\\afassihizakeri\\rightsidemovies\\ar38motor\\2022_02_08...\n",
      "Saving csv poses!\n",
      "Starting to analyze %  \\\\dk-server.dk.ucsd.edu\\afassihizakeri\\rightsidemovies\\ar38motor\\2022_02_08\\148EYE.avi\n",
      "Loading  \\\\dk-server.dk.ucsd.edu\\afassihizakeri\\rightsidemovies\\ar38motor\\2022_02_08\\148EYE.avi\n",
      "Duration of video [s]:  9.8 , recorded with  40.0 fps!\n",
      "Overall # of frames:  392  found with (before cropping) frame dimensions:  200 200\n",
      "Starting to extract posture\n"
     ]
    },
    {
     "name": "stderr",
     "output_type": "stream",
     "text": [
      "400it [00:02, 146.18it/s]                                                                                              \n"
     ]
    },
    {
     "name": "stdout",
     "output_type": "stream",
     "text": [
      "Saving results in \\\\dk-server.dk.ucsd.edu\\afassihizakeri\\rightsidemovies\\ar38motor\\2022_02_08...\n",
      "Saving csv poses!\n",
      "Starting to analyze %  \\\\dk-server.dk.ucsd.edu\\afassihizakeri\\rightsidemovies\\ar38motor\\2022_02_08\\98EYE.avi\n",
      "Loading  \\\\dk-server.dk.ucsd.edu\\afassihizakeri\\rightsidemovies\\ar38motor\\2022_02_08\\98EYE.avi\n",
      "Duration of video [s]:  11.38 , recorded with  40.0 fps!\n",
      "Overall # of frames:  455  found with (before cropping) frame dimensions:  200 200\n",
      "Starting to extract posture\n"
     ]
    },
    {
     "name": "stderr",
     "output_type": "stream",
     "text": [
      "460it [00:03, 144.52it/s]                                                                                              \n"
     ]
    },
    {
     "name": "stdout",
     "output_type": "stream",
     "text": [
      "Saving results in \\\\dk-server.dk.ucsd.edu\\afassihizakeri\\rightsidemovies\\ar38motor\\2022_02_08...\n",
      "Saving csv poses!\n",
      "Starting to analyze %  \\\\dk-server.dk.ucsd.edu\\afassihizakeri\\rightsidemovies\\ar38motor\\2022_02_08\\108EYE.avi\n",
      "Loading  \\\\dk-server.dk.ucsd.edu\\afassihizakeri\\rightsidemovies\\ar38motor\\2022_02_08\\108EYE.avi\n",
      "Duration of video [s]:  12.38 , recorded with  40.0 fps!\n",
      "Overall # of frames:  495  found with (before cropping) frame dimensions:  200 200\n",
      "Starting to extract posture\n"
     ]
    },
    {
     "name": "stderr",
     "output_type": "stream",
     "text": [
      "500it [00:03, 143.97it/s]                                                                                              \n"
     ]
    },
    {
     "name": "stdout",
     "output_type": "stream",
     "text": [
      "Saving results in \\\\dk-server.dk.ucsd.edu\\afassihizakeri\\rightsidemovies\\ar38motor\\2022_02_08...\n",
      "Saving csv poses!\n",
      "Starting to analyze %  \\\\dk-server.dk.ucsd.edu\\afassihizakeri\\rightsidemovies\\ar38motor\\2022_02_08\\43EYE.avi\n",
      "Loading  \\\\dk-server.dk.ucsd.edu\\afassihizakeri\\rightsidemovies\\ar38motor\\2022_02_08\\43EYE.avi\n",
      "Duration of video [s]:  8.6 , recorded with  40.0 fps!\n",
      "Overall # of frames:  344  found with (before cropping) frame dimensions:  200 200\n",
      "Starting to extract posture\n"
     ]
    },
    {
     "name": "stderr",
     "output_type": "stream",
     "text": [
      "350it [00:02, 145.55it/s]                                                                                              \n"
     ]
    },
    {
     "name": "stdout",
     "output_type": "stream",
     "text": [
      "Saving results in \\\\dk-server.dk.ucsd.edu\\afassihizakeri\\rightsidemovies\\ar38motor\\2022_02_08...\n",
      "Saving csv poses!\n",
      "Starting to analyze %  \\\\dk-server.dk.ucsd.edu\\afassihizakeri\\rightsidemovies\\ar38motor\\2022_02_08\\58EYE.avi\n",
      "Loading  \\\\dk-server.dk.ucsd.edu\\afassihizakeri\\rightsidemovies\\ar38motor\\2022_02_08\\58EYE.avi\n",
      "Duration of video [s]:  12.5 , recorded with  40.0 fps!\n",
      "Overall # of frames:  500  found with (before cropping) frame dimensions:  200 200\n",
      "Starting to extract posture\n"
     ]
    },
    {
     "name": "stderr",
     "output_type": "stream",
     "text": [
      "510it [00:03, 135.04it/s]                                                                                              \n"
     ]
    },
    {
     "name": "stdout",
     "output_type": "stream",
     "text": [
      "Saving results in \\\\dk-server.dk.ucsd.edu\\afassihizakeri\\rightsidemovies\\ar38motor\\2022_02_08...\n",
      "Saving csv poses!\n",
      "Starting to analyze %  \\\\dk-server.dk.ucsd.edu\\afassihizakeri\\rightsidemovies\\ar38motor\\2022_02_08\\113EYE.avi\n",
      "Loading  \\\\dk-server.dk.ucsd.edu\\afassihizakeri\\rightsidemovies\\ar38motor\\2022_02_08\\113EYE.avi\n",
      "Duration of video [s]:  11.35 , recorded with  40.0 fps!\n",
      "Overall # of frames:  454  found with (before cropping) frame dimensions:  200 200\n",
      "Starting to extract posture\n"
     ]
    },
    {
     "name": "stderr",
     "output_type": "stream",
     "text": [
      "460it [00:03, 119.68it/s]                                                                                              \n"
     ]
    },
    {
     "name": "stdout",
     "output_type": "stream",
     "text": [
      "Saving results in \\\\dk-server.dk.ucsd.edu\\afassihizakeri\\rightsidemovies\\ar38motor\\2022_02_08...\n",
      "Saving csv poses!\n",
      "Starting to analyze %  \\\\dk-server.dk.ucsd.edu\\afassihizakeri\\rightsidemovies\\ar38motor\\2022_02_08\\153EYE.avi\n",
      "Loading  \\\\dk-server.dk.ucsd.edu\\afassihizakeri\\rightsidemovies\\ar38motor\\2022_02_08\\153EYE.avi\n",
      "Duration of video [s]:  8.55 , recorded with  40.0 fps!\n",
      "Overall # of frames:  342  found with (before cropping) frame dimensions:  200 200\n",
      "Starting to extract posture\n"
     ]
    },
    {
     "name": "stderr",
     "output_type": "stream",
     "text": [
      "350it [00:02, 145.00it/s]                                                                                              \n"
     ]
    },
    {
     "name": "stdout",
     "output_type": "stream",
     "text": [
      "Saving results in \\\\dk-server.dk.ucsd.edu\\afassihizakeri\\rightsidemovies\\ar38motor\\2022_02_08...\n",
      "Saving csv poses!\n",
      "Starting to analyze %  \\\\dk-server.dk.ucsd.edu\\afassihizakeri\\rightsidemovies\\ar38motor\\2022_02_08\\83EYE.avi\n",
      "Loading  \\\\dk-server.dk.ucsd.edu\\afassihizakeri\\rightsidemovies\\ar38motor\\2022_02_08\\83EYE.avi\n",
      "Duration of video [s]:  9.32 , recorded with  40.0 fps!\n",
      "Overall # of frames:  373  found with (before cropping) frame dimensions:  200 200\n",
      "Starting to extract posture\n"
     ]
    },
    {
     "name": "stderr",
     "output_type": "stream",
     "text": [
      "380it [00:02, 144.05it/s]                                                                                              \n"
     ]
    },
    {
     "name": "stdout",
     "output_type": "stream",
     "text": [
      "Saving results in \\\\dk-server.dk.ucsd.edu\\afassihizakeri\\rightsidemovies\\ar38motor\\2022_02_08...\n",
      "Saving csv poses!\n",
      "Starting to analyze %  \\\\dk-server.dk.ucsd.edu\\afassihizakeri\\rightsidemovies\\ar38motor\\2022_02_08\\18EYE.avi\n",
      "Loading  \\\\dk-server.dk.ucsd.edu\\afassihizakeri\\rightsidemovies\\ar38motor\\2022_02_08\\18EYE.avi\n",
      "Duration of video [s]:  11.57 , recorded with  40.0 fps!\n",
      "Overall # of frames:  463  found with (before cropping) frame dimensions:  200 200\n",
      "Starting to extract posture\n"
     ]
    },
    {
     "name": "stderr",
     "output_type": "stream",
     "text": [
      "470it [00:03, 145.25it/s]                                                                                              \n"
     ]
    },
    {
     "name": "stdout",
     "output_type": "stream",
     "text": [
      "Saving results in \\\\dk-server.dk.ucsd.edu\\afassihizakeri\\rightsidemovies\\ar38motor\\2022_02_08...\n",
      "Saving csv poses!\n",
      "Starting to analyze %  \\\\dk-server.dk.ucsd.edu\\afassihizakeri\\rightsidemovies\\ar38motor\\2022_02_08\\36EYE.avi\n",
      "Loading  \\\\dk-server.dk.ucsd.edu\\afassihizakeri\\rightsidemovies\\ar38motor\\2022_02_08\\36EYE.avi\n",
      "Duration of video [s]:  12.5 , recorded with  40.0 fps!\n",
      "Overall # of frames:  500  found with (before cropping) frame dimensions:  200 200\n",
      "Starting to extract posture\n"
     ]
    },
    {
     "name": "stderr",
     "output_type": "stream",
     "text": [
      "510it [00:03, 143.57it/s]                                                                                              \n"
     ]
    },
    {
     "name": "stdout",
     "output_type": "stream",
     "text": [
      "Saving results in \\\\dk-server.dk.ucsd.edu\\afassihizakeri\\rightsidemovies\\ar38motor\\2022_02_08...\n",
      "Saving csv poses!\n",
      "Starting to analyze %  \\\\dk-server.dk.ucsd.edu\\afassihizakeri\\rightsidemovies\\ar38motor\\2022_02_08\\76EYE.avi\n",
      "Loading  \\\\dk-server.dk.ucsd.edu\\afassihizakeri\\rightsidemovies\\ar38motor\\2022_02_08\\76EYE.avi\n",
      "Duration of video [s]:  9.38 , recorded with  40.0 fps!\n",
      "Overall # of frames:  375  found with (before cropping) frame dimensions:  200 200\n",
      "Starting to extract posture\n"
     ]
    },
    {
     "name": "stderr",
     "output_type": "stream",
     "text": [
      "380it [00:02, 133.17it/s]                                                                                              \n"
     ]
    },
    {
     "name": "stdout",
     "output_type": "stream",
     "text": [
      "Saving results in \\\\dk-server.dk.ucsd.edu\\afassihizakeri\\rightsidemovies\\ar38motor\\2022_02_08...\n",
      "Saving csv poses!\n",
      "Starting to analyze %  \\\\dk-server.dk.ucsd.edu\\afassihizakeri\\rightsidemovies\\ar38motor\\2022_02_08\\126EYE.avi\n",
      "Loading  \\\\dk-server.dk.ucsd.edu\\afassihizakeri\\rightsidemovies\\ar38motor\\2022_02_08\\126EYE.avi\n",
      "Duration of video [s]:  9.75 , recorded with  40.0 fps!\n",
      "Overall # of frames:  390  found with (before cropping) frame dimensions:  200 200\n",
      "Starting to extract posture\n"
     ]
    },
    {
     "name": "stderr",
     "output_type": "stream",
     "text": [
      "400it [00:03, 119.91it/s]                                                                                              \n"
     ]
    },
    {
     "name": "stdout",
     "output_type": "stream",
     "text": [
      "Saving results in \\\\dk-server.dk.ucsd.edu\\afassihizakeri\\rightsidemovies\\ar38motor\\2022_02_08...\n",
      "Saving csv poses!\n",
      "Starting to analyze %  \\\\dk-server.dk.ucsd.edu\\afassihizakeri\\rightsidemovies\\ar38motor\\2022_02_08\\166EYE.avi\n",
      "Loading  \\\\dk-server.dk.ucsd.edu\\afassihizakeri\\rightsidemovies\\ar38motor\\2022_02_08\\166EYE.avi\n",
      "Duration of video [s]:  12.5 , recorded with  40.0 fps!\n",
      "Overall # of frames:  500  found with (before cropping) frame dimensions:  200 200\n",
      "Starting to extract posture\n"
     ]
    },
    {
     "name": "stderr",
     "output_type": "stream",
     "text": [
      "510it [00:03, 128.88it/s]                                                                                              \n"
     ]
    },
    {
     "name": "stdout",
     "output_type": "stream",
     "text": [
      "Saving results in \\\\dk-server.dk.ucsd.edu\\afassihizakeri\\rightsidemovies\\ar38motor\\2022_02_08...\n",
      "Saving csv poses!\n",
      "Starting to analyze %  \\\\dk-server.dk.ucsd.edu\\afassihizakeri\\rightsidemovies\\ar38motor\\2022_02_08\\7EYE.avi\n",
      "Loading  \\\\dk-server.dk.ucsd.edu\\afassihizakeri\\rightsidemovies\\ar38motor\\2022_02_08\\7EYE.avi\n",
      "Duration of video [s]:  8.38 , recorded with  40.0 fps!\n",
      "Overall # of frames:  335  found with (before cropping) frame dimensions:  200 200\n",
      "Starting to extract posture\n"
     ]
    },
    {
     "name": "stderr",
     "output_type": "stream",
     "text": [
      "340it [00:02, 144.39it/s]                                                                                              \n"
     ]
    },
    {
     "name": "stdout",
     "output_type": "stream",
     "text": [
      "Saving results in \\\\dk-server.dk.ucsd.edu\\afassihizakeri\\rightsidemovies\\ar38motor\\2022_02_08...\n",
      "Saving csv poses!\n",
      "Starting to analyze %  \\\\dk-server.dk.ucsd.edu\\afassihizakeri\\rightsidemovies\\ar38motor\\2022_02_08\\130EYE.avi\n",
      "Loading  \\\\dk-server.dk.ucsd.edu\\afassihizakeri\\rightsidemovies\\ar38motor\\2022_02_08\\130EYE.avi\n",
      "Duration of video [s]:  8.88 , recorded with  40.0 fps!\n",
      "Overall # of frames:  355  found with (before cropping) frame dimensions:  200 200\n",
      "Starting to extract posture\n"
     ]
    },
    {
     "name": "stderr",
     "output_type": "stream",
     "text": [
      "360it [00:02, 142.56it/s]                                                                                              \n"
     ]
    },
    {
     "name": "stdout",
     "output_type": "stream",
     "text": [
      "Saving results in \\\\dk-server.dk.ucsd.edu\\afassihizakeri\\rightsidemovies\\ar38motor\\2022_02_08...\n",
      "Saving csv poses!\n",
      "Starting to analyze %  \\\\dk-server.dk.ucsd.edu\\afassihizakeri\\rightsidemovies\\ar38motor\\2022_02_08\\170EYE.avi\n",
      "Loading  \\\\dk-server.dk.ucsd.edu\\afassihizakeri\\rightsidemovies\\ar38motor\\2022_02_08\\170EYE.avi\n",
      "Duration of video [s]:  11.82 , recorded with  40.0 fps!\n",
      "Overall # of frames:  473  found with (before cropping) frame dimensions:  200 200\n",
      "Starting to extract posture\n"
     ]
    },
    {
     "name": "stderr",
     "output_type": "stream",
     "text": [
      "480it [00:03, 133.10it/s]                                                                                              \n"
     ]
    },
    {
     "name": "stdout",
     "output_type": "stream",
     "text": [
      "Saving results in \\\\dk-server.dk.ucsd.edu\\afassihizakeri\\rightsidemovies\\ar38motor\\2022_02_08...\n",
      "Saving csv poses!\n",
      "Starting to analyze %  \\\\dk-server.dk.ucsd.edu\\afassihizakeri\\rightsidemovies\\ar38motor\\2022_02_08\\20EYE.avi\n",
      "Loading  \\\\dk-server.dk.ucsd.edu\\afassihizakeri\\rightsidemovies\\ar38motor\\2022_02_08\\20EYE.avi\n",
      "Duration of video [s]:  10.5 , recorded with  40.0 fps!\n",
      "Overall # of frames:  420  found with (before cropping) frame dimensions:  200 200\n",
      "Starting to extract posture\n"
     ]
    },
    {
     "name": "stderr",
     "output_type": "stream",
     "text": [
      "430it [00:02, 145.21it/s]                                                                                              \n"
     ]
    },
    {
     "name": "stdout",
     "output_type": "stream",
     "text": [
      "Saving results in \\\\dk-server.dk.ucsd.edu\\afassihizakeri\\rightsidemovies\\ar38motor\\2022_02_08...\n",
      "Saving csv poses!\n",
      "Starting to analyze %  \\\\dk-server.dk.ucsd.edu\\afassihizakeri\\rightsidemovies\\ar38motor\\2022_02_08\\60EYE.avi\n",
      "Loading  \\\\dk-server.dk.ucsd.edu\\afassihizakeri\\rightsidemovies\\ar38motor\\2022_02_08\\60EYE.avi\n",
      "Duration of video [s]:  7.83 , recorded with  40.0 fps!\n",
      "Overall # of frames:  313  found with (before cropping) frame dimensions:  200 200\n",
      "Starting to extract posture\n"
     ]
    },
    {
     "name": "stderr",
     "output_type": "stream",
     "text": [
      "320it [00:02, 142.47it/s]                                                                                              \n"
     ]
    },
    {
     "name": "stdout",
     "output_type": "stream",
     "text": [
      "Saving results in \\\\dk-server.dk.ucsd.edu\\afassihizakeri\\rightsidemovies\\ar38motor\\2022_02_08...\n",
      "Saving csv poses!\n",
      "Starting to analyze %  \\\\dk-server.dk.ucsd.edu\\afassihizakeri\\rightsidemovies\\ar38motor\\2022_02_08\\57EYE.avi\n",
      "Loading  \\\\dk-server.dk.ucsd.edu\\afassihizakeri\\rightsidemovies\\ar38motor\\2022_02_08\\57EYE.avi\n",
      "Duration of video [s]:  12.43 , recorded with  40.0 fps!\n",
      "Overall # of frames:  497  found with (before cropping) frame dimensions:  200 200\n",
      "Starting to extract posture\n"
     ]
    },
    {
     "name": "stderr",
     "output_type": "stream",
     "text": [
      "500it [00:03, 141.98it/s]                                                                                              \n"
     ]
    },
    {
     "name": "stdout",
     "output_type": "stream",
     "text": [
      "Saving results in \\\\dk-server.dk.ucsd.edu\\afassihizakeri\\rightsidemovies\\ar38motor\\2022_02_08...\n",
      "Saving csv poses!\n",
      "Starting to analyze %  \\\\dk-server.dk.ucsd.edu\\afassihizakeri\\rightsidemovies\\ar38motor\\2022_02_08\\17EYE.avi\n",
      "Loading  \\\\dk-server.dk.ucsd.edu\\afassihizakeri\\rightsidemovies\\ar38motor\\2022_02_08\\17EYE.avi\n",
      "Duration of video [s]:  11.0 , recorded with  40.0 fps!\n",
      "Overall # of frames:  440  found with (before cropping) frame dimensions:  200 200\n",
      "Starting to extract posture\n"
     ]
    },
    {
     "name": "stderr",
     "output_type": "stream",
     "text": [
      "450it [00:03, 146.64it/s]                                                                                              \n"
     ]
    },
    {
     "name": "stdout",
     "output_type": "stream",
     "text": [
      "Saving results in \\\\dk-server.dk.ucsd.edu\\afassihizakeri\\rightsidemovies\\ar38motor\\2022_02_08...\n",
      "Saving csv poses!\n",
      "Starting to analyze %  \\\\dk-server.dk.ucsd.edu\\afassihizakeri\\rightsidemovies\\ar38motor\\2022_02_08\\147EYE.avi\n",
      "Loading  \\\\dk-server.dk.ucsd.edu\\afassihizakeri\\rightsidemovies\\ar38motor\\2022_02_08\\147EYE.avi\n",
      "Duration of video [s]:  9.88 , recorded with  40.0 fps!\n",
      "Overall # of frames:  395  found with (before cropping) frame dimensions:  200 200\n",
      "Starting to extract posture\n"
     ]
    },
    {
     "name": "stderr",
     "output_type": "stream",
     "text": [
      "400it [00:02, 143.86it/s]                                                                                              \n"
     ]
    },
    {
     "name": "stdout",
     "output_type": "stream",
     "text": [
      "Saving results in \\\\dk-server.dk.ucsd.edu\\afassihizakeri\\rightsidemovies\\ar38motor\\2022_02_08...\n",
      "Saving csv poses!\n",
      "Starting to analyze %  \\\\dk-server.dk.ucsd.edu\\afassihizakeri\\rightsidemovies\\ar38motor\\2022_02_08\\97EYE.avi\n",
      "Loading  \\\\dk-server.dk.ucsd.edu\\afassihizakeri\\rightsidemovies\\ar38motor\\2022_02_08\\97EYE.avi\n",
      "Duration of video [s]:  12.5 , recorded with  40.0 fps!\n",
      "Overall # of frames:  500  found with (before cropping) frame dimensions:  200 200\n",
      "Starting to extract posture\n"
     ]
    },
    {
     "name": "stderr",
     "output_type": "stream",
     "text": [
      "510it [00:03, 144.12it/s]                                                                                              \n"
     ]
    },
    {
     "name": "stdout",
     "output_type": "stream",
     "text": [
      "Saving results in \\\\dk-server.dk.ucsd.edu\\afassihizakeri\\rightsidemovies\\ar38motor\\2022_02_08...\n",
      "Saving csv poses!\n",
      "Starting to analyze %  \\\\dk-server.dk.ucsd.edu\\afassihizakeri\\rightsidemovies\\ar38motor\\2022_02_08\\107EYE.avi\n",
      "Loading  \\\\dk-server.dk.ucsd.edu\\afassihizakeri\\rightsidemovies\\ar38motor\\2022_02_08\\107EYE.avi\n",
      "Duration of video [s]:  10.8 , recorded with  40.0 fps!\n",
      "Overall # of frames:  432  found with (before cropping) frame dimensions:  200 200\n",
      "Starting to extract posture\n"
     ]
    },
    {
     "name": "stderr",
     "output_type": "stream",
     "text": [
      "440it [00:03, 145.21it/s]                                                                                              \n"
     ]
    },
    {
     "name": "stdout",
     "output_type": "stream",
     "text": [
      "Saving results in \\\\dk-server.dk.ucsd.edu\\afassihizakeri\\rightsidemovies\\ar38motor\\2022_02_08...\n",
      "Saving csv poses!\n",
      "Starting to analyze %  \\\\dk-server.dk.ucsd.edu\\afassihizakeri\\rightsidemovies\\ar38motor\\2022_02_08\\151EYE.avi\n",
      "Loading  \\\\dk-server.dk.ucsd.edu\\afassihizakeri\\rightsidemovies\\ar38motor\\2022_02_08\\151EYE.avi\n",
      "Duration of video [s]:  10.32 , recorded with  40.0 fps!\n",
      "Overall # of frames:  413  found with (before cropping) frame dimensions:  200 200\n",
      "Starting to extract posture\n"
     ]
    },
    {
     "name": "stderr",
     "output_type": "stream",
     "text": [
      "420it [00:03, 133.81it/s]                                                                                              \n"
     ]
    },
    {
     "name": "stdout",
     "output_type": "stream",
     "text": [
      "Saving results in \\\\dk-server.dk.ucsd.edu\\afassihizakeri\\rightsidemovies\\ar38motor\\2022_02_08...\n",
      "Saving csv poses!\n",
      "Starting to analyze %  \\\\dk-server.dk.ucsd.edu\\afassihizakeri\\rightsidemovies\\ar38motor\\2022_02_08\\81EYE.avi\n",
      "Loading  \\\\dk-server.dk.ucsd.edu\\afassihizakeri\\rightsidemovies\\ar38motor\\2022_02_08\\81EYE.avi\n",
      "Duration of video [s]:  12.5 , recorded with  40.0 fps!\n",
      "Overall # of frames:  500  found with (before cropping) frame dimensions:  200 200\n",
      "Starting to extract posture\n"
     ]
    },
    {
     "name": "stderr",
     "output_type": "stream",
     "text": [
      "510it [00:03, 144.00it/s]                                                                                              \n"
     ]
    },
    {
     "name": "stdout",
     "output_type": "stream",
     "text": [
      "Saving results in \\\\dk-server.dk.ucsd.edu\\afassihizakeri\\rightsidemovies\\ar38motor\\2022_02_08...\n",
      "Saving csv poses!\n",
      "Starting to analyze %  \\\\dk-server.dk.ucsd.edu\\afassihizakeri\\rightsidemovies\\ar38motor\\2022_02_08\\111EYE.avi\n",
      "Loading  \\\\dk-server.dk.ucsd.edu\\afassihizakeri\\rightsidemovies\\ar38motor\\2022_02_08\\111EYE.avi\n",
      "Duration of video [s]:  11.05 , recorded with  40.0 fps!\n",
      "Overall # of frames:  442  found with (before cropping) frame dimensions:  200 200\n",
      "Starting to extract posture\n"
     ]
    },
    {
     "name": "stderr",
     "output_type": "stream",
     "text": [
      "450it [00:03, 135.04it/s]                                                                                              \n"
     ]
    },
    {
     "name": "stdout",
     "output_type": "stream",
     "text": [
      "Saving results in \\\\dk-server.dk.ucsd.edu\\afassihizakeri\\rightsidemovies\\ar38motor\\2022_02_08...\n",
      "Saving csv poses!\n",
      "Starting to analyze %  \\\\dk-server.dk.ucsd.edu\\afassihizakeri\\rightsidemovies\\ar38motor\\2022_02_08\\41EYE.avi\n",
      "Loading  \\\\dk-server.dk.ucsd.edu\\afassihizakeri\\rightsidemovies\\ar38motor\\2022_02_08\\41EYE.avi\n",
      "Duration of video [s]:  12.5 , recorded with  40.0 fps!\n",
      "Overall # of frames:  500  found with (before cropping) frame dimensions:  200 200\n",
      "Starting to extract posture\n"
     ]
    },
    {
     "name": "stderr",
     "output_type": "stream",
     "text": [
      "510it [00:04, 126.38it/s]                                                                                              \n"
     ]
    },
    {
     "name": "stdout",
     "output_type": "stream",
     "text": [
      "Saving results in \\\\dk-server.dk.ucsd.edu\\afassihizakeri\\rightsidemovies\\ar38motor\\2022_02_08...\n",
      "Saving csv poses!\n",
      "Starting to analyze %  \\\\dk-server.dk.ucsd.edu\\afassihizakeri\\rightsidemovies\\ar38motor\\2022_02_08\\136EYE.avi\n",
      "Loading  \\\\dk-server.dk.ucsd.edu\\afassihizakeri\\rightsidemovies\\ar38motor\\2022_02_08\\136EYE.avi\n",
      "Duration of video [s]:  12.5 , recorded with  40.0 fps!\n",
      "Overall # of frames:  500  found with (before cropping) frame dimensions:  200 200\n",
      "Starting to extract posture\n"
     ]
    },
    {
     "name": "stderr",
     "output_type": "stream",
     "text": [
      "510it [00:03, 145.19it/s]                                                                                              \n"
     ]
    },
    {
     "name": "stdout",
     "output_type": "stream",
     "text": [
      "Saving results in \\\\dk-server.dk.ucsd.edu\\afassihizakeri\\rightsidemovies\\ar38motor\\2022_02_08...\n",
      "Saving csv poses!\n",
      "Starting to analyze %  \\\\dk-server.dk.ucsd.edu\\afassihizakeri\\rightsidemovies\\ar38motor\\2022_02_08\\176EYE.avi\n",
      "Loading  \\\\dk-server.dk.ucsd.edu\\afassihizakeri\\rightsidemovies\\ar38motor\\2022_02_08\\176EYE.avi\n",
      "Duration of video [s]:  8.68 , recorded with  40.0 fps!\n",
      "Overall # of frames:  347  found with (before cropping) frame dimensions:  200 200\n",
      "Starting to extract posture\n"
     ]
    },
    {
     "name": "stderr",
     "output_type": "stream",
     "text": [
      "350it [00:02, 142.18it/s]                                                                                              \n"
     ]
    },
    {
     "name": "stdout",
     "output_type": "stream",
     "text": [
      "Saving results in \\\\dk-server.dk.ucsd.edu\\afassihizakeri\\rightsidemovies\\ar38motor\\2022_02_08...\n",
      "Saving csv poses!\n",
      "Starting to analyze %  \\\\dk-server.dk.ucsd.edu\\afassihizakeri\\rightsidemovies\\ar38motor\\2022_02_08\\26EYE.avi\n",
      "Loading  \\\\dk-server.dk.ucsd.edu\\afassihizakeri\\rightsidemovies\\ar38motor\\2022_02_08\\26EYE.avi\n",
      "Duration of video [s]:  10.03 , recorded with  40.0 fps!\n",
      "Overall # of frames:  401  found with (before cropping) frame dimensions:  200 200\n",
      "Starting to extract posture\n"
     ]
    },
    {
     "name": "stderr",
     "output_type": "stream",
     "text": [
      "410it [00:02, 143.59it/s]                                                                                              \n"
     ]
    },
    {
     "name": "stdout",
     "output_type": "stream",
     "text": [
      "Saving results in \\\\dk-server.dk.ucsd.edu\\afassihizakeri\\rightsidemovies\\ar38motor\\2022_02_08...\n",
      "Saving csv poses!\n",
      "Starting to analyze %  \\\\dk-server.dk.ucsd.edu\\afassihizakeri\\rightsidemovies\\ar38motor\\2022_02_08\\66EYE.avi\n",
      "Loading  \\\\dk-server.dk.ucsd.edu\\afassihizakeri\\rightsidemovies\\ar38motor\\2022_02_08\\66EYE.avi\n",
      "Duration of video [s]:  3.62 , recorded with  40.0 fps!\n",
      "Overall # of frames:  145  found with (before cropping) frame dimensions:  200 200\n",
      "Starting to extract posture\n"
     ]
    },
    {
     "name": "stderr",
     "output_type": "stream",
     "text": [
      "150it [00:01, 139.64it/s]                                                                                              \n"
     ]
    },
    {
     "name": "stdout",
     "output_type": "stream",
     "text": [
      "Saving results in \\\\dk-server.dk.ucsd.edu\\afassihizakeri\\rightsidemovies\\ar38motor\\2022_02_08...\n",
      "Saving csv poses!\n",
      "Starting to analyze %  \\\\dk-server.dk.ucsd.edu\\afassihizakeri\\rightsidemovies\\ar38motor\\2022_02_08\\30EYE.avi\n",
      "Loading  \\\\dk-server.dk.ucsd.edu\\afassihizakeri\\rightsidemovies\\ar38motor\\2022_02_08\\30EYE.avi\n",
      "Duration of video [s]:  9.47 , recorded with  40.0 fps!\n",
      "Overall # of frames:  379  found with (before cropping) frame dimensions:  200 200\n",
      "Starting to extract posture\n"
     ]
    },
    {
     "name": "stderr",
     "output_type": "stream",
     "text": [
      "380it [00:02, 140.59it/s]                                                                                              \n"
     ]
    },
    {
     "name": "stdout",
     "output_type": "stream",
     "text": [
      "Saving results in \\\\dk-server.dk.ucsd.edu\\afassihizakeri\\rightsidemovies\\ar38motor\\2022_02_08...\n",
      "Saving csv poses!\n",
      "Starting to analyze %  \\\\dk-server.dk.ucsd.edu\\afassihizakeri\\rightsidemovies\\ar38motor\\2022_02_08\\70EYE.avi\n",
      "Loading  \\\\dk-server.dk.ucsd.edu\\afassihizakeri\\rightsidemovies\\ar38motor\\2022_02_08\\70EYE.avi\n",
      "Duration of video [s]:  12.5 , recorded with  40.0 fps!\n",
      "Overall # of frames:  500  found with (before cropping) frame dimensions:  200 200\n",
      "Starting to extract posture\n"
     ]
    },
    {
     "name": "stderr",
     "output_type": "stream",
     "text": [
      "510it [00:03, 139.27it/s]                                                                                              \n"
     ]
    },
    {
     "name": "stdout",
     "output_type": "stream",
     "text": [
      "Saving results in \\\\dk-server.dk.ucsd.edu\\afassihizakeri\\rightsidemovies\\ar38motor\\2022_02_08...\n",
      "Saving csv poses!\n",
      "Starting to analyze %  \\\\dk-server.dk.ucsd.edu\\afassihizakeri\\rightsidemovies\\ar38motor\\2022_02_08\\120EYE.avi\n",
      "Loading  \\\\dk-server.dk.ucsd.edu\\afassihizakeri\\rightsidemovies\\ar38motor\\2022_02_08\\120EYE.avi\n",
      "Duration of video [s]:  10.5 , recorded with  40.0 fps!\n",
      "Overall # of frames:  420  found with (before cropping) frame dimensions:  200 200\n",
      "Starting to extract posture\n"
     ]
    },
    {
     "name": "stderr",
     "output_type": "stream",
     "text": [
      "430it [00:02, 144.58it/s]                                                                                              \n"
     ]
    },
    {
     "name": "stdout",
     "output_type": "stream",
     "text": [
      "Saving results in \\\\dk-server.dk.ucsd.edu\\afassihizakeri\\rightsidemovies\\ar38motor\\2022_02_08...\n",
      "Saving csv poses!\n",
      "Starting to analyze %  \\\\dk-server.dk.ucsd.edu\\afassihizakeri\\rightsidemovies\\ar38motor\\2022_02_08\\1EYE.avi\n",
      "Loading  \\\\dk-server.dk.ucsd.edu\\afassihizakeri\\rightsidemovies\\ar38motor\\2022_02_08\\1EYE.avi\n",
      "Duration of video [s]:  12.3 , recorded with  40.0 fps!\n",
      "Overall # of frames:  492  found with (before cropping) frame dimensions:  200 200\n",
      "Starting to extract posture\n"
     ]
    },
    {
     "name": "stderr",
     "output_type": "stream",
     "text": [
      "500it [00:03, 133.89it/s]                                                                                              \n"
     ]
    },
    {
     "name": "stdout",
     "output_type": "stream",
     "text": [
      "Saving results in \\\\dk-server.dk.ucsd.edu\\afassihizakeri\\rightsidemovies\\ar38motor\\2022_02_08...\n",
      "Saving csv poses!\n",
      "Starting to analyze %  \\\\dk-server.dk.ucsd.edu\\afassihizakeri\\rightsidemovies\\ar38motor\\2022_02_08\\160EYE.avi\n",
      "Loading  \\\\dk-server.dk.ucsd.edu\\afassihizakeri\\rightsidemovies\\ar38motor\\2022_02_08\\160EYE.avi\n",
      "Duration of video [s]:  10.55 , recorded with  40.0 fps!\n",
      "Overall # of frames:  422  found with (before cropping) frame dimensions:  200 200\n",
      "Starting to extract posture\n"
     ]
    },
    {
     "name": "stderr",
     "output_type": "stream",
     "text": [
      "430it [00:03, 133.37it/s]                                                                                              \n"
     ]
    },
    {
     "name": "stdout",
     "output_type": "stream",
     "text": [
      "Saving results in \\\\dk-server.dk.ucsd.edu\\afassihizakeri\\rightsidemovies\\ar38motor\\2022_02_08...\n",
      "Saving csv poses!\n",
      "Starting to analyze %  \\\\dk-server.dk.ucsd.edu\\afassihizakeri\\rightsidemovies\\ar38motor\\2022_02_08\\157EYE.avi\n",
      "Loading  \\\\dk-server.dk.ucsd.edu\\afassihizakeri\\rightsidemovies\\ar38motor\\2022_02_08\\157EYE.avi\n",
      "Duration of video [s]:  10.15 , recorded with  40.0 fps!\n",
      "Overall # of frames:  406  found with (before cropping) frame dimensions:  200 200\n",
      "Starting to extract posture\n"
     ]
    },
    {
     "name": "stderr",
     "output_type": "stream",
     "text": [
      "410it [00:02, 143.14it/s]                                                                                              \n"
     ]
    },
    {
     "name": "stdout",
     "output_type": "stream",
     "text": [
      "Saving results in \\\\dk-server.dk.ucsd.edu\\afassihizakeri\\rightsidemovies\\ar38motor\\2022_02_08...\n",
      "Saving csv poses!\n",
      "Starting to analyze %  \\\\dk-server.dk.ucsd.edu\\afassihizakeri\\rightsidemovies\\ar38motor\\2022_02_08\\87EYE.avi\n",
      "Loading  \\\\dk-server.dk.ucsd.edu\\afassihizakeri\\rightsidemovies\\ar38motor\\2022_02_08\\87EYE.avi\n",
      "Duration of video [s]:  12.5 , recorded with  40.0 fps!\n",
      "Overall # of frames:  500  found with (before cropping) frame dimensions:  200 200\n",
      "Starting to extract posture\n"
     ]
    },
    {
     "name": "stderr",
     "output_type": "stream",
     "text": [
      "510it [00:03, 143.16it/s]                                                                                              \n"
     ]
    },
    {
     "name": "stdout",
     "output_type": "stream",
     "text": [
      "Saving results in \\\\dk-server.dk.ucsd.edu\\afassihizakeri\\rightsidemovies\\ar38motor\\2022_02_08...\n",
      "Saving csv poses!\n",
      "Starting to analyze %  \\\\dk-server.dk.ucsd.edu\\afassihizakeri\\rightsidemovies\\ar38motor\\2022_02_08\\117EYE.avi\n",
      "Loading  \\\\dk-server.dk.ucsd.edu\\afassihizakeri\\rightsidemovies\\ar38motor\\2022_02_08\\117EYE.avi\n",
      "Duration of video [s]:  10.62 , recorded with  40.0 fps!\n",
      "Overall # of frames:  425  found with (before cropping) frame dimensions:  200 200\n",
      "Starting to extract posture\n"
     ]
    },
    {
     "name": "stderr",
     "output_type": "stream",
     "text": [
      "430it [00:03, 128.69it/s]                                                                                              \n"
     ]
    },
    {
     "name": "stdout",
     "output_type": "stream",
     "text": [
      "Saving results in \\\\dk-server.dk.ucsd.edu\\afassihizakeri\\rightsidemovies\\ar38motor\\2022_02_08...\n",
      "Saving csv poses!\n",
      "Starting to analyze %  \\\\dk-server.dk.ucsd.edu\\afassihizakeri\\rightsidemovies\\ar38motor\\2022_02_08\\47EYE.avi\n",
      "Loading  \\\\dk-server.dk.ucsd.edu\\afassihizakeri\\rightsidemovies\\ar38motor\\2022_02_08\\47EYE.avi\n",
      "Duration of video [s]:  12.5 , recorded with  40.0 fps!\n",
      "Overall # of frames:  500  found with (before cropping) frame dimensions:  200 200\n",
      "Starting to extract posture\n"
     ]
    },
    {
     "name": "stderr",
     "output_type": "stream",
     "text": [
      "510it [00:03, 129.54it/s]                                                                                              \n"
     ]
    },
    {
     "name": "stdout",
     "output_type": "stream",
     "text": [
      "Saving results in \\\\dk-server.dk.ucsd.edu\\afassihizakeri\\rightsidemovies\\ar38motor\\2022_02_08...\n",
      "Saving csv poses!\n",
      "Starting to analyze %  \\\\dk-server.dk.ucsd.edu\\afassihizakeri\\rightsidemovies\\ar38motor\\2022_02_08\\51EYE.avi\n",
      "Loading  \\\\dk-server.dk.ucsd.edu\\afassihizakeri\\rightsidemovies\\ar38motor\\2022_02_08\\51EYE.avi\n",
      "Duration of video [s]:  12.5 , recorded with  40.0 fps!\n",
      "Overall # of frames:  500  found with (before cropping) frame dimensions:  200 200\n",
      "Starting to extract posture\n"
     ]
    },
    {
     "name": "stderr",
     "output_type": "stream",
     "text": [
      "510it [00:03, 144.67it/s]                                                                                              \n"
     ]
    },
    {
     "name": "stdout",
     "output_type": "stream",
     "text": [
      "Saving results in \\\\dk-server.dk.ucsd.edu\\afassihizakeri\\rightsidemovies\\ar38motor\\2022_02_08...\n",
      "Saving csv poses!\n",
      "Starting to analyze %  \\\\dk-server.dk.ucsd.edu\\afassihizakeri\\rightsidemovies\\ar38motor\\2022_02_08\\11EYE.avi\n",
      "Loading  \\\\dk-server.dk.ucsd.edu\\afassihizakeri\\rightsidemovies\\ar38motor\\2022_02_08\\11EYE.avi\n",
      "Duration of video [s]:  9.0 , recorded with  40.0 fps!\n",
      "Overall # of frames:  360  found with (before cropping) frame dimensions:  200 200\n",
      "Starting to extract posture\n"
     ]
    },
    {
     "name": "stderr",
     "output_type": "stream",
     "text": [
      "370it [00:02, 136.85it/s]                                                                                              \n"
     ]
    },
    {
     "name": "stdout",
     "output_type": "stream",
     "text": [
      "Saving results in \\\\dk-server.dk.ucsd.edu\\afassihizakeri\\rightsidemovies\\ar38motor\\2022_02_08...\n",
      "Saving csv poses!\n",
      "Starting to analyze %  \\\\dk-server.dk.ucsd.edu\\afassihizakeri\\rightsidemovies\\ar38motor\\2022_02_08\\141EYE.avi\n",
      "Loading  \\\\dk-server.dk.ucsd.edu\\afassihizakeri\\rightsidemovies\\ar38motor\\2022_02_08\\141EYE.avi\n",
      "Duration of video [s]:  9.07 , recorded with  40.0 fps!\n",
      "Overall # of frames:  363  found with (before cropping) frame dimensions:  200 200\n",
      "Starting to extract posture\n"
     ]
    },
    {
     "name": "stderr",
     "output_type": "stream",
     "text": [
      "370it [00:02, 133.91it/s]                                                                                              \n"
     ]
    },
    {
     "name": "stdout",
     "output_type": "stream",
     "text": [
      "Saving results in \\\\dk-server.dk.ucsd.edu\\afassihizakeri\\rightsidemovies\\ar38motor\\2022_02_08...\n",
      "Saving csv poses!\n",
      "Starting to analyze %  \\\\dk-server.dk.ucsd.edu\\afassihizakeri\\rightsidemovies\\ar38motor\\2022_02_08\\91EYE.avi\n",
      "Loading  \\\\dk-server.dk.ucsd.edu\\afassihizakeri\\rightsidemovies\\ar38motor\\2022_02_08\\91EYE.avi\n",
      "Duration of video [s]:  12.1 , recorded with  40.0 fps!\n",
      "Overall # of frames:  484  found with (before cropping) frame dimensions:  200 200\n",
      "Starting to extract posture\n"
     ]
    },
    {
     "name": "stderr",
     "output_type": "stream",
     "text": [
      "490it [00:03, 136.48it/s]                                                                                              \n"
     ]
    },
    {
     "name": "stdout",
     "output_type": "stream",
     "text": [
      "Saving results in \\\\dk-server.dk.ucsd.edu\\afassihizakeri\\rightsidemovies\\ar38motor\\2022_02_08...\n",
      "Saving csv poses!\n",
      "Starting to analyze %  \\\\dk-server.dk.ucsd.edu\\afassihizakeri\\rightsidemovies\\ar38motor\\2022_02_08\\101EYE.avi\n",
      "Loading  \\\\dk-server.dk.ucsd.edu\\afassihizakeri\\rightsidemovies\\ar38motor\\2022_02_08\\101EYE.avi\n",
      "Duration of video [s]:  8.03 , recorded with  40.0 fps!\n",
      "Overall # of frames:  321  found with (before cropping) frame dimensions:  200 200\n",
      "Starting to extract posture\n"
     ]
    },
    {
     "name": "stderr",
     "output_type": "stream",
     "text": [
      "330it [00:02, 142.65it/s]                                                                                              \n"
     ]
    },
    {
     "name": "stdout",
     "output_type": "stream",
     "text": [
      "Saving results in \\\\dk-server.dk.ucsd.edu\\afassihizakeri\\rightsidemovies\\ar38motor\\2022_02_08...\n",
      "Saving csv poses!\n",
      "Starting to analyze %  \\\\dk-server.dk.ucsd.edu\\afassihizakeri\\rightsidemovies\\ar38motor\\2022_02_08\\64EYE.avi\n",
      "Loading  \\\\dk-server.dk.ucsd.edu\\afassihizakeri\\rightsidemovies\\ar38motor\\2022_02_08\\64EYE.avi\n",
      "Duration of video [s]:  8.1 , recorded with  40.0 fps!\n",
      "Overall # of frames:  324  found with (before cropping) frame dimensions:  200 200\n",
      "Starting to extract posture\n"
     ]
    },
    {
     "name": "stderr",
     "output_type": "stream",
     "text": [
      "330it [00:02, 141.44it/s]                                                                                              \n"
     ]
    },
    {
     "name": "stdout",
     "output_type": "stream",
     "text": [
      "Saving results in \\\\dk-server.dk.ucsd.edu\\afassihizakeri\\rightsidemovies\\ar38motor\\2022_02_08...\n",
      "Saving csv poses!\n",
      "Starting to analyze %  \\\\dk-server.dk.ucsd.edu\\afassihizakeri\\rightsidemovies\\ar38motor\\2022_02_08\\24EYE.avi\n",
      "Loading  \\\\dk-server.dk.ucsd.edu\\afassihizakeri\\rightsidemovies\\ar38motor\\2022_02_08\\24EYE.avi\n",
      "Duration of video [s]:  6.3 , recorded with  40.0 fps!\n",
      "Overall # of frames:  252  found with (before cropping) frame dimensions:  200 200\n",
      "Starting to extract posture\n"
     ]
    },
    {
     "name": "stderr",
     "output_type": "stream",
     "text": [
      "260it [00:01, 143.85it/s]                                                                                              \n"
     ]
    },
    {
     "name": "stdout",
     "output_type": "stream",
     "text": [
      "Saving results in \\\\dk-server.dk.ucsd.edu\\afassihizakeri\\rightsidemovies\\ar38motor\\2022_02_08...\n",
      "Saving csv poses!\n",
      "Starting to analyze %  \\\\dk-server.dk.ucsd.edu\\afassihizakeri\\rightsidemovies\\ar38motor\\2022_02_08\\174EYE.avi\n",
      "Loading  \\\\dk-server.dk.ucsd.edu\\afassihizakeri\\rightsidemovies\\ar38motor\\2022_02_08\\174EYE.avi\n",
      "Duration of video [s]:  4.05 , recorded with  40.0 fps!\n",
      "Overall # of frames:  162  found with (before cropping) frame dimensions:  200 200\n",
      "Starting to extract posture\n"
     ]
    },
    {
     "name": "stderr",
     "output_type": "stream",
     "text": [
      "170it [00:01, 145.31it/s]                                                                                              \n"
     ]
    },
    {
     "name": "stdout",
     "output_type": "stream",
     "text": [
      "Saving results in \\\\dk-server.dk.ucsd.edu\\afassihizakeri\\rightsidemovies\\ar38motor\\2022_02_08...\n",
      "Saving csv poses!\n",
      "Starting to analyze %  \\\\dk-server.dk.ucsd.edu\\afassihizakeri\\rightsidemovies\\ar38motor\\2022_02_08\\134EYE.avi\n",
      "Loading  \\\\dk-server.dk.ucsd.edu\\afassihizakeri\\rightsidemovies\\ar38motor\\2022_02_08\\134EYE.avi\n",
      "Duration of video [s]:  12.5 , recorded with  40.0 fps!\n",
      "Overall # of frames:  500  found with (before cropping) frame dimensions:  200 200\n",
      "Starting to extract posture\n"
     ]
    },
    {
     "name": "stderr",
     "output_type": "stream",
     "text": [
      "510it [00:03, 135.84it/s]                                                                                              \n"
     ]
    },
    {
     "name": "stdout",
     "output_type": "stream",
     "text": [
      "Saving results in \\\\dk-server.dk.ucsd.edu\\afassihizakeri\\rightsidemovies\\ar38motor\\2022_02_08...\n",
      "Saving csv poses!\n",
      "Starting to analyze %  \\\\dk-server.dk.ucsd.edu\\afassihizakeri\\rightsidemovies\\ar38motor\\2022_02_08\\162EYE.avi\n",
      "Loading  \\\\dk-server.dk.ucsd.edu\\afassihizakeri\\rightsidemovies\\ar38motor\\2022_02_08\\162EYE.avi\n",
      "Duration of video [s]:  11.57 , recorded with  40.0 fps!\n",
      "Overall # of frames:  463  found with (before cropping) frame dimensions:  200 200\n",
      "Starting to extract posture\n"
     ]
    },
    {
     "name": "stderr",
     "output_type": "stream",
     "text": [
      "470it [00:03, 123.74it/s]                                                                                              \n"
     ]
    },
    {
     "name": "stdout",
     "output_type": "stream",
     "text": [
      "Saving results in \\\\dk-server.dk.ucsd.edu\\afassihizakeri\\rightsidemovies\\ar38motor\\2022_02_08...\n",
      "Saving csv poses!\n",
      "Starting to analyze %  \\\\dk-server.dk.ucsd.edu\\afassihizakeri\\rightsidemovies\\ar38motor\\2022_02_08\\3EYE.avi\n",
      "Loading  \\\\dk-server.dk.ucsd.edu\\afassihizakeri\\rightsidemovies\\ar38motor\\2022_02_08\\3EYE.avi\n",
      "Duration of video [s]:  7.4 , recorded with  40.0 fps!\n",
      "Overall # of frames:  296  found with (before cropping) frame dimensions:  200 200\n",
      "Starting to extract posture\n"
     ]
    },
    {
     "name": "stderr",
     "output_type": "stream",
     "text": [
      "300it [00:02, 138.51it/s]                                                                                              \n"
     ]
    },
    {
     "name": "stdout",
     "output_type": "stream",
     "text": [
      "Saving results in \\\\dk-server.dk.ucsd.edu\\afassihizakeri\\rightsidemovies\\ar38motor\\2022_02_08...\n",
      "Saving csv poses!\n",
      "Starting to analyze %  \\\\dk-server.dk.ucsd.edu\\afassihizakeri\\rightsidemovies\\ar38motor\\2022_02_08\\29EYE.avi\n",
      "Loading  \\\\dk-server.dk.ucsd.edu\\afassihizakeri\\rightsidemovies\\ar38motor\\2022_02_08\\29EYE.avi\n",
      "Duration of video [s]:  12.32 , recorded with  40.0 fps!\n",
      "Overall # of frames:  493  found with (before cropping) frame dimensions:  200 200\n",
      "Starting to extract posture\n"
     ]
    },
    {
     "name": "stderr",
     "output_type": "stream",
     "text": [
      "500it [00:03, 125.78it/s]                                                                                              \n"
     ]
    },
    {
     "name": "stdout",
     "output_type": "stream",
     "text": [
      "Saving results in \\\\dk-server.dk.ucsd.edu\\afassihizakeri\\rightsidemovies\\ar38motor\\2022_02_08...\n",
      "Saving csv poses!\n",
      "Starting to analyze %  \\\\dk-server.dk.ucsd.edu\\afassihizakeri\\rightsidemovies\\ar38motor\\2022_02_08\\69EYE.avi\n",
      "Loading  \\\\dk-server.dk.ucsd.edu\\afassihizakeri\\rightsidemovies\\ar38motor\\2022_02_08\\69EYE.avi\n",
      "Duration of video [s]:  8.57 , recorded with  40.0 fps!\n",
      "Overall # of frames:  343  found with (before cropping) frame dimensions:  200 200\n",
      "Starting to extract posture\n"
     ]
    },
    {
     "name": "stderr",
     "output_type": "stream",
     "text": [
      "350it [00:02, 144.17it/s]                                                                                              \n"
     ]
    },
    {
     "name": "stdout",
     "output_type": "stream",
     "text": [
      "Saving results in \\\\dk-server.dk.ucsd.edu\\afassihizakeri\\rightsidemovies\\ar38motor\\2022_02_08...\n",
      "Saving csv poses!\n",
      "Starting to analyze %  \\\\dk-server.dk.ucsd.edu\\afassihizakeri\\rightsidemovies\\ar38motor\\2022_02_08\\122EYE.avi\n",
      "Loading  \\\\dk-server.dk.ucsd.edu\\afassihizakeri\\rightsidemovies\\ar38motor\\2022_02_08\\122EYE.avi\n",
      "Duration of video [s]:  12.5 , recorded with  40.0 fps!\n",
      "Overall # of frames:  500  found with (before cropping) frame dimensions:  200 200\n",
      "Starting to extract posture\n"
     ]
    },
    {
     "name": "stderr",
     "output_type": "stream",
     "text": [
      "510it [00:03, 144.40it/s]                                                                                              \n"
     ]
    },
    {
     "name": "stdout",
     "output_type": "stream",
     "text": [
      "Saving results in \\\\dk-server.dk.ucsd.edu\\afassihizakeri\\rightsidemovies\\ar38motor\\2022_02_08...\n",
      "Saving csv poses!\n",
      "Starting to analyze %  \\\\dk-server.dk.ucsd.edu\\afassihizakeri\\rightsidemovies\\ar38motor\\2022_02_08\\139EYE.avi\n",
      "Loading  \\\\dk-server.dk.ucsd.edu\\afassihizakeri\\rightsidemovies\\ar38motor\\2022_02_08\\139EYE.avi\n",
      "Duration of video [s]:  8.4 , recorded with  40.0 fps!\n",
      "Overall # of frames:  336  found with (before cropping) frame dimensions:  200 200\n",
      "Starting to extract posture\n"
     ]
    },
    {
     "name": "stderr",
     "output_type": "stream",
     "text": [
      "340it [00:02, 144.27it/s]                                                                                              \n"
     ]
    },
    {
     "name": "stdout",
     "output_type": "stream",
     "text": [
      "Saving results in \\\\dk-server.dk.ucsd.edu\\afassihizakeri\\rightsidemovies\\ar38motor\\2022_02_08...\n",
      "Saving csv poses!\n",
      "Starting to analyze %  \\\\dk-server.dk.ucsd.edu\\afassihizakeri\\rightsidemovies\\ar38motor\\2022_02_08\\72EYE.avi\n",
      "Loading  \\\\dk-server.dk.ucsd.edu\\afassihizakeri\\rightsidemovies\\ar38motor\\2022_02_08\\72EYE.avi\n",
      "Duration of video [s]:  7.3 , recorded with  40.0 fps!\n",
      "Overall # of frames:  292  found with (before cropping) frame dimensions:  200 200\n",
      "Starting to extract posture\n"
     ]
    },
    {
     "name": "stderr",
     "output_type": "stream",
     "text": [
      "300it [00:02, 124.04it/s]                                                                                              \n"
     ]
    },
    {
     "name": "stdout",
     "output_type": "stream",
     "text": [
      "Saving results in \\\\dk-server.dk.ucsd.edu\\afassihizakeri\\rightsidemovies\\ar38motor\\2022_02_08...\n",
      "Saving csv poses!\n",
      "Starting to analyze %  \\\\dk-server.dk.ucsd.edu\\afassihizakeri\\rightsidemovies\\ar38motor\\2022_02_08\\32EYE.avi\n",
      "Loading  \\\\dk-server.dk.ucsd.edu\\afassihizakeri\\rightsidemovies\\ar38motor\\2022_02_08\\32EYE.avi\n",
      "Duration of video [s]:  12.5 , recorded with  40.0 fps!\n",
      "Overall # of frames:  500  found with (before cropping) frame dimensions:  200 200\n",
      "Starting to extract posture\n"
     ]
    },
    {
     "name": "stderr",
     "output_type": "stream",
     "text": [
      "510it [00:03, 144.07it/s]                                                                                              \n"
     ]
    },
    {
     "name": "stdout",
     "output_type": "stream",
     "text": [
      "Saving results in \\\\dk-server.dk.ucsd.edu\\afassihizakeri\\rightsidemovies\\ar38motor\\2022_02_08...\n",
      "Saving csv poses!\n",
      "Starting to analyze %  \\\\dk-server.dk.ucsd.edu\\afassihizakeri\\rightsidemovies\\ar38motor\\2022_02_08\\179EYE.avi\n",
      "Loading  \\\\dk-server.dk.ucsd.edu\\afassihizakeri\\rightsidemovies\\ar38motor\\2022_02_08\\179EYE.avi\n",
      "Duration of video [s]:  0.0 , recorded with  40.0 fps!\n",
      "Overall # of frames:  0  found with (before cropping) frame dimensions:  200 200\n",
      "Starting to extract posture\n"
     ]
    },
    {
     "name": "stderr",
     "output_type": "stream",
     "text": [
      "10it [00:00, ?it/s]"
     ]
    },
    {
     "name": "stdout",
     "output_type": "stream",
     "text": [
      "Saving results in \\\\dk-server.dk.ucsd.edu\\afassihizakeri\\rightsidemovies\\ar38motor\\2022_02_08...\n",
      "Saving csv poses!\n",
      "Starting to analyze %  \\\\dk-server.dk.ucsd.edu\\afassihizakeri\\rightsidemovies\\ar38motor\\2022_02_08\\45EYE.avi\n"
     ]
    },
    {
     "name": "stderr",
     "output_type": "stream",
     "text": [
      "\n"
     ]
    },
    {
     "name": "stdout",
     "output_type": "stream",
     "text": [
      "Loading  \\\\dk-server.dk.ucsd.edu\\afassihizakeri\\rightsidemovies\\ar38motor\\2022_02_08\\45EYE.avi\n",
      "Duration of video [s]:  12.5 , recorded with  40.0 fps!\n",
      "Overall # of frames:  500  found with (before cropping) frame dimensions:  200 200\n",
      "Starting to extract posture\n"
     ]
    },
    {
     "name": "stderr",
     "output_type": "stream",
     "text": [
      "510it [00:03, 144.61it/s]                                                                                              \n"
     ]
    },
    {
     "name": "stdout",
     "output_type": "stream",
     "text": [
      "Saving results in \\\\dk-server.dk.ucsd.edu\\afassihizakeri\\rightsidemovies\\ar38motor\\2022_02_08...\n",
      "Saving csv poses!\n",
      "Starting to analyze %  \\\\dk-server.dk.ucsd.edu\\afassihizakeri\\rightsidemovies\\ar38motor\\2022_02_08\\115EYE.avi\n",
      "Loading  \\\\dk-server.dk.ucsd.edu\\afassihizakeri\\rightsidemovies\\ar38motor\\2022_02_08\\115EYE.avi\n",
      "Duration of video [s]:  10.88 , recorded with  40.0 fps!\n",
      "Overall # of frames:  435  found with (before cropping) frame dimensions:  200 200\n",
      "Starting to extract posture\n"
     ]
    },
    {
     "name": "stderr",
     "output_type": "stream",
     "text": [
      "440it [00:03, 142.02it/s]                                                                                              \n"
     ]
    },
    {
     "name": "stdout",
     "output_type": "stream",
     "text": [
      "Saving results in \\\\dk-server.dk.ucsd.edu\\afassihizakeri\\rightsidemovies\\ar38motor\\2022_02_08...\n",
      "Saving csv poses!\n",
      "Starting to analyze %  \\\\dk-server.dk.ucsd.edu\\afassihizakeri\\rightsidemovies\\ar38motor\\2022_02_08\\155EYE.avi\n",
      "Loading  \\\\dk-server.dk.ucsd.edu\\afassihizakeri\\rightsidemovies\\ar38motor\\2022_02_08\\155EYE.avi\n",
      "Duration of video [s]:  8.93 , recorded with  40.0 fps!\n",
      "Overall # of frames:  357  found with (before cropping) frame dimensions:  200 200\n",
      "Starting to extract posture\n"
     ]
    },
    {
     "name": "stderr",
     "output_type": "stream",
     "text": [
      "360it [00:02, 140.34it/s]                                                                                              \n"
     ]
    },
    {
     "name": "stdout",
     "output_type": "stream",
     "text": [
      "Saving results in \\\\dk-server.dk.ucsd.edu\\afassihizakeri\\rightsidemovies\\ar38motor\\2022_02_08...\n",
      "Saving csv poses!\n",
      "Starting to analyze %  \\\\dk-server.dk.ucsd.edu\\afassihizakeri\\rightsidemovies\\ar38motor\\2022_02_08\\85EYE.avi\n",
      "Loading  \\\\dk-server.dk.ucsd.edu\\afassihizakeri\\rightsidemovies\\ar38motor\\2022_02_08\\85EYE.avi\n",
      "Duration of video [s]:  12.5 , recorded with  40.0 fps!\n",
      "Overall # of frames:  500  found with (before cropping) frame dimensions:  200 200\n",
      "Starting to extract posture\n"
     ]
    },
    {
     "name": "stderr",
     "output_type": "stream",
     "text": [
      "510it [00:04, 124.88it/s]                                                                                              \n"
     ]
    },
    {
     "name": "stdout",
     "output_type": "stream",
     "text": [
      "Saving results in \\\\dk-server.dk.ucsd.edu\\afassihizakeri\\rightsidemovies\\ar38motor\\2022_02_08...\n",
      "Saving csv poses!\n",
      "Starting to analyze %  \\\\dk-server.dk.ucsd.edu\\afassihizakeri\\rightsidemovies\\ar38motor\\2022_02_08\\48EYE.avi\n",
      "Loading  \\\\dk-server.dk.ucsd.edu\\afassihizakeri\\rightsidemovies\\ar38motor\\2022_02_08\\48EYE.avi\n",
      "Duration of video [s]:  12.5 , recorded with  40.0 fps!\n",
      "Overall # of frames:  500  found with (before cropping) frame dimensions:  200 200\n",
      "Starting to extract posture\n"
     ]
    },
    {
     "name": "stderr",
     "output_type": "stream",
     "text": [
      "510it [00:03, 133.20it/s]                                                                                              \n"
     ]
    },
    {
     "name": "stdout",
     "output_type": "stream",
     "text": [
      "Saving results in \\\\dk-server.dk.ucsd.edu\\afassihizakeri\\rightsidemovies\\ar38motor\\2022_02_08...\n",
      "Saving csv poses!\n",
      "Starting to analyze %  \\\\dk-server.dk.ucsd.edu\\afassihizakeri\\rightsidemovies\\ar38motor\\2022_02_08\\103EYE.avi\n",
      "Loading  \\\\dk-server.dk.ucsd.edu\\afassihizakeri\\rightsidemovies\\ar38motor\\2022_02_08\\103EYE.avi\n",
      "Duration of video [s]:  6.0 , recorded with  40.0 fps!\n",
      "Overall # of frames:  240  found with (before cropping) frame dimensions:  200 200\n",
      "Starting to extract posture\n"
     ]
    },
    {
     "name": "stderr",
     "output_type": "stream",
     "text": [
      "250it [00:01, 148.50it/s]                                                                                              \n"
     ]
    },
    {
     "name": "stdout",
     "output_type": "stream",
     "text": [
      "Saving results in \\\\dk-server.dk.ucsd.edu\\afassihizakeri\\rightsidemovies\\ar38motor\\2022_02_08...\n",
      "Saving csv poses!\n",
      "Starting to analyze %  \\\\dk-server.dk.ucsd.edu\\afassihizakeri\\rightsidemovies\\ar38motor\\2022_02_08\\143EYE.avi\n",
      "Loading  \\\\dk-server.dk.ucsd.edu\\afassihizakeri\\rightsidemovies\\ar38motor\\2022_02_08\\143EYE.avi\n",
      "Duration of video [s]:  12.5 , recorded with  40.0 fps!\n",
      "Overall # of frames:  500  found with (before cropping) frame dimensions:  200 200\n",
      "Starting to extract posture\n"
     ]
    },
    {
     "name": "stderr",
     "output_type": "stream",
     "text": [
      "510it [00:03, 142.87it/s]                                                                                              \n"
     ]
    },
    {
     "name": "stdout",
     "output_type": "stream",
     "text": [
      "Saving results in \\\\dk-server.dk.ucsd.edu\\afassihizakeri\\rightsidemovies\\ar38motor\\2022_02_08...\n",
      "Saving csv poses!\n",
      "Starting to analyze %  \\\\dk-server.dk.ucsd.edu\\afassihizakeri\\rightsidemovies\\ar38motor\\2022_02_08\\93EYE.avi\n",
      "Loading  \\\\dk-server.dk.ucsd.edu\\afassihizakeri\\rightsidemovies\\ar38motor\\2022_02_08\\93EYE.avi\n",
      "Duration of video [s]:  12.5 , recorded with  40.0 fps!\n",
      "Overall # of frames:  500  found with (before cropping) frame dimensions:  200 200\n",
      "Starting to extract posture\n"
     ]
    },
    {
     "name": "stderr",
     "output_type": "stream",
     "text": [
      "510it [00:03, 144.28it/s]                                                                                              \n"
     ]
    },
    {
     "name": "stdout",
     "output_type": "stream",
     "text": [
      "Saving results in \\\\dk-server.dk.ucsd.edu\\afassihizakeri\\rightsidemovies\\ar38motor\\2022_02_08...\n",
      "Saving csv poses!\n",
      "Starting to analyze %  \\\\dk-server.dk.ucsd.edu\\afassihizakeri\\rightsidemovies\\ar38motor\\2022_02_08\\13EYE.avi\n",
      "Loading  \\\\dk-server.dk.ucsd.edu\\afassihizakeri\\rightsidemovies\\ar38motor\\2022_02_08\\13EYE.avi\n",
      "Duration of video [s]:  11.7 , recorded with  40.0 fps!\n",
      "Overall # of frames:  468  found with (before cropping) frame dimensions:  200 200\n",
      "Starting to extract posture\n"
     ]
    },
    {
     "name": "stderr",
     "output_type": "stream",
     "text": [
      "470it [00:03, 142.12it/s]                                                                                              \n"
     ]
    },
    {
     "name": "stdout",
     "output_type": "stream",
     "text": [
      "Saving results in \\\\dk-server.dk.ucsd.edu\\afassihizakeri\\rightsidemovies\\ar38motor\\2022_02_08...\n",
      "Saving csv poses!\n",
      "Starting to analyze %  \\\\dk-server.dk.ucsd.edu\\afassihizakeri\\rightsidemovies\\ar38motor\\2022_02_08\\158EYE.avi\n",
      "Loading  \\\\dk-server.dk.ucsd.edu\\afassihizakeri\\rightsidemovies\\ar38motor\\2022_02_08\\158EYE.avi\n",
      "Duration of video [s]:  12.15 , recorded with  40.0 fps!\n",
      "Overall # of frames:  486  found with (before cropping) frame dimensions:  200 200\n",
      "Starting to extract posture\n"
     ]
    },
    {
     "name": "stderr",
     "output_type": "stream",
     "text": [
      "490it [00:03, 139.14it/s]                                                                                              \n"
     ]
    },
    {
     "name": "stdout",
     "output_type": "stream",
     "text": [
      "Saving results in \\\\dk-server.dk.ucsd.edu\\afassihizakeri\\rightsidemovies\\ar38motor\\2022_02_08...\n",
      "Saving csv poses!\n",
      "Starting to analyze %  \\\\dk-server.dk.ucsd.edu\\afassihizakeri\\rightsidemovies\\ar38motor\\2022_02_08\\88EYE.avi\n",
      "Loading  \\\\dk-server.dk.ucsd.edu\\afassihizakeri\\rightsidemovies\\ar38motor\\2022_02_08\\88EYE.avi\n",
      "Duration of video [s]:  12.5 , recorded with  40.0 fps!\n",
      "Overall # of frames:  500  found with (before cropping) frame dimensions:  200 200\n",
      "Starting to extract posture\n"
     ]
    },
    {
     "name": "stderr",
     "output_type": "stream",
     "text": [
      "510it [00:03, 144.58it/s]                                                                                              \n"
     ]
    },
    {
     "name": "stdout",
     "output_type": "stream",
     "text": [
      "Saving results in \\\\dk-server.dk.ucsd.edu\\afassihizakeri\\rightsidemovies\\ar38motor\\2022_02_08...\n",
      "Saving csv poses!\n",
      "Starting to analyze %  \\\\dk-server.dk.ucsd.edu\\afassihizakeri\\rightsidemovies\\ar38motor\\2022_02_08\\118EYE.avi\n",
      "Loading  \\\\dk-server.dk.ucsd.edu\\afassihizakeri\\rightsidemovies\\ar38motor\\2022_02_08\\118EYE.avi\n",
      "Duration of video [s]:  11.93 , recorded with  40.0 fps!\n",
      "Overall # of frames:  477  found with (before cropping) frame dimensions:  200 200\n",
      "Starting to extract posture\n"
     ]
    },
    {
     "name": "stderr",
     "output_type": "stream",
     "text": [
      "480it [00:03, 134.96it/s]                                                                                              \n"
     ]
    },
    {
     "name": "stdout",
     "output_type": "stream",
     "text": [
      "Saving results in \\\\dk-server.dk.ucsd.edu\\afassihizakeri\\rightsidemovies\\ar38motor\\2022_02_08...\n",
      "Saving csv poses!\n",
      "Starting to analyze %  \\\\dk-server.dk.ucsd.edu\\afassihizakeri\\rightsidemovies\\ar38motor\\2022_02_08\\53EYE.avi\n",
      "Loading  \\\\dk-server.dk.ucsd.edu\\afassihizakeri\\rightsidemovies\\ar38motor\\2022_02_08\\53EYE.avi\n",
      "Duration of video [s]:  12.5 , recorded with  40.0 fps!\n",
      "Overall # of frames:  500  found with (before cropping) frame dimensions:  200 200\n",
      "Starting to extract posture\n"
     ]
    },
    {
     "name": "stderr",
     "output_type": "stream",
     "text": [
      "510it [00:03, 144.48it/s]                                                                                              \n"
     ]
    },
    {
     "name": "stdout",
     "output_type": "stream",
     "text": [
      "Saving results in \\\\dk-server.dk.ucsd.edu\\afassihizakeri\\rightsidemovies\\ar38motor\\2022_02_08...\n",
      "Saving csv poses!\n",
      "The videos are analyzed. Now your research can truly start! \n",
      " You can create labeled videos with 'create_labeled_video'\n",
      "If the tracking is not satisfactory for some videos, consider expanding the training set. You can use the function 'extract_outlier_frames' to extract a few representative outlier frames.\n",
      "Filtering with median model \\\\dk-server.dk.ucsd.edu\\afassihizakeri\\rightsidemovies\\ar38motor\\2022_02_08\\10EYE.avi\n",
      "Saving filtered csv poses!\n",
      "Filtering with median model \\\\dk-server.dk.ucsd.edu\\afassihizakeri\\rightsidemovies\\ar38motor\\2022_02_08\\50EYE.avi\n",
      "Saving filtered csv poses!\n",
      "Filtering with median model \\\\dk-server.dk.ucsd.edu\\afassihizakeri\\rightsidemovies\\ar38motor\\2022_02_08\\100EYE.avi\n",
      "Saving filtered csv poses!\n",
      "Filtering with median model \\\\dk-server.dk.ucsd.edu\\afassihizakeri\\rightsidemovies\\ar38motor\\2022_02_08\\90EYE.avi\n",
      "Saving filtered csv poses!\n",
      "Filtering with median model \\\\dk-server.dk.ucsd.edu\\afassihizakeri\\rightsidemovies\\ar38motor\\2022_02_08\\140EYE.avi\n",
      "Saving filtered csv poses!\n",
      "Filtering with median model \\\\dk-server.dk.ucsd.edu\\afassihizakeri\\rightsidemovies\\ar38motor\\2022_02_08\\116EYE.avi\n",
      "Saving filtered csv poses!\n",
      "Filtering with median model \\\\dk-server.dk.ucsd.edu\\afassihizakeri\\rightsidemovies\\ar38motor\\2022_02_08\\86EYE.avi\n",
      "Saving filtered csv poses!\n",
      "Filtering with median model \\\\dk-server.dk.ucsd.edu\\afassihizakeri\\rightsidemovies\\ar38motor\\2022_02_08\\156EYE.avi\n",
      "Saving filtered csv poses!\n",
      "Filtering with median model \\\\dk-server.dk.ucsd.edu\\afassihizakeri\\rightsidemovies\\ar38motor\\2022_02_08\\46EYE.avi\n",
      "Saving filtered csv poses!\n",
      "Filtering with median model \\\\dk-server.dk.ucsd.edu\\afassihizakeri\\rightsidemovies\\ar38motor\\2022_02_08\\71EYE.avi\n",
      "Saving filtered csv poses!\n",
      "Filtering with median model \\\\dk-server.dk.ucsd.edu\\afassihizakeri\\rightsidemovies\\ar38motor\\2022_02_08\\31EYE.avi\n",
      "Saving filtered csv poses!\n",
      "Filtering with median model \\\\dk-server.dk.ucsd.edu\\afassihizakeri\\rightsidemovies\\ar38motor\\2022_02_08\\161EYE.avi\n",
      "Saving filtered csv poses!\n",
      "Filtering with median model \\\\dk-server.dk.ucsd.edu\\afassihizakeri\\rightsidemovies\\ar38motor\\2022_02_08\\0EYE.avi\n",
      "Saving filtered csv poses!\n",
      "Filtering with median model \\\\dk-server.dk.ucsd.edu\\afassihizakeri\\rightsidemovies\\ar38motor\\2022_02_08\\121EYE.avi\n",
      "Saving filtered csv poses!\n",
      "Filtering with median model \\\\dk-server.dk.ucsd.edu\\afassihizakeri\\rightsidemovies\\ar38motor\\2022_02_08\\177EYE.avi\n",
      "Saving filtered csv poses!\n",
      "Filtering with median model \\\\dk-server.dk.ucsd.edu\\afassihizakeri\\rightsidemovies\\ar38motor\\2022_02_08\\137EYE.avi\n",
      "Saving filtered csv poses!\n",
      "Filtering with median model \\\\dk-server.dk.ucsd.edu\\afassihizakeri\\rightsidemovies\\ar38motor\\2022_02_08\\67EYE.avi\n",
      "Saving filtered csv poses!\n",
      "Filtering with median model \\\\dk-server.dk.ucsd.edu\\afassihizakeri\\rightsidemovies\\ar38motor\\2022_02_08\\27EYE.avi\n",
      "Saving filtered csv poses!\n",
      "Filtering with median model \\\\dk-server.dk.ucsd.edu\\afassihizakeri\\rightsidemovies\\ar38motor\\2022_02_08\\92EYE.avi\n",
      "Saving filtered csv poses!\n",
      "Filtering with median model \\\\dk-server.dk.ucsd.edu\\afassihizakeri\\rightsidemovies\\ar38motor\\2022_02_08\\142EYE.avi\n",
      "Saving filtered csv poses!\n",
      "Filtering with median model \\\\dk-server.dk.ucsd.edu\\afassihizakeri\\rightsidemovies\\ar38motor\\2022_02_08\\49EYE.avi\n",
      "Saving filtered csv poses!\n",
      "Filtering with median model \\\\dk-server.dk.ucsd.edu\\afassihizakeri\\rightsidemovies\\ar38motor\\2022_02_08\\102EYE.avi\n",
      "Saving filtered csv poses!\n",
      "Filtering with median model \\\\dk-server.dk.ucsd.edu\\afassihizakeri\\rightsidemovies\\ar38motor\\2022_02_08\\119EYE.avi\n",
      "Saving filtered csv poses!\n",
      "Filtering with median model \\\\dk-server.dk.ucsd.edu\\afassihizakeri\\rightsidemovies\\ar38motor\\2022_02_08\\52EYE.avi\n",
      "Saving filtered csv poses!\n",
      "Filtering with median model \\\\dk-server.dk.ucsd.edu\\afassihizakeri\\rightsidemovies\\ar38motor\\2022_02_08\\12EYE.avi\n",
      "Saving filtered csv poses!\n",
      "Filtering with median model \\\\dk-server.dk.ucsd.edu\\afassihizakeri\\rightsidemovies\\ar38motor\\2022_02_08\\89EYE.avi\n",
      "Saving filtered csv poses!\n",
      "Filtering with median model \\\\dk-server.dk.ucsd.edu\\afassihizakeri\\rightsidemovies\\ar38motor\\2022_02_08\\159EYE.avi\n",
      "Saving filtered csv poses!\n",
      "Filtering with median model \\\\dk-server.dk.ucsd.edu\\afassihizakeri\\rightsidemovies\\ar38motor\\2022_02_08\\44EYE.avi\n",
      "Saving filtered csv poses!\n",
      "Filtering with median model \\\\dk-server.dk.ucsd.edu\\afassihizakeri\\rightsidemovies\\ar38motor\\2022_02_08\\84EYE.avi\n",
      "Saving filtered csv poses!\n",
      "Filtering with median model \\\\dk-server.dk.ucsd.edu\\afassihizakeri\\rightsidemovies\\ar38motor\\2022_02_08\\154EYE.avi\n",
      "Saving filtered csv poses!\n",
      "Filtering with median model \\\\dk-server.dk.ucsd.edu\\afassihizakeri\\rightsidemovies\\ar38motor\\2022_02_08\\114EYE.avi\n",
      "Saving filtered csv poses!\n",
      "Filtering with median model \\\\dk-server.dk.ucsd.edu\\afassihizakeri\\rightsidemovies\\ar38motor\\2022_02_08\\68EYE.avi\n",
      "Saving filtered csv poses!\n",
      "Filtering with median model \\\\dk-server.dk.ucsd.edu\\afassihizakeri\\rightsidemovies\\ar38motor\\2022_02_08\\123EYE.avi\n",
      "Saving filtered csv poses!\n",
      "Filtering with median model \\\\dk-server.dk.ucsd.edu\\afassihizakeri\\rightsidemovies\\ar38motor\\2022_02_08\\2EYE.avi\n",
      "Saving filtered csv poses!\n",
      "Filtering with median model \\\\dk-server.dk.ucsd.edu\\afassihizakeri\\rightsidemovies\\ar38motor\\2022_02_08\\163EYE.avi\n",
      "Saving filtered csv poses!\n",
      "Filtering with median model \\\\dk-server.dk.ucsd.edu\\afassihizakeri\\rightsidemovies\\ar38motor\\2022_02_08\\28EYE.avi\n",
      "Saving filtered csv poses!\n",
      "Filtering with median model \\\\dk-server.dk.ucsd.edu\\afassihizakeri\\rightsidemovies\\ar38motor\\2022_02_08\\33EYE.avi\n",
      "Saving filtered csv poses!\n",
      "Filtering with median model \\\\dk-server.dk.ucsd.edu\\afassihizakeri\\rightsidemovies\\ar38motor\\2022_02_08\\178EYE.avi\n",
      "Saving filtered csv poses!\n",
      "Filtering with median model \\\\dk-server.dk.ucsd.edu\\afassihizakeri\\rightsidemovies\\ar38motor\\2022_02_08\\138EYE.avi\n",
      "Saving filtered csv poses!\n",
      "Filtering with median model \\\\dk-server.dk.ucsd.edu\\afassihizakeri\\rightsidemovies\\ar38motor\\2022_02_08\\73EYE.avi\n",
      "Saving filtered csv poses!\n",
      "Filtering with median model \\\\dk-server.dk.ucsd.edu\\afassihizakeri\\rightsidemovies\\ar38motor\\2022_02_08\\25EYE.avi\n",
      "Saving filtered csv poses!\n",
      "Filtering with median model \\\\dk-server.dk.ucsd.edu\\afassihizakeri\\rightsidemovies\\ar38motor\\2022_02_08\\65EYE.avi\n",
      "Saving filtered csv poses!\n",
      "Filtering with median model \\\\dk-server.dk.ucsd.edu\\afassihizakeri\\rightsidemovies\\ar38motor\\2022_02_08\\135EYE.avi\n",
      "Saving filtered csv poses!\n",
      "Filtering with median model \\\\dk-server.dk.ucsd.edu\\afassihizakeri\\rightsidemovies\\ar38motor\\2022_02_08\\175EYE.avi\n",
      "Saving filtered csv poses!\n",
      "Filtering with median model \\\\dk-server.dk.ucsd.edu\\afassihizakeri\\rightsidemovies\\ar38motor\\2022_02_08\\109EYE.avi\n",
      "Saving filtered csv poses!\n",
      "Filtering with median model \\\\dk-server.dk.ucsd.edu\\afassihizakeri\\rightsidemovies\\ar38motor\\2022_02_08\\42EYE.avi\n",
      "Saving filtered csv poses!\n",
      "Filtering with median model \\\\dk-server.dk.ucsd.edu\\afassihizakeri\\rightsidemovies\\ar38motor\\2022_02_08\\99EYE.avi\n",
      "Saving filtered csv poses!\n",
      "Filtering with median model \\\\dk-server.dk.ucsd.edu\\afassihizakeri\\rightsidemovies\\ar38motor\\2022_02_08\\149EYE.avi\n",
      "Saving filtered csv poses!\n",
      "Filtering with median model \\\\dk-server.dk.ucsd.edu\\afassihizakeri\\rightsidemovies\\ar38motor\\2022_02_08\\82EYE.avi\n",
      "Saving filtered csv poses!\n",
      "Filtering with median model \\\\dk-server.dk.ucsd.edu\\afassihizakeri\\rightsidemovies\\ar38motor\\2022_02_08\\152EYE.avi\n",
      "Saving filtered csv poses!\n",
      "Filtering with median model \\\\dk-server.dk.ucsd.edu\\afassihizakeri\\rightsidemovies\\ar38motor\\2022_02_08\\19EYE.avi\n",
      "Saving filtered csv poses!\n",
      "Filtering with median model \\\\dk-server.dk.ucsd.edu\\afassihizakeri\\rightsidemovies\\ar38motor\\2022_02_08\\59EYE.avi\n",
      "Saving filtered csv poses!\n",
      "Filtering with median model \\\\dk-server.dk.ucsd.edu\\afassihizakeri\\rightsidemovies\\ar38motor\\2022_02_08\\112EYE.avi\n",
      "Saving filtered csv poses!\n",
      "Filtering with median model \\\\dk-server.dk.ucsd.edu\\afassihizakeri\\rightsidemovies\\ar38motor\\2022_02_08\\94EYE.avi\n",
      "Saving filtered csv poses!\n",
      "Filtering with median model \\\\dk-server.dk.ucsd.edu\\afassihizakeri\\rightsidemovies\\ar38motor\\2022_02_08\\144EYE.avi\n",
      "Saving filtered csv poses!\n",
      "Filtering with median model \\\\dk-server.dk.ucsd.edu\\afassihizakeri\\rightsidemovies\\ar38motor\\2022_02_08\\104EYE.avi\n"
     ]
    },
    {
     "name": "stdout",
     "output_type": "stream",
     "text": [
      "Saving filtered csv poses!\n",
      "Filtering with median model \\\\dk-server.dk.ucsd.edu\\afassihizakeri\\rightsidemovies\\ar38motor\\2022_02_08\\54EYE.avi\n",
      "Saving filtered csv poses!\n",
      "Filtering with median model \\\\dk-server.dk.ucsd.edu\\afassihizakeri\\rightsidemovies\\ar38motor\\2022_02_08\\14EYE.avi\n",
      "Saving filtered csv poses!\n",
      "Filtering with median model \\\\dk-server.dk.ucsd.edu\\afassihizakeri\\rightsidemovies\\ar38motor\\2022_02_08\\23EYE.avi\n",
      "Saving filtered csv poses!\n",
      "Filtering with median model \\\\dk-server.dk.ucsd.edu\\afassihizakeri\\rightsidemovies\\ar38motor\\2022_02_08\\168EYE.avi\n",
      "Saving filtered csv poses!\n",
      "Filtering with median model \\\\dk-server.dk.ucsd.edu\\afassihizakeri\\rightsidemovies\\ar38motor\\2022_02_08\\9EYE.avi\n",
      "Saving filtered csv poses!\n",
      "Filtering with median model \\\\dk-server.dk.ucsd.edu\\afassihizakeri\\rightsidemovies\\ar38motor\\2022_02_08\\128EYE.avi\n",
      "Saving filtered csv poses!\n",
      "Filtering with median model \\\\dk-server.dk.ucsd.edu\\afassihizakeri\\rightsidemovies\\ar38motor\\2022_02_08\\63EYE.avi\n",
      "Saving filtered csv poses!\n",
      "Filtering with median model \\\\dk-server.dk.ucsd.edu\\afassihizakeri\\rightsidemovies\\ar38motor\\2022_02_08\\78EYE.avi\n",
      "Saving filtered csv poses!\n",
      "Filtering with median model \\\\dk-server.dk.ucsd.edu\\afassihizakeri\\rightsidemovies\\ar38motor\\2022_02_08\\133EYE.avi\n",
      "Saving filtered csv poses!\n",
      "Filtering with median model \\\\dk-server.dk.ucsd.edu\\afassihizakeri\\rightsidemovies\\ar38motor\\2022_02_08\\173EYE.avi\n",
      "Saving filtered csv poses!\n",
      "Filtering with median model \\\\dk-server.dk.ucsd.edu\\afassihizakeri\\rightsidemovies\\ar38motor\\2022_02_08\\38EYE.avi\n",
      "Saving filtered csv poses!\n",
      "Filtering with median model \\\\dk-server.dk.ucsd.edu\\afassihizakeri\\rightsidemovies\\ar38motor\\2022_02_08\\125EYE.avi\n",
      "Saving filtered csv poses!\n",
      "Filtering with median model \\\\dk-server.dk.ucsd.edu\\afassihizakeri\\rightsidemovies\\ar38motor\\2022_02_08\\165EYE.avi\n",
      "Saving filtered csv poses!\n",
      "Filtering with median model \\\\dk-server.dk.ucsd.edu\\afassihizakeri\\rightsidemovies\\ar38motor\\2022_02_08\\4EYE.avi\n",
      "Saving filtered csv poses!\n",
      "Filtering with median model \\\\dk-server.dk.ucsd.edu\\afassihizakeri\\rightsidemovies\\ar38motor\\2022_02_08\\35EYE.avi\n",
      "Saving filtered csv poses!\n",
      "Filtering with median model \\\\dk-server.dk.ucsd.edu\\afassihizakeri\\rightsidemovies\\ar38motor\\2022_02_08\\75EYE.avi\n",
      "Saving filtered csv poses!\n",
      "Filtering with median model \\\\dk-server.dk.ucsd.edu\\afassihizakeri\\rightsidemovies\\ar38motor\\2022_02_08\\110EYE.avi\n",
      "Saving filtered csv poses!\n",
      "Filtering with median model \\\\dk-server.dk.ucsd.edu\\afassihizakeri\\rightsidemovies\\ar38motor\\2022_02_08\\80EYE.avi\n",
      "Saving filtered csv poses!\n",
      "Filtering with median model \\\\dk-server.dk.ucsd.edu\\afassihizakeri\\rightsidemovies\\ar38motor\\2022_02_08\\150EYE.avi\n",
      "Saving filtered csv poses!\n",
      "Filtering with median model \\\\dk-server.dk.ucsd.edu\\afassihizakeri\\rightsidemovies\\ar38motor\\2022_02_08\\40EYE.avi\n",
      "Saving filtered csv poses!\n",
      "Filtering with median model \\\\dk-server.dk.ucsd.edu\\afassihizakeri\\rightsidemovies\\ar38motor\\2022_02_08\\16EYE.avi\n",
      "Saving filtered csv poses!\n",
      "Filtering with median model \\\\dk-server.dk.ucsd.edu\\afassihizakeri\\rightsidemovies\\ar38motor\\2022_02_08\\56EYE.avi\n",
      "Saving filtered csv poses!\n",
      "Filtering with median model \\\\dk-server.dk.ucsd.edu\\afassihizakeri\\rightsidemovies\\ar38motor\\2022_02_08\\106EYE.avi\n",
      "Saving filtered csv poses!\n",
      "Filtering with median model \\\\dk-server.dk.ucsd.edu\\afassihizakeri\\rightsidemovies\\ar38motor\\2022_02_08\\96EYE.avi\n",
      "Saving filtered csv poses!\n",
      "Filtering with median model \\\\dk-server.dk.ucsd.edu\\afassihizakeri\\rightsidemovies\\ar38motor\\2022_02_08\\146EYE.avi\n",
      "Saving filtered csv poses!\n",
      "Filtering with median model \\\\dk-server.dk.ucsd.edu\\afassihizakeri\\rightsidemovies\\ar38motor\\2022_02_08\\171EYE.avi\n",
      "Saving filtered csv poses!\n",
      "Filtering with median model \\\\dk-server.dk.ucsd.edu\\afassihizakeri\\rightsidemovies\\ar38motor\\2022_02_08\\131EYE.avi\n",
      "Saving filtered csv poses!\n",
      "Filtering with median model \\\\dk-server.dk.ucsd.edu\\afassihizakeri\\rightsidemovies\\ar38motor\\2022_02_08\\61EYE.avi\n",
      "Saving filtered csv poses!\n",
      "Filtering with median model \\\\dk-server.dk.ucsd.edu\\afassihizakeri\\rightsidemovies\\ar38motor\\2022_02_08\\21EYE.avi\n",
      "Saving filtered csv poses!\n",
      "Filtering with median model \\\\dk-server.dk.ucsd.edu\\afassihizakeri\\rightsidemovies\\ar38motor\\2022_02_08\\77EYE.avi\n",
      "Saving filtered csv poses!\n",
      "Filtering with median model \\\\dk-server.dk.ucsd.edu\\afassihizakeri\\rightsidemovies\\ar38motor\\2022_02_08\\37EYE.avi\n",
      "Saving filtered csv poses!\n",
      "Filtering with median model \\\\dk-server.dk.ucsd.edu\\afassihizakeri\\rightsidemovies\\ar38motor\\2022_02_08\\6EYE.avi\n",
      "Saving filtered csv poses!\n",
      "Filtering with median model \\\\dk-server.dk.ucsd.edu\\afassihizakeri\\rightsidemovies\\ar38motor\\2022_02_08\\167EYE.avi\n",
      "Saving filtered csv poses!\n",
      "Filtering with median model \\\\dk-server.dk.ucsd.edu\\afassihizakeri\\rightsidemovies\\ar38motor\\2022_02_08\\127EYE.avi\n",
      "Saving filtered csv poses!\n",
      "Filtering with median model \\\\dk-server.dk.ucsd.edu\\afassihizakeri\\rightsidemovies\\ar38motor\\2022_02_08\\5EYE.avi\n",
      "Saving filtered csv poses!\n",
      "Filtering with median model \\\\dk-server.dk.ucsd.edu\\afassihizakeri\\rightsidemovies\\ar38motor\\2022_02_08\\164EYE.avi\n",
      "Saving filtered csv poses!\n",
      "Filtering with median model \\\\dk-server.dk.ucsd.edu\\afassihizakeri\\rightsidemovies\\ar38motor\\2022_02_08\\124EYE.avi\n",
      "Saving filtered csv poses!\n",
      "Filtering with median model \\\\dk-server.dk.ucsd.edu\\afassihizakeri\\rightsidemovies\\ar38motor\\2022_02_08\\74EYE.avi\n",
      "Saving filtered csv poses!\n",
      "Filtering with median model \\\\dk-server.dk.ucsd.edu\\afassihizakeri\\rightsidemovies\\ar38motor\\2022_02_08\\34EYE.avi\n",
      "Saving filtered csv poses!\n",
      "Filtering with median model \\\\dk-server.dk.ucsd.edu\\afassihizakeri\\rightsidemovies\\ar38motor\\2022_02_08\\129EYE.avi\n",
      "Saving filtered csv poses!\n",
      "Filtering with median model \\\\dk-server.dk.ucsd.edu\\afassihizakeri\\rightsidemovies\\ar38motor\\2022_02_08\\62EYE.avi\n",
      "Saving filtered csv poses!\n",
      "Filtering with median model \\\\dk-server.dk.ucsd.edu\\afassihizakeri\\rightsidemovies\\ar38motor\\2022_02_08\\22EYE.avi\n",
      "Saving filtered csv poses!\n",
      "Filtering with median model \\\\dk-server.dk.ucsd.edu\\afassihizakeri\\rightsidemovies\\ar38motor\\2022_02_08\\8EYE.avi\n",
      "Saving filtered csv poses!\n",
      "Filtering with median model \\\\dk-server.dk.ucsd.edu\\afassihizakeri\\rightsidemovies\\ar38motor\\2022_02_08\\169EYE.avi\n",
      "Saving filtered csv poses!\n",
      "Filtering with median model \\\\dk-server.dk.ucsd.edu\\afassihizakeri\\rightsidemovies\\ar38motor\\2022_02_08\\172EYE.avi\n",
      "Saving filtered csv poses!\n",
      "Filtering with median model \\\\dk-server.dk.ucsd.edu\\afassihizakeri\\rightsidemovies\\ar38motor\\2022_02_08\\39EYE.avi\n",
      "Saving filtered csv poses!\n",
      "Filtering with median model \\\\dk-server.dk.ucsd.edu\\afassihizakeri\\rightsidemovies\\ar38motor\\2022_02_08\\79EYE.avi\n",
      "Saving filtered csv poses!\n",
      "Filtering with median model \\\\dk-server.dk.ucsd.edu\\afassihizakeri\\rightsidemovies\\ar38motor\\2022_02_08\\132EYE.avi\n",
      "Saving filtered csv poses!\n",
      "Filtering with median model \\\\dk-server.dk.ucsd.edu\\afassihizakeri\\rightsidemovies\\ar38motor\\2022_02_08\\105EYE.avi\n",
      "Saving filtered csv poses!\n",
      "Filtering with median model \\\\dk-server.dk.ucsd.edu\\afassihizakeri\\rightsidemovies\\ar38motor\\2022_02_08\\145EYE.avi\n",
      "Saving filtered csv poses!\n",
      "Filtering with median model \\\\dk-server.dk.ucsd.edu\\afassihizakeri\\rightsidemovies\\ar38motor\\2022_02_08\\95EYE.avi\n",
      "Saving filtered csv poses!\n",
      "Filtering with median model \\\\dk-server.dk.ucsd.edu\\afassihizakeri\\rightsidemovies\\ar38motor\\2022_02_08\\15EYE.avi\n",
      "Saving filtered csv poses!\n",
      "Filtering with median model \\\\dk-server.dk.ucsd.edu\\afassihizakeri\\rightsidemovies\\ar38motor\\2022_02_08\\55EYE.avi\n",
      "Saving filtered csv poses!\n",
      "Filtering with median model \\\\dk-server.dk.ucsd.edu\\afassihizakeri\\rightsidemovies\\ar38motor\\2022_02_08\\148EYE.avi\n",
      "Saving filtered csv poses!\n",
      "Filtering with median model \\\\dk-server.dk.ucsd.edu\\afassihizakeri\\rightsidemovies\\ar38motor\\2022_02_08\\98EYE.avi\n",
      "Saving filtered csv poses!\n",
      "Filtering with median model \\\\dk-server.dk.ucsd.edu\\afassihizakeri\\rightsidemovies\\ar38motor\\2022_02_08\\108EYE.avi\n",
      "Saving filtered csv poses!\n",
      "Filtering with median model \\\\dk-server.dk.ucsd.edu\\afassihizakeri\\rightsidemovies\\ar38motor\\2022_02_08\\43EYE.avi\n",
      "Saving filtered csv poses!\n",
      "Filtering with median model \\\\dk-server.dk.ucsd.edu\\afassihizakeri\\rightsidemovies\\ar38motor\\2022_02_08\\58EYE.avi\n"
     ]
    },
    {
     "name": "stdout",
     "output_type": "stream",
     "text": [
      "Saving filtered csv poses!\n",
      "Filtering with median model \\\\dk-server.dk.ucsd.edu\\afassihizakeri\\rightsidemovies\\ar38motor\\2022_02_08\\113EYE.avi\n",
      "Saving filtered csv poses!\n",
      "Filtering with median model \\\\dk-server.dk.ucsd.edu\\afassihizakeri\\rightsidemovies\\ar38motor\\2022_02_08\\153EYE.avi\n",
      "Saving filtered csv poses!\n",
      "Filtering with median model \\\\dk-server.dk.ucsd.edu\\afassihizakeri\\rightsidemovies\\ar38motor\\2022_02_08\\83EYE.avi\n",
      "Saving filtered csv poses!\n",
      "Filtering with median model \\\\dk-server.dk.ucsd.edu\\afassihizakeri\\rightsidemovies\\ar38motor\\2022_02_08\\18EYE.avi\n",
      "Saving filtered csv poses!\n",
      "Filtering with median model \\\\dk-server.dk.ucsd.edu\\afassihizakeri\\rightsidemovies\\ar38motor\\2022_02_08\\36EYE.avi\n",
      "Saving filtered csv poses!\n",
      "Filtering with median model \\\\dk-server.dk.ucsd.edu\\afassihizakeri\\rightsidemovies\\ar38motor\\2022_02_08\\76EYE.avi\n",
      "Saving filtered csv poses!\n",
      "Filtering with median model \\\\dk-server.dk.ucsd.edu\\afassihizakeri\\rightsidemovies\\ar38motor\\2022_02_08\\126EYE.avi\n",
      "Saving filtered csv poses!\n",
      "Filtering with median model \\\\dk-server.dk.ucsd.edu\\afassihizakeri\\rightsidemovies\\ar38motor\\2022_02_08\\166EYE.avi\n",
      "Saving filtered csv poses!\n",
      "Filtering with median model \\\\dk-server.dk.ucsd.edu\\afassihizakeri\\rightsidemovies\\ar38motor\\2022_02_08\\7EYE.avi\n",
      "Saving filtered csv poses!\n",
      "Filtering with median model \\\\dk-server.dk.ucsd.edu\\afassihizakeri\\rightsidemovies\\ar38motor\\2022_02_08\\130EYE.avi\n",
      "Saving filtered csv poses!\n",
      "Filtering with median model \\\\dk-server.dk.ucsd.edu\\afassihizakeri\\rightsidemovies\\ar38motor\\2022_02_08\\170EYE.avi\n",
      "Saving filtered csv poses!\n",
      "Filtering with median model \\\\dk-server.dk.ucsd.edu\\afassihizakeri\\rightsidemovies\\ar38motor\\2022_02_08\\20EYE.avi\n",
      "Saving filtered csv poses!\n",
      "Filtering with median model \\\\dk-server.dk.ucsd.edu\\afassihizakeri\\rightsidemovies\\ar38motor\\2022_02_08\\60EYE.avi\n",
      "Saving filtered csv poses!\n",
      "Filtering with median model \\\\dk-server.dk.ucsd.edu\\afassihizakeri\\rightsidemovies\\ar38motor\\2022_02_08\\57EYE.avi\n",
      "Saving filtered csv poses!\n",
      "Filtering with median model \\\\dk-server.dk.ucsd.edu\\afassihizakeri\\rightsidemovies\\ar38motor\\2022_02_08\\17EYE.avi\n",
      "Saving filtered csv poses!\n",
      "Filtering with median model \\\\dk-server.dk.ucsd.edu\\afassihizakeri\\rightsidemovies\\ar38motor\\2022_02_08\\147EYE.avi\n",
      "Saving filtered csv poses!\n",
      "Filtering with median model \\\\dk-server.dk.ucsd.edu\\afassihizakeri\\rightsidemovies\\ar38motor\\2022_02_08\\97EYE.avi\n",
      "Saving filtered csv poses!\n",
      "Filtering with median model \\\\dk-server.dk.ucsd.edu\\afassihizakeri\\rightsidemovies\\ar38motor\\2022_02_08\\107EYE.avi\n",
      "Saving filtered csv poses!\n",
      "Filtering with median model \\\\dk-server.dk.ucsd.edu\\afassihizakeri\\rightsidemovies\\ar38motor\\2022_02_08\\151EYE.avi\n",
      "Saving filtered csv poses!\n",
      "Filtering with median model \\\\dk-server.dk.ucsd.edu\\afassihizakeri\\rightsidemovies\\ar38motor\\2022_02_08\\81EYE.avi\n",
      "Saving filtered csv poses!\n",
      "Filtering with median model \\\\dk-server.dk.ucsd.edu\\afassihizakeri\\rightsidemovies\\ar38motor\\2022_02_08\\111EYE.avi\n",
      "Saving filtered csv poses!\n",
      "Filtering with median model \\\\dk-server.dk.ucsd.edu\\afassihizakeri\\rightsidemovies\\ar38motor\\2022_02_08\\41EYE.avi\n",
      "Saving filtered csv poses!\n",
      "Filtering with median model \\\\dk-server.dk.ucsd.edu\\afassihizakeri\\rightsidemovies\\ar38motor\\2022_02_08\\136EYE.avi\n",
      "Saving filtered csv poses!\n",
      "Filtering with median model \\\\dk-server.dk.ucsd.edu\\afassihizakeri\\rightsidemovies\\ar38motor\\2022_02_08\\176EYE.avi\n",
      "Saving filtered csv poses!\n",
      "Filtering with median model \\\\dk-server.dk.ucsd.edu\\afassihizakeri\\rightsidemovies\\ar38motor\\2022_02_08\\26EYE.avi\n",
      "Saving filtered csv poses!\n",
      "Filtering with median model \\\\dk-server.dk.ucsd.edu\\afassihizakeri\\rightsidemovies\\ar38motor\\2022_02_08\\66EYE.avi\n",
      "Saving filtered csv poses!\n",
      "Filtering with median model \\\\dk-server.dk.ucsd.edu\\afassihizakeri\\rightsidemovies\\ar38motor\\2022_02_08\\30EYE.avi\n",
      "Saving filtered csv poses!\n",
      "Filtering with median model \\\\dk-server.dk.ucsd.edu\\afassihizakeri\\rightsidemovies\\ar38motor\\2022_02_08\\70EYE.avi\n",
      "Saving filtered csv poses!\n",
      "Filtering with median model \\\\dk-server.dk.ucsd.edu\\afassihizakeri\\rightsidemovies\\ar38motor\\2022_02_08\\120EYE.avi\n",
      "Saving filtered csv poses!\n",
      "Filtering with median model \\\\dk-server.dk.ucsd.edu\\afassihizakeri\\rightsidemovies\\ar38motor\\2022_02_08\\1EYE.avi\n",
      "Saving filtered csv poses!\n",
      "Filtering with median model \\\\dk-server.dk.ucsd.edu\\afassihizakeri\\rightsidemovies\\ar38motor\\2022_02_08\\160EYE.avi\n",
      "Saving filtered csv poses!\n",
      "Filtering with median model \\\\dk-server.dk.ucsd.edu\\afassihizakeri\\rightsidemovies\\ar38motor\\2022_02_08\\157EYE.avi\n",
      "Saving filtered csv poses!\n",
      "Filtering with median model \\\\dk-server.dk.ucsd.edu\\afassihizakeri\\rightsidemovies\\ar38motor\\2022_02_08\\87EYE.avi\n",
      "Saving filtered csv poses!\n",
      "Filtering with median model \\\\dk-server.dk.ucsd.edu\\afassihizakeri\\rightsidemovies\\ar38motor\\2022_02_08\\117EYE.avi\n",
      "Saving filtered csv poses!\n",
      "Filtering with median model \\\\dk-server.dk.ucsd.edu\\afassihizakeri\\rightsidemovies\\ar38motor\\2022_02_08\\47EYE.avi\n",
      "Saving filtered csv poses!\n",
      "Filtering with median model \\\\dk-server.dk.ucsd.edu\\afassihizakeri\\rightsidemovies\\ar38motor\\2022_02_08\\51EYE.avi\n",
      "Saving filtered csv poses!\n",
      "Filtering with median model \\\\dk-server.dk.ucsd.edu\\afassihizakeri\\rightsidemovies\\ar38motor\\2022_02_08\\11EYE.avi\n",
      "Saving filtered csv poses!\n",
      "Filtering with median model \\\\dk-server.dk.ucsd.edu\\afassihizakeri\\rightsidemovies\\ar38motor\\2022_02_08\\141EYE.avi\n",
      "Saving filtered csv poses!\n",
      "Filtering with median model \\\\dk-server.dk.ucsd.edu\\afassihizakeri\\rightsidemovies\\ar38motor\\2022_02_08\\91EYE.avi\n",
      "Saving filtered csv poses!\n",
      "Filtering with median model \\\\dk-server.dk.ucsd.edu\\afassihizakeri\\rightsidemovies\\ar38motor\\2022_02_08\\101EYE.avi\n",
      "Saving filtered csv poses!\n",
      "Filtering with median model \\\\dk-server.dk.ucsd.edu\\afassihizakeri\\rightsidemovies\\ar38motor\\2022_02_08\\64EYE.avi\n",
      "Saving filtered csv poses!\n",
      "Filtering with median model \\\\dk-server.dk.ucsd.edu\\afassihizakeri\\rightsidemovies\\ar38motor\\2022_02_08\\24EYE.avi\n",
      "Saving filtered csv poses!\n",
      "Filtering with median model \\\\dk-server.dk.ucsd.edu\\afassihizakeri\\rightsidemovies\\ar38motor\\2022_02_08\\174EYE.avi\n",
      "Saving filtered csv poses!\n",
      "Filtering with median model \\\\dk-server.dk.ucsd.edu\\afassihizakeri\\rightsidemovies\\ar38motor\\2022_02_08\\134EYE.avi\n",
      "Saving filtered csv poses!\n",
      "Filtering with median model \\\\dk-server.dk.ucsd.edu\\afassihizakeri\\rightsidemovies\\ar38motor\\2022_02_08\\162EYE.avi\n",
      "Saving filtered csv poses!\n",
      "Filtering with median model \\\\dk-server.dk.ucsd.edu\\afassihizakeri\\rightsidemovies\\ar38motor\\2022_02_08\\3EYE.avi\n",
      "Saving filtered csv poses!\n",
      "Filtering with median model \\\\dk-server.dk.ucsd.edu\\afassihizakeri\\rightsidemovies\\ar38motor\\2022_02_08\\29EYE.avi\n",
      "Saving filtered csv poses!\n",
      "Filtering with median model \\\\dk-server.dk.ucsd.edu\\afassihizakeri\\rightsidemovies\\ar38motor\\2022_02_08\\69EYE.avi\n",
      "Saving filtered csv poses!\n",
      "Filtering with median model \\\\dk-server.dk.ucsd.edu\\afassihizakeri\\rightsidemovies\\ar38motor\\2022_02_08\\122EYE.avi\n",
      "Saving filtered csv poses!\n",
      "Filtering with median model \\\\dk-server.dk.ucsd.edu\\afassihizakeri\\rightsidemovies\\ar38motor\\2022_02_08\\139EYE.avi\n",
      "Saving filtered csv poses!\n",
      "Filtering with median model \\\\dk-server.dk.ucsd.edu\\afassihizakeri\\rightsidemovies\\ar38motor\\2022_02_08\\72EYE.avi\n",
      "Saving filtered csv poses!\n",
      "Filtering with median model \\\\dk-server.dk.ucsd.edu\\afassihizakeri\\rightsidemovies\\ar38motor\\2022_02_08\\32EYE.avi\n",
      "Saving filtered csv poses!\n",
      "Filtering with median model \\\\dk-server.dk.ucsd.edu\\afassihizakeri\\rightsidemovies\\ar38motor\\2022_02_08\\179EYE.avi\n"
     ]
    },
    {
     "ename": "ValueError",
     "evalue": "Dataset(s) incompatible with Pandas data types, not table, or no datasets found in HDF5 file.",
     "output_type": "error",
     "traceback": [
      "\u001b[1;31m---------------------------------------------------------------------------\u001b[0m",
      "\u001b[1;31mFileNotFoundError\u001b[0m                         Traceback (most recent call last)",
      "File \u001b[1;32m~\\anaconda3\\envs\\DEEPLABCUT\\lib\\site-packages\\deeplabcut\\post_processing\\filtering.py:177\u001b[0m, in \u001b[0;36mfilterpredictions\u001b[1;34m(config, video, videotype, shuffle, trainingsetindex, filtertype, windowlength, p_bound, ARdegree, MAdegree, alpha, save_as_csv, destfolder, modelprefix, track_method)\u001b[0m\n\u001b[0;32m    176\u001b[0m \u001b[38;5;28;01mtry\u001b[39;00m:\n\u001b[1;32m--> 177\u001b[0m     _ \u001b[38;5;241m=\u001b[39m \u001b[43mauxiliaryfunctions\u001b[49m\u001b[38;5;241;43m.\u001b[39;49m\u001b[43mload_analyzed_data\u001b[49m\u001b[43m(\u001b[49m\n\u001b[0;32m    178\u001b[0m \u001b[43m        \u001b[49m\u001b[43mdestfolder\u001b[49m\u001b[43m,\u001b[49m\u001b[43m \u001b[49m\u001b[43mvname\u001b[49m\u001b[43m,\u001b[49m\u001b[43m \u001b[49m\u001b[43mDLCscorer\u001b[49m\u001b[43m,\u001b[49m\u001b[43m \u001b[49m\u001b[38;5;28;43;01mTrue\u001b[39;49;00m\u001b[43m,\u001b[49m\u001b[43m \u001b[49m\u001b[43mtrack_method\u001b[49m\n\u001b[0;32m    179\u001b[0m \u001b[43m    \u001b[49m\u001b[43m)\u001b[49m\n\u001b[0;32m    180\u001b[0m     \u001b[38;5;28mprint\u001b[39m(\u001b[38;5;124mf\u001b[39m\u001b[38;5;124m\"\u001b[39m\u001b[38;5;124mData from \u001b[39m\u001b[38;5;132;01m{\u001b[39;00mvname\u001b[38;5;132;01m}\u001b[39;00m\u001b[38;5;124m were already filtered. Skipping...\u001b[39m\u001b[38;5;124m\"\u001b[39m)\n",
      "File \u001b[1;32m~\\anaconda3\\envs\\DEEPLABCUT\\lib\\site-packages\\deeplabcut\\utils\\auxiliaryfunctions.py:768\u001b[0m, in \u001b[0;36mload_analyzed_data\u001b[1;34m(folder, videoname, scorer, filtered, track_method)\u001b[0m\n\u001b[0;32m    767\u001b[0m \u001b[38;5;28;01mdef\u001b[39;00m \u001b[38;5;21mload_analyzed_data\u001b[39m(folder, videoname, scorer, filtered\u001b[38;5;241m=\u001b[39m\u001b[38;5;28;01mFalse\u001b[39;00m, track_method\u001b[38;5;241m=\u001b[39m\u001b[38;5;124m\"\u001b[39m\u001b[38;5;124m\"\u001b[39m):\n\u001b[1;32m--> 768\u001b[0m     filepath, scorer, suffix \u001b[38;5;241m=\u001b[39m \u001b[43mfind_analyzed_data\u001b[49m\u001b[43m(\u001b[49m\n\u001b[0;32m    769\u001b[0m \u001b[43m        \u001b[49m\u001b[43mfolder\u001b[49m\u001b[43m,\u001b[49m\u001b[43m \u001b[49m\u001b[43mvideoname\u001b[49m\u001b[43m,\u001b[49m\u001b[43m \u001b[49m\u001b[43mscorer\u001b[49m\u001b[43m,\u001b[49m\u001b[43m \u001b[49m\u001b[43mfiltered\u001b[49m\u001b[43m,\u001b[49m\u001b[43m \u001b[49m\u001b[43mtrack_method\u001b[49m\n\u001b[0;32m    770\u001b[0m \u001b[43m    \u001b[49m\u001b[43m)\u001b[49m\n\u001b[0;32m    771\u001b[0m     df \u001b[38;5;241m=\u001b[39m pd\u001b[38;5;241m.\u001b[39mread_hdf(filepath)\n",
      "File \u001b[1;32m~\\anaconda3\\envs\\DEEPLABCUT\\lib\\site-packages\\deeplabcut\\utils\\auxiliaryfunctions.py:754\u001b[0m, in \u001b[0;36mfind_analyzed_data\u001b[1;34m(folder, videoname, scorer, filtered, track_method)\u001b[0m\n\u001b[0;32m    753\u001b[0m     msg \u001b[38;5;241m+\u001b[39m\u001b[38;5;241m=\u001b[39m \u001b[38;5;124m\"\u001b[39m\u001b[38;5;124m.\u001b[39m\u001b[38;5;124m\"\u001b[39m\n\u001b[1;32m--> 754\u001b[0m     \u001b[38;5;28;01mraise\u001b[39;00m \u001b[38;5;167;01mFileNotFoundError\u001b[39;00m(msg)\n\u001b[0;32m    756\u001b[0m n_candidates \u001b[38;5;241m=\u001b[39m \u001b[38;5;28mlen\u001b[39m(candidates)\n",
      "\u001b[1;31mFileNotFoundError\u001b[0m: No filtered data file found in \\\\dk-server.dk.ucsd.edu\\afassihizakeri\\rightsidemovies\\ar38motor\\2022_02_08 for video 179EYE and scorer DLC_resnet50_Eye 482_EPLMay24shuffle1_500000.",
      "\nDuring handling of the above exception, another exception occurred:\n",
      "\u001b[1;31mValueError\u001b[0m                                Traceback (most recent call last)",
      "Input \u001b[1;32mIn [11]\u001b[0m, in \u001b[0;36m<module>\u001b[1;34m\u001b[0m\n\u001b[0;32m     11\u001b[0m \u001b[38;5;66;03m#text_files='C:\\\\videos\\\\ar30motor\\\\2021_04_25\\\\9.avi'\u001b[39;00m\n\u001b[0;32m     12\u001b[0m temp1\u001b[38;5;241m=\u001b[39mdeeplabcut\u001b[38;5;241m.\u001b[39manalyze_videos(path_config_file,text_files,shuffle\u001b[38;5;241m=\u001b[39m\u001b[38;5;241m1\u001b[39m, save_as_csv\u001b[38;5;241m=\u001b[39m\u001b[38;5;28;01mTrue\u001b[39;00m )\n\u001b[1;32m---> 13\u001b[0m temp\u001b[38;5;241m=\u001b[39m\u001b[43mdeeplabcut\u001b[49m\u001b[38;5;241;43m.\u001b[39;49m\u001b[43mfilterpredictions\u001b[49m\u001b[43m(\u001b[49m\u001b[43mpath_config_file\u001b[49m\u001b[43m,\u001b[49m\u001b[43mtext_files\u001b[49m\u001b[43m)\u001b[49m\n",
      "File \u001b[1;32m~\\anaconda3\\envs\\DEEPLABCUT\\lib\\site-packages\\deeplabcut\\post_processing\\filtering.py:183\u001b[0m, in \u001b[0;36mfilterpredictions\u001b[1;34m(config, video, videotype, shuffle, trainingsetindex, filtertype, windowlength, p_bound, ARdegree, MAdegree, alpha, save_as_csv, destfolder, modelprefix, track_method)\u001b[0m\n\u001b[0;32m    181\u001b[0m \u001b[38;5;28;01mexcept\u001b[39;00m \u001b[38;5;167;01mFileNotFoundError\u001b[39;00m:  \u001b[38;5;66;03m# Data haven't been filtered yet\u001b[39;00m\n\u001b[0;32m    182\u001b[0m     \u001b[38;5;28;01mtry\u001b[39;00m:\n\u001b[1;32m--> 183\u001b[0m         df, filepath, _, _ \u001b[38;5;241m=\u001b[39m \u001b[43mauxiliaryfunctions\u001b[49m\u001b[38;5;241;43m.\u001b[39;49m\u001b[43mload_analyzed_data\u001b[49m\u001b[43m(\u001b[49m\n\u001b[0;32m    184\u001b[0m \u001b[43m            \u001b[49m\u001b[43mdestfolder\u001b[49m\u001b[43m,\u001b[49m\u001b[43m \u001b[49m\u001b[43mvname\u001b[49m\u001b[43m,\u001b[49m\u001b[43m \u001b[49m\u001b[43mDLCscorer\u001b[49m\u001b[43m,\u001b[49m\u001b[43m \u001b[49m\u001b[43mtrack_method\u001b[49m\u001b[38;5;241;43m=\u001b[39;49m\u001b[43mtrack_method\u001b[49m\n\u001b[0;32m    185\u001b[0m \u001b[43m        \u001b[49m\u001b[43m)\u001b[49m\n\u001b[0;32m    186\u001b[0m         nrows \u001b[38;5;241m=\u001b[39m df\u001b[38;5;241m.\u001b[39mshape[\u001b[38;5;241m0\u001b[39m]\n\u001b[0;32m    187\u001b[0m         \u001b[38;5;28;01mif\u001b[39;00m filtertype \u001b[38;5;241m==\u001b[39m \u001b[38;5;124m\"\u001b[39m\u001b[38;5;124marima\u001b[39m\u001b[38;5;124m\"\u001b[39m:\n",
      "File \u001b[1;32m~\\anaconda3\\envs\\DEEPLABCUT\\lib\\site-packages\\deeplabcut\\utils\\auxiliaryfunctions.py:771\u001b[0m, in \u001b[0;36mload_analyzed_data\u001b[1;34m(folder, videoname, scorer, filtered, track_method)\u001b[0m\n\u001b[0;32m    767\u001b[0m \u001b[38;5;28;01mdef\u001b[39;00m \u001b[38;5;21mload_analyzed_data\u001b[39m(folder, videoname, scorer, filtered\u001b[38;5;241m=\u001b[39m\u001b[38;5;28;01mFalse\u001b[39;00m, track_method\u001b[38;5;241m=\u001b[39m\u001b[38;5;124m\"\u001b[39m\u001b[38;5;124m\"\u001b[39m):\n\u001b[0;32m    768\u001b[0m     filepath, scorer, suffix \u001b[38;5;241m=\u001b[39m find_analyzed_data(\n\u001b[0;32m    769\u001b[0m         folder, videoname, scorer, filtered, track_method\n\u001b[0;32m    770\u001b[0m     )\n\u001b[1;32m--> 771\u001b[0m     df \u001b[38;5;241m=\u001b[39m \u001b[43mpd\u001b[49m\u001b[38;5;241;43m.\u001b[39;49m\u001b[43mread_hdf\u001b[49m\u001b[43m(\u001b[49m\u001b[43mfilepath\u001b[49m\u001b[43m)\u001b[49m\n\u001b[0;32m    772\u001b[0m     \u001b[38;5;28;01mreturn\u001b[39;00m df, filepath, scorer, suffix\n",
      "File \u001b[1;32m~\\anaconda3\\envs\\DEEPLABCUT\\lib\\site-packages\\pandas\\io\\pytables.py:438\u001b[0m, in \u001b[0;36mread_hdf\u001b[1;34m(path_or_buf, key, mode, errors, where, start, stop, columns, iterator, chunksize, **kwargs)\u001b[0m\n\u001b[0;32m    436\u001b[0m groups \u001b[38;5;241m=\u001b[39m store\u001b[38;5;241m.\u001b[39mgroups()\n\u001b[0;32m    437\u001b[0m \u001b[38;5;28;01mif\u001b[39;00m \u001b[38;5;28mlen\u001b[39m(groups) \u001b[38;5;241m==\u001b[39m \u001b[38;5;241m0\u001b[39m:\n\u001b[1;32m--> 438\u001b[0m     \u001b[38;5;28;01mraise\u001b[39;00m \u001b[38;5;167;01mValueError\u001b[39;00m(\n\u001b[0;32m    439\u001b[0m         \u001b[38;5;124m\"\u001b[39m\u001b[38;5;124mDataset(s) incompatible with Pandas data types, \u001b[39m\u001b[38;5;124m\"\u001b[39m\n\u001b[0;32m    440\u001b[0m         \u001b[38;5;124m\"\u001b[39m\u001b[38;5;124mnot table, or no datasets found in HDF5 file.\u001b[39m\u001b[38;5;124m\"\u001b[39m\n\u001b[0;32m    441\u001b[0m     )\n\u001b[0;32m    442\u001b[0m candidate_only_group \u001b[38;5;241m=\u001b[39m groups[\u001b[38;5;241m0\u001b[39m]\n\u001b[0;32m    444\u001b[0m \u001b[38;5;66;03m# For the HDF file to have only one dataset, all other groups\u001b[39;00m\n\u001b[0;32m    445\u001b[0m \u001b[38;5;66;03m# should then be metadata groups for that candidate group. (This\u001b[39;00m\n\u001b[0;32m    446\u001b[0m \u001b[38;5;66;03m# assumes that the groups() method enumerates parent groups\u001b[39;00m\n\u001b[0;32m    447\u001b[0m \u001b[38;5;66;03m# before their children.)\u001b[39;00m\n",
      "\u001b[1;31mValueError\u001b[0m: Dataset(s) incompatible with Pandas data types, not table, or no datasets found in HDF5 file."
     ]
    }
   ],
   "source": [
    "path_config_file = 'D:\\\\Sidevideos\\\\DLC\\\\Sideview4-Arash-2021-07-18\\\\config.yaml';\n",
    "path_config_file ='\\\\\\\\dk-server.dk.ucsd.edu\\\\afassihizakeri\\\\DLC\\\\LeftEye_March-Arash-2022-03-03\\\\config.yaml';\n",
    "path_config_file ='\\\\\\\\dk-server.dk.ucsd.edu\\\\afassihizakeri\\\\DLC\\\\Eye 482_EPL-Arash-2022-05-24\\\\config.yaml';\n",
    "\n",
    "#Mainfolder = 'D:\\\\videos\\\\ar32\\\\2020_12_18';\n",
    "#path_config_file ='C:\\\\Users\\\\DKLAb\\\\Dropbox\\\\Notebook\\\\DLC\\\\Eyedata4-Arash-2022-02-02\\\\config.yaml';\n",
    "#Mainfolder = 'D:\\\\videos\\\\ar32\\\\2020_12_18';\n",
    "import os\n",
    "text_files = [os.path.join(Mainfolder,f) for f in os.listdir(Mainfolder) if f.endswith('EYE.avi') and not f.endswith('L.avi') and not f.endswith('R.avi') and not f.endswith('videopoints.avi') and not f.endswith('videopoints.avi')]\n",
    "print(text_files[1])\n",
    "#text_files='C:\\\\videos\\\\ar30motor\\\\2021_04_25\\\\9.avi'\n",
    "temp1=deeplabcut.analyze_videos(path_config_file,text_files,shuffle=1, save_as_csv=True )\n",
    "temp=deeplabcut.filterpredictions(path_config_file,text_files)"
   ]
  },
  {
   "cell_type": "code",
   "execution_count": 9,
   "metadata": {},
   "outputs": [
    {
     "name": "stdout",
     "output_type": "stream",
     "text": [
      "\\\\dk-server.dk.ucsd.edu\\afassihizakeri\\rightsidemovies\\ar38motor\\2022_02_08\n"
     ]
    }
   ],
   "source": [
    "print(Mainfolder)"
   ]
  },
  {
   "cell_type": "markdown",
   "metadata": {},
   "source": [
    "# this step should take the filtered DLC output (Nose and Snout)\n",
    "and create the L and R movies\n",
    "then using another function to convert L and R (R is left face and L is right face) files into Mask and Mirror files( Mask only adds mask to the Right side of the face and Mirror. \n"
   ]
  },
  {
   "cell_type": "markdown",
   "metadata": {},
   "source": [
    "# copy tracked files into the server (with mp4 movies)"
   ]
  },
  {
   "cell_type": "code",
   "execution_count": null,
   "metadata": {},
   "outputs": [],
   "source": [
    "# the code to run matlab here\n",
    "#Mainfolder = 'C:\\\\videos\\\\ar344thday\\\\2021_07_26'\n",
    "# copy tracked files into the server (with mp4 movies)\n",
    "Mainfolder = 'D:\\\\Sidevideos\\\\ar32motor\\\\2021_08_02'\n",
    "\n",
    "#Mainfolder = 'D:\\\\Sidevideos\\\\ar344thday\\\\2021_07_26'\n",
    "#destination = ''\n",
    "destination='//dk-server.dk.ucsd.edu/afassihizakeri/SC_Movies/ar32motor/2021_08_02/Side'\n",
    "import shutil\n",
    "shutil.copytree( Mainfolder,destination, ignore=shutil.ignore_patterns('*.avi'),copy_function = shutil.copy)\n",
    "#copytree(Mainfolder, destination, ignore=ignore_patterns('*.avi'))\n",
    "\n",
    "\n"
   ]
  },
  {
   "cell_type": "markdown",
   "metadata": {},
   "source": [
    "this step makes Mirror Mask files"
   ]
  },
  {
   "cell_type": "markdown",
   "metadata": {},
   "source": [
    "# copy tracked data"
   ]
  },
  {
   "cell_type": "code",
   "execution_count": null,
   "metadata": {},
   "outputs": [],
   "source": [
    "import os  # this is to get folder information and creat files\n",
    "import cv2  # this is important and is reading and writing images and video\n",
    "import shutil\n",
    "destination='//dk-server.dk.ucsd.edu/afassihizakeri/SC_Movies/ar34training/4thdayside'\n",
    "D:\\Sidevideos\\ar34motor\\2022_01_27D:\\Sidevideos\\ar34motor\\2022_01_27\n",
    "All_Folders=[ name for name in os.listdir(Mainfolder) if not os.path.isdir(os.path.join(Mainfolder, name)) ]\n",
    "#print(All_Folders)\n",
    "for num in range(0,len(All_Folders)): \n",
    "    thisdestination = os.path.join(destination+'/', All_Folders[num])\n",
    "    thissource = os.path.join(Mainfolder+os.sep, All_Folders[num])\n",
    "    shutil.copy( thissource,destination)\n",
    "    print(thisdestination)\n"
   ]
  },
  {
   "cell_type": "markdown",
   "metadata": {},
   "source": [
    "# create labled videos"
   ]
  },
  {
   "cell_type": "code",
   "execution_count": null,
   "metadata": {},
   "outputs": [],
   "source": [
    "# first we create a vector of destination file names\n",
    "import os \n",
    "text_files = [os.path.join(Mainfolder,f) for f in os.listdir(Mainfolder) if f.endswith('EYE.avi') and not f.endswith('L.avi') and not f.endswith('R.avi') and not f.endswith('videopoints.avi') and not f.endswith('videopoints.avi')]\n",
    "\n",
    "#dirname = os.path.dirname(text_files[1]) \n",
    "\n",
    "#thesenames= [os.path.basename(f)  for f in text_files] \n",
    "#text_files2 = [os.path.join( os.path.join(os.path.dirname(text_files[2:20]),'labled'),f) for f in thesenames ]  \n",
    "\n",
    "#os.mkdir\n",
    "#if not (os.path.isdir(os.path.join(os.path.dirname(text_files[1]),'labled'))):\n",
    "# os.mkdir(os.path.join(os.path.dirname(text_files[1]),'labled'))\n",
    "# Print the directory name   \n",
    "print(text_files[1]) \n",
    "#for f in text_files:\n",
    "\n",
    "#deeplabcut.create_labeled_video(path_config_file,videofile,save_frames=True) # my_new_list was created in prevouse cell as all videos in the folder \n",
    "deeplabcut.create_labeled_video(path_config_file,[text_files[1]],save_frames=True)\n",
    "  "
   ]
  },
  {
   "cell_type": "code",
   "execution_count": null,
   "metadata": {},
   "outputs": [],
   "source": [
    "print(text_files[1])"
   ]
  },
  {
   "cell_type": "code",
   "execution_count": null,
   "metadata": {},
   "outputs": [],
   "source": [
    "    #Mainfolder = 'D:\\\\Sidevideos\\\\ar34motor\\\\2021_12_16'\n",
    "    #Mainfolder = 'D:\\\\Sidevideos\\\\AR34MOTOR\\\\2022_01_27'\n",
    "    Tag ='SideviewLeft_Feb2022Feb8shuffle2'\n",
    "    import image_util\n",
    "    #Mainfolder = 'F:\\\\ar34motor\\\\sideright\\\\2021_12_16'\n",
    "    #trial=26\n",
    "    #Tag ='Sideview'\n",
    "    from PIL import Image ,ImageEnhance\n",
    "    from scipy import ndimage\n",
    "    import numpy as np\n",
    "    import cv2 # this is important and is reading and writing images and video\n",
    "    import image_util\n",
    "    import os\n",
    "    from pathlib import Path\n",
    "    import datetime\n",
    "    import math\n",
    "    import image_util\n",
    "    # this function read dlc \n",
    "    #def readDLCfiles(Mainfolder,Tag,trial):\n",
    "    #11185DLC_resnet50_Topview3435Jul28shuffle1_110000_filtered\n",
    "    import csv\n",
    "    import os\n",
    "    import pandas as pd\n",
    "    from scipy.spatial.distance import pdist\n",
    "    import math\n",
    "    import matplotlib.pyplot as plt\n",
    "\n",
    "    Xfiles = [os.path.join(Mainfolder,f) for f in os.listdir(Mainfolder) if f.endswith('filtered.csv') and Tag in f] \n",
    "    # csv file name\n",
    "    print(Xfiles)"
   ]
  }
 ],
 "metadata": {
  "kernelspec": {
   "display_name": "Python 3 (ipykernel)",
   "language": "python",
   "name": "python3"
  },
  "language_info": {
   "codemirror_mode": {
    "name": "ipython",
    "version": 3
   },
   "file_extension": ".py",
   "mimetype": "text/x-python",
   "name": "python",
   "nbconvert_exporter": "python",
   "pygments_lexer": "ipython3",
   "version": "3.8.12"
  }
 },
 "nbformat": 4,
 "nbformat_minor": 2
}
