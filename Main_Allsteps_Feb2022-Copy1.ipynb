{
 "cells": [
  {
   "cell_type": "markdown",
   "metadata": {},
   "source": [
    "## Define the main folder"
   ]
  },
  {
   "cell_type": "code",
   "execution_count": 1,
   "metadata": {},
   "outputs": [],
   "source": [
    "import main\n",
    "\n",
    "Mainfolder =  Mainfolder =   '\\\\\\\\dk-server.dk.ucsd.edu\\\\afassihizakeri\\\\movies_Rat_SC_project\\\\ar19tear19salin\\\\10_08_19';\n",
    "# Enter the name of the folder with images folders inside \n",
    "import image_util\n"
   ]
  },
  {
   "cell_type": "markdown",
   "metadata": {},
   "source": [
    "# make movies and save trialnumber"
   ]
  },
  {
   "cell_type": "code",
   "execution_count": 2,
   "metadata": {
    "scrolled": true
   },
   "outputs": [
    {
     "name": "stdout",
     "output_type": "stream",
     "text": [
      "0\n",
      "1\n",
      "2\n",
      "3\n",
      "4\n",
      "5\n",
      "6\n",
      "7\n",
      "8\n",
      "9\n",
      "10\n",
      "11\n",
      "12\n",
      "13\n",
      "14\n",
      "15\n",
      "16\n",
      "17\n",
      "18\n",
      "19\n",
      "20\n",
      "21\n",
      "22\n",
      "23\n",
      "24\n",
      "25\n",
      "26\n",
      "['00-24-02', '00-24-26', '00-24-47', '00-26-36', '00-26-57', '00-27-18', '00-27-39', '00-28-00', '00-28-20', '00-28-41', '00-29-02', '00-36-58', '00-37-56', '00-43-54', '00-44-54', '00-45-15', '00-45-38', '00-46-03', '00-46-25', '00-47-58', '00-48-19', '00-48-59', '00-49-22', '00-50-31', '00-50-54', '00-51-44', '00-52-06']\n"
     ]
    }
   ],
   "source": [
    "main.makemovieandLightfile(Mainfolder)\n",
    "main.save_trial_n(Mainfolder)\n"
   ]
  },
  {
   "cell_type": "markdown",
   "metadata": {},
   "source": [
    "# convert individual trials to MP4"
   ]
  },
  {
   "cell_type": "code",
   "execution_count": null,
   "metadata": {},
   "outputs": [],
   "source": [
    "main.convertvideotoMP4(mainfolder,Trial)"
   ]
  },
  {
   "cell_type": "markdown",
   "metadata": {},
   "source": [
    "# DLC on nose snout\n",
    "###### this step is to load deeplabcut and run already trained algorithm on new movies to track the nose and snout  (beads)"
   ]
  },
  {
   "cell_type": "code",
   "execution_count": 2,
   "metadata": {},
   "outputs": [
    {
     "name": "stdout",
     "output_type": "stream",
     "text": [
      "Loading DLC 2.2.2...\n"
     ]
    }
   ],
   "source": [
    "import deeplabcut\n",
    "## https://github.com/AlexEMG/DeepLabCut"
   ]
  },
  {
   "cell_type": "code",
   "execution_count": null,
   "metadata": {
    "scrolled": true
   },
   "outputs": [],
   "source": [
    "path_config_file = 'F:\\\\DLC\\\\Topview3435-Arash-2021-07-28\\\\config.yaml'\n",
    "path_config_file ='\\\\\\\\dk-server.dk.ucsd.edu\\\\afassihizakeri\\\\DLC\\\\Topview3435-Arash-2021-07-28\\\\config.yaml';\n",
    "\n",
    "import os\n",
    "ztext_files = [os.path.join(Mainfolder,f) for f in os.listdir(Mainfolder) if f.endswith('video.mp4') and not f.endswith('L.avi') and not f.endswith('R.avi') and not f.endswith('videopoints.avi') and not f.endswith('videopoints.avi')]\n",
    "text_files = [os.path.join(Mainfolder,f) for f in os.listdir(Mainfolder) if f.endswith('.avi') and not f.endswith('L.avi') and not f.endswith('R.avi') and not f.endswith('videopoints.avi') and not f.endswith('videopoints.avi')]\n",
    "print(text_files[3])\n",
    "temp1=deeplabcut.analyze_videos(path_config_file,text_files,shuffle=1, save_as_csv=True )\n",
    "temp=deeplabcut.filterpredictions(path_config_file,text_files)"
   ]
  },
  {
   "cell_type": "markdown",
   "metadata": {},
   "source": [
    "# make left right movies out of DLC output\n",
    "this step should take the filtered DLC output (Nose and Snout) and create the L and R movies"
   ]
  },
  {
   "cell_type": "code",
   "execution_count": null,
   "metadata": {
    "scrolled": true
   },
   "outputs": [],
   "source": [
    "import time\n",
    "import numpy as np\n",
    "import os\n",
    "import LR_movie_maker_Main\n",
    "contrastfactor=1.05\n",
    "text_files = [os.path.join(Mainfolder,f) for f in os.listdir(Mainfolder) if f.endswith('.mp4') and not f.endswith('L.avi') and not f.endswith('R.avi') and not f.endswith('videopoints.avi') and not f.endswith('videopoints.avi')]\n",
    "print(len(text_files))\n",
    "for trial in range(len(text_files)):\n",
    "    t =time.time()\n",
    "    Tag = 'Topview'\n",
    "    df, Angle,Distance,movivename=LR_movie_maker_Main.readDLCfiles(Mainfolder,Tag,trial)\n",
    "    text = os.path.basename(movivename);\n",
    "    #%matplotlib notebook\n",
    "    Good_Frames =LR_movie_maker_Main.findgoodrames(0.8,50,150,df,Distance)\n",
    "    LR_movie_maker_Main.writeFrameData(Mainfolder,text,Good_Frames,df,Angle)\n",
    "    LR_movie_maker_Main.savemovies_LR(movivename,Angle,df,Good_Frames,\"\",contrastfactor) \n",
    "    elapsed = time.time() - t \n",
    "    video_name = (os.path.join(os.path.dirname(movivename),text.split('DLC')[0]+\".avi\"));\n",
    "    print('Trial=',video_name,'Elapsed',elapsed)"
   ]
  },
  {
   "cell_type": "code",
   "execution_count": null,
   "metadata": {},
   "outputs": [],
   "source": [
    "import time\n",
    "import numpy as np\n",
    "import os\n",
    "import LR_movie_maker_Main\n",
    "contrastfactor=1.05\n",
    "\n",
    "x = 'F:\\\\videos\\\\ar38motor\\\\2022_02_08\\\\0video.mp4'\n",
    "for thistrial in range(len(text_files)):\n",
    "   if x in text_files[thistrial]:\n",
    "    trial = (thistrial)\n",
    "t =time.time()\n",
    "Tag = 'Topview'\n",
    "df, Angle,Distance,movivename=LR_movie_maker_Main.readDLCfiles(Mainfolder,Tag,trial)\n",
    "text = os.path.basename(movivename);\n",
    "#%matplotlib notebook\n",
    "Good_Frames =LR_movie_maker_Main.findgoodrames(0.8,50,150,df,Distance)\n",
    "LR_movie_maker_Main.writeFrameData(Mainfolder,text,Good_Frames,df,Angle)\n",
    "LR_movie_maker_Main.savemovies_LR(movivename,Angle,df,Good_Frames,\".mp4\",contrastfactor) \n",
    "elapsed = time.time() - t \n",
    "video_name = (os.path.join(os.path.dirname(movivename),text.split('DLC')[0]+\".avi\"));\n",
    "print('Trial=',video_name,'Elapsed',elapsed)"
   ]
  },
  {
   "cell_type": "markdown",
   "metadata": {},
   "source": [
    "# now apply DLC already trained data on whiskers "
   ]
  },
  {
   "cell_type": "code",
   "execution_count": null,
   "metadata": {},
   "outputs": [
    {
     "name": "stdout",
     "output_type": "stream",
     "text": [
      "Using snapshot-100000 for model \\\\dk-server.dk.ucsd.edu\\afassihizakeri\\DLC\\ar30shiwker-Arash-2021-09-13\\dlc-models\\iteration-0\\ar30shiwkerSep13-trainset95shuffle2\n",
      "Initializing ResNet\n",
      "Starting to analyze %  F:\\videos\\ar41motor\\2022_07_29\\Mask0L.avi\n",
      "F:\\videos\\ar41motor\\2022_07_29  already exists!\n",
      "Loading  F:\\videos\\ar41motor\\2022_07_29\\Mask0L.avi\n",
      "Duration of video [s]:  6.38 , recorded with  40.0 fps!\n",
      "Overall # of frames:  255  found with (before cropping) frame dimensions:  314 700\n",
      "Starting to extract posture\n"
     ]
    },
    {
     "name": "stderr",
     "output_type": "stream",
     "text": [
      "260it [00:13, 26.98it/s]                                                                                               "
     ]
    },
    {
     "name": "stdout",
     "output_type": "stream",
     "text": [
      "Detected frames:  255\n"
     ]
    },
    {
     "name": "stderr",
     "output_type": "stream",
     "text": [
      "260it [00:13, 18.59it/s]\n"
     ]
    },
    {
     "name": "stdout",
     "output_type": "stream",
     "text": [
      "Saving results in F:\\videos\\ar41motor\\2022_07_29...\n",
      "Saving csv poses!\n",
      "Starting to analyze %  F:\\videos\\ar41motor\\2022_07_29\\Mask100L.avi\n",
      "F:\\videos\\ar41motor\\2022_07_29  already exists!\n",
      "Loading  F:\\videos\\ar41motor\\2022_07_29\\Mask100L.avi\n",
      "Duration of video [s]:  11.55 , recorded with  40.0 fps!\n",
      "Overall # of frames:  462  found with (before cropping) frame dimensions:  314 700\n",
      "Starting to extract posture\n"
     ]
    },
    {
     "name": "stderr",
     "output_type": "stream",
     "text": [
      "470it [00:17, 27.32it/s]                                                                                               "
     ]
    },
    {
     "name": "stdout",
     "output_type": "stream",
     "text": [
      "Detected frames:  462\n"
     ]
    },
    {
     "name": "stderr",
     "output_type": "stream",
     "text": [
      "470it [00:17, 26.20it/s]\n"
     ]
    },
    {
     "name": "stdout",
     "output_type": "stream",
     "text": [
      "Saving results in F:\\videos\\ar41motor\\2022_07_29...\n",
      "Saving csv poses!\n",
      "Starting to analyze %  F:\\videos\\ar41motor\\2022_07_29\\Mask101L.avi\n",
      "F:\\videos\\ar41motor\\2022_07_29  already exists!\n",
      "Loading  F:\\videos\\ar41motor\\2022_07_29\\Mask101L.avi\n",
      "Duration of video [s]:  10.65 , recorded with  40.0 fps!\n",
      "Overall # of frames:  426  found with (before cropping) frame dimensions:  314 700\n",
      "Starting to extract posture\n"
     ]
    },
    {
     "name": "stderr",
     "output_type": "stream",
     "text": [
      "430it [00:16, 25.74it/s]                                                                                               "
     ]
    },
    {
     "name": "stdout",
     "output_type": "stream",
     "text": [
      "Detected frames:  426\n"
     ]
    },
    {
     "name": "stderr",
     "output_type": "stream",
     "text": [
      "430it [00:17, 25.04it/s]\n"
     ]
    },
    {
     "name": "stdout",
     "output_type": "stream",
     "text": [
      "Saving results in F:\\videos\\ar41motor\\2022_07_29...\n",
      "Saving csv poses!\n",
      "Starting to analyze %  F:\\videos\\ar41motor\\2022_07_29\\Mask102L.avi\n",
      "F:\\videos\\ar41motor\\2022_07_29  already exists!\n",
      "Loading  F:\\videos\\ar41motor\\2022_07_29\\Mask102L.avi\n",
      "Duration of video [s]:  12.5 , recorded with  40.0 fps!\n",
      "Overall # of frames:  500  found with (before cropping) frame dimensions:  314 700\n",
      "Starting to extract posture\n"
     ]
    },
    {
     "name": "stderr",
     "output_type": "stream",
     "text": [
      "510it [00:19, 27.08it/s]                                                                                               "
     ]
    },
    {
     "name": "stdout",
     "output_type": "stream",
     "text": [
      "Detected frames:  500\n"
     ]
    },
    {
     "name": "stderr",
     "output_type": "stream",
     "text": [
      "510it [00:19, 25.71it/s]\n"
     ]
    },
    {
     "name": "stdout",
     "output_type": "stream",
     "text": [
      "Saving results in F:\\videos\\ar41motor\\2022_07_29...\n",
      "Saving csv poses!\n",
      "Starting to analyze %  F:\\videos\\ar41motor\\2022_07_29\\Mask103L.avi\n",
      "F:\\videos\\ar41motor\\2022_07_29  already exists!\n",
      "Loading  F:\\videos\\ar41motor\\2022_07_29\\Mask103L.avi\n",
      "Duration of video [s]:  1.75 , recorded with  40.0 fps!\n",
      "Overall # of frames:  70  found with (before cropping) frame dimensions:  314 700\n",
      "Starting to extract posture\n"
     ]
    },
    {
     "name": "stderr",
     "output_type": "stream",
     "text": [
      "80it [00:02, 29.63it/s]                                                                                                "
     ]
    },
    {
     "name": "stdout",
     "output_type": "stream",
     "text": [
      "Detected frames:  70\n"
     ]
    },
    {
     "name": "stderr",
     "output_type": "stream",
     "text": [
      "80it [00:02, 26.92it/s]\n"
     ]
    },
    {
     "name": "stdout",
     "output_type": "stream",
     "text": [
      "Saving results in F:\\videos\\ar41motor\\2022_07_29...\n",
      "Saving csv poses!\n",
      "Starting to analyze %  F:\\videos\\ar41motor\\2022_07_29\\Mask104L.avi\n",
      "F:\\videos\\ar41motor\\2022_07_29  already exists!\n",
      "Loading  F:\\videos\\ar41motor\\2022_07_29\\Mask104L.avi\n",
      "Duration of video [s]:  12.5 , recorded with  40.0 fps!\n",
      "Overall # of frames:  500  found with (before cropping) frame dimensions:  314 700\n",
      "Starting to extract posture\n"
     ]
    },
    {
     "name": "stderr",
     "output_type": "stream",
     "text": [
      "510it [00:19, 26.36it/s]                                                                                               "
     ]
    },
    {
     "name": "stdout",
     "output_type": "stream",
     "text": [
      "Detected frames:  500\n"
     ]
    },
    {
     "name": "stderr",
     "output_type": "stream",
     "text": [
      "510it [00:19, 25.53it/s]\n"
     ]
    },
    {
     "name": "stdout",
     "output_type": "stream",
     "text": [
      "Saving results in F:\\videos\\ar41motor\\2022_07_29...\n",
      "Saving csv poses!\n",
      "Starting to analyze %  F:\\videos\\ar41motor\\2022_07_29\\Mask105L.avi\n",
      "F:\\videos\\ar41motor\\2022_07_29  already exists!\n",
      "Loading  F:\\videos\\ar41motor\\2022_07_29\\Mask105L.avi\n",
      "Duration of video [s]:  12.5 , recorded with  40.0 fps!\n",
      "Overall # of frames:  500  found with (before cropping) frame dimensions:  314 700\n",
      "Starting to extract posture\n"
     ]
    },
    {
     "name": "stderr",
     "output_type": "stream",
     "text": [
      "510it [00:19, 25.65it/s]                                                                                               "
     ]
    },
    {
     "name": "stdout",
     "output_type": "stream",
     "text": [
      "Detected frames:  500\n"
     ]
    },
    {
     "name": "stderr",
     "output_type": "stream",
     "text": [
      "510it [00:20, 25.44it/s]\n"
     ]
    },
    {
     "name": "stdout",
     "output_type": "stream",
     "text": [
      "Saving results in F:\\videos\\ar41motor\\2022_07_29...\n",
      "Saving csv poses!\n",
      "Starting to analyze %  F:\\videos\\ar41motor\\2022_07_29\\Mask106L.avi\n",
      "F:\\videos\\ar41motor\\2022_07_29  already exists!\n",
      "Loading  F:\\videos\\ar41motor\\2022_07_29\\Mask106L.avi\n",
      "Duration of video [s]:  12.5 , recorded with  40.0 fps!\n",
      "Overall # of frames:  500  found with (before cropping) frame dimensions:  314 700\n",
      "Starting to extract posture\n"
     ]
    },
    {
     "name": "stderr",
     "output_type": "stream",
     "text": [
      "510it [00:20, 25.70it/s]                                                                                               "
     ]
    },
    {
     "name": "stdout",
     "output_type": "stream",
     "text": [
      "Detected frames:  500\n"
     ]
    },
    {
     "name": "stderr",
     "output_type": "stream",
     "text": [
      "510it [00:20, 24.87it/s]\n"
     ]
    },
    {
     "name": "stdout",
     "output_type": "stream",
     "text": [
      "Saving results in F:\\videos\\ar41motor\\2022_07_29...\n",
      "Saving csv poses!\n",
      "Starting to analyze %  F:\\videos\\ar41motor\\2022_07_29\\Mask107L.avi\n",
      "F:\\videos\\ar41motor\\2022_07_29  already exists!\n",
      "Loading  F:\\videos\\ar41motor\\2022_07_29\\Mask107L.avi\n",
      "Duration of video [s]:  12.5 , recorded with  40.0 fps!\n",
      "Overall # of frames:  500  found with (before cropping) frame dimensions:  314 700\n",
      "Starting to extract posture\n"
     ]
    },
    {
     "name": "stderr",
     "output_type": "stream",
     "text": [
      "510it [00:20, 25.55it/s]                                                                                               "
     ]
    },
    {
     "name": "stdout",
     "output_type": "stream",
     "text": [
      "Detected frames:  500\n"
     ]
    },
    {
     "name": "stderr",
     "output_type": "stream",
     "text": [
      "510it [00:20, 24.83it/s]\n"
     ]
    },
    {
     "name": "stdout",
     "output_type": "stream",
     "text": [
      "Saving results in F:\\videos\\ar41motor\\2022_07_29...\n",
      "Saving csv poses!\n",
      "Starting to analyze %  F:\\videos\\ar41motor\\2022_07_29\\Mask108L.avi\n",
      "F:\\videos\\ar41motor\\2022_07_29  already exists!\n",
      "Loading  F:\\videos\\ar41motor\\2022_07_29\\Mask108L.avi\n",
      "Duration of video [s]:  12.5 , recorded with  40.0 fps!\n",
      "Overall # of frames:  500  found with (before cropping) frame dimensions:  314 700\n",
      "Starting to extract posture\n"
     ]
    },
    {
     "name": "stderr",
     "output_type": "stream",
     "text": [
      "510it [00:20, 26.35it/s]                                                                                               "
     ]
    },
    {
     "name": "stdout",
     "output_type": "stream",
     "text": [
      "Detected frames:  500\n"
     ]
    },
    {
     "name": "stderr",
     "output_type": "stream",
     "text": [
      "510it [00:20, 24.35it/s]\n"
     ]
    },
    {
     "name": "stdout",
     "output_type": "stream",
     "text": [
      "Saving results in F:\\videos\\ar41motor\\2022_07_29...\n",
      "Saving csv poses!\n",
      "Starting to analyze %  F:\\videos\\ar41motor\\2022_07_29\\Mask109L.avi\n",
      "F:\\videos\\ar41motor\\2022_07_29  already exists!\n",
      "Loading  F:\\videos\\ar41motor\\2022_07_29\\Mask109L.avi\n",
      "Duration of video [s]:  12.35 , recorded with  40.0 fps!\n",
      "Overall # of frames:  494  found with (before cropping) frame dimensions:  314 700\n",
      "Starting to extract posture\n"
     ]
    },
    {
     "name": "stderr",
     "output_type": "stream",
     "text": [
      "500it [00:19, 24.16it/s]                                                                                               "
     ]
    },
    {
     "name": "stdout",
     "output_type": "stream",
     "text": [
      "Detected frames:  494\n"
     ]
    },
    {
     "name": "stderr",
     "output_type": "stream",
     "text": [
      "500it [00:20, 24.67it/s]\n"
     ]
    },
    {
     "name": "stdout",
     "output_type": "stream",
     "text": [
      "Saving results in F:\\videos\\ar41motor\\2022_07_29...\n",
      "Saving csv poses!\n",
      "Starting to analyze %  F:\\videos\\ar41motor\\2022_07_29\\Mask10L.avi\n",
      "F:\\videos\\ar41motor\\2022_07_29  already exists!\n",
      "Loading  F:\\videos\\ar41motor\\2022_07_29\\Mask10L.avi\n",
      "Duration of video [s]:  5.05 , recorded with  40.0 fps!\n",
      "Overall # of frames:  202  found with (before cropping) frame dimensions:  314 700\n",
      "Starting to extract posture\n"
     ]
    },
    {
     "name": "stderr",
     "output_type": "stream",
     "text": [
      "210it [00:08, 22.37it/s]                                                                                               "
     ]
    },
    {
     "name": "stdout",
     "output_type": "stream",
     "text": [
      "Detected frames:  202\n"
     ]
    },
    {
     "name": "stderr",
     "output_type": "stream",
     "text": [
      "210it [00:08, 24.94it/s]\n"
     ]
    },
    {
     "name": "stdout",
     "output_type": "stream",
     "text": [
      "Saving results in F:\\videos\\ar41motor\\2022_07_29...\n",
      "Saving csv poses!\n",
      "Starting to analyze %  F:\\videos\\ar41motor\\2022_07_29\\Mask110L.avi\n",
      "F:\\videos\\ar41motor\\2022_07_29  already exists!\n",
      "Loading  F:\\videos\\ar41motor\\2022_07_29\\Mask110L.avi\n",
      "Duration of video [s]:  12.5 , recorded with  40.0 fps!\n",
      "Overall # of frames:  500  found with (before cropping) frame dimensions:  314 700\n",
      "Starting to extract posture\n"
     ]
    },
    {
     "name": "stderr",
     "output_type": "stream",
     "text": [
      "510it [00:20, 25.71it/s]                                                                                               "
     ]
    },
    {
     "name": "stdout",
     "output_type": "stream",
     "text": [
      "Detected frames:  500\n"
     ]
    },
    {
     "name": "stderr",
     "output_type": "stream",
     "text": [
      "510it [00:20, 24.82it/s]\n"
     ]
    },
    {
     "name": "stdout",
     "output_type": "stream",
     "text": [
      "Saving results in F:\\videos\\ar41motor\\2022_07_29...\n",
      "Saving csv poses!\n",
      "Starting to analyze %  F:\\videos\\ar41motor\\2022_07_29\\Mask111L.avi\n",
      "F:\\videos\\ar41motor\\2022_07_29  already exists!\n",
      "Loading  F:\\videos\\ar41motor\\2022_07_29\\Mask111L.avi\n",
      "Duration of video [s]:  3.42 , recorded with  40.0 fps!\n",
      "Overall # of frames:  137  found with (before cropping) frame dimensions:  314 700\n",
      "Starting to extract posture\n"
     ]
    },
    {
     "name": "stderr",
     "output_type": "stream",
     "text": [
      "140it [00:05, 24.15it/s]                                                                                               "
     ]
    },
    {
     "name": "stdout",
     "output_type": "stream",
     "text": [
      "Detected frames:  137\n"
     ]
    },
    {
     "name": "stderr",
     "output_type": "stream",
     "text": [
      "140it [00:05, 23.57it/s]\n"
     ]
    },
    {
     "name": "stdout",
     "output_type": "stream",
     "text": [
      "Saving results in F:\\videos\\ar41motor\\2022_07_29...\n",
      "Saving csv poses!\n",
      "Starting to analyze %  F:\\videos\\ar41motor\\2022_07_29\\Mask112L.avi\n",
      "F:\\videos\\ar41motor\\2022_07_29  already exists!\n",
      "Loading  F:\\videos\\ar41motor\\2022_07_29\\Mask112L.avi\n",
      "Duration of video [s]:  12.15 , recorded with  40.0 fps!\n",
      "Overall # of frames:  486  found with (before cropping) frame dimensions:  314 700\n",
      "Starting to extract posture\n"
     ]
    },
    {
     "name": "stderr",
     "output_type": "stream",
     "text": [
      "490it [00:20, 21.65it/s]                                                                                               "
     ]
    },
    {
     "name": "stdout",
     "output_type": "stream",
     "text": [
      "Detected frames:  486\n"
     ]
    },
    {
     "name": "stderr",
     "output_type": "stream",
     "text": [
      "490it [00:20, 24.03it/s]\n"
     ]
    },
    {
     "name": "stdout",
     "output_type": "stream",
     "text": [
      "Saving results in F:\\videos\\ar41motor\\2022_07_29...\n",
      "Saving csv poses!\n",
      "Starting to analyze %  F:\\videos\\ar41motor\\2022_07_29\\Mask113L.avi\n",
      "F:\\videos\\ar41motor\\2022_07_29  already exists!\n",
      "Loading  F:\\videos\\ar41motor\\2022_07_29\\Mask113L.avi\n",
      "Duration of video [s]:  12.43 , recorded with  40.0 fps!\n",
      "Overall # of frames:  497  found with (before cropping) frame dimensions:  314 700\n",
      "Starting to extract posture\n"
     ]
    },
    {
     "name": "stderr",
     "output_type": "stream",
     "text": [
      "500it [00:20, 22.85it/s]                                                                                               "
     ]
    },
    {
     "name": "stdout",
     "output_type": "stream",
     "text": [
      "Detected frames:  497\n"
     ]
    },
    {
     "name": "stderr",
     "output_type": "stream",
     "text": [
      "500it [00:21, 23.51it/s]\n"
     ]
    },
    {
     "name": "stdout",
     "output_type": "stream",
     "text": [
      "Saving results in F:\\videos\\ar41motor\\2022_07_29...\n",
      "Saving csv poses!\n",
      "Starting to analyze %  F:\\videos\\ar41motor\\2022_07_29\\Mask114L.avi\n",
      "F:\\videos\\ar41motor\\2022_07_29  already exists!\n",
      "Loading  F:\\videos\\ar41motor\\2022_07_29\\Mask114L.avi\n",
      "Duration of video [s]:  12.47 , recorded with  40.0 fps!\n",
      "Overall # of frames:  499  found with (before cropping) frame dimensions:  314 700\n",
      "Starting to extract posture\n"
     ]
    },
    {
     "name": "stderr",
     "output_type": "stream",
     "text": [
      "500it [00:20, 23.62it/s]                                                                                               "
     ]
    },
    {
     "name": "stdout",
     "output_type": "stream",
     "text": [
      "Detected frames:  499\n"
     ]
    },
    {
     "name": "stderr",
     "output_type": "stream",
     "text": [
      "500it [00:21, 23.28it/s]\n"
     ]
    },
    {
     "name": "stdout",
     "output_type": "stream",
     "text": [
      "Saving results in F:\\videos\\ar41motor\\2022_07_29...\n",
      "Saving csv poses!\n",
      "Starting to analyze %  F:\\videos\\ar41motor\\2022_07_29\\Mask115L.avi\n",
      "F:\\videos\\ar41motor\\2022_07_29  already exists!\n",
      "Loading  F:\\videos\\ar41motor\\2022_07_29\\Mask115L.avi\n",
      "Duration of video [s]:  11.15 , recorded with  40.0 fps!\n",
      "Overall # of frames:  446  found with (before cropping) frame dimensions:  314 700\n",
      "Starting to extract posture\n"
     ]
    },
    {
     "name": "stderr",
     "output_type": "stream",
     "text": [
      "450it [00:18, 21.87it/s]                                                                                               "
     ]
    },
    {
     "name": "stdout",
     "output_type": "stream",
     "text": [
      "Detected frames:  446\n"
     ]
    },
    {
     "name": "stderr",
     "output_type": "stream",
     "text": [
      "450it [00:19, 23.63it/s]\n"
     ]
    },
    {
     "name": "stdout",
     "output_type": "stream",
     "text": [
      "Saving results in F:\\videos\\ar41motor\\2022_07_29...\n",
      "Saving csv poses!\n",
      "Starting to analyze %  F:\\videos\\ar41motor\\2022_07_29\\Mask116L.avi\n",
      "F:\\videos\\ar41motor\\2022_07_29  already exists!\n",
      "Loading  F:\\videos\\ar41motor\\2022_07_29\\Mask116L.avi\n",
      "Duration of video [s]:  12.35 , recorded with  40.0 fps!\n",
      "Overall # of frames:  494  found with (before cropping) frame dimensions:  314 700\n",
      "Starting to extract posture\n"
     ]
    },
    {
     "name": "stderr",
     "output_type": "stream",
     "text": [
      "500it [00:20, 22.74it/s]                                                                                               "
     ]
    },
    {
     "name": "stdout",
     "output_type": "stream",
     "text": [
      "Detected frames:  494\n"
     ]
    },
    {
     "name": "stderr",
     "output_type": "stream",
     "text": [
      "500it [00:20, 24.07it/s]\n"
     ]
    },
    {
     "name": "stdout",
     "output_type": "stream",
     "text": [
      "Saving results in F:\\videos\\ar41motor\\2022_07_29...\n",
      "Saving csv poses!\n",
      "Starting to analyze %  F:\\videos\\ar41motor\\2022_07_29\\Mask117L.avi\n",
      "F:\\videos\\ar41motor\\2022_07_29  already exists!\n",
      "Loading  F:\\videos\\ar41motor\\2022_07_29\\Mask117L.avi\n",
      "Duration of video [s]:  12.5 , recorded with  40.0 fps!\n",
      "Overall # of frames:  500  found with (before cropping) frame dimensions:  314 700\n",
      "Starting to extract posture\n"
     ]
    },
    {
     "name": "stderr",
     "output_type": "stream",
     "text": [
      "510it [00:20, 25.09it/s]                                                                                               "
     ]
    },
    {
     "name": "stdout",
     "output_type": "stream",
     "text": [
      "Detected frames:  500\n"
     ]
    },
    {
     "name": "stderr",
     "output_type": "stream",
     "text": [
      "510it [00:21, 24.12it/s]\n"
     ]
    },
    {
     "name": "stdout",
     "output_type": "stream",
     "text": [
      "Saving results in F:\\videos\\ar41motor\\2022_07_29...\n",
      "Saving csv poses!\n",
      "Starting to analyze %  F:\\videos\\ar41motor\\2022_07_29\\Mask118L.avi\n",
      "F:\\videos\\ar41motor\\2022_07_29  already exists!\n",
      "Loading  F:\\videos\\ar41motor\\2022_07_29\\Mask118L.avi\n",
      "Duration of video [s]:  9.53 , recorded with  40.0 fps!\n",
      "Overall # of frames:  381  found with (before cropping) frame dimensions:  314 700\n",
      "Starting to extract posture\n"
     ]
    },
    {
     "name": "stderr",
     "output_type": "stream",
     "text": [
      "390it [00:15, 24.70it/s]                                                                                               "
     ]
    },
    {
     "name": "stdout",
     "output_type": "stream",
     "text": [
      "Detected frames:  381\n"
     ]
    },
    {
     "name": "stderr",
     "output_type": "stream",
     "text": [
      "390it [00:16, 24.09it/s]\n"
     ]
    },
    {
     "name": "stdout",
     "output_type": "stream",
     "text": [
      "Saving results in F:\\videos\\ar41motor\\2022_07_29...\n",
      "Saving csv poses!\n",
      "Starting to analyze %  F:\\videos\\ar41motor\\2022_07_29\\Mask119L.avi\n",
      "F:\\videos\\ar41motor\\2022_07_29  already exists!\n",
      "Loading  F:\\videos\\ar41motor\\2022_07_29\\Mask119L.avi\n",
      "Duration of video [s]:  12.5 , recorded with  40.0 fps!\n",
      "Overall # of frames:  500  found with (before cropping) frame dimensions:  314 700\n",
      "Starting to extract posture\n"
     ]
    },
    {
     "name": "stderr",
     "output_type": "stream",
     "text": [
      "510it [00:21, 24.02it/s]                                                                                               "
     ]
    },
    {
     "name": "stdout",
     "output_type": "stream",
     "text": [
      "Detected frames:  500\n"
     ]
    },
    {
     "name": "stderr",
     "output_type": "stream",
     "text": [
      "510it [00:21, 23.57it/s]\n"
     ]
    },
    {
     "name": "stdout",
     "output_type": "stream",
     "text": [
      "Saving results in F:\\videos\\ar41motor\\2022_07_29...\n",
      "Saving csv poses!\n",
      "Starting to analyze %  F:\\videos\\ar41motor\\2022_07_29\\Mask11L.avi\n",
      "F:\\videos\\ar41motor\\2022_07_29  already exists!\n",
      "Loading  F:\\videos\\ar41motor\\2022_07_29\\Mask11L.avi\n",
      "Duration of video [s]:  9.07 , recorded with  40.0 fps!\n",
      "Overall # of frames:  363  found with (before cropping) frame dimensions:  314 700\n",
      "Starting to extract posture\n"
     ]
    },
    {
     "name": "stderr",
     "output_type": "stream",
     "text": [
      "370it [00:15, 20.64it/s]                                                                                               "
     ]
    },
    {
     "name": "stdout",
     "output_type": "stream",
     "text": [
      "Detected frames:  363\n"
     ]
    },
    {
     "name": "stderr",
     "output_type": "stream",
     "text": [
      "370it [00:15, 23.42it/s]\n"
     ]
    },
    {
     "name": "stdout",
     "output_type": "stream",
     "text": [
      "Saving results in F:\\videos\\ar41motor\\2022_07_29...\n",
      "Saving csv poses!\n",
      "Starting to analyze %  F:\\videos\\ar41motor\\2022_07_29\\Mask120L.avi\n",
      "F:\\videos\\ar41motor\\2022_07_29  already exists!\n",
      "Loading  F:\\videos\\ar41motor\\2022_07_29\\Mask120L.avi\n",
      "Duration of video [s]:  12.47 , recorded with  40.0 fps!\n",
      "Overall # of frames:  499  found with (before cropping) frame dimensions:  314 700\n",
      "Starting to extract posture\n"
     ]
    },
    {
     "name": "stderr",
     "output_type": "stream",
     "text": [
      "500it [00:20, 23.79it/s]                                                                                               "
     ]
    },
    {
     "name": "stdout",
     "output_type": "stream",
     "text": [
      "Detected frames:  499\n"
     ]
    },
    {
     "name": "stderr",
     "output_type": "stream",
     "text": [
      "500it [00:21, 23.03it/s]\n"
     ]
    },
    {
     "name": "stdout",
     "output_type": "stream",
     "text": [
      "Saving results in F:\\videos\\ar41motor\\2022_07_29...\n",
      "Saving csv poses!\n",
      "Starting to analyze %  F:\\videos\\ar41motor\\2022_07_29\\Mask121L.avi\n",
      "F:\\videos\\ar41motor\\2022_07_29  already exists!\n",
      "Loading  F:\\videos\\ar41motor\\2022_07_29\\Mask121L.avi\n",
      "Duration of video [s]:  12.5 , recorded with  40.0 fps!\n",
      "Overall # of frames:  500  found with (before cropping) frame dimensions:  314 700\n",
      "Starting to extract posture\n"
     ]
    },
    {
     "name": "stderr",
     "output_type": "stream",
     "text": [
      "510it [00:24, 22.64it/s]                                                                                               "
     ]
    },
    {
     "name": "stdout",
     "output_type": "stream",
     "text": [
      "Detected frames:  500\n"
     ]
    },
    {
     "name": "stderr",
     "output_type": "stream",
     "text": [
      "510it [00:24, 20.90it/s]\n"
     ]
    },
    {
     "name": "stdout",
     "output_type": "stream",
     "text": [
      "Saving results in F:\\videos\\ar41motor\\2022_07_29...\n",
      "Saving csv poses!\n",
      "Starting to analyze %  F:\\videos\\ar41motor\\2022_07_29\\Mask122L.avi\n",
      "F:\\videos\\ar41motor\\2022_07_29  already exists!\n",
      "Loading  F:\\videos\\ar41motor\\2022_07_29\\Mask122L.avi\n",
      "Duration of video [s]:  12.5 , recorded with  40.0 fps!\n",
      "Overall # of frames:  500  found with (before cropping) frame dimensions:  314 700\n",
      "Starting to extract posture\n"
     ]
    },
    {
     "name": "stderr",
     "output_type": "stream",
     "text": [
      "510it [00:20, 24.88it/s]                                                                                               "
     ]
    },
    {
     "name": "stdout",
     "output_type": "stream",
     "text": [
      "Detected frames:  500\n"
     ]
    },
    {
     "name": "stderr",
     "output_type": "stream",
     "text": [
      "510it [00:21, 24.24it/s]\n"
     ]
    },
    {
     "name": "stdout",
     "output_type": "stream",
     "text": [
      "Saving results in F:\\videos\\ar41motor\\2022_07_29...\n",
      "Saving csv poses!\n",
      "Starting to analyze %  F:\\videos\\ar41motor\\2022_07_29\\Mask123L.avi\n",
      "F:\\videos\\ar41motor\\2022_07_29  already exists!\n",
      "Loading  F:\\videos\\ar41motor\\2022_07_29\\Mask123L.avi\n",
      "Duration of video [s]:  12.47 , recorded with  40.0 fps!\n",
      "Overall # of frames:  499  found with (before cropping) frame dimensions:  314 700\n",
      "Starting to extract posture\n"
     ]
    },
    {
     "name": "stderr",
     "output_type": "stream",
     "text": [
      "500it [00:23, 17.88it/s]                                                                                               "
     ]
    },
    {
     "name": "stdout",
     "output_type": "stream",
     "text": [
      "Detected frames:  499\n"
     ]
    },
    {
     "name": "stderr",
     "output_type": "stream",
     "text": [
      "500it [00:23, 21.06it/s]\n"
     ]
    },
    {
     "name": "stdout",
     "output_type": "stream",
     "text": [
      "Saving results in F:\\videos\\ar41motor\\2022_07_29...\n",
      "Saving csv poses!\n",
      "Starting to analyze %  F:\\videos\\ar41motor\\2022_07_29\\Mask124L.avi\n",
      "F:\\videos\\ar41motor\\2022_07_29  already exists!\n",
      "Loading  F:\\videos\\ar41motor\\2022_07_29\\Mask124L.avi\n",
      "Duration of video [s]:  4.3 , recorded with  40.0 fps!\n",
      "Overall # of frames:  172  found with (before cropping) frame dimensions:  314 700\n",
      "Starting to extract posture\n"
     ]
    },
    {
     "name": "stderr",
     "output_type": "stream",
     "text": [
      "180it [00:07, 23.11it/s]                                                                                               "
     ]
    },
    {
     "name": "stdout",
     "output_type": "stream",
     "text": [
      "Detected frames:  172\n"
     ]
    },
    {
     "name": "stderr",
     "output_type": "stream",
     "text": [
      "180it [00:07, 23.70it/s]\n"
     ]
    },
    {
     "name": "stdout",
     "output_type": "stream",
     "text": [
      "Saving results in F:\\videos\\ar41motor\\2022_07_29...\n",
      "Saving csv poses!\n",
      "Starting to analyze %  F:\\videos\\ar41motor\\2022_07_29\\Mask125L.avi\n",
      "F:\\videos\\ar41motor\\2022_07_29  already exists!\n",
      "Loading  F:\\videos\\ar41motor\\2022_07_29\\Mask125L.avi\n",
      "Duration of video [s]:  3.65 , recorded with  40.0 fps!\n",
      "Overall # of frames:  146  found with (before cropping) frame dimensions:  314 700\n",
      "Starting to extract posture\n"
     ]
    },
    {
     "name": "stderr",
     "output_type": "stream",
     "text": [
      "150it [00:05, 25.38it/s]                                                                                               "
     ]
    },
    {
     "name": "stdout",
     "output_type": "stream",
     "text": [
      "Detected frames:  146\n"
     ]
    },
    {
     "name": "stderr",
     "output_type": "stream",
     "text": [
      "150it [00:06, 23.63it/s]\n"
     ]
    },
    {
     "name": "stdout",
     "output_type": "stream",
     "text": [
      "Saving results in F:\\videos\\ar41motor\\2022_07_29...\n",
      "Saving csv poses!\n",
      "Starting to analyze %  F:\\videos\\ar41motor\\2022_07_29\\Mask126L.avi\n",
      "F:\\videos\\ar41motor\\2022_07_29  already exists!\n",
      "Loading  F:\\videos\\ar41motor\\2022_07_29\\Mask126L.avi\n",
      "Duration of video [s]:  12.38 , recorded with  40.0 fps!\n",
      "Overall # of frames:  495  found with (before cropping) frame dimensions:  314 700\n",
      "Starting to extract posture\n"
     ]
    },
    {
     "name": "stderr",
     "output_type": "stream",
     "text": [
      "500it [00:20, 22.77it/s]                                                                                               "
     ]
    },
    {
     "name": "stdout",
     "output_type": "stream",
     "text": [
      "Detected frames:  495\n"
     ]
    },
    {
     "name": "stderr",
     "output_type": "stream",
     "text": [
      "500it [00:21, 23.71it/s]\n"
     ]
    },
    {
     "name": "stdout",
     "output_type": "stream",
     "text": [
      "Saving results in F:\\videos\\ar41motor\\2022_07_29...\n",
      "Saving csv poses!\n",
      "Starting to analyze %  F:\\videos\\ar41motor\\2022_07_29\\Mask127L.avi\n",
      "F:\\videos\\ar41motor\\2022_07_29  already exists!\n",
      "Loading  F:\\videos\\ar41motor\\2022_07_29\\Mask127L.avi\n",
      "Duration of video [s]:  8.55 , recorded with  40.0 fps!\n",
      "Overall # of frames:  342  found with (before cropping) frame dimensions:  314 700\n",
      "Starting to extract posture\n"
     ]
    },
    {
     "name": "stderr",
     "output_type": "stream",
     "text": [
      "350it [00:14, 20.97it/s]                                                                                               "
     ]
    },
    {
     "name": "stdout",
     "output_type": "stream",
     "text": [
      "Detected frames:  342\n"
     ]
    },
    {
     "name": "stderr",
     "output_type": "stream",
     "text": [
      "350it [00:15, 23.28it/s]\n"
     ]
    },
    {
     "name": "stdout",
     "output_type": "stream",
     "text": [
      "Saving results in F:\\videos\\ar41motor\\2022_07_29...\n",
      "Saving csv poses!\n",
      "Starting to analyze %  F:\\videos\\ar41motor\\2022_07_29\\Mask128L.avi\n",
      "F:\\videos\\ar41motor\\2022_07_29  already exists!\n",
      "Loading  F:\\videos\\ar41motor\\2022_07_29\\Mask128L.avi\n",
      "Duration of video [s]:  9.38 , recorded with  40.0 fps!\n",
      "Overall # of frames:  375  found with (before cropping) frame dimensions:  314 700\n",
      "Starting to extract posture\n"
     ]
    },
    {
     "name": "stderr",
     "output_type": "stream",
     "text": [
      "380it [00:20, 19.25it/s]                                                                                               "
     ]
    },
    {
     "name": "stdout",
     "output_type": "stream",
     "text": [
      "Detected frames:  375\n"
     ]
    },
    {
     "name": "stderr",
     "output_type": "stream",
     "text": [
      "380it [00:20, 18.41it/s]\n"
     ]
    },
    {
     "name": "stdout",
     "output_type": "stream",
     "text": [
      "Saving results in F:\\videos\\ar41motor\\2022_07_29...\n",
      "Saving csv poses!\n",
      "Starting to analyze %  F:\\videos\\ar41motor\\2022_07_29\\Mask129L.avi\n",
      "F:\\videos\\ar41motor\\2022_07_29  already exists!\n",
      "Loading  F:\\videos\\ar41motor\\2022_07_29\\Mask129L.avi\n",
      "Duration of video [s]:  12.5 , recorded with  40.0 fps!\n",
      "Overall # of frames:  500  found with (before cropping) frame dimensions:  314 700\n",
      "Starting to extract posture\n"
     ]
    },
    {
     "name": "stderr",
     "output_type": "stream",
     "text": [
      "510it [00:23, 21.67it/s]                                                                                               "
     ]
    },
    {
     "name": "stdout",
     "output_type": "stream",
     "text": [
      "Detected frames:  500\n"
     ]
    },
    {
     "name": "stderr",
     "output_type": "stream",
     "text": [
      "510it [00:23, 21.31it/s]\n"
     ]
    },
    {
     "name": "stdout",
     "output_type": "stream",
     "text": [
      "Saving results in F:\\videos\\ar41motor\\2022_07_29...\n",
      "Saving csv poses!\n",
      "Starting to analyze %  F:\\videos\\ar41motor\\2022_07_29\\Mask12L.avi\n",
      "F:\\videos\\ar41motor\\2022_07_29  already exists!\n",
      "Loading  F:\\videos\\ar41motor\\2022_07_29\\Mask12L.avi\n",
      "Duration of video [s]:  6.67 , recorded with  40.0 fps!\n",
      "Overall # of frames:  267  found with (before cropping) frame dimensions:  314 700\n",
      "Starting to extract posture\n"
     ]
    },
    {
     "name": "stderr",
     "output_type": "stream",
     "text": [
      "270it [00:13, 21.86it/s]                                                                                               "
     ]
    },
    {
     "name": "stdout",
     "output_type": "stream",
     "text": [
      "Detected frames:  267\n"
     ]
    },
    {
     "name": "stderr",
     "output_type": "stream",
     "text": [
      "270it [00:14, 19.26it/s]\n"
     ]
    },
    {
     "name": "stdout",
     "output_type": "stream",
     "text": [
      "Saving results in F:\\videos\\ar41motor\\2022_07_29...\n",
      "Saving csv poses!\n",
      "Starting to analyze %  F:\\videos\\ar41motor\\2022_07_29\\Mask130L.avi\n",
      "F:\\videos\\ar41motor\\2022_07_29  already exists!\n",
      "Loading  F:\\videos\\ar41motor\\2022_07_29\\Mask130L.avi\n",
      "Duration of video [s]:  12.5 , recorded with  40.0 fps!\n",
      "Overall # of frames:  500  found with (before cropping) frame dimensions:  314 700\n",
      "Starting to extract posture\n"
     ]
    },
    {
     "name": "stderr",
     "output_type": "stream",
     "text": [
      " 52%|█████████████████████████████████████████▌                                      | 260/500 [00:12<00:11, 20.99it/s]"
     ]
    }
   ],
   "source": [
    "#Mainfolder = 'F:\\\\videos\\\\ar34motor\\\\2022_01_27'\n",
    "import os\n",
    "import image_util\n",
    "path_config_file = '\\\\\\\\dk-server.dk.ucsd.edu\\\\afassihizakeri\\\\DLC\\\\ar30shiwker-Arash-2021-09-13\\\\config.yaml'\n",
    "XfilesL = [os.path.join(Mainfolder,f) for f in os.listdir(Mainfolder) if f.startswith('Mask')  ] # find all files with R.avi as file name\n",
    "XfilesR = [os.path.join(Mainfolder,f) for f in os.listdir(Mainfolder) if f.startswith('Mirror')  ] # find all files with R.avi as file name\n",
    "#print(XfilesL)\n",
    "scorernameL=deeplabcut.analyze_videos(path_config_file,XfilesL,shuffle=2, save_as_csv=True)\n",
    "#print(scorernameL)\n",
    "deeplabcut.filterpredictions(path_config_file,XfilesL,shuffle=2)\n",
    "scorernameR=deeplabcut.analyze_videos(path_config_file,XfilesR,shuffle=2, save_as_csv=True)\n",
    "#print(scorernameR)\n",
    "deeplabcut.filterpredictions(path_config_file,XfilesR,shuffle=2)"
   ]
  },
  {
   "cell_type": "markdown",
   "metadata": {},
   "source": [
    "# copy tracked files into the server (with mp4 movies)"
   ]
  },
  {
   "cell_type": "code",
   "execution_count": null,
   "metadata": {},
   "outputs": [],
   "source": [
    "Mainfolder = 'F:\\\\videos\\\\ar32motor\\\\2021_08_02'\n",
    "destination = ''\n",
    "destination='//dk-server.dk.ucsd.edu/afassihizakeri/SC_Movies/ar32motor/2021_08_02/Side'\n",
    "import shutil\n",
    "shutil.copytree( Mainfolder,destination, ignore=shutil.ignore_patterns('*.avi'),copy_function = shutil.copy)\n",
    "#copytree(Mainfolder, destination, ignore=ignore_patterns('*.avi'))\n"
   ]
  },
  {
   "cell_type": "markdown",
   "metadata": {},
   "source": [
    "# save left right for a given trial"
   ]
  },
  {
   "cell_type": "code",
   "execution_count": null,
   "metadata": {},
   "outputs": [],
   "source": [
    "import time\n",
    "import numpy as np\n",
    "import os\n",
    "import LR_movie_maker_Main\n",
    "text_files = [os.path.join(Mainfolder,f) for f in os.listdir(Mainfolder) if f.endswith('video.mp4') and not f.endswith('L.avi') and not f.endswith('R.avi') and not f.endswith('videopoints.avi') and not f.endswith('videopoints.avi')]\n",
    "Trialname='100video.mp4'\n",
    "trial = [trial for trial in range(len(text_files)) if text_files[trial].endswith(Trialname)]\n",
    "trial = int(trial[0])\n",
    "t =time.time()\n",
    "Tag = 'Topview'\n",
    "df, Angle,Distance,movivename=LR_movie_maker_Main.readDLCfiles(Mainfolder,Tag,trial)\n",
    "text = os.path.basename(movivename);\n",
    "#%matplotlib notebook\n",
    "Good_Frames =LR_movie_maker_Main.findgoodrames(0.8,50,150,df,Distance)\n",
    "LR_movie_maker_Main.writeFrameData(Mainfolder,text,Good_Frames,df,Angle)\n",
    "LR_movie_maker_Main.savemovies_LR(movivename,Angle,df,Good_Frames,\".mp4\") \n",
    "#plt.plot(Angle[Good_Frames==1] ,'r--')\n",
    "#plt.title(os.path.basename(movivename))\n",
    "elapsed = time.time() - t \n",
    "video_name = (os.path.join(os.path.dirname(movivename),text.split('DLC')[0]+\".avi\"));\n",
    "print('Trial=',video_name,'Elapsed',elapsed)"
   ]
  }
 ],
 "metadata": {
  "kernelspec": {
   "display_name": "Python 3 (ipykernel)",
   "language": "python",
   "name": "python3"
  },
  "language_info": {
   "codemirror_mode": {
    "name": "ipython",
    "version": 3
   },
   "file_extension": ".py",
   "mimetype": "text/x-python",
   "name": "python",
   "nbconvert_exporter": "python",
   "pygments_lexer": "ipython3",
   "version": "3.8.13"
  }
 },
 "nbformat": 4,
 "nbformat_minor": 2
}
