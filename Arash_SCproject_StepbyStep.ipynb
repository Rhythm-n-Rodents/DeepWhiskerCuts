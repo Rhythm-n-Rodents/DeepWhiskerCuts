{
 "cells": [
  {
   "cell_type": "markdown",
   "metadata": {
    "colab_type": "text",
    "id": "RK255E7YoEIt"
   },
   "source": [
    "# DeepLabCut Toolbox\n",
    "https://github.com/AlexEMG/DeepLabCut\n",
    "\n",
    "\n",
    "This notebook demonstrates the necessary steps to use python and DeepLabCut for creating and analysins videos from orientation \n",
    "experiment \n",
    "\n",
    "This notebook illustrates how to:\n",
    " \n",
    "- make a movie from images \n",
    "- create a project\n",
    "- extract training frames\n",
    "- label the frames\n",
    "- plot the labeled images (optional)\n",
    "- create a training set\n",
    "- train a network\n",
    "- evaluate a network\n",
    "- analyze a novel video\n",
    "- create an automatically labeled video (optional)\n",
    "- Go to Matlab \n",
    "\n"
   ]
  },
  {
   "cell_type": "markdown",
   "metadata": {
    "colab_type": "text",
    "id": "9Uoz9mdPoEIy"
   },
   "source": [
    "## Make  movie from images \n",
    "\n",
    "this step is to produce movie per trial. Each trial forlder contains around 600-1200 images from each trial."
   ]
  },
  {
   "cell_type": "code",
   "execution_count": 9,
   "metadata": {},
   "outputs": [
    {
     "name": "stdout",
     "output_type": "stream",
     "text": [
      "['22-03-21']\n"
     ]
    }
   ],
   "source": [
    "# enter the folder name \n",
    "Mainfolder = 'Y:\\\\movies_Rat_SC_project\\\\ar2breathing\\\\10_06_19';\n",
    "                                                                                                                  \n",
    "Ratid = 50019;\n",
    "this_date = 100819\n",
    "\n",
    "\n",
    "#F:\\ar2breathing\\10_18_19\n",
    "# entries for the xls file\n",
    "Namesforarray =['Trialnumber','Licknumberu','sidethatanimalshouldgo','timeinsecond','sensservomotor','movespots','correct','lickoccured','lihgontrials','allpulsesoflight','lightduration','Frequ','timestamp','RD'];\n",
    "\n",
    "import os # this is to get folder information and creat files \n",
    "import cv2 # this is important and is reading and writing images and video \n",
    "import subprocess \n",
    "import shutil\n",
    "import matplotlib.pyplot as plt\n",
    "import matplotlib.image as mpimg\n",
    "import numpy as np\n",
    "import xlsxwriter  # this is to write xls files \n",
    "from PIL import Image\n",
    "# define a functino to convert video_input into  video_output in mpeg format\n",
    "def convert_video(video_input, video_output):\n",
    "    cmds = ['ffmpeg', '-i', video_input, video_output]\n",
    "    subprocess.Popen(cmds)\n",
    " \n",
    "col = 0\n",
    "included_extensions = ['.png']\n",
    "K_kir = Mainfolder;\n",
    "All_Folders = os.listdir(Mainfolder)\n",
    "All_Folders=[ name for name in os.listdir(Mainfolder) if os.path.isdir(os.path.join(Mainfolder, name)) ]\n",
    "All_Folders = ['22-03-21']\n",
    "\n",
    "print(All_Folders)\n",
    "#for num in range(0,len(All_Folders)):     #to iterate between 10 to 20\n",
    "for num in range(1,len(All_Folders)): \n",
    " KK = os.path.join(K_kir+os.sep, All_Folders[num])\n",
    " KKavi =  os.path.join(K_kir+os.sep, All_Folders[num]+'.avi')\n",
    " if os.path.isfile(KKavi):\n",
    "   continue\n",
    " if not os.path.isdir(KK):\n",
    "   continue\n",
    " dirContents = os.listdir(KK)\n",
    " if len(dirContents) == 0:\n",
    "  shutil.rmtree(KK, ignore_errors=False, onerror=None)\n",
    "  continue\n",
    " os.chdir(KK)\n",
    " my_file = os.path.join(K_kir,All_Folders[num]+'.xlsx');\n",
    " workbook = xlsxwriter.Workbook(my_file)\n",
    " worksheet = workbook.add_worksheet()\n",
    " files = filter(os.path.isfile, os.listdir(KK));\n",
    " files = [os.path.join(KK, f) for f in files] # add path to each file\n",
    " files.sort(key=lambda x: os.path.getmtime(x))\n",
    " nEWfiles = [os.path.splitext(os.path.basename(f)) for f in  files] # add path to each file\n",
    " nEWfiles = [int(f[0]) for f in nEWfiles]\n",
    " nEWfiles = sorted(nEWfiles)\n",
    " files = [os.path.join(KK, str(f)+'.png' )  for f in nEWfiles] # add path to each file\n",
    " video_name = (KK + '.avi');\n",
    " video_name2 =(KK+'video'+ '.mp4');\n",
    " print(video_name)\n",
    " frame = cv2.imread(os.path.join(Mainfolder, files[0]))\n",
    " height, width, layers = frame.shape\n",
    " video = cv2.VideoWriter(video_name, 0, 1, (width,height))\n",
    " fps = 100\n",
    " images = files\n",
    " worksheet.write_row(0, 0, Namesforarray)\n",
    " for idx,image in enumerate(images):\n",
    "  #worksheet.write_row( idx+1,col, mat)\n",
    "  frame = cv2.imread(os.path.join(Mainfolder, images[idx]))\n",
    "  gray = cv2.cvtColor(frame, cv2.COLOR_BGR2GRAY);\n",
    "  Mylist = np.array(gray[1,0:12]);\n",
    "  mat1_single = np.reshape(Mylist, -1)\n",
    "  mat = np.concatenate((mat1_single,[Ratid],[this_date]))\n",
    "  worksheet.write_row( idx+1,col, mat)\n",
    "  video.write(frame)\n",
    " workbook.close()\n",
    " cv2.destroyAllWindows()\n",
    " video.release()\n",
    " #os.chdir(Mainfolder)\n",
    " #shutil.rmtree(KK, ignore_errors=Fal``se, onerror=None)\n",
    " convert_video(video_name, video_name2)"
   ]
  },
  {
   "cell_type": "markdown",
   "metadata": {
    "colab_type": "text",
    "id": "9Uoz9mdPoEIy"
   },
   "source": [
    "## Create a new project\n",
    "\n",
    "It is always good idea to keep the projects seperate. This function creates a new project with subdirectories and a basic configuration file in the user defined directory otherwise the project is created in the current working directory.\n",
    "\n",
    "You can always add new videos to the project at any stage of the project. "
   ]
  },
  {
   "cell_type": "code",
   "execution_count": 1,
   "metadata": {
    "colab": {},
    "colab_type": "code",
    "id": "jqLZhp7EoEI0"
   },
   "outputs": [],
   "source": [
    "import deeplabcut\n"
   ]
  },
  {
   "cell_type": "code",
   "execution_count": 11,
   "metadata": {
    "colab": {},
    "colab_type": "code",
    "id": "c9DjG55FoEI7",
    "scrolled": true
   },
   "outputs": [
    {
     "name": "stdout",
     "output_type": "stream",
     "text": [
      "Created \"D:\\rat_movies_SC\\ar19muscimol\\10_10_2019\\ar19muscimol10-10-19_LR_R-Arash-2020-02-28\\videos\"\n",
      "Created \"D:\\rat_movies_SC\\ar19muscimol\\10_10_2019\\ar19muscimol10-10-19_LR_R-Arash-2020-02-28\\labeled-data\"\n",
      "Created \"D:\\rat_movies_SC\\ar19muscimol\\10_10_2019\\ar19muscimol10-10-19_LR_R-Arash-2020-02-28\\training-datasets\"\n",
      "Created \"D:\\rat_movies_SC\\ar19muscimol\\10_10_2019\\ar19muscimol10-10-19_LR_R-Arash-2020-02-28\\dlc-models\"\n",
      "Copying the videos\n",
      "D:\\rat_movies_SC\\ar19muscimol\\10_10_2019\\ar19muscimol10-10-19_LR_R-Arash-2020-02-28\\videos\\02-14-34R.avi\n",
      "D:\\rat_movies_SC\\ar19muscimol\\10_10_2019\\ar19muscimol10-10-19_LR_R-Arash-2020-02-28\\videos\\02-11-41R.avi\n",
      "D:\\rat_movies_SC\\ar19muscimol\\10_10_2019\\ar19muscimol10-10-19_LR_R-Arash-2020-02-28\\videos\\02-31-39R.avi\n",
      "Generated \"D:\\rat_movies_SC\\ar19muscimol\\10_10_2019\\ar19muscimol10-10-19_LR_R-Arash-2020-02-28\\config.yaml\"\n",
      "\n",
      "A new project with name ar19muscimol10-10-19_LR_R-Arash-2020-02-28 is created at D:\\rat_movies_SC\\ar19muscimol\\10_10_2019 and a configurable file (config.yaml) is stored there. Change the parameters in this file to adapt to your project's needs.\n",
      " Once you have changed the configuration file, use the function 'extract_frames' to select frames for labeling.\n",
      ". [OPTIONAL] Use the function 'add_new_videos' to add new videos to your project (at any stage).\n"
     ]
    },
    {
     "data": {
      "text/plain": [
       "'D:\\\\rat_movies_SC\\\\ar19muscimol\\\\10_10_2019\\\\ar19muscimol10-10-19_LR_R-Arash-2020-02-28\\\\config.yaml'"
      ]
     },
     "execution_count": 11,
     "metadata": {},
     "output_type": "execute_result"
    }
   ],
   "source": [
    "task='ar19muscimol10-10-19_LR_R' # Enter the name of your experiment Task\n",
    "experimenter='Arash' # Enter the name of the experimenter\n",
    "Mainfolder =  'D:\\\\rat_movies_SC\\\\ar19muscimol\\\\10_10_2019\\\\'; # Enter the name of the folder with images folders inside \n",
    "\n",
    "filenames = ['02-14-34R.avi','02-11-41R.avi','02-31-39R.avi']\n",
    "\n",
    "\n",
    "video = [str(Mainfolder)+str(f) for f in filenames]; # add path to each file\n",
    "#video=['D:\\\\Notebook\\\\sc\\\\sc-Fassihi-2018-12-16\\\\videos\\\\video14-23-08.avi'] \n",
    "#video=['D:\\\\rat movies SC\\\\ar17\\\\01_11_19\\\\video12-29-40.avi'] \n",
    "#video=['D:\\\\rat_movies_SC\\\\ar17record\\\\02_27_19\\\\analyzed\\\\18-36-10video.MP4']\n",
    "#video=['D:\\\\movies_Rat_SC_project\\\\ar20\\\\07_08_19\\\\19-28-43video.mp4','D:\\\\movies_Rat_SC_project\\\\ar20\\\\07_08_19\\\\19-28-58video.mp4','D:\\\\movies_Rat_SC_project\\\\ar20\\\\07_08_19\\\\19-29-06video.mp4'] \n",
    "#Mainfolder = 'D:\\\\movies_Rat_SC_project\\\\ar14\\\\06_18_19'\n",
    "#video=['D:\\\\rat_movies_SC\\\\ar19tear19salin\\\\10_08_19\\\\00-24-26video.mp4','D:\\\\rat_movies_SC\\\\ar19tear19salin\\\\10_08_19\\\\00-24-02video.mp4','D:\\\\rat_movies_SC\\\\ar19tear19salin\\\\10_08_19\\\\00-26-36video.mp4'] \n",
    "#video=['F:\\\\ar2breathing\\\\10_10_19\\\\00-00-00video.mp4','F:\\\\ar2breathing\\\\10_10_19\\\\00-00-22video.mp4','F:\\\\ar2breathing\\\\10_10_19\\\\00-00-46video.mp4'] \n",
    "\n",
    "#D:\\rat movies SC\\ar15\\01_11_19\n",
    "# Enter the paths of your videos you want to grab frames from.\n",
    "# deeplabcut.create_new_project(task,experimenter,video, working_directory='Full path of the working directory',copy_videos=True/False) #change the working directory to where you want the folders created.\n",
    "deeplabcut.create_new_project(task,experimenter,video, working_directory=Mainfolder,copy_videos=True) #change the working directory to where you want the folders created."
   ]
  },
  {
   "cell_type": "markdown",
   "metadata": {
    "colab_type": "text",
    "id": "0yXW0bx1oEJA"
   },
   "source": [
    "## Extract frames from videos \n",
    "A key point for a successful feature detector is to select diverse frames, which are typical for the behavior you study that should be labeled.\n",
    "\n",
    "This function selects N frames either uniformly sampled from a particular video (or folder) (algo=='uniform'). Note: this might not yield diverse frames, if the behavior is sparsely distributed (consider using kmeans), and/or select frames manually etc.\n",
    "\n",
    "Also make sure to get select data from different (behavioral) sessions and different animals if those vary substantially (to train an invariant feature detector).\n",
    "\n",
    "Individual images should not be too big (i.e. < 850 x 850 pixel). Although this can be taken care of later as well, it is advisable to crop the frames, to remove unnecessary parts of the frame as much as possible.\n",
    "\n",
    "Always check the output of cropping. If you are happy with the results proceed to labeling."
   ]
  },
  {
   "cell_type": "code",
   "execution_count": 2,
   "metadata": {
    "colab": {},
    "colab_type": "code",
    "id": "t1ulumCuoEJC"
   },
   "outputs": [
    {
     "name": "stdout",
     "output_type": "stream",
     "text": [
      "Config file read successfully.\n",
      "Do you want to extract (perhaps additional) frames for video: D:\\rat_movies_SC\\ar19muscimol\\10_10_2019\\ar19muscimol10-10-19_LR_R-Arash-2020-02-28\\videos\\02-14-34R.avi ?\n",
      "yes/noyes\n",
      "Extracting frames based on uniform ...\n",
      "Uniformly extracting of frames from 0.0  seconds to 6.0  seconds.\n",
      "Do you want to extract (perhaps additional) frames for video: D:\\rat_movies_SC\\ar19muscimol\\10_10_2019\\ar19muscimol10-10-19_LR_R-Arash-2020-02-28\\videos\\02-11-41R.avi ?\n",
      "yes/noyes\n",
      "Extracting frames based on uniform ...\n",
      "Uniformly extracting of frames from 0.0  seconds to 4.83  seconds.\n",
      "Do you want to extract (perhaps additional) frames for video: D:\\rat_movies_SC\\ar19muscimol\\10_10_2019\\ar19muscimol10-10-19_LR_R-Arash-2020-02-28\\videos\\02-31-39R.avi ?\n",
      "yes/noyes\n",
      "Extracting frames based on uniform ...\n",
      "Uniformly extracting of frames from 0.0  seconds to 6.49  seconds.\n",
      "\n",
      "Frames were selected.\n",
      "You can now label the frames using the function 'label_frames' (if you extracted enough frames for all videos).\n"
     ]
    }
   ],
   "source": [
    "%matplotlib inline\n",
    "\n",
    "path_config_file = 'D:\\\\rat_movies_SC\\\\ar19muscimol\\\\10_10_2019\\\\ar19muscimol10-10-19_LR_R-Arash-2020-02-28\\\\config.yaml';\n",
    "#Enter the path of the config file that was just created from the above step (check the folder)\n",
    "deeplabcut.extract_frames(path_config_file,'automatic','uniform',crop=False) #there are other ways to grab frames, such as by clustering 'kmeans'; please see the paper. \n",
    "#deeplabcut.extract_frames(path_config_file,'automatic','uniform',crop=True, checkcropping=True) #there are other ways to grab frames, such as by clustering 'kmeans'; please see the paper. \n",
    "#You can change the cropping to false, then delete the checkcropping part!"
   ]
  },
  {
   "cell_type": "markdown",
   "metadata": {},
   "source": [
    "## define the config path and load deeplabcut\n"
   ]
  },
  {
   "cell_type": "code",
   "execution_count": 2,
   "metadata": {},
   "outputs": [],
   "source": [
    "#path_config_file = 'D:\\\\movies_Rat_SC_project\\\\ar20\\\\06_20_19\\\\sc_ar20_06202019-Fassihi-2019-06-20\\\\config.yaml' #Enter the path of the config file that was just created from the above step (check the folder)\n",
    "#path_config_file = 'D:\\\\movies_Rat_SC_project\\\\ar20\\\\07_08_19\\\\sc_ar20_07082019-Fassihi3-2019-07-09\\\\config.yaml'\n",
    "#path_config_file = 'D:\\\\movies_Rat_SC_project\\\\ar14\\\\09_17_19\\\\ar14_09172019_ii-Fassihi-2019-09-17\\\\config.yaml' #Enter the path of the config file that was just created from the above step (check the folder)\n",
    "#path_config_file = 'D:\\\\rat_movies_SC\\\\ar19muscimol\\\\10_10_2019\\\\ar19_10102019-Fassihi-2019-11-12\\\\config.yaml'\n",
    "#path_config_file = 'D:\\\\rat_movies_SC\\\\ar19tear19salin\\\\10_08_19\\\\ar19_10082019-Fassihi-2019-11-25\\\\config.yaml'\n",
    "#path_config_file = 'D:\\\\rat_movies_SC\\\\ar19tear19salin\\\\10_08_19_waterspouts\\\\ar19_10082019_waterspouts-Fassihi-2019-11-28\\\\config.yaml'\n",
    "#path_config_file = 'F:\\\\ar2breathing\\\\10_10_19\\\\ar2breathing10_10_19-Fassihi2-2019-12-18\\\\config.yaml'\n",
    "path_config_file = 'F:\\\\ar19salin\\\\10_08_19\\\\ar19salin_10-08-19-Sabrina-2020-01-13\\\\config.yaml'\n",
    "path_config_file = 'F:\\\\ar2breathing\\\\10_06_19\\\\ar2_10062019_ii-Fassihi-2019-10-07\\\\config.yaml'"
   ]
  },
  {
   "cell_type": "code",
   "execution_count": 2,
   "metadata": {},
   "outputs": [],
   "source": [
    "import deeplabcut\n"
   ]
  },
  {
   "cell_type": "markdown",
   "metadata": {
    "colab_type": "text",
    "id": "Gjn6ZDonoEJH"
   },
   "source": [
    "## Label the extracted frames\n",
    "Only videos in the config file can be used to extract the frames. Extracted labels for each video are stored in the project directory under the subdirectory **'labeled-data'**. Each subdirectory is named after the name of the video. The toolbox has a labeling toolbox which could be used for labeling. "
   ]
  },
  {
   "cell_type": "code",
   "execution_count": null,
   "metadata": {
    "colab": {},
    "colab_type": "code",
    "id": "iyROSOiEoEJI"
   },
   "outputs": [
    {
     "name": "stdout",
     "output_type": "stream",
     "text": [
      "You can now check the labels, using 'check_labels' before proceeding. Then, you can use the function 'create_training_dataset' to create the training dataset.\n"
     ]
    }
   ],
   "source": [
    "%gui wx\n",
    "#path_config_file = 'D:\\\\rat movies SC\\\\ar15record\\\\02_27_19\\\\sc_ar15record_02272019-Fassihi-2019-03-12\\\\config.yaml' #Enter the path of the config file that was just created from the above step (check the folder)\n",
    "#path_config_file = 'D:\\\\rat_movies_SC\\\\ar17record\\\\02_27_19\\\\sc_ar17record_02272019_3-Fassihi-2019-04-28\\\\config.yaml'\n",
    "\n",
    "deeplabcut.label_frames(path_config_file)"
   ]
  },
  {
   "cell_type": "markdown",
   "metadata": {
    "colab_type": "text",
    "id": "vim95ZvkPSeN"
   },
   "source": [
    "**Check the labels**\n",
    "\n",
    "Checking if the labels were created and stored correctly is beneficial for training, since labeling is one of the most critical parts for creating the training dataset. The DeepLabCut toolbox provides a function `check\\_labels'  to do so. It is used as follows:"
   ]
  },
  {
   "cell_type": "code",
   "execution_count": 3,
   "metadata": {
    "colab": {},
    "colab_type": "code",
    "id": "NwvgPJouPP2O"
   },
   "outputs": [
    {
     "name": "stdout",
     "output_type": "stream",
     "text": [
      "Creating images with labels by Arash.\n",
      "They are stored in the following folder: D:\\rat_movies_SC\\ar19muscimol\\10_10_2019\\ar19muscimol10-10-19_LR_R-Arash-2020-02-28\\labeled-data\\02-14-34R_labeled.\n",
      "They are stored in the following folder: D:\\rat_movies_SC\\ar19muscimol\\10_10_2019\\ar19muscimol10-10-19_LR_R-Arash-2020-02-28\\labeled-data\\02-11-41R_labeled.\n",
      "They are stored in the following folder: D:\\rat_movies_SC\\ar19muscimol\\10_10_2019\\ar19muscimol10-10-19_LR_R-Arash-2020-02-28\\labeled-data\\02-31-39R_labeled.\n",
      "If all the labels are ok, then use the function 'create_training_dataset' to create the training dataset!\n"
     ]
    }
   ],
   "source": [
    "#path_config_file = 'D:\\\\rat_movies_SC\\\\ar17record\\\\02_27_19\\\\sc_ar17record_02272019_3-Fassihi-2019-04-28\\\\config.yaml'\n",
    "#path_config_file = 'D:\\\\movies_Rat_SC_project\\\\ar2breathing\\\\10_04_19\\\\ar14_09172019_ii-Fassihi-2019-10-05\\\\config.yaml'\n",
    "path_config_file = 'D:\\\\rat_movies_SC\\\\ar19muscimol\\\\10_10_2019\\\\ar19muscimol10-10-19_LR_R-Arash-2020-02-28\\\\config.yaml';\n",
    "\n",
    "deeplabcut.check_labels(path_config_file) #this creates a subdirectory with the frames + your labels"
   ]
  },
  {
   "cell_type": "markdown",
   "metadata": {
    "colab_type": "text",
    "id": "of87fOjgPqzH"
   },
   "source": [
    "If the labels need adjusted, you can use the refinement GUI to move them around! Check that out below."
   ]
  },
  {
   "cell_type": "markdown",
   "metadata": {
    "colab_type": "text",
    "id": "xNi9s1dboEJN"
   },
   "source": [
    "## Create a training dataset\n",
    "This function generates the training data information for DeepCut (which requires a mat file) based on the pandas dataframes that hold label information. The user can set the fraction of the training set size (from all labeled image in the hd5 file) in the config.yaml file. While creating the dataset, the user can create multiple shuffles. \n",
    "\n",
    "After running this script the training dataset is created and saved in the project directory under the subdirectory **'training-datasets'**\n",
    "\n",
    "This function also creates new subdirectories under **dlc-models** and appends the project config.yaml file with the correct path to the training and testing pose configuration file. These files hold the parameters for training the network. Such an example file is provided with the toolbox and named as **pose_cfg.yaml**.\n",
    "\n",
    "Now it is the time to start training the network!"
   ]
  },
  {
   "cell_type": "code",
   "execution_count": 4,
   "metadata": {
    "colab": {},
    "colab_type": "code",
    "id": "eMeUwgxPoEJP",
    "scrolled": true
   },
   "outputs": [
    {
     "name": "stdout",
     "output_type": "stream",
     "text": [
      "The training dataset is successfully created. Use the function 'train_network' to start training. Happy training!\n"
     ]
    }
   ],
   "source": [
    "#path_config_file = 'D:\\\\rat_movies_SC\\\\ar17record\\\\02_27_19\\\\sc_ar17record_02272019_3-Fassihi-2019-04-28\\\\config.yaml'\n",
    "#path_config_file = 'D:\\\\movies_Rat_SC_project\\\\ar2breathing\\\\10_04_19\\\\ar14_09172019_ii-Fassihi-2019-10-05\\\\config.yaml'\n",
    "deeplabcut.create_training_dataset(path_config_file)"
   ]
  },
  {
   "cell_type": "markdown",
   "metadata": {
    "colab_type": "text",
    "id": "c4FczXGDoEJU"
   },
   "source": [
    "## Start training - If you want to use a CPU, continue. \n",
    "### If yu want to use your GPU, you need to exit here and either work from the Docker container, your own TensorFlow installation in an Anaconda env\n",
    "\n",
    "This function trains the network for a specific shuffle of the training dataset. "
   ]
  },
  {
   "cell_type": "code",
   "execution_count": 2,
   "metadata": {
    "colab": {},
    "colab_type": "code",
    "id": "_pOvDq_2oEJW",
    "scrolled": true
   },
   "outputs": [
    {
     "name": "stderr",
     "output_type": "stream",
     "text": [
      "Config:\n",
      "{'all_joints': [[0], [1], [2], [3], [4]],\n",
      " 'all_joints_names': ['w1', 'w2', 'w3', 'w4', 'w5'],\n",
      " 'batch_size': 1,\n",
      " 'bottomheight': 400,\n",
      " 'crop': True,\n",
      " 'crop_pad': 0,\n",
      " 'cropratio': 0.4,\n",
      " 'dataset': 'training-datasets\\\\iteration-0\\\\UnaugmentedDataSet_ar19muscimol10-10-19_LR_RFeb28\\\\ar19muscimol10-10-19_LR_R_Arash95shuffle1.mat',\n",
      " 'dataset_type': 'default',\n",
      " 'display_iters': 1000,\n",
      " 'fg_fraction': 0.25,\n",
      " 'global_scale': 0.8,\n",
      " 'init_weights': 'C:\\\\Users\\\\Arash\\\\Anaconda3\\\\envs\\\\dlc-windowsGPU\\\\lib\\\\site-packages\\\\deeplabcut\\\\pose_estimation_tensorflow\\\\models\\\\pretrained\\\\resnet_v1_50.ckpt',\n",
      " 'intermediate_supervision': False,\n",
      " 'intermediate_supervision_layer': 12,\n",
      " 'leftwidth': 400,\n",
      " 'location_refinement': True,\n",
      " 'locref_huber_loss': True,\n",
      " 'locref_loss_weight': 0.05,\n",
      " 'locref_stdev': 7.2801,\n",
      " 'log_dir': 'log',\n",
      " 'max_input_size': 1500,\n",
      " 'mean_pixel': [123.68, 116.779, 103.939],\n",
      " 'metadataset': 'training-datasets\\\\iteration-0\\\\UnaugmentedDataSet_ar19muscimol10-10-19_LR_RFeb28\\\\Documentation_data-ar19muscimol10-10-19_LR_R_95shuffle1.pickle',\n",
      " 'min_input_size': 64,\n",
      " 'minsize': 100,\n",
      " 'mirror': False,\n",
      " 'multi_step': [[0.005, 10000],\n",
      "                [0.02, 430000],\n",
      "                [0.002, 730000],\n",
      "                [0.001, 1030000]],\n",
      " 'net_type': 'resnet_50',\n",
      " 'num_joints': 5,\n",
      " 'optimizer': 'sgd',\n",
      " 'pos_dist_thresh': 17,\n",
      " 'project_path': 'D:\\\\rat_movies_SC\\\\ar19muscimol\\\\10_10_2019\\\\ar19muscimol10-10-19_LR_R-Arash-2020-02-28',\n",
      " 'regularize': False,\n",
      " 'rightwidth': 400,\n",
      " 'save_iters': 50000,\n",
      " 'scale_jitter_lo': 0.5,\n",
      " 'scale_jitter_up': 1.25,\n",
      " 'scoremap_dir': 'test',\n",
      " 'shuffle': True,\n",
      " 'snapshot_prefix': 'D:\\\\rat_movies_SC\\\\ar19muscimol\\\\10_10_2019\\\\ar19muscimol10-10-19_LR_R-Arash-2020-02-28\\\\dlc-models\\\\iteration-0\\\\ar19muscimol10-10-19_LR_RFeb28-trainset95shuffle1\\\\train\\\\snapshot',\n",
      " 'stride': 8.0,\n",
      " 'topheight': 400,\n",
      " 'use_gt_segm': False,\n",
      " 'video': False,\n",
      " 'video_batch': False,\n",
      " 'weigh_negatives': False,\n",
      " 'weigh_only_present_joints': False,\n",
      " 'weigh_part_predictions': False,\n",
      " 'weight_decay': 0.0001}\n"
     ]
    },
    {
     "name": "stdout",
     "output_type": "stream",
     "text": [
      "INFO:tensorflow:Restoring parameters from C:\\Users\\Arash\\Anaconda3\\envs\\dlc-windowsGPU\\lib\\site-packages\\deeplabcut\\pose_estimation_tensorflow\\models\\pretrained\\resnet_v1_50.ckpt\n",
      "Display_iters overwritten as 1000\n",
      "Save_iters overwritten as 1000\n",
      "Training parameter:\n",
      "{'stride': 8.0, 'weigh_part_predictions': False, 'weigh_negatives': False, 'fg_fraction': 0.25, 'weigh_only_present_joints': False, 'mean_pixel': [123.68, 116.779, 103.939], 'shuffle': True, 'snapshot_prefix': 'D:\\\\rat_movies_SC\\\\ar19muscimol\\\\10_10_2019\\\\ar19muscimol10-10-19_LR_R-Arash-2020-02-28\\\\dlc-models\\\\iteration-0\\\\ar19muscimol10-10-19_LR_RFeb28-trainset95shuffle1\\\\train\\\\snapshot', 'log_dir': 'log', 'global_scale': 0.8, 'location_refinement': True, 'locref_stdev': 7.2801, 'locref_loss_weight': 0.05, 'locref_huber_loss': True, 'optimizer': 'sgd', 'intermediate_supervision': False, 'intermediate_supervision_layer': 12, 'regularize': False, 'weight_decay': 0.0001, 'mirror': False, 'crop_pad': 0, 'scoremap_dir': 'test', 'dataset_type': 'default', 'use_gt_segm': False, 'batch_size': 1, 'video': False, 'video_batch': False, 'crop': True, 'cropratio': 0.4, 'minsize': 100, 'leftwidth': 400, 'rightwidth': 400, 'topheight': 400, 'bottomheight': 400, 'all_joints': [[0], [1], [2], [3], [4]], 'all_joints_names': ['w1', 'w2', 'w3', 'w4', 'w5'], 'dataset': 'training-datasets\\\\iteration-0\\\\UnaugmentedDataSet_ar19muscimol10-10-19_LR_RFeb28\\\\ar19muscimol10-10-19_LR_R_Arash95shuffle1.mat', 'display_iters': 1000, 'init_weights': 'C:\\\\Users\\\\Arash\\\\Anaconda3\\\\envs\\\\dlc-windowsGPU\\\\lib\\\\site-packages\\\\deeplabcut\\\\pose_estimation_tensorflow\\\\models\\\\pretrained\\\\resnet_v1_50.ckpt', 'max_input_size': 1500, 'metadataset': 'training-datasets\\\\iteration-0\\\\UnaugmentedDataSet_ar19muscimol10-10-19_LR_RFeb28\\\\Documentation_data-ar19muscimol10-10-19_LR_R_95shuffle1.pickle', 'min_input_size': 64, 'multi_step': [[0.005, 10000], [0.02, 430000], [0.002, 730000], [0.001, 1030000]], 'net_type': 'resnet_50', 'num_joints': 5, 'pos_dist_thresh': 17, 'project_path': 'D:\\\\rat_movies_SC\\\\ar19muscimol\\\\10_10_2019\\\\ar19muscimol10-10-19_LR_R-Arash-2020-02-28', 'save_iters': 50000, 'scale_jitter_lo': 0.5, 'scale_jitter_up': 1.25}\n",
      "Starting training....\n"
     ]
    },
    {
     "name": "stderr",
     "output_type": "stream",
     "text": [
      "iteration: 1000 loss: 0.0552 lr: 0.005\n",
      "iteration: 2000 loss: 0.0275 lr: 0.005\n",
      "iteration: 3000 loss: 0.0217 lr: 0.005\n",
      "iteration: 4000 loss: 0.0187 lr: 0.005\n",
      "iteration: 5000 loss: 0.0162 lr: 0.005\n",
      "iteration: 6000 loss: 0.0145 lr: 0.005\n",
      "iteration: 7000 loss: 0.0137 lr: 0.005\n",
      "iteration: 8000 loss: 0.0126 lr: 0.005\n",
      "iteration: 9000 loss: 0.0122 lr: 0.005\n",
      "iteration: 10000 loss: 0.0113 lr: 0.005\n",
      "iteration: 11000 loss: 0.0298 lr: 0.02\n",
      "iteration: 12000 loss: 0.0208 lr: 0.02\n",
      "iteration: 13000 loss: 0.0163 lr: 0.02\n",
      "iteration: 14000 loss: 0.0148 lr: 0.02\n",
      "iteration: 15000 loss: 0.0134 lr: 0.02\n",
      "iteration: 16000 loss: 0.0129 lr: 0.02\n",
      "iteration: 17000 loss: 0.0115 lr: 0.02\n",
      "iteration: 18000 loss: 0.0113 lr: 0.02\n",
      "iteration: 19000 loss: 0.0109 lr: 0.02\n",
      "iteration: 20000 loss: 0.0104 lr: 0.02\n",
      "iteration: 21000 loss: 0.0094 lr: 0.02\n",
      "iteration: 22000 loss: 0.0097 lr: 0.02\n",
      "iteration: 23000 loss: 0.0090 lr: 0.02\n",
      "iteration: 24000 loss: 0.0087 lr: 0.02\n",
      "iteration: 25000 loss: 0.0085 lr: 0.02\n",
      "iteration: 26000 loss: 0.0083 lr: 0.02\n",
      "iteration: 27000 loss: 0.0082 lr: 0.02\n",
      "iteration: 28000 loss: 0.0079 lr: 0.02\n",
      "iteration: 29000 loss: 0.0080 lr: 0.02\n",
      "iteration: 30000 loss: 0.0077 lr: 0.02\n",
      "iteration: 31000 loss: 0.0072 lr: 0.02\n",
      "iteration: 32000 loss: 0.0073 lr: 0.02\n",
      "iteration: 33000 loss: 0.0070 lr: 0.02\n",
      "iteration: 34000 loss: 0.0069 lr: 0.02\n",
      "iteration: 35000 loss: 0.0068 lr: 0.02\n",
      "iteration: 36000 loss: 0.0069 lr: 0.02\n",
      "iteration: 37000 loss: 0.0067 lr: 0.02\n",
      "iteration: 38000 loss: 0.0064 lr: 0.02\n",
      "iteration: 39000 loss: 0.0065 lr: 0.02\n",
      "iteration: 40000 loss: 0.0063 lr: 0.02\n",
      "iteration: 41000 loss: 0.0060 lr: 0.02\n",
      "iteration: 42000 loss: 0.0064 lr: 0.02\n",
      "iteration: 43000 loss: 0.0060 lr: 0.02\n",
      "iteration: 44000 loss: 0.0057 lr: 0.02\n",
      "iteration: 45000 loss: 0.0058 lr: 0.02\n",
      "iteration: 46000 loss: 0.0060 lr: 0.02\n",
      "iteration: 47000 loss: 0.0059 lr: 0.02\n",
      "iteration: 48000 loss: 0.0057 lr: 0.02\n",
      "iteration: 49000 loss: 0.0060 lr: 0.02\n",
      "iteration: 50000 loss: 0.0055 lr: 0.02\n",
      "iteration: 51000 loss: 0.0055 lr: 0.02\n",
      "iteration: 52000 loss: 0.0055 lr: 0.02\n",
      "iteration: 53000 loss: 0.0051 lr: 0.02\n",
      "iteration: 54000 loss: 0.0052 lr: 0.02\n",
      "iteration: 55000 loss: 0.0053 lr: 0.02\n",
      "iteration: 56000 loss: 0.0053 lr: 0.02\n",
      "iteration: 57000 loss: 0.0052 lr: 0.02\n",
      "iteration: 58000 loss: 0.0053 lr: 0.02\n",
      "iteration: 59000 loss: 0.0052 lr: 0.02\n",
      "iteration: 60000 loss: 0.0050 lr: 0.02\n",
      "iteration: 61000 loss: 0.0053 lr: 0.02\n",
      "iteration: 62000 loss: 0.0051 lr: 0.02\n",
      "iteration: 63000 loss: 0.0049 lr: 0.02\n",
      "iteration: 64000 loss: 0.0050 lr: 0.02\n",
      "iteration: 65000 loss: 0.0049 lr: 0.02\n",
      "iteration: 66000 loss: 0.0047 lr: 0.02\n",
      "iteration: 67000 loss: 0.0049 lr: 0.02\n",
      "iteration: 68000 loss: 0.0047 lr: 0.02\n",
      "iteration: 69000 loss: 0.0048 lr: 0.02\n",
      "iteration: 70000 loss: 0.0049 lr: 0.02\n",
      "iteration: 71000 loss: 0.0048 lr: 0.02\n",
      "iteration: 72000 loss: 0.0047 lr: 0.02\n",
      "iteration: 73000 loss: 0.0045 lr: 0.02\n",
      "iteration: 74000 loss: 0.0043 lr: 0.02\n",
      "iteration: 75000 loss: 0.0046 lr: 0.02\n",
      "iteration: 76000 loss: 0.0046 lr: 0.02\n",
      "iteration: 77000 loss: 0.0046 lr: 0.02\n",
      "iteration: 78000 loss: 0.0044 lr: 0.02\n",
      "iteration: 79000 loss: 0.0044 lr: 0.02\n",
      "iteration: 80000 loss: 0.0045 lr: 0.02\n",
      "iteration: 81000 loss: 0.0045 lr: 0.02\n",
      "iteration: 82000 loss: 0.0043 lr: 0.02\n",
      "iteration: 83000 loss: 0.0041 lr: 0.02\n",
      "iteration: 84000 loss: 0.0042 lr: 0.02\n",
      "iteration: 85000 loss: 0.0044 lr: 0.02\n",
      "iteration: 86000 loss: 0.0040 lr: 0.02\n",
      "iteration: 87000 loss: 0.0043 lr: 0.02\n",
      "iteration: 88000 loss: 0.0044 lr: 0.02\n",
      "iteration: 89000 loss: 0.0041 lr: 0.02\n",
      "iteration: 90000 loss: 0.0043 lr: 0.02\n",
      "iteration: 91000 loss: 0.0042 lr: 0.02\n",
      "iteration: 92000 loss: 0.0042 lr: 0.02\n",
      "iteration: 93000 loss: 0.0041 lr: 0.02\n",
      "iteration: 94000 loss: 0.0040 lr: 0.02\n",
      "iteration: 95000 loss: 0.0039 lr: 0.02\n",
      "iteration: 96000 loss: 0.0041 lr: 0.02\n",
      "iteration: 97000 loss: 0.0040 lr: 0.02\n",
      "iteration: 98000 loss: 0.0042 lr: 0.02\n",
      "iteration: 99000 loss: 0.0040 lr: 0.02\n",
      "iteration: 100000 loss: 0.0039 lr: 0.02\n",
      "iteration: 101000 loss: 0.0037 lr: 0.02\n",
      "iteration: 102000 loss: 0.0040 lr: 0.02\n",
      "iteration: 103000 loss: 0.0040 lr: 0.02\n",
      "iteration: 104000 loss: 0.0038 lr: 0.02\n",
      "iteration: 105000 loss: 0.0038 lr: 0.02\n",
      "iteration: 106000 loss: 0.0040 lr: 0.02\n",
      "iteration: 107000 loss: 0.0040 lr: 0.02\n",
      "iteration: 108000 loss: 0.0038 lr: 0.02\n",
      "iteration: 109000 loss: 0.0038 lr: 0.02\n",
      "iteration: 110000 loss: 0.0037 lr: 0.02\n",
      "iteration: 111000 loss: 0.0038 lr: 0.02\n",
      "iteration: 112000 loss: 0.0035 lr: 0.02\n",
      "iteration: 113000 loss: 0.0039 lr: 0.02\n",
      "iteration: 114000 loss: 0.0039 lr: 0.02\n",
      "iteration: 115000 loss: 0.0036 lr: 0.02\n",
      "iteration: 116000 loss: 0.0039 lr: 0.02\n",
      "iteration: 117000 loss: 0.0036 lr: 0.02\n",
      "iteration: 118000 loss: 0.0036 lr: 0.02\n",
      "iteration: 119000 loss: 0.0036 lr: 0.02\n",
      "iteration: 120000 loss: 0.0036 lr: 0.02\n",
      "iteration: 121000 loss: 0.0035 lr: 0.02\n",
      "iteration: 122000 loss: 0.0034 lr: 0.02\n",
      "iteration: 123000 loss: 0.0035 lr: 0.02\n",
      "iteration: 124000 loss: 0.0038 lr: 0.02\n",
      "iteration: 125000 loss: 0.0037 lr: 0.02\n",
      "iteration: 126000 loss: 0.0035 lr: 0.02\n",
      "iteration: 127000 loss: 0.0036 lr: 0.02\n",
      "iteration: 128000 loss: 0.0037 lr: 0.02\n",
      "iteration: 129000 loss: 0.0037 lr: 0.02\n",
      "iteration: 130000 loss: 0.0035 lr: 0.02\n",
      "iteration: 131000 loss: 0.0035 lr: 0.02\n",
      "iteration: 132000 loss: 0.0035 lr: 0.02\n",
      "iteration: 133000 loss: 0.0035 lr: 0.02\n",
      "iteration: 134000 loss: 0.0034 lr: 0.02\n",
      "iteration: 135000 loss: 0.0034 lr: 0.02\n",
      "iteration: 136000 loss: 0.0035 lr: 0.02\n",
      "iteration: 137000 loss: 0.0033 lr: 0.02\n",
      "iteration: 138000 loss: 0.0034 lr: 0.02\n",
      "iteration: 139000 loss: 0.0034 lr: 0.02\n",
      "iteration: 140000 loss: 0.0033 lr: 0.02\n",
      "iteration: 141000 loss: 0.0033 lr: 0.02\n",
      "iteration: 142000 loss: 0.0035 lr: 0.02\n",
      "iteration: 143000 loss: 0.0036 lr: 0.02\n",
      "iteration: 144000 loss: 0.0032 lr: 0.02\n",
      "iteration: 145000 loss: 0.0033 lr: 0.02\n",
      "iteration: 146000 loss: 0.0033 lr: 0.02\n",
      "iteration: 147000 loss: 0.0035 lr: 0.02\n",
      "iteration: 148000 loss: 0.0032 lr: 0.02\n",
      "iteration: 149000 loss: 0.0033 lr: 0.02\n",
      "iteration: 150000 loss: 0.0034 lr: 0.02\n",
      "iteration: 151000 loss: 0.0032 lr: 0.02\n",
      "iteration: 152000 loss: 0.0031 lr: 0.02\n",
      "iteration: 153000 loss: 0.0032 lr: 0.02\n",
      "iteration: 154000 loss: 0.0034 lr: 0.02\n",
      "iteration: 155000 loss: 0.0032 lr: 0.02\n",
      "iteration: 156000 loss: 0.0032 lr: 0.02\n",
      "iteration: 157000 loss: 0.0032 lr: 0.02\n",
      "iteration: 158000 loss: 0.0033 lr: 0.02\n",
      "iteration: 159000 loss: 0.0031 lr: 0.02\n",
      "iteration: 160000 loss: 0.0032 lr: 0.02\n",
      "iteration: 161000 loss: 0.0031 lr: 0.02\n",
      "iteration: 162000 loss: 0.0033 lr: 0.02\n",
      "iteration: 163000 loss: 0.0032 lr: 0.02\n",
      "iteration: 164000 loss: 0.0031 lr: 0.02\n",
      "iteration: 165000 loss: 0.0028 lr: 0.02\n",
      "iteration: 166000 loss: 0.0030 lr: 0.02\n",
      "iteration: 167000 loss: 0.0032 lr: 0.02\n",
      "iteration: 168000 loss: 0.0033 lr: 0.02\n",
      "iteration: 169000 loss: 0.0030 lr: 0.02\n",
      "iteration: 170000 loss: 0.0033 lr: 0.02\n",
      "iteration: 171000 loss: 0.0030 lr: 0.02\n",
      "iteration: 172000 loss: 0.0032 lr: 0.02\n",
      "iteration: 173000 loss: 0.0032 lr: 0.02\n",
      "iteration: 174000 loss: 0.0031 lr: 0.02\n",
      "iteration: 175000 loss: 0.0030 lr: 0.02\n",
      "iteration: 176000 loss: 0.0030 lr: 0.02\n",
      "iteration: 177000 loss: 0.0033 lr: 0.02\n",
      "iteration: 178000 loss: 0.0031 lr: 0.02\n",
      "iteration: 179000 loss: 0.0029 lr: 0.02\n",
      "iteration: 180000 loss: 0.0030 lr: 0.02\n",
      "iteration: 181000 loss: 0.0030 lr: 0.02\n",
      "iteration: 182000 loss: 0.0030 lr: 0.02\n",
      "iteration: 183000 loss: 0.0029 lr: 0.02\n",
      "iteration: 184000 loss: 0.0029 lr: 0.02\n",
      "iteration: 185000 loss: 0.0030 lr: 0.02\n",
      "iteration: 186000 loss: 0.0029 lr: 0.02\n",
      "iteration: 187000 loss: 0.0029 lr: 0.02\n",
      "iteration: 188000 loss: 0.0030 lr: 0.02\n",
      "iteration: 189000 loss: 0.0030 lr: 0.02\n",
      "iteration: 190000 loss: 0.0030 lr: 0.02\n",
      "iteration: 191000 loss: 0.0030 lr: 0.02\n",
      "iteration: 192000 loss: 0.0030 lr: 0.02\n",
      "iteration: 193000 loss: 0.0029 lr: 0.02\n",
      "iteration: 194000 loss: 0.0030 lr: 0.02\n",
      "iteration: 195000 loss: 0.0029 lr: 0.02\n",
      "iteration: 196000 loss: 0.0030 lr: 0.02\n",
      "iteration: 197000 loss: 0.0029 lr: 0.02\n",
      "iteration: 198000 loss: 0.0031 lr: 0.02\n",
      "iteration: 199000 loss: 0.0027 lr: 0.02\n",
      "iteration: 200000 loss: 0.0029 lr: 0.02\n",
      "iteration: 201000 loss: 0.0027 lr: 0.02\n",
      "iteration: 202000 loss: 0.0026 lr: 0.02\n",
      "iteration: 203000 loss: 0.0028 lr: 0.02\n",
      "iteration: 204000 loss: 0.0030 lr: 0.02\n",
      "iteration: 205000 loss: 0.0029 lr: 0.02\n",
      "iteration: 206000 loss: 0.0029 lr: 0.02\n",
      "iteration: 207000 loss: 0.0027 lr: 0.02\n"
     ]
    },
    {
     "name": "stderr",
     "output_type": "stream",
     "text": [
      "iteration: 208000 loss: 0.0028 lr: 0.02\n",
      "iteration: 209000 loss: 0.0029 lr: 0.02\n",
      "iteration: 210000 loss: 0.0029 lr: 0.02\n",
      "iteration: 211000 loss: 0.0030 lr: 0.02\n",
      "iteration: 212000 loss: 0.0030 lr: 0.02\n",
      "iteration: 213000 loss: 0.0028 lr: 0.02\n",
      "iteration: 214000 loss: 0.0027 lr: 0.02\n",
      "iteration: 215000 loss: 0.0029 lr: 0.02\n",
      "iteration: 216000 loss: 0.0028 lr: 0.02\n",
      "iteration: 217000 loss: 0.0027 lr: 0.02\n",
      "iteration: 218000 loss: 0.0028 lr: 0.02\n",
      "iteration: 219000 loss: 0.0028 lr: 0.02\n",
      "iteration: 220000 loss: 0.0029 lr: 0.02\n",
      "iteration: 221000 loss: 0.0025 lr: 0.02\n",
      "iteration: 222000 loss: 0.0027 lr: 0.02\n",
      "iteration: 223000 loss: 0.0027 lr: 0.02\n",
      "iteration: 224000 loss: 0.0028 lr: 0.02\n",
      "iteration: 225000 loss: 0.0027 lr: 0.02\n",
      "iteration: 226000 loss: 0.0030 lr: 0.02\n",
      "iteration: 227000 loss: 0.0029 lr: 0.02\n",
      "iteration: 228000 loss: 0.0028 lr: 0.02\n",
      "iteration: 229000 loss: 0.0026 lr: 0.02\n",
      "iteration: 230000 loss: 0.0026 lr: 0.02\n",
      "iteration: 231000 loss: 0.0026 lr: 0.02\n",
      "iteration: 232000 loss: 0.0026 lr: 0.02\n",
      "iteration: 233000 loss: 0.0028 lr: 0.02\n",
      "iteration: 234000 loss: 0.0028 lr: 0.02\n",
      "iteration: 235000 loss: 0.0028 lr: 0.02\n",
      "iteration: 236000 loss: 0.0026 lr: 0.02\n",
      "iteration: 237000 loss: 0.0026 lr: 0.02\n",
      "iteration: 238000 loss: 0.0027 lr: 0.02\n",
      "iteration: 239000 loss: 0.0027 lr: 0.02\n",
      "iteration: 240000 loss: 0.0027 lr: 0.02\n",
      "iteration: 241000 loss: 0.0026 lr: 0.02\n"
     ]
    },
    {
     "ename": "KeyboardInterrupt",
     "evalue": "",
     "output_type": "error",
     "traceback": [
      "\u001b[1;31m---------------------------------------------------------------------------\u001b[0m",
      "\u001b[1;31mKeyboardInterrupt\u001b[0m                         Traceback (most recent call last)",
      "\u001b[1;32m<ipython-input-2-51de0d3c8654>\u001b[0m in \u001b[0;36m<module>\u001b[1;34m()\u001b[0m\n\u001b[0;32m      9\u001b[0m \u001b[0mpath_config_file\u001b[0m \u001b[1;33m=\u001b[0m \u001b[1;34m'D:\\\\rat_movies_SC\\\\ar19muscimol\\\\10_10_2019\\\\ar19muscimol10-10-19_LR_R-Arash-2020-02-28\\\\config.yaml'\u001b[0m\u001b[1;33m;\u001b[0m\u001b[1;33m\u001b[0m\u001b[1;33m\u001b[0m\u001b[0m\n\u001b[0;32m     10\u001b[0m \u001b[1;33m\u001b[0m\u001b[0m\n\u001b[1;32m---> 11\u001b[1;33m \u001b[0mdeeplabcut\u001b[0m\u001b[1;33m.\u001b[0m\u001b[0mtrain_network\u001b[0m\u001b[1;33m(\u001b[0m\u001b[0mpath_config_file\u001b[0m\u001b[1;33m,\u001b[0m\u001b[0mshuffle\u001b[0m\u001b[1;33m=\u001b[0m\u001b[1;36m1\u001b[0m\u001b[1;33m,\u001b[0m\u001b[0mdisplayiters\u001b[0m\u001b[1;33m=\u001b[0m\u001b[1;36m1000\u001b[0m\u001b[1;33m,\u001b[0m\u001b[0msaveiters\u001b[0m\u001b[1;33m=\u001b[0m\u001b[1;36m1000\u001b[0m\u001b[1;33m)\u001b[0m\u001b[1;33m\u001b[0m\u001b[1;33m\u001b[0m\u001b[0m\n\u001b[0m",
      "\u001b[1;32mC:\\Users\\Arash\\Anaconda3\\envs\\dlc-windowsGPU\\lib\\site-packages\\deeplabcut\\pose_estimation_tensorflow\\training.py\u001b[0m in \u001b[0;36mtrain_network\u001b[1;34m(config, shuffle, trainingsetindex, gputouse, max_snapshots_to_keep, autotune, displayiters, saveiters, maxiters)\u001b[0m\n\u001b[0;32m     87\u001b[0m           \u001b[0mtrain\u001b[0m\u001b[1;33m(\u001b[0m\u001b[0mstr\u001b[0m\u001b[1;33m(\u001b[0m\u001b[0mposeconfigfile\u001b[0m\u001b[1;33m)\u001b[0m\u001b[1;33m,\u001b[0m\u001b[0mdisplayiters\u001b[0m\u001b[1;33m,\u001b[0m\u001b[0msaveiters\u001b[0m\u001b[1;33m,\u001b[0m\u001b[0mmaxiters\u001b[0m\u001b[1;33m,\u001b[0m\u001b[0mmax_to_keep\u001b[0m\u001b[1;33m=\u001b[0m\u001b[0mmax_snapshots_to_keep\u001b[0m\u001b[1;33m)\u001b[0m \u001b[1;31m#pass on path and file name for pose_cfg.yaml!\u001b[0m\u001b[1;33m\u001b[0m\u001b[1;33m\u001b[0m\u001b[0m\n\u001b[0;32m     88\u001b[0m       \u001b[1;32mexcept\u001b[0m \u001b[0mBaseException\u001b[0m \u001b[1;32mas\u001b[0m \u001b[0me\u001b[0m\u001b[1;33m:\u001b[0m\u001b[1;33m\u001b[0m\u001b[1;33m\u001b[0m\u001b[0m\n\u001b[1;32m---> 89\u001b[1;33m           \u001b[1;32mraise\u001b[0m \u001b[0me\u001b[0m\u001b[1;33m\u001b[0m\u001b[1;33m\u001b[0m\u001b[0m\n\u001b[0m\u001b[0;32m     90\u001b[0m       \u001b[1;32mfinally\u001b[0m\u001b[1;33m:\u001b[0m\u001b[1;33m\u001b[0m\u001b[1;33m\u001b[0m\u001b[0m\n\u001b[0;32m     91\u001b[0m           \u001b[0mos\u001b[0m\u001b[1;33m.\u001b[0m\u001b[0mchdir\u001b[0m\u001b[1;33m(\u001b[0m\u001b[0mstr\u001b[0m\u001b[1;33m(\u001b[0m\u001b[0mstart_path\u001b[0m\u001b[1;33m)\u001b[0m\u001b[1;33m)\u001b[0m\u001b[1;33m\u001b[0m\u001b[1;33m\u001b[0m\u001b[0m\n",
      "\u001b[1;32mC:\\Users\\Arash\\Anaconda3\\envs\\dlc-windowsGPU\\lib\\site-packages\\deeplabcut\\pose_estimation_tensorflow\\training.py\u001b[0m in \u001b[0;36mtrain_network\u001b[1;34m(config, shuffle, trainingsetindex, gputouse, max_snapshots_to_keep, autotune, displayiters, saveiters, maxiters)\u001b[0m\n\u001b[0;32m     85\u001b[0m \u001b[1;33m\u001b[0m\u001b[0m\n\u001b[0;32m     86\u001b[0m       \u001b[1;32mtry\u001b[0m\u001b[1;33m:\u001b[0m\u001b[1;33m\u001b[0m\u001b[1;33m\u001b[0m\u001b[0m\n\u001b[1;32m---> 87\u001b[1;33m           \u001b[0mtrain\u001b[0m\u001b[1;33m(\u001b[0m\u001b[0mstr\u001b[0m\u001b[1;33m(\u001b[0m\u001b[0mposeconfigfile\u001b[0m\u001b[1;33m)\u001b[0m\u001b[1;33m,\u001b[0m\u001b[0mdisplayiters\u001b[0m\u001b[1;33m,\u001b[0m\u001b[0msaveiters\u001b[0m\u001b[1;33m,\u001b[0m\u001b[0mmaxiters\u001b[0m\u001b[1;33m,\u001b[0m\u001b[0mmax_to_keep\u001b[0m\u001b[1;33m=\u001b[0m\u001b[0mmax_snapshots_to_keep\u001b[0m\u001b[1;33m)\u001b[0m \u001b[1;31m#pass on path and file name for pose_cfg.yaml!\u001b[0m\u001b[1;33m\u001b[0m\u001b[1;33m\u001b[0m\u001b[0m\n\u001b[0m\u001b[0;32m     88\u001b[0m       \u001b[1;32mexcept\u001b[0m \u001b[0mBaseException\u001b[0m \u001b[1;32mas\u001b[0m \u001b[0me\u001b[0m\u001b[1;33m:\u001b[0m\u001b[1;33m\u001b[0m\u001b[1;33m\u001b[0m\u001b[0m\n\u001b[0;32m     89\u001b[0m           \u001b[1;32mraise\u001b[0m \u001b[0me\u001b[0m\u001b[1;33m\u001b[0m\u001b[1;33m\u001b[0m\u001b[0m\n",
      "\u001b[1;32mC:\\Users\\Arash\\Anaconda3\\envs\\dlc-windowsGPU\\lib\\site-packages\\deeplabcut\\pose_estimation_tensorflow\\train.py\u001b[0m in \u001b[0;36mtrain\u001b[1;34m(config_yaml, displayiters, saveiters, maxiters, max_to_keep)\u001b[0m\n\u001b[0;32m    140\u001b[0m         \u001b[0mcurrent_lr\u001b[0m \u001b[1;33m=\u001b[0m \u001b[0mlr_gen\u001b[0m\u001b[1;33m.\u001b[0m\u001b[0mget_lr\u001b[0m\u001b[1;33m(\u001b[0m\u001b[0mit\u001b[0m\u001b[1;33m)\u001b[0m\u001b[1;33m\u001b[0m\u001b[1;33m\u001b[0m\u001b[0m\n\u001b[0;32m    141\u001b[0m         [_, loss_val, summary] = sess.run([train_op, total_loss, merged_summaries],\n\u001b[1;32m--> 142\u001b[1;33m                                           feed_dict={learning_rate: current_lr})\n\u001b[0m\u001b[0;32m    143\u001b[0m         \u001b[0mcum_loss\u001b[0m \u001b[1;33m+=\u001b[0m \u001b[0mloss_val\u001b[0m\u001b[1;33m\u001b[0m\u001b[1;33m\u001b[0m\u001b[0m\n\u001b[0;32m    144\u001b[0m         \u001b[0mtrain_writer\u001b[0m\u001b[1;33m.\u001b[0m\u001b[0madd_summary\u001b[0m\u001b[1;33m(\u001b[0m\u001b[0msummary\u001b[0m\u001b[1;33m,\u001b[0m \u001b[0mit\u001b[0m\u001b[1;33m)\u001b[0m\u001b[1;33m\u001b[0m\u001b[1;33m\u001b[0m\u001b[0m\n",
      "\u001b[1;32mC:\\Users\\Arash\\Anaconda3\\envs\\dlc-windowsGPU\\lib\\site-packages\\tensorflow\\python\\client\\session.py\u001b[0m in \u001b[0;36mrun\u001b[1;34m(self, fetches, feed_dict, options, run_metadata)\u001b[0m\n\u001b[0;32m    898\u001b[0m     \u001b[1;32mtry\u001b[0m\u001b[1;33m:\u001b[0m\u001b[1;33m\u001b[0m\u001b[1;33m\u001b[0m\u001b[0m\n\u001b[0;32m    899\u001b[0m       result = self._run(None, fetches, feed_dict, options_ptr,\n\u001b[1;32m--> 900\u001b[1;33m                          run_metadata_ptr)\n\u001b[0m\u001b[0;32m    901\u001b[0m       \u001b[1;32mif\u001b[0m \u001b[0mrun_metadata\u001b[0m\u001b[1;33m:\u001b[0m\u001b[1;33m\u001b[0m\u001b[1;33m\u001b[0m\u001b[0m\n\u001b[0;32m    902\u001b[0m         \u001b[0mproto_data\u001b[0m \u001b[1;33m=\u001b[0m \u001b[0mtf_session\u001b[0m\u001b[1;33m.\u001b[0m\u001b[0mTF_GetBuffer\u001b[0m\u001b[1;33m(\u001b[0m\u001b[0mrun_metadata_ptr\u001b[0m\u001b[1;33m)\u001b[0m\u001b[1;33m\u001b[0m\u001b[1;33m\u001b[0m\u001b[0m\n",
      "\u001b[1;32mC:\\Users\\Arash\\Anaconda3\\envs\\dlc-windowsGPU\\lib\\site-packages\\tensorflow\\python\\client\\session.py\u001b[0m in \u001b[0;36m_run\u001b[1;34m(self, handle, fetches, feed_dict, options, run_metadata)\u001b[0m\n\u001b[0;32m   1133\u001b[0m     \u001b[1;32mif\u001b[0m \u001b[0mfinal_fetches\u001b[0m \u001b[1;32mor\u001b[0m \u001b[0mfinal_targets\u001b[0m \u001b[1;32mor\u001b[0m \u001b[1;33m(\u001b[0m\u001b[0mhandle\u001b[0m \u001b[1;32mand\u001b[0m \u001b[0mfeed_dict_tensor\u001b[0m\u001b[1;33m)\u001b[0m\u001b[1;33m:\u001b[0m\u001b[1;33m\u001b[0m\u001b[1;33m\u001b[0m\u001b[0m\n\u001b[0;32m   1134\u001b[0m       results = self._do_run(handle, final_targets, final_fetches,\n\u001b[1;32m-> 1135\u001b[1;33m                              feed_dict_tensor, options, run_metadata)\n\u001b[0m\u001b[0;32m   1136\u001b[0m     \u001b[1;32melse\u001b[0m\u001b[1;33m:\u001b[0m\u001b[1;33m\u001b[0m\u001b[1;33m\u001b[0m\u001b[0m\n\u001b[0;32m   1137\u001b[0m       \u001b[0mresults\u001b[0m \u001b[1;33m=\u001b[0m \u001b[1;33m[\u001b[0m\u001b[1;33m]\u001b[0m\u001b[1;33m\u001b[0m\u001b[1;33m\u001b[0m\u001b[0m\n",
      "\u001b[1;32mC:\\Users\\Arash\\Anaconda3\\envs\\dlc-windowsGPU\\lib\\site-packages\\tensorflow\\python\\client\\session.py\u001b[0m in \u001b[0;36m_do_run\u001b[1;34m(self, handle, target_list, fetch_list, feed_dict, options, run_metadata)\u001b[0m\n\u001b[0;32m   1314\u001b[0m     \u001b[1;32mif\u001b[0m \u001b[0mhandle\u001b[0m \u001b[1;32mis\u001b[0m \u001b[1;32mNone\u001b[0m\u001b[1;33m:\u001b[0m\u001b[1;33m\u001b[0m\u001b[1;33m\u001b[0m\u001b[0m\n\u001b[0;32m   1315\u001b[0m       return self._do_call(_run_fn, feeds, fetches, targets, options,\n\u001b[1;32m-> 1316\u001b[1;33m                            run_metadata)\n\u001b[0m\u001b[0;32m   1317\u001b[0m     \u001b[1;32melse\u001b[0m\u001b[1;33m:\u001b[0m\u001b[1;33m\u001b[0m\u001b[1;33m\u001b[0m\u001b[0m\n\u001b[0;32m   1318\u001b[0m       \u001b[1;32mreturn\u001b[0m \u001b[0mself\u001b[0m\u001b[1;33m.\u001b[0m\u001b[0m_do_call\u001b[0m\u001b[1;33m(\u001b[0m\u001b[0m_prun_fn\u001b[0m\u001b[1;33m,\u001b[0m \u001b[0mhandle\u001b[0m\u001b[1;33m,\u001b[0m \u001b[0mfeeds\u001b[0m\u001b[1;33m,\u001b[0m \u001b[0mfetches\u001b[0m\u001b[1;33m)\u001b[0m\u001b[1;33m\u001b[0m\u001b[1;33m\u001b[0m\u001b[0m\n",
      "\u001b[1;32mC:\\Users\\Arash\\Anaconda3\\envs\\dlc-windowsGPU\\lib\\site-packages\\tensorflow\\python\\client\\session.py\u001b[0m in \u001b[0;36m_do_call\u001b[1;34m(self, fn, *args)\u001b[0m\n\u001b[0;32m   1320\u001b[0m   \u001b[1;32mdef\u001b[0m \u001b[0m_do_call\u001b[0m\u001b[1;33m(\u001b[0m\u001b[0mself\u001b[0m\u001b[1;33m,\u001b[0m \u001b[0mfn\u001b[0m\u001b[1;33m,\u001b[0m \u001b[1;33m*\u001b[0m\u001b[0margs\u001b[0m\u001b[1;33m)\u001b[0m\u001b[1;33m:\u001b[0m\u001b[1;33m\u001b[0m\u001b[1;33m\u001b[0m\u001b[0m\n\u001b[0;32m   1321\u001b[0m     \u001b[1;32mtry\u001b[0m\u001b[1;33m:\u001b[0m\u001b[1;33m\u001b[0m\u001b[1;33m\u001b[0m\u001b[0m\n\u001b[1;32m-> 1322\u001b[1;33m       \u001b[1;32mreturn\u001b[0m \u001b[0mfn\u001b[0m\u001b[1;33m(\u001b[0m\u001b[1;33m*\u001b[0m\u001b[0margs\u001b[0m\u001b[1;33m)\u001b[0m\u001b[1;33m\u001b[0m\u001b[1;33m\u001b[0m\u001b[0m\n\u001b[0m\u001b[0;32m   1323\u001b[0m     \u001b[1;32mexcept\u001b[0m \u001b[0merrors\u001b[0m\u001b[1;33m.\u001b[0m\u001b[0mOpError\u001b[0m \u001b[1;32mas\u001b[0m \u001b[0me\u001b[0m\u001b[1;33m:\u001b[0m\u001b[1;33m\u001b[0m\u001b[1;33m\u001b[0m\u001b[0m\n\u001b[0;32m   1324\u001b[0m       \u001b[0mmessage\u001b[0m \u001b[1;33m=\u001b[0m \u001b[0mcompat\u001b[0m\u001b[1;33m.\u001b[0m\u001b[0mas_text\u001b[0m\u001b[1;33m(\u001b[0m\u001b[0me\u001b[0m\u001b[1;33m.\u001b[0m\u001b[0mmessage\u001b[0m\u001b[1;33m)\u001b[0m\u001b[1;33m\u001b[0m\u001b[1;33m\u001b[0m\u001b[0m\n",
      "\u001b[1;32mC:\\Users\\Arash\\Anaconda3\\envs\\dlc-windowsGPU\\lib\\site-packages\\tensorflow\\python\\client\\session.py\u001b[0m in \u001b[0;36m_run_fn\u001b[1;34m(feed_dict, fetch_list, target_list, options, run_metadata)\u001b[0m\n\u001b[0;32m   1305\u001b[0m       \u001b[0mself\u001b[0m\u001b[1;33m.\u001b[0m\u001b[0m_extend_graph\u001b[0m\u001b[1;33m(\u001b[0m\u001b[1;33m)\u001b[0m\u001b[1;33m\u001b[0m\u001b[1;33m\u001b[0m\u001b[0m\n\u001b[0;32m   1306\u001b[0m       return self._call_tf_sessionrun(\n\u001b[1;32m-> 1307\u001b[1;33m           options, feed_dict, fetch_list, target_list, run_metadata)\n\u001b[0m\u001b[0;32m   1308\u001b[0m \u001b[1;33m\u001b[0m\u001b[0m\n\u001b[0;32m   1309\u001b[0m     \u001b[1;32mdef\u001b[0m \u001b[0m_prun_fn\u001b[0m\u001b[1;33m(\u001b[0m\u001b[0mhandle\u001b[0m\u001b[1;33m,\u001b[0m \u001b[0mfeed_dict\u001b[0m\u001b[1;33m,\u001b[0m \u001b[0mfetch_list\u001b[0m\u001b[1;33m)\u001b[0m\u001b[1;33m:\u001b[0m\u001b[1;33m\u001b[0m\u001b[1;33m\u001b[0m\u001b[0m\n",
      "\u001b[1;32mC:\\Users\\Arash\\Anaconda3\\envs\\dlc-windowsGPU\\lib\\site-packages\\tensorflow\\python\\client\\session.py\u001b[0m in \u001b[0;36m_call_tf_sessionrun\u001b[1;34m(self, options, feed_dict, fetch_list, target_list, run_metadata)\u001b[0m\n\u001b[0;32m   1407\u001b[0m       return tf_session.TF_SessionRun_wrapper(\n\u001b[0;32m   1408\u001b[0m           \u001b[0mself\u001b[0m\u001b[1;33m.\u001b[0m\u001b[0m_session\u001b[0m\u001b[1;33m,\u001b[0m \u001b[0moptions\u001b[0m\u001b[1;33m,\u001b[0m \u001b[0mfeed_dict\u001b[0m\u001b[1;33m,\u001b[0m \u001b[0mfetch_list\u001b[0m\u001b[1;33m,\u001b[0m \u001b[0mtarget_list\u001b[0m\u001b[1;33m,\u001b[0m\u001b[1;33m\u001b[0m\u001b[1;33m\u001b[0m\u001b[0m\n\u001b[1;32m-> 1409\u001b[1;33m           run_metadata)\n\u001b[0m\u001b[0;32m   1410\u001b[0m     \u001b[1;32melse\u001b[0m\u001b[1;33m:\u001b[0m\u001b[1;33m\u001b[0m\u001b[1;33m\u001b[0m\u001b[0m\n\u001b[0;32m   1411\u001b[0m       \u001b[1;32mwith\u001b[0m \u001b[0merrors\u001b[0m\u001b[1;33m.\u001b[0m\u001b[0mraise_exception_on_not_ok_status\u001b[0m\u001b[1;33m(\u001b[0m\u001b[1;33m)\u001b[0m \u001b[1;32mas\u001b[0m \u001b[0mstatus\u001b[0m\u001b[1;33m:\u001b[0m\u001b[1;33m\u001b[0m\u001b[1;33m\u001b[0m\u001b[0m\n",
      "\u001b[1;31mKeyboardInterrupt\u001b[0m: "
     ]
    }
   ],
   "source": [
    "\n",
    "#path_config_file = 'D:\\\\rat movies SC\\\\ar19\\\\02_07_19\\\\sc_ar19_02072019-Fassihi4-2019-02-13\\\\config.yaml' #Enter the path of the config file that was just created from the above step (check the folder)\n",
    "#path_config_file = 'D:\\\\rat movies SC\\\\ar15record\\\\02_27_19\\\\sc_ar15record_02272019-Fassihi-2019-03-12\\\\config.yaml' #Enter the path of the config file that was just created from the above step (check the folder)\n",
    "#path_confic_file = 'D:\\rat_movies_SC\\ar17record\\02_27_19\\sc_ar17record_02272019-Fassihi-2019-03-05\\config.yaml'\n",
    "#path_config_file = 'D:\\\\rat_movies_SC\\\\ar17record\\\\02_27_19\\\\sc_ar17record_02272019_3-Fassihi-2019-04-28\\\\config.yaml'\n",
    "#path_config_file = 'D:\\\\rat_movies_SC\\\\ar15record\\\\02_27_19\\\\sc_ar15record_02272019_4-Fassihi-2019-05-02\\\\config.yaml' #Enter the path of the config file that was just created from the above step (check the folder)\n",
    "#path_config_file = 'D:\\\\rat_movies_SC\\\\ar17record\\\\02_27_19\\\\sc_ar17record_02272019_3-Fassihi-2019-04-28\\\\config.yaml' #Enter the path of the config file that was just created from the above step (check the folder)\n",
    "##path_config_file = 'D:\\\\rat_movies_SC\\\\ar2breathing\\\\10_06_19\\\\ar19salin_10-06-19_LR_L-Arash-2020-01-27\\\\config.yaml';\n",
    "\n",
    "deeplabcut.train_network(path_config_file,shuffle=1,displayiters=1000,saveiters=1000)"
   ]
  },
  {
   "cell_type": "markdown",
   "metadata": {
    "colab_type": "text",
    "id": "xZygsb2DoEJc"
   },
   "source": [
    "## Start evaluating\n",
    "This funtion evaluates a trained model for a specific shuffle/shuffles at a particular state or all the states on the data set (images)\n",
    "and stores the results as .csv file in a subdirectory under **evaluation-results**"
   ]
  },
  {
   "cell_type": "code",
   "execution_count": 3,
   "metadata": {
    "colab": {},
    "colab_type": "code",
    "id": "nv4zlbrnoEJg",
    "scrolled": true
   },
   "outputs": [
    {
     "name": "stderr",
     "output_type": "stream",
     "text": [
      "Config:\n",
      "{'all_joints': [[0], [1], [2], [3], [4]],\n",
      " 'all_joints_names': ['w1', 'w2', 'w3', 'w4', 'w5'],\n",
      " 'batch_size': 1,\n",
      " 'bottomheight': 400,\n",
      " 'crop': True,\n",
      " 'crop_pad': 0,\n",
      " 'cropratio': 0.4,\n",
      " 'dataset': 'training-datasets\\\\iteration-0\\\\UnaugmentedDataSet_ar19muscimol10-10-19_LR_RFeb28\\\\ar19muscimol10-10-19_LR_R_Arash95shuffle1.mat',\n",
      " 'dataset_type': 'default',\n",
      " 'display_iters': 1000,\n",
      " 'fg_fraction': 0.25,\n",
      " 'global_scale': 0.8,\n",
      " 'init_weights': 'C:\\\\Users\\\\Arash\\\\Anaconda3\\\\envs\\\\dlc-windowsGPU\\\\lib\\\\site-packages\\\\deeplabcut\\\\pose_estimation_tensorflow\\\\models\\\\pretrained\\\\resnet_v1_50.ckpt',\n",
      " 'intermediate_supervision': False,\n",
      " 'intermediate_supervision_layer': 12,\n",
      " 'leftwidth': 400,\n",
      " 'location_refinement': True,\n",
      " 'locref_huber_loss': True,\n",
      " 'locref_loss_weight': 0.05,\n",
      " 'locref_stdev': 7.2801,\n",
      " 'log_dir': 'log',\n",
      " 'max_input_size': 1500,\n",
      " 'mean_pixel': [123.68, 116.779, 103.939],\n",
      " 'metadataset': 'training-datasets\\\\iteration-0\\\\UnaugmentedDataSet_ar19muscimol10-10-19_LR_RFeb28\\\\Documentation_data-ar19muscimol10-10-19_LR_R_95shuffle1.pickle',\n",
      " 'min_input_size': 64,\n",
      " 'minsize': 100,\n",
      " 'mirror': False,\n",
      " 'multi_step': [[0.005, 10000],\n",
      "                [0.02, 430000],\n",
      "                [0.002, 730000],\n",
      "                [0.001, 1030000]],\n",
      " 'net_type': 'resnet_50',\n",
      " 'num_joints': 5,\n",
      " 'optimizer': 'sgd',\n",
      " 'pos_dist_thresh': 17,\n",
      " 'project_path': 'D:\\\\rat_movies_SC\\\\ar19muscimol\\\\10_10_2019\\\\ar19muscimol10-10-19_LR_R-Arash-2020-02-28',\n",
      " 'regularize': False,\n",
      " 'rightwidth': 400,\n",
      " 'save_iters': 50000,\n",
      " 'scale_jitter_lo': 0.5,\n",
      " 'scale_jitter_up': 1.25,\n",
      " 'scoremap_dir': 'test',\n",
      " 'shuffle': True,\n",
      " 'snapshot_prefix': 'D:\\\\rat_movies_SC\\\\ar19muscimol\\\\10_10_2019\\\\ar19muscimol10-10-19_LR_R-Arash-2020-02-28\\\\dlc-models\\\\iteration-0\\\\ar19muscimol10-10-19_LR_RFeb28-trainset95shuffle1\\\\test\\\\snapshot',\n",
      " 'stride': 8.0,\n",
      " 'topheight': 400,\n",
      " 'use_gt_segm': False,\n",
      " 'video': False,\n",
      " 'video_batch': False,\n",
      " 'weigh_negatives': False,\n",
      " 'weigh_only_present_joints': False,\n",
      " 'weigh_part_predictions': False,\n",
      " 'weight_decay': 0.0001}\n"
     ]
    },
    {
     "name": "stdout",
     "output_type": "stream",
     "text": [
      "Running  DeepCut_resnet50_ar19muscimol10-10-19_LR_RFeb28shuffle1_241000  with # of trainingiterations: 241000\n",
      "INFO:tensorflow:Restoring parameters from D:\\rat_movies_SC\\ar19muscimol\\10_10_2019\\ar19muscimol10-10-19_LR_R-Arash-2020-02-28\\dlc-models\\iteration-0\\ar19muscimol10-10-19_LR_RFeb28-trainset95shuffle1\\train\\snapshot-241000\n",
      "Analyzing data...\n"
     ]
    },
    {
     "name": "stderr",
     "output_type": "stream",
     "text": [
      "60it [00:03, 23.73it/s]\n"
     ]
    },
    {
     "name": "stdout",
     "output_type": "stream",
     "text": [
      "Done and results stored for snapshot:  snapshot-241000\n",
      "Results for 241000  training iterations: 95 1 train error: 1.33 pixels. Test error: 7.67  pixels.\n",
      "With pcutoff of 0.1  train error: 1.33 pixels. Test error: 7.67 pixels\n",
      "Thereby, the errors are given by the average distances between the labels by DLC and the scorer.\n",
      "The network is evaluated and the results are stored in the subdirectory 'evaluation_results'.\n",
      "If it generalizes well, choose the best model for prediction and update the config file with the appropriate index for the 'snapshotindex'.\n",
      "Use the function 'analyze_video' to make predictions on new videos.\n",
      "Otherwise consider retraining the network (see DeepLabCut workflow Fig 2)\n"
     ]
    }
   ],
   "source": [
    "#deeplabcut.evaluate_network(path_config_file)\n",
    "#path_config_file = 'D:\\\\rat_movies_SC\\\\ar17record\\\\02_27_19\\\\sc_ar17record_02272019_3-Fassihi-2019-04-28\\\\config.yaml'\n",
    "#path_config_file = 'D:\\\\rat_movies_SC\\\\ar2breathing\\\\10_06_19\\\\ar19salin_10-06-19_LR_L-Arash-2020-01-27\\\\config.yaml';\n",
    "\n",
    "deeplabcut.evaluate_network(path_config_file,Shuffles=[1], plotting=False)"
   ]
  },
  {
   "cell_type": "markdown",
   "metadata": {
    "colab_type": "text",
    "id": "OVFLSKKfoEJk"
   },
   "source": [
    "## Start Analyzing videos\n",
    "This function analyzes the new video. The user can choose the best model from the evaluation results and specify the correct snapshot index for the variable **snapshotindex** in the **config.yaml** file. Otherwise, by default the most recent snapshot is used to analyse the video.\n",
    "\n",
    "The results are stored in hd5 file in the same directory where the video resides. "
   ]
  },
  {
   "cell_type": "code",
   "execution_count": 6,
   "metadata": {
    "colab": {},
    "colab_type": "code",
    "id": "Y_LZiS_0oEJl"
   },
   "outputs": [
    {
     "name": "stdout",
     "output_type": "stream",
     "text": [
      "['D:\\\\rat_movies_SC\\\\ar19test\\\\10_10_19\\\\videos\\\\01-06-15video.mp4', 'D:\\\\rat_movies_SC\\\\ar19test\\\\10_10_19\\\\videos\\\\01-08-28video.mp4', 'D:\\\\rat_movies_SC\\\\ar19test\\\\10_10_19\\\\videos\\\\01-08-53video.mp4', 'D:\\\\rat_movies_SC\\\\ar19test\\\\10_10_19\\\\videos\\\\01-09-16video.mp4', 'D:\\\\rat_movies_SC\\\\ar19test\\\\10_10_19\\\\videos\\\\01-09-49video.mp4', 'D:\\\\rat_movies_SC\\\\ar19test\\\\10_10_19\\\\videos\\\\01-10-11video.mp4', 'D:\\\\rat_movies_SC\\\\ar19test\\\\10_10_19\\\\videos\\\\01-10-33video.mp4', 'D:\\\\rat_movies_SC\\\\ar19test\\\\10_10_19\\\\videos\\\\01-11-23video.mp4', 'D:\\\\rat_movies_SC\\\\ar19test\\\\10_10_19\\\\videos\\\\01-11-44video.mp4', 'D:\\\\rat_movies_SC\\\\ar19test\\\\10_10_19\\\\videos\\\\01-12-05video.mp4', 'D:\\\\rat_movies_SC\\\\ar19test\\\\10_10_19\\\\videos\\\\01-12-27video.mp4', 'D:\\\\rat_movies_SC\\\\ar19test\\\\10_10_19\\\\videos\\\\01-12-51video.mp4', 'D:\\\\rat_movies_SC\\\\ar19test\\\\10_10_19\\\\videos\\\\01-13-15video.mp4', 'D:\\\\rat_movies_SC\\\\ar19test\\\\10_10_19\\\\videos\\\\01-13-36video.mp4', 'D:\\\\rat_movies_SC\\\\ar19test\\\\10_10_19\\\\videos\\\\01-14-00video.mp4', 'D:\\\\rat_movies_SC\\\\ar19test\\\\10_10_19\\\\videos\\\\01-14-25video.mp4', 'D:\\\\rat_movies_SC\\\\ar19test\\\\10_10_19\\\\videos\\\\01-14-47video.mp4', 'D:\\\\rat_movies_SC\\\\ar19test\\\\10_10_19\\\\videos\\\\01-15-14video.mp4', 'D:\\\\rat_movies_SC\\\\ar19test\\\\10_10_19\\\\videos\\\\01-15-37video.mp4', 'D:\\\\rat_movies_SC\\\\ar19test\\\\10_10_19\\\\videos\\\\01-15-58video.mp4', 'D:\\\\rat_movies_SC\\\\ar19test\\\\10_10_19\\\\videos\\\\01-16-28video.mp4', 'D:\\\\rat_movies_SC\\\\ar19test\\\\10_10_19\\\\videos\\\\01-16-49video.mp4', 'D:\\\\rat_movies_SC\\\\ar19test\\\\10_10_19\\\\videos\\\\01-17-10video.mp4', 'D:\\\\rat_movies_SC\\\\ar19test\\\\10_10_19\\\\videos\\\\01-17-32video.mp4', 'D:\\\\rat_movies_SC\\\\ar19test\\\\10_10_19\\\\videos\\\\01-17-52video.mp4', 'D:\\\\rat_movies_SC\\\\ar19test\\\\10_10_19\\\\videos\\\\01-18-18video.mp4', 'D:\\\\rat_movies_SC\\\\ar19test\\\\10_10_19\\\\videos\\\\01-18-39video.mp4', 'D:\\\\rat_movies_SC\\\\ar19test\\\\10_10_19\\\\videos\\\\01-19-00video.mp4', 'D:\\\\rat_movies_SC\\\\ar19test\\\\10_10_19\\\\videos\\\\01-19-22video.mp4', 'D:\\\\rat_movies_SC\\\\ar19test\\\\10_10_19\\\\videos\\\\01-19-43video.mp4', 'D:\\\\rat_movies_SC\\\\ar19test\\\\10_10_19\\\\videos\\\\01-20-04video.mp4']\n",
      "Using snapshot-7000 for model D:\\rat_movies_SC\\ar19muscimol\\10_10_2019\\ar19_10102019-Fassihi-2019-11-12\\dlc-models\\iteration-4\\ar19_10102019Nov12-trainset95shuffle1\n",
      "INFO:tensorflow:Restoring parameters from D:\\rat_movies_SC\\ar19muscimol\\10_10_2019\\ar19_10102019-Fassihi-2019-11-12\\dlc-models\\iteration-4\\ar19_10102019Nov12-trainset95shuffle1\\train\\snapshot-7000\n"
     ]
    },
    {
     "name": "stderr",
     "output_type": "stream",
     "text": [
      "INFO:tensorflow:Restoring parameters from D:\\rat_movies_SC\\ar19muscimol\\10_10_2019\\ar19_10102019-Fassihi-2019-11-12\\dlc-models\\iteration-4\\ar19_10102019Nov12-trainset95shuffle1\\train\\snapshot-7000\n"
     ]
    },
    {
     "name": "stdout",
     "output_type": "stream",
     "text": [
      "Starting to analyze %  D:\\rat_movies_SC\\ar19test\\10_10_19\\videos\\01-06-15video.mp4\n",
      "Loading  D:\\rat_movies_SC\\ar19test\\10_10_19\\videos\\01-06-15video.mp4\n",
      "Duration of video [s]:  1200.0 , recorded with  1.0 fps!\n",
      "Overall # of frames:  1200  found with (before cropping) frame dimensions:  1024 390\n",
      "Starting to extract posture\n"
     ]
    },
    {
     "name": "stderr",
     "output_type": "stream",
     "text": [
      "1212it [02:00,  9.36it/s]                                                                                              "
     ]
    },
    {
     "name": "stdout",
     "output_type": "stream",
     "text": [
      "Detected frames:  1200\n"
     ]
    },
    {
     "name": "stderr",
     "output_type": "stream",
     "text": [
      "\n"
     ]
    },
    {
     "name": "stdout",
     "output_type": "stream",
     "text": [
      "Saving results in D:\\rat_movies_SC\\ar19test\\10_10_19\\videos...\n",
      "Saving csv poses!\n",
      "Starting to analyze %  D:\\rat_movies_SC\\ar19test\\10_10_19\\videos\\01-08-28video.mp4\n",
      "Loading  D:\\rat_movies_SC\\ar19test\\10_10_19\\videos\\01-08-28video.mp4\n",
      "Duration of video [s]:  1200.0 , recorded with  1.0 fps!\n",
      "Overall # of frames:  1200  found with (before cropping) frame dimensions:  1024 390\n",
      "Starting to extract posture\n"
     ]
    },
    {
     "name": "stderr",
     "output_type": "stream",
     "text": [
      "1212it [02:21,  9.05it/s]                                                                                              "
     ]
    },
    {
     "name": "stdout",
     "output_type": "stream",
     "text": [
      "Detected frames:  1200\n"
     ]
    },
    {
     "name": "stderr",
     "output_type": "stream",
     "text": [
      "\n"
     ]
    },
    {
     "name": "stdout",
     "output_type": "stream",
     "text": [
      "Saving results in D:\\rat_movies_SC\\ar19test\\10_10_19\\videos...\n",
      "Saving csv poses!\n",
      "Starting to analyze %  D:\\rat_movies_SC\\ar19test\\10_10_19\\videos\\01-08-53video.mp4\n",
      "Loading  D:\\rat_movies_SC\\ar19test\\10_10_19\\videos\\01-08-53video.mp4\n",
      "Duration of video [s]:  1200.0 , recorded with  1.0 fps!\n",
      "Overall # of frames:  1200  found with (before cropping) frame dimensions:  1024 390\n",
      "Starting to extract posture\n"
     ]
    },
    {
     "name": "stderr",
     "output_type": "stream",
     "text": [
      "1212it [02:13,  9.19it/s]                                                                                              "
     ]
    },
    {
     "name": "stdout",
     "output_type": "stream",
     "text": [
      "Detected frames:  1200\n"
     ]
    },
    {
     "name": "stderr",
     "output_type": "stream",
     "text": [
      "\n"
     ]
    },
    {
     "name": "stdout",
     "output_type": "stream",
     "text": [
      "Saving results in D:\\rat_movies_SC\\ar19test\\10_10_19\\videos...\n",
      "Saving csv poses!\n",
      "Starting to analyze %  D:\\rat_movies_SC\\ar19test\\10_10_19\\videos\\01-09-16video.mp4\n",
      "Loading  D:\\rat_movies_SC\\ar19test\\10_10_19\\videos\\01-09-16video.mp4\n",
      "Duration of video [s]:  1200.0 , recorded with  1.0 fps!\n",
      "Overall # of frames:  1200  found with (before cropping) frame dimensions:  1024 390\n",
      "Starting to extract posture\n"
     ]
    },
    {
     "name": "stderr",
     "output_type": "stream",
     "text": [
      "1212it [02:12,  9.07it/s]                                                                                              "
     ]
    },
    {
     "name": "stdout",
     "output_type": "stream",
     "text": [
      "Detected frames:  1200\n"
     ]
    },
    {
     "name": "stderr",
     "output_type": "stream",
     "text": [
      "\n"
     ]
    },
    {
     "name": "stdout",
     "output_type": "stream",
     "text": [
      "Saving results in D:\\rat_movies_SC\\ar19test\\10_10_19\\videos...\n",
      "Saving csv poses!\n",
      "Starting to analyze %  D:\\rat_movies_SC\\ar19test\\10_10_19\\videos\\01-09-49video.mp4\n",
      "Loading  D:\\rat_movies_SC\\ar19test\\10_10_19\\videos\\01-09-49video.mp4\n",
      "Duration of video [s]:  1200.0 , recorded with  1.0 fps!\n",
      "Overall # of frames:  1200  found with (before cropping) frame dimensions:  1024 390\n",
      "Starting to extract posture\n"
     ]
    },
    {
     "name": "stderr",
     "output_type": "stream",
     "text": [
      "1212it [02:17,  8.49it/s]                                                                                              "
     ]
    },
    {
     "name": "stdout",
     "output_type": "stream",
     "text": [
      "Detected frames:  1200\n"
     ]
    },
    {
     "name": "stderr",
     "output_type": "stream",
     "text": [
      "\n"
     ]
    },
    {
     "name": "stdout",
     "output_type": "stream",
     "text": [
      "Saving results in D:\\rat_movies_SC\\ar19test\\10_10_19\\videos...\n",
      "Saving csv poses!\n",
      "Starting to analyze %  D:\\rat_movies_SC\\ar19test\\10_10_19\\videos\\01-10-11video.mp4\n",
      "Loading  D:\\rat_movies_SC\\ar19test\\10_10_19\\videos\\01-10-11video.mp4\n",
      "Duration of video [s]:  1200.0 , recorded with  1.0 fps!\n",
      "Overall # of frames:  1200  found with (before cropping) frame dimensions:  1024 390\n",
      "Starting to extract posture\n"
     ]
    },
    {
     "name": "stderr",
     "output_type": "stream",
     "text": [
      "1212it [02:13,  9.20it/s]                                                                                              "
     ]
    },
    {
     "name": "stdout",
     "output_type": "stream",
     "text": [
      "Detected frames:  1200\n"
     ]
    },
    {
     "name": "stderr",
     "output_type": "stream",
     "text": [
      "\n"
     ]
    },
    {
     "name": "stdout",
     "output_type": "stream",
     "text": [
      "Saving results in D:\\rat_movies_SC\\ar19test\\10_10_19\\videos...\n",
      "Saving csv poses!\n",
      "Starting to analyze %  D:\\rat_movies_SC\\ar19test\\10_10_19\\videos\\01-10-33video.mp4\n",
      "Loading  D:\\rat_movies_SC\\ar19test\\10_10_19\\videos\\01-10-33video.mp4\n",
      "Duration of video [s]:  1200.0 , recorded with  1.0 fps!\n",
      "Overall # of frames:  1200  found with (before cropping) frame dimensions:  1024 390\n",
      "Starting to extract posture\n"
     ]
    },
    {
     "name": "stderr",
     "output_type": "stream",
     "text": [
      "1212it [02:11,  9.21it/s]                                                                                              "
     ]
    },
    {
     "name": "stdout",
     "output_type": "stream",
     "text": [
      "Detected frames:  1200\n"
     ]
    },
    {
     "name": "stderr",
     "output_type": "stream",
     "text": [
      "\n"
     ]
    },
    {
     "name": "stdout",
     "output_type": "stream",
     "text": [
      "Saving results in D:\\rat_movies_SC\\ar19test\\10_10_19\\videos...\n",
      "Saving csv poses!\n",
      "Starting to analyze %  D:\\rat_movies_SC\\ar19test\\10_10_19\\videos\\01-11-23video.mp4\n",
      "Loading  D:\\rat_movies_SC\\ar19test\\10_10_19\\videos\\01-11-23video.mp4\n",
      "Duration of video [s]:  1200.0 , recorded with  1.0 fps!\n",
      "Overall # of frames:  1200  found with (before cropping) frame dimensions:  1024 390\n",
      "Starting to extract posture\n"
     ]
    },
    {
     "name": "stderr",
     "output_type": "stream",
     "text": [
      "1212it [02:12,  9.15it/s]                                                                                              "
     ]
    },
    {
     "name": "stdout",
     "output_type": "stream",
     "text": [
      "Detected frames:  1200\n"
     ]
    },
    {
     "name": "stderr",
     "output_type": "stream",
     "text": [
      "\n"
     ]
    },
    {
     "name": "stdout",
     "output_type": "stream",
     "text": [
      "Saving results in D:\\rat_movies_SC\\ar19test\\10_10_19\\videos...\n",
      "Saving csv poses!\n",
      "Starting to analyze %  D:\\rat_movies_SC\\ar19test\\10_10_19\\videos\\01-11-44video.mp4\n",
      "Loading  D:\\rat_movies_SC\\ar19test\\10_10_19\\videos\\01-11-44video.mp4\n",
      "Duration of video [s]:  1200.0 , recorded with  1.0 fps!\n",
      "Overall # of frames:  1200  found with (before cropping) frame dimensions:  1024 390\n",
      "Starting to extract posture\n"
     ]
    },
    {
     "name": "stderr",
     "output_type": "stream",
     "text": [
      "1212it [02:14,  8.90it/s]                                                                                              "
     ]
    },
    {
     "name": "stdout",
     "output_type": "stream",
     "text": [
      "Detected frames:  1200\n"
     ]
    },
    {
     "name": "stderr",
     "output_type": "stream",
     "text": [
      "\n"
     ]
    },
    {
     "name": "stdout",
     "output_type": "stream",
     "text": [
      "Saving results in D:\\rat_movies_SC\\ar19test\\10_10_19\\videos...\n",
      "Saving csv poses!\n",
      "Starting to analyze %  D:\\rat_movies_SC\\ar19test\\10_10_19\\videos\\01-12-05video.mp4\n",
      "Loading  D:\\rat_movies_SC\\ar19test\\10_10_19\\videos\\01-12-05video.mp4\n",
      "Duration of video [s]:  1200.0 , recorded with  1.0 fps!\n",
      "Overall # of frames:  1200  found with (before cropping) frame dimensions:  1024 390\n",
      "Starting to extract posture\n"
     ]
    },
    {
     "name": "stderr",
     "output_type": "stream",
     "text": [
      "1212it [02:15,  8.72it/s]                                                                                              "
     ]
    },
    {
     "name": "stdout",
     "output_type": "stream",
     "text": [
      "Detected frames:  1200\n"
     ]
    },
    {
     "name": "stderr",
     "output_type": "stream",
     "text": [
      "\n"
     ]
    },
    {
     "name": "stdout",
     "output_type": "stream",
     "text": [
      "Saving results in D:\\rat_movies_SC\\ar19test\\10_10_19\\videos...\n",
      "Saving csv poses!\n",
      "Starting to analyze %  D:\\rat_movies_SC\\ar19test\\10_10_19\\videos\\01-12-27video.mp4\n",
      "Loading  D:\\rat_movies_SC\\ar19test\\10_10_19\\videos\\01-12-27video.mp4\n",
      "Duration of video [s]:  1200.0 , recorded with  1.0 fps!\n",
      "Overall # of frames:  1200  found with (before cropping) frame dimensions:  1024 390\n",
      "Starting to extract posture\n"
     ]
    },
    {
     "name": "stderr",
     "output_type": "stream",
     "text": [
      "1212it [02:14,  8.95it/s]                                                                                              "
     ]
    },
    {
     "name": "stdout",
     "output_type": "stream",
     "text": [
      "Detected frames:  1200\n"
     ]
    },
    {
     "name": "stderr",
     "output_type": "stream",
     "text": [
      "\n"
     ]
    },
    {
     "name": "stdout",
     "output_type": "stream",
     "text": [
      "Saving results in D:\\rat_movies_SC\\ar19test\\10_10_19\\videos...\n",
      "Saving csv poses!\n",
      "Starting to analyze %  D:\\rat_movies_SC\\ar19test\\10_10_19\\videos\\01-12-51video.mp4\n",
      "Loading  D:\\rat_movies_SC\\ar19test\\10_10_19\\videos\\01-12-51video.mp4\n",
      "Duration of video [s]:  1200.0 , recorded with  1.0 fps!\n",
      "Overall # of frames:  1200  found with (before cropping) frame dimensions:  1024 390\n",
      "Starting to extract posture\n"
     ]
    },
    {
     "name": "stderr",
     "output_type": "stream",
     "text": [
      "1212it [02:17,  8.81it/s]                                                                                              "
     ]
    },
    {
     "name": "stdout",
     "output_type": "stream",
     "text": [
      "Detected frames:  1200\n"
     ]
    },
    {
     "name": "stderr",
     "output_type": "stream",
     "text": [
      "\n"
     ]
    },
    {
     "name": "stdout",
     "output_type": "stream",
     "text": [
      "Saving results in D:\\rat_movies_SC\\ar19test\\10_10_19\\videos...\n",
      "Saving csv poses!\n",
      "Starting to analyze %  D:\\rat_movies_SC\\ar19test\\10_10_19\\videos\\01-13-15video.mp4\n",
      "Loading  D:\\rat_movies_SC\\ar19test\\10_10_19\\videos\\01-13-15video.mp4\n",
      "Duration of video [s]:  1200.0 , recorded with  1.0 fps!\n",
      "Overall # of frames:  1200  found with (before cropping) frame dimensions:  1024 390\n",
      "Starting to extract posture\n"
     ]
    },
    {
     "name": "stderr",
     "output_type": "stream",
     "text": [
      "1212it [02:21,  8.48it/s]                                                                                              "
     ]
    },
    {
     "name": "stdout",
     "output_type": "stream",
     "text": [
      "Detected frames:  1200\n"
     ]
    },
    {
     "name": "stderr",
     "output_type": "stream",
     "text": [
      "\n"
     ]
    },
    {
     "name": "stdout",
     "output_type": "stream",
     "text": [
      "Saving results in D:\\rat_movies_SC\\ar19test\\10_10_19\\videos...\n",
      "Saving csv poses!\n",
      "Starting to analyze %  D:\\rat_movies_SC\\ar19test\\10_10_19\\videos\\01-13-36video.mp4\n",
      "Loading  D:\\rat_movies_SC\\ar19test\\10_10_19\\videos\\01-13-36video.mp4\n",
      "Duration of video [s]:  1200.0 , recorded with  1.0 fps!\n",
      "Overall # of frames:  1200  found with (before cropping) frame dimensions:  1024 390\n",
      "Starting to extract posture\n"
     ]
    },
    {
     "name": "stderr",
     "output_type": "stream",
     "text": [
      "1212it [02:20,  8.60it/s]                                                                                              "
     ]
    },
    {
     "name": "stdout",
     "output_type": "stream",
     "text": [
      "Detected frames:  1200\n"
     ]
    },
    {
     "name": "stderr",
     "output_type": "stream",
     "text": [
      "\n"
     ]
    },
    {
     "name": "stdout",
     "output_type": "stream",
     "text": [
      "Saving results in D:\\rat_movies_SC\\ar19test\\10_10_19\\videos...\n",
      "Saving csv poses!\n",
      "Starting to analyze %  D:\\rat_movies_SC\\ar19test\\10_10_19\\videos\\01-14-00video.mp4\n",
      "Loading  D:\\rat_movies_SC\\ar19test\\10_10_19\\videos\\01-14-00video.mp4\n",
      "Duration of video [s]:  1200.0 , recorded with  1.0 fps!\n",
      "Overall # of frames:  1200  found with (before cropping) frame dimensions:  1024 390\n",
      "Starting to extract posture\n"
     ]
    },
    {
     "name": "stderr",
     "output_type": "stream",
     "text": [
      "1212it [02:19,  8.71it/s]                                                                                              "
     ]
    },
    {
     "name": "stdout",
     "output_type": "stream",
     "text": [
      "Detected frames:  1200\n"
     ]
    },
    {
     "name": "stderr",
     "output_type": "stream",
     "text": [
      "\n"
     ]
    },
    {
     "name": "stdout",
     "output_type": "stream",
     "text": [
      "Saving results in D:\\rat_movies_SC\\ar19test\\10_10_19\\videos...\n",
      "Saving csv poses!\n",
      "Starting to analyze %  D:\\rat_movies_SC\\ar19test\\10_10_19\\videos\\01-14-25video.mp4\n",
      "Loading  D:\\rat_movies_SC\\ar19test\\10_10_19\\videos\\01-14-25video.mp4\n",
      "Duration of video [s]:  1200.0 , recorded with  1.0 fps!\n",
      "Overall # of frames:  1200  found with (before cropping) frame dimensions:  1024 390\n",
      "Starting to extract posture\n"
     ]
    },
    {
     "name": "stderr",
     "output_type": "stream",
     "text": [
      "1212it [02:19,  8.88it/s]                                                                                              "
     ]
    },
    {
     "name": "stdout",
     "output_type": "stream",
     "text": [
      "Detected frames:  1200\n"
     ]
    },
    {
     "name": "stderr",
     "output_type": "stream",
     "text": [
      "\n"
     ]
    },
    {
     "name": "stdout",
     "output_type": "stream",
     "text": [
      "Saving results in D:\\rat_movies_SC\\ar19test\\10_10_19\\videos...\n",
      "Saving csv poses!\n",
      "Starting to analyze %  D:\\rat_movies_SC\\ar19test\\10_10_19\\videos\\01-14-47video.mp4\n",
      "Loading  D:\\rat_movies_SC\\ar19test\\10_10_19\\videos\\01-14-47video.mp4\n",
      "Duration of video [s]:  1200.0 , recorded with  1.0 fps!\n",
      "Overall # of frames:  1200  found with (before cropping) frame dimensions:  1024 390\n",
      "Starting to extract posture\n"
     ]
    },
    {
     "name": "stderr",
     "output_type": "stream",
     "text": [
      "1212it [02:19,  8.39it/s]                                                                                              "
     ]
    },
    {
     "name": "stdout",
     "output_type": "stream",
     "text": [
      "Detected frames:  1200\n"
     ]
    },
    {
     "name": "stderr",
     "output_type": "stream",
     "text": [
      "\n"
     ]
    },
    {
     "name": "stdout",
     "output_type": "stream",
     "text": [
      "Saving results in D:\\rat_movies_SC\\ar19test\\10_10_19\\videos...\n",
      "Saving csv poses!\n",
      "Starting to analyze %  D:\\rat_movies_SC\\ar19test\\10_10_19\\videos\\01-15-14video.mp4\n",
      "Loading  D:\\rat_movies_SC\\ar19test\\10_10_19\\videos\\01-15-14video.mp4\n",
      "Duration of video [s]:  1200.0 , recorded with  1.0 fps!\n",
      "Overall # of frames:  1200  found with (before cropping) frame dimensions:  1024 390\n",
      "Starting to extract posture\n"
     ]
    },
    {
     "name": "stderr",
     "output_type": "stream",
     "text": [
      "1212it [02:16,  8.56it/s]                                                                                              "
     ]
    },
    {
     "name": "stdout",
     "output_type": "stream",
     "text": [
      "Detected frames:  1200\n"
     ]
    },
    {
     "name": "stderr",
     "output_type": "stream",
     "text": [
      "\n"
     ]
    },
    {
     "name": "stdout",
     "output_type": "stream",
     "text": [
      "Saving results in D:\\rat_movies_SC\\ar19test\\10_10_19\\videos...\n",
      "Saving csv poses!\n",
      "Starting to analyze %  D:\\rat_movies_SC\\ar19test\\10_10_19\\videos\\01-15-37video.mp4\n",
      "Loading  D:\\rat_movies_SC\\ar19test\\10_10_19\\videos\\01-15-37video.mp4\n",
      "Duration of video [s]:  1200.0 , recorded with  1.0 fps!\n",
      "Overall # of frames:  1200  found with (before cropping) frame dimensions:  1024 390\n",
      "Starting to extract posture\n"
     ]
    },
    {
     "name": "stderr",
     "output_type": "stream",
     "text": [
      "1212it [02:16,  8.93it/s]                                                                                              "
     ]
    },
    {
     "name": "stdout",
     "output_type": "stream",
     "text": [
      "Detected frames:  1200\n"
     ]
    },
    {
     "name": "stderr",
     "output_type": "stream",
     "text": [
      "\n"
     ]
    },
    {
     "name": "stdout",
     "output_type": "stream",
     "text": [
      "Saving results in D:\\rat_movies_SC\\ar19test\\10_10_19\\videos...\n",
      "Saving csv poses!\n",
      "Starting to analyze %  D:\\rat_movies_SC\\ar19test\\10_10_19\\videos\\01-15-58video.mp4\n",
      "Loading  D:\\rat_movies_SC\\ar19test\\10_10_19\\videos\\01-15-58video.mp4\n",
      "Duration of video [s]:  1200.0 , recorded with  1.0 fps!\n",
      "Overall # of frames:  1200  found with (before cropping) frame dimensions:  1024 390\n",
      "Starting to extract posture\n"
     ]
    },
    {
     "name": "stderr",
     "output_type": "stream",
     "text": [
      "1212it [02:16,  8.78it/s]                                                                                              "
     ]
    },
    {
     "name": "stdout",
     "output_type": "stream",
     "text": [
      "Detected frames:  1200\n"
     ]
    },
    {
     "name": "stderr",
     "output_type": "stream",
     "text": [
      "\n"
     ]
    },
    {
     "name": "stdout",
     "output_type": "stream",
     "text": [
      "Saving results in D:\\rat_movies_SC\\ar19test\\10_10_19\\videos...\n",
      "Saving csv poses!\n",
      "Starting to analyze %  D:\\rat_movies_SC\\ar19test\\10_10_19\\videos\\01-16-28video.mp4\n",
      "Loading  D:\\rat_movies_SC\\ar19test\\10_10_19\\videos\\01-16-28video.mp4\n",
      "Duration of video [s]:  1200.0 , recorded with  1.0 fps!\n",
      "Overall # of frames:  1200  found with (before cropping) frame dimensions:  1024 390\n",
      "Starting to extract posture\n"
     ]
    },
    {
     "name": "stderr",
     "output_type": "stream",
     "text": [
      "1212it [02:16,  8.86it/s]                                                                                              "
     ]
    },
    {
     "name": "stdout",
     "output_type": "stream",
     "text": [
      "Detected frames:  1200\n"
     ]
    },
    {
     "name": "stderr",
     "output_type": "stream",
     "text": [
      "\n"
     ]
    },
    {
     "name": "stdout",
     "output_type": "stream",
     "text": [
      "Saving results in D:\\rat_movies_SC\\ar19test\\10_10_19\\videos...\n",
      "Saving csv poses!\n",
      "Starting to analyze %  D:\\rat_movies_SC\\ar19test\\10_10_19\\videos\\01-16-49video.mp4\n",
      "Loading  D:\\rat_movies_SC\\ar19test\\10_10_19\\videos\\01-16-49video.mp4\n",
      "Duration of video [s]:  1200.0 , recorded with  1.0 fps!\n",
      "Overall # of frames:  1200  found with (before cropping) frame dimensions:  1024 390\n",
      "Starting to extract posture\n"
     ]
    },
    {
     "name": "stderr",
     "output_type": "stream",
     "text": [
      "1212it [02:16,  8.67it/s]                                                                                              "
     ]
    },
    {
     "name": "stdout",
     "output_type": "stream",
     "text": [
      "Detected frames:  1200\n"
     ]
    },
    {
     "name": "stderr",
     "output_type": "stream",
     "text": [
      "\n"
     ]
    },
    {
     "name": "stdout",
     "output_type": "stream",
     "text": [
      "Saving results in D:\\rat_movies_SC\\ar19test\\10_10_19\\videos...\n",
      "Saving csv poses!\n",
      "Starting to analyze %  D:\\rat_movies_SC\\ar19test\\10_10_19\\videos\\01-17-10video.mp4\n",
      "Loading  D:\\rat_movies_SC\\ar19test\\10_10_19\\videos\\01-17-10video.mp4\n",
      "Duration of video [s]:  1200.0 , recorded with  1.0 fps!\n",
      "Overall # of frames:  1200  found with (before cropping) frame dimensions:  1024 390\n",
      "Starting to extract posture\n"
     ]
    },
    {
     "name": "stderr",
     "output_type": "stream",
     "text": [
      "1212it [02:17,  8.73it/s]                                                                                              "
     ]
    },
    {
     "name": "stdout",
     "output_type": "stream",
     "text": [
      "Detected frames:  1200\n"
     ]
    },
    {
     "name": "stderr",
     "output_type": "stream",
     "text": [
      "\n"
     ]
    },
    {
     "name": "stdout",
     "output_type": "stream",
     "text": [
      "Saving results in D:\\rat_movies_SC\\ar19test\\10_10_19\\videos...\n",
      "Saving csv poses!\n",
      "Starting to analyze %  D:\\rat_movies_SC\\ar19test\\10_10_19\\videos\\01-17-32video.mp4\n",
      "Loading  D:\\rat_movies_SC\\ar19test\\10_10_19\\videos\\01-17-32video.mp4\n",
      "Duration of video [s]:  1200.0 , recorded with  1.0 fps!\n",
      "Overall # of frames:  1200  found with (before cropping) frame dimensions:  1024 390\n",
      "Starting to extract posture\n"
     ]
    },
    {
     "name": "stderr",
     "output_type": "stream",
     "text": [
      "1212it [02:17,  8.66it/s]                                                                                              "
     ]
    },
    {
     "name": "stdout",
     "output_type": "stream",
     "text": [
      "Detected frames:  1200\n"
     ]
    },
    {
     "name": "stderr",
     "output_type": "stream",
     "text": [
      "\n"
     ]
    },
    {
     "name": "stdout",
     "output_type": "stream",
     "text": [
      "Saving results in D:\\rat_movies_SC\\ar19test\\10_10_19\\videos...\n",
      "Saving csv poses!\n",
      "Starting to analyze %  D:\\rat_movies_SC\\ar19test\\10_10_19\\videos\\01-17-52video.mp4\n",
      "Loading  D:\\rat_movies_SC\\ar19test\\10_10_19\\videos\\01-17-52video.mp4\n",
      "Duration of video [s]:  1200.0 , recorded with  1.0 fps!\n",
      "Overall # of frames:  1200  found with (before cropping) frame dimensions:  1024 390\n",
      "Starting to extract posture\n"
     ]
    },
    {
     "name": "stderr",
     "output_type": "stream",
     "text": [
      "1212it [02:18,  8.57it/s]                                                                                              "
     ]
    },
    {
     "name": "stdout",
     "output_type": "stream",
     "text": [
      "Detected frames:  1200\n"
     ]
    },
    {
     "name": "stderr",
     "output_type": "stream",
     "text": [
      "\n"
     ]
    },
    {
     "name": "stdout",
     "output_type": "stream",
     "text": [
      "Saving results in D:\\rat_movies_SC\\ar19test\\10_10_19\\videos...\n",
      "Saving csv poses!\n",
      "Starting to analyze %  D:\\rat_movies_SC\\ar19test\\10_10_19\\videos\\01-18-18video.mp4\n",
      "Loading  D:\\rat_movies_SC\\ar19test\\10_10_19\\videos\\01-18-18video.mp4\n",
      "Duration of video [s]:  1200.0 , recorded with  1.0 fps!\n",
      "Overall # of frames:  1200  found with (before cropping) frame dimensions:  1024 390\n",
      "Starting to extract posture\n"
     ]
    },
    {
     "name": "stderr",
     "output_type": "stream",
     "text": [
      "1212it [02:18,  8.53it/s]                                                                                              "
     ]
    },
    {
     "name": "stdout",
     "output_type": "stream",
     "text": [
      "Detected frames:  1200\n"
     ]
    },
    {
     "name": "stderr",
     "output_type": "stream",
     "text": [
      "\n"
     ]
    },
    {
     "name": "stdout",
     "output_type": "stream",
     "text": [
      "Saving results in D:\\rat_movies_SC\\ar19test\\10_10_19\\videos...\n",
      "Saving csv poses!\n",
      "Starting to analyze %  D:\\rat_movies_SC\\ar19test\\10_10_19\\videos\\01-18-39video.mp4\n",
      "Loading  D:\\rat_movies_SC\\ar19test\\10_10_19\\videos\\01-18-39video.mp4\n",
      "Duration of video [s]:  1200.0 , recorded with  1.0 fps!\n",
      "Overall # of frames:  1200  found with (before cropping) frame dimensions:  1024 390\n",
      "Starting to extract posture\n"
     ]
    },
    {
     "name": "stderr",
     "output_type": "stream",
     "text": [
      "1212it [02:17,  8.70it/s]                                                                                              "
     ]
    },
    {
     "name": "stdout",
     "output_type": "stream",
     "text": [
      "Detected frames:  1200\n"
     ]
    },
    {
     "name": "stderr",
     "output_type": "stream",
     "text": [
      "\n"
     ]
    },
    {
     "name": "stdout",
     "output_type": "stream",
     "text": [
      "Saving results in D:\\rat_movies_SC\\ar19test\\10_10_19\\videos...\n",
      "Saving csv poses!\n",
      "Starting to analyze %  D:\\rat_movies_SC\\ar19test\\10_10_19\\videos\\01-19-00video.mp4\n",
      "Loading  D:\\rat_movies_SC\\ar19test\\10_10_19\\videos\\01-19-00video.mp4\n",
      "Duration of video [s]:  1200.0 , recorded with  1.0 fps!\n",
      "Overall # of frames:  1200  found with (before cropping) frame dimensions:  1024 390\n",
      "Starting to extract posture\n"
     ]
    },
    {
     "name": "stderr",
     "output_type": "stream",
     "text": [
      "1212it [02:15,  8.68it/s]                                                                                              "
     ]
    },
    {
     "name": "stdout",
     "output_type": "stream",
     "text": [
      "Detected frames:  1200\n"
     ]
    },
    {
     "name": "stderr",
     "output_type": "stream",
     "text": [
      "\n"
     ]
    },
    {
     "name": "stdout",
     "output_type": "stream",
     "text": [
      "Saving results in D:\\rat_movies_SC\\ar19test\\10_10_19\\videos...\n",
      "Saving csv poses!\n",
      "Starting to analyze %  D:\\rat_movies_SC\\ar19test\\10_10_19\\videos\\01-19-22video.mp4\n",
      "Loading  D:\\rat_movies_SC\\ar19test\\10_10_19\\videos\\01-19-22video.mp4\n",
      "Duration of video [s]:  1200.0 , recorded with  1.0 fps!\n",
      "Overall # of frames:  1200  found with (before cropping) frame dimensions:  1024 390\n",
      "Starting to extract posture\n"
     ]
    },
    {
     "name": "stderr",
     "output_type": "stream",
     "text": [
      "1212it [02:16,  8.61it/s]                                                                                              "
     ]
    },
    {
     "name": "stdout",
     "output_type": "stream",
     "text": [
      "Detected frames:  1200\n"
     ]
    },
    {
     "name": "stderr",
     "output_type": "stream",
     "text": [
      "\n"
     ]
    },
    {
     "name": "stdout",
     "output_type": "stream",
     "text": [
      "Saving results in D:\\rat_movies_SC\\ar19test\\10_10_19\\videos...\n",
      "Saving csv poses!\n",
      "Starting to analyze %  D:\\rat_movies_SC\\ar19test\\10_10_19\\videos\\01-19-43video.mp4\n",
      "Loading  D:\\rat_movies_SC\\ar19test\\10_10_19\\videos\\01-19-43video.mp4\n",
      "Duration of video [s]:  1200.0 , recorded with  1.0 fps!\n",
      "Overall # of frames:  1200  found with (before cropping) frame dimensions:  1024 390\n",
      "Starting to extract posture\n"
     ]
    },
    {
     "name": "stderr",
     "output_type": "stream",
     "text": [
      "1212it [02:17,  8.70it/s]                                                                                              "
     ]
    },
    {
     "name": "stdout",
     "output_type": "stream",
     "text": [
      "Detected frames:  1200\n"
     ]
    },
    {
     "name": "stderr",
     "output_type": "stream",
     "text": [
      "\n"
     ]
    },
    {
     "name": "stdout",
     "output_type": "stream",
     "text": [
      "Saving results in D:\\rat_movies_SC\\ar19test\\10_10_19\\videos...\n",
      "Saving csv poses!\n",
      "Starting to analyze %  D:\\rat_movies_SC\\ar19test\\10_10_19\\videos\\01-20-04video.mp4\n",
      "Loading  D:\\rat_movies_SC\\ar19test\\10_10_19\\videos\\01-20-04video.mp4\n",
      "Duration of video [s]:  1200.0 , recorded with  1.0 fps!\n",
      "Overall # of frames:  1200  found with (before cropping) frame dimensions:  1024 390\n",
      "Starting to extract posture\n"
     ]
    },
    {
     "name": "stderr",
     "output_type": "stream",
     "text": [
      "1212it [02:17,  8.80it/s]                                                                                              "
     ]
    },
    {
     "name": "stdout",
     "output_type": "stream",
     "text": [
      "Detected frames:  1200\n"
     ]
    },
    {
     "name": "stderr",
     "output_type": "stream",
     "text": [
      "\n"
     ]
    },
    {
     "name": "stdout",
     "output_type": "stream",
     "text": [
      "Saving results in D:\\rat_movies_SC\\ar19test\\10_10_19\\videos...\n",
      "Saving csv poses!\n",
      "The videos are analyzed. Now your research can truly start! \n",
      " You can create labeled videos with 'create_labeled_video'.\n",
      "If the tracking is not satisfactory for some videos, consider expanding the training set. You can use the function 'extract_outlier_frames' to extract any outlier frames!\n"
     ]
    }
   ],
   "source": [
    "#path_config_file = 'D:\\\\Notebook\\\\sc\\\\sc-Fassihi-2018-12-15\\\\config.yaml' # Enter the path of the config file that was just created from the above step (check the folder)\n",
    "whismovie =1;\n",
    "#videofile_path = ['D:\\\\Notebook\\\\sc\\\\sc-Fassihi-2018-12-16\\\\videos\\\\video14-23-50.avi'] #Enter the list of videos to analyze.\n",
    "#path_config_file = 'D:\\\\rat movies SC\\\\ar19\\\\02_07_19\\\\sc_ar19_02072019-Fassihi4-2019-02-13\\\\config.yaml' #Enter the path of the config file that was just created from the above step (check the folder)\n",
    "#path_config_file ='D:\\\\rat movies SC\\\\ar17record\\\\02_27_19\\\\sc_ar17record_02272019-Fassihi-2019-03-05\\\\config.yaml' #Enter the path of the config file that was just created from the above step (check the folder)\n",
    "#path_config_file = 'D:\\\\rat_movies_SC\\\\ar17record\\\\02_27_19\\\\sc_ar17record_02272019_3-Fassihi-2019-04-28\\\\config.yaml'\n",
    "#path_config_file = 'D:\\\\movies_Rat_SC_project\\\\ar1\\\\05_24_19\\\\sc_aa1_05242019-Fassihi-2019-05-30\\\\config.yaml' #Enter the path of the config file that was just created from the above step (check the folder)\n",
    "#path_config_file = 'D:\\\\movies_Rat_SC_project\\\\ar3\\\\06_07_19\\\\sc_aa3_06072019-Fassihi-2019-06-10\\\\config.yaml' #Enter the path of the config file that was just created from the above step (check the folder)\n",
    "path_config_file = 'D:\\\\rat_movies_SC\\\\ar2breathing\\\\10_06_19\\\\ar19salin_10-06-19_LR-Arash-2020-01-24\\\\config.yaml';\n",
    "path_config_file = 'D:\\\\rat_movies_SC\\\\ar2breathing\\\\10_06_19\\\\ar19salin_10-06-19_LR_L-Arash-2020-01-27\\\\config.yaml';\n",
    "path_config_file = 'D:\\\\rat_movies_SC\\\\ar2breathing\\\\10_06_19\\\\ar19salin_10-06-19_LR-Arash-2020-01-24\\\\config.yaml';\n",
    "path_config_file = 'D:\\\\rat_movies_SC\\\\ar19muscimol\\\\10_10_2019\\\\ar19_10102019-Fassihi-2019-11-12\\\\config.yaml';\n",
    "\n",
    "import os\n",
    "#Mainfolder = 'F:\\\\ar2breathing\\\\10_18_19'\n",
    "#Mainfolder = 'D:\\\\rat_movies_SC\\\\ar17\\\\02_25_19'\n",
    "#Mainfolder = 'D:\\\\rat_movies_SC\\\\ar19tear19salin\\\\10_08_19'\n",
    "#Mainfolder = 'D:\\\\rat_movies_SC\\\\ar19muscimol\\\\10_10_2019'\n",
    "Mainfolder = 'F:\\\\ar2breathing\\\\10_08_19'\n",
    "Mainfolder = 'D:\\\\rat_movies_SC\\\\ar2breathing\\\\10_06_19\\\\Right'\n",
    "Mainfolder = 'D:\\\\rat_movies_SC\\\\ar2breathing\\\\10_06_19'\n",
    "Mainfolder = 'D:\\\\rat_movies_SC\\\\ar19test\\\\10_10_19\\\\videos'\n",
    "#text_files = [f for f in os.listdir(Mainfolder) if f.endswith('.avi') and not f.endswith('L.avi') and not f.endswith('R.avi') and not f.endswith('videopoints.avi') and not f.endswith('videopoints.avi')]\n",
    "text_files = [os.path.join(Mainfolder,f) for f in os.listdir(Mainfolder) if f.endswith('.mp4') and not f.endswith('L.avi') and not f.endswith('R.avi') and not f.endswith('videopoints.avi') and not f.endswith('videopoints.avi')]\n",
    "#text_files = [os.path.join(Mainfolder,f) for f in os.listdir(Mainfolder) if f.endswith('L.avi') and not f.endswith('R.avi') and not f.endswith('videopoints.avi') and not f.endswith('videopoints.avi')]\n",
    "#text_files = [os.path.join(Mainfolder,f) for f in os.listdir(Mainfolder) if f.endswith('R.avi') and not f.endswith('L.avi') and not f.endswith('videopoints.avi') and not f.endswith('videopoints.avi')]\n",
    "\n",
    "#video = ['D:\\\\movies_Rat_SC_project\\\\ar20\\\\06_19_19\\\\18-16-44.avi']\n",
    "#video = ['D:\\\\movies_Rat_SC_project\\\\ar20\\\\06_20_19\\\\15-51-42.avi','D:\\\\movies_Rat_SC_project\\\\ar20\\\\06_19_19\\\\18-16-44.avi']\n",
    "#video = ['D:\\\\movies_Rat_SC_project\\\\ar20\\\\06_20_19\\\\15-51-42.avi','D:\\\\movies_Rat_SC_project\\\\ar20\\\\06_19_19\\\\18-16-44.avi']\n",
    "\n",
    "#print(video)\n",
    "#video = ['F:\\\\ar2breathing\\\\10_18_19\\\\00-16-30video.mp4']\n",
    "print(text_files)\n",
    "#print(len(text_files))\n",
    "#print(path_config_file)\n",
    "\n",
    "#deeplabcut.analyze_videos(path_config_file,text_files[1:len(text_files)],shuffle=1, save_as_csv=True)\n",
    "#deeplabcut.analyze_videos(path_config_file,text_files[3],shuffle=1, save_as_csv=True)\n",
    "deeplabcut.analyze_videos(path_config_file,text_files,shuffle=1, save_as_csv=True)"
   ]
  },
  {
   "cell_type": "markdown",
   "metadata": {},
   "source": [
    "## Track non tracked files\n"
   ]
  },
  {
   "cell_type": "code",
   "execution_count": 11,
   "metadata": {},
   "outputs": [
    {
     "name": "stdout",
     "output_type": "stream",
     "text": [
      "Y:\\movies_Rat_SC_project\\ar2breathing\\10_06_19\\22-25-05.avi\n",
      "Using snapshot-20000 for model F:\\ar2breathing\\10_06_19\\ar2_10062019_ii-Fassihi-2019-10-07\\dlc-models\\iteration-1\\ar2_10062019_iiOct7-trainset95shuffle1\n",
      "INFO:tensorflow:Restoring parameters from F:\\ar2breathing\\10_06_19\\ar2_10062019_ii-Fassihi-2019-10-07\\dlc-models\\iteration-1\\ar2_10062019_iiOct7-trainset95shuffle1\\train\\snapshot-20000\n"
     ]
    },
    {
     "name": "stderr",
     "output_type": "stream",
     "text": [
      "INFO:tensorflow:Restoring parameters from F:\\ar2breathing\\10_06_19\\ar2_10062019_ii-Fassihi-2019-10-07\\dlc-models\\iteration-1\\ar2_10062019_iiOct7-trainset95shuffle1\\train\\snapshot-20000\n"
     ]
    },
    {
     "name": "stdout",
     "output_type": "stream",
     "text": [
      "The videos are analyzed. Now your research can truly start! \n",
      " You can create labeled videos with 'create_labeled_video'.\n",
      "If the tracking is not satisfactory for some videos, consider expanding the training set. You can use the function 'extract_outlier_frames' to extract any outlier frames!\n"
     ]
    }
   ],
   "source": [
    "# Track non tracked files \n",
    "import os\n",
    "path_config_file = 'F:\\\\ar2breathing\\\\10_06_19\\\\ar2_10062019_ii-Fassihi-2019-10-07\\\\config.yaml';\n",
    "\n",
    "Mainfolder = 'Y:\\\\movies_Rat_SC_project\\\\ar2breathing\\\\10_06_19'\n",
    "text_files = [os.path.join(Mainfolder,f) for f in os.listdir(Mainfolder) if f.endswith('.avi') and not f.endswith('L.avi') and not f.endswith('R.avi') and not f.endswith('videopoints.avi') and not f.endswith('breathing.avi')]\n",
    "text_files2 = [os.path.join(Mainfolder,f) for f in os.listdir(Mainfolder) if f.endswith('L.avi') ]\n",
    "#print(text_files)\n",
    "#%whos\n",
    "\n",
    "text_files3 = [f.replace(\"L.\", \".\") for f in text_files2 ]\n",
    "\n",
    "one_not_two = set(text_files) - set(text_files3)\n",
    "one_not_two = 'Y:\\\\movies_Rat_SC_project\\\\ar2breathing\\\\10_06_19\\\\22-25-05.avi'\n",
    "print(one_not_two)\n",
    "deeplabcut.analyze_videos(path_config_file,one_not_two,shuffle=1, save_as_csv=True)"
   ]
  },
  {
   "cell_type": "code",
   "execution_count": 3,
   "metadata": {},
   "outputs": [
    {
     "name": "stdout",
     "output_type": "stream",
     "text": [
      "['Y:\\\\movies_Rat_SC_project\\\\ar2breathing\\\\10_06_19\\\\23-09-06.avi', 'Y:\\\\movies_Rat_SC_project\\\\ar2breathing\\\\10_06_19\\\\22-05-13.avi', 'Y:\\\\movies_Rat_SC_project\\\\ar2breathing\\\\10_06_19\\\\22-43-04.avi', 'Y:\\\\movies_Rat_SC_project\\\\ar2breathing\\\\10_06_19\\\\22-57-55.avi', 'Y:\\\\movies_Rat_SC_project\\\\ar2breathing\\\\10_06_19\\\\22-07-45.avi', 'Y:\\\\movies_Rat_SC_project\\\\ar2breathing\\\\10_06_19\\\\22-00-32.avi', 'Y:\\\\movies_Rat_SC_project\\\\ar2breathing\\\\10_06_19\\\\22-32-53.avi', 'Y:\\\\movies_Rat_SC_project\\\\ar2breathing\\\\10_06_19\\\\21-57-55.avi']\n"
     ]
    }
   ],
   "source": [
    "print(text_files[2:10])"
   ]
  },
  {
   "cell_type": "code",
   "execution_count": null,
   "metadata": {},
   "outputs": [],
   "source": [
    "path_config_file = 'D:\\\\rat_movies_SC\\\\ar17record\\\\02_27_19\\\\sc_ar17record_02272019_3-Fassihi-2019-04-28\\\\config.yaml'\n",
    "video=['D:\\\\rat_movies_SC\\\\ar17\\\\02_25_19\\\\22-38-53.avi']\n",
    "deeplabcut.analyze_videos(path_config_file,video,shuffle=1, save_as_csv=True)"
   ]
  },
  {
   "cell_type": "code",
   "execution_count": null,
   "metadata": {},
   "outputs": [],
   "source": [
    "import numpy\n"
   ]
  },
  {
   "cell_type": "code",
   "execution_count": null,
   "metadata": {},
   "outputs": [],
   "source": [
    "import os\n",
    "Mainfolder = 'D:\\\\rat_movies_SC\\\\ar17\\\\02_25_19'\n",
    "f2 = os.listdir(Mainfolder)\n",
    "text_files = [Mainfolder+'\\\\'+f for f in os.listdir(Mainfolder) if f.endswith('.avi') and not f.endswith('L.avi') and not f.endswith('R.avi') and not f.endswith('videopoints.avi') and not f.endswith('videopoints.avi')]\n",
    "print(text_files)\n",
    "      "
   ]
  },
  {
   "cell_type": "markdown",
   "metadata": {
    "colab_type": "text",
    "id": "iGu_PdTWoEJr"
   },
   "source": [
    "## Extract outlier frames [This is important step actually]\n",
    "This is an optional step and is used only when the evaluation results are poor i.e. the labels are incorrectly predicted. In such a case, the user can use the following function to extract frames where the labels are incorrectly predicted. Make sure to provide the correct value of the \"iterations\" as it will be used to create the unique directory where the extracted frames will be saved."
   ]
  },
  {
   "cell_type": "code",
   "execution_count": 7,
   "metadata": {},
   "outputs": [
    {
     "name": "stdout",
     "output_type": "stream",
     "text": [
      "D:\\rat_movies_SC\\ar2breathing\\10_06_19\\ar19salin_10-06-19_LR-Arash-2020-01-24\\config.yaml\n",
      "network parameters: DeepCut_resnet50_ar19salin_10-06-19_LRJan24shuffle1_34000\n",
      "Method  uncertain  found  44  putative outlier frames.\n",
      "Do you want to proceed with extracting  20  of those?\n",
      "If this list is very large, perhaps consider changing the paramters (start, stop, p_bound, comparisonbodyparts) or use a different method.\n",
      "yes/noyes\n",
      "Loading video...\n",
      "Duration of video [s]:  4.175 , recorded @  200.0 fps!\n",
      "Overall # of frames:  835 with (cropped) frame dimensions: \n",
      "Kmeans-quantization based extracting of frames from 0.0  seconds to 4.17  seconds.\n",
      "Extracting and downsampling... 43  frames from the video.\n"
     ]
    },
    {
     "name": "stderr",
     "output_type": "stream",
     "text": [
      "43it [00:00, 634.02it/s]\n"
     ]
    },
    {
     "name": "stdout",
     "output_type": "stream",
     "text": [
      "Kmeans clustering ... (this might take a while)\n",
      "Let's select frames indices: [697, 7, 827, 800, 476, 687, 12, 473, 707, 820, 11, 826, 832, 830, 3, 702, 474, 690, 831, 1]\n",
      "Creating the symbolic link of the video\n",
      "AUTOMATIC ADDING OF VIDEO TO CONFIG FILE FAILED! You need to do this manually for including it in the config.yaml file!\n",
      "Videopath: D:\\rat_movies_SC\\ar2breathing\\10_06_19\\Right\\22-17-25R.avi Coordinates for cropping: None\n",
      "The outlier frames are extracted. They are stored in the subdirectory labeled-data\\22-17-25R.\n",
      "Once you extracted frames for all videos, use 'refine_labels' to manually correct the labels.\n"
     ]
    }
   ],
   "source": [
    "#video=['D:\\\\rat_movies_SC\\\\ar17record\\\\02_27_19\\\\analyzed\\\\18-37-27.avi']\n",
    "#video=['D:\\\\rat_movies_SC\\\\ar15record\\\\02_27_19\\\\17-33-50video.mp4']\n",
    "#video=['D:\\\\Dropbox\\\\ar17\\\\02_25_19\\\\22-37-23.avi']\n",
    "video = ['D:\\\\movies_Rat_SC_project\\\\ar1\\\\05_24_19\\\\11-09-14.avi']\n",
    "video = ['D:\\\\movies_Rat_SC_project\\\\ar20\\\\06_20_19\\\\17-19-45.avi','D:\\\\movies_Rat_SC_project\\\\ar20\\\\06_20_19\\\\17-31-05.avi','D:\\\\movies_Rat_SC_project\\\\ar20\\\\06_20_19\\\\17-30-40.avi']\n",
    "#15-17-08v\n",
    "video = ['D:\\\\rat_movies_SC\\\\ar19tear19salin\\\\10_08_19\\\\00-27-18.avi','D:\\\\rat_movies_SC\\\\ar19tear19salin\\\\10_08_19\\\\00-24-47.avi']\n",
    "video = ['D:\\\\rat_movies_SC\\\\ar19tear19salin\\\\10_08_19\\\\00-24-26video.mp4']\n",
    "video = ['D:\\\\rat_movies_SC\\\\ar2breathing\\\\10_06_19\\\\Right\\\\22-17-25R.avi']\n",
    "\n",
    "#path_config_file = 'D:\\\\rat_movies_SC\\\\ar17record\\\\02_27_19\\\\sc_ar17record_02272019_3-Fassihi-2019-04-28\\\\config.yaml'\n",
    "#path_config_file = 'D:\\\\rat_movies_SC\\\\ar15record\\\\02_27_19\\\\sc_ar15record_02272019-Fassihi-2019-03-12\\\\config.yaml'\n",
    "#path_config_file = 'D:\\\\movies_Rat_SC_project\\\\ar1\\\\05_24_19\\\\sc_aa1_05242019-Fassihi-2019-05-30\\\\config.yaml' #Enter the path of the config file that was just created from the above step (check the folder)\n",
    "#path_config_file = 'D:\\\\movies_Rat_SC_project\\\\ar3\\\\06_07_19\\\\sc_aa3_06072019-Fassihi-2019-06-10\\\\config.yaml' #Enter the path of the config file that was just created from the above step (check the folder)\n",
    "#path_config_file = 'D:\\\\movies_Rat_SC_project\\\\ar14\\\\06_18_19\\\\sc_ar14_06182019-Fassihi-2019-06-19\\\\config.yaml' #Enter the path of the config file that was just created from the above step (check the folder)\n",
    "print(path_config_file)\n",
    "\n",
    "#deeplabcut.extract_outlier_frames(path_config_file,video,outlieralgorithm='uncertain',p_bound=.6)\n",
    "#deeplabcut.extract_outlier_frames(path_config_file,video,outlieralgorithm='uncertain',comparisonbodyparts =  ['nose','snout'],p_bound=.6)\n",
    "deeplabcut.extract_outlier_frames(path_config_file,video,outlieralgorithm='uncertain',p_bound=.9)"
   ]
  },
  {
   "cell_type": "code",
   "execution_count": 12,
   "metadata": {},
   "outputs": [
    {
     "name": "stdout",
     "output_type": "stream",
     "text": [
      "D:\\movies_Rat_SC_project\\ar20\\06_20_19\\17-30-40avi\n"
     ]
    }
   ],
   "source": [
    "print(video[2])\n"
   ]
  },
  {
   "cell_type": "code",
   "execution_count": 4,
   "metadata": {
    "colab": {},
    "colab_type": "code",
    "id": "gkbaBOJVoEJs"
   },
   "outputs": [
    {
     "ename": "FileNotFoundError",
     "evalue": "[WinError 3] The system cannot find the path specified: 'D:\\\\rat_movies_SC\\\\ar19\\\\02_07_19'",
     "output_type": "error",
     "traceback": [
      "\u001b[1;31m---------------------------------------------------------------------------\u001b[0m",
      "\u001b[1;31mFileNotFoundError\u001b[0m                         Traceback (most recent call last)",
      "\u001b[1;32m<ipython-input-4-b91127c43abf>\u001b[0m in \u001b[0;36m<module>\u001b[1;34m()\u001b[0m\n\u001b[0;32m      6\u001b[0m \u001b[1;33m\u001b[0m\u001b[0m\n\u001b[0;32m      7\u001b[0m \u001b[1;33m\u001b[0m\u001b[0m\n\u001b[1;32m----> 8\u001b[1;33m \u001b[0mf\u001b[0m \u001b[1;33m=\u001b[0m \u001b[0mos\u001b[0m\u001b[1;33m.\u001b[0m\u001b[0mlistdir\u001b[0m\u001b[1;33m(\u001b[0m\u001b[0mMainfolder\u001b[0m\u001b[1;33m)\u001b[0m\u001b[1;33m\u001b[0m\u001b[1;33m\u001b[0m\u001b[0m\n\u001b[0m\u001b[0;32m      9\u001b[0m \u001b[0mtext_files\u001b[0m \u001b[1;33m=\u001b[0m \u001b[1;33m[\u001b[0m\u001b[0mf\u001b[0m \u001b[1;32mfor\u001b[0m \u001b[0mf\u001b[0m \u001b[1;32min\u001b[0m \u001b[0mos\u001b[0m\u001b[1;33m.\u001b[0m\u001b[0mlistdir\u001b[0m\u001b[1;33m(\u001b[0m\u001b[0mMainfolder\u001b[0m\u001b[1;33m)\u001b[0m \u001b[1;32mif\u001b[0m \u001b[0mf\u001b[0m\u001b[1;33m.\u001b[0m\u001b[0mendswith\u001b[0m\u001b[1;33m(\u001b[0m\u001b[1;34m'.avi'\u001b[0m\u001b[1;33m)\u001b[0m\u001b[1;33m]\u001b[0m\u001b[1;33m\u001b[0m\u001b[1;33m\u001b[0m\u001b[0m\n\u001b[0;32m     10\u001b[0m \u001b[1;33m\u001b[0m\u001b[0m\n",
      "\u001b[1;31mFileNotFoundError\u001b[0m: [WinError 3] The system cannot find the path specified: 'D:\\\\rat_movies_SC\\\\ar19\\\\02_07_19'"
     ]
    }
   ],
   "source": [
    "\n",
    "path_config_file = 'D:\\\\rat_movies_SC\\\\ar19\\\\02_07_19\\\\sc_ar19_02072019-Fassihi4-2019-02-13\\\\config.yaml' #Enter the path of the config file that was just created from the above step (check the folder)\n",
    "\n",
    "import os\n",
    "Mainfolder = 'D:\\\\rat_movies_SC\\\\ar19\\\\02_07_19'\n",
    "\n",
    "\n",
    "f = os.listdir(Mainfolder)\n",
    "text_files = [f for f in os.listdir(Mainfolder) if f.endswith('.avi')]\n",
    "\n",
    "\n",
    "my_list = text_files\n",
    "thisApen = Mainfolder+'kir'\n",
    "thisApen = thisApen.replace(\"kir\", \"\\\\\")\n",
    "string = thisApen\n",
    "my_new_list = [ string + x for x in my_list]\n",
    "\n",
    "deeplabcut.extract_outlier_frames(path_config_file,my_new_list)"
   ]
  },
  {
   "cell_type": "markdown",
   "metadata": {
    "colab_type": "text",
    "id": "8ib0uvhaoEJx"
   },
   "source": [
    "## Refine Labels [optional step]\n",
    "Following the extraction of outlier frames, the user can use the following function to move the predicted labels to the correct location. Thus augmenting the training dataset."
   ]
  },
  {
   "cell_type": "code",
   "execution_count": 8,
   "metadata": {
    "colab": {},
    "colab_type": "code",
    "id": "n_FpEXtyoEJy"
   },
   "outputs": [
    {
     "name": "stderr",
     "output_type": "stream",
     "text": [
      "ERROR:root:Cannot activate multiple GUI eventloops\n"
     ]
    },
    {
     "name": "stdout",
     "output_type": "stream",
     "text": [
      "Windows\n",
      "Checking labels if they are outside the image\n",
      "Windows\n"
     ]
    },
    {
     "ename": "RuntimeError",
     "evalue": "wrapped C/C++ object of type FileDialog has been deleted",
     "output_type": "error",
     "traceback": [
      "\u001b[1;31m---------------------------------------------------------------------------\u001b[0m",
      "\u001b[1;31mRuntimeError\u001b[0m                              Traceback (most recent call last)",
      "\u001b[1;32mC:\\Users\\Arash\\Anaconda3\\envs\\dlc-windowsGPU\\lib\\site-packages\\deeplabcut\\refine_training_dataset\\refinement.py\u001b[0m in \u001b[0;36msaveDataSet\u001b[1;34m(self, event)\u001b[0m\n\u001b[0;32m    575\u001b[0m             \u001b[1;31m# self.slider.Enable(False)\u001b[0m\u001b[1;33m\u001b[0m\u001b[1;33m\u001b[0m\u001b[1;33m\u001b[0m\u001b[0m\n\u001b[0;32m    576\u001b[0m             \u001b[1;31m# self.checkBox.Enable(False)\u001b[0m\u001b[1;33m\u001b[0m\u001b[1;33m\u001b[0m\u001b[1;33m\u001b[0m\u001b[0m\n\u001b[1;32m--> 577\u001b[1;33m             \u001b[0mMainFrame\u001b[0m\u001b[1;33m.\u001b[0m\u001b[0mbrowseDir\u001b[0m\u001b[1;33m(\u001b[0m\u001b[0mself\u001b[0m\u001b[1;33m,\u001b[0m \u001b[0mevent\u001b[0m\u001b[1;33m)\u001b[0m\u001b[1;33m\u001b[0m\u001b[1;33m\u001b[0m\u001b[0m\n\u001b[0m\u001b[0;32m    578\u001b[0m \u001b[1;33m\u001b[0m\u001b[0m\n\u001b[0;32m    579\u001b[0m \u001b[1;31m# ###########################################################################\u001b[0m\u001b[1;33m\u001b[0m\u001b[1;33m\u001b[0m\u001b[1;33m\u001b[0m\u001b[0m\n",
      "\u001b[1;32mC:\\Users\\Arash\\Anaconda3\\envs\\dlc-windowsGPU\\lib\\site-packages\\deeplabcut\\refine_training_dataset\\refinement.py\u001b[0m in \u001b[0;36mbrowseDir\u001b[1;34m(self, event)\u001b[0m\n\u001b[0;32m    335\u001b[0m             \u001b[0mdlg\u001b[0m\u001b[1;33m.\u001b[0m\u001b[0mDestroy\u001b[0m\u001b[1;33m(\u001b[0m\u001b[1;33m)\u001b[0m\u001b[1;33m\u001b[0m\u001b[1;33m\u001b[0m\u001b[0m\n\u001b[0;32m    336\u001b[0m             \u001b[0mself\u001b[0m\u001b[1;33m.\u001b[0m\u001b[0mDestroy\u001b[0m\u001b[1;33m(\u001b[0m\u001b[1;33m)\u001b[0m\u001b[1;33m\u001b[0m\u001b[1;33m\u001b[0m\u001b[0m\n\u001b[1;32m--> 337\u001b[1;33m         \u001b[0mdlg\u001b[0m\u001b[1;33m.\u001b[0m\u001b[0mDestroy\u001b[0m\u001b[1;33m(\u001b[0m\u001b[1;33m)\u001b[0m\u001b[1;33m\u001b[0m\u001b[1;33m\u001b[0m\u001b[0m\n\u001b[0m\u001b[0;32m    338\u001b[0m \u001b[1;33m\u001b[0m\u001b[0m\n\u001b[0;32m    339\u001b[0m         \u001b[1;32mtry\u001b[0m\u001b[1;33m:\u001b[0m\u001b[1;33m\u001b[0m\u001b[1;33m\u001b[0m\u001b[0m\n",
      "\u001b[1;31mRuntimeError\u001b[0m: wrapped C/C++ object of type FileDialog has been deleted"
     ]
    }
   ],
   "source": [
    "#path_config_file = 'D:\\\\movies_Rat_SC_project\\\\ar1\\\\05_24_19\\\\sc_aa1_05242019-Fassihi-2019-05-30\\\\config.yaml' #Enter the path of the config file that was just created from the above step (check the folder)\n",
    "#path_config_file = 'D:\\\\movies_Rat_SC_project\\\\ar3\\\\06_07_19\\\\sc_aa3_06072019-Fassihi-2019-06-10\\\\config.yaml' #Enter the path of the config file that was just created from the above step (check the folder)\n",
    "\n",
    "#import matplotlib\n",
    "#print(matplotlib.__version__)\n",
    "%gui wx\n",
    "#path_config_file = 'D:\\\\rat_movies_SC\\\\ar15record\\\\02_27_19\\\\sc_ar15record_02272019-Fassihi-2019-03-12\\\\config.yaml'\n",
    "#print(path_config_file)\n",
    "deeplabcut.refine_labels(path_config_file)"
   ]
  },
  {
   "cell_type": "code",
   "execution_count": 8,
   "metadata": {
    "colab": {},
    "colab_type": "code",
    "id": "CHzstWr8oEJ2"
   },
   "outputs": [
    {
     "name": "stdout",
     "output_type": "stream",
     "text": [
      "Merged data sets and updated refinement iteration to 1.\n",
      "Now you can create a new training set for the expanded annotated images (use create_training_dataset).\n"
     ]
    }
   ],
   "source": [
    "#Once all folders are relabeled, check them and advance. See how to check labels, above!\n",
    "#path_config_file = 'D:\\\\movies_Rat_SC_project\\\\ar1\\\\05_24_19\\\\sc_aa1_05242019-Fassihi-2019-05-30\\\\config.yaml' #Enter the path of the config file that was just created from the above step (check the folder)\n",
    "#path_config_file = 'D:\\\\movies_Rat_SC_project\\\\ar3\\\\06_07_19\\\\sc_aa3_06072019-Fassihi-2019-06-10\\\\config.yaml' #Enter the path of the config file that was just created from the above step (check the folder)\n",
    "\n",
    "deeplabcut.merge_datasets(path_config_file)"
   ]
  },
  {
   "cell_type": "markdown",
   "metadata": {
    "colab_type": "text",
    "id": "QCHj7qyboEJ6"
   },
   "source": [
    "## Create a new iteration of training dataset [optional step]\n",
    "Following the refine labels, append these frames to the original dataset to create a new iteration of training dataset."
   ]
  },
  {
   "cell_type": "code",
   "execution_count": 9,
   "metadata": {
    "colab": {},
    "colab_type": "code",
    "id": "ytQoxIldoEJ7"
   },
   "outputs": [
    {
     "name": "stdout",
     "output_type": "stream",
     "text": [
      "[0, 1]\n",
      "The training dataset is successfully created. Use the function 'train_network' to start training. Happy training!\n",
      "The training dataset is successfully created. Use the function 'train_network' to start training. Happy training!\n"
     ]
    }
   ],
   "source": [
    "list_of_ints = list(range(2))\n",
    "print(list_of_ints)\n",
    "deeplabcut.create_training_dataset(path_config_file,Shuffles= list_of_ints) ;"
   ]
  },
  {
   "cell_type": "markdown",
   "metadata": {
    "colab_type": "text",
    "id": "pCrUvQIvoEKD"
   },
   "source": [
    "## Create labeled video\n",
    "This funtion is for visualiztion purpose and can be used to create a video in .mp4 format with labels predicted by the network. This video is saved in the same directory where the original video resides. "
   ]
  },
  {
   "cell_type": "code",
   "execution_count": 9,
   "metadata": {
    "colab": {},
    "colab_type": "code",
    "id": "6aDF7Q7KoEKE",
    "scrolled": true
   },
   "outputs": [
    {
     "name": "stdout",
     "output_type": "stream",
     "text": [
      "D:\\rat_movies_SC\\ar2breathing\\10_06_19\\ar19salin_10-06-19_LR-Arash-2020-01-24\\config.yaml\n",
      "Starting %  D:\\rat_movies_SC\\ar2breathing\\10_06_19\\Right ['D:\\\\rat_movies_SC\\\\ar2breathing\\\\10_06_19\\\\Right\\\\22-17-49R.avi']\n",
      "Loading  D:\\rat_movies_SC\\ar2breathing\\10_06_19\\Right\\22-17-49R.avi and data.\n",
      "False 0 202 0 181\n",
      "562\n",
      "Duration of video [s]:  2.81 , recorded with  200.0 fps!\n",
      "Overall # of frames:  562 with cropped frame dimensions:  202 181\n",
      "Generating frames and creating video.\n"
     ]
    },
    {
     "name": "stderr",
     "output_type": "stream",
     "text": [
      "100%|████████████████████████████████████████████████████████████████████████████████| 562/562 [02:39<00:00,  2.67it/s]\n"
     ]
    },
    {
     "name": "stdout",
     "output_type": "stream",
     "text": [
      "All labeled frames were created, now generating video...\n"
     ]
    }
   ],
   "source": [
    "print(path_config_file)\n",
    "videofile  = ['D:\\\\rat_movies_SC\\\\ar19tear19salin\\\\10_08_19\\\\00-24-02.avi','D:\\\\rat_movies_SC\\\\ar19tear19salin\\\\10_08_19\\\\00-24-47.avi']\n",
    "videofile = ['F:\\\\ar2breathing\\\\10_18_19\\\\00-16-30video.mp4']\n",
    "videofile = ['F:\\\\ar2breathing\\\\10_18_19\\\\00-16-30video.mp4']\n",
    "videofile = ['D:\\\\rat_movies_SC\\\\ar2breathing\\\\10_06_19\\\\Right\\\\22-17-49R.avi']\n",
    "\n",
    "deeplabcut.create_labeled_video(path_config_file,videofile,save_frames=True) # my_new_list was created in prevouse cell as all videos in the folder \n",
    "#deeplabcut.create_labeled_video(path_config_file,text_files,save_frames=True) # my_new_list was created in prevouse cell as all videos in the folder "
   ]
  },
  {
   "cell_type": "markdown",
   "metadata": {
    "colab_type": "text",
    "id": "8GTiuJESoEKH"
   },
   "source": [
    "## Plot the trajectories of the analyzed videos (optional)\n",
    "This function plots the trajectories of all the body parts across the entire video. Each body part is identified by a unique color."
   ]
  },
  {
   "cell_type": "code",
   "execution_count": null,
   "metadata": {
    "colab": {},
    "colab_type": "code",
    "id": "gX21zZbXoEKJ"
   },
   "outputs": [],
   "source": [
    "%matplotlib notebook #for making interactive plots.\n",
    "deeplabcut.plot_trajectories(path_config_file,my_new_list)\n",
    "\n"
   ]
  }
 ],
 "metadata": {
  "accelerator": "GPU",
  "colab": {
   "name": "Demo-yourowndata.ipynb",
   "provenance": [],
   "version": "0.3.2"
  },
  "kernelspec": {
   "display_name": "Python 3",
   "language": "python",
   "name": "python3"
  },
  "language_info": {
   "codemirror_mode": {
    "name": "ipython",
    "version": 3
   },
   "file_extension": ".py",
   "mimetype": "text/x-python",
   "name": "python",
   "nbconvert_exporter": "python",
   "pygments_lexer": "ipython3",
   "version": "3.6.8"
  },
  "varInspector": {
   "cols": {
    "lenName": 16,
    "lenType": 16,
    "lenVar": 40
   },
   "kernels_config": {
    "python": {
     "delete_cmd_postfix": "",
     "delete_cmd_prefix": "del ",
     "library": "var_list.py",
     "varRefreshCmd": "print(var_dic_list())"
    },
    "r": {
     "delete_cmd_postfix": ") ",
     "delete_cmd_prefix": "rm(",
     "library": "var_list.r",
     "varRefreshCmd": "cat(var_dic_list()) "
    }
   },
   "types_to_exclude": [
    "module",
    "function",
    "builtin_function_or_method",
    "instance",
    "_Feature"
   ],
   "window_display": false
  }
 },
 "nbformat": 4,
 "nbformat_minor": 1
}
