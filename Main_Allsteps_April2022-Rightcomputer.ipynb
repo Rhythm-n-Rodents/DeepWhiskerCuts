{
 "cells": [
  {
   "cell_type": "code",
   "execution_count": 2,
   "metadata": {
    "scrolled": true
   },
   "outputs": [
    {
     "name": "stdout",
     "output_type": "stream",
     "text": [
      "0\n"
     ]
    }
   ],
   "source": [
    "import numpy as np\n",
    "import os\n",
    "import top_view_spliter\n",
    "import deeplabcut\n",
    "data_path = '/net/dk-server/afassihizakeri/movies_Rat_SC_project/ar2muscimol500nl500igmar13muscimolleft5ul500nl'\n",
    "top_view_spliter.split_left_and_right_from_top_video(data_path)"
   ]
  },
  {
   "cell_type": "markdown",
   "metadata": {},
   "source": [
    "# now apply DLC already trained data on whiskers "
   ]
  },
  {
   "cell_type": "code",
   "execution_count": null,
   "metadata": {},
   "outputs": [
    {
     "name": "stdout",
     "output_type": "stream",
     "text": [
      "Using snapshot-632000 for model F:\\videos\\Ar30motor\\2021_08_03_184113\\ar30shiwker-Arash-2021-09-13\\dlc-models\\iteration-0\\ar30shiwkerSep13-trainset95shuffle1\n",
      "Initializing ResNet\n"
     ]
    }
   ],
   "source": [
    "#data_path = 'F:\\\\videos\\\\ar34motor\\\\2022_01_27'\n",
    "import os\n",
    "import image_util\n",
    "path_config_file = 'F:\\\\videos\\\\Ar30motor\\\\2021_08_03_184113\\\\ar30shiwker-Arash-2021-09-13\\\\config.yaml'\n",
    "path_config_file = 'R:\\\\afassihizakeri\\\\DLC\\\\WhiskerMuscimol-xx-2022-10-10\\\\config.yaml'\n",
    "\n",
    "XfilesL = [os.path.join(data_path,f) for f in os.listdir(data_path) if f.startswith('Mask')  ] # find all files with R.avi as file name\n",
    "XfilesR = [os.path.join(data_path,f) for f in os.listdir(data_path) if f.startswith('Mirror')  ] # find all files with R.avi as file name\n",
    "scorernameL=deeplabcut.analyze_videos(path_config_file,XfilesL,shuffle=1, save_as_csv=True)\n",
    "deeplabcut.filterpredictions(path_config_file,XfilesL,shuffle=1)\n",
    "scorernameR=deeplabcut.analyze_videos(path_config_file,XfilesR,shuffle=1, save_as_csv=True)\n",
    "deeplabcut.filterpredictions(path_config_file,XfilesR,shuffle=1)"
   ]
  },
  {
   "cell_type": "markdown",
   "metadata": {},
   "source": [
    "# copy tracked files into the server (with mp4 movies)"
   ]
  },
  {
   "cell_type": "code",
   "execution_count": null,
   "metadata": {},
   "outputs": [],
   "source": [
    "data_path = 'F:\\\\videos\\\\ar32motor\\\\2021_08_02'\n",
    "destination='//dk-server.dk.ucsd.edu/afassihizakeri/SC_Movies/ar32motor/2021_08_02/Side'\n",
    "import shutil\n",
    "shutil.copytree( data_path,destination, ignore=shutil.ignore_patterns('*.avi'),copy_function = shutil.copy)"
   ]
  }
 ],
 "metadata": {
  "kernelspec": {
   "display_name": "Python 3.8.10 64-bit",
   "language": "python",
   "name": "python3"
  },
  "language_info": {
   "codemirror_mode": {
    "name": "ipython",
    "version": 3
   },
   "file_extension": ".py",
   "mimetype": "text/x-python",
   "name": "python",
   "nbconvert_exporter": "python",
   "pygments_lexer": "ipython3",
   "version": "3.8.10"
  },
  "vscode": {
   "interpreter": {
    "hash": "31f2aee4e71d21fbe5cf8b01ff0e069b9275f58929596ceb00d14d90e3e16cd6"
   }
  }
 },
 "nbformat": 4,
 "nbformat_minor": 2
}
