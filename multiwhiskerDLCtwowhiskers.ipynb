{
 "cells": [
  {
   "cell_type": "markdown",
   "metadata": {
    "colab_type": "text",
    "id": "RK255E7YoEIt"
   },
   "source": [
    "# Arash SC create a project for head position\n",
    "\n",
    "\n",
    "\n",
    "This notebook demonstrates the necessary steps to use python and DeepLabCut for creating and analysins videos from orientation \n",
    "experiment \n",
    "\n",
    "This notebook illustrates how to:\n",
    " \n",
    "- make a movie from images \n",
    "- create a project\n",
    "- extract training frames\n",
    "- label the frames\n",
    "- plot the labeled images (optional)\n",
    "- create a training set\n",
    "- train a network\n",
    "- evaluate a network\n",
    "- analyze a novel video\n",
    "- create an automatically labeled video (optional)\n",
    "- Go to Matlab \n",
    "\n"
   ]
  },
  {
   "cell_type": "markdown",
   "metadata": {
    "colab_type": "text",
    "id": "9Uoz9mdPoEIy"
   },
   "source": [
    "## Create a new project\n",
    "\n",
    "It is always good idea to keep the projects seperate. This function creates a new project with subdirectories and a basic configuration file in the user defined directory otherwise the project is created in the current working directory.\n",
    "\n",
    "You can always add new videos to the project at any stage of the project. "
   ]
  },
  {
   "cell_type": "code",
   "execution_count": null,
   "metadata": {
    "colab": {},
    "colab_type": "code",
    "id": "jqLZhp7EoEI0"
   },
   "outputs": [],
   "source": [
    "import deeplabcut\n",
    "## https://github.com/AlexEMG/DeepLabCut"
   ]
  },
  {
   "cell_type": "code",
   "execution_count": null,
   "metadata": {
    "colab": {},
    "colab_type": "code",
    "id": "c9DjG55FoEI7",
    "scrolled": true
   },
   "outputs": [],
   "source": [
    "task='ar32_07_06_20LR_R' # Enter the name of your experiment Task\n",
    "task='ar33_11_24_20whiskers' # \n",
    "experimenter='Arash' # Enter the name of the experimenter\n",
    "Mainfolder =  'D:\\\\videos\\\\ar33\\\\2020_11_24\\\\'; # Enter the name of the folder with images folders inside \n",
    "filenames = ['Mirror50R.avi','Mirror51R.avi','Mirror52R.avi','Mask50L.avi','Mask51L.avi','Mask52L.avi']; # Enter the name of the files you want to train\n",
    "#filenames = ['6L.avi']; # Enter the name of the files you want to train\n",
    "video = [str(Mainfolder)+str(f) for f in filenames]; # add path to each file\n",
    "print(video)\n",
    "#deeplabcut.create_new_project(task,experimenter,video, working_directory=Mainfolder,copy_videos=False) #change the working directory to where you want the folders created.\n",
    "deeplabcut.create_new_project(task,experimenter, video,working_directory=Mainfolder,copy_videos=True, multianimal=False)\n",
    "#deeplabcut.create_new_project(task,experimenter, video,copy_videos=True)"
   ]
  },
  {
   "cell_type": "markdown",
   "metadata": {
    "colab_type": "text",
    "id": "0yXW0bx1oEJA"
   },
   "source": [
    "## Extract frames from videos \n",
    "A key point for a successful feature detector is to select diverse frames, which are typical for the behavior you study that should be labeled.\n",
    "\n",
    "This function selects N frames either uniformly sampled from a particular video (or folder) (algo=='uniform'). Note: this might not yield diverse frames, if the behavior is sparsely distributed (consider using kmeans), and/or select frames manually etc.\n",
    "\n",
    "Also make sure to get select data from different (behavioral) sessions and different animals if those vary substantially (to train an invariant feature detector).\n",
    "\n",
    "Individual images should not be too big (i.e. < 850 x 850 pixel). Although this can be taken care of later as well, it is advisable to crop the frames, to remove unnecessary parts of the frame as much as possible.\n",
    "\n",
    "Always check the output of cropping. If you are happy with the results proceed to labeling."
   ]
  },
  {
   "cell_type": "markdown",
   "metadata": {},
   "source": [
    "## define the config path and load deeplabcut\n"
   ]
  },
  {
   "cell_type": "code",
   "execution_count": null,
   "metadata": {},
   "outputs": [],
   "source": [
    "# write the Path config file path\n",
    "path_config_file = 'E:\\\\movies\\\\ar2breathing\\\\10_08_19\\\\ar2breathing_10_08_19LR_R-Arash-2020-04-30\\\\config.yaml';\n",
    "path_config_file = 'D:\\\\videos\\\\ar21\\\\2020-07-06\\\\ar21_07_06_20Face2-Arash-2020-07-07\\\\config.yaml';\n",
    "path_config_file = 'D:\\\\Dropbox\\\\Notebook\\\\ar21_08_06_20Face4-Arash-2020-07-15\\\\config.yaml';\n",
    "path_config_file = 'D:\\\\videos\\\\ar21\\\\2020_07_08\\\\ar21_08_06_20LR_L_M7-Arash-2020-07-22\\\\config.yaml';\n",
    "path_config_file = 'D:\\\\videos\\\\ar21\\\\2020_07_08\\\\ar21_08_06_20LR_LandR_M8-Arash-2020-07-28\\\\config.yaml';\n",
    "path_config_file = 'D:\\\\videos\\\\ar21\\\\2020_07_08\\\\ar21_08_06_20LR_LandR_twopoints-Arash-2020-07-29\\\\config.yaml';\n",
    "path_config_file = 'D:\\\\videos\\\\ar32\\\\2020_10_09\\\\ar32_10_09_20LRwhiskers_4-Arash-2020-10-12\\\\config.yaml';\n",
    "#path_config_file = 'D:\\\\videos\\\\ar19\\\\2020_10_12\\\\ar19_10_12_20LR_whisker-Arash-2020-10-14\\\\config.yaml';\n",
    "path_config_file = 'D:\\\\videos\\\\ar30\\\\2020_11_04\\\\ar30_11_05_20whiskers-Arash-2020-11-08\\\\config.yaml'\n",
    "#D:\\videos\\ar32\\2020_10_09\\ar32_10_09_20LRwhiskers_4-Arash-2020-10-12\n",
    "path_config_file = 'D:\\\\videos\\\\ar33\\\\2020_11_24\\\\ar33_11_24_20whiskers-Arash-2020-12-05\\\\config.yaml'"
   ]
  },
  {
   "cell_type": "code",
   "execution_count": null,
   "metadata": {},
   "outputs": [],
   "source": [
    "Mainfolder =  'D:\\\\videos\\\\ar21\\\\2020_07_08\\\\'; # Enter the name of the folder with images folders inside \n",
    "filenames = ['20L.avi','21L.avi']; # Enter the name of the files you want to train\n",
    "#filenames = ['6L.avi']; # Enter the name of the files you want to train\n",
    "video = [str(Mainfolder)+str(f) for f in filenames]; # add path to each file\n",
    "deeplabcut.add_new_videos(path_config_file, video, copy_videos=True)\n"
   ]
  },
  {
   "cell_type": "code",
   "execution_count": null,
   "metadata": {
    "colab": {},
    "colab_type": "code",
    "id": "t1ulumCuoEJC"
   },
   "outputs": [],
   "source": [
    "%matplotlib inline\n",
    "\n",
    "#Enter the path of the config file that was just created from the above step (check the folder)\n",
    "deeplabcut.extract_frames(path_config_file,'automatic','uniform',crop=False) #there are other ways to grab frames, such as by clustering 'kmeans'; please see the paper. \n",
    "#deeplabcut.extract_frames(path_config_file,'automatic','uniform',crop=True, checkcropping=True) #there are other ways to grab frames, such as by clustering 'kmeans'; please see the paper. \n",
    "#You can change the cropping to false, then delete the checkcropping part!"
   ]
  },
  {
   "cell_type": "markdown",
   "metadata": {
    "colab_type": "text",
    "id": "Gjn6ZDonoEJH"
   },
   "source": [
    "## Label the extracted frames\n",
    "Only videos in the config file can be used to extract the frames. Extracted labels for each video are stored in the project directory under the subdirectory **'labeled-data'**. Each subdirectory is named after the name of the video. The toolbox has a labeling toolbox which could be used for labeling. "
   ]
  },
  {
   "cell_type": "code",
   "execution_count": null,
   "metadata": {
    "colab": {},
    "colab_type": "code",
    "id": "iyROSOiEoEJI",
    "scrolled": false
   },
   "outputs": [],
   "source": [
    "\n",
    "deeplabcut.label_frames(path_config_file)"
   ]
  },
  {
   "cell_type": "markdown",
   "metadata": {
    "colab_type": "text",
    "id": "vim95ZvkPSeN"
   },
   "source": [
    "**Check the labels**\n",
    "\n",
    "Checking if the labels were created and stored correctly is beneficial for training, since labeling is one of the most critical parts for creating the training dataset. The DeepLabCut toolbox provides a function `check\\_labels'  to do so. It is used as follows:"
   ]
  },
  {
   "cell_type": "code",
   "execution_count": null,
   "metadata": {
    "colab": {},
    "colab_type": "code",
    "id": "NwvgPJouPP2O"
   },
   "outputs": [],
   "source": [
    "\n",
    "deeplabcut.check_labels(path_config_file) #this creates a subdirectory with the frames + your labels"
   ]
  },
  {
   "cell_type": "markdown",
   "metadata": {},
   "source": [
    "## Reminder: Build your skeleton connections before you create a training set!\n"
   ]
  },
  {
   "cell_type": "code",
   "execution_count": null,
   "metadata": {},
   "outputs": [],
   "source": [
    "deeplabcut.SkeletonBuilder(path_config_file)"
   ]
  },
  {
   "cell_type": "markdown",
   "metadata": {
    "colab_type": "text",
    "id": "of87fOjgPqzH"
   },
   "source": [
    "If the labels need adjusted, you can use the refinement GUI to move them around! Check that out below."
   ]
  },
  {
   "cell_type": "markdown",
   "metadata": {
    "colab_type": "text",
    "id": "xNi9s1dboEJN"
   },
   "source": [
    "## Create a training dataset\n",
    "This function generates the training data information for DeepCut (which requires a mat file) based on the pandas dataframes that hold label information. The user can set the fraction of the training set size (from all labeled image in the hd5 file) in the config.yaml file. While creating the dataset, the user can create multiple shuffles. \n",
    "\n",
    "After running this script the training dataset is created and saved in the project directory under the subdirectory **'training-datasets'**\n",
    "\n",
    "This function also creates new subdirectories under **dlc-models** and appends the project config.yaml file with the correct path to the training and testing pose configuration file. These files hold the parameters for training the network. Such an example file is provided with the toolbox and named as **pose_cfg.yaml**.\n",
    "\n",
    "Now it is the time to start training the network!"
   ]
  },
  {
   "cell_type": "code",
   "execution_count": null,
   "metadata": {
    "colab": {},
    "colab_type": "code",
    "id": "eMeUwgxPoEJP",
    "scrolled": true
   },
   "outputs": [],
   "source": [
    "deeplabcut.create_training_model_comparison(path_config_file, num_shuffles=1, net_types=['resnet_50'], augmenter_types=['default', 'imgaug'] )\n"
   ]
  },
  {
   "cell_type": "code",
   "execution_count": null,
   "metadata": {},
   "outputs": [],
   "source": [
    "#deeplabcut.create_training_dataset(path_config_file)\n",
    "deeplabcut.create_training_dataset(path_config_file, augmenter_type='imgaug')"
   ]
  },
  {
   "cell_type": "code",
   "execution_count": null,
   "metadata": {},
   "outputs": [],
   "source": [
    "    deeplabcut.create_multianimaltraining_dataset(path_config_file, num_shuffles=1)\n"
   ]
  },
  {
   "cell_type": "markdown",
   "metadata": {
    "colab_type": "text",
    "id": "c4FczXGDoEJU"
   },
   "source": [
    "## Start training  \n",
    "### If yu want to use your GPU, you need to exit here and either work from the Docker container, your own TensorFlow installation in an Anaconda env\n",
    "\n",
    "This function trains the network for a specific shuffle of the training dataset. "
   ]
  },
  {
   "cell_type": "code",
   "execution_count": null,
   "metadata": {
    "colab": {},
    "colab_type": "code",
    "id": "_pOvDq_2oEJW",
    "scrolled": false
   },
   "outputs": [],
   "source": [
    "deeplabcut.train_network(path_config_file,shuffle=1,displayiters=1000,saveiters=1000)"
   ]
  },
  {
   "cell_type": "markdown",
   "metadata": {
    "colab_type": "text",
    "id": "xZygsb2DoEJc"
   },
   "source": [
    "## Start evaluating\n",
    "This funtion evaluates a trained model for a specific shuffle/shuffles at a particular state or all the states on the data set (images)\n",
    "and stores the results as .csv file in a subdirectory under **evaluation-results**"
   ]
  },
  {
   "cell_type": "code",
   "execution_count": null,
   "metadata": {
    "colab": {},
    "colab_type": "code",
    "id": "nv4zlbrnoEJg",
    "scrolled": false
   },
   "outputs": [],
   "source": [
    "deeplabcut.evaluate_network(path_config_file,Shuffles=[1], plotting=False)"
   ]
  },
  {
   "cell_type": "code",
   "execution_count": null,
   "metadata": {},
   "outputs": [],
   "source": [
    "deeplabcut.cropimagesandlabels(path_config_file)"
   ]
  },
  {
   "cell_type": "markdown",
   "metadata": {},
   "source": [
    "# maDeepLabCut [CRITICAL POINT]:\n",
    "\n",
    "You need to cross validate parameters before inference. Here, you will run the new function:"
   ]
  },
  {
   "cell_type": "code",
   "execution_count": null,
   "metadata": {},
   "outputs": [],
   "source": [
    "deeplabcut.evaluate_multianimal_crossvalidate(path_config_file, Shuffles=[1], edgewisecondition=True, leastbpts=1, init_points=20, n_iter=50)"
   ]
  },
  {
   "cell_type": "markdown",
   "metadata": {},
   "source": [
    "# save maps(optional)"
   ]
  },
  {
   "cell_type": "code",
   "execution_count": null,
   "metadata": {},
   "outputs": [],
   "source": [
    "deeplabcut.extract_save_all_maps(path_config_file, shuffle=[1], Indices=[0, 5])"
   ]
  },
  {
   "cell_type": "markdown",
   "metadata": {
    "colab_type": "text",
    "id": "OVFLSKKfoEJk"
   },
   "source": [
    "## Start Analyzing videos\n",
    "This function analyzes the new video. The user can choose the best model from the evaluation results and specify the correct snapshot index for the variable **snapshotindex** in the **config.yaml** file. Otherwise, by default the most recent snapshot is used to analyse the video.\n",
    "\n",
    "The results are stored in hd5 file in the same directory where the video resides. \n",
    "for R videos use L config file but mirror R videos the scrips to create mirror file is called: **inverseL_Rwhiskermovies**\n"
   ]
  },
  {
   "cell_type": "code",
   "execution_count": 7,
   "metadata": {},
   "outputs": [
    {
     "name": "stdout",
     "output_type": "stream",
     "text": [
      "['D:\\\\videos\\\\ar33\\\\2020_11_24\\\\Mask10L.avi', 'D:\\\\videos\\\\ar33\\\\2020_11_24\\\\Mask11L.avi', 'D:\\\\videos\\\\ar33\\\\2020_11_24\\\\Mask12L.avi', 'D:\\\\videos\\\\ar33\\\\2020_11_24\\\\Mask13L.avi', 'D:\\\\videos\\\\ar33\\\\2020_11_24\\\\Mask14L.avi', 'D:\\\\videos\\\\ar33\\\\2020_11_24\\\\Mask15L.avi', 'D:\\\\videos\\\\ar33\\\\2020_11_24\\\\Mask16L.avi', 'D:\\\\videos\\\\ar33\\\\2020_11_24\\\\Mask17L.avi', 'D:\\\\videos\\\\ar33\\\\2020_11_24\\\\Mask18L.avi', 'D:\\\\videos\\\\ar33\\\\2020_11_24\\\\Mask19L.avi', 'D:\\\\videos\\\\ar33\\\\2020_11_24\\\\Mask1L.avi', 'D:\\\\videos\\\\ar33\\\\2020_11_24\\\\Mask20L.avi', 'D:\\\\videos\\\\ar33\\\\2020_11_24\\\\Mask21L.avi', 'D:\\\\videos\\\\ar33\\\\2020_11_24\\\\Mask22L.avi', 'D:\\\\videos\\\\ar33\\\\2020_11_24\\\\Mask23L.avi', 'D:\\\\videos\\\\ar33\\\\2020_11_24\\\\Mask24L.avi', 'D:\\\\videos\\\\ar33\\\\2020_11_24\\\\Mask25L.avi', 'D:\\\\videos\\\\ar33\\\\2020_11_24\\\\Mask26L.avi', 'D:\\\\videos\\\\ar33\\\\2020_11_24\\\\Mask27L.avi', 'D:\\\\videos\\\\ar33\\\\2020_11_24\\\\Mask28L.avi', 'D:\\\\videos\\\\ar33\\\\2020_11_24\\\\Mask29L.avi', 'D:\\\\videos\\\\ar33\\\\2020_11_24\\\\Mask2L.avi', 'D:\\\\videos\\\\ar33\\\\2020_11_24\\\\Mask30L.avi', 'D:\\\\videos\\\\ar33\\\\2020_11_24\\\\Mask31L.avi', 'D:\\\\videos\\\\ar33\\\\2020_11_24\\\\Mask32L.avi', 'D:\\\\videos\\\\ar33\\\\2020_11_24\\\\Mask33L.avi', 'D:\\\\videos\\\\ar33\\\\2020_11_24\\\\Mask34L.avi', 'D:\\\\videos\\\\ar33\\\\2020_11_24\\\\Mask35L.avi', 'D:\\\\videos\\\\ar33\\\\2020_11_24\\\\Mask36L.avi', 'D:\\\\videos\\\\ar33\\\\2020_11_24\\\\Mask37L.avi', 'D:\\\\videos\\\\ar33\\\\2020_11_24\\\\Mask38L.avi', 'D:\\\\videos\\\\ar33\\\\2020_11_24\\\\Mask39L.avi', 'D:\\\\videos\\\\ar33\\\\2020_11_24\\\\Mask3L.avi', 'D:\\\\videos\\\\ar33\\\\2020_11_24\\\\Mask40L.avi', 'D:\\\\videos\\\\ar33\\\\2020_11_24\\\\Mask41L.avi', 'D:\\\\videos\\\\ar33\\\\2020_11_24\\\\Mask42L.avi', 'D:\\\\videos\\\\ar33\\\\2020_11_24\\\\Mask43L.avi', 'D:\\\\videos\\\\ar33\\\\2020_11_24\\\\Mask44L.avi', 'D:\\\\videos\\\\ar33\\\\2020_11_24\\\\Mask45L.avi', 'D:\\\\videos\\\\ar33\\\\2020_11_24\\\\Mask46L.avi', 'D:\\\\videos\\\\ar33\\\\2020_11_24\\\\Mask47L.avi', 'D:\\\\videos\\\\ar33\\\\2020_11_24\\\\Mask48L.avi', 'D:\\\\videos\\\\ar33\\\\2020_11_24\\\\Mask49L.avi', 'D:\\\\videos\\\\ar33\\\\2020_11_24\\\\Mask4L.avi', 'D:\\\\videos\\\\ar33\\\\2020_11_24\\\\Mask50L.avi', 'D:\\\\videos\\\\ar33\\\\2020_11_24\\\\Mask51L.avi', 'D:\\\\videos\\\\ar33\\\\2020_11_24\\\\Mask52L.avi', 'D:\\\\videos\\\\ar33\\\\2020_11_24\\\\Mask53L.avi', 'D:\\\\videos\\\\ar33\\\\2020_11_24\\\\Mask54L.avi', 'D:\\\\videos\\\\ar33\\\\2020_11_24\\\\Mask55L.avi', 'D:\\\\videos\\\\ar33\\\\2020_11_24\\\\Mask56L.avi', 'D:\\\\videos\\\\ar33\\\\2020_11_24\\\\Mask57L.avi', 'D:\\\\videos\\\\ar33\\\\2020_11_24\\\\Mask58L.avi', 'D:\\\\videos\\\\ar33\\\\2020_11_24\\\\Mask59L.avi', 'D:\\\\videos\\\\ar33\\\\2020_11_24\\\\Mask60L.avi', 'D:\\\\videos\\\\ar33\\\\2020_11_24\\\\Mask61L.avi', 'D:\\\\videos\\\\ar33\\\\2020_11_24\\\\Mask62L.avi', 'D:\\\\videos\\\\ar33\\\\2020_11_24\\\\Mask63L.avi', 'D:\\\\videos\\\\ar33\\\\2020_11_24\\\\Mask64L.avi', 'D:\\\\videos\\\\ar33\\\\2020_11_24\\\\Mask65L.avi', 'D:\\\\videos\\\\ar33\\\\2020_11_24\\\\Mask66L.avi', 'D:\\\\videos\\\\ar33\\\\2020_11_24\\\\Mask67L.avi', 'D:\\\\videos\\\\ar33\\\\2020_11_24\\\\Mask68L.avi', 'D:\\\\videos\\\\ar33\\\\2020_11_24\\\\Mask69L.avi', 'D:\\\\videos\\\\ar33\\\\2020_11_24\\\\Mask6L.avi', 'D:\\\\videos\\\\ar33\\\\2020_11_24\\\\Mask70L.avi', 'D:\\\\videos\\\\ar33\\\\2020_11_24\\\\Mask71L.avi', 'D:\\\\videos\\\\ar33\\\\2020_11_24\\\\Mask72L.avi', 'D:\\\\videos\\\\ar33\\\\2020_11_24\\\\Mask73L.avi', 'D:\\\\videos\\\\ar33\\\\2020_11_24\\\\Mask74L.avi', 'D:\\\\videos\\\\ar33\\\\2020_11_24\\\\Mask75L.avi', 'D:\\\\videos\\\\ar33\\\\2020_11_24\\\\Mask76L.avi', 'D:\\\\videos\\\\ar33\\\\2020_11_24\\\\Mask7L.avi', 'D:\\\\videos\\\\ar33\\\\2020_11_24\\\\Mask8L.avi', 'D:\\\\videos\\\\ar33\\\\2020_11_24\\\\Mask9L.avi']\n",
      "Using snapshot-747000 for model D:\\videos\\ar33\\2020_11_24\\ar33_11_24_20whiskers-Arash-2020-12-05\\dlc-models\\iteration-0\\ar33_11_24_20whiskersDec5-trainset95shuffle1\n",
      "Initializing ResNet\n",
      "Starting to analyze %  D:\\videos\\ar33\\2020_11_24\\Mirror10R.avi\n",
      "D:\\videos\\ar33\\2020_11_24  already exists!\n",
      "Loading  D:\\videos\\ar33\\2020_11_24\\Mirror10R.avi\n",
      "Duration of video [s]:  12.45 , recorded with  40.0 fps!\n",
      "Overall # of frames:  498  found with (before cropping) frame dimensions:  252 300\n",
      "Starting to extract posture\n"
     ]
    },
    {
     "name": "stderr",
     "output_type": "stream",
     "text": [
      " 96%|████████████████████████████████████████████████████████████████████████████▏  | 480/498 [00:04<00:00, 191.99it/s]"
     ]
    },
    {
     "name": "stdout",
     "output_type": "stream",
     "text": [
      "Detected frames:  498\n"
     ]
    },
    {
     "name": "stderr",
     "output_type": "stream",
     "text": [
      "500it [00:04, 102.87it/s]                                                                                              \n"
     ]
    },
    {
     "name": "stdout",
     "output_type": "stream",
     "text": [
      "Saving results in D:\\videos\\ar33\\2020_11_24...\n",
      "Saving csv poses!\n",
      "Starting to analyze %  D:\\videos\\ar33\\2020_11_24\\Mirror11R.avi\n",
      "D:\\videos\\ar33\\2020_11_24  already exists!\n",
      "Loading  D:\\videos\\ar33\\2020_11_24\\Mirror11R.avi\n",
      "Duration of video [s]:  12.45 , recorded with  40.0 fps!\n",
      "Overall # of frames:  498  found with (before cropping) frame dimensions:  252 300\n",
      "Starting to extract posture\n"
     ]
    },
    {
     "name": "stderr",
     "output_type": "stream",
     "text": [
      " 98%|█████████████████████████████████████████████████████████████████████████████▋ | 490/498 [00:02<00:00, 176.11it/s]"
     ]
    },
    {
     "name": "stdout",
     "output_type": "stream",
     "text": [
      "Detected frames:  498\n"
     ]
    },
    {
     "name": "stderr",
     "output_type": "stream",
     "text": [
      "500it [00:02, 190.55it/s]                                                                                              \n"
     ]
    },
    {
     "name": "stdout",
     "output_type": "stream",
     "text": [
      "Saving results in D:\\videos\\ar33\\2020_11_24...\n",
      "Saving csv poses!\n",
      "Starting to analyze %  D:\\videos\\ar33\\2020_11_24\\Mirror12R.avi\n",
      "D:\\videos\\ar33\\2020_11_24  already exists!\n",
      "Loading  D:\\videos\\ar33\\2020_11_24\\Mirror12R.avi\n",
      "Duration of video [s]:  12.45 , recorded with  40.0 fps!\n",
      "Overall # of frames:  498  found with (before cropping) frame dimensions:  252 300\n",
      "Starting to extract posture\n"
     ]
    },
    {
     "name": "stderr",
     "output_type": "stream",
     "text": [
      " 96%|████████████████████████████████████████████████████████████████████████████▏  | 480/498 [00:02<00:00, 205.67it/s]"
     ]
    },
    {
     "name": "stdout",
     "output_type": "stream",
     "text": [
      "Detected frames:  498\n"
     ]
    },
    {
     "name": "stderr",
     "output_type": "stream",
     "text": [
      "500it [00:02, 195.00it/s]                                                                                              \n"
     ]
    },
    {
     "name": "stdout",
     "output_type": "stream",
     "text": [
      "Saving results in D:\\videos\\ar33\\2020_11_24...\n",
      "Saving csv poses!\n",
      "Starting to analyze %  D:\\videos\\ar33\\2020_11_24\\Mirror13R.avi\n",
      "D:\\videos\\ar33\\2020_11_24  already exists!\n",
      "Loading  D:\\videos\\ar33\\2020_11_24\\Mirror13R.avi\n",
      "Duration of video [s]:  12.45 , recorded with  40.0 fps!\n",
      "Overall # of frames:  498  found with (before cropping) frame dimensions:  252 300\n",
      "Starting to extract posture\n"
     ]
    },
    {
     "name": "stderr",
     "output_type": "stream",
     "text": [
      " 96%|████████████████████████████████████████████████████████████████████████████▏  | 480/498 [00:02<00:00, 208.14it/s]"
     ]
    },
    {
     "name": "stdout",
     "output_type": "stream",
     "text": [
      "Detected frames:  498\n"
     ]
    },
    {
     "name": "stderr",
     "output_type": "stream",
     "text": [
      "500it [00:02, 193.56it/s]                                                                                              \n"
     ]
    },
    {
     "name": "stdout",
     "output_type": "stream",
     "text": [
      "Saving results in D:\\videos\\ar33\\2020_11_24...\n",
      "Saving csv poses!\n",
      "Starting to analyze %  D:\\videos\\ar33\\2020_11_24\\Mirror14R.avi\n",
      "D:\\videos\\ar33\\2020_11_24  already exists!\n",
      "Loading  D:\\videos\\ar33\\2020_11_24\\Mirror14R.avi\n",
      "Duration of video [s]:  12.45 , recorded with  40.0 fps!\n",
      "Overall # of frames:  498  found with (before cropping) frame dimensions:  252 300\n",
      "Starting to extract posture\n"
     ]
    },
    {
     "name": "stderr",
     "output_type": "stream",
     "text": [
      "500it [00:02, 195.51it/s]                                                                                              "
     ]
    },
    {
     "name": "stdout",
     "output_type": "stream",
     "text": [
      "Detected frames:  498\n"
     ]
    },
    {
     "name": "stderr",
     "output_type": "stream",
     "text": [
      "500it [00:02, 192.29it/s]\n"
     ]
    },
    {
     "name": "stdout",
     "output_type": "stream",
     "text": [
      "Saving results in D:\\videos\\ar33\\2020_11_24...\n",
      "Saving csv poses!\n",
      "Starting to analyze %  D:\\videos\\ar33\\2020_11_24\\Mirror15R.avi\n",
      "D:\\videos\\ar33\\2020_11_24  already exists!\n",
      "Loading  D:\\videos\\ar33\\2020_11_24\\Mirror15R.avi\n",
      "Duration of video [s]:  12.45 , recorded with  40.0 fps!\n",
      "Overall # of frames:  498  found with (before cropping) frame dimensions:  252 300\n",
      "Starting to extract posture\n"
     ]
    },
    {
     "name": "stderr",
     "output_type": "stream",
     "text": [
      " 98%|█████████████████████████████████████████████████████████████████████████████▋ | 490/498 [00:02<00:00, 195.68it/s]"
     ]
    },
    {
     "name": "stdout",
     "output_type": "stream",
     "text": [
      "Detected frames:  498\n"
     ]
    },
    {
     "name": "stderr",
     "output_type": "stream",
     "text": [
      "500it [00:02, 199.74it/s]                                                                                              \n"
     ]
    },
    {
     "name": "stdout",
     "output_type": "stream",
     "text": [
      "Saving results in D:\\videos\\ar33\\2020_11_24...\n",
      "Saving csv poses!\n",
      "Starting to analyze %  D:\\videos\\ar33\\2020_11_24\\Mirror16R.avi\n",
      "D:\\videos\\ar33\\2020_11_24  already exists!\n",
      "Loading  D:\\videos\\ar33\\2020_11_24\\Mirror16R.avi\n",
      "Duration of video [s]:  12.45 , recorded with  40.0 fps!\n",
      "Overall # of frames:  498  found with (before cropping) frame dimensions:  252 300\n",
      "Starting to extract posture\n"
     ]
    },
    {
     "name": "stderr",
     "output_type": "stream",
     "text": [
      " 98%|█████████████████████████████████████████████████████████████████████████████▋ | 490/498 [00:02<00:00, 195.93it/s]"
     ]
    },
    {
     "name": "stdout",
     "output_type": "stream",
     "text": [
      "Detected frames:  498\n"
     ]
    },
    {
     "name": "stderr",
     "output_type": "stream",
     "text": [
      "500it [00:02, 198.24it/s]                                                                                              \n"
     ]
    },
    {
     "name": "stdout",
     "output_type": "stream",
     "text": [
      "Saving results in D:\\videos\\ar33\\2020_11_24...\n",
      "Saving csv poses!\n",
      "Starting to analyze %  D:\\videos\\ar33\\2020_11_24\\Mirror17R.avi\n",
      "D:\\videos\\ar33\\2020_11_24  already exists!\n",
      "Loading  D:\\videos\\ar33\\2020_11_24\\Mirror17R.avi\n",
      "Duration of video [s]:  12.45 , recorded with  40.0 fps!\n",
      "Overall # of frames:  498  found with (before cropping) frame dimensions:  252 300\n",
      "Starting to extract posture\n"
     ]
    },
    {
     "name": "stderr",
     "output_type": "stream",
     "text": [
      " 96%|████████████████████████████████████████████████████████████████████████████▏  | 480/498 [00:02<00:00, 207.20it/s]"
     ]
    },
    {
     "name": "stdout",
     "output_type": "stream",
     "text": [
      "Detected frames:  498\n"
     ]
    },
    {
     "name": "stderr",
     "output_type": "stream",
     "text": [
      "500it [00:02, 197.69it/s]                                                                                              \n"
     ]
    },
    {
     "name": "stdout",
     "output_type": "stream",
     "text": [
      "Saving results in D:\\videos\\ar33\\2020_11_24...\n",
      "Saving csv poses!\n",
      "Starting to analyze %  D:\\videos\\ar33\\2020_11_24\\Mirror18R.avi\n",
      "D:\\videos\\ar33\\2020_11_24  already exists!\n",
      "Loading  D:\\videos\\ar33\\2020_11_24\\Mirror18R.avi\n",
      "Duration of video [s]:  12.45 , recorded with  40.0 fps!\n",
      "Overall # of frames:  498  found with (before cropping) frame dimensions:  252 300\n",
      "Starting to extract posture\n"
     ]
    },
    {
     "name": "stderr",
     "output_type": "stream",
     "text": [
      " 98%|█████████████████████████████████████████████████████████████████████████████▋ | 490/498 [00:02<00:00, 186.14it/s]"
     ]
    },
    {
     "name": "stdout",
     "output_type": "stream",
     "text": [
      "Detected frames:  498\n"
     ]
    },
    {
     "name": "stderr",
     "output_type": "stream",
     "text": [
      "500it [00:02, 195.68it/s]                                                                                              \n"
     ]
    },
    {
     "name": "stdout",
     "output_type": "stream",
     "text": [
      "Saving results in D:\\videos\\ar33\\2020_11_24...\n",
      "Saving csv poses!\n",
      "Starting to analyze %  D:\\videos\\ar33\\2020_11_24\\Mirror19R.avi\n",
      "D:\\videos\\ar33\\2020_11_24  already exists!\n",
      "Loading  D:\\videos\\ar33\\2020_11_24\\Mirror19R.avi\n",
      "Duration of video [s]:  12.45 , recorded with  40.0 fps!\n",
      "Overall # of frames:  498  found with (before cropping) frame dimensions:  252 300\n",
      "Starting to extract posture\n"
     ]
    },
    {
     "name": "stderr",
     "output_type": "stream",
     "text": [
      " 98%|█████████████████████████████████████████████████████████████████████████████▋ | 490/498 [00:02<00:00, 194.47it/s]"
     ]
    },
    {
     "name": "stdout",
     "output_type": "stream",
     "text": [
      "Detected frames:  498\n"
     ]
    },
    {
     "name": "stderr",
     "output_type": "stream",
     "text": [
      "500it [00:02, 197.61it/s]                                                                                              \n"
     ]
    },
    {
     "name": "stdout",
     "output_type": "stream",
     "text": [
      "Saving results in D:\\videos\\ar33\\2020_11_24...\n",
      "Saving csv poses!\n",
      "Starting to analyze %  D:\\videos\\ar33\\2020_11_24\\Mirror1R.avi\n",
      "D:\\videos\\ar33\\2020_11_24  already exists!\n",
      "Loading  D:\\videos\\ar33\\2020_11_24\\Mirror1R.avi\n",
      "Duration of video [s]:  12.45 , recorded with  40.0 fps!\n",
      "Overall # of frames:  498  found with (before cropping) frame dimensions:  252 300\n",
      "Starting to extract posture\n"
     ]
    },
    {
     "name": "stderr",
     "output_type": "stream",
     "text": [
      " 98%|█████████████████████████████████████████████████████████████████████████████▋ | 490/498 [00:02<00:00, 186.20it/s]"
     ]
    },
    {
     "name": "stdout",
     "output_type": "stream",
     "text": [
      "Detected frames:  498\n"
     ]
    },
    {
     "name": "stderr",
     "output_type": "stream",
     "text": [
      "500it [00:02, 195.22it/s]                                                                                              \n"
     ]
    },
    {
     "name": "stdout",
     "output_type": "stream",
     "text": [
      "Saving results in D:\\videos\\ar33\\2020_11_24...\n",
      "Saving csv poses!\n",
      "Starting to analyze %  D:\\videos\\ar33\\2020_11_24\\Mirror20R.avi\n",
      "D:\\videos\\ar33\\2020_11_24  already exists!\n",
      "Loading  D:\\videos\\ar33\\2020_11_24\\Mirror20R.avi\n",
      "Duration of video [s]:  12.45 , recorded with  40.0 fps!\n",
      "Overall # of frames:  498  found with (before cropping) frame dimensions:  252 300\n",
      "Starting to extract posture\n"
     ]
    },
    {
     "name": "stderr",
     "output_type": "stream",
     "text": [
      " 96%|████████████████████████████████████████████████████████████████████████████▏  | 480/498 [00:02<00:00, 205.18it/s]"
     ]
    },
    {
     "name": "stdout",
     "output_type": "stream",
     "text": [
      "Detected frames:  498\n"
     ]
    },
    {
     "name": "stderr",
     "output_type": "stream",
     "text": [
      "500it [00:02, 195.60it/s]                                                                                              \n"
     ]
    },
    {
     "name": "stdout",
     "output_type": "stream",
     "text": [
      "Saving results in D:\\videos\\ar33\\2020_11_24...\n",
      "Saving csv poses!\n",
      "Starting to analyze %  D:\\videos\\ar33\\2020_11_24\\Mirror21R.avi\n",
      "D:\\videos\\ar33\\2020_11_24  already exists!\n",
      "Loading  D:\\videos\\ar33\\2020_11_24\\Mirror21R.avi\n",
      "Duration of video [s]:  12.45 , recorded with  40.0 fps!\n",
      "Overall # of frames:  498  found with (before cropping) frame dimensions:  252 300\n",
      "Starting to extract posture\n"
     ]
    },
    {
     "name": "stderr",
     "output_type": "stream",
     "text": [
      " 98%|█████████████████████████████████████████████████████████████████████████████▋ | 490/498 [00:02<00:00, 186.03it/s]"
     ]
    },
    {
     "name": "stdout",
     "output_type": "stream",
     "text": [
      "Detected frames:  498\n"
     ]
    },
    {
     "name": "stderr",
     "output_type": "stream",
     "text": [
      "500it [00:02, 194.47it/s]                                                                                              \n"
     ]
    },
    {
     "name": "stdout",
     "output_type": "stream",
     "text": [
      "Saving results in D:\\videos\\ar33\\2020_11_24...\n",
      "Saving csv poses!\n",
      "Starting to analyze %  D:\\videos\\ar33\\2020_11_24\\Mirror22R.avi\n",
      "D:\\videos\\ar33\\2020_11_24  already exists!\n",
      "Loading  D:\\videos\\ar33\\2020_11_24\\Mirror22R.avi\n",
      "Duration of video [s]:  12.45 , recorded with  40.0 fps!\n",
      "Overall # of frames:  498  found with (before cropping) frame dimensions:  252 300\n",
      "Starting to extract posture\n"
     ]
    },
    {
     "name": "stderr",
     "output_type": "stream",
     "text": [
      "500it [00:02, 194.56it/s]                                                                                              "
     ]
    },
    {
     "name": "stdout",
     "output_type": "stream",
     "text": [
      "Detected frames:  498\n"
     ]
    },
    {
     "name": "stderr",
     "output_type": "stream",
     "text": [
      "500it [00:02, 195.03it/s]\n"
     ]
    },
    {
     "name": "stdout",
     "output_type": "stream",
     "text": [
      "Saving results in D:\\videos\\ar33\\2020_11_24...\n",
      "Saving csv poses!\n",
      "Starting to analyze %  D:\\videos\\ar33\\2020_11_24\\Mirror23R.avi\n",
      "D:\\videos\\ar33\\2020_11_24  already exists!\n",
      "Loading  D:\\videos\\ar33\\2020_11_24\\Mirror23R.avi\n",
      "Duration of video [s]:  12.45 , recorded with  40.0 fps!\n",
      "Overall # of frames:  498  found with (before cropping) frame dimensions:  252 300\n",
      "Starting to extract posture\n"
     ]
    },
    {
     "name": "stderr",
     "output_type": "stream",
     "text": [
      " 98%|█████████████████████████████████████████████████████████████████████████████▋ | 490/498 [00:02<00:00, 182.36it/s]"
     ]
    },
    {
     "name": "stdout",
     "output_type": "stream",
     "text": [
      "Detected frames:  498\n"
     ]
    },
    {
     "name": "stderr",
     "output_type": "stream",
     "text": [
      "500it [00:02, 192.72it/s]                                                                                              \n"
     ]
    },
    {
     "name": "stdout",
     "output_type": "stream",
     "text": [
      "Saving results in D:\\videos\\ar33\\2020_11_24...\n",
      "Saving csv poses!\n",
      "Starting to analyze %  D:\\videos\\ar33\\2020_11_24\\Mirror24R.avi\n",
      "D:\\videos\\ar33\\2020_11_24  already exists!\n",
      "Loading  D:\\videos\\ar33\\2020_11_24\\Mirror24R.avi\n",
      "Duration of video [s]:  12.45 , recorded with  40.0 fps!\n",
      "Overall # of frames:  498  found with (before cropping) frame dimensions:  252 300\n",
      "Starting to extract posture\n"
     ]
    },
    {
     "name": "stderr",
     "output_type": "stream",
     "text": [
      " 96%|████████████████████████████████████████████████████████████████████████████▏  | 480/498 [00:02<00:00, 202.13it/s]"
     ]
    },
    {
     "name": "stdout",
     "output_type": "stream",
     "text": [
      "Detected frames:  498\n"
     ]
    },
    {
     "name": "stderr",
     "output_type": "stream",
     "text": [
      "500it [00:02, 195.15it/s]                                                                                              \n"
     ]
    },
    {
     "name": "stdout",
     "output_type": "stream",
     "text": [
      "Saving results in D:\\videos\\ar33\\2020_11_24...\n",
      "Saving csv poses!\n",
      "Starting to analyze %  D:\\videos\\ar33\\2020_11_24\\Mirror25R.avi\n",
      "D:\\videos\\ar33\\2020_11_24  already exists!\n",
      "Loading  D:\\videos\\ar33\\2020_11_24\\Mirror25R.avi\n",
      "Duration of video [s]:  12.45 , recorded with  40.0 fps!\n",
      "Overall # of frames:  498  found with (before cropping) frame dimensions:  252 300\n",
      "Starting to extract posture\n"
     ]
    },
    {
     "name": "stderr",
     "output_type": "stream",
     "text": [
      " 98%|█████████████████████████████████████████████████████████████████████████████▋ | 490/498 [00:02<00:00, 184.21it/s]"
     ]
    },
    {
     "name": "stdout",
     "output_type": "stream",
     "text": [
      "Detected frames:  498\n"
     ]
    },
    {
     "name": "stderr",
     "output_type": "stream",
     "text": [
      "500it [00:02, 192.95it/s]                                                                                              \n"
     ]
    },
    {
     "name": "stdout",
     "output_type": "stream",
     "text": [
      "Saving results in D:\\videos\\ar33\\2020_11_24...\n",
      "Saving csv poses!\n",
      "Starting to analyze %  D:\\videos\\ar33\\2020_11_24\\Mirror26R.avi\n",
      "D:\\videos\\ar33\\2020_11_24  already exists!\n",
      "Loading  D:\\videos\\ar33\\2020_11_24\\Mirror26R.avi\n",
      "Duration of video [s]:  12.45 , recorded with  40.0 fps!\n",
      "Overall # of frames:  498  found with (before cropping) frame dimensions:  252 300\n",
      "Starting to extract posture\n"
     ]
    },
    {
     "name": "stderr",
     "output_type": "stream",
     "text": [
      " 98%|█████████████████████████████████████████████████████████████████████████████▋ | 490/498 [00:02<00:00, 183.11it/s]"
     ]
    },
    {
     "name": "stdout",
     "output_type": "stream",
     "text": [
      "Detected frames:  498\n"
     ]
    },
    {
     "name": "stderr",
     "output_type": "stream",
     "text": [
      "500it [00:02, 193.56it/s]                                                                                              \n"
     ]
    },
    {
     "name": "stdout",
     "output_type": "stream",
     "text": [
      "Saving results in D:\\videos\\ar33\\2020_11_24...\n",
      "Saving csv poses!\n",
      "Starting to analyze %  D:\\videos\\ar33\\2020_11_24\\Mirror27R.avi\n",
      "D:\\videos\\ar33\\2020_11_24  already exists!\n",
      "Loading  D:\\videos\\ar33\\2020_11_24\\Mirror27R.avi\n",
      "Duration of video [s]:  12.45 , recorded with  40.0 fps!\n",
      "Overall # of frames:  498  found with (before cropping) frame dimensions:  252 300\n",
      "Starting to extract posture\n"
     ]
    },
    {
     "name": "stderr",
     "output_type": "stream",
     "text": [
      " 98%|█████████████████████████████████████████████████████████████████████████████▋ | 490/498 [00:02<00:00, 182.74it/s]"
     ]
    },
    {
     "name": "stdout",
     "output_type": "stream",
     "text": [
      "Detected frames:  498\n"
     ]
    },
    {
     "name": "stderr",
     "output_type": "stream",
     "text": [
      "500it [00:02, 191.66it/s]                                                                                              \n"
     ]
    },
    {
     "name": "stdout",
     "output_type": "stream",
     "text": [
      "Saving results in D:\\videos\\ar33\\2020_11_24...\n",
      "Saving csv poses!\n",
      "Starting to analyze %  D:\\videos\\ar33\\2020_11_24\\Mirror28R.avi\n",
      "D:\\videos\\ar33\\2020_11_24  already exists!\n",
      "Loading  D:\\videos\\ar33\\2020_11_24\\Mirror28R.avi\n",
      "Duration of video [s]:  12.45 , recorded with  40.0 fps!\n",
      "Overall # of frames:  498  found with (before cropping) frame dimensions:  252 300\n",
      "Starting to extract posture\n"
     ]
    },
    {
     "name": "stderr",
     "output_type": "stream",
     "text": [
      " 98%|█████████████████████████████████████████████████████████████████████████████▋ | 490/498 [00:02<00:00, 182.73it/s]"
     ]
    },
    {
     "name": "stdout",
     "output_type": "stream",
     "text": [
      "Detected frames:  498\n"
     ]
    },
    {
     "name": "stderr",
     "output_type": "stream",
     "text": [
      "500it [00:02, 193.55it/s]                                                                                              \n"
     ]
    },
    {
     "name": "stdout",
     "output_type": "stream",
     "text": [
      "Saving results in D:\\videos\\ar33\\2020_11_24...\n",
      "Saving csv poses!\n",
      "Starting to analyze %  D:\\videos\\ar33\\2020_11_24\\Mirror29R.avi\n",
      "D:\\videos\\ar33\\2020_11_24  already exists!\n",
      "Loading  D:\\videos\\ar33\\2020_11_24\\Mirror29R.avi\n",
      "Duration of video [s]:  12.45 , recorded with  40.0 fps!\n",
      "Overall # of frames:  498  found with (before cropping) frame dimensions:  252 300\n",
      "Starting to extract posture\n"
     ]
    },
    {
     "name": "stderr",
     "output_type": "stream",
     "text": [
      " 98%|█████████████████████████████████████████████████████████████████████████████▋ | 490/498 [00:02<00:00, 182.78it/s]"
     ]
    },
    {
     "name": "stdout",
     "output_type": "stream",
     "text": [
      "Detected frames:  498\n"
     ]
    },
    {
     "name": "stderr",
     "output_type": "stream",
     "text": [
      "500it [00:02, 191.49it/s]                                                                                              \n"
     ]
    },
    {
     "name": "stdout",
     "output_type": "stream",
     "text": [
      "Saving results in D:\\videos\\ar33\\2020_11_24...\n",
      "Saving csv poses!\n",
      "Starting to analyze %  D:\\videos\\ar33\\2020_11_24\\Mirror2R.avi\n",
      "D:\\videos\\ar33\\2020_11_24  already exists!\n",
      "Loading  D:\\videos\\ar33\\2020_11_24\\Mirror2R.avi\n",
      "Duration of video [s]:  12.45 , recorded with  40.0 fps!\n",
      "Overall # of frames:  498  found with (before cropping) frame dimensions:  252 300\n",
      "Starting to extract posture\n"
     ]
    },
    {
     "name": "stderr",
     "output_type": "stream",
     "text": [
      " 98%|█████████████████████████████████████████████████████████████████████████████▋ | 490/498 [00:02<00:00, 182.70it/s]"
     ]
    },
    {
     "name": "stdout",
     "output_type": "stream",
     "text": [
      "Detected frames:  498\n"
     ]
    },
    {
     "name": "stderr",
     "output_type": "stream",
     "text": [
      "500it [00:02, 191.70it/s]                                                                                              \n"
     ]
    },
    {
     "name": "stdout",
     "output_type": "stream",
     "text": [
      "Saving results in D:\\videos\\ar33\\2020_11_24...\n",
      "Saving csv poses!\n",
      "Starting to analyze %  D:\\videos\\ar33\\2020_11_24\\Mirror30R.avi\n",
      "D:\\videos\\ar33\\2020_11_24  already exists!\n",
      "Loading  D:\\videos\\ar33\\2020_11_24\\Mirror30R.avi\n",
      "Duration of video [s]:  12.45 , recorded with  40.0 fps!\n",
      "Overall # of frames:  498  found with (before cropping) frame dimensions:  252 300\n",
      "Starting to extract posture\n"
     ]
    },
    {
     "name": "stderr",
     "output_type": "stream",
     "text": [
      " 98%|█████████████████████████████████████████████████████████████████████████████▋ | 490/498 [00:02<00:00, 182.65it/s]"
     ]
    },
    {
     "name": "stdout",
     "output_type": "stream",
     "text": [
      "Detected frames:  498\n"
     ]
    },
    {
     "name": "stderr",
     "output_type": "stream",
     "text": [
      "500it [00:02, 191.86it/s]                                                                                              \n"
     ]
    },
    {
     "name": "stdout",
     "output_type": "stream",
     "text": [
      "Saving results in D:\\videos\\ar33\\2020_11_24...\n",
      "Saving csv poses!\n",
      "Starting to analyze %  D:\\videos\\ar33\\2020_11_24\\Mirror31R.avi\n",
      "D:\\videos\\ar33\\2020_11_24  already exists!\n",
      "Loading  D:\\videos\\ar33\\2020_11_24\\Mirror31R.avi\n",
      "Duration of video [s]:  12.45 , recorded with  40.0 fps!\n",
      "Overall # of frames:  498  found with (before cropping) frame dimensions:  252 300\n",
      "Starting to extract posture\n"
     ]
    },
    {
     "name": "stderr",
     "output_type": "stream",
     "text": [
      " 98%|█████████████████████████████████████████████████████████████████████████████▋ | 490/498 [00:02<00:00, 183.03it/s]"
     ]
    },
    {
     "name": "stdout",
     "output_type": "stream",
     "text": [
      "Detected frames:  498\n"
     ]
    },
    {
     "name": "stderr",
     "output_type": "stream",
     "text": [
      "500it [00:02, 192.26it/s]                                                                                              \n"
     ]
    },
    {
     "name": "stdout",
     "output_type": "stream",
     "text": [
      "Saving results in D:\\videos\\ar33\\2020_11_24...\n",
      "Saving csv poses!\n",
      "Starting to analyze %  D:\\videos\\ar33\\2020_11_24\\Mirror32R.avi\n",
      "D:\\videos\\ar33\\2020_11_24  already exists!\n",
      "Loading  D:\\videos\\ar33\\2020_11_24\\Mirror32R.avi\n",
      "Duration of video [s]:  12.45 , recorded with  40.0 fps!\n",
      "Overall # of frames:  498  found with (before cropping) frame dimensions:  252 300\n",
      "Starting to extract posture\n"
     ]
    },
    {
     "name": "stderr",
     "output_type": "stream",
     "text": [
      " 98%|█████████████████████████████████████████████████████████████████████████████▋ | 490/498 [00:02<00:00, 182.43it/s]"
     ]
    },
    {
     "name": "stdout",
     "output_type": "stream",
     "text": [
      "Detected frames:  498\n"
     ]
    },
    {
     "name": "stderr",
     "output_type": "stream",
     "text": [
      "500it [00:02, 191.64it/s]                                                                                              \n"
     ]
    },
    {
     "name": "stdout",
     "output_type": "stream",
     "text": [
      "Saving results in D:\\videos\\ar33\\2020_11_24...\n",
      "Saving csv poses!\n",
      "Starting to analyze %  D:\\videos\\ar33\\2020_11_24\\Mirror33R.avi\n",
      "D:\\videos\\ar33\\2020_11_24  already exists!\n",
      "Loading  D:\\videos\\ar33\\2020_11_24\\Mirror33R.avi\n",
      "Duration of video [s]:  12.45 , recorded with  40.0 fps!\n",
      "Overall # of frames:  498  found with (before cropping) frame dimensions:  252 300\n",
      "Starting to extract posture\n"
     ]
    },
    {
     "name": "stderr",
     "output_type": "stream",
     "text": [
      " 98%|█████████████████████████████████████████████████████████████████████████████▋ | 490/498 [00:02<00:00, 182.46it/s]"
     ]
    },
    {
     "name": "stdout",
     "output_type": "stream",
     "text": [
      "Detected frames:  498\n"
     ]
    },
    {
     "name": "stderr",
     "output_type": "stream",
     "text": [
      "500it [00:02, 191.64it/s]                                                                                              \n"
     ]
    },
    {
     "name": "stdout",
     "output_type": "stream",
     "text": [
      "Saving results in D:\\videos\\ar33\\2020_11_24...\n",
      "Saving csv poses!\n",
      "Starting to analyze %  D:\\videos\\ar33\\2020_11_24\\Mirror34R.avi\n",
      "D:\\videos\\ar33\\2020_11_24  already exists!\n",
      "Loading  D:\\videos\\ar33\\2020_11_24\\Mirror34R.avi\n",
      "Duration of video [s]:  12.45 , recorded with  40.0 fps!\n",
      "Overall # of frames:  498  found with (before cropping) frame dimensions:  252 300\n",
      "Starting to extract posture\n"
     ]
    },
    {
     "name": "stderr",
     "output_type": "stream",
     "text": [
      " 98%|█████████████████████████████████████████████████████████████████████████████▋ | 490/498 [00:02<00:00, 182.00it/s]"
     ]
    },
    {
     "name": "stdout",
     "output_type": "stream",
     "text": [
      "Detected frames:  498\n"
     ]
    },
    {
     "name": "stderr",
     "output_type": "stream",
     "text": [
      "500it [00:02, 191.49it/s]                                                                                              \n"
     ]
    },
    {
     "name": "stdout",
     "output_type": "stream",
     "text": [
      "Saving results in D:\\videos\\ar33\\2020_11_24...\n",
      "Saving csv poses!\n",
      "Starting to analyze %  D:\\videos\\ar33\\2020_11_24\\Mirror35R.avi\n",
      "D:\\videos\\ar33\\2020_11_24  already exists!\n",
      "Loading  D:\\videos\\ar33\\2020_11_24\\Mirror35R.avi\n",
      "Duration of video [s]:  12.45 , recorded with  40.0 fps!\n",
      "Overall # of frames:  498  found with (before cropping) frame dimensions:  252 300\n",
      "Starting to extract posture\n"
     ]
    },
    {
     "name": "stderr",
     "output_type": "stream",
     "text": [
      " 98%|█████████████████████████████████████████████████████████████████████████████▋ | 490/498 [00:02<00:00, 182.85it/s]"
     ]
    },
    {
     "name": "stdout",
     "output_type": "stream",
     "text": [
      "Detected frames:  498\n"
     ]
    },
    {
     "name": "stderr",
     "output_type": "stream",
     "text": [
      "500it [00:02, 191.71it/s]                                                                                              \n"
     ]
    },
    {
     "name": "stdout",
     "output_type": "stream",
     "text": [
      "Saving results in D:\\videos\\ar33\\2020_11_24...\n",
      "Saving csv poses!\n",
      "Starting to analyze %  D:\\videos\\ar33\\2020_11_24\\Mirror36R.avi\n",
      "D:\\videos\\ar33\\2020_11_24  already exists!\n",
      "Loading  D:\\videos\\ar33\\2020_11_24\\Mirror36R.avi\n",
      "Duration of video [s]:  12.45 , recorded with  40.0 fps!\n",
      "Overall # of frames:  498  found with (before cropping) frame dimensions:  252 300\n",
      "Starting to extract posture\n"
     ]
    },
    {
     "name": "stderr",
     "output_type": "stream",
     "text": [
      " 98%|█████████████████████████████████████████████████████████████████████████████▋ | 490/498 [00:02<00:00, 182.06it/s]"
     ]
    },
    {
     "name": "stdout",
     "output_type": "stream",
     "text": [
      "Detected frames:  498\n"
     ]
    },
    {
     "name": "stderr",
     "output_type": "stream",
     "text": [
      "500it [00:02, 191.24it/s]                                                                                              \n"
     ]
    },
    {
     "name": "stdout",
     "output_type": "stream",
     "text": [
      "Saving results in D:\\videos\\ar33\\2020_11_24...\n",
      "Saving csv poses!\n",
      "Starting to analyze %  D:\\videos\\ar33\\2020_11_24\\Mirror37R.avi\n",
      "D:\\videos\\ar33\\2020_11_24  already exists!\n",
      "Loading  D:\\videos\\ar33\\2020_11_24\\Mirror37R.avi\n",
      "Duration of video [s]:  12.45 , recorded with  40.0 fps!\n",
      "Overall # of frames:  498  found with (before cropping) frame dimensions:  252 300\n",
      "Starting to extract posture\n"
     ]
    },
    {
     "name": "stderr",
     "output_type": "stream",
     "text": [
      " 98%|█████████████████████████████████████████████████████████████████████████████▋ | 490/498 [00:02<00:00, 182.61it/s]"
     ]
    },
    {
     "name": "stdout",
     "output_type": "stream",
     "text": [
      "Detected frames:  498\n"
     ]
    },
    {
     "name": "stderr",
     "output_type": "stream",
     "text": [
      "500it [00:02, 190.30it/s]                                                                                              \n"
     ]
    },
    {
     "name": "stdout",
     "output_type": "stream",
     "text": [
      "Saving results in D:\\videos\\ar33\\2020_11_24...\n",
      "Saving csv poses!\n",
      "Starting to analyze %  D:\\videos\\ar33\\2020_11_24\\Mirror38R.avi\n",
      "D:\\videos\\ar33\\2020_11_24  already exists!\n",
      "Loading  D:\\videos\\ar33\\2020_11_24\\Mirror38R.avi\n",
      "Duration of video [s]:  12.45 , recorded with  40.0 fps!\n",
      "Overall # of frames:  498  found with (before cropping) frame dimensions:  252 300\n",
      "Starting to extract posture\n"
     ]
    },
    {
     "name": "stderr",
     "output_type": "stream",
     "text": [
      " 98%|█████████████████████████████████████████████████████████████████████████████▋ | 490/498 [00:02<00:00, 181.57it/s]"
     ]
    },
    {
     "name": "stdout",
     "output_type": "stream",
     "text": [
      "Detected frames:  498\n"
     ]
    },
    {
     "name": "stderr",
     "output_type": "stream",
     "text": [
      "500it [00:02, 189.04it/s]                                                                                              \n"
     ]
    },
    {
     "name": "stdout",
     "output_type": "stream",
     "text": [
      "Saving results in D:\\videos\\ar33\\2020_11_24...\n",
      "Saving csv poses!\n",
      "Starting to analyze %  D:\\videos\\ar33\\2020_11_24\\Mirror39R.avi\n",
      "D:\\videos\\ar33\\2020_11_24  already exists!\n",
      "Loading  D:\\videos\\ar33\\2020_11_24\\Mirror39R.avi\n",
      "Duration of video [s]:  12.45 , recorded with  40.0 fps!\n",
      "Overall # of frames:  498  found with (before cropping) frame dimensions:  252 300\n",
      "Starting to extract posture\n"
     ]
    },
    {
     "name": "stderr",
     "output_type": "stream",
     "text": [
      " 98%|█████████████████████████████████████████████████████████████████████████████▋ | 490/498 [00:02<00:00, 181.15it/s]"
     ]
    },
    {
     "name": "stdout",
     "output_type": "stream",
     "text": [
      "Detected frames:  498\n"
     ]
    },
    {
     "name": "stderr",
     "output_type": "stream",
     "text": [
      "500it [00:02, 189.94it/s]                                                                                              \n"
     ]
    },
    {
     "name": "stdout",
     "output_type": "stream",
     "text": [
      "Saving results in D:\\videos\\ar33\\2020_11_24...\n",
      "Saving csv poses!\n",
      "Starting to analyze %  D:\\videos\\ar33\\2020_11_24\\Mirror3R.avi\n",
      "D:\\videos\\ar33\\2020_11_24  already exists!\n",
      "Loading  D:\\videos\\ar33\\2020_11_24\\Mirror3R.avi\n",
      "Duration of video [s]:  12.45 , recorded with  40.0 fps!\n",
      "Overall # of frames:  498  found with (before cropping) frame dimensions:  252 300\n",
      "Starting to extract posture\n"
     ]
    },
    {
     "name": "stderr",
     "output_type": "stream",
     "text": [
      " 98%|█████████████████████████████████████████████████████████████████████████████▋ | 490/498 [00:02<00:00, 179.90it/s]"
     ]
    },
    {
     "name": "stdout",
     "output_type": "stream",
     "text": [
      "Detected frames:  498\n"
     ]
    },
    {
     "name": "stderr",
     "output_type": "stream",
     "text": [
      "500it [00:02, 190.08it/s]                                                                                              \n"
     ]
    },
    {
     "name": "stdout",
     "output_type": "stream",
     "text": [
      "Saving results in D:\\videos\\ar33\\2020_11_24...\n",
      "Saving csv poses!\n",
      "Starting to analyze %  D:\\videos\\ar33\\2020_11_24\\Mirror40R.avi\n",
      "D:\\videos\\ar33\\2020_11_24  already exists!\n",
      "Loading  D:\\videos\\ar33\\2020_11_24\\Mirror40R.avi\n",
      "Duration of video [s]:  12.45 , recorded with  40.0 fps!\n",
      "Overall # of frames:  498  found with (before cropping) frame dimensions:  252 300\n",
      "Starting to extract posture\n"
     ]
    },
    {
     "name": "stderr",
     "output_type": "stream",
     "text": [
      " 98%|█████████████████████████████████████████████████████████████████████████████▋ | 490/498 [00:02<00:00, 179.71it/s]"
     ]
    },
    {
     "name": "stdout",
     "output_type": "stream",
     "text": [
      "Detected frames:  498\n"
     ]
    },
    {
     "name": "stderr",
     "output_type": "stream",
     "text": [
      "500it [00:02, 189.82it/s]                                                                                              \n"
     ]
    },
    {
     "name": "stdout",
     "output_type": "stream",
     "text": [
      "Saving results in D:\\videos\\ar33\\2020_11_24...\n",
      "Saving csv poses!\n",
      "Starting to analyze %  D:\\videos\\ar33\\2020_11_24\\Mirror41R.avi\n",
      "D:\\videos\\ar33\\2020_11_24  already exists!\n",
      "Loading  D:\\videos\\ar33\\2020_11_24\\Mirror41R.avi\n",
      "Duration of video [s]:  12.45 , recorded with  40.0 fps!\n",
      "Overall # of frames:  498  found with (before cropping) frame dimensions:  252 300\n",
      "Starting to extract posture\n"
     ]
    },
    {
     "name": "stderr",
     "output_type": "stream",
     "text": [
      " 98%|█████████████████████████████████████████████████████████████████████████████▋ | 490/498 [00:02<00:00, 181.88it/s]"
     ]
    },
    {
     "name": "stdout",
     "output_type": "stream",
     "text": [
      "Detected frames:  498\n"
     ]
    },
    {
     "name": "stderr",
     "output_type": "stream",
     "text": [
      "500it [00:02, 189.29it/s]                                                                                              \n"
     ]
    },
    {
     "name": "stdout",
     "output_type": "stream",
     "text": [
      "Saving results in D:\\videos\\ar33\\2020_11_24...\n",
      "Saving csv poses!\n",
      "Starting to analyze %  D:\\videos\\ar33\\2020_11_24\\Mirror42R.avi\n",
      "D:\\videos\\ar33\\2020_11_24  already exists!\n",
      "Loading  D:\\videos\\ar33\\2020_11_24\\Mirror42R.avi\n",
      "Duration of video [s]:  12.45 , recorded with  40.0 fps!\n",
      "Overall # of frames:  498  found with (before cropping) frame dimensions:  252 300\n",
      "Starting to extract posture\n"
     ]
    },
    {
     "name": "stderr",
     "output_type": "stream",
     "text": [
      " 98%|█████████████████████████████████████████████████████████████████████████████▋ | 490/498 [00:02<00:00, 180.02it/s]"
     ]
    },
    {
     "name": "stdout",
     "output_type": "stream",
     "text": [
      "Detected frames:  498\n"
     ]
    },
    {
     "name": "stderr",
     "output_type": "stream",
     "text": [
      "500it [00:02, 188.76it/s]                                                                                              \n"
     ]
    },
    {
     "name": "stdout",
     "output_type": "stream",
     "text": [
      "Saving results in D:\\videos\\ar33\\2020_11_24...\n",
      "Saving csv poses!\n",
      "Starting to analyze %  D:\\videos\\ar33\\2020_11_24\\Mirror43R.avi\n",
      "D:\\videos\\ar33\\2020_11_24  already exists!\n",
      "Loading  D:\\videos\\ar33\\2020_11_24\\Mirror43R.avi\n",
      "Duration of video [s]:  12.45 , recorded with  40.0 fps!\n",
      "Overall # of frames:  498  found with (before cropping) frame dimensions:  252 300\n",
      "Starting to extract posture\n"
     ]
    },
    {
     "name": "stderr",
     "output_type": "stream",
     "text": [
      " 98%|█████████████████████████████████████████████████████████████████████████████▋ | 490/498 [00:02<00:00, 180.42it/s]"
     ]
    },
    {
     "name": "stdout",
     "output_type": "stream",
     "text": [
      "Detected frames:  498\n"
     ]
    },
    {
     "name": "stderr",
     "output_type": "stream",
     "text": [
      "500it [00:02, 189.19it/s]                                                                                              \n"
     ]
    },
    {
     "name": "stdout",
     "output_type": "stream",
     "text": [
      "Saving results in D:\\videos\\ar33\\2020_11_24...\n",
      "Saving csv poses!\n",
      "Starting to analyze %  D:\\videos\\ar33\\2020_11_24\\Mirror44R.avi\n",
      "D:\\videos\\ar33\\2020_11_24  already exists!\n",
      "Loading  D:\\videos\\ar33\\2020_11_24\\Mirror44R.avi\n",
      "Duration of video [s]:  12.45 , recorded with  40.0 fps!\n",
      "Overall # of frames:  498  found with (before cropping) frame dimensions:  252 300\n",
      "Starting to extract posture\n"
     ]
    },
    {
     "name": "stderr",
     "output_type": "stream",
     "text": [
      " 98%|█████████████████████████████████████████████████████████████████████████████▋ | 490/498 [00:02<00:00, 180.62it/s]"
     ]
    },
    {
     "name": "stdout",
     "output_type": "stream",
     "text": [
      "Detected frames:  498\n"
     ]
    },
    {
     "name": "stderr",
     "output_type": "stream",
     "text": [
      "500it [00:02, 188.51it/s]                                                                                              \n"
     ]
    },
    {
     "name": "stdout",
     "output_type": "stream",
     "text": [
      "Saving results in D:\\videos\\ar33\\2020_11_24...\n",
      "Saving csv poses!\n",
      "Starting to analyze %  D:\\videos\\ar33\\2020_11_24\\Mirror45R.avi\n",
      "D:\\videos\\ar33\\2020_11_24  already exists!\n",
      "Loading  D:\\videos\\ar33\\2020_11_24\\Mirror45R.avi\n",
      "Duration of video [s]:  12.45 , recorded with  40.0 fps!\n",
      "Overall # of frames:  498  found with (before cropping) frame dimensions:  252 300\n",
      "Starting to extract posture\n"
     ]
    },
    {
     "name": "stderr",
     "output_type": "stream",
     "text": [
      " 98%|█████████████████████████████████████████████████████████████████████████████▋ | 490/498 [00:02<00:00, 182.58it/s]"
     ]
    },
    {
     "name": "stdout",
     "output_type": "stream",
     "text": [
      "Detected frames:  498\n"
     ]
    },
    {
     "name": "stderr",
     "output_type": "stream",
     "text": [
      "500it [00:02, 188.34it/s]                                                                                              \n"
     ]
    },
    {
     "name": "stdout",
     "output_type": "stream",
     "text": [
      "Saving results in D:\\videos\\ar33\\2020_11_24...\n",
      "Saving csv poses!\n",
      "Starting to analyze %  D:\\videos\\ar33\\2020_11_24\\Mirror46R.avi\n",
      "D:\\videos\\ar33\\2020_11_24  already exists!\n",
      "Loading  D:\\videos\\ar33\\2020_11_24\\Mirror46R.avi\n",
      "Duration of video [s]:  12.45 , recorded with  40.0 fps!\n",
      "Overall # of frames:  498  found with (before cropping) frame dimensions:  252 300\n",
      "Starting to extract posture\n"
     ]
    },
    {
     "name": "stderr",
     "output_type": "stream",
     "text": [
      " 98%|█████████████████████████████████████████████████████████████████████████████▋ | 490/498 [00:02<00:00, 179.63it/s]"
     ]
    },
    {
     "name": "stdout",
     "output_type": "stream",
     "text": [
      "Detected frames:  498\n"
     ]
    },
    {
     "name": "stderr",
     "output_type": "stream",
     "text": [
      "500it [00:02, 188.65it/s]                                                                                              \n"
     ]
    },
    {
     "name": "stdout",
     "output_type": "stream",
     "text": [
      "Saving results in D:\\videos\\ar33\\2020_11_24...\n",
      "Saving csv poses!\n",
      "Starting to analyze %  D:\\videos\\ar33\\2020_11_24\\Mirror47R.avi\n",
      "D:\\videos\\ar33\\2020_11_24  already exists!\n",
      "Loading  D:\\videos\\ar33\\2020_11_24\\Mirror47R.avi\n",
      "Duration of video [s]:  12.45 , recorded with  40.0 fps!\n",
      "Overall # of frames:  498  found with (before cropping) frame dimensions:  252 300\n",
      "Starting to extract posture\n"
     ]
    },
    {
     "name": "stderr",
     "output_type": "stream",
     "text": [
      " 98%|█████████████████████████████████████████████████████████████████████████████▋ | 490/498 [00:02<00:00, 179.42it/s]"
     ]
    },
    {
     "name": "stdout",
     "output_type": "stream",
     "text": [
      "Detected frames:  498\n"
     ]
    },
    {
     "name": "stderr",
     "output_type": "stream",
     "text": [
      "500it [00:02, 187.97it/s]                                                                                              \n"
     ]
    },
    {
     "name": "stdout",
     "output_type": "stream",
     "text": [
      "Saving results in D:\\videos\\ar33\\2020_11_24...\n",
      "Saving csv poses!\n",
      "Starting to analyze %  D:\\videos\\ar33\\2020_11_24\\Mirror48R.avi\n",
      "D:\\videos\\ar33\\2020_11_24  already exists!\n",
      "Loading  D:\\videos\\ar33\\2020_11_24\\Mirror48R.avi\n",
      "Duration of video [s]:  12.45 , recorded with  40.0 fps!\n",
      "Overall # of frames:  498  found with (before cropping) frame dimensions:  252 300\n",
      "Starting to extract posture\n"
     ]
    },
    {
     "name": "stderr",
     "output_type": "stream",
     "text": [
      " 98%|█████████████████████████████████████████████████████████████████████████████▋ | 490/498 [00:02<00:00, 182.80it/s]"
     ]
    },
    {
     "name": "stdout",
     "output_type": "stream",
     "text": [
      "Detected frames:  498\n"
     ]
    },
    {
     "name": "stderr",
     "output_type": "stream",
     "text": [
      "500it [00:02, 188.36it/s]                                                                                              \n"
     ]
    },
    {
     "name": "stdout",
     "output_type": "stream",
     "text": [
      "Saving results in D:\\videos\\ar33\\2020_11_24...\n",
      "Saving csv poses!\n",
      "Starting to analyze %  D:\\videos\\ar33\\2020_11_24\\Mirror49R.avi\n",
      "D:\\videos\\ar33\\2020_11_24  already exists!\n",
      "Loading  D:\\videos\\ar33\\2020_11_24\\Mirror49R.avi\n",
      "Duration of video [s]:  12.45 , recorded with  40.0 fps!\n",
      "Overall # of frames:  498  found with (before cropping) frame dimensions:  252 300\n",
      "Starting to extract posture\n"
     ]
    },
    {
     "name": "stderr",
     "output_type": "stream",
     "text": [
      " 98%|█████████████████████████████████████████████████████████████████████████████▋ | 490/498 [00:02<00:00, 180.07it/s]"
     ]
    },
    {
     "name": "stdout",
     "output_type": "stream",
     "text": [
      "Detected frames:  498\n"
     ]
    },
    {
     "name": "stderr",
     "output_type": "stream",
     "text": [
      "500it [00:02, 186.90it/s]                                                                                              \n"
     ]
    },
    {
     "name": "stdout",
     "output_type": "stream",
     "text": [
      "Saving results in D:\\videos\\ar33\\2020_11_24...\n",
      "Saving csv poses!\n",
      "Starting to analyze %  D:\\videos\\ar33\\2020_11_24\\Mirror4R.avi\n",
      "D:\\videos\\ar33\\2020_11_24  already exists!\n",
      "Loading  D:\\videos\\ar33\\2020_11_24\\Mirror4R.avi\n",
      "Duration of video [s]:  12.15 , recorded with  40.0 fps!\n",
      "Overall # of frames:  486  found with (before cropping) frame dimensions:  252 300\n",
      "Starting to extract posture\n"
     ]
    },
    {
     "name": "stderr",
     "output_type": "stream",
     "text": [
      "490it [00:02, 180.74it/s]                                                                                              "
     ]
    },
    {
     "name": "stdout",
     "output_type": "stream",
     "text": [
      "Detected frames:  486\n"
     ]
    },
    {
     "name": "stderr",
     "output_type": "stream",
     "text": [
      "490it [00:02, 189.37it/s]\n"
     ]
    },
    {
     "name": "stdout",
     "output_type": "stream",
     "text": [
      "Saving results in D:\\videos\\ar33\\2020_11_24...\n",
      "Saving csv poses!\n",
      "Starting to analyze %  D:\\videos\\ar33\\2020_11_24\\Mirror50R.avi\n",
      "D:\\videos\\ar33\\2020_11_24  already exists!\n",
      "Loading  D:\\videos\\ar33\\2020_11_24\\Mirror50R.avi\n",
      "Duration of video [s]:  12.45 , recorded with  40.0 fps!\n",
      "Overall # of frames:  498  found with (before cropping) frame dimensions:  252 300\n",
      "Starting to extract posture\n"
     ]
    },
    {
     "name": "stderr",
     "output_type": "stream",
     "text": [
      " 98%|█████████████████████████████████████████████████████████████████████████████▋ | 490/498 [00:02<00:00, 180.89it/s]"
     ]
    },
    {
     "name": "stdout",
     "output_type": "stream",
     "text": [
      "Detected frames:  498\n"
     ]
    },
    {
     "name": "stderr",
     "output_type": "stream",
     "text": [
      "500it [00:02, 187.97it/s]                                                                                              \n"
     ]
    },
    {
     "name": "stdout",
     "output_type": "stream",
     "text": [
      "Saving results in D:\\videos\\ar33\\2020_11_24...\n",
      "Saving csv poses!\n",
      "Starting to analyze %  D:\\videos\\ar33\\2020_11_24\\Mirror51R.avi\n",
      "D:\\videos\\ar33\\2020_11_24  already exists!\n",
      "Loading  D:\\videos\\ar33\\2020_11_24\\Mirror51R.avi\n",
      "Duration of video [s]:  12.45 , recorded with  40.0 fps!\n",
      "Overall # of frames:  498  found with (before cropping) frame dimensions:  252 300\n",
      "Starting to extract posture\n"
     ]
    },
    {
     "name": "stderr",
     "output_type": "stream",
     "text": [
      " 98%|█████████████████████████████████████████████████████████████████████████████▋ | 490/498 [00:02<00:00, 179.38it/s]"
     ]
    },
    {
     "name": "stdout",
     "output_type": "stream",
     "text": [
      "Detected frames:  498\n"
     ]
    },
    {
     "name": "stderr",
     "output_type": "stream",
     "text": [
      "500it [00:02, 186.68it/s]                                                                                              \n"
     ]
    },
    {
     "name": "stdout",
     "output_type": "stream",
     "text": [
      "Saving results in D:\\videos\\ar33\\2020_11_24...\n",
      "Saving csv poses!\n",
      "Starting to analyze %  D:\\videos\\ar33\\2020_11_24\\Mirror52R.avi\n",
      "D:\\videos\\ar33\\2020_11_24  already exists!\n",
      "Loading  D:\\videos\\ar33\\2020_11_24\\Mirror52R.avi\n",
      "Duration of video [s]:  12.45 , recorded with  40.0 fps!\n",
      "Overall # of frames:  498  found with (before cropping) frame dimensions:  252 300\n",
      "Starting to extract posture\n"
     ]
    },
    {
     "name": "stderr",
     "output_type": "stream",
     "text": [
      " 98%|█████████████████████████████████████████████████████████████████████████████▋ | 490/498 [00:02<00:00, 180.38it/s]"
     ]
    },
    {
     "name": "stdout",
     "output_type": "stream",
     "text": [
      "Detected frames:  498\n"
     ]
    },
    {
     "name": "stderr",
     "output_type": "stream",
     "text": [
      "500it [00:02, 186.95it/s]                                                                                              \n"
     ]
    },
    {
     "name": "stdout",
     "output_type": "stream",
     "text": [
      "Saving results in D:\\videos\\ar33\\2020_11_24...\n",
      "Saving csv poses!\n",
      "Starting to analyze %  D:\\videos\\ar33\\2020_11_24\\Mirror53R.avi\n",
      "D:\\videos\\ar33\\2020_11_24  already exists!\n",
      "Loading  D:\\videos\\ar33\\2020_11_24\\Mirror53R.avi\n",
      "Duration of video [s]:  12.45 , recorded with  40.0 fps!\n",
      "Overall # of frames:  498  found with (before cropping) frame dimensions:  252 300\n",
      "Starting to extract posture\n"
     ]
    },
    {
     "name": "stderr",
     "output_type": "stream",
     "text": [
      " 98%|█████████████████████████████████████████████████████████████████████████████▋ | 490/498 [00:02<00:00, 180.39it/s]"
     ]
    },
    {
     "name": "stdout",
     "output_type": "stream",
     "text": [
      "Detected frames:  498\n"
     ]
    },
    {
     "name": "stderr",
     "output_type": "stream",
     "text": [
      "500it [00:02, 186.35it/s]                                                                                              \n"
     ]
    },
    {
     "name": "stdout",
     "output_type": "stream",
     "text": [
      "Saving results in D:\\videos\\ar33\\2020_11_24...\n",
      "Saving csv poses!\n",
      "Starting to analyze %  D:\\videos\\ar33\\2020_11_24\\Mirror54R.avi\n",
      "D:\\videos\\ar33\\2020_11_24  already exists!\n",
      "Loading  D:\\videos\\ar33\\2020_11_24\\Mirror54R.avi\n",
      "Duration of video [s]:  12.45 , recorded with  40.0 fps!\n",
      "Overall # of frames:  498  found with (before cropping) frame dimensions:  252 300\n",
      "Starting to extract posture\n"
     ]
    },
    {
     "name": "stderr",
     "output_type": "stream",
     "text": [
      " 98%|█████████████████████████████████████████████████████████████████████████████▋ | 490/498 [00:02<00:00, 180.06it/s]"
     ]
    },
    {
     "name": "stdout",
     "output_type": "stream",
     "text": [
      "Detected frames:  498\n"
     ]
    },
    {
     "name": "stderr",
     "output_type": "stream",
     "text": [
      "500it [00:02, 186.78it/s]                                                                                              \n"
     ]
    },
    {
     "name": "stdout",
     "output_type": "stream",
     "text": [
      "Saving results in D:\\videos\\ar33\\2020_11_24...\n",
      "Saving csv poses!\n",
      "Starting to analyze %  D:\\videos\\ar33\\2020_11_24\\Mirror55R.avi\n",
      "D:\\videos\\ar33\\2020_11_24  already exists!\n",
      "Loading  D:\\videos\\ar33\\2020_11_24\\Mirror55R.avi\n",
      "Duration of video [s]:  12.45 , recorded with  40.0 fps!\n",
      "Overall # of frames:  498  found with (before cropping) frame dimensions:  252 300\n",
      "Starting to extract posture\n"
     ]
    },
    {
     "name": "stderr",
     "output_type": "stream",
     "text": [
      " 98%|█████████████████████████████████████████████████████████████████████████████▋ | 490/498 [00:02<00:00, 180.49it/s]"
     ]
    },
    {
     "name": "stdout",
     "output_type": "stream",
     "text": [
      "Detected frames:  498\n"
     ]
    },
    {
     "name": "stderr",
     "output_type": "stream",
     "text": [
      "500it [00:02, 186.82it/s]                                                                                              \n"
     ]
    },
    {
     "name": "stdout",
     "output_type": "stream",
     "text": [
      "Saving results in D:\\videos\\ar33\\2020_11_24...\n",
      "Saving csv poses!\n",
      "Starting to analyze %  D:\\videos\\ar33\\2020_11_24\\Mirror56R.avi\n",
      "D:\\videos\\ar33\\2020_11_24  already exists!\n",
      "Loading  D:\\videos\\ar33\\2020_11_24\\Mirror56R.avi\n",
      "Duration of video [s]:  12.45 , recorded with  40.0 fps!\n",
      "Overall # of frames:  498  found with (before cropping) frame dimensions:  252 300\n",
      "Starting to extract posture\n"
     ]
    },
    {
     "name": "stderr",
     "output_type": "stream",
     "text": [
      " 98%|█████████████████████████████████████████████████████████████████████████████▋ | 490/498 [00:02<00:00, 179.96it/s]"
     ]
    },
    {
     "name": "stdout",
     "output_type": "stream",
     "text": [
      "Detected frames:  498\n"
     ]
    },
    {
     "name": "stderr",
     "output_type": "stream",
     "text": [
      "500it [00:02, 186.22it/s]                                                                                              \n"
     ]
    },
    {
     "name": "stdout",
     "output_type": "stream",
     "text": [
      "Saving results in D:\\videos\\ar33\\2020_11_24...\n",
      "Saving csv poses!\n",
      "Starting to analyze %  D:\\videos\\ar33\\2020_11_24\\Mirror57R.avi\n",
      "D:\\videos\\ar33\\2020_11_24  already exists!\n",
      "Loading  D:\\videos\\ar33\\2020_11_24\\Mirror57R.avi\n",
      "Duration of video [s]:  12.45 , recorded with  40.0 fps!\n",
      "Overall # of frames:  498  found with (before cropping) frame dimensions:  252 300\n",
      "Starting to extract posture\n"
     ]
    },
    {
     "name": "stderr",
     "output_type": "stream",
     "text": [
      " 98%|█████████████████████████████████████████████████████████████████████████████▋ | 490/498 [00:02<00:00, 179.32it/s]"
     ]
    },
    {
     "name": "stdout",
     "output_type": "stream",
     "text": [
      "Detected frames:  498\n"
     ]
    },
    {
     "name": "stderr",
     "output_type": "stream",
     "text": [
      "500it [00:02, 186.30it/s]                                                                                              \n"
     ]
    },
    {
     "name": "stdout",
     "output_type": "stream",
     "text": [
      "Saving results in D:\\videos\\ar33\\2020_11_24...\n",
      "Saving csv poses!\n",
      "Starting to analyze %  D:\\videos\\ar33\\2020_11_24\\Mirror58R.avi\n",
      "D:\\videos\\ar33\\2020_11_24  already exists!\n",
      "Loading  D:\\videos\\ar33\\2020_11_24\\Mirror58R.avi\n",
      "Duration of video [s]:  12.45 , recorded with  40.0 fps!\n",
      "Overall # of frames:  498  found with (before cropping) frame dimensions:  252 300\n",
      "Starting to extract posture\n"
     ]
    },
    {
     "name": "stderr",
     "output_type": "stream",
     "text": [
      " 98%|█████████████████████████████████████████████████████████████████████████████▋ | 490/498 [00:02<00:00, 180.14it/s]"
     ]
    },
    {
     "name": "stdout",
     "output_type": "stream",
     "text": [
      "Detected frames:  498\n"
     ]
    },
    {
     "name": "stderr",
     "output_type": "stream",
     "text": [
      "500it [00:02, 185.55it/s]                                                                                              \n"
     ]
    },
    {
     "name": "stdout",
     "output_type": "stream",
     "text": [
      "Saving results in D:\\videos\\ar33\\2020_11_24...\n",
      "Saving csv poses!\n",
      "Starting to analyze %  D:\\videos\\ar33\\2020_11_24\\Mirror59R.avi\n",
      "D:\\videos\\ar33\\2020_11_24  already exists!\n",
      "Loading  D:\\videos\\ar33\\2020_11_24\\Mirror59R.avi\n",
      "Duration of video [s]:  7.47 , recorded with  40.0 fps!\n",
      "Overall # of frames:  299  found with (before cropping) frame dimensions:  252 300\n",
      "Starting to extract posture\n"
     ]
    },
    {
     "name": "stderr",
     "output_type": "stream",
     "text": [
      "300it [00:01, 181.72it/s]                                                                                              "
     ]
    },
    {
     "name": "stdout",
     "output_type": "stream",
     "text": [
      "Detected frames:  299\n"
     ]
    },
    {
     "name": "stderr",
     "output_type": "stream",
     "text": [
      "300it [00:01, 184.20it/s]\n"
     ]
    },
    {
     "name": "stdout",
     "output_type": "stream",
     "text": [
      "Saving results in D:\\videos\\ar33\\2020_11_24...\n",
      "Saving csv poses!\n",
      "Starting to analyze %  D:\\videos\\ar33\\2020_11_24\\Mirror60R.avi\n",
      "D:\\videos\\ar33\\2020_11_24  already exists!\n",
      "Loading  D:\\videos\\ar33\\2020_11_24\\Mirror60R.avi\n",
      "Duration of video [s]:  12.45 , recorded with  40.0 fps!\n",
      "Overall # of frames:  498  found with (before cropping) frame dimensions:  252 300\n",
      "Starting to extract posture\n"
     ]
    },
    {
     "name": "stderr",
     "output_type": "stream",
     "text": [
      " 98%|█████████████████████████████████████████████████████████████████████████████▋ | 490/498 [00:02<00:00, 179.67it/s]"
     ]
    },
    {
     "name": "stdout",
     "output_type": "stream",
     "text": [
      "Detected frames:  498\n"
     ]
    },
    {
     "name": "stderr",
     "output_type": "stream",
     "text": [
      "500it [00:02, 185.50it/s]                                                                                              \n"
     ]
    },
    {
     "name": "stdout",
     "output_type": "stream",
     "text": [
      "Saving results in D:\\videos\\ar33\\2020_11_24...\n",
      "Saving csv poses!\n",
      "Starting to analyze %  D:\\videos\\ar33\\2020_11_24\\Mirror61R.avi\n",
      "D:\\videos\\ar33\\2020_11_24  already exists!\n",
      "Loading  D:\\videos\\ar33\\2020_11_24\\Mirror61R.avi\n",
      "Duration of video [s]:  12.45 , recorded with  40.0 fps!\n",
      "Overall # of frames:  498  found with (before cropping) frame dimensions:  252 300\n",
      "Starting to extract posture\n"
     ]
    },
    {
     "name": "stderr",
     "output_type": "stream",
     "text": [
      " 98%|█████████████████████████████████████████████████████████████████████████████▋ | 490/498 [00:02<00:00, 180.70it/s]"
     ]
    },
    {
     "name": "stdout",
     "output_type": "stream",
     "text": [
      "Detected frames:  498\n"
     ]
    },
    {
     "name": "stderr",
     "output_type": "stream",
     "text": [
      "500it [00:02, 185.98it/s]                                                                                              \n"
     ]
    },
    {
     "name": "stdout",
     "output_type": "stream",
     "text": [
      "Saving results in D:\\videos\\ar33\\2020_11_24...\n",
      "Saving csv poses!\n",
      "Starting to analyze %  D:\\videos\\ar33\\2020_11_24\\Mirror62R.avi\n",
      "D:\\videos\\ar33\\2020_11_24  already exists!\n",
      "Loading  D:\\videos\\ar33\\2020_11_24\\Mirror62R.avi\n",
      "Duration of video [s]:  12.45 , recorded with  40.0 fps!\n",
      "Overall # of frames:  498  found with (before cropping) frame dimensions:  252 300\n",
      "Starting to extract posture\n"
     ]
    },
    {
     "name": "stderr",
     "output_type": "stream",
     "text": [
      " 98%|█████████████████████████████████████████████████████████████████████████████▋ | 490/498 [00:02<00:00, 178.74it/s]"
     ]
    },
    {
     "name": "stdout",
     "output_type": "stream",
     "text": [
      "Detected frames:  498\n"
     ]
    },
    {
     "name": "stderr",
     "output_type": "stream",
     "text": [
      "500it [00:02, 186.09it/s]                                                                                              \n"
     ]
    },
    {
     "name": "stdout",
     "output_type": "stream",
     "text": [
      "Saving results in D:\\videos\\ar33\\2020_11_24...\n",
      "Saving csv poses!\n",
      "Starting to analyze %  D:\\videos\\ar33\\2020_11_24\\Mirror63R.avi\n",
      "D:\\videos\\ar33\\2020_11_24  already exists!\n",
      "Loading  D:\\videos\\ar33\\2020_11_24\\Mirror63R.avi\n",
      "Duration of video [s]:  12.45 , recorded with  40.0 fps!\n",
      "Overall # of frames:  498  found with (before cropping) frame dimensions:  252 300\n",
      "Starting to extract posture\n"
     ]
    },
    {
     "name": "stderr",
     "output_type": "stream",
     "text": [
      " 98%|█████████████████████████████████████████████████████████████████████████████▋ | 490/498 [00:02<00:00, 177.34it/s]"
     ]
    },
    {
     "name": "stdout",
     "output_type": "stream",
     "text": [
      "Detected frames:  498\n"
     ]
    },
    {
     "name": "stderr",
     "output_type": "stream",
     "text": [
      "500it [00:02, 185.37it/s]                                                                                              \n"
     ]
    },
    {
     "name": "stdout",
     "output_type": "stream",
     "text": [
      "Saving results in D:\\videos\\ar33\\2020_11_24...\n",
      "Saving csv poses!\n",
      "Starting to analyze %  D:\\videos\\ar33\\2020_11_24\\Mirror64R.avi\n",
      "D:\\videos\\ar33\\2020_11_24  already exists!\n",
      "Loading  D:\\videos\\ar33\\2020_11_24\\Mirror64R.avi\n",
      "Duration of video [s]:  12.45 , recorded with  40.0 fps!\n",
      "Overall # of frames:  498  found with (before cropping) frame dimensions:  252 300\n",
      "Starting to extract posture\n"
     ]
    },
    {
     "name": "stderr",
     "output_type": "stream",
     "text": [
      " 98%|█████████████████████████████████████████████████████████████████████████████▋ | 490/498 [00:02<00:00, 177.96it/s]"
     ]
    },
    {
     "name": "stdout",
     "output_type": "stream",
     "text": [
      "Detected frames:  498\n"
     ]
    },
    {
     "name": "stderr",
     "output_type": "stream",
     "text": [
      "500it [00:02, 184.78it/s]                                                                                              \n"
     ]
    },
    {
     "name": "stdout",
     "output_type": "stream",
     "text": [
      "Saving results in D:\\videos\\ar33\\2020_11_24...\n",
      "Saving csv poses!\n",
      "Starting to analyze %  D:\\videos\\ar33\\2020_11_24\\Mirror65R.avi\n",
      "D:\\videos\\ar33\\2020_11_24  already exists!\n",
      "Loading  D:\\videos\\ar33\\2020_11_24\\Mirror65R.avi\n",
      "Duration of video [s]:  12.45 , recorded with  40.0 fps!\n",
      "Overall # of frames:  498  found with (before cropping) frame dimensions:  252 300\n",
      "Starting to extract posture\n"
     ]
    },
    {
     "name": "stderr",
     "output_type": "stream",
     "text": [
      " 98%|█████████████████████████████████████████████████████████████████████████████▋ | 490/498 [00:02<00:00, 179.20it/s]"
     ]
    },
    {
     "name": "stdout",
     "output_type": "stream",
     "text": [
      "Detected frames:  498\n"
     ]
    },
    {
     "name": "stderr",
     "output_type": "stream",
     "text": [
      "500it [00:02, 185.27it/s]                                                                                              \n"
     ]
    },
    {
     "name": "stdout",
     "output_type": "stream",
     "text": [
      "Saving results in D:\\videos\\ar33\\2020_11_24...\n",
      "Saving csv poses!\n",
      "Starting to analyze %  D:\\videos\\ar33\\2020_11_24\\Mirror66R.avi\n",
      "D:\\videos\\ar33\\2020_11_24  already exists!\n",
      "Loading  D:\\videos\\ar33\\2020_11_24\\Mirror66R.avi\n",
      "Duration of video [s]:  12.45 , recorded with  40.0 fps!\n",
      "Overall # of frames:  498  found with (before cropping) frame dimensions:  252 300\n",
      "Starting to extract posture\n"
     ]
    },
    {
     "name": "stderr",
     "output_type": "stream",
     "text": [
      " 98%|█████████████████████████████████████████████████████████████████████████████▋ | 490/498 [00:02<00:00, 178.57it/s]"
     ]
    },
    {
     "name": "stdout",
     "output_type": "stream",
     "text": [
      "Detected frames:  498\n"
     ]
    },
    {
     "name": "stderr",
     "output_type": "stream",
     "text": [
      "500it [00:02, 184.88it/s]                                                                                              \n"
     ]
    },
    {
     "name": "stdout",
     "output_type": "stream",
     "text": [
      "Saving results in D:\\videos\\ar33\\2020_11_24...\n",
      "Saving csv poses!\n",
      "Starting to analyze %  D:\\videos\\ar33\\2020_11_24\\Mirror67R.avi\n",
      "D:\\videos\\ar33\\2020_11_24  already exists!\n",
      "Loading  D:\\videos\\ar33\\2020_11_24\\Mirror67R.avi\n",
      "Duration of video [s]:  12.45 , recorded with  40.0 fps!\n",
      "Overall # of frames:  498  found with (before cropping) frame dimensions:  252 300\n",
      "Starting to extract posture\n"
     ]
    },
    {
     "name": "stderr",
     "output_type": "stream",
     "text": [
      " 98%|█████████████████████████████████████████████████████████████████████████████▋ | 490/498 [00:02<00:00, 179.44it/s]"
     ]
    },
    {
     "name": "stdout",
     "output_type": "stream",
     "text": [
      "Detected frames:  498\n"
     ]
    },
    {
     "name": "stderr",
     "output_type": "stream",
     "text": [
      "500it [00:02, 185.50it/s]                                                                                              \n"
     ]
    },
    {
     "name": "stdout",
     "output_type": "stream",
     "text": [
      "Saving results in D:\\videos\\ar33\\2020_11_24...\n",
      "Saving csv poses!\n",
      "Starting to analyze %  D:\\videos\\ar33\\2020_11_24\\Mirror68R.avi\n",
      "D:\\videos\\ar33\\2020_11_24  already exists!\n",
      "Loading  D:\\videos\\ar33\\2020_11_24\\Mirror68R.avi\n",
      "Duration of video [s]:  12.45 , recorded with  40.0 fps!\n",
      "Overall # of frames:  498  found with (before cropping) frame dimensions:  252 300\n",
      "Starting to extract posture\n"
     ]
    },
    {
     "name": "stderr",
     "output_type": "stream",
     "text": [
      " 98%|█████████████████████████████████████████████████████████████████████████████▋ | 490/498 [00:02<00:00, 177.91it/s]"
     ]
    },
    {
     "name": "stdout",
     "output_type": "stream",
     "text": [
      "Detected frames:  498\n"
     ]
    },
    {
     "name": "stderr",
     "output_type": "stream",
     "text": [
      "500it [00:02, 184.52it/s]                                                                                              \n"
     ]
    },
    {
     "name": "stdout",
     "output_type": "stream",
     "text": [
      "Saving results in D:\\videos\\ar33\\2020_11_24...\n",
      "Saving csv poses!\n",
      "Starting to analyze %  D:\\videos\\ar33\\2020_11_24\\Mirror69R.avi\n",
      "D:\\videos\\ar33\\2020_11_24  already exists!\n",
      "Loading  D:\\videos\\ar33\\2020_11_24\\Mirror69R.avi\n",
      "Duration of video [s]:  12.45 , recorded with  40.0 fps!\n",
      "Overall # of frames:  498  found with (before cropping) frame dimensions:  252 300\n",
      "Starting to extract posture\n"
     ]
    },
    {
     "name": "stderr",
     "output_type": "stream",
     "text": [
      " 98%|█████████████████████████████████████████████████████████████████████████████▋ | 490/498 [00:02<00:00, 178.53it/s]"
     ]
    },
    {
     "name": "stdout",
     "output_type": "stream",
     "text": [
      "Detected frames:  498\n"
     ]
    },
    {
     "name": "stderr",
     "output_type": "stream",
     "text": [
      "500it [00:02, 184.93it/s]                                                                                              \n"
     ]
    },
    {
     "name": "stdout",
     "output_type": "stream",
     "text": [
      "Saving results in D:\\videos\\ar33\\2020_11_24...\n",
      "Saving csv poses!\n",
      "Starting to analyze %  D:\\videos\\ar33\\2020_11_24\\Mirror6R.avi\n",
      "D:\\videos\\ar33\\2020_11_24  already exists!\n",
      "Loading  D:\\videos\\ar33\\2020_11_24\\Mirror6R.avi\n",
      "Duration of video [s]:  12.45 , recorded with  40.0 fps!\n",
      "Overall # of frames:  498  found with (before cropping) frame dimensions:  252 300\n",
      "Starting to extract posture\n"
     ]
    },
    {
     "name": "stderr",
     "output_type": "stream",
     "text": [
      " 98%|█████████████████████████████████████████████████████████████████████████████▋ | 490/498 [00:02<00:00, 177.77it/s]"
     ]
    },
    {
     "name": "stdout",
     "output_type": "stream",
     "text": [
      "Detected frames:  498\n"
     ]
    },
    {
     "name": "stderr",
     "output_type": "stream",
     "text": [
      "500it [00:02, 185.26it/s]                                                                                              \n"
     ]
    },
    {
     "name": "stdout",
     "output_type": "stream",
     "text": [
      "Saving results in D:\\videos\\ar33\\2020_11_24...\n",
      "Saving csv poses!\n",
      "Starting to analyze %  D:\\videos\\ar33\\2020_11_24\\Mirror70R.avi\n",
      "D:\\videos\\ar33\\2020_11_24  already exists!\n",
      "Loading  D:\\videos\\ar33\\2020_11_24\\Mirror70R.avi\n",
      "Duration of video [s]:  12.45 , recorded with  40.0 fps!\n",
      "Overall # of frames:  498  found with (before cropping) frame dimensions:  252 300\n",
      "Starting to extract posture\n"
     ]
    },
    {
     "name": "stderr",
     "output_type": "stream",
     "text": [
      " 98%|█████████████████████████████████████████████████████████████████████████████▋ | 490/498 [00:02<00:00, 178.45it/s]"
     ]
    },
    {
     "name": "stdout",
     "output_type": "stream",
     "text": [
      "Detected frames:  498\n"
     ]
    },
    {
     "name": "stderr",
     "output_type": "stream",
     "text": [
      "500it [00:02, 184.76it/s]                                                                                              \n"
     ]
    },
    {
     "name": "stdout",
     "output_type": "stream",
     "text": [
      "Saving results in D:\\videos\\ar33\\2020_11_24...\n",
      "Saving csv poses!\n",
      "Starting to analyze %  D:\\videos\\ar33\\2020_11_24\\Mirror71R.avi\n",
      "D:\\videos\\ar33\\2020_11_24  already exists!\n",
      "Loading  D:\\videos\\ar33\\2020_11_24\\Mirror71R.avi\n",
      "Duration of video [s]:  12.45 , recorded with  40.0 fps!\n",
      "Overall # of frames:  498  found with (before cropping) frame dimensions:  252 300\n",
      "Starting to extract posture\n"
     ]
    },
    {
     "name": "stderr",
     "output_type": "stream",
     "text": [
      " 98%|█████████████████████████████████████████████████████████████████████████████▋ | 490/498 [00:02<00:00, 179.20it/s]"
     ]
    },
    {
     "name": "stdout",
     "output_type": "stream",
     "text": [
      "Detected frames:  498\n"
     ]
    },
    {
     "name": "stderr",
     "output_type": "stream",
     "text": [
      "500it [00:02, 184.63it/s]                                                                                              \n"
     ]
    },
    {
     "name": "stdout",
     "output_type": "stream",
     "text": [
      "Saving results in D:\\videos\\ar33\\2020_11_24...\n",
      "Saving csv poses!\n",
      "Starting to analyze %  D:\\videos\\ar33\\2020_11_24\\Mirror72R.avi\n",
      "D:\\videos\\ar33\\2020_11_24  already exists!\n",
      "Loading  D:\\videos\\ar33\\2020_11_24\\Mirror72R.avi\n",
      "Duration of video [s]:  12.45 , recorded with  40.0 fps!\n",
      "Overall # of frames:  498  found with (before cropping) frame dimensions:  252 300\n",
      "Starting to extract posture\n"
     ]
    },
    {
     "name": "stderr",
     "output_type": "stream",
     "text": [
      " 98%|█████████████████████████████████████████████████████████████████████████████▋ | 490/498 [00:02<00:00, 176.95it/s]"
     ]
    },
    {
     "name": "stdout",
     "output_type": "stream",
     "text": [
      "Detected frames:  498\n"
     ]
    },
    {
     "name": "stderr",
     "output_type": "stream",
     "text": [
      "500it [00:02, 183.90it/s]                                                                                              \n"
     ]
    },
    {
     "name": "stdout",
     "output_type": "stream",
     "text": [
      "Saving results in D:\\videos\\ar33\\2020_11_24...\n",
      "Saving csv poses!\n",
      "Starting to analyze %  D:\\videos\\ar33\\2020_11_24\\Mirror73R.avi\n",
      "D:\\videos\\ar33\\2020_11_24  already exists!\n",
      "Loading  D:\\videos\\ar33\\2020_11_24\\Mirror73R.avi\n",
      "Duration of video [s]:  12.45 , recorded with  40.0 fps!\n",
      "Overall # of frames:  498  found with (before cropping) frame dimensions:  252 300\n",
      "Starting to extract posture\n"
     ]
    },
    {
     "name": "stderr",
     "output_type": "stream",
     "text": [
      " 98%|█████████████████████████████████████████████████████████████████████████████▋ | 490/498 [00:02<00:00, 178.46it/s]"
     ]
    },
    {
     "name": "stdout",
     "output_type": "stream",
     "text": [
      "Detected frames:  498\n"
     ]
    },
    {
     "name": "stderr",
     "output_type": "stream",
     "text": [
      "500it [00:02, 184.88it/s]                                                                                              \n"
     ]
    },
    {
     "name": "stdout",
     "output_type": "stream",
     "text": [
      "Saving results in D:\\videos\\ar33\\2020_11_24...\n",
      "Saving csv poses!\n",
      "Starting to analyze %  D:\\videos\\ar33\\2020_11_24\\Mirror74R.avi\n",
      "D:\\videos\\ar33\\2020_11_24  already exists!\n",
      "Loading  D:\\videos\\ar33\\2020_11_24\\Mirror74R.avi\n",
      "Duration of video [s]:  12.45 , recorded with  40.0 fps!\n",
      "Overall # of frames:  498  found with (before cropping) frame dimensions:  252 300\n",
      "Starting to extract posture\n"
     ]
    },
    {
     "name": "stderr",
     "output_type": "stream",
     "text": [
      " 98%|█████████████████████████████████████████████████████████████████████████████▋ | 490/498 [00:02<00:00, 178.37it/s]"
     ]
    },
    {
     "name": "stdout",
     "output_type": "stream",
     "text": [
      "Detected frames:  498\n"
     ]
    },
    {
     "name": "stderr",
     "output_type": "stream",
     "text": [
      "500it [00:02, 183.91it/s]                                                                                              \n"
     ]
    },
    {
     "name": "stdout",
     "output_type": "stream",
     "text": [
      "Saving results in D:\\videos\\ar33\\2020_11_24...\n",
      "Saving csv poses!\n",
      "Starting to analyze %  D:\\videos\\ar33\\2020_11_24\\Mirror75R.avi\n",
      "D:\\videos\\ar33\\2020_11_24  already exists!\n",
      "Loading  D:\\videos\\ar33\\2020_11_24\\Mirror75R.avi\n",
      "Duration of video [s]:  12.45 , recorded with  40.0 fps!\n",
      "Overall # of frames:  498  found with (before cropping) frame dimensions:  252 300\n",
      "Starting to extract posture\n"
     ]
    },
    {
     "name": "stderr",
     "output_type": "stream",
     "text": [
      " 98%|█████████████████████████████████████████████████████████████████████████████▋ | 490/498 [00:02<00:00, 177.51it/s]"
     ]
    },
    {
     "name": "stdout",
     "output_type": "stream",
     "text": [
      "Detected frames:  498\n"
     ]
    },
    {
     "name": "stderr",
     "output_type": "stream",
     "text": [
      "500it [00:02, 184.38it/s]                                                                                              \n"
     ]
    },
    {
     "name": "stdout",
     "output_type": "stream",
     "text": [
      "Saving results in D:\\videos\\ar33\\2020_11_24...\n",
      "Saving csv poses!\n",
      "Starting to analyze %  D:\\videos\\ar33\\2020_11_24\\Mirror76R.avi\n",
      "D:\\videos\\ar33\\2020_11_24  already exists!\n",
      "Loading  D:\\videos\\ar33\\2020_11_24\\Mirror76R.avi\n",
      "Duration of video [s]:  12.45 , recorded with  40.0 fps!\n",
      "Overall # of frames:  498  found with (before cropping) frame dimensions:  252 300\n",
      "Starting to extract posture\n"
     ]
    },
    {
     "name": "stderr",
     "output_type": "stream",
     "text": [
      " 98%|█████████████████████████████████████████████████████████████████████████████▋ | 490/498 [00:02<00:00, 177.49it/s]"
     ]
    },
    {
     "name": "stdout",
     "output_type": "stream",
     "text": [
      "Detected frames:  498\n"
     ]
    },
    {
     "name": "stderr",
     "output_type": "stream",
     "text": [
      "500it [00:02, 183.30it/s]                                                                                              \n"
     ]
    },
    {
     "name": "stdout",
     "output_type": "stream",
     "text": [
      "Saving results in D:\\videos\\ar33\\2020_11_24...\n",
      "Saving csv poses!\n",
      "Starting to analyze %  D:\\videos\\ar33\\2020_11_24\\Mirror7R.avi\n",
      "D:\\videos\\ar33\\2020_11_24  already exists!\n",
      "Loading  D:\\videos\\ar33\\2020_11_24\\Mirror7R.avi\n",
      "Duration of video [s]:  12.45 , recorded with  40.0 fps!\n",
      "Overall # of frames:  498  found with (before cropping) frame dimensions:  252 300\n",
      "Starting to extract posture\n"
     ]
    },
    {
     "name": "stderr",
     "output_type": "stream",
     "text": [
      " 98%|█████████████████████████████████████████████████████████████████████████████▋ | 490/498 [00:02<00:00, 177.73it/s]"
     ]
    },
    {
     "name": "stdout",
     "output_type": "stream",
     "text": [
      "Detected frames:  498\n"
     ]
    },
    {
     "name": "stderr",
     "output_type": "stream",
     "text": [
      "500it [00:02, 184.11it/s]                                                                                              \n"
     ]
    },
    {
     "name": "stdout",
     "output_type": "stream",
     "text": [
      "Saving results in D:\\videos\\ar33\\2020_11_24...\n",
      "Saving csv poses!\n",
      "Starting to analyze %  D:\\videos\\ar33\\2020_11_24\\Mirror8R.avi\n",
      "D:\\videos\\ar33\\2020_11_24  already exists!\n",
      "Loading  D:\\videos\\ar33\\2020_11_24\\Mirror8R.avi\n",
      "Duration of video [s]:  12.45 , recorded with  40.0 fps!\n",
      "Overall # of frames:  498  found with (before cropping) frame dimensions:  252 300\n",
      "Starting to extract posture\n"
     ]
    },
    {
     "name": "stderr",
     "output_type": "stream",
     "text": [
      " 98%|█████████████████████████████████████████████████████████████████████████████▋ | 490/498 [00:02<00:00, 173.10it/s]"
     ]
    },
    {
     "name": "stdout",
     "output_type": "stream",
     "text": [
      "Detected frames:  498\n"
     ]
    },
    {
     "name": "stderr",
     "output_type": "stream",
     "text": [
      "500it [00:02, 182.96it/s]                                                                                              \n"
     ]
    },
    {
     "name": "stdout",
     "output_type": "stream",
     "text": [
      "Saving results in D:\\videos\\ar33\\2020_11_24...\n",
      "Saving csv poses!\n",
      "Starting to analyze %  D:\\videos\\ar33\\2020_11_24\\Mirror9R.avi\n",
      "D:\\videos\\ar33\\2020_11_24  already exists!\n",
      "Loading  D:\\videos\\ar33\\2020_11_24\\Mirror9R.avi\n",
      "Duration of video [s]:  12.45 , recorded with  40.0 fps!\n",
      "Overall # of frames:  498  found with (before cropping) frame dimensions:  252 300\n",
      "Starting to extract posture\n"
     ]
    },
    {
     "name": "stderr",
     "output_type": "stream",
     "text": [
      "500it [00:02, 178.38it/s]                                                                                              "
     ]
    },
    {
     "name": "stdout",
     "output_type": "stream",
     "text": [
      "Detected frames:  498\n"
     ]
    },
    {
     "name": "stderr",
     "output_type": "stream",
     "text": [
      "500it [00:02, 182.39it/s]\n"
     ]
    },
    {
     "name": "stdout",
     "output_type": "stream",
     "text": [
      "Saving results in D:\\videos\\ar33\\2020_11_24...\n",
      "Saving csv poses!\n",
      "The videos are analyzed. Now your research can truly start! \n",
      " You can create labeled videos with 'create_labeled_video'\n",
      "If the tracking is not satisfactory for some videos, consider expanding the training set. You can use the function 'extract_outlier_frames' to extract a few representative outlier frames.\n",
      "DLC_resnet50_ar33_11_24_20whiskersDec5shuffle1_747000\n",
      "Filtering with median model D:\\videos\\ar33\\2020_11_24\\Mirror10R.avi\n",
      "Saving filtered csv poses!\n",
      "Filtering with median model D:\\videos\\ar33\\2020_11_24\\Mirror11R.avi\n",
      "Saving filtered csv poses!\n",
      "Filtering with median model D:\\videos\\ar33\\2020_11_24\\Mirror12R.avi\n",
      "Saving filtered csv poses!\n",
      "Filtering with median model D:\\videos\\ar33\\2020_11_24\\Mirror13R.avi\n",
      "Saving filtered csv poses!\n",
      "Filtering with median model D:\\videos\\ar33\\2020_11_24\\Mirror14R.avi\n",
      "Saving filtered csv poses!\n",
      "Filtering with median model D:\\videos\\ar33\\2020_11_24\\Mirror15R.avi\n",
      "Saving filtered csv poses!\n",
      "Filtering with median model D:\\videos\\ar33\\2020_11_24\\Mirror16R.avi\n",
      "Saving filtered csv poses!\n",
      "Filtering with median model D:\\videos\\ar33\\2020_11_24\\Mirror17R.avi\n",
      "Saving filtered csv poses!\n",
      "Filtering with median model D:\\videos\\ar33\\2020_11_24\\Mirror18R.avi\n",
      "Saving filtered csv poses!\n",
      "Filtering with median model D:\\videos\\ar33\\2020_11_24\\Mirror19R.avi\n",
      "Saving filtered csv poses!\n",
      "Filtering with median model D:\\videos\\ar33\\2020_11_24\\Mirror1R.avi\n",
      "Saving filtered csv poses!\n",
      "Filtering with median model D:\\videos\\ar33\\2020_11_24\\Mirror20R.avi\n",
      "Saving filtered csv poses!\n",
      "Filtering with median model D:\\videos\\ar33\\2020_11_24\\Mirror21R.avi\n",
      "Saving filtered csv poses!\n",
      "Filtering with median model D:\\videos\\ar33\\2020_11_24\\Mirror22R.avi\n",
      "Saving filtered csv poses!\n",
      "Filtering with median model D:\\videos\\ar33\\2020_11_24\\Mirror23R.avi\n",
      "Saving filtered csv poses!\n",
      "Filtering with median model D:\\videos\\ar33\\2020_11_24\\Mirror24R.avi\n",
      "Saving filtered csv poses!\n",
      "Filtering with median model D:\\videos\\ar33\\2020_11_24\\Mirror25R.avi\n",
      "Saving filtered csv poses!\n",
      "Filtering with median model D:\\videos\\ar33\\2020_11_24\\Mirror26R.avi\n",
      "Saving filtered csv poses!\n",
      "Filtering with median model D:\\videos\\ar33\\2020_11_24\\Mirror27R.avi\n",
      "Saving filtered csv poses!\n",
      "Filtering with median model D:\\videos\\ar33\\2020_11_24\\Mirror28R.avi\n",
      "Saving filtered csv poses!\n",
      "Filtering with median model D:\\videos\\ar33\\2020_11_24\\Mirror29R.avi\n",
      "Saving filtered csv poses!\n",
      "Filtering with median model D:\\videos\\ar33\\2020_11_24\\Mirror2R.avi\n",
      "Saving filtered csv poses!\n",
      "Filtering with median model D:\\videos\\ar33\\2020_11_24\\Mirror30R.avi\n",
      "Saving filtered csv poses!\n",
      "Filtering with median model D:\\videos\\ar33\\2020_11_24\\Mirror31R.avi\n",
      "Saving filtered csv poses!\n",
      "Filtering with median model D:\\videos\\ar33\\2020_11_24\\Mirror32R.avi\n",
      "Saving filtered csv poses!\n",
      "Filtering with median model D:\\videos\\ar33\\2020_11_24\\Mirror33R.avi\n",
      "Saving filtered csv poses!\n",
      "Filtering with median model D:\\videos\\ar33\\2020_11_24\\Mirror34R.avi\n",
      "Saving filtered csv poses!\n",
      "Filtering with median model D:\\videos\\ar33\\2020_11_24\\Mirror35R.avi\n",
      "Saving filtered csv poses!\n",
      "Filtering with median model D:\\videos\\ar33\\2020_11_24\\Mirror36R.avi\n",
      "Saving filtered csv poses!\n",
      "Filtering with median model D:\\videos\\ar33\\2020_11_24\\Mirror37R.avi\n",
      "Saving filtered csv poses!\n",
      "Filtering with median model D:\\videos\\ar33\\2020_11_24\\Mirror38R.avi\n",
      "Saving filtered csv poses!\n",
      "Filtering with median model D:\\videos\\ar33\\2020_11_24\\Mirror39R.avi\n",
      "Saving filtered csv poses!\n",
      "Filtering with median model D:\\videos\\ar33\\2020_11_24\\Mirror3R.avi\n",
      "Saving filtered csv poses!\n",
      "Filtering with median model D:\\videos\\ar33\\2020_11_24\\Mirror40R.avi\n",
      "Saving filtered csv poses!\n",
      "Filtering with median model D:\\videos\\ar33\\2020_11_24\\Mirror41R.avi\n",
      "Saving filtered csv poses!\n",
      "Filtering with median model D:\\videos\\ar33\\2020_11_24\\Mirror42R.avi\n",
      "Saving filtered csv poses!\n",
      "Filtering with median model D:\\videos\\ar33\\2020_11_24\\Mirror43R.avi\n",
      "Saving filtered csv poses!\n",
      "Filtering with median model D:\\videos\\ar33\\2020_11_24\\Mirror44R.avi\n",
      "Saving filtered csv poses!\n",
      "Filtering with median model D:\\videos\\ar33\\2020_11_24\\Mirror45R.avi\n",
      "Saving filtered csv poses!\n",
      "Filtering with median model D:\\videos\\ar33\\2020_11_24\\Mirror46R.avi\n",
      "Saving filtered csv poses!\n",
      "Filtering with median model D:\\videos\\ar33\\2020_11_24\\Mirror47R.avi\n",
      "Saving filtered csv poses!\n",
      "Filtering with median model D:\\videos\\ar33\\2020_11_24\\Mirror48R.avi\n",
      "Saving filtered csv poses!\n",
      "Filtering with median model D:\\videos\\ar33\\2020_11_24\\Mirror49R.avi\n",
      "Saving filtered csv poses!\n",
      "Filtering with median model D:\\videos\\ar33\\2020_11_24\\Mirror4R.avi\n",
      "Saving filtered csv poses!\n",
      "Filtering with median model D:\\videos\\ar33\\2020_11_24\\Mirror50R.avi\n",
      "Saving filtered csv poses!\n",
      "Filtering with median model D:\\videos\\ar33\\2020_11_24\\Mirror51R.avi\n",
      "Saving filtered csv poses!\n",
      "Filtering with median model D:\\videos\\ar33\\2020_11_24\\Mirror52R.avi\n",
      "Saving filtered csv poses!\n",
      "Filtering with median model D:\\videos\\ar33\\2020_11_24\\Mirror53R.avi\n",
      "Saving filtered csv poses!\n",
      "Filtering with median model D:\\videos\\ar33\\2020_11_24\\Mirror54R.avi\n",
      "Saving filtered csv poses!\n",
      "Filtering with median model D:\\videos\\ar33\\2020_11_24\\Mirror55R.avi\n",
      "Saving filtered csv poses!\n",
      "Filtering with median model D:\\videos\\ar33\\2020_11_24\\Mirror56R.avi\n",
      "Saving filtered csv poses!\n",
      "Filtering with median model D:\\videos\\ar33\\2020_11_24\\Mirror57R.avi\n",
      "Saving filtered csv poses!\n",
      "Filtering with median model D:\\videos\\ar33\\2020_11_24\\Mirror58R.avi\n",
      "Saving filtered csv poses!\n",
      "Filtering with median model D:\\videos\\ar33\\2020_11_24\\Mirror59R.avi\n",
      "Saving filtered csv poses!\n",
      "Filtering with median model D:\\videos\\ar33\\2020_11_24\\Mirror60R.avi\n",
      "Saving filtered csv poses!\n",
      "Filtering with median model D:\\videos\\ar33\\2020_11_24\\Mirror61R.avi\n",
      "Saving filtered csv poses!\n",
      "Filtering with median model D:\\videos\\ar33\\2020_11_24\\Mirror62R.avi\n",
      "Saving filtered csv poses!\n",
      "Filtering with median model D:\\videos\\ar33\\2020_11_24\\Mirror63R.avi\n",
      "Saving filtered csv poses!\n",
      "Filtering with median model D:\\videos\\ar33\\2020_11_24\\Mirror64R.avi\n",
      "Saving filtered csv poses!\n",
      "Filtering with median model D:\\videos\\ar33\\2020_11_24\\Mirror65R.avi\n",
      "Saving filtered csv poses!\n",
      "Filtering with median model D:\\videos\\ar33\\2020_11_24\\Mirror66R.avi\n",
      "Saving filtered csv poses!\n",
      "Filtering with median model D:\\videos\\ar33\\2020_11_24\\Mirror67R.avi\n",
      "Saving filtered csv poses!\n",
      "Filtering with median model D:\\videos\\ar33\\2020_11_24\\Mirror68R.avi\n",
      "Saving filtered csv poses!\n",
      "Filtering with median model D:\\videos\\ar33\\2020_11_24\\Mirror69R.avi\n",
      "Saving filtered csv poses!\n",
      "Filtering with median model D:\\videos\\ar33\\2020_11_24\\Mirror6R.avi\n",
      "Saving filtered csv poses!\n",
      "Filtering with median model D:\\videos\\ar33\\2020_11_24\\Mirror70R.avi\n",
      "Saving filtered csv poses!\n",
      "Filtering with median model D:\\videos\\ar33\\2020_11_24\\Mirror71R.avi\n",
      "Saving filtered csv poses!\n",
      "Filtering with median model D:\\videos\\ar33\\2020_11_24\\Mirror72R.avi\n",
      "Saving filtered csv poses!\n",
      "Filtering with median model D:\\videos\\ar33\\2020_11_24\\Mirror73R.avi\n",
      "Saving filtered csv poses!\n",
      "Filtering with median model D:\\videos\\ar33\\2020_11_24\\Mirror74R.avi\n",
      "Saving filtered csv poses!\n",
      "Filtering with median model D:\\videos\\ar33\\2020_11_24\\Mirror75R.avi\n",
      "Saving filtered csv poses!\n",
      "Filtering with median model D:\\videos\\ar33\\2020_11_24\\Mirror76R.avi\n",
      "Saving filtered csv poses!\n",
      "Filtering with median model D:\\videos\\ar33\\2020_11_24\\Mirror7R.avi\n",
      "Saving filtered csv poses!\n",
      "Filtering with median model D:\\videos\\ar33\\2020_11_24\\Mirror8R.avi\n",
      "Saving filtered csv poses!\n",
      "Filtering with median model D:\\videos\\ar33\\2020_11_24\\Mirror9R.avi\n",
      "Saving filtered csv poses!\n",
      "Using snapshot-747000 for model D:\\videos\\ar33\\2020_11_24\\ar33_11_24_20whiskers-Arash-2020-12-05\\dlc-models\\iteration-0\\ar33_11_24_20whiskersDec5-trainset95shuffle1\n",
      "Initializing ResNet\n",
      "Starting to analyze %  D:\\videos\\ar33\\2020_11_24\\Mask10L.avi\n",
      "D:\\videos\\ar33\\2020_11_24  already exists!\n",
      "Loading  D:\\videos\\ar33\\2020_11_24\\Mask10L.avi\n",
      "Duration of video [s]:  12.45 , recorded with  40.0 fps!\n",
      "Overall # of frames:  498  found with (before cropping) frame dimensions:  250 300\n",
      "Starting to extract posture\n"
     ]
    },
    {
     "name": "stderr",
     "output_type": "stream",
     "text": [
      " 96%|████████████████████████████████████████████████████████████████████████████▏  | 480/498 [00:02<00:00, 195.55it/s]"
     ]
    },
    {
     "name": "stdout",
     "output_type": "stream",
     "text": [
      "Detected frames:  498\n"
     ]
    },
    {
     "name": "stderr",
     "output_type": "stream",
     "text": [
      "500it [00:02, 170.58it/s]                                                                                              \n"
     ]
    },
    {
     "name": "stdout",
     "output_type": "stream",
     "text": [
      "Saving results in D:\\videos\\ar33\\2020_11_24...\n",
      "Saving csv poses!\n",
      "Starting to analyze %  D:\\videos\\ar33\\2020_11_24\\Mask11L.avi\n",
      "D:\\videos\\ar33\\2020_11_24  already exists!\n",
      "Loading  D:\\videos\\ar33\\2020_11_24\\Mask11L.avi\n",
      "Duration of video [s]:  12.45 , recorded with  40.0 fps!\n",
      "Overall # of frames:  498  found with (before cropping) frame dimensions:  250 300\n",
      "Starting to extract posture\n"
     ]
    },
    {
     "name": "stderr",
     "output_type": "stream",
     "text": [
      " 98%|█████████████████████████████████████████████████████████████████████████████▋ | 490/498 [00:02<00:00, 182.01it/s]"
     ]
    },
    {
     "name": "stdout",
     "output_type": "stream",
     "text": [
      "Detected frames:  498\n"
     ]
    },
    {
     "name": "stderr",
     "output_type": "stream",
     "text": [
      "500it [00:02, 191.42it/s]                                                                                              \n"
     ]
    },
    {
     "name": "stdout",
     "output_type": "stream",
     "text": [
      "Saving results in D:\\videos\\ar33\\2020_11_24...\n",
      "Saving csv poses!\n",
      "Starting to analyze %  D:\\videos\\ar33\\2020_11_24\\Mask12L.avi\n",
      "D:\\videos\\ar33\\2020_11_24  already exists!\n",
      "Loading  D:\\videos\\ar33\\2020_11_24\\Mask12L.avi\n",
      "Duration of video [s]:  12.45 , recorded with  40.0 fps!\n",
      "Overall # of frames:  498  found with (before cropping) frame dimensions:  250 300\n",
      "Starting to extract posture\n"
     ]
    },
    {
     "name": "stderr",
     "output_type": "stream",
     "text": [
      " 98%|█████████████████████████████████████████████████████████████████████████████▋ | 490/498 [00:02<00:00, 182.80it/s]"
     ]
    },
    {
     "name": "stdout",
     "output_type": "stream",
     "text": [
      "Detected frames:  498\n"
     ]
    },
    {
     "name": "stderr",
     "output_type": "stream",
     "text": [
      "500it [00:02, 189.32it/s]                                                                                              \n"
     ]
    },
    {
     "name": "stdout",
     "output_type": "stream",
     "text": [
      "Saving results in D:\\videos\\ar33\\2020_11_24...\n",
      "Saving csv poses!\n",
      "Starting to analyze %  D:\\videos\\ar33\\2020_11_24\\Mask13L.avi\n",
      "D:\\videos\\ar33\\2020_11_24  already exists!\n",
      "Loading  D:\\videos\\ar33\\2020_11_24\\Mask13L.avi\n",
      "Duration of video [s]:  12.45 , recorded with  40.0 fps!\n",
      "Overall # of frames:  498  found with (before cropping) frame dimensions:  250 300\n",
      "Starting to extract posture\n"
     ]
    },
    {
     "name": "stderr",
     "output_type": "stream",
     "text": [
      " 98%|█████████████████████████████████████████████████████████████████████████████▋ | 490/498 [00:02<00:00, 180.04it/s]"
     ]
    },
    {
     "name": "stdout",
     "output_type": "stream",
     "text": [
      "Detected frames:  498\n"
     ]
    },
    {
     "name": "stderr",
     "output_type": "stream",
     "text": [
      "500it [00:02, 186.09it/s]                                                                                              \n"
     ]
    },
    {
     "name": "stdout",
     "output_type": "stream",
     "text": [
      "Saving results in D:\\videos\\ar33\\2020_11_24...\n",
      "Saving csv poses!\n",
      "Starting to analyze %  D:\\videos\\ar33\\2020_11_24\\Mask14L.avi\n",
      "D:\\videos\\ar33\\2020_11_24  already exists!\n",
      "Loading  D:\\videos\\ar33\\2020_11_24\\Mask14L.avi\n",
      "Duration of video [s]:  12.45 , recorded with  40.0 fps!\n",
      "Overall # of frames:  498  found with (before cropping) frame dimensions:  250 300\n",
      "Starting to extract posture\n"
     ]
    },
    {
     "name": "stderr",
     "output_type": "stream",
     "text": [
      "500it [00:02, 178.21it/s]                                                                                              "
     ]
    },
    {
     "name": "stdout",
     "output_type": "stream",
     "text": [
      "Detected frames:  498\n"
     ]
    },
    {
     "name": "stderr",
     "output_type": "stream",
     "text": [
      "500it [00:02, 180.63it/s]\n"
     ]
    },
    {
     "name": "stdout",
     "output_type": "stream",
     "text": [
      "Saving results in D:\\videos\\ar33\\2020_11_24...\n",
      "Saving csv poses!\n",
      "Starting to analyze %  D:\\videos\\ar33\\2020_11_24\\Mask15L.avi\n",
      "D:\\videos\\ar33\\2020_11_24  already exists!\n",
      "Loading  D:\\videos\\ar33\\2020_11_24\\Mask15L.avi\n",
      "Duration of video [s]:  12.45 , recorded with  40.0 fps!\n",
      "Overall # of frames:  498  found with (before cropping) frame dimensions:  250 300\n",
      "Starting to extract posture\n"
     ]
    },
    {
     "name": "stderr",
     "output_type": "stream",
     "text": [
      " 98%|█████████████████████████████████████████████████████████████████████████████▋ | 490/498 [00:02<00:00, 179.20it/s]"
     ]
    },
    {
     "name": "stdout",
     "output_type": "stream",
     "text": [
      "Detected frames:  498\n"
     ]
    },
    {
     "name": "stderr",
     "output_type": "stream",
     "text": [
      "500it [00:02, 185.20it/s]                                                                                              \n"
     ]
    },
    {
     "name": "stdout",
     "output_type": "stream",
     "text": [
      "Saving results in D:\\videos\\ar33\\2020_11_24...\n",
      "Saving csv poses!\n",
      "Starting to analyze %  D:\\videos\\ar33\\2020_11_24\\Mask16L.avi\n",
      "D:\\videos\\ar33\\2020_11_24  already exists!\n",
      "Loading  D:\\videos\\ar33\\2020_11_24\\Mask16L.avi\n",
      "Duration of video [s]:  12.45 , recorded with  40.0 fps!\n",
      "Overall # of frames:  498  found with (before cropping) frame dimensions:  250 300\n",
      "Starting to extract posture\n"
     ]
    },
    {
     "name": "stderr",
     "output_type": "stream",
     "text": [
      " 98%|█████████████████████████████████████████████████████████████████████████████▋ | 490/498 [00:02<00:00, 176.74it/s]"
     ]
    },
    {
     "name": "stdout",
     "output_type": "stream",
     "text": [
      "Detected frames:  498\n"
     ]
    },
    {
     "name": "stderr",
     "output_type": "stream",
     "text": [
      "500it [00:02, 184.68it/s]                                                                                              \n"
     ]
    },
    {
     "name": "stdout",
     "output_type": "stream",
     "text": [
      "Saving results in D:\\videos\\ar33\\2020_11_24...\n",
      "Saving csv poses!\n",
      "Starting to analyze %  D:\\videos\\ar33\\2020_11_24\\Mask17L.avi\n",
      "D:\\videos\\ar33\\2020_11_24  already exists!\n",
      "Loading  D:\\videos\\ar33\\2020_11_24\\Mask17L.avi\n",
      "Duration of video [s]:  12.45 , recorded with  40.0 fps!\n",
      "Overall # of frames:  498  found with (before cropping) frame dimensions:  250 300\n",
      "Starting to extract posture\n"
     ]
    },
    {
     "name": "stderr",
     "output_type": "stream",
     "text": [
      " 98%|█████████████████████████████████████████████████████████████████████████████▋ | 490/498 [00:02<00:00, 180.33it/s]"
     ]
    },
    {
     "name": "stdout",
     "output_type": "stream",
     "text": [
      "Detected frames:  498\n"
     ]
    },
    {
     "name": "stderr",
     "output_type": "stream",
     "text": [
      "500it [00:02, 184.41it/s]                                                                                              \n"
     ]
    },
    {
     "name": "stdout",
     "output_type": "stream",
     "text": [
      "Saving results in D:\\videos\\ar33\\2020_11_24...\n",
      "Saving csv poses!\n",
      "Starting to analyze %  D:\\videos\\ar33\\2020_11_24\\Mask18L.avi\n",
      "D:\\videos\\ar33\\2020_11_24  already exists!\n",
      "Loading  D:\\videos\\ar33\\2020_11_24\\Mask18L.avi\n",
      "Duration of video [s]:  12.45 , recorded with  40.0 fps!\n",
      "Overall # of frames:  498  found with (before cropping) frame dimensions:  250 300\n",
      "Starting to extract posture\n"
     ]
    },
    {
     "name": "stderr",
     "output_type": "stream",
     "text": [
      " 98%|█████████████████████████████████████████████████████████████████████████████▋ | 490/498 [00:02<00:00, 177.11it/s]"
     ]
    },
    {
     "name": "stdout",
     "output_type": "stream",
     "text": [
      "Detected frames:  498\n"
     ]
    },
    {
     "name": "stderr",
     "output_type": "stream",
     "text": [
      "500it [00:02, 183.33it/s]                                                                                              \n"
     ]
    },
    {
     "name": "stdout",
     "output_type": "stream",
     "text": [
      "Saving results in D:\\videos\\ar33\\2020_11_24...\n",
      "Saving csv poses!\n",
      "Starting to analyze %  D:\\videos\\ar33\\2020_11_24\\Mask19L.avi\n",
      "D:\\videos\\ar33\\2020_11_24  already exists!\n",
      "Loading  D:\\videos\\ar33\\2020_11_24\\Mask19L.avi\n",
      "Duration of video [s]:  12.45 , recorded with  40.0 fps!\n",
      "Overall # of frames:  498  found with (before cropping) frame dimensions:  250 300\n",
      "Starting to extract posture\n"
     ]
    },
    {
     "name": "stderr",
     "output_type": "stream",
     "text": [
      " 98%|█████████████████████████████████████████████████████████████████████████████▋ | 490/498 [00:02<00:00, 176.71it/s]"
     ]
    },
    {
     "name": "stdout",
     "output_type": "stream",
     "text": [
      "Detected frames:  498\n"
     ]
    },
    {
     "name": "stderr",
     "output_type": "stream",
     "text": [
      "500it [00:02, 182.40it/s]                                                                                              \n"
     ]
    },
    {
     "name": "stdout",
     "output_type": "stream",
     "text": [
      "Saving results in D:\\videos\\ar33\\2020_11_24...\n",
      "Saving csv poses!\n",
      "Starting to analyze %  D:\\videos\\ar33\\2020_11_24\\Mask1L.avi\n",
      "D:\\videos\\ar33\\2020_11_24  already exists!\n",
      "Loading  D:\\videos\\ar33\\2020_11_24\\Mask1L.avi\n",
      "Duration of video [s]:  12.45 , recorded with  40.0 fps!\n",
      "Overall # of frames:  498  found with (before cropping) frame dimensions:  250 300\n",
      "Starting to extract posture\n"
     ]
    },
    {
     "name": "stderr",
     "output_type": "stream",
     "text": [
      " 98%|█████████████████████████████████████████████████████████████████████████████▋ | 490/498 [00:02<00:00, 176.75it/s]"
     ]
    },
    {
     "name": "stdout",
     "output_type": "stream",
     "text": [
      "Detected frames:  498\n"
     ]
    },
    {
     "name": "stderr",
     "output_type": "stream",
     "text": [
      "500it [00:02, 183.23it/s]                                                                                              \n"
     ]
    },
    {
     "name": "stdout",
     "output_type": "stream",
     "text": [
      "Saving results in D:\\videos\\ar33\\2020_11_24...\n",
      "Saving csv poses!\n",
      "Starting to analyze %  D:\\videos\\ar33\\2020_11_24\\Mask20L.avi\n",
      "D:\\videos\\ar33\\2020_11_24  already exists!\n",
      "Loading  D:\\videos\\ar33\\2020_11_24\\Mask20L.avi\n",
      "Duration of video [s]:  12.45 , recorded with  40.0 fps!\n",
      "Overall # of frames:  498  found with (before cropping) frame dimensions:  250 300\n",
      "Starting to extract posture\n"
     ]
    },
    {
     "name": "stderr",
     "output_type": "stream",
     "text": [
      " 98%|█████████████████████████████████████████████████████████████████████████████▋ | 490/498 [00:02<00:00, 176.51it/s]"
     ]
    },
    {
     "name": "stdout",
     "output_type": "stream",
     "text": [
      "Detected frames:  498\n"
     ]
    },
    {
     "name": "stderr",
     "output_type": "stream",
     "text": [
      "500it [00:02, 182.59it/s]                                                                                              \n"
     ]
    },
    {
     "name": "stdout",
     "output_type": "stream",
     "text": [
      "Saving results in D:\\videos\\ar33\\2020_11_24...\n",
      "Saving csv poses!\n",
      "Starting to analyze %  D:\\videos\\ar33\\2020_11_24\\Mask21L.avi\n",
      "D:\\videos\\ar33\\2020_11_24  already exists!\n",
      "Loading  D:\\videos\\ar33\\2020_11_24\\Mask21L.avi\n",
      "Duration of video [s]:  12.45 , recorded with  40.0 fps!\n",
      "Overall # of frames:  498  found with (before cropping) frame dimensions:  250 300\n",
      "Starting to extract posture\n"
     ]
    },
    {
     "name": "stderr",
     "output_type": "stream",
     "text": [
      " 98%|█████████████████████████████████████████████████████████████████████████████▋ | 490/498 [00:02<00:00, 175.89it/s]"
     ]
    },
    {
     "name": "stdout",
     "output_type": "stream",
     "text": [
      "Detected frames:  498\n"
     ]
    },
    {
     "name": "stderr",
     "output_type": "stream",
     "text": [
      "500it [00:02, 182.63it/s]                                                                                              \n"
     ]
    },
    {
     "name": "stdout",
     "output_type": "stream",
     "text": [
      "Saving results in D:\\videos\\ar33\\2020_11_24...\n",
      "Saving csv poses!\n",
      "Starting to analyze %  D:\\videos\\ar33\\2020_11_24\\Mask22L.avi\n",
      "D:\\videos\\ar33\\2020_11_24  already exists!\n",
      "Loading  D:\\videos\\ar33\\2020_11_24\\Mask22L.avi\n",
      "Duration of video [s]:  12.45 , recorded with  40.0 fps!\n",
      "Overall # of frames:  498  found with (before cropping) frame dimensions:  250 300\n",
      "Starting to extract posture\n"
     ]
    },
    {
     "name": "stderr",
     "output_type": "stream",
     "text": [
      " 98%|█████████████████████████████████████████████████████████████████████████████▋ | 490/498 [00:02<00:00, 175.90it/s]"
     ]
    },
    {
     "name": "stdout",
     "output_type": "stream",
     "text": [
      "Detected frames:  498\n"
     ]
    },
    {
     "name": "stderr",
     "output_type": "stream",
     "text": [
      "500it [00:02, 182.83it/s]                                                                                              \n"
     ]
    },
    {
     "name": "stdout",
     "output_type": "stream",
     "text": [
      "Saving results in D:\\videos\\ar33\\2020_11_24...\n",
      "Saving csv poses!\n",
      "Starting to analyze %  D:\\videos\\ar33\\2020_11_24\\Mask23L.avi\n",
      "D:\\videos\\ar33\\2020_11_24  already exists!\n",
      "Loading  D:\\videos\\ar33\\2020_11_24\\Mask23L.avi\n",
      "Duration of video [s]:  12.45 , recorded with  40.0 fps!\n",
      "Overall # of frames:  498  found with (before cropping) frame dimensions:  250 300\n",
      "Starting to extract posture\n"
     ]
    },
    {
     "name": "stderr",
     "output_type": "stream",
     "text": [
      " 98%|█████████████████████████████████████████████████████████████████████████████▋ | 490/498 [00:02<00:00, 178.18it/s]"
     ]
    },
    {
     "name": "stdout",
     "output_type": "stream",
     "text": [
      "Detected frames:  498\n"
     ]
    },
    {
     "name": "stderr",
     "output_type": "stream",
     "text": [
      "500it [00:02, 182.70it/s]                                                                                              \n"
     ]
    },
    {
     "name": "stdout",
     "output_type": "stream",
     "text": [
      "Saving results in D:\\videos\\ar33\\2020_11_24...\n",
      "Saving csv poses!\n",
      "Starting to analyze %  D:\\videos\\ar33\\2020_11_24\\Mask24L.avi\n",
      "D:\\videos\\ar33\\2020_11_24  already exists!\n",
      "Loading  D:\\videos\\ar33\\2020_11_24\\Mask24L.avi\n",
      "Duration of video [s]:  12.45 , recorded with  40.0 fps!\n",
      "Overall # of frames:  498  found with (before cropping) frame dimensions:  250 300\n",
      "Starting to extract posture\n"
     ]
    },
    {
     "name": "stderr",
     "output_type": "stream",
     "text": [
      " 98%|█████████████████████████████████████████████████████████████████████████████▋ | 490/498 [00:02<00:00, 175.66it/s]"
     ]
    },
    {
     "name": "stdout",
     "output_type": "stream",
     "text": [
      "Detected frames:  498\n"
     ]
    },
    {
     "name": "stderr",
     "output_type": "stream",
     "text": [
      "500it [00:02, 182.60it/s]                                                                                              \n"
     ]
    },
    {
     "name": "stdout",
     "output_type": "stream",
     "text": [
      "Saving results in D:\\videos\\ar33\\2020_11_24...\n",
      "Saving csv poses!\n",
      "Starting to analyze %  D:\\videos\\ar33\\2020_11_24\\Mask25L.avi\n",
      "D:\\videos\\ar33\\2020_11_24  already exists!\n",
      "Loading  D:\\videos\\ar33\\2020_11_24\\Mask25L.avi\n",
      "Duration of video [s]:  12.45 , recorded with  40.0 fps!\n",
      "Overall # of frames:  498  found with (before cropping) frame dimensions:  250 300\n",
      "Starting to extract posture\n"
     ]
    },
    {
     "name": "stderr",
     "output_type": "stream",
     "text": [
      " 98%|█████████████████████████████████████████████████████████████████████████████▋ | 490/498 [00:02<00:00, 175.38it/s]"
     ]
    },
    {
     "name": "stdout",
     "output_type": "stream",
     "text": [
      "Detected frames:  498\n"
     ]
    },
    {
     "name": "stderr",
     "output_type": "stream",
     "text": [
      "500it [00:02, 182.01it/s]                                                                                              \n"
     ]
    },
    {
     "name": "stdout",
     "output_type": "stream",
     "text": [
      "Saving results in D:\\videos\\ar33\\2020_11_24...\n",
      "Saving csv poses!\n",
      "Starting to analyze %  D:\\videos\\ar33\\2020_11_24\\Mask26L.avi\n",
      "D:\\videos\\ar33\\2020_11_24  already exists!\n",
      "Loading  D:\\videos\\ar33\\2020_11_24\\Mask26L.avi\n",
      "Duration of video [s]:  12.45 , recorded with  40.0 fps!\n",
      "Overall # of frames:  498  found with (before cropping) frame dimensions:  250 300\n",
      "Starting to extract posture\n"
     ]
    },
    {
     "name": "stderr",
     "output_type": "stream",
     "text": [
      " 98%|█████████████████████████████████████████████████████████████████████████████▋ | 490/498 [00:02<00:00, 175.46it/s]"
     ]
    },
    {
     "name": "stdout",
     "output_type": "stream",
     "text": [
      "Detected frames:  498\n"
     ]
    },
    {
     "name": "stderr",
     "output_type": "stream",
     "text": [
      "500it [00:02, 182.04it/s]                                                                                              \n"
     ]
    },
    {
     "name": "stdout",
     "output_type": "stream",
     "text": [
      "Saving results in D:\\videos\\ar33\\2020_11_24...\n",
      "Saving csv poses!\n",
      "Starting to analyze %  D:\\videos\\ar33\\2020_11_24\\Mask27L.avi\n",
      "D:\\videos\\ar33\\2020_11_24  already exists!\n",
      "Loading  D:\\videos\\ar33\\2020_11_24\\Mask27L.avi\n",
      "Duration of video [s]:  12.45 , recorded with  40.0 fps!\n",
      "Overall # of frames:  498  found with (before cropping) frame dimensions:  250 300\n",
      "Starting to extract posture\n"
     ]
    },
    {
     "name": "stderr",
     "output_type": "stream",
     "text": [
      " 98%|█████████████████████████████████████████████████████████████████████████████▋ | 490/498 [00:02<00:00, 175.22it/s]"
     ]
    },
    {
     "name": "stdout",
     "output_type": "stream",
     "text": [
      "Detected frames:  498\n"
     ]
    },
    {
     "name": "stderr",
     "output_type": "stream",
     "text": [
      "500it [00:02, 181.87it/s]                                                                                              \n"
     ]
    },
    {
     "name": "stdout",
     "output_type": "stream",
     "text": [
      "Saving results in D:\\videos\\ar33\\2020_11_24...\n",
      "Saving csv poses!\n",
      "Starting to analyze %  D:\\videos\\ar33\\2020_11_24\\Mask28L.avi\n",
      "D:\\videos\\ar33\\2020_11_24  already exists!\n",
      "Loading  D:\\videos\\ar33\\2020_11_24\\Mask28L.avi\n",
      "Duration of video [s]:  12.45 , recorded with  40.0 fps!\n",
      "Overall # of frames:  498  found with (before cropping) frame dimensions:  250 300\n",
      "Starting to extract posture\n"
     ]
    },
    {
     "name": "stderr",
     "output_type": "stream",
     "text": [
      " 98%|█████████████████████████████████████████████████████████████████████████████▋ | 490/498 [00:02<00:00, 175.23it/s]"
     ]
    },
    {
     "name": "stdout",
     "output_type": "stream",
     "text": [
      "Detected frames:  498\n"
     ]
    },
    {
     "name": "stderr",
     "output_type": "stream",
     "text": [
      "500it [00:02, 181.81it/s]                                                                                              \n"
     ]
    },
    {
     "name": "stdout",
     "output_type": "stream",
     "text": [
      "Saving results in D:\\videos\\ar33\\2020_11_24...\n",
      "Saving csv poses!\n",
      "Starting to analyze %  D:\\videos\\ar33\\2020_11_24\\Mask29L.avi\n",
      "D:\\videos\\ar33\\2020_11_24  already exists!\n",
      "Loading  D:\\videos\\ar33\\2020_11_24\\Mask29L.avi\n",
      "Duration of video [s]:  12.45 , recorded with  40.0 fps!\n",
      "Overall # of frames:  498  found with (before cropping) frame dimensions:  250 300\n",
      "Starting to extract posture\n"
     ]
    },
    {
     "name": "stderr",
     "output_type": "stream",
     "text": [
      " 98%|█████████████████████████████████████████████████████████████████████████████▋ | 490/498 [00:02<00:00, 174.92it/s]"
     ]
    },
    {
     "name": "stdout",
     "output_type": "stream",
     "text": [
      "Detected frames:  498\n"
     ]
    },
    {
     "name": "stderr",
     "output_type": "stream",
     "text": [
      "500it [00:02, 181.35it/s]                                                                                              \n"
     ]
    },
    {
     "name": "stdout",
     "output_type": "stream",
     "text": [
      "Saving results in D:\\videos\\ar33\\2020_11_24...\n",
      "Saving csv poses!\n",
      "Starting to analyze %  D:\\videos\\ar33\\2020_11_24\\Mask2L.avi\n",
      "D:\\videos\\ar33\\2020_11_24  already exists!\n",
      "Loading  D:\\videos\\ar33\\2020_11_24\\Mask2L.avi\n",
      "Duration of video [s]:  12.45 , recorded with  40.0 fps!\n",
      "Overall # of frames:  498  found with (before cropping) frame dimensions:  250 300\n",
      "Starting to extract posture\n"
     ]
    },
    {
     "name": "stderr",
     "output_type": "stream",
     "text": [
      " 98%|█████████████████████████████████████████████████████████████████████████████▋ | 490/498 [00:02<00:00, 175.80it/s]"
     ]
    },
    {
     "name": "stdout",
     "output_type": "stream",
     "text": [
      "Detected frames:  498\n"
     ]
    },
    {
     "name": "stderr",
     "output_type": "stream",
     "text": [
      "500it [00:02, 181.64it/s]                                                                                              \n"
     ]
    },
    {
     "name": "stdout",
     "output_type": "stream",
     "text": [
      "Saving results in D:\\videos\\ar33\\2020_11_24...\n",
      "Saving csv poses!\n",
      "Starting to analyze %  D:\\videos\\ar33\\2020_11_24\\Mask30L.avi\n",
      "D:\\videos\\ar33\\2020_11_24  already exists!\n",
      "Loading  D:\\videos\\ar33\\2020_11_24\\Mask30L.avi\n",
      "Duration of video [s]:  12.45 , recorded with  40.0 fps!\n",
      "Overall # of frames:  498  found with (before cropping) frame dimensions:  250 300\n",
      "Starting to extract posture\n"
     ]
    },
    {
     "name": "stderr",
     "output_type": "stream",
     "text": [
      " 98%|█████████████████████████████████████████████████████████████████████████████▋ | 490/498 [00:02<00:00, 174.95it/s]"
     ]
    },
    {
     "name": "stdout",
     "output_type": "stream",
     "text": [
      "Detected frames:  498\n"
     ]
    },
    {
     "name": "stderr",
     "output_type": "stream",
     "text": [
      "500it [00:02, 181.65it/s]                                                                                              \n"
     ]
    },
    {
     "name": "stdout",
     "output_type": "stream",
     "text": [
      "Saving results in D:\\videos\\ar33\\2020_11_24...\n",
      "Saving csv poses!\n",
      "Starting to analyze %  D:\\videos\\ar33\\2020_11_24\\Mask31L.avi\n",
      "D:\\videos\\ar33\\2020_11_24  already exists!\n",
      "Loading  D:\\videos\\ar33\\2020_11_24\\Mask31L.avi\n",
      "Duration of video [s]:  12.45 , recorded with  40.0 fps!\n",
      "Overall # of frames:  498  found with (before cropping) frame dimensions:  250 300\n",
      "Starting to extract posture\n"
     ]
    },
    {
     "name": "stderr",
     "output_type": "stream",
     "text": [
      " 98%|█████████████████████████████████████████████████████████████████████████████▋ | 490/498 [00:02<00:00, 174.43it/s]"
     ]
    },
    {
     "name": "stdout",
     "output_type": "stream",
     "text": [
      "Detected frames:  498\n"
     ]
    },
    {
     "name": "stderr",
     "output_type": "stream",
     "text": [
      "500it [00:02, 180.14it/s]                                                                                              \n"
     ]
    },
    {
     "name": "stdout",
     "output_type": "stream",
     "text": [
      "Saving results in D:\\videos\\ar33\\2020_11_24...\n",
      "Saving csv poses!\n",
      "Starting to analyze %  D:\\videos\\ar33\\2020_11_24\\Mask32L.avi\n",
      "D:\\videos\\ar33\\2020_11_24  already exists!\n",
      "Loading  D:\\videos\\ar33\\2020_11_24\\Mask32L.avi\n",
      "Duration of video [s]:  12.45 , recorded with  40.0 fps!\n",
      "Overall # of frames:  498  found with (before cropping) frame dimensions:  250 300\n",
      "Starting to extract posture\n"
     ]
    },
    {
     "name": "stderr",
     "output_type": "stream",
     "text": [
      " 98%|█████████████████████████████████████████████████████████████████████████████▋ | 490/498 [00:02<00:00, 176.42it/s]"
     ]
    },
    {
     "name": "stdout",
     "output_type": "stream",
     "text": [
      "Detected frames:  498\n"
     ]
    },
    {
     "name": "stderr",
     "output_type": "stream",
     "text": [
      "500it [00:02, 181.71it/s]                                                                                              \n"
     ]
    },
    {
     "name": "stdout",
     "output_type": "stream",
     "text": [
      "Saving results in D:\\videos\\ar33\\2020_11_24...\n",
      "Saving csv poses!\n",
      "Starting to analyze %  D:\\videos\\ar33\\2020_11_24\\Mask33L.avi\n",
      "D:\\videos\\ar33\\2020_11_24  already exists!\n",
      "Loading  D:\\videos\\ar33\\2020_11_24\\Mask33L.avi\n",
      "Duration of video [s]:  12.45 , recorded with  40.0 fps!\n",
      "Overall # of frames:  498  found with (before cropping) frame dimensions:  250 300\n",
      "Starting to extract posture\n"
     ]
    },
    {
     "name": "stderr",
     "output_type": "stream",
     "text": [
      " 98%|█████████████████████████████████████████████████████████████████████████████▋ | 490/498 [00:02<00:00, 177.74it/s]"
     ]
    },
    {
     "name": "stdout",
     "output_type": "stream",
     "text": [
      "Detected frames:  498\n"
     ]
    },
    {
     "name": "stderr",
     "output_type": "stream",
     "text": [
      "500it [00:02, 182.87it/s]                                                                                              \n"
     ]
    },
    {
     "name": "stdout",
     "output_type": "stream",
     "text": [
      "Saving results in D:\\videos\\ar33\\2020_11_24...\n",
      "Saving csv poses!\n",
      "Starting to analyze %  D:\\videos\\ar33\\2020_11_24\\Mask34L.avi\n",
      "D:\\videos\\ar33\\2020_11_24  already exists!\n",
      "Loading  D:\\videos\\ar33\\2020_11_24\\Mask34L.avi\n",
      "Duration of video [s]:  12.45 , recorded with  40.0 fps!\n",
      "Overall # of frames:  498  found with (before cropping) frame dimensions:  250 300\n",
      "Starting to extract posture\n"
     ]
    },
    {
     "name": "stderr",
     "output_type": "stream",
     "text": [
      " 98%|█████████████████████████████████████████████████████████████████████████████▋ | 490/498 [00:02<00:00, 176.41it/s]"
     ]
    },
    {
     "name": "stdout",
     "output_type": "stream",
     "text": [
      "Detected frames:  498\n"
     ]
    },
    {
     "name": "stderr",
     "output_type": "stream",
     "text": [
      "500it [00:02, 183.16it/s]                                                                                              \n"
     ]
    },
    {
     "name": "stdout",
     "output_type": "stream",
     "text": [
      "Saving results in D:\\videos\\ar33\\2020_11_24...\n",
      "Saving csv poses!\n",
      "Starting to analyze %  D:\\videos\\ar33\\2020_11_24\\Mask35L.avi\n",
      "D:\\videos\\ar33\\2020_11_24  already exists!\n",
      "Loading  D:\\videos\\ar33\\2020_11_24\\Mask35L.avi\n",
      "Duration of video [s]:  12.45 , recorded with  40.0 fps!\n",
      "Overall # of frames:  498  found with (before cropping) frame dimensions:  250 300\n",
      "Starting to extract posture\n"
     ]
    },
    {
     "name": "stderr",
     "output_type": "stream",
     "text": [
      " 98%|█████████████████████████████████████████████████████████████████████████████▋ | 490/498 [00:02<00:00, 175.88it/s]"
     ]
    },
    {
     "name": "stdout",
     "output_type": "stream",
     "text": [
      "Detected frames:  498\n"
     ]
    },
    {
     "name": "stderr",
     "output_type": "stream",
     "text": [
      "500it [00:02, 182.60it/s]                                                                                              \n"
     ]
    },
    {
     "name": "stdout",
     "output_type": "stream",
     "text": [
      "Saving results in D:\\videos\\ar33\\2020_11_24...\n",
      "Saving csv poses!\n",
      "Starting to analyze %  D:\\videos\\ar33\\2020_11_24\\Mask36L.avi\n",
      "D:\\videos\\ar33\\2020_11_24  already exists!\n",
      "Loading  D:\\videos\\ar33\\2020_11_24\\Mask36L.avi\n",
      "Duration of video [s]:  12.45 , recorded with  40.0 fps!\n",
      "Overall # of frames:  498  found with (before cropping) frame dimensions:  250 300\n",
      "Starting to extract posture\n"
     ]
    },
    {
     "name": "stderr",
     "output_type": "stream",
     "text": [
      " 98%|█████████████████████████████████████████████████████████████████████████████▋ | 490/498 [00:02<00:00, 176.25it/s]"
     ]
    },
    {
     "name": "stdout",
     "output_type": "stream",
     "text": [
      "Detected frames:  498\n"
     ]
    },
    {
     "name": "stderr",
     "output_type": "stream",
     "text": [
      "500it [00:02, 182.67it/s]                                                                                              \n"
     ]
    },
    {
     "name": "stdout",
     "output_type": "stream",
     "text": [
      "Saving results in D:\\videos\\ar33\\2020_11_24...\n",
      "Saving csv poses!\n",
      "Starting to analyze %  D:\\videos\\ar33\\2020_11_24\\Mask37L.avi\n",
      "D:\\videos\\ar33\\2020_11_24  already exists!\n",
      "Loading  D:\\videos\\ar33\\2020_11_24\\Mask37L.avi\n",
      "Duration of video [s]:  12.45 , recorded with  40.0 fps!\n",
      "Overall # of frames:  498  found with (before cropping) frame dimensions:  250 300\n",
      "Starting to extract posture\n"
     ]
    },
    {
     "name": "stderr",
     "output_type": "stream",
     "text": [
      " 98%|█████████████████████████████████████████████████████████████████████████████▋ | 490/498 [00:02<00:00, 177.72it/s]"
     ]
    },
    {
     "name": "stdout",
     "output_type": "stream",
     "text": [
      "Detected frames:  498\n"
     ]
    },
    {
     "name": "stderr",
     "output_type": "stream",
     "text": [
      "500it [00:02, 182.54it/s]                                                                                              \n"
     ]
    },
    {
     "name": "stdout",
     "output_type": "stream",
     "text": [
      "Saving results in D:\\videos\\ar33\\2020_11_24...\n",
      "Saving csv poses!\n",
      "Starting to analyze %  D:\\videos\\ar33\\2020_11_24\\Mask38L.avi\n",
      "D:\\videos\\ar33\\2020_11_24  already exists!\n",
      "Loading  D:\\videos\\ar33\\2020_11_24\\Mask38L.avi\n",
      "Duration of video [s]:  12.45 , recorded with  40.0 fps!\n",
      "Overall # of frames:  498  found with (before cropping) frame dimensions:  250 300\n",
      "Starting to extract posture\n"
     ]
    },
    {
     "name": "stderr",
     "output_type": "stream",
     "text": [
      " 98%|█████████████████████████████████████████████████████████████████████████████▋ | 490/498 [00:02<00:00, 175.46it/s]"
     ]
    },
    {
     "name": "stdout",
     "output_type": "stream",
     "text": [
      "Detected frames:  498\n"
     ]
    },
    {
     "name": "stderr",
     "output_type": "stream",
     "text": [
      "500it [00:02, 182.03it/s]                                                                                              \n"
     ]
    },
    {
     "name": "stdout",
     "output_type": "stream",
     "text": [
      "Saving results in D:\\videos\\ar33\\2020_11_24...\n",
      "Saving csv poses!\n",
      "Starting to analyze %  D:\\videos\\ar33\\2020_11_24\\Mask39L.avi\n",
      "D:\\videos\\ar33\\2020_11_24  already exists!\n",
      "Loading  D:\\videos\\ar33\\2020_11_24\\Mask39L.avi\n",
      "Duration of video [s]:  12.45 , recorded with  40.0 fps!\n",
      "Overall # of frames:  498  found with (before cropping) frame dimensions:  250 300\n",
      "Starting to extract posture\n"
     ]
    },
    {
     "name": "stderr",
     "output_type": "stream",
     "text": [
      " 98%|█████████████████████████████████████████████████████████████████████████████▋ | 490/498 [00:02<00:00, 176.53it/s]"
     ]
    },
    {
     "name": "stdout",
     "output_type": "stream",
     "text": [
      "Detected frames:  498\n"
     ]
    },
    {
     "name": "stderr",
     "output_type": "stream",
     "text": [
      "500it [00:02, 181.84it/s]                                                                                              \n"
     ]
    },
    {
     "name": "stdout",
     "output_type": "stream",
     "text": [
      "Saving results in D:\\videos\\ar33\\2020_11_24...\n",
      "Saving csv poses!\n",
      "Starting to analyze %  D:\\videos\\ar33\\2020_11_24\\Mask3L.avi\n",
      "D:\\videos\\ar33\\2020_11_24  already exists!\n",
      "Loading  D:\\videos\\ar33\\2020_11_24\\Mask3L.avi\n",
      "Duration of video [s]:  12.45 , recorded with  40.0 fps!\n",
      "Overall # of frames:  498  found with (before cropping) frame dimensions:  250 300\n",
      "Starting to extract posture\n"
     ]
    },
    {
     "name": "stderr",
     "output_type": "stream",
     "text": [
      " 98%|█████████████████████████████████████████████████████████████████████████████▋ | 490/498 [00:02<00:00, 176.78it/s]"
     ]
    },
    {
     "name": "stdout",
     "output_type": "stream",
     "text": [
      "Detected frames:  498\n"
     ]
    },
    {
     "name": "stderr",
     "output_type": "stream",
     "text": [
      "500it [00:02, 181.55it/s]                                                                                              \n"
     ]
    },
    {
     "name": "stdout",
     "output_type": "stream",
     "text": [
      "Saving results in D:\\videos\\ar33\\2020_11_24...\n",
      "Saving csv poses!\n",
      "Starting to analyze %  D:\\videos\\ar33\\2020_11_24\\Mask40L.avi\n",
      "D:\\videos\\ar33\\2020_11_24  already exists!\n",
      "Loading  D:\\videos\\ar33\\2020_11_24\\Mask40L.avi\n",
      "Duration of video [s]:  12.45 , recorded with  40.0 fps!\n",
      "Overall # of frames:  498  found with (before cropping) frame dimensions:  250 300\n",
      "Starting to extract posture\n"
     ]
    },
    {
     "name": "stderr",
     "output_type": "stream",
     "text": [
      " 98%|█████████████████████████████████████████████████████████████████████████████▋ | 490/498 [00:02<00:00, 175.61it/s]"
     ]
    },
    {
     "name": "stdout",
     "output_type": "stream",
     "text": [
      "Detected frames:  498\n"
     ]
    },
    {
     "name": "stderr",
     "output_type": "stream",
     "text": [
      "500it [00:02, 181.41it/s]                                                                                              \n"
     ]
    },
    {
     "name": "stdout",
     "output_type": "stream",
     "text": [
      "Saving results in D:\\videos\\ar33\\2020_11_24...\n",
      "Saving csv poses!\n",
      "Starting to analyze %  D:\\videos\\ar33\\2020_11_24\\Mask41L.avi\n",
      "D:\\videos\\ar33\\2020_11_24  already exists!\n",
      "Loading  D:\\videos\\ar33\\2020_11_24\\Mask41L.avi\n",
      "Duration of video [s]:  12.45 , recorded with  40.0 fps!\n",
      "Overall # of frames:  498  found with (before cropping) frame dimensions:  250 300\n",
      "Starting to extract posture\n"
     ]
    },
    {
     "name": "stderr",
     "output_type": "stream",
     "text": [
      " 98%|█████████████████████████████████████████████████████████████████████████████▋ | 490/498 [00:02<00:00, 175.81it/s]"
     ]
    },
    {
     "name": "stdout",
     "output_type": "stream",
     "text": [
      "Detected frames:  498\n"
     ]
    },
    {
     "name": "stderr",
     "output_type": "stream",
     "text": [
      "500it [00:02, 181.83it/s]                                                                                              \n"
     ]
    },
    {
     "name": "stdout",
     "output_type": "stream",
     "text": [
      "Saving results in D:\\videos\\ar33\\2020_11_24...\n",
      "Saving csv poses!\n",
      "Starting to analyze %  D:\\videos\\ar33\\2020_11_24\\Mask42L.avi\n",
      "D:\\videos\\ar33\\2020_11_24  already exists!\n",
      "Loading  D:\\videos\\ar33\\2020_11_24\\Mask42L.avi\n",
      "Duration of video [s]:  12.45 , recorded with  40.0 fps!\n",
      "Overall # of frames:  498  found with (before cropping) frame dimensions:  250 300\n",
      "Starting to extract posture\n"
     ]
    },
    {
     "name": "stderr",
     "output_type": "stream",
     "text": [
      " 98%|█████████████████████████████████████████████████████████████████████████████▋ | 490/498 [00:02<00:00, 176.20it/s]"
     ]
    },
    {
     "name": "stdout",
     "output_type": "stream",
     "text": [
      "Detected frames:  498\n"
     ]
    },
    {
     "name": "stderr",
     "output_type": "stream",
     "text": [
      "500it [00:02, 181.73it/s]                                                                                              \n"
     ]
    },
    {
     "name": "stdout",
     "output_type": "stream",
     "text": [
      "Saving results in D:\\videos\\ar33\\2020_11_24...\n",
      "Saving csv poses!\n",
      "Starting to analyze %  D:\\videos\\ar33\\2020_11_24\\Mask43L.avi\n",
      "D:\\videos\\ar33\\2020_11_24  already exists!\n",
      "Loading  D:\\videos\\ar33\\2020_11_24\\Mask43L.avi\n",
      "Duration of video [s]:  12.45 , recorded with  40.0 fps!\n",
      "Overall # of frames:  498  found with (before cropping) frame dimensions:  250 300\n",
      "Starting to extract posture\n"
     ]
    },
    {
     "name": "stderr",
     "output_type": "stream",
     "text": [
      "500it [00:02, 125.86it/s]                                                                                              "
     ]
    },
    {
     "name": "stdout",
     "output_type": "stream",
     "text": [
      "Detected frames:  498\n"
     ]
    },
    {
     "name": "stderr",
     "output_type": "stream",
     "text": [
      "500it [00:03, 162.98it/s]\n"
     ]
    },
    {
     "name": "stdout",
     "output_type": "stream",
     "text": [
      "Saving results in D:\\videos\\ar33\\2020_11_24...\n",
      "Saving csv poses!\n",
      "Starting to analyze %  D:\\videos\\ar33\\2020_11_24\\Mask44L.avi\n",
      "D:\\videos\\ar33\\2020_11_24  already exists!\n",
      "Loading  D:\\videos\\ar33\\2020_11_24\\Mask44L.avi\n",
      "Duration of video [s]:  12.45 , recorded with  40.0 fps!\n",
      "Overall # of frames:  498  found with (before cropping) frame dimensions:  250 300\n",
      "Starting to extract posture\n"
     ]
    },
    {
     "name": "stderr",
     "output_type": "stream",
     "text": [
      " 98%|█████████████████████████████████████████████████████████████████████████████▋ | 490/498 [00:02<00:00, 170.91it/s]"
     ]
    },
    {
     "name": "stdout",
     "output_type": "stream",
     "text": [
      "Detected frames:  498\n"
     ]
    },
    {
     "name": "stderr",
     "output_type": "stream",
     "text": [
      "500it [00:02, 175.66it/s]                                                                                              \n"
     ]
    },
    {
     "name": "stdout",
     "output_type": "stream",
     "text": [
      "Saving results in D:\\videos\\ar33\\2020_11_24...\n",
      "Saving csv poses!\n",
      "Starting to analyze %  D:\\videos\\ar33\\2020_11_24\\Mask45L.avi\n",
      "D:\\videos\\ar33\\2020_11_24  already exists!\n",
      "Loading  D:\\videos\\ar33\\2020_11_24\\Mask45L.avi\n",
      "Duration of video [s]:  12.45 , recorded with  40.0 fps!\n",
      "Overall # of frames:  498  found with (before cropping) frame dimensions:  250 300\n",
      "Starting to extract posture\n"
     ]
    },
    {
     "name": "stderr",
     "output_type": "stream",
     "text": [
      " 98%|█████████████████████████████████████████████████████████████████████████████▋ | 490/498 [00:02<00:00, 173.51it/s]"
     ]
    },
    {
     "name": "stdout",
     "output_type": "stream",
     "text": [
      "Detected frames:  498\n"
     ]
    },
    {
     "name": "stderr",
     "output_type": "stream",
     "text": [
      "500it [00:02, 177.97it/s]                                                                                              \n"
     ]
    },
    {
     "name": "stdout",
     "output_type": "stream",
     "text": [
      "Saving results in D:\\videos\\ar33\\2020_11_24...\n",
      "Saving csv poses!\n",
      "Starting to analyze %  D:\\videos\\ar33\\2020_11_24\\Mask46L.avi\n",
      "D:\\videos\\ar33\\2020_11_24  already exists!\n",
      "Loading  D:\\videos\\ar33\\2020_11_24\\Mask46L.avi\n",
      "Duration of video [s]:  12.45 , recorded with  40.0 fps!\n",
      "Overall # of frames:  498  found with (before cropping) frame dimensions:  250 300\n",
      "Starting to extract posture\n"
     ]
    },
    {
     "name": "stderr",
     "output_type": "stream",
     "text": [
      " 98%|█████████████████████████████████████████████████████████████████████████████▋ | 490/498 [00:02<00:00, 170.41it/s]"
     ]
    },
    {
     "name": "stdout",
     "output_type": "stream",
     "text": [
      "Detected frames:  498\n"
     ]
    },
    {
     "name": "stderr",
     "output_type": "stream",
     "text": [
      "500it [00:02, 178.47it/s]                                                                                              \n"
     ]
    },
    {
     "name": "stdout",
     "output_type": "stream",
     "text": [
      "Saving results in D:\\videos\\ar33\\2020_11_24...\n",
      "Saving csv poses!\n",
      "Starting to analyze %  D:\\videos\\ar33\\2020_11_24\\Mask47L.avi\n",
      "D:\\videos\\ar33\\2020_11_24  already exists!\n",
      "Loading  D:\\videos\\ar33\\2020_11_24\\Mask47L.avi\n",
      "Duration of video [s]:  12.45 , recorded with  40.0 fps!\n",
      "Overall # of frames:  498  found with (before cropping) frame dimensions:  250 300\n",
      "Starting to extract posture\n"
     ]
    },
    {
     "name": "stderr",
     "output_type": "stream",
     "text": [
      " 98%|█████████████████████████████████████████████████████████████████████████████▋ | 490/498 [00:02<00:00, 177.69it/s]"
     ]
    },
    {
     "name": "stdout",
     "output_type": "stream",
     "text": [
      "Detected frames:  498\n"
     ]
    },
    {
     "name": "stderr",
     "output_type": "stream",
     "text": [
      "500it [00:02, 182.97it/s]                                                                                              \n"
     ]
    },
    {
     "name": "stdout",
     "output_type": "stream",
     "text": [
      "Saving results in D:\\videos\\ar33\\2020_11_24...\n",
      "Saving csv poses!\n",
      "Starting to analyze %  D:\\videos\\ar33\\2020_11_24\\Mask48L.avi\n",
      "D:\\videos\\ar33\\2020_11_24  already exists!\n",
      "Loading  D:\\videos\\ar33\\2020_11_24\\Mask48L.avi\n",
      "Duration of video [s]:  12.45 , recorded with  40.0 fps!\n",
      "Overall # of frames:  498  found with (before cropping) frame dimensions:  250 300\n",
      "Starting to extract posture\n"
     ]
    },
    {
     "name": "stderr",
     "output_type": "stream",
     "text": [
      " 98%|█████████████████████████████████████████████████████████████████████████████▋ | 490/498 [00:02<00:00, 177.76it/s]"
     ]
    },
    {
     "name": "stdout",
     "output_type": "stream",
     "text": [
      "Detected frames:  498\n"
     ]
    },
    {
     "name": "stderr",
     "output_type": "stream",
     "text": [
      "500it [00:02, 184.59it/s]                                                                                              \n"
     ]
    },
    {
     "name": "stdout",
     "output_type": "stream",
     "text": [
      "Saving results in D:\\videos\\ar33\\2020_11_24...\n",
      "Saving csv poses!\n",
      "Starting to analyze %  D:\\videos\\ar33\\2020_11_24\\Mask49L.avi\n",
      "D:\\videos\\ar33\\2020_11_24  already exists!\n",
      "Loading  D:\\videos\\ar33\\2020_11_24\\Mask49L.avi\n",
      "Duration of video [s]:  12.45 , recorded with  40.0 fps!\n",
      "Overall # of frames:  498  found with (before cropping) frame dimensions:  250 300\n",
      "Starting to extract posture\n"
     ]
    },
    {
     "name": "stderr",
     "output_type": "stream",
     "text": [
      " 98%|█████████████████████████████████████████████████████████████████████████████▋ | 490/498 [00:02<00:00, 176.94it/s]"
     ]
    },
    {
     "name": "stdout",
     "output_type": "stream",
     "text": [
      "Detected frames:  498\n"
     ]
    },
    {
     "name": "stderr",
     "output_type": "stream",
     "text": [
      "500it [00:02, 183.24it/s]                                                                                              \n"
     ]
    },
    {
     "name": "stdout",
     "output_type": "stream",
     "text": [
      "Saving results in D:\\videos\\ar33\\2020_11_24...\n",
      "Saving csv poses!\n",
      "Starting to analyze %  D:\\videos\\ar33\\2020_11_24\\Mask4L.avi\n",
      "D:\\videos\\ar33\\2020_11_24  already exists!\n",
      "Loading  D:\\videos\\ar33\\2020_11_24\\Mask4L.avi\n",
      "Duration of video [s]:  12.15 , recorded with  40.0 fps!\n",
      "Overall # of frames:  486  found with (before cropping) frame dimensions:  250 300\n",
      "Starting to extract posture\n"
     ]
    },
    {
     "name": "stderr",
     "output_type": "stream",
     "text": [
      "490it [00:02, 176.20it/s]                                                                                              "
     ]
    },
    {
     "name": "stdout",
     "output_type": "stream",
     "text": [
      "Detected frames:  486\n"
     ]
    },
    {
     "name": "stderr",
     "output_type": "stream",
     "text": [
      "490it [00:02, 184.91it/s]\n"
     ]
    },
    {
     "name": "stdout",
     "output_type": "stream",
     "text": [
      "Saving results in D:\\videos\\ar33\\2020_11_24...\n",
      "Saving csv poses!\n",
      "Starting to analyze %  D:\\videos\\ar33\\2020_11_24\\Mask50L.avi\n",
      "D:\\videos\\ar33\\2020_11_24  already exists!\n",
      "Loading  D:\\videos\\ar33\\2020_11_24\\Mask50L.avi\n",
      "Duration of video [s]:  12.45 , recorded with  40.0 fps!\n",
      "Overall # of frames:  498  found with (before cropping) frame dimensions:  250 300\n",
      "Starting to extract posture\n"
     ]
    },
    {
     "name": "stderr",
     "output_type": "stream",
     "text": [
      " 98%|█████████████████████████████████████████████████████████████████████████████▋ | 490/498 [00:02<00:00, 178.29it/s]"
     ]
    },
    {
     "name": "stdout",
     "output_type": "stream",
     "text": [
      "Detected frames:  498\n"
     ]
    },
    {
     "name": "stderr",
     "output_type": "stream",
     "text": [
      "500it [00:02, 182.43it/s]                                                                                              \n"
     ]
    },
    {
     "name": "stdout",
     "output_type": "stream",
     "text": [
      "Saving results in D:\\videos\\ar33\\2020_11_24...\n",
      "Saving csv poses!\n",
      "Starting to analyze %  D:\\videos\\ar33\\2020_11_24\\Mask51L.avi\n",
      "D:\\videos\\ar33\\2020_11_24  already exists!\n",
      "Loading  D:\\videos\\ar33\\2020_11_24\\Mask51L.avi\n",
      "Duration of video [s]:  12.45 , recorded with  40.0 fps!\n",
      "Overall # of frames:  498  found with (before cropping) frame dimensions:  250 300\n",
      "Starting to extract posture\n"
     ]
    },
    {
     "name": "stderr",
     "output_type": "stream",
     "text": [
      " 98%|█████████████████████████████████████████████████████████████████████████████▋ | 490/498 [00:02<00:00, 176.92it/s]"
     ]
    },
    {
     "name": "stdout",
     "output_type": "stream",
     "text": [
      "Detected frames:  498\n"
     ]
    },
    {
     "name": "stderr",
     "output_type": "stream",
     "text": [
      "500it [00:02, 181.31it/s]                                                                                              \n"
     ]
    },
    {
     "name": "stdout",
     "output_type": "stream",
     "text": [
      "Saving results in D:\\videos\\ar33\\2020_11_24...\n",
      "Saving csv poses!\n",
      "Starting to analyze %  D:\\videos\\ar33\\2020_11_24\\Mask52L.avi\n",
      "D:\\videos\\ar33\\2020_11_24  already exists!\n",
      "Loading  D:\\videos\\ar33\\2020_11_24\\Mask52L.avi\n",
      "Duration of video [s]:  12.45 , recorded with  40.0 fps!\n",
      "Overall # of frames:  498  found with (before cropping) frame dimensions:  250 300\n",
      "Starting to extract posture\n"
     ]
    },
    {
     "name": "stderr",
     "output_type": "stream",
     "text": [
      " 98%|█████████████████████████████████████████████████████████████████████████████▋ | 490/498 [00:02<00:00, 174.37it/s]"
     ]
    },
    {
     "name": "stdout",
     "output_type": "stream",
     "text": [
      "Detected frames:  498\n"
     ]
    },
    {
     "name": "stderr",
     "output_type": "stream",
     "text": [
      "500it [00:02, 180.20it/s]                                                                                              \n"
     ]
    },
    {
     "name": "stdout",
     "output_type": "stream",
     "text": [
      "Saving results in D:\\videos\\ar33\\2020_11_24...\n",
      "Saving csv poses!\n",
      "Starting to analyze %  D:\\videos\\ar33\\2020_11_24\\Mask53L.avi\n",
      "D:\\videos\\ar33\\2020_11_24  already exists!\n",
      "Loading  D:\\videos\\ar33\\2020_11_24\\Mask53L.avi\n",
      "Duration of video [s]:  12.45 , recorded with  40.0 fps!\n",
      "Overall # of frames:  498  found with (before cropping) frame dimensions:  250 300\n",
      "Starting to extract posture\n"
     ]
    },
    {
     "name": "stderr",
     "output_type": "stream",
     "text": [
      " 98%|█████████████████████████████████████████████████████████████████████████████▋ | 490/498 [00:02<00:00, 174.96it/s]"
     ]
    },
    {
     "name": "stdout",
     "output_type": "stream",
     "text": [
      "Detected frames:  498\n"
     ]
    },
    {
     "name": "stderr",
     "output_type": "stream",
     "text": [
      "500it [00:02, 181.31it/s]                                                                                              \n"
     ]
    },
    {
     "name": "stdout",
     "output_type": "stream",
     "text": [
      "Saving results in D:\\videos\\ar33\\2020_11_24...\n",
      "Saving csv poses!\n",
      "Starting to analyze %  D:\\videos\\ar33\\2020_11_24\\Mask54L.avi\n",
      "D:\\videos\\ar33\\2020_11_24  already exists!\n",
      "Loading  D:\\videos\\ar33\\2020_11_24\\Mask54L.avi\n",
      "Duration of video [s]:  12.45 , recorded with  40.0 fps!\n",
      "Overall # of frames:  498  found with (before cropping) frame dimensions:  250 300\n",
      "Starting to extract posture\n"
     ]
    },
    {
     "name": "stderr",
     "output_type": "stream",
     "text": [
      " 98%|█████████████████████████████████████████████████████████████████████████████▋ | 490/498 [00:02<00:00, 175.21it/s]"
     ]
    },
    {
     "name": "stdout",
     "output_type": "stream",
     "text": [
      "Detected frames:  498\n"
     ]
    },
    {
     "name": "stderr",
     "output_type": "stream",
     "text": [
      "500it [00:02, 181.68it/s]                                                                                              \n"
     ]
    },
    {
     "name": "stdout",
     "output_type": "stream",
     "text": [
      "Saving results in D:\\videos\\ar33\\2020_11_24...\n",
      "Saving csv poses!\n",
      "Starting to analyze %  D:\\videos\\ar33\\2020_11_24\\Mask55L.avi\n",
      "D:\\videos\\ar33\\2020_11_24  already exists!\n",
      "Loading  D:\\videos\\ar33\\2020_11_24\\Mask55L.avi\n",
      "Duration of video [s]:  12.45 , recorded with  40.0 fps!\n",
      "Overall # of frames:  498  found with (before cropping) frame dimensions:  250 300\n",
      "Starting to extract posture\n"
     ]
    },
    {
     "name": "stderr",
     "output_type": "stream",
     "text": [
      " 98%|█████████████████████████████████████████████████████████████████████████████▋ | 490/498 [00:02<00:00, 175.90it/s]"
     ]
    },
    {
     "name": "stdout",
     "output_type": "stream",
     "text": [
      "Detected frames:  498\n"
     ]
    },
    {
     "name": "stderr",
     "output_type": "stream",
     "text": [
      "500it [00:02, 182.07it/s]                                                                                              \n"
     ]
    },
    {
     "name": "stdout",
     "output_type": "stream",
     "text": [
      "Saving results in D:\\videos\\ar33\\2020_11_24...\n",
      "Saving csv poses!\n",
      "Starting to analyze %  D:\\videos\\ar33\\2020_11_24\\Mask56L.avi\n",
      "D:\\videos\\ar33\\2020_11_24  already exists!\n",
      "Loading  D:\\videos\\ar33\\2020_11_24\\Mask56L.avi\n",
      "Duration of video [s]:  12.45 , recorded with  40.0 fps!\n",
      "Overall # of frames:  498  found with (before cropping) frame dimensions:  250 300\n",
      "Starting to extract posture\n"
     ]
    },
    {
     "name": "stderr",
     "output_type": "stream",
     "text": [
      " 98%|█████████████████████████████████████████████████████████████████████████████▋ | 490/498 [00:02<00:00, 175.02it/s]"
     ]
    },
    {
     "name": "stdout",
     "output_type": "stream",
     "text": [
      "Detected frames:  498\n"
     ]
    },
    {
     "name": "stderr",
     "output_type": "stream",
     "text": [
      "500it [00:02, 181.26it/s]                                                                                              \n"
     ]
    },
    {
     "name": "stdout",
     "output_type": "stream",
     "text": [
      "Saving results in D:\\videos\\ar33\\2020_11_24...\n",
      "Saving csv poses!\n",
      "Starting to analyze %  D:\\videos\\ar33\\2020_11_24\\Mask57L.avi\n",
      "D:\\videos\\ar33\\2020_11_24  already exists!\n",
      "Loading  D:\\videos\\ar33\\2020_11_24\\Mask57L.avi\n",
      "Duration of video [s]:  12.45 , recorded with  40.0 fps!\n",
      "Overall # of frames:  498  found with (before cropping) frame dimensions:  250 300\n",
      "Starting to extract posture\n"
     ]
    },
    {
     "name": "stderr",
     "output_type": "stream",
     "text": [
      " 98%|█████████████████████████████████████████████████████████████████████████████▋ | 490/498 [00:02<00:00, 173.61it/s]"
     ]
    },
    {
     "name": "stdout",
     "output_type": "stream",
     "text": [
      "Detected frames:  498\n"
     ]
    },
    {
     "name": "stderr",
     "output_type": "stream",
     "text": [
      "500it [00:02, 181.31it/s]                                                                                              \n"
     ]
    },
    {
     "name": "stdout",
     "output_type": "stream",
     "text": [
      "Saving results in D:\\videos\\ar33\\2020_11_24...\n",
      "Saving csv poses!\n",
      "Starting to analyze %  D:\\videos\\ar33\\2020_11_24\\Mask58L.avi\n",
      "D:\\videos\\ar33\\2020_11_24  already exists!\n",
      "Loading  D:\\videos\\ar33\\2020_11_24\\Mask58L.avi\n",
      "Duration of video [s]:  12.45 , recorded with  40.0 fps!\n",
      "Overall # of frames:  498  found with (before cropping) frame dimensions:  250 300\n",
      "Starting to extract posture\n"
     ]
    },
    {
     "name": "stderr",
     "output_type": "stream",
     "text": [
      " 98%|█████████████████████████████████████████████████████████████████████████████▋ | 490/498 [00:02<00:00, 177.01it/s]"
     ]
    },
    {
     "name": "stdout",
     "output_type": "stream",
     "text": [
      "Detected frames:  498\n"
     ]
    },
    {
     "name": "stderr",
     "output_type": "stream",
     "text": [
      "500it [00:02, 181.55it/s]                                                                                              \n"
     ]
    },
    {
     "name": "stdout",
     "output_type": "stream",
     "text": [
      "Saving results in D:\\videos\\ar33\\2020_11_24...\n",
      "Saving csv poses!\n",
      "Starting to analyze %  D:\\videos\\ar33\\2020_11_24\\Mask59L.avi\n",
      "D:\\videos\\ar33\\2020_11_24  already exists!\n",
      "Loading  D:\\videos\\ar33\\2020_11_24\\Mask59L.avi\n",
      "Duration of video [s]:  7.47 , recorded with  40.0 fps!\n",
      "Overall # of frames:  299  found with (before cropping) frame dimensions:  250 300\n",
      "Starting to extract posture\n"
     ]
    },
    {
     "name": "stderr",
     "output_type": "stream",
     "text": [
      "300it [00:01, 177.28it/s]                                                                                              "
     ]
    },
    {
     "name": "stdout",
     "output_type": "stream",
     "text": [
      "Detected frames:  299\n"
     ]
    },
    {
     "name": "stderr",
     "output_type": "stream",
     "text": [
      "300it [00:01, 179.42it/s]\n"
     ]
    },
    {
     "name": "stdout",
     "output_type": "stream",
     "text": [
      "Saving results in D:\\videos\\ar33\\2020_11_24...\n",
      "Saving csv poses!\n",
      "Starting to analyze %  D:\\videos\\ar33\\2020_11_24\\Mask60L.avi\n",
      "D:\\videos\\ar33\\2020_11_24  already exists!\n",
      "Loading  D:\\videos\\ar33\\2020_11_24\\Mask60L.avi\n",
      "Duration of video [s]:  12.45 , recorded with  40.0 fps!\n",
      "Overall # of frames:  498  found with (before cropping) frame dimensions:  250 300\n",
      "Starting to extract posture\n"
     ]
    },
    {
     "name": "stderr",
     "output_type": "stream",
     "text": [
      " 98%|█████████████████████████████████████████████████████████████████████████████▋ | 490/498 [00:02<00:00, 174.53it/s]"
     ]
    },
    {
     "name": "stdout",
     "output_type": "stream",
     "text": [
      "Detected frames:  498\n"
     ]
    },
    {
     "name": "stderr",
     "output_type": "stream",
     "text": [
      "500it [00:02, 180.79it/s]                                                                                              \n"
     ]
    },
    {
     "name": "stdout",
     "output_type": "stream",
     "text": [
      "Saving results in D:\\videos\\ar33\\2020_11_24...\n",
      "Saving csv poses!\n",
      "Starting to analyze %  D:\\videos\\ar33\\2020_11_24\\Mask61L.avi\n",
      "D:\\videos\\ar33\\2020_11_24  already exists!\n",
      "Loading  D:\\videos\\ar33\\2020_11_24\\Mask61L.avi\n",
      "Duration of video [s]:  12.45 , recorded with  40.0 fps!\n",
      "Overall # of frames:  498  found with (before cropping) frame dimensions:  250 300\n",
      "Starting to extract posture\n"
     ]
    },
    {
     "name": "stderr",
     "output_type": "stream",
     "text": [
      " 98%|█████████████████████████████████████████████████████████████████████████████▋ | 490/498 [00:02<00:00, 174.77it/s]"
     ]
    },
    {
     "name": "stdout",
     "output_type": "stream",
     "text": [
      "Detected frames:  498\n"
     ]
    },
    {
     "name": "stderr",
     "output_type": "stream",
     "text": [
      "500it [00:02, 181.40it/s]                                                                                              \n"
     ]
    },
    {
     "name": "stdout",
     "output_type": "stream",
     "text": [
      "Saving results in D:\\videos\\ar33\\2020_11_24...\n",
      "Saving csv poses!\n",
      "Starting to analyze %  D:\\videos\\ar33\\2020_11_24\\Mask62L.avi\n",
      "D:\\videos\\ar33\\2020_11_24  already exists!\n",
      "Loading  D:\\videos\\ar33\\2020_11_24\\Mask62L.avi\n",
      "Duration of video [s]:  12.45 , recorded with  40.0 fps!\n",
      "Overall # of frames:  498  found with (before cropping) frame dimensions:  250 300\n",
      "Starting to extract posture\n"
     ]
    },
    {
     "name": "stderr",
     "output_type": "stream",
     "text": [
      " 98%|█████████████████████████████████████████████████████████████████████████████▋ | 490/498 [00:02<00:00, 174.64it/s]"
     ]
    },
    {
     "name": "stdout",
     "output_type": "stream",
     "text": [
      "Detected frames:  498\n"
     ]
    },
    {
     "name": "stderr",
     "output_type": "stream",
     "text": [
      "500it [00:02, 180.49it/s]                                                                                              \n"
     ]
    },
    {
     "name": "stdout",
     "output_type": "stream",
     "text": [
      "Saving results in D:\\videos\\ar33\\2020_11_24...\n",
      "Saving csv poses!\n",
      "Starting to analyze %  D:\\videos\\ar33\\2020_11_24\\Mask63L.avi\n",
      "D:\\videos\\ar33\\2020_11_24  already exists!\n",
      "Loading  D:\\videos\\ar33\\2020_11_24\\Mask63L.avi\n",
      "Duration of video [s]:  12.45 , recorded with  40.0 fps!\n",
      "Overall # of frames:  498  found with (before cropping) frame dimensions:  250 300\n",
      "Starting to extract posture\n"
     ]
    },
    {
     "name": "stderr",
     "output_type": "stream",
     "text": [
      " 98%|█████████████████████████████████████████████████████████████████████████████▋ | 490/498 [00:02<00:00, 174.18it/s]"
     ]
    },
    {
     "name": "stdout",
     "output_type": "stream",
     "text": [
      "Detected frames:  498\n"
     ]
    },
    {
     "name": "stderr",
     "output_type": "stream",
     "text": [
      "500it [00:02, 180.14it/s]                                                                                              \n"
     ]
    },
    {
     "name": "stdout",
     "output_type": "stream",
     "text": [
      "Saving results in D:\\videos\\ar33\\2020_11_24...\n",
      "Saving csv poses!\n",
      "Starting to analyze %  D:\\videos\\ar33\\2020_11_24\\Mask64L.avi\n",
      "D:\\videos\\ar33\\2020_11_24  already exists!\n",
      "Loading  D:\\videos\\ar33\\2020_11_24\\Mask64L.avi\n",
      "Duration of video [s]:  12.45 , recorded with  40.0 fps!\n",
      "Overall # of frames:  498  found with (before cropping) frame dimensions:  250 300\n",
      "Starting to extract posture\n"
     ]
    },
    {
     "name": "stderr",
     "output_type": "stream",
     "text": [
      " 98%|█████████████████████████████████████████████████████████████████████████████▋ | 490/498 [00:02<00:00, 174.23it/s]"
     ]
    },
    {
     "name": "stdout",
     "output_type": "stream",
     "text": [
      "Detected frames:  498\n"
     ]
    },
    {
     "name": "stderr",
     "output_type": "stream",
     "text": [
      "500it [00:02, 180.20it/s]                                                                                              \n"
     ]
    },
    {
     "name": "stdout",
     "output_type": "stream",
     "text": [
      "Saving results in D:\\videos\\ar33\\2020_11_24...\n",
      "Saving csv poses!\n",
      "Starting to analyze %  D:\\videos\\ar33\\2020_11_24\\Mask65L.avi\n",
      "D:\\videos\\ar33\\2020_11_24  already exists!\n",
      "Loading  D:\\videos\\ar33\\2020_11_24\\Mask65L.avi\n",
      "Duration of video [s]:  12.45 , recorded with  40.0 fps!\n",
      "Overall # of frames:  498  found with (before cropping) frame dimensions:  250 300\n",
      "Starting to extract posture\n"
     ]
    },
    {
     "name": "stderr",
     "output_type": "stream",
     "text": [
      " 98%|█████████████████████████████████████████████████████████████████████████████▋ | 490/498 [00:02<00:00, 174.05it/s]"
     ]
    },
    {
     "name": "stdout",
     "output_type": "stream",
     "text": [
      "Detected frames:  498\n"
     ]
    },
    {
     "name": "stderr",
     "output_type": "stream",
     "text": [
      "500it [00:02, 180.30it/s]                                                                                              \n"
     ]
    },
    {
     "name": "stdout",
     "output_type": "stream",
     "text": [
      "Saving results in D:\\videos\\ar33\\2020_11_24...\n",
      "Saving csv poses!\n",
      "Starting to analyze %  D:\\videos\\ar33\\2020_11_24\\Mask66L.avi\n",
      "D:\\videos\\ar33\\2020_11_24  already exists!\n",
      "Loading  D:\\videos\\ar33\\2020_11_24\\Mask66L.avi\n",
      "Duration of video [s]:  12.45 , recorded with  40.0 fps!\n",
      "Overall # of frames:  498  found with (before cropping) frame dimensions:  250 300\n",
      "Starting to extract posture\n"
     ]
    },
    {
     "name": "stderr",
     "output_type": "stream",
     "text": [
      " 98%|█████████████████████████████████████████████████████████████████████████████▋ | 490/498 [00:02<00:00, 172.94it/s]"
     ]
    },
    {
     "name": "stdout",
     "output_type": "stream",
     "text": [
      "Detected frames:  498\n"
     ]
    },
    {
     "name": "stderr",
     "output_type": "stream",
     "text": [
      "500it [00:02, 179.69it/s]                                                                                              \n"
     ]
    },
    {
     "name": "stdout",
     "output_type": "stream",
     "text": [
      "Saving results in D:\\videos\\ar33\\2020_11_24...\n",
      "Saving csv poses!\n",
      "Starting to analyze %  D:\\videos\\ar33\\2020_11_24\\Mask67L.avi\n",
      "D:\\videos\\ar33\\2020_11_24  already exists!\n",
      "Loading  D:\\videos\\ar33\\2020_11_24\\Mask67L.avi\n",
      "Duration of video [s]:  12.45 , recorded with  40.0 fps!\n",
      "Overall # of frames:  498  found with (before cropping) frame dimensions:  250 300\n",
      "Starting to extract posture\n"
     ]
    },
    {
     "name": "stderr",
     "output_type": "stream",
     "text": [
      " 98%|█████████████████████████████████████████████████████████████████████████████▋ | 490/498 [00:02<00:00, 173.72it/s]"
     ]
    },
    {
     "name": "stdout",
     "output_type": "stream",
     "text": [
      "Detected frames:  498\n"
     ]
    },
    {
     "name": "stderr",
     "output_type": "stream",
     "text": [
      "500it [00:02, 180.36it/s]                                                                                              \n"
     ]
    },
    {
     "name": "stdout",
     "output_type": "stream",
     "text": [
      "Saving results in D:\\videos\\ar33\\2020_11_24...\n",
      "Saving csv poses!\n",
      "Starting to analyze %  D:\\videos\\ar33\\2020_11_24\\Mask68L.avi\n",
      "D:\\videos\\ar33\\2020_11_24  already exists!\n",
      "Loading  D:\\videos\\ar33\\2020_11_24\\Mask68L.avi\n",
      "Duration of video [s]:  12.45 , recorded with  40.0 fps!\n",
      "Overall # of frames:  498  found with (before cropping) frame dimensions:  250 300\n",
      "Starting to extract posture\n"
     ]
    },
    {
     "name": "stderr",
     "output_type": "stream",
     "text": [
      " 98%|█████████████████████████████████████████████████████████████████████████████▋ | 490/498 [00:02<00:00, 175.09it/s]"
     ]
    },
    {
     "name": "stdout",
     "output_type": "stream",
     "text": [
      "Detected frames:  498\n"
     ]
    },
    {
     "name": "stderr",
     "output_type": "stream",
     "text": [
      "500it [00:02, 180.92it/s]                                                                                              \n"
     ]
    },
    {
     "name": "stdout",
     "output_type": "stream",
     "text": [
      "Saving results in D:\\videos\\ar33\\2020_11_24...\n",
      "Saving csv poses!\n",
      "Starting to analyze %  D:\\videos\\ar33\\2020_11_24\\Mask69L.avi\n",
      "D:\\videos\\ar33\\2020_11_24  already exists!\n",
      "Loading  D:\\videos\\ar33\\2020_11_24\\Mask69L.avi\n",
      "Duration of video [s]:  12.45 , recorded with  40.0 fps!\n",
      "Overall # of frames:  498  found with (before cropping) frame dimensions:  250 300\n",
      "Starting to extract posture\n"
     ]
    },
    {
     "name": "stderr",
     "output_type": "stream",
     "text": [
      " 98%|█████████████████████████████████████████████████████████████████████████████▋ | 490/498 [00:02<00:00, 174.03it/s]"
     ]
    },
    {
     "name": "stdout",
     "output_type": "stream",
     "text": [
      "Detected frames:  498\n"
     ]
    },
    {
     "name": "stderr",
     "output_type": "stream",
     "text": [
      "500it [00:02, 181.04it/s]                                                                                              \n"
     ]
    },
    {
     "name": "stdout",
     "output_type": "stream",
     "text": [
      "Saving results in D:\\videos\\ar33\\2020_11_24...\n",
      "Saving csv poses!\n",
      "Starting to analyze %  D:\\videos\\ar33\\2020_11_24\\Mask6L.avi\n",
      "D:\\videos\\ar33\\2020_11_24  already exists!\n",
      "Loading  D:\\videos\\ar33\\2020_11_24\\Mask6L.avi\n",
      "Duration of video [s]:  12.45 , recorded with  40.0 fps!\n",
      "Overall # of frames:  498  found with (before cropping) frame dimensions:  250 300\n",
      "Starting to extract posture\n"
     ]
    },
    {
     "name": "stderr",
     "output_type": "stream",
     "text": [
      " 98%|█████████████████████████████████████████████████████████████████████████████▋ | 490/498 [00:02<00:00, 173.99it/s]"
     ]
    },
    {
     "name": "stdout",
     "output_type": "stream",
     "text": [
      "Detected frames:  498\n"
     ]
    },
    {
     "name": "stderr",
     "output_type": "stream",
     "text": [
      "500it [00:02, 180.67it/s]                                                                                              \n"
     ]
    },
    {
     "name": "stdout",
     "output_type": "stream",
     "text": [
      "Saving results in D:\\videos\\ar33\\2020_11_24...\n",
      "Saving csv poses!\n",
      "Starting to analyze %  D:\\videos\\ar33\\2020_11_24\\Mask70L.avi\n",
      "D:\\videos\\ar33\\2020_11_24  already exists!\n",
      "Loading  D:\\videos\\ar33\\2020_11_24\\Mask70L.avi\n",
      "Duration of video [s]:  12.45 , recorded with  40.0 fps!\n",
      "Overall # of frames:  498  found with (before cropping) frame dimensions:  250 300\n",
      "Starting to extract posture\n"
     ]
    },
    {
     "name": "stderr",
     "output_type": "stream",
     "text": [
      " 98%|█████████████████████████████████████████████████████████████████████████████▋ | 490/498 [00:02<00:00, 174.37it/s]"
     ]
    },
    {
     "name": "stdout",
     "output_type": "stream",
     "text": [
      "Detected frames:  498\n"
     ]
    },
    {
     "name": "stderr",
     "output_type": "stream",
     "text": [
      "500it [00:02, 180.93it/s]                                                                                              \n"
     ]
    },
    {
     "name": "stdout",
     "output_type": "stream",
     "text": [
      "Saving results in D:\\videos\\ar33\\2020_11_24...\n",
      "Saving csv poses!\n",
      "Starting to analyze %  D:\\videos\\ar33\\2020_11_24\\Mask71L.avi\n",
      "D:\\videos\\ar33\\2020_11_24  already exists!\n",
      "Loading  D:\\videos\\ar33\\2020_11_24\\Mask71L.avi\n",
      "Duration of video [s]:  12.45 , recorded with  40.0 fps!\n",
      "Overall # of frames:  498  found with (before cropping) frame dimensions:  250 300\n",
      "Starting to extract posture\n"
     ]
    },
    {
     "name": "stderr",
     "output_type": "stream",
     "text": [
      " 98%|█████████████████████████████████████████████████████████████████████████████▋ | 490/498 [00:02<00:00, 174.93it/s]"
     ]
    },
    {
     "name": "stdout",
     "output_type": "stream",
     "text": [
      "Detected frames:  498\n"
     ]
    },
    {
     "name": "stderr",
     "output_type": "stream",
     "text": [
      "500it [00:02, 180.53it/s]                                                                                              \n"
     ]
    },
    {
     "name": "stdout",
     "output_type": "stream",
     "text": [
      "Saving results in D:\\videos\\ar33\\2020_11_24...\n",
      "Saving csv poses!\n",
      "Starting to analyze %  D:\\videos\\ar33\\2020_11_24\\Mask72L.avi\n",
      "D:\\videos\\ar33\\2020_11_24  already exists!\n",
      "Loading  D:\\videos\\ar33\\2020_11_24\\Mask72L.avi\n",
      "Duration of video [s]:  12.45 , recorded with  40.0 fps!\n",
      "Overall # of frames:  498  found with (before cropping) frame dimensions:  250 300\n",
      "Starting to extract posture\n"
     ]
    },
    {
     "name": "stderr",
     "output_type": "stream",
     "text": [
      " 98%|█████████████████████████████████████████████████████████████████████████████▋ | 490/498 [00:02<00:00, 174.39it/s]"
     ]
    },
    {
     "name": "stdout",
     "output_type": "stream",
     "text": [
      "Detected frames:  498\n"
     ]
    },
    {
     "name": "stderr",
     "output_type": "stream",
     "text": [
      "500it [00:02, 179.78it/s]                                                                                              \n"
     ]
    },
    {
     "name": "stdout",
     "output_type": "stream",
     "text": [
      "Saving results in D:\\videos\\ar33\\2020_11_24...\n",
      "Saving csv poses!\n",
      "Starting to analyze %  D:\\videos\\ar33\\2020_11_24\\Mask73L.avi\n",
      "D:\\videos\\ar33\\2020_11_24  already exists!\n",
      "Loading  D:\\videos\\ar33\\2020_11_24\\Mask73L.avi\n",
      "Duration of video [s]:  12.45 , recorded with  40.0 fps!\n",
      "Overall # of frames:  498  found with (before cropping) frame dimensions:  250 300\n",
      "Starting to extract posture\n"
     ]
    },
    {
     "name": "stderr",
     "output_type": "stream",
     "text": [
      " 98%|█████████████████████████████████████████████████████████████████████████████▋ | 490/498 [00:02<00:00, 174.17it/s]"
     ]
    },
    {
     "name": "stdout",
     "output_type": "stream",
     "text": [
      "Detected frames:  498\n"
     ]
    },
    {
     "name": "stderr",
     "output_type": "stream",
     "text": [
      "500it [00:02, 180.17it/s]                                                                                              \n"
     ]
    },
    {
     "name": "stdout",
     "output_type": "stream",
     "text": [
      "Saving results in D:\\videos\\ar33\\2020_11_24...\n",
      "Saving csv poses!\n",
      "Starting to analyze %  D:\\videos\\ar33\\2020_11_24\\Mask74L.avi\n",
      "D:\\videos\\ar33\\2020_11_24  already exists!\n",
      "Loading  D:\\videos\\ar33\\2020_11_24\\Mask74L.avi\n",
      "Duration of video [s]:  12.45 , recorded with  40.0 fps!\n",
      "Overall # of frames:  498  found with (before cropping) frame dimensions:  250 300\n",
      "Starting to extract posture\n"
     ]
    },
    {
     "name": "stderr",
     "output_type": "stream",
     "text": [
      " 98%|█████████████████████████████████████████████████████████████████████████████▋ | 490/498 [00:02<00:00, 173.49it/s]"
     ]
    },
    {
     "name": "stdout",
     "output_type": "stream",
     "text": [
      "Detected frames:  498\n"
     ]
    },
    {
     "name": "stderr",
     "output_type": "stream",
     "text": [
      "500it [00:02, 180.17it/s]                                                                                              \n"
     ]
    },
    {
     "name": "stdout",
     "output_type": "stream",
     "text": [
      "Saving results in D:\\videos\\ar33\\2020_11_24...\n",
      "Saving csv poses!\n",
      "Starting to analyze %  D:\\videos\\ar33\\2020_11_24\\Mask75L.avi\n",
      "D:\\videos\\ar33\\2020_11_24  already exists!\n",
      "Loading  D:\\videos\\ar33\\2020_11_24\\Mask75L.avi\n",
      "Duration of video [s]:  12.45 , recorded with  40.0 fps!\n",
      "Overall # of frames:  498  found with (before cropping) frame dimensions:  250 300\n",
      "Starting to extract posture\n"
     ]
    },
    {
     "name": "stderr",
     "output_type": "stream",
     "text": [
      " 98%|█████████████████████████████████████████████████████████████████████████████▋ | 490/498 [00:02<00:00, 173.96it/s]"
     ]
    },
    {
     "name": "stdout",
     "output_type": "stream",
     "text": [
      "Detected frames:  498\n"
     ]
    },
    {
     "name": "stderr",
     "output_type": "stream",
     "text": [
      "500it [00:02, 179.76it/s]                                                                                              \n"
     ]
    },
    {
     "name": "stdout",
     "output_type": "stream",
     "text": [
      "Saving results in D:\\videos\\ar33\\2020_11_24...\n",
      "Saving csv poses!\n",
      "Starting to analyze %  D:\\videos\\ar33\\2020_11_24\\Mask76L.avi\n",
      "D:\\videos\\ar33\\2020_11_24  already exists!\n",
      "Loading  D:\\videos\\ar33\\2020_11_24\\Mask76L.avi\n",
      "Duration of video [s]:  12.45 , recorded with  40.0 fps!\n",
      "Overall # of frames:  498  found with (before cropping) frame dimensions:  250 300\n",
      "Starting to extract posture\n"
     ]
    },
    {
     "name": "stderr",
     "output_type": "stream",
     "text": [
      " 98%|█████████████████████████████████████████████████████████████████████████████▋ | 490/498 [00:02<00:00, 174.93it/s]"
     ]
    },
    {
     "name": "stdout",
     "output_type": "stream",
     "text": [
      "Detected frames:  498\n"
     ]
    },
    {
     "name": "stderr",
     "output_type": "stream",
     "text": [
      "500it [00:02, 180.26it/s]                                                                                              \n"
     ]
    },
    {
     "name": "stdout",
     "output_type": "stream",
     "text": [
      "Saving results in D:\\videos\\ar33\\2020_11_24...\n",
      "Saving csv poses!\n",
      "Starting to analyze %  D:\\videos\\ar33\\2020_11_24\\Mask7L.avi\n",
      "D:\\videos\\ar33\\2020_11_24  already exists!\n",
      "Loading  D:\\videos\\ar33\\2020_11_24\\Mask7L.avi\n",
      "Duration of video [s]:  12.45 , recorded with  40.0 fps!\n",
      "Overall # of frames:  498  found with (before cropping) frame dimensions:  250 300\n",
      "Starting to extract posture\n"
     ]
    },
    {
     "name": "stderr",
     "output_type": "stream",
     "text": [
      " 98%|█████████████████████████████████████████████████████████████████████████████▋ | 490/498 [00:02<00:00, 174.38it/s]"
     ]
    },
    {
     "name": "stdout",
     "output_type": "stream",
     "text": [
      "Detected frames:  498\n"
     ]
    },
    {
     "name": "stderr",
     "output_type": "stream",
     "text": [
      "500it [00:02, 179.48it/s]                                                                                              \n"
     ]
    },
    {
     "name": "stdout",
     "output_type": "stream",
     "text": [
      "Saving results in D:\\videos\\ar33\\2020_11_24...\n",
      "Saving csv poses!\n",
      "Starting to analyze %  D:\\videos\\ar33\\2020_11_24\\Mask8L.avi\n",
      "D:\\videos\\ar33\\2020_11_24  already exists!\n",
      "Loading  D:\\videos\\ar33\\2020_11_24\\Mask8L.avi\n",
      "Duration of video [s]:  12.45 , recorded with  40.0 fps!\n",
      "Overall # of frames:  498  found with (before cropping) frame dimensions:  250 300\n",
      "Starting to extract posture\n"
     ]
    },
    {
     "name": "stderr",
     "output_type": "stream",
     "text": [
      " 98%|█████████████████████████████████████████████████████████████████████████████▋ | 490/498 [00:02<00:00, 173.43it/s]"
     ]
    },
    {
     "name": "stdout",
     "output_type": "stream",
     "text": [
      "Detected frames:  498\n"
     ]
    },
    {
     "name": "stderr",
     "output_type": "stream",
     "text": [
      "500it [00:02, 179.18it/s]                                                                                              \n"
     ]
    },
    {
     "name": "stdout",
     "output_type": "stream",
     "text": [
      "Saving results in D:\\videos\\ar33\\2020_11_24...\n",
      "Saving csv poses!\n",
      "Starting to analyze %  D:\\videos\\ar33\\2020_11_24\\Mask9L.avi\n",
      "D:\\videos\\ar33\\2020_11_24  already exists!\n",
      "Loading  D:\\videos\\ar33\\2020_11_24\\Mask9L.avi\n",
      "Duration of video [s]:  12.45 , recorded with  40.0 fps!\n",
      "Overall # of frames:  498  found with (before cropping) frame dimensions:  250 300\n",
      "Starting to extract posture\n"
     ]
    },
    {
     "name": "stderr",
     "output_type": "stream",
     "text": [
      " 98%|█████████████████████████████████████████████████████████████████████████████▋ | 490/498 [00:02<00:00, 172.86it/s]"
     ]
    },
    {
     "name": "stdout",
     "output_type": "stream",
     "text": [
      "Detected frames:  498\n"
     ]
    },
    {
     "name": "stderr",
     "output_type": "stream",
     "text": [
      "500it [00:02, 179.63it/s]                                                                                              \n"
     ]
    },
    {
     "name": "stdout",
     "output_type": "stream",
     "text": [
      "Saving results in D:\\videos\\ar33\\2020_11_24...\n",
      "Saving csv poses!\n",
      "The videos are analyzed. Now your research can truly start! \n",
      " You can create labeled videos with 'create_labeled_video'\n",
      "If the tracking is not satisfactory for some videos, consider expanding the training set. You can use the function 'extract_outlier_frames' to extract a few representative outlier frames.\n",
      "DLC_resnet50_ar33_11_24_20whiskersDec5shuffle1_747000\n",
      "Filtering with median model D:\\videos\\ar33\\2020_11_24\\Mask10L.avi\n",
      "Saving filtered csv poses!\n",
      "Filtering with median model D:\\videos\\ar33\\2020_11_24\\Mask11L.avi\n",
      "Saving filtered csv poses!\n",
      "Filtering with median model D:\\videos\\ar33\\2020_11_24\\Mask12L.avi\n",
      "Saving filtered csv poses!\n",
      "Filtering with median model D:\\videos\\ar33\\2020_11_24\\Mask13L.avi\n",
      "Saving filtered csv poses!\n",
      "Filtering with median model D:\\videos\\ar33\\2020_11_24\\Mask14L.avi\n",
      "Saving filtered csv poses!\n",
      "Filtering with median model D:\\videos\\ar33\\2020_11_24\\Mask15L.avi\n",
      "Saving filtered csv poses!\n",
      "Filtering with median model D:\\videos\\ar33\\2020_11_24\\Mask16L.avi\n",
      "Saving filtered csv poses!\n",
      "Filtering with median model D:\\videos\\ar33\\2020_11_24\\Mask17L.avi\n",
      "Saving filtered csv poses!\n",
      "Filtering with median model D:\\videos\\ar33\\2020_11_24\\Mask18L.avi\n",
      "Saving filtered csv poses!\n",
      "Filtering with median model D:\\videos\\ar33\\2020_11_24\\Mask19L.avi\n",
      "Saving filtered csv poses!\n",
      "Filtering with median model D:\\videos\\ar33\\2020_11_24\\Mask1L.avi\n",
      "Saving filtered csv poses!\n",
      "Filtering with median model D:\\videos\\ar33\\2020_11_24\\Mask20L.avi\n",
      "Saving filtered csv poses!\n",
      "Filtering with median model D:\\videos\\ar33\\2020_11_24\\Mask21L.avi\n",
      "Saving filtered csv poses!\n",
      "Filtering with median model D:\\videos\\ar33\\2020_11_24\\Mask22L.avi\n",
      "Saving filtered csv poses!\n",
      "Filtering with median model D:\\videos\\ar33\\2020_11_24\\Mask23L.avi\n",
      "Saving filtered csv poses!\n",
      "Filtering with median model D:\\videos\\ar33\\2020_11_24\\Mask24L.avi\n",
      "Saving filtered csv poses!\n",
      "Filtering with median model D:\\videos\\ar33\\2020_11_24\\Mask25L.avi\n",
      "Saving filtered csv poses!\n",
      "Filtering with median model D:\\videos\\ar33\\2020_11_24\\Mask26L.avi\n",
      "Saving filtered csv poses!\n",
      "Filtering with median model D:\\videos\\ar33\\2020_11_24\\Mask27L.avi\n",
      "Saving filtered csv poses!\n",
      "Filtering with median model D:\\videos\\ar33\\2020_11_24\\Mask28L.avi\n",
      "Saving filtered csv poses!\n",
      "Filtering with median model D:\\videos\\ar33\\2020_11_24\\Mask29L.avi\n",
      "Saving filtered csv poses!\n",
      "Filtering with median model D:\\videos\\ar33\\2020_11_24\\Mask2L.avi\n",
      "Saving filtered csv poses!\n",
      "Filtering with median model D:\\videos\\ar33\\2020_11_24\\Mask30L.avi\n",
      "Saving filtered csv poses!\n",
      "Filtering with median model D:\\videos\\ar33\\2020_11_24\\Mask31L.avi\n",
      "Saving filtered csv poses!\n",
      "Filtering with median model D:\\videos\\ar33\\2020_11_24\\Mask32L.avi\n",
      "Saving filtered csv poses!\n",
      "Filtering with median model D:\\videos\\ar33\\2020_11_24\\Mask33L.avi\n",
      "Saving filtered csv poses!\n",
      "Filtering with median model D:\\videos\\ar33\\2020_11_24\\Mask34L.avi\n",
      "Saving filtered csv poses!\n",
      "Filtering with median model D:\\videos\\ar33\\2020_11_24\\Mask35L.avi\n",
      "Saving filtered csv poses!\n",
      "Filtering with median model D:\\videos\\ar33\\2020_11_24\\Mask36L.avi\n",
      "Saving filtered csv poses!\n",
      "Filtering with median model D:\\videos\\ar33\\2020_11_24\\Mask37L.avi\n",
      "Saving filtered csv poses!\n",
      "Filtering with median model D:\\videos\\ar33\\2020_11_24\\Mask38L.avi\n",
      "Saving filtered csv poses!\n",
      "Filtering with median model D:\\videos\\ar33\\2020_11_24\\Mask39L.avi\n",
      "Saving filtered csv poses!\n",
      "Filtering with median model D:\\videos\\ar33\\2020_11_24\\Mask3L.avi\n",
      "Saving filtered csv poses!\n",
      "Filtering with median model D:\\videos\\ar33\\2020_11_24\\Mask40L.avi\n",
      "Saving filtered csv poses!\n",
      "Filtering with median model D:\\videos\\ar33\\2020_11_24\\Mask41L.avi\n",
      "Saving filtered csv poses!\n",
      "Filtering with median model D:\\videos\\ar33\\2020_11_24\\Mask42L.avi\n",
      "Saving filtered csv poses!\n",
      "Filtering with median model D:\\videos\\ar33\\2020_11_24\\Mask43L.avi\n",
      "Saving filtered csv poses!\n",
      "Filtering with median model D:\\videos\\ar33\\2020_11_24\\Mask44L.avi\n",
      "Saving filtered csv poses!\n",
      "Filtering with median model D:\\videos\\ar33\\2020_11_24\\Mask45L.avi\n",
      "Saving filtered csv poses!\n",
      "Filtering with median model D:\\videos\\ar33\\2020_11_24\\Mask46L.avi\n",
      "Saving filtered csv poses!\n",
      "Filtering with median model D:\\videos\\ar33\\2020_11_24\\Mask47L.avi\n",
      "Saving filtered csv poses!\n",
      "Filtering with median model D:\\videos\\ar33\\2020_11_24\\Mask48L.avi\n",
      "Saving filtered csv poses!\n",
      "Filtering with median model D:\\videos\\ar33\\2020_11_24\\Mask49L.avi\n",
      "Saving filtered csv poses!\n",
      "Filtering with median model D:\\videos\\ar33\\2020_11_24\\Mask4L.avi\n",
      "Saving filtered csv poses!\n",
      "Filtering with median model D:\\videos\\ar33\\2020_11_24\\Mask50L.avi\n",
      "Saving filtered csv poses!\n",
      "Filtering with median model D:\\videos\\ar33\\2020_11_24\\Mask51L.avi\n",
      "Saving filtered csv poses!\n",
      "Filtering with median model D:\\videos\\ar33\\2020_11_24\\Mask52L.avi\n",
      "Saving filtered csv poses!\n",
      "Filtering with median model D:\\videos\\ar33\\2020_11_24\\Mask53L.avi\n",
      "Saving filtered csv poses!\n",
      "Filtering with median model D:\\videos\\ar33\\2020_11_24\\Mask54L.avi\n",
      "Saving filtered csv poses!\n",
      "Filtering with median model D:\\videos\\ar33\\2020_11_24\\Mask55L.avi\n",
      "Saving filtered csv poses!\n",
      "Filtering with median model D:\\videos\\ar33\\2020_11_24\\Mask56L.avi\n",
      "Saving filtered csv poses!\n",
      "Filtering with median model D:\\videos\\ar33\\2020_11_24\\Mask57L.avi\n",
      "Saving filtered csv poses!\n",
      "Filtering with median model D:\\videos\\ar33\\2020_11_24\\Mask58L.avi\n",
      "Saving filtered csv poses!\n",
      "Filtering with median model D:\\videos\\ar33\\2020_11_24\\Mask59L.avi\n",
      "Saving filtered csv poses!\n",
      "Filtering with median model D:\\videos\\ar33\\2020_11_24\\Mask60L.avi\n",
      "Saving filtered csv poses!\n",
      "Filtering with median model D:\\videos\\ar33\\2020_11_24\\Mask61L.avi\n",
      "Saving filtered csv poses!\n",
      "Filtering with median model D:\\videos\\ar33\\2020_11_24\\Mask62L.avi\n",
      "Saving filtered csv poses!\n",
      "Filtering with median model D:\\videos\\ar33\\2020_11_24\\Mask63L.avi\n",
      "Saving filtered csv poses!\n",
      "Filtering with median model D:\\videos\\ar33\\2020_11_24\\Mask64L.avi\n",
      "Saving filtered csv poses!\n",
      "Filtering with median model D:\\videos\\ar33\\2020_11_24\\Mask65L.avi\n",
      "Saving filtered csv poses!\n",
      "Filtering with median model D:\\videos\\ar33\\2020_11_24\\Mask66L.avi\n",
      "Saving filtered csv poses!\n",
      "Filtering with median model D:\\videos\\ar33\\2020_11_24\\Mask67L.avi\n",
      "Saving filtered csv poses!\n",
      "Filtering with median model D:\\videos\\ar33\\2020_11_24\\Mask68L.avi\n",
      "Saving filtered csv poses!\n",
      "Filtering with median model D:\\videos\\ar33\\2020_11_24\\Mask69L.avi\n",
      "Saving filtered csv poses!\n",
      "Filtering with median model D:\\videos\\ar33\\2020_11_24\\Mask6L.avi\n",
      "Saving filtered csv poses!\n",
      "Filtering with median model D:\\videos\\ar33\\2020_11_24\\Mask70L.avi\n",
      "Saving filtered csv poses!\n",
      "Filtering with median model D:\\videos\\ar33\\2020_11_24\\Mask71L.avi\n",
      "Saving filtered csv poses!\n",
      "Filtering with median model D:\\videos\\ar33\\2020_11_24\\Mask72L.avi\n",
      "Saving filtered csv poses!\n",
      "Filtering with median model D:\\videos\\ar33\\2020_11_24\\Mask73L.avi\n",
      "Saving filtered csv poses!\n",
      "Filtering with median model D:\\videos\\ar33\\2020_11_24\\Mask74L.avi\n",
      "Saving filtered csv poses!\n",
      "Filtering with median model D:\\videos\\ar33\\2020_11_24\\Mask75L.avi\n",
      "Saving filtered csv poses!\n",
      "Filtering with median model D:\\videos\\ar33\\2020_11_24\\Mask76L.avi\n",
      "Saving filtered csv poses!\n",
      "Filtering with median model D:\\videos\\ar33\\2020_11_24\\Mask7L.avi\n",
      "Saving filtered csv poses!\n",
      "Filtering with median model D:\\videos\\ar33\\2020_11_24\\Mask8L.avi\n",
      "Saving filtered csv poses!\n",
      "Filtering with median model D:\\videos\\ar33\\2020_11_24\\Mask9L.avi\n",
      "Saving filtered csv poses!\n"
     ]
    }
   ],
   "source": [
    "Mainfolder = 'D:\\\\videos\\\\ar19\\\\2020_09_16'\n",
    "Mainfolder = 'D:\\\\videos\\\\ar32\\\\2020_10_12'\n",
    "Mainfolder = 'D:\\\\videos\\\\ar19\\\\2020_10_12'\n",
    "Mainfolder = 'D:\\\\videos\\\\ar30\\\\2020_11_04'\n",
    "Mainfolder = 'D:\\\\videos\\\\ar33\\\\2020_11_24'\n",
    "from pathlib import Path\n",
    "import os\n",
    "\n",
    "\n",
    "Xfiles = [os.path.join(Mainfolder,f) for f in os.listdir(Mainfolder) if f.endswith('L.avi') and not f.startswith('Mask') and not f.startswith('Mirror') ] # find all files with R.avi as file name\n",
    "Xfiles2 = [Path(f) for f in Xfiles] # make each file name path to extract the parents and anme\n",
    "Xfiles4 = [os.path.join(f.parents[0],'Mask'+f.name) for f in Xfiles2] # creat a same as files but with Mirror added to the file names\n",
    "Mainfolders =  [os.path.join(f.parents[0],f.stem[:-1]) for f in Xfiles2]\n",
    "Xfiles = [os.path.join(Mainfolder,f) for f in os.listdir(Mainfolder) if f.endswith('R.avi') and not f.startswith('Mask') and not f.startswith('Mirror') ] # find all files with R.avi as file name\n",
    "Xfiles2 = [Path(f) for f in Xfiles] # make each file name path to extract the parents and anme\n",
    "Xfiles3 = [os.path.join(f.parents[0],'Mirror'+f.name) for f in Xfiles2] # creat a same as files but with Mirror added to the file names\n",
    "Mainfolders =  [os.path.join(f.parents[0],f.stem[:-1]) for f in Xfiles2]\n",
    "print(Xfiles4)\n",
    "\n",
    "text_files = Xfiles3;\n",
    "scorername=deeplabcut.analyze_videos(path_config_file,text_files,shuffle=1, save_as_csv=True)\n",
    "print(scorername)\n",
    "deeplabcut.filterpredictions(path_config_file,text_files,shuffle=1)\n",
    "text_files = Xfiles4;\n",
    "scorername=deeplabcut.analyze_videos(path_config_file,text_files,shuffle=1, save_as_csv=True)\n",
    "print(scorername)\n",
    "deeplabcut.filterpredictions(path_config_file,text_files,shuffle=1)\n"
   ]
  },
  {
   "cell_type": "code",
   "execution_count": null,
   "metadata": {
    "colab": {},
    "colab_type": "code",
    "id": "Y_LZiS_0oEJl",
    "scrolled": false
   },
   "outputs": [],
   "source": [
    "text_files = Xfiles3;\n",
    "scorername=deeplabcut.analyze_videos(path_config_file,text_files,shuffle=1, save_as_csv=True)\n",
    "print(scorername)\n",
    "deeplabcut.filterpredictions(path_config_file,text_files,shuffle=1)\n",
    "text_files = Xfiles4;\n",
    "scorername=deeplabcut.analyze_videos(path_config_file,text_files,shuffle=1, save_as_csv=True)\n",
    "print(scorername)\n",
    "deeplabcut.filterpredictions(path_config_file,text_files,shuffle=1)"
   ]
  },
  {
   "cell_type": "code",
   "execution_count": null,
   "metadata": {},
   "outputs": [],
   "source": [
    "print(Xfiles4[158:])\n"
   ]
  },
  {
   "cell_type": "markdown",
   "metadata": {},
   "source": [
    "## Track non tracked files (optional)\n"
   ]
  },
  {
   "cell_type": "code",
   "execution_count": null,
   "metadata": {},
   "outputs": [],
   "source": [
    "# Track non tracked files \n",
    "import os\n",
    "path_config_file = 'F:\\\\ar2breathing\\\\10_06_19\\\\ar2_10062019_ii-Fassihi-2019-10-07\\\\config.yaml';\n",
    "Mainfolder = 'Y:\\\\movies_Rat_SC_project\\\\ar2breathing\\\\10_06_19'\n",
    "text_files = [os.path.join(Mainfolder,f) for f in os.listdir(Mainfolder) if f.endswith('.avi') and not f.endswith('L.avi') and not f.endswith('R.avi') and not f.endswith('videopoints.avi') and not f.endswith('breathing.avi')]\n",
    "text_files2 = [os.path.join(Mainfolder,f) for f in os.listdir(Mainfolder) if f.endswith('L.avi') ]\n",
    "#print(text_files)\n",
    "#%whos\n",
    "text_files3 = [f.replace(\"L.\", \".\") for f in text_files2 ]\n",
    "one_not_two = set(text_files) - set(text_files3)\n",
    "one_not_two = 'Y:\\\\movies_Rat_SC_project\\\\ar2breathing\\\\10_06_19\\\\22-25-05.avi'\n",
    "print(one_not_two)\n",
    "deeplabcut.analyze_videos(path_config_file,one_not_two,shuffle=1, save_as_csv=True)"
   ]
  },
  {
   "cell_type": "markdown",
   "metadata": {},
   "source": [
    "# Track Tracklets and then filter for multiple animals (maybe whiskers)"
   ]
  },
  {
   "cell_type": "code",
   "execution_count": null,
   "metadata": {},
   "outputs": [],
   "source": [
    "Mainfolder = 'D:\\\\videos\\\\ar21\\\\2020_07_08\\\\'\n",
    "Mainfolder = 'D:\\\\videos\\\\ar33\\\\2020_11_24\\\\'\n",
    "import os\n",
    "\n",
    "text_files = [os.path.join(Mainfolder,f) for f in os.listdir(Mainfolder) if f.endswith('L.avi') and not f.endswith('R.avi') and not f.endswith('R.avi') and not f.endswith('videopoints.avi') and not f.endswith('videopoints.avi')]\n",
    "print(text_files)\n",
    "deeplabcut.convert_detections2tracklets(path_config_file, text_files, videotype='avi',\n",
    "                                                    shuffle=1, trainingsetindex=0, track_method='skeleton')\n"
   ]
  },
  {
   "cell_type": "code",
   "execution_count": null,
   "metadata": {},
   "outputs": [],
   "source": [
    "#path_config_file = 'D:\\\\videos\\\\ar21\\\\2020_07_08\\\\ar21_08_06_20LR_LandR_M8-Arash-2020-07-28\\\\config.yaml';\n",
    "\n",
    "deeplabcut.create_video_with_all_detections(path_config_file, text_files[1], scorername)\n"
   ]
  },
  {
   "cell_type": "code",
   "execution_count": null,
   "metadata": {},
   "outputs": [],
   "source": [
    "videofile_path = text_files[20]\n",
    "print (videofile_path)\n",
    "pickle_or_h5_file = 'Mirror29RDLC_resnet50_ar21_08_06_20LR_LandR_M8Jul28shuffle1_61000_sk.pickle'\n",
    "pickle_or_h5_file= os.path.join( os.path.dirname(videofile_path),pickle_or_h5_file)\n",
    "text_files = Xfiles3;\n",
    "\n",
    "deeplabcut.refine_tracklets(path_config_file, pickle_or_h5_file, videofile_path, min_swap_len=2, min_tracklet_len=2, trail_len=50)\n"
   ]
  },
  {
   "cell_type": "code",
   "execution_count": null,
   "metadata": {},
   "outputs": [],
   "source": [
    "print(path_config_file)"
   ]
  },
  {
   "cell_type": "markdown",
   "metadata": {},
   "source": [
    "# filter the results using median model\n"
   ]
  },
  {
   "cell_type": "code",
   "execution_count": null,
   "metadata": {},
   "outputs": [],
   "source": [
    "\n",
    "text_files = Xfiles3;\n",
    "deeplabcut.filterpredictions(path_config_file,text_files,shuffle=1)"
   ]
  },
  {
   "cell_type": "markdown",
   "metadata": {},
   "source": [
    "# plot trajectories"
   ]
  },
  {
   "cell_type": "code",
   "execution_count": null,
   "metadata": {},
   "outputs": [],
   "source": [
    "print(path_config_file)\n",
    "deeplabcut.create_labeled_video(path_config_file,text_files,save_frames=False)\n",
    "\n",
    "deeplabcut.plot_trajectories(path_config_file,text_files[1],filtered = True,shuffle=1)\n"
   ]
  },
  {
   "cell_type": "markdown",
   "metadata": {
    "colab_type": "text",
    "id": "pCrUvQIvoEKD"
   },
   "source": [
    "## Create labeled video\n",
    "This funtion is for visualiztion purpose and can be used to create a video in .mp4 format with labels predicted by the network. This video is saved in the same directory where the original video resides. "
   ]
  },
  {
   "cell_type": "code",
   "execution_count": null,
   "metadata": {
    "colab": {},
    "colab_type": "code",
    "id": "6aDF7Q7KoEKE",
    "scrolled": true
   },
   "outputs": [],
   "source": [
    "# first we create a vector of destination file names\n",
    "import os \n",
    "\n",
    "dirname = os.path.dirname(text_files[1]) \n",
    "thesenames= [os.path.basename(f)  for f in text_files] \n",
    "text_files2 = [os.path.join( os.path.join(os.path.dirname(text_files[1]),'labled'),f) for f in thesenames ]  \n",
    "\n",
    "#os.mkdir\n",
    "if not (os.path.isdir(os.path.join(os.path.dirname(text_files[1]),'labled'))):\n",
    " os.mkdir(os.path.join(os.path.dirname(text_files[1]),'labled'))\n",
    "# Print the directory name   \n",
    "video = 'D:\\\\videos\\\\ar21\\\\2020_07_08\\\\5L.avi'\n",
    "deeplabcut.create_labeled_video(path_config_file,video,save_frames=False)\n",
    "#for f in text_files:\n",
    "#deeplabcut.create_labeled_video(path_config_file,videofile,save_frames=True) # my_new_list was created in prevouse cell as all videos in the folder \n",
    "#deeplabcut.create_labeled_video(path_config_file,f,save_frames=False)"
   ]
  },
  {
   "cell_type": "markdown",
   "metadata": {
    "colab_type": "text",
    "id": "iGu_PdTWoEJr"
   },
   "source": [
    "## Extract outlier frames [This is important step actually]\n",
    "This is an optional step and is used only when the evaluation results are poor i.e. the labels are incorrectly predicted. In such a case, the user can use the following function to extract frames where the labels are incorrectly predicted. Make sure to provide the correct value of the \"iterations\" as it will be used to create the unique directory where the extracted frames will be saved."
   ]
  },
  {
   "cell_type": "code",
   "execution_count": 14,
   "metadata": {},
   "outputs": [
    {
     "name": "stdout",
     "output_type": "stream",
     "text": [
      "D:\\videos\\ar33\\2020_11_24\\Mirror1R.avi\n",
      "Method  uncertain  found  0  putative outlier frames.\n",
      "Do you want to proceed with extracting  20  of those?\n",
      "If this list is very large, perhaps consider changing the parameters (start, stop, p_bound, comparisonbodyparts) or use a different method.\n",
      "yes/noNO\n",
      "Nothing extracted, please change the parameters and start again...\n"
     ]
    }
   ],
   "source": [
    "#video=['D:\\\\rat_movies_SC\\\\ar17record\\\\02_27_19\\\\analyzed\\\\18-37-27.avi']\n",
    "#video=['D:\\\\rat_movies_SC\\\\ar15record\\\\02_27_19\\\\17-33-50video.mp4']\n",
    "#video=['D:\\\\Dropbox\\\\ar17\\\\02_25_19\\\\22-37-23.avi']\n",
    "video = ['D:\\\\movies_Rat_SC_project\\\\ar1\\\\05_24_19\\\\11-09-14.avi']\n",
    "video = ['D:\\\\movies_Rat_SC_project\\\\ar20\\\\06_20_19\\\\17-19-45.avi','D:\\\\movies_Rat_SC_project\\\\ar20\\\\06_20_19\\\\17-31-05.avi','D:\\\\movies_Rat_SC_project\\\\ar20\\\\06_20_19\\\\17-30-40.avi']\n",
    "#15-17-08v\n",
    "video = ['D:\\\\rat_movies_SC\\\\ar19tear19salin\\\\10_08_19\\\\00-27-18.avi','D:\\\\rat_movies_SC\\\\ar19tear19salin\\\\10_08_19\\\\00-24-47.avi']\n",
    "video = ['D:\\\\rat_movies_SC\\\\ar19tear19salin\\\\10_08_19\\\\00-24-26video.mp4']\n",
    "video = ['E:\\\\movies\\\\ar2breathing\\\\10_06_19\\\\21-57-55L.avi']\n",
    "video = Xfiles3[10]\n",
    "\n",
    "#path_config_file = 'D:\\\\rat_movies_SC\\\\ar19muscimol\\\\10_10_2019\\\\ar19muscimol10-10-19_LR_L-Arash-2020-03-01\\\\config.yaml';\n",
    "\n",
    "#path_config_file = 'D:\\\\rat_movies_SC\\\\ar17record\\\\02_27_19\\\\sc_ar17record_02272019_3-Fassihi-2019-04-28\\\\config.yaml'\n",
    "#path_config_file = 'D:\\\\rat_movies_SC\\\\ar15record\\\\02_27_19\\\\sc_ar15record_02272019-Fassihi-2019-03-12\\\\config.yaml'\n",
    "#path_config_file = 'D:\\\\movies_Rat_SC_project\\\\ar1\\\\05_24_19\\\\sc_aa1_05242019-Fassihi-2019-05-30\\\\config.yaml' #Enter the path of the config file that was just created from the above step (check the folder)\n",
    "#path_config_file = 'D:\\\\movies_Rat_SC_project\\\\ar3\\\\06_07_19\\\\sc_aa3_06072019-Fassihi-2019-06-10\\\\config.yaml' #Enter the path of the config file that was just created from the above step (check the folder)\n",
    "#path_config_file = 'D:\\\\movies_Rat_SC_project\\\\ar14\\\\06_18_19\\\\sc_ar14_06182019-Fassihi-2019-06-19\\\\config.yaml' #Enter the path of the config file that was just created from the above step (check the folder)\n",
    "print(video)\n",
    "\n",
    "#deeplabcut.extract_outlier_frames(path_config_file,video,outlieralgorithm='uncertain',p_bound=.6)\n",
    "#deeplabcut.extract_outlier_frames(path_config_file,video,outlieralgorithm='uncertain',comparisonbodyparts =  ['nose','snout'],p_bound=.6)\n",
    "deeplabcut.extract_outlier_frames(path_config_file,video,outlieralgorithm='uncertain',p_bound=.999,shuffle=1)\n",
    "\n"
   ]
  },
  {
   "cell_type": "code",
   "execution_count": null,
   "metadata": {},
   "outputs": [],
   "source": [
    "deeplabcut.analyzeskeleton(path_config_file, video, videotype='avi', shuffle=1, trainingsetindex=0, save_as_csv=False, destfolder=None)\n"
   ]
  },
  {
   "cell_type": "code",
   "execution_count": null,
   "metadata": {},
   "outputs": [],
   "source": [
    "print(video[2])\n"
   ]
  },
  {
   "cell_type": "code",
   "execution_count": null,
   "metadata": {
    "colab": {},
    "colab_type": "code",
    "id": "gkbaBOJVoEJs"
   },
   "outputs": [],
   "source": [
    "\n",
    "path_config_file = 'D:\\\\rat_movies_SC\\\\ar19\\\\02_07_19\\\\sc_ar19_02072019-Fassihi4-2019-02-13\\\\config.yaml' #Enter the path of the config file that was just created from the above step (check the folder)\n",
    "\n",
    "import os\n",
    "Mainfolder = 'D:\\\\rat_movies_SC\\\\ar19\\\\02_07_19'\n",
    "\n",
    "\n",
    "f = os.listdir(Mainfolder)\n",
    "text_files = [f for f in os.listdir(Mainfolder) if f.endswith('.avi')]\n",
    "\n",
    "\n",
    "my_list = text_files\n",
    "thisApen = Mainfolder+'kir'\n",
    "thisApen = thisApen.replace(\"kir\", \"\\\\\")\n",
    "string = thisApen\n",
    "my_new_list = [ string + x for x in my_list]\n",
    "\n",
    "deeplabcut.extract_outlier_frames(path_config_file,my_new_list)"
   ]
  },
  {
   "cell_type": "markdown",
   "metadata": {
    "colab_type": "text",
    "id": "8ib0uvhaoEJx"
   },
   "source": [
    "## Refine Labels [optional step]\n",
    "Following the extraction of outlier frames, the user can use the following function to move the predicted labels to the correct location. Thus augmenting the training dataset."
   ]
  },
  {
   "cell_type": "code",
   "execution_count": null,
   "metadata": {
    "colab": {},
    "colab_type": "code",
    "id": "n_FpEXtyoEJy"
   },
   "outputs": [],
   "source": [
    "#path_config_file = 'D:\\\\movies_Rat_SC_project\\\\ar1\\\\05_24_19\\\\sc_aa1_05242019-Fassihi-2019-05-30\\\\config.yaml' #Enter the path of the config file that was just created from the above step (check the folder)\n",
    "#path_config_file = 'D:\\\\movies_Rat_SC_project\\\\ar3\\\\06_07_19\\\\sc_aa3_06072019-Fassihi-2019-06-10\\\\config.yaml' #Enter the path of the config file that was just created from the above step (check the folder)\n",
    "\n",
    "#import matplotlib\n",
    "#print(matplotlib.__version__)\n",
    "%gui wx\n",
    "#path_config_file = 'D:\\\\rat_movies_SC\\\\ar15record\\\\02_27_19\\\\sc_ar15record_02272019-Fassihi-2019-03-12\\\\config.yaml'\n",
    "#print(path_config_file)\n",
    "deeplabcut.refine_labels(path_config_file)"
   ]
  },
  {
   "cell_type": "code",
   "execution_count": null,
   "metadata": {
    "colab": {},
    "colab_type": "code",
    "id": "CHzstWr8oEJ2"
   },
   "outputs": [],
   "source": [
    "#Once all folders are relabeled, check them and advance. See how to check labels, above!\n",
    "#path_config_file = 'D:\\\\movies_Rat_SC_project\\\\ar1\\\\05_24_19\\\\sc_aa1_05242019-Fassihi-2019-05-30\\\\config.yaml' #Enter the path of the config file that was just created from the above step (check the folder)\n",
    "#path_config_file = 'D:\\\\movies_Rat_SC_project\\\\ar3\\\\06_07_19\\\\sc_aa3_06072019-Fassihi-2019-06-10\\\\config.yaml' #Enter the path of the config file that was just created from the above step (check the folder)\n",
    "\n",
    "deeplabcut.merge_datasets(path_config_file)"
   ]
  },
  {
   "cell_type": "markdown",
   "metadata": {
    "colab_type": "text",
    "id": "QCHj7qyboEJ6"
   },
   "source": [
    "## Create a new iteration of training dataset [optional step]\n",
    "Following the refine labels, append these frames to the original dataset to create a new iteration of training dataset."
   ]
  },
  {
   "cell_type": "code",
   "execution_count": null,
   "metadata": {
    "colab": {},
    "colab_type": "code",
    "id": "ytQoxIldoEJ7",
    "scrolled": true
   },
   "outputs": [],
   "source": [
    "list_of_ints = list(range(2))\n",
    "print(list_of_ints)\n",
    "deeplabcut.create_training_dataset(path_config_file,Shuffles= list_of_ints) ;"
   ]
  },
  {
   "cell_type": "markdown",
   "metadata": {
    "colab_type": "text",
    "id": "8GTiuJESoEKH"
   },
   "source": [
    "## Plot the trajectories of the analyzed videos (optional)\n",
    "This function plots the trajectories of all the body parts across the entire video. Each body part is identified by a unique color."
   ]
  },
  {
   "cell_type": "code",
   "execution_count": null,
   "metadata": {
    "colab": {},
    "colab_type": "code",
    "id": "gX21zZbXoEKJ"
   },
   "outputs": [],
   "source": [
    "%matplotlib notebook #for making interactive plots.\n",
    "deeplabcut.plot_trajectories(path_config_file,my_new_list)\n",
    "\n"
   ]
  }
 ],
 "metadata": {
  "accelerator": "GPU",
  "colab": {
   "name": "Demo-yourowndata.ipynb",
   "provenance": [],
   "version": "0.3.2"
  },
  "kernelspec": {
   "display_name": "Python 3",
   "language": "python",
   "name": "python3"
  },
  "language_info": {
   "codemirror_mode": {
    "name": "ipython",
    "version": 3
   },
   "file_extension": ".py",
   "mimetype": "text/x-python",
   "name": "python",
   "nbconvert_exporter": "python",
   "pygments_lexer": "ipython3",
   "version": "3.6.9"
  },
  "varInspector": {
   "cols": {
    "lenName": 16,
    "lenType": 16,
    "lenVar": 40
   },
   "kernels_config": {
    "python": {
     "delete_cmd_postfix": "",
     "delete_cmd_prefix": "del ",
     "library": "var_list.py",
     "varRefreshCmd": "print(var_dic_list())"
    },
    "r": {
     "delete_cmd_postfix": ") ",
     "delete_cmd_prefix": "rm(",
     "library": "var_list.r",
     "varRefreshCmd": "cat(var_dic_list()) "
    }
   },
   "types_to_exclude": [
    "module",
    "function",
    "builtin_function_or_method",
    "instance",
    "_Feature"
   ],
   "window_display": false
  }
 },
 "nbformat": 4,
 "nbformat_minor": 1
}
