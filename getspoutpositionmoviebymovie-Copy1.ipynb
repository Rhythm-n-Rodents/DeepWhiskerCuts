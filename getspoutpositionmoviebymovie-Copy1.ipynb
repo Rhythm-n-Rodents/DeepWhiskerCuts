{
 "cells": [
  {
   "cell_type": "code",
   "execution_count": 3,
   "metadata": {},
   "outputs": [
    {
     "ename": "NameError",
     "evalue": "name 'x_start' is not defined",
     "output_type": "error",
     "traceback": [
      "\u001b[1;31m---------------------------------------------------------------------------\u001b[0m",
      "\u001b[1;31mNameError\u001b[0m                                 Traceback (most recent call last)",
      "Input \u001b[1;32mIn [3]\u001b[0m, in \u001b[0;36m<module>\u001b[1;34m\u001b[0m\n\u001b[0;32m     61\u001b[0m     cv2\u001b[38;5;241m.\u001b[39mwaitKey(\u001b[38;5;241m0\u001b[39m) \n\u001b[0;32m     62\u001b[0m     cv2\u001b[38;5;241m.\u001b[39mdestroyAllWindows() \n\u001b[1;32m---> 63\u001b[0m     worksheet\u001b[38;5;241m.\u001b[39mwrite(thisindex\u001b[38;5;241m+\u001b[39m\u001b[38;5;241m1\u001b[39m, \u001b[38;5;241m1\u001b[39m,\u001b[43mx_start\u001b[49m)\n\u001b[0;32m     64\u001b[0m     worksheet\u001b[38;5;241m.\u001b[39mwrite(thisindex\u001b[38;5;241m+\u001b[39m\u001b[38;5;241m1\u001b[39m, \u001b[38;5;241m2\u001b[39m,y_start)\n\u001b[0;32m     66\u001b[0m \u001b[38;5;28;01mfor\u001b[39;00m thisindex,moviesind \u001b[38;5;129;01min\u001b[39;00m \u001b[38;5;28menumerate\u001b[39m(Xfiles):\n",
      "\u001b[1;31mNameError\u001b[0m: name 'x_start' is not defined"
     ]
    }
   ],
   "source": [
    "    import xlsxwriter  # this is to write xls files \n",
    "    import os # this is to get folder information and creat files \n",
    "    import cv2 # this is important and is reading and writing images and video \n",
    "    import shutil # to remove folder and subfolders\n",
    "    Mainfolder = 'D:\\\\Sidevideos\\\\AR35MOTOR\\\\2022_01_27\\\\'\n",
    "    my_file = os.path.join(Mainfolder+'SpoutpositionRightside.xlsx');\n",
    "    #my_file = os.path.join(Mainfolder+'SpoutpositionLeftside.xlsx');\n",
    "    #my_file = os.path.join(Mainfolder+'SpoutpositionTop.xlsx');\n",
    "\n",
    "    workbook = xlsxwriter.Workbook(my_file)\n",
    "    worksheet = workbook.add_worksheet()\n",
    "\n",
    "def click_event(event, x, y, flags, params): \n",
    "     global x_start,y_start\n",
    "     if event == cv2.EVENT_LBUTTONDOWN: \n",
    "\n",
    "        # displaying the coordinates \n",
    "        # on the Shell \n",
    "        print(x,' ', y) \n",
    "        # displaying the coordinates \n",
    "        # on the image window \n",
    "        font = cv2.FONT_HERSHEY_SIMPLEX \n",
    "        cv2.putText(img, str(x) + ',' +\n",
    "                    str(y), (x,y), font, \n",
    "                    1, (255, 255, 0), 2) \n",
    "        cv2.circle(img, (x,y), radius=2, color=(0, 0, 255), thickness=-1)\n",
    "\n",
    "        cv2.imshow('image', img) \n",
    "        x_start, y_start = x, y\n",
    "        \n",
    "def click_event2(event, x, y, flags, params): \n",
    "     global x_start,y_start\n",
    "     if event == cv2.EVENT_LBUTTONDOWN: \n",
    "\n",
    "        # displaying the coordinates \n",
    "        # on the Shell \n",
    "        print(x,' ', y) \n",
    "        # displaying the coordinates \n",
    "        # on the image window \n",
    "        font = cv2.FONT_HERSHEY_SIMPLEX \n",
    "        cv2.putText(img, str(x) + ',' +\n",
    "                    str(y), (x,y), font, \n",
    "                    1, (255, 0, 100), 2) \n",
    "        cv2.circle(img, (x,y), radius=2, color=(0, 0, 255), thickness=-1)\n",
    "\n",
    "        cv2.imshow('image', img) \n",
    "        x_start, y_start = x, y       \n",
    "    \n",
    "#Mainfolder = 'D:\\\\videos\\\\ar30\\\\2020_10_14'\n",
    "Xfiles = [os.path.join(Mainfolder,f) for f in os.listdir(Mainfolder) if f.endswith('video.mp4')] # find all       files with R.avi as file name\n",
    "#print(Xfiles)\n",
    "for thisindex,moviesind in enumerate(Xfiles):\n",
    "\n",
    "        video_name = Xfiles[thisindex];\n",
    "        cap = cv2.VideoCapture(video_name)# reading the videofile\n",
    "        ret, img = cap.read()\n",
    "        cv2.namedWindow('image')\n",
    "        #img = cv2.cvtColor(frame, cv2.COLOR_BGR2GRAY)\n",
    "        cv2.imshow('image',img)\n",
    "        cv2.setMouseCallback('image', click_event) \n",
    "        cv2.waitKey(0) \n",
    "        cv2.destroyAllWindows() \n",
    "        worksheet.write(thisindex+1, 1,x_start)\n",
    "        worksheet.write(thisindex+1, 2,y_start)\n",
    "        \n",
    "for thisindex,moviesind in enumerate(Xfiles):\n",
    "\n",
    "        video_name = Xfiles[thisindex];\n",
    "        cap = cv2.VideoCapture(video_name)# reading the videofile\n",
    "        ret, img = cap.read()\n",
    "        cv2.namedWindow('image')\n",
    "        #img = cv2.cvtColor(frame, cv2.COLOR_BGR2GRAY)\n",
    "        cv2.imshow('image',img)\n",
    "        cv2.setMouseCallback('image', click_event2) \n",
    "        cv2.waitKey(0) \n",
    "        cv2.destroyAllWindows() \n",
    "        worksheet.write(thisindex+1, 3,x_start)\n",
    "        worksheet.write(thisindex+1, 4, y_start)\n",
    "        \n"
   ]
  },
  {
   "cell_type": "code",
   "execution_count": 97,
   "metadata": {},
   "outputs": [],
   "source": [
    "for thisindex,moviesind in enumerate(Xfiles):\n",
    "\n",
    "        video_name = Xfiles[thisindex];\n",
    "        cap = cv2.VideoCapture(video_name)# reading the videofile\n",
    "        ret, img = cap.read()\n",
    "        cv2.namedWindow('image')\n",
    "        #img = cv2.cvtColor(frame, cv2.COLOR_BGR2GRAY)\n",
    "        cv2.imshow('image',img)\n",
    "        cv2.setMouseCallback('image', click_event2) \n",
    "        cv2.waitKey(0) \n",
    "        cv2.destroyAllWindows() \n",
    "        worksheet.write(thisindex+1, 5,video_name)\n",
    "   "
   ]
  },
  {
   "cell_type": "code",
   "execution_count": 102,
   "metadata": {},
   "outputs": [
    {
     "name": "stdout",
     "output_type": "stream",
     "text": [
      "9video.mp4\n"
     ]
    },
    {
     "data": {
      "text/plain": [
       "'9'"
      ]
     },
     "execution_count": 102,
     "metadata": {},
     "output_type": "execute_result"
    }
   ],
   "source": [
    "import ntpath\n",
    "head, tail = ntpath.split(video_name)\n",
    "tail.replace('video.mp4', '')"
   ]
  },
  {
   "cell_type": "code",
   "execution_count": 99,
   "metadata": {},
   "outputs": [],
   "source": [
    "\n",
    "# open the file for reading\n",
    "wbRD = xlrd.open_workbook(\"{}/Desktop/test.xlsx\".format(home))\n",
    "sheets = wbRD.sheets()\n",
    "\n",
    "# open the same file for writing (just don't write yet)\n",
    "wb = xlsxwriter.Workbook(\"{}/Desktop/test.xlsx\".format(home))\n",
    "\n",
    "  my_file = os.path.join(Mainfolder+'Spoutposition2.xlsx');\n",
    "workbook = xlsxwriter.Workbook(my_file)\n",
    "     worksheet = workbook.add_worksheet()\n",
    "\n",
    "workbook.close()\n",
    "       "
   ]
  }
 ],
 "metadata": {
  "kernelspec": {
   "display_name": "Python 3 (ipykernel)",
   "language": "python",
   "name": "python3"
  },
  "language_info": {
   "codemirror_mode": {
    "name": "ipython",
    "version": 3
   },
   "file_extension": ".py",
   "mimetype": "text/x-python",
   "name": "python",
   "nbconvert_exporter": "python",
   "pygments_lexer": "ipython3",
   "version": "3.8.12"
  }
 },
 "nbformat": 4,
 "nbformat_minor": 2
}
