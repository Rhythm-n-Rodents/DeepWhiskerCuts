{
 "cells": [
  {
   "cell_type": "markdown",
   "metadata": {
    "colab_type": "text",
    "id": "RK255E7YoEIt"
   },
   "source": [
    "# Arash SC create a project for head position\n",
    "\n",
    "\n",
    "\n",
    "This notebook demonstrates the necessary steps to use python and DeepLabCut for creating and analysins videos from orientation \n",
    "experiment \n",
    "\n",
    "This notebook illustrates how to:\n",
    " \n",
    "- make a movie from images \n",
    "- create a project\n",
    "- extract training frames\n",
    "- label the frames\n",
    "- plot the labeled images (optional)\n",
    "- create a training set\n",
    "- train a network\n",
    "- evaluate a network\n",
    "- analyze a novel video\n",
    "- create an automatically labeled video (optional)\n",
    "- Go to Matlab \n",
    "\n"
   ]
  },
  {
   "cell_type": "markdown",
   "metadata": {
    "colab_type": "text",
    "id": "9Uoz9mdPoEIy"
   },
   "source": [
    "## Create a new project\n",
    "\n",
    "It is always good idea to keep the projects seperate. This function creates a new project with subdirectories and a basic configuration file in the user defined directory otherwise the project is created in the current working directory.\n",
    "\n",
    "You can always add new videos to the project at any stage of the project. "
   ]
  },
  {
   "cell_type": "code",
   "execution_count": 1,
   "metadata": {
    "colab": {},
    "colab_type": "code",
    "id": "jqLZhp7EoEI0"
   },
   "outputs": [],
   "source": [
    "import deeplabcut\n",
    "## https://github.com/AlexEMG/DeepLabCut"
   ]
  },
  {
   "cell_type": "code",
   "execution_count": 5,
   "metadata": {
    "colab": {},
    "colab_type": "code",
    "id": "c9DjG55FoEI7",
    "scrolled": true
   },
   "outputs": [
    {
     "name": "stdout",
     "output_type": "stream",
     "text": [
      "['D:\\\\Sidevideos\\\\AR35MOTOR\\\\2022_02_04\\\\96EYE.avi', 'D:\\\\Sidevideos\\\\AR35MOTOR\\\\2022_02_04\\\\72EYE.avi', 'D:\\\\Sidevideos\\\\AR35MOTOR\\\\2022_02_04\\\\65EYE.avi', 'D:\\\\Sidevideos\\\\AR35MOTOR\\\\2022_02_04\\\\49EYE.avi', 'D:\\\\Sidevideos\\\\AR35MOTOR\\\\2022_02_04\\\\306EYE.avi', 'D:\\\\Sidevideos\\\\AR35MOTOR\\\\2022_02_04\\\\294EYE.avi', 'D:\\\\Sidevideos\\\\AR34MOTOR\\\\2022_02_04\\\\9EYE.avi', 'D:\\\\Sidevideos\\\\AR34MOTOR\\\\2022_02_04\\\\99EYE.avi', 'D:\\\\Sidevideos\\\\AR34MOTOR\\\\2022_02_04\\\\79EYE.avi', 'D:\\\\Sidevideos\\\\AR34MOTOR\\\\2022_02_04\\\\66EYE.avi', 'D:\\\\Sidevideos\\\\AR34MOTOR\\\\2022_02_04\\\\37EYE.avi']\n",
      "Created \"D:\\Sidevideos\\DLC\\Eyedata6-Arash-2022-02-06\\videos\"\n",
      "Created \"D:\\Sidevideos\\DLC\\Eyedata6-Arash-2022-02-06\\labeled-data\"\n",
      "Created \"D:\\Sidevideos\\DLC\\Eyedata6-Arash-2022-02-06\\training-datasets\"\n",
      "Created \"D:\\Sidevideos\\DLC\\Eyedata6-Arash-2022-02-06\\dlc-models\"\n",
      "Copying the videos\n",
      "D:\\Sidevideos\\DLC\\Eyedata6-Arash-2022-02-06\\videos\\96EYE.avi\n",
      "D:\\Sidevideos\\DLC\\Eyedata6-Arash-2022-02-06\\videos\\72EYE.avi\n",
      "D:\\Sidevideos\\DLC\\Eyedata6-Arash-2022-02-06\\videos\\65EYE.avi\n",
      "D:\\Sidevideos\\DLC\\Eyedata6-Arash-2022-02-06\\videos\\49EYE.avi\n",
      "D:\\Sidevideos\\DLC\\Eyedata6-Arash-2022-02-06\\videos\\306EYE.avi\n",
      "D:\\Sidevideos\\DLC\\Eyedata6-Arash-2022-02-06\\videos\\294EYE.avi\n",
      "D:\\Sidevideos\\DLC\\Eyedata6-Arash-2022-02-06\\videos\\9EYE.avi\n",
      "D:\\Sidevideos\\DLC\\Eyedata6-Arash-2022-02-06\\videos\\99EYE.avi\n",
      "D:\\Sidevideos\\DLC\\Eyedata6-Arash-2022-02-06\\videos\\79EYE.avi\n",
      "D:\\Sidevideos\\DLC\\Eyedata6-Arash-2022-02-06\\videos\\66EYE.avi\n",
      "D:\\Sidevideos\\DLC\\Eyedata6-Arash-2022-02-06\\videos\\37EYE.avi\n",
      "Generated \"D:\\Sidevideos\\DLC\\Eyedata6-Arash-2022-02-06\\config.yaml\"\n",
      "\n",
      "A new project with name Eyedata6-Arash-2022-02-06 is created at D:\\Sidevideos\\DLC and a configurable file (config.yaml) is stored there. Change the parameters in this file to adapt to your project's needs.\n",
      " Once you have changed the configuration file, use the function 'extract_frames' to select frames for labeling.\n",
      ". [OPTIONAL] Use the function 'add_new_videos' to add new videos to your project (at any stage).\n"
     ]
    },
    {
     "data": {
      "text/plain": [
       "'D:\\\\Sidevideos\\\\DLC\\\\Eyedata6-Arash-2022-02-06\\\\config.yaml'"
      ]
     },
     "execution_count": 5,
     "metadata": {},
     "output_type": "execute_result"
    }
   ],
   "source": [
    "task='Eye_8pupil_4side_2light' \n",
    "\n",
    "experimenter='Arash' # Enter the name of the experimenter\n",
    "\n",
    "Mainfolder = '\\\\\\\\dk-server.dk.ucsd.edu\\\\afassihizakeri\\\\Leftsidemovies\\\\ar30motor\\\\2022_04_21';\n",
    "filenames = ['96EYE.avi','9EYE.avi','97EYE.avi','94EYE.avi','80EYE.avi']; # Enter the name of the files you want to train\n",
    "video = [str(Mainfolder)+str(f) for f in filenames]; # add path to each file\n",
    "Mainfolder2 = '\\\\\\\\dk-server.dk.ucsd.edu\\\\afassihizakeri\\\\Leftsidemovies\\\\ar30motor\\\\2022_04_21';\n",
    "filenames2 = ['96EYE.avi','9EYE.avi','97EYE.avi','94EYE.avi','80EYE.avi']; # Enter the name of the files you want to train\n",
    "video2 = [str(Mainfolder2)+str(f) for f in filenames2]; # add path to each file\n",
    "video = video+video2\n",
    "Mainfolder3 = '\\\\\\\\dk-server.dk.ucsd.edu\\\\afassihizakeri\\\\rightsidemovies\\\\AR30MOTOR\\\\2022_02_18';\\\n",
    "filenames3 = ['69EYE.avi','40EYE.avi','30EYE.avi']; # Enter the name of the files you want to train\n",
    "#video2 = [str(Mainfolder3)+str(f) for f in filenames2]; # add path to each file\n",
    "#video = video+video2\n",
    "\n",
    "print(video)\n",
    "#deeplabcut.create_new_project(task,experimenter,video, working_directory=Mainfolder,copy_videos=False) #change the working directory to where you want the folders created.\n",
    "deeplabcut.create_new_project(task,experimenter, video, working_directory='D:\\\\Sidevideos\\\\DLC',copy_videos=True, multianimal=False)\n",
    "#deeplabcut.create_new_project(task,experimenter, video,copy_videos=True)"
   ]
  },
  {
   "cell_type": "markdown",
   "metadata": {
    "colab_type": "text",
    "id": "0yXW0bx1oEJA"
   },
   "source": [
    "## Extract frames from videos \n",
    "A key point for a successful feature detector is to select diverse frames, which are typical for the behavior you study that should be labeled.\n",
    "\n",
    "This function selects N frames either uniformly sampled from a particular video (or folder) (algo=='uniform'). Note: this might not yield diverse frames, if the behavior is sparsely distributed (consider using kmeans), and/or select frames manually etc.\n",
    "\n",
    "Also make sure to get select data from different (behavioral) sessions and different animals if those vary substantially (to train an invariant feature detector).\n",
    "\n",
    "Individual images should not be too big (i.e. < 850 x 850 pixel). Although this can be taken care of later as well, it is advisable to crop the frames, to remove unnecessary parts of the frame as much as possible.\n",
    "\n",
    "Always check the output of cropping. If you are happy with the results proceed to labeling."
   ]
  },
  {
   "cell_type": "code",
   "execution_count": null,
   "metadata": {
    "colab": {},
    "colab_type": "code",
    "id": "t1ulumCuoEJC"
   },
   "outputs": [],
   "source": [
    "%matplotlib inline\n",
    "path_config_file = 'D:\\\\Dropbox\\\\Notebook\\\\ar19_09_15_20Face2-Arash-2020-09-15\\\\config.yaml';\n",
    "path_config_file = 'D:\\\\Dropbox\\\\Notebook\\\\ar32_10_09_20Face3-Arash-2020-10-10\\\\config.yaml';\n",
    "path_config_file = 'D:\\\\Dropbox\\\\Notebook\\\\ar30_10_10_14spouts-Arash-2020-10-24\\\\config.yaml';\n",
    "path_config_file = 'D:\\\\videos\\\\ar32\\\\ar32_10_11_12-Arash-2020-11-14\\\\config.yaml';\n",
    "path_config_file = 'D:\\\\videos\\\\ar32\\\\ar302_10_11_14-Arash-2020-11-16\\\\config.yaml';\n",
    "path_config_file = 'D:\\\\videos\\\\ar32\\\\ar32_10_11_24-Arash-2020-11-25\\\\config.yaml';\n",
    "path_config_file ='D:\\\\Sidevideos\\\\DLC\\\\Sideview_Aug-Arash-2021-08-04\\\\config.yaml';\n",
    "path_config_file = 'D:\\\\Sidevideos\\\\DLC\\\\Eyedata6-Arash-2022-02-06\\\\config.yaml';\n",
    "#Enter the path of the config file that was just created from the above step (check the folder)\n",
    "deeplabcut.extract_frames(path_config_file,'automatic','uniform',crop=True) #there are other ways to grab frames, such as by clustering 'kmeans'; please see the paper. \n",
    "#deeplabcut.extract_frames(path_config_file,'automatic','uniform',crop=True, checkcropping=True) #there are other ways to grab frames, such as by clustering 'kmeans'; please see the paper. \n",
    "#You can change the cropping to false, then delete the checkcropping part!"
   ]
  },
  {
   "cell_type": "markdown",
   "metadata": {},
   "source": [
    "## define the config path and load deeplabcut\n"
   ]
  },
  {
   "cell_type": "code",
   "execution_count": null,
   "metadata": {},
   "outputs": [],
   "source": [
    "# write the Path config file path\n",
    "path_config_file = 'E:\\\\movies\\\\ar2breathing\\\\10_08_19\\\\ar2breathing_10_08_19LR_R-Arash-2020-04-30\\\\config.yaml';\n",
    "path_config_file = 'D:\\\\videos\\\\ar21\\\\2020-07-06\\\\ar21_07_06_20Face2-Arash-2020-07-07\\\\config.yaml';\n",
    "path_config_file = 'D:\\\\Dropbox\\\\Notebook\\\\ar19_09_15_20Face3-Arash-2020-09-16\\\\config.yaml';\n",
    "path_config_file = 'D:\\\\videos\\\\ar32\\\\2020_10_09\\\\ar32_10_09_20Face3-Arash-2020-10-10\\\\config.yaml';\n",
    "path_config_file = 'D:\\\\notebook\\\\ar30_10_10_14spouts-Arash-2020-10-24\\\\config.yaml';\n",
    "path_config_file = 'D:\\\\videos\\\\ar30\\\\ar30_10_11_04-Arash-2020-11-05\\\\config.yaml';\n",
    "path_config_file = 'D:\\\\videos\\\\ar32\\\\ar32_10_11_12-Arash-2020-11-14\\\\config.yaml';\n",
    "path_config_file = 'D:\\\\videos\\\\ar32\\\\ar302_10_11_14-Arash-2020-11-16\\\\config.yaml';\n",
    "path_config_file = 'D:\\\\videos\\\\ar32\\\\ar32_10_11_24-Arash-2020-11-25\\\\config.yaml';\n",
    "path_config_file = 'D:\\\\videos\\\\ar32\\\\ar32_10_11_24-Arash-2020-11-25\\\\config.yaml';\n",
    "path_config_file = 'D:\\\\Dropbox\\\\Notebook\\\\Sideview4-Arash-2021-07-18\\\\config.yaml'\n",
    "path_config_file = 'D:\\\\Sidevideos\\\\DLC\\\\Sideview4-Arash-2021-07-18\\\\config.yaml'\n",
    "\n",
    "path_config_file ='D:\\\\Sidevideos\\\\DLC\\\\Sideview_Aug-Arash-2021-08-04\\\\config.yaml';\n",
    "path_config_file = 'D:\\\\Sidevideos\\\\DLC\\\\Eyedata4-Arash-2022-02-02\\\\config.yaml';\n",
    "path_config_file = 'D:\\\\Sidevideos\\\\DLC\\\\Eyedata4-Arash-2022-02-02\\\\config.yaml';"
   ]
  },
  {
   "cell_type": "markdown",
   "metadata": {},
   "source": [
    "## add videos from other folders and rats"
   ]
  },
  {
   "cell_type": "code",
   "execution_count": null,
   "metadata": {},
   "outputs": [],
   "source": [
    "Mainfolder =  'D:\\\\videos\\\\ar21\\\\2020_07_08\\\\'; # Enter the name of the folder with images folders inside \n",
    "filenames = ['20L.avi','21L.avi']; # Enter the name of the files you want to train\n",
    "#filenames = ['6L.avi']; # Enter the name of the files you want to train\n",
    "video = [str(Mainfolder)+str(f) for f in filenames]; # add path to each file\n",
    "Mainfolder2 = 'D:\\\\videos\\\\ar30\\\\2020_11_18\\\\';\n",
    "filenames2 = ['217.avi','218.avi']; # Enter the name of the files you want to train\n",
    "video2 = [str(Mainfolder2)+str(f) for f in filenames2]; # add path to each file\n",
    "video = video+video2\n",
    "deeplabcut.add_new_videos(path_config_file, video2, copy_videos=True)"
   ]
  },
  {
   "cell_type": "markdown",
   "metadata": {
    "colab_type": "text",
    "id": "Gjn6ZDonoEJH"
   },
   "source": [
    "## Label the extracted frames\n",
    "Only videos in the config file can be used to extract the frames. Extracted labels for each video are stored in the project directory under the subdirectory **'labeled-data'**. Each subdirectory is named after the name of the video. The toolbox has a labeling toolbox which could be used for labeling. "
   ]
  },
  {
   "cell_type": "code",
   "execution_count": null,
   "metadata": {
    "colab": {},
    "colab_type": "code",
    "id": "iyROSOiEoEJI",
    "scrolled": true
   },
   "outputs": [],
   "source": [
    "%gui wx\n",
    "\n",
    "deeplabcut.label_frames(path_config_file)"
   ]
  },
  {
   "cell_type": "markdown",
   "metadata": {
    "colab_type": "text",
    "id": "vim95ZvkPSeN"
   },
   "source": [
    "**Check the labels**\n",
    "\n",
    "Checking if the labels were created and stored correctly is beneficial for training, since labeling is one of the most critical parts for creating the training dataset. The DeepLabCut toolbox provides a function `check\\_labels'  to do so. It is used as follows:"
   ]
  },
  {
   "cell_type": "code",
   "execution_count": null,
   "metadata": {
    "colab": {},
    "colab_type": "code",
    "id": "NwvgPJouPP2O"
   },
   "outputs": [],
   "source": [
    "\n",
    "deeplabcut.check_labels(path_config_file) #this creates a subdirectory with the frames + your labels"
   ]
  },
  {
   "cell_type": "markdown",
   "metadata": {},
   "source": [
    "## add_new_videos"
   ]
  },
  {
   "cell_type": "code",
   "execution_count": null,
   "metadata": {},
   "outputs": [],
   "source": [
    "Mainfolder =  'D:\\\\videos\\\\ar32\\\\2020_11_12\\\\'; # Enter the name of the folder with images folders inside \n",
    "filenames = ['158.avi','160.avi']; # Enter the name of the files you want to train\n",
    "#filenames = ['6L.avi']; # Enter the name of the files you want to train\n",
    "video = [str(Mainfolder)+str(f) for f in filenames]; # add path to each file\n",
    "deeplabcut.add_new_videos(path_config_file, video, copy_videos=True)"
   ]
  },
  {
   "cell_type": "markdown",
   "metadata": {},
   "source": [
    "## Reminder: Build your skeleton connections before you create a training set!\n"
   ]
  },
  {
   "cell_type": "code",
   "execution_count": 34,
   "metadata": {},
   "outputs": [
    {
     "ename": "ValueError",
     "evalue": "too many values to unpack (expected 2)",
     "output_type": "error",
     "traceback": [
      "\u001b[1;31m---------------------------------------------------------------------------\u001b[0m",
      "\u001b[1;31mValueError\u001b[0m                                Traceback (most recent call last)",
      "Input \u001b[1;32mIn [34]\u001b[0m, in \u001b[0;36m<module>\u001b[1;34m\u001b[0m\n\u001b[1;32m----> 1\u001b[0m \u001b[43mdeeplabcut\u001b[49m\u001b[38;5;241;43m.\u001b[39;49m\u001b[43mSkeletonBuilder\u001b[49m\u001b[43m(\u001b[49m\u001b[43mpath_config_file\u001b[49m\u001b[43m)\u001b[49m\n",
      "File \u001b[1;32m~\\anaconda3\\envs\\DEEPLABCUT\\lib\\site-packages\\deeplabcut\\utils\\skeleton.py:56\u001b[0m, in \u001b[0;36mSkeletonBuilder.__init__\u001b[1;34m(self, config_path)\u001b[0m\n\u001b[0;32m     50\u001b[0m \u001b[38;5;28;01mif\u001b[39;00m os\u001b[38;5;241m.\u001b[39mpath\u001b[38;5;241m.\u001b[39misdir(folder) \u001b[38;5;129;01mand\u001b[39;00m \u001b[38;5;129;01mnot\u001b[39;00m \u001b[38;5;28many\u001b[39m(\n\u001b[0;32m     51\u001b[0m     folder\u001b[38;5;241m.\u001b[39mendswith(s) \u001b[38;5;28;01mfor\u001b[39;00m s \u001b[38;5;129;01min\u001b[39;00m (\u001b[38;5;124m\"\u001b[39m\u001b[38;5;124mcropped\u001b[39m\u001b[38;5;124m\"\u001b[39m, \u001b[38;5;124m\"\u001b[39m\u001b[38;5;124mlabeled\u001b[39m\u001b[38;5;124m\"\u001b[39m)\n\u001b[0;32m     52\u001b[0m ):\n\u001b[0;32m     53\u001b[0m     \u001b[38;5;28mself\u001b[39m\u001b[38;5;241m.\u001b[39mdf \u001b[38;5;241m=\u001b[39m pd\u001b[38;5;241m.\u001b[39mread_hdf(\n\u001b[0;32m     54\u001b[0m         os\u001b[38;5;241m.\u001b[39mpath\u001b[38;5;241m.\u001b[39mjoin(folder, \u001b[38;5;124mf\u001b[39m\u001b[38;5;124m'\u001b[39m\u001b[38;5;124mCollectedData_\u001b[39m\u001b[38;5;132;01m{\u001b[39;00m\u001b[38;5;28mself\u001b[39m\u001b[38;5;241m.\u001b[39mcfg[\u001b[38;5;124m\"\u001b[39m\u001b[38;5;124mscorer\u001b[39m\u001b[38;5;124m\"\u001b[39m]\u001b[38;5;132;01m}\u001b[39;00m\u001b[38;5;124m.h5\u001b[39m\u001b[38;5;124m'\u001b[39m)\n\u001b[0;32m     55\u001b[0m     )\n\u001b[1;32m---> 56\u001b[0m     row, col \u001b[38;5;241m=\u001b[39m \u001b[38;5;28;43mself\u001b[39;49m\u001b[38;5;241;43m.\u001b[39;49m\u001b[43mpick_labeled_frame\u001b[49m\u001b[43m(\u001b[49m\u001b[43m)\u001b[49m\n\u001b[0;32m     57\u001b[0m     \u001b[38;5;28;01mif\u001b[39;00m \u001b[38;5;124m\"\u001b[39m\u001b[38;5;124mindividuals\u001b[39m\u001b[38;5;124m\"\u001b[39m \u001b[38;5;129;01min\u001b[39;00m \u001b[38;5;28mself\u001b[39m\u001b[38;5;241m.\u001b[39mdf\u001b[38;5;241m.\u001b[39mcolumns\u001b[38;5;241m.\u001b[39mnames:\n\u001b[0;32m     58\u001b[0m         \u001b[38;5;28mself\u001b[39m\u001b[38;5;241m.\u001b[39mdf \u001b[38;5;241m=\u001b[39m \u001b[38;5;28mself\u001b[39m\u001b[38;5;241m.\u001b[39mdf\u001b[38;5;241m.\u001b[39mxs(col, axis\u001b[38;5;241m=\u001b[39m\u001b[38;5;241m1\u001b[39m, level\u001b[38;5;241m=\u001b[39m\u001b[38;5;124m\"\u001b[39m\u001b[38;5;124mindividuals\u001b[39m\u001b[38;5;124m\"\u001b[39m)\n",
      "File \u001b[1;32m~\\anaconda3\\envs\\DEEPLABCUT\\lib\\site-packages\\deeplabcut\\utils\\skeleton.py:108\u001b[0m, in \u001b[0;36mSkeletonBuilder.pick_labeled_frame\u001b[1;34m(self)\u001b[0m\n\u001b[0;32m    106\u001b[0m kept \u001b[38;5;241m=\u001b[39m mask\u001b[38;5;241m.\u001b[39mstack()\u001b[38;5;241m.\u001b[39mindex\u001b[38;5;241m.\u001b[39mto_list()\n\u001b[0;32m    107\u001b[0m np\u001b[38;5;241m.\u001b[39mrandom\u001b[38;5;241m.\u001b[39mshuffle(kept)\n\u001b[1;32m--> 108\u001b[0m row, col \u001b[38;5;241m=\u001b[39m kept\u001b[38;5;241m.\u001b[39mpop()\n\u001b[0;32m    109\u001b[0m \u001b[38;5;28;01mreturn\u001b[39;00m row, col\n",
      "\u001b[1;31mValueError\u001b[0m: too many values to unpack (expected 2)"
     ]
    }
   ],
   "source": [
    "deeplabcut.SkeletonBuilder(path_config_file)"
   ]
  },
  {
   "cell_type": "markdown",
   "metadata": {
    "colab_type": "text",
    "id": "of87fOjgPqzH"
   },
   "source": [
    "If the labels need adjusted, you can use the refinement GUI to move them around! Check that out below."
   ]
  },
  {
   "cell_type": "markdown",
   "metadata": {
    "colab_type": "text",
    "id": "xNi9s1dboEJN"
   },
   "source": [
    "## Create a training dataset\n",
    "This function generates the training data information for DeepCut (which requires a mat file) based on the pandas dataframes that hold label information. The user can set the fraction of the training set size (from all labeled image in the hd5 file) in the config.yaml file. While creating the dataset, the user can create multiple shuffles. \n",
    "\n",
    "After running this script the training dataset is created and saved in the project directory under the subdirectory **'training-datasets'**\n",
    "\n",
    "This function also creates new subdirectories under **dlc-models** and appends the project config.yaml file with the correct path to the training and testing pose configuration file. These files hold the parameters for training the network. Such an example file is provided with the toolbox and named as **pose_cfg.yaml**.\n",
    "\n",
    "Now it is the time to start training the network!"
   ]
  },
  {
   "cell_type": "code",
   "execution_count": null,
   "metadata": {
    "colab": {},
    "colab_type": "code",
    "id": "eMeUwgxPoEJP",
    "scrolled": true
   },
   "outputs": [],
   "source": [
    "deeplabcut.create_training_dataset(path_config_file)"
   ]
  },
  {
   "cell_type": "code",
   "execution_count": null,
   "metadata": {},
   "outputs": [],
   "source": [
    "deeplabcut.create_training_model_comparison(path_config_file, num_shuffles=1, net_types=['resnet_50'], augmenter_types=['default', 'imgaug'] )\n"
   ]
  },
  {
   "cell_type": "markdown",
   "metadata": {
    "colab_type": "text",
    "id": "c4FczXGDoEJU"
   },
   "source": [
    "## Start training  \n",
    "### If yu want to use your GPU, you need to exit here and either work from the Docker container, your own TensorFlow installation in an Anaconda env\n",
    "\n",
    "This function trains the network for a specific shuffle of the training dataset. "
   ]
  },
  {
   "cell_type": "code",
   "execution_count": null,
   "metadata": {
    "colab": {},
    "colab_type": "code",
    "id": "_pOvDq_2oEJW",
    "scrolled": false
   },
   "outputs": [],
   "source": [
    "deeplabcut.train_network(path_config_file,shuffle=1,displayiters=1000,saveiters=1000)"
   ]
  },
  {
   "cell_type": "markdown",
   "metadata": {
    "colab_type": "text",
    "id": "xZygsb2DoEJc"
   },
   "source": [
    "## Start evaluating\n",
    "This funtion evaluates a trained model for a specific shuffle/shuffles at a particular state or all the states on the data set (images)\n",
    "and stores the results as .csv file in a subdirectory under **evaluation-results**"
   ]
  },
  {
   "cell_type": "code",
   "execution_count": null,
   "metadata": {
    "colab": {},
    "colab_type": "code",
    "id": "nv4zlbrnoEJg",
    "scrolled": true
   },
   "outputs": [],
   "source": [
    "deeplabcut.evaluate_network(path_config_file,Shuffles=[1], plotting=False)"
   ]
  },
  {
   "cell_type": "markdown",
   "metadata": {
    "colab_type": "text",
    "id": "OVFLSKKfoEJk"
   },
   "source": [
    "## Start Analyzing videos\n",
    "This function analyzes the new video. The user can choose the best model from the evaluation results and specify the correct snapshot index for the variable **snapshotindex** in the **config.yaml** file. Otherwise, by default the most recent snapshot is used to analyse the video.\n",
    "\n",
    "The results are stored in hd5 file in the same directory where the video resides. "
   ]
  },
  {
   "cell_type": "code",
   "execution_count": 36,
   "metadata": {
    "colab": {},
    "colab_type": "code",
    "id": "Y_LZiS_0oEJl"
   },
   "outputs": [
    {
     "name": "stderr",
     "output_type": "stream",
     "text": [
      "Config:\n",
      "{'all_joints': [[0], [1], [2], [3], [4], [5], [6], [7], [8], [9]],\n",
      " 'all_joints_names': ['e1',\n",
      "                      'e2',\n",
      "                      'e3',\n",
      "                      'e4',\n",
      "                      'e5',\n",
      "                      'e6',\n",
      "                      'e7',\n",
      "                      'e8',\n",
      "                      'Lup',\n",
      "                      'Ldown'],\n",
      " 'batch_size': 1,\n",
      " 'crop_pad': 0,\n",
      " 'dataset': 'training-datasets\\\\iteration-0\\\\UnaugmentedDataSet_Eyedata4Feb2\\\\Eyedata4_Arash95shuffle1.mat',\n",
      " 'dataset_type': 'imgaug',\n",
      " 'deterministic': False,\n",
      " 'fg_fraction': 0.25,\n",
      " 'global_scale': 0.8,\n",
      " 'init_weights': 'C:\\\\Users\\\\dklab\\\\anaconda3\\\\envs\\\\DEEPLABCUT\\\\lib\\\\site-packages\\\\deeplabcut\\\\pose_estimation_tensorflow\\\\models\\\\pretrained\\\\resnet_v1_50.ckpt',\n",
      " 'intermediate_supervision': False,\n",
      " 'intermediate_supervision_layer': 12,\n",
      " 'location_refinement': True,\n",
      " 'locref_huber_loss': True,\n",
      " 'locref_loss_weight': 1.0,\n",
      " 'locref_stdev': 7.2801,\n",
      " 'log_dir': 'log',\n",
      " 'mean_pixel': [123.68, 116.779, 103.939],\n",
      " 'mirror': False,\n",
      " 'net_type': 'resnet_50',\n",
      " 'num_joints': 10,\n",
      " 'optimizer': 'sgd',\n",
      " 'pairwise_huber_loss': True,\n",
      " 'pairwise_predict': False,\n",
      " 'partaffinityfield_predict': False,\n",
      " 'regularize': False,\n",
      " 'scoremap_dir': 'test',\n",
      " 'shuffle': True,\n",
      " 'snapshot_prefix': 'D:\\\\Sidevideos\\\\DLC\\\\Eyedata4-Arash-2022-02-02\\\\dlc-models\\\\iteration-0\\\\Eyedata4Feb2-trainset95shuffle1\\\\test\\\\snapshot',\n",
      " 'stride': 8.0,\n",
      " 'weigh_negatives': False,\n",
      " 'weigh_only_present_joints': False,\n",
      " 'weigh_part_predictions': False,\n",
      " 'weight_decay': 0.0001}\n"
     ]
    },
    {
     "name": "stdout",
     "output_type": "stream",
     "text": [
      "D:\\Sidevideos\\AR30MOTOR\\2022_01_31\\100EYE.avi\n",
      "Using snapshot-436000 for model D:\\Sidevideos\\DLC\\Eyedata4-Arash-2022-02-02\\dlc-models\\iteration-0\\Eyedata4Feb2-trainset95shuffle1\n"
     ]
    },
    {
     "name": "stderr",
     "output_type": "stream",
     "text": [
      "C:\\Users\\dklab\\anaconda3\\envs\\DEEPLABCUT\\lib\\site-packages\\tensorflow\\python\\keras\\engine\\base_layer_v1.py:1694: UserWarning: `layer.apply` is deprecated and will be removed in a future version. Please use `layer.__call__` method instead.\n",
      "  warnings.warn('`layer.apply` is deprecated and '\n"
     ]
    },
    {
     "name": "stdout",
     "output_type": "stream",
     "text": [
      "Starting to analyze %  D:\\Sidevideos\\AR30MOTOR\\2022_01_31\\0EYE.avi\n",
      "Loading  D:\\Sidevideos\\AR30MOTOR\\2022_01_31\\0EYE.avi\n",
      "Duration of video [s]:  12.5 , recorded with  40.0 fps!\n",
      "Overall # of frames:  500  found with (before cropping) frame dimensions:  200 200\n",
      "Starting to extract posture\n",
      "Cropping based on the x1 = 60 x2 = 150 y1 = 60 y2 = 150. You can adjust the cropping coordinates in the config.yaml file.\n"
     ]
    },
    {
     "name": "stderr",
     "output_type": "stream",
     "text": [
      "510it [00:02, 238.41it/s]                                                                                              \n"
     ]
    },
    {
     "name": "stdout",
     "output_type": "stream",
     "text": [
      "Saving results in D:\\Sidevideos\\AR30MOTOR\\2022_01_31...\n",
      "Saving csv poses!\n",
      "Starting to analyze %  D:\\Sidevideos\\AR30MOTOR\\2022_01_31\\100EYE.avi\n",
      "Loading  D:\\Sidevideos\\AR30MOTOR\\2022_01_31\\100EYE.avi\n",
      "Duration of video [s]:  12.5 , recorded with  40.0 fps!\n",
      "Overall # of frames:  500  found with (before cropping) frame dimensions:  200 200\n",
      "Starting to extract posture\n",
      "Cropping based on the x1 = 60 x2 = 150 y1 = 60 y2 = 150. You can adjust the cropping coordinates in the config.yaml file.\n"
     ]
    },
    {
     "name": "stderr",
     "output_type": "stream",
     "text": [
      "510it [00:01, 299.24it/s]                                                                                              \n"
     ]
    },
    {
     "name": "stdout",
     "output_type": "stream",
     "text": [
      "Saving results in D:\\Sidevideos\\AR30MOTOR\\2022_01_31...\n",
      "Saving csv poses!\n",
      "Starting to analyze %  D:\\Sidevideos\\AR30MOTOR\\2022_01_31\\101EYE.avi\n",
      "Loading  D:\\Sidevideos\\AR30MOTOR\\2022_01_31\\101EYE.avi\n",
      "Duration of video [s]:  12.15 , recorded with  40.0 fps!\n",
      "Overall # of frames:  486  found with (before cropping) frame dimensions:  200 200\n",
      "Starting to extract posture\n",
      "Cropping based on the x1 = 60 x2 = 150 y1 = 60 y2 = 150. You can adjust the cropping coordinates in the config.yaml file.\n"
     ]
    },
    {
     "name": "stderr",
     "output_type": "stream",
     "text": [
      "490it [00:01, 294.75it/s]                                                                                              \n"
     ]
    },
    {
     "name": "stdout",
     "output_type": "stream",
     "text": [
      "Saving results in D:\\Sidevideos\\AR30MOTOR\\2022_01_31...\n",
      "Saving csv poses!\n",
      "Starting to analyze %  D:\\Sidevideos\\AR30MOTOR\\2022_01_31\\102EYE.avi\n",
      "Loading  D:\\Sidevideos\\AR30MOTOR\\2022_01_31\\102EYE.avi\n",
      "Duration of video [s]:  12.43 , recorded with  40.0 fps!\n",
      "Overall # of frames:  497  found with (before cropping) frame dimensions:  200 200\n",
      "Starting to extract posture\n",
      "Cropping based on the x1 = 60 x2 = 150 y1 = 60 y2 = 150. You can adjust the cropping coordinates in the config.yaml file.\n"
     ]
    },
    {
     "name": "stderr",
     "output_type": "stream",
     "text": [
      "500it [00:01, 310.66it/s]                                                                                              \n"
     ]
    },
    {
     "name": "stdout",
     "output_type": "stream",
     "text": [
      "Saving results in D:\\Sidevideos\\AR30MOTOR\\2022_01_31...\n",
      "Saving csv poses!\n",
      "Starting to analyze %  D:\\Sidevideos\\AR30MOTOR\\2022_01_31\\103EYE.avi\n",
      "Loading  D:\\Sidevideos\\AR30MOTOR\\2022_01_31\\103EYE.avi\n",
      "Duration of video [s]:  12.5 , recorded with  40.0 fps!\n",
      "Overall # of frames:  500  found with (before cropping) frame dimensions:  200 200\n",
      "Starting to extract posture\n",
      "Cropping based on the x1 = 60 x2 = 150 y1 = 60 y2 = 150. You can adjust the cropping coordinates in the config.yaml file.\n"
     ]
    },
    {
     "name": "stderr",
     "output_type": "stream",
     "text": [
      "510it [00:01, 315.24it/s]                                                                                              \n"
     ]
    },
    {
     "name": "stdout",
     "output_type": "stream",
     "text": [
      "Saving results in D:\\Sidevideos\\AR30MOTOR\\2022_01_31...\n",
      "Saving csv poses!\n",
      "Starting to analyze %  D:\\Sidevideos\\AR30MOTOR\\2022_01_31\\104EYE.avi\n",
      "Loading  D:\\Sidevideos\\AR30MOTOR\\2022_01_31\\104EYE.avi\n",
      "Duration of video [s]:  12.5 , recorded with  40.0 fps!\n",
      "Overall # of frames:  500  found with (before cropping) frame dimensions:  200 200\n",
      "Starting to extract posture\n",
      "Cropping based on the x1 = 60 x2 = 150 y1 = 60 y2 = 150. You can adjust the cropping coordinates in the config.yaml file.\n"
     ]
    },
    {
     "name": "stderr",
     "output_type": "stream",
     "text": [
      "510it [00:01, 321.18it/s]                                                                                              \n"
     ]
    },
    {
     "name": "stdout",
     "output_type": "stream",
     "text": [
      "Saving results in D:\\Sidevideos\\AR30MOTOR\\2022_01_31...\n",
      "Saving csv poses!\n",
      "Starting to analyze %  D:\\Sidevideos\\AR30MOTOR\\2022_01_31\\105EYE.avi\n",
      "Loading  D:\\Sidevideos\\AR30MOTOR\\2022_01_31\\105EYE.avi\n",
      "Duration of video [s]:  12.5 , recorded with  40.0 fps!\n",
      "Overall # of frames:  500  found with (before cropping) frame dimensions:  200 200\n",
      "Starting to extract posture\n",
      "Cropping based on the x1 = 60 x2 = 150 y1 = 60 y2 = 150. You can adjust the cropping coordinates in the config.yaml file.\n"
     ]
    },
    {
     "name": "stderr",
     "output_type": "stream",
     "text": [
      "510it [00:01, 310.57it/s]                                                                                              \n"
     ]
    },
    {
     "name": "stdout",
     "output_type": "stream",
     "text": [
      "Saving results in D:\\Sidevideos\\AR30MOTOR\\2022_01_31...\n",
      "Saving csv poses!\n",
      "Starting to analyze %  D:\\Sidevideos\\AR30MOTOR\\2022_01_31\\106EYE.avi\n",
      "Loading  D:\\Sidevideos\\AR30MOTOR\\2022_01_31\\106EYE.avi\n",
      "Duration of video [s]:  12.5 , recorded with  40.0 fps!\n",
      "Overall # of frames:  500  found with (before cropping) frame dimensions:  200 200\n",
      "Starting to extract posture\n",
      "Cropping based on the x1 = 60 x2 = 150 y1 = 60 y2 = 150. You can adjust the cropping coordinates in the config.yaml file.\n"
     ]
    },
    {
     "name": "stderr",
     "output_type": "stream",
     "text": [
      "510it [00:01, 312.46it/s]                                                                                              \n"
     ]
    },
    {
     "name": "stdout",
     "output_type": "stream",
     "text": [
      "Saving results in D:\\Sidevideos\\AR30MOTOR\\2022_01_31...\n",
      "Saving csv poses!\n",
      "Starting to analyze %  D:\\Sidevideos\\AR30MOTOR\\2022_01_31\\107EYE.avi\n",
      "Loading  D:\\Sidevideos\\AR30MOTOR\\2022_01_31\\107EYE.avi\n",
      "Duration of video [s]:  12.5 , recorded with  40.0 fps!\n",
      "Overall # of frames:  500  found with (before cropping) frame dimensions:  200 200\n",
      "Starting to extract posture\n",
      "Cropping based on the x1 = 60 x2 = 150 y1 = 60 y2 = 150. You can adjust the cropping coordinates in the config.yaml file.\n"
     ]
    },
    {
     "name": "stderr",
     "output_type": "stream",
     "text": [
      "510it [00:01, 293.35it/s]                                                                                              \n"
     ]
    },
    {
     "name": "stdout",
     "output_type": "stream",
     "text": [
      "Saving results in D:\\Sidevideos\\AR30MOTOR\\2022_01_31...\n",
      "Saving csv poses!\n",
      "Starting to analyze %  D:\\Sidevideos\\AR30MOTOR\\2022_01_31\\108EYE.avi\n",
      "Loading  D:\\Sidevideos\\AR30MOTOR\\2022_01_31\\108EYE.avi\n",
      "Duration of video [s]:  12.5 , recorded with  40.0 fps!\n",
      "Overall # of frames:  500  found with (before cropping) frame dimensions:  200 200\n",
      "Starting to extract posture\n",
      "Cropping based on the x1 = 60 x2 = 150 y1 = 60 y2 = 150. You can adjust the cropping coordinates in the config.yaml file.\n"
     ]
    },
    {
     "name": "stderr",
     "output_type": "stream",
     "text": [
      "510it [00:01, 315.52it/s]                                                                                              \n"
     ]
    },
    {
     "name": "stdout",
     "output_type": "stream",
     "text": [
      "Saving results in D:\\Sidevideos\\AR30MOTOR\\2022_01_31...\n",
      "Saving csv poses!\n",
      "Starting to analyze %  D:\\Sidevideos\\AR30MOTOR\\2022_01_31\\109EYE.avi\n",
      "Loading  D:\\Sidevideos\\AR30MOTOR\\2022_01_31\\109EYE.avi\n",
      "Duration of video [s]:  12.4 , recorded with  40.0 fps!\n",
      "Overall # of frames:  496  found with (before cropping) frame dimensions:  200 200\n",
      "Starting to extract posture\n",
      "Cropping based on the x1 = 60 x2 = 150 y1 = 60 y2 = 150. You can adjust the cropping coordinates in the config.yaml file.\n"
     ]
    },
    {
     "name": "stderr",
     "output_type": "stream",
     "text": [
      "500it [00:01, 290.34it/s]                                                                                              \n"
     ]
    },
    {
     "name": "stdout",
     "output_type": "stream",
     "text": [
      "Saving results in D:\\Sidevideos\\AR30MOTOR\\2022_01_31...\n",
      "Saving csv poses!\n",
      "Starting to analyze %  D:\\Sidevideos\\AR30MOTOR\\2022_01_31\\10EYE.avi\n",
      "Loading  D:\\Sidevideos\\AR30MOTOR\\2022_01_31\\10EYE.avi\n",
      "Duration of video [s]:  12.5 , recorded with  40.0 fps!\n",
      "Overall # of frames:  500  found with (before cropping) frame dimensions:  200 200\n",
      "Starting to extract posture\n",
      "Cropping based on the x1 = 60 x2 = 150 y1 = 60 y2 = 150. You can adjust the cropping coordinates in the config.yaml file.\n"
     ]
    },
    {
     "name": "stderr",
     "output_type": "stream",
     "text": [
      "510it [00:01, 302.27it/s]                                                                                              \n"
     ]
    },
    {
     "name": "stdout",
     "output_type": "stream",
     "text": [
      "Saving results in D:\\Sidevideos\\AR30MOTOR\\2022_01_31...\n",
      "Saving csv poses!\n",
      "Starting to analyze %  D:\\Sidevideos\\AR30MOTOR\\2022_01_31\\110EYE.avi\n",
      "Loading  D:\\Sidevideos\\AR30MOTOR\\2022_01_31\\110EYE.avi\n",
      "Duration of video [s]:  12.5 , recorded with  40.0 fps!\n",
      "Overall # of frames:  500  found with (before cropping) frame dimensions:  200 200\n",
      "Starting to extract posture\n",
      "Cropping based on the x1 = 60 x2 = 150 y1 = 60 y2 = 150. You can adjust the cropping coordinates in the config.yaml file.\n"
     ]
    },
    {
     "name": "stderr",
     "output_type": "stream",
     "text": [
      "510it [00:01, 317.86it/s]                                                                                              \n"
     ]
    },
    {
     "name": "stdout",
     "output_type": "stream",
     "text": [
      "Saving results in D:\\Sidevideos\\AR30MOTOR\\2022_01_31...\n",
      "Saving csv poses!\n",
      "Starting to analyze %  D:\\Sidevideos\\AR30MOTOR\\2022_01_31\\111EYE.avi\n",
      "Loading  D:\\Sidevideos\\AR30MOTOR\\2022_01_31\\111EYE.avi\n",
      "Duration of video [s]:  12.5 , recorded with  40.0 fps!\n",
      "Overall # of frames:  500  found with (before cropping) frame dimensions:  200 200\n",
      "Starting to extract posture\n",
      "Cropping based on the x1 = 60 x2 = 150 y1 = 60 y2 = 150. You can adjust the cropping coordinates in the config.yaml file.\n"
     ]
    },
    {
     "name": "stderr",
     "output_type": "stream",
     "text": [
      "510it [00:01, 286.42it/s]                                                                                              \n"
     ]
    },
    {
     "name": "stdout",
     "output_type": "stream",
     "text": [
      "Saving results in D:\\Sidevideos\\AR30MOTOR\\2022_01_31...\n",
      "Saving csv poses!\n",
      "Starting to analyze %  D:\\Sidevideos\\AR30MOTOR\\2022_01_31\\112EYE.avi\n",
      "Loading  D:\\Sidevideos\\AR30MOTOR\\2022_01_31\\112EYE.avi\n",
      "Duration of video [s]:  12.5 , recorded with  40.0 fps!\n",
      "Overall # of frames:  500  found with (before cropping) frame dimensions:  200 200\n",
      "Starting to extract posture\n",
      "Cropping based on the x1 = 60 x2 = 150 y1 = 60 y2 = 150. You can adjust the cropping coordinates in the config.yaml file.\n"
     ]
    },
    {
     "name": "stderr",
     "output_type": "stream",
     "text": [
      "510it [00:01, 298.29it/s]                                                                                              \n"
     ]
    },
    {
     "name": "stdout",
     "output_type": "stream",
     "text": [
      "Saving results in D:\\Sidevideos\\AR30MOTOR\\2022_01_31...\n",
      "Saving csv poses!\n",
      "Starting to analyze %  D:\\Sidevideos\\AR30MOTOR\\2022_01_31\\113EYE.avi\n",
      "Loading  D:\\Sidevideos\\AR30MOTOR\\2022_01_31\\113EYE.avi\n",
      "Duration of video [s]:  12.5 , recorded with  40.0 fps!\n",
      "Overall # of frames:  500  found with (before cropping) frame dimensions:  200 200\n",
      "Starting to extract posture\n",
      "Cropping based on the x1 = 60 x2 = 150 y1 = 60 y2 = 150. You can adjust the cropping coordinates in the config.yaml file.\n"
     ]
    },
    {
     "name": "stderr",
     "output_type": "stream",
     "text": [
      "510it [00:01, 305.91it/s]                                                                                              \n"
     ]
    },
    {
     "name": "stdout",
     "output_type": "stream",
     "text": [
      "Saving results in D:\\Sidevideos\\AR30MOTOR\\2022_01_31...\n",
      "Saving csv poses!\n",
      "Starting to analyze %  D:\\Sidevideos\\AR30MOTOR\\2022_01_31\\114EYE.avi\n",
      "Loading  D:\\Sidevideos\\AR30MOTOR\\2022_01_31\\114EYE.avi\n",
      "Duration of video [s]:  12.4 , recorded with  40.0 fps!\n",
      "Overall # of frames:  496  found with (before cropping) frame dimensions:  200 200\n",
      "Starting to extract posture\n",
      "Cropping based on the x1 = 60 x2 = 150 y1 = 60 y2 = 150. You can adjust the cropping coordinates in the config.yaml file.\n"
     ]
    },
    {
     "name": "stderr",
     "output_type": "stream",
     "text": [
      "500it [00:01, 291.17it/s]                                                                                              \n"
     ]
    },
    {
     "name": "stdout",
     "output_type": "stream",
     "text": [
      "Saving results in D:\\Sidevideos\\AR30MOTOR\\2022_01_31...\n",
      "Saving csv poses!\n",
      "Starting to analyze %  D:\\Sidevideos\\AR30MOTOR\\2022_01_31\\115EYE.avi\n",
      "Loading  D:\\Sidevideos\\AR30MOTOR\\2022_01_31\\115EYE.avi\n",
      "Duration of video [s]:  12.5 , recorded with  40.0 fps!\n",
      "Overall # of frames:  500  found with (before cropping) frame dimensions:  200 200\n",
      "Starting to extract posture\n",
      "Cropping based on the x1 = 60 x2 = 150 y1 = 60 y2 = 150. You can adjust the cropping coordinates in the config.yaml file.\n"
     ]
    },
    {
     "name": "stderr",
     "output_type": "stream",
     "text": [
      "510it [00:01, 315.76it/s]                                                                                              \n"
     ]
    },
    {
     "name": "stdout",
     "output_type": "stream",
     "text": [
      "Saving results in D:\\Sidevideos\\AR30MOTOR\\2022_01_31...\n",
      "Saving csv poses!\n",
      "Starting to analyze %  D:\\Sidevideos\\AR30MOTOR\\2022_01_31\\116EYE.avi\n",
      "Loading  D:\\Sidevideos\\AR30MOTOR\\2022_01_31\\116EYE.avi\n",
      "Duration of video [s]:  12.43 , recorded with  40.0 fps!\n",
      "Overall # of frames:  497  found with (before cropping) frame dimensions:  200 200\n",
      "Starting to extract posture\n",
      "Cropping based on the x1 = 60 x2 = 150 y1 = 60 y2 = 150. You can adjust the cropping coordinates in the config.yaml file.\n"
     ]
    },
    {
     "name": "stderr",
     "output_type": "stream",
     "text": [
      "500it [00:01, 302.65it/s]                                                                                              \n"
     ]
    },
    {
     "name": "stdout",
     "output_type": "stream",
     "text": [
      "Saving results in D:\\Sidevideos\\AR30MOTOR\\2022_01_31...\n",
      "Saving csv poses!\n",
      "Starting to analyze %  D:\\Sidevideos\\AR30MOTOR\\2022_01_31\\117EYE.avi\n",
      "Loading  D:\\Sidevideos\\AR30MOTOR\\2022_01_31\\117EYE.avi\n",
      "Duration of video [s]:  12.5 , recorded with  40.0 fps!\n",
      "Overall # of frames:  500  found with (before cropping) frame dimensions:  200 200\n",
      "Starting to extract posture\n",
      "Cropping based on the x1 = 60 x2 = 150 y1 = 60 y2 = 150. You can adjust the cropping coordinates in the config.yaml file.\n"
     ]
    },
    {
     "name": "stderr",
     "output_type": "stream",
     "text": [
      "510it [00:01, 315.38it/s]                                                                                              \n"
     ]
    },
    {
     "name": "stdout",
     "output_type": "stream",
     "text": [
      "Saving results in D:\\Sidevideos\\AR30MOTOR\\2022_01_31...\n",
      "Saving csv poses!\n",
      "Starting to analyze %  D:\\Sidevideos\\AR30MOTOR\\2022_01_31\\118EYE.avi\n",
      "Loading  D:\\Sidevideos\\AR30MOTOR\\2022_01_31\\118EYE.avi\n",
      "Duration of video [s]:  12.5 , recorded with  40.0 fps!\n",
      "Overall # of frames:  500  found with (before cropping) frame dimensions:  200 200\n",
      "Starting to extract posture\n",
      "Cropping based on the x1 = 60 x2 = 150 y1 = 60 y2 = 150. You can adjust the cropping coordinates in the config.yaml file.\n"
     ]
    },
    {
     "name": "stderr",
     "output_type": "stream",
     "text": [
      "510it [00:01, 316.99it/s]                                                                                              \n"
     ]
    },
    {
     "name": "stdout",
     "output_type": "stream",
     "text": [
      "Saving results in D:\\Sidevideos\\AR30MOTOR\\2022_01_31...\n",
      "Saving csv poses!\n",
      "Starting to analyze %  D:\\Sidevideos\\AR30MOTOR\\2022_01_31\\119EYE.avi\n",
      "Loading  D:\\Sidevideos\\AR30MOTOR\\2022_01_31\\119EYE.avi\n",
      "Duration of video [s]:  12.5 , recorded with  40.0 fps!\n",
      "Overall # of frames:  500  found with (before cropping) frame dimensions:  200 200\n",
      "Starting to extract posture\n",
      "Cropping based on the x1 = 60 x2 = 150 y1 = 60 y2 = 150. You can adjust the cropping coordinates in the config.yaml file.\n"
     ]
    },
    {
     "name": "stderr",
     "output_type": "stream",
     "text": [
      "510it [00:01, 306.65it/s]                                                                                              \n"
     ]
    },
    {
     "name": "stdout",
     "output_type": "stream",
     "text": [
      "Saving results in D:\\Sidevideos\\AR30MOTOR\\2022_01_31...\n",
      "Saving csv poses!\n",
      "Starting to analyze %  D:\\Sidevideos\\AR30MOTOR\\2022_01_31\\11EYE.avi\n",
      "Loading  D:\\Sidevideos\\AR30MOTOR\\2022_01_31\\11EYE.avi\n",
      "Duration of video [s]:  12.5 , recorded with  40.0 fps!\n",
      "Overall # of frames:  500  found with (before cropping) frame dimensions:  200 200\n",
      "Starting to extract posture\n",
      "Cropping based on the x1 = 60 x2 = 150 y1 = 60 y2 = 150. You can adjust the cropping coordinates in the config.yaml file.\n"
     ]
    },
    {
     "name": "stderr",
     "output_type": "stream",
     "text": [
      "510it [00:01, 306.35it/s]                                                                                              \n"
     ]
    },
    {
     "name": "stdout",
     "output_type": "stream",
     "text": [
      "Saving results in D:\\Sidevideos\\AR30MOTOR\\2022_01_31...\n",
      "Saving csv poses!\n",
      "Starting to analyze %  D:\\Sidevideos\\AR30MOTOR\\2022_01_31\\120EYE.avi\n",
      "Loading  D:\\Sidevideos\\AR30MOTOR\\2022_01_31\\120EYE.avi\n",
      "Duration of video [s]:  11.72 , recorded with  40.0 fps!\n",
      "Overall # of frames:  469  found with (before cropping) frame dimensions:  200 200\n",
      "Starting to extract posture\n",
      "Cropping based on the x1 = 60 x2 = 150 y1 = 60 y2 = 150. You can adjust the cropping coordinates in the config.yaml file.\n"
     ]
    },
    {
     "name": "stderr",
     "output_type": "stream",
     "text": [
      "470it [00:01, 299.37it/s]                                                                                              \n"
     ]
    },
    {
     "name": "stdout",
     "output_type": "stream",
     "text": [
      "Saving results in D:\\Sidevideos\\AR30MOTOR\\2022_01_31...\n",
      "Saving csv poses!\n",
      "Starting to analyze %  D:\\Sidevideos\\AR30MOTOR\\2022_01_31\\121EYE.avi\n",
      "Loading  D:\\Sidevideos\\AR30MOTOR\\2022_01_31\\121EYE.avi\n",
      "Duration of video [s]:  12.5 , recorded with  40.0 fps!\n",
      "Overall # of frames:  500  found with (before cropping) frame dimensions:  200 200\n",
      "Starting to extract posture\n",
      "Cropping based on the x1 = 60 x2 = 150 y1 = 60 y2 = 150. You can adjust the cropping coordinates in the config.yaml file.\n"
     ]
    },
    {
     "name": "stderr",
     "output_type": "stream",
     "text": [
      "510it [00:01, 306.62it/s]                                                                                              \n"
     ]
    },
    {
     "name": "stdout",
     "output_type": "stream",
     "text": [
      "Saving results in D:\\Sidevideos\\AR30MOTOR\\2022_01_31...\n",
      "Saving csv poses!\n",
      "Starting to analyze %  D:\\Sidevideos\\AR30MOTOR\\2022_01_31\\122EYE.avi\n",
      "Loading  D:\\Sidevideos\\AR30MOTOR\\2022_01_31\\122EYE.avi\n",
      "Duration of video [s]:  11.82 , recorded with  40.0 fps!\n",
      "Overall # of frames:  473  found with (before cropping) frame dimensions:  200 200\n",
      "Starting to extract posture\n",
      "Cropping based on the x1 = 60 x2 = 150 y1 = 60 y2 = 150. You can adjust the cropping coordinates in the config.yaml file.\n"
     ]
    },
    {
     "name": "stderr",
     "output_type": "stream",
     "text": [
      "480it [00:01, 307.65it/s]                                                                                              \n"
     ]
    },
    {
     "name": "stdout",
     "output_type": "stream",
     "text": [
      "Saving results in D:\\Sidevideos\\AR30MOTOR\\2022_01_31...\n",
      "Saving csv poses!\n",
      "Starting to analyze %  D:\\Sidevideos\\AR30MOTOR\\2022_01_31\\123EYE.avi\n",
      "Loading  D:\\Sidevideos\\AR30MOTOR\\2022_01_31\\123EYE.avi\n",
      "Duration of video [s]:  12.15 , recorded with  40.0 fps!\n",
      "Overall # of frames:  486  found with (before cropping) frame dimensions:  200 200\n",
      "Starting to extract posture\n",
      "Cropping based on the x1 = 60 x2 = 150 y1 = 60 y2 = 150. You can adjust the cropping coordinates in the config.yaml file.\n"
     ]
    },
    {
     "name": "stderr",
     "output_type": "stream",
     "text": [
      "490it [00:01, 301.81it/s]                                                                                              \n"
     ]
    },
    {
     "name": "stdout",
     "output_type": "stream",
     "text": [
      "Saving results in D:\\Sidevideos\\AR30MOTOR\\2022_01_31...\n",
      "Saving csv poses!\n",
      "Starting to analyze %  D:\\Sidevideos\\AR30MOTOR\\2022_01_31\\124EYE.avi\n",
      "Loading  D:\\Sidevideos\\AR30MOTOR\\2022_01_31\\124EYE.avi\n",
      "Duration of video [s]:  12.5 , recorded with  40.0 fps!\n",
      "Overall # of frames:  500  found with (before cropping) frame dimensions:  200 200\n",
      "Starting to extract posture\n",
      "Cropping based on the x1 = 60 x2 = 150 y1 = 60 y2 = 150. You can adjust the cropping coordinates in the config.yaml file.\n"
     ]
    },
    {
     "name": "stderr",
     "output_type": "stream",
     "text": [
      "510it [00:01, 303.58it/s]                                                                                              \n"
     ]
    },
    {
     "name": "stdout",
     "output_type": "stream",
     "text": [
      "Saving results in D:\\Sidevideos\\AR30MOTOR\\2022_01_31...\n",
      "Saving csv poses!\n",
      "Starting to analyze %  D:\\Sidevideos\\AR30MOTOR\\2022_01_31\\125EYE.avi\n",
      "Loading  D:\\Sidevideos\\AR30MOTOR\\2022_01_31\\125EYE.avi\n",
      "Duration of video [s]:  12.5 , recorded with  40.0 fps!\n",
      "Overall # of frames:  500  found with (before cropping) frame dimensions:  200 200\n",
      "Starting to extract posture\n",
      "Cropping based on the x1 = 60 x2 = 150 y1 = 60 y2 = 150. You can adjust the cropping coordinates in the config.yaml file.\n"
     ]
    },
    {
     "name": "stderr",
     "output_type": "stream",
     "text": [
      "510it [00:01, 310.50it/s]                                                                                              \n"
     ]
    },
    {
     "name": "stdout",
     "output_type": "stream",
     "text": [
      "Saving results in D:\\Sidevideos\\AR30MOTOR\\2022_01_31...\n",
      "Saving csv poses!\n",
      "Starting to analyze %  D:\\Sidevideos\\AR30MOTOR\\2022_01_31\\126EYE.avi\n",
      "Loading  D:\\Sidevideos\\AR30MOTOR\\2022_01_31\\126EYE.avi\n",
      "Duration of video [s]:  12.5 , recorded with  40.0 fps!\n",
      "Overall # of frames:  500  found with (before cropping) frame dimensions:  200 200\n",
      "Starting to extract posture\n",
      "Cropping based on the x1 = 60 x2 = 150 y1 = 60 y2 = 150. You can adjust the cropping coordinates in the config.yaml file.\n"
     ]
    },
    {
     "name": "stderr",
     "output_type": "stream",
     "text": [
      "510it [00:01, 297.85it/s]                                                                                              \n"
     ]
    },
    {
     "name": "stdout",
     "output_type": "stream",
     "text": [
      "Saving results in D:\\Sidevideos\\AR30MOTOR\\2022_01_31...\n",
      "Saving csv poses!\n",
      "Starting to analyze %  D:\\Sidevideos\\AR30MOTOR\\2022_01_31\\127EYE.avi\n",
      "Loading  D:\\Sidevideos\\AR30MOTOR\\2022_01_31\\127EYE.avi\n",
      "Duration of video [s]:  12.5 , recorded with  40.0 fps!\n",
      "Overall # of frames:  500  found with (before cropping) frame dimensions:  200 200\n",
      "Starting to extract posture\n",
      "Cropping based on the x1 = 60 x2 = 150 y1 = 60 y2 = 150. You can adjust the cropping coordinates in the config.yaml file.\n"
     ]
    },
    {
     "name": "stderr",
     "output_type": "stream",
     "text": [
      "510it [00:01, 311.46it/s]                                                                                              \n"
     ]
    },
    {
     "name": "stdout",
     "output_type": "stream",
     "text": [
      "Saving results in D:\\Sidevideos\\AR30MOTOR\\2022_01_31...\n",
      "Saving csv poses!\n",
      "Starting to analyze %  D:\\Sidevideos\\AR30MOTOR\\2022_01_31\\128EYE.avi\n",
      "Loading  D:\\Sidevideos\\AR30MOTOR\\2022_01_31\\128EYE.avi\n",
      "Duration of video [s]:  12.5 , recorded with  40.0 fps!\n",
      "Overall # of frames:  500  found with (before cropping) frame dimensions:  200 200\n",
      "Starting to extract posture\n",
      "Cropping based on the x1 = 60 x2 = 150 y1 = 60 y2 = 150. You can adjust the cropping coordinates in the config.yaml file.\n"
     ]
    },
    {
     "name": "stderr",
     "output_type": "stream",
     "text": [
      "510it [00:01, 307.74it/s]                                                                                              \n"
     ]
    },
    {
     "name": "stdout",
     "output_type": "stream",
     "text": [
      "Saving results in D:\\Sidevideos\\AR30MOTOR\\2022_01_31...\n",
      "Saving csv poses!\n",
      "Starting to analyze %  D:\\Sidevideos\\AR30MOTOR\\2022_01_31\\129EYE.avi\n",
      "Loading  D:\\Sidevideos\\AR30MOTOR\\2022_01_31\\129EYE.avi\n",
      "Duration of video [s]:  12.5 , recorded with  40.0 fps!\n",
      "Overall # of frames:  500  found with (before cropping) frame dimensions:  200 200\n",
      "Starting to extract posture\n",
      "Cropping based on the x1 = 60 x2 = 150 y1 = 60 y2 = 150. You can adjust the cropping coordinates in the config.yaml file.\n"
     ]
    },
    {
     "name": "stderr",
     "output_type": "stream",
     "text": [
      "510it [00:01, 298.57it/s]                                                                                              \n"
     ]
    },
    {
     "name": "stdout",
     "output_type": "stream",
     "text": [
      "Saving results in D:\\Sidevideos\\AR30MOTOR\\2022_01_31...\n",
      "Saving csv poses!\n",
      "Starting to analyze %  D:\\Sidevideos\\AR30MOTOR\\2022_01_31\\12EYE.avi\n",
      "Loading  D:\\Sidevideos\\AR30MOTOR\\2022_01_31\\12EYE.avi\n",
      "Duration of video [s]:  12.5 , recorded with  40.0 fps!\n",
      "Overall # of frames:  500  found with (before cropping) frame dimensions:  200 200\n",
      "Starting to extract posture\n",
      "Cropping based on the x1 = 60 x2 = 150 y1 = 60 y2 = 150. You can adjust the cropping coordinates in the config.yaml file.\n"
     ]
    },
    {
     "name": "stderr",
     "output_type": "stream",
     "text": [
      "510it [00:01, 308.74it/s]                                                                                              \n"
     ]
    },
    {
     "name": "stdout",
     "output_type": "stream",
     "text": [
      "Saving results in D:\\Sidevideos\\AR30MOTOR\\2022_01_31...\n",
      "Saving csv poses!\n",
      "Starting to analyze %  D:\\Sidevideos\\AR30MOTOR\\2022_01_31\\130EYE.avi\n",
      "Loading  D:\\Sidevideos\\AR30MOTOR\\2022_01_31\\130EYE.avi\n",
      "Duration of video [s]:  12.5 , recorded with  40.0 fps!\n",
      "Overall # of frames:  500  found with (before cropping) frame dimensions:  200 200\n",
      "Starting to extract posture\n",
      "Cropping based on the x1 = 60 x2 = 150 y1 = 60 y2 = 150. You can adjust the cropping coordinates in the config.yaml file.\n"
     ]
    },
    {
     "name": "stderr",
     "output_type": "stream",
     "text": [
      "510it [00:01, 316.01it/s]                                                                                              \n"
     ]
    },
    {
     "name": "stdout",
     "output_type": "stream",
     "text": [
      "Saving results in D:\\Sidevideos\\AR30MOTOR\\2022_01_31...\n",
      "Saving csv poses!\n",
      "Starting to analyze %  D:\\Sidevideos\\AR30MOTOR\\2022_01_31\\131EYE.avi\n",
      "Loading  D:\\Sidevideos\\AR30MOTOR\\2022_01_31\\131EYE.avi\n",
      "Duration of video [s]:  12.5 , recorded with  40.0 fps!\n",
      "Overall # of frames:  500  found with (before cropping) frame dimensions:  200 200\n",
      "Starting to extract posture\n",
      "Cropping based on the x1 = 60 x2 = 150 y1 = 60 y2 = 150. You can adjust the cropping coordinates in the config.yaml file.\n"
     ]
    },
    {
     "name": "stderr",
     "output_type": "stream",
     "text": [
      "510it [00:01, 306.20it/s]                                                                                              \n"
     ]
    },
    {
     "name": "stdout",
     "output_type": "stream",
     "text": [
      "Saving results in D:\\Sidevideos\\AR30MOTOR\\2022_01_31...\n",
      "Saving csv poses!\n",
      "Starting to analyze %  D:\\Sidevideos\\AR30MOTOR\\2022_01_31\\132EYE.avi\n",
      "Loading  D:\\Sidevideos\\AR30MOTOR\\2022_01_31\\132EYE.avi\n",
      "Duration of video [s]:  12.5 , recorded with  40.0 fps!\n",
      "Overall # of frames:  500  found with (before cropping) frame dimensions:  200 200\n",
      "Starting to extract posture\n",
      "Cropping based on the x1 = 60 x2 = 150 y1 = 60 y2 = 150. You can adjust the cropping coordinates in the config.yaml file.\n"
     ]
    },
    {
     "name": "stderr",
     "output_type": "stream",
     "text": [
      "510it [00:01, 310.52it/s]                                                                                              \n"
     ]
    },
    {
     "name": "stdout",
     "output_type": "stream",
     "text": [
      "Saving results in D:\\Sidevideos\\AR30MOTOR\\2022_01_31...\n",
      "Saving csv poses!\n",
      "Starting to analyze %  D:\\Sidevideos\\AR30MOTOR\\2022_01_31\\133EYE.avi\n",
      "Loading  D:\\Sidevideos\\AR30MOTOR\\2022_01_31\\133EYE.avi\n",
      "Duration of video [s]:  12.5 , recorded with  40.0 fps!\n",
      "Overall # of frames:  500  found with (before cropping) frame dimensions:  200 200\n",
      "Starting to extract posture\n",
      "Cropping based on the x1 = 60 x2 = 150 y1 = 60 y2 = 150. You can adjust the cropping coordinates in the config.yaml file.\n"
     ]
    },
    {
     "name": "stderr",
     "output_type": "stream",
     "text": [
      "510it [00:01, 306.42it/s]                                                                                              \n"
     ]
    },
    {
     "name": "stdout",
     "output_type": "stream",
     "text": [
      "Saving results in D:\\Sidevideos\\AR30MOTOR\\2022_01_31...\n",
      "Saving csv poses!\n",
      "Starting to analyze %  D:\\Sidevideos\\AR30MOTOR\\2022_01_31\\134EYE.avi\n",
      "Loading  D:\\Sidevideos\\AR30MOTOR\\2022_01_31\\134EYE.avi\n",
      "Duration of video [s]:  12.5 , recorded with  40.0 fps!\n",
      "Overall # of frames:  500  found with (before cropping) frame dimensions:  200 200\n",
      "Starting to extract posture\n",
      "Cropping based on the x1 = 60 x2 = 150 y1 = 60 y2 = 150. You can adjust the cropping coordinates in the config.yaml file.\n"
     ]
    },
    {
     "name": "stderr",
     "output_type": "stream",
     "text": [
      "510it [00:01, 308.58it/s]                                                                                              \n"
     ]
    },
    {
     "name": "stdout",
     "output_type": "stream",
     "text": [
      "Saving results in D:\\Sidevideos\\AR30MOTOR\\2022_01_31...\n",
      "Saving csv poses!\n",
      "Starting to analyze %  D:\\Sidevideos\\AR30MOTOR\\2022_01_31\\135EYE.avi\n",
      "Loading  D:\\Sidevideos\\AR30MOTOR\\2022_01_31\\135EYE.avi\n",
      "Duration of video [s]:  11.95 , recorded with  40.0 fps!\n",
      "Overall # of frames:  478  found with (before cropping) frame dimensions:  200 200\n",
      "Starting to extract posture\n",
      "Cropping based on the x1 = 60 x2 = 150 y1 = 60 y2 = 150. You can adjust the cropping coordinates in the config.yaml file.\n"
     ]
    },
    {
     "name": "stderr",
     "output_type": "stream",
     "text": [
      "480it [00:01, 311.69it/s]                                                                                              \n"
     ]
    },
    {
     "name": "stdout",
     "output_type": "stream",
     "text": [
      "Saving results in D:\\Sidevideos\\AR30MOTOR\\2022_01_31...\n",
      "Saving csv poses!\n",
      "Starting to analyze %  D:\\Sidevideos\\AR30MOTOR\\2022_01_31\\136EYE.avi\n",
      "Loading  D:\\Sidevideos\\AR30MOTOR\\2022_01_31\\136EYE.avi\n",
      "Duration of video [s]:  12.5 , recorded with  40.0 fps!\n",
      "Overall # of frames:  500  found with (before cropping) frame dimensions:  200 200\n",
      "Starting to extract posture\n",
      "Cropping based on the x1 = 60 x2 = 150 y1 = 60 y2 = 150. You can adjust the cropping coordinates in the config.yaml file.\n"
     ]
    },
    {
     "name": "stderr",
     "output_type": "stream",
     "text": [
      "510it [00:01, 306.61it/s]                                                                                              \n"
     ]
    },
    {
     "name": "stdout",
     "output_type": "stream",
     "text": [
      "Saving results in D:\\Sidevideos\\AR30MOTOR\\2022_01_31...\n",
      "Saving csv poses!\n",
      "Starting to analyze %  D:\\Sidevideos\\AR30MOTOR\\2022_01_31\\137EYE.avi\n",
      "Loading  D:\\Sidevideos\\AR30MOTOR\\2022_01_31\\137EYE.avi\n",
      "Duration of video [s]:  12.5 , recorded with  40.0 fps!\n",
      "Overall # of frames:  500  found with (before cropping) frame dimensions:  200 200\n",
      "Starting to extract posture\n",
      "Cropping based on the x1 = 60 x2 = 150 y1 = 60 y2 = 150. You can adjust the cropping coordinates in the config.yaml file.\n"
     ]
    },
    {
     "name": "stderr",
     "output_type": "stream",
     "text": [
      "510it [00:01, 308.34it/s]                                                                                              \n"
     ]
    },
    {
     "name": "stdout",
     "output_type": "stream",
     "text": [
      "Saving results in D:\\Sidevideos\\AR30MOTOR\\2022_01_31...\n",
      "Saving csv poses!\n",
      "Starting to analyze %  D:\\Sidevideos\\AR30MOTOR\\2022_01_31\\138EYE.avi\n",
      "Loading  D:\\Sidevideos\\AR30MOTOR\\2022_01_31\\138EYE.avi\n",
      "Duration of video [s]:  12.5 , recorded with  40.0 fps!\n",
      "Overall # of frames:  500  found with (before cropping) frame dimensions:  200 200\n",
      "Starting to extract posture\n",
      "Cropping based on the x1 = 60 x2 = 150 y1 = 60 y2 = 150. You can adjust the cropping coordinates in the config.yaml file.\n"
     ]
    },
    {
     "name": "stderr",
     "output_type": "stream",
     "text": [
      "510it [00:01, 304.33it/s]                                                                                              \n"
     ]
    },
    {
     "name": "stdout",
     "output_type": "stream",
     "text": [
      "Saving results in D:\\Sidevideos\\AR30MOTOR\\2022_01_31...\n",
      "Saving csv poses!\n",
      "Starting to analyze %  D:\\Sidevideos\\AR30MOTOR\\2022_01_31\\13EYE.avi\n",
      "Loading  D:\\Sidevideos\\AR30MOTOR\\2022_01_31\\13EYE.avi\n",
      "Duration of video [s]:  12.5 , recorded with  40.0 fps!\n",
      "Overall # of frames:  500  found with (before cropping) frame dimensions:  200 200\n",
      "Starting to extract posture\n",
      "Cropping based on the x1 = 60 x2 = 150 y1 = 60 y2 = 150. You can adjust the cropping coordinates in the config.yaml file.\n"
     ]
    },
    {
     "name": "stderr",
     "output_type": "stream",
     "text": [
      "510it [00:01, 318.89it/s]                                                                                              \n"
     ]
    },
    {
     "name": "stdout",
     "output_type": "stream",
     "text": [
      "Saving results in D:\\Sidevideos\\AR30MOTOR\\2022_01_31...\n",
      "Saving csv poses!\n",
      "Starting to analyze %  D:\\Sidevideos\\AR30MOTOR\\2022_01_31\\14EYE.avi\n",
      "Loading  D:\\Sidevideos\\AR30MOTOR\\2022_01_31\\14EYE.avi\n",
      "Duration of video [s]:  12.5 , recorded with  40.0 fps!\n",
      "Overall # of frames:  500  found with (before cropping) frame dimensions:  200 200\n",
      "Starting to extract posture\n",
      "Cropping based on the x1 = 60 x2 = 150 y1 = 60 y2 = 150. You can adjust the cropping coordinates in the config.yaml file.\n"
     ]
    },
    {
     "name": "stderr",
     "output_type": "stream",
     "text": [
      "510it [00:01, 314.82it/s]                                                                                              \n"
     ]
    },
    {
     "name": "stdout",
     "output_type": "stream",
     "text": [
      "Saving results in D:\\Sidevideos\\AR30MOTOR\\2022_01_31...\n",
      "Saving csv poses!\n",
      "Starting to analyze %  D:\\Sidevideos\\AR30MOTOR\\2022_01_31\\15EYE.avi\n",
      "Loading  D:\\Sidevideos\\AR30MOTOR\\2022_01_31\\15EYE.avi\n",
      "Duration of video [s]:  12.5 , recorded with  40.0 fps!\n",
      "Overall # of frames:  500  found with (before cropping) frame dimensions:  200 200\n",
      "Starting to extract posture\n",
      "Cropping based on the x1 = 60 x2 = 150 y1 = 60 y2 = 150. You can adjust the cropping coordinates in the config.yaml file.\n"
     ]
    },
    {
     "name": "stderr",
     "output_type": "stream",
     "text": [
      "510it [00:02, 251.16it/s]                                                                                              \n"
     ]
    },
    {
     "name": "stdout",
     "output_type": "stream",
     "text": [
      "Saving results in D:\\Sidevideos\\AR30MOTOR\\2022_01_31...\n",
      "Saving csv poses!\n",
      "Starting to analyze %  D:\\Sidevideos\\AR30MOTOR\\2022_01_31\\16EYE.avi\n",
      "Loading  D:\\Sidevideos\\AR30MOTOR\\2022_01_31\\16EYE.avi\n",
      "Duration of video [s]:  12.5 , recorded with  40.0 fps!\n",
      "Overall # of frames:  500  found with (before cropping) frame dimensions:  200 200\n",
      "Starting to extract posture\n",
      "Cropping based on the x1 = 60 x2 = 150 y1 = 60 y2 = 150. You can adjust the cropping coordinates in the config.yaml file.\n"
     ]
    },
    {
     "name": "stderr",
     "output_type": "stream",
     "text": [
      "510it [00:01, 308.68it/s]                                                                                              \n"
     ]
    },
    {
     "name": "stdout",
     "output_type": "stream",
     "text": [
      "Saving results in D:\\Sidevideos\\AR30MOTOR\\2022_01_31...\n",
      "Saving csv poses!\n",
      "Starting to analyze %  D:\\Sidevideos\\AR30MOTOR\\2022_01_31\\17EYE.avi\n",
      "Loading  D:\\Sidevideos\\AR30MOTOR\\2022_01_31\\17EYE.avi\n",
      "Duration of video [s]:  12.5 , recorded with  40.0 fps!\n",
      "Overall # of frames:  500  found with (before cropping) frame dimensions:  200 200\n",
      "Starting to extract posture\n",
      "Cropping based on the x1 = 60 x2 = 150 y1 = 60 y2 = 150. You can adjust the cropping coordinates in the config.yaml file.\n"
     ]
    },
    {
     "name": "stderr",
     "output_type": "stream",
     "text": [
      "510it [00:01, 316.97it/s]                                                                                              \n"
     ]
    },
    {
     "name": "stdout",
     "output_type": "stream",
     "text": [
      "Saving results in D:\\Sidevideos\\AR30MOTOR\\2022_01_31...\n",
      "Saving csv poses!\n",
      "Starting to analyze %  D:\\Sidevideos\\AR30MOTOR\\2022_01_31\\18EYE.avi\n",
      "Loading  D:\\Sidevideos\\AR30MOTOR\\2022_01_31\\18EYE.avi\n",
      "Duration of video [s]:  12.5 , recorded with  40.0 fps!\n",
      "Overall # of frames:  500  found with (before cropping) frame dimensions:  200 200\n",
      "Starting to extract posture\n",
      "Cropping based on the x1 = 60 x2 = 150 y1 = 60 y2 = 150. You can adjust the cropping coordinates in the config.yaml file.\n"
     ]
    },
    {
     "name": "stderr",
     "output_type": "stream",
     "text": [
      "510it [00:01, 308.71it/s]                                                                                              \n"
     ]
    },
    {
     "name": "stdout",
     "output_type": "stream",
     "text": [
      "Saving results in D:\\Sidevideos\\AR30MOTOR\\2022_01_31...\n",
      "Saving csv poses!\n",
      "Starting to analyze %  D:\\Sidevideos\\AR30MOTOR\\2022_01_31\\19EYE.avi\n",
      "Loading  D:\\Sidevideos\\AR30MOTOR\\2022_01_31\\19EYE.avi\n",
      "Duration of video [s]:  12.5 , recorded with  40.0 fps!\n",
      "Overall # of frames:  500  found with (before cropping) frame dimensions:  200 200\n",
      "Starting to extract posture\n",
      "Cropping based on the x1 = 60 x2 = 150 y1 = 60 y2 = 150. You can adjust the cropping coordinates in the config.yaml file.\n"
     ]
    },
    {
     "name": "stderr",
     "output_type": "stream",
     "text": [
      "510it [00:01, 306.64it/s]                                                                                              \n"
     ]
    },
    {
     "name": "stdout",
     "output_type": "stream",
     "text": [
      "Saving results in D:\\Sidevideos\\AR30MOTOR\\2022_01_31...\n",
      "Saving csv poses!\n",
      "Starting to analyze %  D:\\Sidevideos\\AR30MOTOR\\2022_01_31\\1EYE.avi\n",
      "Loading  D:\\Sidevideos\\AR30MOTOR\\2022_01_31\\1EYE.avi\n",
      "Duration of video [s]:  12.5 , recorded with  40.0 fps!\n",
      "Overall # of frames:  500  found with (before cropping) frame dimensions:  200 200\n",
      "Starting to extract posture\n",
      "Cropping based on the x1 = 60 x2 = 150 y1 = 60 y2 = 150. You can adjust the cropping coordinates in the config.yaml file.\n"
     ]
    },
    {
     "name": "stderr",
     "output_type": "stream",
     "text": [
      "510it [00:01, 308.87it/s]                                                                                              \n"
     ]
    },
    {
     "name": "stdout",
     "output_type": "stream",
     "text": [
      "Saving results in D:\\Sidevideos\\AR30MOTOR\\2022_01_31...\n",
      "Saving csv poses!\n",
      "Starting to analyze %  D:\\Sidevideos\\AR30MOTOR\\2022_01_31\\20EYE.avi\n",
      "Loading  D:\\Sidevideos\\AR30MOTOR\\2022_01_31\\20EYE.avi\n",
      "Duration of video [s]:  12.5 , recorded with  40.0 fps!\n",
      "Overall # of frames:  500  found with (before cropping) frame dimensions:  200 200\n",
      "Starting to extract posture\n",
      "Cropping based on the x1 = 60 x2 = 150 y1 = 60 y2 = 150. You can adjust the cropping coordinates in the config.yaml file.\n"
     ]
    },
    {
     "name": "stderr",
     "output_type": "stream",
     "text": [
      "510it [00:01, 300.95it/s]                                                                                              \n"
     ]
    },
    {
     "name": "stdout",
     "output_type": "stream",
     "text": [
      "Saving results in D:\\Sidevideos\\AR30MOTOR\\2022_01_31...\n",
      "Saving csv poses!\n",
      "Starting to analyze %  D:\\Sidevideos\\AR30MOTOR\\2022_01_31\\21EYE.avi\n",
      "Loading  D:\\Sidevideos\\AR30MOTOR\\2022_01_31\\21EYE.avi\n",
      "Duration of video [s]:  12.5 , recorded with  40.0 fps!\n",
      "Overall # of frames:  500  found with (before cropping) frame dimensions:  200 200\n",
      "Starting to extract posture\n",
      "Cropping based on the x1 = 60 x2 = 150 y1 = 60 y2 = 150. You can adjust the cropping coordinates in the config.yaml file.\n"
     ]
    },
    {
     "name": "stderr",
     "output_type": "stream",
     "text": [
      "510it [00:01, 297.39it/s]                                                                                              \n"
     ]
    },
    {
     "name": "stdout",
     "output_type": "stream",
     "text": [
      "Saving results in D:\\Sidevideos\\AR30MOTOR\\2022_01_31...\n",
      "Saving csv poses!\n",
      "Starting to analyze %  D:\\Sidevideos\\AR30MOTOR\\2022_01_31\\22EYE.avi\n",
      "Loading  D:\\Sidevideos\\AR30MOTOR\\2022_01_31\\22EYE.avi\n",
      "Duration of video [s]:  12.5 , recorded with  40.0 fps!\n",
      "Overall # of frames:  500  found with (before cropping) frame dimensions:  200 200\n",
      "Starting to extract posture\n",
      "Cropping based on the x1 = 60 x2 = 150 y1 = 60 y2 = 150. You can adjust the cropping coordinates in the config.yaml file.\n"
     ]
    },
    {
     "name": "stderr",
     "output_type": "stream",
     "text": [
      "510it [00:01, 314.16it/s]                                                                                              \n"
     ]
    },
    {
     "name": "stdout",
     "output_type": "stream",
     "text": [
      "Saving results in D:\\Sidevideos\\AR30MOTOR\\2022_01_31...\n",
      "Saving csv poses!\n",
      "Starting to analyze %  D:\\Sidevideos\\AR30MOTOR\\2022_01_31\\23EYE.avi\n",
      "Loading  D:\\Sidevideos\\AR30MOTOR\\2022_01_31\\23EYE.avi\n",
      "Duration of video [s]:  12.5 , recorded with  40.0 fps!\n",
      "Overall # of frames:  500  found with (before cropping) frame dimensions:  200 200\n",
      "Starting to extract posture\n",
      "Cropping based on the x1 = 60 x2 = 150 y1 = 60 y2 = 150. You can adjust the cropping coordinates in the config.yaml file.\n"
     ]
    },
    {
     "name": "stderr",
     "output_type": "stream",
     "text": [
      "510it [00:01, 313.76it/s]                                                                                              \n"
     ]
    },
    {
     "name": "stdout",
     "output_type": "stream",
     "text": [
      "Saving results in D:\\Sidevideos\\AR30MOTOR\\2022_01_31...\n",
      "Saving csv poses!\n",
      "Starting to analyze %  D:\\Sidevideos\\AR30MOTOR\\2022_01_31\\24EYE.avi\n",
      "Loading  D:\\Sidevideos\\AR30MOTOR\\2022_01_31\\24EYE.avi\n",
      "Duration of video [s]:  12.5 , recorded with  40.0 fps!\n",
      "Overall # of frames:  500  found with (before cropping) frame dimensions:  200 200\n",
      "Starting to extract posture\n",
      "Cropping based on the x1 = 60 x2 = 150 y1 = 60 y2 = 150. You can adjust the cropping coordinates in the config.yaml file.\n"
     ]
    },
    {
     "name": "stderr",
     "output_type": "stream",
     "text": [
      "510it [00:01, 316.54it/s]                                                                                              \n"
     ]
    },
    {
     "name": "stdout",
     "output_type": "stream",
     "text": [
      "Saving results in D:\\Sidevideos\\AR30MOTOR\\2022_01_31...\n",
      "Saving csv poses!\n",
      "Starting to analyze %  D:\\Sidevideos\\AR30MOTOR\\2022_01_31\\25EYE.avi\n",
      "Loading  D:\\Sidevideos\\AR30MOTOR\\2022_01_31\\25EYE.avi\n",
      "Duration of video [s]:  12.5 , recorded with  40.0 fps!\n",
      "Overall # of frames:  500  found with (before cropping) frame dimensions:  200 200\n",
      "Starting to extract posture\n",
      "Cropping based on the x1 = 60 x2 = 150 y1 = 60 y2 = 150. You can adjust the cropping coordinates in the config.yaml file.\n"
     ]
    },
    {
     "name": "stderr",
     "output_type": "stream",
     "text": [
      "510it [00:01, 305.95it/s]                                                                                              \n"
     ]
    },
    {
     "name": "stdout",
     "output_type": "stream",
     "text": [
      "Saving results in D:\\Sidevideos\\AR30MOTOR\\2022_01_31...\n",
      "Saving csv poses!\n",
      "Starting to analyze %  D:\\Sidevideos\\AR30MOTOR\\2022_01_31\\26EYE.avi\n",
      "Loading  D:\\Sidevideos\\AR30MOTOR\\2022_01_31\\26EYE.avi\n",
      "Duration of video [s]:  12.5 , recorded with  40.0 fps!\n",
      "Overall # of frames:  500  found with (before cropping) frame dimensions:  200 200\n",
      "Starting to extract posture\n",
      "Cropping based on the x1 = 60 x2 = 150 y1 = 60 y2 = 150. You can adjust the cropping coordinates in the config.yaml file.\n"
     ]
    },
    {
     "name": "stderr",
     "output_type": "stream",
     "text": [
      "510it [00:01, 301.78it/s]                                                                                              \n"
     ]
    },
    {
     "name": "stdout",
     "output_type": "stream",
     "text": [
      "Saving results in D:\\Sidevideos\\AR30MOTOR\\2022_01_31...\n",
      "Saving csv poses!\n",
      "Starting to analyze %  D:\\Sidevideos\\AR30MOTOR\\2022_01_31\\27EYE.avi\n",
      "Loading  D:\\Sidevideos\\AR30MOTOR\\2022_01_31\\27EYE.avi\n",
      "Duration of video [s]:  12.5 , recorded with  40.0 fps!\n",
      "Overall # of frames:  500  found with (before cropping) frame dimensions:  200 200\n",
      "Starting to extract posture\n",
      "Cropping based on the x1 = 60 x2 = 150 y1 = 60 y2 = 150. You can adjust the cropping coordinates in the config.yaml file.\n"
     ]
    },
    {
     "name": "stderr",
     "output_type": "stream",
     "text": [
      "510it [00:01, 314.58it/s]                                                                                              \n"
     ]
    },
    {
     "name": "stdout",
     "output_type": "stream",
     "text": [
      "Saving results in D:\\Sidevideos\\AR30MOTOR\\2022_01_31...\n",
      "Saving csv poses!\n",
      "Starting to analyze %  D:\\Sidevideos\\AR30MOTOR\\2022_01_31\\28EYE.avi\n",
      "Loading  D:\\Sidevideos\\AR30MOTOR\\2022_01_31\\28EYE.avi\n",
      "Duration of video [s]:  12.5 , recorded with  40.0 fps!\n",
      "Overall # of frames:  500  found with (before cropping) frame dimensions:  200 200\n",
      "Starting to extract posture\n",
      "Cropping based on the x1 = 60 x2 = 150 y1 = 60 y2 = 150. You can adjust the cropping coordinates in the config.yaml file.\n"
     ]
    },
    {
     "name": "stderr",
     "output_type": "stream",
     "text": [
      "510it [00:01, 314.71it/s]                                                                                              \n"
     ]
    },
    {
     "name": "stdout",
     "output_type": "stream",
     "text": [
      "Saving results in D:\\Sidevideos\\AR30MOTOR\\2022_01_31...\n",
      "Saving csv poses!\n",
      "Starting to analyze %  D:\\Sidevideos\\AR30MOTOR\\2022_01_31\\29EYE.avi\n",
      "Loading  D:\\Sidevideos\\AR30MOTOR\\2022_01_31\\29EYE.avi\n",
      "Duration of video [s]:  12.5 , recorded with  40.0 fps!\n",
      "Overall # of frames:  500  found with (before cropping) frame dimensions:  200 200\n",
      "Starting to extract posture\n",
      "Cropping based on the x1 = 60 x2 = 150 y1 = 60 y2 = 150. You can adjust the cropping coordinates in the config.yaml file.\n"
     ]
    },
    {
     "name": "stderr",
     "output_type": "stream",
     "text": [
      "510it [00:01, 293.45it/s]                                                                                              \n"
     ]
    },
    {
     "name": "stdout",
     "output_type": "stream",
     "text": [
      "Saving results in D:\\Sidevideos\\AR30MOTOR\\2022_01_31...\n",
      "Saving csv poses!\n",
      "Starting to analyze %  D:\\Sidevideos\\AR30MOTOR\\2022_01_31\\2EYE.avi\n",
      "Loading  D:\\Sidevideos\\AR30MOTOR\\2022_01_31\\2EYE.avi\n",
      "Duration of video [s]:  12.5 , recorded with  40.0 fps!\n",
      "Overall # of frames:  500  found with (before cropping) frame dimensions:  200 200\n",
      "Starting to extract posture\n",
      "Cropping based on the x1 = 60 x2 = 150 y1 = 60 y2 = 150. You can adjust the cropping coordinates in the config.yaml file.\n"
     ]
    },
    {
     "name": "stderr",
     "output_type": "stream",
     "text": [
      "510it [00:01, 320.27it/s]                                                                                              \n"
     ]
    },
    {
     "name": "stdout",
     "output_type": "stream",
     "text": [
      "Saving results in D:\\Sidevideos\\AR30MOTOR\\2022_01_31...\n",
      "Saving csv poses!\n",
      "Starting to analyze %  D:\\Sidevideos\\AR30MOTOR\\2022_01_31\\30EYE.avi\n",
      "Loading  D:\\Sidevideos\\AR30MOTOR\\2022_01_31\\30EYE.avi\n",
      "Duration of video [s]:  12.5 , recorded with  40.0 fps!\n",
      "Overall # of frames:  500  found with (before cropping) frame dimensions:  200 200\n",
      "Starting to extract posture\n",
      "Cropping based on the x1 = 60 x2 = 150 y1 = 60 y2 = 150. You can adjust the cropping coordinates in the config.yaml file.\n"
     ]
    },
    {
     "name": "stderr",
     "output_type": "stream",
     "text": [
      "510it [00:01, 308.43it/s]                                                                                              \n"
     ]
    },
    {
     "name": "stdout",
     "output_type": "stream",
     "text": [
      "Saving results in D:\\Sidevideos\\AR30MOTOR\\2022_01_31...\n",
      "Saving csv poses!\n",
      "Starting to analyze %  D:\\Sidevideos\\AR30MOTOR\\2022_01_31\\31EYE.avi\n",
      "Loading  D:\\Sidevideos\\AR30MOTOR\\2022_01_31\\31EYE.avi\n",
      "Duration of video [s]:  12.5 , recorded with  40.0 fps!\n",
      "Overall # of frames:  500  found with (before cropping) frame dimensions:  200 200\n",
      "Starting to extract posture\n",
      "Cropping based on the x1 = 60 x2 = 150 y1 = 60 y2 = 150. You can adjust the cropping coordinates in the config.yaml file.\n"
     ]
    },
    {
     "name": "stderr",
     "output_type": "stream",
     "text": [
      "510it [00:01, 299.48it/s]                                                                                              \n"
     ]
    },
    {
     "name": "stdout",
     "output_type": "stream",
     "text": [
      "Saving results in D:\\Sidevideos\\AR30MOTOR\\2022_01_31...\n",
      "Saving csv poses!\n",
      "Starting to analyze %  D:\\Sidevideos\\AR30MOTOR\\2022_01_31\\32EYE.avi\n",
      "Loading  D:\\Sidevideos\\AR30MOTOR\\2022_01_31\\32EYE.avi\n",
      "Duration of video [s]:  12.5 , recorded with  40.0 fps!\n",
      "Overall # of frames:  500  found with (before cropping) frame dimensions:  200 200\n",
      "Starting to extract posture\n",
      "Cropping based on the x1 = 60 x2 = 150 y1 = 60 y2 = 150. You can adjust the cropping coordinates in the config.yaml file.\n"
     ]
    },
    {
     "name": "stderr",
     "output_type": "stream",
     "text": [
      "510it [00:01, 299.74it/s]                                                                                              \n"
     ]
    },
    {
     "name": "stdout",
     "output_type": "stream",
     "text": [
      "Saving results in D:\\Sidevideos\\AR30MOTOR\\2022_01_31...\n",
      "Saving csv poses!\n",
      "Starting to analyze %  D:\\Sidevideos\\AR30MOTOR\\2022_01_31\\33EYE.avi\n",
      "Loading  D:\\Sidevideos\\AR30MOTOR\\2022_01_31\\33EYE.avi\n",
      "Duration of video [s]:  12.5 , recorded with  40.0 fps!\n",
      "Overall # of frames:  500  found with (before cropping) frame dimensions:  200 200\n",
      "Starting to extract posture\n",
      "Cropping based on the x1 = 60 x2 = 150 y1 = 60 y2 = 150. You can adjust the cropping coordinates in the config.yaml file.\n"
     ]
    },
    {
     "name": "stderr",
     "output_type": "stream",
     "text": [
      "510it [00:01, 309.07it/s]                                                                                              \n"
     ]
    },
    {
     "name": "stdout",
     "output_type": "stream",
     "text": [
      "Saving results in D:\\Sidevideos\\AR30MOTOR\\2022_01_31...\n",
      "Saving csv poses!\n",
      "Starting to analyze %  D:\\Sidevideos\\AR30MOTOR\\2022_01_31\\34EYE.avi\n",
      "Loading  D:\\Sidevideos\\AR30MOTOR\\2022_01_31\\34EYE.avi\n",
      "Duration of video [s]:  12.5 , recorded with  40.0 fps!\n",
      "Overall # of frames:  500  found with (before cropping) frame dimensions:  200 200\n",
      "Starting to extract posture\n",
      "Cropping based on the x1 = 60 x2 = 150 y1 = 60 y2 = 150. You can adjust the cropping coordinates in the config.yaml file.\n"
     ]
    },
    {
     "name": "stderr",
     "output_type": "stream",
     "text": [
      "510it [00:01, 293.42it/s]                                                                                              \n"
     ]
    },
    {
     "name": "stdout",
     "output_type": "stream",
     "text": [
      "Saving results in D:\\Sidevideos\\AR30MOTOR\\2022_01_31...\n",
      "Saving csv poses!\n",
      "Starting to analyze %  D:\\Sidevideos\\AR30MOTOR\\2022_01_31\\35EYE.avi\n",
      "Loading  D:\\Sidevideos\\AR30MOTOR\\2022_01_31\\35EYE.avi\n",
      "Duration of video [s]:  12.5 , recorded with  40.0 fps!\n",
      "Overall # of frames:  500  found with (before cropping) frame dimensions:  200 200\n",
      "Starting to extract posture\n",
      "Cropping based on the x1 = 60 x2 = 150 y1 = 60 y2 = 150. You can adjust the cropping coordinates in the config.yaml file.\n"
     ]
    },
    {
     "name": "stderr",
     "output_type": "stream",
     "text": [
      "510it [00:01, 298.72it/s]                                                                                              \n"
     ]
    },
    {
     "name": "stdout",
     "output_type": "stream",
     "text": [
      "Saving results in D:\\Sidevideos\\AR30MOTOR\\2022_01_31...\n",
      "Saving csv poses!\n",
      "Starting to analyze %  D:\\Sidevideos\\AR30MOTOR\\2022_01_31\\36EYE.avi\n",
      "Loading  D:\\Sidevideos\\AR30MOTOR\\2022_01_31\\36EYE.avi\n",
      "Duration of video [s]:  12.5 , recorded with  40.0 fps!\n",
      "Overall # of frames:  500  found with (before cropping) frame dimensions:  200 200\n",
      "Starting to extract posture\n",
      "Cropping based on the x1 = 60 x2 = 150 y1 = 60 y2 = 150. You can adjust the cropping coordinates in the config.yaml file.\n"
     ]
    },
    {
     "name": "stderr",
     "output_type": "stream",
     "text": [
      "510it [00:01, 265.52it/s]                                                                                              \n"
     ]
    },
    {
     "name": "stdout",
     "output_type": "stream",
     "text": [
      "Saving results in D:\\Sidevideos\\AR30MOTOR\\2022_01_31...\n",
      "Saving csv poses!\n",
      "Starting to analyze %  D:\\Sidevideos\\AR30MOTOR\\2022_01_31\\37EYE.avi\n",
      "Loading  D:\\Sidevideos\\AR30MOTOR\\2022_01_31\\37EYE.avi\n",
      "Duration of video [s]:  12.5 , recorded with  40.0 fps!\n",
      "Overall # of frames:  500  found with (before cropping) frame dimensions:  200 200\n",
      "Starting to extract posture\n",
      "Cropping based on the x1 = 60 x2 = 150 y1 = 60 y2 = 150. You can adjust the cropping coordinates in the config.yaml file.\n"
     ]
    },
    {
     "name": "stderr",
     "output_type": "stream",
     "text": [
      "510it [00:01, 275.86it/s]                                                                                              \n"
     ]
    },
    {
     "name": "stdout",
     "output_type": "stream",
     "text": [
      "Saving results in D:\\Sidevideos\\AR30MOTOR\\2022_01_31...\n",
      "Saving csv poses!\n",
      "Starting to analyze %  D:\\Sidevideos\\AR30MOTOR\\2022_01_31\\38EYE.avi\n",
      "Loading  D:\\Sidevideos\\AR30MOTOR\\2022_01_31\\38EYE.avi\n",
      "Duration of video [s]:  12.5 , recorded with  40.0 fps!\n",
      "Overall # of frames:  500  found with (before cropping) frame dimensions:  200 200\n",
      "Starting to extract posture\n",
      "Cropping based on the x1 = 60 x2 = 150 y1 = 60 y2 = 150. You can adjust the cropping coordinates in the config.yaml file.\n"
     ]
    },
    {
     "name": "stderr",
     "output_type": "stream",
     "text": [
      "510it [00:01, 312.01it/s]                                                                                              \n"
     ]
    },
    {
     "name": "stdout",
     "output_type": "stream",
     "text": [
      "Saving results in D:\\Sidevideos\\AR30MOTOR\\2022_01_31...\n",
      "Saving csv poses!\n",
      "Starting to analyze %  D:\\Sidevideos\\AR30MOTOR\\2022_01_31\\39EYE.avi\n",
      "Loading  D:\\Sidevideos\\AR30MOTOR\\2022_01_31\\39EYE.avi\n",
      "Duration of video [s]:  11.7 , recorded with  40.0 fps!\n",
      "Overall # of frames:  468  found with (before cropping) frame dimensions:  200 200\n",
      "Starting to extract posture\n",
      "Cropping based on the x1 = 60 x2 = 150 y1 = 60 y2 = 150. You can adjust the cropping coordinates in the config.yaml file.\n"
     ]
    },
    {
     "name": "stderr",
     "output_type": "stream",
     "text": [
      "470it [00:01, 314.69it/s]                                                                                              \n"
     ]
    },
    {
     "name": "stdout",
     "output_type": "stream",
     "text": [
      "Saving results in D:\\Sidevideos\\AR30MOTOR\\2022_01_31...\n",
      "Saving csv poses!\n",
      "Starting to analyze %  D:\\Sidevideos\\AR30MOTOR\\2022_01_31\\3EYE.avi\n",
      "Loading  D:\\Sidevideos\\AR30MOTOR\\2022_01_31\\3EYE.avi\n",
      "Duration of video [s]:  12.5 , recorded with  40.0 fps!\n",
      "Overall # of frames:  500  found with (before cropping) frame dimensions:  200 200\n",
      "Starting to extract posture\n",
      "Cropping based on the x1 = 60 x2 = 150 y1 = 60 y2 = 150. You can adjust the cropping coordinates in the config.yaml file.\n"
     ]
    },
    {
     "name": "stderr",
     "output_type": "stream",
     "text": [
      "510it [00:01, 310.47it/s]                                                                                              \n"
     ]
    },
    {
     "name": "stdout",
     "output_type": "stream",
     "text": [
      "Saving results in D:\\Sidevideos\\AR30MOTOR\\2022_01_31...\n",
      "Saving csv poses!\n",
      "Starting to analyze %  D:\\Sidevideos\\AR30MOTOR\\2022_01_31\\40EYE.avi\n",
      "Loading  D:\\Sidevideos\\AR30MOTOR\\2022_01_31\\40EYE.avi\n",
      "Duration of video [s]:  12.5 , recorded with  40.0 fps!\n",
      "Overall # of frames:  500  found with (before cropping) frame dimensions:  200 200\n",
      "Starting to extract posture\n",
      "Cropping based on the x1 = 60 x2 = 150 y1 = 60 y2 = 150. You can adjust the cropping coordinates in the config.yaml file.\n"
     ]
    },
    {
     "name": "stderr",
     "output_type": "stream",
     "text": [
      "510it [00:01, 294.73it/s]                                                                                              \n"
     ]
    },
    {
     "name": "stdout",
     "output_type": "stream",
     "text": [
      "Saving results in D:\\Sidevideos\\AR30MOTOR\\2022_01_31...\n",
      "Saving csv poses!\n",
      "Starting to analyze %  D:\\Sidevideos\\AR30MOTOR\\2022_01_31\\41EYE.avi\n",
      "Loading  D:\\Sidevideos\\AR30MOTOR\\2022_01_31\\41EYE.avi\n",
      "Duration of video [s]:  12.5 , recorded with  40.0 fps!\n",
      "Overall # of frames:  500  found with (before cropping) frame dimensions:  200 200\n",
      "Starting to extract posture\n",
      "Cropping based on the x1 = 60 x2 = 150 y1 = 60 y2 = 150. You can adjust the cropping coordinates in the config.yaml file.\n"
     ]
    },
    {
     "name": "stderr",
     "output_type": "stream",
     "text": [
      "510it [00:02, 244.18it/s]                                                                                              \n"
     ]
    },
    {
     "name": "stdout",
     "output_type": "stream",
     "text": [
      "Saving results in D:\\Sidevideos\\AR30MOTOR\\2022_01_31...\n",
      "Saving csv poses!\n",
      "Starting to analyze %  D:\\Sidevideos\\AR30MOTOR\\2022_01_31\\42EYE.avi\n",
      "Loading  D:\\Sidevideos\\AR30MOTOR\\2022_01_31\\42EYE.avi\n",
      "Duration of video [s]:  12.43 , recorded with  40.0 fps!\n",
      "Overall # of frames:  497  found with (before cropping) frame dimensions:  200 200\n",
      "Starting to extract posture\n",
      "Cropping based on the x1 = 60 x2 = 150 y1 = 60 y2 = 150. You can adjust the cropping coordinates in the config.yaml file.\n"
     ]
    },
    {
     "name": "stderr",
     "output_type": "stream",
     "text": [
      "500it [00:01, 293.17it/s]                                                                                              \n"
     ]
    },
    {
     "name": "stdout",
     "output_type": "stream",
     "text": [
      "Saving results in D:\\Sidevideos\\AR30MOTOR\\2022_01_31...\n",
      "Saving csv poses!\n",
      "Starting to analyze %  D:\\Sidevideos\\AR30MOTOR\\2022_01_31\\43EYE.avi\n",
      "Loading  D:\\Sidevideos\\AR30MOTOR\\2022_01_31\\43EYE.avi\n",
      "Duration of video [s]:  12.35 , recorded with  40.0 fps!\n",
      "Overall # of frames:  494  found with (before cropping) frame dimensions:  200 200\n",
      "Starting to extract posture\n",
      "Cropping based on the x1 = 60 x2 = 150 y1 = 60 y2 = 150. You can adjust the cropping coordinates in the config.yaml file.\n"
     ]
    },
    {
     "name": "stderr",
     "output_type": "stream",
     "text": [
      "500it [00:01, 293.06it/s]                                                                                              \n"
     ]
    },
    {
     "name": "stdout",
     "output_type": "stream",
     "text": [
      "Saving results in D:\\Sidevideos\\AR30MOTOR\\2022_01_31...\n",
      "Saving csv poses!\n",
      "Starting to analyze %  D:\\Sidevideos\\AR30MOTOR\\2022_01_31\\44EYE.avi\n",
      "Loading  D:\\Sidevideos\\AR30MOTOR\\2022_01_31\\44EYE.avi\n",
      "Duration of video [s]:  12.5 , recorded with  40.0 fps!\n",
      "Overall # of frames:  500  found with (before cropping) frame dimensions:  200 200\n",
      "Starting to extract posture\n",
      "Cropping based on the x1 = 60 x2 = 150 y1 = 60 y2 = 150. You can adjust the cropping coordinates in the config.yaml file.\n"
     ]
    },
    {
     "name": "stderr",
     "output_type": "stream",
     "text": [
      "510it [00:03, 149.53it/s]                                                                                              \n"
     ]
    },
    {
     "name": "stdout",
     "output_type": "stream",
     "text": [
      "Saving results in D:\\Sidevideos\\AR30MOTOR\\2022_01_31...\n",
      "Saving csv poses!\n",
      "Starting to analyze %  D:\\Sidevideos\\AR30MOTOR\\2022_01_31\\45EYE.avi\n",
      "Loading  D:\\Sidevideos\\AR30MOTOR\\2022_01_31\\45EYE.avi\n",
      "Duration of video [s]:  12.5 , recorded with  40.0 fps!\n",
      "Overall # of frames:  500  found with (before cropping) frame dimensions:  200 200\n",
      "Starting to extract posture\n",
      "Cropping based on the x1 = 60 x2 = 150 y1 = 60 y2 = 150. You can adjust the cropping coordinates in the config.yaml file.\n"
     ]
    },
    {
     "name": "stderr",
     "output_type": "stream",
     "text": [
      "510it [00:03, 147.01it/s]                                                                                              \n"
     ]
    },
    {
     "name": "stdout",
     "output_type": "stream",
     "text": [
      "Saving results in D:\\Sidevideos\\AR30MOTOR\\2022_01_31...\n",
      "Saving csv poses!\n",
      "Starting to analyze %  D:\\Sidevideos\\AR30MOTOR\\2022_01_31\\46EYE.avi\n",
      "Loading  D:\\Sidevideos\\AR30MOTOR\\2022_01_31\\46EYE.avi\n",
      "Duration of video [s]:  12.5 , recorded with  40.0 fps!\n",
      "Overall # of frames:  500  found with (before cropping) frame dimensions:  200 200\n",
      "Starting to extract posture\n",
      "Cropping based on the x1 = 60 x2 = 150 y1 = 60 y2 = 150. You can adjust the cropping coordinates in the config.yaml file.\n"
     ]
    },
    {
     "name": "stderr",
     "output_type": "stream",
     "text": [
      "510it [00:01, 296.79it/s]                                                                                              \n"
     ]
    },
    {
     "name": "stdout",
     "output_type": "stream",
     "text": [
      "Saving results in D:\\Sidevideos\\AR30MOTOR\\2022_01_31...\n",
      "Saving csv poses!\n",
      "Starting to analyze %  D:\\Sidevideos\\AR30MOTOR\\2022_01_31\\47EYE.avi\n",
      "Loading  D:\\Sidevideos\\AR30MOTOR\\2022_01_31\\47EYE.avi\n",
      "Duration of video [s]:  12.5 , recorded with  40.0 fps!\n",
      "Overall # of frames:  500  found with (before cropping) frame dimensions:  200 200\n",
      "Starting to extract posture\n",
      "Cropping based on the x1 = 60 x2 = 150 y1 = 60 y2 = 150. You can adjust the cropping coordinates in the config.yaml file.\n"
     ]
    },
    {
     "name": "stderr",
     "output_type": "stream",
     "text": [
      "510it [00:01, 293.20it/s]                                                                                              \n"
     ]
    },
    {
     "name": "stdout",
     "output_type": "stream",
     "text": [
      "Saving results in D:\\Sidevideos\\AR30MOTOR\\2022_01_31...\n",
      "Saving csv poses!\n",
      "Starting to analyze %  D:\\Sidevideos\\AR30MOTOR\\2022_01_31\\48EYE.avi\n",
      "Loading  D:\\Sidevideos\\AR30MOTOR\\2022_01_31\\48EYE.avi\n",
      "Duration of video [s]:  12.5 , recorded with  40.0 fps!\n",
      "Overall # of frames:  500  found with (before cropping) frame dimensions:  200 200\n",
      "Starting to extract posture\n",
      "Cropping based on the x1 = 60 x2 = 150 y1 = 60 y2 = 150. You can adjust the cropping coordinates in the config.yaml file.\n"
     ]
    },
    {
     "name": "stderr",
     "output_type": "stream",
     "text": [
      "510it [00:01, 278.81it/s]                                                                                              \n"
     ]
    },
    {
     "name": "stdout",
     "output_type": "stream",
     "text": [
      "Saving results in D:\\Sidevideos\\AR30MOTOR\\2022_01_31...\n",
      "Saving csv poses!\n",
      "Starting to analyze %  D:\\Sidevideos\\AR30MOTOR\\2022_01_31\\49EYE.avi\n",
      "Loading  D:\\Sidevideos\\AR30MOTOR\\2022_01_31\\49EYE.avi\n",
      "Duration of video [s]:  12.5 , recorded with  40.0 fps!\n",
      "Overall # of frames:  500  found with (before cropping) frame dimensions:  200 200\n",
      "Starting to extract posture\n",
      "Cropping based on the x1 = 60 x2 = 150 y1 = 60 y2 = 150. You can adjust the cropping coordinates in the config.yaml file.\n"
     ]
    },
    {
     "name": "stderr",
     "output_type": "stream",
     "text": [
      "510it [00:01, 309.72it/s]                                                                                              \n"
     ]
    },
    {
     "name": "stdout",
     "output_type": "stream",
     "text": [
      "Saving results in D:\\Sidevideos\\AR30MOTOR\\2022_01_31...\n",
      "Saving csv poses!\n",
      "Starting to analyze %  D:\\Sidevideos\\AR30MOTOR\\2022_01_31\\4EYE.avi\n",
      "Loading  D:\\Sidevideos\\AR30MOTOR\\2022_01_31\\4EYE.avi\n",
      "Duration of video [s]:  12.5 , recorded with  40.0 fps!\n",
      "Overall # of frames:  500  found with (before cropping) frame dimensions:  200 200\n",
      "Starting to extract posture\n",
      "Cropping based on the x1 = 60 x2 = 150 y1 = 60 y2 = 150. You can adjust the cropping coordinates in the config.yaml file.\n"
     ]
    },
    {
     "name": "stderr",
     "output_type": "stream",
     "text": [
      "510it [00:01, 317.99it/s]                                                                                              \n"
     ]
    },
    {
     "name": "stdout",
     "output_type": "stream",
     "text": [
      "Saving results in D:\\Sidevideos\\AR30MOTOR\\2022_01_31...\n",
      "Saving csv poses!\n",
      "Starting to analyze %  D:\\Sidevideos\\AR30MOTOR\\2022_01_31\\50EYE.avi\n",
      "Loading  D:\\Sidevideos\\AR30MOTOR\\2022_01_31\\50EYE.avi\n",
      "Duration of video [s]:  12.5 , recorded with  40.0 fps!\n",
      "Overall # of frames:  500  found with (before cropping) frame dimensions:  200 200\n",
      "Starting to extract posture\n",
      "Cropping based on the x1 = 60 x2 = 150 y1 = 60 y2 = 150. You can adjust the cropping coordinates in the config.yaml file.\n"
     ]
    },
    {
     "name": "stderr",
     "output_type": "stream",
     "text": [
      "510it [00:01, 321.58it/s]                                                                                              \n"
     ]
    },
    {
     "name": "stdout",
     "output_type": "stream",
     "text": [
      "Saving results in D:\\Sidevideos\\AR30MOTOR\\2022_01_31...\n",
      "Saving csv poses!\n",
      "Starting to analyze %  D:\\Sidevideos\\AR30MOTOR\\2022_01_31\\51EYE.avi\n",
      "Loading  D:\\Sidevideos\\AR30MOTOR\\2022_01_31\\51EYE.avi\n",
      "Duration of video [s]:  12.5 , recorded with  40.0 fps!\n",
      "Overall # of frames:  500  found with (before cropping) frame dimensions:  200 200\n",
      "Starting to extract posture\n",
      "Cropping based on the x1 = 60 x2 = 150 y1 = 60 y2 = 150. You can adjust the cropping coordinates in the config.yaml file.\n"
     ]
    },
    {
     "name": "stderr",
     "output_type": "stream",
     "text": [
      "510it [00:01, 320.89it/s]                                                                                              \n"
     ]
    },
    {
     "name": "stdout",
     "output_type": "stream",
     "text": [
      "Saving results in D:\\Sidevideos\\AR30MOTOR\\2022_01_31...\n",
      "Saving csv poses!\n",
      "Starting to analyze %  D:\\Sidevideos\\AR30MOTOR\\2022_01_31\\52EYE.avi\n",
      "Loading  D:\\Sidevideos\\AR30MOTOR\\2022_01_31\\52EYE.avi\n",
      "Duration of video [s]:  12.5 , recorded with  40.0 fps!\n",
      "Overall # of frames:  500  found with (before cropping) frame dimensions:  200 200\n",
      "Starting to extract posture\n",
      "Cropping based on the x1 = 60 x2 = 150 y1 = 60 y2 = 150. You can adjust the cropping coordinates in the config.yaml file.\n"
     ]
    },
    {
     "name": "stderr",
     "output_type": "stream",
     "text": [
      "510it [00:01, 294.76it/s]                                                                                              \n"
     ]
    },
    {
     "name": "stdout",
     "output_type": "stream",
     "text": [
      "Saving results in D:\\Sidevideos\\AR30MOTOR\\2022_01_31...\n",
      "Saving csv poses!\n",
      "Starting to analyze %  D:\\Sidevideos\\AR30MOTOR\\2022_01_31\\53EYE.avi\n",
      "Loading  D:\\Sidevideos\\AR30MOTOR\\2022_01_31\\53EYE.avi\n",
      "Duration of video [s]:  12.5 , recorded with  40.0 fps!\n",
      "Overall # of frames:  500  found with (before cropping) frame dimensions:  200 200\n",
      "Starting to extract posture\n",
      "Cropping based on the x1 = 60 x2 = 150 y1 = 60 y2 = 150. You can adjust the cropping coordinates in the config.yaml file.\n"
     ]
    },
    {
     "name": "stderr",
     "output_type": "stream",
     "text": [
      "510it [00:02, 209.66it/s]                                                                                              \n"
     ]
    },
    {
     "name": "stdout",
     "output_type": "stream",
     "text": [
      "Saving results in D:\\Sidevideos\\AR30MOTOR\\2022_01_31...\n",
      "Saving csv poses!\n",
      "Starting to analyze %  D:\\Sidevideos\\AR30MOTOR\\2022_01_31\\54EYE.avi\n",
      "Loading  D:\\Sidevideos\\AR30MOTOR\\2022_01_31\\54EYE.avi\n",
      "Duration of video [s]:  12.5 , recorded with  40.0 fps!\n",
      "Overall # of frames:  500  found with (before cropping) frame dimensions:  200 200\n",
      "Starting to extract posture\n",
      "Cropping based on the x1 = 60 x2 = 150 y1 = 60 y2 = 150. You can adjust the cropping coordinates in the config.yaml file.\n"
     ]
    },
    {
     "name": "stderr",
     "output_type": "stream",
     "text": [
      "510it [00:02, 213.96it/s]                                                                                              \n"
     ]
    },
    {
     "name": "stdout",
     "output_type": "stream",
     "text": [
      "Saving results in D:\\Sidevideos\\AR30MOTOR\\2022_01_31...\n",
      "Saving csv poses!\n",
      "Starting to analyze %  D:\\Sidevideos\\AR30MOTOR\\2022_01_31\\55EYE.avi\n",
      "Loading  D:\\Sidevideos\\AR30MOTOR\\2022_01_31\\55EYE.avi\n",
      "Duration of video [s]:  12.4 , recorded with  40.0 fps!\n",
      "Overall # of frames:  496  found with (before cropping) frame dimensions:  200 200\n",
      "Starting to extract posture\n",
      "Cropping based on the x1 = 60 x2 = 150 y1 = 60 y2 = 150. You can adjust the cropping coordinates in the config.yaml file.\n"
     ]
    },
    {
     "name": "stderr",
     "output_type": "stream",
     "text": [
      "500it [00:03, 155.62it/s]                                                                                              \n"
     ]
    },
    {
     "name": "stdout",
     "output_type": "stream",
     "text": [
      "Saving results in D:\\Sidevideos\\AR30MOTOR\\2022_01_31...\n",
      "Saving csv poses!\n",
      "Starting to analyze %  D:\\Sidevideos\\AR30MOTOR\\2022_01_31\\56EYE.avi\n",
      "Loading  D:\\Sidevideos\\AR30MOTOR\\2022_01_31\\56EYE.avi\n",
      "Duration of video [s]:  12.5 , recorded with  40.0 fps!\n",
      "Overall # of frames:  500  found with (before cropping) frame dimensions:  200 200\n",
      "Starting to extract posture\n",
      "Cropping based on the x1 = 60 x2 = 150 y1 = 60 y2 = 150. You can adjust the cropping coordinates in the config.yaml file.\n"
     ]
    },
    {
     "name": "stderr",
     "output_type": "stream",
     "text": [
      "510it [00:01, 276.21it/s]                                                                                              \n"
     ]
    },
    {
     "name": "stdout",
     "output_type": "stream",
     "text": [
      "Saving results in D:\\Sidevideos\\AR30MOTOR\\2022_01_31...\n",
      "Saving csv poses!\n",
      "Starting to analyze %  D:\\Sidevideos\\AR30MOTOR\\2022_01_31\\57EYE.avi\n",
      "Loading  D:\\Sidevideos\\AR30MOTOR\\2022_01_31\\57EYE.avi\n",
      "Duration of video [s]:  12.5 , recorded with  40.0 fps!\n",
      "Overall # of frames:  500  found with (before cropping) frame dimensions:  200 200\n",
      "Starting to extract posture\n",
      "Cropping based on the x1 = 60 x2 = 150 y1 = 60 y2 = 150. You can adjust the cropping coordinates in the config.yaml file.\n"
     ]
    },
    {
     "name": "stderr",
     "output_type": "stream",
     "text": [
      "510it [00:01, 310.85it/s]                                                                                              \n"
     ]
    },
    {
     "name": "stdout",
     "output_type": "stream",
     "text": [
      "Saving results in D:\\Sidevideos\\AR30MOTOR\\2022_01_31...\n",
      "Saving csv poses!\n",
      "Starting to analyze %  D:\\Sidevideos\\AR30MOTOR\\2022_01_31\\58EYE.avi\n",
      "Loading  D:\\Sidevideos\\AR30MOTOR\\2022_01_31\\58EYE.avi\n",
      "Duration of video [s]:  12.5 , recorded with  40.0 fps!\n",
      "Overall # of frames:  500  found with (before cropping) frame dimensions:  200 200\n",
      "Starting to extract posture\n",
      "Cropping based on the x1 = 60 x2 = 150 y1 = 60 y2 = 150. You can adjust the cropping coordinates in the config.yaml file.\n"
     ]
    },
    {
     "name": "stderr",
     "output_type": "stream",
     "text": [
      "510it [00:01, 329.39it/s]                                                                                              \n"
     ]
    },
    {
     "name": "stdout",
     "output_type": "stream",
     "text": [
      "Saving results in D:\\Sidevideos\\AR30MOTOR\\2022_01_31...\n",
      "Saving csv poses!\n",
      "Starting to analyze %  D:\\Sidevideos\\AR30MOTOR\\2022_01_31\\59EYE.avi\n",
      "Loading  D:\\Sidevideos\\AR30MOTOR\\2022_01_31\\59EYE.avi\n",
      "Duration of video [s]:  12.4 , recorded with  40.0 fps!\n",
      "Overall # of frames:  496  found with (before cropping) frame dimensions:  200 200\n",
      "Starting to extract posture\n",
      "Cropping based on the x1 = 60 x2 = 150 y1 = 60 y2 = 150. You can adjust the cropping coordinates in the config.yaml file.\n"
     ]
    },
    {
     "name": "stderr",
     "output_type": "stream",
     "text": [
      "500it [00:01, 330.91it/s]                                                                                              \n"
     ]
    },
    {
     "name": "stdout",
     "output_type": "stream",
     "text": [
      "Saving results in D:\\Sidevideos\\AR30MOTOR\\2022_01_31...\n",
      "Saving csv poses!\n",
      "Starting to analyze %  D:\\Sidevideos\\AR30MOTOR\\2022_01_31\\5EYE.avi\n",
      "Loading  D:\\Sidevideos\\AR30MOTOR\\2022_01_31\\5EYE.avi\n",
      "Duration of video [s]:  12.5 , recorded with  40.0 fps!\n",
      "Overall # of frames:  500  found with (before cropping) frame dimensions:  200 200\n",
      "Starting to extract posture\n",
      "Cropping based on the x1 = 60 x2 = 150 y1 = 60 y2 = 150. You can adjust the cropping coordinates in the config.yaml file.\n"
     ]
    },
    {
     "name": "stderr",
     "output_type": "stream",
     "text": [
      "510it [00:01, 313.58it/s]                                                                                              \n"
     ]
    },
    {
     "name": "stdout",
     "output_type": "stream",
     "text": [
      "Saving results in D:\\Sidevideos\\AR30MOTOR\\2022_01_31...\n",
      "Saving csv poses!\n",
      "Starting to analyze %  D:\\Sidevideos\\AR30MOTOR\\2022_01_31\\60EYE.avi\n",
      "Loading  D:\\Sidevideos\\AR30MOTOR\\2022_01_31\\60EYE.avi\n",
      "Duration of video [s]:  12.5 , recorded with  40.0 fps!\n",
      "Overall # of frames:  500  found with (before cropping) frame dimensions:  200 200\n",
      "Starting to extract posture\n",
      "Cropping based on the x1 = 60 x2 = 150 y1 = 60 y2 = 150. You can adjust the cropping coordinates in the config.yaml file.\n"
     ]
    },
    {
     "name": "stderr",
     "output_type": "stream",
     "text": [
      "510it [00:01, 328.77it/s]                                                                                              \n"
     ]
    },
    {
     "name": "stdout",
     "output_type": "stream",
     "text": [
      "Saving results in D:\\Sidevideos\\AR30MOTOR\\2022_01_31...\n",
      "Saving csv poses!\n",
      "Starting to analyze %  D:\\Sidevideos\\AR30MOTOR\\2022_01_31\\61EYE.avi\n",
      "Loading  D:\\Sidevideos\\AR30MOTOR\\2022_01_31\\61EYE.avi\n",
      "Duration of video [s]:  12.5 , recorded with  40.0 fps!\n",
      "Overall # of frames:  500  found with (before cropping) frame dimensions:  200 200\n",
      "Starting to extract posture\n",
      "Cropping based on the x1 = 60 x2 = 150 y1 = 60 y2 = 150. You can adjust the cropping coordinates in the config.yaml file.\n"
     ]
    },
    {
     "name": "stderr",
     "output_type": "stream",
     "text": [
      "510it [00:01, 314.63it/s]                                                                                              \n"
     ]
    },
    {
     "name": "stdout",
     "output_type": "stream",
     "text": [
      "Saving results in D:\\Sidevideos\\AR30MOTOR\\2022_01_31...\n",
      "Saving csv poses!\n",
      "Starting to analyze %  D:\\Sidevideos\\AR30MOTOR\\2022_01_31\\62EYE.avi\n",
      "Loading  D:\\Sidevideos\\AR30MOTOR\\2022_01_31\\62EYE.avi\n",
      "Duration of video [s]:  12.03 , recorded with  40.0 fps!\n",
      "Overall # of frames:  481  found with (before cropping) frame dimensions:  200 200\n",
      "Starting to extract posture\n",
      "Cropping based on the x1 = 60 x2 = 150 y1 = 60 y2 = 150. You can adjust the cropping coordinates in the config.yaml file.\n"
     ]
    },
    {
     "name": "stderr",
     "output_type": "stream",
     "text": [
      "490it [00:01, 311.24it/s]                                                                                              \n"
     ]
    },
    {
     "name": "stdout",
     "output_type": "stream",
     "text": [
      "Saving results in D:\\Sidevideos\\AR30MOTOR\\2022_01_31...\n",
      "Saving csv poses!\n",
      "Starting to analyze %  D:\\Sidevideos\\AR30MOTOR\\2022_01_31\\63EYE.avi\n",
      "Loading  D:\\Sidevideos\\AR30MOTOR\\2022_01_31\\63EYE.avi\n",
      "Duration of video [s]:  12.5 , recorded with  40.0 fps!\n",
      "Overall # of frames:  500  found with (before cropping) frame dimensions:  200 200\n",
      "Starting to extract posture\n",
      "Cropping based on the x1 = 60 x2 = 150 y1 = 60 y2 = 150. You can adjust the cropping coordinates in the config.yaml file.\n"
     ]
    },
    {
     "name": "stderr",
     "output_type": "stream",
     "text": [
      "510it [00:01, 334.84it/s]                                                                                              \n"
     ]
    },
    {
     "name": "stdout",
     "output_type": "stream",
     "text": [
      "Saving results in D:\\Sidevideos\\AR30MOTOR\\2022_01_31...\n",
      "Saving csv poses!\n",
      "Starting to analyze %  D:\\Sidevideos\\AR30MOTOR\\2022_01_31\\64EYE.avi\n",
      "Loading  D:\\Sidevideos\\AR30MOTOR\\2022_01_31\\64EYE.avi\n",
      "Duration of video [s]:  12.18 , recorded with  40.0 fps!\n",
      "Overall # of frames:  487  found with (before cropping) frame dimensions:  200 200\n",
      "Starting to extract posture\n",
      "Cropping based on the x1 = 60 x2 = 150 y1 = 60 y2 = 150. You can adjust the cropping coordinates in the config.yaml file.\n"
     ]
    },
    {
     "name": "stderr",
     "output_type": "stream",
     "text": [
      "490it [00:01, 323.22it/s]                                                                                              \n"
     ]
    },
    {
     "name": "stdout",
     "output_type": "stream",
     "text": [
      "Saving results in D:\\Sidevideos\\AR30MOTOR\\2022_01_31...\n",
      "Saving csv poses!\n",
      "Starting to analyze %  D:\\Sidevideos\\AR30MOTOR\\2022_01_31\\65EYE.avi\n",
      "Loading  D:\\Sidevideos\\AR30MOTOR\\2022_01_31\\65EYE.avi\n",
      "Duration of video [s]:  12.43 , recorded with  40.0 fps!\n",
      "Overall # of frames:  497  found with (before cropping) frame dimensions:  200 200\n",
      "Starting to extract posture\n",
      "Cropping based on the x1 = 60 x2 = 150 y1 = 60 y2 = 150. You can adjust the cropping coordinates in the config.yaml file.\n"
     ]
    },
    {
     "name": "stderr",
     "output_type": "stream",
     "text": [
      "500it [00:01, 323.86it/s]                                                                                              \n"
     ]
    },
    {
     "name": "stdout",
     "output_type": "stream",
     "text": [
      "Saving results in D:\\Sidevideos\\AR30MOTOR\\2022_01_31...\n",
      "Saving csv poses!\n",
      "Starting to analyze %  D:\\Sidevideos\\AR30MOTOR\\2022_01_31\\66EYE.avi\n",
      "Loading  D:\\Sidevideos\\AR30MOTOR\\2022_01_31\\66EYE.avi\n",
      "Duration of video [s]:  12.5 , recorded with  40.0 fps!\n",
      "Overall # of frames:  500  found with (before cropping) frame dimensions:  200 200\n",
      "Starting to extract posture\n",
      "Cropping based on the x1 = 60 x2 = 150 y1 = 60 y2 = 150. You can adjust the cropping coordinates in the config.yaml file.\n"
     ]
    },
    {
     "name": "stderr",
     "output_type": "stream",
     "text": [
      "510it [00:01, 305.54it/s]                                                                                              \n"
     ]
    },
    {
     "name": "stdout",
     "output_type": "stream",
     "text": [
      "Saving results in D:\\Sidevideos\\AR30MOTOR\\2022_01_31...\n",
      "Saving csv poses!\n",
      "Starting to analyze %  D:\\Sidevideos\\AR30MOTOR\\2022_01_31\\67EYE.avi\n",
      "Loading  D:\\Sidevideos\\AR30MOTOR\\2022_01_31\\67EYE.avi\n",
      "Duration of video [s]:  12.5 , recorded with  40.0 fps!\n",
      "Overall # of frames:  500  found with (before cropping) frame dimensions:  200 200\n",
      "Starting to extract posture\n",
      "Cropping based on the x1 = 60 x2 = 150 y1 = 60 y2 = 150. You can adjust the cropping coordinates in the config.yaml file.\n"
     ]
    },
    {
     "name": "stderr",
     "output_type": "stream",
     "text": [
      "510it [00:01, 309.13it/s]                                                                                              \n"
     ]
    },
    {
     "name": "stdout",
     "output_type": "stream",
     "text": [
      "Saving results in D:\\Sidevideos\\AR30MOTOR\\2022_01_31...\n",
      "Saving csv poses!\n",
      "Starting to analyze %  D:\\Sidevideos\\AR30MOTOR\\2022_01_31\\68EYE.avi\n",
      "Loading  D:\\Sidevideos\\AR30MOTOR\\2022_01_31\\68EYE.avi\n",
      "Duration of video [s]:  12.5 , recorded with  40.0 fps!\n",
      "Overall # of frames:  500  found with (before cropping) frame dimensions:  200 200\n",
      "Starting to extract posture\n",
      "Cropping based on the x1 = 60 x2 = 150 y1 = 60 y2 = 150. You can adjust the cropping coordinates in the config.yaml file.\n"
     ]
    },
    {
     "name": "stderr",
     "output_type": "stream",
     "text": [
      "510it [00:01, 294.42it/s]                                                                                              \n"
     ]
    },
    {
     "name": "stdout",
     "output_type": "stream",
     "text": [
      "Saving results in D:\\Sidevideos\\AR30MOTOR\\2022_01_31...\n",
      "Saving csv poses!\n",
      "Starting to analyze %  D:\\Sidevideos\\AR30MOTOR\\2022_01_31\\69EYE.avi\n",
      "Loading  D:\\Sidevideos\\AR30MOTOR\\2022_01_31\\69EYE.avi\n",
      "Duration of video [s]:  12.5 , recorded with  40.0 fps!\n",
      "Overall # of frames:  500  found with (before cropping) frame dimensions:  200 200\n",
      "Starting to extract posture\n",
      "Cropping based on the x1 = 60 x2 = 150 y1 = 60 y2 = 150. You can adjust the cropping coordinates in the config.yaml file.\n"
     ]
    },
    {
     "name": "stderr",
     "output_type": "stream",
     "text": [
      "510it [00:01, 317.15it/s]                                                                                              \n"
     ]
    },
    {
     "name": "stdout",
     "output_type": "stream",
     "text": [
      "Saving results in D:\\Sidevideos\\AR30MOTOR\\2022_01_31...\n",
      "Saving csv poses!\n",
      "Starting to analyze %  D:\\Sidevideos\\AR30MOTOR\\2022_01_31\\6EYE.avi\n",
      "Loading  D:\\Sidevideos\\AR30MOTOR\\2022_01_31\\6EYE.avi\n",
      "Duration of video [s]:  12.5 , recorded with  40.0 fps!\n",
      "Overall # of frames:  500  found with (before cropping) frame dimensions:  200 200\n",
      "Starting to extract posture\n",
      "Cropping based on the x1 = 60 x2 = 150 y1 = 60 y2 = 150. You can adjust the cropping coordinates in the config.yaml file.\n"
     ]
    },
    {
     "name": "stderr",
     "output_type": "stream",
     "text": [
      "510it [00:01, 325.48it/s]                                                                                              \n"
     ]
    },
    {
     "name": "stdout",
     "output_type": "stream",
     "text": [
      "Saving results in D:\\Sidevideos\\AR30MOTOR\\2022_01_31...\n",
      "Saving csv poses!\n",
      "Starting to analyze %  D:\\Sidevideos\\AR30MOTOR\\2022_01_31\\70EYE.avi\n",
      "Loading  D:\\Sidevideos\\AR30MOTOR\\2022_01_31\\70EYE.avi\n",
      "Duration of video [s]:  12.5 , recorded with  40.0 fps!\n",
      "Overall # of frames:  500  found with (before cropping) frame dimensions:  200 200\n",
      "Starting to extract posture\n",
      "Cropping based on the x1 = 60 x2 = 150 y1 = 60 y2 = 150. You can adjust the cropping coordinates in the config.yaml file.\n"
     ]
    },
    {
     "name": "stderr",
     "output_type": "stream",
     "text": [
      "510it [00:01, 322.86it/s]                                                                                              \n"
     ]
    },
    {
     "name": "stdout",
     "output_type": "stream",
     "text": [
      "Saving results in D:\\Sidevideos\\AR30MOTOR\\2022_01_31...\n",
      "Saving csv poses!\n",
      "Starting to analyze %  D:\\Sidevideos\\AR30MOTOR\\2022_01_31\\71EYE.avi\n",
      "Loading  D:\\Sidevideos\\AR30MOTOR\\2022_01_31\\71EYE.avi\n",
      "Duration of video [s]:  12.5 , recorded with  40.0 fps!\n",
      "Overall # of frames:  500  found with (before cropping) frame dimensions:  200 200\n",
      "Starting to extract posture\n",
      "Cropping based on the x1 = 60 x2 = 150 y1 = 60 y2 = 150. You can adjust the cropping coordinates in the config.yaml file.\n"
     ]
    },
    {
     "name": "stderr",
     "output_type": "stream",
     "text": [
      "510it [00:01, 315.72it/s]                                                                                              \n"
     ]
    },
    {
     "name": "stdout",
     "output_type": "stream",
     "text": [
      "Saving results in D:\\Sidevideos\\AR30MOTOR\\2022_01_31...\n",
      "Saving csv poses!\n",
      "Starting to analyze %  D:\\Sidevideos\\AR30MOTOR\\2022_01_31\\72EYE.avi\n",
      "Loading  D:\\Sidevideos\\AR30MOTOR\\2022_01_31\\72EYE.avi\n",
      "Duration of video [s]:  12.5 , recorded with  40.0 fps!\n",
      "Overall # of frames:  500  found with (before cropping) frame dimensions:  200 200\n",
      "Starting to extract posture\n",
      "Cropping based on the x1 = 60 x2 = 150 y1 = 60 y2 = 150. You can adjust the cropping coordinates in the config.yaml file.\n"
     ]
    },
    {
     "name": "stderr",
     "output_type": "stream",
     "text": [
      "510it [00:01, 321.13it/s]                                                                                              \n"
     ]
    },
    {
     "name": "stdout",
     "output_type": "stream",
     "text": [
      "Saving results in D:\\Sidevideos\\AR30MOTOR\\2022_01_31...\n",
      "Saving csv poses!\n",
      "Starting to analyze %  D:\\Sidevideos\\AR30MOTOR\\2022_01_31\\73EYE.avi\n",
      "Loading  D:\\Sidevideos\\AR30MOTOR\\2022_01_31\\73EYE.avi\n",
      "Duration of video [s]:  12.5 , recorded with  40.0 fps!\n",
      "Overall # of frames:  500  found with (before cropping) frame dimensions:  200 200\n",
      "Starting to extract posture\n",
      "Cropping based on the x1 = 60 x2 = 150 y1 = 60 y2 = 150. You can adjust the cropping coordinates in the config.yaml file.\n"
     ]
    },
    {
     "name": "stderr",
     "output_type": "stream",
     "text": [
      "510it [00:01, 314.39it/s]                                                                                              \n"
     ]
    },
    {
     "name": "stdout",
     "output_type": "stream",
     "text": [
      "Saving results in D:\\Sidevideos\\AR30MOTOR\\2022_01_31...\n",
      "Saving csv poses!\n",
      "Starting to analyze %  D:\\Sidevideos\\AR30MOTOR\\2022_01_31\\74EYE.avi\n",
      "Loading  D:\\Sidevideos\\AR30MOTOR\\2022_01_31\\74EYE.avi\n",
      "Duration of video [s]:  12.5 , recorded with  40.0 fps!\n",
      "Overall # of frames:  500  found with (before cropping) frame dimensions:  200 200\n",
      "Starting to extract posture\n",
      "Cropping based on the x1 = 60 x2 = 150 y1 = 60 y2 = 150. You can adjust the cropping coordinates in the config.yaml file.\n"
     ]
    },
    {
     "name": "stderr",
     "output_type": "stream",
     "text": [
      "510it [00:01, 318.21it/s]                                                                                              \n"
     ]
    },
    {
     "name": "stdout",
     "output_type": "stream",
     "text": [
      "Saving results in D:\\Sidevideos\\AR30MOTOR\\2022_01_31...\n",
      "Saving csv poses!\n",
      "Starting to analyze %  D:\\Sidevideos\\AR30MOTOR\\2022_01_31\\75EYE.avi\n",
      "Loading  D:\\Sidevideos\\AR30MOTOR\\2022_01_31\\75EYE.avi\n",
      "Duration of video [s]:  12.5 , recorded with  40.0 fps!\n",
      "Overall # of frames:  500  found with (before cropping) frame dimensions:  200 200\n",
      "Starting to extract posture\n",
      "Cropping based on the x1 = 60 x2 = 150 y1 = 60 y2 = 150. You can adjust the cropping coordinates in the config.yaml file.\n"
     ]
    },
    {
     "name": "stderr",
     "output_type": "stream",
     "text": [
      "510it [00:01, 327.42it/s]                                                                                              \n"
     ]
    },
    {
     "name": "stdout",
     "output_type": "stream",
     "text": [
      "Saving results in D:\\Sidevideos\\AR30MOTOR\\2022_01_31...\n",
      "Saving csv poses!\n",
      "Starting to analyze %  D:\\Sidevideos\\AR30MOTOR\\2022_01_31\\76EYE.avi\n",
      "Loading  D:\\Sidevideos\\AR30MOTOR\\2022_01_31\\76EYE.avi\n",
      "Duration of video [s]:  12.5 , recorded with  40.0 fps!\n",
      "Overall # of frames:  500  found with (before cropping) frame dimensions:  200 200\n",
      "Starting to extract posture\n",
      "Cropping based on the x1 = 60 x2 = 150 y1 = 60 y2 = 150. You can adjust the cropping coordinates in the config.yaml file.\n"
     ]
    },
    {
     "name": "stderr",
     "output_type": "stream",
     "text": [
      "510it [00:01, 316.10it/s]                                                                                              \n"
     ]
    },
    {
     "name": "stdout",
     "output_type": "stream",
     "text": [
      "Saving results in D:\\Sidevideos\\AR30MOTOR\\2022_01_31...\n",
      "Saving csv poses!\n",
      "Starting to analyze %  D:\\Sidevideos\\AR30MOTOR\\2022_01_31\\77EYE.avi\n",
      "Loading  D:\\Sidevideos\\AR30MOTOR\\2022_01_31\\77EYE.avi\n",
      "Duration of video [s]:  12.25 , recorded with  40.0 fps!\n",
      "Overall # of frames:  490  found with (before cropping) frame dimensions:  200 200\n",
      "Starting to extract posture\n",
      "Cropping based on the x1 = 60 x2 = 150 y1 = 60 y2 = 150. You can adjust the cropping coordinates in the config.yaml file.\n"
     ]
    },
    {
     "name": "stderr",
     "output_type": "stream",
     "text": [
      "500it [00:01, 313.51it/s]                                                                                              \n"
     ]
    },
    {
     "name": "stdout",
     "output_type": "stream",
     "text": [
      "Saving results in D:\\Sidevideos\\AR30MOTOR\\2022_01_31...\n",
      "Saving csv poses!\n",
      "Starting to analyze %  D:\\Sidevideos\\AR30MOTOR\\2022_01_31\\78EYE.avi\n",
      "Loading  D:\\Sidevideos\\AR30MOTOR\\2022_01_31\\78EYE.avi\n",
      "Duration of video [s]:  12.5 , recorded with  40.0 fps!\n",
      "Overall # of frames:  500  found with (before cropping) frame dimensions:  200 200\n",
      "Starting to extract posture\n",
      "Cropping based on the x1 = 60 x2 = 150 y1 = 60 y2 = 150. You can adjust the cropping coordinates in the config.yaml file.\n"
     ]
    },
    {
     "name": "stderr",
     "output_type": "stream",
     "text": [
      "510it [00:01, 314.24it/s]                                                                                              \n"
     ]
    },
    {
     "name": "stdout",
     "output_type": "stream",
     "text": [
      "Saving results in D:\\Sidevideos\\AR30MOTOR\\2022_01_31...\n",
      "Saving csv poses!\n",
      "Starting to analyze %  D:\\Sidevideos\\AR30MOTOR\\2022_01_31\\79EYE.avi\n",
      "Loading  D:\\Sidevideos\\AR30MOTOR\\2022_01_31\\79EYE.avi\n",
      "Duration of video [s]:  12.5 , recorded with  40.0 fps!\n",
      "Overall # of frames:  500  found with (before cropping) frame dimensions:  200 200\n",
      "Starting to extract posture\n",
      "Cropping based on the x1 = 60 x2 = 150 y1 = 60 y2 = 150. You can adjust the cropping coordinates in the config.yaml file.\n"
     ]
    },
    {
     "name": "stderr",
     "output_type": "stream",
     "text": [
      "510it [00:01, 317.53it/s]                                                                                              \n"
     ]
    },
    {
     "name": "stdout",
     "output_type": "stream",
     "text": [
      "Saving results in D:\\Sidevideos\\AR30MOTOR\\2022_01_31...\n",
      "Saving csv poses!\n",
      "Starting to analyze %  D:\\Sidevideos\\AR30MOTOR\\2022_01_31\\7EYE.avi\n",
      "Loading  D:\\Sidevideos\\AR30MOTOR\\2022_01_31\\7EYE.avi\n",
      "Duration of video [s]:  12.5 , recorded with  40.0 fps!\n",
      "Overall # of frames:  500  found with (before cropping) frame dimensions:  200 200\n",
      "Starting to extract posture\n",
      "Cropping based on the x1 = 60 x2 = 150 y1 = 60 y2 = 150. You can adjust the cropping coordinates in the config.yaml file.\n"
     ]
    },
    {
     "name": "stderr",
     "output_type": "stream",
     "text": [
      "510it [00:01, 318.38it/s]                                                                                              \n"
     ]
    },
    {
     "name": "stdout",
     "output_type": "stream",
     "text": [
      "Saving results in D:\\Sidevideos\\AR30MOTOR\\2022_01_31...\n",
      "Saving csv poses!\n",
      "Starting to analyze %  D:\\Sidevideos\\AR30MOTOR\\2022_01_31\\80EYE.avi\n",
      "Loading  D:\\Sidevideos\\AR30MOTOR\\2022_01_31\\80EYE.avi\n",
      "Duration of video [s]:  12.43 , recorded with  40.0 fps!\n",
      "Overall # of frames:  497  found with (before cropping) frame dimensions:  200 200\n",
      "Starting to extract posture\n",
      "Cropping based on the x1 = 60 x2 = 150 y1 = 60 y2 = 150. You can adjust the cropping coordinates in the config.yaml file.\n"
     ]
    },
    {
     "name": "stderr",
     "output_type": "stream",
     "text": [
      "500it [00:01, 312.81it/s]                                                                                              \n"
     ]
    },
    {
     "name": "stdout",
     "output_type": "stream",
     "text": [
      "Saving results in D:\\Sidevideos\\AR30MOTOR\\2022_01_31...\n",
      "Saving csv poses!\n",
      "Starting to analyze %  D:\\Sidevideos\\AR30MOTOR\\2022_01_31\\81EYE.avi\n",
      "Loading  D:\\Sidevideos\\AR30MOTOR\\2022_01_31\\81EYE.avi\n",
      "Duration of video [s]:  12.5 , recorded with  40.0 fps!\n",
      "Overall # of frames:  500  found with (before cropping) frame dimensions:  200 200\n",
      "Starting to extract posture\n",
      "Cropping based on the x1 = 60 x2 = 150 y1 = 60 y2 = 150. You can adjust the cropping coordinates in the config.yaml file.\n"
     ]
    },
    {
     "name": "stderr",
     "output_type": "stream",
     "text": [
      "510it [00:01, 322.66it/s]                                                                                              \n"
     ]
    },
    {
     "name": "stdout",
     "output_type": "stream",
     "text": [
      "Saving results in D:\\Sidevideos\\AR30MOTOR\\2022_01_31...\n",
      "Saving csv poses!\n",
      "Starting to analyze %  D:\\Sidevideos\\AR30MOTOR\\2022_01_31\\82EYE.avi\n",
      "Loading  D:\\Sidevideos\\AR30MOTOR\\2022_01_31\\82EYE.avi\n",
      "Duration of video [s]:  12.5 , recorded with  40.0 fps!\n",
      "Overall # of frames:  500  found with (before cropping) frame dimensions:  200 200\n",
      "Starting to extract posture\n",
      "Cropping based on the x1 = 60 x2 = 150 y1 = 60 y2 = 150. You can adjust the cropping coordinates in the config.yaml file.\n"
     ]
    },
    {
     "name": "stderr",
     "output_type": "stream",
     "text": [
      "510it [00:01, 311.40it/s]                                                                                              \n"
     ]
    },
    {
     "name": "stdout",
     "output_type": "stream",
     "text": [
      "Saving results in D:\\Sidevideos\\AR30MOTOR\\2022_01_31...\n",
      "Saving csv poses!\n",
      "Starting to analyze %  D:\\Sidevideos\\AR30MOTOR\\2022_01_31\\83EYE.avi\n",
      "Loading  D:\\Sidevideos\\AR30MOTOR\\2022_01_31\\83EYE.avi\n",
      "Duration of video [s]:  12.5 , recorded with  40.0 fps!\n",
      "Overall # of frames:  500  found with (before cropping) frame dimensions:  200 200\n",
      "Starting to extract posture\n",
      "Cropping based on the x1 = 60 x2 = 150 y1 = 60 y2 = 150. You can adjust the cropping coordinates in the config.yaml file.\n"
     ]
    },
    {
     "name": "stderr",
     "output_type": "stream",
     "text": [
      "510it [00:01, 324.97it/s]                                                                                              \n"
     ]
    },
    {
     "name": "stdout",
     "output_type": "stream",
     "text": [
      "Saving results in D:\\Sidevideos\\AR30MOTOR\\2022_01_31...\n",
      "Saving csv poses!\n",
      "Starting to analyze %  D:\\Sidevideos\\AR30MOTOR\\2022_01_31\\84EYE.avi\n",
      "Loading  D:\\Sidevideos\\AR30MOTOR\\2022_01_31\\84EYE.avi\n",
      "Duration of video [s]:  12.43 , recorded with  40.0 fps!\n",
      "Overall # of frames:  497  found with (before cropping) frame dimensions:  200 200\n",
      "Starting to extract posture\n",
      "Cropping based on the x1 = 60 x2 = 150 y1 = 60 y2 = 150. You can adjust the cropping coordinates in the config.yaml file.\n"
     ]
    },
    {
     "name": "stderr",
     "output_type": "stream",
     "text": [
      "500it [00:01, 312.59it/s]                                                                                              \n"
     ]
    },
    {
     "name": "stdout",
     "output_type": "stream",
     "text": [
      "Saving results in D:\\Sidevideos\\AR30MOTOR\\2022_01_31...\n",
      "Saving csv poses!\n",
      "Starting to analyze %  D:\\Sidevideos\\AR30MOTOR\\2022_01_31\\85EYE.avi\n",
      "Loading  D:\\Sidevideos\\AR30MOTOR\\2022_01_31\\85EYE.avi\n",
      "Duration of video [s]:  12.5 , recorded with  40.0 fps!\n",
      "Overall # of frames:  500  found with (before cropping) frame dimensions:  200 200\n",
      "Starting to extract posture\n",
      "Cropping based on the x1 = 60 x2 = 150 y1 = 60 y2 = 150. You can adjust the cropping coordinates in the config.yaml file.\n"
     ]
    },
    {
     "name": "stderr",
     "output_type": "stream",
     "text": [
      "510it [00:01, 314.03it/s]                                                                                              \n"
     ]
    },
    {
     "name": "stdout",
     "output_type": "stream",
     "text": [
      "Saving results in D:\\Sidevideos\\AR30MOTOR\\2022_01_31...\n",
      "Saving csv poses!\n",
      "Starting to analyze %  D:\\Sidevideos\\AR30MOTOR\\2022_01_31\\86EYE.avi\n",
      "Loading  D:\\Sidevideos\\AR30MOTOR\\2022_01_31\\86EYE.avi\n",
      "Duration of video [s]:  11.85 , recorded with  40.0 fps!\n",
      "Overall # of frames:  474  found with (before cropping) frame dimensions:  200 200\n",
      "Starting to extract posture\n",
      "Cropping based on the x1 = 60 x2 = 150 y1 = 60 y2 = 150. You can adjust the cropping coordinates in the config.yaml file.\n"
     ]
    },
    {
     "name": "stderr",
     "output_type": "stream",
     "text": [
      "480it [00:01, 309.53it/s]                                                                                              \n"
     ]
    },
    {
     "name": "stdout",
     "output_type": "stream",
     "text": [
      "Saving results in D:\\Sidevideos\\AR30MOTOR\\2022_01_31...\n",
      "Saving csv poses!\n",
      "Starting to analyze %  D:\\Sidevideos\\AR30MOTOR\\2022_01_31\\87EYE.avi\n",
      "Loading  D:\\Sidevideos\\AR30MOTOR\\2022_01_31\\87EYE.avi\n",
      "Duration of video [s]:  12.5 , recorded with  40.0 fps!\n",
      "Overall # of frames:  500  found with (before cropping) frame dimensions:  200 200\n",
      "Starting to extract posture\n",
      "Cropping based on the x1 = 60 x2 = 150 y1 = 60 y2 = 150. You can adjust the cropping coordinates in the config.yaml file.\n"
     ]
    },
    {
     "name": "stderr",
     "output_type": "stream",
     "text": [
      "510it [00:01, 322.26it/s]                                                                                              \n"
     ]
    },
    {
     "name": "stdout",
     "output_type": "stream",
     "text": [
      "Saving results in D:\\Sidevideos\\AR30MOTOR\\2022_01_31...\n",
      "Saving csv poses!\n",
      "Starting to analyze %  D:\\Sidevideos\\AR30MOTOR\\2022_01_31\\88EYE.avi\n",
      "Loading  D:\\Sidevideos\\AR30MOTOR\\2022_01_31\\88EYE.avi\n",
      "Duration of video [s]:  11.95 , recorded with  40.0 fps!\n",
      "Overall # of frames:  478  found with (before cropping) frame dimensions:  200 200\n",
      "Starting to extract posture\n",
      "Cropping based on the x1 = 60 x2 = 150 y1 = 60 y2 = 150. You can adjust the cropping coordinates in the config.yaml file.\n"
     ]
    },
    {
     "name": "stderr",
     "output_type": "stream",
     "text": [
      "480it [00:01, 324.67it/s]                                                                                              \n"
     ]
    },
    {
     "name": "stdout",
     "output_type": "stream",
     "text": [
      "Saving results in D:\\Sidevideos\\AR30MOTOR\\2022_01_31...\n",
      "Saving csv poses!\n",
      "Starting to analyze %  D:\\Sidevideos\\AR30MOTOR\\2022_01_31\\89EYE.avi\n",
      "Loading  D:\\Sidevideos\\AR30MOTOR\\2022_01_31\\89EYE.avi\n",
      "Duration of video [s]:  12.5 , recorded with  40.0 fps!\n",
      "Overall # of frames:  500  found with (before cropping) frame dimensions:  200 200\n",
      "Starting to extract posture\n",
      "Cropping based on the x1 = 60 x2 = 150 y1 = 60 y2 = 150. You can adjust the cropping coordinates in the config.yaml file.\n"
     ]
    },
    {
     "name": "stderr",
     "output_type": "stream",
     "text": [
      "510it [00:01, 321.05it/s]                                                                                              \n"
     ]
    },
    {
     "name": "stdout",
     "output_type": "stream",
     "text": [
      "Saving results in D:\\Sidevideos\\AR30MOTOR\\2022_01_31...\n",
      "Saving csv poses!\n",
      "Starting to analyze %  D:\\Sidevideos\\AR30MOTOR\\2022_01_31\\8EYE.avi\n",
      "Loading  D:\\Sidevideos\\AR30MOTOR\\2022_01_31\\8EYE.avi\n",
      "Duration of video [s]:  12.5 , recorded with  40.0 fps!\n",
      "Overall # of frames:  500  found with (before cropping) frame dimensions:  200 200\n",
      "Starting to extract posture\n",
      "Cropping based on the x1 = 60 x2 = 150 y1 = 60 y2 = 150. You can adjust the cropping coordinates in the config.yaml file.\n"
     ]
    },
    {
     "name": "stderr",
     "output_type": "stream",
     "text": [
      "510it [00:01, 319.20it/s]                                                                                              \n"
     ]
    },
    {
     "name": "stdout",
     "output_type": "stream",
     "text": [
      "Saving results in D:\\Sidevideos\\AR30MOTOR\\2022_01_31...\n",
      "Saving csv poses!\n",
      "Starting to analyze %  D:\\Sidevideos\\AR30MOTOR\\2022_01_31\\90EYE.avi\n",
      "Loading  D:\\Sidevideos\\AR30MOTOR\\2022_01_31\\90EYE.avi\n",
      "Duration of video [s]:  12.2 , recorded with  40.0 fps!\n",
      "Overall # of frames:  488  found with (before cropping) frame dimensions:  200 200\n",
      "Starting to extract posture\n",
      "Cropping based on the x1 = 60 x2 = 150 y1 = 60 y2 = 150. You can adjust the cropping coordinates in the config.yaml file.\n"
     ]
    },
    {
     "name": "stderr",
     "output_type": "stream",
     "text": [
      "490it [00:01, 314.00it/s]                                                                                              \n"
     ]
    },
    {
     "name": "stdout",
     "output_type": "stream",
     "text": [
      "Saving results in D:\\Sidevideos\\AR30MOTOR\\2022_01_31...\n",
      "Saving csv poses!\n",
      "Starting to analyze %  D:\\Sidevideos\\AR30MOTOR\\2022_01_31\\91EYE.avi\n",
      "Loading  D:\\Sidevideos\\AR30MOTOR\\2022_01_31\\91EYE.avi\n",
      "Duration of video [s]:  12.5 , recorded with  40.0 fps!\n",
      "Overall # of frames:  500  found with (before cropping) frame dimensions:  200 200\n",
      "Starting to extract posture\n",
      "Cropping based on the x1 = 60 x2 = 150 y1 = 60 y2 = 150. You can adjust the cropping coordinates in the config.yaml file.\n"
     ]
    },
    {
     "name": "stderr",
     "output_type": "stream",
     "text": [
      "510it [00:01, 319.50it/s]                                                                                              \n"
     ]
    },
    {
     "name": "stdout",
     "output_type": "stream",
     "text": [
      "Saving results in D:\\Sidevideos\\AR30MOTOR\\2022_01_31...\n",
      "Saving csv poses!\n",
      "Starting to analyze %  D:\\Sidevideos\\AR30MOTOR\\2022_01_31\\92EYE.avi\n",
      "Loading  D:\\Sidevideos\\AR30MOTOR\\2022_01_31\\92EYE.avi\n",
      "Duration of video [s]:  12.5 , recorded with  40.0 fps!\n",
      "Overall # of frames:  500  found with (before cropping) frame dimensions:  200 200\n",
      "Starting to extract posture\n",
      "Cropping based on the x1 = 60 x2 = 150 y1 = 60 y2 = 150. You can adjust the cropping coordinates in the config.yaml file.\n"
     ]
    },
    {
     "name": "stderr",
     "output_type": "stream",
     "text": [
      "510it [00:01, 318.55it/s]                                                                                              \n"
     ]
    },
    {
     "name": "stdout",
     "output_type": "stream",
     "text": [
      "Saving results in D:\\Sidevideos\\AR30MOTOR\\2022_01_31...\n",
      "Saving csv poses!\n",
      "Starting to analyze %  D:\\Sidevideos\\AR30MOTOR\\2022_01_31\\93EYE.avi\n",
      "Loading  D:\\Sidevideos\\AR30MOTOR\\2022_01_31\\93EYE.avi\n",
      "Duration of video [s]:  12.43 , recorded with  40.0 fps!\n",
      "Overall # of frames:  497  found with (before cropping) frame dimensions:  200 200\n",
      "Starting to extract posture\n",
      "Cropping based on the x1 = 60 x2 = 150 y1 = 60 y2 = 150. You can adjust the cropping coordinates in the config.yaml file.\n"
     ]
    },
    {
     "name": "stderr",
     "output_type": "stream",
     "text": [
      "500it [00:01, 311.17it/s]                                                                                              \n"
     ]
    },
    {
     "name": "stdout",
     "output_type": "stream",
     "text": [
      "Saving results in D:\\Sidevideos\\AR30MOTOR\\2022_01_31...\n",
      "Saving csv poses!\n",
      "Starting to analyze %  D:\\Sidevideos\\AR30MOTOR\\2022_01_31\\94EYE.avi\n",
      "Loading  D:\\Sidevideos\\AR30MOTOR\\2022_01_31\\94EYE.avi\n",
      "Duration of video [s]:  12.5 , recorded with  40.0 fps!\n",
      "Overall # of frames:  500  found with (before cropping) frame dimensions:  200 200\n",
      "Starting to extract posture\n",
      "Cropping based on the x1 = 60 x2 = 150 y1 = 60 y2 = 150. You can adjust the cropping coordinates in the config.yaml file.\n"
     ]
    },
    {
     "name": "stderr",
     "output_type": "stream",
     "text": [
      "510it [00:01, 321.41it/s]                                                                                              \n"
     ]
    },
    {
     "name": "stdout",
     "output_type": "stream",
     "text": [
      "Saving results in D:\\Sidevideos\\AR30MOTOR\\2022_01_31...\n",
      "Saving csv poses!\n",
      "Starting to analyze %  D:\\Sidevideos\\AR30MOTOR\\2022_01_31\\95EYE.avi\n",
      "Loading  D:\\Sidevideos\\AR30MOTOR\\2022_01_31\\95EYE.avi\n",
      "Duration of video [s]:  12.5 , recorded with  40.0 fps!\n",
      "Overall # of frames:  500  found with (before cropping) frame dimensions:  200 200\n",
      "Starting to extract posture\n",
      "Cropping based on the x1 = 60 x2 = 150 y1 = 60 y2 = 150. You can adjust the cropping coordinates in the config.yaml file.\n"
     ]
    },
    {
     "name": "stderr",
     "output_type": "stream",
     "text": [
      "510it [00:01, 314.66it/s]                                                                                              \n"
     ]
    },
    {
     "name": "stdout",
     "output_type": "stream",
     "text": [
      "Saving results in D:\\Sidevideos\\AR30MOTOR\\2022_01_31...\n",
      "Saving csv poses!\n",
      "Starting to analyze %  D:\\Sidevideos\\AR30MOTOR\\2022_01_31\\96EYE.avi\n",
      "Loading  D:\\Sidevideos\\AR30MOTOR\\2022_01_31\\96EYE.avi\n",
      "Duration of video [s]:  12.5 , recorded with  40.0 fps!\n",
      "Overall # of frames:  500  found with (before cropping) frame dimensions:  200 200\n",
      "Starting to extract posture\n",
      "Cropping based on the x1 = 60 x2 = 150 y1 = 60 y2 = 150. You can adjust the cropping coordinates in the config.yaml file.\n"
     ]
    },
    {
     "name": "stderr",
     "output_type": "stream",
     "text": [
      "510it [00:01, 324.37it/s]                                                                                              \n"
     ]
    },
    {
     "name": "stdout",
     "output_type": "stream",
     "text": [
      "Saving results in D:\\Sidevideos\\AR30MOTOR\\2022_01_31...\n",
      "Saving csv poses!\n",
      "Starting to analyze %  D:\\Sidevideos\\AR30MOTOR\\2022_01_31\\97EYE.avi\n",
      "Loading  D:\\Sidevideos\\AR30MOTOR\\2022_01_31\\97EYE.avi\n",
      "Duration of video [s]:  12.5 , recorded with  40.0 fps!\n",
      "Overall # of frames:  500  found with (before cropping) frame dimensions:  200 200\n",
      "Starting to extract posture\n",
      "Cropping based on the x1 = 60 x2 = 150 y1 = 60 y2 = 150. You can adjust the cropping coordinates in the config.yaml file.\n"
     ]
    },
    {
     "name": "stderr",
     "output_type": "stream",
     "text": [
      "510it [00:01, 304.76it/s]                                                                                              \n"
     ]
    },
    {
     "name": "stdout",
     "output_type": "stream",
     "text": [
      "Saving results in D:\\Sidevideos\\AR30MOTOR\\2022_01_31...\n",
      "Saving csv poses!\n",
      "Starting to analyze %  D:\\Sidevideos\\AR30MOTOR\\2022_01_31\\98EYE.avi\n",
      "Loading  D:\\Sidevideos\\AR30MOTOR\\2022_01_31\\98EYE.avi\n",
      "Duration of video [s]:  12.5 , recorded with  40.0 fps!\n",
      "Overall # of frames:  500  found with (before cropping) frame dimensions:  200 200\n",
      "Starting to extract posture\n",
      "Cropping based on the x1 = 60 x2 = 150 y1 = 60 y2 = 150. You can adjust the cropping coordinates in the config.yaml file.\n"
     ]
    },
    {
     "name": "stderr",
     "output_type": "stream",
     "text": [
      "510it [00:01, 315.07it/s]                                                                                              \n"
     ]
    },
    {
     "name": "stdout",
     "output_type": "stream",
     "text": [
      "Saving results in D:\\Sidevideos\\AR30MOTOR\\2022_01_31...\n",
      "Saving csv poses!\n",
      "Starting to analyze %  D:\\Sidevideos\\AR30MOTOR\\2022_01_31\\99EYE.avi\n",
      "Loading  D:\\Sidevideos\\AR30MOTOR\\2022_01_31\\99EYE.avi\n",
      "Duration of video [s]:  12.5 , recorded with  40.0 fps!\n",
      "Overall # of frames:  500  found with (before cropping) frame dimensions:  200 200\n",
      "Starting to extract posture\n",
      "Cropping based on the x1 = 60 x2 = 150 y1 = 60 y2 = 150. You can adjust the cropping coordinates in the config.yaml file.\n"
     ]
    },
    {
     "name": "stderr",
     "output_type": "stream",
     "text": [
      "510it [00:01, 320.60it/s]                                                                                              \n"
     ]
    },
    {
     "name": "stdout",
     "output_type": "stream",
     "text": [
      "Saving results in D:\\Sidevideos\\AR30MOTOR\\2022_01_31...\n",
      "Saving csv poses!\n",
      "Starting to analyze %  D:\\Sidevideos\\AR30MOTOR\\2022_01_31\\9EYE.avi\n",
      "Loading  D:\\Sidevideos\\AR30MOTOR\\2022_01_31\\9EYE.avi\n",
      "Duration of video [s]:  12.5 , recorded with  40.0 fps!\n",
      "Overall # of frames:  500  found with (before cropping) frame dimensions:  200 200\n",
      "Starting to extract posture\n",
      "Cropping based on the x1 = 60 x2 = 150 y1 = 60 y2 = 150. You can adjust the cropping coordinates in the config.yaml file.\n"
     ]
    },
    {
     "name": "stderr",
     "output_type": "stream",
     "text": [
      "510it [00:01, 321.00it/s]                                                                                              \n"
     ]
    },
    {
     "name": "stdout",
     "output_type": "stream",
     "text": [
      "Saving results in D:\\Sidevideos\\AR30MOTOR\\2022_01_31...\n",
      "Saving csv poses!\n",
      "The videos are analyzed. Now your research can truly start! \n",
      " You can create labeled videos with 'create_labeled_video'\n",
      "If the tracking is not satisfactory for some videos, consider expanding the training set. You can use the function 'extract_outlier_frames' to extract a few representative outlier frames.\n",
      "Filtering with median model D:\\Sidevideos\\AR30MOTOR\\2022_01_31\\0EYE.avi\n",
      "Saving filtered csv poses!\n",
      "Filtering with median model D:\\Sidevideos\\AR30MOTOR\\2022_01_31\\100EYE.avi\n",
      "Saving filtered csv poses!\n",
      "Filtering with median model D:\\Sidevideos\\AR30MOTOR\\2022_01_31\\101EYE.avi\n",
      "Saving filtered csv poses!\n",
      "Filtering with median model D:\\Sidevideos\\AR30MOTOR\\2022_01_31\\102EYE.avi\n",
      "Saving filtered csv poses!\n",
      "Filtering with median model D:\\Sidevideos\\AR30MOTOR\\2022_01_31\\103EYE.avi\n",
      "Saving filtered csv poses!\n",
      "Filtering with median model D:\\Sidevideos\\AR30MOTOR\\2022_01_31\\104EYE.avi\n",
      "Saving filtered csv poses!\n",
      "Filtering with median model D:\\Sidevideos\\AR30MOTOR\\2022_01_31\\105EYE.avi\n",
      "Saving filtered csv poses!\n",
      "Filtering with median model D:\\Sidevideos\\AR30MOTOR\\2022_01_31\\106EYE.avi\n",
      "Saving filtered csv poses!\n",
      "Filtering with median model D:\\Sidevideos\\AR30MOTOR\\2022_01_31\\107EYE.avi\n",
      "Saving filtered csv poses!\n",
      "Filtering with median model D:\\Sidevideos\\AR30MOTOR\\2022_01_31\\108EYE.avi\n",
      "Saving filtered csv poses!\n",
      "Filtering with median model D:\\Sidevideos\\AR30MOTOR\\2022_01_31\\109EYE.avi\n",
      "Saving filtered csv poses!\n",
      "Filtering with median model D:\\Sidevideos\\AR30MOTOR\\2022_01_31\\10EYE.avi\n",
      "Saving filtered csv poses!\n",
      "Filtering with median model D:\\Sidevideos\\AR30MOTOR\\2022_01_31\\110EYE.avi\n",
      "Saving filtered csv poses!\n",
      "Filtering with median model D:\\Sidevideos\\AR30MOTOR\\2022_01_31\\111EYE.avi\n",
      "Saving filtered csv poses!\n",
      "Filtering with median model D:\\Sidevideos\\AR30MOTOR\\2022_01_31\\112EYE.avi\n",
      "Saving filtered csv poses!\n",
      "Filtering with median model D:\\Sidevideos\\AR30MOTOR\\2022_01_31\\113EYE.avi\n",
      "Saving filtered csv poses!\n",
      "Filtering with median model D:\\Sidevideos\\AR30MOTOR\\2022_01_31\\114EYE.avi\n",
      "Saving filtered csv poses!\n",
      "Filtering with median model D:\\Sidevideos\\AR30MOTOR\\2022_01_31\\115EYE.avi\n",
      "Saving filtered csv poses!\n",
      "Filtering with median model D:\\Sidevideos\\AR30MOTOR\\2022_01_31\\116EYE.avi\n",
      "Saving filtered csv poses!\n",
      "Filtering with median model D:\\Sidevideos\\AR30MOTOR\\2022_01_31\\117EYE.avi\n",
      "Saving filtered csv poses!\n",
      "Filtering with median model D:\\Sidevideos\\AR30MOTOR\\2022_01_31\\118EYE.avi\n",
      "Saving filtered csv poses!\n",
      "Filtering with median model D:\\Sidevideos\\AR30MOTOR\\2022_01_31\\119EYE.avi\n",
      "Saving filtered csv poses!\n",
      "Filtering with median model D:\\Sidevideos\\AR30MOTOR\\2022_01_31\\11EYE.avi\n",
      "Saving filtered csv poses!\n",
      "Filtering with median model D:\\Sidevideos\\AR30MOTOR\\2022_01_31\\120EYE.avi\n",
      "Saving filtered csv poses!\n",
      "Filtering with median model D:\\Sidevideos\\AR30MOTOR\\2022_01_31\\121EYE.avi\n",
      "Saving filtered csv poses!\n",
      "Filtering with median model D:\\Sidevideos\\AR30MOTOR\\2022_01_31\\122EYE.avi\n",
      "Saving filtered csv poses!\n",
      "Filtering with median model D:\\Sidevideos\\AR30MOTOR\\2022_01_31\\123EYE.avi\n",
      "Saving filtered csv poses!\n",
      "Filtering with median model D:\\Sidevideos\\AR30MOTOR\\2022_01_31\\124EYE.avi\n",
      "Saving filtered csv poses!\n",
      "Filtering with median model D:\\Sidevideos\\AR30MOTOR\\2022_01_31\\125EYE.avi\n",
      "Saving filtered csv poses!\n",
      "Filtering with median model D:\\Sidevideos\\AR30MOTOR\\2022_01_31\\126EYE.avi\n",
      "Saving filtered csv poses!\n",
      "Filtering with median model D:\\Sidevideos\\AR30MOTOR\\2022_01_31\\127EYE.avi\n",
      "Saving filtered csv poses!\n",
      "Filtering with median model D:\\Sidevideos\\AR30MOTOR\\2022_01_31\\128EYE.avi\n",
      "Saving filtered csv poses!\n",
      "Filtering with median model D:\\Sidevideos\\AR30MOTOR\\2022_01_31\\129EYE.avi\n",
      "Saving filtered csv poses!\n",
      "Filtering with median model D:\\Sidevideos\\AR30MOTOR\\2022_01_31\\12EYE.avi\n",
      "Saving filtered csv poses!\n",
      "Filtering with median model D:\\Sidevideos\\AR30MOTOR\\2022_01_31\\130EYE.avi\n",
      "Saving filtered csv poses!\n",
      "Filtering with median model D:\\Sidevideos\\AR30MOTOR\\2022_01_31\\131EYE.avi\n",
      "Saving filtered csv poses!\n",
      "Filtering with median model D:\\Sidevideos\\AR30MOTOR\\2022_01_31\\132EYE.avi\n",
      "Saving filtered csv poses!\n",
      "Filtering with median model D:\\Sidevideos\\AR30MOTOR\\2022_01_31\\133EYE.avi\n",
      "Saving filtered csv poses!\n",
      "Filtering with median model D:\\Sidevideos\\AR30MOTOR\\2022_01_31\\134EYE.avi\n",
      "Saving filtered csv poses!\n",
      "Filtering with median model D:\\Sidevideos\\AR30MOTOR\\2022_01_31\\135EYE.avi\n",
      "Saving filtered csv poses!\n",
      "Filtering with median model D:\\Sidevideos\\AR30MOTOR\\2022_01_31\\136EYE.avi\n",
      "Saving filtered csv poses!\n",
      "Filtering with median model D:\\Sidevideos\\AR30MOTOR\\2022_01_31\\137EYE.avi\n",
      "Saving filtered csv poses!\n",
      "Filtering with median model D:\\Sidevideos\\AR30MOTOR\\2022_01_31\\138EYE.avi\n",
      "Saving filtered csv poses!\n",
      "Filtering with median model D:\\Sidevideos\\AR30MOTOR\\2022_01_31\\13EYE.avi\n",
      "Saving filtered csv poses!\n",
      "Filtering with median model D:\\Sidevideos\\AR30MOTOR\\2022_01_31\\14EYE.avi\n",
      "Saving filtered csv poses!\n",
      "Filtering with median model D:\\Sidevideos\\AR30MOTOR\\2022_01_31\\15EYE.avi\n",
      "Saving filtered csv poses!\n",
      "Filtering with median model D:\\Sidevideos\\AR30MOTOR\\2022_01_31\\16EYE.avi\n",
      "Saving filtered csv poses!\n",
      "Filtering with median model D:\\Sidevideos\\AR30MOTOR\\2022_01_31\\17EYE.avi\n",
      "Saving filtered csv poses!\n",
      "Filtering with median model D:\\Sidevideos\\AR30MOTOR\\2022_01_31\\18EYE.avi\n",
      "Saving filtered csv poses!\n",
      "Filtering with median model D:\\Sidevideos\\AR30MOTOR\\2022_01_31\\19EYE.avi\n",
      "Saving filtered csv poses!\n",
      "Filtering with median model D:\\Sidevideos\\AR30MOTOR\\2022_01_31\\1EYE.avi\n",
      "Saving filtered csv poses!\n",
      "Filtering with median model D:\\Sidevideos\\AR30MOTOR\\2022_01_31\\20EYE.avi\n",
      "Saving filtered csv poses!\n",
      "Filtering with median model D:\\Sidevideos\\AR30MOTOR\\2022_01_31\\21EYE.avi\n",
      "Saving filtered csv poses!\n",
      "Filtering with median model D:\\Sidevideos\\AR30MOTOR\\2022_01_31\\22EYE.avi\n",
      "Saving filtered csv poses!\n",
      "Filtering with median model D:\\Sidevideos\\AR30MOTOR\\2022_01_31\\23EYE.avi\n",
      "Saving filtered csv poses!\n",
      "Filtering with median model D:\\Sidevideos\\AR30MOTOR\\2022_01_31\\24EYE.avi\n",
      "Saving filtered csv poses!\n",
      "Filtering with median model D:\\Sidevideos\\AR30MOTOR\\2022_01_31\\25EYE.avi\n",
      "Saving filtered csv poses!\n",
      "Filtering with median model D:\\Sidevideos\\AR30MOTOR\\2022_01_31\\26EYE.avi\n",
      "Saving filtered csv poses!\n",
      "Filtering with median model D:\\Sidevideos\\AR30MOTOR\\2022_01_31\\27EYE.avi\n",
      "Saving filtered csv poses!\n",
      "Filtering with median model D:\\Sidevideos\\AR30MOTOR\\2022_01_31\\28EYE.avi\n",
      "Saving filtered csv poses!\n",
      "Filtering with median model D:\\Sidevideos\\AR30MOTOR\\2022_01_31\\29EYE.avi\n",
      "Saving filtered csv poses!\n",
      "Filtering with median model D:\\Sidevideos\\AR30MOTOR\\2022_01_31\\2EYE.avi\n",
      "Saving filtered csv poses!\n",
      "Filtering with median model D:\\Sidevideos\\AR30MOTOR\\2022_01_31\\30EYE.avi\n",
      "Saving filtered csv poses!\n",
      "Filtering with median model D:\\Sidevideos\\AR30MOTOR\\2022_01_31\\31EYE.avi\n",
      "Saving filtered csv poses!\n",
      "Filtering with median model D:\\Sidevideos\\AR30MOTOR\\2022_01_31\\32EYE.avi\n",
      "Saving filtered csv poses!\n",
      "Filtering with median model D:\\Sidevideos\\AR30MOTOR\\2022_01_31\\33EYE.avi\n",
      "Saving filtered csv poses!\n",
      "Filtering with median model D:\\Sidevideos\\AR30MOTOR\\2022_01_31\\34EYE.avi\n",
      "Saving filtered csv poses!\n",
      "Filtering with median model D:\\Sidevideos\\AR30MOTOR\\2022_01_31\\35EYE.avi\n",
      "Saving filtered csv poses!\n",
      "Filtering with median model D:\\Sidevideos\\AR30MOTOR\\2022_01_31\\36EYE.avi\n",
      "Saving filtered csv poses!\n",
      "Filtering with median model D:\\Sidevideos\\AR30MOTOR\\2022_01_31\\37EYE.avi\n",
      "Saving filtered csv poses!\n",
      "Filtering with median model D:\\Sidevideos\\AR30MOTOR\\2022_01_31\\38EYE.avi\n",
      "Saving filtered csv poses!\n",
      "Filtering with median model D:\\Sidevideos\\AR30MOTOR\\2022_01_31\\39EYE.avi\n",
      "Saving filtered csv poses!\n",
      "Filtering with median model D:\\Sidevideos\\AR30MOTOR\\2022_01_31\\3EYE.avi\n",
      "Saving filtered csv poses!\n",
      "Filtering with median model D:\\Sidevideos\\AR30MOTOR\\2022_01_31\\40EYE.avi\n",
      "Saving filtered csv poses!\n",
      "Filtering with median model D:\\Sidevideos\\AR30MOTOR\\2022_01_31\\41EYE.avi\n",
      "Saving filtered csv poses!\n",
      "Filtering with median model D:\\Sidevideos\\AR30MOTOR\\2022_01_31\\42EYE.avi\n",
      "Saving filtered csv poses!\n",
      "Filtering with median model D:\\Sidevideos\\AR30MOTOR\\2022_01_31\\43EYE.avi\n",
      "Saving filtered csv poses!\n",
      "Filtering with median model D:\\Sidevideos\\AR30MOTOR\\2022_01_31\\44EYE.avi\n",
      "Saving filtered csv poses!\n",
      "Filtering with median model D:\\Sidevideos\\AR30MOTOR\\2022_01_31\\45EYE.avi\n",
      "Saving filtered csv poses!\n",
      "Filtering with median model D:\\Sidevideos\\AR30MOTOR\\2022_01_31\\46EYE.avi\n",
      "Saving filtered csv poses!\n",
      "Filtering with median model D:\\Sidevideos\\AR30MOTOR\\2022_01_31\\47EYE.avi\n"
     ]
    },
    {
     "name": "stdout",
     "output_type": "stream",
     "text": [
      "Saving filtered csv poses!\n",
      "Filtering with median model D:\\Sidevideos\\AR30MOTOR\\2022_01_31\\48EYE.avi\n",
      "Saving filtered csv poses!\n",
      "Filtering with median model D:\\Sidevideos\\AR30MOTOR\\2022_01_31\\49EYE.avi\n",
      "Saving filtered csv poses!\n",
      "Filtering with median model D:\\Sidevideos\\AR30MOTOR\\2022_01_31\\4EYE.avi\n",
      "Saving filtered csv poses!\n",
      "Filtering with median model D:\\Sidevideos\\AR30MOTOR\\2022_01_31\\50EYE.avi\n",
      "Saving filtered csv poses!\n",
      "Filtering with median model D:\\Sidevideos\\AR30MOTOR\\2022_01_31\\51EYE.avi\n",
      "Saving filtered csv poses!\n",
      "Filtering with median model D:\\Sidevideos\\AR30MOTOR\\2022_01_31\\52EYE.avi\n",
      "Saving filtered csv poses!\n",
      "Filtering with median model D:\\Sidevideos\\AR30MOTOR\\2022_01_31\\53EYE.avi\n",
      "Saving filtered csv poses!\n",
      "Filtering with median model D:\\Sidevideos\\AR30MOTOR\\2022_01_31\\54EYE.avi\n",
      "Saving filtered csv poses!\n",
      "Filtering with median model D:\\Sidevideos\\AR30MOTOR\\2022_01_31\\55EYE.avi\n",
      "Saving filtered csv poses!\n",
      "Filtering with median model D:\\Sidevideos\\AR30MOTOR\\2022_01_31\\56EYE.avi\n",
      "Saving filtered csv poses!\n",
      "Filtering with median model D:\\Sidevideos\\AR30MOTOR\\2022_01_31\\57EYE.avi\n",
      "Saving filtered csv poses!\n",
      "Filtering with median model D:\\Sidevideos\\AR30MOTOR\\2022_01_31\\58EYE.avi\n",
      "Saving filtered csv poses!\n",
      "Filtering with median model D:\\Sidevideos\\AR30MOTOR\\2022_01_31\\59EYE.avi\n",
      "Saving filtered csv poses!\n",
      "Filtering with median model D:\\Sidevideos\\AR30MOTOR\\2022_01_31\\5EYE.avi\n",
      "Saving filtered csv poses!\n",
      "Filtering with median model D:\\Sidevideos\\AR30MOTOR\\2022_01_31\\60EYE.avi\n",
      "Saving filtered csv poses!\n",
      "Filtering with median model D:\\Sidevideos\\AR30MOTOR\\2022_01_31\\61EYE.avi\n",
      "Saving filtered csv poses!\n",
      "Filtering with median model D:\\Sidevideos\\AR30MOTOR\\2022_01_31\\62EYE.avi\n",
      "Saving filtered csv poses!\n",
      "Filtering with median model D:\\Sidevideos\\AR30MOTOR\\2022_01_31\\63EYE.avi\n",
      "Saving filtered csv poses!\n",
      "Filtering with median model D:\\Sidevideos\\AR30MOTOR\\2022_01_31\\64EYE.avi\n",
      "Saving filtered csv poses!\n",
      "Filtering with median model D:\\Sidevideos\\AR30MOTOR\\2022_01_31\\65EYE.avi\n",
      "Saving filtered csv poses!\n",
      "Filtering with median model D:\\Sidevideos\\AR30MOTOR\\2022_01_31\\66EYE.avi\n",
      "Saving filtered csv poses!\n",
      "Filtering with median model D:\\Sidevideos\\AR30MOTOR\\2022_01_31\\67EYE.avi\n",
      "Saving filtered csv poses!\n",
      "Filtering with median model D:\\Sidevideos\\AR30MOTOR\\2022_01_31\\68EYE.avi\n",
      "Saving filtered csv poses!\n",
      "Filtering with median model D:\\Sidevideos\\AR30MOTOR\\2022_01_31\\69EYE.avi\n",
      "Saving filtered csv poses!\n",
      "Filtering with median model D:\\Sidevideos\\AR30MOTOR\\2022_01_31\\6EYE.avi\n",
      "Saving filtered csv poses!\n",
      "Filtering with median model D:\\Sidevideos\\AR30MOTOR\\2022_01_31\\70EYE.avi\n",
      "Saving filtered csv poses!\n",
      "Filtering with median model D:\\Sidevideos\\AR30MOTOR\\2022_01_31\\71EYE.avi\n",
      "Saving filtered csv poses!\n",
      "Filtering with median model D:\\Sidevideos\\AR30MOTOR\\2022_01_31\\72EYE.avi\n",
      "Saving filtered csv poses!\n",
      "Filtering with median model D:\\Sidevideos\\AR30MOTOR\\2022_01_31\\73EYE.avi\n",
      "Saving filtered csv poses!\n",
      "Filtering with median model D:\\Sidevideos\\AR30MOTOR\\2022_01_31\\74EYE.avi\n",
      "Saving filtered csv poses!\n",
      "Filtering with median model D:\\Sidevideos\\AR30MOTOR\\2022_01_31\\75EYE.avi\n",
      "Saving filtered csv poses!\n",
      "Filtering with median model D:\\Sidevideos\\AR30MOTOR\\2022_01_31\\76EYE.avi\n",
      "Saving filtered csv poses!\n",
      "Filtering with median model D:\\Sidevideos\\AR30MOTOR\\2022_01_31\\77EYE.avi\n",
      "Saving filtered csv poses!\n",
      "Filtering with median model D:\\Sidevideos\\AR30MOTOR\\2022_01_31\\78EYE.avi\n",
      "Saving filtered csv poses!\n",
      "Filtering with median model D:\\Sidevideos\\AR30MOTOR\\2022_01_31\\79EYE.avi\n",
      "Saving filtered csv poses!\n",
      "Filtering with median model D:\\Sidevideos\\AR30MOTOR\\2022_01_31\\7EYE.avi\n",
      "Saving filtered csv poses!\n",
      "Filtering with median model D:\\Sidevideos\\AR30MOTOR\\2022_01_31\\80EYE.avi\n",
      "Saving filtered csv poses!\n",
      "Filtering with median model D:\\Sidevideos\\AR30MOTOR\\2022_01_31\\81EYE.avi\n",
      "Saving filtered csv poses!\n",
      "Filtering with median model D:\\Sidevideos\\AR30MOTOR\\2022_01_31\\82EYE.avi\n",
      "Saving filtered csv poses!\n",
      "Filtering with median model D:\\Sidevideos\\AR30MOTOR\\2022_01_31\\83EYE.avi\n",
      "Saving filtered csv poses!\n",
      "Filtering with median model D:\\Sidevideos\\AR30MOTOR\\2022_01_31\\84EYE.avi\n",
      "Saving filtered csv poses!\n",
      "Filtering with median model D:\\Sidevideos\\AR30MOTOR\\2022_01_31\\85EYE.avi\n",
      "Saving filtered csv poses!\n",
      "Filtering with median model D:\\Sidevideos\\AR30MOTOR\\2022_01_31\\86EYE.avi\n",
      "Saving filtered csv poses!\n",
      "Filtering with median model D:\\Sidevideos\\AR30MOTOR\\2022_01_31\\87EYE.avi\n",
      "Saving filtered csv poses!\n",
      "Filtering with median model D:\\Sidevideos\\AR30MOTOR\\2022_01_31\\88EYE.avi\n",
      "Saving filtered csv poses!\n",
      "Filtering with median model D:\\Sidevideos\\AR30MOTOR\\2022_01_31\\89EYE.avi\n",
      "Saving filtered csv poses!\n",
      "Filtering with median model D:\\Sidevideos\\AR30MOTOR\\2022_01_31\\8EYE.avi\n",
      "Saving filtered csv poses!\n",
      "Filtering with median model D:\\Sidevideos\\AR30MOTOR\\2022_01_31\\90EYE.avi\n",
      "Saving filtered csv poses!\n",
      "Filtering with median model D:\\Sidevideos\\AR30MOTOR\\2022_01_31\\91EYE.avi\n",
      "Saving filtered csv poses!\n",
      "Filtering with median model D:\\Sidevideos\\AR30MOTOR\\2022_01_31\\92EYE.avi\n",
      "Saving filtered csv poses!\n",
      "Filtering with median model D:\\Sidevideos\\AR30MOTOR\\2022_01_31\\93EYE.avi\n",
      "Saving filtered csv poses!\n",
      "Filtering with median model D:\\Sidevideos\\AR30MOTOR\\2022_01_31\\94EYE.avi\n",
      "Saving filtered csv poses!\n",
      "Filtering with median model D:\\Sidevideos\\AR30MOTOR\\2022_01_31\\95EYE.avi\n",
      "Saving filtered csv poses!\n",
      "Filtering with median model D:\\Sidevideos\\AR30MOTOR\\2022_01_31\\96EYE.avi\n",
      "Saving filtered csv poses!\n",
      "Filtering with median model D:\\Sidevideos\\AR30MOTOR\\2022_01_31\\97EYE.avi\n",
      "Saving filtered csv poses!\n",
      "Filtering with median model D:\\Sidevideos\\AR30MOTOR\\2022_01_31\\98EYE.avi\n",
      "Saving filtered csv poses!\n",
      "Filtering with median model D:\\Sidevideos\\AR30MOTOR\\2022_01_31\\99EYE.avi\n",
      "Saving filtered csv poses!\n",
      "Filtering with median model D:\\Sidevideos\\AR30MOTOR\\2022_01_31\\9EYE.avi\n",
      "Saving filtered csv poses!\n"
     ]
    }
   ],
   "source": [
    "\n",
    "#path_config_file = 'D:\\\\rat_movies_SC\\\\ar19muscimol\\\\10_10_2019\\\\ar19muscimol10-10-19_LR_R-Arash-2020-02-28\\\\config.yaml';\n",
    "#path_config_file = 'D:\\\\rat_movies_SC\\\\ar19muscimol\\\\10_10_2019\\\\ar19muscimol10-10-19_LR_L-Arash-2020-03-01\\\\config.yaml';\n",
    "#path_config_file = 'E:\\\\movies\\\\ar2breathing\\\\10_08_19\\\\ar2breathing_10_08_19-Arash-2020-03-26\\\\config.yaml'\n",
    "#path_config_file = 'E:\\\\movies\\\\ar2breathing\\\\10_08_19\\\\ar2breathing_10_08_19LR_R-Arash-2020-04-30\\\\config.yaml'\n",
    "#path_config_file = 'D:\\\\videos\\\\ar21\\\\2020-07-06\\\\ar21_07_06_20Face2-Arash-2020-07-07\\\\config.yaml';\n",
    "#path_config_file = 'D:\\\\Dropbox\\\\Notebook\\\\ar19_09_15_20Face3-Arash-2020-09-16\\\\config.yaml';\n",
    "#path_config_file = 'D:\\\\Dropbox\\\\Notebook\\\\ar19_09_15_20Face3-Arash-2020-09-16\\\\config.yaml';\n",
    "#path_config_file = 'D:\\\\videos\\\\ar32\\\\2020_10_09\\\\ar32_10_09_20Face3-Arash-2020-10-10\\\\config.yaml';\n",
    "#path_config_file = 'D:\\\\videos\\\\ar30\\\\ar30_10_11_04-Arash-2020-11-05\\\\config.yaml';\n",
    "#path_config_file = 'D:\\\\videos\\\\ar32\\\\ar32_10_11_24-Arash-2020-11-25\\\\config.yaml';\n",
    "\n",
    "import os\n",
    "#path_config_file = 'D:\\\\notebook\\\\ar30_10_10_14spouts-Arash-2020-10-24\\\\config.yaml';\n",
    "Mainfolder = 'E:\\\\movies\\\\ar2breathing\\\\10_06_19'\n",
    "Mainfolder = 'D:\\\\rat_movies_SC\\\\ar19muscimol\\\\10_10_2019'\n",
    "Mainfolder = 'D:\\\\rat_movies_SC\\\\ar19tear19salin\\\\10_08_19'\n",
    "Mainfolder = 'E:\\\\movies\\\\MUSCIMOL\\\\ar19tear19salin\\\\10_08_19'\n",
    "Mainfolder = 'D:\\\\videos\\\\ar32\\\\2020_11_24'\n",
    "Mainfolder = 'D:\\\\Sidevideos\\\\ar30motor\\\\2021_07_09'\n",
    "Mainfolder = 'D:\\Sidevideos\\\\AR30MOTOR\\\\2022_01_31'\n",
    "\n",
    "\n",
    "text_files = [os.path.join(Mainfolder,f) for f in os.listdir(Mainfolder) if f.endswith('EYE.avi') and not f.endswith('L.avi') and not f.endswith('R.avi') and not f.endswith('videopoints.avi') and not f.endswith('videopoints.avi')]\n",
    "#text_files = [os.path.join(Mainfolder,f) for f in os.listdir(Mainfolder) if f.endswith('R.avi') and not f.endswith('L.avi') and not f.endswith('videopoints.avi') and not f.endswith('videopoints.avi')]\n",
    "#text_files = [os.path.join(Mainfolder,f) for f in os.listdir(Mainfolder) if f.endswith('L.avi') and not f.endswith('R.avi') and not f.endswith('videopoints.avi') and not f.endswith('videopoints.avi')]\n",
    "\n",
    "#text_files = [os.path.join(Mainfolder,f) for f in os.listdir(Mainfolder) if f.endswith('.mp4') and not f.endswith('L.avi') and not f.endswith('R.avi') and not f.endswith('videopoints.avi') and not f.endswith('videopoints.avi')]\n",
    "\n",
    "#path_config_file = 'F:\\\\ar19muscimol500ug500nlrightside\\\\10_10_19\\\\ar19_10102019-Fassihi-2019-11-12\\\\config.yaml';\n",
    "\n",
    "\n",
    "#path_config_file = 'D:\\\\rat_movies_SC\\\\ar19muscimol\\\\10_10_2019\\\\ar19muscimol10-10-19_LR_L-Arash-2020-03-01\\\\config.yaml'\n",
    "##text_files = ['']\n",
    "#text_files = 'E:\\\\movies\\\\ar2breathing\\\\10_08_19\\\\20-18-27.avi'\n",
    "\n",
    "print(text_files[1])\n",
    "#deeplabcut.analyze_videos(path_config_file,text_files[1:len(text_files)],shuffle=1, save_as_csv=True)\n",
    "#deeplabcut.analyze_videos(path_config_file,text_files[3],shuffle=1, save_as_csv=True)\n",
    "deeplabcut.analyze_videos(path_config_file,text_files,shuffle=1, save_as_csv=True)\n",
    "deeplabcut.filterpredictions(path_config_file,text_files)\n"
   ]
  },
  {
   "cell_type": "markdown",
   "metadata": {},
   "source": [
    "## Track non tracked files\n"
   ]
  },
  {
   "cell_type": "code",
   "execution_count": null,
   "metadata": {},
   "outputs": [],
   "source": [
    "# Track non tracked files \n",
    "import os\n",
    "path_config_file = 'F:\\\\ar2breathing\\\\10_06_19\\\\ar2_10062019_ii-Fassihi-2019-10-07\\\\config.yaml';\n",
    "\n",
    "Mainfolder = 'Y:\\\\movies_Rat_SC_project\\\\ar2breathing\\\\10_06_19'\n",
    "text_files = [os.path.join(Mainfolder,f) for f in os.listdir(Mainfolder) if f.endswith('.avi') and not f.endswith('L.avi') and not f.endswith('R.avi') and not f.endswith('videopoints.avi') and not f.endswith('breathing.avi')]\n",
    "text_files2 = [os.path.join(Mainfolder,f) for f in os.listdir(Mainfolder) if f.endswith('L.avi') ]\n",
    "#print(text_files)\n",
    "#%whos\n",
    "\n",
    "text_files3 = [f.replace(\"L.\", \".\") for f in text_files2 ]\n",
    "one_not_two = set(text_files) - set(text_files3)\n",
    "one_not_two = 'Y:\\\\movies_Rat_SC_project\\\\ar2breathing\\\\10_06_19\\\\22-25-05.avi'\n",
    "print(one_not_two)\n",
    "deeplabcut.analyze_videos(path_config_file,one_not_two,shuffle=1, save_as_csv=True)"
   ]
  },
  {
   "cell_type": "markdown",
   "metadata": {},
   "source": [
    "# Track Tracklets and then filter for multiple animals (maybe whiskers)"
   ]
  },
  {
   "cell_type": "code",
   "execution_count": null,
   "metadata": {},
   "outputs": [],
   "source": [
    "Mainfolder = 'D:\\\\videos\\\\ar21\\\\2020_07_08\\\\'\n",
    "import os\n",
    "\n",
    "text_files = [os.path.join(Mainfolder,f) for f in os.listdir(Mainfolder) if f.endswith('.avi') and not f.endswith('L.avi') and not f.endswith('R.avi') and not f.endswith('videopoints.avi') and not f.endswith('videopoints.avi')]\n",
    "print(text_files)\n",
    "deeplabcut.convert_detections2tracklets(path_config_file, text_files, videotype='avi',\n",
    "                                                    shuffle=1, trainingsetindex=0, track_method='skeleton')\n"
   ]
  },
  {
   "cell_type": "code",
   "execution_count": null,
   "metadata": {},
   "outputs": [],
   "source": [
    "deeplabcut.refine_tracklets(path_config_file, pickle_or_h5_file, videofile_path, min_swap_len=2, min_tracklet_len=2, trail_len=50)\n"
   ]
  },
  {
   "cell_type": "markdown",
   "metadata": {},
   "source": [
    "# filter the results using median model\n"
   ]
  },
  {
   "cell_type": "raw",
   "metadata": {},
   "source": [
    "deeplabcut.filterpredictions(path_config_file,text_files)\n"
   ]
  },
  {
   "cell_type": "markdown",
   "metadata": {},
   "source": [
    "# plot trajectories"
   ]
  },
  {
   "cell_type": "code",
   "execution_count": null,
   "metadata": {},
   "outputs": [],
   "source": [
    "deeplabcut.plot_trajectories(path_config_file,text_files,filtered = True)\n"
   ]
  },
  {
   "cell_type": "markdown",
   "metadata": {
    "colab_type": "text",
    "id": "pCrUvQIvoEKD"
   },
   "source": [
    "## Create labeled video\n",
    "This funtion is for visualiztion purpose and can be used to create a video in .mp4 format with labels predicted by the network. This video is saved in the same directory where the original video resides. "
   ]
  },
  {
   "cell_type": "code",
   "execution_count": 35,
   "metadata": {
    "colab": {},
    "colab_type": "code",
    "id": "6aDF7Q7KoEKE",
    "scrolled": true
   },
   "outputs": [
    {
     "name": "stdout",
     "output_type": "stream",
     "text": [
      "D:\\Sidevideos\\AR35MOTOR\\2022_01_27\\labled\\100EYE.avi\n"
     ]
    }
   ],
   "source": [
    "# first we create a vector of destination file names\n",
    "import os \n",
    "\n",
    "dirname = os.path.dirname(text_files[1]) \n",
    "\n",
    "thesenames= [os.path.basename(f)  for f in text_files] \n",
    "text_files2 = [os.path.join( os.path.join(os.path.dirname(text_files[1]),'labled'),f) for f in thesenames ]  \n",
    "\n",
    "#os.mkdir\n",
    "if not (os.path.isdir(os.path.join(os.path.dirname(text_files[1]),'labled'))):\n",
    " os.mkdir(os.path.join(os.path.dirname(text_files[1]),'labled'))\n",
    "# Print the directory name   \n",
    "print(text_files2[1]) \n",
    "#for f in text_files:\n",
    "\n",
    "#deeplabcut.create_labeled_video(path_config_file,videofile,save_frames=True) # my_new_list was created in prevouse cell as all videos in the folder \n",
    "deeplabcut.create_labeled_video(path_config_file,[text_files[2]],save_frames=True)\n",
    "  "
   ]
  },
  {
   "cell_type": "markdown",
   "metadata": {
    "colab_type": "text",
    "id": "iGu_PdTWoEJr"
   },
   "source": [
    "## Extract outlier frames [This is important step actually]\n",
    "This is an optional step and is used only when the evaluation results are poor i.e. the labels are incorrectly predicted. In such a case, the user can use the following function to extract frames where the labels are incorrectly predicted. Make sure to provide the correct value of the \"iterations\" as it will be used to create the unique directory where the extracted frames will be saved."
   ]
  },
  {
   "cell_type": "code",
   "execution_count": null,
   "metadata": {},
   "outputs": [],
   "source": [
    "#video=['D:\\\\rat_movies_SC\\\\ar17record\\\\02_27_19\\\\analyzed\\\\18-37-27.avi']\n",
    "#video=['D:\\\\rat_movies_SC\\\\ar15record\\\\02_27_19\\\\17-33-50video.mp4']\n",
    "#video=['D:\\\\Dropbox\\\\ar17\\\\02_25_19\\\\22-37-23.avi']\n",
    "video = ['D:\\\\movies_Rat_SC_project\\\\ar1\\\\05_24_19\\\\11-09-14.avi']\n",
    "video = ['D:\\\\movies_Rat_SC_project\\\\ar20\\\\06_20_19\\\\17-19-45.avi','D:\\\\movies_Rat_SC_project\\\\ar20\\\\06_20_19\\\\17-31-05.avi','D:\\\\movies_Rat_SC_project\\\\ar20\\\\06_20_19\\\\17-30-40.avi']\n",
    "#15-17-08v\n",
    "video = ['D:\\\\rat_movies_SC\\\\ar19tear19salin\\\\10_08_19\\\\00-27-18.avi','D:\\\\rat_movies_SC\\\\ar19tear19salin\\\\10_08_19\\\\00-24-47.avi']\n",
    "video = ['D:\\\\rat_movies_SC\\\\ar19tear19salin\\\\10_08_19\\\\00-24-26video.mp4']\n",
    "video = ['E:\\\\movies\\\\ar2breathing\\\\10_06_19\\\\21-57-55L.avi']\n",
    "video = text_files[0]\n",
    "\n",
    "#path_config_file = 'D:\\\\rat_movies_SC\\\\ar19muscimol\\\\10_10_2019\\\\ar19muscimol10-10-19_LR_L-Arash-2020-03-01\\\\config.yaml';\n",
    "\n",
    "#path_config_file = 'D:\\\\rat_movies_SC\\\\ar17record\\\\02_27_19\\\\sc_ar17record_02272019_3-Fassihi-2019-04-28\\\\config.yaml'\n",
    "#path_config_file = 'D:\\\\rat_movies_SC\\\\ar15record\\\\02_27_19\\\\sc_ar15record_02272019-Fassihi-2019-03-12\\\\config.yaml'\n",
    "#path_config_file = 'D:\\\\movies_Rat_SC_project\\\\ar1\\\\05_24_19\\\\sc_aa1_05242019-Fassihi-2019-05-30\\\\config.yaml' #Enter the path of the config file that was just created from the above step (check the folder)\n",
    "#path_config_file = 'D:\\\\movies_Rat_SC_project\\\\ar3\\\\06_07_19\\\\sc_aa3_06072019-Fassihi-2019-06-10\\\\config.yaml' #Enter the path of the config file that was just created from the above step (check the folder)\n",
    "#path_config_file = 'D:\\\\movies_Rat_SC_project\\\\ar14\\\\06_18_19\\\\sc_ar14_06182019-Fassihi-2019-06-19\\\\config.yaml' #Enter the path of the config file that was just created from the above step (check the folder)\n",
    "print(path_config_file)\n",
    "\n",
    "#deeplabcut.extract_outlier_frames(path_config_file,video,outlieralgorithm='uncertain',p_bound=.6)\n",
    "#deeplabcut.extract_outlier_frames(path_config_file,video,outlieralgorithm='uncertain',comparisonbodyparts =  ['nose','snout'],p_bound=.6)\n",
    "deeplabcut.extract_outlier_frames(path_config_file,video,outlieralgorithm='uncertain',p_bound=.9)\n",
    "\n"
   ]
  },
  {
   "cell_type": "code",
   "execution_count": null,
   "metadata": {},
   "outputs": [],
   "source": [
    "print(video[2])\n"
   ]
  },
  {
   "cell_type": "code",
   "execution_count": null,
   "metadata": {
    "colab": {},
    "colab_type": "code",
    "id": "gkbaBOJVoEJs"
   },
   "outputs": [],
   "source": [
    "\n",
    "path_config_file = 'D:\\\\rat_movies_SC\\\\ar19\\\\02_07_19\\\\sc_ar19_02072019-Fassihi4-2019-02-13\\\\config.yaml' #Enter the path of the config file that was just created from the above step (check the folder)\n",
    "\n",
    "import os\n",
    "Mainfolder = 'D:\\\\rat_movies_SC\\\\ar19\\\\02_07_19'\n",
    "\n",
    "\n",
    "f = os.listdir(Mainfolder)\n",
    "text_files = [f for f in os.listdir(Mainfolder) if f.endswith('.avi')]\n",
    "\n",
    "\n",
    "my_list = text_files\n",
    "thisApen = Mainfolder+'kir'\n",
    "thisApen = thisApen.replace(\"kir\", \"\\\\\")\n",
    "string = thisApen\n",
    "my_new_list = [ string + x for x in my_list]\n",
    "\n",
    "deeplabcut.extract_outlier_frames(path_config_file,my_new_list)"
   ]
  },
  {
   "cell_type": "markdown",
   "metadata": {
    "colab_type": "text",
    "id": "8ib0uvhaoEJx"
   },
   "source": [
    "## Refine Labels [optional step]\n",
    "Following the extraction of outlier frames, the user can use the following function to move the predicted labels to the correct location. Thus augmenting the training dataset."
   ]
  },
  {
   "cell_type": "code",
   "execution_count": null,
   "metadata": {
    "colab": {},
    "colab_type": "code",
    "id": "n_FpEXtyoEJy"
   },
   "outputs": [],
   "source": [
    "#path_config_file = 'D:\\\\movies_Rat_SC_project\\\\ar1\\\\05_24_19\\\\sc_aa1_05242019-Fassihi-2019-05-30\\\\config.yaml' #Enter the path of the config file that was just created from the above step (check the folder)\n",
    "#path_config_file = 'D:\\\\movies_Rat_SC_project\\\\ar3\\\\06_07_19\\\\sc_aa3_06072019-Fassihi-2019-06-10\\\\config.yaml' #Enter the path of the config file that was just created from the above step (check the folder)\n",
    "\n",
    "#import matplotlib\n",
    "#print(matplotlib.__version__)\n",
    "%gui wx\n",
    "#path_config_file = 'D:\\\\rat_movies_SC\\\\ar15record\\\\02_27_19\\\\sc_ar15record_02272019-Fassihi-2019-03-12\\\\config.yaml'\n",
    "#print(path_config_file)\n",
    "deeplabcut.refine_labels(path_config_file)"
   ]
  },
  {
   "cell_type": "code",
   "execution_count": null,
   "metadata": {
    "colab": {},
    "colab_type": "code",
    "id": "CHzstWr8oEJ2"
   },
   "outputs": [],
   "source": [
    "#Once all folders are relabeled, check them and advance. See how to check labels, above!\n",
    "#path_config_file = 'D:\\\\movies_Rat_SC_project\\\\ar1\\\\05_24_19\\\\sc_aa1_05242019-Fassihi-2019-05-30\\\\config.yaml' #Enter the path of the config file that was just created from the above step (check the folder)\n",
    "#path_config_file = 'D:\\\\movies_Rat_SC_project\\\\ar3\\\\06_07_19\\\\sc_aa3_06072019-Fassihi-2019-06-10\\\\config.yaml' #Enter the path of the config file that was just created from the above step (check the folder)\n",
    "\n",
    "deeplabcut.merge_datasets(path_config_file)"
   ]
  },
  {
   "cell_type": "markdown",
   "metadata": {
    "colab_type": "text",
    "id": "QCHj7qyboEJ6"
   },
   "source": [
    "## Create a new iteration of training dataset [optional step]\n",
    "Following the refine labels, append these frames to the original dataset to create a new iteration of training dataset."
   ]
  },
  {
   "cell_type": "code",
   "execution_count": null,
   "metadata": {
    "colab": {},
    "colab_type": "code",
    "id": "ytQoxIldoEJ7",
    "scrolled": true
   },
   "outputs": [],
   "source": [
    "list_of_ints = list(range(2))\n",
    "print(list_of_ints)\n",
    "deeplabcut.create_training_dataset(path_config_file,Shuffles= list_of_ints) ;"
   ]
  },
  {
   "cell_type": "markdown",
   "metadata": {
    "colab_type": "text",
    "id": "8GTiuJESoEKH"
   },
   "source": [
    "## Plot the trajectories of the analyzed videos (optional)\n",
    "This function plots the trajectories of all the body parts across the entire video. Each body part is identified by a unique color."
   ]
  },
  {
   "cell_type": "code",
   "execution_count": null,
   "metadata": {
    "colab": {},
    "colab_type": "code",
    "id": "gX21zZbXoEKJ"
   },
   "outputs": [],
   "source": [
    "%matplotlib notebook #for making interactive plots.\n",
    "deeplabcut.plot_trajectories(path_config_file,my_new_list)\n",
    "\n"
   ]
  }
 ],
 "metadata": {
  "accelerator": "GPU",
  "colab": {
   "name": "Demo-yourowndata.ipynb",
   "provenance": [],
   "version": "0.3.2"
  },
  "kernelspec": {
   "display_name": "Python 3",
   "language": "python",
   "name": "python3"
  },
  "language_info": {
   "codemirror_mode": {
    "name": "ipython",
    "version": 3
   },
   "file_extension": ".py",
   "mimetype": "text/x-python",
   "name": "python",
   "nbconvert_exporter": "python",
   "pygments_lexer": "ipython3",
   "version": "3.6.8"
  },
  "varInspector": {
   "cols": {
    "lenName": 16,
    "lenType": 16,
    "lenVar": 40
   },
   "kernels_config": {
    "python": {
     "delete_cmd_postfix": "",
     "delete_cmd_prefix": "del ",
     "library": "var_list.py",
     "varRefreshCmd": "print(var_dic_list())"
    },
    "r": {
     "delete_cmd_postfix": ") ",
     "delete_cmd_prefix": "rm(",
     "library": "var_list.r",
     "varRefreshCmd": "cat(var_dic_list()) "
    }
   },
   "types_to_exclude": [
    "module",
    "function",
    "builtin_function_or_method",
    "instance",
    "_Feature"
   ],
   "window_display": false
  }
 },
 "nbformat": 4,
 "nbformat_minor": 1
}
