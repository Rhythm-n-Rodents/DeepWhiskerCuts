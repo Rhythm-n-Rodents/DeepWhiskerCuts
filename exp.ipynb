{
 "cells": [
  {
   "cell_type": "code",
   "execution_count": 28,
   "metadata": {},
   "outputs": [],
   "source": [
    "from paramiko.client import SSHClient\n",
    "from paramiko import AutoAddPolicy\n",
    "from setting import side_view_computer_left,side_view_computer_right\n",
    "import os\n",
    "def run_command_on_server(server_config,cmd):\n",
    "    client = SSHClient()\n",
    "    client.set_missing_host_key_policy(AutoAddPolicy())\n",
    "    client.connect(server_config['ip'], username=server_config['user'], password=server_config['pwd'])\n",
    "    stdin, stdout, stderr = client.exec_command(cmd)\n",
    "    stdout, stderr = stdout.read().decode(), stderr.read().decode()\n",
    "    client.close()\n",
    "    return stdin, stdout, stderr\n",
    "\n",
    "def get_animal_folders_from_server(server_config):\n",
    "    stdin, folders, stderr = run_python_script(server_config,f\"{os.path.join(server_config['code_path'],'list_available_animal_folders.py')}\")\n",
    "    folders =eval(folders)\n",
    "    return folders\n",
    "\n",
    "def get_trial_folders_from_server(server_config,animal_folder):\n",
    "    stdin, folders, stderr = run_python_script(server_config,f\"{os.path.join(server_config['code_path'],f'list_available_trial_folders.py --folder {animal_folder}')}\")\n",
    "    folders =eval(folders)  \n",
    "    return folders\n",
    "\n",
    "def run_python_script(server_config,python_script_command):\n",
    "    return run_command_on_server(server_config,f\"{server_config['dlc_environment']} && python {python_script_command}\")\n",
    "\n",
    "def process_folder_on_server(server_config):\n",
    "    ..."
   ]
  },
  {
   "cell_type": "code",
   "execution_count": 29,
   "metadata": {},
   "outputs": [
    {
     "data": {
      "text/plain": [
       "['AR30MOTOR',\n",
       " 'Ar32MotorEye',\n",
       " 'AR34MOTOR',\n",
       " 'Ar34MotorEye',\n",
       " 'AR35MOTOR',\n",
       " 'Ar35MotorEye',\n",
       " 'ar37eye3d',\n",
       " 'ar37licking',\n",
       " 'ar37motor',\n",
       " 'ar38motor',\n",
       " 'ar38test',\n",
       " 'ar40motor',\n",
       " 'ar41',\n",
       " 'ar41motor',\n",
       " 'ar42',\n",
       " 'ar42licking',\n",
       " 'ar43licking',\n",
       " 'DLC',\n",
       " 'micelick',\n",
       " 'test']"
      ]
     },
     "execution_count": 29,
     "metadata": {},
     "output_type": "execute_result"
    }
   ],
   "source": [
    "files = get_folders_from_server(side_view_computer_right)\n",
    "files"
   ]
  },
  {
   "cell_type": "code",
   "execution_count": 31,
   "metadata": {},
   "outputs": [
    {
     "data": {
      "text/plain": [
       "['2022_11_04']"
      ]
     },
     "execution_count": 31,
     "metadata": {},
     "output_type": "execute_result"
    }
   ],
   "source": [
    "trials = get_trial_folders_from_server(side_view_computer_right,'ar42')\n",
    "trials"
   ]
  },
  {
   "cell_type": "code",
   "execution_count": 3,
   "metadata": {},
   "outputs": [
    {
     "data": {
      "text/plain": [
       "'activate dlc && python C:\\\\Users\\\\DKLAb\\\\DeepWhiskerCuts/process_experiment.py --path D:\\\\Sidevideos/Ar30motor'"
      ]
     },
     "execution_count": 3,
     "metadata": {},
     "output_type": "execute_result"
    }
   ],
   "source": [
    "server_config = side_view_computer_left\n",
    "folder = files[0]\n",
    "trial = trials[0]\n",
    "script_path = os.path.join(server_config['code_path'],'process_experiment.py')\n",
    "folder_path = os.path.join(server_config['data_path'],folder)\n",
    "cmd = f\"\"\"{server_config['dlc_environment']} && python {script_path} --path {folder_path}\"\"\"\n",
    "# stdin, out, stderr = run_command_on_server(server_config,f\"dir {server_config['data_path']}\")\n",
    "# out\n",
    "cmd"
   ]
  },
  {
   "cell_type": "code",
   "execution_count": null,
   "metadata": {},
   "outputs": [],
   "source": []
  },
  {
   "cell_type": "code",
   "execution_count": null,
   "metadata": {},
   "outputs": [],
   "source": []
  }
 ],
 "metadata": {
  "kernelspec": {
   "display_name": "Python 3.8.10 64-bit",
   "language": "python",
   "name": "python3"
  },
  "language_info": {
   "codemirror_mode": {
    "name": "ipython",
    "version": 3
   },
   "file_extension": ".py",
   "mimetype": "text/x-python",
   "name": "python",
   "nbconvert_exporter": "python",
   "pygments_lexer": "ipython3",
   "version": "3.8.10"
  },
  "orig_nbformat": 4,
  "vscode": {
   "interpreter": {
    "hash": "916dbcbb3f70747c44a77c7bcd40155683ae19c65e1c03b4aa3499c5328201f1"
   }
  }
 },
 "nbformat": 4,
 "nbformat_minor": 2
}
