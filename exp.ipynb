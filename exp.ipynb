{
 "cells": [
  {
   "cell_type": "code",
   "execution_count": 1,
   "metadata": {},
   "outputs": [],
   "source": [
    "import os\n",
    "from ProgressManager import ProgressManager,AnimalManager\n",
    "root_dir = '/net/dk-server/afassihizakeri/rightsidemovies/'\n",
    "dir = '/net/dk-server/afassihizakeri/rightsidemovies/ar38motor/2022_02_08'"
   ]
  },
  {
   "cell_type": "code",
   "execution_count": 2,
   "metadata": {},
   "outputs": [],
   "source": [
    "manager = ProgressManager(root_dir)"
   ]
  },
  {
   "cell_type": "code",
   "execution_count": 3,
   "metadata": {},
   "outputs": [
    {
     "name": "stdout",
     "output_type": "stream",
     "text": [
      "ar37motor\n",
      "2022_07_27_ 160702: has_full_resolution_video\n",
      "Ar32MotorEye\n",
      "2022_01_19_ 181802: has_full_resolution_video\n",
      "AR34MOTOR\n",
      "2022_01_24_ 201217: has_full_resolution_video\n",
      "2022_01_19_ 181348: has_full_resolution_video\n",
      "2022_01_27: has_eye_dlc_output\n",
      "2022_01_18_ 212205: has_full_resolution_video\n",
      "2022_01_20_ 193624: has_full_resolution_video\n",
      "2022_02_03: has_eye_dlc_output\n",
      "2022_01_20_ 193109: has_full_resolution_video\n",
      "2022_01_24_ 200413: has_full_resolution_video\n",
      "AR30MOTOR\n",
      "2022_01_24_ 175812: has_full_resolution_video\n",
      "ar38motor\n",
      "2022_02_08: has_filtered_eye_dlc_output\n",
      "2022_02_16: has_eye_video\n",
      "ar42licking\n",
      "2022_08_29: has_dlc_output\n",
      "ar42motor\n",
      "2022_11_04: has_filtered_eye_dlc_output\n",
      "Ar35MotorEye\n",
      "2022_01_18_ 202043: has_full_resolution_video\n",
      "2022_01_18_ 201047: has_full_resolution_video\n",
      "2022_01_20_ 204938: has_full_resolution_video\n"
     ]
    }
   ],
   "source": [
    "manager.print_project_brief()"
   ]
  },
  {
   "cell_type": "code",
   "execution_count": null,
   "metadata": {},
   "outputs": [],
   "source": []
  }
 ],
 "metadata": {
  "kernelspec": {
   "display_name": "Python 3.8.10 64-bit",
   "language": "python",
   "name": "python3"
  },
  "language_info": {
   "codemirror_mode": {
    "name": "ipython",
    "version": 3
   },
   "file_extension": ".py",
   "mimetype": "text/x-python",
   "name": "python",
   "nbconvert_exporter": "python",
   "pygments_lexer": "ipython3",
   "version": "3.8.10"
  },
  "orig_nbformat": 4,
  "vscode": {
   "interpreter": {
    "hash": "916dbcbb3f70747c44a77c7bcd40155683ae19c65e1c03b4aa3499c5328201f1"
   }
  }
 },
 "nbformat": 4,
 "nbformat_minor": 2
}
