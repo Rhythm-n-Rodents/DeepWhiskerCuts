{
 "cells": [
  {
   "cell_type": "code",
   "execution_count": 4,
   "metadata": {},
   "outputs": [],
   "source": [
    "from paramiko.client import SSHClient\n",
    "from paramiko import AutoAddPolicy\n",
    "from setting import side_view_computer_left,side_view_computer_right\n",
    "import os\n",
    "def run_command_on_server(server_config,cmd):\n",
    "    client = SSHClient()\n",
    "    client.set_missing_host_key_policy(AutoAddPolicy())\n",
    "    client.connect(server_config['ip'], username=server_config['user'], password=server_config['pwd'])\n",
    "    stdin, stdout, stderr = client.exec_command(cmd)\n",
    "    stdout, stderr = stdout.read().decode(), stderr.read().decode()\n",
    "    client.close()\n",
    "    return stdin, stdout, stderr\n",
    "\n",
    "def get_folders_from_server(server_config):\n",
    "    stdin, folders, stderr = run_command_on_server(server_config,f\"dir {server_config['data_path']}\")\n",
    "    folders = folders.split('    <DIR>          ')[3:]\n",
    "    folders = [i.split('\\r\\n')[0] for i in folders]\n",
    "    return folders\n",
    "\n",
    "def process_folder_on_server(server_config):\n",
    "    ..."
   ]
  },
  {
   "cell_type": "code",
   "execution_count": 5,
   "metadata": {},
   "outputs": [
    {
     "data": {
      "text/plain": [
       "'AR30MOTOR'"
      ]
     },
     "execution_count": 5,
     "metadata": {},
     "output_type": "execute_result"
    }
   ],
   "source": [
    "files = get_folders_from_server(side_view_computer_right)\n",
    "files[0]"
   ]
  },
  {
   "cell_type": "code",
   "execution_count": 3,
   "metadata": {},
   "outputs": [
    {
     "data": {
      "text/plain": [
       "'python C:\\\\Users\\\\dklab\\\\DeepWhiskerCuts/process_experiment.py --path D:\\\\Sidevideos/AR30MOTOR'"
      ]
     },
     "execution_count": 3,
     "metadata": {},
     "output_type": "execute_result"
    }
   ],
   "source": [
    "server_config = side_view_computer_right\n",
    "folder = files[0]\n",
    "script_path = os.path.join(server_config['code_path'],'process_experiment.py')\n",
    "folder_path = os.path.join(server_config['data_path'],folder)\n",
    "cmd = f\"\"\"python {script_path} --path {folder_path}\"\"\"\n",
    "# stdin, out, stderr = run_command_on_server(server_config,f\"dir {server_config['data_path']}\")\n",
    "# out\n",
    "cmd"
   ]
  },
  {
   "cell_type": "code",
   "execution_count": null,
   "metadata": {},
   "outputs": [],
   "source": []
  }
 ],
 "metadata": {
  "kernelspec": {
   "display_name": "Python 3.8.10 64-bit",
   "language": "python",
   "name": "python3"
  },
  "language_info": {
   "codemirror_mode": {
    "name": "ipython",
    "version": 3
   },
   "file_extension": ".py",
   "mimetype": "text/x-python",
   "name": "python",
   "nbconvert_exporter": "python",
   "pygments_lexer": "ipython3",
   "version": "3.8.10"
  },
  "orig_nbformat": 4,
  "vscode": {
   "interpreter": {
    "hash": "916dbcbb3f70747c44a77c7bcd40155683ae19c65e1c03b4aa3499c5328201f1"
   }
  }
 },
 "nbformat": 4,
 "nbformat_minor": 2
}
