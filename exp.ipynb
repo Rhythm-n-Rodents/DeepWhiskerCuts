{
 "cells": [
  {
   "cell_type": "code",
   "execution_count": 1,
   "metadata": {},
   "outputs": [
    {
     "name": "stderr",
     "output_type": "stream",
     "text": [
      "/usr/lib/python3/dist-packages/paramiko/transport.py:219: CryptographyDeprecationWarning: Blowfish has been deprecated\n",
      "  \"class\": algorithms.Blowfish,\n"
     ]
    }
   ],
   "source": [
    "from paramiko.client import SSHClient\n",
    "from paramiko import AutoAddPolicy\n",
    "from setting import side_view_computer_left,side_view_computer_right,top_view_computer\n",
    "import os\n",
    "from time import sleep\n",
    "def run_command_on_server(server_config,cmd):\n",
    "    client = SSHClient()\n",
    "    client.set_missing_host_key_policy(AutoAddPolicy())\n",
    "    client.connect(server_config['ip'], username=server_config['user'], password=server_config['pwd'])\n",
    "    stdin, stdout, stderr = client.exec_command(cmd)\n",
    "    stdout, stderr = stdout.read().decode(), stderr.read().decode()\n",
    "    client.close()\n",
    "    return stdin, stdout, stderr\n",
    "\n",
    "def get_animal_folders_from_server(server_config):\n",
    "    stdin, folders, stderr = run_python_script(server_config,'list_available_animal_folders.py')\n",
    "    folders =eval(folders)\n",
    "    return folders\n",
    "\n",
    "def get_trial_folders_from_server(server_config,animal_folder):\n",
    "    stdin, folders, stderr = run_python_script(server_config,f'list_available_trial_folders.py --folder {animal_folder}')\n",
    "    folders =eval(folders)  \n",
    "    return folders\n",
    "\n",
    "def run_python_script(server_config,python_script_command):\n",
    "    return run_command_on_server(server_config,f\"{server_config['dlc_environment']} && python {os.path.join(server_config['code_path'],python_script_command)}\")\n",
    "\n",
    "def process_folder_on_server(server_config,folder,trial):\n",
    "    stdin, folders, stderr = run_python_script(server_config,f'process_experiment.py --folder \"{folder}\" --trial \"{trial}\"')\n",
    "    print(folders)\n",
    "    return stdin, folders, stderr\n",
    "\n",
    "def pick_folder(folders,prompt):\n",
    "    for i in range(len(folders)):\n",
    "        print(f'{i+1}. {folders[i]}')\n",
    "    sleep(0.01)\n",
    "    folder = input(prompt)\n",
    "    folder = folders[int(folder)-1]\n",
    "    print(f'picked: {folder}')\n",
    "    return folder\n",
    "\n",
    "def start_remote_trials():\n",
    "    computers = [side_view_computer_left,side_view_computer_right,top_view_computer]\n",
    "    names = ['side_view_computer_left','side_view_computer_right','top_view_computer']\n",
    "    computers = dict(zip(names,computers))\n",
    "    for name,config in computers.items():\n",
    "        print(name)\n",
    "        files = get_animal_folders_from_server(side_view_computer_right)\n",
    "        animal = pick_folder(files,'Pick an animal')\n",
    "        trials = get_trial_folders_from_server(side_view_computer_right,animal)\n",
    "        trial = pick_folder(trials,'Pick a trial')\n",
    "        process_folder_on_server(config,animal,trial)"
   ]
  },
  {
   "cell_type": "code",
   "execution_count": 5,
   "metadata": {},
   "outputs": [
    {
     "data": {
      "text/plain": [
       "['AR19distance',\n",
       " 'ar21\\x820-07-06',\n",
       " 'ar30',\n",
       " 'ar30ightduration',\n",
       " 'ar30motor',\n",
       " 'ar31',\n",
       " 'ar32',\n",
       " 'ar32MotorEye',\n",
       " 'ar33',\n",
       " 'ar33record',\n",
       " 'ar34firstday',\n",
       " 'ar34lightduration',\n",
       " 'ar34motor',\n",
       " 'ar34MotorEye',\n",
       " 'ar34secondday',\n",
       " 'ar35firstday',\n",
       " 'ar35lightduration',\n",
       " 'ar35motor',\n",
       " 'ar35MotorEye',\n",
       " 'ar35secondday',\n",
       " 'ar38motor',\n",
       " 'ratbehaviorinfo (AutoRecovered).rtf',\n",
       " 'ratbehaviorinfo.rtf',\n",
       " '~$tbehaviorinfo (AutoRecovered).rtf',\n",
       " '~$tbehaviorinfo.rtf']"
      ]
     },
     "execution_count": 5,
     "metadata": {},
     "output_type": "execute_result"
    }
   ],
   "source": [
    "get_animal_folders_from_server(top_view_computer)"
   ]
  },
  {
   "cell_type": "code",
   "execution_count": null,
   "metadata": {},
   "outputs": [],
   "source": []
  }
 ],
 "metadata": {
  "kernelspec": {
   "display_name": "Python 3.8.10 64-bit",
   "language": "python",
   "name": "python3"
  },
  "language_info": {
   "codemirror_mode": {
    "name": "ipython",
    "version": 3
   },
   "file_extension": ".py",
   "mimetype": "text/x-python",
   "name": "python",
   "nbconvert_exporter": "python",
   "pygments_lexer": "ipython3",
   "version": "3.8.10"
  },
  "orig_nbformat": 4,
  "vscode": {
   "interpreter": {
    "hash": "916dbcbb3f70747c44a77c7bcd40155683ae19c65e1c03b4aa3499c5328201f1"
   }
  }
 },
 "nbformat": 4,
 "nbformat_minor": 2
}
